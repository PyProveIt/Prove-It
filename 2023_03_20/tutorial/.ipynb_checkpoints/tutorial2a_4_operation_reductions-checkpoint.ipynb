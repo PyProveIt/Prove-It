{
 "cells": [
  {
   "cell_type": "markdown",
   "metadata": {},
   "source": [
    "Chapter 2.a.iv.  Operation reductions\n",
    "=======\n",
    "\n",
    "**Operation** is the base class for most of the **Expression** classes defined in the **Prove-It** theory systems.  An **Operation** represents *operator(s)* acting upon *operand(s)*.  $1 + 5 - 1$, $1 < k \\leq l$, and $x_1 \\cdot \\ldots \\cdot x_n$ are a few examples of expressions that can be represented by classes derived from **Operation**.\n",
    "\n",
    "There are essentially two kinds of reduction rules specific to **Operation** expressions when the operation itself is to be replaced, rather than just its operator and/or operand(s):\n",
    "1. *Explicit operation replacement* is performed by replacing an operator with a **Lambda** expression.  In that case, the operation is replaced by the result of applying thislambda mapping to the operands (an internal beta reduction).  For example, $P(x, y)$ with $P:[(a, b) \\mapsto a+b]$ becomes $x + y$.\n",
    "2. *Implicit operation replacement* is performed by replacing an operator with a designated **Literal** operator of an **Operation** class.  In that case, the operation is replaced by one of that derived class rather than the **Operation** class. For example, $P(x, y)$ with $P:+$ becomes $x + y$ with the correct `Add` type rather than a generic **Operation** type."
   ]
  },
  {
   "cell_type": "code",
   "execution_count": 1,
   "metadata": {},
   "outputs": [],
   "source": [
    "import proveit\n",
    "%begin operation_reductions"
   ]
  },
  {
   "cell_type": "markdown",
   "metadata": {},
   "source": [
    "## Creating operation expressions\n",
    "\n",
    "Operation expressions come in various forms.  In any of its forms an **Operation** has two sub-expressions representing its *operator(s)* and *operand(s)* respectively.  Each of these may either be an **ExprTuple** or it represents a singular operator/operand.  There are two main types of formatting for an **Operation**, though any formatting rules may be defined by a class that derives from **Operation**.  These are *infix* and *function* formatting.\n",
    "\n",
    "The default formatting of an **Operation** class is *infix* notation. However, we cannot create an object of type **Operation**:"
   ]
  },
  {
   "cell_type": "code",
   "execution_count": 2,
   "metadata": {},
   "outputs": [
    {
     "name": "stdout",
     "output_type": "stream",
     "text": [
      "Expected error: Do not create an object of type Operation; use a derived class (e.g., Function) instead.\n"
     ]
    }
   ],
   "source": [
    "from proveit import Operation\n",
    "from proveit import a, b, c\n",
    "from proveit.numbers import Add\n",
    "\n",
    "try:\n",
    "    add_abc_opclass = Operation(Add._operator_, (a, b, c), styles={})\n",
    "    assert False\n",
    "except TypeError as e:\n",
    "    print(\"Expected error: %s\"%str(e))"
   ]
  },
  {
   "cell_type": "markdown",
   "metadata": {},
   "source": [
    "We must use a class derived from **Operation**:"
   ]
  },
  {
   "cell_type": "code",
   "execution_count": 1,
   "metadata": {},
   "outputs": [
    {
     "ename": "NameError",
     "evalue": "name 'Operation' is not defined",
     "output_type": "error",
     "traceback": [
      "\u001b[0;31m---------------------------------------------------------------------------\u001b[0m",
      "\u001b[0;31mNameError\u001b[0m                                 Traceback (most recent call last)",
      "\u001b[0;32m<ipython-input-1-2e7c68fd3fee>\u001b[0m in \u001b[0;36m<module>\u001b[0;34m\u001b[0m\n\u001b[0;32m----> 1\u001b[0;31m \u001b[0;32mclass\u001b[0m \u001b[0mMyOp\u001b[0m\u001b[0;34m(\u001b[0m\u001b[0mOperation\u001b[0m\u001b[0;34m)\u001b[0m\u001b[0;34m:\u001b[0m\u001b[0;34m\u001b[0m\u001b[0;34m\u001b[0m\u001b[0m\n\u001b[0m\u001b[1;32m      2\u001b[0m     \u001b[0;32mdef\u001b[0m \u001b[0m__init__\u001b[0m\u001b[0;34m(\u001b[0m\u001b[0mself\u001b[0m\u001b[0;34m,\u001b[0m \u001b[0;34m*\u001b[0m\u001b[0moperands\u001b[0m\u001b[0;34m,\u001b[0m \u001b[0mstyles\u001b[0m\u001b[0;34m=\u001b[0m\u001b[0;32mNone\u001b[0m\u001b[0;34m)\u001b[0m\u001b[0;34m:\u001b[0m\u001b[0;34m\u001b[0m\u001b[0;34m\u001b[0m\u001b[0m\n\u001b[1;32m      3\u001b[0m         \u001b[0mOperation\u001b[0m\u001b[0;34m.\u001b[0m\u001b[0m__init__\u001b[0m\u001b[0;34m(\u001b[0m\u001b[0mself\u001b[0m\u001b[0;34m,\u001b[0m \u001b[0mAdd\u001b[0m\u001b[0;34m.\u001b[0m\u001b[0m_operator_\u001b[0m\u001b[0;34m,\u001b[0m \u001b[0moperands\u001b[0m\u001b[0;34m,\u001b[0m \u001b[0mstyles\u001b[0m\u001b[0;34m=\u001b[0m\u001b[0mstyles\u001b[0m\u001b[0;34m)\u001b[0m\u001b[0;34m\u001b[0m\u001b[0;34m\u001b[0m\u001b[0m\n\u001b[1;32m      4\u001b[0m \u001b[0;34m\u001b[0m\u001b[0m\n\u001b[1;32m      5\u001b[0m \u001b[0madd_abc_opclass\u001b[0m \u001b[0;34m=\u001b[0m \u001b[0mMyOp\u001b[0m\u001b[0;34m(\u001b[0m\u001b[0ma\u001b[0m\u001b[0;34m,\u001b[0m \u001b[0mb\u001b[0m\u001b[0;34m,\u001b[0m \u001b[0mc\u001b[0m\u001b[0;34m)\u001b[0m\u001b[0;34m\u001b[0m\u001b[0;34m\u001b[0m\u001b[0m\n",
      "\u001b[0;31mNameError\u001b[0m: name 'Operation' is not defined"
     ]
    }
   ],
   "source": [
    "class MyOp(Operation):\n",
    "    def __init__(self, *operands, styles=None):\n",
    "        Operation.__init__(self, Add._operator_, operands, styles=styles)\n",
    "    \n",
    "add_abc_opclass = MyOp(a, b, c)\n",
    "print(\"To do this properly and be able to display the expression, the class needs to be \"\n",
    "      \"defined in its own module.\")"
   ]
  },
  {
   "cell_type": "markdown",
   "metadata": {},
   "source": [
    "Note, however, that this is not the proper way to create an expression representing $a+b+c$ because it is not of type `Add`, we just borrowed the **Literal** operator for the `Add` operation called `Add._operator_`."
   ]
  },
  {
   "cell_type": "code",
   "execution_count": 4,
   "metadata": {},
   "outputs": [
    {
     "data": {
      "text/plain": [
       "__main__.MyOp"
      ]
     },
     "metadata": {},
     "output_type": "display_data"
    }
   ],
   "source": [
    "add_abc_opclass.__class__"
   ]
  },
  {
   "cell_type": "markdown",
   "metadata": {},
   "source": [
    "Instead, we should use the `Add` constructor."
   ]
  },
  {
   "cell_type": "code",
   "execution_count": 5,
   "metadata": {},
   "outputs": [
    {
     "data": {
      "text/html": [
       "<strong id=\"add_abc\">add_abc:</strong> <a class=\"ProveItLink\" href=\"__pv_it/operation_reductions/de496ee2475985ca405037c773e5c371b35485f30/expr.ipynb\"><img src=\"data:image/png;base64,iVBORw0KGgoAAAANSUhEUgAAAFAAAAAQBAMAAABzZ+XyAAAAMFBMVEX////MzMwyMjKqqqoiIiJm\n",
       "ZmaYmJju7u5EREQQEBC6urqIiIh2dnZUVFTc3NwAAAAqL9KcAAAAAXRSTlMAQObYZgAAAAlwSFlz\n",
       "AAAOxAAADsQBlSsOGwAAAOxJREFUKM9jYMAA7J0ODMQBpgACCpZBaX4DKIMrAbtCayi9vgDKYN6A\n",
       "X+ERBqwK+e7s24CqUHf3ZTSFPLsTGRhWPuD4jqKQ/VNB/QMUhXzODBEM7NMYWB1QFDJ/Z+DcgKKQ\n",
       "5QDDbAbWDyCagSHExWWmi4svkMWqwMAPFGF1cfGc4uJyASgSD/IdZwND/QIUE4H61hugmDgDRNRv\n",
       "YMhH9TUwGOMLkBWy/wYrNGC4xPwARaEA0N0oJn4Dhj0DxwZmV1YUE3kTOAJQFUYwMBxkYL998O1G\n",
       "1OC5E4YW4DzHsguwxQwDA4EoXIYugJwoANoZPAotv220AAAAAElFTkSuQmCC\n",
       "\" style=\"display:inline;vertical-align:middle;\" /></a><br>"
      ],
      "text/plain": [
       "add_abc: a + b + c"
      ]
     },
     "execution_count": 5,
     "metadata": {},
     "output_type": "execute_result"
    }
   ],
   "source": [
    "add_abc = Add(a, b, c)"
   ]
  },
  {
   "cell_type": "code",
   "execution_count": 6,
   "metadata": {},
   "outputs": [
    {
     "data": {
      "text/plain": [
       "proveit.numbers.addition.add.Add"
      ]
     },
     "metadata": {},
     "output_type": "display_data"
    }
   ],
   "source": [
    "add_abc.__class__"
   ]
  },
  {
   "cell_type": "markdown",
   "metadata": {},
   "source": [
    "When you want *function* formatting, it is best to use the `Function` class that is derived from `Operation`:"
   ]
  },
  {
   "cell_type": "code",
   "execution_count": 7,
   "metadata": {},
   "outputs": [
    {
     "data": {
      "text/html": [
       "<a class=\"ProveItLink\" href=\"__pv_it/operation_reductions/150826301a1142eace30344ace67d559abc49f500/expr.ipynb\"><img src=\"data:image/png;base64,iVBORw0KGgoAAAANSUhEUgAAACkAAAAVBAMAAAAp9toTAAAAMFBMVEX///8yMjLc3NyIiIiYmJgi\n",
       "IiJERES6urqqqqoQEBDMzMxUVFTu7u52dnZmZmYAAAD1zdHuAAAAAXRSTlMAQObYZgAAAAlwSFlz\n",
       "AAAOxAAADsQBlSsOGwAAAP9JREFUGNNjYIADJiitwIAMLKB0MYTiu3sASHJcgIoyO4Cp2ysbgORB\n",
       "uCYZMDmjDKT2CVzUD0Sw/wGzJ8BFOUGKeANATA4BuCgj0GCWndEPQFYCLeMx3rP2BlDZBiCf3wCm\n",
       "gI/B2uApUB1Im/4CkCgr0B1ODP4HtgANA1nRD7GigIFhAcNDEJPrA5C4ChdlYJgMdhRIbTYDzAQG\n",
       "9k8MZ4AmBMDkGdgMGHjSuScwAJ3CkgAMqu9gUaBzOH6dm8DeAHEkxwewKFcAA89jgz4PkGFAK/g2\n",
       "QHwUBfebKgNDN2MDUpiAATCcwmAhyAaLAyagZc6PoByeBHRpMFCG0kYMDABPOTTtap08PAAAAABJ\n",
       "RU5ErkJggg==\n",
       "\" style=\"display:inline;vertical-align:middle;\" /></a>"
      ],
      "text/plain": [
       "f(x)"
      ]
     },
     "execution_count": 7,
     "metadata": {},
     "output_type": "execute_result"
    }
   ],
   "source": [
    "from proveit import Function\n",
    "from proveit import f, g, x, y, z\n",
    "Function(f, x)"
   ]
  },
  {
   "cell_type": "code",
   "execution_count": 8,
   "metadata": {},
   "outputs": [
    {
     "data": {
      "text/html": [
       "<a class=\"ProveItLink\" href=\"__pv_it/operation_reductions/87065bb714d258da6970b903b4ab7170e3ae577a0/expr.ipynb\"><img src=\"data:image/png;base64,iVBORw0KGgoAAAANSUhEUgAAAFEAAAAVBAMAAADMaB9/AAAAMFBMVEX///8yMjLc3NyIiIiYmJgi\n",
       "IiJERES6urqqqqoQEBDMzMxUVFTu7u52dnZmZmYAAAD1zdHuAAAAAXRSTlMAQObYZgAAAAlwSFlz\n",
       "AAAOxAAADsQBlSsOGwAAAZdJREFUKM9jYIADJgbcQAGFZ4FHZTGE4rt7AEhyXMCjktkBTN1e2QAk\n",
       "DzLgAzJgckYZyMwneFX6gQj2P2D2BLwqOUGG8QaAmBwCeFUyAh3KsjP6AchbQA/xGO9ZewMswWPn\n",
       "wHAaooYrdIEK0LgNQCa/AUwTH4O1wVOwNC/HBAZ/iMqDtrlAVSwgK/UXgARYgf53YvA/sAUsvYIv\n",
       "gGEbRKUOAy/QjRwgb/RDnFzAwLCA4SHUWQc4DRgmQ9k8d0Bu+AAkrsJVMsBlGeoPcP2CMpXBAQQy\n",
       "M5sBZjsD+yeGMxDphwzM0GBjd2AA2R4AN4fNgIEnnXsCwwUGHgawdrYNEFYHAwPIRwnAJPQd4tsN\n",
       "DBy/zk1gb2A4D/Lma4Z6BzCLKzf56gJIIHJ8gARbAAPPY4M+D6A7YoDc05ffK4BZvAyd4iDHAb3B\n",
       "twHinih4fPSAyYtwFgioMjB0MzYgpQEwAFrEK8AzA8KCAmD6CYOlNjZYuuYBxhmrAfcFCAuaH4Ae\n",
       "cn4EU5AAS7Wg9OL8HMpCMwYRwjiAEQMDAINEV8xragDiAAAAAElFTkSuQmCC\n",
       "\" style=\"display:inline;vertical-align:middle;\" /></a>"
      ],
      "text/plain": [
       "f(x, y, z)"
      ]
     },
     "execution_count": 8,
     "metadata": {},
     "output_type": "execute_result"
    }
   ],
   "source": [
    "Function(f, (x, y, z))"
   ]
  },
  {
   "cell_type": "markdown",
   "metadata": {},
   "source": [
    "## Operation replacement\n",
    "\n",
    "We will demonstrate the two types of *operation replacement* in the following examples: explicit and implicit.\n",
    "\n",
    "### Explicit operation replacement\n",
    "\n",
    "To start our demonstration, let us define a **Lambda** expression which maps a variable $f$ to an expression in which $f$ is used as an operator."
   ]
  },
  {
   "cell_type": "code",
   "execution_count": 9,
   "metadata": {},
   "outputs": [
    {
     "data": {
      "text/html": [
       "<strong id=\"ab_substitution\">ab_substitution:</strong> <a class=\"ProveItLink\" href=\"__pv_it/operation_reductions/38194b4311aac6fc27db8b0b959157f9b7832b770/expr.ipynb\"><img src=\"data:image/png;base64,iVBORw0KGgoAAAANSUhEUgAAAKkAAAAVCAMAAAAKAz4TAAAANlBMVEX///8WFhYNDQ0yMjLc3NyI\n",
       "iIiYmJgiIiJERES6urqqqqoQEBDMzMxUVFTu7u52dnZmZmYAAADQRUOWAAAAAXRSTlMAQObYZgAA\n",
       "AAlwSFlzAAAOxAAADsQBlSsOGwAAAiFJREFUSMell9uWqyAMhpkR5CSn93/ZXYFIonHEbm7S9a/m\n",
       "M+ZUKsTbI6d0Kb48kvn8HUy5Kd0q8f94gBBYTinOkFzifbDeHrnOBnfBROM1hSBYCpt3E9S4CNYH\n",
       "6/0scS5QDrPkE2TAvLNmhpxRprBPvmZwzXORcpjiTpADZstdmIp2s0dNhH08F8JUUjkM0gACNmlc\n",
       "YdKXJDMOF1/z+ij/VKdyGKQBpNk1eB1GRJqQNG3+o7bE59BlSEoqaMDnOHnMEpQKjkDAFnUXm3Dm\n",
       "Jk3YB3TrP81ieu3Wkeis0aEvwGBi+QxQLBJDupVlu41UKDRqeuwH4tP16NcaVn9HP7PoGYyrr+oV\n",
       "hnTrCnb+/dHklGKP/rYj19in67lqutdwKzP7mcPU/JWEId2SgTrn1C5WMJESn657U2tnoRVeDhRg\n",
       "6qvatqkA0q0J95FueIOj6hOfpsfacytkyemJPmUwbZvm1u0A6dar+0gXvFDN+CLxaXqsjwiLcG0Y\n",
       "zMzev2LE3rqt5QekWTkasSb6fp+OxUN9ur4/yeks8mml/TVQDCZ8gjSZLq5m3R+tnzbSCpqdBNBj\n",
       "UGmTQTUfbV8O1MCk49cZIM3mIGaPhsBPPnq7pkvP3CMeMADZrQticdORtpvC1Ye5juTHH9MJDEB2\n",
       "q01cXtx0zT4sjI8538vl8zw9YwBS7arym8t/vPGJ5il0pkCPGICYb/6fSDWlqy//SBEMQKr9B+Y4\n",
       "Fx0B1jM7AAAAAElFTkSuQmCC\n",
       "\" style=\"display:inline;vertical-align:middle;\" /></a><br>"
      ],
      "text/plain": [
       "ab_substitution: f -> (f(a) = f(b))"
      ]
     },
     "execution_count": 9,
     "metadata": {},
     "output_type": "execute_result"
    }
   ],
   "source": [
    "from proveit import Function, Lambda\n",
    "from proveit.logic import Equals\n",
    "from proveit import a, b, c, f, n, x, y, z\n",
    "ab_substitution = Lambda(f, Equals(Function(f, a), Function(f, b)))"
   ]
  },
  {
   "cell_type": "markdown",
   "metadata": {},
   "source": [
    "Now we just need to define a **Lambda** expression for replacing $f$."
   ]
  },
  {
   "cell_type": "code",
   "execution_count": 10,
   "metadata": {},
   "outputs": [
    {
     "data": {
      "text/html": [
       "<strong id=\"add_y_then_mult_z\">add_y_then_mult_z:</strong> <a class=\"ProveItLink\" href=\"__pv_it/operation_reductions/0f14676b91366f9c4e5a71a58308444ede0c615f0/expr.ipynb\"><img src=\"data:image/png;base64,iVBORw0KGgoAAAANSUhEUgAAAJQAAAAVCAMAAACXDjebAAAANlBMVEX///8WFhYNDQ1ERES6uroQ\n",
       "EBAyMjLc3NyYmJgiIiJmZmaqqqp2dnbMzMxUVFSIiIju7u4AAAA4Zhc9AAAAAXRSTlMAQObYZgAA\n",
       "AAlwSFlzAAAOxAAADsQBlSsOGwAAAdRJREFUSMelVte24yAMZBcwHcH//+wFXIXlQqyHzCEZhVFB\n",
       "wNiwqQ5/cP3CIA0cxhET8J1BmfMYByPS3xlnSxPGUZvSd8bJrMZIluDmN22fdnhmMOg6T3ZIVviu\n",
       "L+RjIkgG+s5h3W7COC5qeuyZxkgAMQXv19NkEAWvrMfY+1KiErRap9hWPlJCgjGBKb0zSi4gArOG\n",
       "lOE4FeeKvS8lyjNXi63z3DITeXzA81VuZWhVHRKLmhTFgB/qaRzCky8hKrhZc5yjc1Q3qrqFX/ap\n",
       "jFADPsr//88gy1nsTSgQ9r62OUjZIG4tKqtKOUsNeUtPPu6aVk0bQ8JlFzExCXYl6uRLNroouSxb\n",
       "hXmxZ8ocDpHafRaGyKUMKZGiAhpmXflOvqSolktYxDhzOdrSxkhcsChbP5KiJjSoOBzx7EuK4nH9\n",
       "qG3IqSHSYtwZLodkyx+LPfabObWekBnPvnSmYk2oxsMEVYN7Dt6EjZEsQNlaX9z5PnTz5IgXvr2o\n",
       "FD3YvGTcCGKTeuS21qUY97aGY8LYRPfLSVPm8UVlRjVt1+XdtdldyFVPku75In/LOBtXGF8ktyQu\n",
       "Lp2k+GOi+LimcuIwvngWarCCvQ2F//QgXsec+uHhCuoV4w+slxK03SdPIQAAAABJRU5ErkJggg==\n",
       "\" style=\"display:inline;vertical-align:middle;\" /></a><br>"
      ],
      "text/plain": [
       "add_y_then_mult_z: x -> ((x + y) * z)"
      ]
     },
     "execution_count": 10,
     "metadata": {},
     "output_type": "execute_result"
    }
   ],
   "source": [
    "from proveit.numbers import Add, Mult\n",
    "add_y_then_mult_z = Lambda(x, Mult(Add(x, y), z))"
   ]
  },
  {
   "cell_type": "code",
   "execution_count": 11,
   "metadata": {},
   "outputs": [
    {
     "data": {
      "text/html": [
       "<a class=\"ProveItLink\" href=\"__pv_it/operation_reductions/120df71a70177dc40c9fa07bbea2c1eff50063d60/expr.ipynb\"><img src=\"data:image/png;base64,iVBORw0KGgoAAAANSUhEUgAAAOgAAAAVBAMAAAC+i7+MAAAAMFBMVEX////MzMxUVFRERES6uroi\n",
       "IiIQEBCYmJhmZmYyMjLu7u52dnaqqqqIiIjc3NwAAACW8nlqAAAAAXRSTlMAQObYZgAAAAlwSFlz\n",
       "AAAOxAAADsQBlSsOGwAAAvlJREFUSMeFVk1oE0EU/vLb7Wa7FKQ3oQUPIqUQehJKS071JE3ESEGF\n",
       "HCxiUQh4aQ+iiKUUD+YgRArCkkKhiCS2CFYQ9mKlKLh60EKlBEUEodCexBrENzuzSWZ2Yh58s+y3\n",
       "8755M/PezAKog0Nr9a4EmS2ADt/CRJ/LobezXQmyLwI6i3s64q2A3vqK3QjAqvlYmdEqfNYQZomj\n",
       "ky13JbAm8Egr0OuECYMiN6To49LbnCoSIrAo0NAK9NxRuhORpEdSXi1pF5JqoCECBY74kVYAs2r/\n",
       "WWxTu/2fQXvVPQwRVokjldUPWlYHLeM+tQz28J4n+Zg7RVRIaqjZOZLv/yER3IwaR+/IR1ca9Oki\n",
       "TOq83uo6kLOLjCiLWCbrsSNp0JRVwG3agVaSre2ODQXEQp7ZuWDqDNVl8680aG0LPQfAfFPAfLzB\n",
       "IpjHJWoJ5lUYWWnQ4/R+gt4KTZ+fSDkSwS3hcrx3cKNdIOIuIJoGtlrngoOXYMQVagnGARI1tlb5\n",
       "/IWZfJ5m5CQ9JhI5YCH+5pEyF5+QMivDsQT8aRcwyZ00MMg6VfmCPWFZOBgMmkyjmpHzYMqJHFJO\n",
       "+hOb9pl9vyAKHQa9iHhDEqB0HuynjfOXwy8c2/8yGSxv1WMbKPksoY/0rWx7ATsB0banwfI2YBxJ\n",
       "AkYJn+jxuhXfGZo+I8apJVRdnLLqks8oYixv0k2Xd4BMcIt5HIdYLUoC5D5Kj5ut4nIR9QmWTuvM\n",
       "y5o25JnexVSRF4OomLHx5/3thDBWQwwncVoWMIbiv0RBcju2sZvziQFWPrTrI8++fpB9Kq8e0NQT\n",
       "maY4th6inQiCyXJUXhRlAXN4h9XQ+WbPmnUt4xMJCp5BdyJtEr6r50mIQE4gLJCinLWz6oWa9c9j\n",
       "+UwW53WqZF4XJ3noeA9fAXOaG2MTq656m4ATE+BQLeFFafdsNW1CBOVDnUO1yxim9ptKM2JFIHQ1\n",
       "37oHjZhG3UxzqPZmJ6Ob0IQoWNvrdIfvdSXEobHf6dejHib+AfwS1Wjh0jQFAAAAAElFTkSuQmCC\n",
       "\" style=\"display:inline;vertical-align:middle;\" /></a>"
      ],
      "text/plain": [
       "((a + y) * z) = ((b + y) * z)"
      ]
     },
     "execution_count": 11,
     "metadata": {},
     "output_type": "execute_result"
    }
   ],
   "source": [
    "ab_substitution.apply(add_y_then_mult_z)"
   ]
  },
  {
   "cell_type": "markdown",
   "metadata": {},
   "source": [
    "Note that the $f(a)$ and $f(b)$ operations themselves were replaced according to the `add_y_then_mult_z` lambda mapping applied to $a$ and $b$ respectively.  Let's show an example with multiple operands."
   ]
  },
  {
   "cell_type": "code",
   "execution_count": 12,
   "metadata": {},
   "outputs": [
    {
     "data": {
      "text/html": [
       "<strong id=\"ab_commutation\">ab_commutation:</strong> <a class=\"ProveItLink\" href=\"__pv_it/operation_reductions/ae529ed04f4f49e0e804b9fa05103b62869110950/expr.ipynb\"><img src=\"data:image/png;base64,iVBORw0KGgoAAAANSUhEUgAAANAAAAAVCAMAAAAAX5BBAAAANlBMVEX///8WFhYNDQ0yMjLc3NyI\n",
       "iIiYmJgiIiJERES6urqqqqoQEBDMzMxUVFTu7u52dnZmZmYAAADQRUOWAAAAAXRSTlMAQObYZgAA\n",
       "AAlwSFlzAAAOxAAADsQBlSsOGwAAAohJREFUWMOtl9u6pSAIgJ1J0zRP7/+yUx4Sksz2Hm9YHyt+\n",
       "hACNsc+Lf9TP/v9jQ/47B0J/019rE//XYQdGDoL3bgqvPW0E9Wg5ZWTZ2TobQwduEDLktXPg7W70\n",
       "jCu3MNII6u9rCfXHXM5I8AUhPbi7A6M3NeUtgCxDozDIfqybW8NcQBQ4jvJdwZeDLT5GI3CrGVC6\n",
       "0MgMSrw9Z6aSRoEHO4TgKj0qUGSqUVY1rDhJ67sCas8tU11Egb0cmlRwlqs10oJ9Y1uJu/V6y8jo\n",
       "0nPrBcfjbLFCWF2a4z0cGgwgjHBVwVVG8RgC04rIxN2o6jdzVKhC5eHi0aoupspd24sMEiwcJwGG\n",
       "EEa4quAiedyfA2ICjAvZkoSMit6ZNe0VJST5NGmT2sycowQYQhjhqoKL1BER//6RaMW4Xc23gY3C\n",
       "psz6kHQSHUkhJS0m3R5nTjoKDCCMcFXBRfpB1xzvdtkYERAyKnqjUnlsiObTkNK5TD7OhAqGEEa4\n",
       "quAilR0EtMPjEJQcMsp6l6p/jf0pFHKtaznRQwQYQRjhqoKLNGIQ0AI7UbUnkVHWu+TXLkzzNvzP\n",
       "jsgFf2xAzRyrPRhAXA0IuGrgLDmuEbY9n0Nt7mKjoj/daxlYSHMp/2WPbahwn/qjmUCAL8iFBa4A\n",
       "OEs9alWPBuAuydatemeF37kVp42Uruj8dS+S28eZ0MAV0rDNVQNnGSaOu6sca3w3I7n3O+suK1zO\n",
       "3BZfwJq4A1XwKbVli54PKF//eiPi3umHN9uH1/MO9oMr8ymlGt38+6XOJiSM1P170XXfc/x9JLyD\n",
       "HfGZWMFJriJ8+nR1D0buvltB5+KlAF7B4inJcw6oKSS+6Z8+RH7tsAMn+Q8SpR0U3ILP6QAAAABJ\n",
       "RU5ErkJggg==\n",
       "\" style=\"display:inline;vertical-align:middle;\" /></a><br>"
      ],
      "text/plain": [
       "ab_commutation: f -> (f(a, b) = f(b, a))"
      ]
     },
     "execution_count": 12,
     "metadata": {},
     "output_type": "execute_result"
    }
   ],
   "source": [
    "ab_commutation = Lambda(f, Equals(Function(f, [a, b]), Function(f, [b, a])))"
   ]
  },
  {
   "cell_type": "code",
   "execution_count": 13,
   "metadata": {},
   "outputs": [
    {
     "data": {
      "text/html": [
       "<strong id=\"add_then_mult_z\">add_then_mult_z:</strong> <a class=\"ProveItLink\" href=\"__pv_it/operation_reductions/09ae201a6c31c6a1e125495098d3c0ca7d3702cb0/expr.ipynb\"><img src=\"data:image/png;base64,iVBORw0KGgoAAAANSUhEUgAAALcAAAAVCAMAAAAzZI9IAAAANlBMVEX///8WFhYNDQ3MzMxUVFRE\n",
       "RES6uroiIiIQEBCYmJhmZmYyMjLu7u52dnaqqqqIiIjc3NwAAACzeusSAAAAAXRSTlMAQObYZgAA\n",
       "AAlwSFlzAAAOxAAADsQBlSsOGwAAAkRJREFUSMelV1mWhCAMZIYdWfT+lx222IBghzd+dJ52URUK\n",
       "wkJIfE7y/cFgHuCtRtgmNyJ4BJ8IeG0gRBFv6wDCO1wyGisNhEjibZ2CsAeS8LA4HBCiibd1MsJg\n",
       "fdQGhwPCV2Kh/6GTEQpthJobEYZSUkOcz6WwrdMjPH40j9ujjtj3/gDhO/Fb3odGZGKgeGwIzFLn\n",
       "2jXAhjzYluU3x+C77Fj6NyCEOOMd817ptA+VkpJTA+LuXHQtsEBMm4UjPo22vsq0OuaZej5zC+KM\n",
       "d8x7pdNVe3AcehQRsvqgz9TOEtYMEvVFjpXEvJrnTQJvJg4Q1jjjHfNe6rS7TZJwVScilKhtkzVD\n",
       "RyNKJX5VROgFf/z+yO65LvGpGdHFB6/JLZTKgb3r2KttaSHthFCiKdNHsYjoVETR8rLyWxwtSZ/3\n",
       "nHesy4UOkU3Nn58mESF90ziOqe3WiuxUqDxezvOm3U4xzJM575j3Quex4tsbwQuB5YIwlUukXec4\n",
       "g580Vfk876NbwCthjT3vMu+FTtsg2/BB1BL1F7Um8gvfTSvDkl26X9nip5f1G2q+xI73xe+5TjOm\n",
       "3PHgJL0RtHhnTQgxA13opayOW+aCuaqfUkw3AUeHdbaNPe8y7686Li0idxklhKSzUWlmo6vmnxK3\n",
       "rQLhlPhlv8TrZMT0GOM+VFZ5xDlpci56PR/156pNnYLgzyuGrW7IGFntw8mx5xgg5Ojrzp5ORdgn\n",
       "EAbR62AE2c0CCC26p3s6gDgxV7CwcVcEwnPjbofXyYg/KigZNdAmhdMAAAAASUVORK5CYII=\n",
       "\" style=\"display:inline;vertical-align:middle;\" /></a><br>"
      ],
      "text/plain": [
       "add_then_mult_z: (x, y) -> ((x + y) * z)"
      ]
     },
     "execution_count": 13,
     "metadata": {},
     "output_type": "execute_result"
    }
   ],
   "source": [
    "add_then_mult_z = Lambda((x, y), Mult(Add(x, y), z))"
   ]
  },
  {
   "cell_type": "code",
   "execution_count": 14,
   "metadata": {},
   "outputs": [
    {
     "data": {
      "text/html": [
       "<a class=\"ProveItLink\" href=\"__pv_it/operation_reductions/1e1100cbe5be89c2e786ec6b0b6d822cb2e350760/expr.ipynb\"><img src=\"data:image/png;base64,iVBORw0KGgoAAAANSUhEUgAAAOYAAAAVBAMAAACgQo8/AAAAMFBMVEX////MzMxUVFRERES6uroi\n",
       "IiIQEBCYmJhmZmYyMjLu7u52dnaqqqqIiIjc3NwAAACW8nlqAAAAAXRSTlMAQObYZgAAAAlwSFlz\n",
       "AAAOxAAADsQBlSsOGwAAAuRJREFUSMeFVU1IVFEU/nT+ns/nKITbchdhwqwiEG1Wtgqf4YRgC6Ek\n",
       "EoqBNrpqNiLRwiGCCSEYFAJpMZMiRBDMRkGKerVpYcnDiCAQDNo0TdG5P/Nzf4b54LuP97177jn3\n",
       "3HvOAxBC0Iawo0BISqLNN1PoqwhacaWjQPgsaUM0sAlvJHW4F3wKJquphgB4Zc6NeavTTxbBzQua\n",
       "6MnRsKarhoBNySdWnz1FU3AocEcJPirf+lnCF/U1DAErkjXNXiCR06aTEKdHXM2VPIJJFmFcD9MQ\n",
       "MCcYrWr2Egv6/AXs07hv9bnDM6GfnyF4ecFe3+6zoPss4CGNjMnhw0C1efTlPK001JjblRn4rggC\n",
       "TlmwZ+RjRfV59PqYxq3m1MGpZJYJBRnKRBipKj7d38VSiETzem0ejJI/ISxnGK7WN85YWnP/KT6j\n",
       "d3GJDmKpWQlPt1kAS7hOI9G9BcdXfHpVxAN4cw2TH+ilJVoEgVhF8H0RdxSfz7JYpsdesx0U8YoL\n",
       "N2kkOieIlVmmMplr85kMbcjJo7+MrhO+ZREns+CCcqnSgg+AP632WAVm6XGGTSqJdD0vckH6jKdQ\n",
       "Siv7pBAmK4jybc1w5ZhnbK6Nz1lEa8o+b8D9xQ6NL8YrJsm/TNRzWwpwX713VJ6rRXh+a92y3Pra\n",
       "edZzW4NTVe7DXyRYTnab4V2Gy4UxGomlCs55oeJzgM4YiVTD4i0wpAgCkUDwJzvAVp81dOffAfea\n",
       "VVVBN5iwJa5zJPBmHGWf3dlITlSBLJXRsZ2BVkGCFQ/jWVxUa20Mu7mcKESBU9sHU7wyB1ndUFQj\n",
       "L44+qLUyzBpaLN1YG3uPFaEeiy+4/jKr+lw/OD1CQU43Zpa928x4GjGSGc0+xPFN7yKGgClJqz2S\n",
       "vv4D9XkPVvuw0qNXbB3d7PqL7ey1/4cUxiFo/82nOgl0FUJBO77ahA1JK4y1LIu7KUE7xm0CK9Rk\n",
       "0MbisKMge8VxmwX6QlP4DwbY1Czo6x4ZAAAAAElFTkSuQmCC\n",
       "\" style=\"display:inline;vertical-align:middle;\" /></a>"
      ],
      "text/plain": [
       "((a + b) * z) = ((b + a) * z)"
      ]
     },
     "execution_count": 14,
     "metadata": {},
     "output_type": "execute_result"
    }
   ],
   "source": [
    "ab_commutation.apply(add_then_mult_z)"
   ]
  },
  {
   "cell_type": "markdown",
   "metadata": {},
   "source": [
    "### Implicit operation replacement\n",
    "\n",
    "It is typical to derive classes from **Operation** that have a single corresponding *operator* that is a **Literal**.  This operator should be defined as the `_operator_` attribute of the derived class.  This indicates to **Prove-It** that this specific operator is tied to that specific class.  This knowlege is used in *implicit operation replacement*.  When an operator is replaced by `_operator_` of a particular **Operation** class, the **Operation** is reconstucted to by of that particular type.  For example."
   ]
  },
  {
   "cell_type": "code",
   "execution_count": 15,
   "metadata": {},
   "outputs": [
    {
     "data": {
      "text/html": [
       "<strong id=\"a_add_b_commutation\">a_add_b_commutation:</strong> <a class=\"ProveItLink\" href=\"__pv_it/operation_reductions/651fd8f441426417f50a46a34a5865e78725fb3a0/expr.ipynb\"><img src=\"data:image/png;base64,iVBORw0KGgoAAAANSUhEUgAAAJMAAAAVBAMAAACwIsHjAAAAMFBMVEX////MzMxUVFRERES6uroi\n",
       "IiIQEBCYmJhmZmYyMjLu7u52dnaqqqqIiIjc3NwAAACW8nlqAAAAAXRSTlMAQObYZgAAAAlwSFlz\n",
       "AAAOxAAADsQBlSsOGwAAAhBJREFUOMt1lE1IG0EUx/+aNdmMm49Lr9ZbERvISbz4cdKTGKRbCuYQ\n",
       "aLVQsCx40ZO5iIgHgxfF06LgNWmh0EshFwtFWtdeeiiVYPEoROilNhbfbBLIm50ZmFnmzf/95s3b\n",
       "NwOgAX1L64wmcWhP1Q2rVhC1GcVzcjjTrRwv0fAjaj+DGCvoHFIeICraXQ6oJ33VKsXJstbhELA9\n",
       "dqjurEU9EXGS4kz3jLNsaQ2IM4PTyY91J8c3KkqK57uxfuVLPr5oUYNhQvZVlBR/gBaV9LAjv1ef\n",
       "bjgqmftO53ivoqR479dTjkqPXpLX4HC4s/UWUz5DVQ/Ff2A9zI8btuFOmOKvX20w1EwjRulIVFCk\n",
       "yYmHTR7VuY8V4LMaFYmdO8SDXpR4DZvS4ZTwima7wGJ7/+dL7f23gX/AYxVFYruCTA3YdN1l112Q\n",
       "Xk0MkKGvGaJeQvzhUS3ConKY0aDIbb7eG1U8j+o0JakkYxb3SDQ5qgWbzn+q5qoYltWu34uqBtiQ\n",
       "ngVMEKqF/so3hrqV+cOqGhWJM1lKDkPVMeI0kMiHP3wCp+UyQz3BeOffs0bifi9WZqhY4LywKfga\n",
       "HtHs6OdQLstQRx/lDXqmokgsRrd4iYrcu6sLyuE0BrK6am/XXuQNYGJe7dfqnbU85fLyxsT8OstY\n",
       "J2Fqv6Mmozidl6+cEaXxM4pj8jKlA8NqSvOOG8WXwAPsvYyeEh3hBQAAAABJRU5ErkJggg==\n",
       "\" style=\"display:inline;vertical-align:middle;\" /></a><br>"
      ],
      "text/plain": [
       "a_add_b_commutation: (a + b) = (b + a)"
      ]
     },
     "execution_count": 15,
     "metadata": {},
     "output_type": "execute_result"
    }
   ],
   "source": [
    "a_add_b_commutation = ab_commutation.apply(Add._operator_)"
   ]
  },
  {
   "cell_type": "markdown",
   "metadata": {},
   "source": [
    "Is created using the proper `Add` class for constructing the left and right sides of the equation."
   ]
  },
  {
   "cell_type": "code",
   "execution_count": 16,
   "metadata": {},
   "outputs": [
    {
     "data": {
      "text/plain": [
       "proveit.numbers.addition.add.Add"
      ]
     },
     "execution_count": 16,
     "metadata": {},
     "output_type": "execute_result"
    }
   ],
   "source": [
    "a_add_b_commutation.lhs.__class__"
   ]
  },
  {
   "cell_type": "code",
   "execution_count": 17,
   "metadata": {},
   "outputs": [
    {
     "data": {
      "text/plain": [
       "proveit.numbers.addition.add.Add"
      ]
     },
     "execution_count": 17,
     "metadata": {},
     "output_type": "execute_result"
    }
   ],
   "source": [
    "a_add_b_commutation.rhs.__class__"
   ]
  },
  {
   "cell_type": "markdown",
   "metadata": {},
   "source": [
    "We can do the same using `Mult._operator_`:"
   ]
  },
  {
   "cell_type": "code",
   "execution_count": 18,
   "metadata": {},
   "outputs": [
    {
     "data": {
      "text/html": [
       "<strong id=\"a_mult_b_commutation\">a_mult_b_commutation:</strong> <a class=\"ProveItLink\" href=\"__pv_it/operation_reductions/68b1447e12dd0ba32326138d8ff57429bc0081fa0/expr.ipynb\"><img src=\"data:image/png;base64,iVBORw0KGgoAAAANSUhEUgAAAH4AAAAVBAMAAAByPkciAAAAMFBMVEX////MzMxUVFRERES6uroi\n",
       "IiIQEBCYmJhmZmYyMjLu7u52dnaqqqqIiIjc3NwAAACW8nlqAAAAAXRSTlMAQObYZgAAAAlwSFlz\n",
       "AAAOxAAADsQBlSsOGwAAAepJREFUOMt1VEEoBFEY/tbuzo4xdvfiipvE1p7kgj25yRKlOGwhpWjL\n",
       "hZO9SHKwuZDTRCmnHUq5qL1QUgwXB2wbOSrKBUv+f+0M3ntevTfNN9/3/9///vcGQBHSUEAI/wPV\n",
       "5uUPPQr9jQwFHFpO/2JGW5JipiWuaWNrXASviJ8VsOoMLRuSfofmughWW9DFVBGuZ1bSL9IsiWAo\n",
       "A03Eei1aNEuEU1TumxR1EicitF82JroyqcyapKRfwzL3oaXgeNDqbStRGwWiblPQ2OVPr+4OH2nd\n",
       "owhAd9HvWTNerVwRofKuLgzy6HcN5TaMT6910+iiGucwQpIJ6J418w2aAzMl5A9S5nMLU+77dhoL\n",
       "9DjGGHl7QtAup2ajWURs+J4EvZYAloD3CgsrwDA9GlivxZFLMDjEiWz05hFIKfTDCJQqLIzCeOHK\n",
       "2X/Owfzv9q9YMJNC/ey/BN3dJuMDIbZ4hA7S59FsulcmEqXtQCgu5PdTg5656oq+hKrsGTBDHaBv\n",
       "5pDuEqvS/sx3u/4MbmgT2r33DhxliLeMOgoW27278PrXwic1mBD0Pipo8+DnVG1e18eiwACCUcVd\n",
       "xYOE9Klo4SRfAcVYlJBZFY0vX6cqblyC/Kp/0j3NLQWuIBtxBY9zhx0ZLyi4jzJUW8QXGAF4aP+1\n",
       "qEcAAAAASUVORK5CYII=\n",
       "\" style=\"display:inline;vertical-align:middle;\" /></a><br>"
      ],
      "text/plain": [
       "a_mult_b_commutation: (a * b) = (b * a)"
      ]
     },
     "execution_count": 18,
     "metadata": {},
     "output_type": "execute_result"
    }
   ],
   "source": [
    "a_mult_b_commutation = ab_commutation.apply(Mult._operator_)"
   ]
  },
  {
   "cell_type": "code",
   "execution_count": 19,
   "metadata": {},
   "outputs": [
    {
     "data": {
      "text/plain": [
       "proveit.numbers.multiplication.mult.Mult"
      ]
     },
     "execution_count": 19,
     "metadata": {},
     "output_type": "execute_result"
    }
   ],
   "source": [
    "a_mult_b_commutation.lhs.__class__"
   ]
  },
  {
   "cell_type": "code",
   "execution_count": 20,
   "metadata": {},
   "outputs": [],
   "source": [
    "%end operation_reductions"
   ]
  },
  {
   "cell_type": "markdown",
   "metadata": {},
   "source": [
    "# Next chapter: <a href=\"tutorial04_relabeling.ipynb\">ToDo</a>\n",
    "\n",
    "## <a href=\"tutorial00_introduction.ipynb#contents\">Table of Contents</a>"
   ]
  }
 ],
 "metadata": {
  "kernelspec": {
   "display_name": "Python 3",
   "language": "python",
   "name": "python3"
  },
  "language_info": {
   "codemirror_mode": {
    "name": "ipython",
    "version": 3
   },
   "file_extension": ".py",
   "mimetype": "text/x-python",
   "name": "python",
   "nbconvert_exporter": "python",
   "pygments_lexer": "ipython3",
   "version": "3.7.3"
  }
 },
 "nbformat": 4,
 "nbformat_minor": 1
}
