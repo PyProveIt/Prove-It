{
 "cells": [
  {
   "cell_type": "markdown",
   "metadata": {},
   "source": [
    "Chapter 2.a.iii.  ExprRange reductions\n",
    "=======\n",
    "\n",
    "As we saw in the previous chapter, an **ExprRange** adds versatility to **Prove-It** by allowing us to define **Lambda** expressions with an indeterminant number of parameters.  Generally, **ExprRange** expressions allow us to form expressions over an indeterminant number of elements.  Basically, an **ExprRange** is how we formalize the concept of using an ellipsis in a mathematical expression.  For example, $a \\cdot (b_1 + \\ldots + b_n) = a \\cdot b_1 + \\ldots + a \\cdot b_n$ (distribution) may be expressed using an **ExprRange** on each side of the equation.  Internally, the **ExprRange** has a *parameter* variable for parameterizing each element of the range.  For the LaTeX display, this *parameter* is hidden by default, as in the above example, and the precise parameterization is implicit.  To avoid ambiguity, it can be important at times to display the explicit parameterization.  For the above example, this would be $a \\cdot (b_1 + ..b_k.. + b_n) = a \\cdot b_1 + ..a \\cdot b_k.. + a \\cdot b_n$, assuming $k$ is the *parameter* in both **ExprRange** instances.\n",
    "\n",
    "There are two kinds of reduction rules that are specific to **ExprRange** expressions that are applied in the process of performing a lambda application (beta reduction).\n",
    "1. *Indexed variable expansions* occur when the **ExprRange** contains one or more **IndexedVar** expressions with an index that is parameterized over the range, and the range of indexed variables is being replaced by an **ExprTuple**.  This falls under two cases.\n",
    "  1. *Parameter dependent expansion* is required whenever the parameter of the **ExprRange** occurs anywhere besides as an index of an indexed variable.  In that case, the indices of the expanded indexed variable must match the original indices.  For example, $1 \\cdot x_1 + \\ldots + n \\cdot x_n$ could be expanded, under $(x_1, \\ldots, x_n) : (a_1, \\ldots, a_j, a_{j+1}, \\ldots, a_n)$ to $1 \\cdot a_1 + \\ldots + j \\cdot a_j + (j+1) \\cdot a_{j+1} + \\ldots + n \\cdot a_n$ assuming $0 \\leq j \\leq n$.  However, an error would occur given $(x_1, \\ldots, x_n) : (a_1, \\ldots, a_j, b_1, \\ldots, b_k)$ as the expansion.\n",
    "  2. *Parameter independent expansion* is allowed otherwise.  In that case, only the lengths of the expansion must match, not the indices themselves.  For example, $x_1 \\cdot y_1 + \\ldots + x_n \\cdot y_n$ could be expanded, under $(x_1, \\ldots, x_n) : (a_1, \\ldots, a_j, b_1, \\ldots, b_k)$, $(y_1, \\ldots, y_n) : (c_1, \\ldots, c_j, d_1, \\ldots, d_k)$ to $a_1 \\cdot c_1 + \\ldots + a_j \\cdot c_j + b_1 \\cdot d_1 + \\ldots + b_k \\cdot d_k$ assuming $j + k = n$.\n",
    "2. *Range reductions* occur when the **ExprRange** is known to be empty or contain only a single element. \n",
    "  1. *Empty range reduction* occurs when the **ExprRange** is known to be empty and may be replaced with zero elements in a containing **ExprTuple**.\n",
    "  2. *Singular element range reduction* occurs when the **ExprRange** is known to contain only a single element and may be replaced with this one element."
   ]
  },
  {
   "cell_type": "code",
   "execution_count": 1,
   "metadata": {},
   "outputs": [],
   "source": [
    "import proveit\n",
    "%begin exprrange_reductions"
   ]
  },
  {
   "cell_type": "markdown",
   "metadata": {},
   "source": [
    "## Creating ExprRange expressions\n",
    "\n",
    "An `ExprRange` may be instantiated with a `parameter`, `body`, `start index`, and `end index`:"
   ]
  },
  {
   "cell_type": "code",
   "execution_count": 2,
   "metadata": {},
   "outputs": [
    {
     "data": {
      "text/html": [
       "<strong id=\"a_prod_range\">a_prod_range:</strong> <a class=\"ProveItLink\" href=\"__pv_it/exprrange_reductions/37b1f1b9613f8ea90e817111ad8af41ae9a1caf10/expr.ipynb\"><img src=\"data:image/png;base64,iVBORw0KGgoAAAANSUhEUgAAAQUAAAAVBAMAAAC9GeaNAAAAMFBMVEX////MzMxUVFRERES6uroi\n",
       "IiIQEBCYmJhmZmYyMjLu7u52dnaqqqqIiIjc3NwAAACW8nlqAAAAAXRSTlMAQObYZgAAAAlwSFlz\n",
       "AAAOxAAADsQBlSsOGwAAAutJREFUSMd9lj2IE0EUx18+Ntnb7MZrrhO9ykPkYGvhzlR2B7GIBO+K\n",
       "gCd2kvK6S3OIWBhshKuCB4LFkZhe2MbiPNDVKqCEcCBWBynSXFBx3tud2Zmd2Z1iM/P+7zfv7ZuZ\n",
       "zALADNJtljkwGhJzhsRbPQMDL9DsO1Jfkw3+AtrJz+FnBgbnaesEvG4y0uRzclFb4REQJIN6c0dp\n",
       "S+EuIU4/LewCHIuBJpNhV7W9fbGECDrOy+G9ZvH6hNim1A9ET5NlQ5n3vWUMHeTl8NxoZUjFZK8M\n",
       "RE+T5OKGcg4IJaChdSAj1pnJviJeVpPPMnNAaCVnQ7h9yIj1En8vPl6K9Z6waWrrfIhy/c40BMlA\n",
       "LnoOCCWg3uyRGgng9HuEvcF1fQb3eBFrZVayqkgZ5fuz0hIkA7noOSBU7WfngDWSIwH0Kl1C9lj/\n",
       "XReOuP26zaZxxdIx2XkKdhMkA7noOSDkdrJzsAI1EnizawEh+2zwKjptzhV7DCps4sKc+zHZnoM1\n",
       "4jIayAXsVuvhk1ZrXeSAUAIaNl9DRIIhvoUDXweEYA6PwVmg0sYH2ssdKYeKD8OGkPdjF70OCJU7\n",
       "+TnwSFaPTEcRhsX+C9Uk/9cOm7wplX4YwiHIa0EuhrVoyqBxLdRIUU0YssVy+APF/hd+LhY1tk98\n",
       "KhVrTB4GcNsVt9FW7GLYk74Mqg0LVwrVSOzALSJsTPN+6vX4X/j8d3yMaM3GyLptW3Dj2EXJofYv\n",
       "PnsCpM1DM4gRnls5EkQ1Ycga/t//uLG5yoUNdl4sXH+LXUQoO5sfLr4Jbi12kXMo3rraiKAEbPNV\n",
       "p0cLN18zFQmKWDWGWKuGpftFz8/okZZlgxumoQRM/UfiYjzQdmkYIdVe5u2CddVk2VDupqEEVFsN\n",
       "9AutGBwOYmTb8L3j0+6kt9Tk7ayPJF8FlXaKj5L6mXUz2OOxTvTpImeP+pp8kpEDQjKoNMrK8dX7\n",
       "Y9Lgsep61lP59dKywV9A0/xvuUsz9h/U1N13CoJcrgAAAABJRU5ErkJggg==\n",
       "\" style=\"display:inline;vertical-align:middle;\" /></a><br>"
      ],
      "text/plain": [
       "<IPython.core.display.HTML object>"
      ]
     },
     "metadata": {},
     "output_type": "display_data"
    }
   ],
   "source": [
    "from proveit import ExprTuple, ExprRange, defaults\n",
    "from proveit.logic import Equals\n",
    "from proveit.numbers import Add, Mult, zero, one, two\n",
    "from proveit import a, b, c, d, i, j, k, m, n, x, y\n",
    "a_prod_range = ExprRange(k, Mult(a, k), i, j)"
   ]
  },
  {
   "cell_type": "code",
   "execution_count": 3,
   "metadata": {},
   "outputs": [
    {
     "data": {
      "text/html": [
       "<a class=\"ProveItLink\" href=\"__pv_it/exprrange_reductions/006c465e50948aa2b52285e2de47974f741255cc0/expr.ipynb\"><img src=\"data:image/png;base64,iVBORw0KGgoAAAANSUhEUgAAABgAAAAJBAMAAADa0/H1AAAAMFBMVEX///8yMjKqqqoiIiJmZmaY\n",
       "mJju7u4QEBC6urqIiIh2dnZUVFTc3NxERETMzMwAAAAY8qdrAAAAAXRSTlMAQObYZgAAAAlwSFlz\n",
       "AAAOxAAADsQBlSsOGwAAAElJREFUCNdjYICC0ytPwpgMHDUM9xNgnPQABme4jD8DgxWcU8vA9gPG\n",
       "ZvvJwPoBzvnEwC2gA+PdZFB2cGB4excIDjBkz3qz8wEAJxQUWRMzkfwAAAAASUVORK5CYII=\n",
       "\" style=\"display:inline;vertical-align:middle;\" /></a>"
      ],
      "text/plain": [
       "_a"
      ]
     },
     "metadata": {},
     "output_type": "display_data"
    }
   ],
   "source": [
    "a_prod_range.parameter"
   ]
  },
  {
   "cell_type": "code",
   "execution_count": 4,
   "metadata": {},
   "outputs": [
    {
     "data": {
      "text/html": [
       "<a class=\"ProveItLink\" href=\"__pv_it/exprrange_reductions/5c28ea155f951ea857b37b991cebc65e72806cf00/expr.ipynb\"><img src=\"data:image/png;base64,iVBORw0KGgoAAAANSUhEUgAAADMAAAAJBAMAAABtbgnSAAAAMFBMVEX////MzMwyMjKqqqoiIiJm\n",
       "ZmaYmJju7u5EREQQEBC6urqIiIh2dnZUVFTc3NwAAAAqL9KcAAAAAXRSTlMAQObYZgAAAAlwSFlz\n",
       "AAAOxAAADsQBlSsOGwAAAGVJREFUCNdjYOC7s28DAxqAiq18wPEdXQoixj6NgdUBTQYqxvqBgeUA\n",
       "iPsJIQUV42xgqF8A4rsipKBi9RsY8tGtgorVGzBcYn6AJgUR49jA7MqKpgsqxn774NuNMDHGDiDo\n",
       "g4oBAPF6JsT/xOAXAAAAAElFTkSuQmCC\n",
       "\" style=\"display:inline;vertical-align:middle;\" /></a>"
      ],
      "text/plain": [
       "a * _a"
      ]
     },
     "metadata": {},
     "output_type": "display_data"
    }
   ],
   "source": [
    "a_prod_range.body"
   ]
  },
  {
   "cell_type": "code",
   "execution_count": 5,
   "metadata": {},
   "outputs": [
    {
     "data": {
      "text/html": [
       "<a class=\"ProveItLink\" href=\"../packages/proveit/__pv_it/common/ae955345c83abf786c3aff8681cd5465beae262d0/expr.ipynb\"><img src=\"data:image/png;base64,iVBORw0KGgoAAAANSUhEUgAAAAcAAAAOBAMAAAARcxsoAAAALVBMVEX////c3NxUVFQyMjKqqqrM\n",
       "zMwQEBC6urqYmJju7u52dnYiIiJmZmaIiIgAAABgwC6IAAAAAXRSTlMAQObYZgAAAAlwSFlzAAAO\n",
       "xAAADsQBlSsOGwAAADpJREFUCNdjYGC4wwAEuxjQAeedBgYGLvYEBoYQHgMGhglsF4CCfhOAhBEn\n",
       "UPY5FwMD6wMJIFejgQEAGf4JG7xeJHMAAAAASUVORK5CYII=\n",
       "\" style=\"display:inline;vertical-align:middle;\" /></a>"
      ],
      "text/plain": [
       "i"
      ]
     },
     "metadata": {},
     "output_type": "display_data"
    }
   ],
   "source": [
    "a_prod_range.start_index"
   ]
  },
  {
   "cell_type": "code",
   "execution_count": 6,
   "metadata": {},
   "outputs": [
    {
     "data": {
      "text/html": [
       "<a class=\"ProveItLink\" href=\"../packages/proveit/__pv_it/common/1ed21df18baca2f42b561a7ffbf30a2743d594650/expr.ipynb\"><img src=\"data:image/png;base64,iVBORw0KGgoAAAANSUhEUgAAAAoAAAASBAMAAACQmVJ4AAAAMFBMVEX///+6urp2dnYiIiKqqqrc\n",
       "3NyYmJgQEBBmZmZUVFQyMjKIiIju7u5ERETMzMwAAACiJdmqAAAAAXRSTlMAQObYZgAAAAlwSFlz\n",
       "AAAOxAAADsQBlSsOGwAAAExJREFUCNdjYGBg4LsDJBi4FzBgA6d3gsgG9gSgigB+BwYGHgb/AyCh\n",
       "ZrC0EYhg/Qgi2T6ASM4LIJJ9A5DlkA9U+N7BBMjn2CHAwAAAZeMNomSBQaEAAAAASUVORK5CYII=\n",
       "\" style=\"display:inline;vertical-align:middle;\" /></a>"
      ],
      "text/plain": [
       "j"
      ]
     },
     "metadata": {},
     "output_type": "display_data"
    }
   ],
   "source": [
    "a_prod_range.end_index"
   ]
  },
  {
   "cell_type": "markdown",
   "metadata": {},
   "source": [
    "It's sub-expressions are a **Lambda** expression created from the `parameter` and `body`, the `start_index`, and the `end_index`:"
   ]
  },
  {
   "cell_type": "code",
   "execution_count": 7,
   "metadata": {},
   "outputs": [
    {
     "data": {
      "text/html": [
       "<table><tr><th>&nbsp;</th><th>core type</th><th>sub-expressions</th><th>expression</th></tr>\n",
       "<tr><td>0</td><td>ExprRange</td><td>lambda_map:&nbsp;1<br>start_index:&nbsp;2<br>end_index:&nbsp;3<br></td><td><a class=\"ProveItLink\" href=\"__pv_it/exprrange_reductions/37b1f1b9613f8ea90e817111ad8af41ae9a1caf10/expr.ipynb\"><img src=\"data:image/png;base64,iVBORw0KGgoAAAANSUhEUgAAAQUAAAAVBAMAAAC9GeaNAAAAMFBMVEX////MzMxUVFRERES6uroi\n",
       "IiIQEBCYmJhmZmYyMjLu7u52dnaqqqqIiIjc3NwAAACW8nlqAAAAAXRSTlMAQObYZgAAAAlwSFlz\n",
       "AAAOxAAADsQBlSsOGwAAAutJREFUSMd9lj2IE0EUx18+Ntnb7MZrrhO9ykPkYGvhzlR2B7GIBO+K\n",
       "gCd2kvK6S3OIWBhshKuCB4LFkZhe2MbiPNDVKqCEcCBWBynSXFBx3tud2Zmd2Z1iM/P+7zfv7ZuZ\n",
       "zALADNJtljkwGhJzhsRbPQMDL9DsO1Jfkw3+AtrJz+FnBgbnaesEvG4y0uRzclFb4REQJIN6c0dp\n",
       "S+EuIU4/LewCHIuBJpNhV7W9fbGECDrOy+G9ZvH6hNim1A9ET5NlQ5n3vWUMHeTl8NxoZUjFZK8M\n",
       "RE+T5OKGcg4IJaChdSAj1pnJviJeVpPPMnNAaCVnQ7h9yIj1En8vPl6K9Z6waWrrfIhy/c40BMlA\n",
       "LnoOCCWg3uyRGgng9HuEvcF1fQb3eBFrZVayqkgZ5fuz0hIkA7noOSBU7WfngDWSIwH0Kl1C9lj/\n",
       "XReOuP26zaZxxdIx2XkKdhMkA7noOSDkdrJzsAI1EnizawEh+2zwKjptzhV7DCps4sKc+zHZnoM1\n",
       "4jIayAXsVuvhk1ZrXeSAUAIaNl9DRIIhvoUDXweEYA6PwVmg0sYH2ssdKYeKD8OGkPdjF70OCJU7\n",
       "+TnwSFaPTEcRhsX+C9Uk/9cOm7wplX4YwiHIa0EuhrVoyqBxLdRIUU0YssVy+APF/hd+LhY1tk98\n",
       "KhVrTB4GcNsVt9FW7GLYk74Mqg0LVwrVSOzALSJsTPN+6vX4X/j8d3yMaM3GyLptW3Dj2EXJofYv\n",
       "PnsCpM1DM4gRnls5EkQ1Ycga/t//uLG5yoUNdl4sXH+LXUQoO5sfLr4Jbi12kXMo3rraiKAEbPNV\n",
       "p0cLN18zFQmKWDWGWKuGpftFz8/okZZlgxumoQRM/UfiYjzQdmkYIdVe5u2CddVk2VDupqEEVFsN\n",
       "9AutGBwOYmTb8L3j0+6kt9Tk7ayPJF8FlXaKj5L6mXUz2OOxTvTpImeP+pp8kpEDQjKoNMrK8dX7\n",
       "Y9Lgsep61lP59dKywV9A0/xvuUsz9h/U1N13CoJcrgAAAABJRU5ErkJggg==\n",
       "\" style=\"display:inline;vertical-align:middle;\" /></a></td></tr>\n",
       "<tr><td>1</td><td>Lambda</td><td>parameter:&nbsp;9<br>body:&nbsp;5<br></td><td><a class=\"ProveItLink\" href=\"__pv_it/exprrange_reductions/d2c7845bce44c042aa36bf9875459f3e275aa7dd0/expr.ipynb\"><img src=\"data:image/png;base64,iVBORw0KGgoAAAANSUhEUgAAAHkAAAAVCAMAAABVErFaAAAANlBMVEX///8WFhYNDQ0yMjKqqqoi\n",
       "IiJmZmaYmJju7u4QEBC6urqIiIh2dnZUVFTc3NxERETMzMwAAAA9ejUTAAAAAXRSTlMAQObYZgAA\n",
       "AAlwSFlzAAAOxAAADsQBlSsOGwAAAS5JREFUSMe9VtuWwyAIdFe8xLv//7Mbk20biKQn2lPeEhgG\n",
       "R1CFmLL0RRQyD0Mw52eJIYxWbOaIrRyGSjvFrMcrN/qeRqQzlomql3eLRn7AhYKcYJZnvVIMPj17\n",
       "TyEf/tKhC7kYpkNciKeGX1ZJc7VdLsi9sgmEn6VjnKGC2aWl06q/SuHzIb+CLoTdOBQHtEl03XI+\n",
       "5/T3RyGr1b2axPUgtjLbj+NKpS2XN7Bj1uykE5T5BGEGBsc5smZbWwOYyvRUQQfArvYJwomN40BR\n",
       "d8sWpYDUY5ZooLPvQlhmFGcy8bdssOr1UMxdzPP/YFAIZzhuHcmSH9ZqsdGHkqIvPWzAf8suCA+5\n",
       "Sq3czLmtyvi9rmaI7x77H7ps9q0bfVykPPkysPnbJb9qH3vWbNftH8TQDF7a6zXKAAAAAElFTkSu\n",
       "QmCC\n",
       "\" style=\"display:inline;vertical-align:middle;\" /></a></td></tr>\n",
       "<tr><td>2</td><td>Variable</td><td></td><td><a class=\"ProveItLink\" href=\"../packages/proveit/__pv_it/common/ae955345c83abf786c3aff8681cd5465beae262d0/expr.ipynb\"><img src=\"data:image/png;base64,iVBORw0KGgoAAAANSUhEUgAAAAcAAAAOBAMAAAARcxsoAAAALVBMVEX////c3NxUVFQyMjKqqqrM\n",
       "zMwQEBC6urqYmJju7u52dnYiIiJmZmaIiIgAAABgwC6IAAAAAXRSTlMAQObYZgAAAAlwSFlzAAAO\n",
       "xAAADsQBlSsOGwAAADpJREFUCNdjYGC4wwAEuxjQAeedBgYGLvYEBoYQHgMGhglsF4CCfhOAhBEn\n",
       "UPY5FwMD6wMJIFejgQEAGf4JG7xeJHMAAAAASUVORK5CYII=\n",
       "\" style=\"display:inline;vertical-align:middle;\" /></a></td></tr>\n",
       "<tr><td>3</td><td>Variable</td><td></td><td><a class=\"ProveItLink\" href=\"../packages/proveit/__pv_it/common/1ed21df18baca2f42b561a7ffbf30a2743d594650/expr.ipynb\"><img src=\"data:image/png;base64,iVBORw0KGgoAAAANSUhEUgAAAAoAAAASBAMAAACQmVJ4AAAAMFBMVEX///+6urp2dnYiIiKqqqrc\n",
       "3NyYmJgQEBBmZmZUVFQyMjKIiIju7u5ERETMzMwAAACiJdmqAAAAAXRSTlMAQObYZgAAAAlwSFlz\n",
       "AAAOxAAADsQBlSsOGwAAAExJREFUCNdjYGBg4LsDJBi4FzBgA6d3gsgG9gSgigB+BwYGHgb/AyCh\n",
       "ZrC0EYhg/Qgi2T6ASM4LIJJ9A5DlkA9U+N7BBMjn2CHAwAAAZeMNomSBQaEAAAAASUVORK5CYII=\n",
       "\" style=\"display:inline;vertical-align:middle;\" /></a></td></tr>\n",
       "<tr><td>4</td><td>ExprTuple</td><td>9</td><td><a class=\"ProveItLink\" href=\"__pv_it/exprrange_reductions/4b0dd6be36d76552eda6a95d5b4a27f5a5b62f900/expr.ipynb\"><img src=\"data:image/png;base64,iVBORw0KGgoAAAANSUhEUgAAACUAAAAVBAMAAAAzyjqdAAAAMFBMVEX////MzMxUVFRERES6uroi\n",
       "IiIQEBCYmJhmZmYyMjLu7u52dnaqqqqIiIjc3NwAAACW8nlqAAAAAXRSTlMAQObYZgAAAAlwSFlz\n",
       "AAAOxAAADsQBlSsOGwAAAMlJREFUGNNd0CELwkAUwPG/zM05t2GxW0WEgVkx2YRFg2FBsC7atBks\n",
       "NsEk+AGcfoJVscwvIEOwm03eDNvuHrx3vB+8x90BKeX4d04s2SQrd4lwQrB2snEAM1RsCYZCGEdu\n",
       "qtVDtkXndp8JNNrsCxun2hdqO2Y5WQtMH+yAeW7mBz2Cyqdkhsd5BNWgNHtOWInD9hkUFtOxU2oe\n",
       "19y0xJ6aYm1ES2ztixhi9S6vB+gj9Kbyjre44lqxjcihTK4nykk2Lft8N5HsCT8VgCbAE1QbkgAA\n",
       "AABJRU5ErkJggg==\n",
       "\" style=\"display:inline;vertical-align:middle;\" /></a></td></tr>\n",
       "<tr><td>5</td><td>Operation</td><td>operator:&nbsp;6<br>operands:&nbsp;7<br></td><td><a class=\"ProveItLink\" href=\"__pv_it/exprrange_reductions/5c28ea155f951ea857b37b991cebc65e72806cf00/expr.ipynb\"><img src=\"data:image/png;base64,iVBORw0KGgoAAAANSUhEUgAAADMAAAAJBAMAAABtbgnSAAAAMFBMVEX////MzMwyMjKqqqoiIiJm\n",
       "ZmaYmJju7u5EREQQEBC6urqIiIh2dnZUVFTc3NwAAAAqL9KcAAAAAXRSTlMAQObYZgAAAAlwSFlz\n",
       "AAAOxAAADsQBlSsOGwAAAGVJREFUCNdjYOC7s28DAxqAiq18wPEdXQoixj6NgdUBTQYqxvqBgeUA\n",
       "iPsJIQUV42xgqF8A4rsipKBi9RsY8tGtgorVGzBcYn6AJgUR49jA7MqKpgsqxn774NuNMDHGDiDo\n",
       "g4oBAPF6JsT/xOAXAAAAAElFTkSuQmCC\n",
       "\" style=\"display:inline;vertical-align:middle;\" /></a></td></tr>\n",
       "<tr><td>6</td><td>Literal</td><td></td><td><a class=\"ProveItLink\" href=\"../packages/proveit/numbers/multiplication/__pv_it/common/ed719cef37831779c16481533a4d380a2f95ab270/expr.ipynb\"><img src=\"data:image/png;base64,iVBORw0KGgoAAAANSUhEUgAAAAMAAAADBAMAAACkBqiMAAAAElBMVEX///9mZmYiIiIyMjLu7u4A\n",
       "AADK2g1jAAAAAXRSTlMAQObYZgAAAAlwSFlzAAAOxAAADsQBlSsOGwAAABFJREFUCNdjYGBgcDVg\n",
       "YBIAAAI2AIhie7eBAAAAAElFTkSuQmCC\n",
       "\" style=\"display:inline;vertical-align:middle;\" /></a></td></tr>\n",
       "<tr><td>7</td><td>ExprTuple</td><td>8, 9</td><td><a class=\"ProveItLink\" href=\"__pv_it/exprrange_reductions/d35d5da9ea47b0747138f514695542cba26a2fff0/expr.ipynb\"><img src=\"data:image/png;base64,iVBORw0KGgoAAAANSUhEUgAAADkAAAAVBAMAAAAOWFv7AAAAMFBMVEX////MzMxUVFRERES6uroi\n",
       "IiIQEBCYmJhmZmYyMjLu7u52dnaqqqqIiIjc3NwAAACW8nlqAAAAAXRSTlMAQObYZgAAAAlwSFlz\n",
       "AAAOxAAADsQBlSsOGwAAAPdJREFUKM9jYGB4wIAdgMV5D+CQ9QURp3FIMvAWMDBwTcAlyzCLgYGj\n",
       "AKdsBQMDG05JBrYFDCdxy3IWMHQDKT7texdQxCEC3AoM04EctwfMv1BkIQLsExhigM5OZ+AIQJaE\n",
       "CvAkMKQAnf2BgXUDsixUgPEDSJbNgGG9A4pjIQIsCSCT119gqEexFirAE8BgC+QcYNDkecCFJAsW\n",
       "YGA3YNjEwMB8gSeCg2E9IkghAgwcGxhEgU7U3fjoIgNrFNAdxkBgBxVgYHVgYBWA6TiFHlZPgV5u\n",
       "gHE2oMu2A7EdLAguoEnyGQCJxbDIRtfKDEo6fBdwRNE9BgYACSI6ympRy1gAAAAASUVORK5CYII=\n",
       "\" style=\"display:inline;vertical-align:middle;\" /></a></td></tr>\n",
       "<tr><td>8</td><td>Variable</td><td></td><td><a class=\"ProveItLink\" href=\"../packages/proveit/__pv_it/common/c06c606ec12678c58933ac85412ecadc2ae28be60/expr.ipynb\"><img src=\"data:image/png;base64,iVBORw0KGgoAAAANSUhEUgAAAAsAAAAJBAMAAAAWSsseAAAAMFBMVEX////MzMwyMjKqqqoiIiJm\n",
       "ZmaYmJju7u5EREQQEBC6urqIiIh2dnZUVFTc3NwAAAAqL9KcAAAAAXRSTlMAQObYZgAAAAlwSFlz\n",
       "AAAOxAAADsQBlSsOGwAAAEdJREFUCNdjYOC7s28DAwPDygcc3xkY2KcxsDowMLB+YGA5wMDA2cBQ\n",
       "v4CBoX4DQz5QRb0BwyXmBwwcG5hdWYEqbx98u5EBABisEWzRR9jxAAAAAElFTkSuQmCC\n",
       "\" style=\"display:inline;vertical-align:middle;\" /></a></td></tr>\n",
       "<tr><td>9</td><td>Variable</td><td></td><td><a class=\"ProveItLink\" href=\"__pv_it/exprrange_reductions/006c465e50948aa2b52285e2de47974f741255cc0/expr.ipynb\"><img src=\"data:image/png;base64,iVBORw0KGgoAAAANSUhEUgAAABgAAAAJBAMAAADa0/H1AAAAMFBMVEX///8yMjKqqqoiIiJmZmaY\n",
       "mJju7u4QEBC6urqIiIh2dnZUVFTc3NxERETMzMwAAAAY8qdrAAAAAXRSTlMAQObYZgAAAAlwSFlz\n",
       "AAAOxAAADsQBlSsOGwAAAElJREFUCNdjYICC0ytPwpgMHDUM9xNgnPQABme4jD8DgxWcU8vA9gPG\n",
       "ZvvJwPoBzvnEwC2gA+PdZFB2cGB4excIDjBkz3qz8wEAJxQUWRMzkfwAAAAASUVORK5CYII=\n",
       "\" style=\"display:inline;vertical-align:middle;\" /></a></td></tr>\n",
       "</table>\n"
      ],
      "text/plain": [
       "0. (a * i), (a * (i + 1)), ..., (a * j)\n",
       "   core type: ExprRange\n",
       "   lambda_map: 1\n",
       "   start_index: 2\n",
       "   end_index: 3\n",
       "1. _a -> (a * _a)\n",
       "   core type: Lambda\n",
       "   parameter: 9\n",
       "   body: 5\n",
       "2. i\n",
       "   core type: Variable\n",
       "   sub-expressions: \n",
       "3. j\n",
       "   core type: Variable\n",
       "   sub-expressions: \n",
       "4. (_a)\n",
       "   core type: ExprTuple\n",
       "   sub-expressions: 9\n",
       "5. a * _a\n",
       "   core type: Operation\n",
       "   operator: 6\n",
       "   operands: 7\n",
       "6. *\n",
       "   core type: Literal\n",
       "   sub-expressions: \n",
       "7. (a, _a)\n",
       "   core type: ExprTuple\n",
       "   sub-expressions: 8, 9\n",
       "8. a\n",
       "   core type: Variable\n",
       "   sub-expressions: \n",
       "9. _a\n",
       "   core type: Variable\n",
       "   sub-expressions: "
      ]
     },
     "metadata": {},
     "output_type": "display_data"
    }
   ],
   "source": [
    "a_prod_range.expr_info()"
   ]
  },
  {
   "cell_type": "markdown",
   "metadata": {},
   "source": [
    "This `lambda_map` may be accessed directly:"
   ]
  },
  {
   "cell_type": "code",
   "execution_count": 8,
   "metadata": {},
   "outputs": [
    {
     "data": {
      "text/html": [
       "<a class=\"ProveItLink\" href=\"__pv_it/exprrange_reductions/d2c7845bce44c042aa36bf9875459f3e275aa7dd0/expr.ipynb\"><img src=\"data:image/png;base64,iVBORw0KGgoAAAANSUhEUgAAAHkAAAAVCAMAAABVErFaAAAANlBMVEX///8WFhYNDQ0yMjKqqqoi\n",
       "IiJmZmaYmJju7u4QEBC6urqIiIh2dnZUVFTc3NxERETMzMwAAAA9ejUTAAAAAXRSTlMAQObYZgAA\n",
       "AAlwSFlzAAAOxAAADsQBlSsOGwAAAS5JREFUSMe9VtuWwyAIdFe8xLv//7Mbk20biKQn2lPeEhgG\n",
       "R1CFmLL0RRQyD0Mw52eJIYxWbOaIrRyGSjvFrMcrN/qeRqQzlomql3eLRn7AhYKcYJZnvVIMPj17\n",
       "TyEf/tKhC7kYpkNciKeGX1ZJc7VdLsi9sgmEn6VjnKGC2aWl06q/SuHzIb+CLoTdOBQHtEl03XI+\n",
       "5/T3RyGr1b2axPUgtjLbj+NKpS2XN7Bj1uykE5T5BGEGBsc5smZbWwOYyvRUQQfArvYJwomN40BR\n",
       "d8sWpYDUY5ZooLPvQlhmFGcy8bdssOr1UMxdzPP/YFAIZzhuHcmSH9ZqsdGHkqIvPWzAf8suCA+5\n",
       "Sq3czLmtyvi9rmaI7x77H7ps9q0bfVykPPkysPnbJb9qH3vWbNftH8TQDF7a6zXKAAAAAElFTkSu\n",
       "QmCC\n",
       "\" style=\"display:inline;vertical-align:middle;\" /></a>"
      ],
      "text/plain": [
       "_a -> (a * _a)"
      ]
     },
     "metadata": {},
     "output_type": "display_data"
    }
   ],
   "source": [
    "a_prod_range.lambda_map"
   ]
  },
  {
   "cell_type": "markdown",
   "metadata": {},
   "source": [
    "You can create the same **ExprRange** by proving `None` for the `parameter` and `body` but suppling the `lambda_map` instead:"
   ]
  },
  {
   "cell_type": "code",
   "execution_count": 9,
   "metadata": {},
   "outputs": [
    {
     "data": {
      "text/html": [
       "<strong id=\"a_prod_range_again\">a_prod_range_again:</strong> <a class=\"ProveItLink\" href=\"__pv_it/exprrange_reductions/37b1f1b9613f8ea90e817111ad8af41ae9a1caf10/expr.ipynb\"><img src=\"data:image/png;base64,iVBORw0KGgoAAAANSUhEUgAAAQUAAAAVBAMAAAC9GeaNAAAAMFBMVEX////MzMxUVFRERES6uroi\n",
       "IiIQEBCYmJhmZmYyMjLu7u52dnaqqqqIiIjc3NwAAACW8nlqAAAAAXRSTlMAQObYZgAAAAlwSFlz\n",
       "AAAOxAAADsQBlSsOGwAAAutJREFUSMd9lj2IE0EUx18+Ntnb7MZrrhO9ykPkYGvhzlR2B7GIBO+K\n",
       "gCd2kvK6S3OIWBhshKuCB4LFkZhe2MbiPNDVKqCEcCBWBynSXFBx3tud2Zmd2Z1iM/P+7zfv7ZuZ\n",
       "zALADNJtljkwGhJzhsRbPQMDL9DsO1Jfkw3+AtrJz+FnBgbnaesEvG4y0uRzclFb4REQJIN6c0dp\n",
       "S+EuIU4/LewCHIuBJpNhV7W9fbGECDrOy+G9ZvH6hNim1A9ET5NlQ5n3vWUMHeTl8NxoZUjFZK8M\n",
       "RE+T5OKGcg4IJaChdSAj1pnJviJeVpPPMnNAaCVnQ7h9yIj1En8vPl6K9Z6waWrrfIhy/c40BMlA\n",
       "LnoOCCWg3uyRGgng9HuEvcF1fQb3eBFrZVayqkgZ5fuz0hIkA7noOSBU7WfngDWSIwH0Kl1C9lj/\n",
       "XReOuP26zaZxxdIx2XkKdhMkA7noOSDkdrJzsAI1EnizawEh+2zwKjptzhV7DCps4sKc+zHZnoM1\n",
       "4jIayAXsVuvhk1ZrXeSAUAIaNl9DRIIhvoUDXweEYA6PwVmg0sYH2ssdKYeKD8OGkPdjF70OCJU7\n",
       "+TnwSFaPTEcRhsX+C9Uk/9cOm7wplX4YwiHIa0EuhrVoyqBxLdRIUU0YssVy+APF/hd+LhY1tk98\n",
       "KhVrTB4GcNsVt9FW7GLYk74Mqg0LVwrVSOzALSJsTPN+6vX4X/j8d3yMaM3GyLptW3Dj2EXJofYv\n",
       "PnsCpM1DM4gRnls5EkQ1Ycga/t//uLG5yoUNdl4sXH+LXUQoO5sfLr4Jbi12kXMo3rraiKAEbPNV\n",
       "p0cLN18zFQmKWDWGWKuGpftFz8/okZZlgxumoQRM/UfiYjzQdmkYIdVe5u2CddVk2VDupqEEVFsN\n",
       "9AutGBwOYmTb8L3j0+6kt9Tk7ayPJF8FlXaKj5L6mXUz2OOxTvTpImeP+pp8kpEDQjKoNMrK8dX7\n",
       "Y9Lgsep61lP59dKywV9A0/xvuUsz9h/U1N13CoJcrgAAAABJRU5ErkJggg==\n",
       "\" style=\"display:inline;vertical-align:middle;\" /></a><br>"
      ],
      "text/plain": [
       "<IPython.core.display.HTML object>"
      ]
     },
     "metadata": {},
     "output_type": "display_data"
    }
   ],
   "source": [
    "from proveit import Lambda\n",
    "a_prod_range_again = ExprRange(None, None, i, j, lambda_map=Lambda(k, Mult(a, k)))"
   ]
  },
  {
   "cell_type": "code",
   "execution_count": 10,
   "metadata": {},
   "outputs": [
    {
     "data": {
      "text/plain": [
       "True"
      ]
     },
     "metadata": {},
     "output_type": "display_data"
    }
   ],
   "source": [
    "a_prod_range_again == a_prod_range"
   ]
  },
  {
   "cell_type": "markdown",
   "metadata": {},
   "source": [
    "When **ExprRange**(s) are used as *operands* of an **Operation**, it is typically formatted in a clean manner that reflects that there are an indeterminant number of *operands*:"
   ]
  },
  {
   "cell_type": "code",
   "execution_count": 11,
   "metadata": {},
   "outputs": [
    {
     "data": {
      "text/html": [
       "<strong id=\"add_with_ranges\">add_with_ranges:</strong> <a class=\"ProveItLink\" href=\"__pv_it/exprrange_reductions/dd8cca8a3cf1677ab276aa1a13b649c2dd238c7d0/expr.ipynb\"><img src=\"data:image/png;base64,iVBORw0KGgoAAAANSUhEUgAAApUAAAAVBAMAAADlUAhlAAAAMFBMVEX////MzMxUVFRERES6uroi\n",
       "IiIQEBCYmJhmZmYyMjLu7u52dnaqqqqIiIjc3NwAAACW8nlqAAAAAXRSTlMAQObYZgAAAAlwSFlz\n",
       "AAAOxAAADsQBlSsOGwAAA/BJREFUWMPNWE1IG0EUfvlP1iR68VYa6aUtVvDUQ0Gbk55ELW4J1IPQ\n",
       "PxDaBjxUT+5FQvFg8CL00qWFQg+SVOixNBeFUmzTXhTa2qBIT0IOXpQWOrM7s9n52ewo4nbgLck3\n",
       "87337b43s7MDAA3gm4hA1hdowR5dnuMVwivwsv+B6ExNwEfEoT98AbtF67apNpmbkVPxJFHPXfQn\n",
       "Ht2GTJHH0lUJkDE4sNsE2ALb1JrgF0I3hPDa9TFfHtKyFbhorcx33AF4zmNvZECM9aldeYFkpYip\n",
       "NcEvZMpi+JThy0NahKjnLjpZlIyepcVPO0v8CDcwTH/8QnIShm1sDz+pPP0y4Sm9s6bCo1GDEx2X\n",
       "4XGSozRdRKb4EW5g0y0LpokxPfws8fTLhKf0UVOJNx206I8yPFVk6Wl+IWAAVtYKMRVZgl82PKW/\n",
       "U+OtBC16Eb/je3ect5i2jW6ko4elJ/Eis/v+wCFiYLUklbVGTEWW4BdWv0ErPKUv/7zmw7O0rAUt\n",
       "GmdjqBE5pnhHFJVwoszScaFEH8NN01051SGprDliKrIEv2DEi63whK4dmZVGe56lZS5o0ZNI60NI\n",
       "OruOC0l0I+kplh5Di//rIiy0Xps1CNWeSWVtEFORJfjNNPB7hoYn9PQxxOttebaWjaBF30NF27R3\n",
       "CtoRuphYdqiJa1nXb9/XdTzf4nmAJWu3BFAp24AGj/DfBV1/oOu3WrJyxJged2vnV4MvJgnfoqPs\n",
       "dla9eJZoW0suaNHoWcb7oZLHPQV8wXiUq0tMvwvaoZUWgwDpY2mKh4ippFjwC1a6o2xdokSP1jx5\n",
       "BVK6TtTgRKM5XqnDfIuyrCHamFDW2l9INN3TBVI9pkzWOjHF6cL6tdNNw28628slsz3P0rIetOgB\n",
       "9CxrcDVNDxS0ww60jvaz9EgdtD8QLn+mZASgWq7KZM0QU5El+IUsTjcNT59lF1rR2/MsLTNBi17D\n",
       "nelC0lnGm7/Ja99Fx5uUAVg3nG85DOSy3DYQPuCELBJz9VirCr5Yi1s7v3a6k+z9hosRw4dnaVk8\n",
       "U9GW1pOJ7kaD+97ufnU6LqNgsTxLD6FJ9/L7xb4u54kjIPyUS+SlJ8uIOwG2uRc8g14KPn4hjEuS\n",
       "hqd31VsCH56lZeJMRVtaTyY61iUp533+s2mcHzEu+4Sw6n3MNrXPMcGvtfnZ96J786AVNTjRCUNC\n",
       "K/Gf87Nexw/CYQA+K3HOS3yPCTi/4dq86Qo/rMpzIgcselCS4X4eiTT8ANr2iKk1zk2uNikND6AQ\n",
       "fi940a9UlGr9fgBtg/L0eDTOTXI73+6W24cfDF50Vjyc3xH5B74A/Z6yTbXJ3OyciieJes6i/wHC\n",
       "UCATi7tIVgAAAABJRU5ErkJggg==\n",
       "\" style=\"display:inline;vertical-align:middle;\" /></a><br>"
      ],
      "text/plain": [
       "<IPython.core.display.HTML object>"
      ]
     },
     "metadata": {},
     "output_type": "display_data"
    }
   ],
   "source": [
    "add_with_ranges = Add(a_prod_range, b, a_prod_range)"
   ]
  },
  {
   "cell_type": "markdown",
   "metadata": {},
   "source": [
    "Note that the *operands* are an **ExprTuple** that contains the **ExprRange**(s):"
   ]
  },
  {
   "cell_type": "code",
   "execution_count": 12,
   "metadata": {},
   "outputs": [
    {
     "data": {
      "text/html": [
       "<table><tr><th>&nbsp;</th><th>core type</th><th>sub-expressions</th><th>expression</th></tr>\n",
       "<tr><td>0</td><td>Operation</td><td>operator:&nbsp;1<br>operands:&nbsp;2<br></td><td><a class=\"ProveItLink\" href=\"__pv_it/exprrange_reductions/dd8cca8a3cf1677ab276aa1a13b649c2dd238c7d0/expr.ipynb\"><img src=\"data:image/png;base64,iVBORw0KGgoAAAANSUhEUgAAApUAAAAVBAMAAADlUAhlAAAAMFBMVEX////MzMxUVFRERES6uroi\n",
       "IiIQEBCYmJhmZmYyMjLu7u52dnaqqqqIiIjc3NwAAACW8nlqAAAAAXRSTlMAQObYZgAAAAlwSFlz\n",
       "AAAOxAAADsQBlSsOGwAAA/BJREFUWMPNWE1IG0EUfvlP1iR68VYa6aUtVvDUQ0Gbk55ELW4J1IPQ\n",
       "PxDaBjxUT+5FQvFg8CL00qWFQg+SVOixNBeFUmzTXhTa2qBIT0IOXpQWOrM7s9n52ewo4nbgLck3\n",
       "87337b43s7MDAA3gm4hA1hdowR5dnuMVwivwsv+B6ExNwEfEoT98AbtF67apNpmbkVPxJFHPXfQn\n",
       "Ht2GTJHH0lUJkDE4sNsE2ALb1JrgF0I3hPDa9TFfHtKyFbhorcx33AF4zmNvZECM9aldeYFkpYip\n",
       "NcEvZMpi+JThy0NahKjnLjpZlIyepcVPO0v8CDcwTH/8QnIShm1sDz+pPP0y4Sm9s6bCo1GDEx2X\n",
       "4XGSozRdRKb4EW5g0y0LpokxPfws8fTLhKf0UVOJNx206I8yPFVk6Wl+IWAAVtYKMRVZgl82PKW/\n",
       "U+OtBC16Eb/je3ect5i2jW6ko4elJ/Eis/v+wCFiYLUklbVGTEWW4BdWv0ErPKUv/7zmw7O0rAUt\n",
       "GmdjqBE5pnhHFJVwoszScaFEH8NN01051SGprDliKrIEv2DEi63whK4dmZVGe56lZS5o0ZNI60NI\n",
       "OruOC0l0I+kplh5Di//rIiy0Xps1CNWeSWVtEFORJfjNNPB7hoYn9PQxxOttebaWjaBF30NF27R3\n",
       "CtoRuphYdqiJa1nXb9/XdTzf4nmAJWu3BFAp24AGj/DfBV1/oOu3WrJyxJged2vnV4MvJgnfoqPs\n",
       "dla9eJZoW0suaNHoWcb7oZLHPQV8wXiUq0tMvwvaoZUWgwDpY2mKh4ippFjwC1a6o2xdokSP1jx5\n",
       "BVK6TtTgRKM5XqnDfIuyrCHamFDW2l9INN3TBVI9pkzWOjHF6cL6tdNNw28628slsz3P0rIetOgB\n",
       "9CxrcDVNDxS0ww60jvaz9EgdtD8QLn+mZASgWq7KZM0QU5El+IUsTjcNT59lF1rR2/MsLTNBi17D\n",
       "nelC0lnGm7/Ja99Fx5uUAVg3nG85DOSy3DYQPuCELBJz9VirCr5Yi1s7v3a6k+z9hosRw4dnaVk8\n",
       "U9GW1pOJ7kaD+97ufnU6LqNgsTxLD6FJ9/L7xb4u54kjIPyUS+SlJ8uIOwG2uRc8g14KPn4hjEuS\n",
       "hqd31VsCH56lZeJMRVtaTyY61iUp533+s2mcHzEu+4Sw6n3MNrXPMcGvtfnZ96J786AVNTjRCUNC\n",
       "K/Gf87Nexw/CYQA+K3HOS3yPCTi/4dq86Qo/rMpzIgcselCS4X4eiTT8ANr2iKk1zk2uNikND6AQ\n",
       "fi940a9UlGr9fgBtg/L0eDTOTXI73+6W24cfDF50Vjyc3xH5B74A/Z6yTbXJ3OyciieJes6i/wHC\n",
       "UCATi7tIVgAAAABJRU5ErkJggg==\n",
       "\" style=\"display:inline;vertical-align:middle;\" /></a></td></tr>\n",
       "<tr><td>1</td><td>Literal</td><td></td><td><a class=\"ProveItLink\" href=\"../packages/proveit/numbers/addition/__pv_it/common/4b7effaab3619a1c2c38fe2dee8601df8ec714590/expr.ipynb\"><img src=\"data:image/png;base64,iVBORw0KGgoAAAANSUhEUgAAAA4AAAAOBAMAAADtZjDiAAAAHlBMVEX///9UVFQQEBAiIiJmZmaI\n",
       "iIiqqqqYmJi6uroAAAAAFVhYAAAAAXRSTlMAQObYZgAAAAlwSFlzAAAOxAAADsQBlSsOGwAAAB9J\n",
       "REFUCNdjYGBgaGeAgFRiaGdjYyVjY0Oi1SPRIHsAgDEGyG9xCpgAAAAASUVORK5CYII=\n",
       "\" style=\"display:inline;vertical-align:middle;\" /></a></td></tr>\n",
       "<tr><td>2</td><td>ExprTuple</td><td>4, 3, 4</td><td><a class=\"ProveItLink\" href=\"__pv_it/exprrange_reductions/5a6b1d43d7c418da1bd9df2d7a82a0e5c4614b9a0/expr.ipynb\"><img src=\"data:image/png;base64,iVBORw0KGgoAAAANSUhEUgAAAjwAAAAVBAMAAACwHSl+AAAAMFBMVEX////MzMxUVFRERES6uroi\n",
       "IiIQEBCYmJhmZmYyMjLu7u52dnaqqqqIiIjc3NwAAACW8nlqAAAAAXRSTlMAQObYZgAAAAlwSFlz\n",
       "AAAOxAAADsQBlSsOGwAABRFJREFUWMOdWE1oXFUUPulMMpM3PxQkOzFBF1U0kKUbY1bjSphKR4Lt\n",
       "ImBrIaAOZGGz6iwsQYIYuol049CA0EWYMSs3YjYJxKKOblqxxqEiroIRuukYpfee++59595z3st0\n",
       "DtzHfed8373fPe/+vPcAoA+m+NZPvREdaNX0UBazmt5Yuqc6XCvorsJImpBW2TUlsDdJnYUFvLZ8\n",
       "LyByk5hIY/YgG/fgdLwjyR2cqglpd+Pi2X2oNJM7Fr6LEN+m2gD3dGfNLCmsKXimjTRjW1dsrdwN\n",
       "B9EiOB7WDgWRNd2DkTSpEm2Y4ttFgFvuhoXRcdF3vfiFkjKpCiFy4z3BLzHN2Oe2cifEjXcpjoXv\n",
       "GIisiRCfRpMqRfWwi9IDv+ZqLEwdeVv/XbVXaHlEbmJPhmbsxFbWsnEsTB1vQKCp0BpJkyoTqjoh\n",
       "xSdcxlmYOso9IgWWPaLQqOxedske2NpSJo6HqeN7CDUtw0ialuFAXQ+k8KRLKgsfpKZn0yNyO5Dd\n",
       "m7ZSqttmNzJxLOw5/PRsUuLTadqEdXXVpfryodvfo/tqhKUZexuGtQMhPD07QIncdFPw8JujZOH/\n",
       "NhPTzDOZ/dkcI8VuANxeozgW1o7tNTE9O5SYoskbXqJpx+W21s+5iV3Kq6la2KB5pGHtQAhPzypQ\n",
       "ovxI8h/A6279FeFqTEPr3Ir+d3PXA3ZrFMfC2oEQnp5VSkzR5A0v0bQKl9RVlegqFO3EhmeLaoRl\n",
       "t5rDsHYghKdnHyiRm+7tyybccI5D3Iz37e2PbXjfnFO7PnBs9xOKC8PaYSA8PfuUKGvyh5do2ofL\n",
       "6qpK8dgcix096vaEGvPYsYWHYe1ACBQbjbevNBozTso0UCI33dtn5qUgeqwd7fIgpqGpAf5r9ssF\n",
       "B8ROI0ybw4Vh7TAQuNFovNdovAWepmnI1OQPL9E0bdMzMQedBf0UWvFDhPwS4fvhyzGEzx49vfNL\n",
       "2el5F6JHur5oZnI9psXvW/kTN34LxE5Rco2mxwtrR3kgzp4aJcqa/OElmmp2cXV6cD1h3IxUZ3Uy\n",
       "+/zwpRjC07MHlChP5P+gcOy97Rla/NpTHNjF4gMnZ9oEx8J6tSGEp2ePdiBr8oeXaNqD19RVlc4u\n",
       "vFS2n2bRo5LaYed0DYSwdiCEp2cFYiJ/97FNRSdwZuMH5/57IaYh5R+9o+hKrhcAOwtdgmNh5TAQ\n",
       "np4V2oGsyR9eomnFHnu5Xnmx6PbB47/isxMXYxjWDoR46fm2Hx+SmogbC15w43hMmlJy9lrJW+x1\n",
       "e7Yi6By8air67cADTlebBMfC2oEQLz1O07osRx5eomkdpvSXm6LMfvXwJxc/p/oZx8X4jhSeiiE0\n",
       "Pc9/eFN5LkBMbLTj3QWX8yJpCm7/+tzsWdfWC/qiaUi5/XXTVMbqAfDMRxTHwtqBEJqeRJMjJnJa\n",
       "qcNLNF2AcdXD+FlhSf6J1+9ACFNHmf4sqNYtscxnstgUnjZISyhYOS/9u6mnh89Lb82WFHQwrCZV\n",
       "Ur/YzCtoF4QwdeSb4dcdEku8QampVwoD91HoKCVI+bAluGvpX9Dkk9SSgg6G1aTLPJgSPqk53Ltw\n",
       "brDwfMoh8IcjbvNtUGhq7ESfOEgjFKzk+nLzaeFcP0NT0MGwmnTZiovYXcX8pAqDWylS5h2R/58T\n",
       "m/r040Sfo2AlmpObTwtLeEcKOhhWky7VnimBHdKZFIar8t/JSj8gCpOyl0JjdpSNOzod70iV/kia\n",
       "VHkCQK/1J97AtfAAAAAASUVORK5CYII=\n",
       "\" style=\"display:inline;vertical-align:middle;\" /></a></td></tr>\n",
       "<tr><td>3</td><td>Variable</td><td></td><td><a class=\"ProveItLink\" href=\"../packages/proveit/__pv_it/common/195236b98c6c564a75b5dbada74b173bc52d5c3e0/expr.ipynb\"><img src=\"data:image/png;base64,iVBORw0KGgoAAAANSUhEUgAAAAkAAAAOBAMAAAAPuiubAAAAMFBMVEX///+YmJjMzMzc3NyIiIhU\n",
       "VFR2dna6urqqqqpmZmYyMjIiIiIQEBBERETu7u4AAAD7tRWPAAAAAXRSTlMAQObYZgAAAAlwSFlz\n",
       "AAAOxAAADsQBlSsOGwAAAFBJREFUCNdj4LuzgQEIuCaASP4GEFn/AERmgwiGpS4RDAx8vx68N2Dg\n",
       "+MfA48DAuYCBP4GBO4GhvgGkfP4DBn4FvoMMDKwCvEAj+MImMjAAAMxHEV3T4g9SAAAAAElFTkSu\n",
       "QmCC\n",
       "\" style=\"display:inline;vertical-align:middle;\" /></a></td></tr>\n",
       "<tr><td>4</td><td>ExprRange</td><td>lambda_map:&nbsp;5<br>start_index:&nbsp;6<br>end_index:&nbsp;7<br></td><td><a class=\"ProveItLink\" href=\"__pv_it/exprrange_reductions/37b1f1b9613f8ea90e817111ad8af41ae9a1caf10/expr.ipynb\"><img src=\"data:image/png;base64,iVBORw0KGgoAAAANSUhEUgAAAQUAAAAVBAMAAAC9GeaNAAAAMFBMVEX////MzMxUVFRERES6uroi\n",
       "IiIQEBCYmJhmZmYyMjLu7u52dnaqqqqIiIjc3NwAAACW8nlqAAAAAXRSTlMAQObYZgAAAAlwSFlz\n",
       "AAAOxAAADsQBlSsOGwAAAutJREFUSMd9lj2IE0EUx18+Ntnb7MZrrhO9ykPkYGvhzlR2B7GIBO+K\n",
       "gCd2kvK6S3OIWBhshKuCB4LFkZhe2MbiPNDVKqCEcCBWBynSXFBx3tud2Zmd2Z1iM/P+7zfv7ZuZ\n",
       "zALADNJtljkwGhJzhsRbPQMDL9DsO1Jfkw3+AtrJz+FnBgbnaesEvG4y0uRzclFb4REQJIN6c0dp\n",
       "S+EuIU4/LewCHIuBJpNhV7W9fbGECDrOy+G9ZvH6hNim1A9ET5NlQ5n3vWUMHeTl8NxoZUjFZK8M\n",
       "RE+T5OKGcg4IJaChdSAj1pnJviJeVpPPMnNAaCVnQ7h9yIj1En8vPl6K9Z6waWrrfIhy/c40BMlA\n",
       "LnoOCCWg3uyRGgng9HuEvcF1fQb3eBFrZVayqkgZ5fuz0hIkA7noOSBU7WfngDWSIwH0Kl1C9lj/\n",
       "XReOuP26zaZxxdIx2XkKdhMkA7noOSDkdrJzsAI1EnizawEh+2zwKjptzhV7DCps4sKc+zHZnoM1\n",
       "4jIayAXsVuvhk1ZrXeSAUAIaNl9DRIIhvoUDXweEYA6PwVmg0sYH2ssdKYeKD8OGkPdjF70OCJU7\n",
       "+TnwSFaPTEcRhsX+C9Uk/9cOm7wplX4YwiHIa0EuhrVoyqBxLdRIUU0YssVy+APF/hd+LhY1tk98\n",
       "KhVrTB4GcNsVt9FW7GLYk74Mqg0LVwrVSOzALSJsTPN+6vX4X/j8d3yMaM3GyLptW3Dj2EXJofYv\n",
       "PnsCpM1DM4gRnls5EkQ1Ycga/t//uLG5yoUNdl4sXH+LXUQoO5sfLr4Jbi12kXMo3rraiKAEbPNV\n",
       "p0cLN18zFQmKWDWGWKuGpftFz8/okZZlgxumoQRM/UfiYjzQdmkYIdVe5u2CddVk2VDupqEEVFsN\n",
       "9AutGBwOYmTb8L3j0+6kt9Tk7ayPJF8FlXaKj5L6mXUz2OOxTvTpImeP+pp8kpEDQjKoNMrK8dX7\n",
       "Y9Lgsep61lP59dKywV9A0/xvuUsz9h/U1N13CoJcrgAAAABJRU5ErkJggg==\n",
       "\" style=\"display:inline;vertical-align:middle;\" /></a></td></tr>\n",
       "<tr><td>5</td><td>Lambda</td><td>parameter:&nbsp;13<br>body:&nbsp;9<br></td><td><a class=\"ProveItLink\" href=\"__pv_it/exprrange_reductions/d2c7845bce44c042aa36bf9875459f3e275aa7dd0/expr.ipynb\"><img src=\"data:image/png;base64,iVBORw0KGgoAAAANSUhEUgAAAHkAAAAVCAMAAABVErFaAAAANlBMVEX///8WFhYNDQ0yMjKqqqoi\n",
       "IiJmZmaYmJju7u4QEBC6urqIiIh2dnZUVFTc3NxERETMzMwAAAA9ejUTAAAAAXRSTlMAQObYZgAA\n",
       "AAlwSFlzAAAOxAAADsQBlSsOGwAAAS5JREFUSMe9VtuWwyAIdFe8xLv//7Mbk20biKQn2lPeEhgG\n",
       "R1CFmLL0RRQyD0Mw52eJIYxWbOaIrRyGSjvFrMcrN/qeRqQzlomql3eLRn7AhYKcYJZnvVIMPj17\n",
       "TyEf/tKhC7kYpkNciKeGX1ZJc7VdLsi9sgmEn6VjnKGC2aWl06q/SuHzIb+CLoTdOBQHtEl03XI+\n",
       "5/T3RyGr1b2axPUgtjLbj+NKpS2XN7Bj1uykE5T5BGEGBsc5smZbWwOYyvRUQQfArvYJwomN40BR\n",
       "d8sWpYDUY5ZooLPvQlhmFGcy8bdssOr1UMxdzPP/YFAIZzhuHcmSH9ZqsdGHkqIvPWzAf8suCA+5\n",
       "Sq3czLmtyvi9rmaI7x77H7ps9q0bfVykPPkysPnbJb9qH3vWbNftH8TQDF7a6zXKAAAAAElFTkSu\n",
       "QmCC\n",
       "\" style=\"display:inline;vertical-align:middle;\" /></a></td></tr>\n",
       "<tr><td>6</td><td>Variable</td><td></td><td><a class=\"ProveItLink\" href=\"../packages/proveit/__pv_it/common/ae955345c83abf786c3aff8681cd5465beae262d0/expr.ipynb\"><img src=\"data:image/png;base64,iVBORw0KGgoAAAANSUhEUgAAAAcAAAAOBAMAAAARcxsoAAAALVBMVEX////c3NxUVFQyMjKqqqrM\n",
       "zMwQEBC6urqYmJju7u52dnYiIiJmZmaIiIgAAABgwC6IAAAAAXRSTlMAQObYZgAAAAlwSFlzAAAO\n",
       "xAAADsQBlSsOGwAAADpJREFUCNdjYGC4wwAEuxjQAeedBgYGLvYEBoYQHgMGhglsF4CCfhOAhBEn\n",
       "UPY5FwMD6wMJIFejgQEAGf4JG7xeJHMAAAAASUVORK5CYII=\n",
       "\" style=\"display:inline;vertical-align:middle;\" /></a></td></tr>\n",
       "<tr><td>7</td><td>Variable</td><td></td><td><a class=\"ProveItLink\" href=\"../packages/proveit/__pv_it/common/1ed21df18baca2f42b561a7ffbf30a2743d594650/expr.ipynb\"><img src=\"data:image/png;base64,iVBORw0KGgoAAAANSUhEUgAAAAoAAAASBAMAAACQmVJ4AAAAMFBMVEX///+6urp2dnYiIiKqqqrc\n",
       "3NyYmJgQEBBmZmZUVFQyMjKIiIju7u5ERETMzMwAAACiJdmqAAAAAXRSTlMAQObYZgAAAAlwSFlz\n",
       "AAAOxAAADsQBlSsOGwAAAExJREFUCNdjYGBg4LsDJBi4FzBgA6d3gsgG9gSgigB+BwYGHgb/AyCh\n",
       "ZrC0EYhg/Qgi2T6ASM4LIJJ9A5DlkA9U+N7BBMjn2CHAwAAAZeMNomSBQaEAAAAASUVORK5CYII=\n",
       "\" style=\"display:inline;vertical-align:middle;\" /></a></td></tr>\n",
       "<tr><td>8</td><td>ExprTuple</td><td>13</td><td><a class=\"ProveItLink\" href=\"__pv_it/exprrange_reductions/4b0dd6be36d76552eda6a95d5b4a27f5a5b62f900/expr.ipynb\"><img src=\"data:image/png;base64,iVBORw0KGgoAAAANSUhEUgAAACUAAAAVBAMAAAAzyjqdAAAAMFBMVEX////MzMxUVFRERES6uroi\n",
       "IiIQEBCYmJhmZmYyMjLu7u52dnaqqqqIiIjc3NwAAACW8nlqAAAAAXRSTlMAQObYZgAAAAlwSFlz\n",
       "AAAOxAAADsQBlSsOGwAAAMlJREFUGNNd0CELwkAUwPG/zM05t2GxW0WEgVkx2YRFg2FBsC7atBks\n",
       "NsEk+AGcfoJVscwvIEOwm03eDNvuHrx3vB+8x90BKeX4d04s2SQrd4lwQrB2snEAM1RsCYZCGEdu\n",
       "qtVDtkXndp8JNNrsCxun2hdqO2Y5WQtMH+yAeW7mBz2Cyqdkhsd5BNWgNHtOWInD9hkUFtOxU2oe\n",
       "19y0xJ6aYm1ES2ztixhi9S6vB+gj9Kbyjre44lqxjcihTK4nykk2Lft8N5HsCT8VgCbAE1QbkgAA\n",
       "AABJRU5ErkJggg==\n",
       "\" style=\"display:inline;vertical-align:middle;\" /></a></td></tr>\n",
       "<tr><td>9</td><td>Operation</td><td>operator:&nbsp;10<br>operands:&nbsp;11<br></td><td><a class=\"ProveItLink\" href=\"__pv_it/exprrange_reductions/5c28ea155f951ea857b37b991cebc65e72806cf00/expr.ipynb\"><img src=\"data:image/png;base64,iVBORw0KGgoAAAANSUhEUgAAADMAAAAJBAMAAABtbgnSAAAAMFBMVEX////MzMwyMjKqqqoiIiJm\n",
       "ZmaYmJju7u5EREQQEBC6urqIiIh2dnZUVFTc3NwAAAAqL9KcAAAAAXRSTlMAQObYZgAAAAlwSFlz\n",
       "AAAOxAAADsQBlSsOGwAAAGVJREFUCNdjYOC7s28DAxqAiq18wPEdXQoixj6NgdUBTQYqxvqBgeUA\n",
       "iPsJIQUV42xgqF8A4rsipKBi9RsY8tGtgorVGzBcYn6AJgUR49jA7MqKpgsqxn774NuNMDHGDiDo\n",
       "g4oBAPF6JsT/xOAXAAAAAElFTkSuQmCC\n",
       "\" style=\"display:inline;vertical-align:middle;\" /></a></td></tr>\n",
       "<tr><td>10</td><td>Literal</td><td></td><td><a class=\"ProveItLink\" href=\"../packages/proveit/numbers/multiplication/__pv_it/common/ed719cef37831779c16481533a4d380a2f95ab270/expr.ipynb\"><img src=\"data:image/png;base64,iVBORw0KGgoAAAANSUhEUgAAAAMAAAADBAMAAACkBqiMAAAAElBMVEX///9mZmYiIiIyMjLu7u4A\n",
       "AADK2g1jAAAAAXRSTlMAQObYZgAAAAlwSFlzAAAOxAAADsQBlSsOGwAAABFJREFUCNdjYGBgcDVg\n",
       "YBIAAAI2AIhie7eBAAAAAElFTkSuQmCC\n",
       "\" style=\"display:inline;vertical-align:middle;\" /></a></td></tr>\n",
       "<tr><td>11</td><td>ExprTuple</td><td>12, 13</td><td><a class=\"ProveItLink\" href=\"__pv_it/exprrange_reductions/d35d5da9ea47b0747138f514695542cba26a2fff0/expr.ipynb\"><img src=\"data:image/png;base64,iVBORw0KGgoAAAANSUhEUgAAADkAAAAVBAMAAAAOWFv7AAAAMFBMVEX////MzMxUVFRERES6uroi\n",
       "IiIQEBCYmJhmZmYyMjLu7u52dnaqqqqIiIjc3NwAAACW8nlqAAAAAXRSTlMAQObYZgAAAAlwSFlz\n",
       "AAAOxAAADsQBlSsOGwAAAPdJREFUKM9jYGB4wIAdgMV5D+CQ9QURp3FIMvAWMDBwTcAlyzCLgYGj\n",
       "AKdsBQMDG05JBrYFDCdxy3IWMHQDKT7texdQxCEC3AoM04EctwfMv1BkIQLsExhigM5OZ+AIQJaE\n",
       "CvAkMKQAnf2BgXUDsixUgPEDSJbNgGG9A4pjIQIsCSCT119gqEexFirAE8BgC+QcYNDkecCFJAsW\n",
       "YGA3YNjEwMB8gSeCg2E9IkghAgwcGxhEgU7U3fjoIgNrFNAdxkBgBxVgYHVgYBWA6TiFHlZPgV5u\n",
       "gHE2oMu2A7EdLAguoEnyGQCJxbDIRtfKDEo6fBdwRNE9BgYACSI6ympRy1gAAAAASUVORK5CYII=\n",
       "\" style=\"display:inline;vertical-align:middle;\" /></a></td></tr>\n",
       "<tr><td>12</td><td>Variable</td><td></td><td><a class=\"ProveItLink\" href=\"../packages/proveit/__pv_it/common/c06c606ec12678c58933ac85412ecadc2ae28be60/expr.ipynb\"><img src=\"data:image/png;base64,iVBORw0KGgoAAAANSUhEUgAAAAsAAAAJBAMAAAAWSsseAAAAMFBMVEX////MzMwyMjKqqqoiIiJm\n",
       "ZmaYmJju7u5EREQQEBC6urqIiIh2dnZUVFTc3NwAAAAqL9KcAAAAAXRSTlMAQObYZgAAAAlwSFlz\n",
       "AAAOxAAADsQBlSsOGwAAAEdJREFUCNdjYOC7s28DAwPDygcc3xkY2KcxsDowMLB+YGA5wMDA2cBQ\n",
       "v4CBoX4DQz5QRb0BwyXmBwwcG5hdWYEqbx98u5EBABisEWzRR9jxAAAAAElFTkSuQmCC\n",
       "\" style=\"display:inline;vertical-align:middle;\" /></a></td></tr>\n",
       "<tr><td>13</td><td>Variable</td><td></td><td><a class=\"ProveItLink\" href=\"__pv_it/exprrange_reductions/006c465e50948aa2b52285e2de47974f741255cc0/expr.ipynb\"><img src=\"data:image/png;base64,iVBORw0KGgoAAAANSUhEUgAAABgAAAAJBAMAAADa0/H1AAAAMFBMVEX///8yMjKqqqoiIiJmZmaY\n",
       "mJju7u4QEBC6urqIiIh2dnZUVFTc3NxERETMzMwAAAAY8qdrAAAAAXRSTlMAQObYZgAAAAlwSFlz\n",
       "AAAOxAAADsQBlSsOGwAAAElJREFUCNdjYICC0ytPwpgMHDUM9xNgnPQABme4jD8DgxWcU8vA9gPG\n",
       "ZvvJwPoBzvnEwC2gA+PdZFB2cGB4excIDjBkz3qz8wEAJxQUWRMzkfwAAAAASUVORK5CYII=\n",
       "\" style=\"display:inline;vertical-align:middle;\" /></a></td></tr>\n",
       "</table>\n"
      ],
      "text/plain": [
       "0. (a * i) +  (a * (i + 1)) +  ... +  (a * j) + b+ (a * i) +  (a * (i + 1)) +  ... +  (a * j)\n",
       "   core type: Operation\n",
       "   operator: 1\n",
       "   operands: 2\n",
       "1. +\n",
       "   core type: Literal\n",
       "   sub-expressions: \n",
       "2. ((a * i), (a * (i + 1)), ..., (a * j), b,(a * i), (a * (i + 1)), ..., (a * j))\n",
       "   core type: ExprTuple\n",
       "   sub-expressions: 4, 3, 4\n",
       "3. b\n",
       "   core type: Variable\n",
       "   sub-expressions: \n",
       "4. (a * i), (a * (i + 1)), ..., (a * j)\n",
       "   core type: ExprRange\n",
       "   lambda_map: 5\n",
       "   start_index: 6\n",
       "   end_index: 7\n",
       "5. _a -> (a * _a)\n",
       "   core type: Lambda\n",
       "   parameter: 13\n",
       "   body: 9\n",
       "6. i\n",
       "   core type: Variable\n",
       "   sub-expressions: \n",
       "7. j\n",
       "   core type: Variable\n",
       "   sub-expressions: \n",
       "8. (_a)\n",
       "   core type: ExprTuple\n",
       "   sub-expressions: 13\n",
       "9. a * _a\n",
       "   core type: Operation\n",
       "   operator: 10\n",
       "   operands: 11\n",
       "10. *\n",
       "    core type: Literal\n",
       "    sub-expressions: \n",
       "11. (a, _a)\n",
       "    core type: ExprTuple\n",
       "    sub-expressions: 12, 13\n",
       "12. a\n",
       "    core type: Variable\n",
       "    sub-expressions: \n",
       "13. _a\n",
       "    core type: Variable\n",
       "    sub-expressions: "
      ]
     },
     "metadata": {},
     "output_type": "display_data"
    }
   ],
   "source": [
    "add_with_ranges.expr_info()"
   ]
  },
  {
   "cell_type": "markdown",
   "metadata": {},
   "source": [
    "For convenience, there is a `var_range` method for creating an **ExprRange** over an indexed variable."
   ]
  },
  {
   "cell_type": "code",
   "execution_count": 13,
   "metadata": {},
   "outputs": [
    {
     "data": {
      "text/html": [
       "<a class=\"ProveItLink\" href=\"__pv_it/exprrange_reductions/d50f819f834d55ea1b9fad150926a94bf07ad8fc0/expr.ipynb\"><img src=\"data:image/png;base64,iVBORw0KGgoAAAANSUhEUgAAAHgAAAANBAMAAACQpbeTAAAAMFBMVEX///9ERES6uroQEBAyMjLc\n",
       "3NyYmJgiIiJmZmaqqqp2dnbMzMxUVFSIiIju7u4AAAAd7oVFAAAAAXRSTlMAQObYZgAAAAlwSFlz\n",
       "AAAOxAAADsQBlSsOGwAAAUNJREFUKM9jYHh75/WqCQxwwHf33K6VDPgAsoYG3rMcBQgpDoY7F9rx\n",
       "akbSwBbA9o8ngeGZA1QqlSH/wTGGV2vO4dIL1QAG3AwcQH3cd2GWb2BoAZnOgNN2iAYYYL4AJDgR\n",
       "LrcF4k8M8RtwuhusAQr0A/geIGlm+srwjiEPn2aQBra2vTcYGB4qHGbggtjMBwpsIR4DhgVAxnIG\n",
       "hgcY2kAqIBqeKScwBzDM39fMoAnR/B7oF87fLwyYgBHBXcfA94UBIgZmwHkQDXFXGPgfMLy4y9k2\n",
       "AaKZvQ6opvfCjEygskCgteVAzN4A5FQwQAmQCqiGswzKcAeB/TwPzmVtYA1g4MR0N0KFNUMHN4rm\n",
       "BXCpwN07HoCCAh3AVbB+YKieDWMv+XWBgQ8RBfb//wPTIWaAwVUwHWC4lYAsxYum9AKGZjQVAPmO\n",
       "aFf2d0h5AAAAAElFTkSuQmCC\n",
       "\" style=\"display:inline;vertical-align:middle;\" /></a>"
      ],
      "text/plain": [
       "x_{1}, x_{2}, ..., x_{n}"
      ]
     },
     "metadata": {},
     "output_type": "display_data"
    }
   ],
   "source": [
    "from proveit import var_range, IndexedVar\n",
    "var_range(x, one, n)"
   ]
  },
  {
   "cell_type": "markdown",
   "metadata": {},
   "source": [
    "Because of the `relabeling` freedom of **Lambda** expressions (alpha conversion), this is treated as `__eq__` to any similar **ExprRange** using any `parameter`."
   ]
  },
  {
   "cell_type": "code",
   "execution_count": 14,
   "metadata": {},
   "outputs": [
    {
     "data": {
      "text/plain": [
       "True"
      ]
     },
     "metadata": {},
     "output_type": "display_data"
    }
   ],
   "source": [
    "var_range(x, one, n) == ExprRange(k, IndexedVar(x, k), one, n)"
   ]
  },
  {
   "cell_type": "code",
   "execution_count": 15,
   "metadata": {},
   "outputs": [
    {
     "data": {
      "text/plain": [
       "True"
      ]
     },
     "metadata": {},
     "output_type": "display_data"
    }
   ],
   "source": [
    "var_range(x, one, n) == ExprRange(a, IndexedVar(x, a), one, n)"
   ]
  },
  {
   "cell_type": "markdown",
   "metadata": {},
   "source": [
    "Also note that there are a variety of variable ranges already defined for convenience \n",
    "in <a class=\"ProveItLink\" href=\"../packages/proveit/core_expr_types/_theory_nbs_/common.ipynb\">proveit.core\\_expr\\_types.\\_theory\\_nbs\\_/common.ipynb</a>:"
   ]
  },
  {
   "cell_type": "code",
   "execution_count": 16,
   "metadata": {},
   "outputs": [],
   "source": [
    "from proveit.core_expr_types import a_i_to_j, a_1_to_n, x_1_to_n"
   ]
  },
  {
   "cell_type": "code",
   "execution_count": 17,
   "metadata": {},
   "outputs": [
    {
     "data": {
      "text/html": [
       "<a class=\"ProveItLink\" href=\"__pv_it/exprrange_reductions/442032b0c138413ed0a2bedb35dc220b29e3d94d0/expr.ipynb\"><img src=\"data:image/png;base64,iVBORw0KGgoAAAANSUhEUgAAAZEAAAAWBAMAAADzzbywAAAAMFBMVEX////MzMxUVFRERES6uroi\n",
       "IiIQEBCYmJhmZmYyMjLu7u52dnaqqqqIiIjc3NwAAACW8nlqAAAAAXRSTlMAQObYZgAAAAlwSFlz\n",
       "AAAOxAAADsQBlSsOGwAAA3xJREFUWMPdV09IFFEc/lb3zzS7O64HIwpDOhQVCxsGQWBtF09F6yEQ\n",
       "67Bh0KnaY0XkXMr+EO1N6NKokGLZmtAhTLCDkAW1CYEhyqAEYVQreMn+2Hvz3rx5s7uzeehg+8DZ\n",
       "9/3e7/t975t5780IwMT/3ywP0YkqcHKMXl5XgRFEM4CarQYnuAcomapwchEIVoURBA1MVYeTTRnc\n",
       "Jj/a3vm8E1wY/7JOuptXTPxrnaIEdW7PtueesEwbnu4dsw/ecBN6yE+rWbsKPGYx/3kcNqCu5y3D\n",
       "eIjJRNGKYGkrTlAwnb/mCcs0PRpXUrwfyuIUcX8WNDLOYg8yIAXC9s1WL3lW4jy0ycQB+yy0oDq2\n",
       "w9MNy3faVXQZuxw9Bh+O7vHih8zQao19XkXSOEPcFxAYEQl3gZO2afLX+N7TiZvHiL65lAwViLtW\n",
       "0iQhq8VwU9ZjUIfnc/FBcd4gvgJ1EkwglxSxTqgrvJugl0nv88LF48RISoZ1SW3Ziy4J8XbOrUfh\n",
       "Cr7FvCfg7FJ/mq6uXB5d5IXfxJbML4QK8E+vwwnjqTMTElE4YTBkeDrhCd2NM2I2vzEk6VnwciUn\n",
       "x03V4AWIbAuZ0QR2R5byZPOSNa3+RE32zXCdITspXesqOM9UIlmJaDmhgxwinLJgURP5A62ZoMkI\n",
       "+2vSGBF6NsRTL/n+5E6EwQoglMAoUJuPtCvaIyL5nSS0YFLXlyblZ2LFc1neEcjiYSisS0TLCR3k\n",
       "EA2Gw7TiAjGhD6hjGZHlwbR/QujZ0NdRjks7b7dex1GwAlBG0EDG4k8W3pF5ASdIrG92ezxGZJTm\n",
       "5s7mA+we0XiA7v928Eugw+bRl5JEpE7oIIfaQQ4tkm5fnPw4Wnm1O/mXVyD0bLhoSPJiDpQwOBfp\n",
       "JlatAggkEbCXYa6X3Aj7OaqrMXl1RUqf7yvRqzPlBGufOIOf8FWGIkvkn8YNnyvDrafpmllZnhX4\n",
       "SBaYziNTClnUQimry07CpSvdOX43uxIsJ2JQ21d/S861m8jXCmh74cpw6y3WbzEqyvMC3aR7iIf6\n",
       "5sn7X+youMmdfL4/LsWdLeccgPSYEwnasx95aTC4tlaQc8WHhjigmjCbkTOK9C6srVWWZwU0OtV+\n",
       "KaFIMuERp//aON2ekoQoKsEyBaOVhyvKW62W3ngt7/1hs56P0CPpDfApPP8Paigzxsb4rv8Dr2xM\n",
       "atQaca8AAAAASUVORK5CYII=\n",
       "\" style=\"display:inline;vertical-align:middle;\" /></a>"
      ],
      "text/plain": [
       "(a_{i}, a_{i + 1}, ..., a_{j},a_{1}, a_{2}, ..., a_{n},x_{1}, x_{2}, ..., x_{n})"
      ]
     },
     "metadata": {},
     "output_type": "display_data"
    }
   ],
   "source": [
    "ExprTuple(a_i_to_j, a_1_to_n, x_1_to_n)"
   ]
  },
  {
   "cell_type": "markdown",
   "metadata": {},
   "source": [
    "### Showing the explicit parameterization\n",
    "\n",
    "Some **ExprRanges** can be ambiguous in the default formatting style.  For example, the following expression are different but have identical default formatting.  UPDATE: We now require indices to be in a canonical form which presents this issue."
   ]
  },
  {
   "cell_type": "code",
   "execution_count": 18,
   "metadata": {},
   "outputs": [
    {
     "data": {
      "text/html": [
       "<strong id=\"range__add1__0_to_n\">range__add1__0_to_n:</strong> <a class=\"ProveItLink\" href=\"__pv_it/exprrange_reductions/babb12e95e7f8f1534af9dc7456ac09bc399be4a0/expr.ipynb\"><img src=\"data:image/png;base64,iVBORw0KGgoAAAANSUhEUgAAAPcAAAAVBAMAAABoLmXpAAAAMFBMVEX////MzMxUVFRERES6uroi\n",
       "IiIQEBCYmJhmZmYyMjLu7u52dnaqqqqIiIjc3NwAAACW8nlqAAAAAXRSTlMAQObYZgAAAAlwSFlz\n",
       "AAAOxAAADsQBlSsOGwAAAoNJREFUSMeNlj1oFEEUgN/m9m4vu3uXa1J7WqhYHfZKmmgViNEVkRRb\n",
       "RAsbD2wULK6RIAFZbIQguCiKKUIW+2AaBZXggoUIooJYiSSCIPEnOG/mZrK7M2/OLfbm73vfzf8C\n",
       "wCcwP20yU3woehQnwNYGUevmhcx7KsaMXU5yAnwFEKzfqlZNpgBv97JhBuCcrzbCklbf5kbO8EjQ\n",
       "TwDuwsPy6PmH7zH5eKoKVgDu3/xVCSFKlm3yFWOpApt98GYh6Inik7L+IxN7A9V8EedHyl3ZWV5y\n",
       "1SZfLE9kFWwA1LoQDgNvFuVwSWFxUR7mxRiN1CKPy5NQBV8ATAzA+WOS31FUQsvHLZPOOUrOwCWA\n",
       "NSb/aZI/kblmRsuDLi1HbubI1zc5AbLebWXg/DXJr8kc7x0h9xJajlx2NPd3CXBeyH+b5M9lrr5B\n",
       "y8OYljPOnToN7e8EuMCGPQMXe34jii5G0dyefJ8M0phS8mYUnb0QRV0Vw9mm5Yzz/R9iOZvABb7g\n",
       "QuOCO2GQax1wY6scwm0YSwiQDXutB55xqz37r2GftQ47mif6qRk8xmY+hmZikl/BFCZquWXB4fnk\n",
       "62LJNTJ4nWZmELfTPDzqVORP8bxdwrA7cjsFu1U5L+HbcC0ZtlQJxW114J3XMYOT7Ofx+n4oyw9c\n",
       "vs12yRlMRqwLDhvasYM7h8pyUVLH9VDHS+ccJgbDhOKm2Vl+nQDrneJYbZbuYj6bIY7fKeNBxZ8v\n",
       "/P1SP900TgcLt0fxYuG7ih+cAVRvD7ev3x361alzBvA4uVY/8/cqvmrkB0ub34d+rlWM4AT4gKwW\n",
       "f4uH9XtUIxG+pVeM4ATYzonaVvFff6NifLB/RpEcgv8AlmblKGnsAN8AAAAASUVORK5CYII=\n",
       "\" style=\"display:inline;vertical-align:middle;\" /></a><br>"
      ],
      "text/plain": [
       "<IPython.core.display.HTML object>"
      ]
     },
     "metadata": {},
     "output_type": "display_data"
    }
   ],
   "source": [
    "range__add1__0_to_n = ExprRange(k, Add(k, one), zero, n)"
   ]
  },
  {
   "cell_type": "code",
   "execution_count": 19,
   "metadata": {},
   "outputs": [
    {
     "name": "stdout",
     "output_type": "stream",
     "text": [
      "Expected Error: Start and end indices must be in the 'quick_simplified_index' canonical form: (0 + 1, n + 1) ≠ (1, n + 1)\n"
     ]
    }
   ],
   "source": [
    "try:\n",
    "    range__0_plus_1__to__n_plus_1 = ExprRange(k, k, Add(zero, one), Add(n, one))\n",
    "    assert False, \"Expected ValueError\"\n",
    "except ValueError as e:\n",
    "    print(\"Expected Error:\", e)"
   ]
  },
  {
   "cell_type": "code",
   "execution_count": 20,
   "metadata": {},
   "outputs": [
    {
     "data": {
      "text/html": [
       "<strong id=\"range__1__to__n_plus_1\">range__1__to__n_plus_1:</strong> <a class=\"ProveItLink\" href=\"__pv_it/exprrange_reductions/b707cb20373a4b119cceb7932932f5ab02c5a6000/expr.ipynb\"><img src=\"data:image/png;base64,iVBORw0KGgoAAAANSUhEUgAAAIkAAAAVBAMAAACArtDCAAAAMFBMVEX///+6urpERESqqqqYmJgQ\n",
       "EBDc3Nx2dnaIiIgyMjJmZmZUVFTu7u4iIiLMzMwAAAA9XO4HAAAAAXRSTlMAQObYZgAAAAlwSFlz\n",
       "AAAOxAAADsQBlSsOGwAAAZ9JREFUOMuVlLFLAnEUx7+mnpfdHQYNjU7R6GaBoHND1CCNSbvkGLQ4\n",
       "tbRINDZIBJEgOFjUEB4NETQotFWH/gNBQUSCZL/fnT+7H/d7km94vN/v3fvw3rv3fsB/pTC1QyF6\n",
       "ivIscmW9jk5a7ahHU9LKWx6s54DHi8HoZgexDxJiVFS3XvAJT1VQroA8SYnnpOOCqJMHr/kp2zZa\n",
       "ZKei8nHFT4naPsot0CIbszqBMpvzUZh0yYrOgdDh/d6yihJrSBTrm6Qcs49nrtEuKCiRikQxGyTl\n",
       "CZg3k9jtKSjhDYlySo/LJmC3E8iyRqLuOHnHeRlTrHc/JdKYSEEWuFH1JSTlkoZWmFARR3waqoo6\n",
       "nuH6rBJ02wgCeBHgP2cL4UFM1d0ka/0X0ObzXazV6p7FldH3G9hne/YDvbIuU3gw4iXMXfabMPlG\n",
       "dofDvmeZVaaeheHwZN5Y+R0YzZREcYNhJkbMzDj/TKCiMKeYPeXsulIURglBS4jbikhVuY2unIm9\n",
       "LyNgjeXB1UvkEGhJ0eq/Jy34lce9IykzUzyZWpnyHAC/yGt0pmuffVEAAAAASUVORK5CYII=\n",
       "\" style=\"display:inline;vertical-align:middle;\" /></a><br>"
      ],
      "text/plain": [
       "<IPython.core.display.HTML object>"
      ]
     },
     "metadata": {},
     "output_type": "display_data"
    }
   ],
   "source": [
    "range__1__to__n_plus_1 = ExprRange(k, k, one, Add(n, one))"
   ]
  },
  {
   "cell_type": "code",
   "execution_count": 21,
   "metadata": {},
   "outputs": [
    {
     "data": {
      "text/plain": [
       "False"
      ]
     },
     "metadata": {},
     "output_type": "display_data"
    }
   ],
   "source": [
    "range__add1__0_to_n==range__1__to__n_plus_1"
   ]
  },
  {
   "cell_type": "markdown",
   "metadata": {},
   "source": [
    "We have an alternate *style* for formatting an **ExprRange** without this ambiguity.  This style is called *explicit parameterization*.  In between the first and last of the range, it shows the body of the lambda map of the **ExprRange**."
   ]
  },
  {
   "cell_type": "code",
   "execution_count": 22,
   "metadata": {},
   "outputs": [
    {
     "data": {
      "text/html": [
       "<a class=\"ProveItLink\" href=\"__pv_it/exprrange_reductions/f783420f85b274c82c097e80499a82e66a87ae3b0/expr.ipynb\"><img src=\"data:image/png;base64,iVBORw0KGgoAAAANSUhEUgAAAUUAAAAVBAMAAAAjo+EtAAAAMFBMVEX////MzMxUVFRERES6uroi\n",
       "IiIQEBCYmJhmZmYyMjLu7u52dnaqqqqIiIjc3NwAAACW8nlqAAAAAXRSTlMAQObYZgAAAAlwSFlz\n",
       "AAAOxAAADsQBlSsOGwAAAx1JREFUSMeNl0FoE0EUhv80m2yym8aA9KrRg9VDIeC5tQexJyGI60F7\n",
       "CBg9KOiKF73lUkQKGrwURDC0WLxoSu/BXirUoi1ePAgaFI/SCkKptuLsZHd2dvbNboeynZ33/n+/\n",
       "fTM7nQLog2597Y3UyqnKg8X7ibnDK5roeamvTTI242PaZMo5TcJz1wG790iJZC4znRver/tj0TbS\n",
       "AT7FbdeT+FTnJEmQa7WBZ3gRrfX8wz/s+lTce0mDMalZJ58zxmJHdfaStU11TpKI3IILsw67Nhie\n",
       "CmrvRe+J7IIbjPH5DcrwlfGZLdW64FJrwqWdSYlKkQeyVZT857+Xo3lRojxkxtKmxIgbKk6eqonQ\n",
       "KM6kRKVYAw61kNkjokXxdmsJjHMqzlo6Y9FNlKgUs0CXMe4QUbsaiGYTGJdVnFmp/633k2IMnYXE\n",
       "+Pi6Nw6agpVhawmZfSJqipU8l8B4X2WUCmvcwpkOwWi2YxI7O4Zun6aYHjD+JaKlRuAxncD4VmWc\n",
       "DruLLmaoOobOQnI2V8NWhaZosrleguHVccZxrjvOBRHNbAcezZCx4DiXrjlOVTAeVRmbYfcxcEXR\n",
       "KM5C0ulOYqNDUzT5N1OivhmjQTDG6ngugfEqrN9UHY1GXLIBnAJNwcqcrcGk9p5S/SBzvaqfa2sf\n",
       "5jY51/W4hAHuWDQF+5bMBgptarV6GzuXjScw3vV68n43HjLuYaj9gfpmamFOILnJNmmbpljmr7Go\n",
       "rFb7n7eMltil2w72Fz4Wed6bvr/VWLuDzDA5wF1ttaKaiLMkKf/CcPsOTTHCfr3sHYuuhKETu6NA\n",
       "bpJ1c95JYkSMyc87fvsJ24svel2HFTLX8n4GyYdPs9bH/OcjY5WIRnbm+YG/UYc1ukJT5CrUDs/b\n",
       "D35959lVyL8Z/ADJl1ZJmuxoMqXxnaHxj1FEzwRT8s0DfvWmJZpkuLHjgC2NxE8ZqsZ3hsY/TjGh\n",
       "O0aV+cK2eAG0SfjOr6/koYmUI67v7H8zKf48d0EXzQ6O6byvTfLdIzO5kMaYlU6raf48t7ypiX6R\n",
       "30aXNEz8I6JNppzTJCz3P/JyJKW1ZadEAAAAAElFTkSuQmCC\n",
       "\" style=\"display:inline;vertical-align:middle;\" /></a>"
      ],
      "text/plain": [
       "(0 + 1), (1 + 1), ..(_a + 1).., (n + 1)"
      ]
     },
     "metadata": {},
     "output_type": "display_data"
    }
   ],
   "source": [
    "range__add1__0_to_n.with_explicit_parameterization()"
   ]
  },
  {
   "cell_type": "code",
   "execution_count": 23,
   "metadata": {},
   "outputs": [
    {
     "data": {
      "text/html": [
       "<a class=\"ProveItLink\" href=\"__pv_it/exprrange_reductions/c3dabc7f3f05d6495140c2828b3664b6098f8e640/expr.ipynb\"><img src=\"data:image/png;base64,iVBORw0KGgoAAAANSUhEUgAAAJ4AAAAVBAMAAABF3EpTAAAAMFBMVEX///+6urpERESqqqqYmJgQ\n",
       "EBDc3Nx2dnaIiIgyMjJmZmZUVFTu7u4iIiLMzMwAAAA9XO4HAAAAAXRSTlMAQObYZgAAAAlwSFlz\n",
       "AAAOxAAADsQBlSsOGwAAAdpJREFUOMudlE8oBFEcx792mR1rZqO4y2Fz3IuWInJzIWVzUSZXyR6V\n",
       "Yg5yUUhuDjYX2draw2KRdnJwcRhyw7Sbu1ASteG92ZndN7wZw6+Z1/v9fu99Zt77/QH+LoqbQ8B/\n",
       "RIy5eepUMkTubHp6o+SHF+ebHzRgCbjYK1uGKYSefeCkda71eJvwGskr2rwDIOGDFx5wqK32ZI2w\n",
       "6lMMb1JDQfmd1+BUu1keJhjeKVDwcYE9XrxNhkekyEuCw2WV1XdJHFfO5zq5vHkHL/LG4bUpgTKr\n",
       "k18IBfLQFR5vyMGTs5zAjSF8yRqugRa5HbMlHq/LwdvhhfMJcpI1jAKa3ox+uj1jGAnDuK3xHlle\n",
       "fZYXznaQ3U4e+oEj7v21sbw4hJ/5oqsYwbfzUtiLxOP1VXimL5KEqEk/eDEcBa3PmE4a2HEEyyEe\n",
       "b5AE65VsojU0k05nKjMy6HZVBdTgTdiymEaSEsIHxPXhb7xFxUympv33HGTaE4qfn++VmZyiz30H\n",
       "EUXKL0yvWhbT+UDy7xJSLubknUxukUK8srTe6vl6vWqDOuUSvz7M3Lczq5YRSS8eddKa5/UDtldI\n",
       "1YqSVK9WZTqj7gum7JZba76endkcz9wXRP/T7wXXI4gKvgCR/If/MRNjcwAAAABJRU5ErkJggg==\n",
       "\" style=\"display:inline;vertical-align:middle;\" /></a>"
      ],
      "text/plain": [
       "1, 2, .._a.., (n + 1)"
      ]
     },
     "metadata": {},
     "output_type": "display_data"
    }
   ],
   "source": [
    "range__1__to__n_plus_1.with_explicit_parameterization()"
   ]
  },
  {
   "cell_type": "markdown",
   "metadata": {},
   "source": [
    "Because it is less compact and not typically necessary, this is not the default style for LaTeX formatting.  However, it is the default for \"string\" formatting that gets used in error messages for the sake of clarity and making the debugging process a little easier."
   ]
  },
  {
   "cell_type": "markdown",
   "metadata": {},
   "source": [
    "### Simple repetitions\n",
    "\n",
    "When an **ExprRange** has a lambda *body* that is independent of its parameter, it requires special formatting to avoid ambiguity.  The simple case in when the start index is $1$."
   ]
  },
  {
   "cell_type": "code",
   "execution_count": 24,
   "metadata": {},
   "outputs": [
    {
     "data": {
      "text/html": [
       "<a class=\"ProveItLink\" href=\"__pv_it/exprrange_reductions/2ba324d9a1e730781601e70b6d21dc2d161f13a10/expr.ipynb\"><img src=\"data:image/png;base64,iVBORw0KGgoAAAANSUhEUgAAAU0AAAAVBAMAAAAwdKHZAAAAMFBMVEX////MzMxUVFRERES6uroi\n",
       "IiIQEBCYmJhmZmYyMjLu7u52dnaqqqqIiIjc3NwAAACW8nlqAAAAAXRSTlMAQObYZgAAAAlwSFlz\n",
       "AAAOxAAADsQBlSsOGwAAA0xJREFUSMeNVk1oE0EYfVnz024263roSaRS8AcPtnpXc6meCm11pYjQ\n",
       "IrUHLw16UMGDUEpTvBRFCl4MerEHMXj10FwUtBQDHkQRGygBQdQWCtJSG2dms5vd2W+SGZJNdvbN\n",
       "e2+++XbmA1AD3WzlTbjVOo3siNbUyFUUT5PV0M03FccQ0acEk2hNjRX27SlJT37MnwI+t+6tMpC4\n",
       "Is+/+MhBrhCj5WAiWm9m8hRaU8NcgHn8qeTTHsByHt2t3iXg2fyOxLGO7BbwJCa4RNp4AWuXQmtq\n",
       "dPEZrvmOLng/Rg3pCWTuB/A5niA+R7IZlJPAFHAnJjhH2lirmNsUWlMjjbDPVe8nvQNjD7gRcEyE\n",
       "Oaxm4k6X0M8mJOeMAMfb+TyYzzhaU+M95dMYhrEJLAaps0BxHAH6HXTLKSfAZAL+RRPN1ovnVnyY\n",
       "WuMB5ZO11Abw2r/pKlMcrI0D2cOSHQ4eOvHzU1X2OVjw0fYIUHfiw9poLCp89jLgXf9GRIHgSPwD\n",
       "MnL4OLh8umruSf2H+pwAXXe41diwNhpXFT5H2fddENwKzZFi0bHkdGTgZP4i7M3Yuu8GaHtEDmcn\n",
       "jcmWz1nXnXLdUW8VePb0+th0PuDoct3L113XW+wZPt8NSZCBTXMLFoebj13enOCl8NF1OZydNCbp\n",
       "eN4UryjBEZ5rhjMlJwhBawOGlA8HgHOVAN3WJ6VBrzs7G34DbzusyQrsGqxhYgGZyf2F6BbUKHGf\n",
       "TbT+uvsaZ0ifB4GvwC3+lz/aV6U4EmXkSsjwDDFDghycLuNjKXp8XhPrnhmg3iMNDbH3LNeiPu2x\n",
       "YpFNnO9Z/BDxdpPsnsRRLxZnm/vJqwWBDMB/HHzJRCN2W+yfAt3al7wxOho97KZv+mEh4jPVaDSY\n",
       "8iX+32WTTTDTxtHtY1GO8UaDCaR4XqV4/TAmPgI8yM7qe1L5VWR1iIeGwTzaIn+9MRoaqcisVyPV\n",
       "iMgliy9KJOutyA5eF9cPoZ6RNrVbnT6pOmuEio1WHdI8IUSQs/wSKR+ShXjVEc7FNrWGokbR0Tir\n",
       "5FwX15fi3VAW4t4xbYanrwbHDvVm09F4riT1ZiAcmAMqkMeeC3epwSovOhp2VfE0F+b8peL4TvQp\n",
       "wSRaS+M/zKstgQ3u238AAAAASUVORK5CYII=\n",
       "\" style=\"display:inline;vertical-align:middle;\" /></a>"
      ],
      "text/plain": [
       "(1 + 2), (1 + 2), ..(n - 3) ×.., (1 + 2)"
      ]
     },
     "metadata": {},
     "output_type": "display_data"
    }
   ],
   "source": [
    "ExprRange(k, Add(one, two), one, n)"
   ]
  },
  {
   "cell_type": "markdown",
   "metadata": {},
   "source": [
    "Otherwise, the start and end indices will be provided when the **ExprRange** is formatted."
   ]
  },
  {
   "cell_type": "code",
   "execution_count": 25,
   "metadata": {},
   "outputs": [
    {
     "data": {
      "text/html": [
       "<a class=\"ProveItLink\" href=\"__pv_it/exprrange_reductions/09bab4d340ba4f4e3d59b5e1536e35ac708727640/expr.ipynb\"><img src=\"data:image/png;base64,iVBORw0KGgoAAAANSUhEUgAAAWsAAAAVBAMAAAByN9JOAAAAMFBMVEX////MzMxUVFRERES6uroi\n",
       "IiIQEBCYmJhmZmYyMjLu7u52dnaqqqqIiIjc3NwAAACW8nlqAAAAAXRSTlMAQObYZgAAAAlwSFlz\n",
       "AAAOxAAADsQBlSsOGwAAA1RJREFUSMeNV0FrE0EU/rJNNulms+bSk0JF0Hqy9VpQetJToS2uFC20\n",
       "h9qDlxa91JMFKU3xEipS8GLQUw/F4B9oLgpaSoMXi5S6UIJeKhV6acHGmdkkOzM7s5kh2WTevPd9\n",
       "37x5OzsLIIC6edoO34JukUktSBpMpizUNKPpOtfZ12GMKmz7prJHkwaTKbfJt68ijfxevQl8j/pu\n",
       "FUg9kNNRelVEYSEGS52RGpase2bBhpROGc71t5JsbwhbI+iNrBvAu9UzCeMQ+RPgTYxwgy1iWbI+\n",
       "NAs2pMzRCf9sC7wb/lgB7BlklzruK1RIGyPdytENYA5YjBGumNSHLtiQ0gYveyf8sc9gnQOPOxgz\n",
       "PIbbKvr5CgbJ/OQCY85dmy7YkPKLSrY1BusvsN6ps7IK4yowWESvXJ9u2UQ2H0wWl9ZlHEVP+VIl\n",
       "m7TMMfCx3clVVRikTQP5y5Ig5rz5TTQ6e/G7rxPsjQONogJFT7mukd1PHJ+1OywpCozUPyArJ5c5\n",
       "L9mizHw6VjpccKNIlcdR9JRTGtkT5Pu5k/qaGiNDkuXKeqhzIbggPg4u5WKlwwV743Kyu1HORrKX\n",
       "fX/O9yfCNaKl1t/2tUc6GDnfv//I98PKeEGnfywRUmcHuxRyw6eNJrJiU2LnNTMUY8ENOdndKGfV\n",
       "2X5CL3cUGPzUsxQptvrMGcuSdVfeM4TgRNkqSnWRkEfUH+BTlxXbhhfAHVMtr/x0wZojGfhg8yJp\n",
       "R91Syr4I/ACe0r90qKeuwkhVUaggS8uJ18ScvRNpJznJSzdkFBy7JQ0o2Sa3FYiyvclSieSBbo7O\n",
       "KVr7VP5cwmiUSsutnepDmXlGzlmp4lPHv0QDFxxtgCGECWUf6VyZX1sQZGeazSYRco/+98ncU2QO\n",
       "1rXTARFjutkkBBlahBl65plkH+YMS3p6YEDat7lgWESyx3aaEMKAMiMU1Y5woGKF59IlE+4Yty6k\n",
       "jV2/chbqbNeNTq4N9eGvOyV3XoqOUq0HFUsQq0nhyJNeiB+cqpxlEVbtecVItvrUZUJ5W4t5yK6b\n",
       "7DbTvoeEZwmHz0ZP0F+bMlItH0RazYTyvRY0nBAT5AzpnEL0grBrDOX2Roxka6SZUHq6KizwmEc6\n",
       "jAOF7cj0pewgaTCJ8j94nTR8dXDyoQAAAABJRU5ErkJggg==\n",
       "\" style=\"display:inline;vertical-align:middle;\" /></a>"
      ],
      "text/plain": [
       "(1 + 2), (1 + 2), ..(j - i - 2) ×.., (1 + 2)"
      ]
     },
     "metadata": {},
     "output_type": "display_data"
    }
   ],
   "source": [
    "ExprRange(k, Add(one, two), i, j)"
   ]
  },
  {
   "cell_type": "markdown",
   "metadata": {},
   "source": [
    "### Nested ExprRanges\n",
    "\n",
    "**ExprRange**s may be nested to express a range of ranges representing elements of a single **ExprTuple**.  For clarity of the expression, ellipses are doubled to express a range of ranges (or tripled for a range of ranges of ranges, etc.)."
   ]
  },
  {
   "cell_type": "code",
   "execution_count": 26,
   "metadata": {},
   "outputs": [
    {
     "data": {
      "text/html": [
       "<strong id=\"double_nested\">double_nested:</strong> <a class=\"ProveItLink\" href=\"__pv_it/exprrange_reductions/aa60cb22cc7d80a73079f1747b9ce82f0a9d39820/expr.ipynb\"><img src=\"data:image/png;base64,iVBORw0KGgoAAAANSUhEUgAAAu8AAAAVBAMAAAAEOx00AAAAMFBMVEX////MzMxUVFRERES6uroi\n",
       "IiIQEBCYmJhmZmYyMjLu7u52dnaqqqqIiIjc3NwAAACW8nlqAAAAAXRSTlMAQObYZgAAAAlwSFlz\n",
       "AAAOxAAADsQBlSsOGwAABLJJREFUWMOtmU2IFEcUx9/MzsyuPTOduXjKIRKIJoK65m7Yg/EmbL5g\n",
       "EUEPwYM5+HVR8CCIOOJlSA4LudiYUw7JDrkHvRjY7MElOYghJA0iCGKiIMguuGN9dFfXq3pVWzX2\n",
       "gx27q+r/e2/+3VVd0wJADlbkzhMZKfgjh7dkpvXk3E7z9lVPVZZs7N+1O45qx1R/a92bjJLEMf+u\n",
       "J+c2mhqqnqosSV1jfzuzqrFxjA0/W52b/U9uHAR44M1mSmQJmCkwKvhojdkbQzr8bhCZEyNFPIgw\n",
       "fs1soJxAEWgFcTkYNRlB8uGtyqXbNzbZ5/fq3OxP5+HOAuzIPMlMSRGIKTHluRitMX8EeATdl3E5\n",
       "EbIIr8Yi4CCcMFaZoLLIYNQ5fkn/1cR9nu6iOjX7mzl0TsLsFU82CykDMSVGBR+tMa8D7Ac4FZfT\n",
       "QIrwaoiq8X1JOKFHqBVEMGoHKOM7qsHs72xCcwvgtCebhSyadWaB0Y3XmMy/MxkcyKNyGkgZp4ON\n",
       "7wBpvOEEUgRaQbVnsEoav0NdKbO/uQjNFwDLnmyrtPGIWWCQ8YrZYxP0A4ADg6icBlLGcrDxq7Tx\n",
       "hhPojg+0gghGvUka391Vnt60XWw/B/jFk82UHN379M91iykwyHjFnBuLf07E5tSQrT9+/vUQ+DUW\n",
       "oRQ5nTAGBJWFNZUXy6TxsyN0y2Dj32PKS55spmT88XqyZTEFBhl/Cc+NxuvYnBqyO7MPVnK/xiKU\n",
       "IqcTxoCgsrCm8uI4aXxPPaWO28Z/zv5+82QzJK2FLyB9YTEFBhmvmG2x+W3vis2pIQ+35+H/gV9j\n",
       "EUqR0wljQFBZSKN58XXl0spIpWuoOWv1w9w8v9SebIYkSV5Cb9NiCkzJFKMVsyN2hVfFfmwjIqeG\n",
       "zFYW4H7m11iEUuR0whgQVBbSaF5oLrWvqHStk4SLsh/O848jYcYLSe85NEcW8zxoTDH6CDJ+Vt7w\n",
       "SxE5deR9gI+20diEQuR2Ag8IKwtpKi8cS82ic6lhvyr/A7gXvtTwTO+czQymxKCl5h5aatYgzeNy\n",
       "IiT7rq8Sv8YmFCK3E3hAWFlIU3lxiH648jkkRlv97wL8BXCBH9q/2TJK0hmzuTY2mBKDjFfMGfbI\n",
       "aoyhnwXlpJHfsCnddWocVRcitxN4QFhZSFN5ITZDd7QndXer3NCJhczsT5eGw0W5fRPrr1i50IEl\n",
       "YY+Wh7MDzCwwZYjRism3cI+Hw2uunHZiC8meYP3ROapOT9WlyOkEHuC1wqGpvNjJzt4/8636mdDc\n",
       "vbGHTXa+yraP8ddXRn97Mpkw5Jf8+KusWLmWyiWMt1iSTwFuXzaYBaYIOVoxG+zrnJhMNlw5q3xL\n",
       "LmRrEZI9d6k6DbFedSlyOoEH+K2gNZUX7QE1+R6Lz9+5nuxPxa3VsyaYaKElMczPYnJ6kG5NbVVP\n",
       "VRan0u94rsvdvvM1k3z507Xau543UxHMizE5PUi3praqpypLUD+hrqLYECfidyDVD4/E509Wu2wh\n",
       "JTHMmTwipwfp1NRX9VRlCeoPRIf84n1xTPUXPPs/X9bdkhhmMh+R04N0auqreqqyBDUlyvpHvzpE\n",
       "fz/3fhFKEsd8Vk/ObTQ1VD1VWZz6Br+EYNFaHuxUAAAAAElFTkSuQmCC\n",
       "\" style=\"display:inline;vertical-align:middle;\" /></a><br>"
      ],
      "text/plain": [
       "<IPython.core.display.HTML object>"
      ]
     },
     "metadata": {},
     "output_type": "display_data"
    }
   ],
   "source": [
    "from proveit.numbers import one\n",
    "double_nested = ExprRange(i, ExprRange(j, Mult(i, j), one, n), one, n)"
   ]
  },
  {
   "cell_type": "code",
   "execution_count": 27,
   "metadata": {},
   "outputs": [
    {
     "data": {
      "text/html": [
       "<a class=\"ProveItLink\" href=\"__pv_it/exprrange_reductions/067294af5aca3786ba780fe764d28036ccf9eb8a0/expr.ipynb\"><img src=\"data:image/png;base64,iVBORw0KGgoAAAANSUhEUgAAAwAAAAAVBAMAAAADXJQIAAAAMFBMVEX////MzMxUVFRERES6uroi\n",
       "IiIQEBCYmJhmZmYyMjLu7u52dnaqqqqIiIjc3NwAAACW8nlqAAAAAXRSTlMAQObYZgAAAAlwSFlz\n",
       "AAAOxAAADsQBlSsOGwAABOtJREFUWMOtWU1oVFcUPjOZN4nz8zqbrFwohdZaaI3dW7LQ7IRpayFI\n",
       "wCzEhS5M6yaBLgJFHMlmqIuAGx+6cmEzZF/MJkKahUO7EKW0AyIUihpBKAk00/vzfu459yd3Xt6B\n",
       "+/Le++73fWfOmXffmxcAGIAcJAbWAxkhuGMAh9QMi/E8iHP4rHOlJU4KYnNDDhrnlX0TXuk7TU2U\n",
       "0TT/KMbzAE4BWedKS6gK4nY8JqMMLF1ktIXsmOJ/3z4N8MzpSikyFawZdu60shN8tqLZ6GHczxNL\n",
       "ing2QgO26QlTJVB4lsLQlgWZW60rRu2Te1m17t/eY9u76THFwyl4PA1HIocppcSBNOEl1N+nx2K2\n",
       "ovkQ436eiBKHk6MroDBUgqw+fmmZ4q7MbYI1gg/4SxFpctvF9JDi5QFU52F82eGqScrAmp8DXMkw\n",
       "PlvRvIVxT08sKcLJMWSNv6eGSqjhWwpDLMrcquxPFUwNqKYnKF7dg/I+wFWHqyYZn0aa1yM4NUAN\n",
       "UDTnMe7piSVlXPVuQBWMDSCVQAzPUpjOy8+7xbZbxgYcSTtH8XIbyu8AVh2uW+YGYM2PAE61cANS\n",
       "zUYX456eWFLGqncDtswNIJVAV4BnKQwhVFdhhW1XjA2oH08OV/RqBjsA6w5XSjn/6T+/9zVNgEt4\n",
       "Cco0J3oU9/NUKJXffv7lDLg5mkJCslaCTPBKC3PUWqyL3q0aGzDeRV8h3IBjTGHJ4UopvS/6tX1N\n",
       "E0r/kQYs4WtFxf08FUp97DNYG7g5mkJCslaCTPBKC3PUWizBHNvOGRvQmE8O5/QGfM3GE4croVSm\n",
       "v4HwnaYJwXHSgFQz2KC4n6dCORtMwduWm6MpJCRrJcgEr7QQB9XiCVxm28tZtda6qW1pJ5HQcJiY\n",
       "4q13uBJKrfYeGnuaJvwontN2swakmtVpivt5KpRobRqeRm6OppCQrJUgE7zSQhxUi2O0AcFyaluZ\n",
       "N1RT4vA938z4NUBQGjtQ7mqa4/LbOps1YAY1AOF+nirlKcDJAzi6QkyyVwJP8EsLcdRazLiWoLZ1\n",
       "CWK/Ut8AbPovQdzxg4WIam5DSB5DN9ESpOKeniqFfeZ/a26OrhCT7JXAE/zSQhy1FpvAb85nzDdh\n",
       "fm0JloYfBXgBcIPv6r8BjZRqj12DPaJZ6kEzwg1INcf6BPfzRJRr7FKvWzk4okQhJtkrgSf4pYU4\n",
       "ai1uiAco8RD1WLmz1/eTB0Gx0FE8nO102vKxTyy2YmVLdswUdgt6Pt4imq86nZuZqZidavKHNBWn\n",
       "ngZjKsnudM3ud6Y8dbK8z6xnJGsl8AS/UmCOWosVmOSvwdj48PpP6c+N8se7J9giwFfh4KIBD4bD\n",
       "IZO+wPe/jeKVbTZZ4oyUcwD3f6Cal4bD3fSjytmpZqmNceqZ+c3aJCttqJ3YMOVJyMuJ5mRGslYC\n",
       "T/ArBeaotbgAAXs6Clqmi/KV2P4KNjwUK2NDv/DslFE0vyrK08pBIfCcWedKS6gyIn+PZH6XdEv+\n",
       "arC+zpIvmeo6YKeMorlYlKeVg6IO+bPOlZZQ5cQvQQ7QX7TyhU38r8GEw0uxfaTfeeyUUTTHBsV4\n",
       "Wjk4JJ4v61xpCVVOfBAPGrIATbFvwmNd/Z9BDsoomrWpYjytHBz9Q2SdKy2hyolhXw4af6rdMuDN\n",
       "gfMDmSijab4uxvMATgFZ50pLqDLi/yysctOtRjjHAAAAAElFTkSuQmCC\n",
       "\" style=\"display:inline;vertical-align:middle;\" /></a>"
      ],
      "text/plain": [
       "((1 * 1), (1 * 2), ..., (1 * n), (2 * 1), (2 * 2), ..., (2 * n), ......, (n * 1), (n * 2), ..., (n * n))"
      ]
     },
     "metadata": {},
     "output_type": "display_data"
    }
   ],
   "source": [
    "ExprTuple(double_nested)"
   ]
  },
  {
   "cell_type": "markdown",
   "metadata": {},
   "source": [
    "If $n = 3$, for example, the above **ExprTuple** could expand to $((1 \\cdot 1), (1 \\cdot 2), (1 \\cdot 3), (2 \\cdot 1), (2 \\cdot 2), (2 \\cdot 3), (3 \\cdot 1), (3 \\cdot 2), (3 \\cdot 3))$.\n",
    "\n",
    "Let's now show triple nesting for fun:"
   ]
  },
  {
   "cell_type": "code",
   "execution_count": 28,
   "metadata": {},
   "outputs": [
    {
     "data": {
      "text/html": [
       "<strong id=\"triple_nested\">triple_nested:</strong> <a class=\"ProveItLink\" href=\"__pv_it/exprrange_reductions/43f37c99c27c9f2826d7ff988d83a932ca71b0f70/expr.ipynb\"><img src=\"data:image/png;base64,iVBORw0KGgoAAAANSUhEUgAADA0AAAAVBAMAAABlWut+AAAAMFBMVEX////MzMxUVFRERES6uroi\n",
       "IiIQEBCYmJhmZmYyMjLu7u52dnaqqqqIiIjc3NwAAACW8nlqAAAAAXRSTlMAQObYZgAAAAlwSFlz\n",
       "AAAOxAAADsQBlSsOGwAACwpJREFUeNrdnE9oZFkVxm/SnUpPJSmzmZWLaQQdFXSi+5Ys1N1AZlQI\n",
       "Q0Nn0bhoF9OOmxZm0SDSGXoTdBGYjWFc9UK7cC/TG4WYxQRdNErjFAyCIO30wID0gMZ679Wfc+75\n",
       "zrnn3ldVhByYkNf1u/d+55zvvlv1kkkIYRDM6LGrLFhGYngEDOYG5ytPA3NMtLV4TvTmBhdUooW/\n",
       "FmrG1v7ozdRugzBT9RfIvee70LNOdgb6G2TjkQ1dPiUXWbCM1PAQXs2hi2EQT1LKEqnNNdHW4rn6\n",
       "J3ODCypR7q+FmjEZT2bagvbi89RfIPee70LPOtkZ6G8SOBn+9+LR9B+X3iBE9cJjcm3B/3znGxyW\n",
       "cYLm57Jv63S9AF05hulsFO7t/3KTwTLW+3ytegiPxxndPkG5ubXz8z5fPIrHDOfpsbWjlpuwr+Wi\n",
       "b3pdT0DjLDOqsE+ZHKKaMRWiTjxSVWVRUFZ0B7gdCuMEyrfcq9JO98r9YbkXbBCj0AbtvGXJ5rSx\n",
       "iRkp+SVGSZ/7wwS6B6H75V9NG/feO59Nvm9eeGH6ogX3tsL72xSWMRwO5ufxrko3C7CV31WVMfij\n",
       "sPYphUE84GuNhrAwUxOJotyc2nkUiEdB1D/g6bG1Rcst2Ndy0DdNWUzLlZ2w04xyiGbGZDyAnnFW\n",
       "NbpV5ZcVRoZ6URkgX3evQfvci/aH4V60QfRC67TTJaA5bWxirZaUX2AURwwTuFIdZh+SqTZoE6oX\n",
       "Vu9OLi14eRA6exSWUQ8X8/O4o9LNAmzlO6oyBn89hB9SGMS9SFkzhIWZGkj0Q7U/Ce08CsSjIOrv\n",
       "xemxtaOWW7Cv5aBvmrKYlis7YacZ5RDNjMm4Bz3jriqNkrKiyFAv3SvlW+5Vaad7wf4w3Is2iF5o\n",
       "nfbesmRz2tjEjJT8AqM4YphAJ6TOgXBrcmnBnc/C8v8oLKMT0udA50ijRwvQlSOYzMbgN4/CKwMC\n",
       "g9iLlDVDeNxyd7sT0ueArp1HgXgYtyjO0xPngBP2tRz0TVPWgY3TzajCTjOCIYoZk7GHPeOtKlu1\n",
       "oKwQ8quX7k2cA5F7Vdrp3tQ5wEuHNoheaJ323rJAc1rYJHkOWPILjOLp+FE4Tp8Dh5NLC17eCcuf\n",
       "UFjGseMceOG2Ro8WoCtHMH2rSuEvhvDKJoHBY7uDSFkzhMehu9vHjnNA186jQDyMQ4rz9OQ54IN9\n",
       "LQd90+p6DBunm1GFnWYEQxQzJp/7HmDPeKvK3uYVlBU+Ciz8AcGx4xyI3KvSTvcmz4FDHbdMYtPe\n",
       "WxZoTgubpM+BQydeol9zyv30OfC7yaUNh5VnFJZx3zoHXv3qv/5yGsLaVZ2uF6ArRzC/lxI4hBsU\n",
       "Bh+f+tJ+N8bfXP7zb39/LdipgURlbk7tEZ0tfqxXUX+lz9ND54AX9rVc9E2r633YOMuMKuxUJoYo\n",
       "Zkw+S+ljz/iqGtPZZeWWyVYvJofyVfdatMu9aH8Y7kUbRC+0RXsKDZvTwiZMT9onsLXl+vnVNIHD\n",
       "9DnwU34q6+fAS6cUVt6SaudA/5un3eGHnNUDna4XoCtHMPcfgcPSfymsvHXia1VDmli79LXwcGCn\n",
       "BhKVuTm1R3S2+LFeRX3z7mWaHjoHvLCv5aJvWl0PYeMsM6qwU5kYopjR8Y4KesZX1ZjOLiu3TLZ6\n",
       "MTmUr7rXol3uRfvDcC/aIHqhLdpTaNicFjZhetI+ga0t18+vpglcT58Df5xc2nB4ncEyrhvnwOXt\n",
       "74Xe8EPO+p5O1wvQlSOY36Jep8fmVQrLWHkkP3tMDvlvr2yFjzft1ECiMjef9pjOFj/Wq6ivcZIe\n",
       "Oge8sK/lom9aXa/DxllmVGGnMjFEMWMq4jrxHqSqGtO5ZeWWyVcvJofyVfdatMe9cH/o7oUbRC20\n",
       "SXsKDZtTbhOuJ+kT3Npy/eyKJHBz2riHB9MmdJ9PZb00mdWGr2wxWMZNPH89V7f7aVgfvrT0TKfr\n",
       "BejKEUyVMTj8jMEyOtvxWvWQ5uLo4Xb44MhODSQqcxvPbWuP6WzxY71N8kJ9jZP0orrxlidgX8tF\n",
       "37S63oSNs8yowj5lzRDhGGnGVMR1mvQAak/RuWXllslXLybnFgJ7nrnXoj3uhftD8QjADZOkaE+h\n",
       "4+xa2oTrSfoEt7ZcP7siCZCb0MpdchjvTmV9F93fAPxWYLB5DtD5m7nWn4XlobTLezr9VohWjmCq\n",
       "jMGrVxls3kpHa61enV58EMJXEqmp5wDNbTx3QntE54sf6R0lH6uvcZoerxtveQL2tVz0TavrTdg4\n",
       "y4wq7FPWDJGOEWZ0nQPAM1h7is4uK7dMtno5ObeQ3PPcvQbtci/aH4pHAG6YJEW7Ch1l19YmXE/S\n",
       "J7C1LfSzq2kCjudCf/A9F1rvh39TOO+5UKXnc7ePwvqOSjcLsE+nO6oyBp+E3oDAnudC9ZBRDOv2\n",
       "n66dmvlcaJybU3tE54sf6VXU1zhNDzwXcsK+lsu+aXW9DhtnmFGFnWaUQxQzup4LAc84q8rp/LJy\n",
       "y2Srl5Mj+bp7DdrlXrQ/DPeiDaIX2qB9hUbNaWETrifpE9jaFvrZ1TSBa+lz4CfVdzVhwp8P4W8U\n",
       "ZtGdDNfOgU5/+HmlH1a3VLpZgP20isNUGYWX+mHjiMA8qkGXTqO1miGj+NHww9OampqWqMzNqZ3T\n",
       "BeJHehX1Fc7SA+eAEzZbPnGM7JtW12uwcYYZVdhnRjBEMaMVsE68B6mqctonHugtUY8nR/J19+q0\n",
       "z71ofxjuRRtEL7RB+wqNmtPCJlxP0iewtS30s6tpAvUvHb0/PU/DGv1xdP3C/cnzKAvu7e7v7xC4\n",
       "/lI/hBp/0wyX8zfx8Wb46+pm8yt1kB4tQFeOYDIbg/+xv/9zAgN59W9+UWXNkNFcn4SNgx+T1JRJ\n",
       "aiFQzSg3p3ZOI/FcQCx+rFdRX+E0Pd7RqOUmHLdc6qtyA31TlAkarOyDnWYEQ7AZrW7DOvEepKoa\n",
       "dUwrKxOP9FrquV7jn+vJkXzVvQbt23pofxjuRRtEL7ROo0KnalFiE75VmZ60T2Brs4wCbwdxAi8O\n",
       "r77w5i8m/yfE8peevzxR1bzw/erbH1QHjgWvnJ2dHVB4d/wQqv7mjdFwMH8T3wnhvbeH4LZGjxag\n",
       "K3OYzsbgG2dnzym8G6i8SuzSTqSsGTL6qfpO6L78iKQ2ySrK8a6mZpSbUzunkfipACR+rFdRX+E0\n",
       "PbZ23HITjlvOKzF2DOibokzQYGUf7DQjGKKYUev2XaVOvAepqnJaLSsTj/Ra6qd6lTTo5FC+6l6D\n",
       "9m09tD8M96INohdap2GhE7UossmuqiftE9jaHKPg20GcwMpm6vNMrz7+1qvdlAXz+JNr+PC8zqEL\n",
       "YR612NfSytTUFpBoa/FU/Wtzg6U0R26l/lqoGa0oMFAbu3nFO9VfPPee00LPKdkZ6K8SSP/1tOZP\n",
       "FdWPlLJgHv3g+0tt93LoQphHLdbxp6LU1BaQaGvxVP2ducFSmiO3Un8t1IxWFBiojd284p3qL557\n",
       "z2mh55TsDPTXCXwrBX1Uf/1N/TULZj+0OHUNr/6Uqp8uhlnUYi8NQmlqC0i0vXiqPo2XwlKaI7di\n",
       "fy3UjEYUGKiF3bziveovnnvPaaHnlGx7/U0Cv05RzUxNllkwjQ3f8FHiTroYZlGL7W6F0tQWkGh7\n",
       "8VR9Gi+FpTRHbsX+WqgZjSgwUAu7ecV71V88957TQs8p2fb6mwR6iTvbBj2SsmBw8CTfnPw9hy6G\n",
       "QTxNbpFBxn6acaKtxXP1T+cGF1Si3F8LNWMyns60Be3F56m/QO4934WedbIz0F8l8H/jzEShEbur\n",
       "uwAAAABJRU5ErkJggg==\n",
       "\" style=\"display:inline;vertical-align:middle;\" /></a><br>"
      ],
      "text/plain": [
       "<IPython.core.display.HTML object>"
      ]
     },
     "metadata": {},
     "output_type": "display_data"
    }
   ],
   "source": [
    "triple_nested = ExprRange(i, ExprRange(j, ExprRange(k, Mult(i, j, k), \n",
    "                                                    one, n), \n",
    "                                       one, n), \n",
    "                          one, n)"
   ]
  },
  {
   "cell_type": "code",
   "execution_count": 29,
   "metadata": {},
   "outputs": [
    {
     "data": {
      "text/html": [
       "<a class=\"ProveItLink\" href=\"__pv_it/exprrange_reductions/e2733511a2549cb9bada9457895ef661309349d60/expr.ipynb\"><img src=\"data:image/png;base64,iVBORw0KGgoAAAANSUhEUgAADJQAAAAVBAMAAABY5EhdAAAAMFBMVEX////MzMxUVFRERES6uroi\n",
       "IiIQEBCYmJhmZmYyMjLu7u52dnaqqqqIiIjc3NwAAACW8nlqAAAAAXRSTlMAQObYZgAAAAlwSFlz\n",
       "AAAOxAAADsQBlSsOGwAAC71JREFUeNrtnE9oXVkdx0/SJG1fkmc2s3LRIuiooJNxX8lCZ1YDsRop\n",
       "UmgWdRbjYqpuKsxioAxmyCboIjCbCdNVNza4l+lGoZTHBF2IIk5gGBBEp4UBacGJL/fe9+7ve87v\n",
       "3zn3OoSQAw25fd/7Pb/f93zuuXm36QshHAZ1DNVDS14kiQRGgfHrmfIeCvz8W3Y04ZB0Cu4MhFML\n",
       "Qu7ILLKPVIfh/xzkyQw+u+1h+FzCriXLD3TR3AEc/i1kyblhWUQeVoHhldBB3kOBjtF3y44mbI9u\n",
       "wZ2BcFpByB25RfaRqunRMcgTGnxu2/knlM1auzwa/3lur/3LmR8RxfELf6anLO1HCnrwj7dfjOTc\n",
       "SCzo7PUAj7jAahY6/fItRT7c+vUKHqBcKFC0YAq0R9IyjiTlR0HR+5pIYuNYj4NLopVzHreEuRSB\n",
       "gBY2CKC3QaCKQhBEi1IQGBMVBFnvB0GbMwUhdzyK/8IkR9H79xBlTn4TgeHYRUR9xhWYrFen4NO2\n",
       "DX6ME0rDZsbYZbATBl99t72G33v72fT7+oWL9AK/hwo4GK6G99dQzo173CQ4qEdcYD0LTP9OkOUf\n",
       "hcVPo4N37AJli7RAx4hTg5GmPO5B0fuaiHNgRxQcE62Y870olzIQqIUDBNDbIICiDATZohQExkQF\n",
       "Qda7QVA8GBByx/EEMGxyZL0fHWVOnh3c1k14FL0/eGa9ugR/T5+Q3a61p1KFYXNj7HLh+L74IXFb\n",
       "pmty/ML5N6tvX66+/jJWkIPZw7Cw2cjnuNutYPFh0gv1iAusZ4HpbwdZ/s0QXo0ObpNipAJFC1og\n",
       "6+FqGUebMulB1NMmuJj5HNgRBcdEy+Q8bQlzKQIBLWwQqN4GARRlIMgWpSAwJioIst4PgjZnAoJ/\n",
       "ENLwZ22LHFlP0bEuUXlOfhOhw7OLiHqLHsGDW4Xb2fuINtjtWh4ZG7Y5xi4LwbqVhNeqb0fV103l\n",
       "VrLwLMx+1siXuCdwggWz4RGPuMBmFjr9wp4sf30vvHCIB7V8pBYoWtACWQ9XyykBScuinjbBxczn\n",
       "wI4oOCZaJudpS5hLEQhoYYNA9TYIoCgDQbYoBYEz0UCQ9X4QtDkTEDKet7SkGbeSiBxZT9GxLlHj\n",
       "VpJcUdCwYxcR9RY9gge3CrKJr22JH9cJGRu2PV4LD+1byW5ru7SjvStZD7NPGrlcWWrB7CDEIy6w\n",
       "mYVOf/GWLP9yCC+s4EEtH6kFiha0QC8CacsMAXHLop42Ie8gDz23kig4Jlom52lLmEsRCGhhg0D1\n",
       "NgigKANBtigFgTPRQJD1fhC0ORMQcm8lDx23kogc5V0JQce6RK1bya5So2cXEfUWPYIHtwqyia9t\n",
       "iR/XCRkbtj12w7Z9K/lta3thX7mVjMf840YuV5ZakNnn/vib310J4LGdbjLHs9DpFy+r8hvRQS0f\n",
       "qQVKFlCgF4G45YlJmjLpQdG3Tcg7yLaQbD1e+fo//3TABJdEy+RMQqLRloEAFg4QcDVNEKiiEATB\n",
       "ohwEWkezDioIzKTZIIgeDAi5t5LtpC6TnKhtAR19ZWQPgZ3oBAueJOuYA5ke2eMGH3wGPuzyads1\n",
       "SrgQHNcpnIYltGnv2reSX7S2F2/pt5JLB41criy1ILMvnvtGuH8IHrvpxn7pAKc/v6PJZ/4bHdTy\n",
       "kVqgZAEFehGIW56YpCmTHhR924S8g+wKydZj/1sHg8+Y4JJomZxJSDTaMhDAwgECrqYJAlUUgiBY\n",
       "lINA62jWQQWBmTQbBNGDASH3VrKb1GWSE7UtoKOvjOwhsBOdYMETZ51wINMjeqQrL5sIbbPLp23X\n",
       "KOFCcFyncBqW0KZ93b6V/KG1nX+g30quTuRyZakFmf0786vhkxXwuJ7eSq5G0y9tavL5y9FBLR+p\n",
       "BUoWUKAXgbjliUmaMulB0bdNyDvIdSHZ+ieJte+H4RMmuCRaJmcSEo22DASwcICAq2mCQBWFIAgW\n",
       "5SAQk8k6qCAwk2aDIHlwIOTeSq4ndVnkxG0L6Kgro3jw7MQnWPDEWSccyPSIHunKyyYCPuzyKds1\n",
       "StgQ7OsUT8Ou2rRvttfw/Z12TQZP29ouhfDWxsarGxtXw8JarICDC6uV/MLGxg9/vLFxGcqSLcjs\n",
       "e/fXwgd74JEUWM9Cq515rMnvkKmqg7F8UoxYoGTRFsh6BFfLE5OJfZMy9qDo70Q9kyHmAB6Dwadh\n",
       "6RkTXBItLDMJrg7pTmcQwMIBAuhtEKiiEATBohwEYjJZh+hyE1suBkHy4EBwDjpBVJdFTtw2h461\n",
       "MooHz058ggVPnHXCgUCP5pGuvGAi48Mun7Jdo4QNwb5O8bRpCVHaZMuZf5Pc3q+1tb3U3qHIptgo\n",
       "4OBnYSKXb3KpBZ39gxC+hh5JgfUstNq5TUV+/jKZqjqY038YpbeS1IIW6P1pImm5MZk01KZMepD1\n",
       "pAn5h9GbQrL10dLjMLvDBJdEC8tMgqtagmjLQAALBwigt0GgikIQJItiEKhJsw7p5Sa0XAqC6MGA\n",
       "kPuu5GZSl0lO1LaAjr4yigfPTnSCCU90kSYczBnvSm7y64UrP7eZiw+3fNp2jRIuBMd1iqdNSojS\n",
       "djzg+r33AdfSfvh3Iy98wHVc1H8G4JEUWM8Cb03XFfmjMDzEg1qe8YCLWtACSx9wTUzSlPkHXJGe\n",
       "NOF/wIUeYy6+cGsvCS6Nlsm5bQmiLQMBLBwgUL0NAijKQBAtikGgJs06qCAwk2aDIHowIBQ84Irq\n",
       "MsmJ2hbQ0VdG8eDZwRNseLCnlAOZHsmDWXnZRMKHWz5tu0YJF4LjOsXTsKtp2lfsW8nPW9tzB9qt\n",
       "5Ish/LWRy5WlFnT2n4zfSC2CR1JgPQv8g9mqLJ/ZD8t7eFDLR2qBogUt0ItA0nJjkqZMehD1tAl5\n",
       "B7kiJFuPhf3xm9L9JLg0WibnaUuQSxkIaGGDAHobBKooBEG0KAUBTJp10EDgJs0FQfZgQMi9lVxJ\n",
       "gDbJidoW0NFXRvHg2cETbHiwp5QDmR7Bg1t52UQCkls+bbtGCReC4zrF0zCZadrVb4K9T37LYJH+\n",
       "A3/1wnZrW/3uGijIwfDa1tZ6I68qqx/PPZ0+KxQsyOzDJ2F556fUIymwmYVOX/+OJS//eGvrreig\n",
       "lo8mjz7bKkmBkgUUGHlUTeIR3/LEJE2Z9CDqaRNtzNN5pdjA45OV8JfzK3FwTLRMztOWINoyENDC\n",
       "BgGWwgQBFGUgiBYaCLggWsvNOmggcJNaINRfPB4pCFg80wpDWgS0SU7UtoAOd3m5PHh24AQHPNAT\n",
       "w0FEj50Lt/KiiQgkt3zado0SLgTHdYqnYTLTtJ8bH33p9V9N/9v87FeePj8trX7hB21tM+uRgh7M\n",
       "Hx0d7TTyOs1rky/1s0Legs4+tx4Gzz8Aj7jAZhY6/fyaLL9xdPQ04EEtH00fOE6rbAsULaDAyKP6\n",
       "Bo/4licmacptD7KeNtHG3HbC54Ae3w3hvTeS4JhomZynLUG0ZSCAhQMEqrdBAEUZCKKFBgIuiNZy\n",
       "sw4aCNykJgj1g3SHBwPCNaMVhjT0tMnBtiV0uMvL4yGwAyfY8GBPDAcxPWYu3MqLJhKQ7PJp2zVK\n",
       "uBAc1ymchiW0ac+vWO+thuvk3eb3gk+u/D982wI87ALDx6FAPupeoPsDD/pvGXrm3l57PLoEdwbC\n",
       "aQUh9wGXv8g+UnV7dAoyt6eOwfeIT+523c91Wrk0n/6ljOZjyeqP9rodfHLl08FsC/CwC2w+byxT\n",
       "/nL3At0fw9Z/y9AzDr9Hl+DOQDitIPhHbpF9pOr26BRkbk8dg+8Rn9ztup/rtHb5tiX6iB6cO8yS\n",
       "c8O2QA+zwOFqB3kPBdqj95btJhwenYI7A+HUgpA7MovsI1WHR7cgT2bw2W1nn1A6a+VyNyuRQfcA\n",
       "bQv0uJvX6t3OyeQWaI/eW3Ys791cMvOCOwPh1IKQOzKL7CNVh0e3IE9m8NltZ59QOmvlMjQekC5j\n",
       "t/8KWXJuWBaRh1Vg+HvoIO+hQMfou2VHE7ZHt+DOQDitIOSO3CL7SNX06BjkCQ0+t+38E8pmPXb5\n",
       "H7E6T61CbzVUAAAAAElFTkSuQmCC\n",
       "\" style=\"display:inline;vertical-align:middle;\" /></a>"
      ],
      "text/plain": [
       "(1 * 1 * 1) +  (1 * 1 * 2) +  ... +  (1 * 1 * n) +  (1 * 2 * 1) +  (1 * 2 * 2) +  ... +  (1 * 2 * n) +  ...... +  (1 * n * 1) +  (1 * n * 2) +  ... +  (1 * n * n) +  (2 * 1 * 1) +  (2 * 1 * 2) +  ... +  (2 * 1 * n) +  (2 * 2 * 1) +  (2 * 2 * 2) +  ... +  (2 * 2 * n) +  ...... +  (2 * n * 1) +  (2 * n * 2) +  ... +  (2 * n * n) +  ......... +  (n * 1 * 1) +  (n * 1 * 2) +  ... +  (n * 1 * n) +  (n * 2 * 1) +  (n * 2 * 2) +  ... +  (n * 2 * n) +  ...... +  (n * n * 1) +  (n * n * 2) +  ... +  (n * n * n)"
      ]
     },
     "metadata": {},
     "output_type": "display_data"
    }
   ],
   "source": [
    "Add(triple_nested)"
   ]
  },
  {
   "cell_type": "markdown",
   "metadata": {},
   "source": [
    "The `var_range` function may also be used to make nested ranges of indexed variables by simply supplying multiple start and end indices."
   ]
  },
  {
   "cell_type": "code",
   "execution_count": 30,
   "metadata": {},
   "outputs": [
    {
     "data": {
      "text/html": [
       "<strong id=\"x_111_to_nnn\">x_111_to_nnn:</strong> <a class=\"ProveItLink\" href=\"__pv_it/exprrange_reductions/363222dbdd12ab5e0100992ad0c05e8e9961e53d0/expr.ipynb\"><img src=\"data:image/png;base64,iVBORw0KGgoAAAANSUhEUgAACJIAAAAQBAMAAAC17torAAAAMFBMVEX///9ERES6uroQEBAyMjLc\n",
       "3NyYmJgiIiJmZmaqqqp2dnbMzMxUVFSIiIju7u4AAAAd7oVFAAAAAXRSTlMAQObYZgAAAAlwSFlz\n",
       "AAAOxAAADsQBlSsOGwAAB3FJREFUeNrNW89rXVUQHhKS5kfzCm4FKXQlSO1GQSSY/8B0IYgLG0RB\n",
       "EWp2CkIJKK0bJbsWhJqFKBaFgAt/lIoguLLlLQRFGnhuSqlEi+jGQmPePXPvmTkzZ86Z3Bfogaa5\n",
       "93zfN998c+7jvVcKsHvzjyuboC9rzwsf7Nz49jOYSCFTqifb2XLBiqXm7MKETzBcL/wQw+1n5QEd\n",
       "u/v09gzBprsfJUNuY+n63Dr497zwObg5vAATKWRK9WQ7Wy5YsdScXZjwCYbrhR9iuP2sPKBjd5/e\n",
       "niHYdPejlJebXZ29f3QN3Htu+CvwxuhHmEghS6on2+mkYMVUc3ZhwicYrjeBQwy3n5UHdOzeufcM\n",
       "oUD3PkqG3CLMrez/dWulea/zcnMvXKh7gys/jXJVNKm4tuHdVKXDMOadz28UCilSjkXZ3Zs81Um7\n",
       "WWkllwjvtpMO1NAta92qxOD6ph4u3i2Hq8Dd4XKa7qQiXA1/4BWctSs5pDh2Zrg8di4mHgRc6cgY\n",
       "t5yzKla/OF045o2Ui+hyuKaH+4Cd5h3LtV8a9M56dm8OrHdaAs7WcqpCMIS5AReKhZYrDZXY7dKd\n",
       "dO8A66zkEmHdUunlrlvWulWJwfVNPVy8WxOugLvD5TTdSVW4Et9jLZMHQhzScSVuuDx2Lpb67j4P\n",
       "iJEti/bNnKWYa1G64nhZ+QRT6yZZj68ORjAfpC82P+fXs3vHjs/cA4cUWVP/wp+JykWN+Tec2S4U\n",
       "UqQci7C7pTrBVWsllwjvNko31NAta92qxOD6ph4u3q0IV8Ld4SY01UlNuAr+4CtMCpc4pM3YmeGK\n",
       "sXOx9EHAJUZGuTU5K2KexToTjlkjNUU0uWb9fvwHWAD5SjLQ92ZH486lVA5+/tqv0OAHDx09BVtM\n",
       "JVwI5tmmjwYykH4zUq++vrMBGr7ADv7C1Sh1EkTrraBY9BLUaLcoHaln6TlrLvRwNXgolGrp4eJd\n",
       "CrGmyOFNY45wKS3nhIarWBnl8HVecs5QhR5SUokarhg7FxNjRzU6MsGlOZvzYGLxsTKXpFPH5FSx\n",
       "bB1uGO+j796BR5VXkr9W9D1YWIfBPxAAzY/uSoHfOrE2vdog5u/dPjW1SVUQI5nwaQuRNTJSg5ee\n",
       "hCcSqCRKdvAXnDQI6gRFo5VOQ7eCYsQLqpFucYiEGrqNrcsizS8KPBSSWnq4eDdCZI0cPDRmZCry\n",
       "ILSMExautEKHwfDRSyYoc+xd1XhISSVmuDx2LibG3qnFkSncmHOmH00sPlbFJBidOY6nimdL3OSe\n",
       "8UQuXN7emT+/qbySHDkH6h58tf9i9eb+nyPjV6Pmx1uQhb/4MxwL+MH7w0uvcZVwIZmL51rIeI/U\n",
       "GP+iS83srsD9oBWhnDj+RbDRX7gad0WdoCix0mhkraAY8YJqpFuUJtTQLWl9bIPbHkspcCwktPRw\n",
       "8S6BdFOMienw0JgyjGwehJZxwsJVrJBhMDzxwqtXjb2rSg5prMQMl8fOxcTYOzUyMsklOeuD18Ti\n",
       "Y6XNQRknP5rxCedmWBHrGU/kOp743NhcXNY/U848Mr4j3/pk4NfhBMcTFbwQzNOjDnJZ1MlIHR1O\n",
       "nVLxBXbwF67IZnCCotVWUEx4od0GaUIN3ZLWzXAZPBQSWnq4eJdAzEIMHhpzhEtpGScsXGmF3OH4\n",
       "Oi85sVaFHFJSiRkuj52LibG3amRkkktyNufBxcRjpS9BZ47jLs+23k3K019JtvS95+E5GH+TkK4M\n",
       "/Gl4b5HhiQpepMyZjZnVFrIl6mSkprfnNrY1fIEd/IWrhfQbKRSttoJiwgvtNkhHKnZLWjfDZfBQ\n",
       "SGjp4Ya7FGIWYvDQWH24jJZxwsJdsMLl+DovObFWhRxSUokZLo+di4mxoxodmeSSnM15cDHxWOlL\n",
       "0JnjLWGGFllwyLW54fkehG8O7+BHuiFoezMPX/0AYFd+G5OB34W3P2T4TgUxknn66tcjLDSQ/+KU\n",
       "kToDR77Z1vAF9thf62QXEieNqMMKiqVeSLcYLqGGbknrdrgMHgqlWnq4eJeEaxbi8GaKjnAJLeuE\n",
       "hqtYiXcSfJ2XnBiqkENKKxHDNWPnYmLsqBZHpnBJzvY8mJh8rPRvXAWdOKat0Ww9bthMcOvj/4aL\n",
       "T8ELz34BX26OL2Ap5kv3pvf27gLIeDPwqe/htzWKjyqIkcxn9vbaQksynYzUY7D0CWh4m934a50M\n",
       "UyeNaL2VViz1QrrFcAk1dEtaN8Pl8FAo1dLDxbskXLMQg4cpOsIltKwTGq5iZZjBV3rJiaEKOaRk\n",
       "kxquGTsXS8feqsWRKVySszkPLiYeK31JOnFMW6PZetywmdAPgOEv9f/nWHtu+CbF9CtkSdWybSdO\n",
       "KzkvZl/OLkz4BMN1wg8zXC++R4Deru3hHfxJmPhASiHaB9gjdzK83qhf41h7XjjePgn9C5lStWzT\n",
       "iddKzovVl7MLEz7BcL3wQwzXje9xapxdF4Z38Cdh0gMphVg4wB658AZlVmVZe174LMX0K2RK1bJN\n",
       "J14rOS9WX84uTPgEw/XCDzFcN77HqXF2XRjewZ+ESQ+kFGLhAJfk/geQ6O60698PZAAAAABJRU5E\n",
       "rkJggg==\n",
       "\" style=\"display:inline;vertical-align:middle;\" /></a><br>"
      ],
      "text/plain": [
       "<IPython.core.display.HTML object>"
      ]
     },
     "metadata": {},
     "output_type": "display_data"
    }
   ],
   "source": [
    "x_111_to_nnn = var_range(x, (one, one, one), (n, n, n))"
   ]
  },
  {
   "cell_type": "markdown",
   "metadata": {},
   "source": [
    "Note that multiple indices are implemented by nesting **IndexedVar** expressions:"
   ]
  },
  {
   "cell_type": "code",
   "execution_count": 31,
   "metadata": {},
   "outputs": [
    {
     "data": {
      "text/html": [
       "<table><tr><th>&nbsp;</th><th>core type</th><th>sub-expressions</th><th>expression</th></tr>\n",
       "<tr><td>0</td><td>IndexedVar</td><td>variable:&nbsp;1<br>indices:&nbsp;2<br></td><td><a class=\"ProveItLink\" href=\"__pv_it/exprrange_reductions/9be15b6c76bc343df69a4538f7209dd2756a00f40/expr.ipynb\"><img src=\"data:image/png;base64,iVBORw0KGgoAAAANSUhEUgAAAFIAAAAPBAMAAACFEoWBAAAAMFBMVEX///9ERES6uroQEBAyMjLc\n",
       "3NyYmJgiIiJmZmaqqqp2dnbMzMxUVFSIiIju7u4AAAAd7oVFAAAAAXRSTlMAQObYZgAAAAlwSFlz\n",
       "AAAOxAAADsQBlSsOGwAAANpJREFUKM9jYHh75/WqCQzEgAbesxwFxChkC2D7x5OARWKLAJoANwOH\n",
       "A1YjeBZgCDFfwKqSeQOGkH4A3wMok+saQtf+u+fgbL5ltwIYHiocZuCCiRRxG8Blrz+4AWc/D9gf\n",
       "wDB/XzODJlSAQ4APYaUYQwqc3cGwmYHhxV3ONlhwMisgOcqaoQfONmK4g+pi/gAkzgcGS7gzvzKI\n",
       "vUNRyaLAsIAPFjh1bAJwtin3pzwok7Wjo6OJgbUt9wG3JUMEkKPAsOMuA5ytkXkLS+Rw4mBjAj0c\n",
       "bEyQgIMNAEElOAWNShSsAAAAAElFTkSuQmCC\n",
       "\" style=\"display:inline;vertical-align:middle;\" /></a></td></tr>\n",
       "<tr><td>1</td><td>Variable</td><td></td><td><a class=\"ProveItLink\" href=\"../packages/proveit/__pv_it/common/a0d9d672aa5e272d907247690c152cc2c6daafb70/expr.ipynb\"><img src=\"data:image/png;base64,iVBORw0KGgoAAAANSUhEUgAAAAsAAAAJBAMAAAAWSsseAAAAMFBMVEX///9ERES6uroQEBAyMjLc\n",
       "3NyYmJgiIiJmZmaqqqp2dnbMzMxUVFSIiIju7u4AAAAd7oVFAAAAAXRSTlMAQObYZgAAAAlwSFlz\n",
       "AAAOxAAADsQBlSsOGwAAAENJREFUCNdjYHh75/WqCQwMDbxnOQoY2ALY/vEkMHAzcDgwgADzBTCl\n",
       "H8D3gOGhwmEGLgaG+fuaGTQZGF7c5WybwAAAJTwQ1a2DuB8AAAAASUVORK5CYII=\n",
       "\" style=\"display:inline;vertical-align:middle;\" /></a></td></tr>\n",
       "<tr><td>2</td><td>ExprTuple</td><td>3, 4, 5</td><td><a class=\"ProveItLink\" href=\"__pv_it/exprrange_reductions/ceaf46d26a7d08491176d27eb1c082ef0679d10e0/expr.ipynb\"><img src=\"data:image/png;base64,iVBORw0KGgoAAAANSUhEUgAAAGUAAAAVBAMAAACtcD09AAAAMFBMVEX////MzMxUVFRERES6uroi\n",
       "IiIQEBCYmJhmZmYyMjLu7u52dnaqqqqIiIjc3NwAAACW8nlqAAAAAXRSTlMAQObYZgAAAAlwSFlz\n",
       "AAAOxAAADsQBlSsOGwAAAVRJREFUOMuVUzFLw1AQ/jQmfaZpmsW9q1QhILhZMrlJO4o6dBC6ZtPN\n",
       "bg4OBhfBKeAPSBScRMhqXeIkCJYgdO9qJi8Ozb2YFPKGwPfdfXnf3b0DkKDO+ctuRbU0B9nnrSqq\n",
       "7w5K2JZLEa/yl+vjMvYOEG6lpl3q+hzQqq33/TJW8/FarXkqd+ziisGXD4tHb762pGyzO42BZge3\n",
       "OTeLhM379uMH0uz2EyUFGh5Ocu4YWsxSjFTG+giCum8McbrgRCobFx7aIcdzqIRX5kyj2bKGEvq8\n",
       "2xQPHGBtyLwF8b/xXPNuU/wiszzAXp5D03V0prGoAoaDCJtGgoaNx9yvjaYV5E9p1VXGYFiJjUNB\n",
       "aSE2qKodOj3g+ewT6tEC691LSHj74fudGAeqJVcxwXKMGY2o8HhDLMegy9GTl6bQvCKGmU3kXl6p\n",
       "4ooVr1Gy52TGtXZ7CvwCEwxM/sfRZKgAAAAASUVORK5CYII=\n",
       "\" style=\"display:inline;vertical-align:middle;\" /></a></td></tr>\n",
       "<tr><td>3</td><td>Variable</td><td></td><td><a class=\"ProveItLink\" href=\"__pv_it/exprrange_reductions/78b8c0092da95d22274ec9b98a7b60b11e6bf88a0/expr.ipynb\"><img src=\"data:image/png;base64,iVBORw0KGgoAAAANSUhEUgAAABYAAAAJBAMAAADEGsFGAAAAKlBMVEX///+6urru7u4QEBBmZmaq\n",
       "qqoiIiKYmJiIiIh2dnbc3NxERETMzMwAAAC79TySAAAAAXRSTlMAQObYZgAAAAlwSFlzAAAOxAAA\n",
       "DsQBlSsOGwAAADxJREFUCNdjYIACzo4aGJMrlcEbxmabwGABY/sqMMCBNYLJdAPBZrjOwMAIYwMN\n",
       "mcNwejcQLGDgnF6hAAB3SwtmMoJ/UAAAAABJRU5ErkJggg==\n",
       "\" style=\"display:inline;vertical-align:middle;\" /></a></td></tr>\n",
       "<tr><td>4</td><td>Variable</td><td></td><td><a class=\"ProveItLink\" href=\"__pv_it/exprrange_reductions/9a18d67b443cf8d92289c655ed91ec78766170a90/expr.ipynb\"><img src=\"data:image/png;base64,iVBORw0KGgoAAAANSUhEUgAAABYAAAAOBAMAAADZH/H+AAAAMFBMVEX///+YmJiIiIhUVFR2dna6\n",
       "urqqqqpmZmYyMjIiIiIQEBDu7u7c3NxERETMzMwAAACAShLAAAAAAXRSTlMAQObYZgAAAAlwSFlz\n",
       "AAAOxAAADsQBlSsOGwAAAFRJREFUCNdjYICAvSsZEKAdif0NwWT9jWCzTECwOYyUE2Ds/d3cf2Ds\n",
       "/A0Mi2DsCgaGLzD2FAbWbwjj2eGm/mPYJQBjGzJcZ2B4excIDjBsdhdgAABekBc1LTuJ9AAAAABJ\n",
       "RU5ErkJggg==\n",
       "\" style=\"display:inline;vertical-align:middle;\" /></a></td></tr>\n",
       "<tr><td>5</td><td>Variable</td><td></td><td><a class=\"ProveItLink\" href=\"__pv_it/exprrange_reductions/006c465e50948aa2b52285e2de47974f741255cc0/expr.ipynb\"><img src=\"data:image/png;base64,iVBORw0KGgoAAAANSUhEUgAAABgAAAAJBAMAAADa0/H1AAAAMFBMVEX///8yMjKqqqoiIiJmZmaY\n",
       "mJju7u4QEBC6urqIiIh2dnZUVFTc3NxERETMzMwAAAAY8qdrAAAAAXRSTlMAQObYZgAAAAlwSFlz\n",
       "AAAOxAAADsQBlSsOGwAAAElJREFUCNdjYICC0ytPwpgMHDUM9xNgnPQABme4jD8DgxWcU8vA9gPG\n",
       "ZvvJwPoBzvnEwC2gA+PdZFB2cGB4excIDjBkz3qz8wEAJxQUWRMzkfwAAAAASUVORK5CYII=\n",
       "\" style=\"display:inline;vertical-align:middle;\" /></a></td></tr>\n",
       "</table>\n"
      ],
      "text/plain": [
       "0. x_{_c, _b, _a}\n",
       "   core type: IndexedVar\n",
       "variable: 1\n",
       "indices: 2\n",
       "1. x\n",
       "   core type: Variable\n",
       "   sub-expressions: \n",
       "2. (_c, _b, _a)\n",
       "   core type: ExprTuple\n",
       "   sub-expressions: 3, 4, 5\n",
       "3. _c\n",
       "   core type: Variable\n",
       "   sub-expressions: \n",
       "4. _b\n",
       "   core type: Variable\n",
       "   sub-expressions: \n",
       "5. _a\n",
       "   core type: Variable\n",
       "   sub-expressions: "
      ]
     },
     "metadata": {},
     "output_type": "display_data"
    }
   ],
   "source": [
    "x_111_to_nnn.body.body.body.expr_info()"
   ]
  },
  {
   "cell_type": "markdown",
   "metadata": {},
   "source": [
    "## Expanding ExprRanges\n",
    "\n",
    "The **ExprRange** and **IndexedVar** expression types work together in **ExprRange** expansion reduction rule.  Essentially, when a range of indexed variables is instantiated to an **ExprTuple** of elements and those indexed variables are contained within an **ExprRange**, that **ExprRange** must be \"expanded\" to reflect the expansion of the indexed variables."
   ]
  },
  {
   "cell_type": "markdown",
   "metadata": {},
   "source": [
    "### Parameter dependent expansions\n",
    "\n",
    "The more restrictive form of **ExprRange** expansion is when **ExprRange** parameter is used for anything other than indices of indexed variables being expanded.  For example, consider the following lambda expression."
   ]
  },
  {
   "cell_type": "code",
   "execution_count": 32,
   "metadata": {},
   "outputs": [
    {
     "data": {
      "text/html": [
       "<strong id=\"param_dep_lambda_example\">param_dep_lambda_example:</strong> <a class=\"ProveItLink\" href=\"__pv_it/exprrange_reductions/9ea27e35a75010c55cf6b0bd7fcee2b4ef67c8d60/expr.ipynb\"><img src=\"data:image/png;base64,iVBORw0KGgoAAAANSUhEUgAAAdoAAAAVCAMAAADW899IAAAANlBMVEX///8WFhYNDQ3MzMxUVFRE\n",
       "RES6uroiIiIQEBCYmJhmZmYyMjLu7u52dnaqqqqIiIjc3NwAAACzeusSAAAAAXRSTlMAQObYZgAA\n",
       "AAlwSFlzAAAOxAAADsQBlSsOGwAABDxJREFUaN7FWumarCoM9F5QdsH3f9mD7CKro1/zY8wMdqVS\n",
       "kRDpWRY91PK7oZ7crD5yo76l/zWuuhly/2FqNzl+ryf6gPCQm69w58ezlAQy3tjF8sshyeidnqi/\n",
       "AsRfdWNxFaVsBR/QnxhPUxLIWIOz5beDDSbIE7VXDik7+JtuLK5a9Q9xbK/TnxjPUxLIGIOSH6eW\n",
       "0LH7PNFAWE6lNnezkSI+NPsUxu/h9usoqUT6By2NgZdfD1zJkLz2Eji7TqY2d7Pnu6TFxQYUHuo1\n",
       "3H75LTP5m5ba2NnPU8viQ3pRab+sB080Ep5MLSNNQR0uRObnAd7CnU/tX1ISyGiDuh2bSwk5EKLc\n",
       "mrVnB3eQGoaAwUSXictvnigVvdRWHCVuSoLStHVBx2u486l1TDbtTQm5ykdaasOnWa8QCeVCUXmf\n",
       "a84O7pU1DMIqqd3XwvMYF0kttRVHhDUFTRcfOORruPOpdUzEsmpvCy/tDX0ttYFs4on+PNFSwROW\n",
       "Z2wvs1wICB90hRcP19BwJbWLXKMjRzRcq6mthbLjpqAoWQEIdnBTETq486m1TLZtQeejrQp7w4CW\n",
       "2sC2zT8/Tp0KQMpM4nT23ACfrN4UI5uJ1e///9BlHPEtxBEN12tq+cFKjtJQghtqoDE2F5jjnzes\n",
       "PdxUhA5us5A1mHDt+zT2EGXkMqClNpKIcHh69kLq/OzpT010GSWMrPmvrtqNJeyaqV0QLTuKoWzt\n",
       "1RVxSZqWMm4qwvb2qvVMdpMmyMpcOlpqI9ah7SzqnFdSG2YJf5zaiEGJXk/0/iBd/YL0OGC4INdC\n",
       "yYKqFmRzFKRUO4BEhA7u04Lsk3qQhT/QUhu2AePrtkBs9u70BoeZzeorur2pVPvi5Y7ByYb1LoGd\n",
       "fGStpJal+vpOMXaM5dRWQrm4KQnqcYH5nOQdXC9CF3c+tZ4JFq4eiwaVmpbasN3yfgBO9c3bnurh\n",
       "i3s26w5vY+kPVsNIMRSX5199ZpLXjq3+Xuvb+viuIYrnCuVQ8rebu6AOVyF6DtTDjSfYbdy7Eun+\n",
       "3WRiqoJWioAGlZqW2gB2AVIptZRkvy5rZOlns8r1rSgcz4dNoGC4m64YZ1cftgVUObAVl5AAul4h\n",
       "xAe7t4i1UG5uckEdru7czsF6uCo07x3cuyTZ/l1jstnMQLK3qZS1PA1U2DZjxS6UPEX9VrSPlOTi\n",
       "TVg7pdR0enqdjNUtTxRN7fMhlNzNrXBO4UYRurjzB41zERa1NEbpdD7oUfhySa0AAMors4W1VxLm\n",
       "MAHsYOYw3BMd/TohCyV3czuUn8FNROji9rvLvzCpaGmNNd+xlGCHsN1V4QnEpmDVZgtHYqVgzt1E\n",
       "CmJVGg3CE13Hj+5jKANuJnCjCOP0J8YEk7KWzuB1cu3cDVUe+V4Ynihfv1HrK9wHx+3rHx8Jb6hv\n",
       "/glkbMgJaTzRB4SH3HyFOz+epSSQMcY/gPE5QvJIM5AAAAAASUVORK5CYII=\n",
       "\" style=\"display:inline;vertical-align:middle;\" /></a><br>"
      ],
      "text/plain": [
       "<IPython.core.display.HTML object>"
      ]
     },
     "metadata": {},
     "output_type": "display_data"
    }
   ],
   "source": [
    "param_dep_lambda_example = Lambda(x_1_to_n, Add(ExprRange(k, Mult(k, IndexedVar(x, k)), \n",
    "                                                          one, n)))"
   ]
  },
  {
   "cell_type": "markdown",
   "metadata": {},
   "source": [
    "Note that the **ExprRange** parameter on the right appears as a prefactor as well as an index of $x$.  To respect the restrictions of a parameter dependent expansion, in this case, we may only apply this lambda map to an **ExprTuple** with **ExprRanges** whose indices match the original indices.  We demonstrate this below by applying `param_dep_lambda_example` to $a_1, \\ldots, a_j, a_{j+1}, \\ldots, a_n$.  First, we prove a few things in order to meet the necessary *requirements* for the expansion under a set of *assumption*"
   ]
  },
  {
   "cell_type": "code",
   "execution_count": 33,
   "metadata": {},
   "outputs": [
    {
     "data": {
      "text/html": [
       "<strong id=\"defaults.assumptions\">defaults.assumptions:</strong> <a class=\"ProveItLink\" href=\"__pv_it/exprrange_reductions/69174f66d73800893273183f08a342681172fb600/expr.ipynb\"><img src=\"data:image/png;base64,iVBORw0KGgoAAAANSUhEUgAAAO0AAAAVBAMAAABYonTIAAAAMFBMVEX///8AAAAAAAAAAAAAAAAA\n",
       "AAAAAAAAAAAAAAAAAAAAAAAAAAAAAAAAAAAAAAAAAAAv3aB7AAAAD3RSTlMAInZUiRDNmWbv3US7\n",
       "qzJazP2FAAAACXBIWXMAAA7EAAAOxAGVKw4bAAAC+0lEQVRIx52WTWgTQRTHX7LZZrPNpouIiJem\n",
       "ftRLlT2op4I56kFYevAQLI1IQbxYRET0EuzBY4MnQcFK7SWIhiIeBGFVFLQqCaUHRSR4UJSCkVKh\n",
       "VMT3ZiebndmdDRjIMm/+83tv5+2btwsANvT5pZRKXzQBSzuRef3h22nI3LnFzT1KB0uSXf7zyoXj\n",
       "mw3F8q7MsEN0WXOFBXnnKcAUN7RSvJfCS0hXpbkXg03QO8r75DJheoUmRkXdupupQo4bJxVO0khO\n",
       "S3Mf7WMANWXcroxYthqjW+NwGkxuXE54Utcle8UbsGFeubwrI5YLz4/V62z71s7ijiBuLSFuzhXB\n",
       "1rVUJSauLCN2JCQ/3tfdr/05XeJxtUpC3IGqCLas9t5o3IiM2EWq391Ndl6Cp2XZeVjmcbNYVkur\n",
       "28eKkrOJA3jJSGALvHyDxw2gqIzYWXINN9nN2724hZlyubel0rui/kuKO5NDwaiIYAu+6Ys8bgBF\n",
       "ZcQW0ByBdab36sqGWe21PzYdGGzch9RfqZrtITz4Wk0EW2A4435B9KCojBg1B1fboNnvdfx5PK7l\n",
       "fuCl0wBd3wK2RD9HS+ptGsJRrKlCRwRbAKuWHzeAYmTEWFPKstScCu9Xb5aDuKB1wIqU1xXaVE0E\n",
       "0fGkzvMcQFEZsQWWS9aSzHBc+JIP8kz8UNWV4t4j3/MiiI4LRY876UJRGbHnZA+zjpoOSjaPmUyv\n",
       "4QOgMc7mSphVqV2mtvBieCL4Hv8HPXwIEIIiMmEnyJ7zp88Ex5LeFZdA/82PynAbRo22GNfo8EMW\n",
       "BmmQrcAU5bcHyTJhP8j+5E9PLvu5LJy/7fflOpUOpvIJarNyL6Wtmg0B/LrpsY5vLkIYkmXCTLqj\n",
       "G9zXozd1oXw0Wv9A0SIpe7sU4GFxrSwjZszAirGhaIOZuN7v79aZcxPeGaXkFz9hzwrrpqPQJ1iR\n",
       "xX1V/HToIKS8eE4vJn/AeOx0XbiqWsBwPc55dn9DdUtUwcnbZViq2O9zaJtSGfm/7yvE/gGnkee6\n",
       "QzRvygAAAABJRU5ErkJggg==\n",
       "\" style=\"display:inline;vertical-align:middle;\" /></a><br>"
      ],
      "text/plain": [
       "<IPython.core.display.HTML object>"
      ]
     },
     "metadata": {},
     "output_type": "display_data"
    }
   ],
   "source": [
    "from proveit.core_expr_types import Len\n",
    "from proveit.logic import InSet\n",
    "from proveit.numbers import Natural, subtract\n",
    "param_dep_assumptions = [InSet(j, Natural), InSet(subtract(n, j), Natural),\n",
    "                         InSet(n, Natural)]\n",
    "defaults.assumptions = param_dep_assumptions"
   ]
  },
  {
   "cell_type": "code",
   "execution_count": 34,
   "metadata": {},
   "outputs": [
    {
     "data": {
      "text/html": [
       "<strong id=\"a_1_to_n_partition\">a_1_to_n_partition:</strong> <span style=\"font-size:20px;\"><a class=\"ProveItLink\" href=\"__pv_it/exprrange_reductions/a66b1fb5d205d2e8007a39dfc31bf38e465e0de50/expr.ipynb\"><img src=\"data:image/png;base64,iVBORw0KGgoAAAANSUhEUgAAADMAAAATBAMAAADPIygvAAAAMFBMVEX///8AAAAAAAAAAAAAAAAA\n",
       "AAAAAAAAAAAAAAAAAAAAAAAAAAAAAAAAAAAAAAAAAAAv3aB7AAAAD3RSTlMAMrsQds2rme9mIlTd\n",
       "iUQmv6lAAAAACXBIWXMAAA7EAAAOxAGVKw4bAAAA5klEQVQoz2NgwAA2n1QNGG78eABiMyqjymnz\n",
       "JTAwfwAzWQJQpXIW3GRgaGDABrIVWBcwHEAWYdE5cxTMyJrCFYAixRdiAGVlsQn4QqRM3MACS2Ey\n",
       "DFkMCkwPwFIFHBNAVBQDQkqc+TBIimUB/waQQACSFOeGTSAXMjPsBxnF2HPmzJlDUCmGZDaI42tA\n",
       "BLMCki4GM2aIC8+CyQPIUowOYJVc/8ACLnApRSB2BEtxQoKLdQNMKhqI2cGuYoPYwpz0GCIj+gMo\n",
       "wAyW4nCABsclaEDBANuG+QYM2IH8htM4ZBjY3R/gkAEAR4oz5b1xIc8AAAAASUVORK5CYII=\n",
       "\" style=\"display:inline;vertical-align:middle;\" /></a>, <a class=\"ProveItLink\" href=\"__pv_it/exprrange_reductions/dd26acf72276bf4c265ac70a87f53421f94d1b770/expr.ipynb\"><img src=\"data:image/png;base64,iVBORw0KGgoAAAANSUhEUgAAAGYAAAAVBAMAAABGR4Y+AAAAMFBMVEX///8AAAAAAAAAAAAAAAAA\n",
       "AAAAAAAAAAAAAAAAAAAAAAAAAAAAAAAAAAAAAAAAAAAv3aB7AAAAD3RSTlMAInZUiRDNmWbv3US7\n",
       "qzJazP2FAAAACXBIWXMAAA7EAAAOxAGVKw4bAAABoUlEQVQ4y32TO0jDUBSG/+bRR0xCJhGXtoJO\n",
       "Ch3ESWhxF+LiUCqtSMHNIiKCS8HBTUUchApW3DJoEXERobppHYqCKIgUN6WDUApO4r03tY9LrhdC\n",
       "Ts7h4/znvycALAiOsAApJqqccd/q6X0WymEBGBcQdVvKcyk9dgWkCZwRMCNAlksZR0oeISCQF6rG\n",
       "Js9MYh4aKCY8Idt9jzoOU2MMRPopM/EP43c1XAz/9bHepARhVoC+sZmpG96joSqgVGnoa49lWDoq\n",
       "hFkkJf0Bae4yAtgHgkyR3+owZi6ZBI6BS62McK2XiaIByDuM6XhgYUO+BcgN2ekS4nTcWYeeE1q2\n",
       "5SZgftHwgybLLcawXxiDOPDEzx8okkFZn1R3H7XqaqPAt8oxWoJoK7Kom8G7DlDD9iA3FY4Jl4gH\n",
       "TJEUae8OGVqqA9PEzB9ImS2O2ab6EixcaN8XXedV4JPILkJ95rf7laoqsXCu4u6DuXRAjSL5mvcO\n",
       "7JJnsBWf3zk9mxzMeRGPQWI11kRLde2RMxsa0eori5iUV3J5ndok/Ll9EVElKsj/AqEFVLvOYDq/\n",
       "AAAAAElFTkSuQmCC\n",
       "\" style=\"display:inline;vertical-align:middle;\" /></a> <a class=\"ProveItLink\" href=\"__pv_it/exprrange_reductions/a5c55fdbe5b4acaeebd32176adb8690f3f81dda40/proof.ipynb\" style=\"text-decoration: none\">&nbsp;&#x22A2;&nbsp;&nbsp;</a><a class=\"ProveItLink\" href=\"__pv_it/exprrange_reductions/c0fc3ebb3d9a52e9b8c01e309824084e6898c91e0/expr.ipynb\"><img src=\"data:image/png;base64,iVBORw0KGgoAAAANSUhEUgAAASgAAAAvBAMAAACiW0omAAAAMFBMVEX////MzMxUVFRERES6uroi\n",
       "IiIQEBCYmJhmZmYyMjLu7u52dnaqqqqIiIjc3NwAAACW8nlqAAAAAXRSTlMAQObYZgAAAAlwSFlz\n",
       "AAAOxAAADsQBlSsOGwAAA2RJREFUWMPtWE1oE0EYff1Jutkm23hoT1aLN5GCUvAgqNVDzym0UNRD\n",
       "RaHQQ1nRgz0ZEFGqYg6CR4OCBaGk9qIihXqo0BZkFaSVUgn1IhU1gherts7OzO5Okt2t7GSgQj8I\n",
       "2ZnvzTdvZ+abmbcAiohuBtRYakaicaOlhtSCVOtFJZz0nFTzRF4FKc2Uat6UVUEqLtl+WAWpOcn2\n",
       "91SQumkn9oEPYhatTn/ZYiMQ8FMqSNlv2lNsWBfSfATHw5eviB+lC7OfWketSJ0hCTgELQN9lNc8\n",
       "MnEN+ot9gcQYntsrFSN1nrxnCbFJtL/jNXeA09CEfqsSluK57VVEKn4QhW5gltecg/4DLd3G98CE\n",
       "ZXg+lSpIkekrWLgCl5T+B00lNOWDSTH85QsrWadVrdfUUdLJDPYnizQ8WUf6b9TnXgPNGVqsMLuG\n",
       "4tcuDWGEFC6qGCmS0g1WckCj76z/pDRns2QMWvOsWMih4oHijYkc1vmWUnNrJT11Pll9wyain4zE\n",
       "g+U9nWkYR3gxZk/SAPiDXcPw9VbjIKnoU0EqlnaebFJJd8I+4atYdMyriae1LOGeUUHKO1FtUs3u\n",
       "pn1o15hQdM2r+YbY7rTseR5kx/j/5/vTwIQ7DpubJaHomldzEqmnwEc1l7yHYqHiIll9r7QCXqnG\n",
       "ZsjcaFNF7NiO/R+2zdaqIS1GFRjVtwvbbeYWpcWoAiP6VtHhJXcax7df5g1Li1Elqk9WjIbhtwzk\n",
       "D52SEaPpMnxddXIHORAEdfSthBjtFfDCFXY8B19HWEgOdfStrBjleO4hv7qVjL8jLKQAtfWtrBjl\n",
       "eGYN9Bqf8XeEhRSgtr6NLEb1pRkBj4lblaQqHSEheZ/X25eYWIgqRotaMgcdLj47J5LyddghdfiF\n",
       "ZNDxHjNepPo2qhjF4+YsrWJ4Pf9MJOXrsENSR3VICl17j5Y81beRxSgSJmKn4ODJ3nK163BXl0lJ\n",
       "+TrskNRRHZJBO9nnkr7oYhQtZKjnPc9G2Zryc9CQ8wgOeRY3yKZG9G1kMYo28vN2hrrBMlI+DhZy\n",
       "MjikUULvS/a9OqoYxVsykd5pk+pw+n7+y/J10JC6FRyysQPLJtO3kcUoOaBSwi3IdNcz/s0Rpm8j\n",
       "itHEiUGxeLfN2bgrLNChQt9qS2VJcHssABfoCLG/c8JrkBsR3gYAAAAASUVORK5CYII=\n",
       "\" style=\"display:inline;vertical-align:middle;\" /></a></span><br>"
      ],
      "text/plain": [
       "<IPython.core.display.HTML object>"
      ]
     },
     "metadata": {},
     "output_type": "display_data"
    }
   ],
   "source": [
    "a_1_to_n_partition = a_1_to_n.partition(j)"
   ]
  },
  {
   "cell_type": "code",
   "execution_count": 35,
   "metadata": {},
   "outputs": [
    {
     "data": {
      "text/html": [
       "<strong id=\"typical\">typical:</strong> <span style=\"font-size:20px;\"><a class=\"ProveItLink\" href=\"../packages/proveit/numbers/number_sets/natural_numbers/__pv_it/theorems/1a8a7907b709bbd24c48a9933f16dbe96429f5cc0/expr.ipynb\"><img src=\"data:image/png;base64,iVBORw0KGgoAAAANSUhEUgAAADUAAAAQBAMAAABEqSrGAAAAMFBMVEX///9mZmYQEBCYmJgyMjKq\n",
       "qqrMzMwiIiJERER2dnbc3Nzu7u5UVFSIiIi6uroAAAA6K1lcAAAAAXRSTlMAQObYZgAAAAlwSFlz\n",
       "AAAOxAAADsQBlSsOGwAAAOZJREFUGNNjYMAE23+0bGCY9OkBAzbQyneAgfsDVimG4wsmMzAoYJc7\n",
       "2sCygKEAVexGebkDiD5ly+WAJvfkNpRxiifhJkiO786uub1gES5vmKJTDA0cD4BynBxnGfYvAImw\n",
       "LEDIJXJXA+XesTcwrE8AyzEg5JgDIoDu3LD/AUP8BpBIUjkQNEDkGE7zgPwQz8BwBKx6B5I+hj3c\n",
       "IHcCJT5zg0TYkeXYLoBM0GRg/c0JEuG9AJNrA+JrQDmubwy8DmZgIVeYHIjBCAwFvgIG7sMBYKE9\n",
       "fWA3MaR8AurhdkANs5ft5cgiADLCQKtntbI7AAAAAElFTkSuQmCC\n",
       "\" style=\"display:inline;vertical-align:middle;\" /></a> <a class=\"ProveItLink\" href=\"__pv_it/exprrange_reductions/737b179e1dbaf3011f60aeff0c87733b17bbc5a60/proof.ipynb\" style=\"text-decoration: none\">&nbsp;&#x22A2;&nbsp;&nbsp;</a><a class=\"ProveItLink\" href=\"__pv_it/exprrange_reductions/3b23aaa9cdfc56ae89b0970d0c2214e46dcd3f350/expr.ipynb\"><img src=\"data:image/png;base64,iVBORw0KGgoAAAANSUhEUgAAASwAAAAVBAMAAAAOUc6XAAAAMFBMVEX///9UVFREREQiIiIQEBCY\n",
       "mJhmZmYyMjLu7u6qqqrMzMyIiIi6urp2dnbc3NwAAABm9RoHAAAAAXRSTlMAQObYZgAAAAlwSFlz\n",
       "AAAOxAAADsQBlSsOGwAAAwtJREFUSMellk1oE0EUx/9mk3TzsdsUUQ8Bm6MYqIGCaFEaxIOI2uCh\n",
       "gqdgafAirkLBm6tYPAhGqKAItYHeFDQeVKxUc+hND/XkoYqxgggFzUWqVomzM7O7s5udpmUfbIY3\n",
       "ee+/v503X2jCMh0hTCLR9DQbM93O+UDbF2Gw3tBfreHrZsqpW5uRStd5Kk1OLIbBSpXWwZomz6zJ\n",
       "x6JysdZF66mIdR2h7JIcSzWgbr/MsZah/e0i1WMKWOPhsEblWHFrJF9zrJ3A4S5SsbKAVQyHFTWl\n",
       "WFEIWCMm+rutgCMuVsIIh9VTkmLdEbG2Av3dJteEixW3ZvznpRXxb5/baUKAlpFinROxiA1L1+CT\n",
       "m0t50r5zsayvTZ/AHlOI8roBMkJAzLCx4oPUMg7WhBcruSbT0yJZVEmFT7lYCtlbrpUwBkza5aSu\n",
       "+rFPisbimSWK0tHa78VSMjK9t0oOP0iFb7tYUaJ4HjiI5MsCj6JuHPGCTIYG2GPQkmId82KdkY6+\n",
       "WW1ghsQ99mIdgkr2lISNQd3ehv5HJsPieUGLG8SKZeSzYgbYQZoFTxHVNcRaLhZzY6YUiweMP3wG\n",
       "nhU8t7xFnIYu3SAI008VmHKxInWov7HFuE9foFpvZS60AnX9A24HTC6UouQ9sZx0tPI2lkWWXETK\n",
       "DNCjXceR+KUBJ10sa4HnMVUuU6yqAdu1TjPLVVfB+x2PBnx7jl6TbzDBWHS9f2qynC+VyphPxvFI\n",
       "XVLGab6jMKwkgbky/yhbo1jKPtiuvou7e61Sl+2fQdMOyNK5oDSkWLPk6Ru5UKI5w+32KtOjMq4o\n",
       "6UqTumwjO8IB4fAZcpa6NUvuOspf8V10nShnZR1FJUlGQX4mKrWOnE49oUsvCFijHiznlqPvfnBW\n",
       "cN2tzwloYegeP+mDsdjRK+YE6Ald9Gi3sSJ8fejv/5HZX3eO4Ha7JbiO3XB2hgzmS9Bz69y3Bvw5\n",
       "AXpC17J431Jz4q3Od8nr/DifMPsoCdZVf06AntA1wFPnaLsS5gLximn77wZMWa9v6qLLyjb3H6XR\n",
       "C7iE4Wi8AAAAAElFTkSuQmCC\n",
       "\" style=\"display:inline;vertical-align:middle;\" /></a></span><br>"
      ],
      "text/plain": [
       "<IPython.core.display.HTML object>"
      ]
     },
     "metadata": {},
     "output_type": "display_data"
    }
   ],
   "source": [
    "typical = Len(a_1_to_n_partition.lhs).typical_eq()"
   ]
  },
  {
   "cell_type": "markdown",
   "metadata": {},
   "source": [
    "from proveit.logic import InSet\n",
    "from proveit import j\n",
    "from proveit.numbers import Natural\n",
    "InSet(j, Natural).prove()"
   ]
  },
  {
   "cell_type": "code",
   "execution_count": 37,
   "metadata": {},
   "outputs": [
    {
     "data": {
      "text/html": [
       "<span style=\"font-size:20px;\"><a class=\"ProveItLink\" href=\"__pv_it/exprrange_reductions/a66b1fb5d205d2e8007a39dfc31bf38e465e0de50/expr.ipynb\"><img src=\"data:image/png;base64,iVBORw0KGgoAAAANSUhEUgAAADMAAAATBAMAAADPIygvAAAAMFBMVEX///8AAAAAAAAAAAAAAAAA\n",
       "AAAAAAAAAAAAAAAAAAAAAAAAAAAAAAAAAAAAAAAAAAAv3aB7AAAAD3RSTlMAMrsQds2rme9mIlTd\n",
       "iUQmv6lAAAAACXBIWXMAAA7EAAAOxAGVKw4bAAAA5klEQVQoz2NgwAA2n1QNGG78eABiMyqjymnz\n",
       "JTAwfwAzWQJQpXIW3GRgaGDABrIVWBcwHEAWYdE5cxTMyJrCFYAixRdiAGVlsQn4QqRM3MACS2Ey\n",
       "DFkMCkwPwFIFHBNAVBQDQkqc+TBIimUB/waQQACSFOeGTSAXMjPsBxnF2HPmzJlDUCmGZDaI42tA\n",
       "BLMCki4GM2aIC8+CyQPIUowOYJVc/8ACLnApRSB2BEtxQoKLdQNMKhqI2cGuYoPYwpz0GCIj+gMo\n",
       "wAyW4nCABsclaEDBANuG+QYM2IH8htM4ZBjY3R/gkAEAR4oz5b1xIc8AAAAASUVORK5CYII=\n",
       "\" style=\"display:inline;vertical-align:middle;\" /></a>, <a class=\"ProveItLink\" href=\"__pv_it/exprrange_reductions/dd26acf72276bf4c265ac70a87f53421f94d1b770/expr.ipynb\"><img src=\"data:image/png;base64,iVBORw0KGgoAAAANSUhEUgAAAGYAAAAVBAMAAABGR4Y+AAAAMFBMVEX///8AAAAAAAAAAAAAAAAA\n",
       "AAAAAAAAAAAAAAAAAAAAAAAAAAAAAAAAAAAAAAAAAAAv3aB7AAAAD3RSTlMAInZUiRDNmWbv3US7\n",
       "qzJazP2FAAAACXBIWXMAAA7EAAAOxAGVKw4bAAABoUlEQVQ4y32TO0jDUBSG/+bRR0xCJhGXtoJO\n",
       "Ch3ESWhxF+LiUCqtSMHNIiKCS8HBTUUchApW3DJoEXERobppHYqCKIgUN6WDUApO4r03tY9LrhdC\n",
       "Ts7h4/znvycALAiOsAApJqqccd/q6X0WymEBGBcQdVvKcyk9dgWkCZwRMCNAlksZR0oeISCQF6rG\n",
       "Js9MYh4aKCY8Idt9jzoOU2MMRPopM/EP43c1XAz/9bHepARhVoC+sZmpG96joSqgVGnoa49lWDoq\n",
       "hFkkJf0Bae4yAtgHgkyR3+owZi6ZBI6BS62McK2XiaIByDuM6XhgYUO+BcgN2ekS4nTcWYeeE1q2\n",
       "5SZgftHwgybLLcawXxiDOPDEzx8okkFZn1R3H7XqaqPAt8oxWoJoK7Kom8G7DlDD9iA3FY4Jl4gH\n",
       "TJEUae8OGVqqA9PEzB9ImS2O2ab6EixcaN8XXedV4JPILkJ95rf7laoqsXCu4u6DuXRAjSL5mvcO\n",
       "7JJnsBWf3zk9mxzMeRGPQWI11kRLde2RMxsa0eori5iUV3J5ndok/Ll9EVElKsj/AqEFVLvOYDq/\n",
       "AAAAAElFTkSuQmCC\n",
       "\" style=\"display:inline;vertical-align:middle;\" /></a>, <a class=\"ProveItLink\" href=\"../packages/proveit/numbers/number_sets/natural_numbers/__pv_it/theorems/1a8a7907b709bbd24c48a9933f16dbe96429f5cc0/expr.ipynb\"><img src=\"data:image/png;base64,iVBORw0KGgoAAAANSUhEUgAAADUAAAAQBAMAAABEqSrGAAAAMFBMVEX///9mZmYQEBCYmJgyMjKq\n",
       "qqrMzMwiIiJERER2dnbc3Nzu7u5UVFSIiIi6uroAAAA6K1lcAAAAAXRSTlMAQObYZgAAAAlwSFlz\n",
       "AAAOxAAADsQBlSsOGwAAAOZJREFUGNNjYMAE23+0bGCY9OkBAzbQyneAgfsDVimG4wsmMzAoYJc7\n",
       "2sCygKEAVexGebkDiD5ly+WAJvfkNpRxiifhJkiO786uub1gES5vmKJTDA0cD4BynBxnGfYvAImw\n",
       "LEDIJXJXA+XesTcwrE8AyzEg5JgDIoDu3LD/AUP8BpBIUjkQNEDkGE7zgPwQz8BwBKx6B5I+hj3c\n",
       "IHcCJT5zg0TYkeXYLoBM0GRg/c0JEuG9AJNrA+JrQDmubwy8DmZgIVeYHIjBCAwFvgIG7sMBYKE9\n",
       "fWA3MaR8AurhdkANs5ft5cgiADLCQKtntbI7AAAAAElFTkSuQmCC\n",
       "\" style=\"display:inline;vertical-align:middle;\" /></a> <a class=\"ProveItLink\" href=\"__pv_it/exprrange_reductions/281afd514c4354b05903382a6c41ead16cd872780/proof.ipynb\" style=\"text-decoration: none\">&nbsp;&#x22A2;&nbsp;&nbsp;</a><a class=\"ProveItLink\" href=\"__pv_it/exprrange_reductions/4aa7bc9566d132736b16305a9f7da6dab0ffb9da0/expr.ipynb\"><img src=\"data:image/png;base64,iVBORw0KGgoAAAANSUhEUgAAAdIAAAAWBAMAAACGQAATAAAAMFBMVEX///9UVFREREQiIiIQEBCY\n",
       "mJhmZmYyMjLu7u6qqqrMzMyIiIi6urp2dnbc3NwAAABm9RoHAAAAAXRSTlMAQObYZgAAAAlwSFlz\n",
       "AAAOxAAADsQBlSsOGwAAA/FJREFUWMPNl01oE0EYhl+TZrv52W2KaA9FG4oHUdBAoUhRGkRBBDV4\n",
       "qODFUGlRRIyC4EFwBYtCwRQqKIJW0JOCxoMVlWoOntRDvSj4g6mCCAXNRVp/4+zszu7sZiYbcpDM\n",
       "IZtvv2/evE92/hZlmE1HazWJq2bM6qzrO3p90GKkz+mnVvLdbsZsomh3pZ2jsy1GGs/KSanZ64b9\n",
       "xEaPXQvQuseTnkWrtRNyUmJWXX7KJv0I7XeAVLvBkY60HOmQnJSafWKTrgS2BEhFchxppuVI2wwp\n",
       "aYYn3WWgpxygtc0ljeZbjrQ9KyO1zDLSpUBP0EQ97pIq5hyfezvPp31hbfMW6CseF8WLvCxRX1JL\n",
       "ykipWYeUtEHpqnv3/Nu15PrSJTX/wMROrDe4Km8okLEKYnb4tBxaJJfav1eakEpakyvPSJU+2pKM\n",
       "lD5tjjT2S6anhbpRIEN7j0sangDOZLEfGGPjmIbq+04prVWPsIWgboWSJtcBlmZC/kQDkrRFM7Jn\n",
       "aprlScNJmd6LcArfiL8LLmkbUTwCbELsUdquoqFiuRQ2WuA0pYIw25MV849mQv5Eo5Kxioy0reQl\n",
       "HZaOEaNQwhSpu+Ml3QyVbExRZoOGHSX9p0zGqneWyhQKzFaIPpO0ONGoZCLTIGkkKZ8OU0CXOYE8\n",
       "o1f9hUjFNWiFEUNqy64fP2iFhSL2kZvTE35SfyJQMjJya5r1F85T3+i9Al26yxDM7yow6ZKGilB/\n",
       "YEn+qvUDRMQOoaWhCoaFU5C7CFpQmEBXtKzQHcAhFSaCJMeeZtuI9UhK9kxDRUZqwsZmETfEesAO\n",
       "RBc1YLdLai7pazGZy1kGF8BC83hZyNu36IcT0QLVeGXdChWj/QrOaTmeVJjwSJpffJJf7qPDsPcS\n",
       "ISndf/ChbPX5NDq63yfjfCGjJ57fCxx2SWPE1umZ293XrGfaZ7BQX01GywZyqx/2RzjnKTB3ZbNA\n",
       "7X4z95DuAMO9q3p7s1RImPBIUjWfZDedV+GSjNQ0i85dR7O0z2C1umDpURmPxQQZPcvIWN/InQad\n",
       "zYGSRp117TO+ApdqhoZbgL/gCzrKnnkqSgRKbsco2aQ/yc+9A7V96lrU0xzpkIdUc2rW3DwA1L7R\n",
       "OQWImUukW3DDu/YKEoGSegUDl+1jvJh0qNZGPYtQshxpyF6+9Nd/yHwfd/aOarUCtfYwN+6+R5JJ\n",
       "wxXcdYBMIVEiUDKRxAwZ4yk5KTPr9qlrkbzYcaRqiq/y9ovXLmxFz0E87jtLhwQ9pQnxb9o0YlLH\n",
       "bLExvXV214f0Ot/cG8fJG573j2cZdhTyvZjIEtL22CLwn5abMRsvc12bbocO8JEyLTnSShP/s/0D\n",
       "8jJ9MbRJCzkAAAAASUVORK5CYII=\n",
       "\" style=\"display:inline;vertical-align:middle;\" /></a></span>"
      ],
      "text/plain": [
       "{j in Natural, (n - j) in Natural, n in Natural} |- |(a_{1}, a_{2}, ..., a_{j},a_{j + 1}, a_{j + 2}, ..., a_{n})| = |(1, 2, ..., n)|"
      ]
     },
     "metadata": {},
     "output_type": "display_data"
    }
   ],
   "source": [
    "Len(a_1_to_n_partition.rhs).deduce_equal(typical.rhs)"
   ]
  },
  {
   "cell_type": "code",
   "execution_count": 38,
   "metadata": {},
   "outputs": [
    {
     "data": {
      "text/html": [
       "<span style=\"font-size:20px;\"><a class=\"ProveItLink\" href=\"__pv_it/exprrange_reductions/a66b1fb5d205d2e8007a39dfc31bf38e465e0de50/expr.ipynb\"><img src=\"data:image/png;base64,iVBORw0KGgoAAAANSUhEUgAAADMAAAATBAMAAADPIygvAAAAMFBMVEX///8AAAAAAAAAAAAAAAAA\n",
       "AAAAAAAAAAAAAAAAAAAAAAAAAAAAAAAAAAAAAAAAAAAv3aB7AAAAD3RSTlMAMrsQds2rme9mIlTd\n",
       "iUQmv6lAAAAACXBIWXMAAA7EAAAOxAGVKw4bAAAA5klEQVQoz2NgwAA2n1QNGG78eABiMyqjymnz\n",
       "JTAwfwAzWQJQpXIW3GRgaGDABrIVWBcwHEAWYdE5cxTMyJrCFYAixRdiAGVlsQn4QqRM3MACS2Ey\n",
       "DFkMCkwPwFIFHBNAVBQDQkqc+TBIimUB/waQQACSFOeGTSAXMjPsBxnF2HPmzJlDUCmGZDaI42tA\n",
       "BLMCki4GM2aIC8+CyQPIUowOYJVc/8ACLnApRSB2BEtxQoKLdQNMKhqI2cGuYoPYwpz0GCIj+gMo\n",
       "wAyW4nCABsclaEDBANuG+QYM2IH8htM4ZBjY3R/gkAEAR4oz5b1xIc8AAAAASUVORK5CYII=\n",
       "\" style=\"display:inline;vertical-align:middle;\" /></a>, <a class=\"ProveItLink\" href=\"__pv_it/exprrange_reductions/dd26acf72276bf4c265ac70a87f53421f94d1b770/expr.ipynb\"><img src=\"data:image/png;base64,iVBORw0KGgoAAAANSUhEUgAAAGYAAAAVBAMAAABGR4Y+AAAAMFBMVEX///8AAAAAAAAAAAAAAAAA\n",
       "AAAAAAAAAAAAAAAAAAAAAAAAAAAAAAAAAAAAAAAAAAAv3aB7AAAAD3RSTlMAInZUiRDNmWbv3US7\n",
       "qzJazP2FAAAACXBIWXMAAA7EAAAOxAGVKw4bAAABoUlEQVQ4y32TO0jDUBSG/+bRR0xCJhGXtoJO\n",
       "Ch3ESWhxF+LiUCqtSMHNIiKCS8HBTUUchApW3DJoEXERobppHYqCKIgUN6WDUApO4r03tY9LrhdC\n",
       "Ts7h4/znvycALAiOsAApJqqccd/q6X0WymEBGBcQdVvKcyk9dgWkCZwRMCNAlksZR0oeISCQF6rG\n",
       "Js9MYh4aKCY8Idt9jzoOU2MMRPopM/EP43c1XAz/9bHepARhVoC+sZmpG96joSqgVGnoa49lWDoq\n",
       "hFkkJf0Bae4yAtgHgkyR3+owZi6ZBI6BS62McK2XiaIByDuM6XhgYUO+BcgN2ekS4nTcWYeeE1q2\n",
       "5SZgftHwgybLLcawXxiDOPDEzx8okkFZn1R3H7XqaqPAt8oxWoJoK7Kom8G7DlDD9iA3FY4Jl4gH\n",
       "TJEUae8OGVqqA9PEzB9ImS2O2ab6EixcaN8XXedV4JPILkJ95rf7laoqsXCu4u6DuXRAjSL5mvcO\n",
       "7JJnsBWf3zk9mxzMeRGPQWI11kRLde2RMxsa0eori5iUV3J5ndok/Ll9EVElKsj/AqEFVLvOYDq/\n",
       "AAAAAElFTkSuQmCC\n",
       "\" style=\"display:inline;vertical-align:middle;\" /></a> <a class=\"ProveItLink\" href=\"__pv_it/exprrange_reductions/59cf2d4b1aaec933fbe89a2ab0fae67e04be28210/proof.ipynb\" style=\"text-decoration: none\">&nbsp;&#x22A2;&nbsp;&nbsp;</a><a class=\"ProveItLink\" href=\"__pv_it/exprrange_reductions/d464d4934ad3855694e98e564831c042b87fac4c0/expr.ipynb\"><img src=\"data:image/png;base64,iVBORw0KGgoAAAANSUhEUgAAAS8AAAAuBAMAAACL24L6AAAAMFBMVEX////MzMxUVFRERES6uroi\n",
       "IiIQEBCYmJhmZmYyMjLu7u52dnaqqqqIiIjc3NwAAACW8nlqAAAAAXRSTlMAQObYZgAAAAlwSFlz\n",
       "AAAOxAAADsQBlSsOGwAAA65JREFUWMPtmU9IFFEcx3+ru67On00Iz0lRVlRKd2UP1U1YKCMi0EN/\n",
       "oBA3uhgEBhUZESx1ELw05NkcukdeCsqDSx3CQ7YgnTpoIISLae+9mXl/5s2fN5EvCH+wM/sbPu/3\n",
       "vr55M+99VwBoQIYogbaw57PQ+bo2YQvo0+X44zH5rDMF/6xLl1ED4/BzX9gKmOspfIejSVh7FR2+\n",
       "+r2dALiawhfvahLWBpywMQd6056F65qEveeFHQToTZtkU5qEPeaFoRiOfR4/vnzdj86vNAmbEoXl\n",
       "fsWBZutxmEP3+TaZmUMkundQ2CVRWCG2r1OFPlhF9/mdphG7LAq7Fws6c2VYRNy+fyKsmHBzFgGO\n",
       "oNMZTcLEW7kApdjXBVL10wB4q2mO9QfCsLacC7ZjRCwP+HADrKYJcEvTiJGn/00DjA10/jY5+QDm\n",
       "augbPpBLNCv9ALt203+/aIgu9Nk/9rQKQ2jIhre3N6BwET+deOW5EHzBl/IVMHrQTuScJmGF4E1v\n",
       "0Sfzg0yxS6WKJmF0UTbpJVemXHHR1xID/nmWznR5L8hdWtG2UZzxz7RvO2KXK/8dOx+lTJtluwG7\n",
       "sRv/TTT+XpNGZigByWZ4kz3yYFYoCclgePc6zCPThG7K0XpqV0UjHYZIfTt97cBIFsO7RD0yS4J4\n",
       "8aiJjtO8kZYhr/50+pBNZze84eUyHyQ2FjaeDHn1x9O7GP8Dw+s3CcKq88LanETIq9+W/isDQjIb\n",
       "Xt8jRwvrqCZCXv2O9EmGEGXDC8aXbuaRaSIKM7t5Iy1DpL6ZYBUGj37/VCeIsuGFdrjGPDJNRGHF\n",
       "Gm+kZYjUZ1DExu9k3dgiiLLhhWXYZMaKJqIwa4R3XzJE6jNI/h2ifBabC4woG15wrCazol6CXNz5\n",
       "K76LI8Jya7xflSFSn0HydDHWATdCiLrhhfYK55GDRByx/IhgpCWI1M/HjxhYa9BSI4i64YWCy3nk\n",
       "IAndyopgpCWI1LcS/AxStafqYETd8MJqmUBeE5RETf6+gI6ESH0OCs0V/AJzYdFxMaJseAEmvCte\n",
       "k4nwe8zcwvfODehIiNRnEClHeyFfVjthqdiJEWXDC3AACESa4ETos+XQRg8CywEdCZH6HIQ7YL3g\n",
       "4qfRqnuHIBkM76gPkSajIL078ZBQWgkKTXyHR5QN77Fi04dQE5KIiziJh7SAEhT6zVJEFA1vbrMw\n",
       "H0ADXhJhBftYASVIiFkRUTW8T+5TaMZL5GhtsAJKkBB1ESll/+9QbJPlrFA88hv5OmUzuckkfgAA\n",
       "AABJRU5ErkJggg==\n",
       "\" style=\"display:inline;vertical-align:middle;\" /></a></span>"
      ],
      "text/plain": [
       "{j in Natural, (n - j) in Natural} |- (1, 2, ..., n) =  \\\\ (1, 2, ..., j,(j + 1), (j + 2), ..., n)"
      ]
     },
     "metadata": {},
     "output_type": "display_data"
    }
   ],
   "source": [
    "typical.rhs.operands.entries[0].partition(j)"
   ]
  },
  {
   "cell_type": "code",
   "execution_count": 39,
   "metadata": {},
   "outputs": [
    {
     "data": {
      "text/html": [
       "<strong id=\"param_dep_operands\">param_dep_operands:</strong> <a class=\"ProveItLink\" href=\"__pv_it/exprrange_reductions/2da30b10a822dae938dd42dc5b33f457744730a50/expr.ipynb\"><img src=\"data:image/png;base64,iVBORw0KGgoAAAANSUhEUgAAASgAAAAWBAMAAACBLhxDAAAAMFBMVEX////MzMxUVFRERES6uroi\n",
       "IiIQEBCYmJhmZmYyMjLu7u52dnaqqqqIiIjc3NwAAACW8nlqAAAAAXRSTlMAQObYZgAAAAlwSFlz\n",
       "AAAOxAAADsQBlSsOGwAAAp1JREFUSMfNV01oE0EYfTFNsp0km3pob9XiTSSgFHoQqvXScwoKRT1U\n",
       "FAQPsuCpJwMiSquYg+DRoGBBkFRPihTioUIryCqIkaKEehFFieDF3/rNTzaTzcy26GUfZNn53sub\n",
       "l539ZjcAmogVXH7I1+MVqs+nwzPEDK8BVolbqP4qHC9uoTJlpBE7nMFK/ELdwDzvwj3vfK24vvR5\n",
       "k67don5TI7P0AcUCJpvJH1pPnsXBaqSD0g906RO9zW0jYJNKzOI4NeBpOCWwWVW74+Ei2ONd1mBS\n",
       "D0xpeiClMmKhAiMRZamkEk9xCnBaSC1i+JWqXQOOwZHzGiH1AYReMfRJvC2ZiShLTQrs5KHSe1Gb\n",
       "AJZV7STYNxQm3K82B6WHrpdI8kOuZCaiLDUp3R18+Wo+ziMIxX4j00KmaneQetaoa3rcuxIOFSYi\n",
       "LNWcl4YbEEHGaZI6dueaIhQtOvuFbZXnQLYkhiHwitQ7uQoYAn15RQ9lJLglg8lSShcmvTR/OzhH\n",
       "/Yekn5t2xJVi36k2juVyGRisymGtgtCJ1N/NlkVJ6ln1oR7KSHBLQfRaCunHNyjwHz2PQSoX76+/\n",
       "kMt3hIq31nYUB+DuV8MUBcQ01AmvKH2/h9RRtPW0t1wYHRsd9UQoI8EtBdFrKaVFup0IhzudLELl\n",
       "ggX7gC/6sA2tUqBLvdph/nTdUyZCWK7CbnkCl2lTc0v88aeFygab9r7tc9owgFYZok9nZ0jMdIUy\n",
       "ENJy0W7ptjD1BOIV4YAqfbq5RK0StP3GRksbBtAqL2khO0+b/Eh77kc/fSMhLJlvt+wbwRoFek+n\n",
       "t3VB6Cu9Dr7+3EReewvygvsZWyNsk/Cr5Pr/9ip2aEYfXh9qb9whWAkb8v/xn8FpdDXB1TmLzkpE\n",
       "4C+vh+94bngwlQAAAABJRU5ErkJggg==\n",
       "\" style=\"display:inline;vertical-align:middle;\" /></a><br>"
      ],
      "text/plain": [
       "<IPython.core.display.HTML object>"
      ]
     },
     "metadata": {},
     "output_type": "display_data"
    }
   ],
   "source": [
    "param_dep_operands = a_1_to_n_partition.rhs"
   ]
  },
  {
   "cell_type": "markdown",
   "metadata": {},
   "source": [
    "Now we will apply `param_dep_lambda_example` to $a_1, \\ldots, a_j, a_{j+1}, \\ldots, a_n$"
   ]
  },
  {
   "cell_type": "code",
   "execution_count": 40,
   "metadata": {},
   "outputs": [
    {
     "data": {
      "text/html": [
       "<a class=\"ProveItLink\" href=\"__pv_it/exprrange_reductions/525039d0f8f3ff0a64d8a1b8c3a53298fc4941930/expr.ipynb\"><img src=\"data:image/png;base64,iVBORw0KGgoAAAANSUhEUgAAAsgAAAAXBAMAAADkcqSWAAAAMFBMVEX////MzMxUVFRERES6uroi\n",
       "IiIQEBCYmJhmZmYyMjLu7u52dnaqqqqIiIjc3NwAAACW8nlqAAAAAXRSTlMAQObYZgAAAAlwSFlz\n",
       "AAAOxAAADsQBlSsOGwAABjRJREFUaN7dWW1oW1UYfvNxk/Qmua1IhyDaouicWhcJKAitEaT+EtJh\n",
       "pGhhkc0NFG3UP51/GpilmXMYVBD842UFh8pMLQj6Yyz+mFDKXOwfO7fVy0pBhLkOCtLYNd7zcXPP\n",
       "103vdUXEAydNzn3O+zzvcz7uvacAYIG6SO0G+EUGxFmqBusfkhmqBsMveKdToxTpusfVZ8WGy+AX\n",
       "qS6+mRDQvyyhRBsK2Zf9gnc6NUqxYNdeU9WxxP9OzYJR+bDHB9KjICa43dy+/4IXOPSCD7KfJdm4\n",
       "QugJ/sJvxx6VwLeUmrcevQr6A5+qTIZP+J+fA6xAct0HUl1sJrtc3L4/AirBJ481fZB1maJsXCFd\n",
       "5ZdxBs7mRPAtpeatJ4GG6lcl1QSd73QwpwEeATjUAfmMmoU2J7wnxYQE5MFO4HTTBXuWeFmUjau7\n",
       "fsmFsAWxogMGn9KCp4b1xMDT5BhpTdF9qwgwbsJeyxt5Xs1Cm2PeOvj+MQl8njU5tt3ke0WUjau7\n",
       "f5ALsSaEtxywX2nBU8N65r1N7iqxolL2krgPYG+PN7KzkvkOK6okAue9Te7abpv8WJSdqipMDuch\n",
       "fMMB+5UWPDWs57ho8tUz1+i3ZD8rKjGL/+x3N7WHlhs8srMSxKRf6e/AxAB5MGdyUhmCKXOibCz9\n",
       "9CJvsl20NQcsJuQWv6lFF786M6gWNkdGkjE5+jo8SX/Fq6woMqShm23ksBVpAofsrAQxJeBwByYG\n",
       "yIM5k+NVVQimHBFlY+nlWEk0ua/hgMWEmB3VZ2rJyADULKWwIzAmmPxZCaacIS+yojT8KKi1p5F+\n",
       "GBJ5HtlZCWJahk2RKST1H5PAnMmpoioEU34QZaOatrrrosn72mA2IX4/9Jva01oGrvcoXEQUB12T\n",
       "a2jQ3gd4EeAU+hqyV1OiUHj+5ULBtjaWQ5ijWM4GmmdroM3Cl3MPUuRUoXCoUNgnynCbEZOZajr9\n",
       "KRNoPWL/gxyYDYxNRmA5BC5YNvSJslHV4QJK0r1gf88QMM2cJAQwQoMFS82s5QgD46KzYFiTNfQ4\n",
       "cwD0dQhdQUMa5WYyNjlOJvIo+p0BO24Zj1jUz3BjJjL5UX/CRFdXUQQyYHEmE7AYIoEMwbJhWJRN\n",
       "5seUuCe/2QbjzElCpJRxDZTaBYA9vIvtbUjcLvSbELfHLoXUpvLSdrEAhrPv1BowCbCO1whFbr9d\n",
       "kLnCMhGKvGq7cMH8dpFXhYi4cc6ptgt3ajkm26+BfzhgNyFS0BwPmJrt8J+6QhiiGBRM3oRw9UcS\n",
       "Op5hRUXsP6FZSDvQWh32pKy3sRKK7KwEM13PCUyn3wOx/6AE5m98GVUIxuS3RNmogrEumHwnwC8O\n",
       "2E1IX6pTkwOm9iqkmklOWHz6riWiBz/CnHXfMAbhXLlM1NKHNioKPcusVirt/TzSSI2iNfqNiySU\n",
       "eLvEHzXuzoyZJkFgKs+L/TGQBzspJrdcsBCCMfm4KBs/hrnLhlwwRiuVvAN2E0rgh2rirDo1nJWU\n",
       "mnHDfm9/gxN2argUs7CeXvvznvEP2g/4Jy/dPdBD1Go5VlTIbtrfam20p9HA11d/Imc2DpJSjjof\n",
       "WpltRkxwL3MSgZh081upf68EphfC92/sboOFEIzJz4myUYVwhjdZa7VaVQfsJvRFsuyY7JEazkpK\n",
       "LZoHfXedE/b7Reg2sR5N9QZH1K7yy2tEuWBWTBfZeU1hpteU72erEpAHc4FXFSGOZh/LZktEtpGX\n",
       "ZKMaa0gvIy6Ye8VLZLMHso8HTk0uA/i2alOoT0iw2mn+gEh5MGOU0Z1w2s8pis30cFx+2t8CsT+S\n",
       "xIO5wNPKEO5Mpqc1rOwJCNcnTf6AyOtop9uiMzlYaqryElRChGLIy2Qjw7dFVEdDK7fdYUpIjzIU\n",
       "2tSkw+1QUWYa8gLTI0pFCMbkFVl2xOqrj6kXotSyy3m6CJSaUukajHxPKGZUl7/7qyGZqqv4xlst\n",
       "D/vlMgMn3pFPxfvl/jNeYPVYoxDYZCxbTBjJ1jOJpZxPdxYdk4OlpvqfSD9corPY8PoPzLLYcA38\n",
       "ItVFyYTOFZYVQP+yyNFEpG25pZDtJT1tqc/wMjuRmifFv10+2rVDIRI7o6frqaLzxvf/KSfe/S+E\n",
       "YG6ES+bOJ/k3sk5mapEz37AAAAAASUVORK5CYII=\n",
       "\" style=\"display:inline;vertical-align:middle;\" /></a>"
      ],
      "text/plain": [
       "(1 * a_{1}) +  (2 * a_{2}) +  ... +  (j * a_{j})+ ((j + 1) * a_{j + 1}) +  ((j + 2) * a_{j + 2}) +  ... +  (n * a_{n})"
      ]
     },
     "metadata": {},
     "output_type": "display_data"
    }
   ],
   "source": [
    "requirements = []\n",
    "param_dep_lambda_example.apply(*param_dep_operands.entries, requirements = requirements)"
   ]
  },
  {
   "cell_type": "markdown",
   "metadata": {},
   "source": [
    "The following requirements are needed for this lambda application.  First, the length of the operands must match the length of the parameter index range for a proper applications (as we saw in the previous chapter).  Second, the indices themselves must match in order to perform this parameter-dependent **ExprRange** expansion."
   ]
  },
  {
   "cell_type": "code",
   "execution_count": 41,
   "metadata": {},
   "outputs": [
    {
     "data": {
      "text/html": [
       "<a class=\"ProveItLink\" href=\"__pv_it/exprrange_reductions/0695d7a2cb10b7d61b8105573878605474e0b83c0/expr.ipynb\"><img src=\"data:image/png;base64,iVBORw0KGgoAAAANSUhEUgAABBoAAAAXBAMAAABXIzGhAAAAMFBMVEX///8AAAAAAAAAAAAAAAAA\n",
       "AAAAAAAAAAAAAAAAAAAAAAAAAAAAAAAAAAAAAAAAAAAv3aB7AAAAD3RSTlMAInZUiRDNmWbv3US7\n",
       "qzJazP2FAAAACXBIWXMAAA7EAAAOxAGVKw4bAAAIu0lEQVRo3u1ZfYhUVRQ/8/F2vnbHKfqAMBwt\n",
       "tT/ULFQoooaK+sOsl1AYrOxUCEpFQ5krJjUU5D+VU1RYSQ70IU1qg/RlQYyWgbbaamUWZVsEoVSu\n",
       "2UoiuN3ve+579z5nzD+W6Mhd5777O+ed87vn3nc/AKBA/lGJwdgSh1en4+yZDLBw5lQKHYM6gHTk\n",
       "Z0zSE58Jc9mTi8ZYNmxmf5PNwOPTcdZhSkpiyfF7GzuqLu05617YuWGNqBC6OhWnyuZOQR1AOvMz\n",
       "V+QFZgmCE6Uxlg3xqjsbqLP512Vi99871JGpQ36gedcQlLuc2tMOQBeURWUW1j9/2e6It/7maxVV\n",
       "kUK9j6MEtIFYYPFqm0yZgv08NUFwCS9eWRB8O4w1WeTOBuLswmUj4sl4SJ7owJT3zf2BnklVCKHX\n",
       "OZX7CVFJMdQIXVo/1oJbmu6XTlEquiKFe79I1a0gHtiiNpkyxPCzDYK6fFZSVUHw8jGXDavc2UCd\n",
       "jcts2APwYkemLg1kQ08Ber2WU3kPeK1emThVpE/0MrVThpHCIzcnK8z7VXYQfIADW9UmU+GXSj/b\n",
       "IChdYSUjCa6NuWzI+M5sqOFsWOfDj4VOTEmW4jsbb7CBBPBIT3gundZosBFLhszQAWkI62dGoOfI\n",
       "qcMwlihFnA0Z3wqCy3FgGb89psIvlX62QRA8z8ocQXCiPOayoavqygbmrMqG7wB+HOrElGApd5ci\n",
       "MT/4a0jnvcnq5+/5ilxRYpZ76tBz8pRhzHFnQ1fVCpLZwAPrqrbHVPil0s82CILFrCwVBKfoIvLC\n",
       "a8/GiEA1LCYg9tXEon3/4mqINpkcdGUDc1ZlA5G3ncvtr8+ZVgyaEiydp0dUt7/dVCBOo4/x9m4J\n",
       "XRr40mSHXW/2Jg1qFVUxsyE5CGAByWzggWlQdHiGBP10EpSbfuu128j/81hZLAim6ZV7Br5Ac06g\n",
       "arFkArYUukesOGdDtMl0WXZhqsFkEJCzOBvyf7rslXYVvSPYFGLpTrQCTxdNBfIOPbcmSo/hIYRZ\n",
       "PuxM8xSs0SqqYmZDuoztKpDOBhpYOmLWxuEZLAX8dBOU7N4LfSTUJ4CWVwXBWbJovqMKKxAwUA2L\n",
       "AOTFYFgDqTr5PzQnORvcJjlzNdfcQJ3F2ZB1DZ9ccwPETgZNCZYQy2p/KRVINqCJWENfDWTDRmck\n",
       "E+GoVlEVMxsSNWxXgXQ20MAS7hWdEZ4hAT+dBMFH2RZMID1zBdDysiA4Q6h6FOA1gAUydFb1rv/B\n",
       "OT9wPGR5N6eGIUtn8E2yWRoKNrRhkif0sCsbqLM4G1Y6p2vvBCRGgqY4S/mXyEDaII5q5tLFIlIA\n",
       "OEjHGd9oXEQ0Pa76sslyyr0T8RMjWoVXyOB98yUxeJn3efWd0SBY0Wi82GhsVIHlnR8jMzxDAn6u\n",
       "dLvZ14RrCO4wneiMbFgLxHp+Ul0AWTXFx7VVGEAvY1vQ11TTJGhDwYZ2TeZqbWZD2v1lTQxDTzlo\n",
       "irOE9pS9sRbbh2kF8kxz3hrPdpMWlp+K2lnWUcfIijk35GpG7ylaLseB5SJ2ezi8iGyIIAiuAdhH\n",
       "v+asoC+F9yekSZIlhE+8Oq4Zcy2bBV5KXxFWq1UZc7Vub2jXJNO3rhsCX4pZEHNtoAhX46o+MoVY\n",
       "0il5gPS1N4wVyDu0jSGSKH22GThRgrOcNGdLSEVWAl+KujGzS5DKBhZYou7uShyewZLpZwRBNBX+\n",
       "JhPflUDLNkFwdxG8o8T6Zcw0nRd5Ne2TrvMsM4wEwPwHOb5vJuxLFLypM3E22BocJtE7l/88leJa\n",
       "rrmhuyj4ZFbyJYj7dhchUyLzYEmZ8nA2TFKfpMr7bLuIFIh5tT78NVehuzSmu03qMxO/AEwG3xoJ\n",
       "wIQmUpnQtK4iWxJtgGQ2sMAQKDo8Qww/XQSxR8+Rb00S4EmgZZ4gmG5StsGVlQrrxL4yyCok66zq\n",
       "HQPxXNU4oDKHP+ouJtaTjwA7C1DZYG0ImdS2mckFW6qZgthHWrOBbxiPCJ0L+vtXaDOmUbJAmpIe\n",
       "UqYYHm7hA6VrptpfLoLYJy2sQORutb/s8mH8VVx3ntBn2Nj6/v66hRf+ltWAVFYHzxuo99ytMEhm\n",
       "AwsMgcKc4fAMMfxUBFk6kgzMePlpviVdCocEwXnSdQsv/mnvEOvELL0R4lV698Gq6+lcVpF/Gr4A\n",
       "eP6NHO/tvfnCGXBbsoKzwdoQNsl+qHeeOwXGEfPZpisbqLM93x7bz3XeHh09pu1po9TFD4nJx7Up\n",
       "hvph3X3stMb7/l2xA/5s7cC6tSWsQF35XBxSrV0ysOP4p1z3kNSn2Ozo6GiZ/6qEIoHvQavQipEN\n",
       "zHvuVhgks4EFhkD6BbbwDDH81ASZFuijXB28/WRYvAW00A0BO+zdZHyuZ+ujo+1GVaF84xhrNj4X\n",
       "WzmwY2CgGjSkGxwm9ZO9bFFzgfueYlNYJ9JFZcpA5W7iJ9MWBSrv7GyUg/5lh0LYhG+P5Fms8mxw\n",
       "btBuhUHo9MkARYdnLlrCfoYt4F6us0KvK+YaNx+sE/XUcz5dKJXCpxb65xEDP65grCJtDQ6T+skr\n",
       "0J8X92j2bFgV1ol0UZkqRR12JKPPQkridieATVqRX6ZHtAqvGLdW2q0wSN5aBUHR4YVuoQKoEkQw\n",
       "Tm+5aNkqCO4uoGzwVArHdv/xEKoqma8PAmsYDweNPYWtwWESvXMYNl1N74ud2SCd1TqRLipTXuQJ\n",
       "+fzIZOC6W0PY+TZk/ijd9wgVXrGc2LeQ3XZAkeGZEvLTYgE9Gi9KryBYbr9jN/xVhLg+RRgdHUZV\n",
       "JdpQnCzpEGC66nTTkG5wmNRPcoNwcVX0uD0bpLNxi7bFRWUqHtnf0ZcpXLc3hC1akQ88jFRYJSzc\n",
       "rQ5AkeGZEvIzDhGMs+ShJVaEGezB2f/mqtG8DBOLRWivwXm0yzwOnmefjrMOU6cjseKZU5nYKagD\n",
       "SGd+xgu8/Gu556CRGh/X5JFjIGdcDf/Lf0keeMg4jp3quIJwNvwvY0f+AYxTBA+g7g+MAAAAAElF\n",
       "TkSuQmCC\n",
       "\" style=\"display:inline;vertical-align:middle;\" /></a>"
      ],
      "text/plain": [
       "(|(a_{1}, a_{2}, ..., a_{j},a_{j + 1}, a_{j + 2}, ..., a_{n})| = |(1, 2, ..., n)|, 1 in Integer, n in Integer, (1, 2, ..., j,(j + 1), (j + 2), ..., n) = (1, 2, ..., n))"
      ]
     },
     "metadata": {},
     "output_type": "display_data"
    }
   ],
   "source": [
    "requirements"
   ]
  },
  {
   "cell_type": "markdown",
   "metadata": {},
   "source": [
    "### Parameter independent expansions\n",
    "\n",
    "When the **ExprRange** parameter only appears as indices of variables that are being expanded, the **ExprRange** expansion reduction is more permissive.  Indices do not need to match.  Consider the following `dot_prod_lambda` example."
   ]
  },
  {
   "cell_type": "code",
   "execution_count": 42,
   "metadata": {},
   "outputs": [
    {
     "data": {
      "text/html": [
       "<strong id=\"dot_prod_lambda\">dot_prod_lambda:</strong> <a class=\"ProveItLink\" href=\"__pv_it/exprrange_reductions/b6b9df09a86ee336c16dc04a696db298736aaaf60/expr.ipynb\"><img src=\"data:image/png;base64,iVBORw0KGgoAAAANSUhEUgAAAnIAAAAVCAMAAAD1nvNsAAAANlBMVEX///8AAAAAAAAAAAAAAAAA\n",
       "AAAAAAAAAAAAAAAAAAAAAAAAAAAAAAAAAAAAAAAAAAAAAAAAAABHL6OuAAAAEXRSTlMAInZUiRDN\n",
       "mWbv3US7qzLz6SJmQj4AAAAJcEhZcwAADsQAAA7EAZUrDhsAAASwSURBVGje5VrbEqsqDBUQQVHP\n",
       "8f9/dqMtmkBC46V7Zk95aFqTZiWLcBFtmthU86NNXTFW38ZTfymhv+e3oE6bXy25oOW2iaU7bInw\n",
       "vg5wvt2tkBRWkqZtfrZpL7VMLN1jS4D3dYDz7X6FpLBe0nbND7fOyuwSS3fZ+oj3dYDz7YkKSWFt\n",
       "0vlfLjnvZHaJpbts5XjBM0CPJRTOOnw8JBjWJvvmp1tPzwo62zD3mXwKz+Sbr6cBSoSPy+jjIcGw\n",
       "ojTdb5dctw9h1FUGTxaJpftsdb7av48D3C+5ZyokhRWle28NrdaTnduWvjepa2U7gg8urN4mcDud\n",
       "VsrQGQftfmVA1/GvxJKMrRpiO1X793GA+yV3IiQBz1Gm6oujWk+6cQO9lalqZbuhDy7axqwzuF9O\n",
       "KyWNdeA7usjMyIxRKR8Mou+q/fs4wP2SOxGSgOcoh1fRerXa2WYit4p1rWz/+MHFbF7JTONZpaTx\n",
       "DkxPl1yjR7DSvlmSsVVFNH21fx8HuF9y8pAkPEfZh5ftWsZpfNh8pECtbdtpOn8njgCoGTnuLNdc\n",
       "148CHyivwUPvWVz7ePzv/wG1ZQnH5jcgybNll66ez47nNpC+38SUAfGEUwDI4kiIRqgtRNKQCnqp\n",
       "rGmeo+wBr2+7WWti8kxat8V27a6lOuBCHEIxopnE35VX4XcH+XVulgtdaLiSq7A1uHo+oT7LEQBZ\n",
       "xgQAsghPz3JESEUjgmJ4jnIwh3GcOu02WMxAdNlbu459VboU9foOQI6xdaTonsbflVfhgXdM8ECX\n",
       "3IzOVLOF9SNbfD6ZMbOKiQinOcmjeWph/dyBIp6jHDcAO4Zm6rftH9S/vSOttyk/0fJGunA+jnyX\n",
       "nU2MU/rI8aHyGjx0AMHjz5EuuQ4dzI0aSoatrBH5IDyyfwmAI2MOAFn48eGSo0LCHNJB0TxH+bp5\n",
       "NctsXXQYDCQxLdGZNsIOcAEHSzn7BbqwPvRxD9orZNm4aR1HnsDHyhy+/EJdSg4QODgCiNrKuRy4\n",
       "xWfZKsZ7kQ/GI/uXBHhnXAEAFhlAhlDlSBpSziEVFMdzlPMWqnVaR5q9wbPgMFhCG/9jgRYu5cSX\n",
       "0oWyek1ysQ3yYqdWu0UR+FhZwJegBfzhAINHg0Df7ONZZR6gZNjKJ9gynxIv718SIGXMAwCLPKEM\n",
       "geLInQwp55AKiuN5lQMxZe8UGcqrSscHRrK2UUaTBttcaNB2Ffy38jr8ywECV8I7kcRSlS2icrN8\n",
       "Crxi2aMA1Gg/ABwWRUL3H3gRISEOmaBInjdJPdjeKaLeWlHxD0pxWuJwkLh1jUk418zQYI3T9obG\n",
       "B8pr8MABApc+skaPpUUlR+ZT4BXP0AmAI2MOAFgUCd1/rE+EhDhkgiJ5fslRsSRaTQ25eZ6dZbTE\n",
       "ExDCxbKNHTNDgyHKqWXwD+VFeOAAgivx2XJiqcJWNjcQ+UjwCoAjYw4AWKirh+XnQoIcckFRPL+l\n",
       "zaNUbbe0W1dRndova+O0RaOMwroh1a1HBsZrFzj8Q3kR/nCAwEfxG9aJpQpbWSES+UjwCoAjYw4A\n",
       "WIzfeBW9CAlxyARF8pyk+s7by/9A0yc6KLF0hy0R3tcBzre7FZLC2uQfI803GYuu7T4AAAAASUVO\n",
       "RK5CYII=\n",
       "\" style=\"display:inline;vertical-align:middle;\" /></a><br>"
      ],
      "text/plain": [
       "<IPython.core.display.HTML object>"
      ]
     },
     "metadata": {},
     "output_type": "display_data"
    }
   ],
   "source": [
    "from proveit.core_expr_types import (\n",
    "    a_1_to_j, b_1_to_k, c_1_to_j, d_1_to_k, x_1_to_n, y_1_to_n)\n",
    "dot_prod_lambda = \\\n",
    "    Lambda((x_1_to_n, y_1_to_n), \n",
    "           Add(ExprRange(a, Mult(IndexedVar(x, a),\n",
    "                                 IndexedVar(y, a)), one, n)))"
   ]
  },
  {
   "cell_type": "markdown",
   "metadata": {},
   "source": [
    "We map expand the $x_k$ variables and $y_k$ variables in any manner, with respecting the original indices, as long as the expansions of these two match.  We will demonstrate this by applying `dot_prod_lambda` such that the $x$ operands will be $(a_1, \\dots, a_j, b_1, \\ldots, b_k)$ and the $y$ operands will be $(c_1, \\ldots, c_j, 1 \\cdot d_1, \\ldots, k \\cdot d_k)$.  These don't respect the original indices since they go up to $j$ and then restart at $1$, but the do match each other, both going $1$ to $j$ then $1$ to $k$.  First, we will make some assumptions and prove a few things so we can meet the requirements."
   ]
  },
  {
   "cell_type": "code",
   "execution_count": 43,
   "metadata": {},
   "outputs": [
    {
     "data": {
      "text/html": [
       "<strong id=\"jpk_eq_n\">jpk_eq_n:</strong> <a class=\"ProveItLink\" href=\"__pv_it/exprrange_reductions/34ff063bd5a981f25a87b1aac0b6aea83823bf0e0/expr.ipynb\"><img src=\"data:image/png;base64,iVBORw0KGgoAAAANSUhEUgAAAGUAAAAVBAMAAACtcD09AAAAMFBMVEX////MzMxUVFRERES6uroi\n",
       "IiIQEBCYmJhmZmYyMjLu7u52dnaqqqqIiIjc3NwAAACW8nlqAAAAAXRSTlMAQObYZgAAAAlwSFlz\n",
       "AAAOxAAADsQBlSsOGwAAAW5JREFUOMtjYGB4wIAD4JRg4D2AS8YXp57TIEJ4AYoYl1kAyLQCHFq4\n",
       "JoDIm2iinA0gchYOPRwohrlDaX6wgytw6GFD4Z2F0v5gt7ItwK7nJFY92yAuxOGhbpCf7iqg6ZnE\n",
       "cLqLgYFbAT0ktV5fvsDAMB3kJ4Z0VD1c33nOAYXYweHTGgoCQSDmBqMLXP8YGGKAzHsMf1D18Pzz\n",
       "YZwHpBJQrWFxCGbg+8jAkAJkL+D5BTUwDWIgR7oASIDxA1q8cH1hAClNAQd4AKo9rDMaweai2cPA\n",
       "84GBaQLEbQysG1D1rD/gD7KIJwDNP0AN/AULGGxB7PcOqHrqF6w/AAwfdgP0yNzAcH7BBoZNYDVo\n",
       "8aPJsF4AaDXHBjQ97wUYbrILMIiC2MpoemwYeHuBaYDVAU2PKwPDohqgOMjhuejpAAKe4khv7A0M\n",
       "Ouy/0NMoBLTjyj92jH9YsWc7PgNcehYz9LZgl2HGmbn5LuCSuYdDHADPnFq6vypuKwAAAABJRU5E\n",
       "rkJggg==\n",
       "\" style=\"display:inline;vertical-align:middle;\" /></a><br>"
      ],
      "text/plain": [
       "<IPython.core.display.HTML object>"
      ]
     },
     "metadata": {},
     "output_type": "display_data"
    }
   ],
   "source": [
    "jpk_eq_n = Equals(Add(j, k), n)"
   ]
  },
  {
   "cell_type": "code",
   "execution_count": 44,
   "metadata": {},
   "outputs": [
    {
     "data": {
      "text/html": [
       "<strong id=\"defaults.assumptions\">defaults.assumptions:</strong> <a class=\"ProveItLink\" href=\"__pv_it/exprrange_reductions/7d4896d09909307caef340d73bb316cd17cdfc940/expr.ipynb\"><img src=\"data:image/png;base64,iVBORw0KGgoAAAANSUhEUgAAAOsAAAAVBAMAAABVvASPAAAAMFBMVEX///8AAAAAAAAAAAAAAAAA\n",
       "AAAAAAAAAAAAAAAAAAAAAAAAAAAAAAAAAAAAAAAAAAAv3aB7AAAAD3RSTlMAInZUiRDNmWbv3US7\n",
       "qzJazP2FAAAACXBIWXMAAA7EAAAOxAGVKw4bAAADb0lEQVRIx6VWXUgUURQ+O7uz/7POQ0g/D45S\n",
       "+mIxlfkkuG8lFAw+9CDKroXYS7RI/0Es+dBbSk9mQRumD4vR0h8RhGNSoFasiEEhsfRgFEIri5EY\n",
       "0j1n7uzujDtCeGHn3vOd+ea7554zZxYAZNjekP/XQbigbsLFx+97wHP/rgOt4+87DdrWMoZVgc/H\n",
       "k63wJrwsaxZHWH0NEON7mE7ZeVOhLIh5bhA/8tZ6R+cwbihZWRZxMY6reqtDeuBJQoAb3oSd90U+\n",
       "BjDId0V8IW67pRcvPQ7hMtxXaUtSC3RDkBtVm05xXvfKwM/Ayn9pLgp4uekgy/CAJfyZ9BjJ7lSq\n",
       "i7ITxQQ0ptMU1dwNV9yUtfDhEJ9Dq+TTKssyvLnMDJ3i90nyVyFqyraZ7hf7+GJOyu01ZZsrynoo\n",
       "BV6H5DL8POanLktmtbk7SQ7DrCl7Fpou4OwqpmoO9HCGyyIf2vfbZL1Z91ENPFl7DS/saFQA8TOY\n",
       "HxgitLuYWzmS6OjgNfPHfZDcXrkk+10c5bLIh0QgaZWNJQ/vSoKfUnI1jeMRLqMfFHEFEB9hVq1R\n",
       "ARAvyUK/e9pYu1eeRmg/XijJ+tUWXsnIF2Sz7EzZ1j3qkgzuQWuwocw4uDYAcewJmpsqIDLMdjXO\n",
       "ZSXtMy/VoZyx+IGb1g1ZWJD4I5EvQqtmhHWHh3XlFj0wb2tD4jqgFMOpFfnoxES9LFoxyw852Hud\n",
       "t4CyaKFLTJVkmaItt2OXcK8hW7TgzoMUJ3yEHh0lNFUmC9/CPE3qhBFusFw2ouilQwZ4aJUVC6EN\n",
       "VEnZcss0q5Ia4m/QrDH6a12xOTIhYZmdPlsPaDFVoZdaMd0f2e+Azs6WDeK71q2y/lWxILBJt7+w\n",
       "UZaOKOIn0BzgZW/2I1pcBPE3mz5BLGccxmmTjQtfHGJYgsT3562yUlzc8LB7ojbZmhzU+3OI/0Rz\n",
       "kZ/N4nOaI+fusetJgDQLdwqEPuN97po15qU1nXpxcJQZxJd0q2xYhQbWW4IZm+wr9pB+woOYuNtm\n",
       "hR83mmOxBKzd7dlM2tLyj2DGkR9QbCVljN0OPZnh/gTM+1cd/J6tP/B4howvqQOa/VNA47IDD/HJ\n",
       "SCHo9KVu31JVpBgn4Zc6UtHv0sEZ74S+a04PVraUFfjr7GvIVPSHHf7VEO5StvdXyplf64z/A5Cl\n",
       "2WRfXajqAAAAAElFTkSuQmCC\n",
       "\" style=\"display:inline;vertical-align:middle;\" /></a><br>"
      ],
      "text/plain": [
       "<IPython.core.display.HTML object>"
      ]
     },
     "metadata": {},
     "output_type": "display_data"
    }
   ],
   "source": [
    "param_indep_assumptions = [InSet(j, Natural), InSet(k, Natural), jpk_eq_n]\n",
    "defaults.assumptions = param_indep_assumptions"
   ]
  },
  {
   "cell_type": "code",
   "execution_count": 45,
   "metadata": {},
   "outputs": [
    {
     "data": {
      "text/html": [
       "<strong id=\"jpk_in_nats\">jpk_in_nats:</strong> <span style=\"font-size:20px;\"><a class=\"ProveItLink\" href=\"__pv_it/exprrange_reductions/a66b1fb5d205d2e8007a39dfc31bf38e465e0de50/expr.ipynb\"><img src=\"data:image/png;base64,iVBORw0KGgoAAAANSUhEUgAAADMAAAATBAMAAADPIygvAAAAMFBMVEX///8AAAAAAAAAAAAAAAAA\n",
       "AAAAAAAAAAAAAAAAAAAAAAAAAAAAAAAAAAAAAAAAAAAv3aB7AAAAD3RSTlMAMrsQds2rme9mIlTd\n",
       "iUQmv6lAAAAACXBIWXMAAA7EAAAOxAGVKw4bAAAA5klEQVQoz2NgwAA2n1QNGG78eABiMyqjymnz\n",
       "JTAwfwAzWQJQpXIW3GRgaGDABrIVWBcwHEAWYdE5cxTMyJrCFYAixRdiAGVlsQn4QqRM3MACS2Ey\n",
       "DFkMCkwPwFIFHBNAVBQDQkqc+TBIimUB/waQQACSFOeGTSAXMjPsBxnF2HPmzJlDUCmGZDaI42tA\n",
       "BLMCki4GM2aIC8+CyQPIUowOYJVc/8ACLnApRSB2BEtxQoKLdQNMKhqI2cGuYoPYwpz0GCIj+gMo\n",
       "wAyW4nCABsclaEDBANuG+QYM2IH8htM4ZBjY3R/gkAEAR4oz5b1xIc8AAAAASUVORK5CYII=\n",
       "\" style=\"display:inline;vertical-align:middle;\" /></a>, <a class=\"ProveItLink\" href=\"../packages/proveit/numbers/addition/__pv_it/theorems/bdb040860ba8b035aec6ab4a51daa2ad1ea247650/expr.ipynb\"><img src=\"data:image/png;base64,iVBORw0KGgoAAAANSUhEUgAAADMAAAAQBAMAAABJt1qBAAAAMFBMVEX///+IiIjMzMzc3NyYmJhU\n",
       "VFR2dna6urqqqqpmZmYyMjIiIiIQEBBERETu7u4AAAAsfX+gAAAAAXRSTlMAQObYZgAAAAlwSFlz\n",
       "AAAOxAAADsQBlSsOGwAAAO1JREFUGNNjYMAAr//eesCQ86eAge/OBnS5G+wBDHwfgAyuCehS0QYp\n",
       "DAwHgAz+BnSpiAtcBgwgs+ofQEUYb+/eBWYEOzIvAEvlQGXYF8LUBLMqiIGlljK0zQMJWMFkGIIZ\n",
       "LvAWAKX4vnA0HwEJLGZASGny7QNKcXyuYAKLLkCSYmnoBbqQ84gCmM90evfu3XuhUgxxrEAp7pWT\n",
       "wHy+C0i6GJ7yAQ1831AP0bYBWYpJAKjS/8H7BgGQgCBc6hIQCwGlohjeKySABLjgobICiDmBrrrB\n",
       "wDgR7CO+2DqIjNYfoA6+BchBx54LDSgoAAA3UkPypE46XAAAAABJRU5ErkJggg==\n",
       "\" style=\"display:inline;vertical-align:middle;\" /></a> <a class=\"ProveItLink\" href=\"__pv_it/exprrange_reductions/b1019f884c0d1ee300711e325918bdf5c75e3df30/proof.ipynb\" style=\"text-decoration: none\">&nbsp;&#x22A2;&nbsp;&nbsp;</a><a class=\"ProveItLink\" href=\"__pv_it/exprrange_reductions/136551346418bc6bfd1c1d7c960b6a1f40a70e550/expr.ipynb\"><img src=\"data:image/png;base64,iVBORw0KGgoAAAANSUhEUgAAAGUAAAAVBAMAAACtcD09AAAAMFBMVEX////MzMxUVFRERES6uroi\n",
       "IiIQEBCYmJhmZmYyMjLu7u52dnaqqqqIiIjc3NwAAACW8nlqAAAAAXRSTlMAQObYZgAAAAlwSFlz\n",
       "AAAOxAAADsQBlSsOGwAAAbRJREFUOMtjYGB4wIAD4JRg4D2AS8YXjb/0s+UChm3fHBgYToO4wgtQ\n",
       "ZLnMAkCmFaBpsmFRYOD6AJSeAOLdRJPlbACRs9BEVR9sZ2BIYGDgQDHMHUrzgx1cgaZHx4DzAQPQ\n",
       "BWwoomehtD/YrWxQF18ODQW7Rq+WbwJIz0mserZBXAhxg+ctqKgek8BtkJ5ukJfvKqDpmcRwuouB\n",
       "gRsszAf3lh6DAbMDUM90IJuDIR1VD9d3nnNAIXawizgfIPRIcEUB9cQA2fcY/qDq4fnnwzgPSCWA\n",
       "9TAg9LAfOAwUSwGyF/D8Agm1hoamhYYGgSxOFwAJMH4AkWKhQGAA0cOgxQTVw8ARgGoP64xGEMUC\n",
       "tmcxkj0Mi7igbmNg3YCqZ/0Bf5BFPGCjWJH1MF4A2mgL4rx3QNVTv2D9gQvAMAC7iPcCTI8hEF8E\n",
       "im0Cq0GLH02G9QJAqzkg1s+ByYIYHMCwFAVxlNH02DDw9gLTACvE+kUmkPQg+c0Akj5ZQQ7PRU8H\n",
       "EPAUSnubQtIODLA3MOiw/0JPoxDQjitn2TH+YcWe7fgMcOlZzNDbgl2GGWfm5ruAS+YeDnEAO/Fm\n",
       "EpsslRgAAAAASUVORK5CYII=\n",
       "\" style=\"display:inline;vertical-align:middle;\" /></a></span><br>"
      ],
      "text/plain": [
       "<IPython.core.display.HTML object>"
      ]
     },
     "metadata": {},
     "output_type": "display_data"
    }
   ],
   "source": [
    "jpk_in_nats = InSet(Add(j, k), Natural).prove()"
   ]
  },
  {
   "cell_type": "code",
   "execution_count": 46,
   "metadata": {},
   "outputs": [
    {
     "data": {
      "text/html": [
       "<span style=\"font-size:20px;\"><a class=\"ProveItLink\" href=\"__pv_it/exprrange_reductions/a66b1fb5d205d2e8007a39dfc31bf38e465e0de50/expr.ipynb\"><img src=\"data:image/png;base64,iVBORw0KGgoAAAANSUhEUgAAADMAAAATBAMAAADPIygvAAAAMFBMVEX///8AAAAAAAAAAAAAAAAA\n",
       "AAAAAAAAAAAAAAAAAAAAAAAAAAAAAAAAAAAAAAAAAAAv3aB7AAAAD3RSTlMAMrsQds2rme9mIlTd\n",
       "iUQmv6lAAAAACXBIWXMAAA7EAAAOxAGVKw4bAAAA5klEQVQoz2NgwAA2n1QNGG78eABiMyqjymnz\n",
       "JTAwfwAzWQJQpXIW3GRgaGDABrIVWBcwHEAWYdE5cxTMyJrCFYAixRdiAGVlsQn4QqRM3MACS2Ey\n",
       "DFkMCkwPwFIFHBNAVBQDQkqc+TBIimUB/waQQACSFOeGTSAXMjPsBxnF2HPmzJlDUCmGZDaI42tA\n",
       "BLMCki4GM2aIC8+CyQPIUowOYJVc/8ACLnApRSB2BEtxQoKLdQNMKhqI2cGuYoPYwpz0GCIj+gMo\n",
       "wAyW4nCABsclaEDBANuG+QYM2IH8htM4ZBjY3R/gkAEAR4oz5b1xIc8AAAAASUVORK5CYII=\n",
       "\" style=\"display:inline;vertical-align:middle;\" /></a>, <a class=\"ProveItLink\" href=\"../packages/proveit/numbers/addition/__pv_it/theorems/bdb040860ba8b035aec6ab4a51daa2ad1ea247650/expr.ipynb\"><img src=\"data:image/png;base64,iVBORw0KGgoAAAANSUhEUgAAADMAAAAQBAMAAABJt1qBAAAAMFBMVEX///+IiIjMzMzc3NyYmJhU\n",
       "VFR2dna6urqqqqpmZmYyMjIiIiIQEBBERETu7u4AAAAsfX+gAAAAAXRSTlMAQObYZgAAAAlwSFlz\n",
       "AAAOxAAADsQBlSsOGwAAAO1JREFUGNNjYMAAr//eesCQ86eAge/OBnS5G+wBDHwfgAyuCehS0QYp\n",
       "DAwHgAz+BnSpiAtcBgwgs+ofQEUYb+/eBWYEOzIvAEvlQGXYF8LUBLMqiIGlljK0zQMJWMFkGIIZ\n",
       "LvAWAKX4vnA0HwEJLGZASGny7QNKcXyuYAKLLkCSYmnoBbqQ84gCmM90evfu3XuhUgxxrEAp7pWT\n",
       "wHy+C0i6GJ7yAQ1831AP0bYBWYpJAKjS/8H7BgGQgCBc6hIQCwGlohjeKySABLjgobICiDmBrrrB\n",
       "wDgR7CO+2DqIjNYfoA6+BchBx54LDSgoAAA3UkPypE46XAAAAABJRU5ErkJggg==\n",
       "\" style=\"display:inline;vertical-align:middle;\" /></a>, <a class=\"ProveItLink\" href=\"__pv_it/exprrange_reductions/34ff063bd5a981f25a87b1aac0b6aea83823bf0e0/expr.ipynb\"><img src=\"data:image/png;base64,iVBORw0KGgoAAAANSUhEUgAAAGUAAAAVBAMAAACtcD09AAAAMFBMVEX////MzMxUVFRERES6uroi\n",
       "IiIQEBCYmJhmZmYyMjLu7u52dnaqqqqIiIjc3NwAAACW8nlqAAAAAXRSTlMAQObYZgAAAAlwSFlz\n",
       "AAAOxAAADsQBlSsOGwAAAW5JREFUOMtjYGB4wIAD4JRg4D2AS8YXp57TIEJ4AYoYl1kAyLQCHFq4\n",
       "JoDIm2iinA0gchYOPRwohrlDaX6wgytw6GFD4Z2F0v5gt7ItwK7nJFY92yAuxOGhbpCf7iqg6ZnE\n",
       "cLqLgYFbAT0ktV5fvsDAMB3kJ4Z0VD1c33nOAYXYweHTGgoCQSDmBqMLXP8YGGKAzHsMf1D18Pzz\n",
       "YZwHpBJQrWFxCGbg+8jAkAJkL+D5BTUwDWIgR7oASIDxA1q8cH1hAClNAQd4AKo9rDMaweai2cPA\n",
       "84GBaQLEbQysG1D1rD/gD7KIJwDNP0AN/AULGGxB7PcOqHrqF6w/AAwfdgP0yNzAcH7BBoZNYDVo\n",
       "8aPJsF4AaDXHBjQ97wUYbrILMIiC2MpoemwYeHuBaYDVAU2PKwPDohqgOMjhuejpAAKe4khv7A0M\n",
       "Ouy/0NMoBLTjyj92jH9YsWc7PgNcehYz9LZgl2HGmbn5LuCSuYdDHADPnFq6vypuKwAAAABJRU5E\n",
       "rkJggg==\n",
       "\" style=\"display:inline;vertical-align:middle;\" /></a> <a class=\"ProveItLink\" href=\"__pv_it/exprrange_reductions/fda92fb7b7673a10cc2d18146507482820e309100/proof.ipynb\" style=\"text-decoration: none\">&nbsp;&#x22A2;&nbsp;&nbsp;</a><a class=\"ProveItLink\" href=\"../packages/proveit/numbers/number_sets/natural_numbers/__pv_it/theorems/1a8a7907b709bbd24c48a9933f16dbe96429f5cc0/expr.ipynb\"><img src=\"data:image/png;base64,iVBORw0KGgoAAAANSUhEUgAAADUAAAAQBAMAAABEqSrGAAAAMFBMVEX///9mZmYQEBCYmJgyMjKq\n",
       "qqrMzMwiIiJERER2dnbc3Nzu7u5UVFSIiIi6uroAAAA6K1lcAAAAAXRSTlMAQObYZgAAAAlwSFlz\n",
       "AAAOxAAADsQBlSsOGwAAAOZJREFUGNNjYMAE23+0bGCY9OkBAzbQyneAgfsDVimG4wsmMzAoYJc7\n",
       "2sCygKEAVexGebkDiD5ly+WAJvfkNpRxiifhJkiO786uub1gES5vmKJTDA0cD4BynBxnGfYvAImw\n",
       "LEDIJXJXA+XesTcwrE8AyzEg5JgDIoDu3LD/AUP8BpBIUjkQNEDkGE7zgPwQz8BwBKx6B5I+hj3c\n",
       "IHcCJT5zg0TYkeXYLoBM0GRg/c0JEuG9AJNrA+JrQDmubwy8DmZgIVeYHIjBCAwFvgIG7sMBYKE9\n",
       "fWA3MaR8AurhdkANs5ft5cgiADLCQKtntbI7AAAAAElFTkSuQmCC\n",
       "\" style=\"display:inline;vertical-align:middle;\" /></a></span>"
      ],
      "text/plain": [
       "{j in Natural, k in Natural, (j + k) = n} |- n in Natural"
      ]
     },
     "metadata": {},
     "output_type": "display_data"
    }
   ],
   "source": [
    "jpk_eq_n.sub_right_side_into(jpk_in_nats)"
   ]
  },
  {
   "cell_type": "code",
   "execution_count": 47,
   "metadata": {},
   "outputs": [
    {
     "data": {
      "text/html": [
       "<strong id=\"x_operands\">x_operands:</strong> <a class=\"ProveItLink\" href=\"__pv_it/exprrange_reductions/d1a2f933d7d4921cf9b06eab5eaacf5e36bed2540/expr.ipynb\"><img src=\"data:image/png;base64,iVBORw0KGgoAAAANSUhEUgAAAPgAAAAWBAMAAAAfsUzKAAAAMFBMVEX////MzMxUVFRERES6uroi\n",
       "IiIQEBCYmJhmZmYyMjLu7u52dnaqqqqIiIjc3NwAAACW8nlqAAAAAXRSTlMAQObYZgAAAAlwSFlz\n",
       "AAAOxAAADsQBlSsOGwAAAs5JREFUSMfFVk1oE0EU/vK/2Ww26aHiRQUvRWugXkSE1nrx2ggKoVUQ\n",
       "VATBGuipXtyL+NNDgxfFi0sFBUUSC4IihVwqWEHXgljQltBeBKlNoZem0Th/2Z2Y7gbcQ99hd775\n",
       "3ptvdt68mQVQwY6YTh/J8s6Ihy3y+OB3lMeXJKAeyXo6S/xXggq+v+GBDOKGt7PDx00oed/idRmk\n",
       "OmTR4WMGov6TV5PRkOntLfFX8N63eKIly686eEv8fUzQXd+7ZEn88sxqhypp8Y9n5qWlvrd4yDNW\n",
       "4qeJPHCyEpKWLjyK495rJ/zTHBUfqn+c3bxpFr0ODpkfx1nScRlKFuq46HuSx02ob/e7ToD7A6c4\n",
       "/GTiKp6KotFqiFrPpw+6xTI+do613+EioFQRKWHPF8FPAiNQ+PjbGve37Q6wFVgU3koBqZJBZu8W\n",
       "S3kqSmwffUf7UBwEZgV/AeoGUoP6utsAwr9pIwjXoQlxMquh8gbW0i6xjNerPHt02YsWbsAWV38j\n",
       "VkXMdBfn/upCuVnmSs0WJ2U8aV53F2d8rG+1xAT7yWBlHNAqTJzkWa0jWPjIK6g97Sqa/opWYAjr\n",
       "dJdQcYpSabIjWEFtH8v44NLcKGmPkf2OkKXlFPbl6ibp68esQc7AbpPDYgFOgz24/7OEwbt6cBRM\n",
       "nKJgPkRiA8M8pH0Axke/s0qZQDdhMi+XP/NlP0PmO/VtbyYN/ZiAEXoY5yAakWHbP55nCFOv81yc\n",
       "cb23SNeKyWOduBwkfu02y8ppROzsUHHNXqwf+CVD2+ac9FUkxHLeRLqhV7xix8JZEqtn6fEuiSfs\n",
       "Q+xw110JOubU2C4ZMfEmWunabXrFZgJZ0qRX2oDo+floBnhhl1OjUZWgs2mcc3VeQvqbLctB1xoN\n",
       "z9gB9JD1XqH/AjJvtbpbbQMk5XtBRvgXecbyKZBJW/91l8VPnPd3GSZ9/DsqC6bvy/gv6q/ihoRT\n",
       "gDMAAAAASUVORK5CYII=\n",
       "\" style=\"display:inline;vertical-align:middle;\" /></a><br>"
      ],
      "text/plain": [
       "<IPython.core.display.HTML object>"
      ]
     },
     "metadata": {},
     "output_type": "display_data"
    }
   ],
   "source": [
    "x_operands = [a_1_to_j, b_1_to_k]"
   ]
  },
  {
   "cell_type": "markdown",
   "metadata": {},
   "source": [
    "Make this one a little more interesting and demonstrate that expansions can be **ExprRange**s of any kind, not just variable ranges."
   ]
  },
  {
   "cell_type": "code",
   "execution_count": 48,
   "metadata": {},
   "outputs": [
    {
     "data": {
      "text/html": [
       "<strong id=\"y_operands\">y_operands:</strong> <a class=\"ProveItLink\" href=\"__pv_it/exprrange_reductions/f513d7495be8f7060893848ac85ec016d6dc4a460/expr.ipynb\"><img src=\"data:image/png;base64,iVBORw0KGgoAAAANSUhEUgAAAXwAAAAWBAMAAAAx0TpxAAAAMFBMVEX////MzMxUVFRERES6uroi\n",
       "IiIQEBCYmJhmZmYyMjLu7u52dnaqqqqIiIjc3NwAAACW8nlqAAAAAXRSTlMAQObYZgAAAAlwSFlz\n",
       "AAAOxAAADsQBlSsOGwAABD1JREFUWMPNV19oHEUY/91d7m5v97K9PkTsgyYIKiqx8VVojA/m1RQq\n",
       "VC204F8KtSlBtIK4ItXUPPRAsL65NFBQkVwDolAC+3IFrehWkIZW4WisFKo2hYKmnJ7zzezMzuzt\n",
       "Lon34gezt/Pt7/u+3818880MgA4GEnczeneLxlI6eVG58XAwGP2fMvRD4VZB/ZLNjQy58fnB2Ndb\n",
       "QOEZXVP40OO/Fw2QO/9BIx+UIozb4gumasfLUIas2c3B6H8CnDp+21BtE2NW83XQGpxb+aB+4dw+\n",
       "Sii7UIasWbOD0X+P5tik/6SgVPV00MPAi/mgfuHcuomsiWKRIWuVwdjjQD/9L6LfgzrosI+dnVxQ\n",
       "v1Q0ulKcGc3wIL4eMPWb/fTldJ/UQfcCOxt5oBQhbs4BU1fzNMOTWKDXlYuaZ+fnI/mUdbTVStB3\n",
       "H7ogp3vZAAH7c0EpQtxqY/Wv4vVxZWU00AyX+Z+4GlgTset9eCeXvUBH/6A2m6A/3SnJ3lE1Ynx9\n",
       "Ff7OBaUIcVua/fZXtTyHXsFjvmZ4FPvY81lUQlv6KbdwyD57T3ZFIDSwO0IHJn37JVhNCGfnpJKD\n",
       "UB4zQZ8tP6iDUoS4ff9LsEOtmdOzOA68Gkrv5/A8m1uKftePEeQEI27BmsksB0aiV6YUfXuDvq7T\n",
       "/xfORg2QmFMN5OGYDkoRxg3vikzmdjhBgxe5G+WNQSo8c9qRzXNUlKfcm5nlYCKDPvaKr0tTkbNp\n",
       "A1QdS4Bu4UZDA2XQf3q+oewYN5ttHjcgvU/TBC2FGn2bMrTqZ9PnaHs1SE8e9vUt6axtJM95uB0D\n",
       "9Aan385PHrs7FDNh3KrrwJx7OfLexi421mxpTPEuJfyfbIWI8tqf/qThaIvVQps0pTBBP8AD9Y4g\n",
       "NSdNCFRoYdg3Qbz2K1Biw6UH41a9bXeHlbKLYvM7jP92uiMM56j+sELiNCgiTzCWomeAEV/0lppI\n",
       "vHD0p47HNXAoJZx/VNhSWN9rRWO6IHOWQFfn548lQPyopEAqgOoRt2LTvuko77vQ9jwcCgqR4QJG\n",
       "2PPsa5dExKfYMDhfvunDfTTqlb0o7/gLaQSa1cIyRS+wWSret3G/GqDxM1cuRPT3IDIh0P5ebyMB\n",
       "WvN1kIokwpFzxq0UYPWSon/q8t3jDfevt6X3PSjLLYgi1uUsXsMfWi/eY5VmG5u+b+hld2rWkjN3\n",
       "RpmkglyPLQYNZAo5LzfS7KoTT7jCO2vqzEQR5TS5j2x/P+5pG7J6u4M1vpe+nklfHAadTNDa9jt9\n",
       "HWRKK/M8VwxHHOGd2qRQXv94BfhcVrpebz3uxRJrfmApwAtWKe1CxJ2txSapoMO9ngEyly53PplG\n",
       "v9QpHhGG1Ba1L+bdp/8mFOr7uSgI9kRW2ZuMTTYFMu9Z/LmYXVQno+aGWz9n1h6Pz4G/Z1309BHf\n",
       "FChleWRyI8Ph/3pLt1Z9/C/kX/nLWNWtxY88AAAAAElFTkSuQmCC\n",
       "\" style=\"display:inline;vertical-align:middle;\" /></a><br>"
      ],
      "text/plain": [
       "<IPython.core.display.HTML object>"
      ]
     },
     "metadata": {},
     "output_type": "display_data"
    }
   ],
   "source": [
    "y_operands = [c_1_to_j, ExprRange(i, Mult(i, IndexedVar(d, i)), one, k)]"
   ]
  },
  {
   "cell_type": "code",
   "execution_count": 49,
   "metadata": {},
   "outputs": [
    {
     "data": {
      "text/html": [
       "<strong id=\"x_len_jpk\">x_len_jpk:</strong> <span style=\"font-size:20px;\"><a class=\"ProveItLink\" href=\"__pv_it/exprrange_reductions/a66b1fb5d205d2e8007a39dfc31bf38e465e0de50/expr.ipynb\"><img src=\"data:image/png;base64,iVBORw0KGgoAAAANSUhEUgAAADMAAAATBAMAAADPIygvAAAAMFBMVEX///8AAAAAAAAAAAAAAAAA\n",
       "AAAAAAAAAAAAAAAAAAAAAAAAAAAAAAAAAAAAAAAAAAAv3aB7AAAAD3RSTlMAMrsQds2rme9mIlTd\n",
       "iUQmv6lAAAAACXBIWXMAAA7EAAAOxAGVKw4bAAAA5klEQVQoz2NgwAA2n1QNGG78eABiMyqjymnz\n",
       "JTAwfwAzWQJQpXIW3GRgaGDABrIVWBcwHEAWYdE5cxTMyJrCFYAixRdiAGVlsQn4QqRM3MACS2Ey\n",
       "DFkMCkwPwFIFHBNAVBQDQkqc+TBIimUB/waQQACSFOeGTSAXMjPsBxnF2HPmzJlDUCmGZDaI42tA\n",
       "BLMCki4GM2aIC8+CyQPIUowOYJVc/8ACLnApRSB2BEtxQoKLdQNMKhqI2cGuYoPYwpz0GCIj+gMo\n",
       "wAyW4nCABsclaEDBANuG+QYM2IH8htM4ZBjY3R/gkAEAR4oz5b1xIc8AAAAASUVORK5CYII=\n",
       "\" style=\"display:inline;vertical-align:middle;\" /></a>, <a class=\"ProveItLink\" href=\"../packages/proveit/numbers/addition/__pv_it/theorems/bdb040860ba8b035aec6ab4a51daa2ad1ea247650/expr.ipynb\"><img src=\"data:image/png;base64,iVBORw0KGgoAAAANSUhEUgAAADMAAAAQBAMAAABJt1qBAAAAMFBMVEX///+IiIjMzMzc3NyYmJhU\n",
       "VFR2dna6urqqqqpmZmYyMjIiIiIQEBBERETu7u4AAAAsfX+gAAAAAXRSTlMAQObYZgAAAAlwSFlz\n",
       "AAAOxAAADsQBlSsOGwAAAO1JREFUGNNjYMAAr//eesCQ86eAge/OBnS5G+wBDHwfgAyuCehS0QYp\n",
       "DAwHgAz+BnSpiAtcBgwgs+ofQEUYb+/eBWYEOzIvAEvlQGXYF8LUBLMqiIGlljK0zQMJWMFkGIIZ\n",
       "LvAWAKX4vnA0HwEJLGZASGny7QNKcXyuYAKLLkCSYmnoBbqQ84gCmM90evfu3XuhUgxxrEAp7pWT\n",
       "wHy+C0i6GJ7yAQ1831AP0bYBWYpJAKjS/8H7BgGQgCBc6hIQCwGlohjeKySABLjgobICiDmBrrrB\n",
       "wDgR7CO+2DqIjNYfoA6+BchBx54LDSgoAAA3UkPypE46XAAAAABJRU5ErkJggg==\n",
       "\" style=\"display:inline;vertical-align:middle;\" /></a> <a class=\"ProveItLink\" href=\"__pv_it/exprrange_reductions/9f15ea77b7ca7ddca6d32819d9b9e459320500390/proof.ipynb\" style=\"text-decoration: none\">&nbsp;&#x22A2;&nbsp;&nbsp;</a><a class=\"ProveItLink\" href=\"__pv_it/exprrange_reductions/8fe8f86e2a8d60c5ede1e445f8f9e66c4af6a40b0/expr.ipynb\"><img src=\"data:image/png;base64,iVBORw0KGgoAAAANSUhEUgAAAWUAAAAWBAMAAADqapBTAAAAMFBMVEX///9UVFREREQiIiIQEBCY\n",
       "mJhmZmYyMjLu7u6qqqrMzMyIiIi6urp2dnbc3NwAAABm9RoHAAAAAXRSTlMAQObYZgAAAAlwSFlz\n",
       "AAAOxAAADsQBlSsOGwAAA9VJREFUSMfFl09IVEEcx3+uu8+3rrtrQZSI4KFDJNjGgmkRLJWnwpYO\n",
       "FV1cMCOocDsY3XpJh0BiFzxoRLVkFBjERmCltHioSx5Ugg5ZsGl0sXJvriZsM7+ZeX/2zeyhhRzw\n",
       "7fze7/t9v897M2/eCHnAxn/+d2NlQ6qEwvEFe4H01jDP4jE4U35ezTNrMt+vsra+O6KMKqkDcTkz\n",
       "8jwynCeHjnIHMuvJah9YXUIdVVJflzIznlfltmvcgcxavFrmcFodVVKfljI7ed6Lzjp3ILO36ok5\n",
       "Z6ijSmqvIWN28tzjvw1F7kDm0aqZP1aIKqnr4jLmUSlzMMYdyHyFLjgtuaxN+G1xpXJdp/7qdBOo\n",
       "Inez8sFGGTPl0acby5jrGv2fDOpA5kHy9y7vKVquhh7YV3mAuT7DXpo1I2Utqc5Ism5YeV9SMGtR\n",
       "bI2CR4PuMuZU/O73OHUgcxe5TjdoEdDP8PytOPSB/nWbkpvpAQ5i5C+CN2uaMbqzsEvlxbzvEHZj\n",
       "sudMeCDHXjkb88Of6ad56kDmE+S2ClA7D89e8vwAwGFyq5pyoWV6M0pCeN40Y5QgN63y0jwtClBf\n",
       "kDHTlOHHYe+LRo9Fo/tp9/w57hDM3lZIEesIdx0BfRPCM6ENVV2u543gz6VNM0absJpReDEfKuAc\n",
       "jKmYreclnvOBCxnmEHMjlYVeMJn1P+ArgM9QMzO9PpkWC+6AYTJjdFbNjHlf6woZJ39ENp+7+J05\n",
       "mPX1BkpDHMjcRhjSsNOfx7IGzUNN8gG5Gpni7pp0kjO95k+iIJwh8xvNVkRXNPfrYOZrcmM95B1s\n",
       "lT3nNnpYnXEy+4r6egAdyLwA4Mn6OzQsq6+hayRBPrDjBqTom00PeN7sMP3tYAJP1cQ9CcZsRfWd\n",
       "lsV5Acx739A1R5uXMS/QQ2/Z+lyT1DeC6EDmcXLB5s/fpljZKHk6N98+b85AaA8Zok46TnSD0CE6\n",
       "VMD1ZIWnAr2ln08sK1oymBIt1gVEfhVnZ+2MjHmcHraXMXvSMPkaHchca848WtZvjugP+A0w5l6r\n",
       "rCEP520CnM8iCiVCebtSNJE/1RAh3mXpfgN5jpd/B1lb5vsNX8JeNmh+6vZOXASYd5UNWt3HYBMg\n",
       "s4iWJp4YdqVoIt9cHyHdfikz4WnyFV17JGz9Yv/czk/8urEIMGyuZ6VSAfSsq+yw1X0BlgDNZnSy\n",
       "VHIoxTso8u2wg0y+Vvn+ub1+vVa+N6QOxjxkP+2EDLh9NsFguSAA6ku58568nHkILl2Wr5PUMcXo\n",
       "s/+20/8Qq247mGP34VrI1Ty5aneg2qSxBf9E/gVa2juPY8nRUAAAAABJRU5ErkJggg==\n",
       "\" style=\"display:inline;vertical-align:middle;\" /></a></span><br>"
      ],
      "text/plain": [
       "<IPython.core.display.HTML object>"
      ]
     },
     "metadata": {},
     "output_type": "display_data"
    }
   ],
   "source": [
    "x_len_jpk = Len(x_operands).computation()"
   ]
  },
  {
   "cell_type": "code",
   "execution_count": 50,
   "metadata": {},
   "outputs": [
    {
     "data": {
      "text/html": [
       "<span style=\"font-size:20px;\"><a class=\"ProveItLink\" href=\"__pv_it/exprrange_reductions/a66b1fb5d205d2e8007a39dfc31bf38e465e0de50/expr.ipynb\"><img src=\"data:image/png;base64,iVBORw0KGgoAAAANSUhEUgAAADMAAAATBAMAAADPIygvAAAAMFBMVEX///8AAAAAAAAAAAAAAAAA\n",
       "AAAAAAAAAAAAAAAAAAAAAAAAAAAAAAAAAAAAAAAAAAAv3aB7AAAAD3RSTlMAMrsQds2rme9mIlTd\n",
       "iUQmv6lAAAAACXBIWXMAAA7EAAAOxAGVKw4bAAAA5klEQVQoz2NgwAA2n1QNGG78eABiMyqjymnz\n",
       "JTAwfwAzWQJQpXIW3GRgaGDABrIVWBcwHEAWYdE5cxTMyJrCFYAixRdiAGVlsQn4QqRM3MACS2Ey\n",
       "DFkMCkwPwFIFHBNAVBQDQkqc+TBIimUB/waQQACSFOeGTSAXMjPsBxnF2HPmzJlDUCmGZDaI42tA\n",
       "BLMCki4GM2aIC8+CyQPIUowOYJVc/8ACLnApRSB2BEtxQoKLdQNMKhqI2cGuYoPYwpz0GCIj+gMo\n",
       "wAyW4nCABsclaEDBANuG+QYM2IH8htM4ZBjY3R/gkAEAR4oz5b1xIc8AAAAASUVORK5CYII=\n",
       "\" style=\"display:inline;vertical-align:middle;\" /></a>, <a class=\"ProveItLink\" href=\"../packages/proveit/numbers/addition/__pv_it/theorems/bdb040860ba8b035aec6ab4a51daa2ad1ea247650/expr.ipynb\"><img src=\"data:image/png;base64,iVBORw0KGgoAAAANSUhEUgAAADMAAAAQBAMAAABJt1qBAAAAMFBMVEX///+IiIjMzMzc3NyYmJhU\n",
       "VFR2dna6urqqqqpmZmYyMjIiIiIQEBBERETu7u4AAAAsfX+gAAAAAXRSTlMAQObYZgAAAAlwSFlz\n",
       "AAAOxAAADsQBlSsOGwAAAO1JREFUGNNjYMAAr//eesCQ86eAge/OBnS5G+wBDHwfgAyuCehS0QYp\n",
       "DAwHgAz+BnSpiAtcBgwgs+ofQEUYb+/eBWYEOzIvAEvlQGXYF8LUBLMqiIGlljK0zQMJWMFkGIIZ\n",
       "LvAWAKX4vnA0HwEJLGZASGny7QNKcXyuYAKLLkCSYmnoBbqQ84gCmM90evfu3XuhUgxxrEAp7pWT\n",
       "wHy+C0i6GJ7yAQ1831AP0bYBWYpJAKjS/8H7BgGQgCBc6hIQCwGlohjeKySABLjgobICiDmBrrrB\n",
       "wDgR7CO+2DqIjNYfoA6+BchBx54LDSgoAAA3UkPypE46XAAAAABJRU5ErkJggg==\n",
       "\" style=\"display:inline;vertical-align:middle;\" /></a>, <a class=\"ProveItLink\" href=\"__pv_it/exprrange_reductions/34ff063bd5a981f25a87b1aac0b6aea83823bf0e0/expr.ipynb\"><img src=\"data:image/png;base64,iVBORw0KGgoAAAANSUhEUgAAAGUAAAAVBAMAAACtcD09AAAAMFBMVEX////MzMxUVFRERES6uroi\n",
       "IiIQEBCYmJhmZmYyMjLu7u52dnaqqqqIiIjc3NwAAACW8nlqAAAAAXRSTlMAQObYZgAAAAlwSFlz\n",
       "AAAOxAAADsQBlSsOGwAAAW5JREFUOMtjYGB4wIAD4JRg4D2AS8YXp57TIEJ4AYoYl1kAyLQCHFq4\n",
       "JoDIm2iinA0gchYOPRwohrlDaX6wgytw6GFD4Z2F0v5gt7ItwK7nJFY92yAuxOGhbpCf7iqg6ZnE\n",
       "cLqLgYFbAT0ktV5fvsDAMB3kJ4Z0VD1c33nOAYXYweHTGgoCQSDmBqMLXP8YGGKAzHsMf1D18Pzz\n",
       "YZwHpBJQrWFxCGbg+8jAkAJkL+D5BTUwDWIgR7oASIDxA1q8cH1hAClNAQd4AKo9rDMaweai2cPA\n",
       "84GBaQLEbQysG1D1rD/gD7KIJwDNP0AN/AULGGxB7PcOqHrqF6w/AAwfdgP0yNzAcH7BBoZNYDVo\n",
       "8aPJsF4AaDXHBjQ97wUYbrILMIiC2MpoemwYeHuBaYDVAU2PKwPDohqgOMjhuejpAAKe4khv7A0M\n",
       "Ouy/0NMoBLTjyj92jH9YsWc7PgNcehYz9LZgl2HGmbn5LuCSuYdDHADPnFq6vypuKwAAAABJRU5E\n",
       "rkJggg==\n",
       "\" style=\"display:inline;vertical-align:middle;\" /></a> <a class=\"ProveItLink\" href=\"__pv_it/exprrange_reductions/cf7c3805b18c04f38947eed13575ab85291cb7920/proof.ipynb\" style=\"text-decoration: none\">&nbsp;&#x22A2;&nbsp;&nbsp;</a><a class=\"ProveItLink\" href=\"__pv_it/exprrange_reductions/c29f90053aab0453d5cb35586fea1100d79381520/expr.ipynb\"><img src=\"data:image/png;base64,iVBORw0KGgoAAAANSUhEUgAAATQAAAAWBAMAAAC8vH0lAAAAMFBMVEX///9UVFREREQiIiIQEBCY\n",
       "mJhmZmYyMjLu7u6qqqrMzMyIiIi6urp2dnbc3NwAAABm9RoHAAAAAXRSTlMAQObYZgAAAAlwSFlz\n",
       "AAAOxAAADsQBlSsOGwAAA1NJREFUSMfFV01IVFEUPs7PmzvOzBtaiMUguIiIApsQxH6EKIKgssGN\n",
       "0aYH0s9GnBZFu55SEETNgEFuygGjhUE9iYSUxEWrCBwJCrJgdNFG0tmEP2nT/Xv33ee8H2j6OeCb\n",
       "e853znvfvfecc69QAir851+LKj2r5DN9xvL/h1rcIM/EtAe1h7V+Y+CYpKCdaU9nCX/pRw1la57/\n",
       "NVmJaN7OFh7RfagpmZqprclK0ic/LDys+VAL1Z40q7I2o3t7S/gJH2oPaqaWsGXXex9vCb/qQ62X\n",
       "VHDTlCHZ5+cWfere5h9JjUmbeGVyh2eshM86UIuP3Zvby6kR6m9KAWlT4p2wz3tXuH+Babnr6KdV\n",
       "gSt6zqtRyni3oNbTSmQ/0QMpwA6U2gHsfhyUNKBuHnEzAz2Avmxzpcf8AQ4ydViHk3CLF3p0FULG\n",
       "3dntbrEUDx+i4/sOq/Yu2AzLBUbtFC7SMgSL8PQFR/sAOkBhX3cU5i/kEsBm/ST3VrKQLGp4bm6x\n",
       "BCcfxfLcgZqemyZzNamFmgEbYJCjRwFtQHJaXXd7Pfc3pQPiaxDl1DDnmfwGmbizUFwts7xwKoNh\n",
       "gEYQG5oz4DwIaugHhMsQ1t2pMX80njfbmrIqqOG21aefdadG8XDzYpF/cGuuEV7fEaOGyyGXh8Zo\n",
       "iXri/EJrUJd9xHpCdboRC/NXollAxLROspNQI1qygDORtojqWIHXTQ114nGX06qdxumYYNRwBQeM\n",
       "aJtCJ4FWKNlBDTfqEZ2puSxsGTD/2wmNmqABdgGlRrS6TADH1rdbIfYXUDz0ilZ3rwM1vFex7DlG\n",
       "bQTHpT7NT7D1bcVz7X/9LFUAdTdXg+Q8aQM+IBbuH8lAsB2b+j9kGDWioaYL2LSgS7HWC0x8+SLd\n",
       "78NOfQ23ioY8oxYUWUGoRcU2fIUlWRXFb1mSuD8NCTvJNVNTNbXkECvwrngax6ppn9MgrMnUEmJh\n",
       "94xellTrVLKGj/Ff0UbN1BZGn+gOsQJP1aeL/GLheV9r4dq3G3MAd0SDqFTKkipEsozh7THPK/Xj\n",
       "pmFpZyoVp1iBt0AD3qsF36vkgGwy7B5GVYxhO51jNizmE2vH2Zq4UJtgEzZ+674ReXuktgtLjB6l\n",
       "scKfv9or4/rf+7/hFzELCUf4jnfLAAAAAElFTkSuQmCC\n",
       "\" style=\"display:inline;vertical-align:middle;\" /></a></span>"
      ],
      "text/plain": [
       "{j in Natural, k in Natural, (j + k) = n} |- |(a_{1}, a_{2}, ..., a_{j},b_{1}, b_{2}, ..., b_{k})| = n"
      ]
     },
     "metadata": {},
     "output_type": "display_data"
    }
   ],
   "source": [
    "jpk_eq_n.sub_right_side_into(x_len_jpk)"
   ]
  },
  {
   "cell_type": "code",
   "execution_count": 51,
   "metadata": {},
   "outputs": [
    {
     "data": {
      "text/html": [
       "<strong id=\"y_len_jpk\">y_len_jpk:</strong> <span style=\"font-size:20px;\"><a class=\"ProveItLink\" href=\"__pv_it/exprrange_reductions/a66b1fb5d205d2e8007a39dfc31bf38e465e0de50/expr.ipynb\"><img src=\"data:image/png;base64,iVBORw0KGgoAAAANSUhEUgAAADMAAAATBAMAAADPIygvAAAAMFBMVEX///8AAAAAAAAAAAAAAAAA\n",
       "AAAAAAAAAAAAAAAAAAAAAAAAAAAAAAAAAAAAAAAAAAAv3aB7AAAAD3RSTlMAMrsQds2rme9mIlTd\n",
       "iUQmv6lAAAAACXBIWXMAAA7EAAAOxAGVKw4bAAAA5klEQVQoz2NgwAA2n1QNGG78eABiMyqjymnz\n",
       "JTAwfwAzWQJQpXIW3GRgaGDABrIVWBcwHEAWYdE5cxTMyJrCFYAixRdiAGVlsQn4QqRM3MACS2Ey\n",
       "DFkMCkwPwFIFHBNAVBQDQkqc+TBIimUB/waQQACSFOeGTSAXMjPsBxnF2HPmzJlDUCmGZDaI42tA\n",
       "BLMCki4GM2aIC8+CyQPIUowOYJVc/8ACLnApRSB2BEtxQoKLdQNMKhqI2cGuYoPYwpz0GCIj+gMo\n",
       "wAyW4nCABsclaEDBANuG+QYM2IH8htM4ZBjY3R/gkAEAR4oz5b1xIc8AAAAASUVORK5CYII=\n",
       "\" style=\"display:inline;vertical-align:middle;\" /></a>, <a class=\"ProveItLink\" href=\"../packages/proveit/numbers/addition/__pv_it/theorems/bdb040860ba8b035aec6ab4a51daa2ad1ea247650/expr.ipynb\"><img src=\"data:image/png;base64,iVBORw0KGgoAAAANSUhEUgAAADMAAAAQBAMAAABJt1qBAAAAMFBMVEX///+IiIjMzMzc3NyYmJhU\n",
       "VFR2dna6urqqqqpmZmYyMjIiIiIQEBBERETu7u4AAAAsfX+gAAAAAXRSTlMAQObYZgAAAAlwSFlz\n",
       "AAAOxAAADsQBlSsOGwAAAO1JREFUGNNjYMAAr//eesCQ86eAge/OBnS5G+wBDHwfgAyuCehS0QYp\n",
       "DAwHgAz+BnSpiAtcBgwgs+ofQEUYb+/eBWYEOzIvAEvlQGXYF8LUBLMqiIGlljK0zQMJWMFkGIIZ\n",
       "LvAWAKX4vnA0HwEJLGZASGny7QNKcXyuYAKLLkCSYmnoBbqQ84gCmM90evfu3XuhUgxxrEAp7pWT\n",
       "wHy+C0i6GJ7yAQ1831AP0bYBWYpJAKjS/8H7BgGQgCBc6hIQCwGlohjeKySABLjgobICiDmBrrrB\n",
       "wDgR7CO+2DqIjNYfoA6+BchBx54LDSgoAAA3UkPypE46XAAAAABJRU5ErkJggg==\n",
       "\" style=\"display:inline;vertical-align:middle;\" /></a> <a class=\"ProveItLink\" href=\"__pv_it/exprrange_reductions/96850b878ec7f086afe67c0c739536769f4c90770/proof.ipynb\" style=\"text-decoration: none\">&nbsp;&#x22A2;&nbsp;&nbsp;</a><a class=\"ProveItLink\" href=\"__pv_it/exprrange_reductions/40e011d0da007dc40e7fffcf1b3c4958eb6d0de40/expr.ipynb\"><img src=\"data:image/png;base64,iVBORw0KGgoAAAANSUhEUgAAAekAAAAWBAMAAAAWU3ncAAAAMFBMVEX///9UVFREREQiIiIQEBCY\n",
       "mJhmZmYyMjLu7u6qqqrMzMyIiIi6urp2dnbc3NwAAABm9RoHAAAAAXRSTlMAQObYZgAAAAlwSFlz\n",
       "AAAOxAAADsQBlSsOGwAABS1JREFUWMPVWF1oXEUUPtmfm7t/tyniDxTtPorCslKIjT90qRUExSwB\n",
       "q+hDF6OhIqGraPFB6CUvPgTJQoREJHQholAfuiItTYS6D/XJB7eIfWhTXDfiS9TuizSJwXXmzM/e\n",
       "uTNzm3SfHNjN3Tnn+858M+fM3Am0gTYPBmttS79n/bGL/juRo8GzUUSi1vBpZTDRmZrFkG0Efqzs\n",
       "xmkP5PCDBOeae0Oh6lRrMNVL5LPsB3vS71Xw74V+FwniTb1bj3Yyk888AybyTFmAddVL6Piw2ok8\n",
       "FIWqPxpMtFsF974zimrYx+Z6uN9LgnQgtxPtZCQHOA0mcvhAgDXViIJMNdR9mqNQ9ZuDqXbonH+n\n",
       "Dv1H9jNZkT0kyEMAx6KdLORbYCKH4wKsqUaUbN+Lhy2OQtWlwVQnQFf9E//7nOwhQcZ9ONiOdDKT\n",
       "ZzfBSJ7wOVhTnVB+fSZ2kE2OoqpT1cFULxhUi5x8X5Y1CXIPwMF6lJOFPFcCI/lwmYM11QtG1YyH\n",
       "oKhqBzezGxcCA8p9+2qkUMU+HVbtPbgqcvKqzDm2Yx6JdDI0Sj48krrmG3C5EQ7WVOOQZr8OqWY8\n",
       "BLUmpmy95uT7IxqD16NEM3s6uFRB1VfaMZGTL0NwXSD9T6SToVHyufKnv5UNuGSVg5nqyUO0PSaH\n",
       "VEmUVdWMh6Co6jjdEp+GRMMV4eMteN69ud+6t1I7+ebJMRZS7T4LDtnWkewTCcF9Nz6iOn189YGg\n",
       "k6FR8rN/1L5sK7jkk1g1JQ7W1pqiMm2x1wvVjIegqOoEwTh0/r76hptPEQkOOEXbUE4p8/FCX/Uc\n",
       "nX2nS6eFkZ2X+wsODDPIvS2dKjAZdDI0Sv4GK6cAjsVMdzlYU03NLpz1WQYc4xnAeAhKqE5ges9z\n",
       "0FF6KDa9bdtQjoJFdZyeI4RrrsnJriiqk2ypR6XTDtyqB5wsqh+fqodwXhf35BKPYFQNOKPBtWY8\n",
       "2ZLM8LlGQLVLqy/pW1WjHWbfAnOGE64TgmxeyfAl8NqK0yuoej46w92t7HaIPJnfIAueKvIIWl3j\n",
       "kEjVKqo5D0FR1TGieB8p/CYy0NH/TWaEcBVJlmhN2isLwOyPhlXX4P5Um2mZAO5Eg6RbkPFVJzx7\n",
       "JwRvaHI5eXLT3cqo5EOXF1+k2jlYW2sckrejquY8BLXGDwCygefqdKBYPKT8ruOrNdYp/cJu+UDt\n",
       "rn+N1zEePL/0Xz9ijdSow1dwWhQ7DbI+NTUZckof5k5qABmXkg9V3e2cikusQJ2fhtMm1TikZFdV\n",
       "zXkIiqpO00S5+dIlNtBDZNJzP7/mg0fe3eOHRbGOigdpp8cD2pfJZ//4O/JscQ9c/3WVq34KuBMN\n",
       "cqTXux1y6vjcCXnVSII8VoOLl1TcLazQeJODNdXLqDKvquY8BIVvpE8IZzrQlEi13+EvgEUt76Qd\n",
       "/gVmj9eNFUnJPDwGFpUgysFfIYXOnFJ6itvJJ7JFklvrIoKmGlGJRmg3Y22dv4cfDw5U5JL3yLmT\n",
       "APodVOZamu6gLfvtYV7eAlpKkGDrnPvC50453WonP5AuttitCcGaaoIaqp3ww7cPcQ1C1TFek3+e\n",
       "uUG2ZnHU9HpdcPUb/6y8uJNKZfaCaWBI1sGkbASDKG281+NOfd7+bmYnL8C9dfBoBnfM9+sCnK+N\n",
       "md8r81y1mw/0KjozOqoRfMdk9hnruVPokyhBdCfQ5/dO5DiPBbPqGXAuNq2oVXzauIub1oef96fP\n",
       "9j+gTHB9N3bjZFgb6z+YLktwpr431N23t0/C/7X9B4eprSzDVE0EAAAAAElFTkSuQmCC\n",
       "\" style=\"display:inline;vertical-align:middle;\" /></a></span><br>"
      ],
      "text/plain": [
       "<IPython.core.display.HTML object>"
      ]
     },
     "metadata": {},
     "output_type": "display_data"
    }
   ],
   "source": [
    "y_len_jpk = Len(y_operands).computation()"
   ]
  },
  {
   "cell_type": "code",
   "execution_count": 52,
   "metadata": {},
   "outputs": [
    {
     "data": {
      "text/html": [
       "<span style=\"font-size:20px;\"><a class=\"ProveItLink\" href=\"__pv_it/exprrange_reductions/a66b1fb5d205d2e8007a39dfc31bf38e465e0de50/expr.ipynb\"><img src=\"data:image/png;base64,iVBORw0KGgoAAAANSUhEUgAAADMAAAATBAMAAADPIygvAAAAMFBMVEX///8AAAAAAAAAAAAAAAAA\n",
       "AAAAAAAAAAAAAAAAAAAAAAAAAAAAAAAAAAAAAAAAAAAv3aB7AAAAD3RSTlMAMrsQds2rme9mIlTd\n",
       "iUQmv6lAAAAACXBIWXMAAA7EAAAOxAGVKw4bAAAA5klEQVQoz2NgwAA2n1QNGG78eABiMyqjymnz\n",
       "JTAwfwAzWQJQpXIW3GRgaGDABrIVWBcwHEAWYdE5cxTMyJrCFYAixRdiAGVlsQn4QqRM3MACS2Ey\n",
       "DFkMCkwPwFIFHBNAVBQDQkqc+TBIimUB/waQQACSFOeGTSAXMjPsBxnF2HPmzJlDUCmGZDaI42tA\n",
       "BLMCki4GM2aIC8+CyQPIUowOYJVc/8ACLnApRSB2BEtxQoKLdQNMKhqI2cGuYoPYwpz0GCIj+gMo\n",
       "wAyW4nCABsclaEDBANuG+QYM2IH8htM4ZBjY3R/gkAEAR4oz5b1xIc8AAAAASUVORK5CYII=\n",
       "\" style=\"display:inline;vertical-align:middle;\" /></a>, <a class=\"ProveItLink\" href=\"../packages/proveit/numbers/addition/__pv_it/theorems/bdb040860ba8b035aec6ab4a51daa2ad1ea247650/expr.ipynb\"><img src=\"data:image/png;base64,iVBORw0KGgoAAAANSUhEUgAAADMAAAAQBAMAAABJt1qBAAAAMFBMVEX///+IiIjMzMzc3NyYmJhU\n",
       "VFR2dna6urqqqqpmZmYyMjIiIiIQEBBERETu7u4AAAAsfX+gAAAAAXRSTlMAQObYZgAAAAlwSFlz\n",
       "AAAOxAAADsQBlSsOGwAAAO1JREFUGNNjYMAAr//eesCQ86eAge/OBnS5G+wBDHwfgAyuCehS0QYp\n",
       "DAwHgAz+BnSpiAtcBgwgs+ofQEUYb+/eBWYEOzIvAEvlQGXYF8LUBLMqiIGlljK0zQMJWMFkGIIZ\n",
       "LvAWAKX4vnA0HwEJLGZASGny7QNKcXyuYAKLLkCSYmnoBbqQ84gCmM90evfu3XuhUgxxrEAp7pWT\n",
       "wHy+C0i6GJ7yAQ1831AP0bYBWYpJAKjS/8H7BgGQgCBc6hIQCwGlohjeKySABLjgobICiDmBrrrB\n",
       "wDgR7CO+2DqIjNYfoA6+BchBx54LDSgoAAA3UkPypE46XAAAAABJRU5ErkJggg==\n",
       "\" style=\"display:inline;vertical-align:middle;\" /></a>, <a class=\"ProveItLink\" href=\"__pv_it/exprrange_reductions/34ff063bd5a981f25a87b1aac0b6aea83823bf0e0/expr.ipynb\"><img src=\"data:image/png;base64,iVBORw0KGgoAAAANSUhEUgAAAGUAAAAVBAMAAACtcD09AAAAMFBMVEX////MzMxUVFRERES6uroi\n",
       "IiIQEBCYmJhmZmYyMjLu7u52dnaqqqqIiIjc3NwAAACW8nlqAAAAAXRSTlMAQObYZgAAAAlwSFlz\n",
       "AAAOxAAADsQBlSsOGwAAAW5JREFUOMtjYGB4wIAD4JRg4D2AS8YXp57TIEJ4AYoYl1kAyLQCHFq4\n",
       "JoDIm2iinA0gchYOPRwohrlDaX6wgytw6GFD4Z2F0v5gt7ItwK7nJFY92yAuxOGhbpCf7iqg6ZnE\n",
       "cLqLgYFbAT0ktV5fvsDAMB3kJ4Z0VD1c33nOAYXYweHTGgoCQSDmBqMLXP8YGGKAzHsMf1D18Pzz\n",
       "YZwHpBJQrWFxCGbg+8jAkAJkL+D5BTUwDWIgR7oASIDxA1q8cH1hAClNAQd4AKo9rDMaweai2cPA\n",
       "84GBaQLEbQysG1D1rD/gD7KIJwDNP0AN/AULGGxB7PcOqHrqF6w/AAwfdgP0yNzAcH7BBoZNYDVo\n",
       "8aPJsF4AaDXHBjQ97wUYbrILMIiC2MpoemwYeHuBaYDVAU2PKwPDohqgOMjhuejpAAKe4khv7A0M\n",
       "Ouy/0NMoBLTjyj92jH9YsWc7PgNcehYz9LZgl2HGmbn5LuCSuYdDHADPnFq6vypuKwAAAABJRU5E\n",
       "rkJggg==\n",
       "\" style=\"display:inline;vertical-align:middle;\" /></a> <a class=\"ProveItLink\" href=\"__pv_it/exprrange_reductions/50a60fadca477f4b0420d43cad05f21c5e75e4b60/proof.ipynb\" style=\"text-decoration: none\">&nbsp;&#x22A2;&nbsp;&nbsp;</a><a class=\"ProveItLink\" href=\"__pv_it/exprrange_reductions/4a49ce9697f503937df6475f2c9bbf87131e27930/expr.ipynb\"><img src=\"data:image/png;base64,iVBORw0KGgoAAAANSUhEUgAAAbkAAAAWBAMAAACvR/+UAAAAMFBMVEX///9UVFREREQiIiIQEBCY\n",
       "mJhmZmYyMjLu7u6qqqrMzMyIiIi6urp2dnbc3NwAAABm9RoHAAAAAXRSTlMAQObYZgAAAAlwSFlz\n",
       "AAAOxAAADsQBlSsOGwAABLJJREFUWMPNWF1oHFUUPrvZnZ3dzUxSqlgI2vgmFmJsobal0uIfhYpd\n",
       "IlqtDw5GUxFCF7G+Og0FhSIZ2IL1oXYhYqGCGZXEGiksNE/64AbRh8bCdCuCaG1eNNk2dL3/c+/M\n",
       "nUni+uCB3Zm95/vOPd/MOXfuLARAjB3+rdnrGbc3SOYWpM1qp4b4mXyXve7UfZ0w3utvFBS35Nww\n",
       "kZKtRpq6s92JKzYBSrvkkdJbDjnOKCB77M16OkhjKLeJx9Wh80+BIM6sqc6sdqfuXYATR1eUoT56\n",
       "xQuuDGqBtZoOihvJ7e3IYBsEkZBT1RmV7tS9hgtIVfc9zTjvyKD7AJ5IB8WN5NaOlCSbCxMJOVVd\n",
       "rjtxsD+u7gd2PCCDDrmwNUgFxS0nqeFmDUvEA2up+6DLtqvG1fFaOi6DNgNsraeBNIZzs/arYwVH\n",
       "Ih5fS904/lqckSa2vjmSrkhGG82IOvveOV5LCwoIYF8qSGM4t0J/8aewN68tTnsScUGn7rstN77w\n",
       "mTos/7pnDIYz74ZXUsVRNBNYqETUzQdZ/uuwuN6kt0u3U0Eaw7lNVj78RSwNvc/AQ65EPCzUje7A\n",
       "9jA+bd7vm3eYut3o8yjkfJNP09OEg+bVTclrGUYD7GFoT1VnPglGFWiw03yQgKCnXwW9v7BFBmkM\n",
       "53buD++86NeTFTgK8KzPo5/W3LvexnawbzF1T6PCwcl9+iXzHkO6DDCGExcypclyDaHOXMbeJXx5\n",
       "aLBpBUQrQgI5MCqDNIZyg1dpmxAeHMPXloWbZp+oOtNcheJKqC5HyrLGvI/hh1EDq09YyAYT1MFO\n",
       "6p1ssGDzCijfHwGtws26BEpQ98hYXfBQbih1uAk8+ryu74pLkKmGlTnpS+pM3B15N1kdQZuznr4y\n",
       "kfdlHqymVOZZsAMF9AJRV0uvTLPdG2aCcssvAYzYl1j0mq7vkLS+ikvVbUN3CnVtgyBxs/2FSpc8\n",
       "Vsz4dNhP0AZa5Ik/60fUeXBPMaA5j3AKBpWaUHZVEHnmCVCkvlhu+RWzXRaDbZT6RzDw28mAEkd0\n",
       "9y7XhHNuk6pDiypaAq06TogUN2qPKwBTLkziRxn+IsPihKDfsxzqt3C9WXdE6Kxf3GmwOzLO+wWD\n",
       "ro+NjUZAZHsqQGIC8QvnlqmatywRfRvUHAcOeiVGHNepQxXxVb5O1U2hz9XnLtKEdqCLaP34kgv2\n",
       "A6ie8OQ9Dqt5coL9FI0WeeIvodUnc9fy3eLyDly5NsfU7QVGwaB9nc5yBNRyZZCYiU63i+aW9WD2\n",
       "okj8xKXPBur232/w6Ht16i4j3Ius73r4kxknVOQl8iv8CXAmvjMRJdQXMP8ebcfgYPawoGhBtoMa\n",
       "UQKpdkbOTbH84GWbRifk1L2K2MaSDuUTP3jhdfRYjDHCGvkYmP/5RHV0f24lgloXPnFlkGrNxC12\n",
       "xp+yaHRCTn+/G6I/bryzCHCKN2answRm/M3ylDj7HJg/q3t9JsFaIUULOtTpKCB1VfGl3FTLBpkj\n",
       "lNha++11QhpR9JTjDF/eJFG/OZi0ng+FlHWBID75RPLTYoiTk9TN0Sr0N/5mUPg23Ln/nvSvgXy/\n",
       "1gXStGZibphIyeU6/MdmzLrwP7d/AIrPf7L7lRdSAAAAAElFTkSuQmCC\n",
       "\" style=\"display:inline;vertical-align:middle;\" /></a></span>"
      ],
      "text/plain": [
       "{j in Natural, k in Natural, (j + k) = n} |- |(c_{1}, c_{2}, ..., c_{j},(1 * d_{1}), (2 * d_{2}), ..., (k * d_{k}))| = n"
      ]
     },
     "metadata": {},
     "output_type": "display_data"
    }
   ],
   "source": [
    "jpk_eq_n.sub_right_side_into(y_len_jpk)"
   ]
  },
  {
   "cell_type": "markdown",
   "metadata": {},
   "source": [
    "Now we perform the lambda application"
   ]
  },
  {
   "cell_type": "code",
   "execution_count": 53,
   "metadata": {},
   "outputs": [
    {
     "data": {
      "text/html": [
       "<a class=\"ProveItLink\" href=\"__pv_it/exprrange_reductions/cc100baf3afc4b9a5896769703235901670ab9880/expr.ipynb\"><img src=\"data:image/png;base64,iVBORw0KGgoAAAANSUhEUgAAAsgAAAAXBAMAAADkcqSWAAAAMFBMVEX////MzMxUVFRERES6uroi\n",
       "IiIQEBCYmJhmZmYyMjLu7u52dnaqqqqIiIjc3NwAAACW8nlqAAAAAXRSTlMAQObYZgAAAAlwSFlz\n",
       "AAAOxAAADsQBlSsOGwAABr1JREFUaN7tmV+IVFUcx3+zO3/vzN4ZH5R8qF2EsLLN7SUi2G17yJ7C\n",
       "MZzY0lDwTyGoI0ukQTgR225u4WLRhi9eEoyKmHUhMmRpXlbYrByFUNS1wc0IytwFoVY3t/P/nnPu\n",
       "uX+G6iW64OzOmd/39/38fvecM2evANAA/0v7zIbosU3HRPFqBGjtCHq/Auyw4gIBfKsSadtqATmf\n",
       "Vt9ehuixpuvvevnqsTZeD2f1KwBrNX30AvyrEmlPByYty+9yY9FjjVdzXke3mfRLHXlk+Uuu9nyo\n",
       "Hg3aQ+8WpJHY+xXy87yu9yvAeqRooNKtGBZPa40EZj0sv/kYosearma9PvDqrfuOKE2GBVebcUL0\n",
       "eHAGsjfloTydhlibcaIUkKmYqtKtGBZLmw6ef3vptKdBgxA9Vr2eIq/Nei1oAUT/g9KK+C1Xm6qE\n",
       "6PHgQwDb5aG1NB3WUj1j9S0gXzNRaVYci6VNBjcuSRhydLva3ESsen1LA5rz4qRuAHianC1K2h0h\n",
       "ejy424HV8hfV5+znDq5nrL4FrHUMVLoVx2Jpp4ILz5Rd8NxI9FgjY5NeWX33m/I2mS9eoh0N0ePB\n",
       "ewFWy5syX+ejXB/U5CnprihUWW3+iT2Fph3Gp4xVV7TOZKf3sF86XPA0/t67OnFdM5k4X/DGGhmb\n",
       "9Mp0nlOX5rDe5KsT7TVJOx6iT9Mv7k3uEWvVWb7Ox7k+qMkY4ND0g+ChynTkTjgGLJYWt3pNo1Wd\n",
       "7vZGeINtKiMuOJ4t8V3wuLpertXSXd5YI2OTXtXD1h0ldFRrsgRDtPtC9HSpxP4UAxLMPq4PajIC\n",
       "sOadasNDVS1/81PZgMXSbkS6FyGtrqzEGOxkK2yzC55At+dYGQZU+w2QrHtjjYySV0Hzihm8zjic\n",
       "gl0btSYjmLdA8j4Vok+Q+ZXoEOcCBMO3wFNcH9RkBJC7JeqVqM78WFveMGCxtFvRKprFlVr0Plax\n",
       "60FcyEf4t9gspEulZ7eVSh2Q7EWf4K5aJ1fgAGseL0E8FT4df0CLla+BUml7qfQMuF4A61QvSBS8\n",
       "Xoj0NqWgVljPm0ylGEZwArR79TIqGQS6big7gaHw7fSfYPUtYATyY6kXQKV6c480QLFeJreCpkUh\n",
       "yS6o9sLd39O7jbfsLRh7Gs+4uDS7MOMWsG5Cms38PiBigAqZ3vGwmSy8+MziXmyZaV4bIL5AKaiV\n",
       "3GQmRTAS5xqvXkalTU51gMSOYCj8Gq4PmslbycJbW6MkEtVzQwV3gGCxO0rToslercN+9Puke7wm\n",
       "u1auyF/cJYg+Sc1Cvtee47FV/NFNuFFQY/1WG/MCzQvA64XOnmiZ5Iq+2wWFkTgnvXoZlW4Xp8Fu\n",
       "uOz7Ofyk6EDwdoGOyQcde1bdLqyF+BxoWDfIG5q2G3nV4P5cQ2oy/I6mBuVOdbngrXWUDVpGvks5\n",
       "Lnke7fe9rxJOOdbIKLysCzXV67O3vV4wh3c3ucndWpMJjMTZ79XLqGQwNgZtPAOFofD9XB/UZASQ\n",
       "L6CdPNV1fUymSt2yFto0rH77EvC049g715eWZzLeto5TeHrqoeD4mNQNk5WKfARFR4tsgZ4epViy\n",
       "OZEXsnkyRuGVlo7cxKsyZfBaCY+C0mRyxPqqIZWHYVzOYYNePi3jwWtDQwNu00nhBH6Y6ymrYKfb\n",
       "rFtAS7m1Ai1Xvt4lU7WMWHNZDavz12MNnnYpytN5/OpZpcnZL15zKHyi1wWPoYEPL93TWVCe0px8\n",
       "5SL66Hktto+/kM2TMQqvT7IVxctyTpi8TpTVJiM9rNh9SJyVKIzLud6gl1Hx4KbFxXkx52jhBH49\n",
       "1zNWwd4HagGr0N/mycvS8QgNttbgwkVQsXbWYiJtQkRP6n8fYfhrIG0B68TZ9jEtdsbRY02rzfXK\n",
       "6E8xRv285CYnCqaVLDjtokGvoK4z/qWJ4bGW6oO2Cw5wY6gQRmX/8TqItKlKYJMH5Yc2e/lHP8Nv\n",
       "asYK/jIZDHtA5Hrl9efcd/y85CanKr5NHhTPnzS9grrX2A4Mj7Xs+VXAAyIO0B8vNkKoUl1P2iDS\n",
       "9gQ12e6SR1pZZvvhJQfUubDkLkeLNV7Ca5n2QWyzn5fcZFdv5Jwx6FXUVtP/YRD4GV0fWEBnrDgW\n",
       "QtVSX5oFkfYoG/3lyIR6g7+8XdeoLNaG5OLirBK7e3HRpwL14l5wTn9g3wFmL0Lh1Rs5ewx6FdUy\n",
       "zQMC3+PXLGMBPbCyEEyFiFr2uGntoP91uaK+vQ7RY40rsy4/hdCeKkTw8mXF2rZGOKtfAVjb1mii\n",
       "gEhUkdP+G1fmCe3J4HvL4P/rH77SF7QH3+8c+E/X+xc/m6wr03/jbgAAAABJRU5ErkJggg==\n",
       "\" style=\"display:inline;vertical-align:middle;\" /></a>"
      ],
      "text/plain": [
       "(a_{1} * c_{1}) +  (a_{2} * c_{2}) +  ... +  (a_{j} * c_{j})+ (b_{1} * (1 * d_{1})) +  (b_{2} * (2 * d_{2})) +  ... +  (b_{k} * (k * d_{k}))"
      ]
     },
     "metadata": {},
     "output_type": "display_data"
    }
   ],
   "source": [
    "requirements = []\n",
    "dot_prod_lambda.apply(*x_operands, *y_operands, requirements=requirements)"
   ]
  },
  {
   "cell_type": "markdown",
   "metadata": {},
   "source": [
    "Note that the requirements, in this case, only relate to matching the length of the operands and respective parameter index ranges.  The necessity that the $x$ operands and the $y$ operands match with respect to corresponding **ExprRange** start and end indices is not needed as an explicit requirement; it is a simple matter of checking that the expressions of these indices match identically.  In other words, that requirement is met by a trivial inspection."
   ]
  },
  {
   "cell_type": "code",
   "execution_count": 54,
   "metadata": {},
   "outputs": [
    {
     "data": {
      "text/html": [
       "<a class=\"ProveItLink\" href=\"__pv_it/exprrange_reductions/6a6367bb13de83d537a3f37d8874b346476e58780/expr.ipynb\"><img src=\"data:image/png;base64,iVBORw0KGgoAAAANSUhEUgAAA+QAAAAXBAMAAABwnZgIAAAAMFBMVEX///8AAAAAAAAAAAAAAAAA\n",
       "AAAAAAAAAAAAAAAAAAAAAAAAAAAAAAAAAAAAAAAAAAAv3aB7AAAAD3RSTlMAInZUiRDNmWbv3US7\n",
       "qzJazP2FAAAACXBIWXMAAA7EAAAOxAGVKw4bAAAIkUlEQVRo3u1ZbYhUVRh+Z3bu7uzM7O4kQmQr\n",
       "jtoXkdtGKrR/HCQyvGg3CSlQdv+IRolL+bFJ0FCkf8TWKKgUXNISrHTpn/XDVYjoR7VtahaIWz+K\n",
       "/GF+7SIIbue85/vcc+7cdgJJOguz59z7vs993ue559wvACiTP9oycGtaWfuNbc5MAyrTAIIPM94y\n",
       "3kGK7fXAcYeHf7lOagKPMutkuyHE8fxbZPnn+Bvam6dDikHlhqePEGtEHncrVrTB/DRB/wAcKzGr\n",
       "sYTxpybwCFlnIQdpqjZoXfDNkDZa80Ha6GzNbzkl1f6ROFW3vThex59azPJGyyLywIVI39L+fD/+\n",
       "f0BtIgexyDmC3OCWTiKPVmJWY1mu86ovDOcRYifo4yCrG56uzf36aH3q6HV+ywmptVsn+JZOyN2o\n",
       "A7ouZnmDZRF5gp82GZZDB5tgzWrr6ji5eJATPKYTz8NK1vktN3ilEIbxCLHTUuMgAw1b3mGsNVdT\n",
       "R+/0W05JZYXlPwC8Xwd0Z8zyBsui8sDDpm/H2TCvzvCBOLl4kAfc0onnYSU7/ZYbvFIIw3iE2GkV\n",
       "IIMNW35cV6Y4kTq6NfJaPqhbvj+C83VuWhDKsLzBsqg8tuXL+f935ZbBOLl4kBvc1mm5VolRjSmM\n",
       "wSuFMIxHiJ3FvNfU17Dly/VBbih1dHPNZzmSkpb/AnC+zjULoXTLGy1rscNysRRvkJfyvji5WJAH\n",
       "PGedk+u1SoxqTMsNXimEYTxC7GzmvRZ6mzN76Qw9zBrGmxmwcd6PmvhjC5LvKVV0btRnOZLKavPg\n",
       "qPcO9/TMhyocSrccEXLzdusnozGKN2P/ZtvyzKkusRSvkAt01SLnCnI0Ct482rQscuTRSoxqTMtt\n",
       "Xl5higueXnpS8Aixs4H36BlV3APfa9VZQwecERBMRr1qeeldF1xOvC9S0fk+eYU6jG0UNFK65e1X\n",
       "fHDVbyv0eAilW04RMgfgVc0zY+R4hDX2b7AtP1YuCT47jLVFJ+cK8sy83tqjd9UcebQSrZrtKMxn\n",
       "0nKLl1+YXGkMqNA7ROoOOMB7BTInn6vBdi3aGsYbD2jny9sEtKrH0CURvJ2Uq0U3DfpmOSWlW14Y\n",
       "9Z18w59C5iaH0i2nCIWqTsUcxRvbz2tCeXTLg/egRVwrHpMp3SY5Z5CjUfAld3f/Xnbk0UqMasxZ\n",
       "bvHyCgNfFkZgzjjnESKhvbzXSpBfAzgI8Kw4Kg6Dx895ZzqLhwK7jhC2HdVAnNVbAa4l5WJ0/kM8\n",
       "RS/5LKekdMu90zMIbtCTiEHplmNZlISqiowSi8I9vCaUh0vbSxFaLtFzglX5l7wNG5bkgkkZ9MyK\n",
       "03qQo1HwV3aDladEMaoxLd9rWu5ft6LeYTr9GI8QCemW7wOiXPs8ceOFwxZo8d6IYYA+PY53//Yg\n",
       "Hx2E4tWkXIxmzIuDKS3Pj/oXjUvQ1sehbMv3UQW1qqBOUbYrXNoCfc5pHQGiIavymGE5J3dIBvXj\n",
       "EnisjuUfbxu38pQoxcGUlicIA0sAzggeIXa0hT24AnlyXjVxNdiwY5gumO6pxeK1B20yQ3rkY3nL\n",
       "REIui85gOh7QeS23FvaFkPE9ixC/O2oRg7IW9uCKPAgjDXWKstdefWHvrcBb5B9W2WMs7Bo5FnQD\n",
       "F9Se5IU9uFq8aYErUbRq7Gu5yStBGOr39YDzCJH1Sd4rVcjhiXKP4IECWjwO8xFRJ3AsGCIAVr3M\n",
       "4jvGybUIoSmTm+RKj7kQuXJZdH5kBrnZzY/4Znmpwi1HAu1VyEZuKtBaJctXlUERkQId4TqZL0w+\n",
       "GklHCUWxaFETymNY3g1nmspMwF3Ag+hBkJwR9CZavkvgWmcWB89PBFezJrgSRVTjmOWSV5QgDG56\n",
       "h1zxcpxHiKxX8B59IDgJPf39KA5et9iQPmHTIV5tcLscsYD+xWxTW63Uj5bjvrPwNXs6l3lmB6Pb\n",
       "5i7aw59xnJazp5TL/Liztm3b7qNC1L0vP86fyYbZToFALnQr2Yk8CXxkFGUSw/2iJvZs85SaQqVK\n",
       "06EWPmc2Cxb0IEjODMJXD5tjB5DEKXhbX3AzZ+YpUUQ1DssFL0SUwjgOQs7tbN9u/lQXIqELvNdO\n",
       "JFl7z69j4yhOgX7KYEP68h6Hh8T1DH8ORzwgiJax+ODUAF/tcN+yGn/xT0eYckjPxejW+UAOUBj2\n",
       "WU5Jtf08eZYRODo1Nemj8gU54hscioiEUQIh9+TrfMmnkTgyijKJ0f2yJpTn3P6N8jEqGFs5u4tb\n",
       "/gnwIHoQJGcG4fcgGuSQQICXuuH+e808JYqoxmG55EWhlTDxgxTJpDvbzXmESIjemiLIEXknRMVZ\n",
       "pJ5TvzKGMioyHi9lQI++D3ObIm/uHLx3meV/xy5JKQKJVGaJt9KLbASsyiSWhCRqKrjfatEqM0OS\n",
       "zhFnUGckguISJIArUWb537HLVAUdL0d3cYinkg593x7KLxJSHPXJ8U64Qx/KR3zVvazH9+j7MDfn\n",
       "z91VHCrzLx9uyyUpRSCRyoAQqWojsFuh1EWJmjyfRXrElw0GstP5Tqef3FOxoJzj3ZEXXIky4Ldc\n",
       "puYShNE2MR4h65zgIKWyJk4g36lkvru4RRvKtkq9EhvU43u0fZirRcZyx9qHqpAZ8VsuSCn8RCoM\n",
       "it6+VWwEtHxV2qJUTSe8lncqOiXX/XLnxT8iFuSQIAFciiKrcQgjU1clCKNt6hSptLNGfIEd4XI8\n",
       "ca0CWfW1Z2rqkjaUTaFlyc2LDJi5aanah7lQ8eeegLPjXC+35YKUIpBIhUERkbI2AlZlEktCUjWt\n",
       "cbmCVZ5QdARNo+2fmhLOxCVIAJeiyGpclq+JUQbPQbQzJGSdTAW6cDxjmh+bmmuNfayai79d9ubp\n",
       "kGJQ2fHpI8RqylQ8IVl9Zs9IE+RY+ytJlZjVWML4UxN4dNUjlK698Cfcdu12rOlfbC9t+b+m/1T7\n",
       "Gyeh3VzA6l5CAAAAAElFTkSuQmCC\n",
       "\" style=\"display:inline;vertical-align:middle;\" /></a>"
      ],
      "text/plain": [
       "(|(a_{1}, a_{2}, ..., a_{j},b_{1}, b_{2}, ..., b_{k})| = |(1, 2, ..., n)|, |(c_{1}, c_{2}, ..., c_{j},(1 * d_{1}), (2 * d_{2}), ..., (k * d_{k}))| = |(1, 2, ..., n)|)"
      ]
     },
     "metadata": {},
     "output_type": "display_data"
    }
   ],
   "source": [
    "requirements"
   ]
  },
  {
   "cell_type": "markdown",
   "metadata": {},
   "source": [
    "Parameter independent expansions are only possible when all of the indexed variables of a particular expression range are expanded."
   ]
  },
  {
   "cell_type": "code",
   "execution_count": 55,
   "metadata": {},
   "outputs": [
    {
     "data": {
      "text/html": [
       "<strong id=\"dot_prod_with_y\">dot_prod_with_y:</strong> <a class=\"ProveItLink\" href=\"__pv_it/exprrange_reductions/01844fae7e9d10159ffb885a726bafbfbb33de730/expr.ipynb\"><img src=\"data:image/png;base64,iVBORw0KGgoAAAANSUhEUgAAAfUAAAAVCAMAAABopYcVAAAANlBMVEX///8AAAAAAAAAAAAAAAAA\n",
       "AAAAAAAAAAAAAAAAAAAAAAAAAAAAAAAAAAAAAAAAAAAAAAAAAABHL6OuAAAAEXRSTlMAInZUiRDN\n",
       "mWbv3US7qzLz6SJmQj4AAAAJcEhZcwAADsQAAA7EAZUrDhsAAAQoSURBVGjexVrZoqMgDGURAVFn\n",
       "/P+fHdSyJwK1jnlouDcp5yRh1RJihZL3hH7lTJ/Go/8noP/XL827YfzFqhvW7uuJ3mDchvc4QLfc\n",
       "LZKj5TQfyJvCVKunJ3qLcQve4wDdcr9IjtapxUjelVG0+XmiNxnX8R4H6JZfFMnROrRUL1ddyTY/\n",
       "T/Qm4wLPKAzpKYD6eqx+yiihdWhN3haNzA2WHmB00fgRHs934scB6gs6+y2jhJbVfHy96mMYyEm6\n",
       "eDJnPNHbjEd1neLHAbqr/psiOVpWy88xQTC2iHUYkKNixdy0N2FdDItvTokh+csRbWV8uhxLo1gw\n",
       "PLAojwN0V72DEUoq0LLaDQA7r9jCiJyQTfXa3LQvY12oEak6n6EJ1Mj4iI/wfW1UG4YHFuVxgO6q\n",
       "dzBCSQVaVk/nuFF0dxNkOUZJTjsxi2FYlv5jaoKQhqiRqhM2B5yJp40K411WfiZomRMPrq+LAgAg\n",
       "MUcAsUcNoLvqUMioxFGDebZam9N1H0mfvKyM5YMpNu+77RdzPu4is4RB+efvlMi2GX8WMWkDZSy2\n",
       "MZwS9J4++xF7BDx5gGh9qIXgAGnMHiECiD1qAJcrIvQNgFGxrENRw3m22iczduNQUZ15LwTd1q9O\n",
       "keCgN+hcN2PEzuQNjPEUToHGzgwb5Zp4mMpUBACymAOCB4g9zK/nOhhyJnDUUJ6t9gun9bULiBBY\n",
       "1b1ZiW+rHrqQyk4+WVYsxV3j5x35Cl9n7GYG06lH7ous8E0xe4DYowbw7QqPpxAjBebZ6vnoX8yG\n",
       "LPo4CcR2l/TMbPVU3LPQE2XZhVBG261Jf+7jakaqPsYX9pklDYRxJvPiPiIPNV8XBQRwMeMAwaMG\n",
       "0F31klGWQpgUkmerz+M831YhbYeGxzn0e0VmJuskku0Nb/hW3AUVbP/nJrI7mbXi93V/HbpiXIz6\n",
       "ZZ8eKvWQw3VRQIBPzBcAwaMCcJUu+BsloyyFMCkkz1av56yVjNksK56uBdMnjsxMP0drZw57Stlw\n",
       "TmkX9voRdr/JIDeQZEVdp6SBMM4XmmVgcqOpR46XVx0EoLOoAASPGsBVusBvQIySFGKkwDzvegJ2\n",
       "K58hDoVKLUVKUXPRGeCkLaiUx6GU0Mb7gCd6yRgYPGPqUeAVCzAAEGLGAIJHHaD7iSzAKE4hSgrK\n",
       "86Ghlx8+Q9D7PTqv6yoFZgYeGpRdbEck/GDT+mbBE71kXIQudLYHFHjFy5ESIIoZAYg86gD1c6+q\n",
       "MopTiJKC8nzqOR/CdBi34Tw/QINUb7ug5vL5IBDUvk+xQZ0JbU2FJ3rBOJsi9n/LkHq04BUAIWYM\n",
       "IHi0B9QhBaM4hSgpKM8fLXCWlaq2/SylNx58/Mx5o7pQKibNF3iPA/S/xOgYShCpQMtp+sxvftqE\n",
       "deTIE73BuA3vcYBuuVskR+vQ/wCbGCu8Gu3AvgAAAABJRU5ErkJggg==\n",
       "\" style=\"display:inline;vertical-align:middle;\" /></a><br>"
      ],
      "text/plain": [
       "<IPython.core.display.HTML object>"
      ]
     },
     "metadata": {},
     "output_type": "display_data"
    }
   ],
   "source": [
    "dot_prod_with_y = \\\n",
    "    Lambda(x_1_to_n, \n",
    "           Add(ExprRange(a, Mult(IndexedVar(x, a),\n",
    "                                 IndexedVar(y, a)), one, n)))"
   ]
  },
  {
   "cell_type": "code",
   "execution_count": 56,
   "metadata": {},
   "outputs": [
    {
     "name": "stdout",
     "output_type": "stream",
     "text": [
      "Expected error: Failure to apply (x_{1}, x_{2}, ..., x_{n}) -> ((x_{1} * y_{1}) +  (x_{2} * y_{2}) +  ... +  (x_{n} * y_{n})) to (a_{1}, a_{2}, ..., a_{j}, b_{1}, b_{2}, ..., b_{k}) assuming {j in Natural, k in Natural, (j + k) = n}:\n",
      "Improper replacement: Improper replacement of (x_{1} * y_{1}), (x_{2} * y_{2}), ..., (x_{n} * y_{n}) via {(x_{1}, x_{2}, ..., x_{n}): (a_{1}, a_{2}, ..., a_{j},b_{1}, b_{2}, ..., b_{k}), x: {(x_{1}, x_{2}, ..., x_{n})}}:\n",
      "ExprRange indices failed to match expansion which is necessary because not all of the indexed variables being indexed by the ExprRange parameter are being expanded (x is expanded but y is not): Unable to prove (1, 2, ..., j,(1 + j), (2 + j), ..., (k + j)) = (1, 2, ..., n) assuming {j in Natural, k in Natural, (j + k) = n}:\n",
      "Insufficient known transitive relations to sort the remaining items: {(1, 2, ..., j,(1 + j), (2 + j), ..., (k + j)), (1, 2, ..., n)}. \n"
     ]
    }
   ],
   "source": [
    "from proveit import LambdaApplicationError\n",
    "try:\n",
    "    dot_prod_with_y.apply(a_1_to_j, b_1_to_k, requirements=requirements)\n",
    "    assert False, \"Expected an LambdaApplicationError error.\"\n",
    "except LambdaApplicationError as e:\n",
    "    print(\"Expected error:\", e)"
   ]
  },
  {
   "cell_type": "markdown",
   "metadata": {},
   "source": [
    "But we can do a parameter dependent expansion in this case, as long as we can prove that the indices of the expansion match the original indices."
   ]
  },
  {
   "cell_type": "code",
   "execution_count": 57,
   "metadata": {},
   "outputs": [
    {
     "data": {
      "text/html": [
       "<a class=\"ProveItLink\" href=\"__pv_it/exprrange_reductions/dfea716807c882aaba698ab3d67e8c276bab07710/expr.ipynb\"><img src=\"data:image/png;base64,iVBORw0KGgoAAAANSUhEUgAAAsgAAAAXBAMAAADkcqSWAAAAMFBMVEX////MzMxUVFRERES6uroi\n",
       "IiIQEBCYmJhmZmYyMjLu7u52dnaqqqqIiIjc3NwAAACW8nlqAAAAAXRSTlMAQObYZgAAAAlwSFlz\n",
       "AAAOxAAADsQBlSsOGwAABWdJREFUaN7dmV9oW1Ucx3/pTZO72zStD+uTs0WfpBTqAgrCZnypT7JU\n",
       "FimoEJl/YDi5sJftQSxqqa7K8iAMfDFU2JgwGvdkkUJ86EREiYIa2RxhIohSqSDIpm6ef/ee87v3\n",
       "5pxz0+TFA02T3+93P7/v79xzzj05AYAuaFrMWdRFa53WgV0Li6ENAFEcUCBzj7d0IY9HDdd00dm2\n",
       "pbBrqXLqJQ4JMZhaBOcLbci4jz8Xmtrw7+106SnRnAaJQ0IMphbO8er6kPfwx4v66H0NK2EXU+U0\n",
       "SRwSYjC1MI7r60NOiUEvwlb10fll/v+xHlPHjhLJaZI4JMRgamGcnCEkx+9nQaxQNUP4cf7vyx5T\n",
       "y44SyZlL30GDQAymFsb53DTYfRVZME27czbCTBSc0yhxSIjB1MI4a3SXMXsdP0ovrYI3w9+OzahI\n",
       "l67yN7Z28ILX8WFdvL9sI8xEwTmTJSaKlS0dQq1Atv5rwcDL7HYtdJ1bKKZ5BfK7YkWpq0g6QLIv\n",
       "wyPomTBWqMGr4v1pG2EmCs6ZLDFRrLIQpkKoFcjWfy0YeBqeJt3+IrgVNSTTWoGRecGqqchRst08\n",
       "78MKIt5Nrr5PvL9iI0yhZKKUTCynKnEyzgzEYlcqhJpbaWlr6dElhPMcGfG7MNoEj9+4DTIEPDgB\n",
       "uTY3ZMggcavVJ5+vVskMzJUBzgI8Bd4n99J7590kL41cG04IwzT5W6lWX6hWn4iqSqAQjZOIwg04\n",
       "p5QIsBhMx6hY6YILdbBCcMEUoeZWXGlrERcrxfA2TdPn5mGjDAe+5XeGblyyt2B6khuyaEhQ5DHw\n",
       "/gRXDP4l+nKkkflDGBZs7n5ICVpIEbsjPAxDibxRgTGxonbavT9WjAiX/THBDKHkVlz91RIthnLI\n",
       "RNpos/VjW7lRdfhOGAqVyOTw/qVL4ES5GELgLRivCcO25RTjFNQoRYRVonNdSGSNrWMxsaw54dV6\n",
       "BI2LVRBz7aEWBUg5h0j6Ftxf6Kq6nRk4KJLk51Wk0wbvHxipf5VvKBIPkguE4aSNsJACl94GROEG\n",
       "nFNK9DqthE5mYrlLdrIeQeNiFfDciitdLfnVAx1cTGA5SfcpTruw5OLBMZP9SxjcpoqkO6NDsL1M\n",
       "5tiYfFa+Bkd8YVhDwtiaeTNY+RIoy8oGllGYAeeUEl22KY2NZCqWu2Qn6xEOl1FJyK24UC2yjB61\n",
       "XFjwc10EDCxrsJ9cP/fRja+Rbm+2c1sYRssqMkOSr1+9Z46sgfvlpmV962xXGI6iTmYL3lK48sUo\n",
       "XuNjQBRuwDmlxA/HlhM6mYnlLtnJegTvyUgFPLfiwrWEZfSo5dcfYAIDA8vR8ImKdJMbVBeGn/GX\n",
       "yPAZXnxYDd8UhmLF6qvoYvRbVUhhhkhOKXGf75ZKx0oPJYgl+9XXSw+WSj7vZA0iiItVQHKrrrS1\n",
       "zAVPyhDILYQTHIMg3ZtwviUMq/g45FQQ8gv8Lmv0XhKG4CDGcKgSUuA2YAozRHJKiRPdhJHMxTKX\n",
       "HMl6hJNYAcstXWlreRbezGAgt1DO4YROfgZmhaE4j9GOWHaKD9x1JrCNtkeawvCT3alAQIGMPF5h\n",
       "FGaI5pQSp5J2F1zsFNpdGBBOUgVcjHSlrKW4C4uf4i7hFsr5QNh/e38rvPCzTlkYnMjPNp5Qn7tz\n",
       "J9y1FF55IzActhMWUGBcHjowCjNEc4YS4Zugk2NiuYv10ObfbRPCSaqAi5GulLVkZ+Cqj4DCQjlF\n",
       "7c8s16OGHe0PEl3LA64dfFiGT89iOUOJ58KRnHxk5vSUjRFO75M7p+9a9tonw2rvTpkMqBMerQXf\n",
       "+Hq4XOMJqCaO53bh/9beOWMyoAODTqMPl3WcNvee2n9zJ1ux3MhqQAAAAABJRU5ErkJggg==\n",
       "\" style=\"display:inline;vertical-align:middle;\" /></a>"
      ],
      "text/plain": [
       "(a_{1} * y_{1}) +  (a_{2} * y_{2}) +  ... +  (a_{j} * y_{j})+ (a_{j + 1} * y_{j + 1}) +  (a_{j + 2} * y_{j + 2}) +  ... +  (a_{n} * y_{n})"
      ]
     },
     "metadata": {},
     "output_type": "display_data"
    }
   ],
   "source": [
    "requirements = []\n",
    "dot_prod_with_y.apply(*param_dep_operands.entries, assumptions=param_dep_assumptions, \n",
    "                      requirements=requirements)"
   ]
  },
  {
   "cell_type": "code",
   "execution_count": 58,
   "metadata": {},
   "outputs": [
    {
     "data": {
      "text/html": [
       "<a class=\"ProveItLink\" href=\"__pv_it/exprrange_reductions/0695d7a2cb10b7d61b8105573878605474e0b83c0/expr.ipynb\"><img src=\"data:image/png;base64,iVBORw0KGgoAAAANSUhEUgAABBoAAAAXBAMAAABXIzGhAAAAMFBMVEX///8AAAAAAAAAAAAAAAAA\n",
       "AAAAAAAAAAAAAAAAAAAAAAAAAAAAAAAAAAAAAAAAAAAv3aB7AAAAD3RSTlMAInZUiRDNmWbv3US7\n",
       "qzJazP2FAAAACXBIWXMAAA7EAAAOxAGVKw4bAAAIu0lEQVRo3u1ZfYhUVRQ/8/F2vnbHKfqAMBwt\n",
       "tT/ULFQoooaK+sOsl1AYrOxUCEpFQ5krJjUU5D+VU1RYSQ70IU1qg/RlQYyWgbbaamUWZVsEoVSu\n",
       "2UoiuN3ve+579z5nzD+W6Mhd5777O+ed87vn3nc/AKBA/lGJwdgSh1en4+yZDLBw5lQKHYM6gHTk\n",
       "Z0zSE58Jc9mTi8ZYNmxmf5PNwOPTcdZhSkpiyfF7GzuqLu05617YuWGNqBC6OhWnyuZOQR1AOvMz\n",
       "V+QFZgmCE6Uxlg3xqjsbqLP512Vi99871JGpQ36gedcQlLuc2tMOQBeURWUW1j9/2e6It/7maxVV\n",
       "kUK9j6MEtIFYYPFqm0yZgv08NUFwCS9eWRB8O4w1WeTOBuLswmUj4sl4SJ7owJT3zf2BnklVCKHX\n",
       "OZX7CVFJMdQIXVo/1oJbmu6XTlEquiKFe79I1a0gHtiiNpkyxPCzDYK6fFZSVUHw8jGXDavc2UCd\n",
       "jcts2APwYkemLg1kQ08Ber2WU3kPeK1emThVpE/0MrVThpHCIzcnK8z7VXYQfIADW9UmU+GXSj/b\n",
       "IChdYSUjCa6NuWzI+M5sqOFsWOfDj4VOTEmW4jsbb7CBBPBIT3gundZosBFLhszQAWkI62dGoOfI\n",
       "qcMwlihFnA0Z3wqCy3FgGb89psIvlX62QRA8z8ocQXCiPOayoavqygbmrMqG7wB+HOrElGApd5ci\n",
       "MT/4a0jnvcnq5+/5ilxRYpZ76tBz8pRhzHFnQ1fVCpLZwAPrqrbHVPil0s82CILFrCwVBKfoIvLC\n",
       "a8/GiEA1LCYg9tXEon3/4mqINpkcdGUDc1ZlA5G3ncvtr8+ZVgyaEiydp0dUt7/dVCBOo4/x9m4J\n",
       "XRr40mSHXW/2Jg1qFVUxsyE5CGAByWzggWlQdHiGBP10EpSbfuu128j/81hZLAim6ZV7Br5Ac06g\n",
       "arFkArYUukesOGdDtMl0WXZhqsFkEJCzOBvyf7rslXYVvSPYFGLpTrQCTxdNBfIOPbcmSo/hIYRZ\n",
       "PuxM8xSs0SqqYmZDuoztKpDOBhpYOmLWxuEZLAX8dBOU7N4LfSTUJ4CWVwXBWbJovqMKKxAwUA2L\n",
       "AOTFYFgDqTr5PzQnORvcJjlzNdfcQJ3F2ZB1DZ9ccwPETgZNCZYQy2p/KRVINqCJWENfDWTDRmck\n",
       "E+GoVlEVMxsSNWxXgXQ20MAS7hWdEZ4hAT+dBMFH2RZMID1zBdDysiA4Q6h6FOA1gAUydFb1rv/B\n",
       "OT9wPGR5N6eGIUtn8E2yWRoKNrRhkif0sCsbqLM4G1Y6p2vvBCRGgqY4S/mXyEDaII5q5tLFIlIA\n",
       "OEjHGd9oXEQ0Pa76sslyyr0T8RMjWoVXyOB98yUxeJn3efWd0SBY0Wi82GhsVIHlnR8jMzxDAn6u\n",
       "dLvZ14RrCO4wneiMbFgLxHp+Ul0AWTXFx7VVGEAvY1vQ11TTJGhDwYZ2TeZqbWZD2v1lTQxDTzlo\n",
       "irOE9pS9sRbbh2kF8kxz3hrPdpMWlp+K2lnWUcfIijk35GpG7ylaLseB5SJ2ezi8iGyIIAiuAdhH\n",
       "v+asoC+F9yekSZIlhE+8Oq4Zcy2bBV5KXxFWq1UZc7Vub2jXJNO3rhsCX4pZEHNtoAhX46o+MoVY\n",
       "0il5gPS1N4wVyDu0jSGSKH22GThRgrOcNGdLSEVWAl+KujGzS5DKBhZYou7uShyewZLpZwRBNBX+\n",
       "JhPflUDLNkFwdxG8o8T6Zcw0nRd5Ne2TrvMsM4wEwPwHOb5vJuxLFLypM3E22BocJtE7l/88leJa\n",
       "rrmhuyj4ZFbyJYj7dhchUyLzYEmZ8nA2TFKfpMr7bLuIFIh5tT78NVehuzSmu03qMxO/AEwG3xoJ\n",
       "wIQmUpnQtK4iWxJtgGQ2sMAQKDo8Qww/XQSxR8+Rb00S4EmgZZ4gmG5StsGVlQrrxL4yyCok66zq\n",
       "HQPxXNU4oDKHP+ouJtaTjwA7C1DZYG0ImdS2mckFW6qZgthHWrOBbxiPCJ0L+vtXaDOmUbJAmpIe\n",
       "UqYYHm7hA6VrptpfLoLYJy2sQORutb/s8mH8VVx3ntBn2Nj6/v66hRf+ltWAVFYHzxuo99ytMEhm\n",
       "AwsMgcKc4fAMMfxUBFk6kgzMePlpviVdCocEwXnSdQsv/mnvEOvELL0R4lV698Gq6+lcVpF/Gr4A\n",
       "eP6NHO/tvfnCGXBbsoKzwdoQNsl+qHeeOwXGEfPZpisbqLM93x7bz3XeHh09pu1po9TFD4nJx7Up\n",
       "hvph3X3stMb7/l2xA/5s7cC6tSWsQF35XBxSrV0ysOP4p1z3kNSn2Ozo6GiZ/6qEIoHvQavQipEN\n",
       "zHvuVhgks4EFhkD6BbbwDDH81ASZFuijXB28/WRYvAW00A0BO+zdZHyuZ+ujo+1GVaF84xhrNj4X\n",
       "WzmwY2CgGjSkGxwm9ZO9bFFzgfueYlNYJ9JFZcpA5W7iJ9MWBSrv7GyUg/5lh0LYhG+P5Fms8mxw\n",
       "btBuhUHo9MkARYdnLlrCfoYt4F6us0KvK+YaNx+sE/XUcz5dKJXCpxb65xEDP65grCJtDQ6T+skr\n",
       "0J8X92j2bFgV1ol0UZkqRR12JKPPQkridieATVqRX6ZHtAqvGLdW2q0wSN5aBUHR4YVuoQKoEkQw\n",
       "Tm+5aNkqCO4uoGzwVArHdv/xEKoqma8PAmsYDweNPYWtwWESvXMYNl1N74ud2SCd1TqRLipTXuQJ\n",
       "+fzIZOC6W0PY+TZk/ijd9wgVXrGc2LeQ3XZAkeGZEvLTYgE9Gi9KryBYbr9jN/xVhLg+RRgdHUZV\n",
       "JdpQnCzpEGC66nTTkG5wmNRPcoNwcVX0uD0bpLNxi7bFRWUqHtnf0ZcpXLc3hC1akQ88jFRYJSzc\n",
       "rQ5AkeGZEvIzDhGMs+ShJVaEGezB2f/mqtG8DBOLRWivwXm0yzwOnmefjrMOU6cjseKZU5nYKagD\n",
       "SGd+xgu8/Gu556CRGh/X5JFjIGdcDf/Lf0keeMg4jp3quIJwNvwvY0f+AYxTBA+g7g+MAAAAAElF\n",
       "TkSuQmCC\n",
       "\" style=\"display:inline;vertical-align:middle;\" /></a>"
      ],
      "text/plain": [
       "(|(a_{1}, a_{2}, ..., a_{j},a_{j + 1}, a_{j + 2}, ..., a_{n})| = |(1, 2, ..., n)|, 1 in Integer, n in Integer, (1, 2, ..., j,(j + 1), (j + 2), ..., n) = (1, 2, ..., n))"
      ]
     },
     "metadata": {},
     "output_type": "display_data"
    }
   ],
   "source": [
    "requirements"
   ]
  },
  {
   "cell_type": "markdown",
   "metadata": {},
   "source": [
    "Also note that an explicit expansion must be provided for each precise range containing an expanded range of variables."
   ]
  },
  {
   "cell_type": "code",
   "execution_count": 59,
   "metadata": {},
   "outputs": [
    {
     "data": {
      "text/html": [
       "<strong id=\"inconsistent_dot_prod\">inconsistent_dot_prod:</strong> <a class=\"ProveItLink\" href=\"__pv_it/exprrange_reductions/4bc2a262e7ca3f2c027c19f7e1b625408a0e6f2c0/expr.ipynb\"><img src=\"data:image/png;base64,iVBORw0KGgoAAAANSUhEUgAAAnsAAAAVCAMAAAAJi9imAAAANlBMVEX///8AAAAAAAAAAAAAAAAA\n",
       "AAAAAAAAAAAAAAAAAAAAAAAAAAAAAAAAAAAAAAAAAAAAAAAAAABHL6OuAAAAEXRSTlMAInZUiRDN\n",
       "mWbv3US7qzLz6SJmQj4AAAAJcEhZcwAADsQAAA7EAZUrDhsAAAUESURBVGje5Vrr1qsoDBUQwQvO\n",
       "+P4vO6DlnkBs65x1VvnxxX6J2ckmXNthsI0NP9rYW8bsaTz2/yT0B/yy0h8Xv1p7K6fbBpY+oIuG\n",
       "9zjA7fa1CvHxeSnG4Wcb11TLwNJHdFHwHge43b5YIT6+S8pp+OE2SZpdYOlDuvp4jwPcbl+tEB/f\n",
       "KZX+5drTimYXWPqQrgpv1RjSUwD9hVF/NSI4vlPOw0+3GZkneL69nquHL+GJcof2OEB/ieXfjQiO\n",
       "z0ox/XbtTXFQZ50msvkjsPQxXZNud/TjALdr78sV4uOzUr32kZJzI/dxRE40HTVp29BDOOd2aW4r\n",
       "ieiwhzH+Y8kU2SfPEpUuHHE07dJ4HOB27YXcyTXQ7C0fn5W+DO0w54YPakH2O201acvUdjEOwk3u\n",
       "+ritJDXMg56Q2hMbNJkQ6cIR9dQujccBbtdeyJ1cA83e8vFZuVxVrJmzlYOB95UdNWmT2Xaxiysp\n",
       "s91VkhrqQcxI7Q18i4vwIvIHAh8IopjbpfE4wO3a87mTa6DdWz4+K+f1snd1He4RyrGTqeU4GnP/\n",
       "JJ8hAPO03X26nN2fCj9Rvomeus/DioPzn3+XrB3HGjbIa/6A0iWPqZ1QxFMnyDyfwgw4QJ5yQEBI\n",
       "6QE0lyboDZ97pwPBwKA6OIIMrEbbnXNoWvVqdQb53hmnNQZXO6ZsRDuIH5RvowcPxb/ReW+dEmrW\n",
       "8gGja1HthNbOtAQAFClHBJCU9dvzXhJRuwOBwKB+mIMMq4l9wU6q8hw9YoH67qV2swGD/Xa7PyBA\n",
       "g84NGz7D+EH5NnriPiN6QWpvT29pyzW3TxeWUGmLrLkkwkFSegBvr7ndDuxyncVn5XYCyW0dzHxu\n",
       "E1O9R8nUWvpESUufhFwobecCld9sbMb/ifzVyohOgo820UMCbj9tSO1N6QXfxrMHhK6iQQmleGBp\n",
       "AABJyghAatEDuF17r9yBDjQD19veyhyw8/FZeR15xbFLZR2vIiUzrOCF2uIv2QKPP4Sn1IXU62w3\n",
       "rDPLLJVxA0tntQ8pX+gk+OggeEjB0xsEq8Xv98LFRYuuavTXCWV4YGmAAD5lHCBadACaHIFvvHKH\n",
       "OtC4k28jMMjOx2flfvWj4tzSrUU+Ly7LNW8UavuSTNVxpa8fvFHqgknu0j1yJ9KMXB0s6ypI6dFJ\n",
       "8MEmeMjArcGK3BNk43lfsgeErnLOBRKq8MraAwFCyihAtOgBtPoKfOOVO9SBe13qINepnY/PyWXH\n",
       "1+RBgOsa87cPgrLsQUaGx01nqh+nojMBZUAnwWc2l4cUnBGPLYGlJl1ACRcJVXjVkggBsE12AIJF\n",
       "H+DumgtG5Djc53w3CAVW2fn4Tgl9mx6oAn88w+wbjKHq+qYROPC6kaDOY7vXu1jlXC5itTKik+DH\n",
       "ofKQglO/Jw8sNemqyK8SqvCqr/oBgCRlBCBa9AH6R0LdjejkkG9ulznsrcAqOx/fJTeGkik5OOvt\n",
       "+64kpq6/YAFcHOdwEnuiX6w0Y9GZtTKik+CDTeIhAWfky+rAUoOuYroAEqLgVQBJyghAtGBv377f\n",
       "ieji0M1p9sSgWoGVdj6+l5RluGycjvHsM7Bz58M1VF02yGh1G08+6lQvNFdrgQ8oIzoJPthEDyn4\n",
       "Rv4xeGCpQVdRkUBCFLwKIEkZAYgW2xO/mq8iujh0NwHMcNkIrLLz8XnJnvmh9V/Q+I2eCix9QBcN\n",
       "73GA2+1rFeLjO+V/x0M4LRAhzjIAAAAASUVORK5CYII=\n",
       "\" style=\"display:inline;vertical-align:middle;\" /></a><br>"
      ],
      "text/plain": [
       "<IPython.core.display.HTML object>"
      ]
     },
     "metadata": {},
     "output_type": "display_data"
    }
   ],
   "source": [
    "inconsistent_dot_prod = \\\n",
    "    Lambda((x_1_to_n, y_1_to_n), \n",
    "           Add(ExprRange(a, Mult(IndexedVar(x, a),\n",
    "                                 IndexedVar(y, a)), one, m)))"
   ]
  },
  {
   "cell_type": "code",
   "execution_count": 60,
   "metadata": {},
   "outputs": [
    {
     "name": "stdout",
     "output_type": "stream",
     "text": [
      "Expected error: Failure to apply (x_{1}, x_{2}, ..., x_{n}, y_{1}, y_{2}, ..., y_{n}) -> ((x_{1} * y_{1}) +  (x_{2} * y_{2}) +  ... +  (x_{m} * y_{m})) to (a_{1}, a_{2}, ..., a_{j}, b_{1}, b_{2}, ..., b_{k}, c_{1}, c_{2}, ..., c_{j}, (1 * d_{1}), (2 * d_{2}), ..., (k * d_{k})) assuming {j in Natural, k in Natural, (j + k) = n}:\n",
      "Improper replacement: Improper replacement of (x_{1} * y_{1}), (x_{2} * y_{2}), ..., (x_{m} * y_{m}) via {(x_{1}, x_{2}, ..., x_{n}): (a_{1}, a_{2}, ..., a_{j},b_{1}, b_{2}, ..., b_{k}), (y_{1}, y_{2}, ..., y_{n}): (c_{1}, c_{2}, ..., c_{j},(1 * d_{1}), (2 * d_{2}), ..., (k * d_{k})), x: {(x_{1}, x_{2}, ..., x_{n})}, y: {(y_{1}, y_{2}, ..., y_{n})}}:\n",
      "Failure to expand (x_{1} * y_{1}), (x_{2} * y_{2}), ..., (x_{m} * y_{m}) because there is no explicit expansion for (y_{1}, y_{2}, ..., y_{m}).  The known expansions for this variable are {(y_{1}, y_{2}, ..., y_{n}): (c_{1}, c_{2}, ..., c_{j},(1 * d_{1}), (2 * d_{2}), ..., (k * d_{k}))}.\n",
      "(Note that multiple, equivalent expansion forms may be provided to fulfill this requirement and ExprTuple.align_ranges may be useful). \n"
     ]
    }
   ],
   "source": [
    "try:\n",
    "    inconsistent_dot_prod.apply(*x_operands, *y_operands, requirements=requirements)\n",
    "    assert False, \"Expected an LambdaApplicationError error.\"\n",
    "except LambdaApplicationError as e:\n",
    "    print(\"Expected error:\", e)"
   ]
  },
  {
   "cell_type": "markdown",
   "metadata": {},
   "source": [
    "However, we may supply *equivalent alternative expansions*, `equiv_alt_expansions`, to handle such cases as appropriate.  This was covered in the previous chapter and will not be revisited here."
   ]
  },
  {
   "cell_type": "markdown",
   "metadata": {},
   "source": [
    "All of the expansions within an **ExprRange** must match with respect to the indices of their **ExprRanges**.  That means that the number of entries of the expansions must match:"
   ]
  },
  {
   "cell_type": "code",
   "execution_count": 61,
   "metadata": {},
   "outputs": [
    {
     "name": "stdout",
     "output_type": "stream",
     "text": [
      "Expected error: Failure to apply (x_{1}, x_{2}, ..., x_{n}, y_{1}, y_{2}, ..., y_{n}) -> ((x_{1} * y_{1}) +  (x_{2} * y_{2}) +  ... +  (x_{n} * y_{n})) to (a_{1}, a_{2}, ..., a_{j}, b_{1}, b_{2}, ..., b_{k}, y_{1}, y_{2}, ..., y_{n}) assuming {j in Natural, k in Natural, (j + k) = n}:\n",
      "Improper replacement: Improper replacement of (x_{1} * y_{1}), (x_{2} * y_{2}), ..., (x_{n} * y_{n}) via {(x_{1}, x_{2}, ..., x_{n}): (a_{1}, a_{2}, ..., a_{j},b_{1}, b_{2}, ..., b_{k}), (y_{1}, y_{2}, ..., y_{n}): (y_{1}, y_{2}, ..., y_{n}), x: {(x_{1}, x_{2}, ..., x_{n})}, y: {(y_{1}, y_{2}, ..., y_{n})}}:\n",
      "When expanding IndexedVars within an ExprRange whose parameter is the index, their expansion ExprRange indices must all match. (y_{1}, y_{2}, ..., y_{n},) vs (a_{1}, a_{2}, ..., a_{j}, b_{1}, b_{2}, ..., b_{k}) do not match as respective expansions for y_{_a} and x_{_a}.\n",
      "ExprTuple.align_ranges may be useful.\n",
      "Using multiple, equivalent expansion forms could also help. \n"
     ]
    }
   ],
   "source": [
    "try:\n",
    "    dot_prod_lambda.apply(a_1_to_j, b_1_to_k, y_1_to_n, requirements=requirements)\n",
    "    assert False, \"Expected an LambdaApplicationError error.\"\n",
    "except LambdaApplicationError as e:\n",
    "    print(\"Expected error:\", e)"
   ]
  },
  {
   "cell_type": "markdown",
   "metadata": {},
   "source": [
    "They must match with respect to which entries are singular versus **ExprRanges**:"
   ]
  },
  {
   "cell_type": "code",
   "execution_count": 62,
   "metadata": {},
   "outputs": [
    {
     "data": {
      "text/html": [
       "<strong id=\"defaults.assumptions\">defaults.assumptions:</strong> <a class=\"ProveItLink\" href=\"__pv_it/exprrange_reductions/7dff45cdbdce902046a339a5b75e8605b45eb0ea0/expr.ipynb\"><img src=\"data:image/png;base64,iVBORw0KGgoAAAANSUhEUgAAATgAAAAZBAMAAABX1i9+AAAAMFBMVEX///8AAAAAAAAAAAAAAAAA\n",
       "AAAAAAAAAAAAAAAAAAAAAAAAAAAAAAAAAAAAAAAAAAAv3aB7AAAAD3RSTlMAZkRUmRDNuyLviTJ2\n",
       "3asqG0tJAAAACXBIWXMAAA7EAAAOxAGVKw4bAAAEG0lEQVRIx81XXYgTVxT+ktlJsplkNqhvisaW\n",
       "9qFUDYg/iGAUbbG1ME9tH7pOii74IDoqNC7+MPbBUkGM+1IqlUYoFKGUPBSl0NJ5aNW2VgJ21ZfY\n",
       "FNFdUWF1WbuyL557ZzIzd5ybWChdD+ydOznn+/a759577h0Ac9DN+jBLVmaNUu4ak54tcZ+w5l38\n",
       "L+Lsf+tIONTsifMM/vORgbNPit3EqX9Vh5D9ckTiDiiY5UoymtdljlEgU4v17Eu2oU5EMnfeEJNa\n",
       "WgqYntLhppSC2ZoYPN47zWQXJOKu0IKvx3oe2GeAGt6sDlerPvqCGKPfyBbQ772kyhIKV3slBg9s\n",
       "Z82QRJxpYKAY67llpWw0u685fRV2IO+9DJSkFGzPC+lZ3OlMsmaehD5VwE9CqnOHWtd4Z3xBpiIT\n",
       "1wnSjzhHfXHLfJ6LrVZFoCDrFwjWes/kFPcZkiJm4Y/we3JnJ3Bcb/wmEecH6fa9XL0j7mzH/eov\n",
       "UQqylbHisjUvQ7GWq+EO/bcr739zkL8f9QcxDitdFMWpl9tikG6nsbcjbhfWbGLPzNAzFGRvhfCB\n",
       "uFRb+cpAth3dv7ePXXR4Xqs0gPR9mLzc7EDA/J062hROiD6chBCk21p5cNBT/lBZzd0p+xkKsg9D\n",
       "+ECcWVj+aQEJvgjeaTG7ybr1w446DWgzNGK8lLdwosF+roTEJUqrxCpzyV2/QZBuY64y7PaV6Zc1\n",
       "rjoVS3E1hA/Erfu4dM6GEilmyeJ1ZGZoDh7hT8Awi1jH5ko7TeKve8y4rYsoQ+HrNwgicbpx10vr\n",
       "yYbb+Z4lwIpSjAR4StHnXoo2z+eEE5Hirj4CC6XHLjYCsKVHr1Zo2NiqRupqX1MMInFq25vW/Pa3\n",
       "vcIaSzES4EOZu7aRjSgZPQaUCeg0PRk+rUzZQ5X93Awza44lgvJuvW6GxOEHb8OYpWVu6vKxFFdD\n",
       "eF+cOpmcYVqakTVHygYKBrRpjNHbKUpjlv182Wc+QH+/++K4cpxw67UflCY5ufM0X9RfZJglhxcA\n",
       "J0LBsQdDeF9cYkqdzNEjkgP012mV1dlu/ZXnL1fh05/yy/w2Ng3+0jd5b5FXADpBvPMG1Mc8+Waj\n",
       "7iPDFBz7bQjvi9Mr6kw25gClzXkh0UCixip7sgn1b/4f1bFXXP+5J1bnQOQTMsraMS+NXpC2+zP3\n",
       "xtWi1O1Dbotb/7buNQQKjv0xhPfFpUv4mSp2PnqALiGSuSS6jX7BlfzaO74itoI1X0iCFPH8ee1Q\n",
       "qxLF5hshvL8hXDsuP1slt5KIUdCtxJTEme2JRaIcxi8W/OvltxKt9hzaVAfaZF52X/ygF5ZsvxSf\n",
       "sSTAhexm8xziaE9hywaZ1+mJZeVPhk/L7uk3en9D/EeWkY7gUrdvCKWOF9L411eP79ZZM7qAPQWb\n",
       "LjpnutI6CwAAAABJRU5ErkJggg==\n",
       "\" style=\"display:inline;vertical-align:middle;\" /></a><br>"
      ],
      "text/plain": [
       "<IPython.core.display.HTML object>"
      ]
     },
     "metadata": {},
     "output_type": "display_data"
    }
   ],
   "source": [
    "from proveit.numbers import NaturalPos\n",
    "defaults.assumptions = [InSet(n, NaturalPos)] + param_indep_assumptions"
   ]
  },
  {
   "cell_type": "code",
   "execution_count": 63,
   "metadata": {},
   "outputs": [
    {
     "data": {
      "text/html": [
       "<strong id=\"x_partition\">x_partition:</strong> <span style=\"font-size:20px;\"><a class=\"ProveItLink\" href=\"../packages/proveit/numbers/number_sets/natural_numbers/__pv_it/theorems/132c57ec1224a4beaf274a23bd799047020206590/expr.ipynb\"><img src=\"data:image/png;base64,iVBORw0KGgoAAAANSUhEUgAAAEEAAAATBAMAAAA9n32KAAAAMFBMVEX///9mZmYQEBCYmJgyMjKq\n",
       "qqrMzMwiIiJERER2dnbc3Nzu7u5UVFSIiIi6uroAAAA6K1lcAAAAAXRSTlMAQObYZgAAAAlwSFlz\n",
       "AAAOxAAADsQBlSsOGwAAAPlJREFUKM9jYMAHGBkIAQ6yVWz/0bKBYdKnB3jMaOU7wMD9AZ8txxdM\n",
       "ZmBQYJDoaOroMMCq4mgDywKGAmxm3CgvdwDRp2y5HLCqeHIbyjjFk3AToYLvzq65vWBxLm+Y0lMM\n",
       "DRwP4Co4Oc4y7F8AYrEsQKhI5K4ugIXpO/YGhvUJYBUMCBXMAREKMN6G/Q8Y4jeAWEnlQNAAUcFw\n",
       "mgeugiGegeEImLEDyQyGPdwFcC5Q+jM3iMGOrILtQgOcq8nA+psTxOC9ABNqA+JrcBVc3xh4HczA\n",
       "TFeYGIjB6ADj8RUwcB8OADP39IFdzJDyCaif2wFbfLxsL8cUBwB3/0NP0Yie0QAAAABJRU5ErkJg\n",
       "gg==\n",
       "\" style=\"display:inline;vertical-align:middle;\" /></a> <a class=\"ProveItLink\" href=\"__pv_it/exprrange_reductions/30b215fd712593f4afc04f1a52ea02932b2240160/proof.ipynb\" style=\"text-decoration: none\">&nbsp;&#x22A2;&nbsp;&nbsp;</a><a class=\"ProveItLink\" href=\"__pv_it/exprrange_reductions/2a391ceb6bd9980fe06473e42f3a7a1b5388272e0/expr.ipynb\"><img src=\"data:image/png;base64,iVBORw0KGgoAAAANSUhEUgAAAKMAAAAuBAMAAAC2bLS1AAAAMFBMVEX////MzMxUVFRERES6uroi\n",
       "IiIQEBCYmJhmZmYyMjLu7u52dnaqqqqIiIjc3NwAAACW8nlqAAAAAXRSTlMAQObYZgAAAAlwSFlz\n",
       "AAAOxAAADsQBlSsOGwAAAoZJREFUSMftlj9oFEEUxr+Ld3vr3N3mUqQxiNFCQYlEsBIiV6VS/ANB\n",
       "CSkuYCtsJRai1yRnIkI6wWolRYIQEgQLiUXsjEFcUohBTq4RxUKTUgXj2527ub2ZTXaOOTsf7O68\n",
       "N2+/nZk3zP4A1GFicW8X1owkL8bENowUUXCVEJszk8RjJWK7hpK3lYhlqAjLkyPrppIHlWk+oGtp\n",
       "88lqpO6SG2PRjNyg3PuIrkphyL7cCklujEUzsmF9p8YCuxpGJihYz/7qcbHQqD132eoxby/Fxgvc\n",
       "8mW5+waQgk1qqVrju9y1sfdIeUbT2Y6RpKr5weeEROD2lpydfcrsi2ZaGeVEcLtUZ15EMnCz3n6S\n",
       "YUb18AcxkuhajgDzpePI8T4G4SJHvrqcrYyFUdeiQyM7LKc8A94dmsYFLrk8J1z0e2A/wWOiEcn4\n",
       "toVe+qS9Ikv2A4u1fHWNS2bGheuco94xeidTocZ1NBqRjCGMBoGSLJkpNlvhorwRHV/xnWLqzFsZ\n",
       "k7ifAj6re6zSJilm4Zzpm0W4ppK1MrZx5RVQVVPONzNe/PbBxOawdndpwy2p5REZ6UF8dOEMq5Lz\n",
       "bQeq1OmrR67kH4j5Uzi+0UH0Cf/tn1q962KGaBBHChtdnXJACsZooJKCMRqopGB1udhECutdliRS\n",
       "SEYDVjs58LITUkhGAxub/lQnpJCMBndxzzuBL2+P6pJCMhoUMUP3U3ivSwo6aHCTrj481yUFDTRI\n",
       "/8FTelzTJYVENGBne8rBP2zL1yWFRDTI7yyW07RF2IhECsKTSSERDdhD//WdYEBHiu2kwHEhhhQ0\n",
       "0YBN4oerSQq6aDCOW54uKWiiwUDttDYpdIIGmqRgiAYqKfwFuq0OrpK6VqIAAAAASUVORK5CYII=\n",
       "\" style=\"display:inline;vertical-align:middle;\" /></a></span><br>"
      ],
      "text/plain": [
       "<IPython.core.display.HTML object>"
      ]
     },
     "metadata": {},
     "output_type": "display_data"
    }
   ],
   "source": [
    "x_partition = x_1_to_n.partition(one)"
   ]
  },
  {
   "cell_type": "code",
   "execution_count": 64,
   "metadata": {},
   "outputs": [
    {
     "data": {
      "text/html": [
       "<strong id=\"x_operands_new\">x_operands_new:</strong> <a class=\"ProveItLink\" href=\"__pv_it/exprrange_reductions/462c4b9847b84719417afc173d1713ace7021e9b0/expr.ipynb\"><img src=\"data:image/png;base64,iVBORw0KGgoAAAANSUhEUgAAAKMAAAAVBAMAAADY0UPbAAAAMFBMVEX////MzMxUVFRERES6uroi\n",
       "IiIQEBCYmJhmZmYyMjLu7u52dnaqqqqIiIjc3NwAAACW8nlqAAAAAXRSTlMAQObYZgAAAAlwSFlz\n",
       "AAAOxAAADsQBlSsOGwAAAf1JREFUOMutlT1oFEEYhp+L97PO5TaXIo1BjBYKSiSCVSByVSpFLUQJ\n",
       "KS5gK2wlFqLX6JmIcJ1gtcEiQRAPwUJiETt/EJcUYpAL14hioZdSBeM3O7ezmyN31X5wM/MM+74z\n",
       "33y7c0CbFCM0K62naXlON+/TdKTkgWqkaskjcLx0LW9APl1H8j5vU7bc73Ffuqcby2uJuvegah0f\n",
       "fzXQJikoTvBQulpp0rkQP9GDDhvBnYGWSUGhwby07cKfIY+Vbu0NqrUjvuFb3PaP8e3D4X6OXb2J\n",
       "4SpXIYMjbplWdyGDDtHCZRalPcGnfpZGEEFHW0qZAu1vk9U4UnG3I74mv1FeDChzYIfZqk4czreV\n",
       "n7DUWPCtZfYfT6S73N8yFNQPfjYbm4HHlaMUzS4VFikKy3Gq00NVmrAZhNgTsWBl1svLpVGY4jl8\n",
       "PHCXs8byWcMiYz7qt0xvr1az8oqomRDDR8KBJSP4scmILOk0GYPV1nB93Vjm5iy606K4JLYPgjc3\n",
       "9YYOlTWSq8n4Ct0mIZhkVk9UyJWjHMKzfGdT+s5PmYtSVQv88mKMIxYscC8DXyX32i7LZkTuqdEl\n",
       "wjM1Mcd1P4E2YkGHi6+hLsMz0dTLvwHKvg35nZ2OfGpWOt46mURbHivITvDFw53S9dp1g/YogoG4\n",
       "h2Cf/qdwgzQvoi34Dzuyk+PAJnYrAAAAAElFTkSuQmCC\n",
       "\" style=\"display:inline;vertical-align:middle;\" /></a><br>"
      ],
      "text/plain": [
       "<IPython.core.display.HTML object>"
      ]
     },
     "metadata": {},
     "output_type": "display_data"
    }
   ],
   "source": [
    "x_operands_new = x_partition.rhs"
   ]
  },
  {
   "cell_type": "code",
   "execution_count": 65,
   "metadata": {},
   "outputs": [
    {
     "data": {
      "text/html": [
       "<a class=\"ProveItLink\" href=\"__pv_it/exprrange_reductions/b6b9df09a86ee336c16dc04a696db298736aaaf60/expr.ipynb\"><img src=\"data:image/png;base64,iVBORw0KGgoAAAANSUhEUgAAAnIAAAAVCAMAAAD1nvNsAAAANlBMVEX///8AAAAAAAAAAAAAAAAA\n",
       "AAAAAAAAAAAAAAAAAAAAAAAAAAAAAAAAAAAAAAAAAAAAAAAAAABHL6OuAAAAEXRSTlMAInZUiRDN\n",
       "mWbv3US7qzLz6SJmQj4AAAAJcEhZcwAADsQAAA7EAZUrDhsAAASwSURBVGje5VrbEqsqDBUQQVHP\n",
       "8f9/dqMtmkBC46V7Zk95aFqTZiWLcBFtmthU86NNXTFW38ZTfymhv+e3oE6bXy25oOW2iaU7bInw\n",
       "vg5wvt2tkBRWkqZtfrZpL7VMLN1jS4D3dYDz7X6FpLBe0nbND7fOyuwSS3fZ+oj3dYDz7YkKSWFt\n",
       "0vlfLjnvZHaJpbts5XjBM0CPJRTOOnw8JBjWJvvmp1tPzwo62zD3mXwKz+Sbr6cBSoSPy+jjIcGw\n",
       "ojTdb5dctw9h1FUGTxaJpftsdb7av48D3C+5ZyokhRWle28NrdaTnduWvjepa2U7gg8urN4mcDud\n",
       "VsrQGQftfmVA1/GvxJKMrRpiO1X793GA+yV3IiQBz1Gm6oujWk+6cQO9lalqZbuhDy7axqwzuF9O\n",
       "KyWNdeA7usjMyIxRKR8Mou+q/fs4wP2SOxGSgOcoh1fRerXa2WYit4p1rWz/+MHFbF7JTONZpaTx\n",
       "DkxPl1yjR7DSvlmSsVVFNH21fx8HuF9y8pAkPEfZh5ftWsZpfNh8pECtbdtpOn8njgCoGTnuLNdc\n",
       "148CHyivwUPvWVz7ePzv/wG1ZQnH5jcgybNll66ez47nNpC+38SUAfGEUwDI4kiIRqgtRNKQCnqp\n",
       "rGmeo+wBr2+7WWti8kxat8V27a6lOuBCHEIxopnE35VX4XcH+XVulgtdaLiSq7A1uHo+oT7LEQBZ\n",
       "xgQAsghPz3JESEUjgmJ4jnIwh3GcOu02WMxAdNlbu459VboU9foOQI6xdaTonsbflVfhgXdM8ECX\n",
       "3IzOVLOF9SNbfD6ZMbOKiQinOcmjeWph/dyBIp6jHDcAO4Zm6rftH9S/vSOttyk/0fJGunA+jnyX\n",
       "nU2MU/rI8aHyGjx0AMHjz5EuuQ4dzI0aSoatrBH5IDyyfwmAI2MOAFn48eGSo0LCHNJB0TxH+bp5\n",
       "NctsXXQYDCQxLdGZNsIOcAEHSzn7BbqwPvRxD9orZNm4aR1HnsDHyhy+/EJdSg4QODgCiNrKuRy4\n",
       "xWfZKsZ7kQ/GI/uXBHhnXAEAFhlAhlDlSBpSziEVFMdzlPMWqnVaR5q9wbPgMFhCG/9jgRYu5cSX\n",
       "0oWyek1ysQ3yYqdWu0UR+FhZwJegBfzhAINHg0Df7ONZZR6gZNjKJ9gynxIv718SIGXMAwCLPKEM\n",
       "geLInQwp55AKiuN5lQMxZe8UGcqrSscHRrK2UUaTBttcaNB2Ffy38jr8ywECV8I7kcRSlS2icrN8\n",
       "Crxi2aMA1Gg/ABwWRUL3H3gRISEOmaBInjdJPdjeKaLeWlHxD0pxWuJwkLh1jUk418zQYI3T9obG\n",
       "B8pr8MABApc+skaPpUUlR+ZT4BXP0AmAI2MOAFgUCd1/rE+EhDhkgiJ5fslRsSRaTQ25eZ6dZbTE\n",
       "ExDCxbKNHTNDgyHKqWXwD+VFeOAAgivx2XJiqcJWNjcQ+UjwCoAjYw4AWKirh+XnQoIcckFRPL+l\n",
       "zaNUbbe0W1dRndova+O0RaOMwroh1a1HBsZrFzj8Q3kR/nCAwEfxG9aJpQpbWSES+UjwCoAjYw4A\n",
       "WIzfeBW9CAlxyARF8pyk+s7by/9A0yc6KLF0hy0R3tcBzre7FZLC2uQfI803GYuu7T4AAAAASUVO\n",
       "RK5CYII=\n",
       "\" style=\"display:inline;vertical-align:middle;\" /></a>"
      ],
      "text/plain": [
       "(x_{1}, x_{2}, ..., x_{n}, y_{1}, y_{2}, ..., y_{n}) -> ((x_{1} * y_{1}) +  (x_{2} * y_{2}) +  ... +  (x_{n} * y_{n}))"
      ]
     },
     "metadata": {},
     "output_type": "display_data"
    }
   ],
   "source": [
    "dot_prod_lambda"
   ]
  },
  {
   "cell_type": "code",
   "execution_count": 66,
   "metadata": {},
   "outputs": [
    {
     "name": "stdout",
     "output_type": "stream",
     "text": [
      "Expected error: Failure to apply (x_{1}, x_{2}, ..., x_{n}, y_{1}, y_{2}, ..., y_{n}) -> ((x_{1} * y_{1}) +  (x_{2} * y_{2}) +  ... +  (x_{n} * y_{n})) to (x_{1}, x_{2}, x_{3}, ..., x_{n}, a_{1}, a_{2}, ..., a_{j}, b_{1}, b_{2}, ..., b_{k}) assuming {n in NaturalPos, j in Natural, k in Natural, (j + k) = n}:\n",
      "Improper replacement: Improper replacement of (x_{1} * y_{1}), (x_{2} * y_{2}), ..., (x_{n} * y_{n}) via {(x_{1}, x_{2}, ..., x_{n}): (x_{1},x_{2}, x_{3}, ..., x_{n}), (y_{1}, y_{2}, ..., y_{n}): (a_{1}, a_{2}, ..., a_{j},b_{1}, b_{2}, ..., b_{k}), x: {(x_{1}, x_{2}, ..., x_{n})}, y: {(y_{1}, y_{2}, ..., y_{n})}}:\n",
      "When expanding IndexedVars within an ExprRange whose parameter is the index, their expansion ExprRange indices must all match. (a_{1}, a_{2}, ..., a_{j}, b_{1}, b_{2}, ..., b_{k}) vs (x_{1}, x_{2}, x_{3}, ..., x_{n}) do not match as respective expansions for y_{_a} and x_{_a}.\n",
      "ExprTuple.align_ranges may be useful.\n",
      "Using multiple, equivalent expansion forms could also help. \n"
     ]
    }
   ],
   "source": [
    "try:\n",
    "    dot_prod_lambda.apply(*x_operands_new.entries, a_1_to_j, b_1_to_k, requirements=requirements)\n",
    "    assert False, \"Expected an LambdaApplicationError error.\"\n",
    "except LambdaApplicationError as e:\n",
    "    print(\"Expected error:\", e)"
   ]
  },
  {
   "cell_type": "markdown",
   "metadata": {},
   "source": [
    "Each of the start indices must match:"
   ]
  },
  {
   "cell_type": "code",
   "execution_count": 67,
   "metadata": {},
   "outputs": [
    {
     "data": {
      "text/html": [
       "<strong id=\"x_shift_equiv\">x_shift_equiv:</strong> <span style=\"font-size:20px;\"><a class=\"ProveItLink\" href=\"../packages/proveit/numbers/number_sets/natural_numbers/__pv_it/theorems/132c57ec1224a4beaf274a23bd799047020206590/expr.ipynb\"><img src=\"data:image/png;base64,iVBORw0KGgoAAAANSUhEUgAAAEEAAAATBAMAAAA9n32KAAAAMFBMVEX///9mZmYQEBCYmJgyMjKq\n",
       "qqrMzMwiIiJERER2dnbc3Nzu7u5UVFSIiIi6uroAAAA6K1lcAAAAAXRSTlMAQObYZgAAAAlwSFlz\n",
       "AAAOxAAADsQBlSsOGwAAAPlJREFUKM9jYMAHGBkIAQ6yVWz/0bKBYdKnB3jMaOU7wMD9AZ8txxdM\n",
       "ZmBQYJDoaOroMMCq4mgDywKGAmxm3CgvdwDRp2y5HLCqeHIbyjjFk3AToYLvzq65vWBxLm+Y0lMM\n",
       "DRwP4Co4Oc4y7F8AYrEsQKhI5K4ugIXpO/YGhvUJYBUMCBXMAREKMN6G/Q8Y4jeAWEnlQNAAUcFw\n",
       "mgeugiGegeEImLEDyQyGPdwFcC5Q+jM3iMGOrILtQgOcq8nA+psTxOC9ABNqA+JrcBVc3xh4HczA\n",
       "TFeYGIjB6ADj8RUwcB8OADP39IFdzJDyCaif2wFbfLxsL8cUBwB3/0NP0Yie0QAAAABJRU5ErkJg\n",
       "gg==\n",
       "\" style=\"display:inline;vertical-align:middle;\" /></a> <a class=\"ProveItLink\" href=\"__pv_it/exprrange_reductions/b3b9cbc5b48fcd230110221638aad29f5724adf30/proof.ipynb\" style=\"text-decoration: none\">&nbsp;&#x22A2;&nbsp;&nbsp;</a><a class=\"ProveItLink\" href=\"__pv_it/exprrange_reductions/cb43d552ee8892183a8f934a42f861ea51a2aa590/expr.ipynb\"><img src=\"data:image/png;base64,iVBORw0KGgoAAAANSUhEUgAAAY0AAAAZBAMAAAA/CW8DAAAAMFBMVEX////MzMxUVFRERES6uroi\n",
       "IiIQEBCYmJhmZmYyMjLu7u52dnaqqqqIiIjc3NwAAACW8nlqAAAAAXRSTlMAQObYZgAAAAlwSFlz\n",
       "AAAOxAAADsQBlSsOGwAAA6NJREFUWMPNWE1oE0EUfkm32XXz04joQSkNHhQEIRJRECwBoRcVq1AU\n",
       "8RCxRws5iCj4E6y1/iDkJnhxtIcWQVq8aSrUQ6Fa0FBQKiWSiyIKtgUvRmmdn93ZmdndtLDt4oOm\n",
       "+2bf+775dt7MzizAOpiehzDNWC/gqVBlQCpL/9UDgXhkm+VwdcBV8pOcCIRx1N3UUgxZRyvCP9PB\n",
       "MJLuTn8NWQYkM2tQBA9dLffC1mE28GQPWgSXXC2/wtYBDwBiQTFiSGmINELX0Q/wJijGBnVAk92h\n",
       "6/jIivnZzOOKsGoproeJEfGMcjNaboZh1nZtG19t/1buCbNjiJQWlJK7DeEhKq6HiRE6XSgGeoid\n",
       "oMtuthmGATPVgdXqsFDeqe1Vxe9Iwxnck7reiBZh2Fq5mGtWtiPffQdLYJYoqIWW4RGVOT4Ml62L\n",
       "a3Ad7XRc4LT+PPI2h6QaIOPO56EXT0wwMFakZj0/5hrgPyYswnYW1LdSyY7QqxodG/zX/sG6m4Y7\n",
       "3CXd4bT+PE+kRpKqjYGEO0p14DWHDFSCAxK3LZ9abLJIOSOreY0Hi4ilYQlf0u3PJL/fx90WkGj9\n",
       "eG7KbZP2S8vBnad1hedJ3UQCIHF11EwHjRhsn+X9EOYH00Ei5hGcd+nQluDpqnXQjnWDReXoGJd1\n",
       "dNThIMBQfgfEGaAJ3IV4N3UVQzxiuKsYw7tEPauuV1k7ogPBSZEP55p7owUYc+lATXhSZZvK0TEl\n",
       "68Dr1XOA91tvwREGOFrmLmxG1KU/5m/xgkV8/wRtmM0YU98fBTsC6+gT+EhuYnGkoE2oOmR4hQfP\n",
       "MYvK0XFI1nER9xZgpJYYnGCArae5mzrAXDpv4ZR90YN4xG7oIq3qoUlr2BG4rv4audy53H7Gh3PN\n",
       "+9WpK4y+P7cvlyuy8SCofjyJDKOK5LB1MqRNIOLCDZyUtvkp4FvenW/wU3R5lFMCZ+F2BOCLK6SX\n",
       "z1Jlngu5Sl0lkD9PJGtT+dYVfgnqJUkHL5LUno13BZdb3DmGLcDx1wCD/vvdZFXLiHxx8NMRb8KD\n",
       "57lF5aTWJB1kvwuddrde/KmCydfT2PLyguA6WwWnfjIwV7QPlaJt4VeVWWTx/Xj0SsylLtVBaYU7\n",
       "bh7cQ0YlpHaCiKuTpzUkzVFlyrrXK1VZi/tgG1W2RFnfXF9UqeWwe5OWlXBbSR9S1UBbzc8rn89L\n",
       "AT90GHXvlpJ0Pl8Hm15jvJdqwwWv7yX///cr0+slKYwOdv8BP1E4RSm9AcMAAAAASUVORK5CYII=\n",
       "\" style=\"display:inline;vertical-align:middle;\" /></a></span><br>"
      ],
      "text/plain": [
       "<IPython.core.display.HTML object>"
      ]
     },
     "metadata": {},
     "output_type": "display_data"
    }
   ],
   "source": [
    "from proveit.numbers import zero\n",
    "x_shift_equiv = x_1_to_n.shift_equivalence(new_start=zero)"
   ]
  },
  {
   "cell_type": "code",
   "execution_count": 68,
   "metadata": {},
   "outputs": [
    {
     "data": {
      "text/html": [
       "<strong id=\"x_operands_shifted\">x_operands_shifted:</strong> <a class=\"ProveItLink\" href=\"__pv_it/exprrange_reductions/4e095a606f9011d7d9f43dbdf16d8860828210c60/expr.ipynb\"><img src=\"data:image/png;base64,iVBORw0KGgoAAAANSUhEUgAAAOgAAAAZBAMAAADJSX/3AAAAMFBMVEX///9UVFQiIiKIiIjMzMx2\n",
       "dnYQEBDc3NxEREQyMjLu7u5mZmaqqqq6urqYmJgAAAB66f/FAAAAAXRSTlMAQObYZgAAAAlwSFlz\n",
       "AAAOxAAADsQBlSsOGwAAAoFJREFUSMe9Vs+L00AU/tqmTTdp2gVBVETEi6CX1IDngggigoXiQREJ\n",
       "KOhJchG8mZPm4lL/AivrYXXBDQr+AiV4EfRgPSx4ELaiIKKLl5XFwoJvJnWS6Wy6PSwJ9E3evG/e\n",
       "l/f65s0AWEWuT8hELcyX9DoTD/LlRN0mMZczKQ4Bups3aRMw23mTLvXQ6OdNOjPA6V7epKaPI3lz\n",
       "ouRiNw2Gs+f4+U0B8837Z6IpnU2LtYYIWMBo2o83bx+lHeb+aVtNjH2rRDama2u4Q8N3/O7tQ7kj\n",
       "CvlRd7SRvfqwMBAq5eRH9qaPsXW5MNnSUNKgb+AwDS28IPkVn3jU9C3OKDoNZleobO2x7BKIsbgn\n",
       "T7Kly5D8Ghs8UuAi/S6h4QFV3o9FSiu2UH0m3kzIL8e+kufY0hm2QRK/epxeWOt4qA9RiRTSFc/o\n",
       "TUvKsQT9+c0J06TlSCLV1rGL4r1dcNHWhigOUkaDxoX+TpSVSNWdnWD1LozVq7icJuXnWEJK1XuU\n",
       "XtcWXSsiUpYfYVyif+jDyaf4PE5q/EVs5UJoMdbyoc93MUyTWr5EWnex0oPxxH7/C5TeRvQ8uBkE\n",
       "A24s0mmw6NReRxxrBsGVYC6O9ACFWmRfzwWrxARbmwUKtuXiRECPxz1pPlJ+Yc6iIkp8vJDeSdWQ\n",
       "Sm9Nza/AEgEqLTNsZaeXem9yyjj4KBnbWaRltYYSLEFvoHgqTVqyJb90ymjiPC13Xo6M+tk/Ngz7\n",
       "v4GrMem1ux3qd2ohCSxugb69dCG9tOql/eILve2V11ezulccKXtsTOh0y2oaFiS/OKjekczJ17it\n",
       "Dy5PmXom+eV3pNo2Xx3OKU25r94Gt/vea2wxQYXzD8HWrh/eEKyvAAAAAElFTkSuQmCC\n",
       "\" style=\"display:inline;vertical-align:middle;\" /></a><br>"
      ],
      "text/plain": [
       "<IPython.core.display.HTML object>"
      ]
     },
     "metadata": {},
     "output_type": "display_data"
    }
   ],
   "source": [
    "x_operands_shifted = x_shift_equiv.rhs"
   ]
  },
  {
   "cell_type": "code",
   "execution_count": 69,
   "metadata": {},
   "outputs": [
    {
     "name": "stdout",
     "output_type": "stream",
     "text": [
      "Expected error: Failure to apply (x_{1}, x_{2}, ..., x_{n}, y_{1}, y_{2}, ..., y_{n}) -> ((x_{1} * y_{1}) +  (x_{2} * y_{2}) +  ... +  (x_{n} * y_{n})) to (x_{0 + 1}, x_{1 + 1}, ..., x_{(n - 1) + 1}, y_{1}, y_{2}, ..., y_{n}) assuming {n in NaturalPos, j in Natural, k in Natural, (j + k) = n}:\n",
      "Improper replacement: Improper replacement of (x_{1} * y_{1}), (x_{2} * y_{2}), ..., (x_{n} * y_{n}) via {(x_{1}, x_{2}, ..., x_{n}): (x_{0 + 1}, x_{1 + 1}, ..., x_{(n - 1) + 1}), (y_{1}, y_{2}, ..., y_{n}): (y_{1}, y_{2}, ..., y_{n}), x: {(x_{1}, x_{2}, ..., x_{n})}, y: {(y_{1}, y_{2}, ..., y_{n})}}:\n",
      "When expanding IndexedVars within an ExprRange whose parameter is the index, their expansion ExprRange indices must all match. (y_{1}, y_{2}, ..., y_{n},) vs (x_{0 + 1}, x_{1 + 1}, ..., x_{(n - 1) + 1},) do not match as respective expansions for y_{_a} and x_{_a}.\n",
      "ExprTuple.align_ranges may be useful.\n",
      "Using multiple, equivalent expansion forms could also help. \n"
     ]
    }
   ],
   "source": [
    "try:\n",
    "    dot_prod_lambda.apply(*x_operands_shifted.entries, y_1_to_n, requirements=requirements)\n",
    "    assert False, \"Expected an LambdaApplicationError error.\"\n",
    "except LambdaApplicationError as e:\n",
    "    print(\"Expected error:\", e)"
   ]
  },
  {
   "cell_type": "markdown",
   "metadata": {},
   "source": [
    "And each of the end indices must match:"
   ]
  },
  {
   "cell_type": "code",
   "execution_count": 70,
   "metadata": {},
   "outputs": [
    {
     "data": {
      "text/html": [
       "<strong id=\"defaults.assumptions\">defaults.assumptions:</strong> <a class=\"ProveItLink\" href=\"__pv_it/exprrange_reductions/7d4896d09909307caef340d73bb316cd17cdfc940/expr.ipynb\"><img src=\"data:image/png;base64,iVBORw0KGgoAAAANSUhEUgAAAOsAAAAVBAMAAABVvASPAAAAMFBMVEX///8AAAAAAAAAAAAAAAAA\n",
       "AAAAAAAAAAAAAAAAAAAAAAAAAAAAAAAAAAAAAAAAAAAv3aB7AAAAD3RSTlMAInZUiRDNmWbv3US7\n",
       "qzJazP2FAAAACXBIWXMAAA7EAAAOxAGVKw4bAAADb0lEQVRIx6VWXUgUURQ+O7uz/7POQ0g/D45S\n",
       "+mIxlfkkuG8lFAw+9CDKroXYS7RI/0Es+dBbSk9mQRumD4vR0h8RhGNSoFasiEEhsfRgFEIri5EY\n",
       "0j1n7uzujDtCeGHn3vOd+ea7554zZxYAZNjekP/XQbigbsLFx+97wHP/rgOt4+87DdrWMoZVgc/H\n",
       "k63wJrwsaxZHWH0NEON7mE7ZeVOhLIh5bhA/8tZ6R+cwbihZWRZxMY6reqtDeuBJQoAb3oSd90U+\n",
       "BjDId0V8IW67pRcvPQ7hMtxXaUtSC3RDkBtVm05xXvfKwM/Ayn9pLgp4uekgy/CAJfyZ9BjJ7lSq\n",
       "i7ITxQQ0ptMU1dwNV9yUtfDhEJ9Dq+TTKssyvLnMDJ3i90nyVyFqyraZ7hf7+GJOyu01ZZsrynoo\n",
       "BV6H5DL8POanLktmtbk7SQ7DrCl7Fpou4OwqpmoO9HCGyyIf2vfbZL1Z91ENPFl7DS/saFQA8TOY\n",
       "HxgitLuYWzmS6OjgNfPHfZDcXrkk+10c5bLIh0QgaZWNJQ/vSoKfUnI1jeMRLqMfFHEFEB9hVq1R\n",
       "ARAvyUK/e9pYu1eeRmg/XijJ+tUWXsnIF2Sz7EzZ1j3qkgzuQWuwocw4uDYAcewJmpsqIDLMdjXO\n",
       "ZSXtMy/VoZyx+IGb1g1ZWJD4I5EvQqtmhHWHh3XlFj0wb2tD4jqgFMOpFfnoxES9LFoxyw852Hud\n",
       "t4CyaKFLTJVkmaItt2OXcK8hW7TgzoMUJ3yEHh0lNFUmC9/CPE3qhBFusFw2ouilQwZ4aJUVC6EN\n",
       "VEnZcss0q5Ia4m/QrDH6a12xOTIhYZmdPlsPaDFVoZdaMd0f2e+Azs6WDeK71q2y/lWxILBJt7+w\n",
       "UZaOKOIn0BzgZW/2I1pcBPE3mz5BLGccxmmTjQtfHGJYgsT3562yUlzc8LB7ojbZmhzU+3OI/0Rz\n",
       "kZ/N4nOaI+fusetJgDQLdwqEPuN97po15qU1nXpxcJQZxJd0q2xYhQbWW4IZm+wr9pB+woOYuNtm\n",
       "hR83mmOxBKzd7dlM2tLyj2DGkR9QbCVljN0OPZnh/gTM+1cd/J6tP/B4howvqQOa/VNA47IDD/HJ\n",
       "SCHo9KVu31JVpBgn4Zc6UtHv0sEZ74S+a04PVraUFfjr7GvIVPSHHf7VEO5StvdXyplf64z/A5Cl\n",
       "2WRfXajqAAAAAElFTkSuQmCC\n",
       "\" style=\"display:inline;vertical-align:middle;\" /></a><br>"
      ],
      "text/plain": [
       "<IPython.core.display.HTML object>"
      ]
     },
     "metadata": {},
     "output_type": "display_data"
    }
   ],
   "source": [
    "defaults.assumptions = param_indep_assumptions"
   ]
  },
  {
   "cell_type": "code",
   "execution_count": 71,
   "metadata": {},
   "outputs": [
    {
     "data": {
      "text/html": [
       "<strong id=\"y_operands_new\">y_operands_new:</strong> <a class=\"ProveItLink\" href=\"__pv_it/exprrange_reductions/9017ea0b5d94f5bbde1fc23b343b4fea17ad81270/expr.ipynb\"><img src=\"data:image/png;base64,iVBORw0KGgoAAAANSUhEUgAAAPgAAAAWBAMAAAAfsUzKAAAAMFBMVEX////MzMxUVFRERES6uroi\n",
       "IiIQEBCYmJhmZmYyMjLu7u52dnaqqqqIiIjc3NwAAACW8nlqAAAAAXRSTlMAQObYZgAAAAlwSFlz\n",
       "AAAOxAAADsQBlSsOGwAAArhJREFUSMfFlk1oE0EUx/8mabKZbDbrod5U8FKkBupFRKjWi9dGUChW\n",
       "QVARBEugp57MRfzoocGL4sVFwYMgG4WCIIVcKlhB14JYUEuoF0GqKXhpjNY3M/sxy5oN2GIGZrIz\n",
       "7/+bmZ333mQBNNCTYvAmX+/N4imHmldgB0rK4IML8VBYvYnynuaqAtmKOninCxRW/3vJWtDKQCF0\n",
       "8u0uUGGL/JSpIE0/o5bqi1YXKKTeTLmEl9TOqkO5bi6d3aqQu41pam992qe4orgYf64hNYzBZUfp\n",
       "rsytdsmwQP+Ulgdbt+wg2e277HdstIfUONZIKn5KTeBIvFdcvUl1CqcBvYW0w6Zc6xsLl9nzPR2n\n",
       "EOrMGW8rF6GV4MMPy7iKOFrqgeNUX+A8oFVRqO1855pvAD81qfhrEWqOyV4TfTX48Awwjlha6GXZ\n",
       "zWeh3mgd8+7QOFLtwoix1gkXaqPp9tJDsEfgw+fAfiCOdvXSA/zYKXFnLJ9vQ2tlrM64UGeGVuX+\n",
       "bQdX4C/OfiHTRBwt9WypLqBhms4kTwieu2qNO44nHIui3C7UieWFCSGw69irNzyYtZGovpbpGnV7\n",
       "oNd0ulcxSfGORDlZEYuzdRoawEFq+y3YXMAbMew/CHX6I8UrH0o6+pgWwMOYr1QEHYb8uaT+UY5f\n",
       "0dPoJ/PgNffkTtJ27z+jFzcOkXNPcQ9z1Zj3wO1C/f26KQWs+GTlrQJ/2FU0BS26YVrRZ2kNnECf\n",
       "6R4K53XvrL7gG7AQTTPPPpkqNVRBCJa0Hj33QF8g2ijx6z3gc941tH/7TaAWoT07ittKNVWgwi6d\n",
       "i4ZMoN/Bs47e/rDsfr03Bzz2EmJjownmRGjPTtCAqQhCsKSDbhBwwYSLVD/zjwfFHFouH916eDv5\n",
       "OCOiW8+r/ynyrQ3nv39BZY+epa306NtRW5LB+AfbCeMNvARBCAAAAABJRU5ErkJggg==\n",
       "\" style=\"display:inline;vertical-align:middle;\" /></a><br>"
      ],
      "text/plain": [
       "<IPython.core.display.HTML object>"
      ]
     },
     "metadata": {},
     "output_type": "display_data"
    }
   ],
   "source": [
    "y_operands_new = [b_1_to_k, a_1_to_j]"
   ]
  },
  {
   "cell_type": "code",
   "execution_count": 72,
   "metadata": {},
   "outputs": [
    {
     "data": {
      "text/html": [
       "<strong id=\"ynew_len_kpj\">ynew_len_kpj:</strong> <span style=\"font-size:20px;\"><a class=\"ProveItLink\" href=\"../packages/proveit/numbers/addition/__pv_it/theorems/bdb040860ba8b035aec6ab4a51daa2ad1ea247650/expr.ipynb\"><img src=\"data:image/png;base64,iVBORw0KGgoAAAANSUhEUgAAADMAAAAQBAMAAABJt1qBAAAAMFBMVEX///+IiIjMzMzc3NyYmJhU\n",
       "VFR2dna6urqqqqpmZmYyMjIiIiIQEBBERETu7u4AAAAsfX+gAAAAAXRSTlMAQObYZgAAAAlwSFlz\n",
       "AAAOxAAADsQBlSsOGwAAAO1JREFUGNNjYMAAr//eesCQ86eAge/OBnS5G+wBDHwfgAyuCehS0QYp\n",
       "DAwHgAz+BnSpiAtcBgwgs+ofQEUYb+/eBWYEOzIvAEvlQGXYF8LUBLMqiIGlljK0zQMJWMFkGIIZ\n",
       "LvAWAKX4vnA0HwEJLGZASGny7QNKcXyuYAKLLkCSYmnoBbqQ84gCmM90evfu3XuhUgxxrEAp7pWT\n",
       "wHy+C0i6GJ7yAQ1831AP0bYBWYpJAKjS/8H7BgGQgCBc6hIQCwGlohjeKySABLjgobICiDmBrrrB\n",
       "wDgR7CO+2DqIjNYfoA6+BchBx54LDSgoAAA3UkPypE46XAAAAABJRU5ErkJggg==\n",
       "\" style=\"display:inline;vertical-align:middle;\" /></a>, <a class=\"ProveItLink\" href=\"__pv_it/exprrange_reductions/a66b1fb5d205d2e8007a39dfc31bf38e465e0de50/expr.ipynb\"><img src=\"data:image/png;base64,iVBORw0KGgoAAAANSUhEUgAAADMAAAATBAMAAADPIygvAAAAMFBMVEX///8AAAAAAAAAAAAAAAAA\n",
       "AAAAAAAAAAAAAAAAAAAAAAAAAAAAAAAAAAAAAAAAAAAv3aB7AAAAD3RSTlMAMrsQds2rme9mIlTd\n",
       "iUQmv6lAAAAACXBIWXMAAA7EAAAOxAGVKw4bAAAA5klEQVQoz2NgwAA2n1QNGG78eABiMyqjymnz\n",
       "JTAwfwAzWQJQpXIW3GRgaGDABrIVWBcwHEAWYdE5cxTMyJrCFYAixRdiAGVlsQn4QqRM3MACS2Ey\n",
       "DFkMCkwPwFIFHBNAVBQDQkqc+TBIimUB/waQQACSFOeGTSAXMjPsBxnF2HPmzJlDUCmGZDaI42tA\n",
       "BLMCki4GM2aIC8+CyQPIUowOYJVc/8ACLnApRSB2BEtxQoKLdQNMKhqI2cGuYoPYwpz0GCIj+gMo\n",
       "wAyW4nCABsclaEDBANuG+QYM2IH8htM4ZBjY3R/gkAEAR4oz5b1xIc8AAAAASUVORK5CYII=\n",
       "\" style=\"display:inline;vertical-align:middle;\" /></a> <a class=\"ProveItLink\" href=\"__pv_it/exprrange_reductions/a65987f6b35a4483a17dec94a8653006f3d467790/proof.ipynb\" style=\"text-decoration: none\">&nbsp;&#x22A2;&nbsp;&nbsp;</a><a class=\"ProveItLink\" href=\"__pv_it/exprrange_reductions/30726731d9b85fbb08a3362584fc1e231ec6fb040/expr.ipynb\"><img src=\"data:image/png;base64,iVBORw0KGgoAAAANSUhEUgAAAWUAAAAWBAMAAADqapBTAAAAMFBMVEX///9UVFREREQiIiIQEBCY\n",
       "mJhmZmYyMjLu7u6qqqrMzMyIiIi6urp2dnbc3NwAAABm9RoHAAAAAXRSTlMAQObYZgAAAAlwSFlz\n",
       "AAAOxAAADsQBlSsOGwAAA91JREFUSMfFl09IFFEcx3/7Z2bfus5oh4hYBA8RkmDGgmUgSH9ORiwF\n",
       "BV1cMCuCcDso3prEQ9BhFzxUhLVgEBTUSiBhKEJ1yYMbgYcsWDGC6N+e0jXLfu+9mdn582ZWQvTB\n",
       "rG/m9/vO9/P+zHtPKAIr+p+tLtxW9Qp4KD6wWiy7Pcyz7FeZcT735pk1mUeB7Gm1RIaO+ntVi2+0\n",
       "xJJi5lGxRU0TUzBmkgaIpKzRgSpmA5vU0YNCZsojsoilmYIxywhfZxuOchWv8iYxnxEyUx6LxWuH\n",
       "gjGH8ZrTLIHaFX+ravENl7AmYg7bLe46FIz5Fl7vrAGl1d+qWnzDJZIUMVMepVPMjArGfAWvqy92\n",
       "WwLxcd+VxBFXG6bzltvFha/+pJV8pV7ETHki9dF5zc58c5wrGHM/TvtlLVNZFDOD5K+fqSP+qhi0\n",
       "TJbak7Bf82XW83MAUtpglhOs1Os8kEne+ZS0M6fCSaZgzO0A0RUI58lZPXpfgy7ycYenM43DaaNv\n",
       "yXGQW8EUDyehB/zUPB/gMNp2ivq5nVp8yz4s2phjRbpOoIIxn8BmpqGu8PiZLroI8EfmLxYWGoew\n",
       "YSWXIFQAU9wH0AF+ap7PV9ySiBl54Pw5Xu9JJI4lEgdoU2lXUYXBjC+Zy8KILuqA2nLdjLrq5Urj\n",
       "8NP8lBshg7aG+AiQNfBT6/lsHnV6MR+8kHN9gz1cYcwN7PY+zbQtg7wiad6uNA6n1Cl9duehG0xm\n",
       "8hukEvipeT6ZoCPdKprPyEPKtasu5g5gCsbcjMw5nGXMlk7DVTop6YpG3I5mPP5luMgSMlnYFS0a\n",
       "YlKGQPoeXw81oZrny1H8/qRGUT8jj7RCyjEHs7oGTMGY3wIEksEUYybL+GAn7MXfMQ0y9LumP+yx\n",
       "WWHxrmwNfxTMR9vkirgZRlIppraLzArPv6FgklwQMVOeNFlVHMwSnfyoYMxj+LKGXn14E9gV1+ex\n",
       "m9UmnOaH8EmIHkXajIoRV39dBp5A4u8XJy3iqSfxHFOzW7daz6f7SWhGxIw8wSxMPHcwB+igoIIx\n",
       "h4zpTm2jxoB+hh8At12ja8Slxpf04FtJsIm5Oqp5qbHU4VK2JDxvmDx25jBdXJf084aUstgaI6Lu\n",
       "e3QJoODet41W58dotWBjVsCmVjzVWB7g1StklmxnTP2MFMh2a1zBz88tPPj92gLukEar1tdLQPIu\n",
       "VyMeLAZwCa0k2MRcXbl1qbHgTqw2is/PLYLV5mmWbjVUwZmHLDEbZcyttbci5heEvJ+6n7ZbzDwk\n",
       "2okmZoArJvlI5rf836rIG9xOpnm7c65DlCfPNGxjkSe0/1T+AyOhOgllQkBeAAAAAElFTkSuQmCC\n",
       "\" style=\"display:inline;vertical-align:middle;\" /></a></span><br>"
      ],
      "text/plain": [
       "<IPython.core.display.HTML object>"
      ]
     },
     "metadata": {},
     "output_type": "display_data"
    }
   ],
   "source": [
    "ynew_len_kpj = Len(y_operands_new).computation()"
   ]
  },
  {
   "cell_type": "code",
   "execution_count": 73,
   "metadata": {},
   "outputs": [
    {
     "data": {
      "text/html": [
       "<strong id=\"ynew_len_jpk\">ynew_len_jpk:</strong> <span style=\"font-size:20px;\"><a class=\"ProveItLink\" href=\"../packages/proveit/numbers/addition/__pv_it/theorems/bdb040860ba8b035aec6ab4a51daa2ad1ea247650/expr.ipynb\"><img src=\"data:image/png;base64,iVBORw0KGgoAAAANSUhEUgAAADMAAAAQBAMAAABJt1qBAAAAMFBMVEX///+IiIjMzMzc3NyYmJhU\n",
       "VFR2dna6urqqqqpmZmYyMjIiIiIQEBBERETu7u4AAAAsfX+gAAAAAXRSTlMAQObYZgAAAAlwSFlz\n",
       "AAAOxAAADsQBlSsOGwAAAO1JREFUGNNjYMAAr//eesCQ86eAge/OBnS5G+wBDHwfgAyuCehS0QYp\n",
       "DAwHgAz+BnSpiAtcBgwgs+ofQEUYb+/eBWYEOzIvAEvlQGXYF8LUBLMqiIGlljK0zQMJWMFkGIIZ\n",
       "LvAWAKX4vnA0HwEJLGZASGny7QNKcXyuYAKLLkCSYmnoBbqQ84gCmM90evfu3XuhUgxxrEAp7pWT\n",
       "wHy+C0i6GJ7yAQ1831AP0bYBWYpJAKjS/8H7BgGQgCBc6hIQCwGlohjeKySABLjgobICiDmBrrrB\n",
       "wDgR7CO+2DqIjNYfoA6+BchBx54LDSgoAAA3UkPypE46XAAAAABJRU5ErkJggg==\n",
       "\" style=\"display:inline;vertical-align:middle;\" /></a>, <a class=\"ProveItLink\" href=\"__pv_it/exprrange_reductions/a66b1fb5d205d2e8007a39dfc31bf38e465e0de50/expr.ipynb\"><img src=\"data:image/png;base64,iVBORw0KGgoAAAANSUhEUgAAADMAAAATBAMAAADPIygvAAAAMFBMVEX///8AAAAAAAAAAAAAAAAA\n",
       "AAAAAAAAAAAAAAAAAAAAAAAAAAAAAAAAAAAAAAAAAAAv3aB7AAAAD3RSTlMAMrsQds2rme9mIlTd\n",
       "iUQmv6lAAAAACXBIWXMAAA7EAAAOxAGVKw4bAAAA5klEQVQoz2NgwAA2n1QNGG78eABiMyqjymnz\n",
       "JTAwfwAzWQJQpXIW3GRgaGDABrIVWBcwHEAWYdE5cxTMyJrCFYAixRdiAGVlsQn4QqRM3MACS2Ey\n",
       "DFkMCkwPwFIFHBNAVBQDQkqc+TBIimUB/waQQACSFOeGTSAXMjPsBxnF2HPmzJlDUCmGZDaI42tA\n",
       "BLMCki4GM2aIC8+CyQPIUowOYJVc/8ACLnApRSB2BEtxQoKLdQNMKhqI2cGuYoPYwpz0GCIj+gMo\n",
       "wAyW4nCABsclaEDBANuG+QYM2IH8htM4ZBjY3R/gkAEAR4oz5b1xIc8AAAAASUVORK5CYII=\n",
       "\" style=\"display:inline;vertical-align:middle;\" /></a> <a class=\"ProveItLink\" href=\"__pv_it/exprrange_reductions/81ecf5c654d53b24b74932505644a3277c9340e40/proof.ipynb\" style=\"text-decoration: none\">&nbsp;&#x22A2;&nbsp;&nbsp;</a><a class=\"ProveItLink\" href=\"__pv_it/exprrange_reductions/ea240e3c89a653ba97aa3f97472fd2942e552b9d0/expr.ipynb\"><img src=\"data:image/png;base64,iVBORw0KGgoAAAANSUhEUgAAAWUAAAAWBAMAAADqapBTAAAAMFBMVEX///9UVFREREQiIiIQEBCY\n",
       "mJhmZmYyMjLu7u6qqqrMzMyIiIi6urp2dnbc3NwAAABm9RoHAAAAAXRSTlMAQObYZgAAAAlwSFlz\n",
       "AAAOxAAADsQBlSsOGwAAA+lJREFUSMfFl01oFEkUx/8zmelUZ9KTKMgiQchBRAxoZMCPBSHsrqfI\n",
       "MqygsBcHNCp+4HhQcrMNHoQ9zIAHd1lch83CwgrLiBAXxRBwvejBEcGD7sKIIogfyUlnoq776qun\n",
       "e7q6J4gkD7qmqt/79/t1VXVVDeoQpn4W22TabJQjQvGPqGXKS8N8R5TOTPv9aJ47HvMFsNXDPs/E\n",
       "1/G5OvkXapm8mfkCL351DUm5QjCzItBd8PtPdkh28jN19LiRmfMAV41JxxWzRfB9geFodsjV/EzM\n",
       "u4zMVt7fuhVIuksxp+i66x+J3kZ8qk7+BVvKNTGnAq2fA0lJIZjP03XfH+YMx6fq5F+wdedNzOeN\n",
       "zM6IUgjmo3Qdv77S96iBy7ErSZs/u2q66ms+fvQinrQV7/SbmDkPu97fxtzdbz9wuUIwn6CQt26p\n",
       "tSiWxtl/cUnb/H/Xk77J0vstNrixzCq+AqSLmtnKCetXPLCwvY25lP/paZ4rBPNWwG4gVWW7lfui\n",
       "i1H277LIzNyPnbpv2XZYw/DEZ/LYizi1jAe+pLQjpn4mHkx737lmvviy/HudKwTzDnqtIvpql64o\n",
       "9wHggyUfbDTuR0qnsubQVYMnPgZsQ5xaxgvrmTMxEw9cWwzd3lzum1xuI6/u+14pNDM95G4Z55Ro\n",
       "G3qbfTPZ+ais3I9Z7zMfRInSavFXYO8Rp1bxYh6NRDG33ln38+b9FanQc4OW52Oul7YJq5F2o7Ny\n",
       "P77L3lATrYo98JjZO6TnEKeW8WyKPmN72DSf+dzwhkIzs2YvfyIpBPMQMVdolom0fBrO80nJVzQW\n",
       "zuj5B56fqYuAUhlf2HUtZk0kir/I9dA1qmW8ZdP3lx409fMQL2ZngszpBmtmhEIw3wMS+WRBMLO3\n",
       "dGMF1lA56aLEv2teiNteRfhHyz3yVrJqb7Ja4iGcKxSEOijyKjL+rENBVs3EfI8Xe9rW50SRzTtC\n",
       "IZgn6WGrxtTw5qgrTj+gbs6upQHawkeJH0U26Yr2Z98cggxgAw8fX/OJb/w5UBFq0QyrVTzfT7pm\n",
       "TMyTvFjexpwsY+ovoRDMXRXl5mltPaDP8Br4MTS62p8evMkPvq2AgFiqbTdKTdZH+8ET43lD8Iy2\n",
       "74PSnqjzRrrgS+vozWrdHweBWnjfVr+J6iSv1gLMDgJqJ1JN9htdY0Zm4lmZboTOSMLG9Pl5vWy/\n",
       "OvUI+EGvSB8/zoFVQ1m1P1lP0ILZCgiIpbrVDKnJLtObDZrPz+t7ml3mwwNXSOYJ390AZSasCr5F\n",
       "Js6Japz6BH9vM/MEDh8xr5NccU3SVxf9b1X37RG+QYv3roR6M5JnGkto1pT7icr/AXCxOgmHvdX+\n",
       "AAAAAElFTkSuQmCC\n",
       "\" style=\"display:inline;vertical-align:middle;\" /></a></span><br>"
      ],
      "text/plain": [
       "<IPython.core.display.HTML object>"
      ]
     },
     "metadata": {},
     "output_type": "display_data"
    }
   ],
   "source": [
    "ynew_len_jpk = ynew_len_kpj.inner_expr().rhs.commute()"
   ]
  },
  {
   "cell_type": "code",
   "execution_count": 74,
   "metadata": {},
   "outputs": [
    {
     "data": {
      "text/html": [
       "<span style=\"font-size:20px;\"><a class=\"ProveItLink\" href=\"../packages/proveit/numbers/addition/__pv_it/theorems/bdb040860ba8b035aec6ab4a51daa2ad1ea247650/expr.ipynb\"><img src=\"data:image/png;base64,iVBORw0KGgoAAAANSUhEUgAAADMAAAAQBAMAAABJt1qBAAAAMFBMVEX///+IiIjMzMzc3NyYmJhU\n",
       "VFR2dna6urqqqqpmZmYyMjIiIiIQEBBERETu7u4AAAAsfX+gAAAAAXRSTlMAQObYZgAAAAlwSFlz\n",
       "AAAOxAAADsQBlSsOGwAAAO1JREFUGNNjYMAAr//eesCQ86eAge/OBnS5G+wBDHwfgAyuCehS0QYp\n",
       "DAwHgAz+BnSpiAtcBgwgs+ofQEUYb+/eBWYEOzIvAEvlQGXYF8LUBLMqiIGlljK0zQMJWMFkGIIZ\n",
       "LvAWAKX4vnA0HwEJLGZASGny7QNKcXyuYAKLLkCSYmnoBbqQ84gCmM90evfu3XuhUgxxrEAp7pWT\n",
       "wHy+C0i6GJ7yAQ1831AP0bYBWYpJAKjS/8H7BgGQgCBc6hIQCwGlohjeKySABLjgobICiDmBrrrB\n",
       "wDgR7CO+2DqIjNYfoA6+BchBx54LDSgoAAA3UkPypE46XAAAAABJRU5ErkJggg==\n",
       "\" style=\"display:inline;vertical-align:middle;\" /></a>, <a class=\"ProveItLink\" href=\"__pv_it/exprrange_reductions/a66b1fb5d205d2e8007a39dfc31bf38e465e0de50/expr.ipynb\"><img src=\"data:image/png;base64,iVBORw0KGgoAAAANSUhEUgAAADMAAAATBAMAAADPIygvAAAAMFBMVEX///8AAAAAAAAAAAAAAAAA\n",
       "AAAAAAAAAAAAAAAAAAAAAAAAAAAAAAAAAAAAAAAAAAAv3aB7AAAAD3RSTlMAMrsQds2rme9mIlTd\n",
       "iUQmv6lAAAAACXBIWXMAAA7EAAAOxAGVKw4bAAAA5klEQVQoz2NgwAA2n1QNGG78eABiMyqjymnz\n",
       "JTAwfwAzWQJQpXIW3GRgaGDABrIVWBcwHEAWYdE5cxTMyJrCFYAixRdiAGVlsQn4QqRM3MACS2Ey\n",
       "DFkMCkwPwFIFHBNAVBQDQkqc+TBIimUB/waQQACSFOeGTSAXMjPsBxnF2HPmzJlDUCmGZDaI42tA\n",
       "BLMCki4GM2aIC8+CyQPIUowOYJVc/8ACLnApRSB2BEtxQoKLdQNMKhqI2cGuYoPYwpz0GCIj+gMo\n",
       "wAyW4nCABsclaEDBANuG+QYM2IH8htM4ZBjY3R/gkAEAR4oz5b1xIc8AAAAASUVORK5CYII=\n",
       "\" style=\"display:inline;vertical-align:middle;\" /></a>, <a class=\"ProveItLink\" href=\"__pv_it/exprrange_reductions/34ff063bd5a981f25a87b1aac0b6aea83823bf0e0/expr.ipynb\"><img src=\"data:image/png;base64,iVBORw0KGgoAAAANSUhEUgAAAGUAAAAVBAMAAACtcD09AAAAMFBMVEX////MzMxUVFRERES6uroi\n",
       "IiIQEBCYmJhmZmYyMjLu7u52dnaqqqqIiIjc3NwAAACW8nlqAAAAAXRSTlMAQObYZgAAAAlwSFlz\n",
       "AAAOxAAADsQBlSsOGwAAAW5JREFUOMtjYGB4wIAD4JRg4D2AS8YXp57TIEJ4AYoYl1kAyLQCHFq4\n",
       "JoDIm2iinA0gchYOPRwohrlDaX6wgytw6GFD4Z2F0v5gt7ItwK7nJFY92yAuxOGhbpCf7iqg6ZnE\n",
       "cLqLgYFbAT0ktV5fvsDAMB3kJ4Z0VD1c33nOAYXYweHTGgoCQSDmBqMLXP8YGGKAzHsMf1D18Pzz\n",
       "YZwHpBJQrWFxCGbg+8jAkAJkL+D5BTUwDWIgR7oASIDxA1q8cH1hAClNAQd4AKo9rDMaweai2cPA\n",
       "84GBaQLEbQysG1D1rD/gD7KIJwDNP0AN/AULGGxB7PcOqHrqF6w/AAwfdgP0yNzAcH7BBoZNYDVo\n",
       "8aPJsF4AaDXHBjQ97wUYbrILMIiC2MpoemwYeHuBaYDVAU2PKwPDohqgOMjhuejpAAKe4khv7A0M\n",
       "Ouy/0NMoBLTjyj92jH9YsWc7PgNcehYz9LZgl2HGmbn5LuCSuYdDHADPnFq6vypuKwAAAABJRU5E\n",
       "rkJggg==\n",
       "\" style=\"display:inline;vertical-align:middle;\" /></a> <a class=\"ProveItLink\" href=\"__pv_it/exprrange_reductions/4a3a735c6b5ff92eadc66352dab5eb5e576ffdc60/proof.ipynb\" style=\"text-decoration: none\">&nbsp;&#x22A2;&nbsp;&nbsp;</a><a class=\"ProveItLink\" href=\"__pv_it/exprrange_reductions/9158c0d89892239ab9fd7a136afbd8f2e1c988530/expr.ipynb\"><img src=\"data:image/png;base64,iVBORw0KGgoAAAANSUhEUgAAATQAAAAWBAMAAAC8vH0lAAAAMFBMVEX///9UVFREREQiIiIQEBCY\n",
       "mJhmZmYyMjLu7u6qqqrMzMyIiIi6urp2dnbc3NwAAABm9RoHAAAAAXRSTlMAQObYZgAAAAlwSFlz\n",
       "AAAOxAAADsQBlSsOGwAAAy9JREFUSMfNVk1oE0EU/pomm4n5w0MpEgo9iIiFGikU/wqiCIJaSi8F\n",
       "LwaKPxdpPCjeXIsHQTCBCvaiXagnBU0RC1YsPXgSoZGCB6uQevBStLlIm/pT38zsz2w32QVbqg9m\n",
       "kpn5vrffzntvdlCBMPNnqy2l9B77KPp48d9IS5R4n5zxkXYfbGdWmR0+5u/Sjd6APQ+SxvJANKdO\n",
       "Xw1w6Ub/vUX1AGlaH5B2xbQW4DK9SRkQyQVIC1Ob1dUcWAlw6UJvxE4ESLtHbU6dTQal0txmFcKV\n",
       "AGmXqF1+uUNJgcyEf8RcaKTapkvKcGF+MeDMcPDv6khLTNyZ7zClkXS2rBecw61wjf32rVAXGq8r\n",
       "ISUDEr3Y6x9vE29QG7ClDXZx28fHoQzIvZB2AIitIFxiAyZ3TMdJ9ml7wwcIdOSQJfQ4tCxs8s0+\n",
       "DMKPLfHAQWp36+za2+Z2LBlS2ikq0jzS5cfPzMULwC9N8uuaQHOaHFXRXIZNHgJ64MsWeGlP60jT\n",
       "CzN8cyxphJ0tYsRc7EGilp5JrTZyLtCpqjkKt4Oc2eSjYD/hxzbxMrb1ymAMaIUdUDqohnTbew3a\n",
       "SkRv7FygI+2L8t0LJZyFLY39QKQKP7bEs8miSVqfa1zXdyalUTmkDcoAAeQpssoThh8hzOuYrwt0\n",
       "0/RorwAUimiNVSwyq6Ep/0AeQN50c/BajL5B6K+3a6cpmZNSGlVwU18oJ6SxZZpowS7qx3UUOJ13\n",
       "Ytr+I9DhF1RjfCpUinVrDrkDI7mcYLtJti+Jv5XMmefWemm03/H8GSltnMht58zt7aJXvfGeNi21\n",
       "m5JqP88s7qPb+sPXBXrpvCEBLPNhYUohv3qSMQRbDN1sBR+lZ+BwvXONotVSlNKaDXOSe49ZUfiC\n",
       "b8Co9+Cw1vsT2YoKcJElO+aNqINPEzuVDfgaRHKK96S1rXseXQTKHoa1jsy2bFkFqGSTnfQ+0ME/\n",
       "NC8W/ve1Tjn4en0euG2V+NpaFazkYVjrRGoxFICLLNnO0CkDx+EEtc+BV8lhZcYlJu5luMXG/Rbh\n",
       "fbG4+8ve6SNtSm5/acvv3tE3R0io+BDHDfxXpk0GXPn+AClYCIS34CBHAAAAAElFTkSuQmCC\n",
       "\" style=\"display:inline;vertical-align:middle;\" /></a></span>"
      ],
      "text/plain": [
       "{k in Natural, j in Natural, (j + k) = n} |- |(b_{1}, b_{2}, ..., b_{k},a_{1}, a_{2}, ..., a_{j})| = n"
      ]
     },
     "metadata": {},
     "output_type": "display_data"
    }
   ],
   "source": [
    "jpk_eq_n.sub_right_side_into(ynew_len_jpk)"
   ]
  },
  {
   "cell_type": "code",
   "execution_count": 75,
   "metadata": {},
   "outputs": [
    {
     "name": "stdout",
     "output_type": "stream",
     "text": [
      "Expected error: Failure to apply (x_{1}, x_{2}, ..., x_{n}, y_{1}, y_{2}, ..., y_{n}) -> ((x_{1} * y_{1}) +  (x_{2} * y_{2}) +  ... +  (x_{n} * y_{n})) to (a_{1}, a_{2}, ..., a_{j}, b_{1}, b_{2}, ..., b_{k}, b_{1}, b_{2}, ..., b_{k}, a_{1}, a_{2}, ..., a_{j}) assuming {j in Natural, k in Natural, (j + k) = n}:\n",
      "Improper replacement: Improper replacement of (x_{1} * y_{1}), (x_{2} * y_{2}), ..., (x_{n} * y_{n}) via {(x_{1}, x_{2}, ..., x_{n}): (a_{1}, a_{2}, ..., a_{j},b_{1}, b_{2}, ..., b_{k}), (y_{1}, y_{2}, ..., y_{n}): (b_{1}, b_{2}, ..., b_{k},a_{1}, a_{2}, ..., a_{j}), x: {(x_{1}, x_{2}, ..., x_{n})}, y: {(y_{1}, y_{2}, ..., y_{n})}}:\n",
      "When expanding IndexedVars within an ExprRange whose parameter is the index, their expansion ExprRange indices must all match. (b_{1}, b_{2}, ..., b_{k}, a_{1}, a_{2}, ..., a_{j}) vs (a_{1}, a_{2}, ..., a_{j}, b_{1}, b_{2}, ..., b_{k}) do not match as respective expansions for y_{_a} and x_{_a}.\n",
      "ExprTuple.align_ranges may be useful.\n",
      "Using multiple, equivalent expansion forms could also help. \n"
     ]
    }
   ],
   "source": [
    "try:\n",
    "    dot_prod_lambda.apply(*x_operands, *y_operands_new, requirements=requirements)\n",
    "    assert False, \"Expected an LambdaApplicationError error.\"\n",
    "except LambdaApplicationError as e:\n",
    "    print(\"Expected error:\", e)"
   ]
  },
  {
   "cell_type": "markdown",
   "metadata": {},
   "source": [
    "## Nested ExprRange expansions\n",
    "\n",
    "As we saw above, we may have nested **ExprRange** expressions and ranges of ranges of variables/parameters."
   ]
  },
  {
   "cell_type": "code",
   "execution_count": 76,
   "metadata": {},
   "outputs": [
    {
     "data": {
      "text/html": [
       "<strong id=\"x_11_to_mn\">x_11_to_mn:</strong> <a class=\"ProveItLink\" href=\"__pv_it/exprrange_reductions/89fb4454ca54b9b6812caf36f4be32063ff9a5dd0/expr.ipynb\"><img src=\"data:image/png;base64,iVBORw0KGgoAAAANSUhEUgAAAkcAAAAQBAMAAADuecaiAAAAMFBMVEX///9ERES6uroQEBAyMjLc\n",
       "3NyYmJgiIiJmZmaqqqp2dnbMzMxUVFSIiIju7u4AAAAd7oVFAAAAAXRSTlMAQObYZgAAAAlwSFlz\n",
       "AAAOxAAADsQBlSsOGwAAA0ZJREFUWMO1l01oE1EQx4fETTZNdlu8FqTgSSg1FwXRYi6eTQ+CiJhW\n",
       "FBRBe1MvJaC0ICi56anmIIpFYaEHP0olIHiyZQXRSyLrpZRKNIheDDTu1/t+u3nbkDkkeTPz/828\n",
       "4e22D6Dd/LFSA87M1ubb56BgUjUMB7pnWQJeRI9VY0Of5506NO0lFahUPSTonmUJePIeM+XMbmGW\n",
       "916GG84HBaZcPRzonmVJePIe86CX3K+tkn/YLoVeC+7ipbny0YliMmreHQo56M6LTSVoXEZcL8RQ\n",
       "V3wgjhz0KFradjkt/ziuf8XeabzUIe6sUmreHQo5aBWWlKDxGZEyamikKzYQT56Weg+XTQdygewh\n",
       "cqb+ws9wOTqhdaOZtJpzIyEL/Q0VSwUanxHdCzHSFRuIJQcb5+z7xHsYAXpILs7cXyhCPdxexvGY\n",
       "4gE1efWVa61qkBi4AyEPve4PyY+ZYo+CmkBj/ygR2eJ605iz0JBkgZjaYY9u0caXcbKnx+/uwCF6\n",
       "SOYfd9XdLqZq+AyMzPte+FUC8sP/oNXmxaNwJIiHbk8oQuEZgmIMS6fVFBTHY3vZOjibbhgNNCRp\n",
       "ANUWsUGPXtET0MR7gu1WbrHGnKSbDpj37UdXyYPyyvG9kHWHCrcg/JFdYNVauwS7QWLo9oUCNL+A\n",
       "oB6Bg/JqCooTSbaklwufYdTS62hI0gCuzYBIj17RLtwje2KfX28/OXK2gyFpB1gvsmVOXbBTRSbR\n",
       "FwrQGQfHlgWmoBagciOkDViFbA13JQv0rV2w80W4TcqLQxoBbkhn4QzjRVbn1GlLr1p0oi/koVpV\n",
       "K6NYXWAKagEqN0I6Dp+gksddyQJ9a6ctY0zrWLg82aYZvqnbzJB2QBtfe8B40cvSBlZdgewbi0r0\n",
       "hCJ0Zu21E0JNW7xB8GoeGvHixiSt4x6ZOd3tO3hxSwL9a1fcE5QZq+LyIeHJPzt/DM6dfglA1N5y\n",
       "tZbu9Tq0F5lB9hOoJ8F4Sid6QhF6stdDUEPcraDmoXIjpFQDTsH5b24JrytpoH/tSdhX1jYcXJ5+\n",
       "JqX1VW+auSTuAaEqVkscUCo/Jf3nSvVuMJXAPShUwSJLKNeWl5feATOqwNkE7kGhKtfdxIHo8v8B\n",
       "CvnWXAWRC5sAAAAASUVORK5CYII=\n",
       "\" style=\"display:inline;vertical-align:middle;\" /></a><br>"
      ],
      "text/plain": [
       "<IPython.core.display.HTML object>"
      ]
     },
     "metadata": {},
     "output_type": "display_data"
    }
   ],
   "source": [
    "x_11_to_mn = var_range(x, (one, one), (m, n))"
   ]
  },
  {
   "cell_type": "markdown",
   "metadata": {},
   "source": [
    "Consider the following two different lambda expressions mapping a range of ranges of parameters.  The first multiplies groups of sums of terms and the second is a range of ranges of terms added together. "
   ]
  },
  {
   "cell_type": "code",
   "execution_count": 77,
   "metadata": {},
   "outputs": [
    {
     "data": {
      "text/html": [
       "<strong id=\"double_nested_lambda1\">double_nested_lambda1:</strong> <a class=\"ProveItLink\" href=\"__pv_it/exprrange_reductions/b02bf20242e82a8157828e6a06a6977bd3e45c5e0/expr.ipynb\"><img src=\"data:image/png;base64,iVBORw0KGgoAAAANSUhEUgAAB+0AAAAXCAMAAAD5oS1BAAAANlBMVEX///8WFhYNDQ3MzMxUVFRE\n",
       "RES6uroiIiIQEBCYmJhmZmYyMjLu7u52dnaqqqqIiIjc3NwAAACzeusSAAAAAXRSTlMAQObYZgAA\n",
       "AAlwSFlzAAAOxAAADsQBlSsOGwAACpxJREFUeNrtXduiq6oOdW/vd/v/P3vUTlrAhCQYqt2nPCxm\n",
       "l5ExyEiCt9YsW9uS/dqvqbQlxniJ2Vmf1HIHn9xgXK4kP9m+UrYrxrq92N8vPbe2ztNvlfo1nVbN\n",
       "fFsTd35/EamL4cUtadoazgHuP9m+UrbY7LxF4bgVmXtJT0SC6afxt0j9mlpEt1xLE3d+n9cDvAO6\n",
       "QYUUAb90XV/mqX0iaKS7dHREubuyhdwTzZAvGwp/U9nO0DonW2x2ku1sHEpylDqvPe3dpBn72ULs\n",
       "9kP/W6J+Ta/1zKQ3cef2Q9H1D2gEdIMSKQJ+Kdd/xkeV1ieCRvDV0xHh7sqGu+cUQ65sKPxNZTtH\n",
       "64xsMp7s1UEjDrli04u9gneTSf/5Quz0XZv92q+ptbbj2Zm48/tsxsrGHF9PDqSqFqGDoBT7fa+m\n",
       "0YGvxDkn5aunI6KnK1vQPfEMubKh8LqyyXWT8k0uG7cdspI+lzwbh4IcDTcN7yaT/vOF2Omb7Nd+\n",
       "TbE1cNbP3iMqDdInWe0PpCb/zhwB3+z/WzwWFfhJfF9QyldRR1hPV7age04wZMqGwuvKJtdNyje5\n",
       "bOxR/DBLv9oLcpQYR8O7qaS/oBBb/fS7kP9rqq1/HcM6CTO5R8sm7vw+0Wrft+FcpOCLev/3kavA\n",
       "n1/tGe7S0rGHzkk82YLuOcGQKRsKryvb+ZLPcVdK2di8D1n5gdWen6PEub2Gd1NJf0Ehtvru79GB\n",
       "YZ6LIR9HxmODAlNeEw0oMb6W6QVoifiJhh0L81ft/L/7ycSd30es9hx2b1JwLjLgtyk8In3jwZ9f\n",
       "7Sm+1UpqGedyjpfTcPZdh8iGuAf3qK5sODyyQQP+hGwIrZBuCrJxmyfvm9UKX1baKsvE5pA5k6tp\n",
       "pSfZK2QuEglrbxb+9cxrLuasqxmhwDdlxpZkQInxtUwvQEvETzRs28Pr+1QSB56xqz2HXduHc5EB\n",
       "n2X5Y470jQd/frWn+I5ZuZLKBvByJk9Ow7ntmWeQoHtwj+rKhsMjGzTgT8iG0ArppiBb5Gnhi1W7\n",
       "Lk9To62yTGwOmTO5mlZ6kr1C5iKRsPb18zChXcduV70K+vqPwJTXRANKjK9legFaIn6yYd8h7MXk\n",
       "XFr14C/uDr18tWex8/PKz0UG/GpUxPrGgz+/2hN8qyqrt4OrBbqcyZTTcAYL6lE22D24R5Vlw+Hh\n",
       "DSrwJ2SDaYV005CN21x536y26bQPbZVFYrPInMnVpNKT7DUyF4mEtW+eFxO2oTtzODPYBzaDf5SD\n",
       "mg7jWBQRN29wbMLYBTzuidpqMI0dI9Iv4HWdoDTQDnGcSSLeUbX5699/aqc9rG/F/MXdoXfLxvDo\n",
       "4XpibWCF7ptUt1Npmr0rfDoB+KwrgQ28bHjBw+jB6yoxfIf1z81iem1kOQzU8e06a4yjbLB7cI+y\n",
       "EpkvGw4Pb2DVBgr+hGwwrZBuzOITlC3UbDNXXpfVuxIwslNSw3his8gwcpUoj4mkJ9kfI0DizWAk\n",
       "rL0Vf83f0Ug+z++zMudD2LTbZxq3soEDUsYOILInaKvB9MwYcjRQzaA0yGW1WM4N+9i2ws7tq966\n",
       "TcVb7bO6Q84e6o4MH/tDRRyqM+BbO9MdeDobKu1ze5LvtKd40UscButocX+PcZQNdw+uG5nIfNlQ\n",
       "eJwXXRsq7RM8mm9YN0bxCcoWPqHv0Ox8snouNM0ozE5uDeOKzSBD5ypVHpNJT7I/RAB/AuFIWPv3\n",
       "taVqu1Mw7JJNdiBNx6iCTbdjkiXuSUgMO2zsAUJ7wrYaTE+MEeUXMKJq2R7xnAkiMCmXXe78YoXe\n",
       "lXxW6Pqekl/J338Ja1nY6I6vPfjkV/JNtXi02RCbb2YDaHCQDXcPrhudyGzZUPgAL7o2UPDxsqG0\n",
       "grpxik9Qtrgr+YZVPf5xGKJUpsoFV2yaDCtXw+UxmfQke3bmcgux1T+f/RvKKiu2Q4AxQ0vmHwJu\n",
       "2g4vZ7HY0AN27Xrs16HGFqCzJ2n7/iAhGhrwyDS6wWg7QJHNrf2TkCFpoD1k82YTsWe/firh1b53\n",
       "ss88c+r34tWeE7o2KTgXSfh8H34e2OhufJTKqz3Jdz9t2C4HjnyHwTr6rgNlQ9yDM2QlMls2FB7b\n",
       "wKkNNHy0bLi7UN14xYeQjdt8eXdWz0vM62K0tHEqB2sYX2ySDCdXw+UxofQke2bm8gux1T8fz58e\n",
       "+dCt41QTWjLN3YOQ6cqjtm1Df9ADDm3VrM5oFtzYALprH8P278ORTegPdECIaWjKYjQDUGzPZLKk\n",
       "Qfbw561BxJ59Zn/LyPl+ifd9e+DrIWYL9rMY8AZG6GbeV5+AXKTgl7rbWi1BtwLOg/fQQ5ESy3cv\n",
       "WnOftTmbMqJjB/28tycb5h6cISeR2bKh8OgGRm2g4UOpHsc3oBur+BCyhSpRUN6d1fOZsnLMxiiV\n",
       "wzVMIDZFhpOr4fKYUnqSPS9zBYXY6vPn8tzN81qP2ynDS2b9fO1ByPT1aoTavCLhdcvh+Ac54DLM\n",
       "mwOfx4ywsfMuhteeDFvz4UU0xNQYoQNCTOEpd3FoBiB3wzAgDbLHYd4KRJzZr7vBX4Ed3eDNa7gv\n",
       "iubRQ8+cYhs4oXsk5eciBV8/9tZL0K2A8+APV/kCkRLHt3qmddFOfIchOoJ6erJh7sEZshKZKxsK\n",
       "j27g1AYaPlTdovgGdOMVH0K2UCUKyPtk9TxprLp5iVKZqGFssUkynFwlymM66Un2zMwVFGK7r/PQ\n",
       "vRT7wzRkhOny+o7VxLlUTA64ffHQPGMwwS8rGcA7QKTt60M8UWdAkqnkGhD4Y24rQN5k7pd4gtKA\n",
       "e4jmzSZiz35h3i80cef3JxscugdShwtzOvBINixnbwKm4hvIN8MZ0VNZNjiRPyUbUhto+Otkw4oP\n",
       "IRu3KcvLqWEfE5tTHu8svbAQOz30+gS4ZI5UsVi617MRrJf7kQM225FLt3/xADS2AJ09Sdv3h3ii\n",
       "zoAUU0kD998A5nK70JPlPGmgPWTzZhOxZ899+QP40oZUq/2B1OGdFTrwSDb48ApvxVFyF55vxHtR\n",
       "dGVDEvlTsiG1gYa/TDa0+MhfZ/MBeVk17FNis8rjjaWXFmK3LxekAgzuYzzDjBeL3XQp8zzvBtzW\n",
       "vzBBDvjYD4mmHDE2gB5R2vbNNJ6oOyDBVNJgtMffkVtbbl8UYUgD7SGbN5uIPfuF/XCQiTu/11i8\n",
       "PP9wSKnAw9mwlJl+K5VeqYLkm+GMcteUDUnkT8mG1IYby4YWH1K22OzUIB2sYR/LUU55vHXGygqx\n",
       "1w/+zJaxf4z7ZYLp/WE9joAgbdNmv12SYbaHRg5YbY8fzGOLGRtAjyht+2YaTdQdkGIqaeD+O8D2\n",
       "VPtSbM+aMqSB9pDNm03Enj0/pE3c+f2pFIBDl0NKAR7LhjLFu84GlYKE5htZ7TVlQxL5Q7JhteHG\n",
       "sqHFR22R1pSXVcM+JTarPN5Yemkh9vsFLf2Cl6uovydmSmV8LdPrQKdPEJkFaWLizu/VafFIacJP\n",
       "sT7J5O5LqmOA+39Qtgj4r5MtNjsTl44LxP526UWRQE+p4j9uVmn/hqxoQInxtUyvA01E85LZ353W\n",
       "TZ1yf8oXs/g+3b4w0u7J/ZsdqTOBNolpggHb7FuYXgfa3oXITf3zf+CU+1Nuf074z0faPbl/syPZ\n",
       "E/gfpVvqw4fJUq8AAAAASUVORK5CYII=\n",
       "\" style=\"display:inline;vertical-align:middle;\" /></a><br>"
      ],
      "text/plain": [
       "<IPython.core.display.HTML object>"
      ]
     },
     "metadata": {},
     "output_type": "display_data"
    }
   ],
   "source": [
    "double_nested_lambda1 = Lambda(x_11_to_mn, Mult(\n",
    "    ExprRange(i, Add(ExprRange(j, Mult(i, j, IndexedVar(x, (i, j))), \n",
    "                               one, n)), \n",
    "              one, m)))"
   ]
  },
  {
   "cell_type": "code",
   "execution_count": 78,
   "metadata": {},
   "outputs": [
    {
     "data": {
      "text/html": [
       "<strong id=\"double_nested_lambda2\">double_nested_lambda2:</strong> <a class=\"ProveItLink\" href=\"__pv_it/exprrange_reductions/14e7b1eda3b4497af81c43b02fb2db82dd8287c20/expr.ipynb\"><img src=\"data:image/png;base64,iVBORw0KGgoAAAANSUhEUgAAB/cAAAAXCAMAAADJLTxgAAAANlBMVEX///8WFhYNDQ3MzMxUVFRE\n",
       "RES6uroiIiIQEBCYmJhmZmYyMjLu7u52dnaqqqqIiIjc3NwAAACzeusSAAAAAXRSTlMAQObYZgAA\n",
       "AAlwSFlzAAAOxAAADsQBlSsOGwAACrFJREFUeNrtXem6pCoM9F73Hd//ZcelUVFCEgxqn6/5MbTT\n",
       "kSqSSnDrYxSNTUW/9msiTfkYq2fJqDf44gXj0sdWfxP+GwP2RPFWb4JR3z1ndXvUVsS++61XvybT\n",
       "sp5uq3UXTH80Mg/Ds1vQdCVxDsfgWfhvDFgo0o/N5zVa/APasM5A9137W65+TUzIJdVS6073cd7Y\n",
       "DcEvRMgg8Kqq6jQO7QtGQ90VPH4fBg7PBI3YAg+jX4hYwIBd0dEDpAkCRNtlhdK1iJ7rXvd+0GS+\n",
       "tTQvfVP/Fqtfk2s1Mdm17pa+Sap6sO0JfiFEBoFX6fhPO2RhfcFoCN8b4vcJHOiZwBFb4OG4XIpY\n",
       "sIBd09HtpAl5i5lJKJSqRXTZl/B+MG3cXprnvrr5cPHX/nYrK5qd1t2qvx4qE71//TiRyUqABoCS\n",
       "zHfDikIGPmPnGpdvgPgdKXwYuDwjGDHAATD6pYjhemFHDOMrH7FMsqLDAsTPLy8rlCgGtIl4P2Qy\n",
       "31ua576Ifu3XBFthz/b+8ARLceiDrPsnMt3xNh0CX8z/mwxKBL5j3yTk8g0QvyOFAveMYMQAB8Do\n",
       "1yKG6oUdsUJCR4FV5iXAG9Z9ohjwYUS8HzCZby7NY9/9LvP/mmir14NYI08683BZ627TX5B1vy7d\n",
       "qYfBJ/n87xCLwF8vFQR3ycXPSkEzcHlGMGKAA2D0axHD9MKOGMpXPmJB133GeiGgUJoY8PN9Ee8H\n",
       "TOabS/PYV58nC5q+T5q4bQnPFzJMaY01IMf4WaYPoAXixxq2TfSn3Ph/c0vrrmq9130Kq42MPfUI\n",
       "8BP1wdMnB/jrpQLjm42kVNunvX8YEZdVLeYZ0JcSLjPg7ehXIobphR0xlK8rYsS8u6wyvgA31iO9\n",
       "NBPPW5YYKGQgtciRCedLAYmYMxh7fQgwno31SR9VOb43w5TWWANyjJ9l+gBaIH6sYcvavtJ3KXDo\n",
       "6bvuU1iVtTv1CPBRFA+9p08O8NdLBca3jdKRVNRYL2nSwoi4zDjrsXoG9KWEy/bwAPqViGF6YUcM\n",
       "5euKGDHvLquML8CVdTmuU10hnrcsMVDIQGqRIxPOlwISMWcw9vlyoFCOQ5ZjnBL8SQOGKa2xBuQY\n",
       "P8v0AbRA/HjDbso9aLFPd3Xgo7u156/7JFbHNDqmHgF+NEp8fXKAv14qEL5ZFuXT4ZWyXdIkhhFx\n",
       "Wd4hngF9KeKyPTyAfiVimF7YEcP4uiJGzbvLKmMLcGM9fV0O4nnLEQOJDKAWQTLBfCkhEXMGY18s\n",
       "1xWmESt9PNPsj2ya4yEwaNq0bZJ43NKBsRFjE/C8J2grwdR3DE+/WC+YOUNj28GPM0rkcFytP/3/\n",
       "X260YfdLmo/u1t4sE81Q2+vH7guSZDcy1UyhKOYuOdJwwEdVavmClgUrvB3deY3Fh28zfpwsuvVL\n",
       "ksOA+FkpFBniGdCXtNRFXLaDh9D33wDTB6sBphd2xDC+rohRy80FlXkK0GS91QZ23iJljSQGEhlA\n",
       "LZyKGSiZUfpUidBL89jvdFl8Dkfivt/O1IwNt2k1T9BPZNYBMWMDENjTaivB9MoYfDRrFJ2hAa6w\n",
       "+XIuyEe3GXS+n9W7JcO97kd5BZw35BUqm/1Ghpy/EeDLfWYb8HgWZNKnCCjfbk7tpOY4DIqflcKu\n",
       "YICegSOGpy7isg0ejsv+G/v0wWqQSZ/v43zdEaOUm+zG8309n4X1suQUrW/eYmWNKAYCGVgt5IoZ\n",
       "LJlR+jSJ0Evz2G/XobLp9kEzh6rbC6w7q81uOh2UKL9nJiFst/EB0Lan3VaC6YUxvPxiFVLO28Of\n",
       "M0LETspkFxt/+OL6dX6SZI8e4l/nn/+kllJkdMPHB/jg1/l1cRjKqPHNM8RlGwPYM2DECKmLuGyF\n",
       "h9EJEQOrAaYXdsRwvs6IkcrNZZV5CHBhnbcfjo1v3rrnQxQDTgbWBL1iBktmlD5NIvTSPPbLQ4JN\n",
       "mkXJdDDQRmAR/YwMm5bN6iMSC3zAqhwP/irQeAdo7Inabhscoq4Bz0y9mx1tBkiivtz/uUlXaGx7\n",
       "8OZNJrKf/biV2tf92sg6/XDq9pAqc92nSHZPxp56KHw8D983ZHRTF6lwqUD5zucL0xXBlu4wKH5W\n",
       "CisDwDMgN1Lqoi7T8DA6JWJANcD1wo4YzheMGK3cSKjMQ4Az6+X687gqqdIvb91ljSwGlAzkfUbF\n",
       "DJjMKH2iRMileeyXR/u7IW6qcf+sA4uovqfgMh3x872t6wM+YFNmxeiDQsHGGtBcBQm2n40zG9cH\n",
       "cEAbU9eU2WgaIJme3iSFBtjjOG8JIvvZR/tfLhk/STn8fn/3kxL9P9Cf1bB/QZBsdPzV2Tn1MHiV\n",
       "V1PLOeg7oR3gD+guhfjynWtUX0dlTKYMxs9KQTOAPANyo6Qu6jIND6MTI2arBvjkXcntdJeDLxgx\n",
       "UrnxURmpICH+n1kvD6GlbdT65a27rNHFgJEBvU+vmJfcfJU+SSKM0jz28bJQV30/Vuayi+Aimi+v\n",
       "WXCZrq9iyPUrGdYbEecP6ICq6SfHLUeNdmPj3Q/rngRbvbESdTHVRuCANqb2KVd+aBogNtXnCA2w\n",
       "x2neAkSM2Y+72X9A25qajXOzT5JiqG1PpUJfUCR7JnNMPQw+H+ZWc9B3QjvAny70ORTixzdb0jkp\n",
       "O7rDkPgdKGgGkGdAbqTURV32gYfRiRGzVgNcL6565nIXzBeOGK3c+KiMVJCc/l9YLyeSWdUrv7xF\n",
       "yhpVDCgZ0PuMinnJzdfo0yTCKM1Tn8fIDaN1o2uwe0tq/aVWR7mQjA44/WpRP4vQ2V+b0lhvC6G2\n",
       "64Y/UWNAlCnncpD1D8eNAHERmT8McobGugdr3mQi+9kr4nODWne5zCMSdsmeyJwuzsnAA1mgpO8W\n",
       "i7kLzjPUZUIMgNRFXRYCft3A9cKOmFjAoHIjoLJHBEgoa3eJgVQx35zMvNI897b3qNiLaIuVD1Wt\n",
       "z06Q3i+IDlhMxy7V/GMFq/EO0NgTtd02/IkaA2JMOc26/wTQp9M1nyimhca2B2/eZCL72VPfNWG8\n",
       "JCLUun8ic3o1hgw8kAVHeIFXeQi5C84z1GUyDKDURV0WAH7bwPXCjphUwMByI6CyRwRIKGs3iYFW\n",
       "Md+czLzSvPSpAmpCYz4A1PRw+ZhNVRrHcdXAtseLFOiAw3xM1MWAsQY8EMVtN6b+RM0BEaacZkcb\n",
       "PsduZTr9toQQGtsevHmTiexnr1LqPLXuUpF3lVglSyEjAm/PArovGC0VerULkGcEzhIMoNR9An6L\n",
       "2IsDBpabMKRvECBe1m4SA61ivjqZWaX50zfHCam2Htr5kkG3bYxHEjaovWkx30SJINtTQwfMpscT\n",
       "+raEjDXggShuuzH1JmoOiDHlNOv+M8D0RLxKpqdSCaGx7cGbN5nIfvZ0JWvdNQIJBUiWQkYAHsqC\n",
       "NMTb1xqR+gPmGYGzBAModZ+A3yL24oCB5SYM6eDzoZS1m8RAq5gv1gazNOtegYsA4/Uu4m+q6UIZ\n",
       "P8v0OdDuDiI9Izu07lQfiA6NjCR85+uLiO+25+IXLGAPw39jwEKRvm8+18LxKjLv8iWQ2vhMMvoD\n",
       "apn0X6xlDcgxfpbpc6CBaD4y+7fSeZkzvoHyw/jfF7Ev1NiXTu7bPe3NvwxiGmDAMvoWps+Blm8h\n",
       "8jK//GFnfAPlMvpF7K9r7EsnV/5hZ/4DNQnmVT2SlqwAAAAASUVORK5CYII=\n",
       "\" style=\"display:inline;vertical-align:middle;\" /></a><br>"
      ],
      "text/plain": [
       "<IPython.core.display.HTML object>"
      ]
     },
     "metadata": {},
     "output_type": "display_data"
    }
   ],
   "source": [
    "double_nested_lambda2 = Lambda(x_11_to_mn, Add(\n",
    "    ExprRange(i, ExprRange(j, Mult(i, j, IndexedVar(x, (i, j))), \n",
    "                           one, n), \n",
    "              one, m)))"
   ]
  },
  {
   "cell_type": "markdown",
   "metadata": {},
   "source": [
    "First, let's consider a simple example in which we assume that $m=2$ and $n=2$ and apply `double_nested_lambda` to $(a, b, c, d)$."
   ]
  },
  {
   "cell_type": "code",
   "execution_count": 79,
   "metadata": {},
   "outputs": [
    {
     "data": {
      "text/html": [
       "<strong id=\"abcd\">abcd:</strong> <a class=\"ProveItLink\" href=\"../packages/proveit/logic/equality/__pv_it/theorems/b9025baedda49f8eb0a4eb7b23501a26c1fde0970/expr.ipynb\"><img src=\"data:image/png;base64,iVBORw0KGgoAAAANSUhEUgAAAFAAAAAVBAMAAAAjqnRBAAAAMFBMVEX///8AAAAAAAAAAAAAAAAA\n",
       "AAAAAAAAAAAAAAAAAAAAAAAAAAAAAAAAAAAAAAAAAAAv3aB7AAAAD3RSTlMAInZUiRDNmWbv3US7\n",
       "qzJazP2FAAAACXBIWXMAAA7EAAAOxAGVKw4bAAABfUlEQVQoz4VTPUjDQBh9/UmvSVuaWSycotBJ\n",
       "Kqhgp1KcBKWroKSji5ChiFs7iYMgDqKgQ6GKg0tXp1Y3J6EW57g4uLRY4uLid3eJtJDQg9w93r37\n",
       "7n3fdwFgYuqIiClamC5McZpWxgjtpRkg+7xEnvaq41zCDgo4QqIC1hinskE+Ui6SNvQJrlMJEMbJ\n",
       "zwXWJrjNoJuFn33URPb9Oa64g/k3b7ecdxTIlQfkZ4ukwKOZdlXWPxVLlXWmwLrK4Dleyc8xWrR9\n",
       "BabKEnOhq9i3Pthp4JCWdVwDbAijJFlWRVYi5voG6+IQMBBCvQurLVnSd2SB9K4vvIH2K9yJqy2O\n",
       "s/8y1mWBLO736hvJIa1FPBNbwHvM1ITQIb8SUBvaAmgjZKrLwCnljTSP3TNY1MtMI21LQCnHHQEo\n",
       "UNGmOtbwRad627klGHeE+keQABsniwrsLXz0qKIPMBzf9mo4QKQp2u2NUjiQT+fJz4+HAmCWvl0P\n",
       "RxEKVLQIn/4rRE38AQwMUMhXz3KBAAAAAElFTkSuQmCC\n",
       "\" style=\"display:inline;vertical-align:middle;\" /></a><br>"
      ],
      "text/plain": [
       "<IPython.core.display.HTML object>"
      ]
     },
     "metadata": {},
     "output_type": "display_data"
    }
   ],
   "source": [
    "abcd = ExprTuple(a, b, c, d)"
   ]
  },
  {
   "cell_type": "markdown",
   "metadata": {},
   "source": [
    "We'll make some assumptions and prove a few things to meet the requirements."
   ]
  },
  {
   "cell_type": "code",
   "execution_count": 80,
   "metadata": {},
   "outputs": [
    {
     "data": {
      "text/html": [
       "<strong id=\"defaults.assumptions\">defaults.assumptions:</strong> <a class=\"ProveItLink\" href=\"__pv_it/exprrange_reductions/5c566e3cd1b843078aead642e9430b5a476615ea0/expr.ipynb\"><img src=\"data:image/png;base64,iVBORw0KGgoAAAANSUhEUgAAAH8AAAAVBAMAAACd/CwcAAAAMFBMVEX///8AAAAAAAAAAAAAAAAA\n",
       "AAAAAAAAAAAAAAAAAAAAAAAAAAAAAAAAAAAAAAAAAAAv3aB7AAAAD3RSTlMAInZUiRDNmWbv3US7\n",
       "qzJazP2FAAAACXBIWXMAAA7EAAAOxAGVKw4bAAABx0lEQVQ4y52UMWgUURCGv729zd3t5cIFAoEQ\n",
       "cC3EJoJFSJsldUI21kK2ESwsLMSVYHGdVTSFjVh4kCIQlCw2QlLkEmyVKBiCzV1xlY1nIBIIZJ23\n",
       "a/V2eQf3YN9b+Gf+mfln3gOajLxS19Ld0Qk+qm2+GJt++tXoa0WPepRa4ITFeIfV2EQwS/kKHkCl\n",
       "VYg3mtS2TATf4A28gFoxXrug8cdE8C6gK0ECForxRpvGtYngJ3R7jLV4AvU7a0vHeRN3kCn9Y2rO\n",
       "6y8XCLIH5RMeyj7+nXXV0spuuk4y/LeXHv4Xz7mM7VSQjRT/kOET51AN2YYDt8ONXi5AZleP32Od\n",
       "Ux3kM5RAwvsWgvWYxUDHK530cJwr7Asq+W4/V1kMFAGLcJrDN/+f9kB513wdr6pK61uqBOV96Wga\n",
       "2D6TWT9CXJ/DZqBpMI/VxG6j5H8tSZa1AH24hXKS2FLiqaUN3IRPKaDaYUXG9ppS+FIb5Z0oajt/\n",
       "5U/kfQWf9QAzUbQhOfv8kkLaOGfanXSTJAnZlRT24TZ8uqkPQZIIvRvj9gzjZgdD7vOMiPnYgJeH\n",
       "PQjP5Dsy4PeG+FtqVu4bDLwhBOPqAlje6E+aKPsPFq91bEart2wAAAAASUVORK5CYII=\n",
       "\" style=\"display:inline;vertical-align:middle;\" /></a><br>"
      ],
      "text/plain": [
       "<IPython.core.display.HTML object>"
      ]
     },
     "metadata": {},
     "output_type": "display_data"
    }
   ],
   "source": [
    "from proveit.numbers import two\n",
    "defaults.assumptions = [Equals(n, two), Equals(m, two)]"
   ]
  },
  {
   "cell_type": "code",
   "execution_count": 81,
   "metadata": {},
   "outputs": [
    {
     "data": {
      "text/html": [
       "<span style=\"font-size:20px;\"><a class=\"ProveItLink\" href=\"__pv_it/exprrange_reductions/f2608d5d08ca932a6528710adef0aaa8c55f08560/expr.ipynb\"><img src=\"data:image/png;base64,iVBORw0KGgoAAAANSUhEUgAAADcAAAAOBAMAAAB5gJkQAAAAMFBMVEX///8yMjJmZmYiIiIQEBCq\n",
       "qqqYmJjMzMxERER2dnbc3Nzu7u5UVFSIiIi6uroAAACibcT0AAAAAXRSTlMAQObYZgAAAAlwSFlz\n",
       "AAAOxAAADsQBlSsOGwAAALRJREFUGNNjYMAOuJQkChhwgRUMnP9wSp5iYHDBKem/geH8AlyShxkY\n",
       "zhcw8N3ZNbeXfWYfprw9AwMnx1mG/XkMISAukzEYHADLsf9lYHjH3MCw/gJDPoZGZqCaDfsfMMRv\n",
       "YFDEkNQAEfEMIBlPdDk2sOEHGRgsGfh+caPZGcnAtQCkh/sfA4/AMlSN7BMYeDcwcH1nYPvAwDFh\n",
       "AqrkYiUlZQYGPgMGXgUGPl204LD///8jAwCMxCvV+M3zegAAAABJRU5ErkJggg==\n",
       "\" style=\"display:inline;vertical-align:middle;\" /></a>, <a class=\"ProveItLink\" href=\"__pv_it/exprrange_reductions/4025f37116aa5c7de72c1722af6178f72e23aef80/expr.ipynb\"><img src=\"data:image/png;base64,iVBORw0KGgoAAAANSUhEUgAAADMAAAAOBAMAAABwazlqAAAAMFBMVEX///9mZmYQEBCYmJgyMjKq\n",
       "qqrMzMwiIiJERER2dnbc3Nzu7u5UVFSIiIi6uroAAAA6K1lcAAAAAXRSTlMAQObYZgAAAAlwSFlz\n",
       "AAAOxAAADsQBlSsOGwAAAJ5JREFUGNNjYMAGuAQ9EhiwgxUMnP9wSJ1iYFDCIaW/geH8AuxSxxkY\n",
       "zicw8N3ZNbcXi2w9AwMnx1mG/WDN4uUgUAORYfvLwPCOvYFhPaZL2Q8wMGzY/4AhfgOGlASIiGdg\n",
       "OIIhw3wARALFP3Oj2xXJwAW0X5OB9Tcnmia2CQy8Gxi4vjHwOpihSS0XFBRnYOArYOA+HIDuqf//\n",
       "vzAAAExeKV0CDHADAAAAAElFTkSuQmCC\n",
       "\" style=\"display:inline;vertical-align:middle;\" /></a> <a class=\"ProveItLink\" href=\"__pv_it/exprrange_reductions/0f28a4dbe3deda8381b1c98ef13725a739ae9a5b0/proof.ipynb\" style=\"text-decoration: none\">&nbsp;&#x22A2;&nbsp;&nbsp;</a><a class=\"ProveItLink\" href=\"__pv_it/exprrange_reductions/c4cd40edd900298d165ee34d2e202aaeb7c7ebbb0/expr.ipynb\"><img src=\"data:image/png;base64,iVBORw0KGgoAAAANSUhEUgAAAGEAAAAVBAMAAACkm51HAAAAMFBMVEX///8AAAAAAAAAAAAAAAAA\n",
       "AAAAAAAAAAAAAAAAAAAAAAAAAAAAAAAAAAAAAAAAAAAv3aB7AAAAD3RSTlMAInZUiRDNmWbv3US7\n",
       "qzJazP2FAAAACXBIWXMAAA7EAAAOxAGVKw4bAAABZUlEQVQ4y3WTP0jDQBTGvzSmTZu0dXAQl6aL\n",
       "gyg4iODUQ1yFuCvpIjgWERGniKCDgw5uIhTsJArBUZfYVcQi6Fbs7JQOTqL4rpiKubybju+73/ub\n",
       "ABhF+uF0ZGYZ44Yj5thQvqqVGoBR5wisq1KhA+R8ljhUpSki8iyAvKsUdUDEPE9klfQjWSK2AGtm\n",
       "ZbFdWnr4m9LL2LRDfidJVCWxQY79DO8IC0NDPDpGHzAHQ9m9lOdaXjVfEhfAXSFExcFxDFjBFbRv\n",
       "QD9JFgVJnAGuF6DmYluKHsU1jE/oH9RnlCD2YgI1yOeng4HTiqBHKBJpJXJoDn6rwivQgtU3Youe\n",
       "l30XevN/H1a3+3Yu0IaMTnUU6+PDRQiqUsAM1RVRjmXILs0IthCxXulh0uwhJxSiTEHeKVsTmQas\n",
       "zeHnfQus7VNPQRLIPX05KPTYnU+ky2aDJXYY/Z4DtJAxVjnC5n5b2kv6qabLP6PtUpuGmB6yAAAA\n",
       "AElFTkSuQmCC\n",
       "\" style=\"display:inline;vertical-align:middle;\" /></a></span>"
      ],
      "text/plain": [
       "{m = 2, n = 2} |- (m * n) = 4"
      ]
     },
     "metadata": {},
     "output_type": "display_data"
    }
   ],
   "source": [
    "Mult(m, n).evaluation()"
   ]
  },
  {
   "cell_type": "code",
   "execution_count": 82,
   "metadata": {},
   "outputs": [
    {
     "data": {
      "text/html": [
       "<span style=\"font-size:20px;\"><a class=\"ProveItLink\" href=\"__pv_it/exprrange_reductions/f2608d5d08ca932a6528710adef0aaa8c55f08560/expr.ipynb\"><img src=\"data:image/png;base64,iVBORw0KGgoAAAANSUhEUgAAADcAAAAOBAMAAAB5gJkQAAAAMFBMVEX///8yMjJmZmYiIiIQEBCq\n",
       "qqqYmJjMzMxERER2dnbc3Nzu7u5UVFSIiIi6uroAAACibcT0AAAAAXRSTlMAQObYZgAAAAlwSFlz\n",
       "AAAOxAAADsQBlSsOGwAAALRJREFUGNNjYMAOuJQkChhwgRUMnP9wSp5iYHDBKem/geH8AlyShxkY\n",
       "zhcw8N3ZNbeXfWYfprw9AwMnx1mG/XkMISAukzEYHADLsf9lYHjH3MCw/gJDPoZGZqCaDfsfMMRv\n",
       "YFDEkNQAEfEMIBlPdDk2sOEHGRgsGfh+caPZGcnAtQCkh/sfA4/AMlSN7BMYeDcwcH1nYPvAwDFh\n",
       "AqrkYiUlZQYGPgMGXgUGPl204LD///8jAwCMxCvV+M3zegAAAABJRU5ErkJggg==\n",
       "\" style=\"display:inline;vertical-align:middle;\" /></a>, <a class=\"ProveItLink\" href=\"__pv_it/exprrange_reductions/4025f37116aa5c7de72c1722af6178f72e23aef80/expr.ipynb\"><img src=\"data:image/png;base64,iVBORw0KGgoAAAANSUhEUgAAADMAAAAOBAMAAABwazlqAAAAMFBMVEX///9mZmYQEBCYmJgyMjKq\n",
       "qqrMzMwiIiJERER2dnbc3Nzu7u5UVFSIiIi6uroAAAA6K1lcAAAAAXRSTlMAQObYZgAAAAlwSFlz\n",
       "AAAOxAAADsQBlSsOGwAAAJ5JREFUGNNjYMAGuAQ9EhiwgxUMnP9wSJ1iYFDCIaW/geH8AuxSxxkY\n",
       "zicw8N3ZNbcXi2w9AwMnx1mG/WDN4uUgUAORYfvLwPCOvYFhPaZL2Q8wMGzY/4AhfgOGlASIiGdg\n",
       "OIIhw3wARALFP3Oj2xXJwAW0X5OB9Tcnmia2CQy8Gxi4vjHwOpihSS0XFBRnYOArYOA+HIDuqf//\n",
       "vzAAAExeKV0CDHADAAAAAElFTkSuQmCC\n",
       "\" style=\"display:inline;vertical-align:middle;\" /></a> <a class=\"ProveItLink\" href=\"__pv_it/exprrange_reductions/b8c216abe9a3764de7d217c3c15b11de5d6fa30e0/proof.ipynb\" style=\"text-decoration: none\">&nbsp;&#x22A2;&nbsp;&nbsp;</a><a class=\"ProveItLink\" href=\"__pv_it/exprrange_reductions/58ec0a8f4d235df966dee2bd1f6b4f07ba459f700/expr.ipynb\"><img src=\"data:image/png;base64,iVBORw0KGgoAAAANSUhEUgAAA3IAAAAVBAMAAADx4MGtAAAAMFBMVEX///9UVFREREQiIiIQEBCY\n",
       "mJhmZmYyMjLu7u6qqqrMzMyIiIi6urp2dnbc3NwAAABm9RoHAAAAAXRSTlMAQObYZgAAAAlwSFlz\n",
       "AAAOxAAADsQBlSsOGwAAB2dJREFUaN6dWV1oHFUUPkl2t7O/rWiNELTxxQerMbUQmtLSpSoEbO3a\n",
       "hxarYLA0eZDSVYz0zW0R+iCYQAL1JSbQ55qtELURa8DgS4VuFH1oI51G9CWoeSlN09p4/+bec+bO\n",
       "nd3pIbM7m/N93/nuPTN3ZmfBBx4laB4+ejVRMm+l6BREV/Djq5UgluAnqVVqaWQJCM1H4jeTKz2E\n",
       "KJ5lH5bE++UWDF4Vr0uh/xbntUBYpFBHHy5HyznjMsQR8mNJapGkHZZYM0Izenh0UbOb2FNAUsQl\n",
       "2YlsA6XPvhTByX0wmK+4O8cF+JbbFfz/Qg1g1sBIsjT0/jRIOVdQMTkYRJgE+Gv4WXctUUGEgM3G\n",
       "ztIkILyM2QSdm7Tmahc1S2a3dU9RMau9qc6dI+kPozibx+C0u3Pn5HZmeE3+13v8Izabm2oahpOw\n",
       "DMX7IOVcQfAqDMGrQqkbbs47a8kK/CARMJS0g4kZvIpYgk0nIX2fJmOha15rnqJikx6p6twJkr4b\n",
       "xblWgyPuzp1QW15P9vdMPz2oYST5FMDLIOVcQcVkGEKmAm0+pMrOWrICCwlDSTuYmMGriCXY9NBK\n",
       "t0bMhma3ZU9RwUmSqDpXJovpWhTnF4BUzdm5stpo52BAw0jyUA22+VLOFeWIzhlCiv2tQdsDZy1Z\n",
       "ATRsIKZUChA+iIGWO5eCyM6h0ZXDjNY8RcZA4E12LkvOzWJvFIUtoZsqrs5xASES6tyIXupJ8lGA\n",
       "bdNSznWZq0Z0zhDOswO3F9rWnbVkBdCwkZhZOg8IH8RIy507H905YzYbXvla9BQZI4E32bkMv4Te\n",
       "urGiJqjrkrqxKX57TK3MT86xJbS4xdU5LiBEQp1b1Gd/I9SJfUrOtVoQ/NUn/v6yjgknxWvHqruW\n",
       "qAAathgzSycB4QuXPr2xHeIJFl2Qcr8/hztnzHI/YgQXf55P4ImKYl+LpnP8+Ci8Bi/IE3z0tCeX\n",
       "oVI/vCN5C347c5OuBp07vpPHDt05LiAOslDnjpLTBXUud0/JOYLiG0/XuSVDkIfrTN1dS1QADTsa\n",
       "M0sjgPDF9i4Y9eMJFl2Q3oIJ3DljlvvhI7g9ny0n8ERFsa+jpnMd7Bz7uALHJWiqBq/KA6OhdrxX\n",
       "IMPXw7LrnOMCfAt3bkIfYzQJHVuUnCMIvjD/IpTWMaFfvO6IqSUqgIZNxMxSPyD8Tx3d8O90PMGi\n",
       "C1Id3sadM2aZHzGCe5BeTeCJimJfE6ZzKTb7pwD2StAwwH9i51Rwkc2s8i5CbtXVOS7At3DnZvQV\n",
       "lybFuZxbjblCY7zn3YfsGiYcEK66Y2oFq4WCzcTM0gFA+NroPD90YwkWXZGGceeMWeZHjSBTTeCJ\n",
       "imJfM7Rz+8FT32j2QkF+L9iva3cDI0KhnLRzC47OpfkBXii32DnIrkJbFRPEZL8OMbXS+pQTsIVm\n",
       "ndP4KYDOJgSbPiWO94O4c8Ys98NGwNqWaiTxREWRrwWyWnrmXL4LGTFlnr5SjMqTNtvrus65Vstx\n",
       "x2o5CSVfyrWyWvK2ba7UEKFfPpn4x11LVAANG2+2Wmo8m57bXjzBpneK4/2Bh1fLXuyHjYCtWtf8\n",
       "WgJPVBT5Gjeda6+Dd5epfw5ceZ1f8/jObXbkiJ3RMejM+pDudp1zTEBswrRnZvOwONEhnMw1IF+T\n",
       "cp7t2sazY3Wq1kAEfpd1EeAbqDlqiQoCKmAmGXpUEYgZ/EG2rBWdBAf9IF+w2qp/Soa8Q9FmuR82\n",
       "ArZqdZYqCTxRUeTrsOkcv4PdDuODg94d9mkrPANihy3918VOez3bl1G325Gd4wLiNrjIbgFHxWp+\n",
       "01c33EKBJv8YGjqu5PhngRAJ/Yni2aX56/S0IfD74lLf0FCvwEbVEhU4VMBQUtcyRRcB49chXz2G\n",
       "CNSXbVd4WecLVnujIf1w38gs98NGwFat54uRnrQo8URFsa+TpnM5pnPmuy+6pmEn6++Z39htLN8p\n",
       "/vpmTex4XddvzbHTft7VOS7At7bH7myFDv6g+JFD7zGVPRzBFWhy38bGHSUnPvfxncHgxcb/wEy9\n",
       "gQkX2PvGxkZVYKNqiQocKmEmaWr1ITGDL/SCt3UMEYyvPmsnoDNSfhAK7/qCIXwjs9wPG8FXAD9e\n",
       "ifSkRYknKop97UFPv3br7/s15w47MN3PLXdjkc/0o9VerWAnpRz6TDxE4BGhY9pyF1sLJWkQMVTL\n",
       "SYijEwYa3e4wJYkniuEkSVSd049Hi+4d9eQ0unNHsEiDPjctQmRSPYhtWM5deETQT2uL0FItlKRB\n",
       "xFAtJyGOThhodEfClCSeKIaTMhXUufbgaesn4NzhP044O8cFAhFP/2a4bBTspJTz7B8YHXhC6LHc\n",
       "xdZaDoH13QARQ7VchDg6YWCz7X6Y0rqnEGZZE1XnvOBLrda1d5SB6M5xgUAkr3M9RsFOSrm8PR8O\n",
       "PCGctdzF1uoJgfWzYSKGarkIcXTCwGb17D6EpxCmRxOXYE68r7TwxeWKeJ0LF5rWAmGRPP7dZCVa\n",
       "zhkrEEco1ZPUIkk7LLFmhGb08OiiZjexp4CkiHP/AwkaGFjhwX77AAAAAElFTkSuQmCC\n",
       "\" style=\"display:inline;vertical-align:middle;\" /></a></span>"
      ],
      "text/plain": [
       "{m = 2, n = 2} |- |(a, b, c, d)| = |((1, 1), (1, 2), ..., (1, n), (2, 1), (2, 2), ..., (2, n), ......, (m, 1), (m, 2), ..., (m, n))|"
      ]
     },
     "metadata": {},
     "output_type": "display_data"
    }
   ],
   "source": [
    "from proveit import extract_var_tuple_indices\n",
    "Equals(Len(abcd), Len(extract_var_tuple_indices(ExprTuple(x_11_to_mn)))).prove()"
   ]
  },
  {
   "cell_type": "code",
   "execution_count": 83,
   "metadata": {},
   "outputs": [
    {
     "data": {
      "text/html": [
       "<strong id=\"eq\">eq:</strong> <span style=\"font-size:20px;\"> <a class=\"ProveItLink\" href=\"../packages/proveit/numbers/numerals/decimals/_theory_nbs_/proofs/count_to_2_range/thm_proof.ipynb\" style=\"text-decoration: none\">&nbsp;&#x22A2;&nbsp;&nbsp;</a><a class=\"ProveItLink\" href=\"../packages/proveit/numbers/numerals/decimals/__pv_it/theorems/a859225b88ee453b5fed3467550d780a123510610/expr.ipynb\"><img src=\"data:image/png;base64,iVBORw0KGgoAAAANSUhEUgAAAJkAAAAVBAMAAACnAFEqAAAAMFBMVEX////MzMxUVFRERES6uroi\n",
       "IiIQEBCYmJhmZmYyMjLu7u52dnaqqqqIiIjc3NwAAACW8nlqAAAAAXRSTlMAQObYZgAAAAlwSFlz\n",
       "AAAOxAAADsQBlSsOGwAAAddJREFUOMuVlb9LHEEUxz853bvzfizXWFkogpAqXv6AiJVd4JAIIgde\n",
       "IRY2HtqYThBxg81hCiGNB9bBw39Amwhqc51goQsiWImCjUKyzqx7487MwpIvzPBm9rNvZ+a9eQv4\n",
       "6HJJkE+qQqR8bMz2d23SghL0VXbnog22o5m7H5/hwiY1yJbr/axQbkKhReHjXgS6VY4mGbBe06AE\n",
       "3VB8gl+QFx65jsCMT7ZBbt2kNShBn2AR1iBLDMy+kPkHSyatQQlabjMuFtLmNA5mamQeYdekT1O8\n",
       "jcF4hYEm2wboPMChSW+neBOah+LI2zpi4LDIj+/hWc2EGpH2bqq3D38h16JugNOinZhsPdWbI75a\n",
       "arCgg/mqXJ/JLqR625DrezDBFdlN/be3nDyQ/oaxiVKHe/hjnlvqTs9xfUo1vvTAkB2CS1g1YR3S\n",
       "r0kYgw7lNrnqWzYc+RSe5c2a9bxalBBxaVDYHbRiBreetyl202FQDEaXd5rMiO86QRCIp99MbxrE\n",
       "rIzhes+Yk8kWBMKzM4lT6R2Z2oVbs+JvQ0pnyrrl/YoX9Tuuh8yGlDrK2hJtIrJ/x+qLJRtSUVC1\n",
       "1ZWpuh8NutarMdmQqsrK6pOl3DWJcsI/wO2mV/IreAUn/o3TLfCdLwAAAABJRU5ErkJggg==\n",
       "\" style=\"display:inline;vertical-align:middle;\" /></a></span><br>"
      ],
      "text/plain": [
       "<IPython.core.display.HTML object>"
      ]
     },
     "metadata": {},
     "output_type": "display_data"
    }
   ],
   "source": [
    "eq = Equals(ExprTuple(one, two), ExprTuple(ExprRange(k, k, one, two))).prove()"
   ]
  },
  {
   "cell_type": "code",
   "execution_count": 84,
   "metadata": {},
   "outputs": [
    {
     "data": {
      "text/html": [
       "<span style=\"font-size:20px;\"><a class=\"ProveItLink\" href=\"__pv_it/exprrange_reductions/4025f37116aa5c7de72c1722af6178f72e23aef80/expr.ipynb\"><img src=\"data:image/png;base64,iVBORw0KGgoAAAANSUhEUgAAADMAAAAOBAMAAABwazlqAAAAMFBMVEX///9mZmYQEBCYmJgyMjKq\n",
       "qqrMzMwiIiJERER2dnbc3Nzu7u5UVFSIiIi6uroAAAA6K1lcAAAAAXRSTlMAQObYZgAAAAlwSFlz\n",
       "AAAOxAAADsQBlSsOGwAAAJ5JREFUGNNjYMAGuAQ9EhiwgxUMnP9wSJ1iYFDCIaW/geH8AuxSxxkY\n",
       "zicw8N3ZNbcXi2w9AwMnx1mG/WDN4uUgUAORYfvLwPCOvYFhPaZL2Q8wMGzY/4AhfgOGlASIiGdg\n",
       "OIIhw3wARALFP3Oj2xXJwAW0X5OB9Tcnmia2CQy8Gxi4vjHwOpihSS0XFBRnYOArYOA+HIDuqf//\n",
       "vzAAAExeKV0CDHADAAAAAElFTkSuQmCC\n",
       "\" style=\"display:inline;vertical-align:middle;\" /></a> <a class=\"ProveItLink\" href=\"__pv_it/exprrange_reductions/b515cecf8f584a7339c2ccf1305cc13786be7b4c0/proof.ipynb\" style=\"text-decoration: none\">&nbsp;&#x22A2;&nbsp;&nbsp;</a><a class=\"ProveItLink\" href=\"__pv_it/exprrange_reductions/72e8e1b36d9097c62cae0155a0f58faf68ff41850/expr.ipynb\"><img src=\"data:image/png;base64,iVBORw0KGgoAAAANSUhEUgAAAK4AAAAVBAMAAAAtL8hrAAAAMFBMVEX////MzMxUVFRERES6uroi\n",
       "IiIQEBCYmJhmZmYyMjLu7u52dnaqqqqIiIjc3NwAAACW8nlqAAAAAXRSTlMAQObYZgAAAAlwSFlz\n",
       "AAAOxAAADsQBlSsOGwAAAgpJREFUOMuVlTFPGzEYht8GLsAlObEwdUjFUOhQKfyAVAwV8wmBhKoM\n",
       "HZjoUEonNkYQC+qSkRPMNFF3lCwgQQeiLpW6cFKXTkAmlAxN/Tn2xf58uYpXupN1efzk7PtsA4hh\n",
       "J0BKYjwh0lBqs6eTHZd0oMxIw3dxPXunnvw5WAJ+uiRBc5EJZUYY/CPg5KCvBlBBaxkzEecE5C8e\n",
       "RyaUGWGY3qZhKm8uRv49pvY4J6HbyIQyIwx5GN58H7m/wBbnJKS9CsrMFq5Mby5ErgvUOXZlehWU\n",
       "mToOTa+I9wB849ih6VVQeiX8+HpeBRnqzFsWNbIr53Rd5sXw721vuTPGW5h4jUZMhhrzrorrkuM1\n",
       "5l0dN/63XgX3s2TYtL3TFXodjm/aXgmlJmos4yYiA/Pu0G3lP96d8R/sBnglDfY8FJu4Ay74/Nrz\n",
       "MITSI6SPPhmq2utT4znwC/jM6ar2RgnkrMmh4AOK/QIZZE0VRJ03xIIONvb3Q1VWZiTUiuH3oCDZ\n",
       "kjfqlzSCLkpHn8gwR5X+srcAT+w93mAwEL+ucS9B8x+/bGM90hC1sEG1vKcbQjAZwl9ok8Gb1Z2v\n",
       "k+0z5N4EKibDL7oTcQ3DMNpkmtYuw/cRVfejFeB+s6a1T73R056sod9uFw2dJU/O3O82WoRkONVH\n",
       "giMxoqFRV3cll+zXCDhRSjnLgs5TziFh+Acxdp00JS656wAAAABJRU5ErkJggg==\n",
       "\" style=\"display:inline;vertical-align:middle;\" /></a></span>"
      ],
      "text/plain": [
       "{n = 2} |- (1, 2) = (1, 2, ..., n)"
      ]
     },
     "metadata": {},
     "output_type": "display_data"
    }
   ],
   "source": [
    "eq.inner_expr().rhs[0].end_index.substitute(n)"
   ]
  },
  {
   "cell_type": "code",
   "execution_count": 85,
   "metadata": {},
   "outputs": [
    {
     "data": {
      "text/html": [
       "<span style=\"font-size:20px;\"><a class=\"ProveItLink\" href=\"__pv_it/exprrange_reductions/4025f37116aa5c7de72c1722af6178f72e23aef80/expr.ipynb\"><img src=\"data:image/png;base64,iVBORw0KGgoAAAANSUhEUgAAADMAAAAOBAMAAABwazlqAAAAMFBMVEX///9mZmYQEBCYmJgyMjKq\n",
       "qqrMzMwiIiJERER2dnbc3Nzu7u5UVFSIiIi6uroAAAA6K1lcAAAAAXRSTlMAQObYZgAAAAlwSFlz\n",
       "AAAOxAAADsQBlSsOGwAAAJ5JREFUGNNjYMAGuAQ9EhiwgxUMnP9wSJ1iYFDCIaW/geH8AuxSxxkY\n",
       "zicw8N3ZNbcXi2w9AwMnx1mG/WDN4uUgUAORYfvLwPCOvYFhPaZL2Q8wMGzY/4AhfgOGlASIiGdg\n",
       "OIIhw3wARALFP3Oj2xXJwAW0X5OB9Tcnmia2CQy8Gxi4vjHwOpihSS0XFBRnYOArYOA+HIDuqf//\n",
       "vzAAAExeKV0CDHADAAAAAElFTkSuQmCC\n",
       "\" style=\"display:inline;vertical-align:middle;\" /></a> <a class=\"ProveItLink\" href=\"__pv_it/exprrange_reductions/b515cecf8f584a7339c2ccf1305cc13786be7b4c0/proof.ipynb\" style=\"text-decoration: none\">&nbsp;&#x22A2;&nbsp;&nbsp;</a><a class=\"ProveItLink\" href=\"__pv_it/exprrange_reductions/72e8e1b36d9097c62cae0155a0f58faf68ff41850/expr.ipynb\"><img src=\"data:image/png;base64,iVBORw0KGgoAAAANSUhEUgAAAK4AAAAVBAMAAAAtL8hrAAAAMFBMVEX////MzMxUVFRERES6uroi\n",
       "IiIQEBCYmJhmZmYyMjLu7u52dnaqqqqIiIjc3NwAAACW8nlqAAAAAXRSTlMAQObYZgAAAAlwSFlz\n",
       "AAAOxAAADsQBlSsOGwAAAgpJREFUOMuVlTFPGzEYht8GLsAlObEwdUjFUOhQKfyAVAwV8wmBhKoM\n",
       "HZjoUEonNkYQC+qSkRPMNFF3lCwgQQeiLpW6cFKXTkAmlAxN/Tn2xf58uYpXupN1efzk7PtsA4hh\n",
       "J0BKYjwh0lBqs6eTHZd0oMxIw3dxPXunnvw5WAJ+uiRBc5EJZUYY/CPg5KCvBlBBaxkzEecE5C8e\n",
       "RyaUGWGY3qZhKm8uRv49pvY4J6HbyIQyIwx5GN58H7m/wBbnJKS9CsrMFq5Mby5ErgvUOXZlehWU\n",
       "mToOTa+I9wB849ih6VVQeiX8+HpeBRnqzFsWNbIr53Rd5sXw721vuTPGW5h4jUZMhhrzrorrkuM1\n",
       "5l0dN/63XgX3s2TYtL3TFXodjm/aXgmlJmos4yYiA/Pu0G3lP96d8R/sBnglDfY8FJu4Ay74/Nrz\n",
       "MITSI6SPPhmq2utT4znwC/jM6ar2RgnkrMmh4AOK/QIZZE0VRJ03xIIONvb3Q1VWZiTUiuH3oCDZ\n",
       "kjfqlzSCLkpHn8gwR5X+srcAT+w93mAwEL+ucS9B8x+/bGM90hC1sEG1vKcbQjAZwl9ok8Gb1Z2v\n",
       "k+0z5N4EKibDL7oTcQ3DMNpkmtYuw/cRVfejFeB+s6a1T73R056sod9uFw2dJU/O3O82WoRkONVH\n",
       "giMxoqFRV3cll+zXCDhRSjnLgs5TziFh+Acxdp00JS656wAAAABJRU5ErkJggg==\n",
       "\" style=\"display:inline;vertical-align:middle;\" /></a></span>"
      ],
      "text/plain": [
       "{n = 2} |- (1, 2) = (1, 2, ..., n)"
      ]
     },
     "metadata": {},
     "output_type": "display_data"
    }
   ],
   "source": [
    "Equals(n, two).sub_left_side_into(eq.inner_expr().rhs[0].end_index, \n",
    "                                  auto_simplify=False)"
   ]
  },
  {
   "cell_type": "code",
   "execution_count": 86,
   "metadata": {},
   "outputs": [
    {
     "data": {
      "text/html": [
       "<span style=\"font-size:20px;\"><a class=\"ProveItLink\" href=\"__pv_it/exprrange_reductions/f2608d5d08ca932a6528710adef0aaa8c55f08560/expr.ipynb\"><img src=\"data:image/png;base64,iVBORw0KGgoAAAANSUhEUgAAADcAAAAOBAMAAAB5gJkQAAAAMFBMVEX///8yMjJmZmYiIiIQEBCq\n",
       "qqqYmJjMzMxERER2dnbc3Nzu7u5UVFSIiIi6uroAAACibcT0AAAAAXRSTlMAQObYZgAAAAlwSFlz\n",
       "AAAOxAAADsQBlSsOGwAAALRJREFUGNNjYMAOuJQkChhwgRUMnP9wSp5iYHDBKem/geH8AlyShxkY\n",
       "zhcw8N3ZNbeXfWYfprw9AwMnx1mG/XkMISAukzEYHADLsf9lYHjH3MCw/gJDPoZGZqCaDfsfMMRv\n",
       "YFDEkNQAEfEMIBlPdDk2sOEHGRgsGfh+caPZGcnAtQCkh/sfA4/AMlSN7BMYeDcwcH1nYPvAwDFh\n",
       "AqrkYiUlZQYGPgMGXgUGPl204LD///8jAwCMxCvV+M3zegAAAABJRU5ErkJggg==\n",
       "\" style=\"display:inline;vertical-align:middle;\" /></a> <a class=\"ProveItLink\" href=\"__pv_it/exprrange_reductions/aada234de3f57b1a5befbd68b39cbb01249a55840/proof.ipynb\" style=\"text-decoration: none\">&nbsp;&#x22A2;&nbsp;&nbsp;</a><a class=\"ProveItLink\" href=\"__pv_it/exprrange_reductions/0e6333657a573ff78b2363c334f028c304ab358b0/expr.ipynb\"><img src=\"data:image/png;base64,iVBORw0KGgoAAAANSUhEUgAAALQAAAAVBAMAAAAdo9lKAAAAMFBMVEX////MzMxUVFRERES6uroi\n",
       "IiIQEBCYmJhmZmYyMjLu7u52dnaqqqqIiIjc3NwAAACW8nlqAAAAAXRSTlMAQObYZgAAAAlwSFlz\n",
       "AAAOxAAADsQBlSsOGwAAAklJREFUOMuVlT9oFEEUxr/N7d4mc7tHmtQegv8KzRW2kSvETjjFgKiQ\n",
       "K8TCFDnQQisPQvBCEA4tBBsXrSziLbYipjGgKbLY2IguhGAlRkgTwcQ3e7Ob+XPrch/s3Nvhm9/M\n",
       "vnkzByCGKv2dq4oRlQzw17Tei0OcX0dF2xE1G/RMBWKu7pNJ+G3D6IWAdQ2SqVBfANYDO/lcoLdQ\n",
       "2QWeGb5XwIvlP5BNRZoIMM7X+F2gzwC3gHuG7yFPXIoemIrkdlCGhF4IMB2jHOi+lowemAp1Gx9l\n",
       "9DFgehITerK9nowemAr1FCsymjQHVGqaazyU0QNTTmF8fv1uxnp7lsI3BFfQ1l9KE18klma5Lidb\n",
       "0lbR3DRcldJp9O9incL7uKGiHVqx19IGOGsq2qnloc87dfyK8IDCddxU0Yt8UTvagHJDRS/mJjjo\n",
       "N7AZYJnCIxra5euxW/9Hu7X8zdsE585TdEFLyAaqMbymlmstIYkpR6eA67D3GfABMyma060QfgC3\n",
       "rvlLkUAzpCY2JBm8mQfbxVjvB3CHaoT0Pgbbo9/tbndJ1Jqy7zwDlX2g30tNScSbZFwWVH/D3UEp\n",
       "JMIKpqjj6MLjNmZp1rmDAzI4DQ1tUYbGju+dgMOvqMSURE6HmqtpwAF2E34H9iNK2BU46cHysirZ\n",
       "Nr71Uhp8ghnBACT3Y5NfI+KrlctIVXZhHaYqNI+LeoLpmJ0T8Wo2X90YVRIVwaK05zDKtKq8bdHz\n",
       "UsSRzpHExGx+1uObFaJOxldc1ef/NqRcf476B+bH+Af3aaVUQZsVTQAAAABJRU5ErkJggg==\n",
       "\" style=\"display:inline;vertical-align:middle;\" /></a></span>"
      ],
      "text/plain": [
       "{m = 2} |- (1, 2) = (1, 2, ..., m)"
      ]
     },
     "metadata": {},
     "output_type": "display_data"
    }
   ],
   "source": [
    "Equals(m, two).sub_left_side_into(eq.inner_expr().rhs[0].end_index)"
   ]
  },
  {
   "cell_type": "markdown",
   "metadata": {},
   "source": [
    "Now we will apply `double_nested_lambda1` to $(a, b, c, d)$ and demonstrate the expansion of nested **ExprRanges**."
   ]
  },
  {
   "cell_type": "code",
   "execution_count": 87,
   "metadata": {},
   "outputs": [
    {
     "data": {
      "text/html": [
       "<a class=\"ProveItLink\" href=\"__pv_it/exprrange_reductions/b02bf20242e82a8157828e6a06a6977bd3e45c5e0/expr.ipynb\"><img src=\"data:image/png;base64,iVBORw0KGgoAAAANSUhEUgAAB+0AAAAXCAMAAAD5oS1BAAAANlBMVEX///8WFhYNDQ3MzMxUVFRE\n",
       "RES6uroiIiIQEBCYmJhmZmYyMjLu7u52dnaqqqqIiIjc3NwAAACzeusSAAAAAXRSTlMAQObYZgAA\n",
       "AAlwSFlzAAAOxAAADsQBlSsOGwAACpxJREFUeNrtXduiq6oOdW/vd/v/P3vUTlrAhCQYqt2nPCxm\n",
       "l5ExyEiCt9YsW9uS/dqvqbQlxniJ2Vmf1HIHn9xgXK4kP9m+UrYrxrq92N8vPbe2ztNvlfo1nVbN\n",
       "fFsTd35/EamL4cUtadoazgHuP9m+UrbY7LxF4bgVmXtJT0SC6afxt0j9mlpEt1xLE3d+n9cDvAO6\n",
       "QYUUAb90XV/mqX0iaKS7dHREubuyhdwTzZAvGwp/U9nO0DonW2x2ku1sHEpylDqvPe3dpBn72ULs\n",
       "9kP/W6J+Ta/1zKQ3cef2Q9H1D2gEdIMSKQJ+Kdd/xkeV1ieCRvDV0xHh7sqGu+cUQ65sKPxNZTtH\n",
       "64xsMp7s1UEjDrli04u9gneTSf/5Quz0XZv92q+ptbbj2Zm48/tsxsrGHF9PDqSqFqGDoBT7fa+m\n",
       "0YGvxDkn5aunI6KnK1vQPfEMubKh8LqyyXWT8k0uG7cdspI+lzwbh4IcDTcN7yaT/vOF2Omb7Nd+\n",
       "TbE1cNbP3iMqDdInWe0PpCb/zhwB3+z/WzwWFfhJfF9QyldRR1hPV7age04wZMqGwuvKJtdNyje5\n",
       "bOxR/DBLv9oLcpQYR8O7qaS/oBBb/fS7kP9rqq1/HcM6CTO5R8sm7vw+0Wrft+FcpOCLev/3kavA\n",
       "n1/tGe7S0rGHzkk82YLuOcGQKRsKryvb+ZLPcVdK2di8D1n5gdWen6PEub2Gd1NJf0Ehtvru79GB\n",
       "YZ6LIR9HxmODAlNeEw0oMb6W6QVoifiJhh0L81ft/L/7ycSd30es9hx2b1JwLjLgtyk8In3jwZ9f\n",
       "7Sm+1UpqGedyjpfTcPZdh8iGuAf3qK5sODyyQQP+hGwIrZBuCrJxmyfvm9UKX1baKsvE5pA5k6tp\n",
       "pSfZK2QuEglrbxb+9cxrLuasqxmhwDdlxpZkQInxtUwvQEvETzRs28Pr+1QSB56xqz2HXduHc5EB\n",
       "n2X5Y470jQd/frWn+I5ZuZLKBvByJk9Ow7ntmWeQoHtwj+rKhsMjGzTgT8iG0ArppiBb5Gnhi1W7\n",
       "Lk9To62yTGwOmTO5mlZ6kr1C5iKRsPb18zChXcduV70K+vqPwJTXRANKjK9legFaIn6yYd8h7MXk\n",
       "XFr14C/uDr18tWex8/PKz0UG/GpUxPrGgz+/2hN8qyqrt4OrBbqcyZTTcAYL6lE22D24R5Vlw+Hh\n",
       "DSrwJ2SDaYV005CN21x536y26bQPbZVFYrPInMnVpNKT7DUyF4mEtW+eFxO2oTtzODPYBzaDf5SD\n",
       "mg7jWBQRN29wbMLYBTzuidpqMI0dI9Iv4HWdoDTQDnGcSSLeUbX5699/aqc9rG/F/MXdoXfLxvDo\n",
       "4XpibWCF7ptUt1Npmr0rfDoB+KwrgQ28bHjBw+jB6yoxfIf1z81iem1kOQzU8e06a4yjbLB7cI+y\n",
       "EpkvGw4Pb2DVBgr+hGwwrZBuzOITlC3UbDNXXpfVuxIwslNSw3his8gwcpUoj4mkJ9kfI0DizWAk\n",
       "rL0Vf83f0Ug+z++zMudD2LTbZxq3soEDUsYOILInaKvB9MwYcjRQzaA0yGW1WM4N+9i2ws7tq966\n",
       "TcVb7bO6Q84e6o4MH/tDRRyqM+BbO9MdeDobKu1ze5LvtKd40UscButocX+PcZQNdw+uG5nIfNlQ\n",
       "eJwXXRsq7RM8mm9YN0bxCcoWPqHv0Ox8snouNM0ozE5uDeOKzSBD5ypVHpNJT7I/RAB/AuFIWPv3\n",
       "taVqu1Mw7JJNdiBNx6iCTbdjkiXuSUgMO2zsAUJ7wrYaTE+MEeUXMKJq2R7xnAkiMCmXXe78YoXe\n",
       "lXxW6Pqekl/J338Ja1nY6I6vPfjkV/JNtXi02RCbb2YDaHCQDXcPrhudyGzZUPgAL7o2UPDxsqG0\n",
       "grpxik9Qtrgr+YZVPf5xGKJUpsoFV2yaDCtXw+UxmfQke3bmcgux1T+f/RvKKiu2Q4AxQ0vmHwJu\n",
       "2g4vZ7HY0AN27Xrs16HGFqCzJ2n7/iAhGhrwyDS6wWg7QJHNrf2TkCFpoD1k82YTsWe/firh1b53\n",
       "ss88c+r34tWeE7o2KTgXSfh8H34e2OhufJTKqz3Jdz9t2C4HjnyHwTr6rgNlQ9yDM2QlMls2FB7b\n",
       "wKkNNHy0bLi7UN14xYeQjdt8eXdWz0vM62K0tHEqB2sYX2ySDCdXw+UxofQke2bm8gux1T8fz58e\n",
       "+dCt41QTWjLN3YOQ6cqjtm1Df9ADDm3VrM5oFtzYALprH8P278ORTegPdECIaWjKYjQDUGzPZLKk\n",
       "Qfbw561BxJ59Zn/LyPl+ifd9e+DrIWYL9rMY8AZG6GbeV5+AXKTgl7rbWi1BtwLOg/fQQ5ESy3cv\n",
       "WnOftTmbMqJjB/28tycb5h6cISeR2bKh8OgGRm2g4UOpHsc3oBur+BCyhSpRUN6d1fOZsnLMxiiV\n",
       "wzVMIDZFhpOr4fKYUnqSPS9zBYXY6vPn8tzN81qP2ynDS2b9fO1ByPT1aoTavCLhdcvh+Ac54DLM\n",
       "mwOfx4ywsfMuhteeDFvz4UU0xNQYoQNCTOEpd3FoBiB3wzAgDbLHYd4KRJzZr7vBX4Ed3eDNa7gv\n",
       "iubRQ8+cYhs4oXsk5eciBV8/9tZL0K2A8+APV/kCkRLHt3qmddFOfIchOoJ6erJh7sEZshKZKxsK\n",
       "j27g1AYaPlTdovgGdOMVH0K2UCUKyPtk9TxprLp5iVKZqGFssUkynFwlymM66Un2zMwVFGK7r/PQ\n",
       "vRT7wzRkhOny+o7VxLlUTA64ffHQPGMwwS8rGcA7QKTt60M8UWdAkqnkGhD4Y24rQN5k7pd4gtKA\n",
       "e4jmzSZiz35h3i80cef3JxscugdShwtzOvBINixnbwKm4hvIN8MZ0VNZNjiRPyUbUhto+Otkw4oP\n",
       "IRu3KcvLqWEfE5tTHu8svbAQOz30+gS4ZI5UsVi617MRrJf7kQM225FLt3/xADS2AJ09Sdv3h3ii\n",
       "zoAUU0kD998A5nK70JPlPGmgPWTzZhOxZ899+QP40oZUq/2B1OGdFTrwSDb48ApvxVFyF55vxHtR\n",
       "dGVDEvlTsiG1gYa/TDa0+MhfZ/MBeVk17FNis8rjjaWXFmK3LxekAgzuYzzDjBeL3XQp8zzvBtzW\n",
       "vzBBDvjYD4mmHDE2gB5R2vbNNJ6oOyDBVNJgtMffkVtbbl8UYUgD7SGbN5uIPfuF/XCQiTu/11i8\n",
       "PP9wSKnAw9mwlJl+K5VeqYLkm+GMcteUDUnkT8mG1IYby4YWH1K22OzUIB2sYR/LUU55vHXGygqx\n",
       "1w/+zJaxf4z7ZYLp/WE9joAgbdNmv12SYbaHRg5YbY8fzGOLGRtAjyht+2YaTdQdkGIqaeD+O8D2\n",
       "VPtSbM+aMqSB9pDNm03Enj0/pE3c+f2pFIBDl0NKAR7LhjLFu84GlYKE5htZ7TVlQxL5Q7JhteHG\n",
       "sqHFR22R1pSXVcM+JTarPN5Yemkh9vsFLf2Cl6uovydmSmV8LdPrQKdPEJkFaWLizu/VafFIacJP\n",
       "sT7J5O5LqmOA+39Qtgj4r5MtNjsTl44LxP526UWRQE+p4j9uVmn/hqxoQInxtUyvA01E85LZ353W\n",
       "TZ1yf8oXs/g+3b4w0u7J/ZsdqTOBNolpggHb7FuYXgfa3oXITf3zf+CU+1Nuf074z0faPbl/syPZ\n",
       "E/gfpVvqw4fJUq8AAAAASUVORK5CYII=\n",
       "\" style=\"display:inline;vertical-align:middle;\" /></a>"
      ],
      "text/plain": [
       "(x_{1, 1}, x_{1, 2}, ..., x_{1, n}, x_{2, 1}, x_{2, 2}, ..., x_{2, n}, ......, x_{m, 1}, x_{m, 2}, ..., x_{m, n}) -> (((1 * 1 * x_{1, 1}) +  (1 * 2 * x_{1, 2}) +  ... +  (1 * n * x_{1, n})) *  ((2 * 1 * x_{2, 1}) +  (2 * 2 * x_{2, 2}) +  ... +  (2 * n * x_{2, n})) *  ... *  ((m * 1 * x_{m, 1}) +  (m * 2 * x_{m, 2}) +  ... +  (m * n * x_{m, n})))"
      ]
     },
     "metadata": {},
     "output_type": "display_data"
    }
   ],
   "source": [
    "double_nested_lambda1"
   ]
  },
  {
   "cell_type": "code",
   "execution_count": 88,
   "metadata": {},
   "outputs": [
    {
     "data": {
      "text/html": [
       "<a class=\"ProveItLink\" href=\"__pv_it/exprrange_reductions/c2fb0b16847adf773dccfa907eb9489c81fc8bfb0/expr.ipynb\"><img src=\"data:image/png;base64,iVBORw0KGgoAAAANSUhEUgAAAZEAAAAVBAMAAAB1Wc4eAAAAMFBMVEX////MzMxUVFRERES6uroi\n",
       "IiIQEBCYmJhmZmYyMjLu7u52dnaqqqqIiIjc3NwAAACW8nlqAAAAAXRSTlMAQObYZgAAAAlwSFlz\n",
       "AAAOxAAADsQBlSsOGwAAA8NJREFUWMONl01oE0EUx/9JumlM0m0vngQVwS/8ihdv1Z7qSaxioWjB\n",
       "gqIgqFEvehADUprSg6GCiheDguApsSCepLkoiCjxJPgZWgQvioIgLdX4NvOx87HZ3Qf/7M503/vN\n",
       "ezs7MwXQAlOYubG6NLPDxgC5XQLFAvU1mEKtp2l1fYxwOcAlLQ4ogBM5Ngl6xbW6qvxVa3j2zvTP\n",
       "14HEUaWa5ZsD4j67Z4RGUGSSxkHfpneHgCyO6aJyyBK3SgKUrXSU3XLPj6k1mK0yOx4B96eX/fYi\n",
       "cr/9p0v0c5dLBGUgt4D5oe4gi2O6aByy/oYAZYpM+KLG+GIG7C3xm/38OuW9eCWTncApNTxwmYsb\n",
       "ByVbSE90B1kc00XjkB2sClAaTBGZ4Ay/vubXCSOT81XsainhKWqViRsHpZeR/BcCMjmmi8YheyJB\n",
       "L6n1MkYmt3VCvmJkshHYNaCEp4lSZOLGQckRJH+FgAyO5aJxyO5I0Ay1ZkIzWXj2nX7ndEKmbmRC\n",
       "dlzezX7aDuTWM3GTIDg/g0G5TxcsToCLwnG3vV2RoNuiDt0y6TmHfdS6ohM6xdYzSfyVX+lStdZC\n",
       "L702T0qxWcHXNQNB7jiuW5wAF5+D4VZqGQI0Th3jYZk8LGKSLi90gtOwMnFk/fPLSDeRp08p73/c\n",
       "EoTDwSCnjrMWJ8DF52RPI1OBAJ2knpN+zFoFRuMGcMyritcxOTp6anTUC5sekplkl1jc67JB4fvr\n",
       "SNCM8MQfkKBMoQuoc2twAlwUzk8vfQEyMnFKMBonkPUW8GG9VkomGGPr53rZoPAHG+ihUvVMyAck\n",
       "6CK6gWBzbBeFky6gNgQBippd2b/o9Qr7PGp2vYLb8rcTKnCeNnpPxuyiw8GPLiDYHNtF4dSauAYI\n",
       "0CDdDoZlsoJk5Q1wSSekmkYmiTr6hFP/AM1g9BaYuAnQGuB94HfyhyprcSwXlVNrYGu+JUBzYoWd\n",
       "V/cbpTGI56WSWA0lobO85pQt7mu5PCnuk8VUiS3UncWaGQe5Y+XySCCI5v9ji2O5qJxUMz+WkaDV\n",
       "3jGOtOH8rL+LqY37H9buoK3oiE5IUOjkpqXN/iLfbi/J97jNO8s4Q0zirMjktNvtSiAo9/Rq1eJY\n",
       "Lhpnx+OFtxLk0CidAUSZO2IQDkW6fOUSi2cskMWJMTYO8o5s8tjW3TJF42R3OdJliks5G0aDLE6M\n",
       "sQnQXq5wWzQ7UpH/ZhaYpMUCWZxoFwl6wBVuVrxsIcLDS1VLNxbIHnekiwS5TaZQ67PfwPcIl89c\n",
       "fu1igAI4kWPjoP/qh3wzSd88agAAAABJRU5ErkJggg==\n",
       "\" style=\"display:inline;vertical-align:middle;\" /></a>"
      ],
      "text/plain": [
       "((1 * 1 * a) + (1 * 2 * b)) * ((2 * 1 * c) + (2 * 2 * d))"
      ]
     },
     "metadata": {},
     "output_type": "display_data"
    }
   ],
   "source": [
    "requirements=[]\n",
    "double_nested_lambda1.apply(*abcd.entries, requirements=requirements)"
   ]
  },
  {
   "cell_type": "markdown",
   "metadata": {},
   "source": [
    "Note in the requirements below that we need indices to match, (1,2)=(1,…,𝑛)\n",
    "and (1,2)=(1,…,𝑚) in order to perform this parameter-dependent expansion."
   ]
  },
  {
   "cell_type": "code",
   "execution_count": 89,
   "metadata": {},
   "outputs": [
    {
     "data": {
      "text/html": [
       "<a class=\"ProveItLink\" href=\"__pv_it/exprrange_reductions/176a7b0d79d8a2d9a762add10c86a8015513381b0/expr.ipynb\"><img src=\"data:image/png;base64,iVBORw0KGgoAAAANSUhEUgAACKsAAAAVBAMAAABxxeJqAAAAMFBMVEX///8AAAAAAAAAAAAAAAAA\n",
       "AAAAAAAAAAAAAAAAAAAAAAAAAAAAAAAAAAAAAAAAAAAv3aB7AAAAD3RSTlMAInZUiRDNmWbv3US7\n",
       "qzJazP2FAAAACXBIWXMAAA7EAAAOxAGVKw4bAAAOwElEQVR42sVcbYhcVxl+Z3bufn+MQVTClk4a\n",
       "q/nRbldIAglCh1pQ3G479kdA2LKrEtxCi4uEJJRilwqJYK2rNFKbQBZSDWxbu4Rqif7obmyVfmka\n",
       "a62i7QiFYlGStia0FBLP93nPue8599yBHU+Zzd0778dznvc575x7704BoM7+46MCxaOOftpRsf9U\n",
       "6LeAzlCPZ6tA1KG+oblS6IhHrxSFq3QQFLNcd8LUSe8AD5Vw+koCxNKFs24Vx6Iew14vjb1eDLIj\n",
       "0tX5egfKSKWo3gHWUkXZeACYpeokTIkzWxO8TomfU97Z2qoJ4AcZaqBfttLhgmMrxBwY8I3M5UQr\n",
       "GjksxXiKU5BBhZNynML056xP4drYMRWsVSrsTgpn3WR4DWsKIth9nRVjP1VIX2ekq9ABSvXYefwn\n",
       "Lzz+cChyz50f3rXy/GIZfW4ttaQLirLxADBL21W1epro3ZlHCJfROxeqi+G2wgPw1+jP9Pl3WgDb\n",
       "0LSa6pzogwfuakN1MUqDE0wWHTkw4J/c/4dwLpGhRC5rL8e2Emxuz52h5o6HgL6tZFCDa1u+rWDr\n",
       "7PllzRXdVnStkHkBbKOIxMKROhJu2/JtZXuazijsNgOXiqcPf3qlSCewe5RqLetx3RvQC3PBhvVy\n",
       "G+Z6KW2HKM0bxTviYsH7Gw0AsZTNqWrtcd7+JuUzNgl7w21lj3zdsf+iquZfvsVo77XU79Hn+BiH\n",
       "2kcgw4UGDqaHdWDAK2tw22owl8yQnsvay9HbSu4qma8lCo+7uxTQoymygEB7TWTcVlzr3gXNFd1W\n",
       "9riQhHkBbK2INDIDOtqreXXaij/TkM5I7DqDlMpeij49vZKkE9gxpVbLehxgPasW2u1A3wJbcF+g\n",
       "tB2ilDCKjr3xtzcegGWpb1FV66Dz7vuUyzMtOBxuKwfVq2o6wQ2M9v4FY3ZQn+PjFYCfggwXGm4w\n",
       "OawDAz5Sh4GlYC6ZIT2XtZcDRSsafflGT80dDQk9mqIv8OHDnaQjbiuu9dik5opuKwddSGOTxbC1\n",
       "IhILR+vosObVaSv+TEM6I7GbDEIqhyn69PRKkk5gdym9wWsrr0C2NhMMzbLPZGuUtkOUEkbRcTj+\n",
       "9sYDsCwN6GotORegFymXLzPzVrCtLKmX21bgiDFbwqU43oI36zJcaCwRbcU6MOADF2Hk3WAumSE9\n",
       "l7VX40hyWxkAsq34c8ceEvqRckEtriN+WxnwF6biim4rSy6kZ1qFsI0iEgtH62hAh3faykCizijs\n",
       "NoOQiqMPf3rlSKewu5RqLVdfWPk5/7cFfe038jGvW1nhe6AM4DsjbUrbIUoJo7gMA0XpGgDL0k5V\n",
       "rR5nI1pbplzYrrB3MdRWeAARxGsr8+ZCbQ6X4m8Ab7ZluNAV+hzRVqwDAz6yDCOXg7lkhvRc1l6N\n",
       "+eS2sjPQVry5408OCX2+XFCLa95vKzv9ham4ItuKqRU2j8M2ikgsHK0j4Tbvt5WdiTqjsNsMQiqO\n",
       "PvzplSOdwu5SqrQ89HWzHv8zmt8K/epac/fn7NuktgOUUkbREShK9wBYlvapavXxm2BX3bRJvXnu\n",
       "erVxrF3zoLowfXWC7QprZ0NthQcQQby2Mm32l01v4/ikChfajzrBTv3549c1sMM+8XPwQiQXz1Ai\n",
       "l7Yfuv4rN53B0QrHPuU0evOL4bmLGbx1i1nmHPp0maAY17TfVvaJEm1pyFN3X/MnNWGyrZhaATIP\n",
       "0+gqIpVMxwuXb9pvK6KUN21rF+mMwm5xCan4+vCml0J6DLtLqdLyJ6yknxtuuXpl87G3LIZbz5Ha\n",
       "DlBKGdEjtziw1roGQORTLM2ravEuM/Qj+KOkZXZvJq8uKifgXul5uj7MEvTP6XLfs8LHE0bXppl7\n",
       "beWQ20ttWxl9T4WL9V4TrPlyg0OyDvIz53wjkotnKJFL29eGz8FsHUUrHPPK6fuwKzx3PoMPVnvM\n",
       "/p1DP1QmKMZ1yG8r86ZEfLt7qcUMxYRlyxe1WjkLqNjos0maB2l0FZFKpuuFy3fIbysc++bJvjVS\n",
       "ZwXYLS4hFV8f3vRSSI9ht5QiLX8NPTm5H1y9Mqz2wmF7f4PUNqYULSvKiB65xYG11i0AMp9i6YSq\n",
       "1iDrzF9dhHuk2Y0t+LHs7k11kD0MfXz7uRTarfAA/OW3FbPQxJuorQyeVeECwwk2tPo4VC5jhxPi\n",
       "5xOxXINnS+XS9r8ZXIOr2yha4TihnBrwwyAeMYP3oF9vrwT0XWWCYly7/LZyQpZIbtx7LsJAQ06Y\n",
       "3K2YWgEyD9LoKiKVTMfLKd8uv63wUj6qIMR0RmG3uIRUfH1400shPYbdpVRpGT1yMsfaiZ8zwzzd\n",
       "9RcKTSllRI7c4nC01i0AMp9i6aiq1gDj6j5eXTH2A/xXHNynu0DfBd5iYPRCqK3wAPzlt5Xz5mbO\n",
       "qttW+C5o9ELk5g8OlmUfcXkgh6MC1Vos171QKpe2b82uck3ZaIXjqHHaH8SjZtCnhSegny8TFOM6\n",
       "77eVo6ZEPPYcjDXlhMm2YmoFyDxIo6uIVDIdL6d85/22wrFfTNAZhd3iElLx9OFPL4X0GHaXUqnl\n",
       "0UfYp/vj4sRW9lbm6BXgX/zDX8i0OjnFb+vmtB2ilDIiR25xOFrrHgCeT7GE28oxyNST6UdhSD5e\n",
       "O2ZSrAFTNQwtlW0rpwNtpZ+3vqGlxLYCPRdgZA47CAH8ACK5+k1zTctl7G8EeA1HS2kr3IkJ8aEw\n",
       "HjYDxvuAvi0goJ8uFRThOk20FVUiucd8ZlJOOKWtSPNgyVxFJJLpeeHynSbaysBags4o7BaXkIqn\n",
       "D396SaRHsA8RuxXzzJYdjYvHuMgJwD5xnqmsice0+QVLU0oZBW6S+4sDa61LAFQ+xRK6CMrsFv19\n",
       "9fGRmaupWbkX71kO3VsJXQTtDlwEbYdKXYZLuQjitI0ttpDDCXEtCx8L5xIZSuQy9mztfpChaCkX\n",
       "QdyJCfHdLIiHzYALvN5Sl+Ec+u5SQRGu3cRF0Ky5XBqb5NtMMWHy3op3ISHNgyVzFJFKpueFy7eb\n",
       "uAiabYR0VoDd4pIXQcv5yxk7vTTSI9gtpUjLJuVIm63ZWUevDKsJ+AbrONkF6vICUYqWFWVEj9zi\n",
       "wFrrEgCVT7F0RlVruAHZ++ztz4ld0mV+n4UffMB6jziYnYTXeurQvxbarbAA4iVwZJb2B8T+XRnI\n",
       "c/y30SZUWzJclodp7E0w1glvbDWRAwf+FsC1aleXzyUyCFOUK/9kX1i49g+xHV0NRYsNg+UhvtUb\n",
       "mfuUj8fEZzNgn8OvVRbFGQE9lCIQFOF6QK0y83cUZ3SJuO9YO3sY5ITJ3YqplVp33LwVLJkYRhGJ\n",
       "hfO8cPkekLAy01YY9rFFgNWsQGcUdpNB3bJ19IGmV4J0FNmXnqY0w23lGu3x9tACfw6LnRgsjXV0\n",
       "4WnxjDuvbUQpHoRRgPHc4jBa6x4AlU+xNK2qxR8MnYHdCwvZJfbb6/B7EAfscupWcTDc6DnZp545\n",
       "kW3FPn97l4lD7P9uq6tHdiKCfH7FzonfNh84cI8Kx43FOeFlfnODXd2Gz/S3rQMHXjl54MCysKVy\n",
       "iQzC1OYSb5pcNqljX7kM1bkHUTQXlzmw700LJ7bVG242fTwmPpsB+xx+tiZzcOjRFPmgGNc+ucrk\n",
       "ZFeltSwR9x1ZHF5Q5JJtxdRKfdYw8yCNahhFJBbO88Ll2ydhzZqHPdPipketzc/EdEZhNxmEVFx9\n",
       "oOmRpBNCQA+feWRfeppSpG+AXr13eq63BeOfd5zY+IZ5ursXKr9dI7SNKHWWVd4or70cuzq71Fr3\n",
       "AKh8iqV3VLVGGd93fPqf59qwwtrPHV9kfY4f1L50f0scZOduvWqC7YtWQ22FB+Cvkb9eeh0G+feT\n",
       "/nH8bhblMW7BI/A35Tn+25NXrlxS4YTxSX6woH9oexvs1wzUd7EDAz545cqVOWFL5RIZhCnKJYxN\n",
       "rpM6mGM/tAzZ65MomsXleFr3d4RTdQGGvl338Zj4bAafBXh6izgjoQdTkEExrsfUKhM1WpXWskTc\n",
       "N3uV/9m1mDDZVnSt9Oc0Nw/RqIZRRFrhfC9cvsckLOEtpMQ1ePP3rpXQIzqjsJsMQiquPvD0KNIJ\n",
       "IVgvEdmXnqYU6ZvF//sv5fOQY3e+9PyHzzpOPM6LclNz+nfHXjp+rEloG1GKB2FkGLfQfXZ1dqm1\n",
       "7gFQ+RRLg21Vvl+Y2y+t4AFrWRBqKyKACbJDH1SWTYR8BhnOGoNjkQ+GHQbbuWhUrh2ua09+87sD\n",
       "aHsULTYcLBQeN36InOSgwkk6Tsnz8tZWOxd9M4Taiq7V6EtsrMdp/De3qZctHO0l3Cr6/sQOjcZg\n",
       "3xHXmYO9CBcLiqdXgnQc2ZOeodSZ+dAt8o/3Cb3y8dQLK3MJ2t6cA0QYBRiPF6VrACxL/ItXolrm\n",
       "i0a18IH6jhfdVg7jIGY/Jb+7VaMzqK+MNXNQXfsmEA7mG2M2GpWr6brWiD/lCdijaLHhYKHwuPFD\n",
       "5CQHFU7ScUqeF/Rb66Y7YbKtHIbcN8viNHZWOFI+IjyHZa5zDPZmXGcJ2A/S9HVGel56htJmkSTC\n",
       "I6pPZxBGAcbjRekaAMTSuqrWsL7LezsED/hXy4NthQfQQTJzT23cRshnkOGsMTgZ88Ech/UcuvGY\n",
       "r3S9PX+nrhHINQ60A+W+7mO3Edz4QXKSgwqncb3Kbjf0r/vR5YTptoJrlUJjZ4Wj5TOuYAlvKaV1\n",
       "ulh0W4lhp/TROek56RlKiZmTTtSI6tO9ZZozCjEeL0q3AGCWZvT/9EJHNY75A5WHbis8gA5SNe+t\n",
       "2wj5DDJcNT9zx77qz1OemMmhW4/5Stc8K1UI5FoH2oFyn/Gx2whu/CA5yUGF07peZQ1D/4wfXU6Y\n",
       "biu4Vik0dlY4Wj7rClbVSmmGLhbdVmLYKX10TnpOeobSarEkgiOqT7c/5YxCjMeL0i0AmKVKAybE\n",
       "mU1QPOQ9oAmfx7YJ4AepYqyb6HDBsQliDpXGhuaqlvlfg1ao7hPHU5yCDCqclOMEpj9nvQXXxo6J\n",
       "YK1SYXdSOOsmw2tYExDB7uusGPuWQvo6I12FDlDayUjS56ZSIbf8vwFYlv4HA8325+jh00EAAAAA\n",
       "SUVORK5CYII=\n",
       "\" style=\"display:inline;vertical-align:middle;\" /></a>"
      ],
      "text/plain": [
       "(|(a, b, c, d)| = |((1, 1), (1, 2), ..., (1, n), (2, 1), (2, 2), ..., (2, n), ......, (m, 1), (m, 2), ..., (m, n))|, |(a, b)| = |((_b, 1), (_b, 2), ..., (_b, n))|, |(c, d)| = |((_b, 1), (_b, 2), ..., (_b, n))|, 1 in Integer, n in Integer, (1, 2) = (1, 2, ..., n), m in Integer, (1, 2) = (1, 2, ..., m))"
      ]
     },
     "metadata": {},
     "output_type": "display_data"
    }
   ],
   "source": [
    "# remove duplicate requirements using an OrderedDict\n",
    "from collections import OrderedDict\n",
    "requirements = list(OrderedDict.fromkeys(requirements))\n",
    "requirements"
   ]
  },
  {
   "cell_type": "markdown",
   "metadata": {},
   "source": [
    "Now we will apply `double_nested_lambda2` to $(a, b, c, d)$ and demonstrate the expansion of nested **ExprRanges**."
   ]
  },
  {
   "cell_type": "code",
   "execution_count": 90,
   "metadata": {},
   "outputs": [
    {
     "data": {
      "text/html": [
       "<a class=\"ProveItLink\" href=\"__pv_it/exprrange_reductions/ca4b92d48445318395e06afbd1b73b19fe8a2d8d0/expr.ipynb\"><img src=\"data:image/png;base64,iVBORw0KGgoAAAANSUhEUgAAAXsAAAAVBAMAAABVmVOmAAAAMFBMVEX////MzMxUVFRERES6uroi\n",
       "IiIQEBCYmJhmZmYyMjLu7u52dnaqqqqIiIjc3NwAAACW8nlqAAAAAXRSTlMAQObYZgAAAAlwSFlz\n",
       "AAAOxAAADsQBlSsOGwAAA7JJREFUSMeVl09IFFEcx3+76+xus+u4F09BSdA/zNwu3TRPdgq3aEJK\n",
       "SNAMgnSrix2ihRBXPLgYZHRpUQg67SpEp3AvBiLFeAoqc1CELoZBECvq9ntvZ3fen2nf+gN33nv+\n",
       "vr/Pd3/zfDMCgA21w6hriQu7riVVRbseSmNBkdVgSUvfFZIr0oqK4gFRGqOUFfxpzjKr3ITEF1EX\n",
       "zQP4bjKtSz+PVcb6xQSSk6Jkhc+SKRKESH5OXPCEYPhepAhFz4B+5rVbi5uU44i48BZgdmLXnW9C\n",
       "5I+bncKPV4ICKVyWTJEgKDHisNjlCcFoKhBKmDRqndWui4VCKWdw2bmOk1vL2D8PMMSWBRit7Ann\n",
       "NhAKlyVRJAhK/DYE+z0hGD1ZQgmC0j7cc66fnGu/YH8kC+02UxarOjWizpYOilkyRYSgJLgL/gNP\n",
       "CMY7Slmuw/4MXzmaEeyfBGiPMWVxKyR5+8tilkwRIETiT4D/tycE4yWlTNa0v/FhGz8X+MrhvGAf\n",
       "43Z1NL12DiDSwtufFLM4SmTtgQRxJNqOJ8RoXd2jlJla9huG4RLOHvOVaWt5+7796l9cMZuzIZTh\n",
       "7c8IWRzF6INnEsSRHLe8INBtB5CPlL5a9t8kYQwvH/nKWkGyr7VUD9VdCFoQ7eft9wlZHEXLw30J\n",
       "4kiueUL0uxDGBiFl0K2Vy7iF9SIZTgHcIi0g4zHTHDJNUi7YVbVfTgPSPWeCZZvy4CP3PGyaN+6Y\n",
       "JoEOulkspTyZokMBUpaE44yEgeyQ70wojH0txRTuJR8DoJOztptvDGO/nAahluoEy/YUoEHo/qCb\n",
       "xVHoZKC8H4TuU8lDcCUMJBiHHJpASq3No+9DiLRxSbV5VsCw3WMfuxlNeGweJkuggAyhEny8//KC\n",
       "5Cx4Sn6dgI5a9vfAn/kM8IivHLAE+748NFZETTHcmBCK8/Y7hCwO+Rf7KEGo5CjAVy9IrgBnozah\n",
       "0PNqkX0eMJMOWEqlqsdepTI9FSMHrmIrnR6rjP3JQMo5Wxn7C0IWR8E9PS9BiMToTacTXpCAFe0N\n",
       "U0ozzk6MTLvvWOxk9tuxNnxUXOcr+7Ck/1TxtHsel0rF6h1rJa8UWhdvv1nI4iiR90+yEoRItFKp\n",
       "lPGEtM1vrFKKFgNVGAmh8lWlZAt4+2qKBKnD2BbzqvT/CCeFt6lRpWRceGVTUyRIHcYIpVOZtSku\n",
       "BJT/oMXFlc5DQ9QSSplT2pfq6HGFQv5+c4eGqCWUYliKrEa519sKyQ+5U9ahIUpjSPkHsuBanV+2\n",
       "Ke8AAAAASUVORK5CYII=\n",
       "\" style=\"display:inline;vertical-align:middle;\" /></a>"
      ],
      "text/plain": [
       "(1 * 1 * a) + (1 * 2 * b) + (2 * 1 * c) + (2 * 2 * d)"
      ]
     },
     "metadata": {},
     "output_type": "display_data"
    }
   ],
   "source": [
    "requirements=[]\n",
    "double_nested_lambda2.apply(*abcd.entries, requirements=requirements)"
   ]
  },
  {
   "cell_type": "markdown",
   "metadata": {},
   "source": [
    "Note in the requirements below that we need indices to match, $(1, 2) = (1, \\ldots, n)$ and $(1, 2) = (1, \\ldots, m)$ in order to perform this parameter-dependent expansion."
   ]
  },
  {
   "cell_type": "code",
   "execution_count": 91,
   "metadata": {},
   "outputs": [
    {
     "data": {
      "text/html": [
       "<a class=\"ProveItLink\" href=\"__pv_it/exprrange_reductions/176a7b0d79d8a2d9a762add10c86a8015513381b0/expr.ipynb\"><img src=\"data:image/png;base64,iVBORw0KGgoAAAANSUhEUgAACKsAAAAVBAMAAABxxeJqAAAAMFBMVEX///8AAAAAAAAAAAAAAAAA\n",
       "AAAAAAAAAAAAAAAAAAAAAAAAAAAAAAAAAAAAAAAAAAAv3aB7AAAAD3RSTlMAInZUiRDNmWbv3US7\n",
       "qzJazP2FAAAACXBIWXMAAA7EAAAOxAGVKw4bAAAOwElEQVR42sVcbYhcVxl+Z3bufn+MQVTClk4a\n",
       "q/nRbldIAglCh1pQ3G479kdA2LKrEtxCi4uEJJRilwqJYK2rNFKbQBZSDWxbu4Rqif7obmyVfmka\n",
       "a62i7QiFYlGStia0FBLP93nPue8599yBHU+Zzd0778dznvc575x7704BoM7+46MCxaOOftpRsf9U\n",
       "6LeAzlCPZ6tA1KG+oblS6IhHrxSFq3QQFLNcd8LUSe8AD5Vw+koCxNKFs24Vx6Iew14vjb1eDLIj\n",
       "0tX5egfKSKWo3gHWUkXZeACYpeokTIkzWxO8TomfU97Z2qoJ4AcZaqBfttLhgmMrxBwY8I3M5UQr\n",
       "GjksxXiKU5BBhZNynML056xP4drYMRWsVSrsTgpn3WR4DWsKIth9nRVjP1VIX2ekq9ABSvXYefwn\n",
       "Lzz+cChyz50f3rXy/GIZfW4ttaQLirLxADBL21W1epro3ZlHCJfROxeqi+G2wgPw1+jP9Pl3WgDb\n",
       "0LSa6pzogwfuakN1MUqDE0wWHTkw4J/c/4dwLpGhRC5rL8e2Emxuz52h5o6HgL6tZFCDa1u+rWDr\n",
       "7PllzRXdVnStkHkBbKOIxMKROhJu2/JtZXuazijsNgOXiqcPf3qlSCewe5RqLetx3RvQC3PBhvVy\n",
       "G+Z6KW2HKM0bxTviYsH7Gw0AsZTNqWrtcd7+JuUzNgl7w21lj3zdsf+iquZfvsVo77XU79Hn+BiH\n",
       "2kcgw4UGDqaHdWDAK2tw22owl8yQnsvay9HbSu4qma8lCo+7uxTQoymygEB7TWTcVlzr3gXNFd1W\n",
       "9riQhHkBbK2INDIDOtqreXXaij/TkM5I7DqDlMpeij49vZKkE9gxpVbLehxgPasW2u1A3wJbcF+g\n",
       "tB2ilDCKjr3xtzcegGWpb1FV66Dz7vuUyzMtOBxuKwfVq2o6wQ2M9v4FY3ZQn+PjFYCfggwXGm4w\n",
       "OawDAz5Sh4GlYC6ZIT2XtZcDRSsafflGT80dDQk9mqIv8OHDnaQjbiuu9dik5opuKwddSGOTxbC1\n",
       "IhILR+vosObVaSv+TEM6I7GbDEIqhyn69PRKkk5gdym9wWsrr0C2NhMMzbLPZGuUtkOUEkbRcTj+\n",
       "9sYDsCwN6GotORegFymXLzPzVrCtLKmX21bgiDFbwqU43oI36zJcaCwRbcU6MOADF2Hk3WAumSE9\n",
       "l7VX40hyWxkAsq34c8ceEvqRckEtriN+WxnwF6biim4rSy6kZ1qFsI0iEgtH62hAh3faykCizijs\n",
       "NoOQiqMPf3rlSKewu5RqLVdfWPk5/7cFfe038jGvW1nhe6AM4DsjbUrbIUoJo7gMA0XpGgDL0k5V\n",
       "rR5nI1pbplzYrrB3MdRWeAARxGsr8+ZCbQ6X4m8Ab7ZluNAV+hzRVqwDAz6yDCOXg7lkhvRc1l6N\n",
       "+eS2sjPQVry5408OCX2+XFCLa95vKzv9ham4ItuKqRU2j8M2ikgsHK0j4Tbvt5WdiTqjsNsMQiqO\n",
       "PvzplSOdwu5SqrQ89HWzHv8zmt8K/epac/fn7NuktgOUUkbREShK9wBYlvapavXxm2BX3bRJvXnu\n",
       "erVxrF3zoLowfXWC7QprZ0NthQcQQby2Mm32l01v4/ikChfajzrBTv3549c1sMM+8XPwQiQXz1Ai\n",
       "l7Yfuv4rN53B0QrHPuU0evOL4bmLGbx1i1nmHPp0maAY17TfVvaJEm1pyFN3X/MnNWGyrZhaATIP\n",
       "0+gqIpVMxwuXb9pvK6KUN21rF+mMwm5xCan4+vCml0J6DLtLqdLyJ6yknxtuuXpl87G3LIZbz5Ha\n",
       "DlBKGdEjtziw1roGQORTLM2ravEuM/Qj+KOkZXZvJq8uKifgXul5uj7MEvTP6XLfs8LHE0bXppl7\n",
       "beWQ20ttWxl9T4WL9V4TrPlyg0OyDvIz53wjkotnKJFL29eGz8FsHUUrHPPK6fuwKzx3PoMPVnvM\n",
       "/p1DP1QmKMZ1yG8r86ZEfLt7qcUMxYRlyxe1WjkLqNjos0maB2l0FZFKpuuFy3fIbysc++bJvjVS\n",
       "ZwXYLS4hFV8f3vRSSI9ht5QiLX8NPTm5H1y9Mqz2wmF7f4PUNqYULSvKiB65xYG11i0AMp9i6YSq\n",
       "1iDrzF9dhHuk2Y0t+LHs7k11kD0MfXz7uRTarfAA/OW3FbPQxJuorQyeVeECwwk2tPo4VC5jhxPi\n",
       "5xOxXINnS+XS9r8ZXIOr2yha4TihnBrwwyAeMYP3oF9vrwT0XWWCYly7/LZyQpZIbtx7LsJAQ06Y\n",
       "3K2YWgEyD9LoKiKVTMfLKd8uv63wUj6qIMR0RmG3uIRUfH1400shPYbdpVRpGT1yMsfaiZ8zwzzd\n",
       "9RcKTSllRI7c4nC01i0AMp9i6aiq1gDj6j5eXTH2A/xXHNynu0DfBd5iYPRCqK3wAPzlt5Xz5mbO\n",
       "qttW+C5o9ELk5g8OlmUfcXkgh6MC1Vos171QKpe2b82uck3ZaIXjqHHaH8SjZtCnhSegny8TFOM6\n",
       "77eVo6ZEPPYcjDXlhMm2YmoFyDxIo6uIVDIdL6d85/22wrFfTNAZhd3iElLx9OFPL4X0GHaXUqnl\n",
       "0UfYp/vj4sRW9lbm6BXgX/zDX8i0OjnFb+vmtB2ilDIiR25xOFrrHgCeT7GE28oxyNST6UdhSD5e\n",
       "O2ZSrAFTNQwtlW0rpwNtpZ+3vqGlxLYCPRdgZA47CAH8ACK5+k1zTctl7G8EeA1HS2kr3IkJ8aEw\n",
       "HjYDxvuAvi0goJ8uFRThOk20FVUiucd8ZlJOOKWtSPNgyVxFJJLpeeHynSbaysBags4o7BaXkIqn\n",
       "D396SaRHsA8RuxXzzJYdjYvHuMgJwD5xnqmsice0+QVLU0oZBW6S+4sDa61LAFQ+xRK6CMrsFv19\n",
       "9fGRmaupWbkX71kO3VsJXQTtDlwEbYdKXYZLuQjitI0ttpDDCXEtCx8L5xIZSuQy9mztfpChaCkX\n",
       "QdyJCfHdLIiHzYALvN5Sl+Ec+u5SQRGu3cRF0Ky5XBqb5NtMMWHy3op3ISHNgyVzFJFKpueFy7eb\n",
       "uAiabYR0VoDd4pIXQcv5yxk7vTTSI9gtpUjLJuVIm63ZWUevDKsJ+AbrONkF6vICUYqWFWVEj9zi\n",
       "wFrrEgCVT7F0RlVruAHZ++ztz4ld0mV+n4UffMB6jziYnYTXeurQvxbarbAA4iVwZJb2B8T+XRnI\n",
       "c/y30SZUWzJclodp7E0w1glvbDWRAwf+FsC1aleXzyUyCFOUK/9kX1i49g+xHV0NRYsNg+UhvtUb\n",
       "mfuUj8fEZzNgn8OvVRbFGQE9lCIQFOF6QK0y83cUZ3SJuO9YO3sY5ITJ3YqplVp33LwVLJkYRhGJ\n",
       "hfO8cPkekLAy01YY9rFFgNWsQGcUdpNB3bJ19IGmV4J0FNmXnqY0w23lGu3x9tACfw6LnRgsjXV0\n",
       "4WnxjDuvbUQpHoRRgPHc4jBa6x4AlU+xNK2qxR8MnYHdCwvZJfbb6/B7EAfscupWcTDc6DnZp545\n",
       "kW3FPn97l4lD7P9uq6tHdiKCfH7FzonfNh84cI8Kx43FOeFlfnODXd2Gz/S3rQMHXjl54MCysKVy\n",
       "iQzC1OYSb5pcNqljX7kM1bkHUTQXlzmw700LJ7bVG242fTwmPpsB+xx+tiZzcOjRFPmgGNc+ucrk\n",
       "ZFeltSwR9x1ZHF5Q5JJtxdRKfdYw8yCNahhFJBbO88Ll2ydhzZqHPdPipketzc/EdEZhNxmEVFx9\n",
       "oOmRpBNCQA+feWRfeppSpG+AXr13eq63BeOfd5zY+IZ5ursXKr9dI7SNKHWWVd4or70cuzq71Fr3\n",
       "AKh8iqV3VLVGGd93fPqf59qwwtrPHV9kfY4f1L50f0scZOduvWqC7YtWQ22FB+Cvkb9eeh0G+feT\n",
       "/nH8bhblMW7BI/A35Tn+25NXrlxS4YTxSX6woH9oexvs1wzUd7EDAz545cqVOWFL5RIZhCnKJYxN\n",
       "rpM6mGM/tAzZ65MomsXleFr3d4RTdQGGvl338Zj4bAafBXh6izgjoQdTkEExrsfUKhM1WpXWskTc\n",
       "N3uV/9m1mDDZVnSt9Oc0Nw/RqIZRRFrhfC9cvsckLOEtpMQ1ePP3rpXQIzqjsJsMQiquPvD0KNIJ\n",
       "IVgvEdmXnqYU6ZvF//sv5fOQY3e+9PyHzzpOPM6LclNz+nfHXjp+rEloG1GKB2FkGLfQfXZ1dqm1\n",
       "7gFQ+RRLg21Vvl+Y2y+t4AFrWRBqKyKACbJDH1SWTYR8BhnOGoNjkQ+GHQbbuWhUrh2ua09+87sD\n",
       "aHsULTYcLBQeN36InOSgwkk6Tsnz8tZWOxd9M4Taiq7V6EtsrMdp/De3qZctHO0l3Cr6/sQOjcZg\n",
       "3xHXmYO9CBcLiqdXgnQc2ZOeodSZ+dAt8o/3Cb3y8dQLK3MJ2t6cA0QYBRiPF6VrACxL/ItXolrm\n",
       "i0a18IH6jhfdVg7jIGY/Jb+7VaMzqK+MNXNQXfsmEA7mG2M2GpWr6brWiD/lCdijaLHhYKHwuPFD\n",
       "5CQHFU7ScUqeF/Rb66Y7YbKtHIbcN8viNHZWOFI+IjyHZa5zDPZmXGcJ2A/S9HVGel56htJmkSTC\n",
       "I6pPZxBGAcbjRekaAMTSuqrWsL7LezsED/hXy4NthQfQQTJzT23cRshnkOGsMTgZ88Ech/UcuvGY\n",
       "r3S9PX+nrhHINQ60A+W+7mO3Edz4QXKSgwqncb3Kbjf0r/vR5YTptoJrlUJjZ4Wj5TOuYAlvKaV1\n",
       "ulh0W4lhp/TROek56RlKiZmTTtSI6tO9ZZozCjEeL0q3AGCWZvT/9EJHNY75A5WHbis8gA5SNe+t\n",
       "2wj5DDJcNT9zx77qz1OemMmhW4/5Stc8K1UI5FoH2oFyn/Gx2whu/CA5yUGF07peZQ1D/4wfXU6Y\n",
       "biu4Vik0dlY4Wj7rClbVSmmGLhbdVmLYKX10TnpOeobSarEkgiOqT7c/5YxCjMeL0i0AmKVKAybE\n",
       "mU1QPOQ9oAmfx7YJ4AepYqyb6HDBsQliDpXGhuaqlvlfg1ao7hPHU5yCDCqclOMEpj9nvQXXxo6J\n",
       "YK1SYXdSOOsmw2tYExDB7uusGPuWQvo6I12FDlDayUjS56ZSIbf8vwFYlv4HA8325+jh00EAAAAA\n",
       "SUVORK5CYII=\n",
       "\" style=\"display:inline;vertical-align:middle;\" /></a>"
      ],
      "text/plain": [
       "(|(a, b, c, d)| = |((1, 1), (1, 2), ..., (1, n), (2, 1), (2, 2), ..., (2, n), ......, (m, 1), (m, 2), ..., (m, n))|, |(a, b)| = |((_b, 1), (_b, 2), ..., (_b, n))|, |(c, d)| = |((_b, 1), (_b, 2), ..., (_b, n))|, 1 in Integer, n in Integer, (1, 2) = (1, 2, ..., n), m in Integer, (1, 2) = (1, 2, ..., m))"
      ]
     },
     "metadata": {},
     "output_type": "display_data"
    }
   ],
   "source": [
    "# remove duplicate requirements using an OrderedDict\n",
    "from collections import OrderedDict\n",
    "requirements = list(OrderedDict.fromkeys(requirements))\n",
    "requirements"
   ]
  },
  {
   "cell_type": "markdown",
   "metadata": {},
   "source": [
    "Let's do one more example to test this capability"
   ]
  },
  {
   "cell_type": "code",
   "execution_count": 92,
   "metadata": {},
   "outputs": [
    {
     "data": {
      "text/html": [
       "<strong id=\"double_nested_operands\">double_nested_operands:</strong> <a class=\"ProveItLink\" href=\"__pv_it/exprrange_reductions/1f66ad8e726bebf359f09f37ffc2ca8caa7a0c720/expr.ipynb\"><img src=\"data:image/png;base64,iVBORw0KGgoAAAANSUhEUgAAA3sAAAAXBAMAAABAPUtsAAAAMFBMVEX////MzMxUVFRERES6uroi\n",
       "IiIQEBCYmJhmZmYyMjLu7u52dnaqqqqIiIjc3NwAAACW8nlqAAAAAXRSTlMAQObYZgAAAAlwSFlz\n",
       "AAAOxAAADsQBlSsOGwAABmpJREFUaN7tWV+IVFUY/2bc+eOdmetIKJGJg5CWsDlWT0HLIOWDJK39\n",
       "ARHBMaSgf65tD1tIDUTtmgRDPQg95E0f1MQchIgwcX0wUh8cVsI0t4YWQRLbWRDCjXY659x7z/nu\n",
       "Pd+9M+vc3uZ72N3zfef3u9+fe75z7lkAaEBPohIil2bgIFDV3m7Kh+XGe1mPSqhc9tXR4HobOyHX\n",
       "KaUAbeJ/XexlPTLhuYxtRYolFsAVNczWwBz7PC/HN/eu89gJYRBKOCg3BGBUe1mPSnguD+6dVeOH\n",
       "D7DyLbSk4ijAFGTuyBZYhDMlbCfkKK0WoC8A0kO9tEclIpe5WaT5nWU5VZHDUYBHAV5xh/EGJMvY\n",
       "TsgorRagEYBkL+uRicilVj54TQ7LALssWOsecJKzEJ/DdkLKAXoOSlpwvpf1yOQ8Xb79ch9jzfUh\n",
       "gLXu5hcfhPgMslNbX9DexkELh2Af+3V84qtT2pnJmFyz7IdOnCbRAfAuSaOAdezC/FH76PKdlM3V\n",
       "PoZsRxMSTWSn+jGDbFpz67I8nvZNfHP6KYc0UxBVrOT604MaECbqH3USGYkOgHdJGgWsYxfmj9pP\n",
       "l+9ded4Q54zYv2jCijqyU0cUBqk9VjfmXEVmQT+caNigVBW2sZ+N1GxcO8G8Dx9YqzsIjEYHwLsk\n",
       "jQLWqQv3gNpGl+9HudREY0gU0ITnsZ0QBukrvQDmjKt4OlGE6bwNypZhJ3sdIM077GHRZg33XcjD\n",
       "Xjk0Tq0MPN160Eps+LGTawAbsbY9adiMMF+8Qsbla41towxGIdmpymfcVeVbIY82Jf7zQ2RPF7Gd\n",
       "Og2VwDDuQHbWxVgnSnDJskGxpv3IJFvCsUnRdZb/LKFvymEawloSQmPh8ArwjoONStueNHxGIMxX\n",
       "UjIur3QSZRCKLh9sUeXb4ClfqoDsbwO20+WDbBPiVYm5BPCIA+or2wv+uYZhQdb2/ZzcJOfga2e4\n",
       "qKRWry4Yje51OPyOWOjIiLTtScNnBPviO7yRcXmlfZSBqPbN85yneV4Es4GuVP7SaXzNk9du0ZCM\n",
       "itXub8MGscjYKeZQaRVkPGGyucYT8TLUHO6UxQPTOwuj8aJHdk9WMPw9VD6/VpAauseWJLUfq0hD\n",
       "BcFGl0/khvNE+ZQLjLNwZZ23ECEOhaFGl/9iZ4LnkirfsOveAt6mapCToSwDuIbsenIFJFlj7VLe\n",
       "nb3OOmnGBqWK/AB66YGP4VkcJm+y2Zkj5b5x+WpkBu3We6IK6g/xA6ONd16Ftzxw+NbNoK7lpJLG\n",
       "y+6Q8hmIVNl1XxDs8IahZCFX0MunXOCcL8OEfx05DumPCEHxpzXsOMQXQGYOleBMw/meEGzsoA83\n",
       "xsbkCdbcMjY2iOxEhjmEvetXU+7byN6wXHW3DWJfFUsAjkxmR8c9b+lLFhif1n/aowLjd69MC4mK\n",
       "04PFH4mtXrR5vAqzHrh9gSuMmpaTcgYfKX+MQyoeq0jVRDWbgP15FRbl0zVi9UkXOOeM/Z2Gy+c6\n",
       "5H1EOIo/zYEt4Z/iq+6qE+rKXZ+xc/CL4LgXY55sb7Xuys7YarWqyO6LilNyyDMAB/fIJs7W0epx\n",
       "G5QoQYJqMlnLF5j5pFfrygXfDhOvs+0UT5yypFHTCtIL+kWDmidm6KT0/YSy98NSvmnc9ziTBh1X\n",
       "vB7j+36MTxnwRBnmEInqF8cIDlO5xGIOSpLNbexEcjfT0QrQDXyhisLM+Lfnm3yLzegsNV/5kvl0\n",
       "JY8mmhWxTwujphWk+v9D0GPEDI2UFmTfAZdhOhYaVzKfK5rNPBFlmEMkageMxWwYffls/1NAkIy0\n",
       "sRPJHQm5HefX2QMoTMM5qxz3lO8YmOsWf+LRurtrHbzoaUg8mEcTpxbfbx1zMujXClJD/2elmsdn\n",
       "EKQB92UK1mQrYjgdGtc0W0mpYkWPMtQhEtWEzWcd2ADl2JQiWdAItxPJJSE2yOQfjYfcoL//px57\n",
       "A24dOA2gQuDDpePJVquJta7kVMps9HrIfYcn7mq1GJwbda0gzemeqXl8BkFKi7L3FeBL+ONaaFzr\n",
       "YWHD7Lf0KEMdolDsab8OObBDlGMDisQohtuJ5JIQGyQqa2Jglpzb6d0xjQ6Ad0k6P+mEZPyemD0o\n",
       "k3jHcnj53G5jJ+Q2pRSg3zT1RvKLtdObq43QObxL0nlKByQdOxQB6v8S8ro31RU6AN4laRRx3aND\n",
       "EaAik/8A1iqzh5wV8wQAAAAASUVORK5CYII=\n",
       "\" style=\"display:inline;vertical-align:middle;\" /></a><br>"
      ],
      "text/plain": [
       "<IPython.core.display.HTML object>"
      ]
     },
     "metadata": {},
     "output_type": "display_data"
    }
   ],
   "source": [
    "double_nested_operands = ExprTuple(var_range(x, (one, one), (subtract(m, one), n)),\n",
    "                                   ExprRange(k, Mult(k, k), one, n))"
   ]
  },
  {
   "cell_type": "code",
   "execution_count": 93,
   "metadata": {},
   "outputs": [
    {
     "data": {
      "text/html": [
       "<strong id=\"defaults.assumptions\">defaults.assumptions:</strong> <a class=\"ProveItLink\" href=\"__pv_it/exprrange_reductions/fa50a80d3d9e1b325449837bbfacf6a0c49551f50/expr.ipynb\"><img src=\"data:image/png;base64,iVBORw0KGgoAAAANSUhEUgAAAJQAAAAZBAMAAAAlPBrhAAAAMFBMVEX///8AAAAAAAAAAAAAAAAA\n",
       "AAAAAAAAAAAAAAAAAAAAAAAAAAAAAAAAAAAAAAAAAAAv3aB7AAAAD3RSTlMAZkRUmRDNuyLviTJ2\n",
       "3asqG0tJAAAACXBIWXMAAA7EAAAOxAGVKw4bAAACD0lEQVQ4y62VPUgcQRTH/7d3c7e6dxexTTCL\n",
       "JJ3iNcFSG0m7VbBJbiFNiiArgRzxI1wVwSZbC4FLJQELi5AijVsETPxiC41pDhRRr0hABYmihW8m\n",
       "3uZ2nb3Zwgc77PB+/OfNm3lvAHRDYRmobZgP6WEVlksgNcOHJ7gNqZRHw3iM8+nf1xY+nZvtpQJq\n",
       "C9DdOOqVtgN2pIqqSW1QTmtx0J/qR8DF48qbSqULCgplC3fMOGjPyVbhq6JqUtkuLFkRX366/lP8\n",
       "NO7pdqzUDSrjYD3CaC+b2o3i4kqc1E0q7+KApn37s8ve13mx1XdBlA04OTMkpW2MLkxBTmmnqNC0\n",
       "9tZjx2ZanOUL/Ic+sy2/9bZ35n6jXJVTxgXGSNDchn6JFD942C1QqjQYuiq9BQfvF+WUfoJNgLET\n",
       "pE+R4X7jQ71e376GsF8MSVllE0OWnCKNMV6GR1yng98w5rSsh2fMD2V7CCK3MkoXG0TRRqGGgSpf\n",
       "0G+FDM8JSZHOMYOUMs5wSFOKh0I/0PmdXgugSfpWAymhMEeJ6ISUohP8Qb+UyvvAhICypSb0nB9e\n",
       "kN+yLTaRt+/KqZSLAdpVP/ANePBdrH748B/z5ZzWYoFUgUpf88F2S3Iqs4OOaA1q89clEbFH7Smq\n",
       "wfjOEDEFR53BcJMpMa+9v4d3iWRSeYX/V6LejqS9PV27DSnx4qjfwSQ2AlwBAlKvh6s2jHcAAAAA\n",
       "SUVORK5CYII=\n",
       "\" style=\"display:inline;vertical-align:middle;\" /></a><br>"
      ],
      "text/plain": [
       "<IPython.core.display.HTML object>"
      ]
     },
     "metadata": {},
     "output_type": "display_data"
    }
   ],
   "source": [
    "defaults.assumptions = [InSet(m, NaturalPos), InSet(n, Natural)]"
   ]
  },
  {
   "cell_type": "code",
   "execution_count": 94,
   "metadata": {},
   "outputs": [
    {
     "data": {
      "text/html": [
       "<span style=\"font-size:20px;\"><a class=\"ProveItLink\" href=\"__pv_it/exprrange_reductions/79a768603778550c651661670153c27ee0a505870/expr.ipynb\"><img src=\"data:image/png;base64,iVBORw0KGgoAAAANSUhEUgAAAEYAAAATBAMAAADfQ2bzAAAAMFBMVEX///8yMjJmZmYiIiIQEBCq\n",
       "qqqYmJjMzMxERER2dnbc3Nzu7u5UVFSIiIi6uroAAACibcT0AAAAAXRSTlMAQObYZgAAAAlwSFlz\n",
       "AAAOxAAADsQBlSsOGwAAAQ9JREFUKM9jYCAAFBgIgwZK1HDbd0gzcPr74TWHI+ANA8N+/HbxWHEm\n",
       "MLAwMHV0eHS04VITwSDFwIzdHN5mY0OwmmUXFuJQwye7AWrOguO8E+Bq+O7smtvLPrMPLLVwA8yu\n",
       "BRwMfXA1nBxnGfbnMYSApaTg7lnArrB5Myyc3zE3MKy/wJAPlhJAqGFIZW2B8Tbsf8AQv4FBEcRm\n",
       "dzY2NraAquHZcATuzngGkAJPcPA2IJnDfWAzXM1BBgZLBr5f3CC2AZIahloOuBpPBu5/DDwCy0Ds\n",
       "u/C4KACGVQWMx/Wdge0DA8eECSAOYwBUFMxQhAebAQOvAgOf7gKwg068Bguyy3sAyY3Y44lvBiQu\n",
       "UAAA9FQ8d6roA+kAAAAASUVORK5CYII=\n",
       "\" style=\"display:inline;vertical-align:middle;\" /></a> <a class=\"ProveItLink\" href=\"__pv_it/exprrange_reductions/c041979dc0129efcd95140db0412aadb785e6c7d0/proof.ipynb\" style=\"text-decoration: none\">&nbsp;&#x22A2;&nbsp;&nbsp;</a><a class=\"ProveItLink\" href=\"__pv_it/exprrange_reductions/7e2b01bd535fc86798ea8f21443a99460d2a18900/expr.ipynb\"><img src=\"data:image/png;base64,iVBORw0KGgoAAAANSUhEUgAAAL0AAAAuBAMAAACPCwXuAAAAMFBMVEX////MzMxUVFRERES6uroi\n",
       "IiIQEBCYmJhmZmYyMjLu7u52dnaqqqqIiIjc3NwAAACW8nlqAAAAAXRSTlMAQObYZgAAAAlwSFlz\n",
       "AAAOxAAADsQBlSsOGwAAAvlJREFUWMPtlz9o1FAcx7/N3eWuuVzo0qmDxckKwilucuUGFZdi/FMo\n",
       "2qFDJzt4qIOd7GaLCMGl4GKgk0O9oKPIubRQO/TQQXHQQBEFwV5BEAv2fC+XyyV9yeX9RHDxQZKX\n",
       "u+/vm3fvvfx+nwPggtYMmrz0kuifbZLkm+wYtv2bL0vH0yPeUuw1C9qRR76/UUajmhoyaBP8CzV2\n",
       "+uhHKC7UmdSQ/ALBX0XIX92Dsp8ec43gvxH2V0wou+kxywT/e2F/1nKtpG3z+smLysDzk6z7lOC/\n",
       "fMD/UNLuK2aOoX4L66w77y3cpNdGU/ynD/hfTBKezpWx08Qd1l0njH826l8oJwntehVbNpb4b/xz\n",
       "/xvJyi1w8znWO0vwj86P7uBbknIMuIrsvgasEea/0vX3HjECvIf4emr8NAftOxTrM3CTMH5vrzVc\n",
       "aD95fphaXDS9Xt3yT8GdsYt8CxnH8fe0ZBtmx+HrD2qYZMPOtdttq9PjOcA7TfHOFbb/TZQWkL3P\n",
       "0vllgn9uqDv1wbTo4gS9ihQAk+AfJKti700SVY6QEqXbuH9dDT5ZFdc38lJvk+rLin/tWYgZohQ7\n",
       "IslySit37GHUgv2//dPm/hWlkaSX56u+yjjqmqDx1WZyErNjqatUo/CVZiV94cXHUddDCl/1STs8\n",
       "Po66blP4SkVf/zjqUm0CX22k+MdQ12BNnq+4MsRYon9AXRNHv75pjjxjC1kclecrrgwxlug/HxSL\n",
       "E03tR1VnC5m35PmKK0OMJfp3n5qtXoLxixdrsGdI8xVXhhgLjz08udDz71KXxjBD30OBbeeBFoGv\n",
       "ZiOMJY4/oC69xc1VVlOzMwS+mo4wlui/1r1TLOQcnHdt6CaBryoRxhL9PeriHTZyNo9jRg35sjxf\n",
       "cWWIsSKt4fr/JDz1zhDfAacYhhQceb7iyhBjhZsX36EuHnsGeAec+8DiqgS+CpQJBcAUYz9R+Crl\n",
       "b2Mn/UVj75L4qj/3bIuxRpnEVysSHBiJzbgkvuqrjKMutsK/AXAcGuTPs+UlAAAAAElFTkSuQmCC\n",
       "\" style=\"display:inline;vertical-align:middle;\" /></a></span>"
      ],
      "text/plain": [
       "{m in NaturalPos} |- (1, 2, ..., m) =  \\\\ (1, 2, ..., (m - 1), m)"
      ]
     },
     "metadata": {},
     "output_type": "display_data"
    }
   ],
   "source": [
    "ExprRange(k, k, one, m).partition(subtract(m, one))"
   ]
  },
  {
   "cell_type": "code",
   "execution_count": 95,
   "metadata": {},
   "outputs": [
    {
     "data": {
      "text/html": [
       "<span style=\"font-size:20px;\"><a class=\"ProveItLink\" href=\"../packages/proveit/numbers/number_sets/natural_numbers/__pv_it/theorems/1a8a7907b709bbd24c48a9933f16dbe96429f5cc0/expr.ipynb\"><img src=\"data:image/png;base64,iVBORw0KGgoAAAANSUhEUgAAADUAAAAQBAMAAABEqSrGAAAAMFBMVEX///9mZmYQEBCYmJgyMjKq\n",
       "qqrMzMwiIiJERER2dnbc3Nzu7u5UVFSIiIi6uroAAAA6K1lcAAAAAXRSTlMAQObYZgAAAAlwSFlz\n",
       "AAAOxAAADsQBlSsOGwAAAOZJREFUGNNjYMAE23+0bGCY9OkBAzbQyneAgfsDVimG4wsmMzAoYJc7\n",
       "2sCygKEAVexGebkDiD5ly+WAJvfkNpRxiifhJkiO786uub1gES5vmKJTDA0cD4BynBxnGfYvAImw\n",
       "LEDIJXJXA+XesTcwrE8AyzEg5JgDIoDu3LD/AUP8BpBIUjkQNEDkGE7zgPwQz8BwBKx6B5I+hj3c\n",
       "IHcCJT5zg0TYkeXYLoBM0GRg/c0JEuG9AJNrA+JrQDmubwy8DmZgIVeYHIjBCAwFvgIG7sMBYKE9\n",
       "fWA3MaR8AurhdkANs5ft5cgiADLCQKtntbI7AAAAAElFTkSuQmCC\n",
       "\" style=\"display:inline;vertical-align:middle;\" /></a>, <a class=\"ProveItLink\" href=\"__pv_it/exprrange_reductions/79a768603778550c651661670153c27ee0a505870/expr.ipynb\"><img src=\"data:image/png;base64,iVBORw0KGgoAAAANSUhEUgAAAEYAAAATBAMAAADfQ2bzAAAAMFBMVEX///8yMjJmZmYiIiIQEBCq\n",
       "qqqYmJjMzMxERER2dnbc3Nzu7u5UVFSIiIi6uroAAACibcT0AAAAAXRSTlMAQObYZgAAAAlwSFlz\n",
       "AAAOxAAADsQBlSsOGwAAAQ9JREFUKM9jYCAAFBgIgwZK1HDbd0gzcPr74TWHI+ANA8N+/HbxWHEm\n",
       "MLAwMHV0eHS04VITwSDFwIzdHN5mY0OwmmUXFuJQwye7AWrOguO8E+Bq+O7smtvLPrMPLLVwA8yu\n",
       "BRwMfXA1nBxnGfbnMYSApaTg7lnArrB5Myyc3zE3MKy/wJAPlhJAqGFIZW2B8Tbsf8AQv4FBEcRm\n",
       "dzY2NraAquHZcATuzngGkAJPcPA2IJnDfWAzXM1BBgZLBr5f3CC2AZIahloOuBpPBu5/DDwCy0Ds\n",
       "u/C4KACGVQWMx/Wdge0DA8eECSAOYwBUFMxQhAebAQOvAgOf7gKwg068Bguyy3sAyY3Y44lvBiQu\n",
       "UAAA9FQ8d6roA+kAAAAASUVORK5CYII=\n",
       "\" style=\"display:inline;vertical-align:middle;\" /></a> <a class=\"ProveItLink\" href=\"__pv_it/exprrange_reductions/b863e615bd34e381b56e267c3aa016ceb29b518c0/proof.ipynb\" style=\"text-decoration: none\">&nbsp;&#x22A2;&nbsp;&nbsp;</a><a class=\"ProveItLink\" href=\"__pv_it/exprrange_reductions/f4bc4e2cd9d5d517bb94f949df05ad723a36cd910/expr.ipynb\"><img src=\"data:image/png;base64,iVBORw0KGgoAAAANSUhEUgAAAP0AAAAVBAMAAAB/DPUgAAAAMFBMVEX///8AAAAAAAAAAAAAAAAA\n",
       "AAAAAAAAAAAAAAAAAAAAAAAAAAAAAAAAAAAAAAAAAAAv3aB7AAAAD3RSTlMAInZUiRDNmWbv3US7\n",
       "qzJazP2FAAAACXBIWXMAAA7EAAAOxAGVKw4bAAACqElEQVRIx4VWTWgTQRR+m82mSTaJQTxIEVwR\n",
       "xINCkRKoly7itRAvnirZS6HHIFLEU0AwB8V6qAfxEmhFiFpCT1UviVcRgqDUW85eTA4tgiC+2Zns\n",
       "7Nv58YM36b7vzftm3s7sKwDUgRuF6qGcY6aycGx5ILfEjUL1pHCA5gdGKouLtjywLIxi2TSn9goX\n",
       "18E/LmvpmKJwQ1MuFuxF3ChUj8CdrWMcN9AKTW3AhuK5bS4kBi90uFGonmTNTL+LVmwLzyHhu8qM\n",
       "+2Z9DC4BN4oSWPVLbO/PhecanamU5ZlZH4Mb+NNQiIZdv8DKs6nVL2Qr50ZmfQy+hz9o/tVbNz5J\n",
       "Yu6p3fys08+PcVij+gffzlwJBEVeZajJJYM3+U7yla/Qkpd37nkMKzr9ItvTI6offgm8maBgoR9j\n",
       "LAqi5JLBu/iE9rE8hPOThJ97AtjW6bvsna4QfX/wFpy/gkqjvKTmSgW/xEe0ZmsAq+zotOL1S89W\n",
       "fIXi3ewn+rUpDr/Y44N+/0W//w5vrPcH3GNBkTM2ILm8EyDBQh9WAb7Hy22D9OCEHd3+fbbJ97T+\n",
       "7hSqkaCy+ulcr2mwqD8T/+2l6888e+DPPF39ezhcp/qY71Snyan0+2f1V3LJYHbome1gQfKJCvdg\n",
       "larRWd35G+LwhOqXQixxyKk0KoEmlwxe4zcJT0MueppM4p7iFCph5uudn4k7Fd/clD6e3kvFCafI\n",
       "hLEmlwz+iU9ofg+8I9nzuCfXBv8u7ajVHydHWFP2Tt9Q/Q/YHB4KijSsniaXDC7jpStPsh8m1UOw\n",
       "yLp6T/v9W1SC9615WBtJWkkC1aO0lKRFHf6n23TteUbCKEY2eYedsXNmKnMA69Y868Io1m36ccaR\n",
       "mcr8LzG05nECbpmlBRb9C+we1o1UFqctef4BsfHMLuJSrFIAAAAASUVORK5CYII=\n",
       "\" style=\"display:inline;vertical-align:middle;\" /></a></span>"
      ],
      "text/plain": [
       "{n in Natural, m in NaturalPos} |- ((n * (m - 1)) + n) = (m * n)"
      ]
     },
     "metadata": {},
     "output_type": "display_data"
    }
   ],
   "source": [
    "Add(Mult(n, subtract(m, one)), n).inner_expr().operands[0].distribution(1).inner_expr().rhs.commute()"
   ]
  },
  {
   "cell_type": "code",
   "execution_count": 96,
   "metadata": {},
   "outputs": [
    {
     "data": {
      "text/html": [
       "<a class=\"ProveItLink\" href=\"__pv_it/exprrange_reductions/f44af395030280e4ab863aff658c5a413cdebe3f0/expr.ipynb\"><img src=\"data:image/png;base64,iVBORw0KGgoAAAANSUhEUgAACCEAAAAXBAMAAADNKtqpAAAAMFBMVEX////MzMxUVFRERES6uroi\n",
       "IiIQEBCYmJhmZmYyMjLu7u52dnaqqqqIiIjc3NwAAACW8nlqAAAAAXRSTlMAQObYZgAAAAlwSFlz\n",
       "AAAOxAAADsQBlSsOGwAAC5JJREFUeNrdW29oHMcVf3e+fzpJ5wvFoTQ1FoEmrUGN0uZTwUaUVoFQ\n",
       "U7m1imgFVsBNIW5rpcoHuYRGUFzJFYGjpQjyobnGH5I0pD4EpRQnWP0gU2OCD4fipo3To0I0NKSW\n",
       "wVDsUqu7M7uzb2bezM6sTraqgZGsvX3v/X6/+c273T0fAHSAT9fRcTpkHLUtOpefXZMw7UBaBMQ0\n",
       "pn7lrGF3sRSkUfZYyC3zT81wKIuZPHJtgnvHypy92r/Mp/M4pB3xCi+03c99z2tFw8wi+w6lRUBM\n",
       "ZeoDzR52F0sZRyqGQ1k7Qgb/vGfgksVM7rms2mQ5QzBntS5Fc08zOSP3TVvSKfWIGv7B6Uct8Ved\n",
       "Cfa1UqAQma8iTJcUKP60pPAu0qrN/7yeiRahfDzpEa4LDvbQ86qxnFMpH47u4tkxhOz0hdyEf8gK\n",
       "ZoPGEtB7RH1nlgRSXcHcRueyapPpjJh5WKvaYLP66ZeSLf3y6du2rC8qf6vhtSE4P2wO72m6Enwt\n",
       "FYqeOcoe0ZKg+NOSwrtJaxV6b2ahpUMUkxx8XXqcl9bOyK+UD0d38awYOLsXs3YE3T+GCgaDIgkI\n",
       "M2lDFkhxBXcbmcuqTbYzehDuyhSf8De0KP1W28zE1xpR81LD8x0oTZrDy7NyuH4NE78wlwpFzxxl\n",
       "j2jJULxpSeHdpPVZgKey0FJGvHgV89tIuC442ENPEfa4Us6tlA9HrZQ23DAwdjNZO4LuH0MFMBlU\n",
       "SDBDwFaHLJDiCu42MpdVG/swnSGYB7VKwKdHRyhFZ/ZF91xqeOk25O9Y4p+Ww/Wr6viFSc+OwDI/\n",
       "LTCVVCjetKTwbtI60YRHOhloqZDRtGxTHOyjZxz2tlLOrZQXR7WUNtwwMHalZtaWoPknpSNMUh2B\n",
       "ZYgxYNjqkAVSXBG5jcpl1cY+SmnMg1oXg18X/TpCz5RscTU8Pwr5G5b4Rcet09fw7QiLIntES4bi\n",
       "TUsK7yatTwE8Us9ASxkX0bRt08VsHWFRcZxfKS+Oi64dwY6BsevJ/CBB84+9I+gGFRLEGDBsdUgC\n",
       "qa6I3EblsmpjHxfTmAe1FoJfC7aOUL22/4E3pejeAdniWjhAcd0cDkuOW6fSkqEUrvzmrQMWXDzz\n",
       "ksC0oEDJQguHd5MWwFGaFrxx5Vfnlk20lLGQTJYld+4xcpsu0UtLlKIYCcd5lkIcvUsZXW/HwNjF\n",
       "CxmMQ/s/fKftDEL3j14G66caFEkQY0CwKchH5Vz4AHcblcumjVZEVmBBPRKbbynBLdqiqSNU4Er7\n",
       "lHzT0ZAtvqh3hH1tczicdNw6rDciKL27BuFsx5KYZT6pdPsEShZaOLybtCD3X5oWzPYPVkZNtAyd\n",
       "fTHK8ixcILfpSXppiVIUI+E4z1KIo3cpo+vtGBi7cvL4rPW5dvWOMwjdP3oZrJ9qUCRBjAHBJiAj\n",
       "gVRXRG6jctm00YrICiyqR2LznUxwTwS/Jmwd4UfwfPNh2dqTssUn9I7wNUt4DDd16xSXZShfKg7B\n",
       "9bolMct8QWCaUKBkoYXDu0kLigM0rXKnfDs/ZaKljIlksixteJ7cprSjqVIUI+E4z1KIo3cpo+vt\n",
       "GBi7PvH8tzD8dajdcAah+0cvgz2kGhRJEGNAsAnIiUCaKyK3Ubls2qhFZAXCM+QjsfkuJLWOBb+O\n",
       "JVv6bCOhXb0V/qzD6fDfvHW+Er6cC6+dK2Nj3/j22NgAFQ6VIfEHDq+eezA8a58crjwNTV4oDctQ\n",
       "mmeH4XKTSiy6KpvhyYIWgkLQen1pv50WDtdp8fAstODHBlo5qDRESo0WGpjlMZElRAWvjYXjcOLR\n",
       "faQGvJQymBSRrCzs1NjYU2NjrBd6lkIcLaW4hmopeVgxVH/BMNQFO7aQrGy1ehP6bjuAMPkHU9U9\n",
       "pBoUScAwyLD1XEggzRWR26hcNm3UIrIC4Rnykdh8+5JaSkcozqJGOM5rfi+Ye//ELmquhRddBeXN\n",
       "VAuHHwD6IwmvALtoG3F8M0WCcyiXAT5DJo7HCJ/jqCNgKDqtWThlpyUx0Wjx8Cy0ygNGWqW2SKnR\n",
       "wmNc6ghhlsAHx8k37hGDBiUNK5ciknVEeQ/yLIU5mktxDUdcrxHsGBg7vpCsbN865BsOIIz+QWV0\n",
       "/TSDJhIUJnXYWi4skOYK7jYql1UbtYiswDHtSGS+kaRW6l0DFO7ArwFWuKtH4x+2u4a+FvyLCt89\n",
       "zC5XVjLeNYTQ/10lcUVjRWSPaUlQdFo3+fW6kZYUrtPi4VloXYJah6YFX+1Um1FKjZb5riHM8q0A\n",
       "VZXapiuGpQ1LqShHRUkRplyxu5bCHM2luIYrnncNBgz8riHZ5IH1d081Hfia/KOVcbhrWEFpMWwt\n",
       "FxZIcwV3G5XLqo1aRFZgQjsSmW8lwR0+aDxg6QjVx/KT0JI6QnlItrgW/gDAX6jwcpP5fNpx6+xq\n",
       "K4IfDy53esnEc3v/DFHmaYHpgAyFovVD1BEoWlK4TouHZ6CVa0F/k6IFZ4Yfgt445cwz12YlWso4\n",
       "gOZxCC4H841/UNt0mlzaqNTc3iv903WqI0wrjvMrhTlaSnENp107gh0Df7I4JP4utYJr4lY6CE1o\n",
       "YxnsR82giQQxBgxbzSWZQHMFdxuVy6qNWkRSgJ0hH4nMN53gFh+4nO+gD+KSp5N9N16dLCxLHSH6\n",
       "oERYXA2vjc/Pj5Lh0DsqPtYT4ex251ZycyVeYJ+6ICjBJulvPEMlfmVkqtSRPnOMaGEoJC34rY2W\n",
       "FE7R4uH+tNbm50+RtODyJ34CX4lSVp/9Dnwf0xL5olvNJcT0BpTXYVerpbjlfCeBpmjAS4XaDfQP\n",
       "UB1hQXGcXynM0VaKaaiUUom6YmDsKsnBoNm8W66ngtCENpdB+mkGRRLEGBBsLRcWSHcFdxuRKzHV\n",
       "2UZ6EUkBRks6EptvIcG9J/gVzgdP/Ew8hs0/dEs8R6++0P7jcyB1hOKwbHE1vLixsdEgw/n3oY4o\n",
       "V9Gz0T1NdB8tXsiNylAKo1B9eJlK/M93YXec+YjAtEeGQtLi31Mx0ZLCKVrR11y8aR3d2LhF0oJX\n",
       "r/XNLUcpa2804LZEaxwnFizDGWTpn4XCCx15i/B1OQKUBrxUqF092US4IxxRdqNfKczRVoppqJZS\n",
       "iDpi4OzihQzGlwFefi4dhC60qQzWTzMokiDGgGBrubBAmisit1G5hDaxs2xFJAUYLelIbL6YeVCr\n",
       "GHSLosN/LUMdYU29MXYOr30h/DHqeHkNh8E18SB7LBJmjrK70lptbooWD98CWiwl5NvhUyVESxkx\n",
       "yxSoNeuH8INwf3gX+7HPB6ODO4IIe1sp191SoYZaKeOVsQOGNbu0FAhNaDf/HDZKsEbA7lYuqzb2\n",
       "YTpDMF+zfY3G2BHm4v4SXRW4h38QPiyJv22R/pWgGeeO8CTM56SvpzjSqs2yRzlZaUXhW0CLpYRS\n",
       "vTJbt3y5J2aZAtX+DZgn4R24niOuEUTY40q5rpZiGmqltOGBYc4uLQVCE9rNPzNGCeYI2N3KZdXG\n",
       "PkxnCOZhrYPRTN95r3P9akPqa67htUfv+2n4nU/XsavjmngdDv+BZ15FmNJxrd738eYmaPHwLaAV\n",
       "pqy24DoUP1mXaBEQ05laoQXaDcJ0Be2QavTAdtVYrpulQg09xEvHoC9kOghdaCf/kCu5CpnM5JHL\n",
       "qk2mM1ZxrTPRtI8PX3oL7l+u/f4/bQK6a3hpY2PdqX/Ed+tDjokLA/DXKXkV3Wid2NjYDC0evgW0\n",
       "wpS578IXof93VnOecWJqhRZo90v4e/whSihFUDiUlQjbilKhhh7ipWNIabgkCF1oJ/+QK3mQxNDN\n",
       "XFZtMp1xENeqtfl0GPzx1/t62/UJ73cnCB+BR2KWWWTfAbT6CFoExFSmPtBQYSLsLpYyv8enYXgf\n",
       "IBOILP75yCBBFjO557Jqk+UMwdxTu0ITNjM2Gb5dcW0ZLXgC7tF4YkeW2uYg/h9H+Z6Gb1dcW0YL\n",
       "pu7VQk/tyFLbHMR2Gf8Ds32tomqQLxQAAAAASUVORK5CYII=\n",
       "\" style=\"display:inline;vertical-align:middle;\" /></a>"
      ],
      "text/plain": [
       "((1 * 1 * x_{1, 1}) +  (1 * 2 * x_{1, 2}) +  ... +  (1 * n * x_{1, n})) *  ((2 * 1 * x_{2, 1}) +  (2 * 2 * x_{2, 2}) +  ... +  (2 * n * x_{2, n})) *  ... *  (((m - 1) * 1 * x_{m - 1, 1}) +  ((m - 1) * 2 * x_{m - 1, 2}) +  ... +  ((m - 1) * n * x_{m - 1, n})) * ((m * 1 * (1 * 1)) +  (m * 2 * (2 * 2)) +  ... +  (m * n * (n * n)))"
      ]
     },
     "metadata": {},
     "output_type": "display_data"
    }
   ],
   "source": [
    "requirements=[]\n",
    "double_nested_lambda1.apply(*double_nested_operands.entries, requirements=requirements)"
   ]
  },
  {
   "cell_type": "code",
   "execution_count": 97,
   "metadata": {},
   "outputs": [
    {
     "data": {
      "text/html": [
       "<a class=\"ProveItLink\" href=\"__pv_it/exprrange_reductions/021edb3d47a7ba2bed5367e47910e4a6a20e9e480/expr.ipynb\"><img src=\"data:image/png;base64,iVBORw0KGgoAAAANSUhEUgAACy8AAAAXBAMAAABKAYwbAAAAMFBMVEX///8AAAAAAAAAAAAAAAAA\n",
       "AAAAAAAAAAAAAAAAAAAAAAAAAAAAAAAAAAAAAAAAAAAv3aB7AAAAD3RSTlMAInZUiRDNmWbv3US7\n",
       "qzJazP2FAAAACXBIWXMAAA7EAAAOxAGVKw4bAAAQrUlEQVR42u1dfYxcVRU/b3Znv3c6Niimqem0\n",
       "VWxMC/tHqWljZIJEDcuGZ4OAyWIXTWNJIExIbdfG6Cqx/YMCq1KDgLQJIMkCZVOtpBrCtFINn1mq\n",
       "YDECE8QQiNIt0AbSpOu7H+/de+499773Zoewf8wxg/PuPed3vs/72McAAOXof4wCaFPLqJyyROwH\n",
       "+SHFYkCLB4qj7FMVZFLk4Q+80l63c/ucq0iDVMgyfGR50JpqYRdDlpJorjC09SATwsfVmk1wBhn5\n",
       "g2bM40CFIRjmKyvb47RlFAXVogMp+/2V3JACVAh2ThtbYoGJWaJI1UqfoQSt9Bpu6fK6ndvnFIEU\n",
       "S7OkoVV5UE21wIshS0k0VxgatIQfdrB0XPfh9VNPTbiQ1+391dMP39mcrCnu8D9zkD0JOpAjKE46\n",
       "EAOtleHqqLbnacsoCiq8Harj0gNRnifQ/rnbnlfH/GBVKiRRPAx0lacX11rWsG+aKpZ3Zp44v2+/\n",
       "voEMJfpA5xe0Chyeed3O5jMKE6QJWJZiIuzB1MI8qKZaeMXAqfjUPk9JCBq9K19hWMhJzlahwWwU\n",
       "EBSea8BYlxN69avQBWOasTlkTXGUDbO6MgSZiBeKv6dbeBBTTwcT4lMck+G6sj1OW0ZRUIv/uFEV\n",
       "0DXbTkX/3KzvB3W4POkecdAV+iFJYqBckO5FJoasEd80VVfG5jFaCp1ndEMJQvyCNDTkmdftbD6j\n",
       "MBm60siqaMIe476zhXlImmrBFUMSypq7JGL6Xq7CMJG1nAn4YT0EGnXXomH0FSf09mgOdg5pxuaQ\n",
       "xeI4G1Z1ZQmyHS8Uf0+3iCCm0Wbx6Z6Q4Rpvz9OWEQsqXKBlrsBys0vfHyxD72R8LA56ammQBDFQ\n",
       "Lkj3IhMzrGHfNFXjsXmMXgD4tW4oQYhfkIaGPfO5nc1nFCZDVxrZFW3bg6mVeUiaagEWg6BFQ56S\n",
       "kPRevsKwkJOcCfhhPQQ48KPFuhP6BSjWR3Vjc8ga4igbVnVlCbIdLxR/T7eIIKbRLvHpjcM12Z6n\n",
       "LaNeoHqxN9T2e0/B4MnkWBzsSYOk1hnoHmcv9trWXBBLCJrUS2dvCK+VNUMJmiT6ag/QnvnczuYz\n",
       "CpOhK40m6cGM7DEUtjAPSVMtwGIQ9ISvJOST1JyFYSGrnO0hB/PqqSl2YVoE+NGgfZtfeHrqt+z/\n",
       "Q+huvGoNZr+sYkDiKBt2dWUIsh0vHH93t4ggpg6PkH/WyXB1jLXnactoHdmLXRPa/uA+GDybnPTF\n",
       "wZY0SII46BZnL66zreHfElU870np/BPgtYZmKPEkcYwYzFuA9szndjafUZgMXSlEVLRtj3Hx1cI8\n",
       "JE21AItB0KXgKQkpti9fYVjIKmdbqMH8h8/FLKWZNy3I/u8kUftfqWYOZr8sYtDEUTbs6soQZCte\n",
       "Rvzd3SKCmEYMJPpsleHqrkbnnhUvvmE/rKFXISsfvbxxzbcvGWoetBViWU1oQmor2YudM2gf+mY1\n",
       "EXYw4ofsX/ONi48kCwdePGd1RYKOOHtxq20N/5aoYnlHg/ZR3VDiBk/njy0aAdqzFLcz+Kz4bV1p\n",
       "z5OqUqh0yTPONBgM2fOQyLjyEDfVQiwGQTes+Ju7JOSQOLZmKE9hGMh6zkaIwRyoh7ID4VHARQXw\n",
       "KRW0owOhMZhJWR6HNy6bNhg0cTMbKO7+TBuDeQQspVZ8qO6iCYNEny0yXGxOd8Oayg474uQqZOWj\n",
       "l2uFY937mgdthVhWE5qQ2kL2Ys8Yvuo7UdFE2MFOP2TnwDHYlNwKVZ+rFE9K0J1JL+6YYvRI0otb\n",
       "bGv4t53oJK+VTuld3VDHRUHMH1u0E2jPUtzO4LPit3VluPLgQrfAemcaDIbseUhk6DyoplqIxSAu\n",
       "Xk6HMQBREoI2bS6ezFMYBrKes53EYO5SN/Zre+IAKM+uVVee1Z+CMZhJWRaHD6Y7Jg0GTdzMBoq7\n",
       "P9PGYN4JllIRHy3sVHfRhEGiz30yXH3RmfEncHt43BKhVyErH7ncU+45NTjRPGgLxDKb0ITUfWQv\n",
       "dkyifXhEF2EH6/2Qf+qrw7L4Vqh/+mEIzkrQ9c6LpPtsa/i3RBXLu146fTO6oTYh/tii9UB7luJ2\n",
       "Bp8Vv60rhZilXKgCtzvtMRiy5yGWceYhbqqFWAxiWp2C3oqzJARdFMIv8hSGgaznbD01mJW4euFN\n",
       "eaZOA13a93gwE7I8Du9Cz6zBoImb2Xgkc6bNwbzeVmrFh+oukgyQ6HO3DFdvlLkGbGPnO3EquDr2\n",
       "RV8tXvKK8/k/kjaXrxh5UQctQfdYgib3PKA+Do+Y8XgD+yVMMEhsetR5pDS6W2V/01hSiKVZtN9d\n",
       "V/vi4ITHo0gk3DTNOkXIFItnWAMI0BPOXrwbW5N8S1SxvOul80NkKPGnCZ0/tugEEJ553c7qs+K3\n",
       "daUQs1QKbXPaYzDkyYOQceYhbqqFWAxCyxgsqjpLQlDk4/t5CsNA1nN2ghjMb7FLS+55YWiY/ZFO\n",
       "F4LSXdHuw3xtZWR/EQ9mSlbGQbSoYtDFjWZQ1ZiW6Sv5dfB+O16aUis+VHfRz14xSPTRBzPw0+Pr\n",
       "X+ATaIW6YVer3eC7j1d81nINdmBQdkqVaGLPB+rncIphsvzqte5i5KZXnVOKHsx9taQQ+yfR/q2g\n",
       "9sXBoZQhdRHAS4lMxywMjknQQ7kH8yFH6fTMIENTBnNs0SEgPPO6ndlnxW/pyjCYmVDUVne47cEM\n",
       "mfOgZFx5oAbzQikGoawKTww5S0LQ/dD/Xp7CMJG1nB0iBnPyChyMBnX+OpkmBOoduGJ9KX+3TR/M\n",
       "pGwUh2i29VYxgy5uNMOtOTJtXDEn8VJKrfhQ3UUTBok++qMM6D8J3wTYIDiTaaOtLpoOnH/FRNLm\n",
       "8hlxd6JAnygXQ4l2Rt2TOUC9HB5bMJl+MRPM8PBNrzqnVPqjjH36fkcVPqE9BGMHG1Ju66Ny/SC+\n",
       "bmCNuGgiFKAbnI8VXY8yNjhuttZCULb9cd6cSYs2AO2Z1+1sPit+S1eGRxlMKBouJ4tOezBD5jwo\n",
       "GToP6Y8yPs5i4LRoCH4cOktC0HvQfSpPYZjIWs42EIO5LxF5NZqbxVmUaIBE22Ajmrub8BUzKRvF\n",
       "gZ0VyiFi0MVxNlDc0zJtDOYNWvClUhEfLexUd9GEQaLPERmugQoUnxmchKo+wJhBaLUnjEZp0YYN\n",
       "Tb7x1z+Pln+mBjMTH51+GToFGog9L6iQFqDFtIZUYrtuWzGz6nliMGsmjL++prC7gUcsV2c/skmR\n",
       "irTVpHlH6L/31EHbfwNAvc4jDnZL8wm9XOSO6G6nMzkZV6O7rKoA3e28SDqiWxOqqkpUDVSkeVxL\n",
       "qQqFUDPUtgPzS4uU4Ylnoc/tMLvPit/S5a8BYekdEN0jDo592mkPZvDaFJIyRB6KoJpqXsVAN8X8\n",
       "i0GMz0bxTqmBKAlBZ+FbE3zNWximFEc2c7ZbBiXUBnMhlinVHuMvr+lCACtiwDf7a+xls6I+mEnZ\n",
       "KA6bpuGlYEJnQOK4GVR1uTpOZpoYzEm8lNIe88EI0V2O8GGQ6DMia6hzBjrOXjXZP6QPMPb8Cq+y\n",
       "Nxv5U63T8SOx+AjxXX1ooreMlsW7jTHoRf/5AfwOkvckLwUMyr9Y0gIU7XttKd5yJ/wG1hCDWZnA\n",
       "MGcKM+a176UuFW4ppu3n0g7+Js3l2smxk/1tm787E+8HD27fnlwRyIOtbq+4yFkojN0Wy0TnjvN6\n",
       "GuqNLLoXRzRrOKK0K1HF3/Bh5nEtS7Zv36EZShiD+GOLErTEM3HkcJtvOn1WujC/qYtOvfrCLI2E\n",
       "emZhoFp12oMYvHlQDiIZIg8cfBi019eaLAaHZ/MuBnGNNjFQk0+1iZIQdBz+KtaMwnCEW0O2crZV\n",
       "DGYtERF9Nx5g4WYI/lxHQgBd8UX40a4Qln5JN9YhG8XhdoAnOxEDEkfNoKrLUX1xpo1o4ngppd0m\n",
       "I9FdjrLFINHnbVlDpX1QvKnyxZvRAOt7AIxV9vsdbBUejB9v8X9MhZjvk+fBohAti1/yiEGvWtEx\n",
       "PgTxr4mwPQzKvljSAjRhxNyELcHGseiUv5UYzMoEhtlQ8ZSDmambCi0VXimm7ZT0gwX1lb03JG9v\n",
       "DL58+ni0NQ1qv29ubi75m6E8eEh6bXolRfqjFB1Pbhj/CHDNzRL0IWcvvq1bw10SdiWqorwL87iW\n",
       "R+fmTuuGWv5j/tiiBE15xo6cbnMfXT4rXYjf0kWk/kGtBrilkVChBv03lV32YAZ/HmIHsQyRBw4u\n",
       "m2pexcD3nUY0XQzysvDv41IDURKSrvnahFgzC4MOt45s5uwhecWsEsHwnxGXq4f+cs+ze++pIqEI\n",
       "518HxXPJe6579qkPn9SNdchGcYhuqh9bjhiQOGoGrRrJ6lOZRmTESyntM8NOdBc9PQ2Q6NPXkE9+\n",
       "9lPPYi80n9AGR/FqPJpCg+8YfzauLS8NCdDgqNrzggppAXphym2sEhuslNhD9NKzER12+HUM3mJP\n",
       "gv7LeJKHaExdh32H45carPBn/4ypj3xEvSQBofeDfYbXut4+x1PvJbEg3YtMLBFV0Jqq/bZ3S4xj\n",
       "xEHwa2iELsJt0hCPz9q+U8Cugf10VTjSkG4TdtDgQXm4ELSmmk8xOJpifsUQ9wPOIi4JWdnO0NHh\n",
       "1pGNnAn4YTOuv396aowOKB+pl4l/JdsuuXRZm8FVUzk7zlMlSywuolu8g06CLBG/xcFraBc1mKvm\n",
       "YD6XPSyvWtCdJt+9sL2kLwc1/tjbAOVocs8HKqUFaDVlMCux3kahHsw2vH7dC6thWQlfMXN1nTay\n",
       "X6q30V1rCCb6F2jGExB6X/xqikOv60dtkp/JoXtR/X4MgtZU7bK9GzeOEQfBr6ERugi3O3P63Jkh\n",
       "SHYN7KKrwpGGdJuwgwYPykMVtKaaTzFUMxjRZDGYWaRKwh26tHBbORPwwympS8lrdR6y7prK2XGe\n",
       "KrF/NovolmqK5ePyc1jW0EBZG2BXyD+SVdDAvQKC59/5PlqVtNHkm4X9X9aXl77zZmiBMrRile/5\n",
       "QYW0ACUYXWLLoqvYnnrN51eEeQx2d2sjNjZoo/0nAb/UMuj7d0MyHaZOsXUFQu3DUjOUSO9h+rxd\n",
       "jwUdP8F7WBPdSKmK8655V8fH2A6bHxlu6aLc3pjT543pQSJqYKBMVYUrDek2YQcxD8oDB1dN1Xwx\n",
       "OJuiBcVgZnGpI3CO0KWE28qZgB9OSZ0/r/7WT6sJZ03l6zhPlQR1i8vuFv/0FCAcaFTWUPLW4Dk3\n",
       "XgxvDQVffb8CBcUvVnvn5mb11ZgqBl//DHx2Ql/eOzdngzK00i/5nh9USAvQQlr8ldjj0FUOjoU+\n",
       "vyLMa+Ez8V/E2WZskB2/FKnHofD1mGmUsEvkyL0vC8GllxTROt/Ri6OaaIVSFee9QBpq22HzI8Mt\n",
       "XZTblZw+V9KDRNQA+i3ISloa0m2qeGRQHgoAelM1XwzOpmhBMZhZPOwInCN0KeG2cnY4HsyVbL1L\n",
       "UQGal/XUVL6O81TJgP0unN0thRTLGQgHCipwPl9ZrG/Tv9OT9Td/hnIsd8D8QPNRBpCOpoCxVEBU\n",
       "yfKU/YL/FwEDsvCWJ4IF85GYWGBilihStdhnKEGLvYZburxu5/a5kOe/GrfYFTFvTFuUB9VUC7wY\n",
       "spREc4WhQUv48+Fjp6DSEk4qQctzBMVJy72B7g+zr2bmo5cPwrxA81EWkINNIR+ENrWpTW36SKkn\n",
       "x2pmPnp5Yn6grfCrOYNaIdWmNrWpTTb9HwF/W7tq9tB8AAAAAElFTkSuQmCC\n",
       "\" style=\"display:inline;vertical-align:middle;\" /></a>"
      ],
      "text/plain": [
       "(|(x_{1, 1}, x_{1, 2}, ..., x_{1, n}, x_{2, 1}, x_{2, 2}, ..., x_{2, n}, ......, x_{m - 1, 1}, x_{m - 1, 2}, ..., x_{m - 1, n},(1 * 1), (2 * 2), ..., (n * n))| = |((1, 1), (1, 2), ..., (1, n), (2, 1), (2, 2), ..., (2, n), ......, (m, 1), (m, 2), ..., (m, n))|, |((1 * 1), (2 * 2), ..., (n * n))| = |((_b, 1), (_b, 2), ..., (_b, n))|, 1 in Integer, n in Integer, 1 in Integer, m in Integer, (1, 2, ..., (m - 1), m) = (1, 2, ..., m))"
      ]
     },
     "metadata": {},
     "output_type": "display_data"
    }
   ],
   "source": [
    "requirements"
   ]
  },
  {
   "cell_type": "code",
   "execution_count": 98,
   "metadata": {},
   "outputs": [
    {
     "data": {
      "text/html": [
       "<a class=\"ProveItLink\" href=\"__pv_it/exprrange_reductions/8ad20fe2a531d30f7b4ac195269ae6c2e307863a0/expr.ipynb\"><img src=\"data:image/png;base64,iVBORw0KGgoAAAANSUhEUgAAB7YAAAAXBAMAAAB9pb3/AAAAMFBMVEX////MzMxUVFRERES6uroi\n",
       "IiIQEBCYmJhmZmYyMjLu7u52dnaqqqqIiIjc3NwAAACW8nlqAAAAAXRSTlMAQObYZgAAAAlwSFlz\n",
       "AAAOxAAADsQBlSsOGwAAC6xJREFUeNrdW22IXFcZfmcyXzs7M5kiKWIsXQr2IxC70f5SEpaiUcTi\n",
       "pnYl2EBWiRVaNdumP7ZSzEKJmxgKgyIL+WHH5kcbS80QEZFYun8SDKFkSJHYktjBECyWml0IlKw0\n",
       "6z3n3I/z8Z73nHNnjTEH7mbv3fM+7/s873PunLkzAYAB+A91bisgsrUmU+yz87MYJnRoFkHJE/jW\n",
       "WgLa5Rz817PcTILhjhl4FTfIw3ngx2OQb0ZaZXMxQJ5HlLOLAZGlvnPKxaBOqYBDsBgidHgWHoAm\n",
       "/MW1BLTKSeqyJlluKsFgx2ATGESo8S5aOLh5uLHxGWmVZ6NjQzf7Q+HbFNaMdNLoqbNbB3/Rtode\n",
       "cNWpw7mGAhixeP/QFumCTIlkoYfSLNRQCwu1Ekd3ZoL8yeDZgQ8mnwJIqeCQkx9eWWjFcrgggGDQ\n",
       "MChi8MoE5QIT84IPjNL/iIwiED9hHNw8zkLOGXGV9Q7U738ps8DLh1YosCPS78e02Zdh9Jo9csRl\n",
       "s2PO5HbAiEVrHN6cSM9lSjQLPZRmoYRaWChwznEkyJ7H4gMdQr4M0KECKSc/vLK4FAt2gT/BwKFT\n",
       "xOGlCfIFIeZI1w2j9v+YJpA4OeLBw9oB54y4yhq7e7wnVdskl9cs//kV/nNem/1ZgCfskdU5vl3A\n",
       "blY4nGvIgBGL4gAq09lf3+s6WeChNAtFAAsLrRLHsAPaRJq3bwJWUkAPFUg5hTG8sjgUC3dBAMGg\n",
       "oVPE4ePBJyh+ZGIyCBeM2v95TSBxMkt2nihRGbYZcZUVCFrbFT7zLf77tDZ7bxceJN79P8l3KNgb\n",
       "LhzOOSTAiEVlBYo3PF0tWOChDhayABYWWiWOYQe0iTRNW7/SzbW2NTmFMbyyOBQLd0EAwbChUSTX\n",
       "dgWwtc0hHDBq/6c1gcQJ42DvPFGimoki+iScCVvbIzNpPY2ONvszAA8Sb7wW6K4acM4hAUYsipNQ\n",
       "XPZ0tWCBhzpYSALYWGiVuDaKMwFrm8E3OrT1R2byrW1VTmEMrywOxYJdEEIwbGgUybV9Bl/bC24Y\n",
       "pf+MjCKQOGEc7J0nSlTGGYroAhym1vbr5399Un0SNzqW1lPrmYtxNxF6gu6qDlc6/9s3tlKlyICc\n",
       "BZSXUFfXL23a+CeEhS2UZCEJYGUhwz2y6YO3+xQLO6AFnh0cdePvJjBvCkAPFYCU83DcgsLJh1xZ\n",
       "aMUg1AX+BN0eoSia9GQ3H8bX9glTKaTWrP+xIXZrajEO9s7bS1TtdFi/kggiqlyg1vZcc3NtUt3J\n",
       "d9J6Row3JFD4mAh9ju6qDje6bjMcHxB4MiBnAXf3UVfX4Hz/AMLCFkqykASwspDhep/r129QLOyA\n",
       "Fnh2MNSPJhrTmPWrHU8VgJRzIW7Bs3DalYVWDEJd4E/Q7RGKoklPdvMCvrafM5VCas36LwwhCSRO\n",
       "GAd75+0lqnZa0K8kgogqdxFruzqorhTVDZBgwOspLxpruzxGhJ6mu6rDfak8DlfbBJ4MyFnAo/hT\n",
       "pJ/A/u59CAtbKMlCEsDKQoIrTXwTWssUCzugBT46OOrHUF3CrN+Y9lQBSDl3xS3ow35XFloxCHWB\n",
       "P0G3RyiKJj3ZzbvwtX3agMFqzewkDFEe09RiHOydt5ao2inNvqwLIqrck1ngeCejU7/ObjBQY5de\n",
       "4dfr/G5VWIIDU1NPTE09CpUJdXY0XsBDXzuxid3LoDY19a3vTU0puzkrXPf4BJzrJmUpeMnNMQPk\n",
       "LGrjGQuZUhsOpUUIhIgFEaqzqJ+8p5sCSAJYWQg4jlCvX4PGCoqX3MVxQLDCR0eMyiWp/3KKjXba\n",
       "u8JS1hFDBe0zFN7TWFVNzj1pC3jcMZ5lh5rFppg2Al3gTxD1CJYbdYxMz/C+8IViby7m3QaMXGus\n",
       "h2QnYYgX9FXCOFg6T5Wo2knKrgkiqpTWdnlOulXtFA/iohtI4RLf59z1F37jyO410mKMZ1fH8NA5\n",
       "YJvB7fQd24A7B/BAVpaMFw8JkLN4BqTpMiX4YVqEQChNE6EGixrwnZ4AKNGv26KVz2QIjSUodlC8\n",
       "5FYc8rodW5+hRl6q9LCXNQG4E1dBHaKnsaqanHtECyJbPWXPYlFMHaEuCCCIeATNjTtGomd6f4+x\n",
       "GLiY200Yqda4DslO3BCKQPyEcSg5XrexElU77TGuxIKIKneRz8m/Mah3oSHkOcWzThJ78rPQGmCh\n",
       "1/g+4VTYnpzV+FEdLwWkgtJNZKMH/8KfEJduwG/iIgSCgLGEGizWT/BNjwCQBLCykOEi3dfPdDG8\n",
       "pI+T4XtyhlruRWBdbMs6SaigjVNSCaeMPTlrweNRXN2Rxey7ZtUwFwQQxDyC5cYdY9Dz2JOfMmGM\n",
       "WuX+c0MoAvETVpa98/YSVTvtMq7EgogqtxJr++jEvTAKytqujqf1rOtr5As9aHax0B/zru6ju2rA\n",
       "PRXtNUbRUmafvsTuYRIgY7ER4F3M1fWHitPQi4sQCIIFHmqyqHb5WhQAkgBWFjJcdDs/1+1heDEL\n",
       "O6AFnh0RarT7eqA1gz1qGidUiJKOXdiCrm1Nzq28BdGOr9j5B50FUWz+rvPNfW11fXm7IIAg4hE0\n",
       "N+4Yg55sv6342t5nwhi1yv1nZGSB4hPGwd55e4mKnZLs0pVYEFElf57/5kD6TCZ7DHfuUz+Fr6tr\n",
       "WzzSfyv98EaaDVcOHjyAh8Lvkw8VeNXinej19P0JChf5v9l5GsOrP/t9+JECyFi0dh48KN2jM0qN\n",
       "5VenS4txEQJBsMBDERYwOpmykATgb4BSKhkLBS7y8zvVNoKXsMAAj3eMswyeHRHqfoAvjmqe4PLV\n",
       "enYVWNLvwnl0batycl2W2ROidb0encVU7JXtM5Wx5pj+2unpAn+CmEew3BbHGPRkN5/QLwgxD5tK\n",
       "6bUq/WdkZIHik+SzPqnzWcOJEhU7JdmzK4kgosoN0c979v48vecU772ePk199VJjflFd2+WJtJ7C\n",
       "pDobdq+uXsdD+VfuH8uq3pn8EO9PULjSJNTvW8TwWq93YEUFjFiUV1dXs+cmEqX6i/0/P58UIRAE\n",
       "CzwUYRH/lwsOIAnAi0+pZCwUuC8DvPw8hpewwAD5L+pZBs+OCPWvAF/9m/alCS5fecKuAku6HH+k\n",
       "r69tVU52RC1ozkHpxQGdxVTsn+/A+na2BANd4E8Q8wiWG3eMQU9x8wb9ghDzMVMpvVal/4yMLFB8\n",
       "wjjonc/8ZC9RsVOSPbuSCCKqLLu/USSv7SvZ9gl2gG/oZeblSXo35gMX4xX77DGEDOjBghcRI1yB\n",
       "oNDWFzIAWYC8LASeYEEA2uAdKa5Qfyz2C9PR27TC56OxTVnbupwOXcgssBnuZO80P8HSDIJdMAxB\n",
       "PHcOx+ATGESY8XZYOdg774ttmxFXKb747r22xdf4xffbZ33XYmuuNYi/1078L4FZ77Vdadfm2gqg\n",
       "BwteRIwgWHiHvs8fjQgAWYC8LASeYEEA2uAdKeapP1bazfHWUht53dbldOhCZoHvwNtwtZDXBcMQ\n",
       "xHPncAw+IftfNL7umbVysHfeF9s2I6lym8+CqveED1rScxpYN/AMvXzHJ7tw2TXXAy7GuwrlT7dV\n",
       "QDcLVsRrotcKC3doa8sdP0tYqKH5WMR4goUT0ISnU9CAV6OXsOr4nLS2Y01MObflz9Jail4999Xy\n",
       "umAYgnjuPI5BJ1zGlAo3BOPg7rzb1JYZSZVHnVb847/7hR/ABy+9oRVaH/cM3bu66lGoGy7Bexia\n",
       "f9AAnSx4EXcuMgRNbmdoZXV1KWHhXLoeLGI8wcLnjqbB0ylowIdhZNDanDy0ZT2NNTHlPJo/S2kM\n",
       "fgV/fzevC4YhiOfO45ijtsUUBoOScd/B/Ex91L7k2dHq+3iqIf5Rn218CP6hTbeH/eCSUlRAPxaw\n",
       "iLAYQoDhWXgAmvBkilDAWBNTTlKX4CxBLlhbgjkdg01gEKHG+9DCwc3DjY3PMKskx9cg9xgidK3x\n",
       "St3bgcXajiE0+X/he8tofWuOmf9J6FrjVW8LFms7qre8gW4frW/u+A8hK4QWgntVZwAAAABJRU5E\n",
       "rkJggg==\n",
       "\" style=\"display:inline;vertical-align:middle;\" /></a>"
      ],
      "text/plain": [
       "(1 * 1 * x_{1, 1}) +  (1 * 2 * x_{1, 2}) +  ... +  (1 * n * x_{1, n}) +  (2 * 1 * x_{2, 1}) +  (2 * 2 * x_{2, 2}) +  ... +  (2 * n * x_{2, n}) +  ...... +  ((m - 1) * 1 * x_{m - 1, 1}) +  ((m - 1) * 2 * x_{m - 1, 2}) +  ... +  ((m - 1) * n * x_{m - 1, n})+ (m * 1 * (1 * 1)) +  (m * 2 * (2 * 2)) +  ... +  (m * n * (n * n))"
      ]
     },
     "metadata": {},
     "output_type": "display_data"
    }
   ],
   "source": [
    "requirements=[]\n",
    "double_nested_lambda2.apply(*double_nested_operands.entries, requirements=requirements)"
   ]
  },
  {
   "cell_type": "code",
   "execution_count": 99,
   "metadata": {},
   "outputs": [
    {
     "data": {
      "text/html": [
       "<a class=\"ProveItLink\" href=\"__pv_it/exprrange_reductions/021edb3d47a7ba2bed5367e47910e4a6a20e9e480/expr.ipynb\"><img src=\"data:image/png;base64,iVBORw0KGgoAAAANSUhEUgAACy8AAAAXBAMAAABKAYwbAAAAMFBMVEX///8AAAAAAAAAAAAAAAAA\n",
       "AAAAAAAAAAAAAAAAAAAAAAAAAAAAAAAAAAAAAAAAAAAv3aB7AAAAD3RSTlMAInZUiRDNmWbv3US7\n",
       "qzJazP2FAAAACXBIWXMAAA7EAAAOxAGVKw4bAAAQrUlEQVR42u1dfYxcVRU/b3Znv3c6Niimqem0\n",
       "VWxMC/tHqWljZIJEDcuGZ4OAyWIXTWNJIExIbdfG6Cqx/YMCq1KDgLQJIMkCZVOtpBrCtFINn1mq\n",
       "YDECE8QQiNIt0AbSpOu7H+/de+499773Zoewf8wxg/PuPed3vs/72McAAOXof4wCaFPLqJyyROwH\n",
       "+SHFYkCLB4qj7FMVZFLk4Q+80l63c/ucq0iDVMgyfGR50JpqYRdDlpJorjC09SATwsfVmk1wBhn5\n",
       "g2bM40CFIRjmKyvb47RlFAXVogMp+/2V3JACVAh2ThtbYoGJWaJI1UqfoQSt9Bpu6fK6ndvnFIEU\n",
       "S7OkoVV5UE21wIshS0k0VxgatIQfdrB0XPfh9VNPTbiQ1+391dMP39mcrCnu8D9zkD0JOpAjKE46\n",
       "EAOtleHqqLbnacsoCiq8Harj0gNRnifQ/rnbnlfH/GBVKiRRPAx0lacX11rWsG+aKpZ3Zp44v2+/\n",
       "voEMJfpA5xe0Chyeed3O5jMKE6QJWJZiIuzB1MI8qKZaeMXAqfjUPk9JCBq9K19hWMhJzlahwWwU\n",
       "EBSea8BYlxN69avQBWOasTlkTXGUDbO6MgSZiBeKv6dbeBBTTwcT4lMck+G6sj1OW0ZRUIv/uFEV\n",
       "0DXbTkX/3KzvB3W4POkecdAV+iFJYqBckO5FJoasEd80VVfG5jFaCp1ndEMJQvyCNDTkmdftbD6j\n",
       "MBm60siqaMIe476zhXlImmrBFUMSypq7JGL6Xq7CMJG1nAn4YT0EGnXXomH0FSf09mgOdg5pxuaQ\n",
       "xeI4G1Z1ZQmyHS8Uf0+3iCCm0Wbx6Z6Q4Rpvz9OWEQsqXKBlrsBys0vfHyxD72R8LA56ammQBDFQ\n",
       "Lkj3IhMzrGHfNFXjsXmMXgD4tW4oQYhfkIaGPfO5nc1nFCZDVxrZFW3bg6mVeUiaagEWg6BFQ56S\n",
       "kPRevsKwkJOcCfhhPQQ48KPFuhP6BSjWR3Vjc8ga4igbVnVlCbIdLxR/T7eIIKbRLvHpjcM12Z6n\n",
       "LaNeoHqxN9T2e0/B4MnkWBzsSYOk1hnoHmcv9trWXBBLCJrUS2dvCK+VNUMJmiT6ag/QnvnczuYz\n",
       "CpOhK40m6cGM7DEUtjAPSVMtwGIQ9ISvJOST1JyFYSGrnO0hB/PqqSl2YVoE+NGgfZtfeHrqt+z/\n",
       "Q+huvGoNZr+sYkDiKBt2dWUIsh0vHH93t4ggpg6PkH/WyXB1jLXnactoHdmLXRPa/uA+GDybnPTF\n",
       "wZY0SII46BZnL66zreHfElU870np/BPgtYZmKPEkcYwYzFuA9szndjafUZgMXSlEVLRtj3Hx1cI8\n",
       "JE21AItB0KXgKQkpti9fYVjIKmdbqMH8h8/FLKWZNy3I/u8kUftfqWYOZr8sYtDEUTbs6soQZCte\n",
       "Rvzd3SKCmEYMJPpsleHqrkbnnhUvvmE/rKFXISsfvbxxzbcvGWoetBViWU1oQmor2YudM2gf+mY1\n",
       "EXYw4ofsX/ONi48kCwdePGd1RYKOOHtxq20N/5aoYnlHg/ZR3VDiBk/njy0aAdqzFLcz+Kz4bV1p\n",
       "z5OqUqh0yTPONBgM2fOQyLjyEDfVQiwGQTes+Ju7JOSQOLZmKE9hGMh6zkaIwRyoh7ID4VHARQXw\n",
       "KRW0owOhMZhJWR6HNy6bNhg0cTMbKO7+TBuDeQQspVZ8qO6iCYNEny0yXGxOd8Oayg474uQqZOWj\n",
       "l2uFY937mgdthVhWE5qQ2kL2Ys8Yvuo7UdFE2MFOP2TnwDHYlNwKVZ+rFE9K0J1JL+6YYvRI0otb\n",
       "bGv4t53oJK+VTuld3VDHRUHMH1u0E2jPUtzO4LPit3VluPLgQrfAemcaDIbseUhk6DyoplqIxSAu\n",
       "Xk6HMQBREoI2bS6ezFMYBrKes53EYO5SN/Zre+IAKM+uVVee1Z+CMZhJWRaHD6Y7Jg0GTdzMBoq7\n",
       "P9PGYN4JllIRHy3sVHfRhEGiz30yXH3RmfEncHt43BKhVyErH7ncU+45NTjRPGgLxDKb0ITUfWQv\n",
       "dkyifXhEF2EH6/2Qf+qrw7L4Vqh/+mEIzkrQ9c6LpPtsa/i3RBXLu146fTO6oTYh/tii9UB7luJ2\n",
       "Bp8Vv60rhZilXKgCtzvtMRiy5yGWceYhbqqFWAxiWp2C3oqzJARdFMIv8hSGgaznbD01mJW4euFN\n",
       "eaZOA13a93gwE7I8Du9Cz6zBoImb2Xgkc6bNwbzeVmrFh+oukgyQ6HO3DFdvlLkGbGPnO3EquDr2\n",
       "RV8tXvKK8/k/kjaXrxh5UQctQfdYgib3PKA+Do+Y8XgD+yVMMEhsetR5pDS6W2V/01hSiKVZtN9d\n",
       "V/vi4ITHo0gk3DTNOkXIFItnWAMI0BPOXrwbW5N8S1SxvOul80NkKPGnCZ0/tugEEJ553c7qs+K3\n",
       "daUQs1QKbXPaYzDkyYOQceYhbqqFWAxCyxgsqjpLQlDk4/t5CsNA1nN2ghjMb7FLS+55YWiY/ZFO\n",
       "F4LSXdHuw3xtZWR/EQ9mSlbGQbSoYtDFjWZQ1ZiW6Sv5dfB+O16aUis+VHfRz14xSPTRBzPw0+Pr\n",
       "X+ATaIW6YVer3eC7j1d81nINdmBQdkqVaGLPB+rncIphsvzqte5i5KZXnVOKHsx9taQQ+yfR/q2g\n",
       "9sXBoZQhdRHAS4lMxywMjknQQ7kH8yFH6fTMIENTBnNs0SEgPPO6ndlnxW/pyjCYmVDUVne47cEM\n",
       "mfOgZFx5oAbzQikGoawKTww5S0LQ/dD/Xp7CMJG1nB0iBnPyChyMBnX+OpkmBOoduGJ9KX+3TR/M\n",
       "pGwUh2i29VYxgy5uNMOtOTJtXDEn8VJKrfhQ3UUTBok++qMM6D8J3wTYIDiTaaOtLpoOnH/FRNLm\n",
       "8hlxd6JAnygXQ4l2Rt2TOUC9HB5bMJl+MRPM8PBNrzqnVPqjjH36fkcVPqE9BGMHG1Ju66Ny/SC+\n",
       "bmCNuGgiFKAbnI8VXY8yNjhuttZCULb9cd6cSYs2AO2Z1+1sPit+S1eGRxlMKBouJ4tOezBD5jwo\n",
       "GToP6Y8yPs5i4LRoCH4cOktC0HvQfSpPYZjIWs42EIO5LxF5NZqbxVmUaIBE22Ajmrub8BUzKRvF\n",
       "gZ0VyiFi0MVxNlDc0zJtDOYNWvClUhEfLexUd9GEQaLPERmugQoUnxmchKo+wJhBaLUnjEZp0YYN\n",
       "Tb7x1z+Pln+mBjMTH51+GToFGog9L6iQFqDFtIZUYrtuWzGz6nliMGsmjL++prC7gUcsV2c/skmR\n",
       "irTVpHlH6L/31EHbfwNAvc4jDnZL8wm9XOSO6G6nMzkZV6O7rKoA3e28SDqiWxOqqkpUDVSkeVxL\n",
       "qQqFUDPUtgPzS4uU4Ylnoc/tMLvPit/S5a8BYekdEN0jDo592mkPZvDaFJIyRB6KoJpqXsVAN8X8\n",
       "i0GMz0bxTqmBKAlBZ+FbE3zNWximFEc2c7ZbBiXUBnMhlinVHuMvr+lCACtiwDf7a+xls6I+mEnZ\n",
       "KA6bpuGlYEJnQOK4GVR1uTpOZpoYzEm8lNIe88EI0V2O8GGQ6DMia6hzBjrOXjXZP6QPMPb8Cq+y\n",
       "Nxv5U63T8SOx+AjxXX1ooreMlsW7jTHoRf/5AfwOkvckLwUMyr9Y0gIU7XttKd5yJ/wG1hCDWZnA\n",
       "MGcKM+a176UuFW4ppu3n0g7+Js3l2smxk/1tm787E+8HD27fnlwRyIOtbq+4yFkojN0Wy0TnjvN6\n",
       "GuqNLLoXRzRrOKK0K1HF3/Bh5nEtS7Zv36EZShiD+GOLErTEM3HkcJtvOn1WujC/qYtOvfrCLI2E\n",
       "emZhoFp12oMYvHlQDiIZIg8cfBi019eaLAaHZ/MuBnGNNjFQk0+1iZIQdBz+KtaMwnCEW0O2crZV\n",
       "DGYtERF9Nx5g4WYI/lxHQgBd8UX40a4Qln5JN9YhG8XhdoAnOxEDEkfNoKrLUX1xpo1o4ngppd0m\n",
       "I9FdjrLFINHnbVlDpX1QvKnyxZvRAOt7AIxV9vsdbBUejB9v8X9MhZjvk+fBohAti1/yiEGvWtEx\n",
       "PgTxr4mwPQzKvljSAjRhxNyELcHGseiUv5UYzMoEhtlQ8ZSDmambCi0VXimm7ZT0gwX1lb03JG9v\n",
       "DL58+ni0NQ1qv29ubi75m6E8eEh6bXolRfqjFB1Pbhj/CHDNzRL0IWcvvq1bw10SdiWqorwL87iW\n",
       "R+fmTuuGWv5j/tiiBE15xo6cbnMfXT4rXYjf0kWk/kGtBrilkVChBv03lV32YAZ/HmIHsQyRBw4u\n",
       "m2pexcD3nUY0XQzysvDv41IDURKSrvnahFgzC4MOt45s5uwhecWsEsHwnxGXq4f+cs+ze++pIqEI\n",
       "518HxXPJe6579qkPn9SNdchGcYhuqh9bjhiQOGoGrRrJ6lOZRmTESyntM8NOdBc9PQ2Q6NPXkE9+\n",
       "9lPPYi80n9AGR/FqPJpCg+8YfzauLS8NCdDgqNrzggppAXphym2sEhuslNhD9NKzER12+HUM3mJP\n",
       "gv7LeJKHaExdh32H45carPBn/4ypj3xEvSQBofeDfYbXut4+x1PvJbEg3YtMLBFV0Jqq/bZ3S4xj\n",
       "xEHwa2iELsJt0hCPz9q+U8Cugf10VTjSkG4TdtDgQXm4ELSmmk8xOJpifsUQ9wPOIi4JWdnO0NHh\n",
       "1pGNnAn4YTOuv396aowOKB+pl4l/JdsuuXRZm8FVUzk7zlMlSywuolu8g06CLBG/xcFraBc1mKvm\n",
       "YD6XPSyvWtCdJt+9sL2kLwc1/tjbAOVocs8HKqUFaDVlMCux3kahHsw2vH7dC6thWQlfMXN1nTay\n",
       "X6q30V1rCCb6F2jGExB6X/xqikOv60dtkp/JoXtR/X4MgtZU7bK9GzeOEQfBr6ERugi3O3P63Jkh\n",
       "SHYN7KKrwpGGdJuwgwYPykMVtKaaTzFUMxjRZDGYWaRKwh26tHBbORPwwympS8lrdR6y7prK2XGe\n",
       "KrF/NovolmqK5ePyc1jW0EBZG2BXyD+SVdDAvQKC59/5PlqVtNHkm4X9X9aXl77zZmiBMrRile/5\n",
       "QYW0ACUYXWLLoqvYnnrN51eEeQx2d2sjNjZoo/0nAb/UMuj7d0MyHaZOsXUFQu3DUjOUSO9h+rxd\n",
       "jwUdP8F7WBPdSKmK8655V8fH2A6bHxlu6aLc3pjT543pQSJqYKBMVYUrDek2YQcxD8oDB1dN1Xwx\n",
       "OJuiBcVgZnGpI3CO0KWE28qZgB9OSZ0/r/7WT6sJZ03l6zhPlQR1i8vuFv/0FCAcaFTWUPLW4Dk3\n",
       "XgxvDQVffb8CBcUvVnvn5mb11ZgqBl//DHx2Ql/eOzdngzK00i/5nh9USAvQQlr8ldjj0FUOjoU+\n",
       "vyLMa+Ez8V/E2WZskB2/FKnHofD1mGmUsEvkyL0vC8GllxTROt/Ri6OaaIVSFee9QBpq22HzI8Mt\n",
       "XZTblZw+V9KDRNQA+i3ISloa0m2qeGRQHgoAelM1XwzOpmhBMZhZPOwInCN0KeG2cnY4HsyVbL1L\n",
       "UQGal/XUVL6O81TJgP0unN0thRTLGQgHCipwPl9ZrG/Tv9OT9Td/hnIsd8D8QPNRBpCOpoCxVEBU\n",
       "yfKU/YL/FwEDsvCWJ4IF85GYWGBilihStdhnKEGLvYZburxu5/a5kOe/GrfYFTFvTFuUB9VUC7wY\n",
       "spREc4WhQUv48+Fjp6DSEk4qQctzBMVJy72B7g+zr2bmo5cPwrxA81EWkINNIR+ENrWpTW36SKkn\n",
       "x2pmPnp5Yn6grfCrOYNaIdWmNrWpTTb9HwF/W7tq9tB8AAAAAElFTkSuQmCC\n",
       "\" style=\"display:inline;vertical-align:middle;\" /></a>"
      ],
      "text/plain": [
       "(|(x_{1, 1}, x_{1, 2}, ..., x_{1, n}, x_{2, 1}, x_{2, 2}, ..., x_{2, n}, ......, x_{m - 1, 1}, x_{m - 1, 2}, ..., x_{m - 1, n},(1 * 1), (2 * 2), ..., (n * n))| = |((1, 1), (1, 2), ..., (1, n), (2, 1), (2, 2), ..., (2, n), ......, (m, 1), (m, 2), ..., (m, n))|, |((1 * 1), (2 * 2), ..., (n * n))| = |((_b, 1), (_b, 2), ..., (_b, n))|, 1 in Integer, n in Integer, 1 in Integer, m in Integer, (1, 2, ..., (m - 1), m) = (1, 2, ..., m))"
      ]
     },
     "metadata": {},
     "output_type": "display_data"
    }
   ],
   "source": [
    "requirements"
   ]
  },
  {
   "cell_type": "markdown",
   "metadata": {},
   "source": [
    "### Row-major vs column-major order\n",
    "\n",
    "By our convention we the linearize a range of ranges of parameters according to row-major ordering.  This is what we used in the example above and is what `var_range` produced.  A column-major ordering is allowed, however, as long as it is employed consistently.  We repeat one of the above examples using column-major order."
   ]
  },
  {
   "cell_type": "code",
   "execution_count": 100,
   "metadata": {},
   "outputs": [
    {
     "data": {
      "text/html": [
       "<strong id=\"x_11_to_mn__column_major\">x_11_to_mn__column_major:</strong> <a class=\"ProveItLink\" href=\"__pv_it/exprrange_reductions/c921582d58538cf0883bfc7184efed9416156ed50/expr.ipynb\"><img src=\"data:image/png;base64,iVBORw0KGgoAAAANSUhEUgAAAkYAAAAQBAMAAAABu62cAAAAMFBMVEX///9ERES6uroQEBAyMjLc\n",
       "3NyYmJgiIiJmZmaqqqp2dnbMzMxUVFSIiIju7u4AAAAd7oVFAAAAAXRSTlMAQObYZgAAAAlwSFlz\n",
       "AAAOxAAADsQBlSsOGwAAA29JREFUWMO1l0toE1EUhg+Nk0weMy1uC1LoSig1GwVRMRvXxoUgIiaV\n",
       "Coqg3akIElCiCEp2FYSahSgWhYEufJRKQHBlygiiIolcN6VUokV0Y6Hx3pk7c5+dTlJ6Fun0nvm/\n",
       "/5/bk5kOQKf1Y7YGUtntxddPIUZp1bA90L5lPfD0GStW05ySF01oubfiMLXqbYL2LeuBp82YLCbX\n",
       "c2V59SxcQu9iIPXq7YH2LeuFp82YBbOAfywVvEmbpKsO3MSfK88WIexpi6qDQZ3UQSlFhNqz71E8\n",
       "aCjfrARTtRHlyMrPqFTCxZi2N4sLn8PVQ2RGgYwd7W1QRB0UJ+egPkWCmhA1/TyUk29WnKnaiHYE\n",
       "4cKV2lO0EaR9/XSwOPAXfsJvKDn4OB3F9tRBTeuglCJCB0eMtXhQJt+0+CtRGtGOIFy4VN9H3kIG\n",
       "+D3C6eyduTzU4SK3R+qc2qE6WV34wstFqEeRoUmEE9tqRKRAA3n040g2PXeh3fg0LIRE3h7xDdWb\n",
       "ZsQnVciNrLrQsiYcePjmBuzm98j+g39bW84PkKflE6B7RFbhV4E78D589dJoOVHk5BIUU1QoZKYY\n",
       "RqRLUCpn/cgsvql9Zh8chJbQII5iQ8X6GclJe8mtDUdoWA1YbqerNWGOLiOw77r3z5Nb0fVgj8gq\n",
       "pMjmXgF6kMJNX336IwwiTi5BCUWBwgvkESQoU4dQKmcnsrM1WXxTo1OANbgjNIij2BBBLCM5aR0v\n",
       "kAiOWQ/mjNujNBvsYyjspdVxnwmPmjCqk1MooShQY5dACCVIgUpyfc1Ipjk3m4erQsNz1DVU75w7\n",
       "kPcjzEGqptmjDKNWjGLQy6i5wg2GA3A7q8op1KMo0BNwnCcExakpVJJvUHXJNOFYQ8aqwzc8R11D\n",
       "9U44ZsXxInyAUpYj23X/IjvsLz7/Eq1Q1456nwwf0MYqXHugyimUUBSoMTx/jyOw1waQoZJ8g3u2\n",
       "K5mW8Cwkhyp8SOyobWi8S5B65ayQCE2YMAPAo39udj+cPPocgIkPd7swVyM9fjUoiz0vG/C1rMop\n",
       "lFAUaKLbXeUIYbkKVJLry5JNx2BH0WgirkEctQ2N9xhYj3FIHOEInPomfB+19rFfLtM9rG4R2req\n",
       "J5wu5Lj2fyoUFzkef3Wr0L5VveC0IbWvfcnYzHL81a1C+1b1ggtD/gcwlNtIqBY1JQAAAABJRU5E\n",
       "rkJggg==\n",
       "\" style=\"display:inline;vertical-align:middle;\" /></a><br>"
      ],
      "text/plain": [
       "<IPython.core.display.HTML object>"
      ]
     },
     "metadata": {},
     "output_type": "display_data"
    }
   ],
   "source": [
    "x_11_to_mn__column_major = ExprRange(i, ExprRange(j, IndexedVar(x, (j, i)), one, n), one, m)"
   ]
  },
  {
   "cell_type": "code",
   "execution_count": 101,
   "metadata": {},
   "outputs": [
    {
     "data": {
      "text/html": [
       "<strong id=\"double_nested_lambda1_column_major\">double_nested_lambda1_column_major:</strong> <a class=\"ProveItLink\" href=\"__pv_it/exprrange_reductions/b63a6cceedf898c63bd700425e7228f53a4c6c7e0/expr.ipynb\"><img src=\"data:image/png;base64,iVBORw0KGgoAAAANSUhEUgAAB+0AAAAXCAMAAAD5oS1BAAAANlBMVEX///8WFhYNDQ3MzMxUVFRE\n",
       "RES6uroiIiIQEBCYmJhmZmYyMjLu7u52dnaqqqqIiIjc3NwAAACzeusSAAAAAXRSTlMAQObYZgAA\n",
       "AAlwSFlzAAAOxAAADsQBlSsOGwAACo9JREFUeNrtXduCqyoMdW/vd/3/nz1qS+UWEiBUe7Y8DNMR\n",
       "WYusJCDaMcu2smRPeQpLWUIaLyEn85Na7mCTG/RLleSR7Sdlu6Kv24v9+9JTc+s8PbPUU3hKNdPb\n",
       "Cr/T64tIXQzvXZKGreDs4P7I9pOyhUbnLRLHrcjcS3rEE0Q9jc8k9RQ2j26pLYXf6XVeD/YTwAMs\n",
       "pBD4pev6Mk9tE4+CmotHR5C7KpvLPMEM6bKB8DeVLYZWnGyh0YmWWD/0iVHsujbaukkj9ruJWK2H\n",
       "/pminsJXemLQC79T66Ho+tXWA3iAiRQCv5Tbj3Gt0trEoyB8+XQEuKuyweaJYkiVDYS/qWxxtGJk\n",
       "8+NJnh04/JAqNj7ZM1g3mfTfT8RK3bXZU57CVtqO1k74nV5nM5Q25vB8YpCqWoAOgFIc972ahge+\n",
       "8o45X758OgJ6qrI5zRPOkCobCM8rm79uvnyTy0YtRlTi15KxfugRo+7CYd1k0n8/ESt1kz3lKYyl\n",
       "sUf9rD2i0gB1ktneIDXpd+YQ+Ob4a7EuLPCT931BX76MOtr1VGVzmieCIVE2EJ5XNn/dfPkml43c\n",
       "i+5m6Wd7jxhF+uGwbirpL0jEUj09G/lPYS39Zw2rBMykrpaF3+l1otm+b92xiMEX9fFzzVng42d7\n",
       "grm4dOxt1ySabE7zRDAkygbC88oWn/Ip5kopG5m3EZVfmO3pMYpc23NYN5X0FyRiqe7ejw4M81wM\n",
       "+TgSHhv0aEorXh36NL6W6QVoifh5dTsW4rda+bv6SfidXgfM9hR2Jyl7LBLg9yGsgbbR4ONne4xv\n",
       "tZFaxrmcw+UUnHXTAbIB5oEtyisbDA8c4ICPkA2g5dKNQTZq0eQ9WW3wZcWtsp/YFDIxsZpWepQ9\n",
       "Q+QCnrDVYuLfrrzmYs66muAK9KZE3/Lp0KfxtUwvQEvEz6vbtrfP71OJLDxDZ3sKu7Z3xyIBPsvy\n",
       "dQ60jQYfP9tjfMes3Ehlg3U7kyan4Nz2xCtIq3lgi/LKBsMDBzjgI2QDaLl0Y5At8LLww6rdpqep\n",
       "4VbZT2wKmZhYTSs9yp4hcgFP2Or6tUxot77bTa8C3//xaEorXh36NL6W6QVoifj5dXu6sOaTcynl\n",
       "g7ffGbX/bE9ip8eVHosE+K1REWobDT5+tkf4VlVW74urxbadSZRTcLYmVFM2u3lgizLLBsPbD7DA\n",
       "R8hmp+XSjUM2alHlPVntw2lXbpW9xCaRiYnVpNKj7DkiF/CErW5emwl7151YzgzywmbQVzly02Ec\n",
       "i2IAm9KKgq1vXbjQlaMqFTdTS9tYpqFdUtFItoWl4SOCt/648N8/tVJW6Vsxb78zajVtDGtvzyfS\n",
       "AZLrnqS6g0rTHFWh03HAZ11pOUCLhg+8Hd25rxLCd9h+3VtMn4OQweB4E5xP00l9mLLZzQNblBTI\n",
       "dNlgePsBUm7A4CNks9Ny6UZMPk7ZXEVupsqrsjo5EKLTJ4fRxCaR8Y1VfzKB0qPsTQ+guYBjCFIt\n",
       "+V/zXo3k83xelSkfjKbdMThnU1pp7EsnN7pyVKGCMAXaxjCN6ZKARretdcB8RPBSQdf2VS/dpqLN\n",
       "9lndAVcPdYeaSf5QIUt1AnwrR7oCj0dDxX1tj/KdjhAvesRgjngTnCXuZx+mbLB5YN3QQKbLBsLD\n",
       "vPDcUHFf4OF83boRko9TNvcFfQdG54vVa6JpRs/opOYwqtgEMp6xGkAmWHqUveEBJBdwDEGqz72l\n",
       "ar9TMBySTbIZJtMmn6b7MkTac5hCZxcJWzda7WosHdWoOJna20YxjeiShka0LSQNHxHUzWv7bJ8r\n",
       "/7GCbyef5Lq69fx38o//hLUsHiaXMDX45Dv5IlusbTaExpv4zep4hmyweWDd8EAmywbCO3jhuQGD\n",
       "D5cNpOXUjZJ8nLKF7eQLVvX45jDEq0xI9ZDxcDL+sepNJlh6lH1o5IJDkOrXs39DWWXFvgQYMzBl\n",
       "vhGUpu1gz28kNtYOu3ZbAnY0dIWoRAVlen7wIepk6tmlL5o61AO6yOb2/f8h8QEDZ8QPW+94+1Np\n",
       "n+17JfrEM6d67T3bU1xXJmWPRRQ+P7qfBxc6FA0GfPxsj/I9Lhv27cDRaTAw3k7OuumssgHmgRmS\n",
       "ApksGwgPHaDkBhw+WDbYXKButOSDyEYturwHq9cW8zYZLS2Dyq7E4TYeSsY7VgPIBEuPsg+LXMcQ\n",
       "pPr1eP605kO39VNNYMoUdw+0phu0eQlz3oWAf7F2OLRVs42/WYjo2grsRYXC9P3BZOP6xc1U79Ix\n",
       "ZG80ZagCutgf0CQNGDwjdthGx5n8LSPl+yXa9+0tXw8RR6B/i2E/QHDdTPvqkyUWMfil7vZSI+jW\n",
       "aDDhNXSXp4TyPRLZ3Gdt7qIMxlsGfMkOkA8yD8yQEshk2UB48AAhN+DwrlAP4+vQjZR8ENlcmcgp\n",
       "78Hq9UxZOWZjvMruxOE2HkbGO1YDyIRLj7IPilzXEKQ6f02Q3Txv+bidMjhl1q/XHmhNlbchfM6r\n",
       "xR8/txzMX2wdLsO822wdiOhqkhBUCEzFhw9RF1PRyM3U6NI25C4MTRmqgM4/QmIDBs+IHbbZ8Xaa\n",
       "/Suwo+q8eW2vi6JZe9szp9ABiuuapPRYxODr9Sg9gm6PBgPe2OVzeEoY3+oV1kU7OQ0Gx9vJ2aqn\n",
       "JhtkHpghKZCpsoHw4AFKbsDhXdktiK9DN1ryQWRzZSKHvC9WrwvJqpuXeJUpiQMwHkrGO1ZDyIRK\n",
       "j7IPi1zXEOS6zpGbFp8Pk/11IYP1ph9lq9jWaP+uofyEhBtdIXpSwZl+PgQTNZj6demLpgx1h84b\n",
       "6WYQOmDaGQHDNjpeiPcLhd/pdWSxu65BytiY44EHomGJvQmYiq8j3gRnQM+Usn2s+C3ZgNyAw99G\n",
       "NoPzEveALrO8lBz2NbEp6fHG0vsmYqW2vT7BnjJtGzhLJz8OcZ5HermfrVGzr066LCehK0QlKijT\n",
       "80MwUZ2pZ5e+aMpQd+i53Hd93vDogElnhAzb6Jj68gfrSxtSzfYGKeOdFSzwUDTo8AxvxWEyFxxv\n",
       "yHtREsp2WvFLskG5AYe/i2wm58h3sDDLS8lh3xKblB5vLL1vIlbrcgFUGdRHK4bZtj7K87wb9KbW\n",
       "tubGhK3D9VgFTTkFXSEqqFCYnm2DiepMPbv0RVOHur7Xcm15fJOEMGDKGUHD1jteyA8HCb/Ta46E\n",
       "ojkPhRQDPBQNS5nxFx5zgfEmOIPck8l2RtKXZINyw+/IZnKO5s4rLyGHfUtsUnq8sfS+iVirB31k\n",
       "y9iv47EvMJ0ftoWDbX1x3CExmmakCc/WqNofMZjHloSuEBVUKEzPtsFEdaaeXfqiKUM9oPdH3Jfi\n",
       "9eApOmDSGSHDNjqmu7TwO72OCgG761JIMcBD0VCmeNfZwJKQwHhDs30y2c5I+pJsUG74HdlMztHc\n",
       "OeUl5bBviU1KjzeW3jcR6/UCpn6Pl6skeE9MIvRrmV6ANX2RyuwRJsLv9JqdG40UJ/wUapPM33xJ\n",
       "Tebg/j+ULQD+52QLjc5bJI5bkbleesIQ6B5R0R83q/hfu5kI/VqmF2AlY/fNYf8Wtztb5takL+bw\n",
       "i7r9IOdbUf7JWE0xhDZJ04vRr2V6AVZ7Hyp3NtO/Yplbk24fE/wDnNuHzDVD+A+tterD68qJWAAA\n",
       "AABJRU5ErkJggg==\n",
       "\" style=\"display:inline;vertical-align:middle;\" /></a><br>"
      ],
      "text/plain": [
       "<IPython.core.display.HTML object>"
      ]
     },
     "metadata": {},
     "output_type": "display_data"
    }
   ],
   "source": [
    "double_nested_lambda1_column_major = Lambda(x_11_to_mn__column_major, Mult(\n",
    "    ExprRange(i, Add(ExprRange(j, Mult(i, j, IndexedVar(x, (j, i))), \n",
    "                               one, n)), \n",
    "              one, m)))"
   ]
  },
  {
   "cell_type": "code",
   "execution_count": 102,
   "metadata": {},
   "outputs": [
    {
     "data": {
      "text/html": [
       "<strong id=\"defaults.assumptions\">defaults.assumptions:</strong> <a class=\"ProveItLink\" href=\"__pv_it/exprrange_reductions/5c566e3cd1b843078aead642e9430b5a476615ea0/expr.ipynb\"><img src=\"data:image/png;base64,iVBORw0KGgoAAAANSUhEUgAAAH8AAAAVBAMAAACd/CwcAAAAMFBMVEX///8AAAAAAAAAAAAAAAAA\n",
       "AAAAAAAAAAAAAAAAAAAAAAAAAAAAAAAAAAAAAAAAAAAv3aB7AAAAD3RSTlMAInZUiRDNmWbv3US7\n",
       "qzJazP2FAAAACXBIWXMAAA7EAAAOxAGVKw4bAAABx0lEQVQ4y52UMWgUURCGv729zd3t5cIFAoEQ\n",
       "cC3EJoJFSJsldUI21kK2ESwsLMSVYHGdVTSFjVh4kCIQlCw2QlLkEmyVKBiCzV1xlY1nIBIIZJ23\n",
       "a/V2eQf3YN9b+Gf+mfln3gOajLxS19Ld0Qk+qm2+GJt++tXoa0WPepRa4ITFeIfV2EQwS/kKHkCl\n",
       "VYg3mtS2TATf4A28gFoxXrug8cdE8C6gK0ECForxRpvGtYngJ3R7jLV4AvU7a0vHeRN3kCn9Y2rO\n",
       "6y8XCLIH5RMeyj7+nXXV0spuuk4y/LeXHv4Xz7mM7VSQjRT/kOET51AN2YYDt8ONXi5AZleP32Od\n",
       "Ux3kM5RAwvsWgvWYxUDHK530cJwr7Asq+W4/V1kMFAGLcJrDN/+f9kB513wdr6pK61uqBOV96Wga\n",
       "2D6TWT9CXJ/DZqBpMI/VxG6j5H8tSZa1AH24hXKS2FLiqaUN3IRPKaDaYUXG9ppS+FIb5Z0oajt/\n",
       "5U/kfQWf9QAzUbQhOfv8kkLaOGfanXSTJAnZlRT24TZ8uqkPQZIIvRvj9gzjZgdD7vOMiPnYgJeH\n",
       "PQjP5Dsy4PeG+FtqVu4bDLwhBOPqAlje6E+aKPsPFq91bEart2wAAAAASUVORK5CYII=\n",
       "\" style=\"display:inline;vertical-align:middle;\" /></a><br>"
      ],
      "text/plain": [
       "<IPython.core.display.HTML object>"
      ]
     },
     "metadata": {},
     "output_type": "display_data"
    }
   ],
   "source": [
    "defaults.assumptions = [Equals(n, two), Equals(m, two)]"
   ]
  },
  {
   "cell_type": "code",
   "execution_count": 103,
   "metadata": {},
   "outputs": [
    {
     "data": {
      "text/html": [
       "<a class=\"ProveItLink\" href=\"__pv_it/exprrange_reductions/c2fb0b16847adf773dccfa907eb9489c81fc8bfb0/expr.ipynb\"><img src=\"data:image/png;base64,iVBORw0KGgoAAAANSUhEUgAAAZEAAAAVBAMAAAB1Wc4eAAAAMFBMVEX////MzMxUVFRERES6uroi\n",
       "IiIQEBCYmJhmZmYyMjLu7u52dnaqqqqIiIjc3NwAAACW8nlqAAAAAXRSTlMAQObYZgAAAAlwSFlz\n",
       "AAAOxAAADsQBlSsOGwAAA8NJREFUWMONl01oE0EUx/9JumlM0m0vngQVwS/8ihdv1Z7qSaxioWjB\n",
       "gqIgqFEvehADUprSg6GCiheDguApsSCepLkoiCjxJPgZWgQvioIgLdX4NvOx87HZ3Qf/7M503/vN\n",
       "ezs7MwXQAlOYubG6NLPDxgC5XQLFAvU1mEKtp2l1fYxwOcAlLQ4ogBM5Ngl6xbW6qvxVa3j2zvTP\n",
       "14HEUaWa5ZsD4j67Z4RGUGSSxkHfpneHgCyO6aJyyBK3SgKUrXSU3XLPj6k1mK0yOx4B96eX/fYi\n",
       "cr/9p0v0c5dLBGUgt4D5oe4gi2O6aByy/oYAZYpM+KLG+GIG7C3xm/38OuW9eCWTncApNTxwmYsb\n",
       "ByVbSE90B1kc00XjkB2sClAaTBGZ4Ay/vubXCSOT81XsainhKWqViRsHpZeR/BcCMjmmi8YheyJB\n",
       "L6n1MkYmt3VCvmJkshHYNaCEp4lSZOLGQckRJH+FgAyO5aJxyO5I0Ay1ZkIzWXj2nX7ndEKmbmRC\n",
       "dlzezX7aDuTWM3GTIDg/g0G5TxcsToCLwnG3vV2RoNuiDt0y6TmHfdS6ohM6xdYzSfyVX+lStdZC\n",
       "L702T0qxWcHXNQNB7jiuW5wAF5+D4VZqGQI0Th3jYZk8LGKSLi90gtOwMnFk/fPLSDeRp08p73/c\n",
       "EoTDwSCnjrMWJ8DF52RPI1OBAJ2knpN+zFoFRuMGcMyritcxOTp6anTUC5sekplkl1jc67JB4fvr\n",
       "SNCM8MQfkKBMoQuoc2twAlwUzk8vfQEyMnFKMBonkPUW8GG9VkomGGPr53rZoPAHG+ihUvVMyAck\n",
       "6CK6gWBzbBeFky6gNgQBippd2b/o9Qr7PGp2vYLb8rcTKnCeNnpPxuyiw8GPLiDYHNtF4dSauAYI\n",
       "0CDdDoZlsoJk5Q1wSSekmkYmiTr6hFP/AM1g9BaYuAnQGuB94HfyhyprcSwXlVNrYGu+JUBzYoWd\n",
       "V/cbpTGI56WSWA0lobO85pQt7mu5PCnuk8VUiS3UncWaGQe5Y+XySCCI5v9ji2O5qJxUMz+WkaDV\n",
       "3jGOtOH8rL+LqY37H9buoK3oiE5IUOjkpqXN/iLfbi/J97jNO8s4Q0zirMjktNvtSiAo9/Rq1eJY\n",
       "Lhpnx+OFtxLk0CidAUSZO2IQDkW6fOUSi2cskMWJMTYO8o5s8tjW3TJF42R3OdJliks5G0aDLE6M\n",
       "sQnQXq5wWzQ7UpH/ZhaYpMUCWZxoFwl6wBVuVrxsIcLDS1VLNxbIHnekiwS5TaZQ67PfwPcIl89c\n",
       "fu1igAI4kWPjoP/qh3wzSd88agAAAABJRU5ErkJggg==\n",
       "\" style=\"display:inline;vertical-align:middle;\" /></a>"
      ],
      "text/plain": [
       "((1 * 1 * a) + (1 * 2 * b)) * ((2 * 1 * c) + (2 * 2 * d))"
      ]
     },
     "metadata": {},
     "output_type": "display_data"
    }
   ],
   "source": [
    "requirements = []\n",
    "double_nested_lambda1_column_major.apply(*abcd.entries, requirements=requirements)"
   ]
  },
  {
   "cell_type": "markdown",
   "metadata": {},
   "source": [
    "If the ordering is not consistent, such as using row-major order for the parameters but column-major order in the body of the lambda expression, an error will occur."
   ]
  },
  {
   "cell_type": "code",
   "execution_count": 104,
   "metadata": {},
   "outputs": [
    {
     "data": {
      "text/html": [
       "<strong id=\"double_nested_lambda1_mixed_order\">double_nested_lambda1_mixed_order:</strong> <a class=\"ProveItLink\" href=\"__pv_it/exprrange_reductions/66194235a765471c330729ac60eb1f9e66c0e5870/expr.ipynb\"><img src=\"data:image/png;base64,iVBORw0KGgoAAAANSUhEUgAAB+0AAAAXCAMAAAD5oS1BAAAANlBMVEX///8WFhYNDQ3MzMxUVFRE\n",
       "RES6uroiIiIQEBCYmJhmZmYyMjLu7u52dnaqqqqIiIjc3NwAAACzeusSAAAAAXRSTlMAQObYZgAA\n",
       "AAlwSFlzAAAOxAAADsQBlSsOGwAACr9JREFUeNrtXduiq6oOdW/vd/v/P3vUTqpAQgKEas+Wh8Xs\n",
       "MjIGGUnw1ppla1uypz1NpC0hxkvIzvKkljv45AbjciV5ZPtJ2a4Y6/Zi/7703No6T88q9TSZVs18\n",
       "WxV3Zn8RqYvhvVvStFWcHdwf2X5SttDsvEXhuBWZe0lPRILqp/FZpJ4mFtEt11LFndnn9QDvgG4Q\n",
       "IUXAL13Xl3lqn3g00l0yOqLcddlc7glmyJcNhb+pbDG04mQLzU6yxcahT45S57XR3k2asd8txHo/\n",
       "9M8S9TS51jOTXsWd3g9F17+gEdANQqQI+KVc/xlfVVqfeDSCr5yOCHddNtw9UQy5sqHwN5UtjlaM\n",
       "bH482auDRBxyxaYXewHvJpP++4VY67s2e9rTxFrb8exU3Jl9NmNlYw6vJxapqkXoICjFft+raWTg\n",
       "K++c8+UrpyOipy6b0z3hDLmyofCysvnr5ss3uWzcZmUlfS4ZG4ceOepuEt5NJv33C7HWN9nTnibY\n",
       "GjjrZ+MRlQbpk6z2FqnJvDNHwDf7/xavRQR+8r4v6MtXUEdYT102p3siGDJlQ+FlZfPXzZdvctnY\n",
       "o5hhln6198hRYhwJ76aS/oJCfOqn50L+00Rb/zmG1RJm0o+WVdyZfaLVvm/duUjBF/X+7ysXgY9f\n",
       "7RnuktKxh85JDNmc7olgyJQNhZeVLb7kc9yVUjY2bysrv7Da83OUOLeX8G4q6S8oxKe++3t0YJjn\n",
       "YsjHkfHYoIcpr3kN6GN8LdML0BLx8xp2LNRftfb/+icVd2YfsNpz2B2k4FxkwG9TeAX6xoCPX+0p\n",
       "vtVKahnncg6XU3E2XYfIhrgH96isbDg8skECPkI2hJZLNwHZuM2Q92C1wpeVtMp+YnPIxORqWulJ\n",
       "9gKZi0TC2quFfz3zmos562pGKPBNmbHlM6CP8bVML0BLxM9r2LaH1/epJA48Q1d7Dru2d+ciAz7L\n",
       "8tcc6BsDPn61p/iOWbmSygbwciZPTsW57ZlnkKB7cI/KyobDIxsk4CNkQ2i5dBOQLfC08MOqXZen\n",
       "qZFW2U9sDpmYXE0rPcleIHORSFj7+n2Y0K5jt6teBX39x8OU17wG9DG+lukFaIn4+Q17hLARk3N5\n",
       "qgd/cWf1/qs9i52ZV2YuMuBXoyLUNwZ8/GpP8K2qrN4OrhbociZTTsUZLKi2bLB7cI8Ky4bDwxtE\n",
       "4CNkg2m5dJOQjdt0eQ9W23Tal7TKXmKzyMTkalLpSfYSmYtEwto374sJ29CdOpwZzgc2g3mUg5oO\n",
       "41gUATdvcGzCWAe090RtJZiGjhHoF/C6jlMaaIcwziQR46ha/fXvP7XWXqdvxfzFndXrZWN49XA9\n",
       "OW1ghe5BqtupNM3eFSYdB3zWlcAGXjx+4GF053WVEL7D+udmMX02Yg7DQ0pxPlx3GsOWDXYP7lFW\n",
       "GeHLhsPDG1i1gYKPkA2m5dLNIRvEGZTN1c5murw6q4MDIzt9ajtPbBYZ31z1JxMoPcnejgBeCDim\n",
       "cOpP8df8HY3k83yclWkf3KbdPtOwlQ0ckDLWAJE9QVsJpjFj+KOBajqlQS6rhXJu2Me2FXZuX/Wn\n",
       "21S81T6rO+Tsoe7I8Dl/qIhDdQZ8e850DZ6Ox0r63J7kO+0pXvSEwxwhpTifuB9j2LLh7sF1I8sI\n",
       "XzYUHudF14ZK+gSP5uvWDZEN4gzK5j6h79DsfLN6LzTN6Jmd3NrOFZtBxjNXA8gES0+ytyKAFQKO\n",
       "KZz649pStd0pGHbJprMbJtsnsOl2TLKEPQmJYbuNDUBoT9hWgmnEGEF+ASOq9tsjnDNBBCals8u1\n",
       "X6yQu5LPCl3TU/5X8vdfwlqWsHg04JNfyVfV4tVmg5+ctsvAhLRkw92D60aXEbZsKLyDF10bKPhw\n",
       "2VBaTt0w2SDOU8yZiCnvm1U9/nEY4lVmVDPMeTQZ/1z1JhMsPck+NHPRKZz697N/Q1llxXYIMGZo\n",
       "yfxDwE3b4eNAFht6wK5djwc71PgEqO1J2h4ffIi6BrSZBjcYbQcosrk9/ySkSxpoD795s4mcZ79+\n",
       "KuHVvteyTz1zavbeqz0ndM+k4Fwk4fN9+HlwoWPxaMHHr/Yk3/20YbscODodpksHusx0HSgb4h6c\n",
       "IauMsGVD4bENnNpAwwfLhrsL1c0lG8QZlI3bTHl3Vu9LzOtitLQCKtt1hCs2ScY7VwPIBEtPsg/L\n",
       "XMcUTv378fzplQ/dOk41oSVT3T1wma486rOt6w96wKGtmtUZzYIbK0B97WPY/n2w2bj+QAeEmLqm\n",
       "7I2mAIrtmUyWNMge5rwliJxnn52/ZaR9v8T4vj3w9RC1BftZDHgDI3Qz46tPQC5S8Evdba0m0MF4\n",
       "tOENdFekhPLdC9ncZ23uomxIB7qsg37e25ANcw/OkFNG2LKh8OgGRm2g4V2pHsbXoZtbNpszJJur\n",
       "Ejnl3Vm9nykrx2yMVxmqI1yxKTLeuRpAJlx6kn1Q5rqmcOrz9/LczfNaj9spw0tm/X7tgcv082qE\n",
       "Wr0i4XPLwf6DHHAZ5s2B72NG2Fh7F8NnT4at+vAh6mKqjNABIabwlLswNAWQ62HokAbZw5q3ABFt\n",
       "9utu8FdgRz148xrui6J59dAzp9gGTujapMxcpODr1956Ah2ORwveusrniJQwvtU7rYt2cjrMkA50\n",
       "GainIRvmHpwhq4xwZUPh0Q2c2kDDu6pbEF+Hbm7ZbM6gbK5K5JD3zep9Ill18xKvMlRHmGKTZLxz\n",
       "NYRMqPQk+7DMdU3h3Nc5cdPi82EaqPsby+c7VhPnUjE54PbFQ/WMwQS/rGSA9qRtPx/CiWoDkkx9\n",
       "rgGBP+a2AuRNpn+JxykNuIfXvNlEzrNfmPcLVdyZfWSDQ9ciZV2Yk4FH4nGJvQmYiq8uHegyRM+U\n",
       "sn28+C3ZkNpAw99GNovzEvcAsbC8SG3X6sjXxEbKtyeZy6RHQgCdgtZDr0+AS+ZICbh0n2cjWC/3\n",
       "IwdstkOVbv/iAWh8AtT2JG2PD+FEtQEppj4N3H8DmMvtQk+W86SB9vCbN5vIefbclz+AL21Itdpb\n",
       "pKx3VojAY/Fowgu8FUfIXZp0oMsQPRPKdnjxS7JhtYGGv4tsNufId7AIy4vUdq2OfEtsrHx7krlM\n",
       "eiQE0Cnofbkgqgz6oxXDjAu4my5lnufdgNuaFybIAV/7IdGUI8YK0CBK2x5Mw4nqAxJMfRqM9vo7\n",
       "fGvL7csjDGmgPfzmzSZynv3CfjhIxZ3ZSxQUwz8cUgLwWDwuZSbfZNx1SIe4DOWeTLYjSL8kG1Yb\n",
       "fkc2m3M0d1l5kdp+1JHviY2Wb18yF0mPhQA2BaMfzJktY/8a9+sC0/FhPXCAIM+mzX67JMNsrUYO\n",
       "WG3PG8xjixkrQIMobXswDSaqD0gx9Wng/jvA9lT7UmzPmjKkgfbwmzebyHn2/JBWcWf2USkAhy6H\n",
       "lAA8Fo9linedDSIF6ZAOcRnKPZlsR5B+STasNvyObDbnaO6S8qK1/agj3xMbLd++ZC6SHgkBdApm\n",
       "v6Cl3+PlKuLviZlSGV/L9DrQ6RtEZo80UXFn9uK0eKQk4adQn2T+7kvqMgf3/0PZAuB/TrbQ7Exc\n",
       "vC4QO5bM9dIzpsCPiIr/uFkl/RuyXgP6GF/L9DrQRDQvmf3dad3UKfcnfTGHX9TtBznfivJP5mqK\n",
       "KbRJTBMM2Ga/wvQ60PYuRG7qn/+AU+5Pun1c8B/g3D5krpnC/wCpiOrDxOf9VQAAAABJRU5ErkJg\n",
       "gg==\n",
       "\" style=\"display:inline;vertical-align:middle;\" /></a><br>"
      ],
      "text/plain": [
       "<IPython.core.display.HTML object>"
      ]
     },
     "metadata": {},
     "output_type": "display_data"
    }
   ],
   "source": [
    "double_nested_lambda1_mixed_order = Lambda(x_11_to_mn, Mult(\n",
    "    ExprRange(i, Add(ExprRange(j, Mult(i, j, IndexedVar(x, (j, i))), \n",
    "                               one, n)), \n",
    "              one, m)))"
   ]
  },
  {
   "cell_type": "code",
   "execution_count": 105,
   "metadata": {},
   "outputs": [
    {
     "name": "stdout",
     "output_type": "stream",
     "text": [
      "Expected error: Failure to apply (x_{1, 1}, x_{1, 2}, ..., x_{1, n}, x_{2, 1}, x_{2, 2}, ..., x_{2, n}, ......, x_{m, 1}, x_{m, 2}, ..., x_{m, n}) -> (((1 * 1 * x_{1, 1}) +  (1 * 2 * x_{2, 1}) +  ... +  (1 * n * x_{n, 1})) *  ((2 * 1 * x_{1, 2}) +  (2 * 2 * x_{2, 2}) +  ... +  (2 * n * x_{n, 2})) *  ... *  ((m * 1 * x_{1, m}) +  (m * 2 * x_{2, m}) +  ... +  (m * n * x_{n, m}))) to (a, b, c, d) assuming {n = 2, m = 2}:\n",
      "Improper replacement: Improper replacement of ((1 * 1 * x_{1, 1}) +  (1 * 2 * x_{2, 1}) +  ... +  (1 * n * x_{n, 1})), ((2 * 1 * x_{1, 2}) +  (2 * 2 * x_{2, 2}) +  ... +  (2 * n * x_{n, 2})), ..., ((m * 1 * x_{1, m}) +  (m * 2 * x_{2, m}) +  ... +  (m * n * x_{n, m})) via {(x_{1, 1}, x_{1, 2}, ..., x_{1, n}, x_{2, 1}, x_{2, 2}, ..., x_{2, n}, ......, x_{m, 1}, x_{m, 2}, ..., x_{m, n}): (a, b, c, d), x: {(x_{1, 1}, x_{1, 2}, ..., x_{1, n}, x_{2, 1}, x_{2, 2}, ..., x_{2, n}, ......, x_{m, 1}, x_{m, 2}, ..., x_{m, n})}}:\n",
      "Failure to expand ((1 * 1 * x_{1, 1}) +  (1 * 2 * x_{2, 1}) +  ... +  (1 * n * x_{n, 1})), ((2 * 1 * x_{1, 2}) +  (2 * 2 * x_{2, 2}) +  ... +  (2 * n * x_{n, 2})), ..., ((m * 1 * x_{1, m}) +  (m * 2 * x_{2, m}) +  ... +  (m * n * x_{n, m})) because there is no explicit expansion for (x_{1, 1}, x_{2, 1}, ..., x_{n, 1}, x_{1, 2}, x_{2, 2}, ..., x_{n, 2}, ......, x_{1, m}, x_{2, m}, ..., x_{n, m}).  The known expansions for this variable are {(x_{1, 1}, x_{1, 2}, ..., x_{1, n}, x_{2, 1}, x_{2, 2}, ..., x_{2, n}, ......, x_{m, 1}, x_{m, 2}, ..., x_{m, n}): (a, b, c, d)}.\n",
      "(Note that multiple, equivalent expansion forms may be provided to fulfill this requirement and ExprTuple.align_ranges may be useful). \n"
     ]
    }
   ],
   "source": [
    "try:\n",
    "    requirements = []\n",
    "    double_nested_lambda1_mixed_order.apply(*abcd.entries, requirements=requirements)\n",
    "    assert False, \"Expected an LambdaApplicationError error.\"\n",
    "except LambdaApplicationError as e:\n",
    "    print(\"Expected error:\", e)"
   ]
  },
  {
   "cell_type": "markdown",
   "metadata": {},
   "source": [
    "## Singular and empty range reductions\n",
    "\n",
    "When the length of an **ExprRange** is known to be empty or singular, in the process of performing a lambda application, the **ExprRange** will be eliminated appropriately within the **ExprTuple** in which it is contained.  \n",
    "\n",
    "UPDATE: Obvious singular `ExprRange`s (where the start and end indices are the same expression) will be reduced at the time of `ExprRange` expansion.  Otherwise, it requires a separate simplification step (which can happen via auto-simplification during an instantiation).\n",
    "For example,"
   ]
  },
  {
   "cell_type": "code",
   "execution_count": 106,
   "metadata": {},
   "outputs": [
    {
     "data": {
      "text/html": [
       "<strong id=\"tuple_with_range_lambda\">tuple_with_range_lambda:</strong> <a class=\"ProveItLink\" href=\"__pv_it/exprrange_reductions/93204dadd073250ca5a73b7113bd7f2e63098be20/expr.ipynb\"><img src=\"data:image/png;base64,iVBORw0KGgoAAAANSUhEUgAAAYYAAAAVCAMAAAB127mOAAAANlBMVEX///8WFhYNDQ1mZmYQEBCY\n",
       "mJgyMjKqqqrMzMwiIiJERER2dnbc3Nzu7u5UVFSIiIi6uroAAAAfo8skAAAAAXRSTlMAQObYZgAA\n",
       "AAlwSFlzAAAOxAAADsQBlSsOGwAAA3FJREFUaN7FWeu6oyAMdBcEucP7v+wqoNwRqn7rj572ZDqZ\n",
       "JAIxXZb5i7+O5ct/gH0Z9zfQ5FL4daxWbzoeY/s07gkJP6rFbB67EVEHnAa1jpJxABDdqrfVZRlh\n",
       "+zTuKQk/qRVoFiskQKZWhtiAxBgZp/sLM7pShchyz/Zp3JMSflEL2rXTawurTMPTZVjBHZsjk3Yr\n",
       "hbCkii0Fm56949qxDF4TEsrYK4nKjhDYWbb5LgeX4TIsUNywOTJovyBNebAllpwNz27A7VhGrwkJ\n",
       "sJqd5J84LRVG49IDdqAMaO2zeTJJ7KspT4fEkrM9LgNGs2WYkHBAtZKCM0UDiiSY9BM4DyoumeKq\n",
       "6+jCjpSByX4iQHxCEtOKyFtytsdl8O7LZMUtT2K7l8CUWrcTyhYqd4QI6zxNPKa1Gmu4w2ma3dxR\n",
       "uB8GyrCifiLim2szrayelpztcRm8+zJZUVZT250ETvYGGFAP1Xohx3se1jnJUkWjHBLXPAt4yAKk\n",
       "64jgiTJg2E8Eibp2IpuLQdbZHpfBua8kKyyGzHYngRzrCyoPFXv5jiYPh0z9/UOSy0T9IXRvgbmY\n",
       "7EeLg9D+kRk2K4MwqFaGLewzVbZA5m+hkiyyBLa6tF4r2ImlTFYQkNtuJIAoJRaKLV6ixmmwaBR1\n",
       "6T4bkFoJut/bVMuwEFArg75ZDYFsjZMZk0UW/fZqON2XyQoCUtuNBBjt9RbqvmfWq0NKy7AlTxdu\n",
       "cQq7Ba9meXFTIoObkn2a5bz1nOssOdtLm1IlWXGvltj6EkR8vFkoZH4psWoZUBKx6wOEwc4t5h3p\n",
       "oZ8YOaJpPxEn2WZVqgpfbMnZHpfhdF8kK77BE9uNBOPOfH1C3ZGi0LKex47uPDf4NuxQhff1CHrS\n",
       "Q8vGTGOOGAyA9RPhyTgBx0Uqw4zYkrNlZNeOXr7px1ImKxKQ2m4kuGOMXVBN3HxnrQ8Q2ZbN4vw4\n",
       "SLGNS7X1pHvsIiU0SFae5WMD0f0yeLK9XzguVHtiiCw5W7HHgOabbiy9ZGW2OwmMratf1ERPz5TI\n",
       "Nj4A6GDLe/l2dx4nK9meDzNm3E9K4GR+tNeZQxXDq5GZVXNylrNNkJVsz0d7M+4nJYBfJt2Uf4Dl\n",
       "9E3HI2yfxj0l4Te1gn6AHYlx3DH94mdQQT8q2o9quXodq/ibjtU3P0bPxD0hwUL/AWNdLFzXJfhE\n",
       "AAAAAElFTkSuQmCC\n",
       "\" style=\"display:inline;vertical-align:middle;\" /></a><br>"
      ],
      "text/plain": [
       "<IPython.core.display.HTML object>"
      ]
     },
     "metadata": {},
     "output_type": "display_data"
    }
   ],
   "source": [
    "tuple_with_range_lambda = Lambda(n, Add(a, ExprRange(i, Mult(i, i), one, n), c))"
   ]
  },
  {
   "cell_type": "markdown",
   "metadata": {},
   "source": [
    "Applying this lambda to set $n : 0$ will eliminate this **ExprRange**, leaving just the $a$ and $c$ terms in this sum."
   ]
  },
  {
   "cell_type": "code",
   "execution_count": 107,
   "metadata": {},
   "outputs": [
    {
     "data": {
      "text/html": [
       "<strong id=\"tuple_with_empty_range\">tuple_with_empty_range:</strong> <a class=\"ProveItLink\" href=\"__pv_it/exprrange_reductions/132172b37582f5eb5b74b0e0716ef2e82756d48d0/expr.ipynb\"><img src=\"data:image/png;base64,iVBORw0KGgoAAAANSUhEUgAAAUcAAAAVBAMAAAAnVjEQAAAAMFBMVEX////MzMwyMjKqqqoiIiJm\n",
       "ZmaYmJju7u5EREQQEBC6urqIiIh2dnZUVFTc3NwAAAAqL9KcAAAAAXRSTlMAQObYZgAAAAlwSFlz\n",
       "AAAOxAAADsQBlSsOGwAAA0hJREFUSMetlk1oE0EUx//p7maT5qN76FFoQFAv4iJeRKGRbhDFj1Ka\n",
       "4qFIECt6kAZR0IMk3gRRIohSL81JKB6MiO3JGm9CK62igvjRHCoURK0tGrClcXayu9ndmS1T7CPZ\n",
       "ZGbfm99/37ydGYBnSaEu1IS6Ak2QEmRP2K72CtMV01m3h5tOCTKpCoQOujo688A447Yf+Np3rZWF\n",
       "7A4NsdyGKNNPW6mPT53kUYLsAnC1r+401Xe7iMi2vM9LTSFZxEzZbi8g/hfYvhFKm64ec9pbcbHG\n",
       "Uphc21kYMOey7rrznISGe63GA+tXySFRQ7RkO30BRoAh/2DrUU4DL+3+cBrxIkth8m8XRIknEves\n",
       "xj7rN0o+dSTWbKfRPOaI6LxvsPUoN4FuO3WRWUh1lhIULqW4Irf5wncDiTQSv2ynt8CchracoEiT\n",
       "8hvost++jl6EllmKVe+fJivecKXKFfnKFz5Ir/Kiy+84Kf9ZQZGEopoi7dkvEJF/WAqmxjVgrBap\n",
       "e8NpMliRp3zhzWfucokJrZDSSgmKJJTkqiv+Z5XG+ynzulKEehdK2hsu61yRe33hPfR61OUmkyxK\n",
       "JUGRhEJFVl0iV1nKEUQrUBYhm36KYRy6YxjmZEXLjkh1qSWyy/zXbxgjhkGV3aeTVqRT1UzfCTOb\n",
       "i97BvOalqETUo4pFKVTRvsJQFCojWkSh7H1Gl0hkWiLHfM9IRZ5vZoUuHGGT3S6aSZNCarJbtyjk\n",
       "xZGWGUq0mYQKhiE03Xs40012jR+uHShZg5QWn25cB4adJYgsknWGUqDeBR1vpJonPFLhijzrE3mD\n",
       "fLcAE85rU0Usj3BRUKRJOQf0OYt5CUqKoXSQl7hMfKWM4g2nq0h8zTXwTM1ZcloiyWKRzGSzadtp\n",
       "Ppvtt9Yv12BmudKas8rbQ5F19bYD6cEVjaGQmo9rUD+++P7YGx4i3MSHpfdO+OfRneSBDvtEdhJI\n",
       "o9FIOYtko0F0yL4Cp+WaaZW3h6IOPtMcyqWp12Ap02cm+BvWAe7pL+0LlzWe2zxEt0UxSuDWP8S7\n",
       "q+R8W79zFvDYgPABQ4wSaBHe+XqB6bnFy0RR+KgmSAkylUdiJV0WJf8XJdC+sV0xlp7klN0kNptC\n",
       "7B/O5P7S+frqkgAAAABJRU5ErkJggg==\n",
       "\" style=\"display:inline;vertical-align:middle;\" /></a><br>"
      ],
      "text/plain": [
       "<IPython.core.display.HTML object>"
      ]
     },
     "metadata": {},
     "output_type": "display_data"
    }
   ],
   "source": [
    "requirements = []\n",
    "tuple_with_empty_range = tuple_with_range_lambda.apply(\n",
    "    zero, requirements=requirements)"
   ]
  },
  {
   "cell_type": "code",
   "execution_count": 108,
   "metadata": {},
   "outputs": [
    {
     "data": {
      "text/html": [
       "<a class=\"ProveItLink\" href=\"../packages/proveit/numbers/addition/__pv_it/axioms/1a4193f1deeaf7a4a6b6289328d46189ae6a257f0/expr.ipynb\"><img src=\"data:image/png;base64,iVBORw0KGgoAAAANSUhEUgAAAAwAAAAVBAMAAACAghKHAAAAMFBMVEX////MzMxUVFRERES6uroi\n",
       "IiIQEBCYmJhmZmYyMjLu7u52dnaqqqqIiIjc3NwAAACW8nlqAAAAAXRSTlMAQObYZgAAAAlwSFlz\n",
       "AAAOxAAADsQBlSsOGwAAAHNJREFUCNdjYGB4wMcABLwHWC4AqdMMDNcZGLgmMDBwLmDgKGBgYG9g\n",
       "YAPJZzGcBFHTGbpB1CYgAwgqGWJA1DGGFBAlD6HcIIJHGWxBVDFQLRB0M4iCqBAGVgEGBr4AkLFg\n",
       "4+0YGB4DxReDWQx8F3gfMAAAcpEVlky+VaAAAAAASUVORK5CYII=\n",
       "\" style=\"display:inline;vertical-align:middle;\" /></a>"
      ],
      "text/plain": [
       "()"
      ]
     },
     "metadata": {},
     "output_type": "display_data"
    }
   ],
   "source": [
    "requirements"
   ]
  },
  {
   "cell_type": "code",
   "execution_count": 109,
   "metadata": {},
   "outputs": [
    {
     "data": {
      "text/html": [
       "<span style=\"font-size:20px;\"> <a class=\"ProveItLink\" href=\"__pv_it/exprrange_reductions/b66c72ba4d175658b231996ff23f99f6a5cac6b40/proof.ipynb\" style=\"text-decoration: none\">&nbsp;&#x22A2;&nbsp;&nbsp;</a><a class=\"ProveItLink\" href=\"__pv_it/exprrange_reductions/ac950033b85c52ae0eaca56d0d3b086334fb3eb80/expr.ipynb\"><img src=\"data:image/png;base64,iVBORw0KGgoAAAANSUhEUgAAAawAAAAVBAMAAADoVMeWAAAAMFBMVEX////MzMxUVFRERES6uroi\n",
       "IiIQEBCYmJhmZmYyMjLu7u52dnaqqqqIiIjc3NwAAACW8nlqAAAAAXRSTlMAQObYZgAAAAlwSFlz\n",
       "AAAOxAAADsQBlSsOGwAAA7xJREFUWMOlV89rE0EY/UJ+NtnEXHpuFARFtPkHWnpqT0IUIz0EWrBW\n",
       "KEgrXupBDJTSQkGLHgIiGCiKnpL24qnYS4VShHjqRWuw9Cj2IEh/UefHzs58s9/KgHNIeG/fzvve\n",
       "7MzsLAB0gWoEW3CiIvqD/3CJIKOMhDi/QV2i2EQnRH0lbr3unsrRhSbpwpV4m7zE2d6mQXCwY6u8\n",
       "NhQWXxT1OHGQn3GOxVxy6081FmCHUu7QJdKNibPL1AXGZi+91rEk6GlasvcAe5D7HWAJXrqm4t6v\n",
       "4I2eTAKEXHgLk3ThSpxBYzvi/wv2u9kVB+m6JVsAuAYwGYgkmFWTIeqxGS7pCuTKipcg5CIu1e1O\n",
       "cOHIi4lTSPvZ/08BFQumLNk4wHQT+oPhliDl3+d1ImIZLvESeEeK94HtItqU3QkuHHtNwRZpuEXH\n",
       "amCZx+bBRYD+YHFJ0DPjGIu5nKtD7ETxPmhQsRp2J1v/iNWAJb7Sr+x2cE9LdKw1bJhpi78xs0cG\n",
       "ciXHWMylxZL8UbwPLBfIfXugyaDhwgMvX8xHYbgbP8I9NehYj7ChfCyxU0PGQXrZMRZz+dU27veB\n",
       "5VKowZxPZqqilVSJunDlpcQ1tqfcg0wFG9boWJ+wYVK8OZIlQ8aBN+4YqyaTHJuxjsMubbivyaDh\n",
       "wpWXEk+wMTjgCGC+Wp2sVm/yqxM6VmtZx+oDJEsNcTwntttD2S0HsQM5sLfv+gOLGnZptSFxqlx8\n",
       "YLk8E2X02f0YhRteSsyupsrQGsLjaMRK1nWsYTyOIlZaVj4qt1YOEq5Pa0LsEt6JcvGB5XJH/A4T\n",
       "sYzClZcSs2fZ6sATcJqEm8Qk3IZC13jzM+BV3CdhnL2n9AYvAXbJyqW3aa8tXLjvFYgH2NUNuOx1\n",
       "keEAHeshrivO+oq1IR/oJEiXHWMxl/Q4ZILjgg8sF7Y3JjQZNFy48lLiNV6dN5rBhmI7/WgekQVY\n",
       "woZ8J99fXJwPRBL4+35gxdeNWHv+MkUuNXhbNLYBDiwXtlxXNRk0XLjyUuJeZnl19ccXbMhYuDD9\n",
       "XJ9IJLiFDWNsto2dnR3ql5YASWu+i3Uzqpcpcnm3fl6XKoHlkvvwuKlJffZGhSsvJU4WqemB2eCA\n",
       "XrFkN8g5tg+Ok9DRBZH6VVKMPGUwMT5DjkSeLNHpUslmyaoXXI+6ji7hg234ZuTFxYOkM8nu2USc\n",
       "+kAtlJ2/t9xcIsjByG65eIW8suJURZZKEHf/6l9xzjroeHMgLpArgGLz4Xp/Erfuun/0O7rQZCFq\n",
       "6TLxX1cOcOqMrKmpAAAAAElFTkSuQmCC\n",
       "\" style=\"display:inline;vertical-align:middle;\" /></a></span>"
      ],
      "text/plain": [
       "|- (a+ (1 * 1) +  (2 * 2) +  ... +  (0 * 0) + c) = (a + c)"
      ]
     },
     "metadata": {},
     "output_type": "display_data"
    }
   ],
   "source": [
    "tuple_with_empty_range.simplification()"
   ]
  },
  {
   "cell_type": "markdown",
   "metadata": {},
   "source": [
    "This reduction works as long as it is known that the `end_index + 1 = start index`."
   ]
  },
  {
   "cell_type": "code",
   "execution_count": 110,
   "metadata": {},
   "outputs": [
    {
     "data": {
      "text/html": [
       "<strong id=\"tuple_with_ij_range_lambda\">tuple_with_ij_range_lambda:</strong> <a class=\"ProveItLink\" href=\"__pv_it/exprrange_reductions/ec0fe39fdd935842f2fda9cfc25814462e0a00900/expr.ipynb\"><img src=\"data:image/png;base64,iVBORw0KGgoAAAANSUhEUgAAAdkAAAAVCAMAAAA9xGRLAAAANlBMVEX///8AAAAAAAAAAAAAAAAA\n",
       "AAAAAAAAAAAAAAAAAAAAAAAAAAAAAAAAAAAAAAAAAAAAAAAAAABHL6OuAAAAEXRSTlMAMrsQds2r\n",
       "me9mIlTdiUTz6fjtiKsAAAAJcEhZcwAADsQAAA7EAZUrDhsAAAPjSURBVGjetVrXgqwqEFQkSNBz\n",
       "/f+fvUaCQgfH9WV3oKwuuqRBZrqOe7kPsY5H4z7T+Y7JdX9zuY/z/k6n9B9iZ8mh4YSGuV8y0eT+\n",
       "UUoZwQtoLwbSTX6iK76w0lTHs7VKS6eB6bKhhGMobe7XTBS57CultGnC3sEInkOlIt0yKLriiA3V\n",
       "p+FoVQOVBqG70Nqo5eRscf/ApIbPjc1S2jTh6GAE5+s07edmtnRsuqyh0rToHjfIyw9reIMgMOFy\n",
       "0Ur5Kk3c4Nag0/q2GI9AUbmvAyNJ7jgQaUZq3OjHg/sDJlQuWnvfpYkbvDb0osmX3ntFl+xphVtZ\n",
       "Gk2TDvBDVZ/pn5gwuWxnPWN9YwQ/oYOUOq1/5WpYVo5rYXJ6kk6CYU7sIGvlJrVOuqPQtOkAP+7c\n",
       "HzBhctnOxpQWJpS5ujrw4JOUts+g68Qcbd1LL2oPzTyuVVosAxTmxE4r+Kk2tVoFq71CNukAP6wC\n",
       "Hud3TJhctrNxHhYmFN7HDiy4C+v7kxEJui2mi68728l8Jx4O1LBHMgEMc2B735lnfrNWj6T3DNmm\n",
       "A/zw1TXsJyZMLtvZa3ylCbetztmB5mqb/6NM0FW+T/Pv33+huJZlTuvy8a9ZincGs+PGcf+jS+xw\n",
       "hdo/LCqu5Vdrv3QEmipd/YbMj8QdI//KhMmF3ivA8RUm5HKzDiS4yYpohGbz7zZnZzV3d2dHsUef\n",
       "wQfokpw9NF2IG7LYipXE0tmSDptpGXeK/BvT/PWcHefM+prcrAMJPmYrZ4Rm7+yls33xznuUjmHZ\n",
       "GO1CKzNKd5UdeGz1gVONK3RQDQ3tavySCZP7uhpDBydXBxz8sOWm02Xzr7xbFS+0Qh4UmxqtOu8A\n",
       "yQd2n9pPxanVCnjkJ02bDtr3iFqefmLC5LKdFfGzuxXB7tGBBF+OfdacQ/P5NwPvs+deelPj14Jh\n",
       "IMkndi347rnlS61mgkc+aYTukdtpcfc3CpowChMsN62PaUuxKNL4nkWwe3QguTp2xVOfQ7VokB6w\n",
       "ZEg4j1Tl1Dste0jyie20re3lY2uYYWcvmibd7Qatx0VpW+X+gAmRm9bH+F8wpPEBJsQOLFfTZK0c\n",
       "CuhIrSmhpx+bAdj8FYxK06Jr10MXeIMgMOFy2aeLUU3ThKuDEXyHar9Od+pXA8BJ8+N4Gj+Vrp2H\n",
       "N2ladO1j8dZZ+w9MuFzsqo+vaULewQi+Qft1OxToX0QLxvf1BKwTdBrB/KlAm/s1E0Uu+1rVNE3I\n",
       "OxjBD6iRZqbLGMSnWEqOL5pBsDP2wSAKJvEXv5fZ1DRNyDoYwV/pdPJDrHQcGsda0yDul0zyb34I\n",
       "RVPDCL5D/wd9aSsru2duZQAAAABJRU5ErkJggg==\n",
       "\" style=\"display:inline;vertical-align:middle;\" /></a><br>"
      ],
      "text/plain": [
       "<IPython.core.display.HTML object>"
      ]
     },
     "metadata": {},
     "output_type": "display_data"
    }
   ],
   "source": [
    "tuple_with_ij_range_lambda = Lambda(j, Add(a, ExprRange(b, Mult(b, b), i, j), c))"
   ]
  },
  {
   "cell_type": "code",
   "execution_count": 111,
   "metadata": {},
   "outputs": [
    {
     "data": {
      "text/html": [
       "<span style=\"font-size:20px;\"><a class=\"ProveItLink\" href=\"../packages/proveit/numbers/addition/__pv_it/theorems/10cfe086dee5530e9b3b60486d89c6cb824c41920/expr.ipynb\"><img src=\"data:image/png;base64,iVBORw0KGgoAAAANSUhEUgAAAC8AAAAQBAMAAAB0JTvnAAAAMFBMVEX///9ERETc3NxUVFQyMjKq\n",
       "qqrMzMwQEBC6urqYmJju7u52dnYiIiJmZmaIiIgAAACrFvqoAAAAAXRSTlMAQObYZgAAAAlwSFlz\n",
       "AAAOxAAADsQBlSsOGwAAAM1JREFUGNNjYEADaz6KLGDY/r0ByHyLKiPKYcDA9QHEOo0qYaOwk4Gh\n",
       "gAETmAqwKDAcQBJ4eOaMA4g2msfkgCzR8grKMGJOeA2S4Ho7AcRl8oKpMGIQYGwASnBzgC0CmguX\n",
       "yOU6BZRI5QWbzMKAkOAMCAQqXsD+AMRNPwMEAhAJBitmkCnxC0DchUg6GBZzgVzlzAXi8iBLsD0A\n",
       "6uX6wQ3i8j2ASYgB8TOgBNsHTTDfFSYBYoAdZAn2B8NiCbBdDCnfQcY4IAVJt8wZZC4AUocv7gRw\n",
       "y6QAAAAASUVORK5CYII=\n",
       "\" style=\"display:inline;vertical-align:middle;\" /></a> <a class=\"ProveItLink\" href=\"__pv_it/exprrange_reductions/45b5dfa5bb43e620c8d165739da2966d9c1d79250/proof.ipynb\" style=\"text-decoration: none\">&nbsp;&#x22A2;&nbsp;&nbsp;</a><a class=\"ProveItLink\" href=\"__pv_it/exprrange_reductions/c542ca8f46886a309d51db0870d70b8b800245140/expr.ipynb\"><img src=\"data:image/png;base64,iVBORw0KGgoAAAANSUhEUgAAAI8AAAAVBAMAAACNsKCFAAAAMFBMVEX////MzMxUVFRERES6uroi\n",
       "IiIQEBCYmJhmZmYyMjLu7u52dnaqqqqIiIjc3NwAAACW8nlqAAAAAXRSTlMAQObYZgAAAAlwSFlz\n",
       "AAAOxAAADsQBlSsOGwAAAVRJREFUOMuVVL1KA0EYHOGMl42GNOmEiI2+hJapRTwbLVJoY+NBKjsb\n",
       "K5sQkCs98A3uBbRJQCy8znQeWNha+ADe7rcJ2b0RLgMDd7PfzP4vgALCKtorqMDWi5AgyOurwJvl\n",
       "zNO7KfBRqeaqNquREGdOi9p/LC3NFDVUMYexsILPsnzjdj6dmKkOGpY0CFf2ZzNnqoNXSx6U0KCE\n",
       "1d8L1SxmQRkNyrxSY06kh1YwYEE3NEjUu0jjGNZ8DsPtcMSCpjRo6pUa8wUM04YuVQ+ml87C0tNf\n",
       "YRSdXkbRjqsuwZhtEN5TNqI+HVHfX2httlPDWLGgCQ2aeGtkzAcwVL8tFjSkQUN/17Q5k+1c+/n2\n",
       "Wp8LezicIEedw5i7EO5552j3elwqJ16Qqy6gzesdIX96jvwROaoDfQP5LcTSbQ5ipro4tGT4WkHF\n",
       "k+V/ndRV0c6F7BUu6qt/bM589ELu8QoAAAAASUVORK5CYII=\n",
       "\" style=\"display:inline;vertical-align:middle;\" /></a></span>"
      ],
      "text/plain": [
       "{i in Natural} |- ((i - 1) + 1) = i"
      ]
     },
     "metadata": {},
     "output_type": "display_data"
    }
   ],
   "source": [
    "Add(subtract(i, one), one).simplification(assumptions=[InSet(i, Natural)])"
   ]
  },
  {
   "cell_type": "code",
   "execution_count": 112,
   "metadata": {},
   "outputs": [
    {
     "data": {
      "text/html": [
       "<strong id=\"tuple_with_ij_empty_range\">tuple_with_ij_empty_range:</strong> <a class=\"ProveItLink\" href=\"__pv_it/exprrange_reductions/dc8bac7834be81e56cfaac53e72b6ffa85d38a740/expr.ipynb\"><img src=\"data:image/png;base64,iVBORw0KGgoAAAANSUhEUgAAAgMAAAAVBAMAAAAp5fDLAAAAMFBMVEX////MzMwyMjKqqqoiIiJm\n",
       "ZmaYmJju7u5EREQQEBC6urqIiIh2dnZUVFTc3NwAAAAqL9KcAAAAAXRSTlMAQObYZgAAAAlwSFlz\n",
       "AAAOxAAADsQBlSsOGwAAA5BJREFUWMOtmEFoE0EUhl+62W42jTFg781B6qkYSi8lBRu6OSgVikhP\n",
       "PYRCS2+Gngoeknuh9CCK8WBOheAlUlpvNZ61WAS9qJBDEaEIxYvgyXmT7u682dnZiWRgksnON///\n",
       "5mUmm1kAVcknfL66lAeT0f14SN2lLn291Kj9DqXP2a4SOVSPpvREKR56ZR4SyuikRuxn9ZjSSii6\n",
       "AscqBCscSR2TdaD0ggaaqBnHtJAgNWK/bVbTveAja47VFQhWWCaXnc+3GSnSTlEH3TINCWX0UiPx\n",
       "y/o5Wo10jftr4kBARMy/Dm/rAs2KXdNBG3KPXA4EGVv1Her8YGg/y99T+9G+Z1fvZQERsbLoFtCs\n",
       "uFrIrUs9cikLMi7EzC7OD4b281NgFaN90zQkRAhGZzcddsxqobGaYQpmJSkw8QNDv/y3ky5Ngc1+\n",
       "Bh6Hq5w3T2lIiGB1jmqq2Z2G8mtaKHdmmII1SQpM/CDZ7/1xAaDTz/yhKcBU9TrBeN5cpyEhgjWX\n",
       "3VfNbp0sHw00XjRMwbQkBSZ+kOh3XrKb4DwFe5GmIF2CVOmBP3zQnKchMYTXG3ZRNbv50H1JC1n7\n",
       "hilYkqTAxA8S/ZbB7YJ9Obj/2Z5394nn4UJx2+DAC7yb/MYX3pzCAQ8977nn3R8gvNbdLrl+5cbp\n",
       "Bg+kpYVSl1IPKUJHS5Ta9rBU9H7OTU4VdH42X/9uExptugpwbhbvrPLL2OzQb8VPAdypq75gTqdX\n",
       "/NjjoazpKmhJUmDiB0l+bPKYuy48gshGgLGzQIY359QbAWYc1ezmyMLUQNbicBshkAITP0jya/AZ\n",
       "N0rwyeqTFGTYe6Md/DvkzS0aEiJYnb851ey2QvddLTTeNEzBriQFJn6Q5Hed/aK32USsqk1XAd45\n",
       "pvLBjYU312hIiGBNXf6Q5vCxDyE9uBVpILtHeviPD+5p3hCHnEpSYOIHSX7sdpArgPP13a/XNAUp\n",
       "tlqubQbjefMeDQkRrPBFuuV/fzlTC2k8oWihdJv2VP09XZVSMClJgYkfJPp92Hyj/oNciZ62F6WQ\n",
       "KhJWVtJoWtBB52C4EVBGlAITPxjaLzgmbUS6gsPHgYBsqI5J8lFFPMJEoVXTYxLKiFJg4gfD+/kl\n",
       "E3m68lOFZOIewhB6TwPlm8bPC/YSpEbs5zRVAUQQp6kJNyg7Gihj/iRrJ0Fq1H4X8lOrvhK5iHnG\n",
       "Reh8Nx46MX9whjI6qf/3+weXJ1vh/pGLpwAAAABJRU5ErkJggg==\n",
       "\" style=\"display:inline;vertical-align:middle;\" /></a><br>"
      ],
      "text/plain": [
       "<IPython.core.display.HTML object>"
      ]
     },
     "metadata": {},
     "output_type": "display_data"
    }
   ],
   "source": [
    "requirements = []\n",
    "tuple_with_ij_empty_range = tuple_with_ij_range_lambda.apply(subtract(i, one), assumptions=[InSet(i, Natural)],\n",
    "                                 requirements=requirements)"
   ]
  },
  {
   "cell_type": "code",
   "execution_count": 113,
   "metadata": {},
   "outputs": [
    {
     "data": {
      "text/html": [
       "<a class=\"ProveItLink\" href=\"../packages/proveit/numbers/addition/__pv_it/axioms/1a4193f1deeaf7a4a6b6289328d46189ae6a257f0/expr.ipynb\"><img src=\"data:image/png;base64,iVBORw0KGgoAAAANSUhEUgAAAAwAAAAVBAMAAACAghKHAAAAMFBMVEX////MzMxUVFRERES6uroi\n",
       "IiIQEBCYmJhmZmYyMjLu7u52dnaqqqqIiIjc3NwAAACW8nlqAAAAAXRSTlMAQObYZgAAAAlwSFlz\n",
       "AAAOxAAADsQBlSsOGwAAAHNJREFUCNdjYGB4wMcABLwHWC4AqdMMDNcZGLgmMDBwLmDgKGBgYG9g\n",
       "YAPJZzGcBFHTGbpB1CYgAwgqGWJA1DGGFBAlD6HcIIJHGWxBVDFQLRB0M4iCqBAGVgEGBr4AkLFg\n",
       "4+0YGB4DxReDWQx8F3gfMAAAcpEVlky+VaAAAAAASUVORK5CYII=\n",
       "\" style=\"display:inline;vertical-align:middle;\" /></a>"
      ],
      "text/plain": [
       "()"
      ]
     },
     "metadata": {},
     "output_type": "display_data"
    }
   ],
   "source": [
    "requirements"
   ]
  },
  {
   "cell_type": "code",
   "execution_count": 114,
   "metadata": {},
   "outputs": [
    {
     "data": {
      "text/html": [
       "<span style=\"font-size:20px;\"><a class=\"ProveItLink\" href=\"../packages/proveit/numbers/addition/__pv_it/theorems/10cfe086dee5530e9b3b60486d89c6cb824c41920/expr.ipynb\"><img src=\"data:image/png;base64,iVBORw0KGgoAAAANSUhEUgAAAC8AAAAQBAMAAAB0JTvnAAAAMFBMVEX///9ERETc3NxUVFQyMjKq\n",
       "qqrMzMwQEBC6urqYmJju7u52dnYiIiJmZmaIiIgAAACrFvqoAAAAAXRSTlMAQObYZgAAAAlwSFlz\n",
       "AAAOxAAADsQBlSsOGwAAAM1JREFUGNNjYEADaz6KLGDY/r0ByHyLKiPKYcDA9QHEOo0qYaOwk4Gh\n",
       "gAETmAqwKDAcQBJ4eOaMA4g2msfkgCzR8grKMGJOeA2S4Ho7AcRl8oKpMGIQYGwASnBzgC0CmguX\n",
       "yOU6BZRI5QWbzMKAkOAMCAQqXsD+AMRNPwMEAhAJBitmkCnxC0DchUg6GBZzgVzlzAXi8iBLsD0A\n",
       "6uX6wQ3i8j2ASYgB8TOgBNsHTTDfFSYBYoAdZAn2B8NiCbBdDCnfQcY4IAVJt8wZZC4AUocv7gRw\n",
       "y6QAAAAASUVORK5CYII=\n",
       "\" style=\"display:inline;vertical-align:middle;\" /></a> <a class=\"ProveItLink\" href=\"__pv_it/exprrange_reductions/d096c753475a8a97ac2fae3bac0dd560a7d41da10/proof.ipynb\" style=\"text-decoration: none\">&nbsp;&#x22A2;&nbsp;&nbsp;</a><a class=\"ProveItLink\" href=\"__pv_it/exprrange_reductions/715d65a1d017c7262f34dd334167559c7ca9ab540/expr.ipynb\"><img src=\"data:image/png;base64,iVBORw0KGgoAAAANSUhEUgAAAmgAAAAVBAMAAAAA4g9MAAAAMFBMVEX////MzMxUVFRERES6uroi\n",
       "IiIQEBCYmJhmZmYyMjLu7u52dnaqqqqIiIjc3NwAAACW8nlqAAAAAXRSTlMAQObYZgAAAAlwSFlz\n",
       "AAAOxAAADsQBlSsOGwAABEpJREFUWMO1WM9rFDEUfrW7s9P9ZS+9CVu8qIiw/4DSU3sqbKUrhfZQ\n",
       "8BcUxEoPbQ/igkiRHlx6KfTiQk89yG734kHEvbRQRFxPLaJ1sBRPQg+CWBBMMpnMvCQzSZENvJ1M\n",
       "8s373vuSTDYDAB7oime4J6XIDfRdcXc2z58V/598nmWbcF7o6LqU1nEV84WbpqS6MjAGhIHJpXd8\n",
       "4xYCIKr32i7aehDeHkBhXobkW74ValLHUANgXwLGgvatNeshn5pcjCzge8jWdR2sdTq8J9UNGbPF\n",
       "Ld3Cj15+SeIbaGBgLCgKTC695NvQCqAvxIOLRB7jV1eVfimYnkHXCjf5WfhG4spERjoRJIBjccsh\n",
       "jg9s+MCOb0mGYwFS0TviwUHYD/zqqKwOH6J88FaY5SY/y+KDubAjGTQn98irMo4PbPjAjs+R55+j\n",
       "j4GVOdjTiranmZXz2EG+7luMHushYzJo3VI0hQ9s+MCOb0BeWXsJoq3DKt1Frx52sSfSmj0Qjlg1\n",
       "N4wduC3fXq1o9WiHMz0Z1LYUTeEDGz4w873dHxTJiYJlEaLlvj6iHqjwo17/KfZEWnMpMc1ZNVPH\n",
       "DujgUGuNavVYRqOYAFq2FE3hAxs+MPIdd9yyn5xbZWWYCxCRJYihOANPqYcZMpHug1vBnkjrBVdM\n",
       "c1bNz2IH6Q6zvs5zrR67IlwDaNdSNIUPbPjAyDcNTlckJwqWRcTQggfUwx2i8Im/Qz+rVu9Vqzdp\n",
       "L2ltOBSZ/QO82nfiD8atu/5gOCPMstQNetaPr0RrzToYQSW5B21icXxbbFJMJPNpQRKfyyYTSy5a\n",
       "IrJEYnjB9osS7XXK0BzB8pNW+MgQU8CrKWmm8SQgf6qdRGx9pGtgBI1azjSFD2z4wMRHkocwuaho\n",
       "EVmCGG6z31E6D5tdeALK8oS1rHBBq/mKdrnAwHBDp8dOdLkkgXbOtjxDV2DDBya+JnPPkou+07As\n",
       "PIbsX3bZgeuktwNX8h6KnLRmf+XE7kmrmTJOor/rW3OkpdNjQYRrAC1YiqbwgQ0fmPjOk21jRCQn\n",
       "CpYliOE3mZPUQ5uy5KdcHHmbLvMfgQdWdVs4CbpLUysV56Ws33l8zw6BCaBVaeTr/Ie9TZP4wIYP\n",
       "THxk68wNiuREwbIEMZCtc5t6GCLhXdv+/gnnRFrhUshLq2lpffdVfDu3KE2Viw/XCHxSPGwATeIe\n",
       "9lpiP1MGPrDhAxMfvFn8HCYXnu+RLGLgXj9uUA/pQd2JALf6/2fkf8cT3EC3voqVsJ4IEkDjMUrm\n",
       "Axs+sOM7lqFYAHQiIB4yNd2BPVNTGFfkw+uSdNAdizvwJoIE0HhgX9IdrE18YMenHCCwAOjATj3c\n",
       "0PpXWovyqxL6Pd+05UgCxoKOrL+n9ZBPTS5GlsDLprZnUxey9Mmp7JtR9ETQDWvResinkXkzNg7q\n",
       "oaj9AKy0HqqYn9x0n0I9GRgDKnj2n7t7x3doIUDEyz/j3/5cJ26iZQAAAABJRU5ErkJggg==\n",
       "\" style=\"display:inline;vertical-align:middle;\" /></a></span>"
      ],
      "text/plain": [
       "{i in Natural} |- (a+ (i * i) +  ((i + 1) * (i + 1)) +  ... +  ((i - 1) * (i - 1)) + c) = (a + c)"
      ]
     },
     "metadata": {},
     "output_type": "display_data"
    }
   ],
   "source": [
    "tuple_with_ij_empty_range.simplification(assumptions=[InSet(i, Natural)])"
   ]
  },
  {
   "cell_type": "markdown",
   "metadata": {},
   "source": [
    "To reduce the **ExprRange** to a singular element, the `start_index` and `end_index` must match exactly."
   ]
  },
  {
   "cell_type": "code",
   "execution_count": 115,
   "metadata": {},
   "outputs": [
    {
     "data": {
      "text/html": [
       "<a class=\"ProveItLink\" href=\"__pv_it/exprrange_reductions/29f73abf55293b031ba44a3041b10d78ac07f71f0/expr.ipynb\"><img src=\"data:image/png;base64,iVBORw0KGgoAAAANSUhEUgAAAHQAAAAVBAMAAABlHNfrAAAAMFBMVEX////MzMwyMjKqqqoiIiJm\n",
       "ZmaYmJju7u5EREQQEBC6urqIiIh2dnZUVFTc3NwAAAAqL9KcAAAAAXRSTlMAQObYZgAAAAlwSFlz\n",
       "AAAOxAAADsQBlSsOGwAAAWxJREFUOMtjYMAGHhDg4wbcBmgCq4nWagPEWxHcrQzcCUTqZFcAEj4I\n",
       "PpCpTkDLMijNimlHKpTmwmG9NZTmxJTiLIDQzBvwazXClGJKwKaV786+DahaY4De3Qp3GZjJcwFN\n",
       "K8/uRAaGlQ84vqNqVQPKcE2AaQUz2RRQtfI5M0QwsE9jYHVA1erMwCDMqgDTCmYyT0DVynKAYTYD\n",
       "6wcQzcAQ4uIy08XFFyQ+i4GhgBOkhv0TA5TJ+AEU8i4unlNcXEBujwcFG2cDQ/0CVFuBWhnswUHq\n",
       "ygBlcqHZOgNE1G9gyGfAcDCDLjs8HEFMZgcUrey/wVoNGC4xP0DR2g2U+8UDD2EQk60B1dZvQIcw\n",
       "cGxgdmVFtfUsyG/PYFrBTNYDqFojGBgOMrDfPvh2I6pWESC+hkhxICbLAlStPMeyC7ClJhYBjNT0\n",
       "hAF/QoQlf7YADKkwAskfDvrQBfgaiM3qFegCHESXMHzoPtqHTRUAYVRTwhKeu44AAAAASUVORK5C\n",
       "YII=\n",
       "\" style=\"display:inline;vertical-align:middle;\" /></a>"
      ],
      "text/plain": [
       "a + (i * i) + c"
      ]
     },
     "metadata": {},
     "output_type": "display_data"
    }
   ],
   "source": [
    "requirements = []\n",
    "tuple_with_ij_range_lambda.apply(i, requirements=requirements)"
   ]
  },
  {
   "cell_type": "code",
   "execution_count": 116,
   "metadata": {},
   "outputs": [
    {
     "data": {
      "text/html": [
       "<a class=\"ProveItLink\" href=\"../packages/proveit/numbers/addition/__pv_it/axioms/1a4193f1deeaf7a4a6b6289328d46189ae6a257f0/expr.ipynb\"><img src=\"data:image/png;base64,iVBORw0KGgoAAAANSUhEUgAAAAwAAAAVBAMAAACAghKHAAAAMFBMVEX////MzMxUVFRERES6uroi\n",
       "IiIQEBCYmJhmZmYyMjLu7u52dnaqqqqIiIjc3NwAAACW8nlqAAAAAXRSTlMAQObYZgAAAAlwSFlz\n",
       "AAAOxAAADsQBlSsOGwAAAHNJREFUCNdjYGB4wMcABLwHWC4AqdMMDNcZGLgmMDBwLmDgKGBgYG9g\n",
       "YAPJZzGcBFHTGbpB1CYgAwgqGWJA1DGGFBAlD6HcIIJHGWxBVDFQLRB0M4iCqBAGVgEGBr4AkLFg\n",
       "4+0YGB4DxReDWQx8F3gfMAAAcpEVlky+VaAAAAAASUVORK5CYII=\n",
       "\" style=\"display:inline;vertical-align:middle;\" /></a>"
      ],
      "text/plain": [
       "()"
      ]
     },
     "metadata": {},
     "output_type": "display_data"
    }
   ],
   "source": [
    "requirements"
   ]
  },
  {
   "cell_type": "markdown",
   "metadata": {},
   "source": [
    "There are no other special **ExprRange** reductions, even if the expansion is obvious.  For example,"
   ]
  },
  {
   "cell_type": "code",
   "execution_count": 117,
   "metadata": {},
   "outputs": [
    {
     "data": {
      "text/html": [
       "<a class=\"ProveItLink\" href=\"__pv_it/exprrange_reductions/6120f6b409360445869bcec2d6a0ac2a58f7fa4e0/expr.ipynb\"><img src=\"data:image/png;base64,iVBORw0KGgoAAAANSUhEUgAAAPkAAAAVBAMAAAB251VaAAAAMFBMVEX////MzMwyMjKqqqoiIiJm\n",
       "ZmaYmJju7u5EREQQEBC6urqIiIh2dnZUVFTc3NwAAAAqL9KcAAAAAXRSTlMAQObYZgAAAAlwSFlz\n",
       "AAAOxAAADsQBlSsOGwAAAlhJREFUSMeVVj1oU1EU/tL3XpKXhGeG7maqLmIQF7FDxZdBUdqhKQ4d\n",
       "glBxMzi55e2CdBClLs0kFJeIULcaZxWL6ORPM2QoiFC6CDrU+/N+7n05bY4PXm6+c873vnvPuX8A\n",
       "9YwmTQH4T8D75DFPtTlpqwz46q8I2ws2e168s13DIME2m+4MEbTP1rNUSFDtMNmlBkpfzmfqGsx0\n",
       "uer3gX3U/qRYgzNTWJW4e55s35hiEhSXYvB8Ch0rwA9gI3VosJYPy2csLq0PSh1PY3AZJ9OxDmx2\n",
       "sZfOMw38bi7sGPoFWn2Oqe40gM/AXlp4DWY6lHrwbWdg21dp9Q9MdW+omkXTJ0BtN6f+blv0b2tU\n",
       "/m3b52j120x1PcjCX8MlQbFhh42bXoTSE3gLtv0qrX6Jqe6q3cLdNVwSOOt22A34A3gHcGWqvDC8\n",
       "9jgMJedZpt5rZOqn5b/lMNwIw5sT0gbd70vDLbVWD7VXgsKBFeaphPsRen27V4a6u5SpbzHHrtSL\n",
       "eugt9atAxR670JWjG+AeWJm/+D+Zn0cwMvZOARy7vj3V9Jr45Iws+kNa/S5TvSzawhDV9AMaFCMr\n",
       "7JSYm30R67Q8m66W1kfzUFJg1VZXNZXzIiluQpdLa9xuL6dsDeKFmISJCV+ro/T17a+XNn1WvN83\n",
       "z2U7ogbXc2NvJfOiZdMLIsWLR0eH2WJXwM3Nrvd3XtOFq5OH9gJ3p71Cusc4eadN9v/0PLHXVId7\n",
       "yqyR7pUpp0z6PKKM++zzvUzdY4KIS3/A7hJ9P4i4XaLvZURpqvyLGX4Sth0q8B8RDbuv5S+w2QAA\n",
       "AABJRU5ErkJggg==\n",
       "\" style=\"display:inline;vertical-align:middle;\" /></a>"
      ],
      "text/plain": [
       "a+ (1 * 1) +  ... +  (2 * 2) + c"
      ]
     },
     "metadata": {},
     "output_type": "display_data"
    }
   ],
   "source": [
    "from proveit.numbers import two\n",
    "tuple_with_range_lambda.apply(two)"
   ]
  },
  {
   "cell_type": "markdown",
   "metadata": {},
   "source": [
    "Depending upon the circumstance, making the explicit expansion may not be desirable.  Such replacements should be made explicitly via the **theory system** rather than complicating the **core derivation system**."
   ]
  },
  {
   "cell_type": "code",
   "execution_count": 118,
   "metadata": {},
   "outputs": [],
   "source": [
    "%end exprrange_reductions"
   ]
  },
  {
   "cell_type": "markdown",
   "metadata": {},
   "source": [
    "# Next chapter: <a href=\"tutorial04_relabeling.ipynb\">ToDo</a>\n",
    "\n",
    "## <a href=\"tutorial00_introduction.ipynb#contents\">Table of Contents</a>"
   ]
  }
 ],
 "metadata": {
  "kernelspec": {
   "display_name": "Python 3",
   "language": "python",
   "name": "python3"
  },
  "language_info": {
   "codemirror_mode": {
    "name": "ipython",
    "version": 3
   },
   "file_extension": ".py",
   "mimetype": "text/x-python",
   "name": "python",
   "nbconvert_exporter": "python",
   "pygments_lexer": "ipython3",
   "version": "3.7.3"
  }
 },
 "nbformat": 4,
 "nbformat_minor": 1
}
