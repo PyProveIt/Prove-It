{
 "cells": [
  {
   "cell_type": "markdown",
   "metadata": {},
   "source": [
    "Chapter 2.a.ii.  Lambda with an indeterminate number of parameters\n",
    "=======\n",
    "\n",
    "The previous chapter discussed **Lambda** expressions with a fixed number of parameters.  In this chapter, we will discuss **Lambda** expressions with an unspecified number of parameters.  This is done by using an **ExprRange** of **IndexedVar** expressions in the **ExprTuple** of parameters.  For example $(x_1, ..., x_n) \\mapsto (x_1 + ... + x_n)$.  In this new theory, we revisit creation of **Lambda** expressions (abstraction), *relabeling* its parameters while retaining its meaning (alpha conversion), and *applying* the **Lambda** function to operators (beta reduction).  As a reminder, the beta reduction rule plays an important role in the **Instantiation** derivation rule, critical for constructing **Prove-It** proofs."
   ]
  },
  {
   "cell_type": "code",
   "execution_count": 1,
   "metadata": {},
   "outputs": [],
   "source": [
    "import proveit\n",
    "%begin lambda_indeterminate_params"
   ]
  },
  {
   "cell_type": "markdown",
   "metadata": {},
   "source": [
    "## Creating Lambda expressions (abstraction) with an indeterminate number of parameters\n",
    "\n",
    "We can make a **Lambda** expression with an indeterminate number of parameters by composing parameter entries from an `ExprRange` of `IndexedVar` expressions, such as $x_1, ..., x_n$.  It is important to recognize that although the number of parameters may not be a specific integer value, this number is tied to expressions in a consistent manner.  In the example of $x_1, ..., x_n$, there are $n$ parameters in this range and this same $n$ may be used elsewhere in the expression.  In the following example, we construct a lambda function that takes $2 n$ arguments and produces the dot product between the first $n$ and the last $n$ of these."
   ]
  },
  {
   "cell_type": "code",
   "execution_count": 2,
   "metadata": {},
   "outputs": [],
   "source": [
    "from proveit import Lambda, ExprTuple, ExprRange, IndexedVar\n",
    "from proveit import a, b, m, n, x, y\n",
    "from proveit.core_expr_types import Len\n",
    "from proveit.core_expr_types import x_1_to_n, y_1_to_n\n",
    "from proveit.logic import InSet\n",
    "from proveit.numbers import one, two, Natural, Add, Mult"
   ]
  },
  {
   "cell_type": "code",
   "execution_count": 3,
   "metadata": {},
   "outputs": [
    {
     "data": {
      "text/html": [
       "<strong id=\"dot_prod_lambda\">dot_prod_lambda:</strong> <a class=\"ProveItLink\" href=\"__pv_it/lambda_indeterminate_params/3b36687bec8951fa4d45f43ed7b5d9446552ba350/expr.ipynb\"><img src=\"data:image/png;base64,iVBORw0KGgoAAAANSUhEUgAAAnIAAAAVCAMAAAD1nvNsAAAANlBMVEX///8WFhYNDQ3MzMxUVFRE\n",
       "RES6uroiIiIQEBCYmJhmZmYyMjLu7u52dnaqqqqIiIjc3NwAAACzeusSAAAAAXRSTlMAQObYZgAA\n",
       "AAlwSFlzAAAOxAAADsQBlSsOGwAABLBJREFUaN7lWtsSqyoMdW8VBRHw/3/2oC2aQELjpXvmTHlo\n",
       "WpNmJYtwEW2a2ELzoy1cMQ7fxgv/KKF/57egzrtfLTnl5baJpTtsifC+DnC+3a2QFFaSbm5+tnkt\n",
       "tUws3WNLgPd1gPPtfoWksF7STs0Pt8nK7BJLd9n6iPd1gPPtiQpJYW3S6F8uOW1kdomlu2zleEoz\n",
       "QI8lpM46fDwkGNYmx+an20jPCj7bMI+ZfArP5ZuvpwFKhI/L6OMhwbCidNNvl9y0D2HUVQ5PFoml\n",
       "+2xNutq/jwPcL7lnKiSFFaV5bw2t951t55m+N6lrZTuCDy6s3yZw251WytAZB/N+ZUDX8a/Ekoyt\n",
       "GuLcVfv3cYD7JXciJAHPUabqi6Pad74xA72VqWplu6EPLubGrTO4Xk4rJY11oCe6yFzPjFEpHwyi\n",
       "nqr9+zjA/ZI7EZKA5yiHV9HqsNrZpiO3inWtbP/4wUXrXsl0/VmlpPEO3EiXXON7sNK+WZKxVUV0\n",
       "Y7V/Hwe4X3LykCQ8Rzmql+1axml82HykQK2d5647fyeOAKgZOe4s11zXjwIfKK/BQ+9ZXPt4/Ptn\n",
       "QG1Z1LH5VUjybNllquez45kNZBw30WVAPOEUALI4EqIRaguRNKSCXiprmucoR8Dr2671npg8k9Zs\n",
       "sV27a6kOOBWHUIyoJfF35VX43UF+nZvl1KQaruQqbA2mno+qz3IEQJYxAYAs1NOzHBFS0YigGJ6j\n",
       "HNxhHKdOuw0WNxBd9tauYz+ULkW9vgOQY2wdKX6k8XflVXjgHRM80CXXojPVbGH9yBafT2bMrGIi\n",
       "wmlO8mieWlg/d6CI5yj7DcD2qunGbfsH9W/vSKttyk+0vJEujI4j32RnE32XPnJ8qLwGDx1A8Piz\n",
       "p0tuQgdzvYeSYStrRD4Ij+xfAuDImANAFrp/uOSokDCHdFA0z1G+bl7d0loTHSoHSUxLdKaNsANc\n",
       "wMFSzn6BLqxWY9yDjgFZNqZbx5Em8LEyhy+/UJeSAwQOjgCitnIuB27xWbaK8V7kg/HI/iUB3hlX\n",
       "AIBFBpAhVDmShpRzSAXF8Rxlu4VqjfeRZu3wLDgMltDG/1ighUs58aV0Eaxfk1xsg7zYbvZmCQQ+\n",
       "VhbwJWgBfzjA4NFA0Tf7eFZpBygZtvIJtsynxMv7lwRIGfMAwCJPKEOgODInQ8o5pILieF7lQEzZ\n",
       "O0WO8hrS8YGTrG2UUefBNhcazFMF/628Dv9ygMCD8E4ksVRli6jcLJ8Cr1j2KIDQ2w8Ah0WR0P0H\n",
       "XkRIiEMmKJLnTVIPtneKqLdWQvxDCJyWOBwkbl1jEsY0LTRY47Sjo/GB8ho8cIDApY+s0WNpUcmR\n",
       "+RR4xTN0AuDImAMAFkVC9x/rEyEhDpmgSJ5fsg8sidZTQ65tW2MZLfEEhHCxbGPHtdBgiLKbGfxD\n",
       "eREeOIDgQXy2nFiqsJXNDUQ+ErwC4MiYAwAW4eph+bmQIIdcUBTPb2nzKMM8LfPWVVSnjsvaOG3R\n",
       "KCO1bkj9rJGB094oDv9QXoQ/HCDwXvyGdWKpwlZWiEQ+ErwC4MiYAwAW/TdeRS9CQhwyQZE8Jxm+\n",
       "8/by/6D5Ex2UWLrDlgjv6wDn290KSWFt8j/bB01knI6ZkwAAAABJRU5ErkJggg==\n",
       "\" style=\"display:inline;vertical-align:middle;\" /></a><br>"
      ],
      "text/plain": [
       "<IPython.core.display.HTML object>"
      ]
     },
     "metadata": {},
     "output_type": "display_data"
    }
   ],
   "source": [
    "dot_prod_lambda = \\\n",
    "    Lambda((x_1_to_n, y_1_to_n), \n",
    "           Add(ExprRange(a, Mult(IndexedVar(x, a),\n",
    "                                 IndexedVar(y, a)), one, n)))"
   ]
  },
  {
   "cell_type": "markdown",
   "metadata": {},
   "source": [
    "It is useful to make the distinction between parameter entries (which may be ExprRange or IndexedVar expressions) and parameter variables (which may only be Variable types).  In the `dot_prod_lambda` example, the parameter entries are $x_1, ..., x_n$ and $y_1, ..., y_n$ but the variables are $x$ and $y$."
   ]
  },
  {
   "cell_type": "code",
   "execution_count": 4,
   "metadata": {},
   "outputs": [
    {
     "data": {
      "text/html": [
       "<a class=\"ProveItLink\" href=\"__pv_it/lambda_indeterminate_params/512e62ae07d92005c8d6625d28ea28f8a40984bd0/expr.ipynb\"><img src=\"data:image/png;base64,iVBORw0KGgoAAAANSUhEUgAAAQIAAAAVBAMAAABfxf30AAAAMFBMVEX////MzMxUVFRERES6uroi\n",
       "IiIQEBCYmJhmZmYyMjLu7u52dnaqqqqIiIjc3NwAAACW8nlqAAAAAXRSTlMAQObYZgAAAAlwSFlz\n",
       "AAAOxAAADsQBlSsOGwAAArdJREFUSMfFlk9oE0EYxV/iJlkn2W16KIhWGhQUWgpaPAlK8NCT0AgK\n",
       "UhQiCIIYjehBRW0QY6xFzM3rWsEWpRgKIqEK8WD9d3DpQSMSWMhFPNgEBDFC48zuZnY2YXPd7zCZ\n",
       "t/ze7pvZmZ0AMOBfqaxRKj4mkHTafIKf9RUgRV8TbNYgZ31NEMkhDH/rLD74nOAh5mi7tPZoRdgR\n",
       "XbK3SG102ytRV7OYF/wFkEQ/u4gv0wxAThmXUw7RJXtLxpqeF3Q0lsaMI0uriDT62F34VZygq8GI\n",
       "tIJZLNi7wpJkZYfmdYubmNF2C3qYBt7J/YFKHsE9z5ZHvewWbtcqTlMLZGoO1OxxW1KG9zzEMevS\n",
       "WlhHhvsJMgjrOeS97CbeESMsAaiBNjH+RCYHkmrTeyIzbjmlBZqOX2phJP4b63Evt4nbNcneAr1k\n",
       "EE1IwGRE65NA2sBTXLlYy9l6Fkra8dMp/IJrfRIwPFLYXmX9tzgAPE7uQtSaAwIuEU2ZsnsKKbQv\n",
       "mEaJXD6D85YDE9iU4H7Wn6A/L0y4ex908IXJbJidiZfobsDnrXdw2ErwvMglhjRTmg35K3RizcW0\n",
       "VFGXimhZF3ELU1nuh5yQ/tDlNO12OcrEf37DAAs4hyFgsRYrVKwEoWku1f2WRIjN9fFO55gGcl9/\n",
       "fx0I6lLaRuZfPzC4H2SsugHUNRN27NY9OD5OlwCtowjxt2W+x498vn7glyg5xWc2HJdz8Q5Sdvmj\n",
       "Rag51RBgXhw/hbsBOs4UOxrEBCX+32Hv4D1BOp8T3ltHaDhuItEiOSf4y3hSQX1wiybAzufKxtUG\n",
       "jryBeTAe7Dyy/E8H0fkI2+2GIJ1PLu8dgvISJhLSgyXBfxJjwIV2W4T5SuzgUgLf6dPrbOmLgOLm\n",
       "ld4xdGdiSOzGbdHwrpr0gLtxa/yq7uPJqBj4D1LE3adud4ROAAAAAElFTkSuQmCC\n",
       "\" style=\"display:inline;vertical-align:middle;\" /></a>"
      ],
      "text/plain": [
       "(x_{1}, x_{2}, ..., x_{n},y_{1}, y_{2}, ..., y_{n})"
      ]
     },
     "metadata": {},
     "output_type": "display_data"
    }
   ],
   "source": [
    "dot_prod_lambda.parameters"
   ]
  },
  {
   "cell_type": "code",
   "execution_count": 5,
   "metadata": {},
   "outputs": [
    {
     "data": {
      "text/html": [
       "<a class=\"ProveItLink\" href=\"../packages/proveit/__pv_it/common/70b6dfe187a2382408546cc714e0c3bc5c3a48c90/expr.ipynb\"><img src=\"data:image/png;base64,iVBORw0KGgoAAAANSUhEUgAAACwAAAAVBAMAAADP3xFXAAAAMFBMVEX////MzMxUVFRERES6uroi\n",
       "IiIQEBCYmJhmZmYyMjLu7u52dnaqqqqIiIjc3NwAAACW8nlqAAAAAXRSTlMAQObYZgAAAAlwSFlz\n",
       "AAAOxAAADsQBlSsOGwAAARRJREFUGNNtkDFLA0EQRp8x5s5N7khjY5OrbIIg9koqK8EU2mlnJQiC\n",
       "lV0aTZHGzjYSEJsDsRObNEaChcFC0wgH/gE7MYX47V2uucvAzuy+nZ39ZoCIjPnWef0sLo7kXsjZ\n",
       "B5jLPF7s4p7ksdOixAw7YjgLX9GRD9+uHxM9YRsTwL0uoOWtus0Y3w1wvuGMff0QOZNC/PNc/5zC\n",
       "Ggw41AF3qtJwTEnN1Cwm3iYNTqhVYcsWgZ3IdGOsZ+8KT2xAr7FCGezFfMC6wqm08Lp8wTbm12YH\n",
       "xR+FDktw+1lpS/ae0k19/Ce8y0I1ba0Sly9LlN+0Y5mayvPAjd7Z8W2mONQ6oC7/pdVLsdX+PG6Q\n",
       "ZPqj7Py8iH9x7Twn3f7vdgAAAABJRU5ErkJggg==\n",
       "\" style=\"display:inline;vertical-align:middle;\" /></a>"
      ],
      "text/plain": [
       "(x, y)"
      ]
     },
     "metadata": {},
     "output_type": "display_data"
    }
   ],
   "source": [
    "dot_prod_lambda.parameter_vars"
   ]
  },
  {
   "cell_type": "markdown",
   "metadata": {},
   "source": [
    "Note that parameter variables must be unique (rather than parameter entries)."
   ]
  },
  {
   "cell_type": "code",
   "execution_count": 6,
   "metadata": {},
   "outputs": [
    {
     "name": "stdout",
     "output_type": "stream",
     "text": [
      "Expected error: Parameter variables must be unique.  (x_{1}, x_{2}, ..., x_{n}, x) does not satisfy this criterion.\n"
     ]
    }
   ],
   "source": [
    "from proveit import ParameterCollisionError\n",
    "try:\n",
    "    Lambda((x_1_to_n, x), Mult(x_1_to_n))\n",
    "    assert False, \"Expected an ParameterCollisionError error.\"\n",
    "except ParameterCollisionError as e:\n",
    "    print(\"Expected error:\", e)"
   ]
  },
  {
   "cell_type": "code",
   "execution_count": 7,
   "metadata": {},
   "outputs": [
    {
     "name": "stdout",
     "output_type": "stream",
     "text": [
      "Expected error: Parameter variables must be unique.  (x_{n}, x_{m}) does not satisfy this criterion.\n"
     ]
    }
   ],
   "source": [
    "try:\n",
    "    Lambda((IndexedVar(x, n), IndexedVar(x, m)), Mult(IndexedVar(x, n), IndexedVar(x, m)))\n",
    "    assert False, \"Expected an ParameterCollisionError error.\"\n",
    "except ParameterCollisionError as e:\n",
    "    print(\"Expected error:\", e)"
   ]
  },
  {
   "cell_type": "markdown",
   "metadata": {},
   "source": [
    "Also, none of the parameter variables may occur as free variables within any parameter index."
   ]
  },
  {
   "cell_type": "code",
   "execution_count": 8,
   "metadata": {},
   "outputs": [
    {
     "name": "stdout",
     "output_type": "stream",
     "text": [
      "Expected error: Parameter variables may not occur as free variables in parameter indices.  (x_{n}, y_{x}) does not satisfy this criterion.\n"
     ]
    }
   ],
   "source": [
    "try:\n",
    "    Lambda((IndexedVar(x, n), IndexedVar(y, x)), Mult(IndexedVar(x, n), IndexedVar(y, x)))\n",
    "    assert False, \"Expected an ParameterCollisionError error.\"\n",
    "except ParameterCollisionError as e:\n",
    "    print(\"Expected error:\", e)"
   ]
  },
  {
   "cell_type": "markdown",
   "metadata": {},
   "source": [
    "Parameters are not restricted to occurrences where the ranges matches.  Any ambiguity must be resolved when the **Lambda** expression is applied, however.  Also, relabeling will not be allowed as we shall see in the next section."
   ]
  },
  {
   "cell_type": "code",
   "execution_count": 9,
   "metadata": {},
   "outputs": [
    {
     "data": {
      "text/html": [
       "<strong id=\"inconsistent_dot_prod\">inconsistent_dot_prod:</strong> <a class=\"ProveItLink\" href=\"__pv_it/lambda_indeterminate_params/c61a20188733442cc0676bb949e76dc9b6b54ca40/expr.ipynb\"><img src=\"data:image/png;base64,iVBORw0KGgoAAAANSUhEUgAAAnsAAAAVCAMAAAAJi9imAAAANlBMVEX///8WFhYNDQ3MzMxUVFRE\n",
       "RES6uroiIiIQEBCYmJhmZmYyMjLu7u52dnaqqqqIiIjc3NwAAACzeusSAAAAAXRSTlMAQObYZgAA\n",
       "AAlwSFlzAAAOxAAADsQBlSsOGwAABQRJREFUaN7lWuvWqygMdQa8oAj4/i87oOWeQGzrnHVW+fHF\n",
       "fonZySZc22GwzQw/2sxbxuZpPPP/JPQH/JrSn1a/WnuTptsGlj6gi4b3OMDt9rUK8fF5qfbhZ5sW\n",
       "VMvA0kd0UfAeB7jdvlghPr5Lym344bZJml1g6UO6+niPA9xuX60QH98pV/HLtSdWml1g6UO6KrxJ\n",
       "YEhPAfQXRvHViOD4TrkMP90WZJ7Q+fZ6qR6+hKfKHdrjAP0lVn83Ijg+K9X227W3xUGddZrK5o/A\n",
       "0sd0baLd0Y8D3K69L1eIj8/K9bWPlFpzyfYdOdF01KRtQw/hnNslv60kosMe9viPOVNknzxLVLpw\n",
       "xJ23S+NxgNu1F3In10Czt3x8VvoytMNccz2sM7LfaatJW6a2i31QbnIXx20lqWEexIbUnhqhyYRI\n",
       "F44otnZpPA5wu/ZC7uQaaPaWj8/K+apiYZytHDi8r+yoSZvMtgumrqT4eFdJaqgHtSC1N+gxLsKz\n",
       "yh8IfCCIammXxuMAt2vP506ugXZv+fisXKbL3tV1uEcox06mlvvO+f2TfIYAzNN29+lydn8q/ET5\n",
       "JnrqPg8rDs5//5mzdhxT2CBP+QNKlzy2dkIRbz1BluUUfMAB8pQDAkJKD6C5NEFv+Nw7HQgGBtXB\n",
       "EWRgNdoyraFp1avXM8j3zjitMTjZMWUjYiB+UL6NHjwU/0bnvWlLqJnKB4yueW0nNHWmJQCgSDki\n",
       "gKRM3573kojaHQgEBvXDEmRYTewLdlKV5+hRM9R3L7WbDQzst9v9AQEadG7Y6AXGD8q30RP3GdEz\n",
       "UnssvaUt19w+XVhCpS2y5pIIB0npAby95nY7sMt1Fp+V4wkkx2ngy7lNTPUeJVML6RMlLX0ScrEK\n",
       "Oxes+c3GyP2fyF+tjOgk+GgTPSTg9tOI1N6WXvCNOntA6CoalFCKB5YGAJCkjACkFj2A27X3yh3o\n",
       "QD5oMbJW5oCdj8/K68irDiZX63hSKZlhBS/UFn/OFnj8ITylLqSYFrthXUxmuXI3sERW+5DyhU6C\n",
       "jw6ChxQ8vUGwWvx+L1xctOiqRn+dUIYHlgYI4FPGAaJFB6DJEfjGK3eoA7k7+TYCg+x8fFayqx9X\n",
       "rS3dQuXz4jxf80ahti/JVB1X+vrBG6UujNQu3SN3Ivmu18NkXQUpPToJPtgEDxm4NZiQe4JsPLM5\n",
       "e0DoKudcIKEKr6w9ECCkjAJEix5Aq6/AN165Qx3I6lIHuU7tfHxOzgxfkwcFrmvG3z4oyrIHGXEd\n",
       "N52pft+KzgSUAZ0En9lcHlJwQzy2BJaadAElXCRU4VVLIgRgRtkBCBZ9gLtrLhiR45At+W4QCqyy\n",
       "8/GdEvo2PVAF/njG2DeMQdX1TSNw4HUjYT2P7V7vYpVLuYjVyohOgt+HykMKTv2ePLDUpKsiv0qo\n",
       "wqu+6gcAkpQRgGjRB+gfCUU3opNDPbpd5sBagVV2Pr5LjgYlU2pw1mOMrRJT11+wAC6Oczgpluhn\n",
       "K/ledGatjOgk+GCTeEjADfmyOrDUoKuYLoCEKHgVQJIyAhAtzNu373ciujh0c5o9MaytwEo7H99L\n",
       "yjJcs2/HfvYZ2LnL4RqqLhtkNLmNp95FqldCr1OBDygjOgk+2EQPKfhI/jF4YKlBV1GRQEIUvAog\n",
       "SRkBiBbjE7+aryK6OHQ3AYZr2QissvPxeWme+aH1X9D0jZ4KLH1AFw3vcYDb7WsV4uM75X9V206S\n",
       "miEk2QAAAABJRU5ErkJggg==\n",
       "\" style=\"display:inline;vertical-align:middle;\" /></a><br>"
      ],
      "text/plain": [
       "<IPython.core.display.HTML object>"
      ]
     },
     "metadata": {},
     "output_type": "display_data"
    }
   ],
   "source": [
    "inconsistent_dot_prod = Lambda((x_1_to_n, y_1_to_n), Add(ExprRange(a, Mult(IndexedVar(x, a),\n",
    "                                                                           IndexedVar(y, a)), one, m)))"
   ]
  },
  {
   "cell_type": "markdown",
   "metadata": {},
   "source": [
    "## Relabeling with an indeterminant number of parameters (alpha conversion)\n",
    "\n",
    "When a parameter variable occurs in the **Lambda** body only within ranges that match the range of the parameter entry, relabeling is straightforward.  For example, with"
   ]
  },
  {
   "cell_type": "code",
   "execution_count": 10,
   "metadata": {},
   "outputs": [
    {
     "data": {
      "text/html": [
       "<a class=\"ProveItLink\" href=\"__pv_it/lambda_indeterminate_params/3b36687bec8951fa4d45f43ed7b5d9446552ba350/expr.ipynb\"><img src=\"data:image/png;base64,iVBORw0KGgoAAAANSUhEUgAAAnIAAAAVCAMAAAD1nvNsAAAANlBMVEX///8WFhYNDQ3MzMxUVFRE\n",
       "RES6uroiIiIQEBCYmJhmZmYyMjLu7u52dnaqqqqIiIjc3NwAAACzeusSAAAAAXRSTlMAQObYZgAA\n",
       "AAlwSFlzAAAOxAAADsQBlSsOGwAABLBJREFUaN7lWtsSqyoMdW8VBRHw/3/2oC2aQELjpXvmTHlo\n",
       "WpNmJYtwEW2a2ELzoy1cMQ7fxgv/KKF/57egzrtfLTnl5baJpTtsifC+DnC+3a2QFFaSbm5+tnkt\n",
       "tUws3WNLgPd1gPPtfoWksF7STs0Pt8nK7BJLd9n6iPd1gPPtiQpJYW3S6F8uOW1kdomlu2zleEoz\n",
       "QI8lpM46fDwkGNYmx+an20jPCj7bMI+ZfArP5ZuvpwFKhI/L6OMhwbCidNNvl9y0D2HUVQ5PFoml\n",
       "+2xNutq/jwPcL7lnKiSFFaV5bw2t951t55m+N6lrZTuCDy6s3yZw251WytAZB/N+ZUDX8a/Ekoyt\n",
       "GuLcVfv3cYD7JXciJAHPUabqi6Pad74xA72VqWplu6EPLubGrTO4Xk4rJY11oCe6yFzPjFEpHwyi\n",
       "nqr9+zjA/ZI7EZKA5yiHV9HqsNrZpiO3inWtbP/4wUXrXsl0/VmlpPEO3EiXXON7sNK+WZKxVUV0\n",
       "Y7V/Hwe4X3LykCQ8Rzmql+1axml82HykQK2d5647fyeOAKgZOe4s11zXjwIfKK/BQ+9ZXPt4/Ptn\n",
       "QG1Z1LH5VUjybNllquez45kNZBw30WVAPOEUALI4EqIRaguRNKSCXiprmucoR8Dr2671npg8k9Zs\n",
       "sV27a6kOOBWHUIyoJfF35VX43UF+nZvl1KQaruQqbA2mno+qz3IEQJYxAYAs1NOzHBFS0YigGJ6j\n",
       "HNxhHKdOuw0WNxBd9tauYz+ULkW9vgOQY2wdKX6k8XflVXjgHRM80CXXojPVbGH9yBafT2bMrGIi\n",
       "wmlO8mieWlg/d6CI5yj7DcD2qunGbfsH9W/vSKttyk+0vJEujI4j32RnE32XPnJ8qLwGDx1A8Piz\n",
       "p0tuQgdzvYeSYStrRD4Ij+xfAuDImANAFrp/uOSokDCHdFA0z1G+bl7d0loTHSoHSUxLdKaNsANc\n",
       "wMFSzn6BLqxWY9yDjgFZNqZbx5Em8LEyhy+/UJeSAwQOjgCitnIuB27xWbaK8V7kg/HI/iUB3hlX\n",
       "AIBFBpAhVDmShpRzSAXF8Rxlu4VqjfeRZu3wLDgMltDG/1ighUs58aV0Eaxfk1xsg7zYbvZmCQQ+\n",
       "VhbwJWgBfzjA4NFA0Tf7eFZpBygZtvIJtsynxMv7lwRIGfMAwCJPKEOgODInQ8o5pILieF7lQEzZ\n",
       "O0WO8hrS8YGTrG2UUefBNhcazFMF/628Dv9ygMCD8E4ksVRli6jcLJ8Cr1j2KIDQ2w8Ah0WR0P0H\n",
       "XkRIiEMmKJLnTVIPtneKqLdWQvxDCJyWOBwkbl1jEsY0LTRY47Sjo/GB8ho8cIDApY+s0WNpUcmR\n",
       "+RR4xTN0AuDImAMAFkVC9x/rEyEhDpmgSJ5fsg8sidZTQ65tW2MZLfEEhHCxbGPHtdBgiLKbGfxD\n",
       "eREeOIDgQXy2nFiqsJXNDUQ+ErwC4MiYAwAW4eph+bmQIIdcUBTPb2nzKMM8LfPWVVSnjsvaOG3R\n",
       "KCO1bkj9rJGB094oDv9QXoQ/HCDwXvyGdWKpwlZWiEQ+ErwC4MiYAwAW/TdeRS9CQhwyQZE8Jxm+\n",
       "8/by/6D5Ex2UWLrDlgjv6wDn290KSWFt8j/bB01knI6ZkwAAAABJRU5ErkJggg==\n",
       "\" style=\"display:inline;vertical-align:middle;\" /></a>"
      ],
      "text/plain": [
       "(x_{1}, x_{2}, ..., x_{n}, y_{1}, y_{2}, ..., y_{n}) -> ((x_{1} * y_{1}) +  (x_{2} * y_{2}) +  ... +  (x_{n} * y_{n}))"
      ]
     },
     "metadata": {},
     "output_type": "display_data"
    }
   ],
   "source": [
    "dot_prod_lambda"
   ]
  },
  {
   "cell_type": "markdown",
   "metadata": {},
   "source": [
    "both $x$ and $y$ have consistent $1$ to $n$ ranges in the body and the parameters.  So we can relabel with"
   ]
  },
  {
   "cell_type": "code",
   "execution_count": 11,
   "metadata": {},
   "outputs": [
    {
     "data": {
      "text/html": [
       "<strong id=\"dot_prod_lambda_relabeled\">dot_prod_lambda_relabeled:</strong> <a class=\"ProveItLink\" href=\"__pv_it/lambda_indeterminate_params/b28c9816d0efdad74e5abbd55edcdfb29e8a7ee90/expr.ipynb\"><img src=\"data:image/png;base64,iVBORw0KGgoAAAANSUhEUgAAAmUAAAAVCAMAAAAw7Gn9AAAANlBMVEX///8WFhYNDQ3MzMxUVFRE\n",
       "RES6uroiIiIQEBCYmJhmZmYyMjLu7u52dnaqqqqIiIjc3NwAAACzeusSAAAAAXRSTlMAQObYZgAA\n",
       "AAlwSFlzAAAOxAAADsQBlSsOGwAABMFJREFUaN7lWtmSozAMZJfbGB///7NrCMKX5ItlKlXjF2VG\n",
       "oltuC9mQdJ0Zqvt1Q7UEq3fZ1I9M5odwI82k+H1VNsnyWNCnXacitpfh68ejuoCcwIr9C1adj8tc\n",
       "73oALdfS60GfUp0wvgK2l+HrR3ldoApDTh/Lt+/oLhtrcbVDb7xQws23bXxZtpfhG27O7aHCkNNp\n",
       "2fodVaZFi6sdei0sXdCnQieEL2SbVoLmJfj8DvcgIVxhyOm0y5cclDRvcD2BXnBUGZx5l8A28gVs\n",
       "IjxKvQyf3x/bE6IUhpyMFV+yYe5zi+sJ9HbfrJ5Ewm8LoE+FTijftiYX9WX4+iqrqgtcYcjJWAZn\n",
       "PDXsUpHJpb1Fj7ZphG2QchC1rrJDA379PsAnXyP/L9CnUCeSz7Khi/oyfH2VVSREKQw5GQsFNy1m\n",
       "pxipvSntLWqqaQSuzSGRa1XnKjvGEtevG15XYiRuyEIlcL51Sy7qy/D1VVaeEKkw5GTs/ClBvhyo\n",
       "jNib0t6ipc4giHMei6xzlelHXC8WvMo6OTqaXvqU6ZTgE0tyUV+Gr6+y8oRIhSEnY5fp0yD1CX22\n",
       "Sb6Ge7Lj5fs+DPU9zcVH/Sel3hH229VKfUP7o9fw6e+f2RtaT/YIO3mW1Mncz8mp3GzspFiW0wwB\n",
       "DSk0Au8FZOCT+hQmhHSwtMKQk7EX2jKe1x1/9FKGpet4WVtTcxDQcc5jMg/EMfvtaqS+r4/2cKKX\n",
       "TZuTZlBltE4zS05lSjebGD6YbQzvBUz/u5fFCcXCsrTCkJOxn87I9UGyXsUn5rBqrfcgVLqvPhu5\n",
       "+NQLF3Z23pD9drVRu9C+rjNeZb33itPfMdM6paYSxOIbVInQuBwZ+NYdM7tuKYUhJ2NH+UE7Aoet\n",
       "E8px87tGrHflMLeivYsjCGw1dznz3yEciJ8zQMR+u9qonesd4kO7Ea+yzTvFjtK1uE6B5vFUPDZ0\n",
       "UWN4O1sC3gvIwNdXGZKQLx+akhcCORl7PW4eoMK0QOaIYzdez3u9Hrm98QfkXxaBr9OR0PHo4lwx\n",
       "mH+NrMPYHRdJncoGrneJvWf1bkq8L3MexymdghFPxWdDFxWDx99DxXLk4VNrVZpQKB+SUhDivATq\n",
       "rzUd5N6rQfauOPMMrcj1mku457X7M4u37CvIIigujwlqHjDs8JVGyO64aGokifB6j/jw44fE3W8f\n",
       "lz5JnYIeGk8lZgsXFYOH2ZLwTkAGHlGHdXUJhfIhKQUhkNNh57gp3+IIbGtS8KAvSjYuJGiQ9mSI\n",
       "uBPsD6ld4k4VPkeAPimdyAzugJAt2tIQeDVmZmkDsvDVOyaSkCcfPtwQyOm0yLfGtzjYA6wy8UpR\n",
       "3rg1IM+bJn/Gup5w0+xPqV3i4m+DvS99m6ssZIu+nI7h7WypIrMBWfj8W/N8Qp58xKsEJ8T/mcGo\n",
       "KHG4xO6fvu8ZJ7xxM42DlD7vFNETGCT7U2qX2ICV6g/60Drlq6yALYS3syU72R1QPpmKESXkykek\n",
       "5IRATpflQYpq3/R+rhC2los+BuWNBhI0HedKua+4O8H+lNolRmqGrNaxy+hEaW4DCthCeDtbqm/Y\n",
       "gPGN32SHCXnyEQ3RCQlvTvXOD3q/esiKdQF92nUqYnsZvn48qgvI6bT/ALz9TfrRmWnnAAAAAElF\n",
       "TkSuQmCC\n",
       "\" style=\"display:inline;vertical-align:middle;\" /></a><br>"
      ],
      "text/plain": [
       "<IPython.core.display.HTML object>"
      ]
     },
     "metadata": {},
     "output_type": "display_data"
    }
   ],
   "source": [
    "dot_prod_lambda_relabeled = dot_prod_lambda.relabeled({x:a, y:b})"
   ]
  },
  {
   "cell_type": "code",
   "execution_count": 12,
   "metadata": {},
   "outputs": [],
   "source": [
    "assert dot_prod_lambda_relabeled == dot_prod_lambda"
   ]
  },
  {
   "cell_type": "markdown",
   "metadata": {},
   "source": [
    "When they do not match, a `DisallowedParameterRelabeling` exception is raised whenever relabeling is attempted.  The attempt may be direct:"
   ]
  },
  {
   "cell_type": "code",
   "execution_count": 13,
   "metadata": {},
   "outputs": [
    {
     "data": {
      "text/html": [
       "<a class=\"ProveItLink\" href=\"__pv_it/lambda_indeterminate_params/07f72890306d20e60357c0c6e1a670bfc70fb1930/expr.ipynb\"><img src=\"data:image/png;base64,iVBORw0KGgoAAAANSUhEUgAAAm4AAAAVCAMAAADIDJIKAAAANlBMVEX///8WFhYNDQ3MzMxUVFRE\n",
       "RES6uroiIiIQEBCYmJhmZmYyMjLu7u52dnaqqqqIiIjc3NwAAACzeusSAAAAAXRSTlMAQObYZgAA\n",
       "AAlwSFlzAAAOxAAADsQBlSsOGwAABO1JREFUaN7lWtuW2yAMdOu7jQH//88WSLhKgKDxNueUF7wr\n",
       "ZUaMZIGdDIMacvjfhuxyls+yyZ9YzI/jyhRN8P+u3BZB93XydOtEY3sYvnl8qCxsdHbm179PP5u3\n",
       "tcfWjS126sedPFSdED4K28PwzaOxLPJZstG9ZnZ+Rb85jz5bL/bJiDKe6UUPX53tYfj2m/T8WAZt\n",
       "dGY+9q8ot5v32Xqxd2IJO3kadIJ8gG3ZczzPwFe3vL+Ip5YlG52Zt+84TN2sy9aPvWVARXxC3sBF\n",
       "F1/KxtPz1sPw1a2zP556lmx0aubfsZdea5+tH/v0t2+kE486hZOnQSeM79zL6X0Yvrnc2suikCUb\n",
       "nZoPeyKU0yVkLsqikfhAXIQ4JyEm3m4jHSrQz1+Tu4yFiv5y8tB0yvIFbGh6H4ZvLreGeOpZstGp\n",
       "2VbesqlNZM40xKKR2GuLEOxW50h2y1Yb6dCLf34/M+XGZ6xtkHTK8+1nOb0PwzeXGz0eQpZsdGpe\n",
       "XwXJNo1/4A2xaCTmvAzBzYI20WojKYl/nm+ZchvE7NVdeXxBkALl41s5vQ/DN5cbPR5KBjc3b8ur\n",
       "ed6GxLRQlt4rgZFd1zR1dLkQHzMbxvtCyL2tk9tjR2O83eXvX2s07ntxp9wlvsjqpO7u0lo822Eo\n",
       "ts1M05CFj1eLwIcONfiSPMR4cj2trHIUnZrfuNtsPqz/GIVIqjkwHp1tLoDAhlnQoh6lIbm3dXK7\n",
       "z6e7e667LacPMy23vE7rUVrLUmk/ED5ZLYQPHZZPdzcYT0bco6xyFJ2aX12T3Zpuf1chX5MS9kbN\n",
       "LO+x/fwU4mfe2RymH/M1Z+vkDrAjgddMuY3hS9NkMy3qVFpL6opvXhSlUTlq8J2baS1tdZWj6NQ8\n",
       "ixeu9p7OgcvAzGyteOPO3Bop2xobEIhjV/f9Edk14uuckJIHNs9N2lEBdkis/poz5XaGx91ZRBe4\n",
       "TonwcC0RG5peCB8ojcOHDjX45nJD4jHqTYPY57G0asTPRqfm90OqhueqMx6BSm5jjoz2DYuzUi4C\n",
       "CLYvOir9xOPtk/rPfAwYeWh7c5MYAXZIHD7qqyaff+/m3jAUdEoGXEvMhqYXg8ffZUE56vAlnYjx\n",
       "WPXU/8VUWDXmZ6NT8/jO7iSuUU5iDFVaVwaN6hMssgb7N7ywPh5CMqFX+mq7nuGy35qk5KHNclOo\n",
       "AXZErMyZA8kV3bvjGl+gOiVdFa4FsqXpxeCd0jl471CDL+lEi8eqN8LaRlUO/Wx0el7H7F47cGS5\n",
       "0r0m4IQ9DfOZhD89QnuJ3HFTqKFTSCyJzxxOnpJO2QisA2ADux0CL+fKKp1DHb51M0Xi0eqNW3ie\n",
       "xQfws9GZGfmu2qmElLFU7lLmrLBXYE+puvKPYcTtBXLPTfpxzFUipn4F7eQp6VQtN8AGvhKH8IHS\n",
       "mWpzDnX46lv4ejxaPTHr8+JQfFwDfja61zzLnEpMIDfUOI4Hy1hhi0V85G1uHj7i9jy556ZQQ6eQ\n",
       "WM7URDh58jpVy43ClsIHSud6m3WgL6ZhgHjud+dSB/7Sr2mAn43uPbMkWHmd92VShSR1u/UYMlYw\n",
       "MJ9FnyDFtaP2Ernnpv06tkQ8k78Tc/LkdcoJ7xwobCl8oHSmiziH+Ymfj6fxGPX0U7s6ypU2eeBn\n",
       "o7OzfObHx988REOCnDzdOtHYHoZvHh8qCxudmf8AbU1PKPxwyU8AAAAASUVORK5CYII=\n",
       "\" style=\"display:inline;vertical-align:middle;\" /></a>"
      ],
      "text/plain": [
       "(a_{1}, a_{2}, ..., a_{n}, b_{1}, b_{2}, ..., b_{n}) -> ((a_{1} * b_{1}) +  (a_{2} * b_{2}) +  ... +  (a_{m} * b_{m}))"
      ]
     },
     "metadata": {},
     "output_type": "display_data"
    }
   ],
   "source": [
    "inconsistent_dot_prod.relabeled({x:a, y:b})"
   ]
  },
  {
   "cell_type": "code",
   "execution_count": 14,
   "metadata": {},
   "outputs": [
    {
     "data": {
      "text/html": [
       "<a class=\"ProveItLink\" href=\"__pv_it/lambda_indeterminate_params/07f72890306d20e60357c0c6e1a670bfc70fb1930/expr.ipynb\"><img src=\"data:image/png;base64,iVBORw0KGgoAAAANSUhEUgAAAm4AAAAVCAMAAADIDJIKAAAANlBMVEX///8WFhYNDQ3MzMxUVFRE\n",
       "RES6uroiIiIQEBCYmJhmZmYyMjLu7u52dnaqqqqIiIjc3NwAAACzeusSAAAAAXRSTlMAQObYZgAA\n",
       "AAlwSFlzAAAOxAAADsQBlSsOGwAABO1JREFUaN7lWtuW2yAMdOu7jQH//88WSLhKgKDxNueUF7wr\n",
       "ZUaMZIGdDIMacvjfhuxyls+yyZ9YzI/jyhRN8P+u3BZB93XydOtEY3sYvnl8qCxsdHbm179PP5u3\n",
       "tcfWjS126sedPFSdED4K28PwzaOxLPJZstG9ZnZ+Rb85jz5bL/bJiDKe6UUPX53tYfj2m/T8WAZt\n",
       "dGY+9q8ot5v32Xqxd2IJO3kadIJ8gG3ZczzPwFe3vL+Ip5YlG52Zt+84TN2sy9aPvWVARXxC3sBF\n",
       "F1/KxtPz1sPw1a2zP556lmx0aubfsZdea5+tH/v0t2+kE486hZOnQSeM79zL6X0Yvrnc2suikCUb\n",
       "nZoPeyKU0yVkLsqikfhAXIQ4JyEm3m4jHSrQz1+Tu4yFiv5y8tB0yvIFbGh6H4ZvLreGeOpZstGp\n",
       "2VbesqlNZM40xKKR2GuLEOxW50h2y1Yb6dCLf34/M+XGZ6xtkHTK8+1nOb0PwzeXGz0eQpZsdGpe\n",
       "XwXJNo1/4A2xaCTmvAzBzYI20WojKYl/nm+ZchvE7NVdeXxBkALl41s5vQ/DN5cbPR5KBjc3b8ur\n",
       "ed6GxLRQlt4rgZFd1zR1dLkQHzMbxvtCyL2tk9tjR2O83eXvX2s07ntxp9wlvsjqpO7u0lo822Eo\n",
       "ts1M05CFj1eLwIcONfiSPMR4cj2trHIUnZrfuNtsPqz/GIVIqjkwHp1tLoDAhlnQoh6lIbm3dXK7\n",
       "z6e7e667LacPMy23vE7rUVrLUmk/ED5ZLYQPHZZPdzcYT0bco6xyFJ2aX12T3Zpuf1chX5MS9kbN\n",
       "LO+x/fwU4mfe2RymH/M1Z+vkDrAjgddMuY3hS9NkMy3qVFpL6opvXhSlUTlq8J2baS1tdZWj6NQ8\n",
       "ixeu9p7OgcvAzGyteOPO3Bop2xobEIhjV/f9Edk14uuckJIHNs9N2lEBdkis/poz5XaGx91ZRBe4\n",
       "TonwcC0RG5peCB8ojcOHDjX45nJD4jHqTYPY57G0asTPRqfm90OqhueqMx6BSm5jjoz2DYuzUi4C\n",
       "CLYvOir9xOPtk/rPfAwYeWh7c5MYAXZIHD7qqyaff+/m3jAUdEoGXEvMhqYXg8ffZUE56vAlnYjx\n",
       "WPXU/8VUWDXmZ6NT8/jO7iSuUU5iDFVaVwaN6hMssgb7N7ywPh5CMqFX+mq7nuGy35qk5KHNclOo\n",
       "AXZErMyZA8kV3bvjGl+gOiVdFa4FsqXpxeCd0jl471CDL+lEi8eqN8LaRlUO/Wx0el7H7F47cGS5\n",
       "0r0m4IQ9DfOZhD89QnuJ3HFTqKFTSCyJzxxOnpJO2QisA2ADux0CL+fKKp1DHb51M0Xi0eqNW3ie\n",
       "xQfws9GZGfmu2qmElLFU7lLmrLBXYE+puvKPYcTtBXLPTfpxzFUipn4F7eQp6VQtN8AGvhKH8IHS\n",
       "mWpzDnX46lv4ejxaPTHr8+JQfFwDfja61zzLnEpMIDfUOI4Hy1hhi0V85G1uHj7i9jy556ZQQ6eQ\n",
       "WM7URDh58jpVy43ClsIHSud6m3WgL6ZhgHjud+dSB/7Sr2mAn43uPbMkWHmd92VShSR1u/UYMlYw\n",
       "MJ9FnyDFtaP2Ernnpv06tkQ8k78Tc/LkdcoJ7xwobCl8oHSmiziH+Ymfj6fxGPX0U7s6ypU2eeBn\n",
       "o7OzfObHx988REOCnDzdOtHYHoZvHh8qCxudmf8AbU1PKPxwyU8AAAAASUVORK5CYII=\n",
       "\" style=\"display:inline;vertical-align:middle;\" /></a>"
      ],
      "text/plain": [
       "(a_{1}, a_{2}, ..., a_{n}, b_{1}, b_{2}, ..., b_{n}) -> ((a_{1} * b_{1}) +  (a_{2} * b_{2}) +  ... +  (a_{m} * b_{m}))"
      ]
     },
     "metadata": {},
     "output_type": "display_data"
    }
   ],
   "source": [
    "# from proveit import ParameterRelabelingError\n",
    "# try:\n",
    "#     inconsistent_dot_prod.relabeled({x:a, y:b})\n",
    "#     assert False, \"Expected an ParameterRelabelingError error.\"\n",
    "# except ParameterRelabelingError as e:\n",
    "#     print(\"Expected error:\", e)\n",
    "inconsistent_dot_prod.relabeled({x:a, y:b})"
   ]
  },
  {
   "cell_type": "markdown",
   "metadata": {},
   "source": [
    "Or relabeling may be indirect when the system tries to automaticically avoid a variable collision:"
   ]
  },
  {
   "cell_type": "code",
   "execution_count": 15,
   "metadata": {},
   "outputs": [
    {
     "data": {
      "text/html": [
       "<strong id=\"try_this\">try_this:</strong> <a class=\"ProveItLink\" href=\"__pv_it/lambda_indeterminate_params/48551601f6e3121251b3d3930b9757c6bbe42c270/expr.ipynb\"><img src=\"data:image/png;base64,iVBORw0KGgoAAAANSUhEUgAAAvkAAAAVCAMAAADrewGaAAAANlBMVEX///8WFhYNDQ2YmJjMzMzc\n",
       "3NyIiIhUVFR2dna6urqqqqpmZmYyMjIiIiIQEBBERETu7u4AAADePYf3AAAAAXRSTlMAQObYZgAA\n",
       "AAlwSFlzAAAOxAAADsQBlSsOGwAABcpJREFUaN7lW+mapCgQZFcuwQPf/2VH0FQSEwWrHHe/4sdk\n",
       "T5NFBEHIVTZj5UX2PV9+EuxHi7iTLN7iIV4W4D/QLj0Uu5PLim7hETC/6vxWVkwU5jm1ini8Blxf\n",
       "nnYU0N7oey+7cejrnG80+9kim9JMUCnEcpG/x+M14PryDFWKNsTFy52tcr7r2A+XzpXlgUoQS0X+\n",
       "Go/XgOvLU1Qp2mtcvDyZKufb5ped3xSODqgEcTLP8mibDIG/Dny99fhbVCnaawxebqfcUywF5fyB\n",
       "/XQZXIlWm0przIv8JR4m3YC/Bny9t/lrVCnaSwxe1vHuCmEbSzjfdL/t/K4p0QpUgqj753iQdnoN\n",
       "uN75z1GlaC8xeLlTUipYZzB4Tzjfric3N3/Kca3pFeq8tmz3d9GEk2GVdKqyrhQ904JWrEArUAki\n",
       "ErlOpwwTrU7t9BpwvfO/QLVg1IH2EsPdzjRv+t0kqPEz49H58OzMc5xUkln6QT2vLdspXzShmfHL\n",
       "ZDNV1hUeanItNB3tdawVnmESket0yjBpulM7vQZc7/wvUC0YdaC9RO9lE3ZXg6RGk8nRpc7vl0ev\n",
       "ER7CMUUecM5ry44kF01ws2ihxrq6spJvwQy087FWq0oQschVOuWYmOHUTq8B1zv/c6olow60l+i9\n",
       "bMMzMK0rzr//9KhMU5s4f1h+4b8Ds/D0u2QeQLVOa6Xqzy4IgFraVpX8Pyl+VHcTPW494bXNKGda\n",
       "rSpBxCLPsxvVSdSLLSfXz42HDeDDEIJKCJQAY4koYJRxAXy6jBdT3ZleG4FSivDTFEfv5V6HY7Uh\n",
       "57G2axntfBZBcCmJlQhqbejyvfP46XwS7gL4xCn8re42+tZC+vvcnI+0SpyPRWa9JTqZ9GLPofvZ\n",
       "nk+9FcCJRAQwymi/PeeTVBHTcyMQhKnxHOLovRygLFwo4dHk6GsLtNsJOPM65EKG6QnnrLV+JhQT\n",
       "v2W+DYCcQfyzLgcSf6u7jR61jsetp52PtUp2O1jkXCdNX9HPJDmzhSgBzkpEi3gBfHu3U6bRrTGL\n",
       "aS8xOH/ukBsacjQ7cTzhjoG3G1umhnCqiJtdyaHaxoFsRZsOsgnbzPOdTS4TRwX/pPhR3Y5eBR+3\n",
       "EIPP/x1ZgVajRBGLvIPRKiaF6CfiQdqpAjiSKAOMMi6A651fQzWMhWKyGfmZUkQe0F6i97I/OIz7\n",
       "enF5n7/cCpmJOzvzaU08ZrDlSmrXq9p977ZvzbI/xE24pvWKDALvAK3ys0FD4KM6uCg+AaV+BS0g\n",
       "8OgO7kIrdIeWiLx/iFTxMJMd+ol5kHaqAs7cpRMiXgKfifsxVRgL5W97TghTefieOdxqKp17H0Fz\n",
       "wvl8sZGVch7txuClpO8dUTt/xkW18daM+OHYhHDSa7cuhFsrM3Npl1uwBB/VAfpeeQQ9wO8tYPA5\n",
       "oS3RivcoZkTOqJhmHft55JHaqQp4kygLHGVcAJ+J+ylVGAt+eP7oMYvzgPYSdVt1xb2eRHh+E8UM\n",
       "paCA+z5TsuGgkpSMTlZxgu7y+Gvdhl4Pv7SAwEXhaRlUqnkR3OTbTvt54HHYdNQAi9FdAO8Zl8DV\n",
       "u50aqn4s+ICOmyThQx7QXuMt51PvbG0jQj2JYv6AELla4vsI4pLHP72W8TjBd9ENhsSP6nb0Kvio\n",
       "BQRe+r5e8obUB84n+3ngcXgNrAI4kigDHGVcAl9fXHxA1Y+FHP2pg/Ezwoe85A3CW85no8iOmZPU\n",
       "hMI5ty5Te1yxqCamMDMYHif0c1Saxt/rdvQ6+KiFGFwUfzcGKo3iQ+dT/SzhUQwcSZQBjjLE7S8H\n",
       "v0J1Wufz+ZxqzwineUAb4j3nu7TzQneTDo6hvDVMvuRqD4VKav0xReoGJZhG2jaDv9ft6HXwewsI\n",
       "vNzHoJIrtcrei+R5IPpZwqMYOJIoAxxljE/83WAx1TAW/hZNKOlOCB/y0nmo0vnw14vimT9J+x8U\n",
       "WTHuoNITahXxeA24vjztKKC9RtkP7R9dPlv7coHg4gAAAABJRU5ErkJggg==\n",
       "\" style=\"display:inline;vertical-align:middle;\" /></a><br>"
      ],
      "text/plain": [
       "<IPython.core.display.HTML object>"
      ]
     },
     "metadata": {},
     "output_type": "display_data"
    }
   ],
   "source": [
    "try_this = Lambda(b, Lambda((x_1_to_n, y_1_to_n), Add(ExprRange(a, Mult(b, IndexedVar(x, a),\n",
    "                                                                        IndexedVar(y, a)), one, m))))"
   ]
  },
  {
   "cell_type": "code",
   "execution_count": 16,
   "metadata": {},
   "outputs": [
    {
     "data": {
      "text/html": [
       "<a class=\"ProveItLink\" href=\"__pv_it/lambda_indeterminate_params/496bb39b4bc6f5e3c99309c68c6eb82265194d2f0/expr.ipynb\"><img src=\"data:image/png;base64,iVBORw0KGgoAAAANSUhEUgAAAxoAAAAWCAMAAABwtBqGAAAANlBMVEX///8WFhYNDQ3MzMxUVFRE\n",
       "RES6uroiIiIQEBCYmJhmZmYyMjLu7u52dnaqqqqIiIjc3NwAAACzeusSAAAAAXRSTlMAQObYZgAA\n",
       "AAlwSFlzAAAOxAAADsQBlSsOGwAABadJREFUeNrtW9uWrCgMdQZQVAT8/58dsAq5BQmWWr3WVB46\n",
       "fQ6p9M5OCJG2u86I7n5yJPqMsf4zuPTfIugP+EXnTslf9R9Kr/C2jswnSMXhegBJC0FdO5ePJ9pp\n",
       "ufyKv5ajEWvpyHyGVAyuR5DgCWqQLxSmi+Olxfwr/arMAmfnyHyK1Dquh5BgCWqQrxSmi2PT0/ir\n",
       "/KqME87OkfkUqRmufiwg+jqQ6jDzJeRwHJvmv8JHCC90RRU/KfJEP45LplM//ytAquPTt5DDcRgt\n",
       "f/MU6qD1LSyqARl1S0fmc6TO43GBPYakBqR5a3ypMF0cRk/ws46mi9K46BpMu88dCrUdtII2L+IG\n",
       "3IKHxf/HEC1E/3JkOi2UooIsi7yARBjZQo8LrBnJXUCat8YdHCKqxMVh9AxOdD03gwJbMc9WDabI\n",
       "ofPQ4dJJe9KOa/MiSkoexrmwNSSDW84rvWbioqqbhgtIhJGN83GBtSK5DUjz1riDQ0SVuDiMHqDd\n",
       "KLjFVUfTZors24cOiXwtUda6iJKiB8kLW6NTzCfDkfnWo7YJEB0dPyexgEzy4wJrRHIfkOatcQOH\n",
       "mCpxcRjNe+iiZdtQA+ZeucEUeclz6NCUIbcc2i8i7VTBolgWSttPstB9zKdvMf/+M0SyrjuFjsy3\n",
       "JjacEKNY57aY/QcKgXtc0waG803RBFGK5BogIck1IEcZb0HeDj39XDHHURxGg1uDs81Xj3mix5si\n",
       "rwgqDnt7ZJKVdESpobg4nT3Kdg/paV06NfrZQ022RpclYJgaYw4+AAbeV5p1CcklQEKS+6tPjes4\n",
       "zD5XyHEUh9HQQCVW5WexrDcXTU926oOfDXYHC0dtAcihuGgp0nDwlRbm3UeJGwpbg4S/7EoGqi0L\n",
       "ZiAQoiHmIt9g4CkFhbEEiQSXTZDkGpCzA9UpDs/lOIrDaKagH2Nh0bmTOmhRAkbkTYMmgtkgoqs5\n",
       "BK0ZdV98OvLFUbisofaqN/IeptHE7jrNyApbYw5hOjJfWrC+o3x77qulFeI7FSjwEBdYYG1ICtks\n",
       "AfEk14E0b40POKxJkmPaqZGRhFCjF2gatLCkOYCmIA+FGS8w9U3Ez3WIb45+NjBhTtT2kTGsEHDR\n",
       "sDnEQzIKi/Mgxt4+13EdXyXaJhYldCrc/Nm1lYjJpLWv3jtCfOe9Lg+8y+7e0wJrRAJm8wDIm+Q6\n",
       "kHr+P0ReqJtDJl2Oqb0Ey+/fCZQIQdVCNFUkzMMwiGPToInstvuAB3wzwOdQ4DBo3Lu1oIuaVh1V\n",
       "CLRoIhPxj0FhcR60UDZ17i5wKMywS1Q7jsyXFpNSZu+M9Rt5kO/cKA88w5UWWCMSOJtlII7kOpAD\n",
       "8i9BntdNdBiAAbgck2BnuzisHrZPE+ZEF8ds+WLhwNQ3EYmYY5xNyWHcuEOPy5zMt8CidpeqGCix\n",
       "0csDVf6hTCOf6AcS6/INIoJvaCcmgWe4sjmmhgSVzSKQneQ6kNaB6jyH0GFQCMDmmPDgycbFsenq\n",
       "m3N7HhAXtHsTwVzm1mzixr34kASXSRHli9qEpTUWym4UeOC2mUzb7SH6Vbfo7bSTUtgaYOAZruwl\n",
       "vU+QEPBcB0muA6leDV6GHDoMCgHYHCtmj8dXnpP3Q5nGpUrU+8DeRATq9/VVk6BxO+vBaLokRZQv\n",
       "akYImQQSijcKPKxb55Jk84ZNiyOT6au3BhQ4Btd5JJqJYyCeZM266+U88uwwKAWwvo3NQ/cUEvrW\n",
       "guFShdgZexPBlCPCJmjczlqOanqNg3qZ10VFrvwiX61goXgj76G3Z7FaxrYkOTIFu3prQIFjcJ1G\n",
       "4rNZAuJJZnf8qep5DrPDoBDAlmN7x2ieUQTU2SqvZMkB3WVcE7lIwsb9TVENiXdknn/hEs03EtdJ\n",
       "JC3ZVPf8EfdZDrPDoJVQJLG+N1f36t5ELpKwcf9fpIHve+XybD4n2WFwSv4D5AlXvE/A1YAAAAAA\n",
       "SUVORK5CYII=\n",
       "\" style=\"display:inline;vertical-align:middle;\" /></a>"
      ],
      "text/plain": [
       "(_a_{1}, _a_{2}, ..., _a_{n}, y_{1}, y_{2}, ..., y_{n}) -> ((x * _a_{1} * y_{1}) +  (x * _a_{2} * y_{2}) +  ... +  (x * _a_{m} * y_{m}))"
      ]
     },
     "metadata": {},
     "output_type": "display_data"
    }
   ],
   "source": [
    "# try:\n",
    "#     try_this.apply(x) # SHOULD NOT BE ALLOWED!\n",
    "#     assert False, \"Expected an ParameterRelabelingError error.\"\n",
    "# except ParameterRelabelingError as e:\n",
    "#     print(\"Expected error:\", e)\n",
    "try_this.apply(x)"
   ]
  },
  {
   "cell_type": "markdown",
   "metadata": {},
   "source": [
    "It is, however, possible to perform an internal relabeling in such cases in the process of performing an lambda application.  We will show an example of this in the next section."
   ]
  },
  {
   "cell_type": "markdown",
   "metadata": {},
   "source": [
    "## Application with an indeterminant number of parameters (beta reduction)\n",
    "\n",
    "Starting with a simple case, let us call the `apply` method on our `dot_prod_labmda` example to perform beta reduction."
   ]
  },
  {
   "cell_type": "code",
   "execution_count": 17,
   "metadata": {},
   "outputs": [
    {
     "data": {
      "text/html": [
       "<a class=\"ProveItLink\" href=\"__pv_it/lambda_indeterminate_params/3b36687bec8951fa4d45f43ed7b5d9446552ba350/expr.ipynb\"><img src=\"data:image/png;base64,iVBORw0KGgoAAAANSUhEUgAAAnIAAAAVCAMAAAD1nvNsAAAANlBMVEX///8WFhYNDQ3MzMxUVFRE\n",
       "RES6uroiIiIQEBCYmJhmZmYyMjLu7u52dnaqqqqIiIjc3NwAAACzeusSAAAAAXRSTlMAQObYZgAA\n",
       "AAlwSFlzAAAOxAAADsQBlSsOGwAABLBJREFUaN7lWtsSqyoMdW8VBRHw/3/2oC2aQELjpXvmTHlo\n",
       "WpNmJYtwEW2a2ELzoy1cMQ7fxgv/KKF/57egzrtfLTnl5baJpTtsifC+DnC+3a2QFFaSbm5+tnkt\n",
       "tUws3WNLgPd1gPPtfoWksF7STs0Pt8nK7BJLd9n6iPd1gPPtiQpJYW3S6F8uOW1kdomlu2zleEoz\n",
       "QI8lpM46fDwkGNYmx+an20jPCj7bMI+ZfArP5ZuvpwFKhI/L6OMhwbCidNNvl9y0D2HUVQ5PFoml\n",
       "+2xNutq/jwPcL7lnKiSFFaV5bw2t951t55m+N6lrZTuCDy6s3yZw251WytAZB/N+ZUDX8a/Ekoyt\n",
       "GuLcVfv3cYD7JXciJAHPUabqi6Pad74xA72VqWplu6EPLubGrTO4Xk4rJY11oCe6yFzPjFEpHwyi\n",
       "nqr9+zjA/ZI7EZKA5yiHV9HqsNrZpiO3inWtbP/4wUXrXsl0/VmlpPEO3EiXXON7sNK+WZKxVUV0\n",
       "Y7V/Hwe4X3LykCQ8Rzmql+1axml82HykQK2d5647fyeOAKgZOe4s11zXjwIfKK/BQ+9ZXPt4/Ptn\n",
       "QG1Z1LH5VUjybNllquez45kNZBw30WVAPOEUALI4EqIRaguRNKSCXiprmucoR8Dr2671npg8k9Zs\n",
       "sV27a6kOOBWHUIyoJfF35VX43UF+nZvl1KQaruQqbA2mno+qz3IEQJYxAYAs1NOzHBFS0YigGJ6j\n",
       "HNxhHKdOuw0WNxBd9tauYz+ULkW9vgOQY2wdKX6k8XflVXjgHRM80CXXojPVbGH9yBafT2bMrGIi\n",
       "wmlO8mieWlg/d6CI5yj7DcD2qunGbfsH9W/vSKttyk+0vJEujI4j32RnE32XPnJ8qLwGDx1A8Piz\n",
       "p0tuQgdzvYeSYStrRD4Ij+xfAuDImANAFrp/uOSokDCHdFA0z1G+bl7d0loTHSoHSUxLdKaNsANc\n",
       "wMFSzn6BLqxWY9yDjgFZNqZbx5Em8LEyhy+/UJeSAwQOjgCitnIuB27xWbaK8V7kg/HI/iUB3hlX\n",
       "AIBFBpAhVDmShpRzSAXF8Rxlu4VqjfeRZu3wLDgMltDG/1ighUs58aV0Eaxfk1xsg7zYbvZmCQQ+\n",
       "VhbwJWgBfzjA4NFA0Tf7eFZpBygZtvIJtsynxMv7lwRIGfMAwCJPKEOgODInQ8o5pILieF7lQEzZ\n",
       "O0WO8hrS8YGTrG2UUefBNhcazFMF/628Dv9ygMCD8E4ksVRli6jcLJ8Cr1j2KIDQ2w8Ah0WR0P0H\n",
       "XkRIiEMmKJLnTVIPtneKqLdWQvxDCJyWOBwkbl1jEsY0LTRY47Sjo/GB8ho8cIDApY+s0WNpUcmR\n",
       "+RR4xTN0AuDImAMAFkVC9x/rEyEhDpmgSJ5fsg8sidZTQ65tW2MZLfEEhHCxbGPHtdBgiLKbGfxD\n",
       "eREeOIDgQXy2nFiqsJXNDUQ+ErwC4MiYAwAW4eph+bmQIIdcUBTPb2nzKMM8LfPWVVSnjsvaOG3R\n",
       "KCO1bkj9rJGB094oDv9QXoQ/HCDwXvyGdWKpwlZWiEQ+ErwC4MiYAwAW/TdeRS9CQhwyQZE8Jxm+\n",
       "8/by/6D5Ex2UWLrDlgjv6wDn290KSWFt8j/bB01knI6ZkwAAAABJRU5ErkJggg==\n",
       "\" style=\"display:inline;vertical-align:middle;\" /></a>"
      ],
      "text/plain": [
       "(x_{1}, x_{2}, ..., x_{n}, y_{1}, y_{2}, ..., y_{n}) -> ((x_{1} * y_{1}) +  (x_{2} * y_{2}) +  ... +  (x_{n} * y_{n}))"
      ]
     },
     "metadata": {},
     "output_type": "display_data"
    }
   ],
   "source": [
    "dot_prod_lambda"
   ]
  },
  {
   "cell_type": "markdown",
   "metadata": {},
   "source": [
    "Let's apply this to some operands for the simple case where they are composed of two expression ranges that have the same start and end indices as the corresponding parameters."
   ]
  },
  {
   "cell_type": "code",
   "execution_count": 18,
   "metadata": {},
   "outputs": [
    {
     "data": {
      "text/html": [
       "<strong id=\"operands\">operands:</strong> <a class=\"ProveItLink\" href=\"__pv_it/lambda_indeterminate_params/837d2ee104654eaa611666f03b6eb0a017a9f8050/expr.ipynb\"><img src=\"data:image/png;base64,iVBORw0KGgoAAAANSUhEUgAAAWsAAAAVBAMAAAByN9JOAAAAMFBMVEX////MzMxUVFRERES6uroi\n",
       "IiIQEBCYmJhmZmYyMjLu7u52dnaqqqqIiIjc3NwAAACW8nlqAAAAAXRSTlMAQObYZgAAAAlwSFlz\n",
       "AAAOxAAADsQBlSsOGwAAA51JREFUSMedV09IFFEY/3bX2dXZmcmLpw5KEP2Bcuuu7KE/J2G1JiQE\n",
       "PZSHOrjVZYMOQchueBnqIHhpyZMHc+keeikwEYc6RCEmiBCEpSCEQm3v37yZb4b3XFz4lpnfe7/f\n",
       "+82b733vDQBswjF+KpKjvGmFfRSPMxnbXjqGayWpzY/crKvoA3r1dXXTQMBeIdFVF+iP55daso1I\n",
       "8keRL+Gt1QCn9rIzNpMUscs6ccJTz1eZh+mBefaVcOAUYLHYgmtEkiBDOkJ0DmAL8vu4F0dmdOpz\n",
       "usYZHu30wb+LsdKbkB1rwTYiwfUApkjuqexVBbgIMC6yR0wwRyo69SpOO/xmKjyyEHGQPYT0vxZs\n",
       "IxKsRm3DPdmLTMBEHXr5+rNE0nMkW9eo44mzfDx0ncVy1EG6BOm9Fmwva2xPy/E8gNMAvZ1odI50\n",
       "aJKb8tS2KZPEFHIAYOyqasSnN+/6xPWUxvZbmUl8ZY0mRidIvkeTgYQ3cP7nZx8TBUSZJKZjtrt9\n",
       "hVo+cwEWRMGd1th+HJ0XgNTfuG2K5Dy1bcprXPbNf5goIMokMRKzPaRSu2IU4LeoZiMa2x/ke2O1\n",
       "3eiJ26aIpVn4hNdWvAHOHiIGEGWSuINttxdUavWFIqyJfhHSpOuOu+5QaLtbLh5WSp8xVde9ddd1\n",
       "+RNQJLWrWe9FMM19sA4RMYAok0TM9kO13BrAOUjYTsz2NWQ71xNfWQxpG9PaBmsX0h4mCogySeD3\n",
       "TTaoXyo54vmPeXSSvEdJsgIOLoAcsUraJKEGT5TriCggyiTRF4zHOp0E+AbJmsrc3icvKc8b+zS2\n",
       "H7GMIpEh46UaYOPROZIrBKqxTBS8bIMkZAMRBUSZJFi9WtwE84Bu7sO1WoldLXjiT96R9WB7D9it\n",
       "JMVsM4QWR9aLlqrtWm0Sv2uOsOKI5NmF5JG1/zWHC76AKJNEF0FOTbwog0ue1Gg2mx6/ons0+xum\n",
       "F7dJQpXAPLPEGkMSss2Rm/SS9kqR1znabB5g2xwxikKVywfjSN5VgNdPMFFAlEnCCE5olswNK5kl\n",
       "HwE1GuhYt4pOeCXZa1C92W3HVJH6oG6X3OYhjz75cGNJ5lwDN0bOS9GjlDxl8V4V9YmoGlNF6hXd\n",
       "Uaoqol/cz8uW+eSS9GON/co6sBX2yig/YpxCTBWpZzQfP5TJ2LMCCDWSajbEGmeVuv1hL1O5dXFj\n",
       "drLhCB5nMrbjH+OjTEmyozO1o6Jv6NV31E0bPP4DQbxN9A54VygAAAAASUVORK5CYII=\n",
       "\" style=\"display:inline;vertical-align:middle;\" /></a><br>"
      ],
      "text/plain": [
       "<IPython.core.display.HTML object>"
      ]
     },
     "metadata": {},
     "output_type": "display_data"
    }
   ],
   "source": [
    "operands = [ExprRange(a, a, one, n), ExprRange(a, Add(a, a), one, n)]"
   ]
  },
  {
   "cell_type": "code",
   "execution_count": 19,
   "metadata": {},
   "outputs": [
    {
     "data": {
      "text/html": [
       "<a class=\"ProveItLink\" href=\"__pv_it/lambda_indeterminate_params/1cc2570b393c90fd42c78ab950cbb40b139036a00/expr.ipynb\"><img src=\"data:image/png;base64,iVBORw0KGgoAAAANSUhEUgAAAZ4AAAAVBAMAAACEUpWTAAAAMFBMVEX////MzMxUVFRERES6uroi\n",
       "IiIQEBCYmJhmZmYyMjLu7u52dnaqqqqIiIjc3NwAAACW8nlqAAAAAXRSTlMAQObYZgAAAAlwSFlz\n",
       "AAAOxAAADsQBlSsOGwAABBtJREFUWMOVl0FIVEEYx79dd9d1d3158dRBCcoKKuuu7KH0JGi5IRG4\n",
       "h/JghywvCh2EkF3xstRB6NKSpy65eA+9KIiIjzpEIbUgQhCVghAKuc18M2/efPN2fNvAt7Lf973f\n",
       "/P/vzRtnAaAKdDhgGVUINtfrr1qud04r2iZsTJroxXLrqlHZsV0yICOkPwD0RsytD7CNIGjH3jzg\n",
       "TbDJor3sFzIVgMg9s51nWidE0MH6neLLNj/BgN/nrhtdmPkE9QDWsVlnKrt5zmUTpEqQuvha8/MW\n",
       "4M3csdEtMq9kkMH6dyF9qL4zoNMNK1m6UDDTUq4HsA0GCk5lH5zLJkhyX980PwVu1vMT8+4mZqZk\n",
       "kArrvwowpq5nwGgVEnnxrV/8EZnmGQ3QbxPW74OMUaDLl9Y5l02QAMNPXveTcXU/ibIIUmH9j8tw\n",
       "Tb27DJg4huiJ+LYlkyIzDj5gy+ZnywcZI09Xn0u+InccNgw/mZLdT8uECL3C+88DXFMvEANGByF6\n",
       "QMTJzAL4gFA/G4HXp3SaH+QuwLzhJ1mx+0l3itArSfGOjioAAiG+b6rmmWXwAaF+GCj24d37HiJt\n",
       "4PKPjy5VIFPIXcZbpvtBmxY/zSURekXc7shfBUAgdLimap6ZBh8Q6oeB0k1XYKmqS6vccFMnVIFM\n",
       "IXca7ht+4qt2P5m8CL2C/RDvVAAEwm0wVfPMOviAUD8MdDPeDb/bNGmx7B1wDogCL4XcdXjg+1ni\n",
       "DhNZ5SeZy919mMt1Kj+RfRF6BfvhOW6wR/wTgclu/jmby43lcsIaZjokhFTI0AoMVF7KwnZZk5ZK\n",
       "HULmmCjwUsjt0P3EZ6ifwPOJ5UXoFexvFo9nRPl5at5skekDHxD6fDhoG+ASkZbZh6ix4mUKuX3/\n",
       "t94GRQTW2yY4VX29sX/kv6g4kVkDH9DIeuNm/qR0aUz5mYkyUSBTyF2DHsNPk3vKftAtQq/w/kgF\n",
       "WhWBA88CfKHiRGYSfECoHw56xJZSWpeWqLAFWKErRKSQO4lbKKz4J1nc9tInph/M8A1T7s+qwvv3\n",
       "isVZBWBAZ6RYpE9BZub9Dd6r4EvHXw/x9ml+OOgAWktPdGlsd/jc3EYUyBRy56GdfZ57/EKdHSJs\n",
       "2uiFoy6qWmTiWRF6hfeP1mpHyg8Dxmu1Gt2VZWYYfIAne8R7PUYMPwwUG4RU16ou7RY7Sz6jCmQK\n",
       "ucMQbzMe95D9f/CeDFIZMq6nQLKqnEENELreAsqMqYzzwZ6YAM+I5rnOcuYraGdCVZkyrqdAcurE\n",
       "E2ah0fNoQJkxlXEeLcgJeo2Lmqy/INmhHyOkv9d6pN+FegDr6IWGpUkun2DR/NlhnZDjgshA/+Kp\n",
       "Apsa/8G9CA1Lk1w+geMalZ+2S77KCOkPANVPyGp9gPWWu9CoNMFlE/wDWLh1D2nynrAAAAAASUVO\n",
       "RK5CYII=\n",
       "\" style=\"display:inline;vertical-align:middle;\" /></a>"
      ],
      "text/plain": [
       "(1 * (1 + 1)) +  (2 * (2 + 2)) +  ... +  (n * (n + n))"
      ]
     },
     "metadata": {},
     "output_type": "display_data"
    }
   ],
   "source": [
    "requirements = []\n",
    "dot_prod_lambda.apply(*operands, assumptions=[InSet(n, Natural)],\n",
    "                     requirements=requirements)"
   ]
  },
  {
   "cell_type": "markdown",
   "metadata": {},
   "source": [
    "Note that this time we supplied assumptions, specifically that $n \\in \\mathbb{N}$, and made a list to pass back requirements.  In order to make this step, we need to prove that the lengths of the operands match lengths of corresponding parameters.  In order to prove it in this case, we need to know that $n$ is in the set of natural numbers (otherwise, this lambda expression does not make sense and should not apply to anything anyways).  The requirements that are passed back are precisely the judgments that prove that the lengths match as is necessary in order to assure that this beta reduction is valid.  This will get used when beta reduction is employed to perform the **instantiation** derivation rule."
   ]
  },
  {
   "cell_type": "code",
   "execution_count": 20,
   "metadata": {},
   "outputs": [
    {
     "data": {
      "text/html": [
       "<a class=\"ProveItLink\" href=\"__pv_it/lambda_indeterminate_params/d668befcaece3821bd7eb7f0aacd05d5ab24e4570/expr.ipynb\"><img src=\"data:image/png;base64,iVBORw0KGgoAAAANSUhEUgAAAt4AAAAVBAMAAACDCvQyAAAAMFBMVEX///8AAAAAAAAAAAAAAAAA\n",
       "AAAAAAAAAAAAAAAAAAAAAAAAAAAAAAAAAAAAAAAAAAAv3aB7AAAAD3RSTlMAInZUiRDNmWbv3US7\n",
       "qzJazP2FAAAACXBIWXMAAA7EAAAOxAGVKw4bAAAFjklEQVRYw6VZTWhcVRQ+8/OS+WscgqsQ8ElB\n",
       "utAaSgwkmw5uh+Czi6xSMpvALBS7CCaULgaEZFNkFu2izaKBIOKoydCV0U0me6EKahWkWXeTKhiE\n",
       "gvX+v3Pve+fOzMstZM47eec73/fNvfe93AJAnf3jIwfjDKImh3874rBr0FXdXwB+2vWRulKVhL76\n",
       "RfSJID8HTXF9eSy/H4ufxb6TlgmGOcaohuKj6SKQKKoA/LQf+7te9msj9EmSGfWJYF6BFBoAU1/o\n",
       "r2Tzo1M/SL7j8ZthwvNoVCi4kvR73kGJB89ciS8Z7WQHkZEMqcHl+rQR+iTJrPpYELQUyArAzU//\n",
       "UXfMQvHlEJB12m+GGfz2STQy1ETk+s1ZWSh6yMxEnF1J6yAz676eK8O0rdN+Z9bHgsmOAtniX6z2\n",
       "+yeAB0NAdmi/OSa8G40MVbrl+s0RLBT4Tt/MM7IAFO24Q7WDe+74em7ZS76T0LZD+51ZHwvKGqSL\n",
       "/X4UwbMhz4RyRPpdBsRnBCi47/pddlHgGvZbFoCiHXcohLhnOfK07Nq7S5jQlq5PkMyu7z4sqKjQ\n",
       "wn7/AfBsyK400SH9XsB8RoCCtuv3govi+N02RrVwB22bzEx4NnAhl/SbV6brEySz62vDhoomG9hv\n",
       "Ng7Jp/cvr7/N6BWfkH5vWE55oKrvfPj+Cftcdv3eSKDYfi/rq8kG7oBsO1QMicHrlBBciLSl6xMk\n",
       "s+tbFtY39XRFfk/9TYE0fgyDv9he1DJ8bvf4+Na41bb50FDF2s+wxhbjtut3O4Fi+71trTLTIfab\n",
       "Z0ot/+pUQnAh0paurwkX0rcN+yqqzNl+V6jJUe1/A7n/GMUuOb/3bT4kFPxQOYY32GJcdP3eT6DY\n",
       "fi8a7DncIfabZwpd2m9Wp4WgQqwtXZ8gmV3fIuyqqNy3/b5DYQTBSyiw+6ZekH7v2nxIKIjW+nCd\n",
       "3Xfm+r1ro7AJ9kBNMJk5M0+2vukw2et99bDXe2J6CobU075vhKBCrC1dnyCZXd8Z5XeJ3vsKL+AS\n",
       "W2vV7oh+e6DgOsCv7ONoiN+J+X1k+W06mPktMtWu128tBBcibdXuiH6Po++I2k/mIUe95DBCr3Ui\n",
       "KOyR+7e93jxQnMy/AcDSuPvJkrWfmA7Gb5ERDOn9RAvBhUhbur6U/WQcfUtwoqJaqPwOxCOgAfko\n",
       "SFkgfGo02BppQOmYnN8nmk/kgRKpe2z5FgHuKj4RRjjx+H1Xk+G0RQfLNpkRDAkRvE4JwYVIW7o+\n",
       "4XdmfSxYVpF8/WHP5jW+xGY2N2+LKDgHlTJX7AHwVulUvoml+y1efz6oy9sNVIxgQNmzKd/6XL1g\n",
       "NWXeIGgUx2+R2dAonLboYNkmM4IhIYLXKSG4EGlL1yf8HqbPXDn6ePBcRVNs+Vz6/fwpVPiZ1eGr\n",
       "V+cy+pIvvlv6R499o98D3PyMXfdJvznmn48+7ojbYyiBwPEkKEtV9yB4ylb214oPv98gGBTLb5kR\n",
       "BfxuTlt0sGyTGcGQEMHrlBBciLSl6xN+D9MnW6XoY0HlVIEcaMj3IBmZZ2X8kj9Dn59UThO3J6FQ\n",
       "Kren+BQihFCx/mq7Zp3/7Rn0A/rPxBmfiAPf35czpD5hVWZ9LOBnKU1z/iTe+SEZGTudA590v81x\n",
       "UtEDhVLi/IezKGIEdCiFz6vigqJFO3nstOUTseM7r9oi9TXhIvp4MFAgNbVTBuarDsIExo34Ozv2\n",
       "nH8P3NtToFBqVku5YSEMyLeL2Ri9Rr4bSIaUiJrnjIlXEvrkS1RWfTxY1Ye6x+qwPT52TzKJMSRf\n",
       "wu9V9/YUKJQaaD6hhbBKGjKI0TXt5JAMKRF0nawk9Em/s+rjQS6Eq+J6eqz/T3tTgronYzKRC8eB\n",
       "ysupdtVFIFHyeG5O+xmSY9qvjdAnSWbUx4L/AVvdJxUT0UlgAAAAAElFTkSuQmCC\n",
       "\" style=\"display:inline;vertical-align:middle;\" /></a>"
      ],
      "text/plain": [
       "(|(1, 2, ..., n)| = |(1, 2, ..., n)|, |((1 + 1), (2 + 2), ..., (n + n))| = |(1, 2, ..., n)|)"
      ]
     },
     "metadata": {},
     "output_type": "display_data"
    }
   ],
   "source": [
    "requirements"
   ]
  },
  {
   "cell_type": "markdown",
   "metadata": {},
   "source": [
    "We can also perform `apply` such that multiple operand entries correspond to a given parameter entry as long as we can meet the length-matching requirements under the provided assumptions.  In such cases, expression ranges containing these parameters will expand to accommodate the different operand entries.  Also, it doesn't matter what the start and end indices are, as long as we meet the length matching requirements.  Consider the following operands for an application of `dot_prod_lambda`."
   ]
  },
  {
   "cell_type": "code",
   "execution_count": 21,
   "metadata": {},
   "outputs": [
    {
     "data": {
      "text/html": [
       "<strong id=\"operands\">operands:</strong> <a class=\"ProveItLink\" href=\"__pv_it/lambda_indeterminate_params/dd32bf37da208b8023c3d64465778820809826000/expr.ipynb\"><img src=\"data:image/png;base64,iVBORw0KGgoAAAANSUhEUgAAAusAAAAVBAMAAAAN0L1OAAAAMFBMVEX////MzMxUVFRERES6uroi\n",
       "IiIQEBCYmJhmZmYyMjLu7u52dnaqqqqIiIjc3NwAAACW8nlqAAAAAXRSTlMAQObYZgAAAAlwSFlz\n",
       "AAAOxAAADsQBlSsOGwAABl9JREFUWMOtmV1oHFUUx89md7PJ7Ox2X/ogfegqaG2LNtTii1b2Qa0P\n",
       "lkTtSq3RRugHtJSuVKWCmIjEpIbIUh9SRHSxWKpQd2hBlDY4L1bbumaooEG0LtTqg0gaKMR+pd7v\n",
       "ufNx78wOvXCbPTP3f/Z3/jNz790pALSBdl9rKwPaiqBvIZJITQetGOt7252qI3S3pQKSvGDT7m8b\n",
       "pc9h5zOONneYJErTSftNdSKKOzH8bauAEJ6jPT/9nnvi5GwbCjU3xmOWNiQlDn7R5kaSw9ulmAbh\n",
       "Gp66OP5+KSa6aVFKb4vkTghPmvHggKqC1BbooAJMaNRp/xA+FUX02saLAB+4X1gH496PXXwa9DY0\n",
       "qXFKOCQfIUGYxk19EfJXYtr+GaeUWxR3cniafkRRwScHrkEnFSDCnhrpuQHI9/HDrwKcANgvhuEx\n",
       "8If8fTjIjWgyE8kN+QgJwjU89f0AO2LaPsYpyZNfi8O9ISE8zw5LbFUFBW57vAoQYTeQni6DybWw\n",
       "FmCmAd3C524Isx12aTJjSeaaPCnSYJfO9r0NWNOOZ/sQpyQzjhOHu5UQnmeH/oaqAmF7vAoQ4Rn0\n",
       "B/UlI5AS1/c/gOU29IpJ8ky47VOazFiSH5IOsGBKZ/vdAGviTe5mnVPKxui5Wwnhhe1fKisQtser\n",
       "ABFOoD+oN5HtC3xqw/g1yJf5sIlw249rMmNJb9n8SohYIDTG76uWnfLZjtpW5Rbi/BfT61Mn17Fp\n",
       "wOKUkjER3K2E8ML2g3DuXUl4bAyMss92XQUbV/3zk7PsRAUw4RS9gHMWpG7y5fg6wncgV+eCqXDb\n",
       "X9eQY0mz9sNf4s5jgdD0wHlnNGC7YAi0fPo+aL4Cp8X9wiglYyK4Wwnhue3GgvnjTklonYbc5YDt\n",
       "6gqstY6xUDHRU4QIB9GBQWr7ddl2C0zxmA2G235aQ44lM3/ad4iJjgVC8yYMN1YEbM+WVQkfzfbB\n",
       "nAPDbJzNKf22q7lbCeG57ebik6mPXGHKHoWuvoDtygoylWegeJNcKUS4DR1BvWlBBl+nJt5PIvx+\n",
       "B1KXuWKbi9+su+TLNeRY8s7L9C65Cm4gNCU4EJjbAd5WJmw0K3i9ZKLuCqeEnmr12e3ValnPPVqt\n",
       "7qhWn+4Y3s0OPTtLcgUG7IFuJ2C7sgLDuIJ3LT3IQETIbEdLqomX1OwIXZpmbMgMheBnR1zyxyPI\n",
       "nxunq8tmcANJsydoe66szjgD2PPdwnZG6VtSVdyBuz0uvJs9e+gtTwVor7O85LddU4F5GXvejR5Q\n",
       "RMgmmXQf5IT2AUAzAJgDEZPMt/rn1LiRmXevNQtcTWYRPvfbfg6Kyu3XSoDnkcjgkwyjlI3Rc7cS\n",
       "wvPsTbu/JAuRhz/7dzK6CrrqkLWgv00I16MDqOeGyO1P22vkxsr1kUeJng+zfR95+INPE5Pkrhk3\n",
       "CuIuYME+NsBY1zUEFh1LsuE8KQsKDSNkgsH/7Ab0lHbV/yZR2uGUsjF67lZCeJ59uNG0HUmIfuqs\n",
       "ZSmw7USpqwDd52iiXFmsYcLjbDM1CEfEhjNrGy+RTRqby8me6Rv5KpJggk/cZEHgH4Skq27M591L\n",
       "TYMJNsCcPzqUsdlSgbIR+aXx8VE3hzd1cR6vRmnLIhHeJFJKzzSg5W5FwLsVeOF59pXQLFmSsKec\n",
       "WWALV36RKUUF3ozkw1wJbwgeyhPCpfjdEOpHp+90L/nEeXQJshVcyRZ2/q69B913TDTYhD9WG2zC\n",
       "38xnfi5J2zD7K1fwYBMbYEw637/BxpJsOM/WW7eu0kPejPhcZgAKI5CZbJMoNcApPVs8LXcrAp5+\n",
       "XxCeZ38YCpMNSWisnl2kn7ruubqCKt0K3Iy8gscAZgGeuEAIsxg09IfVJfLvWVCdL5I51Aw+qGoJ\n",
       "05z1jgVvnrPBxagRiJ7yHHHicLcSwnuzy8J8PZw7qoJL9NVO+HuhMbrJV77AIi+MIB/yu0ApYRrL\n",
       "Oxa8eazgT6VgtN+zJa7F4d6QEN6b3RV+DUfscO6oCjDhI6wHbkzyU8AglzrsPFykP5GDq5JaQjWG\n",
       "4xvryWME/yPhWDBKq///J4o7MbxP+AKsDueOqoAQHmbd32hhdDUPO8/Ygl+hkVBNwT/Wk6cQVDnB\n",
       "yOhT+RLJnRjeJ/xuthLOHVUBISw6tPvbBfn6hJwv6F9whkmiNJ20f1UnorgTw9+2ChDh/0eQuyr1\n",
       "Y02hAAAAAElFTkSuQmCC\n",
       "\" style=\"display:inline;vertical-align:middle;\" /></a><br>"
      ],
      "text/plain": [
       "<IPython.core.display.HTML object>"
      ]
     },
     "metadata": {},
     "output_type": "display_data"
    }
   ],
   "source": [
    "from proveit import k\n",
    "from proveit.logic import Equals\n",
    "from proveit.numbers import zero\n",
    "operands = [ExprRange(a, Mult(a, a), zero, k), x,\n",
    "            ExprRange(a, a, one, m), \n",
    "            ExprRange(a, Add(a, a), zero, k), y,\n",
    "            ExprRange(a, a, one, m)]"
   ]
  },
  {
   "cell_type": "code",
   "execution_count": 22,
   "metadata": {},
   "outputs": [
    {
     "data": {
      "text/html": [
       "<strong id=\"assumption1\">assumption1:</strong> <a class=\"ProveItLink\" href=\"__pv_it/lambda_indeterminate_params/4b3326ffd4f13b452c61207d3eb5e64ee5d203f90/expr.ipynb\"><img src=\"data:image/png;base64,iVBORw0KGgoAAAANSUhEUgAAAhIAAAAVBAMAAADhiRodAAAAMFBMVEX///9UVFREREQiIiIQEBCY\n",
       "mJhmZmYyMjLu7u6qqqrMzMyIiIi6urp2dnbc3NwAAABm9RoHAAAAAXRSTlMAQObYZgAAAAlwSFlz\n",
       "AAAOxAAADsQBlSsOGwAABQxJREFUWMOdWE2IHEUUfrs9P9XT05OVJK4QMBvxIsFlMBA1iBnQgEgk\n",
       "g8oKuewSsxtRAhPBkFNs95BAFpwGBfWwzkIOepH0Ci66QhxQhKCwbRAvSciQeFNxL+v+JCbWT3dV\n",
       "dVdVd+ODNz2vqr6vXn9d9foHBkCsEXnaBsbA2CSbjjIPU8gGevrB/5ihEWOu0+M3kaftJ+m/42f3\n",
       "a0xHmYcpZIzD7aearxsTNVs9iKAUbIfMbyxJcpLAaYt4HvtFT8S1pyDRrxqmRI82pYbZ58CEIWzs\n",
       "Gs28vZCbPuMwKCEnWoDtK1mJ88yrPnqWD2DBGR6jDqAH3xVKvHdiA+R+jRHa6pTcchoMGMZG7Ba4\n",
       "d/Ov5BmzEolEC7BVPUmJaeavAFzlA1gwweMKuQzfSWvCIblPZM1BaLclluommDBOrMTDAM/nKzFh\n",
       "ViKRaAG28pSkRIv5HoAeP1UWlHhcAp0SJS9jDkK7Ig+o09PVYrgSRzzYnV/yKIdeiUSiRdheEErY\n",
       "Heb/AFzil5AFVb6pP9IqUc0oFIQSfpVb3BaYMFyJ7QC78wsF5dArkUi0CNs7QolKSB2Rk4+zjAJ3\n",
       "JB5/UquE6FeN0MIpmH9D5D9i/+ZJmLnFCzf8lBLYDhpvGQ/99WXwxdV+NK9eiXSiRrb64vvX9uLj\n",
       "L0IJIjD2xr/45IO4hLOg3Ekopygh+vXXDa3Znx7iLd32J7+3JcyUs6vSVJSo3TExhnsCtNa3W9G8\n",
       "VInKPmojXIlUomY2d3gXdPHWeU0oYfnU6cmHshIh2K0Y97RWCdGvGqG1712pneUtvT/9zwYCUx6U\n",
       "N4baihKWaZ3V+09A4w6UV6N59WsilaiRDX62xuBvvHU+FEqU+tQRPvkVvCbQOtkdLKitxrjDYoJu\n",
       "h+cu+jVVDdNWDrFdyiDHj4KMqUGlo9QJgGMmQoTugr1BQZRDr8ThpBJGNvC6fXqHuKQoQYpkj2zb\n",
       "/VHFxEG9pVHCmuK511vZSlin3wQBeXJmIYkpBaoSZXPpsVeJDKUw4iiiRAYb9ABG8eEHZXfAIwCT\n",
       "XEsW2M2c3dHM3h1df0WUbrRZ30piVgbISysxDw3TfW+oA1aIQVFe+jqRTDSDjciwhgA+EEoMB8xf\n",
       "BTjBh7GgPEbOgMR79RWT96dWXkQ76XV9ft3LG2jTkTCz/R3gsrGUjfLUQnA8AyNeDXhFjzbajEO/\n",
       "JniiXgYbbXoJ7zU8/8tCCXJLIm756EXpipKA3gnpJqf3mpuSvu49kPpZcVmXI0I5Ct2FUFxStOVK\n",
       "mN7nx+EKG0vZ6Dy3Z2ZeFxy0iUe4vk0CPB5z6JWIE6UIzqahbGyB0zka3XaZErUmc3RyUVrKNLDI\n",
       "ZBZ5O7qI/YEjp/hT0dCO9Z1yPy0u++OSsM9jlI+B8xZfR8M+LH0tYc59a0/7bCxlozwH799fF4yU\n",
       "jDN+D7AE8OPliEOvBE+UIAQbJRGUuKneBLQTz/+M9LR9IHLVbtPfjwl2Ibs/Vds8I6WCsblUos3A\n",
       "mOTQK8ET1fFqJmg0JSUmjO9S0+yJhr+omPtTTy1gfj1LY1zx5KT5p47iHHoleKJuBpvURN/YYiWG\n",
       "B8zVDzpjdKPQmjee05+wuZi2AGaOb8hA/aeOEhyG7xPjZl7QNN2Sv0+gMeaKsXNx2GeWnP6EBTFt\n",
       "AYx4pgD1nzpKcBiUmDXz6iYYj6DL9PhH5Gm7LF+HILtfYzrKPEwhYxxOunQtGxPN+PzFFu7yf0oS\n",
       "3RM95gufAAAAAElFTkSuQmCC\n",
       "\" style=\"display:inline;vertical-align:middle;\" /></a><br>"
      ],
      "text/plain": [
       "<IPython.core.display.HTML object>"
      ]
     },
     "metadata": {},
     "output_type": "display_data"
    }
   ],
   "source": [
    "assumption1 = Equals(Len(operands[:3]),\n",
    "                     Len(ExprRange(a, a, one, n)))"
   ]
  },
  {
   "cell_type": "code",
   "execution_count": 23,
   "metadata": {},
   "outputs": [
    {
     "data": {
      "text/html": [
       "<strong id=\"assumption2\">assumption2:</strong> <a class=\"ProveItLink\" href=\"__pv_it/lambda_indeterminate_params/9432da2c314e4c408f66022738893423c1cfea0d0/expr.ipynb\"><img src=\"data:image/png;base64,iVBORw0KGgoAAAANSUhEUgAAAjAAAAAVBAMAAACqIcnwAAAAMFBMVEX///9UVFREREQiIiIQEBCY\n",
       "mJhmZmYyMjLu7u6qqqrMzMyIiIi6urp2dnbc3NwAAABm9RoHAAAAAXRSTlMAQObYZgAAAAlwSFlz\n",
       "AAAOxAAADsQBlSsOGwAABVlJREFUWMONWF9oHEUY/5LLXWZvb88TrRGkNhVfpFiiJ/7HBtpC0EqD\n",
       "SoS+pBibilK4Cil90jMIPhS8BStWSs1BH3ySXMUG7UM90ApFIWsRfTDikfqmYl5i/rSmzsw3uzez\n",
       "82dv4Lub+7jfb377m29nZhc6wFpZhLF1rD+kZkVn4DKBvbSOmamTMbRDTgeW+PdXIozte6nvh5Y/\n",
       "lVrO8ay4LGBPDRUG7VR6KWNoh5wlBHsRxm8LaXdZxh/v/j5H43w9zcYyF53jUdzs3nSS3D8CFmDx\n",
       "8XgGp99sZl4NKrQYI0vuge2ibMx7GIMheUb9F2ZOdi+lBuSut1PGYGaw7hiN4gBOaOnBw2AGvnN0\n",
       "XfSWIbiZPc8n7cYokntgQznCmCMYLwJcEwUligQzEwmqwPJfx1dyJU6zTP6wYzSO20jKNS7B21iV\n",
       "G4F+bMy9APuyjZmwG6NI7oEN5QhjRjF2AswhgydufMwMJHM6ALIxZ2VjYMwxGsOV4mtN2GGRM425\n",
       "jDlYhx3ZqydXaDZGkdwL21jXGK+G8S/AfKhIx8xgssh85DBmxjEYwwWjmjE/8c8ZlzF3AOzIXmS4\n",
       "QrMxiuRe2Ga6xhQiHoTZMC5LF5mgEoOOOYz50TEYww1WvJ/VeoTjcO41CXjqCJBKyhja9lg3o7v/\n",
       "/rz12TXqB1doNkaV7GArXXj/113xdaAxzG8a5f+oDS1Zusjka4qbFmNezpiFxvjHfyi2A1n1Ptkv\n",
       "AaPTkF/RjCnesLFGO1tkte3RSuQK0ZipKmsPJcaokh1sQf890OgIOWhMLuTBbYg0YyLwkpvgCYcx\n",
       "px3GMNzcX+GnHcUYb+tq8a0usBhOQd+wZkyuYpvi9sNQvsG95ArNFaNKtrPBD7lh+Kcp5KAxA20e\n",
       "hNqwSDUXqtVH9larlEFkiisx+EB3FDoz+8TMYGbeYQzDvXoIN6iEHQr7+f0eAwk8BwMtzZhXrGcA\n",
       "chO8dSjQauEKzcYcUI2xskG90eZ7z7xmDFtq57TFl2ZKowZjtIr5NsOYx6abqcU3d+J1kIF035pv\n",
       "po3JW6cYvBXmygAt8tJoj8Y42GAOYCiWo9xKcB/ApLo8YsYb6eVW+sB9K5GN0mbKmEa42JSB9Cq/\n",
       "SO9K9OBatm2wfTXIRbDYEQrNa4wq2cHGXFklQg4a09/CeAngqCodM/lhXui07XIY8wKvR73gBS6/\n",
       "TjZ8lX2y3ghbErC/wg5O9dgYjixG4NeJofBZpUdAy3+oPI4KzRWTSK472HjqeXpjBkIOGsM2Oxa5\n",
       "kDybKnaeYds5NGrxVvZ7J20Mz7B9kayJfyadBNdXI5uByj4EjWYkAQuV0ir2INgSyOvT01NdRpWf\n",
       "LpWTAA8GQqHZmFgyRyRsBpHlTfBrh8T+jsYURzDIsQtNVTpmcmzEHHusO0/j9oPHx1VjMPM061bp\n",
       "vOTYofpREJ0Y1x/Cwpcq+wPgv1GXgGT7whb2+u5c24bIPbdurWGPMXZp2b++AVgA+O6yUGg2JpHM\n",
       "EF02XWRpBMi2UMgRjwRPigDtbMrbdf55hhEox8azyosMvhB5+r2k41R2GRjUZIozoPcSjrqm0GxM\n",
       "MrSJ1zAAyhHGTID8pCg/5kH8jEmPU9oD3xXtORECwzFMw6nsXeAv8G4oU0SGXnIcA02h2Zhk6MDB\n",
       "JqVQjjCmv4NheanFD12ET/Nu68azjKd6fV3LwEnAp2C7TEFaei9pp3SFlvcxu9MIA5uUWpbfx5Bh\n",
       "DHNDy3BHmbVeH46vj5mFk4AfLrRlCh/0XtJaukKLMbNphIHNT8tZgkv8+08RxnZZnhvbi0jf/TRv\n",
       "xWUBe2qo0E8/N1/KGNoh59L/84n6nyijJhIAAAAASUVORK5CYII=\n",
       "\" style=\"display:inline;vertical-align:middle;\" /></a><br>"
      ],
      "text/plain": [
       "<IPython.core.display.HTML object>"
      ]
     },
     "metadata": {},
     "output_type": "display_data"
    }
   ],
   "source": [
    "assumption2 = Equals(Len(operands[3:]),\n",
    "                     Len(ExprRange(a, a, one, n)))"
   ]
  },
  {
   "cell_type": "code",
   "execution_count": 24,
   "metadata": {},
   "outputs": [
    {
     "data": {
      "text/html": [
       "<a class=\"ProveItLink\" href=\"__pv_it/lambda_indeterminate_params/952715e8d3541d53bb0e6f91fa986868dba1e63b0/expr.ipynb\"><img src=\"data:image/png;base64,iVBORw0KGgoAAAANSUhEUgAAA0YAAAAVBAMAAACQ+OPvAAAAMFBMVEX////MzMxUVFRERES6uroi\n",
       "IiIQEBCYmJhmZmYyMjLu7u52dnaqqqqIiIjc3NwAAACW8nlqAAAAAXRSTlMAQObYZgAAAAlwSFlz\n",
       "AAAOxAAADsQBlSsOGwAAB6RJREFUaN6VWV1sVEUUPvvXbe/+0BceDCZUjT+QKBWJL0rTBwUfJF2Q\n",
       "NaiNrAk/CWhYRQ0kKvUHaW3QDT6UGKMbiAZ8cDeQGA027AtEUms3+EBDEDdB1MQgbUKCFGid/zkz\n",
       "987d7SRn2zn3O9835565s3NnAaAB3KxmurIQ3LLB0CB4I6TXPLpVWGsqQfFZV3qhkHkjAOYFYZcy\n",
       "NW52W2P0Ljgo4vVAaBDcQAUpKkJGGt5cIi2qBMlccKUXCpk3wpVN2A0e45Ya/VhfODHZgEwRIdNV\n",
       "7jQaCzlHb4UNpRZ5Hjlpx0BR1YVle0DUQwnPNUtKiHiP5rSPd2yVw5vtWI7zyVBKf/NBjLTkeDEi\n",
       "O/hpp+r/PfRwi9k4G4n2Stw+h69UCTpq3osAnyHgUenEjYV00BttQakdGprRPt5BKKLoPfClVSPu\n",
       "6RAW2oQIdAwgJ++YKgAHfcEM55M5GihkQ3BaerwYcQlS19RC1Q0ne1vLxtlIdDuZd8SSOUh1S/cb\n",
       "AMcBdiHgPulkjx+fqjwkSRPm0NUSyiwzgxedGTAIqSr8Lse+WrqphxIyUqljNlNkAV7MeMdWuaVW\n",
       "jSLGaRlE6W8+iJGWHC9GPASwRV6PNqCtYCJc2TgbiW4jf4jFuiCt1JcDTJShDZW/IJ3s0eQLrAjZ\n",
       "RgnYhXEJZeavESJsA1yjcZwzI9yGdMxmivThKco7lkpcDUPRcZySQZQBzYb4amQjdpRhmVyR2mYg\n",
       "OmsiXNm42zY4Qz6JLRiAiJpx/wEsrkGHnsbpknSiZEXICH0ei0qQQqkF1AgRngmp0YiwkBopke/w\n",
       "Jd6xVFIFX404TsloyqBmQ/w1shD3AiyTX0jRHESnDYQrm5A2AsPkk1iF3PDrcp2l5ShCqksvGlXp\n",
       "RMmKkGP0RnQpQQJlFlAjRDgcUqNjwkJqpEQOwNhH6hLvWCodXenvy2aNOE7JaErvt6WLflTfNpNF\n",
       "OOSDBNTIRgBsRJDElIFwZbNm6T+/1hcd71UL89lvR1dGTqxg/GI6Xa1C5Lb8prtJylGHpC4vmZvC\n",
       "iZIVIbvpmllSgnQas6nsrxEiHAmp0W5hITWSIt719C9b1U3lHUulUvz5T2NqSZyS0ZTtcLa+V+1a\n",
       "0wXY44ME1MhG6BtJG71nu8NrRKOqy+ve9d60euhTsQeh8jqcZvz95LOf3/CbuEZV0AGQqEmnVSPi\n",
       "pDQcOi6gzAJqhAj7Q2p0WlhIjaRIevbpyBdqLeMdS2Xij9odDaNGAqdkNOU7sKd8vwy+sz0H9/gg\n",
       "ATWyEZDoQpB1JsKRTbz3GcjehuSUvPBEohuu1ukkIdGbyCexShXitPwVuhUnd76vDhEa4N1g3329\n",
       "0gnt+fyzm/P5LhWymM6cKdibz2/J59dRKDORDI/nHUS4SddIBirPYmZaBzVbpH0rX/npqGXHUvnw\n",
       "Vb5aazqB4zIGZScMabpyWx1e8UHMtOR4DQS8jxDt3SbCkY3nXaMbsPaSjCxXeukWbYhFixqRDUCa\n",
       "7hkSA3zPMEFqyybkBlEj4TT3DDRkFV099XNk1YjH8w4i3BTyHK0SFvIcSZHEwXf5c05HLTqWynOD\n",
       "ndaeQeCUjKYEWhRJR7Z/kWk/xEhLjRcjkl0I8RqYCFc26SlaoLaqipwAWqDtLFqsdTHypqOe4keA\n",
       "PPSQzuG1Tjjx3puHnKKeXEtrXa6lte6UsBbWukqtT7/Ti46p4t2KT1s1Ejglg5ap+Cx8o6KHIFPw\n",
       "Q/xrnY0Yg2wDnSD8ayBc2URLkKhCX0O9OCwBeIGMx6PRK0mfWLLAHzTW3mQ1TKp3WojVpRMlK0J2\n",
       "goSOSyi1oD2DJlwZUqOdwkJqJEX2lCs1BRIdUyU5493KmDUSOCWjKL0V0QLoY5nl9A3QggTVyEJE\n",
       "qpBRd3oRwHkD4cqGPEFkdVuSVS8O24Esf9HSXzRabkH74etO/dh4L6mNJIhdM3fiZHnIsNpzjkso\n",
       "2/6mZvHR3iwYhGw3erJh14h5huXenOmw1Zl9VEo+kSVQ6azqmcc6pkq05E2nzGELnJJRlOnpI4W4\n",
       "Prh4D/qKNsRKS40XIS4PDqq9YXbD4GDOQLDv+4BsrnbS/cFjKRU5TTcQsSob6EJ6NEjsyOhd+iBq\n",
       "+Cy5+YlefSSak06cLA9ZDxI6LqHUovfdUFsk0UGEVPHuHQeKZo24Z70gFTob5Af/ljBEHofMfjVn\n",
       "RcdUidVg8rw5bIFTMorS21//6S10yDj6ScOGmGnp8SLExrm5G2qyz83NlQwESyIgmycBJgGeuqje\n",
       "j3KQGYD4fjaCBK1GZ9D77WX0/1rjmBavQdmcgo4r6FpoQmgqGqsAJWSkYWdBbhG3ikmnZRCl1X5o\n",
       "Dpk3wpWN+wekHD5btBo+6dtl/KSBzzrZueU+dEC4y4YHEZqKxmmjOOQNP1N1i7hVTDotgyiNX15K\n",
       "3stNIPoGtI5wZeNsNLoHuPnq1406MecPmpeCoIFwA9UDYYSXmv3i4hRpVcUvY9Ml6tFqE4gimgfC\n",
       "lU3oQA8LCw30ul0UPUHQQLiBOgxhhD3NsnKKtKril7Hp0m9/0AzinwfNEa5sQgearXOz20Wjd8XB\n",
       "kGkEQoPgBipbDyHMNJpl5RRpUSVI5oorvVDIvBGubNwD/R8PtEme+64RbwAAAABJRU5ErkJggg==\n",
       "\" style=\"display:inline;vertical-align:middle;\" /></a>"
      ],
      "text/plain": [
       "((0 * 0) * (0 + 0)) +  ((1 * 1) * (1 + 1)) +  ... +  ((k * k) * (k + k)) + (x * y)+ (1 * 1) +  (2 * 2) +  ... +  (m * m)"
      ]
     },
     "metadata": {},
     "output_type": "display_data"
    }
   ],
   "source": [
    "requirements = []\n",
    "dot_prod_lambda.apply(*operands, assumptions=[InSet(k, Natural),\n",
    "                                              InSet(n, Natural),\n",
    "                                              assumption1,\n",
    "                                              assumption2],\n",
    "                     requirements=requirements)"
   ]
  },
  {
   "cell_type": "code",
   "execution_count": 25,
   "metadata": {},
   "outputs": [
    {
     "data": {
      "text/html": [
       "<a class=\"ProveItLink\" href=\"__pv_it/lambda_indeterminate_params/f3fc5bdf8df7941e58321f7a19e3e43e8d22d03b0/expr.ipynb\"><img src=\"data:image/png;base64,iVBORw0KGgoAAAANSUhEUgAABF8AAAAVBAMAAABieFxOAAAAMFBMVEX///8AAAAAAAAAAAAAAAAA\n",
       "AAAAAAAAAAAAAAAAAAAAAAAAAAAAAAAAAAAAAAAAAAAv3aB7AAAAD3RSTlMAInZUiRDNmWbv3US7\n",
       "qzJazP2FAAAACXBIWXMAAA7EAAAOxAGVKw4bAAAJKElEQVRo3q2ZW2wUVRjHv93ZoXtpl5WYqEji\n",
       "IEF4EFzXQoIvnRCiMZWw9kGjKXaNIfRBYiWVAt42mki8QaOSgCRSg0hEhQ08iPrQi74YxSCJCEal\n",
       "iegDL1CwSELSem5z5lxnZguHnObsYb7/N99v/3PmzA4AlNA/3FKsK02eKukHGKbs8cliErWSWb5k\n",
       "zxp3jiXtUylJUanoM2yOzI3CkzIrpWaSgCMlg3QZOsnEAtaVVvCED+hgrR2JzrbANHnkBhiGamQa\n",
       "ynSnPau1sRppKJPEpZrK1aEsiD7D5sjcKDxySbyFtc2ENBm0M1XHp33VotB+mZXPASwWQtHBcL4a\n",
       "fi7uR9nrUcmQpPv9kDDR/QHYYrAaNfPAM+OxZVANs2FwIc2oLdYN0047QSAzV6BIua6HTBweDv6W\n",
       "TT/Ff8uLIwzTLsKOV+Ok8cCtMdVHaZ9Vdj/iRz4NT5RgVmgQdLD767Ph57WbJtHfdVHJsOysPnFm\n",
       "PVhiqBpu8yBzLR7JOrthHm1SjdYoGgZzwZ0gkJoKRcp1XWQi8YTgUyOwphFLRypJNgyui59yEjVO\n",
       "Gg1a6kx1M+1vAjwcHJcdgswIZMOi8MFwj7DCpHHWbVG5sOxsaQW8DLaYdID9Z4Dd8YbZZjfM5ibV\n",
       "aI2iYXCpqFMEpB2zQJFyFeozJHMsHk8Avq0EucFYOlJJsmHI1xicchI1ThoNcoHqIO3HAToCR7Se\n",
       "AAfJ7uSBOTAZJleNyIVlh8UDCuREjTEc+94qnI3flxENs2EGm1XbqRomRztDgFvFAkXK5XgzJFOJ\n",
       "xxOAz01C20T89bTTapicCDuJGieNBsuZqlOj/T+AC4HtZ/dBERm+lwcuNxpmVsStGkvCQ9IpEzsb\n",
       "Yzj23wDOxm9iiIbRMCRrU2q9qmGW084QCF+pCkXOJRumCTKVeDx8hRmCtql4w/RaDbNchJ1EjZNG\n",
       "g36m2uKT7mLDBGfbg9hcBVjNA/uNhsmcsKfCsrAB2p8Pk59wHqwKMV1LnlxVVgyD2mHrlv2Xm+/2\n",
       "zj3cYHmNhiFZE6kVljyycgxYjaJh+mlnCISvVIUi55IN0wSZihmPu6gOaxXDoJa/GFVPcdUPSkmy\n",
       "YfoV2FY1ClsgjQa9TBWbCPXUv8gwQdF3+FC8BPC6bFrNMNlatDfdq869u/hMT/2+2+pCTF/6ZMuQ\n",
       "Zhic19z84557teEMsrz0pnyQtBMgFJNMLdN6EnpKrEbRML20MwTCV6pCkXPJhmmCTMWMJ4MK3aEb\n",
       "5oIXVc9bsALEkrYSOl9ItYl4rGoE9oRAGg32MdV8mXRiGF8wDPq8gsfvMxrGidgzYVln4mjxKT7T\n",
       "cXv5n1IYky1lJ9vqmmHytmuz0PgcUpcge5HlNa4wOGsiNfgmPwJ3jLMaRcPso50hUAwjQpFzyYZp\n",
       "gkzFjOcvdDH9rhvmi8h6POKxFdYVZp8C26pGYE8JpNFgD1PNNUh3EYthVLR7BbvdhwK6mC5wgT3h\n",
       "effUeNbixYjtEpJt2UV3EDRky3YQY4rQUtP2MAAv2gRd9xredOIgomE0DM6aSA2qPQ2yyb+gGmYP\n",
       "7QwBvkh304tUhSLkQgvdpx+wha4pMqG6iqea8+BdzTAtIzH1bAK5JNkwe2TYdjUGOySNBoph8Ka3\n",
       "A18zB+j+zkH7u69Mhsn38ayFwWgs+fUvQxjyycC4HJPzdMNk7Td/5yJ2S85nGkkME6EGHQCngNVo\n",
       "MAxDIG96JShyLnmFSUpGWGFUPMPV4pRmmHci60FueV8pKdIwEWoIdltNII0Gyi0JfgTYwR+rRyCL\n",
       "ZO+PuyUNRS+8PeXh8CHFvVyYkmOGS25VNUw7pGwPwqiAvI+CqlTDuIdRbkkRatgtV11Wo+GWxBCI\n",
       "j9UKlMhbUnIyFQueTZAeVA3j+HBTRD0fQ2FCKkndw8i3pCg1BHt2XSCNBmNMtdWj/Q3iUHZlDpKl\n",
       "/22y1uE/Y+ZNL17SXMPyyGR3VHvKfBXJTrqX00JMd+MMZJg8ViM6RR/SVYsiWlvQsnsqVacaxhUG\n",
       "Z02mhq5FZzLDauykc0RyjHaGQPhKVSg8l2nTayZDZhQyFTMeOI5/+HG5Ycg5nwNYCFWz7PuAbiNt\n",
       "tVvDkvQVZkyCHaWGYHdU/ZA0GqxmqvjJCfd82f1QWFEeH6dPYWRPQ5/U1ghXa2YieEDEGxS68amJ\n",
       "n7DkKegZ90PPulMZIabj7y1wlMljNRI+d2Bgq00RbVHRlu67QMNoGPoYqKnJkmSAtnTp2nb2pNnJ\n",
       "zrnBSl3NEYg3DQUKzyUbxkImLEghUzHjgZdguM52fwg8PecDAwNDsiL/hOpBzwOtvs9LMhhmtQg7\n",
       "VDOcJIJ9V3Y8JI0G55lqcYh2t39JeP94bOWf6O9neHgQexAf/MfeDfxXpbYzV04jj+GTyO9nGx+y\n",
       "UyF/cAiW/BbSG7mDW8uwaKEQ89idzuYyPZaoEZ3D09NXbIpfAywC+HI+0zAaBmc1qRGRA6JaYQjc\n",
       "02VWYyedI5LnWacIRMMoUHguyTBWMgeCGYVMxYwH1q58pURHBDzOmJ+enq7RUaDIZVE96T4obCyF\n",
       "JemGOQ8CnlDNcJII9trXBNJokB9nqodY11qK3E8drJg3/mA6l/xdpu+YqjZJPcbhjgrnLIqyhvnV\n",
       "wKEm1WiNnXSOSOJS5XIrFihShY6XhMwy0MhUrHgeECXCc3aqZlmtJN0wYV3Lkqlx0nPpO6rO4AWT\n",
       "8Z0XeVWF9xkgvnJT3qIB+PqPSGB//6bGZMLfigwj/SiuYTbMtibVaI2ddI5I4lLlco9ZoEgVFupJ\n",
       "yPg6mWNmPJma+54okbGw0BPxknTDhHX5ydQ4aTwYZaqtJdq1No/+gk/+jppWIPIY7+q/FnYFsgli\n",
       "uvhey9NH+lGhhtkwQdakavOC0C4uOWopV4PSan0Cs5GhM/Y4ITDvtfmiRJeZhaHEeWA1DK/LpGtQ\n",
       "46TJoJupuiO0a42q0/Buw//TwtP6f3iBbIKY8LcY0Ef6UaGG2TBB1qRqo0GoxyW7LeVqUFzr7142\n",
       "MnTGHicEOq++IEl4ZhaGEkcjDNOtRUSqcdJkkPJgKZmew7oaKF4IKcNbh/nRbzrnmCbnw/U3qpFW\n",
       "t1VL7VmtjdW4FARJXGrKiw6A6FwzIXOj8MglhdPjtq8xCWk0+B89S15WrimZEQAAAABJRU5ErkJg\n",
       "gg==\n",
       "\" style=\"display:inline;vertical-align:middle;\" /></a>"
      ],
      "text/plain": [
       "(|((0 * 0), (1 * 1), ..., (k * k), x,1, 2, ..., m)| = |(1, 2, ..., n)|, |((0 + 0), (1 + 1), ..., (k + k), y,1, 2, ..., m)| = |(1, 2, ..., n)|)"
      ]
     },
     "metadata": {},
     "output_type": "display_data"
    }
   ],
   "source": [
    "requirements"
   ]
  },
  {
   "cell_type": "markdown",
   "metadata": {},
   "source": [
    "To ensure unambiguous and straightforward behavior when different parameter ranges are involved in the same expression range (as in the dot product case), their operands must be in exact correspondence with respect to range start and end indices (and whether or not an entry is a range).  Otherwise, a `LambdaApplicationError` exception will be raised as in the following demonstration.  In this example, `assumption1` is used again so there is a proper alignment of lengths with $n$ elements for $x$ and $n$ elements for $y$.  However, the internal structures of $x$ and $y$ are not aligned to each other."
   ]
  },
  {
   "cell_type": "code",
   "execution_count": 26,
   "metadata": {},
   "outputs": [
    {
     "data": {
      "text/html": [
       "<strong id=\"new_operands\">new_operands:</strong> <a class=\"ProveItLink\" href=\"__pv_it/lambda_indeterminate_params/73c7b0a7814c247a2bfac0a230284933ab313e260/expr.ipynb\"><img src=\"data:image/png;base64,iVBORw0KGgoAAAANSUhEUgAAAm8AAAAVBAMAAADiPhQ1AAAAMFBMVEX////MzMxUVFRERES6uroi\n",
       "IiIQEBCYmJhmZmYyMjLu7u52dnaqqqqIiIjc3NwAAACW8nlqAAAAAXRSTlMAQObYZgAAAAlwSFlz\n",
       "AAAOxAAADsQBlSsOGwAABfBJREFUWMOVWE9oXEUY/3azm03evt3sJaceEgWNLWhXKZ5s2YO2F0u3\n",
       "1ZVSA91DbaFBGv8cWih2RUISS2Sph4iILhalFXQfOXjR0L002IbapT2IonYhBAWpTaAQEjXxm/lm\n",
       "Z97sezNvMzC775vv/X7vm9+b+WbmAUALqHaUrNEwNmklhDISs53SMrRnu3pgy06etXs4OtOg2lkS\n",
       "TZ/xa4Q/WMIoozDbKaH83cRN5aCd3Ygjeo5epJqe/0B5ufGTsl0PIHbMBx+saf6QgpTOs0VlkxGO\n",
       "YWy8/Dn9dLfCLfpxprgw7uzUh7mOMcNaMuM2ctZfU2H0DO1UqX4CX6jhy41+FdZVgM+nN5QIT3yG\n",
       "vv6a5dGMEvorvhZuhGGIjXcpD9cK3emG/ApnjAvjXoL0Q/0uavnYxn7V4uP0iO4b5zVVhHS+7SMj\n",
       "pbo9yVTe8KHvITpVsdAzWhjwTyduhGPuia7GW9Bb7k44zt/GwQFDXBj3UwAnxSQTg4xaztrYJ/XZ\n",
       "qY1OTo/oXuC1ZxhcqYwwTsuby2HC+fzBwmjhkH9EkHHaJlzvBsQ3uxOu14+DW4a4MO4zNdhNU8kV\n",
       "yY9aem3zRX97rp6ZGT2ib+Af1oEKxP6Vg4OMWYmshgo3a3k0o4Vv/S1kzFpHXBHiq90Jd8MinBb3\n",
       "YwC7c1r/qaXfkuR4f43CMXpEX8Q/rHXUaq3tEsacnBdeqHBzlo4xWrgEi+/LFjIkxvlt147vO4TD\n",
       "klwxrWZ3vpnfG/tuj5/fIJweN8DxQP+xJT1syQOIO7jrr7tNDcgjEPSIniUNH3gQ+68NFMY5mQ/H\n",
       "Q4U7ZxGO0Tpr7o+npFBkSEwf3GlOBIUbMm1Y0j1PQv1tWPDxm4TT45b9UsKxllTVkv8R5z3TdDY1\n",
       "II+gRfSIHsW/UdLqH79waCzIYdAIFW7BIhyjdTdfjH0qxzsZEvMOXKiNBIU7YiJ8PpmHB0244OM3\n",
       "CafHDcnhTuFYi2tZhRCXKLwE2VUNyCPIET2iT+Af1roHCfZm6uxFCGNIZuKCFM5ZVwEOWYRjtH2n\n",
       "KLlwTmFITA6mAzkO78qbCGv1AtyuSdAJhZsolU6WSkdC4uJxw3ucuFR65bVSiTRkLbEVy8pTAMd5\n",
       "SKulAooIOD2ihXC4HrhscUhWQBr7Q4SDoyrA/RHCJT96l15gRRk+zOshwr1pZrwNTLWxoHCBEafH\n",
       "nRruzPG8JVG2CgfuCsSrOhAj2CnoES2mag/u29R2hIzrEVP1esRUrTcOqU27MBQmsQlfdQqHO/a/\n",
       "TYwY86sIcqKnqh73ImT17Qi1uEXrVGWqDYzXNCBGsOYQPaLZOoE1VYY+mS6F8RafIkzIZqhw0t+x\n",
       "fweixCRWb8i8Iow2xtkTL4NH93I2zrMD4BcT4xjg7IlX/yD/XotwWtwxDzJ6/6kllTcHz3C9Hs5L\n",
       "TwOO4eRNEz2i58QCOwpf5nzjhRkX2zmNL91p/9b0Wgt8fv7DMpm84JQ7oZ7z1IDhRhvjrl4pJxp0\n",
       "L2PjyOzRqami4tAYMVOnVqDH8yjLzskoNOH0uFjcy1NTE/qMoxa25TAFz3C4DPyc0jaAGEGm+gbR\n",
       "I3qQHY2xXpl/ROlCxsvssoRvJYbDOv74+oj0P3rm0rjPzxMfz2T84pigfA4yM/KdCqONcWaaP5wX\n",
       "93I2xpPc2tqq0lWlkzFRhEwFEjMteuKgjMIvXEdcLO7jW1vrunDUkiyYg2e4F/B4fl7fxxXBGWkQ\n",
       "PaKTqGoyF/rliWcBl3EfjvDr5SaYKIOYm3K7UgteBe+Sfp3/Vjdx6weAZdujDltODpx+mc6s4Udv\n",
       "fo6GNIDhROzz68UznuaDGDmVVZuBUffr/Ae6iVs/q0/aHnXWcsjn9Ay9T9RAWeK/X/Ns2bL79fzK\n",
       "X1AoZQDjyJep2kyMun+fcU2Mirv9BcvyqB7LB+KlNvqyqIFCoXEiJ2/3699m+W8oZQCTkVfNkKvg\n",
       "Xcp/2dizqLhBSWN6lBlH9BydbVINUPhVvx/hD3mlYYfOCMx2StZ0qI2Km8rvdvb75k/2LUL/D4gJ\n",
       "O7f+KswqAAAAAElFTkSuQmCC\n",
       "\" style=\"display:inline;vertical-align:middle;\" /></a><br>"
      ],
      "text/plain": [
       "<IPython.core.display.HTML object>"
      ]
     },
     "metadata": {},
     "output_type": "display_data"
    }
   ],
   "source": [
    "from proveit import k\n",
    "new_operands = [*operands[:3], \n",
    "                ExprRange(a, Add(a, a), one, n)]"
   ]
  },
  {
   "cell_type": "code",
   "execution_count": 27,
   "metadata": {},
   "outputs": [
    {
     "name": "stdout",
     "output_type": "stream",
     "text": [
      "Expected error: Failure to apply (x_{1}, x_{2}, ..., x_{n}, y_{1}, y_{2}, ..., y_{n}) -> ((x_{1} * y_{1}) +  (x_{2} * y_{2}) +  ... +  (x_{n} * y_{n})) to ((0 * 0), (1 * 1), ..., (k * k), x, 1, 2, ..., m, (1 + 1), (2 + 2), ..., (n + n)) assuming {k in Natural, n in Natural, |((0 * 0), (1 * 1), ..., (k * k), x,1, 2, ..., m)| = |(1, 2, ..., n)|}:\n",
      "Improper replacement: Improper replacement of (x_{1} * y_{1}), (x_{2} * y_{2}), ..., (x_{n} * y_{n}) via {(x_{1}, x_{2}, ..., x_{n}): ((0 * 0), (1 * 1), ..., (k * k), x,1, 2, ..., m), (y_{1}, y_{2}, ..., y_{n}): ((1 + 1), (2 + 2), ..., (n + n)), x: {(x_{1}, x_{2}, ..., x_{n})}, y: {(y_{1}, y_{2}, ..., y_{n})}}:\n",
      "When expanding IndexedVars within an ExprRange whose parameter is the index, their expansion ExprRange indices must all match. ((0 * 0), (1 * 1), ..., (k * k), x, 1, 2, ..., m) vs ((1 + 1), (2 + 2), ..., (n + n),) do not match as respective expansions for x_{_a} and y_{_a}.\n",
      "ExprTuple.align_ranges may be useful.\n",
      "Using multiple, equivalent expansion forms could also help. \n"
     ]
    }
   ],
   "source": [
    "from proveit import LambdaApplicationError\n",
    "try:\n",
    "    dot_prod_lambda.apply(*new_operands, \n",
    "                          assumptions=[InSet(k, Natural),\n",
    "                                       InSet(n, Natural), \n",
    "                                       assumption1],\n",
    "                         requirements=requirements)\n",
    "    assert False, \"Expecting LambdaApplicationError\"\n",
    "except LambdaApplicationError as e:\n",
    "    print(\"Expected error:\", e)"
   ]
  },
  {
   "cell_type": "markdown",
   "metadata": {},
   "source": [
    "Of course, when parameter ranges are not involved in the same expression range, this restriction does not apply."
   ]
  },
  {
   "cell_type": "code",
   "execution_count": 28,
   "metadata": {},
   "outputs": [
    {
     "data": {
      "text/html": [
       "<strong id=\"add2n_lambda\">add2n_lambda:</strong> <a class=\"ProveItLink\" href=\"__pv_it/lambda_indeterminate_params/59183235fe0c54f561c61f226fc2beed61c34c180/expr.ipynb\"><img src=\"data:image/png;base64,iVBORw0KGgoAAAANSUhEUgAAApIAAAAVCAMAAADCfP4dAAAANlBMVEX///8WFhYNDQ3MzMxUVFRE\n",
       "RES6uroiIiIQEBCYmJhmZmYyMjLu7u52dnaqqqqIiIjc3NwAAACzeusSAAAAAXRSTlMAQObYZgAA\n",
       "AAlwSFlzAAAOxAAADsQBlSsOGwAABEVJREFUaN7tW9mWpCAMdcYVRMD//9kBNwImGKyy58Hmoduu\n",
       "hNx4L4TlVFeVa7Z6Z7MPev+2TwQx+qUMdKbA+bUs/QdB9PRaCoxgu76YpR8XRI0vpmBUTMdXs/TT\n",
       "gkjxYgaEZDryWOqKuOyKmS/tUeT/nHNBj0WQ4dWzciDKpEkOMzyWdMnmtND7To8i/+ecS3o4QfS7\n",
       "V6QxzN1ocOq4fDJZ+h2SH/dwgsht266MaVQ9Tfi5Mm/l7cYuQiizLI6qKbRx0fEIU/igjwzxXzyW\n",
       "UtrLvG/IesXpKZ8cjZ84F+dORneC7GXCVQXTmEr2+FYqa+Xtxi5CTJX2q6OYC228RkUQIzEIdYsV\n",
       "04uXSIQq874xJK84TfzzNH7iXJw7Gd0J0q8zTFhvV1WDbkLzVt5B4iJErVdmm7bMxmtkBD0QQ7Iy\n",
       "LVjJWSyltJd53xiSl7LE/hc0fuBcnDsd3QkydKuPn3N7xVAi2TpBq5qmplHlgwICYCur29n6pP2P\n",
       "FB/YbqLD6HFaYZr+/dNHbZ67sOm+YkkuXYZh+dVcsYZ5X6wxWI8Mp5g/SfGF8wO5k3p4QQbA+2av\n",
       "jUFWgt0qF5B7x9vs1OrcfHcZ1Rj+YbuNfkRIPiarZDd2VTokr1g6144ca185ImQ5Tf1zFNPOj+RO\n",
       "6OEF6XVwcuuAWmaD7hFJN6uvHfYcijUqDgB0Mvl5awYU/7DdRgfRI6J6YkjW0S06k6WTUFnWvjEk\n",
       "85ye9p4ZimnnR3In9PB5tYunaruqGZZtJ8x3e9XIKtSeIGv9RENI4aapTK5e2mb/keIDW0AvgocR\n",
       "ALj7qyWG5BhdTGZZImgnWPviqZXilERAKGY4P5E7pYcXZL0F0XOtpHu7TkOy1bxuOBKr46AH1vCA\n",
       "fISFUKIb3IZ8sFHfSjZ+0gsEP7Jt6Bks9KM9AgQHtzu+4GTuJXMsUbTjrGVuXTIvhPagOM0UvhPF\n",
       "POfv507p4QWpV32lMU4GoePlrO8VYnV9FLC6h0O/4yk8nENYZXy6cxykUs1k5GwR/Mi2oyPwWB5p\n",
       "hAjc2Tvi0iguClmWqCqJs0aPAYS8bNUjOaXvMc8Us5y/nzulxyJIj2zMjnw1tjra/XpEc9ZOzKkx\n",
       "4WAR2aeRxt9sB3o5/BoBglvuSSnLEms5s636+r0kxWnOP6WY4/xQ7mc9VkGwbx4c+WLfyLKug7WU\n",
       "FbmkRo7eTmApl0uMw+7zU4NG8YEtoBfBgwgQnP2dkyxLYe2nw4G8Gd7UATHTA74W4Y9SzHB+IHdC\n",
       "j02Q1pJkK4PN9rqupSKs5/MFFmJe6o6uob13D82E4wdbQC+DBxEAuOXfvWdY4jSQ9zMNvhZZ6hGK\n",
       "Gc5P5I7rsQuiUl3sNM7TIiUm+jD7RllPDXPq/GHBTCKya2FkR+AHW0Avgw8RIHjL/+eFDEusK9mQ\n",
       "9zMNvha5diIUM5yfyB3X4xDEmuqdzZT8O81rWfppQf4BDx5KtxvLlHYAAAAASUVORK5CYII=\n",
       "\" style=\"display:inline;vertical-align:middle;\" /></a><br>"
      ],
      "text/plain": [
       "<IPython.core.display.HTML object>"
      ]
     },
     "metadata": {},
     "output_type": "display_data"
    }
   ],
   "source": [
    "add2n_lambda = Lambda((x_1_to_n, y_1_to_n), \n",
    "                       Add(x_1_to_n, y_1_to_n))"
   ]
  },
  {
   "cell_type": "code",
   "execution_count": 29,
   "metadata": {},
   "outputs": [
    {
     "data": {
      "text/html": [
       "<a class=\"ProveItLink\" href=\"__pv_it/lambda_indeterminate_params/038a1a8c88ebbf0903314754428b0336acad5e520/expr.ipynb\"><img src=\"data:image/png;base64,iVBORw0KGgoAAAANSUhEUgAAAscAAAAVBAMAAABYsV4QAAAAMFBMVEX////MzMxUVFRERES6uroi\n",
       "IiIQEBCYmJhmZmYyMjLu7u52dnaqqqqIiIjc3NwAAACW8nlqAAAAAXRSTlMAQObYZgAAAAlwSFlz\n",
       "AAAOxAAADsQBlSsOGwAABcJJREFUWMO9WV9oHEUY/+5y/7K3ud5LnvKQ6oO1fTqr+KIp96LxwZCr\n",
       "elIkyAnRgiA9KkqEYs+HksajEvoSEdGjQam+3NGCL1p6L4ohnDnqg1U0HpSCINoEhNjWXvxmZ3Z2\n",
       "Zndmd+4CHShlfvf7vt/3/XZnZncDAD0IjF4koIRUI6cCDWP3PnqmeG+Q8geiOZnH2sEfZnxzE45m\n",
       "/KoCZ+6Tx6q6jRt0RqI7fJeC1DpA9soHHvj19R6MVWUicmC84c1jL0GAox52C6zHS96cTiJiSXph\n",
       "/LH0yJAm++vWFr+uUnGQnwy71F9olLKWAT6Gz/hyGW1bLwN8JPGQYz38qVfshaU74OdoxhckZU0A\n",
       "6CQ0lqb3lmIBrhaH8thft7Z4JAZVKDLaMOxSO1AqU4V0CbIFF3oL4DLAAlss9IJnyH+/C2pjpE6Z\n",
       "419mDF3Ef/vEtUgnLHbaFzUtpOdJ4j1IVfRKgSQeJNc9rS8eiVyFEymSrmlVPHRR2TsbKJUCGNkP\n",
       "Nr93DgNsNCBFK7PpjpQClckyx7+AGErqnhVvBjphsR1fVEc2mSZJ3YF4X68USOJBct0dffEpQcWL\n",
       "psjrWhUPrSh7ZwOl1vDmqkHsPxf6F2CyDaNVkb6mNFnmqE22cTOCr8Qf6ITFGpkcL0F8eyiT1/Qm\n",
       "BxrkKpzIkJVok50utSajVB2giSbvuLsTMbkK2f0iva40WeaoTc6QE+E8rL/Pf6ATFktrtH47NPGN\n",
       "3mQcya1Ik2cO/fljd+JyUcxT15usaJCpiH4S5FK0yaRLR18um0EohRfqVgti99zd/i6a3IX0skhf\n",
       "UZosc9QmkxvG2rF/OM6PGDphsaxGuNY9E2ryZDfS5NbhrrVTtCtinhW9yYoGmYroJ0HeiTaZdEn0\n",
       "+3LZDEKpOWryXdHkFrBiGX1OabLMUZucxGPO7j8b+4TjdCKZ8S6cbhwINfk5iDI5UXwecvcgvSXm\n",
       "mdObrGiQqYh+EuS7aJOxS0d/WyrbhVBqHreLFiTIndzEq2uhybNdiGGxmXL5xVfLZVxX816xzWVe\n",
       "p8wRh4emcPlmjueBh7IJiT1TLr9WLmMfeVgiGJ/T9ELqTEGnxIMs6x9yemeWxTxC3R6oKt4hZgo+\n",
       "IkUmfWBQm3TJ9MWkLoRS887BZ5ODL1mjB98GXhjpQgvFOhxaZ8LgTiYmJz98D3gomySkZQ1vhB18\n",
       "ACch8k4Ge4s4nGqJeeb1d7KiwZOBk9RBno6+k0mXqB9flutkEErhShkpQJo/wj0KuHjBLhlsFyWz\n",
       "7aLZns1znE1YLKs80YcvQ0zG96m/I03GdpItmO01DLeLQIOuikekyLdG2wXR31eVH2oZhFJTuDNX\n",
       "nGVGx9tAFm+6INKn1AdfIdrkkS65Zs0257AJi3VqtB6LV6AVYvIEwC+RJuM93CzCwVxVyDMVcvAF\n",
       "GnRVPCJF3ow2mXSJ+huNluQIg1DqknMhP+f3WrJtvcIevTjdeYq5KnyoyvbBx7Fuu7su3bVZJHlS\n",
       "OgjNPH+3Z5OMYKq9fbGSaIudZKVjOnfs7NmSkNM5OricG3QrD6cBnsiKeeS6O9riCZGrcCJD6iKo\n",
       "1iZdov7P6bxkMoNQahxnF6884L3G168hNVkU6YTz4Inz/G0x/tDtA37OMb7r1gQ0hlU+CWPn+Cpg\n",
       "k6TwPGud635/Slr5TnqeJLm7uyteOEeAy7lBTwFcB3hmU7RJrrujL35cUOFEhrwgbQxKbdIl6l84\n",
       "Je/JDEKpZF61DG7KO6sBR/NafVT90eQmhL3xaV6dBn7jk+vumDYoEXMlg9fqo2F1olS6pgpelD51\n",
       "mHA0H4gW1CYvhn4g0nxpGfgDkVz3tGmDEjFTNfhAtBBWJ5E6ovrQX5DnJhz1GFH+ycEsdu/jiPYv\n",
       "GQVDItwYvktBatUgaHXAxMKX2gIMHbv3sWrqyurg1ym6S0Eqp9jpNv1Xw4CjGX+pwM3747GybuMG\n",
       "6fNeb/guudT/Jit+e38aBvwAAAAASUVORK5CYII=\n",
       "\" style=\"display:inline;vertical-align:middle;\" /></a>"
      ],
      "text/plain": [
       "(0 * 0) +  (1 * 1) +  ... +  (k * k) + x+ 1 +  2 +  ... +  m+ (1 + 1) +  (2 + 2) +  ... +  (n + n)"
      ]
     },
     "metadata": {},
     "output_type": "display_data"
    }
   ],
   "source": [
    "requirements = []\n",
    "add2n_lambda.apply(*new_operands,\n",
    "                   assumptions=[InSet(k, Natural), InSet(n, Natural), assumption1],\n",
    "                   requirements=requirements)"
   ]
  },
  {
   "cell_type": "markdown",
   "metadata": {},
   "source": [
    "Furthermore, to ensure unambiguous and straightforward lambda application, we do not allow a single operand entry to correspond with multiple parameter entries or crossing boundaries in any way."
   ]
  },
  {
   "cell_type": "code",
   "execution_count": 30,
   "metadata": {},
   "outputs": [
    {
     "data": {
      "text/html": [
       "<strong id=\"operands\">operands:</strong> <a class=\"ProveItLink\" href=\"__pv_it/lambda_indeterminate_params/d03850b8c7aeb68ec4c17406ca31486bed6eeef80/expr.ipynb\"><img src=\"data:image/png;base64,iVBORw0KGgoAAAANSUhEUgAAAT0AAAAVBAMAAADGPSRBAAAAMFBMVEX////MzMxUVFRERES6uroi\n",
       "IiIQEBCYmJhmZmYyMjLu7u52dnaqqqqIiIjc3NwAAACW8nlqAAAAAXRSTlMAQObYZgAAAAlwSFlz\n",
       "AAAOxAAADsQBlSsOGwAAA1dJREFUSMeFVj1oFEEUfrnk7nTvx2tSWSQI4g9oTvvIFWoXuPgDQQJJ\n",
       "ESy0yBkbBYuASE6uObQI2LhoZaFZ0kvSKMQUObQQJehBCAgSTSAgCeg5P29m3s7MXj747nj73vft\n",
       "2503uwsAbZC0UEwMEg/FkGBr6YrdpEJeWJa00dciwfoBeRdJtpZu3acdIYRVZH9IKnjw2YT5CIr1\n",
       "pyUd/3h8Lpb3AG1FZRxUZxvjtdUMg6ZgcPK56U8Gh82BVwAbkNvVi1KGpQrNu0BbWRkH1VnGCs8M\n",
       "D9Uk4Ts9HQ+yszqcAzgLcFOFqTZkJmneBdrKyjiozjJWuGeYAUm3P7ilQ3aK6RCG1Lhn9iH1j+Zd\n",
       "oC1WxkF0lrFWh5orLFzx9zevp4Qt1nGAITUnqSqkdkjeA7TFyjiMzjbWI1DTbLCw4e9vUS9WJP4m\n",
       "SEF6m+Q90LaiEnfuxzdvh6mvazxy+ucntr9zg5rz6oLc/u7TywHo+UsKBlok74G2FZUSud4zsNCm\n",
       "Osc4Ot8K2Dxkm5rj7Oi4v7/3+maJ51h6kBRcoXkPtK2olLiYLsPvEtXZxn2Vq1Bk85Cf1Jxih6dM\n",
       "fwtN09+AHlfxiHgonht7cmHKNO+BthWV0jZcqMBaiDpxxDYOgl3I77M7uq1p9ZeeNf1djvWXlVc5\n",
       "Jn5ngOa79TcDxnYN4JTSiSOOcX4bUqzxvknNLuv7LrYMq1Bsk8f+L5Lvsr6yEsGa+xNQnWPMmjtS\n",
       "CyFfBUW+oYb9/d3ld5xHvWzEeyIo6IqjAF9lHtyXiJAoW1mJuM0WL4c68BpnIjYBEWTZUCAX1YZf\n",
       "og9JETTUmPCtvlmvP9Lvt7F6vSrzYmxEEf8xEdpiJcp2oNC8o5474DHm2+dLtiSeO8h+/jXAeGz6\n",
       "SU2XyeAaX4Eb/AHATjHR6ezpZel0Ok2Zh+shzpL4GVMStMVK3J1VCE4so07ANoZLAC8eMFlFM802\n",
       "fLrkG6GiuPAP/Gc0OZ93F5hLkm1RJzHqn95NQ/629r/pxVcDROp9nZDPuYkIutmiznwIeDBHeAHp\n",
       "YEMMu3j697aT8vDa3R9CkmiLOtwgbe8dLhvCS6QD4V6Qpywn5cH9ipaSRNtY115j0bUiFFuSzmno\n",
       "pW0dkPfcgwRbS7fl034z/A+9gi+Oh4nUkQAAAABJRU5ErkJggg==\n",
       "\" style=\"display:inline;vertical-align:middle;\" /></a><br>"
      ],
      "text/plain": [
       "<IPython.core.display.HTML object>"
      ]
     },
     "metadata": {},
     "output_type": "display_data"
    }
   ],
   "source": [
    "operands = [ExprRange(a, Mult(a, a), one, Mult(two, n))]"
   ]
  },
  {
   "cell_type": "code",
   "execution_count": 31,
   "metadata": {},
   "outputs": [
    {
     "data": {
      "text/html": [
       "<strong id=\"assumption\">assumption:</strong> <a class=\"ProveItLink\" href=\"__pv_it/lambda_indeterminate_params/4271c344b269e50e6937c1a5629933393ce56aa50/expr.ipynb\"><img src=\"data:image/png;base64,iVBORw0KGgoAAAANSUhEUgAAAkgAAAAVBAMAAABPvwycAAAAMFBMVEX///9UVFREREQiIiIQEBCY\n",
       "mJhmZmYyMjLu7u6qqqrMzMyIiIi6urp2dnbc3NwAAABm9RoHAAAAAXRSTlMAQObYZgAAAAlwSFlz\n",
       "AAAOxAAADsQBlSsOGwAABRRJREFUWMO1WEFoG0cU/bIkZyVZ24Q0baHQuNcGjN2ASEogPuTgQ0qU\n",
       "HGzaU2iIcjIoBUFu3eSSQ6A22JBcTAw5F20Dpm0OraG+tQf53ECEA72Utr4UmzREnfn/7+zs7MxU\n",
       "S9qP/3q//v/v/307OzO7MAQpIashodNgGYJXHLDmb0MHcpoeOhD+pf5riiryFP9/x2rIVKwZFj/8\n",
       "5K/igM3iQmPVgSzDKLS5bbjpB2vmfyfc5lMiqTYgrZ/RQh5FAFupKfxh5/PNlGZpNNq+IgybSSPZ\n",
       "0o0NgF9vfGBEIPJWEuogaYPbRMlj2KVAwpZO0l3S2zcOlT946wsBdiRSPwj/HjRfKpuMW74ady1p\n",
       "JBouBF0Ip+GZScMtDsNQO0kik9rEm2bBsEihBGqTSbrO2jjUIn4QEdWryhT+9wAuKJuMRV+N65Y0\n",
       "Eg0XJttQGkJl3ghZ5DAMtZM02eY2pdgwrFIggdpkkuZZcyTBgjKF/1IEJ9VUSUYl8tSYt6SxpLhQ\n",
       "EX+HUHplRFSS8gtOkir6NdswvCSNk7CQklTrklpI6qn5RfiPA5xUswsZRzyTUgKbSWPppaf3xU2d\n",
       "hdILc6i3OaznJOl+ZmBYMPwjaYyEXkrS5IDUQtKueigG+O+8DiGM5lF3BQWrpU19/eUvp3RcgGU8\n",
       "lvfVuvbO749jRt5ltZO0rF9zBsNcprgqFE3YTUmSNw1vXJ6kpcyNhfrfWoA0ql3PtNfOpzUn3oWV\n",
       "oYabDKq+2hUM3o+DV4y8xEokXTstZU6R1DOuuR87OkmqQtGEpZSk8iqphaR1RTpuScr6wJFGzTP1\n",
       "KVgt7efyNPy5qeECnMXjnLqJ2x9C+IKR11ntI+mscc1zrk6SqlA0YT0lqbJNyiQFBylYX82j2OZn\n",
       "mh+N+r6bJAWrpUUr2/AwYlwCuoiP5rQ8rojREwQvoXbIyH1WO0kXs9dMGDZJqkLRhL6TJGilYDsZ\n",
       "kqpHNT8aU/NjkKSnPQR4W+G2FEmXaezJJbe2D6UuI++wjkXSZXcrXBWKJuyM9bitZR63DQiH2kZZ\n",
       "GLXZMR43PU2U/ivQcOmhEfvyPxJbMPRGOyLkNVb7nJR93HQMU7gqFE1YS0maiEktJF3Bwccx9QE0\n",
       "1G0goypHbGAZrxpsJu1j8Sw1GZdEriJfAXyrBuBAjPQBIV9htY+kU0mbiI4Y+W1bkFaNoGACtUkk\n",
       "ydUWV9ymvrl6NuRVFqcO6X/e6VxTbjJwicep5EA/USlmmpiSG91Pk3UfRSyzYavTUUNSTJjfVDcJ\n",
       "eZnVTtIut4nVEEN1ke2JqvJcak9I204TuE0iqT5LWnrz4IRq49ilm2L5PidPT0fkPz8aHaSbJDTK\n",
       "stnyGZ5fcE5p6Slm2tQsBCdWGZdfOEXeaDRSe4kfxUvkJ4x8jtVO0qOkTVmNMPDsqt6KbI6rSqcz\n",
       "oQX5BGqTX0s+Ys1/UcH7W4tcfniOxwf53Xbkg2Vcnro2ncgyDEPtJKnMWgS5MyUPADxh3gRqk0la\n",
       "BMerKr5CQhNcfnyHFfu//G7MC8u4+ZddA1mGYaidJJXZzNbNysDiHDOB2mSSJoakOdnD470kJj8i\n",
       "cKcR5Deu97ywjMsyAy7kvSTU8T1pRq9mnKl5OLY4x0zY078nBdOkOaEu4iQmJ0RBI++IvbBZXu6A\n",
       "C3kmCXWQdEevZpypr3dgcY6ZMMMkPcH/v7Ga8fowsPjhe/9LtAM2iwth7ECWYRTaMOct+iGM/9fP\n",
       "t9zmk38A70H+9reQlTIAAAAASUVORK5CYII=\n",
       "\" style=\"display:inline;vertical-align:middle;\" /></a><br>"
      ],
      "text/plain": [
       "<IPython.core.display.HTML object>"
      ]
     },
     "metadata": {},
     "output_type": "display_data"
    }
   ],
   "source": [
    "assumption = Equals(Len(operands),\n",
    "                    Len([ExprRange(a, a, one, n), \n",
    "                         ExprRange(a, a, one, n)]))"
   ]
  },
  {
   "cell_type": "code",
   "execution_count": 32,
   "metadata": {},
   "outputs": [
    {
     "name": "stdout",
     "output_type": "stream",
     "text": [
      "Expected error: Failure to apply (x_{1}, x_{2}, ..., x_{n}, y_{1}, y_{2}, ..., y_{n}) -> (x_{1} +  x_{2} +  ... +  x_{n}+ y_{1} +  y_{2} +  ... +  y_{n}) to ((1 * 1), (2 * 2), ..., ((2 * n) * (2 * n)),) assuming {|((1 * 1), (2 * 2), ..., ((2 * n) * (2 * n)))| = |(1, 2, ..., n,1, 2, ..., n)|}:\n",
      "Failed to prove operand length requirement, |((1 * 1), (2 * 2), ..., ((2 * n) * (2 * n)))| = |(1, 2, ..., n)|: Proof step failed assuming {|((1 * 1), (2 * 2), ..., ((2 * n) * (2 * n)))| = |(1, 2, ..., n,1, 2, ..., n)|}:\n",
      "Attempting to instantiate |- forall_{i in Natural} [forall_{f} (|(f(1), f(2), ..., f(i))| = |(1, 2, ..., i)|)] with {f: _a -> (_a * _a), i: 2 * n}:\n",
      "Unsatisfied condition: (2 * n) in Natural. For debugging purposes, this is accessible via Instantiation.unsatisfied_condition with applicable assumptions in Instantiation.condition_assumptions.\n"
     ]
    }
   ],
   "source": [
    "try:\n",
    "    add2n_lambda.apply(*operands, assumptions=[assumption],\n",
    "                       requirements=requirements)\n",
    "    assert False, \"Expecting LambdaApplicationError\"\n",
    "except LambdaApplicationError as e:\n",
    "    print(\"Expected error:\", e)"
   ]
  },
  {
   "cell_type": "markdown",
   "metadata": {},
   "source": [
    "### Providing alternative expansions\n",
    "\n",
    "A variable may occur in an expression in various forms, indexed over different ranges.  In order to treat the various forms that a range of parameters may occur in an unambiguous and versatile manner, you may pass an optional `equiv_alt_expansions` dictionary to the `apply` method for specifying various expansions for the different alternative forms.  The rule in doing this is fairly simple and straightforward, but allows for a lot of versatility.  Basically, if $x_i, ..., x_j$ is a range of parameters of the lambda expression, an `equiv_alt_expansions` may have various keys that are alternative ways of representing $(x_i, ..., x_j)$, such as $(x_i, x_{i+1}, ..., x_{j-1}, x_j)$ assuming $j-i \\geq 1$, and the corresponding values of the dictionary are alternative ways of representing the **ExprTuple** of operands supplied for the $x_i, ..., x_j$ parameters.  These alternative expansions can provide the information needed to expand the variable in its various forms.  The requirements to allow for these alternative expansions is straightforward.  The alternative ways of representing $(x_i, ..., x_j)$ must be equal to $(x_i, ..., x_j)$ and the corresponding values of the `equiv_alt_expansions` dictionary must be equal to the **ExprTuple** of operands supplied for $x_i, ..., x_j$.\n",
    "\n",
    "The following is an example that demonstrates the versatility of this feature and even includes some partial masking of a range of parameters to make it interesting."
   ]
  },
  {
   "cell_type": "code",
   "execution_count": 33,
   "metadata": {},
   "outputs": [
    {
     "data": {
      "text/html": [
       "<strong id=\"A_1_to_j\">A_1_to_j:</strong> <a class=\"ProveItLink\" href=\"__pv_it/lambda_indeterminate_params/6f07f7e1cd84e684d7c7dec96c23c91dfce5a4940/expr.ipynb\"><img src=\"data:image/png;base64,iVBORw0KGgoAAAANSUhEUgAAAIAAAAAVBAMAAAB8u/sIAAAAMFBMVEX///8QEBAiIiLu7u5ERES6\n",
       "urqYmJiIiIjMzMx2dnZUVFRmZmaqqqoyMjLc3NwAAABb1yYoAAAAAXRSTlMAQObYZgAAAAlwSFlz\n",
       "AAAOxAAADsQBlSsOGwAAAZBJREFUOMulk71Lw0AYxh8ba1suTfsnRF0El4Cio4KL4FAncXDon9BB\n",
       "EOzgx+RmVwc/ZpcG3NqloHsFQXBqnURELSLSim283DW9u1xqBx+45r3fe314874XwNcrQtKALutW\n",
       "2jTC2cZog3RLxKYXSmogQnXJgJSbalIDEar0RHx2vq8mNaAr9dwW7Sjs1dT+hEGEnhI/omDU8+ob\n",
       "hEGEXPNrEG/huKQkNaArXkt2/Cd7VRfvF8CCmCsDxsmlM9yAwPr2nzN0Jdaq5WUkd+wgyQEBsYcb\n",
       "bFcrn0G8CGToUdNWQWbdag/9v1EAPkTBiGVlAw4mnD8MCF2T1KdIpxXP82vpGxisP32AlM2BKtaY\n",
       "DX7diUkb90jj8R43WPIbGQAcOgwYXfQzg51FK0auibmUi3nvDmauW2IGsWkIYK1wgFm6Ym7wM+XA\n",
       "yHUd3HgPtFLpvrAeXEu1vuBNBf1z8nAzzZCBdH+s1aMrBQQfgbw5kM6fdgpsOoHGPK+lADFkod1Q\n",
       "MoFRAFAs7/EvpTez/zMgRQe/2yZtHKTLEo4AAAAASUVORK5CYII=\n",
       "\" style=\"display:inline;vertical-align:middle;\" /></a><br>"
      ],
      "text/plain": [
       "<IPython.core.display.HTML object>"
      ]
     },
     "metadata": {},
     "output_type": "display_data"
    },
    {
     "data": {
      "text/html": [
       "<strong id=\"A_m\">A_m:</strong> <a class=\"ProveItLink\" href=\"__pv_it/lambda_indeterminate_params/8f1646f65cbfed7f14d5310f17ee8eff34f52e950/expr.ipynb\"><img src=\"data:image/png;base64,iVBORw0KGgoAAAANSUhEUgAAAB4AAAASBAMAAAC+3HPqAAAAMFBMVEX///8QEBAiIiLu7u5ERES6\n",
       "urqYmJiIiIjMzMx2dnZUVFRmZmaqqqoyMjLc3NwAAABb1yYoAAAAAXRSTlMAQObYZgAAAAlwSFlz\n",
       "AAAOxAAADsQBlSsOGwAAAJdJREFUGNNjYACBtwyo4D4ql+c/Kp97/QMU/rz5DchcvoL6AyjKGc4n\n",
       "IPNjGPonIPM3MLxfgMRl99693gGJb87AwK+AopyBSYCBbVt7FXsK0F5WoNm8HxjMAhMYF7ADzXkI\n",
       "VMLyj+FxLQN/A/cEBpP/lxl4/P9OYFjO0MjAhOQuCYYShvccCEd/AKpI4YbzWRcw3GN4VQwAQf8m\n",
       "+cRkQ/sAAAAASUVORK5CYII=\n",
       "\" style=\"display:inline;vertical-align:middle;\" /></a><br>"
      ],
      "text/plain": [
       "<IPython.core.display.HTML object>"
      ]
     },
     "metadata": {},
     "output_type": "display_data"
    }
   ],
   "source": [
    "from proveit import var_range\n",
    "from proveit import A, B, C, D, i, j, k, m\n",
    "from proveit.core_expr_types import A_1_to_m, A_i_to_j\n",
    "from proveit.logic import Not, And, Or, Forall\n",
    "from proveit.numbers import one, Neg, subtract, NaturalPos\n",
    "A_1_to_j, A_m = var_range(A, one, j), IndexedVar(A, m)"
   ]
  },
  {
   "cell_type": "code",
   "execution_count": 34,
   "metadata": {},
   "outputs": [
    {
     "data": {
      "text/html": [
       "<strong id=\"partially_masked_lambda\">partially_masked_lambda:</strong> <a class=\"ProveItLink\" href=\"__pv_it/lambda_indeterminate_params/38d7b2d14a87dc5d26275c7c48b75ff4847f0b260/expr.ipynb\"><img src=\"data:image/png;base64,iVBORw0KGgoAAAANSUhEUgAAAxYAAAAZCAMAAACb3kjdAAAANlBMVEX///8WFhYNDQ3MzMxUVFRE\n",
       "RES6uroiIiIQEBCYmJhmZmYyMjLu7u52dnaqqqqIiIjc3NwAAACzeusSAAAAAXRSTlMAQObYZgAA\n",
       "AAlwSFlzAAAOxAAADsQBlSsOGwAABvlJREFUeNrtXIGSpCgM5U4UQRD8/589UVTQBIJ2T09PHVU7\n",
       "2+OGkJCXkAS3GfvqITv2/YMLIRz7f7xk2Hkzxwfz1fHxF9mkTpRR/QVLDt+6/b9qHKJL+YRNuztY\n",
       "7F2uaCT3GjPCbDpbwUIPT+Ry74Ujnf3vcYtKJPzcZhJWPJBDcwtMYhn4jCax0VS04vQStRA2tsLV\n",
       "W/lErhfp8Zy9tw8/TkD5Ma+oRcLPbSZlxR05NLdAJRb6GnLHqaRfmYJmAozNoMnxoifKZcYqPUxl\n",
       "bvqUvTeA2ouk4WOJTBEJfDdNY2+CAmdRSQ6suCHn7BaV9rFLiFIJE8WnglnKFLTSBmMjyfWCMjS5\n",
       "tBhqBIDJM2h6yt7/3vBLbvvjo4gEuUOzbW6CAmdRSQ6Jp0C3qLQP05N3ryTkGmemvLhlClqExdn0\n",
       "yHFhz2pMHY2hlbyrEAAkzyXkT9kPcagz48fcoowEgeTlFaAQdcVI1YoBOSe3qLTPbIp5/hiv5yyz\n",
       "U9YuZQpa/pNhMxxa6VzbqZk0jaFgTVshAESet9xD9kNsy8/V3wQkbD6rxtugQFhUksMrBuSc3KLS\n",
       "PvNa7SkTUT7nyhYsZQraeZ1hY/glVkC/MStoDH0heUnYcXqQvFCnPmO/wrEXfvTmczlUGQlbzBb3\n",
       "QYGwqCSHVwzISd2i0j4eWH0Sm1k3+hicM0yZgjSybOSAOMKYOj0faAz9npxPmgw9RJ7taDxmv+qh\n",
       "ljO91R9zCwoS+CKktQ9AAbKoJEdWDMhJ3aLSPv5f5zQkvhL0k93E81G+QEE9LHA2Y4+eDwlo2pbE\n",
       "cC1mhSYKAJJnBoV9kydfjen49gNMIQnPaQ0CPBnEkKBdhbba3dmw1+xvQE7iFpXmX7PzhvVdhDql\n",
       "5gJ9RZuWQJYbU2hjOL9noWQhQKr947//iGRMcZU9cJLkULjJ6FEZzIrsF6M0WfIgrvd5E+mne7gm\n",
       "xJ7TvAKfjCGBGZuNvTgxA5FUeRwXVzz2NyAncQuKfc6J24yyYzP0OnVaQnRj7TX7Syi8pErcMk3M\n",
       "BjjD0NOiG+KWglAUyUMzXguaHhB5VpcS+zL55hajTQtug9SE5knLIzMZQUKpNMKIN+tckFRZvNFX\n",
       "3JATu0WlfUKHtouOzqCHCKgcBZj77BQ+cLtbvdrTQpd9EIhbNOlN33Fa5CSHWhkZPSobJWX2hMbK\n",
       "sP8to6DWNT14ZGHPaUVdZjKKhHxfByNuIYPeafWRV9wWit2i0j7htGhYu21Tt3UIp1SZA4ophdQb\n",
       "nEiZFMpGyTmecGbldmEjW8Qtzg0cXpA8YRE1vjE9EPKCzQrs59gUmQRkP+wmjP3exlkiKz+npa+Z\n",
       "yQgSOpvMON8CoMS4W1ReDOVXjPc3ICd2i7L5L/ibczG3t0P3NynacPsXlNHTxvBCMRtSxBSZDygb\n",
       "Lbt+FrPn26V70ihMtuOcj/I2L/m6RddrUkwPhDynFYW9ii4E4EvbY2d4DGCmBhDY8HOiV2Qmw0iY\n",
       "M474fuh8Z4wT426Rssjub3HFZH8DciK3KNoHwN/SiWoWmXU7TUuoGv0HEysjwqtTV4p5ro4oomz/\n",
       "+gFj47T1SvlovbmDQEKJaa7t5azki++cX6rJ6MHgd3ByWpXZa80MTp64RSgPQ7azKcjaNAu6PN+i\n",
       "iCs2d6PJTF2IYSQ4fUJ1nI7kiHG3OGWouf0trpjsb0BO5BZF+wD4Y7JP2yRwij9iu73bYaSkURgR\n",
       "n+Vt+iO3ddRqt5t0sTghDffmy4KhcNMFvrJjjOGAgsDzAIpmLDY9MabXhhmYXFHGQqzaefT+h7xj\n",
       "j7v7uyGn7v9bnPHnX5di+Kt5uzLYrYebJzqXo0iDPdYA8SGs9fn92n9WZKX67iVucejxplF6i24A\n",
       "s51Q8YxJxxN6fhzIuphCbWWUhKwOI0FPmt5XiYjb22Hq7v5uyKlzizP+NjdrXRZc2mIxtmma5SjW\n",
       "lHCCspmCx8710nLLQm9SKPMKtzj0eNNoelbrFqEq9M3UcS2ptIGfX91ioUx/XCY7p6EjCkTCnLnT\n",
       "Lxki4h9zi21/d+RUucUZf9sbtHO6BVGbYVrjEYb5fvIjR3ENVVAqxEOPyXGrcSel4+2QnBgtdj3e\n",
       "NCyvdQu11N5aTf6eZq0Vm36EnhullJj/dIdbLJRN76If18lMQiEFRILmlm6SiLi9aY/b+7sjp8ot\n",
       "zvibp2+tB8t+zbA12Qwf2ReMUmmRf2lWC7ZqOSLPr0kUsCuXR3CL9JVIaH94fw/kyGevsn79103o\n",
       "4ff7RFfMoQrvkrdrEOs0/PwouW2/3l1114Tw+ki8XXP1sf195hbSsm8fo/ntEipbLltIzi3J+JPF\n",
       "yXb8G1+Zguzvi77544vHn/ieqOHZ90TVh4aR/xWvALJwIfonbrF62X9is2EbnwJIDwAAAABJRU5E\n",
       "rkJggg==\n",
       "\" style=\"display:inline;vertical-align:middle;\" /></a><br>"
      ],
      "text/plain": [
       "<IPython.core.display.HTML object>"
      ]
     },
     "metadata": {},
     "output_type": "display_data"
    }
   ],
   "source": [
    "partially_masked_lambda = Lambda(A_1_to_m, And(A_1_to_j, Forall(A_i_to_j, Or(A_i_to_j)), A_m))"
   ]
  },
  {
   "cell_type": "markdown",
   "metadata": {},
   "source": [
    "On its own, this **Lambda** expression is ambiguous.  There are different interpretations depending upon the order of the $1$, $i$, $j$, and $m$ indices.  The `assumptions` and the `equiv_alt_expansions` supplied when calling the `apply` must resolve any ambiguity.  So let's set this up for some unambiguous interpretation when we apply this lambda expression to some `operands`."
   ]
  },
  {
   "cell_type": "code",
   "execution_count": 35,
   "metadata": {},
   "outputs": [
    {
     "data": {
      "text/html": [
       "<strong id=\"operands\">operands:</strong> <a class=\"ProveItLink\" href=\"__pv_it/lambda_indeterminate_params/9535c45b3fb278070cbf9abbdc8dedeb980b111d0/expr.ipynb\"><img src=\"data:image/png;base64,iVBORw0KGgoAAAANSUhEUgAAAcMAAAAVBAMAAADIuJhrAAAAMFBMVEX////MzMxUVFRERES6uroi\n",
       "IiIQEBCYmJhmZmYyMjLu7u52dnaqqqqIiIjc3NwAAACW8nlqAAAAAXRSTlMAQObYZgAAAAlwSFlz\n",
       "AAAOxAAADsQBlSsOGwAABNNJREFUWMO9WF1oXEUUPpvm7t7c3b1JLQVfSuJWH9qXbFMqKMbkRX0K\n",
       "XR+qJfggWBAFdcEXFSRLa61YkAWhhfrQa0VFtHYJ+KBSjIhi6kMXpfhi0sUiFEJN0x9jbON6zsyZ\n",
       "e2fuTPa+SA/M3bPnOz9z7pw5M7sA0AE5LOo42QyhohB6UgfuDIk45Tk5bJqKuSzcQb/1Dj31P6cS\n",
       "NnvE+YkH08vdSuXdIZlYXQmzcJtKrZgtTFyr7NiVwjXb02OV+pKOWQKbLJWBqymNX7pj28c6Ik7Q\n",
       "lCOmZwD6ViR7gkVZuIM+0fh8FWB0KKUQ25ZfiODHJ/Xs0wKbbJXzIsWd9NgmJWv4cm+LOH5djnjF\n",
       "1wH6/5b8KyzLwh10ROOX2wB7GykFZRvsweT9fxPAEtjkUDkovr1OD1kwOZwnvCni5EGOuKxwhQrr\n",
       "/Poj/szAHfS0xs/ghGbaKQVlO/A8Pvo1dUtgk61SXBKF5SW7skyCvXWKM4/cvKbchys+8CK74tXL\n",
       "wh1bUS/tURzH0i1U2X5DnSynrbElsMlWuVK+LTJFwJetcRNV7nKL4hxF7qi5cYL7eOMUR+RnFm6T\n",
       "3zJ376nH0xpsG94UlZfsVEvg6J62SqO0qvqqJyWD2ABgeITiHEfuuKY8PL6wQy1OgdciC3eUkra+\n",
       "uesLP5OHzw0Nti2up1NfzzwgYpXYY/9c7pZg7gFY4HnSzphpUZynkMPh7yPCtb/YgdKzAB/TDEpc\n",
       "7jYefF2JEtwmD6vlMFnsx12BneAHTPmsAnXfHjeN4FVlyYJPZ3du6Fw1mtijD+E1wdwFMC1FF2mR\n",
       "RycpzgHkDqgKwOK5n2p9KLdQo/fPh42N++DXEtym/CQzv+OuwGSKK9qq6r7z4iOAbReUJQsacHhD\n",
       "56yiHYJvHbwuq6dT4i06QY+/RJx0ivQ2sP2ValrTsvHByXClV9/TUxwcSXqw7EWab09M91uA79US\n",
       "seAGLG+0H2Ob+BDBorzJN44B7muUcmFVxOFCVSnkVnl9a2ouTrwQUYoKdxeqSnEYi7TvBkyNGCmy\n",
       "rTzdWkmKSvDaxikqldijj+MJyda2QHIsflQVccaRHVcpNMTGya3xDApVWQ4OHIq1BDeJDrxN6hi8\n",
       "LHYvDDeD9j9GimxLNwkoRjJFQwBfSFepUz9RER6FxmM4Tkr813shORYfkHFm8WNWa4VYP4+e4Glg\n",
       "6z/TdOOwNYrxgFIWj/ibfpwcw2p5Lgo/qxkpKt/n69D/FcgUDUFuOuUz/sYq5FHIQqr5CVmgHzaT\n",
       "O+sjDRlnK003OdjpyvyQmoY3Cd60Gw8f1PD9wA+PnO7D5HNJCW+ne/ucWNgtu5E6pu/gUOUN4BQN\n",
       "waVIuhI+kwiaCpUKagQTaxF8131P1uxcPM/d7wDHwYr37KoX0/gDxzlw4pfhzwRPmVLxWEc9nHnf\n",
       "6VuR2IuaIGyEHenKpHOmx1KUcYhinEJDDleKR2QncODhrs1vJ3jqZHbf0Od9p28jRU1wafPdkXRl\n",
       "Usv0WMy6J1Cch3mYKXx5qw1hVfZjB57vdq9quPlbTlwRrZ/1pxbdviUtnTxrCl7qdtmV2W7apsfT\n",
       "WT+V6R73AQ+baJplwWXhBolJBNXeoZ22ZaerniptyI4DYVsOmxaTd5GBO+hK79CLd+i/G4zzH1DW\n",
       "m0JIuImSAAAAAElFTkSuQmCC\n",
       "\" style=\"display:inline;vertical-align:middle;\" /></a><br>"
      ],
      "text/plain": [
       "<IPython.core.display.HTML object>"
      ]
     },
     "metadata": {},
     "output_type": "display_data"
    }
   ],
   "source": [
    "operands = ExprTuple(ExprRange(k, Not(IndexedVar(B, k)), one, subtract(i, one)), \n",
    "                    var_range(C, one, i),\n",
    "                    Or(A, D))"
   ]
  },
  {
   "cell_type": "markdown",
   "metadata": {},
   "source": [
    "This gives us the replacement that should be used when encountering the range $A_1, ..., A_m$, but we really need to know what to do when we encounter $A_1, ..., A_j$, $A_i, ..., A_j$, and $A_m$.  First, we will need some assumptions for our arbitrary (for demonstration purposes) scenario."
   ]
  },
  {
   "cell_type": "code",
   "execution_count": 36,
   "metadata": {},
   "outputs": [
    {
     "data": {
      "text/html": [
       "<strong id=\"assumptions\">assumptions:</strong> <a class=\"ProveItLink\" href=\"__pv_it/lambda_indeterminate_params/ee3f568d0e498e80c77f0a5926744b81ab16f8040/expr.ipynb\"><img src=\"data:image/png;base64,iVBORw0KGgoAAAANSUhEUgAAA5AAAAAZBAMAAAC1NdyaAAAAMFBMVEX///8AAAAAAAAAAAAAAAAA\n",
       "AAAAAAAAAAAAAAAAAAAAAAAAAAAAAAAAAAAAAAAAAAAv3aB7AAAAD3RSTlMAZkRUmRDNuyLviTJ2\n",
       "3asqG0tJAAAACXBIWXMAAA7EAAAOxAGVKw4bAAAHj0lEQVRo3u1aX4hUVRj/Zmbv/J9xMtGXyDEo\n",
       "MKLmxSRJXMMUQuE+WQ+uO0tIPtQ6GTVKCuOLviRuQYhhOD1FEbZQJEGyE22lZTakliibK1aulLms\n",
       "rCkFds655557zrnfuXN29cEFD5zL3Tu/8/u+7/edf/fcBYDZcOeVbgtM1+0km9mFRZiIiLNh87wR\n",
       "YSE9Tc9qFpjU7SFLo242bi1uaw0aU3ieNiJ30Zu1Ziv5iuGHR2xAtMRb2oOef15z4YMbZQzsnKtv\n",
       "gOyBtyK1DwiiE2lFRstXvJojnEbckRpMVWHZUxwZoyZeNptZQi+HXPVh7hSxX9JAaDlMWn6pP3wl\n",
       "PgrOOP9jWBtjlUcBerVBlHvVQNBhRFqRkQmpyWp6xQuDwcNhJcKIuHVx8t02GgSBWykseRri556S\n",
       "FukBc6eu0us36sP1KyfJdYMGwlr/tok4mNSchMuN9wB8m2fU34qnsyXIaNrnqwaCDom0IvMmpLV0\n",
       "cspOBA/PyBFGxa2JA4WmjQYicCuFZU81fuHpcbJlaJp3E0qvWOBrQc3MMYCU8iMJIKZ3oQu1ZAPa\n",
       "Bu0Xw0YoQFe9vrdunCg4war61nq9FJVIGzKA5V4dA9inPJ8TmgWt45bEwjWYmsKypyF+jux1YVbZ\n",
       "6E1G+etJ2UzGxUGhRMLbvNX2kZ/Zzdh96aqeyG9HRljXLO5o7STao8tamMAwIn1gFJlUBrx6wIUr\n",
       "ygYj42KJtIpbEkvRYJoKy56G+DkyWYIh1+jN42YzyRIOCieyz1vwX/TNjBUHv9MS+dDX/iBq/Jlv\n",
       "4tojBHgiBTCCTF54ql69DHBlUP4hWcISaRV3KJF9t6Sw5CmaSIrsqsEPJPbjz320LffhZt3MM3QW\n",
       "PzaKmcmOSiBTexbEQXa7U3SXMailyl4inWHmbFosB8VGCjZr2q87biIQiVTsC2AEmTy5NcXqck6s\n",
       "bNSvIEJj3JI4Pv9yNJEH9e3DcGkKCkue6vzC0/wA/EHuUn9B72x4gsFHWGEsfeyt+03MTEx0jz61\n",
       "fSiRc9ntRgjy8KlzyktkNs5mi2QjSGSuu6dH1b47UzIQiEQq9jdakK1hMf7qd2ev8+f+E3zUr1gV\n",
       "S6QStyQOL82FaCLnasrywC0U1jzV+YWn8UmoAzxQqMGeFszXE3GC1CNwFTOTGJBApvYsCE/eqpSH\n",
       "WGWx1/qTLvY4GexPGnBvYqtyGJNvzKoYCMTJjmK/akEmbzMrXiVXMQSYX4kBLJFK3JI4/L2hshJN\n",
       "pN7FeeCWCgeehviFp7l/oR/A7S3DMhdW6omgL9NuYpL3jH28ZzAzuXEJJLdfy7rQ2SCIIRbhu+Th\n",
       "LzwP8HvRc9LNsFflz2mLGte+6F5SZyHKbCLgRbYfAM1kynaj7FWAVQxxzfeLRei8xMIZxOPm4gQg\n",
       "B/ZrYkkayA5nWlNQOPA0xC88TU/ASfL3MqAqvIMlErraWH+JD8ggQ3sWBJsMnJo0oGC9wzk9WZ+V\n",
       "R6Qz2qOxrIkg4EWyHwDNZGgiY96APOn7FUdHpBp3II6/IZlER+RC3arfn6wUljwN8fueOhN0RNJ1\n",
       "8gzErzvaGnlCecVVB35bnmKk9qFELmW3bTkPuRZXu5+1KMiJhC9S6LszTsCLbL9tQSatPGJqXQJp\n",
       "sVZTvxJtdGpV4g69nydHXSyRS/XdR7+DkSAKa56G+H1P02xqJX2ZZLRY3aG5vo1e9pTRpbjGZioO\n",
       "MrRnQcxjt8fEw9dJ/b7G2joTWUYoziJTZHrKHwomQranncAJ/FkKNPvHcDIPmJ4IHeS1vJprQt6f\n",
       "dplfsRq62VHiDsThpbfcxBI5T9+1EgOOjcK6pzq/8DR3HS6ydMbGIdXUz3jYrnm+/uqSvc73wtBb\n",
       "9UCm9h83+A6bdCWxyXietq6ytrnxHeJRgBJLNaOnzCgBj4SuaYp9AVTJGNAnkwrdu9O6e8UKMe0y\n",
       "v0InXuG4IbS/G0qXtERKGkibImIAIQkrrHuq8wtPya71KLm26WFsfLX+6eQwvVzUzBQvXTtPxjnt\n",
       "RYVTHsjQ/u8D/cTsT56OFx/0Hn52o8aOGFnb855b6zd7YyG3aa/8NYZBoFjDCXgZcTX7PlAjY0Cf\n",
       "TNa07dVzN29eEw+pXwVtsCFxS+L4oHu0nMgaSIUYQEjCCuuehvh9T2MD8Jj5ZKdAd2v7scME2M2u\n",
       "i3xQxMc4vqjE3+cnbH5ZJN0/vH0EO3pnEH+DFyLg24uQ+1HATPiL0lle9bIbDUeLe3/Hkx1Zg3B0\n",
       "HRXWPcWgFNk1yvfeaIl1w4XYJHZOyw9wmxB1Ihx9ttzs/CGPQIqV+W4kJguWJWsgm4MeUKtH1Ia4\n",
       "JXGMh+ZmDZo2CpuO8RdoyGQp6usHbMldLaBfPtNsinJY/94Sqd8u00euVkfpKWSociIatM42kesM\n",
       "ZKmGV9EII+M2iWOnQQcSxD7ipUD2upAzf48kb3irn0J/8DjzoL4Gon3B8DzfOX4K6RouR4Natols\n",
       "Gcjoi6djq5oat0EcOw3yNgqHPDUh7yf1QsQCZ5LpiA3IOxSDO728was5wmnEbauBlcKypwbkaYj8\n",
       "n527ZYYU9j87ieZdIWZ68Vbh2XeFmOnlaYD/AZkl9iYNKVJQAAAAAElFTkSuQmCC\n",
       "\" style=\"display:inline;vertical-align:middle;\" /></a><br>"
      ],
      "text/plain": [
       "<IPython.core.display.HTML object>"
      ]
     },
     "metadata": {},
     "output_type": "display_data"
    }
   ],
   "source": [
    "assumptions = (Equals(m, Add(j, one)), InSet(subtract(m, one), Natural), InSet(i, NaturalPos), \n",
    "               InSet(j, NaturalPos), InSet(m, NaturalPos),#InSet(Add(j, Neg(i), one), Natural),\n",
    "               Equals(j, subtract(Mult(two, i), one)),\n",
    "               Equals(Add(j, Neg(i), one), i),\n",
    "               Equals(Add(j, one), Add(i, i)))"
   ]
  },
  {
   "cell_type": "markdown",
   "metadata": {},
   "source": [
    "The last two assumptions are redundant so we don't have to bother proving them for this demonstration.  They were chosen to give us precisely what we need for proving the requirements needed for our lambda application demonstration.  Now let's make some needed alternatives to $(A_1, ..., A_m)$ and prove they are equivalent to it by calling the `ExprTuple.merger` method which will automatically apply some theorems."
   ]
  },
  {
   "cell_type": "code",
   "execution_count": 37,
   "metadata": {},
   "outputs": [
    {
     "data": {
      "text/html": [
       "<strong id=\"alt_A_form1\">alt_A_form1:</strong> <a class=\"ProveItLink\" href=\"__pv_it/lambda_indeterminate_params/85c8774d8bc6f88fd42bf866df6a73c2bb50ea920/expr.ipynb\"><img src=\"data:image/png;base64,iVBORw0KGgoAAAANSUhEUgAAAWQAAAAWBAMAAAAFqPttAAAAMFBMVEX////MzMxUVFRERES6uroi\n",
       "IiIQEBCYmJhmZmYyMjLu7u52dnaqqqqIiIjc3NwAAACW8nlqAAAAAXRSTlMAQObYZgAAAAlwSFlz\n",
       "AAAOxAAADsQBlSsOGwAAAzNJREFUSMfVl09oE0EUxr+SpN1uNpuI1Js0eC9VAiJCG73Ui0IEFREP\n",
       "FTx5CvTkLdSDxV56KyjY1R4KYm3xJqIGpEL10NAerIIaFMQq2qqIpJXG2ZlmM29mp1kvog+ymXnz\n",
       "vd++nb+7AKr4j8z1L6kyL6+ojSsR4seMTSuRlRGwEixeYZdnojyhBk60ZneuGZsmIisjYGXYc8AW\n",
       "j+TUFZnmCLEFYyJq9MKfpKyKCazTg1XkJatXmdKaI8SGN00tarRZGQFLYB0ltIvSw0cZqtMcuiU/\n",
       "fTU1KdHbKCNgKewC5sWMr7wp0yWgOkLsc+qXaQEp0WZlBKwCG8eo6HssFOlgqI4QKzk/TfNCiTYr\n",
       "I2AV2F2WtG9H0T1LdJpDt3i5bYP93QlpEtF2tbXSiEXGkMpFnBVPhtUsMNXcELnDvr/HM7MtuN/Y\n",
       "34NGXY1GstJaacTiOIUF9gTn+XFyYKR3L9peFRp+4bBgFczspZHh71JViw5VWlTZGqvBukXK00Ca\n",
       "YZwAJRzpQ655pdusD3+Q7VOJDlXGqDICVoFhQEyMEpAYlFHC0eFtk7LfX6eAY1k9ZREdXwxRtkx5\n",
       "S2wvl2kql3cvpob8+T2HPn/GF8Up6aP45G04kCzA1juCX4/wk9SurMspy9HTaU/UZWWQso6VxbCc\n",
       "MSHZgk0NFNuzKf+hh9ieAbz3WZscZdcgOdDlYYatFe4lBbhsVJCvurcLUsok+uOcqBNlkDKlBbUt\n",
       "MW4lS6KlAXuBdMbyd45RdAGT9atw8rVZjjrpSQ73IBuVM0x3mv0SpUaBeex8zcPj+jXEKtiZY1bV\n",
       "o/t4XVZeyu3P5YpcSbH8IovRWeSSANaDXUj4k+UEEhm6gBx5W/uAL8BTbQRlz8wNU7S9niF1rmzO\n",
       "ZR1Lbp2uUsk5LGG1jQ1DwX/NICkn5aNy344rgH6kyJ55yxTtjJVInSubKetYWcz6lEjcNdbPQ4zg\n",
       "v8b1N933Nir+nhJYe72+xncdfR8K7OZrU7TdUyV1row1lDqWiLFI7xPP4jrevgTescokjdNIKbT2\n",
       "GKM1WmwbCBGPG+7Tz1+U/ua3mxXxw+TwYHhD6p/9UrWWzS83vwGMEz14GTCuJwAAAABJRU5ErkJg\n",
       "gg==\n",
       "\" style=\"display:inline;vertical-align:middle;\" /></a><br>"
      ],
      "text/plain": [
       "<IPython.core.display.HTML object>"
      ]
     },
     "metadata": {},
     "output_type": "display_data"
    }
   ],
   "source": [
    "alt_A_form1 = ExprTuple(var_range(A, one, subtract(i, one)), A_i_to_j, A_m)"
   ]
  },
  {
   "cell_type": "code",
   "execution_count": 38,
   "metadata": {},
   "outputs": [
    {
     "data": {
      "text/html": [
       "<span style=\"font-size:20px;\"><a class=\"ProveItLink\" href=\"../packages/proveit/core_expr_types/tuples/__pv_it/theorems/25affb7a8c81ead7ae47a3a75d143c7ed8067f4d0/expr.ipynb\"><img src=\"data:image/png;base64,iVBORw0KGgoAAAANSUhEUgAAADwAAAATBAMAAAA+KHOiAAAAMFBMVEX///9ERETc3NxUVFQyMjKq\n",
       "qqrMzMwQEBC6urqYmJju7u52dnYiIiJmZmaIiIgAAACrFvqoAAAAAXRSTlMAQObYZgAAAAlwSFlz\n",
       "AAAOxAAADsQBlSsOGwAAAOBJREFUKM9jYMANLjDgBQKkS3OdF/Ri4K6vgEu/RZVnDGhmYFiP0H0a\n",
       "VZr5EPcEBnYGXkHBQkFJTNOZAxmcGHgw7H545owDWFrzgQqmdMsrmG4FM74NcGmutxNATCYvuOEK\n",
       "jAwScGlujgIQk0UBIc12Yc0aWKil8oJtZEE4TYFhKqs4jLeA/QGISj8DBAJQaeYF5nDV8QtA5EJk\n",
       "3VwGa+BcZy4QyYMszZDHCA/jH9wgiu8BPFATgLxEGI/tgyaYdoUJsAQAiStwwyzB/mZYLLEAoty/\n",
       "EEguwQjrbhlIoKIAAIMgK9/kDnzcAAAAAElFTkSuQmCC\n",
       "\" style=\"display:inline;vertical-align:middle;\" /></a>, <a class=\"ProveItLink\" href=\"__pv_it/lambda_indeterminate_params/319413f06f46b6c6a6feca32af6ea654909c0e480/expr.ipynb\"><img src=\"data:image/png;base64,iVBORw0KGgoAAAANSUhEUgAAAIgAAAAVBAMAAABvbLv8AAAAMFBMVEX///+6urp2dnYiIiKqqqrc\n",
       "3NyYmJgQEBBmZmZUVFQyMjKIiIju7u5ERETMzMwAAACiJdmqAAAAAXRSTlMAQObYZgAAAAlwSFlz\n",
       "AAAOxAAADsQBlSsOGwAAAbdJREFUOMt1lD1Iw1AQx6+fSdpauzm4dO3Uqh10kaKD4GJAFBehowpi\n",
       "3QWLgoiTk+jWqVAQzKJUEMysiFk6KSLq3nZwE+u9vNfUXK4H/6bcO3537727B8CaqRT0BiwGQyxZ\n",
       "kiI2zsWGLPeTfqULc1JrJ2//nE1Ilmngpw1wI/PWyFKq5irmQD4z8E4CXJK48yuEJGx2N3rZlWGC\n",
       "VvEtbNDIewTEqyxEk9J+wPj2L9gMBPZYyKKUUQDj17eQKHOQOurxlkIOlAAiHW//TQSETzlIDlXV\n",
       "BF+fcs2NqisBtK1+eDiExxOvcZAtvBtzlHZEUQlgxvN96QiIVjjIAtYJS/S4dpVAd8Tvs8hva1hU\n",
       "WuzuwS15dgBpi3+HMAyyKQ/GvUORKsRWMqa6yH8m/e1Es7DixTdS6ChwkHkxQV1ayYvSB8Cddzvd\n",
       "MB6sw0G2UfEOheSkYtPHx17qdGcVy82SyLypusFwAmMlFen1eoM7PcNGiGT8gRf7DfROiF62KCTy\n",
       "LhWwZfZBwcYu7QSmUIwUO1ZHQ8a1XSoG/S0lmtPhIOvIaWaC/iclYiPs+9ga8jzGLCli1+xTasIf\n",
       "6dBvbSnOxs8AAAAASUVORK5CYII=\n",
       "\" style=\"display:inline;vertical-align:middle;\" /></a> <a class=\"ProveItLink\" href=\"__pv_it/lambda_indeterminate_params/3fd5f150a5c68118812bd828e836123ac4c6ba9e0/proof.ipynb\" style=\"text-decoration: none\">&nbsp;&#x22A2;&nbsp;&nbsp;</a><a class=\"ProveItLink\" href=\"../packages/proveit/core_expr_types/tuples/__pv_it/theorems/25affb7a8c81ead7ae47a3a75d143c7ed8067f4d0/expr.ipynb\"><img src=\"data:image/png;base64,iVBORw0KGgoAAAANSUhEUgAAADwAAAATBAMAAAA+KHOiAAAAMFBMVEX///9ERETc3NxUVFQyMjKq\n",
       "qqrMzMwQEBC6urqYmJju7u52dnYiIiJmZmaIiIgAAACrFvqoAAAAAXRSTlMAQObYZgAAAAlwSFlz\n",
       "AAAOxAAADsQBlSsOGwAAAOBJREFUKM9jYMANLjDgBQKkS3OdF/Ri4K6vgEu/RZVnDGhmYFiP0H0a\n",
       "VZr5EPcEBnYGXkHBQkFJTNOZAxmcGHgw7H545owDWFrzgQqmdMsrmG4FM74NcGmutxNATCYvuOEK\n",
       "jAwScGlujgIQk0UBIc12Yc0aWKil8oJtZEE4TYFhKqs4jLeA/QGISj8DBAJQaeYF5nDV8QtA5EJk\n",
       "3VwGa+BcZy4QyYMszZDHCA/jH9wgiu8BPFATgLxEGI/tgyaYdoUJsAQAiStwwyzB/mZYLLEAoty/\n",
       "EEguwQjrbhlIoKIAAIMgK9/kDnzcAAAAAElFTkSuQmCC\n",
       "\" style=\"display:inline;vertical-align:middle;\" /></a></span>"
      ],
      "text/plain": [
       "{i in NaturalPos, j = ((2 * i) - 1)} |- i in NaturalPos"
      ]
     },
     "metadata": {},
     "output_type": "display_data"
    }
   ],
   "source": [
    "# And maybe we'll have a simpler way to do this:\n",
    "assumptions[5].sub_left_side_into(assumptions[2].prove(assumptions=assumptions), \n",
    "                                  assumptions=assumptions)"
   ]
  },
  {
   "cell_type": "code",
   "execution_count": 39,
   "metadata": {},
   "outputs": [
    {
     "data": {
      "text/html": [
       "<a class=\"ProveItLink\" href=\"__pv_it/lambda_indeterminate_params/ee3f568d0e498e80c77f0a5926744b81ab16f8040/expr.ipynb\"><img src=\"data:image/png;base64,iVBORw0KGgoAAAANSUhEUgAAA5AAAAAZBAMAAAC1NdyaAAAAMFBMVEX///8AAAAAAAAAAAAAAAAA\n",
       "AAAAAAAAAAAAAAAAAAAAAAAAAAAAAAAAAAAAAAAAAAAv3aB7AAAAD3RSTlMAZkRUmRDNuyLviTJ2\n",
       "3asqG0tJAAAACXBIWXMAAA7EAAAOxAGVKw4bAAAHj0lEQVRo3u1aX4hUVRj/Zmbv/J9xMtGXyDEo\n",
       "MKLmxSRJXMMUQuE+WQ+uO0tIPtQ6GTVKCuOLviRuQYhhOD1FEbZQJEGyE22lZTakliibK1aulLms\n",
       "rCkFds655557zrnfuXN29cEFD5zL3Tu/8/u+7/edf/fcBYDZcOeVbgtM1+0km9mFRZiIiLNh87wR\n",
       "YSE9Tc9qFpjU7SFLo242bi1uaw0aU3ieNiJ30Zu1Ziv5iuGHR2xAtMRb2oOef15z4YMbZQzsnKtv\n",
       "gOyBtyK1DwiiE2lFRstXvJojnEbckRpMVWHZUxwZoyZeNptZQi+HXPVh7hSxX9JAaDlMWn6pP3wl\n",
       "PgrOOP9jWBtjlUcBerVBlHvVQNBhRFqRkQmpyWp6xQuDwcNhJcKIuHVx8t02GgSBWykseRri556S\n",
       "FukBc6eu0us36sP1KyfJdYMGwlr/tok4mNSchMuN9wB8m2fU34qnsyXIaNrnqwaCDom0IvMmpLV0\n",
       "cspOBA/PyBFGxa2JA4WmjQYicCuFZU81fuHpcbJlaJp3E0qvWOBrQc3MMYCU8iMJIKZ3oQu1ZAPa\n",
       "Bu0Xw0YoQFe9vrdunCg4war61nq9FJVIGzKA5V4dA9inPJ8TmgWt45bEwjWYmsKypyF+jux1YVbZ\n",
       "6E1G+etJ2UzGxUGhRMLbvNX2kZ/Zzdh96aqeyG9HRljXLO5o7STao8tamMAwIn1gFJlUBrx6wIUr\n",
       "ygYj42KJtIpbEkvRYJoKy56G+DkyWYIh1+jN42YzyRIOCieyz1vwX/TNjBUHv9MS+dDX/iBq/Jlv\n",
       "4tojBHgiBTCCTF54ql69DHBlUP4hWcISaRV3KJF9t6Sw5CmaSIrsqsEPJPbjz320LffhZt3MM3QW\n",
       "PzaKmcmOSiBTexbEQXa7U3SXMailyl4inWHmbFosB8VGCjZr2q87biIQiVTsC2AEmTy5NcXqck6s\n",
       "bNSvIEJj3JI4Pv9yNJEH9e3DcGkKCkue6vzC0/wA/EHuUn9B72x4gsFHWGEsfeyt+03MTEx0jz61\n",
       "fSiRc9ntRgjy8KlzyktkNs5mi2QjSGSuu6dH1b47UzIQiEQq9jdakK1hMf7qd2ev8+f+E3zUr1gV\n",
       "S6QStyQOL82FaCLnasrywC0U1jzV+YWn8UmoAzxQqMGeFszXE3GC1CNwFTOTGJBApvYsCE/eqpSH\n",
       "WGWx1/qTLvY4GexPGnBvYqtyGJNvzKoYCMTJjmK/akEmbzMrXiVXMQSYX4kBLJFK3JI4/L2hshJN\n",
       "pN7FeeCWCgeehviFp7l/oR/A7S3DMhdW6omgL9NuYpL3jH28ZzAzuXEJJLdfy7rQ2SCIIRbhu+Th\n",
       "LzwP8HvRc9LNsFflz2mLGte+6F5SZyHKbCLgRbYfAM1kynaj7FWAVQxxzfeLRei8xMIZxOPm4gQg\n",
       "B/ZrYkkayA5nWlNQOPA0xC88TU/ASfL3MqAqvIMlErraWH+JD8ggQ3sWBJsMnJo0oGC9wzk9WZ+V\n",
       "R6Qz2qOxrIkg4EWyHwDNZGgiY96APOn7FUdHpBp3II6/IZlER+RC3arfn6wUljwN8fueOhN0RNJ1\n",
       "8gzErzvaGnlCecVVB35bnmKk9qFELmW3bTkPuRZXu5+1KMiJhC9S6LszTsCLbL9tQSatPGJqXQJp\n",
       "sVZTvxJtdGpV4g69nydHXSyRS/XdR7+DkSAKa56G+H1P02xqJX2ZZLRY3aG5vo1e9pTRpbjGZioO\n",
       "MrRnQcxjt8fEw9dJ/b7G2joTWUYoziJTZHrKHwomQranncAJ/FkKNPvHcDIPmJ4IHeS1vJprQt6f\n",
       "dplfsRq62VHiDsThpbfcxBI5T9+1EgOOjcK6pzq/8DR3HS6ydMbGIdXUz3jYrnm+/uqSvc73wtBb\n",
       "9UCm9h83+A6bdCWxyXietq6ytrnxHeJRgBJLNaOnzCgBj4SuaYp9AVTJGNAnkwrdu9O6e8UKMe0y\n",
       "v0InXuG4IbS/G0qXtERKGkibImIAIQkrrHuq8wtPya71KLm26WFsfLX+6eQwvVzUzBQvXTtPxjnt\n",
       "RYVTHsjQ/u8D/cTsT56OFx/0Hn52o8aOGFnb855b6zd7YyG3aa/8NYZBoFjDCXgZcTX7PlAjY0Cf\n",
       "TNa07dVzN29eEw+pXwVtsCFxS+L4oHu0nMgaSIUYQEjCCuuehvh9T2MD8Jj5ZKdAd2v7scME2M2u\n",
       "i3xQxMc4vqjE3+cnbH5ZJN0/vH0EO3pnEH+DFyLg24uQ+1HATPiL0lle9bIbDUeLe3/Hkx1Zg3B0\n",
       "HRXWPcWgFNk1yvfeaIl1w4XYJHZOyw9wmxB1Ihx9ttzs/CGPQIqV+W4kJguWJWsgm4MeUKtH1Ia4\n",
       "JXGMh+ZmDZo2CpuO8RdoyGQp6usHbMldLaBfPtNsinJY/94Sqd8u00euVkfpKWSociIatM42kesM\n",
       "ZKmGV9EII+M2iWOnQQcSxD7ipUD2upAzf48kb3irn0J/8DjzoL4Gon3B8DzfOX4K6RouR4Natols\n",
       "Gcjoi6djq5oat0EcOw3yNgqHPDUh7yf1QsQCZ5LpiA3IOxSDO728was5wmnEbauBlcKypwbkaYj8\n",
       "n527ZYYU9j87ieZdIWZ68Vbh2XeFmOnlaYD/AZkl9iYNKVJQAAAAAElFTkSuQmCC\n",
       "\" style=\"display:inline;vertical-align:middle;\" /></a>"
      ],
      "text/plain": [
       "(m = (j + 1), (m - 1) in Natural, i in NaturalPos, j in NaturalPos, m in NaturalPos, j = ((2 * i) - 1), (j - i + 1) = i, (j + 1) = (i + i))"
      ]
     },
     "metadata": {},
     "output_type": "display_data"
    }
   ],
   "source": [
    "assumptions"
   ]
  },
  {
   "cell_type": "code",
   "execution_count": 40,
   "metadata": {},
   "outputs": [
    {
     "data": {
      "text/html": [
       "<span style=\"font-size:20px;\"><a class=\"ProveItLink\" href=\"__pv_it/lambda_indeterminate_params/649ae346ef247b1d190476e522e54e82e6fe76a10/expr.ipynb\"><img src=\"data:image/png;base64,iVBORw0KGgoAAAANSUhEUgAAAD8AAAAWBAMAAACF0lkSAAAAMFBMVEX///+6urp2dnYiIiKqqqrc\n",
       "3NyYmJgQEBBmZmZUVFQyMjKIiIju7u5ERETMzMwAAACiJdmqAAAAAXRSTlMAQObYZgAAAAlwSFlz\n",
       "AAAOxAAADsQBlSsOGwAAAPtJREFUKM9jYMADOBgIAF4yFRz+e+sAg/p3AYQCvjuoKq4wTmDg+YBk\n",
       "AvcCVAWTA9QYGAoYeu9ev3s3AZsdUy5wBTAYYLqB+7KxFZgxNZt1ARYFjKsPQFlTOR9sQlZweieY\n",
       "ioLJM0xluMArgKSggR3skqUMCAUveGwM4CHJHcDvAKIXIClgc/AtgHN5GPxBhvMVGxsb20IVMMzh\n",
       "LEByXjNY3QUkExhO8hggKTACkwbICvg2INQzsH4EU7vhAveAeB+SArYPYIrLASawBOQBpODnhCjm\n",
       "mSsD4b/6DhTgQVLAvgEalLrQoEYFnA75B/CmmvcOJviTFccOAbzyAKKqPJPZiakyAAAAAElFTkSu\n",
       "QmCC\n",
       "\" style=\"display:inline;vertical-align:middle;\" /></a>, <a class=\"ProveItLink\" href=\"../packages/proveit/core_expr_types/tuples/__pv_it/theorems/25affb7a8c81ead7ae47a3a75d143c7ed8067f4d0/expr.ipynb\"><img src=\"data:image/png;base64,iVBORw0KGgoAAAANSUhEUgAAADwAAAATBAMAAAA+KHOiAAAAMFBMVEX///9ERETc3NxUVFQyMjKq\n",
       "qqrMzMwQEBC6urqYmJju7u52dnYiIiJmZmaIiIgAAACrFvqoAAAAAXRSTlMAQObYZgAAAAlwSFlz\n",
       "AAAOxAAADsQBlSsOGwAAAOBJREFUKM9jYMANLjDgBQKkS3OdF/Ri4K6vgEu/RZVnDGhmYFiP0H0a\n",
       "VZr5EPcEBnYGXkHBQkFJTNOZAxmcGHgw7H545owDWFrzgQqmdMsrmG4FM74NcGmutxNATCYvuOEK\n",
       "jAwScGlujgIQk0UBIc12Yc0aWKil8oJtZEE4TYFhKqs4jLeA/QGISj8DBAJQaeYF5nDV8QtA5EJk\n",
       "3VwGa+BcZy4QyYMszZDHCA/jH9wgiu8BPFATgLxEGI/tgyaYdoUJsAQAiStwwyzB/mZYLLEAoty/\n",
       "EEguwQjrbhlIoKIAAIMgK9/kDnzcAAAAAElFTkSuQmCC\n",
       "\" style=\"display:inline;vertical-align:middle;\" /></a>, <a class=\"ProveItLink\" href=\"__pv_it/lambda_indeterminate_params/0ebc7b61f89312d75c70d6fe4ddad4c7fe1e22b80/expr.ipynb\"><img src=\"data:image/png;base64,iVBORw0KGgoAAAANSUhEUgAAAH8AAAAVBAMAAACd/CwcAAAAMFBMVEX////MzMxUVFRERES6uroi\n",
       "IiIQEBCYmJhmZmYyMjLu7u52dnaqqqqIiIjc3NwAAACW8nlqAAAAAXRSTlMAQObYZgAAAAlwSFlz\n",
       "AAAOxAAADsQBlSsOGwAAAWVJREFUOMtjYGB4wEAc4MMhznuASANYLmAXPw0ihBegmdqApkoUqOA6\n",
       "puYbDAxcE0CMm2gSrBtQuFwa84EGcC7AMCCagYGjAJ+z3WGM+0DN7A3YlLDh9fdZZAMYsrApOUmC\n",
       "AdOxKekGefGuAqrg2nasBmxC08t1owBiKgdDOqrMBjesBlSCWByhYACykpslgYEhBsi4x/AHRT/j\n",
       "gU6sBhxDc4EMBzAKU4CMBTy/QPyVYKMDgU5jyAXxW0ND00JDgxAGyKMZsIDtAsQABo4AVBmIgRgu\n",
       "cEMPwPMLIF5ATzcMnAoLsBlwFC0MGCZxMTDYghjvHVANWO+wAZsBxeix8IUbGjX1aDLyfAVoBux/\n",
       "AI1ylMD+8ByYS0AsZTQZpnK0MFDKnwQ0MgQ9DNSBgqwCQEYuwZQILhACsCkB5hAd9l8EMxM4+LDn\n",
       "OzvGP6zElSmPsQsvZuhtIa5IssNR1F0gskjjxVp4AgAbRl7gam0erwAAAABJRU5ErkJggg==\n",
       "\" style=\"display:inline;vertical-align:middle;\" /></a>, <a class=\"ProveItLink\" href=\"__pv_it/lambda_indeterminate_params/28402e1fc4cc6203230d8176d5fd8a82a992957c0/expr.ipynb\"><img src=\"data:image/png;base64,iVBORw0KGgoAAAANSUhEUgAAAG0AAAAVBAMAAAC+p33JAAAAMFBMVEX////MzMxUVFRERES6uroi\n",
       "IiIQEBCYmJhmZmYyMjLu7u52dnaqqqqIiIjc3NwAAACW8nlqAAAAAXRSTlMAQObYZgAAAAlwSFlz\n",
       "AAAOxAAADsQBlSsOGwAAAZtJREFUOMtjYGB4wIAb8OGW4j2ARx/LBTSBpZ8tFzBs++bAwHAapybR\n",
       "BQwM19EFbVgUGLg+MDBwTcChi0tjPlAf5wI0YdUH2xkYEhgYOApw2ncfqIe9AU1Qx4DzAUMAAwMb\n",
       "A159DFnQUDANjQQz9Gr5JoD0nSSgbzokfObC3KvHJHAbpK8byPbVen35gvRmB2z6NoGZL+He1GMw\n",
       "YHYIgJi3wegC13cHngRs+irBzHkMCH0SXFFAfTFARzgEM/D9ZWD/gE3fMTBzApI+9gOHgTakAEOc\n",
       "6wsDzy8GDpDkylAQCETokwexGFOBgsFQfQxaTBB9DDwfQJrYNmCzzw0clwZI9jEs4oK4k4FpAgPr\n",
       "Bgb/Bwuw6DsKZgYg62O8ADTGFsgG2rTegUGTrwCLvmIw8y5c0BCILxpAwvm9AEM9A4M1N5o794Ny\n",
       "SjeYyQlP/HOAGBQSokDalYHhBgODxz1UbUr5k4AOCIEkVmUviKDkNwNImmYVYMAH+KA+Y9kMTWcw\n",
       "gJFwUQHuZG+HV99jnDKL8erDbSrfBTzaeHEVPgARjmdY97nADQAAAABJRU5ErkJggg==\n",
       "\" style=\"display:inline;vertical-align:middle;\" /></a>, <a class=\"ProveItLink\" href=\"__pv_it/lambda_indeterminate_params/91d6cfbadf5d23721bc0c34087a83223b7072ae10/expr.ipynb\"><img src=\"data:image/png;base64,iVBORw0KGgoAAAANSUhEUgAAAGkAAAAVBAMAAAC3TN2zAAAAMFBMVEX///8yMjJmZmYiIiIQEBCq\n",
       "qqqYmJjMzMxERER2dnbc3Nzu7u5UVFSIiIi6uroAAACibcT0AAAAAXRSTlMAQObYZgAAAAlwSFlz\n",
       "AAAOxAAADsQBlSsOGwAAAVdJREFUOMtjYMAJFpAoDga8ATgk3uLTFQkiKjagCrJbA41LwK2JWwBE\n",
       "XkQV3KP4G0hK49bFhGwiH4zDC9KVhFsXCzKH9QKyLpYNOHUF4tbFmMDAd2fX3F72mX3oujRBfrt7\n",
       "AJsuzgMMnBxnGfbnMYSA/WIMBmClYiA+gxs2XWwCDO+YGxjWX2DIR7fLFIhvMXzFpovVgWHD/gcM\n",
       "8RsYFNF1+QHxBtbfEBeYOENdANbF/oGBIZ4BpMUTmy4GJgNsdvE5MDAcZGCwZOD7xY3mL5ALGZgn\n",
       "YHWhAcgW7n8MPALL0OzqBRHrH2ANjQYGru8MbB8YOCZMQNM1B0Tko8cX5y+QkyYw8Bkw8Cow8Omi\n",
       "p/9iEHECTRfPkY/HgO5+gDNtMBcACV90u8BgMe50yKbAcJTtN3rqBQM1PPmri/0rM9aMydWAR9cO\n",
       "Bl09rBIc+IoArgs4JG4xMAAALjJX1YucYIIAAAAASUVORK5CYII=\n",
       "\" style=\"display:inline;vertical-align:middle;\" /></a> <a class=\"ProveItLink\" href=\"__pv_it/lambda_indeterminate_params/edc8bb77ef15d1be0b6ea8c918a6ab6500794d3d0/proof.ipynb\" style=\"text-decoration: none\">&nbsp;&#x22A2;&nbsp;&nbsp;</a><a class=\"ProveItLink\" href=\"__pv_it/lambda_indeterminate_params/63525346a43e038aff0c13ed8829f97d29c6408c0/expr.ipynb\"><img src=\"data:image/png;base64,iVBORw0KGgoAAAANSUhEUgAAAhkAAAAWBAMAAACf/ZNEAAAAMFBMVEX////MzMxUVFRERES6uroi\n",
       "IiIQEBCYmJhmZmYyMjLu7u52dnaqqqqIiIjc3NwAAACW8nlqAAAAAXRSTlMAQObYZgAAAAlwSFlz\n",
       "AAAOxAAADsQBlSsOGwAABDRJREFUWMPVmE1IFGEYx5/N/XLdHbeD0UXacyBO7KEuanSoS4IERsge\n",
       "rISOGXawTosgShbsIRAM2ikPHmpzEYI6WELswTy4KBEFmiQFm8RqH4Qabu+878zs+7HvzoxJHwO7\n",
       "zLzz///meZ55v3YBYAX+p2PFYdsuyZEZfF7gbyope0BBeod3F9zEVagCaxflRgZCwC4zwOQ5cp7m\n",
       "dbXr9qy09A7vTrupRroKLNIryOckAbvMQCeHSAHDJV43b88STTJ3FaUDLAMb4+VGBmLAbjNA5CCp\n",
       "dbCZH3wDO7Ys0SRzV1E6wDKwfkHeKwnYbQaI7Cdnz55HWV3d2oYtSzBJ3XKlAywL82uc3C8J2HUG\n",
       "iDxLJpz8uxlW9zny0w4lmmTuKkoHWBZWy08cs5KAXWeAyCOkx8A895Bk+IdtNxNMMncVpQMsC6uL\n",
       "cfoRScCuM0DkUXxyGg5lGZ13xrNtxyKmUIUZwXA/sldKseCRhBLAk+Zgp36c0U9HKwfsPAOKnCB1\n",
       "hCIq+USKqpryBeDB1OEqLGKqy5tz+zXODdP2SikWfFEWZi0D3Zw+QamEGJxkQJF78FJ7bLhZBc9S\n",
       "h3VncXjgq64elKOIqXw0vuLcFZVJVmmP5WEeft3soVRCDG4yQGTMygDUo0qErWqE0Gv8DvANivK1\n",
       "wDCVjxznrqhUGaUDLA/zdleqhqnK/UYGiJwwXpivm65GEH3OAlyvxiIm74JYDcPdHqugtK2GEUvm\n",
       "Jgvrv7IUe30EzCCpeSNBqYQYHGQQGGpciPRFMblFL0ov2cbqDwph3Slz0/rYaGAOvOIbpky9RlWD\n",
       "dofyW+SaUVrV0AQsLYbkrCExYFcvwQXQ6xlQOVsLHXDOfQYTJ3v9sUgMk6dQ80f0qdkh1ZjUZ1JF\n",
       "741taAnwdJEG/Su0SZ+Ypk85um/QbuVhB7lmlGY1WJr1EFMc0p6QOyYsk4INvJgGs1xmU3TAuV1k\n",
       "8AbqozoVfRoAxktjEG7bzOJq+LqQuG1TgxelOwCrGm4Anz75nTNPOjXK1AKeODpacSSMuyaPryll\n",
       "MB6/GD9K+oYOYbGMWF84kcSC7ct7yLD2Heeq0UAHnNtFBk1wAHwzmOyjhhUeki/pvVpSWWEaDB3V\n",
       "y0NbUXreoMWT95hrorRGSlgcKsyTdliJPxpRlXVE+MC76AyEGBxkAOdhEYoeTA4kuWrQHXF1/0EN\n",
       "suKvEJqbStKR0OLZIHNNlFY16sTRTJtRT2AkRdQ7AioiDPEuOgMhBgcZKOuod/QFCbm13Px0O49X\n",
       "Juu4XCqxDdbKVH7jTeYOcy09zYrvLzPXRKkaSgZSXhTLe4EYKzkBtStKkwaKKvjKGYgxOMjAG4O7\n",
       "8P4tIY9zOxJhiyK+w7x8P2NrVuUQRqz/OKv0nBpxe79HGWCykv+j/2smncluH5DcWK70S3RPIlv+\n",
       "d/8MvnXjbzz1F7/F3eMIYHLsAAAAAElFTkSuQmCC\n",
       "\" style=\"display:inline;vertical-align:middle;\" /></a></span>"
      ],
      "text/plain": [
       "{j in NaturalPos, i in NaturalPos, (j - i + 1) = i, (m - 1) in Natural, m = (j + 1)} |- (A_{1}, A_{2}, ..., A_{i - 1},A_{i}, A_{i + 1}, ..., A_{j}, A_{m}) = (A_{1}, A_{2}, ..., A_{m})"
      ]
     },
     "metadata": {},
     "output_type": "display_data"
    }
   ],
   "source": [
    "alt_A_form1.merger(assumptions=assumptions)"
   ]
  },
  {
   "cell_type": "markdown",
   "metadata": {},
   "source": [
    "Here we employ a trick using an `InnerExpr` object.  We'll discuss how that works in a later chapter."
   ]
  },
  {
   "cell_type": "code",
   "execution_count": 41,
   "metadata": {},
   "outputs": [
    {
     "data": {
      "text/html": [
       "<strong id=\"alt_A_form2\">alt_A_form2:</strong> <a class=\"ProveItLink\" href=\"__pv_it/lambda_indeterminate_params/8cac6f539f025b4f038b575365d2d5f203505df80/expr.ipynb\"><img src=\"data:image/png;base64,iVBORw0KGgoAAAANSUhEUgAAALYAAAAWBAMAAACfwnvZAAAAMFBMVEX////MzMxUVFRERES6uroi\n",
       "IiIQEBCYmJhmZmYyMjLu7u52dnaqqqqIiIjc3NwAAACW8nlqAAAAAXRSTlMAQObYZgAAAAlwSFlz\n",
       "AAAOxAAADsQBlSsOGwAAAkJJREFUOMu1VU1oE0EYfcFsOtnsbuKhvUmDd6neRNDopV48RFAR8VDB\n",
       "k6eFnLwtvVjsJbeCgl3ooVAoFm8iaKBUUA8N7cEqiEFBrKJNFZFQ6TozX9Kd2T8LxQezO/P2e2/+\n",
       "vpkF0MH/gCMedkvWN6MfN/ehb6Zr8m3+eEX12ahw9t/exW6G5jVgUt9WEAmLEQlY7WZoij6YK2ts\n",
       "LLLsMSIBk7sZmiEPBao9fVbR42JEHKWv21maW3hBu9J+39K3KUok4Jv9J0szg2maDVZdfXpRIgGe\n",
       "9TtL84i7C1zA6JIWFyPiyLdyO+JdSdHcxnUaAraqwHyYr5Iwnxz1070ZnB/ifVHThHiOm/L8nJwa\n",
       "O47cu/qAJ4KB1dO916cmf6pt0oQYJe9FoMxdrD0nIspnne1Ua5MfvF8q0TfZwzitiQcYE6o3EUN+\n",
       "hjfj5QrvYqOla+4cWbMbYg9WcFrsikvnV3ibUAiU6kTokJtwns44s5qaZn7cLVRtse4NninAJ14O\n",
       "7ZL3w6ZCYNiXhNkDwop8OHyeqHWwUPI0zZc3KFeYyJdpDANzwT1Ytd6S9DauKYRzighc5cXw+hVc\n",
       "9mHWej6Wg/t8rK6uOYYRGGKdLsFQjqlc75fK5D/ju07049TMLHf0kBtYx1aOT6wurhTdW0l/58Th\n",
       "uxoxuEjUxkhE0+Ujb/CNFpfgmZB+vNOWqTVAIQi6GhFmW4g1aCH5Kh7gw1vgI2/M6To7amTH80Tr\n",
       "bSYxhMbstA/yWyyem0j+YB/8N8w20m+cv+1xsFwcQligAAAAAElFTkSuQmCC\n",
       "\" style=\"display:inline;vertical-align:middle;\" /></a><br>"
      ],
      "text/plain": [
       "<IPython.core.display.HTML object>"
      ]
     },
     "metadata": {},
     "output_type": "display_data"
    }
   ],
   "source": [
    "alt_A_form2 = alt_A_form1.inner_expr(assumptions)[:2].merged(assumptions=assumptions)"
   ]
  },
  {
   "cell_type": "code",
   "execution_count": 42,
   "metadata": {},
   "outputs": [
    {
     "data": {
      "text/html": [
       "<span style=\"font-size:20px;\"><a class=\"ProveItLink\" href=\"__pv_it/lambda_indeterminate_params/649ae346ef247b1d190476e522e54e82e6fe76a10/expr.ipynb\"><img src=\"data:image/png;base64,iVBORw0KGgoAAAANSUhEUgAAAD8AAAAWBAMAAACF0lkSAAAAMFBMVEX///+6urp2dnYiIiKqqqrc\n",
       "3NyYmJgQEBBmZmZUVFQyMjKIiIju7u5ERETMzMwAAACiJdmqAAAAAXRSTlMAQObYZgAAAAlwSFlz\n",
       "AAAOxAAADsQBlSsOGwAAAPtJREFUKM9jYMADOBgIAF4yFRz+e+sAg/p3AYQCvjuoKq4wTmDg+YBk\n",
       "AvcCVAWTA9QYGAoYeu9ev3s3AZsdUy5wBTAYYLqB+7KxFZgxNZt1ARYFjKsPQFlTOR9sQlZweieY\n",
       "ioLJM0xluMArgKSggR3skqUMCAUveGwM4CHJHcDvAKIXIClgc/AtgHN5GPxBhvMVGxsb20IVMMzh\n",
       "LEByXjNY3QUkExhO8hggKTACkwbICvg2INQzsH4EU7vhAveAeB+SArYPYIrLASawBOQBpODnhCjm\n",
       "mSsD4b/6DhTgQVLAvgEalLrQoEYFnA75B/CmmvcOJviTFccOAbzyAKKqPJPZiakyAAAAAElFTkSu\n",
       "QmCC\n",
       "\" style=\"display:inline;vertical-align:middle;\" /></a>, <a class=\"ProveItLink\" href=\"../packages/proveit/core_expr_types/tuples/__pv_it/theorems/25affb7a8c81ead7ae47a3a75d143c7ed8067f4d0/expr.ipynb\"><img src=\"data:image/png;base64,iVBORw0KGgoAAAANSUhEUgAAADwAAAATBAMAAAA+KHOiAAAAMFBMVEX///9ERETc3NxUVFQyMjKq\n",
       "qqrMzMwQEBC6urqYmJju7u52dnYiIiJmZmaIiIgAAACrFvqoAAAAAXRSTlMAQObYZgAAAAlwSFlz\n",
       "AAAOxAAADsQBlSsOGwAAAOBJREFUKM9jYMANLjDgBQKkS3OdF/Ri4K6vgEu/RZVnDGhmYFiP0H0a\n",
       "VZr5EPcEBnYGXkHBQkFJTNOZAxmcGHgw7H545owDWFrzgQqmdMsrmG4FM74NcGmutxNATCYvuOEK\n",
       "jAwScGlujgIQk0UBIc12Yc0aWKil8oJtZEE4TYFhKqs4jLeA/QGISj8DBAJQaeYF5nDV8QtA5EJk\n",
       "3VwGa+BcZy4QyYMszZDHCA/jH9wgiu8BPFATgLxEGI/tgyaYdoUJsAQAiStwwyzB/mZYLLEAoty/\n",
       "EEguwQjrbhlIoKIAAIMgK9/kDnzcAAAAAElFTkSuQmCC\n",
       "\" style=\"display:inline;vertical-align:middle;\" /></a>, <a class=\"ProveItLink\" href=\"__pv_it/lambda_indeterminate_params/0ebc7b61f89312d75c70d6fe4ddad4c7fe1e22b80/expr.ipynb\"><img src=\"data:image/png;base64,iVBORw0KGgoAAAANSUhEUgAAAH8AAAAVBAMAAACd/CwcAAAAMFBMVEX////MzMxUVFRERES6uroi\n",
       "IiIQEBCYmJhmZmYyMjLu7u52dnaqqqqIiIjc3NwAAACW8nlqAAAAAXRSTlMAQObYZgAAAAlwSFlz\n",
       "AAAOxAAADsQBlSsOGwAAAWVJREFUOMtjYGB4wEAc4MMhznuASANYLmAXPw0ihBegmdqApkoUqOA6\n",
       "puYbDAxcE0CMm2gSrBtQuFwa84EGcC7AMCCagYGjAJ+z3WGM+0DN7A3YlLDh9fdZZAMYsrApOUmC\n",
       "AdOxKekGefGuAqrg2nasBmxC08t1owBiKgdDOqrMBjesBlSCWByhYACykpslgYEhBsi4x/AHRT/j\n",
       "gU6sBhxDc4EMBzAKU4CMBTy/QPyVYKMDgU5jyAXxW0ND00JDgxAGyKMZsIDtAsQABo4AVBmIgRgu\n",
       "cEMPwPMLIF5ATzcMnAoLsBlwFC0MGCZxMTDYghjvHVANWO+wAZsBxeix8IUbGjX1aDLyfAVoBux/\n",
       "AI1ylMD+8ByYS0AsZTQZpnK0MFDKnwQ0MgQ9DNSBgqwCQEYuwZQILhACsCkB5hAd9l8EMxM4+LDn\n",
       "OzvGP6zElSmPsQsvZuhtIa5IssNR1F0gskjjxVp4AgAbRl7gam0erwAAAABJRU5ErkJggg==\n",
       "\" style=\"display:inline;vertical-align:middle;\" /></a>, <a class=\"ProveItLink\" href=\"__pv_it/lambda_indeterminate_params/28402e1fc4cc6203230d8176d5fd8a82a992957c0/expr.ipynb\"><img src=\"data:image/png;base64,iVBORw0KGgoAAAANSUhEUgAAAG0AAAAVBAMAAAC+p33JAAAAMFBMVEX////MzMxUVFRERES6uroi\n",
       "IiIQEBCYmJhmZmYyMjLu7u52dnaqqqqIiIjc3NwAAACW8nlqAAAAAXRSTlMAQObYZgAAAAlwSFlz\n",
       "AAAOxAAADsQBlSsOGwAAAZtJREFUOMtjYGB4wIAb8OGW4j2ARx/LBTSBpZ8tFzBs++bAwHAapybR\n",
       "BQwM19EFbVgUGLg+MDBwTcChi0tjPlAf5wI0YdUH2xkYEhgYOApw2ncfqIe9AU1Qx4DzAUMAAwMb\n",
       "A159DFnQUDANjQQz9Gr5JoD0nSSgbzokfObC3KvHJHAbpK8byPbVen35gvRmB2z6NoGZL+He1GMw\n",
       "YHYIgJi3wegC13cHngRs+irBzHkMCH0SXFFAfTFARzgEM/D9ZWD/gE3fMTBzApI+9gOHgTakAEOc\n",
       "6wsDzy8GDpDkylAQCETokwexGFOBgsFQfQxaTBB9DDwfQJrYNmCzzw0clwZI9jEs4oK4k4FpAgPr\n",
       "Bgb/Bwuw6DsKZgYg62O8ADTGFsgG2rTegUGTrwCLvmIw8y5c0BCILxpAwvm9AEM9A4M1N5o794Ny\n",
       "SjeYyQlP/HOAGBQSokDalYHhBgODxz1UbUr5k4AOCIEkVmUviKDkNwNImmYVYMAH+KA+Y9kMTWcw\n",
       "gJFwUQHuZG+HV99jnDKL8erDbSrfBTzaeHEVPgARjmdY97nADQAAAABJRU5ErkJggg==\n",
       "\" style=\"display:inline;vertical-align:middle;\" /></a>, <a class=\"ProveItLink\" href=\"__pv_it/lambda_indeterminate_params/91d6cfbadf5d23721bc0c34087a83223b7072ae10/expr.ipynb\"><img src=\"data:image/png;base64,iVBORw0KGgoAAAANSUhEUgAAAGkAAAAVBAMAAAC3TN2zAAAAMFBMVEX///8yMjJmZmYiIiIQEBCq\n",
       "qqqYmJjMzMxERER2dnbc3Nzu7u5UVFSIiIi6uroAAACibcT0AAAAAXRSTlMAQObYZgAAAAlwSFlz\n",
       "AAAOxAAADsQBlSsOGwAAAVdJREFUOMtjYMAJFpAoDga8ATgk3uLTFQkiKjagCrJbA41LwK2JWwBE\n",
       "XkQV3KP4G0hK49bFhGwiH4zDC9KVhFsXCzKH9QKyLpYNOHUF4tbFmMDAd2fX3F72mX3oujRBfrt7\n",
       "AJsuzgMMnBxnGfbnMYSA/WIMBmClYiA+gxs2XWwCDO+YGxjWX2DIR7fLFIhvMXzFpovVgWHD/gcM\n",
       "8RsYFNF1+QHxBtbfEBeYOENdANbF/oGBIZ4BpMUTmy4GJgNsdvE5MDAcZGCwZOD7xY3mL5ALGZgn\n",
       "YHWhAcgW7n8MPALL0OzqBRHrH2ANjQYGru8MbB8YOCZMQNM1B0Tko8cX5y+QkyYw8Bkw8Cow8Omi\n",
       "p/9iEHECTRfPkY/HgO5+gDNtMBcACV90u8BgMe50yKbAcJTtN3rqBQM1PPmri/0rM9aMydWAR9cO\n",
       "Bl09rBIc+IoArgs4JG4xMAAALjJX1YucYIIAAAAASUVORK5CYII=\n",
       "\" style=\"display:inline;vertical-align:middle;\" /></a> <a class=\"ProveItLink\" href=\"__pv_it/lambda_indeterminate_params/10da3ef2556908396d5c15c56c25f2a2da9ad6a60/proof.ipynb\" style=\"text-decoration: none\">&nbsp;&#x22A2;&nbsp;&nbsp;</a><a class=\"ProveItLink\" href=\"__pv_it/lambda_indeterminate_params/8eef07964dcde20cfc089e1d81b0a1c2311adb270/expr.ipynb\"><img src=\"data:image/png;base64,iVBORw0KGgoAAAANSUhEUgAAAcsAAAAVBAMAAADbb9ifAAAAMFBMVEX////MzMxUVFRERES6uroi\n",
       "IiIQEBCYmJhmZmYyMjLu7u52dnaqqqqIiIjc3NwAAACW8nlqAAAAAXRSTlMAQObYZgAAAAlwSFlz\n",
       "AAAOxAAADsQBlSsOGwAAA69JREFUWMOlmL9r1GAYx5+md7lrLhdv6VTB4mDV6XRULFkEF/GsnBTb\n",
       "4QadDU5u7VLa4hIKIrh42MlBetQ/oLdWB4Muh0jNUhRErVCQFmx93+R9k/d3G/tCQ/K+n3yf55v3\n",
       "yZu3BwAxHLfFBbrjQhJFInoA/yFS7x8X15E3T8gamgr/XNRmIvIO/Y12Sc+35Ut6HJMDoW/oHrIU\n",
       "5NeDAqyiDV0RnpaMu71U6eh8WREnBOf8C2LTa8KGr6MRCTDD971c3kfH53nHTAFWlVEodMj4K6p0\n",
       "VL6cSBU/ry/EphWD3dHBVdVE1HHAx0a2FJhZY5PxRap0VL6ciA2MTXsfrAMdbIPOpt01sW5kZo1N\n",
       "xjuMTWO+nMgma9NqgfVbB29qbY4EJpa3ORIUsinhbsjOpilfTuQJaxO18o4ORqQzCFQ2a+P09aXj\n",
       "LMvbzFhVe/2BrI0Xv3+Mxt74CrzaY2wa8+VEngk2z0S62xBZK3VUNit04cjGWZa3WQkNNuft9NH0\n",
       "LkfOH9/tUHyhjdtUNr2MTX2+nMisYHNKmwMiT1dDlU2Xms/GWZa36RqWjHp8Kvnclvw74P2Fyo4C\n",
       "L/d5m9p8eZH7vM1qU5sEIrs2Ttl5mjzcRpb6EC2cdJxlq+323Qft9rjMqj5Z8D5JxHF2wd0H/Jwk\n",
       "3PY5m/p8eRHB5iMw2SRpiLOZlzIdZ1l+NkvGD8ACuWUHp2f3FLhg05AvJ8IXLdpi/DQULaw4yqJt\n",
       "0Us6zrJC0bZMNsmOwgqh3INbcZfgzLvJF60pX07kGrWZOB0D+ARdRTWhhkhnt6ZcgpqEweMSKyxB\n",
       "lBVaEtTbTU/QFKz5cMELUpxtwxFRcgz5yiLruHcjBmcPh5leWmolZ2shOeRX67jIvwp6tQO6yK+F\n",
       "6bjEZjZ5VhEGrxfJya8GzAFcrRGcCzhOlPBdeb4KNU5kFHWcfbgSQBs9gfLh4WGYns0DOUzjE7xV\n",
       "xuSE8N20zu1NoGGfMmhcYqlNkZ0GNgwOClYzPbme7PtvbBGc29y3iBLWyPNVqHEi5QYt82zuXbkK\n",
       "3uL7G7q3YDtjVKwb6VmGSuosEqNvS+BtNiddvpJIZZ5WQ14Xik8tMKRyN50yKrYU6Flgg1r9ua4Y\n",
       "fVG/me8Z8pVFJulGK99yyUtQMiGTGpdeM2eKsew+D21o+rNidE/+LA7HbBx1vgqRVXKRR5ZzqCfH\n",
       "VU3qaeD6f7BMQ0GrA1+MPiz/SuI02TjqfBUiXnTc/xZ05NYJWUNT4T+K/kiCRP4BV21wqXIPBAwA\n",
       "AAAASUVORK5CYII=\n",
       "\" style=\"display:inline;vertical-align:middle;\" /></a></span>"
      ],
      "text/plain": [
       "{j in NaturalPos, i in NaturalPos, (j - i + 1) = i, (m - 1) in Natural, m = (j + 1)} |- (1, 2, ..., (i - 1),i, (i + 1), ..., j, m) = (1, 2, ..., m)"
      ]
     },
     "metadata": {},
     "output_type": "display_data"
    }
   ],
   "source": [
    "from proveit import extract_var_tuple_indices\n",
    "extract_var_tuple_indices(alt_A_form1).merger(assumptions=assumptions)"
   ]
  },
  {
   "cell_type": "markdown",
   "metadata": {},
   "source": [
    "Now we are ready to demonstrate this lambda application using multiple alternative expansions via `equiv_alt_expansions`."
   ]
  },
  {
   "cell_type": "code",
   "execution_count": 44,
   "metadata": {},
   "outputs": [
    {
     "data": {
      "text/html": [
       "<strong id=\"m_eq\">m_eq:</strong> <span style=\"font-size:20px;\"><a class=\"ProveItLink\" href=\"__pv_it/lambda_indeterminate_params/91d6cfbadf5d23721bc0c34087a83223b7072ae10/expr.ipynb\"><img src=\"data:image/png;base64,iVBORw0KGgoAAAANSUhEUgAAAGkAAAAVBAMAAAC3TN2zAAAAMFBMVEX///8yMjJmZmYiIiIQEBCq\n",
       "qqqYmJjMzMxERER2dnbc3Nzu7u5UVFSIiIi6uroAAACibcT0AAAAAXRSTlMAQObYZgAAAAlwSFlz\n",
       "AAAOxAAADsQBlSsOGwAAAVdJREFUOMtjYMAJFpAoDga8ATgk3uLTFQkiKjagCrJbA41LwK2JWwBE\n",
       "XkQV3KP4G0hK49bFhGwiH4zDC9KVhFsXCzKH9QKyLpYNOHUF4tbFmMDAd2fX3F72mX3oujRBfrt7\n",
       "AJsuzgMMnBxnGfbnMYSA/WIMBmClYiA+gxs2XWwCDO+YGxjWX2DIR7fLFIhvMXzFpovVgWHD/gcM\n",
       "8RsYFNF1+QHxBtbfEBeYOENdANbF/oGBIZ4BpMUTmy4GJgNsdvE5MDAcZGCwZOD7xY3mL5ALGZgn\n",
       "YHWhAcgW7n8MPALL0OzqBRHrH2ANjQYGru8MbB8YOCZMQNM1B0Tko8cX5y+QkyYw8Bkw8Cow8Omi\n",
       "p/9iEHECTRfPkY/HgO5+gDNtMBcACV90u8BgMe50yKbAcJTtN3rqBQM1PPmri/0rM9aMydWAR9cO\n",
       "Bl09rBIc+IoArgs4JG4xMAAALjJX1YucYIIAAAAASUVORK5CYII=\n",
       "\" style=\"display:inline;vertical-align:middle;\" /></a>, <a class=\"ProveItLink\" href=\"__pv_it/lambda_indeterminate_params/319413f06f46b6c6a6feca32af6ea654909c0e480/expr.ipynb\"><img src=\"data:image/png;base64,iVBORw0KGgoAAAANSUhEUgAAAIgAAAAVBAMAAABvbLv8AAAAMFBMVEX///+6urp2dnYiIiKqqqrc\n",
       "3NyYmJgQEBBmZmZUVFQyMjKIiIju7u5ERETMzMwAAACiJdmqAAAAAXRSTlMAQObYZgAAAAlwSFlz\n",
       "AAAOxAAADsQBlSsOGwAAAbdJREFUOMt1lD1Iw1AQx6+fSdpauzm4dO3Uqh10kaKD4GJAFBehowpi\n",
       "3QWLgoiTk+jWqVAQzKJUEMysiFk6KSLq3nZwE+u9vNfUXK4H/6bcO3537727B8CaqRT0BiwGQyxZ\n",
       "kiI2zsWGLPeTfqULc1JrJ2//nE1Ilmngpw1wI/PWyFKq5irmQD4z8E4CXJK48yuEJGx2N3rZlWGC\n",
       "VvEtbNDIewTEqyxEk9J+wPj2L9gMBPZYyKKUUQDj17eQKHOQOurxlkIOlAAiHW//TQSETzlIDlXV\n",
       "BF+fcs2NqisBtK1+eDiExxOvcZAtvBtzlHZEUQlgxvN96QiIVjjIAtYJS/S4dpVAd8Tvs8hva1hU\n",
       "WuzuwS15dgBpi3+HMAyyKQ/GvUORKsRWMqa6yH8m/e1Es7DixTdS6ChwkHkxQV1ayYvSB8Cddzvd\n",
       "MB6sw0G2UfEOheSkYtPHx17qdGcVy82SyLypusFwAmMlFen1eoM7PcNGiGT8gRf7DfROiF62KCTy\n",
       "LhWwZfZBwcYu7QSmUIwUO1ZHQ8a1XSoG/S0lmtPhIOvIaWaC/iclYiPs+9ga8jzGLCli1+xTasIf\n",
       "6dBvbSnOxs8AAAAASUVORK5CYII=\n",
       "\" style=\"display:inline;vertical-align:middle;\" /></a>, <a class=\"ProveItLink\" href=\"../packages/proveit/core_expr_types/tuples/__pv_it/theorems/25affb7a8c81ead7ae47a3a75d143c7ed8067f4d0/expr.ipynb\"><img src=\"data:image/png;base64,iVBORw0KGgoAAAANSUhEUgAAADwAAAATBAMAAAA+KHOiAAAAMFBMVEX///9ERETc3NxUVFQyMjKq\n",
       "qqrMzMwQEBC6urqYmJju7u52dnYiIiJmZmaIiIgAAACrFvqoAAAAAXRSTlMAQObYZgAAAAlwSFlz\n",
       "AAAOxAAADsQBlSsOGwAAAOBJREFUKM9jYMANLjDgBQKkS3OdF/Ri4K6vgEu/RZVnDGhmYFiP0H0a\n",
       "VZr5EPcEBnYGXkHBQkFJTNOZAxmcGHgw7H545owDWFrzgQqmdMsrmG4FM74NcGmutxNATCYvuOEK\n",
       "jAwScGlujgIQk0UBIc12Yc0aWKil8oJtZEE4TYFhKqs4jLeA/QGISj8DBAJQaeYF5nDV8QtA5EJk\n",
       "3VwGa+BcZy4QyYMszZDHCA/jH9wgiu8BPFATgLxEGI/tgyaYdoUJsAQAiStwwyzB/mZYLLEAoty/\n",
       "EEguwQjrbhlIoKIAAIMgK9/kDnzcAAAAAElFTkSuQmCC\n",
       "\" style=\"display:inline;vertical-align:middle;\" /></a> <a class=\"ProveItLink\" href=\"__pv_it/lambda_indeterminate_params/1788b0a4dc49a250c061d589315c3cc0714fc76d0/proof.ipynb\" style=\"text-decoration: none\">&nbsp;&#x22A2;&nbsp;&nbsp;</a><a class=\"ProveItLink\" href=\"__pv_it/lambda_indeterminate_params/af97d32233b50971887bf146089c6765fba252d60/expr.ipynb\"><img src=\"data:image/png;base64,iVBORw0KGgoAAAANSUhEUgAAAF0AAAAVBAMAAADWVP/xAAAAMFBMVEX///8yMjJmZmYiIiIQEBCq\n",
       "qqqYmJjMzMxERER2dnbc3Nzu7u5UVFSIiIi6uroAAACibcT0AAAAAXRSTlMAQObYZgAAAAlwSFlz\n",
       "AAAOxAAADsQBlSsOGwAAAWlJREFUKM9jYMAJFhAhggR4AzCE3uJTH8nAsEixHUngEgNvAm7l3AIM\n",
       "XA0M8x8gRCwZGKRxq2dKYOBZwMDigCKYhFs9CxD9ZuD5hSq4Aaf6QAYGHgMGnu8ogowJDHx3ds3t\n",
       "ZZ/Zh65eE0wyf4D75xLQs5wHGDg5zjLsz2MIAbvZGAwOgNhiYFX1F2DqOfmAXmETYHjH3MCw/gJD\n",
       "Prr5pmDSBs4vZRJgYGB1YNiw/wFD/AYGRXT1fmALG0DkfqBKhg0sQKvYgc6LZwAp9sSqPgfiCQUQ\n",
       "CTSUAeSmg6CY4PvFjeZ+kHtYJzCsghsgA1TBagAymfsfA4/AMjTze4G4koHhNjx8/nEC/dvAwPWd\n",
       "ge0DA8eECWjq5zAwcBkpKRnA+OwfgCYyTWDgM2DgVWDg00VPq8VAd////18ALnAMGP7MD3DGL3MB\n",
       "FsHFuNMPmwIWQTU86b8LU4irAY/6HZhCHPgyJNcFDKFbDAwAwLlJFunRCQQAAAAASUVORK5CYII=\n",
       "\" style=\"display:inline;vertical-align:middle;\" /></a></span><br>"
      ],
      "text/plain": [
       "<IPython.core.display.HTML object>"
      ]
     },
     "metadata": {},
     "output_type": "display_data"
    }
   ],
   "source": [
    "m_eq = assumptions[5].sub_right_side_into(assumptions[0], assumptions=assumptions)"
   ]
  },
  {
   "cell_type": "code",
   "execution_count": 45,
   "metadata": {},
   "outputs": [
    {
     "data": {
      "text/html": [
       "<span style=\"font-size:20px;\"><a class=\"ProveItLink\" href=\"__pv_it/lambda_indeterminate_params/91d6cfbadf5d23721bc0c34087a83223b7072ae10/expr.ipynb\"><img src=\"data:image/png;base64,iVBORw0KGgoAAAANSUhEUgAAAGkAAAAVBAMAAAC3TN2zAAAAMFBMVEX///8yMjJmZmYiIiIQEBCq\n",
       "qqqYmJjMzMxERER2dnbc3Nzu7u5UVFSIiIi6uroAAACibcT0AAAAAXRSTlMAQObYZgAAAAlwSFlz\n",
       "AAAOxAAADsQBlSsOGwAAAVdJREFUOMtjYMAJFpAoDga8ATgk3uLTFQkiKjagCrJbA41LwK2JWwBE\n",
       "XkQV3KP4G0hK49bFhGwiH4zDC9KVhFsXCzKH9QKyLpYNOHUF4tbFmMDAd2fX3F72mX3oujRBfrt7\n",
       "AJsuzgMMnBxnGfbnMYSA/WIMBmClYiA+gxs2XWwCDO+YGxjWX2DIR7fLFIhvMXzFpovVgWHD/gcM\n",
       "8RsYFNF1+QHxBtbfEBeYOENdANbF/oGBIZ4BpMUTmy4GJgNsdvE5MDAcZGCwZOD7xY3mL5ALGZgn\n",
       "YHWhAcgW7n8MPALL0OzqBRHrH2ANjQYGru8MbB8YOCZMQNM1B0Tko8cX5y+QkyYw8Bkw8Cow8Omi\n",
       "p/9iEHECTRfPkY/HgO5+gDNtMBcACV90u8BgMe50yKbAcJTtN3rqBQM1PPmri/0rM9aMydWAR9cO\n",
       "Bl09rBIc+IoArgs4JG4xMAAALjJX1YucYIIAAAAASUVORK5CYII=\n",
       "\" style=\"display:inline;vertical-align:middle;\" /></a>, <a class=\"ProveItLink\" href=\"__pv_it/lambda_indeterminate_params/319413f06f46b6c6a6feca32af6ea654909c0e480/expr.ipynb\"><img src=\"data:image/png;base64,iVBORw0KGgoAAAANSUhEUgAAAIgAAAAVBAMAAABvbLv8AAAAMFBMVEX///+6urp2dnYiIiKqqqrc\n",
       "3NyYmJgQEBBmZmZUVFQyMjKIiIju7u5ERETMzMwAAACiJdmqAAAAAXRSTlMAQObYZgAAAAlwSFlz\n",
       "AAAOxAAADsQBlSsOGwAAAbdJREFUOMt1lD1Iw1AQx6+fSdpauzm4dO3Uqh10kaKD4GJAFBehowpi\n",
       "3QWLgoiTk+jWqVAQzKJUEMysiFk6KSLq3nZwE+u9vNfUXK4H/6bcO3537727B8CaqRT0BiwGQyxZ\n",
       "kiI2zsWGLPeTfqULc1JrJ2//nE1Ilmngpw1wI/PWyFKq5irmQD4z8E4CXJK48yuEJGx2N3rZlWGC\n",
       "VvEtbNDIewTEqyxEk9J+wPj2L9gMBPZYyKKUUQDj17eQKHOQOurxlkIOlAAiHW//TQSETzlIDlXV\n",
       "BF+fcs2NqisBtK1+eDiExxOvcZAtvBtzlHZEUQlgxvN96QiIVjjIAtYJS/S4dpVAd8Tvs8hva1hU\n",
       "WuzuwS15dgBpi3+HMAyyKQ/GvUORKsRWMqa6yH8m/e1Es7DixTdS6ChwkHkxQV1ayYvSB8Cddzvd\n",
       "MB6sw0G2UfEOheSkYtPHx17qdGcVy82SyLypusFwAmMlFen1eoM7PcNGiGT8gRf7DfROiF62KCTy\n",
       "LhWwZfZBwcYu7QSmUIwUO1ZHQ8a1XSoG/S0lmtPhIOvIaWaC/iclYiPs+9ga8jzGLCli1+xTasIf\n",
       "6dBvbSnOxs8AAAAASUVORK5CYII=\n",
       "\" style=\"display:inline;vertical-align:middle;\" /></a>, <a class=\"ProveItLink\" href=\"../packages/proveit/core_expr_types/tuples/__pv_it/theorems/25affb7a8c81ead7ae47a3a75d143c7ed8067f4d0/expr.ipynb\"><img src=\"data:image/png;base64,iVBORw0KGgoAAAANSUhEUgAAADwAAAATBAMAAAA+KHOiAAAAMFBMVEX///9ERETc3NxUVFQyMjKq\n",
       "qqrMzMwQEBC6urqYmJju7u52dnYiIiJmZmaIiIgAAACrFvqoAAAAAXRSTlMAQObYZgAAAAlwSFlz\n",
       "AAAOxAAADsQBlSsOGwAAAOBJREFUKM9jYMANLjDgBQKkS3OdF/Ri4K6vgEu/RZVnDGhmYFiP0H0a\n",
       "VZr5EPcEBnYGXkHBQkFJTNOZAxmcGHgw7H545owDWFrzgQqmdMsrmG4FM74NcGmutxNATCYvuOEK\n",
       "jAwScGlujgIQk0UBIc12Yc0aWKil8oJtZEE4TYFhKqs4jLeA/QGISj8DBAJQaeYF5nDV8QtA5EJk\n",
       "3VwGa+BcZy4QyYMszZDHCA/jH9wgiu8BPFATgLxEGI/tgyaYdoUJsAQAiStwwyzB/mZYLLEAoty/\n",
       "EEguwQjrbhlIoKIAAIMgK9/kDnzcAAAAAElFTkSuQmCC\n",
       "\" style=\"display:inline;vertical-align:middle;\" /></a> <a class=\"ProveItLink\" href=\"__pv_it/lambda_indeterminate_params/1788b0a4dc49a250c061d589315c3cc0714fc76d0/proof.ipynb\" style=\"text-decoration: none\">&nbsp;&#x22A2;&nbsp;&nbsp;</a><a class=\"ProveItLink\" href=\"__pv_it/lambda_indeterminate_params/af97d32233b50971887bf146089c6765fba252d60/expr.ipynb\"><img src=\"data:image/png;base64,iVBORw0KGgoAAAANSUhEUgAAAF0AAAAVBAMAAADWVP/xAAAAMFBMVEX///8yMjJmZmYiIiIQEBCq\n",
       "qqqYmJjMzMxERER2dnbc3Nzu7u5UVFSIiIi6uroAAACibcT0AAAAAXRSTlMAQObYZgAAAAlwSFlz\n",
       "AAAOxAAADsQBlSsOGwAAAWlJREFUKM9jYMAJFhAhggR4AzCE3uJTH8nAsEixHUngEgNvAm7l3AIM\n",
       "XA0M8x8gRCwZGKRxq2dKYOBZwMDigCKYhFs9CxD9ZuD5hSq4Aaf6QAYGHgMGnu8ogowJDHx3ds3t\n",
       "ZZ/Zh65eE0wyf4D75xLQs5wHGDg5zjLsz2MIAbvZGAwOgNhiYFX1F2DqOfmAXmETYHjH3MCw/gJD\n",
       "Prr5pmDSBs4vZRJgYGB1YNiw/wFD/AYGRXT1fmALG0DkfqBKhg0sQKvYgc6LZwAp9sSqPgfiCQUQ\n",
       "CTSUAeSmg6CY4PvFjeZ+kHtYJzCsghsgA1TBagAymfsfA4/AMjTze4G4koHhNjx8/nEC/dvAwPWd\n",
       "ge0DA8eECWjq5zAwcBkpKRnA+OwfgCYyTWDgM2DgVWDg00VPq8VAd////18ALnAMGP7MD3DGL3MB\n",
       "FsHFuNMPmwIWQTU86b8LU4irAY/6HZhCHPgyJNcFDKFbDAwAwLlJFunRCQQAAAAASUVORK5CYII=\n",
       "\" style=\"display:inline;vertical-align:middle;\" /></a></span>"
      ],
      "text/plain": [
       "{m = (j + 1), j = ((2 * i) - 1), i in NaturalPos} |- m = (2 * i)"
      ]
     },
     "metadata": {},
     "output_type": "display_data"
    }
   ],
   "source": [
    "m_eq.inner_expr().rhs.simplify(assumptions=assumptions)"
   ]
  },
  {
   "cell_type": "code",
   "execution_count": 46,
   "metadata": {},
   "outputs": [
    {
     "name": "stdout",
     "output_type": "stream",
     "text": [
      "Failure to apply (A_{1}, A_{2}, ..., A_{m}) -> (A_{1} and  A_{2} and  ... and  A_{j} and [forall_{A_{i}, A_{i + 1}, ..., A_{j}} (A_{i} or  A_{i + 1} or  ... or  A_{j})] and A_{m}) to ([not](B_{1}), [not](B_{2}), ..., [not](B_{i - 1}), C_{1}, C_{2}, ..., C_{i}, A or D) using equivalent alternate expansions of {(A_{1}, A_{2}, ..., A_{i - 1},A_{i}, A_{i + 1}, ..., A_{j}, A_{m}): ([not](B_{1}), [not](B_{2}), ..., [not](B_{i - 1}),C_{1}, C_{2}, ..., C_{i}, A or D), (A_{1}, A_{2}, ..., A_{j}, A_{m}): ([not](B_{1}), [not](B_{2}), ..., [not](B_{i - 1}),C_{1}, C_{2}, ..., C_{i}, A or D)} assuming {m = (j + 1), (m - 1) in Natural, i in NaturalPos, j in NaturalPos, m in NaturalPos, j = ((2 * i) - 1), (j - i + 1) = i, (j + 1) = (i + i)}:\n",
      "Improper replacement: Improper replacement of (A_{i}, A_{i + 1}, ..., A_{j}) -> (A_{i} or  A_{i + 1} or  ... or  A_{j}) via {(A_{1}, A_{2}, ..., A_{m}): ([not](B_{1}), [not](B_{2}), ..., [not](B_{i - 1}),C_{1}, C_{2}, ..., C_{i}, A or D), (A_{1}, A_{2}, ..., A_{i - 1},A_{i}, A_{i + 1}, ..., A_{j}, A_{m}): ([not](B_{1}), [not](B_{2}), ..., [not](B_{i - 1}),C_{1}, C_{2}, ..., C_{i}, A or D), (A_{1}, A_{2}, ..., A_{i - 1}): ([not](B_{1}), [not](B_{2}), ..., [not](B_{i - 1})), (A_{i}, A_{i + 1}, ..., A_{j}): (C_{1}, C_{2}, ..., C_{i}), A_{m}: A or D, (A_{1}, A_{2}, ..., A_{j}, A_{m}): ([not](B_{1}), [not](B_{2}), ..., [not](B_{i - 1}),C_{1}, C_{2}, ..., C_{i}, A or D), (A_{1}, A_{2}, ..., A_{j}): ([not](B_{1}), [not](B_{2}), ..., [not](B_{i - 1}),C_{1}, C_{2}, ..., C_{i}), A: {(A_{1}, A_{2}, ..., A_{i - 1},A_{i}, A_{i + 1}, ..., A_{j}, A_{m}), (A_{1}, A_{2}, ..., A_{m}), (A_{1}, A_{2}, ..., A_{j}, A_{m})}}:\n",
      "Partial masking not allowed. A_{i}, A_{i + 1}, ..., A_{j} is not in {(A_{1}, A_{2}, ..., A_{i - 1},A_{i}, A_{i + 1}, ..., A_{j}, A_{m}), (A_{1}, A_{2}, ..., A_{m}), (A_{1}, A_{2}, ..., A_{j}, A_{m})} \n"
     ]
    }
   ],
   "source": [
    "from proveit import LambdaApplicationError\n",
    "requirements = []\n",
    "try:\n",
    "    partially_masked_lambda.apply(*operands.entries, assumptions=assumptions, requirements=requirements,\n",
    "                                  equiv_alt_expansions={alt_A_form1:operands, alt_A_form2:operands})\n",
    "    assert False, \"Expecting ImproperReplacement error; partial masking no longer supported\"\n",
    "except LambdaApplicationError as e:\n",
    "    print(e)"
   ]
  },
  {
   "cell_type": "markdown",
   "metadata": {},
   "source": [
    "And these were the requirements to make that happen, making sure that lengths match properly as well as certain index ranges."
   ]
  },
  {
   "cell_type": "code",
   "execution_count": 47,
   "metadata": {},
   "outputs": [
    {
     "data": {
      "text/html": [
       "<a class=\"ProveItLink\" href=\"__pv_it/lambda_indeterminate_params/ca9fc9d79efb9c6af87b80c4534485c48f20cf020/expr.ipynb\"><img src=\"data:image/png;base64,iVBORw0KGgoAAAANSUhEUgAACvoAAAAVBAMAAAB/f7bdAAAAMFBMVEX///8AAAAAAAAAAAAAAAAA\n",
       "AAAAAAAAAAAAAAAAAAAAAAAAAAAAAAAAAAAAAAAAAAAv3aB7AAAAD3RSTlMAInZUiRDNmWbv3US7\n",
       "qzJazP2FAAAACXBIWXMAAA7EAAAOxAGVKw4bAAAQOUlEQVR42tVdb4xdRRU/71/f/n37JAhI1vS1\n",
       "BIqG0qZpS7of5IngB9emz8agH4pdPzRZjKQbqG1TSHxfbElssyuhRixJNymKisALmsjqB7ZVQlSg\n",
       "K4aChE03SkLSEHZb2EossM7fe+fPmblzH7t7y5C3nZ05c+ac3/nNuXPn3n0AQJX8R0tOfKySQ6sJ\n",
       "jVGpenv9YxexVHFjqu1ZYQ6rphwZBkO1HUSDVFdT+mtTIDO25HDB3OIEgjXr0a0uDlGDCZhrd6Xk\n",
       "2ibl8lCm+ilOMH7W5dohAhuUXw+D7PfrxMcq3bWomtRvF6LeV7xj2ylXOdqfYT8HzeZBt1u+wrUV\n",
       "W2FOJsOBwuDS+kwqUzHV4fbaSoTTmbFFjDcjyc36xIFg4OrRbZMibRPwunZXCpdog5TLQxmm4dOa\n",
       "YLysS0cOSQSmcqPQWajzjygdpz+aPvMyr98oG5P6kbIxrh5emJ7+/ozRr4zd/tJ080qlq3TT9Ou5\n",
       "utcTW2S3GZzTH06/+A/yb9NNfupW5Rei5eq9Lwes3aZGdOrkuYa4Du6zfDTgWGO00ZEqhGs8stRM\n",
       "PrmzVJ53IgyIvWEO32gQLkO23OhZB+GOUcn8CA6uHt2IIjbb0jA0iYDSGLXupAhS3mlwCZSUCUF+\n",
       "p7EMlNkIGScYK1pmwvGFz8e6FPmDLM6ICERlaUjovFN8ZOmcBDjLXVkhUU/qR6wfUn55FKD3Y0Mg\n",
       "Hpt/qAG3/Erp+sL1UDjgzzSWSGGB/uylSiv8ctVHLBgl18ddbvITt+7aOy+S5yRsayVTa5dKdOJk\n",
       "6bXdwpF+KF7yw/GY3sRGqhA+5pQVZu7yXxmGXAgrVsT2hjkcK+FOZ8gWPh5dB+GOsZm66g5wd1nZ\n",
       "906UbakY6idgZMydtmE2RZByg5BASZkQ5Btg6SnDEM80wZjRshKOL3we1qXJH3RxSiIQleWm0Llf\n",
       "fGRZSZLXc/wa3CEvxUn9dikr3uYukB38fw2BaGzpbwTp8vm4Z8dT5McPvac6tkj5LP2tgybeHh65\n",
       "WVIvjwEccpOfupUX6PVWoXMsOfseUtcnc3KdiDLZZz8SBEdU6EgEQlW2W9aZmYdS3TTZqjV7wxyO\n",
       "lXCnM2QLH4+ug3DH0EBE4B6ysu9+jG3pGJpAQEBQezaBIliQUFIGsnopKcM0ZJlgzGhZCccbPg/r\n",
       "0uYPSQSislPqHBMfWUaJbaPi0OSoaEvqt0unigO5LHVcMCXk2BW00q3McDeN9YTXD1vky9tYzh2P\n",
       "T4DXkYbuD4glDSf5xxT0Oueh93wyPzvVbUYnKNQ83oCz1RA4tOyLQKjKFmpqguhspEq/R1HN0t5A\n",
       "h4/qhMuSLUed6yDcMTQQEbhadCOKWGxLx9AEAgKC2oYEimDooKQMDPJSUqYTMk4wZrSshOMPn5t1\n",
       "afNHRISjsFnUCkP8E5WzdHKRRoZFDkjoR8pmpd47R1z+iSkhx26jp+eV+CJXfI/+fNvnhi2Sq61j\n",
       "h/BfIZ/7eNNp2vw+mbnpIj9zK7p2jds3L9htVVMh+maVmm9E90sJcOjZd9grq2ffFc1U2XcY1Rxt\n",
       "ZMIcHtYIlylbhp3rINyxzc7sS8HVoispYrEtJUMTCAgIahsSKIKhg5IyMMhLSZnNkG2CsaJlJpyE\n",
       "8LlZlzZ/REQYhj2iVq7zj3qGctdTor5V7PIT+pGyRz/IKb1hJSYxNvc/djcQd6+k+1f4js8NW6QM\n",
       "t7LMdJXY/5LyIcX4IwLUlIv8zC2JHj11m3NN+MyrV95Ue+vrLaFNEn2PSk1SnvbBUVrTxLJvBGHU\n",
       "r8rq2ZdN7irb1/KzirXfuO1U5fa/Y9Ex7XU6jCnht5FZsmWrcx0EO8Ykt+/Hsi8FV4uupIjFtpQM\n",
       "9RNQGqPWjey71TNRafWUkHCR0o0FH7vUlNkD2SYYM1pWwkkIn5t14fmDL86ICFtZSh9UL/miVD5c\n",
       "vTa64hxUkranP+EiOntq9Rl71ybGFs07hm21xIurLfI7mGUB7J2BPO+sUL0dZO/bMSTRK/+GlSlQ\n",
       "XFfRm3XOXH+pVvqgVRgT2iTRh3VqVi744ChaNztsZARh1K/K6tm3Y8gDykgnw7jY8wrs/DFskapV\n",
       "pw173Q6bSiLCZcqWg9E6OMB8ejIyK9gxJlmfwLIvBVeLrqSIxbaUDPUTUBqj1o3se9AzURl+JiQc\n",
       "pPRgwccuNWWGIdsEY0areAFShS9mnYJLtBjC8gdfnBERDsIJUetazz+M0I8TbecBtkhXtoikntCP\n",
       "lBPSWLLDX1eFAolzST8VlbrNw5Knk1/vliKxxhFYychSmYIuTpU8vQ3ovUQS2Jhr60HdUtF70jVf\n",
       "d+u39GS/Y05ok0Q/oVOza8oHx3/KQ1j2jSCM+lVZPfsWPIdV+WofO3v5U9ckfW4xikXHsNftMKaE\n",
       "OZ0pW7Y4dyHBjlHJyvq9WPal4GrRlRSxCJmSoV4CRsaodSP7bvFMtAreExIOUnqw4GOXmjInINsE\n",
       "Y0arK+DkWg2fm3XB+UMszogIW+CYqHW2+IeVzwP0EJHix1BiKX9W7Ozt/m9ufTXuR8oxuc8nGemv\n",
       "9GoyA0WZSXTdbLteEo2kHGc/G6Xbp53PmIRIrDH/wr6zk6z2XbiFN/VQvX3E2Mqci/zMrRi98qTz\n",
       "Fq10CQrzQFMi0yaJfkyn5gPgg6PRSa0tfY9RZiYaGUHI+1VZwq5f/1zsQZiZlTnPLSjcygxp7GzR\n",
       "2l4sOoa9bocxJfwRSpZsmXWug2DHqGQJHjICEYGrRVdSRLLt20PtMdRLQG6MVidp6BGxsTcogkWq\n",
       "MC8kHKT0YMHHLjVljkG2CcYMn0w4fILk8LlZF5w/xOKMiDDrzL59U+z54b+/SH+fsMER/SNwAHzP\n",
       "fVVwPoL4ISYtmm5+WPIl0SgPTwszZSiPOy9NXEQ5ViF2cemNJP+y0kexGG2Kp5sh2feIm+OFOZp6\n",
       "O+tCG070jilv9hXZ0dz7xhDKflVW3/v6H9QeEGqALoGHsegYS8njMKIEzb7LypaJ0Ox7xB+Iwjy2\n",
       "96Xgdo8h2VewrbJ6vD2G+gkojVHrxt7X+3YFs2HCnX2PJI1dasocg2wTjBk+mXBG5IJJCN9EaPY9\n",
       "krQ4IyJMWCcP0vnZJr9hH6C/D8Q3Bkb/JVg5E/XjNwYSnMoH5N+z6pvIqm7+4l091sXesitCXyvn\n",
       "fIQoRJRjFWIjz0xdlcn4EKb0KAVx3HXspt85FOrwGdeEvUP0Rfjnqg2uDb/J2wi5qg+Oe0pY9o0h\n",
       "lP2qrHHyMO4LsPgDjTO01n2+JFSrTuv2+hw2lFgnD5mwZcB57hvuGJVcMdXATh7GQY+upIhkW4R+\n",
       "Sob6CSiNUetG9h3wRZ39gcaAk5Q+LKI/7lhSypyAbBOMGT6ZcPgEyeEbcJ77hucPvjgjIgzAKVHr\n",
       "qfEPK1ezMxSYHRKTHqbbb7T/R8x20W9us0k5JcEZYQc5lYvQvVYHR4ylb0pDscEbaQN92RrugI4G\n",
       "4XYJucOJRahGJkH/JmEFvyvPHxFRoK/79tCbjY5J19aDuUXRY0reArge8YY1kV0vubE6k2tybcWW\n",
       "4iSlJvsTuzrkGyVwwlG6VMSy72E5B+23ZI2nbpPgBBxyl3jlYTKaXC6uEarVotnrchhTEr0GmyVb\n",
       "uCnoLiTcMSq5s1XHnrpNgh5dSRHBNrZ4WEc6hiYQkBrTUOpI9o1CgIV9ZUtIoKT0YkHHLj1lTkG2\n",
       "CcYMn0w4bIISrlwNn5t14fmDLk6FCIfZixS0Fr1oI8rdJJn9VCRD2AOli4D3w9fifvZj55BSUV8V\n",
       "WUF2pRO7YHtfQwNHjKWvinXfwRtZQ4FcyX7PYjce69RnECJUI5vscxQKfphe+qWYYzex83F2xaq7\n",
       "yM/fLzrPFece37dvHJmL/SBxGgX4S1FoI9jHTm6rcplr9+07wJt1JKRkZe4a88lqFfibM0yY9luy\n",
       "UfalZrLJXYDTZ4LMj49prade11/KYUWz1+UwooSToLVIbEEwCmGL8AddB8GOMcnZnPGAPAJXi66k\n",
       "iCQkXb6sA2WoThiFoQkEJMZEqEWGbcApghCLPeZiEigpYywQ1OnYNilja3NSZissDmX0iIYnGCt8\n",
       "MuHQCezwqRFmGt2sC88f7IF9TIQ9cE7UKuP8I8qb9Asr1ksHngD4TQPvZ98uIfqBprmuEVmhPefi\n",
       "u3b6rRl/BvjsgH5pkmNLD0zfLxtZw7deeo3tX881uCqWQ6MZFBGqkUrsWNgFhdMX+b7hvsjON19g\n",
       "BwFdLRf5qVu9/7r4OlPStbCwMIR4w5r+yL725g+rhDaCfeTk9PF7mkzm6YWFi7w5RmJEheN1Y82z\n",
       "kRQG4RTpt2Rl9mVm8skdgEPvJKt0j9Pvaum+typUq0Wz1+UwpoRKMcItBls4KunZwk1B10GwY0yy\n",
       "90HjXCkCV4uupIgkJF2+HGqMoTphFIYmEfDBGLXIsA04RRBiwZsSHZSUMRYI6nRsm5SxtTkpcw4W\n",
       "iTJxHkiXYMzwyYRDJ7DDp0aYaXSzLjx/0MWpEOEJ6JoROp8SH6PQiXP0KKyB9/c3lH69bKIz2Wcq\n",
       "p6DyIiknDd3qhGpD7nmhyngA1tBvizYlvT1yLbjIH7u1CdOONl0rsdecjGUQcxxwCC/HtfGmbKFm\n",
       "Te4AHOhrEpts1do5n22vS5ttHz9XzJAt3BT83Z9gx5yBYOBq0dUpIo7tVHACGZpMQAu1DR6KGIF6\n",
       "SEp4SOkbu+SUYRougwRjhY9OgIRvk37u4mFdivzB3mGSRCAq6bdHMJ3Rt4vY4NBvsigC2p8byVXj\n",
       "fr3QTaj9/Ril+RlUt9qoNlxND7HrlvKiobGelH33u8l/SLXY1I437ZfYa04WwdKUBId87NzUxpuy\n",
       "3U17cnSG3vWjDWN2+wtlEHsd4UPs44TLkC3cFHQdhDvm/t6W/WZ0Bw1f2PKtp2doMgEt1J71UETz\n",
       "558d81LCQ0rf2CWnDNNwGSQYM3xsAiR8dV2jh3XB+YMvzogIVOVJobOnyj8IOP3AXubC+vvffbsR\n",
       "9+sosP3aSesaMDSC6lYblYbcy+/+QKjSynZdIyJhRHHSTX7pVqzE9kZv4troAw7Nye267yFwSBy1\n",
       "8X5ZPjkO+Oz6E+bs/bYGy15n+Gz7OOEyZEs/uNdBuGM+cPXoDhq+sMc2tdQMDSCgAzWUIpo/lffY\n",
       "c/d+Pyl9Y5eBMifhskgwZvjYBHb41Baq0ce60PzBFmdMBKpyh9BZmuQfvVy5+zbuYE3K6OX4woLS\n",
       "rz9BZj93WG69UkV1q41KQ+fCwpxQpZWarjGftPXlCOHkl27lMe1oE9dGsNedrOm+h8ChkbsWJMsn\n",
       "xwEvr2mZsyN5xrLXGT7bPk64DNly0rMOwh3zgatHd1D3JffV92saOIEMDSCgAzWUIro/994fSbhJ\n",
       "6Ru7DJTZAZdDgrHCxybIe32hGn2sC80fbHHGRKAqczW4mXVfIT62IfEFKakf2Uv4N6X5tv/nUynL\n",
       "KvbzZrP5ZrdbydryM2FOJsOBwuDSuiqVqZjqcHttJcLpzNgixpuR5GZ94kAwcPXotkmRtgl4Rbsr\n",
       "hUu0QcrloQzT8GlNMF7WpSOHJAJR+X8YIkCg9OeqwgAAAABJRU5ErkJggg==\n",
       "\" style=\"display:inline;vertical-align:middle;\" /></a>"
      ],
      "text/plain": [
       "(|([not](B_{1}), [not](B_{2}), ..., [not](B_{i - 1}),C_{1}, C_{2}, ..., C_{i}, A or D)| = |(1, 2, ..., m)|, (1, 2, ..., (i - 1),i, (i + 1), ..., j, m) = (1, 2, ..., m), |([not](B_{1}), [not](B_{2}), ..., [not](B_{i - 1}))| = |(1, 2, ..., (i - 1))|, |(C_{1}, C_{2}, ..., C_{i})| = |(i, (i + 1), ..., j)|, (1, 2, ..., j, m) = (1, 2, ..., m), |([not](B_{1}), [not](B_{2}), ..., [not](B_{i - 1}),C_{1}, C_{2}, ..., C_{i})| = |(1, 2, ..., j)|)"
      ]
     },
     "metadata": {},
     "output_type": "display_data"
    }
   ],
   "source": [
    "requirements"
   ]
  },
  {
   "cell_type": "markdown",
   "metadata": {},
   "source": [
    "Notice how the inner $\\forall_{A_i, .., A_j}$ masks a certain range of the $A$ variables and remains unchanged.  If we turn on the `allow_relabeling` flag, we can propagate changes as long as the replacement yields proper parameters.  In this case, it does:"
   ]
  },
  {
   "cell_type": "code",
   "execution_count": 48,
   "metadata": {},
   "outputs": [
    {
     "name": "stdout",
     "output_type": "stream",
     "text": [
      "Expected error: Failure to apply (A_{1}, A_{2}, ..., A_{m}) -> (A_{1} and  A_{2} and  ... and  A_{j} and [forall_{A_{i}, A_{i + 1}, ..., A_{j}} (A_{i} or  A_{i + 1} or  ... or  A_{j})] and A_{m}) to ([not](B_{1}), [not](B_{2}), ..., [not](B_{i - 1}), C_{1}, C_{2}, ..., C_{i}, A or D) using equivalent alternate expansions of {(A_{1}, A_{2}, ..., A_{i - 1},A_{i}, A_{i + 1}, ..., A_{j}, A_{m}): ([not](B_{1}), [not](B_{2}), ..., [not](B_{i - 1}),C_{1}, C_{2}, ..., C_{i}, A or D), (A_{1}, A_{2}, ..., A_{j}, A_{m}): ([not](B_{1}), [not](B_{2}), ..., [not](B_{i - 1}),C_{1}, C_{2}, ..., C_{i}, A or D)} assuming {m = (j + 1), (m - 1) in Natural, i in NaturalPos, j in NaturalPos, m in NaturalPos, j = ((2 * i) - 1), (j - i + 1) = i, (j + 1) = (i + i)}:\n",
      "Improper replacement: Improper replacement of (A_{i}, A_{i + 1}, ..., A_{j}) -> (A_{i} or  A_{i + 1} or  ... or  A_{j}) via {(A_{1}, A_{2}, ..., A_{m}): ([not](B_{1}), [not](B_{2}), ..., [not](B_{i - 1}),C_{1}, C_{2}, ..., C_{i}, A or D), (A_{1}, A_{2}, ..., A_{i - 1},A_{i}, A_{i + 1}, ..., A_{j}, A_{m}): ([not](B_{1}), [not](B_{2}), ..., [not](B_{i - 1}),C_{1}, C_{2}, ..., C_{i}, A or D), (A_{1}, A_{2}, ..., A_{i - 1}): ([not](B_{1}), [not](B_{2}), ..., [not](B_{i - 1})), (A_{i}, A_{i + 1}, ..., A_{j}): (C_{1}, C_{2}, ..., C_{i}), A_{m}: A or D, (A_{1}, A_{2}, ..., A_{j}, A_{m}): ([not](B_{1}), [not](B_{2}), ..., [not](B_{i - 1}),C_{1}, C_{2}, ..., C_{i}, A or D), (A_{1}, A_{2}, ..., A_{j}): ([not](B_{1}), [not](B_{2}), ..., [not](B_{i - 1}),C_{1}, C_{2}, ..., C_{i}), A: {(A_{1}, A_{2}, ..., A_{i - 1},A_{i}, A_{i + 1}, ..., A_{j}, A_{m}), (A_{1}, A_{2}, ..., A_{m}), (A_{1}, A_{2}, ..., A_{j}, A_{m})}}:\n",
      "Partial masking not allowed. A_{i}, A_{i + 1}, ..., A_{j} is not in {(A_{1}, A_{2}, ..., A_{i - 1},A_{i}, A_{i + 1}, ..., A_{j}, A_{m}), (A_{1}, A_{2}, ..., A_{m}), (A_{1}, A_{2}, ..., A_{j}, A_{m})} \n"
     ]
    }
   ],
   "source": [
    "try:\n",
    "    partially_masked_lambda.apply(*operands.entries, assumptions=assumptions,\n",
    "                                  equiv_alt_expansions={alt_A_form1:operands, alt_A_form2:operands},\n",
    "                                 allow_relabeling=True)\n",
    "    assert False, \"Expecting ImproperReplacement error; partial masking no longer supported\"\n",
    "except LambdaApplicationError as e:\n",
    "    print(\"Expected error:\", e)"
   ]
  },
  {
   "cell_type": "markdown",
   "metadata": {},
   "source": [
    "But of we change our `operands` such that it does not provide proper relabeling, then no relabeling will occur either way (whether `allow_relabeling` on or off)."
   ]
  },
  {
   "cell_type": "code",
   "execution_count": 49,
   "metadata": {},
   "outputs": [
    {
     "data": {
      "text/html": [
       "<strong id=\"operands\">operands:</strong> <a class=\"ProveItLink\" href=\"__pv_it/lambda_indeterminate_params/aa4932ab39730e5b33023880b5bf25bd7459fd6b0/expr.ipynb\"><img src=\"data:image/png;base64,iVBORw0KGgoAAAANSUhEUgAAAh0AAAAVBAMAAAAQgkGQAAAAMFBMVEX////MzMxUVFRERES6uroi\n",
       "IiIQEBCYmJhmZmYyMjLu7u52dnaqqqqIiIjc3NwAAACW8nlqAAAAAXRSTlMAQObYZgAAAAlwSFlz\n",
       "AAAOxAAADsQBlSsOGwAABSJJREFUWMOVWE1oXFUUPpNmMjNvZl6mloKbkjjVRd1kmqKgmCYb66p0\n",
       "BKsluChYEAvqgBsVJEO1VizIgNBCXXSsqIi2HQIuVMSIpBhdNFikG9MOlkIh1DT9McY2jufcn/d3\n",
       "z33v5cB9OXnf+86599xz7s8AQBdkM6TLqgkvtbgQK+uw3V239e66uxPglWdkM2W3pyXhjPwR7zq9\n",
       "bRbvn4+xzTFCBLcV06lfVVPyWq9a/bAi7Tb0yyTclFLHU3PjN6vbtkf7zNmG06PVxmIq/GJMPFhG\n",
       "kFC4EWFc6I1uHe0Kp05LNk9eAOhbluoJ9SoJZ+SLgD5QAxipRD7gbJdfbsPPz6XCC22ra54RJJwX\n",
       "8XiYHlvkm1WctnvCab4hm5dLa5hc/0j9dfUuCWfkSEBfwlzd04x8wNh2HsGg5f9LheeaVtc8I0g4\n",
       "JN68RQ+ZtxkcFLwrnA6AbF5249zn1tTEqpgm4YzsD+hT2KmpaMEztgsHqdD3p8MPWl1bGD6huCjy\n",
       "O+uvJGV6sadBTudQmwtY68NcKryizKlIJ+HM8hGssBFsx6JrPmP7B1oHM810+HFrPCwMn3C9fE+E\n",
       "BcG8XHo3UAEtdcjpUdSOhovdeUgVe3FY/k3CmZzthFecU09HvzBtu3dEilfS4dPWeFgYPqFZWtG7\n",
       "TFa+GcQVDoaGyenxSKyHxha26WnPtcy54HBTgpmTubXwG1k4E/rCtF1cWw/+hjUeDONMkNA/k7kr\n",
       "lAcAFtSgqJqnOuT0edSw5feSYGZd7kLpRYDPqTslVasm7nxXbfu4KVnMw8PE2IfFiavXOYzP9xq0\n",
       "2M6qldQRPbfjX07TznDOGg+TIVx7hDy4N4VyH8CkfHWZUmhkgpweQO2Azi/M0Uep7CqZhTrNrNqn\n",
       "TTwP+bqPM2vahFL+xOLEkRWXA/lisT0g3jiw5XeIxZtwmKbUGg+TIXPAO2y8d+iWTOJuSS1G4/T4\n",
       "WziNxoNCh5tBqR5Yy018cMJd9vH4eAwO+zuSXGx521nR+x8BZiEWvw1LOJ27UsTDs0iiCQ7Wxh11\n",
       "ZiyoVZ7ik1sRTlW96PFmVlTm1HXHWTzXpnhonK8XHY8hrJW+27B7OBQP07Y8J3RUPOz4myIes3H1\n",
       "EmEI17NeuQA8K9X6JvCPH5/VhNMxVMe0haYo9syq6k6uJpONwaFY9/Gw0MFhgz5uXBMrDgy1nPl/\n",
       "Q/EwbdNJD4pt1fMYHL6me4N0FDmasgzpWhOewnZSfnHxQfCPH49Jp9PhvauAabrrhOoz7ppnWzwO\n",
       "m9se7lB8xMP7L7gTH8M8fKntflUPxYOxfb4B/d/qmYzBM5NiVw179P4zGdK1IrhUh+OyTj5t+feZ\n",
       "J5vS6WYam3/aorvXE7rP2QnITvK4+3gA3wfqkSWjezFSGb+SttIFcEakzKYdKF2bbXDerr4DOh4x\n",
       "+BWa52ekI+HR988zRLZKgjO+2oafeh/J0pnxBrXjA+0UazFbMQ+Y1Oer2H4BFr8Gf/l4hErdNc5f\n",
       "cPbjtLZFPOw41kEX3LpyFBaeQa4thLBclfcc5nIk+nxErm8M7m7f+L6PR06e/FVvLp/StoyHHb+y\n",
       "8f62uLQVzQHxDHJtIZi30J2qhcf7zd15cGtyd2LwgV7vRgAPyWlxIzB+ozp1KaXtxZN4fIrBX+31\n",
       "MCjaUXg95RnkmidERk3H9k9UM4XGVBZaEh4S0SenFu86vW0e36kdhX9lsjN4gukU3HnZTLnkBy4B\n",
       "Z+R6vOv0tlm8HPfbLceIJQSc/g8xmOX6LvaV5wAAAABJRU5ErkJggg==\n",
       "\" style=\"display:inline;vertical-align:middle;\" /></a><br>"
      ],
      "text/plain": [
       "<IPython.core.display.HTML object>"
      ]
     },
     "metadata": {},
     "output_type": "display_data"
    }
   ],
   "source": [
    "operands = ExprTuple(ExprRange(k, Not(IndexedVar(B, k)), one, subtract(i, one)), \n",
    "                     ExprRange(k, Not(IndexedVar(C, k)), one, i), Or(A, D))"
   ]
  },
  {
   "cell_type": "code",
   "execution_count": 50,
   "metadata": {},
   "outputs": [
    {
     "name": "stdout",
     "output_type": "stream",
     "text": [
      "Expected error: Failure to apply (A_{1}, A_{2}, ..., A_{m}) -> (A_{1} and  A_{2} and  ... and  A_{j} and [forall_{A_{i}, A_{i + 1}, ..., A_{j}} (A_{i} or  A_{i + 1} or  ... or  A_{j})] and A_{m}) to ([not](B_{1}), [not](B_{2}), ..., [not](B_{i - 1}), [not](C_{1}), [not](C_{2}), ..., [not](C_{i}), A or D) using equivalent alternate expansions of {(A_{1}, A_{2}, ..., A_{i - 1},A_{i}, A_{i + 1}, ..., A_{j}, A_{m}): ([not](B_{1}), [not](B_{2}), ..., [not](B_{i - 1}),[not](C_{1}), [not](C_{2}), ..., [not](C_{i}), A or D), (A_{1}, A_{2}, ..., A_{j}, A_{m}): ([not](B_{1}), [not](B_{2}), ..., [not](B_{i - 1}),[not](C_{1}), [not](C_{2}), ..., [not](C_{i}), A or D)} assuming {m = (j + 1), (m - 1) in Natural, i in NaturalPos, j in NaturalPos, m in NaturalPos, j = ((2 * i) - 1), (j - i + 1) = i, (j + 1) = (i + i)}:\n",
      "Improper replacement: Improper replacement of (A_{i}, A_{i + 1}, ..., A_{j}) -> (A_{i} or  A_{i + 1} or  ... or  A_{j}) via {(A_{1}, A_{2}, ..., A_{m}): ([not](B_{1}), [not](B_{2}), ..., [not](B_{i - 1}),[not](C_{1}), [not](C_{2}), ..., [not](C_{i}), A or D), (A_{1}, A_{2}, ..., A_{i - 1},A_{i}, A_{i + 1}, ..., A_{j}, A_{m}): ([not](B_{1}), [not](B_{2}), ..., [not](B_{i - 1}),[not](C_{1}), [not](C_{2}), ..., [not](C_{i}), A or D), (A_{1}, A_{2}, ..., A_{i - 1}): ([not](B_{1}), [not](B_{2}), ..., [not](B_{i - 1})), (A_{i}, A_{i + 1}, ..., A_{j}): ([not](C_{1}), [not](C_{2}), ..., [not](C_{i})), A_{m}: A or D, (A_{1}, A_{2}, ..., A_{j}, A_{m}): ([not](B_{1}), [not](B_{2}), ..., [not](B_{i - 1}),[not](C_{1}), [not](C_{2}), ..., [not](C_{i}), A or D), (A_{1}, A_{2}, ..., A_{j}): ([not](B_{1}), [not](B_{2}), ..., [not](B_{i - 1}),[not](C_{1}), [not](C_{2}), ..., [not](C_{i})), A: {(A_{1}, A_{2}, ..., A_{i - 1},A_{i}, A_{i + 1}, ..., A_{j}, A_{m}), (A_{1}, A_{2}, ..., A_{m}), (A_{1}, A_{2}, ..., A_{j}, A_{m})}}:\n",
      "Partial masking not allowed. A_{i}, A_{i + 1}, ..., A_{j} is not in {(A_{1}, A_{2}, ..., A_{i - 1},A_{i}, A_{i + 1}, ..., A_{j}, A_{m}), (A_{1}, A_{2}, ..., A_{m}), (A_{1}, A_{2}, ..., A_{j}, A_{m})} \n"
     ]
    }
   ],
   "source": [
    "try:\n",
    "    partially_masked_lambda.apply(*operands.entries, assumptions=assumptions,\n",
    "                                  equiv_alt_expansions={alt_A_form1:operands, alt_A_form2:operands})\n",
    "    assert False, \"Expecting ImproperReplacement error; partial masking no longer supported\"\n",
    "except LambdaApplicationError as e:\n",
    "    print(\"Expected error:\", e)"
   ]
  },
  {
   "cell_type": "code",
   "execution_count": 51,
   "metadata": {},
   "outputs": [
    {
     "name": "stdout",
     "output_type": "stream",
     "text": [
      "Expected error: Failure to apply (A_{1}, A_{2}, ..., A_{m}) -> (A_{1} and  A_{2} and  ... and  A_{j} and [forall_{A_{i}, A_{i + 1}, ..., A_{j}} (A_{i} or  A_{i + 1} or  ... or  A_{j})] and A_{m}) to ([not](B_{1}), [not](B_{2}), ..., [not](B_{i - 1}), [not](C_{1}), [not](C_{2}), ..., [not](C_{i}), A or D) using equivalent alternate expansions of {(A_{1}, A_{2}, ..., A_{i - 1},A_{i}, A_{i + 1}, ..., A_{j}, A_{m}): ([not](B_{1}), [not](B_{2}), ..., [not](B_{i - 1}),[not](C_{1}), [not](C_{2}), ..., [not](C_{i}), A or D), (A_{1}, A_{2}, ..., A_{j}, A_{m}): ([not](B_{1}), [not](B_{2}), ..., [not](B_{i - 1}),[not](C_{1}), [not](C_{2}), ..., [not](C_{i}), A or D)} assuming {m = (j + 1), (m - 1) in Natural, i in NaturalPos, j in NaturalPos, m in NaturalPos, j = ((2 * i) - 1), (j - i + 1) = i, (j + 1) = (i + i)}:\n",
      "Improper replacement: Improper replacement of (A_{i}, A_{i + 1}, ..., A_{j}) -> (A_{i} or  A_{i + 1} or  ... or  A_{j}) via {(A_{1}, A_{2}, ..., A_{m}): ([not](B_{1}), [not](B_{2}), ..., [not](B_{i - 1}),[not](C_{1}), [not](C_{2}), ..., [not](C_{i}), A or D), (A_{1}, A_{2}, ..., A_{i - 1},A_{i}, A_{i + 1}, ..., A_{j}, A_{m}): ([not](B_{1}), [not](B_{2}), ..., [not](B_{i - 1}),[not](C_{1}), [not](C_{2}), ..., [not](C_{i}), A or D), (A_{1}, A_{2}, ..., A_{i - 1}): ([not](B_{1}), [not](B_{2}), ..., [not](B_{i - 1})), (A_{i}, A_{i + 1}, ..., A_{j}): ([not](C_{1}), [not](C_{2}), ..., [not](C_{i})), A_{m}: A or D, (A_{1}, A_{2}, ..., A_{j}, A_{m}): ([not](B_{1}), [not](B_{2}), ..., [not](B_{i - 1}),[not](C_{1}), [not](C_{2}), ..., [not](C_{i}), A or D), (A_{1}, A_{2}, ..., A_{j}): ([not](B_{1}), [not](B_{2}), ..., [not](B_{i - 1}),[not](C_{1}), [not](C_{2}), ..., [not](C_{i})), A: {(A_{1}, A_{2}, ..., A_{i - 1},A_{i}, A_{i + 1}, ..., A_{j}, A_{m}), (A_{1}, A_{2}, ..., A_{m}), (A_{1}, A_{2}, ..., A_{j}, A_{m})}}:\n",
      "Partial masking not allowed. A_{i}, A_{i + 1}, ..., A_{j} is not in {(A_{1}, A_{2}, ..., A_{i - 1},A_{i}, A_{i + 1}, ..., A_{j}, A_{m}), (A_{1}, A_{2}, ..., A_{m}), (A_{1}, A_{2}, ..., A_{j}, A_{m})} \n"
     ]
    }
   ],
   "source": [
    "try:\n",
    "    partially_masked_lambda.apply(*operands.entries, assumptions=assumptions,\n",
    "                                  equiv_alt_expansions={alt_A_form1:operands, alt_A_form2:operands},\n",
    "                                 allow_relabeling=True)\n",
    "    assert False, \"Expecting ImproperReplacement error; partial masking no longer supported\"\n",
    "except LambdaApplicationError as e:\n",
    "    print(\"Expected error:\", e)"
   ]
  },
  {
   "cell_type": "markdown",
   "metadata": {},
   "source": [
    "We will discuss these features and its limitations in more detail in a later chapter (ExprRange/IndexedVar expansions in ExprTuples).  Here we demonstrated some of the versatility of using `equiv_alt_expansions`."
   ]
  },
  {
   "cell_type": "code",
   "execution_count": 52,
   "metadata": {},
   "outputs": [],
   "source": [
    "%end lambda_indeterminate_params"
   ]
  },
  {
   "cell_type": "markdown",
   "metadata": {},
   "source": [
    "# Next chapter: <a href=\"tutorial04_relabeling.ipynb\">ToDo</a>\n",
    "\n",
    "## <a href=\"tutorial00_introduction.ipynb#contents\">Table of Contents</a>"
   ]
  }
 ],
 "metadata": {
  "kernelspec": {
   "display_name": "Python 3",
   "language": "python",
   "name": "python3"
  },
  "language_info": {
   "codemirror_mode": {
    "name": "ipython",
    "version": 3
   },
   "file_extension": ".py",
   "mimetype": "text/x-python",
   "name": "python",
   "nbconvert_exporter": "python",
   "pygments_lexer": "ipython3",
   "version": "3.7.3"
  }
 },
 "nbformat": 4,
 "nbformat_minor": 1
}
