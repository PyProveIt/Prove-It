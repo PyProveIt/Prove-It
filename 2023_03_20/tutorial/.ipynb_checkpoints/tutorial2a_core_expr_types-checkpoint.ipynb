{
 "cells": [
  {
   "cell_type": "markdown",
   "metadata": {},
   "source": [
    "Chapter 2.a. Core Expression Types\n",
    "=======\n",
    "\n",
    "Expressions in **Prove-It** are fundamental and versatile.  In order to prove some statement to be true, you must be able to express the statement that you want to prove, and express each axiom and each theorem that is used to construct the proof as well as intermediate judgments along the way.  \n",
    "**Expressions** form the basis for **judgments** that are used in the derivation steps of a **proof** and will be discussed later.\n",
    "An expression is a tree-like data structure (technically a directed acyclic graph, DAG, since there may be multiple instances of the same sub-expression).  As a Python object, its base class is `proveit._core_.expression.expr.Expression` (also aliased as `proveit.Expression` via \"`from ... import ...`\" Python statements within `__init__.py` files):"
   ]
  },
  {
   "cell_type": "code",
   "execution_count": 1,
   "metadata": {},
   "outputs": [
    {
     "data": {
      "text/plain": [
       "proveit._core_.expression.expr.Expression"
      ]
     },
     "execution_count": 1,
     "metadata": {},
     "output_type": "execute_result"
    }
   ],
   "source": [
    "from proveit import Expression\n",
    "%begin basic_expressions\n",
    "Expression"
   ]
  },
  {
   "cell_type": "markdown",
   "metadata": {},
   "source": [
    "Each `Expression` object has a class that is derived one of the \"primitive\" `Expression` classes listed below (each of which is derived from `proveit._core_.expression.expr.Expression`).  These \"primitive\" types of expressions, in the order that we discuss them below, are:\n",
    "* <a href=\"#Variable\">`Variable`</a>: A label that is interchangeable (as long as it is kept distinct from different labels) with no intrinsic meaning.  It is often represented by a single letter ($a$, $b$, $x$, $y$, etc.) but can have any representation.\n",
    "* <a href=\"#Literal\">`Literal`</a>: A label that is not interchangeable and has an intrinsic meaning.  Specific operators ($\\lnot, \\land, +, \\times$, etc.) and specific irreducible values ($\\top, \\bot, 0, 5$, etc.) are all `Literal`s.  Furthermore, a problem-story `Variable` in a particular theory package, representing some unknown but particular value, should also be a `Literal` (e.g., \"Ann has $a$ apples...\").\n",
    "* <a href=\"#ExprTuple\">`ExprTuple`</a>: A list of `Expression`s that is used, for example, when there are multiple *operators* or *operands* of an `Operation`, or multiple *parameters* of a `Lambda`.\n",
    "* <a href=\"#Operation\">`Operation`</a>: The application of *operator(s)* on *operand(s)*.  For example, $0 + 5 + 8$ and $1 < a \\leq b < 3$ are examples of *operation* expressions.  The **Prove-It** library defines many *types* derived from the *operation* type (e.g., for each specific operation), but all *operations* have the same behavior with respect to reduction rules that will be described in a later tutorial.\n",
    "* <a href=\"#Conditional\">`Conditional`</a>: An expression that has one *condition* and one *value*.  The **Conditional** is reducible to its *value* if and only if the *value* is true.  For example $\\{P(x) \\textrm{ if } Q(x).$ reduces to $P(x)$ if $Q(x)$ is true.  Otherwise, the **Conditional** is not defined (i.e., it is not reducible).\n",
    "* <a href=\"#Lambda\">`Lambda`</a>: A mapping defined by *parameter* `Variable`s (and/or *iterations* of *indexed variables* described below with the `Iter` and `IndexedVar` core classes) transforming to some *body* `Expression`.  For example, $(x, y, z) \\mapsto \\{x+y/z~|~(x \\in \\mathbb{R}) \\land (y \\in \\mathbb{R}) \\land (z \\in \\mathbb{R}) \\land (z \\neq 0)\\}$ is a `Lambda` with a `Conditional` *body* that converts three real numbers $x, y, z$ to $x + y/z$ as long as $z$ is not zero.  Note that a `Lambda` introduces `Variables` into a new scope via the *parameters*.  These *parameter* `Variable`s are said to be *bound* in this new scope; occurrences outside this scope are not deemed to be the same thing. There is a special category of `Operation` types called `OperationOverInstances` that are essentially functionals acting on a `Lambda` operand.  $\\forall$, $\\exists$, $\\sum$, and $\\prod$ are examples of `OperationOverInstances`.  For example, $\\forall_{x~|~Q(x)} P(x)$ is an expression that translates to \"$P(x)$ is true for all values of $x$ for which $Q(x)$ is also true\".  Internally, this is represented as an $\\forall$ operator acting on the `Lambda` map with a `Conditional` *body*: $x \\mapsto \\{P(x)~|~Q(x)\\}$.\n",
    "* <a href=\"#NamedExprs\">`NamedExprs`</a>: A mapping from keyword strings to `Expression`s.  This can be used to prevent ambiguity of an expression's internal representation.\n",
    "* <a href=\"#ExprRange\">`ExprRange`</a>: Represents a range of expressions with a *parameter* going from a *start* index to an *end* index in successive unit increments ($+1$).  It contains a `Lambda` to define each expression in the range as a function of the *parameter* value (the index).\n",
    "For example, $1/(x+i) + ... + 1/(x+j)$ is essentially an `Operation` with `+` as the *operator* and an `ExprRange` as the *operand*.  This `ExprRange` in this case is $1/(x+i), ..., 1/(x+j)$.  The sub-expression of this `ExprRange` may be denoted as $k \\mapsto \\{1/(x+k)~|~k \\in i .. j\\}$ where $k$ is an arbitrary `Lambda` *parameter* and $i .. j$ denotes an integer interval. \n",
    "* <a href=\"#IndexedVar\">`IndexedVar`</a>: A special kind of `Operation` that indexes a `Variable`.  It treats the `Variable` being indexed as the *operator* and the *index* as the *operand*.  For example: $a_1$, $x_i$, $x_{i+1}$, etc.  An *iteration* if *indexed* *variables* acts as a collection of labels, however.  For example: $a_1, ..., a_n$ is a collection of $n$ labels and can be used as *parameters* of a `Lambda` map and has special substitution rules in which an `Iter` may be expanded to multiple entries within an `ExprTuple`.\n",
    "\n",
    "These \"primitive\" types are special for the following reason.  In order to automatically or manually verify the correctness of a proof in **Prove-It**, one is only required to know the primitive base class of the expressions in the expression DAGs involved in the proof.  The way that the expression is to be formatted may be defined by the derived class, but this is a dressing which is not actually verified by **Prove-It** in any way.  For this reason, in order to really understand the axioms that were used in a proof, or understand what was actually proven, one must view the full expression DAG and understand its structure with respect to the primitive types."
   ]
  },
  {
   "cell_type": "markdown",
   "metadata": {},
   "source": [
    "Other classes are derived from these primitives for the purpose of defining specific ways of formatting the expression (as a string or as $\\LaTeX$) and to provide methods for convenience and automation for manipulating expressions of that specific type.  The most common \"primitive\" type used as a base class is the `Operation`; there are a wide variety of kinds of operations (logical operations such as $\\land$, $\\lor$, $\\lnot$, etc.; the $\\forall$ and $\\exists$ quantifiers, number operations such as $+$, $-$, etc.).  Each one of these has its own methods that are convenient for applying axioms and theorems specific to the operation."
   ]
  },
  {
   "cell_type": "markdown",
   "metadata": {},
   "source": [
    "A few non-privitive expression casses are define in the core (`proveit._core_`) for organizational purposes.  These are:\n",
    "* <a href=\"#Function\">`Function`</a>: An `Operation` that uses function-style formatting by default.  For example, $f(x)$, $P(x, y)$, etc.  Beyond formatting, these are no different than `Operation` types.\n",
    "* <a href=\"#OperationOverInstances\">`OperationOverInstances`</a>: An `Operation` whose operand is a `Lambda` expression.  Often, these `Lambda` expression has a `Conditional` body.  The idea is that it operates over the domain of instances of the `Lambda` parameter variables for the the *condition* of the `Conditional` is satisfied.  Quantifiers are `OperationOverInstances`.  $\\forall_{x, y~|~Q(x, y)} P(x, y)$ is internally represented by Prove-It as an operation of the $\\forall$ operator acting on $(x, y) \\mapsto \\left\\{P(x, y) \\textrm{ if } Q(x, y)\\right.$.  $\\sum_{k = 1}^{N} f(x)$ is internally represented by Prove-It as an operation of the $\\sum$ operator acting on $k \\mapsto \\left\\{f(x) \\textrm{ if } k \\in 1 .. N\\right.$.\n",
    "* <a href=\"#ConditionalSet\">`ConditionalSet`</a>: An expression that has one or more *conditions* with associated *values*.  For example, consider this definition for the absolute value of an integer: $\\{x~\\textrm{ if }~x \\geq 0; -x~\\textrm{ if }~x < 0.$ A *value* is only pertinent if its associated *condition* is satisfied (a **judgment**).  Via axioms, a `Conditional` equates to one of its *values* if its associated *condition* is proven the be true and all of its other *conditions* are proven to false.  With respect to substitution rules, the substitution of a *value* may utilize the fact that its *condition* must be satisfied in order to be pertinent, and therefore its *condition* may be assumed within the theory of performing substution for the *value*."
   ]
  },
  {
   "cell_type": "markdown",
   "metadata": {},
   "source": [
    "Developers and users may derive new classes from core `Expression` classes (`Literal` and `Operation` classes in order to make their own `Expression` classes that have special formatting rules for displaying the **expression** and methods for manipulating and utilizing the expression (i.e., applying theorems or axioms as will be discussed in later tutorial chapters).  Ideally, the formatting should be in direct correspondence with the structure of the `Expression` as a true reflection of the internal representation, but there is no enforcement mechanism to ensure that this is the case.  Users are advised to inspect the fully explicit expression DAGs of important axioms and theorems (or rely on crowdsource checking).  Conveniently, clicking on any **expression** rendered as LaTeX will link to a notebook that, when executed, will reveal this internal structure.  (Alternatively, the `expr_info()` method may be called).\n",
    "\n",
    "The remainder of this tutorial chapter will show examples and discuss details of the different core `Expression` classes and discuss their distinct behaviors with respect to *substitution* as well as *meaning* versus *style* equivalence.\n",
    "\n",
    "The following are related but distinct manipulations in **Prove-It**:\n",
    "* *Expression substutition*: creating a new **expression** from an existing **expression** by swapping one or more sub-expression(s) for other sub-expression(s) by using the `substituted` method.  This creates a new `Expression` but has nothing to do, intrinsically, with proving statements.\n",
    "* *Instantiation* derivation step: deriving a new **judgment** from an existing **judgment** via *expression substitution* using specific rules and limitations to ensure that the derivation is sound.  This will be discussed in a later tutorial chapter.\n",
    "* *Equality substitution*: using the `substitution` axiom of `proveit.logic.equality` to prove that $f(x) = f(y)$ given $x = y$.  This uses *instantiation* of the `substitution` axiom which states $\\forall_{f, x, y~|~x=y}~(f(x) = f(y))$.  This specifically involves statements (**judgments**) with the `proveit.logic.equality.equals._operator_` **Literal** (the `=` sign). This will be discussed in a later tutorial chapter.\n",
    "\n",
    "The focus here will be *expression substitution* with some mention of the additional restrictions applicable to the *instantiation* derivation step before delving into more details in later chapters.  It is important to understand the distinctions among these types of manipulations."
   ]
  },
  {
   "cell_type": "markdown",
   "metadata": {},
   "source": [
    "<a name=\"#Label\"></a>Labels (Variables, IndexedVars, and Literals)\n",
    "================================"
   ]
  },
  {
   "cell_type": "code",
   "execution_count": 2,
   "metadata": {},
   "outputs": [],
   "source": [
    "from proveit import Label"
   ]
  },
  {
   "cell_type": "markdown",
   "metadata": {},
   "source": [
    "The `Variable` and `Literal` classes both derive from `Label`.  A `Label` is created with a string and a LaTeX format specification to determine how it is displayed.  In a Jupyter notebook, the LaTeX is rendered and presented in the output:"
   ]
  },
  {
   "cell_type": "code",
   "execution_count": 3,
   "metadata": {},
   "outputs": [
    {
     "data": {
      "text/html": [
       "<strong id=\"tri\">tri:</strong> <a class=\"ProveItLink\" href=\"__pv_it/basic_expressions/77ed660a54bc8367bd0290e5a90e45181cdd42300/expr.ipynb\"><img src=\"data:image/png;base64,iVBORw0KGgoAAAANSUhEUgAAABEAAAAPBAMAAADwnzkiAAAAMFBMVEX///8QEBBERER2dnaIiIiY\n",
       "mJju7u4iIiLc3NxmZmaqqqrMzMwyMjJUVFS6uroAAAAvYYvtAAAAAXRSTlMAQObYZgAAAAlwSFlz\n",
       "AAAOxAAADsQBlSsOGwAAAGFJREFUCNdjYGBg4LvAAAU8p2GslT0wVhnvAwiD1YHtAITFzsBgCmEB\n",
       "qXQwg62AgYHFAcTiXAAkCkAssBHBIOIeWFcCAwOHAojFNYGBgWkDWN8JBoa9EKPeMjBcLAeD+gQA\n",
       "Nu4SiD+3xFAAAAAASUVORK5CYII=\n",
       "\" style=\"display:inline;vertical-align:middle;\" /></a><br>"
      ],
      "text/plain": [
       "<IPython.core.display.HTML object>"
      ]
     },
     "metadata": {},
     "output_type": "display_data"
    }
   ],
   "source": [
    "tri = Label(string_format='triangle', latex_format=r'\\triangle')"
   ]
  },
  {
   "cell_type": "markdown",
   "metadata": {},
   "source": [
    "After importing anything from `proveit` in a Jupyter notebook, whenever assignments are made at the end of an input cell the output shows the name of the assigned Python variable (not to be confused with a **Prove-It** *Variable*) followed by ':' and its rendered value.  In the above input, we have assigned `tri` to a `Label` object we have created which renders as a triangle shape.  For convenience, this Python variable name and shape appear in the output without any additional code.  The string format is presented when the object is converted to a string and is a useful alternate representation (used, for example, in error messages that are displayed as strings)."
   ]
  },
  {
   "cell_type": "code",
   "execution_count": 4,
   "metadata": {},
   "outputs": [
    {
     "data": {
      "text/plain": [
       "'triangle'"
      ]
     },
     "metadata": {},
     "output_type": "display_data"
    }
   ],
   "source": [
    "str(tri)"
   ]
  },
  {
   "cell_type": "markdown",
   "metadata": {},
   "source": [
    "The breakdown of an **expression** into its DAG structure is displayed by calling `expr_info()`.  Clicking on the **expression** is also a way to view this information, linking to a page that shows a canonical way to build the **expression** and calling `expr_info()` on that built **expression**.  Here we see that the `tri` is a `Label` with no sub-expressions."
   ]
  },
  {
   "cell_type": "code",
   "execution_count": 5,
   "metadata": {},
   "outputs": [
    {
     "data": {
      "text/html": [
       "<table><tr><th>&nbsp;</th><th>core type</th><th>sub-expressions</th><th>expression</th></tr>\n",
       "<tr><td>0</td><td>Label</td><td></td><td><a class=\"ProveItLink\" href=\"__pv_it/basic_expressions/77ed660a54bc8367bd0290e5a90e45181cdd42300/expr.ipynb\"><img src=\"data:image/png;base64,iVBORw0KGgoAAAANSUhEUgAAABEAAAAPBAMAAADwnzkiAAAAMFBMVEX///8QEBBERER2dnaIiIiY\n",
       "mJju7u4iIiLc3NxmZmaqqqrMzMwyMjJUVFS6uroAAAAvYYvtAAAAAXRSTlMAQObYZgAAAAlwSFlz\n",
       "AAAOxAAADsQBlSsOGwAAAGFJREFUCNdjYGBg4LvAAAU8p2GslT0wVhnvAwiD1YHtAITFzsBgCmEB\n",
       "qXQwg62AgYHFAcTiXAAkCkAssBHBIOIeWFcCAwOHAojFNYGBgWkDWN8JBoa9EKPeMjBcLAeD+gQA\n",
       "Nu4SiD+3xFAAAAAASUVORK5CYII=\n",
       "\" style=\"display:inline;vertical-align:middle;\" /></a></td></tr>\n",
       "</table>\n"
      ],
      "text/plain": [
       "0. triangle\n",
       "   core type: Label\n",
       "   sub-expressions: "
      ]
     },
     "metadata": {},
     "output_type": "display_data"
    }
   ],
   "source": [
    "tri.expr_info() # the expressions and sub-expressions are numbered with the top level being zero."
   ]
  },
  {
   "cell_type": "markdown",
   "metadata": {},
   "source": [
    "`Label` was not one of the core **expression** types listed above because it is not intended to be used except as the base class of `Variable`, `IndexedVar`, and `Literal`.  Notwithstanding, `Label` is displayed as the core type.\n",
    "Two Label's are regarded to be the same expression if and only if the class and both formats (string and LaTeX), are the same:"
   ]
  },
  {
   "cell_type": "code",
   "execution_count": 6,
   "metadata": {},
   "outputs": [],
   "source": [
    "assert tri == Label('triangle', r'\\triangle') # equal b/c class (Label) is the same and\n",
    "                                              # the string and LaTex formats are the same\n",
    "    \n",
    "assert tri != Label('tri', r'\\triangle')      # not equal when class or either format is different\n",
    "                                              # Class for both is Label, but string format different"
   ]
  },
  {
   "cell_type": "markdown",
   "metadata": {},
   "source": [
    "Let's make another label to test out `substituted()` method."
   ]
  },
  {
   "cell_type": "code",
   "execution_count": 7,
   "metadata": {},
   "outputs": [
    {
     "data": {
      "text/html": [
       "<strong id=\"sq\">sq:</strong> <a class=\"ProveItLink\" href=\"__pv_it/basic_expressions/120e8ba2e79768620cddc5f36c8ac068d4af9c3a0/expr.ipynb\"><img src=\"data:image/png;base64,iVBORw0KGgoAAAANSUhEUgAAAA4AAAAOAgMAAABiJsVCAAAADFBMVEX///8iIiIyMjIAAAB/i5ic\n",
       "AAAAAXRSTlMAQObYZgAAAAlwSFlzAAAOxAAADsQBlSsOGwAAABZJREFUCNdjmBoaGsDgwMAgQC4B\n",
       "MgAA9M8G39geguYAAAAASUVORK5CYII=\n",
       "\" style=\"display:inline;vertical-align:middle;\" /></a><br>"
      ],
      "text/plain": [
       "<IPython.core.display.HTML object>"
      ]
     },
     "metadata": {},
     "output_type": "display_data"
    }
   ],
   "source": [
    "sq =  Label(string_format='square', latex_format=r'\\Box')"
   ]
  },
  {
   "cell_type": "markdown",
   "metadata": {},
   "source": [
    "Using *expression substitution*, we can change one `Label` into another or into any other `Expression`.  Later we'll see that *instantiation* is more restrictive, only being applicable to `Variable`s and not any `Label`, but for *expression substitution* this is fine."
   ]
  },
  {
   "cell_type": "code",
   "execution_count": 8,
   "metadata": {},
   "outputs": [
    {
     "data": {
      "text/html": [
       "<a class=\"ProveItLink\" href=\"__pv_it/basic_expressions/120e8ba2e79768620cddc5f36c8ac068d4af9c3a0/expr.ipynb\"><img src=\"data:image/png;base64,iVBORw0KGgoAAAANSUhEUgAAAA4AAAAOAgMAAABiJsVCAAAADFBMVEX///8iIiIyMjIAAAB/i5ic\n",
       "AAAAAXRSTlMAQObYZgAAAAlwSFlzAAAOxAAADsQBlSsOGwAAABZJREFUCNdjmBoaGsDgwMAgQC4B\n",
       "MgAA9M8G39geguYAAAAASUVORK5CYII=\n",
       "\" style=\"display:inline;vertical-align:middle;\" /></a>"
      ],
      "text/plain": [
       "square"
      ]
     },
     "metadata": {},
     "output_type": "display_data"
    }
   ],
   "source": [
    "tri.basic_replaced({tri:sq})"
   ]
  },
  {
   "cell_type": "markdown",
   "metadata": {},
   "source": [
    "Notice that the `basic_replaced()` method is non-mutating, leaving the tri `Label` as it was originally defined:"
   ]
  },
  {
   "cell_type": "code",
   "execution_count": 9,
   "metadata": {},
   "outputs": [
    {
     "data": {
      "text/html": [
       "<a class=\"ProveItLink\" href=\"__pv_it/basic_expressions/77ed660a54bc8367bd0290e5a90e45181cdd42300/expr.ipynb\"><img src=\"data:image/png;base64,iVBORw0KGgoAAAANSUhEUgAAABEAAAAPBAMAAADwnzkiAAAAMFBMVEX///8QEBBERER2dnaIiIiY\n",
       "mJju7u4iIiLc3NxmZmaqqqrMzMwyMjJUVFS6uroAAAAvYYvtAAAAAXRSTlMAQObYZgAAAAlwSFlz\n",
       "AAAOxAAADsQBlSsOGwAAAGFJREFUCNdjYGBg4LvAAAU8p2GslT0wVhnvAwiD1YHtAITFzsBgCmEB\n",
       "qXQwg62AgYHFAcTiXAAkCkAssBHBIOIeWFcCAwOHAojFNYGBgWkDWN8JBoa9EKPeMjBcLAeD+gQA\n",
       "Nu4SiD+3xFAAAAAASUVORK5CYII=\n",
       "\" style=\"display:inline;vertical-align:middle;\" /></a>"
      ],
      "text/plain": [
       "triangle"
      ]
     },
     "metadata": {},
     "output_type": "display_data"
    }
   ],
   "source": [
    "tri"
   ]
  },
  {
   "cell_type": "markdown",
   "metadata": {},
   "source": [
    "<a href=\"#Variable\"></a>Variable\n",
    "===========\n",
    "A `Variable` is an interchangeable <a href=\"#Label\">Label</a> with no formal, contextual meaning."
   ]
  },
  {
   "cell_type": "code",
   "execution_count": 10,
   "metadata": {},
   "outputs": [
    {
     "data": {
      "text/html": [
       "<strong id=\"x\">x:</strong> <a class=\"ProveItLink\" href=\"__pv_it/basic_expressions/a0d9d672aa5e272d907247690c152cc2c6daafb70/expr.ipynb\"><img src=\"data:image/png;base64,iVBORw0KGgoAAAANSUhEUgAAAAsAAAAJBAMAAAAWSsseAAAAMFBMVEX///9ERES6uroQEBAyMjLc\n",
       "3NyYmJgiIiJmZmaqqqp2dnbMzMxUVFSIiIju7u4AAAAd7oVFAAAAAXRSTlMAQObYZgAAAAlwSFlz\n",
       "AAAOxAAADsQBlSsOGwAAAENJREFUCNdjYHh75/WqCQwMDbxnOQoY2ALY/vEkMHAzcDgwgADzBTCl\n",
       "H8D3gOGhwmEGLgaG+fuaGTQZGF7c5WybwAAAJTwQ1a2DuB8AAAAASUVORK5CYII=\n",
       "\" style=\"display:inline;vertical-align:middle;\" /></a><br>"
      ],
      "text/plain": [
       "<IPython.core.display.HTML object>"
      ]
     },
     "metadata": {},
     "output_type": "display_data"
    }
   ],
   "source": [
    "from proveit import Variable\n",
    "x = Variable('x')  # the string and latex formats\n",
    "                   # are the same by default"
   ]
  },
  {
   "cell_type": "code",
   "execution_count": 11,
   "metadata": {},
   "outputs": [
    {
     "data": {
      "text/html": [
       "<strong id=\"omega\">omega:</strong> <a class=\"ProveItLink\" href=\"__pv_it/basic_expressions/2e5b33f8f44527195a10b6078888697e89a14e8e0/expr.ipynb\"><img src=\"data:image/png;base64,iVBORw0KGgoAAAANSUhEUgAAAA0AAAAJBAMAAAAbVLtZAAAAMFBMVEX///8QEBAyMjJUVFRERETu\n",
       "7u66urqYmJh2dnaIiIiqqqrMzMwiIiLc3NxmZmYAAADdGNx0AAAAAXRSTlMAQObYZgAAAAlwSFlz\n",
       "AAAOxAAADsQBlSsOGwAAAE9JREFUCNdjYHjAwMBwZwMD1wIgfX8CAx+QYuAoYEhjYHVgYL/A0MDA\n",
       "ZsDAwcBgwMC5gOEGA4M3w/4HrLoMDI3N0l8eFjAwhHy6UCjJwAAAJ3sRHWMNI4wAAAAASUVORK5C\n",
       "YII=\n",
       "\" style=\"display:inline;vertical-align:middle;\" /></a><br>"
      ],
      "text/plain": [
       "<IPython.core.display.HTML object>"
      ]
     },
     "metadata": {},
     "output_type": "display_data"
    }
   ],
   "source": [
    "# different string and latex formats:\n",
    "omega = Variable(string_format='omega', latex_format=r'\\omega') "
   ]
  },
  {
   "cell_type": "markdown",
   "metadata": {},
   "source": [
    "Convenient `Variable`s and other `Expression`s are accessible from the main `proveit` theory package\n",
    "as defined in <a class=\"ProveItLink\" href=\"../packages/proveit/_theory_nbs_/common.ipynb\">proveit.\\_theory\\_nbs\\_/common.ipynb</a>."
   ]
  },
  {
   "cell_type": "code",
   "execution_count": 12,
   "metadata": {},
   "outputs": [],
   "source": [
    "from proveit import a, b, c, x, y, z, alpha"
   ]
  },
  {
   "cell_type": "code",
   "execution_count": 13,
   "metadata": {},
   "outputs": [
    {
     "data": {
      "text/html": [
       "<a class=\"ProveItLink\" href=\"__pv_it/basic_expressions/a053e89019370ec7ba1eaa6eac2321cd623c5e100/expr.ipynb\"><img src=\"data:image/png;base64,iVBORw0KGgoAAAANSUhEUgAAAI8AAAAVBAMAAACNsKCFAAAAMFBMVEX////MzMxUVFRERES6uroi\n",
       "IiIQEBCYmJhmZmYyMjLu7u52dnaqqqqIiIjc3NwAAACW8nlqAAAAAXRSTlMAQObYZgAAAAlwSFlz\n",
       "AAAOxAAADsQBlSsOGwAAAkBJREFUOMullE1oE0EUx//J5mO7u9nsxZMeAj0UrUIQEaFUcvIm6aUg\n",
       "0sNCBS9G1pMerC1+IEEkQQTB01IvtiDZFlqxtZiT+HVYPYmSEoQiCIX2VFpQfDNvt7tpb5scMr/9\n",
       "z/uYefNmAHTR90+GKLT7D3RR/H2OCdrZsUSBCg75NuPKwEyyJT0HVCcuFBPu8xaQ6xGqbrJAORcf\n",
       "e4SlhNUecPCIBnN43WfhSedkMKV3bnD9OyeOvmX67mCWJ1Pj1u/AbnXREtYlPKPhQlfZY9tdt8Vt\n",
       "ZU7gngQV3/wHHNqwMc3ecz9HSkwbFe262Ua+iQlyvwqVj93YQ47XlvVQk3AH0+6QpGNkNMjuf6AH\n",
       "xSSjcwUXlOMKJd0SfjJ9E0WmRlh1C/WAXMpRCxtuhUdyRV2nvW6JQLkyWpVwHVVugMmokLXoSFPb\n",
       "AW6Gp1UGliloxhZba/nh3qmNeCna3/04mX+YZ6qjYAeaA14xueIdpTbGMEpfbRw3upoIZFG9BGCH\n",
       "rIWxdiZtw2PtNJQS0xeAqUiBlmnMl7EIKL5xSUWL7kraUWYkiCNb0HYp1fZLO9Nm7S6qjqTUyOiS\n",
       "JUktI99I0ejhCGU9tfDrK7KXiYYfQgL011Muxl1oj/0PtwNtdq3RlaTj/dNAW735Q10jriBrhcX4\n",
       "dAiM6MKw9iY+GyNs0O7277t3CPTIkjS9qV2Lz8YItBGcD1vDPwh4FT1UpGX9tBefjQgmdQFehI8T\n",
       "DgIiS6EZU/d7ZiOCIu6V6ff/1K4D/wERSJZOqtIp6QAAAABJRU5ErkJggg==\n",
       "\" style=\"display:inline;vertical-align:middle;\" /></a>"
      ],
      "text/plain": [
       "(a, b, c, x, y, z, alpha)"
      ]
     },
     "metadata": {},
     "output_type": "display_data"
    }
   ],
   "source": [
    "from proveit import ExprTuple\n",
    "ExprTuple(a, b, c, x, y, z, alpha)"
   ]
  },
  {
   "cell_type": "markdown",
   "metadata": {},
   "source": [
    "We used an <a href=\"#ExprTuple\">ExprTuple</a> to conveniently render all of those `Variable`s as a single `Expression`.\n",
    "\n",
    "Expression information for a `Variable` is similar to that for a `Label`, but with the different core type and class:"
   ]
  },
  {
   "cell_type": "code",
   "execution_count": 14,
   "metadata": {},
   "outputs": [
    {
     "data": {
      "text/html": [
       "<table><tr><th>&nbsp;</th><th>core type</th><th>sub-expressions</th><th>expression</th></tr>\n",
       "<tr><td>0</td><td>Variable</td><td></td><td><a class=\"ProveItLink\" href=\"../packages/proveit/__pv_it/common/9705ebf23debd1198c43ec3d0c30ebe152d069440/expr.ipynb\"><img src=\"data:image/png;base64,iVBORw0KGgoAAAANSUhEUgAAAA0AAAAJBAMAAAAbVLtZAAAAMFBMVEX///+YmJgyMjJmZmZERESI\n",
       "iIiqqqoQEBDu7u66uroiIiLc3NzMzMxUVFR2dnYAAAB9mGmPAAAAAXRSTlMAQObYZgAAAAlwSFlz\n",
       "AAAOxAAADsQBlSsOGwAAAEtJREFUCNdjYGB49/YAAxDsmsBRzZ3AwFDKwODM2sDA/IGBwYiPgYHd\n",
       "gYHh+QsGhv4ABob3QGl+IP0cqJzZgYHRngfIeCcYwfyUAQBdDw+cO9p22wAAAABJRU5ErkJggg==\n",
       "\" style=\"display:inline;vertical-align:middle;\" /></a></td></tr>\n",
       "</table>\n"
      ],
      "text/plain": [
       "0. alpha\n",
       "   core type: Variable\n",
       "   sub-expressions: "
      ]
     },
     "metadata": {},
     "output_type": "display_data"
    }
   ],
   "source": [
    "alpha.expr_info()"
   ]
  },
  {
   "cell_type": "markdown",
   "metadata": {},
   "source": [
    "Just as we saw for the generic `Label` `Expression`s, we can use *expression substitution* to exchange one `Variable` for another or for any other `Expression`.  Furthermore, we will see in a later tutorial chapter that `Variable`s have special properties with respect to *instantiation* because they are defined as interchangeable labels."
   ]
  },
  {
   "cell_type": "code",
   "execution_count": 15,
   "metadata": {},
   "outputs": [
    {
     "data": {
      "text/html": [
       "<a class=\"ProveItLink\" href=\"__pv_it/basic_expressions/120e8ba2e79768620cddc5f36c8ac068d4af9c3a0/expr.ipynb\"><img src=\"data:image/png;base64,iVBORw0KGgoAAAANSUhEUgAAAA4AAAAOAgMAAABiJsVCAAAADFBMVEX///8iIiIyMjIAAAB/i5ic\n",
       "AAAAAXRSTlMAQObYZgAAAAlwSFlzAAAOxAAADsQBlSsOGwAAABZJREFUCNdjmBoaGsDgwMAgQC4B\n",
       "MgAA9M8G39geguYAAAAASUVORK5CYII=\n",
       "\" style=\"display:inline;vertical-align:middle;\" /></a>"
      ],
      "text/plain": [
       "square"
      ]
     },
     "metadata": {},
     "output_type": "display_data"
    }
   ],
   "source": [
    "alpha.basic_replaced({alpha:sq}) # we can substitute a Variable for any other Expression"
   ]
  },
  {
   "cell_type": "markdown",
   "metadata": {},
   "source": [
    "<a name=\"#Literal\"></a>Literal\n",
    "-------\n",
    "\n",
    "A `Literal` is another kind of <a href=\"#Label\">Label</a>.  In contrast to `Variable`s, `Literal`s have a formal, contextual meaning."
   ]
  },
  {
   "cell_type": "code",
   "execution_count": 16,
   "metadata": {},
   "outputs": [],
   "source": [
    "from proveit import Literal"
   ]
  },
  {
   "cell_type": "markdown",
   "metadata": {},
   "source": [
    "Below are different scenarios in which a `Literal` could appropriately be used."
   ]
  },
  {
   "cell_type": "markdown",
   "metadata": {},
   "source": [
    "### Specific operators"
   ]
  },
  {
   "cell_type": "code",
   "execution_count": 17,
   "metadata": {},
   "outputs": [
    {
     "data": {
      "text/html": [
       "<strong id=\"TIMES\">TIMES:</strong> <a class=\"ProveItLink\" href=\"__pv_it/basic_expressions/24e3bd884eb4491d941ad30be1fd76fc379da19e0/expr.ipynb\"><img src=\"data:image/png;base64,iVBORw0KGgoAAAANSUhEUgAAAAsAAAAKBAMAAACQ3rmwAAAAGFBMVEX///8yMjLMzMwiIiJERETc\n",
       "3NxUVFQAAAB2r991AAAAAXRSTlMAQObYZgAAAAlwSFlzAAAOxAAADsQBlSsOGwAAAC5JREFUCNdj\n",
       "SGVgYAhhYAhWYGA1YgBhIAvIVQVygFxjBSQKIghVAtWQBBQJZAAA2bMGGZgz/L4AAAAASUVORK5C\n",
       "YII=\n",
       "\" style=\"display:inline;vertical-align:middle;\" /></a><br>"
      ],
      "text/plain": [
       "<IPython.core.display.HTML object>"
      ]
     },
     "metadata": {},
     "output_type": "display_data"
    }
   ],
   "source": [
    "TIMES = Literal(string_format='*', latex_format=r'\\times')"
   ]
  },
  {
   "cell_type": "code",
   "execution_count": 18,
   "metadata": {},
   "outputs": [
    {
     "data": {
      "text/html": [
       "<strong id=\"FACTORIAL\">FACTORIAL:</strong> <a class=\"ProveItLink\" href=\"__pv_it/basic_expressions/fd03761321b547da82c74b2ed8e2f909ca4de7640/expr.ipynb\"><img src=\"data:image/png;base64,iVBORw0KGgoAAAANSUhEUgAAAAMAAAAPBAMAAADTxGj3AAAAJ1BMVEX///+6urqqqqqYmJh2dnZm\n",
       "ZmYyMjLu7u4QEBDc3NxUVFQiIiIAAABmOgpVAAAAAXRSTlMAQObYZgAAAAlwSFlzAAAOxAAADsQB\n",
       "lSsOGwAAADBJREFUCNdj4F7AMKeBoWYDA08CA8cCBu4ABjYHBi4DBlYFBhYBBqYJDBBQkwCUAgC+\n",
       "MAbl3fBGuQAAAABJRU5ErkJggg==\n",
       "\" style=\"display:inline;vertical-align:middle;\" /></a><br>"
      ],
      "text/plain": [
       "<IPython.core.display.HTML object>"
      ]
     },
     "metadata": {},
     "output_type": "display_data"
    }
   ],
   "source": [
    "FACTORIAL = Literal('!')"
   ]
  },
  {
   "cell_type": "code",
   "execution_count": 19,
   "metadata": {},
   "outputs": [
    {
     "data": {
      "text/html": [
       "<strong id=\"SUMMATION\">SUMMATION:</strong> <a class=\"ProveItLink\" href=\"__pv_it/basic_expressions/cbc3f4b4ff3b8235133a8696b42726ca291935d60/expr.ipynb\"><img src=\"data:image/png;base64,iVBORw0KGgoAAAANSUhEUgAAABwAAAAdBAMAAABLfxECAAAAMFBMVEX///92dnZERERmZmaYmJgi\n",
       "IiIQEBBUVFS6urrc3Nzu7u7MzMyqqqqIiIgyMjIAAAAO+LikAAAAAXRSTlMAQObYZgAAAAlwSFlz\n",
       "AAAOxAAADsQBlSsOGwAAALNJREFUGNNjeP8fAf4yMJz/v4EBBLhmXM//xsDA/j+AAQpY4g8wMMR/\n",
       "h3EZmBUYGPb/d4DzLRkYeP//hHNZgFj/KwMyWPbfAJnL8f8PirT8twXIXL7/D5C5XPkfUVTDHApz\n",
       "zf8sFOn4vyjc+QEo3GsTUBzyG0Vy/wEUe3NRJPlQvMCghMJjjoIzeYDYDWGLD4otPAlAF8Ft4bI3\n",
       "QLJlTj3QY3z/3oFBaP7//8AwtEeKoy8MAN4vTf7DxyIRAAAAAElFTkSuQmCC\n",
       "\" style=\"display:inline;vertical-align:middle;\" /></a><br>"
      ],
      "text/plain": [
       "<IPython.core.display.HTML object>"
      ]
     },
     "metadata": {},
     "output_type": "display_data"
    }
   ],
   "source": [
    "SUMMATION = Literal('sum', r'\\sum')"
   ]
  },
  {
   "cell_type": "markdown",
   "metadata": {},
   "source": [
    "We will see in the <a href=\"#Operation\">Operation</a> section that the *operator* of an `Operation`-derived class should be stored as a Python class variable called `_operator_`.  We are using module-level Python variable names just for these examples."
   ]
  },
  {
   "cell_type": "markdown",
   "metadata": {},
   "source": [
    "### Constant values"
   ]
  },
  {
   "cell_type": "code",
   "execution_count": 20,
   "metadata": {},
   "outputs": [
    {
     "data": {
      "text/html": [
       "<strong id=\"FIVE\">FIVE:</strong> <a class=\"ProveItLink\" href=\"__pv_it/basic_expressions/53d2dd3f57dfef2aa6ec32670440c9b3957640bf0/expr.ipynb\"><img src=\"data:image/png;base64,iVBORw0KGgoAAAANSUhEUgAAAAkAAAAPBAMAAADE5vg+AAAALVBMVEX///9mZma6urpERESIiIiY\n",
       "mJhUVFR2dnYiIiIyMjIQEBDc3Nzu7u7MzMwAAACf3j6KAAAAAXRSTlMAQObYZgAAAAlwSFlzAAAO\n",
       "xAAADsQBlSsOGwAAAE5JREFUCNdj4GVgOM3AwPVyRg8DA8e69gMMDGwMIIBChpRdYGBgPsD9CMy1\n",
       "AJNyGxgsgeQFhhUMDHkMDAUMDIsZGDYysKxhYOAWTDzAAACiUg9DTWr5DAAAAABJRU5ErkJggg==\n",
       "\" style=\"display:inline;vertical-align:middle;\" /></a><br>"
      ],
      "text/plain": [
       "<IPython.core.display.HTML object>"
      ]
     },
     "metadata": {},
     "output_type": "display_data"
    }
   ],
   "source": [
    "FIVE = Literal('5') # Literal constants are also ALL-CAPS"
   ]
  },
  {
   "cell_type": "code",
   "execution_count": 21,
   "metadata": {},
   "outputs": [
    {
     "data": {
      "text/html": [
       "<strong id=\"TRUE\">TRUE:</strong> <a class=\"ProveItLink\" href=\"__pv_it/basic_expressions/5cc2f0c30293749106c8ff5a2c2fcbeae35267060/expr.ipynb\"><img src=\"data:image/png;base64,iVBORw0KGgoAAAANSUhEUgAAAA4AAAAOBAMAAADtZjDiAAAAG1BMVEX///+YmJi6urqIiIiqqqpU\n",
       "VFQiIiJmZmYAAAD2GhH1AAAAAXRSTlMAQObYZgAAAAlwSFlzAAAOxAAADsQBlSsOGwAAABhJREFU\n",
       "CNdjKEsDgVQGIHBmgABa0YpADADkogYfXGfJdgAAAABJRU5ErkJggg==\n",
       "\" style=\"display:inline;vertical-align:middle;\" /></a><br>"
      ],
      "text/plain": [
       "<IPython.core.display.HTML object>"
      ]
     },
     "metadata": {},
     "output_type": "display_data"
    }
   ],
   "source": [
    "TRUE = Literal('true', r'\\top')"
   ]
  },
  {
   "cell_type": "code",
   "execution_count": 22,
   "metadata": {},
   "outputs": [
    {
     "data": {
      "text/html": [
       "<strong id=\"FALSE\">FALSE:</strong> <a class=\"ProveItLink\" href=\"__pv_it/basic_expressions/c245e0365d01f8e1dd3eb9bf2712d4a4fe9899320/expr.ipynb\"><img src=\"data:image/png;base64,iVBORw0KGgoAAAANSUhEUgAAAA4AAAAPBAMAAAAmOuNHAAAAHlBMVEX///9UVFQQEBAiIiJmZmaI\n",
       "iIiqqqqYmJi6uroAAAAAFVhYAAAAAXRSTlMAQObYZgAAAAlwSFlzAAAOxAAADsQBlSsOGwAAABhJ\n",
       "REFUCNdjYECAdiidSkva2dhYydjYEABIWQamWbU+1AAAAABJRU5ErkJggg==\n",
       "\" style=\"display:inline;vertical-align:middle;\" /></a><br>"
      ],
      "text/plain": [
       "<IPython.core.display.HTML object>"
      ]
     },
     "metadata": {},
     "output_type": "display_data"
    }
   ],
   "source": [
    "FALSE = Literal('false', r'\\bot')"
   ]
  },
  {
   "cell_type": "markdown",
   "metadata": {},
   "source": [
    "Such constants will typically be defined as **common expressions** in the appropriate **theory**, to be discussed in a later tutorial."
   ]
  },
  {
   "cell_type": "markdown",
   "metadata": {},
   "source": [
    "### Contextual \"variables\"\n",
    "\n",
    "This is appropriate when variables are given a specific meaning within the theory of a problem.  For example, consider a math \"story problem\" where Andrea has $a$ apples and Bill has $b$ bananas.  These are variables in a sense, but here they have contextual meaning so they should be `Literal`s.  However, suppose one wants to prove a general theorem for any number of Andrea's apples and Bill's bananas.  One may start by using the $a$ and $b$ `Literal`s for convenience for some contextual \"lemmas\" (as an aside, though, **Prove-It** does not distinguish between lemmas and theorems), but then demote them to `Variable`s in order to make a statement of the form $\\forall_{a, b} P(a, b)$ (`Literal`s may not be quantified over).  This is done by using a process called axiom elimination that will be discussed later.  For now, we just note that \"variables\" with contextual meaning need to be `Literal`s."
   ]
  },
  {
   "cell_type": "code",
   "execution_count": 23,
   "metadata": {},
   "outputs": [
    {
     "data": {
      "text/html": [
       "<strong id=\"a_lit\">a_lit:</strong> <a class=\"ProveItLink\" href=\"__pv_it/basic_expressions/bde8c5664527228837a07cb0ad8fc07f9aabb14c0/expr.ipynb\"><img src=\"data:image/png;base64,iVBORw0KGgoAAAANSUhEUgAAAAsAAAAJBAMAAAAWSsseAAAAMFBMVEX////MzMwyMjKqqqoiIiJm\n",
       "ZmaYmJju7u5EREQQEBC6urqIiIh2dnZUVFTc3NwAAAAqL9KcAAAAAXRSTlMAQObYZgAAAAlwSFlz\n",
       "AAAOxAAADsQBlSsOGwAAAEdJREFUCNdjYOC7s28DAwPDygcc3xkY2KcxsDowMLB+YGA5wMDA2cBQ\n",
       "v4CBoX4DQz5QRb0BwyXmBwwcG5hdWYEqbx98u5EBABisEWzRR9jxAAAAAElFTkSuQmCC\n",
       "\" style=\"display:inline;vertical-align:middle;\" /></a><br>"
      ],
      "text/plain": [
       "<IPython.core.display.HTML object>"
      ]
     },
     "metadata": {},
     "output_type": "display_data"
    }
   ],
   "source": [
    "a_lit = Literal('a')"
   ]
  },
  {
   "cell_type": "code",
   "execution_count": 24,
   "metadata": {},
   "outputs": [
    {
     "data": {
      "text/html": [
       "<strong id=\"b_lit\">b_lit:</strong> <a class=\"ProveItLink\" href=\"__pv_it/basic_expressions/82b996f356f3c72cec288bf2f1c1bf1b6ed212f60/expr.ipynb\"><img src=\"data:image/png;base64,iVBORw0KGgoAAAANSUhEUgAAAAkAAAAOBAMAAAAPuiubAAAAMFBMVEX///+YmJjMzMzc3NyIiIhU\n",
       "VFR2dna6urqqqqpmZmYyMjIiIiIQEBBERETu7u4AAAD7tRWPAAAAAXRSTlMAQObYZgAAAAlwSFlz\n",
       "AAAOxAAADsQBlSsOGwAAAFBJREFUCNdj4LuzgQEIuCaASP4GEFn/AERmgwiGpS4RDAx8vx68N2Dg\n",
       "+MfA48DAuYCBP4GBO4GhvgGkfP4DBn4FvoMMDKwCvEAj+MImMjAAAMxHEV3T4g9SAAAAAElFTkSu\n",
       "QmCC\n",
       "\" style=\"display:inline;vertical-align:middle;\" /></a><br>"
      ],
      "text/plain": [
       "<IPython.core.display.HTML object>"
      ]
     },
     "metadata": {},
     "output_type": "display_data"
    }
   ],
   "source": [
    "b_lit = Literal('b')"
   ]
  },
  {
   "cell_type": "code",
   "execution_count": 25,
   "metadata": {},
   "outputs": [],
   "source": [
    "# different because one is a Variable and one is a Literal\n",
    "assert a != a_lit \n",
    "# same after converting the Literal to a Variable\n",
    "assert a == a_lit.as_variable() "
   ]
  },
  {
   "cell_type": "markdown",
   "metadata": {},
   "source": [
    "### Literal substitution\n",
    "It is possible to perform *expression substitution* on a `Literal`."
   ]
  },
  {
   "cell_type": "code",
   "execution_count": 26,
   "metadata": {},
   "outputs": [
    {
     "data": {
      "text/html": [
       "<a class=\"ProveItLink\" href=\"__pv_it/basic_expressions/82b996f356f3c72cec288bf2f1c1bf1b6ed212f60/expr.ipynb\"><img src=\"data:image/png;base64,iVBORw0KGgoAAAANSUhEUgAAAAkAAAAOBAMAAAAPuiubAAAAMFBMVEX///+YmJjMzMzc3NyIiIhU\n",
       "VFR2dna6urqqqqpmZmYyMjIiIiIQEBBERETu7u4AAAD7tRWPAAAAAXRSTlMAQObYZgAAAAlwSFlz\n",
       "AAAOxAAADsQBlSsOGwAAAFBJREFUCNdj4LuzgQEIuCaASP4GEFn/AERmgwiGpS4RDAx8vx68N2Dg\n",
       "+MfA48DAuYCBP4GBO4GhvgGkfP4DBn4FvoMMDKwCvEAj+MImMjAAAMxHEV3T4g9SAAAAAElFTkSu\n",
       "QmCC\n",
       "\" style=\"display:inline;vertical-align:middle;\" /></a>"
      ],
      "text/plain": [
       "b"
      ]
     },
     "metadata": {},
     "output_type": "display_data"
    }
   ],
   "source": [
    "a_lit.basic_replaced({a_lit:b_lit})"
   ]
  },
  {
   "cell_type": "code",
   "execution_count": 27,
   "metadata": {},
   "outputs": [
    {
     "data": {
      "text/html": [
       "<a class=\"ProveItLink\" href=\"__pv_it/basic_expressions/2e5b33f8f44527195a10b6078888697e89a14e8e0/expr.ipynb\"><img src=\"data:image/png;base64,iVBORw0KGgoAAAANSUhEUgAAAA0AAAAJBAMAAAAbVLtZAAAAMFBMVEX///8QEBAyMjJUVFRERETu\n",
       "7u66urqYmJh2dnaIiIiqqqrMzMwiIiLc3NxmZmYAAADdGNx0AAAAAXRSTlMAQObYZgAAAAlwSFlz\n",
       "AAAOxAAADsQBlSsOGwAAAE9JREFUCNdjYHjAwMBwZwMD1wIgfX8CAx+QYuAoYEhjYHVgYL/A0MDA\n",
       "ZsDAwcBgwMC5gOEGA4M3w/4HrLoMDI3N0l8eFjAwhHy6UCjJwAAAJ3sRHWMNI4wAAAAASUVORK5C\n",
       "YII=\n",
       "\" style=\"display:inline;vertical-align:middle;\" /></a>"
      ],
      "text/plain": [
       "omega"
      ]
     },
     "metadata": {},
     "output_type": "display_data"
    }
   ],
   "source": [
    "a_lit.basic_replaced({a_lit:omega})"
   ]
  },
  {
   "cell_type": "markdown",
   "metadata": {},
   "source": [
    "As noted earlier, the `substituted()` method is non-mutating, leaving the a_lit `Literal` as it was originally defined:"
   ]
  },
  {
   "cell_type": "code",
   "execution_count": 28,
   "metadata": {},
   "outputs": [
    {
     "data": {
      "text/html": [
       "<a class=\"ProveItLink\" href=\"__pv_it/basic_expressions/bde8c5664527228837a07cb0ad8fc07f9aabb14c0/expr.ipynb\"><img src=\"data:image/png;base64,iVBORw0KGgoAAAANSUhEUgAAAAsAAAAJBAMAAAAWSsseAAAAMFBMVEX////MzMwyMjKqqqoiIiJm\n",
       "ZmaYmJju7u5EREQQEBC6urqIiIh2dnZUVFTc3NwAAAAqL9KcAAAAAXRSTlMAQObYZgAAAAlwSFlz\n",
       "AAAOxAAADsQBlSsOGwAAAEdJREFUCNdjYOC7s28DAwPDygcc3xkY2KcxsDowMLB+YGA5wMDA2cBQ\n",
       "v4CBoX4DQz5QRb0BwyXmBwwcG5hdWYEqbx98u5EBABisEWzRR9jxAAAAAElFTkSuQmCC\n",
       "\" style=\"display:inline;vertical-align:middle;\" /></a>"
      ],
      "text/plain": [
       "a"
      ]
     },
     "metadata": {},
     "output_type": "display_data"
    }
   ],
   "source": [
    "a_lit"
   ]
  },
  {
   "cell_type": "markdown",
   "metadata": {},
   "source": [
    "While we are able to replace a `Literal` via *expression substitution*, we may not replace them via *instantiation* because `Literal`s are not interchangeable labels."
   ]
  },
  {
   "cell_type": "markdown",
   "metadata": {},
   "source": [
    "### Literal theories\n",
    "\n",
    "A `Literal` is distinguished not only by its formatting but also by its **theory**.  Axioms and theorems of **Prove-It** are organized via **theories** which we will discuss later in more detail.  Each `Literal` belongs to a **theory** which is typically the one corresponding to the package (directory) in which it is defined.  This is particularly important for *contextual variable* types of `Literal`s that are very *theory*-specific."
   ]
  },
  {
   "cell_type": "code",
   "execution_count": 29,
   "metadata": {},
   "outputs": [],
   "source": [
    "from proveit import logic"
   ]
  },
  {
   "cell_type": "code",
   "execution_count": 30,
   "metadata": {},
   "outputs": [
    {
     "data": {
      "text/html": [
       "<a class=\"ProveItLink\" href=\"../packages/proveit/logic/booleans/__pv_it/common/95025295868b9266d37330b4427adf122f6061770/expr.ipynb\"><img src=\"data:image/png;base64,iVBORw0KGgoAAAANSUhEUgAAAA4AAAAOBAMAAADtZjDiAAAAG1BMVEX///+YmJi6urqIiIiqqqpU\n",
       "VFQiIiJmZmYAAAD2GhH1AAAAAXRSTlMAQObYZgAAAAlwSFlzAAAOxAAADsQBlSsOGwAAABhJREFU\n",
       "CNdjKEsDgVQGIHBmgABa0YpADADkogYfXGfJdgAAAABJRU5ErkJggg==\n",
       "\" style=\"display:inline;vertical-align:middle;\" /></a>"
      ],
      "text/plain": [
       "TRUE"
      ]
     },
     "metadata": {},
     "output_type": "display_data"
    }
   ],
   "source": [
    "logic.TRUE"
   ]
  },
  {
   "cell_type": "markdown",
   "metadata": {},
   "source": [
    "*If the above output is not the $\\top$ symbol when you execute this, you probably need to <a class=\"ProveItLink\" href=\"tutorial00_introduction.ipynb#build\">build or download the Prove-It database</a>.*"
   ]
  },
  {
   "cell_type": "code",
   "execution_count": 31,
   "metadata": {},
   "outputs": [
    {
     "data": {
      "text/plain": [
       "False"
      ]
     },
     "metadata": {},
     "output_type": "display_data"
    }
   ],
   "source": [
    "# When the theory is different, they are not the same.\n",
    "TRUE == logic.TRUE"
   ]
  },
  {
   "cell_type": "markdown",
   "metadata": {},
   "source": [
    "The detailed expression information reveals the differences:"
   ]
  },
  {
   "cell_type": "code",
   "execution_count": 32,
   "metadata": {},
   "outputs": [
    {
     "data": {
      "text/html": [
       "<table><tr><th>&nbsp;</th><th>core type</th><th>sub-expressions</th><th>expression</th></tr>\n",
       "<tr><td>0</td><td>Literal</td><td></td><td><a class=\"ProveItLink\" href=\"__pv_it/basic_expressions/5cc2f0c30293749106c8ff5a2c2fcbeae35267060/expr.ipynb\"><img src=\"data:image/png;base64,iVBORw0KGgoAAAANSUhEUgAAAA4AAAAOBAMAAADtZjDiAAAAG1BMVEX///+YmJi6urqIiIiqqqpU\n",
       "VFQiIiJmZmYAAAD2GhH1AAAAAXRSTlMAQObYZgAAAAlwSFlzAAAOxAAADsQBlSsOGwAAABhJREFU\n",
       "CNdjKEsDgVQGIHBmgABa0YpADADkogYfXGfJdgAAAABJRU5ErkJggg==\n",
       "\" style=\"display:inline;vertical-align:middle;\" /></a></td></tr>\n",
       "<tr><td colspan=4 style=\"text-align:left\"><strong>theory:</strong> tutorial</td></tr>\n",
       "</table>\n"
      ],
      "text/plain": [
       "0. true\n",
       "   core type: Literal\n",
       "   latex_format: \\top\n",
       "   theory: tutorial\n",
       "   class: <class 'proveit._core_.expression.label.literal.Literal'>\n",
       "   sub-expressions: "
      ]
     },
     "metadata": {},
     "output_type": "display_data"
    }
   ],
   "source": [
    "TRUE.expr_info(details=True)"
   ]
  },
  {
   "cell_type": "code",
   "execution_count": 33,
   "metadata": {},
   "outputs": [
    {
     "data": {
      "text/html": [
       "<table><tr><th>&nbsp;</th><th>core type</th><th>sub-expressions</th><th>expression</th></tr>\n",
       "<tr><td>0</td><td>Literal</td><td></td><td><a class=\"ProveItLink\" href=\"../packages/proveit/logic/booleans/__pv_it/common/95025295868b9266d37330b4427adf122f6061770/expr.ipynb\"><img src=\"data:image/png;base64,iVBORw0KGgoAAAANSUhEUgAAAA4AAAAOBAMAAADtZjDiAAAAG1BMVEX///+YmJi6urqIiIiqqqpU\n",
       "VFQiIiJmZmYAAAD2GhH1AAAAAXRSTlMAQObYZgAAAAlwSFlzAAAOxAAADsQBlSsOGwAAABhJREFU\n",
       "CNdjKEsDgVQGIHBmgABa0YpADADkogYfXGfJdgAAAABJRU5ErkJggg==\n",
       "\" style=\"display:inline;vertical-align:middle;\" /></a></td></tr>\n",
       "<tr><td colspan=4 style=\"text-align:left\"><strong>class:</strong> proveit.logic.booleans.booleans.TrueLiteral</td></tr>\n",
       "<tr><td colspan=4 style=\"text-align:left\"><strong>theory:</strong> proveit.logic.booleans</td></tr>\n",
       "</table>\n"
      ],
      "text/plain": [
       "0. TRUE\n",
       "   core type: Literal\n",
       "   latex_format: \\top\n",
       "   theory: proveit.logic.booleans\n",
       "   class: <class 'proveit.logic.booleans.booleans.TrueLiteral'>\n",
       "   sub-expressions: "
      ]
     },
     "metadata": {},
     "output_type": "display_data"
    }
   ],
   "source": [
    "logic.TRUE.expr_info(details=True)"
   ]
  },
  {
   "cell_type": "markdown",
   "metadata": {},
   "source": [
    "**Expressions** are also distinguished by their class (derived from the *core type*).  In the above example, `logic.TRUE` is an object of the `proveit.logic.booleans.booleans.TrueLiteral` class.  `logic.TRUE` and `logic.FALSE` have an `eval_equality(..)` method defined in their respective classes which is a convenient method for deriving any of the following: $(\\top = \\top) = \\top$, $(\\bot = \\bot) = \\top$, $(\\top = \\bot) = \\bot$, or $(\\bot = \\top) = \\bot$ (these are proven theorems within `proveit.logic`). For example:"
   ]
  },
  {
   "cell_type": "code",
   "execution_count": 34,
   "metadata": {},
   "outputs": [
    {
     "data": {
      "text/html": [
       "<span style=\"font-size:20px;\"> <a class=\"ProveItLink\" href=\"__pv_it/basic_expressions/9690c55b0d9af6b2d6a6946a379b628461d704bf0/proof.ipynb\" style=\"text-decoration: none\">&nbsp;&#x22A2;&nbsp;&nbsp;</a><a class=\"ProveItLink\" href=\"__pv_it/basic_expressions/2501406b80df63a463595cd1c3fbabf4f36504a00/expr.ipynb\"><img src=\"data:image/png;base64,iVBORw0KGgoAAAANSUhEUgAAAHUAAAAVBAMAAACK3rzVAAAAMFBMVEX////MzMxUVFRERES6uroi\n",
       "IiIQEBCYmJhmZmYyMjLu7u52dnaqqqqIiIjc3NwAAACW8nlqAAAAAXRSTlMAQObYZgAAAAlwSFlz\n",
       "AAAOxAAADsQBlSsOGwAAALlJREFUOMtjYGB4wIAX8OGR4z2AXy/LBdxypxk4QsFAAVNbAYi8js1A\n",
       "sAzXBBDJg9VwiCjnAlwyHAWE9LI34JJhYyCklyELl8xJwnqn45LpJqx3Ey6Z6Sh6UYMcKlqJSyaG\n",
       "sL3HcMmkENYrT4FeN1wyMYT9exSXjC1he4txyWwirLcbl4woUtpGAUBHhqWCHRmCS4ZVgIEA4AvA\n",
       "JYMtpaNZU4BTyo6Q3se4pRYT0ovHcL4L+LXy4izPANodRQ7oNd+zAAAAAElFTkSuQmCC\n",
       "\" style=\"display:inline;vertical-align:middle;\" /></a></span>"
      ],
      "text/plain": [
       "|- (TRUE = FALSE) = FALSE"
      ]
     },
     "metadata": {},
     "output_type": "display_data"
    }
   ],
   "source": [
    "logic.TRUE.eval_equality(logic.FALSE)"
   ]
  },
  {
   "cell_type": "markdown",
   "metadata": {},
   "source": [
    "That is a sneak preview of a judgment (**Judgment** object) that uses the turnstile notation, $\\boldsymbol{\\vdash}$, to indicate that the expression is a proven statement.  There will be more on this in later tutorial chapters."
   ]
  },
  {
   "cell_type": "markdown",
   "metadata": {},
   "source": [
    "<a name=\"ExprTuple\"></a>ExprTuple\n",
    "=========\n",
    "\n",
    "An `ExprTuple` is an ordered collection of **expression** objects which we previewed briefly already.  Here is another example:"
   ]
  },
  {
   "cell_type": "code",
   "execution_count": 35,
   "metadata": {},
   "outputs": [
    {
     "data": {
      "text/html": [
       "<strong id=\"et\">et:</strong> <a class=\"ProveItLink\" href=\"__pv_it/basic_expressions/8da52779e42e2594df4eecef309bb5b0c6a8a63c0/expr.ipynb\"><img src=\"data:image/png;base64,iVBORw0KGgoAAAANSUhEUgAAAJMAAAAVBAMAAACwIsHjAAAAMFBMVEX////MzMxUVFRERES6uroi\n",
       "IiIQEBCYmJhmZmYyMjLu7u52dnaqqqqIiIjc3NwAAACW8nlqAAAAAXRSTlMAQObYZgAAAAlwSFlz\n",
       "AAAOxAAADsQBlSsOGwAAAhNJREFUOMutVE1IG0EYfRqzWXc3m1y821MRLeRUitCSUz1JghCR4kFQ\n",
       "8KTGk72UhkoptgdDL0VPA54lUTCCIs21lsL24kFRgiB4Mx6KKFj6zU6yM2YnRcQ57Lx98703v98H\n",
       "oIZHaL5JvHp/QRJWm4mH+eenQljPs60xH3O8jYifuZUc01vF86Quqkx3QRP2K0Cjf3baLXgVMPMq\n",
       "kaj+16q3/d7fAsYdIsMeamUw/LhDbOGhVt15fKHO7T/xBPH1eKAxZB/Ph62eHj1pICnB7maSx/fi\n",
       "G3Wva5EbcYPXrCRu2x3HYthqEBdpgQIJztLWrFtFrIhxMpiGKR6BcwNDTBYtYyZsBUREoJTwsBdx\n",
       "BmcCU3SJda7kzSwiIdAy050VRfwVnZTUgSUb6KhzKyOFUrq5lox4DpO6Y48UYV6K+wokhFCh19Y1\n",
       "wTdY8vA+eFZiOdatzsrIorPuIykhhO80vZPFS/qros+pWdwqSYfAAa5oHjDFirO2vwjOKhKyqlAf\n",
       "S2GT1u05YyZKlEGd+UjBB/z6NqxrxYqzbgEHzGelxEwhttxBfRk9NOGzjdPfiL4h1P8JPoC9/Y6h\n",
       "kbtD/jFy9vzDZ/islGB34dDco/E0osnmSeyHgKOmkY7dl8NntMegFpRDwFYzQ8eWJaTt4FWzVnmt\n",
       "AOtqKdOwkoNLbwJrzeKFVgBPrW0aNq5kAc8313uM2n4C/AMPy5hgv/1c3QAAAABJRU5ErkJggg==\n",
       "\" style=\"display:inline;vertical-align:middle;\" /></a><br>"
      ],
      "text/plain": [
       "<IPython.core.display.HTML object>"
      ]
     },
     "metadata": {},
     "output_type": "display_data"
    }
   ],
   "source": [
    "et = ExprTuple(a, b, c, TRUE, FIVE, a, alpha)"
   ]
  },
  {
   "cell_type": "markdown",
   "metadata": {},
   "source": [
    "An `ExprTuple` may be used as the *operands* or *operations* of an `Operation`, the *parameters* of a `Lambda` map, or the *values* and *conditions* of a `Conditional`.  A Python tuple (or any iterable) will automatically be converted to an `ExprTuple` when it is passed in for any of these roles when constructing an `Operation`, `Lambda`, or `Conditional`. "
   ]
  },
  {
   "cell_type": "markdown",
   "metadata": {},
   "source": [
    "Substitution typically carries forward in a straightforward manner."
   ]
  },
  {
   "cell_type": "code",
   "execution_count": 36,
   "metadata": {},
   "outputs": [
    {
     "data": {
      "text/html": [
       "<a class=\"ProveItLink\" href=\"__pv_it/basic_expressions/22f1975b2befe058a3e4b0d672306eba99bd349f0/expr.ipynb\"><img src=\"data:image/png;base64,iVBORw0KGgoAAAANSUhEUgAAAJ0AAAAVBAMAAACu6/FQAAAAMFBMVEX////MzMxUVFRERES6uroi\n",
       "IiIQEBCYmJhmZmYyMjLu7u52dnaqqqqIiIjc3NwAAACW8nlqAAAAAXRSTlMAQObYZgAAAAlwSFlz\n",
       "AAAOxAAADsQBlSsOGwAAAepJREFUOMutVT0sBEEU/nA/a/d2baPX0YhrJBTkOpVEJKtwComfQoLr\n",
       "aCQaQRSuEaLakOg4UYgQcS0iNhqJQjSXKEk0fiLe7LjbMTMkwiQ3+9733vft/Ly3B+AO/zVCJbv4\n",
       "G0oVsPNtsJtN52yK5crY5oicZXjhaAidxPNKfyXSJWXapGLmmZUKKuCa5sVROD6Z9SvwhZy3Tm/P\n",
       "SXpvP+pVi7CiN00bkAixlz/oJXycSgSr5w96tTksSYTa5qvyhR9fu6rezJ6r0zsKYasBqxKhsG6+\n",
       "c6tUNNKKXo3vPGn0ShlzwikimceARLj0Mc6tLBKBokejVaNHlDbbR2oQwxJhEXjlZfeiOz8ay3eK\n",
       "nvFARIuq/UHRyyLGKyaR1um1k56r6LHc/UMqjkFlv2/lhRUCnR51T4u6X5Z7QteY6kGHQGCV/4it\n",
       "XGjUUaFnTEjhXWAIpqjHnDqK79MzmcZeRDCfaWpEGzfoci23kJfC97DH8IlyPeZQbnKZPhXGLurD\n",
       "hu8bYQ3v0Qo2DmhdzMDR1A3ivPn554KhzkKTz9E5zxv1vF7uUK5xTN2dQdwVjsmXDZxBE/6Cik6J\n",
       "tjwbuZZisPPCz6jozNOvM3K3FcMUC0+PCo7DSmwzCgWKYYsL0aOCU8Mq3Qn+7f/jFvgA77CSgcLW\n",
       "mRYAAAAASUVORK5CYII=\n",
       "\" style=\"display:inline;vertical-align:middle;\" /></a>"
      ],
      "text/plain": [
       "(false, b, c, true, 5, false, alpha)"
      ]
     },
     "metadata": {},
     "output_type": "display_data"
    }
   ],
   "source": [
    "et.basic_replaced({a:FALSE})"
   ]
  },
  {
   "cell_type": "markdown",
   "metadata": {},
   "source": [
    "Note that the *substitution* occurs on all relevant instances.  And, as always, `substituted` is non-mutating:"
   ]
  },
  {
   "cell_type": "code",
   "execution_count": 37,
   "metadata": {},
   "outputs": [
    {
     "data": {
      "text/html": [
       "<a class=\"ProveItLink\" href=\"__pv_it/basic_expressions/8da52779e42e2594df4eecef309bb5b0c6a8a63c0/expr.ipynb\"><img src=\"data:image/png;base64,iVBORw0KGgoAAAANSUhEUgAAAJMAAAAVBAMAAACwIsHjAAAAMFBMVEX////MzMxUVFRERES6uroi\n",
       "IiIQEBCYmJhmZmYyMjLu7u52dnaqqqqIiIjc3NwAAACW8nlqAAAAAXRSTlMAQObYZgAAAAlwSFlz\n",
       "AAAOxAAADsQBlSsOGwAAAhNJREFUOMutVE1IG0EYfRqzWXc3m1y821MRLeRUitCSUz1JghCR4kFQ\n",
       "8KTGk72UhkoptgdDL0VPA54lUTCCIs21lsL24kFRgiB4Mx6KKFj6zU6yM2YnRcQ57Lx98703v98H\n",
       "oIZHaL5JvHp/QRJWm4mH+eenQljPs60xH3O8jYifuZUc01vF86Quqkx3QRP2K0Cjf3baLXgVMPMq\n",
       "kaj+16q3/d7fAsYdIsMeamUw/LhDbOGhVt15fKHO7T/xBPH1eKAxZB/Ph62eHj1pICnB7maSx/fi\n",
       "G3Wva5EbcYPXrCRu2x3HYthqEBdpgQIJztLWrFtFrIhxMpiGKR6BcwNDTBYtYyZsBUREoJTwsBdx\n",
       "BmcCU3SJda7kzSwiIdAy050VRfwVnZTUgSUb6KhzKyOFUrq5lox4DpO6Y48UYV6K+wokhFCh19Y1\n",
       "wTdY8vA+eFZiOdatzsrIorPuIykhhO80vZPFS/qros+pWdwqSYfAAa5oHjDFirO2vwjOKhKyqlAf\n",
       "S2GT1u05YyZKlEGd+UjBB/z6NqxrxYqzbgEHzGelxEwhttxBfRk9NOGzjdPfiL4h1P8JPoC9/Y6h\n",
       "kbtD/jFy9vzDZ/islGB34dDco/E0osnmSeyHgKOmkY7dl8NntMegFpRDwFYzQ8eWJaTt4FWzVnmt\n",
       "AOtqKdOwkoNLbwJrzeKFVgBPrW0aNq5kAc8313uM2n4C/AMPy5hgv/1c3QAAAABJRU5ErkJggg==\n",
       "\" style=\"display:inline;vertical-align:middle;\" /></a>"
      ],
      "text/plain": [
       "(a, b, c, true, 5, a, alpha)"
      ]
     },
     "metadata": {},
     "output_type": "display_data"
    }
   ],
   "source": [
    "et"
   ]
  },
  {
   "cell_type": "markdown",
   "metadata": {},
   "source": [
    "The **expression** constituents of an `ExprTuple` are known as *entries*:"
   ]
  },
  {
   "cell_type": "code",
   "execution_count": 38,
   "metadata": {},
   "outputs": [
    {
     "data": {
      "text/html": [
       "<a class=\"ProveItLink\" href=\"../packages/proveit/__pv_it/common/c06c606ec12678c58933ac85412ecadc2ae28be60/expr.ipynb\"><img src=\"data:image/png;base64,iVBORw0KGgoAAAANSUhEUgAAAAsAAAAJBAMAAAAWSsseAAAAMFBMVEX////MzMwyMjKqqqoiIiJm\n",
       "ZmaYmJju7u5EREQQEBC6urqIiIh2dnZUVFTc3NwAAAAqL9KcAAAAAXRSTlMAQObYZgAAAAlwSFlz\n",
       "AAAOxAAADsQBlSsOGwAAAEdJREFUCNdjYOC7s28DAwPDygcc3xkY2KcxsDowMLB+YGA5wMDA2cBQ\n",
       "v4CBoX4DQz5QRb0BwyXmBwwcG5hdWYEqbx98u5EBABisEWzRR9jxAAAAAElFTkSuQmCC\n",
       "\" style=\"display:inline;vertical-align:middle;\" /></a>"
      ],
      "text/plain": [
       "a"
      ]
     },
     "metadata": {},
     "output_type": "display_data"
    }
   ],
   "source": [
    "et.entries[5]"
   ]
  },
  {
   "cell_type": "markdown",
   "metadata": {},
   "source": [
    "The enumerated mathematical objects represented by the `ExprTuple` are known as *elements*.  The *elements* and *entries* are in correspondence except when the `ExprTuple` contains an `Iter`.  A contained `Iter` is a single *entry* but may represent multiple elements.  For example, the second *entry* of $(a, b_1, ..., b_n)$ is the `Iter` $b_1, ..., b_n$, but the second *element*, assuming $n \\geq 1$, is $b_1$.  We will revisit this in the <a href=\"#Iter\">Iter</a> section."
   ]
  },
  {
   "cell_type": "markdown",
   "metadata": {},
   "source": [
    "`ExprTuple` *substitution* is more interesting when an `Iter` containing an `IndexedVar` is expanded such that the `Iter` splits into multiple *entries*.  This will be demonstrated in the <a href=\"#IndexedVar\">IndexedVar</a> section.  "
   ]
  },
  {
   "cell_type": "markdown",
   "metadata": {},
   "source": [
    "<a name=\"Operation\"></a>Operation\n",
    "=========\n",
    "\n",
    "This type of **expression** represents an applied operation.  It contains *operator(s)* and *operand(s)*.  The default formatting of an `Operation` with one *operator* and more than one *operand* is to place the *operator* between each successive pair of *operands* as follows.   However, we cannot create an object of type **Operation**:"
   ]
  },
  {
   "cell_type": "code",
   "execution_count": 39,
   "metadata": {},
   "outputs": [
    {
     "name": "stdout",
     "output_type": "stream",
     "text": [
      "Expected error: Do not create an object of type Operation; use a derived class (e.g., Function) instead.\n"
     ]
    }
   ],
   "source": [
    "from proveit import Operation\n",
    "try:\n",
    "    triple_prod = Operation(TIMES, (x, y, omega), styles=None)\n",
    "    assert False\n",
    "except TypeError as e:\n",
    "    print(\"Expected error: %s\"%str(e))"
   ]
  },
  {
   "cell_type": "markdown",
   "metadata": {},
   "source": [
    "We must use a class derived from **Operation**:"
   ]
  },
  {
   "cell_type": "code",
   "execution_count": 167,
   "metadata": {},
   "outputs": [
    {
     "name": "stdout",
     "output_type": "stream",
     "text": [
      "To do this properly and be able to display the expression, the class needs to be defined in its own module.\n",
      "Examples are shown below (Factorial and Multiply).\n"
     ]
    }
   ],
   "source": [
    "class TimesOp(Operation):\n",
    "    def __init__(self, *operands, styles=None):\n",
    "        Operation.__init__(self, TIMES, operands, styles=styles)\n",
    "\n",
    "triple_prod = TimesOp(x, y, omega)\n",
    "print(\"To do this properly and be able to display the expression, the class needs to be \"\n",
    "      \"defined in its own module.\\nExamples are shown below (Factorial and Multiply).\")"
   ]
  },
  {
   "cell_type": "markdown",
   "metadata": {},
   "source": [
    "A `Function` is derived from `Operation`.  It behaves in the same manner except it formats it in a \"function\" style:"
   ]
  },
  {
   "cell_type": "code",
   "execution_count": 41,
   "metadata": {},
   "outputs": [
    {
     "data": {
      "text/html": [
       "<strong id=\"fx\">fx:</strong> <a class=\"ProveItLink\" href=\"__pv_it/basic_expressions/150826301a1142eace30344ace67d559abc49f500/expr.ipynb\"><img src=\"data:image/png;base64,iVBORw0KGgoAAAANSUhEUgAAACkAAAAVBAMAAAAp9toTAAAAMFBMVEX///8yMjLc3NyIiIiYmJgi\n",
       "IiJERES6urqqqqoQEBDMzMxUVFTu7u52dnZmZmYAAAD1zdHuAAAAAXRSTlMAQObYZgAAAAlwSFlz\n",
       "AAAOxAAADsQBlSsOGwAAAP9JREFUGNNjYIADJiitwIAMLKB0MYTiu3sASHJcgIoyO4Cp2ysbgORB\n",
       "uCYZMDmjDKT2CVzUD0Sw/wGzJ8BFOUGKeANATA4BuCgj0GCWndEPQFYCLeMx3rP2BlDZBiCf3wCm\n",
       "gI/B2uApUB1Im/4CkCgr0B1ODP4HtgANA1nRD7GigIFhAcNDEJPrA5C4ChdlYJgMdhRIbTYDzAQG\n",
       "9k8MZ4AmBMDkGdgMGHjSuScwAJ3CkgAMqu9gUaBzOH6dm8DeAHEkxwewKFcAA89jgz4PkGFAK/g2\n",
       "QHwUBfebKgNDN2MDUpiAATCcwmAhyAaLAyagZc6PoByeBHRpMFCG0kYMDABPOTTtap08PAAAAABJ\n",
       "RU5ErkJggg==\n",
       "\" style=\"display:inline;vertical-align:middle;\" /></a><br>"
      ],
      "text/plain": [
       "<IPython.core.display.HTML object>"
      ]
     },
     "metadata": {},
     "output_type": "display_data"
    }
   ],
   "source": [
    "from proveit import Function\n",
    "\n",
    "# Simple case: a Variable operator with a single Variable operand\n",
    "f = Variable('f')\n",
    "fx = Function(f, x)"
   ]
  },
  {
   "cell_type": "code",
   "execution_count": 42,
   "metadata": {},
   "outputs": [
    {
     "data": {
      "text/html": [
       "<a class=\"ProveItLink\" href=\"__pv_it/basic_expressions/1facf349f86b82363da03852070f50296740064a0/expr.ipynb\"><img src=\"data:image/png;base64,iVBORw0KGgoAAAANSUhEUgAAAOcAAAAVBAMAAABPgOQBAAAAMFBMVEX////MzMxUVFRERES6uroi\n",
       "IiIQEBCYmJhmZmYyMjLu7u52dnaqqqqIiIjc3NwAAACW8nlqAAAAAXRSTlMAQObYZgAAAAlwSFlz\n",
       "AAAOxAAADsQBlSsOGwAAA2NJREFUSMedVk9IFGEUf+u6u+Ps7rgEXgrSCqyESEKCBP/QoVPRBnaJ\n",
       "Dkt/DoXGUpeCSKlMagk3OhQRtOFFA1EEC7KDh4rMg4uHCkpdCOkQ0m52SXTtvTfzfd/MOAPSwH77\n",
       "Zn6/7/fe9773vRkAKIC6LNuAjZfhpPwXaghGfFKBwq7Mb5z4zfo/5im7OZR0mTHNt5nXysbr84Z5\n",
       "sVERWFrF2La889A9PxTgZ2Ys7UBJlxh6lm6iOzpB2HRV5dxOh6T1RD2sxgkHc35o9AHAXudc0kWG\n",
       "xrGE3zaDsOmK9Lid9knrqnpYi+mayfug+kMS7nGgpIuMMN8c55WFldxFt9OUtMIqCwsJ/I36oFVJ\n",
       "HCqKDpR0kTHF9jiPUwp85N7SrEqR2rY2+iV80P4EpbjkQEkXGRkyL5/fw9WEv+HZ5xNYw2OSNj33\n",
       "gzKP69HnGra9QZ06iS0DBNZ8UGOZRu2Pidp0kWEuaU0urye+T8O8XJPVkDXOWgvQYDbfi/siA0eH\n",
       "xvikD6qt8sLL1uKVLjJOc1Ql5qEdKURWKpD0XgjP5DiiEGrfgO7cbsyW3KL474lX7eCDhlZoHEmZ\n",
       "qE0XGed4x4rMQzsAGodaK4TPQKBM9YHiCbjL6ysKLCgsL7SavXenTdSmiwx2Gk0Kp0jhbnREZHAV\n",
       "4ilLFqCL20rKfkylUzcaIk39gkSlLjI4vcE6kV48PQUdq/6dOFhlE6QUQWUZXmBakvKYik7jheJh\n",
       "OQraJYEqXWS0qCjIHmivhyiaVyhMclqEEaqDYB70pooUoJtII97zaVxoF3n2QAOrke3plwUTtesi\n",
       "g8/GL3M22jNb72CA5ukZwezpZdhPEljnsdJgqnLSOh9/if9MlrgX+mkJxhos1K6LjBouUXMu2oNz\n",
       "sT7KRgel5RQOh7/28t4mQb+f/3CdHlOEJzGSW+stYuc9UAjsmujAAmLUrouMEPWNm9bWJOQLkHfm\n",
       "I9uPeTwhO8Ii17vzjeCDNsG8EyXdRW7Bsbqn7jZvtn7M1JZcoORq5Ny+o84u6YMeMDugQkmXGK0Q\n",
       "ahal3yrA7/yawAKozw2ZRRYU3wQGVQoMO536oP3rCQdKuswYgMgX8XAA7N7jvKW3rRdVo0Pf9Wnh\n",
       "g9Z0OlHSZYZhmy/suMenzpL1P+/5QbI5lHSR8Q9WtRL0O5x3lgAAAABJRU5ErkJggg==\n",
       "\" style=\"display:inline;vertical-align:middle;\" /></a>"
      ],
      "text/plain": [
       "(f(x), g(x), P(x), Q(x))"
      ]
     },
     "metadata": {},
     "output_type": "display_data"
    }
   ],
   "source": [
    "from proveit import fx, gx, Px, Qx\n",
    "ExprTuple(fx, gx, Px, Qx)"
   ]
  },
  {
   "cell_type": "markdown",
   "metadata": {},
   "source": [
    "An `Operation` must have a single *operator* that *not* a `Lambda`."
   ]
  },
  {
   "cell_type": "code",
   "execution_count": 43,
   "metadata": {},
   "outputs": [
    {
     "name": "stdout",
     "output_type": "stream",
     "text": [
      "Expected TypeError: An operator may not be an explicit Lambda map like x -> g(x); this is necessary to avoid a Curry's paradox.\n"
     ]
    }
   ],
   "source": [
    "from proveit import Lambda\n",
    "try:\n",
    "    Function(Lambda(x, gx), fx)\n",
    "    assert False, \"Expecting a TypeError; should not make it to this point\"\n",
    "except TypeError as e:\n",
    "    print(\"Expected TypeError: %s\"%str(e))"
   ]
  },
  {
   "cell_type": "markdown",
   "metadata": {},
   "source": [
    "The `operator` and `operands` attributes access the *operator* and *operands* respectively as `ExprTuple`s:"
   ]
  },
  {
   "cell_type": "code",
   "execution_count": 44,
   "metadata": {},
   "outputs": [
    {
     "name": "stdout",
     "output_type": "stream",
     "text": [
      "Expression notebook is being updated for *\n"
     ]
    },
    {
     "data": {
      "text/html": [
       "<a class=\"ProveItLink\" href=\"__pv_it/basic_expressions/24e3bd884eb4491d941ad30be1fd76fc379da19e0/expr.ipynb\"><img src=\"data:image/png;base64,iVBORw0KGgoAAAANSUhEUgAAAAsAAAAKBAMAAACQ3rmwAAAAGFBMVEX///8yMjLMzMwiIiJERETc\n",
       "3NxUVFQAAAB2r991AAAAAXRSTlMAQObYZgAAAAlwSFlzAAAOxAAADsQBlSsOGwAAAC5JREFUCNdj\n",
       "SGVgYAhhYAhWYGA1YgBhIAvIVQVygFxjBSQKIghVAtWQBBQJZAAA2bMGGZgz/L4AAAAASUVORK5C\n",
       "YII=\n",
       "\" style=\"display:inline;vertical-align:middle;\" /></a>"
      ],
      "text/plain": [
       "*"
      ]
     },
     "metadata": {},
     "output_type": "display_data"
    }
   ],
   "source": [
    "triple_prod.operator"
   ]
  },
  {
   "cell_type": "code",
   "execution_count": 45,
   "metadata": {},
   "outputs": [
    {
     "data": {
      "text/html": [
       "<a class=\"ProveItLink\" href=\"__pv_it/basic_expressions/217e35086171651211a3d165ed2e03c7539270480/expr.ipynb\"><img src=\"data:image/png;base64,iVBORw0KGgoAAAANSUhEUgAAAEMAAAAVBAMAAADvM06qAAAAMFBMVEX////MzMxUVFRERES6uroi\n",
       "IiIQEBCYmJhmZmYyMjLu7u52dnaqqqqIiIjc3NwAAACW8nlqAAAAAXRSTlMAQObYZgAAAAlwSFlz\n",
       "AAAOxAAADsQBlSsOGwAAAV5JREFUKM+Fkj9Iw0AUh7/+TUza0MXFpZm6FKE4uajBWbEObgodRAcR\n",
       "OjpJF+3gkk1wEKUgOhSKi4hLJ0UULA7SQaWLeze1oPjukqzxwb18d+93ee/eHTAgxnQw342TLCr3\n",
       "EKcgXwfLj5VwBGY9XrID2XgF2RPu/5GM1TmQT/v59CY4V7uJ5WoyZTjLYLscCjbyk2ZVBzq3GENN\n",
       "j0ryA4bPqviBMUrqqhPdPZIVLWkodwW5GusSwAxPbrFNtqco7dGCXQkOlYRwWUVGFAsKbJiXvLJS\n",
       "U4lgaWCdBEX6vGhIwiuOSHJVZqDlldQuJUq5TGlKFRJfXMglGhUu4WlinwWsb/UXN/2pyd4qFac3\n",
       "1UqHcTh/yzWlLSuy2Sr3fzVZc8fGhqow45EpRH3M6XJsP6LAPiRXI5pIOVxz1g0osqaM2WjSlrFG\n",
       "OaTQHNXIVjRTme/6XkihpdTLdHpxF/0Of7nHTpehdlFFAAAAAElFTkSuQmCC\n",
       "\" style=\"display:inline;vertical-align:middle;\" /></a>"
      ],
      "text/plain": [
       "(x, y, omega)"
      ]
     },
     "metadata": {},
     "output_type": "display_data"
    }
   ],
   "source": [
    "triple_prod.operands"
   ]
  },
  {
   "cell_type": "markdown",
   "metadata": {},
   "source": [
    "If there is only one *operand*, it may be accessed via the `operand` attributes: "
   ]
  },
  {
   "cell_type": "code",
   "execution_count": 46,
   "metadata": {},
   "outputs": [
    {
     "data": {
      "text/html": [
       "<a class=\"ProveItLink\" href=\"__pv_it/basic_expressions/a0d9d672aa5e272d907247690c152cc2c6daafb70/expr.ipynb\"><img src=\"data:image/png;base64,iVBORw0KGgoAAAANSUhEUgAAAAsAAAAJBAMAAAAWSsseAAAAMFBMVEX///9ERES6uroQEBAyMjLc\n",
       "3NyYmJgiIiJmZmaqqqp2dnbMzMxUVFSIiIju7u4AAAAd7oVFAAAAAXRSTlMAQObYZgAAAAlwSFlz\n",
       "AAAOxAAADsQBlSsOGwAAAENJREFUCNdjYHh75/WqCQwMDbxnOQoY2ALY/vEkMHAzcDgwgADzBTCl\n",
       "H8D3gOGhwmEGLgaG+fuaGTQZGF7c5WybwAAAJTwQ1a2DuB8AAAAASUVORK5CYII=\n",
       "\" style=\"display:inline;vertical-align:middle;\" /></a>"
      ],
      "text/plain": [
       "x"
      ]
     },
     "metadata": {},
     "output_type": "display_data"
    }
   ],
   "source": [
    "fx.operand"
   ]
  },
  {
   "cell_type": "code",
   "execution_count": 47,
   "metadata": {},
   "outputs": [
    {
     "data": {
      "text/plain": [
       "False"
      ]
     },
     "metadata": {},
     "output_type": "display_data"
    }
   ],
   "source": [
    "# An Operation does not have an `operand` attribute\n",
    "# if there is more than one *operand*.\n",
    "hasattr(triple_prod, 'operand')"
   ]
  },
  {
   "cell_type": "markdown",
   "metadata": {},
   "source": [
    "Looking at the expression information, we see that `triple_prod` has `operands` that is an `ExprTuple` but a single `operator` that is a `Literal`."
   ]
  },
  {
   "cell_type": "code",
   "execution_count": 48,
   "metadata": {},
   "outputs": [
    {
     "data": {
      "text/html": [
       "<table><tr><th>&nbsp;</th><th>core type</th><th>sub-expressions</th><th>expression</th></tr>\n",
       "<tr><td>0</td><td>Operation</td><td>operator:&nbsp;1<br>operands:&nbsp;2<br></td><td><a class=\"ProveItLink\" href=\"__pv_it/basic_expressions/e389ed235b10c34b33bbc65e59ac8a91e2173e850/expr.ipynb\"><img src=\"data:image/png;base64,iVBORw0KGgoAAAANSUhEUgAAAFcAAAAOBAMAAACoZ51gAAAAMFBMVEX///9ERES6uroQEBAyMjLc\n",
       "3NyYmJgiIiJmZmaqqqp2dnbMzMxUVFSIiIju7u4AAAAd7oVFAAAAAXRSTlMAQObYZgAAAAlwSFlz\n",
       "AAAOxAAADsQBlSsOGwAAAQRJREFUKM9jYICDo0AcyIAMMEXe3nm9agKIEb6BgbUaLNLGwHcARYSh\n",
       "AcJjaOA9y1EAEgCKg/gMDAsmM7B9QBHhBJkWf4GBLYDtH08CWHv4VrAx3BPaGXgEkEUYOEAEVwID\n",
       "NwOHA9RBrOVgY/gYbBmYLyCLMCgx8AkAjQWyoBIIKaZ/DPs3oIgsYGA6wMAFYukH8D1AtdSB4TID\n",
       "isgBBt4JDFEMDA8VDkP0ILzDeIBBBlVEmmF/A58rA8P8fc0MmgwoAcVxgOkbqsjiNdYfm4Gh8OIu\n",
       "Zxs4mBlOA3EI2IenbnxFFXn4JSDZlgEH4HJgIBYsYXg8gWjFtQyniFbLMO2GAnYJAJ2mUFXgXxRc\n",
       "AAAAAElFTkSuQmCC\n",
       "\" style=\"display:inline;vertical-align:middle;\" /></a></td></tr>\n",
       "<tr><td>1</td><td>Literal</td><td></td><td><a class=\"ProveItLink\" href=\"__pv_it/basic_expressions/24e3bd884eb4491d941ad30be1fd76fc379da19e0/expr.ipynb\"><img src=\"data:image/png;base64,iVBORw0KGgoAAAANSUhEUgAAAAsAAAAKBAMAAACQ3rmwAAAAGFBMVEX///8yMjLMzMwiIiJERETc\n",
       "3NxUVFQAAAB2r991AAAAAXRSTlMAQObYZgAAAAlwSFlzAAAOxAAADsQBlSsOGwAAAC5JREFUCNdj\n",
       "SGVgYAhhYAhWYGA1YgBhIAvIVQVygFxjBSQKIghVAtWQBBQJZAAA2bMGGZgz/L4AAAAASUVORK5C\n",
       "YII=\n",
       "\" style=\"display:inline;vertical-align:middle;\" /></a></td></tr>\n",
       "<tr><td>2</td><td>ExprTuple</td><td>3, 4, 5</td><td><a class=\"ProveItLink\" href=\"__pv_it/basic_expressions/217e35086171651211a3d165ed2e03c7539270480/expr.ipynb\"><img src=\"data:image/png;base64,iVBORw0KGgoAAAANSUhEUgAAAEMAAAAVBAMAAADvM06qAAAAMFBMVEX////MzMxUVFRERES6uroi\n",
       "IiIQEBCYmJhmZmYyMjLu7u52dnaqqqqIiIjc3NwAAACW8nlqAAAAAXRSTlMAQObYZgAAAAlwSFlz\n",
       "AAAOxAAADsQBlSsOGwAAAV5JREFUKM+Fkj9Iw0AUh7/+TUza0MXFpZm6FKE4uajBWbEObgodRAcR\n",
       "OjpJF+3gkk1wEKUgOhSKi4hLJ0UULA7SQaWLeze1oPjukqzxwb18d+93ee/eHTAgxnQw342TLCr3\n",
       "EKcgXwfLj5VwBGY9XrID2XgF2RPu/5GM1TmQT/v59CY4V7uJ5WoyZTjLYLscCjbyk2ZVBzq3GENN\n",
       "j0ryA4bPqviBMUrqqhPdPZIVLWkodwW5GusSwAxPbrFNtqco7dGCXQkOlYRwWUVGFAsKbJiXvLJS\n",
       "U4lgaWCdBEX6vGhIwiuOSHJVZqDlldQuJUq5TGlKFRJfXMglGhUu4WlinwWsb/UXN/2pyd4qFac3\n",
       "1UqHcTh/yzWlLSuy2Sr3fzVZc8fGhqow45EpRH3M6XJsP6LAPiRXI5pIOVxz1g0osqaM2WjSlrFG\n",
       "OaTQHNXIVjRTme/6XkihpdTLdHpxF/0Of7nHTpehdlFFAAAAAElFTkSuQmCC\n",
       "\" style=\"display:inline;vertical-align:middle;\" /></a></td></tr>\n",
       "<tr><td>3</td><td>Variable</td><td></td><td><a class=\"ProveItLink\" href=\"__pv_it/basic_expressions/a0d9d672aa5e272d907247690c152cc2c6daafb70/expr.ipynb\"><img src=\"data:image/png;base64,iVBORw0KGgoAAAANSUhEUgAAAAsAAAAJBAMAAAAWSsseAAAAMFBMVEX///9ERES6uroQEBAyMjLc\n",
       "3NyYmJgiIiJmZmaqqqp2dnbMzMxUVFSIiIju7u4AAAAd7oVFAAAAAXRSTlMAQObYZgAAAAlwSFlz\n",
       "AAAOxAAADsQBlSsOGwAAAENJREFUCNdjYHh75/WqCQwMDbxnOQoY2ALY/vEkMHAzcDgwgADzBTCl\n",
       "H8D3gOGhwmEGLgaG+fuaGTQZGF7c5WybwAAAJTwQ1a2DuB8AAAAASUVORK5CYII=\n",
       "\" style=\"display:inline;vertical-align:middle;\" /></a></td></tr>\n",
       "<tr><td>4</td><td>Variable</td><td></td><td><a class=\"ProveItLink\" href=\"../packages/proveit/__pv_it/common/ff7dba4ef0bbe791ab573bf2d9c220a304399ac80/expr.ipynb\"><img src=\"data:image/png;base64,iVBORw0KGgoAAAANSUhEUgAAAAsAAAANBAMAAACN24kIAAAAMFBMVEX////c3NwyMjK6urpEREQi\n",
       "IiLMzMwQEBCqqqp2dnZUVFSYmJhmZmaIiIju7u4AAADlKNhoAAAAAXRSTlMAQObYZgAAAAlwSFlz\n",
       "AAAOxAAADsQBlSsOGwAAAFhJREFUCNdj4LuzgeEVAwMnRwHDfgaGDJ4AhiUMDA/YLzDUMjAw2D9g\n",
       "+wakDjHwFgApLwaWBUDqFIP9BiD1au55AQYQmATEnAp8FUCK9QLXBCDFsfcwkAQA5QkUAIef7yAA\n",
       "AAAASUVORK5CYII=\n",
       "\" style=\"display:inline;vertical-align:middle;\" /></a></td></tr>\n",
       "<tr><td>5</td><td>Variable</td><td></td><td><a class=\"ProveItLink\" href=\"__pv_it/basic_expressions/2e5b33f8f44527195a10b6078888697e89a14e8e0/expr.ipynb\"><img src=\"data:image/png;base64,iVBORw0KGgoAAAANSUhEUgAAAA0AAAAJBAMAAAAbVLtZAAAAMFBMVEX///8QEBAyMjJUVFRERETu\n",
       "7u66urqYmJh2dnaIiIiqqqrMzMwiIiLc3NxmZmYAAADdGNx0AAAAAXRSTlMAQObYZgAAAAlwSFlz\n",
       "AAAOxAAADsQBlSsOGwAAAE9JREFUCNdjYHjAwMBwZwMD1wIgfX8CAx+QYuAoYEhjYHVgYL/A0MDA\n",
       "ZsDAwcBgwMC5gOEGA4M3w/4HrLoMDI3N0l8eFjAwhHy6UCjJwAAAJ3sRHWMNI4wAAAAASUVORK5C\n",
       "YII=\n",
       "\" style=\"display:inline;vertical-align:middle;\" /></a></td></tr>\n",
       "</table>\n"
      ],
      "text/plain": [
       "0. x * y * omega\n",
       "   core type: Operation\n",
       "   operator: 1\n",
       "   operands: 2\n",
       "1. *\n",
       "   core type: Literal\n",
       "   sub-expressions: \n",
       "2. (x, y, omega)\n",
       "   core type: ExprTuple\n",
       "   sub-expressions: 3, 4, 5\n",
       "3. x\n",
       "   core type: Variable\n",
       "   sub-expressions: \n",
       "4. y\n",
       "   core type: Variable\n",
       "   sub-expressions: \n",
       "5. omega\n",
       "   core type: Variable\n",
       "   sub-expressions: "
      ]
     },
     "metadata": {},
     "output_type": "display_data"
    }
   ],
   "source": [
    "triple_prod.expr_info()"
   ]
  },
  {
   "cell_type": "markdown",
   "metadata": {},
   "source": [
    "### Defining an `Operation` sub-class\n",
    "\n",
    "Let's derive a couple of classes from `Operation` to represent operations with specific literal operators.\n",
    "This is commonly done within Prove-It library modules.  We use the `%load` magic command to display (and execute) the contents of <a href=\"demo_operations.py\">demo_operations.py</a>."
   ]
  },
  {
   "cell_type": "code",
   "execution_count": 49,
   "metadata": {},
   "outputs": [],
   "source": [
    "# %load demo_operations.py\n",
    "'''\n",
    "Module that defines a Operations for demonstration\n",
    "purposes in this tutorial.\n",
    "'''\n",
    "\n",
    "from proveit import Operation, Literal\n",
    "\n",
    "\n",
    "class Factorial(Operation):\n",
    "    # _operator_ is a special class variable name, defining specific literal operator of the Operation class.\n",
    "    # It is not only used for default formatting but also when performing\n",
    "    # substitutions for rebuilding expressions.\n",
    "    _operator_ = Literal('!')\n",
    "\n",
    "    def __init__(self, operand, *, styles=None):\n",
    "        # creates the Operation with FACTORIAL as the operator and the provided\n",
    "        # operand as its only operand.\n",
    "        Operation.__init__(self, Factorial._operator_, operand,\n",
    "                           styles=styles)\n",
    "        # self.operand is automatically initialized.\n",
    "\n",
    "    def string(self, **kwargs):  # should accept kwargs even when not used (e.g., 'fence')\n",
    "        # the operand should be fenced (wrapped in parentheses) to prevent\n",
    "        # ambiguity\n",
    "        return self.operand.string(fence=True) + Factorial._operator_.string()\n",
    "\n",
    "    def latex(self, **kwargs):  # should accept kwargs even when not used (e.g., 'fence')\n",
    "        # the operand should be fenced (wrapped in parentheses) to prevent\n",
    "        # ambiguity\n",
    "        return self.operand.latex(fence=True) + Factorial._operator_.latex()\n",
    "\n",
    "\n",
    "class Multiply(Operation):\n",
    "\n",
    "    # This operator Literal has a LaTeX format that differs from the string\n",
    "    # format.\n",
    "    _operator_ = Literal('*', r'\\times')\n",
    "\n",
    "    # takes a list of arguments as the operands\n",
    "    def __init__(self, *operands, styles=None):  \n",
    "        # creates the AssociativeOperation with TIMES as the operator and any\n",
    "        # number of operands.\n",
    "        Operation.__init__(self, Multiply._operator_, operands,\n",
    "                           styles=styles)\n",
    "\n",
    "    # The default formatting will display the operator between the operands\n"
   ]
  },
  {
   "cell_type": "markdown",
   "metadata": {},
   "source": [
    "In order to work properly, however, we need to import these classes from the module (as Prove-It will use the `__file__` attribute of this module for its internal purposes)."
   ]
  },
  {
   "cell_type": "code",
   "execution_count": 50,
   "metadata": {},
   "outputs": [],
   "source": [
    "from demo_operations import Factorial, Multiply"
   ]
  },
  {
   "cell_type": "markdown",
   "metadata": {},
   "source": [
    "A `Factorial` is an `Operation` with \"!\" as the format of the `Literal` operator.  Its formatting is altered from the default but is still true to the core `Expression` structure (the formatting is a reflection of the internal structure)."
   ]
  },
  {
   "cell_type": "code",
   "execution_count": 51,
   "metadata": {},
   "outputs": [
    {
     "data": {
      "text/html": [
       "<strong id=\"x_factorial\">x_factorial:</strong> <a class=\"ProveItLink\" href=\"__pv_it/basic_expressions/16e4be536ec1bea945af9bf50581cd4d68519e110/expr.ipynb\"><img src=\"data:image/png;base64,iVBORw0KGgoAAAANSUhEUgAAABAAAAAPBAMAAAAfXVIcAAAAMFBMVEX///9ERES6uroQEBAyMjLc\n",
       "3NyYmJgiIiJmZmaqqqp2dnbMzMxUVFSIiIju7u4AAAAd7oVFAAAAAXRSTlMAQObYZgAAAAlwSFlz\n",
       "AAAOxAAADsQBlSsOGwAAAGdJREFUCNdjYICAGijN+hnK4PsOZTB8gTFsYIwKBoa3d16vmsDgxcDQ\n",
       "wHuWo4DhGANbANs/ngSGTgZuBg4HoJpFQMx8AUhMBWL9AL4HQOqhwmEGLpAB8/c1M2gy8H1heHGX\n",
       "s20C0EAALg8ZQKafvioAAAAASUVORK5CYII=\n",
       "\" style=\"display:inline;vertical-align:middle;\" /></a><br>"
      ],
      "text/plain": [
       "<IPython.core.display.HTML object>"
      ]
     },
     "metadata": {},
     "output_type": "display_data"
    }
   ],
   "source": [
    "# Now we can make an object with this new class\n",
    "x_factorial = Factorial(x)"
   ]
  },
  {
   "cell_type": "code",
   "execution_count": 52,
   "metadata": {},
   "outputs": [
    {
     "name": "stdout",
     "output_type": "stream",
     "text": [
      "Expression notebook is being updated for !\n"
     ]
    },
    {
     "data": {
      "text/html": [
       "<table><tr><th>&nbsp;</th><th>core type</th><th>sub-expressions</th><th>expression</th></tr>\n",
       "<tr><td>0</td><td>Operation</td><td>operator:&nbsp;1<br>operand:&nbsp;3<br></td><td><a class=\"ProveItLink\" href=\"__pv_it/basic_expressions/16e4be536ec1bea945af9bf50581cd4d68519e110/expr.ipynb\"><img src=\"data:image/png;base64,iVBORw0KGgoAAAANSUhEUgAAABAAAAAPBAMAAAAfXVIcAAAAMFBMVEX///9ERES6uroQEBAyMjLc\n",
       "3NyYmJgiIiJmZmaqqqp2dnbMzMxUVFSIiIju7u4AAAAd7oVFAAAAAXRSTlMAQObYZgAAAAlwSFlz\n",
       "AAAOxAAADsQBlSsOGwAAAGdJREFUCNdjYICAGijN+hnK4PsOZTB8gTFsYIwKBoa3d16vmsDgxcDQ\n",
       "wHuWo4DhGANbANs/ngSGTgZuBg4HoJpFQMx8AUhMBWL9AL4HQOqhwmEGLpAB8/c1M2gy8H1heHGX\n",
       "s20C0EAALg8ZQKafvioAAAAASUVORK5CYII=\n",
       "\" style=\"display:inline;vertical-align:middle;\" /></a></td></tr>\n",
       "<tr><td>1</td><td>Literal</td><td></td><td><a class=\"ProveItLink\" href=\"__pv_it/basic_expressions/fd03761321b547da82c74b2ed8e2f909ca4de7640/expr.ipynb\"><img src=\"data:image/png;base64,iVBORw0KGgoAAAANSUhEUgAAAAMAAAAPBAMAAADTxGj3AAAAJ1BMVEX///+6urqqqqqYmJh2dnZm\n",
       "ZmYyMjLu7u4QEBDc3NxUVFQiIiIAAABmOgpVAAAAAXRSTlMAQObYZgAAAAlwSFlzAAAOxAAADsQB\n",
       "lSsOGwAAADBJREFUCNdj4F7AMKeBoWYDA08CA8cCBu4ABjYHBi4DBlYFBhYBBqYJDBBQkwCUAgC+\n",
       "MAbl3fBGuQAAAABJRU5ErkJggg==\n",
       "\" style=\"display:inline;vertical-align:middle;\" /></a></td></tr>\n",
       "<tr><td>2</td><td>ExprTuple</td><td>3</td><td><a class=\"ProveItLink\" href=\"../packages/proveit/__pv_it/common/eacfeccc0521684fcb20fe8f5180ac50fca471f20/expr.ipynb\"><img src=\"data:image/png;base64,iVBORw0KGgoAAAANSUhEUgAAABgAAAAVBAMAAACuxzMVAAAAMFBMVEX////MzMxUVFRERES6uroi\n",
       "IiIQEBCYmJhmZmYyMjLu7u52dnaqqqqIiIjc3NwAAACW8nlqAAAAAXRSTlMAQObYZgAAAAlwSFlz\n",
       "AAAOxAAADsQBlSsOGwAAALhJREFUGNNjYGB4wAAGfCCC9wCEw3IBSJxmgILrDAxcE2AczgUMHAUw\n",
       "DnsDAxsDHGQxnERwpjN0A8m1lxbuBpq5CchlYGjg1eUIYGCoZIgB6nzA/osJaM4xhhQGBkYGDrD5\n",
       "8iAOAwMbyHYGN5AyBgb/B1wLGBiOMtgyMCx2UGPgBgoVA81jOC/VxuAD5HQziDIwrLjL0w5yeggD\n",
       "qwDMAXwBIOdBAcjJdjDOYyBeDOOARPkuQNi8DxgAz0wljM0iLrAAAAAASUVORK5CYII=\n",
       "\" style=\"display:inline;vertical-align:middle;\" /></a></td></tr>\n",
       "<tr><td>3</td><td>Variable</td><td></td><td><a class=\"ProveItLink\" href=\"__pv_it/basic_expressions/a0d9d672aa5e272d907247690c152cc2c6daafb70/expr.ipynb\"><img src=\"data:image/png;base64,iVBORw0KGgoAAAANSUhEUgAAAAsAAAAJBAMAAAAWSsseAAAAMFBMVEX///9ERES6uroQEBAyMjLc\n",
       "3NyYmJgiIiJmZmaqqqp2dnbMzMxUVFSIiIju7u4AAAAd7oVFAAAAAXRSTlMAQObYZgAAAAlwSFlz\n",
       "AAAOxAAADsQBlSsOGwAAAENJREFUCNdjYHh75/WqCQwMDbxnOQoY2ALY/vEkMHAzcDgwgADzBTCl\n",
       "H8D3gOGhwmEGLgaG+fuaGTQZGF7c5WybwAAAJTwQ1a2DuB8AAAAASUVORK5CYII=\n",
       "\" style=\"display:inline;vertical-align:middle;\" /></a></td></tr>\n",
       "</table>\n"
      ],
      "text/plain": [
       "0. x!\n",
       "   core type: Operation\n",
       "   operator: 1\n",
       "   operand: 3\n",
       "1. !\n",
       "   core type: Literal\n",
       "   sub-expressions: \n",
       "2. (x)\n",
       "   core type: ExprTuple\n",
       "   sub-expressions: 3\n",
       "3. x\n",
       "   core type: Variable\n",
       "   sub-expressions: "
      ]
     },
     "metadata": {},
     "output_type": "display_data"
    }
   ],
   "source": [
    "# show core structure\n",
    "x_factorial.expr_info()"
   ]
  },
  {
   "cell_type": "markdown",
   "metadata": {},
   "source": [
    "In the Jupyter notebook setting, we typically only use LaTeX formatting, but it is important to define the string formatting as well for whenever it is needed (e.g., when error messages are displayed).  The `fence=True` above indicates that parentheses should be used when it could be ambiguous otherwise.  Our example above has no ambiguity, so parentheses are not used.  We will show a case below where the parentheses are required."
   ]
  },
  {
   "cell_type": "markdown",
   "metadata": {},
   "source": [
    "Next we consider a multiple *operand* example using the `Multiply` class that we imported from <a href=\"demo_operations.py\">demo_operations.py</a> above."
   ]
  },
  {
   "cell_type": "code",
   "execution_count": 53,
   "metadata": {},
   "outputs": [
    {
     "data": {
      "text/html": [
       "<strong id=\"mult_expr\">mult_expr:</strong> <a class=\"ProveItLink\" href=\"__pv_it/basic_expressions/b8fc6cda29cf486795977f11f56b86d07ccf83b90/expr.ipynb\"><img src=\"data:image/png;base64,iVBORw0KGgoAAAANSUhEUgAAAFYAAAAPBAMAAACM+SX7AAAAMFBMVEX///9ERES6uroQEBAyMjLc\n",
       "3NyYmJgiIiJmZmaqqqp2dnbMzMxUVFSIiIju7u4AAAAd7oVFAAAAAXRSTlMAQObYZgAAAAlwSFlz\n",
       "AAAOxAAADsQBlSsOGwAAAPtJREFUKM9jYMACNjDwBTAQCexdyh8Qq7b4+zpilTIcYGCgotqjQByI\n",
       "ohYhAgVv77xeNQHECN/AwFoNFjp26zQDiggHEINYDbxnOQoYIBygJAjIMcQroIjMBHH+MrAFsP3j\n",
       "SYAYs7UaZhljAYpIA4hYxsDNwOEAVcBavgGmluMrsgiTAsNDBoZUIIv5AppaRgcGjt/IIlwMDDoM\n",
       "DAuALP0AvgcoNjIXMPB8QBbhYWC4ycC6gOGhwmGQPmSfALnMAsgijBu4fzA8CWCYv6+ZQRM1hFgb\n",
       "GC4/QBbhsjq8X8KMgeHFXc42cPAygMI0BMyK6OlDEeGTd2UzvsAAAOnxS/v6dKS4AAAAAElFTkSu\n",
       "QmCC\n",
       "\" style=\"display:inline;vertical-align:middle;\" /></a><br>"
      ],
      "text/plain": [
       "<IPython.core.display.HTML object>"
      ]
     },
     "metadata": {},
     "output_type": "display_data"
    }
   ],
   "source": [
    "# Demonstrating an Operation with multiple operands\n",
    "mult_expr = Multiply(x, FIVE, omega)"
   ]
  },
  {
   "cell_type": "code",
   "execution_count": 54,
   "metadata": {},
   "outputs": [
    {
     "data": {
      "text/html": [
       "<strong id=\"nested_operation\">nested_operation:</strong> <a class=\"ProveItLink\" href=\"__pv_it/basic_expressions/f3f980d58c42fa2075575b3d003ebb7f2822cb6d0/expr.ipynb\"><img src=\"data:image/png;base64,iVBORw0KGgoAAAANSUhEUgAAAGkAAAAVBAMAAAC3TN2zAAAAMFBMVEX////MzMxUVFRERES6uroi\n",
       "IiIQEBCYmJhmZmYyMjLu7u52dnaqqqqIiIjc3NwAAACW8nlqAAAAAXRSTlMAQObYZgAAAAlwSFlz\n",
       "AAAOxAAADsQBlSsOGwAAAZlJREFUOMuVkz9Iw0AUxr8mbZImNWZxEjQuFhykg4MIanAX2qFODhlE\n",
       "BxEzOogGQURFyCY6SKCLurS4COLQUdEhOLj4h4IUdGo7CC4W7y4tJhKHPLi7d7+77+XdvQuAGmJY\n",
       "d3NPNWpVgxwZbZa0lA7cRcZcPSq6UbzHAhomZCdSNfd5FZ3iMVDOQ7IiF/X/DrYG9DoQEE8luBB0\n",
       "3AbRKGlvIdUv6VjaQsrGPvHkl5H+a4rqGtQCW8w+DSFEJNKop+hIV3DIyIO3DR+TbdQm0DBC5J5O\n",
       "vgHRAWdhnsw2sOlm/dADhW4qfD5EbNpdAhkTUhULrKS7na1qUeuqpHaQJA2UaHgkmlAMpgJW/qh4\n",
       "B1IrSBRgBqgQuYlMjWWIZBvnoXyEPLhmkHDAM1SiyrDEJ8kVjnEmDRM4Owkt5IKE1xJfOCNPU2T4\n",
       "gshbp2ayGrpn1cajGyTK8vDg+BI9bgVlB33kWwfezTpLh9bog3nvW3shIk+fiIseffAGrXJKQyyr\n",
       "s16046l2/GEqlkjN+WMplorv/OGqF0f1yvofSHhhdkOhvb4AAAAASUVORK5CYII=\n",
       "\" style=\"display:inline;vertical-align:middle;\" /></a><br>"
      ],
      "text/plain": [
       "<IPython.core.display.HTML object>"
      ]
     },
     "metadata": {},
     "output_type": "display_data"
    }
   ],
   "source": [
    "# Let's nest Operations and show proper fencing behavior\n",
    "nested_operation = Factorial(mult_expr)"
   ]
  },
  {
   "cell_type": "code",
   "execution_count": 55,
   "metadata": {},
   "outputs": [
    {
     "name": "stdout",
     "output_type": "stream",
     "text": [
      "Expression notebook is being updated for *\n"
     ]
    },
    {
     "data": {
      "text/html": [
       "<table><tr><th>&nbsp;</th><th>core type</th><th>sub-expressions</th><th>expression</th></tr>\n",
       "<tr><td>0</td><td>Operation</td><td>operator:&nbsp;1<br>operand:&nbsp;3<br></td><td><a class=\"ProveItLink\" href=\"__pv_it/basic_expressions/f3f980d58c42fa2075575b3d003ebb7f2822cb6d0/expr.ipynb\"><img src=\"data:image/png;base64,iVBORw0KGgoAAAANSUhEUgAAAGkAAAAVBAMAAAC3TN2zAAAAMFBMVEX////MzMxUVFRERES6uroi\n",
       "IiIQEBCYmJhmZmYyMjLu7u52dnaqqqqIiIjc3NwAAACW8nlqAAAAAXRSTlMAQObYZgAAAAlwSFlz\n",
       "AAAOxAAADsQBlSsOGwAAAZlJREFUOMuVkz9Iw0AUxr8mbZImNWZxEjQuFhykg4MIanAX2qFODhlE\n",
       "BxEzOogGQURFyCY6SKCLurS4COLQUdEhOLj4h4IUdGo7CC4W7y4tJhKHPLi7d7+77+XdvQuAGmJY\n",
       "d3NPNWpVgxwZbZa0lA7cRcZcPSq6UbzHAhomZCdSNfd5FZ3iMVDOQ7IiF/X/DrYG9DoQEE8luBB0\n",
       "3AbRKGlvIdUv6VjaQsrGPvHkl5H+a4rqGtQCW8w+DSFEJNKop+hIV3DIyIO3DR+TbdQm0DBC5J5O\n",
       "vgHRAWdhnsw2sOlm/dADhW4qfD5EbNpdAhkTUhULrKS7na1qUeuqpHaQJA2UaHgkmlAMpgJW/qh4\n",
       "B1IrSBRgBqgQuYlMjWWIZBvnoXyEPLhmkHDAM1SiyrDEJ8kVjnEmDRM4Owkt5IKE1xJfOCNPU2T4\n",
       "gshbp2ayGrpn1cajGyTK8vDg+BI9bgVlB33kWwfezTpLh9bog3nvW3shIk+fiIseffAGrXJKQyyr\n",
       "s16046l2/GEqlkjN+WMplorv/OGqF0f1yvofSHhhdkOhvb4AAAAASUVORK5CYII=\n",
       "\" style=\"display:inline;vertical-align:middle;\" /></a></td></tr>\n",
       "<tr><td>1</td><td>Literal</td><td></td><td><a class=\"ProveItLink\" href=\"__pv_it/basic_expressions/fd03761321b547da82c74b2ed8e2f909ca4de7640/expr.ipynb\"><img src=\"data:image/png;base64,iVBORw0KGgoAAAANSUhEUgAAAAMAAAAPBAMAAADTxGj3AAAAJ1BMVEX///+6urqqqqqYmJh2dnZm\n",
       "ZmYyMjLu7u4QEBDc3NxUVFQiIiIAAABmOgpVAAAAAXRSTlMAQObYZgAAAAlwSFlzAAAOxAAADsQB\n",
       "lSsOGwAAADBJREFUCNdj4F7AMKeBoWYDA08CA8cCBu4ABjYHBi4DBlYFBhYBBqYJDBBQkwCUAgC+\n",
       "MAbl3fBGuQAAAABJRU5ErkJggg==\n",
       "\" style=\"display:inline;vertical-align:middle;\" /></a></td></tr>\n",
       "<tr><td>2</td><td>ExprTuple</td><td>3</td><td><a class=\"ProveItLink\" href=\"__pv_it/basic_expressions/1e87e8ea44b7d85842f20e5819c1d6ca4bf5e26c0/expr.ipynb\"><img src=\"data:image/png;base64,iVBORw0KGgoAAAANSUhEUgAAAGMAAAAVBAMAAACgbk16AAAAMFBMVEX////MzMxUVFRERES6uroi\n",
       "IiIQEBCYmJhmZmYyMjLu7u52dnaqqqqIiIjc3NwAAACW8nlqAAAAAXRSTlMAQObYZgAAAAlwSFlz\n",
       "AAAOxAAADsQBlSsOGwAAAXdJREFUOMuVkz9Iw1AQxn9tbBPTNmRxcdC61EnpKIIanBXToU4OHUQH\n",
       "Bzs6SXCwoEs30UEqXXQQiougi6soWBxc/ENBCjpZB0EExfdSi4nEIQf3cvfdfcfd5T2gQQhxk1Nn\n",
       "QSETPbDUtDwuAqstb+crQXiqCHo5kDL7dhLc2Q5oxcBI+r9hViBOOEq8wrnXHxb66KP8Ij/SXWRT\n",
       "fA6v907dvTVNjJwbGbwdwIdoQqWVSLMlTCc1pNm0MZEjZZQXy4dcSucT1DJz4myoH9H2Fpp9uU4H\n",
       "iu1DHHkcQ7LAPETQOps28maHon15kS6LKqyK5JakiDXU/1CUMtqrF0nAJNQEtyAbg5mGXvG1EbeJ\n",
       "trxIFO4wBCVpMwZVKyOreIcVbjzrRRQz8s6BuHZqliO46l1nyr9Sw+Gm4kUSS5n+kUU5Yo0e2L9P\n",
       "ltrXWf6LZ9d6WtvwIfrErrogJ45ZxExCSVP05oSjlISOh2IYcinVUBRFvlWjHobyAN8wkFlwgPuH\n",
       "XgAAAABJRU5ErkJggg==\n",
       "\" style=\"display:inline;vertical-align:middle;\" /></a></td></tr>\n",
       "<tr><td>3</td><td>Operation</td><td>operator:&nbsp;4<br>operands:&nbsp;5<br></td><td><a class=\"ProveItLink\" href=\"__pv_it/basic_expressions/b8fc6cda29cf486795977f11f56b86d07ccf83b90/expr.ipynb\"><img src=\"data:image/png;base64,iVBORw0KGgoAAAANSUhEUgAAAFYAAAAPBAMAAACM+SX7AAAAMFBMVEX///9ERES6uroQEBAyMjLc\n",
       "3NyYmJgiIiJmZmaqqqp2dnbMzMxUVFSIiIju7u4AAAAd7oVFAAAAAXRSTlMAQObYZgAAAAlwSFlz\n",
       "AAAOxAAADsQBlSsOGwAAAPtJREFUKM9jYMACNjDwBTAQCexdyh8Qq7b4+zpilTIcYGCgotqjQByI\n",
       "ohYhAgVv77xeNQHECN/AwFoNFjp26zQDiggHEINYDbxnOQoYIBygJAjIMcQroIjMBHH+MrAFsP3j\n",
       "SYAYs7UaZhljAYpIA4hYxsDNwOEAVcBavgGmluMrsgiTAsNDBoZUIIv5AppaRgcGjt/IIlwMDDoM\n",
       "DAuALP0AvgcoNjIXMPB8QBbhYWC4ycC6gOGhwmGQPmSfALnMAsgijBu4fzA8CWCYv6+ZQRM1hFgb\n",
       "GC4/QBbhsjq8X8KMgeHFXc42cPAygMI0BMyK6OlDEeGTd2UzvsAAAOnxS/v6dKS4AAAAAElFTkSu\n",
       "QmCC\n",
       "\" style=\"display:inline;vertical-align:middle;\" /></a></td></tr>\n",
       "<tr><td>4</td><td>Literal</td><td></td><td><a class=\"ProveItLink\" href=\"__pv_it/basic_expressions/24e3bd884eb4491d941ad30be1fd76fc379da19e0/expr.ipynb\"><img src=\"data:image/png;base64,iVBORw0KGgoAAAANSUhEUgAAAAsAAAAKBAMAAACQ3rmwAAAAGFBMVEX///8yMjLMzMwiIiJERETc\n",
       "3NxUVFQAAAB2r991AAAAAXRSTlMAQObYZgAAAAlwSFlzAAAOxAAADsQBlSsOGwAAAC5JREFUCNdj\n",
       "SGVgYAhhYAhWYGA1YgBhIAvIVQVygFxjBSQKIghVAtWQBBQJZAAA2bMGGZgz/L4AAAAASUVORK5C\n",
       "YII=\n",
       "\" style=\"display:inline;vertical-align:middle;\" /></a></td></tr>\n",
       "<tr><td>5</td><td>ExprTuple</td><td>6, 7, 8</td><td><a class=\"ProveItLink\" href=\"__pv_it/basic_expressions/fbe3a8114641afe5654690102cd57f822e5c771a0/expr.ipynb\"><img src=\"data:image/png;base64,iVBORw0KGgoAAAANSUhEUgAAAEMAAAAVBAMAAADvM06qAAAAMFBMVEX////MzMxUVFRERES6uroi\n",
       "IiIQEBCYmJhmZmYyMjLu7u52dnaqqqqIiIjc3NwAAACW8nlqAAAAAXRSTlMAQObYZgAAAAlwSFlz\n",
       "AAAOxAAADsQBlSsOGwAAAXBJREFUKM+FkjtIA0EQhr+84yU50lhZGBsDViksRFCDvRALLcQihWgh\n",
       "YkoL0SCIqAjpRAs5SKOCGGwEsUjpqzgsbHxgI9iZFIIWBmfvuEvOIh7s7D+z/8zs3j/AK20+6zBR\n",
       "bQ0l0TwpY8rcerIW9yaMVj9RAK3koUx+Xng77UO04Imk/l5mCcK0p4QNrv+hdBTYlk177uu6tCPp\n",
       "xx4bRGXp4xBLsWu59+a6fTLIR9YCd4ryA5ES0wJXWDXSTuVAztqKypxDPM+M9b82m82jDWWDWcoq\n",
       "F1/NosCCU6JEtK5ADEahIty81Yhgg2P7iTn8NQX88IQulHiOIXlQvz8vCZqdHM4gEgSSvi+ORK5I\n",
       "hjMh1g/zwSqnIoVe5MHQvoU739s9MKeuVqFTquyYV8sQmpLI+9oWiJLayEFk1pRAKEso6b7lxgHx\n",
       "FrHfpFfR9SoOiLUIsCFr2HE000EnTYaeEVN2p8eNm01KQM2gbrab3Rf4BRBeS65XYQXqAAAAAElF\n",
       "TkSuQmCC\n",
       "\" style=\"display:inline;vertical-align:middle;\" /></a></td></tr>\n",
       "<tr><td>6</td><td>Variable</td><td></td><td><a class=\"ProveItLink\" href=\"__pv_it/basic_expressions/a0d9d672aa5e272d907247690c152cc2c6daafb70/expr.ipynb\"><img src=\"data:image/png;base64,iVBORw0KGgoAAAANSUhEUgAAAAsAAAAJBAMAAAAWSsseAAAAMFBMVEX///9ERES6uroQEBAyMjLc\n",
       "3NyYmJgiIiJmZmaqqqp2dnbMzMxUVFSIiIju7u4AAAAd7oVFAAAAAXRSTlMAQObYZgAAAAlwSFlz\n",
       "AAAOxAAADsQBlSsOGwAAAENJREFUCNdjYHh75/WqCQwMDbxnOQoY2ALY/vEkMHAzcDgwgADzBTCl\n",
       "H8D3gOGhwmEGLgaG+fuaGTQZGF7c5WybwAAAJTwQ1a2DuB8AAAAASUVORK5CYII=\n",
       "\" style=\"display:inline;vertical-align:middle;\" /></a></td></tr>\n",
       "<tr><td>7</td><td>Literal</td><td></td><td><a class=\"ProveItLink\" href=\"__pv_it/basic_expressions/53d2dd3f57dfef2aa6ec32670440c9b3957640bf0/expr.ipynb\"><img src=\"data:image/png;base64,iVBORw0KGgoAAAANSUhEUgAAAAkAAAAPBAMAAADE5vg+AAAALVBMVEX///9mZma6urpERESIiIiY\n",
       "mJhUVFR2dnYiIiIyMjIQEBDc3Nzu7u7MzMwAAACf3j6KAAAAAXRSTlMAQObYZgAAAAlwSFlzAAAO\n",
       "xAAADsQBlSsOGwAAAE5JREFUCNdj4GVgOM3AwPVyRg8DA8e69gMMDGwMIIBChpRdYGBgPsD9CMy1\n",
       "AJNyGxgsgeQFhhUMDHkMDAUMDIsZGDYysKxhYOAWTDzAAACiUg9DTWr5DAAAAABJRU5ErkJggg==\n",
       "\" style=\"display:inline;vertical-align:middle;\" /></a></td></tr>\n",
       "<tr><td>8</td><td>Variable</td><td></td><td><a class=\"ProveItLink\" href=\"__pv_it/basic_expressions/2e5b33f8f44527195a10b6078888697e89a14e8e0/expr.ipynb\"><img src=\"data:image/png;base64,iVBORw0KGgoAAAANSUhEUgAAAA0AAAAJBAMAAAAbVLtZAAAAMFBMVEX///8QEBAyMjJUVFRERETu\n",
       "7u66urqYmJh2dnaIiIiqqqrMzMwiIiLc3NxmZmYAAADdGNx0AAAAAXRSTlMAQObYZgAAAAlwSFlz\n",
       "AAAOxAAADsQBlSsOGwAAAE9JREFUCNdjYHjAwMBwZwMD1wIgfX8CAx+QYuAoYEhjYHVgYL/A0MDA\n",
       "ZsDAwcBgwMC5gOEGA4M3w/4HrLoMDI3N0l8eFjAwhHy6UCjJwAAAJ3sRHWMNI4wAAAAASUVORK5C\n",
       "YII=\n",
       "\" style=\"display:inline;vertical-align:middle;\" /></a></td></tr>\n",
       "</table>\n"
      ],
      "text/plain": [
       "0. (x * 5 * omega)!\n",
       "   core type: Operation\n",
       "   operator: 1\n",
       "   operand: 3\n",
       "1. !\n",
       "   core type: Literal\n",
       "   sub-expressions: \n",
       "2. (x * 5 * omega)\n",
       "   core type: ExprTuple\n",
       "   sub-expressions: 3\n",
       "3. x * 5 * omega\n",
       "   core type: Operation\n",
       "   operator: 4\n",
       "   operands: 5\n",
       "4. *\n",
       "   core type: Literal\n",
       "   sub-expressions: \n",
       "5. (x, 5, omega)\n",
       "   core type: ExprTuple\n",
       "   sub-expressions: 6, 7, 8\n",
       "6. x\n",
       "   core type: Variable\n",
       "   sub-expressions: \n",
       "7. 5\n",
       "   core type: Literal\n",
       "   sub-expressions: \n",
       "8. omega\n",
       "   core type: Variable\n",
       "   sub-expressions: "
      ]
     },
     "metadata": {},
     "output_type": "display_data"
    }
   ],
   "source": [
    "nested_operation.expr_info()"
   ]
  },
  {
   "cell_type": "markdown",
   "metadata": {},
   "source": [
    "### Operand substitution\n",
    "\n",
    "*Substitution* of *operands* is straightforward in the way it works."
   ]
  },
  {
   "cell_type": "code",
   "execution_count": 56,
   "metadata": {},
   "outputs": [
    {
     "data": {
      "text/html": [
       "<a class=\"ProveItLink\" href=\"__pv_it/basic_expressions/36fa7e8b7c26e40949afbaf440db8a7be37711f60/expr.ipynb\"><img src=\"data:image/png;base64,iVBORw0KGgoAAAANSUhEUgAAABIAAAAPBAMAAAAbqIIhAAAAMFBMVEX///8QEBAyMjJUVFRERETu\n",
       "7u66urqYmJh2dnaIiIiqqqrMzMwiIiLc3NxmZmYAAADdGNx0AAAAAXRSTlMAQObYZgAAAAlwSFlz\n",
       "AAAOxAAADsQBlSsOGwAAAG9JREFUCNdjYICCwzAG70cYi/UPjMXwCc4ShrPOMTA8AFJ3NjBoMHAt\n",
       "ALLuT2AwZ+ADSXEUMLxiSGNgdWBgv8DQxtDAwGbAwMHAsJbBgIFzAcMNkBJvhv0PWHVBrMZm6S8P\n",
       "CxhYPzGEfLpQKAkyGQB5CxnzHCw2lQAAAABJRU5ErkJggg==\n",
       "\" style=\"display:inline;vertical-align:middle;\" /></a>"
      ],
      "text/plain": [
       "omega!"
      ]
     },
     "metadata": {},
     "output_type": "display_data"
    }
   ],
   "source": [
    "x_factorial.basic_replaced({x:omega})"
   ]
  },
  {
   "cell_type": "markdown",
   "metadata": {},
   "source": [
    "Notice that the substituted() method is non-mutating, leaving the **x_factorial** expression as it was originally defined:"
   ]
  },
  {
   "cell_type": "code",
   "execution_count": 57,
   "metadata": {},
   "outputs": [
    {
     "data": {
      "text/html": [
       "<a class=\"ProveItLink\" href=\"__pv_it/basic_expressions/16e4be536ec1bea945af9bf50581cd4d68519e110/expr.ipynb\"><img src=\"data:image/png;base64,iVBORw0KGgoAAAANSUhEUgAAABAAAAAPBAMAAAAfXVIcAAAAMFBMVEX///9ERES6uroQEBAyMjLc\n",
       "3NyYmJgiIiJmZmaqqqp2dnbMzMxUVFSIiIju7u4AAAAd7oVFAAAAAXRSTlMAQObYZgAAAAlwSFlz\n",
       "AAAOxAAADsQBlSsOGwAAAGdJREFUCNdjYICAGijN+hnK4PsOZTB8gTFsYIwKBoa3d16vmsDgxcDQ\n",
       "wHuWo4DhGANbANs/ngSGTgZuBg4HoJpFQMx8AUhMBWL9AL4HQOqhwmEGLpAB8/c1M2gy8H1heHGX\n",
       "s20C0EAALg8ZQKafvioAAAAASUVORK5CYII=\n",
       "\" style=\"display:inline;vertical-align:middle;\" /></a>"
      ],
      "text/plain": [
       "x!"
      ]
     },
     "metadata": {},
     "output_type": "display_data"
    }
   ],
   "source": [
    "x_factorial"
   ]
  },
  {
   "cell_type": "markdown",
   "metadata": {},
   "source": [
    "We can also substitute an entire expression in for the variable $x$:"
   ]
  },
  {
   "cell_type": "code",
   "execution_count": 58,
   "metadata": {},
   "outputs": [
    {
     "data": {
      "text/html": [
       "<strong id=\"nested_operation_from_sub\">nested_operation_from_sub:</strong> <a class=\"ProveItLink\" href=\"__pv_it/basic_expressions/f3f980d58c42fa2075575b3d003ebb7f2822cb6d0/expr.ipynb\"><img src=\"data:image/png;base64,iVBORw0KGgoAAAANSUhEUgAAAGkAAAAVBAMAAAC3TN2zAAAAMFBMVEX////MzMxUVFRERES6uroi\n",
       "IiIQEBCYmJhmZmYyMjLu7u52dnaqqqqIiIjc3NwAAACW8nlqAAAAAXRSTlMAQObYZgAAAAlwSFlz\n",
       "AAAOxAAADsQBlSsOGwAAAZlJREFUOMuVkz9Iw0AUxr8mbZImNWZxEjQuFhykg4MIanAX2qFODhlE\n",
       "BxEzOogGQURFyCY6SKCLurS4COLQUdEhOLj4h4IUdGo7CC4W7y4tJhKHPLi7d7+77+XdvQuAGmJY\n",
       "d3NPNWpVgxwZbZa0lA7cRcZcPSq6UbzHAhomZCdSNfd5FZ3iMVDOQ7IiF/X/DrYG9DoQEE8luBB0\n",
       "3AbRKGlvIdUv6VjaQsrGPvHkl5H+a4rqGtQCW8w+DSFEJNKop+hIV3DIyIO3DR+TbdQm0DBC5J5O\n",
       "vgHRAWdhnsw2sOlm/dADhW4qfD5EbNpdAhkTUhULrKS7na1qUeuqpHaQJA2UaHgkmlAMpgJW/qh4\n",
       "B1IrSBRgBqgQuYlMjWWIZBvnoXyEPLhmkHDAM1SiyrDEJ8kVjnEmDRM4Owkt5IKE1xJfOCNPU2T4\n",
       "gshbp2ayGrpn1cajGyTK8vDg+BI9bgVlB33kWwfezTpLh9bog3nvW3shIk+fiIseffAGrXJKQyyr\n",
       "s16046l2/GEqlkjN+WMplorv/OGqF0f1yvofSHhhdkOhvb4AAAAASUVORK5CYII=\n",
       "\" style=\"display:inline;vertical-align:middle;\" /></a><br>"
      ],
      "text/plain": [
       "<IPython.core.display.HTML object>"
      ]
     },
     "metadata": {},
     "output_type": "display_data"
    }
   ],
   "source": [
    "nested_operation_from_sub = x_factorial.basic_replaced({x:mult_expr})"
   ]
  },
  {
   "cell_type": "markdown",
   "metadata": {},
   "source": [
    "Internally, however, there is specific machinery required to regenerate these objects and construct them with the proper classes.  In order for this machinery to work, the `_operator_` class attribute must be properly defined (e.g., `Factorial._operator_` and `Multiply._operator_`).  To demonstrate that this is working properly, note that the classes displayed in the detailed expression info from `expr_info()` are as they should be:"
   ]
  },
  {
   "cell_type": "code",
   "execution_count": 59,
   "metadata": {},
   "outputs": [
    {
     "data": {
      "text/html": [
       "<table><tr><th>&nbsp;</th><th>core type</th><th>sub-expressions</th><th>expression</th></tr>\n",
       "<tr><td>0</td><td>Operation</td><td>operator:&nbsp;1<br>operand:&nbsp;3<br></td><td><a class=\"ProveItLink\" href=\"__pv_it/basic_expressions/f3f980d58c42fa2075575b3d003ebb7f2822cb6d0/expr.ipynb\"><img src=\"data:image/png;base64,iVBORw0KGgoAAAANSUhEUgAAAGkAAAAVBAMAAAC3TN2zAAAAMFBMVEX////MzMxUVFRERES6uroi\n",
       "IiIQEBCYmJhmZmYyMjLu7u52dnaqqqqIiIjc3NwAAACW8nlqAAAAAXRSTlMAQObYZgAAAAlwSFlz\n",
       "AAAOxAAADsQBlSsOGwAAAZlJREFUOMuVkz9Iw0AUxr8mbZImNWZxEjQuFhykg4MIanAX2qFODhlE\n",
       "BxEzOogGQURFyCY6SKCLurS4COLQUdEhOLj4h4IUdGo7CC4W7y4tJhKHPLi7d7+77+XdvQuAGmJY\n",
       "d3NPNWpVgxwZbZa0lA7cRcZcPSq6UbzHAhomZCdSNfd5FZ3iMVDOQ7IiF/X/DrYG9DoQEE8luBB0\n",
       "3AbRKGlvIdUv6VjaQsrGPvHkl5H+a4rqGtQCW8w+DSFEJNKop+hIV3DIyIO3DR+TbdQm0DBC5J5O\n",
       "vgHRAWdhnsw2sOlm/dADhW4qfD5EbNpdAhkTUhULrKS7na1qUeuqpHaQJA2UaHgkmlAMpgJW/qh4\n",
       "B1IrSBRgBqgQuYlMjWWIZBvnoXyEPLhmkHDAM1SiyrDEJ8kVjnEmDRM4Owkt5IKE1xJfOCNPU2T4\n",
       "gshbp2ayGrpn1cajGyTK8vDg+BI9bgVlB33kWwfezTpLh9bog3nvW3shIk+fiIseffAGrXJKQyyr\n",
       "s16046l2/GEqlkjN+WMplorv/OGqF0f1yvofSHhhdkOhvb4AAAAASUVORK5CYII=\n",
       "\" style=\"display:inline;vertical-align:middle;\" /></a></td></tr>\n",
       "<tr><td colspan=4 style=\"text-align:left\"><strong>class:</strong> tutorial.demo_operations.Factorial</td></tr>\n",
       "<tr><td>1</td><td>Literal</td><td></td><td><a class=\"ProveItLink\" href=\"__pv_it/basic_expressions/fd03761321b547da82c74b2ed8e2f909ca4de7640/expr.ipynb\"><img src=\"data:image/png;base64,iVBORw0KGgoAAAANSUhEUgAAAAMAAAAPBAMAAADTxGj3AAAAJ1BMVEX///+6urqqqqqYmJh2dnZm\n",
       "ZmYyMjLu7u4QEBDc3NxUVFQiIiIAAABmOgpVAAAAAXRSTlMAQObYZgAAAAlwSFlzAAAOxAAADsQB\n",
       "lSsOGwAAADBJREFUCNdj4F7AMKeBoWYDA08CA8cCBu4ABjYHBi4DBlYFBhYBBqYJDBBQkwCUAgC+\n",
       "MAbl3fBGuQAAAABJRU5ErkJggg==\n",
       "\" style=\"display:inline;vertical-align:middle;\" /></a></td></tr>\n",
       "<tr><td colspan=4 style=\"text-align:left\"><strong>theory:</strong> tutorial</td></tr>\n",
       "<tr><td>2</td><td>ExprTuple</td><td>3</td><td><a class=\"ProveItLink\" href=\"__pv_it/basic_expressions/1e87e8ea44b7d85842f20e5819c1d6ca4bf5e26c0/expr.ipynb\"><img src=\"data:image/png;base64,iVBORw0KGgoAAAANSUhEUgAAAGMAAAAVBAMAAACgbk16AAAAMFBMVEX////MzMxUVFRERES6uroi\n",
       "IiIQEBCYmJhmZmYyMjLu7u52dnaqqqqIiIjc3NwAAACW8nlqAAAAAXRSTlMAQObYZgAAAAlwSFlz\n",
       "AAAOxAAADsQBlSsOGwAAAXdJREFUOMuVkz9Iw1AQxn9tbBPTNmRxcdC61EnpKIIanBXToU4OHUQH\n",
       "Bzs6SXCwoEs30UEqXXQQiougi6soWBxc/ENBCjpZB0EExfdSi4nEIQf3cvfdfcfd5T2gQQhxk1Nn\n",
       "QSETPbDUtDwuAqstb+crQXiqCHo5kDL7dhLc2Q5oxcBI+r9hViBOOEq8wrnXHxb66KP8Ij/SXWRT\n",
       "fA6v907dvTVNjJwbGbwdwIdoQqWVSLMlTCc1pNm0MZEjZZQXy4dcSucT1DJz4myoH9H2Fpp9uU4H\n",
       "iu1DHHkcQ7LAPETQOps28maHon15kS6LKqyK5JakiDXU/1CUMtqrF0nAJNQEtyAbg5mGXvG1EbeJ\n",
       "trxIFO4wBCVpMwZVKyOreIcVbjzrRRQz8s6BuHZqliO46l1nyr9Sw+Gm4kUSS5n+kUU5Yo0e2L9P\n",
       "ltrXWf6LZ9d6WtvwIfrErrogJ45ZxExCSVP05oSjlISOh2IYcinVUBRFvlWjHobyAN8wkFlwgPuH\n",
       "XgAAAABJRU5ErkJggg==\n",
       "\" style=\"display:inline;vertical-align:middle;\" /></a></td></tr>\n",
       "<tr><td>3</td><td>Operation</td><td>operator:&nbsp;4<br>operands:&nbsp;5<br></td><td><a class=\"ProveItLink\" href=\"__pv_it/basic_expressions/b8fc6cda29cf486795977f11f56b86d07ccf83b90/expr.ipynb\"><img src=\"data:image/png;base64,iVBORw0KGgoAAAANSUhEUgAAAFYAAAAPBAMAAACM+SX7AAAAMFBMVEX///9ERES6uroQEBAyMjLc\n",
       "3NyYmJgiIiJmZmaqqqp2dnbMzMxUVFSIiIju7u4AAAAd7oVFAAAAAXRSTlMAQObYZgAAAAlwSFlz\n",
       "AAAOxAAADsQBlSsOGwAAAPtJREFUKM9jYMACNjDwBTAQCexdyh8Qq7b4+zpilTIcYGCgotqjQByI\n",
       "ohYhAgVv77xeNQHECN/AwFoNFjp26zQDiggHEINYDbxnOQoYIBygJAjIMcQroIjMBHH+MrAFsP3j\n",
       "SYAYs7UaZhljAYpIA4hYxsDNwOEAVcBavgGmluMrsgiTAsNDBoZUIIv5AppaRgcGjt/IIlwMDDoM\n",
       "DAuALP0AvgcoNjIXMPB8QBbhYWC4ycC6gOGhwmGQPmSfALnMAsgijBu4fzA8CWCYv6+ZQRM1hFgb\n",
       "GC4/QBbhsjq8X8KMgeHFXc42cPAygMI0BMyK6OlDEeGTd2UzvsAAAOnxS/v6dKS4AAAAAElFTkSu\n",
       "QmCC\n",
       "\" style=\"display:inline;vertical-align:middle;\" /></a></td></tr>\n",
       "<tr><td colspan=4 style=\"text-align:left\"><strong>class:</strong> tutorial.demo_operations.Multiply</td></tr>\n",
       "<tr><td>4</td><td>Literal</td><td></td><td><a class=\"ProveItLink\" href=\"__pv_it/basic_expressions/24e3bd884eb4491d941ad30be1fd76fc379da19e0/expr.ipynb\"><img src=\"data:image/png;base64,iVBORw0KGgoAAAANSUhEUgAAAAsAAAAKBAMAAACQ3rmwAAAAGFBMVEX///8yMjLMzMwiIiJERETc\n",
       "3NxUVFQAAAB2r991AAAAAXRSTlMAQObYZgAAAAlwSFlzAAAOxAAADsQBlSsOGwAAAC5JREFUCNdj\n",
       "SGVgYAhhYAhWYGA1YgBhIAvIVQVygFxjBSQKIghVAtWQBBQJZAAA2bMGGZgz/L4AAAAASUVORK5C\n",
       "YII=\n",
       "\" style=\"display:inline;vertical-align:middle;\" /></a></td></tr>\n",
       "<tr><td colspan=4 style=\"text-align:left\"><strong>theory:</strong> tutorial</td></tr>\n",
       "<tr><td>5</td><td>ExprTuple</td><td>6, 7, 8</td><td><a class=\"ProveItLink\" href=\"__pv_it/basic_expressions/fbe3a8114641afe5654690102cd57f822e5c771a0/expr.ipynb\"><img src=\"data:image/png;base64,iVBORw0KGgoAAAANSUhEUgAAAEMAAAAVBAMAAADvM06qAAAAMFBMVEX////MzMxUVFRERES6uroi\n",
       "IiIQEBCYmJhmZmYyMjLu7u52dnaqqqqIiIjc3NwAAACW8nlqAAAAAXRSTlMAQObYZgAAAAlwSFlz\n",
       "AAAOxAAADsQBlSsOGwAAAXBJREFUKM+FkjtIA0EQhr+84yU50lhZGBsDViksRFCDvRALLcQihWgh\n",
       "YkoL0SCIqAjpRAs5SKOCGGwEsUjpqzgsbHxgI9iZFIIWBmfvuEvOIh7s7D+z/8zs3j/AK20+6zBR\n",
       "bQ0l0TwpY8rcerIW9yaMVj9RAK3koUx+Xng77UO04Imk/l5mCcK0p4QNrv+hdBTYlk177uu6tCPp\n",
       "xx4bRGXp4xBLsWu59+a6fTLIR9YCd4ryA5ES0wJXWDXSTuVAztqKypxDPM+M9b82m82jDWWDWcoq\n",
       "F1/NosCCU6JEtK5ADEahIty81Yhgg2P7iTn8NQX88IQulHiOIXlQvz8vCZqdHM4gEgSSvi+ORK5I\n",
       "hjMh1g/zwSqnIoVe5MHQvoU739s9MKeuVqFTquyYV8sQmpLI+9oWiJLayEFk1pRAKEso6b7lxgHx\n",
       "FrHfpFfR9SoOiLUIsCFr2HE000EnTYaeEVN2p8eNm01KQM2gbrab3Rf4BRBeS65XYQXqAAAAAElF\n",
       "TkSuQmCC\n",
       "\" style=\"display:inline;vertical-align:middle;\" /></a></td></tr>\n",
       "<tr><td>6</td><td>Variable</td><td></td><td><a class=\"ProveItLink\" href=\"__pv_it/basic_expressions/a0d9d672aa5e272d907247690c152cc2c6daafb70/expr.ipynb\"><img src=\"data:image/png;base64,iVBORw0KGgoAAAANSUhEUgAAAAsAAAAJBAMAAAAWSsseAAAAMFBMVEX///9ERES6uroQEBAyMjLc\n",
       "3NyYmJgiIiJmZmaqqqp2dnbMzMxUVFSIiIju7u4AAAAd7oVFAAAAAXRSTlMAQObYZgAAAAlwSFlz\n",
       "AAAOxAAADsQBlSsOGwAAAENJREFUCNdjYHh75/WqCQwMDbxnOQoY2ALY/vEkMHAzcDgwgADzBTCl\n",
       "H8D3gOGhwmEGLgaG+fuaGTQZGF7c5WybwAAAJTwQ1a2DuB8AAAAASUVORK5CYII=\n",
       "\" style=\"display:inline;vertical-align:middle;\" /></a></td></tr>\n",
       "<tr><td>7</td><td>Literal</td><td></td><td><a class=\"ProveItLink\" href=\"__pv_it/basic_expressions/53d2dd3f57dfef2aa6ec32670440c9b3957640bf0/expr.ipynb\"><img src=\"data:image/png;base64,iVBORw0KGgoAAAANSUhEUgAAAAkAAAAPBAMAAADE5vg+AAAALVBMVEX///9mZma6urpERESIiIiY\n",
       "mJhUVFR2dnYiIiIyMjIQEBDc3Nzu7u7MzMwAAACf3j6KAAAAAXRSTlMAQObYZgAAAAlwSFlzAAAO\n",
       "xAAADsQBlSsOGwAAAE5JREFUCNdj4GVgOM3AwPVyRg8DA8e69gMMDGwMIIBChpRdYGBgPsD9CMy1\n",
       "AJNyGxgsgeQFhhUMDHkMDAUMDIsZGDYysKxhYOAWTDzAAACiUg9DTWr5DAAAAABJRU5ErkJggg==\n",
       "\" style=\"display:inline;vertical-align:middle;\" /></a></td></tr>\n",
       "<tr><td colspan=4 style=\"text-align:left\"><strong>theory:</strong> tutorial</td></tr>\n",
       "<tr><td>8</td><td>Variable</td><td></td><td><a class=\"ProveItLink\" href=\"__pv_it/basic_expressions/2e5b33f8f44527195a10b6078888697e89a14e8e0/expr.ipynb\"><img src=\"data:image/png;base64,iVBORw0KGgoAAAANSUhEUgAAAA0AAAAJBAMAAAAbVLtZAAAAMFBMVEX///8QEBAyMjJUVFRERETu\n",
       "7u66urqYmJh2dnaIiIiqqqrMzMwiIiLc3NxmZmYAAADdGNx0AAAAAXRSTlMAQObYZgAAAAlwSFlz\n",
       "AAAOxAAADsQBlSsOGwAAAE9JREFUCNdjYHjAwMBwZwMD1wIgfX8CAx+QYuAoYEhjYHVgYL/A0MDA\n",
       "ZsDAwcBgwMC5gOEGA4M3w/4HrLoMDI3N0l8eFjAwhHy6UCjJwAAAJ3sRHWMNI4wAAAAASUVORK5C\n",
       "YII=\n",
       "\" style=\"display:inline;vertical-align:middle;\" /></a></td></tr>\n",
       "</table>\n"
      ],
      "text/plain": [
       "0. (x * 5 * omega)!\n",
       "   core type: Operation\n",
       "   class: <class 'demo_operations.Factorial'>\n",
       "   operator: 1\n",
       "   operand: 3\n",
       "1. !\n",
       "   core type: Literal\n",
       "   latex_format: !\n",
       "   theory: tutorial\n",
       "   class: <class 'proveit._core_.expression.label.literal.Literal'>\n",
       "   sub-expressions: \n",
       "2. (x * 5 * omega)\n",
       "   core type: ExprTuple\n",
       "   class: <class 'proveit._core_.expression.composite.expr_tuple.ExprTuple'>\n",
       "   sub-expressions: 3\n",
       "3. x * 5 * omega\n",
       "   core type: Operation\n",
       "   class: <class 'demo_operations.Multiply'>\n",
       "   operator: 4\n",
       "   operands: 5\n",
       "4. *\n",
       "   core type: Literal\n",
       "   latex_format: \\times\n",
       "   theory: tutorial\n",
       "   class: <class 'proveit._core_.expression.label.literal.Literal'>\n",
       "   sub-expressions: \n",
       "5. (x, 5, omega)\n",
       "   core type: ExprTuple\n",
       "   class: <class 'proveit._core_.expression.composite.expr_tuple.ExprTuple'>\n",
       "   sub-expressions: 6, 7, 8\n",
       "6. x\n",
       "   core type: Variable\n",
       "   latex_format: x\n",
       "   class: <class 'proveit._core_.expression.label.var.Variable'>\n",
       "   sub-expressions: \n",
       "7. 5\n",
       "   core type: Literal\n",
       "   latex_format: 5\n",
       "   theory: tutorial\n",
       "   class: <class 'proveit._core_.expression.label.literal.Literal'>\n",
       "   sub-expressions: \n",
       "8. omega\n",
       "   core type: Variable\n",
       "   latex_format: \\omega\n",
       "   class: <class 'proveit._core_.expression.label.var.Variable'>\n",
       "   sub-expressions: "
      ]
     },
     "metadata": {},
     "output_type": "display_data"
    }
   ],
   "source": [
    "nested_operation_from_sub.expr_info(details=True)"
   ]
  },
  {
   "cell_type": "markdown",
   "metadata": {},
   "source": [
    "Furthermore, this expression that we obtained via substitution is equivalent to the one constructed directly:"
   ]
  },
  {
   "cell_type": "code",
   "execution_count": 60,
   "metadata": {},
   "outputs": [
    {
     "name": "stdout",
     "output_type": "stream",
     "text": [
      "Expressions, generated in different ways, are the same: True\n"
     ]
    }
   ],
   "source": [
    "print(\"Expressions, generated in different ways, are the same:\", \n",
    "      (nested_operation_from_sub == nested_operation))"
   ]
  },
  {
   "cell_type": "markdown",
   "metadata": {},
   "source": [
    "### Operator substitution\n",
    "\n",
    "The *operator* itself may likewise be *substituted*, but with some interesting extra capabilities."
   ]
  },
  {
   "cell_type": "markdown",
   "metadata": {},
   "source": [
    "It is straightforward to substitute a **Variable** *operator* with another **Variable** (i.e., relabel). Here we relabel the $f$ in $f(x)$ to $g$ to obtain $g(x)$:"
   ]
  },
  {
   "cell_type": "code",
   "execution_count": 61,
   "metadata": {},
   "outputs": [
    {
     "data": {
      "text/html": [
       "<a class=\"ProveItLink\" href=\"../packages/proveit/__pv_it/common/1d2b81c6e4903ee4506b066df3feec8a729a56a80/expr.ipynb\"><img src=\"data:image/png;base64,iVBORw0KGgoAAAANSUhEUgAAACgAAAAVBAMAAADGNLEtAAAAMFBMVEX///8iIiJmZma6urrMzMxU\n",
       "VFTu7u5EREQQEBAyMjKYmJjc3NyIiIh2dnaqqqoAAADvjgrBAAAAAXRSTlMAQObYZgAAAAlwSFlz\n",
       "AAAOxAAADsQBlSsOGwAAAP5JREFUGNNjYICDDRCKmwEJ8DyA0MwHkATfwhinEGJsE2AszgS4INMC\n",
       "GItLAS7IgdDUBme9RAjOAtlwZheQ1AXinKMpd4FuuMrAwDuBux0qrcATwyTAwLCSgeF9AsMfoIAc\n",
       "0IYNXN9Ygfa9YGBoZWD5DRRsZmBgYWACu8ufgeUfA08DRBDoBLBvLBi4fjOwB0C0MzDYb2ADuvwh\n",
       "A9cHhnyQu2sYGNINIhh4gczlDGy/GeJB/gK6472bBoMdxHWmZxVBOh0ZGJLO8GmBgkoYxJ8EIhgd\n",
       "YB7iFmBwTWD5ghoMwKCJSMiEhGo1THA7yEhlCDsdJliNFPLc0Gjg2cAAAJSxN2h4XFPVAAAAAElF\n",
       "TkSuQmCC\n",
       "\" style=\"display:inline;vertical-align:middle;\" /></a>"
      ],
      "text/plain": [
       "g(x)"
      ]
     },
     "metadata": {},
     "output_type": "display_data"
    }
   ],
   "source": [
    "from proveit import g\n",
    "fx.basic_replaced({f:g}) # Variable operator to a different Variable"
   ]
  },
  {
   "cell_type": "markdown",
   "metadata": {},
   "source": [
    "And it is straightforward to *substitute* a **Variable** *operator* with a **Literal**."
   ]
  },
  {
   "cell_type": "code",
   "execution_count": 62,
   "metadata": {},
   "outputs": [
    {
     "data": {
      "text/html": [
       "<strong id=\"x_factorial_from_fx\">x_factorial_from_fx:</strong> <a class=\"ProveItLink\" href=\"__pv_it/basic_expressions/16e4be536ec1bea945af9bf50581cd4d68519e110/expr.ipynb\"><img src=\"data:image/png;base64,iVBORw0KGgoAAAANSUhEUgAAABAAAAAPBAMAAAAfXVIcAAAAMFBMVEX///9ERES6uroQEBAyMjLc\n",
       "3NyYmJgiIiJmZmaqqqp2dnbMzMxUVFSIiIju7u4AAAAd7oVFAAAAAXRSTlMAQObYZgAAAAlwSFlz\n",
       "AAAOxAAADsQBlSsOGwAAAGdJREFUCNdjYICAGijN+hnK4PsOZTB8gTFsYIwKBoa3d16vmsDgxcDQ\n",
       "wHuWo4DhGANbANs/ngSGTgZuBg4HoJpFQMx8AUhMBWL9AL4HQOqhwmEGLpAB8/c1M2gy8H1heHGX\n",
       "s20C0EAALg8ZQKafvioAAAAASUVORK5CYII=\n",
       "\" style=\"display:inline;vertical-align:middle;\" /></a><br>"
      ],
      "text/plain": [
       "<IPython.core.display.HTML object>"
      ]
     },
     "metadata": {},
     "output_type": "display_data"
    }
   ],
   "source": [
    "x_factorial_from_fx = fx.basic_replaced({f:FACTORIAL})"
   ]
  },
  {
   "cell_type": "code",
   "execution_count": 63,
   "metadata": {},
   "outputs": [
    {
     "data": {
      "text/html": [
       "<table><tr><th>&nbsp;</th><th>core type</th><th>sub-expressions</th><th>expression</th></tr>\n",
       "<tr><td>0</td><td>Operation</td><td>operator:&nbsp;1<br>operand:&nbsp;3<br></td><td><a class=\"ProveItLink\" href=\"__pv_it/basic_expressions/16e4be536ec1bea945af9bf50581cd4d68519e110/expr.ipynb\"><img src=\"data:image/png;base64,iVBORw0KGgoAAAANSUhEUgAAABAAAAAPBAMAAAAfXVIcAAAAMFBMVEX///9ERES6uroQEBAyMjLc\n",
       "3NyYmJgiIiJmZmaqqqp2dnbMzMxUVFSIiIju7u4AAAAd7oVFAAAAAXRSTlMAQObYZgAAAAlwSFlz\n",
       "AAAOxAAADsQBlSsOGwAAAGdJREFUCNdjYICAGijN+hnK4PsOZTB8gTFsYIwKBoa3d16vmsDgxcDQ\n",
       "wHuWo4DhGANbANs/ngSGTgZuBg4HoJpFQMx8AUhMBWL9AL4HQOqhwmEGLpAB8/c1M2gy8H1heHGX\n",
       "s20C0EAALg8ZQKafvioAAAAASUVORK5CYII=\n",
       "\" style=\"display:inline;vertical-align:middle;\" /></a></td></tr>\n",
       "<tr><td colspan=4 style=\"text-align:left\"><strong>class:</strong> tutorial.demo_operations.Factorial</td></tr>\n",
       "<tr><td>1</td><td>Literal</td><td></td><td><a class=\"ProveItLink\" href=\"__pv_it/basic_expressions/fd03761321b547da82c74b2ed8e2f909ca4de7640/expr.ipynb\"><img src=\"data:image/png;base64,iVBORw0KGgoAAAANSUhEUgAAAAMAAAAPBAMAAADTxGj3AAAAJ1BMVEX///+6urqqqqqYmJh2dnZm\n",
       "ZmYyMjLu7u4QEBDc3NxUVFQiIiIAAABmOgpVAAAAAXRSTlMAQObYZgAAAAlwSFlzAAAOxAAADsQB\n",
       "lSsOGwAAADBJREFUCNdj4F7AMKeBoWYDA08CA8cCBu4ABjYHBi4DBlYFBhYBBqYJDBBQkwCUAgC+\n",
       "MAbl3fBGuQAAAABJRU5ErkJggg==\n",
       "\" style=\"display:inline;vertical-align:middle;\" /></a></td></tr>\n",
       "<tr><td colspan=4 style=\"text-align:left\"><strong>theory:</strong> tutorial</td></tr>\n",
       "<tr><td>2</td><td>ExprTuple</td><td>3</td><td><a class=\"ProveItLink\" href=\"../packages/proveit/__pv_it/common/eacfeccc0521684fcb20fe8f5180ac50fca471f20/expr.ipynb\"><img src=\"data:image/png;base64,iVBORw0KGgoAAAANSUhEUgAAABgAAAAVBAMAAACuxzMVAAAAMFBMVEX////MzMxUVFRERES6uroi\n",
       "IiIQEBCYmJhmZmYyMjLu7u52dnaqqqqIiIjc3NwAAACW8nlqAAAAAXRSTlMAQObYZgAAAAlwSFlz\n",
       "AAAOxAAADsQBlSsOGwAAALhJREFUGNNjYGB4wAAGfCCC9wCEw3IBSJxmgILrDAxcE2AczgUMHAUw\n",
       "DnsDAxsDHGQxnERwpjN0A8m1lxbuBpq5CchlYGjg1eUIYGCoZIgB6nzA/osJaM4xhhQGBkYGDrD5\n",
       "8iAOAwMbyHYGN5AyBgb/B1wLGBiOMtgyMCx2UGPgBgoVA81jOC/VxuAD5HQziDIwrLjL0w5yeggD\n",
       "qwDMAXwBIOdBAcjJdjDOYyBeDOOARPkuQNi8DxgAz0wljM0iLrAAAAAASUVORK5CYII=\n",
       "\" style=\"display:inline;vertical-align:middle;\" /></a></td></tr>\n",
       "<tr><td>3</td><td>Variable</td><td></td><td><a class=\"ProveItLink\" href=\"__pv_it/basic_expressions/a0d9d672aa5e272d907247690c152cc2c6daafb70/expr.ipynb\"><img src=\"data:image/png;base64,iVBORw0KGgoAAAANSUhEUgAAAAsAAAAJBAMAAAAWSsseAAAAMFBMVEX///9ERES6uroQEBAyMjLc\n",
       "3NyYmJgiIiJmZmaqqqp2dnbMzMxUVFSIiIju7u4AAAAd7oVFAAAAAXRSTlMAQObYZgAAAAlwSFlz\n",
       "AAAOxAAADsQBlSsOGwAAAENJREFUCNdjYHh75/WqCQwMDbxnOQoY2ALY/vEkMHAzcDgwgADzBTCl\n",
       "H8D3gOGhwmEGLgaG+fuaGTQZGF7c5WybwAAAJTwQ1a2DuB8AAAAASUVORK5CYII=\n",
       "\" style=\"display:inline;vertical-align:middle;\" /></a></td></tr>\n",
       "</table>\n"
      ],
      "text/plain": [
       "0. x!\n",
       "   core type: Operation\n",
       "   class: <class 'demo_operations.Factorial'>\n",
       "   operator: 1\n",
       "   operand: 3\n",
       "1. !\n",
       "   core type: Literal\n",
       "   latex_format: !\n",
       "   theory: tutorial\n",
       "   class: <class 'proveit._core_.expression.label.literal.Literal'>\n",
       "   sub-expressions: \n",
       "2. (x)\n",
       "   core type: ExprTuple\n",
       "   class: <class 'proveit._core_.expression.composite.expr_tuple.ExprTuple'>\n",
       "   sub-expressions: 3\n",
       "3. x\n",
       "   core type: Variable\n",
       "   latex_format: x\n",
       "   class: <class 'proveit._core_.expression.label.var.Variable'>\n",
       "   sub-expressions: "
      ]
     },
     "metadata": {},
     "output_type": "display_data"
    }
   ],
   "source": [
    "x_factorial_from_fx.expr_info(details=True)"
   ]
  },
  {
   "cell_type": "code",
   "execution_count": 64,
   "metadata": {},
   "outputs": [],
   "source": [
    "assert x_factorial_from_fx == x_factorial # Same"
   ]
  },
  {
   "cell_type": "markdown",
   "metadata": {},
   "source": [
    "It is able to generate the new **expression** in the appropriate `Factorial` class via the internal mechanisms that use its `_operator_` class attribute."
   ]
  },
  {
   "cell_type": "markdown",
   "metadata": {},
   "source": [
    "Performing an *expression substitution* of a `Literal` *operator* within an `Operation` class will typically be blocked because it will not know how to make the new **expression**:"
   ]
  },
  {
   "cell_type": "code",
   "execution_count": 65,
   "metadata": {},
   "outputs": [
    {
     "name": "stdout",
     "output_type": "stream",
     "text": [
      "EXPECTED ERROR: An implicit operator may not be changed (sum vs !)\n"
     ]
    }
   ],
   "source": [
    "from proveit import OperationError\n",
    "# But this will typically be prevented (appropriately) in trying to remake a derived Operation class:\n",
    "try:\n",
    "    x_factorial.basic_replaced({FACTORIAL:SUMMATION})\n",
    "    assert False, \"Expecting an OperationError error; should not make it to this point\"\n",
    "except OperationError as e:\n",
    "    print(\"EXPECTED ERROR:\", e)"
   ]
  },
  {
   "cell_type": "markdown",
   "metadata": {},
   "source": [
    "### <a name=\"Operation_sub\"></a>Operation substitution"
   ]
  },
  {
   "cell_type": "markdown",
   "metadata": {},
   "source": [
    "The more interesting and useful case is to *substitute* the `Operation` itself. Here we convert $f(x)$ to $x!$ by substituting a `Lambda` mapping for the function variabe $f$:"
   ]
  },
  {
   "cell_type": "code",
   "execution_count": 66,
   "metadata": {},
   "outputs": [
    {
     "data": {
      "text/html": [
       "<strong id=\"fancy_factorial_map\">fancy_factorial_map:</strong> <a class=\"ProveItLink\" href=\"__pv_it/basic_expressions/3c7bfba1c4ead974c74ebe7a6b7f31bbb06dcb170/expr.ipynb\"><img src=\"data:image/png;base64,iVBORw0KGgoAAAANSUhEUgAAAG4AAAAVCAMAAACQYCvLAAAANlBMVEX///8WFhYNDQ3c3NwyMjK6\n",
       "urpEREQiIiLMzMwQEBCqqqp2dnZUVFSYmJhmZmaIiIju7u4AAADAoEoQAAAAAXRSTlMAQObYZgAA\n",
       "AAlwSFlzAAAOxAAADsQBlSsOGwAAAXVJREFUSMedVtdiwyAMpGUPM/7/Z8uQW4TVFsODSZw7Tpsw\n",
       "9nZxdrbOeMm95+hQHzIdqDl/4Fex3dDrNTOLAxNz0X0X+S0zXicJKMPIK/6bqSXB9ijfNsBOuIde\n",
       "OWyQ+yWWAaziii4VOEXU2OTUI5TD/RtG4liOQlkpjGszbQ+MgPry9YtnroXoKqSAQ/aKkbqVAkKz\n",
       "GsIEyPglmHEsNoWgSDmW1BRd3ZvuQRl6SA1hIvRqNaAeZlsD2rsLPz80WqXIn5xLyC6mDL1ZDWM8\n",
       "nGCaq7Lk9snQ3kkh2SL3oBByCOOgkmQLb2zllixdHAb1poaoLBQimBSGuXa2CveDkBOo8RSEb6FQ\n",
       "pfLE1FLpiQzN8+9xIf/oOw/shUI1woTJMFVGH+XgUyz0/eBxPgy4vlICwPg0BibM3eb6dsVvjt7J\n",
       "/B0KxnANr7LdvMXGlN2hEJg+ZnRNf9i+xRTfpDwxY6C6K0W5f3epTcoTo07+PvDEzla/y74AjPwP\n",
       "gt/3WNIAAAAASUVORK5CYII=\n",
       "\" style=\"display:inline;vertical-align:middle;\" /></a><br>"
      ],
      "text/plain": [
       "<IPython.core.display.HTML object>"
      ]
     },
     "metadata": {},
     "output_type": "display_data"
    }
   ],
   "source": [
    "from proveit import Lambda\n",
    "fancy_factorial_map = Lambda(y, Multiply(y, Factorial(y)))"
   ]
  },
  {
   "cell_type": "markdown",
   "metadata": {},
   "source": [
    "The <a href=\"#Lambda\">`Lambda`</a> core type will be discussed in more detail below.  We use it here for a quick example."
   ]
  },
  {
   "cell_type": "code",
   "execution_count": 67,
   "metadata": {},
   "outputs": [
    {
     "data": {
      "text/html": [
       "<a class=\"ProveItLink\" href=\"__pv_it/basic_expressions/1e0a9376897103e289f4d40451a1dece707c52830/expr.ipynb\"><img src=\"data:image/png;base64,iVBORw0KGgoAAAANSUhEUgAAADYAAAAPBAMAAABdHiGLAAAAMFBMVEX///9ERES6uroQEBAyMjLc\n",
       "3NyYmJgiIiJmZmaqqqp2dnbMzMxUVFSIiIju7u4AAAAd7oVFAAAAAXRSTlMAQObYZgAAAAlwSFlz\n",
       "AAAOxAAADsQBlSsOGwAAAKBJREFUGNNjYMAJanBLsX7GLcf3Hbccwxc8cjZI7KNAHIjEr2BgeHvn\n",
       "9aoJIHb4BgbWarAoRMiLgaGB9yxHAdhh1SBpEIAIHWNgC2D7x5MAFgrfCtEGFepk4GbgcID5qByi\n",
       "DSq0CIiZL6DJQYWmArF+AN8DFDPhQg8VDjNwMaC4BS40f18zgyYDih8gQnxfGF7c5WwDe4/hNBCH\n",
       "gBhQoQoACSs3y6Iy+EIAAAAASUVORK5CYII=\n",
       "\" style=\"display:inline;vertical-align:middle;\" /></a>"
      ],
      "text/plain": [
       "x * x!"
      ]
     },
     "metadata": {},
     "output_type": "display_data"
    }
   ],
   "source": [
    "fx.basic_replaced({f:fancy_factorial_map})"
   ]
  },
  {
   "cell_type": "markdown",
   "metadata": {},
   "source": [
    "Note that the operand is still $x$ (not $y$).  This is substituting the *operation*, not the operand.  If desired, however, it could be substituted simultaneously:"
   ]
  },
  {
   "cell_type": "code",
   "execution_count": 68,
   "metadata": {},
   "outputs": [
    {
     "data": {
      "text/html": [
       "<strong id=\"fancy_omega_fn\">fancy_omega_fn:</strong> <a class=\"ProveItLink\" href=\"__pv_it/basic_expressions/d6b58a181b1f030794af7ffa5d9fc89751ac98c00/expr.ipynb\"><img src=\"data:image/png;base64,iVBORw0KGgoAAAANSUhEUgAAADkAAAAPBAMAAACsFXoGAAAAMFBMVEX///8QEBAyMjJUVFRERETu\n",
       "7u66urqYmJh2dnaIiIiqqqrMzMwiIiLc3NxmZmYAAADdGNx0AAAAAXRSTlMAQObYZgAAAAlwSFlz\n",
       "AAAOxAAADsQBlSsOGwAAALBJREFUGNNjYMANeAzwSDLcF8AnG38Anyy/Aj5ZRhR7bYH4CrKrHjAw\n",
       "ABHDnQ0MEJL3NFgcIsbUwMC1AOS6CSAxoBREGVSMuYCBD8TlKABrubMXohUqxreAIY2B1YGB/QJY\n",
       "lPcMWCtMjCOBoYGBzYCBgwFFFirGdYHBgIFzAcMNBhSTEWLeDPsfsOoyoLgKIdbYLP3lIdRRMB9B\n",
       "xeIVGEI+XSiUhBhsDcSXQAyoGM8DAK/iPafcdp0LAAAAAElFTkSuQmCC\n",
       "\" style=\"display:inline;vertical-align:middle;\" /></a><br>"
      ],
      "text/plain": [
       "<IPython.core.display.HTML object>"
      ]
     },
     "metadata": {},
     "output_type": "display_data"
    }
   ],
   "source": [
    "fancy_omega_fn = fx.basic_replaced({f:fancy_factorial_map, x:omega})"
   ]
  },
  {
   "cell_type": "code",
   "execution_count": 69,
   "metadata": {},
   "outputs": [
    {
     "data": {
      "text/html": [
       "<table><tr><th>&nbsp;</th><th>core type</th><th>sub-expressions</th><th>expression</th></tr>\n",
       "<tr><td>0</td><td>Operation</td><td>operator:&nbsp;1<br>operands:&nbsp;2<br></td><td><a class=\"ProveItLink\" href=\"__pv_it/basic_expressions/d6b58a181b1f030794af7ffa5d9fc89751ac98c00/expr.ipynb\"><img src=\"data:image/png;base64,iVBORw0KGgoAAAANSUhEUgAAADkAAAAPBAMAAACsFXoGAAAAMFBMVEX///8QEBAyMjJUVFRERETu\n",
       "7u66urqYmJh2dnaIiIiqqqrMzMwiIiLc3NxmZmYAAADdGNx0AAAAAXRSTlMAQObYZgAAAAlwSFlz\n",
       "AAAOxAAADsQBlSsOGwAAALBJREFUGNNjYMANeAzwSDLcF8AnG38Anyy/Aj5ZRhR7bYH4CrKrHjAw\n",
       "ABHDnQ0MEJL3NFgcIsbUwMC1AOS6CSAxoBREGVSMuYCBD8TlKABrubMXohUqxreAIY2B1YGB/QJY\n",
       "lPcMWCtMjCOBoYGBzYCBgwFFFirGdYHBgIFzAcMNBhSTEWLeDPsfsOoyoLgKIdbYLP3lIdRRMB9B\n",
       "xeIVGEI+XSiUhBhsDcSXQAyoGM8DAK/iPafcdp0LAAAAAElFTkSuQmCC\n",
       "\" style=\"display:inline;vertical-align:middle;\" /></a></td></tr>\n",
       "<tr><td colspan=4 style=\"text-align:left\"><strong>class:</strong> tutorial.demo_operations.Multiply</td></tr>\n",
       "<tr><td>1</td><td>Literal</td><td></td><td><a class=\"ProveItLink\" href=\"__pv_it/basic_expressions/24e3bd884eb4491d941ad30be1fd76fc379da19e0/expr.ipynb\"><img src=\"data:image/png;base64,iVBORw0KGgoAAAANSUhEUgAAAAsAAAAKBAMAAACQ3rmwAAAAGFBMVEX///8yMjLMzMwiIiJERETc\n",
       "3NxUVFQAAAB2r991AAAAAXRSTlMAQObYZgAAAAlwSFlzAAAOxAAADsQBlSsOGwAAAC5JREFUCNdj\n",
       "SGVgYAhhYAhWYGA1YgBhIAvIVQVygFxjBSQKIghVAtWQBBQJZAAA2bMGGZgz/L4AAAAASUVORK5C\n",
       "YII=\n",
       "\" style=\"display:inline;vertical-align:middle;\" /></a></td></tr>\n",
       "<tr><td colspan=4 style=\"text-align:left\"><strong>theory:</strong> tutorial</td></tr>\n",
       "<tr><td>2</td><td>ExprTuple</td><td>6, 3</td><td><a class=\"ProveItLink\" href=\"__pv_it/basic_expressions/a603d95c2ba85eeb8990f8cbb5ba52e72bebe07c0/expr.ipynb\"><img src=\"data:image/png;base64,iVBORw0KGgoAAAANSUhEUgAAADcAAAAVBAMAAAAQkWtIAAAAMFBMVEX////MzMxUVFRERES6uroi\n",
       "IiIQEBCYmJhmZmYyMjLu7u52dnaqqqqIiIjc3NwAAACW8nlqAAAAAXRSTlMAQObYZgAAAAlwSFlz\n",
       "AAAOxAAADsQBlSsOGwAAARZJREFUKM9tkq9Pw1AUhb/96NqtXZlBU4WexAANnmSIOUQFAYGpRJE6\n",
       "BGaOBEGaTCHIGgwWS0D0DyBkBg0SBAn3Nt2DJu8ltz3nfnk3tycFllhP1R4+WogTsa/vZ9u1j4Rh\n",
       "CoOZDS4mcA1eaoNrcuUMetZtepFUzpMVOhn0Uy5FelLhQdWtZb8AP+JK3It2fipYy7Zs4s44FJdp\n",
       "+6GCtfTk44OEI+jGzOFc2yvpx9D6VOjDHhQKVzKQ8LqJjm3DK2EF/0mCCdvQGbW+uF2S/0k97ph7\n",
       "mXW6ubF1wuDbSBaSkFewLvHu3rjHJUxzIzUEJ8YZmViCvJHSu0zOjPObEV5I7Rh312DhWB5zY8sG\n",
       "7OjOYWn/h97gF7r9PjczB1tHAAAAAElFTkSuQmCC\n",
       "\" style=\"display:inline;vertical-align:middle;\" /></a></td></tr>\n",
       "<tr><td>3</td><td>Operation</td><td>operator:&nbsp;4<br>operand:&nbsp;6<br></td><td><a class=\"ProveItLink\" href=\"__pv_it/basic_expressions/36fa7e8b7c26e40949afbaf440db8a7be37711f60/expr.ipynb\"><img src=\"data:image/png;base64,iVBORw0KGgoAAAANSUhEUgAAABIAAAAPBAMAAAAbqIIhAAAAMFBMVEX///8QEBAyMjJUVFRERETu\n",
       "7u66urqYmJh2dnaIiIiqqqrMzMwiIiLc3NxmZmYAAADdGNx0AAAAAXRSTlMAQObYZgAAAAlwSFlz\n",
       "AAAOxAAADsQBlSsOGwAAAG9JREFUCNdjYICCwzAG70cYi/UPjMXwCc4ShrPOMTA8AFJ3NjBoMHAt\n",
       "ALLuT2AwZ+ADSXEUMLxiSGNgdWBgv8DQxtDAwGbAwMHAsJbBgIFzAcMNkBJvhv0PWHVBrMZm6S8P\n",
       "CxhYPzGEfLpQKAkyGQB5CxnzHCw2lQAAAABJRU5ErkJggg==\n",
       "\" style=\"display:inline;vertical-align:middle;\" /></a></td></tr>\n",
       "<tr><td colspan=4 style=\"text-align:left\"><strong>class:</strong> tutorial.demo_operations.Factorial</td></tr>\n",
       "<tr><td>4</td><td>Literal</td><td></td><td><a class=\"ProveItLink\" href=\"__pv_it/basic_expressions/fd03761321b547da82c74b2ed8e2f909ca4de7640/expr.ipynb\"><img src=\"data:image/png;base64,iVBORw0KGgoAAAANSUhEUgAAAAMAAAAPBAMAAADTxGj3AAAAJ1BMVEX///+6urqqqqqYmJh2dnZm\n",
       "ZmYyMjLu7u4QEBDc3NxUVFQiIiIAAABmOgpVAAAAAXRSTlMAQObYZgAAAAlwSFlzAAAOxAAADsQB\n",
       "lSsOGwAAADBJREFUCNdj4F7AMKeBoWYDA08CA8cCBu4ABjYHBi4DBlYFBhYBBqYJDBBQkwCUAgC+\n",
       "MAbl3fBGuQAAAABJRU5ErkJggg==\n",
       "\" style=\"display:inline;vertical-align:middle;\" /></a></td></tr>\n",
       "<tr><td colspan=4 style=\"text-align:left\"><strong>theory:</strong> tutorial</td></tr>\n",
       "<tr><td>5</td><td>ExprTuple</td><td>6</td><td><a class=\"ProveItLink\" href=\"__pv_it/basic_expressions/65138951db209041c5ef2dd086dfa182817f82b40/expr.ipynb\"><img src=\"data:image/png;base64,iVBORw0KGgoAAAANSUhEUgAAABoAAAAVBAMAAACqMuMoAAAAMFBMVEX////MzMxUVFRERES6uroi\n",
       "IiIQEBCYmJhmZmYyMjLu7u52dnaqqqqIiIjc3NwAAACW8nlqAAAAAXRSTlMAQObYZgAAAAlwSFlz\n",
       "AAAOxAAADsQBlSsOGwAAALxJREFUGNNjYGB4wAABfCCC9wCUx3IBSJxmgIHrDAxcE+A8zgUMHAVw\n",
       "HnsDAxsDAmQxnETiTWfoBpINQPxUgIFhE5DPwAOy4z3Q/EqGGAYGDpAqbqBpxxhSGBhcGLgMGNiB\n",
       "TpIH8TYwsCgwcAPl3UAqFUCuew3kHWWwZWAwZJBv4JoH5BUDTWXYtinxcxvISd0MogwMi38+KMsF\n",
       "mRvCwCoAdwpfAMipMADygB2c9xiIF8N5IHG+C1AO7wMGABYVJr6IA2irAAAAAElFTkSuQmCC\n",
       "\" style=\"display:inline;vertical-align:middle;\" /></a></td></tr>\n",
       "<tr><td>6</td><td>Variable</td><td></td><td><a class=\"ProveItLink\" href=\"__pv_it/basic_expressions/2e5b33f8f44527195a10b6078888697e89a14e8e0/expr.ipynb\"><img src=\"data:image/png;base64,iVBORw0KGgoAAAANSUhEUgAAAA0AAAAJBAMAAAAbVLtZAAAAMFBMVEX///8QEBAyMjJUVFRERETu\n",
       "7u66urqYmJh2dnaIiIiqqqrMzMwiIiLc3NxmZmYAAADdGNx0AAAAAXRSTlMAQObYZgAAAAlwSFlz\n",
       "AAAOxAAADsQBlSsOGwAAAE9JREFUCNdjYHjAwMBwZwMD1wIgfX8CAx+QYuAoYEhjYHVgYL/A0MDA\n",
       "ZsDAwcBgwMC5gOEGA4M3w/4HrLoMDI3N0l8eFjAwhHy6UCjJwAAAJ3sRHWMNI4wAAAAASUVORK5C\n",
       "YII=\n",
       "\" style=\"display:inline;vertical-align:middle;\" /></a></td></tr>\n",
       "</table>\n"
      ],
      "text/plain": [
       "0. omega * omega!\n",
       "   core type: Operation\n",
       "   class: <class 'demo_operations.Multiply'>\n",
       "   operator: 1\n",
       "   operands: 2\n",
       "1. *\n",
       "   core type: Literal\n",
       "   latex_format: \\times\n",
       "   theory: tutorial\n",
       "   class: <class 'proveit._core_.expression.label.literal.Literal'>\n",
       "   sub-expressions: \n",
       "2. (omega, omega!)\n",
       "   core type: ExprTuple\n",
       "   class: <class 'proveit._core_.expression.composite.expr_tuple.ExprTuple'>\n",
       "   sub-expressions: 6, 3\n",
       "3. omega!\n",
       "   core type: Operation\n",
       "   class: <class 'demo_operations.Factorial'>\n",
       "   operator: 4\n",
       "   operand: 6\n",
       "4. !\n",
       "   core type: Literal\n",
       "   latex_format: !\n",
       "   theory: tutorial\n",
       "   class: <class 'proveit._core_.expression.label.literal.Literal'>\n",
       "   sub-expressions: \n",
       "5. (omega)\n",
       "   core type: ExprTuple\n",
       "   class: <class 'proveit._core_.expression.composite.expr_tuple.ExprTuple'>\n",
       "   sub-expressions: 6\n",
       "6. omega\n",
       "   core type: Variable\n",
       "   latex_format: \\omega\n",
       "   class: <class 'proveit._core_.expression.label.var.Variable'>\n",
       "   sub-expressions: "
      ]
     },
     "metadata": {},
     "output_type": "display_data"
    }
   ],
   "source": [
    "fancy_omega_fn.expr_info(details=True)"
   ]
  },
  {
   "cell_type": "markdown",
   "metadata": {},
   "source": [
    "Note that by substituting $f$ with a `Lambda` expression, the entire `Operation` is substituted, not just the *operator*.  This is why `Lambda` *operator*s are not allowed (only `Label` operators); otherwise, such a substitution could be ambiguous or confusing (should it substitute the `Operation` or substitute the *operator* with the `Lambda` expression?).  This also highlights the fact that **Prove-It** is not a functional programming or lambda calculus.  Rather, **Prove-It** is designed for manipulating expressions as desired, and *operation substitution* is a useful and powerful, yet relatively straightforward tool for doing so."
   ]
  },
  {
   "cell_type": "markdown",
   "metadata": {},
   "source": [
    "<a name=\"Conditional\"></a>Conditional\n",
    "====\n",
    "\n",
    "A `Conditional` has one or more *values* associated with one or more *conditions*.  A given *value* is only pertinent if its associated *condition* is satisfied (known to be true).  MUST UPDATE THIS SECTION.  A CONDITIONAL ONLY HAS ONE VALUE AND CONDITION.  A CONDITIONAL SET"
   ]
  },
  {
   "cell_type": "code",
   "execution_count": 70,
   "metadata": {},
   "outputs": [],
   "source": [
    "from proveit import Conditional, ConditionalSet"
   ]
  },
  {
   "cell_type": "markdown",
   "metadata": {},
   "source": [
    "To create the `Conditional`, supply the *values* and *conditions* as separate arguments in the constructor.  This example invokes the `Neg`, `Less`, and `greater_eq`  <a href=\"#Operation\">`Operation`</a>s as well as the `zero` <a href=\"#Literal\">`Literal`</a>)"
   ]
  },
  {
   "cell_type": "code",
   "execution_count": 71,
   "metadata": {},
   "outputs": [
    {
     "data": {
      "text/html": [
       "<strong id=\"abs_cond\">abs_cond:</strong> <a class=\"ProveItLink\" href=\"__pv_it/basic_expressions/dab8ecfab14de917a1c133cb6431752486f593d70/expr.ipynb\"><img src=\"data:image/png;base64,iVBORw0KGgoAAAANSUhEUgAAAN8AAAAVBAMAAAA0pCbNAAAAMFBMVEX///9ERETMzMxUVFSYmJgQ\n",
       "EBDc3NxmZmYiIiJ2dnaqqqoyMjKIiIi6urru7u4AAAB85a56AAAAAXRSTlMAQObYZgAAAAlwSFlz\n",
       "AAAOxAAADsQBlSsOGwAAAqFJREFUSMetVk1oE0EUfsmmpkmToSJ4U3L1YvdgPIiUeFCLHgz2WiRS\n",
       "pBcPK1SxKBKK+ANVIl6sB8lFFATjQYsUhIUIilboxYuiWXupUlFQUPRQfDPzZnd2Nrss6hBmZ/K9\n",
       "+b7Z9zOzAMDeAcAGiGvxyN+2l++xexELl119lnv1z3rFdd614g2eqsGxGsDiyHKM2fyzRoKKhhaa\n",
       "2K0l2A55NOg5kGtOehq0Vgus2uxCAoeGCsHpBMGcQwMGYNkhiN3w/T0GcC2eQ0eFYD3J6UeCoeUY\n",
       "2PNbNNgE0PH6RWzBRLlg8UGS4MMEQRgjxZ8AI+0+7rnomSgXzGPOsKXRbTfD1p+7K/Nodp3q45Gd\n",
       "rY7bGiDavVPCuZxSRlQnKl32DBTF8O2GcJKHrns6LOiUdudxOwdV5G0VQwJkezvKd/MLKWVANaJP\n",
       "c7TXAJXJPojb3QeHvB1hdzRy6xait2meUYIKIMGtilLWVkA0dR40Qaq8ySfYDWBxVeCMyr3Hl3ir\n",
       "ZMXbo6kpqADp0p1iDVL25Dv4RNain80BCtkTnhQEmIiEfEAYvTYFFSCS5pyfNB0V1glTMIQijXAp\n",
       "lH/AF0Ow12C4nbtRQQnoZbER0JN0GCoi36U6KrI04wLbYtWhxYvbbx+Wq1DA5x5TUAF64e8F9CRf\n",
       "TUShpJGoJliwofhttV5uw1etIjvbT8IbfM4owWH+0wD9aBtss8NiNRFRYc15AYqNG3DBbBPYWffO\n",
       "AUSuBoKrS8VpvvIKRbs6vlL97mpA6JSb6VbEaiJSmU6FyFEu7NDRNutb3I9eiM30V090dW7B/EcI\n",
       "7ven0XsqX0sv2EphU+IHd0bdVsyNGByNX/tRFGzgnj6r+3xC/OaWw0o+arA5/QuWUllN7cLueDxJ\n",
       "479+0PwBlg3MmrgwG+8AAAAASUVORK5CYII=\n",
       "\" style=\"display:inline;vertical-align:middle;\" /></a><br>"
      ],
      "text/plain": [
       "<IPython.core.display.HTML object>"
      ]
     },
     "metadata": {},
     "output_type": "display_data"
    }
   ],
   "source": [
    "from proveit.numbers import zero, Neg, Less, greater_eq\n",
    "abs_cond = Conditional((x, Neg(x)), \n",
    "                       (greater_eq(x, zero), Less(x, zero)))"
   ]
  },
  {
   "cell_type": "code",
   "execution_count": 72,
   "metadata": {},
   "outputs": [
    {
     "data": {
      "text/plain": [
       "'{(x, -x) if x >= 0 ,  x < 0.'"
      ]
     },
     "metadata": {},
     "output_type": "display_data"
    }
   ],
   "source": [
    "# The string formatting is somewhat different:\n",
    "str(abs_cond)"
   ]
  },
  {
   "cell_type": "markdown",
   "metadata": {},
   "source": [
    "The `conditions` and `values` attributes may be used to access the *conditions* and *values* respectively."
   ]
  },
  {
   "cell_type": "code",
   "execution_count": 73,
   "metadata": {},
   "outputs": [
    {
     "data": {
      "text/html": [
       "<a class=\"ProveItLink\" href=\"__pv_it/basic_expressions/11eb5fe374b73010c519729b091151aa9237cb420/expr.ipynb\"><img src=\"data:image/png;base64,iVBORw0KGgoAAAANSUhEUgAAAJcAAAAVBAMAAAC5yWGZAAAAMFBMVEX////MzMxUVFRERES6uroi\n",
       "IiIQEBCYmJhmZmYyMjLu7u52dnaqqqqIiIjc3NwAAACW8nlqAAAAAXRSTlMAQObYZgAAAAlwSFlz\n",
       "AAAOxAAADsQBlSsOGwAAAnZJREFUOMuNlE1oE0EUx3/56iabTQyKF0VaQRQKQvy4WnLypBhBUbSV\n",
       "CJ4EISBKBT9y0SJFCfWgSCmREolKMeixFnJRFA9ZcqkHIwsieBH1pNQPnJndfOw0WxzI7Mybl/97\n",
       "7//+M4BD0Ej/h6U7FEyqEXgetXXL+2Cwg3J6O/gsuXQbljWjVR/svPjOIVUEs9yzmXd761mqDomK\n",
       "h+xl/2gwVqJhnoL7EC/2WZ9MdFZGnmQWo+Tuql7EqcFgF+A5TMKQz5w66eUSGcFagbPubnmb+y3o\n",
       "MNacnHdDs8JQhTf+U8NDW1ci9Bu8uvMb3L+WNSzjuPL+CcMNEkWmxWah9WCx01PrnurxUwH2A555\n",
       "vCeUMS74N9ujm1/46zAlWJHkiIpdSu2M57t6mJEeX+uE/sAll2DHUuSJ2MRp2df9DKd/CTAbo8y4\n",
       "SNYxVsLdPkTvdMCEzytlWg8n5Dcm0r/KtcoOZf18jD6wOlaBMxAi3iPDmnHLrBMVmQ0r21Zoy+9Q\n",
       "DjLcdB3Ds11FCbBDNqFvEkx42RqlsgGWaMB+5SxCVTtgcE4Hkw1oNogWZJkC1zErmjSEyIQ0XnYk\n",
       "G294ZRL9y2N/mexB1I6VZx/M57aT1EVbULWfV1RJXiQRERtzb7hAXZP4RWTtRlY2v7npBgf06zTO\n",
       "wwxKOFyR0y6ZolDy91oh2pHRwoRbR6xhnlbC2Qi1tjW16umoLQnaOSKXo3LaIn6hPOYt+/VlXeLm\n",
       "dEsEjuWIZYJfFdJ5//6w7mDM9daf6N7lgcP3CqDucvCQr8BY3xN0VI1erh81/4izRhVZMc2vEWxM\n",
       "25vZYF8VKG0HnqdWJfIlGOwD/AMB3KCavuGt3wAAAABJRU5ErkJggg==\n",
       "\" style=\"display:inline;vertical-align:middle;\" /></a>"
      ],
      "text/plain": [
       "(x >= 0) and (x < 0)"
      ]
     },
     "metadata": {},
     "output_type": "display_data"
    }
   ],
   "source": [
    "abs_cond.condition"
   ]
  },
  {
   "cell_type": "code",
   "execution_count": 74,
   "metadata": {},
   "outputs": [
    {
     "data": {
      "text/html": [
       "<a class=\"ProveItLink\" href=\"__pv_it/basic_expressions/fbf94fb40a5bef1d33ee05449cf99bae7205038f0/expr.ipynb\"><img src=\"data:image/png;base64,iVBORw0KGgoAAAANSUhEUgAAAD0AAAAVBAMAAAAHs/uBAAAAMFBMVEX////MzMxUVFRERES6uroi\n",
       "IiIQEBCYmJhmZmYyMjLu7u52dnaqqqqIiIjc3NwAAACW8nlqAAAAAXRSTlMAQObYZgAAAAlwSFlz\n",
       "AAAOxAAADsQBlSsOGwAAARxJREFUKM99krFLw0AUh7/WtI2XpHRx0cVJQRA6uCr9AxTr0M0hg6uQ\n",
       "0UG0ixYRoZvgFOlShUJxrYOj4mDoXsnirqMO4jsh1nAkB/ceP767d793d0BM1vgl3kMm39LhORPj\n",
       "BaC62ZwrsIMcfgDlHEw55CmPzwacSxqMr0fpLtRkZeEenEUuRbW9VbuZ4jbj6AQqXXYlxpWvYtrm\n",
       "EcfhMrg+e1DATpq8aemxQ40zLQvvmovPyLC2r4Pl6/qwHaswja1vbqV+k3XoNZZw4N8KtVb0GYqz\n",
       "OnfwMn/KJupzyt2Pvm9Jx/aQOehP3I6I1rSAuogeDyWXGpRqf5tCw+SbHNFOhGPeb0fmRiIGBq7W\n",
       "JfQSZd7BjP5g1Sjz+V7hB3IqPGqZTf6LAAAAAElFTkSuQmCC\n",
       "\" style=\"display:inline;vertical-align:middle;\" /></a>"
      ],
      "text/plain": [
       "(x, -x)"
      ]
     },
     "metadata": {},
     "output_type": "display_data"
    }
   ],
   "source": [
    "abs_cond.value"
   ]
  },
  {
   "cell_type": "markdown",
   "metadata": {},
   "source": [
    "This is the expression information breakdown for our `Conditional` example."
   ]
  },
  {
   "cell_type": "code",
   "execution_count": 75,
   "metadata": {},
   "outputs": [
    {
     "data": {
      "text/html": [
       "<table><tr><th>&nbsp;</th><th>core type</th><th>sub-expressions</th><th>expression</th></tr>\n",
       "<tr><td>0</td><td>Conditional</td><td>value:&nbsp;1<br>condition:&nbsp;2<br></td><td><a class=\"ProveItLink\" href=\"__pv_it/basic_expressions/dab8ecfab14de917a1c133cb6431752486f593d70/expr.ipynb\"><img src=\"data:image/png;base64,iVBORw0KGgoAAAANSUhEUgAAAN8AAAAVBAMAAAA0pCbNAAAAMFBMVEX///9ERETMzMxUVFSYmJgQ\n",
       "EBDc3NxmZmYiIiJ2dnaqqqoyMjKIiIi6urru7u4AAAB85a56AAAAAXRSTlMAQObYZgAAAAlwSFlz\n",
       "AAAOxAAADsQBlSsOGwAAAqFJREFUSMetVk1oE0EUfsmmpkmToSJ4U3L1YvdgPIiUeFCLHgz2WiRS\n",
       "pBcPK1SxKBKK+ANVIl6sB8lFFATjQYsUhIUIilboxYuiWXupUlFQUPRQfDPzZnd2Nrss6hBmZ/K9\n",
       "+b7Z9zOzAMDeAcAGiGvxyN+2l++xexELl119lnv1z3rFdd614g2eqsGxGsDiyHKM2fyzRoKKhhaa\n",
       "2K0l2A55NOg5kGtOehq0Vgus2uxCAoeGCsHpBMGcQwMGYNkhiN3w/T0GcC2eQ0eFYD3J6UeCoeUY\n",
       "2PNbNNgE0PH6RWzBRLlg8UGS4MMEQRgjxZ8AI+0+7rnomSgXzGPOsKXRbTfD1p+7K/Nodp3q45Gd\n",
       "rY7bGiDavVPCuZxSRlQnKl32DBTF8O2GcJKHrns6LOiUdudxOwdV5G0VQwJkezvKd/MLKWVANaJP\n",
       "c7TXAJXJPojb3QeHvB1hdzRy6xait2meUYIKIMGtilLWVkA0dR40Qaq8ySfYDWBxVeCMyr3Hl3ir\n",
       "ZMXbo6kpqADp0p1iDVL25Dv4RNain80BCtkTnhQEmIiEfEAYvTYFFSCS5pyfNB0V1glTMIQijXAp\n",
       "lH/AF0Ow12C4nbtRQQnoZbER0JN0GCoi36U6KrI04wLbYtWhxYvbbx+Wq1DA5x5TUAF64e8F9CRf\n",
       "TUShpJGoJliwofhttV5uw1etIjvbT8IbfM4owWH+0wD9aBtss8NiNRFRYc15AYqNG3DBbBPYWffO\n",
       "AUSuBoKrS8VpvvIKRbs6vlL97mpA6JSb6VbEaiJSmU6FyFEu7NDRNutb3I9eiM30V090dW7B/EcI\n",
       "7ven0XsqX0sv2EphU+IHd0bdVsyNGByNX/tRFGzgnj6r+3xC/OaWw0o+arA5/QuWUllN7cLueDxJ\n",
       "479+0PwBlg3MmrgwG+8AAAAASUVORK5CYII=\n",
       "\" style=\"display:inline;vertical-align:middle;\" /></a></td></tr>\n",
       "<tr><td>1</td><td>ExprTuple</td><td>14, 3</td><td><a class=\"ProveItLink\" href=\"__pv_it/basic_expressions/fbf94fb40a5bef1d33ee05449cf99bae7205038f0/expr.ipynb\"><img src=\"data:image/png;base64,iVBORw0KGgoAAAANSUhEUgAAAD0AAAAVBAMAAAAHs/uBAAAAMFBMVEX////MzMxUVFRERES6uroi\n",
       "IiIQEBCYmJhmZmYyMjLu7u52dnaqqqqIiIjc3NwAAACW8nlqAAAAAXRSTlMAQObYZgAAAAlwSFlz\n",
       "AAAOxAAADsQBlSsOGwAAARxJREFUKM99krFLw0AUh7/WtI2XpHRx0cVJQRA6uCr9AxTr0M0hg6uQ\n",
       "0UG0ixYRoZvgFOlShUJxrYOj4mDoXsnirqMO4jsh1nAkB/ceP767d793d0BM1vgl3kMm39LhORPj\n",
       "BaC62ZwrsIMcfgDlHEw55CmPzwacSxqMr0fpLtRkZeEenEUuRbW9VbuZ4jbj6AQqXXYlxpWvYtrm\n",
       "EcfhMrg+e1DATpq8aemxQ40zLQvvmovPyLC2r4Pl6/qwHaswja1vbqV+k3XoNZZw4N8KtVb0GYqz\n",
       "OnfwMn/KJupzyt2Pvm9Jx/aQOehP3I6I1rSAuogeDyWXGpRqf5tCw+SbHNFOhGPeb0fmRiIGBq7W\n",
       "JfQSZd7BjP5g1Sjz+V7hB3IqPGqZTf6LAAAAAElFTkSuQmCC\n",
       "\" style=\"display:inline;vertical-align:middle;\" /></a></td></tr>\n",
       "<tr><td>2</td><td>Operation</td><td>operator:&nbsp;4<br>operands:&nbsp;5<br></td><td><a class=\"ProveItLink\" href=\"__pv_it/basic_expressions/11eb5fe374b73010c519729b091151aa9237cb420/expr.ipynb\"><img src=\"data:image/png;base64,iVBORw0KGgoAAAANSUhEUgAAAJcAAAAVBAMAAAC5yWGZAAAAMFBMVEX////MzMxUVFRERES6uroi\n",
       "IiIQEBCYmJhmZmYyMjLu7u52dnaqqqqIiIjc3NwAAACW8nlqAAAAAXRSTlMAQObYZgAAAAlwSFlz\n",
       "AAAOxAAADsQBlSsOGwAAAnZJREFUOMuNlE1oE0EUx3/56iabTQyKF0VaQRQKQvy4WnLypBhBUbSV\n",
       "CJ4EISBKBT9y0SJFCfWgSCmREolKMeixFnJRFA9ZcqkHIwsieBH1pNQPnJndfOw0WxzI7Mybl/97\n",
       "7//+M4BD0Ej/h6U7FEyqEXgetXXL+2Cwg3J6O/gsuXQbljWjVR/svPjOIVUEs9yzmXd761mqDomK\n",
       "h+xl/2gwVqJhnoL7EC/2WZ9MdFZGnmQWo+Tuql7EqcFgF+A5TMKQz5w66eUSGcFagbPubnmb+y3o\n",
       "MNacnHdDs8JQhTf+U8NDW1ci9Bu8uvMb3L+WNSzjuPL+CcMNEkWmxWah9WCx01PrnurxUwH2A555\n",
       "vCeUMS74N9ujm1/46zAlWJHkiIpdSu2M57t6mJEeX+uE/sAll2DHUuSJ2MRp2df9DKd/CTAbo8y4\n",
       "SNYxVsLdPkTvdMCEzytlWg8n5Dcm0r/KtcoOZf18jD6wOlaBMxAi3iPDmnHLrBMVmQ0r21Zoy+9Q\n",
       "DjLcdB3Ds11FCbBDNqFvEkx42RqlsgGWaMB+5SxCVTtgcE4Hkw1oNogWZJkC1zErmjSEyIQ0XnYk\n",
       "G294ZRL9y2N/mexB1I6VZx/M57aT1EVbULWfV1RJXiQRERtzb7hAXZP4RWTtRlY2v7npBgf06zTO\n",
       "wwxKOFyR0y6ZolDy91oh2pHRwoRbR6xhnlbC2Qi1tjW16umoLQnaOSKXo3LaIn6hPOYt+/VlXeLm\n",
       "dEsEjuWIZYJfFdJ5//6w7mDM9daf6N7lgcP3CqDucvCQr8BY3xN0VI1erh81/4izRhVZMc2vEWxM\n",
       "25vZYF8VKG0HnqdWJfIlGOwD/AMB3KCavuGt3wAAAABJRU5ErkJggg==\n",
       "\" style=\"display:inline;vertical-align:middle;\" /></a></td></tr>\n",
       "<tr><td>3</td><td>Operation</td><td>operator:&nbsp;6<br>operand:&nbsp;14<br></td><td><a class=\"ProveItLink\" href=\"__pv_it/basic_expressions/8ae6bcf9f63d27c3e43ea63be5df603397837e130/expr.ipynb\"><img src=\"data:image/png;base64,iVBORw0KGgoAAAANSUhEUgAAABoAAAAJBAMAAADeJiHIAAAAMFBMVEX///9ERES6uroQEBDc3NyY\n",
       "mJhmZmaqqqp2dnZUVFSIiIjMzMwiIiIyMjLu7u4AAACpQbUJAAAAAXRSTlMAQObYZgAAAAlwSFlz\n",
       "AAAOxAAADsQBlSsOGwAAAElJREFUCNdjYIACvlXzdrTDOAxsDCsX5MB5IQzxD6YyvD0DAqcZNjDk\n",
       "MiADK2QO0xeGd3AjhTgNGBpgPPbfzwyYCuByWQvKwhkAWfkUsOQ//ckAAAAASUVORK5CYII=\n",
       "\" style=\"display:inline;vertical-align:middle;\" /></a></td></tr>\n",
       "<tr><td>4</td><td>Literal</td><td></td><td><a class=\"ProveItLink\" href=\"../packages/proveit/logic/booleans/conjunction/__pv_it/common/42118ff318bd65d98b1393f64ce7c2269feef76e0/expr.ipynb\"><img src=\"data:image/png;base64,iVBORw0KGgoAAAANSUhEUgAAAAwAAAANBAMAAABvB5JxAAAALVBMVEX///9mZmbc3NxERETMzMy6\n",
       "urpUVFSYmJiIiIgyMjIiIiLu7u6qqqp2dnYAAACMfHT6AAAAAXRSTlMAQObYZgAAAAlwSFlzAAAO\n",
       "xAAADsQBlSsOGwAAAEpJREFUCNdjYGDgPcAAArsmgKn2VDC1wBlE8lzgVABSnAo8AkDKjYFhNZBK\n",
       "YWDoYGDgBirfBdHMeICBCyjONIGhAqTJhCEbRHkAACjBC+w2ZjhuAAAAAElFTkSuQmCC\n",
       "\" style=\"display:inline;vertical-align:middle;\" /></a></td></tr>\n",
       "<tr><td>5</td><td>ExprTuple</td><td>8, 9</td><td><a class=\"ProveItLink\" href=\"__pv_it/basic_expressions/c8c4a51f6e2526ea93a196314f3ccfb86e85d4c20/expr.ipynb\"><img src=\"data:image/png;base64,iVBORw0KGgoAAAANSUhEUgAAAHkAAAAVBAMAAACQ4lxbAAAAMFBMVEX////MzMxUVFRERES6uroi\n",
       "IiIQEBCYmJhmZmYyMjLu7u52dnaqqqqIiIjc3NwAAACW8nlqAAAAAXRSTlMAQObYZgAAAAlwSFlz\n",
       "AAAOxAAADsQBlSsOGwAAAetJREFUOMudlM9LFGEYxz+7js76zrvbXrrkQb0UBMFSXQv/gMK9SEIa\n",
       "I3QN9lJ0iNpLSUghdkhEZESSxVga6mjCHA0PDnvyYuwl6FadKq3ofWccZ2dW57AvzPC8Pz7vPM/3\n",
       "eZ4B2vQ2Aq7o9Ujf1K+dk/esrZcZ5OZem2INxHy8Jl7H9jJvTg9p0BN3YAkKtY7Vt9ORZVaxKqfS\n",
       "9+EDPISBxHLxthMafSPIgxM4uaLfl2HXYcDhU3LXPMLP1Mn96YbNyWD7Fwx7DNaYU5Nma3UzUl4u\n",
       "BuG+U/TPUIz9i0Mfk64JTdewRtBC1YuXCtXoemNBn/jmkvsbzAu0/KdJWUqHivYx55lS7rTNg/yx\n",
       "eMariD4M5o954lwIrK+36KBdpM1dyFGI0yYXQs9djPDbZZ6HO/nl48wqetwn913TSng/JYtWTUaq\n",
       "3UvTWrVdD8PWnquL2sJJZayCeZQx4x8bSc+5ggoHWeUarI2dx0pXi63DUVeJq3kbN1VMD9DhmBXe\n",
       "KyfOPeNGulKnWC+L30qHHw3biNLZnA5d6/fEjMqGy1lo7MvZrkZrbI3ChIN44W8/SheTmGuV1R1j\n",
       "9JczWkk6XcW2Ettf1LSeQVuZDT6rnusdHToRjNibZhZc0j24lnHAz6L7dFmV/B7/TJ/hP48zgqQl\n",
       "x7DmAAAAAElFTkSuQmCC\n",
       "\" style=\"display:inline;vertical-align:middle;\" /></a></td></tr>\n",
       "<tr><td>6</td><td>Literal</td><td></td><td><a class=\"ProveItLink\" href=\"../packages/proveit/numbers/negation/__pv_it/common/221b3c4d1770ee9051b7c044c3f9ec61196fc34b0/expr.ipynb\"><img src=\"data:image/png;base64,iVBORw0KGgoAAAANSUhEUgAAAA4AAAABBAMAAAAcMII3AAAAElBMVEX////MzMwiIiIyMjLu7u4A\n",
       "AADe/Ps1AAAAAXRSTlMAQObYZgAAAAlwSFlzAAAOxAAADsQBlSsOGwAAAA1JREFUCNdjcFYCAUUA\n",
       "BKYBD24TAeoAAAAASUVORK5CYII=\n",
       "\" style=\"display:inline;vertical-align:middle;\" /></a></td></tr>\n",
       "<tr><td>7</td><td>ExprTuple</td><td>14</td><td><a class=\"ProveItLink\" href=\"../packages/proveit/__pv_it/common/eacfeccc0521684fcb20fe8f5180ac50fca471f20/expr.ipynb\"><img src=\"data:image/png;base64,iVBORw0KGgoAAAANSUhEUgAAABgAAAAVBAMAAACuxzMVAAAAMFBMVEX////MzMxUVFRERES6uroi\n",
       "IiIQEBCYmJhmZmYyMjLu7u52dnaqqqqIiIjc3NwAAACW8nlqAAAAAXRSTlMAQObYZgAAAAlwSFlz\n",
       "AAAOxAAADsQBlSsOGwAAALhJREFUGNNjYGB4wAAGfCCC9wCEw3IBSJxmgILrDAxcE2AczgUMHAUw\n",
       "DnsDAxsDHGQxnERwpjN0A8m1lxbuBpq5CchlYGjg1eUIYGCoZIgB6nzA/osJaM4xhhQGBkYGDrD5\n",
       "8iAOAwMbyHYGN5AyBgb/B1wLGBiOMtgyMCx2UGPgBgoVA81jOC/VxuAD5HQziDIwrLjL0w5yeggD\n",
       "qwDMAXwBIOdBAcjJdjDOYyBeDOOARPkuQNi8DxgAz0wljM0iLrAAAAAASUVORK5CYII=\n",
       "\" style=\"display:inline;vertical-align:middle;\" /></a></td></tr>\n",
       "<tr><td>8</td><td>Operation</td><td>operator:&nbsp;10<br>operands:&nbsp;11<br></td><td><a class=\"ProveItLink\" href=\"../packages/proveit/numbers/number_sets/real_numbers/__pv_it/theorems/ffcbd76494d8407c0ebebaa8c88703403e0e53b60/expr.ipynb\"><img src=\"data:image/png;base64,iVBORw0KGgoAAAANSUhEUgAAADEAAAARBAMAAACGHlkZAAAAMFBMVEX///9ERES6uroQEBAyMjLc\n",
       "3NyYmJgiIiJmZmaqqqp2dnbMzMxUVFSIiIju7u4AAAAd7oVFAAAAAXRSTlMAQObYZgAAAAlwSFlz\n",
       "AAAOxAAADsQBlSsOGwAAAL9JREFUGNNjYMAGVt0IQOI9SYAzWSbwlSLJ8C2/AGOmMzAsRDHj+joo\n",
       "Q4aBYf4DFKl0qNQPBob9ExgY3t55vWoCVGpKK9hckAzQ1gbesxwFMF0q54AE6y+gzAUGtgC2fzxw\n",
       "Z6nIwWQWMHAzcDjALZpyFGwaUEYf5FBmhGv74C6YD7JaP4DvAaqrBRkY8h8wPFQ4zMCF5tNkBoYW\n",
       "oLZ9zQyaaKHDPoHPmoHhxV3OtgloAcrXdWcDA2XgeTkIVMP5AFzBOzPS0ealAAAAAElFTkSuQmCC\n",
       "\" style=\"display:inline;vertical-align:middle;\" /></a></td></tr>\n",
       "<tr><td>9</td><td>Operation</td><td>operator:&nbsp;12<br>operands:&nbsp;13<br></td><td><a class=\"ProveItLink\" href=\"__pv_it/basic_expressions/06b534f428ea1735f3f463ace3205ece8e0326b20/expr.ipynb\"><img src=\"data:image/png;base64,iVBORw0KGgoAAAANSUhEUgAAADEAAAAQBAMAAABNQoq8AAAAMFBMVEX///9ERES6uroQEBAyMjLc\n",
       "3NyYmJgiIiJmZmaqqqp2dnbMzMxUVFSIiIju7u4AAAAd7oVFAAAAAXRSTlMAQObYZgAAAAlwSFlz\n",
       "AAAOxAAADsQBlSsOGwAAAMJJREFUGNNjYMAGVt0IwCrOwDKBrxS7TDoDw0J0MU5XECnDwDD/AaoE\n",
       "WwVY4AcDw/4JDAxv77xeNQEiwVsFluADySQwMDTwnuUoAEu8qoUoYP0FlLnAwBbA9o8nASQQUcaA\n",
       "JLOAgZuBwwHM5/GE2cYHlNG/AGQwX0CTAblgPshq/QC+ByimMQgyMOQ/YHiocJiBiwHFBQzJDAwt\n",
       "QG37mhk0oSJvayH+Y5/AZ83A8OIuZ9sEuE+hHuq6swE9dNhcGQgDAK5sNU4l3wi+AAAAAElFTkSu\n",
       "QmCC\n",
       "\" style=\"display:inline;vertical-align:middle;\" /></a></td></tr>\n",
       "<tr><td>10</td><td>Literal</td><td></td><td><a class=\"ProveItLink\" href=\"../packages/proveit/numbers/ordering/__pv_it/common/68379698d72b4689bbda4b5c5cca29ee599d70280/expr.ipynb\"><img src=\"data:image/png;base64,iVBORw0KGgoAAAANSUhEUgAAAA4AAAAQBAMAAADUulMJAAAAJ1BMVEX////MzMxUVFR2dnaIiIju\n",
       "7u5mZmYiIiKYmJjc3NwyMjKqqqoAAACJyMhGAAAAAXRSTlMAQObYZgAAAAlwSFlzAAAOxAAADsQB\n",
       "lSsOGwAAADxJREFUCNdjYAAB7pVgiqMsAESxFIOp4BKwYFgFmApaDaYYmKA0w7QKKAOqDq4Pbg7Q\n",
       "3IUMuEB4OQgUAgAK6Qy6oy+4kQAAAABJRU5ErkJggg==\n",
       "\" style=\"display:inline;vertical-align:middle;\" /></a></td></tr>\n",
       "<tr><td>11</td><td>ExprTuple</td><td>15, 14</td><td><a class=\"ProveItLink\" href=\"../packages/proveit/numbers/number_sets/real_numbers/__pv_it/theorems/e1549c2a39fe76392b537ca21abaf0f3eaf19b2d0/expr.ipynb\"><img src=\"data:image/png;base64,iVBORw0KGgoAAAANSUhEUgAAACwAAAAVBAMAAADP3xFXAAAAMFBMVEX////MzMxUVFRERES6uroi\n",
       "IiIQEBCYmJhmZmYyMjLu7u52dnaqqqqIiIjc3NwAAACW8nlqAAAAAXRSTlMAQObYZgAAAAlwSFlz\n",
       "AAAOxAAADsQBlSsOGwAAARlJREFUGNNdkT1LA0EQhp8zMXfeR5LGxkZt7IT8AcXKSvAK01lYWFkF\n",
       "rOyu0iIg6WwsTkRJEwy2ErAxIBYeNlbCgT/AUowKzrAXzrstZmafnX1ndhZIKa26muC+jKuJmCfw\n",
       "RqcF/gpuD865KijNxTgd7BCv9R/bETWoLOFPCioHPEIjwvop4DO6cCP40+wHLxd30tmtHPAxxPo1\n",
       "OApWnRCO2DX429RK7clMB8bsi8iQqsm2cHrqFxVLSX9asqYvZFNFKi3saYPbqRvDA2uiuKd3Zcfl\n",
       "xgqe+EPpBblx3XS/JHheOGZLfJd5sf3RMrQlvf/mn+hAd5htZqp+nA881LGY5eVvl/GxnsWDHL9r\n",
       "9SxOcqyZ9aT8aUHKHxxpQTfysxp9AAAAAElFTkSuQmCC\n",
       "\" style=\"display:inline;vertical-align:middle;\" /></a></td></tr>\n",
       "<tr><td>12</td><td>Literal</td><td></td><td><a class=\"ProveItLink\" href=\"../packages/proveit/numbers/ordering/__pv_it/common/fa503ed52033522c609eef1cf3e1b45796489da50/expr.ipynb\"><img src=\"data:image/png;base64,iVBORw0KGgoAAAANSUhEUgAAAA4AAAAOBAMAAADtZjDiAAAAJFBMVEX///9UVFR2dnaIiIju7u5m\n",
       "ZmYiIiKYmJjc3NwyMjKqqqoAAADJ1nS/AAAAAXRSTlMAQObYZgAAAAlwSFlzAAAOxAAADsQBlSsO\n",
       "GwAAADVJREFUCNdjYEAGXDPAFHuqA4hiTgJTTslgwdZ0MMU4iwGFhonD1TEwOCc7QBjsSTDGDJgN\n",
       "ANIMCHp77L37AAAAAElFTkSuQmCC\n",
       "\" style=\"display:inline;vertical-align:middle;\" /></a></td></tr>\n",
       "<tr><td>13</td><td>ExprTuple</td><td>14, 15</td><td><a class=\"ProveItLink\" href=\"../packages/proveit/numbers/number_sets/real_numbers/__pv_it/theorems/3206534f18b79458ee1d51bcb5c48f75d48416870/expr.ipynb\"><img src=\"data:image/png;base64,iVBORw0KGgoAAAANSUhEUgAAACsAAAAVBAMAAAAtAwouAAAAMFBMVEX////MzMxUVFRERES6uroi\n",
       "IiIQEBCYmJhmZmYyMjLu7u52dnaqqqqIiIjc3NwAAACW8nlqAAAAAXRSTlMAQObYZgAAAAlwSFlz\n",
       "AAAOxAAADsQBlSsOGwAAARhJREFUGNNdkS1PA0EQhp8C7V33PlJTgwGFI2lAQ/oDINTgCCkJP+AM\n",
       "BEcVDampI0EdqcE0aUDWrCWIXqpqIGfwyAKG2QtberfJbvZ9Znb2nV0gpTAyEOgiPjTLaw6NZylB\n",
       "BKq/TKtancI9uNEyvoBnuIJKrsYOTGIqMS85PIcNTTWiJ2I4fRhnfpTBEd4md6I6wbbbMjj8EZzg\n",
       "9DkBJ3W+V6IFHuG3OYcS7p9LJfgoofRpsNhJ/q+caNbapohkpCrO8C5cx/gt9mDQ3MIDE7iEW7ms\n",
       "wZMcW7/hAPUluKzVmXQ+og6Pb35XbB9LuupNaxJsUq7ZDv3Y7j6kTscKb/EEXZn7VgztJmzIMrDK\n",
       "emfV/FqYFD/tHX4BUBJBvtytx9IAAAAASUVORK5CYII=\n",
       "\" style=\"display:inline;vertical-align:middle;\" /></a></td></tr>\n",
       "<tr><td>14</td><td>Variable</td><td></td><td><a class=\"ProveItLink\" href=\"__pv_it/basic_expressions/a0d9d672aa5e272d907247690c152cc2c6daafb70/expr.ipynb\"><img src=\"data:image/png;base64,iVBORw0KGgoAAAANSUhEUgAAAAsAAAAJBAMAAAAWSsseAAAAMFBMVEX///9ERES6uroQEBAyMjLc\n",
       "3NyYmJgiIiJmZmaqqqp2dnbMzMxUVFSIiIju7u4AAAAd7oVFAAAAAXRSTlMAQObYZgAAAAlwSFlz\n",
       "AAAOxAAADsQBlSsOGwAAAENJREFUCNdjYHh75/WqCQwMDbxnOQoY2ALY/vEkMHAzcDgwgADzBTCl\n",
       "H8D3gOGhwmEGLgaG+fuaGTQZGF7c5WybwAAAJTwQ1a2DuB8AAAAASUVORK5CYII=\n",
       "\" style=\"display:inline;vertical-align:middle;\" /></a></td></tr>\n",
       "<tr><td>15</td><td>Literal</td><td></td><td><a class=\"ProveItLink\" href=\"../packages/proveit/numbers/numerals/__pv_it/common/dd4e19e8b134dfb293470ea55fe3589b0ab9f8040/expr.ipynb\"><img src=\"data:image/png;base64,iVBORw0KGgoAAAANSUhEUgAAAAoAAAAOBAMAAADkjZCYAAAAMFBMVEX///8QEBC6urrMzMxUVFRE\n",
       "RESYmJgiIiLu7u6qqqoyMjLc3NxmZmaIiIh2dnYAAABcDckaAAAAAXRSTlMAQObYZgAAAAlwSFlz\n",
       "AAAOxAAADsQBlSsOGwAAAFdJREFUCNdjYOB7e5qBgWElQ/sGBrYCBr4ABlYHBs4fDPwHGJh/MvQD\n",
       "yW8M+x8wMP8Fk/8Y+h8wMP0FyXL+ZGANYGD7wcAmwMCzgIGhkqHRgIGh560zAwAM3BhN1L/+/wAA\n",
       "AABJRU5ErkJggg==\n",
       "\" style=\"display:inline;vertical-align:middle;\" /></a></td></tr>\n",
       "</table>\n"
      ],
      "text/plain": [
       "0. {(x, -x) if x >= 0 ,  x < 0.\n",
       "   core type: Conditional\n",
       "   value: 1\n",
       "   condition: 2\n",
       "1. (x, -x)\n",
       "   core type: ExprTuple\n",
       "   sub-expressions: 14, 3\n",
       "2. (x >= 0) and (x < 0)\n",
       "   core type: Operation\n",
       "   operator: 4\n",
       "   operands: 5\n",
       "3. -x\n",
       "   core type: Operation\n",
       "   operator: 6\n",
       "   operand: 14\n",
       "4. and\n",
       "   core type: Literal\n",
       "   sub-expressions: \n",
       "5. (x >= 0, x < 0)\n",
       "   core type: ExprTuple\n",
       "   sub-expressions: 8, 9\n",
       "6. -\n",
       "   core type: Literal\n",
       "   sub-expressions: \n",
       "7. (x)\n",
       "   core type: ExprTuple\n",
       "   sub-expressions: 14\n",
       "8. x >= 0\n",
       "   core type: Operation\n",
       "   operator: 10\n",
       "   operands: 11\n",
       "9. x < 0\n",
       "   core type: Operation\n",
       "   operator: 12\n",
       "   operands: 13\n",
       "10. <=\n",
       "    core type: Literal\n",
       "    sub-expressions: \n",
       "11. (0, x)\n",
       "    core type: ExprTuple\n",
       "    sub-expressions: 15, 14\n",
       "12. <\n",
       "    core type: Literal\n",
       "    sub-expressions: \n",
       "13. (x, 0)\n",
       "    core type: ExprTuple\n",
       "    sub-expressions: 14, 15\n",
       "14. x\n",
       "    core type: Variable\n",
       "    sub-expressions: \n",
       "15. 0\n",
       "    core type: Literal\n",
       "    sub-expressions: "
      ]
     },
     "metadata": {},
     "output_type": "display_data"
    }
   ],
   "source": [
    "abs_cond.expr_info()"
   ]
  },
  {
   "cell_type": "markdown",
   "metadata": {},
   "source": [
    "It is actually common to have only one *condition*, indicating a value that is only defined when the condition is satisfied."
   ]
  },
  {
   "cell_type": "code",
   "execution_count": 76,
   "metadata": {},
   "outputs": [
    {
     "data": {
      "text/html": [
       "<strong id=\"div_cancel_cond\">div_cancel_cond:</strong> <a class=\"ProveItLink\" href=\"__pv_it/basic_expressions/4dda00671b93a7e9b6e94a0451b0c97cc668dc530/expr.ipynb\"><img src=\"data:image/png;base64,iVBORw0KGgoAAAANSUhEUgAAAMwAAAAmCAMAAAC/I4QkAAAAPFBMVEX///8NDQ0WFhYLCwsYGBiq\n",
       "qqp2dnZmZma6urpERESYmJju7u5UVFQQEBAyMjLc3NzMzMwiIiKIiIgAAAAUe24XAAAAAXRSTlMA\n",
       "QObYZgAAAAlwSFlzAAAOxAAADsQBlSsOGwAAAx1JREFUWMPNWdmW2yAMpQtg9u3//7XG2BMEJMie\n",
       "9hQ9eBKPAF2h5UIIKRKDJ5VwSm6IsoqsIy5YB7Doqf2Ry/ynKPqwDhpnoPHSTocwQk3WTOcIvQwY\n",
       "nYBjvZn62VPCQx4pzheCrgImwJ2wbJ4lhJhIzsfxwqwSaDDKaMLYtWUtnzw+zf4LmMAwY3jezWhe\n",
       "eZfcgmA8amOI0NfjesEWBPOV05Od0TnUZFUCzYJgagM/lQDNIq9Dy6VvFTQZN4QH1T0w/kbsM1AF\n",
       "A3/U4orvLPVpisaDoGG7N91nMFcbROBQhnYl4a5s6XCBDMTpqdtFTbnsvrgK7iMYjTMp7A1Gw5SP\n",
       "6Ul4FQQaU9h9rSTD4VPxEYzB9QsqI2/Cgib/nINgQlS4tpqOemKqAKTHFdZ/owJgwGzAzSU8+zV9\n",
       "XcBen1WMWnnGsCaqeR2EXDvnv82R4LUxr0DrlK4kcWAx3pletOywwO7aUcdCKFGSYlUNQiX6Ddc+\n",
       "FtdtzrRK51S/f9VTuRJBvl4zYxT10eq1b9LlCRXREg1mFqEd1/6K/QrMSKnbmBcYsOYWIiyVV1r7\n",
       "ttqq9PqWKmnC+A7XHoEZKWXDeBPTrJgLtJwFbRVmFJxw1hXTPItbrj0AM1LqNuZajLYFgBn/BsyW\n",
       "2YBSfy9nOq49BNMoHVP9/NFMJURp8a112tSxKK9U2so/8KUaweo6rj0C0yvtG9MaXXhtzzpc5VJ1\n",
       "fd5boOL7gA3dPDBMs+Pap4eF+KhEaB/BIdOZKqiulAYM4BymeIz7HBLfCBFMsePaR4dR+zPp+J6Q\n",
       "DzYmG8ii9n1K12CsIA8Fd9xuuTZKid6gJTUY/viMxQLKxIZro5TuXDLCI8DTaxYxp6gDro1Rknf4\n",
       "Yg1GPaaLiGI24NoYpVv3pYD2C/4My/bvrmduHS0AGOTFRMepmSVLCACjEBV2xKkNXRAMzsUdp46L\n",
       "3DSRAHuL8bgwBlxilY0BpzOC+kWj49RxkYzZA6spRBZ1Hqs5tTNuFTAqwEo+uo5qRkBOrcIyP89k\n",
       "24yEJzY142GAUwtJVhIKCChxkxoAObXa1gDxBypBKQm4JqUzAAAAAElFTkSuQmCC\n",
       "\" style=\"display:inline;vertical-align:middle;\" /></a><br>"
      ],
      "text/plain": [
       "<IPython.core.display.HTML object>"
      ]
     },
     "metadata": {},
     "output_type": "display_data"
    }
   ],
   "source": [
    "from proveit.logic import Equals, NotEquals\n",
    "from proveit.numbers import zero, Mult, frac\n",
    "div_cancel_cond = Conditional(Equals(Mult(x, frac(y, x)), y),\n",
    "                              NotEquals(y, zero))"
   ]
  },
  {
   "cell_type": "markdown",
   "metadata": {},
   "source": [
    "It will then have singular `condition` and `value` attributes."
   ]
  },
  {
   "cell_type": "code",
   "execution_count": 77,
   "metadata": {},
   "outputs": [
    {
     "data": {
      "text/html": [
       "<a class=\"ProveItLink\" href=\"__pv_it/basic_expressions/08a8b8d4a3b83fecc96ee9cda55659414829cfc20/expr.ipynb\"><img src=\"data:image/png;base64,iVBORw0KGgoAAAANSUhEUgAAADEAAAAUCAMAAAATIyWrAAAAPFBMVEX///8NDQ0WFhYLCwsYGBjc\n",
       "3NwyMjK6urpEREQiIiLMzMwQEBCqqqp2dnZUVFSYmJhmZmaIiIju7u4AAAAGyhSjAAAAAXRSTlMA\n",
       "QObYZgAAAAlwSFlzAAAOxAAADsQBlSsOGwAAAOVJREFUKM+VU1sSwyAIpI8Y4xP1/nctkiZFO0Mm\n",
       "fjAysiy7KoC2sMK95azMYiy4XCCsE4kJAHXTIS6JJG/MY3UK2dAyPDRN2SopoCHTtj5bwUz7mmaE\n",
       "kRT1QFBthOD7nO20dOP1fvV49Fla3BEFXKAS2ierUfwQEUiJL/ANUgUOad0Rayscawc7jeJQHrpy\n",
       "QEOheBh0PB+7mtMPy1NndpedtpNVZvY9c0vuDpj6ZHk4D/h3PVu/Cc+z10RPrC06BZVhLOknNpqR\n",
       "ImqvpxdXH64o5HzkcBp7ZpUCQi64Tk3ufj1w2uEH+0cJtdjhisMAAAAASUVORK5CYII=\n",
       "\" style=\"display:inline;vertical-align:middle;\" /></a>"
      ],
      "text/plain": [
       "y != 0"
      ]
     },
     "metadata": {},
     "output_type": "display_data"
    }
   ],
   "source": [
    "div_cancel_cond.condition"
   ]
  },
  {
   "cell_type": "code",
   "execution_count": 78,
   "metadata": {},
   "outputs": [
    {
     "data": {
      "text/html": [
       "<a class=\"ProveItLink\" href=\"__pv_it/basic_expressions/8913d9151764ba41baa72c6ded400c50ae7177900/expr.ipynb\"><img src=\"data:image/png;base64,iVBORw0KGgoAAAANSUhEUgAAAGgAAAAmBAMAAADaYMOOAAAAMFBMVEX///+IiIi6urrc3NxEREQi\n",
       "IiJ2dnbu7u4QEBDMzMwyMjKYmJhUVFSqqqpmZmYAAAAHKSyHAAAAAXRSTlMAQObYZgAAAAlwSFlz\n",
       "AAAOxAAADsQBlSsOGwAAAfJJREFUOMuNlTtLA0EQx8e8LpdLztiJBMkXkKS2iVjY+EARO5FUFoIQ\n",
       "QVGbPLCyENL46JJK24CNCOIJooLNlYKgsQiIWkQFg4ZEb3cjwu3M4hR3w1x+l3n99wAATBsw0w5A\n",
       "YS/uwNIzaBbAdoZmjLI7kr4Bo+48sGhoz/1C3a5BeMhxxmloXyoGChCMOs4amV+kIYU8DSgVWYfI\n",
       "/PxpKWSWoZfdve8UVJJz8Fkwxp0RCjqXQ6blaXLniIKayFgv+kViKXzsoKN5B8Ts/FVitHU5tgBr\n",
       "9m9HUAsj8Sm4EE5XHYeCyCxu++OdGX7iUHdascp6i4AqfK9j6/NIp7QmLgDR1WrXmTmJvPKVX2sz\n",
       "zGb/BFBikJE0GuEKAn3gAkiwmvVOc7UvnvE3M964Ni6AkiiFSwFgzvWjNi6ADpRIapn/1CQEkGKl\n",
       "LMevIPCvxRQCyLG87ncfYQBhvC1cAEG2k9meyDO20PobLoDQkGIjkKOAC8DMK6DAJC4Ao6GAfBYu\n",
       "AK2lgLorhAAmFFAiSTxADg+t53JnUVRAWC4un0YQi9aYs0V2SNb7IZxmrpna6c5uSpEiPIkttkno\n",
       "GIkV+LWPblFIVp/nHVadzdugIW3aHRgO58E5b1ZsxTQGXUqKfGbzHgcYVX1zvUXXPz1E706cW5wC\n",
       "fgA0IYvhDX/kDwAAAABJRU5ErkJggg==\n",
       "\" style=\"display:inline;vertical-align:middle;\" /></a>"
      ],
      "text/plain": [
       "(x * (y / x)) = y"
      ]
     },
     "metadata": {},
     "output_type": "display_data"
    }
   ],
   "source": [
    "div_cancel_cond.value"
   ]
  },
  {
   "cell_type": "markdown",
   "metadata": {},
   "source": [
    "<a name=\"Lambda\"></a>Lambda\n",
    "====\n",
    "\n",
    "This type of **expression** represents a mathematical mapping or function.  It contains *parameter(s)* (one or more *variables* and/or *iteration* of *indexed* *variables* that will be discussed in the <a href=\"#IndexedVar\">IndexedVar</a> section below) and a *body* (any **expression** that the *parameters* are to be mapped into)."
   ]
  },
  {
   "cell_type": "code",
   "execution_count": 79,
   "metadata": {},
   "outputs": [],
   "source": [
    "from proveit import Lambda"
   ]
  },
  {
   "cell_type": "code",
   "execution_count": 80,
   "metadata": {},
   "outputs": [
    {
     "data": {
      "text/html": [
       "<strong id=\"map_to_5\">map_to_5:</strong> <a class=\"ProveItLink\" href=\"__pv_it/basic_expressions/7683c1d3fdd864418993ce67505b575f6706ffe90/expr.ipynb\"><img src=\"data:image/png;base64,iVBORw0KGgoAAAANSUhEUgAAADcAAAAPCAMAAAB3LKe0AAAANlBMVEX///8WFhYNDQ1ERES6uroQ\n",
       "EBAyMjLc3NyYmJgiIiJmZmaqqqp2dnbMzMxUVFSIiIju7u4AAAA4Zhc9AAAAAXRSTlMAQObYZgAA\n",
       "AAlwSFlzAAAOxAAADsQBlSsOGwAAAL1JREFUKM+VktkOhDAIRZnpThfg/39WXDK2E5tYHoxYDr0X\n",
       "BFiLuj84wGo48T4lXuaSk1TWMWhvCym85gYZGWccEzWupeSfh9HRyEUq7RgqaENqBJieK7PpM6Ni\n",
       "glh9i2ogCmunZw7I/M/PpGuT6PvP308aQo7+XaBcw3I0dwTW35jxJ3c6tDvP/MxV38l0x1kTLTcW\n",
       "mtOkTO7z/QLPIqejylIZlbP5FjbfX9gzcqqAkUgPY578BKXCCGJDxTZvKgaYmZeDzgAAAABJRU5E\n",
       "rkJggg==\n",
       "\" style=\"display:inline;vertical-align:middle;\" /></a><br>"
      ],
      "text/plain": [
       "<IPython.core.display.HTML object>"
      ]
     },
     "metadata": {},
     "output_type": "display_data"
    }
   ],
   "source": [
    "# maps any value to 5\n",
    "map_to_5 = Lambda(x, FIVE)"
   ]
  },
  {
   "cell_type": "code",
   "execution_count": 81,
   "metadata": {},
   "outputs": [
    {
     "data": {
      "text/html": [
       "<table><tr><th>&nbsp;</th><th>core type</th><th>sub-expressions</th><th>expression</th></tr>\n",
       "<tr><td>0</td><td>Lambda</td><td>parameter:&nbsp;3<br>body:&nbsp;2<br></td><td><a class=\"ProveItLink\" href=\"__pv_it/basic_expressions/7683c1d3fdd864418993ce67505b575f6706ffe90/expr.ipynb\"><img src=\"data:image/png;base64,iVBORw0KGgoAAAANSUhEUgAAADcAAAAPCAMAAAB3LKe0AAAANlBMVEX///8WFhYNDQ1ERES6uroQ\n",
       "EBAyMjLc3NyYmJgiIiJmZmaqqqp2dnbMzMxUVFSIiIju7u4AAAA4Zhc9AAAAAXRSTlMAQObYZgAA\n",
       "AAlwSFlzAAAOxAAADsQBlSsOGwAAAL1JREFUKM+VktkOhDAIRZnpThfg/39WXDK2E5tYHoxYDr0X\n",
       "BFiLuj84wGo48T4lXuaSk1TWMWhvCym85gYZGWccEzWupeSfh9HRyEUq7RgqaENqBJieK7PpM6Ni\n",
       "glh9i2ogCmunZw7I/M/PpGuT6PvP308aQo7+XaBcw3I0dwTW35jxJ3c6tDvP/MxV38l0x1kTLTcW\n",
       "mtOkTO7z/QLPIqejylIZlbP5FjbfX9gzcqqAkUgPY578BKXCCGJDxTZvKgaYmZeDzgAAAABJRU5E\n",
       "rkJggg==\n",
       "\" style=\"display:inline;vertical-align:middle;\" /></a></td></tr>\n",
       "<tr><td>1</td><td>ExprTuple</td><td>3</td><td><a class=\"ProveItLink\" href=\"../packages/proveit/__pv_it/common/eacfeccc0521684fcb20fe8f5180ac50fca471f20/expr.ipynb\"><img src=\"data:image/png;base64,iVBORw0KGgoAAAANSUhEUgAAABgAAAAVBAMAAACuxzMVAAAAMFBMVEX////MzMxUVFRERES6uroi\n",
       "IiIQEBCYmJhmZmYyMjLu7u52dnaqqqqIiIjc3NwAAACW8nlqAAAAAXRSTlMAQObYZgAAAAlwSFlz\n",
       "AAAOxAAADsQBlSsOGwAAALhJREFUGNNjYGB4wAAGfCCC9wCEw3IBSJxmgILrDAxcE2AczgUMHAUw\n",
       "DnsDAxsDHGQxnERwpjN0A8m1lxbuBpq5CchlYGjg1eUIYGCoZIgB6nzA/osJaM4xhhQGBkYGDrD5\n",
       "8iAOAwMbyHYGN5AyBgb/B1wLGBiOMtgyMCx2UGPgBgoVA81jOC/VxuAD5HQziDIwrLjL0w5yeggD\n",
       "qwDMAXwBIOdBAcjJdjDOYyBeDOOARPkuQNi8DxgAz0wljM0iLrAAAAAASUVORK5CYII=\n",
       "\" style=\"display:inline;vertical-align:middle;\" /></a></td></tr>\n",
       "<tr><td>2</td><td>Literal</td><td></td><td><a class=\"ProveItLink\" href=\"__pv_it/basic_expressions/53d2dd3f57dfef2aa6ec32670440c9b3957640bf0/expr.ipynb\"><img src=\"data:image/png;base64,iVBORw0KGgoAAAANSUhEUgAAAAkAAAAPBAMAAADE5vg+AAAALVBMVEX///9mZma6urpERESIiIiY\n",
       "mJhUVFR2dnYiIiIyMjIQEBDc3Nzu7u7MzMwAAACf3j6KAAAAAXRSTlMAQObYZgAAAAlwSFlzAAAO\n",
       "xAAADsQBlSsOGwAAAE5JREFUCNdj4GVgOM3AwPVyRg8DA8e69gMMDGwMIIBChpRdYGBgPsD9CMy1\n",
       "AJNyGxgsgeQFhhUMDHkMDAUMDIsZGDYysKxhYOAWTDzAAACiUg9DTWr5DAAAAABJRU5ErkJggg==\n",
       "\" style=\"display:inline;vertical-align:middle;\" /></a></td></tr>\n",
       "<tr><td>3</td><td>Variable</td><td></td><td><a class=\"ProveItLink\" href=\"__pv_it/basic_expressions/a0d9d672aa5e272d907247690c152cc2c6daafb70/expr.ipynb\"><img src=\"data:image/png;base64,iVBORw0KGgoAAAANSUhEUgAAAAsAAAAJBAMAAAAWSsseAAAAMFBMVEX///9ERES6uroQEBAyMjLc\n",
       "3NyYmJgiIiJmZmaqqqp2dnbMzMxUVFSIiIju7u4AAAAd7oVFAAAAAXRSTlMAQObYZgAAAAlwSFlz\n",
       "AAAOxAAADsQBlSsOGwAAAENJREFUCNdjYHh75/WqCQwMDbxnOQoY2ALY/vEkMHAzcDgwgADzBTCl\n",
       "H8D3gOGhwmEGLgaG+fuaGTQZGF7c5WybwAAAJTwQ1a2DuB8AAAAASUVORK5CYII=\n",
       "\" style=\"display:inline;vertical-align:middle;\" /></a></td></tr>\n",
       "</table>\n"
      ],
      "text/plain": [
       "0. x -> 5\n",
       "   core type: Lambda\n",
       "   parameter: 3\n",
       "   body: 2\n",
       "1. (x)\n",
       "   core type: ExprTuple\n",
       "   sub-expressions: 3\n",
       "2. 5\n",
       "   core type: Literal\n",
       "   sub-expressions: \n",
       "3. x\n",
       "   core type: Variable\n",
       "   sub-expressions: "
      ]
     },
     "metadata": {},
     "output_type": "display_data"
    }
   ],
   "source": [
    "# Let's look at the Expression info\n",
    "map_to_5.expr_info()"
   ]
  },
  {
   "cell_type": "markdown",
   "metadata": {},
   "source": [
    "Here is an example with multiple *parameters* represented by an `ExprTuple` and a `Conditional` *body* .  This maps a pair of real numbers to the first element (invoking the `And`, `Add`, and `InSet` <a href=\"#Operation\">`Operation`</a>s and using the `Real` <a href=\"#Literal\">`Literal`</a>):"
   ]
  },
  {
   "cell_type": "code",
   "execution_count": 82,
   "metadata": {},
   "outputs": [
    {
     "data": {
      "text/html": [
       "<strong id=\"lambda_expr\">lambda_expr:</strong> <a class=\"ProveItLink\" href=\"__pv_it/basic_expressions/60c41d2fc10e783bdc8f5485aabd88a45530d3880/expr.ipynb\"><img src=\"data:image/png;base64,iVBORw0KGgoAAAANSUhEUgAAASYAAAAVCAMAAADcg7NfAAAANlBMVEX///8WFhYNDQ3MzMxUVFRE\n",
       "RES6uroiIiIQEBCYmJhmZmYyMjLu7u52dnaqqqqIiIjc3NwAAACzeusSAAAAAXRSTlMAQObYZgAA\n",
       "AAlwSFlzAAAOxAAADsQBlSsOGwAAAu5JREFUWMPdWNu2oyAMZYaEu1z+/2cPiloVqKF1rTlreGit\n",
       "NTvJTgiJjOUVGWXRnlqXE4L9Zyt40mMiDEBa4R6xTYchurVViMlKhfojbW/E/UT1nazapy9Jiqro\n",
       "sp6nsbREFiGHFDR+ZEJX3FkyhqVqnuSXSSSSWaIrs9Vu1M9p+eLwIU1tcUNPT20eoUkQNBZuAD71\n",
       "00Rmv6CpFlcDIKoT2RBHaPLkIge3cQko87ItP5FSR6jifoR0qy/h3kDMv6FJ2ODa6QDO3WfigLhZ\n",
       "C7gLARyfptOpt1kZJS/uv2TPRMg2TU3QiqarlnxlVdbEQanDtqvBYqNYFj85ehtvlAyJbwmSYQIE\n",
       "Zo4O+82imMJ6YHaI8ecUNbYPWtFUaVnMgqo21WA2NouLsjLJS560lAyIM1nkdRbR+RgH3YhATo9y\n",
       "26te/oTjAbod503QiqZKy2JuRVMDzHZqsNbV8d1SMiDOVGlL+CEH9q07/+Vws3F+Ku1//v0jTyvt\n",
       "/U0Eu15WoGZ5VKnlC3pa2jTVFnK1KcfLrkGn9Y0rQ+I7TcvlpWYsVUvAfpl/dLNJ2BcON4fUUuGm\n",
       "hNda2jTVYA57Jzo37NwetpQMiO+bbmnpMs/u8Dfsk0xcsb3s0MTP1RChC1rRVGvp0nQFk93Gx/CI\n",
       "t0ro4vl+KMwKBmrjejUE+bzNzNyor4mqsaPjUg3LSXcG7dFUa2nS1AILoednzpQyWrk3SgjiL4+g\n",
       "DGHcmWyEmAl3qZSASU2geEKj9KV7mCN73zedQPubrtKymIuvT9YFs77l52xMLi6Z1zeukMTXCGUQ\n",
       "XgJvMrXe6CInpSsBTJl7rV4VQXbG0Im3aDqD9miqtawdk8ufCba7TTAHeH4TUUZ8jDPDNvk3rtDE\n",
       "V7czc5I3+uT2UBKpE+1TXThhRp7wPG0QXaGKv51nO69WyFPy96PvY2t6CgirZtS1wx2RChkU+yXL\n",
       "PZa5df8QqHx236ol/0toenB/RxpWGHgZHg38FqIeWT8n3yX5b0cTRQAAAABJRU5ErkJggg==\n",
       "\" style=\"display:inline;vertical-align:middle;\" /></a><br>"
      ],
      "text/plain": [
       "<IPython.core.display.HTML object>"
      ]
     },
     "metadata": {},
     "output_type": "display_data"
    }
   ],
   "source": [
    "# Can have multiple arguments\n",
    "from proveit.logic import InSet, And\n",
    "from proveit.numbers import Add, Real\n",
    "from proveit import Conditional\n",
    "lambda_expr = Lambda([x, omega], \n",
    "                     Conditional(Add(x, omega), \n",
    "                                 And(InSet(x, Real), \n",
    "                                     InSet(omega, Real))))"
   ]
  },
  {
   "cell_type": "code",
   "execution_count": 83,
   "metadata": {},
   "outputs": [
    {
     "data": {
      "text/html": [
       "<table><tr><th>&nbsp;</th><th>core type</th><th>sub-expressions</th><th>expression</th></tr>\n",
       "<tr><td>0</td><td>Lambda</td><td>parameters:&nbsp;5<br>body:&nbsp;1<br></td><td><a class=\"ProveItLink\" href=\"__pv_it/basic_expressions/60c41d2fc10e783bdc8f5485aabd88a45530d3880/expr.ipynb\"><img src=\"data:image/png;base64,iVBORw0KGgoAAAANSUhEUgAAASYAAAAVCAMAAADcg7NfAAAANlBMVEX///8WFhYNDQ3MzMxUVFRE\n",
       "RES6uroiIiIQEBCYmJhmZmYyMjLu7u52dnaqqqqIiIjc3NwAAACzeusSAAAAAXRSTlMAQObYZgAA\n",
       "AAlwSFlzAAAOxAAADsQBlSsOGwAAAu5JREFUWMPdWNu2oyAMZYaEu1z+/2cPiloVqKF1rTlreGit\n",
       "NTvJTgiJjOUVGWXRnlqXE4L9Zyt40mMiDEBa4R6xTYchurVViMlKhfojbW/E/UT1nazapy9Jiqro\n",
       "sp6nsbREFiGHFDR+ZEJX3FkyhqVqnuSXSSSSWaIrs9Vu1M9p+eLwIU1tcUNPT20eoUkQNBZuAD71\n",
       "00Rmv6CpFlcDIKoT2RBHaPLkIge3cQko87ItP5FSR6jifoR0qy/h3kDMv6FJ2ODa6QDO3WfigLhZ\n",
       "C7gLARyfptOpt1kZJS/uv2TPRMg2TU3QiqarlnxlVdbEQanDtqvBYqNYFj85ehtvlAyJbwmSYQIE\n",
       "Zo4O+82imMJ6YHaI8ecUNbYPWtFUaVnMgqo21WA2NouLsjLJS560lAyIM1nkdRbR+RgH3YhATo9y\n",
       "26te/oTjAbod503QiqZKy2JuRVMDzHZqsNbV8d1SMiDOVGlL+CEH9q07/+Vws3F+Ku1//v0jTyvt\n",
       "/U0Eu15WoGZ5VKnlC3pa2jTVFnK1KcfLrkGn9Y0rQ+I7TcvlpWYsVUvAfpl/dLNJ2BcON4fUUuGm\n",
       "hNda2jTVYA57Jzo37NwetpQMiO+bbmnpMs/u8Dfsk0xcsb3s0MTP1RChC1rRVGvp0nQFk93Gx/CI\n",
       "t0ro4vl+KMwKBmrjejUE+bzNzNyor4mqsaPjUg3LSXcG7dFUa2nS1AILoednzpQyWrk3SgjiL4+g\n",
       "DGHcmWyEmAl3qZSASU2geEKj9KV7mCN73zedQPubrtKymIuvT9YFs77l52xMLi6Z1zeukMTXCGUQ\n",
       "XgJvMrXe6CInpSsBTJl7rV4VQXbG0Im3aDqD9miqtawdk8ufCba7TTAHeH4TUUZ8jDPDNvk3rtDE\n",
       "V7czc5I3+uT2UBKpE+1TXThhRp7wPG0QXaGKv51nO69WyFPy96PvY2t6CgirZtS1wx2RChkU+yXL\n",
       "PZa5df8QqHx236ol/0toenB/RxpWGHgZHg38FqIeWT8n3yX5b0cTRQAAAABJRU5ErkJggg==\n",
       "\" style=\"display:inline;vertical-align:middle;\" /></a></td></tr>\n",
       "<tr><td>1</td><td>Conditional</td><td>value:&nbsp;2<br>condition:&nbsp;3<br></td><td><a class=\"ProveItLink\" href=\"__pv_it/basic_expressions/7d82a18ae48d460ee01bcdfcc43c77a7bbe0f3dc0/expr.ipynb\"><img src=\"data:image/png;base64,iVBORw0KGgoAAAANSUhEUgAAANMAAAAVBAMAAAAumMZDAAAAMFBMVEX///9ERETMzMxUVFSYmJgQ\n",
       "EBDc3NxmZmYiIiJ2dnaqqqoyMjKIiIi6urru7u4AAAB85a56AAAAAXRSTlMAQObYZgAAAAlwSFlz\n",
       "AAAOxAAADsQBlSsOGwAAAqdJREFUSMdjYGDgu8tAL3D6HmE1LGexC28V/N0qglubd6D8jkAHOJfr\n",
       "HwFrUoFqd+lfwCrHyGbAayKHW69AMsNlxwcwHmcDAavuFzCwNCQ/wGHVBAYBZTxWZTIwMhngsOoK\n",
       "hnI+BgZmAxxGgawq48ZrFXvCBhxWrcGmg7kATeBgR8cGuFWMmBpg8mCrBCix6vY5JF/ZPcZQD5cH\n",
       "WsX8DiUA+c7Yac5CtQpkeIYCkGDbasBkGgxW/ubwo5kLQEL7kAKQSWobhM0OkmliQJEHWqW4OgHG\n",
       "Y98AUnX4QAWKVVwgI/MPgJjcBrC4KuCxYQeFAXcCwqro/h5oilkFsuQPA4q8QOqOH+dQ0rIbg/8D\n",
       "ExSr2MEeBmcJRphVLAks/5hBQtxIyWKK3wakcGCYwoAiL5Dp8hrOSd4LJBQYqsGcio6O0I6OZiDr\n",
       "LgOfANBsFKuYwCEABKodQCAADUA5F4hBvBcYHoIcjSIvkMn4BJ6FmQrB/o9BSxYTGHgNGDgZUKxi\n",
       "YGAFhyjISERcqTNCAhCo+DJIH4q8QCZTASKHM4KM4f3G8A7FKgMGngUMmehW3U/gA5nLgWwVuxok\n",
       "MTMzMJxiYANbxYGcr4oSGZBSIJ8scwDEPXCrhBj0C/i2oVr18IIpxKM8B5Cs4hM4wsAAdACjAtN3\n",
       "htcJqPJAqx7yOCBZxfXpeQDvAhSrpk4O+lgKUcMoAEJAsF6vlOEWWGgXwqoCBhfGC3y/geZEmuqL\n",
       "hzCgygukM7A4yIJY7zdAfFVzYLkXalw9/J3gCok/YKZ6ZPoZ5M7nZ7hKIA56LPsAVrJ/TGCU/sXQ\n",
       "8YCBT34bSyjUOzB5YMkuxiC4H6SJo4C40gID3JTo2IDM53qAX57I4pYYwEmUKp4AKlSvb4hSxfaL\n",
       "ClYdIE5ZuhV9GhYAR6W5Ew7uaaUAAAAASUVORK5CYII=\n",
       "\" style=\"display:inline;vertical-align:middle;\" /></a></td></tr>\n",
       "<tr><td>2</td><td>Operation</td><td>operator:&nbsp;4<br>operands:&nbsp;5<br></td><td><a class=\"ProveItLink\" href=\"__pv_it/basic_expressions/dddd929993ca5bd62bc536b9b689268049e12ba90/expr.ipynb\"><img src=\"data:image/png;base64,iVBORw0KGgoAAAANSUhEUgAAADIAAAAOBAMAAACfqVJUAAAAMFBMVEX///9ERES6uroQEBAyMjLc\n",
       "3NyYmJgiIiJmZmaqqqp2dnbMzMxUVFSIiIju7u4AAAAd7oVFAAAAAXRSTlMAQObYZgAAAAlwSFlz\n",
       "AAAOxAAADsQBlSsOGwAAAJ5JREFUGNNjYEACagy4wFxiZd7eeb1qAooMBxCzVjMwNPCe5ShAkZkJ\n",
       "kvnLwBbA9o8nAUWmAUQsY+Bm4HAA89vLy43Ly2sYGJgUGB4yMKQChZgvoLqAi4FBh4FhAZClH8D3\n",
       "AFmGh4HhJgPrAoaHCodBqpBkGDdw/2B4EsAwf18zgyaqaVaH90uYMTC8uMvZNgFFhk/elc34ArGh\n",
       "gxKiANMqKHpMK+9KAAAAAElFTkSuQmCC\n",
       "\" style=\"display:inline;vertical-align:middle;\" /></a></td></tr>\n",
       "<tr><td>3</td><td>Operation</td><td>operator:&nbsp;6<br>operands:&nbsp;7<br></td><td><a class=\"ProveItLink\" href=\"__pv_it/basic_expressions/74bf3ffa371e89a1767f3498e1a8d734a4f080cd0/expr.ipynb\"><img src=\"data:image/png;base64,iVBORw0KGgoAAAANSUhEUgAAAJ0AAAAVBAMAAACu6/FQAAAAMFBMVEX////MzMxUVFRERES6uroi\n",
       "IiIQEBCYmJhmZmYyMjLu7u52dnaqqqqIiIjc3NwAAACW8nlqAAAAAXRSTlMAQObYZgAAAAlwSFlz\n",
       "AAAOxAAADsQBlSsOGwAAArFJREFUOMuNlE1oE0EUx/+bTbqbzQfFooigjSgVCsJKW9SgbehB8Au3\n",
       "6ApKxUD9QL0EekgrKPFiD4LkUoWicW0oWkEoeujBSy4KRcGgh4JYWSyKIoIggoqC82Y22d10E5zD\n",
       "7LyZt7/33rz3BoCNpiP5HzuewUmJysoD5UbPr6PbgXC18eRtEGd8ZGByJAccJOF5kIacTIW3pIHF\n",
       "hv34XKBj+nsMjlpIMKZWDObNQV8FRC0hx5wgZoMD1b9AllLAFKDmmvGuR1ngBSHPOFYnmvJUm6mM\n",
       "AW2+g0SfeazOk9nivNhf3Cy+WT/ntWkW6zydwSwseM/Dty3Xv+5ptrgpZKNDXJ//cva+cf0LPWDx\n",
       "RnO4xsSHr+4+4Rf02XLjlXaV2OKRk4YorwWVpUOlqhnitTPlibdjgWnEUtyBQmKratB+yb2/cydP\n",
       "EHyci1E7zi+S2ccLIv0Vu3Xex8kf5KtSxDCbbeV3iKel6PLmL3LhGRdZpo/TN8Ki4OB5zvPkI88z\n",
       "H8/iFCBBFSDptGmah51403ladPKDjcASfdsyCGdQBi6TtIZpm7rgyffIIekb8Zie6ANN99TLWpni\n",
       "3cP3mbkZhxcDBgFe1mWPf1IhTfnMUrzAIVvjmTA8PHUD0Z/WqlmtiHhD1HNJzot46+/KMsVrYDez\n",
       "k+kis3CCcniaTs02WvsxSVciVyG3Sz8xKzq/6uGVqdkUnQri5bqrOCDyWKnzCsjLGfBywiWatoHX\n",
       "Q+xCV+eOs0LrVp33CUqul9fTauD+UnxCgLRN+2rvy3db3vkHOEJiN03r6b4NaAMl5Yzj2HSvVXtf\n",
       "+tFzp4JIBpF2X4M8Fv1Wf+4Mf4MN+cX9faavYz64HR88Gl+LMbQc9Fz0t1JYbnx37FbaSd1XRQGj\n",
       "0ZhboYGvHFlLVpsrJFa487UV7x3wD4J1pzpfpTMjAAAAAElFTkSuQmCC\n",
       "\" style=\"display:inline;vertical-align:middle;\" /></a></td></tr>\n",
       "<tr><td>4</td><td>Literal</td><td></td><td><a class=\"ProveItLink\" href=\"../packages/proveit/numbers/addition/__pv_it/common/4b7effaab3619a1c2c38fe2dee8601df8ec714590/expr.ipynb\"><img src=\"data:image/png;base64,iVBORw0KGgoAAAANSUhEUgAAAA4AAAAOBAMAAADtZjDiAAAAHlBMVEX///9UVFQQEBAiIiJmZmaI\n",
       "iIiqqqqYmJi6uroAAAAAFVhYAAAAAXRSTlMAQObYZgAAAAlwSFlzAAAOxAAADsQBlSsOGwAAAB9J\n",
       "REFUCNdjYGBgaGeAgFRiaGdjYyVjY0Oi1SPRIHsAgDEGyG9xCpgAAAAASUVORK5CYII=\n",
       "\" style=\"display:inline;vertical-align:middle;\" /></a></td></tr>\n",
       "<tr><td>5</td><td>ExprTuple</td><td>13, 14</td><td><a class=\"ProveItLink\" href=\"__pv_it/basic_expressions/bcb16c68e42926ce03bf906fc9840ad12ddeb0490/expr.ipynb\"><img src=\"data:image/png;base64,iVBORw0KGgoAAAANSUhEUgAAAC8AAAAVBAMAAAAk6KpUAAAAMFBMVEX////MzMxUVFRERES6uroi\n",
       "IiIQEBCYmJhmZmYyMjLu7u52dnaqqqqIiIjc3NwAAACW8nlqAAAAAXRSTlMAQObYZgAAAAlwSFlz\n",
       "AAAOxAAADsQBlSsOGwAAARdJREFUKM9tkS9Mw1AQh79tbC39lxkMBtQcySQGaNAQhsAhJggITCWK\n",
       "VDGBmSNBkJIaEEsWDAKDXSChQQOpwSOBhIS7laYkbZN3793ve7n3uyuQUvqmkntfBpsaHso6bgDW\n",
       "sAJwDmZQBY6gVaXTiphUgtmAU9lGz5d3mTdTlrcN9iJncgzdJbM3BY8KfsAYsisxNb7rmYdQwy04\n",
       "ffaghvnnecYnhmORPhSIiSQDNqzDWG70tRRspVakex1e8AQ4PVYg9jt6V1CjXfvkWkZodLmBp/kT\n",
       "NrC+pNRhZ2H5QG2PmYOrV2cgbexEWGsXxr6+1/RptvNunajo/F2qhXli/xvJQNZqnowK3etKiPMs\n",
       "KUBD/62XlIf7Br/pyzf8QGdMkAAAAABJRU5ErkJggg==\n",
       "\" style=\"display:inline;vertical-align:middle;\" /></a></td></tr>\n",
       "<tr><td>6</td><td>Literal</td><td></td><td><a class=\"ProveItLink\" href=\"../packages/proveit/logic/booleans/conjunction/__pv_it/common/42118ff318bd65d98b1393f64ce7c2269feef76e0/expr.ipynb\"><img src=\"data:image/png;base64,iVBORw0KGgoAAAANSUhEUgAAAAwAAAANBAMAAABvB5JxAAAALVBMVEX///9mZmbc3NxERETMzMy6\n",
       "urpUVFSYmJiIiIgyMjIiIiLu7u6qqqp2dnYAAACMfHT6AAAAAXRSTlMAQObYZgAAAAlwSFlzAAAO\n",
       "xAAADsQBlSsOGwAAAEpJREFUCNdjYGDgPcAAArsmgKn2VDC1wBlE8lzgVABSnAo8AkDKjYFhNZBK\n",
       "YWDoYGDgBirfBdHMeICBCyjONIGhAqTJhCEbRHkAACjBC+w2ZjhuAAAAAElFTkSuQmCC\n",
       "\" style=\"display:inline;vertical-align:middle;\" /></a></td></tr>\n",
       "<tr><td>7</td><td>ExprTuple</td><td>8, 9</td><td><a class=\"ProveItLink\" href=\"__pv_it/basic_expressions/352e8cd3ee196bcfd05afb15b60acb596a35b5e90/expr.ipynb\"><img src=\"data:image/png;base64,iVBORw0KGgoAAAANSUhEUgAAAH8AAAAVBAMAAACd/CwcAAAAMFBMVEX////MzMxUVFRERES6uroi\n",
       "IiIQEBCYmJhmZmYyMjLu7u52dnaqqqqIiIjc3NwAAACW8nlqAAAAAXRSTlMAQObYZgAAAAlwSFlz\n",
       "AAAOxAAADsQBlSsOGwAAAixJREFUOMtjYGB4wEA2AGvlPYApwT7N+GeYOW6Nlcn2U5MLGBh8QZzT\n",
       "2FQw8ymwqFvhNsHgEYNT8QIGXqAhXBOwG7CBwUAIjwGvGZgZFRgYZjEwcBTgMqCPE68BHA+AVlcw\n",
       "MLChSPCahkbCDWDG1Hg5NHQC3AADoO4FDCeR5VnmLkC4QGsRhn7PWwgXMK0CeoGzgKEbyF17aeFu\n",
       "cFy8XIDwAqPNPAibA4j5AkEsvllIXhA+CYxEbgWG6UBuA68uRwBIfB4iDDLjY6GmnQFp/QticcKT\n",
       "jMGzqV9BrmGfwBADJB+w/2ICh+UEhAHbq2CcBhCxHWwAUiCWrwTRPAkMKQwMjAwcEMWMqaGhocFQ\n",
       "L1iVQ8PFgWExA0MdiCkGlA41gBjAvBxkJeMHkAHAwLwAVstlgBSNEswQL3AzMDgxMGwAMRcjuYCx\n",
       "AZTOWBJAXmBg8H/ABVYdgGQAhxzEOCYGhjsMfGADWJHTQeNjkBcCGGyBBjuogewBgrtIBnAZXGdg\n",
       "ABrLLMD4g2ElJNtcQDJgMSgdsxswbGJgOC/VxuADFuc8ADeggaGc2YHrJ9AL2WryFukQ4TlwA14w\n",
       "sBeYAKN4A4MoA8OKuzztEJ1cyl6w3Pj5AbPlH4bQBQxc9vPY06BWLzJZAMuNdgzG8w8wsDowsAqg\n",
       "JMXNkKQMAzwLUJOit2koSuZ7CrSsAV+JwU2gRGkHYjt8Ctbi189ngBK5WMAF/AYwgyKH7wL5ZeI9\n",
       "BgYA3i2JRBaUlk4AAAAASUVORK5CYII=\n",
       "\" style=\"display:inline;vertical-align:middle;\" /></a></td></tr>\n",
       "<tr><td>8</td><td>Operation</td><td>operator:&nbsp;11<br>operands:&nbsp;10<br></td><td><a class=\"ProveItLink\" href=\"../packages/proveit/numbers/ordering/__pv_it/theorems/d1323f34847310a404e8089c2c268d3c2eb89dbf0/expr.ipynb\"><img src=\"data:image/png;base64,iVBORw0KGgoAAAANSUhEUgAAADQAAAAQBAMAAACra0H4AAAAMFBMVEX///9ERES6uroQEBAyMjLc\n",
       "3NyYmJgiIiJmZmaqqqp2dnbMzMxUVFSIiIju7u4AAAAd7oVFAAAAAXRSTlMAQObYZgAAAAlwSFlz\n",
       "AAAOxAAADsQBlSsOGwAAAMtJREFUGNNjYMAAbM6CX4rFGLACRtYDTMfkcEgtYBDYg1OqlQVF6GJ5\n",
       "uQNcihFZRuUekq5zb4CMt3der5oApFn9kAzklnQFMhp4z3IUAGmWAISUSX3tA6AvAtj+8SSApJCc\n",
       "sSwPZCk3AwfYbobN5UAgADVQLg0sxnwBTD1EdvwOxgcgln4AH4hmR5bi2ArU/1DhMAMXSID3ApIU\n",
       "n8A1Bob5+5oZNMEingipBoY0RgWGF3c52yaARd4IPYCF/McARpGfyMGhJQ4JKCgAAF8xNF8aQs/g\n",
       "AAAAAElFTkSuQmCC\n",
       "\" style=\"display:inline;vertical-align:middle;\" /></a></td></tr>\n",
       "<tr><td>9</td><td>Operation</td><td>operator:&nbsp;11<br>operands:&nbsp;12<br></td><td><a class=\"ProveItLink\" href=\"__pv_it/basic_expressions/9e5bdc0f6303404066b7274dbb0070e0f70489900/expr.ipynb\"><img src=\"data:image/png;base64,iVBORw0KGgoAAAANSUhEUgAAADYAAAAQBAMAAACvnpHFAAAAMFBMVEX///8QEBAyMjJUVFRERETu\n",
       "7u66urqYmJh2dnaIiIiqqqrMzMwiIiLc3NxmZmYAAADdGNx0AAAAAXRSTlMAQObYZgAAAAlwSFlz\n",
       "AAAOxAAADsQBlSsOGwAAANVJREFUGNNjYMAE7Iounw66M2AHLLwGbOauuOQaGBw245Z7y4QqNuXM\n",
       "GQW4HAuKVNJUJH2mwUDGAyC+swFI8KoimcntpcvAwLUAyLk/AUgwXUDICZ0/GcDAwAficBSA5JDc\n",
       "0l4KsjiNgdWBgR2kZeMZIHCAmulaDqQbGNgMGDhAIiHIftjHAjTTgIFzAcMNkAgPshzfXqAJ3gz7\n",
       "H7DqgkQ4JyDJsTpMZ2BobJb+8rAALKSFkHvAUM6SwBDy6UKhJEQo2C0AFg9fLrA4/UIJmAwfSJhB\n",
       "AQDNrzV7C3R1kwAAAABJRU5ErkJggg==\n",
       "\" style=\"display:inline;vertical-align:middle;\" /></a></td></tr>\n",
       "<tr><td>10</td><td>ExprTuple</td><td>13, 15</td><td><a class=\"ProveItLink\" href=\"../packages/proveit/numbers/ordering/__pv_it/theorems/d87b972e3e29265b9fca1a9cb6e1de56983159ab0/expr.ipynb\"><img src=\"data:image/png;base64,iVBORw0KGgoAAAANSUhEUgAAADAAAAAVBAMAAADyTXAxAAAAMFBMVEX////MzMxUVFRERES6uroi\n",
       "IiIQEBCYmJhmZmYyMjLu7u52dnaqqqqIiIjc3NwAAACW8nlqAAAAAXRSTlMAQObYZgAAAAlwSFlz\n",
       "AAAOxAAADsQBlSsOGwAAASVJREFUKM9jYGB4wIAB+EAE7wGEAPs0459h5gwMLBeAnNPISpn5FFjU\n",
       "rRgYrjMwcE1AldjAYCDEwMC5gIGjAF2ijxNoZgMDGwOGBDOQkcVwEkNCaxGQMZ2hG0iuvbRw9wGY\n",
       "BKPNPCBjE1CKgaGBV5cjACqRGR+7AMioZIgB2vSA/RdTAVRiexXYmccYUhgYGBk4JiDssCoHMeRB\n",
       "EgwMbBcQEhLMIKPcQEYxMPg/4FoAk+CQMwAyjjLYMjAsdlBj4GZgWACR4DIAhgdDMdBdDOel2hh8\n",
       "GLh+giUaGMqZHRiAvhBlYFhxl6cd6I3QBaDQ/fyA2fIPA0MIA6sAzNc8C5AiJAAUXFDAjRQ0oKC1\n",
       "g3HWIkk8BuLFMM4FJAmQar4LmHHO+4ABAC9OQr9z8zE1AAAAAElFTkSuQmCC\n",
       "\" style=\"display:inline;vertical-align:middle;\" /></a></td></tr>\n",
       "<tr><td>11</td><td>Literal</td><td></td><td><a class=\"ProveItLink\" href=\"../packages/proveit/logic/sets/membership/__pv_it/common/477487d8796864d23d5810f83761435f25167f690/expr.ipynb\"><img src=\"data:image/png;base64,iVBORw0KGgoAAAANSUhEUgAAAAwAAAAMBAMAAACkW0HUAAAAKlBMVEX///92dnZUVFSqqqoQEBDM\n",
       "zMzc3Nzu7u66uroyMjIiIiJERESIiIgAAACm0meuAAAAAXRSTlMAQObYZgAAAAlwSFlzAAAOxAAA\n",
       "DsQBlSsOGwAAADxJREFUCNdjYGA4vWrVBAaGzuMMQMA2HUQycCZAKDDJELIKCDYwVEN4XBCK5wCE\n",
       "ngyhinYUgOnGXasmAABvGQ6ucz2C1gAAAABJRU5ErkJggg==\n",
       "\" style=\"display:inline;vertical-align:middle;\" /></a></td></tr>\n",
       "<tr><td>12</td><td>ExprTuple</td><td>14, 15</td><td><a class=\"ProveItLink\" href=\"__pv_it/basic_expressions/5360a028616b01c3a90509aaac0eb2f9040ecc450/expr.ipynb\"><img src=\"data:image/png;base64,iVBORw0KGgoAAAANSUhEUgAAADIAAAAVBAMAAAD2uKAMAAAAMFBMVEX////MzMxUVFRERES6uroi\n",
       "IiIQEBCYmJhmZmYyMjLu7u52dnaqqqqIiIjc3NwAAACW8nlqAAAAAXRSTlMAQObYZgAAAAlwSFlz\n",
       "AAAOxAAADsQBlSsOGwAAASlJREFUKM9jYGB4wIAJ+EAE7wEkEfZpxj/DzBkYWC4AOadRFDPzKbCo\n",
       "WzEwXGdg4JqAJrOBwUCIgYFzAQNHAYZMHyfQ2AYGNgZMGWYgI4vhJKaM1iIgYzpDN5BsAOKnAjAZ\n",
       "Rpt5QMYmoBwDD8jd7y9AZTLjYxcAGZUMMQwMHCAh7gKozPYqsGuPMaQwMLgwcBkwsD+AmWZVDmLI\n",
       "g2Q2MLAoMHDDXSDBDDLNDWSaAiiEXsNlOOQMgIyjDLYMDIYM8g1c8xi4oDJcBsCgYSgGuo5h26bE\n",
       "z20FDOsngGUaGMqZHRiAvhFlYFj880FZLgMDaxQ4rD8/YLb8w8AQwsAqAPf/KeQICgAFHQxsQJIB\n",
       "BbQdjMN1AUnmMRAvhnF4kUMWpJ7vApZ0wPuAAQAHBEMuUuAgNAAAAABJRU5ErkJggg==\n",
       "\" style=\"display:inline;vertical-align:middle;\" /></a></td></tr>\n",
       "<tr><td>13</td><td>Variable</td><td></td><td><a class=\"ProveItLink\" href=\"__pv_it/basic_expressions/a0d9d672aa5e272d907247690c152cc2c6daafb70/expr.ipynb\"><img src=\"data:image/png;base64,iVBORw0KGgoAAAANSUhEUgAAAAsAAAAJBAMAAAAWSsseAAAAMFBMVEX///9ERES6uroQEBAyMjLc\n",
       "3NyYmJgiIiJmZmaqqqp2dnbMzMxUVFSIiIju7u4AAAAd7oVFAAAAAXRSTlMAQObYZgAAAAlwSFlz\n",
       "AAAOxAAADsQBlSsOGwAAAENJREFUCNdjYHh75/WqCQwMDbxnOQoY2ALY/vEkMHAzcDgwgADzBTCl\n",
       "H8D3gOGhwmEGLgaG+fuaGTQZGF7c5WybwAAAJTwQ1a2DuB8AAAAASUVORK5CYII=\n",
       "\" style=\"display:inline;vertical-align:middle;\" /></a></td></tr>\n",
       "<tr><td>14</td><td>Variable</td><td></td><td><a class=\"ProveItLink\" href=\"__pv_it/basic_expressions/2e5b33f8f44527195a10b6078888697e89a14e8e0/expr.ipynb\"><img src=\"data:image/png;base64,iVBORw0KGgoAAAANSUhEUgAAAA0AAAAJBAMAAAAbVLtZAAAAMFBMVEX///8QEBAyMjJUVFRERETu\n",
       "7u66urqYmJh2dnaIiIiqqqrMzMwiIiLc3NxmZmYAAADdGNx0AAAAAXRSTlMAQObYZgAAAAlwSFlz\n",
       "AAAOxAAADsQBlSsOGwAAAE9JREFUCNdjYHjAwMBwZwMD1wIgfX8CAx+QYuAoYEhjYHVgYL/A0MDA\n",
       "ZsDAwcBgwMC5gOEGA4M3w/4HrLoMDI3N0l8eFjAwhHy6UCjJwAAAJ3sRHWMNI4wAAAAASUVORK5C\n",
       "YII=\n",
       "\" style=\"display:inline;vertical-align:middle;\" /></a></td></tr>\n",
       "<tr><td>15</td><td>Literal</td><td></td><td><a class=\"ProveItLink\" href=\"../packages/proveit/numbers/number_sets/real_numbers/__pv_it/common/93cac87a1a47e613f7a83b23ef7891599a1a4cca0/expr.ipynb\"><img src=\"data:image/png;base64,iVBORw0KGgoAAAANSUhEUgAAAA8AAAAPBAMAAADJ+Ih5AAAAMFBMVEX///+IiIiqqqpmZmbMzMx2\n",
       "dnbu7u66urpUVFTc3NwiIiJEREQQEBAyMjKYmJgAAAA9S0TaAAAAAXRSTlMAQObYZgAAAAlwSFlz\n",
       "AAAOxAAADsQBlSsOGwAAAGFJREFUCNdjeHt6/63TDxiAYMMMhorXCSDGVAZulgYIg3nCBRhjA4TB\n",
       "kQaV8tadAGLMufVLDKx96rtcBgiDOw9i4FQWg20QBoPJbCgjmxEkt2EyA9+D7QwMQNt3Muy+rwAA\n",
       "UbUqpptLVNkAAAAASUVORK5CYII=\n",
       "\" style=\"display:inline;vertical-align:middle;\" /></a></td></tr>\n",
       "</table>\n"
      ],
      "text/plain": [
       "0. (x, omega) -> {x + omega if x in Real ,  omega in Real.\n",
       "   core type: Lambda\n",
       "   parameters: 5\\n   body: 1\n",
       "1. {x + omega if x in Real ,  omega in Real.\n",
       "   core type: Conditional\n",
       "   value: 2\n",
       "   condition: 3\n",
       "2. x + omega\n",
       "   core type: Operation\n",
       "   operator: 4\n",
       "   operands: 5\n",
       "3. (x in Real) and (omega in Real)\n",
       "   core type: Operation\n",
       "   operator: 6\n",
       "   operands: 7\n",
       "4. +\n",
       "   core type: Literal\n",
       "   sub-expressions: \n",
       "5. (x, omega)\n",
       "   core type: ExprTuple\n",
       "   sub-expressions: 13, 14\n",
       "6. and\n",
       "   core type: Literal\n",
       "   sub-expressions: \n",
       "7. (x in Real, omega in Real)\n",
       "   core type: ExprTuple\n",
       "   sub-expressions: 8, 9\n",
       "8. x in Real\n",
       "   core type: Operation\n",
       "   operator: 11\n",
       "   operands: 10\n",
       "9. omega in Real\n",
       "   core type: Operation\n",
       "   operator: 11\n",
       "   operands: 12\n",
       "10. (x, Real)\n",
       "    core type: ExprTuple\n",
       "    sub-expressions: 13, 15\n",
       "11. in\n",
       "    core type: Literal\n",
       "    sub-expressions: \n",
       "12. (omega, Real)\n",
       "    core type: ExprTuple\n",
       "    sub-expressions: 14, 15\n",
       "13. x\n",
       "    core type: Variable\n",
       "    sub-expressions: \n",
       "14. omega\n",
       "    core type: Variable\n",
       "    sub-expressions: \n",
       "15. Real\n",
       "    core type: Literal\n",
       "    sub-expressions: "
      ]
     },
     "metadata": {},
     "output_type": "display_data"
    }
   ],
   "source": [
    "lambda_expr.expr_info()"
   ]
  },
  {
   "cell_type": "markdown",
   "metadata": {},
   "source": [
    "The `parameters` and `body` attributes access these respective sub-expressions:"
   ]
  },
  {
   "cell_type": "code",
   "execution_count": 84,
   "metadata": {},
   "outputs": [
    {
     "data": {
      "text/html": [
       "<a class=\"ProveItLink\" href=\"__pv_it/basic_expressions/bcb16c68e42926ce03bf906fc9840ad12ddeb0490/expr.ipynb\"><img src=\"data:image/png;base64,iVBORw0KGgoAAAANSUhEUgAAAC8AAAAVBAMAAAAk6KpUAAAAMFBMVEX////MzMxUVFRERES6uroi\n",
       "IiIQEBCYmJhmZmYyMjLu7u52dnaqqqqIiIjc3NwAAACW8nlqAAAAAXRSTlMAQObYZgAAAAlwSFlz\n",
       "AAAOxAAADsQBlSsOGwAAARdJREFUKM9tkS9Mw1AQh79tbC39lxkMBtQcySQGaNAQhsAhJggITCWK\n",
       "VDGBmSNBkJIaEEsWDAKDXSChQQOpwSOBhIS7laYkbZN3793ve7n3uyuQUvqmkntfBpsaHso6bgDW\n",
       "sAJwDmZQBY6gVaXTiphUgtmAU9lGz5d3mTdTlrcN9iJncgzdJbM3BY8KfsAYsisxNb7rmYdQwy04\n",
       "ffaghvnnecYnhmORPhSIiSQDNqzDWG70tRRspVakex1e8AQ4PVYg9jt6V1CjXfvkWkZodLmBp/kT\n",
       "NrC+pNRhZ2H5QG2PmYOrV2cgbexEWGsXxr6+1/RptvNunajo/F2qhXli/xvJQNZqnowK3etKiPMs\n",
       "KUBD/62XlIf7Br/pyzf8QGdMkAAAAABJRU5ErkJggg==\n",
       "\" style=\"display:inline;vertical-align:middle;\" /></a>"
      ],
      "text/plain": [
       "(x, omega)"
      ]
     },
     "metadata": {},
     "output_type": "display_data"
    }
   ],
   "source": [
    "lambda_expr.parameters"
   ]
  },
  {
   "cell_type": "code",
   "execution_count": 85,
   "metadata": {},
   "outputs": [
    {
     "data": {
      "text/html": [
       "<a class=\"ProveItLink\" href=\"__pv_it/basic_expressions/7d82a18ae48d460ee01bcdfcc43c77a7bbe0f3dc0/expr.ipynb\"><img src=\"data:image/png;base64,iVBORw0KGgoAAAANSUhEUgAAANMAAAAVBAMAAAAumMZDAAAAMFBMVEX///9ERETMzMxUVFSYmJgQ\n",
       "EBDc3NxmZmYiIiJ2dnaqqqoyMjKIiIi6urru7u4AAAB85a56AAAAAXRSTlMAQObYZgAAAAlwSFlz\n",
       "AAAOxAAADsQBlSsOGwAAAqdJREFUSMdjYGDgu8tAL3D6HmE1LGexC28V/N0qglubd6D8jkAHOJfr\n",
       "HwFrUoFqd+lfwCrHyGbAayKHW69AMsNlxwcwHmcDAavuFzCwNCQ/wGHVBAYBZTxWZTIwMhngsOoK\n",
       "hnI+BgZmAxxGgawq48ZrFXvCBhxWrcGmg7kATeBgR8cGuFWMmBpg8mCrBCix6vY5JF/ZPcZQD5cH\n",
       "WsX8DiUA+c7Yac5CtQpkeIYCkGDbasBkGgxW/ubwo5kLQEL7kAKQSWobhM0OkmliQJEHWqW4OgHG\n",
       "Y98AUnX4QAWKVVwgI/MPgJjcBrC4KuCxYQeFAXcCwqro/h5oilkFsuQPA4q8QOqOH+dQ0rIbg/8D\n",
       "ExSr2MEeBmcJRphVLAks/5hBQtxIyWKK3wakcGCYwoAiL5Dp8hrOSd4LJBQYqsGcio6O0I6OZiDr\n",
       "LgOfANBsFKuYwCEABKodQCAADUA5F4hBvBcYHoIcjSIvkMn4BJ6FmQrB/o9BSxYTGHgNGDgZUKxi\n",
       "YGAFhyjISERcqTNCAhCo+DJIH4q8QCZTASKHM4KM4f3G8A7FKgMGngUMmehW3U/gA5nLgWwVuxok\n",
       "MTMzMJxiYANbxYGcr4oSGZBSIJ8scwDEPXCrhBj0C/i2oVr18IIpxKM8B5Cs4hM4wsAAdACjAtN3\n",
       "htcJqPJAqx7yOCBZxfXpeQDvAhSrpk4O+lgKUcMoAEJAsF6vlOEWWGgXwqoCBhfGC3y/geZEmuqL\n",
       "hzCgygukM7A4yIJY7zdAfFVzYLkXalw9/J3gCok/YKZ6ZPoZ5M7nZ7hKIA56LPsAVrJ/TGCU/sXQ\n",
       "8YCBT34bSyjUOzB5YMkuxiC4H6SJo4C40gID3JTo2IDM53qAX57I4pYYwEmUKp4AKlSvb4hSxfaL\n",
       "ClYdIE5ZuhV9GhYAR6W5Ew7uaaUAAAAASUVORK5CYII=\n",
       "\" style=\"display:inline;vertical-align:middle;\" /></a>"
      ],
      "text/plain": [
       "{x + omega if x in Real ,  omega in Real."
      ]
     },
     "metadata": {},
     "output_type": "display_data"
    }
   ],
   "source": [
    "lambda_expr.body"
   ]
  },
  {
   "cell_type": "markdown",
   "metadata": {},
   "source": [
    "If a `Lambda` map has one *parameter*, it will have a `parameter` attribute."
   ]
  },
  {
   "cell_type": "code",
   "execution_count": 86,
   "metadata": {},
   "outputs": [
    {
     "data": {
      "text/html": [
       "<strong id=\"single_param_lambda\">single_param_lambda:</strong> <a class=\"ProveItLink\" href=\"__pv_it/basic_expressions/a6058ec6bbdb96aeb78124eff0628514f9a5e3d20/expr.ipynb\"><img src=\"data:image/png;base64,iVBORw0KGgoAAAANSUhEUgAAAF8AAAAVCAMAAAAXUcLNAAAANlBMVEX///8WFhYNDQ1ERES6uroQ\n",
       "EBAyMjLc3NyYmJgiIiJmZmaqqqp2dnbMzMxUVFSIiIju7u4AAAA4Zhc9AAAAAXRSTlMAQObYZgAA\n",
       "AAlwSFlzAAAOxAAADsQBlSsOGwAAAW1JREFUOMutVdt2xCAItPWKouD//2w1ahs37jbuWR+SSHAc\n",
       "RkAh9of9qNtlUCiPWL/4JYSit+AD1qfOxgDwayLuDXg2xwt0BuR/fA3v4/tGKt3xdf6G2g8aa3Ef\n",
       "X+hlAJMxzByC2cE3NVgmShwRw7DC5DPPPHZ8R5jiMi0Tku2pg5VGIUiJhIc1YpAXRmXIEqTNapGV\n",
       "uggqc9PAlWhdmbsyT26NL0ieBINw+iPhqq2uMINr0K1SvDn7fH/BNPKJpz5T9rkfPmfzazpYdBVj\n",
       "7qvoueJCmRNmx5emgY0TgJEFWh7bqSFWe1UezGv8OFVJ10cfPilf5MmVqRv2AIKlEqlug0/4m6kA\n",
       "ZIsU/8g+4Nf9kxHhWOWkCDmyL/jq7+DUi/zHlvi2WmlRPnX/UNTyI5vZExUQF56UCM5JHntw1vvk\n",
       "F9XJiTDaRG0VqO3+A3HjooD9/nanZz30wr0hb99LVr5zv7D8PJOZ1s177+jsP6hbC/+Cc217AAAA\n",
       "AElFTkSuQmCC\n",
       "\" style=\"display:inline;vertical-align:middle;\" /></a><br>"
      ],
      "text/plain": [
       "<IPython.core.display.HTML object>"
      ]
     },
     "metadata": {},
     "output_type": "display_data"
    }
   ],
   "source": [
    "single_param_lambda = Lambda(x, Mult(FIVE, a))"
   ]
  },
  {
   "cell_type": "code",
   "execution_count": 87,
   "metadata": {},
   "outputs": [
    {
     "data": {
      "text/html": [
       "<a class=\"ProveItLink\" href=\"__pv_it/basic_expressions/a0d9d672aa5e272d907247690c152cc2c6daafb70/expr.ipynb\"><img src=\"data:image/png;base64,iVBORw0KGgoAAAANSUhEUgAAAAsAAAAJBAMAAAAWSsseAAAAMFBMVEX///9ERES6uroQEBAyMjLc\n",
       "3NyYmJgiIiJmZmaqqqp2dnbMzMxUVFSIiIju7u4AAAAd7oVFAAAAAXRSTlMAQObYZgAAAAlwSFlz\n",
       "AAAOxAAADsQBlSsOGwAAAENJREFUCNdjYHh75/WqCQwMDbxnOQoY2ALY/vEkMHAzcDgwgADzBTCl\n",
       "H8D3gOGhwmEGLgaG+fuaGTQZGF7c5WybwAAAJTwQ1a2DuB8AAAAASUVORK5CYII=\n",
       "\" style=\"display:inline;vertical-align:middle;\" /></a>"
      ],
      "text/plain": [
       "x"
      ]
     },
     "metadata": {},
     "output_type": "display_data"
    }
   ],
   "source": [
    "single_param_lambda.parameter"
   ]
  },
  {
   "cell_type": "markdown",
   "metadata": {},
   "source": [
    "### Lambda relabeling and relabeled equivalence"
   ]
  },
  {
   "cell_type": "markdown",
   "metadata": {},
   "source": [
    "The choice of *parameter* *labels* has no effect on the meaning of a `Lambda` map.  We are free to \"relabel\" the *parameters* (via `Lambda.relabeled`) as long as it is done consistently and distinct labels remain distinct."
   ]
  },
  {
   "cell_type": "code",
   "execution_count": 88,
   "metadata": {},
   "outputs": [
    {
     "data": {
      "text/html": [
       "<a class=\"ProveItLink\" href=\"__pv_it/basic_expressions/60c41d2fc10e783bdc8f5485aabd88a45530d3880/expr.ipynb\"><img src=\"data:image/png;base64,iVBORw0KGgoAAAANSUhEUgAAASYAAAAVCAMAAADcg7NfAAAANlBMVEX///8WFhYNDQ3MzMxUVFRE\n",
       "RES6uroiIiIQEBCYmJhmZmYyMjLu7u52dnaqqqqIiIjc3NwAAACzeusSAAAAAXRSTlMAQObYZgAA\n",
       "AAlwSFlzAAAOxAAADsQBlSsOGwAAAu5JREFUWMPdWNu2oyAMZYaEu1z+/2cPiloVqKF1rTlreGit\n",
       "NTvJTgiJjOUVGWXRnlqXE4L9Zyt40mMiDEBa4R6xTYchurVViMlKhfojbW/E/UT1nazapy9Jiqro\n",
       "sp6nsbREFiGHFDR+ZEJX3FkyhqVqnuSXSSSSWaIrs9Vu1M9p+eLwIU1tcUNPT20eoUkQNBZuAD71\n",
       "00Rmv6CpFlcDIKoT2RBHaPLkIge3cQko87ItP5FSR6jifoR0qy/h3kDMv6FJ2ODa6QDO3WfigLhZ\n",
       "C7gLARyfptOpt1kZJS/uv2TPRMg2TU3QiqarlnxlVdbEQanDtqvBYqNYFj85ehtvlAyJbwmSYQIE\n",
       "Zo4O+82imMJ6YHaI8ecUNbYPWtFUaVnMgqo21WA2NouLsjLJS560lAyIM1nkdRbR+RgH3YhATo9y\n",
       "26te/oTjAbod503QiqZKy2JuRVMDzHZqsNbV8d1SMiDOVGlL+CEH9q07/+Vws3F+Ku1//v0jTyvt\n",
       "/U0Eu15WoGZ5VKnlC3pa2jTVFnK1KcfLrkGn9Y0rQ+I7TcvlpWYsVUvAfpl/dLNJ2BcON4fUUuGm\n",
       "hNda2jTVYA57Jzo37NwetpQMiO+bbmnpMs/u8Dfsk0xcsb3s0MTP1RChC1rRVGvp0nQFk93Gx/CI\n",
       "t0ro4vl+KMwKBmrjejUE+bzNzNyor4mqsaPjUg3LSXcG7dFUa2nS1AILoednzpQyWrk3SgjiL4+g\n",
       "DGHcmWyEmAl3qZSASU2geEKj9KV7mCN73zedQPubrtKymIuvT9YFs77l52xMLi6Z1zeukMTXCGUQ\n",
       "XgJvMrXe6CInpSsBTJl7rV4VQXbG0Im3aDqD9miqtawdk8ufCba7TTAHeH4TUUZ8jDPDNvk3rtDE\n",
       "V7czc5I3+uT2UBKpE+1TXThhRp7wPG0QXaGKv51nO69WyFPy96PvY2t6CgirZtS1wx2RChkU+yXL\n",
       "PZa5df8QqHx236ol/0toenB/RxpWGHgZHg38FqIeWT8n3yX5b0cTRQAAAABJRU5ErkJggg==\n",
       "\" style=\"display:inline;vertical-align:middle;\" /></a>"
      ],
      "text/plain": [
       "(x, omega) -> {x + omega if x in Real ,  omega in Real."
      ]
     },
     "metadata": {},
     "output_type": "display_data"
    }
   ],
   "source": [
    "lambda_expr"
   ]
  },
  {
   "cell_type": "code",
   "execution_count": 89,
   "metadata": {},
   "outputs": [
    {
     "data": {
      "text/html": [
       "<strong id=\"lambda_expr_v2\">lambda_expr_v2:</strong> <a class=\"ProveItLink\" href=\"__pv_it/basic_expressions/af2483277b0a0c2162dc2a430b4bb1cc9d2f27520/expr.ipynb\"><img src=\"data:image/png;base64,iVBORw0KGgoAAAANSUhEUgAAASMAAAAVCAMAAAA6qngbAAAANlBMVEX///8WFhYNDQ3MzMxUVFRE\n",
       "RES6uroiIiIQEBCYmJhmZmYyMjLu7u52dnaqqqqIiIjc3NwAAACzeusSAAAAAXRSTlMAQObYZgAA\n",
       "AAlwSFlzAAAOxAAADsQBlSsOGwAAAxhJREFUWMPdWNmS4yAMZIb7hv//2QUMsc0Ry06qtmp4SFJJ\n",
       "1C01QkhGKK2AAAv0p9cyjKG/tLyD/Iv5O5CamW+4Jv0NqaUWlEbNBZWPuN6YOwuMG87s4mcKBbFx\n",
       "aYfjnXykKJC0m0TSR/xLc6OhEBpMbPln6cOiKjvLk9PmXpC2vGHyUKO5uQKnh1Tf0IhB+DZhCHkW\n",
       "pApIf6DRaC7gGGKxpz7c0MjB6xq52hRPeVp6EiQFVQ+gubuhuJbdRjcM9V80YtqbaSIQYwAZCDdX\n",
       "W8U2vpy5/sdWQzkuoe+/nkXgc42moL1GHUf5qEUywUSI/bSNWGGsj1uQmDodrjjumNfcsMjlQyfj\n",
       "KZzWFITot9txoYrrUlvpN6BnjXqO6hXp69GIpcOsoAjNI+8SZMoBN0e82GOHVA6b0Jn8ycOipBOr\n",
       "zPGn27Je3XPQTqOeo3rbazTB0vOiK+VwU0854OZIsFpeRPZdHAMorbIpTskiOt438feHn1bc+5hA\n",
       "NEMzUFX+KUR5IwuOhUajg1g0bno+LNTI89U55YCbN41yS2KyCPhYVcr35PURsWUeMX1o9bBqWTUB\n",
       "7fJo4FhoNGIZuri8sULnHnDKATdvZ62WEH9qBMhrUAkbtuMLjXBX/yhZgnYaDRxLjQYsvmpwFA70\n",
       "mgNsnr73B68211q8FOeNU7kV31JU0gVDX//a3X8AXWg0cCw1GrC8XwSZUmSbm8w7jmvzPZy25XlS\n",
       "ieV6jbVoWWGJwJGqOj21PqGkLqg/2kGXZ63nqN7S/RWtsLSbBJldSQWFsj2QBceVeT2TCQTXcAyx\n",
       "XsWiM+emHtmYhJfiVSf5Yr60eKHRAXSh0cBRjm7ujEx6jWT/esQyhJ6eLmyDOw1ZXB3dK5ApB8C8\n",
       "Bp1kO7RVtiaQm88cATypHvtsqx/32SNuh8UsPQ0TQ0//fiC+Mu8m1cxuhDtcBOOCT79VoxPorZl2\n",
       "Ls+AdWn0rUdsObsQT7tLbGv752lEwZD1+jmCfrqeYBn/LY1Kp+CkV63a+DdaAp+Rbcf5CPrpeoL1\n",
       "NYlSRCAsf+eBdlDEob+y/gESRibUbGYp8QAAAABJRU5ErkJggg==\n",
       "\" style=\"display:inline;vertical-align:middle;\" /></a><br>"
      ],
      "text/plain": [
       "<IPython.core.display.HTML object>"
      ]
     },
     "metadata": {},
     "output_type": "display_data"
    }
   ],
   "source": [
    "lambda_expr_v2 = lambda_expr.relabeled({x:y})"
   ]
  },
  {
   "cell_type": "markdown",
   "metadata": {},
   "source": [
    "We can even simultaneously swap labels:"
   ]
  },
  {
   "cell_type": "code",
   "execution_count": 90,
   "metadata": {},
   "outputs": [
    {
     "data": {
      "text/html": [
       "<a class=\"ProveItLink\" href=\"__pv_it/basic_expressions/60c41d2fc10e783bdc8f5485aabd88a45530d3880/expr.ipynb\"><img src=\"data:image/png;base64,iVBORw0KGgoAAAANSUhEUgAAASYAAAAVCAMAAADcg7NfAAAANlBMVEX///8WFhYNDQ3MzMxUVFRE\n",
       "RES6uroiIiIQEBCYmJhmZmYyMjLu7u52dnaqqqqIiIjc3NwAAACzeusSAAAAAXRSTlMAQObYZgAA\n",
       "AAlwSFlzAAAOxAAADsQBlSsOGwAAAu5JREFUWMPdWNu2oyAMZYaEu1z+/2cPiloVqKF1rTlreGit\n",
       "NTvJTgiJjOUVGWXRnlqXE4L9Zyt40mMiDEBa4R6xTYchurVViMlKhfojbW/E/UT1nazapy9Jiqro\n",
       "sp6nsbREFiGHFDR+ZEJX3FkyhqVqnuSXSSSSWaIrs9Vu1M9p+eLwIU1tcUNPT20eoUkQNBZuAD71\n",
       "00Rmv6CpFlcDIKoT2RBHaPLkIge3cQko87ItP5FSR6jifoR0qy/h3kDMv6FJ2ODa6QDO3WfigLhZ\n",
       "C7gLARyfptOpt1kZJS/uv2TPRMg2TU3QiqarlnxlVdbEQanDtqvBYqNYFj85ehtvlAyJbwmSYQIE\n",
       "Zo4O+82imMJ6YHaI8ecUNbYPWtFUaVnMgqo21WA2NouLsjLJS560lAyIM1nkdRbR+RgH3YhATo9y\n",
       "26te/oTjAbod503QiqZKy2JuRVMDzHZqsNbV8d1SMiDOVGlL+CEH9q07/+Vws3F+Ku1//v0jTyvt\n",
       "/U0Eu15WoGZ5VKnlC3pa2jTVFnK1KcfLrkGn9Y0rQ+I7TcvlpWYsVUvAfpl/dLNJ2BcON4fUUuGm\n",
       "hNda2jTVYA57Jzo37NwetpQMiO+bbmnpMs/u8Dfsk0xcsb3s0MTP1RChC1rRVGvp0nQFk93Gx/CI\n",
       "t0ro4vl+KMwKBmrjejUE+bzNzNyor4mqsaPjUg3LSXcG7dFUa2nS1AILoednzpQyWrk3SgjiL4+g\n",
       "DGHcmWyEmAl3qZSASU2geEKj9KV7mCN73zedQPubrtKymIuvT9YFs77l52xMLi6Z1zeukMTXCGUQ\n",
       "XgJvMrXe6CInpSsBTJl7rV4VQXbG0Im3aDqD9miqtawdk8ufCba7TTAHeH4TUUZ8jDPDNvk3rtDE\n",
       "V7czc5I3+uT2UBKpE+1TXThhRp7wPG0QXaGKv51nO69WyFPy96PvY2t6CgirZtS1wx2RChkU+yXL\n",
       "PZa5df8QqHx236ol/0toenB/RxpWGHgZHg38FqIeWT8n3yX5b0cTRQAAAABJRU5ErkJggg==\n",
       "\" style=\"display:inline;vertical-align:middle;\" /></a>"
      ],
      "text/plain": [
       "(x, omega) -> {x + omega if x in Real ,  omega in Real."
      ]
     },
     "metadata": {},
     "output_type": "display_data"
    }
   ],
   "source": [
    "lambda_expr"
   ]
  },
  {
   "cell_type": "code",
   "execution_count": 91,
   "metadata": {},
   "outputs": [
    {
     "data": {
      "text/html": [
       "<a class=\"ProveItLink\" href=\"__pv_it/basic_expressions/e74a8579e9994f7c4b6efb05f2e769119a9ced900/expr.ipynb\"><img src=\"data:image/png;base64,iVBORw0KGgoAAAANSUhEUgAAASYAAAAVCAMAAADcg7NfAAAANlBMVEX///8WFhYNDQ3MzMxUVFRE\n",
       "RES6uroiIiIQEBCYmJhmZmYyMjLu7u52dnaqqqqIiIjc3NwAAACzeusSAAAAAXRSTlMAQObYZgAA\n",
       "AAlwSFlzAAAOxAAADsQBlSsOGwAAAvpJREFUWMPdWFmy4yAMZAZkVrPc/7KPgJcAUoITV82r4SNL\n",
       "lbsltYQQZiyvyGbW3FPbcsvC/rMV/NRjS7hAaRd3i286XJNbWwWQrFSgP7H2Au3X2dinLfv0pUhR\n",
       "VVvW83SxLIFFkXMqNHziA4l2dprDzhpe5ZdFtCRTsiuz1+5yoGv54uIzmXC0ma9ObW6SaXlrs2oj\n",
       "xMeBmsgsuxGtLpAoIrMhXpPJT7Y5MZGXADIviwQK18Ek2l/R3Oou3TuJ+VcyLTY4tB6Ec+I6mESb\n",
       "rYHvDkXJm+IPQTi+rvUwXE9sK4TEZSJIB5laK/l5q7IlLpR62nYYWRzbZQ2Ug7fxtREMTKK3AvGH\n",
       "h6kJIfsWRGBGbgcmIYxvS9TYl6SDTK2V4pboexNKZiMWqLIyyaFQBiMImERL36QqV8Jze9WZSefT\n",
       "XWxiKqp+wvMBuh/nBOkgU2eluDvIhJJZvAlrPZ7foxHL5tGqjCVlZnaw0x2Ln6VR/qbj598/slnp\n",
       "mG+isPUnRmrKw0qVL4FbQWVCPeRqNw/ttgGn+8N0MIKBSXSVqTSoRRw/myfO1C9kNS32nAK5qaVF\n",
       "kyItXIXXMqFkDogjnRuGTZeNEQxMouumE8elJa7DpJeT5yrKS0Im3nbDLUiSdJTp2QoqE04mqcnH\n",
       "8AjsjRHJ5tFQPAb+2FHmMZPHp+PewcKEOhOogXCw64b1pOtJKZl6K6hMOFkIRKC5VOrdytFGEHCP\n",
       "PiOqdaxWoXgCU5uvS9tRlbgzmXvx7fTwyMz7uakjJWXqrRR34fxkL8isRwJ9eJO7SxbmiAQ1MoI7\n",
       "9KZw5uCyap1ykrTaN6+UJQvOZMW90TudJK6hK8dk6knJauqsbBOTy59JhKMaUDInoHkXUe/4EB8S\n",
       "2+SPSBAjI3hEb2Fn5brJbw8Eu5bE2RvtXVP41C15hfa+MRPJLPjdfRZ9uTJ9S/7+6nvfWm/iAWQY\n",
       "dVi6I8xSBsV+y3J3FS42P4RZPYm3asn/Fpnu295xjipceBkejfg1Qt2xfgAJ5yX5iDLTbwAAAABJ\n",
       "RU5ErkJggg==\n",
       "\" style=\"display:inline;vertical-align:middle;\" /></a>"
      ],
      "text/plain": [
       "(omega, x) -> {omega + x if omega in Real ,  x in Real."
      ]
     },
     "metadata": {},
     "output_type": "display_data"
    }
   ],
   "source": [
    "lambda_expr.basic_replaced({x:omega, omega:x}, allow_relabeling=True)"
   ]
  },
  {
   "cell_type": "code",
   "execution_count": 92,
   "metadata": {},
   "outputs": [
    {
     "data": {
      "text/html": [
       "<strong id=\"lambda_expr_v3\">lambda_expr_v3:</strong> <a class=\"ProveItLink\" href=\"__pv_it/basic_expressions/e74a8579e9994f7c4b6efb05f2e769119a9ced900/expr.ipynb\"><img src=\"data:image/png;base64,iVBORw0KGgoAAAANSUhEUgAAASYAAAAVCAMAAADcg7NfAAAANlBMVEX///8WFhYNDQ3MzMxUVFRE\n",
       "RES6uroiIiIQEBCYmJhmZmYyMjLu7u52dnaqqqqIiIjc3NwAAACzeusSAAAAAXRSTlMAQObYZgAA\n",
       "AAlwSFlzAAAOxAAADsQBlSsOGwAAAvpJREFUWMPdWFmy4yAMZAZkVrPc/7KPgJcAUoITV82r4SNL\n",
       "lbsltYQQZiyvyGbW3FPbcsvC/rMV/NRjS7hAaRd3i286XJNbWwWQrFSgP7H2Au3X2dinLfv0pUhR\n",
       "VVvW83SxLIFFkXMqNHziA4l2dprDzhpe5ZdFtCRTsiuz1+5yoGv54uIzmXC0ma9ObW6SaXlrs2oj\n",
       "xMeBmsgsuxGtLpAoIrMhXpPJT7Y5MZGXADIviwQK18Ek2l/R3Oou3TuJ+VcyLTY4tB6Ec+I6mESb\n",
       "rYHvDkXJm+IPQTi+rvUwXE9sK4TEZSJIB5laK/l5q7IlLpR62nYYWRzbZQ2Ug7fxtREMTKK3AvGH\n",
       "h6kJIfsWRGBGbgcmIYxvS9TYl6SDTK2V4pboexNKZiMWqLIyyaFQBiMImERL36QqV8Jze9WZSefT\n",
       "XWxiKqp+wvMBuh/nBOkgU2eluDvIhJJZvAlrPZ7foxHL5tGqjCVlZnaw0x2Ln6VR/qbj598/slnp\n",
       "mG+isPUnRmrKw0qVL4FbQWVCPeRqNw/ttgGn+8N0MIKBSXSVqTSoRRw/myfO1C9kNS32nAK5qaVF\n",
       "kyItXIXXMqFkDogjnRuGTZeNEQxMouumE8elJa7DpJeT5yrKS0Im3nbDLUiSdJTp2QoqE04mqcnH\n",
       "8AjsjRHJ5tFQPAb+2FHmMZPHp+PewcKEOhOogXCw64b1pOtJKZl6K6hMOFkIRKC5VOrdytFGEHCP\n",
       "PiOqdaxWoXgCU5uvS9tRlbgzmXvx7fTwyMz7uakjJWXqrRR34fxkL8isRwJ9eJO7SxbmiAQ1MoI7\n",
       "9KZw5uCyap1ykrTaN6+UJQvOZMW90TudJK6hK8dk6knJauqsbBOTy59JhKMaUDInoHkXUe/4EB8S\n",
       "2+SPSBAjI3hEb2Fn5brJbw8Eu5bE2RvtXVP41C15hfa+MRPJLPjdfRZ9uTJ9S/7+6nvfWm/iAWQY\n",
       "dVi6I8xSBsV+y3J3FS42P4RZPYm3asn/Fpnu295xjipceBkejfg1Qt2xfgAJ5yX5iDLTbwAAAABJ\n",
       "RU5ErkJggg==\n",
       "\" style=\"display:inline;vertical-align:middle;\" /></a><br>"
      ],
      "text/plain": [
       "<IPython.core.display.HTML object>"
      ]
     },
     "metadata": {},
     "output_type": "display_data"
    }
   ],
   "source": [
    "lambda_expr_v3 = lambda_expr.relabeled({x:omega, omega:x})"
   ]
  },
  {
   "cell_type": "markdown",
   "metadata": {},
   "source": [
    "But we cannot allow a collision of the label mappings:"
   ]
  },
  {
   "cell_type": "code",
   "execution_count": 93,
   "metadata": {},
   "outputs": [
    {
     "name": "stdout",
     "output_type": "stream",
     "text": [
      "EXPECTED ERROR:  Invalid relabeling of (x, omega) -> {x + omega if x in Real ,  omega in Real.: {x: y, omega: y}\n"
     ]
    }
   ],
   "source": [
    "from proveit import ParameterRelabelingError\n",
    "try:\n",
    "    lambda_expr.relabeled({x:y, omega:y})\n",
    "    assert False, (\"Expecting a ParameterRelabelingError error; \"\n",
    "                   \"should not make it to this point.\")\n",
    "except ParameterRelabelingError as e:\n",
    "    print(\"EXPECTED ERROR: \", e)"
   ]
  },
  {
   "cell_type": "code",
   "execution_count": 94,
   "metadata": {},
   "outputs": [
    {
     "name": "stdout",
     "output_type": "stream",
     "text": [
      "EXPECTED ERROR:  Invalid relabeling of (x, omega) -> {x + omega if x in Real ,  omega in Real.: {x: omega}\n"
     ]
    }
   ],
   "source": [
    "try:\n",
    "    lambda_expr.relabeled({x:omega})\n",
    "    assert False, (\"Expecting a ParameterRelabelingError error; \"\n",
    "                   \"should not make it to this point.\")\n",
    "except ParameterRelabelingError as e:\n",
    "    print(\"EXPECTED ERROR: \", e)"
   ]
  },
  {
   "cell_type": "markdown",
   "metadata": {},
   "source": [
    "Also, an exception is raised if we attempt to relabel to a non-Variable."
   ]
  },
  {
   "cell_type": "code",
   "execution_count": 95,
   "metadata": {},
   "outputs": [
    {
     "name": "stdout",
     "output_type": "stream",
     "text": [
      "EXPECTED ERROR:  May only relabel Variables/IndexedVars to Variables/IndexedVars; may not relabel f(x)\n"
     ]
    }
   ],
   "source": [
    "try:\n",
    "    lambda_expr.relabeled({x:fx})\n",
    "    assert False, (\"Expecting a TypeError error; \"\n",
    "                   \"should not make it to this point.\")\n",
    "except TypeError as e:\n",
    "    print(\"EXPECTED ERROR: \", e)"
   ]
  },
  {
   "cell_type": "markdown",
   "metadata": {},
   "source": [
    "Moreover, **Prove-It** recognizes the different valid relabeled versions of *Lambda* expressions as the *same* **expression** with respect to *meaning*.  They are regarded as equal."
   ]
  },
  {
   "cell_type": "code",
   "execution_count": 96,
   "metadata": {},
   "outputs": [],
   "source": [
    "assert lambda_expr == lambda_expr_v2 == lambda_expr_v3"
   ]
  },
  {
   "cell_type": "markdown",
   "metadata": {},
   "source": [
    "These are recognized as having distinct *styles* of presentation, however.    **Prove-It** provides flexibility with respect to presentation style of expressions while recognizing the *meaning* equivalence when style is the only distinction.  This is the first of many examples to be encountered."
   ]
  },
  {
   "cell_type": "markdown",
   "metadata": {},
   "source": [
    "### Lambda scope and substitution rules"
   ]
  },
  {
   "cell_type": "markdown",
   "metadata": {},
   "source": [
    "It is important to understand that a `Lambda` expression defines a new scope within its *body* with respect to the *parameters*.  This has two important consequences with respect to substitution rules."
   ]
  },
  {
   "cell_type": "markdown",
   "metadata": {},
   "source": [
    "The first consequence of the internal `Lambda` scope is that the `Lambda` masks the substitution of variables that happen to be the same as any of the `Lambda` parameters.  For example,"
   ]
  },
  {
   "cell_type": "code",
   "execution_count": 97,
   "metadata": {},
   "outputs": [
    {
     "data": {
      "text/html": [
       "<strong id=\"tuple_with_lambda\">tuple_with_lambda:</strong> <a class=\"ProveItLink\" href=\"__pv_it/basic_expressions/50b7a7232c3a32ef5826a608f6c8222ae80d2e430/expr.ipynb\"><img src=\"data:image/png;base64,iVBORw0KGgoAAAANSUhEUgAAAUsAAAAVCAMAAAD4mjyfAAAANlBMVEX///8WFhYNDQ3MzMxUVFRE\n",
       "RES6uroiIiIQEBCYmJhmZmYyMjLu7u52dnaqqqqIiIjc3NwAAACzeusSAAAAAXRSTlMAQObYZgAA\n",
       "AAlwSFlzAAAOxAAADsQBlSsOGwAAA3NJREFUWMPdWdmS4yAMZBcwpzn+/2cHG2MHkAhOXLVTy0OS\n",
       "GrnVUiNAZghJI5DBGBpvPlWGXRbyX40zfe8GTw2N11j8DWZvFvtICsrfmRNlJOfRCMnVR2QDeEnf\n",
       "rQMHQ2Olz3x8Ln6pZJCZzDgabxU4J4GlxJniH0UwgOf0rRktRjNNZKbDW8WX5bhEvReKSLnZm2Ks\n",
       "+xdlH2qJwvf09aig9Hy1Kf2IlssMYxaQsQ/F0IGYL7QE4Xv6coSWN5gkUiI+3NHSzW+87N3seS7S\n",
       "MJAYfGrfavBDeErfjWbI3Zk+o5q6KU70v9FyMd7ChcWsnSjpHj+Ep/T1cbhY75ml61od28WIWMtR\n",
       "IOgu0UVQiyUQLUGnrZYNyf7TyERFmZQvq7xzFoANPItBuTPhHQmEx+DkSL9UU3LnmSdagKUGWV0J\n",
       "O0SfewZEPdesCG0GlI2WLckRF+v2y84ZlG8SQxoRRVNwIAmAR+ClZSIi+1EJqVKvwqqt/zDC1muF\n",
       "rfufncQq0Vc9ROloYMpGy5bkSKrTsndmkMNDqa45AUnMNPwIXBKZGzT6Ui8v++nRvUHW/dXF8pJI\n",
       "eiietr9/RDXi1QYGZhCnen9Uyv2LISSYll2EVBZy3ixSbpUaZ4LhYXgBxFOuTTmPaQlZ9610YedP\n",
       "sqB1uZgXP1S/VGlPWddlR4Jp2TmzHGtqqCZ1rw2SQHgYXpKU5zLeOuA0KdZCaxyysvMNM+QInEC0\n",
       "pM0uztmAstayIxlo2TgTaIOoaeDvScQsvAQuCPd5FhbCZJmYM55shK2cbnWtt3ejvDAUR+Jod/F8\n",
       "jtdOES07EkRLwJn3mBip5I5XvhEJgG/gzdnDj07GRWp1imXZZsdGc53zqHWVK5M0ci1V00ClByf6\n",
       "y8opusZbkiMpfn0SzJlxkBhbMGnDS9rjmWD4Gn7MYhErpU9zkeg0DU6rDBfimLFshK2WxzSNSp67\n",
       "lECuGVYKalk7RbTsSPaots7Sps/Iyp8hZ5bx+joqX/TwsM2CiQ7PBMZ38CNtfaUvKLD2iw/IeFnr\n",
       "y5vpG4un3nvev7msvH6HnMtkHt+mD91JrMMLi/XLa5Dv7zaeGutzrnL6vGvw7VUbvfHV+jovfJrW\n",
       "S/I7hn1uDRzp952UH7ZpcAB8/r8UIbrfoeWD20lJP4x8hjlCf+cfPkGzX6LmY7Oypf8DSJMsFotb\n",
       "xTYAAAAASUVORK5CYII=\n",
       "\" style=\"display:inline;vertical-align:middle;\" /></a><br>"
      ],
      "text/plain": [
       "<IPython.core.display.HTML object>"
      ]
     },
     "metadata": {},
     "output_type": "display_data"
    }
   ],
   "source": [
    "tuple_with_lambda = ExprTuple(x, lambda_expr)"
   ]
  },
  {
   "cell_type": "code",
   "execution_count": 98,
   "metadata": {},
   "outputs": [
    {
     "data": {
      "text/html": [
       "<a class=\"ProveItLink\" href=\"__pv_it/basic_expressions/5498d61d0345f5caa2a23776ebce810b1c0a94600/expr.ipynb\"><img src=\"data:image/png;base64,iVBORw0KGgoAAAANSUhEUgAAAUoAAAAVCAMAAAAXWFehAAAANlBMVEX///8WFhYNDQ3MzMxUVFRE\n",
       "RES6uroiIiIQEBCYmJhmZmYyMjLu7u52dnaqqqqIiIjc3NwAAACzeusSAAAAAXRSTlMAQObYZgAA\n",
       "AAlwSFlzAAAOxAAADsQBlSsOGwAAA49JREFUWMPdWdmS4yAMZBdkTnP8/88OxhCbM5C4aqeWh5nM\n",
       "yFLTjRAyQcgPi/pjZFt9Kg61bej/Gi/6RvcfGtluYzPzuEZu6hEC3CwtCZcMwEnKgH+ENnBP9PXe\n",
       "9x/Zcn2mp6fdl0JadmJJjd1aegOyxPMmHD6awsD9pK/kYCvKaRw5O7udfpmMmxMhS6hnpla12MMv\n",
       "TD6Ususe6ItBPon5rcDFI1JuE4infoR8qoWwSH4hZdM90GcDZ7YAxDoZYuyKlHq66JK3a2eA+iFb\n",
       "WsBMzVpy9/T1YIH0yuJJXqRNCiL+jZSbNKqdVkSp9xm96u7pi3SwWLIbmxNJNmUMUXjfs9M8MbEU\n",
       "nxJd8XOxaEfKZtRSyhLFf5LMI2HC2G2L17Fso3ifWmDQ0r4BWXJP9FMybczbIT9dk81DGWKQuIui\n",
       "06ytM7FZ6Iin8+0gJOpHLaWsUMK0SFUr61gtul4LJqmjRb61QBbcU6+E6BlHhQ5DFPl02rgPy73I\n",
       "hDdW0q/H+W/Nenlo7s1DamXaUUspK5RAqZKyEUt2zg3Oq7akBbLgjhJ9drZmwgUN8jYy2vA9l1Ip\n",
       "OUwKEo/jKfcy/v1Ds+Fe/Z8lMn0so4rwKGPhF+mhtKWsZ4hZAodih4Li/A2VJffk4ZJc7HBRRcvL\n",
       "rj9ZUcOC5ht5fTwqRC8rN3nFweKeosyMj50apS1lHUtBr5vBAuUtdgtkwR296J+bWIUqwR1qbfDQ\n",
       "Fvv1UrcQ5PVWaSO+ph0pcV7BgaBu1FLKGqUrZRmLdhtDgS28BZl3Ry/6YE4pj1BEIm1vvUy0wYYI\n",
       "S2sWjYCPnBbHC1HcFBw68ygqeDzB86gdKWuUppStWMb0tPAZF9/zBiAT7sWxA6mHOVTTVBwlWDl5\n",
       "HfDhpRkr4Se6aXQZd7YThh2IdIpcXZV/cqKvzKJ2N3iFEuYK189+LKlbWhyT8cXOaz+gMuUeVzGJ\n",
       "5enjmCTE7NgScxRwSuN6nTYl/BJpwc/Y0ajA+TXk7KpQtHO1sOOmlHnUjpQ1Suwolf/pSPpvM5Yi\n",
       "kN9AnVc7cPR8II9d2KUy5x5pi4s+xfW+TzEatstY3NfM3lI89bYzce+xQ/7mN0ll1r2i37iH2Ed3\n",
       "FPuXNx/fX2c8NvbnQp30oWzs1ZUZle1uzFYFZkENQ79kqOd2QKRf9VBm1J514GH6Kwnr9C+R8sFa\n",
       "kujbQUw7h2cWvtyxgvwWMR9blIP+D7bxLB/JNdAWAAAAAElFTkSuQmCC\n",
       "\" style=\"display:inline;vertical-align:middle;\" /></a>"
      ],
      "text/plain": [
       "(a, (x, omega) -> {x + omega if x in Real ,  omega in Real.)"
      ]
     },
     "metadata": {},
     "output_type": "display_data"
    }
   ],
   "source": [
    "tuple_with_lambda.basic_replaced({x:a_lit}) "
   ]
  },
  {
   "cell_type": "markdown",
   "metadata": {},
   "source": [
    "Here we see that $x$ is altered external to the `Lambda` expression, but the $x$ within the `Lambda` expression is left alone.  This is fine because the internal $x$ is essentially a different $x$; the scope is different."
   ]
  },
  {
   "cell_type": "markdown",
   "metadata": {},
   "source": [
    "For convenience, `substituted` will perform relabeling if the replacement of a `Lambda` *parameter* is another `Variable`.  For example,"
   ]
  },
  {
   "cell_type": "code",
   "execution_count": 99,
   "metadata": {},
   "outputs": [
    {
     "data": {
      "text/html": [
       "<a class=\"ProveItLink\" href=\"__pv_it/basic_expressions/8abb16a45929845db01929b1d954ee491d849e620/expr.ipynb\"><img src=\"data:image/png;base64,iVBORw0KGgoAAAANSUhEUgAAAUoAAAAVCAMAAAAXWFehAAAANlBMVEX///8WFhYNDQ3MzMxUVFRE\n",
       "RES6uroiIiIQEBCYmJhmZmYyMjLu7u52dnaqqqqIiIjc3NwAAACzeusSAAAAAXRSTlMAQObYZgAA\n",
       "AAlwSFlzAAAOxAAADsQBlSsOGwAAA5xJREFUWMPdWdey5CgMZQYwOf3/zw7RNiY03HbV3loeOmGF\n",
       "cySEoAHww4LxmM3tPpWHPA7w/xonfKPHD83mbuMw63aNOOQrAJjZCgkTFGMnCMXsR9Ym4gW+VmP5\n",
       "2VzNz7J72n1JpKXJltDQ7aU3BhZ53IjhH7kwEU/wpZgsRbFsR6x6p8iXyXg4HrOEeGRylwsV3yD6\n",
       "IZVD8QifT/KJry8Fxl+h8liwmPhD6KdccAvEF1R2xSN8OhGmG4boIEOM3aFSLxdd9DF2BhM/RI8L\n",
       "vFKztsQ9fD0JkN4JnmCPtClK+H9D5SGM7KcVkvJzRu+Ke/g8bSzSxMVcP5Tn/KRBEipV7eYFiSUw\n",
       "UXSJ1mSRAZVdrU8qn1b8J0G9JYgovS3xVpftFO/EBcRa2A9GtsQL/JxMCuiwmpnrJZo3ZZAB/E6K\n",
       "Ll5bZ3KzMCBP18uBCzDW+qSysRLdQk2tbHX14HouqCCOPPKtZ2RDvPRKgEQ9UCc3UAU7zQFmA8cS\n",
       "INaJpI9C+lnTUR6ae/NQWpm+1ieVjZUIqaGyo0sM9g3GmrakZ2RDHBT49MjVjQYQtEKS5gC851Ip\n",
       "JWFK4oIjPHUl9N8/pBru7P8sEuXjUyuPj1Ia39DISp/K1kNIi3H8WKFYMvYBypZ4kXCFLt+tyfAd\n",
       "dqgEDcehIAQZdH70X4ZZeYhLD+T3FKVmvu20VvpUtrokHnUzkIO6xe4Z2RAHJ/y8iFNQTd39EH21\n",
       "xT5e8qYCnadKm+1rMqAS1hUcIzDU+qSytTKk8qmLDBtDDi3+aGRdHJzwsbn5l5w8/UlzEh8A0RKz\n",
       "PIlhyGEeDkR5UTA88ONRwfMOXmsdUNla6VLZ02XMiAufcfmcNzGyIP7YdvDZw/BwvHSxIXLi2uDj\n",
       "oRlK7h099G1SUYUodJiXXeTsnEKGLPSVldbhAm+sREj4eh3rErrHRXDGFzvP/QTKkniOYiHLw4c5\n",
       "hSRShrsYFkJyvNKc5D5EmrOkO09K7HwMGb0qFBlcLSjYpbLWOqCytZI7SulfHSq/dnVJhOsbqHS1\n",
       "g22IgnB6AmVNPMPmF/yrLQUqM6yLDgI7RaF/QLSrtxRvnXYW7j0Urk9+i1BWxRv46R4isCipvu1p\n",
       "ozsK9eXNx/fXGa8N9Z6qBD/kLCA+G9B5TrzKQ9P0y37aWLxq1FDwS4Z8bwVk+LGH0szwUuzMrD0b\n",
       "mMfLf0lYp38JlS/WkgLfTnTaNXtm488dy9FvIfO1oAT4/wCsoyxfbhOTLgAAAABJRU5ErkJggg==\n",
       "\" style=\"display:inline;vertical-align:middle;\" /></a>"
      ],
      "text/plain": [
       "(y, (x, omega) -> {x + omega if x in Real ,  omega in Real.)"
      ]
     },
     "metadata": {},
     "output_type": "display_data"
    }
   ],
   "source": [
    "tuple_with_lambda.basic_replaced({x:y}) "
   ]
  },
  {
   "cell_type": "markdown",
   "metadata": {},
   "source": [
    "The inner and outer $y$ *variables* are still regarded as distinct, but it doesn't hurt to relabel the one within the `Lambda` as we wish.  If we do not want this behavior when performing *expression substitution* or *instantiation*, we can *relabel* the map with a distinct variable first.  This feature simply provides a convenient way to perform inner relabeling simultaneously with other substitutions."
   ]
  },
  {
   "cell_type": "markdown",
   "metadata": {},
   "source": [
    "The other consequence for of `Lambda` scoping with respect to substitution is that we must not allow any expression within the `Lambda` *body* to be replaced with something that contains one of its *parameters*.  That is because those *parameters* are, with respect to scope, distinct from anything outside of the `Lambda` expression.  So bringing in a replacement defined for external use would have a different meaning when applied internally, and this must not be allowed.  Otherwise, you could alter the meaning of the expression in ways that can invalidate a proof (e.g., via a *instantiation* step which relies upon *expression substitution* internally).  Thus, the parameters of the Lambda function are \"reserved\" and may not be used in substitution. \n",
    "\n",
    "Consider the mapping defined below:"
   ]
  },
  {
   "cell_type": "code",
   "execution_count": 100,
   "metadata": {},
   "outputs": [
    {
     "data": {
      "text/html": [
       "<strong id=\"map_to_new_var\">map_to_new_var:</strong> <a class=\"ProveItLink\" href=\"__pv_it/basic_expressions/2d3f60d0f2232b3f0506e67a419464715a381c7c0/expr.ipynb\"><img src=\"data:image/png;base64,iVBORw0KGgoAAAANSUhEUgAAAFsAAAAVCAMAAAAeumK3AAAANlBMVEX///8WFhYNDQ3MzMxUVFRE\n",
       "RES6uroiIiIQEBCYmJhmZmYyMjLu7u52dnaqqqqIiIjc3NwAAACzeusSAAAAAXRSTlMAQObYZgAA\n",
       "AAlwSFlzAAAOxAAADsQBlSsOGwAAAWVJREFUOMulVVuSxCAIdFcRHyh6/8uuxpiNGVOlNXzMJBHb\n",
       "BhoUolgSK7bm9TCOS26a96FjWOVgd6HJL7t62sR262ys28Q2O75z4vxS5ug3sP0V43BIfInHnZUk\n",
       "ZkUyhEEzfU9CefwH1VdwABnfhMTin+xFpcCwYuHubrEflHLTn/VztAijOjhApYFtvy0ps5mEshPa\n",
       "hXD7HM0LU4ZbklJ9DuXH6BZGhXqkXtclgn509cp97fcHB8tZD9QrdMc+VPBovKMSWl2P5eWNt/YD\n",
       "dGpIeBVP50KObrGpayCkEzviHFuOXaVtUxIcRxBooUwneDqCrFlwtTingC3Msf0g8CYB1WUVsyRX\n",
       "sHX9TLklPpigjMzgjH0Itji+61tCAA5VtfJgQI65uNiWIERqweRCyJr/OqCe9kiQjzJF0/KPctKs\n",
       "895OuDlPZgMofD3WToOPSUPzWyDB9t1AH1t4lcTCRbh2WfEu9B9WXwum0g/gHQAAAABJRU5ErkJg\n",
       "gg==\n",
       "\" style=\"display:inline;vertical-align:middle;\" /></a><br>"
      ],
      "text/plain": [
       "<IPython.core.display.HTML object>"
      ]
     },
     "metadata": {},
     "output_type": "display_data"
    }
   ],
   "source": [
    "map_to_new_var = Lambda([x, omega], z)"
   ]
  },
  {
   "cell_type": "markdown",
   "metadata": {},
   "source": [
    "Expressions involving $x$ and/or $w$ are not allowed to be used in the substitutions for $z$. For example, we are not allowed to transform this map to $(x, \\omega) \\mapsto \\omega$ via substitution.  Prove-It will automatically avoid this via automated relabeling."
   ]
  },
  {
   "cell_type": "code",
   "execution_count": 101,
   "metadata": {},
   "outputs": [
    {
     "data": {
      "text/html": [
       "<a class=\"ProveItLink\" href=\"__pv_it/basic_expressions/da6957833c396424d58ddd5538eb43aefb4035380/expr.ipynb\"><img src=\"data:image/png;base64,iVBORw0KGgoAAAANSUhEUgAAAGkAAAAVCAMAAAByvDCyAAAANlBMVEX///8WFhYNDQ3MzMxUVFRE\n",
       "RES6uroiIiIQEBCYmJhmZmYyMjLu7u52dnaqqqqIiIjc3NwAAACzeusSAAAAAXRSTlMAQObYZgAA\n",
       "AAlwSFlzAAAOxAAADsQBlSsOGwAAAXhJREFUSMe1Vtt2xCAItEW8ouj//2zVaLJpY7bxtLysMcIM\n",
       "OJAVolgSD+2xQzeOTz0ULwHFsEDOLgCRX6Hn6bmPW6EnrHvuY9Yu10yS4qlaol9D8kcpTphxmqzr\n",
       "eiBmSRDCnQ6TDJy67ILct/Xp0OlpwCYNO7eyx5KF0zfaNqUymLcUrJ8gRXxZD94ps9Dbgy1BbAki\n",
       "5/ogU98NKtFMkAQjfU+plMAKo9oK6v79lbncwvZqQ95ffH7ok+WsehHqL2HPpCM1Od13vqkutEeZ\n",
       "5qT8CNlIKdmXepeAyqWCNO1IypWIHalEPUGCo6nlPutSQcKWCKES0gwadI1UXaQXsXWMxQmSPxoK\n",
       "oVbZ1TmUhlpjBnIFScUW8/LCKqeoXb9md0xLNeunYII0kNE1LUFjRI65HLJbKbXesgIcVnmS5ABJ\n",
       "Mmxn1HWRA7yUAXNJxpouAA0Xg+Pt/Ez6b2Zl+J+5jD9mIr390CVcmZX0w4sX2P3uX8HjbzUvAH0B\n",
       "RvcMlOBYmDsAAAAASUVORK5CYII=\n",
       "\" style=\"display:inline;vertical-align:middle;\" /></a>"
      ],
      "text/plain": [
       "(x, _a) -> omega"
      ]
     },
     "metadata": {},
     "output_type": "display_data"
    }
   ],
   "source": [
    "map_to_new_var.basic_replaced({z:omega})"
   ]
  },
  {
   "cell_type": "markdown",
   "metadata": {},
   "source": [
    "And we are not allowed to change the map to $(x, \\omega) \\mapsto f(x)$ via substitution.  Again, automatic relabeling avoids this issue."
   ]
  },
  {
   "cell_type": "code",
   "execution_count": 102,
   "metadata": {},
   "outputs": [
    {
     "data": {
      "text/html": [
       "<a class=\"ProveItLink\" href=\"__pv_it/basic_expressions/cf587f24c6dcfc67279c5aca8dddc88dc54117b20/expr.ipynb\"><img src=\"data:image/png;base64,iVBORw0KGgoAAAANSUhEUgAAAIgAAAAVCAMAAACqnFb9AAAANlBMVEX///8WFhYNDQ3MzMxUVFRE\n",
       "RES6uroiIiIQEBCYmJhmZmYyMjLu7u52dnaqqqqIiIjc3NwAAACzeusSAAAAAXRSTlMAQObYZgAA\n",
       "AAlwSFlzAAAOxAAADsQBlSsOGwAAAgJJREFUSMelVluCgyAMZJc3BAL3v+yCiAWMrXX5sjXOTCYh\n",
       "wFhZiX29Hnxy+fHxE+P3WAqf61j5OlYMj9DsN9EuBOjPZ76GBf5ZXh7uxwbBTbeB4tuwnH0mxLr7\n",
       "sSYq2XVTfBuWeVpqQ1uC5z5WeQg1F1jRPxXij9QmRfHsVNDDa3+B5ehWTSJgmndGJ0ia74Xvb/QU\n",
       "p1ffhdHCvdp2F48ogIcQO5YnW0SZYrAcHWWxd1vKTaD1NHWUK1rGs49FGQpkTncsTQ0RMDXcacqQ\n",
       "Ir9hRXPhAcq5e1Lmg1+Nz5ZEbUlUHFhGUds+b9+MVVM1DmQHKYvn/u73R08r5wk05rEt26sqzb3a\n",
       "pWCRQkwlhAluE6XE8VjLd+GI8uqyV0c+g0MrkKWBrah2TISJYzinXUjUtBC+jjop2Kk026YuzgJ0\n",
       "LImUkBotPIvp2JuSVwNdnYz7oLCSFuLXQWJGisYHUjFhXu4WrCCI0tToqF1tUMitksEEYXiWzthl\n",
       "I5bc3s6RNJdYtLbh4IoQFQ8s3tLhsq+aDwgMPAmsLaU1tBxySdWaV3pa0ecKX/6YenXnA4dYJNs4\n",
       "YGn+YYJGepQnfffknT2n+Dasj4fXxS3h3mEZy8iMHw/LhiXf37aAvgIlecsOLU/H/plvx4L3kBdX\n",
       "MXnvsmjRrYFnvo6VHlz78B+X1pVvw/oDFrESIqgsoggAAAAASUVORK5CYII=\n",
       "\" style=\"display:inline;vertical-align:middle;\" /></a>"
      ],
      "text/plain": [
       "(_a, omega) -> f(x)"
      ]
     },
     "metadata": {},
     "output_type": "display_data"
    }
   ],
   "source": [
    "map_to_new_var.basic_replaced({z:fx})"
   ]
  },
  {
   "cell_type": "markdown",
   "metadata": {},
   "source": [
    "If it does not involve any of the parameter variables, however, that is okay."
   ]
  },
  {
   "cell_type": "code",
   "execution_count": 103,
   "metadata": {},
   "outputs": [
    {
     "data": {
      "text/html": [
       "<a class=\"ProveItLink\" href=\"__pv_it/basic_expressions/8abb16a45929845db01929b1d954ee491d849e620/expr.ipynb\"><img src=\"data:image/png;base64,iVBORw0KGgoAAAANSUhEUgAAAUoAAAAVCAMAAAAXWFehAAAANlBMVEX///8WFhYNDQ3MzMxUVFRE\n",
       "RES6uroiIiIQEBCYmJhmZmYyMjLu7u52dnaqqqqIiIjc3NwAAACzeusSAAAAAXRSTlMAQObYZgAA\n",
       "AAlwSFlzAAAOxAAADsQBlSsOGwAAA5xJREFUWMPdWdey5CgMZQYwOf3/zw7RNiY03HbV3loeOmGF\n",
       "cySEoAHww4LxmM3tPpWHPA7w/xonfKPHD83mbuMw63aNOOQrAJjZCgkTFGMnCMXsR9Ym4gW+VmP5\n",
       "2VzNz7J72n1JpKXJltDQ7aU3BhZ53IjhH7kwEU/wpZgsRbFsR6x6p8iXyXg4HrOEeGRylwsV3yD6\n",
       "IZVD8QifT/KJry8Fxl+h8liwmPhD6KdccAvEF1R2xSN8OhGmG4boIEOM3aFSLxdd9DF2BhM/RI8L\n",
       "vFKztsQ9fD0JkN4JnmCPtClK+H9D5SGM7KcVkvJzRu+Ke/g8bSzSxMVcP5Tn/KRBEipV7eYFiSUw\n",
       "UXSJ1mSRAZVdrU8qn1b8J0G9JYgovS3xVpftFO/EBcRa2A9GtsQL/JxMCuiwmpnrJZo3ZZAB/E6K\n",
       "Ll5bZ3KzMCBP18uBCzDW+qSysRLdQk2tbHX14HouqCCOPPKtZ2RDvPRKgEQ9UCc3UAU7zQFmA8cS\n",
       "INaJpI9C+lnTUR6ae/NQWpm+1ieVjZUIqaGyo0sM9g3GmrakZ2RDHBT49MjVjQYQtEKS5gC851Ip\n",
       "JWFK4oIjPHUl9N8/pBru7P8sEuXjUyuPj1Ia39DISp/K1kNIi3H8WKFYMvYBypZ4kXCFLt+tyfAd\n",
       "dqgEDcehIAQZdH70X4ZZeYhLD+T3FKVmvu20VvpUtrokHnUzkIO6xe4Z2RAHJ/y8iFNQTd39EH21\n",
       "xT5e8qYCnadKm+1rMqAS1hUcIzDU+qSytTKk8qmLDBtDDi3+aGRdHJzwsbn5l5w8/UlzEh8A0RKz\n",
       "PIlhyGEeDkR5UTA88ONRwfMOXmsdUNla6VLZ02XMiAufcfmcNzGyIP7YdvDZw/BwvHSxIXLi2uDj\n",
       "oRlK7h099G1SUYUodJiXXeTsnEKGLPSVldbhAm+sREj4eh3rErrHRXDGFzvP/QTKkniOYiHLw4c5\n",
       "hSRShrsYFkJyvNKc5D5EmrOkO09K7HwMGb0qFBlcLSjYpbLWOqCytZI7SulfHSq/dnVJhOsbqHS1\n",
       "g22IgnB6AmVNPMPmF/yrLQUqM6yLDgI7RaF/QLSrtxRvnXYW7j0Urk9+i1BWxRv46R4isCipvu1p\n",
       "ozsK9eXNx/fXGa8N9Z6qBD/kLCA+G9B5TrzKQ9P0y37aWLxq1FDwS4Z8bwVk+LGH0szwUuzMrD0b\n",
       "mMfLf0lYp38JlS/WkgLfTnTaNXtm488dy9FvIfO1oAT4/wCsoyxfbhOTLgAAAABJRU5ErkJggg==\n",
       "\" style=\"display:inline;vertical-align:middle;\" /></a>"
      ],
      "text/plain": [
       "(y, (x, omega) -> {x + omega if x in Real ,  omega in Real.)"
      ]
     },
     "metadata": {},
     "output_type": "display_data"
    }
   ],
   "source": [
    "tuple_with_lambda.basic_replaced({x:y}) "
   ]
  },
  {
   "cell_type": "code",
   "execution_count": 104,
   "metadata": {},
   "outputs": [
    {
     "data": {
      "text/html": [
       "<a class=\"ProveItLink\" href=\"__pv_it/basic_expressions/1930fe8665c4b2a3bb5a085e4bebf5123876adb10/expr.ipynb\"><img src=\"data:image/png;base64,iVBORw0KGgoAAAANSUhEUgAAAFsAAAAVCAMAAAAeumK3AAAANlBMVEX///8WFhYNDQ3MzMxUVFRE\n",
       "RES6uroiIiIQEBCYmJhmZmYyMjLu7u52dnaqqqqIiIjc3NwAAACzeusSAAAAAXRSTlMAQObYZgAA\n",
       "AAlwSFlzAAAOxAAADsQBlSsOGwAAAXhJREFUOMuVVenW7BAQdK+9te39X/ZrRBKGc8SPOSNKdfWK\n",
       "MVqJnawz1LRiOIKpeMjHyw9WKcGfarBnOJOd0xqLAXfsoMMjmDZZ+woFe8xt4QgmHg8+ZMZshMe0\n",
       "5A7uA7d7fBysBFhyw5VJjFEg936omX4l6Zp75h939RjigdtGL/hLCtFEERm8UaEbSrnVn3Ub7iBf\n",
       "G4nlhiJMu28pYjYj2VzIJsHtczAbbhbllApJAKPueocp9KocoeymCyrfh///6WHlrIbLkFPnrlUw\n",
       "NV7NhBL3X9psdSt380jXuHmPSTkmSwxxyncdCOniDnrDzV9tZeqRIBdlFYtSMWG6wAsneYkClNa9\n",
       "6tfKDbdLk7vMyF5WIXME4lZFJeYWeG+8MDxLMHYq2OLltr5T2cTSZrwKQIiRELYFqA0aciaTHmue\n",
       "PGi17inPh2EMIKAyaP6LDeveTvrj9F4NoM3U/TDWes38PCi4fgWS/Pzs4M+VeCri4CE8e6ziV+o/\n",
       "Se4MQu4FniQAAAAASUVORK5CYII=\n",
       "\" style=\"display:inline;vertical-align:middle;\" /></a>"
      ],
      "text/plain": [
       "(x, omega) -> 5"
      ]
     },
     "metadata": {},
     "output_type": "display_data"
    }
   ],
   "source": [
    "map_to_new_var.basic_replaced({z:FIVE})"
   ]
  },
  {
   "cell_type": "markdown",
   "metadata": {},
   "source": [
    "### Applying the Lambda map\n",
    "\n",
    "In addition to the `substituted` method, the `Lambda` class has an `apply` method.  As arguments, the `apply` method should be given the operands to be mapped.  The `apply` method will apply the proper substitution replacements to the `Lambda` *body* to effect the application of the map to the operands.  Internally, <a href=\"#Operation_sub\">*operation substitution*</a> is effected via the `Lambda.apply` method."
   ]
  },
  {
   "cell_type": "code",
   "execution_count": 105,
   "metadata": {},
   "outputs": [
    {
     "data": {
      "text/html": [
       "<a class=\"ProveItLink\" href=\"__pv_it/basic_expressions/60c41d2fc10e783bdc8f5485aabd88a45530d3880/expr.ipynb\"><img src=\"data:image/png;base64,iVBORw0KGgoAAAANSUhEUgAAASYAAAAVCAMAAADcg7NfAAAANlBMVEX///8WFhYNDQ3MzMxUVFRE\n",
       "RES6uroiIiIQEBCYmJhmZmYyMjLu7u52dnaqqqqIiIjc3NwAAACzeusSAAAAAXRSTlMAQObYZgAA\n",
       "AAlwSFlzAAAOxAAADsQBlSsOGwAAAu5JREFUWMPdWNu2oyAMZYaEu1z+/2cPiloVqKF1rTlreGit\n",
       "NTvJTgiJjOUVGWXRnlqXE4L9Zyt40mMiDEBa4R6xTYchurVViMlKhfojbW/E/UT1nazapy9Jiqro\n",
       "sp6nsbREFiGHFDR+ZEJX3FkyhqVqnuSXSSSSWaIrs9Vu1M9p+eLwIU1tcUNPT20eoUkQNBZuAD71\n",
       "00Rmv6CpFlcDIKoT2RBHaPLkIge3cQko87ItP5FSR6jifoR0qy/h3kDMv6FJ2ODa6QDO3WfigLhZ\n",
       "C7gLARyfptOpt1kZJS/uv2TPRMg2TU3QiqarlnxlVdbEQanDtqvBYqNYFj85ehtvlAyJbwmSYQIE\n",
       "Zo4O+82imMJ6YHaI8ecUNbYPWtFUaVnMgqo21WA2NouLsjLJS560lAyIM1nkdRbR+RgH3YhATo9y\n",
       "26te/oTjAbod503QiqZKy2JuRVMDzHZqsNbV8d1SMiDOVGlL+CEH9q07/+Vws3F+Ku1//v0jTyvt\n",
       "/U0Eu15WoGZ5VKnlC3pa2jTVFnK1KcfLrkGn9Y0rQ+I7TcvlpWYsVUvAfpl/dLNJ2BcON4fUUuGm\n",
       "hNda2jTVYA57Jzo37NwetpQMiO+bbmnpMs/u8Dfsk0xcsb3s0MTP1RChC1rRVGvp0nQFk93Gx/CI\n",
       "t0ro4vl+KMwKBmrjejUE+bzNzNyor4mqsaPjUg3LSXcG7dFUa2nS1AILoednzpQyWrk3SgjiL4+g\n",
       "DGHcmWyEmAl3qZSASU2geEKj9KV7mCN73zedQPubrtKymIuvT9YFs77l52xMLi6Z1zeukMTXCGUQ\n",
       "XgJvMrXe6CInpSsBTJl7rV4VQXbG0Im3aDqD9miqtawdk8ufCba7TTAHeH4TUUZ8jDPDNvk3rtDE\n",
       "V7czc5I3+uT2UBKpE+1TXThhRp7wPG0QXaGKv51nO69WyFPy96PvY2t6CgirZtS1wx2RChkU+yXL\n",
       "PZa5df8QqHx236ol/0toenB/RxpWGHgZHg38FqIeWT8n3yX5b0cTRQAAAABJRU5ErkJggg==\n",
       "\" style=\"display:inline;vertical-align:middle;\" /></a>"
      ],
      "text/plain": [
       "(x, omega) -> {x + omega if x in Real ,  omega in Real."
      ]
     },
     "metadata": {},
     "output_type": "display_data"
    }
   ],
   "source": [
    "lambda_expr"
   ]
  },
  {
   "cell_type": "code",
   "execution_count": 106,
   "metadata": {},
   "outputs": [
    {
     "data": {
      "text/html": [
       "<a class=\"ProveItLink\" href=\"__pv_it/basic_expressions/84abebd646c4a9943565c583c35a3d8e9d94ac310/expr.ipynb\"><img src=\"data:image/png;base64,iVBORw0KGgoAAAANSUhEUgAAAU8AAAAVBAMAAAA0gXHkAAAAMFBMVEX///9ERETMzMxUVFSYmJgQ\n",
       "EBDc3NxmZmYiIiJ2dnaqqqoyMjKIiIi6urru7u4AAAB85a56AAAAAXRSTlMAQObYZgAAAAlwSFlz\n",
       "AAAOxAAADsQBlSsOGwAAA+FJREFUSMetlk1oE0EUx99uYmI+dtmqqChqRVDwkhXsQQ+yQtWDotUq\n",
       "+FFkSyltUTB+4gdirIgBK0aqJxVyUBG95KBFRTEHpeAXgeJRm1o9taj1Gyvim52d3ZltsknAoZnM\n",
       "5s37zb/vvZlZAFDfAEAIfFsFc5XTqqSUa8/fYvfMb8YpUPJ+9uBLe1AjJXi3bvz0tLIOazfOu7fR\n",
       "cB6jf0mX8QvEd4An5YztSHqQKFBUrRQppCtL55Z10dpgYGWRPUVS2I34hUL9BRArljEOJiGYaqPW\n",
       "milSKAPagvJCu0CSdUHoAd/iGMcsJelQMbzrAwQYq2oKL/RQzE9o2MwJQpt8l2jGz067UEoUa4At\n",
       "XzUlPjN91hEqeScyKxWq8UKjOWFhEytK4344g587lYVWTVEeFt2Irhj24BwrERr4KKQ+jLsgTAq+\n",
       "G+y+s56MiAIc3cevXlHo6AFQCSJ0V5cbmimMUJgLT7HJLmVX0U29PKvPrqF+A4YFKxE6/7bJnsIY\n",
       "hxhW3i2C+2P91FlPFUez2O3Jw1JyVohCM9ch+JkMYrpTo4TCXDgKI7uUPrdGd5zvsXVFok2wQbCC\n",
       "1n7v1yvhfJmcpaGAi/Qk6XZDAREDjuLXdUGonD0MASuvkiuUUJgLR2Fkl5JzhV5czx4Wh1OwRLBi\n",
       "RBvdg6TtEXaTCqAUYAhgNf2xk4biDagaBE24iuMEEZ5On96aTutkr7fApLxHKFIcF47CyIwCMjLS\n",
       "J+3Uz220hRSR1yJYUaj03jll5L1Fa4kIwABmVBCaAUUnhhs4fi2mXvkLifoSQpkLR2Fkh6Jq3PG0\n",
       "SGIlOViUvwhWFCon3esAVyJJC5ALMJQRUq9DPAtddNpNUShW9lMokXrOhVF4MqWkOKHhhUzYMYg3\n",
       "CVaymfa1Ar/rpTxI9fJPGDGFzTQFEknVru2VolDUN9UrFCm8C6PwZEp5wQlVNbxXraBOtWLGWYnQ\n",
       "objBC41gurY1JGZsBuF4utS7aeygASreKXDEE1Fd+UbX0sgfJemOC0+xyRwllnWEJqFRKlgm2A+D\n",
       "hmAFrQOCxhwy+pSjQuUUqPP6gluoigDiQ2TvDY2bq1rso/qcKFRd1v/DKvGG5ncNX+2jIOW6cBRG\n",
       "dinqkrfs7WnMlGb/hjQJ6fCVEyZvJW9P06HuMdE9OWlfod0V3zRT3pspkpswqWqKcsG+JNkbHN1Q\n",
       "l0tb+bt+TaUlwob4UnIZPmQnTKqaMkGD9Y+r232dra0mmRWWaPU898CyiZNqprA2SrKbD2T80/Fb\n",
       "PLxKt+me52v9hRKvnLVSWCP1FF13vIJ3x3LsdvvPiVeKFW3/h1Ky/QOK6CQy3gG5qQAAAABJRU5E\n",
       "rkJggg==\n",
       "\" style=\"display:inline;vertical-align:middle;\" /></a>"
      ],
      "text/plain": [
       "{(omega * omega!) + y if (omega * omega!) in Real ,  y in Real."
      ]
     },
     "metadata": {},
     "output_type": "display_data"
    }
   ],
   "source": [
    "lambda_expr.apply(fancy_omega_fn, y)"
   ]
  },
  {
   "cell_type": "markdown",
   "metadata": {},
   "source": [
    "### Mocking up **Lambda** operators\n",
    "\n",
    "What if we wanted to represent an expression involving a `Lambda` function applied to operand(s).  We cannot do this using the `Lambda` and `Operation` expression types directly because an `Operation` is only allowed to have *variable* or *iterated indexed variables* as *operators*.   But it would not be consistent with the **Prove-It** philosophy of *freedom of expression* to completely disallow representing such an expression if so desired.  We can, in fact, represent such a thing in **Prove-It** by making an `Operation` class whose *operands* are the `Lambda` function as well as the operand on which we wish to apply the function. As a demonstration, we define such an `Operation`, called `LambdaApplication`, in <a href=\"demo_lambda_app_operation.py\">demo_lambda_app_operation.py</a>."
   ]
  },
  {
   "cell_type": "code",
   "execution_count": 107,
   "metadata": {},
   "outputs": [],
   "source": [
    "# %load demo_lambda_app_operation\n",
    "'''\n",
    "Module that defines a LambdaApplication Operation\n",
    "class for demonstration purposes in this tutorial.\n",
    "'''\n",
    "\n",
    "from proveit import Operation, Literal, NamedExprs\n",
    "\n",
    "\n",
    "class LambdaApplication(Operation):\n",
    "    _operator_ = Literal('LAMBDA_APPLICATION', r'{\\rm LAMBDA\\_APPLICATION}')\n",
    "\n",
    "    def __init__(self, lambda_fn, operand, *, styles=None):\n",
    "        Operation.__init__(self, LambdaApplication._operator_, \n",
    "                           NamedExprs([('lambda_fn', lambda_fn), \n",
    "                                       ('operand', operand)]),\n",
    "                           styles=styles)\n",
    "        # The Lambda function operand\n",
    "        self.lambda_fn = self.operands['lambda_fn']\n",
    "        # The operand of the Lambda function\n",
    "        self.lambda_operand = self.operands['operand']\n",
    "\n",
    "    @classmethod\n",
    "    def extract_init_arg_value(operation_class, arg_name, operator, operand):\n",
    "        '''\n",
    "        Given a name of one of the arguments of the __init__ method,\n",
    "        return the corresponding value as determined by the operator and\n",
    "        operand of the LambdaApplication Operation.\n",
    "        (This is important so that Prove-It knows how to 'make' an altered\n",
    "        copy of this Operation).\n",
    "        '''\n",
    "        assert isinstance(\n",
    "            operand, NamedExprs), \"Expecting LambdaApplication operand to be a NamedExprs object\"\n",
    "        if arg_name == 'lambda_fn':\n",
    "            return operand['lambda_fn']\n",
    "        elif arg_name == 'operand':\n",
    "            return operand['operand']\n",
    "\n",
    "    def string(self, **kwargs):  # should accept kwargs even when not used (e.g., 'fence')\n",
    "        return self.lambda_fn.string(\n",
    "            fence=True) + '(' + self.lambda_operand.string() + ')'\n",
    "\n",
    "    def latex(self, **kwargs):  # should accept kwargs even when not used (e.g., 'fence')\n",
    "        return self.lambda_fn.latex(\n",
    "            fence=True) + '(' + self.lambda_operand.latex() + ')'\n"
   ]
  },
  {
   "cell_type": "code",
   "execution_count": 108,
   "metadata": {},
   "outputs": [],
   "source": [
    "from demo_lambda_app_operation import LambdaApplication"
   ]
  },
  {
   "cell_type": "code",
   "execution_count": 109,
   "metadata": {},
   "outputs": [
    {
     "data": {
      "text/html": [
       "<strong id=\"lambda_app_expr\">lambda_app_expr:</strong> <a class=\"ProveItLink\" href=\"__pv_it/basic_expressions/c82833f1270c09d75eff60d78681db0ba18cbabf0/expr.ipynb\"><img src=\"data:image/png;base64,iVBORw0KGgoAAAANSUhEUgAAAGMAAAAVCAMAAABlnqB7AAAANlBMVEX///8WFhYNDQ3c3NwyMjJE\n",
       "REQQEBCqqqpUVFSYmJhmZmbu7u66urp2dnbMzMwiIiKIiIgAAACSCSxoAAAAAXRSTlMAQObYZgAA\n",
       "AAlwSFlzAAAOxAAADsQBlSsOGwAAAZFJREFUSMellVeSgCAMQNmlE0q4/2WXokIQZ5zVD8fyyAsl\n",
       "wDClyD5cS3tO//bX4P8fP5k1AmpKePzo4FktEXS4ddN+c0BO1AHiDgn4NlZZUIezd8a6Vw7kDz/U\n",
       "Mh9qC8GDA+YX7Z7m3BGHFjtI2E4Atm6CuVrTWLN9QkUgDhdOBA3EEPoaC6YTgenaT5v3Di3H84wa\n",
       "SxzimI7SOzTIXA9iRSOi7h+M3DsYynPwCOo0caSeuOU1BTgyqClVogRQtVjarV2/P4lcOftrogba\n",
       "o18O1R9q2bsxNTEfhC/e8hYf+uHFWBkTqvnOwUi2zKuDaF5UbO+IYlpnK3obq5ZHsUNvpNNBSHPe\n",
       "dg4xF8iKDodsyYP0zKi2Ovr0yLMfpspHmfrn+hgoLHUemljnCK44vL5WdCfABHT5oZ4D2fwndKnB\n",
       "2HoPDrGkZc+BS36q8yBeb1QEHRF2JxFPB1HbgNJvw1N0OOxm06m7QiNSmS0T3p1LN3Ta8eRttLk8\n",
       "CW3Rvdzj7+jkALnizRo+n+dT6TGOm2PhD6vsEnet2HygAAAAAElFTkSuQmCC\n",
       "\" style=\"display:inline;vertical-align:middle;\" /></a><br>"
      ],
      "text/plain": [
       "<IPython.core.display.HTML object>"
      ]
     },
     "metadata": {},
     "output_type": "display_data"
    }
   ],
   "source": [
    "lambda_app_expr = LambdaApplication(Lambda(y, Factorial(y)), x)"
   ]
  },
  {
   "cell_type": "markdown",
   "metadata": {},
   "source": [
    "Note that the `_operator_` of the `LambdaApplication` is not displayed but is implicit in the theory of the lambda application formatting.  Also, we made use of `NamedExprs` which will be discussed next.  Let us take a look at the expression information."
   ]
  },
  {
   "cell_type": "code",
   "execution_count": 110,
   "metadata": {},
   "outputs": [
    {
     "data": {
      "text/html": [
       "<table><tr><th>&nbsp;</th><th>core type</th><th>sub-expressions</th><th>expression</th></tr>\n",
       "<tr><td>0</td><td>Operation</td><td>operator:&nbsp;1<br>operand:&nbsp;4<br></td><td><a class=\"ProveItLink\" href=\"__pv_it/basic_expressions/c82833f1270c09d75eff60d78681db0ba18cbabf0/expr.ipynb\"><img src=\"data:image/png;base64,iVBORw0KGgoAAAANSUhEUgAAAGMAAAAVCAMAAABlnqB7AAAANlBMVEX///8WFhYNDQ3c3NwyMjJE\n",
       "REQQEBCqqqpUVFSYmJhmZmbu7u66urp2dnbMzMwiIiKIiIgAAACSCSxoAAAAAXRSTlMAQObYZgAA\n",
       "AAlwSFlzAAAOxAAADsQBlSsOGwAAAZFJREFUSMellVeSgCAMQNmlE0q4/2WXokIQZ5zVD8fyyAsl\n",
       "wDClyD5cS3tO//bX4P8fP5k1AmpKePzo4FktEXS4ddN+c0BO1AHiDgn4NlZZUIezd8a6Vw7kDz/U\n",
       "Mh9qC8GDA+YX7Z7m3BGHFjtI2E4Atm6CuVrTWLN9QkUgDhdOBA3EEPoaC6YTgenaT5v3Di3H84wa\n",
       "SxzimI7SOzTIXA9iRSOi7h+M3DsYynPwCOo0caSeuOU1BTgyqClVogRQtVjarV2/P4lcOftrogba\n",
       "o18O1R9q2bsxNTEfhC/e8hYf+uHFWBkTqvnOwUi2zKuDaF5UbO+IYlpnK3obq5ZHsUNvpNNBSHPe\n",
       "dg4xF8iKDodsyYP0zKi2Ovr0yLMfpspHmfrn+hgoLHUemljnCK44vL5WdCfABHT5oZ4D2fwndKnB\n",
       "2HoPDrGkZc+BS36q8yBeb1QEHRF2JxFPB1HbgNJvw1N0OOxm06m7QiNSmS0T3p1LN3Ta8eRttLk8\n",
       "CW3Rvdzj7+jkALnizRo+n+dT6TGOm2PhD6vsEnet2HygAAAAAElFTkSuQmCC\n",
       "\" style=\"display:inline;vertical-align:middle;\" /></a></td></tr>\n",
       "<tr><td colspan=4 style=\"text-align:left\"><strong>class:</strong> tutorial.demo_lambda_app_operation.LambdaApplication</td></tr>\n",
       "<tr><td>1</td><td>Literal</td><td></td><td><a class=\"ProveItLink\" href=\"__pv_it/common/1e01da0adae59ae3fbcadb61a290f15a1660c8c00/expr.ipynb\"><img src=\"data:image/png;base64,iVBORw0KGgoAAAANSUhEUgAAAPYAAAAPBAMAAAAloS8qAAAAMFBMVEX///+YmJiqqqq6urqIiIhm\n",
       "Zmbu7u4iIiJ2dnbc3NxEREQQEBAyMjJUVFTMzMwAAAASZqJ6AAAAAXRSTlMAQObYZgAAAAlwSFlz\n",
       "AAAOxAAADsQBlSsOGwAAA0FJREFUOMuNlUtME1EUhg/tMJ2BdjIrE40EVm7phiVpY1CjiaEb4pIu\n",
       "WJiIKYlBMT6GFepGupDEEEkncWOABFxDYxcmGFy0C2sVqNaFcWUqb/qynnMfM4M26kl6z52ee/7v\n",
       "vi+AY5/g7+aJh0rwX/YPye/ZNG+h7mOhF2pU7zz8OGeli4tT+EezuDXhxIUlYljMWY3ivCkd1/Fv\n",
       "reQBfPPF6HWZsrZeuLuxZve/TWPS5aF3AMbWIUDHq3GAss31FEbVl0wsuyoAqRiod+JgNADabztx\n",
       "boPLVJZzoK+6jukYVdSYL8HXRZmyA8o2+JZZ/FkUlPvYKJsDGMVYKifmcThMXb2QwfLcAR9bBGWR\n",
       "DcNxGeeW3wWR2T3pdcCaX8Oauiok1Ryxwaa4vod/9pZA79rBAXnYT8tUUQdwyEafYCfGODuRk3Fm\n",
       "+uOGZJfHvI6zl7CncFpI6iZjT1E8SNMVRM0TK/Fj7IuBH8Q+j2uktAt2rxh3R0XG+fIkLcmOZLyO\n",
       "sX2sY6NC0ggz9kmK99I2wS/djNjH2Dlth9jRTYA2wVZvxTmbQjzOlweme0QmVjyOsUPbVPE7kozN\n",
       "Wn+mveSvIrt928vWo4yiRiM9cIaxXw9cMfkkgnIk48ye8CQsRl56HWcHZR9lisPOUo+NGq2DlfSw\n",
       "tSRYjB2wISrG7R+X7H0ZZ/YI2PynJh6e9bg/2DKlFbuckWwDIFAsWj3EVip6WK53IuOMW8SZ3SsW\n",
       "SD/FT6d0TMeZc9WR/G3OfXVia3uSrQF8QZJNbPVIAcnu2OXs0E8ZZ2fYBLXakq25e82VdNndNDXa\n",
       "HrHBmhE5IToEEDwgNiy0OWwcAj9jtowzWTxD2Xgrdsg9YyOOpMsO0kp1jjF2eVzkzOKe5G2QHXnv\n",
       "sAMVzp5Oyjjf5nizma3Ys87dAjFH0mXrdMcOlmjiQKmKmzENbShg1PEE5KDThhC/U2E4yu5U7b4T\n",
       "JztFWRn+A9cxHXmnXi25KZxNd+q3GCg3cMkn8Xsd3xJ8CrJHRvYwDg+aL/SFuqmElc06f0ues7dk\n",
       "401cxqHZbNabN0GzqpNz2QZpCMd1/IUae0vyU+Ck9G3W8iXot+gtuTT0ATu0VMctOAO/AARsunRT\n",
       "FRbXAAAAAElFTkSuQmCC\n",
       "\" style=\"display:inline;vertical-align:middle;\" /></a></td></tr>\n",
       "<tr><td colspan=4 style=\"text-align:left\"><strong>theory:</strong> tutorial</td></tr>\n",
       "<tr><td>2</td><td>NamedExprs</td><td>lambda_fn: 3<br>operand: 4<br></td><td><a class=\"ProveItLink\" href=\"__pv_it/basic_expressions/eb48059e632c4decf092702e5f01c18524ba188e0/expr.ipynb\"><img src=\"data:image/png;base64,iVBORw0KGgoAAAANSUhEUgAAAOUAAAAyCAMAAACULOyzAAAANlBMVEX///8WFhYNDQ2qqqoyMjIi\n",
       "IiIQEBDMzMxUVFS6urqYmJh2dnbu7u5mZmaIiIhERETc3NwAAABjHKI0AAAAAXRSTlMAQObYZgAA\n",
       "AAlwSFlzAAAOxAAADsQBlSsOGwAABE1JREFUaN7dmuuanCAMhmk5CwS4/5stBA+AOLNb1zqVH7P7\n",
       "OBB5MQnhcwiZW/CePKtJAf0liM7eOifgXP7weC14aC6YOF0LMYF+3cHovzfO1diCZaLG1NHtnjcT\n",
       "6qVpzYTpl1McTZVRGfVVlCGKAwtW1GHo42hm6o31njLd7mCqEydB2asobeRHFkys3DiOMo9/R8l6\n",
       "SnJEqdTbqZ7x2MiOLMgI1WKoiyndD1BCOHQqdWTBVqFoo/tMysbJ6aER7s5STgDGWMxGLgB4IDp9\n",
       "okHm0peOzrM0AHOGWYasbqOEUGo2oKCfXUVpweVcb5f15S1MM/+qa1nuE5Q052LHSr6m2dGnZGzC\n",
       "pMZwO2IOkxnFWNftkDYuZwNhuy3rKE0anJcpDilpnT3qrmr6CUqNM/NiTVQSU1dJwjqjebbl2GpI\n",
       "SzkbmIYOmecoKXEZTPkhJQG/jmi6Fn86F5dWm0KJ945moyyj0mBbUpld4nIZ0lEWA3AYl4kBq7K1\n",
       "NPv9izctroHfdC18ZyitU5TWlLCj9EvCnim3Id+kzC5gF+uDZ6mZriuZtSsNpz1WL7F0SNk9y2rI\n",
       "tykxnEEM801KgLWLd11PUeI3KchkGFAqsvzP/BaX1ZBvU+I9ty2spWRhN716tztLCVEmp2A1ZbbI\n",
       "cG1VDtSAFazCzFINWU3hUNZR7nMscSov0Jqf9Iv9cutqj2ufd5S4yYX0ByhYw0GqKJSkPn0SwyJP\n",
       "bN5SreezhnW4X+bTwTqExNKSqagaA0f7Zdr+DLg4LnJMe7Kqup6pCv5t2+Zo2NcHMXLWY2+gzLMu\n",
       "BcaXANuuY0pVVe7mMyiTl5c4/8LJedd1WAlXpy2I+jMo6QTui1PZdx1Ssu3kLPj9WpQ5rfsMhQq6\n",
       "JmwnAnlsWzK2E5I8uCGe5cqSRzeaEpXl7umUeG55uMeqGe/R2WfTKjm75g4vZOh/1arS/7KqINxe\n",
       "blR6+nUV3u2U1eHuumr9bsq6Wn8y5buTl3WABXF+uTU5p+YwDg6Mw6tATRYpOl16kZUrGXp3ZLap\n",
       "m5XG0NspJWrKHuXAnCptmabM2w5kbxeOhpTB9rp0HlfL0Hv5I1nKq+H47ZTcbNqVKuW9Xh9JTAyc\n",
       "oyy616XzQ69l6Pkmm+kpe0C0RE13U8pY3Cmn3yJJYi9Z9p/8ZmJ7v9np0kB2MnRnm/SvGO6ipPME\n",
       "82F7k5fTZTflJterQ11avqTEMy18AuX6LF33LNeMMb/YG+rS9h0luri1t8elcGU2eovL7GmzzqhX\n",
       "yrEuXcvQu1t7nWronJzu30kk1vKIgj+1sHM6wtLUhHVrGOvStQzd59i0XNYlSk3vp0wbozGqvI5V\n",
       "aU9UermcNsxAdBaR8zSHunQjQ/f7Zd6ICXUTJR9AWQlh98u1P0KpHkoZ6ucXX/8Gj6v/lbI5bfn4\n",
       "IqdjBP6nagLUv2r6hFcIl4SlYK06Qp8IyTpFC6J7HKTmvA+0R/8K+A/ErEAPW2iuHAAAAABJRU5E\n",
       "rkJggg==\n",
       "\" style=\"display:inline;vertical-align:middle;\" /></a></td></tr>\n",
       "<tr><td>3</td><td>Lambda</td><td>parameter:&nbsp;8<br>body:&nbsp;5<br></td><td><a class=\"ProveItLink\" href=\"__pv_it/basic_expressions/865cd558112bc550865b894be47944918c2e87540/expr.ipynb\"><img src=\"data:image/png;base64,iVBORw0KGgoAAAANSUhEUgAAADoAAAATCAMAAAD2xu7kAAAANlBMVEX///8WFhYNDQ3c3NwyMjK6\n",
       "urpEREQiIiLMzMwQEBCqqqp2dnZUVFSYmJhmZmaIiIju7u4AAADAoEoQAAAAAXRSTlMAQObYZgAA\n",
       "AAlwSFlzAAAOxAAADsQBlSsOGwAAANFJREFUOMudk+0WwxAMhrOVIgi5/5tds7NW9NjmyA+n4Xk1\n",
       "XwAWzaVV5cZhVVrZrUqBzR+gbN9OwiDXqh2kr2U6TmqhLIrzlj6HztOoiQARUIqVeSjFXTkaTRk8\n",
       "Agmd9qEUyn5l0KGEkloo8FnEng/XGbNtVWholF3Lx55nP/6rNVY5DUWpPUmHShgWBrzRFb+hsKdz\n",
       "GUhN19gbCpQkknwF9aOvDa3vaaopFuLx2ETfj0tD3XlpNNPDq1D5rAFnVRp1R5dSnHveNxRzITsX\n",
       "a4++APZ1CHTpke7WAAAAAElFTkSuQmCC\n",
       "\" style=\"display:inline;vertical-align:middle;\" /></a></td></tr>\n",
       "<tr><td>4</td><td>Variable</td><td></td><td><a class=\"ProveItLink\" href=\"__pv_it/basic_expressions/a0d9d672aa5e272d907247690c152cc2c6daafb70/expr.ipynb\"><img src=\"data:image/png;base64,iVBORw0KGgoAAAANSUhEUgAAAAsAAAAJBAMAAAAWSsseAAAAMFBMVEX///9ERES6uroQEBAyMjLc\n",
       "3NyYmJgiIiJmZmaqqqp2dnbMzMxUVFSIiIju7u4AAAAd7oVFAAAAAXRSTlMAQObYZgAAAAlwSFlz\n",
       "AAAOxAAADsQBlSsOGwAAAENJREFUCNdjYHh75/WqCQwMDbxnOQoY2ALY/vEkMHAzcDgwgADzBTCl\n",
       "H8D3gOGhwmEGLgaG+fuaGTQZGF7c5WybwAAAJTwQ1a2DuB8AAAAASUVORK5CYII=\n",
       "\" style=\"display:inline;vertical-align:middle;\" /></a></td></tr>\n",
       "<tr><td>5</td><td>Operation</td><td>operator:&nbsp;6<br>operand:&nbsp;8<br></td><td><a class=\"ProveItLink\" href=\"__pv_it/basic_expressions/e58323e310a95e19466c884e8dab279c66cbfdeb0/expr.ipynb\"><img src=\"data:image/png;base64,iVBORw0KGgoAAAANSUhEUgAAAA8AAAATBAMAAAC97EqZAAAAMFBMVEX////c3NwyMjK6urpEREQi\n",
       "IiLMzMwQEBCqqqp2dnZUVFSYmJhmZmaIiIju7u4AAADlKNhoAAAAAXRSTlMAQObYZgAAAAlwSFlz\n",
       "AAAOxAAADsQBlSsOGwAAAH9JREFUCNdjYAAD1gUQmkG+AMp4HwBl8CtAGewwNawHGPjubGB4xcA0\n",
       "gYGTo4BhPwPXBoYMngCGJQw8DQwP2C8w1DJwGjAw2D9g+8bAIcDAcIiBF2KsFwMLxJBTDPYbGN4D\n",
       "TX4197wAyEAgmASW4VTgq4DYcoFrApjBsfcwmAYAcI0cC6m9ZggAAAAASUVORK5CYII=\n",
       "\" style=\"display:inline;vertical-align:middle;\" /></a></td></tr>\n",
       "<tr><td colspan=4 style=\"text-align:left\"><strong>class:</strong> tutorial.demo_operations.Factorial</td></tr>\n",
       "<tr><td>6</td><td>Literal</td><td></td><td><a class=\"ProveItLink\" href=\"__pv_it/basic_expressions/fd03761321b547da82c74b2ed8e2f909ca4de7640/expr.ipynb\"><img src=\"data:image/png;base64,iVBORw0KGgoAAAANSUhEUgAAAAMAAAAPBAMAAADTxGj3AAAAJ1BMVEX///+6urqqqqqYmJh2dnZm\n",
       "ZmYyMjLu7u4QEBDc3NxUVFQiIiIAAABmOgpVAAAAAXRSTlMAQObYZgAAAAlwSFlzAAAOxAAADsQB\n",
       "lSsOGwAAADBJREFUCNdj4F7AMKeBoWYDA08CA8cCBu4ABjYHBi4DBlYFBhYBBqYJDBBQkwCUAgC+\n",
       "MAbl3fBGuQAAAABJRU5ErkJggg==\n",
       "\" style=\"display:inline;vertical-align:middle;\" /></a></td></tr>\n",
       "<tr><td colspan=4 style=\"text-align:left\"><strong>theory:</strong> tutorial</td></tr>\n",
       "<tr><td>7</td><td>ExprTuple</td><td>8</td><td><a class=\"ProveItLink\" href=\"__pv_it/basic_expressions/c60c4da4d0e362e1aae93eaa5e9af5fbed84db960/expr.ipynb\"><img src=\"data:image/png;base64,iVBORw0KGgoAAAANSUhEUgAAABcAAAAVBAMAAABfzGiYAAAAMFBMVEX////MzMxUVFRERES6uroi\n",
       "IiIQEBCYmJhmZmYyMjLu7u52dnaqqqqIiIjc3NwAAACW8nlqAAAAAXRSTlMAQObYZgAAAAlwSFlz\n",
       "AAAOxAAADsQBlSsOGwAAAMhJREFUGNM9j7sOwWAYhh+HVlUrFptB4gbETtyA1AUYOhhJOlqEiETE\n",
       "oJvE1NQNiM0gsYqlo0ksdu7A97f4k+/w/Hm/E/AgfnGwzwl0lLsmObYHpv8FtmB4PxiB/svRAy5/\n",
       "yHuspOzmEUKhyka85TKBnE8PKkaXGshXHwI9YgiplwKcIPWGrKtkLLFdkXVpCjTIVKVBnYPADEf2\n",
       "MPaUBcLTWg7Q2mglNf0o9hTllIJvDgQWYi20KL2HYl1ghzWeS8you4tRsvQdPnYWJrHV7rUtAAAA\n",
       "AElFTkSuQmCC\n",
       "\" style=\"display:inline;vertical-align:middle;\" /></a></td></tr>\n",
       "<tr><td>8</td><td>Variable</td><td></td><td><a class=\"ProveItLink\" href=\"../packages/proveit/__pv_it/common/ff7dba4ef0bbe791ab573bf2d9c220a304399ac80/expr.ipynb\"><img src=\"data:image/png;base64,iVBORw0KGgoAAAANSUhEUgAAAAsAAAANBAMAAACN24kIAAAAMFBMVEX////c3NwyMjK6urpEREQi\n",
       "IiLMzMwQEBCqqqp2dnZUVFSYmJhmZmaIiIju7u4AAADlKNhoAAAAAXRSTlMAQObYZgAAAAlwSFlz\n",
       "AAAOxAAADsQBlSsOGwAAAFhJREFUCNdj4LuzgeEVAwMnRwHDfgaGDJ4AhiUMDA/YLzDUMjAw2D9g\n",
       "+wakDjHwFgApLwaWBUDqFIP9BiD1au55AQYQmATEnAp8FUCK9QLXBCDFsfcwkAQA5QkUAIef7yAA\n",
       "AAAASUVORK5CYII=\n",
       "\" style=\"display:inline;vertical-align:middle;\" /></a></td></tr>\n",
       "</table>\n"
      ],
      "text/plain": [
       "0. [y -> y!](x)\n",
       "   core type: Operation\n",
       "   class: <class 'demo_lambda_app_operation.LambdaApplication'>\n",
       "   operator: 1\n",
       "   operand: 4\n",
       "1. LAMBDA_APPLICATION\n",
       "   core type: Literal\n",
       "   latex_format: {\\rm LAMBDA\\_APPLICATION}\n",
       "   theory: tutorial\n",
       "   class: <class 'proveit._core_.expression.label.literal.Literal'>\n",
       "   sub-expressions: \n",
       "2. {lambda_fn:[y -> y!], operand:x}\n",
       "   core type: NamedExprs\n",
       "   class: <class 'proveit._core_.expression.composite.named_exprs.NamedExprs'>\n",
       "   lambda_fn: 3\n",
       "   operand: 4\n",
       "3. y -> y!\n",
       "   core type: Lambda\n",
       "   class: <class 'proveit._core_.expression.lambda_expr.lambda_expr.Lambda'>\n",
       "   parameter: 8\n",
       "   body: 5\n",
       "4. x\n",
       "   core type: Variable\n",
       "   latex_format: x\n",
       "   class: <class 'proveit._core_.expression.label.var.Variable'>\n",
       "   sub-expressions: \n",
       "5. y!\n",
       "   core type: Operation\n",
       "   class: <class 'demo_operations.Factorial'>\n",
       "   operator: 6\n",
       "   operand: 8\n",
       "6. !\n",
       "   core type: Literal\n",
       "   latex_format: !\n",
       "   theory: tutorial\n",
       "   class: <class 'proveit._core_.expression.label.literal.Literal'>\n",
       "   sub-expressions: \n",
       "7. (y)\n",
       "   core type: ExprTuple\n",
       "   class: <class 'proveit._core_.expression.composite.expr_tuple.ExprTuple'>\n",
       "   sub-expressions: 8\n",
       "8. y\n",
       "   core type: Variable\n",
       "   latex_format: y\n",
       "   class: <class 'proveit._core_.expression.label.var.Variable'>\n",
       "   sub-expressions: "
      ]
     },
     "metadata": {},
     "output_type": "display_data"
    }
   ],
   "source": [
    "lambda_app_expr.expr_info(details=True)"
   ]
  },
  {
   "cell_type": "markdown",
   "metadata": {},
   "source": [
    "**Axioms** could then be created to define how the `LambdaApplication` **operation** actually operates, but **axioms** will be discussed in a later chapter."
   ]
  },
  {
   "cell_type": "markdown",
   "metadata": {},
   "source": [
    "NamedExprs\n",
    "=========\n",
    "\n",
    "`NamedExprs` is a composite **expression** that maps string keywords to sub-**expressions**.  The reason that this may be desired is to be explicit in the internal representation about the role of each sub-**expression** so there is no ambiguity between the internal and external representation.  A good example is the `lambda_app_expr` $[y \\mapsto y!](x)$ defined above, where one *operand* plays the role of the lambda function and the other *operand* plays the role of the lambda function's operand."
   ]
  },
  {
   "cell_type": "markdown",
   "metadata": {},
   "source": [
    "Here is a more rudimentary demonstration of using **NamedExpressions**:"
   ]
  },
  {
   "cell_type": "code",
   "execution_count": 111,
   "metadata": {},
   "outputs": [
    {
     "data": {
      "text/html": [
       "<a class=\"ProveItLink\" href=\"__pv_it/basic_expressions/7ee593cfa3dc1fc7a16ef41a0ad583fda56d30730/expr.ipynb\"><img src=\"data:image/png;base64,iVBORw0KGgoAAAANSUhEUgAAAMsAAABMCAMAAAD0kLNhAAAAOVBMVEX///96enoQEBDc3Nyjo6Mh\n",
       "ISHMzMwyMjJ2dnYiIiK6urqIiIhUVFRmZmZERESYmJiqqqru7u4AAABPIRSwAAAAAXRSTlMAQObY\n",
       "ZgAAAAlwSFlzAAAOxAAADsQBlSsOGwAABVFJREFUaN7tm+l6oyAUhhmYYTsgy/1f7LAYRYTUOokl\n",
       "8+iPNiGm5eVs8IEILZez6PMuIlutxk8fyCL95HaN2iuEPhJGkKoJjljFgBwSpm7wtakow5WlmKV+\n",
       "QJjao4Tn+5vY9h4jEFEO8dFYnPf0uVnCNW1ZVHpL9HCGmTaGUZ6hr1kSBYzHYjaWEF4fZKFeDxj9\n",
       "pZN5D10WooGH/lOFsVJWeRF+FqOwojkA5Sjn9gcCxh5ioTikb2BLvAi9/TOrc4YPQAHS4nLDeG86\n",
       "b7Ysue8RvMWCVkc1JHquQ8qMykLzJ4x3WIp6FE3DfiRgDrJYr0286Jcs8cIwMgtdw2pl4d2EEvzM\n",
       "uWHjZZ7IyAcL67C4SSKFEfqJecFRForjFIyHAZ/S7JOzsrtrHrOeOh1YpB2QJRUUEutLKDAkvvUK\n",
       "kqtx16gvTgMgq40dM14+5tp0/8+f35/Msun+/2SXm+VmuVlulpvlZnkZC3QWzPVF8AaUMqyHY1ln\n",
       "u3Srlu1WJVXfRanPjCD9iUIgM94/1Tma+sxstBFspAsFRX1P4y9ZhpD+6Cr2hXA5LHmTLcsg0p9Y\n",
       "gp83zSIZBssZIbPeLxVXBqyILAQgrcsq6W8j/OmYMdw1mzrLvgXxuC03YG1JTNZJ76fRjCGjybhY\n",
       "NvE9qWWZUvjjyOIUidcYhudM5gQmHcuJHPfJp5R4/EATTonQ1CxFkqA265fqqn1DFcPEiaknAj32\n",
       "X3YsqYPZRTtymZu1susEMwgl0vRLC9MFi4w+JsxBlvl++qxuvfiaokDUnb8wXrA4HWMftVia5TLJ\n",
       "sYCvIiFCuFRpzAEWu6btkqUn/eUvTVftTRM85y/RKS8P/0l9l4wSku9nBUsp/ZV5DGkV/eyqKeuC\n",
       "IH3LFaTyOJaOpPkFCObDJSC8D+3UTj6XnVL62yRoxUF7clVKXkYRHxi/KWA5YsV3EhO/aAujnLho\n",
       "/+U/lXOhMNNxDIcvEmRN4VjtLfEtusjZlR3sXrSfumo9MBWHRuiByaXjHIDro/XCGtCXndHAvtx5\n",
       "+H/WyLd2cbPcLGOzkBd+5YdZ4EQZlfBWFhD4VBWxp8oomLfahTyrst0Ou5MTNeaOsPw6HXd9lr4O\n",
       "qE8OndEdll8viZcnLH0d8PRys60YvSr2+yx9HdD2XEzNqYr0ZuPMnGKRDHOjdVrjP3S/fLziMWmM\n",
       "s810yjcf/zUsqy5O83i4r68DIj0H0u4kIMmz8fnXfE8pGnJ10i4YJ80pdWLW/Wg6pD3FPufVCc92\n",
       "EVOaokJaeod2iWlfB1xGd38SMFGUKJVoaNhJlqyP2dTbWfcTPHsPzRrOkscKOYPFdhv1w44OGD7I\n",
       "hmidBAwcG5RKNLT4LIvOI6oXrsdpsrBeyEYIvyoWt64lutrZXJOaJwGJKFFq0ZD6f2JBadGWX9s5\n",
       "0kMT7bDQdS3xFQtCDWGzYqlEQ/kSu/CNXfQTu+iSpVkuhV07Wp0ErH2sEg2t+Md4oavul7cqZQTI\n",
       "KlkZL2SNl/C1ZzpgHobGScB97G9Fw7Z0UrG0pm0sBrDL4T77C8ULGEmeovKfgTheBuf22BIPAnZ1\n",
       "QP4YpPokYCMnb0VDzduSUnn6u1nWmDKhAMhC94vzEs5VdvdQR2J9yTuxWoNxGKfUHF4DeaYDUpG/\n",
       "vzsJqGYGwjqioZDNOWEpwbefTWBv278T35T/H6IhEW15rJTE2gLZ+1iM/hbGIhq256TV1rFoBYx4\n",
       "n0o/HV5WlqJhe5pWbx3L/Z5lipF3advu8N5fKRq2R2C3o88vfoyPnNj8gybK7tm3SDfeQzqHRADf\n",
       "2DqGj3zAsvmsaDD7Rz7DW3T6L3NeTFVwcFb1AAAAAElFTkSuQmCC\n",
       "\" style=\"display:inline;vertical-align:middle;\" /></a>"
      ],
      "text/plain": [
       "{left:x, right:y, product:(x * y)}"
      ]
     },
     "metadata": {},
     "output_type": "display_data"
    }
   ],
   "source": [
    "from proveit import NamedExprs\n",
    "NamedExprs(('left',x), ('right',y), ('product',Multiply(x, y)))"
   ]
  },
  {
   "cell_type": "markdown",
   "metadata": {},
   "source": [
    "To produce a `NamedExprs` object, you must supply a list of (keyword, `Expression`) pairs.  The keywords must be strings, but can be any string desired.  When the **NamedExprs** is displayed, it will show each of these pairs in the order that they were originally provided."
   ]
  },
  {
   "cell_type": "markdown",
   "metadata": {},
   "source": [
    "ExprRange\n",
    "=========\n",
    "\n",
    "It is common in mathematical notation to use ellipses ($...$) in representing an unspecified number of parameters or operands.  The `ExprRange` expression type serves this purpose."
   ]
  },
  {
   "cell_type": "markdown",
   "metadata": {},
   "source": [
    "To create an `ExprRange`, supply a *parameter*, *body*, and *start* and *end* indices."
   ]
  },
  {
   "cell_type": "code",
   "execution_count": 112,
   "metadata": {},
   "outputs": [
    {
     "data": {
      "text/html": [
       "<strong id=\"it\">it:</strong> <a class=\"ProveItLink\" href=\"__pv_it/basic_expressions/fece1e33ce24f4fcca7858a8415592d637c1af450/expr.ipynb\"><img src=\"data:image/png;base64,iVBORw0KGgoAAAANSUhEUgAAAP0AAAAvBAMAAADa7dHrAAAAMFBMVEX///9ERES6urqqqqqYmJgQ\n",
       "EBDc3Nx2dnaIiIgyMjJmZmZUVFTu7u4iIiLMzMwAAAD4QZJGAAAAAXRSTlMAQObYZgAAAAlwSFlz\n",
       "AAAOxAAADsQBlSsOGwAAArpJREFUWMPtmD1oFEEUgJ/7c7fZ3bscFmJhcWAEO7fzB8EDxcImiyCk\n",
       "EbewFQ4sLCzcSsKlyBV2EbziRK8IXHEBUYtLd0QxgSCCuhCwsDFEUgQCh3Fmb3ezszOzzO41Ivvg\n",
       "huE93vt2/t68OYBIqt9BVHaHkF84zh96Y8EA5tsX+fl8Z20sHGR5mvEvF/yCX/AL/j/GLx8Ih3ji\n",
       "TMHnOBtrhwPBCO/urTRy46dyLqSQQv4nOWLK74lx9iijZMSEnELoOj2n31BAIyKbba7JSVGbh4Ev\n",
       "2ckuFe5rTLPY+vN+66HhVjqo8xWCjpd5AjTsdpVnvYh+rYQOvx01/1qVKZrM5VfPcMbeRE2TtzHw\n",
       "wnxhvR2f+1UMXdfwx5lY47k4xgW2UY9VD1IjXrvdwr0RRaE0c7zvuRT/Np5RjU+tG+ereKJdKqqb\n",
       "hhEzxI2XufwZwbqKxIyWPj2yCMOoe7wKi+9/PiS9XiFtq8Hil/spUBqDVLjtaG/0LcLQPBd56bDk\n",
       "rpJezxBIsll8pZ3CpzHQUdEwFEcZG424oWr1Iq+bMD8ckF7bAD/0Nosv23w8jQHNmUUTUoUg2Krn\n",
       "3fG8bzjzLkRuO9AjjQC3UUZVMVf3vM93Pa8f8asptxmNQZxrfmZQ3cTGkOMPoYXkrkH8wDE5fslO\n",
       "23UUBn2L315wzCFhmOkfZyzpAD5S8w8rJnP+t9L4FGaSxdbra1GGCgyb9TD3mScNO0yEoddppN4v\n",
       "M/dfjU9nYKC0j6fy10s4Sxr2SuFBlv9s2FLi1DzGC30/wfffjnqTz2dgQMH7ZWNR7lqkwbgRHf/X\n",
       "7pXrCa9d9Bskzv/k7Vip8/kMDBi1PPmvssPIf748gGz5T3VFL4a4Uekw7h9fuoL8SSTDms9XGZ3i\n",
       "6Eu1TGH2rO18Fd46R38i258Sequej19y2fqneYL9BVHBQNGLu//vAAAAAElFTkSuQmCC\n",
       "\" style=\"display:inline;vertical-align:middle;\" /></a><br>"
      ],
      "text/plain": [
       "<IPython.core.display.HTML object>"
      ]
     },
     "metadata": {},
     "output_type": "display_data"
    }
   ],
   "source": [
    "from proveit import ExprRange\n",
    "from proveit import i, j, k\n",
    "from proveit.numbers import one, Add, frac\n",
    "it = ExprRange(k, frac(one, Add(x, k)), i, j)"
   ]
  },
  {
   "cell_type": "markdown",
   "metadata": {},
   "source": [
    "For compactness, we only show the start and the end instances.  It is implicit that our index parameter ($k$, which is not explicitly shown) is that our index ranges from $i$ to $j$ in increments of $1$.  (Future style options could be implemented, if desired, to make the representation more explicit at the expense of being less compact without changing any of the inner workings of the `Iter` expression type.)"
   ]
  },
  {
   "cell_type": "markdown",
   "metadata": {},
   "source": [
    "Looking at the expression information, we see that there are three sub-expression of the `Iter` object: the `lambda_map`, `start_index` and `end_index`."
   ]
  },
  {
   "cell_type": "code",
   "execution_count": 113,
   "metadata": {},
   "outputs": [
    {
     "data": {
      "text/html": [
       "<table><tr><th>&nbsp;</th><th>core type</th><th>sub-expressions</th><th>expression</th></tr>\n",
       "<tr><td>0</td><td>ExprRange</td><td>lambda_map:&nbsp;1<br>start_index:&nbsp;2<br>end_index:&nbsp;3<br></td><td><a class=\"ProveItLink\" href=\"__pv_it/basic_expressions/fece1e33ce24f4fcca7858a8415592d637c1af450/expr.ipynb\"><img src=\"data:image/png;base64,iVBORw0KGgoAAAANSUhEUgAAAP0AAAAvBAMAAADa7dHrAAAAMFBMVEX///9ERES6urqqqqqYmJgQ\n",
       "EBDc3Nx2dnaIiIgyMjJmZmZUVFTu7u4iIiLMzMwAAAD4QZJGAAAAAXRSTlMAQObYZgAAAAlwSFlz\n",
       "AAAOxAAADsQBlSsOGwAAArpJREFUWMPtmD1oFEEUgJ/7c7fZ3bscFmJhcWAEO7fzB8EDxcImiyCk\n",
       "EbewFQ4sLCzcSsKlyBV2EbziRK8IXHEBUYtLd0QxgSCCuhCwsDFEUgQCh3Fmb3ezszOzzO41Ivvg\n",
       "huE93vt2/t68OYBIqt9BVHaHkF84zh96Y8EA5tsX+fl8Z20sHGR5mvEvF/yCX/AL/j/GLx8Ih3ji\n",
       "TMHnOBtrhwPBCO/urTRy46dyLqSQQv4nOWLK74lx9iijZMSEnELoOj2n31BAIyKbba7JSVGbh4Ev\n",
       "2ckuFe5rTLPY+vN+66HhVjqo8xWCjpd5AjTsdpVnvYh+rYQOvx01/1qVKZrM5VfPcMbeRE2TtzHw\n",
       "wnxhvR2f+1UMXdfwx5lY47k4xgW2UY9VD1IjXrvdwr0RRaE0c7zvuRT/Np5RjU+tG+ereKJdKqqb\n",
       "hhEzxI2XufwZwbqKxIyWPj2yCMOoe7wKi+9/PiS9XiFtq8Hil/spUBqDVLjtaG/0LcLQPBd56bDk\n",
       "rpJezxBIsll8pZ3CpzHQUdEwFEcZG424oWr1Iq+bMD8ckF7bAD/0Nosv23w8jQHNmUUTUoUg2Krn\n",
       "3fG8bzjzLkRuO9AjjQC3UUZVMVf3vM93Pa8f8asptxmNQZxrfmZQ3cTGkOMPoYXkrkH8wDE5fslO\n",
       "23UUBn2L315wzCFhmOkfZyzpAD5S8w8rJnP+t9L4FGaSxdbra1GGCgyb9TD3mScNO0yEoddppN4v\n",
       "M/dfjU9nYKC0j6fy10s4Sxr2SuFBlv9s2FLi1DzGC30/wfffjnqTz2dgQMH7ZWNR7lqkwbgRHf/X\n",
       "7pXrCa9d9Bskzv/k7Vip8/kMDBi1PPmvssPIf748gGz5T3VFL4a4Uekw7h9fuoL8SSTDms9XGZ3i\n",
       "6Eu1TGH2rO18Fd46R38i258Sequej19y2fqneYL9BVHBQNGLu//vAAAAAElFTkSuQmCC\n",
       "\" style=\"display:inline;vertical-align:middle;\" /></a></td></tr>\n",
       "<tr><td>1</td><td>Lambda</td><td>parameter:&nbsp;13<br>body:&nbsp;5<br></td><td><a class=\"ProveItLink\" href=\"__pv_it/basic_expressions/16b6258acf444bb8e22179347652aad12da41cfc0/expr.ipynb\"><img src=\"data:image/png;base64,iVBORw0KGgoAAAANSUhEUgAAAHoAAAAsCAMAAACdUFw8AAAANlBMVEX///8WFhYNDQ0yMjKqqqoi\n",
       "IiJmZmaYmJju7u4QEBC6urqIiIh2dnZUVFTc3NxERETMzMwAAAA9ejUTAAAAAXRSTlMAQObYZgAA\n",
       "AAlwSFlzAAAOxAAADsQBlSsOGwAAAT1JREFUWMPtl+luhSAQhWlZHBi2ef+XLZjUCt5FsdTbG84f\n",
       "oyZ8YZw5BxnrpSiBXSFwitM16CQc6IEe6IF+C7Qlfw3YOU3cTWzonwr/tHGKARGqK8s7ix6XW1m8\n",
       "lD3JRqeihh83KGEidKyvzqOo5L19YuhmUYpmnl0efH7IQkRmeUfnVKF1riislq92bbjpVW/KDTbR\n",
       "vcaKvFu9gUT2X86Ev4nmHQc7pF0LqdgywKbjXMfwLT//NaCN3mG8nYNxOPorylx3QhD43mhAdBCt\n",
       "FQfQVTQ2W34KFIfruHmKrqOxUZPPrgusOnk+Qm+isdWO8ip8XYU53bSeL25XNJ6QxkNttonGEzOc\n",
       "/zEA9qK30djY38Ewp7O3s/3oOhob55ciqIQ2Yn/BN9HYuGuFmIJ0Ege+9eNo/GU3K1P5NeLjC5ef\n",
       "EKmMby13AAAAAElFTkSuQmCC\n",
       "\" style=\"display:inline;vertical-align:middle;\" /></a></td></tr>\n",
       "<tr><td>2</td><td>Variable</td><td></td><td><a class=\"ProveItLink\" href=\"../packages/proveit/__pv_it/common/ae955345c83abf786c3aff8681cd5465beae262d0/expr.ipynb\"><img src=\"data:image/png;base64,iVBORw0KGgoAAAANSUhEUgAAAAcAAAAOBAMAAAARcxsoAAAALVBMVEX////c3NxUVFQyMjKqqqrM\n",
       "zMwQEBC6urqYmJju7u52dnYiIiJmZmaIiIgAAABgwC6IAAAAAXRSTlMAQObYZgAAAAlwSFlzAAAO\n",
       "xAAADsQBlSsOGwAAADpJREFUCNdjYGC4wwAEuxjQAeedBgYGLvYEBoYQHgMGhglsF4CCfhOAhBEn\n",
       "UPY5FwMD6wMJIFejgQEAGf4JG7xeJHMAAAAASUVORK5CYII=\n",
       "\" style=\"display:inline;vertical-align:middle;\" /></a></td></tr>\n",
       "<tr><td>3</td><td>Variable</td><td></td><td><a class=\"ProveItLink\" href=\"../packages/proveit/__pv_it/common/1ed21df18baca2f42b561a7ffbf30a2743d594650/expr.ipynb\"><img src=\"data:image/png;base64,iVBORw0KGgoAAAANSUhEUgAAAAoAAAASBAMAAACQmVJ4AAAAMFBMVEX///+6urp2dnYiIiKqqqrc\n",
       "3NyYmJgQEBBmZmZUVFQyMjKIiIju7u5ERETMzMwAAACiJdmqAAAAAXRSTlMAQObYZgAAAAlwSFlz\n",
       "AAAOxAAADsQBlSsOGwAAAExJREFUCNdjYGBg4LsDJBi4FzBgA6d3gsgG9gSgigB+BwYGHgb/AyCh\n",
       "ZrC0EYhg/Qgi2T6ASM4LIJJ9A5DlkA9U+N7BBMjn2CHAwAAAZeMNomSBQaEAAAAASUVORK5CYII=\n",
       "\" style=\"display:inline;vertical-align:middle;\" /></a></td></tr>\n",
       "<tr><td>4</td><td>ExprTuple</td><td>13</td><td><a class=\"ProveItLink\" href=\"__pv_it/basic_expressions/4b0dd6be36d76552eda6a95d5b4a27f5a5b62f900/expr.ipynb\"><img src=\"data:image/png;base64,iVBORw0KGgoAAAANSUhEUgAAACUAAAAVBAMAAAAzyjqdAAAAMFBMVEX////MzMxUVFRERES6uroi\n",
       "IiIQEBCYmJhmZmYyMjLu7u52dnaqqqqIiIjc3NwAAACW8nlqAAAAAXRSTlMAQObYZgAAAAlwSFlz\n",
       "AAAOxAAADsQBlSsOGwAAAMlJREFUGNNd0CELwkAUwPG/zM05t2GxW0WEgVkx2YRFg2FBsC7atBks\n",
       "NsEk+AGcfoJVscwvIEOwm03eDNvuHrx3vB+8x90BKeX4d04s2SQrd4lwQrB2snEAM1RsCYZCGEdu\n",
       "qtVDtkXndp8JNNrsCxun2hdqO2Y5WQtMH+yAeW7mBz2Cyqdkhsd5BNWgNHtOWInD9hkUFtOxU2oe\n",
       "19y0xJ6aYm1ES2ztixhi9S6vB+gj9Kbyjre44lqxjcihTK4nykk2Lft8N5HsCT8VgCbAE1QbkgAA\n",
       "AABJRU5ErkJggg==\n",
       "\" style=\"display:inline;vertical-align:middle;\" /></a></td></tr>\n",
       "<tr><td>5</td><td>Operation</td><td>operator:&nbsp;6<br>operands:&nbsp;7<br></td><td><a class=\"ProveItLink\" href=\"__pv_it/basic_expressions/5a815aea9051dc5a2d60de726b1a0ece17350fe10/expr.ipynb\"><img src=\"data:image/png;base64,iVBORw0KGgoAAAANSUhEUgAAAD8AAAAsBAMAAAAgM33ZAAAAMFBMVEX///9ERES6urqqqqqYmJgQ\n",
       "EBDc3Nx2dnaIiIgyMjJmZmZUVFTu7u4iIiLMzMwAAAD4QZJGAAAAAXRSTlMAQObYZgAAAAlwSFlz\n",
       "AAAOxAAADsQBlSsOGwAAAMZJREFUOMtjYEAFbw8w4AM8u+bjV8DA0D+qgEoK6hPwy++On+3AMAqw\n",
       "gf/4wYcRGCRMhNIKcwN5Ck50nys3wKoguyIDRC3g2MF1AZsCpjAGeWAmYElg+cPtgE3BUQeGtUCK\n",
       "j4FrAojLdffu1di7dzcgFKxnYLgOZrA2YHdkIAPPJzBDP4HnABYFPD8YWECp4aDCVgZ2bCbwfGbg\n",
       "nmDGwGD/ZimDMlYrJBhsFyxgYDjVwbzEAKuC0+3PdjzAGpIPBYEggdjIAgAW6F/A/DREcgAAAABJ\n",
       "RU5ErkJggg==\n",
       "\" style=\"display:inline;vertical-align:middle;\" /></a></td></tr>\n",
       "<tr><td>6</td><td>Literal</td><td></td><td><a class=\"ProveItLink\" href=\"../packages/proveit/numbers/division/__pv_it/common/a2a633e1e3c749fb1f2692466b287b6348c5de840/expr.ipynb\"><img src=\"data:image/png;base64,iVBORw0KGgoAAAANSUhEUgAAAA4AAAAMBAMAAACgrpHpAAAAJFBMVEX///9UVFQiIiJmZmaIiIiY\n",
       "mJi6urrc3Nzu7u4yMjJEREQAAABC8rhfAAAAAXRSTlMAQObYZgAAAAlwSFlzAAAOxAAADsQBlSsO\n",
       "GwAAACNJREFUCNdjYGBgWNnAAALsuxPANEMIAxZgpAQCigx4ADZzADtEBjyBzt3FAAAAAElFTkSu\n",
       "QmCC\n",
       "\" style=\"display:inline;vertical-align:middle;\" /></a></td></tr>\n",
       "<tr><td>7</td><td>ExprTuple</td><td>8, 9</td><td><a class=\"ProveItLink\" href=\"__pv_it/basic_expressions/2ffdac9b4bbe2dd9dc15497ebf760a0f55a89d7b0/expr.ipynb\"><img src=\"data:image/png;base64,iVBORw0KGgoAAAANSUhEUgAAAF4AAAAVBAMAAAA9Y0TyAAAAMFBMVEX////MzMxUVFRERES6uroi\n",
       "IiIQEBCYmJhmZmYyMjLu7u52dnaqqqqIiIjc3NwAAACW8nlqAAAAAXRSTlMAQObYZgAAAAlwSFlz\n",
       "AAAOxAAADsQBlSsOGwAAAT5JREFUKM9jYGB4wEAs4AMRvAeIVs9yAUicBmLRBcRpuM7AwDWBgUtj\n",
       "PpHqORcwcBQA6fuY6lkKsKhnb2BgY8CunucCNguyGE6SpH46Qzeyeq67WtJ7sKt/tPctkNwE1IGk\n",
       "noPh0oVWrOpZ8hjsgYoqGWKQ1dcx1C9Qx6p+WQEDyKBjDCnI6gUYOiH2hIaGpYaGKiDU9zMwRAMp\n",
       "eVT1DAy5OPybzMD1BUi5obqHgeUfwyps6rn+MrB/ANJHGWxh6oGIy4QpgWEDVvV/GJgmnGNgKAaG\n",
       "EBDsf8DA9ROo5uOKBJYDWN1jy3C0oYEBGPqiQI5S/qQChtAFDFy9F07UoLlf2BgIHjAsui2nK8DA\n",
       "EMLAKgBTsIBw/PIFgJIQBHATkd5AidMOyl5LRHp+DMSLoewLRKgHmc13gej8yPuAAQDRIFxUHOVv\n",
       "/wAAAABJRU5ErkJggg==\n",
       "\" style=\"display:inline;vertical-align:middle;\" /></a></td></tr>\n",
       "<tr><td>8</td><td>Literal</td><td></td><td><a class=\"ProveItLink\" href=\"../packages/proveit/numbers/numerals/__pv_it/common/682157d4892d216d9e5626ed533aff9b56b9506e0/expr.ipynb\"><img src=\"data:image/png;base64,iVBORw0KGgoAAAANSUhEUgAAAAgAAAAOBAMAAADgeEClAAAAJ1BMVEX///+YmJgQEBDc3Nx2dnaI\n",
       "iIgyMjJmZmZUVFTu7u4iIiLMzMwAAADHsjQhAAAAAXRSTlMAQObYZgAAAAlwSFlzAAAOxAAADsQB\n",
       "lSsOGwAAAB9JREFUCNdjYOBeycAwo+wkAwMDK8kEy2EGBo6mY40AwiwNMNzp/EYAAAAASUVORK5C\n",
       "YII=\n",
       "\" style=\"display:inline;vertical-align:middle;\" /></a></td></tr>\n",
       "<tr><td>9</td><td>Operation</td><td>operator:&nbsp;10<br>operands:&nbsp;11<br></td><td><a class=\"ProveItLink\" href=\"__pv_it/basic_expressions/d7f8c2a59b0e58b50006b461293e3e5eb6acd4290/expr.ipynb\"><img src=\"data:image/png;base64,iVBORw0KGgoAAAANSUhEUgAAAD4AAAAOBAMAAACFlbLaAAAAMFBMVEX///9ERES6uroQEBAyMjLc\n",
       "3NyYmJgiIiJmZmaqqqp2dnbMzMxUVFSIiIju7u4AAAAd7oVFAAAAAXRSTlMAQObYZgAAAAlwSFlz\n",
       "AAAOxAAADsQBlSsOGwAAAJ5JREFUGNNjYEAApgQGvIDzAjnyb++8XjUBq3zM2lgg2cB7lqMAmzyT\n",
       "KYP8Awa2ALZ/PAnY5B8nMLQzMHAzcDiAeBzl5cXm5eUHEPL9DAxVIJr5Anb3GTLwfQLR+gF8D7DI\n",
       "8/1lYPvAwPBQ4TADFzb9fD8ZeBymMszf18ygidV8WYbpDQ0ML+5ytk1Ald8oCAQBDG9ubT27gZTw\n",
       "xRY/APCYL7RgMSgyAAAAAElFTkSuQmCC\n",
       "\" style=\"display:inline;vertical-align:middle;\" /></a></td></tr>\n",
       "<tr><td>10</td><td>Literal</td><td></td><td><a class=\"ProveItLink\" href=\"../packages/proveit/numbers/addition/__pv_it/common/4b7effaab3619a1c2c38fe2dee8601df8ec714590/expr.ipynb\"><img src=\"data:image/png;base64,iVBORw0KGgoAAAANSUhEUgAAAA4AAAAOBAMAAADtZjDiAAAAHlBMVEX///9UVFQQEBAiIiJmZmaI\n",
       "iIiqqqqYmJi6uroAAAAAFVhYAAAAAXRSTlMAQObYZgAAAAlwSFlzAAAOxAAADsQBlSsOGwAAAB9J\n",
       "REFUCNdjYGBgaGeAgFRiaGdjYyVjY0Oi1SPRIHsAgDEGyG9xCpgAAAAASUVORK5CYII=\n",
       "\" style=\"display:inline;vertical-align:middle;\" /></a></td></tr>\n",
       "<tr><td>11</td><td>ExprTuple</td><td>12, 13</td><td><a class=\"ProveItLink\" href=\"__pv_it/basic_expressions/43c66062ae1073a77f0149e735d4c79a547025940/expr.ipynb\"><img src=\"data:image/png;base64,iVBORw0KGgoAAAANSUhEUgAAADoAAAAVBAMAAADlb+D4AAAAMFBMVEX////MzMxUVFRERES6uroi\n",
       "IiIQEBCYmJhmZmYyMjLu7u52dnaqqqqIiIjc3NwAAACW8nlqAAAAAXRSTlMAQObYZgAAAAlwSFlz\n",
       "AAAOxAAADsQBlSsOGwAAARFJREFUKM99kTFIA0EQRZ9Bc+cmFwKSxkK7dKmso1ZWgilipV2sLOTA\n",
       "yu4atbAwne1pQGzS2IpgEyEE4mFjIcKitWBhE1FwFjziLa4f9g/DY3ZndgDN3yoZC24cdDIRG+DS\n",
       "A6i2k07H+KGTehF53Nqm/w894Ui8e396le38+fpV/FI4REHNb2SG2WEphj025XXtfeQyzZ2H7Eu4\n",
       "ZQsm8K2xjmFDwryhkE+ytIV6l7BiboY1reJfUH3hvUnsUYfOcpUCjLn6JNcewq50zd3sAauo0bi4\n",
       "Ti+KkGkrcPFUPJRx16V4ZkGkOXucq5WhyVQ5LSjG9oIb5qt/VLA/0ixoMU26Nn2R00mTxKamrpQ4\n",
       "NhRovgEfLzwYVxA9jgAAAABJRU5ErkJggg==\n",
       "\" style=\"display:inline;vertical-align:middle;\" /></a></td></tr>\n",
       "<tr><td>12</td><td>Variable</td><td></td><td><a class=\"ProveItLink\" href=\"__pv_it/basic_expressions/a0d9d672aa5e272d907247690c152cc2c6daafb70/expr.ipynb\"><img src=\"data:image/png;base64,iVBORw0KGgoAAAANSUhEUgAAAAsAAAAJBAMAAAAWSsseAAAAMFBMVEX///9ERES6uroQEBAyMjLc\n",
       "3NyYmJgiIiJmZmaqqqp2dnbMzMxUVFSIiIju7u4AAAAd7oVFAAAAAXRSTlMAQObYZgAAAAlwSFlz\n",
       "AAAOxAAADsQBlSsOGwAAAENJREFUCNdjYHh75/WqCQwMDbxnOQoY2ALY/vEkMHAzcDgwgADzBTCl\n",
       "H8D3gOGhwmEGLgaG+fuaGTQZGF7c5WybwAAAJTwQ1a2DuB8AAAAASUVORK5CYII=\n",
       "\" style=\"display:inline;vertical-align:middle;\" /></a></td></tr>\n",
       "<tr><td>13</td><td>Variable</td><td></td><td><a class=\"ProveItLink\" href=\"__pv_it/basic_expressions/006c465e50948aa2b52285e2de47974f741255cc0/expr.ipynb\"><img src=\"data:image/png;base64,iVBORw0KGgoAAAANSUhEUgAAABgAAAAJBAMAAADa0/H1AAAAMFBMVEX///8yMjKqqqoiIiJmZmaY\n",
       "mJju7u4QEBC6urqIiIh2dnZUVFTc3NxERETMzMwAAAAY8qdrAAAAAXRSTlMAQObYZgAAAAlwSFlz\n",
       "AAAOxAAADsQBlSsOGwAAAElJREFUCNdjYICC0ytPwpgMHDUM9xNgnPQABme4jD8DgxWcU8vA9gPG\n",
       "ZvvJwPoBzvnEwC2gA+PdZFB2cGB4excIDjBkz3qz8wEAJxQUWRMzkfwAAAAASUVORK5CYII=\n",
       "\" style=\"display:inline;vertical-align:middle;\" /></a></td></tr>\n",
       "</table>\n"
      ],
      "text/plain": [
       "0. (1 / (x + i)), (1 / (x + (i + 1))), ..., (1 / (x + j))\n",
       "   core type: ExprRange\n",
       "   lambda_map: 1\n",
       "   start_index: 2\n",
       "   end_index: 3\n",
       "1. _a -> (1 / (x + _a))\n",
       "   core type: Lambda\n",
       "   parameter: 13\n",
       "   body: 5\n",
       "2. i\n",
       "   core type: Variable\n",
       "   sub-expressions: \n",
       "3. j\n",
       "   core type: Variable\n",
       "   sub-expressions: \n",
       "4. (_a)\n",
       "   core type: ExprTuple\n",
       "   sub-expressions: 13\n",
       "5. 1 / (x + _a)\n",
       "   core type: Operation\n",
       "   operator: 6\n",
       "   operands: 7\n",
       "6. /\n",
       "   core type: Literal\n",
       "   sub-expressions: \n",
       "7. (1, x + _a)\n",
       "   core type: ExprTuple\n",
       "   sub-expressions: 8, 9\n",
       "8. 1\n",
       "   core type: Literal\n",
       "   sub-expressions: \n",
       "9. x + _a\n",
       "   core type: Operation\n",
       "   operator: 10\n",
       "   operands: 11\n",
       "10. +\n",
       "    core type: Literal\n",
       "    sub-expressions: \n",
       "11. (x, _a)\n",
       "    core type: ExprTuple\n",
       "    sub-expressions: 12, 13\n",
       "12. x\n",
       "    core type: Variable\n",
       "    sub-expressions: \n",
       "13. _a\n",
       "    core type: Variable\n",
       "    sub-expressions: "
      ]
     },
     "metadata": {},
     "output_type": "display_data"
    }
   ],
   "source": [
    "it.expr_info()"
   ]
  },
  {
   "cell_type": "markdown",
   "metadata": {},
   "source": [
    "The `lambda_map`, `start_index` and `end_index` attributes provides access to the sub-expression.  The `parameter` and `body` attributes provide convient access to some indirect sub-expressions (the sub-expressions of `lambda_map`)."
   ]
  },
  {
   "cell_type": "code",
   "execution_count": 114,
   "metadata": {},
   "outputs": [
    {
     "data": {
      "text/html": [
       "<a class=\"ProveItLink\" href=\"__pv_it/basic_expressions/16b6258acf444bb8e22179347652aad12da41cfc0/expr.ipynb\"><img src=\"data:image/png;base64,iVBORw0KGgoAAAANSUhEUgAAAHoAAAAsCAMAAACdUFw8AAAANlBMVEX///8WFhYNDQ0yMjKqqqoi\n",
       "IiJmZmaYmJju7u4QEBC6urqIiIh2dnZUVFTc3NxERETMzMwAAAA9ejUTAAAAAXRSTlMAQObYZgAA\n",
       "AAlwSFlzAAAOxAAADsQBlSsOGwAAAT1JREFUWMPtl+luhSAQhWlZHBi2ef+XLZjUCt5FsdTbG84f\n",
       "oyZ8YZw5BxnrpSiBXSFwitM16CQc6IEe6IF+C7Qlfw3YOU3cTWzonwr/tHGKARGqK8s7ix6XW1m8\n",
       "lD3JRqeihh83KGEidKyvzqOo5L19YuhmUYpmnl0efH7IQkRmeUfnVKF1riislq92bbjpVW/KDTbR\n",
       "vcaKvFu9gUT2X86Ev4nmHQc7pF0LqdgywKbjXMfwLT//NaCN3mG8nYNxOPorylx3QhD43mhAdBCt\n",
       "FQfQVTQ2W34KFIfruHmKrqOxUZPPrgusOnk+Qm+isdWO8ip8XYU53bSeL25XNJ6QxkNttonGEzOc\n",
       "/zEA9qK30djY38Ewp7O3s/3oOhob55ciqIQ2Yn/BN9HYuGuFmIJ0Ege+9eNo/GU3K1P5NeLjC5ef\n",
       "EKmMby13AAAAAElFTkSuQmCC\n",
       "\" style=\"display:inline;vertical-align:middle;\" /></a>"
      ],
      "text/plain": [
       "_a -> (1 / (x + _a))"
      ]
     },
     "metadata": {},
     "output_type": "display_data"
    }
   ],
   "source": [
    "it.lambda_map"
   ]
  },
  {
   "cell_type": "code",
   "execution_count": 115,
   "metadata": {},
   "outputs": [
    {
     "data": {
      "text/html": [
       "<a class=\"ProveItLink\" href=\"__pv_it/basic_expressions/006c465e50948aa2b52285e2de47974f741255cc0/expr.ipynb\"><img src=\"data:image/png;base64,iVBORw0KGgoAAAANSUhEUgAAABgAAAAJBAMAAADa0/H1AAAAMFBMVEX///8yMjKqqqoiIiJmZmaY\n",
       "mJju7u4QEBC6urqIiIh2dnZUVFTc3NxERETMzMwAAAAY8qdrAAAAAXRSTlMAQObYZgAAAAlwSFlz\n",
       "AAAOxAAADsQBlSsOGwAAAElJREFUCNdjYICC0ytPwpgMHDUM9xNgnPQABme4jD8DgxWcU8vA9gPG\n",
       "ZvvJwPoBzvnEwC2gA+PdZFB2cGB4excIDjBkz3qz8wEAJxQUWRMzkfwAAAAASUVORK5CYII=\n",
       "\" style=\"display:inline;vertical-align:middle;\" /></a>"
      ],
      "text/plain": [
       "_a"
      ]
     },
     "metadata": {},
     "output_type": "display_data"
    }
   ],
   "source": [
    "it.parameter"
   ]
  },
  {
   "cell_type": "code",
   "execution_count": 116,
   "metadata": {},
   "outputs": [
    {
     "data": {
      "text/html": [
       "<a class=\"ProveItLink\" href=\"__pv_it/basic_expressions/5a815aea9051dc5a2d60de726b1a0ece17350fe10/expr.ipynb\"><img src=\"data:image/png;base64,iVBORw0KGgoAAAANSUhEUgAAAD8AAAAsBAMAAAAgM33ZAAAAMFBMVEX///9ERES6urqqqqqYmJgQ\n",
       "EBDc3Nx2dnaIiIgyMjJmZmZUVFTu7u4iIiLMzMwAAAD4QZJGAAAAAXRSTlMAQObYZgAAAAlwSFlz\n",
       "AAAOxAAADsQBlSsOGwAAAMZJREFUOMtjYEAFbw8w4AM8u+bjV8DA0D+qgEoK6hPwy++On+3AMAqw\n",
       "gf/4wYcRGCRMhNIKcwN5Ck50nys3wKoguyIDRC3g2MF1AZsCpjAGeWAmYElg+cPtgE3BUQeGtUCK\n",
       "j4FrAojLdffu1di7dzcgFKxnYLgOZrA2YHdkIAPPJzBDP4HnABYFPD8YWECp4aDCVgZ2bCbwfGbg\n",
       "nmDGwGD/ZimDMlYrJBhsFyxgYDjVwbzEAKuC0+3PdjzAGpIPBYEggdjIAgAW6F/A/DREcgAAAABJ\n",
       "RU5ErkJggg==\n",
       "\" style=\"display:inline;vertical-align:middle;\" /></a>"
      ],
      "text/plain": [
       "1 / (x + _a)"
      ]
     },
     "metadata": {},
     "output_type": "display_data"
    }
   ],
   "source": [
    "it.body"
   ]
  },
  {
   "cell_type": "code",
   "execution_count": 117,
   "metadata": {},
   "outputs": [
    {
     "data": {
      "text/html": [
       "<a class=\"ProveItLink\" href=\"../packages/proveit/__pv_it/common/ae955345c83abf786c3aff8681cd5465beae262d0/expr.ipynb\"><img src=\"data:image/png;base64,iVBORw0KGgoAAAANSUhEUgAAAAcAAAAOBAMAAAARcxsoAAAALVBMVEX////c3NxUVFQyMjKqqqrM\n",
       "zMwQEBC6urqYmJju7u52dnYiIiJmZmaIiIgAAABgwC6IAAAAAXRSTlMAQObYZgAAAAlwSFlzAAAO\n",
       "xAAADsQBlSsOGwAAADpJREFUCNdjYGC4wwAEuxjQAeedBgYGLvYEBoYQHgMGhglsF4CCfhOAhBEn\n",
       "UPY5FwMD6wMJIFejgQEAGf4JG7xeJHMAAAAASUVORK5CYII=\n",
       "\" style=\"display:inline;vertical-align:middle;\" /></a>"
      ],
      "text/plain": [
       "i"
      ]
     },
     "metadata": {},
     "output_type": "display_data"
    }
   ],
   "source": [
    "it.start_index"
   ]
  },
  {
   "cell_type": "code",
   "execution_count": 118,
   "metadata": {},
   "outputs": [
    {
     "data": {
      "text/html": [
       "<a class=\"ProveItLink\" href=\"../packages/proveit/__pv_it/common/1ed21df18baca2f42b561a7ffbf30a2743d594650/expr.ipynb\"><img src=\"data:image/png;base64,iVBORw0KGgoAAAANSUhEUgAAAAoAAAASBAMAAACQmVJ4AAAAMFBMVEX///+6urp2dnYiIiKqqqrc\n",
       "3NyYmJgQEBBmZmZUVFQyMjKIiIju7u5ERETMzMwAAACiJdmqAAAAAXRSTlMAQObYZgAAAAlwSFlz\n",
       "AAAOxAAADsQBlSsOGwAAAExJREFUCNdjYGBg4LsDJBi4FzBgA6d3gsgG9gSgigB+BwYGHgb/AyCh\n",
       "ZrC0EYhg/Qgi2T6ASM4LIJJ9A5DlkA9U+N7BBMjn2CHAwAAAZeMNomSBQaEAAAAASUVORK5CYII=\n",
       "\" style=\"display:inline;vertical-align:middle;\" /></a>"
      ],
      "text/plain": [
       "j"
      ]
     },
     "metadata": {},
     "output_type": "display_data"
    }
   ],
   "source": [
    "it.end_index"
   ]
  },
  {
   "cell_type": "markdown",
   "metadata": {},
   "source": [
    "We have special formatting features when an `Iter` is used as *operands* of an `Operator`.  As stated previously, **Prove-It** is flexible in its formatting."
   ]
  },
  {
   "cell_type": "code",
   "execution_count": 119,
   "metadata": {},
   "outputs": [
    {
     "data": {
      "text/html": [
       "<strong id=\"add_it\">add_it:</strong> <a class=\"ProveItLink\" href=\"__pv_it/basic_expressions/f5351e1a8f8ab75fd6fbf98ef11da67937d834780/expr.ipynb\"><img src=\"data:image/png;base64,iVBORw0KGgoAAAANSUhEUgAAASoAAAAvBAMAAACmrpobAAAAMFBMVEX///9ERES6urqqqqqYmJgQ\n",
       "EBDc3Nx2dnaIiIgyMjJmZmZUVFTu7u4iIiLMzMwAAAD4QZJGAAAAAXRSTlMAQObYZgAAAAlwSFlz\n",
       "AAAOxAAADsQBlSsOGwAAAq1JREFUWMPtmE9oE0EUxh/5u91sIniQHgPas3sRqyCuWARPDUUhB4sr\n",
       "eG/AgwcP3YNIbA/24K0Hg7TYHAotpiDVw/ZWqtiilIJ2oeLBi6XFQqFQ1NmmnczMzsJMJvHiDGwI\n",
       "k/d9+WXm7Xs7AcCjsAmSQ14h7fW+fihpJK9ow8uQ/g6jc1SxXppKU2kqTaWpVLyy+7JO8gppr9zC\n",
       "QUPOSF7xb7z0aI1zavKE0xXffjWqpNcVX02lqdr0/cMdu+iT2SC4HQRf44PiRyg3g2B9OAjmIt9I\n",
       "+J6K0esd/J+pXO5sJkq1OgFgHRy/6TKVYfPbjBehytfQy5eTN+1SGTURqovoGmPmtn2Ax6o7+M3n\n",
       "TucrAl3UCndjg55afIEMe3zF7vxUrMVzHU2Ho3yGiFK1jj6fxC44d/XTPGVIBXc6msNyVJdiqZ53\n",
       "gGp5/ONDm/JenopIWkFY/Qrl0ZjDo3okjmJV3/14QPta1bBJ1Yw35hrlXemLqFtBWI1WJJso8ahu\n",
       "ilOZMO7N0r4m3EK56aYOcw7pXbDrrJgIwurPAN/NCR7VBXGqGzDoN2jfJ7CHGKBp3WrxFpRZ8UkQ\n",
       "2e+HAPy0xzwcHFHtiFNtQZ319ZNH59W0x+RsknOMxUH4NyEquOrz1qpPJsnLkWxvpsp51/Ip7565\n",
       "aHHFQeQOwqTFo7oicwzahw8MVVjDl4oLkGWaabHCaIkgrO5Fe/0ry6O6Jn4Lns6VoMJQjRTRJvyc\n",
       "hrO0906GLfJEEFaj+7+we5+hGnWbNUP0Uef3SinBVBwYRNdKNTll0965AVZNBGH1NroaTL16e3cS\n",
       "zXwSX6sZ7/J1Nq/mVWp7fitGmVlTq+1lwQM4t4uSTZhSmk5bVMe+r1Nqf4qdiZm/p2Ja2MvbSlRL\n",
       "krRiY+al2lkhw09Dw1X/L+gv3jtQfwLnPgcAAAAASUVORK5CYII=\n",
       "\" style=\"display:inline;vertical-align:middle;\" /></a><br>"
      ],
      "text/plain": [
       "<IPython.core.display.HTML object>"
      ]
     },
     "metadata": {},
     "output_type": "display_data"
    }
   ],
   "source": [
    "add_it = Add(it)"
   ]
  },
  {
   "cell_type": "markdown",
   "metadata": {},
   "source": [
    "To really understand how **Prove-It** recognizes an expression, one must look at the expression information. "
   ]
  },
  {
   "cell_type": "code",
   "execution_count": 120,
   "metadata": {},
   "outputs": [
    {
     "data": {
      "text/html": [
       "<table><tr><th>&nbsp;</th><th>core type</th><th>sub-expressions</th><th>expression</th></tr>\n",
       "<tr><td>0</td><td>Operation</td><td>operator:&nbsp;12<br>operands:&nbsp;1<br></td><td><a class=\"ProveItLink\" href=\"__pv_it/basic_expressions/f5351e1a8f8ab75fd6fbf98ef11da67937d834780/expr.ipynb\"><img src=\"data:image/png;base64,iVBORw0KGgoAAAANSUhEUgAAASoAAAAvBAMAAACmrpobAAAAMFBMVEX///9ERES6urqqqqqYmJgQ\n",
       "EBDc3Nx2dnaIiIgyMjJmZmZUVFTu7u4iIiLMzMwAAAD4QZJGAAAAAXRSTlMAQObYZgAAAAlwSFlz\n",
       "AAAOxAAADsQBlSsOGwAAAq1JREFUWMPtmE9oE0EUxh/5u91sIniQHgPas3sRqyCuWARPDUUhB4sr\n",
       "eG/AgwcP3YNIbA/24K0Hg7TYHAotpiDVw/ZWqtiilIJ2oeLBi6XFQqFQ1NmmnczMzsJMJvHiDGwI\n",
       "k/d9+WXm7Xs7AcCjsAmSQ14h7fW+fihpJK9ow8uQ/g6jc1SxXppKU2kqTaWpVLyy+7JO8gppr9zC\n",
       "QUPOSF7xb7z0aI1zavKE0xXffjWqpNcVX02lqdr0/cMdu+iT2SC4HQRf44PiRyg3g2B9OAjmIt9I\n",
       "+J6K0esd/J+pXO5sJkq1OgFgHRy/6TKVYfPbjBehytfQy5eTN+1SGTURqovoGmPmtn2Ax6o7+M3n\n",
       "TucrAl3UCndjg55afIEMe3zF7vxUrMVzHU2Ho3yGiFK1jj6fxC44d/XTPGVIBXc6msNyVJdiqZ53\n",
       "gGp5/ONDm/JenopIWkFY/Qrl0ZjDo3okjmJV3/14QPta1bBJ1Yw35hrlXemLqFtBWI1WJJso8ahu\n",
       "ilOZMO7N0r4m3EK56aYOcw7pXbDrrJgIwurPAN/NCR7VBXGqGzDoN2jfJ7CHGKBp3WrxFpRZ8UkQ\n",
       "2e+HAPy0xzwcHFHtiFNtQZ319ZNH59W0x+RsknOMxUH4NyEquOrz1qpPJsnLkWxvpsp51/Ip7565\n",
       "aHHFQeQOwqTFo7oicwzahw8MVVjDl4oLkGWaabHCaIkgrO5Fe/0ry6O6Jn4Lns6VoMJQjRTRJvyc\n",
       "hrO0906GLfJEEFaj+7+we5+hGnWbNUP0Uef3SinBVBwYRNdKNTll0965AVZNBGH1NroaTL16e3cS\n",
       "zXwSX6sZ7/J1Nq/mVWp7fitGmVlTq+1lwQM4t4uSTZhSmk5bVMe+r1Nqf4qdiZm/p2Ja2MvbSlRL\n",
       "krRiY+al2lkhw09Dw1X/L+gv3jtQfwLnPgcAAAAASUVORK5CYII=\n",
       "\" style=\"display:inline;vertical-align:middle;\" /></a></td></tr>\n",
       "<tr><td>1</td><td>ExprTuple</td><td>2</td><td><a class=\"ProveItLink\" href=\"__pv_it/basic_expressions/13daca0e264015ba07544a2bc52a9285b9b3b7d60/expr.ipynb\"><img src=\"data:image/png;base64,iVBORw0KGgoAAAANSUhEUgAAARkAAAAyBAMAAACaIrJlAAAAMFBMVEX///+6urqqqqpmZmbu7u6I\n",
       "iIgiIiIQEBDc3NwyMjJ2dnaYmJhUVFTMzMxEREQAAAC0ii6rAAAAAXRSTlMAQObYZgAAAAlwSFlz\n",
       "AAAOxAAADsQBlSsOGwAAA9hJREFUWMPNmD1oFEEUgN/97f3t/SCIiEUW/EObu8aEmMKFeIWgyUII\n",
       "WARzqKygKTZFNIjoVTY2h6Qz4GIpQg4tVCzuQCVFBA+RFDYXQcUykQgJIsnszt5md2dm725T3Axc\n",
       "dvJm5r1vZ96+mTcAqGSb0O8yJtvVlb7DQOZ6uybqdHnHsirvw75n8Il25a1TenF4s0t10fdPg9MQ\n",
       "g1MN/EzMu8Sxza5VTu9nbryDb+GHoHBBcxL//xq4oEkWzcddPmhCWzTr/aKBRdNtGpzQFAxBq8kJ\n",
       "zbjxNS0DJzTZMvpzjxeaNHLjzD9eaKKIJLblEaa2ula4VNkHDTkYrVJWc4vE5e1ut/RPDxZrgWEo\n",
       "g38BxNeAl7KEvqsiNzT1PLQUbmgQSkHihgYtU73JDU2uAdMVfmjWYEnmhiZehXP80Ahl+IxrO9Sy\n",
       "bk3hTo+FaXDHz46gtWm4mBuNs5XqsPNFA2qWu5BQvHjaP96MV5lNFR9xdNsa6650oGl0in4CMw+O\n",
       "MYL4QfOviqZCMLbAa2BV1I6TkytCIc9sjRlKjrFaT6PfBCW3j5kHhTBhO8ykyfyw1kGHFvuIIhi3\n",
       "BTrLoYwlvOmW4Rx+wTyzEQNS7Leu2rtmjjxRHHEaVRiNEcdbhGrOU+wro1YitJb8zOAURgKBdNPj\n",
       "Tm5WY9y5CIqTJm4sCXlOUfzM4JNyBUQNOnajNZ5i0iS7PJ4SZlAgTlspQmnq0nPJ1a00srdekx++\n",
       "PXPrOIukEzUaTarhg0CaQSKrch859B9cLcY+RsqubvohW0cEppRBt44nyGxIo9Gkqz40pBkoxvFL\n",
       "Jf7a2V26kt4Ua85uGWnY1vEG6vKKW8dVgC+RKo0mrLFhSDMQq+QkO7uDIWwbLNWDqnpHVWeMPWHO\n",
       "VtKEYXcjwCyK9XGDIqKqN26rasOmyayzaUgzyE4BRyLRmLMBK/zFFY97hZ1J55zX92bbtwrE3IQ0\n",
       "3/CvEF5s+UBOaYdtg6oSlV3dkg3ZedVznlgpWIxSV6rsR0OYsWNo3ZDjj2osv2xHS6vbeL4dh6Pf\n",
       "URzQ3Tp+IvFGiurFPvkixQwkNvBzZu+mrfB1CA64u7US7cAR/j+qhTzf5QvDQR55aMwcPqKzaShm\n",
       "IL3uuGnDMzQ6GR6R3N3Ed3a4OaMcfenRsYp+K554g3N4gb0P08yAiOcyi8NUUg8Si4UmJRab5SH0\n",
       "Fostvx7A7pSZ77Sd0RrTRcquaZaRLmmwJlGqy/ZnYZQrgc6avxnyRG+XHi0JY9j7iagHoRljyLO9\n",
       "Ja+RCexmh23J4yA0CcblxuVAM51Z2Hud/t8MXDCdZxcvB1GzqLIdgAAAAABJRU5ErkJggg==\n",
       "\" style=\"display:inline;vertical-align:middle;\" /></a></td></tr>\n",
       "<tr><td>2</td><td>ExprRange</td><td>lambda_map:&nbsp;3<br>start_index:&nbsp;4<br>end_index:&nbsp;5<br></td><td><a class=\"ProveItLink\" href=\"__pv_it/basic_expressions/fece1e33ce24f4fcca7858a8415592d637c1af450/expr.ipynb\"><img src=\"data:image/png;base64,iVBORw0KGgoAAAANSUhEUgAAAP0AAAAvBAMAAADa7dHrAAAAMFBMVEX///9ERES6urqqqqqYmJgQ\n",
       "EBDc3Nx2dnaIiIgyMjJmZmZUVFTu7u4iIiLMzMwAAAD4QZJGAAAAAXRSTlMAQObYZgAAAAlwSFlz\n",
       "AAAOxAAADsQBlSsOGwAAArpJREFUWMPtmD1oFEEUgJ/7c7fZ3bscFmJhcWAEO7fzB8EDxcImiyCk\n",
       "EbewFQ4sLCzcSsKlyBV2EbziRK8IXHEBUYtLd0QxgSCCuhCwsDFEUgQCh3Fmb3ezszOzzO41Ivvg\n",
       "huE93vt2/t68OYBIqt9BVHaHkF84zh96Y8EA5tsX+fl8Z20sHGR5mvEvF/yCX/AL/j/GLx8Ih3ji\n",
       "TMHnOBtrhwPBCO/urTRy46dyLqSQQv4nOWLK74lx9iijZMSEnELoOj2n31BAIyKbba7JSVGbh4Ev\n",
       "2ckuFe5rTLPY+vN+66HhVjqo8xWCjpd5AjTsdpVnvYh+rYQOvx01/1qVKZrM5VfPcMbeRE2TtzHw\n",
       "wnxhvR2f+1UMXdfwx5lY47k4xgW2UY9VD1IjXrvdwr0RRaE0c7zvuRT/Np5RjU+tG+ereKJdKqqb\n",
       "hhEzxI2XufwZwbqKxIyWPj2yCMOoe7wKi+9/PiS9XiFtq8Hil/spUBqDVLjtaG/0LcLQPBd56bDk\n",
       "rpJezxBIsll8pZ3CpzHQUdEwFEcZG424oWr1Iq+bMD8ckF7bAD/0Nosv23w8jQHNmUUTUoUg2Krn\n",
       "3fG8bzjzLkRuO9AjjQC3UUZVMVf3vM93Pa8f8asptxmNQZxrfmZQ3cTGkOMPoYXkrkH8wDE5fslO\n",
       "23UUBn2L315wzCFhmOkfZyzpAD5S8w8rJnP+t9L4FGaSxdbra1GGCgyb9TD3mScNO0yEoddppN4v\n",
       "M/dfjU9nYKC0j6fy10s4Sxr2SuFBlv9s2FLi1DzGC30/wfffjnqTz2dgQMH7ZWNR7lqkwbgRHf/X\n",
       "7pXrCa9d9Bskzv/k7Vip8/kMDBi1PPmvssPIf748gGz5T3VFL4a4Uekw7h9fuoL8SSTDms9XGZ3i\n",
       "6Eu1TGH2rO18Fd46R38i258Sequej19y2fqneYL9BVHBQNGLu//vAAAAAElFTkSuQmCC\n",
       "\" style=\"display:inline;vertical-align:middle;\" /></a></td></tr>\n",
       "<tr><td>3</td><td>Lambda</td><td>parameter:&nbsp;15<br>body:&nbsp;7<br></td><td><a class=\"ProveItLink\" href=\"__pv_it/basic_expressions/16b6258acf444bb8e22179347652aad12da41cfc0/expr.ipynb\"><img src=\"data:image/png;base64,iVBORw0KGgoAAAANSUhEUgAAAHoAAAAsCAMAAACdUFw8AAAANlBMVEX///8WFhYNDQ0yMjKqqqoi\n",
       "IiJmZmaYmJju7u4QEBC6urqIiIh2dnZUVFTc3NxERETMzMwAAAA9ejUTAAAAAXRSTlMAQObYZgAA\n",
       "AAlwSFlzAAAOxAAADsQBlSsOGwAAAT1JREFUWMPtl+luhSAQhWlZHBi2ef+XLZjUCt5FsdTbG84f\n",
       "oyZ8YZw5BxnrpSiBXSFwitM16CQc6IEe6IF+C7Qlfw3YOU3cTWzonwr/tHGKARGqK8s7ix6XW1m8\n",
       "lD3JRqeihh83KGEidKyvzqOo5L19YuhmUYpmnl0efH7IQkRmeUfnVKF1riislq92bbjpVW/KDTbR\n",
       "vcaKvFu9gUT2X86Ev4nmHQc7pF0LqdgywKbjXMfwLT//NaCN3mG8nYNxOPorylx3QhD43mhAdBCt\n",
       "FQfQVTQ2W34KFIfruHmKrqOxUZPPrgusOnk+Qm+isdWO8ip8XYU53bSeL25XNJ6QxkNttonGEzOc\n",
       "/zEA9qK30djY38Ewp7O3s/3oOhob55ciqIQ2Yn/BN9HYuGuFmIJ0Ege+9eNo/GU3K1P5NeLjC5ef\n",
       "EKmMby13AAAAAElFTkSuQmCC\n",
       "\" style=\"display:inline;vertical-align:middle;\" /></a></td></tr>\n",
       "<tr><td>4</td><td>Variable</td><td></td><td><a class=\"ProveItLink\" href=\"../packages/proveit/__pv_it/common/ae955345c83abf786c3aff8681cd5465beae262d0/expr.ipynb\"><img src=\"data:image/png;base64,iVBORw0KGgoAAAANSUhEUgAAAAcAAAAOBAMAAAARcxsoAAAALVBMVEX////c3NxUVFQyMjKqqqrM\n",
       "zMwQEBC6urqYmJju7u52dnYiIiJmZmaIiIgAAABgwC6IAAAAAXRSTlMAQObYZgAAAAlwSFlzAAAO\n",
       "xAAADsQBlSsOGwAAADpJREFUCNdjYGC4wwAEuxjQAeedBgYGLvYEBoYQHgMGhglsF4CCfhOAhBEn\n",
       "UPY5FwMD6wMJIFejgQEAGf4JG7xeJHMAAAAASUVORK5CYII=\n",
       "\" style=\"display:inline;vertical-align:middle;\" /></a></td></tr>\n",
       "<tr><td>5</td><td>Variable</td><td></td><td><a class=\"ProveItLink\" href=\"../packages/proveit/__pv_it/common/1ed21df18baca2f42b561a7ffbf30a2743d594650/expr.ipynb\"><img src=\"data:image/png;base64,iVBORw0KGgoAAAANSUhEUgAAAAoAAAASBAMAAACQmVJ4AAAAMFBMVEX///+6urp2dnYiIiKqqqrc\n",
       "3NyYmJgQEBBmZmZUVFQyMjKIiIju7u5ERETMzMwAAACiJdmqAAAAAXRSTlMAQObYZgAAAAlwSFlz\n",
       "AAAOxAAADsQBlSsOGwAAAExJREFUCNdjYGBg4LsDJBi4FzBgA6d3gsgG9gSgigB+BwYGHgb/AyCh\n",
       "ZrC0EYhg/Qgi2T6ASM4LIJJ9A5DlkA9U+N7BBMjn2CHAwAAAZeMNomSBQaEAAAAASUVORK5CYII=\n",
       "\" style=\"display:inline;vertical-align:middle;\" /></a></td></tr>\n",
       "<tr><td>6</td><td>ExprTuple</td><td>15</td><td><a class=\"ProveItLink\" href=\"__pv_it/basic_expressions/4b0dd6be36d76552eda6a95d5b4a27f5a5b62f900/expr.ipynb\"><img src=\"data:image/png;base64,iVBORw0KGgoAAAANSUhEUgAAACUAAAAVBAMAAAAzyjqdAAAAMFBMVEX////MzMxUVFRERES6uroi\n",
       "IiIQEBCYmJhmZmYyMjLu7u52dnaqqqqIiIjc3NwAAACW8nlqAAAAAXRSTlMAQObYZgAAAAlwSFlz\n",
       "AAAOxAAADsQBlSsOGwAAAMlJREFUGNNd0CELwkAUwPG/zM05t2GxW0WEgVkx2YRFg2FBsC7atBks\n",
       "NsEk+AGcfoJVscwvIEOwm03eDNvuHrx3vB+8x90BKeX4d04s2SQrd4lwQrB2snEAM1RsCYZCGEdu\n",
       "qtVDtkXndp8JNNrsCxun2hdqO2Y5WQtMH+yAeW7mBz2Cyqdkhsd5BNWgNHtOWInD9hkUFtOxU2oe\n",
       "19y0xJ6aYm1ES2ztixhi9S6vB+gj9Kbyjre44lqxjcihTK4nykk2Lft8N5HsCT8VgCbAE1QbkgAA\n",
       "AABJRU5ErkJggg==\n",
       "\" style=\"display:inline;vertical-align:middle;\" /></a></td></tr>\n",
       "<tr><td>7</td><td>Operation</td><td>operator:&nbsp;8<br>operands:&nbsp;9<br></td><td><a class=\"ProveItLink\" href=\"__pv_it/basic_expressions/5a815aea9051dc5a2d60de726b1a0ece17350fe10/expr.ipynb\"><img src=\"data:image/png;base64,iVBORw0KGgoAAAANSUhEUgAAAD8AAAAsBAMAAAAgM33ZAAAAMFBMVEX///9ERES6urqqqqqYmJgQ\n",
       "EBDc3Nx2dnaIiIgyMjJmZmZUVFTu7u4iIiLMzMwAAAD4QZJGAAAAAXRSTlMAQObYZgAAAAlwSFlz\n",
       "AAAOxAAADsQBlSsOGwAAAMZJREFUOMtjYEAFbw8w4AM8u+bjV8DA0D+qgEoK6hPwy++On+3AMAqw\n",
       "gf/4wYcRGCRMhNIKcwN5Ck50nys3wKoguyIDRC3g2MF1AZsCpjAGeWAmYElg+cPtgE3BUQeGtUCK\n",
       "j4FrAojLdffu1di7dzcgFKxnYLgOZrA2YHdkIAPPJzBDP4HnABYFPD8YWECp4aDCVgZ2bCbwfGbg\n",
       "nmDGwGD/ZimDMlYrJBhsFyxgYDjVwbzEAKuC0+3PdjzAGpIPBYEggdjIAgAW6F/A/DREcgAAAABJ\n",
       "RU5ErkJggg==\n",
       "\" style=\"display:inline;vertical-align:middle;\" /></a></td></tr>\n",
       "<tr><td>8</td><td>Literal</td><td></td><td><a class=\"ProveItLink\" href=\"../packages/proveit/numbers/division/__pv_it/common/a2a633e1e3c749fb1f2692466b287b6348c5de840/expr.ipynb\"><img src=\"data:image/png;base64,iVBORw0KGgoAAAANSUhEUgAAAA4AAAAMBAMAAACgrpHpAAAAJFBMVEX///9UVFQiIiJmZmaIiIiY\n",
       "mJi6urrc3Nzu7u4yMjJEREQAAABC8rhfAAAAAXRSTlMAQObYZgAAAAlwSFlzAAAOxAAADsQBlSsO\n",
       "GwAAACNJREFUCNdjYGBgWNnAAALsuxPANEMIAxZgpAQCigx4ADZzADtEBjyBzt3FAAAAAElFTkSu\n",
       "QmCC\n",
       "\" style=\"display:inline;vertical-align:middle;\" /></a></td></tr>\n",
       "<tr><td>9</td><td>ExprTuple</td><td>10, 11</td><td><a class=\"ProveItLink\" href=\"__pv_it/basic_expressions/2ffdac9b4bbe2dd9dc15497ebf760a0f55a89d7b0/expr.ipynb\"><img src=\"data:image/png;base64,iVBORw0KGgoAAAANSUhEUgAAAF4AAAAVBAMAAAA9Y0TyAAAAMFBMVEX////MzMxUVFRERES6uroi\n",
       "IiIQEBCYmJhmZmYyMjLu7u52dnaqqqqIiIjc3NwAAACW8nlqAAAAAXRSTlMAQObYZgAAAAlwSFlz\n",
       "AAAOxAAADsQBlSsOGwAAAT5JREFUKM9jYGB4wEAs4AMRvAeIVs9yAUicBmLRBcRpuM7AwDWBgUtj\n",
       "PpHqORcwcBQA6fuY6lkKsKhnb2BgY8CunucCNguyGE6SpH46Qzeyeq67WtJ7sKt/tPctkNwE1IGk\n",
       "noPh0oVWrOpZ8hjsgYoqGWKQ1dcx1C9Qx6p+WQEDyKBjDCnI6gUYOiH2hIaGpYaGKiDU9zMwRAMp\n",
       "eVT1DAy5OPybzMD1BUi5obqHgeUfwyps6rn+MrB/ANJHGWxh6oGIy4QpgWEDVvV/GJgmnGNgKAaG\n",
       "EBDsf8DA9ROo5uOKBJYDWN1jy3C0oYEBGPqiQI5S/qQChtAFDFy9F07UoLlf2BgIHjAsui2nK8DA\n",
       "EMLAKgBTsIBw/PIFgJIQBHATkd5AidMOyl5LRHp+DMSLoewLRKgHmc13gej8yPuAAQDRIFxUHOVv\n",
       "/wAAAABJRU5ErkJggg==\n",
       "\" style=\"display:inline;vertical-align:middle;\" /></a></td></tr>\n",
       "<tr><td>10</td><td>Literal</td><td></td><td><a class=\"ProveItLink\" href=\"../packages/proveit/numbers/numerals/__pv_it/common/682157d4892d216d9e5626ed533aff9b56b9506e0/expr.ipynb\"><img src=\"data:image/png;base64,iVBORw0KGgoAAAANSUhEUgAAAAgAAAAOBAMAAADgeEClAAAAJ1BMVEX///+YmJgQEBDc3Nx2dnaI\n",
       "iIgyMjJmZmZUVFTu7u4iIiLMzMwAAADHsjQhAAAAAXRSTlMAQObYZgAAAAlwSFlzAAAOxAAADsQB\n",
       "lSsOGwAAAB9JREFUCNdjYOBeycAwo+wkAwMDK8kEy2EGBo6mY40AwiwNMNzp/EYAAAAASUVORK5C\n",
       "YII=\n",
       "\" style=\"display:inline;vertical-align:middle;\" /></a></td></tr>\n",
       "<tr><td>11</td><td>Operation</td><td>operator:&nbsp;12<br>operands:&nbsp;13<br></td><td><a class=\"ProveItLink\" href=\"__pv_it/basic_expressions/d7f8c2a59b0e58b50006b461293e3e5eb6acd4290/expr.ipynb\"><img src=\"data:image/png;base64,iVBORw0KGgoAAAANSUhEUgAAAD4AAAAOBAMAAACFlbLaAAAAMFBMVEX///9ERES6uroQEBAyMjLc\n",
       "3NyYmJgiIiJmZmaqqqp2dnbMzMxUVFSIiIju7u4AAAAd7oVFAAAAAXRSTlMAQObYZgAAAAlwSFlz\n",
       "AAAOxAAADsQBlSsOGwAAAJ5JREFUGNNjYEAApgQGvIDzAjnyb++8XjUBq3zM2lgg2cB7lqMAmzyT\n",
       "KYP8Awa2ALZ/PAnY5B8nMLQzMHAzcDiAeBzl5cXm5eUHEPL9DAxVIJr5Anb3GTLwfQLR+gF8D7DI\n",
       "8/1lYPvAwPBQ4TADFzb9fD8ZeBymMszf18ygidV8WYbpDQ0ML+5ytk1Ald8oCAQBDG9ubT27gZTw\n",
       "xRY/APCYL7RgMSgyAAAAAElFTkSuQmCC\n",
       "\" style=\"display:inline;vertical-align:middle;\" /></a></td></tr>\n",
       "<tr><td>12</td><td>Literal</td><td></td><td><a class=\"ProveItLink\" href=\"../packages/proveit/numbers/addition/__pv_it/common/4b7effaab3619a1c2c38fe2dee8601df8ec714590/expr.ipynb\"><img src=\"data:image/png;base64,iVBORw0KGgoAAAANSUhEUgAAAA4AAAAOBAMAAADtZjDiAAAAHlBMVEX///9UVFQQEBAiIiJmZmaI\n",
       "iIiqqqqYmJi6uroAAAAAFVhYAAAAAXRSTlMAQObYZgAAAAlwSFlzAAAOxAAADsQBlSsOGwAAAB9J\n",
       "REFUCNdjYGBgaGeAgFRiaGdjYyVjY0Oi1SPRIHsAgDEGyG9xCpgAAAAASUVORK5CYII=\n",
       "\" style=\"display:inline;vertical-align:middle;\" /></a></td></tr>\n",
       "<tr><td>13</td><td>ExprTuple</td><td>14, 15</td><td><a class=\"ProveItLink\" href=\"__pv_it/basic_expressions/43c66062ae1073a77f0149e735d4c79a547025940/expr.ipynb\"><img src=\"data:image/png;base64,iVBORw0KGgoAAAANSUhEUgAAADoAAAAVBAMAAADlb+D4AAAAMFBMVEX////MzMxUVFRERES6uroi\n",
       "IiIQEBCYmJhmZmYyMjLu7u52dnaqqqqIiIjc3NwAAACW8nlqAAAAAXRSTlMAQObYZgAAAAlwSFlz\n",
       "AAAOxAAADsQBlSsOGwAAARFJREFUKM99kTFIA0EQRZ9Bc+cmFwKSxkK7dKmso1ZWgilipV2sLOTA\n",
       "yu4atbAwne1pQGzS2IpgEyEE4mFjIcKitWBhE1FwFjziLa4f9g/DY3ZndgDN3yoZC24cdDIRG+DS\n",
       "A6i2k07H+KGTehF53Nqm/w894Ui8e396le38+fpV/FI4REHNb2SG2WEphj025XXtfeQyzZ2H7Eu4\n",
       "ZQsm8K2xjmFDwryhkE+ytIV6l7BiboY1reJfUH3hvUnsUYfOcpUCjLn6JNcewq50zd3sAauo0bi4\n",
       "Ti+KkGkrcPFUPJRx16V4ZkGkOXucq5WhyVQ5LSjG9oIb5qt/VLA/0ixoMU26Nn2R00mTxKamrpQ4\n",
       "NhRovgEfLzwYVxA9jgAAAABJRU5ErkJggg==\n",
       "\" style=\"display:inline;vertical-align:middle;\" /></a></td></tr>\n",
       "<tr><td>14</td><td>Variable</td><td></td><td><a class=\"ProveItLink\" href=\"__pv_it/basic_expressions/a0d9d672aa5e272d907247690c152cc2c6daafb70/expr.ipynb\"><img src=\"data:image/png;base64,iVBORw0KGgoAAAANSUhEUgAAAAsAAAAJBAMAAAAWSsseAAAAMFBMVEX///9ERES6uroQEBAyMjLc\n",
       "3NyYmJgiIiJmZmaqqqp2dnbMzMxUVFSIiIju7u4AAAAd7oVFAAAAAXRSTlMAQObYZgAAAAlwSFlz\n",
       "AAAOxAAADsQBlSsOGwAAAENJREFUCNdjYHh75/WqCQwMDbxnOQoY2ALY/vEkMHAzcDgwgADzBTCl\n",
       "H8D3gOGhwmEGLgaG+fuaGTQZGF7c5WybwAAAJTwQ1a2DuB8AAAAASUVORK5CYII=\n",
       "\" style=\"display:inline;vertical-align:middle;\" /></a></td></tr>\n",
       "<tr><td>15</td><td>Variable</td><td></td><td><a class=\"ProveItLink\" href=\"__pv_it/basic_expressions/006c465e50948aa2b52285e2de47974f741255cc0/expr.ipynb\"><img src=\"data:image/png;base64,iVBORw0KGgoAAAANSUhEUgAAABgAAAAJBAMAAADa0/H1AAAAMFBMVEX///8yMjKqqqoiIiJmZmaY\n",
       "mJju7u4QEBC6urqIiIh2dnZUVFTc3NxERETMzMwAAAAY8qdrAAAAAXRSTlMAQObYZgAAAAlwSFlz\n",
       "AAAOxAAADsQBlSsOGwAAAElJREFUCNdjYICC0ytPwpgMHDUM9xNgnPQABme4jD8DgxWcU8vA9gPG\n",
       "ZvvJwPoBzvnEwC2gA+PdZFB2cGB4excIDjBkz3qz8wEAJxQUWRMzkfwAAAAASUVORK5CYII=\n",
       "\" style=\"display:inline;vertical-align:middle;\" /></a></td></tr>\n",
       "</table>\n"
      ],
      "text/plain": [
       "0. (1 / (x + i)) +  (1 / (x + (i + 1))) +  ... +  (1 / (x + j))\n",
       "   core type: Operation\n",
       "   operator: 12\n",
       "   operands: 1\n",
       "1. ((1 / (x + i)), (1 / (x + (i + 1))), ..., (1 / (x + j)))\n",
       "   core type: ExprTuple\n",
       "   sub-expressions: 2\n",
       "2. (1 / (x + i)), (1 / (x + (i + 1))), ..., (1 / (x + j))\n",
       "   core type: ExprRange\n",
       "   lambda_map: 3\n",
       "   start_index: 4\n",
       "   end_index: 5\n",
       "3. _a -> (1 / (x + _a))\n",
       "   core type: Lambda\n",
       "   parameter: 15\n",
       "   body: 7\n",
       "4. i\n",
       "   core type: Variable\n",
       "   sub-expressions: \n",
       "5. j\n",
       "   core type: Variable\n",
       "   sub-expressions: \n",
       "6. (_a)\n",
       "   core type: ExprTuple\n",
       "   sub-expressions: 15\n",
       "7. 1 / (x + _a)\n",
       "   core type: Operation\n",
       "   operator: 8\n",
       "   operands: 9\n",
       "8. /\n",
       "   core type: Literal\n",
       "   sub-expressions: \n",
       "9. (1, x + _a)\n",
       "   core type: ExprTuple\n",
       "   sub-expressions: 10, 11\n",
       "10. 1\n",
       "    core type: Literal\n",
       "    sub-expressions: \n",
       "11. x + _a\n",
       "    core type: Operation\n",
       "    operator: 12\n",
       "    operands: 13\n",
       "12. +\n",
       "    core type: Literal\n",
       "    sub-expressions: \n",
       "13. (x, _a)\n",
       "    core type: ExprTuple\n",
       "    sub-expressions: 14, 15\n",
       "14. x\n",
       "    core type: Variable\n",
       "    sub-expressions: \n",
       "15. _a\n",
       "    core type: Variable\n",
       "    sub-expressions: "
      ]
     },
     "metadata": {},
     "output_type": "display_data"
    }
   ],
   "source": [
    "add_it.expr_info()"
   ]
  },
  {
   "cell_type": "markdown",
   "metadata": {},
   "source": [
    "IndexedVar\n",
    "=========\n",
    "\n",
    "To truly understand what can be done with `Iter` expressions, we must see how they can be used with `IndexedVar` expressions.  On its own, an `IndexedVar` if fairly straightforward.  An `IndexedVar` is effectively an `Operation` where the *operator* is the variable being indexed and the *operand* is the *index*, but it does have some special properties related to <a href=\"#IterParams\">iterated parameters</a> which justifies makin `IndexedVar` a core expression type."
   ]
  },
  {
   "cell_type": "code",
   "execution_count": 121,
   "metadata": {},
   "outputs": [
    {
     "data": {
      "text/html": [
       "<strong id=\"a_i\">a_i:</strong> <a class=\"ProveItLink\" href=\"__pv_it/basic_expressions/c1fad46b1cc25ea9a3a84c0aa346db8e42543d970/expr.ipynb\"><img src=\"data:image/png;base64,iVBORw0KGgoAAAANSUhEUgAAABEAAAAMBAMAAAB2C0uMAAAAMFBMVEX////MzMwyMjKqqqoiIiJm\n",
       "ZmaYmJju7u5EREQQEBC6urqIiIh2dnZUVFTc3NwAAAAqL9KcAAAAAXRSTlMAQObYZgAAAAlwSFlz\n",
       "AAAOxAAADsQBlSsOGwAAAGJJREFUCNdjYOC7s28DAxisfMDxnYGhjoGBfRoDqwMDw2kGBtYPDCwH\n",
       "wJKcDQz1C8Cs+g0M+QwMqy8AWQYMl5ifbwBq4tjA7MrKVwzUxH774NuNQD4DFNQXwlhGrDBW7T4G\n",
       "AKSwGbkQM+3iAAAAAElFTkSuQmCC\n",
       "\" style=\"display:inline;vertical-align:middle;\" /></a><br>"
      ],
      "text/plain": [
       "<IPython.core.display.HTML object>"
      ]
     },
     "metadata": {},
     "output_type": "display_data"
    }
   ],
   "source": [
    "from proveit import IndexedVar\n",
    "a_i = IndexedVar(a, i)"
   ]
  },
  {
   "cell_type": "code",
   "execution_count": 122,
   "metadata": {},
   "outputs": [
    {
     "data": {
      "text/html": [
       "<table><tr><th>&nbsp;</th><th>core type</th><th>sub-expressions</th><th>expression</th></tr>\n",
       "<tr><td>0</td><td>IndexedVar</td><td>variable:&nbsp;1<br>index:&nbsp;3<br></td><td><a class=\"ProveItLink\" href=\"__pv_it/basic_expressions/c1fad46b1cc25ea9a3a84c0aa346db8e42543d970/expr.ipynb\"><img src=\"data:image/png;base64,iVBORw0KGgoAAAANSUhEUgAAABEAAAAMBAMAAAB2C0uMAAAAMFBMVEX////MzMwyMjKqqqoiIiJm\n",
       "ZmaYmJju7u5EREQQEBC6urqIiIh2dnZUVFTc3NwAAAAqL9KcAAAAAXRSTlMAQObYZgAAAAlwSFlz\n",
       "AAAOxAAADsQBlSsOGwAAAGJJREFUCNdjYOC7s28DAxisfMDxnYGhjoGBfRoDqwMDw2kGBtYPDCwH\n",
       "wJKcDQz1C8Cs+g0M+QwMqy8AWQYMl5ifbwBq4tjA7MrKVwzUxH774NuNQD4DFNQXwlhGrDBW7T4G\n",
       "AKSwGbkQM+3iAAAAAElFTkSuQmCC\n",
       "\" style=\"display:inline;vertical-align:middle;\" /></a></td></tr>\n",
       "<tr><td>1</td><td>Variable</td><td></td><td><a class=\"ProveItLink\" href=\"../packages/proveit/__pv_it/common/c06c606ec12678c58933ac85412ecadc2ae28be60/expr.ipynb\"><img src=\"data:image/png;base64,iVBORw0KGgoAAAANSUhEUgAAAAsAAAAJBAMAAAAWSsseAAAAMFBMVEX////MzMwyMjKqqqoiIiJm\n",
       "ZmaYmJju7u5EREQQEBC6urqIiIh2dnZUVFTc3NwAAAAqL9KcAAAAAXRSTlMAQObYZgAAAAlwSFlz\n",
       "AAAOxAAADsQBlSsOGwAAAEdJREFUCNdjYOC7s28DAwPDygcc3xkY2KcxsDowMLB+YGA5wMDA2cBQ\n",
       "v4CBoX4DQz5QRb0BwyXmBwwcG5hdWYEqbx98u5EBABisEWzRR9jxAAAAAElFTkSuQmCC\n",
       "\" style=\"display:inline;vertical-align:middle;\" /></a></td></tr>\n",
       "<tr><td>2</td><td>ExprTuple</td><td>3</td><td><a class=\"ProveItLink\" href=\"__pv_it/basic_expressions/0fc33550aa9740010879fdf30c320b63ba918eff0/expr.ipynb\"><img src=\"data:image/png;base64,iVBORw0KGgoAAAANSUhEUgAAABMAAAAVBAMAAABWJ8jiAAAAMFBMVEX////MzMxUVFRERES6uroi\n",
       "IiIQEBCYmJhmZmYyMjLu7u52dnaqqqqIiIjc3NwAAACW8nlqAAAAAXRSTlMAQObYZgAAAAlwSFlz\n",
       "AAAOxAAADsQBlSsOGwAAAK1JREFUCNctjyEOwkAQRR+BltLSBoND4LC9AIQLkOBBVHCASiQOgWkw\n",
       "JKhNuADhBFiCoLKKYAgWwQH423aT+Xni7Z8M8II6wqvNmY27piBMwc+ECziCl1K+NbgV4RpuNXZS\n",
       "dtILScGQg7KVQDtjCQNPLd2EFRg3h8bXIg8DkiSw9yXMGavhF+hbzMVqH20905cwUq8zxelV295y\n",
       "NhVuNZOSolhxKrFpL4pyi0/4A8ouIFUMFBTJAAAAAElFTkSuQmCC\n",
       "\" style=\"display:inline;vertical-align:middle;\" /></a></td></tr>\n",
       "<tr><td>3</td><td>Variable</td><td></td><td><a class=\"ProveItLink\" href=\"../packages/proveit/__pv_it/common/ae955345c83abf786c3aff8681cd5465beae262d0/expr.ipynb\"><img src=\"data:image/png;base64,iVBORw0KGgoAAAANSUhEUgAAAAcAAAAOBAMAAAARcxsoAAAALVBMVEX////c3NxUVFQyMjKqqqrM\n",
       "zMwQEBC6urqYmJju7u52dnYiIiJmZmaIiIgAAABgwC6IAAAAAXRSTlMAQObYZgAAAAlwSFlzAAAO\n",
       "xAAADsQBlSsOGwAAADpJREFUCNdjYGC4wwAEuxjQAeedBgYGLvYEBoYQHgMGhglsF4CCfhOAhBEn\n",
       "UPY5FwMD6wMJIFejgQEAGf4JG7xeJHMAAAAASUVORK5CYII=\n",
       "\" style=\"display:inline;vertical-align:middle;\" /></a></td></tr>\n",
       "</table>\n"
      ],
      "text/plain": [
       "0. a_{i}\n",
       "   core type: IndexedVar\n",
       "variable: 1\n",
       "index: 3\n",
       "1. a\n",
       "   core type: Variable\n",
       "   sub-expressions: \n",
       "2. (i)\n",
       "   core type: ExprTuple\n",
       "   sub-expressions: 3\n",
       "3. i\n",
       "   core type: Variable\n",
       "   sub-expressions: "
      ]
     },
     "metadata": {},
     "output_type": "display_data"
    }
   ],
   "source": [
    "a_i.expr_info()"
   ]
  },
  {
   "cell_type": "markdown",
   "metadata": {},
   "source": [
    "This \"operator\" must be a `Variable` or `IndexedVar`:"
   ]
  },
  {
   "cell_type": "code",
   "execution_count": 123,
   "metadata": {},
   "outputs": [
    {
     "name": "stdout",
     "output_type": "stream",
     "text": [
      "EXPECTED ERROR:  'var' being indexed should be a Variable or IndexedVar itself; got f(x)\n"
     ]
    }
   ],
   "source": [
    "try:\n",
    "    IndexedVar(fx, i)\n",
    "    assert False, (\"Expecting a TypeError error; \"\n",
    "                   \"should not make it to this point\")\n",
    "except TypeError as e:\n",
    "    print(\"EXPECTED ERROR: \", e)"
   ]
  },
  {
   "cell_type": "markdown",
   "metadata": {},
   "source": [
    "And `IndexedVar` may have multiple indices:"
   ]
  },
  {
   "cell_type": "code",
   "execution_count": 124,
   "metadata": {},
   "outputs": [
    {
     "data": {
      "text/html": [
       "<strong id=\"a_ij\">a_ij:</strong> <a class=\"ProveItLink\" href=\"__pv_it/basic_expressions/5f24f4a47f94fefe2b8380b215257ec46a146e410/expr.ipynb\"><img src=\"data:image/png;base64,iVBORw0KGgoAAAANSUhEUgAAAB0AAAAPBAMAAADqo9msAAAAMFBMVEX////MzMwyMjKqqqoiIiJm\n",
       "ZmaYmJju7u5EREQQEBC6urqIiIh2dnZUVFTc3NwAAAAqL9KcAAAAAXRSTlMAQObYZgAAAAlwSFlz\n",
       "AAAOxAAADsQBlSsOGwAAAJlJREFUCNdjYOC7s28DAxJY+YDjOwNDHZjNyMDAPo2B1YGB4TSYzyLA\n",
       "wPqBgeUAknLOBob6BUj8+g0M+QwMqy+A2NXBQL4BwyXm5xu+g/gBRgwMHBuYXVn5ioFGMrAXHAUS\n",
       "tw++3QgUBWtWg5tSCKb+wfhGrAw1QOdMgPFr9zFIGjBwX0B2uAEDUwISl6tASxJZmo0hOpyBAQAa\n",
       "HSG2nuUvywAAAABJRU5ErkJggg==\n",
       "\" style=\"display:inline;vertical-align:middle;\" /></a><br>"
      ],
      "text/plain": [
       "<IPython.core.display.HTML object>"
      ]
     },
     "metadata": {},
     "output_type": "display_data"
    }
   ],
   "source": [
    "a_ij = IndexedVar(a, (i, j))"
   ]
  },
  {
   "cell_type": "markdown",
   "metadata": {},
   "source": [
    "The real purpose of the `IndexedVar` expression type is to be used within an iteration.  So there is a convenient method called `var_range` for generating a range of indexed variables."
   ]
  },
  {
   "cell_type": "code",
   "execution_count": 125,
   "metadata": {},
   "outputs": [
    {
     "data": {
      "text/html": [
       "<strong id=\"a_i_to_j\">a_i_to_j:</strong> <a class=\"ProveItLink\" href=\"__pv_it/basic_expressions/30a0a26b5bf024e53f59b1b53df145eac0b723cf0/expr.ipynb\"><img src=\"data:image/png;base64,iVBORw0KGgoAAAANSUhEUgAAAIIAAAAPBAMAAADaAwrIAAAAMFBMVEX////MzMwyMjKqqqoiIiJm\n",
       "ZmaYmJju7u5EREQQEBC6urqIiIh2dnZUVFTc3NwAAAAqL9KcAAAAAXRSTlMAQObYZgAAAAlwSFlz\n",
       "AAAOxAAADsQBlSsOGwAAAWhJREFUKM+lUzFLw0AYfTQ9r9baZhVBMrlapOAmFSwuDje4W/wDRhxE\n",
       "Sk0nKTjoJJ1ER3GJ0G626NxFXOOQrYMWig4FXbz0LrmTEgn4QY53j7yX73u5A/KvPRdRDftvSFZK\n",
       "d+tnxsCJ2GSvcG6D+gkchA4m6CVIGegL+riKHSAXNkX3Yg2kDhsgI6QfI34X2JaQ8WexHeugdLMN\n",
       "ONcR3wL9krARLKVYB6VzXOwDd8+itW/MjJDtJnAQOtopwinixRi4PBSbE5+Yt9ZrBVt3sKczCBwC\n",
       "nU8MCxnXqJD8YRn0g/NnKDE2KOk9THjH0sBkmehwlGOg3tPwnu+BTf6x+sOSZ3If0my2mqeih4BP\n",
       "B7lWIEF6C1KHVDWc6gAwwnbp2NSnMKbHWItQITw6q4SfgpA1LKY75KZjVL9/IQT1HlCLgvJ86fC+\n",
       "0td4laS6Bl2dd3+/1ojhec0puPzHuWcJ7kbq5gL/K9Kx8QP3vmJNvQGwHAAAAABJRU5ErkJggg==\n",
       "\" style=\"display:inline;vertical-align:middle;\" /></a><br>"
      ],
      "text/plain": [
       "<IPython.core.display.HTML object>"
      ]
     },
     "metadata": {},
     "output_type": "display_data"
    }
   ],
   "source": [
    "from proveit import var_range\n",
    "a_i_to_j = var_range(a, i, j)"
   ]
  },
  {
   "cell_type": "markdown",
   "metadata": {},
   "source": [
    "### <a name=\"IterParams\"></a>Iterated parameters\n",
    "\n",
    "When a `Lambda` expression has iterated parameters, a parameter entry that is an `var_range` over `IndexedVar`s, the `apply` method offers some interesting versatility.  Consider the following example representing a map which distributes a product over a sum of an unspecified number of terms."
   ]
  },
  {
   "cell_type": "code",
   "execution_count": 126,
   "metadata": {},
   "outputs": [
    {
     "data": {
      "text/html": [
       "<strong id=\"distribution_map\">distribution_map:</strong> <a class=\"ProveItLink\" href=\"__pv_it/basic_expressions/a67323e7f4e98a427c3a38365490183febf55f820/expr.ipynb\"><img src=\"data:image/png;base64,iVBORw0KGgoAAAANSUhEUgAAAfsAAAAWCAMAAADw+MUIAAAANlBMVEX///8WFhYNDQ3MzMxUVFRE\n",
       "RES6uroiIiIQEBCYmJhmZmYyMjLu7u52dnaqqqqIiIjc3NwAAACzeusSAAAAAXRSTlMAQObYZgAA\n",
       "AAlwSFlzAAAOxAAADsQBlSsOGwAABCNJREFUaN7tWtuinCAMpFUUEQH//2fLiqhAgkH2tD7Uh2aP\n",
       "YCYzkXCxjLnLspde9kln+wMI9u9S+TG/mUZGvzX3g6H3DSzq2NAQvqBQDRVWz7oyimD18raUKy7G\n",
       "ndpEfSawoLGpQ2hQ6AmViosYWR6Ft2p+4YCfZfihiBrPsf0mQptC1VRq3qz5cRSbldMLc7+GUjZJ\n",
       "2gOBBZkNjjBMiO8vUxmq3TZElkWxWfHGeX49xohARouJFzkisQ0IOp2Zxc9Q0dUrgOeRAVE4q99Y\n",
       "8pfxLFbnqx1Jp6NRFFiQ2cAIoMJtCuFA7bmnRwZE4awMqwXbL8bC4RSaGjYnBadzb0zvq9TSH3fH\n",
       "qE/0V2BxsLmLGUYAFaYoxB4AteeeHhkQhbPhNRiEK6LclwYV19NCU0MtvDhlrIuXMKtbiah1g5pm\n",
       "JPeaX7lNydC6iRlBABUmKFRYjeFA7bmHIku1RKNwdvRvgxIfP9LLu0QYhaateXpSEyOnLq1RwHqj\n",
       "ITYoLZDcM8PPSWBncdibmDEEUOF7hQoyFIDacw9FlmqJRuGsGHz5WLfHoO0i3BSm286Y8UHuC3iu\n",
       "cZNx3Rq79bj9+9cYXes6HAuYIbawe/f6FxHk5laIzfSJ7woZThwYCMYpylUf2R1dZ/fnBd86DwAu\n",
       "3HRWXP0k9wW8ncbgtyUDOu6H+Xw6zT3ifpRlBHB0FRWCZThwSkDt4/4ud0W6zvq6odaP22n15319\n",
       "/PaATW25vzplykidb0aln78u3mOc7npWktT8Ap0iQqGyPpShAPStml/WEo3CWW7885/WfmbaKsP2\n",
       "9UxIU94EkiYdW+VOP3Vz36wED2sXJjHHiSO5n6/LLW4ii8R8EQNGABXGFaLkHgdqz30W2UXL2yic\n",
       "3Zf8Hzfa1QjJrPIsjtkibwJJH/3zH8Ct0ylTii0yauxdlFymuzY24Pv7y8alEPN5IQigwqhClNwX\n",
       "gBKckn7UyE4t76Nwttsz15uls73pzsEzjgpuktxd4vPPdCUd+l+mGZnPPIDTY7NyNi7HaeU4IKcV\n",
       "0Wp2Z3FYgE4sdAEhVRhTCJGBDJRVcIn+oEeWH1VhUXxstiVQq/K3tGJYE/jCa0rVBzutFmu0xMVE\n",
       "YJFvcC4xw2dM493JKa5Q1bLH3qwrHpzpAtu5Q8ubKDabfctwE4a/lW/AjiaQNOl7ItSpE2gj9WtF\n",
       "9IkCixnePqUI2RcTXKGq3KdAX/iWA3zp6gQtCm+5TQuE/06iDFA7jk8ogbRd5tWfdCjKewx2Csvm\n",
       "vNFyqi6BRcrmGjM4DjjdN0mGFqDqK2PLTPm8IESxW4UEVU4lr+xf6hSmKEPghr5UnBXZ0NXDfZNk\n",
       "aAGq3ytzTEviEHn0mUZ+K/x5wMuUqdArsKhjQ0PAfcrvAlVfcWQlLaMozDv+i6Y0UrH/1z/Q8g9/\n",
       "QD7kHDaP/AAAAABJRU5ErkJggg==\n",
       "\" style=\"display:inline;vertical-align:middle;\" /></a><br>"
      ],
      "text/plain": [
       "<IPython.core.display.HTML object>"
      ]
     },
     "metadata": {},
     "output_type": "display_data"
    }
   ],
   "source": [
    "a_k = IndexedVar(a, k)\n",
    "distribution_map = Lambda((a_i_to_j, b),\n",
    "                          Add(ExprRange(k, Mult(a_k, b), i, j)))"
   ]
  },
  {
   "cell_type": "markdown",
   "metadata": {},
   "source": [
    "We can apply a map which splits $a_i, ..., a_j$ into multiple entries.  In so doing, the `Iter` of the result is split in the same manner.  For example, consider the following substitution into $a_i, ..., a_j$:"
   ]
  },
  {
   "cell_type": "code",
   "execution_count": 127,
   "metadata": {},
   "outputs": [
    {
     "data": {
      "text/html": [
       "<strong id=\"a_sub\">a_sub:</strong> <a class=\"ProveItLink\" href=\"__pv_it/basic_expressions/382b702ef71332787af026d0ce9384016c86f9780/expr.ipynb\"><img src=\"data:image/png;base64,iVBORw0KGgoAAAANSUhEUgAAARoAAAAVBAMAAABrvDzoAAAAMFBMVEX////MzMxUVFRERES6uroi\n",
       "IiIQEBCYmJhmZmYyMjLu7u52dnaqqqqIiIjc3NwAAACW8nlqAAAAAXRSTlMAQObYZgAAAAlwSFlz\n",
       "AAAOxAAADsQBlSsOGwAAAwFJREFUSMfNlU1o1EAYht+N+5Nmk5giBdFCFwWFlkJbPAmWpQe9CG3B\n",
       "ghSFRQRRrF3Rg4raINZSi7g3T0KsoMVSXFpEahX2Yv07GHqwBVkI9OLJdkEQK3SdyWQns1l3z5nD\n",
       "TN5vnrz55ptkAsBBOJpOO60QkmyiNum+ICxtFVByocmmyYKcDU02CRNxhKddwKcQZfMIU6SfW3my\n",
       "JHxZAVnblGL73rfVkbUspgWHCSipRg5BoGVQJ2/MPMkHMLVOecCfCsjaJmPFHq+KJNUMxnyZX0Zi\n",
       "s5FDAFAeL8yT4TpOkbfHSWxJWTz3vi4mlaV9Vj2v2xizDlZFWkn6+7lDpDAOqWt2vr2eAQOEg8/C\n",
       "GzIs4yyZg0xsIkWvHkzKqF8fA5OBiBW3McIdFIwgbpsYr7vVLiBGZunS22g2YDMqfzqVO9N6qX6l\n",
       "R4KBfitS8h2iW2gzfmHDqHvuUkD8K7ipHaU7RbwcxRKyoTJhNcgmuo0XuHa5mFrt9iKT0DK+Aynu\n",
       "N9xokI0LEAPT08dIuYD3OAI8TR9AktWGxjyJ5IArg3tCoENSBnnl6jmcwQq7Bz3YkWLZ0JKT6x4y\n",
       "vGIquEseQA0uMUItQCLDFfJV4eueezjOsnmZ4xItliuVP/C6ilJLM5loQZ/LoUQPCBrGHfRn2Xoo\n",
       "Kaeiv8kLOPyfmxlOAWqwxWK7Fr4PkmEKLcBMUZ0osGxiw1zqh5nESXhdjNZ1yILywP54E5DsSIZu\n",
       "tAtNv3vosNoM0ep1rG0D6xZT/s3uBcVdQLKjGUbk1fNpEj2BGN9b1+szr+gP/BQlp3jt44bWpW8a\n",
       "FWjRc2BAMgfd1B0B543hBIgbsmkIhD5Af1ViNnk+1d18X5D+OcevNsjiEl2mCyVzykXPIelm9qyA\n",
       "9ebdloD7J18F2ECs1RAI+gPvrTx+8a8NhR8C8XJ5U5D+mc6v+tDk6J2WC8VsKc8cXOA0OoDRclnE\n",
       "+VtsV4A+aK9FYp1+QiKqVd+p1a6sNj8KqbfuisCHtXRDXAAEopcfPCFomoN/Mjbyvq+vya4AAAAA\n",
       "SUVORK5CYII=\n",
       "\" style=\"display:inline;vertical-align:middle;\" /></a><br>"
      ],
      "text/plain": [
       "<IPython.core.display.HTML object>"
      ]
     },
     "metadata": {},
     "output_type": "display_data"
    }
   ],
   "source": [
    "from proveit import m, n\n",
    "x_1_to_m = var_range(x, one, m)\n",
    "y_1_to_n = var_range(y, one, n)\n",
    "a_sub = ExprTuple(x_1_to_m, y_1_to_n, z)"
   ]
  },
  {
   "cell_type": "markdown",
   "metadata": {},
   "source": [
    "But to allow this as a subtitution, we must prove (or assume) that the lengths of these `ExprTuple`s match (that the have the same number of elements).  We could prove this assuming $j-i+1 = m+n+1$, but for this demonstration we will simply assume what we directly require to be true."
   ]
  },
  {
   "cell_type": "code",
   "execution_count": 128,
   "metadata": {},
   "outputs": [
    {
     "data": {
      "text/html": [
       "<strong id=\"a_required_len\">a_required_len:</strong> <a class=\"ProveItLink\" href=\"__pv_it/basic_expressions/78e256f3bf7a89a4a51e3a2513beba6a44e09dfe0/expr.ipynb\"><img src=\"data:image/png;base64,iVBORw0KGgoAAAANSUhEUgAAAfIAAAAVBAMAAABPiXFtAAAAMFBMVEX///9UVFREREQiIiIQEBCY\n",
       "mJhmZmYyMjLu7u6qqqrMzMyIiIi6urp2dnbc3NwAAABm9RoHAAAAAXRSTlMAQObYZgAAAAlwSFlz\n",
       "AAAOxAAADsQBlSsOGwAABKRJREFUWMPNmE2IHEUUx9/szsxW98z0TiQRYS/jLUQJA5FghgRaQjAa\n",
       "wcbDih+4I3ETIYqTQ0DwkE4giWQJDkQ0COLgXoxB0otkxSzREeJBPOwklxiywUYxCEGdm7JEY1W9\n",
       "6q7qj6q5Th12q97+38ev63V190IIbDgwJkNTTo45zPUfDeJE7mv899fjQv4j/1nrp8zZKivdXP9q\n",
       "MCqDUKxhTGswLuQVT0/Oq1wWlo+VeTQWfYBL5vj2ZqEQ5KdgbMbbenJe5S40kI6ci0EePErJp3zz\n",
       "le0IhSCfHx/yWT25WmXZU/o3mn9LmUrtURlQIcjd8SEv+lpytcqiMrcChRz2jkyxV5JbnfEhn/J0\n",
       "5IkqP9SSHxmZ4ogkL9Ojg6w89MVN5c8LS6dvd03+aQdqWfbgmGaVFyAtWGw5HtTqOnJe5bLo7DeV\n",
       "eZL8minnwlKkQHJ2ncuwFOxXNO3KTLlpCpJ2oPVaLsxpVjkjLSDvXKc1lToReXkbH/WInFVZq7rx\n",
       "vsXzJPnzppztoicUSD5JN/cVmPM3AYn8SmHpn4JHbm/QHpXooI7z9FI9ACc6ysoUAOXKK4YPP1EM\n",
       "V7fnrMrzZRF9hzJPkr9vOtnD6a5QIHmRJurBQTq78GX03AMWtwz6fUcHdfjFAPbZK01lZQrABQnL\n",
       "GVq5PdSRsyqZDx/PRHPaGY/tFp3ByS+abjD4xBcKSQ5YxVl5etK4031nXR9nX9qw6tvrYDWVlTEA\n",
       "l6ubzkiqromcVy7I43lyz68aT7f9kUJ2O1T/g3dV8tWQ+CXfUDh3mH1xpX5pi7AchIorydnKGIAL\n",
       "5i/Eb2Lf0z1B99z7nFd5mMTdHs+T5GeN5LsiBZJPBEAeLbgwQCvzP97fCDVWQxNITqOCcCAv74En\n",
       "YAl94GGYqPPSSbxiAcDPaTshOHHVK4a4tLpQoAdMQ7fntEog92oofgTnOeTPiQLzMoJzL1IgOX2S\n",
       "WOsn3WqXk5O/WSd99hr8gK/C73WELZ6wH+jgLHRgnT5iuBlehVWPkzMlrliArLMU/P4VTGMK+PT6\n",
       "lRY+u/LJ2fPOHv6G4ms4T5L/HOLzLpVIZoTSUCgEuU039lDwwQuiE7bRK3ZyxZqnF8LZTLvscWrb\n",
       "ztqtLSZMIRwKge2y1mM+cOzWWyEn5y58xQLwP0pnHioWzLDbji8H1pMUeLKvI7fZfbDJQ/EizhPk\n",
       "G549TC07RYGpmrkXFFhH7VTeXltxCkZuyV65A38CnMu0jlQUe5WGM+xFlhviRj0XrXgAK9t8seBp\n",
       "OGCrKX7Vv7e3FN/JXs47HO/nZrLAZEZ2bKNCkM8myGsyzJbPXwfIfsJKxV9010uNNp4JHfKUIB+I\n",
       "FQaoZU+KWDCE1kdqink9+az0TXyYVL3Mp0x+xkJ3zo8Ugnwi+gfHH0dv0Vc8+WS7f38IJPuxLxXf\n",
       "wVTozPjcMhkUBuDc+DfgLnzFAyjy+LyJBNU6XPGUFE5DTy6qRPFWzeH9S6pANePF7o5YIchJQxWl\n",
       "SCvZ8EGuxXrpDcVFrnLkKYFMgXT55KJKFB/XkG81ZCwv92PFGlzmv++Oy6faN1hmL2XOVukEmvfT\n",
       "kf/1QcXl/wEJwaBVCFU0AwAAAABJRU5ErkJggg==\n",
       "\" style=\"display:inline;vertical-align:middle;\" /></a><br>"
      ],
      "text/plain": [
       "<IPython.core.display.HTML object>"
      ]
     },
     "metadata": {},
     "output_type": "display_data"
    }
   ],
   "source": [
    "from proveit.core_expr_types import Len\n",
    "a_len = Len(ExprRange(k, k, i, j))\n",
    "a_required_len = Equals(Len(a_sub), a_len)"
   ]
  },
  {
   "cell_type": "markdown",
   "metadata": {},
   "source": [
    "Using `a_required_len` as an assumption, we can `apply`  `distribution_map` to the operands $(x_1, ..., x_m, y_1, ..., y_n, z)$ to obtain the following"
   ]
  },
  {
   "cell_type": "code",
   "execution_count": 129,
   "metadata": {},
   "outputs": [
    {
     "data": {
      "text/html": [
       "<a class=\"ProveItLink\" href=\"__pv_it/basic_expressions/a399a82957284b0c0c145a4d32d32a69fcd846f00/expr.ipynb\"><img src=\"data:image/png;base64,iVBORw0KGgoAAAANSUhEUgAAAp0AAAAVBAMAAAD2h0iRAAAAMFBMVEX////MzMxUVFRERES6uroi\n",
       "IiIQEBCYmJhmZmYyMjLu7u52dnaqqqqIiIjc3NwAAACW8nlqAAAAAXRSTlMAQObYZgAAAAlwSFlz\n",
       "AAAOxAAADsQBlSsOGwAABTxJREFUWMOlmV1oHFUUx89+b2ZnN+tDQfygC4KF1sBaRITSsvhQXyzZ\n",
       "iitBK6ySWhCLW+pDFLWLGFcp0kUEpU9jC22jhC6FgvED1gejIZUOebCRdstAKEIhNAFBTCX13Nm9\n",
       "s3Pnnrtz4x7IJLn3v7/znzP33rkzCwAO0JHTahrYvlWto9W0RXPOFsw5Qxlzm7JtBSNuS0039KXK\n",
       "uDGg74DUonK3BXMH9L0pa6FnzFUtUp8/exgP14KtZktbqgySgWE8WUaTtWDz4lDmFFBlLP5vY57K\n",
       "aJLkL/FnxAo0zuhLlTGj6hip4+F08GSaw5kjocqgs+kZ46o0ffX+xZ9UvTe3uKQRKoVnVCvCYAbG\n",
       "KJtAUwEM7U7fHAmVYnA2gcHTSVKuStKnv8GOr/dmEl+rqqFS+E01zQcyWIyzAZe0RExySHMkVIqB\n",
       "2UQGT5dUqRZIRqbMjl+IDLMZKg2tJ81gcdmdNTURszCkORKqrOdCuDGebkGlOom/Zpe++l68XY2M\n",
       "LWHDJZGRxhXf6Ox88Ae1NLSeNIPFZ53HsFQFEYPujOUanNEzN9sAoxAOVdaTzCYyeDpWtkgl/6ek\n",
       "Ype5nh1LlwXGxdPGJsDbIoNdozQs2dNqaWg9aQZb4P+xLjqQaooYdJcxq3BCz1xrHlJr4VBlPcls\n",
       "IoOnY2Wbub6nIKkO4dLupDai4vp61YKjAPMiI4Gj4n04Ye1QS0PrSTOYYAOSNphVEYPuHsJL/YiW\n",
       "uUh7GqLFcKiynmQ2kcHToRRuQ8aSVJM4biHNqn++2S00O34CcBdgO5tHlcoLhysVdiGSJYA864Jv\n",
       "Lu10B0pTkMJ0pfJapfKc5Jdk+MYbw6CF0RZE1kQMurPQ51EtcwbqkrbfGw0Vg8rmDTqR4Us36fZ/\n",
       "J6vcDoRApNOd8hPs8BLEcVOyP3BPK7Ejy1YHd74m6kFp6PjsM/rhYhItGG9DPDCUJt07Z2Rdzxze\n",
       "+Lfn/d5oqHJ88mxex4TE4Oncsq0SqkPuzd4xLDDL/h1eGjclP8tzFeKb8DX8BXfypFRrvncZ8v7t\n",
       "VN+DbwbicMxW9czhIPld8EZDB833bja1Mf98x72oJan24vNb6VHIgGB5Hc7hgnpcZMRsMJ6IVqEF\n",
       "7/g8C9LQevYZU8c6hWuP923njSO4lBdFDLqD3RAraJljut2CNxqqrCfPlmo8vKwwxtMx6RWAgqTC\n",
       "bcfVBz6CZ8V67oCnepsCHwN3A+b6hWq8zbdbspRbc9cUtoR1VzyCYbx1BF6FJQ8TrcXq3V2P/wzZ\n",
       "pugDGK9pmYN0If634I2ESt6kbOf315IOzeDpUBrZs/dyXlJtA7jQMRttsZ5nvmX3++dFRqQMxqf2\n",
       "r++yP1+kpZ61Cb6ETSgYudkmDrST/W3JLvbAmCiJmG0swY+nHC1zyFjeFLzR0KA3KdvtP2DUohk8\n",
       "HUozMP+5nCnhldgsB18oBtYMOOh1rVi0NPx502NE7Uhv9fbFrQCm625O21ymKXuToMr57mUb8+6v\n",
       "QYa3XOcp0C3fmwzZMn/m9145THknU885pDT8fYjHSOazxdxawFYjgEF3mabxhqa5OTjXlr1JUOX7\n",
       "EC/bK/BxhGbwdP2yBVX7lPVcCcpj3OjKffdbg6XK8Bh3cISmiqKtXDEo3wcJO9rSNPcy7CK8yVBl\n",
       "9LLl1uDgT6HGiG8ImOos/2furh3yEYNT37x3L5yueMfIGU/DiJMbs+hi998dg/neh7rmflkuEd5i\n",
       "+l949LLFC3C9FmpMMVZyqu8qsrKPVX2pMlYH9N2UL7k9tLmb+t6UtdAzhqr/AJm5Qhp5nscLAAAA\n",
       "AElFTkSuQmCC\n",
       "\" style=\"display:inline;vertical-align:middle;\" /></a>"
      ],
      "text/plain": [
       "(x_{1} * b) +  (x_{2} * b) +  ... +  (x_{m} * b)+ (y_{1} * b) +  (y_{2} * b) +  ... +  (y_{n} * b) + (z * b)"
      ]
     },
     "metadata": {},
     "output_type": "display_data"
    }
   ],
   "source": [
    "from proveit.numbers import Integer\n",
    "requirements = []\n",
    "distribution_map.apply(*a_sub.entries, b, \n",
    "                       assumptions=[InSet(i, Integer), InSet(j, Integer), \n",
    "                                    InSet(m, Integer), InSet(n, Integer),\n",
    "                                    a_required_len],\n",
    "                       requirements=requirements)"
   ]
  },
  {
   "cell_type": "markdown",
   "metadata": {},
   "source": [
    "The `requirements` is appended with facts that were needed to make this happen.  Here, there is just one requirement which is the statement we assumed.  It is a **Judgment** proven by *assumption*; these concepts will be discussed in future chapters."
   ]
  },
  {
   "cell_type": "code",
   "execution_count": 130,
   "metadata": {},
   "outputs": [
    {
     "data": {
      "text/html": [
       "<a class=\"ProveItLink\" href=\"__pv_it/basic_expressions/940d411091b8f6b68ab59b68380f2025b7d24b4f0/expr.ipynb\"><img src=\"data:image/png;base64,iVBORw0KGgoAAAANSUhEUgAAAgIAAAAVBAMAAADGJ5v1AAAAMFBMVEX////MzMxUVFRERES6uroi\n",
       "IiIQEBCYmJhmZmYyMjLu7u52dnaqqqqIiIjc3NwAAACW8nlqAAAAAXRSTlMAQObYZgAAAAlwSFlz\n",
       "AAAOxAAADsQBlSsOGwAABO5JREFUWMPNWE9oHFUY/3az2d3Mzk5WJBdt6VLBihDYiqdCw+KhXpRk\n",
       "IRWxOaxSEYPFET1EULOINdYgLr0EBOnYHFqV4JLOpdbieqjY9uAYkEZqdEBEUdQN9KKC9b3vfW/m\n",
       "zZ83e90XCL/v7e/78377zXtvFgB89seHBSMyNOWkTPup/sMXYkl3BNU+uGh/PyoKPIr/K83YdLJK\n",
       "VnraKHjDMhDDFeA6xTZ7o6JA1dYrgFVu08x1Bcsx5QDcyI6fO0QMF6lGl2J/CCMz3tMrgFUeExO8\n",
       "dIlpGPedYQpMONkKd4nhIrVsU+yV0VFgSa+AWmXZVvpa4h/Z2kqdYRkEw0VQlLHbo6NA0dEqoFZZ\n",
       "VLDpKQrA4tAUizLiIlwlZHZHR4EJW6dApMqrWgXWhqZYkxHXYJVQmW0xxs79d3+m0Da2PrjUz4oT\n",
       "d2Az2zac1VhpAeKEqZZlQ6WuUwCr3KaOX1VwVIHNrJwbW5LhIlgjxHUvw5Z3UuF2qtPluaxgcQdW\n",
       "t9mGZY2VMuIE4/0LrLZSVypQPoqjDkqVlUI7+B4DHFXg5aycnaJNDBepC4TG2Zf9Giw7B8CQ/iW/\n",
       "9E/eNi7t126twkEde5hk98C5rmJlBRB05ariwKdsOW1dD/Aq95Qp+oKCowp8mXUS+JN9YrhIPU6o\n",
       "yBLW4BRDe7+V5ybw+GXQ94FwUIdT9OBEbmdOsbICICEy8zFbQW6gU4BXyX1wHJeYdcpjT1OnoAL7\n",
       "sh48+NohhotUVQEQ1VwJd1sWf7Jp7erjnYhPzDq5XTDnFCszANLVJuArKrSzFMAVkAIBjvbAkcxd\n",
       "8KRkuAjUpwAK/8FHqgKzvuGUnIwFoMPSCzv1Gwdp5hRU26EC3MoMgISVvcHN7mH2HQn31H0Aqzxt\n",
       "BE9BgKMKXMlU4JhkuAgOExrzwHgw34ae+JTHWW/eCxVeyxwYKQ0M5GC89Aw8BVvCBx6AsTouwQgs\n",
       "HgCclHYkwrkjdtEXptmHPNuAGroeYFWCcasiyIcFTlHgRSowLSNYtyTDRbBJiJ1A5u75dqGPChh/\n",
       "8w676014RFy1P+nSXAD4P+FgbXRhlx1NOA2vw6yNCnCmsHiApHNI+O07mBQp4M4LN1vizEtXgJ+T\n",
       "ucEvgrwpcFSBz31xTsYShRmhNCAGRlyFKUI59kW/4331CnXIUabg+R1zhQliHWLd9wSbe5y3YYcA\n",
       "Z5BD3su1eUtyHzh7+V0fFUAXtHgA/DB0xlABYZo/lmj2zGfZwsebOgVy/Pk4YAvylMARBfY/f5rN\n",
       "zFOBsZrRC/K8w+ZlxHkYr9F9sxWk4gqYYQ/9Cn8CXEu0VMgo1qoNa1CTMxfpQb4mLQxgJpsyIDwJ\n",
       "b+XUFD/r3wtaii8vPXEnxD6fixYYzci3d8FwEfB3BDd4HQkUqIThDt7xNkDy1Tlk/MW6oNToiD2j\n",
       "azxHCvTIEgEqyZ0kIAyg9YWaYkWvwFLoG3kBKtiJV6b0jPn+siMZrgAzFHtM/uDy+5nL7OoYnoi3\n",
       "bw/ASP7oEDIeggnfmnZwZtzL98C6+K+HLmhhAIUe7EuSUKjDTVtJYTX0ClCVgjyj2ex/ihWoZtzX\n",
       "XwgYrgDrFNtoqOTYiqvJNF7qjPnqG4pLaKXQY4QwhVhlugJUpSCvaxSYychY3m4GDFcAdgf5Bu0/\n",
       "RuXV8AdRbi02nazS8jT33qG/QvkUkYH/AVQHwPNOkSfeAAAAAElFTkSuQmCC\n",
       "\" style=\"display:inline;vertical-align:middle;\" /></a>"
      ],
      "text/plain": [
       "(|(x_{1}, x_{2}, ..., x_{m},y_{1}, y_{2}, ..., y_{n}, z)| = |(i, (i + 1), ..., j)|)"
      ]
     },
     "metadata": {},
     "output_type": "display_data"
    }
   ],
   "source": [
    "ExprTuple(*requirements)"
   ]
  },
  {
   "cell_type": "markdown",
   "metadata": {},
   "source": [
    "Recall that the `apply` method is used in the implementation of <a href=\"#Operation_sub\">*operation substitution*</a>.  Iterated parameters can be used in that setting as well.  Furthermore, this code is used in *instantiation* of iterated parameters that are universally quantified which will be discussed in a later chapter."
   ]
  },
  {
   "cell_type": "markdown",
   "metadata": {},
   "source": [
    "We will remark here that there are limitations in this capability for the sake of simplicity.  We deal with multiple `IndexedVar`s in an iteration, but their subsitutions must be aligned.  For example,"
   ]
  },
  {
   "cell_type": "code",
   "execution_count": 131,
   "metadata": {},
   "outputs": [
    {
     "data": {
      "text/html": [
       "<strong id=\"dot_prod_map\">dot_prod_map:</strong> <a class=\"ProveItLink\" href=\"__pv_it/basic_expressions/5edc7723cc6770c90421c1a6cead55e1380869060/expr.ipynb\"><img src=\"data:image/png;base64,iVBORw0KGgoAAAANSUhEUgAAApwAAAAXCAMAAACRfW+lAAAANlBMVEX///8WFhYNDQ3MzMxUVFRE\n",
       "RES6uroiIiIQEBCYmJhmZmYyMjLu7u52dnaqqqqIiIjc3NwAAACzeusSAAAAAXRSTlMAQObYZgAA\n",
       "AAlwSFlzAAAOxAAADsQBlSsOGwAABSZJREFUaN7tm9GWnCAMhmkVRUDR93/ZMiookGAQbef0LBc7\n",
       "7AaTjz+okXEZs21mP+1o853B82uB5u+Z7Pt+56Rjpp8VeWqdoY910t2SkBTo5eSUTJaV63Ibx3Wm\n",
       "8duWh+aiLzM8GssM1IOddDQJk1CEQBXJoYlFn2xBo1KniB5n62j1hVcvJUsNT8ZSmqitCj+LQ10G\n",
       "qksOSSzqZEtOC3Uf0eOsHTl84eJcplLDk7EG4hngpCNLGIeKA3UDEuFhFbOT7Upj1lAniB5n7Yhv\n",
       "LPsWXWh4NpaAo5iozBfRZ3moKNAUV4DiFRXzk51Ky9AKagDR49jO9I139bEvNTwbS/lTP9BuCi8y\n",
       "TjqyhGkoNWTTXJccolgRQ/3iLKAGED2O7UhXu87taGaYK2Oq2GzIOFWtMe1UYqgozACXY+t6oXjh\n",
       "b046ioRIqCMQmGay5zIVsck+tDgLqAFEj2M7bqF2wt6zOHgjyJgq7jkZp3qx1bBeZrqhoniHXA4K\n",
       "Xo4Th85xgoRYqEFl00z1zIpUjKs89fDipFNDiB7Hdvpt3Wrx8Si3XOhgdMZUsSbOThlrwtmuExIm\n",
       "iYcaKnY9DpcHxiTgxckMP0m9S0eQEKWfRDbNVM9XM8seEzHUL06IOk4xLr7HsR3RbZfiZXW7XZDH\n",
       "IFrGtDIMdwqjwKntBOhy9biMKQpmqAA5XB4YzeLMv3/1QVuW7ijdu+AT0cleHXB6H0iu3oVYP9oo\n",
       "QkkGsuHAY47JwhA58cjUpxQfhKD4Hsd2dk+Cr4d10NMcaHLPBo0xdx5SMvH2CXXARghkqAQBY3XY\n",
       "lbNTJ+JocWJT6iUeqstfObOekYnnwoHHdE9fOa+WlCcEET2O7WzXYL18AgwLWBeApqP6mm6siUw8\n",
       "t/klgWIFMtSBwLEOT6HLJtixDm/r+SkhoSJk+AZ5MwNUseKjH7qtX+sBI3oc2+Fm8/QZ1io2zawz\n",
       "7XkXBTKB0ySV64BTpo2cAg9Ls1csEUpqqAY5XB4YVlIOL04V1G7cnD8Rnc6pSOkHnk1z1vPl4iSJ\n",
       "lTDUL86U+qwtiHga4HFsZ39y/zic7PVW2mFsXcq+NEhN4DT9+LQD/Olw+rnXbDtj3thaXC5ZihIb\n",
       "SkEAIufywDhvhrAus8/pNj1QCaMG0Msxm+as56vFSRIrZYggckmkUgfaQojnAR7Hdpo9o60Zm7k1\n",
       "DZv1zt33GjOB03TjT1WPTAuhxCnTmo0yMo7rN2AASmQoBTkRRS5PGNYI18Jj+MS5S5eRMLpYp/RR\n",
       "oDjNWc9Xi5MmVjrZCAJKoiyjDrSFEM8DPM6n0yfP+O52NaVn/2qS3Dbx+TGERQLlfgoOcjtjiRFF\n",
       "eQXEYczE4tVJh0uINGeer8o9xDM28Vw47JhksvVfX/YNnmJ8P34IcdZO8sW/XvTmfASeY3SDn4Ok\n",
       "96TAQW4bdqSivAPiMKgvLjjpcAmxx8HdHAdKXqHIeSY/CeaPSSZb/+IH9OLM5ZcB+wCPs3V4dJi9\n",
       "+a/OdXoGORP8HEI548BBjUCMKMorIA5j5tS0OOkwCbFLzW4mBMp4Ji/O7DH0yRY0PmPaom0f4HH2\n",
       "juZxIbC9fWOgGsG/mOOdjGrZ9nhJdwNwkHuaNFg881dAHAYnf/nkpMMkxA7bzYRAGc/pxC/Cgcfw\n",
       "N/5RQ3NMWzwfbai969x6p+PJE07VvLXIn8YwBely0t2SkBQI98yfEMu8809ECTWx5PQ4dVyPvZGu\n",
       "ukZ8AUgtxt9v8l9m7Vltv1Z8aaT+wfiv26W2yIA/5FdRugoAarMAAAAASUVORK5CYII=\n",
       "\" style=\"display:inline;vertical-align:middle;\" /></a><br>"
      ],
      "text/plain": [
       "<IPython.core.display.HTML object>"
      ]
     },
     "metadata": {},
     "output_type": "display_data"
    }
   ],
   "source": [
    "b_k = IndexedVar(b, k)\n",
    "b_i_to_j = var_range(b, i, j)\n",
    "dot_prod_map = Lambda((a_i_to_j, b_i_to_j),\n",
    "                          Add(ExprRange(k, Mult(a_k, b_k), i, j)))"
   ]
  },
  {
   "cell_type": "code",
   "execution_count": 132,
   "metadata": {},
   "outputs": [
    {
     "data": {
      "text/html": [
       "<a class=\"ProveItLink\" href=\"__pv_it/basic_expressions/78e256f3bf7a89a4a51e3a2513beba6a44e09dfe0/expr.ipynb\"><img src=\"data:image/png;base64,iVBORw0KGgoAAAANSUhEUgAAAfIAAAAVBAMAAABPiXFtAAAAMFBMVEX///9UVFREREQiIiIQEBCY\n",
       "mJhmZmYyMjLu7u6qqqrMzMyIiIi6urp2dnbc3NwAAABm9RoHAAAAAXRSTlMAQObYZgAAAAlwSFlz\n",
       "AAAOxAAADsQBlSsOGwAABKRJREFUWMPNmE2IHEUUx9/szsxW98z0TiQRYS/jLUQJA5FghgRaQjAa\n",
       "wcbDih+4I3ETIYqTQ0DwkE4giWQJDkQ0COLgXoxB0otkxSzREeJBPOwklxiywUYxCEGdm7JEY1W9\n",
       "6q7qj6q5Th12q97+38ev63V190IIbDgwJkNTTo45zPUfDeJE7mv899fjQv4j/1nrp8zZKivdXP9q\n",
       "MCqDUKxhTGswLuQVT0/Oq1wWlo+VeTQWfYBL5vj2ZqEQ5KdgbMbbenJe5S40kI6ci0EePErJp3zz\n",
       "le0IhSCfHx/yWT25WmXZU/o3mn9LmUrtURlQIcjd8SEv+lpytcqiMrcChRz2jkyxV5JbnfEhn/J0\n",
       "5IkqP9SSHxmZ4ogkL9Ojg6w89MVN5c8LS6dvd03+aQdqWfbgmGaVFyAtWGw5HtTqOnJe5bLo7DeV\n",
       "eZL8minnwlKkQHJ2ncuwFOxXNO3KTLlpCpJ2oPVaLsxpVjkjLSDvXKc1lToReXkbH/WInFVZq7rx\n",
       "vsXzJPnzppztoicUSD5JN/cVmPM3AYn8SmHpn4JHbm/QHpXooI7z9FI9ACc6ysoUAOXKK4YPP1EM\n",
       "V7fnrMrzZRF9hzJPkr9vOtnD6a5QIHmRJurBQTq78GX03AMWtwz6fUcHdfjFAPbZK01lZQrABQnL\n",
       "GVq5PdSRsyqZDx/PRHPaGY/tFp3ByS+abjD4xBcKSQ5YxVl5etK4031nXR9nX9qw6tvrYDWVlTEA\n",
       "l6ubzkiqromcVy7I43lyz68aT7f9kUJ2O1T/g3dV8tWQ+CXfUDh3mH1xpX5pi7AchIorydnKGIAL\n",
       "5i/Eb2Lf0z1B99z7nFd5mMTdHs+T5GeN5LsiBZJPBEAeLbgwQCvzP97fCDVWQxNITqOCcCAv74En\n",
       "YAl94GGYqPPSSbxiAcDPaTshOHHVK4a4tLpQoAdMQ7fntEog92oofgTnOeTPiQLzMoJzL1IgOX2S\n",
       "WOsn3WqXk5O/WSd99hr8gK/C73WELZ6wH+jgLHRgnT5iuBlehVWPkzMlrliArLMU/P4VTGMK+PT6\n",
       "lRY+u/LJ2fPOHv6G4ms4T5L/HOLzLpVIZoTSUCgEuU039lDwwQuiE7bRK3ZyxZqnF8LZTLvscWrb\n",
       "ztqtLSZMIRwKge2y1mM+cOzWWyEn5y58xQLwP0pnHioWzLDbji8H1pMUeLKvI7fZfbDJQ/EizhPk\n",
       "G549TC07RYGpmrkXFFhH7VTeXltxCkZuyV65A38CnMu0jlQUe5WGM+xFlhviRj0XrXgAK9t8seBp\n",
       "OGCrKX7Vv7e3FN/JXs47HO/nZrLAZEZ2bKNCkM8myGsyzJbPXwfIfsJKxV9010uNNp4JHfKUIB+I\n",
       "FQaoZU+KWDCE1kdqink9+az0TXyYVL3Mp0x+xkJ3zo8Ugnwi+gfHH0dv0Vc8+WS7f38IJPuxLxXf\n",
       "wVTozPjcMhkUBuDc+DfgLnzFAyjy+LyJBNU6XPGUFE5DTy6qRPFWzeH9S6pANePF7o5YIchJQxWl\n",
       "SCvZ8EGuxXrpDcVFrnLkKYFMgXT55KJKFB/XkG81ZCwv92PFGlzmv++Oy6faN1hmL2XOVukEmvfT\n",
       "kf/1QcXl/wEJwaBVCFU0AwAAAABJRU5ErkJggg==\n",
       "\" style=\"display:inline;vertical-align:middle;\" /></a>"
      ],
      "text/plain": [
       "|(x_{1}, x_{2}, ..., x_{m},y_{1}, y_{2}, ..., y_{n}, z)| = |(i, (i + 1), ..., j)|"
      ]
     },
     "metadata": {},
     "output_type": "display_data"
    }
   ],
   "source": [
    "a_required_len"
   ]
  },
  {
   "cell_type": "code",
   "execution_count": 133,
   "metadata": {},
   "outputs": [
    {
     "data": {
      "text/html": [
       "<a class=\"ProveItLink\" href=\"__pv_it/basic_expressions/f774a2f961dc4199048f3f624c2fe34a84bca3e90/expr.ipynb\"><img src=\"data:image/png;base64,iVBORw0KGgoAAAANSUhEUgAAAsgAAAAVBAMAAACpugWdAAAAMFBMVEX////MzMxUVFRERES6uroi\n",
       "IiIQEBCYmJhmZmYyMjLu7u52dnaqqqqIiIjc3NwAAACW8nlqAAAAAXRSTlMAQObYZgAAAAlwSFlz\n",
       "AAAOxAAADsQBlSsOGwAABXxJREFUWMOtmV9oHFUUxs9u9s84uzvdIhGRhiwKPlgCsY+WlsWH9EVp\n",
       "Il0pUiGFqlisrqwPjSAuYlw1D+6DEBDUsQVrKcFlS5G0FNaHroRaXFrU2BhZDKJUalIQpBGMM/fO\n",
       "3DnnzszODcx5COTc73z3N2fu3JncAEAfBkU/MkHCALXoK2iMbZlvCzQeTCVAlit0Bho9Kf0eIU/1\n",
       "lOAjXEK8fo4NNB5MJUAmuhoxT5X+HiGHH5XoryqpJK98Kz7QeDCVAC2R3oww+oj8Fim/x1SAj3QJ\n",
       "9DobI2g8mEqAlkirRhiddFY910XKs3Usl+MAqLkQL7eqESOoZC0/4tu72MGAligTdaUZfrfyfP+J\n",
       "lMNxLJfjGii6YC+3ajpOUGotxTYvNgLwOCxFPrNVPG+kHOYVmryk2OR5XJVvxgk6r9DkpXgA52HO\n",
       "+rlw/bNL9D2KMrkSnjdSDm2FJge7+JNtXKVZr5WFBuglsm0uV+FUCCgac+298rZCkwM9CIMPEBKV\n",
       "4u9COjxlVG2RfS/qhTFtkhihTLaJ542Uw4xCk4Nd/MkZXGWv1FYXshu4IJefhjdDQNGYE6h8RqHJ\n",
       "gR6EwQcIZ1f2ilWgf3y+zURHLLp+djNJ9nicyU/jeSPl0FVocqAL+JNdXJXuQKIzC8lxXLHLuicP\n",
       "hYCiMR64vKvQ5CAPyiADAtyCnPjkMEy4yETHrDLQ7EVwhq0E/S7QTMK6a1ql8vRzlYp1i4Rcv/Sg\n",
       "SeVOZhTLScxWKs9XKk8BckHPPZpXxCiuypRBhxOQ6el8/XxpS81Mz8oFg7IxzMnLz7Ufka1J+D3E\n",
       "kD0lNwkBtCe5KOAAzvGOHGOvUasoscqf08NAMymyQIRcA/5ce3InM6GwkoULCs/IiwlcZV9DahNG\n",
       "iyPf84XDvp8Omok7YaD2GOFk5XWYla1DVrLrIfJsSmYSBghwG8EZPS46wkj7ugl5vEN6GSftPUF8\n",
       "cEfZuEPlTuaK2nbhTCEHTV6Rn0Zrof8g0izeg8J0GKg9RjhZ+d+wXpSsw7cL7k9XOmMIAbQ/sU30\n",
       "Z4HORPsATpcfhhzgJuNMdhzPK+RZ04MnmZpCkz2Xxsj1Qq0oGYlkDVcNWZZDJdhDm7zHzgWDsjHM\n",
       "yctfZ02uKTRZeDRGloGanHx1tR4ECN8CiG0y34EkE1mvv+8eeAeeIE3GGa2F5/XkkJuU5Dwzh+Vs\n",
       "E7vr7VHXgLqcmahmSoUSNfKSc/ga7E80rZT6hzb5LThYDQHlY4jTKYcLsrXAZD98HjZQn5jor70A\n",
       "LwcBJvbuuyDWzL3nV6aYaBjgi9V8o0OajDPpMp7Xk8OwKcl55hCWs63psNij3CYLl1s/wY6i1qJG\n",
       "XvIQvoaERaPvXv6PNvnU5Q/6IaB8DHE65YlnZGuB6bwZJA8biJoYC03YDALMQfdD72Mv/2KZidKi\n",
       "73nfVyvL/EaeIE9uPOY7ObUzxqTCduG5jMF9fC/D4SYdL7dqii2XJm0ywOIA0EWZ0y5fM33WwduF\n",
       "8Bhz33DCJNmz37NBgP4D5UlxxhHa5AY5M/Hkf8BfkpxlnEOVwQdEnstRuAHrCUnlJt0DmgPiBGgR\n",
       "Pu+QJuea+kthoHwMc7Jyo270ZevgAyLhcRTeTVCTTFGrFwMAA8IW7R/cZGOc5ly58ejO96U7xjJr\n",
       "SocSwmXDWiU1TTJyk5LXUB+ehd1AmpzuJVthoGyMcLLytZ33m8qY3GMDpr6mJuuQ3lUMAAwIW3Ta\n",
       "vbTFf6VHnGXkQlee2drakE7BWGa/Er3rkirBJ/DrTWkduUnJSx+Hb5atTe7PTy976+CNt0NB2Rjh\n",
       "ZOWvbG2pYzIPC2ilSk0eh8JXQYAhC8oY/J+YX+QdZrC80FeiN1T+/ePzuh0baDyYSoCW6H8On278\n",
       "/LR2MwAAAABJRU5ErkJggg==\n",
       "\" style=\"display:inline;vertical-align:middle;\" /></a>"
      ],
      "text/plain": [
       "(x_{1} * x_{1}) +  (x_{2} * x_{2}) +  ... +  (x_{m} * x_{m})+ (y_{1} * y_{1}) +  (y_{2} * y_{2}) +  ... +  (y_{n} * y_{n}) + (z * z)"
      ]
     },
     "metadata": {},
     "output_type": "display_data"
    }
   ],
   "source": [
    "requirements = []\n",
    "dot_prod_map.apply(*a_sub.entries, *a_sub.entries, \n",
    "                   assumptions=[InSet(i, Integer), InSet(j, Integer), \n",
    "                                InSet(m, Integer), InSet(n, Integer),\n",
    "                                a_required_len], \n",
    "                   requirements=requirements)"
   ]
  },
  {
   "cell_type": "markdown",
   "metadata": {},
   "source": [
    "As long as the iteration ranges are aligned, we are okay"
   ]
  },
  {
   "cell_type": "code",
   "execution_count": 134,
   "metadata": {},
   "outputs": [
    {
     "data": {
      "text/html": [
       "<strong id=\"b_sub\">b_sub:</strong> <a class=\"ProveItLink\" href=\"__pv_it/basic_expressions/06dd241f0c5b85f5f7ddc0406b6a8a2199a1c8c20/expr.ipynb\"><img src=\"data:image/png;base64,iVBORw0KGgoAAAANSUhEUgAAARoAAAAVBAMAAABrvDzoAAAAMFBMVEX////MzMxUVFRERES6uroi\n",
       "IiIQEBCYmJhmZmYyMjLu7u52dnaqqqqIiIjc3NwAAACW8nlqAAAAAXRSTlMAQObYZgAAAAlwSFlz\n",
       "AAAOxAAADsQBlSsOGwAAAs5JREFUSMfNVU1oE0EYfYn5WSe72xWpB20xKCgIPSieBEvwUC9CW1AQ\n",
       "8RBBEEUlEg8W1AZRixYxN0/qWg8tSjG0B6m1kIui9eASEf8IBL1IBdserWCd+fYns9lmz/sdZvfN\n",
       "vvd487sAGohG6aLRqhFJk7B48w5RqU8AK0cmzXoTSiEyadIlpBCdOoO3EUpzD6N863wuYMzr8qM1\n",
       "Kkhg9V1bXkp4svZoNvSktgrQOajzHTPF8yCj5jHsffCjNSpIUFCzbki4pPUoA2EWrQJ2f3qKP4Zw\n",
       "HOji0u0Ydw4XITa7zWxnZdPluophcyfYkLsbG+mVeCHMwhZIF5+JF/zxGicBM2XhXKzujIaQgvaD\n",
       "I4Kvx8At3nZ/dGAMSlmMv72FLZDrqUi+VaRBvxlbhupqBerI6ctt55no/qJ0rzzI8yLUomU40MU9\n",
       "jD6xUjyolm+mEShthlgRYaS7phUN91L/hydymv4GM0MtSHDpQr3k4INgNJz9vN2DdVlKI7pshAyH\n",
       "wXX3CON9hVRWyxKH7Y3nUbHTCMnj3A5kQBZsjYV2BeziKZy3FWoVcf4oQuzla+gvUJpnZReh0wT7\n",
       "A7uLXjxEhIUv6DCUCvWqyxP5RJXSEOn95ps4BLLw1D4bW6BPlrFid26c/jbIH6Po5O3Y3N0GpUke\n",
       "c5G+j78d4bmTYjKPwmmahB5sQrJKHHbHenPZ2TdCMlFXR/gXYUF8Eno2TUHcSuRtRUU9neOfDiNJ\n",
       "az8De9/Mw0E/8Zt3BZfKI5zAByzGfByRRoJkMR9waDJShlIyJKwPiF9VpszOOmn46hPSd2+4DVr8\n",
       "lvIIS3x2ioqPI9I0oW1RCV6e3tsikl2GhMUPvBdJK16BPvPXAuMHjVBqdXWJ3/DBXewSElk8wPev\n",
       "MufXwzkZkgWzAhZNxgFoz2X8Q5wAqFeuO1gTM+khBK1aCEGOFeQjlCHhXu/iiUBpDfwHYiDu/i+i\n",
       "DUIAAAAASUVORK5CYII=\n",
       "\" style=\"display:inline;vertical-align:middle;\" /></a><br>"
      ],
      "text/plain": [
       "<IPython.core.display.HTML object>"
      ]
     },
     "metadata": {},
     "output_type": "display_data"
    }
   ],
   "source": [
    "x_1_to_n = var_range(x, one, n)\n",
    "y_1_to_m = var_range(y, one, m)\n",
    "b_sub = ExprTuple(y_1_to_m, x_1_to_n, z)"
   ]
  },
  {
   "cell_type": "code",
   "execution_count": 135,
   "metadata": {},
   "outputs": [
    {
     "data": {
      "text/html": [
       "<strong id=\"b_required_len\">b_required_len:</strong> <a class=\"ProveItLink\" href=\"__pv_it/basic_expressions/b7f8133fe568702883136c792382f3829f99d65a0/expr.ipynb\"><img src=\"data:image/png;base64,iVBORw0KGgoAAAANSUhEUgAAAfIAAAAVBAMAAABPiXFtAAAAMFBMVEX///9UVFREREQiIiIQEBCY\n",
       "mJhmZmYyMjLu7u6qqqrMzMyIiIi6urp2dnbc3NwAAABm9RoHAAAAAXRSTlMAQObYZgAAAAlwSFlz\n",
       "AAAOxAAADsQBlSsOGwAABNRJREFUWMPNWF1oHFUUPpv9yZ3Z3clWrBRCYftWqoRARdq1hRERqxE6\n",
       "+BB/MStxraDF7UNB8KHTolUMxYWtPwjSxYBoi2SCNmJDdYX6ID5k0z5UaYtDRBFEuy9iCaHx/s+9\n",
       "u3NnX/dAJ/dcvnPO9809987dQgjEHBgSM9CJmQ5j4wcLcUT4dfr3m2FR/hN9Fts90/0s843Y+EIw\n",
       "qAJHXGc5rc6wKM97ZuWU5RKf+VgZC5v3Ac4n57d3cgRX/hYMjb1mVk5Z7mcTqB6NuaG7jmHlo37y\n",
       "m61zBFdeGx7l02blKsucp/SvGH+HNWWrgyowBFfuDo/yjG9UrrLMKGMrUJTDgYElDkTKrfrwKB/1\n",
       "TMo1lh8YlR8dWOJopDyHj465GqBStGeWPDieFK3Dacjyti9+MbpxKRbfuaEd0PMVx4NiyaScsCS8\n",
       "qB1Wxrry1eSaAsGUk/fcOQ3ZrkQULRdmklLocLrzYDGYNboxVs2P5ybVV/f6ZcwpWxfKc7uplYRy\n",
       "wrJYcOW6ybGu/InEmhmPI5jydAPsxiykykiEfY453YFubDEdlAyuTT0HM/5WkBmYe2p1m/GgCbO3\n",
       "Up56xfDhZyzDNa05Zol58Zbfq4x15aeTTvZwrMERTHmmDQimIBOc+5JD/EwAUznQ1kRrbQrXplpw\n",
       "CD9lBuZWwbjuNuR6j5dTmLndNSnHLCkvao+JMe6Mex/knUGVLyQoR3DG5wipHAq3YKEFTYFZ8e31\n",
       "sbazbrwJUbhuU+TR1NwNuNkyH+M99y2H+AU3STllzpXLsb7mlxK32KxAyG4nC/CVwvsQ5N2sb1ZO\n",
       "4dNPL5fO75Iv4za8rWSg7pNJyldC5Gdr5+RN7Ae8JmBNmvY5YQlHkOx2OdaVNxOV7xcIpnwEh46U\n",
       "YAebpPl2kAkoTgLqjyb5CRw9+xA8AIssAt2TcqHDMviRC1cYvrfrAE6074QivHnJy4SsiNWAFN7+\n",
       "ZdOaE5Zoo8jAd7NxjPLHBcX+kritNgSCKSdfklyp8C/j/S7Zfs/DikcvwtQjD/SfOiBwZ64O6+T7\n",
       "Qmat9ZNuoUEzEIBw7T1RoJ7mzGcvwI/w59cwxot8cvlihX274pUTlnb3dwZeZWNd+a8h+96xIjph\n",
       "GsW+R4cj5TbuMLR96TZTnt6DH8evvRqCs5N7aXLhu08Mdvscngpsl/QdwaCXg/ef4q2EAcJd8xme\n",
       "BkZpcMDJZauGX8042Xa0SMd6GAtOt03KCUvY6jHwPBtryrccPIJn9gGnGBEWJYF9j/Ypt9cK/YbX\n",
       "+Rb4kOa5CvAH/CM81SyfwzOtfNnptjRMUwJod1WdUHGlRQGPwou26v9mvrdXlOB0K+YORytOgsZA\n",
       "L0kOVYbgyqeJ0DcaXHmHyEKPgLPr7EvU67EicPhNvOrZclXDNDmA2drZT33FjS5CkmgXKh+pCWpm\n",
       "5dNKsPrDpOD1/ZSJL5lqzPgCwZWPhHA/bAf4+9g13Lf4vaSDVAcym5td6vVeAfE/Cv8eRkNn3Fcx\n",
       "NMOcdA9ubqquPG5kQKEEFz3Fd8pm5SOhEjxhOLzXJMX+kguNvRLBlaMyvLckquVJtzzziuL1GKkc\n",
       "wWMwQaIbExD5TF28clRWwCcMyicSSuYo6Qme8QL9+9ew/FT7ltHsvQT0s3QCw/104P/6MMSF/wGL\n",
       "QqaasTVXowAAAABJRU5ErkJggg==\n",
       "\" style=\"display:inline;vertical-align:middle;\" /></a><br>"
      ],
      "text/plain": [
       "<IPython.core.display.HTML object>"
      ]
     },
     "metadata": {},
     "output_type": "display_data"
    }
   ],
   "source": [
    "b_required_len = Equals(Len(b_sub), a_len)"
   ]
  },
  {
   "cell_type": "code",
   "execution_count": 136,
   "metadata": {},
   "outputs": [
    {
     "data": {
      "text/html": [
       "<a class=\"ProveItLink\" href=\"__pv_it/basic_expressions/13837467beffc7f335e620dd2f4a5ae39a11194e0/expr.ipynb\"><img src=\"data:image/png;base64,iVBORw0KGgoAAAANSUhEUgAAAsgAAAAVBAMAAACpugWdAAAAMFBMVEX////MzMxUVFRERES6uroi\n",
       "IiIQEBCYmJhmZmYyMjLu7u52dnaqqqqIiIjc3NwAAACW8nlqAAAAAXRSTlMAQObYZgAAAAlwSFlz\n",
       "AAAOxAAADsQBlSsOGwAABgFJREFUWMOtWW1oW1UYfpPmazfJNSIV0Y0GBIWNQh3+Gx1hP9Y/ylpZ\n",
       "pEiFKFVR/IjUH52oC2INo4j5IQwENW7gNqUYOoZ0OsifVscshoquOivBUoRJaQuCrMLm+brnnvfk\n",
       "JPfE9YWlydunz/O87znnvXc3ANCEDtEMTKjhgl00/w+mO2X3tg0E12MlynLpeieeR7XPndGRhpX3\n",
       "ziQ7o/xbV+RtojOJnSgDXencjyL+3BkNV628X7FaidtSTtW6IjdHAImlKAE5lc48H6JPQehdVQvv\n",
       "QSQ7oXyuK/I2EURiJ0pAiYA1nRSbnsOC0PES/zlkPl52JFhZUFkqCwkod0Vu9hlIopdbbgeKBfDE\n",
       "+GKl+PgJQsML/Mei+fhZkiBlQWWpLCSg0BW52WcgiV5uoR3octCJKKq6QWg4adHky3ZNFsqCylJZ\n",
       "SKQqXZGbfaaCxxoqtx3+JEyT15mlT79G125nuQin+NtkVtWlaGdl733fIJaZMjgcBrMWTTZKajy+\n",
       "sqCaRq48n4qVWVUiUdPZNDQmN/s0kuDyUbkUD6F85k+J7R1xixRE16KU7k8Mq0TJVAGOi4lSUXUp\n",
       "OgFLjSmkW1uA+CZ/e8yiyUZJjcdXXpR7RnElQrVyTJWgGxWzaWhMbvZpJMHlo3LZ6Th37YBcFOej\n",
       "87MMNEYEm/HtMLqu7CYNuF8IFlRdgoa34Hj1QRUdqk9BeIC/X7BoslFS4/GVBdUYciVCtbKgSkTr\n",
       "OpuGxuRmn0YSXD4qN0qP5nVIylsOtwoXGWicFAcJuq5n2OI6N8hLNdaAl3giRNYxkc8//kw+T1aI\n",
       "oCEDJ8jrF7N7PbRDsLEGT/SRf1P5/LP5/GOac0QiJP34suLx+D3fVKnGkSsuLKw4bD/1qRKxHHLF\n",
       "6JFxTG72KUlUk4JFBCqX4KmbixJKxKoMNM6utYQntMKP7yh9OVINbfFEBO1khibC5LzDlERHtqEv\n",
       "wxOHLXaylFQiWvJ4/BsptNnGkSshzK3s+QmksncDk0OuOL1qPGKxkyUJMslZRKByeZPXFajb4KAx\n",
       "1tOmU4WUMiNPQLrAEyKrjAuI3ITP4W/YkOJkV/4sEvN240JI6puI8vjoYW1cKK7kQlArXHReO+mq\n",
       "KxXNM5i87bjQLCmaPOZbxgW5x/brGiJHgYIGAU7nHoAkIPf7oSfLE/EBVZegnYfDBajB64p7gt0v\n",
       "EhMWTZaS8fKepfSE3wTGM/nqSvbqQ76yoBpErsSFhVvhpU6oEj0N5EpF8wwmN/uUJMRSSdMUKVQu\n",
       "xcP3APLCl6pDmIHI5e+He9+FR3CT34YjRZ5I1FRdgk5tnS1E6Jpd8HdgNvKPSEyrqmzQ3pATVCHh\n",
       "kmcOF2PZdBbxOK89B0/Dkq+86N8s+a5EEcLKPEhlIUHv0BRXCM0yiJzZk2ZbSKillzGLl0LlUnzo\n",
       "wOAFuWvuOn9thIF6Ac6upMp13ORTl95v8kQ0p+oStPNe47s36KXjCX9H7Vu+KRJH0fkpecNzVCPh\n",
       "ktd/gTsyiRricWcqsMXMC2XR5F7kSuCFFdbko6pEaBi5QmiWweSjyKxOQi1tYxYvhcql+CQsfODf\n",
       "kqaezzFQNKPNQBFzIrGGx5R/tlfVkZqs8IQ7bDEufJJ+uJtPMoUn3AgV2AReQ1T8j+Z0m3Iyuuja\n",
       "ASOqKxwss2bhU5KEGxH9f8w8pZU7Yn7qPCyfcSD3yYrzokiU0TMTH+2W3Ka/IJ/VecJ7jNPxwYtP\n",
       "8hT8CBshQDyxTHrA3cxI5SH5mEVx1dpkoew925lUXeGaWaZs84BoUlpKlDLasw+W0sqdNLJR0EFD\n",
       "k6ONcI0nXHwn7qNX77xH7pEnYZ9IrFo9lfBI3E2ylycSgHg2yC6JD5QMyr4rQ5M15Z6m4gpvZJrR\n",
       "yc3hkWxAdLfWZJ5qFTUEBZ32Kp77V966pt58RyT0v/PQ8MqtWzL57XJOJA5aNdkjiWThY/jjV8xz\n",
       "CHY13f6qQdl3heOvTy61KDsDiisULNNj9f2TR3II0l9pv+KpVtE2W8rt+JXR7/qA6YhOW3kPINkZ\n",
       "5fWuyNvEesCXNzaiBPQfXTR1ffRghe4AAAAASUVORK5CYII=\n",
       "\" style=\"display:inline;vertical-align:middle;\" /></a>"
      ],
      "text/plain": [
       "(x_{1} * y_{1}) +  (x_{2} * y_{2}) +  ... +  (x_{m} * y_{m})+ (y_{1} * x_{1}) +  (y_{2} * x_{2}) +  ... +  (y_{n} * x_{n}) + (z * z)"
      ]
     },
     "metadata": {},
     "output_type": "display_data"
    }
   ],
   "source": [
    "requirements = []\n",
    "dot_prod_map.apply(*a_sub.entries, *b_sub.entries,\n",
    "                   assumptions=[InSet(i, Integer), InSet(j, Integer), \n",
    "                                InSet(m, Integer), InSet(n, Integer),\n",
    "                                a_required_len, b_required_len],\n",
    "                   requirements=requirements)"
   ]
  },
  {
   "cell_type": "code",
   "execution_count": 137,
   "metadata": {},
   "outputs": [
    {
     "data": {
      "text/html": [
       "<a class=\"ProveItLink\" href=\"__pv_it/basic_expressions/165d2b72263f453362c4120e9daabcc8d392ad690/expr.ipynb\"><img src=\"data:image/png;base64,iVBORw0KGgoAAAANSUhEUgAAAicAAAAyBAMAAAB1+mbvAAAAMFBMVEX///+6urqqqqpmZmbu7u6I\n",
       "iIgiIiIQEBDc3NwyMjJ2dnaYmJhUVFTMzMxEREQAAAC0ii6rAAAAAXRSTlMAQObYZgAAAAlwSFlz\n",
       "AAAOxAAADsQBlSsOGwAAB+tJREFUaN7tm3uIVFUcx38zc2fm7rx2CEKiYAcSxSKcqBTdwAsm4aP1\n",
       "0rZWuupmZWAtTJHRu4EeRIUOURAUNEYGiujUFtUfufOHi6BRQ6VBYDuBhX8orLGBJst23q8799h/\n",
       "MzBzwDvnXn/n9zv3e8/7owAo5RrQSyQNeSJ7kv2WydXtlBqGVKes/QTyV38sk2vaZR/huUyVZfaR\n",
       "672dIsq15JrKG49pLeMF+UTNBx1YUsRXPJK0iGe+1cJFq50iSrxmEeUm9GeYPVHz6jenDkJT9ixs\n",
       "MUVJ1VkbelYLt7Zzevh74aI4FXTZRR+oeZ42rJjlDsJFr0CfZ4gCj9OfhK+FG+wcUSbCRYkpjUDN\n",
       "R3g+Pssd2FK6aIqymA61X+vhSp0jStILFSWpmin5qK+KkvSuFuJpU5Q+IhM8r4WLVjpHlL5aqChL\n",
       "lAdLQkXpq10txIemKJFLorQMF0PjrDNy7LdPFMM1o/ccLNhcmwXQk+EabFA8DIJTtznQzQFOj7s1\n",
       "Ouq1FmUlLQNmXhclZYu5ZhRdDpmiwEdkSKlr4bC4MRj1lyl2xfhUbMwmilkAVSdagkl5W10M6RmL\n",
       "A8McnPcPo+qmK1yU2E6S6uIV0BdORUria4u8Lkra1uyLyRqbeTVRluIuN93QREmgJvENTHonweFT\n",
       "dbqcns3UnIPfh/ZQWkBNPyEVf4D1rFLZwjLINNcdOhbmgJorqyoPPkVvWAptKTtwGeZdzeuiRC0D\n",
       "ZLzcj151cUCUjdjDcT1cEtWhAStQ7tQmPp8DDhmD8NZCC6jJS/qwOzvCSjiwG5J+EZaFOSDm2pN1\n",
       "6AtkZ0JFeZKWAS2P2tNjz7D2RETJWlqnQ9rEdECUHK7zi0FRgFZwkRzfUcj+vDsXHmK3+WDAy85B\n",
       "lMsYmUUt8iLsDd1kEXO1qeCXjJRsotCGbuT1lhKxTqX4Ey0IiJJGI232CgS6Dx6C71JFGSg7Xtqz\n",
       "iEIKTHw3Ut9ygT1ZAfGSFAU1tfvhS4so2Dw9eEqsS69HX5IWbz2m7MBDoiO6j8gb3cc6Eu7iH14T\n",
       "xUGCxC/pouR8cP7IlKBKC+APMJQ/DilcvTFwWrR8YAWcz19AzW4UqNF5yNVJpcgdyp9HP59Rh2Y7\n",
       "ZubrF9SSZWoRLUAGfbRmaEv5E5W7mKJlWb7VQNvk/oMRwb2ILkeZR6VaqOvkSno4NItF51aXIgUi\n",
       "inMZN81flsM1eJr0YGOFPcMZcUcLuGsqMIfnR/J3d8JAjYhC7mL1yBWyHxGFSUa6wuavPQj9Hn32\n",
       "++HN43R5ECLKITxgvE3LsrwuSuoSW1/odZYR6XS4knokj1n6Cw0XTT1cFjWHO/wbv2BNayeScPVI\n",
       "dBBp5J5FnQtvrR/GvazIL8iCFcj42RJuy8Row/5VZSIKuXNODKNK7vGoQ1IOe6GuhPkU6eLYohp9\n",
       "DmmRyIeKchqfeNRoWZbXRMkcv3ySOdDrLCKi6RBdHmIed8qmcgSpVjTCjWvb6Kg0fhXeBFgYaIvS\n",
       "ItmIN92ZBjc6wPo0vUtVwC26ZdUhT8L8Jbgtqzp8I3zvk2jIsolGixWtdNCizgv57OGOMY9KtSbz\n",
       "MO0b4SY0UVJyPrhw5naA4LmCtNiL2kq6WSRGqYrzFBOlSt747gLsOfOzp5jLlR0zd2dg/BbV4WC4\n",
       "KOmiKCvy2oZQOmhRZ/QkU5j0+F5ynxoUK7K0YITL8XOotz7ej9bCclqen58Bxw+ulkXuBugru1Me\n",
       "MUr4mSq4B/71aZFH4QTAK/PzqrkY9rh5pA6ba4qF27Scp5wTZXm+xcFaU9qYEacLeNLawz0q1UJ9\n",
       "Z7JhnlQ01fKGw3gwclAmbBT96la1yM3D+f9prljQzxMiypBSn6EQUaiDeMuIMVKjc9yjUq3+OmxX\n",
       "DjK3kuvrnbJJfoC+gbm22SpXd+pKL9SB7ZiprHgUojThiAe9pJ/iVGBVTxQjJcbgx54Kpiilniit\n",
       "RFG7Dx12uhmGse5zpGxOdl0Nw+hAu91cp3Q3DMOi1IOLty6HYWidUoSleSNcl8MwtMyvwnTNCNfl\n",
       "MIxsCPuNo4Nuh2GAt8iJih4OH1bp6CoAqgKbzoCBAceCrCyw1TZxW/tgGN4NZozjSCyujq5MUBU8\n",
       "UQkYGHAsyMrMZOK2NsIwvJxNz+qiJAoMXQkWRkCVDYWZJCtA0+ithYVR3KauqtoHw+BlNFn/rYdL\n",
       "5hm6EiyMgCobCguSLIOm0VsLC6O4TUttg2HuP9AShhF0JbEPBlVWFGaSLAjQNHxrY2GQNI5E2gvD\n",
       "YHmg+1B0JV+JgCobCmMkazR+lL+1QdPIrY2FUdzWETAsg8sM5DVRcj5HV4tA5VrhKEySrHq8rsAx\n",
       "QdP4bTgLo7itnTBMWdBiD4miFg7PYhRd4VeSXIujsBZsSZCsBprPJRwTNI3fchYWJFMUt7URhikJ\n",
       "H/Kr0w+DYQxdYVEkqBIoTCIlhsIEyfqV9D0JxzhN47echQXJFMNtbYRhMj1Brvo/76IwLFVh3U2A\n",
       "KjsKIyRrG+zVWJZB0+wsDKc2wjBQhj/RXmS4CYauqChVDqosKIyTrCk4GtOwkk7TLCyMqdZGGCZS\n",
       "ji6C+6pauFyZoivCwgSosqEwTrI+gHfuU7GSQdMsLIy9UBthmLK8oCsn/R8XO00FXbXgWnryQSdZ\n",
       "Adplv23ltC0wTKQd7Hcbf9CDYXILmemYA8j2p+tE7t2eGHwTJg8we/8Jiqe1ZJj9D6toGUoT9ElT\n",
       "AAAAAElFTkSuQmCC\n",
       "\" style=\"display:inline;vertical-align:middle;\" /></a>"
      ],
      "text/plain": [
       "(|(x_{1}, x_{2}, ..., x_{m},y_{1}, y_{2}, ..., y_{n}, z)| = |(i, (i + 1), ..., j)|,  \\\\ |(y_{1}, y_{2}, ..., y_{m},x_{1}, x_{2}, ..., x_{n}, z)| = |(i, (i + 1), ..., j)|)"
      ]
     },
     "metadata": {},
     "output_type": "display_data"
    }
   ],
   "source": [
    "ExprTuple(*requirements).with_wrapping_at(1)"
   ]
  },
  {
   "cell_type": "markdown",
   "metadata": {},
   "source": [
    "If the ranges are not aligned, this will fail"
   ]
  },
  {
   "cell_type": "code",
   "execution_count": 138,
   "metadata": {},
   "outputs": [
    {
     "data": {
      "text/html": [
       "<strong id=\"b_sub\">b_sub:</strong> <a class=\"ProveItLink\" href=\"__pv_it/basic_expressions/a0e53f8083be7b4bc847309fe688ca2fc42b63dd0/expr.ipynb\"><img src=\"data:image/png;base64,iVBORw0KGgoAAAANSUhEUgAAARoAAAAVBAMAAABrvDzoAAAAMFBMVEX////MzMxUVFRERES6uroi\n",
       "IiIQEBCYmJhmZmYyMjLu7u52dnaqqqqIiIjc3NwAAACW8nlqAAAAAXRSTlMAQObYZgAAAAlwSFlz\n",
       "AAAOxAAADsQBlSsOGwAAAs9JREFUSMfNlU9oE0EUxr/EJl03u9sUiYhaDAoKhRwUT4Ilp3oR0oKC\n",
       "FA8peFEUAz21qA2iVi1ibp7UsR5aLGJo8VBrIR4U/xxcKmK1BBZ7EQWbgBcVjG9m/2Q3m+1532F2\n",
       "frPfm/129s0sAAPhCI03aiUkbjp0at4hLPEJkEuhcbOZQSqExk1nEXGEJ87gTYjc3MEklc5KAVPO\n",
       "kJfaRKtArvbueB6IbeLx8oPFlo2cGtSoYubIDxJKHuPODS+1iVaBhGX9aiC2iaKakQa8L3h3fo4u\n",
       "ozgJ7KR7ezBtbS5B8uJuFjSZKW/GJYyzfZBHPTg71xtYrEbnn6h372gMz+jyCqcAFtdxLlK17AqS\n",
       "0OLeFULg4iRuUNvz0YNFBK5PBJL/VJnlL7+Lu0GORepQ7Mdz6spq9cCVFnJ3CG8vPfgL68nACeK6\n",
       "768gRvr5l6KXUfNNN5w62QZuhGCiZ8U50v/hkcuNwLGN3OQMmdEEy+qIrTkCWbzQYWoPYFNauOFD\n",
       "JiFB6C8dRzDdX4gbAuWD0TzKphvWRDwNyn+Y3YsE+ARpNW2KlAqidBkBr+XLyBWEmyclm5BikH/D\n",
       "HBIdh4Tg+2d0MYFKfSbfURFuuMTGyJArw5mEd95vv4aj4BMkpbI5vGV+dZAuk0hRO7V02xBuYkM2\n",
       "aYeod5x8x4rUOQGraQoy9JUFyrf01xesuqEEG9eYK9+ZhCfMVJUJspvBVsQqpqisnM7S3WOIiU+3\n",
       "ALNu3sKib/hJQ/6ldgTDuB6xEXYVNxO0omYE5/MYxgesRzw5A/xXlSjJZy039MEFafu7b1LXX4CO\n",
       "oIbBFwLdbpoJa93bWEC+9egarc6I5M7hP/A+xPRoGdrCXx0ybTRB8UajRke4vwptQUcaqwWBVvy4\n",
       "v+ROON9oBOVbOy+Ne/j6xS1a4yUO5eIVi1W+2g7Bdyy0CtSW2/qG2CbBI+pzDp4QhGrgPymb8hnI\n",
       "QG0EAAAAAElFTkSuQmCC\n",
       "\" style=\"display:inline;vertical-align:middle;\" /></a><br>"
      ],
      "text/plain": [
       "<IPython.core.display.HTML object>"
      ]
     },
     "metadata": {},
     "output_type": "display_data"
    }
   ],
   "source": [
    "b_sub = ExprTuple(y_1_to_n, x_1_to_m, z)"
   ]
  },
  {
   "cell_type": "code",
   "execution_count": 139,
   "metadata": {},
   "outputs": [
    {
     "data": {
      "text/html": [
       "<strong id=\"b_required_len\">b_required_len:</strong> <a class=\"ProveItLink\" href=\"__pv_it/basic_expressions/9201691d22446269338a2548f6b727c4fc405f280/expr.ipynb\"><img src=\"data:image/png;base64,iVBORw0KGgoAAAANSUhEUgAAAfIAAAAVBAMAAABPiXFtAAAAMFBMVEX///9UVFREREQiIiIQEBCY\n",
       "mJhmZmYyMjLu7u6qqqrMzMyIiIi6urp2dnbc3NwAAABm9RoHAAAAAXRSTlMAQObYZgAAAAlwSFlz\n",
       "AAAOxAAADsQBlSsOGwAABN5JREFUWMPNmF9oHEUcx3+X+9PZvdvNVawUSuH6VlRCoFLa2MKBiNWI\n",
       "XfIQ/2Ii6VFBi9eHgiDYbbFVLMWD1j8v0sOK2BbJxj9RG6wn1AfxIZcWqdIW14giiOZexBBi48z8\n",
       "ZnZn93b2Xm8gdzPD9ze/72fnz84FfGDFhj4pGjsJ3X5ifG8QW4bf4N9f9gv59/zTasW6u10WG4nx\n",
       "Ja9XBqG4gWMa7X4hLzp6cu5yVvS8q9RlOesCfJY+vrlVKAT5q9A35UU9OXe5GztIPayLQu44TMnX\n",
       "uelPti4UgrzWP+TjenLVZcFR1q+sf02Z8pO9MqBCkFf7hzznaslVlzmlbngKOezpmWJPSG7U+4d8\n",
       "naMjj7h8W0t+qGeKQyF5gR4dJ2pAyuGemXXgSFp0VE7bM6/fVE5bMrfxo59S08cC+AE1YjtglXXk\n",
       "zCXzxcsBpR4lX0jPKhVIzp5z+zTkO4HCMqowkTZEVA4wWdxUGFa2Icx4U6nksQD2tF66Qj3l65K8\n",
       "sI2XsiRnLq1SNZi3oB4lfzQ1a84RCiTPNsBsTEGmQmTYOerqNnJzve6gRLlyavj55YwDx+SCfBom\n",
       "3A1wcmGj9pjBgMgVw4UfKUZVN+fUJfUlMuxU6lHy02knuz/YEAokz7WAwCjkvAufCImb82C0ALFZ\n",
       "UeaHy5UnAcyGOSf1TdjPnjBo5x0DYuUkdW52dOTUJffFy8OyTlfGPfeJlcHJp1PICZxxhSIgh9Iy\n",
       "TDfhlNTMu+bKYMte0d6EuFw9bJkNI3xSo/RvFZaa+kO867Zls55SNY2cOxfkQT0655dTN9mUVASr\n",
       "nU3BpxCS74diNe/qybl8/Im54O057xNXIS/dgtfgsTRyFpCvXZgpjknNt3ROcIjEfc5cwkESrPag\n",
       "HiU/lUq+WyqQfICGDpRhC3by8bawDrCGgXRHs/GZnDx1PzyC+qOt28FC26xJ7s5Ugd01r6I6vuZk\n",
       "wLHLTq5cLGMSowEZegBUdHPOXJJVC8V3YT2BfExa7E5Kl9WqVCA5e5MUyqV/kPwNtgGfgXmHX4R5\n",
       "i32Qf9UKk9sn6rCMfWc+3AffITlrGivHqyU6ReaOWFgwGgb88TkMNunbine/d+WrEXx3JZMzl2bn\n",
       "NxQvYD1K/rOP7zvMlZAZ30cHQnKTTdXm2VtInt1BP45cf8EHe6toZdmi3i4r21whz3hsVzLF8Tmj\n",
       "1kBy1iTPeW89TpWLLqqj8UrAJnifrWKepG08QIGzLR05cwkbHBSfxXqEfP3eg7RnFwiLYcLtkgrf\n",
       "R7uU2+sIf4fXxRZ4h49zDeB3+Fu21GK4Qp5rFiabqoJv0rBpT9q+UEdKqHgIPoYlU+35VX9vH1HC\n",
       "s82EOxzPORxa7E7KjlVUCPJxBvpKQ5C3GRZ5EOw7zz/LW7FigZAvQfZcU1Vw8rC5eP4DF6yEa1Bg\n",
       "s0NnfaygxtT05ONKuPrDpOR0/ZRJTpppTLhSIcgHfLgXNgP8dfg6Xar0uWS9TBtya2sd3opfAekf\n",
       "l38DxR9AUdjX/vPUgL1ra6iOHTaBolSGl+GXL9QhKnryAV8JH9Ic3ouBxe6k042dgUKQkwq8OSuz\n",
       "FdnkPfm80ooVljmUxxXFBHW6Qu1BumRyUlHERzXkQylJC9z0kBjxIv/+s19+ql1Cm/FrQLdL29Pc\n",
       "T3v+1wcVF/8HB++l5uj8R70AAAAASUVORK5CYII=\n",
       "\" style=\"display:inline;vertical-align:middle;\" /></a><br>"
      ],
      "text/plain": [
       "<IPython.core.display.HTML object>"
      ]
     },
     "metadata": {},
     "output_type": "display_data"
    }
   ],
   "source": [
    "b_required_len = Equals(Len(b_sub), a_len)"
   ]
  },
  {
   "cell_type": "code",
   "execution_count": 140,
   "metadata": {},
   "outputs": [
    {
     "name": "stdout",
     "output_type": "stream",
     "text": [
      "Expected LambdaApplicationError: Failure to apply (a_{i}, a_{i + 1}, ..., a_{j}, b_{i}, b_{i + 1}, ..., b_{j}) -> ((a_{i} * b_{i}) +  (a_{i + 1} * b_{i + 1}) +  ... +  (a_{j} * b_{j})) to (x_{1}, x_{2}, ..., x_{m}, y_{1}, y_{2}, ..., y_{n}, z, y_{1}, y_{2}, ..., y_{n}, x_{1}, x_{2}, ..., x_{m}, z) assuming (i in Integer, j in Integer, m in Integer, n in Integer, |(x_{1}, x_{2}, ..., x_{m},y_{1}, y_{2}, ..., y_{n}, z)| = |(i, (i + 1), ..., j)|, |(y_{1}, y_{2}, ..., y_{n},x_{1}, x_{2}, ..., x_{m}, z)| = |(i, (i + 1), ..., j)|):\n",
      "Improper replacement: Improper replacement of (a_{i} * b_{i}), (a_{i + 1} * b_{i + 1}), ..., (a_{j} * b_{j}) via {(a_{i}, a_{i + 1}, ..., a_{j}): (x_{1}, x_{2}, ..., x_{m},y_{1}, y_{2}, ..., y_{n}, z), (b_{i}, b_{i + 1}, ..., b_{j}): (y_{1}, y_{2}, ..., y_{n},x_{1}, x_{2}, ..., x_{m}, z), a: {(a_{i}, a_{i + 1}, ..., a_{j})}, b: {(b_{i}, b_{i + 1}, ..., b_{j})}}:\n",
      "When expanding IndexedVars within an ExprRange whose parameter is the index, their expansion ExprRange indices must all match. (y_{1}, y_{2}, ..., y_{n}, x_{1}, x_{2}, ..., x_{m}, z) vs (x_{1}, x_{2}, ..., x_{m}, y_{1}, y_{2}, ..., y_{n}, z) do not match as respective expansions for b_{_a} and a_{_a}.\n",
      "ExprTuple.align_ranges may be useful.\n",
      "Using multiple, equivalent expansion forms could also help. \n"
     ]
    }
   ],
   "source": [
    "from proveit import LambdaApplicationError\n",
    "try:\n",
    "    dot_prod_map.apply(*a_sub.entries, *b_sub.entries, \n",
    "                       assumptions=[InSet(i, Integer), InSet(j, Integer), \n",
    "                                    InSet(m, Integer), InSet(n, Integer),\n",
    "                                    a_required_len, b_required_len],\n",
    "                       requirements=requirements)\n",
    "    assert False, \"Expecting a LambdaApplicationError error; should not make it to this point\"\n",
    "except LambdaApplicationError as e:\n",
    "    print(\"Expected LambdaApplicationError: %s\"%str(e))"
   ]
  },
  {
   "cell_type": "markdown",
   "metadata": {},
   "source": [
    "Such cases may still be handled, but the iterations must first be equated, via axioms/theorems, to split versions withcommon boundaries.  For example, given the following for the $a$ and $b$ substitutions"
   ]
  },
  {
   "cell_type": "code",
   "execution_count": 141,
   "metadata": {},
   "outputs": [
    {
     "data": {
      "text/html": [
       "<a class=\"ProveItLink\" href=\"__pv_it/basic_expressions/382b702ef71332787af026d0ce9384016c86f9780/expr.ipynb\"><img src=\"data:image/png;base64,iVBORw0KGgoAAAANSUhEUgAAARoAAAAVBAMAAABrvDzoAAAAMFBMVEX////MzMxUVFRERES6uroi\n",
       "IiIQEBCYmJhmZmYyMjLu7u52dnaqqqqIiIjc3NwAAACW8nlqAAAAAXRSTlMAQObYZgAAAAlwSFlz\n",
       "AAAOxAAADsQBlSsOGwAAAwFJREFUSMfNlU1o1EAYht+N+5Nmk5giBdFCFwWFlkJbPAmWpQe9CG3B\n",
       "ghSFRQRRrF3Rg4raINZSi7g3T0KsoMVSXFpEahX2Yv07GHqwBVkI9OLJdkEQK3SdyWQns1l3z5nD\n",
       "TN5vnrz55ptkAsBBOJpOO60QkmyiNum+ICxtFVByocmmyYKcDU02CRNxhKddwKcQZfMIU6SfW3my\n",
       "JHxZAVnblGL73rfVkbUspgWHCSipRg5BoGVQJ2/MPMkHMLVOecCfCsjaJmPFHq+KJNUMxnyZX0Zi\n",
       "s5FDAFAeL8yT4TpOkbfHSWxJWTz3vi4mlaV9Vj2v2xizDlZFWkn6+7lDpDAOqWt2vr2eAQOEg8/C\n",
       "GzIs4yyZg0xsIkWvHkzKqF8fA5OBiBW3McIdFIwgbpsYr7vVLiBGZunS22g2YDMqfzqVO9N6qX6l\n",
       "R4KBfitS8h2iW2gzfmHDqHvuUkD8K7ipHaU7RbwcxRKyoTJhNcgmuo0XuHa5mFrt9iKT0DK+Aynu\n",
       "N9xokI0LEAPT08dIuYD3OAI8TR9AktWGxjyJ5IArg3tCoENSBnnl6jmcwQq7Bz3YkWLZ0JKT6x4y\n",
       "vGIquEseQA0uMUItQCLDFfJV4eueezjOsnmZ4xItliuVP/C6ilJLM5loQZ/LoUQPCBrGHfRn2Xoo\n",
       "Kaeiv8kLOPyfmxlOAWqwxWK7Fr4PkmEKLcBMUZ0osGxiw1zqh5nESXhdjNZ1yILywP54E5DsSIZu\n",
       "tAtNv3vosNoM0ep1rG0D6xZT/s3uBcVdQLKjGUbk1fNpEj2BGN9b1+szr+gP/BQlp3jt44bWpW8a\n",
       "FWjRc2BAMgfd1B0B543hBIgbsmkIhD5Af1ViNnk+1d18X5D+OcevNsjiEl2mCyVzykXPIelm9qyA\n",
       "9ebdloD7J18F2ECs1RAI+gPvrTx+8a8NhR8C8XJ5U5D+mc6v+tDk6J2WC8VsKc8cXOA0OoDRclnE\n",
       "+VtsV4A+aK9FYp1+QiKqVd+p1a6sNj8KqbfuisCHtXRDXAAEopcfPCFomoN/Mjbyvq+vya4AAAAA\n",
       "SUVORK5CYII=\n",
       "\" style=\"display:inline;vertical-align:middle;\" /></a>"
      ],
      "text/plain": [
       "(x_{1}, x_{2}, ..., x_{m},y_{1}, y_{2}, ..., y_{n}, z)"
      ]
     },
     "metadata": {},
     "output_type": "display_data"
    }
   ],
   "source": [
    "a_sub"
   ]
  },
  {
   "cell_type": "code",
   "execution_count": 142,
   "metadata": {},
   "outputs": [
    {
     "data": {
      "text/html": [
       "<a class=\"ProveItLink\" href=\"__pv_it/basic_expressions/a0e53f8083be7b4bc847309fe688ca2fc42b63dd0/expr.ipynb\"><img src=\"data:image/png;base64,iVBORw0KGgoAAAANSUhEUgAAARoAAAAVBAMAAABrvDzoAAAAMFBMVEX////MzMxUVFRERES6uroi\n",
       "IiIQEBCYmJhmZmYyMjLu7u52dnaqqqqIiIjc3NwAAACW8nlqAAAAAXRSTlMAQObYZgAAAAlwSFlz\n",
       "AAAOxAAADsQBlSsOGwAAAs9JREFUSMfNlU9oE0EUxr/EJl03u9sUiYhaDAoKhRwUT4Ilp3oR0oKC\n",
       "FA8peFEUAz21qA2iVi1ibp7UsR5aLGJo8VBrIR4U/xxcKmK1BBZ7EQWbgBcVjG9m/2Q3m+1532F2\n",
       "frPfm/129s0sAAPhCI03aiUkbjp0at4hLPEJkEuhcbOZQSqExk1nEXGEJ87gTYjc3MEklc5KAVPO\n",
       "kJfaRKtArvbueB6IbeLx8oPFlo2cGtSoYubIDxJKHuPODS+1iVaBhGX9aiC2iaKakQa8L3h3fo4u\n",
       "ozgJ7KR7ezBtbS5B8uJuFjSZKW/GJYyzfZBHPTg71xtYrEbnn6h372gMz+jyCqcAFtdxLlK17AqS\n",
       "0OLeFULg4iRuUNvz0YNFBK5PBJL/VJnlL7+Lu0GORepQ7Mdz6spq9cCVFnJ3CG8vPfgL68nACeK6\n",
       "768gRvr5l6KXUfNNN5w62QZuhGCiZ8U50v/hkcuNwLGN3OQMmdEEy+qIrTkCWbzQYWoPYFNauOFD\n",
       "JiFB6C8dRzDdX4gbAuWD0TzKphvWRDwNyn+Y3YsE+ARpNW2KlAqidBkBr+XLyBWEmyclm5BikH/D\n",
       "HBIdh4Tg+2d0MYFKfSbfURFuuMTGyJArw5mEd95vv4aj4BMkpbI5vGV+dZAuk0hRO7V02xBuYkM2\n",
       "aYeod5x8x4rUOQGraQoy9JUFyrf01xesuqEEG9eYK9+ZhCfMVJUJspvBVsQqpqisnM7S3WOIiU+3\n",
       "ALNu3sKib/hJQ/6ldgTDuB6xEXYVNxO0omYE5/MYxgesRzw5A/xXlSjJZy039MEFafu7b1LXX4CO\n",
       "oIbBFwLdbpoJa93bWEC+9egarc6I5M7hP/A+xPRoGdrCXx0ybTRB8UajRke4vwptQUcaqwWBVvy4\n",
       "v+ROON9oBOVbOy+Ne/j6xS1a4yUO5eIVi1W+2g7Bdyy0CtSW2/qG2CbBI+pzDp4QhGrgPymb8hnI\n",
       "QG0EAAAAAElFTkSuQmCC\n",
       "\" style=\"display:inline;vertical-align:middle;\" /></a>"
      ],
      "text/plain": [
       "(y_{1}, y_{2}, ..., y_{n},x_{1}, x_{2}, ..., x_{m}, z)"
      ]
     },
     "metadata": {},
     "output_type": "display_data"
    }
   ],
   "source": [
    "b_sub"
   ]
  },
  {
   "cell_type": "markdown",
   "metadata": {},
   "source": [
    "If we know that $m$ and $n$ are natural numbers and $m \\leq n$, then we can split `a_sub` and `b_sub` respectively into"
   ]
  },
  {
   "cell_type": "code",
   "execution_count": 143,
   "metadata": {},
   "outputs": [
    {
     "data": {
      "text/html": [
       "<strong id=\"a_sub\">a_sub:</strong> <a class=\"ProveItLink\" href=\"__pv_it/basic_expressions/b46c5d6c2f7fa0e5b69bca5ad064ae335092794b0/expr.ipynb\"><img src=\"data:image/png;base64,iVBORw0KGgoAAAANSUhEUgAAAngAAAAZBAMAAABQjk7fAAAAMFBMVEX///9UVFQiIiKIiIjMzMx2\n",
       "dnYQEBDc3NxEREQyMjLu7u5mZmaqqqq6urqYmJgAAAB66f/FAAAAAXRSTlMAQObYZgAAAAlwSFlz\n",
       "AAAOxAAADsQBlSsOGwAABQdJREFUWMPtWV2IG1UU/pJMMtuZJBtZKlpEQhWE6sNsQ0VdkMFWWbTQ\n",
       "2NKHLUUiK/giGhGxVnAjtm4QlPgkCOKUVWktdGNFayuuUaSCFU0ftvggNKJg/Vm6D5HFhXW9987c\n",
       "Oz/emUnSl33IgZ3NOfOd75x75v7OAFjCUAaQJr1km8NCDCKH6OXEsA4DSd4gl9eHdRhMtgFqZViG\n",
       "wWQc0MvDMgwm8xZG28MyDCabOthjDcswmOg1bCf/tNKW+w+61oAqkbnxd/e3/JYFaAWXYaKDY5EE\n",
       "PnhAYr2vAd1vLlJRtpovAqkKbqQ1xLhx2lNSvyrbIKbG9KLPUj6P/LLQ0tkKrkYR+OEBifW+BnS/\n",
       "uUjlxI6jpNq5VdSJ8huuWje79wKqZItTza8mOr5n0TqNRE2ou0lpb4h6dH54QBzvbyS3Un2hYfTS\n",
       "jexcstXewlE5jDSZ7JQu3iCKibO0///u3LPV9x7eEhoPeiMwdjCNjCEYrIyBaW3/dWHzqQ0Po2fe\n",
       "yLdDD0VMTjXi0boIGJvLEqLD+X0OkIu6htuZNk3+dm4XN6eZX8TQ/V/LSR/eY7oMly2lqyMwtIPw\n",
       "UHbqHTKPLfKaKKViPDpXdtCxuYTMeou+RyDkGVbBNdbzkFvBB8BXgo6qa5iJaF5V8z9J0hXv9DCc\n",
       "JdPpaFvthq5UDB4m1Bufy/cHNOwIO5MX49F4y0HH5qK3Y8L5yt0Bsats2GqvJSoo2023hPoHLZ4l\n",
       "6eXA8fb1SCO/sHM8dcVkPhgp4CWbgQLI75FC3iL0mmRUcvifv5b4sBBcwhtFapzgTgRbuPcIWR5a\n",
       "3uJ50VK6gw46NpckosNxRsbxHUA6qrJC59ps92Ql12JN1/5xVexlKuYbzkVoPzz4CX7CqUudTCFV\n",
       "sM16IfevXTwG/xCXyYKSLkqcBVxbehKP8wnM4XK91QYzOtM4xT5KD0TsHZAonhctpbsgOk50Lnge\n",
       "0eE4I/VSjr6812TDnYwe7SPjwl+wm77VEqqyjalIUgJ2ofNjklhPlrILLRy+G6MmPd1RkLZ5YsVm\n",
       "oAAc2/cFyeM+y9Zc5yZcuDrXwCpfvziX8M7VmNHp+hTbxcck45q3eF60lO5HUbzoXCgwMhxnpBxp\n",
       "nH+bdsYKmW5FH6ZNz7rqIcuncvlW/BrDA0i2OCjdcOY8GzBFUnjVB+ci4AkjV8FknUhVcAnvbIEG\n",
       "uASF3p8lWKWCO8gTreHT+iv1esee87xoGd0kR8fl8iViwnFGl0MvINP2FS8tNLWpVj2qu6cUvx7D\n",
       "XZhRbJ8pvN9yilem2WhPAC/gOS9c7Go5PGPqTTPAJbxJ2sT4mcKXdzNVU5fNwLD1oWV0YtjG5TKJ\n",
       "mHCcsew923reqtCmz7kdb9dDlkcVC4bYpKjL5HFc0W2fW7DZYaCApJEoQz2y65wH7h6HOHwGyd1m\n",
       "gEt4kyWAGG/92nGaIZ0hX2siZfgWDA9aSldy0LG5JBEdjjN6OOYtKOJ93rPv7PPuyZ9aX5dt0d1N\n",
       "d66AN/H0PTbo+4m2w0AB2V/I1iGzvr4s26ML+EWkHglyCW/MUuMOfo65iE1VdczCSJW3Zupvw4eW\n",
       "0s066NhcCG9kOM7o4fiZ/N20QV9aLEqtxyHbeIWhtZocHbKd7j0clduwcb9h6LLDJs7It/whaGbV\n",
       "ewp3Bv2Eg/MNI7tRXyUfkGXc7gfdz1fVtNVXOOfr2Yb9bqv1aIu408+LXquvcMA54D8Cv+THyYCA\n",
       "1AAAAABJRU5ErkJggg==\n",
       "\" style=\"display:inline;vertical-align:middle;\" /></a><br>"
      ],
      "text/plain": [
       "<IPython.core.display.HTML object>"
      ]
     },
     "metadata": {},
     "output_type": "display_data"
    }
   ],
   "source": [
    "from proveit.numbers import subtract\n",
    "a_sub = ExprTuple(x_1_to_m, var_range(y, one, subtract(n, m)),\n",
    "                  ExprRange(k, IndexedVar(y, Add(subtract(n, m), k)),\n",
    "                            one, m), z)"
   ]
  },
  {
   "cell_type": "code",
   "execution_count": 144,
   "metadata": {},
   "outputs": [
    {
     "data": {
      "text/html": [
       "<strong id=\"b_sub\">b_sub:</strong> <a class=\"ProveItLink\" href=\"__pv_it/basic_expressions/4f0fe9e50c70e64ef82a4d2afb7d185f26de2d540/expr.ipynb\"><img src=\"data:image/png;base64,iVBORw0KGgoAAAANSUhEUgAAAhgAAAAZBAMAAACBaUqvAAAAMFBMVEX///9UVFQiIiKIiIjMzMx2\n",
       "dnYQEBDc3NxEREQyMjLu7u5mZmaqqqq6urqYmJgAAAB66f/FAAAAAXRSTlMAQObYZgAAAAlwSFlz\n",
       "AAAOxAAADsQBlSsOGwAABHtJREFUWMPtmU9oHHUUx7/Z3dlJZ3Y3K6Gi4iG0B0E9bBos1oAstkix\n",
       "ha6VHioiKxXqQeyWHkxbMFtsdfFQtqdCQZgSlRahXQv+KxjXSw+taLxID0K36KEoxRwixUAa3+/v\n",
       "/mbmN9tFG/AwDzKZ33vv93m/vN//CYDbSIWkwx6FTpoIJjPscT7NA5dShR4n0zwIeRxw62kahEwC\n",
       "fi1Ng5CLAcYW0jQIWdfDriBNgxC/iU1pFqRk63gY8KZ7ONtXzs3DKw+qFXOIADCsbRj2vWtMfrSn\n",
       "m1i8dwWS3IbqO0BxGS3AKdTxZ99Uu4LS4iBazCECwLC2YdjsWNiwOFb0yTE77k8YB8lw0XbUjHmc\n",
       "f+oEdUBuCaeAnWR7CBfaMk3dSxhpfvziI0kw4WBqBCAsCmexeXseCIZmI+G+4KuzUqO0PNLT4URx\n",
       "QARVwZQjcMjdXcETQJCvYF9uSmbLwz7kKx1cSqIJB1PDAeF2apzF5iOx76JsdlWwT5uiPBLk4LeN\n",
       "cKI4IIL0iIR9mT1W2MjAjYCGSEFVp7mzq7qC2WoSjjuENBygZZSP7YlE29iCuzQkmw0S3775n1Ev\n",
       "PHk6HC8OioBITzI5xB4unyb4mq2kGkeJ24zfBySDO/zx21T52eNSwwCl+a2T2VvVWDLitlKQ3NQI\n",
       "myUjA6ZQ10mNekX3RMMLjGSw4qAI0kO3iPVADzRNcnf4fD6G0bLAsZlG78fo1242aOPDWDp4t9/C\n",
       "a+wEyzUMcOHnXr6cLZvJSLLBmbCwdXDNFsk4DKbYr9Yihbom+OcWHoTTDyeLLAICawThoTC8Gd8D\n",
       "ZT4oN1PhM9zoCdzfrHPKxbuUJ7q3XGxLVeiFO7hzbSzhc6lhgCNbMFblh3udjCQbngsiSF0KsUUy\n",
       "roMpltVip1DXRa0fX/gCv/TDySKLEG85fxEeCsPUuRPv7qYxUqrTlAbOvvRtQ4yMDVTy1k/foes9\n",
       "vWUoIWyFRaajXpiGO4xUcnU8KTUcMI7nkeniq9Z7rZbIbZLN/SDK5g8dXLL9VuuN1kl8B1IU69je\n",
       "ItEobBeMT6cK813ocLLIInBev+UqgvSQGFbHwZUPeT8gz5envXKSF/jQctpwOy7t7ldjA01oyCFf\n",
       "zTbdxarSEOB1PI3ZXGjNSLAdxds2tg6u2Xxk0F+dr/odtYQp1DWYDCOcjlAI7BFCmKvm3YSGitP2\n",
       "3pQ4h7f9ky5mtu2givEbbU05zFJ3lZodruEAd5GyfcsPJcNuc49vu2xjOzG2WkBnkdkpk6FRUzAZ\n",
       "Kpx04hEca4QIpmbeWmlAZiojNbh7/6IdZ46UG7EeOLC6SmM2tgdxDXf4Cesa7njANRxQLOM0Dj6j\n",
       "/mCGS7DlV1cXLex+cMUWyRhtkCL7qtp7Fep9s306nNw8WQTOi0cIY4xm3KSfR1H49RvzkPvDtNrY\n",
       "s/HLDEIOUmMA9DljGJvlhB1ii2QUrV9cvGaMkU06sQ/QGHUeW5NvoP6/tCV9sv7SCmqsxTfQwv/+\n",
       "U5dju2fc939wzKwN9r5LMKTuPwmtuP8AXseZTtp82MIAAAAASUVORK5CYII=\n",
       "\" style=\"display:inline;vertical-align:middle;\" /></a><br>"
      ],
      "text/plain": [
       "<IPython.core.display.HTML object>"
      ]
     },
     "metadata": {},
     "output_type": "display_data"
    }
   ],
   "source": [
    "b_sub = ExprTuple(y_1_to_m, \n",
    "                  ExprRange(k, IndexedVar(y, Add(m, k)), \n",
    "                            one, subtract(n, m)),\n",
    "                  x_1_to_m, z)"
   ]
  },
  {
   "cell_type": "markdown",
   "metadata": {},
   "source": [
    "Now the `ExpRange` start and end indices line up: $1$ to $m$, $1$ to $n-m$, and $1$ to $m$, and the last entry is a singular element for both of them.  Now we can apply the map:"
   ]
  },
  {
   "cell_type": "code",
   "execution_count": 145,
   "metadata": {},
   "outputs": [
    {
     "data": {
      "text/html": [
       "<a class=\"ProveItLink\" href=\"__pv_it/basic_expressions/73986090bca48415f5115ab9d92caaeb3a190a030/expr.ipynb\"><img src=\"data:image/png;base64,iVBORw0KGgoAAAANSUhEUgAABToAAAAZBAMAAADj+ozBAAAAMFBMVEX////MzMxUVFRERES6uroi\n",
       "IiIQEBCYmJhmZmYyMjLu7u52dnaqqqqIiIjc3NwAAACW8nlqAAAAAXRSTlMAQObYZgAAAAlwSFlz\n",
       "AAAOxAAADsQBlSsOGwAACmFJREFUeNrtW3uIXFcZ/2bndXd2djIltIg2ZLCg9BGYdsWApcvQQvyj\n",
       "SrfSlSVUmdYXiI+1G0oi1g62cW2DdQhCIH/otQXbKiFLoEj6gFVImhCrw0qaaF0ZXHxVYnZhQRoh\n",
       "8Z5z7jnnO+d+9557Z69/CDl/DHPP+R6/7/ud950BuF5SlGonV3Oe9bwvT2Nbw9pLIbMvhxT0UsoN\n",
       "0zc2RjeUWiSTywTJ4aiKVDmTb2dvtI3Hei9HY1vEuuYW2Rpc2s8whpbJ5SQjnzSe/gjpZamS7GsE\n",
       "l7iUBpldUYpUqfVznoufMJ5eztPYFrFWncnYKlzKD8UWp+Vccn+ax4NmKb0sWc6lwZ3FpVEuZHZF\n",
       "KVKlOJ9z7yz7+Gl3nsa2inWvU2J3LinY62TrgnuoHc0waI7mMwUdHXGcjvsjziDjvkPgr3nvYydb\n",
       "eAnr5mhsy1hXnDuJbi4pWHF2jIAWzzHU9vPPj/PPRUgva83S3IuXblhncWksFr3MrqKKFG44lHfv\n",
       "rF1BMXpLuRjLCetxPy4ZOcEl/NBsBbRUHEYq3Mhb/Hs3g6y1kea7jEo63FlcGuXLmV1FFSncsJn7\n",
       "JcAR0DFu6+RiLCes4/NxycgLbtRPJY6Ws6mMcFz1fnpZkuWzWXCncxllKZOrqCKFu3Al9975FKJ7\n",
       "p5+LsZywem1H79wy3Kifs3G0sIXg2MpPXjMOTbWL8/C8+DrRUrj4lJ5SlmSZ9MXKsUWo6c2T5dJs\n",
       "BKJClhOWq1EUKdyTM0aY9PLqaLfK24ju80nQYv2t3vaB1w1jGmtmY5iVya6jd57PHGwUseWHsVWY\n",
       "bf5NNYqHE3za6E3u8mawoYl6F54MF/++wsXntJSyJMukL1aWTkN1Xe83TJdmIxAVshwwXY2kSOEe\n",
       "6xthksXVbpUH0O7l1iRosVMPrAwOGsY01szGMCulK47eeWvmYKOILT+MrZffuVuPKPFwAB4OesOw\n",
       "emXM2JfeHEC9JeSnq3CVl9PLkiyTvthIWT4IY/pO2XRpNUK0QpXThqvRFCncxbYRJlnI9t9QJ2yx\n",
       "PDZ1qqYUtPowVsEu34Yn/Q+H34UxhTW7McxKYcPRO6dUsFR4EHtfihFbfgK24F2Y0FsG8XAaPh/I\n",
       "gcdmqxf5lFV7L/jwKwP4qqgorMPB2dkvzs5+CiodKVt77YPM0vG+lBUVSNYYNLOzn/7C7GwL+dLT\n",
       "PXNXC5xVdFSmS9FYOyAOev2ItDDDm3caroTcz0/clqQompEihXu8JVNCL1k6ZRbp5PmBXxBc7uhU\n",
       "HVbQ6FeEPTNKkfYmPKNqAmMYa0pjiEPMamOTTIYBVwRLh+dR53ONWF9MbRpsBe5fVaLhw07RwDgr\n",
       "rIqpfU6sFYUNUVHSE1mlI2U94OtAuSdlRUXJMXcqX6jMhbO8GP9izjdd8sYd58XFcy8izfMtmveY\n",
       "rrhcDw4mKYrmPclzJ1dmYcbMCiplFkf01ux+TkJHp2pOQovZLN5vRhmmnY8FUSOMaaxOYx5YHCJW\n",
       "a5uOuXNOBkuHV1qKdlGEWI/pTatjXMKilwSfD/PMDms+1NF28Bm2aeUVolat7EJ2W6exYciKCiQb\n",
       "t7KHvuzx1g939kLYdCkaT8VJA1+rT6kP7YrLbcLlZoKiaD6V3DvZ3ClSklDM9iL7eBpiLpkhBCVS\n",
       "dVhC8zrxCjpK2Quuws/CmstNE6vTWJFfDCEOEasN18p+WAZLh8dfphTJfssRq7nTWtlL8+Dje2af\n",
       "BXcPwAudD8EEGL3zLii2REW1rXAVB1K26qPImKyoQLIky8pXdXHHyuSCnsYCZ3fB/m+sti7cGXXJ\n",
       "GzExpjTibcFwJeS+iXonoSiaF1L0Th7m4o6L6p2BsoPSoOLi9MwApTDBBvnOoUk3h1aGeAWrd9Y+\n",
       "MtaFpbBGGNNYncYYOswhZrVwNUXv5P1jhluVWwUV++vSgUlyiFilDfthbP0aQM/24mGBXab89v3f\n",
       "hU+YvfM78MC8qBBvBt6SNz2hLEzMmLK8Asny7QPf7L2nQShfL+6Zr7TQCzivVfp3bd+X4FH+fsty\n",
       "yRrNudOQRrwdMlyFivBKoiJv1oocrgIvz8HtMEyGOzxrIDs6DTouRk+jD5RCvWed2W+RWP8B8QpW\n",
       "76xvvNQtLYc1xpm9ncKYmNo0h5hVdJYWhwKVEQSXBRuEx6x+LbShYj8TOrBIFoh12vCZPWCrcPc9\n",
       "r6ieHD4cghsBXlqtLy6bvfP5N34wFBVlvUEqzChZuNE3ZXkFkuXbB/4xp0EoX+/+HrY10Rux2u0X\n",
       "rzaO9WGD9xPLJWs0eqcpjXh7yHAVKhb2JiryZqQ4Z4AP7xC7YZgMdxg4sqPToONi9JTaQCmUmN/H\n",
       "0WT0tsR6H8Qr2HPn9wdnviVrHsf3nd0UxkTv1BxiVqtdMxk6IwguCzawxKzK238V+32hA4tkgVin\n",
       "DfsJ2JqA0z/U13Pi4SEoN83tniwnw4q/oDQ+qDcNH7NkeQWWJU8XytcuuCncxko8fRgbFLp8BxJx\n",
       "GTQaWy4k7U1NfW5qt2huzNiumOKan6jImrEihVsMcxbmrmCnXpgKyrSGi9MQxvXU1EenpubrLVKh\n",
       "IGZiHaOY+gJov4IYBRylWU6BMoaxJhkL0VkcKla9lmNlF3BPAgtvbBAcYbczD0PF6XbpIEIyn9tl\n",
       "2rCfcpPapwa0VHtE75zo174SVoifYYj3//uVwN/hX6Ysr8Cy1oaYX6ZpX4/A7+ByAfH602WoNCfb\n",
       "jfVmxCVvxMSY0npWEb8l0K64XKPXGCYo8masSOFmZ0oR5iPwPYla20FpUHGxyYN1Q0KBr61HUIzs\n",
       "YoJD2w7xCpFTEeqdRyysTmNFi0PM6nhsMjRcHiwLr9L0ek2LU7my2yRbaRufpzqGcVYO2qaJ3lke\n",
       "jC2JCuOH10XJc+POG541ZHlFo+16XSB9NdaDgbWgrx0+A7cHJ89gXFXbvYhL3oiJMaQRb2uWKy63\n",
       "dsP7/ARF3uz8PfghGeY6PPjLsE7bQWlQcYWnIkphcqB+VhSysBRCK0OsQlLvNIwxrE5jRYtDzOpx\n",
       "12v0AK7oHzPMavnmpsXpqnRgkWylzfAzTTlitLwgsZ38j5rN6088HVYU8QuHmuw3lWvX1g1ZXlEc\n",
       "uliWvkot+BH8+Q+q/s2LwfRxL4wPG7v8iEve+M8fv0FLC95487Tlist9/dq1JEXePO3CfVMYZoD7\n",
       "HTmpaDs6DTquosg5pcDiq+LLyGCpE9CCljgFHaVReI1hjGF1GitaHGJWH3MlI4DLg2Vpuxcmf2Fz\n",
       "Oi233RbJVtoeozpGZC5rJP5U/0/G0yVIL0vuJNx/C8jmUh+9g/PAMKMrWpEqY8tZXyoX1c03OUTL\n",
       "hss78EV2zJhOWJdMYxJrkrFiAvLPOmO7A1/sR9+ctR0OKD8UW25a/h9K73+vmP2/OnxB88j8Pgex\n",
       "/yt6DuIUksDG/K8owZgXbyzD/4ro8Hit5zRSHcD1klM5N5raqxQtneh/MuU0N+HHKCQuSG0a60jG\n",
       "Uv0ncykhvLR/J1673qlyKyP+R7wWU+f5MYz6KY0Yk5Ufg3UUY/BsirD2JRnz06UmjR/4LxpUp7Fj\n",
       "ZC40AAAAAElFTkSuQmCC\n",
       "\" style=\"display:inline;vertical-align:middle;\" /></a>"
      ],
      "text/plain": [
       "(x_{1} * y_{1}) +  (x_{2} * y_{2}) +  ... +  (x_{m} * y_{m})+ (y_{1} * y_{m + 1}) +  (y_{2} * y_{m + 2}) +  ... +  (y_{n - m} * y_{m + (n - m)})+ (y_{(n - m) + 1} * x_{1}) +  (y_{(n - m) + 2} * x_{2}) +  ... +  (y_{(n - m) + m} * x_{m}) + (z * z)"
      ]
     },
     "metadata": {},
     "output_type": "display_data"
    }
   ],
   "source": [
    "a_required_len = Equals(Len(a_sub), a_len)\n",
    "b_required_len = Equals(Len(b_sub), a_len)\n",
    "dot_prod_map.apply(*a_sub.entries, *b_sub.entries, \n",
    "                   assumptions=[InSet(i, Integer), InSet(j, Integer), \n",
    "                                InSet(m, Integer), InSet(n, Integer),\n",
    "                                a_required_len, b_required_len],\n",
    "                   requirements=requirements)"
   ]
  },
  {
   "cell_type": "markdown",
   "metadata": {},
   "source": [
    "All of the variables that are indexed by the range parameter (which ranges from the start to the end) must be expanded together unless the indices of the expansion match with iteration indices, not just equal in length."
   ]
  },
  {
   "cell_type": "code",
   "execution_count": 146,
   "metadata": {},
   "outputs": [
    {
     "data": {
      "text/html": [
       "<strong id=\"dot_prod_map\">dot_prod_map:</strong> <a class=\"ProveItLink\" href=\"__pv_it/basic_expressions/a4fb332cc868d3fc53a001b9fcba7ab3d5c0fce90/expr.ipynb\"><img src=\"data:image/png;base64,iVBORw0KGgoAAAANSUhEUgAAAhUAAAAWCAMAAABAMZ7LAAAANlBMVEX///8WFhYNDQ3MzMxUVFRE\n",
       "RES6uroiIiIQEBCYmJhmZmYyMjLu7u52dnaqqqqIiIjc3NwAAACzeusSAAAAAXRSTlMAQObYZgAA\n",
       "AAlwSFlzAAAOxAAADsQBlSsOGwAABGtJREFUaN7tWtuWpSgMpVtBRQT8/59tFFGBBIN61vgwPFSs\n",
       "CiQ72xhuxZhrln2i2Vu97c8c2Q9F+3O7GZ1GfyMrhKnoHEDfAU9z9GNaqqKt5+UunCD1xD7SzEDu\n",
       "GkDTwCved7WOHtCSunscLavmpR5hgOOlGtln2qiovI+xvLYsKx09oyVx9zDainwc7yMMcFYph+9k\n",
       "xSCJHQNoMvhZlx2JAfFwr836RrSi2uUD1DnCAGeVPftQ65HPxyRrqD6Rl/TNquxIp7P8I1oyd6Ro\n",
       "dfVK4z5qCGGA46Qev5QV45HrEWodf1YBNBn81OGOQH6f0TJ1tdG+kxV01BDCAMdJGZYntp2MhXEV\n",
       "VA92UJDRqd0fY9jxbwE0BbwPtDWm1bAjkF+yZZo75NW0L2cFHTWEMMBxMiSI6F2R5r6uqLheF1QP\n",
       "iuzJKGNNmNtGJA80R7KahFDNbgmlZnuoh7HML9UyvObL3CELi/HlrIBQH+TCCHPynex8wqh+MSj9\n",
       "q5giZwXVqh7uFNvIqEuBDZnukaxghp+mlA00AfxmdiWoN4da92V+aZaR2HN38JgExPOsgFAf5MII\n",
       "c/Kd7IWvPfOqh3a7sCpM9I0x3Y2sQPw18/74908XtXkWx7pIRBI25r6H3dv6NE+QI7la7/tVtImH\n",
       "itiL7uAxOwgYQ5G/etRniBDCHY6Tm6Ger6MEtFIGVUdF13eyAvEn0FohxlPfJCsQY92+RF0JEufN\n",
       "mLioFUXLcOwld/AY8XatuHqZO0QI4Q7HSV901LzYH9ZkEaaNEwxUPcuKs1GmjNS5rdhqEx35xDNI\n",
       "Afx5cy5d1dzVKWi4Ft+MPXcHj0lGvzWDYORCCCHyneTGG1pU7ci0VYZti6vwAnMVGCVpi54bXYrr\n",
       "vqMaOJIVY7Rq4+YsEYRnEho/2R7qgZf5LVq+zIrMHTwmAfE8KzLUEbkAQpB8J7ftyGJPuwIjmVUe\n",
       "9j4J5SowymPS2p8KD4dRphSbZLq1ct9m4bzitIfCEZ5a6+LnzsShllOZ36Llq6zI3cFjEhAJhgJ7\n",
       "ZNQRuQBCkHwnm+2dtmZqbGua40vsOgWrJHetX34M5yhD//P0lT8ARk/HOZ1AdvbxMnoDXQCfVKh2\n",
       "2s6Cgzp1lPKLWUZiL7pDxyQgsvkAp5GOOj+wixEC5C8y27eoWfk/acUwFZj7mjKHgJ22jTOz1CVK\n",
       "AI2Dx9YzXp05yqp3yTJ5TVUeYy/WNjdOvIFN6E4u1lLyV5ldFLl5xv8p36buKjBK0iUu1KkJa3Hy\n",
       "5U50k4MgBGnc1Jmj7J6pZJmcFeUxKYgXbseA68Xm4m4kI99LbtPq4u+ilAEKz35NFaK00zj7oxpF\n",
       "SXWwU1ipW07mI4DGwGPuvZriqGA5j73sDh5TES2r5iUnF2sp+ZtUCLryS+aV/UudwszG6cfpAbTi\n",
       "73CHeyDFTnB5C0T9lp9j5GItJT/IWxdf8q04RhFqmKmhKYC+A57mCLcs3+DL/OYfN2PUB7lU8s03\n",
       "/olXGqnY/+2/IRfR/wPQgkE0jYovGAAAAABJRU5ErkJggg==\n",
       "\" style=\"display:inline;vertical-align:middle;\" /></a><br>"
      ],
      "text/plain": [
       "<IPython.core.display.HTML object>"
      ]
     },
     "metadata": {},
     "output_type": "display_data"
    }
   ],
   "source": [
    "b_k = IndexedVar(b, k)\n",
    "b_i_to_j = var_range(b, i, j)\n",
    "dot_prod_map = Lambda((a_i_to_j),\n",
    "                      Add(ExprRange(k, Mult(a_k, b_k), i, j)))"
   ]
  },
  {
   "cell_type": "code",
   "execution_count": 147,
   "metadata": {},
   "outputs": [
    {
     "name": "stdout",
     "output_type": "stream",
     "text": [
      "Expected LambdaApplicationError: Failure to apply (a_{i}, a_{i + 1}, ..., a_{j}) -> ((a_{i} * b_{i}) +  (a_{i + 1} * b_{i + 1}) +  ... +  (a_{j} * b_{j})) to (x_{1}, x_{2}, ..., x_{m}, y_{1}, y_{2}, ..., y_{n - m}, y_{(n - m) + 1}, y_{(n - m) + 2}, ..., y_{(n - m) + m}, z) assuming (i in Integer, j in Integer, m in Integer, n in Integer, |(x_{1}, x_{2}, ..., x_{m},y_{1}, y_{2}, ..., y_{n - m},y_{(n - m) + 1}, y_{(n - m) + 2}, ..., y_{(n - m) + m}, z)| = |(i, (i + 1), ..., j)|):\n",
      "Improper replacement: Improper replacement of (a_{i} * b_{i}), (a_{i + 1} * b_{i + 1}), ..., (a_{j} * b_{j}) via {(a_{i}, a_{i + 1}, ..., a_{j}): (x_{1}, x_{2}, ..., x_{m},y_{1}, y_{2}, ..., y_{n - m},y_{(n - m) + 1}, y_{(n - m) + 2}, ..., y_{(n - m) + m}, z), a: {(a_{i}, a_{i + 1}, ..., a_{j})}}:\n",
      "ExprRange indices failed to match expansion which is necessary because not all of the indexed variables being indexed by the ExprRange parameter are being expanded (a is expanded but b is not): Proof step failed assuming {i in Integer, j in Integer, m in Integer, n in Integer, |(x_{1}, x_{2}, ..., x_{m},y_{1}, y_{2}, ..., y_{n - m},y_{(n - m) + 1}, y_{(n - m) + 2}, ..., y_{(n - m) + m}, z)| = |(i, (i + 1), ..., j)|}:\n",
      "Attempting to instantiate |- forall_{n in NaturalPos} [forall_{f_{1}, f_{2}, ..., f_{n}, i_{1}, i_{2}, ..., i_{n}, j_{1}, j_{2}, ..., j_{n} | ((j_{1} - i_{1} + 1) in Natural), ((j_{2} - i_{2} + 1) in Natural), ..., ((j_{n} - i_{n} + 1) in Natural)} (|(f_{1}(i_{1}), f_{1}(i_{1} + 1), ..., f_{1}(j_{1}), f_{2}(i_{2}), f_{2}(i_{2} + 1), ..., f_{2}(j_{2}), ......, f_{n}(i_{n}), f_{n}(i_{n} + 1), ..., f_{n}(j_{n}))| \\\\  = ((j_{1} - i_{1} + 1) +  (j_{2} - i_{2} + 1) +  ... +  (j_{n} - i_{n} + 1)))] with {n: 4, f: (_a -> (_a + (i - 1)), _a -> (_a + (m + i - 1)), _a -> (_a + (n + i - 1)), _b -> (m + n + i)), i: (1, 1, 1, 1), j: (m, n - m, m, 1)}:\n",
      "Unsatisfied condition: (m - 1 + 1) in Natural. For debugging purposes, this is accessible via Instantiation.unsatisfied_condition with applicable assumptions in Instantiation.condition_assumptions.. \n"
     ]
    }
   ],
   "source": [
    "try:\n",
    "    dot_prod_map.apply(*a_sub.entries, \n",
    "                       assumptions=[InSet(i, Integer), InSet(j, Integer), \n",
    "                                    InSet(m, Integer), InSet(n, Integer),\n",
    "                                    a_required_len],\n",
    "                       requirements=requirements)\n",
    "    assert False, \"Expecting a LambdaApplicationError error; should not make it to this point\"\n",
    "except LambdaApplicationError as e:\n",
    "    print(\"Expected LambdaApplicationError: %s\"%str(e))"
   ]
  },
  {
   "cell_type": "markdown",
   "metadata": {},
   "source": [
    "Let's try an example where the indices do match.  This time, we'll do it properly by proving the equivalences via proofs.  (This is using some advanced concepts to be discussed in later chapters, but we'll probably rearrange this anyway)."
   ]
  },
  {
   "cell_type": "code",
   "execution_count": 148,
   "metadata": {},
   "outputs": [
    {
     "data": {
      "text/html": [
       "<strong id=\"a_i_to_j__partition\">a_i_to_j__partition:</strong> <span style=\"font-size:20px;\"><a class=\"ProveItLink\" href=\"../packages/proveit/core_expr_types/tuples/__pv_it/theorems/1a0f35dd914089b5473d6cf135d661e2318d96e10/expr.ipynb\"><img src=\"data:image/png;base64,iVBORw0KGgoAAAANSUhEUgAAAGEAAAAVBAMAAACkm51HAAAAMFBMVEX////MzMxUVFRERES6uroi\n",
       "IiIQEBCYmJhmZmYyMjLu7u52dnaqqqqIiIjc3NwAAACW8nlqAAAAAXRSTlMAQObYZgAAAAlwSFlz\n",
       "AAAOxAAADsQBlSsOGwAAAZZJREFUOMtjYGB4wIAV4BAGAt4D2MV90fhLP1suYNj2zYGB4TSIK7wA\n",
       "Tf4GA28BmpANiwID1wcGBq4JIN5NdBuiGRhmoQmpPtjOwJDAwMBRgMu5FWh8HQPOBwwBDAxsOD3I\n",
       "BnEpr2loJJihV8s3AaTjJE4dnGDbWebCvKjHJHAbpKMbyOa6q4CqmOsGUDU3WPAlPEz0GAyYHYA6\n",
       "pgPZHAzpqDq4WYA+ZAeHyTwGhA4Jriigjhgg+x7DH1QdMhxA1TwJIOYEJB3sBw4DxVKA7AU8v0BC\n",
       "K0NBIBAkwHaBgYERGPYMjKlAoWCoDgYtJqgOBo4ANF+fB7oe5DIGLgMkOxgWcUFdxcC6AU3HJC6g\n",
       "q8DGBCDrYLwANMAWxHnvgBZWX7iBPgcbfxcuaAjEF4Fim0CcejQrGD88BzoVbDEnPKHOATkfGBCi\n",
       "II4yeuypA+ODFWwxl7IXREjymwEkFbIKAHm52OL8KYRi2QxNJTDA3sCgw/4Lm452XMnHjvEPK7ZM\n",
       "xWeAS8diht4WbOLMOLMt3wXs4vdwqAcAm2BTMnZHJccAAAAASUVORK5CYII=\n",
       "\" style=\"display:inline;vertical-align:middle;\" /></a> <a class=\"ProveItLink\" href=\"__pv_it/basic_expressions/34241dd1cbb534e4395f77cebcc3fe7b0c05fb4f0/proof.ipynb\" style=\"text-decoration: none\">&nbsp;&#x22A2;&nbsp;&nbsp;</a><a class=\"ProveItLink\" href=\"__pv_it/basic_expressions/b97abdb81160a10934b30814ddd40eeb5b3085c00/expr.ipynb\"><img src=\"data:image/png;base64,iVBORw0KGgoAAAANSUhEUgAAAMIAAAAvBAMAAABDFQheAAAAMFBMVEX////MzMxUVFRERES6uroi\n",
       "IiIQEBCYmJhmZmYyMjLu7u52dnaqqqqIiIjc3NwAAACW8nlqAAAAAXRSTlMAQObYZgAAAAlwSFlz\n",
       "AAAOxAAADsQBlSsOGwAAAolJREFUWMPtlj9oFEEUxj9N7rKZWy/XaGe0FTk4uMLKMzbphDMkEBIL\n",
       "IYKQQgJWqdwmlYXXWXqJkCIkntofXHOBGAhnICQQCEvsIkIKG4OCb/bfzWYz40Ledj7Yu7mZ9+7b\n",
       "mXnz5gfAxaWtaBy91rm8wmDPNLoNBts3jIkGh8JwUz9mLXAoDDn6sTxYbF4/tMWj8FY/9Fom290j\n",
       "JRmO2z/SJmk/7rNZfNwdOAM+BJn3Ag+aEGlOiR+HEj2L8vfSlLSJc15PKJ2ew6oDbb9jdQFLQCF8\n",
       "ObGoT0M/Do/p2dS/xzNKp1PkPkYdb4DZoCkT5OaePg2VuFtGhXwFrbGoYw7iZ9CsyI+uPg2VuHG9\n",
       "Aq1Sq4dXwKPb/tT/YOgUg7spFPw4cdAJvS7eh/vk2cEd+6RHm0YnU/zG1cbOxkhTVUieWIEgzrVs\n",
       "WRVe6udAaTbQs6et4nod4pcn2XWck646B6+/1VAa3ocXh7WCEyS9xq5TXPnT8VfyB6boZVcOR8sl\n",
       "0rGq1bnqPX8Osj8n/2gaQSM3E8ZhWNadSb1CrhSu6jJgh8shzkrqKtnJZfoStUbo6BTrKWrWlkWn\n",
       "IOy1G46qUEjG9dP7xr/qZy34XjkCNqKNLLuBwvd3baW/v9P9MiPT7pvp6L9X2ueuqoqmX96M8bpT\n",
       "M5Yv/Q3opLl7Hj4lPRfZmXXQxH/jsCx3qchFZGZU2850gfa5iMyEajxEZip7+YzzaJ6LyAy0xERk\n",
       "BlRjIjIDqjERWcw1jmpMRAbVNY5qTEQG1TWOakxEFlOIoxoTkUUKSVRjIrJIIYlqHER2pUpW812T\n",
       "qMZDZMo+JFCNh8gUhSSqsRCZZ57rBajGQmRGVOMgskxRTUtk4cBfZrAsnxp7J0MAAAAASUVORK5C\n",
       "YII=\n",
       "\" style=\"display:inline;vertical-align:middle;\" /></a></span><br>"
      ],
      "text/plain": [
       "<IPython.core.display.HTML object>"
      ]
     },
     "metadata": {},
     "output_type": "display_data"
    }
   ],
   "source": [
    "from proveit.numbers import subtract, Natural\n",
    "j_m_1 = subtract(j, one)\n",
    "j_m_i = subtract(j, i)\n",
    "j_m_i__in__Natural = InSet(j_m_i, Natural)\n",
    "a_i_to_j__partition = \\\n",
    "    a_i_to_j.partition(j_m_1, assumptions=[j_m_i__in__Natural])"
   ]
  },
  {
   "cell_type": "code",
   "execution_count": 149,
   "metadata": {},
   "outputs": [
    {
     "data": {
      "text/html": [
       "<span style=\"font-size:20px;\"><a class=\"ProveItLink\" href=\"../packages/proveit/core_expr_types/tuples/__pv_it/theorems/1a0f35dd914089b5473d6cf135d661e2318d96e10/expr.ipynb\"><img src=\"data:image/png;base64,iVBORw0KGgoAAAANSUhEUgAAAGEAAAAVBAMAAACkm51HAAAAMFBMVEX////MzMxUVFRERES6uroi\n",
       "IiIQEBCYmJhmZmYyMjLu7u52dnaqqqqIiIjc3NwAAACW8nlqAAAAAXRSTlMAQObYZgAAAAlwSFlz\n",
       "AAAOxAAADsQBlSsOGwAAAZZJREFUOMtjYGB4wIAV4BAGAt4D2MV90fhLP1suYNj2zYGB4TSIK7wA\n",
       "Tf4GA28BmpANiwID1wcGBq4JIN5NdBuiGRhmoQmpPtjOwJDAwMBRgMu5FWh8HQPOBwwBDAxsOD3I\n",
       "BnEpr2loJJihV8s3AaTjJE4dnGDbWebCvKjHJHAbpKMbyOa6q4CqmOsGUDU3WPAlPEz0GAyYHYA6\n",
       "pgPZHAzpqDq4WYA+ZAeHyTwGhA4Jriigjhgg+x7DH1QdMhxA1TwJIOYEJB3sBw4DxVKA7AU8v0BC\n",
       "K0NBIBAkwHaBgYERGPYMjKlAoWCoDgYtJqgOBo4ANF+fB7oe5DIGLgMkOxgWcUFdxcC6AU3HJC6g\n",
       "q8DGBCDrYLwANMAWxHnvgBZWX7iBPgcbfxcuaAjEF4Fim0CcejQrGD88BzoVbDEnPKHOATkfGBCi\n",
       "II4yeuypA+ODFWwxl7IXREjymwEkFbIKAHm52OL8KYRi2QxNJTDA3sCgw/4Lm452XMnHjvEPK7ZM\n",
       "xWeAS8diht4WbOLMOLMt3wXs4vdwqAcAm2BTMnZHJccAAAAASUVORK5CYII=\n",
       "\" style=\"display:inline;vertical-align:middle;\" /></a> <a class=\"ProveItLink\" href=\"__pv_it/basic_expressions/9760cc797121987337d40a6f931d163a7c0935b60/proof.ipynb\" style=\"text-decoration: none\">&nbsp;&#x22A2;&nbsp;&nbsp;</a><a class=\"ProveItLink\" href=\"__pv_it/basic_expressions/5f6cfbfc3fcb52c30b1b616e353a53cc3e835c570/expr.ipynb\"><img src=\"data:image/png;base64,iVBORw0KGgoAAAANSUhEUgAAAZcAAAAWBAMAAAD+08z3AAAAMFBMVEX///9UVFREREQiIiIQEBCY\n",
       "mJhmZmYyMjLu7u6qqqrMzMyIiIi6urp2dnbc3NwAAABm9RoHAAAAAXRSTlMAQObYZgAAAAlwSFlz\n",
       "AAAOxAAADsQBlSsOGwAAAtZJREFUWMO1l01oE0EUx5/5WHdNsu3NQxBCwJNQI4WiolAKggeR4MEe\n",
       "DRSPxb0I3tyKglowgQjxUgnqTdAVsYeKoYee9FJPgvGw1UtBhNysqODszuzu2928EOzLg2yGeXnz\n",
       "z29n5s0bcME39bUfk0OYw7s5BEgzg+cXv1Fo7X/ID/6ztJno5hMgregoZam1xjBkoT4CZg0maW8w\n",
       "jG5xDHmDhuERIO2gjWC0OseQl2kYHgHS8g0Ek2MZMmeTMDmYrJ1HMB2eya6TMJ0Jw1xHMMteZjvS\n",
       "cyLvTv/7uHkxjCtNkzA8ArTjI4LxwLbczB7AA5XsLsJxG/RxDgcZB12xcq0QZmnWsxMhDI8A7VhE\n",
       "MKdEvjkHWg2gL393uw5Lwh2A64uklIqD0wDGPDkzPALS7lhpx0MEc0HkmwFkt8MRrgGcVU0vUTx/\n",
       "TWqhuEMDEoZHQKq8raUdL+MwuQo0o/+xAPof1ax4jzadwqK44vwoGAYBaUYt7diKL7OmA1dESTIt\n",
       "Z/A35AdQfDWGlozT11tKZfie4RGIw2BHG8EcE64WHDZ2HbGjxGmh/4ID1uPVKRtr2enlDCrO1Qyx\n",
       "kPMVcmZ4BCKYpOMSghGZLeMYc5p5rwb6T1+83WjstvGL8/ubFmr4Dz8O7pbEyte2SRgegQgm6VhG\n",
       "ME/FCOXPOxviBwCz4g2tvHtR7gpFrVpdqB6VL87rz3qRc6Aa2ZNBnH9gZjdJGBaBJ1Vhrg+TUIYz\n",
       "CCYbJPHmfUEeTLe+18WrwEgvg0dha0qcGN/o2oxHAO2ZuMOsIZh8MIcdTXSGUVYDa5XSmzNKmc/E\n",
       "5yoNwyOAYOIOrY7vMzPKs9IDWA23X9lVWj9u9lF/tD+jMkPkJbMy4j7DIaCKmE9/naTja+xydguN\n",
       "kCiEKkS/dx2LVXoZdwQMhwDtmFHKGxLXIfN8Y5x6+b04L3tSJllD8QmQjoI7VPk/TVu3J1vikwIx\n",
       "xz/4vlYa8Sj6nwAAAABJRU5ErkJggg==\n",
       "\" style=\"display:inline;vertical-align:middle;\" /></a></span>"
      ],
      "text/plain": [
       "{(j - i) in Natural} |- |(a_{i}, a_{i + 1}, ..., a_{j})| = |(a_{i}, a_{i + 1}, ..., a_{j - 1}, a_{j})|"
      ]
     },
     "metadata": {},
     "output_type": "display_data"
    }
   ],
   "source": [
    "a_i_to_j__partition.substitution(Lambda(x, Len(x)))"
   ]
  },
  {
   "cell_type": "code",
   "execution_count": 150,
   "metadata": {},
   "outputs": [
    {
     "data": {
      "text/html": [
       "<strong id=\"i_to_j\">i_to_j:</strong> <a class=\"ProveItLink\" href=\"__pv_it/basic_expressions/63eed09e6f2e98b25ec5b4e7089e2dc2dbc004740/expr.ipynb\"><img src=\"data:image/png;base64,iVBORw0KGgoAAAANSUhEUgAAAIYAAAAVBAMAAABxpYtPAAAAMFBMVEX///9ERETc3NxUVFQyMjKq\n",
       "qqrMzMwQEBC6urqYmJju7u52dnYiIiJmZmaIiIgAAACrFvqoAAAAAXRSTlMAQObYZgAAAAlwSFlz\n",
       "AAAOxAAADsQBlSsOGwAAAZdJREFUOMuVlL9Lw0AUx1+TJmmTNGZ26iqIdJNuATenzA52cjabm2QT\n",
       "F8nqUAzo3OZPEESHGqFDl0KHojgWRDqUTr67XNIcvV7rg1zux3uf3Pu+uwCsTAGhNeEf9i2evtsh\n",
       "dMbeWgLgDPk1fYBzkTRc38fmnQ2e8LETbv1xtMT2VMpwvNJgXOrf5g6E0d1djqDUPy8zjHhXhOZt\n",
       "YlSjLaHmjHk0UIreWMSwWpL43hc61FgO5GvJjYhR9ySMoRHBRYN52D7o/kjE0AJJVZp7PsTGNBsZ\n",
       "IZhwTXqTNL1K05eCof9IpIAOKt6JCwZoS9E+aoFM0Ak+J2aRC1RbsSiXZxkDj6i5sIBSKphTP0xE\n",
       "mrp002tGv6csSLIH0PdYBS+ViGdYv6zq1MecA2uKEdSJWO0I7AFRDnes3vN6qMfzNmYZklSJzwew\n",
       "xiZ3MyUbUV0WckaaN8E5pXa48uFPNmHkZQWqQldw50qXMVljWLgL/4FVwaSsyoYfluKufPhjjgL6\n",
       "r7n6GckVMzK2s76A1MYs5OeOxIzPbTf+D3HNZQExpEiwAAAAAElFTkSuQmCC\n",
       "\" style=\"display:inline;vertical-align:middle;\" /></a><br>"
      ],
      "text/plain": [
       "<IPython.core.display.HTML object>"
      ]
     },
     "metadata": {},
     "output_type": "display_data"
    }
   ],
   "source": [
    "i_to_j = ExprRange(k, k, i, j)"
   ]
  },
  {
   "cell_type": "code",
   "execution_count": 151,
   "metadata": {},
   "outputs": [
    {
     "data": {
      "text/html": [
       "<strong id=\"i_to_j__partition\">i_to_j__partition:</strong> <span style=\"font-size:20px;\"><a class=\"ProveItLink\" href=\"../packages/proveit/core_expr_types/tuples/__pv_it/theorems/1a0f35dd914089b5473d6cf135d661e2318d96e10/expr.ipynb\"><img src=\"data:image/png;base64,iVBORw0KGgoAAAANSUhEUgAAAGEAAAAVBAMAAACkm51HAAAAMFBMVEX////MzMxUVFRERES6uroi\n",
       "IiIQEBCYmJhmZmYyMjLu7u52dnaqqqqIiIjc3NwAAACW8nlqAAAAAXRSTlMAQObYZgAAAAlwSFlz\n",
       "AAAOxAAADsQBlSsOGwAAAZZJREFUOMtjYGB4wIAV4BAGAt4D2MV90fhLP1suYNj2zYGB4TSIK7wA\n",
       "Tf4GA28BmpANiwID1wcGBq4JIN5NdBuiGRhmoQmpPtjOwJDAwMBRgMu5FWh8HQPOBwwBDAxsOD3I\n",
       "BnEpr2loJJihV8s3AaTjJE4dnGDbWebCvKjHJHAbpKMbyOa6q4CqmOsGUDU3WPAlPEz0GAyYHYA6\n",
       "pgPZHAzpqDq4WYA+ZAeHyTwGhA4Jriigjhgg+x7DH1QdMhxA1TwJIOYEJB3sBw4DxVKA7AU8v0BC\n",
       "K0NBIBAkwHaBgYERGPYMjKlAoWCoDgYtJqgOBo4ANF+fB7oe5DIGLgMkOxgWcUFdxcC6AU3HJC6g\n",
       "q8DGBCDrYLwANMAWxHnvgBZWX7iBPgcbfxcuaAjEF4Fim0CcejQrGD88BzoVbDEnPKHOATkfGBCi\n",
       "II4yeuypA+ODFWwxl7IXREjymwEkFbIKAHm52OL8KYRi2QxNJTDA3sCgw/4Lm452XMnHjvEPK7ZM\n",
       "xWeAS8diht4WbOLMOLMt3wXs4vdwqAcAm2BTMnZHJccAAAAASUVORK5CYII=\n",
       "\" style=\"display:inline;vertical-align:middle;\" /></a> <a class=\"ProveItLink\" href=\"__pv_it/basic_expressions/3ea862b57a56008170ace744645604b26fa3f8d10/proof.ipynb\" style=\"text-decoration: none\">&nbsp;&#x22A2;&nbsp;&nbsp;</a><a class=\"ProveItLink\" href=\"__pv_it/basic_expressions/98edd8c696c63d2db436d2e3c2955657453400430/expr.ipynb\"><img src=\"data:image/png;base64,iVBORw0KGgoAAAANSUhEUgAAAN0AAAAuBAMAAABe7AGeAAAAMFBMVEX////MzMxUVFRERES6uroi\n",
       "IiIQEBCYmJhmZmYyMjLu7u52dnaqqqqIiIjc3NwAAACW8nlqAAAAAXRSTlMAQObYZgAAAAlwSFlz\n",
       "AAAOxAAADsQBlSsOGwAAAyVJREFUWMPtmL1rFEEYxt+73O597Z1p7IQcFsYytaBclS6QhKxIkuIK\n",
       "bQTxwMJYmSYcwWYJSCCNi1YpQo78A26joBYGG6+QeCDBKpAiTVKI87W7MzezMwuznb6wm/145n3m\n",
       "Y/fd3wUAxpBGG5QxBlOYFXG0Iu7kh1qzYMyykNvvC9pG7NgbIv9N8X5pFV3ra1OU7pgUaTQCtFtj\n",
       "J/toc4bC/bfbV2i/p5+iwKRIo8Z3bJAeVuLrLey3YcyzkdPP5U966aF3zPu5oTFPmM/vE3fsBVl+\n",
       "dePy1HMu4Cu0hCOmraGlOxio/JodTYqDbyYFF7tIWumlfRzOq/yqgSbFptuPFVs+jmWNeB3gRo1l\n",
       "cyIoRdsqP6+neTrH1yK9go+HAKHLcrtdaMATPLG+f/+R73cSv9K55o2Cr6FeMeFH9MwPvCvV+Cra\n",
       "3m8ZFcJ8wk4jmU+od0LVfC7qcqwlCvP63UUTctEE4jiFPA67Q9XzMkcmTgrSt/ZFrMgRR3jqf8Nh\n",
       "wJ7pmXZf9Gv+YW8K0TQuge2SM6iex4occR1ts31wVvFTgeak/Fxcv/Kty1k001083VjzANjOwXXd\n",
       "xwMs46ERRY5wpunfz3i3pKgvJE5TjRAe9iOP92nO+llln5/hRNGtCPVpkGqEaKLRRS9DsdTr4x59\n",
       "ichwpjI+0+25VCOWMrTg0XqiyBPv6FNIXTNa0X605BuoB7VRV9NTRd/5Xp+pNSfGLCfwP/6RsOfd\n",
       "ds7r44J4N6MVVI4Vaex5F7fCzDtRmFHV+S5DcQG8ux8zL//Rv/0G+dVDCYoL4F116fwZpsWZg+IC\n",
       "eLeX6QePJSi2510vyPbblaDYnnfJl50wr+x3JEGxPe+SsRPmlf1eSFBsz7uY6ijzyn4fJSi2511M\n",
       "rZR5ofGa8OB04jcjQbE977rdmHnl8c1LUGzPu04EXMkQ/T5IUGzPu7gVZV7Z75kExfa8S96VqrTA\n",
       "78f01+UEFNvzLm5FmZePm093UMdXYBKKC+DdpZh55Q/gogTF1ryLWzHmzfjnhwjFtryLW1HmleOX\n",
       "AopteRe3osybxe4iFBfAu2eZv+ylNH8B2Vk+C240tIcAAAAASUVORK5CYII=\n",
       "\" style=\"display:inline;vertical-align:middle;\" /></a></span><br>"
      ],
      "text/plain": [
       "<IPython.core.display.HTML object>"
      ]
     },
     "metadata": {},
     "output_type": "display_data"
    }
   ],
   "source": [
    "i_to_j__partition = i_to_j.partition(j_m_1, assumptions=[j_m_i__in__Natural])"
   ]
  },
  {
   "cell_type": "code",
   "execution_count": 152,
   "metadata": {},
   "outputs": [
    {
     "data": {
      "text/html": [
       "<span style=\"font-size:20px;\"><a class=\"ProveItLink\" href=\"../packages/proveit/core_expr_types/tuples/__pv_it/theorems/1a0f35dd914089b5473d6cf135d661e2318d96e10/expr.ipynb\"><img src=\"data:image/png;base64,iVBORw0KGgoAAAANSUhEUgAAAGEAAAAVBAMAAACkm51HAAAAMFBMVEX////MzMxUVFRERES6uroi\n",
       "IiIQEBCYmJhmZmYyMjLu7u52dnaqqqqIiIjc3NwAAACW8nlqAAAAAXRSTlMAQObYZgAAAAlwSFlz\n",
       "AAAOxAAADsQBlSsOGwAAAZZJREFUOMtjYGB4wIAV4BAGAt4D2MV90fhLP1suYNj2zYGB4TSIK7wA\n",
       "Tf4GA28BmpANiwID1wcGBq4JIN5NdBuiGRhmoQmpPtjOwJDAwMBRgMu5FWh8HQPOBwwBDAxsOD3I\n",
       "BnEpr2loJJihV8s3AaTjJE4dnGDbWebCvKjHJHAbpKMbyOa6q4CqmOsGUDU3WPAlPEz0GAyYHYA6\n",
       "pgPZHAzpqDq4WYA+ZAeHyTwGhA4Jriigjhgg+x7DH1QdMhxA1TwJIOYEJB3sBw4DxVKA7AU8v0BC\n",
       "K0NBIBAkwHaBgYERGPYMjKlAoWCoDgYtJqgOBo4ANF+fB7oe5DIGLgMkOxgWcUFdxcC6AU3HJC6g\n",
       "q8DGBCDrYLwANMAWxHnvgBZWX7iBPgcbfxcuaAjEF4Fim0CcejQrGD88BzoVbDEnPKHOATkfGBCi\n",
       "II4yeuypA+ODFWwxl7IXREjymwEkFbIKAHm52OL8KYRi2QxNJTDA3sCgw/4Lm452XMnHjvEPK7ZM\n",
       "xWeAS8diht4WbOLMOLMt3wXs4vdwqAcAm2BTMnZHJccAAAAASUVORK5CYII=\n",
       "\" style=\"display:inline;vertical-align:middle;\" /></a> <a class=\"ProveItLink\" href=\"__pv_it/basic_expressions/dd73be96e19904d25933fe8e55a319f426121dfa0/proof.ipynb\" style=\"text-decoration: none\">&nbsp;&#x22A2;&nbsp;&nbsp;</a><a class=\"ProveItLink\" href=\"__pv_it/basic_expressions/516f532e2b45e6821b3f139087877aac1621b9ed0/expr.ipynb\"><img src=\"data:image/png;base64,iVBORw0KGgoAAAANSUhEUgAAAbUAAAAVBAMAAAAz7220AAAAMFBMVEX///9UVFREREQiIiIQEBCY\n",
       "mJhmZmYyMjLu7u6qqqrMzMyIiIi6urp2dnbc3NwAAABm9RoHAAAAAXRSTlMAQObYZgAAAAlwSFlz\n",
       "AAAOxAAADsQBlSsOGwAABAdJREFUWMOFWE1oE0EUfm3S/G+MYgVvPQpCqUSkSoWACoUKhoL22EAp\n",
       "PWghRQreXL146KGBFiqIWOzJU+KhLa1Qc0hPXpJ7wVDx1IPe2kIR52933szOzD7Y3Y+3L2++b+ft\n",
       "25lAH5iJSwTHu6UVzXFF5RLB8e5YBn1TGnI+YiDfkLcwxvYjTluhxS5Hmttrs8secu05E9jMRkxn\n",
       "xtOQYTmTj+TYEbcwDiw3TlJXnSPnbsC2Q1u2SzLUuAfj0LZ8EAlsRonBZz+GGQnYxtoydXK6z+9h\n",
       "HNibhTNyfuV+qnVI+3Zt78iR6HIPxsIy116TH6d9xwCMGOzGMdsVaQJtKSQc40KA8zTDs7iiHKrZ\n",
       "tc0jD8aHAfjuBwksljLWjYkZSxNoS6IbGGdbOEPSjxM3addWQR6MP2BtPIHFkmDVpjObRNo2kH/D\n",
       "qi1djdO2bNWWraOsdau2ZUfyDbs2ndky0rZIqnlH3MdY1eaVHCOvfCWnnlVbirxeK6IWMda09Rwj\n",
       "LNJ37lvJpE0y4wE9pI3o9AqVUHOIVW1DdcfItSR5HjOhtrkytVuhNvpkux0eirGmbSamKFLwyKRN\n",
       "MuMBM0jbXYAvKXEfY1VbtuLokv1L5Ouzbp23RANyjQXuwFjTtu7QRojBAZybtElmPGAdaXsM4CeF\n",
       "jhCnyuXbD8rlUpgh99fRoOET4da0aku2SciUaAohJrP7UMwu19Z0aCPEwM9SIpmXrCo2Dcx4QFPV\n",
       "xrjpWJ23QsXVR+bI0XFpAzashrV568Rog9SYad4QMxbQUWsSljJy6gOs1eSYSxv93K9Z3zdSh5Au\n",
       "+UFNhljTthZTk/onP8qMBawhbTfJPF94kEHY1EtGWPFFy5EtTS/Iado6b4Mk02q7Cz7CBm0sQfQz\n",
       "6gtiAH/axl4imbGAaaStR0v2N6zWJVa1ef9E72YxmVMdkPR/RZs2a6Ndulmssh8IrGn72Q/6/Klx\n",
       "GP59mNVlq8xEwCLStkWO4SokxiVWtA1cPR0m082Ki8bcoaAWgHEWQh/dhFVbjlTNwFOAsi+xou3y\n",
       "k6WqSEBjZPaa8DBicEVLrjPjARNIW2KTR75HWJk3Zr/CGNWYh7bW4ph9zXVPZPQlVueNFfZYGKMY\n",
       "8zBiU8ZXETGbCtIE2oI1ahfU9WpBWcvMhzGqEc9AY9YPVrNmbWI564G2tD2MLoe9yAieIHl96Myo\n",
       "LWTGA1iacP82yrtCS2LDrnhExii9hHiaDdrFjh37t0G+OV5BOGrHMkZd0HGSufNEw8lMBBwre9O3\n",
       "vOcgHDXOKB9dktAntdMOn4pZW4aNDy2EozYqYxRrCWLPX8Qw4wGjYth9rhzlK1p29gdxu4A8n459\n",
       "3c1f4BPkOnEmsP4fY/vL4cCUJr/5HxGdYtVy6Gc/AAAAAElFTkSuQmCC\n",
       "\" style=\"display:inline;vertical-align:middle;\" /></a></span>"
      ],
      "text/plain": [
       "{(j - i) in Natural} |- |(i, (i + 1), ..., j)| = |(i, (i + 1), ..., (j - 1), j)|"
      ]
     },
     "metadata": {},
     "output_type": "display_data"
    }
   ],
   "source": [
    "i_to_j__partition.substitution(Lambda(x, Len(x)))"
   ]
  },
  {
   "cell_type": "code",
   "execution_count": 153,
   "metadata": {},
   "outputs": [
    {
     "data": {
      "text/html": [
       "<strong id=\"a_sub\">a_sub:</strong> <a class=\"ProveItLink\" href=\"__pv_it/basic_expressions/9527b62f6c6d7140a64245dc33a2fb89bed763180/expr.ipynb\"><img src=\"data:image/png;base64,iVBORw0KGgoAAAANSUhEUgAAAMIAAAAWBAMAAABgYF47AAAAMFBMVEX////MzMxUVFRERES6uroi\n",
       "IiIQEBCYmJhmZmYyMjLu7u52dnaqqqqIiIjc3NwAAACW8nlqAAAAAXRSTlMAQObYZgAAAAlwSFlz\n",
       "AAAOxAAADsQBlSsOGwAAAfxJREFUSMe1Vj1Iw1AQ/rRWYxprF938WUUKhQ5O/i1uQgWFog6CguAg\n",
       "BadOZnFyMJujsYKDqFX3QpcIVZBYEAVBgm6K4OBiUfBeftqX1JQO5iCPy3338b28u1wCwEBwFmVL\n",
       "VzFAhTadlmsEafeAqASq0KlCyASq0CGjHcHaGkoBK+xim/XU8JNeiz0X3pvtRRfvb+CCNIApI1QB\n",
       "Tu0GW8e4CrGZt8TiIdYIyGKR2mkVQgooWOhhBltAxNmDmPUVsHmY8abywCVWAOED4bMqbwdYsF2Z\n",
       "rr47XwU3j0vlgQGm0J5AfqKatwzx03YTbNF8Fdw8LpUHptgp5XVsAtOD1hP+oOMDbeUmFCye+FD0\n",
       "KvCAhlEKFDEkvepUG5Xi32hVbk66VV5Bra8BbJ4hSAqv4AU2qJsQ0qW0ED1OQfyi0Cg0WX7V+Gcw\n",
       "43mFc8zF5OEoIvMKXmAbPcSLnz/fUhiYo83mHvvjMdIRksnl5IhFY/Ewy0/DdsLzDg+dmZYk2ZiV\n",
       "6gLofhZhp5vz+4DkHIdYifGnJNUf01XV6zZcdXAD0RQbTZaVBHoLHFBSZF4hUl/mWpv2unvJDbDB\n",
       "Ombf556Ak2oh44at8LZX4OK1StfGRdlxzFQP8ELXAcfzTJmET5x9GfnZ1gBg+4/qvg0vN/OJmVxq\n",
       "AHT9w0+A8KA2Bn4BLcanWR3cLV4AAAAASUVORK5CYII=\n",
       "\" style=\"display:inline;vertical-align:middle;\" /></a><br>"
      ],
      "text/plain": [
       "<IPython.core.display.HTML object>"
      ]
     },
     "metadata": {},
     "output_type": "display_data"
    }
   ],
   "source": [
    "a_sub = a_i_to_j__partition.rhs"
   ]
  },
  {
   "cell_type": "markdown",
   "metadata": {},
   "source": [
    "Now, with sufficient assumptions, we can explicitly do the expansion for just the $a$ variable, but the $b$ variable will be forced to split at the same locations."
   ]
  },
  {
   "cell_type": "code",
   "execution_count": 154,
   "metadata": {},
   "outputs": [
    {
     "data": {
      "text/html": [
       "<strong id=\"assumptions\">assumptions:</strong> <a class=\"ProveItLink\" href=\"__pv_it/basic_expressions/231844efcc2950b7761cab348d3714e734d1cb4f0/expr.ipynb\"><img src=\"data:image/png;base64,iVBORw0KGgoAAAANSUhEUgAAAocAAAAXBAMAAACLw/i7AAAAMFBMVEX////MzMxUVFRERES6uroi\n",
       "IiIQEBCYmJhmZmYyMjLu7u52dnaqqqqIiIjc3NwAAACW8nlqAAAAAXRSTlMAQObYZgAAAAlwSFlz\n",
       "AAAOxAAADsQBlSsOGwAABvxJREFUWMPdWH2IVFUUP/P95s6HQ5EYVI6ISaXyalPQ1KZ/lj4QZrEJ\n",
       "0/4Y2EIKzIH+KP8QJyrMTBoqFKSP1y4VRttutvQBCQNisAr1NMItdRkUiQppIVlwM+nec+997955\n",
       "c99OxPzjEXfuO/ee3zn3d8/9BIAW/cckDz0Ug4uW9hMoz632Jd9lO+gSqNsAUJ9rwjh+ne0liRvw\n",
       "b6bUpuaeaQieqOUgQIjEXQUxIBPbn165cavBNLt/5q3Kqpr4OttdAB/+tdqBL2dKqD8hHGfHekli\n",
       "rhZCIg0BJoVGLUuJbJYARomsgdMaibm6Vv/jIkhDQ37d6OjB3VOARloyOsbhdJkMBrA2XgQyjXrS\n",
       "EI4PQU/loJlEFgJs4Qq1LGVoz6wEMA9SA9KOSmJCz4lXAU5nvCT/WTe26pSKb8XHIQGny5ZgAEta\n",
       "XwFUUW/VhOPdvSXxBTOJljLGajkuy7lZCRAmqXrIdF4BxB42WUZbMExs8bE7tAeKLLPTLSijPikd\n",
       "V3tLYtIxkphUm6lLlauSmHTmcvFMBxJzKyuPs18HrMKiQPqKSgLwYrQglNXQHrCVoVLBPF2xM99g\n",
       "JFL9hHCcbfSWxHTNSOKEugEYSUzX5nJxIEhi/F2P+hsi9fatyK+MFBdIp43QHgA89ItM7mjhDCOR\n",
       "6vcKxxZbQ84fuaRs9XdNuV0ypNlpxwUPI1M0kkhDIJOCIrWsk4gAJhk5Rf8cVkgc4bPyNz9918Rk\n",
       "mZwrtlfGHLmTIA8IpwiGxAPIH/RXCDtWKqP+gHDMeI4/C/f7wP2t2Gx3HOp2qvgYqYYk0aqgFL0u\n",
       "0xAy8aqXTV5ZJzEVNlXqSRr+DoXEsX78ec9P67Gd3roLW9sq4UTKVfMN4RTBkHgA6ZZP4gKyuYz6\n",
       "J4TjBN26PqrBK5R23oxsBYs2+awLErkdRAIVAgPoepOtGjORhnCLJShSyzqJ2ZBFO9eaR8P/zicx\n",
       "0tyDvz7xygFnCq62VfoHHOSBwymCIfEA0spelWoeraL+SeE4Sfv3Bm7lGR67NY3HhCPS5mNzJnA7\n",
       "SMi1meyQY84xYIB2a9pIIg3BSQrCvDLN18eeEvmKJCKAQQj8QGfCQp9EAtuQS4pQ2ciP0NQ34a2d\n",
       "7GxbZa45zvYeEDxwODiEM2YAREg8gPlMZ3MS4c5oFfUqiYNALvubkQ2jJZn/tOm5srEPmh2VW38K\n",
       "YsSrYSTyqNvKeibGQ48PbCb0K9OZ8+SdW2jpAh5leH/KeiUM520kRfDA4VRhIfEAhpVMhCFSRr0y\n",
       "nck/kPKHe9SFXXLZxbCMJOp2TI4FMdC885rIQniTeNPZK7dN53IYiVukV0Fiuogj4dlEC7TPo/pB\n",
       "3AdcROkl0950Dhz3MSQeQEIlMeLaqF8nHMdcIFch2vg+fgoPTjDahDuyrQ1FlUQSjJ7Gyu1g5HWN\n",
       "RMfDIJM0sJRtzEQaArmc4eCi3GljsUFOOX0m457JZsJzAhE9l5Coc7LZgjg94CwRrf/kYXiVkfqD\n",
       "lOYyGsZcCac6YSFhAJDzTix30/8nbdQfFl1hG/g6OFavj8xzYLTB0LKbLOLOqiQyPf4hV9QC2kF9\n",
       "QiURKxADLHb2wqNDZxIPs3XlVw4uyjqJmWvi7IGgum+04jNhL0dE9cI87q9puUGsoZfCC0dFazE7\n",
       "vMqYcxDya200xINM28TiIVk8f9+RSlaweM9uEl2JUI6Gzty2vPA7ZSBBb/xk+efnT+Y/LaskMj0k\n",
       "2KF1kyxUHGFHnK+1TGQViAGfZGjDRMlIIgthaY2Di7JGYvT2K0sFAAP1fWNhMzZhWfKoQGSNos/z\n",
       "FFr8MF+RB/f3rZq5T7ReDFol9K8e7Ns+OIaGjAcOpwoLKcGDH7qXT4ebZ2x+1ad6tqViVwakAZvg\n",
       "x71TqAsv9a3q66vxJeF48BnJUW4MkT4q6zmJSgU7e100353lrn5c3eHVTES52OZNCobEds98WSCq\n",
       "jeJf8Jud1nqboRINBwRcQC6K30dWVhptenZtH1fv12SW9sN7Ahn9QNtYgs9lGb94TctEpWJeS9zr\n",
       "O5OYEvexMaWsPUD4DwOZYN+oVbS5y5FvF+MdG6mtl6VMd4gM54HDBcT0MsH060VXYi15eawD8UZi\n",
       "wtI2luAIjfgLR1Uj0a+A+TRN7JD3xPV89Fy/3OECaevevDWfWi1ssk39gkQcCTlQuhC5mmiaLo+c\n",
       "Bw7XOQCDfli+6olGZHkLcv5b3pQgMf/N366i98SnNeddbv94/4haAafkEBlI5GevHOjnMF04QHAQ\n",
       "mZU1WfLoH+/USGu972VTrct54HCdAzDo8y6cxK9LRtex7t9pTM8rU7wPhbYa7jmvdDtvoGBqzrfz\n",
       "loL4f+TSfwtgqktYq5tGb883kftAj58qryPZ95ppCCad67zr/wJ2xikG67jwfAAAAABJRU5ErkJg\n",
       "gg==\n",
       "\" style=\"display:inline;vertical-align:middle;\" /></a><br>"
      ],
      "text/plain": [
       "<IPython.core.display.HTML object>"
      ]
     },
     "metadata": {},
     "output_type": "display_data"
    }
   ],
   "source": [
    "a_required_len = Equals(Len(a_sub), a_len)\n",
    "assumptions = [a_required_len, InSet(i, Integer), InSet(j, Integer),\n",
    "               j_m_i__in__Natural]"
   ]
  },
  {
   "cell_type": "code",
   "execution_count": 155,
   "metadata": {},
   "outputs": [
    {
     "data": {
      "text/html": [
       "<a class=\"ProveItLink\" href=\"__pv_it/basic_expressions/736050b978bf2200f78855a47418ee5cad2545af0/expr.ipynb\"><img src=\"data:image/png;base64,iVBORw0KGgoAAAANSUhEUgAAAdkAAAAWBAMAAAB+oPvkAAAAMFBMVEX////MzMxUVFRERES6uroi\n",
       "IiIQEBCYmJhmZmYyMjLu7u52dnaqqqqIiIjc3NwAAACW8nlqAAAAAXRSTlMAQObYZgAAAAlwSFlz\n",
       "AAAOxAAADsQBlSsOGwAABEtJREFUWMO9mE9IFFEcx3+2f5wdt92F0FvhLcKEhYXqktmlW2gHQ7CD\n",
       "YOKp2KOdWoiQ/uESgeGlLaEosjUhsIOwFw8i1CYEQiVD0MUIDLpkJb3fe/Pv/d57s1NQ7+Dsm993\n",
       "PvP9znszb0YAcMDUnFi7oprzj7SmA3Kt5HsbxvppZU+EOCbB2P4UrYW/byVfU/fPjbsGyrSyFnV2\n",
       "+8igEqEc23skWsfWwLML5jBcblc17LvudpaesxppKVNRds3GDdsCrWOr8McQEQbllu7q/3S3k+42\n",
       "6Yqs6KHKq5OREpQWE61jq/ApiAiD8rTOwY77I11zZ0jT7Uc7GqgpuyhBaTHROrYKH40Kg/JVjaDD\n",
       "u0cyZRm3Gu3ohWYClmOmbYHWsRV4thoVBuU38LndsymZyfSui3nT0S3jUAwfl78YHN3+cFg5V3fM\n",
       "tDofLdgK3FrQ2PPDoHyGbU45CTbcz3xBfdbeBZutT+1VGYfi5EU4UeNV5UHzvVZ3QhhslGBMG/iA\n",
       "ApjYpEThONbCHrTJYXifyc8x0gRYbLiXfcHrGlyADobIjso4JoaHZbgKvCpsXAqM70C6GWAeoRdK\n",
       "MKYNfMAZiRBmkxKFpxqePUgVpDC8z+Tn2QTYhpS3UNWRcg3gB++1beP8GBo6Oz40hLOGiWEaYMQV\n",
       "46Kw/6249CisQl5wLDz2w6CGIDcZHfYBPoGyQyUKT/dL9kgYlLOzpItQ73cFKUwwAknx2E6Si4dp\n",
       "x8D+5oqL+GeF/xzGYxdgQNwiCX7QoIZgHFviA3wCZYdKFI5pQ/ZIGJSzGVRvwmX2YtUdWqGsneR6\n",
       "cDppuv2C9m3g1XBad0mcrnFMkJYSomay8GFvNEhan01LFM5msrAH8zelMKLP5MfZWRpwKLvV9Ncl\n",
       "+Mpm/3ye3evtRRnHxPZP2FN9xatK2oI9YXNMkJYSjGk9H44VrCPhtAW8q0mJwhNN1x5UVqUwos/k\n",
       "iyjKDlu5pwH6IByDrRXvkR7CLXJbK5UKr9K0e8qJisAEaSkBbyV+I9arCpr7gCcdFU1aZCslCscV\n",
       "iduza0tSGNFn8k529t7nH9/ghfHag6Uyv9iQ6pdxnVh8d6C3wKpWqTRWOhpOa/dM8et7pXSkVCoL\n",
       "Q5TAb6Vh74eMFj5wHdlXYs0Jp+VsWqLwtkHPHl/QQmF4n8n9R3X9vrzA7bDCJzLdfDGv0rENMMHY\n",
       "UoJxJgdLRt7RjK22pMD9BQp2yZG7Qt7uTY5VS3ZRrQRv2d5rty/mVW1ajgnSTsX9KvDR0AXGtKSk\n",
       "wCf9FYq8MfM+yvu8Ed+Ux7bXgVyReusLVUXaz/eWJQXHYNrcyx9NDcHYPDSs+/+IQILU5JIKT3hj\n",
       "v5es7djn8jmzgYTyeiiLjVESZoKx+egZs2amhT27SL4Xwt8PXJ4zvojDpvp/H0lcMR1omQnG5qIz\n",
       "J0eNH/SkpIG7HwR3uuTdvP8HXv5bszZqf1Ei7dZ1ff83Xw+OHVtrXJ4AAAAASUVORK5CYII=\n",
       "\" style=\"display:inline;vertical-align:middle;\" /></a>"
      ],
      "text/plain": [
       "(a_{i} * b_{i}) +  (a_{i + 1} * b_{i + 1}) +  ... +  (a_{j - 1} * b_{j - 1}) + (a_{j} * b_{j})"
      ]
     },
     "metadata": {},
     "output_type": "display_data"
    }
   ],
   "source": [
    "requirements = []\n",
    "dot_prod_map.apply(*a_sub.entries, assumptions=assumptions, requirements=requirements)"
   ]
  },
  {
   "cell_type": "markdown",
   "metadata": {},
   "source": [
    "Note that we now have the extra requirement that the indices match, not just the lengths."
   ]
  },
  {
   "cell_type": "code",
   "execution_count": 156,
   "metadata": {},
   "outputs": [
    {
     "data": {
      "text/html": [
       "<a class=\"ProveItLink\" href=\"__pv_it/basic_expressions/5eec19b978695c1802157e0d892a5f7f5cba0abe0/expr.ipynb\"><img src=\"data:image/png;base64,iVBORw0KGgoAAAANSUhEUgAAAjEAAAAyBAMAAABfSpdAAAAAMFBMVEX///+6urqqqqpmZmbu7u6I\n",
       "iIgiIiIQEBDc3NwyMjJ2dnaYmJhUVFTMzMxEREQAAAC0ii6rAAAAAXRSTlMAQObYZgAAAAlwSFlz\n",
       "AAAOxAAADsQBlSsOGwAACZ9JREFUaN7tW12InNUZfmfmm/+fXRBZWinuRUwaL8zY1hQT2nyULq00\n",
       "ZodslVVjsq1lBWvKCrVNTdnMhclFK+lUAl4Y6sSSi0JKBkSKCO6gxL8YXRRNL4o7LWsSi2zTsGJs\n",
       "b3r+v/f8fTOdL1so7LkY3/3OOc855/ne77zvOU8EIKW2COslKrtCZZ4V/22y38JajuoZwvG4GQcQ\n",
       "UwoDtvOX6o+kVWkL4wT73b2WzFzPfkujxmN75Ox4HEBMSTUQ4nBlozRe0OaXbq8lM9mOnxk28pR4\n",
       "cjOy8cvkAP73vQz3JWam1BXud0Cb3x1r+xEf8zPDRn6IPwhakS3LzttXJYCf+RYUw6TMwI/5f3IN\n",
       "bX7b15aZ5/zM4JEzyDVS0s6uSoC4Uq4nZmYT34P/pM9vbm2ZyYdeZvDIeWSnG5iZfNhviJ8mZqbI\n",
       "yIXHtPmlW2vLTLHjY0YbebOXmWKn3xBPJ2YmdVUNF80vQ7fBJ04eRmHwzenGgIhaPy2UKgy2uzmZ\n",
       "oSMHU2Ld25CtMyO3R2eZ2EN+TiVmBo6zbaarzY++ktQB+EcIgUgJxpo1MqPvDkI16wdVu4ZjAMko\n",
       "yy3JTGaWlS4euZSaU+9d2Toz5Tinruc7ItYmY2YL/WSXFjVmciSP+E4HtpKZ8QkFByEzA3BSNvqe\n",
       "f2a8H+QkYiDzAYEB+8ky53w+Q0d+NyPQf4hsnZl0zEaYbY4QkE3JmZmkQ76mzy9PJr0DB8zMZciJ\n",
       "FCdDE4a7Zrx4O4xA+/7dNkb1so8ZOnKYFyw8Im3iWQ/+THgWY4YBeErAXvZScmZqdJG/tOc3D8E/\n",
       "oyjRg0mxkBp7g35mtH44mUQYqbk4Zrgbc2aUrftMKjZ4Up8dS85MmWzB1X9bPh18CuXLkNqjHGuB\n",
       "JOXd/szwfjDxFYsZjhFMjYvuzn2Gfk1wPFBfk7KNr2kmbkkPyVGTMRMQVrJXdWZqDQiuQKX15YkR\n",
       "sgnTVY3DG+nHG6uYmcDGIu+X94P6Zo2ZUGI0MzQul3s+nyEjE58rcfCPuO3agXsC1PyQWAykPvuS\n",
       "QAwTUEO+pNqcPj8aFD+CjfX642RZky064fQDmcK3ZjAz9HnwOYgf9RfrF4S/x8ywCoYB3y7VRVbg\n",
       "ZIaOXL38awZHIy+1dWZKV2Vwt8dmvZjP0ohPEdnjYcsFtgVo86uShe+8989nFulry5EjXHDmj0/c\n",
       "T1/oN1curqx0GDP0OTwA4idHM8bZUPYjEbe6Qsol7jO0gmOwuJwb9TFDR4azHQ7+Abc1ZiqvfX5W\n",
       "AFDQaGxmsKuDCl3NDwTibAKnOU24rhs5+n7pnqtkkRtUGLtT22c2WFDpaBpXta8JVYyQDOmI/9wk\n",
       "R96AIz/2GVaOGKMB6gU0nBVmBGI6ATMLo7DUMOYnT2zpFuFM3UhszmjM2DcVpegiYE5jJqqA8/LY\n",
       "6GZGjtxWx0LjRAnq3Fmy10J6VcYXQnkYPeFsNHAhtGwZN+ZXE6lvcKYJgaJt57RgpvCHfzXQ8ygv\n",
       "j9ItlVT/6pmTuAJItCv0/MyIkTn4Jd+VXU8fTe3ApNfSOA1pRyXiRJJUrw4Li8b8ArTxZI38x/Oc\n",
       "loZ+ZnRV0JSfr97NjBiZg+/y5WBNAxRNKTM1qjg94Wo0eBnpwj50YXo/+z3sbZ4ZBPO3532n7C+R\n",
       "z2yaL8O8krdHLnjWNd331rCJEIdnpgenQ7i25bav+XidutZDreU1Ugt2/B9N939YcjPwzjoLTmbm\n",
       "1pnxMnONvqamx+7/WG25Az5v9mlT+O/gPcDkazrtn3D6qc9+N3vRd+26+dAvLvzkoAwIKCsaUkPz\n",
       "CYCpRn+Y3f1xUn1j+PXGDrwPB1Bd+sp+sgitovrzQ9279p6DIsj7PaybDaehMRmuumw8/YCMeR/G\n",
       "WXbB0L7Zum17YRzlw1ADzne1TM+QvjJ1Mo1n1Z/36FBfJYOVhHtg3WxIDY3JcFn9JjV45RmypCJ6\n",
       "I7TBMWdfeWeIbS+Mo9yjA4/UYcuot3GlCbtwRqyX10nOKhNVrJsNqaG5BcB9oX6EAifMdo99QxyM\n",
       "XTDwZBuWHD6+d3a2xS+DvlFZ9FRCCJnFc9L3sB+C45TcX0Ob8zLDlTU0QBjXF9s3xcE4srtQO1GO\n",
       "2FR+4fvqs+6+56+Ev1RlX6ybDaeheQRAtqSnjVNGJ6avhnNTHIzj+IKAyUE7F0EJ6asQfW+1UG2J\n",
       "wV1doxKWa5LkbYk1NHbVN7HHycyp6EC/xwVD+05st22DmVMxpLDVYWBynKxE7iekr2IUx28uN6LT\n",
       "5EGjMt1+Hh2iE2po7H0xHc1mRv0rFt6Aw2xl1+sPy77tsQhH2gYzL8Qww1aH50cS4HIk3grpK4rT\n",
       "OGZPwxWjMorZmm42nIZGhQOuo9nMbIqO0bSBBUP6Vsdvt22DmU0xzLDVYeB5spVcUX8JGew8fRk9\n",
       "nrNFN/BhelWvhN2lUSkiPJJYQ6NiE9fR4A7mDfujJS0pn2cNLJg8ncejpk2c6ufCqQwYR2GrQ8CF\n",
       "T0FT4rj0Fd0Z7aIXaK9Lh5vRK4PeURbYBRsJNTQmwzEdzfaZsejvrS4Y2je9atuGz4zF7b50dQiY\n",
       "KnHw9aiaS1859fc5svBAEsnTp6iyskg4m1RfUEINjclwZoIolrRRT0U5DNpnaN9iNwTTNpjZGHuC\n",
       "bGvzq1DzRpXqCekrK5dTrV/H2vBxfjOqVcJ7KRKzX9V0s0E0NLeIx2Q4rqPZzLwkG/EGZTP5pH0n\n",
       "R9sKh9oOZiIYa3S+OgQ8QqeTUwmNlL6eVDH7GBT+1hOK1gJolbBM0u2jt2i62QAami6dRYoai5hl\n",
       "ayNi591tshFvkGkbjWjfpUJH4RDbYEaHsafAV4eAqQaBg5OQvnb+lfM49vH8yqH5tlC03gatMjX/\n",
       "1MrFz/6u6WaDaGhKxFMaGsNnMlzF9Ia3Dh3vCGWNTYI1yJnnGdq38mKEQ22NGQMmUu+khMhXh4D5\n",
       "xv2Y5WBfvDCLU4806/uou1LTzQbQ0HwiHo1FeedNAVfWWCPW4IjVYr+BY+XABow9OltdBMz/NRr3\n",
       "nLhCN42XkWvphbqgPK1hWztRosNe24lPjnNcR3OEjY5oJBps9x0FS+ax8AYnjHd1EXCNZ8PFdh9m\n",
       "JmjWk/PcR2HdbBANzSfi1ZpcR7PLUdmINyjYp38h4U0gOwbGtzoEfCN/RdUDfZiha7ntVk8l1s0G\n",
       "0dB8Il7Q4zqaXS7JRryBY+niqqSB7BgY3+oQsHxFe5NfA2PdbEgNzScAZpv9YQ73x8k2+61hWgt2\n",
       "PHK0Yb1oNy3KenKdDC0LQNcw6//nl3atzPbf/wBf/dJgkR3/AgAAAABJRU5ErkJggg==\n",
       "\" style=\"display:inline;vertical-align:middle;\" /></a>"
      ],
      "text/plain": [
       "(|(a_{i}, a_{i + 1}, ..., a_{j - 1}, a_{j})| = |(i, (i + 1), ..., j)|,  \\\\ i in Integer, j in Integer, (i, (i + 1), ..., (j - 1), j) = (i, (i + 1), ..., j))"
      ]
     },
     "metadata": {},
     "output_type": "display_data"
    }
   ],
   "source": [
    "ExprTuple(*requirements).with_wrapping_at(1)"
   ]
  },
  {
   "cell_type": "markdown",
   "metadata": {},
   "source": [
    "If the iteration parameter occurs anywhere other than as an index of an indexed variable, this will also spur the need for the requirement that the indices match and not just the lengths.  For example, consider"
   ]
  },
  {
   "cell_type": "code",
   "execution_count": 157,
   "metadata": {},
   "outputs": [
    {
     "data": {
      "text/html": [
       "<strong id=\"dot_prod_and_more_map\">dot_prod_and_more_map:</strong> <a class=\"ProveItLink\" href=\"__pv_it/basic_expressions/c39d35c491c3c4fdf15a3d5e7725cddfa1b79e0b0/expr.ipynb\"><img src=\"data:image/png;base64,iVBORw0KGgoAAAANSUhEUgAAAxQAAAAXCAMAAAClIfmQAAAANlBMVEX///8WFhYNDQ3MzMxUVFRE\n",
       "RES6uroiIiIQEBCYmJhmZmYyMjLu7u52dnaqqqqIiIjc3NwAAACzeusSAAAAAXRSTlMAQObYZgAA\n",
       "AAlwSFlzAAAOxAAADsQBlSsOGwAABhdJREFUeNrtW9mWpCgQZUZxAQT9/59tU0VZIjAQrM45Uzx0\n",
       "1ulA7gJIQJKMrWVmv+Us86Pa8w/jz/87X97VH/E1+ncqXKUzGZWtdRUtJOH/fJdlIloVWW6+xiaf\n",
       "r56+bVwqPvR5gZpYZiQ/bK2jWXjP3ggafkGXPbTQIm4MU6Xpledihpv5bKqIbbiK+Cr5ha9rKXID\n",
       "FbGkog4w6X8+l3WUfiLhl3XZEwtPxD45HFUr5KJ8F8luPmBTRayRMV8xfuGkWHRuoCLWSB011jqy\n",
       "hTT2IX43IriVvSUojbKO6P+NnRRWReRml8u+RD9drMd3+Ma8flGZgapYAwJigu3dEHw+lpXG12Fe\n",
       "PrzibZIRlscYdFKcKkI3de42o0B/jliHr/7G7GnqcwNVseT1JvI81f5Lz1pHtpDKXo7JQVHWZU8s\n",
       "RBFTk8KqCNSUT4oM/TliHb7CJolzO5kZ5psIPS+pRmVrTKtzAgUpdtzk1F5Zvp/z+6v45H/e+pRm\n",
       "r4xNCxx8aFCQ8R6QQLKnKWBImRRWRaCmfFJk6L8Vq9Z4zNfOj25YcwMOrjaJUMEqnmhULetuRy0z\n",
       "PVCwaQOaHCUyDTRHXi0kn27YT2sDET40KKh4T0gkX6IXQ8qksCoCNeWTgq7/Xuy69g9jxLff55Ha\n",
       "QmIfA8prJREqGItuo4w1vgub0MFEeGjgeXGaPGnoAZkUzHCnCw7rCBZS2DeaCRnhQ4OCinenl27h\n",
       "jugwpEwKq0IPlScFpD8cQnjnRrtEuxd3+A7dPmMW58Bt8lgkQhu38UmK6zW6/uEx3q1fppgKFigg\n",
       "cjV50miWM/zvP71XlqW7dmad9wn7tL6sUuyvsDp778IXG+YwbB9tgJvTLxcM3UKH+Y7oMMSouZPC\n",
       "qrjcxJ7BO4es3xlCsONwBWUnjs/3QBj4VruDduVgyO45G2OebH4TeIfQDjhNgwKFRKAmO3Sl6KTD\n",
       "OJgUiKReJGVd4at7uvRKkcRD7DhhMiy8qFmlelH0lcKq6GqvFHdD9sZxz3NnqXH47muRWj7A4wLm\n",
       "ZWDoyq71g7GYwGPHgiaAZBEKlBEBm3Qa8ptsvG+i/PQpLSkp69wVHoddgRA4fXjYL48stEpPhqT0\n",
       "qYfbrJQ+3ft977i31Dh8udkRPo+3kumZdcd+XNnxG4dAI0kbPqDRz6GG9lpYmiNjDKjEgWIiV5MX\n",
       "DTZyZFJILwvnxv1EfHK7CGDvvSg6NoX40KBI4t1OCpKFDEJ0GJI22pxBasonRazf6TtYLFaBsflc\n",
       "ahy+x0HUB0ivy4pYH2ebrjPzikOgkWf9xB9Qo5/Vez95PoPtKoMLFlMJAxWI2CYvGs6Z3zp0vN4R\n",
       "4MktamFQIPbuMrSweQzxoUGRxLsb4CQLo4OxNmCID/DpPOuJTqzBZ4AucXJ+mn6370CxaAV3qXH4\n",
       "NsdIas3UzK1p2KwOZ/rjahcQAo209Z38VcRZXtQoU4pNIghO24E4QCUI1CCyN+nQYH2HHJr6BxiH\n",
       "dQkLg6UAYO934Qjih4MiiXc3wGkWMhDxYohRa9thke3oqQjdDJ5xukRAOT9Bv9t3oFi0wsr4FO/y\n",
       "7RtksWRaweuo4GsZPv+MnpGakreAlezJcxREqbxC5KAxU/cm1jrcQqSkw/NdEo7gYXakSBCf6Rta\n",
       "ZgOoiNwsv+YBsZF396GQCud5msc3urClFrWDTkDaqxr87UK6zwtWskvuRKXyDpGDBvm+GXrnzaEH\n",
       "HzMkwyF+dCEuhUc+d8h6Brsjmbjch96WLL8QCLG5/ToSqNDqNXtSIF8e1F6Trw1UxTPahuD9LeUN\n",
       "AFZqBiSIUnmFyEFj5uTustZhFmKvvmSYgJ/AI0+KvGd47nelVkWGmyzb93gIoQWo0KxbdXuuFvJV\n",
       "PEzE9tugBsrRzoui9qF5ksv+LRBpVQQr2XMQg+GZHyFy0Mjof2sdZiH2WDJMwE/gxXbckyA8o/jD\n",
       "ccvf+EFqzMbcfRcIVRBGdBjfR3f9ar4AZMnvA3hlGianF611Fa9LkvBxPP6ShZkKrQrzzo+0IzZP\n",
       "txR1+Vb7BZzsmuELiJTS+JYi/mZf/qVy23f/uc5d1zD1S+O3vNl3mZ37B9ysXtKUvIiNAAAAAElF\n",
       "TkSuQmCC\n",
       "\" style=\"display:inline;vertical-align:middle;\" /></a><br>"
      ],
      "text/plain": [
       "<IPython.core.display.HTML object>"
      ]
     },
     "metadata": {},
     "output_type": "display_data"
    }
   ],
   "source": [
    "dot_prod_and_more_map = Lambda((a_i_to_j, b_i_to_j),\n",
    "                               Add(ExprRange(k, Mult(a_k, b_k, k),\n",
    "                                             i, j)))"
   ]
  },
  {
   "cell_type": "markdown",
   "metadata": {},
   "source": [
    "We cannot handle the following substitution because the indices do not match with the original iteration indices."
   ]
  },
  {
   "cell_type": "code",
   "execution_count": 158,
   "metadata": {},
   "outputs": [
    {
     "data": {
      "text/html": [
       "<strong id=\"a_sub\">a_sub:</strong> <a class=\"ProveItLink\" href=\"__pv_it/basic_expressions/382b702ef71332787af026d0ce9384016c86f9780/expr.ipynb\"><img src=\"data:image/png;base64,iVBORw0KGgoAAAANSUhEUgAAARoAAAAVBAMAAABrvDzoAAAAMFBMVEX////MzMxUVFRERES6uroi\n",
       "IiIQEBCYmJhmZmYyMjLu7u52dnaqqqqIiIjc3NwAAACW8nlqAAAAAXRSTlMAQObYZgAAAAlwSFlz\n",
       "AAAOxAAADsQBlSsOGwAAAwFJREFUSMfNlU1o1EAYht+N+5Nmk5giBdFCFwWFlkJbPAmWpQe9CG3B\n",
       "ghSFRQRRrF3Rg4raINZSi7g3T0KsoMVSXFpEahX2Yv07GHqwBVkI9OLJdkEQK3SdyWQns1l3z5nD\n",
       "TN5vnrz55ptkAsBBOJpOO60QkmyiNum+ICxtFVByocmmyYKcDU02CRNxhKddwKcQZfMIU6SfW3my\n",
       "JHxZAVnblGL73rfVkbUspgWHCSipRg5BoGVQJ2/MPMkHMLVOecCfCsjaJmPFHq+KJNUMxnyZX0Zi\n",
       "s5FDAFAeL8yT4TpOkbfHSWxJWTz3vi4mlaV9Vj2v2xizDlZFWkn6+7lDpDAOqWt2vr2eAQOEg8/C\n",
       "GzIs4yyZg0xsIkWvHkzKqF8fA5OBiBW3McIdFIwgbpsYr7vVLiBGZunS22g2YDMqfzqVO9N6qX6l\n",
       "R4KBfitS8h2iW2gzfmHDqHvuUkD8K7ipHaU7RbwcxRKyoTJhNcgmuo0XuHa5mFrt9iKT0DK+Aynu\n",
       "N9xokI0LEAPT08dIuYD3OAI8TR9AktWGxjyJ5IArg3tCoENSBnnl6jmcwQq7Bz3YkWLZ0JKT6x4y\n",
       "vGIquEseQA0uMUItQCLDFfJV4eueezjOsnmZ4xItliuVP/C6ilJLM5loQZ/LoUQPCBrGHfRn2Xoo\n",
       "Kaeiv8kLOPyfmxlOAWqwxWK7Fr4PkmEKLcBMUZ0osGxiw1zqh5nESXhdjNZ1yILywP54E5DsSIZu\n",
       "tAtNv3vosNoM0ep1rG0D6xZT/s3uBcVdQLKjGUbk1fNpEj2BGN9b1+szr+gP/BQlp3jt44bWpW8a\n",
       "FWjRc2BAMgfd1B0B543hBIgbsmkIhD5Af1ViNnk+1d18X5D+OcevNsjiEl2mCyVzykXPIelm9qyA\n",
       "9ebdloD7J18F2ECs1RAI+gPvrTx+8a8NhR8C8XJ5U5D+mc6v+tDk6J2WC8VsKc8cXOA0OoDRclnE\n",
       "+VtsV4A+aK9FYp1+QiKqVd+p1a6sNj8KqbfuisCHtXRDXAAEopcfPCFomoN/Mjbyvq+vya4AAAAA\n",
       "SUVORK5CYII=\n",
       "\" style=\"display:inline;vertical-align:middle;\" /></a><br>"
      ],
      "text/plain": [
       "<IPython.core.display.HTML object>"
      ]
     },
     "metadata": {},
     "output_type": "display_data"
    },
    {
     "data": {
      "text/html": [
       "<strong id=\"b_sub\">b_sub:</strong> <a class=\"ProveItLink\" href=\"__pv_it/basic_expressions/06dd241f0c5b85f5f7ddc0406b6a8a2199a1c8c20/expr.ipynb\"><img src=\"data:image/png;base64,iVBORw0KGgoAAAANSUhEUgAAARoAAAAVBAMAAABrvDzoAAAAMFBMVEX////MzMxUVFRERES6uroi\n",
       "IiIQEBCYmJhmZmYyMjLu7u52dnaqqqqIiIjc3NwAAACW8nlqAAAAAXRSTlMAQObYZgAAAAlwSFlz\n",
       "AAAOxAAADsQBlSsOGwAAAs5JREFUSMfNVU1oE0EYfYn5WSe72xWpB20xKCgIPSieBEvwUC9CW1AQ\n",
       "8RBBEEUlEg8W1AZRixYxN0/qWg8tSjG0B6m1kIui9eASEf8IBL1IBdserWCd+fYns9lmz/sdZvfN\n",
       "vvd487sAGohG6aLRqhFJk7B48w5RqU8AK0cmzXoTSiEyadIlpBCdOoO3EUpzD6N863wuYMzr8qM1\n",
       "Kkhg9V1bXkp4svZoNvSktgrQOajzHTPF8yCj5jHsffCjNSpIUFCzbki4pPUoA2EWrQJ2f3qKP4Zw\n",
       "HOji0u0Ydw4XITa7zWxnZdPluophcyfYkLsbG+mVeCHMwhZIF5+JF/zxGicBM2XhXKzujIaQgvaD\n",
       "I4Kvx8At3nZ/dGAMSlmMv72FLZDrqUi+VaRBvxlbhupqBerI6ctt55no/qJ0rzzI8yLUomU40MU9\n",
       "jD6xUjyolm+mEShthlgRYaS7phUN91L/hydymv4GM0MtSHDpQr3k4INgNJz9vN2DdVlKI7pshAyH\n",
       "wXX3CON9hVRWyxKH7Y3nUbHTCMnj3A5kQBZsjYV2BeziKZy3FWoVcf4oQuzla+gvUJpnZReh0wT7\n",
       "A7uLXjxEhIUv6DCUCvWqyxP5RJXSEOn95ps4BLLw1D4bW6BPlrFid26c/jbIH6Po5O3Y3N0GpUke\n",
       "c5G+j78d4bmTYjKPwmmahB5sQrJKHHbHenPZ2TdCMlFXR/gXYUF8Eno2TUHcSuRtRUU9neOfDiNJ\n",
       "az8De9/Mw0E/8Zt3BZfKI5zAByzGfByRRoJkMR9waDJShlIyJKwPiF9VpszOOmn46hPSd2+4DVr8\n",
       "lvIIS3x2ioqPI9I0oW1RCV6e3tsikl2GhMUPvBdJK16BPvPXAuMHjVBqdXWJ3/DBXewSElk8wPev\n",
       "MufXwzkZkgWzAhZNxgFoz2X8Q5wAqFeuO1gTM+khBK1aCEGOFeQjlCHhXu/iiUBpDfwHYiDu/i+i\n",
       "DUIAAAAASUVORK5CYII=\n",
       "\" style=\"display:inline;vertical-align:middle;\" /></a><br>"
      ],
      "text/plain": [
       "<IPython.core.display.HTML object>"
      ]
     },
     "metadata": {},
     "output_type": "display_data"
    }
   ],
   "source": [
    "a_sub, b_sub = (ExprTuple(x_1_to_m, y_1_to_n, z),\n",
    "                ExprTuple(y_1_to_m, x_1_to_n, z))"
   ]
  },
  {
   "cell_type": "code",
   "execution_count": 159,
   "metadata": {},
   "outputs": [
    {
     "name": "stdout",
     "output_type": "stream",
     "text": [
      "Expected LambdaApplicationError: Failure to apply (a_{i}, a_{i + 1}, ..., a_{j}, b_{i}, b_{i + 1}, ..., b_{j}) -> ((a_{i} * b_{i} * i) +  (a_{i + 1} * b_{i + 1} * (i + 1)) +  ... +  (a_{j} * b_{j} * j)) to (x_{1}, x_{2}, ..., x_{m}, y_{1}, y_{2}, ..., y_{n}, z, y_{1}, y_{2}, ..., y_{m}, x_{1}, x_{2}, ..., x_{n}, z) assuming (i in Integer, j in Integer, m in Integer, n in Integer, |(x_{1}, x_{2}, ..., x_{m},y_{1}, y_{2}, ..., y_{n}, z)| = |(i, (i + 1), ..., j)|, |(y_{1}, y_{2}, ..., y_{m},x_{1}, x_{2}, ..., x_{n}, z)| = |(i, (i + 1), ..., j)|):\n",
      "Improper replacement: Improper replacement of (a_{i} * b_{i} * i), (a_{i + 1} * b_{i + 1} * (i + 1)), ..., (a_{j} * b_{j} * j) via {(a_{i}, a_{i + 1}, ..., a_{j}): (x_{1}, x_{2}, ..., x_{m},y_{1}, y_{2}, ..., y_{n}, z), (b_{i}, b_{i + 1}, ..., b_{j}): (y_{1}, y_{2}, ..., y_{m},x_{1}, x_{2}, ..., x_{n}, z), a: {(a_{i}, a_{i + 1}, ..., a_{j})}, b: {(b_{i}, b_{i + 1}, ..., b_{j})}}:\n",
      "ExprRange indices failed to match expansion which is necessary because the ExprRange parameter appears outside of IndexedVar indices: Proof step failed assuming {i in Integer, j in Integer, m in Integer, n in Integer, |(x_{1}, x_{2}, ..., x_{m},y_{1}, y_{2}, ..., y_{n}, z)| = |(i, (i + 1), ..., j)|, |(y_{1}, y_{2}, ..., y_{m},x_{1}, x_{2}, ..., x_{n}, z)| = |(i, (i + 1), ..., j)|}:\n",
      "Attempting to instantiate |- forall_{n in NaturalPos} [forall_{f_{1}, f_{2}, ..., f_{n}, i_{1}, i_{2}, ..., i_{n}, j_{1}, j_{2}, ..., j_{n} | ((j_{1} - i_{1} + 1) in Natural), ((j_{2} - i_{2} + 1) in Natural), ..., ((j_{n} - i_{n} + 1) in Natural)} (|(f_{1}(i_{1}), f_{1}(i_{1} + 1), ..., f_{1}(j_{1}), f_{2}(i_{2}), f_{2}(i_{2} + 1), ..., f_{2}(j_{2}), ......, f_{n}(i_{n}), f_{n}(i_{n} + 1), ..., f_{n}(j_{n}))| \\\\  = ((j_{1} - i_{1} + 1) +  (j_{2} - i_{2} + 1) +  ... +  (j_{n} - i_{n} + 1)))] with {n: 3, f: (_a -> (_a + (i - 1)), _a -> (_a + (m + i - 1)), _b -> (n + m + i)), i: (1, 1, 1), j: (m, n, 1)}:\n",
      "Unsatisfied condition: (m - 1 + 1) in Natural. For debugging purposes, this is accessible via Instantiation.unsatisfied_condition with applicable assumptions in Instantiation.condition_assumptions.. \n"
     ]
    }
   ],
   "source": [
    "try:\n",
    "    a_required_len = Equals(Len(a_sub), a_len)\n",
    "    b_required_len = Equals(Len(b_sub), a_len)\n",
    "    dot_prod_and_more_map.apply(*a_sub.entries, *b_sub.entries, \n",
    "                                assumptions=[InSet(i, Integer), InSet(j, Integer), \n",
    "                                             InSet(m, Integer), InSet(n, Integer),\n",
    "                                             a_required_len,\n",
    "                                             b_required_len],\n",
    "                                requirements=requirements)\n",
    "    assert False, \"Expecting a LambdaApplicationError error; should not make it to this point\"\n",
    "except LambdaApplicationError as e:\n",
    "    print(\"Expected LambdaApplicationError: %s\"%str(e))"
   ]
  },
  {
   "cell_type": "markdown",
   "metadata": {},
   "source": [
    "But if we ensure that indices match up, we can do the expansion as we saw before.  Let's try this for a slightly modified map in which the Lambda parameters only covers the $a$ variables. "
   ]
  },
  {
   "cell_type": "code",
   "execution_count": 160,
   "metadata": {},
   "outputs": [
    {
     "data": {
      "text/html": [
       "<strong id=\"dot_prod_and_more_amap\">dot_prod_and_more_amap:</strong> <a class=\"ProveItLink\" href=\"__pv_it/basic_expressions/978a90a513d1a30651d199d6da77fd0c8b62660b0/expr.ipynb\"><img src=\"data:image/png;base64,iVBORw0KGgoAAAANSUhEUgAAAo4AAAAXCAMAAACyJj5wAAAANlBMVEX///8WFhYNDQ3MzMxUVFRE\n",
       "RES6uroiIiIQEBCYmJhmZmYyMjLu7u52dnaqqqqIiIjc3NwAAACzeusSAAAAAXRSTlMAQObYZgAA\n",
       "AAlwSFlzAAAOxAAADsQBlSsOGwAABaNJREFUaN7tW+uynCAMplW8ouj7v2xRCQImENjdM3tm6o/K\n",
       "HJDvQjDAWiHMtYmvuLaaxtsPw2/fbcsHfPms/u1R0Ot3hGOn+W2B8xu5s+B/3qtCRFBRYubn2BS4\n",
       "DoV1EV9y6ZHbEjjzuCs59BnkiQf/gld5EknEk2HqanoVmMg3s4LNe8Q2Unk8r4Kaxddcs2KqncN7\n",
       "vuPMYPYLC/41r3Ikkoh9MhBUO827Ck3kmlnD5j1i9RzwPAvT+D3hODIHDDizue9rFXw34rh1116R\n",
       "6CjE7vF3DeEIKrJqGJm0Xj9frON5FgbxRddAzGgdrqCH6J61dVdV8Gu0AHvJKy4JFuKqyXB0KnJq\n",
       "GLm5Wn+J2MEjvs7fFI7zPf0COWsw04Ezm/vSF8Njw/GaV0vF0pFETIUjqMioKQ/HAv0lYh1PU5hg\n",
       "TbK1i95wwomqF3b4WKdLey/nwsVdkDOW8J4lOLdat2T2UBqSkAePDYfDq3IkTYLI1UvEkBOOoCKj\n",
       "pjwc2X5zxCrTIOJpChCa3WDyoURfsYmqF1IX2uk4E+G4SmQ6MbhfynezSlY7dWS2mA4e8NhwuGlc\n",
       "40iGRPLFcTPkhCOoyKgpD0eu3yyxJt8NY8jTFPorhNVZNV0xoIJuElUv7NH8Ts2WH/QPRDgKLW/1\n",
       "ljODu+31dG7QeHWziml+wGPDAbhVjqRJUDv+NWLICUdQsQ5vDkfM73vsCLF4g3M3YLc7jqcpDN0V\n",
       "q7t3mrAELBJVJ7mxZkUVdGoKlnKzuxZ///TBte+dW/t2wZ0gaGYogJ2FfcGrlfPNg59OzGE4b22E\n",
       "W+BIhgRq4v2MRfQYEsyCcAQVGTXp8UnoJ8aOEOs18IQdmlbL2PE0BQsxyLN5h2180CrYWzRa15zu\n",
       "Engd+Xbs5rttFI4U937yz+y6+OjBVTtfcinR4RY4kiRBmHgzA8R1V/y3I6jo3v12zMZKxnFPmPDe\n",
       "r46nKVwvYLUfwOOOLgPQqnstt1aEI4Xn9RX22viHumGyTnD3z8Ameq0zt3YfH0shklWVIxiJrImg\n",
       "1DFkJetecNTUJuu833nHhf9+dTxNQeoL4ni+ncW6ic7ueBREzrMKdZK1sEc6PfaNMI1GSYTj7C+3\n",
       "pPbvBEHfnMYuePDqY6IvMTw2HBaX7UiWRDYcHSIwZG1lpOCoKQ/Hp9/+2KFiqQbH9hzer46nKdhd\n",
       "9oG0mnfpZJ4XpzCX6J9VqJP3WuxRQP50d3qkLHegdR+liI4+d4xOMnCC3tUaX+QkqGqzZNnGGB4b\n",
       "DsBlOpInkQ1Hi3gzpENrcfvYxzkY/kxqwJL6ibHDxJIN/Per42kKjQ2mVi/N1upGbMpa09vf5JEq\n",
       "1Elo760gpuei4tGpUEosrrojzmKC3ZnlnOAevf7a5Ty3I6qNeSMOHw0H4HIdyZLIhiMgOoZUOLbt\n",
       "sM/tGKjIqEHGqZ84+omxw8SSDQ7KMh70o9A3RIYQq8KTxyTNNRz/jGHq56RrtBEcaG3MZShwprkT\n",
       "V7r6Af8YwKbMkQQJ5iN9w0qjmIqsmuJkjbKZc79jUw3gsMDxPAuPX9rVrhp7+CqoKnRisz4+QhtB\n",
       "nuH+RE9+JeARxHdQyeoHfPwJwfMTj7QjORL5R6iPShKfQ5Dfl7z+CQXGJnuwjzVoV5OrVcTzKsio\n",
       "ucn1J6p6TiaowrcynMmHNmrsTn+TXJ+AM8Wdmu3JagZ8jJd2JEuC8Ygs/d0BVPDNLLiebJrcZxVY\n",
       "g8bshuDQwPG0BSXjvH99P6OxJYH7tMZ1ssz7dazLSgVoI9hq8q0HzhR36rFkNQM+xks7kiXBeETJ\n",
       "yoiRn/jvCU82OneqjjaY9NTFrkOh6uuId849u7rQBQYC5zd+2cGCT+DJz5hYqBBU6M/8Z5kHm+ql\n",
       "Y+z6a4Snt8Vi13zVJ5c/6cj0yyVnx+73Da55byvx//qdMzA3dqWD+w/+HE5Mev21SQAAAABJRU5E\n",
       "rkJggg==\n",
       "\" style=\"display:inline;vertical-align:middle;\" /></a><br>"
      ],
      "text/plain": [
       "<IPython.core.display.HTML object>"
      ]
     },
     "metadata": {},
     "output_type": "display_data"
    }
   ],
   "source": [
    "dot_prod_and_more_amap = Lambda((a_i_to_j),\n",
    "                                Add(ExprRange(k, Mult(a_k, b_k, k), \n",
    "                                              i, j)))"
   ]
  },
  {
   "cell_type": "code",
   "execution_count": 161,
   "metadata": {},
   "outputs": [
    {
     "data": {
      "text/html": [
       "<strong id=\"a_sub\">a_sub:</strong> <a class=\"ProveItLink\" href=\"__pv_it/basic_expressions/9527b62f6c6d7140a64245dc33a2fb89bed763180/expr.ipynb\"><img src=\"data:image/png;base64,iVBORw0KGgoAAAANSUhEUgAAAMIAAAAWBAMAAABgYF47AAAAMFBMVEX////MzMxUVFRERES6uroi\n",
       "IiIQEBCYmJhmZmYyMjLu7u52dnaqqqqIiIjc3NwAAACW8nlqAAAAAXRSTlMAQObYZgAAAAlwSFlz\n",
       "AAAOxAAADsQBlSsOGwAAAfxJREFUSMe1Vj1Iw1AQ/rRWYxprF938WUUKhQ5O/i1uQgWFog6CguAg\n",
       "BadOZnFyMJujsYKDqFX3QpcIVZBYEAVBgm6K4OBiUfBeftqX1JQO5iCPy3338b28u1wCwEBwFmVL\n",
       "VzFAhTadlmsEafeAqASq0KlCyASq0CGjHcHaGkoBK+xim/XU8JNeiz0X3pvtRRfvb+CCNIApI1QB\n",
       "Tu0GW8e4CrGZt8TiIdYIyGKR2mkVQgooWOhhBltAxNmDmPUVsHmY8abywCVWAOED4bMqbwdYsF2Z\n",
       "rr47XwU3j0vlgQGm0J5AfqKatwzx03YTbNF8Fdw8LpUHptgp5XVsAtOD1hP+oOMDbeUmFCye+FD0\n",
       "KvCAhlEKFDEkvepUG5Xi32hVbk66VV5Bra8BbJ4hSAqv4AU2qJsQ0qW0ED1OQfyi0Cg0WX7V+Gcw\n",
       "43mFc8zF5OEoIvMKXmAbPcSLnz/fUhiYo83mHvvjMdIRksnl5IhFY/Ewy0/DdsLzDg+dmZYk2ZiV\n",
       "6gLofhZhp5vz+4DkHIdYifGnJNUf01XV6zZcdXAD0RQbTZaVBHoLHFBSZF4hUl/mWpv2unvJDbDB\n",
       "Ombf556Ak2oh44at8LZX4OK1StfGRdlxzFQP8ELXAcfzTJmET5x9GfnZ1gBg+4/qvg0vN/OJmVxq\n",
       "AHT9w0+A8KA2Bn4BLcanWR3cLV4AAAAASUVORK5CYII=\n",
       "\" style=\"display:inline;vertical-align:middle;\" /></a><br>"
      ],
      "text/plain": [
       "<IPython.core.display.HTML object>"
      ]
     },
     "metadata": {},
     "output_type": "display_data"
    }
   ],
   "source": [
    "a_sub = a_i_to_j__partition.rhs"
   ]
  },
  {
   "cell_type": "code",
   "execution_count": 162,
   "metadata": {},
   "outputs": [
    {
     "data": {
      "text/html": [
       "<strong id=\"assumptions\">assumptions:</strong> <a class=\"ProveItLink\" href=\"__pv_it/basic_expressions/8aa16e57b03c0bef5d841e23f920db715e8024b00/expr.ipynb\"><img src=\"data:image/png;base64,iVBORw0KGgoAAAANSUhEUgAABIYAAAAXBAMAAACMtFnGAAAAMFBMVEX////MzMxUVFRERES6uroi\n",
       "IiIQEBCYmJhmZmYyMjLu7u52dnaqqqqIiIjc3NwAAACW8nlqAAAAAXRSTlMAQObYZgAAAAlwSFlz\n",
       "AAAOxAAADsQBlSsOGwAACnZJREFUaN7tWnuMVFcZ/+Y9e2fmMg2BNFpk2iagxTUjS0kkdt30j/XZ\n",
       "sKtsU9uqY6ghEiljMJGaKqN23dBKOqkPEmLhdjf0YV13CmsUW+IkZqsLib1so6WPxQnE1NYgS0I0\n",
       "HRE8r3vPd869586yyTbE8DWFufd8r99vfnPuOfcAAC3yHzUbFtEMJUJut0LjOzdnK+F2VLJ33wzt\n",
       "hNy2o/hbAMMLbXW+DTD3QhMm2dUbi0niHezPXJ92O1iZtBNmSbdTBeHBM4pKhmTvvqnN+RbS5RtR\n",
       "/C2AYW75n/7rR0PrqzCPwXk2YH2pZx/ktt/HkB0X0PKNxSSxUDVriFYu1MQd0g6c1LyWOQCvROdf\n",
       "6ggPRUPH4WqxVyI0hCErXAiL3e3xZ7TYBp1hlcPC2iLUu5C3cZDJQHOg2QINJJq3A0wwZFZdQHtm\n",
       "cUncZ9YQrZwSCqbtwD2q4t9/gGioy4lM/6rngTXEkl0dpjSnakiBjLkQNrq77fFn/onWdYZVDrM1\n",
       "IoIXsLdp8JkQB5ZNbyD+xVwV0gxZtiqgjSwuiTvNGsKVs0juSe/zX8kXkKl1qsA9sIay1atGQ0pz\n",
       "qoaULkdC4BfaHn8LYFh84S0Ys8qGQGVwJDI9jvo97IcUQ5b2oFUWl8S0Y9QQrpzGz2kXaQi2diyx\n",
       "VddQGq4e22rUkNJlJQQ+01DaWQjDhVuHPs/mcoDvxot6xMtDQ3V9sBKZXgZB/E33LaohgmxaQMsv\n",
       "8rzfVTVpSKk8bdTQ3o4l9uoamr6KNLTXqCEFct2koa7qAhhOPu4rL1a6Xg/45GvBQbMMRAN+ULx1\n",
       "Y6GRYsgeEdCy9CF8+uhZtGtbc8qdJ0FKXPhArmTSEK087k2hpB3rZDVMQ4ci6luzJc8Da0gkG5WO\n",
       "pI5VikqkurPUt7z3BXQ9PvPE85G7PT0Alg3aVbU5VUMYMuZC1VAuqu3xGY1hkfAtOXklnA2KN/l+\n",
       "94UMMhkIB4UV0YAMircSsC7FaN8roFGZJe+Hj8mq/a1Ee547VyUufCBT95//Q8xKgCo3+uXPNZes\n",
       "hGnogYgGsrDF88AaosnyFdglHRsvQmYuIpHmzlLPuMPoulbozg5AZC9qgPX44UNKc8MM/meVLj3I\n",
       "mAtVQ5mo50QtXcUM+wn3S5fjGVfxJrVaIYNsthEOkhWajTcgg+KtWO3gQYbsXgEtRX5cT1aBoLe4\n",
       "m7UFKFm/nIeGeBzEogbyFdM8RCrHmrvFDdLODdl6mIZejGjgFFz0PLCGWLIBuFlugZvDEC9HJFLd\n",
       "qX0Hdjmr0dq4lWnHIx8rWgDYDvxWa06dhzBkzIWqoXzEerXQWtJUGRYJke7kzp57EzmEDVIZeA6I\n",
       "lbrXQBdeiT+YX8+Q3SegpUnxR9kmLsd7z86xTeZRL+Yp8w+Bx0HKW5dZDwQHYnMmDZHKFmwTN0g7\n",
       "Ttrls9WdXxGzFdPQyojvzcm3PQ+sIZFsm987rZN2nz10izERc8dWhN0YUQwon9bzNxmXuDwA27OO\n",
       "1pyqIR8y5gLDZxqKRUyfFrzkqAzzhDGSYehz4tUtqe0gb4DldDosa4NUBsLB+gmbMIsiG29ABhEN\n",
       "xZ1VDBnW0GawLsh1eBkm+rzpmaSYNc/gShyxFX8ODiQrERqCfFtqSEDU56H+yAfIgOehaQg2OrHz\n",
       "svdkG1YWazBsTETdtVvbMCLSrksJiXqeqSIEm8Hoj9KQDxlzoc5Dych987DOMFeBnHLHbPL5Q8ib\n",
       "3AobTPdJB2k0G29gDM9DVukgQ4aeZdZ/8WJhwvVXBgkGyciaGkdtKjjAwkPXQ3T67Co5/rMMHrPC\n",
       "NDQVxSF7LTcV8iwjk0KhInsnk8hf4AKcK5oSMXd1TXcJfo6rb2xZzpI++7x5dcgCpH2cbp5Rc/p6\n",
       "CEPGXGjPsshF2D0Kw35CGXMj/crnlPePqbDBVDP4gpJn4w2ksIZgRYIhu01AS7hgXYR4/U/JGfbG\n",
       "ACaa8IF8644S1pAVMvuDiIPxHyoa0gYyZdM8RCqTGa/BJ1PSjnUhF6ahHaJaYB6ndq7P8xCzMqtE\n",
       "sa2FREn2Tj6vhW9RDRkyUffMyIqZwo4ih7AuXoEGR0QdxvpWQQ4yDtGQgQwesPPrszXeSb4JcdRc\n",
       "cB4SkHl/gouQNXUZTPyTqe4CYpg6CQ5n/YVg7RPkWx9A3iStGzJIG/AcJDM0W6asBEGCEFRYypAd\n",
       "EtDo1u02mKrVxpc4MFGn2fJ3ZS23jTVE71vvAP8gr1gc1KaxhvQBtmkM1RCtvNKusgDaTmzuTU1D\n",
       "v2vxLXBYbXbFZ8xHeEZ2m1Wi2L4HG6t+75AtJf9N/vqVMRN1f6q/mi4VSuxu/vzTlWSTa4g6vPSe\n",
       "H8BnaP4BAxk8wPrGFrifjy49/PqgbC5EQwIyyyK4UOHnLnn8+SX9upw1Ntt7DNPbgsOupr953wf2\n",
       "R8vIm9jPQgbZDl7furJs2YYSxHPvZsiWCWgxQvPo6+/rLr5N6ErdTbrrfu70CfsXA1hD9D7cRae0\n",
       "mvfHkCPiLOc3yjykDaT6TBqilePf5AGsndXa+6Gbtj9G7mwCkVTWZp3QlvheapPISJ1YJZps9Oij\n",
       "Ldm7tebkJX6IachE3d9+FZYUKWXEx9rj/vFBgYg6PD2bH6HkLXMMZPAAe7wObV6kkf9qH2ouqCEB\n",
       "maXzuMDw46veWS3480vKuow1ttf0GGZOnEPr5k+J9zQf2dyzfXMDeVOs65zAIG0guHWl2VJ9SlDs\n",
       "wGZxuraJ7ZkYtEEvgD4Bjvkzlgvf71nf08N/y/K+fJvqoFexsR5ivZxxZQDgb+bzskGUKVUMeVHL\n",
       "JuABrZpnx7xlLPeY5E6sEk92BHDvOfIrPeOYM1H3bljOFgbIZwoU9PaGDmTEXboGldd+c0ENeZCP\n",
       "Kd+CBp/zZyrJdmE+w8gpeZifdQS9qX361qG6PjiIHYINBIIoMnoYOInP1Kw2weSfHE88oaypg/8+\n",
       "JCc/XlIY1wZGzBraiTLho9Ukfg/DTyZzQWykpQ9m2r7HJHdilUiyXN36Gur9CDzZBLtmtwyZuPuX\n",
       "4WU4F1OqTYGC/u/wz2gy0sVsrYiu/eaCGvIgN7STTQW+OAsNLRlv7nIwwxH/iEd6hw/SBgwOpsNY\n",
       "iqxXQEu0vBOTGli+EKezypo6KNBx+dSsKIyrA3bZrCFRmQf0Glo9o1Xz13suxC6y3cQZL+O4X6kX\n",
       "Um68gXr/Aqwhjtdd74Rn4u72HJmJdmSValOA0dsfvu7haDLOQeqGIro+A0YNCcg8XaIVDp/zF15y\n",
       "ZfNeQAxbESdUvrdhkDYQ7mCXI76YMQHNe5lgdbeg4HuMnhIaso/8x0X3fZMNF/wTnX8cOKoPcG7C\n",
       "NSQqu9pbC9V6tWp+cvL/noekxyR34pXGIP/th3DvfzhJ7m+/fNmUibknS7AfTr+GfRgiiT59+fJc\n",
       "NBm3Q+HX+Lo3QkNjfnnllY5inL/wklkKSjJciHgH4HsbBmkD4Q4mcTNktgsn2MVZY+XEvE7NjCfL\n",
       "dOAU50l/LxOsbLuG1/mdyguPE4Aq2fM9NF5sU5uTt4NdnjWd5nQyA8NXbFfYQOcvRr6n7mg/Xn6l\n",
       "A9fsmqm25+ErHbhm/x/2PwhNyLixSHUZAAAAAElFTkSuQmCC\n",
       "\" style=\"display:inline;vertical-align:middle;\" /></a><br>"
      ],
      "text/plain": [
       "<IPython.core.display.HTML object>"
      ]
     },
     "metadata": {},
     "output_type": "display_data"
    }
   ],
   "source": [
    "a_required_len = Equals(Len(a_sub), a_len)\n",
    "b_required_len = Equals(Len(b_sub), a_len)\n",
    "assumptions = [a_required_len, b_required_len, \n",
    "               InSet(i, Integer), InSet(j, Integer), j_m_i__in__Natural]"
   ]
  },
  {
   "cell_type": "code",
   "execution_count": 163,
   "metadata": {},
   "outputs": [
    {
     "data": {
      "text/html": [
       "<a class=\"ProveItLink\" href=\"__pv_it/basic_expressions/578b5e5d5a715aacadebbb3d83ea209ccb88394c0/expr.ipynb\"><img src=\"data:image/png;base64,iVBORw0KGgoAAAANSUhEUgAAAp4AAAAXBAMAAABQeFKZAAAAMFBMVEX////MzMxUVFRERES6uroi\n",
       "IiIQEBCYmJhmZmYyMjLu7u52dnaqqqqIiIjc3NwAAACW8nlqAAAAAXRSTlMAQObYZgAAAAlwSFlz\n",
       "AAAOxAAADsQBlSsOGwAABfdJREFUWMPdWU1oXFUUPpP5e/MymQQkXakJClZpA4FAcdMYN+kqNJWO\n",
       "BHUR0FooRAe6sF11QEuotXQISqSbPhtQFOvEQKEugtmkEErtWBBTNONQKS6kGKGbpjF4z33v3nd/\n",
       "znvzmLjyLiY599xzvu9+c+59990BgBa0byWiL0kc2VrREK1dp9lVaIv2lRKm5eN6VhKMzDSsrkRx\n",
       "VIsI5BATu06zq9AJmsKvCfPyKdy0ut0DkwZ+FX62Rt2My2ylMALXjb5+DzhETyWxKLH4sQT80Cc8\n",
       "vTP1mg9vUygu2ikWjlldLCGbgluzBxequp1dhIJnEq7FzsdMYQS+rnc9f5ml5xCXksrZBj+GQBB6\n",
       "V++8cm4rgLcofEkl+dTqucun4BAV0Wuvh7ygdyj468RXUm/kalQDRTL4zQsgTpkesyXEjyEQEdqz\n",
       "FcALChkxbJYavk11sinkiO7Dnt13Ivh7K/ibi58OlcIOvKXqySFynuExW0L8GAIRoVxPhBcUiuKZ\n",
       "MU1tlVtkkhOwRvReI/rmjfmsxU/nWqRnLVJPhChUEurZBj+GQEQo1xPhBQWhZ5HaWbrp7XkezuNz\n",
       "fl9Te37PbexXzatY8EvGfKi46BRKY4HueoXSEyG6BxPq2QY/hgAPdTcGKT0RXlAQejr4OLq3/EDf\n",
       "nofu6BuKn3CJF8V4K62Wr/vIq6unsMVx9nHamA8RF5NCL/TuzDSlJ0Lkawn1jMePI8BDHThO6Ynw\n",
       "goLQE+s18w68pG0g9Uvujr4p84Sn4Q2GfRwcVr7fyPPBFuQaoZlaOcc+bxjzIeLUI4aeQm0s8Emn\n",
       "RumJEMXphHqG+NAXSYB0YSg0rQcK1xPhBQWhZ5YV4ucVOItSyNG3PZhR7SDhDXiLSbuJJyJY5l8r\n",
       "Sl2D3kVuQp1N3MVIGEDzbLn8drn8Cv6rx/H2RU2EqCkMDwZ6OFU1ma8nQqQ2DY/WSHw4ImrSX0MK\n",
       "AdKFoeAVUT73kzK2PqknwnMKTrn86rFyGddwbgzgon/Ey/aJJKzEHgc21yxIOIDJc8NQHwuAp/zj\n",
       "5uFgc8hW/e+arS2jPvQ4B7lsTMqQMIXp4bO57VH1iRCZpPVp8Mb21E9AELBcnIFf2VZ9InzGqE/U\n",
       "801wH8rTeJUfoDOywKdAJhzH4q834IxxdLuobhaFQWat2utNiUtzApNECtPDV9ucS+m5qoxMst5N\n",
       "3pIjMYdVY737lW2v98mQgrLe3X8gv2kcP50t66UHYQ4yXivwQrE1IR94vX1sZwpNVgRs6EljPnqc\n",
       "padMYenJAt2H3ZSeCJEfTqinxHfXVyg9kQDtwlCAv8bI59FwSEHomW6Auw1dtR/g6kdy9N+4pSp2\n",
       "kPAkHlLSjeKU4zak3l2VdFUxYaBU8Q8Z6nz0OFO1MIWl5xLuUH8Yqn3fCs4xzqLm4XsT37DqNRof\n",
       "nPB8qIiGBCJc/tHvjHWi3AngBQWhJ56fDsJqtQrV8OS6F14E1Q4Snod+Rnro23s/lr6Wc3b3zYJi\n",
       "Qtd77OOooaceZ6oWprD07Ec2xvnzmXfnKj5Edkz3TMkNsUrjw1fdVUI0JBDh4gzgWUPOruce7fXh\n",
       "BQWhZ4qRv/LL00N9rnc9fN2/XgHVDhIe9R9RQVmrzTBLk4aeatz7IwdGRiqaatGebB/xfiQh7kPC\n",
       "9R6mKVRSI6yN6qLFuHjoDJn9vkJBvm8esV4SKXvGn4K86Kh/pg01THmHcMi8IOEDrSqM9uSrxH2I\n",
       "hJhNeh8SpultUUUY42Kh+/P0i8CsQkHeh5yS7h1jeGj7CXEKo+Kt1tFfcnXzdwtaiyP1jPCMRiiF\n",
       "EKXhxPefMs0eiNQzwjWa2s6S108Ib1NIi28lZdyMhHaQEKewIHaEpn4f2KTZhzeq6kBUrfTd44ad\n",
       "wvYsxAiUTv4jhkxzR/zz5+VlY0yEawEufEDmRHibgisU7jHe+RXbT4hTKDWS/EJgz1OLS0dGpuMD\n",
       "DYhm8h8tZJr56DHzbULN1qQpPIDwTV7fntuq1GFzOvD8N63w8nQHro7ax3vi7f9Fc9a9DlwdtQsf\n",
       "xtvY/gXa1RzzmJgC7AAAAABJRU5ErkJggg==\n",
       "\" style=\"display:inline;vertical-align:middle;\" /></a>"
      ],
      "text/plain": [
       "(a_{i} * b_{i} * i) +  (a_{i + 1} * b_{i + 1} * (i + 1)) +  ... +  (a_{j - 1} * b_{j - 1} * (j - 1)) + (a_{j} * b_{j} * j)"
      ]
     },
     "metadata": {},
     "output_type": "display_data"
    }
   ],
   "source": [
    "requirements = []\n",
    "dot_prod_and_more_amap.apply(*a_sub.entries, assumptions=assumptions, requirements=requirements)"
   ]
  },
  {
   "cell_type": "markdown",
   "metadata": {},
   "source": [
    "Again, we have the extra requirement that the indices match, not just the lengths."
   ]
  },
  {
   "cell_type": "code",
   "execution_count": 164,
   "metadata": {},
   "outputs": [
    {
     "data": {
      "text/html": [
       "<a class=\"ProveItLink\" href=\"__pv_it/basic_expressions/5eec19b978695c1802157e0d892a5f7f5cba0abe0/expr.ipynb\"><img src=\"data:image/png;base64,iVBORw0KGgoAAAANSUhEUgAAAjEAAAAyBAMAAABfSpdAAAAAMFBMVEX///+6urqqqqpmZmbu7u6I\n",
       "iIgiIiIQEBDc3NwyMjJ2dnaYmJhUVFTMzMxEREQAAAC0ii6rAAAAAXRSTlMAQObYZgAAAAlwSFlz\n",
       "AAAOxAAADsQBlSsOGwAACZ9JREFUaN7tW12InNUZfmfmm/+fXRBZWinuRUwaL8zY1hQT2nyULq00\n",
       "ZodslVVjsq1lBWvKCrVNTdnMhclFK+lUAl4Y6sSSi0JKBkSKCO6gxL8YXRRNL4o7LWsSi2zTsGJs\n",
       "b3r+v/f8fTOdL1so7LkY3/3OOc855/ne77zvOU8EIKW2COslKrtCZZ4V/22y38JajuoZwvG4GQcQ\n",
       "UwoDtvOX6o+kVWkL4wT73b2WzFzPfkujxmN75Ox4HEBMSTUQ4nBlozRe0OaXbq8lM9mOnxk28pR4\n",
       "cjOy8cvkAP73vQz3JWam1BXud0Cb3x1r+xEf8zPDRn6IPwhakS3LzttXJYCf+RYUw6TMwI/5f3IN\n",
       "bX7b15aZ5/zM4JEzyDVS0s6uSoC4Uq4nZmYT34P/pM9vbm2ZyYdeZvDIeWSnG5iZfNhviJ8mZqbI\n",
       "yIXHtPmlW2vLTLHjY0YbebOXmWKn3xBPJ2YmdVUNF80vQ7fBJ04eRmHwzenGgIhaPy2UKgy2uzmZ\n",
       "oSMHU2Ld25CtMyO3R2eZ2EN+TiVmBo6zbaarzY++ktQB+EcIgUgJxpo1MqPvDkI16wdVu4ZjAMko\n",
       "yy3JTGaWlS4euZSaU+9d2Toz5Tinruc7ItYmY2YL/WSXFjVmciSP+E4HtpKZ8QkFByEzA3BSNvqe\n",
       "f2a8H+QkYiDzAYEB+8ky53w+Q0d+NyPQf4hsnZl0zEaYbY4QkE3JmZmkQ76mzy9PJr0DB8zMZciJ\n",
       "FCdDE4a7Zrx4O4xA+/7dNkb1so8ZOnKYFyw8Im3iWQ/+THgWY4YBeErAXvZScmZqdJG/tOc3D8E/\n",
       "oyjRg0mxkBp7g35mtH44mUQYqbk4Zrgbc2aUrftMKjZ4Up8dS85MmWzB1X9bPh18CuXLkNqjHGuB\n",
       "JOXd/szwfjDxFYsZjhFMjYvuzn2Gfk1wPFBfk7KNr2kmbkkPyVGTMRMQVrJXdWZqDQiuQKX15YkR\n",
       "sgnTVY3DG+nHG6uYmcDGIu+X94P6Zo2ZUGI0MzQul3s+nyEjE58rcfCPuO3agXsC1PyQWAykPvuS\n",
       "QAwTUEO+pNqcPj8aFD+CjfX642RZky064fQDmcK3ZjAz9HnwOYgf9RfrF4S/x8ywCoYB3y7VRVbg\n",
       "ZIaOXL38awZHIy+1dWZKV2Vwt8dmvZjP0ohPEdnjYcsFtgVo86uShe+8989nFulry5EjXHDmj0/c\n",
       "T1/oN1curqx0GDP0OTwA4idHM8bZUPYjEbe6Qsol7jO0gmOwuJwb9TFDR4azHQ7+Abc1ZiqvfX5W\n",
       "AFDQaGxmsKuDCl3NDwTibAKnOU24rhs5+n7pnqtkkRtUGLtT22c2WFDpaBpXta8JVYyQDOmI/9wk\n",
       "R96AIz/2GVaOGKMB6gU0nBVmBGI6ATMLo7DUMOYnT2zpFuFM3UhszmjM2DcVpegiYE5jJqqA8/LY\n",
       "6GZGjtxWx0LjRAnq3Fmy10J6VcYXQnkYPeFsNHAhtGwZN+ZXE6lvcKYJgaJt57RgpvCHfzXQ8ygv\n",
       "j9ItlVT/6pmTuAJItCv0/MyIkTn4Jd+VXU8fTe3ApNfSOA1pRyXiRJJUrw4Li8b8ArTxZI38x/Oc\n",
       "loZ+ZnRV0JSfr97NjBiZg+/y5WBNAxRNKTM1qjg94Wo0eBnpwj50YXo/+z3sbZ4ZBPO3532n7C+R\n",
       "z2yaL8O8krdHLnjWNd331rCJEIdnpgenQ7i25bav+XidutZDreU1Ugt2/B9N939YcjPwzjoLTmbm\n",
       "1pnxMnONvqamx+7/WG25Az5v9mlT+O/gPcDkazrtn3D6qc9+N3vRd+26+dAvLvzkoAwIKCsaUkPz\n",
       "CYCpRn+Y3f1xUn1j+PXGDrwPB1Bd+sp+sgitovrzQ9279p6DIsj7PaybDaehMRmuumw8/YCMeR/G\n",
       "WXbB0L7Zum17YRzlw1ADzne1TM+QvjJ1Mo1n1Z/36FBfJYOVhHtg3WxIDY3JcFn9JjV45RmypCJ6\n",
       "I7TBMWdfeWeIbS+Mo9yjA4/UYcuot3GlCbtwRqyX10nOKhNVrJsNqaG5BcB9oX6EAifMdo99QxyM\n",
       "XTDwZBuWHD6+d3a2xS+DvlFZ9FRCCJnFc9L3sB+C45TcX0Ob8zLDlTU0QBjXF9s3xcE4srtQO1GO\n",
       "2FR+4fvqs+6+56+Ev1RlX6ybDaeheQRAtqSnjVNGJ6avhnNTHIzj+IKAyUE7F0EJ6asQfW+1UG2J\n",
       "wV1doxKWa5LkbYk1NHbVN7HHycyp6EC/xwVD+05st22DmVMxpLDVYWBynKxE7iekr2IUx28uN6LT\n",
       "5EGjMt1+Hh2iE2po7H0xHc1mRv0rFt6Aw2xl1+sPy77tsQhH2gYzL8Qww1aH50cS4HIk3grpK4rT\n",
       "OGZPwxWjMorZmm42nIZGhQOuo9nMbIqO0bSBBUP6Vsdvt22DmU0xzLDVYeB5spVcUX8JGew8fRk9\n",
       "nrNFN/BhelWvhN2lUSkiPJJYQ6NiE9fR4A7mDfujJS0pn2cNLJg8ncejpk2c6ufCqQwYR2GrQ8CF\n",
       "T0FT4rj0Fd0Z7aIXaK9Lh5vRK4PeURbYBRsJNTQmwzEdzfaZsejvrS4Y2je9atuGz4zF7b50dQiY\n",
       "KnHw9aiaS1859fc5svBAEsnTp6iyskg4m1RfUEINjclwZoIolrRRT0U5DNpnaN9iNwTTNpjZGHuC\n",
       "bGvzq1DzRpXqCekrK5dTrV/H2vBxfjOqVcJ7KRKzX9V0s0E0NLeIx2Q4rqPZzLwkG/EGZTP5pH0n\n",
       "R9sKh9oOZiIYa3S+OgQ8QqeTUwmNlL6eVDH7GBT+1hOK1gJolbBM0u2jt2i62QAami6dRYoai5hl\n",
       "ayNi591tshFvkGkbjWjfpUJH4RDbYEaHsafAV4eAqQaBg5OQvnb+lfM49vH8yqH5tlC03gatMjX/\n",
       "1MrFz/6u6WaDaGhKxFMaGsNnMlzF9Ia3Dh3vCGWNTYI1yJnnGdq38mKEQ22NGQMmUu+khMhXh4D5\n",
       "xv2Y5WBfvDCLU4806/uou1LTzQbQ0HwiHo1FeedNAVfWWCPW4IjVYr+BY+XABow9OltdBMz/NRr3\n",
       "nLhCN42XkWvphbqgPK1hWztRosNe24lPjnNcR3OEjY5oJBps9x0FS+ax8AYnjHd1EXCNZ8PFdh9m\n",
       "JmjWk/PcR2HdbBANzSfi1ZpcR7PLUdmINyjYp38h4U0gOwbGtzoEfCN/RdUDfZiha7ntVk8l1s0G\n",
       "0dB8Il7Q4zqaXS7JRryBY+niqqSB7BgY3+oQsHxFe5NfA2PdbEgNzScAZpv9YQ73x8k2+61hWgt2\n",
       "PHK0Yb1oNy3KenKdDC0LQNcw6//nl3atzPbf/wBf/dJgkR3/AgAAAABJRU5ErkJggg==\n",
       "\" style=\"display:inline;vertical-align:middle;\" /></a>"
      ],
      "text/plain": [
       "(|(a_{i}, a_{i + 1}, ..., a_{j - 1}, a_{j})| = |(i, (i + 1), ..., j)|,  \\\\ i in Integer, j in Integer, (i, (i + 1), ..., (j - 1), j) = (i, (i + 1), ..., j))"
      ]
     },
     "metadata": {},
     "output_type": "display_data"
    }
   ],
   "source": [
    "ExprTuple(*requirements).with_wrapping_at(1)"
   ]
  },
  {
   "cell_type": "code",
   "execution_count": 165,
   "metadata": {},
   "outputs": [],
   "source": [
    "%end basic_expressions"
   ]
  },
  {
   "cell_type": "markdown",
   "metadata": {},
   "source": [
    "# Next chapter: <a class=\"ProveItLink\" href=\"tutorial02_proof_basics.ipynb\">Proof Basics</a>\n",
    "\n",
    "## <a class=\"ProveItLink\" href=\"tutorial00_introduction.ipynb#contents\">Table of Contents</a>"
   ]
  }
 ],
 "metadata": {
  "kernelspec": {
   "display_name": "Python 3",
   "language": "python",
   "name": "python3"
  },
  "language_info": {
   "codemirror_mode": {
    "name": "ipython",
    "version": 3
   },
   "file_extension": ".py",
   "mimetype": "text/x-python",
   "name": "python",
   "nbconvert_exporter": "python",
   "pygments_lexer": "ipython3",
   "version": "3.7.3"
  }
 },
 "nbformat": 4,
 "nbformat_minor": 1
}
