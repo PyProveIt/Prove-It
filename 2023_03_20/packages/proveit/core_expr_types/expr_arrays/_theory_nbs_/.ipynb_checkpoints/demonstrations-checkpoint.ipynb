{
 "cells": [
  {
   "cell_type": "markdown",
   "metadata": {},
   "source": [
    "Demonstrations for the theory of <a class=\"ProveItLink\" href=\"theory.ipynb\">proveit.core_expr_types.expr_arrays</a>\n",
    "========"
   ]
  },
  {
   "cell_type": "code",
   "execution_count": 1,
   "metadata": {},
   "outputs": [],
   "source": [
    "import proveit\n",
    "from proveit import defaults\n",
    "from proveit import ExprRange, ExprTuple, IndexedVar, var_range, ExprArray, VertExprArray\n",
    "from proveit import i, j, k, m, n, p, q, A, B, C, D, E, F, G, H, I, X\n",
    "from proveit.logic import InSet\n",
    "from proveit.numbers import one, Natural, NaturalPos, subtract\n",
    "%begin demonstrations"
   ]
  },
  {
   "cell_type": "code",
   "execution_count": 2,
   "metadata": {},
   "outputs": [],
   "source": [
    "# defaults.assumptions = [InSet(i, Natural), InSet(j, Natural), InSet(k, Natural),\n",
    "#                         InSet(subtract(j, i), Natural), \n",
    "#                         InSet(n, Natural), InSet(m, NaturalPos)]"
   ]
  },
  {
   "cell_type": "code",
   "execution_count": 3,
   "metadata": {},
   "outputs": [
    {
     "data": {
      "text/html": [
       "<strong id=\"A_i_to_j\">A_i_to_j:</strong> <a class=\"ProveItLink\" href=\"../__pv_it/demonstrations/f544c1c0c0391d80fd85848ffbbdf729a89f95230/expr.ipynb\"><img src=\"data:image/png;base64,iVBORw0KGgoAAAANSUhEUgAAAJAAAAAVBAMAAABbFXrgAAAAMFBMVEX///8QEBAiIiLu7u5ERES6\n",
       "urqYmJiIiIjMzMx2dnZUVFRmZmaqqqoyMjLc3NwAAABb1yYoAAAAAXRSTlMAQObYZgAAAAlwSFlz\n",
       "AAAOxAAADsQBlSsOGwAAAZ1JREFUOMutVD1PAkEQfeEkSO4ECn+AH42JzSWaUGpBtLCgMxYW/AET\n",
       "YqygECtL6ezUzpKroSFoD4mJiRUYC0NhNGqMGgHnFmFn92TVxJfs3ry84d3NzC6Ajzuo0LkJsQYj\n",
       "TU1s/sFo4kHGTk/VdG5EnRnZpZai6dyIclfGR8cFRdO5CdH2q2xXdreqtE/jRtxGPmQlqGeUyjRu\n",
       "hOe8DONNHBQBqzWKmxCujr/5T9ELD/cnVGx2+BKVW1sGIxuxd/85RyuyViktM41zj9b+tsFop1J+\n",
       "HsRJID7FNM6FYW20j0Wf/SgrQSiBcO47/pORTWua/PI05nBGHPNk3IUr2ie5NLKCHiJ5vX+fbIcu\n",
       "3DXFY13c1GB1fE1yZrREiUIW25DFErSlW1iIeljsXcBJd4pYBWboLYzbqdRkakUYhWbpF/P42kL+\n",
       "DCjZSndcnPeuqAR58KynAhwXCmc9OguUxpMRl4fOaXiI8ryGx42KwUvGyR77gtOWP3iF943azUMx\n",
       "Zg08GTlVC2YPDmYkODUl+fLHK/m7P8mNBP4Fdt7FJ43nemqaFHCLAAAAAElFTkSuQmCC\n",
       "\" style=\"display:inline;vertical-align:middle;\" /></a><br>"
      ],
      "text/plain": [
       "<IPython.core.display.HTML object>"
      ]
     },
     "metadata": {},
     "output_type": "display_data"
    }
   ],
   "source": [
    "A_i_to_j = var_range(A, i, j)"
   ]
  },
  {
   "cell_type": "code",
   "execution_count": 4,
   "metadata": {},
   "outputs": [
    {
     "data": {
      "text/html": [
       "<strong id=\"B_i_to_j\">B_i_to_j:</strong> <a class=\"ProveItLink\" href=\"../__pv_it/demonstrations/1ec989c54ac1d8f0a06a09d30ec3866416deb5480/expr.ipynb\"><img src=\"data:image/png;base64,iVBORw0KGgoAAAANSUhEUgAAAJAAAAAUBAMAAACQSalFAAAAMFBMVEX///92dnaqqqoiIiLu7u5m\n",
       "Zma6urqIiIjc3NwQEBDMzMwyMjJUVFRERESYmJgAAAAeMT9/AAAAAXRSTlMAQObYZgAAAAlwSFlz\n",
       "AAAOxAAADsQBlSsOGwAAAbBJREFUOMutUz1PAkEQfcCCCqfYWUqCjbXaWF1hQmPi/QRbbSQxhIbE\n",
       "M7GX0sRg6IwVV9hQiCYWFmAgNkQTlN4YLFSM4Mcs3MfenXdYOMlu9u1M3syb3QHw9F2rnRVhmhP7\n",
       "2dRDv1a9M1ABkD4ErxP72UQDqOtZx7tA5NXyObGv7aeBLUUvj7JPdYVyHdjXOlRNJz08S89A7MDy\n",
       "ObGv1WmVVVMmuyzaZNuwr1E/V5f1c6mZrbYBpnpgP4t+ZnMVfuCJd1QEj4CArtSF2aM30dg7ME9Z\n",
       "wau6pTUrSBExf4/jbW+iyTxlNL5KH1bjnbjBt6Q3UfzCeuHoF2/+eiSHX/AoohLJkt7AMomhzGgP\n",
       "qbgM2ZCtY4uIuTlkvZ8oaQgHNfoyJHPjFHtJsB73WVggWqPAgXuwmQhlGoJDGSsBBRIfuxu6awIL\n",
       "lEXA4Var0LofEIUW6WYJ+hbib8CDr/l8J3j2tlkpeykiKMOGhR7NuaSJwYhbny6oKQiIcZoiEk27\n",
       "iMRgnAgVXKlIwY6HRLvnM2BpF5EYjJzd545uGD/Y/Wq24MqoWVL+NLmxzTz+xcIZGT8W85aA2HJf\n",
       "igAAAABJRU5ErkJggg==\n",
       "\" style=\"display:inline;vertical-align:middle;\" /></a><br>"
      ],
      "text/plain": [
       "<IPython.core.display.HTML object>"
      ]
     },
     "metadata": {},
     "output_type": "display_data"
    }
   ],
   "source": [
    "B_i_to_j = var_range(B, i, j)"
   ]
  },
  {
   "cell_type": "code",
   "execution_count": 5,
   "metadata": {},
   "outputs": [
    {
     "data": {
      "text/html": [
       "<strong id=\"C_i_to_j\">C_i_to_j:</strong> <a class=\"ProveItLink\" href=\"../__pv_it/demonstrations/d3ad75402e2645f2246a9b915122dbf6067d72fd0/expr.ipynb\"><img src=\"data:image/png;base64,iVBORw0KGgoAAAANSUhEUgAAAI0AAAAUBAMAAABCGaMdAAAAMFBMVEX///+6uroyMjLMzMwiIiJm\n",
       "ZmaqqqoQEBB2dnbc3NyYmJhUVFRERESIiIju7u4AAABBACUiAAAAAXRSTlMAQObYZgAAAAlwSFlz\n",
       "AAAOxAAADsQBlSsOGwAAAbdJREFUOMutVLtKA0EUPXm6C8lqp40QK8EqjdgG1MbCrCBW8UHUNvoD\n",
       "ahAsTVJa6X6CjY3BTrBIhO1EfDAQFHyEiIioYHBmdnZ31hCZwinu3tlzz9m5Z7kDwLiuHutFeKtZ\n",
       "q1p7UFsy9+IW8VnLg5IbBKtTijoS93mchsWK94XTNBD7VJORucOEhn4PCm/SEFpX05G42juLox5U\n",
       "XqIhYirJyNyDDIsNF9LfeHNpJR2ZW7aFL06X2reoeVDQcbmIAFnhsOa8i7oO77rFj6muOi4X0TS2\n",
       "eEJcqOeFH87ZxNinbjJddWRuloW450eU6yw7mwTHuuvIXP73NYSuxBF4X0UMHiroCC6ac9Rz5ksJ\n",
       "zV7Cu9GZzxox7LasY3RqsG4EF2aeln0BAwT7K0CLObpmIVSCfp+RdRhivEJKeBBcg+zQzV3tqI8+\n",
       "zqk306wgV51hEjZy9bN63eI6HJlk9pkiwQTxuRjxB7dN7Sr4x241Av4UOvqKE2njj2M8ZTJ7vZWP\n",
       "BXSKnTMh5RF/HI2TCgzbh54uhY6+/WEHEPeWkvLkYQBK/q5NdEUAWTls/T0/MbXbY2gM/7LmF4Af\n",
       "EO16o73Dnp4AAAAASUVORK5CYII=\n",
       "\" style=\"display:inline;vertical-align:middle;\" /></a><br>"
      ],
      "text/plain": [
       "<IPython.core.display.HTML object>"
      ]
     },
     "metadata": {},
     "output_type": "display_data"
    }
   ],
   "source": [
    "C_i_to_j = var_range(C, i, j)"
   ]
  },
  {
   "cell_type": "code",
   "execution_count": 6,
   "metadata": {},
   "outputs": [
    {
     "data": {
      "text/html": [
       "<strong id=\"D_i_to_j\">D_i_to_j:</strong> <a class=\"ProveItLink\" href=\"../__pv_it/demonstrations/e31545e603bce2ce322796babed15c5daffd0cac0/expr.ipynb\"><img src=\"data:image/png;base64,iVBORw0KGgoAAAANSUhEUgAAAJUAAAAUBAMAAAB2YGIBAAAAMFBMVEX///8iIiLu7u52dna6uroQ\n",
       "EBBmZmbMzMyqqqqYmJgyMjLc3NxUVFRERESIiIgAAACK51z6AAAAAXRSTlMAQObYZgAAAAlwSFlz\n",
       "AAAOxAAADsQBlSsOGwAAAaVJREFUOMutVD1PAkEQfZyGTwG1sKYxajRAZWFh9A8of8CEmJiYGA2N\n",
       "tYaSin8AhY2V/gPphUCjheFy1xs/IhpFQZw9WG5vVxYLX8KEecM+Zt7NHoCHXrPWvIQLhdAhZnWr\n",
       "5vUw/QRCH2JdIXSIl4HS6SAJfFPYE6oKocWJDfgzvMt3CttFoW2Z0OIpB0y2B0n0mcJV2q0qhBYW\n",
       "fSItPnCDdVoRHJAJLbrMlY4wMEppLGMUoYNjboj6CvCBUd/AuuiAh1gqa3aCmTv1Cvhyg4HxJjnA\n",
       "CT/768fp0VqOufGMMHCoLTnAiSgLQY2WY26pKAw838BWBb8QY7WYucYOkNznA9/BsF+IhES4WoYq\n",
       "k+DmRsnPbIGSMA28mUVkkQ6kyhLharGSQZer/5thhgva1DlKEqv0CKxO1Txgp6hZ36yXODRvTLPo\n",
       "aLES6BB8WR5mqLFar1q7dd4D50LHqQUKeZlw/corMwYTYvYlfC+wx5+WCVdLvVMTnp3NCMnKPU1t\n",
       "S4SjFVlr2d5SH0nPzsp3Lqau4ugSPOrh8e8V/x9v+Nkx/g1Hu8APXm6IqA0Uz8oAAAAASUVORK5C\n",
       "YII=\n",
       "\" style=\"display:inline;vertical-align:middle;\" /></a><br>"
      ],
      "text/plain": [
       "<IPython.core.display.HTML object>"
      ]
     },
     "metadata": {},
     "output_type": "display_data"
    }
   ],
   "source": [
    "D_i_to_j = var_range(D, i, j)"
   ]
  },
  {
   "cell_type": "code",
   "execution_count": 7,
   "metadata": {},
   "outputs": [
    {
     "data": {
      "text/html": [
       "<strong id=\"Aij\">Aij:</strong> <a class=\"ProveItLink\" href=\"../__pv_it/demonstrations/5c23fba9289b116293ae940ed2d9d410ec6d6f6f0/expr.ipynb\"><img src=\"data:image/png;base64,iVBORw0KGgoAAAANSUhEUgAAACIAAAAVBAMAAADRFiHkAAAAMFBMVEX///8QEBAiIiLu7u5ERES6\n",
       "urqYmJiIiIjMzMx2dnZUVFRmZmaqqqoyMjLc3NwAAABb1yYoAAAAAXRSTlMAQObYZgAAAAlwSFlz\n",
       "AAAOxAAADsQBlSsOGwAAALpJREFUGNNjYACBtwzo4D66AM9/dBHu9Q/QRObNb0AV4CuoP4CmieF8\n",
       "AqpIDEP/BAYGZohZYP0bGN4vYGDgLACLaAAxu/fu9Q4omswZGPgVUEQ2MDAwCTCwVoHYzNVAW1mB\n",
       "9vB+YDDnNwBZy3OBgeEhkMHyj+HxIZAaY84NDCb/LzPw+P+dwOAONoIX4TLmz2CX8CN8yHNhAzPQ\n",
       "nY0IG5mXP+CQYWCoQgsnBoZrqCLBvBECqCIJ3NUGDACIlimHDrQuwwAAAABJRU5ErkJggg==\n",
       "\" style=\"display:inline;vertical-align:middle;\" /></a><br>"
      ],
      "text/plain": [
       "<IPython.core.display.HTML object>"
      ]
     },
     "metadata": {},
     "output_type": "display_data"
    }
   ],
   "source": [
    "Aij = IndexedVar(A,(i,j))"
   ]
  },
  {
   "cell_type": "code",
   "execution_count": 8,
   "metadata": {},
   "outputs": [
    {
     "data": {
      "text/html": [
       "<strong id=\"Bij\">Bij:</strong> <a class=\"ProveItLink\" href=\"../__pv_it/demonstrations/b2540ac3e53a84b9b46e1e396c0df40b119644cf0/expr.ipynb\"><img src=\"data:image/png;base64,iVBORw0KGgoAAAANSUhEUgAAACIAAAAUBAMAAAAaSvJBAAAAMFBMVEX///92dnaqqqoiIiLu7u5m\n",
       "Zma6urqIiIjc3NwQEBDMzMwyMjJUVFRERESYmJgAAAAeMT9/AAAAAXRSTlMAQObYZgAAAAlwSFlz\n",
       "AAAOxAAADsQBlSsOGwAAAM5JREFUGNNjYGB4+//Mmb0LGJDBXAYGnl/IAhzfGRjYviKL8AHl+b4j\n",
       "i/B8YGDgnoEswnmBgeUwisnrr5effsDAwNIA5oGk6hsYmOYxMDAWgEWsgPgmEMuj6PoDxO8LkAS4\n",
       "/gGJ8wlsNSAOS6kCAwP7D6DobwZ3fgegCCvTBqBTJjAwZG5haFEGqXFhDGDguf/nzOlLQM51sBnc\n",
       "D+DGsXwBW8ffABdh2hDAIsDAsBJhJcvxBq5JDAw1KOHEwMTAsA9VJIU7awKqyAPWUgcGAFfjMymJ\n",
       "146sAAAAAElFTkSuQmCC\n",
       "\" style=\"display:inline;vertical-align:middle;\" /></a><br>"
      ],
      "text/plain": [
       "<IPython.core.display.HTML object>"
      ]
     },
     "metadata": {},
     "output_type": "display_data"
    }
   ],
   "source": [
    "Bij = IndexedVar(B,(i,j))"
   ]
  },
  {
   "cell_type": "code",
   "execution_count": 9,
   "metadata": {},
   "outputs": [
    {
     "data": {
      "text/html": [
       "<strong id=\"Cij\">Cij:</strong> <a class=\"ProveItLink\" href=\"../__pv_it/demonstrations/40822cc19599f75195f37e8f4a897f7089b646470/expr.ipynb\"><img src=\"data:image/png;base64,iVBORw0KGgoAAAANSUhEUgAAACAAAAAUBAMAAAAevyJ8AAAAMFBMVEX///+6uroyMjLMzMwiIiJm\n",
       "ZmaqqqoQEBB2dnbc3NyYmJhUVFRERESIiIju7u4AAABBACUiAAAAAXRSTlMAQObYZgAAAAlwSFlz\n",
       "AAAOxAAADsQBlSsOGwAAALhJREFUGNNjYGDgu7N7F2cDAwJcv8fAFrIAwX/jDCTiJyAE1B8ACXEE\n",
       "n+MbiDRFCMx3AJGPEQL9FyA0H8QUAwZ/qHEcEAlnhnow/QChxR9EsBkgBMAu4GBgvA026GoCw3yQ\n",
       "3j6Gt/wgXaxsCgxsvxgYJB4wzEsBqXjHEcDA8PT0VgEg+yzYACa4n/j+gc3lh/uJTSGADxgE5nDL\n",
       "+PZOYC5jYLjNgAzYGBi0UATkmIQLUAQWsF59wAAAt0kqBAk8a+MAAAAASUVORK5CYII=\n",
       "\" style=\"display:inline;vertical-align:middle;\" /></a><br>"
      ],
      "text/plain": [
       "<IPython.core.display.HTML object>"
      ]
     },
     "metadata": {},
     "output_type": "display_data"
    }
   ],
   "source": [
    "Cij = IndexedVar(C,(i,j))"
   ]
  },
  {
   "cell_type": "code",
   "execution_count": 10,
   "metadata": {},
   "outputs": [
    {
     "data": {
      "text/html": [
       "<strong id=\"Dij\">Dij:</strong> <a class=\"ProveItLink\" href=\"../__pv_it/demonstrations/d07264199fe181b9854a2ae697e256089cfdd1220/expr.ipynb\"><img src=\"data:image/png;base64,iVBORw0KGgoAAAANSUhEUgAAACMAAAAUBAMAAAD1iJl/AAAAMFBMVEX///8iIiLu7u52dna6uroQ\n",
       "EBBmZmbMzMyqqqqYmJgyMjLc3NxUVFRERESIiIgAAACK51z6AAAAAXRSTlMAQObYZgAAAAlwSFlz\n",
       "AAAOxAAADsQBlSsOGwAAAMJJREFUGNNjYGB4+//O2TsbGFDALwYGzh8oIuz/gEQqihDfdyDhPwFZ\n",
       "iPcDkNhvgCzEfwFI1B9AFqp/ACTmGzBoQ0wGEe8LgMR5BwY7sBAjiHcfxPqKYuNfIOb8ieEs1QsM\n",
       "fmAL9DJgzrrFwPTgE0gooQtIcAGd5ZjAwK0hAOQwKZgxMPDc/3PmbjbIxQ/A5qxEMlNfHUz9RhLq\n",
       "YmNQBloWgCSk85qhtIGB7wBqwDE0MHBNQBVhUVhSiqaIkyEviYEBANIoMCwlMWxdAAAAAElFTkSu\n",
       "QmCC\n",
       "\" style=\"display:inline;vertical-align:middle;\" /></a><br>"
      ],
      "text/plain": [
       "<IPython.core.display.HTML object>"
      ]
     },
     "metadata": {},
     "output_type": "display_data"
    }
   ],
   "source": [
    "Dij = IndexedVar(D,(i,j))"
   ]
  },
  {
   "cell_type": "code",
   "execution_count": 11,
   "metadata": {},
   "outputs": [
    {
     "data": {
      "text/html": [
       "<strong id=\"Eij\">Eij:</strong> <a class=\"ProveItLink\" href=\"../__pv_it/demonstrations/ee3d7f7dad9a57caecc65f1091c71ab57ea2d8720/expr.ipynb\"><img src=\"data:image/png;base64,iVBORw0KGgoAAAANSUhEUgAAACEAAAAUBAMAAADxfUlCAAAAMFBMVEX///+qqqrc3NyYmJjMzMxm\n",
       "Zmbu7u52dna6uroyMjIiIiJUVFQQEBBERESIiIgAAAD3YE8vAAAAAXRSTlMAQObYZgAAAAlwSFlz\n",
       "AAAOxAAADsQBlSsOGwAAAMJJREFUGNNjYGB4e+b27ltnGZDBTyB+iyzA8R1IpCKLsP8AEnnIIpwf\n",
       "GPgYWJBF+C8wNKOYy9C/eu8nIJUE5oDV1jswLQBSdWARLgcgMZ+BoYAhAVnXXwYGBbYHyM75ByT4\n",
       "Evo2gDh5gSDnfAES2mwPvoFEAiRBZn0AqjvBlAgynS2hlIEhe/7v3XvPT2DghZg0GWFcfgqY+oQQ\n",
       "kWRlSAc68ABCJPsRg48AA98GVP8IMHAaoAhwJMzwQVXCzBAXxsAAADPyLaZkFvliAAAAAElFTkSu\n",
       "QmCC\n",
       "\" style=\"display:inline;vertical-align:middle;\" /></a><br>"
      ],
      "text/plain": [
       "<IPython.core.display.HTML object>"
      ]
     },
     "metadata": {},
     "output_type": "display_data"
    }
   ],
   "source": [
    "Eij = IndexedVar(E, (i,j))"
   ]
  },
  {
   "cell_type": "code",
   "execution_count": 12,
   "metadata": {},
   "outputs": [
    {
     "data": {
      "text/html": [
       "<strong id=\"Fij\">Fij:</strong> <a class=\"ProveItLink\" href=\"../__pv_it/demonstrations/14590420a9c6b6a07907e087797f4570bae349a10/expr.ipynb\"><img src=\"data:image/png;base64,iVBORw0KGgoAAAANSUhEUgAAAB8AAAAUBAMAAACHR/vJAAAAMFBMVEX///9mZmbu7u4iIiLc3Nyq\n",
       "qqq6urp2dnbMzMwyMjKYmJhUVFQQEBBERESIiIgAAAAXoWMmAAAAAXRSTlMAQObYZgAAAAlwSFlz\n",
       "AAAOxAAADsQBlSsOGwAAALdJREFUGNNjYGB4e+b27junGJDATyCehcTn+A4kliEJ8H0DEiFIArwf\n",
       "GDgYApAE+CcwdCEbydBfwDKFgUEFYh6IqL+9+QADQx1YgLkBSMxXYBBgQHUGE7KRDGwgZzDkbQCR\n",
       "eqJAgv0HkGB68AkkIBAJJDg/AAkWVQOQsEIhA4P2/d9bQK57ANaP8JK+Bpj6AheIZGRQB7rrAFxA\n",
       "+wlDTwAD3wYUBwUwcC5AcZDCtB4UBVwMckIMDACOUycmfACLygAAAABJRU5ErkJggg==\n",
       "\" style=\"display:inline;vertical-align:middle;\" /></a><br>"
      ],
      "text/plain": [
       "<IPython.core.display.HTML object>"
      ]
     },
     "metadata": {},
     "output_type": "display_data"
    }
   ],
   "source": [
    "Fij = IndexedVar(F, (i,j))"
   ]
  },
  {
   "cell_type": "code",
   "execution_count": 13,
   "metadata": {},
   "outputs": [
    {
     "data": {
      "text/html": [
       "<a class=\"ProveItLink\" href=\"../__pv_it/demonstrations/aee78aa821b8d02125f08cebe09b1c17bde35d130/expr.ipynb\"><img src=\"data:image/png;base64,iVBORw0KGgoAAAANSUhEUgAAADAAAAAVBAMAAADyTXAxAAAAMFBMVEX///8QEBAiIiLu7u5ERES6\n",
       "urqYmJiIiIjMzMx2dnZUVFRmZmaqqqoyMjLc3NwAAABb1yYoAAAAAXRSTlMAQObYZgAAAAlwSFlz\n",
       "AAAOxAAADsQBlSsOGwAAAMBJREFUKM9jYACBtww4wH0c4jz/cUhwr3+AXWLe/Aas4nwF9Qewm8Rw\n",
       "PgGrRAxD/wQGBmZMezYwvF/AwMBZgC7O7r17vQM2k8wZGPgVsElsYGBgEmBgrUKIME+rBFrICnQR\n",
       "7wcGc34DuITRg36gxEMgi+Ufw+NDCB27GRoZGEz+X2bg8f87gcEdISHKgGzuZ3iwMP9jcDNGhPCF\n",
       "DcwToGw5jq/JCB3LH3DIMLzevXt3AEN0TiVqGPHgishgXBLI+gFBrC+42wbOhAAAAABJRU5ErkJg\n",
       "gg==\n",
       "\" style=\"display:inline;vertical-align:middle;\" /></a>"
      ],
      "text/plain": [
       "A_{i, _a}"
      ]
     },
     "metadata": {},
     "output_type": "display_data"
    }
   ],
   "source": [
    "ExprRange(j, Aij, one, n).with_styles(parameterization='explicit').body"
   ]
  },
  {
   "cell_type": "code",
   "execution_count": 14,
   "metadata": {},
   "outputs": [
    {
     "data": {
      "text/html": [
       "<a class=\"ProveItLink\" href=\"../__pv_it/demonstrations/b7d26508ca175f4e77a4a79ae0682391a34b4e790/expr.ipynb\"><img src=\"data:image/png;base64,iVBORw0KGgoAAAANSUhEUgAABLAAAAAXBAMAAADpWau5AAAAMFBMVEX////MzMxUVFRERES6uroi\n",
       "IiIQEBCYmJhmZmYyMjLu7u52dnaqqqqIiIjc3NwAAACW8nlqAAAAAXRSTlMAQObYZgAAAAlwSFlz\n",
       "AAAOxAAADsQBlSsOGwAACAJJREFUaN7VWm9olVUYf+51293u7n13/aD0IXEsIgzG5peISCdCCyRo\n",
       "goWIglYgSdlkBekXb0I48ssgcGDQLgn5QUZjEBFR3QgH6gcvSljZ8tIgMrO7qZHLdL3nPefcc857\n",
       "znPe585V+MLmu+f5nef5/Z7nvOe8fwSAKtxnR6D/cX+zdxz3nSBMY74cnV9BICPkYCP/Fe2mijr3\n",
       "s0ft94JcQvaOI0FQo0yv/C8TK9J4lp+PuSFts9RgbmSm73rXmrW2fWihq+vdAiWuA3lRnfrZo3Yi\n",
       "EmOP2UnIi94BZxOJjzXS4rEGytp4b9BShBqzfKHJLbjHnSNPLATZ0gvQ42D5IkB6jhTYRraV5FkC\n",
       "e8xORmLsMTsFqdg7jgRBDWnygz0NoPcGK0WosXUwOmvtce/th+5SEyDIWrgqPlu0N8474YJ5i7TF\n",
       "2shMPV4Ce8xORiLsUTsFmfGNSxDUkCYv2NMAem/QUoQaW/jZF186r7/2q9SZiyEPhnEP2rcVmRCd\n",
       "uUNaax3IPfXLxcsetZORCHvUTkLu8V3/icTpmrxgTwPovcFLsQdO80lauVx2jbqW/5sYH0P2hD9H\n",
       "7csmHW6cbXspgV3IUXniZ4/Z6UiEPWonIUc98NNJxOma/GBPA+i9wUsxCkf4kgnnBl2jirk/ifEx\n",
       "ZLhff7DZuTNnH6bepFjISXniZ4/Z6UiEPWonISc98CNJxOma/GBPA+i9wUsxKS6fZ2D1hOuxsZy6\n",
       "TXzARJCpG9PnXVfo6nXTa2gFciH3mxc/wh61k5EYe8xOQ+734EeTiNM1+cGeBtB7g5diP2zn6w3U\n",
       "Op0zPrhOvTbcyHx4Sz/lYHm5CrndpMgu5JQ88bJH7WQkxh6z05BTHvz2JOJ0TX6wpwH03uClmIKX\n",
       "Iu/jwz3hU+OJ6Fk3q66oC8OHbkhD9rMuz3OyjtSPZTvD+/o56ThRf4n6WPgT3lhyw8nJR/HIBjKz\n",
       "g19T0qmxF/w0Cobdm8NA2uzFWMXesHsLY0Z4o2Kwdxx6O9ShMsdd3uRWHLusrhxxF0Wgduu/g2uM\n",
       "lIwDdAxAanqA/bHqm3rEsA5/SEMrtA7gr190pH50dEZPGNwhErCDLW8HK8JQhLfxUhtIThf6jT5w\n",
       "9oKfRsGwe3MYSJs9H6uxN+zewhhIaNlgsMcmFqejbTcqc9zlTR4H22V15oi7KALjEvr52lsEaA5n\n",
       "Xo6PP6UiAjwvDR0bgjnPTqghjf06XCXTN6UjJwmm2J1+zwZhuAk19F7RRAazJkONveR3StsINLsv\n",
       "RyyCxV6MrbM37d7CmBFqJntsKxTt0N5zDphMtb76kltx7LI6clguikDtSXSWa1zH7rwH+RcZbWJF\n",
       "a9/TwL8JRJXIlMLwWTuyA3l41bcgoOF+DatH9ImVlTtzal5mPMDKbq+2DmSm9xq7Gx2SXo19xE9n\n",
       "b9p9OUzkm/umiyKEYH9ATSxDFbd7C2NGGAouCfYYFV3Q4VXn80MFWTdDU90VJU+QpcCqMaKssRxu\n",
       "F0VgWLTOi2tVi4aiZ9+f2V55V59Y2Xk299hs76vWL7H2AfhoRPiiX/W/TOSJ/sGWauQEOBrqe7mk\n",
       "T6zI3hYO6D+mLpOPXVEdyPSPZ/aKh/LIq7Nn/DT2cbvMYYaPfhnI7Ou7Ya8IIdmHY3X2MbtRmHpU\n",
       "V4Tu3z6scvYYFU0QK2NnvlNkNjRprjC5I68uS4G1xoiymjkwlyVQNUsIZEV7Ac6rFh2BFQDHF45B\n",
       "rm9+Ql+xnitBtm++BF8vvFefWCtK0Lwt/HcriF/NRSfy1++gQ0AfYt8zy6BPLGZPsy+XT6r1N7Ut\n",
       "iqNFjU5sZMsPwK6hLcJrsGf8FHvLLnOo8EURxUQG4yPwF4fW2bOxin3cbhSGRxWFiSNfLacEe4SK\n",
       "LoiVsdA6ITPrmjQXS16PZZTOBqvGyLLGciAuW+BWMAWyos3xl3C8RVuguWBts6w1OX155bMieCL8\n",
       "dcZaEB3I7uj+1IBq91hn7I19phSLww8bWRtmdIMB6dXZR/wc7IWdkIMj05WmnTHoTMnJXtgphYmQ\n",
       "wa236uwRKrqgblgJzWWZ2RigXCx5giwFthtj5kBcBIHpSmonv0GMWhRq1D+JahOr3Z4Vv8DvAPb7\n",
       "NgdyFwynYlBtYk1Y0yUoBlUzDj9s5FDTQFV+qWVenX3Ez8Ge2yk5OLKl0FosGNBorIO9sBMKw5GZ\n",
       "3qcCyR6hogvaBReglpLijQHKxZInyFJguzFmDsRFENhSyPcGswXZIqZxvdG87ARvzXhsVpyEYO3y\n",
       "d6LXCvYzbRw5C5u/ikEjB79BrEA848zyB0pmnPo7jBiyOzUQEpxRXsWe8XOxF3ZCDoGsQfODBQPK\n",
       "xrrYczulMByZrqxoF+xRKuv1x6tuGGqVdRs3n7yEK0qeIEuBrcbEciDDCAJrobhMb1G2iGk8rkJ9\n",
       "eruSegWujn0OoIdhhpXlloWFWcjb14aNbOqES4MmlDtYAsMuMr62sGDGEe/3bOR6eKQgis+9ij3j\n",
       "52Iv7IQcArkR8p+YUDbWwV7YKYXhyGXV9D45dTAqSlBYxvfhp+9lZn2AckXJ/bIU2G5MLEcez5Eg\n",
       "cCO0VYPukmwR0xiYtHLI+4oy+TtCuUFHjhxZIPNVbcLR2Decgy6r0cLo7B1HUGkkAz15AnipcuRQ\n",
       "jZvcA5pK1NAoEnNsIrPetGjEvefA2C9BYRY/rqGQPvBS5fAUGvm0miGHzjTqoP8vkMFFI+49Rwb+\n",
       "tcIsflxmieIsWQ5Vvn8AqzE2wO6CqLUAAAAASUVORK5CYII=\n",
       "\" style=\"display:inline;vertical-align:middle;\" /></a>"
      ],
      "text/plain": [
       "(A_{1, 1}, A_{1, 2}, ..., A_{1, n},B_{1, 1}, B_{1, 2}, ..., B_{1, k}), (A_{2, 1}, A_{2, 2}, ..., A_{2, n},B_{2, 1}, B_{2, 2}, ..., B_{2, k}), ..., (A_{m, 1}, A_{m, 2}, ..., A_{m, n},B_{m, 1}, B_{m, 2}, ..., B_{m, k})"
      ]
     },
     "metadata": {},
     "output_type": "display_data"
    }
   ],
   "source": [
    "ExprRange(i, ExprTuple(ExprRange(j, Aij, one, n), ExprRange(j, Bij, one, k)),one,m)"
   ]
  },
  {
   "cell_type": "code",
   "execution_count": 15,
   "metadata": {},
   "outputs": [
    {
     "data": {
      "text/html": [
       "<a class=\"ProveItLink\" href=\"../__pv_it/demonstrations/000e011c4fb3f42285a4d2ee4257e77f15613ecd0/expr.ipynb\"><img src=\"data:image/png;base64,iVBORw0KGgoAAAANSUhEUgAABMEAAAAXBAMAAADw0kUfAAAAMFBMVEX////MzMxUVFRERES6uroi\n",
       "IiIQEBCYmJhmZmYyMjLu7u52dnaqqqqIiIjc3NwAAACW8nlqAAAAAXRSTlMAQObYZgAAAAlwSFlz\n",
       "AAAOxAAADsQBlSsOGwAACDdJREFUaN7VWm+IVFUUPzPuzpudnXk7flD6kLhsRBgsu36JiHQXIQMp\n",
       "GqFCxEBLkKRsZAvUL05CuOSXhcAFg3ZIyA8iLQsREdVEKKgfHIywstWhpcjMZleNNNPp/nvv3fvu\n",
       "n3dm3QovnPXNOb97zu+cc9+7748A0AAu99Tw5R/3NnvDuOcSsiXBEinUuJBxyVKPMXTlxv4r+h31\n",
       "6NjN3qq/G+QCsjeMhITaZXrp/1lhTwuB00LImDBDu2axTs1Ib+hq34qVun6k1df3ThHj14A8Fx26\n",
       "2Vv1SKSNvU2PQp5zTjidSHyinVZPtFHW9ntjLUWhzCU3xoWMfMvs4Ax6hVmQmUGAAQPdlwDScyjH\n",
       "OrKrGhwlsLfp0Ugbe5seg4zYG0ZCQm3l5AY7GoDvjbUUh7hky1zIyA6Y9/99d7CRLMgm2RSeqeh7\n",
       "6m2yX9xA7b460gv9JbC36dFIC3urHoP0XPMSEmorJyfY0QB8b+yl2MUlA1zI+PwL4xnZfRm7lm3I\n",
       "vcTvXv3WwyNo7zbqMmxAbg9PICd7qx6NtLC36lHI7a4rQiJxfE5OsKMB+N7YS5GpMjlJDk/yZVu/\n",
       "WDNNv1L4GxnIhhwgclA/kdJkT+3agXFsQo4HB272Nj0eaWFv1aOQ4w74ySTi+JzcYEcD8L2xl6Kr\n",
       "zOQAOTzAr6ZwpmyaXsn/iQxkQ5I9/f31xt079yD2RkZDTgUHbvY2PR5pYW/Vo5BTDviBJOL4nNxg\n",
       "RwPwvbGXoruXyXh4Qj0FyydNT9a11C3kM7gFmbo2fdZ0zi5fNb0CVykTcrd6ObCwt+rRSBt7mx6H\n",
       "3O3AjycRx+fkBjsagO+NvRTeGJNN5HATvwJBs9d4DvhXsWeLGVkg9/8nDHQvNiC/DeXZhDwRHDjZ\n",
       "W/VopI29TY9DnnDgNyURx+fkBjsagO+NvRT5zUy2ksOtDPbo6AB56DzCHpVz0Tn29ei+a4Ei92mf\n",
       "4zFbRspjEYnUPRcYjoRvZR8hQu5CueLo1MN2zwrSe4GfZYFRYi/4SRQUvTOGgtTZi7kRe0XvLIzq\n",
       "4Y26wt4w5HZEI4ocNzmDa370sppixE2YBKWrF2tRapZJuMKOAfSUIDVdoj+WfRO6JgX5I1BkIVuy\n",
       "v8aRkfLo6WXPJdwgAtBBL3h760JRgbfsNVeQnC6sVRrC2Qt+EgVF74yhIHX2fK7EXtE7C6MgITOs\n",
       "sLetME5H2omiyHGTM3gcrJfVGCNuwiQYT6FjM5Nwl6wAdNLLGnd0PHIN8Hyg6Bn25xybpIRU9nRy\n",
       "AU1fDwz5gGmKPhYMDAvFdWhabyxVpD+rMpTYB/yOS3uEpHfFiHnQ2Iu5IXtV7yyM6qGpsrftkqId\n",
       "0p5TUplKDXYF1/zoZTXE0EyYBKXn19nAG5FV5JBKR5l/9JFWGLssPgn8swMriVclcXJ6CANy/7Jv\n",
       "QUDJng7Lx+QVlgt279TNIOIeWn/9QmxAeoNX6K3rSGCV2DN+ggKzqXpXDBW5a+d0RaQl2O+RVpiu\n",
       "dxZG9TDinxfsbVTkhPYvO1sYKSp100wseEJaEThqjCirKYZmwiRIitZ7bmXUIm+QyZR4dP6Z7qd3\n",
       "5BWWu0lXI13/Q43wpOsuwYdjwsb+hL9U5JG15UyDGQEOkkRfrsorjOm7yIS1h6IT5yOTVwMyfeHU\n",
       "DvFMz6wye8pPrDBmi+mDGHoKKjL3+jbYwY0hezI36IFBrxSGOQx/xZD9v33Q4OwNmcYTomXsLfQq\n",
       "ddNNJLitdBpYaowoqymGbtISjCKKBGnRXoSzUYuyk0yWEAWRw61DkB+6OSlfw56rQm7oZhW+ar0b\n",
       "rrAlVejcSP7dAOJPZ8WI/PU76BHQB+hH1BrIK4zq0/Rz6ePRpTm1kfmRvLIDHZn5AehZ9aywKuwp\n",
       "PxGJ2uL6IEboPoyhIv1jY/AXh4bs6VxBwaBXCsPcB4WJI1+tpQR7lQqfFEuIlrGYnZTrZjDR4ObS\n",
       "6eCoMUFZDTEMJj3BDaAmSIs2x1/m8RZ1DjPppIdFbSumPcrLV16+PPzHyJ9T+nOpjuxnN7MKVLoP\n",
       "O6Vv/jPVmB8+dGRzlNL1S4FVZs/4iUjyTKFHxODIdJ3epirQmWpIwaDHFIYh/RtvhuwtVOSE+mEp\n",
       "dNaMdYtMNHhCWhFYbww6RkKC6XqK39eLFv3EhX6Dlb/DSiusW18ev8DvAPoLPANyC4ymYlBphU1q\n",
       "68av+A3VDx86cqSj1Ag+D1OrzJ7xE5HkmVyPicGRmWK2UlSgbK6gYNAjCsOR3uATfsDeQkVOaAt8\n",
       "Dc2UsW6RiQZPSCsC641Bx0hIMFMsDPqzxbBF+4HLaiFRF3OTvEfHYsvjKPgrF7/N3kroj8Rx5Cys\n",
       "/zIGZQZ+J1OHeMSZxfdVVT/hK5AYsj9VIgRnImvEnvIL2MszhR4RQyCb0Hl/UYHSuYK9QY8pDEem\n",
       "60u6BXsrldXyQ1k/jGRNdYtMLHhCWhFYaww+RkKCTZKcN1gJWuSTG30qcFiI8PnJrXrqFbg88RmA\n",
       "7I8qltYyrdYsFPSzRUd29ML5sgrlBhpA0YuIr7Vaqh/xwlBHroaHiqIL3Bqxp/wC9vJMoUfEEMg1\n",
       "UPhYhdK5gr1BjykMRy5qpHcGa8hGJUqIlPE9+PF7U90iEwvuTisC643Bx0hIcA10Nfz+atCiReQy\n",
       "RgX8Ohf5WmF571FDf6qotWnIoz0LZKEhrTwc+7Zj4NNqtzAye8Pw6+1EwAdPAC9UDFG+C0JMY51Z\n",
       "3VHFxrAibYZ1aPrr5o24+xg29gtQmPnPa8ulC7xQMTCFtnzP9dAxvHYN+P+MUp434u5jePCvFWb+\n",
       "87wF8rNgMWLl+wfcVEr8SZWwiQAAAABJRU5ErkJggg==\n",
       "\" style=\"display:inline;vertical-align:middle;\" /></a>"
      ],
      "text/plain": [
       "((A_{1, 1}, A_{1, 2}, ..., A_{1, n},B_{1, 1}, B_{1, 2}, ..., B_{1, k}), (A_{2, 1}, A_{2, 2}, ..., A_{2, n},B_{2, 1}, B_{2, 2}, ..., B_{2, k}), ..., (A_{m, 1}, A_{m, 2}, ..., A_{m, n},B_{m, 1}, B_{m, 2}, ..., B_{m, k}))"
      ]
     },
     "metadata": {},
     "output_type": "display_data"
    }
   ],
   "source": [
    "ExprTuple(ExprRange(i, ExprTuple(ExprRange(j, Aij, one, n), ExprRange(j, Bij, one, k)),\n",
    "                    one,m))"
   ]
  },
  {
   "cell_type": "code",
   "execution_count": 16,
   "metadata": {},
   "outputs": [
    {
     "data": {
      "text/html": [
       "<a class=\"ProveItLink\" href=\"../__pv_it/demonstrations/2bc591d55c282547b7e86884a6fb3804f8a6d0110/expr.ipynb\"><img src=\"data:image/png;base64,iVBORw0KGgoAAAANSUhEUgAAADUAAAAoBAMAAACsgK8GAAAAMFBMVEX///8QEBAiIiLu7u5ERES6\n",
       "urqYmJiIiIjMzMx2dnZUVFRmZmaqqqoyMjLc3NwAAABb1yYoAAAAAXRSTlMAQObYZgAAAAlwSFlz\n",
       "AAAOxAAADsQBlSsOGwAAAXRJREFUOMvtlD1Lw1AUhl+/+m3bwVV0dGuFgqJLBgepSKubILT/oBEL\n",
       "gku7OyTgbjsUhxRJdRW0/gItiqv1B0gU6gdiG8+5cfAYXJw9kOS9eXLPvYf7ngAcD/g97uQwkHu3\n",
       "jpY9HXN/fDukAXZVyajdlczRgUJLyYNaVbISjUs6q7heaUtm09VRuaK4LEo2ASzMKLUJwxQo1NvZ\n",
       "vfVkC05dsOAAuFCpgiuntibYaBIIv7GaAxLTgiUoTeDVS4nhpGAG5Ys8kxgjMf4oWIW2b1yRuOcF\n",
       "BoJ1aMZkGsi414jl+t+LaLiWddPGf/wtRsrWYVyYouxmG1llpa1txE6kmfp0th/0zLChzoV5Q3zm\n",
       "x3xYdFBYk15irxSKCPNc7EkvsQ0cE46y0bz0EtvOqKOm+3du8LuSiVTXzyrcOnYeU2qUFizHtycg\n",
       "pZpT9liPe/flq7IwfOXNal6LYt9f3iqno7kbcjl2+brq6MVsMy9QhP4SS2ckPgFxZGTSEqrahwAA\n",
       "AABJRU5ErkJggg==\n",
       "\" style=\"display:inline;vertical-align:middle;\" /></a>"
      ],
      "text/plain": [
       "ExprArray((A, B),  \\\\ (C, D))"
      ]
     },
     "metadata": {},
     "output_type": "display_data"
    }
   ],
   "source": [
    "ExprArray(ExprTuple(A, B), ExprTuple(C, D))"
   ]
  },
  {
   "cell_type": "code",
   "execution_count": 17,
   "metadata": {},
   "outputs": [
    {
     "data": {
      "text/html": [
       "<a class=\"ProveItLink\" href=\"../__pv_it/demonstrations/5413877e0e90910ade6c557bb49e9d30763624db0/expr.ipynb\"><img src=\"data:image/png;base64,iVBORw0KGgoAAAANSUhEUgAAAPcAAABBBAMAAAD/MS8IAAAAMFBMVEX///8QEBAiIiLu7u5ERES6\n",
       "urqYmJiIiIjMzMx2dnZUVFRmZmaqqqoyMjLc3NwAAABb1yYoAAAAAXRSTlMAQObYZgAAAAlwSFlz\n",
       "AAAOxAAADsQBlSsOGwAABXVJREFUWMPtWU1oXFUUPsmb/99Ug6607UaLghmhUGldJCVQmSozcSEI\n",
       "wsxCN25mpIFCXaQrF3aRgCK4MTEGpU/ijBIXdsCO4EIQTEql4MZEXUgXZTSdJE1qMt5zJ5n3zndv\n",
       "eFC6nAvzYO4753zvnXPuvd95h4hHZoUecNx5UEUPMv2PvBMp7LiLL4H4qbxbvo02VuH/mx3X/fWy\n",
       "nHMm3c8zMyDoQS4DOA2MEtWkjejjOfr5KZBLdfBphokS9+TUOxco9U0Z5DzIa3twq1UlKtXF459V\n",
       "z5JEuWRtDby5RRS+L6ZOnlCX6yDnQcZvw7NSRSFVqsJNj6pLeAjkPpkFF0eUpciWmLqRU5cJUPQg\n",
       "/47+B/dqrCQedrapLrE6vGd1qilnEsqb6ScFjLZ9BQA8yHpq04zc6RMCZl37Ht4zSctlI1mceSHV\n",
       "OsbXFwCgBxluxrblrVj74qVb0k1btvXyBk1DFk+fu7gon2e2alH0IJOU2ZH3oiobfhA2Bvds4HVq\n",
       "zcmZqTVKPSZmRtYsih7kZONaW94LqcSKiyQc0CvDgWc836iNyqkxflfh9qP6mpNiPUhH+WVd3svO\n",
       "Yc4OavCfYNtRksfkFL+PXCYjej+QyeJBJtXvOEROuTyxIfyk3T6DXqdBufhinEa1on9Kr/A4ev0A\n",
       "8jVzl1SRo+kV3DwoLp0XLhsbMydLbNfYr+gDab8HmeFnL8isuKEsPyGR1JoKg4k/ODtkIqaVsYmb\n",
       "cgdWznhd2upBOoXdHP3Y+c1/c4FPB9g9nCX3WzlzsnOTUoVdfygSfCC9DJl9Jv9lUZqyQPZHf/RH\n",
       "f/THQx2TnfxCXh4s0bFhd+G45AmTR/LumCAp0ULbHf+KgjT11JHyIZDqCIwAfc2q8zQKJIVPyluG\n",
       "VKUZqMlT6TLa6kLG+Kj+WpooqbPKkTxZM763JOdQR3VyKFCTSWZEHGweZJTJWgkoZ7HLdfzeY2bz\n",
       "i+QcihyFgXVbNKfUVErE1YMMMRlpzWD9VyXJu5RYjKSPC0wMtilIU4ldTqGtfcgsR2haUuC25kgY\n",
       "ufdgiglobIeCNHcpBlMeJEeOKuLNw+tuAen29EzmdygtOHIR+eYWTZUsd2DKg+TIAeNUnP1PXJGz\n",
       "+XnILR05SXJtmvG2C+TYB8mRo3+xco9jhbCaIygTdeSyQ0Ga6buaKmOydCE5cpFNjEmGSwIZOadp\n",
       "iVylHKSpkuVFS7JoSB255+W2UOKYXJDB3Da2Ro6cM0xBmiX8IuKD1JF7BeKrYpKZw2CSJXKhlUBN\n",
       "/H7gh+Sa41WIJtdXE8VDPuD4l3T4WQrUXDUUe5DM88e/l6R+URUNY7LoOV3YgSOES4uF82tBmo4S\n",
       "g4VmgeyP/uiP/uiPhzxOjWML4VInT28fzctvSPFC+7MgzWitPRf5FOU+7IApcibz3eaDrYXAZ8Mj\n",
       "+JD4tdGmyQXCAMrhB05f8+HsmtFC4AIhc98gD8gKLJos06oTmfWGIGDPUffTZOguGS2E+IZZQXXJ\n",
       "vzBh0eSaASuobr0hONxB82GW3x5aCHzaa9Mm7fMDWTRXD0wbTNP/bpoxXjmkhcDU0IycpBd2zbY1\n",
       "WYBr9ZoP1hZC6RnXrWHkwiBp01Q1g+sayVKCZkOv+ZC+ZwFnzoetG4NC2jRZxugWGRRy9eA/txCi\n",
       "jcZMcOSQQto07cmCFJKbD+82vttvISQ3TVK/a0QOPhbYNFkmazRm2xaKS9dVuib2zHTk6Bpr04ic\n",
       "TZNljO0Ak4V0G1LX13ynNWpGbiMocjZNnSzFgGTRzYeMdsdymWLzVcOhIaNIGMEJi+aIZTvYbw75\n",
       "Bjcf3n9aL9Slqx9lclAgVJOFtjSryP9VsGFoKpkvaKlzjrDewECcyX9c/ovofxz7+fDURwtPAAAA\n",
       "AElFTkSuQmCC\n",
       "\" style=\"display:inline;vertical-align:middle;\" /></a>"
      ],
      "text/plain": [
       "ExprArray((A, B, C, A, B, C, A),  \\\\ (D, E, F, D, E, F, D),  \\\\ (G, H, I, G, H, I, G))"
      ]
     },
     "metadata": {},
     "output_type": "display_data"
    }
   ],
   "source": [
    "ExprArray(ExprTuple(A, B, C, A, B, C, A), \n",
    "          ExprTuple(D, E, F, D, E, F, D), \n",
    "          ExprTuple(G, H, I, G, H, I, G))"
   ]
  },
  {
   "cell_type": "code",
   "execution_count": 18,
   "metadata": {},
   "outputs": [
    {
     "data": {
      "text/html": [
       "<a class=\"ProveItLink\" href=\"../__pv_it/demonstrations/c779a43b34f2384a4fc73613f7a3aa6bffbe511e0/expr.ipynb\"><img src=\"data:image/png;base64,iVBORw0KGgoAAAANSUhEUgAAASUAAAAuBAMAAACc+RIzAAAAMFBMVEX///8QEBAiIiLu7u5ERES6\n",
       "urqYmJiIiIjMzMx2dnZUVFRmZmaqqqoyMjLc3NwAAABb1yYoAAAAAXRSTlMAQObYZgAAAAlwSFlz\n",
       "AAAOxAAADsQBlSsOGwAABF1JREFUWMPtWE1oE1EQHrtNs2l+i1VvNl6k2EMDFlNU7A+BQhWiF39A\n",
       "aA7eG7EgtGDj2UMDHjyItkhQWKkNWhGqYBEPghQjasFTIx6kQqnY1tpqG997m5/33k7q7pqAh85h\n",
       "8/LlzezsvMnMfAtAZQEQ8WXAnixYgsvJHAZ6v9n0ac4cfCGnae8TAqQMaHd9Sbb05DAbb2z6hFtD\n",
       "4EaA+p8CcvESeB7G2NI9kUWMTG3a8wm3ZoR9qwCOXzzS1kwuz/Vtt0cTRhuu+Z/2fEKtIXAdsV+3\n",
       "yiNvQ+RySnc4PjxttPHF+duWS7g1BK4nueHdy0eB3fCaHlV4EzMaSXt+2Ds61BoC7+gE5Q4fu8Ug\n",
       "vbaz9XkYIbmuiMftmFbXyMcxyz7p1kDFYU5Gei6PC26OxrmIwOIYiVxcei7fOvm4Ufh+yGy10q1B\n",
       "TQKFORnOgmc3D7SWouI8/nSi02B64OnUctE98tiXg0Ih2SCXjkx+wQtuDYO7aGh4z5vYleY5hAH8\n",
       "QdmGQqL2Pb+uZeVF3NJCQ5HOL3hBraEwPYZ+/nBa2X0SelShJgCOQenoAPYBnBkr49MWR0etQfgZ\n",
       "CnOi0r/QxEkOYZXJxZI5xtpI2B/iNU6zZqDElyz6lLcG6RkU5k+TlGRVOPlFGrTrdPWJ3nUTPr8Q\n",
       "qgl9pmjWdzRo0ae8NSV0E4OFdkpuceqd0H1I5M7RyLTl3oEnupGEHj6bohsheJn7CLVxmIx0RSIx\n",
       "kz4VrcEsDpcqZnRdGz8hah/pvX9SSOolrCN0tFvNp4LYbJZi286kEXTGbdMnNVABn5R7WDc/fCXv\n",
       "k+/WWtyKOecYVFVqbeh4Y9X1yW1d5cNV+O/kySPYlm3Zlq0k3KvF5k2iNq05o8ta5IE0NTb0at2N\n",
       "wq6uRi3VQCubc08IXu83WEFREwUc1/OTmbRfIi50UBkw7KLVVukmzdctt0wcNdGiyuiNkM7kFnug\n",
       "g3KQI+IuMjnUkdHAu5P+LrdMHDXRU8roDRNXHSI5c63oMzG/i/jjIX13lEZUlYcCHP27lNOL0j6+\n",
       "Jr8jcUqUi+xKeMhGxgQUaXjCURMkuJwe5UDqupg8nWzCFjNMpRnuKjB2gV3i6N+lqAeiWyrF68Q4\n",
       "9R1ISXlHWO4CnZhqCvgN/lcjao5zFvWgWfw30vch9SviMSd80pzoWtb2MdbO2IQi2RZQC5wTt0ZG\n",
       "MIr7A/I7siQIZMm7pM9FNczKK/l5edQC58Stsdwh9Skmp1hWiUvl6SgLAot2UmeXpTGORy3M4wU9\n",
       "ZWjaUJ6URrE80RRzCnHqS5beloErpLNL4R1aEbXgU14P3J6MoTzVipCLpthXKcMKry1j4LgOOrvk\n",
       "XmZyqBXeouvBQVdazh1HizE9HLvkXfl0ndQe0xuLtKSEWuKcBT2JI6RyWuq4yIsOz61rqSY+dArZ\n",
       "lTWyy8pxTn+2AgPLjBsqyTkrwlsYu6wc5xys8sxnh3POVtkn65zTezYA/5u4h0L/oP0HhspVs8t4\n",
       "6HgAAAAASUVORK5CYII=\n",
       "\" style=\"display:inline;vertical-align:middle;\" /></a>"
      ],
      "text/plain": [
       "ExprArray((A_{i}, A_{i + 1}, ..., A_{j}, A, B, C),  \\\\ (C_{i}, C_{i + 1}, ..., C_{j}, D, E, F))"
      ]
     },
     "metadata": {},
     "output_type": "display_data"
    }
   ],
   "source": [
    "ExprArray(ExprTuple(A_i_to_j, A, B, C), \n",
    "          ExprTuple(C_i_to_j, D, E, F))"
   ]
  },
  {
   "cell_type": "code",
   "execution_count": 19,
   "metadata": {},
   "outputs": [
    {
     "data": {
      "text/html": [
       "<a class=\"ProveItLink\" href=\"../__pv_it/demonstrations/b565eeea2e52d72f344bd82748a471a51a89efc80/expr.ipynb\"><img src=\"data:image/png;base64,iVBORw0KGgoAAAANSUhEUgAAAWUAAAAuBAMAAAACQxWTAAAAMFBMVEX///8QEBAiIiLu7u5ERES6\n",
       "urqYmJiIiIjMzMx2dnZUVFRmZmaqqqoyMjLc3NwAAABb1yYoAAAAAXRSTlMAQObYZgAAAAlwSFlz\n",
       "AAAOxAAADsQBlSsOGwAABO9JREFUaN7tWF1oFFcUPmayuzOZ3dlIY/tW15ci9cEFpRGVmmjAEgsb\n",
       "X/oDBfeh764YEBSatU+FPiTgg4jUhLK0MGKzVEtBCw2lD4USssVW6FO29KFoSSNN1CQa13vvzO7e\n",
       "nzOzd0w2EMh5mJ39vnvvOXPm3DvnHAAqc4CIU4FQacUHylwkOEhmMTD1MHxSKz6aNhX+uOa6vxcF\n",
       "yBh2v3LG2G2yhq0x08KmmZe0GdeGwD0AXUsCcuYsJL/Ns1t7sooscvt5uO5WfJDg2lTYeQIQe8oj\n",
       "+3eTy4/esGvjRXUN6/5SqOpWfKCg2hA4TtaPP+GR37LkctJ7oMLIlLrGP4lnoapb8YFbF9WGwF0k\n",
       "9lKv815iCj/33grM5NVFysnHobpb8YGhgWpD4G19YHzJ+34+Q68H2P1HMEr2oiGGU2zKXCY/bwep\n",
       "bsUHiqcNTBzmZPT4uRvCY4wXOI/B/ATxfEF6bmeF/Fyu/3+rAmG8ccXN6tnsaYOOIgpzMlKF5Ks8\n",
       "sLfp1cSJO5N9ytLDd24vNswjbjmXCeVtsPkBxiq5HKn4N7zg2jC4n7qWf7Kd7Mpc0wuQzshrGMTr\n",
       "//v3nez4zITy6SFHOEb2UFeW/RteUG0oTF/jaf7l72V2FL23Ah3dEDsvvXqAXQDvTwTYLPPxrLOk\n",
       "GRpUG/T+gMKcmHSLTw5xCDuZLbaZ8uwz3JsW4vE99jE1CgsBNis8WBkdk31tUJ5GYT5ayCfLFCJr\n",
       "njr9Er37i2p9Dn//JJyW9JlzVedwBrdZ5eFTrT3oazOyVzFYSGeIipN3ha878fyHVMv+2l1I5lbH\n",
       "4DgfrbnVLPxc+xM6C3BroH9gIC/ajPDOMR2TG9rgHg43vyi5FffGu+LsQ4PXh4RNtYB9UY8cCIgN\n",
       "hf8X/ot0TL9ksiKmVZUygk7b4TY3eOedz25GUWd2r4PNxtdYtnXwk7pNXywXwvhttVqk1DQxAW2V\n",
       "zjXyaMGQb6/N9hp5RP64CJtOvr8JW7IlW7KZpXfQzd/XRPX5SPMSuUV34Bupqtg+6B7tEUb197il\n",
       "7fRkT7yWhV/fUFZBUX0+4rw0qWlOS4U3TUSHlVH0a2QcJcmRLacsOKrPR503SjIDW8xBYrRGPiSO\n",
       "IplfnKR2qVcoL6csOKrPR503Qh4lJjYfrEdezcWPIvYmSV40Tt+IKSd1OKrPR52Xo3nYsvh4DyEh\n",
       "tRTIqGKSDGSVqCElzziqz0eeR2t4c0UM3j5WwYkRbtIdaNU7YkJ3BUf1+cAmX6P/JpptUjwu+vnU\n",
       "myUp7s1lmKMZc0cdv8yzKir2ZBResyfTmAe7xdOEFu1dj8QwKjpSnWEturtYV4yl6oa0toAiPRmF\n",
       "1+zJ4NpICk7xtLg1ZwHGQHBEasHLezvYKr/I/uBRpLZSeM2eDK6NxS45n/NyiFeNgnQ8H2ZOYm9r\n",
       "zOuuNNN4HkVsVnjNnkx9nnFhSjmejR7xeKYhnhD8fMovzGk3Hays111p7m8exfobCq/Xk/HngZ2s\n",
       "KMdzpwhZ1AcPpAj3b2byELsEXnelKTyK1d0Kr9mT8ebBPqssx25sjxqesR3yKH+73HK/o4rFsrqJ\n",
       "Yj0ZhNfrydTnSTVsqeaWToh1/8HZFbe0k3e9QUZV1e7KxvVk0tV1SEinbdjInsy61N2su7JxPZnz\n",
       "ba4J2tGTuddmm9e/J5P6oBs2m9gXsmuY/QJopquhY6CnLwAAAABJRU5ErkJggg==\n",
       "\" style=\"display:inline;vertical-align:middle;\" /></a>"
      ],
      "text/plain": [
       "ExprArray((A_{i}, A_{i + 1}, A_{i + 2}, ..., A_{j}, A, B, C),  \\\\ (C_{i}, C_{i + 1}, C_{i + 2}, ..., C_{j}, D, E, F))"
      ]
     },
     "metadata": {},
     "output_type": "display_data"
    }
   ],
   "source": [
    "ExprArray(ExprTuple(A_i_to_j.with_front_expansion(3), A, B, C), \n",
    "          ExprTuple(C_i_to_j.with_front_expansion(3), D, E, F))"
   ]
  },
  {
   "cell_type": "code",
   "execution_count": 20,
   "metadata": {},
   "outputs": [
    {
     "data": {
      "text/html": [
       "<a class=\"ProveItLink\" href=\"../__pv_it/demonstrations/06afc29911fea7d3bd6e8abdd8f50092d03e61630/expr.ipynb\"><img src=\"data:image/png;base64,iVBORw0KGgoAAAANSUhEUgAAAb8AAAAyCAMAAAD7lCXyAAAAM1BMVEX///8AAAAAAAAAAAAAAAAA\n",
       "AAAAAAAAAAAAAAAAAAAAAAAAAAAAAAAAAAAAAAAAAAAAAADxgEwMAAAAEHRSTlMAdrvvq93NRIkQ\n",
       "mTJmIlRAUMakMQAAAAlwSFlzAAAOxAAADsQBlSsOGwAACHNJREFUeNrtXNuWragOlatcxOb/v/aI\n",
       "yk2CCGVvd59RPFQ5VhJEAiGZzrWm6buG9fTbRprE8i8YBV0eKpr/d390P6Bm3zuQioeKaE0flTem\n",
       "gv9bc8x/rlFrM+q1WNnX7luePu2a+Znbe+2WfLi1OwY0Fmwt3RoHjgqJ8CZZJrM9H1p6hyPoxyGD\n",
       "PAwaMvPzau+nsSUfbu2OYQ2Cj2Bjrw5EBLkYuCrmfMe74yFbPvUfexoyVDZORe2t31vy4dbuGNQw\n",
       "9njO2apLBsJOh6rdalHdC4p8eQQu5KlmpiiMsHdJa0s+3NodwxrL+dli8/XKw+zPxwP2e4OrD/1H\n",
       "niYvaxo+DZqQXW+CckM+Hu2bHVc0qPX+yvamiKr6cAPvDoez/S4vR/bpclOpo5U7ZW4etCUfj57N\n",
       "jisax/EnKdN5VI3po9Sj+Qj/LoVhj2+drst5W7Tang6V5epryYdb1vF22dQImhYjhOh1cwmLhtPx\n",
       "NGH66gTUzw8ptmZrfFu6p+sFgvbAnVwufHz7xY63MemWRowz5sg1cgeyMvStpHtU0qKP/EefD5bM\n",
       "cTKwUluSh6tBGZb7Y14jNFj0tm5c18DEb7jM5SSpNKRf0v3jwl8V8YQO+E8eq83WBl2T45+CFq0b\n",
       "32j4HXlJP1l01qqzNLQvif8og9EdOUaMn+c+YuRAnOgE77NC/mP/ZR1vvlLrvQbwoNTOmX6cePGD\n",
       "sUn7TQ2POtYN9gt3XhKUalvw++GdHOCgHPTfo1Nfwh07X50lTVVDFg+qLc8EJmxH4T9bcHHjV+MY\n",
       "WPMM5gO4I1b4vNp4G+zmxMjdF9KGEYBy0H/BKFqXH0VZ3vEk5STUvUYcFCdnbNzhsURwlhpzcF+o\n",
       "kxKl5wcgwoQ4MBUzgnsKkEGssecm+phzbO0+B6u7EGFfsvM9SkWu8NaI+7Mk+88bTSwgGOEqXhxK\n",
       "ZcehpKlq+P5pAK/XKb/xZqW2+VZJUGXzVCi1F3dwgPc66pjaUaxY2h7kh2m4j6PuXWXtHlJXz7/1\n",
       "yQzVlXz0r2r0CybDHigBCczssRi/fTumdhQr1l11C4zsbmeQSo//mhz03yPsrqqkSUujX5Ci9GJg\n",
       "JoV3pHw+tcNY8doHUWJokUiKzN1wT3nqPyO43Yv6R89YV/KZbf3e3YLJ4AdKN5HsOMkQjA1VbjmM\n",
       "FS99bpd3dfMT/48Y3Sh5MAx1m6Ina7QLU/H15Y4c+DR4WwKISi2Ew/TcFRJUTlrgySixJDXPmUVF\n",
       "SapjqEDmWO57cJB0pHw4V8pP2quvWfisyfR6Q6N1+In4zJZtyWeYVuWCBJoUc8GY8s2Nm1/EhLcc\n",
       "V/jRJ4BtlCQ6s3thgl0RJg5sb7Exa/ob2FODiwGpv2nwhEd4LqRAi3GzLR0/TK/HW4rFmmXiLHmd\n",
       "EwHbKEl05I7YuhWwdeH+bdl0RB/+u/77yxpjyfEnzurfnU4qYAz7GYfsP3JK0ZoEsNVBEq82H+3d\n",
       "i70L4gIgCVGQ2t+Jf8t/JAmjJkl+wmzP+2ZxiMmcbJscsI2ScLWX6PLIavcPk1dGv/572X9zKMiQ\n",
       "9H4wO1S0bcrdRS5PVazICU73R4m/Ol5NnUfevpdRPPbv4qf59UnPnBzxM9Rxhu75+ny8oNuPup0l\n",
       "szh2DYuF5QWwjRIWUDwXdSmfVpfFuF4xTVCf6ojQ+uuuot2we4/8xb+OmveXbavVUpEjw9wcgV1m\n",
       "49Kb+ArkAthGSbxy8OPK1L5RFXUbOh6eqFr/RapuSm4FK+Fb8Ws2L3SMsLWbHGNqSlENdg4S4vLA\n",
       "OruX0K0u4wfMisn5lkMhNK1qWQ+sRCMk3J1nFurpC2AbJMmVpEhoQ5HerwVK3njV6/dI1c3JreWc\n",
       "3Iunt2ze6fjElhcA7ajDzl7Cb9m9TSRZvfR1AsFT/Gy+BwGv5NYCkLkVV0CcfpuXOg4gpSoq/zrs\n",
       "HLhQi5urGrtX2lYsYeIV10mypmOrLFT/fAW59YKB3Ith3GTA5qWOw3ExF89dh52Rl6z7oqiwe5tv\n",
       "AuQLbFjHlM+/a1TZ9Z6qW5JbLw99K4bX0IDNWx1jG7KD62aow86H0fbpGqMoMGMN96zc8h+fFuuC\n",
       "VB4wGRyUT2wHILdm2fS9GM7AB2xe6ziw0nTBL8xh5+L400FSYfeibwhMFfrguVQKcqu8UM9vxZVd\n",
       "0m/zcPsVAUxXY9xy3X8X2Pl6/BkeJBXm6kdIyAIX8CfVrCC3igv37la8e+f6uG0bKQSl/bAsQMS9\n",
       "8gVitUSveVsOO+eSrXpI6GwVdm8X2+W9puGwfVI9AXJrplUV14m6bRs15QDTw9YYa3b8TZaAx58A\n",
       "bPm+wlUyY3D0/oiADfPeTv8B5NZ8ydfEdaJn28ZtDdNPJ2iMNTv+liL9LGHn7PiTcZXDue1X/F2g\n",
       "Ekri54XcemXq1sV1/7VtFjnkvysRtyT3huNPFsGuhJ2LurD2QGdA/oo/P4MV/EnVzcmtBVMXFoP+\n",
       "67I5ofo+cu+ViOvJvbI8/jC/htkcdgYlYaeBB91n319JmJfp/FFf1STk1pKpC4lB//XZHL/J8YjT\n",
       "WyXienJvSuG1J7KoCtscdgaMitLqURr4WQaqA8KakVtzpi4sbhB1n9iY4zdxog3A6b2Qe8uOfRF0\n",
       "ofBirEKc9bTfK+ycSHaj7GhjULxiH/4EBfj9aZCq22DqjhB1IRuz+caY6S1y700vdVFVAtYYX35/\n",
       "Gt6AIEzbYOqOEHUBG4O11js16R1yrxiwrUsUBNHgT38BhkODhai6DabuCFEXsCHWtektcu9NL3VR\n",
       "VWIwuP0+ZYFpAr4Zquo/mFb8h2wekHvRiG1VAjLQ2cdUBfCbMj+i6qo/ZFN33r9C7oXZvV//flbH\n",
       "79f9Z9ofJPfO/PvH5b9kpeHTh/8NFOjf328dbDK67395A1JLR/VTJAAAAABJRU5ErkJggg==\n",
       "\" style=\"display:inline;vertical-align:middle;\" /></a>"
      ],
      "text/plain": [
       "ExprArray((A_{i}, A_{i + 1}, ..., A_{j}, A, B, C),  \\\\ (C_{i}, C_{i + 1}, C_{i + 2}, ..., C_{j}, D, E, F))"
      ]
     },
     "metadata": {},
     "output_type": "display_data"
    }
   ],
   "source": [
    "# Unable to format this in an array form.\n",
    "ExprArray(ExprTuple(A_i_to_j.with_front_expansion(2), A, B, C), \n",
    "          ExprTuple(C_i_to_j.with_front_expansion(3), D, E, F))"
   ]
  },
  {
   "cell_type": "code",
   "execution_count": 21,
   "metadata": {},
   "outputs": [
    {
     "data": {
      "text/html": [
       "<a class=\"ProveItLink\" href=\"../__pv_it/demonstrations/ae62ec29d895e1bcf2c424eeb79c3339f6ca3ee60/expr.ipynb\"><img src=\"data:image/png;base64,iVBORw0KGgoAAAANSUhEUgAAAakAAAAuBAMAAABgwPu8AAAAMFBMVEX///8QEBAiIiLu7u5ERES6\n",
       "urqYmJiIiIjMzMx2dnZUVFRmZmaqqqoyMjLc3NwAAABb1yYoAAAAAXRSTlMAQObYZgAAAAlwSFlz\n",
       "AAAOxAAADsQBlSsOGwAABblJREFUaN7tWU1oXFUUPs3LZGYyk5kUR93Z6UaKLjpgMaUtTVIHI6kw\n",
       "6cYfEDoLt9KpBgoWzFQEBRcJdBFENEEGC09qgq0IrWApLgQJqVQLrmaKC4mSJpjUJtF0vPe+n7nn\n",
       "3PumuS8z1EXO4uXl5Hvfveee+3PuFwBui6Cx1A0IZ4vtAiya9aOqc/Ysh4yq2i4Adb9et+2fy8hl\n",
       "jdqfpybEa7Ku45gPGZWerQUA1Z0B6F5DntNvQfKronhNzNQ0JFfuh4tKz9YCgOJO3QOI/CN7Duxj\n",
       "j+8c2KdTZZUjvrAWLiotWysAiruL9bDrnuz5KcceJ5yQS2PXVI7fo/+GCkrP1gKA6u5ma6TnCTkT\n",
       "ossfOpmF+aJKMpv8O9wE1LK1AKC6dw2A9Zmcv6Usfx4U76/BONs1LDxpI9di6+zHUeOoHDaItRzg\n",
       "uiUbHzpzEQU6VZKyAkvTLHslMjKpDfZj0vv92a2eXg4bdLhjaH1k55oCVGYKwG7JxmqQfEx27G9k\n",
       "Jnr86syA0rnRq1dW/QDZwJ3Jyn/tZz2xNsF9yEbZEpDINgUQ5qD+6NyDPD1y7HvEU4xiH0A6Szks\n",
       "lrm/3PdOcVggSMcsezwN3kMyypYeSa01BRDmgP5o3XwynZKn2H7BV3YyCx29EHmbTECAvQAvT+uj\n",
       "ajYBORv0fevtvjkSFQUozAoAueUs8+1sZkTyiJMqLraFoiiO+tJo+r8kChSrtGIYlcsGs3ON7Tbb\n",
       "HECYNQyyW56TrEyIoRWwxBN3nr/d5v2+D79dR2cDH5VCLXUkaxiVy2blPvZd7+aaAwizhkFyo0KV\n",
       "dfLETTSZWfZe5c0dqN+EZGFzAobkVVXYzMH39V+hswSX84P5fHGLUflscAveyzOrQeq5BwAwswzQ\n",
       "uhtncGHDvvgibv/w8BcjaHtY0VUp/QdN15Vn/rD+CXeaA4KYQ5ahuCC+MavxziVCRhXzFnbqhQ8u\n",
       "NQUEMcd6WxCVdUFXJx96x40q9cl6yYQu6h2Yu+r15aaAIOboNLTVOkN801NsO2CbljD/5JdzbQc8\n",
       "BPvmUtsBO7ZjO7ZjrbG+Ybu4oJzKDbmwBWxGAG3T0cKqnf+S3Gx3D9vHMgg1mLEru/lJF308Bz8+\n",
       "SakludDI9GwmgICm0+z6fYqITPwaMqqg+PltHWNlbYKWkrJcaFR4adlMAEFNj7O6KoFrwwjXiw5j\n",
       "FMtxFyvbex7hf6elpCQXmlVKWjYTQFDTY2w0IljMi991bv4yikWUZCMyxbMaIwW7LBcamZbNCBDU\n",
       "dIFXwut4hJYhSgQ2hionGVBoLha5XMlyoYnp2UwAgU1zxSu2gRfRgFAi8EqL8RUZ93Tqozq50DJc\n",
       "WT4blEMCGkolTkKMf9iFc3XyqQpZoLF1WORd7vD8kzq50Jc+rTe2FJXPBvu8D7HKqQKoyukrlVjl\n",
       "jHKlqvsuHoByitw446v2XnGrE3c6i/ROkguFZgXvv4lv/gEqp8pGVE4VQFVO1LR0yeMfpvEuUwWY\n",
       "wMieFefe1CGa+YFwSHIhwAB/XMc5CVA5VTaicmqaIzd81DRaQ+y8KtKlVrNK5Lg6IsZSTIkJR8+k\n",
       "cqEjfWqiCrxgumzWWe+8JCqnCqBReUolUTn5cWVl8HHFl1oU5eqkW5Lw/9dBPOfomVQudKRPg6hc\n",
       "NkgkG4sFqZwaAInKUyqJysmPq068AuN8uP4gK819mS9C5Dw4eiaVCx3p0yAqlw2eiTdOJKxyqgAS\n",
       "lds0VTnZGooQTZ/P5sijFOVuUpftr/lqxEKPKxcOQSKfz+Sf33JULhuvxbQqpwZAlTNPqUQqZ6Vu\n",
       "V47jY+ZQdcOu7JHTZzEUxvTrjlxH+jTJlb9sffYAlbMBaKfKOadTkhzpM0xUvkIUpHKegwdE1RKV\n",
       "U+iZSq4u1NyoFqqTRnT+/42CVE4f8LBUzoEQ39zaNqDdKues+X3kld5tAv6PKmfibG6bgO2pnP8B\n",
       "XxEF6gDZvcYAAAAASUVORK5CYII=\n",
       "\" style=\"display:inline;vertical-align:middle;\" /></a>"
      ],
      "text/plain": [
       "ExprArray((A_{i}, A_{i + 1}, ..., A_{j - 2}, A_{j - 1}, A_{j}, A, B, C),  \\\\ (C_{i}, C_{i + 1}, ..., C_{j - 2}, C_{j - 1}, C_{j}, D, E, F))"
      ]
     },
     "metadata": {},
     "output_type": "display_data"
    }
   ],
   "source": [
    "ExprArray(ExprTuple(A_i_to_j.with_back_expansion(3), A, B, C), \n",
    "          ExprTuple(C_i_to_j.with_back_expansion(3), D, E, F))"
   ]
  },
  {
   "cell_type": "code",
   "execution_count": 22,
   "metadata": {},
   "outputs": [
    {
     "data": {
      "text/html": [
       "<a class=\"ProveItLink\" href=\"../__pv_it/demonstrations/37fbc10e76973c7ff842f88cabadfdafb14e2df70/expr.ipynb\"><img src=\"data:image/png;base64,iVBORw0KGgoAAAANSUhEUgAAAfcAAAAyCAMAAAB2+WKmAAAAM1BMVEX///8AAAAAAAAAAAAAAAAA\n",
       "AAAAAAAAAAAAAAAAAAAAAAAAAAAAAAAAAAAAAAAAAAAAAADxgEwMAAAAEHRSTlMAdrvvq93NRIkQ\n",
       "mTJmIlRAUMakMQAAAAlwSFlzAAAOxAAADsQBlSsOGwAACRtJREFUeNrtXdmSrCgQFQRlUS///7Uj\n",
       "qKwJAmW3HTHFwx2jk0QkIVdOzTC817Acvu03G8f8D8yCLLU916/InlkVSd8XPGG1PdEWfO5UXo2p\n",
       "ZwmnHxPO9GOvnlE7z0bfFvtS/b1buEEmVex9Q36Q6ZmRgQ4LVorsbQIMIUd4pyzDui8KWtrnw8jL\n",
       "SmqsVVM83CCbKq7kDflBpmdGhjuM+FCJKhY8GpHW1JugWuZTh9amy6typ9VKSoQTFUSVdswN+UGm\n",
       "Z0YGO6zqWJ1Zicgvo+dGEIZrER07cXzTxC9jddewJ1uZKoQBN+QHmZ4ZGe6wnH9bVHg6Jiuz+ViV\n",
       "HhlO4kW5j9VO3Rao+RUNSG1561EmP8j0zMiZDkRdcg50AXNd5SG8qUNpz+q98Aip6o0qgh0itEXM\n",
       "f+wN+UGmZ0bOdDjMOydUhtrfOeNc9ntp03uuHa1/dbCl533DS3XuBJ7s2xtyZv/3MLWPvD/edbAd\n",
       "FUYIkfgwM4X6g6LAlXzLwssGc0q38Hzs2/7cNAwBx6dE5uAylZk4Y4Tw7uPuRt6/RN50cNpwPTyw\n",
       "UPA0VdDb2DEtrtBLcicN0x1nb0GwELsDjHPWAyZffoxEiDYz6f+KvmTHzWzzHfB4HfBgp4xexMev\n",
       "A9QzMfxW8mYkXXLnxz5VmWnnyLiUrbpjUrM+kj3e/s1sCx0uDRC589QJeZOBW98aTL3k2ckWL8rT\n",
       "8+cZpOZjZ0TgI5qQi3K/Y1p4r9yDkXchi63YAVgeouagvxMXy39QlaJ/J3eDWvYbtnt+PmdrMpv7\n",
       "YTHuiTO9IBmWexPTvso04Cmt6ACPrIV8BKQ814EnyyPVFFBWe/zZ9acFA29+Vt9C0WdnSQG3aCcb\n",
       "qqwXF9brsnIjRK6mEhmWexvTUcRyPPap8BCPPHA+MFF4tc86jacOP9KwjnKGfLMVuwtyPfYGA4/w\n",
       "OOp0P6YjbgkEO7PaTS+Rp6ywUmYdNv3ArCKgR2UxQxZ4b6P+Z/HPexPTehStqS1hUpF/ODulI18B\n",
       "afbVFyuxRZktGnTnEruUhKf8qX2mLRVWZgV3bRfUIJLeagZXTZlCKjOjHLmLjRfJsH1vYFr3ya5r\n",
       "nidak3ynU3tne+RZs5SVVr0ZcOzmK3d35S0aRNJbzZBt8WOm+LCbS+G7OBkyLPd6phVLKQXP80Qn\n",
       "Kf/V400P1j6oX7JiPRJg1wbg9SLprmZsjclwDO4uTtBamPBJDkTIJnXkZRqYRqVb7coUOp2hQrZH\n",
       "njVLWXHVmwsa97DUCEwm5l7aXc1YGrcLL9meis/FjzBVrWuh05l1Re2sqOZAtKXgrgyByRldgcW+\n",
       "dxDhkjGdPdZPiBE+SIZ3W8cWL/o8/UtH8fushKEVHZHrYs5SVxh3brFPmvg1przQZzkOTzfUn305\n",
       "c4Szorszb8UhtFZCJj3JBjLt4t/lyQa8Rw3smr5XUnAUr8+sS4hYh8PsyCIvynmTf+FW5682gcSf\n",
       "+uZxOiUhPedwWbWUuL7vKrejareodRkm6gWMrqTgKF4fbmoKeufsQ5j8NsEu7/S/k/tfa5R65p2d\n",
       "aR9tfYVNFRkbjtQ/PvjZPa+kIC3FPe2yNcMzM8So9fRolTVR34V/W+6jp+5Xzyu0UprN4dQZttk7\n",
       "pmFJwVHsk0nN8CNKMH/0Sq9fuf8Ruc82oEb8kt9qcotnbnrQfr9fjQxLCo5yPR0l3tOkG92BnF9T\n",
       "0vNfhMRzbb3T8zYOX4kJm+ajQG5MubmFt+j7e9RlBqKSgqNcT9xYBzINm/bu9KjYlQJY3p9H21dc\n",
       "j7UCruLw667C7mxq3ZuSXIyHx74LEGuPT7t9rigYlRQcxT3pRPdGxXFtgWgF4pwDlI3fHULChweA\n",
       "qYwiubt1jtvHVuZCWKmdjjFZU1KunGIpo/ar87iKkexx9XQUAvB4JOm5QGjYxLIduTWJENNvnqlN\n",
       "o0QlBUvxnjhBTK4ESfPMkFc7zudtHEIihAeka1Im90fEfeP2sd1ynTWTBciO5cspF2Uq4ipuKyTi\n",
       "IeAY88bZwusE3suWa2eF8IAkf1ck9x/2vnH72O65bBJdJCmffDnF3tJc9BrncBVc3Skmyh4ROR83\n",
       "f26ZDX59XwIPiJJfZXJ/Uq1v3D62ey5rDudkvfLlFHRRNrOZMriK28oYfwBPoBFRIfZVZSts51fF\n",
       "8IDoo4vk/v3ZN24fWwUXVtZrig9fvpxyMO1/3Zy2B1b6RqzbpKaPLei2IBEqdgobjzMXCMADguik\n",
       "TO6PevrG7WOr4bL3bGVy0zospyTmXVpKBleB3rlYmblGfW6xBB7AI7BQkfzBcU90n/wxtgoup4uX\n",
       "+LxH5ZTYvK+TpWRwFS9lzhY4cXPenE3gASy6TVwkm53QAyMBUAnJTR8ARFHFlsyngstFuyT2g8Ny\n",
       "SkjZozjvgm4GV9F00e25JmHzct6UB+ABQa8suYyPuGs3r7VviEAUFWzAfCq4sLsDN4LmnQG8kzlR\n",
       "wltp2Mq8BJiB7/GecgfgAeFRyZGL9+QrznvxtYcEUhBFDVs6nwoua96XxJ1PyymBeefuVMGxwlu4\n",
       "CSAi9fR8BA+I8RF58mdyj1EJANABAlHUsKXzueey5p0nSjktpyRxfXkhyFs4qRnM3JwIiRAekOAj\n",
       "YDIo9yaoQ4xKEBHy3sqJDvnpZNgSvEaOi6fmHU+xOQjLKSDFblTQkL+Gi3QXzoMVJVd06cEDEnwE\n",
       "SAbl3gh1CFEJF9AhMdbmnnpuOhm2BK+R4fLBE4clmK+V8khhOQVgSkLjKrf6NY9e2gpAAA8I8BEZ\n",
       "MoyPaII6pKgEE1dKfDWjmU8QRX46B1vEFeE1si+LwRMYC2sPLsBFXE7xKIYpMN0U0qv0xZ+0An/n\n",
       "BERIfIKP+AzqAP3g0AWiKAwNsN3hNYZ7VMXHuArPyL54yQE88GAZ4RN8xEdQB+AGrANR5IeGLs7e\n",
       "4TUqUBUf4yqcG/XqL9hN0GQhhMQH+IjPoA6IADH+CaIoDJ2y3eM17lEVH+MqvOP+6q1WOYIV1mz/\n",
       "34c6FCsT+aFLbLdcqIe3ClcRR8uvNRCB+RFC4sniXCfQoY/tR1AVGVzF279T2vK7xG9klvqADn1s\n",
       "v4iqmKf313b6XqL8des6/QXIyvf/O/DLjTux/wc6xV1zC2lOAwAAAABJRU5ErkJggg==\n",
       "\" style=\"display:inline;vertical-align:middle;\" /></a>"
      ],
      "text/plain": [
       "ExprArray((A_{i}, A_{i + 1}, A_{i + 2}, ..., A_{j}, A, B, C),  \\\\ (C_{i}, C_{i + 1}, ..., C_{j - 2}, C_{j - 1}, C_{j}, D, E, F))"
      ]
     },
     "metadata": {},
     "output_type": "display_data"
    }
   ],
   "source": [
    "# Unable to format this in an array form.\n",
    "ExprArray(ExprTuple(A_i_to_j.with_front_expansion(3), A, B, C), \n",
    "          ExprTuple(C_i_to_j.with_back_expansion(3), D, E, F))"
   ]
  },
  {
   "cell_type": "code",
   "execution_count": 23,
   "metadata": {},
   "outputs": [
    {
     "data": {
      "text/html": [
       "<a class=\"ProveItLink\" href=\"../__pv_it/demonstrations/2c1fc67a67dd096d50f04d3da37b8dd5707ed5cc0/expr.ipynb\"><img src=\"data:image/png;base64,iVBORw0KGgoAAAANSUhEUgAAAVkAAAAuBAMAAABwjHclAAAAMFBMVEX///8QEBAiIiLu7u5ERES6\n",
       "urqYmJiIiIjMzMx2dnZUVFRmZmaqqqoyMjLc3NwAAABb1yYoAAAAAXRSTlMAQObYZgAAAAlwSFlz\n",
       "AAAOxAAADsQBlSsOGwAABMZJREFUWMPtWEFoG1cQnXgla1XJkkwceipxLsXEkApqatcOiRMMCc5B\n",
       "7iVNIOCFHHq0SgwGG2r13IMEhuQQEvsgEtjSemmTFKJC3RBooYQoJDHkZIUcggMmobbT2tRW//+7\n",
       "kv/8/av9xmtIwHP4Wo1mRrPz58+feQCUlkBCiTKo0tLO5JZgW7QgY7a82Zm+upzAbs6smz+cxjxt\n",
       "1LyRKLDHeFVm46Gyt3J9ZTkXe18/wGwOsb6+BPGfDPYYm61IjNzdVPVWrq8s52K/zgIMWzynq4Ms\n",
       "v9li16dzbhvRxX9VvZXqq8u52CPk+0iW5zxKk+UL+zhlJ+fcNl5G/lN0Vq6vLOdmz1L/+HhHmSvf\n",
       "2TsBDw23ESv+VjURpPrKcm52G0BvB0qNdrr2sOcLkCenTcPJE57T18jHMQUvbH1lOd1PXV8ZG59H\n",
       "nGkuLSx4PUOinRXeOLFOPq7Uvn/mXX1tfX9y5JpyPuoRcrx/R+H+ZCuSkTOl2X6X6dHS3ZW64+R9\n",
       "x9pR+duoLXL94+XaAj7/I2GHUiR26IgfZCs9adANkGwXbWgk0n/XtFlRxCKd9UWq32TVli2S/o+M\n",
       "nSShbv4HxZZ5kLN3AppSEB4XEgHgEMCXMx7eop2k+g59/tV1H7nuXxuoM8qTLPhgleewShtlx8lg\n",
       "l2x3Ms3/fpZdiFp22ddbR9/ZkiP6po+c9cBb3aZJ4lu+LF4XMEWfnlN/NuHFPVQD6dtmKomj7b7e\n",
       "OvrOllh6qrGclr7qre5cBeQdPkKxo8X0POV0VR9DPLNRgFN81mY20nC/+gxCWbg1cGJgwPD0tq5v\n",
       "3/BDkRk/uXlvdUbFqmk+Ee6LvsHvh9CxWpbdisd7/PMWyVdCF9M+MsrtR6P+qGxJuA9i2/N2XyV/\n",
       "1sdbz1TZDmk3Zf1R7zeOt4lra9nGTUCpVLoN4Tt/XPb5o8gM7CqFArXWYuyut7EgjT39Ft4j+uVn\n",
       "2KM92qN3mzhkge87B01jMdD/kVqMZFbMgR+FSaB10DzZhqROtJnFVkNAFrjfP0zDXx8H6ayHxSTp\n",
       "DUeEJoYOJaMuKXav8MjCVrxPkiYnthnkDnpYzJMbPYZ7hzCdX/uwFNn75iGMLHD3436qlQrQWy+L\n",
       "k+QlwhgMiK7aExAvRTyNVzCywM3EdG90K0BvvSxmaEu0hl/sDUSEQZ5I5eICsrDVUbEJUssF56yn\n",
       "RTpZ6+s4SfvZpIUzWTd4ZAGhH9HayHksKG/rFgE7rFN+M47t8OGikN/6GixVeGQBoR9NNWkV9EOJ\n",
       "6hahA1cKChzgCRemcwmh94+umIdEZIGbAdgUqnmiH+CCQijU4cAh8qmCt8g3z5SfxIdvAaCAPWpZ\n",
       "dvpWDlngIsFs/+mNfrigEAZ1dDaILW8R5yipt4aYyhUtK5TbozyygNEPuy4WlNAPxZbesahNzLnK\n",
       "rdaGyy1N5QiK7XABIwsY/UhQhWhaBf1QrQm2RYjFy65yG8IshoG9EjIZIwsY/aCQangKVNAPVbIt\n",
       "wqdRS8zRcKc7acIHRCmMLJzCJ+eWeZs66ot+qN+8tkVhiixWzeIZfOv3LqybxYN8uDUihWWCQT8U\n",
       "KFl5Z9APBQpk5t0p+qFM47vcrQeLfszvsrdBoh8t51Lw/lBsIr0D7f8BuxKAcBVGtqUAAAAASUVO\n",
       "RK5CYII=\n",
       "\" style=\"display:inline;vertical-align:middle;\" /></a>"
      ],
      "text/plain": [
       "ExprArray((A_{i}, A_{i + 1}, ..A_{_a}.., A_{j}, A, B, C),  \\\\ (C_{i}, C_{i + 1}, ..., C_{j}, D, E, F))"
      ]
     },
     "metadata": {},
     "output_type": "display_data"
    }
   ],
   "source": [
    "ExprArray(ExprTuple(A_i_to_j.with_explicit_parameterization(), A, B, C), \n",
    "          ExprTuple(C_i_to_j, D, E, F))"
   ]
  },
  {
   "cell_type": "code",
   "execution_count": 24,
   "metadata": {},
   "outputs": [
    {
     "data": {
      "text/html": [
       "<a class=\"ProveItLink\" href=\"../__pv_it/demonstrations/9d54a0b7005b2ef274b4f97cb7e5a0f57721880c0/expr.ipynb\"><img src=\"data:image/png;base64,iVBORw0KGgoAAAANSUhEUgAAAecAAAAuBAMAAADgs8yvAAAAMFBMVEX///8QEBAiIiLu7u5ERES6\n",
       "urqYmJiIiIjMzMx2dnZUVFRmZmaqqqoyMjLc3NwAAABb1yYoAAAAAXRSTlMAQObYZgAAAAlwSFlz\n",
       "AAAOxAAADsQBlSsOGwAABddJREFUaN7tWl9oW1UY/5qb/0mTgEWf1Pkig4GLOKxOsZ0EK52Szoep\n",
       "MFhAwSdJ1EKhA9s9+eBDAgP7IK5BikJkJuqmsIhWERRkrGVa8KkRH6SIVF33p9U0nnPuuck9f27y\n",
       "lZ46kHyQpLn3l993vnO/7/z5nQJQ+x00llgCw2aecTe2qrs4+IdpNzrGYHarcu5J5fKLrUrlh1kU\n",
       "KxYq4eItHeiy8aC1jAOjAFW1zUMA0Zs4WixUxMWqDQ3m4rbpoLWM6wWAkzWlEm4ABP7GFQ0SKuHO\n",
       "zmuyI7J203DMesY88Z0vKFlPoMEbKFosVMQlCjOLKubX0D+Gg9YzVslrWcm0KKmEwbtQtFioiIvB\n",
       "5ZyKqcWvGw5az0gq7fB+XaVb7+IGMixUxJ2AYgnAEns7sBjeJB+PmYuZM4LYvvDG1PSK6qg4NnUu\n",
       "pzRKaxyKxoXtJwDrZVJxYl3FILFFPuac7w/ueo7ljCA+1hAZ3L7KuRzZNtOA+O2uRlkve/JyaE9z\n",
       "cD7a66Gj9eqoApmsX9xot5Z0z9Q+T7YR0h9WE/ibp7kYXeZPkdDUAe4IeTnDKx3a33hVcWm/iVCn\n",
       "i5rQua+jhGGApBKRRbr4L6ddbC73DtpHW3UAnDcPczO6LFnWjr00J5wxnT2Rr1WXvpoCdewAdO7r\n",
       "KGlH+lIQmJZyEeAegGfLiKCx2c0YrVPiTFEkqR29ZjtyVTod8qoTdqM0QatQ/u3hl872wA1/TseX\n",
       "HFsfDifTbshxtji1CleNBW0zQiy+JFcaFJdsR2Klh5u8Ud2D5lCeTveFt3vgapfIl59pWNvwi8Ca\n",
       "IJUG2Ubi0X2mguaM8EBETLpl0u13pm1HrlU6QR+7whvVPWgO5elUC6e646z02wCHWlcgnm2WYMxd\n",
       "f9lmGr5p/QT+ApzPHMlkcrsNus0Ig8L0skB3ASTh/UJRRuku5CnyxxjEMpmhzBPeQbeh9lw8ESr3\n",
       "wq24WnVVN7+PPGQsvdsjl3bqZY7UrmKN6v6kRZqG/4V0D4wr/+NLNQ3gUsx40Ke1V5kjxexG7SDo\n",
       "gUbxeI+g3flvva97Aodf50En3tksmAl6WnuVOVKfNGsUDXptda7HmFGv1y9A4NNv3+rh3yv/5fWD\n",
       "0RX4yo5/MWpWycihYDGTLp9L7XyjYjLmH0//98JU7FQabql99gn0rW9969v/w6zJynuJknx1eLyS\n",
       "W0P9HovU4iZb4wvjyroolN2oZD40GqVE+cprEP9YnrJDd6Th+3tRbEikB47s9oKqSpokG9D8otGo\n",
       "BcpDVLT6Uups63Gy1I9h5H4s0gMXpqrJRwq6SBa9sZTRoAXKZbpcOCavnG6j+gLGKxbpgQtRfeyk\n",
       "sjScIT0UMKtBuykjLLfelBDzNA/CmAUgFumB89PzrXVlRMnSPcSm0aDdlOtszyhtZxNMwrNmEYoI\n",
       "EumFS9LtRFHZ+VDdNLxlNGg35TzfMgq6esTRJ3uK/RHcgZMLN6tUGuRLkiNW6cFNlNiPNIeSif0H\n",
       "Oa8g9vucAaen2O9Dnm12cPuVSqMi5Zxa6dFrKLEfO2VxSib2380uSXufAXaSbHW2lpLY39H2BaRw\n",
       "WxTbtTheafCnttKTqc7WUhL7RY3IOWwY6XYKI1AeZLqMVGs+1sTvXCKCJBe1tX0BKd4WxHY9zq60\n",
       "4HVtpedzLhGhi1zUPmzwdRtOBUo2Q0cksd+eT0sIsd9BcvMU2x2cJPazSrt/VBb7aaVbQ4AR+3cy\n",
       "TRNKW+yn/wkAZySxn57aQySNEPs50slrT7HdwUliP6u0p0EW+2ml+5dQYv9OpmlCaYv99ND4+bQk\n",
       "9tMT68AZwIj9NtJ5nt5iO8dJYj/935tnaiCL/atkHUESFiP2Y41TMrEf4JHxD+hJ0Jg4FJ2vXADA\n",
       "iP0cyYcrT7G9jROEOSrBZ74AWexfaFUWjjYAI/ZjrU1pXuxHiO17KvZjzLjYjxDb91TsxyxSDIr9\n",
       "v9Xr9QmM2L5HYj9+kVJGwfpi/25d9sX+W2BU7P8XXL8QBuyRILwAAAAASUVORK5CYII=\n",
       "\" style=\"display:inline;vertical-align:middle;\" /></a>"
      ],
      "text/plain": [
       "ExprArray((A_{i}, A_{i + 1}, ..., A_{j},B_{i}, B_{i + 1}, ..B_{_a}.., B_{j}),  \\\\ (C_{i}, C_{i + 1}, ..C_{_a}.., C_{j},D_{i}, D_{i + 1}, ..., D_{j}))"
      ]
     },
     "metadata": {},
     "output_type": "display_data"
    }
   ],
   "source": [
    "ExprArray(ExprTuple(A_i_to_j, B_i_to_j.with_explicit_parameterization()), \n",
    "          ExprTuple(C_i_to_j.with_explicit_parameterization(), D_i_to_j))"
   ]
  },
  {
   "cell_type": "code",
   "execution_count": 25,
   "metadata": {},
   "outputs": [
    {
     "data": {
      "text/html": [
       "<a class=\"ProveItLink\" href=\"../__pv_it/demonstrations/2082b0cd307c708cad09fbe4f21585a772e4b2d70/expr.ipynb\"><img src=\"data:image/png;base64,iVBORw0KGgoAAAANSUhEUgAAAO4AAABuBAMAAADScDLJAAAAMFBMVEX///8QEBAiIiLu7u5ERES6\n",
       "urqYmJiIiIjMzMx2dnZUVFRmZmaqqqoyMjLc3NwAAABb1yYoAAAAAXRSTlMAQObYZgAAAAlwSFlz\n",
       "AAAOxAAADsQBlSsOGwAABUNJREFUaN7tWm1oW1UYfpPbJDe9yU3AMkXURQQpTNgVx+r0h1EHjk5J\n",
       "qyA6hAWsIIg0umKhQ5r6Z4P9SHE/REUbtDiIzMTND9xkRvHHQGQtU8E/NuJAqmjq6LZ22l3PuTeJ\n",
       "vefc973YCkU9L9xbep/nnPfc83Uf8hwAJ8wZ2JBILlDokF2pfFUkCNpI5S1zEoVjucXKznf8kDNk\n",
       "XugB6F4i8Gf2QeJYHsdTrDuH6z7AiStUWvMSQOR3HN/Wy26fNHBCqQBgpOXn8XnqbSDK0OglHJ+1\n",
       "2G2QqGCcDVLkovz8x9gfVN5uNgrJG1A47hQ+RFSQ4522LD+vJS5SeUNZ0N7A51Uzw++3ExUssku/\n",
       "LD2O1PVVjdHl4blv9OiqWSO2YKrg/V9qoc7HKLosEQwwWWO0p93/wlK58QYkNgFsby3yXgHe2ppR\n",
       "GA4xPnu6L0iEkZMnWE8ceBbrprv5SxX10Yw/vNm5WygOXXyVptIiQWP9dJ79/QzLy0dmuAAJpN6t\n",
       "/JYoojiksryCvEgw2HVjJ2/fx9Lw8ElXHWgV0/aLG4CzcuOA4s7y1XokwsPsmuvkrX0pDQ/bVPSV\n",
       "djEjIe7lTT6vDuO4s3y7ZkSCyTeSXKOVV7NelTZvRhg82y52W7wm4HwRPmrhOH+pyBYQCFpuxYLP\n",
       "7W874/uNuGvkLleO3t8pBklpI76z/+0BAp+2K9O7GzihlRfdqlvFUo014hiB5d3BRjJNFNPYx25i\n",
       "rThCmJ97CSbqECtjX6XXlgv6dQBja8RJQt1n+DxNlsf/b+EIIWJ9PUEWeyj5SHo9OEKIwofHyWJ5\n",
       "Y7+1HjyYoOI/FEq3K92udPu/W7fveOVNUrdrL1csSrejeFu3SwRXt9fgGKnbDTAylG5H8bZuFwkt\n",
       "3X4BmkVKt6cGzCVKt6N4W7eLhJZuf9zNi+r2qOUUQ3U7ird1u0ho63Z4kdbtEM+Quh3DO7rdS+jo\n",
       "dv0mWrfDCxap2zG8o9s9hL90+zmL1u3mvbRux/CObvcnmDWzQer2n+FXUpcH4Qjh3MFDFqXbzV0H\n",
       "j1O6PAjHCJttm9TtIdteoHR5EE4SlG5Xul2FChUqVPwv4q6A3xq0lfXhGCFcCyi3ZZ14MEGFChVq\n",
       "31D7hgq1ftX6VaFChYqNjl82KO8cBUb57/y7KEZffyU/j8Mjdv90f8MHSNhkq0JZgGoRx2NXW/DF\n",
       "zUQF7DsU9TM+jWqDyst9mr34x0q7h7XJIAxkxx581wd4fapI5R0uOsfcsEhexW4R4tduxx7cm5ee\n",
       "m4XxOpW3yq5ZvEemeGGd+Hg79mBTtv8NOJOn8vYA3NGLouZ5p7OJHnPswVJZev4YlLyN8TrA+uLo\n",
       "mGBFrE4S9zHgvY3g9iAMT0qEGjS9jfE6wNwe/NTbIavfPuwzo7y9w+1Bfh5RIMR2n6xmiW7uYlMm\n",
       "jp87CDlHMDSiAu7uw2/yqmcjkCGKpcrkaYawk/c0UQF396PyAQI2E8NpiH5wYCw25HSw4ACX8s7h\n",
       "1qeeHC0/52xbXofXXbmTKO4u31uzIiGSd47JbB/Mh8quRyc4wONsCZVmtCc2wbWuxeZ1ePmhEohb\n",
       "KO4u3wdAJHzPh/AK/PA8pIoGn3SiAzzL2na9ZfbNwBJ8xB8IDi9bhJHDgOP87M+DNZGwzT4LidzK\n",
       "JByBCQi7HeRZNdP8UBB73l3Q03CLW5NndmvvVd4HHOf28c5TOOEaGIGmu3J999pQMZY1F5wJ4Ovw\n",
       "BuEIwVxgbzxk4Cc3m6zB0WwNdXiDcIQQKcN38NM+3AHeA8mGecRCHd4gPIigHGBv/DMO8J8AvDYl\n",
       "djE4OgAAAABJRU5ErkJggg==\n",
       "\" style=\"display:inline;vertical-align:middle;\" /></a>"
      ],
      "text/plain": [
       "ExprArray((A_{1, j}, B_{1, j}, C_{1, j}, D_{1, j}), (A_{2, j}, B_{2, j}, C_{2, j}, D_{2, j}), ..., (A_{m, j}, B_{m, j}, C_{m, j}, D_{m, j}))"
      ]
     },
     "metadata": {},
     "output_type": "display_data"
    }
   ],
   "source": [
    "ExprArray(ExprRange(i, ExprTuple(Aij, Bij, Cij, Dij),one,m))"
   ]
  },
  {
   "cell_type": "code",
   "execution_count": 26,
   "metadata": {},
   "outputs": [
    {
     "data": {
      "text/html": [
       "<a class=\"ProveItLink\" href=\"../__pv_it/demonstrations/05f39ebda8def30ccfcbf700db2a40a380f93c3d0/expr.ipynb\"><img src=\"data:image/png;base64,iVBORw0KGgoAAAANSUhEUgAAAUYAAACSBAMAAADLIX5OAAAAMFBMVEX///8QEBAiIiLu7u5ERES6\n",
       "urqYmJiIiIjMzMx2dnZUVFRmZmaqqqoyMjLc3NwAAABb1yYoAAAAAXRSTlMAQObYZgAAAAlwSFlz\n",
       "AAAOxAAADsQBlSsOGwAABx1JREFUeNrtXG9oHEUUf8nm7vZyd3sBYxXRNiJIQTGrlcbqh0YtWlIl\n",
       "qULxH/SgFQWVRBsMbZFe/dJCP6RYqKjYBA0WTmrO1lZsikYRFESaUi34xZ5YkFr0YknTPzY5Z/Zf\n",
       "09zM5jdtl6Y4D7JwmR9v3868eTv73m+GyJO/aPbLURy6ulIo/JSH4UZ34SNrKwjurrQNtJXEbemK\n",
       "wvM0EtWfgdGvrqH07hyKniCKnxc3pQZL8E2t00Sxf1H0vfPZ5StUu8l006fith19+ODFWR/GT6Po\n",
       "Qza7LEfRCT4+K4W9bnVtGIZtrB8lyswFwUln4LaguuuYbioLvTdFB2GPoZpWMj5Au73cxK/3obqz\n",
       "rezS2y9qeo56p9g+w/17H+3ZlUPRfV0X/55JN4d3BraYU5qKVGa2Lxxxf80P17OhROk5KLrZmy2o\n",
       "bv4Mgx3GK+7P2guPlFg2NNhKZk8TNB4P8u7Jg+h5ztVGdbfzyz+06bWqlhbmCExHGtNzjg9HF4hu\n",
       "dqJvHtU9xuPGONE3VS1F1qsNvo3G+vApbo47wwGinciYhHXzkHZ3q29jy4GgJcZmQGbU15NKj4SH\n",
       "sEmmawJFl/kk2Abr5uHxcfJtLP4YtPzGA9Okr2dBshiqJ8N6fPlhFJ1mvf60DetmPfVE0bfRsN8L\n",
       "3laVw5Run9jq+0wmNFTWt58r7HqMCEMTPdD2cQeK5rqXfElBP9KR6md29WSxl2uUaN/GSZEeg4XP\n",
       "jYTeNTI0t3ERc/uGqpf2+2e7zJuJ1mGrnwjRdPzo27RxmBL94ucVOYG8dyJE07DMe5/MPNWAq4kS\n",
       "HbN/lnhGLrXexvVEiY7T53tIi5ZZKzoHoHMAOgegcwA6ByDNARjvFGw8BwCivRwArNvNASx690Nx\n",
       "DiBFKegj2M0BgGgvB4Dq9nIARdotzgFkOywo6rk5ABDt5QBQ3V4O4BSV88IcQNx29IA5ABDt5QBQ\n",
       "3V4OYJVroyAHQMkmhRwAhvZzAKBuPwdAb0lyAPSmrZADwNB+DgDU7ecAzNskOQDrYZUcAIQOcgCw\n",
       "bjcHcMyW5ABO0N8K3+lRoq2iVRLmAKylm/fg3+lRounY5i22MAdQU6mM4t/pUaJpXqWicwA6B6BF\n",
       "ixYtWrREKHfMGnStbLluTKioiRJNi6WfPbaSnijRhnZqLdeCXBPz+hqIj1q0aNGiRUs08v8mAbS0\n",
       "FXLHQWyifayw5BNJY3QkgMQNNv1wO4rOstVO57C4LTISgPEQ6/HUJKqbF11TkkxvZCSAzHXsEoPz\n",
       "y7zoGhsXd01kJIA+rteE14K86GqdFQ91VCQA66Qz4PAg8aKreU7YdDEJwBVT6jMXkwBC0UmxT8hs\n",
       "doqu8bNCuLsRYNpiXabI2wgAoWvFs0VGBXCKrvWnRHCXBICKSwIA/WJUKefgcFKywhnmbQQAxdsI\n",
       "gH05OTZ+D4dH3lOdwqnhbQRwZdELOxy7D8h8xtsIAKHdyOj7urF9LQ/DcioAD49GIwngAQnAabjL\n",
       "dPROKcBP8xmfBICgebynpJ+NuqfUy28qpwLw8FgXNE6FByQA58mLTjl2SgF+elT2SQAQmsW02Db/\n",
       "x5BbGJZTAdiqIXbhM3wKPCABuF7e4ZVjJfXRgAQAocn4rLA3+HG9VxiWUQEGKoWBZaWZ4YtLdauc\n",
       "sYHesUpoY5IeWeBMDWhxIIfXlHpXiAvwwtiihJ5rnlqlQAUQwK2hoaG9FNv33faQAvwlok8wdAc9\n",
       "+/LaHEIFcHXPBB+ekWxyyWhFKoAULi/AXz5ajQogh6sV4NXQalQAVbgWLVq0aNFymaJ5ACqieQBa\n",
       "tFwh0TyAKxMftWjRokWLlojEGpn9NgbFj5klztP2S/HFhMppAKFMgIO4jbzySoN5FK12GkAYE2D/\n",
       "JG4j3x26El2XqJ0GEMYESB7Hj0mgzjxeMVQ8DSCMCfBH4jxu4yC/NdgziqcBhDEBiulx3MZGovvn\n",
       "o37RxK/waQAhTIDYsDnN9pApYY71rDuCovuqfcIMMVHABPDhKbKm2R7ST7zy+nUORDdX+0RtyPML\n",
       "mAA+vHto/xg8HHVs2iXRKTZPLUchZwIYbEBOwjZm+xUIPv6JgKjuVpIwAVLs71ail17s6X/deYGE\n",
       "7trvzTnDgaH90wD2bVqXWO2YKmUY+OHRaBTBVxCvbxvPz6Gb3Api6K79Dey2vSMg2jsNYOHyXE2/\n",
       "W/mUMgz88Fg3IoBbfPzbS1bLCJ2hL/h/QnftH2Jx4BYbRHunAfz+BmXzKf7WlnMGiAImQBXcaJ+w\n",
       "6dvKL1TfZTbQne4SQ/6CHeDcQja4GNo/DWAnbaRa1yVCyq4BE0AKr8knWq1RxwuAUr0a+kbqprIb\n",
       "6pCVgRReZn0Tby2CpXoltDXKumZ1ikDOgBz+DGVK1k4b3LWvhI7106/05xqEM4DBo9zjr8YwuCon\n",
       "AqhxBq7OiQCKW/w9+H8tbgKe71ZE9wAAAABJRU5ErkJggg==\n",
       "\" style=\"display:inline;vertical-align:middle;\" /></a>"
      ],
      "text/plain": [
       "ExprArray((A_{1, j}, B_{1, j}, C_{1, j}, D_{1, j}), (A_{2, j}, B_{2, j}, C_{2, j}, D_{2, j}), ..(A_{_a, j}, B_{_a, j}, C_{_a, j}, D_{_a, j}).., (A_{m, j}, B_{m, j}, C_{m, j}, D_{m, j}))"
      ]
     },
     "metadata": {},
     "output_type": "display_data"
    }
   ],
   "source": [
    "ExprArray(ExprRange(i, ExprTuple(Aij, Bij, Cij, Dij),one,m)\n",
    "          .with_explicit_parameterization())"
   ]
  },
  {
   "cell_type": "code",
   "execution_count": 27,
   "metadata": {},
   "outputs": [
    {
     "data": {
      "text/html": [
       "<a class=\"ProveItLink\" href=\"../__pv_it/demonstrations/05f39ebda8def30ccfcbf700db2a40a380f93c3d0/expr.ipynb\"><img src=\"data:image/png;base64,iVBORw0KGgoAAAANSUhEUgAAAUYAAACSBAMAAADLIX5OAAAAMFBMVEX///8QEBAiIiLu7u5ERES6\n",
       "urqYmJiIiIjMzMx2dnZUVFRmZmaqqqoyMjLc3NwAAABb1yYoAAAAAXRSTlMAQObYZgAAAAlwSFlz\n",
       "AAAOxAAADsQBlSsOGwAABx1JREFUeNrtXG9oHEUUf8nm7vZyd3sBYxXRNiJIQTGrlcbqh0YtWlIl\n",
       "qULxH/SgFQWVRBsMbZFe/dJCP6RYqKjYBA0WTmrO1lZsikYRFESaUi34xZ5YkFr0YknTPzY5Z/Zf\n",
       "09zM5jdtl6Y4D7JwmR9v3868eTv73m+GyJO/aPbLURy6ulIo/JSH4UZ34SNrKwjurrQNtJXEbemK\n",
       "wvM0EtWfgdGvrqH07hyKniCKnxc3pQZL8E2t00Sxf1H0vfPZ5StUu8l006fith19+ODFWR/GT6Po\n",
       "Qza7LEfRCT4+K4W9bnVtGIZtrB8lyswFwUln4LaguuuYbioLvTdFB2GPoZpWMj5Au73cxK/3obqz\n",
       "rezS2y9qeo56p9g+w/17H+3ZlUPRfV0X/55JN4d3BraYU5qKVGa2Lxxxf80P17OhROk5KLrZmy2o\n",
       "bv4Mgx3GK+7P2guPlFg2NNhKZk8TNB4P8u7Jg+h5ztVGdbfzyz+06bWqlhbmCExHGtNzjg9HF4hu\n",
       "dqJvHtU9xuPGONE3VS1F1qsNvo3G+vApbo47wwGinciYhHXzkHZ3q29jy4GgJcZmQGbU15NKj4SH\n",
       "sEmmawJFl/kk2Abr5uHxcfJtLP4YtPzGA9Okr2dBshiqJ8N6fPlhFJ1mvf60DetmPfVE0bfRsN8L\n",
       "3laVw5Run9jq+0wmNFTWt58r7HqMCEMTPdD2cQeK5rqXfElBP9KR6md29WSxl2uUaN/GSZEeg4XP\n",
       "jYTeNTI0t3ERc/uGqpf2+2e7zJuJ1mGrnwjRdPzo27RxmBL94ucVOYG8dyJE07DMe5/MPNWAq4kS\n",
       "HbN/lnhGLrXexvVEiY7T53tIi5ZZKzoHoHMAOgegcwA6ByDNARjvFGw8BwCivRwArNvNASx690Nx\n",
       "DiBFKegj2M0BgGgvB4Dq9nIARdotzgFkOywo6rk5ABDt5QBQ3V4O4BSV88IcQNx29IA5ABDt5QBQ\n",
       "3V4OYJVroyAHQMkmhRwAhvZzAKBuPwdAb0lyAPSmrZADwNB+DgDU7ecAzNskOQDrYZUcAIQOcgCw\n",
       "bjcHcMyW5ABO0N8K3+lRoq2iVRLmAKylm/fg3+lRounY5i22MAdQU6mM4t/pUaJpXqWicwA6B6BF\n",
       "ixYtWrREKHfMGnStbLluTKioiRJNi6WfPbaSnijRhnZqLdeCXBPz+hqIj1q0aNGiRUs08v8mAbS0\n",
       "FXLHQWyifayw5BNJY3QkgMQNNv1wO4rOstVO57C4LTISgPEQ6/HUJKqbF11TkkxvZCSAzHXsEoPz\n",
       "y7zoGhsXd01kJIA+rteE14K86GqdFQ91VCQA66Qz4PAg8aKreU7YdDEJwBVT6jMXkwBC0UmxT8hs\n",
       "doqu8bNCuLsRYNpiXabI2wgAoWvFs0VGBXCKrvWnRHCXBICKSwIA/WJUKefgcFKywhnmbQQAxdsI\n",
       "gH05OTZ+D4dH3lOdwqnhbQRwZdELOxy7D8h8xtsIAKHdyOj7urF9LQ/DcioAD49GIwngAQnAabjL\n",
       "dPROKcBP8xmfBICgebynpJ+NuqfUy28qpwLw8FgXNE6FByQA58mLTjl2SgF+elT2SQAQmsW02Db/\n",
       "x5BbGJZTAdiqIXbhM3wKPCABuF7e4ZVjJfXRgAQAocn4rLA3+HG9VxiWUQEGKoWBZaWZ4YtLdauc\n",
       "sYHesUpoY5IeWeBMDWhxIIfXlHpXiAvwwtiihJ5rnlqlQAUQwK2hoaG9FNv33faQAvwlok8wdAc9\n",
       "+/LaHEIFcHXPBB+ekWxyyWhFKoAULi/AXz5ajQogh6sV4NXQalQAVbgWLVq0aNFymaJ5ACqieQBa\n",
       "tFwh0TyAKxMftWjRokWLlojEGpn9NgbFj5klztP2S/HFhMppAKFMgIO4jbzySoN5FK12GkAYE2D/\n",
       "JG4j3x26El2XqJ0GEMYESB7Hj0mgzjxeMVQ8DSCMCfBH4jxu4yC/NdgziqcBhDEBiulx3MZGovvn\n",
       "o37RxK/waQAhTIDYsDnN9pApYY71rDuCovuqfcIMMVHABPDhKbKm2R7ST7zy+nUORDdX+0RtyPML\n",
       "mAA+vHto/xg8HHVs2iXRKTZPLUchZwIYbEBOwjZm+xUIPv6JgKjuVpIwAVLs71ail17s6X/deYGE\n",
       "7trvzTnDgaH90wD2bVqXWO2YKmUY+OHRaBTBVxCvbxvPz6Gb3Api6K79Dey2vSMg2jsNYOHyXE2/\n",
       "W/mUMgz88Fg3IoBbfPzbS1bLCJ2hL/h/QnftH2Jx4BYbRHunAfz+BmXzKf7WlnMGiAImQBXcaJ+w\n",
       "6dvKL1TfZTbQne4SQ/6CHeDcQja4GNo/DWAnbaRa1yVCyq4BE0AKr8knWq1RxwuAUr0a+kbqprIb\n",
       "6pCVgRReZn0Tby2CpXoltDXKumZ1ikDOgBz+DGVK1k4b3LWvhI7106/05xqEM4DBo9zjr8YwuCon\n",
       "AqhxBq7OiQCKW/w9+H8tbgKe71ZE9wAAAABJRU5ErkJggg==\n",
       "\" style=\"display:inline;vertical-align:middle;\" /></a>"
      ],
      "text/plain": [
       "ExprArray((A_{1, j}, B_{1, j}, C_{1, j}, D_{1, j}), (A_{2, j}, B_{2, j}, C_{2, j}, D_{2, j}), ..(A_{_a, j}, B_{_a, j}, C_{_a, j}, D_{_a, j}).., (A_{m, j}, B_{m, j}, C_{m, j}, D_{m, j}))"
      ]
     },
     "metadata": {},
     "output_type": "display_data"
    }
   ],
   "source": [
    "ExprArray(ExprRange(i, ExprTuple(Aij, Bij, Cij, Dij),one,m)\n",
    "          .with_explicit_parameterization())"
   ]
  },
  {
   "cell_type": "code",
   "execution_count": 28,
   "metadata": {},
   "outputs": [
    {
     "data": {
      "text/html": [
       "<a class=\"ProveItLink\" href=\"../__pv_it/demonstrations/4b224b6466a73ac4a04a364117d9eb45f3a2b3b70/expr.ipynb\"><img src=\"data:image/png;base64,iVBORw0KGgoAAAANSUhEUgAAAUYAAAClBAMAAADSXklbAAAAMFBMVEX///8QEBAiIiLu7u5ERES6\n",
       "urqYmJiIiIjMzMx2dnZUVFRmZmaqqqoyMjLc3NwAAABb1yYoAAAAAXRSTlMAQObYZgAAAAlwSFlz\n",
       "AAAOxAAADsQBlSsOGwAAB/dJREFUeNrtXH9oVVUc/25378f23u4GLYsoNYIQirxluKw/XCUlM9ks\n",
       "kH6BDzQKKrZyNFTCZ/8o+MckwajIjRoJL2wvTSMntSIoiHBiCf2TLxLCpDZlzh+5vc65v/a2nXP2\n",
       "OT4vTjof2IW3++F7zz3n3O+95/P9ni+Rj79p9uMETl1XzOV+zsJ0qyP3sb0DJHcUm3ubC+Jz6aLG\n",
       "/TQQ1VyA2a+tp/S+DMoeI4pfFp9K9RXgi9rniWL/ouz7F7DD16j1JLNNn4nP7e7GBy/O+jB+HmUf\n",
       "ddhhFcpO8PFZI+x1u33zANzGmmGi2rkgudoduO2o7Spmm4aEszdFR+AZQxVNZH2IdvvQfH58ALVd\n",
       "18QOXT2iU89TV0nbZ7h+1+OdezMou7t98u+ZbHN6W9iWZMmpPA2xti8e9H4tUNvZXKD0HJS90H9a\n",
       "UNv8HvparVe9n5UTt5RY0d/XRMnO+dB4PMy7Jwuy57lHB7Xdwg9naOvr0840sonAbKQxO5f4cLSD\n",
       "7IWu982itke43xgl+nbamTzr1fqgjdYm9SOeHHWHA2S7nrEats1d2r1NQRsbD4dnYuwJqB0O7KTS\n",
       "g2oXNs5sjaHsIf4Q7IRtc/e4koI25n8Kz/zOHdN4YGdRdV5pp5b1+KpjKDvNev0ZB7bNeurJfNBG\n",
       "y3k/fFsVj1G6ZWxHMGdqla6ypuVSbu8TRBib6KHmT1pRNre97CsK+5GOT79nz04d9nKNkh20cVxk\n",
       "x2LucwuhV42Mzdu4hE37+mkv7Q8utidvJdqIff1EyKZTJ96hLQOU6BHfr2gSyHsnQjYNyGbvU7VP\n",
       "1+NmomTHnF8kMyOT2uTgdqJkx+mL/WRgMGthNACjARgNwGgARgOQagDWuzkH1wBAtq8BwLY9DWDJ\n",
       "ex+JNYAUpaBFsKcBgGxfA0Bt+xpAnvaJNYC6Vhvyep4GALJ9DQC17WsA52goK9QA4o5rB9QAQLav\n",
       "AaC2fQ1grddGgQZA1fM1NACMHWgAoO1AA6C3JRoAveVoaAAYO9AAQNuBBpC8Q6IB2I/qaAAQO9QA\n",
       "YNueBnDSkWgAp+kfjXV6lGw7bxeEGoC9fNt+fJ0eJZtObtvuCDWAimJxGF+nR8mmecWi0QCMBmBg\n",
       "YGBgYBAh7po17ErZ57o1pmMmSjYtlS57HC07UbItM6kNrgdcF8/1deAfDQwMDAwMosH/OwmgsTmX\n",
       "OQVyEy0juWWfSk5GlwSQuMmhH+9E2XXsa6dtQHwusiQA6xHW46lx1DYPuqYkSm9kSQC1N7BDDNaX\n",
       "edA1NirumsiSALq53ST8LciDrvZF8VBHlQRgn3UHHB4kHnRNXhKempwE4CEpnTOTkwCU7GrxnJC1\n",
       "2Q26xi8K6d5GgCkf6zJD/kYAiF0pflpkqQBu0LXmnIjuJQGg8JIAwHkxrKU5uDkpdcInzN8IAMLf\n",
       "CICtnNw2/gC7R95TbcJHw98I4GHJi7vddh+WzRl/IwDE9jxjMNetXRu4G5anAnD3aDWQgB4mAbgn\n",
       "7km6dksC8FPmTJAEgLC5v6fqQI26r9DFLypPBeDusSo8WUoPkwDcO8+74diSAPxUrxwkAUBs5tNi\n",
       "O4Mf/V5gWJ4KwL4aYhPL8BJ6mATgzfJWPxwriY+GSQAQm6zPcwfCHzf6gWFZKkBvMde7ojAzfWmh\n",
       "aq07NtA7VottjdNji9xHA/o4kNMrCl2rxQF4oW/RYs9NnlurkQogoNv9/f0HKHbw+12KAPwVsk8z\n",
       "dis998qGDJIK4NmeiT4wY7LJFbM1UwGkdHkAvny2XiqAnK4XgNdj66UC6NINDAwMDAzKhMkD0IHJ\n",
       "AzAwuEoweQBXxz8aGBgYGBhEBHtw9rcxDH7MjDiX7ZfjHxM61QCUmQBH8DbyyCv1ZVG2XjUAVSbA\n",
       "oXG8jXx36Br0u0SvGoAqE6D6FF4mgdqyeMRQsxqAKhPgz8RlvI19/NJgz2hWA1BlAuTTo3gbG4ge\n",
       "XIDOi/n8CFcDUGQCxAaSU9queCSSI50bj6Ps7ulzIqlooiATIKCnyJ7SdkU/8cjrNxmQvXD6nKhU\n",
       "3L8gEyCgd/QfGoGHo4o9dtXoIzZPT6OQZwJYbEDOwm2s69FI8AkqAqK2m0iSCZBif7cTvfxSZ88b\n",
       "7gtEuWu/K+MOB8YOqgEc3Loxsc5tqjTDIHCPVoOIvpp4fNt6YQ7d4kUQlbv2N7PLdg2CbL8awOJV\n",
       "mYoeL/IpzTAI3GPVoIBu8/FvKdiNg3SBvuT/Ue7aP8r8wG0OyParAfzxJtVlU/ytLc8ZIAozAabR\n",
       "rZYxh74r/ko17cl6utv7xJC/YHt5biEbXIwdVAPYQ1uo0psSirBrmAkgpVdkE032sDsLgFC9Hvtm\n",
       "6qAhz9UhXwZS+hDrm3hTHgzVa7HtYdY161IE5gzI6c9SbcHe44C79rXYsR76jf5aj+QMYPQo9/jr\n",
       "ZRhck4oAejkD16YigOYWf1MRwMAAh3h7gqocX7mLe03hgKTbExTl+Mpe3OsJB9LtCapyfGUv7rWE\n",
       "A5JuT1CU4yt/ca8lHJB0e4KiHF/5i3sd4YDk2xMU5fjKX9zrCAck354wpRyfGt3tWp5EIBwoIdqe\n",
       "ECx4JlK/Z1qUFrTaKBAOlBBtTwj0IDoT0eJeRzhQbE8ISvJHsrjXEQ7k2xPCkvwQgnL/IHzhAB/q\n",
       "ku0JU93jSh2fTDvhi3rCAfz9nZEo9GE5PuxdFZT6Az2+Kxyg7EnbE0owUY4Pg7+4xxAIB+BrdtL2\n",
       "BKL/AB1vZ2/8QhpkAAAAAElFTkSuQmCC\n",
       "\" style=\"display:inline;vertical-align:middle;\" /></a>"
      ],
      "text/plain": [
       "ExprArray((A_{1, j}, B_{1, j}, C_{1, j}, D_{1, j}),  \\\\ (A_{2, j}, B_{2, j}, C_{2, j}, D_{2, j}), ..(A_{_a, j}, B_{_a, j}, C_{_a, j}, D_{_a, j}).., (A_{m, j}, B_{m, j}, C_{m, j}, D_{m, j}), (D, C, B, A))"
      ]
     },
     "metadata": {},
     "output_type": "display_data"
    }
   ],
   "source": [
    "ExprArray(ExprRange(i, ExprTuple(Aij, Bij, Cij, Dij),one,m)\n",
    "          .with_explicit_parameterization(),\n",
    "          ExprTuple(D, C, B, A))"
   ]
  },
  {
   "cell_type": "code",
   "execution_count": 29,
   "metadata": {},
   "outputs": [
    {
     "data": {
      "text/html": [
       "<a class=\"ProveItLink\" href=\"../__pv_it/demonstrations/4bbed1d74c317fa24f2dffd9c6e8f5e5b97b2df70/expr.ipynb\"><img src=\"data:image/png;base64,iVBORw0KGgoAAAANSUhEUgAAAUYAAAC+BAMAAAC7T7sDAAAAMFBMVEX///8QEBAiIiLu7u5ERES6\n",
       "urqYmJiIiIjMzMx2dnZUVFRmZmaqqqoyMjLc3NwAAABb1yYoAAAAAXRSTlMAQObYZgAAAAlwSFlz\n",
       "AAAOxAAADsQBlSsOGwAACMZJREFUeNrtXQ1oW1UUPu1rkpcmfSlatyG6VgUZKPa5jdVNZFGHjs7Z\n",
       "TmH4ywKrOFBpddWyDV0mwgZDMhzOP1yLKw4is3FzU9ehUQSFIeuoDgVxEQeyDW032+63jfe+v+Xn\n",
       "3tdztz2T4f2ggeR9nJzcn/PeO+d7pwAW/oLyx2E8tS2bTP4YR9OVzuSH2iYkuTPb3NucYR8LZwV+\n",
       "Tx1A9Wk0+/mVEN4Zw7LHAfzn2YdCfRn0l2qnAHznsOzZM8jLV1jrKrENn7CPbe3GT56fjKH/FJZ9\n",
       "UCcvS7DsAJ2fZcxR1zrWptE+Vg8D1ExHkoPGxG3E2q4itmGIuXpDcAC9YqAiCsoH2GEfaqCvd2Bt\n",
       "R6LkJdHDOvQEJHJ8n+T7E/d37Yhh2d0d+e8ns03p7Y4vas6hFAwR3+cMmO9muNtZm4HwFCy70dot\n",
       "WNv0N/S1Ks+Zbysv/KTAov6+KKhdDaj5uJsOTxzJrjdedaztFvpyAta/UHSkiSwEYiOMs3OWTkcH\n",
       "kt1oRN841vYIjRtjAN8UHUmRUa21fVTWuG9xdcyYDiTbiIxBtG0a0m6P2j427XOO+MgOqBm27YTC\n",
       "A+4hbILYGseyh+gm2Iy2TcPjYrB9TP3gHPmdBqYJ286sYMrVTg0Z8SWDWHaYjPqjOto2GamHUraP\n",
       "iv6ec7bKDkK4ZXyTvWZqXENldcvZ5I4HAHBsgDubP2rFsqntBV+CM45wqPg3m3YiuJOrl2zbxwmW\n",
       "HYWEz3WA/VbP2NTHuWTZ1xadtN8/06FeB7Aad/XjIRuOHn4L1qUh0MP+vaxFwB8dD9mQ5q3eh2se\n",
       "qcWb8ZLt03/irIxYaI2Ot+Ml2w+f7QIJibKFzAHIHIDMAcgcgMwBcHMAyjtJHZ8DQLKtHADatpkD\n",
       "mPvuNnYOIAQh1E2wmQNAsq0cANa2lQNIwU52DiDSqqGinpkDQLKtHADWtpUDGIWhODMH4NcNO8gc\n",
       "AJJt5QCwtq0cwHLTR0YOAIINAjkAHNvOASBt2zkAeIOTA4BXdYEcAI5t5wCQtu0cgHoTJweg3SuS\n",
       "A0CxnRwA2raZAziic3IAx+Fvgft0L9laSsswcwDawg278PfpXrLhyIaNOjMHUJHNDuPv071kQ302\n",
       "K3MAMgcgISEhISHhIW4pG3Yl73JdGRcx4yUb5nNve3QhO16yFbmoJa4EXBH7+gqIjxISEhISEt7g\n",
       "/y0CaGpOxo4iuYGWkeSCjzkHvRMBBKbqsP9mLDtCrnba0+xjnokAlHvIiIcmsLZp0TXEyfR6JgKo\n",
       "uZq8+ND5ZVp09Y2xh8YzEUA3tauirwVp0VU7w55qr0QA2kljwtGTRIuu6lnmoXwRgAmVu2byRQCu\n",
       "7CB7TfB8Noqu/jNMuvkgQMHFOs+Q9SAAil3J3i08KYBRdK0eZdFNEQAWpggAuS6GhXIOhiYlwtxh\n",
       "1oMASFgPAuDunAwfv0eHRzpS7cytYT0IYGLu01sNv/fx1oz1IACKbUZGe60rW1bRMMyXAtDwqNQB\n",
       "g+6IAIwDt6mG3ZwCfMGasUUAGDaN9xC0s1EzMwn6pXwpAA2PVc7BXLojAjB+ecoox+YU4Aujsi0C\n",
       "QLFJTPNttt/0m4VhvhSAXDX4LtyG59AdEYC5ylutciynPuqIAFBsUD5N7nbeXGMVhnlSgN5ssndR\n",
       "ZnL6/EzVcmNuUOdYIbYyAffNMrYG6uKAT6/IJJayC/DM2CLEnq6OLheQAjDoWn9//27w7flui0sB\n",
       "/iLZxwm7FR5/dlUMIwUwbU9GT08qNrlotqAUgEvnF+AvnS0mBeDTxQrwYmwxKYAoXUJCQkJC4hIh\n",
       "dQAikDoACYnLBKkDuDzxUUJCQkJCwiNoA+Xvo1P8mBx+mrZfiL+YEOkG4KoEOID3kVZeoS+OZYt1\n",
       "A3BTAuydwPtInw5dhr0uEesG4KYECB7Ft0mA9ji+YijYDcBNCfBn4Dzexz761ciREewG4KYESIXH\n",
       "8D7WAcybgV0XDfQV3Q3ARQngS6sFvrtsCXWka/UhLLu7eE2oLi4ylAA2PQRage8u40Qrr1/HkOzG\n",
       "4jVR6fL7GUoAm97Zv3cEPR1VZNsFsVusXixHwVcCKGRCTqJ9jPQICHzsjoBY21HgKAFC5O8GgGdW\n",
       "dPW8ZJxAXJ/aT8SM6cCx7W4Ae9avDrQZrnIVBnZ4VOpY9KVA69vKU1PgWrOC6PrU/lrytYkBJNvq\n",
       "BjBnSayix6x8chUGdnisGmDQNTr/LRmtaQBOwxf0E9en9g+SOHC9jmRb3QD+eBki8RA9a/M1AwCO\n",
       "EqCIrrSM6/Bt9heo7lBr4VbzEoN/gu2l2kIyuTi23Q1gO6yDSnNJuJRdHSUAl14RD0S1YWMVIEr1\n",
       "Yuxp0AlDZqjDXBlw6UNkbPzRFLJUL8TWhsnQtIUAqRng0x+Dmoy2XUc+tS/E9vXAb3BsJUYzgKN7\n",
       "+Yy/mMKgJB0BxDQDpekIIPiIv+wIICFRFmjLToWZJ34tbyf70hB+sMwHMhGF42Xkzgpm5mhCYZ5i\n",
       "XymNj4PMc8O5eUzy/pK46GNfktRvY35cWRIf79Kxt/3G9VG0BC6qP3M2dgP7884SiAS7r7rRRP6d\n",
       "a+hYwQMHIYvWOPrf++hnbhn4XOWkPJ5sLcFkv876MBhn5Xjo0hgsxZ7xs7LcL+Z2wcyLm5mSbGzG\n",
       "5phN/Iv8Uz7xEd4s+uS1+mmgHj7Jylu8La+3JCQkJCQkhMBuUeDWkp8BoQK/oHgAuC0KXFryMyBW\n",
       "4BcTD3BbFLi15GdchYkV+IXEA8BtUeDSkp8BwQK/kHgAuC0KXFryM+4JBAv8IuIB4LcocGnJz5g7\n",
       "4yIcX+AXEQ8Av0VBQUv+Se5cO4QiCUM84ApWiwIKqyU/zkij2C0UQzzgClaLAgqrJT8OogV+EfGA\n",
       "S4sC+9/y4cbRCGLogCckHuC3KHD+LR8K9r/8Q8ISD+CnOqdFQWF4XCwSk2Ez+ktN8QCWndeiIC+R\n",
       "YLfkx52r7Hb/yIhviAew7LwWBTm40JIfB6vAj4MtHkCeZvNaFAD8CxdpkBV/hNhoAAAAAElFTkSu\n",
       "QmCC\n",
       "\" style=\"display:inline;vertical-align:middle;\" /></a>"
      ],
      "text/plain": [
       "ExprArray((A_{1, j}, B_{1, j}, C_{1, j}, D_{1, j}),  \\\\ (A_{2, j}, B_{2, j}, C_{2, j}, D_{2, j}),  \\\\ ..(A_{_a, j}, B_{_a, j}, C_{_a, j}, D_{_a, j}).., (A_{m, j}, B_{m, j}, C_{m, j}, D_{m, j}), X, (D, C, B, A))"
      ]
     },
     "metadata": {},
     "output_type": "display_data"
    }
   ],
   "source": [
    "ExprArray(ExprRange(i, ExprTuple(Aij, Bij, Cij, Dij),one,m)\n",
    "          .with_explicit_parameterization(),\n",
    "          X, [D, C, B, A])"
   ]
  },
  {
   "cell_type": "code",
   "execution_count": 30,
   "metadata": {},
   "outputs": [
    {
     "data": {
      "text/html": [
       "<a class=\"ProveItLink\" href=\"../__pv_it/demonstrations/3c1fec3793f7797fc624e8f571acd5fa01dd1f010/expr.ipynb\"><img src=\"data:image/png;base64,iVBORw0KGgoAAAANSUhEUgAAAXoAAABgBAMAAADhtKTqAAAAMFBMVEX///8QEBAiIiLu7u5ERES6\n",
       "urqYmJiIiIjMzMx2dnZUVFRmZmaqqqoyMjLc3NwAAABb1yYoAAAAAXRSTlMAQObYZgAAAAlwSFlz\n",
       "AAAOxAAADsQBlSsOGwAACKBJREFUeNrtm2toHFUUgE8y2d3ZRzYBtYrYNiJIIWJXW4yJiKkWra2S\n",
       "VKH4gi60ovggsQ2WtpRu/NNKkASF+oJ20fpgpWZtbcWu1ChFBZGk9IH+sSsWShRNWtI2rU3Xe+/c\n",
       "mbm7e18zm2CCOZDNZM/JuWdnzty599tzALDEh0Aici0jf4EX0XarktpR/1pGTk7ioHIJtY1lln5K\n",
       "/xiUOhrUHCZW8BTBYAXRQx26cB0D1vHBKzJLudaVaH/eSwC6brnS24nGqyeH4eFxiaFcy8jOXSkP\n",
       "42u75cpWNFTgPDk8HbosMZRrmbuwc+uAh/F13fKlDQ94kRxmY+clhnItkzgwmPQwvq5bvoyhH/MS\n",
       "PgoMmBfd980SO7mWkaegt6/0PbF5sVssXtLOvIBeghetkxZHn8J40VJUp0pPKdY2v/M+V8ueTBhJ\n",
       "l74nNrfcsrLAy4yJ75nIOXzYlTuILsS2dXxDS5uFvRzdPUP2C3K4ItffyvXAWpW49Ss1eLatw3OO\n",
       "gSafs+j3t1w7qj0HI5zTWJ21XwCakLsGrgvWqsSt7+ken6eOJLmGADc60Td9VXqFiXaNFX2ptihx\n",
       "oLre/qP5mZ0gNadun392Q/rlZeTjbPYyYeHp3rgaH62iz3gr+uxPxXa2Fl7naZm7MMk8+41bzSty\n",
       "c8ut8fQcuB42kY8T87LswdN9Df6HOD5hbXkavZF4t3gSt7XmTRwtI7/hbLSfntGsWS81p27jTUMw\n",
       "Dl/idxaFsx6iR+cz0IhHaJtIwOHCL07enyhKT0d7KlGuZWRx4SjE2ibolFnVHkrLzB23kU70MW+x\n",
       "Fm38h0UT783dhczuFcXLEho9f/URz8bzYm3ZLJOvWZPQMa9KhVrjo2Q+qOMvkrZoXg0UfTPKkHqu\n",
       "8tT2noRYWxZUvneVlvkIOvvB1qyBrlk3/yrN17uZh0++Cd0DEEpztfMLBYmWuUa5XG4/BA58v0PL\n",
       "/Amozcc/Spg3gHXvlmfkc8f174YBUfppaCsxjwlukaafe1o+1h0vkDje7VdbkfmjtY9xk+w76IFX\n",
       "dZ0E4Yt9frUVmSejmxN8TQ/MZJmNfjb62eg5c0PbpcyeZf60jKwtZDLHtHd32m5F0TctzySHyXMd\n",
       "LfX7hePKtYyg5XZEH3LouhVEH7o2AT/eTBYbaKm/Wrg+lWuZNQLaKAf+0Y5e1y0/euNe9MGjZA3Y\n",
       "gY46OkX/LtcyuYDOe/CCdvS6bvnR116FH+bk8dyPfo4IIZ5c60oEbaxq52lHr+uWH/0uvPI0szRh\n",
       "WxbI0rllgV4iG+/pMxldt8PcLCUbegOPZo5t2HRCCJDkWnaj/MCGPUltGlXi1iONCrsZGkLJ/01S\n",
       "RKOoVk2jtuYhNkebRlG3PmlUtbtnq0HJHx4X0SiqVdOoJTgdU7o0irr1KVUEXhhkQ5m2Jgs+jaJa\n",
       "NY3CXI8/ifBolD2oP6km0f9AEjZpIUE+jaJaJY0yMRHub9elUdStTxplzfR9NGGhd0hEo2ytikbh\n",
       "RDYntGmU5dYvjcJPRgiT/cwRNO/PTQholKNV0ahalMgrj+rSKOrWN40aTELgDUp2MscGgE+jXK2C\n",
       "RkXwqush565S0CjHrYJGBdvOdBoL55bnlPF5Zj9MexoVuQxwOK8z5HSkUeYYOm8zl0adzLfMXBoF\n",
       "HfvS2uNNOxoFVZcSkwSQ/gsaFfb9PJ4OEjk7k6M/5Cw+ZqBEU72tMzf6t9il/EyTUDv9Ol8mDtnh\n",
       "woeuzIfxPo2hpF58mRsPopdCQs6+XLLDk5fWQ2yvxlNH7sWPubnkTApeKzRK2RdDdjiyGG83v1Yv\n",
       "lOReKjUXsy+G7PAW4vjCrVS7k3up1FzMvhiyw3nWXZbARAEf0hGP5kL2xZAd3hK2Ab/eqb6SUi+V\n",
       "movZV+lKohgg7erUQ0aC9YgXc08fxWZf9uOAT6MWWver8XYmIUVGgoeKF3MvtVEO+7LJDp9GzSev\n",
       "iShEG0ScyZgo5kM6NEpmriU2+3LIDpdGLSR7h1Rde3xcxJmgsZgP6dAombmW2OzLITtcGkVm+jAE\n",
       "EyR6MTJi+BC227Exr2XutzbKYV8O2eHSKPwVB2ByEm6QIiOGDyG5Pd+b1zH3XRvlsi+b7HBpFC75\n",
       "fBwH9UpCjowcPoQlZxECpblvGuWyL5vscGkU3LX8E7w/iN8nREYcPnQNJQRKc3Vt1LCafalp1J/w\n",
       "txAZlYd2Be5fpGWuro3S/bZZRqPiy7bvExcwlck889waLXNlbZRu9FIaVVUojIqREXuNcrlcOzz5\n",
       "wsaklrmSRnn6pl8KkGJiqlqpudjWQ/RygCRERpWbi209RC8HSOICporNZ2ujZqOfjf7/EL3VF9hV\n",
       "WL57ufCRLtcyqz62d27SzGXVpLQvEK00g+LeJ7nWFbZ3btLMm4/3RASVvLQvkHT/fCbcB0i17D7Z\n",
       "7Z2DyTO/e/MHog2O1RdIun9WixYIci27T045vXNa22o9c3EFO+0LJN0/IyLOKtcywvTO6Yiu+TrR\n",
       "7oz2BZLun960KD+lWkbc3jkt0TU/LUoc2heIMxA6+vg0SqEtuT/KYLsXc9PTTGr3BeIMRPtzQW0U\n",
       "1Spro5jeOZZ8eDCv9gTT7L5AnIFwRlQbRbXc2ijCoShncnvn+GbGRPntVOefITt9gTgDg+dFtVFU\n",
       "y6+NanSRlNs7JzBrLL+dOpK+o7f7AkkG3tYqoFG2Vlkb5fbOkaeMsjbKMg8e2LYptDYlt+UnjtUX\n",
       "SDLwYRDQKEerqo1yeudIrqhroyzzO1Ymq9LWVlpsy9sEJmlfIH55JCuiUY5WVRtl985Z05myNoqa\n",
       "/74F6lLRPrktR+y+QAx2lh4S0ShXq6iNKu6d06mNssw/gm6oHpDacqS4L1BNo6aoNgqugy4YMUHf\n",
       "tR8aNVW1UfFRdPbXRkHftR8aNVW1UYE0/Ap/rNeyrZBGTWFtlFfXPmjUFNZGeXTth0ZNYW2UR9e2\n",
       "/AuYasFp5ui2vAAAAABJRU5ErkJggg==\n",
       "\" style=\"display:inline;vertical-align:middle;\" /></a>"
      ],
      "text/plain": [
       "VertExprArray((A_{1, j}, B_{1, j}, C_{1, j}, D_{1, j}),  \\\\ (A_{2, j}, B_{2, j}, C_{2, j}, D_{2, j}),  \\\\ ..(A_{_a, j}, B_{_a, j}, C_{_a, j}, D_{_a, j}).., (A_{m, j}, B_{m, j}, C_{m, j}, D_{m, j}), X, (D, C, B, A))"
      ]
     },
     "metadata": {},
     "output_type": "display_data"
    }
   ],
   "source": [
    "VertExprArray(ExprRange(i, ExprTuple(Aij, Bij, Cij, Dij),one,m)\n",
    "              .with_explicit_parameterization(),\n",
    "              X, [D, C, B, A])"
   ]
  },
  {
   "cell_type": "code",
   "execution_count": 31,
   "metadata": {},
   "outputs": [
    {
     "data": {
      "text/html": [
       "<a class=\"ProveItLink\" href=\"../__pv_it/demonstrations/9f0be0b40b7957ddbced5b477897bd43f48a7e140/expr.ipynb\"><img src=\"data:image/png;base64,iVBORw0KGgoAAAANSUhEUgAAAO4AAACaBAMAAABcc2nGAAAAMFBMVEX///8QEBAiIiLu7u5ERES6\n",
       "urqYmJiIiIjMzMx2dnZUVFRmZmaqqqoyMjLc3NwAAABb1yYoAAAAAXRSTlMAQObYZgAAAAlwSFlz\n",
       "AAAOxAAADsQBlSsOGwAABeVJREFUeNrtXG9oW1UUP8lbkpe+5CXgmCLqIoIUJvjEsTr9YNWBo1PS\n",
       "KoiKsIAVBJFEVyx0yF79ssE+dLgPoqItWhxEauPmH9xEo/hhMGQZ04FfXMSBVNHW0XXpXBvvfe8l\n",
       "9r13z3makNXRe2Cv7P1+98+75977fjcnJwAr7HdYHTtLgdHspeLUdoKgDBXf0w/g+FC9b7KvKgAS\n",
       "dbJXoV6AaRPHX9gFicM5ooIl1vnLgvvadJVqd7YAsLOEwpu72eVLogb1Irt8KADeHjepdvMMzRdQ\n",
       "+JTBLgNE+ViNXXb6B0Qv7ClT7U7zytHniVsjuJ8ov26OD5p/AmhwkvIOrAe4uxv3QoZf7yLKp9j8\n",
       "gLEJ3/2nYIyYjaDOD4+cweHxQtBqGeOMvL+JEsxOUO5ZBvgKH5Dbq0Ht7uGzZ7rfV++OY9O9lHvS\n",
       "zIk1FN5oXQ2igiy//Om73cM8kKHcwwYjehF/XmsHoBbEPN98FgTDDOE05R42xl0XUNhauXEIWL53\n",
       "+EY0wqpNzlHuYRWPVchdBQ4GLd+Hfbd/4i5cJsqdYn27Efdfgo3gE5R7+UM94tvuNtdPQyK7hC+k\n",
       "yXqx+B21r9zT934/AXex18q2L0CaNGnSrlLTK6vTLvkmgkG+N5utS/ZYdr647QMRcpJsl0u6rhq0\n",
       "LtlTbDjzopfK0WXSC+yVHfkLWpfsXNJpAlERn6mRR6MaKXGCJTuXdBG/xIFfYpepdruYF5I3QeuS\n",
       "nUs6fdF/v5RYCDiRKe+YbUh2LunUS77bkbK6ojOq3z0PDk+tmDVmgGQ3hZIuuugjaKCzzijP2/8L\n",
       "mwJJl9gAsMVZ5N2IZMdwW9IxLeolDB07ykZi74vYMN3HH8pUhzOkZEdx+0SWSnsJChun8+zv11i7\n",
       "3DPsBJrI0JIdw+0TWT7nJWjs383Ndns+97lnwT7Y2MWU3WVEsmO4tXyV9T7CY85HG3a7pW9FJzJ1\n",
       "qVFMS1QQyY7h1vJdV/ESdL6RZKtOu4rxpm/zZoSB041id8ZLiGTHcP5QkU3gISjZJQO+qf/Q9O8Z\n",
       "geKeeqhZDJI5RLJjOJP8kzuqOMFpF92qnWKpaos4RmDtbmWeTBPFFPayG20VRwgzZ1+D0TLEsEO/\n",
       "/tZiQb0BYKRFnCSUBe5zddnv//+EI4SI8f0oWezR5OPpdnCEEIVPj5DFctpuox08mCBN6nap26Vu\n",
       "l7r9f6Lbt77xLqnbldeLBqXbUbyh230EW7eX4DCp2zXQMpRuR/GGbvcSHN1+AWZNSren+vUapdtR\n",
       "vKHbvQRHtz9tt4vq9qhhFUN1O4o3dLuX0NDt8Cqt2yGeIXU7hjd1u5vQ1O3qLbRuh1cMUrdjeFO3\n",
       "uwj/6PZzBq3b9Qdo3Y7hTd0uJuglvUrq9t/gD1KXB+EI4dy+/Qal2/Xt+45QujwIxwgb63VSt4fq\n",
       "9TlKlwfhJEHqdqnbpUmTJk3amrB7Az5rUJbawzFCuBRQblObeDBBmjS5fuX6lSZN7hty35AmTZq0\n",
       "1barM9EKevqKuRkc7lSiVexaA07cSlTQmUQr5X7WJ40IIHco0Sp5DbtEiE+7O5NoBeO8sEq8vDuT\n",
       "aKWftwabGLF/nWjljgALEq1WNhIXBODdnRAkWlkEX6KVOwIsSLRa+fRhwYxyj44g0YoT2ky0Cllf\n",
       "wVCICjqTaBW22j1OVEAmWkU/2TsSG7QG2BMBdhKtnnt2eOIla9tyR3jtlXsAxZuJVh6Ck2i1ZSAX\n",
       "mrBjdJ4IsJ1opTyzAa63Q2zuCC//UgnEDRRvJFp5CU6i1c8vQ8rU+KTzRoDtRCu9pwI1+Izf8ER4\n",
       "2SKMHAQcdxKtPIRmotUhGIWwPUCuVdNItOoqqGm4za7JNbuVj4ofA443E60QwnUwBLP2yhXutSEz\n",
       "1qvPWRNAGOENwhGCPseeeFDDv7k5yzoc7S2hEd4gHCFEJuBH+HUXHgF+EpJV/ZCBRniD8CCCjAC7\n",
       "TUaApa0J+S5/J+GKyHf5OwmtyncIku+u04r8nYQrIt/l7ySIlu+a/Z2EvwHjQ//HerKW9wAAAABJ\n",
       "RU5ErkJggg==\n",
       "\" style=\"display:inline;vertical-align:middle;\" /></a>"
      ],
      "text/plain": [
       "ExprArray((A, B, C, D), \\\\ (A_{1, j}, B_{1, j}, C_{1, j}, D_{1, j}),  \\\\ (A_{2, j}, B_{2, j}, C_{2, j}, D_{2, j}), ..., (A_{m, j}, B_{m, j}, C_{m, j}, D_{m, j}), (A, B, C, D))"
      ]
     },
     "metadata": {},
     "output_type": "display_data"
    }
   ],
   "source": [
    "ExprArray(ExprTuple(A,B,C,D),\n",
    "          ExprRange(i, ExprTuple(Aij, Bij, Cij, Dij),one,m), \n",
    "          ExprTuple(A,B,C,D))"
   ]
  },
  {
   "cell_type": "code",
   "execution_count": 32,
   "metadata": {},
   "outputs": [
    {
     "data": {
      "text/html": [
       "<a class=\"ProveItLink\" href=\"../__pv_it/demonstrations/40de1117a09fe7b20ad5b1dea0abf8b4242dfb0f0/expr.ipynb\"><img src=\"data:image/png;base64,iVBORw0KGgoAAAANSUhEUgAAAdcAAABuBAMAAACHGET7AAAAMFBMVEX///8QEBAiIiLu7u5ERES6\n",
       "urqYmJiIiIjMzMx2dnZUVFRmZmaqqqoyMjLc3NwAAABb1yYoAAAAAXRSTlMAQObYZgAAAAlwSFlz\n",
       "AAAOxAAADsQBlSsOGwAABtJJREFUeNrtXF9oW1Uc/rVZ0jRJb/sgU2TOyl6E+BBBNurLKj44UGjn\n",
       "wIchGFyFwpAFHRYLsmwvGyi07EFR0AUVCoXRMEF0e4nF93ZMBF9cxIJs/knRzXWdXbz3nnOT3HPu\n",
       "7/zuOWlthfNBWZN83/l6bu65f77xXQAfzjKoQRIw/A47DgOr3RIwXFd/PNGcn/+ujH+eGlufv3jI\n",
       "wFchXKLmsmQ42VyTIDwAkFlTfN4zCrBQNnDGhZfvE1KSgCC7UFcvjzsAyXsKQqME8ErVwBkV9t9Y\n",
       "UytJAoZPLqi/lZQ7buqOgnDC1Z8oGTijwl/6/lErSQL2xZVO1ZSEjLs8BvYqCAvuz9W6gTUqrOb+\n",
       "VitJArYXw1KRWlmJT8vqNf304ybWmDBZS99VCkkChpdhZlZJmHlu6qJqc6RvTU1/b+KMCrPgrAMk\n",
       "Xvdf7F9WExIfzhdiW1ahUYkekuNUHXK7Awb/CzrR5x4YvykaWIeE8Gp78Z68cvkWwNk3/C0yNSwr\n",
       "OwlZyIYZB90/NLHBfxEcn7+yMBo9JMcz7s+FMmcwgxB2DblHxzWVddsfF0LPePB+wp32n+6/i+zM\n",
       "KP9lIcLguBM+Mvd6x/d88EsIB1z6cOSQAdbBP2ZyxqL0+WCFHa0V1i1/XAiNjp0U4DHVZEOEVMFZ\n",
       "i78XQ+9QMOTxySlpa6S9497COD7ZGXdBZ24bWIeEMOG8zd9/iV/VoZMNE6B/OKZhssiuM/0hE6/t\n",
       "hr1RKyu9Afhk3TUNM8v61oJw7rcn2VnIcbc9jNXxyQoEOBP3KPGTt3bu8yGdA8vwl3TJ7Q59+Jpi\n",
       "slfdTfZIQd9aED5YS7MFObZRgG+bP6CTFQnOszH9nmpeg9zYxiwfMlNKDomXFN7V+guAT/Zz7z6h\n",
       "BtrWgtC595VIQHfjMOFX+EP3bsAfsqecrZaVjIhvtltrvthHX3Tk90eoyY6Ac+jcF/qTTcy6R8Te\n",
       "98pKhnqyRtZMmCmd6Q+/feP6B3C65nx8F7vsZoSeZlPzds8bMr0HjkLf+2qGZ7C51ly4q56ZjPiw\n",
       "RqlrYIZc9wxTa0yYpI52yYKh4ZGuGcbWmDBFph2mW7fYNcPY2lhoYWGxI2BDci0CBhuSh3MxG5IH\n",
       "sCF5HNiQ3M+KbEiuQcCwY0PykY8+817gITkj6IfkKgULyTkDD8n1rUNCOSSvwiVQhuSMoB+SS4oO\n",
       "sJCcM/CQXGGtDsmZUA7Jb0OjDKqQnBH0Q3JJ0QEWkgcMNCRXWStDcj4pKSQ/hk42RNAPyblCEZIH\n",
       "Y6Ihub51SBgRksN5AGVIzgj6IbmvUIbkfEw8JNe1FoRySJ7eFz1ZgaAfkvsKZUjOx8RDcl1rQSiH\n",
       "5CuFyMmKBP2QnClUITkfEw/JNa0FoRySO1WnDqrcmBP0k2qmUIXkfMzFTbdmQjkkXzn3bkEZkjOC\n",
       "flLtKdQhOWfgkzW15kI5JH+02VSH5Iygn1R7CnVIzhl4SG5qzYU2JLchuR4BQ7Frhg3JLSwsLCws\n",
       "LCwsLCwsYuPgcrcEY6Ec6G+WNTZyL/Vfvr1VQ0damN8qa3Lkzdp6/wG2wTq/fWsvDxYWFhb2oiLm\n",
       "OWBrLyqU4q25qMhv30VF3p6bLCws7A3B//SGwN6825t3CwsLCwsLCwsLsuRq3J41Fm4hiJKreXuW\n",
       "EFLtWZqgLyRLrqbtWVJItWdpgraQKrkat2cpIdmeJQn6QqrkatyepYRke5YkaAvJkqtpe5YUku1Z\n",
       "kqAtJEuupu1ZUki2Z0mCtpAquRq3Z0kh1Z6lCdpC9iTINsQGLWvPtsE7qTREoQT+iEncWiTEbtBK\n",
       "I/MGLSu5tiE1aFl7tnPjXOp8ifdnRaEE1p5VWIsEoUGL92dFYdCg5U+C7Djthh2DR0y2wDupAdD+\n",
       "rCSUwB8xiVpLBKFBi/dnpZEbwRfll1y/PDvdN1GOcOTt2eOTU5W3/Ed6HAtPVrEXC0KxQRu0Z1Fr\n",
       "iRC3QSuPzBq0vOS6/3Cxp9JXiXBk7Vmv/vowTLO3zsdaN6JQatDy9ixuLRNiNmhlIWvQ8pLrz+/A\n",
       "YDk7Kzvy9qxXf12Dr9l22xfrIkYUSg1a3p5FrSMIMRu0stBv0LZKrnNwGnprkmOrPZsppYfgCf+9\n",
       "lTiGEUKhQdtqzyLWUYR4DVpZKDRoH4KT0EhHHSX44azcN+qsevs/L7PGPr+3hFiDlrLuIGg2aFvC\n",
       "cIPWWXU3w0QWf8xkw/1iUqPVxKzfSdUwbAuRBi1p3SZoNmjbwnCDNlmBH+Hmm3iD9igM1J25QnqP\n",
       "30nVQFuINGhJ6zZBs0HbFho2aHNgCFpY65qgKSRbqkdMDUnh1pV3jRu0RdPJksKtK+9y4b8IHse6\n",
       "AoQSugAAAABJRU5ErkJggg==\n",
       "\" style=\"display:inline;vertical-align:middle;\" /></a>"
      ],
      "text/plain": [
       "ExprArray((A_{1, 1}, A_{1, 2}, ..., A_{1, n},B_{1, 1}, B_{1, 2}, ..., B_{1, k}), (A_{2, 1}, A_{2, 2}, ..., A_{2, n},B_{2, 1}, B_{2, 2}, ..., B_{2, k}), ..., (A_{m, 1}, A_{m, 2}, ..., A_{m, n},B_{m, 1}, B_{m, 2}, ..., B_{m, k}))"
      ]
     },
     "metadata": {},
     "output_type": "display_data"
    }
   ],
   "source": [
    "ExprArray(ExprRange(i, ExprTuple(ExprRange(j, Aij, one, n), \n",
    "                                 ExprRange(j, Bij, one, k)),one,m))"
   ]
  },
  {
   "cell_type": "code",
   "execution_count": 33,
   "metadata": {},
   "outputs": [
    {
     "data": {
      "text/html": [
       "<a class=\"ProveItLink\" href=\"../__pv_it/demonstrations/f71f971be68623e506497c39f8f3045c3d6b0f070/expr.ipynb\"><img src=\"data:image/png;base64,iVBORw0KGgoAAAANSUhEUgAAAlsAAACSBAMAAACAkxIXAAAAMFBMVEX///8QEBAiIiLu7u5ERES6\n",
       "urqYmJiIiIjMzMx2dnZUVFRmZmaqqqoyMjLc3NwAAABb1yYoAAAAAXRSTlMAQObYZgAAAAlwSFlz\n",
       "AAAOxAAADsQBlSsOGwAACbhJREFUeNrtXU1oHVUUPkn6fpqfSRZSi9Qa6aZQF0+QlrhpRNCCQlIL\n",
       "XRTBh41QKKWhFkNTpK/dtFAloQtFQRusEAyUhIpVm00MLty1pSK4sRELUqsmaGvT1jTOzL0zc+e9\n",
       "mTvnzJ1nnvZ8kL407/CdM2fevXMnX765AALWJSDgN8gC2bCsCDoWKNFXM8lJYBlYnpj4toIMzvfd\n",
       "nTi7zbQ6LctFSrval7PoFonlIYDWRWxwUy/AZMW0Ph3LhfsEorbJuQzaRWGxbgPk7mGj5wcBXpky\n",
       "rU/Dsvr6IoHow9OVDNpFYcnb5eVvY6P328T7B03r07D8XPgbz2MNHpkx7xaJpdWeKzrWY6Mn7a/L\n",
       "xgNAwzLV/hdhFMHFcgZjkcJizyMtH6E/jPZE9/RG4wLjWXIzxTt4npdhZNS8XSSWkeeHzqKbW7w5\n",
       "NPydcX0aljaw7gK07HP/szlpCTYF82NeWM/7Z1KWo7Ik4sgctK/xomWdsSjYl62vyjKs5b2JUqr6\n",
       "QizwqjqJHZy+cBPg+AG3q0PdCTwvTE/2emFTcC4qZqt9XC1L8ptklkQ8Y3+drshoUWc8VnXZ165F\n",
       "GdYGbd2pKgyxQFN/8E6L3bo/7NdZsR5KOIItAJ3dXtgtmI+aUpqdC/Am75tElkTcBfcqJaNn9cGd\n",
       "Y+Iy6oZ19luRF/3ECkMsMB8aiwCPo9tl0zd3eWG7o9uFGYsKy949Q9plUtG5EE32I9s1Ys9yrbdk\n",
       "WL5kLaYqMMQCA9Yh/52d8o4E1a5cWdwyeWGnUhUTYml5bQ2sT5pHikuAbJc90cHIJT9sdXeqCsMs\n",
       "478+6a0pLPssQ98csl0/OuP6vh9W3JCqmBCLteUS/Km9o7Ur3H4F267L9tl4tOSHHUs31YdZHp4p\n",
       "ejNX31IJvl7+Hteup5avQHvf0qgXdi1VMVUsrYO5Lt0i1bnbfRGQ7frYuR2f8cOsZ1N1K8xi3fui\n",
       "NgQ3d3l3yG6YNWUZLZ8FS1OlbaqCjk76dIUP5wb8brT+EjNg70tW1Ds9lHa1jMK1EydLhu2yWeah\n",
       "+a0KOprQrh6wtp341LRdPfbH/9jq6jeuX30Xjs5YH9zB3J06YcV18Niy0S9zJMsuKLyDj3bqREAc\n",
       "TtPy8oJJhYJl1Vzrnsi3STfP7Zn8mrC9jtEzmVQYy5IjDa0dmRSzo37RuVIWBcaz5Ek85UzaVa5f\n",
       "dD6TArNhYTAYjJUGy7IksCxLYmFZlsTCsiyFhWVZEgvLsiQWlmUpLCzLkliELCslVpwsK+VOQ1kW\n",
       "K5oKWVZGI2VZUZqpLCsPMEKWFRIrUpaVcqehLBsnmlZDyLIyGinLitJMZVl5gBGyrJRYcbKslDsN\n",
       "Zdk40bQaQpb1onGyrCjNVJaVBxghy+7GtUsIqlLuNJRlJQtSlvUkVpwsK0ozlWXlAUbJskJiRcqy\n",
       "ntxpJsu6LGhZVuZEyrKyNENZVrBEybJCYkXKslLuNJRlXRa0LCtzImVZWZqhLCtYomRZIbEiZVkp\n",
       "dxrKsoIFK8vKnEhZVpRmKsu6LFGyrJRYkTqjkDtNZVnBgpVlpcSK0xllaYayrGCJkmUdiRUtyzpy\n",
       "p7ksK1mQsqyMRrZLHI6pLCtYomRZR2JFy7KO3Gkuy0oWpCwro5GyrDgcU1lWsLAsmwkLy7IkFpZl\n",
       "68bCYDAYDAaDwWAwGg3NpD8r2LQCOVeiwliWrZS/8XJFJ3OQcq5EhfEsLSSeTO71iTlXosISMBgM\n",
       "xv8IfGUksfC6q34sDAaDwWAwGIyGQEaL/ka5h6k7Gn4x3JzekkbyrVqZnJb/sFWW5n7tWPiXU9Lc\n",
       "ryRjbaqUNPfrxSzaRUpJc7+SjLVpUtLcryRjbRxIKUnuV5qxNk1KkvuVZqyNAyklyf1KM9amSElz\n",
       "v+KNtZrFBC0lyf1KMdbGLyY0KWnuV4KxNn4xQUtJcr9SjLXxiwlNSpJvlWasjQMpJc39SjLWpkkp\n",
       "Hifs4u1e90VjmBXGWsH5rfuSxjCrpJQsGkjfqlqhxjArn3escKcwzEak9AyzwrcqB757znWGWWGs\n",
       "FfhEHvo5arfUlJJFA+lbVSvUGGaFsVblxlpy9Sk9w6x8nLD4kcgTbwvynnfsYq377y26A1RNKVk0\n",
       "8B4nrFYYbwuSzztWuLGW3ISU897AcB8nLAb+0Bl9u7znHbsfwtvDzodca5iNvjqqKQVL/vzxw7Gz\n",
       "UVk8TlitMLZd3vOOVW6tYTaywqiUwjDr+1YdHCgd1rdrp3L/UthQEFeWU8SrYyilYNm8vdw0Fz8b\n",
       "Cd+qUuGsbtYpLlVVqDXMbkKmFIZZ37fq4DnYp22Xb6x1B3g57zKSDbOhlILlpzehM24+9nyraoWx\n",
       "7fKNtWqFZMNsVErXMOv7VuVYv6BrV2CsFWO6zb28UQ2z4ZSSZRy2x4T7vlW1wrh2+cZalZtsmI1K\n",
       "GWWYXYB1+sEYmg+hyaE0NMxKlrUwXcSEywpnKdyGhlmRMsowuyHfi3+OcXNpIIPnGDssPWAtwMZv\n",
       "MOF2hXjDrOQ2NMyKpoQNs9b09PRncHIIUIbZG3Z0f/HzQTAxzIqUDsvRmdwYHCojcjoVYgyzKnd6\n",
       "w6yfssEMs6SUD7xhlmhqfdANs0Q7armO3HVlYTAYDAaDwWAwGA0Fdm2QWNgTRGJht2z9WBgMBqNB\n",
       "wFdGEguvu+rHwmAwGAwGg8FgMBoLbJclge2yFBa2y5JY2C5LYmG7LIWlXnZZ3clrDLtsKpa62WU1\n",
       "Y7Ex7LKpWNguS2JRvKsutLvLKnZZF+l2l61OqUXIu+pAu7usapd1g1PtLlvNEuwuG/KuQtLusqpd\n",
       "Vhx4hFk2aefW6pR6hLyrDrS7y4bsshBnlk2qsJol2F025F1110SadoXssg4izbJJO7fWpNQi5F11\n",
       "obMEheyyEGeWTaqwmiXYXVZu83r++HBhoJLULmmX3btnaOwNd6GdanfZ6pQ6s6zvXQ1y6trl7UMb\n",
       "cKfZXbaGxd9dVnpXHb/qWGEsqV3CLuvsBvsIDIsf0XeXrUmpM8t63lU156x+oisuqYeTZnfZWhZv\n",
       "d1npXXX8qpW20YR2SbussxvsInwpTgR9d9malDqzrOddVXNq2iXtssrhpNldtpZF7i7re1fH4Sg0\n",
       "z+jb5dtlWweLXfCE+zP67rIRKePNsoF3VckZ3y7fLhtwp9hdtpalxiy7Fg7CfDFpMHrXiUqh11pw\n",
       "BrWJWTZIiTHLBjkx7s+A28Qs67NUm2WtBbuVA21Is+y8fa7zvVNmZtkgJcosG+REtEvhNjDLBizV\n",
       "u8vmxuAH+OV15O6yu6Bjzhovme0uG6TMJZtl1ZyI3WUDbpPdZQMWNstmwsJmWRILm2U1LP8ACuwB\n",
       "PrL29sMAAAAASUVORK5CYII=\n",
       "\" style=\"display:inline;vertical-align:middle;\" /></a>"
      ],
      "text/plain": [
       "ExprArray((A_{1, 1}, A_{1, 2}, ..., A_{1, n},B_{1, 1}, B_{1, 2}, ..., B_{1, k}), (A_{2, 1}, A_{2, 2}, ..., A_{2, n},B_{2, 1}, B_{2, 2}, ..., B_{2, k}), ..(A_{_b, 1}, A_{_b, 2}, ..., A_{_b, n},B_{_b, 1}, B_{_b, 2}, ..., B_{_b, k}).., (A_{m, 1}, A_{m, 2}, ..., A_{m, n},B_{m, 1}, B_{m, 2}, ..., B_{m, k}))"
      ]
     },
     "metadata": {},
     "output_type": "display_data"
    }
   ],
   "source": [
    "ExprArray(ExprRange(i, ExprTuple(ExprRange(j, Aij, one, n), \n",
    "                                 ExprRange(j, Bij, one, k)),one,m)\n",
    "          .with_explicit_parameterization())"
   ]
  },
  {
   "cell_type": "code",
   "execution_count": 34,
   "metadata": {},
   "outputs": [
    {
     "data": {
      "text/html": [
       "<a class=\"ProveItLink\" href=\"../__pv_it/demonstrations/8579790a1107e6fd5a42c0af0e99c3560021f80a0/expr.ipynb\"><img src=\"data:image/png;base64,iVBORw0KGgoAAAANSUhEUgAAAh4AAABuBAMAAACaUAeRAAAAMFBMVEX///8QEBAiIiLu7u5ERES6\n",
       "urqYmJiIiIjMzMx2dnZUVFRmZmaqqqoyMjLc3NwAAABb1yYoAAAAAXRSTlMAQObYZgAAAAlwSFlz\n",
       "AAAOxAAADsQBlSsOGwAACBZJREFUeNrtXFtoHFUY/pNtdqe7ySQPtYpojPigEJF4oSW+JCJoQTGt\n",
       "Qh+q4GIiFqp00WJoULvtSwsKCT5UFKxBxUCgZFEs2n1ZL+BjUiqCL3bFQqlat2hr09Z0nZlzJjPn\n",
       "fs5MtknhfJBt0/n+y545c+bMfPQDQDgHcrgLoAsDqmbxVcApxfGu89qpDKhaxbMjV2aPbklDMA/s\n",
       "bCpC5/W/5LzpeKiKtw0DzJXTEIwDC3N1eeTxa9pFDKh6xRslgOcraQjGgUc+kg/v+rOLujUMqJrF\n",
       "d3uHd5fSEEwD3dK+mjTwTO4/3RoGVM3ic97PiXoagmlgAeaL0sBK57+6NQyomsU3ADx8TyqCaeBz\n",
       "MDkli+uoOZc1SxhQNYs7F8YnfkpFMA6sQGMaYFOwcci8wjuF7pXwSOb92QHp2Y6omhMqVpyHnLc+\n",
       "f1MMU3J4BEHRniTzC8sLSe6J6twwOON9/i8HX2UD91SPXwiPFKDQRx7NLPmfQwsMlURAGGK+DlGc\n",
       "h3U93iK9iFPyeASBac+vGHTIliYCoW1r+O+bAbq9JJ0o0bdMwYw3cn+HR7q3uvQNpN//aK8wVBIB\n",
       "oZ25u5HFOej2Zk/2UpiSwyMITHtBxX5uaTJzIzZjob1HMh4F7+fO8Eh2wF2UXS4xKsbgS0ekl0us\n",
       "+K6d40zXk95qm78oGQ+CIG9PlnnM3YuXwCLaZAvHYzveU+Mj6/vEJShqMGXucyQ7NKJ45sWN0Esz\n",
       "9nk3xMkFyXiQBGl7ssCZP+9Ht95f/Uvpmng8XO/0wUh9+cgB8YJFU4MpU3F6xD0Rxd3NC/APzTjh\n",
       "DdrtA5LxIAmy9qSBN9ec4M+Hmiehc2RpSjQemZGlAfi++XN4xH1UWICm4nUqNy2MoIrnSx302H3a\n",
       "nJ39sQbi8aAIkvakge7Vr+jnKtH1EgId+QP+UteKJRmqrxtVnzJUvK1cqJSlKcXrrkl7nMDs8NMu\n",
       "01JmSjEeg+BuOfSFVonBcH7UJ7drjYdXvAHt75SlKeXjodseJzBfOrCevPY/vFxyboOzp94ThPlH\n",
       "9tfamk31Az2iutVq9UvoOPbDYfVDDCq+A3KH5Sk9Xvr2eIHr6vmdnNOkCq7p16mZnqfO9CmNayoC\n",
       "n1E9nmgv3iZUzeLqlOY1FYFF1Ss2g7dxxk0VU6fMJp0eiQMtLCwsKFg9ioTVo8idkNWjyNc4Vo8i\n",
       "YPUocgm0ehQ5Y60eRcDqUdQ59SUhrOSI9ajBDz4BTT0KUTUnVKw4D1g1winFepRWe5LMtB6FlRyx\n",
       "HlWBz0FTj0JUElI9is26DKwaoZQSPUrQnlqPws3SelSo5Aj1qIvQKGvqUYhKQqpHcbKGwKoRTinW\n",
       "owTtqfUonJnWo0IlR6hHjQZxWnrUaHw8dPQonFWiR40Kx4MgJNCjcGZGj8JKjliPgnfRDqNPXIKi\n",
       "BlNGS48Kskr1KJRSokdptCcLZPQorOSI9SjnruB3HT0KU4Mpo6VHBVmlehRKKdGj1O1JAxk9Cis5\n",
       "Yj3qdFBJS486HTWlp0ehrDI9CqWU6FHK9qSBrB6FlRyh/uJW3DroCT6YihZ4LT0KZZXoUTilWH8x\n",
       "aI8XyOhRvpIj1aNOH3p7QFPwQVQ8P3T0KFxcokfhlOLxMGiPF8joUb6SI9Wj7mg2dQUfRDXQo3Bx\n",
       "iR6FU4r1KIP2eIFWj9IJtHoUiaLqFZvB2zjjpoqpU1o9ysLCwsLCwsLCwsLCwsKCBJLZJBhaaGF1\n",
       "ZfLWtScK7FfEtVdaOB7q5C1rr6XfS+9crql5fx3Qv5YWgjXVjIWFhYXdj6Xc8Bje5lq7H5MGX6f9\n",
       "mNltrsX7sf5V3Y9ZWFhY2Oc6+1zXqv2HIez7oOu6/1i172VhYWFhYWFhYWGRGudSExJREdyFNTce\n",
       "p1ITElERFH4hY/7/6iqnIQiQwv1DSUhExVD5hWwAyC+mIgiQ3P1DSUhExVD4hbiXADqupiGIkNj9\n",
       "Q01IREVQ+YVkF5Gpb3KCCIndP5SERFQMlV9I3rucunrTEERI7P6hJCSiYqj8QryrPPNxOQ1Bsu4k\n",
       "cv9QExJREZR+IZOPjx8tpiIIoHCjj8BYbFAEmcUGnUtjQvl+IRLsq0PnRll7NEHXAQS7f8QWorvR\n",
       "vwcGHLFxoy02aAJlsRH39aCpBII3wvRrYeQXIsEj3k98jWbaowmc9rj+H9j9I4abgk9sCB/bQlAF\n",
       "aQJlsRH39WByEehf/ojGCPvXi+HPHuIuQLdHE3jt8fw/Qjf66F5wHk/xwIDj2MGJ3FiZV5AmSCw2\n",
       "mFzoSx/eWxdeLoFfyK6d49OvB3tF2gHE8Vfbua3i9hiCrgMIdv+ISmeHz0wtG3Bs2lZsm0ZGDFRB\n",
       "liC02OBQfTxQnxSNB/IL8X0/boUJ4DiA+Fe5syRpjyVoOoAg94+oNOTf+q532YDjtzehu1yY4hRk\n",
       "CUKLDQ7VRxX2i7YryC/E9/1YhK+B4wDS5TG2nZS0xxI0HUCQ+0dUGtregHJkwDHjNd1eYwtyCCKL\n",
       "DQ4Vr1MTghU29AvJl5weuDc4SaQDSN5/6HrS+4uoPQ5BzwEkdP+ISjeq8V3MLbAHGg5v/WAISouN\n",
       "iBp862vw2IOKR6tybtg9XwaxA8hKticoPdbRV48vrjMwVhBbvkcEpcVGLFeAXufiqOLRyjtN2eGK\n",
       "2AFkJdsTlZ5x+qJrvGMafoHfXxNbbEQEpcVGLFfgAPLsy3sVG8gd0FV3ZwbEDiAr2Z6o9FPwGedM\n",
       "KB/HDJ7XDB/tVtUBRFB6JS02bigHEEHplbTYuKEcQFDp/wFflGw+wBi6JAAAAABJRU5ErkJggg==\n",
       "\" style=\"display:inline;vertical-align:middle;\" /></a>"
      ],
      "text/plain": [
       "ExprArray((A_{1, 1}, A_{1, 2}, ..A_{1, _a}.., A_{1, n},B_{1, 1}, B_{1, 2}, ..., B_{1, k}), (A_{2, 1}, A_{2, 2}, ..A_{2, _a}.., A_{2, n},B_{2, 1}, B_{2, 2}, ..., B_{2, k}), ..., (A_{m, 1}, A_{m, 2}, ..A_{m, _a}.., A_{m, n},B_{m, 1}, B_{m, 2}, ..., B_{m, k}))"
      ]
     },
     "metadata": {},
     "output_type": "display_data"
    }
   ],
   "source": [
    "ExprArray(ExprRange(i, ExprTuple(ExprRange(j, Aij, one, n)\n",
    "                                 .with_explicit_parameterization(), \n",
    "                                 ExprRange(j, Bij, one, k)),one,m))"
   ]
  },
  {
   "cell_type": "code",
   "execution_count": 35,
   "metadata": {},
   "outputs": [
    {
     "data": {
      "text/html": [
       "<a class=\"ProveItLink\" href=\"../__pv_it/demonstrations/ab05a8c062260354cf207ef682f4901911531fc70/expr.ipynb\"><img src=\"data:image/png;base64,iVBORw0KGgoAAAANSUhEUgAAAjwAAACSBAMAAACzqA0eAAAAMFBMVEX///8QEBAiIiLu7u5ERES6\n",
       "urqYmJiIiIjMzMx2dnZUVFRmZmaqqqoyMjLc3NwAAABb1yYoAAAAAXRSTlMAQObYZgAAAAlwSFlz\n",
       "AAAOxAAADsQBlSsOGwAACVlJREFUeNrtXV1oHFUUPsm6m212O+mDLUVqjfTBQnxYVFrqSyNCLSim\n",
       "peCDCi40gqDSUIuh8aepLy0USeiDoqBdVAwGShbFit2X9efBt6a0CL7YFQullpogjU2r6Toz987O\n",
       "zM69c3+bH3s+2LTJnP3O2bt779zJl28OAMFVSIczDZZgj2kRcUFwfPWsrUxSTLmBm5Mnd8pSDjYn\n",
       "J8+PmhaWwlJsCp57xtrwyDF19ANMSb/iuwG6540r47MUphrpTz19y9bwyDHNDAG8UJWdr9cBsv8Y\n",
       "z3o+y8cn0t+pVZfnLY2OJNM+t559Q5KcOZcyd920Mj6LM3SonvrUS13/WhoeSaYp93G2IcnZ7c7X\n",
       "1RtNK+OzFOBMOfWp1eLfloZHksldBx7dLMvpLlSZT4yXZj7L8zA2nvbMbD1/w87oSDLlrw2P/CxN\n",
       "OvbE8MmycWl8lirMVAC2+DuSzKusT5dzMziS+WCypF9DlCkFXe76/V05iNsi2CodakBxXRC27cNP\n",
       "9UqLseQeiBTzZG2qH/LDvd43R/Ynn3mgdvpacKQAhV4mfWbB/bJ9OvjCRpQpBXetcRfxeRpHC+Pj\n",
       "MfdxYpSGVeFLVkyrML9MIQusDQ9sBehxf1gkB75PvnD3FPJXcKRnl8M59/S5j85q8IU9hFGmFPRU\n",
       "yFmExBUFw3MT/NMcCZuDGdYCEhbWJ8PizEbnFnSuSRmegvu4PziSKznzBnMrynTqyBu8dcBdBLrn\n",
       "JIcn7y32U7to2F728IiXuxhLrv9SsBpny2Srzx2eZ+hVBz2yqld7eGJMW3aXOxrcdQDGpiWHx1uo\n",
       "8gth2HGt0uIs3W//EJzjf/Mm+y3+8DjuJwsGGq0j72gvzXGm39+CHg7VWfdNu7ckOTyrXdbd51ph\n",
       "+U1614Ixlo43gX4GH2meg+LAwjhveDIDCyX4sflLcMR5XHd02pkmYDc78DPv6rAOcsPT7V2+PhWG\n",
       "XdR699pYZmqJGcqdXAHIkSvwp/EegzCth1peJq4oN5vpolp1GialEZbBbG8jeSAzLhiebeDsPPqV\n",
       "jeHZ5p0dNv8kEacwPG79F48eKxkOj8syke9t2yg7H90Yym+Ayxfe5zzRO3K43tFsGv9ygzBlK3Cw\n",
       "LBHnFSazsJH672s2TUqjLE/D56zzX1H09Lq138DVLcfJ1W/Gskd0zVSyNTqyTGoZ91ipjcsiurLL\n",
       "Wfvw5CzHydW/mCwIBAJhCJQBU4EyIMqA2iwoA6IMqM2CMiCgDKjNgjIgCGVAqu/xZUAisNmQAYVS\n",
       "HZUBaZycDEgLM5QBKUtSBqT6Hl8GJAKbDRmQI9WFoDIgiZOUAWlhhjJg8PISMmCg73FlQCKw2ZAB\n",
       "50RaFJUBaZycDEgLM5QBKUtSBgz0Pa4MSAQ2GzIgZRLKgHulhocKeLQwQxmQsjBkQKrv8WVAKrBZ\n",
       "kAF9JgkZkGSUlAGDwsxkQMLCkAGpvseXAanAZkEG9JkkZECSUVIGpIUZyoCEhSEDUn2PLwMSgc2G\n",
       "DEiYxDIgiZOUAWlhhjIgYWHIgFTf4+pcVGCzIANSJqEMSOMkdS5SmKkMSFiSMqCn76XKgJ7AZkcG\n",
       "pExCGZDESQ4Prd9QBqQsSRnQ0/dSZUBPYLMjAxKmrFAGJHGSMiCt31AGpCwoA+qwoAyYyiK6skMZ\n",
       "EIFAIBAIBAKBQKwk9KkEd1ZtpLTDsijgii5MbLfyl0PbV9DfHyldrWfsvCU4ZxEIBALPXLjvQSAQ\n",
       "CARi+W0y7O0I1PYzK2STYXFH0IefxhW9A7/zsISf2BVp8Vs82DMLelBy96kZB62kVMYZq8Oj5u5T\n",
       "Mw5aSakKe2ZBf6oqufuUjIN2UirCnlmQzBcld5+ScVA/pcG2UNUsKEil5u5TMA7y80qk1N8WKpsF\n",
       "+0SriYK7T8U42GcnpRrsmQUJlNx9asZBKykVQSx+BO/2m/PR23OSV3/e/4dvCKTGwWh2DUMgI2XU\n",
       "EGgEYvGjk3jcnI/48ug3X/gV8w2B1DgYzS40G8qkjBkCja5m6J0+ySS2MIHp7TkJ1vtf+baK4P6h\n",
       "kexz6o43Rkpn1tbcInf6JJN4OPxgZ9472NDgC27PSb65PlJKHZ7g/qGR7KmGQObZi5UyYgg0Qsvi\n",
       "52F/KTRAPtQY0xmeli/P/2ZTVzV1eFrGwWj244pnL1bKiCHQZN/Tsvj52AGh0bsGh3X2PS1fnr+0\n",
       "lHPTqcMTGAej2ZUNgayUoSHQZN8TWvzovD3dOrQWRjT2PS1fHl1NCpW04WkZB6PZVQ2BzJQMQ6A5\n",
       "ZmFDa+BuwY6HTfl6oKMO0oZAkt3QEEhTMu4Lao5Nuf5MsKJtzM/tNeXrLA0q3BeUZDc0BHopmYZA\n",
       "I1yp1Wq74Ngw5DfQ/z/3ykGDnajjcnwN+W+GpAyB0ezahsAwJd8QaI6ibcL64mcvwm3DHst8y8oQ\n",
       "aA7b13ZoCEQgEAgEAoFAIBCawL+KTwN6KtKBbkAEAoHAMxe6Af8/+x4EAoFAIBAIBGL54KpxgL1U\n",
       "yxAXjAPspfKwBHbAFBZhZ8Bi09boSDItgR2QzyLsDCgMkIYc0xLYAVNYRJ0BxQHSkGNaAjsgn0XY\n",
       "GVAYIA1JpttmB9RhEXYGFAbIzy05pttnB9RgEXUGFAdIQ5JpCeyAfBa/M2AECeddW4BBd8D2VBxE\n",
       "vXnskiKI2QE9aHUHTLAEZkDSGTAyju3Ou/YATndAid6A7Uw8xLx5IOgOGLMDkveAYQYU9QZMsARm\n",
       "QNIZMLo3aaulPYDXHVDcGzCRioOYN49VUhQxO6AHphlQ1BswwRKYAWlnwFNHRroGR1m1tAfodwdM\n",
       "MLG7AwZt+vglxRaqsm8HfPml4crr/rZXqztggoWaAWlnQK9RX6WrwqglGaDbHTDBxOkOSL15/JLa\n",
       "FyoYm868uA7uCfxjGt0BEyzUDEg7A3qN+kYL44xakgG63QETTJzugNSbxy8pBmIHdLZOwzx8Sz59\n",
       "Gt0BEyzEDNjqDDgBh6GznqyFEaDZHZDBxOwO2PLm8UqKIbADdg/l18CD/o80ugMmWdrMgOvhAMzk\n",
       "U2oJA0y7A4ZM6d0BhSXFtpKjXf3OrPeSTMyAIUvcDOgu1BMwWOA778IA0+6AEabU7oDCkuKXlO47\n",
       "n+uvGpoBQ5a4GTBbgV/hj9f4zrswwLQ7YMiUTe0OKCwphmdhdcOZKBl2BwxZOGZA4SWjpatTWJHd\n",
       "AYXOuzu7O6DQeXdHdQf8D1OLlbV4NtACAAAAAElFTkSuQmCC\n",
       "\" style=\"display:inline;vertical-align:middle;\" /></a>"
      ],
      "text/plain": [
       "ExprArray((A_{1, 1}, A_{1, 2}, ..A_{1, _a}.., A_{1, n},B_{1, 1}, B_{1, 2}, ..., B_{1, k}), (A_{2, 1}, A_{2, 2}, ..A_{2, _a}.., A_{2, n},B_{2, 1}, B_{2, 2}, ..., B_{2, k}), ..(A_{_b, 1}, A_{_b, 2}, ..A_{_b, _a}.., A_{_b, n},B_{_b, 1}, B_{_b, 2}, ..., B_{_b, k}).., (A_{m, 1}, A_{m, 2}, ..A_{m, _a}.., A_{m, n},B_{m, 1}, B_{m, 2}, ..., B_{m, k}))"
      ]
     },
     "metadata": {},
     "output_type": "display_data"
    }
   ],
   "source": [
    "ExprArray(ExprRange(i, ExprTuple(ExprRange(j, Aij, one, n)\n",
    "                                 .with_explicit_parameterization(), \n",
    "                                 ExprRange(j, Bij, one, k)),one,m)\n",
    "          .with_explicit_parameterization())"
   ]
  },
  {
   "cell_type": "code",
   "execution_count": 36,
   "metadata": {},
   "outputs": [
    {
     "data": {
      "text/html": [
       "<a class=\"ProveItLink\" href=\"../__pv_it/demonstrations/ab05a8c062260354cf207ef682f4901911531fc70/expr.ipynb\"><img src=\"data:image/png;base64,iVBORw0KGgoAAAANSUhEUgAAAjwAAACSBAMAAACzqA0eAAAAMFBMVEX///8QEBAiIiLu7u5ERES6\n",
       "urqYmJiIiIjMzMx2dnZUVFRmZmaqqqoyMjLc3NwAAABb1yYoAAAAAXRSTlMAQObYZgAAAAlwSFlz\n",
       "AAAOxAAADsQBlSsOGwAACVlJREFUeNrtXV1oHFUUPsm6m212O+mDLUVqjfTBQnxYVFrqSyNCLSim\n",
       "peCDCi40gqDSUIuh8aepLy0USeiDoqBdVAwGShbFit2X9efBt6a0CL7YFQullpogjU2r6Toz987O\n",
       "zM69c3+bH3s+2LTJnP3O2bt779zJl28OAMFVSIczDZZgj2kRcUFwfPWsrUxSTLmBm5Mnd8pSDjYn\n",
       "J8+PmhaWwlJsCp57xtrwyDF19ANMSb/iuwG6540r47MUphrpTz19y9bwyDHNDAG8UJWdr9cBsv8Y\n",
       "z3o+y8cn0t+pVZfnLY2OJNM+t559Q5KcOZcyd920Mj6LM3SonvrUS13/WhoeSaYp93G2IcnZ7c7X\n",
       "1RtNK+OzFOBMOfWp1eLfloZHksldBx7dLMvpLlSZT4yXZj7L8zA2nvbMbD1/w87oSDLlrw2P/CxN\n",
       "OvbE8MmycWl8lirMVAC2+DuSzKusT5dzMziS+WCypF9DlCkFXe76/V05iNsi2CodakBxXRC27cNP\n",
       "9UqLseQeiBTzZG2qH/LDvd43R/Ynn3mgdvpacKQAhV4mfWbB/bJ9OvjCRpQpBXetcRfxeRpHC+Pj\n",
       "MfdxYpSGVeFLVkyrML9MIQusDQ9sBehxf1gkB75PvnD3FPJXcKRnl8M59/S5j85q8IU9hFGmFPRU\n",
       "yFmExBUFw3MT/NMcCZuDGdYCEhbWJ8PizEbnFnSuSRmegvu4PziSKznzBnMrynTqyBu8dcBdBLrn\n",
       "JIcn7y32U7to2F728IiXuxhLrv9SsBpny2Srzx2eZ+hVBz2yqld7eGJMW3aXOxrcdQDGpiWHx1uo\n",
       "8gth2HGt0uIs3W//EJzjf/Mm+y3+8DjuJwsGGq0j72gvzXGm39+CHg7VWfdNu7ckOTyrXdbd51ph\n",
       "+U1614Ixlo43gX4GH2meg+LAwjhveDIDCyX4sflLcMR5XHd02pkmYDc78DPv6rAOcsPT7V2+PhWG\n",
       "XdR699pYZmqJGcqdXAHIkSvwp/EegzCth1peJq4oN5vpolp1GialEZbBbG8jeSAzLhiebeDsPPqV\n",
       "jeHZ5p0dNv8kEacwPG79F48eKxkOj8syke9t2yg7H90Yym+Ayxfe5zzRO3K43tFsGv9ygzBlK3Cw\n",
       "LBHnFSazsJH672s2TUqjLE/D56zzX1H09Lq138DVLcfJ1W/Gskd0zVSyNTqyTGoZ91ipjcsiurLL\n",
       "Wfvw5CzHydW/mCwIBAJhCJQBU4EyIMqA2iwoA6IMqM2CMiCgDKjNgjIgCGVAqu/xZUAisNmQAYVS\n",
       "HZUBaZycDEgLM5QBKUtSBqT6Hl8GJAKbDRmQI9WFoDIgiZOUAWlhhjJg8PISMmCg73FlQCKw2ZAB\n",
       "50RaFJUBaZycDEgLM5QBKUtSBgz0Pa4MSAQ2GzIgZRLKgHulhocKeLQwQxmQsjBkQKrv8WVAKrBZ\n",
       "kAF9JgkZkGSUlAGDwsxkQMLCkAGpvseXAanAZkEG9JkkZECSUVIGpIUZyoCEhSEDUn2PLwMSgc2G\n",
       "DEiYxDIgiZOUAWlhhjIgYWHIgFTf4+pcVGCzIANSJqEMSOMkdS5SmKkMSFiSMqCn76XKgJ7AZkcG\n",
       "pExCGZDESQ4Prd9QBqQsSRnQ0/dSZUBPYLMjAxKmrFAGJHGSMiCt31AGpCwoA+qwoAyYyiK6skMZ\n",
       "EIFAIBAIBAKBQKwk9KkEd1ZtpLTDsijgii5MbLfyl0PbV9DfHyldrWfsvCU4ZxEIBALPXLjvQSAQ\n",
       "CARi+W0y7O0I1PYzK2STYXFH0IefxhW9A7/zsISf2BVp8Vs82DMLelBy96kZB62kVMYZq8Oj5u5T\n",
       "Mw5aSakKe2ZBf6oqufuUjIN2UirCnlmQzBcld5+ScVA/pcG2UNUsKEil5u5TMA7y80qk1N8WKpsF\n",
       "+0SriYK7T8U42GcnpRrsmQUJlNx9asZBKykVQSx+BO/2m/PR23OSV3/e/4dvCKTGwWh2DUMgI2XU\n",
       "EGgEYvGjk3jcnI/48ug3X/gV8w2B1DgYzS40G8qkjBkCja5m6J0+ySS2MIHp7TkJ1vtf+baK4P6h\n",
       "kexz6o43Rkpn1tbcInf6JJN4OPxgZ9472NDgC27PSb65PlJKHZ7g/qGR7KmGQObZi5UyYgg0Qsvi\n",
       "52F/KTRAPtQY0xmeli/P/2ZTVzV1eFrGwWj244pnL1bKiCHQZN/Tsvj52AGh0bsGh3X2PS1fnr+0\n",
       "lHPTqcMTGAej2ZUNgayUoSHQZN8TWvzovD3dOrQWRjT2PS1fHl1NCpW04WkZB6PZVQ2BzJQMQ6A5\n",
       "ZmFDa+BuwY6HTfl6oKMO0oZAkt3QEEhTMu4Lao5Nuf5MsKJtzM/tNeXrLA0q3BeUZDc0BHopmYZA\n",
       "I1yp1Wq74Ngw5DfQ/z/3ykGDnajjcnwN+W+GpAyB0ezahsAwJd8QaI6ibcL64mcvwm3DHst8y8oQ\n",
       "aA7b13ZoCEQgEAgEAoFAIBCawL+KTwN6KtKBbkAEAoHAMxe6Af8/+x4EAoFAIBAIBGL54KpxgL1U\n",
       "yxAXjAPspfKwBHbAFBZhZ8Bi09boSDItgR2QzyLsDCgMkIYc0xLYAVNYRJ0BxQHSkGNaAjsgn0XY\n",
       "GVAYIA1JpttmB9RhEXYGFAbIzy05pttnB9RgEXUGFAdIQ5JpCeyAfBa/M2AECeddW4BBd8D2VBxE\n",
       "vXnskiKI2QE9aHUHTLAEZkDSGTAyju3Ou/YATndAid6A7Uw8xLx5IOgOGLMDkveAYQYU9QZMsARm\n",
       "QNIZMLo3aaulPYDXHVDcGzCRioOYN49VUhQxO6AHphlQ1BswwRKYAWlnwFNHRroGR1m1tAfodwdM\n",
       "MLG7AwZt+vglxRaqsm8HfPml4crr/rZXqztggoWaAWlnQK9RX6WrwqglGaDbHTDBxOkOSL15/JLa\n",
       "FyoYm868uA7uCfxjGt0BEyzUDEg7A3qN+kYL44xakgG63QETTJzugNSbxy8pBmIHdLZOwzx8Sz59\n",
       "Gt0BEyzEDNjqDDgBh6GznqyFEaDZHZDBxOwO2PLm8UqKIbADdg/l18CD/o80ugMmWdrMgOvhAMzk\n",
       "U2oJA0y7A4ZM6d0BhSXFtpKjXf3OrPeSTMyAIUvcDOgu1BMwWOA778IA0+6AEabU7oDCkuKXlO47\n",
       "n+uvGpoBQ5a4GTBbgV/hj9f4zrswwLQ7YMiUTe0OKCwphmdhdcOZKBl2BwxZOGZA4SWjpatTWJHd\n",
       "AYXOuzu7O6DQeXdHdQf8D1OLlbV4NtACAAAAAElFTkSuQmCC\n",
       "\" style=\"display:inline;vertical-align:middle;\" /></a>"
      ],
      "text/plain": [
       "ExprArray((A_{1, 1}, A_{1, 2}, ..A_{1, _a}.., A_{1, n},B_{1, 1}, B_{1, 2}, ..., B_{1, k}), (A_{2, 1}, A_{2, 2}, ..A_{2, _a}.., A_{2, n},B_{2, 1}, B_{2, 2}, ..., B_{2, k}), ..(A_{_b, 1}, A_{_b, 2}, ..A_{_b, _a}.., A_{_b, n},B_{_b, 1}, B_{_b, 2}, ..., B_{_b, k}).., (A_{m, 1}, A_{m, 2}, ..A_{m, _a}.., A_{m, n},B_{m, 1}, B_{m, 2}, ..., B_{m, k}))"
      ]
     },
     "metadata": {},
     "output_type": "display_data"
    }
   ],
   "source": [
    "ExprArray(ExprRange(i, ExprTuple(ExprRange(j, Aij, one, n)\n",
    "                                 .with_explicit_parameterization(), \n",
    "                                 ExprRange(j, Bij, one, k)),one,m)\n",
    "          .with_explicit_parameterization())"
   ]
  },
  {
   "cell_type": "code",
   "execution_count": 37,
   "metadata": {},
   "outputs": [
    {
     "data": {
      "text/html": [
       "<a class=\"ProveItLink\" href=\"../__pv_it/demonstrations/cb251ca6d219822915676f8190971bb0470bc3770/expr.ipynb\"><img src=\"data:image/png;base64,iVBORw0KGgoAAAANSUhEUgAAARkAAADfBAMAAAAw+Lo5AAAAMFBMVEX///8QEBAiIiLu7u5ERES6\n",
       "urqYmJiIiIjMzMx2dnZUVFRmZmaqqqoyMjLc3NwAAABb1yYoAAAAAXRSTlMAQObYZgAAAAlwSFlz\n",
       "AAAOxAAADsQBlSsOGwAACIJJREFUeNrtXF1oHFUUPpvtbjabZJIHW4vUGumDhfiw/tBSX7oi1IJi\n",
       "Ugs+VMFgIxRUutRiaKt205cWqiT4UFHQBhUDgZJFoWj3ZY0++JaUiuCLXbFQaq0btLF/tnFm7p2d\n",
       "uTP33Dubzp1Jy/1g05Q9852zOzN37nfvdwJgwZgDES6BEmC03fPCw86qqQajnRVW07WopBiU9tQt\n",
       "0WGd03UV1WC0HReuig779HhZRTUY7fn2/wRHGaWDNQXFoLSVrn9F3yjMDqk4UQhtppa7JjjsJRgb\n",
       "V1ANRtsJxnWA9Bv2fzYEhp4KNCYg/dFUAZpBUcCm9cBJvLd66jLA4T3W77mRPt9R7c9Up4tmxZ3W\n",
       "GyQIRfqm+WPznPNDBELrwkmcLgH8bf47Q0YBfzUbAXr6oGfQsO+7GXGOfvPVVnF+iEBovcNPHz1R\n",
       "AA/i1Zi0bb2QLYSqppUTZdOePLy/fbjsSfwCHaT51WSG6IOjoy/Kaijthm1DqYn2CTex0Wv+GKhj\n",
       "1fxmvlZYQ/WhQpTVUNrf34Gecud4M3F64GYBflj8Banm8cUz0DVwcxyMpyDCapq0kzAKbTVOYuS6\n",
       "obgIf0V63VCshr3QyPGr2YRWY2w98nV6PPJqjHnz2xnuDCa+cPZDGK0Zn1wr8Q5LLS7O59bYQVEi\n",
       "MwG/wh9vIonFj8cuUAZe4kxBeMh2ZcVwE2fFxwwpqyYLGhq3OwhpdafVnVZ3Wt3Fru6oisPU3aaP\n",
       "P1ek7pqJveqOqjhM3VXgK0XqzknMqDtHxSHqbgEaZTXqzknMqDtHxSHqbqekmqWrOycxq+6oisPU\n",
       "HXygSt2RBD51R1Ucpu5y61SpOzuBX91RFYepu3MFVerOl3jGq+IQdWdUjGifWa668yW21Z2l4gTq\n",
       "7tyRo4Uoi3HVnS8xUXeWihOouwcWo51duOqOl1irO63uNDQ0NDQ0NBRBrA5tFRljWok67FdUjVSU\n",
       "akQNY245VSNZ5Y0Zs8uqGvEqb8yQrPLGPPqJV3njHv3Eq7wxj36SVd6YQVZ5Cd4vJl0NWeUlyI8n\n",
       "XIyzymsjVU78RJFVXhtjI+6Ce/rYvnrs1TirvDb2FA4033i0PlaP8MYPNd40V3ltbAHXa1aF0bjH\n",
       "G3eV18ZqONV8ayXsT3i2NQ9rmnXegi2PJXtJr8sW085Nvja3sDOpOi5Wq9VBODoCuTX09xdf3zeU\n",
       "/NjcBcsJ25dVNUOgoREvLiWh21Das0noNoxWYrBRpNswWonBRpFuw2jFBpuIdZuMVmKwWapuW6Ic\n",
       "lBhslqrbligHxQYbRboNpSVOmA1zIt0WofEmKAe9IE6YYFsFo9skxhvvXD6c/8YrB72gThjEAk51\n",
       "20I4q0to/w0jB9kTZTlhaDWv7Rqp8HQbMd5kTx4+EKkcNNNNvLXVk9gx2JB+gldXwVq+brOMN5Zd\n",
       "JhrpSGitdPfZGsdJ7Bhs7GqMjXPwD1e32cYbyy4TiauD0lrprsK3buKmE4acqXwp08vVbcR4Mwnb\n",
       "IllEcGjzpVwvPMxJTKpJlTsrvMuVGm9WQzUX5X2eKrcXjflyMLFZjanJGtD2Hq8ay3izybLLrP8x\n",
       "ymoa5neSLVYCia3uBlOT7YD2Y7zDLOPNaC0zAdGKtR3QXTcmC/zEEk1Wi1cMijVZpqCsmu2tazKF\n",
       "JhktBjXuJmQHrk+d2Iq+Pbw4NfVT+bZpQtOmigDTeL57zEdaGA0joQlL2zDnYS+jczXjijnu3Qjz\n",
       "zBHShKbdbX6g3SX0DJgfIHslBL+YJjTttPk6jU7p8ua8sHttCH4xTWha8ww+sV50OaQ/K4e7EAQ0\n",
       "YWlzl0f2/4wfNvb0yIkwjxEJTVjadnNS/N0Q2jt/sA5dq0L0zlMaArJ9J+q0J7Qe0MQrzPlox1W0\n",
       "d/5J83W8zO+dJzszRMlRGnpV2FKaRtvv+zdxCK3nq6WJeybI1Y10HVv6dHcJ6Z23d2aIknNo6HwX\n",
       "3Gjyfj+PNjAvhzHz680vYNXkrJWE6UF577xDQ/5Dtu/waIc20DtvnkEYm8OqsS6HnPUty3rnHRob\n",
       "dPtuRniVmbSB3nk4bQ6K9xewarrNy2HbGZD3zjs0Nuj2HR5Naf298/CF9fiqAVJN3noWPgsg7Z1v\n",
       "0tig23dodJM2lt55un0nj46ld55u30mjVffOe7fv5NGZ2HrnW4quta7fWtuQayVafXdFK9G6u0JD\n",
       "qzut7rS60+ruDlR3wd55Rt0JtvA46k604edXd05iRt0Fe+cZdefbwpOoOxodSt05iRl1F+ydZ9Sd\n",
       "fwtPrO5odCh15yRm1F2gd55Vd4LeeY66E0QH1J2TmFV3/t55n7rDe+d56g6PDqo7moBVd/7eeZ+6\n",
       "w3vneeoOjw6qO5LAp+58Lex+dYf2znPVHRrNUXcKe+eJugsRHUvvPFF38mjVvfNedSePzsTWO6/V\n",
       "nVZ3GhoaGhoaGh7o3nlQ3M21eVl1ies/E6Bxd4w3Ld1Xyseblu4rfRNq3KF36J32vNLzGz3eaGho\n",
       "aGhIkYjjBY9OxPGCRifieEGjE3G8oNGJOF7Q6EQcL1h0Io4XNJrtZ3jFfy4Zx0v2IZSf43gJG+2N\n",
       "ZRwvkBr0Hcc4XmBlcO5OJ/AcxwuN9kY5YKI9sb5+hob/UzCOF2OeM3fvZ2jIZ7IvNCe6PzjNZ6K9\n",
       "sWw/w7Cxjz3BjOMlWzyP/UEEjuNFHu12qzuxrONl8s9H6v4T7Dpe8u9+j93sHMeLNNrtVm/Gso6X\n",
       "e2tsyzXreEm9DdjNznG8SKPdbnUnlnW8GDe+Ycc+1vHSqGL0PMeLPNrtVvfHEqdU8XmDezwxpAxn\n",
       "+kKNtsTxIo92u9X9sbbjJV861MF9dhLHy2SuL9SfEiSOF3m0263uiyWOlxX1/C7uhyCOl+fgS8lD\n",
       "wut4kUe73eq82JrwWHWOF25sYo4Xbmxijhca+z9qlJxRBg69agAAAABJRU5ErkJggg==\n",
       "\" style=\"display:inline;vertical-align:middle;\" /></a>"
      ],
      "text/plain": [
       "VertExprArray((A_{1, 1}, A_{1, 2}, ..A_{1, _a}.., A_{1, n},B_{1, 1}, B_{1, 2}, ..., B_{1, k}), (A_{2, 1}, A_{2, 2}, ..A_{2, _a}.., A_{2, n},B_{2, 1}, B_{2, 2}, ..., B_{2, k}), ..(A_{_b, 1}, A_{_b, 2}, ..A_{_b, _a}.., A_{_b, n},B_{_b, 1}, B_{_b, 2}, ..., B_{_b, k}).., (A_{m, 1}, A_{m, 2}, ..A_{m, _a}.., A_{m, n},B_{m, 1}, B_{m, 2}, ..., B_{m, k}))"
      ]
     },
     "metadata": {},
     "output_type": "display_data"
    }
   ],
   "source": [
    "VertExprArray(ExprRange(i, ExprTuple(ExprRange(j, Aij, one, n)\n",
    "                                 .with_explicit_parameterization(), \n",
    "                                 ExprRange(j, Bij, one, k)),one,m)\n",
    "          .with_explicit_parameterization())"
   ]
  },
  {
   "cell_type": "code",
   "execution_count": 38,
   "metadata": {},
   "outputs": [
    {
     "data": {
      "text/html": [
       "<a class=\"ProveItLink\" href=\"../__pv_it/demonstrations/d3ae099e09c82b90b8793c23e4160715d6bf28370/expr.ipynb\"><img src=\"data:image/png;base64,iVBORw0KGgoAAAANSUhEUgAAAXMAAABuBAMAAAAnq+5QAAAAMFBMVEX///8QEBAiIiLu7u5ERES6\n",
       "urqYmJiIiIjMzMx2dnZUVFRmZmaqqqoyMjLc3NwAAABb1yYoAAAAAXRSTlMAQObYZgAAAAlwSFlz\n",
       "AAAOxAAADsQBlSsOGwAABL1JREFUeNrtXEFoE0EU/W1ME03c9iQighUvQjzkIIonC14KHqoIHsRD\n",
       "QQVBhKKiqIjRSwUPihdRUAMeCl4MCoL2EsSDNwuevNiKgqhoi6hUscbszuw2O3+mf3bWlYr/QUo6\n",
       "/78/L9lkN3l9FMDHR1DhTaAlTRfNsQJF1NQjLZOotHwGT5gkFOg4VqCImnqopdxCpWe4W9NFcuxA\n",
       "EXE90lK6O6XWHv1CAzRdJMcOFBHXIy03b9WU0tJ3s2gA7qI5VqCImnqoxRs521RKbws/0XsFd5Ec\n",
       "O1BEXI+0lODZsFJrlL+hY4S7SI4dKCKuR1r2wqXL8VK+WfyuDsBdNMcKFFFTj7Q0YLquPirvB3rs\n",
       "Qdem4BSbO4x3EBxRyV27U7WW3kk01zVaAArbx+8OxEvHxh99UbpFV/FEv//L6BG8g+CISglK/bFi\n",
       "bq79Y+uEvGMm6oDFRIo3A/QqG40AfFYGyK6y6HyMNgg5QaV3h6ecFCrtW3dD3jETNdCIiRS3B3b3\n",
       "KYcIYC06RkGXUXrICSo9VW/W/vXSSXwwetpQx1ogP4yutLvxVT/sMkoPObKytN9Weoy4aedw1xQQ\n",
       "YiLFr9q3JbHLlec/oqH4hLDLJD3iyMp527dpnPj6DPRWgRATatnYeg7lobmO815uaK4KT1ovOruj\n",
       "LoP0eY6oeNsslavEMdhpqGMtCWF8wYQQlQ/wKelkQVwJ40XIBm3pucuE9C3gDV647yC9TZyB9U+z\n",
       "Ue7d+D5SXA3vJq8aGvzKuWZXq5X0A7Ag5utwchiyQ5lqaLpObkLG2EV9KKk6DnYmWoM6oj2ug3uA\n",
       "wWCYwBYSW0hsIbGFxBbSf2ohSW/IbCFtuX7bzUISxAwtJOkNmS2kBtxzs5AEMUMLKfSGjBbSV5iu\n",
       "OVlIgpihhRR6Q0YLaV+gwMFCksQMLSTpDZktJLjiaCEFxCwtJOkNmS2k4jpHCykgZmkhSW/IbCG9\n",
       "qTpaSIKYoYUkvSGjD+M1vCknC0kSs7OQfG9oQQvpzYWLVScLSRKzs5B8b2hBC2lNq+VmIQkiW0hs\n",
       "IbGFxGAwGAwGg8FYBNiK/t6h8aiIgnVDciKuzK8ErlQcFdOcCiWh4voEVhJUKn/zyDofjUWACr8x\n",
       "GQy+JGV5SVqQvMgvSZV/8pLEYPDp7N+B5nTGXzX4qwaDwWAwGP8dbPLrZDr945/bnd46UX6dTKdP\n",
       "ukoniWnz61TInIy3uxPT5tepkDkZb3cnpsyvk+l0Kt7uTkybX6dC5mS83Z2YNr9OhczJeLs7MWV+\n",
       "nUynU/F2d2La/Lq6ghLsyhD7BDveHSgxyfLr6oqaYFeHKAl2c35dsztQYhLl1/GKki9Vh6gJdmN+\n",
       "He+ufv1PmV+XK4cOnqgfH9RJl/H2B6OnCvv985Z1gh0R1QR72vy6WMkdWAGr4JRGuhzix8/rBfHS\n",
       "tUuwIyJKsKfMr8sVb/MEzMJDjXQ5xI+f10rizW+XYEdENcGeMr8erSwbKfbBBiw9GjIG56A7uFrY\n",
       "Jdg1xHiC/Y/l17tqhQFvpqZ5rUushGMwHQTQEybY54kZJdin2897z0DDmGD3ZtpP2v5S8n+C0EHM\n",
       "KMG+B5ZPeWNVY4I9X4eX8P5o8gT7PDHPCXYTOMGejvgbmfoCI3Np8IUAAAAASUVORK5CYII=\n",
       "\" style=\"display:inline;vertical-align:middle;\" /></a>"
      ],
      "text/plain": [
       "ExprArray((A, A,A_{1, 1}, A_{1, 2}, ..., A_{1, n}, A, A), (A, A,A_{2, 1}, A_{2, 2}, ..., A_{2, n}, A, A), ..., (A, A,A_{m, 1}, A_{m, 2}, ..., A_{m, n}, A, A))"
      ]
     },
     "metadata": {},
     "output_type": "display_data"
    }
   ],
   "source": [
    "ExprArray(ExprRange(i, ExprTuple(A, A, ExprRange(j, Aij, one, n), A, A), one, m))"
   ]
  },
  {
   "cell_type": "code",
   "execution_count": 39,
   "metadata": {},
   "outputs": [
    {
     "data": {
      "text/html": [
       "<a class=\"ProveItLink\" href=\"../__pv_it/demonstrations/3d42f7d286aea39fe1fc512e0b2739249b6dcd330/expr.ipynb\"><img src=\"data:image/png;base64,iVBORw0KGgoAAAANSUhEUgAAAIAAAAGgBAMAAACQy3J6AAAAMFBMVEX///9ERESIiIhmZmbc3Nyq\n",
       "qqoiIiIQEBB2dnZUVFS6urru7u4yMjLMzMyYmJgAAADLXkBjAAAAAXRSTlMAQObYZgAAAAlwSFlz\n",
       "AAAOxAAADsQBlSsOGwAABddJREFUeNrtXEFoHFUY/t2dTbbZzmahx1CyiUEsii4ESosgGxWsKOyG\n",
       "QG/SvVQPIubQCh7UIKWoWLvkJh7ai5RikbGnHkLNIQfpUrJUNJctpvQitgsRqra1cZ03781md/Z/\n",
       "M2/mp5qa/4PNzmR2/t335s373v9//z8AeljLQMPuDaKBI1QDB++YfrKN/jd7aDP0rFS5u9lAP/BC\n",
       "6vdQA5mSvzVSRz9Qyvwd/sNr/saSgx0eqdp3ww3Mqnf7Kno4DdY9gNxtb+cyNiRSY/L99LtvSFT7\n",
       "Dk9MH/wN4NoT3ndM1noP7VcndM56u3m0D3NFgD/c98Oyw2pYI6+ojRbeAoA3ww20/L7LLyBHv3Ff\n",
       "q+EGVgavR8+NNO/+GS+HGdgaB/DpYA+MP3BgtvN9mIFs02iYhzQBTA1cohg4tPoRrFWtz+4WKfd1\n",
       "lTgvjDhEA3lgJAYTCxNLP7HkPv7CIRFLGtI1ErGMnrU2ScSSdzADcYgFsjUascBPDo1YrDEisbwI\n",
       "L5GIxdp7/TkSsQx3OqRbm4mFwWBsC3xHXScNlbgT/2W0jT7Vs7wLomE0DjLaK4st97BxoPXglgwp\n",
       "bFbzf81yT7+8C0Kz3NMv7wY4tGHK1lc0B1qGBlq6vkKXe6FxA4PrE2scIMs9bBwYLu8YjG2D16gG\n",
       "VonnZzpEA+kzZVN/AL8/T5yOuG+nurESdIqyis9GuDpz/sZ5jfd+ZD1i8eE7mfhs/BX8HDFHZgpq\n",
       "ksWbWoJKXROR7kYIvLZn/1R0cbSffvZMnykEI9J+69QZ79z3dm+jfXgRYLQWEQu9IBnKXsZbAEPz\n",
       "voGb7UlkLrf9zvsFo691GQrzDOR+/QCODX5mdzlwOXrxsvt67I4yYF1chr9CxkF2kGy/7TQgM/5g\n",
       "QTVhV3FkftDAKaM7yjMw3EyXEvKRayC3ABUY+jGZARGRto+7gz31OWVioM5MX1MNrDM9JAcHpjkw\n",
       "7QemL33ypdhJrniWYD+QFM/7UGkCRfG8FWLALDANJwFIiqf9ls6AYWB6xtEZMPNcrJJVBopgOXP9\n",
       "B4ekeH7Y6bDiycTCxMLE4hFLaCeYEItkpoBkGodYJDMFJNM4xCKZCZdMjYhFMhMumZoRi2QmTDI1\n",
       "JBbJTJhkahgSk8xkjSWeEyQzJZdMJTMRJFPJTCyZMhiM7QBWPB89sOLJiiew4slgPDSw4smKp1I8\n",
       "8VTpboQgWvHE/f4Yiifu9/swUDyV309QPD2/n6J4en4/RfGUfj9B8ZR+f3LFU/j9JMVT+P2seDIY\n",
       "DI4fcPyAxwGPAx4Hj+44aMc9YSqw34hrYC6wOK/H7t3+3aXYSpDvMCnX4Wr8Xpvo/c7oOJzWYVK+\n",
       "ayP+L7jQ52W0Yp9v93+naRwOcZgUasRxgMXhwnEKGDwrMzszeCAxeBwwGPGxo5JMcZUoKslUICWX\n",
       "u7hKFJVk6jkdcrLAVaLIJNPuChtXiaKTTAW8TARcJQommaontwU7YUyrEskk0y3IB+x00ZuJgKpE\n",
       "/mN1tnAYbajIREBVIpVkerM9WX9mr96AzETAVCKZZCrkofdgn97ACuaDejeSTDIV8tAmHNAaUONg\n",
       "UCXqJpnuKtrzcFRrIDoTYbiZKlgbTW0TIlFxf0O+UMotJDVw3nUPrUXHPu49YIcAFoqYWJhY/kfE\n",
       "ogrkkhOLLEMgEIsqkEtOLLdQA3GIRZUhJCcWVYaQnFhmHBqxqDKE5MQiyhBIxCLKEJhYGAzGfwuO\n",
       "I+1AcP0C1y8A1y8wGA8JO6l6QUMnkdULAlM6OjGpXhCY09GJSfVC12fF6SS6esHr6YKWTuTz2iIx\n",
       "4WjoRFYvhFyjrYQcnE7U89oiIRJyWngLvOqF56/tS90Ql9Pdehyj04aGTlT1wuVz68P1lOgLsYUM\n",
       "LJmQg/xUVb3w6tMw2kyLLxBbjmYcIHTSrV5YhDUY8np3Ec4hTYhMyHkfJqBiy61pO/4NZW2433wj\n",
       "LR75vgFvvx7fgDvKV+CVp2Ct6m49SfHAt/XzC/4BjILD6cSIUp8AAAAASUVORK5CYII=\n",
       "\" style=\"display:inline;vertical-align:middle;\" /></a>"
      ],
      "text/plain": [
       "ExprArray(A_{1, 1}, A_{1, 2}, ..., A_{1, n}, A_{2, 1}, A_{2, 2}, ..., A_{2, n}, ......, A_{m, 1}, A_{m, 2}, ..., A_{m, n})"
      ]
     },
     "metadata": {},
     "output_type": "display_data"
    }
   ],
   "source": [
    "ExprArray(ExprRange(i, ExprRange(j, Aij, \n",
    "                                 one, n), \n",
    "                    one, m))"
   ]
  },
  {
   "cell_type": "code",
   "execution_count": 40,
   "metadata": {},
   "outputs": [
    {
     "data": {
      "text/html": [
       "<a class=\"ProveItLink\" href=\"../__pv_it/demonstrations/2f6a6a324cf8780c9fc6ca00de98d89ad3f599500/expr.ipynb\"><img src=\"data:image/png;base64,iVBORw0KGgoAAAANSUhEUgAAAHEAAAGeBAMAAABRNfMAAAAAMFBMVEX///8QEBAiIiLu7u5ERES6\n",
       "urqYmJiIiIjMzMx2dnZUVFRmZmaqqqoyMjLc3NwAAABb1yYoAAAAAXRSTlMAQObYZgAAAAlwSFlz\n",
       "AAAOxAAADsQBlSsOGwAABkJJREFUeNrtXE1oXFUUPsk4P8lMXrKQUMSfiJuCLmZRWurGiAsDCmkQ\n",
       "XBTBQCMUinTQYjAifXWTgEJCF4qCdlAhECgZLBRsNqO4cNeUiuDGRgxIFZ1BWzuNJuN775479827\n",
       "554XqyBOzgcDnZw5mffmvnx93/edOwAKP8Od4hpbzU1urZyfIEulNv+L+8YBVn2qUlzdYDsbFYDn\n",
       "a1Tlg3M+23kyKJ+sEAWvcrrOdq4GjyvUYRXh8jTbeTfAo/upwnOwuMQ1Fm7Mzn1NVmrQqAIcXA//\n",
       "nXnRrud3AD6b1iX1OlV4am11HAqzY+GT+ZfszrtGAAZaWMLXRTgEMBw8K6mffG53DgdHlLulS6Wx\n",
       "2MFC/wjXuRh8foM37c5s8POhJtd5OliQxXW787vwTHa4zivBr7+vbHUeaF+F0uT2krvz4/bKyld1\n",
       "IM5TX/bO99RgOjNLaZ2HiU7v/duVwr1w/do7rsawdKYevo76Q03lANefxjNpjdmyozCd1pmDPQph\n",
       "6l5l6sPvfcQzdebdlTLJ1DX4hGfqIhTHSKa+CQ2fZerhI16LZOpjRGcXU+fKnc4EU8PZFKaGgTGa\n",
       "qQsPpTA1vFGmmXqznMLU3hM0U3s1b4Nn6p/gF5KpNxfeLLNM7U0sXCCZ+oF2m2fqvna7KUwtEPQ+\n",
       "Mttpr3hs3VF4OK2zvyafr1wJciXIegoEu4G3fqedQ022PBPejtOa7zLfGeqywRZZubTDn0ygcrJ/\n",
       "UJWB6y3+pralNJKNH/J/sp2DwckM3U9qwdLvaTI78yH1CWXrhdts5+KTs+fJ+/QieFu0RWh0WWm0\n",
       "yyJEnFq7dIO2CBGPB49zftwiRNILRPuvwNlYWxBJe8vGKgaPB3Vn7uL8a5bMDj+/1SPYeeL4rObA\n",
       "Z9H9iDoPTk33bRAyu7CNki/zwijgAnmB3IXJDez8/nUYTsqgoeAVU1ex0zu0Dr+ps5zcLsMX7W/0\n",
       "eS7DVPI6CP2Wpzsyc7CSHSHV5T5YKzg+KNXZ5xdrPqUum7D/S3dnIFAb0P+WT6jLbBVedcg6FKhH\n",
       "If/231CXqQLVqS5TBWq6upyGPQpxCiP0klOIDiCT6aCJaGU66AAymY4yEe1MRzuA7kwHTUQr09EO\n",
       "oDvTOZbs1E4hOoBMpqNMRDvTQQeQyXSUiWhnOugAMpmOMhHtZAYdQPd/aWgi2snMxMIFPtMJTUQq\n",
       "0wkdQD7TCU1EyXSEqYWp/0OmZjIdVbIzHWRqJtNRJTvTQaZmMh1VsjMdZGom01ElItPRWc3ZFKa2\n",
       "Mx1kaibTwZKV6SBTM5mOKtmZjmJqJtPBkpXpIFMzmY5iajvTQaZmMh3F1JLpCAR7A+L8ynrKesp6\n",
       "CgT/FiSZUbemvZTMUPLRqKvSaJd8RKhkhpKPCJXMxOUjkp5KZij5iFDJTFw+6oONkhnUiO5kBuUj\n",
       "kcxEGpFLZiL5SCUzkUbkkplIPlLJjNKITDKj5KOdzKBGZJIZJR/tZAY1ojuZQZlpJzNKI2bdyQzK\n",
       "TElmBAK5S5W7VLkS5EqQ9ZT1FAgEwn3CfbKeArkSBIJdQ0z1CD1lqscIKTlHi9sdDPQcrTLVDaw5\n",
       "WmWqm+d6jlZvdzBIznridgcDnPVEU/3E8dnqKxNUpzbVL87P5Wf8WKcy1UOz/B6YozrRVA/99mq+\n",
       "ajrRVA/N8hZ8SnWiqR767X5xqdPZMdUHK4UReITo7Jjqy3AG+uuxo9XL7efHvaZPfUKIfXAKGgW7\n",
       "sxG8a2685p6j9ZrBu84U7e9GOQpDG95y2T1Hm63Ct/DjyzJHK3wrfPvP+daCxbcaSb61gtAk3+og\n",
       "1OJbKwhN8q0OQvX2sg6SQajeXtaBDkIxxDRMnZyjRb41TI1BKPJtnKkTc7TItzGmVkEo8m2cqbvn\n",
       "aDXfxpi6M0erXmCYepNmGsPU3XO0hqldc7SGqbvnaA1TO+ZoDVMn5mgNUzvmaA1TyxytQCB+gvgJ\n",
       "sp6ynrKeAsGuITsxI/TUt2u6gTsxiUK0E5MB7sS0gd+u6Yb+dk3iYKOdmEYjJudocSemkZk4R4s7\n",
       "MY1GtOZo1U5MIzP1HC3uxDQa0ZqjVTsxjczEOdrOTkyjERNztHonppGZiTlaoxEdc7RGZnbP0cY0\n",
       "omOO1sjM7jlaoxGzjjlaIzP/h3O0fwEqHK+NtdH0yAAAAABJRU5ErkJggg==\n",
       "\" style=\"display:inline;vertical-align:middle;\" /></a>"
      ],
      "text/plain": [
       "ExprArray((A_{1, 1}, B_{1, 1}), (A_{1, 2}, B_{1, 2}), ..., (A_{1, n}, B_{1, n}), (A_{2, 1}, B_{2, 1}), (A_{2, 2}, B_{2, 2}), ..., (A_{2, n}, B_{2, n}), ......, (A_{m, 1}, B_{m, 1}), (A_{m, 2}, B_{m, 2}), ..., (A_{m, n}, B_{m, n}))"
      ]
     },
     "metadata": {},
     "output_type": "display_data"
    }
   ],
   "source": [
    "ExprArray(ExprRange(i, ExprRange(j, ExprTuple(Aij, Bij), \n",
    "                                 one, n), \n",
    "                    one, m))"
   ]
  },
  {
   "cell_type": "code",
   "execution_count": 41,
   "metadata": {},
   "outputs": [
    {
     "data": {
      "text/html": [
       "<a class=\"ProveItLink\" href=\"../__pv_it/demonstrations/d3ae099e09c82b90b8793c23e4160715d6bf28370/expr.ipynb\"><img src=\"data:image/png;base64,iVBORw0KGgoAAAANSUhEUgAAAXMAAABuBAMAAAAnq+5QAAAAMFBMVEX///8QEBAiIiLu7u5ERES6\n",
       "urqYmJiIiIjMzMx2dnZUVFRmZmaqqqoyMjLc3NwAAABb1yYoAAAAAXRSTlMAQObYZgAAAAlwSFlz\n",
       "AAAOxAAADsQBlSsOGwAABL1JREFUeNrtXEFoE0EU/W1ME03c9iQighUvQjzkIIonC14KHqoIHsRD\n",
       "QQVBhKKiqIjRSwUPihdRUAMeCl4MCoL2EsSDNwuevNiKgqhoi6hUscbszuw2O3+mf3bWlYr/QUo6\n",
       "/78/L9lkN3l9FMDHR1DhTaAlTRfNsQJF1NQjLZOotHwGT5gkFOg4VqCImnqopdxCpWe4W9NFcuxA\n",
       "EXE90lK6O6XWHv1CAzRdJMcOFBHXIy03b9WU0tJ3s2gA7qI5VqCImnqoxRs521RKbws/0XsFd5Ec\n",
       "O1BEXI+0lODZsFJrlL+hY4S7SI4dKCKuR1r2wqXL8VK+WfyuDsBdNMcKFFFTj7Q0YLquPirvB3rs\n",
       "Qdem4BSbO4x3EBxRyV27U7WW3kk01zVaAArbx+8OxEvHxh99UbpFV/FEv//L6BG8g+CISglK/bFi\n",
       "bq79Y+uEvGMm6oDFRIo3A/QqG40AfFYGyK6y6HyMNgg5QaV3h6ecFCrtW3dD3jETNdCIiRS3B3b3\n",
       "KYcIYC06RkGXUXrICSo9VW/W/vXSSXwwetpQx1ogP4yutLvxVT/sMkoPObKytN9Weoy4aedw1xQQ\n",
       "YiLFr9q3JbHLlec/oqH4hLDLJD3iyMp527dpnPj6DPRWgRATatnYeg7lobmO815uaK4KT1ovOruj\n",
       "LoP0eY6oeNsslavEMdhpqGMtCWF8wYQQlQ/wKelkQVwJ40XIBm3pucuE9C3gDV647yC9TZyB9U+z\n",
       "Ue7d+D5SXA3vJq8aGvzKuWZXq5X0A7Ag5utwchiyQ5lqaLpObkLG2EV9KKk6DnYmWoM6oj2ug3uA\n",
       "wWCYwBYSW0hsIbGFxBbSf2ohSW/IbCFtuX7bzUISxAwtJOkNmS2kBtxzs5AEMUMLKfSGjBbSV5iu\n",
       "OVlIgpihhRR6Q0YLaV+gwMFCksQMLSTpDZktJLjiaCEFxCwtJOkNmS2k4jpHCykgZmkhSW/IbCG9\n",
       "qTpaSIKYoYUkvSGjD+M1vCknC0kSs7OQfG9oQQvpzYWLVScLSRKzs5B8b2hBC2lNq+VmIQkiW0hs\n",
       "IbGFxGAwGAwGg8FYBNiK/t6h8aiIgnVDciKuzK8ErlQcFdOcCiWh4voEVhJUKn/zyDofjUWACr8x\n",
       "GQy+JGV5SVqQvMgvSZV/8pLEYPDp7N+B5nTGXzX4qwaDwWAwGP8dbPLrZDr945/bnd46UX6dTKdP\n",
       "ukoniWnz61TInIy3uxPT5tepkDkZb3cnpsyvk+l0Kt7uTkybX6dC5mS83Z2YNr9OhczJeLs7MWV+\n",
       "nUynU/F2d2La/Lq6ghLsyhD7BDveHSgxyfLr6oqaYFeHKAl2c35dsztQYhLl1/GKki9Vh6gJdmN+\n",
       "He+ufv1PmV+XK4cOnqgfH9RJl/H2B6OnCvv985Z1gh0R1QR72vy6WMkdWAGr4JRGuhzix8/rBfHS\n",
       "tUuwIyJKsKfMr8sVb/MEzMJDjXQ5xI+f10rizW+XYEdENcGeMr8erSwbKfbBBiw9GjIG56A7uFrY\n",
       "Jdg1xHiC/Y/l17tqhQFvpqZ5rUushGMwHQTQEybY54kZJdin2897z0DDmGD3ZtpP2v5S8n+C0EHM\n",
       "KMG+B5ZPeWNVY4I9X4eX8P5o8gT7PDHPCXYTOMGejvgbmfoCI3Np8IUAAAAASUVORK5CYII=\n",
       "\" style=\"display:inline;vertical-align:middle;\" /></a>"
      ],
      "text/plain": [
       "ExprArray((A, A,A_{1, 1}, A_{1, 2}, ..., A_{1, n}, A, A), (A, A,A_{2, 1}, A_{2, 2}, ..., A_{2, n}, A, A), ..., (A, A,A_{m, 1}, A_{m, 2}, ..., A_{m, n}, A, A))"
      ]
     },
     "metadata": {},
     "output_type": "display_data"
    }
   ],
   "source": [
    "ExprArray(ExprRange(i, ExprTuple(A, A, ExprRange(j, Aij, one, n), A, A), one, m))"
   ]
  },
  {
   "cell_type": "code",
   "execution_count": 42,
   "metadata": {},
   "outputs": [
    {
     "data": {
      "text/html": [
       "<a class=\"ProveItLink\" href=\"../__pv_it/demonstrations/653b992822bd4eec30ff06bd50233315ee4f96a00/expr.ipynb\"><img src=\"data:image/png;base64,iVBORw0KGgoAAAANSUhEUgAAAdMAAACSBAMAAADsoz3jAAAAMFBMVEX///8QEBAiIiLu7u5ERES6\n",
       "urqYmJiIiIjMzMx2dnZUVFRmZmaqqqoyMjLc3NwAAABb1yYoAAAAAXRSTlMAQObYZgAAAAlwSFlz\n",
       "AAAOxAAADsQBlSsOGwAABkdJREFUeNrtXU+IG1UY/7LTJNMmnd2LsojUlV6E9RBUWnrqgiAFD2sp\n",
       "eKgeAruCoELQYumKmPWyBYUuHioKasDDopcGxYrNJRQP3nZBL17ciAWpUhO0q624jZl5M5PJn/dv\n",
       "3nsz++f7wS6z+d77/iQz89788uNbABe3gA5nQ9YQ4BboAjcUd1CYyyZj0OGOrEHEqxy4obiDglyK\n",
       "Xcag9Y6sQcSrHNY7ioPCXApXWvRR1+7JGkS8yoEXijsozOXjT6rUQQdv3pE0BGB5lQM3FHdQkItT\n",
       "eatJHfRr/j9JQ3CXYHmVAy8Ud1CYSwHWy9RR9eLfkobgnGF5lQMvFHdQmMvzcGmVNijbtO/KGQKw\n",
       "vMqBG4o7KMylDu0a/f1w/mUYrFe8P46NWdKIV2I58eGnCqUOhJJONFph/unGlTnaoHONa7cZhpVX\n",
       "3WP7/MyInXj1LXX4Yrx7a7v36+SGf8DMgYQC6USjFR4HmJyhDLIqAH+yDNfJsjU63/dKLFvQptyN\n",
       "Z3s/E3X/gJ3DdVal1EQHKuwFmpiinhYAD7MM1FJ9r8SyQC1V6PyNhMpdXXlDKtFohdkyY0/1LG1/\n",
       "FxhopQZeA8t78S/VgVDHTpczLZlEoxX+3Ps5QNloOO57Md9iGGilBl59i300/lZ/INQvb8JkSSLR\n",
       "aC5PdL+H4vz22HXBmt8uwbfdHxkGSqmhV99yoxS30uFQa3BaItGBXBRBvVaDfbZnceqO+n6YhJqG\n",
       "hg2poBf/BKdUaxVuXHynpCeU04FHvkul0pub78Ny0/noboVyofUs9oPwULerKVS2BhfKkBp4u/pi\n",
       "cqEMI8s7N88kF8owcrwB5eRCIRCIvQKkvD0g5Y2Ud/RpGSlveSDlLT4IKe+hDTZS3r7B57KplLf1\n",
       "wefuw4gOypvjwzjlTbhsOuVdgMIM6KG8qT44iYImytvnsqmU9+Qzjntf1EF5bzG5ZPOU9wK1VOI1\n",
       "V/JK1UF5Ex8pUt6Ey6ZT3nCQmDRQ3p6PFClvwmXTKW942+NIdFDeno8UKW/CZdMpb+dJ728dlDfx\n",
       "kRrl7XPZdB74d/gD9FDevo/UKG+Xy2ZR3s6pi19qorxJqPQob5fLZlHemW63o4nyJqGySHknA6S8\n",
       "+ygnFwqBQCAQCAQCoQKPxqJhdrdUMStS4UnGF5Ms0nJHgZloWKHFclHaLZ8qK1ELL10EYndhH92B\n",
       "99G6ikAgEAjEbt19aN6BpL2Z4a7NGncgs3hmySGWyttk0DgwqPJWxaZmfwZV3orQKALnJ6qo8laE\n",
       "RhE4P1E1lbcq9InABRJVU3krrqvSInDeumpQ5a24rsqLwDnrqjmVtyr0icAFElVTeasiEtT+Qcdd\n",
       "zpzKWxEDQT/T4NCcylsVA0GnNTwMmFN5q5+//aD2P0v9L1ysyxdasc5fYypv1ZtINGj+aL5/I3+s\n",
       "dSlOqeZU3qrr6kDQA+Vc300DlmOsq+ZU3qrr6mDQTLXQXwHugyX5dTWRxiY6MAmZcONk3YOnHt+7\n",
       "T8sTpUW3OwrBEXtrYS8W6TQaja/A/rriSsW9Y3ju5TRV3ImgCfsF2dK+KRX12wgEAoFAIBA74SEK\n",
       "Vd7eozKqvHceUOWNQOwhoMp7L66rCAQCgUAgEAg24qi8eSJtfepwQU/mVN48jY8+dbigJ2Mqb65I\n",
       "W586XNCTMZU3V6StTx0u6MmYypsn0tanDhf0ZEzlzRVpC/XfFoKgJ2Mqb65IW6j/thAEPRlTefNE\n",
       "2vrU4YKezKm8h+cMd/Menhe/m7egztyYynt4zkg37+F5lE7cAr28BXXmxlTeI3OGesmOzKN14ub2\n",
       "8hbUmZtTefuduq+uLOUXq2NK9ee99OL52uun3Bdid/Me8dQ7qosnCtEK46i8/TluY+1avjamVDLP\n",
       "euF+eCDQ98bs5j3syT06IpxoNNt4Km9/jttYu1pYHS3Vn+cc34A78A25muN18x7x5B79JZxoNNtY\n",
       "Ku9wzhosw0RzpNRw3qGKPQWPeq/F6+Y9xtOhSnZKNNHBbJUwDeegbY85gX1kqvk5p+NepKrdvPue\n",
       "MtVCvQpJw+n0PtfFAv0fWLZ7n0Furq6hm3ffUxsm3k2+1GwNfoLfXqN38z4Lh1vOWklDN+++p7OQ\n",
       "v5wii9Hk2PV18y5Cukiwm/eZlEtNsJu3gqf/AVNwlmxx5zpOAAAAAElFTkSuQmCC\n",
       "\" style=\"display:inline;vertical-align:middle;\" /></a>"
      ],
      "text/plain": [
       "ExprArray((A, A,A_{1, 1}, A_{1, 2}, ..A_{1, _a}.., A_{1, n}, A, A), (A, A,A_{2, 1}, A_{2, 2}, ..A_{2, _a}.., A_{2, n}, A, A), ..(A, A,A_{_b, 1}, A_{_b, 2}, ..A_{_b, _a}.., A_{_b, n}, A, A).., (A, A,A_{m, 1}, A_{m, 2}, ..A_{m, _a}.., A_{m, n}, A, A))"
      ]
     },
     "metadata": {},
     "output_type": "display_data"
    }
   ],
   "source": [
    "ExprArray(ExprRange(i, ExprTuple(A, A, ExprRange(j, Aij, one, n).with_explicit_parameterization(), A, A), one, m)\n",
    "          .with_explicit_parameterization())"
   ]
  },
  {
   "cell_type": "code",
   "execution_count": 43,
   "metadata": {},
   "outputs": [
    {
     "data": {
      "text/html": [
       "<a class=\"ProveItLink\" href=\"../__pv_it/demonstrations/3dd21e3b4068ed83bfc4d09292b40031a94c8d290/expr.ipynb\"><img src=\"data:image/png;base64,iVBORw0KGgoAAAANSUhEUgAAAf0AAACSBAMAAAC9Nw6AAAAAMFBMVEX///8QEBAiIiLu7u5ERES6\n",
       "urqYmJiIiIjMzMx2dnZUVFRmZmaqqqoyMjLc3NwAAABb1yYoAAAAAXRSTlMAQObYZgAAAAlwSFlz\n",
       "AAAOxAAADsQBlSsOGwAABqxJREFUeNrtXU9oHGUUf7vb/dNsOslJghSN5CLEwxykpacEBCl4SEvB\n",
       "Q/GwYIRCEZZaDEaK215SqNLQg6KgLngIeulSsWL2sogHbwnoxYuJWJBa6i5qtRXjdufPTnZmZ973\n",
       "ffN9387YfT9oQsPv/d57yezMZF5++wAs3IVoGNuA4i4IQIisQgWt3tPZQUiHOniGHZHKd5T0L6CC\n",
       "Vt/XmewipC28fzRWiqxEBave0ylf341mbf6HJkBjpchKVLDqPZ2PPq5Fkg7evo8mwGLlyCpU0Or7\n",
       "Okb1rVYk6Zfiv+j5BYuVIitRwar3dMqwVYlkNSb/Qo9FLFaKrEQFq97TeQmurkeR8q3SAywBFitH\n",
       "VqGCVu/pNKBdj/4mGf+g32A79oh9lc29yvppDJCPffBJzP4HVZiHClJ9v+3iC83ri1Gk883NP5EE\n",
       "TmxpZdb6z9o5vBofuQE3wjgL2+6H3B6PCgNY9V7bRwGmosRyVYDfkQRu7KQT/zVejY98D9phZ/Fs\n",
       "o/9hnislCrR6r+1esux05AEE8BR6LNqxfP37yC+H989z+A+onD2z0sAOf6T6ftv5CnKX+CJ+t9mP\n",
       "5eo/QIZrsdr3qeReeQyeiOZi1Xtt/9T7dyDiLsmwvkFL0Xdb/Viu/gPk0lys/n0qxtFt+CP6Ao9V\n",
       "39d5tvsdTC7thV5Rckt7JnzT/SEqgRfL03+QfMuM035AZaKan4589WPVY23H+I2E6/XvIxsNY1c+\n",
       "ZaZWbtQgcfSKya0L9N8j37p8xZRP2Ybs28n3b3z4oFo6DLd33uMnP9ntKkh5GorvQjowqY2sWUUR\n",
       "Tmkja1ZRhIo2smYVAoEw1qD5RzRo/oHfg9D8g78amn+o+GWF5h/cKjT/oPkHU0d6/pF7/zPrWQbf\n",
       "/MMlS84/XBXmoTKS+UcZyrPAO/9wyZLzD1eFgRHNP6ZOGPZplmv+4ZIl5x/9lChGNf8omFz9+8iS\n",
       "8w9XJSXzDzg4y+4/QJacf9gqaZl/wCWT3X+ALDn/sFXSMv8wngNm/0Gy5PzDUUnJ/OMO/Mbx+veR\n",
       "Zecfjko65h/G8cufc88/XLLk/MNVScf8I9PtdrjnHy5Zcv7hqtD8IzWg+YcusmYVAoFAIBAIBMKY\n",
       "IYs8Qot8DClO4kqnWGWeR2EBmZFHPoYWJnlY2FbRP5cKWpinkMMkuB5SCD3JyCk5aPlUTO11EAiE\n",
       "/zXG/fw/7td/AoFAIBAIBEKCELuXVoTY/g8hP4fBdeM/L1Fr3Opj+z+E/BwsJwkfxCwkev0fYn6O\n",
       "LRX9C1pI9Po/xPwcDCcJHwQtJHr9H0J+DpaThA9iFhK9/g8xPwfDScJ3DRC0kOj1f4j5ORhOEr5r\n",
       "gKCFRK//Q8jPwXKS8EHMQqLZ/zEQWPre/oS8K9Wg0juL1sc4FpDhlOjJUqv/wxf4qV0S8q5Ug0oT\n",
       "604BN0TbH06JQq//wxc441xSI/v3KWXsE+89cQtESErsPKrX/zEYWPp71UT79yldXbGOfNQCEn4N\n",
       "GE5ZuLn2JshUH9v/4QsszhUbaP8+pXOmU/M1wWtASMojJyuZXZnqY/s/fIEHKoVtrH+/0vNgW+WE\n",
       "LSAhKX++AFOmRPWx/R/+wEytXEf6DyjNwKb1SdQCEppyA05y5cSk5DEFmRbwvStfDx04DNIWEDfl\n",
       "DDRLyT+2yJrLcIy7/7nCorwFxElpdODpb5Ps3Gg2m19A6csqXGxZ70qFs+/02CfgygrIWEAGU+br\n",
       "8EYF0gGR30wUmTdakB7khY7mU6NPqRkFIXZl9CkJBAKBQCAQCASgv/8k/wcC8n8QCIRHGOT/GO/r\n",
       "P4FAIBAIBAJh3BB//4cGA4hSFd37PxIwgAipaN7/kYABRExF8/6PBAwgYiqa938kYAARUtG8/0OX\n",
       "AUSZiub9H9oMIKpUNO//SMAAIqSie/9HMBJdSh6UircBhLWQhJ8sv/8jGIkvJQ9Khdo/mPs/GAtJ\n",
       "+MkK9n8MRWJ//jskFWr/YO3/YC0k4Scr2P/hruK4ubZaXK6x+nelzp5Zqb9+3PpCrA0gQyrYBhDN\n",
       "+z/cSMuBUS/WWf07UtbGjsdh1flSjA0gQRV0A4jm/R9upOXAqJXXGf27UtbGjvvwlXO6EN8AMqSC\n",
       "bQDRvP/Di9yAi5Bt4f17UhPV0jQ8Y39NfANIiEr0BpCR+T9m4Dy0S6zj30WmVlw0OtYLX8b+sa+S\n",
       "/AYQo9M7ApbLnPaPdu8nVlhsSNo/9lWS3wCSr8OP8OtrXPYPgNNwaNfYMCU3gOyrpGgDSEuE/Oht\n",
       "AEnA/pGqDSAJ2D/kVR4Cx//tzU7NyWsAAAAASUVORK5CYII=\n",
       "\" style=\"display:inline;vertical-align:middle;\" /></a>"
      ],
      "text/plain": [
       "ExprArray((A, A,A_{1, 1}, A_{1, 2}, ..., A_{1, n}, A, A), (A, A,A_{2, 1}, A_{2, 2}, ..., A_{2, n}, A, A), ..(A, A,A_{_b, 1}, A_{_b, 2}, ..., A_{_b, n}, A, A).., (A, A,A_{m, 1}, A_{m, 2}, ..., A_{m, n}, A, A))"
      ]
     },
     "metadata": {},
     "output_type": "display_data"
    }
   ],
   "source": [
    "ExprArray(ExprRange(i, ExprTuple(A, A, ExprRange(j, Aij, one, n), A, A), one, m)\n",
    "          .with_explicit_parameterization())"
   ]
  },
  {
   "cell_type": "code",
   "execution_count": 44,
   "metadata": {},
   "outputs": [
    {
     "data": {
      "text/html": [
       "<strong id=\"Apj\">Apj:</strong> <a class=\"ProveItLink\" href=\"../__pv_it/demonstrations/178425e83c1fd6ce09092436f2b44fb1146a44ed0/expr.ipynb\"><img src=\"data:image/png;base64,iVBORw0KGgoAAAANSUhEUgAAACUAAAAVBAMAAAAzyjqdAAAAMFBMVEX///8QEBAiIiLu7u5ERES6\n",
       "urqYmJiIiIjMzMx2dnZUVFRmZmaqqqoyMjLc3NwAAABb1yYoAAAAAXRSTlMAQObYZgAAAAlwSFlz\n",
       "AAAOxAAADsQBlSsOGwAAAMVJREFUGNNjYACBtwyY4D6mEM9/TDHu9Q8wxObNb0AX4iuoP4ChleF8\n",
       "ArpYDEP/BASPA0xuYHi/ACHGBDKb3Xv3egc0reYMDPwKaGIbgOoFGNi2pa0Aq9gDJFiBdvJ+YDCL\n",
       "f9AEVnEWSDwEYpZ/DI+rGN4DWcwGsxkYTP5fZuDx/zuBwZ3hINioa0jGSjCsBtP/kDz4j0+ZwRLo\n",
       "ZAGEGNv1agOGxgMM7EjO5wZ77wADL5LXmUBBw2pwtRHJivmbQQYwbAdSAFeqMICDLQASAAAAAElF\n",
       "TkSuQmCC\n",
       "\" style=\"display:inline;vertical-align:middle;\" /></a><br>"
      ],
      "text/plain": [
       "<IPython.core.display.HTML object>"
      ]
     },
     "metadata": {},
     "output_type": "display_data"
    }
   ],
   "source": [
    "Apj = IndexedVar(A,(p,j))"
   ]
  },
  {
   "cell_type": "code",
   "execution_count": 45,
   "metadata": {},
   "outputs": [
    {
     "data": {
      "text/html": [
       "<strong id=\"Bpj\">Bpj:</strong> <a class=\"ProveItLink\" href=\"../__pv_it/demonstrations/f277d8a83a7e43415435af95629eb777433a69c00/expr.ipynb\"><img src=\"data:image/png;base64,iVBORw0KGgoAAAANSUhEUgAAACUAAAAUBAMAAAD4luk4AAAAMFBMVEX///92dnaqqqoiIiLu7u5m\n",
       "Zma6urqIiIjc3NwQEBDMzMwyMjJUVFRERESYmJgAAAAeMT9/AAAAAXRSTlMAQObYZgAAAAlwSFlz\n",
       "AAAOxAAADsQBlSsOGwAAANZJREFUGNNjYGB4+//Mmb0LGFDBXAYGnl+oQhzfGRjYvqKK8QHV8H1H\n",
       "FeP5wMDAPQNVjPMCA8thNDvWXy8//QDB5QIR9Q0MTPMQYswgLTeBWB5N7x8gfl+AIsT1D0icT+CL\n",
       "e3cKxHUPAhLsP4Divxn88hsWg8QCtIEE9wQGhswtDC01DP1AHouDKNDF9/+cOX0JyLvOoAk2ax+S\n",
       "ubMYjoLpH0gh8YPDhMERaPQEpJDYXurAsFKBgf0AQoxVAEQqMHAjeZNZAUiwOWxbiWSFfAjIAIZw\n",
       "IAUAStw238KrNXwAAAAASUVORK5CYII=\n",
       "\" style=\"display:inline;vertical-align:middle;\" /></a><br>"
      ],
      "text/plain": [
       "<IPython.core.display.HTML object>"
      ]
     },
     "metadata": {},
     "output_type": "display_data"
    }
   ],
   "source": [
    "Bpj = IndexedVar(B,(p,j))"
   ]
  },
  {
   "cell_type": "code",
   "execution_count": 46,
   "metadata": {},
   "outputs": [
    {
     "data": {
      "text/html": [
       "<strong id=\"Cjk\">Cjk:</strong> <a class=\"ProveItLink\" href=\"../__pv_it/demonstrations/f7a30fa9bf46e62c05eed19ffa1b33476ea0de4d0/expr.ipynb\"><img src=\"data:image/png;base64,iVBORw0KGgoAAAANSUhEUgAAACMAAAAUBAMAAAD1iJl/AAAAMFBMVEX///+6uroyMjLMzMwiIiJm\n",
       "ZmaqqqoQEBB2dnbc3NyYmJhUVFRERESIiIju7u4AAABBACUiAAAAAXRSTlMAQObYZgAAAAlwSFlz\n",
       "AAAOxAAADsQBlSsOGwAAAMlJREFUGNNjYGDgu7N7F2cDAzK4fo+BLWQBssgbZyARPwFZSP0BkBBH\n",
       "FuH4BiJNkYXmO4DIx8hC/RegDGa4kD/MYBYDILEEpKAezH8AFWcXAKkCsdgMYCYzwFzEwcDwNgzE\n",
       "W8N5AygO0t3HwBCQBBLaO+35BAa2XwwMEg8Y+B60goRqE0AWPz29FWQmgxYQc34NRnbgTyDmOiDC\n",
       "iRBhLmB4wcB9wYQDIcS7gcE8gWcC92KEEBMwxBJQwlHRnIGB8QGKUGwc0HAIEwBfxS23H2hQLQAA\n",
       "AABJRU5ErkJggg==\n",
       "\" style=\"display:inline;vertical-align:middle;\" /></a><br>"
      ],
      "text/plain": [
       "<IPython.core.display.HTML object>"
      ]
     },
     "metadata": {},
     "output_type": "display_data"
    }
   ],
   "source": [
    "Cjk = IndexedVar(C,(j,k))"
   ]
  },
  {
   "cell_type": "code",
   "execution_count": 47,
   "metadata": {},
   "outputs": [
    {
     "data": {
      "text/html": [
       "<strong id=\"Dki\">Dki:</strong> <a class=\"ProveItLink\" href=\"../__pv_it/demonstrations/8c581377def276d6a1419602dba75f9349d4ac830/expr.ipynb\"><img src=\"data:image/png;base64,iVBORw0KGgoAAAANSUhEUgAAACUAAAAUBAMAAAD4luk4AAAAMFBMVEX///8iIiLu7u52dna6uroQ\n",
       "EBBmZmbMzMyqqqqYmJgyMjLc3NxUVFRERESIiIgAAACK51z6AAAAAXRSTlMAQObYZgAAAAlwSFlz\n",
       "AAAOxAAADsQBlSsOGwAAAMlJREFUGNNjYGB4+//O2TsbGFDBLwYGzh+oQuz/gEQqqhjfdyDhPwFF\n",
       "jPcDkNhvgCLGfwFI1B9AEat/ACTmw9Vpg4j3BUDivAOnHETMDkTcBxFfGRhCkPT+BWLOnwzcH9Cc\n",
       "p3qBgfPCPpCZfgdgzrvFwMDzuimagYHpwScglwuoxzGBgYH1BQPQMm4NAaD0/T9n7maDXJ1WAPbB\n",
       "AySr5rIIgAJHXx1J7By7gAGTAUMXG5LYbYaTBewRDDqv0UKSgYMBEzhhEQOHIgCL8jTD0TYsqQAA\n",
       "AABJRU5ErkJggg==\n",
       "\" style=\"display:inline;vertical-align:middle;\" /></a><br>"
      ],
      "text/plain": [
       "<IPython.core.display.HTML object>"
      ]
     },
     "metadata": {},
     "output_type": "display_data"
    }
   ],
   "source": [
    "Dki = IndexedVar(D,(k,i))"
   ]
  },
  {
   "cell_type": "code",
   "execution_count": 48,
   "metadata": {},
   "outputs": [
    {
     "data": {
      "text/html": [
       "<strong id=\"C_i_to_k\">C_i_to_k:</strong> <a class=\"ProveItLink\" href=\"../__pv_it/demonstrations/365d354598e29a38013d8499dcb4beb16015d18e0/expr.ipynb\"><img src=\"data:image/png;base64,iVBORw0KGgoAAAANSUhEUgAAAI8AAAATBAMAAABb6UOYAAAAMFBMVEX///+6uroyMjLMzMwiIiJm\n",
       "ZmaqqqoQEBB2dnbc3NyYmJhUVFRERESIiIju7u4AAABBACUiAAAAAXRSTlMAQObYZgAAAAlwSFlz\n",
       "AAAOxAAADsQBlSsOGwAAAbxJREFUOMuVlL1Lw0AYxt/apk1sGx0EXYRurh10L6iLg1Z0LFj8WKv/\n",
       "QLW422YSJxvQ0cHFxVJwEBxaIZuKHwSKih+lIioqWLy73F1ylsB5w8u9ee75Ne/TJACgX1UOtQLw\n",
       "1axVzC2QW4L37AbCsybX4nkbliYkQV7v8ygqcwb/jeMkgPIlxxG8QzYq/VzrWkUlsCIH8nrVD1xH\n",
       "uFbKohJMS3EEbzmFa4Np2huZLykFErwli2bjTKr+0EMPEiDmJWuKRqU6F0Ms5g124DHhC2LeXexd\n",
       "I1ubaZEXcntOo+C4rlO+IOaN9GIq3od5JiECWnCaGNH8QcxbBvYUqBC4pDdBRivA4L4EiHphTztH\n",
       "yeP5itDssclAGg5btXWr7QXpnRAcBvVCdfPegPA3wIAN24sALRzrsgmBImh3KS8IK/or0CO8o17I\n",
       "Z4Oou60d4KxOUT6TOOdMZRozLMjUT+p1k4CIMo4jTLMyZnOv9j7jeY3bKO+c27caQka5jtHC/I+G\n",
       "7qM+zb2eSOOM+ZpXBFCh8/Vwt1Fr2O30qgG650F9uqAgbf3TEhT21XK3MSO6I2jxv4djvgqABf9Y\n",
       "yj/O/gKqaX8U8wIRBwAAAABJRU5ErkJggg==\n",
       "\" style=\"display:inline;vertical-align:middle;\" /></a><br>"
      ],
      "text/plain": [
       "<IPython.core.display.HTML object>"
      ]
     },
     "metadata": {},
     "output_type": "display_data"
    }
   ],
   "source": [
    "C_i_to_k = var_range(C, i, k)"
   ]
  },
  {
   "cell_type": "code",
   "execution_count": 49,
   "metadata": {},
   "outputs": [
    {
     "data": {
      "text/html": [
       "<strong id=\"D_j_to_i\">D_j_to_i:</strong> <a class=\"ProveItLink\" href=\"../__pv_it/demonstrations/8d12c1b59c3ffa7afff98bd4d346291ed07398160/expr.ipynb\"><img src=\"data:image/png;base64,iVBORw0KGgoAAAANSUhEUgAAAJMAAAAUBAMAAAB7fhJGAAAAMFBMVEX///92dnaqqqoiIiLu7u5m\n",
       "Zma6urqIiIjc3NwQEBDMzMwyMjJUVFRERESYmJgAAAAeMT9/AAAAAXRSTlMAQObYZgAAAAlwSFlz\n",
       "AAAOxAAADsQBlSsOGwAAAcVJREFUOMuVlL9LAmEYx7/qWeaptURDQw0t4RJUS9MRgRGSRwRNQVvU\n",
       "0i1ig5D/QY5BFK5OOkTgkAiNGkZLGEj+A2FBZaT9eF65s+flMM4X7u597vnc932fH+8BePqpVK4y\n",
       "6I3QY6dSfoDDIdNnQOCTeUdugWrGqRanfS1g6I05jw3gQHcqxekQ7SjUYs4mrdE0nEpxOvAMqCfM\n",
       "WaWrkHIqxWkKVrnmqaHcRZecKkl07j5RbtDTb9r+r0SyKCaOMm/Rq8I4SsF9Tk+P+enwBzArtHs7\n",
       "W8/3l7LoCWHU6JpiOwimAZfVHF6xcGKuv5REdyAXbLTEKhoUN/c/Upz2f4sy7CCyYeWOtht4hxKf\n",
       "diJl0rslM1h/G9DDgGbmDrk8vO48l1LsKoxWjFeaqxTs3gUUbRxKWzgL1PynGlZcOpeKkXDXLyZ/\n",
       "lkn7lgkJiON4J15SSedpoRtxukVsagPb9Vq93uhKeRbo1aIotG7dOB2UTgcF6tZ4QlNSrmZsAXI6\n",
       "tsZ7TVSVk1m5gmM2KU6HvbzXqAYRTiYtKd/kiwHFfr45HT1kBqUGEl7s7aq7kr2C/X4el1nZVvfT\n",
       "VrcPOrY2Zdsb1wZU+AW0iI8CJh8SigAAAABJRU5ErkJggg==\n",
       "\" style=\"display:inline;vertical-align:middle;\" /></a><br>"
      ],
      "text/plain": [
       "<IPython.core.display.HTML object>"
      ]
     },
     "metadata": {},
     "output_type": "display_data"
    }
   ],
   "source": [
    "D_j_to_i = var_range(B, j, i)"
   ]
  },
  {
   "cell_type": "code",
   "execution_count": 50,
   "metadata": {},
   "outputs": [
    {
     "data": {
      "text/html": [
       "<a class=\"ProveItLink\" href=\"../__pv_it/demonstrations/5100ee09d15f91de5cfe9bc8709e5329f779b1de0/expr.ipynb\"><img src=\"data:image/png;base64,iVBORw0KGgoAAAANSUhEUgAAAWQAAABLCAMAAABwSA1FAAAANlBMVEX///8AAAAAAAAAAAAAAAAA\n",
       "AAAAAAAAAAAAAAAAAAAAAAAAAAAAAAAAAAAAAAAAAAAAAAAAAABHL6OuAAAAEXRSTlMAdrvvq93N\n",
       "RIkQmTJmIlRAUOjneOcAAAAJcEhZcwAADsQAAA7EAZUrDhsAAAkSSURBVHja5V3reqwqDJWrgMI+\n",
       "vP/LHlFBkPvYKdPWP51PZA0TQkjCMp2moRedp995ScI/ZSgC18b6ccJrfZDhDxmxQpXpBsr/ffTr\n",
       "REVf7TKD1g5o/QgZ89o4FAtMi44eWKHWeLsoXGJ0ALeWdZIsYaX6oPwuoFV2s/6IZYgr+sSDdqV1\n",
       "Sl/gAaXvogEImGWiBIml0gkVdqGtxhbDD5Dxoiu7nlhD+51QDanBqTYinB9ITlGJRK8uqHuXVbQa\n",
       "GK3GC5nWDCMKNhLJEiq2nvdWHdpK6qz9jOI9qQsq6oJaVRmS8bteTZGVPwkSTCChGVhboQaqya5H\n",
       "l0jx+qDiLnRtXqpguCLX5ln4O5Yws7Jm7CjHZAkX6oXNI53tgkp0aXfOIBpukWvT7GvMrEwPFoNA\n",
       "AAC+6xYrYfdBJbqstH2xDrbKWNdMG1GBKm36GakQOHYjdfMFScl76oNKdFHt+qnpUBlzXXVw0GWz\n",
       "ARRi299hbj3eNjLkeWj3qeyESnRZdIcmLSOFvNZX0iVkfqx+HVlxq103j4BcYlDLPUTpg0p0mds1\n",
       "edZspJBh1Vp45uJ0EAiK7OhqNSbwVDzfmCVWfg9Uoovq8Mw0Gmot6iOFVqXmNYhs+d2ObhKiQYt0\n",
       "2sh42KMbKupiAvCMJUrq0jLSWtTXkXWVJHIjlvv80CvkONfvEepeLae/NbPb/Regbl0815I3bGtg\n",
       "pL3Aup5IXsgRIGu9/3BlPpghkzNVi11Kx9oV4pK4XECMxRzefwEq7rI1zdHXFRzVgf4FatmhSWap\n",
       "qexvy7Vke/RDTZI09L6Msh6WvG8xyflUTH4Fss77L0D5aasGU0D1sLMfpZvSgDAZU/BsOJdryfbo\n",
       "h5okbOjtOzrD8heibT/gyanIjxp03n8Byp/4FvGtelhWmTYG9XJ4GisSfudxxzLOU0Zjw81v3X30\n",
       "qK8euOd+/08dpE9y3PR++0VGpTuVJn9GyHSUewEKcZD8SRJsGCx+GFi/zDZheb8GqJ8k5Aaqi7A5\n",
       "VAARMkwQSBDsWgkvZy5yx2SWzgKg1tuIIMSRsuQH61pQcLzxTqw61YVdq9Z+Ah1CVi9vX1BnAmaP\n",
       "znKOKJXczw/WttxO6t6IVaW6sCvZbw0HF+2iSlJEGpeAqOUF3DmriJz5/GDdYec6h7ffh1WlugAX\n",
       "jTCbxuDtW2GaItLo1mQ2A+SNbbFiWCPdyA0W2BYlw9tvxKpRXdaL36VtLN4stgxFpDHgSwvZo7NA\n",
       "7XxqltwKUoM9Om13VeL2m7BqVJdLyPtub89ZOACYL4wZsoH5BBjm08LgJAW7EC++h2vyn5GYgT3z\n",
       "wMFuAzgOhJxeMB6dxTsbvm+SwWBje7lELW/FqlFd3M41a7LtmO54ZZtaDCZBTMIU003Wm/DYBDcR\n",
       "MLeePb6Ha/KemQ3XaT8sZQdPYdWBkNPTT2OTHB9UhYONzKikMrr9Tqwa1cUJeTeuNuO/SoPAJ7yp\n",
       "ppoo3gHlutOqLlW7+B6uyXvmYB6badogzJ+QR6ozQr7Op53piw+qgsHe3W+Mo3PoN2PVqC6zFfJh\n",
       "mYwA+WGchDuy3c0u0P/4pEN/0fE9Ftu0XM+IHZCwHQKZyUcgEHLamF9MC2f64kP1YLC3Fj65E/yE\n",
       "GX0LVo3qsthk2GFo5LXHOpHM+xOGXTP7ibOQ7+Ga3IfdtefHXO83l8AR0fq/ipCd6VsjpY8GG5pR\n",
       "rrJm9C1YNarLv1PIszM0gJ/CMt9rPrNdjMatFf6iCvkersl+4DvgaYb3VQHQ1KDJzlw408ejEDQa\n",
       "bOzzZszoe7BqVBeryc7fldgc+cwTRucimqgR52p8QeJ9643v4ZqIYyQYaWG6+5jQGG6IW4Ts6CzO\n",
       "9MFzW+GhGbWDTbeEt9ux+NSNVae6LKdNttSx2SxXpRduohnjPhy0QGmO5qW3Z9z4Hq7pesZISxGx\n",
       "a7x5jewWBeS8C+cOnbM3E2FnjV6BjDfYkJ/i0wyj23Usn6zSiDXVqS77xscxPYgdEB12SAAwKbGq\n",
       "w/9YAGByx3Xfeed7uCbvGQzYIjFY9s8M3F7cyAn5oLNYqgmEwvWyXJPbYP2WvdO9QxeW7dOBVae6\n",
       "zNUMj/gi/gujt7A6EyaRbMDZzUIpEE+6qS4FrCrVpS5kwr5EvhypttOCfLqlm4VSGHk31aWAVaW6\n",
       "qNpxNf+C8ymyyROzu7eZGzbM5PW6WSiFTFc31aWAVae6rJWjNkU1ffzuqlqBmKOkfU5jeSaf3c1C\n",
       "KWQTu6kuBaw61QWMohyK7MnIB9JZisniekKdjaIQMQ2nv3IJLcZ88Tr4raDvvOAoSsCs0Z8RMh1F\n",
       "bvlLDKJxtD/dcAT7E1gusuWnjqL9kTr//EewXOrkFjnOMmJd87+voi0cQJiowAKwoZlsmyhG299A\n",
       "W9jOQOFRSJHEeQZUJbfM4/Z4UPNrLpZLvgKLHT6KQ6pElFWo5PIEqEZuGfiOWXV+XUoAEnu8ezfj\n",
       "ln0i4wlLFAHI4zwDqpFb8LhCAVX++ZWxzlZgsbyUBPkKRCa/gPMQqEJuIQPp7qTsXliWC7tsd1SB\n",
       "xebVE29pQx3JMY/zEKic3eEjIwJW3vmEXcCFCiw2NE9ZUnrf4kuVXJ4BlcktSg+swTeXv/xUj1IF\n",
       "lp2XYq7Yks73buVKLs+AyuQWPLR2S/m93/PYmhaiJXvUmSDkRUTIEs5ToDK5BQ0NbUUx2jwJGHaI\n",
       "QGwXa7akETm9hPMUqEhuWfTQip3lmiankK8KLCLDS0mW+YkSqSWcp0BFcgsYXOkJobq5uFjm0TZv\n",
       "zWXCk40saQnnMVCR3EIHZxtBKX1xslxcBRZ56hRPWFLL4k5Y0qiSS4zzEMgjtyStBRsr5Klkrqxf\n",
       "ZBnQmIDD64x4KVajEk1xJZcEzjOg6VYiMFL80S/essIIFrsGTQUWxtZJHs8GTJbtZwqTwQFx0/nD\n",
       "w0ouMc5zII/ckopEhheq5qW11F+0Jdn0QsWWTiBJShZxfE4cFFS5v2hLsumFii2dQKIQuSIxjb9K\n",
       "/KTeoi3JphcqtnQCSfiaEn3fpQrLqbdoS7LphYotnUCw8Av0ZxS1FwU9+BEslxK5BX8Kt4Ss02+9\n",
       "ZvQpdVMW9GsruJDP+Tc1s/ylMua+jP8H5R5pO2zlitQAAAAASUVORK5CYII=\n",
       "\" style=\"display:inline;vertical-align:middle;\" /></a>"
      ],
      "text/plain": [
       "ExprArray((A, B, C, A, B, A),  \\\\ (D, E, F, D, E, F, D),  \\\\ (G, H, I, G, H, I, G))"
      ]
     },
     "metadata": {},
     "output_type": "display_data"
    }
   ],
   "source": [
    "# Unable to format this in an array form.\n",
    "ExprArray(ExprTuple(A, B, C, A, B, A), \n",
    "          ExprTuple(D, E, F, D, E, F, D), \n",
    "          ExprTuple(G, H, I, G, H, I, G))"
   ]
  },
  {
   "cell_type": "code",
   "execution_count": 51,
   "metadata": {},
   "outputs": [
    {
     "data": {
      "text/html": [
       "<a class=\"ProveItLink\" href=\"../__pv_it/demonstrations/118ffd019a5d654b36b30b7a3e9b080daad555760/expr.ipynb\"><img src=\"data:image/png;base64,iVBORw0KGgoAAAANSUhEUgAAAZUAAAAyCAMAAACj67brAAAAM1BMVEX///8AAAAAAAAAAAAAAAAA\n",
       "AAAAAAAAAAAAAAAAAAAAAAAAAAAAAAAAAAAAAAAAAAAAAADxgEwMAAAAEHRSTlMAdrvvq93NRIkQ\n",
       "mTJmIlRAUMakMQAAAAlwSFlzAAAOxAAADsQBlSsOGwAAB/xJREFUeNrtXNu2pCYQFRAEBML/f21E\n",
       "5aJQgHbP4kxyfEhcVlGNFNRlu89M07gLr9PvFS+BxQ+YxazyZ/q/vvS1F1zpeLfMPH+GzF+ytuzt\n",
       "yAVVhIaOfjFVeDFzOkpha+ftYkCMa8nfT6rTMLOPhgqEN4ma9PZ+SFXs8nnwbiP5WRbRUQQf58kC\n",
       "q9OSv766DBtrnwxFBLnQZCR1HmG1MEXVUK/QwkmWYUraHuLFyrJPG/L3m6XLsJyt7h4qMD3dJPdR\n",
       "qmbZkJGpRZHSZovic78pWw7DLfn7efUY5poXjhI0lIWFXo4XrC48kwO9Qgqp3sQANlv/RuWapSV/\n",
       "X4J0GNZoQtb0DuVRdT1WnNWi1GLHlaHIFvaL5LcQLWZaTSuw/MO0UjcsXWJRnUO1jXWVWDtSOhuX\n",
       "8Gnpp+MeWi1GCM3+gbhvn5b89XUzvD0o7Gbj9HhzqD8qqKf6TCuJUZllLVY41MSjpI/Ud7wiR9lR\n",
       "q8snodjLM3wxvM1pLR2V7QTMzaGngTwiGVLt8L+dKvujd3FeZAlQDPEbrRxIILnPlCtC7/qx1g+7\n",
       "1cdSbjUY7hxKkhpa+D1Zn8OoVpLMda/4nQhVQpAcf9olt37YNYSHIu0cSqMLzHopxeAyUA8KYMUq\n",
       "JESwIJ/t4jCKGRp/l3/qlavhzQPSlOKXmyupD436cY1539yEHdNJovJuwOgmXy3bN+ee/0Q+/iIv\n",
       "eqUrcYqyYeeBs1iPGou6QC7g0CDR4ehwEbCZ/JfbkeSPY3SY1EEgRs6T7sAJLfYVFpYlfVkuL3ol\n",
       "DIqj80eJ5YvhSYiJy6uG9jPHuxPAoYnkLKKX4JTYAaTvVEgsCBPi8DNMCX6wusx+hDVl8eOYzRxg\n",
       "PpOeIeph7rJc4u0i7j8qOSthEA0tc7iLN6dSZjgU66eG2BT2RTfuhleHhl+ehNyWViZhjYZ7WoTu\n",
       "eVhW7zX0wCtljK4jYkAYU7l1E/bovoyAzIkVzCumJ4bBSj7UghrwUFCiaUNJ+cy0+K5IPIBhihhd\n",
       "V04FCpwybrfFdpkmS0he9ArvmRCotJKWBn9uVKqGUlgf7t0j+luYMkbXdcagb1u45GUxI12b2SlP\n",
       "vaI5s3tr2fU6sJKv7gR6PBSUaNxSCrHkyBCoDDE8wug6LgU6U1TiZ8/64jeDKkoePkHPh4KSdOeh\n",
       "ete0t6q+6ttciGaxcu4AH3eH+CymleNJS65yjC5KUh09c6SP/bqfWTE3CuPT1Z9cX0XB2bKSP9AV\n",
       "dAT9EzhYLN0KsLBY0p1dNEnqAt/MNudsq80nvJV0nOQYXZQkOovDs7HrJPgB/Cgba4yfwOVouxjJ\n",
       "QfMkLGI3oTZQ2q2hcByU1RzIsrJaTYwmtXbE6KIk0RE7SOf8uplw/9uKx9ju/hVeGXdRmqQVfnab\n",
       "LurL0KHuuQPZf8SUIgEJRrcGSbzbVn43z3cTxMUlEoLTbH8Xvu4VkgQynRQFYQ2XfWO7bnxJtvgV\n",
       "o4uScLc3iuKo7PaHCXj/65UuryyhgUDCr67eEYftAO0L72o1SSGMLkr83fGR4Ewl+7lDZOqLYPp/\n",
       "sfC6HcFC36HnvTxdjg8gewrZv+4rRwCgHMLoosTfiT3uzWwyLuc7q3hOEIXKnP4Wnt6HV5Wsd2R7\n",
       "/w1g2b9wGLsKSY4qa1te7OoAVwxEhPqG0UVJvHPYlKFyP1RydodPJfAq3BR5nh7C1uKtLsRz5kEY\n",
       "tAsScvkgWLHVrfG+EgZM18h6ZN76CHYga5gcYJiQCE1GKnP04StC3BlcaGj1bhhdkCR3W8PNVz2j\n",
       "db/nKPnMUOkiU57eicypQqcKg3Zecvt6XrHVrfH6AkxXyHpNkptk35kaZynisrQxogAGyayVg0G7\n",
       "QHJQSxFYkqQFzcmvN46QaZisJ2wLvaP8Kw4RxKTzBE8vycPckmnDoB3yEqOvj0Fb3RrvQxhkGiTr\n",
       "rS0+hfjCiXbc1Sv/HjyhCU8P25Cr7hsDBu2OQdtTU3hctNWt8foCTYNkPdNYdMMs+3jvGIXkNWRR\n",
       "KCwmPL1AIlkzks8VtMtC+KoAXKlkq1vjfVqBTINkPTSGTjFDwZvlaWXLkvyeVi6g3T2taKbBiHDY\n",
       "ykl9bY3P00p4EX/AQcraoC5bQW1kytNbwxyXe1pZrx/0EslWg2bsk8xWTupra7yl/RVexH9xBcl6\n",
       "j77Sf7MsAQJnwtOL365JMa140O4qEVMBzq/Yaml8TPur/DhE1tOjyJMQtybh6eFwrlQxUOtCCban\n",
       "FWHAyK6gAgvU+Jj2V/lxiKw3iqUHdgUJT+9ccZEd5xy0y/oYILIftnLSX0XjY6/cXyQh/kEW51GM\n",
       "1gXoIxOe3hl8sSdtXdNKAO2Kkuvjq61A6hNTS6Polce8v+uLyFj9KyB9DGN/J/SscrF4wp6L10v4\n",
       "bFfQ7kKUS4nW2ePTlif1XVh/RY2iVyokvwITMHuRQPy7tgFdpdCwKuzK08NYhgjreXJ30C6R7IPu\n",
       "Awq2zgN5Z/3dNcq0vwLvL7+p/HhS/dNyvKAD/4yYlDcK/CdWj+lwTVIfaLFK+/uU9xeIf5oCwX3g\n",
       "BybgsMCQ3WM6XJPUx6eWRtErn/H+IvFPlutBPPQv7ll54hjYKY/pcE1SX8Vihfb3Ke8vEP80Bo7K\n",
       "UKbJWv4jXYin95gO11y8rkoHvxtWUfJpBdh+dPCnWIBnrtH0g64v//F7JP4BZL3R/2JI+V/X+Y9f\n",
       "LeLfwsbPkZnp97pEdfYT6Iu//2rbNadGp/wLz4tOT7ET4mQAAAAASUVORK5CYII=\n",
       "\" style=\"display:inline;vertical-align:middle;\" /></a>"
      ],
      "text/plain": [
       "ExprArray((B_{i}, B_{i + 1}, ..., B_{j}, A, B, C),  \\\\ (D, E, F,D_{i}, D_{i + 1}, ..., D_{j}))"
      ]
     },
     "metadata": {},
     "output_type": "display_data"
    }
   ],
   "source": [
    "ExprArray(ExprTuple(B_i_to_j, A, B, C), \n",
    "          ExprTuple(D, E, F, D_i_to_j))"
   ]
  },
  {
   "cell_type": "code",
   "execution_count": 52,
   "metadata": {},
   "outputs": [
    {
     "data": {
      "text/html": [
       "<a class=\"ProveItLink\" href=\"../__pv_it/demonstrations/be6a3bd90197b46662d0d044c3d3741e8ab2d96d0/expr.ipynb\"><img src=\"data:image/png;base64,iVBORw0KGgoAAAANSUhEUgAAAZMAAAAyCAMAAACu9casAAAAM1BMVEX///8AAAAAAAAAAAAAAAAA\n",
       "AAAAAAAAAAAAAAAAAAAAAAAAAAAAAAAAAAAAAAAAAAAAAADxgEwMAAAAEHRSTlMAdrvvq93NRIkQ\n",
       "mTJmIlRAUMakMQAAAAlwSFlzAAAOxAAADsQBlSsOGwAAB91JREFUeNrtXNmypCgQlX0RbP7/a0e0\n",
       "2IQEqqwIe/peH2YqzASRJLfjub0sj114XX6veCmsnl8ENfU9+6/vfOcFV/a4Uais76EtXz7/B20i\n",
       "ECzb2MOLM40d3wozcVcPws7R/eKNsKcQ3iVmsXJ2xIz8xgu2Z0YGHiLpsz5Mai9WhZk25xrjCD6d\n",
       "zF23EBHkXX/TzEyOmJR/frVn5p0IxcyTNmENH9bFijR1tdmsO8cJpy8Jkr1eXF9GQSNm5TeOXXtm\n",
       "03nORh5MKYa0zlXhx1Y2Tq553TOutCmPLyPI3IhZ+Y13BGbu7TvXz9mENBL8locuixbktrowcMEG\n",
       "hTfIpLrqqRHT8htFDDAz7wQo4R6rPJFrnBWd20n7hGKAEK0oW8sokSoWtc6MmJffTSf1zN1Mzh9L\n",
       "86z15Pz8iP3cr65yptVhhBC9njQJx53LCGXflH9+VWtdOxVnVtk8lFHWZo3DtsJN9tNPa/+yZyos\n",
       "jcJgj7+MkOhN+aIM/zQWXNYa/GUjvW7+62ltNtI2V0VEeh+s9V534QqNIcExCqOSrGpWUyOG8pCV\n",
       "VoQ+7OTAJ6+uO+yhxpHQvk3UeVZctbzgOZdShqW33NapEUM5vt1dg08WpF+t2WdCV7PySLHrdUgZ\n",
       "gQZSJ4pDnd5D9kYIRJdJ+W2bXNaqkN6mJlTukb4RtY8CDudJmAJcUdXA1fFCYuNRlKozYnc/NyVv\n",
       "2mQq94Jr1anUN3jpzUjuVV4fooSYdNEeG8T4eC3leOoMX85/4hNJ8iqbhbzcL0dYde7vSN60SRxU\n",
       "/2jduqxVqUXqS82fKbcSCsKEeAQPM4Lf2Fzu7uBAlbefG4adO15j8z/88tkLw6YR1AtRgEV0W+l9\n",
       "+Vpc7lcjXq7Yl2u8X8T/x+R+Eh/GwubGH9ktcK2p1GeiWn5Z2MeMxIN15ve2jRKO/RtClqC2bQPD\n",
       "BiQB7iv36ihH8mY+2WaiF6wUArZlfWUTcqUI/Zl6A3BpooQz2Q8owSF0ToJTyffu7yFdT8mbNpEz\n",
       "LwcqrSEiZ0ir7G6PDMZR8y1LGyWcca8NSjRNE8NLgiTgfYrsjDyziZXcnY3k1M7ASqGks3igHMPI\n",
       "mRlQhgCME3wbJRxfBrSkagZOeC/Qm/dn5YWfvDGopxTSSXbuUL+xOVrmUIMqhKhapfSYk/+FJFXL\n",
       "KvFitTQNlDCKch1LJbLorMzNcQYHpfDLzn/J9V3MnIsQutA42r/gC+HYXnSFvdLe09CimY94lO+m\n",
       "2fdaLngv4iRpoIRRlOkID1BjX+7LE+AxLhUWavlhl0Z6/p0JT5hMKAiM9TuoPK9k3U7weG/4zcJZ\n",
       "jqcnlDCKMh11IG/eqvsU/n97dZi67h9nk7cuxrJ0Is/e0kd7HRvlI2Ug90ctRdOfoYRrEK1JRx8T\n",
       "MnlMQXxEIjEsUfe7712bkCyE2VQKxB0Ux6H2nbfIj3eJEkZR/HG0heos5o6bGTz/a5MZm4jYMSD1\n",
       "2lt74AG77xy77sszzeoU+DJpFIUf51eAVwo5fA6RZSp22R+y8XYUu2KfYakvSMX5geNIHcdHe+M/\n",
       "67Osw7mghFHEIpTjIx7ly+YzvU86mGbgAbwgtP0Qm3S4d2eOD98fhP+EsblVaXIWVvvmYp/8fQWQ\n",
       "weMXlDCKko4HjjamD3/S1DueyRBTsAcKpDuEncN7JYgpYL6hwo1rYu6OCgwdRgnxBRDMvSN0bxz4\n",
       "iZdhcoBeSiO0bNpsZ8+9IiT9gwVLnd0FJYyiTIciuVqK1uO3RDnrqtMzJqD0hb8ZsCsdKty4Jubu\n",
       "qMDQYZAc/SPIvRsRzfSXOLuS59iKgJ5mKtBHkwFopsnXTTIxd0cFhg4j6cOIDrqn3ABYY/Ir5lBk\n",
       "y5cGuS2p45sAlIcKd4LXeO6OCgwdoiDZjqABcO/WAUtCfSEyeBZqyaGHnDMj3eFQL1vg1AwVblwT\n",
       "c3dUYOjwHLTf3QoE7LoL/T3fuOO3T+FmkC6DFQMCYka6i5SV1dEeKAQr3Ekn47k7KgV0WKeTNUoA\n",
       "7h16hCRBgTDN63SyJ9EDXbCggwMK30gnr7kbWHmtkqWTHDqs0onlUQIQx55pqQ3QNCbiSiqXT9ZH\n",
       "gyo3UPicK1fN3fgAWqtk6WQtviXmkr0Szrg4APfura/vXzyI7YiZCF44fZMm/Xh+VbjPlRs/vKtS\n",
       "QIcXiVryjwBt7p19iAgJ0GWSTWK4NkDlAyrc58qNH95VqaDDMp2odBzb3LuHOHdQ3R9jVwzX6nDk\n",
       "FlUOUrhvk8vcOVsOUinSyQU6rPuW/gLpQ9xU0e4aI+kuhmvMF4Aq11Ro22Tma41agLkztpwCVTJR\n",
       "AR0W81bkBdNMHE9xuDNmVJEEaRGTF3GqtahyTYW2TTpkuRZX7jJ3YsuBjy9EBXTYmrdZ+o/rn6cq\n",
       "r5N0F/hqGGtbOtCF0HZVALhyPbJcxZVrzB1rdPjxQXSFDtMYdQ4qUgVrBQv23J/+kmaDDJDuRlS5\n",
       "AVduiizX0wlZt6MDiuAxzXr5wb+dAxwFgOVGVLkBV26KLNfRiWw5+cFweIxuFXX4yb+Q583FAqS7\n",
       "AVWuz5WbIsv1dEJR19GBVwaOsbjpJk/SR9bmn9mqbg87U5Hgz4b1dALkgz4YDo9pHj/27GfWNln8\n",
       "Nunu239fnthyX3592ys8n7qoXP4H11tsubtt2/P/6A//KXyI2XDO/wIu4u+/qVbk0mSS/wBRvE5P\n",
       "vBJq0wAAAABJRU5ErkJggg==\n",
       "\" style=\"display:inline;vertical-align:middle;\" /></a>"
      ],
      "text/plain": [
       "ExprArray((A, B, C,B_{i}, B_{i + 1}, ..., B_{j}),  \\\\ (D_{i}, D_{i + 1}, ..., D_{j}, D, E, F))"
      ]
     },
     "metadata": {},
     "output_type": "display_data"
    }
   ],
   "source": [
    "ExprArray(ExprTuple(A, B, C, B_i_to_j), \n",
    "          ExprTuple(D_i_to_j, D, E, F))"
   ]
  },
  {
   "cell_type": "code",
   "execution_count": 53,
   "metadata": {},
   "outputs": [
    {
     "data": {
      "text/html": [
       "<a class=\"ProveItLink\" href=\"../__pv_it/demonstrations/57b19567a4c8545ac129c8f1bae1b0d813f885d80/expr.ipynb\"><img src=\"data:image/png;base64,iVBORw0KGgoAAAANSUhEUgAAAeMAAAAyCAMAAABYvEM0AAAAM1BMVEX///8AAAAAAAAAAAAAAAAA\n",
       "AAAAAAAAAAAAAAAAAAAAAAAAAAAAAAAAAAAAAAAAAAAAAADxgEwMAAAAEHRSTlMAdrvvq93NRIkQ\n",
       "mTJmIlRAUMakMQAAAAlwSFlzAAAOxAAADsQBlSsOGwAAB/hJREFUeNrtXOvWoyoMFQQFFA7v/7RH\n",
       "8AIqIQp17MwqP2ZcX9IYCISw2W3TvNfo0PzaU01S+QVesPH0J/2Lza2WG6+Bvx9kJk5/IuYXtlut\n",
       "Jxmh4W+7N3Znp0LUJaGMTQtdi3QiyovLE1ze7kitneSsA3cZXKNixBK2yZj5gGAvZ5n2lGdkiDpp\n",
       "iUs0RvFkHxBxccPttnTOQRYMIa5R3hK2u1xC/vDw3G38nGXUuJULfOmEsjpVTWTFFVUKalfb2e3e\n",
       "qqZUo2JdJGyPudeY9s0teWwTs3Sbm5trfUINExe3C3bHZQWNlhRrVAxaynY2jJ16McbtecMza6oW\n",
       "diu9hoSPiLi4XbHL7DoddLFGRZWast3l8nFv3zupEHuefUqsGSnUg3JIJKysuCIRXrA7b4iScWQ7\n",
       "zmnUbscH2/nCqnuv7OKJV68TUhyznNT75ZYVVyzjU3I9hWmwlBDCwtIp0ChvB9tLvxPnkzg52rd2\n",
       "5CFVdPIlVfJjfhG7wUfEvvf5fgPT7pzWTmuRzDqmHcs1ipxL2V76bbI1iXygLLi4saT8avvlfxu5\n",
       "mFADxesmOhBScPpHXusbbdc1P9zVqHMuY3uw+Q+9BYS0LBNjHpw2qeUOimkVwoO81jfLGqRoBjXq\n",
       "nMvYRs4W40tV12BTteCaq6PDqavCerKfELC4bhgPdhtJlIH8Zra/q1Ef473trd+IOWnfwUFIcm5R\n",
       "sj/pT2Mt3TA1vmyQRyBgL04O46VyQybtuuS6HObkye/Bdjc1UjG+5d3Rduj3SPM7TFtXWevC6oEm\n",
       "08t2CDDz1Ov9WGvpx0TarsmIk8MYPrM9ZR72dhspG6H2CtO5dMmOHkC8oZGcgPe8O9gO/V6PnDvd\n",
       "xIZMaNs6MJ7ylt4BhmzNOe+Ui7ZgSTU5o/rd+ubhpiwhVnRqrftnjIYxfIYr+GFT2tvdDnOrAtuu\n",
       "BMw9jbRzN7072V7THt8c5snLRLEFaZ0D5EaMjS2LsQSg3DRsIO2MSBjZ5MTJdGiu5ENQad1RYCvX\n",
       "NVL7cZV3a781R3RH26+Yl1jn8o0qhZXVbANQlabh9WlHU1shBIuTw3jp5hFSGlpE4Y5GKsZV3q39\n",
       "ViOiu422WIMtrx+ZhRZl92fGAlQAmpoykhGdcWwRx8OoRWc9QHCpM6DSWrjCVq5rJJyr9G7pt6aY\n",
       "7pY1552V3MHeNJkqvSLexghNDZnZKC4MCC34TEZpxQxhK9c1Es5VepdYFiR/rLbOhX67vyWEyUEI\n",
       "42CZ6YkIJptB0EYrMUbAzVKJBkmko5kgel5MPp1IhhydlnlT0T55CdX1Q/tRjWcu+ciFzdLSZTvm\n",
       "U1G9Db1ySYY0irsUz7op1FPsREOnMl2sXvduAsy7eJCEp95df1F3hBMzojraqNL7BsYgMl+Iks9r\n",
       "/BlQsQsI6FahjdqFRDre5GDm26nR6rHpeHQaUx42cLIgCU/S4+ZukkwW3H9T7R8hSt8f43+ocR5t\n",
       "x2LBStxuqTYEx++5xP4nmxgVI1Spqa52gRs2SXhS3iAX3kLrMnAb0jCzv4H/kzFuo5Sto9JsC0nv\n",
       "F51Dpvpo+S16y7V6kKxPHuWQc7Hu/xbfJv5i/EKM++3ASuQaK+2huGlx+zC6+lvxU3mzTJEgUStO\n",
       "R8IW7FMCieoTLFf/iPT3mr6Sq7dzrmb+BNPPF7x+6/Wsr9ERw3g4Yq8V+AJmBsnyJH2CZ11jXOXl\n",
       "jFIWo2tZr3ZEegwSL4XM8YHr/poY9+RCzbVenfb+CtfYQap2rpynaFFXjbmSzG7AqF4X5VyKB8n2\n",
       "5MBUw5Vf74q5vBDv5VnoxOzQGgwS757K+znDGFH+MSI9YDhLpHcXT5J18wdpO4PWUhHSGDWaGZMa\n",
       "CBEukj3fkApr/bWKcQ8ikkQ6jIhBMzL4Z0F2hOUxF2PZ7SExi0BmD8UYMYwR5R8j0qcNZ4n0KNFb\n",
       "fSZliW43fn3mhbs5iUHipZA5fj7OGsaI8o8R6QHDOSK9tBguzsUnwivbeI8dctSEHXaEQeLFkDnq\n",
       "dN4wRpR/jEgPGc4Q6QfMB2mrv0novvRy+IpiZnabeMFjkHg5ZI4tF8QwRpR/jEgPGc4Q6Q0yQqaz\n",
       "XS0dyIxEHXIzhzcAFc+GAIkDyoi8PFMjhjGi/GNEeshwhkhP3iHtMRjMj6dUBIknmfKYvPwwEhvG\n",
       "ifKnV2Py4gYy9DOc7ZcQpxEGQbjZAy16vRkTJLXacvJysvrOME6UP70akxe7BjL0M0T6W+ytz7UB\n",
       "3iLakNYjSDzd4bS8nqyOvRil0kPyatfAF8NEev3WFyVgPmiI8R4ST5SDgLyayIy9GKfSQ/Jq18AX\n",
       "w0T6tzj0jWrxXL2DxI9E+oy8eiD3WDxKlD+7BsprXYMZ+rA99tZ3YXoQBaHbfVcMiZ+I9IA8OZA3\n",
       "ueoHLB4jyidcA8ju9a7BDP0R3Fhe+05b4A+fwIdl0u8h8TORPilPDmSCj57jqh+weJQof3YNIrtX\n",
       "k/wzDH0l7pe3r1XWM5H+BIkfiPSAHGHSh4kFctXPhnGi/IHjn5Z/gOQPc/hjIv1xMb340z4tNPGK\n",
       "iPRPMukxovw3uKY5uCm+eBkPLuQiIv2DTHqUKP8NrikIk6Ov/kJXB3leQqR/kEmPEuW/wDVNwWX8\n",
       "KjtygOD6SiL9p5n0F4jyr7tG9QXU8I0Gfnuujkj/WbI6TpT/AtdAIv3bv6WY/E3Ur2tfQoMvc63/\n",
       "Akpa9/uV20d3w+4bpufvN8ofbDKE+H/Ub1gy9BsvzwAAAABJRU5ErkJggg==\n",
       "\" style=\"display:inline;vertical-align:middle;\" /></a>"
      ],
      "text/plain": [
       "ExprArray((C_{i}, C_{i + 1}, ..., C_{j},B_{j}, B_{j + 1}, ..., B_{i}),  \\\\ (A_{i}, A_{i + 1}, ..., A_{j},B_{i}, B_{i + 1}, ..., B_{j}))"
      ]
     },
     "metadata": {},
     "output_type": "display_data"
    }
   ],
   "source": [
    "ExprArray(ExprTuple(C_i_to_j, D_j_to_i), \n",
    "          ExprTuple(A_i_to_j, B_i_to_j))"
   ]
  },
  {
   "cell_type": "code",
   "execution_count": 54,
   "metadata": {},
   "outputs": [
    {
     "data": {
      "text/html": [
       "<a class=\"ProveItLink\" href=\"../__pv_it/demonstrations/8f1752ebfbe11e08117ef85ba8c8b4c5d4ea60640/expr.ipynb\"><img src=\"data:image/png;base64,iVBORw0KGgoAAAANSUhEUgAAAOIAAABuBAMAAADITNJHAAAAMFBMVEX///8QEBAiIiLu7u5ERES6\n",
       "urqYmJiIiIjMzMx2dnZUVFRmZmaqqqoyMjLc3NwAAABb1yYoAAAAAXRSTlMAQObYZgAAAAlwSFlz\n",
       "AAAOxAAADsQBlSsOGwAABN9JREFUaN7tWl9oW1UY/9o0N7dpetuHqnvQrbAHB3vYHYxp9cEIg0mn\n",
       "tp1PgtCgQXyRRFcY1j9N9jJhDwn6ICjYomWTjJq4wRQmejefxcpmfXN3rDAUJRHarm628ZyTnDS5\n",
       "535fLqTK1PM9nHK/3z3fd875zjn3R34F4PYb/NN2DYeMsduFhSdwPDRVOG3lMXSqOjo/6qr+WJUY\n",
       "TVccoJhB4VeOQexcAoU32Jj/VN19RRfPWE4DTJYw9MAe1nyNdjdvseYz1f/hLD4HSDEslcbQ723W\n",
       "TKCdI+usmVSWwErPOHjGIo+LTaJXrNgptHNPha+SUuY++A4vBAwBPLIHXfJh3j6Mdh5gmwByc173\n",
       "c5BrGoXpqcTK8eklFJ1N+/ul5TieUuZYgnLTKLpbaxrZBLiUgNDLvug+t7nX80q5Z7i7OG48WDtJ\n",
       "9SCRIxeLcbwSg6xa63DyVV90l2hteZDGvfgYb34HuEc8ySAPseUexivBpm+wPX7ZF90njrOcd1nB\n",
       "V/gdsgZWpfZ4WS4qdA+CceHFT0T+Lz2VYJsquipf9qLiJPZKf9J6zec47o+DEb+Z38oYZiH7K3Bw\n",
       "0j0h8n/rqQSLmVuUL3tRfj3Au9J/5tf9rnocn2JDfuubnVsZr/NibcKNabEoIfsDzxFnY3rArr+s\n",
       "oLE1gGdt6b/P8WxZNhM4ytaw6w3INDIeqF6B2NhGHg7DJfHWUkuf+WqhcNXZKsGSp1CPjp4dl37r\n",
       "zhetYJR9BQ59xZfiYqa5jnXbAWfF303/HVR/GUGF34gftfzRZHjYVTJam9ZuGGHFHkQzEijzj0A0\n",
       "faLXHz5jDudDeU9G48fXbcg6EJnz7fPztfcIlPuzTo8bfckffhpOZ8z7RZCmy1VsXwf6iSsWR7nf\n",
       "afPZj3meu3mHsP1DFu+Co9wftttkfMbzPHueLy18fp4gICjK/UY7apMAbf850wxZM2TNkP9NDHnk\n",
       "/Y87Z8gySCCGXIJznTNkGSQQQ16FcqZjhiyDBGLIL9Re7owh14MEZMjwzjYw5FqQgAzZ3L0NDFkE\n",
       "CcqQl+1tYMjLdnCGbJUst2OGLIMEYsjLb5+yO2bIPEhghryrWu2cIfMgmiFrhqxNmzZt2u4uC22Q\n",
       "8GOL2w/vJft0l/5GWJs2bfoG0KZNn0d9HrVp0/Y/sLtJf0zyX60z1BeA0B8jYyuFQ5/6IZT+OAQQ\n",
       "XScykvrjAPtmpBwfgNAfrVsA4Tt4Qlp/5LJVn98P3YT+aKzX/ukJM1p/5LJVeM1nHoT+GK0A9O9E\n",
       "E7bRH7lsZf3hs6iE/tgVh9BH+M5poz9y2cq8rfop/TF3+PhC63BacFp/FLKV4TNHSn+ccSF2byuD\n",
       "aMZp/VHIVtFV1U/pj4/zieCrSuuPQkUeGFT8pP7Ii4Ar5W30R6EipxKKn9IfTb61i+PGhZPTkWRG\n",
       "xWn9kR/H0JD0N4KQ+iNXkc0NODiR6JqrKUitOK0/8uPYsyj9jSCk/tjPLoyJK3DjTRjICJ3Jg9P6\n",
       "I7uuw3sbfhmE1B+5gLjwJB89ZGs6k1eBpPTH+Wph/oi75W8KIozUH3fAFJRNHCf1R+lvCiKuOkp/\n",
       "tCpsgMk+XJ8k9UfhH2kEaQyE0h/Dc/AT/HIMVyBJ/VH4s44M0rhcA+iPOB5Af1TgAPojjgfQH1U4\n",
       "gP6I4wH0xwb8FxKeaj6avzEQAAAAAElFTkSuQmCC\n",
       "\" style=\"display:inline;vertical-align:middle;\" /></a>"
      ],
      "text/plain": [
       "ExprArray((A_{p, j}, B_{1, j}, C_{j, k}, D_{k, 1}), (A_{p, j}, B_{2, j}, C_{j, k}, D_{k, 2}), ..., (A_{p, j}, B_{m, j}, C_{j, k}, D_{k, m}))"
      ]
     },
     "metadata": {},
     "output_type": "display_data"
    }
   ],
   "source": [
    "ExprArray(ExprRange(i, ExprTuple(Apj, Bij, Cjk, Dki),one,m))"
   ]
  },
  {
   "cell_type": "code",
   "execution_count": 55,
   "metadata": {},
   "outputs": [
    {
     "data": {
      "text/html": [
       "<a class=\"ProveItLink\" href=\"../__pv_it/demonstrations/ccc1d10682ef6d6cff4184aababff9953fcce50f0/expr.ipynb\"><img src=\"data:image/png;base64,iVBORw0KGgoAAAANSUhEUgAAAvUAAAAuBAMAAABaCvt7AAAAMFBMVEX///8QEBAiIiLu7u5ERES6\n",
       "urqYmJiIiIjMzMx2dnZUVFRmZmaqqqoyMjLc3NwAAABb1yYoAAAAAXRSTlMAQObYZgAAAAlwSFlz\n",
       "AAAOxAAADsQBlSsOGwAABglJREFUeNrtWk9oHFUY/zbb7G52N5McpBTxT8RLIR72IC31YsSDAYU0\n",
       "BDwUwYVGEES6aDE0It16SUEhwYOioF1UCARKlgoFm0sMHrw1pSJ4MSsGpEqboK1NW5P1Tea9mX0z\n",
       "7/tm3nPebT7YJZl9vz/z293ZndkfgDs3gRhnHQwmBmVB8Sb8/4lVNrNGATco1OC2iVYMyoLiRgrZ\n",
       "xyqbWSOA1S6FumokR6MsKNKUqbg2DoMAVpY7BOrKnokWjbKgSFOm4to4DAL4xYUmDhq4sWMgFYOy\n",
       "oEhSpuPa1BoBdBpnV3HU78V/DbRolAVFmjIV18ZhEMAKXK3jqHb1HwMtGmVBkaZMxbVxGATwFZhf\n",
       "QEH9q6V7+lIxKAuKJGU6rk2tUcA2bLUAjux/Ac2/GXk9OffF5vynS7Wkr8IAhSlyNkTx2GdfaSn2\n",
       "UpqOpxwMYi0Yz6QBs5jiiyvLY1CaGXH/mXsr9OjplSu3xeYKVEZ6re2yu2fXxR2GwhQ5G6LYhkuE\n",
       "4v4fKGV4fIRvNvgvqhwMYq33Cb+UyF0EKOYowBBzXPVcr8kP5hsAf4nNQ8cd6dN6lN362uIOQ2GK\n",
       "gk2teAe2moTiKEkZGh8RmB0lXAezFrPAMxnvLsrsP3nQN4xlX2G3J8TmQs3ZSfgW60VdnntXpSjY\n",
       "1Ion93crsaJE+cbrM22jQ86+MkO33hknwggWnJSzT87MHfbXvRNedfYv85N1vnlgJNFeSKgjk/Wc\n",
       "dNojFDkboggfaShKlPnXDsJjBtl7yi76YZjFw+hdwE3qMguHv7LbgT0ke4e9IWCi429+P9FHmYz6\n",
       "7T0YkmBCkbMhiqUnNRQlSufoOvxtcIbgKbvoHfgWD6N3ATepy8wdPt29DtWJ3QVl9vmJ3Rp83/1Z\n",
       "bHaeTyIVRi3CZO/DviJnQxQ3a8kVQ5TlRv+wdvS+crlRGoanCGs9CzZrZswhh+pjjvyp8yfc0tof\n",
       "D3UIVkqqRzmbWtFpOx19RW95rllpm19gyDWLY852E7cWLOAm9ZlDDln2+QUq+2PgjJ//Rjd7htqG\n",
       "wz+o0mVsuOLm+Q9q2oqccgv6PjTPfou9KgtjbdxasMA1acQsO3Q+v9coPQI3Nj5RodzN51Zz3a7W\n",
       "JVQP1d+CM6rTfZcNV3y829VX5JQnoPix+RnWCRjsOIs13FqwwDVpxKxwWCWhZteqaJQFxSqkM1Vr\n",
       "QkrgFPk9zuh0PQZlQXEqpeynrAkpgeSVwIKRTgzKgmI9pezr1oTScphNNtlkk0022cTNdHdp6Ufs\n",
       "NLAwcX/p4rj2lxsaZUGRpEzHtak10t1DAGX0KnluDGBZe6diUBYUScp0XJtaI9w5d9lZzAP0GkQD\n",
       "4FXtXyJolAVFmjIV18ZhEO4K7Akp3MVgp9jTfKqhK0ajLCjSlKm4Ng6DcFfeBhhEf+dZZrdrHV0x\n",
       "GmVBkaZMxbVxGIQ7dhDLf9kkjlTPHDY5vhEoC4o0ZSqujcMg3M2/MHMRvcJQuj0z+5O2VgzKgiJJ\n",
       "mY5rU2uUu7MdqB7EulHFPYDv6rrdKAmFKSLdKI7V7EZJlIbDlYNBrAWTtBvFI47Oc+x2oYl0ow4M\n",
       "Awzs6HajJBSmiHSjOFazGyVRhidhN4orB4NYCyZpN8pzp3DmltXYh7f699qhlvcJrdeNklCYItKN\n",
       "4ljNbpRMGZqE3SjhOpi1mAVJu1E84uhBzC3ILh9Hsp9nb7HyHd1ulIwKd6O4ItKN4li9bpRMadiN\n",
       "4sp4NyqyIGE3Sri7PDdbnG72ROIexEq7WE+BHalgfl23GyWhIt0ooajuRgmsVjdKojTtRnnKRDcq\n",
       "uiBZN4q7c4NoFVs9kQyyg9jkdSz7a+yE7NGaZjdKRkW6UUJR2Y3ysVrdKInSsBvFlfFulGJBsm4U\n",
       "d+cG0awsBJGU3etDLwGS/dfuRaBV0OtGhVGhbpSvqOpGBVidblSI0qgb5Stj3SjVgkTdKN/dIpyD\n",
       "vlVFJFk3SpwIWetGHYLTsFVSRJJ1o8QFM1vdKBbEIkxXopFk3Sgx1rpRLIhf4I+3kUiybpQOj7GQ\n",
       "creybpQOj6mQerfIq1FZNyolIbFb/wEZVbh1Mj8FdwAAAABJRU5ErkJggg==\n",
       "\" style=\"display:inline;vertical-align:middle;\" /></a>"
      ],
      "text/plain": [
       "ExprArray((A_{1, 1}, A_{1, 2}, ..., A_{1, n}, A_{2, 1}, A_{2, 2}, ..., A_{2, n}, ......, A_{m, 1}, A_{m, 2}, ..., A_{m, n}),  \\\\ (B_{1, 1}, B_{1, 2}, ..., B_{1, n}, B_{2, 1}, B_{2, 2}, ..., B_{2, n}, ......, B_{m, 1}, B_{m, 2}, ..., B_{m, n}))"
      ]
     },
     "metadata": {},
     "output_type": "display_data"
    }
   ],
   "source": [
    "ExprArray(ExprTuple(ExprRange(i, ExprRange(j, Aij, one, n), one, m)),\n",
    "          ExprTuple(ExprRange(i, ExprRange(j, Bij, one, n), one, m)))"
   ]
  },
  {
   "cell_type": "code",
   "execution_count": 56,
   "metadata": {},
   "outputs": [
    {
     "data": {
      "text/html": [
       "<a class=\"ProveItLink\" href=\"../__pv_it/demonstrations/f5e291169c9322d47b7d0897083cb9368cb619eb0/expr.ipynb\"><img src=\"data:image/png;base64,iVBORw0KGgoAAAANSUhEUgAAAGwAAABrBAMAAABgTXpGAAAAMFBMVEX///9ERESIiIhmZmbc3Nyq\n",
       "qqoiIiIQEBB2dnZUVFS6urru7u4yMjLMzMyYmJgAAADLXkBjAAAAAXRSTlMAQObYZgAAAAlwSFlz\n",
       "AAAOxAAADsQBlSsOGwAAAjpJREFUWMNjYMAFWA4wkAN4PpClLZ48bZZf8MvzXcAmyuHxF4d6JgeI\n",
       "JzZgk3Ri+opDG6sBmFqJVdKA9R8u5yWACO7T2KS4Anh/4NIWCCLuYPUaMwPLT6CRb7B6Thro9e9p\n",
       "EJCKIqVobPmRgeGSGoqgGVTp/wUMDG+whQi3AgPDNyAdhtUDp4AE7wGsbmRgSMel7Q7YohdYZNYB\n",
       "8Xlc2o6ASTYsybgASMg7YNcGjTeOBRg+k/+zgSHw/wns2jguEEyYYWQlZzK1eZxvYhgFQwuMFq9D\n",
       "t3jd0TmbnOLVgMGMnOL1F4P/BTKK19dYtREuXhnayCpeebPJKl4dN5BTvLIYsDiQkZwd717eQIa2\n",
       "+v//R8urUTAKRgEU7Cev8mYzGA06MsBbolQxodcIp4mKN1a0OOGaQFy8JaBy9xBZsQSi8HjPEhkE\n",
       "oLYFAvSXQZsOAbjUI7ctEK2100TaBm5bILUZiNR2BzUM+BqI03YEf8gSGW8MXUTFGxFdt1EwCggD\n",
       "H/K0nSdLFyt5DVDm+Q7klKwt/TgziQqukhXYJlfQx1kcBeMqWUG9lfgHOOtL3CXrUob7OIsXVgGc\n",
       "JasBg/8EnKGhuAFHycokbDxfANPlUKX5v3CUrJsYGPgTcNq2ZgGOkhVYaLEVMPDZXVLGIsl7GkfJ\n",
       "yvUAPDiwb/kDdiyRzuOAo2R1B2LGLwzeOgz8G3DEG5aSdeP/0wys8n8aGCYxLMfiyF5CCbOWwZiX\n",
       "jCGTDwy5saRrA6Y7DexJDABIW7cma03HzQAAAABJRU5ErkJggg==\n",
       "\" style=\"display:inline;vertical-align:middle;\" /></a>"
      ],
      "text/plain": [
       "ExprArray(A_{1}, A_{2}, ..., A_{n})"
      ]
     },
     "metadata": {},
     "output_type": "display_data"
    }
   ],
   "source": [
    "ExprArray(ExprRange(i, IndexedVar(A, i), one, n))"
   ]
  },
  {
   "cell_type": "code",
   "execution_count": 57,
   "metadata": {},
   "outputs": [
    {
     "data": {
      "text/html": [
       "<a class=\"ProveItLink\" href=\"../__pv_it/demonstrations/7826e2c9b14adc2ad1bd29495a300f3348dbb95e0/expr.ipynb\"><img src=\"data:image/png;base64,iVBORw0KGgoAAAANSUhEUgAAAEoAAABrBAMAAAAiDgnRAAAAMFBMVEX///8QEBAiIiLu7u5ERES6\n",
       "urqYmJiIiIjMzMx2dnZUVFRmZmaqqqoyMjLc3NwAAABb1yYoAAAAAXRSTlMAQObYZgAAAAlwSFlz\n",
       "AAAOxAAADsQBlSsOGwAAAkhJREFUSMftlz9oE2EYxp82pj3z59pBpIu20qVjBlF0sU4KCmmWTkIP\n",
       "7CoNpVBUpNkqOKS4CA4aVBAC5Q4Hh2aJxaFbU1oKTolYkA4lpbQ1RtPzveS7P9/lDUQXh94LH8n7\n",
       "47k7vj8P9xxglVpCFxXfZ2Bfsp5fvu0B65wKPeOAnnH7lRNOVU0DU4bTnt2tcaoZus9M2mm/9//m\n",
       "VDqNjYrTGrFjTnUOuD7mdOGi8pMRKYfzj7bdNgq1DoQe+FT9NKVPmsPnCiuHwOKsT3VmkOZVs3mI\n",
       "pnFAv6s+1UCOVvaHzaM0LjGqrAZEjmw+SaPMqBZoEbIlwVV6PJKVdtUGzf5CosVDyUYCn80vbap3\n",
       "Zj6/VWx7xmqHA/MPqt3yC1bUiZ/mClz796699vIt61qbt1xr4APrWsGFa49QzXCuFVy49r5fJVwr\n",
       "uO1aPOdd2+SOa5VR3rUWd127k+BdK3HVUCvsqZL4ztNnCU4l82HTZM9eJx5UUP+lbpS64b0Gr+rE\n",
       "g1UNVjVYr1NXe12pyhyctl7JnlgQ49+TlHMinjAV1bk3tkrfCeFfbv/qdYZLfLXWF4V9UXqhyKgi\n",
       "FAPjFz2ZaV3jY2HojfuQe8guMarsrfllz9UGqjlGRTkndt5NY3cK+jijuknDndZVilojjKoOb8Qk\n",
       "m/QOou/j4mM5FlqJUp8QPKw1E/KVlNZT8cdCpWHzr1YEPMG3JxiQ0lCccllqU/DL5iZiycYS3iMl\n",
       "ramVte/SH5kPoaBwey5xdR9ja9yeSzycw0Nun5r8Dz0X7a0a2qlcAAAAAElFTkSuQmCC\n",
       "\" style=\"display:inline;vertical-align:middle;\" /></a>"
      ],
      "text/plain": [
       "ExprArray((A_{1}, B_{1}), (A_{2}, B_{2}), ..., (A_{n}, B_{n}))"
      ]
     },
     "metadata": {},
     "output_type": "display_data"
    }
   ],
   "source": [
    "ExprArray(ExprRange(i, ExprTuple(IndexedVar(A, i), IndexedVar(B, i)), one, n))#.get_format_cell_entries()"
   ]
  },
  {
   "cell_type": "code",
   "execution_count": 58,
   "metadata": {},
   "outputs": [
    {
     "data": {
      "text/plain": [
       "[(A_{1}, 0), (A_{2}, 1), (A_{1}, A_{2}, ..., A_{n}, 'implicit'), (A_{n}, -1)]"
      ]
     },
     "metadata": {},
     "output_type": "display_data"
    }
   ],
   "source": [
    "ExprArray(ExprRange(i, IndexedVar(A, i), one, n)).get_format_cell_entries()"
   ]
  },
  {
   "cell_type": "code",
   "execution_count": 59,
   "metadata": {},
   "outputs": [
    {
     "data": {
      "text/html": [
       "<a class=\"ProveItLink\" href=\"../__pv_it/demonstrations/3d42f7d286aea39fe1fc512e0b2739249b6dcd330/expr.ipynb\"><img src=\"data:image/png;base64,iVBORw0KGgoAAAANSUhEUgAAAIAAAAGgBAMAAACQy3J6AAAAMFBMVEX///9ERESIiIhmZmbc3Nyq\n",
       "qqoiIiIQEBB2dnZUVFS6urru7u4yMjLMzMyYmJgAAADLXkBjAAAAAXRSTlMAQObYZgAAAAlwSFlz\n",
       "AAAOxAAADsQBlSsOGwAABddJREFUeNrtXEFoHFUY/t2dTbbZzmahx1CyiUEsii4ESosgGxWsKOyG\n",
       "QG/SvVQPIubQCh7UIKWoWLvkJh7ai5RikbGnHkLNIQfpUrJUNJctpvQitgsRqra1cZ03781md/Z/\n",
       "M2/mp5qa/4PNzmR2/t335s373v9//z8AeljLQMPuDaKBI1QDB++YfrKN/jd7aDP0rFS5u9lAP/BC\n",
       "6vdQA5mSvzVSRz9Qyvwd/sNr/saSgx0eqdp3ww3Mqnf7Kno4DdY9gNxtb+cyNiRSY/L99LtvSFT7\n",
       "Dk9MH/wN4NoT3ndM1noP7VcndM56u3m0D3NFgD/c98Oyw2pYI6+ojRbeAoA3ww20/L7LLyBHv3Ff\n",
       "q+EGVgavR8+NNO/+GS+HGdgaB/DpYA+MP3BgtvN9mIFs02iYhzQBTA1cohg4tPoRrFWtz+4WKfd1\n",
       "lTgvjDhEA3lgJAYTCxNLP7HkPv7CIRFLGtI1ErGMnrU2ScSSdzADcYgFsjUascBPDo1YrDEisbwI\n",
       "L5GIxdp7/TkSsQx3OqRbm4mFwWBsC3xHXScNlbgT/2W0jT7Vs7wLomE0DjLaK4st97BxoPXglgwp\n",
       "bFbzf81yT7+8C0Kz3NMv7wY4tGHK1lc0B1qGBlq6vkKXe6FxA4PrE2scIMs9bBwYLu8YjG2D16gG\n",
       "VonnZzpEA+kzZVN/AL8/T5yOuG+nurESdIqyis9GuDpz/sZ5jfd+ZD1i8eE7mfhs/BX8HDFHZgpq\n",
       "ksWbWoJKXROR7kYIvLZn/1R0cbSffvZMnykEI9J+69QZ79z3dm+jfXgRYLQWEQu9IBnKXsZbAEPz\n",
       "voGb7UlkLrf9zvsFo691GQrzDOR+/QCODX5mdzlwOXrxsvt67I4yYF1chr9CxkF2kGy/7TQgM/5g\n",
       "QTVhV3FkftDAKaM7yjMw3EyXEvKRayC3ABUY+jGZARGRto+7gz31OWVioM5MX1MNrDM9JAcHpjkw\n",
       "7QemL33ypdhJrniWYD+QFM/7UGkCRfG8FWLALDANJwFIiqf9ls6AYWB6xtEZMPNcrJJVBopgOXP9\n",
       "B4ekeH7Y6bDiycTCxMLE4hFLaCeYEItkpoBkGodYJDMFJNM4xCKZCZdMjYhFMhMumZoRi2QmTDI1\n",
       "JBbJTJhkahgSk8xkjSWeEyQzJZdMJTMRJFPJTCyZMhiM7QBWPB89sOLJiiew4slgPDSw4smKp1I8\n",
       "8VTpboQgWvHE/f4Yiifu9/swUDyV309QPD2/n6J4en4/RfGUfj9B8ZR+f3LFU/j9JMVT+P2seDIY\n",
       "DI4fcPyAxwGPAx4Hj+44aMc9YSqw34hrYC6wOK/H7t3+3aXYSpDvMCnX4Wr8Xpvo/c7oOJzWYVK+\n",
       "ayP+L7jQ52W0Yp9v93+naRwOcZgUasRxgMXhwnEKGDwrMzszeCAxeBwwGPGxo5JMcZUoKslUICWX\n",
       "u7hKFJVk6jkdcrLAVaLIJNPuChtXiaKTTAW8TARcJQommaontwU7YUyrEskk0y3IB+x00ZuJgKpE\n",
       "/mN1tnAYbajIREBVIpVkerM9WX9mr96AzETAVCKZZCrkofdgn97ACuaDejeSTDIV8tAmHNAaUONg\n",
       "UCXqJpnuKtrzcFRrIDoTYbiZKlgbTW0TIlFxf0O+UMotJDVw3nUPrUXHPu49YIcAFoqYWJhY/kfE\n",
       "ogrkkhOLLEMgEIsqkEtOLLdQA3GIRZUhJCcWVYaQnFhmHBqxqDKE5MQiyhBIxCLKEJhYGAzGfwuO\n",
       "I+1AcP0C1y8A1y8wGA8JO6l6QUMnkdULAlM6OjGpXhCY09GJSfVC12fF6SS6esHr6YKWTuTz2iIx\n",
       "4WjoRFYvhFyjrYQcnE7U89oiIRJyWngLvOqF56/tS90Ql9Pdehyj04aGTlT1wuVz68P1lOgLsYUM\n",
       "LJmQg/xUVb3w6tMw2kyLLxBbjmYcIHTSrV5YhDUY8np3Ec4hTYhMyHkfJqBiy61pO/4NZW2433wj\n",
       "LR75vgFvvx7fgDvKV+CVp2Ct6m49SfHAt/XzC/4BjILD6cSIUp8AAAAASUVORK5CYII=\n",
       "\" style=\"display:inline;vertical-align:middle;\" /></a>"
      ],
      "text/plain": [
       "ExprArray(A_{1, 1}, A_{1, 2}, ..., A_{1, n}, A_{2, 1}, A_{2, 2}, ..., A_{2, n}, ......, A_{m, 1}, A_{m, 2}, ..., A_{m, n})"
      ]
     },
     "metadata": {},
     "output_type": "display_data"
    }
   ],
   "source": [
    "ExprArray(ExprRange(i, ExprRange(j, Aij, one, n), one, m))"
   ]
  },
  {
   "cell_type": "code",
   "execution_count": 60,
   "metadata": {},
   "outputs": [
    {
     "data": {
      "text/html": [
       "<a class=\"ProveItLink\" href=\"../__pv_it/demonstrations/9a7df754de731d71cbb88bb852da2718b8b274530/expr.ipynb\"><img src=\"data:image/png;base64,iVBORw0KGgoAAAANSUhEUgAAA98AAABEBAMAAABqlJueAAAAMFBMVEX///8iIiLc3Nx2dnZmZmbM\n",
       "zMy6urpUVFSYmJhERESqqqoQEBAyMjKIiIju7u4AAACSi8d0AAAAAXRSTlMAQObYZgAAAAlwSFlz\n",
       "AAAOxAAADsQBlSsOGwAABcRJREFUeNrtnU9oI3UUx19nkzRON9Mc9KIgwXpZtLbqQQ8rjliop6Vi\n",
       "enFZ7EVWXCi96F5cNwf/XGTpwQVPNnsQ9NQiiOJlA+LetCkuqNDFQA920WDcpf5ZinGSmXScdGZ+\n",
       "39/MyxThPWho4ZPve9/3Tab502aIBtUmrBDOajIJwWKcg6ENdUzowm1GKsLPNjgKwpUaTEKwGOdg\n",
       "aEMdE7rwNiMV7se6WsduLgj3yx0mIVSMczC0oZYJTRhDQcFwPzffvQaNgnDWB28ssQjBYpyDoQ11\n",
       "TOjCGIpR4X7aX1d/fg35rQFw1vbiqfMLDEKwGOdgaEMdE7owhmJUhJ+PqUovAKMgnFnL2/lZBiFY\n",
       "jHMwtKGOCV0YQzEq0k8VnBvh8jaTECzGORjaUMeELlxlpCL8SOASuAQugUvgErgELoFL4BK4BC6B\n",
       "S+ASuAQugUvgErgEzhH4FDgKwhmzTEKwGOdgaEMdE7rwFCOl40dKSkpKSkpKSkpK6ojqYWZO+USh\n",
       "wQzCglk5TD4fm5U4rU1QYJNpkOMdZhAWzMph8vnYrMRomV3s+iinrPUOM7jOtCU2h8nnW++Mvm3u\n",
       "YgW6Psopa/4WMwgLZuUw+XxcVuK0Hnsa+ztslFPVsak9XhAWzMph8vnYrMRoGc2f6tBDAJBT1nTp\n",
       "Di8IC2blMPl8XFbitHK0XoOOdyCnLNv8ixeEBbNymHw+LitxWq/SS9D7KSinqkI9f5sVhAWzcph8\n",
       "PjYrcVo2zawQ7fafs1nvxdxg/sPtPPFmivuR8Wd8pwDotdptQJz1+PlW8rtEz2EqhZj5/IqxPoym\n",
       "3/PhKr0/d3GV8jfKvR/ObEVeP8DZ9Ew4Ze07F781vG9C68e5+b9jOwVBt5XXV8nlKFeOH8y9iHYY\n",
       "qTCoA5GgV5Vhv2KsD6ORew70x7QG1SaadByarssrkbMEuD9oJuLx7N3O15jtfRO6+SbR77GdgqDX\n",
       "yixD3OSSsacYrH8R7TBawStfJOhVZdivK4SikXsO9sfaHtyIaGwDCDzAXYoMHDjSEN036FR87sx1\n",
       "BXhJFXiAK7aMxM9rXIeewltv37C5juj9+RzBlR8uxy/5EJp+z76W56hQc1+CUwU+xNGjSf2/Qu4r\n",
       "mP1Ou+dqExUF6LaKDjzI0bFy0gc5nsO+gvXOF/QpT+DufD3Bz+n7+CUfRtPu2dcaOHrI+brrljrw\n",
       "IS5/f9Lnus5RgtYqXqdHtmmypQDdVpGBD3H0fNKHXAOHfQWj3aB/eJ7cu/P1BPfo2dglh6Bp9+xr\n",
       "eY5udr8lc21/VhX4MHci4Vqttf0WfdL9atDpAp1TgW6rqMCHOePDhBs6cOgqjDcLGxx5H8w33sxv\n",
       "0L1xSw5DU+/Z1xpypPwdHuAM26ik3ITb6TOayytuqm4rU3Wk9rgH6YGUg7kKEws5m/V11omF0qrR\n",
       "WUCW7KPp9+xrDTlyFmrNYoE73InFait94DtkdOiej+K5XqsdIHCXMy4vnkp5CHYUHIczNPYia+Az\n",
       "zl2suGojS/bR9Hv2tYKOjJO3m/kvaWrzKcU6XO5qN+0bib1Op+uFFfpO8Wpmr9Xpeq8vwk10uynf\n",
       "X+wpOA7PUulJ1pdfztLxinGhhSzZR9Pv2dcKcWSCIibXEurcYJ1pMJNGVubRTBGqtQxeeZlpiEKL\n",
       "GYQFs3KYTnp51G1r4JVrTEMUucEi13pqowu8djRTjNCRlJSUlJSUlJTUyEo+EEC3oY4JXTiDDwSQ\n",
       "j/zQbahjQheWz3iRwCVwCVwCl8AlcAlcApfAJXAJXAKXwCVwCVwCl8Al8P9F4HKiOt2GOiZ04QxO\n",
       "VLdzrTqOnCcR4ayTL9vKkzmiDSExzsHQhjomdGEMxagoP79efx2aBeGsb+aXWIRgMc7B0IY6JnRh\n",
       "DMWoCD9yOmndhlomNOEMTidNW+AsCFcqMwnBYpyDlTT+/XSLaCTwFiMV4WcaHAXhjCaTECzGORja\n",
       "UMeELjzNSAX8/AvtpuovaKQCwQAAAABJRU5ErkJggg==\n",
       "\" style=\"display:inline;vertical-align:middle;\" /></a>"
      ],
      "text/plain": [
       "VertExprArray(A_{1, 1}, A_{1, 2}, ..., A_{1, n}, A_{2, 1}, A_{2, 2}, ..., A_{2, n}, ......, A_{m, 1}, A_{m, 2}, ..., A_{m, n})"
      ]
     },
     "metadata": {},
     "output_type": "display_data"
    }
   ],
   "source": [
    "VertExprArray(ExprRange(i, ExprRange(j, Aij, one, n), one, m))"
   ]
  },
  {
   "cell_type": "code",
   "execution_count": 61,
   "metadata": {},
   "outputs": [
    {
     "data": {
      "text/html": [
       "<a class=\"ProveItLink\" href=\"../__pv_it/demonstrations/e303598ad4231d89daa799efcd475078caba48370/expr.ipynb\"><img src=\"data:image/png;base64,iVBORw0KGgoAAAANSUhEUgAABQMAAABEBAMAAADHDD4aAAAAMFBMVEX///8iIiLc3Nx2dnZmZmbM\n",
       "zMy6urpUVFSYmJhERESqqqoQEBAyMjKIiIju7u4AAACSi8d0AAAAAXRSTlMAQObYZgAAAAlwSFlz\n",
       "AAAOxAAADsQBlSsOGwAABy1JREFUeNrtXE9oHHUY/TLNJNtNd5JDvSiUYLwUjVn1oIeKIwbjxRLp\n",
       "9mItzUUUCyEgtRfb7sE/CKXkYKEnuz0I9dQiiNJLA2LBg3aDhSokuJCDLTUYW+qfUo0zO7O72d35\n",
       "ze9lft/OFPs9aEjh7fve976XzaZJQ9TAKmFAeE6VSQgW4zSGDmTFKtG9PXWVkaVIeAm0gvAKC0xC\n",
       "sBinMXQgK5YyqeASN3XJ4KTOxQpWYIR34w6TECrGaQwdyAo4jaymYlRQMDrh6x9egqwgPOfUuzMs\n",
       "QrAYpzF0ICvQNDKbilExVnTCq9+UfjmEfK4HeM7S3t2HpxmEYDFOY+hA3tdkYBqZTcWoGEuR8Fkq\n",
       "0R7ACsLLl23XLjIIwWKcxtCBrEDTyGwqRsVYyoRLoG+EZ7tMQrAYpzF0ICtKRPf21BIjS5GwVFAq\n",
       "KBWUCkoFpYJSQamgVFAqKBWUCkoFpYJSQamgVFAqKBWUCkoFpYJSQang/VXBMdAKwrOKTEKwGKcx\n",
       "q5hBGcYyqeAYN3WM9aQCgUAgEAgEAoFAIBD87/EYM0/7RfkCMxEW7P2GgBUTt6mfgDHcOK3LoMBl\n",
       "JiPb1piJsGDvNwSsmLhN/QSM4cZo5dexx6M8Lc6tMRPPMaXEsCFgxcBt+ifgCzdOq//YKPR4lKfF\n",
       "1E1mIizY+w0BKwZu0z8BX7hxWk8+h/2/WZSnw5ax27xEWLD3GwJWTNymfgLGcGO0rOrPFeilJMjT\n",
       "Yrxwh5cIC/Z+Q8CKgdv0T8AXbpxWP50rQ58EQJ4Wbv4vXiIs2PsNASsGbtM/AV+4cVpv0QHoJxdQ\n",
       "ng4DFfsWKxEW7P2GgBUTt6mfgDHcOC2XJuaIri347zvHYyq8gbfy9FGD5xrrz/hJbcRwVDBXy3Oe\n",
       "OlxL/kHqb2ikEFgJ8Np8ZKIRFHhicII67G+Nnu5bHjRn76SaX74bhY8nj82TvTzi/2X/ovLxbTyX\n",
       "no9mOXe9N78thO9E4qfJqb9jJ7UTg1HhXC2vn/pH4o0Fb9QbKhUaqD++LhfsuFEvsBJgsBiZaDel\n",
       "Y6I6wsBgiLejV9ywo3LRNg+as3dSlZdvOsbHNrBKNOwlkA9SOKP00sb7gyYUX5pt9/70ueE7kV2o\n",
       "Ev0eO6mdGI7Kj0C84RnrtsZY/Y16Q7VCiODx25tvNug1dqtjaDoq0QhK50RlhOEJAnwRveKGHZWL\n",
       "tnmIP3sXVXn5puNNjG3WmvrOAxVs451QVhB4NiZ6qDEp99L+KxriCV0F23i5mpX43xCCDUOF995f\n",
       "dhPvVseB5aMRiUZQYM/hCYJPxP9crcXnp7XprTj348n4s3dRzS/f0gozHigH3zbRVbCDR08kPfSb\n",
       "FHybqT7p2sHy0KiGGIxSV7CdR1tGkr5YDjesKzgffEWfJ96tjsXalYhEoyig56bB+iflHQU3Pj+d\n",
       "TX/FL+lq/Nm7qaaXb2k1Mn7U+7P1pr6CHTx7R9J/2vI/jE+PhpMeX6LhmoYYjFJWsINHryT9YqKx\n",
       "YV3BWl2gfxPvVscpOt6daCQF9Nw06GNrObcQm5/Wpr/ibXoh9uwRVNPLt7TCjK+vf0/503eLugp2\n",
       "8nYmPLRz+m6NPlv/ujHpCB3UEYNRqgp28qxPEibU3DBQGKwOnE+8W/hibaor0WgK5rlpMHwZ2T8X\n",
       "lx9gc7Bqn6cH484eRTW+fEurI2Pta8E2nuVao2SGM+ERJm3NB08wKq/7XBXyHqGHDY0FCt6JXbNv\n",
       "hq3RBV2iISWJ52EaqkD5qTE0XZi31qaRs7eo5pdvaXVk7J3YKWIV9Hg795Zq5hVcIWuNHvg0nueP\n",
       "WgEqGPCsk3t3m/nyFbwNJ6jvVbMK7sjN6xL1KJTQc1/tIyw/NSa8p6HcvIucvUU1v3xLqz1ja9et\n",
       "qn2Bxi4/qzlQwLu4bvpTQ/6kfZWBOfqhHE/0R+2r+HMR3tD6uuHPFvkK3oZvUOGZxM+jk5OTM1Ra\n",
       "JnWiTcrmPVveQ18k++Uqlp8ab9C2UetIDTl7i2p++ZZWRMZ5UCRPTKhwEytMxvIp6lRSyI9rWbbL\n",
       "q7RmwQfPMpkYqDETYcG0NpztqWemdWfTz0WphT6ll5lM5LiJOa54yunp5FLIj23ZMmMFObUEAoFA\n",
       "IBAIBAKBwATyKy43OzCT+DObmsKvuJRf9LvZgayQX/QrFZQKSgWlglJBqaBUUCooFZQKSgWlglJB\n",
       "qaBUUCooFZQKSgWlglJBqaBUUCp4f1XwrPfgPcCDEV6+bLt2kUEIFuM0hg5kBZpGZlMxKsZSJLxy\n",
       "qTR4CLCC8Jxdr7uHpxmEYDFOY+hAVqBpZDYVo2IsVcK/XnkH8oLwnO+mZliEYDFOY+hAVqBpZDYV\n",
       "o2IsRcLOxQrWCIR34w6TECrGaQwdyAo4jaymYlRQUJHwIugF4RVGmIRgMU5jhZEM2rBIdG9PXWRk\n",
       "KRIeB60gPKvKJASLcRpDB7JiPJMKjnNTxzd/0v8AoFB+8RY0Dj8AAAAASUVORK5CYII=\n",
       "\" style=\"display:inline;vertical-align:middle;\" /></a>"
      ],
      "text/plain": [
       "VertExprArray(A_{1, 1}, A_{1, 2}, ..., A_{1, n}, A_{2, 1}, A_{2, 2}, ..., A_{2, n}, ....A_{_b, 1}, A_{_b, 2}, ..., A_{_b, n}...., A_{m, 1}, A_{m, 2}, ..., A_{m, n})"
      ]
     },
     "metadata": {},
     "output_type": "display_data"
    }
   ],
   "source": [
    "VertExprArray(ExprRange(i, ExprRange(j, Aij, one, n), one, m).with_explicit_parameterization())"
   ]
  },
  {
   "cell_type": "code",
   "execution_count": 62,
   "metadata": {},
   "outputs": [
    {
     "data": {
      "text/html": [
       "<a class=\"ProveItLink\" href=\"../__pv_it/demonstrations/09869d21f9158658b2334ae4bb8d91037ddb2a540/expr.ipynb\"><img src=\"data:image/png;base64,iVBORw0KGgoAAAANSUhEUgAAAzsAAAAZBAMAAADkjS28AAAAMFBMVEX///9UVFQiIiKIiIjMzMx2\n",
       "dnYQEBDc3NxEREQyMjLu7u5mZmaqqqq6urqYmJgAAAB66f/FAAAAAXRSTlMAQObYZgAAAAlwSFlz\n",
       "AAAOxAAADsQBlSsOGwAABYFJREFUaN7tmk9oHFUcx3/Z3ezY3c1mpRctQoMHD9HDNgGpCjrYUpAK\n",
       "uyoiXjSC4KVoRKqNPeweepAKJh5E8NAMhIC9tBtBEBckeBIv2V48BNEFRVqlsEpKTVHX93fmvZn3\n",
       "e763GyGHPJLd2ff7zuf7fvPbmXnzWAC4CQdtP7Yye610Do7EvmxBm75e5h+WEM2KM24J/BBLY5Od\n",
       "RR5ZeOotyqVxHX+iLx/w7VXzbocGzg4IAUWsjk12Fnlk4am3KFfHdcxFpGwL/BI3NO+25TxQjIAh\n",
       "UP1oSqtoy7M87npc6Z4fxsnXyA2oye9DRxeNu23cdr6TIQQMgepHU1pF7ln46nGle34Yp3QHYLrH\n",
       "Nl94OTTtNXl2x9UAIaAITD+i0ibyyMJTb1G654dyLgE0InZnqj+xadrtrfxfrvc2hIAhUP1oSqvI\n",
       "PQtfPa50zw/nfAEwJ+bYW33Tbp3KP86zdDMBQ6D60ZRWkXsWvnpc6Z4fznkY4F628T00mob41Gbh\n",
       "lqMBQkARmH5EpU3kkYWn3qJ0zw/n/BjBe7x60KoZvwLB7671NxNQBKYfUWkTeWThqbco3fPDOY0Q\n",
       "PmRTuPe7R8kz6hX2bFS6EcePdzf+lB2l5++OcAONoDaOWH/mCP2QhLleMEXURra7S3vWnmobs9CC\n",
       "VlpW76LUTdUB+TkqrdWDB+n7GpnBzUBhfoZ+ODEXM+sAf8iOMpRncAONoA6LIzrwGfmghLleMHnU\n",
       "Sra7CxFvE01jFmrQSjPoXZS6qTogP0elXe3xs6dDHlHJ42mFE75OmAAPyI7pXrBju7ioBHVYDPE3\n",
       "tOg0MwlzvWCKqI1sd5f2rBVDcxZK0Eoz6F2Uuqk6ID9H9ezhF7epPl9VUMrDzsQfxNIEM61G1CB7\n",
       "hrIenfDbz/MdHfFrUp6SoudMHs2SDUpOLmVurX1lWaQxf8SYhRJktBKYczHouS2mJNHa4xfkodNG\n",
       "/dWJY/nroaNjwhF+jUW4h7y9Tf7vuq2Wp7QLYr1neTH+TkzO8P6rK5Da0Amlm6/DaykEPAuiPHSn\n",
       "WE+ZwKJMnsXrSk6WivgvEdE2Fz1mzEINUpruE38y6OOENFOppNFX4Jg8dOqor3zXL9byNTfHhCPS\n",
       "pDM3Mrf+dPgJVJZ3m+rZc38EpeXdCL4ZfhSX58mI9UOOVpbes9gG7dEJwdoK3EkhCrOyPLlZRc+Y\n",
       "PEo5CZVtZJSCTANUIf8SEV/jvWHMQg1SmqRwQ5mLSS9sFUdVSaM78Lk8dOqo330EpkOxbPafjglH\n",
       "+MEvrELJKl5SnkqUuaIGF9P9fCe1hxMm6lMLqcC5KA5/qz5bX4yjWbJByclaINNehQ1jFmqQ0bIU\n",
       "TC9sEeVEvbAAD8VHSsUehlOQ23R0TDjCj1gXe8byTGZveOfhnVQ/P2khU55iWO6EWiDoBIsyrM6F\n",
       "GJNHs2SDkpPB+sA3gDPGLNQgozXtuSh6YYsoi2G+HQxCadrUqnscWgVHx4Qj/C7FK9by4Jaa3GMt\n",
       "VZ51CC6c/DLVL6eQaUILck+HWuDcydPRupga1JWqESbR06iBbFByshrIttlq25iFDMpcDJQ1BMZt\n",
       "MWWLfNur7Y4w1UY9IOfP9bKjY8IRaZILXCE5a4MXb9ULZ+Ds6nMAKoh2nNosDocDvZ83tUcQrkH+\n",
       "JT3wxnBIEDQMefX7QphET6MGskHJyXmkMOe73W4PTs+DKYs4KHMxUOoIjNtiymtwaDE4HAlTFTtV\n",
       "g4/hzUcdHRMO96vSOcV9qYshkrr78itGwBCV8cmeSo+lZB/byh45Sk6O3g8u67FtZNEucqZvgx9i\n",
       "e2yyp9IjFy/b7T1ylBz2W4OKfr9CVsGr7nRsHb3qqf/flFW/6jjb9vfIUXD4L3UOfue2T1uZnHL/\n",
       "AobRlVMQ02q9AAAAAElFTkSuQmCC\n",
       "\" style=\"display:inline;vertical-align:middle;\" /></a>"
      ],
      "text/plain": [
       "(A_{1, 1}, A_{1, 2}, ..., A_{1, n}, A_{2, 1}, A_{2, 2}, ..., A_{2, n}, ....A_{_b, 1}, A_{_b, 2}, ..., A_{_b, n}...., A_{m, 1}, A_{m, 2}, ..., A_{m, n})"
      ]
     },
     "metadata": {},
     "output_type": "display_data"
    }
   ],
   "source": [
    "ExprTuple(ExprRange(i, ExprRange(j, Aij, one, n), one, m).with_explicit_parameterization())"
   ]
  },
  {
   "cell_type": "code",
   "execution_count": 63,
   "metadata": {},
   "outputs": [
    {
     "data": {
      "text/html": [
       "<a class=\"ProveItLink\" href=\"../__pv_it/demonstrations/2f6a6a324cf8780c9fc6ca00de98d89ad3f599500/expr.ipynb\"><img src=\"data:image/png;base64,iVBORw0KGgoAAAANSUhEUgAAAHEAAAGeBAMAAABRNfMAAAAAMFBMVEX///8QEBAiIiLu7u5ERES6\n",
       "urqYmJiIiIjMzMx2dnZUVFRmZmaqqqoyMjLc3NwAAABb1yYoAAAAAXRSTlMAQObYZgAAAAlwSFlz\n",
       "AAAOxAAADsQBlSsOGwAABkJJREFUeNrtXE1oXFUUPsk4P8lMXrKQUMSfiJuCLmZRWurGiAsDCmkQ\n",
       "XBTBQCMUinTQYjAifXWTgEJCF4qCdlAhECgZLBRsNqO4cNeUiuDGRgxIFZ1BWzuNJuN775479827\n",
       "554XqyBOzgcDnZw5mffmvnx93/edOwAKP8Od4hpbzU1urZyfIEulNv+L+8YBVn2qUlzdYDsbFYDn\n",
       "a1Tlg3M+23kyKJ+sEAWvcrrOdq4GjyvUYRXh8jTbeTfAo/upwnOwuMQ1Fm7Mzn1NVmrQqAIcXA//\n",
       "nXnRrud3AD6b1iX1OlV4am11HAqzY+GT+ZfszrtGAAZaWMLXRTgEMBw8K6mffG53DgdHlLulS6Wx\n",
       "2MFC/wjXuRh8foM37c5s8POhJtd5OliQxXW787vwTHa4zivBr7+vbHUeaF+F0uT2krvz4/bKyld1\n",
       "IM5TX/bO99RgOjNLaZ2HiU7v/duVwr1w/do7rsawdKYevo76Q03lANefxjNpjdmyozCd1pmDPQph\n",
       "6l5l6sPvfcQzdebdlTLJ1DX4hGfqIhTHSKa+CQ2fZerhI16LZOpjRGcXU+fKnc4EU8PZFKaGgTGa\n",
       "qQsPpTA1vFGmmXqznMLU3hM0U3s1b4Nn6p/gF5KpNxfeLLNM7U0sXCCZ+oF2m2fqvna7KUwtEPQ+\n",
       "Mttpr3hs3VF4OK2zvyafr1wJciXIegoEu4G3fqedQ022PBPejtOa7zLfGeqywRZZubTDn0ygcrJ/\n",
       "UJWB6y3+pralNJKNH/J/sp2DwckM3U9qwdLvaTI78yH1CWXrhdts5+KTs+fJ+/QieFu0RWh0WWm0\n",
       "yyJEnFq7dIO2CBGPB49zftwiRNILRPuvwNlYWxBJe8vGKgaPB3Vn7uL8a5bMDj+/1SPYeeL4rObA\n",
       "Z9H9iDoPTk33bRAyu7CNki/zwijgAnmB3IXJDez8/nUYTsqgoeAVU1ex0zu0Dr+ps5zcLsMX7W/0\n",
       "eS7DVPI6CP2Wpzsyc7CSHSHV5T5YKzg+KNXZ5xdrPqUum7D/S3dnIFAb0P+WT6jLbBVedcg6FKhH\n",
       "If/231CXqQLVqS5TBWq6upyGPQpxCiP0klOIDiCT6aCJaGU66AAymY4yEe1MRzuA7kwHTUQr09EO\n",
       "oDvTOZbs1E4hOoBMpqNMRDvTQQeQyXSUiWhnOugAMpmOMhHtZAYdQPd/aWgi2snMxMIFPtMJTUQq\n",
       "0wkdQD7TCU1EyXSEqYWp/0OmZjIdVbIzHWRqJtNRJTvTQaZmMh1VsjMdZGom01ElItPRWc3ZFKa2\n",
       "Mx1kaibTwZKV6SBTM5mOKtmZjmJqJtPBkpXpIFMzmY5iajvTQaZmMh3F1JLpCAR7A+L8ynrKesp6\n",
       "CgT/FiSZUbemvZTMUPLRqKvSaJd8RKhkhpKPCJXMxOUjkp5KZij5iFDJTFw+6oONkhnUiO5kBuUj\n",
       "kcxEGpFLZiL5SCUzkUbkkplIPlLJjNKITDKj5KOdzKBGZJIZJR/tZAY1ojuZQZlpJzNKI2bdyQzK\n",
       "TElmBAK5S5W7VLkS5EqQ9ZT1FAgEwn3CfbKeArkSBIJdQ0z1CD1lqscIKTlHi9sdDPQcrTLVDaw5\n",
       "WmWqm+d6jlZvdzBIznridgcDnPVEU/3E8dnqKxNUpzbVL87P5Wf8WKcy1UOz/B6YozrRVA/99mq+\n",
       "ajrRVA/N8hZ8SnWiqR767X5xqdPZMdUHK4UReITo7Jjqy3AG+uuxo9XL7efHvaZPfUKIfXAKGgW7\n",
       "sxG8a2685p6j9ZrBu84U7e9GOQpDG95y2T1Hm63Ct/DjyzJHK3wrfPvP+daCxbcaSb61gtAk3+og\n",
       "1OJbKwhN8q0OQvX2sg6SQajeXtaBDkIxxDRMnZyjRb41TI1BKPJtnKkTc7TItzGmVkEo8m2cqbvn\n",
       "aDXfxpi6M0erXmCYepNmGsPU3XO0hqldc7SGqbvnaA1TO+ZoDVMn5mgNUzvmaA1TyxytQCB+gvgJ\n",
       "sp6ynrKeAsGuITsxI/TUt2u6gTsxiUK0E5MB7sS0gd+u6Yb+dk3iYKOdmEYjJudocSemkZk4R4s7\n",
       "MY1GtOZo1U5MIzP1HC3uxDQa0ZqjVTsxjczEOdrOTkyjERNztHonppGZiTlaoxEdc7RGZnbP0cY0\n",
       "omOO1sjM7jlaoxGzjjlaIzP/h3O0fwEqHK+NtdH0yAAAAABJRU5ErkJggg==\n",
       "\" style=\"display:inline;vertical-align:middle;\" /></a>"
      ],
      "text/plain": [
       "ExprArray((A_{1, 1}, B_{1, 1}), (A_{1, 2}, B_{1, 2}), ..., (A_{1, n}, B_{1, n}), (A_{2, 1}, B_{2, 1}), (A_{2, 2}, B_{2, 2}), ..., (A_{2, n}, B_{2, n}), ......, (A_{m, 1}, B_{m, 1}), (A_{m, 2}, B_{m, 2}), ..., (A_{m, n}, B_{m, n}))"
      ]
     },
     "metadata": {},
     "output_type": "display_data"
    }
   ],
   "source": [
    "ExprArray(ExprRange(i, ExprRange(j, ExprTuple(Aij, Bij), one, n), one, m))"
   ]
  },
  {
   "cell_type": "code",
   "execution_count": 64,
   "metadata": {},
   "outputs": [
    {
     "data": {
      "text/html": [
       "<a class=\"ProveItLink\" href=\"../__pv_it/demonstrations/e683a64f4f3b8d172084dd25dc628d72b83dabb00/expr.ipynb\"><img src=\"data:image/png;base64,iVBORw0KGgoAAAANSUhEUgAAAKQAAAImBAMAAAAvfDyIAAAAMFBMVEX///8QEBAiIiLu7u5ERES6\n",
       "urqYmJiIiIjMzMx2dnZUVFRmZmaqqqoyMjLc3NwAAABb1yYoAAAAAXRSTlMAQObYZgAAAAlwSFlz\n",
       "AAAOxAAADsQBlSsOGwAACMpJREFUeNrtXV+IVGUUP7Pj/HFm9+4+iCxhZvjiQw/zEIq9NBGUULCK\n",
       "0IMEDbiBIOJg0tJKOPaiYLGLD0VBOWQgLcgORUbOy7b00JsrStBLbiSESu1Smqul0733O/feufee\n",
       "e/c7HzuxsecHoy53z897Z76585tzfud8AAhrDlYaA4smUaOdqalrjYSDl40oYQNAaSnh2KVHJozW\n",
       "PYDc3/Sx9TeXTCjzdlT+Hn3s18I/JpQl++ka2Ewfa/X/ZUKZqUL2U/rlyc0U75tQTrw4dqFGHyqD\n",
       "9QAge8j9Ybv+Ej0+D/0bvQgMRxxtX7oDcPKI8+/i2BZtyufsx9kGRqhwRLYO8If996z7U78+pX1p\n",
       "cLjuRcyGrhvgSQPKovOaTu+mKF+xH9cNKAv2+6P4EAhKa8j+Y2SeTzlgB+65SlBmRx5W4LvOj2zK\n",
       "0siDqQsvA3WWPtgvDyKdcqchZXaSpLx5/QM4MWN9fL/OvB/ZEcVNbjiJGcN7eH/ikVzFkHJv8h3Q\n",
       "9JOmBoLeQaSBSIPVLQ2yH05p341C0mDnR+cSpEEZytq39ZA0aMEXCdJgcLel/eqHpMFdWGjQ0iBf\n",
       "0aYMS4P93ZRhaQDrdS88Ig3gTJI0gHd0X56INChuTZIG1vOG0uBGJUka3IbfjaSB1bLmaWlg7Tr1\n",
       "pZE0uHHqdIWWBplOh3mjQ2nwRKcj0kAgEAhWD56dW/HAvpYhpXGgQCBLXSDrUtalQLC68NvKU143\n",
       "Cco7mYhdSd+mO0YnkqkCTDfoY+XpeRPKhTrAawm3oU/ONkwoDzfcbBYFq358xoRy2n5coa+vDJeN\n",
       "vvVvAHhmG33oVZiYNGAs3hkb/yHhWAsWmqyapoKTc/u2Fqlp4qGX2tNVVk1TYd0QwPqlcE0TsQNg\n",
       "cItBhWuwqRLWs9R1Q9+QR3nwwJjuB96E/ZqW7np5z4snj/lHcjVVUHAps69vhM2alMft9TMxh5Tb\n",
       "99Qy/nr62XlaHiGltWMO/tSkvGKfzuMVpPzlbRj0UmFPd65C/8jDSbzwUj03pMf4mVP0cN4i6rk8\n",
       "D3vi9w6XMtMot5jvTkU5DO0iQZmdhAXoe5dPuROsRdj2ffSNrtKQ+6DwPo9R5T1zTXiLfFf3m97D\n",
       "k287ew0ZU/KeNUNK47ynQAdS2uQ9XVLajL/pe1XaxNok2/WExVDK9aRqk3zXExZDKdcT1ibZriev\n",
       "GEq4nvZzKbG06RVDKdeTqk3yXU9YDKVcT6o2yXc9YTGUcj2p2iTf9YTFUEJtYW2Sb1HCYihB6dQm\n",
       "TVxPTjE0wfXk1CZNXE9OMVRcTwKRBiIN1p404LueMIJyPSlpwHc9YQTlelLSgO96wgjK9aSkAd/1\n",
       "hBGk6wltS2zXkxdxJkka8F1PGEG5npQ04LueMIJwPaE04LueVATlelLSgO96QmlAuZ6UNOC7nlAa\n",
       "iOtJIBAIVhWk5C6QdSnrUiDrUiBY6xCLEgtiUYqjVxYlTpZRAS1K4SwjHnItSpwsowJalEJZRoSy\n",
       "KHGyjApoUQplGf3rdixKmDPkW5QwSUlZlNycoYlFyc0ykhYlN2doYlFys4ykRUnlDA0sSirLSFmU\n",
       "VM6Qb1HCLCNhUcKcId+ihElKwqKEOUO+RUklKXNiURIIBCuAHnw768F3yKzp5WXlFZasgUAgEAhE\n",
       "Gog0EGkgEAhWAKvGupxaTjC0LqeVE8ysy2nlBEPrclo5wdC6nFZOMLQup5QTTK3LKeUEZV1WeK/q\n",
       "ftQf0qHEcgIVqKzLCiW3+kE1MceB5QQi0BvYqJaaWmazOpRex3M80BvY6GJi7Jw2pdfxHA/0rcsO\n",
       "jlSOaVP65YRooG9ddvECHNKm9MoJ0cDAuuxiGC7pUvrlhGUCF2GT9llqBm7NVxNalJYBFXi73W7v\n",
       "htNjkNaiREEn0LimkBxoWlNICayZUhoHCkQaiDT430sDyjygJQ28wLg0oMwDWtIAAwlpQJkHtKQB\n",
       "BhLSYL8WJSENMJCSBl0tSjxp4AaS0iBoUWJKAyeQlgY3NGwmpDQgAtUnPDmYWUcaUIHqE55qUdKS\n",
       "BuHA7k/4xBal5aRBUqBIA4FAIPjvIXl1gaxLWZcCWeqy1AVrGqulqyl1hJJhV1PaCCXDrqa0EUqG\n",
       "XU0pI5RMu5pSRiiZdjWljFAy7GpKG6GkBi/zgRvHEVBdTQrFawxKNUKJCsTBywqfMyhx4zgiEAcv\n",
       "KwzrM3obx8UD/a4m99fujVciXU+J8EcoxQL9rib317YWWpGup0T4I5SigX5Xk4t1tfxcuOspeaF7\n",
       "I5SWCcw0ys56orqelln2iYGDkJkBejBzOpID+yqjCYOZl5MwRKDVbre/guLX9bSuJ/KmoxNodFtK\n",
       "DTQezZQcaNz1JO1SgjUMcS8L5Cu+QCAQCEQaCEQaCAQCDcigNBZkUFocPdvLMYDmnk0h+7IrEfyG\n",
       "qO6Sgvu/a+7ZFLIvOwgaokIlBXeZ6lGG7MsuZoPrdgelXTw5XhhtMCjRvnzwwFjzzV0hSiwpOKn7\n",
       "ZqHJoFT2ZWe02mMwHqLEkoKTum+UJxmUyr7sjFZbgm+6Kf2Swnk4AX0z+pSefblULw7BU+HnEjEM\n",
       "R2GhyDhL7+bRKFStxQZBaS3a5zlaBvaeTQv2eearLaIhKteEn+DWG/w9m/bBwLx1viJ7NglEGog0\n",
       "WHvSQHeaakwaBA1RUWmgO001Jg2ChqioNNCdphqTBkFDVFQa6O7ZFJMGfkNUXBpo7tkUlwZeQ1Rc\n",
       "Gmju2RSXBtgQRUgDvT2bCGkQ7WsKpAFvz6ZAGkT7mgJpwNyzKZAG0YaoQBow92wKpIHs2SQQCASr\n",
       "CJJXF8hSl6UukHUp61IgWGHIfvO8p0v2m4+hZ/vN85HcLBWazMRBd7NUGKHJTByEmqUi1+1OZgrS\n",
       "kJrbQHn7zQd5T78hSk1mCtKQuttAYbNUkPf0G6JwMlOQhtTdBgqbpYK8p9fX5E9mCtKQettA+c1S\n",
       "Qd4z2tcUpCGZ20AFec9oX1OQhuRtA9WV94w2RAVpSN42UDk/75lb29tA/QuO+f+EQy1lJgAAAABJ\n",
       "RU5ErkJggg==\n",
       "\" style=\"display:inline;vertical-align:middle;\" /></a>"
      ],
      "text/plain": [
       "ExprArray((A_{1, 1}, B_{1, 1}), (A_{1, 2}, B_{1, 2}), ..., (A_{1, n}, B_{1, n}), (A_{2, 1}, B_{2, 1}), (A_{2, 2}, B_{2, 2}), ..., (A_{2, n}, B_{2, n}), ....(A_{_b, 1}, B_{_b, 1}), (A_{_b, 2}, B_{_b, 2}), ..., (A_{_b, n}, B_{_b, n})...., (A_{m, 1}, B_{m, 1}), (A_{m, 2}, B_{m, 2}), ..., (A_{m, n}, B_{m, n}))"
      ]
     },
     "metadata": {},
     "output_type": "display_data"
    }
   ],
   "source": [
    "ExprArray(ExprRange(i, ExprRange(j, ExprTuple(Aij, Bij), one, n), one, m)\n",
    "          .with_explicit_parameterization())"
   ]
  },
  {
   "cell_type": "code",
   "execution_count": 65,
   "metadata": {},
   "outputs": [
    {
     "data": {
      "text/html": [
       "<a class=\"ProveItLink\" href=\"../__pv_it/demonstrations/8fd52eaedb86d2396c1961e055d711a954fb2aa80/expr.ipynb\"><img src=\"data:image/png;base64,iVBORw0KGgoAAAANSUhEUgAABBYAAAAuBAMAAABuaodKAAAAMFBMVEX///8QEBAiIiLu7u5ERES6\n",
       "urqYmJiIiIjMzMx2dnZUVFRmZmaqqqoyMjLc3NwAAABb1yYoAAAAAXRSTlMAQObYZgAAAAlwSFlz\n",
       "AAAOxAAADsQBlSsOGwAAB+pJREFUeNrtW01oXFUUPkmamenM5CULKUWqRropxMUspKVujAhaUEhL\n",
       "wUURHGgEQUqHWhxMkU7dtFAlwYWioB2sUAyUDIoVk81YXLhrSovgxkQslFpqgrY2rabj+7nv5753\n",
       "75l77p2HQt6BGTIv5zvfd7+5mfcyMx+AU7cAKWsRNKoLKgXGW6BXCmx6gsxkKaJv9XryEgYaWtWh\n",
       "6oJKgXFJ0xQFNj1BZrIU0Us9nlzuYKBLWkbgqBQY8ZFmbJf094K2LDW09ngZsDS3jKDmH+hw4agU\n",
       "GPGRZmx6FpjJUkNrj5cBPz3TkIM231jToOqCSoERHQlGbHqCzGQporXHS4BW7XhbDrqe/0eDCkel\n",
       "wIiPBCM2PQvMZKmhtcfLgCW4VJWjWuW/NLhwVAqM+EgwYtOzwEyWGlp7vAz4MkzPSEGD7cI9OlUX\n",
       "VAqM6Eh9pfqCzGQporXHy4AtWGkC7HT/hx44lNhA1n3/8MBHsxXVbReiZIxsmoRx98dnSYzRkbQ/\n",
       "EIfNq/fGEQuiLZ44ZVleFa7SX7NCtFs7F/EGol3Jyr+wMDcOhfqo8+Dkkdhvjy7M3/YPl6A0GmVe\n",
       "t++eXvTvZCgZI5smYWzBlwij+4N0ZLxceS4kvOPZvCrOIBZEWzxx/HxEFqsvEsK8/tDCmI8c2tlN\n",
       "9VFAG2LrDyQlnp840K9dAMP2hLI35WJMbQ3gD//w8F6Lu6Aes2/9Lf9OhpIx+tPEjHdgpYEwjqEj\n",
       "Y+XJG+PveKVu9TUwCyItnjh+PiKL1daksjEeHvORQ7tvCowC2hBbfyAp/vwkJwcvF9A/ItsLJfv2\n",
       "uH84V7HWFF94o6gLJ4+JGP1pYsaDrt3KjNzI11+rt5RPEZ5St6brZxELIi0H+b3QTRb7q747VRG5\n",
       "0XVRF05O5Scbor0Qb6DaFQI9VYNV7z1W8V54Cbx3K9nhzaNKVBxq575qH/e+hs/IpkkY4X0CIzdy\n",
       "4NUt8Kii3QGbU0cqxzBBkRYmTlmW+7q8Pd8SuNEV7SCa+aZgLyQbaHaFQKbqF/vHTQ8ke8FyNvXE\n",
       "cnD4HaVLEx7169swzMF8RjZNwljYTmDkRlq7FuFPxX+zfTa3noNDiKBoCxOnLMupTdXcosCNrmgH\n",
       "0SjNCPZCsoFmVwj0VD3ZuQLlifUZ4V4YmFivwPedn/zD1rMqTHHUOdgX/XXAyKZJGK9V1BljI4u1\n",
       "wRGgKWUn9HlEULTlWoUki11qlJpJNxTQ5+AE9LeTe0HQQLQrBPKqxOcIv7zDN+F30v9EF5l/CwXR\n",
       "b9k0MaPVspbpjF677XpL563ZVdiGWBBpYeJoNQx9bcQNeW2Fo7BSEF0vJBqIdoVAXpXNMzCD7YXd\n",
       "YO059RV1L9ioVdjxg+jZtqfJGa+dOl0hM7KRK9D/rs5e2J4bRyyItDjiyNP7K5OIG8iiVu2/2smS\n",
       "jZXshbCBalcI5FRZn9yrFbbBjaUPRSjn8Il2X6dD+vDWQw024S3R+53ONDnjY50OnZGNPAD5D2jP\n",
       "082FhYW9cLoOckHRFkccxXMb+jUUvqkhbiAXek34GX57w8Y6zxHaQLQrBApUlVFoW+vdThyVAmMZ\n",
       "TKqcLkE7TWy7l5P3o7uookPTBZUC436jvbA/VQK9FSlitYcLgeiLV06LpwsqBcaq0V6opkqQgxSx\n",
       "uf9CVVZZZZVVVllllVVWG7UmO7OzVxuyS8yJ+7Pn95AvTHFUCozoSH2l+oLMZCmie7/qhwCK0o+9\n",
       "+8YB5sh0XVApMKIj9ZXqCzKTpYju9aqtuwCDf8tQKzWAV1pULhyVAiM+UlupgQVmstTQPV91zt5Y\n",
       "ubsy1GF79xyuUblwVAqM+EhtpQYWmMlSQ/d81cVVgCHp94Dm7NvlZSoXjkqBER+prdTAAjNZauie\n",
       "r9o+dwx81kDOSE/t0DnRIagUGPGR2koNLDCTpYbu+aqnn6+fr8pAhdv1qR/JVF1QKTCiI/WV6gsy\n",
       "k6WI7vmqjy9DeYssK5N/APBdlZqV4VAyRklWhmGJWRluJKEYm1firIygRTkrw7z1ngByViaKdiue\n",
       "lYk3qK6fW1K0nrFvZxqSrMymEYDNa9SsDIeSMUqyMgxLzMpwI+MVakxkZRgbO/3OIBZEW5SzMp4s\n",
       "9qB7ViaG59AgyMrEG1SzMtySouXkw+xrSvH3HYeb3pUqLSvDoWSMkqwMwxKzMvzIWEU0xrMyvlLv\n",
       "9NvALIi0KGdlmLdedc/KxPAc2qn4d9ziDapZGW5J0XOHkyGe2yvZC9P2K0nxDjUrw6Pi6RDGKMnK\n",
       "MCwtK8OPJGRlfKXeA2FWRtCimpXxvfUeULMy/qKkWZlEg6pdbEm2T8033bcfmWPOuaOwLvsetH1G\n",
       "gulFalaGQyXSIT6jOCvjY0lZGW4kJSsTsDklzsqIWhSzMoEs9wE1K8PQ8qxMskHRLm9Jjk8PwxSE\n",
       "jg3Z5459V2R74TLA4CMVYlaGRyXSIT6jMCsTYElZGW4kISsTsLklzMoIWxSzMoEs9yRNzcowtDwr\n",
       "k2xQtMtbkuPTGnwLgWNF52OKF0GyFz53PvxoAy0rE0fF0iEBoygrE2IpWZnYSOWsTMjGTujziKBo\n",
       "i1pWJpDFLjVoWZkALcvKCBrU7PKXVKwVRuAJgWNZVmbDZWX6Gvlxa7WRdCzLymy4rMyK/XqQG28l\n",
       "HMuyMhsvK3MAhpatcxWxY1lWZkNmZYQLyrIyGzIrI1wQ+uKVZWXMCf6fWRm2oH8B8YDzlq0OQ+0A\n",
       "AAAASUVORK5CYII=\n",
       "\" style=\"display:inline;vertical-align:middle;\" /></a>"
      ],
      "text/plain": [
       "VertExprArray((A_{1, 1}, B_{1, 1}), (A_{1, 2}, B_{1, 2}), ..., (A_{1, n}, B_{1, n}), (A_{2, 1}, B_{2, 1}), (A_{2, 2}, B_{2, 2}), ..., (A_{2, n}, B_{2, n}), ....(A_{_b, 1}, B_{_b, 1}), (A_{_b, 2}, B_{_b, 2}), ..., (A_{_b, n}, B_{_b, n})...., (A_{m, 1}, B_{m, 1}), (A_{m, 2}, B_{m, 2}), ..., (A_{m, n}, B_{m, n}))"
      ]
     },
     "metadata": {},
     "output_type": "display_data"
    }
   ],
   "source": [
    "VertExprArray(ExprRange(i, ExprRange(j, ExprTuple(Aij, Bij), one, n), one, m).with_explicit_parameterization())"
   ]
  },
  {
   "cell_type": "code",
   "execution_count": 66,
   "metadata": {},
   "outputs": [
    {
     "data": {
      "text/html": [
       "<a class=\"ProveItLink\" href=\"../__pv_it/demonstrations/19eac60c78a4ffc7efa1924b203a783a4ac033380/expr.ipynb\"><img src=\"data:image/png;base64,iVBORw0KGgoAAAANSUhEUgAABSwAAAAuBAMAAADQNUp7AAAAMFBMVEX///8QEBAiIiLu7u5ERES6\n",
       "urqYmJiIiIjMzMx2dnZUVFRmZmaqqqoyMjLc3NwAAABb1yYoAAAAAXRSTlMAQObYZgAAAAlwSFlz\n",
       "AAAOxAAADsQBlSsOGwAACjFJREFUeNrtnF1oHFUUx0+a7keT7bYPKkX8qPSlEJFFRYkvjQhaUGhL\n",
       "oQ9VcKEVBS0NVQxWxK0vFVQSfFAUtMEKxYJkUazYvKxB0LemWARfzIoFqRIT1NoPbePM3Ds7987c\n",
       "c+85MzuJlT2Q0GzP/39+5+7ZzWySPQB+zIMlqrNACmqejPkMZvMrQJStzHzeIGnhiS3M50mCKeZs\n",
       "orWLNHNqHqWmw2xuBYiylZnLG2Qu01g6W5jLkwRRVJZsolPEO/cUawjsNe1mDm0+RJnKsLzTgKSG\n",
       "p7XAsOeTYIrBqbZFdfIqzZ2aR6lpN3No8yHKVIblnQYkNTytBYY9nwRTvH+kgYvWnLtIMqfmUWo6\n",
       "zOzafIiylWF5pwFJC09sgWHPJ0EU1dGXW7jo59I/JHNqHqWm3cyhzYcoUxmWdxqQ1PC0Fhj2fBJM\n",
       "MQin6riqWfmL5E7No9S0mzm0+RBlKsPyTgOSGp7WAsOeT4IpHoPxCVRUaJUvUcypeZSaDjO7Nh+i\n",
       "bGVY3mlA0sITW2DY80kwRRMWJgHuCX501b8vMcvVy+HN/e8cr+EzH+VRHp9KTcxs+N2j/heJpEAr\n",
       "WWSO04RIZOvQWkbEGyOAE6sptjpKcvkM6zh5GnMLxiFQ7Bn0fHY1Sg9PT41AeWyj/8XhA7H/fW76\n",
       "5J/hzYMwuFGlu+J/3jKbyNMjSNgyi9dMhjBrwif+MceThFayiBxjLdXEQCToza7xCHKjT1o3ooyI\n",
       "geBhjxCrKaaTlEBqMnwEDHiHJvoUU2stmIZAs2fQM0YhGfcCrPOqVESlmdgdMgrwe3jzuu1V7RXb\n",
       "kP9pVTORp0eQILKQmokpEGbnYcF/iRZPElrJInMMtXSTJJGgN7smYkj/pHQTNh5EnyhlJlZTjCc5\n",
       "lEiGDchxGuEdGuVshoz3cRQzOD+HnjMKhidRWLUeG8tB7+O28OZirXoR/T6g5MkYfvJ9/Ilbqfn0\n",
       "U2NNk9ke81gKrWTZY5g6k4m8A956oW0lkq4JIts3QNF4EONjRwElVlMsJ6kmly8crNHhVU3xxOEX\n",
       "gdeC1/Tk81tNQyDP5sThg6W9DQp9lEodBcVckBfq4ndP5rHcBeJ3Q/LmNdgjIZYXHOMdZeyHtFrN\n",
       "/idugFuMZvCm4U4OtSHLmw4iNeHO9njbThS4Jonw6JTx40DtRRuxkoKepJZc2lRqcuAjzT076n1t\n",
       "Vgt+0zfCQcMQSHvfcrI0SaFXU2mjECkk+Y/eP1dfRcay6j8Gt7U7N7+CXOrG84IHYbO8HmHRalbv\n",
       "nYU/jGblTYY7OdRKFpFjIVITpuGQgyhwTRBZfugWlgniQdhnI1ZS0JPUklfXi7Mc+Ejz00uwrsZq\n",
       "wW/6InxhGAJp71s2Bico9GoqbRQihSC/e+lbqGy7MmEcy/5tV2rw1dL34c3VB8ze8TxxFbW9hLwm\n",
       "i9UcGC2sN5qdrSXv5I5WspytOYjUhOvlswFOJFxjRHhEZeRl3UkLsZqCnaSe3NcYnGTAq5pjsAN4\n",
       "LQyMerNze3IIOvbHvMfFqhaJPkqljkKk0MnN38T1i+Bf4TdHk4p8S3v1HscDVtT0DrJpukCsNqtt\n",
       "QF8XCRaZY3kuUBL6r8KDd9mJhCtG5IpFuAlwYjXFfZLBawvoazHgVc0GmC7z4PsapZHqYgMfgg3w\n",
       "HCyUSfRRKnUUIoVO7p1l/4RtLIehuvXVT91jORy22R7f5R5Lr+YCrHrdNARnX32tNozdyT6Lp/Vz\n",
       "rCWkiYhbyuf32IdYuGJErthUHIFh+1iKFMJJBq9ca3uDO4UGH2m8Aouw+Rse/IL3fFkcaaJD4Fke\n",
       "g72DFPoolToKirlGXn3v0mj5Jjg397ZJ5d98qNW3tOT4AyiRV52env4MCie+fstxVSNq7oaSMfHW\n",
       "pSXfzEsyPbY9Fk/r51hDmgRE8OgzL9TtzxjCFSOyPMt6BbbDa2OAEwsGkeI8SZFc/nwUPBxh7oSP\n",
       "NIdahUlwZCdiN6xtV4/V0CHwLH+AX56l0Eep1FGIFAbyilXaIvbXYp1GJYNZZSWIulCslTdOKwN/\n",
       "pYvmra6Q77QONPGVXYH367udGcx2rgBRF4rxeHbmwpC+HsOcz2FUWJ/2i0TnIg+knsGsvgJEXShW\n",
       "zBunmKWBevfMi8tL3ote9KIXvehFL3rRi170ohfXSuxdOn78TAN7ZbTt8vGPtxJeQRHzKDUdZnZt\n",
       "PkSZyvBI0oAwe+WqGUh8elRxHcAA+obMvhGAKUIdah6lpsPMrs2HKFMZHkkaEGavXDUDiU+PKKoX\n",
       "AAp/Y6KFUYDHCX8TS82j1LSbObT5EGUqwyJJBcLrlatmIPHpMUXRG9XiBUy133sU7R91u1PzKDXt\n",
       "Zg5tPkSZyrBIUoHweuWqGUh8ekwxsAiwFv1j7Cnv43Tb7U7No9S0mzm0+RBlKsMiSQXC65WrZiDx\n",
       "6TGFd2XR/4HtQu6+zbQrBFIepabdzKHNhyhTGRZJKhBer1w1A4lPjynGHxr7uI6Jyn+OHfyOYE7N\n",
       "o9R0mNm1+RBlKsMjSQPC7JWrZiDx6THFy22o3ICtLyhdBfiy7l5foOW5Q6uJmSHrC4TWub5ANyES\n",
       "8dcXyDIi5G6Cfe4UvI48GjEwZ1JDpG3B1ICKxKBnjUIi7vc+jjSQ9QWr1wOsuWhZXyDftq7l6WF6\n",
       "z7pWMxHSDFlfILTO9QWaiYEo9h5+zRUXqD2rrPI6acJyhmqK5SQFiPwPwyqCBIG5AnIXONWmBjQk\n",
       "Bj1jFJK5/p4P73WY+b086ybF6yR8fcFQMk8P03vW9ZrxkGbI+gKhda4v0E2SRLH38GuuFsFQTBo2\n",
       "Lq6TGrYzVFIsJymPRoRhFUGCAIFA7gKX2tSAhsSg54xC4srCX9Y1tR0Zy3HvyX3gvHt9gZYnA3/P\n",
       "ul4zsSxAmpnXF0itc32BbiIf1+gGAN2Vsb4gbFx8IdYXzDhT8JMMj0Z8QVxfYKjAbwFdXxCeDWF9\n",
       "QSKVOgqJ9QX+lUX5CvbOR+87P4zPutcXxPKCY8Tfs67VTC4LCM2M6wtCrWt9gW4iAt8AoLly1hd0\n",
       "yvghdxPMuFPQk+yABF/Q1hcYKvBbwNcXSCTK+gJDKm0UEusL1npXFju+xcbyNEDh5ppzfUE8L7gC\n",
       "wd+zrtVMLgsIzYzrC0KtY31BzEQEvgFAc2WsL+iUCULuJphxp6An2QEJrvpo6wsMFfgt4OsLJBJl\n",
       "fYEhlTYK8fUFA/7v6R8BZCw/9H+P3gLX+oJ4nrjGQd+zHqsZXxbQMTOtL+ho7esL4iYi0A0AMVfy\n",
       "+oKojLwUPGk5QzUFO8kOiLxMpKwvMFbgt4CtL+ggudcXGFKpo9BbX2CLrqwvmHGn5Le+QFbgt9Bb\n",
       "X6DX/F+tL7CcYZiS7/oCCcFv4X+/vkD8+7+0vkB+sQzrC/AzVDcc5LK+QIPgt5DL+gLqKBSWYX2B\n",
       "3GFBi2VZX9BNoi6oW9027GYLXV1fwDp4zLy3voDhml6d+/qCTC301hc4a16D6wvq3eap5wORWrsc\n",
       "6wv+Bbq2oU19ks1vAAAAAElFTkSuQmCC\n",
       "\" style=\"display:inline;vertical-align:middle;\" /></a>"
      ],
      "text/plain": [
       "VertExprArray((A_{1, 1}, B_{1, 1}), (A_{1, 2}, B_{1, 2}), ..(A_{1, _a}, B_{1, _a}).., (A_{1, n}, B_{1, n}), (A_{2, 1}, B_{2, 1}), (A_{2, 2}, B_{2, 2}), ..(A_{2, _a}, B_{2, _a}).., (A_{2, n}, B_{2, n}), ....(A_{_b, 1}, B_{_b, 1}), (A_{_b, 2}, B_{_b, 2}), ..(A_{_b, _a}, B_{_b, _a}).., (A_{_b, n}, B_{_b, n})...., (A_{m, 1}, B_{m, 1}), (A_{m, 2}, B_{m, 2}), ..(A_{m, _a}, B_{m, _a}).., (A_{m, n}, B_{m, n}))"
      ]
     },
     "metadata": {},
     "output_type": "display_data"
    }
   ],
   "source": [
    "VertExprArray(ExprRange(i, ExprRange(j, ExprTuple(Aij, Bij), one, n).with_explicit_parameterization(), \n",
    "                        one, m).with_explicit_parameterization())"
   ]
  },
  {
   "cell_type": "code",
   "execution_count": 67,
   "metadata": {},
   "outputs": [
    {
     "data": {
      "text/html": [
       "<a class=\"ProveItLink\" href=\"../__pv_it/demonstrations/9a7df754de731d71cbb88bb852da2718b8b274530/expr.ipynb\"><img src=\"data:image/png;base64,iVBORw0KGgoAAAANSUhEUgAAA98AAABEBAMAAABqlJueAAAAMFBMVEX///8iIiLc3Nx2dnZmZmbM\n",
       "zMy6urpUVFSYmJhERESqqqoQEBAyMjKIiIju7u4AAACSi8d0AAAAAXRSTlMAQObYZgAAAAlwSFlz\n",
       "AAAOxAAADsQBlSsOGwAABcRJREFUeNrtnU9oI3UUx19nkzRON9Mc9KIgwXpZtLbqQQ8rjliop6Vi\n",
       "enFZ7EVWXCi96F5cNwf/XGTpwQVPNnsQ9NQiiOJlA+LetCkuqNDFQA920WDcpf5ZinGSmXScdGZ+\n",
       "39/MyxThPWho4ZPve9/3Tab502aIBtUmrBDOajIJwWKcg6ENdUzowm1GKsLPNjgKwpUaTEKwGOdg\n",
       "aEMdE7rwNiMV7se6WsduLgj3yx0mIVSMczC0oZYJTRhDQcFwPzffvQaNgnDWB28ssQjBYpyDoQ11\n",
       "TOjCGIpR4X7aX1d/fg35rQFw1vbiqfMLDEKwGOdgaEMdE7owhmJUhJ+PqUovAKMgnFnL2/lZBiFY\n",
       "jHMwtKGOCV0YQzEq0k8VnBvh8jaTECzGORjaUMeELlxlpCL8SOASuAQugUvgErgELoFL4BK4BC6B\n",
       "S+ASuAQugUvgErgEzhH4FDgKwhmzTEKwGOdgaEMdE7rwFCOl40dKSkpKSkpKSkpK6ojqYWZO+USh\n",
       "wQzCglk5TD4fm5U4rU1QYJNpkOMdZhAWzMph8vnYrMRomV3s+iinrPUOM7jOtCU2h8nnW++Mvm3u\n",
       "YgW6Psopa/4WMwgLZuUw+XxcVuK0Hnsa+ztslFPVsak9XhAWzMph8vnYrMRoGc2f6tBDAJBT1nTp\n",
       "Di8IC2blMPl8XFbitHK0XoOOdyCnLNv8ixeEBbNymHw+LitxWq/SS9D7KSinqkI9f5sVhAWzcph8\n",
       "PjYrcVo2zawQ7fafs1nvxdxg/sPtPPFmivuR8Wd8pwDotdptQJz1+PlW8rtEz2EqhZj5/IqxPoym\n",
       "3/PhKr0/d3GV8jfKvR/ObEVeP8DZ9Ew4Ze07F781vG9C68e5+b9jOwVBt5XXV8nlKFeOH8y9iHYY\n",
       "qTCoA5GgV5Vhv2KsD6ORew70x7QG1SaadByarssrkbMEuD9oJuLx7N3O15jtfRO6+SbR77GdgqDX\n",
       "yixD3OSSsacYrH8R7TBawStfJOhVZdivK4SikXsO9sfaHtyIaGwDCDzAXYoMHDjSEN036FR87sx1\n",
       "BXhJFXiAK7aMxM9rXIeewltv37C5juj9+RzBlR8uxy/5EJp+z76W56hQc1+CUwU+xNGjSf2/Qu4r\n",
       "mP1Ou+dqExUF6LaKDjzI0bFy0gc5nsO+gvXOF/QpT+DufD3Bz+n7+CUfRtPu2dcaOHrI+brrljrw\n",
       "IS5/f9Lnus5RgtYqXqdHtmmypQDdVpGBD3H0fNKHXAOHfQWj3aB/eJ7cu/P1BPfo2dglh6Bp9+xr\n",
       "eY5udr8lc21/VhX4MHci4Vqttf0WfdL9atDpAp1TgW6rqMCHOePDhBs6cOgqjDcLGxx5H8w33sxv\n",
       "0L1xSw5DU+/Z1xpypPwdHuAM26ik3ITb6TOayytuqm4rU3Wk9rgH6YGUg7kKEws5m/V11omF0qrR\n",
       "WUCW7KPp9+xrDTlyFmrNYoE73InFait94DtkdOiej+K5XqsdIHCXMy4vnkp5CHYUHIczNPYia+Az\n",
       "zl2suGojS/bR9Hv2tYKOjJO3m/kvaWrzKcU6XO5qN+0bib1Op+uFFfpO8Wpmr9Xpeq8vwk10uynf\n",
       "X+wpOA7PUulJ1pdfztLxinGhhSzZR9Pv2dcKcWSCIibXEurcYJ1pMJNGVubRTBGqtQxeeZlpiEKL\n",
       "GYQFs3KYTnp51G1r4JVrTEMUucEi13pqowu8djRTjNCRlJSUlJSUlJTUyEo+EEC3oY4JXTiDDwSQ\n",
       "j/zQbahjQheWz3iRwCVwCVwCl8AlcAlcApfAJXAJXAKXwCVwCVwCl8Al8P9F4HKiOt2GOiZ04QxO\n",
       "VLdzrTqOnCcR4ayTL9vKkzmiDSExzsHQhjomdGEMxagoP79efx2aBeGsb+aXWIRgMc7B0IY6JnRh\n",
       "DMWoCD9yOmndhlomNOEMTidNW+AsCFcqMwnBYpyDlTT+/XSLaCTwFiMV4WcaHAXhjCaTECzGORja\n",
       "UMeELjzNSAX8/AvtpuovaKQCwQAAAABJRU5ErkJggg==\n",
       "\" style=\"display:inline;vertical-align:middle;\" /></a>"
      ],
      "text/plain": [
       "VertExprArray(A_{1, 1}, A_{1, 2}, ..., A_{1, n}, A_{2, 1}, A_{2, 2}, ..., A_{2, n}, ......, A_{m, 1}, A_{m, 2}, ..., A_{m, n})"
      ]
     },
     "metadata": {},
     "output_type": "display_data"
    }
   ],
   "source": [
    "VertExprArray(ExprRange(i, ExprRange(j, Aij, one, n), one, m))"
   ]
  },
  {
   "cell_type": "code",
   "execution_count": 68,
   "metadata": {},
   "outputs": [
    {
     "data": {
      "text/html": [
       "<a class=\"ProveItLink\" href=\"../__pv_it/demonstrations/3d42f7d286aea39fe1fc512e0b2739249b6dcd330/expr.ipynb\"><img src=\"data:image/png;base64,iVBORw0KGgoAAAANSUhEUgAAAIAAAAGgBAMAAACQy3J6AAAAMFBMVEX///9ERESIiIhmZmbc3Nyq\n",
       "qqoiIiIQEBB2dnZUVFS6urru7u4yMjLMzMyYmJgAAADLXkBjAAAAAXRSTlMAQObYZgAAAAlwSFlz\n",
       "AAAOxAAADsQBlSsOGwAABddJREFUeNrtXEFoHFUY/t2dTbbZzmahx1CyiUEsii4ESosgGxWsKOyG\n",
       "QG/SvVQPIubQCh7UIKWoWLvkJh7ai5RikbGnHkLNIQfpUrJUNJctpvQitgsRqra1cZ03781md/Z/\n",
       "M2/mp5qa/4PNzmR2/t335s373v9//z8AeljLQMPuDaKBI1QDB++YfrKN/jd7aDP0rFS5u9lAP/BC\n",
       "6vdQA5mSvzVSRz9Qyvwd/sNr/saSgx0eqdp3ww3Mqnf7Kno4DdY9gNxtb+cyNiRSY/L99LtvSFT7\n",
       "Dk9MH/wN4NoT3ndM1noP7VcndM56u3m0D3NFgD/c98Oyw2pYI6+ojRbeAoA3ww20/L7LLyBHv3Ff\n",
       "q+EGVgavR8+NNO/+GS+HGdgaB/DpYA+MP3BgtvN9mIFs02iYhzQBTA1cohg4tPoRrFWtz+4WKfd1\n",
       "lTgvjDhEA3lgJAYTCxNLP7HkPv7CIRFLGtI1ErGMnrU2ScSSdzADcYgFsjUascBPDo1YrDEisbwI\n",
       "L5GIxdp7/TkSsQx3OqRbm4mFwWBsC3xHXScNlbgT/2W0jT7Vs7wLomE0DjLaK4st97BxoPXglgwp\n",
       "bFbzf81yT7+8C0Kz3NMv7wY4tGHK1lc0B1qGBlq6vkKXe6FxA4PrE2scIMs9bBwYLu8YjG2D16gG\n",
       "VonnZzpEA+kzZVN/AL8/T5yOuG+nurESdIqyis9GuDpz/sZ5jfd+ZD1i8eE7mfhs/BX8HDFHZgpq\n",
       "ksWbWoJKXROR7kYIvLZn/1R0cbSffvZMnykEI9J+69QZ79z3dm+jfXgRYLQWEQu9IBnKXsZbAEPz\n",
       "voGb7UlkLrf9zvsFo691GQrzDOR+/QCODX5mdzlwOXrxsvt67I4yYF1chr9CxkF2kGy/7TQgM/5g\n",
       "QTVhV3FkftDAKaM7yjMw3EyXEvKRayC3ABUY+jGZARGRto+7gz31OWVioM5MX1MNrDM9JAcHpjkw\n",
       "7QemL33ypdhJrniWYD+QFM/7UGkCRfG8FWLALDANJwFIiqf9ls6AYWB6xtEZMPNcrJJVBopgOXP9\n",
       "B4ekeH7Y6bDiycTCxMLE4hFLaCeYEItkpoBkGodYJDMFJNM4xCKZCZdMjYhFMhMumZoRi2QmTDI1\n",
       "JBbJTJhkahgSk8xkjSWeEyQzJZdMJTMRJFPJTCyZMhiM7QBWPB89sOLJiiew4slgPDSw4smKp1I8\n",
       "8VTpboQgWvHE/f4Yiifu9/swUDyV309QPD2/n6J4en4/RfGUfj9B8ZR+f3LFU/j9JMVT+P2seDIY\n",
       "DI4fcPyAxwGPAx4Hj+44aMc9YSqw34hrYC6wOK/H7t3+3aXYSpDvMCnX4Wr8Xpvo/c7oOJzWYVK+\n",
       "ayP+L7jQ52W0Yp9v93+naRwOcZgUasRxgMXhwnEKGDwrMzszeCAxeBwwGPGxo5JMcZUoKslUICWX\n",
       "u7hKFJVk6jkdcrLAVaLIJNPuChtXiaKTTAW8TARcJQommaontwU7YUyrEskk0y3IB+x00ZuJgKpE\n",
       "/mN1tnAYbajIREBVIpVkerM9WX9mr96AzETAVCKZZCrkofdgn97ACuaDejeSTDIV8tAmHNAaUONg\n",
       "UCXqJpnuKtrzcFRrIDoTYbiZKlgbTW0TIlFxf0O+UMotJDVw3nUPrUXHPu49YIcAFoqYWJhY/kfE\n",
       "ogrkkhOLLEMgEIsqkEtOLLdQA3GIRZUhJCcWVYaQnFhmHBqxqDKE5MQiyhBIxCLKEJhYGAzGfwuO\n",
       "I+1AcP0C1y8A1y8wGA8JO6l6QUMnkdULAlM6OjGpXhCY09GJSfVC12fF6SS6esHr6YKWTuTz2iIx\n",
       "4WjoRFYvhFyjrYQcnE7U89oiIRJyWngLvOqF56/tS90Ql9Pdehyj04aGTlT1wuVz68P1lOgLsYUM\n",
       "LJmQg/xUVb3w6tMw2kyLLxBbjmYcIHTSrV5YhDUY8np3Ec4hTYhMyHkfJqBiy61pO/4NZW2433wj\n",
       "LR75vgFvvx7fgDvKV+CVp2Ct6m49SfHAt/XzC/4BjILD6cSIUp8AAAAASUVORK5CYII=\n",
       "\" style=\"display:inline;vertical-align:middle;\" /></a>"
      ],
      "text/plain": [
       "ExprArray(A_{1, 1}, A_{1, 2}, ..., A_{1, n}, A_{2, 1}, A_{2, 2}, ..., A_{2, n}, ......, A_{m, 1}, A_{m, 2}, ..., A_{m, n})"
      ]
     },
     "metadata": {},
     "output_type": "display_data"
    }
   ],
   "source": [
    "ExprArray(ExprRange(i, ExprRange(j, Aij, one, n), one, m))"
   ]
  },
  {
   "cell_type": "code",
   "execution_count": 69,
   "metadata": {},
   "outputs": [
    {
     "data": {
      "text/html": [
       "<a class=\"ProveItLink\" href=\"../__pv_it/demonstrations/055fc83064fc47e91efd1f27782dc243ce1dacf40/expr.ipynb\"><img src=\"data:image/png;base64,iVBORw0KGgoAAAANSUhEUgAAAyoAAABMCAMAAAC1UrMvAAAAM1BMVEX///8AAAAAAAAAAAAAAAAA\n",
       "AAAAAAAAAAAAAAAAAAAAAAAAAAAAAAAAAAAAAAAAAAAAAADxgEwMAAAAEHRSTlMAdrvvq93NRIkQ\n",
       "mTJmIlRAUMakMQAAAAlwSFlzAAAOxAAADsQBlSsOGwAADR9JREFUeNrtnduioyoMQEVRAcXD/3/t\n",
       "EZWrBGm3ih3hZTpbNCEQSJCuVlXO0vVVKaU8tvCWPkQThktvlPLkQh4yQqeGls6AZ7Qff/6/UZrx\n",
       "CVrQZ6jx0IIme1h35wvoUTFygpXEE6YU3JWegFdc4uR0YldhrIXAc+nqYT8JoXq+MlbceQia75j/\n",
       "Xtd47X1UZqqUUVrn12EQJaeHV1xnGpmECMUGaydi4fsKapCMbCfWes4g1qeOYl2xuhL/JsSpYsqu\n",
       "Q1cWFbgwZ5AzHAgDuEBbiMBcL6vbzXeYd9ew3VGxZnUZVgx9XOo2e4RRFpVYNmn/h3Ai9lHWuP1t\n",
       "FG7S0enNkr7xVhv1lF6snli2VZKin9xJXdeWXoDnEXvF5Wge5PsoAAvlGs7aQUzVwVs1aqEXpDWJ\n",
       "6Uq2krKsNG/31UfHX3Y+zuQSPAKpCsXt4IZlZgqi3lIkam389XUBKe+1kuKfvNkKFmXxjyy5lmf0\n",
       "kxzbZD/X1Agh7C8MBJ6CzOw0bo8bS7qYUkRWM1FRly6ASzs5i8q8Vuzmf7Tm7JP3cqqF3wPoVGWe\n",
       "p9Y8cWqKqZOm9SGj9PEBW3BPzurNlgeqGWN4P7OoCNrL+BtrW5kCqUolGrXOFFMnlH6/pt+ZKpX4\n",
       "K81V6Bo0id0miFpnvA2w1oz+CUpVRpX59GVVSYvAMtqJirL/lRaAbZtYbbNLPEY3mFL1TQBGgFSF\n",
       "NspnptILiRN7vghszLqk/UDfqJWi3xxiO9lC/VRldoDOucL1IkOof8fW37XOUscaiNVK8bK8fMMV\n",
       "l/eP0aJ2cXmj5zW+LMZ6lHfNFkKtp1PMlW1fuSfe35W39a1526L3pKkoe2GRMmQ0T1PyyXjfLJER\n",
       "rYVYPGGSH+SwbrevGmF9VlJFaq3+EhJlNcas9/6+3VHXzNoha/WE1bZlXYklK9lS65KqHCYrQHA8\n",
       "gV0GXYHvqHibVK2UeUXOFQVN5a3KUTIHnGSEY2ZSfXqHcyaz5I6xwrKdLWElqz9M7INvEinYY9AV\n",
       "+I6K10nVSpHbULnm9q68gDyMUYN9Aw9o9OHfPW8snnKQ1+d6s9JkPSnwG4VfPXpR+XL9B8l1rn0o\n",
       "Ud7Vl/JTRWSa3Lkoe8Wl/FRpM6UMU9krLuW3SpdpCwyVd8Ol/FbBmfZsyVteq3Dv34se/8mVhzfp\n",
       "qYWJP31h9GuOGxbv+KKqot5dRb8DoXfousBayXwZcI+oQAjVTSMha3XbfDDfd98m57V4BVVHUe8O\n",
       "6XfhEmPiKZcYo4Ihdh7wMI+odyDzXcA9YtJr4zQfJOffukr3CldR1LsU+l24gEw8Y0kaERxh54WL\n",
       "R9Q7kPkq4B7S7yD1VyJp+iAOctySSvuKcy3qhFUC/Q4IcAEmnr3ysIhgmJ0XLj5R70Dmq4B7o57h\n",
       "iDo5mX4WKMxxS5stX+Eqjffvx1aDmHiOEAoLhtl50MzpEfUOZL4JuGdcZQ2gZY+k9iPAcUt0lRfk\n",
       "hIp6l0K/g3Y/1JCH14QA9E4JjLDzoBRSL2fRqUzJfBNwz8TNy+6t+nIqRQjTgRDJn5KfEMG0Gkhd\n",
       "cUa0dQzHzVyx63BM0HKMiaIlIKDYdpUXGFl9wzCFfhdLVXwmnre2Y0hwjJ0HpCo+Ue9A5puAe9pV\n",
       "etFiXKuAdu5PhFHFWvktBtzNHjO7AKnquQ+ITm4Mx81cser0ciZcsCxkpU2NVjYr3uAqobkXoN9t\n",
       "A3SXOgSZeG7tAPRuuyHAzhvSUpUj8oGS+SbgXq9cZYmf1XfiRi6NRSs8VsNUdXixHR8XyLCeIg3H\n",
       "zVyx6qy/MiSdbX6E/Mf5mQrxhjP4CrqSQL/bKg5+6mAz8ag3MLfaAejdJjDAztMSxhZFUpWVfODV\n",
       "seQrmW8C7g3qhO+aqkg3oOvcwzQGZBnVSPxHK3spsDhug75iPlVseWBLlkc00uaNZfhxfEFCqFBe\n",
       "CfQ7IHWwmXgDQm24CyHBEXaeo9Q+VdmwV04dW76S+SbgHh1HO0rlZgNMD+x+cSbZa711cN7luJkr\n",
       "+tMSZtN1W23542Dv+4g38Fr2rgLS74DUwWXihZldgb2tTWCEnTevbLFUZSXq+XWMfCWzf+Gq0uso\n",
       "FdFtyEu3kZ/JYiC5sc9aN5CoNMfNXFGf6PLALT1ZVihkm/WlAZhjtZGN44gH40Zs8jvHZeLZrmJq\n",
       "BxxoE+iz82wJY11xdEDU8+sYSerTm4B7ylX0Vj/H8sVVX+FGGbiT/TvKHfTWmM3juJkr6hNdfAF3\n",
       "1SSTezk71vhtrqKod2H6HR3ldDSYSWbd46W7VEUzqCZnqlI7wgHo3SbQZ+cxa9saIz7RZQsaJuqZ\n",
       "Or5jKJlaNn2FqzhrdS/X7kkMVL6ulbs1K7Cey3SQm6DJ47iZK+aT7K6pZctEKn+c3n2p9YrNYn9L\n",
       "1bUapwhbQc68ghPmkus8Jp7tKlvtxQH20Dsl0GPnmXtkfD2tOWmEqKfr7FzF3wZ/A29v2QGjuFuP\n",
       "5dXN0mTKEKomNk6rued8jvDFhKpPfI5bb4JY/YliRAaO0dIdmCD3ZMUrXEWtGBD9bplNrLB02ePV\n",
       "5Lo9E88Nd9QWcgB6p5cql51nbVtzwdjg3rUj6ll1fPlKZutj+f51V4kWdtJ8QZzntG9wFb01C7xB\n",
       "bOY/Y+st+rY1DCPxHFfZpp4g9A56Zamnqzlymmc1XsUE2nVc+UqmJXsqrmInKH/xEto4yUn3ih+3\n",
       "ix8r5PPA5XI2pquJh8Zk4BFXcWuHoXfAOcblnuV+jOTSQ6ICTZ1NpHaVwDHQf/9I33REN6In5N/y\n",
       "TRZ2bVm/g5inOFtB+t3YIcToMoIXGyO8blMBz+KkEwR5tSHoXRi3t9yz3C+v43GICjR1lluUfCPT\n",
       "kv0C3t54sMU/deLvR+KmETHvNQp+x1e7FPUuSL+zjoZNJpFIGHNWbQh6F8btbfe4k1/SIJ8OJoAX\n",
       "xAi5cBDsJV8YVtS7EP3OvG7padX1Q+rrPLs2CL3bC9T39J+nFc4tSubLgHu5cBCk0L2JYGoAzpM9\n",
       "Qyx1BH9W28xO6p4vooTy4/Zyds8TCI0FblTKj+WdmXaielF+rrOUnyq5gPQFxFrKj5VsQHohjmlv\n",
       "V6WN/OMLp4nkj3jMt/a5nJLHH6NBaMRmesvawqfwr8bMgay3x2PmLrfMgZLo6hDk0EwXtzwimWdL\n",
       "GTB4suV6zBzAens8Zu4Gy0SVvNRASWY6bHmsjWGlffWgDuqzbUQhaOvtDsxckPX2eMzcLZaJKHmx\n",
       "gRLMlNJysI2g0p56QAfl++F60EnvwMwFz0g9HjN3i2UiSl5soAQzJbQcaiOstK8e0EE42zeswN8L\n",
       "uwUzF2K9PR4zd49lYCWvNtCxmRJaDrURVnqnXriD2nw/M9eGZ6R7MHMB1tvjMXM3WQZU8nIDHZop\n",
       "peVAGyNK79QLdhDN+CKQhKeYezBzAdbb4zFzN1kGVPJyAx2aKaXl4TbGlN6pF+ygKeOhxT4s+x7M\n",
       "XID19njM3MWWcW/KweE7NFNCy4E2Ejjk3KsX7CCcEwbRBJOVczFzlBCMaaD2nvV2CWbOlv9XzNzJ\n",
       "AL4qetNtHL799A2bKaHlQBtbeP/BUw/qoCbn6RIWTEfPxcwtDIw2OJcAgs/FzNny/4qZO9cyh7tW\n",
       "1S0GgiXDGsRaDrQxorSvXriDhqxfGumDy/G5mDk5T/DQyNjv3VyCmbPl/xUzdzaAL945t3H4IMmw\n",
       "BrGWA22MKO2pB3QQygvjapqkMOMvmDmJezWuYtXes94uwczZ8v+KmTvZMmwc5qC+QqP1Xvt2Dl9A\n",
       "i4iZgJaDbbQjGFdpWD2gg7q8B+FR6BjYV5g5B/vmYuYUHdOuXYVYbxdh5oz8HWYujTNHL7HMXF2G\n",
       "8w3WX9J3G3sPhy+kRcRM4ZZHep+a5c5VGlbPkWw5VGYURCj++wYz52DfPMzcPHqoV9ved7wcM2fk\n",
       "7zZ79VMiHwIKnmKZubq8sORz5mTX3Ry+kBawmYCWw71vXfCUhtXz96TVIpWZ3UQCCnyFmfOxbxZm\n",
       "jtc0tN24Z71dhJkz8neYOSNb99P+w17BkyyD0QY7sveVbufw7bWImAlqOdhGC+TnKg2q50rWN2cn\n",
       "QdDQsvYVZg4ktvG5Kud+7SDr7RLMnJEfwMylceZ2Cp5jGVld/pj0vBANu5tu4/DttIiaCdIAtOPn\n",
       "F1zJXlyXNVvZa/wVZg4itvF6GAZG/dpB1tsVmDklvwofdkwKgMk1lhHbnD6PXZaDw7fax9XiyEzQ\n",
       "UVNyaLvkC/6ZzNWhH0DiCqErv8DMgcS2Rsji1wZYbxdg5pT8IGYujTMXUPAMy/TycieTHCzPpt/P\n",
       "4Vvu8LQ4NFNYA1DY5xdcyZEZ/fYyBVa2LzBzCcQ2uzbAersbM5f2FHS1ZQI33cPhm6q0efJQA5Rg\n",
       "uypVvb030mfwtVmg7Vdj5kDW2+Mxc1dYJnDTPRy+0B2HZuJXA4YCkvFDkHXtRx5bMHOnWyabgX4F\n",
       "w9c3D4H8D80LfvCplB8u7WN+tbTnpTdKeW6htqf8D+hYoaNLK8NqAAAAAElFTkSuQmCC\n",
       "\" style=\"display:inline;vertical-align:middle;\" /></a>"
      ],
      "text/plain": [
       "ExprArray((A, B, C, D), \\\\ ((A_{p, j}, B_{1, j}), (C_{j, k}, D_{k, 1})),  \\\\ ((A_{p, j}, B_{2, j}), (C_{j, k}, D_{k, 2})), ..., ((A_{p, j}, B_{m, j}), (C_{j, k}, D_{k, m})), (A, B, C, D))"
      ]
     },
     "metadata": {},
     "output_type": "display_data"
    }
   ],
   "source": [
    "# Unable to format this in an array form.\n",
    "ExprArray(ExprTuple(A,B,C,D),\n",
    "          ExprRange(i, ExprTuple(ExprTuple(Apj, Bij), \n",
    "                                 ExprTuple(Cjk, Dki)),one,m), \n",
    "          ExprTuple(A,B,C,D))"
   ]
  },
  {
   "cell_type": "code",
   "execution_count": 70,
   "metadata": {},
   "outputs": [
    {
     "data": {
      "text/html": [
       "<a class=\"ProveItLink\" href=\"../__pv_it/demonstrations/7da479167900a5bdc847292c08a9022b1e72c48a0/expr.ipynb\"><img src=\"data:image/png;base64,iVBORw0KGgoAAAANSUhEUgAAAG4AAABzBAMAAACLPSqNAAAAMFBMVEX////c3NxmZmZERESIiIiq\n",
       "qqoiIiIQEBB2dnZUVFS6urru7u4yMjLMzMyYmJgAAAAUeYijAAAAAXRSTlMAQObYZgAAAAlwSFlz\n",
       "AAAOxAAADsQBlSsOGwAAAvtJREFUWMPtWM9rE0EUfkmzcfNjk72JUEj1oEeDv0pASCSCBw8p/gP2\n",
       "ouJBohQseLDbqyIJBoSFYnLRKogprSKCQsGDhyIJngsJePGgtLUtbWra+HZNTMy+vHX2osg+2Mcw\n",
       "s9/Oy7zM974ZAMbSkwn91ASIW9MAi8OC2+jm+Xe+En3yDroX1v4zPe0lAhdeBR8o1v4LPSHlCVw0\n",
       "Ds+p2Pzd5ps5Yrx8tbBG4aR4p6V8oMZzVc84naDOLLmbl3/aWO9wBUCD3kC87beyO+2OCLUssA6g\n",
       "hlLEwLNSp7VMpW8DnY/44Up3lohGpG8X3QEqP2q3TSyAfxXnvAVs/uCOZfR1paEXphYJ3D1wzbW/\n",
       "b77RCb0wWRcHRvFfHXaAq+GujJSEeRcyiJFUYd6FJEBVEuddrCtK3QHvKtswrDrgXXldv+KEd8Pf\n",
       "wfvb+3/Iu5i+l+R8PO9CWaNzZsO7WFdonA3vGnWFNJ53Q4WWrpI4l3ddc2TDDnEVm/FPLV1/Z90c\n",
       "UsvuwyiWA7uWXm9R5WEeVE7Bb5bu6UEb9NeuxrkiG5avpTJjPC6Ayil8wxImXLSpHfviEHpgiemR\n",
       "WT/Y+nLi7Iz10yMQy/O4jArSbUt1PHaoGOdxoxS54QEhOs7jGvispCxhgv86C1P20BX76mewbh4w\n",
       "2DqPpwGl2de5H5+hNRYXxnBm+yrIQmsJpGSTS0Qg2dBnTrqs4dq/ZqG0/tCjiePOnQfpsLjeXbiG\n",
       "7qgqrHffG7JvVvieQd40/EdhvRsz2eqtsN7NpQb8Jhu9mx24IrzenTK9+D1D1oypKqx3zczJ4no3\n",
       "ZqzLXXG9KyG9P5kT1rsA84n7JVfvuva/WbqVKCRUB0DUOpFNcZhiSNwjvBKmaMRnSPFynePrMLWv\n",
       "hwzZFtO4/f6UPL8b/FrLM3wdIs/9NYOYVjSGr5fJg0CmSujOXr6Wt9pEfKn/+gVgi+PrL9SyGPfC\n",
       "ENnj+FpZHJS+V3GWrz8PSt9pnq/91DCm7/EIz9dyiZTHxw8O4OsfACbkK8mienQAAAAASUVORK5C\n",
       "YII=\n",
       "\" style=\"display:inline;vertical-align:middle;\" /></a>"
      ],
      "text/plain": [
       "ExprArray(E,  \\\\ F,  \\\\ (A, B),  \\\\ C,  \\\\ D)"
      ]
     },
     "metadata": {},
     "output_type": "display_data"
    }
   ],
   "source": [
    "ExprArray(E, F, ExprTuple(A,B), C, D)"
   ]
  },
  {
   "cell_type": "code",
   "execution_count": 71,
   "metadata": {},
   "outputs": [],
   "source": [
    "%end demonstrations"
   ]
  },
  {
   "cell_type": "code",
   "execution_count": null,
   "metadata": {},
   "outputs": [],
   "source": []
  }
 ],
 "metadata": {
  "kernelspec": {
   "display_name": "Python 3",
   "language": "python",
   "name": "python3"
  },
  "language_info": {
   "codemirror_mode": {
    "name": "ipython",
    "version": 3
   },
   "file_extension": ".py",
   "mimetype": "text/x-python",
   "name": "python",
   "nbconvert_exporter": "python",
   "pygments_lexer": "ipython3",
   "version": "3.7.3"
  }
 },
 "nbformat": 4,
 "nbformat_minor": 1
}
