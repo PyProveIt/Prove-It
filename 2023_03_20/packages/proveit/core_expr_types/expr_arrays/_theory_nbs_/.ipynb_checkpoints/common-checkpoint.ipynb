{
 "cells": [
  {
   "cell_type": "markdown",
   "metadata": {},
   "source": [
    "Common expressions for the theory of <a class=\"ProveItLink\" href=\"theory.ipynb\">proveit.core_expr_types.expr_arrays</a>\n",
    "========"
   ]
  },
  {
   "cell_type": "code",
   "execution_count": 1,
   "metadata": {},
   "outputs": [],
   "source": [
    "import proveit\n",
    "# Prepare this notebook for defining the common expressions of a theory:\n",
    "%common_expressions_notebook # Keep this at the top following 'import proveit'.\n",
    "from proveit import IndexedVar, var_range, var_array, vert_var_array\n",
    "from proveit import A, B, C, D, E, P, Q, R, S, T, U, V, g, h, i, j, k, l, m, n \n",
    "from proveit.numbers import one"
   ]
  },
  {
   "cell_type": "code",
   "execution_count": 2,
   "metadata": {},
   "outputs": [
    {
     "name": "stdout",
     "output_type": "stream",
     "text": [
      "Defining common sub-expressions for theory 'proveit.core_expr_types.expr_arrays'\n",
      "Subsequent end-of-cell assignments will define common sub-expressions\n",
      "%end_common will finalize the definitions\n"
     ]
    }
   ],
   "source": [
    "%begin common"
   ]
  },
  {
   "cell_type": "code",
   "execution_count": 3,
   "metadata": {},
   "outputs": [
    {
     "data": {
      "text/html": [
       "<strong id=\"Aij\">Aij:</strong> <a class=\"ProveItLink\" href=\"../__pv_it/common/5c23fba9289b116293ae940ed2d9d410ec6d6f6f0/common_expr.ipynb\"><img src=\"data:image/png;base64,iVBORw0KGgoAAAANSUhEUgAAACIAAAAVBAMAAADRFiHkAAAAMFBMVEX///8QEBAiIiLu7u5ERES6\n",
       "urqYmJiIiIjMzMx2dnZUVFRmZmaqqqoyMjLc3NwAAABb1yYoAAAAAXRSTlMAQObYZgAAAAlwSFlz\n",
       "AAAOxAAADsQBlSsOGwAAALpJREFUGNNjYACBtwzo4D66AM9/dBHu9Q/QRObNb0AV4CuoP4CmieF8\n",
       "AqpIDEP/BAYGZohZYP0bGN4vYGDgLACLaAAxu/fu9Q4omswZGPgVUEQ2MDAwCTCwVoHYzNVAW1mB\n",
       "9vB+YDDnNwBZy3OBgeEhkMHyj+HxIZAaY84NDCb/LzPw+P+dwOAONoIX4TLmz2CX8CN8yHNhAzPQ\n",
       "nY0IG5mXP+CQYWCoQgsnBoZrqCLBvBECqCIJ3NUGDACIlimHDrQuwwAAAABJRU5ErkJggg==\n",
       "\" style=\"display:inline;vertical-align:middle;\" /></a><br>"
      ],
      "text/plain": [
       "Aij: A_{i, j}"
      ]
     },
     "execution_count": 3,
     "metadata": {},
     "output_type": "execute_result"
    }
   ],
   "source": [
    "Aij = IndexedVar(A, [i, j])"
   ]
  },
  {
   "cell_type": "code",
   "execution_count": 4,
   "metadata": {},
   "outputs": [
    {
     "data": {
      "text/html": [
       "<strong id=\"Bij\">Bij:</strong> <a class=\"ProveItLink\" href=\"../__pv_it/common/b2540ac3e53a84b9b46e1e396c0df40b119644cf0/common_expr.ipynb\"><img src=\"data:image/png;base64,iVBORw0KGgoAAAANSUhEUgAAACIAAAAUBAMAAAAaSvJBAAAAMFBMVEX///92dnaqqqoiIiLu7u5m\n",
       "Zma6urqIiIjc3NwQEBDMzMwyMjJUVFRERESYmJgAAAAeMT9/AAAAAXRSTlMAQObYZgAAAAlwSFlz\n",
       "AAAOxAAADsQBlSsOGwAAAM5JREFUGNNjYGB4+//Mmb0LGJDBXAYGnl/IAhzfGRjYviKL8AHl+b4j\n",
       "i/B8YGDgnoEswnmBgeUwisnrr5effsDAwNIA5oGk6hsYmOYxMDAWgEWsgPgmEMuj6PoDxO8LkAS4\n",
       "/gGJ8wlsNSAOS6kCAwP7D6DobwZ3fgegCCvTBqBTJjAwZG5haFEGqXFhDGDguf/nzOlLQM51sBnc\n",
       "D+DGsXwBW8ffABdh2hDAIsDAsBJhJcvxBq5JDAw1KOHEwMTAsA9VJIU7awKqyAPWUgcGAFfjMymJ\n",
       "146sAAAAAElFTkSuQmCC\n",
       "\" style=\"display:inline;vertical-align:middle;\" /></a><br>"
      ],
      "text/plain": [
       "Bij: B_{i, j}"
      ]
     },
     "execution_count": 4,
     "metadata": {},
     "output_type": "execute_result"
    }
   ],
   "source": [
    "Bij = IndexedVar(B,(i,j))"
   ]
  },
  {
   "cell_type": "code",
   "execution_count": 5,
   "metadata": {},
   "outputs": [
    {
     "data": {
      "text/html": [
       "<strong id=\"Cij\">Cij:</strong> <a class=\"ProveItLink\" href=\"../__pv_it/common/40822cc19599f75195f37e8f4a897f7089b646470/common_expr.ipynb\"><img src=\"data:image/png;base64,iVBORw0KGgoAAAANSUhEUgAAACAAAAAUBAMAAAAevyJ8AAAAMFBMVEX///+6uroyMjLMzMwiIiJm\n",
       "ZmaqqqoQEBB2dnbc3NyYmJhUVFRERESIiIju7u4AAABBACUiAAAAAXRSTlMAQObYZgAAAAlwSFlz\n",
       "AAAOxAAADsQBlSsOGwAAALhJREFUGNNjYGDgu7N7F2cDAwJcv8fAFrIAwX/jDCTiJyAE1B8ACXEE\n",
       "n+MbiDRFCMx3AJGPEQL9FyA0H8QUAwZ/qHEcEAlnhnow/QChxR9EsBkgBMAu4GBgvA026GoCw3yQ\n",
       "3j6Gt/wgXaxsCgxsvxgYJB4wzEsBqXjHEcDA8PT0VgEg+yzYACa4n/j+gc3lh/uJTSGADxgE5nDL\n",
       "+PZOYC5jYLjNgAzYGBi0UATkmIQLUAQWsF59wAAAt0kqBAk8a+MAAAAASUVORK5CYII=\n",
       "\" style=\"display:inline;vertical-align:middle;\" /></a><br>"
      ],
      "text/plain": [
       "Cij: C_{i, j}"
      ]
     },
     "execution_count": 5,
     "metadata": {},
     "output_type": "execute_result"
    }
   ],
   "source": [
    "Cij = IndexedVar(C,(i,j))"
   ]
  },
  {
   "cell_type": "code",
   "execution_count": 6,
   "metadata": {},
   "outputs": [
    {
     "data": {
      "text/html": [
       "<strong id=\"Dij\">Dij:</strong> <a class=\"ProveItLink\" href=\"../__pv_it/common/d07264199fe181b9854a2ae697e256089cfdd1220/common_expr.ipynb\"><img src=\"data:image/png;base64,iVBORw0KGgoAAAANSUhEUgAAACMAAAAUBAMAAAD1iJl/AAAAMFBMVEX///8iIiLu7u52dna6uroQ\n",
       "EBBmZmbMzMyqqqqYmJgyMjLc3NxUVFRERESIiIgAAACK51z6AAAAAXRSTlMAQObYZgAAAAlwSFlz\n",
       "AAAOxAAADsQBlSsOGwAAAMJJREFUGNNjYGB4+//O2TsbGFDALwYGzh8oIuz/gEQqihDfdyDhPwFZ\n",
       "iPcDkNhvgCzEfwFI1B9AFqp/ACTmGzBoQ0wGEe8LgMR5BwY7sBAjiHcfxPqKYuNfIOb8ieEs1QsM\n",
       "fmAL9DJgzrrFwPTgE0gooQtIcAGd5ZjAwK0hAOQwKZgxMPDc/3PmbjbIxQ/A5qxEMlNfHUz9RhLq\n",
       "YmNQBloWgCSk85qhtIGB7wBqwDE0MHBNQBVhUVhSiqaIkyEviYEBANIoMCwlMWxdAAAAAElFTkSu\n",
       "QmCC\n",
       "\" style=\"display:inline;vertical-align:middle;\" /></a><br>"
      ],
      "text/plain": [
       "Dij: D_{i, j}"
      ]
     },
     "execution_count": 6,
     "metadata": {},
     "output_type": "execute_result"
    }
   ],
   "source": [
    "Dij = IndexedVar(D,(i,j))"
   ]
  },
  {
   "cell_type": "code",
   "execution_count": 7,
   "metadata": {},
   "outputs": [
    {
     "data": {
      "text/html": [
       "<strong id=\"Eij\">Eij:</strong> <a class=\"ProveItLink\" href=\"../__pv_it/common/ee3d7f7dad9a57caecc65f1091c71ab57ea2d8720/common_expr.ipynb\"><img src=\"data:image/png;base64,iVBORw0KGgoAAAANSUhEUgAAACEAAAAUBAMAAADxfUlCAAAAMFBMVEX///+qqqrc3NyYmJjMzMxm\n",
       "Zmbu7u52dna6uroyMjIiIiJUVFQQEBBERESIiIgAAAD3YE8vAAAAAXRSTlMAQObYZgAAAAlwSFlz\n",
       "AAAOxAAADsQBlSsOGwAAAMJJREFUGNNjYGB4e+b27ltnGZDBTyB+iyzA8R1IpCKLsP8AEnnIIpwf\n",
       "GPgYWJBF+C8wNKOYy9C/eu8nIJUE5oDV1jswLQBSdWARLgcgMZ+BoYAhAVnXXwYGBbYHyM75ByT4\n",
       "Evo2gDh5gSDnfAES2mwPvoFEAiRBZn0AqjvBlAgynS2hlIEhe/7v3XvPT2DghZg0GWFcfgqY+oQQ\n",
       "kWRlSAc68ABCJPsRg48AA98GVP8IMHAaoAhwJMzwQVXCzBAXxsAAADPyLaZkFvliAAAAAElFTkSu\n",
       "QmCC\n",
       "\" style=\"display:inline;vertical-align:middle;\" /></a><br>"
      ],
      "text/plain": [
       "Eij: E_{i, j}"
      ]
     },
     "execution_count": 7,
     "metadata": {},
     "output_type": "execute_result"
    }
   ],
   "source": [
    "Eij = IndexedVar(E,(i,j))"
   ]
  },
  {
   "cell_type": "code",
   "execution_count": 8,
   "metadata": {},
   "outputs": [
    {
     "data": {
      "text/html": [
       "<strong id=\"Pij\">Pij:</strong> <a class=\"ProveItLink\" href=\"../__pv_it/common/2776a93f7ca983d2ccdb09d730177720e17161f80/common_expr.ipynb\"><img src=\"data:image/png;base64,iVBORw0KGgoAAAANSUhEUgAAAB8AAAAUBAMAAACHR/vJAAAAMFBMVEX///+6urqYmJgiIiLc3Nx2\n",
       "dnaqqqrMzMwQEBDu7u5mZmYyMjJUVFRERESIiIgAAAAee7pSAAAAAXRSTlMAQObYZgAAAAlwSFlz\n",
       "AAAOxAAADsQBlSsOGwAAALRJREFUGNNjYGB4+//O2V0TGJDAbwYG3k4kPvs/Bga2f0gCfN+B+CuS\n",
       "AO8HIP6OJMB/gYGh/gGSAJDjasYwBWIeiHh/NFSRgSEOLMBcACTuM6CB32h8drCNcgdA5LxlIGd8\n",
       "BBKcD36CBBZkAwluoDMYWKYZgIQnRDEwcN3/C3IDL8Qhm+AmzZ8Opr7ABbK5GKYCLWiAC8x5wlCR\n",
       "wMB3AMUBCQzcCsh8xgkbK1AUMDGsW8nAAAD0xC6xdehaUAAAAABJRU5ErkJggg==\n",
       "\" style=\"display:inline;vertical-align:middle;\" /></a><br>"
      ],
      "text/plain": [
       "Pij: P_{i, j}"
      ]
     },
     "execution_count": 8,
     "metadata": {},
     "output_type": "execute_result"
    }
   ],
   "source": [
    "Pij = IndexedVar(P,(i,j))"
   ]
  },
  {
   "cell_type": "code",
   "execution_count": 9,
   "metadata": {},
   "outputs": [
    {
     "data": {
      "text/html": [
       "<strong id=\"Qij\">Qij:</strong> <a class=\"ProveItLink\" href=\"../__pv_it/common/9ec35c282486f661284cec8d0e0b9bae3e99f63c0/common_expr.ipynb\"><img src=\"data:image/png;base64,iVBORw0KGgoAAAANSUhEUgAAACEAAAAUBAMAAADxfUlCAAAAMFBMVEX///+IiIiqqqq6uroiIiIQ\n",
       "EBBERETu7u7MzMwyMjKYmJhUVFRmZmZ2dnbc3NwAAABtgPhfAAAAAXRSTlMAQObYZgAAAAlwSFlz\n",
       "AAAOxAAADsQBlSsOGwAAANpJREFUGNNjYGDgu3N3FwMKuNnAwD0BWaAyAUjEIItMARH7kQR4foDI\n",
       "+w0IkfcgTQznDRAi5xVA5PwHDHVgLgcDg38BkGb/ysBwESzC0sDwFURz/UIy2QVElCK7Zz8DswLD\n",
       "0QcMhhtAvMJDDAz9Cite8cYxsAt8B4kc0GRgYIwT4N1dwMBX5ACyoeAOkOzOvWLA0MDAJgA2ZBaY\n",
       "ZDNgfMBQXwFm/4OIbADq1uRhqAU6MADitf9Av1XLMbQqMDBugLjcVQHiEgUGzgUoQcdcMLkVNTC5\n",
       "GA4eZ2AAALfjMlN+qlGsAAAAAElFTkSuQmCC\n",
       "\" style=\"display:inline;vertical-align:middle;\" /></a><br>"
      ],
      "text/plain": [
       "Qij: Q_{i, j}"
      ]
     },
     "execution_count": 9,
     "metadata": {},
     "output_type": "execute_result"
    }
   ],
   "source": [
    "Qij = IndexedVar(Q,(i,j))"
   ]
  },
  {
   "cell_type": "code",
   "execution_count": 10,
   "metadata": {},
   "outputs": [
    {
     "data": {
      "text/html": [
       "<strong id=\"Rij\">Rij:</strong> <a class=\"ProveItLink\" href=\"../__pv_it/common/2eb0bfd30abccd8218c947fe45214a7f220eb7870/common_expr.ipynb\"><img src=\"data:image/png;base64,iVBORw0KGgoAAAANSUhEUgAAACIAAAAUBAMAAAAaSvJBAAAAMFBMVEX///+YmJgQEBDu7u5mZmZ2\n",
       "dna6uroiIiIyMjLMzMzc3NyqqqpUVFRERESIiIgAAACCFtC2AAAAAXRSTlMAQObYZgAAAAlwSFlz\n",
       "AAAOxAAADsQBlSsOGwAAAM5JREFUGNNVkLsOAVEQhr/k7MquDfYN6DUSPfsIGrVCJQq1RIEHkI0X\n",
       "sOEB6JQUWqJ3yRZ0JERF3I6VsGeSSWa+zPzzZ4Dja71ZocQDhtMwMJ8Qu4VJ/AqGQowT9JZhklgS\n",
       "bSjCte1+5oLwgk5WlDwxz4DuB6Qusy0XC8rWHfKKncgZJg6Rw6cRuxFoFynlm7mE1EKzmtCXJOlX\n",
       "B+PPTFZ30ItFG61js/3atX9y4uIGdr0fsZqOkB66/5Ni4ZlpOKiPsqClkrJRSanE1nYZ3uVXMdLI\n",
       "M1JuAAAAAElFTkSuQmCC\n",
       "\" style=\"display:inline;vertical-align:middle;\" /></a><br>"
      ],
      "text/plain": [
       "Rij: R_{i, j}"
      ]
     },
     "execution_count": 10,
     "metadata": {},
     "output_type": "execute_result"
    }
   ],
   "source": [
    "Rij = IndexedVar(R,(i,j))"
   ]
  },
  {
   "cell_type": "code",
   "execution_count": 11,
   "metadata": {},
   "outputs": [
    {
     "data": {
      "text/html": [
       "<strong id=\"Sij\">Sij:</strong> <a class=\"ProveItLink\" href=\"../__pv_it/common/4a5ea32dcfac4b71f5032a8e5057ddf968dbf0270/common_expr.ipynb\"><img src=\"data:image/png;base64,iVBORw0KGgoAAAANSUhEUgAAAB4AAAAUBAMAAABohZD3AAAAMFBMVEX///8iIiIQEBDc3NxUVFTM\n",
       "zMwyMjLu7u6IiIhERES6urqYmJh2dnZmZmaqqqoAAACoC7eKAAAAAXRSTlMAQObYZgAAAAlwSFlz\n",
       "AAAOxAAADsQBlSsOGwAAALdJREFUGNNjYGDgu3uGewEDAsxgYJ+PxOW9wMCwDYnPH8DAsAKJv34D\n",
       "A0MoEr/+TwADMuD+/9+ZgYHdAMwBSVXM/8TAwNMA5ouCyftI1nODjHiA4JcAsX0BVwuIzd77gOEh\n",
       "kL7DUMFfAHIaXwLDxQMMPA4M5iBhhnKeCwwXllzxA3sCBNg2QE1h/w52FL8BlM+XcIH9AANDEMwW\n",
       "dg8DVj0GhhZkh/MxMGQj85ezLVVA5m/g7S1gAADrLClfycDE6gAAAABJRU5ErkJggg==\n",
       "\" style=\"display:inline;vertical-align:middle;\" /></a><br>"
      ],
      "text/plain": [
       "Sij: S_{i, j}"
      ]
     },
     "execution_count": 11,
     "metadata": {},
     "output_type": "execute_result"
    }
   ],
   "source": [
    "Sij = IndexedVar(S,(i,j))"
   ]
  },
  {
   "cell_type": "code",
   "execution_count": 12,
   "metadata": {},
   "outputs": [
    {
     "data": {
      "text/html": [
       "<strong id=\"Tij\">Tij:</strong> <a class=\"ProveItLink\" href=\"../__pv_it/common/756bfa42362ec3bccfe59dc5d8245a3216ec2f400/common_expr.ipynb\"><img src=\"data:image/png;base64,iVBORw0KGgoAAAANSUhEUgAAAB4AAAAUBAMAAABohZD3AAAAMFBMVEX////MzMx2dna6urqqqqpm\n",
       "Zmbc3NyYmJgQEBCIiIgyMjJUVFREREQiIiLu7u4AAAB+RZVWAAAAAXRSTlMAQObYZgAAAAlwSFlz\n",
       "AAAOxAAADsQBlSsOGwAAALdJREFUGNNj4Lt7eu+d3WsnMEAB5z4GjgsM3AUwPjcDQ34AA4sBjJ/O\n",
       "wFDvwMD5AMYHSux/wMDMgAR6GVAA21cgwZcAZgsAMfsXIMEEsfAiyIZ/qOqB1qMAoPUMzLNBLL6p\n",
       "Dgxg6xle8oMcwMqyAEiuBzLzfEHy75gCGJj2/D8NNPskWCsXzBt8/0A2M/AnQPksCwL4FBgYJGB2\n",
       "8O1MYGxhYJiNbC8LA8NyZL4dl2EDMr+AdeoDBgD5BiiF3gztWAAAAABJRU5ErkJggg==\n",
       "\" style=\"display:inline;vertical-align:middle;\" /></a><br>"
      ],
      "text/plain": [
       "Tij: T_{i, j}"
      ]
     },
     "execution_count": 12,
     "metadata": {},
     "output_type": "execute_result"
    }
   ],
   "source": [
    "Tij = IndexedVar(T,(i,j))"
   ]
  },
  {
   "cell_type": "code",
   "execution_count": 13,
   "metadata": {},
   "outputs": [
    {
     "data": {
      "text/html": [
       "<strong id=\"Uij\">Uij:</strong> <a class=\"ProveItLink\" href=\"../__pv_it/common/0478f2bb8fec8cda4f6f27a504a446cdfda4d7f60/common_expr.ipynb\"><img src=\"data:image/png;base64,iVBORw0KGgoAAAANSUhEUgAAAB8AAAAUBAMAAACHR/vJAAAAMFBMVEX///+YmJjMzMxERETu7u5m\n",
       "Zma6urp2dnaIiIgyMjIQEBCqqqoiIiJUVFTc3NwAAABAtvA6AAAAAXRSTlMAQObYZgAAAAlwSFlz\n",
       "AAAOxAAADsQBlSsOGwAAALxJREFUGNNjeHv+7AaGWz8bGOCgPoGBgaMAwWeYD8SsDkgCn4GYF4nP\n",
       "9gNIuCMJsH8CEmJIAjwLgEQAA4MfmMfEwOB/AUgDcQVEWoFhvwADAx+SKxjqFYDmPEAWgNiaAdLJ\n",
       "4BHNwLAf6KZ7DCwNX0ACATsZGDgDGN4qMPB5HwDyWRxKgWTxVZCRzBBzJ8KN8ncCU//gAjtZQe5n\n",
       "WgAX8O1j0NrAwHGBARlsYOAUQOazOUzTQlHAyBARwsAAAKyXJvb71+/vAAAAAElFTkSuQmCC\n",
       "\" style=\"display:inline;vertical-align:middle;\" /></a><br>"
      ],
      "text/plain": [
       "Uij: U_{i, j}"
      ]
     },
     "execution_count": 13,
     "metadata": {},
     "output_type": "execute_result"
    }
   ],
   "source": [
    "Uij = IndexedVar(U,(i,j))"
   ]
  },
  {
   "cell_type": "code",
   "execution_count": 14,
   "metadata": {},
   "outputs": [
    {
     "data": {
      "text/html": [
       "<strong id=\"Vij\">Vij:</strong> <a class=\"ProveItLink\" href=\"../__pv_it/common/d81069daee21d271a73649761f7f66785eace7af0/common_expr.ipynb\"><img src=\"data:image/png;base64,iVBORw0KGgoAAAANSUhEUgAAAB0AAAAUBAMAAACDsiv0AAAAMFBMVEX///+YmJh2dnbc3NwQEBBU\n",
       "VFS6urru7u5mZmYiIiLMzMyqqqpEREQyMjKIiIgAAAAM9TCCAAAAAXRSTlMAQObYZgAAAAlwSFlz\n",
       "AAAOxAAADsQBlSsOGwAAALBJREFUGNNjePv/NAPDyp8NDFDA/hdIsAUwwIELELMiuAz3gfgVEj/e\n",
       "gIFZAYmvn4CinEFegEGMgaEYzOYC4nwFkHI9MJ9zAQND/QEU5Qz8E8RQ+JzfgcrzwA6q6wYSPH+A\n",
       "jnzwHcRv2AskOL4xMDBXTwA5vUADSDKCvMLzAKz3IsyQ+iow9RnG38vBUAR0jgOMX/qYYckGBr4A\n",
       "ZIs3MPAKIHHZCq4tQZZmZOhrZ2AAAE2vJA1r0mcSAAAAAElFTkSuQmCC\n",
       "\" style=\"display:inline;vertical-align:middle;\" /></a><br>"
      ],
      "text/plain": [
       "Vij: V_{i, j}"
      ]
     },
     "execution_count": 14,
     "metadata": {},
     "output_type": "execute_result"
    }
   ],
   "source": [
    "Vij = IndexedVar(V,(i,j))"
   ]
  },
  {
   "cell_type": "code",
   "execution_count": 15,
   "metadata": {},
   "outputs": [
    {
     "name": "stdout",
     "output_type": "stream",
     "text": [
      "A11_to_Akm expression notebook is being updated\n"
     ]
    },
    {
     "data": {
      "text/html": [
       "<strong id=\"A11_to_Akm\">A11_to_Akm:</strong> <a class=\"ProveItLink\" href=\"../__pv_it/common/f78fd11d29c98d58117b8f5e4b11404b7f0cc2860/common_expr.ipynb\"><img src=\"data:image/png;base64,iVBORw0KGgoAAAANSUhEUgAAAmQAAAAWBAMAAACcSp1sAAAAMFBMVEX///8QEBAiIiLu7u5ERES6\n",
       "urqYmJiIiIjMzMx2dnZUVFRmZmaqqqoyMjLc3NwAAABb1yYoAAAAAXRSTlMAQObYZgAAAAlwSFlz\n",
       "AAAOxAAADsQBlSsOGwAABA9JREFUWMO1mE1oE0EUx1+ybT6auPUiehCN7cGDlxWkpScLXgTBVgue\n",
       "PATNwYsQtCCKH2kvLXgweBEFNSBY8NKgINJeQuu9BU9ebMRCqVpTRKVVa9zZndnM7L6ZnTTpHtLu\n",
       "+7/5/d972WRnA0CONUAPcxE0D0WmTFqDNsC3u7QJpKTOJTy8a12Xq8iUSUvQBvh2lzaBxOtM1/Hs\n",
       "BW2wIlMiyTxbKkN7qT5SUmdquorGZ/7pghWZEknm2VIZ2kv1kZI6nzwtYOHk6oYmV5EpkySeLZWh\n",
       "vbQJJF6nmb9TwbJX4n81uYpMiSTzbKkM7aX6SEmdKVjIYunl9C9NsCJTIsk8WypDe6k+UlLnebhX\n",
       "RMKdlcSmHleRKZMkni2Vob20CaSkzjLUSuiAzd+6b4U0UyZJPFsqQ3tpE0i8zvip2elBgD5nd2dc\n",
       "9uKjszM/WMB4+MKSc/lMVBp49Iyc9C2KnpRKVSVcnaNcGjsMaGc0riTT2VzIi+F+gO4MJK5lyMnE\n",
       "FRY27LTvLJCCVEbKFTJRqQwv7RNq0fCkVFdVw5U56qWwB9DOaFxJduuEyLD/2oPobnvP5vYz17h6\n",
       "AQ6xQPewuaG4/rlMVPoJNXKrTmdET0qlqhKuzFEvNem2dQ6PK8l0NjXfd2HWfX7gRuZ8Bs/RhwXH\n",
       "KWbZzRlBJJL5euJGPFcQpYuNkRmcp0OlavBz79oJBAY3wqbFm8cGV4pYZzSucmezyZnX+dY+2icd\n",
       "//iRGVtkQ2IPF4aq3puTzMDxRao5L96ZmNl3JhspxUs+Ce4DHRlZ5nkSKjgqwnUyRQKDSyoRw2xp\n",
       "1+35A1hnLM7cHT/RndU59fVoteF+rP4O0kNbRf4q67HAGNqy4G39vTeycQuivfbfI0BfomU089Mt\n",
       "6C6kij4p0ctGRiCeJ6GCq/ZYPNf5x476CAyOVCL8I5hHbkIB64zFmbuzWnD36txbSfCtec+fjZGl\n",
       "+evUHZl5wn6ZDz60BjOnYAyiFZ+0bHkWPMShumo6+NkQ7FwCg8+HPUxztNpsAe2MxcPdzT9vhNaQ\n",
       "kSUhMIgv8A0guKlDMvfBKNQSomSWzSqz4CEO1VWTwb6LQQKDh22DeVquM1PFOqNxDffY4FmTb40b\n",
       "mVF0wf2+QQyAeXLylXNzDt6E/Znr9puRS4nS8uRda4B+/XMQQrU9iSqSvL2Aj8DgSCXyuqYSmSLW\n",
       "GY1ruHflx5N8a6z8x5v5xH5YXXoAwBdEAmOVSL2+DvFgacHMzhJ8gM9XRelgvW5LxEKAEKrtSVQI\n",
       "DkGwcwkMHg+7Y/K00/C8gHVG4xruHdWuS3xrwleApALdHx2UmRIpDe2Ah/5SCDvkPiJ5vLW0H4St\n",
       "pqURaAM89BiBHXKX/B4T0+bGmpey7YCHHtn2uf8HX6f0hrggYZoAAAAASUVORK5CYII=\n",
       "\" style=\"display:inline;vertical-align:middle;\" /></a><br>"
      ],
      "text/plain": [
       "A11_to_Akm: A_{1, 1}, A_{1, 2}, ..., A_{1, m}, A_{2, 1}, A_{2, 2}, ..., A_{2, m}, ......, A_{k, 1}, A_{k, 2}, ..., A_{k, m}"
      ]
     },
     "execution_count": 15,
     "metadata": {},
     "output_type": "execute_result"
    }
   ],
   "source": [
    "A11_to_Akm = var_range(A, [one, one], [k, m])"
   ]
  },
  {
   "cell_type": "code",
   "execution_count": 16,
   "metadata": {},
   "outputs": [
    {
     "name": "stdout",
     "output_type": "stream",
     "text": [
      "A11_to_Akl expression notebook is being updated\n"
     ]
    },
    {
     "data": {
      "text/html": [
       "<strong id=\"A11_to_Akl\">A11_to_Akl:</strong> <a class=\"ProveItLink\" href=\"../__pv_it/common/1911b5617c66a2edcf7fa193eb814fbdedca6c250/common_expr.ipynb\"><img src=\"data:image/png;base64,iVBORw0KGgoAAAANSUhEUgAAAkgAAAAWBAMAAADJK34yAAAAMFBMVEX///8QEBAiIiLu7u5ERES6\n",
       "urqYmJiIiIjMzMx2dnZUVFRmZmaqqqoyMjLc3NwAAABb1yYoAAAAAXRSTlMAQObYZgAAAAlwSFlz\n",
       "AAAOxAAADsQBlSsOGwAAA7VJREFUWMO1mE9oE0EUxl+zbf40cetFvIjGluLBywrSUi8WvAiCLRY8\n",
       "eSjagxchiCKCaNqLBQ8GL6LgHxAseEnQg9pegvUqDXjy1AiFUrQmiEqrtuvOzO5mNvPGeSnsHJLd\n",
       "L9/7fTPT2cmkAKytA9rsGhCbxhkX19TWO9RJwcu4c1eTytQ44+Ka2nKHOiU45+LOJXIXcWdcXFPT\n",
       "5ep0UnC2XEed89tUJu6Mi2tqulydTgp+/KSIGTNrG0SkxhkX19Q0uVqdEmwXblUx52rqL5GJO+Pi\n",
       "GjddTa5OJwVnYWkSc1Zyv4hM3BkX1/i0aXJ1Oin4HNwtIcaeanqThtQ44+KamiZXq5OCK9B4ik68\n",
       "/Zv6p0OdcXGNywDP1eqU4NSphfIowBA/PlmXQv3KwvyPQLAevHD0zIizHOX6lQp35OEzItd3lqlz\n",
       "5I/nfIHfDdVQnRKcPMRvjrHTwDBAXx7S1/JMuX05MFoe7HsgZCGb1yIjTvgQyILrVyrcCrwkcoWz\n",
       "xTU1kQtd4+zGH5aiU4Jhjzhd1fgqhMRu71oUvWstOYCDgdA3bm/8Z3FKTnjbWt2MG1S2c39Co0jj\n",
       "CmeLa37a+Hga/gEyj+qUYFscKLPeRtYzKQ7h0iTxhXjWP8bz0SUdj2mpONUJgyCMPpdXItwLfOgU\n",
       "rnAyrmOYHjkXpuzrwSQhOiU4ObrKNvqEt/Q+e+/d2/IkWVvsUOFNOozVwyWQycPxmv8Zfwnvok6r\n",
       "KT4KuawS48I9Kpc7PS7i4UnRuyB37uuRuj9JmB4ER6sjwb03F/czHeCo+xFyY1sleSX1O2CNbTnw\n",
       "3v0UTtKMA4kB7/0w+C+JCupkTzAzhlxWiXHTA1QudzJuvyN7wovWnZy7t5oOVhKmh8FRlhzcdQOK\n",
       "bZuhNEk5eV2LSbJPeC+L6k9Gxcme4IiRVyLcFYfK5U7GzZmeNwlk/3nTGhaiE4IbC0Vo2wylScqA\n",
       "Mklf4BuAehRTnYkJiBp5pcq1K3adxhVOxs2Y9mwJlBw9Y4fDQnRC8FRPnnVx0IlMklUSgxluG/oI\n",
       "2CdnX/FvRvXrts3Zl4KIkVVi3JXZOw6NK5yMO2zauCVQb2Em43VHbNyqTgmeS+dLXtebLZf9aLOQ\n",
       "3gdry/cB5FomTFe7XLcJKbVbqjN7FSJGVolxD7gukSucjFswHSOl6+5670WvjA0L0ynBp+F50ev6\n",
       "6/G2J1KTTv3xrHPGxd1xGR2ndn1C83vPoSI1zri4Oy3rAKd2XfOfhCQZqXHGxd1pWQc41vV/A3DS\n",
       "PJybbHUAAAAASUVORK5CYII=\n",
       "\" style=\"display:inline;vertical-align:middle;\" /></a><br>"
      ],
      "text/plain": [
       "A11_to_Akl: A_{1, 1}, A_{1, 2}, ..., A_{1, l}, A_{2, 1}, A_{2, 2}, ..., A_{2, l}, ......, A_{k, 1}, A_{k, 2}, ..., A_{k, l}"
      ]
     },
     "execution_count": 16,
     "metadata": {},
     "output_type": "execute_result"
    }
   ],
   "source": [
    "A11_to_Akl = var_range(A, [one, one], [k, l])"
   ]
  },
  {
   "cell_type": "code",
   "execution_count": 17,
   "metadata": {},
   "outputs": [
    {
     "data": {
      "text/html": [
       "<strong id=\"A11_to_Akl_array\">A11_to_Akl_array:</strong> <a class=\"ProveItLink\" href=\"../__pv_it/common/31f7409229e6be8401b6b8fad664c2a72869af2b0/common_expr.ipynb\"><img src=\"data:image/png;base64,iVBORw0KGgoAAAANSUhEUgAAAMoAAABuBAMAAACUxpFjAAAAMFBMVEX///8QEBAiIiLu7u5ERES6\n",
       "urqYmJiIiIjMzMx2dnZUVFRmZmaqqqoyMjLc3NwAAABb1yYoAAAAAXRSTlMAQObYZgAAAAlwSFlz\n",
       "AAAOxAAADsQBlSsOGwAAA3hJREFUaN7tWk1oE0EY/ZI0aZKNWy/iRTQi4iGXFUTRSwJeBMEEC548\n",
       "FO3BixBEEEG09NKCB4MXUfAHBAteGvSgNpegXqUBT54SoVCKPwmi0qppnN0ZcXY387HfkhSq88Fu\n",
       "u/vmzdvsz+xj3wDY9QmwwtHgrCbavhlKxcfK9LDmOBqcZcy3kPY4Gpx17/4U0h5HA7PM8rW6ujmO\n",
       "BmcZsDiB/HQUDc46DTcq6vY4GpxVhfYDgIMN+//YeW97GT1852FAFZl1pMNWo8dr8wVIXsrae2Yu\n",
       "eJq70Co8kbE86yTWBbFSsjK21iGAMbaVcfbAS097F/oN2vKdE62yVQ7+rFQso+IcIES3KlVc6Fm3\n",
       "CnbCJFa0BBBn98KWjkrFg8LNQCJuVp4t79kysq5S8aDJPYFU3Kw3AAd6byFT7Fb6q3jRJSuIiIf1\n",
       "Qh7e+l8XF2pWTdKYxll7LdeeWAVTYejS7HWLqMJYnfLfgefuWjm5A1aat/oOSxzd1SO9BQTrWcmj\n",
       "jR9ZqLeZnzWOth8PpeJn4YPvRCiVcCxdG1fa9WnXp10fyfXFbj+21K5PoETXJ1iS6zPAyKpdn0CJ\n",
       "rk+wJNc3VjJX1a5PoETXJ1iS60tY/VVcKNH1CZbs+iCVRVyfQImuj7Nk1wfTFuL6BEp0fZwluz7z\n",
       "KOb6BEp0fZwlu74P8BlxfRyluj7OklyfeWz2qdr1CZTo+gRLcn2RXq+jdn0CJbo+wdKuT7s+Xbp0\n",
       "6fonymcPCaiq8g3frhxKyIVRcbznsE/AwCqnbzVdw38qEWiQT2Vu2E+lrs18g274qPnfv8V06dK1\n",
       "uQtNWMzGgPpEExbnMye9iPnLYigVav6ysB5GhZi/pFZWw6gQ85fl0V8hRKj5SzXzPcwJo+Uv8Xpy\n",
       "LYSKatbNGeerry9/McD8AZDY52xQZ93wPqX8BSLOV19f/nKxtvCV/dkmuKT8RfQpz7ppc9zzbTzG\n",
       "juYLu5j8maHOuuF9yrNuJs3LfVQMtuxmZ6ywbDelzrrhfcr5y9zH/S2/yik+VqSvvtrpbNPyF96n\n",
       "nL9sryf9v8VkBwTFFkSugPMjiPkL71PKX8yfz/3XJVbsWvC69w7aNX6maPmL6FPKXxKFk2af6yJq\n",
       "Mp61TycxfxF9SvlLujydUucvc8lshZ6/iD6l/GWklT6nzl9OwKMpev4i+tT5C61s1m/tH65ClKoM\n",
       "fwAAAABJRU5ErkJggg==\n",
       "\" style=\"display:inline;vertical-align:middle;\" /></a><br>"
      ],
      "text/plain": [
       "A11_to_Akl_array: ExprArray((A_{1, 1}, A_{1, 2}, ..., A_{1, l}), (A_{2, 1}, A_{2, 2}, ..., A_{2, l}), ..., (A_{k, 1}, A_{k, 2}, ..., A_{k, l}))"
      ]
     },
     "execution_count": 17,
     "metadata": {},
     "output_type": "execute_result"
    }
   ],
   "source": [
    "A11_to_Akl_array = var_array(A, [one, one], [k, l])"
   ]
  },
  {
   "cell_type": "code",
   "execution_count": 18,
   "metadata": {},
   "outputs": [
    {
     "data": {
      "text/html": [
       "<strong id=\"A11_to_Akl_varray\">A11_to_Akl_varray:</strong> <a class=\"ProveItLink\" href=\"../__pv_it/common/a6d6654211557a57bc4b2c95d3c050fdf39e9c900/common_expr.ipynb\"><img src=\"data:image/png;base64,iVBORw0KGgoAAAANSUhEUgAAAMwAAABuBAMAAACZ2OEkAAAAMFBMVEX///8QEBAiIiLu7u5ERES6\n",
       "urqYmJiIiIjMzMx2dnZUVFRmZmaqqqoyMjLc3NwAAABb1yYoAAAAAXRSTlMAQObYZgAAAAlwSFlz\n",
       "AAAOxAAADsQBlSsOGwAAA61JREFUaN7tmj1oFEEUx19y+bjk1omdjeCJpEpzgkSS5gI2gkUOA1YW\n",
       "h7GwEQ4RxEpNY8DCYCMKfoCFYJNDC03SHGIbErCyygkBCRoTRCVRk3XnZjbZmXvz3BlF5ZgHG/Z4\n",
       "+3v/3b39+Cf/APBaBaLYIjgUNnKJAvasu8ggI4OQAhZcZLCRuek6QcxuO8hgI+8/uGoGelY2HGSQ\n",
       "kaxypWYG3nX/sFfBRuZgoWwmqsFXh3OGjDwNN6eMQGctu2kvg42swtpDgMHG7ZE537Rf7BvA0N1H\n",
       "/MNg2ltIjDxTgV2q+8Tc9AhkL+X5h+sXNODi3Oxnjj2N1uU2cWW2oh/FRbmSLDES2kqwSx0F6ItW\n",
       "AjHipQpkoh36BPAF1viVEygyMBAt7VW5kiw5ck3eQ3lxgNC+1ySTi5aDAOOoDHHOGiPPsss7Mp1l\n",
       "8TzBZU7Fz41bkF4mHvn4w+F6TL2Nlo5tgwyL9glGo22zhyxk4pH7atmYOhK+hmB0awqVyYxuFeBV\n",
       "+AZguZBeJh7Jvr+AJgo/afFRVVnd4rsR1TVykmEymSmTzPLkjcKQrUxvZaIHNIrd26xk98PK0m2M\n",
       "OBCGcK3Gt7GQ6aj3nkOpgMRqLq83jBojL9OCiwpGlclv1Olg3Chff7u8HfR20NvB37GD0vfhdjBz\n",
       "50nKp3TSDkpKsYPC9xnsYA5yeXs7KCnFDkrfh9vBvhLbsLeDklLs4Lgmo9jBrgLbSHnOEnZQUJod\n",
       "FL7PYAehJ5Xn0Oxgg9LsoPB9BjsIE6kuAc0Ockq3g8sFwg6yYy52UKGEjPR9Bjv4Hj462EGFEnaQ\n",
       "+z6jHWTHJ5/Z20GFknaQ+z6jHWwLQ5uXgrSDzZS3g94O+vLly1drVJNzVKro9IshRg1QQMNbWpcb\n",
       "9acO8p/tri9/e/76yrVsud6ebi1fLVb/3SPUv9Z8+fLVOrXq3LSiyABnyUnGNsCh0x0bigxw6HTH\n",
       "hiIDHLJpQ5EBDp3u2FBkgEOnOzYUGeCQTSsqGeAMr2NNmcEMp/77cDLAkZQS4ASaTRBNmcGoTXN+\n",
       "owY4klICnJx2rKIpMxitacxv1ABHUkqA017Sj543ZXKjN4lzlghwBKUGOEV1+7gpkptiShU1wBGU\n",
       "GuDMq0DcFMnNfEoZNcBpUFqAM6Nsv9MUGcxMOhUtwFEpIdOPJwEig+m3iwlkgKNSIsBZR/+Thmcw\n",
       "xqaxeICjUzLAeY5eTDyDMTaNxQMclCIDnMDp9YZRZIAz5iSDUeSzuOwk06B+AuKGrm9B0qEVAAAA\n",
       "AElFTkSuQmCC\n",
       "\" style=\"display:inline;vertical-align:middle;\" /></a><br>"
      ],
      "text/plain": [
       "A11_to_Akl_varray: VertExprArray((A_{1, 1}, A_{1, 2}, ..., A_{1, l}), (A_{2, 1}, A_{2, 2}, ..., A_{2, l}), ..., (A_{k, 1}, A_{k, 2}, ..., A_{k, l}))"
      ]
     },
     "execution_count": 18,
     "metadata": {},
     "output_type": "execute_result"
    }
   ],
   "source": [
    "A11_to_Akl_varray = vert_var_array(A, [one, one], [k, l])"
   ]
  },
  {
   "cell_type": "code",
   "execution_count": 19,
   "metadata": {},
   "outputs": [
    {
     "data": {
      "text/html": [
       "<strong id=\"A11_to_Amn\">A11_to_Amn:</strong> <a class=\"ProveItLink\" href=\"../__pv_it/common/5dbbcfa782b74cccae812bfa34ea7a28a44ebd920/common_expr.ipynb\"><img src=\"data:image/png;base64,iVBORw0KGgoAAAANSUhEUgAAAmkAAAAWBAMAAABptBbcAAAAMFBMVEX///8QEBAiIiLu7u5ERES6\n",
       "urqYmJiIiIjMzMx2dnZUVFRmZmaqqqoyMjLc3NwAAABb1yYoAAAAAXRSTlMAQObYZgAAAAlwSFlz\n",
       "AAAOxAAADsQBlSsOGwAABBpJREFUWMOlmE9IFFEcx3+7k7uru46eIiJqy2Md5hCKpwQvQgcLoYN0\n",
       "EDIIIlhKEoRo7KJQ0NKhKKgWOghdHAqC9LJUd4VOXXIjISxspX9opNu89+bPb2beb3zjPBB2f9/v\n",
       "7/N+7zdvxjcLwMY6SIe+DKqDIJCI9dTkNImJmGQXVuThzg1lNEEgESupyWkSEzGpJZRa8viSctco\n",
       "AoUg/Smc6onJmFQXivMNaXxhR5VMESgE6U/hVE9MxqS68OSpKQu3r22qkgkCiaD8aZzqiYmY1BL0\n",
       "ys26LP4l/0/1gUkQKATpT+FUT0zGpLpQhKUxWdwq/VG9GwgChSD9KZzqicmYVBfOw92qJNxWL2wp\n",
       "kgkCiaD8aZzqiYmYZBcsaNakl0T/q3o95AQSQfnTONUTEzGpJeRPL84PAPTyw5x2xYtPLC78cgPa\n",
       "w+cGTQ4Q8BCI/kfP2BdfFn6H6ahx5PjZ40ryR3h2f8TTxRKiow+gqwyFyTL7MnPVg1UAfriBIhTL\n",
       "NDlAwPUIhAUv7C9IFn6HKdRYcvzsMYn+iMyOd1MM3VmCbMNCtts++onUNz4M4Kgb6Dqjb8bdDZiA\n",
       "6+GI39Bk/+l9WfgdpqPGkeNnjysJnWzLlBRLd7sQedyNiZcG1DW+Yc85bx68azmDkaMb2YgSLl+a\n",
       "tIKIC37XNOQXTKFGyRKnIGu79CuQ+GpmKj9ugmx2T+J0CRUvwZ66dn3IXx58sv/27eCuadvsUMMu\n",
       "x3DD23ztZRE/tQyhD0GCdnE/HA4h4J5bN0vy/IwJXOX2KD7oFGRJAdwqTew9O5ap5Wuy2ZHE6FEq\n",
       "XgKb+iBMecuDk633UBreruK9dswAbXjbgHetD17Xbhk8DlnW6ePgfGCRIEHvW4afIUShx60724P8\n",
       "nClUxvGp/EPE6ZCZELJaVOLnG9BlFquy2ZHE6FEqXgKbehNe+8sL3/isSSV8w4iu6YPhuEgyIoSO\n",
       "Slt3SFg1PPktPqMPemqULHEKckCQDazPwTRk69LZfYnTo1RcU0el0A0nUBGSrrVDpGvf4HsoLvZ2\n",
       "9IGbMYuWGRB0S2+4Mj5ecqZQo2SJU5BhtxMq1g/ABDQLIJvdlzi9Gru2jJkf0DdMvwi0Zq0qmtQX\n",
       "6lo/6EOzL0Nx9794mNCE7B0zIKzO3jb6nedxBTXTZtp+pkrIEqcgY4E6K3iJG/aWGi+CbHZP4muT\n",
       "UHFNTXuP5QYsrwiP8nirUjgEaysPADCBBabrmVZrIxgXA0ccwijk7weFI62WjWAy5PH1s5m2n6kS\n",
       "ssQpyPndzrf4fFCDj/D1mmx2X+Jrk1BxTaPQ2dDnDK+I4K1MVKL+EwFFoBCl9GSVUd+TpFjECPEG\n",
       "q/4+MwLJECOpyUqv4MZeJNUiiB9QcupY6ieYXEJ/GmeiBeQSgZwi/gNxdtrlmGYbpAAAAABJRU5E\n",
       "rkJggg==\n",
       "\" style=\"display:inline;vertical-align:middle;\" /></a><br>"
      ],
      "text/plain": [
       "A11_to_Amn: A_{1, 1}, A_{1, 2}, ..., A_{1, n}, A_{2, 1}, A_{2, 2}, ..., A_{2, n}, ......, A_{m, 1}, A_{m, 2}, ..., A_{m, n}"
      ]
     },
     "execution_count": 19,
     "metadata": {},
     "output_type": "execute_result"
    }
   ],
   "source": [
    "A11_to_Amn = var_range(A, [one, one], [m, n])"
   ]
  },
  {
   "cell_type": "code",
   "execution_count": 20,
   "metadata": {},
   "outputs": [
    {
     "data": {
      "text/html": [
       "<strong id=\"B11_to_Bkl\">B11_to_Bkl:</strong> <a class=\"ProveItLink\" href=\"../__pv_it/common/286ac745941c3c768406cf60e6f10bc5c303251c0/common_expr.ipynb\"><img src=\"data:image/png;base64,iVBORw0KGgoAAAANSUhEUgAAAkoAAAAVBAMAAABLStyhAAAAMFBMVEX///92dnaqqqoiIiLu7u5m\n",
       "Zma6urqIiIjc3NwQEBDMzMwyMjJUVFRERESYmJgAAAAeMT9/AAAAAXRSTlMAQObYZgAAAAlwSFlz\n",
       "AAAOxAAADsQBlSsOGwAAA49JREFUWMO1lz9oFEEUh99dNnGzuWxOLCwUPDCNpDlQI1hNKhGCSVAJ\n",
       "WB2YxspVi1gInoJoE04sNCDqQhAxTa6wSeEfUEiR0wQR1DQGtFJCziKJJNFz5nbudmfnDTuXZR9c\n",
       "2P32N9/MDjuTXQBYqVUqL12QSsV1k0l5o8r+tl2ZX4qlwxSPADKbSFbFdZNJeaOqcxFgwY2lkxXm\n",
       "BkDHmpxUcd1kUt7IKjkAF4dj6WSFTafX3kAeOwXXTSbljaxV+hCsOrF0siJTBeialJMqrptMyhtZ\n",
       "C/Q3W4ylkxV0DRpvXXRtolw3mZRXZzcbPB5PJytmPo/PLyNJFddNJuWNKuvv+LVX8XSI4noR0o+R\n",
       "qIrrJpPyRtWuPwCHlmPpEMVX+jvgwqkyOzF+4Xxg/zu1VEgOVgVq7K4QzMu5hpcnm96o6r4LkNoE\n",
       "+xjgN/S9vitzq46i3vM229MdazzPyLMrzajAh+G0elxCMl0WaDu05zEv5xpenmx6o6rnjfev7D6g\n",
       "NwSdBXbCrToK1rP1j+3pBUh7jQ4216bA16Gk3PfEZHtWoD0FcxPzcq7h5cmGN3o3o0slsw4mf/ak\n",
       "Gyp5E8HHpaFgPbM1aG1BcJZIY236/Ae7G/kRNeRkW0GgNvFnCeEaXp6kXiARE0T49gMzZbAXb2ex\n",
       "jmHFvMRenpjV0FKwnrvoGrzwIjhLxhY7CHHY4/GhMvgH3h8xORSikMo3BovxoDckF5NDoBqAiGGW\n",
       "vmE/JJC52juJdjx382T9TYhaFa6QgvacYR92H0F4lg4TmVtHPN7G3tuPAj9oOyIl+0IUpkjDi3HB\n",
       "68vlZB+gAxDO2PX37Js2R9+OLoOLdvwgZwG3Mh5yIYq+wKMWmKU0kfkECXGveqXkSIian/ztAeEa\n",
       "Xi85AmhQqOD10lkX7dhcO+dbe3UUI/gspUDi5rBZFLlXWSnZT0R6C+40BytzHa+XZN5UxL4UvL7S\n",
       "kS9iHduL582mNauj6CfCPRpZT3oiNEuUT0w/JSL3dllHSlYdgZpL02caXoRreHmSepGgWMHrc1Y+\n",
       "i3WccaZSMFC3isNXKqp+ytz327HuwY3XewGCbTl/UquJnL+kysnRgkA7a7Vqw4twDS9PUi8SFCt4\n",
       "/Qt8cLGOu4uZn/A8x6wCVytGC6FFqVrv2p8H6Zbax/XuvFkuhmJMkRzTdo611D6ud8fNOkgMheqL\n",
       "Wf/DfLml9nG9O25mt6b4D75aCU1kZ7ZiAAAAAElFTkSuQmCC\n",
       "\" style=\"display:inline;vertical-align:middle;\" /></a><br>"
      ],
      "text/plain": [
       "B11_to_Bkl: B_{1, 1}, B_{1, 2}, ..., B_{1, l}, B_{2, 1}, B_{2, 2}, ..., B_{2, l}, ......, B_{k, 1}, B_{k, 2}, ..., B_{k, l}"
      ]
     },
     "execution_count": 20,
     "metadata": {},
     "output_type": "execute_result"
    }
   ],
   "source": [
    "B11_to_Bkl  = var_range(B, [one, one], [k, l])"
   ]
  },
  {
   "cell_type": "code",
   "execution_count": 21,
   "metadata": {},
   "outputs": [
    {
     "data": {
      "text/html": [
       "<strong id=\"B11_to_Bkm\">B11_to_Bkm:</strong> <a class=\"ProveItLink\" href=\"../__pv_it/common/341cc1911224f04670c3dc81125e6f197310d0000/common_expr.ipynb\"><img src=\"data:image/png;base64,iVBORw0KGgoAAAANSUhEUgAAAmYAAAAVBAMAAAAeKz//AAAAMFBMVEX///92dnaqqqoiIiLu7u5m\n",
       "Zma6urqIiIjc3NwQEBDMzMwyMjJUVFRERESYmJgAAAAeMT9/AAAAAXRSTlMAQObYZgAAAAlwSFlz\n",
       "AAAOxAAADsQBlSsOGwAAA/NJREFUWMO1mE1oE0EUx1/SNNls023EgwcFA/biLWhF8LQ9FUFqRL14\n",
       "kIK9FATjB0SwahRFD5YUD1r8qAtFSntpDh7sQQ0o5NBogwhqLxaqHiqh8dBW2mrcyexmd3Z2difZ\n",
       "ZCBl9338/u9NZ3ayAYBSpVB4pYB1SN+2CnMLwDMYBAdXc+CNpjZB/SlAZIM2h4sA83zFMggthzea\n",
       "6lldWAcIrtLRmSTAuQQPl0VoNbzhVM/qkjqN0jodvqL+I1aSPGAWodXwhlM9q0fKAB1jdPi8+plN\n",
       "84BZhFbDG071rK5u7sBb+8fckUNctbEIrYY3nOpZfeZzam6Rjhb/poZf89XGILQc3miqd/XrafCP\n",
       "0+bQH4C9fMUyCC2HN5rqXf2r+tmtQH8W3QR+6ebOUQDfhmYIbCvIbDBBsHNp6RS8d9c7TrhzjHNd\n",
       "S/hpb5SnqUsHuVtbshwYW+ggSYqpOLqZvKibu3LVEwMb2qE9zgYTBDuXlk7BE3CcE+4c45gK4YHq\n",
       "hjTK09ThAW9rGsLY3P/QQTIAfpy5p7aT1cUbWdMMXQMC+2ulhWDj0tOt8DXIKHxwxxiXujL41ihP\n",
       "UxfK3K1l6M0tboJ5zmRtJ8NMVutTkhGYXsMBmvBjOZW7tkC6cDoN/16dMxZcpgk63G2fEnWVhPP6\n",
       "nAXApC4V70Q5W8MI6fTkcKikVtyhbu6hF+Y5C2yii1n1C/BjubY2fHFsP5oF4wL/IQiBn+PwBIYt\n",
       "LpRuB4ftbDiOJAg6vOpiZBjF6an5m4fT2pxV7bp65HL3GGdrGNE/tBjOhXIQQe+rH4FYZ/vVbt6j\n",
       "l9OYsZ8mZGxvQ68cB0C7aOsBC0Hoy8IGHLO4quk2cLHHAY4sJKEGRy4jkLjAd2bxhzFRX2fIXlMP\n",
       "XwCFszWMuHUFupT2qLEWTXPmN69UPGfCJ6sdj26wEiJJcRT2WVzVdBv4iOwAJyyYoMP9bpvTJC6s\n",
       "njLKMxeVOalwtqYj8jAFbTHbOfMBNWe34a7FjkeUmrOwEioKZYV0VdNpuJAQ0mw4YcEEHe5ze/6b\n",
       "xKXiGaFWnrmoUjCe5mtNRzyCq5ARiY4DUdxWn2XOekFYmD5hseMHZRKshIy6GKRignChdDv4yPRz\n",
       "mQ03WzSCDu9zOwNM4pHkhE9tAZ8B5nrzYjzK15qGUA/aPJTajaJ2/k6K9+HGmx0AZjAyTMXClUqZ\n",
       "tGuHrrktTDgLHWkhLxMulG4Hf1apOMCTNEGHu/0mYRbvTEeWVRVUHmGHL/BB4WtNQwRz8BLuXbI8\n",
       "QRglxLi/E/nrdzUF7jpintUZoYP2wUH+15bBul3NgbsNlkod6oxQxnurxF/bYt2u5sBdfzsEz+q1\n",
       "0P/VoilyHnH0cAAAAABJRU5ErkJggg==\n",
       "\" style=\"display:inline;vertical-align:middle;\" /></a><br>"
      ],
      "text/plain": [
       "B11_to_Bkm: B_{1, 1}, B_{1, 2}, ..., B_{1, m}, B_{2, 1}, B_{2, 2}, ..., B_{2, m}, ......, B_{k, 1}, B_{k, 2}, ..., B_{k, m}"
      ]
     },
     "execution_count": 21,
     "metadata": {},
     "output_type": "execute_result"
    }
   ],
   "source": [
    "B11_to_Bkm = var_range(B, [one, one], [k, m])"
   ]
  },
  {
   "cell_type": "code",
   "execution_count": 22,
   "metadata": {},
   "outputs": [
    {
     "data": {
      "text/html": [
       "<strong id=\"B11_to_Bkn\">B11_to_Bkn:</strong> <a class=\"ProveItLink\" href=\"../__pv_it/common/a23f2348fdeea580d7cd173785e840f62d46ed4a0/common_expr.ipynb\"><img src=\"data:image/png;base64,iVBORw0KGgoAAAANSUhEUgAAAlgAAAAVBAMAAABoEY10AAAAMFBMVEX///92dnaqqqoiIiLu7u5m\n",
       "Zma6urqIiIjc3NwQEBDMzMwyMjJUVFRERESYmJgAAAAeMT9/AAAAAXRSTlMAQObYZgAAAAlwSFlz\n",
       "AAAOxAAADsQBlSsOGwAABAdJREFUWMOll0FoE0EUhl/SbZqkcRvx4EHRgr3oKWCL0NP21IvUgPYq\n",
       "PfRSEIyKVFAwgqKXkuJBimINihR7aQ9eelALCj002iKC2os9qAeltIK20lbjzM7bzc7OPDvLDiTZ\n",
       "vPe/7703mZnsAsBKvVZ7VoXwsD9t1+aXwGQQBBJB6SFOEWaBEYB66X2A3KYqziwCLBi1RBFIBKWP\n",
       "VYRZYASgTpreAEj9UrWVEsDZogmVIlAIUh+nCMPACECd1Ga/sb2halfZpK6WjBYsQaAQpD5OEYaB\n",
       "EYA6aW4NoHVM1S6w10zZhEoRKASpj1OEYWAEoE7Ktqb1Un+wHO823dxaAoUg9XGKMAyMANRJp94P\n",
       "zy+r0uyf4SvPzagEgURQ+lhFmAVGAGqlV8uQHFe1Lb8BDpu1RBBIBKWPVYRZYASgVvqRvQ5WoW+a\n",
       "f7G+e+ZdowCJTTRYu2sOjZUIgYGInv2v+LeGW+iRiV79kAkRBgbax0DbFdpNcqMUxzY/+EvZ4QL/\n",
       "MnHBM7fNun9ZwtAMzQUaKxECAxFFOMlXdcMt9MgUXmJIhCgDA+EOaLtCu0lulOLW/MsP/gFIil4O\n",
       "+QcLW4G5dTS0DaTpm8gQIXA2CcQ6VPhp7rtRj0z0EqehRIgwMDC9Btqu0G6S20P4WzO7BcHJcvBg\n",
       "galpzGM7rDFLBToq4cu34aKM+NyYLCugd5kgvBRaItinJy6CTkoH2os387qu0O5y1fPFAkUqckMr\n",
       "25pDT4OTZW3xixl2l33P8X+URAFO8EOHv7kC/0ImWF/HYSyEgD2Ak+UiPD1ngvCqVA2hb2g5Uw4p\n",
       "dgjMXeoY03Xl2RmXYIWkIneOPy6+BWllHWXlveYPu+2NFfzIgaZO9tnE7/+7vAuulAnp3mn4GUJk\n",
       "O73J4ghfz5noddFdQbyGcP0ytDkNqazXB2bOQ1XXlWfnXG4PsXgKWSpy+yMwWcngyhSTlX7H3jqU\n",
       "BSspBSFXSo2GHCOO7w4iXCZ6d0ALwhwMaaV0YKW/qu3Ks3NuUt2HwRQoFbk1k5UAZbJuwC2AvEKV\n",
       "lIKQqTYXq5IjXUyXPXcQ4TLR+380Eu5Cf1YnpQNXUoWyriu0u9yEisirUpE70KqVF9je0GT1QHpp\n",
       "8hRY6vNnb2iyGKECTQ+rkmNk8rHTgwd8AMGZTM+9O6EFgf0vdR/RSenAuWwhr+sK7W7uXvWAL4Wk\n",
       "Xm6/9H0/StnbcO3FXoCglhuetGfq9TVoUQsLKpFwBloOyI4H9TpDcLeE4Eym596d0IKQmoVzyzop\n",
       "HfgB3lR1XaHdza1OvpSCS73c8nYn8rcb399QBAqRNL91Mi/CMEfM3IN6acoxphIEEjFoTI5QhGGO\n",
       "mLmJJ0zbvDDqGdWOqI9VhGGOyLn/AUipF9iAHaZOAAAAAElFTkSuQmCC\n",
       "\" style=\"display:inline;vertical-align:middle;\" /></a><br>"
      ],
      "text/plain": [
       "B11_to_Bkn: B_{1, 1}, B_{1, 2}, ..., B_{1, n}, B_{2, 1}, B_{2, 2}, ..., B_{2, n}, ......, B_{k, 1}, B_{k, 2}, ..., B_{k, n}"
      ]
     },
     "execution_count": 22,
     "metadata": {},
     "output_type": "execute_result"
    }
   ],
   "source": [
    "B11_to_Bkn = var_range(B, [one, one], [k, n])"
   ]
  },
  {
   "cell_type": "code",
   "execution_count": 23,
   "metadata": {},
   "outputs": [
    {
     "data": {
      "text/html": [
       "<strong id=\"B11_to_Bmn\">B11_to_Bmn:</strong> <a class=\"ProveItLink\" href=\"../__pv_it/common/45fdc144bd146bd09f52afd9fb2fd4d48c23391c0/common_expr.ipynb\"><img src=\"data:image/png;base64,iVBORw0KGgoAAAANSUhEUgAAAmoAAAAVBAMAAAAEF99xAAAAMFBMVEX///92dnaqqqoiIiLu7u5m\n",
       "Zma6urqIiIjc3NwQEBDMzMwyMjJUVFRERESYmJgAAAAeMT9/AAAAAXRSTlMAQObYZgAAAAlwSFlz\n",
       "AAAOxAAADsQBlSsOGwAAA75JREFUWMOlmE1oE0EYhr8mm9/GNOLBg6IBe9FTQb30tD31IjWgXksP\n",
       "vRQEIyo5WDGCggdLiqdSsS6KlPbSHDzYgxpQ6KGRighiL+agHpTSCNpKW40z+5Pdycw33ekM5O99\n",
       "3+/JN8NmdjcAsNaq119YwA1MV0giRvbzTn15FbTQGoVKTDT8ECCzpaArJBEj9Q5gxdJDaxQqMZFw\n",
       "chMg/ju8rpDEjEoR4FJBC61RqMTEwlmyktnN8LpCEjPWyXG2XtRCaxQqMbFwpgnQPRVeV0hixgp5\n",
       "LJa10BqFSkwsTDYZ47UVXldIYgbZK870gxZao1CJiYUXPpaWGxBeV0giRvpvafwl6KE1CpWYWPhm\n",
       "GSIzCrpCEjESfwCON/TQGoVKTCz8iTyOWjBUpR+MH2J94PAbnMwkecPYXzcZ9L5JgK4tl+m6UrQ8\n",
       "I+vJH353nZaUznHcsUNPasV0qY9+mL0i1gtwDu+QSfJGDGJ9DLqnZp+XHKbrStHyjKQwsCv43XVa\n",
       "Unpn2MP9oye1EYg4lcfE+gZU0P2zg8AZPSPJLQa9QH6dmQ2X6bkytDQj7ckf7e44S0bnOf4mk96G\n",
       "4KoZvP6FzpA/jgXJr99L5PrVDBhZ0181090rYKHqMB3X4PsVEAJoyWAKh2fHE2uWt2piy6bL5xYI\n",
       "D89eIy/dZJMZe8as2tkqr8MBMLY9jz75n5ik8W0GphyzbUBXn4t29EVyuf3AtJnguDxVQAig2Qbw\n",
       "wqGxRqqWqLmrhlmEvsvc/DB9V4YMvZN+D8yqRU8Bp6eJdpLMNEpvhOyn08JkcrAKv5xo24Anpoem\n",
       "+lt6Q5x3mY5LOQFqAUSEAJqN4oW3r0OPFct5xxpiUbp8bn6YvjO53729+fTy+8EEiUb4w5hPZorx\n",
       "yY5o8kMbzegTZtvt5cgCggAtGIy/BHMQzXvdIRal7zI3P7wEYyBetRynJwvJMnTxLfLJlBUrWGz0\n",
       "Dtz10EHdZrpujiMLCAK0YDD+NNyAStrrDrEofZe5+eFpuJBm5mzk3LNBETr1ifmnJgzyOyafrED0\n",
       "scVEk6vz5z10UKfMAdtlOc4QEHi0aDCFTXJsrMVgwFk1sWV3IJ9bINyE/hO+fuhnMX0fbr06SE4c\n",
       "QbijP2q1APipCZIXIXGEjaZaraaHDuqUOZenLsNxh4DAo0Uj6Mdr8BzuXSVfQ7tDLLsD+dz8MHl3\n",
       "ueO2JoJtFaGvkyKqRl4fHWbk92SFC48i2dHQ1FFFI27qo0MMydcodICEsTvq8P86NBSNLOijw/y3\n",
       "uCcLDf8H9dEoZyKIWJkAAAAASUVORK5CYII=\n",
       "\" style=\"display:inline;vertical-align:middle;\" /></a><br>"
      ],
      "text/plain": [
       "B11_to_Bmn: B_{1, 1}, B_{1, 2}, ..., B_{1, n}, B_{2, 1}, B_{2, 2}, ..., B_{2, n}, ......, B_{m, 1}, B_{m, 2}, ..., B_{m, n}"
      ]
     },
     "execution_count": 23,
     "metadata": {},
     "output_type": "execute_result"
    }
   ],
   "source": [
    "B11_to_Bmn = var_range(B, [one, one], [m, n])"
   ]
  },
  {
   "cell_type": "code",
   "execution_count": 24,
   "metadata": {},
   "outputs": [
    {
     "data": {
      "text/html": [
       "<strong id=\"B11_to_Bkl_array\">B11_to_Bkl_array:</strong> <a class=\"ProveItLink\" href=\"../__pv_it/common/b39ccc34e91bb666cd42fedbd6ec8ebe988ac0ae0/common_expr.ipynb\"><img src=\"data:image/png;base64,iVBORw0KGgoAAAANSUhEUgAAAMwAAABtBAMAAAAfTJOKAAAAMFBMVEX///92dnaqqqoiIiLu7u5m\n",
       "Zma6urqIiIjc3NwQEBDMzMwyMjJUVFRERESYmJgAAAAeMT9/AAAAAXRSTlMAQObYZgAAAAlwSFlz\n",
       "AAAOxAAADsQBlSsOGwAAA6pJREFUaN7tmk1oE0EUx1/z1c02TSsePCgY0Iv0koOt4Ck5CsWmqAie\n",
       "AvbiyapgPQiNguilRDyoINVAEbGX9uClBz9AoYdGW0RQe7GgJ6U0HtpKrcadnZTuzO575C1VocyD\n",
       "Xcj+9p+3Mzsz+8++AED603p1Zh6QoClHlZwDmK1gCpoyVOVBgLMFTEBThmrJybo0iAloylDNOttU\n",
       "CRPQlKEaBeg9jApo2rzK/jV0+Rl6Pk0ZqtYfAAcWIPbN/XR0kqCxHdVcU2lUlehBaL8J0LIGjy64\n",
       "lzGUVQUKjUPci2M/N3Z9k4QKusSu44UznVYB9rmHIloahXYUrTUv7N7YRQuECvrFbmIBILWCpVFo\n",
       "OqemQUP9zh6xG3bG3cQklkal0JJtKo2iitXEfgogcS+HpVEpjDU3BBRVRNy41/Vq9WkGkDQatd41\n",
       "lUVVxTu9LLg1Kr0GN1jzx1VFB7RDeTJNHqz58ePcNHnoaPUcufJ8FzzOWLu/By6Tkibr9Roni1TF\n",
       "L+rHM6QqA2HCr0qQ4yiRC5MlQJWmn7yhGhNOZWIbhrGDxg5uRzuY3/OKsIOScu1gQ+W1gwU4RthB\n",
       "Sbl2UKoUO7gC5QpuByXl2sHGd3rt4JfgNArl2sHGdyp2EHZSdlBSrh10VaodtA9SdlBSrh10Vaod\n",
       "HMlRdlBSrh10VYodtApWCbeDDcq0g1Kl2MGR8Yc53A5KyrWDUqXYwQf1OmEHJeXaQakydtDYQRMm\n",
       "TJjYrqEbRw5FwjWkWkTJn0rRQphL7/4nXbBlEa6RJsz0DENxtKXTk0Dd5u6ZYfq/llDzWDNhwoSJ\n",
       "5mNRvDGshKNYBNVvRgFS+HtfmmLhr99YqwCJZex8mqLhr9+k1+QfIpDmkxQNf/0mVQNou4udT1M0\n",
       "/PUbpxtjLytEJxOUuqNa/Wbi/dDMAno+TbEIqN8MlyByH+Cz7Em9fqNQbv0mfcj91CveKn90tr0V\n",
       "SBbdy9DrNwrl1m/gtvvJLRKsgzsoyvIE/a26Qrn1G0u+HBdFAvu3GBhFWLTOBaRRKbd+k567LsoQ\n",
       "0aLsRttp+PTVIyV/Go0y6zepS/vFXOhztjanG888AbiTsQNao1Fm/SZ5HsRc6HKaJha5t86isnwq\n",
       "4N7olFm/KZ9wZ1y/Z1GZO20FDQGVMus3i4ms6OqezS5IDY614H/naVBu/WbaznbGOqG2ubi1l1Jf\n",
       "8fpNg3LrNx/gTcW+BSeL2vEMqcqEemxGfEf+Rv0GBvx3mn7yhjMBYuH9AzJH7PHp2Hw9AAAAAElF\n",
       "TkSuQmCC\n",
       "\" style=\"display:inline;vertical-align:middle;\" /></a><br>"
      ],
      "text/plain": [
       "B11_to_Bkl_array: ExprArray((B_{1, 1}, B_{1, 2}, ..., B_{1, l}), (B_{2, 1}, B_{2, 2}, ..., B_{2, l}), ..., (B_{k, 1}, B_{k, 2}, ..., B_{k, l}))"
      ]
     },
     "execution_count": 24,
     "metadata": {},
     "output_type": "execute_result"
    }
   ],
   "source": [
    "B11_to_Bkl_array = var_array(B, [one, one], [k, l])"
   ]
  },
  {
   "cell_type": "code",
   "execution_count": 25,
   "metadata": {},
   "outputs": [
    {
     "data": {
      "text/html": [
       "<strong id=\"B11_to_Bkl_varray\">B11_to_Bkl_varray:</strong> <a class=\"ProveItLink\" href=\"../__pv_it/common/dd56b5f0c579b0bdd055c82621936b48252045c10/common_expr.ipynb\"><img src=\"data:image/png;base64,iVBORw0KGgoAAAANSUhEUgAAAMwAAABtBAMAAAAfTJOKAAAAMFBMVEX///92dnaqqqoiIiLu7u5m\n",
       "Zma6urqIiIjc3NwQEBDMzMwyMjJUVFRERESYmJgAAAAeMT9/AAAAAXRSTlMAQObYZgAAAAlwSFlz\n",
       "AAAOxAAADsQBlSsOGwAAA/BJREFUaN7tWj1oFEEY/XK3l2w2l7uIhYWCB1aSJoVJYbUphWAuGBCs\n",
       "Dkxj5YlgGsFTEGxCJI2CqAdBJGlyhU0Kf0DBIicJIohpPDCVEnIWSeQSXWd2ZmNmdmayMwjKMR9s\n",
       "2OX2vZf5ZnfucW8AYD2o159XQVy5z7v1pVXQLCHlQ4BsS4boXgFYrurqCCjdbYDOTRlgugxwuaip\n",
       "IqLMIdnctgyxgUayUdaUEVFmmwA992WIZXQsVjRlRJSo+87rqqLLI6d1p0ZEufBxcqkhA3g/J6+/\n",
       "0FURUt6oQOoRwNkavnC+sR92/QA42YDhY2/wFbnn4KKUX8icEtQndByvepMD+OLpVRbQexegowVF\n",
       "OIeHRu6JytlBf0Zr9GR/EUroLsEf1C6Ez1KKUJxgAflX4TOzBdO41SlGBgbRkS7Sk/1FKafJVYjy\n",
       "fuHnqSSRWUAtzm7BmlBGOqGUct29sieDu+/tgEQGdRkWcG8PQ3KZiPLtrTOVCNWDun/pmUxmEb3O\n",
       "D3yEOqUhE1HeK3gRKovXxvcgkXmH18ACOpnyk8tElO7mBYihxKOJFqmiW0k+mmjJWbnoimScPpnM\n",
       "1PwTf1hXJlue7QAO5R79XvZm4ObLIyLE4yCAuQK+R0Omt5L9KkSllLACmJQANaG6v9M3URGhGsoZ\n",
       "NRqMGcpWO5a1g9YOtq8dpL5PbAedQ/VkqzRjBymKsYPE90nsYAYyA/p2kKIYO0h9n9gO5ktuS98O\n",
       "EhRrB9c4GcYO5ny3pW8HCYqzg8T3SewgdCTyHJwdDFGcHSS+T2IHYTbRI8DZQYzi7eCUr7CD7gcT\n",
       "O8igiAz1fRI7eBvuGNhBBkXsIPZ9Ujvors6P69tBBkXtIPZ9UjvYHQRNfTsYR1k7aO2gLVu2bLVH\n",
       "xZwjU6M1E04RalAFSBdNZMxQf2uQ/+zftWVfz4OfXM2PTF9Ps49stVn9d0uo/VqzZcuWLY1SRzTK\n",
       "dAd0UOqIRpnugAZKGdGo0x3QQCkjGnW6AxooZUSjTndAA6WMaNTpjgZKHdEo0x0dFI1oyEYeZ5kD\n",
       "kCiGZjAjSX8fZgOckJNGNHQjTz8HIFEMzWBStZhLEeY3bIBDOGlEQ7dXjHEAEsXQ5CbTF3MpwvyG\n",
       "288TctKIhsoMsffTKIYmN+lSsp5x+3mGaB/DiCaUcZrxicNRDEluRhNODRvgEM4oogllUpyDi6IY\n",
       "ktz0J5RhA5yQcy+iCWW47u+lOySDGUv4crIBDssZyqQlMQHJYIZ8vSWHBDgsJ5IZhnyXeClcnR93\n",
       "+qCpF07TAIfhxBt55gqZa+LFIwia3gycL2nJ0AAnzllQoVJmX5txTnVEM2GkIuBUhy0NI5mQ8zev\n",
       "Uu+j2mCZHgAAAABJRU5ErkJggg==\n",
       "\" style=\"display:inline;vertical-align:middle;\" /></a><br>"
      ],
      "text/plain": [
       "B11_to_Bkl_varray: VertExprArray((B_{1, 1}, B_{1, 2}, ..., B_{1, l}), (B_{2, 1}, B_{2, 2}, ..., B_{2, l}), ..., (B_{k, 1}, B_{k, 2}, ..., B_{k, l}))"
      ]
     },
     "execution_count": 25,
     "metadata": {},
     "output_type": "execute_result"
    }
   ],
   "source": [
    "B11_to_Bkl_varray = vert_var_array(B, [one, one], [k, l])"
   ]
  },
  {
   "cell_type": "code",
   "execution_count": 26,
   "metadata": {},
   "outputs": [
    {
     "data": {
      "text/html": [
       "<strong id=\"C11_to_Ckn\">C11_to_Ckn:</strong> <a class=\"ProveItLink\" href=\"../__pv_it/common/304ce7e088588e814151603cc1ce74e1392371410/common_expr.ipynb\"><img src=\"data:image/png;base64,iVBORw0KGgoAAAANSUhEUgAAAk8AAAAVBAMAAACtYxflAAAAMFBMVEX///+6uroyMjLMzMwiIiJm\n",
       "ZmaqqqoQEBB2dnbc3NyYmJhUVFRERESIiIju7u4AAABBACUiAAAAAXRSTlMAQObYZgAAAAlwSFlz\n",
       "AAAOxAAADsQBlSsOGwAAA9tJREFUWMO1mEtoE0EYx7+Y5rGJWXsQFITSm0cX2upJCKgXQRux3kQD\n",
       "6rXqRahQG8SDKLa5KBUqiVZvxZuXhkpBL1KQHMQHWFkQsYjB+sQKGndeyczOY7e7OtBh8//+8/u+\n",
       "mU4mwwKA/boxb1XA3zSyoumcOr211KhPxwFHHhg6s9L54g2kR+qSVSMrms6p0QvjLpzaHwccdWD4\n",
       "zCrnxz1ed7zqt2pkRdM5Nbr92AFIrcUARx0YPrPSud31ui2SVyMrms6p0Tdc8LrEmRjgqAPDZ1Y5\n",
       "sz9QP+S3amRF0zl1+lTZ65Kl6ODIA0NnVjprRdS/9Vs1sqLpnBrd+ob3thMdHHVg+MxK51RTvabN\n",
       "sGXpnBo9+zsuOOrA8JmVzmH1YTkc+gzVOTV6z1pccNSB4TMrnRO4d+FDP95ud5TyytWHWqrolHT7\n",
       "csPlwZlVnIciadQENlnMFd0lO4sVxjLnDkDAnHxOuvyoSzvJZfzF3v1MKZdgRP//E5ySnoJUkQf3\n",
       "4CJOUCSNmsAmi3EgZHrRQ6cwlhnOQsCcfE7S8HUj64EJ7qRS/gw17RnoA/j1Tb3WVx5MbicVimRR\n",
       "A9hkMVdUIx9ZYSyzhZfBNCefk/5EoP05KSyUK8n3EdSWibLz3uxySdBzbnehEMFCB2XWJUgSNYMp\n",
       "gIDtoJsiP6U56yVbKD5zbvFWhc3JVRJ8TpI6/Qtgq8svlP0FJBkuAXzqp7HOg+y0b5+HMVGHbJEt\n",
       "FBoIp+uQmKRIEsWyTBcABKyrQZA7AxduvK/SheIz51+NjtE5dceIBMFJU8O7pQe9IOyova4kJw96\n",
       "31zvD/ahr3CJPshOq9UPf0QdBl0GxgT7aOMQQ5IoljtQ/CABKFhRg/AJx9nA8XKS7Sg+c+Y5OKwA\n",
       "lAcPFgmCk6ZmjVuotCvJM0galfap7Mw30c2f162n3cOPJ2AkiZrBBEDACqvYuLj1/XC3ME6vHXE6\n",
       "BaRdE4E6aWp5obLgl62SVUWnm3Qzk5wZJ1VyBP063OwsFEcgSBI1gwmAgCHopQsXzy1utjqFcfpc\n",
       "olhlBWSNBOqkqbvztCtkPi1x+p48MzDkgi1feGVnDXp2OrxuPRo4xsA8ASFXcDQATAEEbAfc1vl4\n",
       "vjmYhRV6mHP6QrJYYXNqGQnUSVKzci7+bCbPwfSOawCclcoT7TZAQa5Ldm6DwhVBz7TbqwzMExBy\n",
       "VxlFA8AUQMCFoPdI3PPGan7WS4EKE/QnMO+wOTWNBOokqYWTQZ09HfoGk16nXo4LDm7l/zGnPrW1\n",
       "LzS0b316wo0LDmy6FPHmpHnrGv5lbH19ei42OLDl4B/N6S/mHN+8scgQhQAAAABJRU5ErkJggg==\n",
       "\" style=\"display:inline;vertical-align:middle;\" /></a><br>"
      ],
      "text/plain": [
       "C11_to_Ckn: C_{1, 1}, C_{1, 2}, ..., C_{1, n}, C_{2, 1}, C_{2, 2}, ..., C_{2, n}, ......, C_{k, 1}, C_{k, 2}, ..., C_{k, n}"
      ]
     },
     "execution_count": 26,
     "metadata": {},
     "output_type": "execute_result"
    }
   ],
   "source": [
    "C11_to_Ckn = var_range(C, [one, one], [k, n])"
   ]
  },
  {
   "cell_type": "code",
   "execution_count": 27,
   "metadata": {},
   "outputs": [
    {
     "data": {
      "text/html": [
       "<strong id=\"C11_to_Cmn\">C11_to_Cmn:</strong> <a class=\"ProveItLink\" href=\"../__pv_it/common/a2902965a7e981272dfdb9f2b3a90797f1337a660/common_expr.ipynb\"><img src=\"data:image/png;base64,iVBORw0KGgoAAAANSUhEUgAAAmEAAAAVBAMAAAD89ySGAAAAMFBMVEX///+6uroyMjLMzMwiIiJm\n",
       "ZmaqqqoQEBB2dnbc3NyYmJhUVFRERESIiIju7u4AAABBACUiAAAAAXRSTlMAQObYZgAAAAlwSFlz\n",
       "AAAOxAAADsQBlSsOGwAABBpJREFUWMOlmE1oE0EUx1/N50YSe1MQSm/iyQWtnoSCHwcPbQQFEdFA\n",
       "9VoLBUFFLeJBFDUXoWIxUfFWJBcvhoqgt4IEURT7wYIIpViMH4gKWnd2ZnZ2dubRt8kchvS9//z+\n",
       "b2ZnJtsAQGm++dSZAKOtzDbrk0BoGAAjoPrOS6A7JEIi4neLkD1UN8LFCx6cOkDhIgCUgOm7KIHs\n",
       "kAiJiD/v8bsTVeMxvXQBMr8JXASAEjA9dF4C2SEREhNv8fxuoxFed9HvesYIYASAEjB9FyWQHRIh\n",
       "EXH+J+sHDPmtit+lymtzMQBGQPWdl0B3SIRExLVB1n+Mh50fwb501+YiAJSA6aHzEsgOiZCY+FbL\n",
       "/pz+UutDACgB03dRAtkhERITD9uv4DT5wkUAKGG4SgSnf3e4YrhDIiQmvhT0Hiz3B3vwgQjn2sGf\n",
       "IlC62vQwsA5QTRKWrj9jH8K00AukyNpaDEBvsiLVpLlEqkbwNx4I67JuaiE4/LvfyAUO5CMikIHM\n",
       "IPpENUDkEQlCGQ6xCzRMC71A8qz9GWuAJHuMO6hAaC6RqhH84y14bcn7Dhx6UoT5a8iECGzodb5j\n",
       "4BggbJLwFWqs+DAt9AIpsrYWA9CbrEg1aR7OKmwEf+OLhV2TN7UVYxvRYdde3hMrVvD86Zn7M9j5\n",
       "OuDRw4WyTnisVqwUMQyQwLPmiTcBhaO739rOCF6RP2KuOO1CxFwi/SobH14AzV+J+eSyfwA2edqK\n",
       "fWGn/nQdem6qTZcf5GHWlb5FP2iA0v1zcDZGgCuy6CAs9QzJszov/EsHLG+s56pYDdaK2IhGsaGZ\n",
       "cySr8jzMAclficXk4NPsk17QViw9xNLHmgcjx3SHx8Np9kK3T37Y68UAzko//IsRUkOy6CAs9Qwp\n",
       "sgwTgjndANx7DRusNagxsYrYCDczoZlzJKvyOxwBkr8Si8nFjnqwQKOR/clXzHkVC4tBXhywvhX8\n",
       "WxGVTnlhOhoOkDybNY+FCZgJ/u8ZXeNURlEzsAvSFZv5+lZqDPYT/ZVYTM6yYhPGit2GO7ZLMG/c\n",
       "rjk3U3Y1qVN2qjIdJQRIns2bMzcB43A4ZasBr2gc5qGWAot5zi0+d9ouzV+JxeTUhEviq7HU0lds\n",
       "CZwX24/rYfH7kb5iPqAG6Z2uJp3aPuAtics3EmZIX8+yGkbcvAbAacOeEVsNaEX+iBmYzoDFvOZv\n",
       "l8LzMs1fifnkJP7yr1bqDExuuwFQjAxlgV2V3OpqWwuLFl0BDtgMxWs64dLqqk9gaS3MkL6eZcFc\n",
       "BhPQ04D3dVsNaEX+iK1wd9FmvhnWVZ0Zj+avxHxy2iWAlFGhvglhAIyQJb9jkUtINDabBGMT99ml\n",
       "PR4VigBQQh8VTC8h0di+JBybGPkluUCGYj9FFxLquygh0dh6Eo4Q/wf47+3tjj+WCAAAAABJRU5E\n",
       "rkJggg==\n",
       "\" style=\"display:inline;vertical-align:middle;\" /></a><br>"
      ],
      "text/plain": [
       "C11_to_Cmn: C_{1, 1}, C_{1, 2}, ..., C_{1, n}, C_{2, 1}, C_{2, 2}, ..., C_{2, n}, ......, C_{m, 1}, C_{m, 2}, ..., C_{m, n}"
      ]
     },
     "execution_count": 27,
     "metadata": {},
     "output_type": "execute_result"
    }
   ],
   "source": [
    "C11_to_Cmn = var_range(C, [one, one], [m, n])"
   ]
  },
  {
   "cell_type": "code",
   "execution_count": 28,
   "metadata": {},
   "outputs": [
    {
     "data": {
      "text/html": [
       "<strong id=\"C11_to_Clm\">C11_to_Clm:</strong> <a class=\"ProveItLink\" href=\"../__pv_it/common/29a29a39d753924cf9eec3b4f1b392ed5b7070df0/common_expr.ipynb\"><img src=\"data:image/png;base64,iVBORw0KGgoAAAANSUhEUgAAAlEAAAAVBAMAAACUBKa+AAAAMFBMVEX///+6uroyMjLMzMwiIiJm\n",
       "ZmaqqqoQEBB2dnbc3NyYmJhUVFRERESIiIju7u4AAABBACUiAAAAAXRSTlMAQObYZgAAAAlwSFlz\n",
       "AAAOxAAADsQBlSsOGwAAA7lJREFUWMOlmE1oE0EUx1+az41km1sFoeQmngzU0lOhxY+DBxuhhyJ+\n",
       "hKpXLQgeFDWIB0FscxEqFhMVb0Vy8WKoFuqtIFEEwX6wIEKplkYrYgWJO7s7aWbfm/I2edAh+ff3\n",
       "f/Pe7swwBADM5eorowD+0MhE7EJuLFbL02wZOiF5VnZXlPvTKsRGywjVyEToydQNCy4e58r8BO1b\n",
       "uV1R7u+H7eFc0Y9qZCL0pPk2CxDdZsr8BNC2ldsV6d5v2UMPYjUyEXqy66Y9hCaYMj8BtG3ldkW5\n",
       "E7/F2O9HNTIRu5BTeXsI55gyPwG0a2V3RblLQ2L84kc1MhF60vjlLOQsT+Yn4ARt5XZFuqdq9EOt\n",
       "sV+elkz8CyJ3RDKt3K5I9wh9vI0UuTXpych2ELkjkmnldkW6bzmjBesZZ8E9JeW1e6+1WVWyNeJ1\n",
       "J6V0S0CVzbtVS5falyBISOu3OtGV+YY5seNuPmYxxLLhFWcLD34k5RyM6teUQipvxpnnvOduAqoc\n",
       "heiQ9tUqZLA15VljGaIrGGdOHGt9+87lImH7XdsFUv4BJe2x6kvQEu59pCDdElDl7rSxpUvtSxAk\n",
       "pDVaoLoaA97E0dbbfEkccpPKk7KQ/EKUauKMmHz+bKXyeQEc2BDnYsJy3S6A5aQlCsb7gCBPDS6l\n",
       "ZrMUjKuS1kia6moY9BMjt2wp9hdgr9X6pMyfgGS4A7CZ8f7X/IBJ88k1uA5LLgOXyxCa9NwuQMiQ\n",
       "GKLSYnK9pxyvpCo+2OFwadK6SXVl1umJSXezJfi6+DINypo6YiE5fMLevPYfHBW7OOd9wKSxkYEt\n",
       "sbgd2DxdPSndLkDIcMhyE+2kdSZB5OMP0J0V+0GBnQ/qN6cqzzpOdeUdP2hi0t1sSUbLk4pZSJ4R\n",
       "0iW0UjG5pxaegGM+2HG7AJaNd75EXmByDgYgkidhbVVjVFfu8aOZGLmbLeEnlQC/bOSMojjh0A0N\n",
       "kfFsat6oZxXYdbsAlh/AQzWRF5i8AstQCpOwtqphi+gq0gv6iZG72dJOo2bBzbmh9m/LM3399u7G\n",
       "F1xMluxXkJzPKbBwr3knOpKNhb6zaiLvRMdk3V5Vs1EK1ldVrxFddadAPzFyy5bka7v9pxa+CtMH\n",
       "7wO01OjJtxoNgBSuCZP7oKtozFkKLNwDeQEQcrzRqCuJ5A9EiAxV4AA8WqVgbVVwJk10FX2/y8TI\n",
       "LVtStqhm37NvMbuQ+UByRySrqHxH7l4IIgciQ1YQuSOSVRQ7Hd2S5lfTMrsoPZkMJHdEsopKBnb/\n",
       "B2wG6/6snEC3AAAAAElFTkSuQmCC\n",
       "\" style=\"display:inline;vertical-align:middle;\" /></a><br>"
      ],
      "text/plain": [
       "C11_to_Clm: C_{1, 1}, C_{1, 2}, ..., C_{1, m}, C_{2, 1}, C_{2, 2}, ..., C_{2, m}, ......, C_{l, 1}, C_{l, 2}, ..., C_{l, m}"
      ]
     },
     "execution_count": 28,
     "metadata": {},
     "output_type": "execute_result"
    }
   ],
   "source": [
    "C11_to_Clm = var_range(C, [one, one], [l, m])"
   ]
  },
  {
   "cell_type": "code",
   "execution_count": 29,
   "metadata": {},
   "outputs": [
    {
     "data": {
      "text/html": [
       "<strong id=\"C11_to_Ckm\">C11_to_Ckm:</strong> <a class=\"ProveItLink\" href=\"../__pv_it/common/e10f76f03bcdc81fc39c02a4f576015178a512d30/common_expr.ipynb\"><img src=\"data:image/png;base64,iVBORw0KGgoAAAANSUhEUgAAAl0AAAAVBAMAAACOOEYwAAAAMFBMVEX///+6uroyMjLMzMwiIiJm\n",
       "ZmaqqqoQEBB2dnbc3NyYmJhUVFRERESIiIju7u4AAABBACUiAAAAAXRSTlMAQObYZgAAAAlwSFlz\n",
       "AAAOxAAADsQBlSsOGwAABERJREFUWMO1mE1oE0EUx1+a5mNTs/YgVBBKb+LJBS2eCgE/DoJtRAUR\n",
       "0YB69QNBUKkG8SCImotSsZr6dSvSi5eWSKFeRJAg4reyIGIRi9WqWKHEndmZ3Zmdeclmm85hsnnz\n",
       "3u+9/9vZyRIAMN9PjBtFUMbM04mRIQgxMADOqBMRtYglyI0QXn2E5M4RxZwdtOHQ1jBYBFCHgUdE\n",
       "LqL1uRHCt43OtL+k3IbHFkBiPgQWAdRh4BGRi2h9boyw2namLsW77YwzxY6G4CKAOgw8InIRrc+N\n",
       "ENJ/yNyreF8pOFM83xiLAXBGnYioRSxBboRQzpH5U9DZ+EW3pNUYiwDqMPCIyEW0PjdGuFLV75qF\n",
       "0Deyiu68hWYjIhfR+twYYUB/9LWHPmQH0LMTYwyUQqLb5yP3a9G5McJZOtvwtYduvzvMnJqlX5nB\n",
       "vDBhY1wZIA7OmL74iFx4DiyCQdmqbgQAzQwemtkGki5e7b1qI10BgtdwMiWt+Af6YPe94N2l3geY\n",
       "IQGJHLq/JIB0hxgjDzvJyek5sAgGdVf1t1gCNLe/WCgcA0kXyw2pzka6AgQ+6KtI2mG4gQeZ2X3v\n",
       "KDLD8k5jDuMGAMLgjB9QJqem58AiGJSt6kYA0MzgocYsSLp4tWVopCtI4D8YZGNelvpFtqhBTru0\n",
       "zRJlbIdrqkxbAdy/+2Hs7RRQZ8544PfLFFJSKLir6lOhAjJ7+t5lRy0Au9GLphCambxZFHXxakeN\n",
       "11yXhmerBC4s+Q9gpS32y/xJLo6MQOyyf2PSOfjew9bIhf9NApi3T8FpeMd8OAPOA+sXNfMIAnVX\n",
       "NVgV8LVrJDWWHfOX6YX8zWPw0I43h0+KunjuyrUvJaZLJUgdcAmeMPj89GEnSPtrE9Fi7p3YLmzk\n",
       "9Ta09zufm8mTnecT9RQBxkwPzMFucJ05I97P+0XNPIJA2SoB+ViaRAHceg7LrURRcCZ+fkV+aUJo\n",
       "6iVYki6We7AQ57pknq9LInjC+BD6lRQ3qNsv45kzHVb2rejpAjqq8aOwJeA8bHsOoplC3dWk+kyo\n",
       "gApsgPaC1hkNLe+ydLqM3zv8ElSeaGEET5jarzQo/boK1+npH3yngyAgZWUnjVlLcjbyRok7iAwK\n",
       "dVfTqmgVcBzeQzkOOmc0dDSWK2l0ZSZXGF4J6bq6GMET5ss12c/hTKBf02BMrdsHpvpqPCP3ywGU\n",
       "nRuRmcxLzsPreu1pdt4LZgJ1IsiqnNI9tBWA80NVgdEEaJzx0Eo8V9To6qiuT3NdGp5oYQQujBd/\n",
       "7m81fgKG1l4CEPtCDBsKqVptFrJqZaJ6F7AK2kpGxZacz9ZqDoM4SGYCdSLIKqi3QgXExmAN3Pio\n",
       "c8ZDn8C4pdG1rNRxl+vS8KoqgQuTHlukgELYt54kvlRoOiJqEeGTFBZJ6NY7x+yw2G50BWN0h0WH\n",
       "L2IJdCEE5F/aTGgs/jdvpumIyEUsgS6f8B8eWvmTLPj3NQAAAABJRU5ErkJggg==\n",
       "\" style=\"display:inline;vertical-align:middle;\" /></a><br>"
      ],
      "text/plain": [
       "C11_to_Ckm: C_{1, 1}, C_{1, 2}, ..., C_{1, m}, C_{2, 1}, C_{2, 2}, ..., C_{2, m}, ......, C_{k, 1}, C_{k, 2}, ..., C_{k, m}"
      ]
     },
     "execution_count": 29,
     "metadata": {},
     "output_type": "execute_result"
    }
   ],
   "source": [
    "C11_to_Ckm = var_range(C, [one, one], [k, m])"
   ]
  },
  {
   "cell_type": "code",
   "execution_count": 30,
   "metadata": {},
   "outputs": [
    {
     "data": {
      "text/html": [
       "<strong id=\"D11_to_Dkm\">D11_to_Dkm:</strong> <a class=\"ProveItLink\" href=\"../__pv_it/common/efde0afbd1d4b1f59b42c599b2976fe902327df90/common_expr.ipynb\"><img src=\"data:image/png;base64,iVBORw0KGgoAAAANSUhEUgAAAnIAAAAVBAMAAAAwbh5tAAAAMFBMVEX///8iIiLu7u52dna6uroQ\n",
       "EBBmZmbMzMyqqqqYmJgyMjLc3NxUVFRERESIiIgAAACK51z6AAAAAXRSTlMAQObYZgAAAAlwSFlz\n",
       "AAAOxAAADsQBlSsOGwAAA9JJREFUWMOtmMtrE1EUxk+neXScNIlddCmB0kU3GnEnIm3BtV0ICqJW\n",
       "QUXcpIvaXY39C6IbQQjt3kWDgghaE9yJaS0uFLSlUTeiVgut1ko1zn1Mcif33Lnz6EAG5nzf+c05\n",
       "t3NPJwGA9ebK4koFpEMVh2BWlZZe+1tffRkZHzo3AFRZ6h8A83eAeECrSsvMAcwWI+ND5waAKkpN\n",
       "/rNPl8F3HIJZldrNBkBiLCo+dG4QqKLU9LZ9OlnyHcceZw+rUvtRAIjtRMWHzg0CVZTau2Gfqnnf\n",
       "ceTwsiq1NftjbUbFh84NAlWUmlkmz2PNdxybAx5WpfaXbJndqPjQuUGgilLJJobZvO+4Yg6orCqN\n",
       "zhlzMyo+dG4AqKpUsonh1bDvuGIOqKwqjc6Z1FZUfOjcAFBVqWQTw08w7tGroTk0bhyp57znQBuB\n",
       "agPHnrvxdM5kxjiYy554T48m1zwAeHtc8GTzUuF2Q97E5g5Mf6AP5vcsGk9AIus9B1pWXBuHi248\n",
       "nTOzJQ5msjfe06PJhVOAt8cFTzYvFeLD8iYetLVb9LIni8Yzw9a29xxoI1BtC6oFEU/njHHOAXPZ\n",
       "E+/l0eVaG4C3xwVPNi8Vqsgmfgfiyhly3MyRBuUNi1mvTX9Llwvc7Wh32itntOZM7xwHM1mDZ4gW\n",
       "3tAsmivXXH6WR9vjAmUjxJxQKpStT2J/++xFHxl3rdwhMgw64tCdBcP+wsJEcmpfua1DJ0rxWrrG\n",
       "9LYGh114mLdfLvs5mMlaPEU4eLdJl5v6OnMWbc8RCFsmsh6cUpceD1baBaTWduur18G1cl19IMVh\n",
       "wl7+/fani/RATwSGWB98gUwhkWfutpbsE/Gw2Kwvvqk4YCbr8BTRwlNMv8utzo1/hgLaniMQtkyk\n",
       "JbVKPV9MigW0DmHOzYAUt14TUd5PiHUJJqGr2OleyOF4CmayDs8QDt6tIYeoV68U8PYcgbJloliS\n",
       "9euqqz9s5fLycjyCJ/bGkstDrKdhHarJDrc1blVQPAUzWYPnCAcPurdYUS/HshW0PS4wtkwUSzKX\n",
       "RyyxP7HtAT5CG9AZt95OXQI4KI9hxLph/1XKiQ73wtSNHIYnYCNPZR2eIVp4o6H5DyHqS8lsHm2P\n",
       "CM79EaJYUqox0S325xwP54/DZNE6utmAtJjL4vFm0x6pMhmxxmpwH55+7HBfaDZRPAEnz1BZh2eI\n",
       "Fj6te/MXL97DiwJ6fyI490eIYkm9ldRdsQDXofqh0d8PkFqrSuvZG3zo5J7IjJjiG1Ys5xvsZVVq\n",
       "o3uCD588GplhKuymf7IZRivtCT58cikE4z/ugCKdFcmI+QAAAABJRU5ErkJggg==\n",
       "\" style=\"display:inline;vertical-align:middle;\" /></a><br>"
      ],
      "text/plain": [
       "D11_to_Dkm: D_{1, 1}, D_{1, 2}, ..., D_{1, m}, D_{2, 1}, D_{2, 2}, ..., D_{2, m}, ......, D_{k, 1}, D_{k, 2}, ..., D_{k, m}"
      ]
     },
     "execution_count": 30,
     "metadata": {},
     "output_type": "execute_result"
    }
   ],
   "source": [
    "D11_to_Dkm = var_range(D, [one, one], [k, m])"
   ]
  },
  {
   "cell_type": "code",
   "execution_count": 31,
   "metadata": {},
   "outputs": [
    {
     "data": {
      "text/html": [
       "<strong id=\"D11_to_Dkn\">D11_to_Dkn:</strong> <a class=\"ProveItLink\" href=\"../__pv_it/common/c266bbbfaaa7d7a855fbd3b5756f8528069d29ce0/common_expr.ipynb\"><img src=\"data:image/png;base64,iVBORw0KGgoAAAANSUhEUgAAAmYAAAAVBAMAAAAeKz//AAAAMFBMVEX///8iIiLu7u52dna6uroQ\n",
       "EBBmZmbMzMyqqqqYmJgyMjLc3NxUVFRERESIiIgAAACK51z6AAAAAXRSTlMAQObYZgAAAAlwSFlz\n",
       "AAAOxAAADsQBlSsOGwAAA+FJREFUWMO1mM9rE0EUx183P9dNm+hBbxIoPfRSI54UkVboTbAHQaWo\n",
       "UbAiXrYHf5xq24vXWMSCUJr/oEFBBKkp3sS0Fg8K2tJIQUSxFlutLa1xZnd2s5t5474UdiGb7Lzv\n",
       "+3wzr/NmtwGA77WF2YUSSEfb0k5l8TVQDrU0VHjQoTJXB8juWwD6H0SeLgJMDpPIammo8KBDZa4O\n",
       "EN0Tf9npKqK+WwWI95HASmmo8KBDaa4MUN3bNtjpdEFW/zABopsksFIaKjywr1TmygDVvXWVnco5\n",
       "Wb3EXsYaCayUhgoPOpTmygDVPT3PV+CMrN7hq3ibBFZKQ4UHbkUqc2WA6s4bFiZzeNPra+SNA5WG\n",
       "CqdsRZi5OkB15w0Lb7rxpk+tkzcOVBoqnLIVYebqANWdNyz8Au2RddVZ9DV9uk+MtB9/GbBxuFIE\n",
       "LrIluHakkiXChbSZQ5jrB60rMUE5QJra/Wpjw+qbMPTJWoorGV/TTxbESB4uB2wcrhSB29kyPA7x\n",
       "DBEupM0cwhzOWFf2BJEAxR1i3Y0N28EiI9ZlMuNteu2CM7IOZfO/G0ddisBFtgRPdxsbRLiQNvt4\n",
       "xsyNVft6RBEgTa0sNewH8NUs6zR9a9GZ6BgHazITkT4cX8mDrXXgY56aeTP0rFUIKyx3ngay1IYH\n",
       "danPXJ9/kXNqhgUo7jBhLPPFeX3oM3vbw4rdk/fVTNvin6bYs9x+z+I4DHCoKILuB0SqPTgP/bak\n",
       "DufZGBwiGQGv43wuDVIbrtD6h13z1LfRfqdmaIDiPvesg/2D2tlbiJUgtbRdWbwB/nW2l1V9tlaZ\n",
       "fVeq1yyxD6CFvYATWvLiAyI1uorw09bW4Twbg8Ng1gnzcT/csvNLBRzRut/IyXTNY1/AdCaIBiju\n",
       "F4cT7Pz4K6S9K9JTs6R3XNRsmo+NSisYkaaq0b5GrZWNwI23bjgpt4cPYUtteDKoOb2Z5QGzPkEs\n",
       "QHA3fl+z3uegF/CaRUAqhJE3WLnlx0BEGjPjedOvtbMR+FN47oQj8sxzstSGR4L2f2/mRDRTcieI\n",
       "BCju+nyPwd/PwkDCX7N2Ma2uhkJoOZi+fSsLWlUCI9IytNwx/VqejcGN97evOPAueReuylIb3hV0\n",
       "D/BmziUyOZZp3wOQAMU9VR2MsPKwO+2Be/XRJ1Mn4OawcWyNSX3flY0kzsGlWo3dcORvh0hPQdvR\n",
       "Bi3PxuCxWm3Vgct/Dx9CSG14Nejp3XvxEV6ZLJNPEA1Q3FtLqXE2g+gMLDf+HKL6ZS9JfypSS0OF\n",
       "7zqzGSQ2g6hqaz1J5yqlocJ3n9kEEp2BrlIX6GClNFT47jObQIoZ/AMWEgaw9c42rwAAAABJRU5E\n",
       "rkJggg==\n",
       "\" style=\"display:inline;vertical-align:middle;\" /></a><br>"
      ],
      "text/plain": [
       "D11_to_Dkn: D_{1, 1}, D_{1, 2}, ..., D_{1, n}, D_{2, 1}, D_{2, 2}, ..., D_{2, n}, ......, D_{k, 1}, D_{k, 2}, ..., D_{k, n}"
      ]
     },
     "execution_count": 31,
     "metadata": {},
     "output_type": "execute_result"
    }
   ],
   "source": [
    "D11_to_Dkn = var_range(D, [one, one], [k, n])"
   ]
  },
  {
   "cell_type": "code",
   "execution_count": 32,
   "metadata": {},
   "outputs": [
    {
     "data": {
      "text/html": [
       "<strong id=\"D11_to_Dmn\">D11_to_Dmn:</strong> <a class=\"ProveItLink\" href=\"../__pv_it/common/36d924dea92a660cc0938a5341d4f744961dcfb70/common_expr.ipynb\"><img src=\"data:image/png;base64,iVBORw0KGgoAAAANSUhEUgAAAnYAAAAVBAMAAAA5hb4XAAAAMFBMVEX///8iIiLu7u52dna6uroQ\n",
       "EBBmZmbMzMyqqqqYmJgyMjLc3NxUVFRERESIiIgAAACK51z6AAAAAXRSTlMAQObYZgAAAAlwSFlz\n",
       "AAAOxAAADsQBlSsOGwAABBtJREFUWMOlmEFoE0EUhl+3adK4bVI9qMcF8dBLjXhSRKrQW8HeVFSM\n",
       "ioJ4iYeqJ429eC0iCkJp7h4aFLxoSfBqW4sHBbG0KghK1WIrtaUaZ3Zmd2d25k122IEuyZvv//e9\n",
       "x+zrEgD43vow+6EOyios/p1ZeAVJFo5i5lgcUqHJlRbFGelNgPwfTbxYA5isJjLHUcwci6dDkyst\n",
       "ijPQuX/kckkjuL0EkB1J5I2imDl601SohdKiOANdWCeX4+Pqxs8KQGYjkTeKYuboTSENaqG0KM5A\n",
       "966QS6OkbiySP3c1kTeKYuboTSENaqG0KM5AF+fpoWyqG3/psd9K5I2imDl6U0iDWigtijPQ9FmG\n",
       "yZJ+WuRXEw8WLYqZY3ELi1RKi+JMNH2W4fWgflr0rCUeLFoUM8fiFhaplBbFmWj6LMNvcB753/pr\n",
       "0rQojvDInsMv2wyWENWYc3W0L8WdAzOeedZEFjaLK6PFaxQyjrZMOSi0+CznN+DWR/90/uiTpsXk\n",
       "OI+U4XybwRKiGnOmFvaleBayfeZZE6JWiyujxWoUMo62jDkotPgs7yWbd/yv3X3itHDOBpE1aFSM\n",
       "gyVCNeZcHe7L8eKgu26eNZGF7esdrSxad+IZR+0x5aDQ4rP8HqTeecG06K0FBd+jqaun2gEVffDw\n",
       "R5l7BOb3ot45ajzv0bwR8xh65dYX0LEGJcmn+fVd2DuxOGK3XJigqfk5OKoTQrM0tpFn+WhZ6p2z\n",
       "ST9NkdfBncJh2c/i/mVfTfgQQ537p+A09wjNiZrv+4pYHDr7BDvZXEb7h8a76rEcNBmJSprPGVgO\n",
       "eicVR+2ahWaQA2Kp0iyNnsWtmYWrIJ+77aTbs62Z2bf1qHe5HSwOtEkd5eADicZQd6AGvxgbmVM1\n",
       "26eKeByueUzg+0rmMfTJNyiKLMViGZVjSprPOlwMz51YHLWrZEtBDn41sqWe5mnEZoFffrcY572b\n",
       "9mJxtsZAQXuWMiNxdtoL98fUuPsG2pszdA6G9Cyu7FnKjcDusEZJOwej0FENcxhTjBCapaHrXafa\n",
       "ELfs1uU4WyUV7apkyxWZ9dV8v6TGn8FzaGfO0RNwOadlcWVXpTDvrlSCGiXtCfgOjRwEOajv0QjN\n",
       "0hB7t4eXNxBriFOC6RvXPTnOhvKSijag42ZFZqmam0sKFnff3bgA7cw5ugK77upYg7JBTl5+vkwy\n",
       "83snaondHExkgecgV+MvhGZpBOvp1BEYrbqHVoletKCR3Ek412rJcf5fGlR0GAoHYyxVc/OCGu9q\n",
       "tVbamjM004TP4zrWoByGbXV3ziOZ0RolLbF7DC8+BTkUVCc9zdOQFvZjYHfytyocrVrG06F2RdgZ\n",
       "6+gMNoKPJfdFUcw84yX2tkDtirAz1tJ5jLb45RFF85bxdKhdEXbGnP4PbEoYgzY6/p8AAAAASUVO\n",
       "RK5CYII=\n",
       "\" style=\"display:inline;vertical-align:middle;\" /></a><br>"
      ],
      "text/plain": [
       "D11_to_Dmn: D_{1, 1}, D_{1, 2}, ..., D_{1, n}, D_{2, 1}, D_{2, 2}, ..., D_{2, n}, ......, D_{m, 1}, D_{m, 2}, ..., D_{m, n}"
      ]
     },
     "execution_count": 32,
     "metadata": {},
     "output_type": "execute_result"
    }
   ],
   "source": [
    "D11_to_Dmn = var_range(D, [one, one], [m, n])"
   ]
  },
  {
   "cell_type": "code",
   "execution_count": 33,
   "metadata": {},
   "outputs": [
    {
     "data": {
      "text/html": [
       "<strong id=\"R11_to_Rkm\">R11_to_Rkm:</strong> <a class=\"ProveItLink\" href=\"../__pv_it/common/55b538f65464b6726ae477b5e6c716c335878aa70/common_expr.ipynb\"><img src=\"data:image/png;base64,iVBORw0KGgoAAAANSUhEUgAAAmYAAAAVBAMAAAAeKz//AAAAMFBMVEX///+YmJgQEBDu7u5mZmZ2\n",
       "dna6uroiIiIyMjLMzMzc3NyqqqpUVFRERESIiIgAAACCFtC2AAAAAXRSTlMAQObYZgAAAAlwSFlz\n",
       "AAAOxAAADsQBlSsOGwAABAZJREFUWMO1mEmIE0EUhv/OMjPdGTMBxeUwqBfBBW0FbzKOqKgn4yHo\n",
       "QVT04EHBgIIHRQaPHpxGBPGiwQXBLQEPHo3oUUNgTu4tIorLOOKCI87E6q6u3qu7Jp3UIel6r973\n",
       "/nrU6+4EwNfWy1cvEBj5N1NPX9UgMjiECFdn4O2GdiD7FFCtB80DTSj/xMRxCF2HtxuaOLs8Dcz6\n",
       "G1x9WQfeVES4PEK34W2HJs6enwT6QsjfNGBUCMwjdBvedmji7H0TpPDN4PJRUuUpIW08QrfhbYcm\n",
       "zm4098nwTr4hdh/hEboNbzs0cfYjr98/1oLmnqnx3dvEtHEIXYe3G5o8+95K+qkaNGf/Yt2YGJhD\n",
       "6Dq83dDk2U+TE1gEVo8Yk/R8u5MXAb+YIV16EqHbQwhzWeEB+NrdjwTh0Wuidc3TzZkjz8ounTJn\n",
       "VIQQwh7kRWV9HfJ42Zhc+mB3ch3pf8yQQabMB3sIYS4rPAAfxhZBePSayFCk9plvDY48KzuWmDMq\n",
       "QgThNPd34MEwkKPI+3YnF5D7yQwD+5RJLtdHCHGxcD/8N6qaGDxyTYyuKp068qzsyoQ5oyKEEGxk\n",
       "fpCu1WV3zcwu2K4iOw2N7lNSDcnB7kgHCXMWjNffPvO6aHgQPtuUy4OrQQKDx/WpR9eg8p7VzLSz\n",
       "7FLzLmk7mCJUEYS04dKX/CBRfIWYF+qHXDVL/yHfyioV0nRPjZ2NbJna14/AuaAfHkJ67mKswBef\n",
       "ywgPg2MnH25eeAkMbro4EY44Ftq4taZi1cy0s+z9n+4tM9PvjN0aRazeX0jV83VkS6UCMmcL7nN2\n",
       "nFS9VNoBbH1r99MFldp7yUnFMVgXvUfhIyhDI5jEZp/LDA+By0cj4IbFS7DhhstZ6LmgM3fylTWZ\n",
       "nTPDbmdPfYbZlIaImK1RxNWPGNAyRecsumqWc59UWjNlzG+n4x78hH5dXoQTPpcyFg6/o0bAPRZK\n",
       "YPBcXHO6kis/tzny3KKqmzRbRPTWGKKBc+ithdYsi0DNruGmz05HMVCzlJZvKhOa12WGB+HKsFLh\n",
       "wz0WSmDwbNz935Vcah5UbHluUYM95QoTkRVCLMVXVGXPjtNFuq0hX83WQnl2caPPTm+UOvyEKjkM\n",
       "UnPY4zLCw+B3Lp5X+XC3xSIw+FDcM8CVvF+/kCVboM8At96GXC4SpiEiZmsWgjxoGxjMOKJ2/dLl\n",
       "5bg+ugdwgw3DuVqq1Zrw2q2f/e5tUcJh9FWUhupxGeFh8FWtVgRcDxIYXI/7O8J1PavSv4BkMeR5\n",
       "7HiOhxphGiJitmYheuo4g9vvfHcQjoSa8DtRbuaujsBjRy05MxxxgPNmJ/6z5cCMXZ2Bx77fqomZ\n",
       "HEQhfLUkrq0wY1dn4HFDSs60Ef8B9KsxdtCrhpcAAAAASUVORK5CYII=\n",
       "\" style=\"display:inline;vertical-align:middle;\" /></a><br>"
      ],
      "text/plain": [
       "R11_to_Rkm: R_{1, 1}, R_{1, 2}, ..., R_{1, m}, R_{2, 1}, R_{2, 2}, ..., R_{2, m}, ......, R_{k, 1}, R_{k, 2}, ..., R_{k, m}"
      ]
     },
     "execution_count": 33,
     "metadata": {},
     "output_type": "execute_result"
    }
   ],
   "source": [
    "R11_to_Rkm = var_range(R, [one, one], [k, m])"
   ]
  },
  {
   "cell_type": "code",
   "execution_count": 34,
   "metadata": {},
   "outputs": [
    {
     "data": {
      "text/html": [
       "<strong id=\"S11_to_Skm\">S11_to_Skm:</strong> <a class=\"ProveItLink\" href=\"../__pv_it/common/ac7fa14a3f78a5521cfecbf32411ce6018762bcc0/common_expr.ipynb\"><img src=\"data:image/png;base64,iVBORw0KGgoAAAANSUhEUgAAAkkAAAAVBAMAAACgfWeiAAAAMFBMVEX///8iIiIQEBDc3NxUVFTM\n",
       "zMwyMjLu7u6IiIhERES6urqYmJh2dnZmZmaqqqoAAACoC7eKAAAAAXRSTlMAQObYZgAAAAlwSFlz\n",
       "AAAOxAAADsQBlSsOGwAABANJREFUWMOtWM9rE0EU/ppt3Jht2njSg5WCCqKgAQUtqAlYsCBKLBS8\n",
       "CAX/ABfxUGmhEYtaFCmI6M0qhXqzHlppQYyg4sFDBMWDLcZTT0IRf4C/1t3szO7M7hudrHmQkHzv\n",
       "e9/73mR3MgmAzuWX1hSiQaNEfFyqLpIJhYKSn9RAqxvTxFswb0MTjcfaCs6tkhlaQc1PaKDljUli\n",
       "rgbMQw8lYhmwhqiEQkHJT2qg1Y1pYlcZuAc9lIgvQLZCJRQKSn5SA61uTBPvzwKD0EPjkf0BpMtU\n",
       "hlZQ8xMaaHljmjj2k6ql0XiYzjNFhlZQ8xMaaHljmmg5ziFdlIjHzucCmVAoKPlJDbS6sYI4fPsT\n",
       "dFFi6SecHjpDK6j5CQ20vLGK+H4KI41d3Zyn0NGnh//6nfJdrhMVzJd9dlTX5fuKLKmMoLzpcK0/\n",
       "8DfgkSGpsbUBehMxYnB9endyPX057705cZ5Ca3ilFHR3SvN3WBfVzSGXF3UZ31dkSfq2Ecubu+Ea\n",
       "lUg1zpVsgqAxtkNvIkbkcdZ9FG10+mofKPQ7iqqd1CwBxrewLqrbNWV8EXUZ31fkSSrk8maCWS+y\n",
       "c3heamz4x8V/T2TI50rP/xLEVbKj6ENPM37lm8xErspWwXp3YjyzUBYVLDtcJYHfUPSTZtxorPzR\n",
       "3OXSlRuguDFH3PqCcZWvktDYmtxX1ZqIEXnnV1V0lMRVMr8iiuKJj44NsafgXW4j8JRfKyN3Z1Ol\n",
       "TElSQEeeWxf5riL8pCQXvhPLzcUd2IJxqLgyzCr7D54psKGFxu0XVjZrTeQTg8616dfHIF1L6+wo\n",
       "ml7vo23u2d9/6vZeuGgue7Svzldp70X33OtdWYICjttcV+R7in7SQ325QDxabgwPuQfiJVDc7qgj\n",
       "XrmtnubXktA4dQ1lrYl8YtAZ0v3rTdNpR9FeW0J5rMj3rfv5YQBtdYlr3AzzAr/XDpIr8d/00fL2\n",
       "SroHm0iuypHx6004QQgXl8t6EzFi0Dm2Sh2IoEbNKIgoj2p0lbZiAsW0pHAAu4N8yG8osmQ1phsr\n",
       "T5Uzk8ZqmeKqHFmTd4xgghBeyOYLWhMxYtA5WA+T7cLD0iq5aO/gSVtE+V5XkVZp1Pte6MdCTlQw\n",
       "bgy+5boC31McbSQlFX4qjJYX3c/UmqxRXJWj9srxDteSv3uHcH86X9WaiBF5Z2bn+c9Keif2n34B\n",
       "hFSG7nIcEeWRCV96dQP1bAmnsOeSyE05zirXFfie4kDdS4ooj1j5NNYUjH6b4qocrS20z7ktvAlE\n",
       "+DqOlLUmYkTeWdwP6H/+dA8qdeV/h03ykxrQbaEtSBJnoI8S/zgof0vMNMlPaEC7hbbgjOJsro3S\n",
       "vwzQhIKl63U28SpZ/ykYEP8Ab+biJsXGYnYAAAAASUVORK5CYII=\n",
       "\" style=\"display:inline;vertical-align:middle;\" /></a><br>"
      ],
      "text/plain": [
       "S11_to_Skm: S_{1, 1}, S_{1, 2}, ..., S_{1, m}, S_{2, 1}, S_{2, 2}, ..., S_{2, m}, ......, S_{k, 1}, S_{k, 2}, ..., S_{k, m}"
      ]
     },
     "execution_count": 34,
     "metadata": {},
     "output_type": "execute_result"
    }
   ],
   "source": [
    "S11_to_Skm = var_range(S, [one, one], [k, m])"
   ]
  },
  {
   "cell_type": "code",
   "execution_count": 35,
   "metadata": {},
   "outputs": [
    {
     "data": {
      "text/html": [
       "<strong id=\"S11_to_Skn\">S11_to_Skn:</strong> <a class=\"ProveItLink\" href=\"../__pv_it/common/d2ef92cb6c62cfed7c48c0744db99fb71a4405470/common_expr.ipynb\"><img src=\"data:image/png;base64,iVBORw0KGgoAAAANSUhEUgAAAj0AAAAVBAMAAABf30JAAAAAMFBMVEX///8iIiIQEBDc3NxUVFTM\n",
       "zMwyMjLu7u6IiIhERES6urqYmJh2dnZmZmaqqqoAAACoC7eKAAAAAXRSTlMAQObYZgAAAAlwSFlz\n",
       "AAAOxAAADsQBlSsOGwAAA6JJREFUWMOll89LFkEYxx9dX9beX72d7JAgeCsooUtC8QoJBVFsgdCl\n",
       "8D9oDx2MBN/oYpcIIuqmB8FuealIiDawCPKwQtBF6fXkKZDIhDdp29l5Zndm32ec0X1Acb/zfD/f\n",
       "mXF33n0BoL6xWpmHrvq5HiyDRWnsGn9Rqqk0fNtYqvEFuHPdjUdacG/bhkjbNf6iVFNp+NaxRGMt\n",
       "BHjT3bkBUJm0IGrsGn9Rqqk0fNtYqvGoB/Cyu3MHoNyyIGrsGn9Rqqk0fNtYqvHVEsBEV2P5L0DJ\n",
       "syDSdo2/KNVUGr51LNU4s0c53eiT3ZRou8ZflGoqDd86lmqsRNFFovVD9HvEBqmxa/xFqabS8G1j\n",
       "ycapuV/UVj6KhqyQtF3jL0o13gA03zqWbvwxD/eTU9uVPzNqHbx2V8f9/aCpPfcZ1IHplUvsL3k0\n",
       "Vc1UUwf9ydeBynGgFoMyzsnsxzuZPe3t0myDXdx8IOT4fHT/4XUNag3tgyDbpeL+ENbiv7NRWTVT\n",
       "9+ugi/PhJFCLQZmnW/h53Y1/mj7U+Uw2xX02BuDs4vXReWdHR1Tt2X3K/R1osnNWjCqqmbpfB/10\n",
       "cL6Db3ibpIxzsvCnkHWQ98fFFdUCjKj48Tzdbpyft79/PRtyGf1vs/1x86qZmnQIqmvam4xfeXIu\n",
       "IBaDcpLuW/h57loA1TFlf2bi06J2AmAl+xdUG4nq/sHh7Eq2u8unYJjLwg8fAXNlKlcVaoqWqawD\n",
       "qWo+MRGJ3/dwa5hYjJDjdBVE+zE3XPh2DZT96RmIO8tXx9vZ/lz3ExUG2XAofh3zVbszNQm7XBb+\n",
       "0oDYH5nKVYWaoSUq6xBUNV+dyKA6697H4BGLETJLZyGplfZjrvi+LJ0/W+rTF7c+V1Xh8XP2vlZ5\n",
       "SJFh1E9Ht/KqmZp0IJXoVCsbb2541GKEzNLrvtmPud37E+T35wKcVVSsKuTsvV4t9GTZCZ0RMRrk\n",
       "VTM16UAq0alWNv6u3BghFoNykl618GNuukAXz2O3pezPNDjPJr4rqniHU/Yntjeh57Yny6MTt/xp\n",
       "PJ9bOdVMZR0p1TV8v5TGL5caAbEYlFm6PEetn+fiVD7vtUqn4fydLwD9mYld32j3RtG2rIrKiGhf\n",
       "gP6vsgxnoij2s1HZz1UzlXWk1H7D7SONP4UrHrEYlFk6tCz8PFd+8unktuXbh8au8RelHtJXL+Bf\n",
       "pL/z277jL8IB/EWph/UtFvAvad/1bV/u7f1FqYf1LR3Q/x9YldL8tUWR/AAAAABJRU5ErkJggg==\n",
       "\" style=\"display:inline;vertical-align:middle;\" /></a><br>"
      ],
      "text/plain": [
       "S11_to_Skn: S_{1, 1}, S_{1, 2}, ..., S_{1, n}, S_{2, 1}, S_{2, 2}, ..., S_{2, n}, ......, S_{k, 1}, S_{k, 2}, ..., S_{k, n}"
      ]
     },
     "execution_count": 35,
     "metadata": {},
     "output_type": "execute_result"
    }
   ],
   "source": [
    "S11_to_Skn = var_range(S, [one, one], [k, n])"
   ]
  },
  {
   "cell_type": "code",
   "execution_count": 36,
   "metadata": {},
   "outputs": [
    {
     "data": {
      "text/html": [
       "<strong id=\"S11_to_Smn\">S11_to_Smn:</strong> <a class=\"ProveItLink\" href=\"../__pv_it/common/73e9bbe83f5706c4b9eb83a92d87a0c8751489f30/common_expr.ipynb\"><img src=\"data:image/png;base64,iVBORw0KGgoAAAANSUhEUgAAAk4AAAAVBAMAAABCoXzbAAAAMFBMVEX///8iIiIQEBDc3NxUVFTM\n",
       "zMwyMjLu7u6IiIhERES6urqYmJh2dnZmZmaqqqoAAACoC7eKAAAAAXRSTlMAQObYZgAAAAlwSFlz\n",
       "AAAOxAAADsQBlSsOGwAAA7hJREFUWMOlmM9LFGEYx7+74zbbrqN2CC8VQnkKSigIodiFhLwUmyB4\n",
       "KYT+gPbQwTBoAymlAi9SN0UEu+UlQyHawCLIwwpBB5W2Q3QKlsgEk6aZndH3nfd93pl3nAdGZr7P\n",
       "9/k8876+82sBtG2u5mcgBq0SoTAq5J8b1eUE1MhQ8uMAae9zmNPQVKFtpOXDFdxtJKBGhZofB0h6\n",
       "rRqwqKkSoTAq5E0gP3xwamQo+XGAtLe9BLzQVIlQGBXyFpCrHJwaGUp+HCDtfbkADGqqRCiMtJz7\n",
       "C2RKB6dGhZofB0h77+9SYFrVN9Kyab9PRI0KNT8OkPbmbfuyrqpdrpLf2r97ElAjQ8mPA1R4R6Z/\n",
       "aav6Rlo2J+yuJNTIBaXkxwGqvF9nMNp8SpiLlHpv5Uoodt8oyuZqX1mkWjs+z0+GUKMc9MNqh582\n",
       "YTwsEdlcWmTuBVnPjHe4B0MPKLWGNfUa5Y2ibMHq4KlwbpDmP5/nJ0OoYQ46PD4LYTzcbEY2F9U7\n",
       "zlYoo80r+0apOygob4LBckFunzG2eKpZBIxtn7eXVFPDHPRV5/G5EMbDHv2RzUXVJW2An6eyqL52\n",
       "x2XKQMn45tV4jZfzZTZPruq6rKrH85KhVL+cUUPniPGdguLjKWI8+fWhseyS+z/XaM6860NPgbUq\n",
       "Wov8PJl/IKp456zEYT+1vyMZzeXTOBmQ0drBU61jwIrP85IBKjviyzlq0BQ8EffI47sFpzBGjGd0\n",
       "diFdzBbJ5uKQmNfd60Ft7vM1BNbTEWdSg2qmE0g5G447W6rm70hGY2QY2wEZ18s81cpd7av7PC8Z\n",
       "pDb/iOUclZmCJ9I86tzjuwVb7iKXxnPhofOu7Sw4srkwJOZ19/ZXMzdPbWyJ+2qvq/yQP6tFY0sl\n",
       "1xWQjWcU1eN5yVCqVy5R6WCklkqmCyeozv0YQKqu15x5+zELYp5aIahGzXBe3qoSVDKmS1atxMuX\n",
       "cI6gejwvGUr1yiUqHYyULmUnjUaJ6NyNCRQy0GrOvN3YzHADNasedyQwfEftHbxRhil/XkrGAlI3\n",
       "S5xsTA1+Iagu714zGU71y0Wq4j7OSAVnReUna3Jno+GsjSULWs2Zt4Gj3/fUD7uVzBlcvP0RYNW+\n",
       "eta2gax8apJxDtlPvJy27YZMbfIG6m4ynOqXi1Q6ONIcDvUY/WW5c66IWzj/SKs58zp7TxYCFyf9\n",
       "457u20tbLLmejJqstB6DInvnSd+8LnA+jpwrJ6MmKs3F+BwivAuqbwHtjwZ9OZ+Qmqg0HwPie/8D\n",
       "Fs3iiW8M4RsAAAAASUVORK5CYII=\n",
       "\" style=\"display:inline;vertical-align:middle;\" /></a><br>"
      ],
      "text/plain": [
       "S11_to_Smn: S_{1, 1}, S_{1, 2}, ..., S_{1, n}, S_{2, 1}, S_{2, 2}, ..., S_{2, n}, ......, S_{m, 1}, S_{m, 2}, ..., S_{m, n}"
      ]
     },
     "execution_count": 36,
     "metadata": {},
     "output_type": "execute_result"
    }
   ],
   "source": [
    "S11_to_Smn = var_range(S, [one, one], [m, n])"
   ]
  },
  {
   "cell_type": "code",
   "execution_count": 37,
   "metadata": {},
   "outputs": [
    {
     "data": {
      "text/html": [
       "<strong id=\"T11_to_Tkm\">T11_to_Tkm:</strong> <a class=\"ProveItLink\" href=\"../__pv_it/common/115e79ace45246d19f579637cb3d193dcac696fa0/common_expr.ipynb\"><img src=\"data:image/png;base64,iVBORw0KGgoAAAANSUhEUgAAAkUAAAAVBAMAAAC6QYcsAAAAMFBMVEX////MzMx2dna6urqqqqpm\n",
       "Zmbc3NyYmJgQEBCIiIgyMjJUVFREREQiIiLu7u4AAAB+RZVWAAAAAXRSTlMAQObYZgAAAAlwSFlz\n",
       "AAAOxAAADsQBlSsOGwAAA71JREFUWMOtWE1IVFEU/sbR92YcfD4XgS6CoV1J4DIIZKC1MgTRqpCg\n",
       "IpJmItqEWFHUIqRZRGGWuGoXzk4my3TTRqhZ1CJQebgRF5H2s4lwevf93nvfvW/uvN5ZyPCd75zv\n",
       "u2e8x+eDsbn+bmP5dQ1MiFFBfNtY3lx/81U1IaUjoX7KumJifgW5JgpVFVQQcxZmgCXVhJSOhPop\n",
       "64qJBaBSRveICiqIOrTfwCnVhJSOhPop64qJl4HbJeQtFTQaWhX6L2BeMSGl86Gqn7aumGh/Ve8t\n",
       "ZKGCRsNmFA4culJCSkdC/bR1pcQZIX1G0ZW9NzpJSOlJ9dPWFRLJBVRFBWHvjU4SUnpS/ZR1xURy\n",
       "AVVRQdh7o5OElJ5UP2VdMZFcQOwsOI8lt0To9vBKTE97b9B1bMIrdftwqHFkOWYnE/14Rpwh3X3C\n",
       "oXzRaGxbishewMyscwuHXorQMs612RtUHZtwS70+HNqDnmb8WohnxC6ye+DOQ6HxbSkidwG73aox\n",
       "EfoTFbPN3hiTJLzS7qYA7R/R9uPXQjwjzpC2B/Y8NBrblilnLyA1I4NHp8mRjGg7K9wbjhf97NBc\n",
       "fsqkE9PUjHhUt4jV6G99qO8ycPP6bP3ZGkQWZIb01StF31cEddoaCuW+MLBosTP6vsCjOO6ixh9Q\n",
       "H5wf6D0IZrRzopqr5+tMgpS6faIouppcS0ea0icMGDce4hHmRDSpocLT8QeeLwFK2kqa0cRAuOtt\n",
       "a73GzKhvi0czWy6KLyRd9j5g0z7G8Ke/DX9G156j3+wpMglS6vWJoDhsuWjQ0vlA6TsMbXcB+zjN\n",
       "W2CLOEO5JzD980RR0lbQjCcGwl7Q+2icRyctBg2y4T1x730Dg+grMQmn1O0TQbWPLOpHqOQwUKhl\n",
       "7uCz0ILMUOWMGfiKok7b8fblgXB0RkUO1craBI360QVuRnfxApUMnXBL3T4R9CIuMU38CJUcBnJm\n",
       "flXbM0UWZIamss0J31cUddoW25cHwsE0jKK3s2tg0cmBQxaN+rHLzGib/DVoYKqHTpDSbW9GPKqt\n",
       "DZxnmvg7O1AiDFu/Yn+h+mpZZEFmqJFpFv3zsCg84djzeOW+sOfm2I9a5j4uLB4F8uH37aKPWy0a\n",
       "DSJUIXWDpWwdr3B1nk6Q0sES6RNFc63WHo0G747CZySbYeufRO+E1rBEFmSGPmDJ9M/Dor5wXqHc\n",
       "F6bvo/iSqz6YlDpLqP5voKyvWvlfwqNQRwWvFayOElnV/zJGE89oFOkLi9+Mqr4v1TtL6KonrSae\n",
       "UTUl4X/wygcu431XLgAAAABJRU5ErkJggg==\n",
       "\" style=\"display:inline;vertical-align:middle;\" /></a><br>"
      ],
      "text/plain": [
       "T11_to_Tkm: T_{1, 1}, T_{1, 2}, ..., T_{1, m}, T_{2, 1}, T_{2, 2}, ..., T_{2, m}, ......, T_{k, 1}, T_{k, 2}, ..., T_{k, m}"
      ]
     },
     "execution_count": 37,
     "metadata": {},
     "output_type": "execute_result"
    }
   ],
   "source": [
    "T11_to_Tkm = var_range(T, [one, one], [k, m])"
   ]
  },
  {
   "cell_type": "code",
   "execution_count": 38,
   "metadata": {},
   "outputs": [
    {
     "data": {
      "text/html": [
       "<strong id=\"T11_to_Tlm\">T11_to_Tlm:</strong> <a class=\"ProveItLink\" href=\"../__pv_it/common/5de099f953f1b06e8d5657d60e8007367945f0f30/common_expr.ipynb\"><img src=\"data:image/png;base64,iVBORw0KGgoAAAANSUhEUgAAAjoAAAAVBAMAAAC9A1k5AAAAMFBMVEX////MzMx2dna6urqqqqpm\n",
       "Zmbc3NyYmJgQEBCIiIgyMjJUVFREREQiIiLu7u4AAAB+RZVWAAAAAXRSTlMAQObYZgAAAAlwSFlz\n",
       "AAAOxAAADsQBlSsOGwAAA9tJREFUWMOdWEtoE1EUPTHJJLEkrQuhXQjBnYrQpSCEgLtCJHQjLpQi\n",
       "qAvFRsSNiB8QXEgx4EK0Kl25k2YntdrPuqCB6kKwMnQjImL8bUSM8+bN5703dyY381bh3HPuufdm\n",
       "7ssHla2NVx+Wn7WhHRolztcPy1sbL95zA7F0pPRnCZmuBK20gmIXIy2dSKPEmbcxBzznBmLpSOnP\n",
       "EjJdCdoIMNtEblIn0ihxOrB+A0e4gVg6UvqzhExXgnYWuF5HydaJNBo9VguFX8ATZiCWbh6uP0vI\n",
       "dKVozpRXbWQNJo1Gj8MY+efSWYFYOlL6s4RM1xjaHEmeY9bjrPkwgVh6Wn+WkOlK0MSygYkSx1nz\n",
       "YQKx9LT+LCHTlaCJZQMTJY6z5sMEYulp/VlCpitBE8uGTwvut4UrFLp9YCUho7Pmqk4PeFKZx0Ar\n",
       "e5cTbl3hn8xIEq4a3QjXL72BpgFNX7bMA3fjJh5TaBMnBqy5otMDUurlMdA88t3kKyCZkXR3TBnd\n",
       "CNfcwkDTgGYsW05qGhT6E7NjA9a8ERPwpLkugY5OWt+Tr4BkRtLdMa1347rmqxiQMqQZy6ZMp2Ki\n",
       "10QzleiXdmXN3ToKxybmS1edvu0gcE2ZjokWbKfQaFrJc/1dBnD54oPO/XVQXKIgt/DNoJvQtSw+\n",
       "qxNNFZrfChZtfTrf3EdLRXFQopU/MF4AO/8F0/l0qFXslDoy6gWEVOaJotjRlUmiuT1/wUDl0m3c\n",
       "wTxFowoSwkrP70Zx/QbVlNArNL+VHS/7G21tOuWPMNDMR4ninQg3/RcCOfDm75I/nQsPMTomHswt\n",
       "OwgIqZcngmKPLZOEKZsez/MXDFifF/Bd7Eq0hGhBUujdHQ3NdQqaqa43aEEr8qj3zlEY6HlbQ/2j\n",
       "IHLDlzCOsvNg58KPBVcq80RQ6zWZVuG5DIy0MzfwluTGFOT11dCyTYNlOq21Ep1O1ZiO1bRmVNQ/\n",
       "VXM6N/EIsxnnDQzbc6UyTwQ9jTNU2pAnGSiOldas3hjFjSmoXAuqCrNt2uCYSprfSjCHStW7ldvQ\n",
       "0fO7dtsq6l+CbW0627B6zsiv5oHP4UPiSLe96Ziotb7rJJFW4QmG4z/rPD2FtSbFjSlotBR0E2br\n",
       "tcExlTS/FVnH/h/tzC2cWtwHlMLqJHq331fR4K+U8KXQjdezHTzFOec3bmgupON1kSeKFvv9HpFW\n",
       "4QmG438YO2esJZvixhSUvwe/mzDb8UmWqUsLWlF2j/TMcb9o1IcLMH9R8P05unr6Vmoks8asJmsP\n",
       "FchyfyPUUk6nlt6UpNH/U3L/vSwMFyhwu2ylnE4rvWlA+w9GD/FEBwurJgAAAABJRU5ErkJggg==\n",
       "\" style=\"display:inline;vertical-align:middle;\" /></a><br>"
      ],
      "text/plain": [
       "T11_to_Tlm: T_{1, 1}, T_{1, 2}, ..., T_{1, m}, T_{2, 1}, T_{2, 2}, ..., T_{2, m}, ......, T_{l, 1}, T_{l, 2}, ..., T_{l, m}"
      ]
     },
     "execution_count": 38,
     "metadata": {},
     "output_type": "execute_result"
    }
   ],
   "source": [
    "T11_to_Tlm = var_range(T, [one, one], [l, m])"
   ]
  },
  {
   "cell_type": "code",
   "execution_count": 39,
   "metadata": {},
   "outputs": [
    {
     "data": {
      "text/html": [
       "<strong id=\"U11_to_Ukm\">U11_to_Ukm:</strong> <a class=\"ProveItLink\" href=\"../__pv_it/common/3a7e258f9192b1616140746b4358106ceda4737b0/common_expr.ipynb\"><img src=\"data:image/png;base64,iVBORw0KGgoAAAANSUhEUgAAAlcAAAAVBAMAAACZGtb5AAAAMFBMVEX///+YmJjMzMxERETu7u5m\n",
       "Zma6urp2dnaIiIgyMjIQEBCqqqoiIiJUVFTc3NwAAABAtvA6AAAAAXRSTlMAQObYZgAAAAlwSFlz\n",
       "AAAOxAAADsQBlSsOGwAABBJJREFUWMOlWEtoE0EY/jduHk2TbbFaEDwsBUGKhyBelfWU4sUoFT14\n",
       "6KEnUQx4UMHHioIVrfQiePJ1EEG0OfRYMAcF8YFRFIIvAioKUhPrG5Q6szuzmdmd2czu/pBl9/v/\n",
       "7/u/f7o7mxQWnjyuwcs/NvAhgYNhvP77CoqzF5UzcgLE9aBsKvFUxycAclVQhIOR/YkOpyNk5ITY\n",
       "HpR7JJ3qMvqkLVU4GH0ddBiPkJETYntQ7pF0qm/oUwRVOBgDJXRoRMjICbE9KPdIOFXmNzqUQREW\n",
       "xH60A+jVCBk5IbYH1R5Jp8ouosMwKMKijcUE0CYiZOSE2B5UeySdqnAFHSqgCAviAd4GomTkhNge\n",
       "VHsknWprQ/h0S+Bg6P9k24AkIyfE9qDcI+lUdwbRtwob9FXO1eYZEawffCN9g/R/RYdPDNOfIWTS\n",
       "wA+Xjz6XOiYewkp6mFptC6fS7jtXIcI+AfbhzLZg7Tl8kZqqi+A0pOuhG8sxhunPELKrFIArsDt0\n",
       "30AewkrCTUF+QjgVXHeuQoR5ga4jcr/NuytaF8EDE8aiVLbj3tn9dUmGkueF8E9om9LFcj2ElfQw\n",
       "1QbhVEbHuQoR9gl49zp6GN7yi2X5Yc3CgwWfRB0zvqP+LWpo5fKpxon1XMYlu0pBeAU2rAfdMh6c\n",
       "EtC2rZ3ODZkiG3JTQ8ZpOpXODKuVPlVpb0tFgI7VV4EFk1ss/Q/4YcjWXXjrDHRP3MMFMJ7RZdaH\n",
       "r8ItmOYzmEyUBDAc8ak6J5wHXAKb9wzmG7mGqE5uqvl5S4t4c2CiWDw/d5v05nndK07AGwsOvLCB\n",
       "v7MeWX4Y1lkuXMDv3XtATgp38cwbd3lMY2wGFmEnn3HIrpIATt0lsKeKTzgPuATen4EBM1312eBZ\n",
       "AVM3ainqzYGJYv4smFTYk+uqBAS8sWgwi9Vv+WFjgw8mMce8P5z7pGinrsBDPuOQiVIQfmfxMJVj\n",
       "mjkl0IRRKNSENmSmjB/bu96YHu0dpiccOhUV8MYKLlYW/PAH+MLDJKr+xcqbuZLRMbmMQyZKAdio\n",
       "GC0Opjsss6pOCVyDk9BOCW3ITGmlvYbnjekxlKm3qHBWRcAbq7sqZSI7xi9WGYz1I+M8TLZCm1ss\n",
       "9Fuqjf4IWqnCZjAZ/8qa5wkEfjeyxuJ0SDDNcEkZv8GaMJQW2ZCaKtrrsnQqtkczVa/S3mM9BZix\n",
       "SHy8fAhGa8bhX6iSkXXh/NJSh4NJ5Jg/P2KmbsI+6GsZTYvNYDLKYCUBPLu0xME0mGa4ZLSWacAl\n",
       "WDglsiE1taxVXE6nYntsgqcm7W33FGDGYqMmbl9T/uIcNdOv/M1J2YMyVb23sDIj3jozyv9+m4ya\n",
       "mVRVVvegTFXuLa7UxLWasupg1MygqrIW/8bSIGHvbuV/lJ/hwPiNGNYAAAAASUVORK5CYII=\n",
       "\" style=\"display:inline;vertical-align:middle;\" /></a><br>"
      ],
      "text/plain": [
       "U11_to_Ukm: U_{1, 1}, U_{1, 2}, ..., U_{1, m}, U_{2, 1}, U_{2, 2}, ..., U_{2, m}, ......, U_{k, 1}, U_{k, 2}, ..., U_{k, m}"
      ]
     },
     "execution_count": 39,
     "metadata": {},
     "output_type": "execute_result"
    }
   ],
   "source": [
    "U11_to_Ukm = var_range(U, [one, one], [k, m])"
   ]
  },
  {
   "cell_type": "code",
   "execution_count": 40,
   "metadata": {},
   "outputs": [
    {
     "data": {
      "text/html": [
       "<strong id=\"U11_to_Ukn\">U11_to_Ukn:</strong> <a class=\"ProveItLink\" href=\"../__pv_it/common/8fddd8f21029b0d8f45d5162df06109a83806e6f0/common_expr.ipynb\"><img src=\"data:image/png;base64,iVBORw0KGgoAAAANSUhEUgAAAkkAAAAVBAMAAACgfWeiAAAAMFBMVEX///+YmJjMzMxERETu7u5m\n",
       "Zma6urp2dnaIiIgyMjIQEBCqqqoiIiJUVFTc3NwAAABAtvA6AAAAAXRSTlMAQObYZgAAAAlwSFlz\n",
       "AAAOxAAADsQBlSsOGwAAA7pJREFUWMOtl01oE0EcxV9Ckm3zsQ1+FHpbCkJRD0W8KttTemuEFjx4\n",
       "6KGnghjxoILaXKQVRXoRvLV68CK0QXosGKQFEcUqCsUvAlXspTbWUi0odXZndrOzM7udZDOQIfvr\n",
       "m/f+8+/uJMHG61cVfNgtgx8BWBxBwqi++qe/H5Gbv49mR9RguXJiFOgoCdoADGVhVF9th0yTaH5E\n",
       "DZYqZ8graQrSAAxlYVTfzjqZhlvoUtRgqfIXeeVEaQBWF0b17eon00oLXYoaLFOm/pCpICgDMJSF\n",
       "UX1xgRwMiVLzTYocLFNqW2TqFk8FOYayMKovJgwgNtp8lyIHy5TZWTIVBWkAhrIwqi9eWKdDCw9c\n",
       "5GCZcmhF+vgHYCgLo/om/imfI+0Nliqf5sl3kzISPfbVwLQMJy5/Dvxw4NcLvHD9ncyX4jDfzE8y\n",
       "rYdKQguKPafN7pHj/XfElI3HX6uh7451EZ+qynASyWrY8eEKRV7EOZkvxWG+9ulwI1QSWhAe2Vdu\n",
       "XTxW2BFTMsZu7EX6H6zKcNeovhXoya0X+A42DYkvxWG+Wt2+78MkoQXpdXq5KMUKO3IM6P1F7rwv\n",
       "XJcSAo6ZxDMh+pmC8EzfTZ4f8nRJwLYvxFvfispsk1prTILDB6aKkJUgrHMSYv3rJadLpoAVdsSU\n",
       "NLmziA2D69KQdYbwGFqVYmtK7HrfcMKB8Xy6xnNcc7svYsuXt3OvcA/6WyZBovsB5mTp/JW38tzd\n",
       "hTnWJW+wg50dNdb5d0SVLBmX3pfBdSm7BD/GcZPirPUJuey8eWn6hF9vocvkeXzJfZJFbPna2PWl\n",
       "5tYftVNnXYk+OI1txpchyIvedSwhfRuGU5cn2MHujlwD/46okiU7w3MuLcCP9ZM+zD6HTL9wFeM+\n",
       "vma6viK2fTPiI+eJsiXIlVOz0hIC122OGG5dngQH778jpmTJYpdKQpe+4QeP2XMoCB9iJM5xvajX\n",
       "HF8R276auFtPlC1B2kgWDVkJgesOpqo1py5NxPvviClZcmOXBXZ+lPnNF6Cf6B3mMR2DgrCOZ084\n",
       "vtZ7xGS+IrZ9ORd2CjeiLAn5NbeJ7DFDVkLQOqzGqyXrZ+AiH2xhtR0xA5rMxveZKzha0a/+LqPD\n",
       "s4ri9N5encNslP3C1Aom8xyf39tzfEVs+0Ks1RNlSeKPcR4dFyErIWgdTuONQRZadXkTLKy2I2ZA\n",
       "k72jIg+vqH5VqTTHlX0zaHFk0P7klPxLe0r1J0KQMKovxlrt0hjanxyTK2OqlrHmuLIv8q12Kd+m\n",
       "5P9PPdm5PWKTMgAAAABJRU5ErkJggg==\n",
       "\" style=\"display:inline;vertical-align:middle;\" /></a><br>"
      ],
      "text/plain": [
       "U11_to_Ukn: U_{1, 1}, U_{1, 2}, ..., U_{1, n}, U_{2, 1}, U_{2, 2}, ..., U_{2, n}, ......, U_{k, 1}, U_{k, 2}, ..., U_{k, n}"
      ]
     },
     "execution_count": 40,
     "metadata": {},
     "output_type": "execute_result"
    }
   ],
   "source": [
    "U11_to_Ukn = var_range(U, [one, one], [k, n])"
   ]
  },
  {
   "cell_type": "code",
   "execution_count": 41,
   "metadata": {},
   "outputs": [
    {
     "data": {
      "text/html": [
       "<strong id=\"V11_to_Vkm\">V11_to_Vkm:</strong> <a class=\"ProveItLink\" href=\"../__pv_it/common/66bade9ed04d79d91d380af1a56eba3ea930edc60/common_expr.ipynb\"><img src=\"data:image/png;base64,iVBORw0KGgoAAAANSUhEUgAAAkQAAAAVBAMAAABVg+wSAAAAMFBMVEX///+YmJh2dnbc3NwQEBBU\n",
       "VFS6urru7u5mZmYiIiLMzMyqqqpEREQyMjKIiIgAAAAM9TCCAAAAAXRSTlMAQObYZgAAAAlwSFlz\n",
       "AAAOxAAADsQBlSsOGwAAA+RJREFUWMOtWL9rFEEUfnt7vy+5XBU1RDwECwv1iIiCgUTQRkGvEbt4\n",
       "hSFYuQnWyWkj2nhdFItckcKkCNeFdNcJsTDgH5BTCKKYcEaIJkTOndmd3fnxZtls9sEtw/e+731v\n",
       "Ju9udwPbvY8AS/t1EAJH1ShuHrYgv/AmZEJLlyOsf9y+KDHzz76kqxIVR5GY27Avk6ETWnpU/5h9\n",
       "ceJN+5NSqDiqRnLcvlRDJ7T0qP5x+6LETfvzQ6HiqBr9XXs6m6ETWnpU/7h9UeLDCphlhYqjaqR+\n",
       "A4yET2jpUf3j9kWJl2rYROOoGok9zQDjCS09qn/cvijxTAkGVSqOqmH8AqMWPqGlR/WP2xclPilj\n",
       "E42jaqR3NQOMJ7T0qP5x+6LEubY90ZnTdD29gaCZs/ct/d35kMylrxMTrtStLqEz5x4E3HyJfyAj\n",
       "sKFTHXE/AhpUViCyGGjYE73ynSzzOw0EzUK2oW9p355LTicmXKlTR0br8FJflvoHMoIagmRN2g+H\n",
       "BpfliSxyf8hEr9F1oYGgAzXzQF9yYUbQiQkmXcPQPRjT34apfyAjsKExkPbDo4FleSKLvkMQj8iS\n",
       "UMMiO1K/axl6/dT2Wjk5tFP9ss4nHKlTR0FPkE4zapO+P2WA8WxlqzjcxFpAhE5Dw+ZXtp+MgtKy\n",
       "gftxiJ5xdk88IvrsL6CQaDgoeTr3Fs4FXtfYEWUGb8At2BISROrWUVE4L5WkC96fMGD6USlZLVYx\n",
       "mqp2HSauP624fXG+LkrKaooJRGYMRl2aorfkgHkUliwHzRGQvOLRRW6ejo6nM2c34ACeCwkqdeqo\n",
       "aH7eRb2S9PWR8ycMuLoNA81sWWpBFNEFFToOd1t51hfn66K0LFJMJnrGTnBHVPBn0EHNDyLKYtVb\n",
       "OV+0VCc/Du+EBJW6dRR01BJQr5jvRBkwAYuQa6EtaITm31d+X6sySssG7YcRmbFyRAmQjugaXBZQ\n",
       "FmXpiJLNYtvsNvkElbp1ZNSsmxUe9R5w/aOkDLgNP2Esj7agERrtx6bXV1lGadmg/TAiM/YOY8Yt\n",
       "OSsc0QyY68svBJT9vHX4I8qU7ftAqmO061yCSO2E83Mto6PL7y2+CAvfiTBs/6795xzOYi3ohKnO\n",
       "UoLtx3egKDMO2o8r94xpjGxehMWWeWHXpvlNO2iy1+vyqPfvJ/+vbevyd2AS+ivmhMUliNROkDoq\n",
       "eq/X41EvfCfCWGylq/AZrnzDWtAJ+yqpIbafoogy46D9uHLP2I8WatwK+TxSOFqiEPY5J6x/WOVx\n",
       "jNPor2HaCllx6miJqbDvXFbUE9Ioj2Ns4K++YTsqHS1RCvvmHnmIDIjH+D/LOsC37b8qjgAAAABJ\n",
       "RU5ErkJggg==\n",
       "\" style=\"display:inline;vertical-align:middle;\" /></a><br>"
      ],
      "text/plain": [
       "V11_to_Vkm: V_{1, 1}, V_{1, 2}, ..., V_{1, m}, V_{2, 1}, V_{2, 2}, ..., V_{2, m}, ......, V_{k, 1}, V_{k, 2}, ..., V_{k, m}"
      ]
     },
     "execution_count": 41,
     "metadata": {},
     "output_type": "execute_result"
    }
   ],
   "source": [
    "V11_to_Vkm = var_range(V, [one, one], [k, m])"
   ]
  },
  {
   "cell_type": "code",
   "execution_count": 42,
   "metadata": {},
   "outputs": [
    {
     "name": "stdout",
     "output_type": "stream",
     "text": [
      "These common expressions may now be imported from the theory package: proveit.core_expr_types.expr_arrays\n"
     ]
    }
   ],
   "source": [
    "%end common"
   ]
  }
 ],
 "metadata": {
  "kernelspec": {
   "display_name": "Python 3",
   "language": "python",
   "name": "python3"
  },
  "language_info": {
   "codemirror_mode": {
    "name": "ipython",
    "version": 3
   },
   "file_extension": ".py",
   "mimetype": "text/x-python",
   "name": "python",
   "nbconvert_exporter": "python",
   "pygments_lexer": "ipython3",
   "version": "3.7.3"
  }
 },
 "nbformat": 4,
 "nbformat_minor": 1
}
