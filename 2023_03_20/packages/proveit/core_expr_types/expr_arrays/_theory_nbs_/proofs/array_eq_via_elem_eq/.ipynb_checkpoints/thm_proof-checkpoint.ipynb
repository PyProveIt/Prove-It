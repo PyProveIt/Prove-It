{
 "cells": [
  {
   "cell_type": "markdown",
   "metadata": {},
   "source": [
    "Proof of <a class=\"ProveItLink\" href=\"../../../../../_theory_nbs_/theory.ipynb\">proveit</a>.<a class=\"ProveItLink\" href=\"../../../../_theory_nbs_/theory.ipynb\">core_expr_types</a>.<a class=\"ProveItLink\" href=\"../../theory.ipynb\">expr_arrays</a>.<a class=\"ProveItLink\" href=\"../../theorems.ipynb#array_eq_via_elem_eq\">`array_eq_via_elem_eq`</a> theorem\n",
    "========"
   ]
  },
  {
   "cell_type": "code",
   "execution_count": 1,
   "metadata": {},
   "outputs": [],
   "source": [
    "import proveit\n",
    "theory = proveit.Theory() # the theorem's theory"
   ]
  },
  {
   "cell_type": "code",
   "execution_count": 2,
   "metadata": {},
   "outputs": [
    {
     "data": {
      "text/html": [
       "Under these <a href=\"presumptions.txt\">presumptions</a>, we begin our proof of<br><strong id=\"array_eq_via_elem_eq\">array_eq_via_elem_eq:</strong> <a class=\"ProveItLink\" href=\"../../../__pv_it/theorems/9bb3007cc76da45bfca76464e688912228028a2b0/expr.ipynb\"><img src=\"data:image/png;base64,iVBORw0KGgoAAAANSUhEUgAAA4sAAABxCAMAAABLLMazAAAATlBMVEX///+Dg4O+vr5RUVGTk5M9\n",
       "PT1GRkbOzs6/v79aWlrf39+IiIgiIiIQEBB2dnbu7u5ERETMzMzc3NwyMjK6urpmZmaYmJiqqqpU\n",
       "VFQAAADDS7InAAAAAXRSTlMAQObYZgAAAAlwSFlzAAAOxAAADsQBlSsOGwAADddJREFUeNrtXQu3\n",
       "sygSdHd2dmcGBVER+P9/dH3EJAiRBuFGL13n7HdmK9KhbrrCSztVdRpcL1AV4troBz/zdXQ1Syrx\n",
       "cnJspl4NlOLtuKbjhAGT/doQys9cAFSllHhBORYzu2dUibzYYaJfH7JhXuYSaMZ0Ei8pxylwRC8W\n",
       "A2ZlAItP+qwYYvMphSDWNnVuOU6B6MVyoHo/c5WutqkkRi05RXY5LoHoxWLA9eBlroJOyzQSoxD3\n",
       "5kFyXALRi8Wg7/3MLjl4ts4QT8K0dRqJMYIGzfLLcQhEL5YCaY0Z0jeK9Pn2QaTwZRRJITFKEK1/\n",
       "QI5DIHqxmGGx9jO78QF4PNApSrpQ6/jyvW1SSIwS1CtClMwtx2bQi8WsFgHfzAYYcFgcmunDb0Pn\n",
       "dbL1jXHyvMQoQUxP17HAjA6XYzPoxUKgLLOoY/vwHrZaXI8RxDIwsBG+j0naY2fo/rzEKEFyCdOQ\n",
       "3HIsBr1YBphuvYy5aNJNbeLDOCWWDKrpnAaEHMzVxC6ePl7dKc3PSowUtHhE09xyLAa9WAZGx4zo\n",
       "eBI4AqeoTbv4YE1ECd/2GDw3jg6anpUYJ2j5WhmWYFnlWAx6sQzY6znvCo+DJmhsWaRtaQRPXu51\n",
       "hm7OSowStJ4uiiVYXjl7Br1YyBS19jL2QEJBkefUVX0lu6Dk7Tu/t/g5iXGCqvltH/fS5ZWzZ9CL\n",
       "hUxRqZdxzNZAwxGZc1ZUIih5pf82MxI2SU0mSE02bEWVX86eQS8WAWVtLCjA7WIUckcZU4TyThEe\n",
       "lLyUA5KqPycxWhAVY+CUO0rOnkEvFoFG+5kUkCmfcNBBZ5Y5BGWWs2PQi7hcvGry9iF3emcRlFnO\n",
       "jkEvlgBpHb1J3aZ/m472mpJk4UTIPakZBGWXs2PQiyVAWPsGIvT07gsYQ+x1fUG2nB2DXiwBvXUM\n",
       "3id/Ri89eMgJ4/UF2XJ2DHqxBDTW2Vaj+eV7zUIKo11fkC1nx6AXS4B3C++q3eYnJN5AjsmgFwtA\n",
       "Z30jd1rfoN81fN55B0G2HJNBLxYAae33yzxHGsmXuSRe4h3kmAx6sQAQ65YPovsb9FvB90bvIMiW\n",
       "YzLoxQJArd10muN4MTkE/Fch7iDIlmMy6MUCoKwkULf47RMKH+wSCkpfq/ijHJNBLxaAVgsvc00v\n",
       "1vESzyzsxA/JMRn0YgHorUTtb+FFAj/sTyoo020DthyTQS8WgNraNKhBuyJfrFX8SE4dLzFeUIZa\n",
       "xR/kmAx6sQA0VqI2oNT9Yq3iUC+mFJShVjF6EbElKvEyrvHhm7WKlwwP8WI6QTlqFbvlSPRieV4c\n",
       "vYyN79YqDvZiMkFZahWjFxHrXoSVqNqfuhG1ihmlSkE96SvuuyzcdLzEaEHPWsX55QzoxfK8KL2M\n",
       "tWiKqFUsNlO6Lwwr7rukFXi0TSloq1WcX47JpPHiP3//gxl/Xfz3z/95GXunIbxW8fxPB322wlfc\n",
       "d06rP/+Mlxgt6FmrOL8ck/n33zgu4rj4YU4HW129ahWPDJ68HOCMpONieK3i/HJyjIvoxV/oxZha\n",
       "xfADgb6rftqL4bWKc8tBL6IXYakbUau44jXMPaADudReDK5VnFsOehG9CEzd8FrFXQs0D+Xf8GJo\n",
       "reLcctCL6EVg6gajm4aHLl0qJPfi1eSgF9GLmbzYtZxzwX6LF/PLQS+iFzN5sdEzqt/ixfxy0Ivo\n",
       "xVxz1MT49hw1uxz0InoRvYheRKAX0YtHXnw9SSLHU148HwiBXizai+J56tJHDm9/6eVuwPOBEHm8\n",
       "+B8vc0X8FeLF/9xQjsn8a/Ii38azro12/OK984EQOC6WvV7c7mul8pwXzwdCoBfL9uL4WN311Ukv\n",
       "ng6EQC+W7cVqfcqyoWe9eDoQAr1YuBfFcmtry0578WwgBHrxc/Iaj9KrX+rFTm3/TGBHe6D02ItG\n",
       "oDvAfNZFhm7/kpTNXQgLSXBcvL0Xl5Fse6CEGp9oV4v5hbFRjty1vGgEyqCmb4EktLH5g+lDcBCR\n",
       "rrkL3pC7gAK9eHsvSmJtuHCi2nZKBakqOjV43K/u86IjUEooCiWB171nMlPhQQaaqrkLgJBmQHc8\n",
       "9OKdvDj5ZzQnOEI8Ho+U0wviOTn1edEOlBQNh5LA6969KIaIIK86JyebO2fQQ2hAZzxcL97Ki1Q+\n",
       "PsWBLCLJ8yY2yeXQkdmLVAhRT/8bjrz4DFQxOhJqLXfcrHNQsK/kmhCrYqWTdP4pHNe9e7EG9NAK\n",
       "8jpKPdncBX/IfUBnPBwXb+XF7rEeZKSaX2avHJV8mqPKATouboEqVneOe8bdrNOKjitJzSqy74KT\n",
       "dG1suK5782LXu99XtBtGR5BnpZOTzV1whzwM6IyHXryVFyu1znU6Jucv42F89+LkQNICvbgFmia5\n",
       "E7/8pNV71ZAnO0hyPAN7tX8ZZs6+sd/VIXmQ3oBbY2MsfPvvoT3o98ceDO2H5s7+WH0djvadrB5V\n",
       "rU+UMx568V5efH26S73Lfv3mlasXGd02ZNxeZKP9N2umZFvmu1y+FdN6ss1czu9wIbRduVscCWVG\n",
       "3Eh/wPW6j+OiVAf9/tgD3n5o7uyP1Vd+5MV9SIAoZzzxR+dlToPp5Ht27I8/oJcmF/QjckymG60+\n",
       "sOnj5dQYF+cv8sd6xDsuPuPMv3gysjllXzn9Yrvnd/2nv8V2pXwdssz520gj4pP0Bdyuk8aZTbtP\n",
       "Y7vfxpzQ6sFzUrhvvvXH1fzV18M56j7k2nVXwKeoL85R6+Q/r/rVcfEn5HjGRdkvY99rerYecRF1\n",
       "/C72t1IzL3KG8ZXTjJpsNZ+YrKzrn+eVcsmvhZsCjUt+Ppxgkp6Aj+ukka723o3Vb/MT2vWgIuQR\n",
       "3m6+9sfdfHttbu7qrTOktJ22F0UIzlF/zRyVqeU3Vrv2sezjdb97ThjoxUGMktDxlbd8Hk/e2PXQ\n",
       "ZGF505n/GFcuXVmvE49cezjBJD0Bt+ta/sGLbefst6l014Ol0RLebi745+bba0sjR5fdIVv+KWD7\n",
       "Hg+9+EvWi5sn6TwLGqDvcjhbf87n3knKHrdsuf6I0thQXf+vdER8J4EBt3C2F62D8qOi0dvI3D7D\n",
       "75s/++PA9tq2Xy3dPd6FNLvueoW1FXrx13kx8F0OvMhJs556De896bXWtcVurmDmbhIzuWfEdxIc\n",
       "cA3n8GIlOme/jzStTdbwZvNnfxx4vvZo4uiyK6TZddcrokMvohcBV41gFsqda2x5cbnZLwiP+0XH\n",
       "c81d3YsK+eH2VfQievEG2PU71EwsafPIS7wXoxfRi4hr4KQXR56wL6T7uhe/pQe9iDjrRdjv+QIP\n",
       "x6X4uhdBeqBn/QF60IuIk14cgI+GAw/H6297EagHetZfoxcRP+RF1qetmCLb73rxe3rQi4hTXuQ9\n",
       "T9wbAi6HlMOLX9SDXkRMiTp4mQ+guqlNhO9Xil0E8JsHeXG4vB70IuLUuDj2qYv6Df1QZfCivLwe\n",
       "9CLi3HqRJ352iMPNwOG/RBoy6f6WHluOyaAXC0CjRy9zMJKkrTwd8LNHA9yLAYK+pseWM6AX0Ysh\n",
       "XgTu2mc4X8zjRZieDOeL6EVEVVuJWod4EVjvFnYgR3kWL4YIgukBni8G6EEvIqpeEy9zRUjdxEu8\n",
       "gxyTQS8WgFZTL3NFjLqOl3gHOSaDXiwASgsvc0UQeP2nOwiy5ZgMerEACK28zBVBdRsv8Q5yTAa9\n",
       "WAB8SXDd7xCRwbYXkmMy6MUCMFqTo1Hf4aejW/iGzB0E2XJMBr1YAAZrA2+A71B+EX3Ag1A3EGTL\n",
       "MRn0YgHorIOtTusb9LvRPF7iHeSYDHqxBGjr89F3+MTgt4bfQpAtx2TQiyWgtp7qqfVw+V53IfPO\n",
       "6wuy5ewY9GIJUNYdYirkJrivLXP7MxKvL2fHoBdLALF208ktzsbpGYnRYG1T/4icHYNeLAHer+SL\n",
       "jubyjMQT6MWPyNkx6MUSwKxdRnaDfcc6YOsmraAshY9tOTsGvVgEausDqiEf2cgz9QdS4ZeFHRkm\n",
       "FDRo9hNy9gx6sQhQa2eDQvY6kteG2QB5AleG3WKaUBCtf0TOnkEvFrJgVF7G0Qpqhk5R0gU9QAjI\n",
       "dhU2U0woqFeEKJldzp5BL5aBRvsZa1YFHRaH+Rdc23Vix2CZAKjw2+izEiMFMT1dt/wyO1RNnJw9\n",
       "g14sA8K6/0r4bjADV/VlzTw7FOvYQIHDo7fCLw99CiqZILl8qzQkQE2MHItBL5YySaVeZr/+glb1\n",
       "FUsO1Z7DwNAKvyR0MzOZILGcjniinZdjMejFUiapjZ/ZpQZ0itq0y8Qu7B40b4XfvjkvMU7Q8q0y\n",
       "BK5Ww+VYDHqxEBDLK8TnHmBVX7Y8hLcm0kCAE0tvhV8eXsAmlaDFhWKaqILVxMixGfRiKbCXX94F\n",
       "GayqL1tyV/WV7BipgEdz3gq/SrMEEqMEzevOeQ0MVxMjx2bQi6WAWp899WYa7JytncZFWYtKVB2T\n",
       "sCbeAzkWU78mkSA1TpqmDoLVxMhxCEQvlgJmzYmYdxoIq+rLFKG8U4Q/fAlxjW9Hk8RkVCJBTFEx\n",
       "Pr9lMslxCEQvFrRiZF7mvOFZmtvmGpFG4jXUOOQ4BKIXy4F96lCnLvAr+0rk+d6IlXgFNcCvQfRi\n",
       "OZDWpyRTf27TdDVFRBb7YHBaQYnUOOQ4BaIXC4Jo/cwloNp0Ei8pxykQvVjULHX0MxfA0LCEEi8o\n",
       "xy0wlRcXKMz2a4NbOcAbdsGvjCGlxAvKqe1SYAuSTIjHBQNm+8UxdH7m62BDWomXk2Mzq3/G6v/+\n",
       "2oWQGm3udQAAAABJRU5ErkJggg==\n",
       "\" style=\"display:inline;vertical-align:middle;\" /></a><br>(see <a class=\"ProveItLink\" href=\"../../../__pv_it/theorems/e3a049e875066d0c69ac3f22f97406f34d0e3c710/dependencies.ipynb\">dependencies</a>)<br>"
      ],
      "text/plain": [
       "array_eq_via_elem_eq: forall_{i in NaturalPos} [forall_{a_{1}, a_{2}, ..., a_{i}, b_{1}, b_{2}, ..., b_{i} | (a_{1} = b_{1}), (a_{2} = b_{2}), ..., (a_{i} = b_{i})} (ExprArray(a_{1}, a_{2}, ..., a_{i}) = ExprArray(b_{1}, b_{2}, ..., b_{i}))]"
      ]
     },
     "execution_count": 2,
     "metadata": {},
     "output_type": "execute_result"
    }
   ],
   "source": [
    "%proving array_eq_via_elem_eq"
   ]
  },
  {
   "cell_type": "code",
   "execution_count": null,
   "metadata": {},
   "outputs": [],
   "source": []
  }
 ],
 "metadata": {
  "kernelspec": {
   "display_name": "Python 3",
   "language": "python",
   "name": "python3"
  },
  "language_info": {
   "codemirror_mode": {
    "name": "ipython",
    "version": 3
   },
   "file_extension": ".py",
   "mimetype": "text/x-python",
   "name": "python",
   "nbconvert_exporter": "python",
   "pygments_lexer": "ipython3",
   "version": "3.7.3"
  }
 },
 "nbformat": 4,
 "nbformat_minor": 1
}
