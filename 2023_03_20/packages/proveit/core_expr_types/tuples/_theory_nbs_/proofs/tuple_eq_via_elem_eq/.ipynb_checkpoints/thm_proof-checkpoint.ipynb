{
 "cells": [
  {
   "cell_type": "markdown",
   "metadata": {},
   "source": [
    "Proof of <a class=\"ProveItLink\" href=\"../../../../../_theory_nbs_/theory.ipynb\">proveit</a>.<a class=\"ProveItLink\" href=\"../../../../_theory_nbs_/theory.ipynb\">core_expr_types</a>.<a class=\"ProveItLink\" href=\"../../theory.ipynb\">tuples</a>.<a class=\"ProveItLink\" href=\"../../theorems.ipynb#tuple_eq_via_elem_eq\">tuple_eq_via_elem_eq</a> theorem\n",
    "========"
   ]
  },
  {
   "cell_type": "code",
   "execution_count": 1,
   "metadata": {},
   "outputs": [],
   "source": [
    "import proveit\n",
    "theory = proveit.Theory() # the theorem's theory\n",
    "from proveit import defaults\n",
    "from proveit import a, b, c, d, m\n",
    "from proveit.core_expr_types.tuples  import tuple_eq_def\n",
    "from proveit.logic import And\n",
    "from proveit.numbers import Add, zero, one\n",
    "from proveit.numbers.number_sets.natural_numbers import fold_forall_natural_pos"
   ]
  },
  {
   "cell_type": "code",
   "execution_count": 2,
   "metadata": {},
   "outputs": [
    {
     "data": {
      "text/html": [
       "Under these <a href=\"presumptions.txt\">presumptions</a>, we begin our proof of<br><strong id=\"tuple_eq_via_elem_eq\">tuple_eq_via_elem_eq:</strong> <a class=\"ProveItLink\" href=\"../../../__pv_it/theorems/b032b2cdc2eda215cf3bb0e638ef73c96c50ab690/expr.ipynb\"><img src=\"data:image/png;base64,iVBORw0KGgoAAAANSUhEUgAAAwQAAAAZBAMAAAB9dfQJAAAAMFBMVEX///+IiIgiIiIQEBB2dnbu\n",
       "7u5ERETMzMzc3NwyMjK6urpmZmaYmJiqqqpUVFQAAAB6qHgnAAAAAXRSTlMAQObYZgAAAAlwSFlz\n",
       "AAAOxAAADsQBlSsOGwAAB19JREFUaN7tWn2IVFUUPzM7b2Z23sw6K1aCtSyLSx+LsYmlhMII2Zcf\n",
       "PDfbCtJd/2gLMxpdsCJqn5VRBDIESqDgSOY/FUxSaSk1EgbqRqMZaqbNhgVBxBoulrBs99xz3333\n",
       "fc1bBwSnOnDGc8/9vd977553z7n3rgAh8nOHCf/LVZNIx6xQTOFf9cam0PokOUnfFT3J8H8rBJEK\n",
       "aZ2Synp9N9XJtVMoC0EV//mxVgjCEA0kJ4TWKzd6PJkc9M5WHc6WV6z+SJmUheBzbL9TKwRhiMYR\n",
       "rUBatzQbbs9jTLc5PNtCOKz+LUKH4WXMZ/21QhCGaBzRy6R1S7rk9hxgOu7wjIdwWP1HhQ7zwMYq\n",
       "tUIQhmgcaRJav9zpdnSzCjHmqBdjIfXE6m8ySIchzb6K5prlOAzROHJaaP2y3V0KWFqLtaseZ8sr\n",
       "sr+5TMpWRLM7OubUXhGFIBpHPhaaPD9dXdtsXrgxZDEq8cvcqS3HxnGkTckRzpZPObH6Y1VSFoK9\n",
       "AE/UDkEIonFku9B3zbiSLlLz4Fmj5nU2/jD+7OlAud36lPu2aH/ZWGfLK7I/XSBlIdgMSRYLzblh\n",
       "yakhIMRVqI5iMgftlcSXdypoke9ZIJohuFmk2nzQlXTxUBn21F5IEf5RZn7n6oqyL/onA+6wPc6W\n",
       "V3g/jnamm5SFIG7EimxK0Psmux6Er9h4l9QQEGLSktjqtfx6IU7/HAmCUIjSnnu/IJZn7uXJkQAe\n",
       "ibubVB+FaA60w8L7JcBM0O75I3AmEB4WMnPIXeDZw30GcBEet9a62KpFxtE42olRUhaCTNaqtet+\n",
       "XQPnYoZuuEJgIyYn530sv14KgVYNgqT4XFzl6W4Rc3SX62OtBvDscoWgqR/6irBuqvDeBdplFm49\n",
       "sI4SnlKSTwhmQmo80Wpdja1aZNhPb9dNigcUhYMi2HtxF5wtxcAVAomYpMz1sfx6KQR6MRCCOxfa\n",
       "GTrfO++7UfISzXXhRCLqy8K3zDouIncB0qMwpZi8FJi+CQ/WNUotwEQ0DvoYZNrlsl8fq0XG0Txt\n",
       "tpNiCJayN021id33yR82xmDx/q79RSUEiIAVB++3aBTTFulMXGgz3JaSHWwfhSDqIZSQpfjDnlJb\n",
       "Mk1N80Otv9Cawrn08BBZPBK3mrSvAr+xuoHDyfq1cWgpnEobOGre9IEewu/ESfa1qzvOMsolrCY8\n",
       "BAjGFifTwJcM+3G0Id1PiiF4lXEvn2JoPMOejK3c5ZkFiNBuSViVXjGVNCCdkc5IyW0pxdH2UQje\n",
       "VK79dIBJWULOYHViD9BjDvEQ6Ni9FqYaM+g7cpIrRE4eiVtGGs9munT+RWt/86AcL5X4gp03+wrg\n",
       "Mjhey46JJa1jlc9G5nd4mr5nDuYtJJOXO8mwn402rWdRMQQtbF5vOg4pvnM/CaXrPSFAhF5KdEOS\n",
       "L065+eEM57znTsAwxsvpAgHRcuPQB/1KCHY7uEEl2I0pk2H3wyCkjsmMtBYO81bKeWqyW30I9VYS\n",
       "t55UG7lv8w2UVDrYWKya9vwIe8H1BjWj+O5dIAz0cHxyJX7nt7nnNHOuWlymEBAbtpAs2il4nGTY\n",
       "vwlvHS2SysPq1ZDeOjDwDAvBimZPCKjwRKrwUqc0u7VRV2GKVK1UrVcFkFkeHPM5ZsE5B7eDYAN+\n",
       "wlUsoW3QBH12iv+CtxLOEJxTH0K9lcRF86R2Xs/I1MNjnvFkItuDOSfpqbI3W7h2FczJvodAMsyI\n",
       "rwi1QqCN5RM5mgWpY+59AdUkM37IgE5pmvi9qTULnSdwaTsFmioERMuNQ9+JrBKCDQo3JRBJcIbG\n",
       "j+1l1j6cZDNBJKJRWIAtdyLaYD+EzYO3kjg8ZbNP2jAEMXn1W/CG2pSZxn7BR/zO+I6qIYg5yHKB\n",
       "ZGy06YDvgBKCTKFEO2C2tm5z747pkzKHPuDDtEKY8SIztZz1w51nS8yKGqxocSC3GM5Gke9syVmO\n",
       "Jbf4WAUBtDI8luN5icuHANZY/Z1YxVgrkrWJ2Y9FdLak8GAjIk8jnhIqQ7BcToInn/tEaUqxPadZ\n",
       "+Xjd0x83lRAsV8m0bCAZjjaePfPzZzkLRkx4nYUmcasJLb4hSB04toQPzGCFzL1oJubBoIk/5Izn\n",
       "0fdRVgC5xXCJBQJlki+eV0LAXkJyiwQrCNhoDVZwyN7/ZloZdJlBXmwF3oqbNjGzLKJ4XuGJ5+1h\n",
       "AugVivLajoVyA86CNzExqjTdO3Tcn0xXwmevQijJJR+4mLXBnCwSuN3no40PxR9M/cOldu/AGt8z\n",
       "IkVwYMQpk5G1TJDOnoxlSSDHZZy4nowSglRO4XbcCV+vIjdWixzvhK1elTgjiXoyCg4bvfZ5W5a0\n",
       "Ton4nIBsrJNrutAr/dvxujkVSFFN2THRbpk4jmTFrxOWDUQcvOfEMZhyQLHP5nbeSTcRr9N7N0/8\n",
       "qZ43YmufQoyWIBLsdmPfNX12WMef79N+Zm0Lyj4+GYJY0HnKEcIvCujGw6OyeosAonSxwUPw9tX7\n",
       "f0RJZdPoJ8KvBR1gBl0QiruGJNIx/x+rylYekzso/wAAAABJRU5ErkJggg==\n",
       "\" style=\"display:inline;vertical-align:middle;\" /></a><br>(see <a class=\"ProveItLink\" href=\"../../../__pv_it/theorems/f597eed95753311ebd4f279a41f64a54a8efde810/dependencies.ipynb\">dependencies</a>)<br>"
      ],
      "text/plain": [
       "<IPython.core.display.HTML object>"
      ]
     },
     "metadata": {},
     "output_type": "display_data"
    }
   ],
   "source": [
    "%proving tuple_eq_via_elem_eq"
   ]
  },
  {
   "cell_type": "markdown",
   "metadata": {},
   "source": [
    "### Instantiate the induction theorem for an inductive proof."
   ]
  },
  {
   "cell_type": "code",
   "execution_count": 3,
   "metadata": {},
   "outputs": [
    {
     "data": {
      "text/html": [
       "<a class=\"ProveItLink\" href=\"../../../__pv_it/theorems/96e822e87a36755b44260b70b3567b2dc98fc8950/expr.ipynb\"><img src=\"data:image/png;base64,iVBORw0KGgoAAAANSUhEUgAAArkAAAAYBAMAAAAMr/jlAAAAMFBMVEX///+IiIgiIiIQEBB2dnbu\n",
       "7u5ERETMzMzc3NwyMjK6urpmZmaYmJiqqqpUVFQAAAB6qHgnAAAAAXRSTlMAQObYZgAAAAlwSFlz\n",
       "AAAOxAAADsQBlSsOGwAABmVJREFUaN7lWG9oHEUUf3e53bvc3jaXkmKhGkJoUCxKLNUWsXABi4pt\n",
       "2dYaFbRJP2hFC6YNREU0W/+hCOW+VIQWesXaLyqcRW2tQa8fKjRFvNYKLbH1CvWDIJJKQ7UQ4rx5\n",
       "s7Mzs7eJOSjU88G7vPfmN7/Mvp15M7MATSS+0MYk8y9j138kN6QkqqQNSjYfjd3SINd+oTV0fm6K\n",
       "7J4R2qjcHIm4BehfrgZ0LypBe6JCehSdD5ohuVaRtGFp9czIE0z3aJE9c3AE7btJX8PqMtgM2XUq\n",
       "pA1LrmxGxphOa5HpOTiC9pOk+MJS1WbIbovQxuVuM9DLqvGUVpun5qjdQXuLxzXH3nZrU5Tdc0Ib\n",
       "l71m2WV1JtWlRnQvKrK9tUK6vLt7RVNk93OhmUuL1d1/V9/OOU5iEr/erDUFlqKLncrK1r06pTto\n",
       "T9VIDwM83RTZ3Sv0Q99W1m92FbzgzdovxJ/An0PdKHcGE3Bgt/VXiNW9qMj2XJF0F2Rq12WTEasr\n",
       "7lAt5svZuMNr5HTkz4G7g9S6Dxxl/T5SgUOzHzUI/zgzfzSakmwe/uLBXWFE96LC2y02UreX1PZS\n",
       "pXkkLf1+1FLkZXn8sOnPeBwBZT9XimMwN/DxGB6Ju5fUmYRkAawTIvotwFKw7v8jdv4SHvqYOWru\n",
       "k2xwXwFcgSeDgx56s5FxdIpNnPQkqZuf36Z2qY4VyoKCnl2rFkeQ5cjNsQwHjClWi+E5YGS3ZRAG\n",
       "SrB9oYjeA9Y19iad2O2I8FQj6mR3KWSn0+1Bb/RmI8N2erpeUigem1d2V9axlAEN6dl1SrEEeOCm\n",
       "y0xdBuNsHyVaaeBEZRjIww/MOi1eymXITUJbKXM1tlQSHoI+St3FyjANzhS4XfI460zNRsbRvI51\n",
       "kcI6fMxNxx4MEIoZigymL3d6pqXIaPuvWnaTEULZbR3+sAFYazv8OgzGITxCFPBI3BbSgSr8xmo0\n",
       "Zoq1W9OwoHg252FCoqPFCOH349L4zmi22RK/ipWb5wnB6HEyC+qSYXu2EyveICm8wYit29LBXqiY\n",
       "yrqUwURPomxaiiz0lmjZfVfp++UzTCqy2wSehlhB2+iP8uw62LxNMrg6uUKk80jcelI77y5z+Dy0\n",
       "/ub5Pl0u84ModweKYBgcb+WnxHlOO72yzPwOz9Ms5GDuIZnsrpNh+4Y2jw5zqLCALUWnnO6FDD+Z\n",
       "cfPTJfpC5EHAd2FXckUComXiYBs71thKdg9q3KASHMTyxCi/hmHInjqqMHAvq1/PD6qDCHjQkbgd\n",
       "pNbFB3bdRKu8mz3m5o6XLrIH3OGRm8R3sQyEgRGOzzyFs/N2c+Nkwc0PV8Qa52zoIVmyR/DoZNj+\n",
       "Fv7rZIlU1O9EDV7tkWavNWnU90QtKItOTQCZZeJYMfxGm7sXNG6NYAQnXg13ok52gx1QGLiX1rN7\n",
       "QR1EwMNTEOCSQ6RhDXVlLeCv042UhjCCRSAT2axuDXBdKpiT/QSxZFiiXhdKpd23j3vQI00fZ4la\n",
       "+jF4Bo+obdBSJSBaJg4mYbXbp2R3ROGmFS0JJig17Pi97dEMm7+iMjAG9MzKMBIOIuTBEUkcfoQJ\n",
       "P8RgdlOy93vwjurKpR8+4GP1PgGdVLOb0sgKsWTW1BB9/xmTE8Ef/YRnYJMw7RIzrULww4Pny8xK\n",
       "eqz2cyC3GC5EsZ+e3KA7oe9qkltMMUEA7awH7mqr0teOAzwXtPfgZsC8RF4jDojOlxUedBLy2vus\n",
       "UJndDXLqbn3xC8WVEkbOsVL9dqTd9pXsblDJrHwsmVss86+O4ZfH7NiptfyZh6tkHkYzvQqGffyh\n",
       "oD2Esc/yAsgthkuvFiifWa+0A2xVssvGJ7lFMRMELBHDVczGx993VMCRSxoZ0LN9jTggsocUHnso\n",
       "zABAv1CUN/f1yesgey8zM5OKa94X8dy9WHkz4WZOCco8dCUfgjlZIvbyyQq5zwdlG5dLfGbxEcLL\n",
       "BybI4EY3sCSQ49yw9HD2rmqY3WxB4db+E468Ku8Ca7ThotevEwdEG10Fh05/+DkmT9qgJOpctXc2\n",
       "yLVYqCLbV1QhS6V530xXYGKKyLIXCSsEIg4+kgxkbfGUm/CRkFv/T46PHA49UuvMn+qXJvSOGMSC\n",
       "iA1CWbmLZPw/Ibl65uwWVOpYMrupuDv5OHGsiRtIySCOIcqV4P8oGeUKU09E3Ir7dBXXYU7cDST/\n",
       "AKdz+90/3BlQAAAAAElFTkSuQmCC\n",
       "\" style=\"display:inline;vertical-align:middle;\" /></a>"
      ],
      "text/plain": [
       "forall_{a_{1}, a_{2}, ..., a_{i}, b_{1}, b_{2}, ..., b_{i} | (a_{1} = b_{1}), (a_{2} = b_{2}), ..., (a_{i} = b_{i})} ((a_{1}, a_{2}, ..., a_{i}) = (b_{1}, b_{2}, ..., b_{i}))"
      ]
     },
     "metadata": {},
     "output_type": "display_data"
    }
   ],
   "source": [
    "tuple_eq_via_elem_eq.instance_expr"
   ]
  },
  {
   "cell_type": "code",
   "execution_count": 4,
   "metadata": {},
   "outputs": [
    {
     "data": {
      "text/html": [
       "<span style=\"font-size:20px;\"> <a class=\"ProveItLink\" href=\"../../../../../numbers/number_sets/natural_numbers/_theory_nbs_/proofs/fold_forall_natural_pos/thm_proof.ipynb\" style=\"text-decoration: none\">&nbsp;&#x22A2;&nbsp;&nbsp;</a><a class=\"ProveItLink\" href=\"../../../../../numbers/number_sets/natural_numbers/__pv_it/theorems/e6f44021025793e42989a647168c70ce5480d4c80/expr.ipynb\"><img src=\"data:image/png;base64,iVBORw0KGgoAAAANSUhEUgAAAhEAAAAaBAMAAAD76BPLAAAAMFBMVEX///+IiIgiIiIQEBB2dnbu\n",
       "7u5ERETMzMzc3NwyMjK6urpmZmaYmJiqqqpUVFQAAAB6qHgnAAAAAXRSTlMAQObYZgAAAAlwSFlz\n",
       "AAAOxAAADsQBlSsOGwAABqBJREFUWMPNWX1sFEUUf3tf3d7etVeJjUagzRE10VSrgWgM6krAGAVc\n",
       "iSGamFCinJgYeiDpf8CqSMI/7UZD0sQGTpsQ4xcNATSUkFZMSYHEE/SPqrGHERTRpiS0CBJx3szO\n",
       "7Ozt3LanhfiSm72Pmd+895v33ryZA1DJMdFMKT9lbbhxomVbAIwZh62ImO7jzdTiwI2VEwB620yD\n",
       "VkR8XjSesJXXrzMT+pS/ESZgUOkt+Womsj1MHDlYodurovEmKtJHMnN9mZgT8hubG5mIWMFfY4Wq\n",
       "oqwoYZKhiFjCL37wk9/Km8Zr686+S6f9hrw2kHezg0woEKoM/vbJsVf207A0K/URcyMTWknFRB1F\n",
       "GAiZyG8OldmMCUQ8iJ+7/fnD5A1cBkgsIM+4A/HzuwhIrbscsaJgQoFQpdQTx3rRCkakEGluZCI+\n",
       "oWLCQK+oDc3fkjmuICZhAhE3BxNGfYE3NRcIyxeQF6S6iYxKuXl0hSOY2Az/NYltIT46in56KBAR\n",
       "fInF3MgE9KiYqEFP2RY2j98cKoiJgdXjklL0K2bxRrtEXhfJmyjXBha4XvWbYEKBUKU0kWTXhD7Y\n",
       "GtjFMhITdG7KxAGvR8ISeWIHeSwLDUOfOUwWMCYIYorQU+sfcJNoEuPkRYbDiNDGXY7mDsGEAqFK\n",
       "accXYSPthDPRw5mYJa1zm2DixFQJ3G8Okx7GBCLen83O9w84J5r6Nua6sE9os5xpaPKAdFQIVcok\n",
       "c1yam947s7Uxs/HxgoqJ5ZyJPdLm8aVgIprNzjND85FkTnLuc4+tZpjIBCJ+BrDGPyAnGjJsa4sI\n",
       "TKrNMEs0Ni+8HBUCj93pEUFY0BdheNUS7zLXZeJXC+lWFRPDnIkttHbYm0W5t48zYeRFrKi1kM2J\n",
       "JU7DKptiIhOI2Ak6STXJ9n2Hf3UH7BRN08+LWc3dIrQ5RT+TLHm7YIIhhBSxvmI2LbI7t1L7e/FS\n",
       "6gORIiQLd4B+AVLjKiZOcSa65OJhpOgyQbToDC2lZXM+jLRBV55iIhOImLBoUfIFwCJ3wN2iaecY\n",
       "DwltttDPvwA0CCZcBEne2FdIPeLpkGCP3X89NWZLxxlDCl8qUbKdxa9AegIMjHeDeDuJvJJvbsrE\n",
       "Knm++DsFt7JaA0+GaOE3xyIYoxbFxKGImM7QdHeezBbwictBJnrB3Y9XCCZcBO7rc3OFdGkJ7A8w\n",
       "kWqGWHPcc5+k6ZUTnAlIjyMNUVPlE73CJ+TKevsTvMb82kuYCi3KzBllubDX9QlEdGjR/TDAPeVM\n",
       "1FzkQ73oOMnrKqMoqm1HLtv7cRMYNMCM9e/tPygzUdcH2rghLecON3x5miPRAXUOREzYY1sKJk6K\n",
       "PGF7eSLbLart2lQmRIsycwgNV+MUk+YJRFyGCukT0MkPn2d5o13hQ1cLbYaoyjjCEUwgQurQ+rna\n",
       "UB40LFrSmz7ImAGfiBYhUop4Xfnm38TJSRBDiDcQTz2nDyiYGFLtHbu9c0dshHx//GhDn1KLMnPm\n",
       "kyiMUUy+d8Cb6K+p+xq+5f1m8aaWBzDbO5+2+X5KfeBlwQQivNA7EC2R8n0lNSC/5LsgE12Wfh62\n",
       "e13he/b9LpHlS9RNvwJ4KVYWHWJuysQR6ZDkeEzoJCvEjy2EB5Va+M3RL4HmHKWYOJQi1mGI1EnZ\n",
       "n/JDGqN9kiuygbzGHt1JmL4LP57BZr1gAhHeuhXq86Qg+JjpYGhtASaONMyxcAl5V3c5D1xbzYO7\n",
       "GeB9gNsAPrrFz4Q3N2XisFQt5aWzKEnk+jMOTCi18JuTbIb470WKiUM9xKh0hsPExRohEZ6i9OZK\n",
       "p/LT8BoG+nAulyum83HT8XZyl4kxbH70ukJH+YZ3Z8UaU8xdfu7Qy0/ldZlkq1ILlTkU0z13uNJl\n",
       "K8+i8kGF/TZQiYkHoBG6amAjWw34RLLBZWIhNh1eVx4dnhyveAITc1c+i/J1zBt9eZUWKnMopnsW\n",
       "5VcES6R9sJU3nqx1n9sq3dTo42SphwxW5aUKvjsExoT+p5tseVdekkgdQ8/U2/j9RKoUwkQXRDbl\n",
       "VVqozKGYZGiqQr8/RCNkZTlEORPJEnRD582gYyLd0O1eAclMNF60mLG8axAsHnq4XyvurOwQJj4F\n",
       "balSC5U5FBPvrOxp32PqzM00e8rbu2dzufKLtITs72aY3a+HnantsHvMmP8eU6GFwhyKqc0rVLzH\n",
       "pJdoaXPG7rZlJuBzL+7/zf8DN/Zuu5r/O96exv8dPiZilm+Wav/vIGnXsGb8/44ZR5zW3b0VePO/\n",
       "kH8APREAlHlLlYUAAAAASUVORK5CYII=\n",
       "\" style=\"display:inline;vertical-align:middle;\" /></a></span>"
      ],
      "text/plain": [
       "|- forall_{P} ((P(1) and [forall_{m in NaturalPos | P(m)} P(m + 1)]) => [forall_{n in NaturalPos} P(n)])"
      ]
     },
     "metadata": {},
     "output_type": "display_data"
    }
   ],
   "source": [
    "fold_forall_natural_pos"
   ]
  },
  {
   "cell_type": "code",
   "execution_count": 5,
   "metadata": {},
   "outputs": [
    {
     "data": {
      "text/html": [
       "<strong id=\"induction_inst\">induction_inst:</strong> <span style=\"font-size:20px;\"> <a class=\"ProveItLink\" href=\"../../../__pv_it/_proof_tuple_eq_via_elem_eq/a9061ec5ea6bb4eabfbd74cd56573a2525a2b4940/proof.ipynb\" style=\"text-decoration: none\">&nbsp;&#x22A2;&nbsp;&nbsp;</a><a class=\"ProveItLink\" href=\"../../../__pv_it/_proof_tuple_eq_via_elem_eq/cf11078f92ffbe8831606293cdcb0a635c250d8d0/expr.ipynb\"><img src=\"data:image/png;base64,iVBORw0KGgoAAAANSUhEUgAAA9sAAABoCAMAAADW4ROoAAAANlBMVEX///+/v7+urq7c3Nx2dnZE\n",
       "RESIiIgiIiLMzMyYmJju7u4QEBCqqqpUVFRmZma6uroyMjIAAABMl2BWAAAAAXRSTlMAQObYZgAA\n",
       "AAlwSFlzAAAOxAAADsQBlSsOGwAAFfxJREFUeNrtXYm2pKoOrfdUVETU///ZqzLIkCCU46kma3Vx\n",
       "WiQEZcuc/flkuV36uq6Lf6vIZC4yy28+y6/L+E+Wum3zm3+22g35Gfwr2C6cEImO1rOjPGP7hlda\n",
       "UzSO9/n5/CvYJswOXRlImh449aYlY/sGKVEAs47mx3MPtrd3wJ6p86y0QwC0bbQeWnU1klprydi+\n",
       "QzrkKdMuP/67sM314Gd8ZFqNjnYI2knj9YwcS63CjO07ZJjg6tSP+dnche1GNdxF9YgNvLVDSFoe\n",
       "r2diWGodZmzfIT1Yn5opT6TdN95WzVn5zNJQ54TwTTRWzzBRNLUMM7ZvkWKCKtSYm+0bsa2q+jMP\n",
       "nY12iBjaxuopazy1DDO275EKeBUsN9t3YvvT1Yt05TNd8tIOP0VfksKdGS/7WD1jT0jP4NQyzNi+\n",
       "R5rJX+AY6/xc7sQ2b9av7DMrE06b+hm6YrbF7Vi3W6vOa0N6Vw+d5iEGdaZxVGoZZmzf1XB3MXDP\n",
       "ciG2i179JDa5Z5igNoDKUKyQ8PXrTjdEsy5SD1u/Ch0BU8swY/uu8ZY34u6nvLZ9K7bXJrsMjIOa\n",
       "EZzyjJ5XR9KLAcFghXxagbp0sBtC6u17v5eHSr8WaSrB1DLM2L5LJmcShU5Vfij3YpuRnZm0vjyE\n",
       "bSQ9hO2uWquA+A/T6By6SGyvX4VhbS/81ENut++VfmrswdGUj+ncjO05bIPjoK45hm04PdAnp+t4\n",
       "rJXt7IbO7S9svC31rJWHrz0/P7UMM7bvkmGyP+pV7pLfju2SqUVuWrakLPwZENLTILbBdDvphRJi\n",
       "hnTFZj9+WGGhs939jkg9S0MhdzX6qWWYsX1fp7yzu+R5lvx2bBedbABpXcxIdDFKavohPIRtLx2v\n",
       "lLRoevFZsdenFoiymot5ug2dfHeBTqbv5+wq/oFTyzBj+zaprE55O5X5kdyN7U8vXwGfYdGs39rC\n",
       "WBNb8LnMOhf2OpmBbTjdTnrRptdWSHtSNkVPGhud9e6OB52+VJtP/dQyzNi+TYiF5j5vXHkA23pg\n",
       "PD98srSADTMO4C7DZd7b12xsw+l20kvANXZoiEZnEdGX89J7qVWYsX2bNNZMeTflJ/IYttdNH1VL\n",
       "FwgaOFxeScfsaxa2/XRWnxxJL5HmnOSA0Mkj0Oil91KrMGP7xgG3MXuWh9vPttvLsHloN4zSUvwp\n",
       "pqHwdttNZzepcHqlprBDJUU5TiUR/fyosV0RTq21ZGzfWMOMbjjLq9tPYnvgLSNlu+GwWdrbhhPy\n",
       "CWLbS2f3zOD06nNe2eEeajHB0nvfjozt+4Qbm0x5nkp7Ett2Yyu+tsA1D9voPTFx6mRIgayxk0if\n",
       "EXB6lXrTkrF9n7RGWz3mnSuvwHZDOnGee6D+tQC23Xti426tbxnbt0ljrHB3U5MfyH3Y3vdPHsDB\n",
       "nxw9kbrODrvuEzptc+NT3pX2Z6TIjyDLnky6sS6mhCUwukp+fFmyPNk0B2FY60E2S1kCq6dZeH64\n",
       "WbI8KNUCQ3R8NuqJcjIleO2q8w62LFneIPhZnl4vfJUpy9seth93o58lS8a2JXzqNcr7A9h+2o1+\n",
       "liwZ27aUuidepYyfPWw/7UY/S5aMbRfbtR55H8H20270s2TJ2LaF6M0rdcqWUx/bz7rRz5IlY9uN\n",
       "0ava3TFsP+tGP0uWjO0AtskhbD/qRj9LloxtR5iB7fYQtr9wo++08XkvzJtldZEof68QEsr2kqzI\n",
       "P4Pt6SC2d93oL9Cv+XJHK/3/OWDejCxpRvvbqtCw/V4jHMsW4k8IcSrs38d/qHrh2B4MbLNj2A65\n",
       "0W9IX1VzGtavuOU0jO1BfFJpnzH1EhGv4tIXMpRYthB/Qh85sQPeJ7Mayp/GdqNPf03T/49hO+BG\n",
       "n3N5IoXNd3DdGUexLb8RZT50+hYRe5P4pVuNR4pkC/EndJF1A75PZjXSX8b2/wxsH2y3Nzf6LW8b\n",
       "QvoPaav1yRLd22cNGwqyYLvknNfzvwHEdjuuzvwypt4itfGLsB0EORBibgS2RtSi/fH5E0KcChH3\n",
       "yax+YTNGXLt9FNvKjT5th+UM/vK/1bmu4U2LNXOfnA277fb6N8nbYN4ixbj9IiwJ8FUI2tiNbKkP\n",
       "lpdWkSHEnxDiVIi4j3Ez+F1sq87L0bk07Ua/oGR5J8vJ8JVOYmhNbM+IJtUutpfu+JXbYAbfJzdw\n",
       "KTLlZrV1Y5OghtDYhE5KstN4Dc13RbL1DtX2i7Ad6KsDI8G++5bcNaOCr0D8CfLaXl46LZzVUP0y\n",
       "toczsb2BnMjXt9LAyQ52xQS2aalQG8A27de5ueuki7oUmVJXW/Or2Sap4dEJnZThpqdpvy2SpZf1\n",
       "2y/GkqCudos7n1Bm6kbPVq+Wigwh/gR5bS8vdR+SVfOPYLsOYdsdmOxge3miS+NcTJ/5r6a02u3l\n",
       "Yws0c44TsL64dBtMMcZcikwJ4qFKU7N1bqo0A4Ygequvi2TpFSAQvzBLwna1QJpl78aWs7blA1NT\n",
       "pn6fXGQI8SfIazt56fvArH69T75hewzsS6P1mILtYpJt95zv8vQ2lIr1UdLv18NG0sa1LQFWKuCr\n",
       "Cbexkbiz8MClyJQQtosy0YDeSpiQMrQutWdFqEg9NpcGsyQYVz/Lcqe4av/YN7Ll8z+34kwaRwg8\n",
       "l+bwJ9icDCIvNDN5H5IVIb+MbabPilSB/eSk7YcEbA9LtVjOcRf9OmwrKllzmlqc7o7AtvRX35ay\n",
       "x2g14+rqznBLJwZQ2IrTqIZaeWl3uNji51gNbK8uKlzrl8UBLhYHPAMqM6FXQj+ltjPUNNtW2F0x\n",
       "35bA6xBvQ/zCLAnGVbHiKbgTusL4cW6cqwWdGw3OzDz8SuDwJ9icDHJ1FctM3QdnVRW/jO1Wn/Hs\n",
       "A2c8a3dkkuhTiZZLJ2svDWTk/C1Ys7bJ6tTVneGWus3tkX3Wlc1lIsVUKy/tDeHkbYBOC9stQ62H\n",
       "DRjNhKESunaGhhKWFaDJeJEsvWJpw9vsAbEkLLuTiH8VuHGuektDWgtvzRA5iZ0hkJvOayczMCv6\n",
       "C4usoTOe6hVy3O/K8lRsdyqX+EuDjFyWMMRamHqx1LiqhltrVGH9mLc5PTIqKq7oish+3nZJD+EQ\n",
       "pfI2t5fnYrshgPVGW+kYIEpPVUKvhH5KbWcVMNaywjbZ1+gUyX4dvNh+tzL6LAnL4G4SDcbgT5hY\n",
       "l5ZNZ2RYRm+AbitbNDed105mcFa8+Glsb17SAv7SFlzb0w63YZuVc9fTJLsqOuvqOtxar600sPrH\n",
       "vs3qka1Rg8ScUGtfEkM4TKm6zenleXNpPWS9UfEsA8SE46pfDFicEoIpRcw6U4kZa1sBmfzBitQ4\n",
       "bbTY41+CE5zwdF4be6MxFeNXUBqnJCUzmVX7Ew49Q/7SuO6do5vBe692XoLt8FcU7P7J4VZa54/5\n",
       "apmvc0+prdPHtl1zcKqu2thbz4Aqx9H5PRHDg8ZayiCT0cfkjdCo8XuB0MTrx7P6jePIOLYrPTs+\n",
       "TNhigtiSYs0pPuDDWKGjBYZ2Ox9tp0fW+mpbYLgYVuro9LFt8+TtYXtdHJT6rYTbgBJo0YhKiBtr\n",
       "KANNxh4Ty3v5/zq2N4I/lFeEqp2GT2IbJqvbhlvnqT2ikyL/w6n2VAxF1ODWyBiaZtPhZjTLn8G2\n",
       "QfA3IZuBVa00h2kgtvt9+rosWbJ8J2SGF0vBtkHwV08DNgoTDfu4g+3sBjFLlkvb6DYB24UxyO7h\n",
       "TafbmeyqydjOgkrhhC807bwbn3mgSdgejMlxAm9e2U6/NiRjOwvaZWR2+CYZSFoZ3mX1Zn0Stomx\n",
       "0XRIIPtDsZ15wf5RUXt42Cv9FJE2ugy06rCp1EBUnCQqUFZr65Ow3RsOGWgCATeK7cwL9m+KXEzR\n",
       "4dskxnuSsn3EN1+PRw+OpSlQVqswCdv1RM3/FIexnXnB/k2Re+h0+DZpeXwZAg6IpqOd9jQFymod\n",
       "JmCbWvtVynjvDPh4O/OC/ZPSOeH7DKSxZRgm9NZAVOQQOlGBslqGKdhm1vmQIZ6lF8d25gX7J0fb\n",
       "ox2+sFPexpahxIfEZX3QilQFymoZpmC7t7sI3XQc25kX7J/skpd2uBzdL0mBTU8HI6MkWUPZx5Zh\n",
       "7Anp4V5nICoSq4kKlNUyTMG2A2Y+Ncex/Q/wgtljt2RWG3JmcrAFungak+y1L3MfcPGQUCE90GBk\n",
       "XN82WYPhEJHXhvRuGeg0DyspOPUUiIqTZAXKahkmYLtxOuFDNJVnANtf8IKdIuczy6Bi3RxxUtBV\n",
       "z89LDlaI4cxnuP9x+0ifl0ZIu/Uo2doDpa6fUSOSlmXfp2PcVB+8b8ua7c4ESNvZ+sXoCGC4jvrS\n",
       "bEN3otUyTMA2cWftuu44tmN4wS6R05llorAdRaPjqDe8iRxMDlaN/txnCDWb7m3dYId87RDWy20N\n",
       "IQ4GjUgeBVH/27JpCH16zKyb3fGmtJ2v1Xhu5QDDVdSXZm8KUq2WYQK2x84D+3Ac2yFesCvlfGaZ\n",
       "GGxH0ei46rfV1oPJwToynPsMwZpDw9juVi8ysjYxBwVG5PJTTMnHSS31ofezZT10kdhevxjD2uq5\n",
       "huuoL802dadZPaS2243/AYmdKQ/uOd14wQ6SyyTceQmzTAy26whDPfXbAmEdUdBAcvDdJD+69Ofg\n",
       "+bS2++R09QrQTh8I22bk4hY1HSSWBoefCkOJYQQy3pa2r8jja+fZxbaO+s5sU0Gi1TKMx3bvz0WU\n",
       "kdMTQWxrXrCD5DIJd34uYZaJwLY4HOcbarnZ9tRrB1UYC09kckgwi7BWPpgTOnB0aSOIFdK1Evej\n",
       "mNVTFVS5O7Ei1bpQVL3zNbj8VChK2t2ZBGn7AlkxnncNN6P0claK3VpBstUyjMY2BRppGjmbFsS2\n",
       "4gU7Si6Ds8to1gJD7wXMMlA2DrYF6wxc0A9qmuaqcVl4QEu9UgSpblyLIsuU9hxcC5y1mhUnrObS\n",
       "U5REgTqvYEV+mtXxjI7c/gr8sWlw+alQlPDdii1t7+dnIH3ju4YbUdLsKGt9BclW8zIN2wT6rJO4\n",
       "hjt8Dkzygh0ll8HZZdS8g6n3AmYZKBsH25LVBizoBzVNe4R2WXhAS71SBKluHItiy5T2HFwLmtoO\n",
       "aU/KpuhJY1bVWqa2ItXnotbm1Bz/A9Bg81Ot3ZBOdkNMlOx7CpK2075Um099w3WU/sppuwNmAwoS\n",
       "rZZhNLY7jg73D2Jbf64OkcsE2GW2RZhN7wXMMlA2DrabCi6o1dX1TNNdWpeFR1kKJd9KEeyTOxbt\n",
       "lQnKaf85eBYotkCICFFXVeZ/TYqlFSuQSEAV/D3a+KmwFrCImNX2bMcN38z+0u40q1UYi22khWZR\n",
       "49u489vfk8vssMs4lc1mkTmPWSYC22Lmyiuo87Rs04RfyTVjn4Xn41M0uKXYkkM/jkWxZTJz2k/j\n",
       "ke24pxpAiPjNRlE1TcMpHBkYUBgaHH4qBCUxZ1g821HDDbO/szvRahVGYptiB0N4dRq2vyeXCbHL\n",
       "LE7za+E0X+q1WWROYpbxswGxvdLOeAV1mlLbNJFozdhn4QFcFrul2JJDD821KLJMVk67aXyyHXXF\n",
       "iynKcSpXrdTfs9FNiyCRQE/Ov8nlpzLfz5Z13KlE2/aA4ZvZX9qdZrW2PhLbPVrauj0L23aLID5J\n",
       "1tcsQC4TcjDuNyQsnNV3zDJR7ba7jaOm+09BctUwIDnusniLM5JDZXFURpYpKQ1AtqMuBXh4giiI\n",
       "2hseuYG82kEtCsEqPdvz7Mat1tbHYXvAz7w1Ecfh6nkoR2k0ttPJZYLsMtvkjtQ70GBWXzLLeNmA\n",
       "b8EinsGdFZuRIonI2OatCTlQ1nFmcqgslsrYMn1S0kBkO+rkRvE8N6Y3LiCR66iP2o5avVnvYnsB\n",
       "IamiGl5VQ/afRL30SXhCu62Mi77apjyHaAVpNDbYzu3KbU7TRFHWnJIcKktQJT9e7X6DbOcPiovt\n",
       "aoGhi216xdsZ7/NPXj6ajVPIVHDSU5On3lIefw6Zl+AJIXXdne3V5kRKgcxOkOU3USc2rCL0AO+V\n",
       "8ZWqsmR5Y2+5bTO2s7xbHmcSeDNfQIAVIGM7y9u7mY8zCbyZLyDACvAHsX0Op8CJqrJcKW9gEngz\n",
       "XwDOCvAHsX0Op8CJqrJcKO9gEngzXwDKCvAHsX0Op8CJqrJcKO9gEngzXwDKCvBibAOHekfrA3WI\n",
       "U+BEVVkulJcwCbyZLwBjBXgxtoGjwbb71EO9tBNVZblwtP0SJoE38wVgrABv7pO3JQzIUzgFTlSV\n",
       "5cIuucskcDGRAKbizXwBGCvA27BtOYfDtomfwSlwoqos17eXKryYSABV8Wa+AIwV4N1zaWxkECDT\n",
       "OAXKELafoic4/A20n9Nv8IkAal2vpdcSCeBMAm/mC8BYAV4+T07HbvABucMpUNR8iWylH0Qewvb1\n",
       "9AQgQcZhlpFEPhFPzxv4RPzC+Wodb+MXEwngTAJv5gvAWAHeje1itP1aK0AinAIN6avF1w/r17OF\n",
       "0tNMGNvX0xOABBlHWUZS+URcPa/gE/EK56t1sH0xkQDOJPBmvgCMFeDV4+3a3VEybn+0fgeOK0c/\n",
       "bI7kujMexjas6kwBCTKOsoyk8ol4et7AJ+IXzlNr98kvJhIAmARU5XkjX4Brm8sK8OZ22/d9rQGp\n",
       "OQWMUm4bA1nDhoIs2LY8bO2ogvkvDjOPgAQZh1lGEvlEfD0v4BMBCueptZkEviASOMokIO2/iC8g\n",
       "iS7A4wtwbHNZAV6M7WLEAak4BYxSGh6mWDP3ydkQ125regKQ/+I48whIkHGYZWSfT2SHpeMZPpE9\n",
       "6hBPrbO+k0wkkOiR32cSkMC6hi8gjebA4wtwbHNZAd68L63BAak4BYxSDq2J7fntKO9NO9jW9AQg\n",
       "I8dx5hGIZOQwy0gqn4hvxJN8InjhPLUOk0A6kUCqR36bSUAPsy/iC0iiOXD4AjzbXFaAN7fbIUBu\n",
       "yFSlbEfRIDCBbVrqJewdbJuTIR4jx3HmEYhk5DDLSCqfiG/Ek3wieOF8tQEmgTgigUNMAvP3SXwp\n",
       "ruIL+NI4yDaPFeDPn9/WpWxKq91e2hjZWYpTBVKPfMc8MrTGgUSIZCSdZcRS+YnhEwnTidzLJ6Kt\n",
       "h6lDtsL5agNMAnFEAoeYBOpmrUvX8QV8Zxxom8cK8NexbZRy64qK1dVgmwG12w4jB8w8ghKC2PQZ\n",
       "tb7VZfKAWEZQZg6TXaMOzqWF+UQ8OpHb+USAhg8oHPGXLDAmgUgigWNMApKF4TK+gC+Ng2zzWQH+\n",
       "OraNUhZqgN7ItbNEbLuMHDDzCEoIst05D+DFbBJEMgKyjKDMHOo+rRLCdgSfiEcnciufiGe9rdSI\n",
       "Bhzz7zMJhPFxhkf+y/gCTjAOZwX4JZ9KtFw6e8MJqgCKkGhCkLUNIq3wvQ+RjIAsIzt0JoZKH9sp\n",
       "fCJ6WuZmPhHb+g8SDaLjeSaBN/MFBFgBsr80oD3xKULiCUHEpiwmWkCIZARkGdmhMzFUAtiO5xPZ\n",
       "4u7mE7Gttz/JWzTP3m+Oy1/F9nlOxSNUtdGX2xQN7YFrMLb/Gp/IjtosB5pxxQpwBT1AllvkT/OJ\n",
       "nJkmy1+R/wDdBTzhKKG7+QAAAABJRU5ErkJggg==\n",
       "\" style=\"display:inline;vertical-align:middle;\" /></a></span><br>"
      ],
      "text/plain": [
       "<IPython.core.display.HTML object>"
      ]
     },
     "metadata": {},
     "output_type": "display_data"
    }
   ],
   "source": [
    "from proveit import Function\n",
    "from proveit import P, i\n",
    "induction_inst = \\\n",
    "    fold_forall_natural_pos.instantiate({Function(P, i):tuple_eq_via_elem_eq.instance_expr}) \\\n",
    "        .inner_expr().with_wrapping_at(1).inner_expr().antecedent.with_wrapping_at(1) \\\n",
    "        .inner_expr().antecedent.operands[1].with_wrapping()"
   ]
  },
  {
   "cell_type": "markdown",
   "metadata": {},
   "source": [
    "### First prove the base case of the induction."
   ]
  },
  {
   "cell_type": "code",
   "execution_count": 6,
   "metadata": {},
   "outputs": [
    {
     "data": {
      "text/html": [
       "<strong id=\"induction_base\">induction_base:</strong> <a class=\"ProveItLink\" href=\"../../../__pv_it/_proof_tuple_eq_via_elem_eq/40c367c48fec87eb152445ded5e31adcbe45a0560/expr.ipynb\"><img src=\"data:image/png;base64,iVBORw0KGgoAAAANSUhEUgAAAO0AAAAXBAMAAAAVatXDAAAAMFBMVEX///+IiIgiIiIQEBB2dnbu\n",
       "7u5ERETMzMzc3NwyMjK6urpmZmaYmJiqqqpUVFQAAAB6qHgnAAAAAXRSTlMAQObYZgAAAAlwSFlz\n",
       "AAAOxAAADsQBlSsOGwAAApBJREFUSMe1lj9oU0Ecx3/58/KSl5cawcHFUkJDnSSWYh3jpqjwwCII\n",
       "YutQFwcjLi7aRPeSpSK4xN0hdlCUgK+DLl2eTg6CKTg6tNBiEQLe7+7e3e9dLhYS/cE33Mvnm9/3\n",
       "5e7eJQCTVl4qruYID8FN+Ad1SiqulyM8BKP6ePFt/NhSXUhVKrR5rs8TjHqPF8/Hz70hpWvD6nlB\n",
       "MdNjnP6V8XN7Urq2rZ4BxUyFACAbjZ9bk9KVCSwe74BiJp/NdWGC5W0LkSqEFk92hmLUfKWyMH5u\n",
       "sS4E6xda8q1s3+Ip7ExHGqPeAqyO6to9Mje+e+883JPz6/Ovv1nBOhN7ljecQ41R65BP3KD7TI9t\n",
       "+41ygHQkdC2ETYCbGFmqGZ9A/j2AsxqjckG2k7D9+Hsu5WyHdIQ+AMyCexxX0d01PoD8HcC+xqhS\n",
       "2dhWi0fkLtpyz4Hzm/XCxl7NkjsL3kBjbmlvsZelrYvxPO5NB8lczUyu5tnZA39X5vIXur7oGUDx\n",
       "QGM+uMpOD+e0exgfZNVUN5Gr2Js7rELK2SqVuZwBTLW/in6+OUvo+YU7QGFuecq2VbHr1iDP93Uu\n",
       "9Nv5VZJLmMn1U3EbvnS7onGxbuQi/wl3QWNumWrgEqT68KjKV6NR7IuRzCXM5GzWZ4RunXi40xCN\n",
       "0x3zCUB+OQSNlWW5mfsYAO92DDIR0FzFxDxTzmpOSpxM2PjJ0E6cM7GyZJprr3jvJUgHnyCRq5jc\n",
       "SYTrY5407g3lbptYWbze5yu824PIfV1O5iomZ41wXO6mEP9bcWm/bPtxk1xh04LdIjVKPr/VIaco\n",
       "Z0XIDKFFOb1PWfcXIvCCeJTMjd8ZvmpJxXXSctS0kthi8RNXE/wfmKia/63zH4a6vQQeLcmcAAAA\n",
       "AElFTkSuQmCC\n",
       "\" style=\"display:inline;vertical-align:middle;\" /></a><br>"
      ],
      "text/plain": [
       "<IPython.core.display.HTML object>"
      ]
     },
     "metadata": {},
     "output_type": "display_data"
    }
   ],
   "source": [
    "induction_base = induction_inst.antecedent.operands[0]"
   ]
  },
  {
   "cell_type": "code",
   "execution_count": 7,
   "metadata": {},
   "outputs": [
    {
     "data": {
      "text/html": [
       "<strong id=\"a1\">a1:</strong> <a class=\"ProveItLink\" href=\"../../../__pv_it/_proof_tuple_eq_via_elem_eq/3eb479a88d1b946b5388809929c87dbef86577a70/expr.ipynb\"><img src=\"data:image/png;base64,iVBORw0KGgoAAAANSUhEUgAAABIAAAAMBAMAAACdPPCPAAAAMFBMVEX////MzMwyMjKqqqoiIiJm\n",
       "ZmaYmJju7u5EREQQEBC6urqIiIh2dnZUVFTc3NwAAAAqL9KcAAAAAXRSTlMAQObYZgAAAAlwSFlz\n",
       "AAAOxAAADsQBlSsOGwAAAFhJREFUCNdjYOC7s28DAxisfMDxHcxgn8bA6sDAnsTAwPqBgeUAg/QW\n",
       "BgbOBob6BQwMJgwM9RsY8hkgLAOGS8wPQCyODcyurGAx9tsH324Es6AAC+uN/mkAyqYV9sxhdn8A\n",
       "AAAASUVORK5CYII=\n",
       "\" style=\"display:inline;vertical-align:middle;\" /></a><br>"
      ],
      "text/plain": [
       "<IPython.core.display.HTML object>"
      ]
     },
     "metadata": {},
     "output_type": "display_data"
    },
    {
     "data": {
      "text/html": [
       "<strong id=\"b1\">b1:</strong> <a class=\"ProveItLink\" href=\"../../../__pv_it/_proof_tuple_eq_via_elem_eq/e34709e0b4eff584811d487a3c503cb2524c7d200/expr.ipynb\"><img src=\"data:image/png;base64,iVBORw0KGgoAAAANSUhEUgAAABAAAAARBAMAAAAmgTH3AAAAMFBMVEX///+YmJjMzMzc3NyIiIhU\n",
       "VFR2dna6urqqqqpmZmYyMjIiIiIQEBBERETu7u4AAAD7tRWPAAAAAXRSTlMAQObYZgAAAAlwSFlz\n",
       "AAAOxAAADsQBlSsOGwAAAGFJREFUCNdj4LuzgQECuCZAGfwNUEb9AygjG0ozLHWJANN8vx68NwAx\n",
       "OP4x8DjwSTEwcC5g4E9Q8WZg4E5gqG9g6AYbM/8BmKHAd5ABxGAV4J0AZvCFTWQAMyAAg2G2PgUA\n",
       "4fEXCk1hQw0AAAAASUVORK5CYII=\n",
       "\" style=\"display:inline;vertical-align:middle;\" /></a><br>"
      ],
      "text/plain": [
       "<IPython.core.display.HTML object>"
      ]
     },
     "metadata": {},
     "output_type": "display_data"
    }
   ],
   "source": [
    "a1, b1 = induction_base.instance_params"
   ]
  },
  {
   "cell_type": "code",
   "execution_count": 8,
   "metadata": {},
   "outputs": [
    {
     "data": {
      "text/html": [
       "<span style=\"font-size:20px;\"> <a class=\"ProveItLink\" href=\"../../axioms.ipynb#tuple_eq_def\" style=\"text-decoration: none\">&nbsp;&#x22A2;&nbsp;&nbsp;</a><a class=\"ProveItLink\" href=\"../../../__pv_it/axioms/1eb3a9f2b67de7239ba27a19d778534a9eece6400/expr.ipynb\"><img src=\"data:image/png;base64,iVBORw0KGgoAAAANSUhEUgAAAukAAAAzBAMAAADY0ItYAAAAMFBMVEX///+IiIgiIiIQEBB2dnbu\n",
       "7u5ERETMzMzc3NwyMjK6urpmZmaYmJiqqqpUVFQAAAB6qHgnAAAAAXRSTlMAQObYZgAAAAlwSFlz\n",
       "AAAOxAAADsQBlSsOGwAACldJREFUeNrtXH1sHEcVf767ve/znUvSRqoJJ9Oo0BBkqlIiaOFc8dk2\n",
       "6SYkKZVo7gJKiEIRFyxBq6J6U6j/QXIPoSLUlvaikD8qQD5BRdUSEUdVkCBBuZhUwQjIWQQQqAgX\n",
       "9VQ3qmXmzcx+zMzuObtrTqukI+16Pt6+nf3tzJs3b39nAM+k7dypw9tptdMKsMaWl1t97U+yfkXD\n",
       "vYuBnVxervVCvdnnbr16ZQ/y1AaeyUcJ9cGKWDbIkV4FvcZl1vlK6QCdm40i6r8RiwNtcnrnKug9\n",
       "rFZR3aFStsQOPynRiR7q6c1i+Rw5CpWQK9cXywTiGaX+XMi+PvQRGCZ/hn1e9r7ooR4TR47WIKf7\n",
       "wirNoD/whPIyGmH1LkGGrI0Znz7e7/XIof6yWMzhCD0WVmkRTckpuTY3E9a+dCFP3me+FWAMRAv1\n",
       "W8RiHE+jYZVO4+iKy0MyHlZtghiuDwI7/LysxaihPtAVy3No1kNbgjvoEJOH9txqGK6ngR1+0jNR\n",
       "Qz3WEcvPoyXAxXRq7JBzzb24bgXPQZB/Zujftu8g6IaxYeemTCypydk+NTZBDNdWYIefdEGPGOoT\n",
       "0lM/zQdpdjN81WEhjhjJbu9ZTOU15pBrb+pVA/I4ZXIjNHVM3Y+2c46HF0tqou2fc96BOrrU2XVq\n",
       "XiFVSxFD/a9SeRP2gAypz87AzwA+z22NdhvkyrBj69889TD5BJsQhS7ES1AYddF9A2nRrC0Clnpp\n",
       "xXYYs+7wIjok/PAV8yhHDPWPSuUP46pHenAcHzk1VObexwLEKtBCYD0SlbeclQYUK5BaUHXncMYc\n",
       "vMaUw1IPrbmueocJfvhJ+cVooZ56ywP1W0G7RAYtRz1eg2oTLsHjnlaYyZuPUIHpNmRHVd3xmnOP\n",
       "Tks9tMZr6h2O8MPXru2taKE+sOhuYbTXIL9go04M4xmAk974MPnsestdP66zi53Wd5NpYWed9raH\n",
       "Vtp+uOO4A7t21qddZzM6Oqgn5fG4BytLoC3BYOMPFDgNH78N/ywY1CNU94UowOS3FXXaXqyThUB9\n",
       "SqK7SBbqJkUNr2Ilb63YfrTUpc28R/BrYIev9IVooR6Xe7KVh4v2wGyrRVGvNvA9FDbmaNBUe5P6\n",
       "KMDqrQyTf2yW1QzOJFvcAZV0E5ckUaeo41WsZGqlegSt2P7g/WVWwXpE3c/n/T7mPRx1OjH+5IH6\n",
       "IHUEZvqAelXeXH8NjT3BeveaB+frFPXYBoLD/KemrgOYJGNuBIflRuxny8xgAJvJ72Ht2sVjbsMH\n",
       "dX/89FpmIehVtGRqpQpFrdhOZh5tZneAm4AdvtKZJkP9JSz8wAP1HApljH646/LeJ4Y29kazRE3z\n",
       "K9ZWqZU2oKAaA0tA69Yd7Y+Cm27Lrr9ymVqr94KjOV1mR4DHJKg/ghpqHqincCZM9sPCXJAj3jSy\n",
       "dEpA3TIUk994WIeEqsQSKDRajnYlhmZFrWadV62kdY6YtoQQQfMfRaNTmqCO0cpE28uuY5B0Sz9Q\n",
       "P6O4D/txOeXTLP2Z18nCak2Hjy0vA2xT1z1LQJs37HaXMbWf/fn2s2OOq1bSunuds3ky0Hgsdhjq\n",
       "efK+Mp6r6Wnyt9EP1N+lmLFd+MROwAbEdjUcM+DenlQt5K6Vr3JvLwkvbr9/1Gvch7l5ZOQWT9Tj\n",
       "IyPvrvQD9XsUe5rGJzy0CqrXqVXpUlilAwY7/LpqDY76CwB7wQwXyajn6pDsCynm+NVBvYmVOepT\n",
       "kO5Y4aL0xjvh5Y6NOmma8qP1oZrPIW6a8//A1YH6KEc9qSe4P3vw7wfgLwk9pzt2SXvhTj9aB32a\n",
       "o8fhKkW9UOKLae4F3C+VWgnn3vSsv8U07pO+de3VamGgcQJouIjyDM7/8ZCAeiZPTI929xrT7O84\n",
       "8WlVl105MURj1GMnzCY7Z6fEcMm87ruWqVHXFawJQvZxLJpulUZwXenLu4N1G8N7NYUtxCnfVtSZ\n",
       "l3Y+cf+PnKgn5sgg3G5McAXae1KLqkdrV16jX0+vHLd0jKsduik1al73huU5KpPEYiEFZyK50YSC\n",
       "EpDcaUfefTsMbvyneMdE/Vsk99gsZOlG6zy0rnWinsbY5C9hnEUpINciiP30ejGwQSuBvrQH6Eet\n",
       "X8C9TBxz2bMviXfO1bQ6lSbXLXjvkkwWUhgmkgtN6FwYXbI+0rddN7vIpr7XQu6Tyn8qtkzUB+s0\n",
       "kJb//r59XyGo78gIMcd/AH4FWA+pWUpyaA50YFQTP87QSpY+BL+i8lycfj+AqvS+m/Z1lstzQY5Q\n",
       "WSykMEwklSYUnIDkpB2Zm3ns21Ouu6E23dYr/KdqBRyRXq1bT1XYWM+eFVDHxkV4YCfE8I5VI3lS\n",
       "N1JiMJxWnqOzbwFuJ2e0N1Qcc2mQjEyRWCsqTa5ba8IyIQ8Li4UUhomk0oSCE5CctKPtDTvCs+Qm\n",
       "PK3TGNIpr+iXHS7ai5nfAqyXUYfNqUsnEcYdEDcmfqJDskmyWsU80co/t7CwIV8j5ychgeI8BwdA\n",
       "EM80oUKk6XXf1J1TT5gReBqFkEwkhSYUD6eL6xv+F/s7SmlgLukOxn1S+E80yGeP9XkDJomlSb3X\n",
       "YEF1AfUf/27NDMI43s4eO3s33c6Ot1ObYdzAE6tM1iF1Ozw8hOfvnF6L4jxH9reCePrYCZ1Im8r4\n",
       "zeSZb7KQwjGRFJrQXDhdXF/563ysMhqYmp5itBKF/0TDTcK3JO2T+w7IEQFnkbw3Zs4SesnMYmK5\n",
       "7QXSC9YXS5zlPjEAijhKC87EoDykTRZSOCaSQhMKQUCyaUeFCvvmgH3LzK+XvaL0xeuW2Icwhf9E\n",
       "N4M+vuCl3rEFsmzCPLtcNrPoUvEffqwFOEpzR01xlsss/xcUcSKdFWZfvusysszhEpyJpNCEQhCQ\n",
       "LNoRZIwCNYjYt+oT2qJ0D9Y/5D7l5Yl6q0/Uqbhb1lE54ziLORfxvOhryYuSyUIKx0RSaEIhCEg2\n",
       "7egRAPprF+zbBR0+ILlJtyEPh3KfZP5T+rUAqP8/kxcLKRwTSaEJhSAg2bQj4k0PmT7wiwCvS1fQ\n",
       "/lHuk8x/ihoLCX7eA/XgTKQjLqjH6UP7JyBZtCP0+bebqN8A2SXlCtI/yn2S+U+D5YihPt30tDAh\n",
       "mEgKTSgEAcmiHeEeKdfm/Vtis8FxD9Y/2t2C5OAUo8YujUkOO2chhWMiqTSh4AQkm3YUQwvd4P17\n",
       "A1cR8T2x/iG2Mr5nosaklp0Yk4UUhonkQhMKTEBy0I5oGPVLvH+vwpelW/D+WW6vI70fIoa6/AsZ\n",
       "k4UUiomk0oSCE5Bs2hH1dw7y/u2+S94J8f4hfBKE0fuFDJ999t1NFlIYJpJKEwpOQHKjHd3Yy88H\n",
       "hf+U7EQO9UxFDVwJEaQATCQ11hWcgORGOzrV43lcInfT0fvlY0r6la/JQgrDRHKhCQUmILnRjlyo\n",
       "NtZcrKn8p00QOdTtb6gsmSykMEwkF5pQYAKSG+1I88bPOWB4iuIv2mV+gcVCCs5EcqMJBSUgudOO\n",
       "vPu2DhT+03NwOaif7PN/5fkhXNEpxb4saTu39UT97f/Ks6rpPvu/8vwPdahgSreprzwAAAAASUVO\n",
       "RK5CYII=\n",
       "\" style=\"display:inline;vertical-align:middle;\" /></a></span>"
      ],
      "text/plain": [
       "|- forall_{i in Natural} [forall_{a_{1}, a_{2}, ..., a_{i}, b, c_{1}, c_{2}, ..., c_{i}, d} (((a_{1}, a_{2}, ..., a_{i}, b) = (c_{1}, c_{2}, ..., c_{i}, d)) =  \\\\ (((a_{1}, a_{2}, ..., a_{i}) = (c_{1}, c_{2}, ..., c_{i})) and (b = d)))]"
      ]
     },
     "metadata": {},
     "output_type": "display_data"
    }
   ],
   "source": [
    "tuple_eq_def"
   ]
  },
  {
   "cell_type": "code",
   "execution_count": 9,
   "metadata": {},
   "outputs": [
    {
     "data": {
      "text/html": [
       "<strong id=\"tuple_eq_base\">tuple_eq_base:</strong> <span style=\"font-size:20px;\"> <a class=\"ProveItLink\" href=\"../../../__pv_it/_proof_tuple_eq_via_elem_eq/82f5bfe4c55de09f4fa761e91962d0e2c2364cb50/proof.ipynb\" style=\"text-decoration: none\">&nbsp;&#x22A2;&nbsp;&nbsp;</a><a class=\"ProveItLink\" href=\"../../../__pv_it/_proof_tuple_eq_via_elem_eq/9d07f73224fc7573e07900ce136bf2aef760e16f0/expr.ipynb\"><img src=\"data:image/png;base64,iVBORw0KGgoAAAANSUhEUgAAAgkAAAAyBAMAAAAkblWMAAAAMFBMVEX///8AAAAAAAAAAAAAAAAA\n",
       "AAAAAAAAAAAAAAAAAAAAAAAAAAAAAAAAAAAAAAAAAAAv3aB7AAAAD3RSTlMAq1RmmUTNIjK7EInv\n",
       "3XZ/CtNrAAAACXBIWXMAAA7EAAAOxAGVKw4bAAAH10lEQVRo3tVbf2hVVRz/7v267929H1IUkWEP\n",
       "BIPW5qhhJLG9WEZh4iOjP0LcM4tgRF2hf4SczxIrmG4gYUTZjUDSadsUMhJ1arFMqqcphTF4OsEf\n",
       "qzkmaixyne859973zrn3PFzverYOnPvO+b6z7z33c7/f7/n+eANQ22J5mFFthzkdd72Tnxqka37w\n",
       "NTxoWulDeo/omWkAoaaPmybT5HLOD8YrPGgW43CRde9WPw0oLOCndaQH+qrkqX9cIHg2uuiM8cZv\n",
       "YZh8DMv+unaWchC0QX7/OXLZXjXXSIZc2l1ki/E4RIjuR6T6/4tyFBK8YIbwBbZWzTWFetXkIjPG\n",
       "4QkIEpSwe7eHlNvHx/lpHC8DVXNtw+eIux6GMa4l6vIDsC6XJKXtOD+dh9qbq5rrAfowomGwGOND\n",
       "rgLWPVv4hmIQkhP8fDFqBdqw1Qc7yq3H7AvFyoz49StH7/CwchbjLqIu/cC6d1up2iwIO11lvcPw\n",
       "IHxaJtDLjdhERT78ev262WtAkL76JUPYTgDPeIF9OpV9XWrzFRuGLsFxPInIkHe1qxGWAHxu6YZ+\n",
       "FEIF6Om/V8qHrd8/Yon+BMSLEBDti8X4KTSAVvduvUW1KNwnzL9Dq5YFWArwO0RHC5Yoj0GiDzL4\n",
       "oJJG1weL4W62PgepPoiOCYscxgR9q0uc+oJaFA5LUDgG+jXyTq3dxLuhNwvXYJ005KDr43lgdo1A\n",
       "1paG8IAHCowxLLe6dwuqNY/Rq+CpEfpNCI6VUCAS2gKwUI4CW7/OhCO2u7DUtP66TPFLjKmXXC+1\n",
       "C/pVtUeECPo2lMci6ONQk3uAPoeOKKTh7oBBD0C33cIFbH2XSdw+nKbyxJJAsFsUdIcxPAas36KI\n",
       "3uaoWhTafsuP3wb1mQxFoTeH2w+cCtFoT79OjwBgdGfA1hMUfqLTmsZYxjoYxQCBMaYn8mL5vj4B\n",
       "oIfXXCUoxMXXtQnVhDz7ZyPvzslTFBIk0NXnfL36IsAaIghDKAynULwz9gAjYbqeaMQ4Wz8bfeVE\n",
       "VtQ/hzGcBtYl7RDAIvx8VQkKvaKvmkDN/81x9lCzH3Rcp4xmQMCtEs4CZh2d6VrXSoexVmBd1lqy\n",
       "sB6XdatxF8SDmYY4TRwKjlyveW+DCbVuJs6CZDE8q2zqDsqayoO2UGPFfWHIWZtWgsJ81222orWw\n",
       "0kTaV38Te+YA9fPkJMCXbutYQnL/ebM09XiRNmNYY/UKMhokIEXUWMcW19G3A5+rfP9J/nu3V5eU\n",
       "TGPulJvDeKvVpZE5kakfh4aOq0HhimunGj5mhx+8L3jQLMZJg3U5CgSupwE+UoPCIeX5jFs8u8hx\n",
       "uxq0KaXeNk7VlB6yFWHpDEUhQcxyzKzNTuVvaqaaLV1nD+6HGYoC8eYCxakZx3h+ije59H9AAXLN\n",
       "5NLTvM82rXtHPOxtidg1SgP/g82OqzrsNuUlWk/z6yDXCJnRkhozo9KXVWgE7GknT/lr1A51dhtd\n",
       "7tuUEf80z1OHtdP+7nR0wLXeoRHGfzkGwsU3KXFUklIHZgV4V2CqtY7wFjGOoQzZtkbPiiehE8IN\n",
       "i/iFSNTO0eNoC01ePQNfUE+f/Gm3nn/uPG9akNbRgA9NGDvpjysuXaqTBLt1rNTiCs1fy2D1Jdno\n",
       "Mwp4OtTkMSWRnAVvn2Gpj7MQh14xH3KWeJnUgHwPT7AESbTetLMZA/qYK8PRDjk6SnZLvSad5dga\n",
       "HD1Kl+ieCfJUmlZf2v1FIWXfqteILTQBUdBvwJadGnTy20XiLpbzH6PJDdSfBEUhRV65ISgFoekD\n",
       "tARAGF+2zcF88SyynHsHhd25Ej3lpRRtJo0OmnyO8uxTL250LUMU9D4YjF5bCPABDnucCxLXkhiQ\n",
       "DM8Eu8n1FRLpIAo9EMmSkCaWLVtMafsKJKjrQcbv2Ch0iZIcBx6F4btK9DYv5+IAq77E/XU8nCgv\n",
       "3NqwFwgK0SPw/MMjjRDK47DTiA7ihRGJLOBwwyh+9eYjlykKnWmttdlEB7QzzRYPMtrOAcARYyxI\n",
       "nt3mCSgU3i/RD3jt92WWYI/4axiEKI9oRICNvkk6Q7BHEYy6AmUEqhGUQ61ZtEa00VEO7QLHP5ET\n",
       "br+YRyHQFzEcOi218EHH7IvjLIXkc52Zj282H0/Di+yBJ/8Ba4iNjbRzj9pDeo3+sYcIERXONyYL\n",
       "1ogKFh11zDXKaNTrFE/UVTwKESOQsems1AIheoIM0admxZpgjnUfm9uba/QauoglQvAWR3QmVpxO\n",
       "8iisp9LI6KzUwlnoo1h5oNWXwICvKBxT6qlGx0E8fzkU7gEYtems1MIdKLRYQ6svrgpMVU27qdZh\n",
       "P1wRBfQSdtt0VmrhDhRarKHVl7CvsqC4KgPPVtQI9JlCaYvOSi3ldoEVa2h2MuBrTa1GcYWuTXCb\n",
       "tnEoJFA6cxadlVo434YVa7D6EvQ1W5wqKg5hBYehn0OBBqkfWnRWailvVrEGqy+hPj931aI4+SMe\n",
       "EpvYxzL2QQP2zRadlVq4M4IVa7D6ksj6uasTqvMZQpo3IUnYJCokctaCVwWmiqb8Fz2i8Ml+eCb/\n",
       "QRqrvrT6uaeY8h88RgSFllUJ5NUDrL74W0prM1WjEOV/9UmrMl5th/zNGZ4VmCraSfWJzkvCm5Uc\n",
       "Upr08LoA3hWY/9ym4RfAU0/j3/b2wnTc9KUZBkK0fTruOtP+S2Q7tY3/Au/ZPu3S7SJ8AAAAAElF\n",
       "TkSuQmCC\n",
       "\" style=\"display:inline;vertical-align:middle;\" /></a></span><br>"
      ],
      "text/plain": [
       "<IPython.core.display.HTML object>"
      ]
     },
     "metadata": {},
     "output_type": "display_data"
    }
   ],
   "source": [
    "tuple_eq_base = tuple_eq_def.instantiate({i:zero})"
   ]
  },
  {
   "cell_type": "code",
   "execution_count": 10,
   "metadata": {},
   "outputs": [
    {
     "data": {
      "text/html": [
       "<strong id=\"tuple_eq_base_inst\">tuple_eq_base_inst:</strong> <span style=\"font-size:20px;\"> <a class=\"ProveItLink\" href=\"../../../__pv_it/_proof_tuple_eq_via_elem_eq/74bdb620e9ce5b120c2f2f006dace41137d80a7b0/proof.ipynb\" style=\"text-decoration: none\">&nbsp;&#x22A2;&nbsp;&nbsp;</a><a class=\"ProveItLink\" href=\"../../../__pv_it/_proof_tuple_eq_via_elem_eq/3cbf39f1b5ff5699fed5cfc600a47c54b6a633210/expr.ipynb\"><img src=\"data:image/png;base64,iVBORw0KGgoAAAANSUhEUgAAAIUAAAAuBAMAAAD0L8ciAAAAMFBMVEX////MzMxUVFRERES6uroi\n",
       "IiIQEBCYmJhmZmYyMjLu7u52dnaqqqqIiIjc3NwAAACW8nlqAAAAAXRSTlMAQObYZgAAAAlwSFlz\n",
       "AAAOxAAADsQBlSsOGwAAAzBJREFUSMftVs9rE0EUfm1+dLNdk6L0WFtBEK2FehEvjT3lJo2iILaH\n",
       "ghVBUAJe9CDmUor00OCl0ouhpYqnxICgh0IuEUpBV0F60Jal4kkKEbyYRnHevNndmdlp4x/ggy/Z\n",
       "vO/bb2bfzswLAHhAEJEGQ3gKHZEcqhP8iLtRC4lHOiLZEAhiM+qxAfbZvERrErtECCNV1i2QTxUl\n",
       "WpNYBUIYPUXdA/lMXaI1SVJAilu6B/ITZZlWJesCUizqHsi/UmhVMi+QHt72q13TPZB/vHVaomuR\n",
       "QRE5L9YSqfu8Bld4DAmN/atc8UJalUyxHwz2TbDyYHPurT4PxjstSLohrUpmCFYTElUY+ISpQd0D\n",
       "+RJkqiE9aPJIjkJlHKCBqZzBgw0wUQ/pnD5PRMWFhyA8Gno9pvjyWCiHtCoZYz8YKnU46XjE3dXn\n",
       "wfhMH6tYSKsS8aZirnPVEqJ53YPx3YVYUaJVST/BHnm580GILuseyA/PgUSrkkQfgQJF6bzuEfA+\n",
       "rUnULdQAfQcqu7Bh3KQAWQGM70/XAL5Gz4+sRuuSFQH9Bl1jGjM4IF1CcO55UQ+JR9ok+R/m/qPW\n",
       "8d/u9LT+o8SXzh4XBFj/kbd5EE5131tXbvjvuUCg/uQEC6BXTOvFAeM/8S+WCLT0Q49V0fPmDvBo\n",
       "+xf3CNSfQo/N4/Q9vb9FvBU0rzLHuuaRP0KJ0v4evcHOTxU45lUPp5rib8vCku6s7Zo8UiMfRdF6\n",
       "hzgWVY+U5xT9EeJ34HzQZWf5u7uEl5Ul+484WEocU6rHYYBr/OhiIz0rwCzA88hTvS/DbUo70xwz\n",
       "qscxgC1eLdZsFgAmoWsrcjQ+AtijdFeTQ/XA1bLqe1wH+yejIh6TEG9TOj7NoT4LrjCrTs9i/4ae\n",
       "ZuAh1aMNVovS+MEwpngkcLPhk8ZcsNvQXXpnmMcPrBRP94xy1BSPB/hxRry1MWgUiwaPE3BOTA9X\n",
       "AEM/LT1x2J/CjwGsFpMsfz460mfwWH5dEB6JcY6wP6lxMdjAeSPP098I0X+B4Xbq6DEnkDV7xMTx\n",
       "ln6z55pOOUynWUkRan+S/teOdj7HcBw+Vto1C3Y7e2wT/gIEtfmR1K8MMwAAAABJRU5ErkJggg==\n",
       "\" style=\"display:inline;vertical-align:middle;\" /></a></span><br>"
      ],
      "text/plain": [
       "<IPython.core.display.HTML object>"
      ]
     },
     "metadata": {},
     "output_type": "display_data"
    }
   ],
   "source": [
    "tuple_eq_base_inst = tuple_eq_base.instantiate({b:a1, d:b1})"
   ]
  },
  {
   "cell_type": "code",
   "execution_count": 11,
   "metadata": {},
   "outputs": [
    {
     "data": {
      "text/html": [
       "<span style=\"font-size:20px;\"><a class=\"ProveItLink\" href=\"../../../__pv_it/_proof_tuple_eq_via_elem_eq/df24e90e63d7fd5666b8a0a32f6fb2dcb0bab8f10/expr.ipynb\"><img src=\"data:image/png;base64,iVBORw0KGgoAAAANSUhEUgAAAEAAAAARBAMAAACflbe/AAAAMFBMVEX////MzMwyMjKqqqoiIiJm\n",
       "ZmaYmJju7u5EREQQEBC6urqIiIh2dnZUVFTc3NwAAAAqL9KcAAAAAXRSTlMAQObYZgAAAAlwSFlz\n",
       "AAAOxAAADsQBlSsOGwAAALhJREFUKM9jYMAB2DsdGPADpgACCvgNCChYX0BAwREYg+/Ovg3YFOju\n",
       "vgxhrHzA8R0myOoCBhdAvvhUUP8A7J1pDKwODOxJ6AYwf2fg3AASZv3AwHKAQXoLugJWBQb+AyBh\n",
       "zgaG+gUMDCboCoC61huAhOs3MOQzwBQguQEYDPEFYAUGDJeYH2CawC8AdB1ImGMDsysrFit4EzgC\n",
       "wMLstw++3YhFAfudMAZkYRPswUm8gjf6p7HJA4UBIEcvM9JuwqkAAAAASUVORK5CYII=\n",
       "\" style=\"display:inline;vertical-align:middle;\" /></a> <a class=\"ProveItLink\" href=\"../../../__pv_it/_proof_tuple_eq_via_elem_eq/91934729161dc89875fa9ec6c08c0844700bb9e40/proof.ipynb\" style=\"text-decoration: none\">&nbsp;&#x22A2;&nbsp;&nbsp;</a><a class=\"ProveItLink\" href=\"../../../__pv_it/_proof_tuple_eq_via_elem_eq/3d8d637bd535262c67b842102726d2926dac84e10/expr.ipynb\"><img src=\"data:image/png;base64,iVBORw0KGgoAAAANSUhEUgAAAHYAAAAVBAMAAABh6QfWAAAAMFBMVEX///8QEBDc3NxERETMzMwy\n",
       "MjLu7u52dnaYmJi6urqIiIiqqqpUVFQiIiJmZmYAAAC5QS+dAAAAAXRSTlMAQObYZgAAAAlwSFlz\n",
       "AAAOxAAADsQBlSsOGwAAAYZJREFUOMtjYMAKFBgIASZcElwbCOrlXMDA8PYuCNxBldiOUwub4QUo\n",
       "awWY3AWXqYYqCMBtH+sDGCMBRS/bVQjN14BbLz/MOxwPUPRy9UwA04x4/Dk/AcYSQ9HLy2IAprfi\n",
       "0VsLZ0Wg6N3OEASmn4Pi4PiiBdj0xqw6DWXVoOgNYtgHN3GiAvM3mDgfOC7uHgAFydeEfGjktyLr\n",
       "ZTnAwAv2zW2gGgkGvgsMbK3o1nJ/Y2BcABHeiKyXx4GBC+xOSaBVHxh4Cxi81qLr5Qtg4C+ACPsj\n",
       "600FWncBqpfRgCEfGOh70fUCDZy/ASI8EVkvKGW8hro5fwFDPwNML5J/gdH7PgEivBdZL8hOVRDD\n",
       "Cqh3A8NRbgVMe/kdgCEBEW5G0ssB8iuzAyT0mRdw3+PD4maeBuYHUGFQTDLMgAqDwpgFZIAv0OOn\n",
       "SnSWYNHLdvwFzLk3saYdXgcYay/2xAUSZrqAVYrjARF6cWUYIyitHl+FTRosrIwjwSczEAZGuAqj\n",
       "BQS1cikwAADCRGwOzBGAtwAAAABJRU5ErkJggg==\n",
       "\" style=\"display:inline;vertical-align:middle;\" /></a></span>"
      ],
      "text/plain": [
       "{a_{1} = b_{1}} |- TRUE and (a_{1} = b_{1})"
      ]
     },
     "metadata": {},
     "output_type": "display_data"
    }
   ],
   "source": [
    "tuple_eq_base_inst.rhs.prove(assumptions=induction_base.conditions)"
   ]
  },
  {
   "cell_type": "code",
   "execution_count": 12,
   "metadata": {},
   "outputs": [
    {
     "data": {
      "text/html": [
       "<span style=\"font-size:20px;\"><a class=\"ProveItLink\" href=\"../../../__pv_it/_proof_tuple_eq_via_elem_eq/df24e90e63d7fd5666b8a0a32f6fb2dcb0bab8f10/expr.ipynb\"><img src=\"data:image/png;base64,iVBORw0KGgoAAAANSUhEUgAAAEAAAAARBAMAAACflbe/AAAAMFBMVEX////MzMwyMjKqqqoiIiJm\n",
       "ZmaYmJju7u5EREQQEBC6urqIiIh2dnZUVFTc3NwAAAAqL9KcAAAAAXRSTlMAQObYZgAAAAlwSFlz\n",
       "AAAOxAAADsQBlSsOGwAAALhJREFUKM9jYMAB2DsdGPADpgACCvgNCChYX0BAwREYg+/Ovg3YFOju\n",
       "vgxhrHzA8R0myOoCBhdAvvhUUP8A7J1pDKwODOxJ6AYwf2fg3AASZv3AwHKAQXoLugJWBQb+AyBh\n",
       "zgaG+gUMDCboCoC61huAhOs3MOQzwBQguQEYDPEFYAUGDJeYH2CawC8AdB1ImGMDsysrFit4EzgC\n",
       "wMLstw++3YhFAfudMAZkYRPswUm8gjf6p7HJA4UBIEcvM9JuwqkAAAAASUVORK5CYII=\n",
       "\" style=\"display:inline;vertical-align:middle;\" /></a> <a class=\"ProveItLink\" href=\"../../../__pv_it/_proof_tuple_eq_via_elem_eq/d4d8fd958c5f071d813c64233a2d9a2dbd5360800/proof.ipynb\" style=\"text-decoration: none\">&nbsp;&#x22A2;&nbsp;&nbsp;</a><a class=\"ProveItLink\" href=\"../../../__pv_it/_proof_tuple_eq_via_elem_eq/6fd2c9d06841421067c81badae63a3d7294181af0/expr.ipynb\"><img src=\"data:image/png;base64,iVBORw0KGgoAAAANSUhEUgAAAF8AAAAVBAMAAADSoS/MAAAAMFBMVEX////MzMxUVFRERES6uroi\n",
       "IiIQEBCYmJhmZmYyMjLu7u52dnaqqqqIiIjc3NwAAACW8nlqAAAAAXRSTlMAQObYZgAAAAlwSFlz\n",
       "AAAOxAAADsQBlSsOGwAAAW1JREFUOMttk79Lw0AUx7+1aVPTH3RxFTenQkeXav8BQQWnOhTUUenY\n",
       "MUsp4mA3pVNpQXGyOOlQ6OIgggZXf1AEx0IFpzaK75rmvHvJg+SF97lP7t0lB2CA/1Cf/cgwnO4r\n",
       "cD1EeGX4QYXpSmB8qovOvoKthoabAeGSrjMFJ/R3VgNCnS5XwXEdx1tcKAPGWMH3Op7ni0hRy8kN\n",
       "BR+L/NEbzirJJSYkujQs99yX+JSScYi1WSvmdA9q2yK2/CmvmtavxDuUziuoARdibKrMZojRu59a\n",
       "OJB4j9IJUELkTXQaGTEhXgSOgInEQtiF9U22qBjlEKEEw5WYWrJ+YI5mwvSmrkG05CIxlrhAgou5\n",
       "xqNXMfNshqgDfIlV+viaUgF3tu1VxC5qIfZ5GSuQeIFS+2Uxl/UqsSITIlRt31QgcSwrv6mofAb+\n",
       "pU2GTVsT6gGhyvGqf7BuJw4y+YAQHTDcCaFqWHmGM45C30OO6FDDf74VYzZxjOdsAAAAAElFTkSu\n",
       "QmCC\n",
       "\" style=\"display:inline;vertical-align:middle;\" /></a></span>"
      ],
      "text/plain": [
       "{a_{1} = b_{1}} |- (a_{1}) = (b_{1})"
      ]
     },
     "metadata": {},
     "output_type": "display_data"
    }
   ],
   "source": [
    "tuple_eq_base_inst.derive_left_via_equality(assumptions=induction_base.conditions)"
   ]
  },
  {
   "cell_type": "code",
   "execution_count": 13,
   "metadata": {},
   "outputs": [
    {
     "data": {
      "text/html": [
       "<span style=\"font-size:20px;\"> <a class=\"ProveItLink\" href=\"../../../__pv_it/_proof_tuple_eq_via_elem_eq/26d4d45780e8a043afb0fb01849c1a30637fcc170/proof.ipynb\" style=\"text-decoration: none\">&nbsp;&#x22A2;&nbsp;&nbsp;</a><a class=\"ProveItLink\" href=\"../../../__pv_it/_proof_tuple_eq_via_elem_eq/40c367c48fec87eb152445ded5e31adcbe45a0560/expr.ipynb\"><img src=\"data:image/png;base64,iVBORw0KGgoAAAANSUhEUgAAAO0AAAAXBAMAAAAVatXDAAAAMFBMVEX///+IiIgiIiIQEBB2dnbu\n",
       "7u5ERETMzMzc3NwyMjK6urpmZmaYmJiqqqpUVFQAAAB6qHgnAAAAAXRSTlMAQObYZgAAAAlwSFlz\n",
       "AAAOxAAADsQBlSsOGwAAApBJREFUSMe1lj9oU0Ecx3/58/KSl5cawcHFUkJDnSSWYh3jpqjwwCII\n",
       "YutQFwcjLi7aRPeSpSK4xN0hdlCUgK+DLl2eTg6CKTg6tNBiEQLe7+7e3e9dLhYS/cE33Mvnm9/3\n",
       "5e7eJQCTVl4qruYID8FN+Ad1SiqulyM8BKP6ePFt/NhSXUhVKrR5rs8TjHqPF8/Hz70hpWvD6nlB\n",
       "MdNjnP6V8XN7Urq2rZ4BxUyFACAbjZ9bk9KVCSwe74BiJp/NdWGC5W0LkSqEFk92hmLUfKWyMH5u\n",
       "sS4E6xda8q1s3+Ip7ExHGqPeAqyO6to9Mje+e+883JPz6/Ovv1nBOhN7ljecQ41R65BP3KD7TI9t\n",
       "+41ygHQkdC2ETYCbGFmqGZ9A/j2AsxqjckG2k7D9+Hsu5WyHdIQ+AMyCexxX0d01PoD8HcC+xqhS\n",
       "2dhWi0fkLtpyz4Hzm/XCxl7NkjsL3kBjbmlvsZelrYvxPO5NB8lczUyu5tnZA39X5vIXur7oGUDx\n",
       "QGM+uMpOD+e0exgfZNVUN5Gr2Js7rELK2SqVuZwBTLW/in6+OUvo+YU7QGFuecq2VbHr1iDP93Uu\n",
       "9Nv5VZJLmMn1U3EbvnS7onGxbuQi/wl3QWNumWrgEqT68KjKV6NR7IuRzCXM5GzWZ4RunXi40xCN\n",
       "0x3zCUB+OQSNlWW5mfsYAO92DDIR0FzFxDxTzmpOSpxM2PjJ0E6cM7GyZJprr3jvJUgHnyCRq5jc\n",
       "SYTrY5407g3lbptYWbze5yu824PIfV1O5iomZ41wXO6mEP9bcWm/bPtxk1xh04LdIjVKPr/VIaco\n",
       "Z0XIDKFFOb1PWfcXIvCCeJTMjd8ZvmpJxXXSctS0kthi8RNXE/wfmKia/63zH4a6vQQeLcmcAAAA\n",
       "AElFTkSuQmCC\n",
       "\" style=\"display:inline;vertical-align:middle;\" /></a></span>"
      ],
      "text/plain": [
       "|- forall_{a_{1}, b_{1} | a_{1} = b_{1}} ((a_{1}) = (b_{1}))"
      ]
     },
     "metadata": {},
     "output_type": "display_data"
    }
   ],
   "source": [
    "induction_base.prove()"
   ]
  },
  {
   "cell_type": "markdown",
   "metadata": {},
   "source": [
    "### Now prove the induction step assuming the induction hypothesis"
   ]
  },
  {
   "cell_type": "code",
   "execution_count": 14,
   "metadata": {},
   "outputs": [
    {
     "data": {
      "text/html": [
       "<strong id=\"induction_step\">induction_step:</strong> <a class=\"ProveItLink\" href=\"../../../__pv_it/_proof_tuple_eq_via_elem_eq/06f83c4f9c2f90780c4496a6c84badbdabb31bd10/expr.ipynb\"><img src=\"data:image/png;base64,iVBORw0KGgoAAAANSUhEUgAAA2gAAAAxBAMAAABdUZesAAAAMFBMVEX///+IiIgiIiIQEBB2dnbu\n",
       "7u5ERETMzMzc3NwyMjK6urpmZmaYmJiqqqpUVFQAAAB6qHgnAAAAAXRSTlMAQObYZgAAAAlwSFlz\n",
       "AAAOxAAADsQBlSsOGwAADKlJREFUeNrtXH2IVNcVP/O183bezDqbmtTWRJZth5aKsA1pV4Laaeli\n",
       "W6O8tFshENwpxVUS/xi1bChJ6lRbqRR0WjAICWSsugQayzaYaN1NGCFaXC0drSG1BjtbDKWllG2J\n",
       "JA3I9p77fd+7b9bRnbT7cZg7e+8555733j33nvvxfrNQB0LvwALNJjqNX4cW2mFW0Q9IcgoL7TCr\n",
       "qN0DiNcW2mFWUbpKHLfQDLOMHuzufmihFWYZnQTYvNAKs4z2g1O3CuL8rzu3nvePAJlSE/oRlW2i\n",
       "XpZ+WkZtXrxicnafqKTXKGe14VcfSSNzYg4nDzveVA312OPwfbnOTj4X1NR4bms7eyarr0OSywYr\n",
       "mXofvOpz2mGARH0uOG1T0w9yVGRIvY68ZN+wqCpeKo+f1lH5jFYYLRI3nnEh73MacWy8OEcOE9xK\n",
       "05siNnoqEFNt0GtR1XgH6adltJ4YT49tXxY5V4RIFcfesy9l8/HRV0ZPK6elnxscnBNTWhdAlAya\n",
       "RxaL+UnLKtKZchdL6u3qfFeEpH8t8wLhUeOtp5+W0R4SLR4/Uo3VI3XYSANmse9P/pEGBXhgLvjM\n",
       "KQPsA/hmaZdwipZVpDMzI+4goW1Y7x5vqVif5CKBOV7nXaOfllEHGfI//gQsKrp5eJk5zY0U/E5b\n",
       "C+WmrP6iGMyBncVif6po1bnXJkx9BjShYgeuJBSVIfJgw2QWgJ0Ae+mwwGzq0mmzHpULG2LxQept\n",
       "g/O8Wls1XT6+1Ay0yAOlPNzqHjhB7jJag/OkS9UyxUS+7HfapkxzS9iYJRfCYr3zGbuOaxX2WHcj\n",
       "zwSv1KOv57BDkrByHeBhWAbJy7T1MRuDAbMaMmXQE067jpPWG7xarOjWexKT5i0TnsgP0U9rqRfu\n",
       "gwNJ+B4baXA8q/ZpzGkde72mDO6z5EJYIzz+WnVSVYvQKetCSQVrNARdFz0wBIkPYNu3IYpPRLOO\n",
       "NrBAMNOvXzx9paiFR+KESVjNqsEiiNVKyR6jGvIuvHPh+NrWh0f6cJNkrJ1zyaaNbWUi2qqYOS35\n",
       "JBGckatYLQtW3tXFxUDOIpROc0jdi4stOnUmNIxnfrYWpFA9hN+Epih12UJkZfLDs9j6iTzLwhOY\n",
       "7ZdfyMzcBw9niMlIVi1EcukCdVo/+T5Hmqai1WG8S4VY5QpR7qSfllKqDodg/73gbCGFHYeM1mBO\n",
       "g60Ab5Jo47AzL8z6Q/qbWjCCMafAoz/J+eeMMeNlEHVapgrpfIxONPHRUbJwFQYKTCguuI4IK251\n",
       "L7u6MbaECUZS0RyH5DHaSvDL3y2uYusnV7OsW8TszlJyJX5x5pZE2a1Rdd4QJXiaOAKdtrOW/HWW\n",
       "HgGS3EpekfLaio/B6+w6Wz+q1VX/4KB/F9Mmc4dIcHk2J7P+kI48ER3gYKrAoz/J+ecMwhLBRzgt\n",
       "XYP20pCYaDQDZSY0LtjuDbOCsTjiJjTLVFHcUllslcWuF1s/w7J9EZkFmevK5KNpYCtqvmEW1YBu\n",
       "A+Jeluco1dhwvAJdVUgU8PO/I+W0XIQs+9FpHs1iSE8AlMDBL8bj0cGDckeFPh7N4ZyhaxKWCD7C\n",
       "acksUe+sYR020oQB8vQoFBekA6gd/k4LROgxmw7TQhPcslQUAYu1oUvGzSkW8D9GNlLHmG+n/i2y\n",
       "SMf4AUik0rFEaCOdktVStGu9ONXFc9SnHjtx+SRMlPAybun/wmlXLo1Rpzk9LEtC+h5wumA3+eI8\n",
       "Fh1I4fADtE/yHJkzdE1k8eAjFyJ1yKxfWuXTPB6cMQPJPKlJhOKCrH06a7SQzBNju5nhPdKEskwV\n",
       "ecBK8vHVhyNEPpK2kqnamOywUmyzZb00NMrRY8omTzhnepFiFnMgQ8JJPabUQIsONRlIWI7MGX5N\n",
       "Hnyk08ZVzJJECi69xri8oKKTdBlf02LaOPgs67cktgcJGilunxJa/vbrec1dpNWUk10RQ3ra1z15\n",
       "dKhKB1TFnOHTFMFHOi1SsjrtbdqFmZDOIarbZ1FY1To609Is67f0Nsxf2v6Q7NsY0hsRjf5qzmjU\n",
       "K+UfVYcXdKFxQSx4dkuNrjJH6C/dJVigWUOR7hUATZ4pzj0q8dSKBUAo727u8+KC0yI1lmbolMJy\n",
       "QjtDr0cO88Sd1sHPE+YlXeFphuj+AIfsGTc+qDPMUpBC5Piuk77vZE6jr3Lb5+fMliizNFPUHljw\n",
       "PEbS8wbn+WlshMgP8sSclsSTxr3zc6C5VZZmitKBV6NjJN0yOLemsREiv8ATn9PQf+vnp9NiYH3j\n",
       "d+f0BT+jh8x0N4157+Y082KIPOaxxJ02j9cjV3maMXrBP6WRho0bG9p44+1tqLy9yhL3Vqy7+1P5\n",
       "+em0Ezw5N5boCz9f0bKOD1PY4I+/pGHbJ5Zp61OzZHFOiDxeZ4k7zS2y15/zkF7g6UipTY9KvmKQ\n",
       "QhXOU091U6rz8TFwMPGB0jBLQQqTIwAlreKiU4f9H21bsek6FGfNO3GYPBJYVje59FUGVrCUWAWu\n",
       "FpV8RcuiM1ThD75ylIyaP3vwecUxS0EKk2d6WBKT2Wb4xp02v8JCT4OUNqhAv8fD1PmRfEAuYNn+\n",
       "JVrD1yAKy+3vNIAQHprcSYjmIXFexDRa7N/wbuiikyr4HElr7/IvH8h+6jcA78HjYtWApcRX/xka\n",
       "2qi2SbRucpIl4bRLd7EOuWHJQUOecJoFn83V2UvioFzAso/6mqve6AY7LNP1UZ/TYgUYqMD2e0RL\n",
       "0+IIvBK66KQKZidgtY9YnPZpSN1KdoqRiSW3wUhGudY90F20bqqHJeG09vSd/8aj15KDhjzhNAs+\n",
       "u1fbSFrksaJ1C9sY6B0rNtgD8/A4kIXfk9xlMa3Q4odwIAwKz/XN57ksv7Q5DcPjLXBvQqZLbsPc\n",
       "m4sqzvvh2zRXmy7pO2haF78wCafFr3oGFrr/zNeCxqxMDQs9HVI68JDRgFGpvp7LfaBtAcv2/eA4\n",
       "Gnp3eiVjJSYMfIelgRr8jUyM2OJ4A6x4Fp0WvP2EVLjw2876/VtMp53zabeR4fA+fKvKGh6tYSnt\n",
       "Eaclgvcq5RynrzstXWBJOM1ZAzoWOvHZZHD9YmXqWOjpkNIBp+3TjL6G2MKqVL/G5eKeOPRQwLIz\n",
       "ptF99rvzVTIm9RFthb4Bmzaz3KXNnvgPyCJ8hRUHyqAy9IsqJMZXwRoGa1VOO2FZqP8DnmQNT43Q\n",
       "Eu7GpFnzIigXOH3dabh5wCR31X8FHSvtjiSDCDnKlLeCnqZoOsRCq1wjpLSqwx9ymBt1NuvqtDTM\n",
       "5T7Q9jY4T0spc20xHHp3vJKU4PSGjygN7GApMbF2/8dZs3d7spjMsWIUXbwceCaa4wrOo2UyLE6Y\n",
       "TvucP9aQ9t60rsobHq3REuzwqCFqVtkWcoHT150WrbBkHIUorHSsQpwcAD1XNAgrdkOGpkMstMo1\n",
       "QkqrOvwhr3OjgqkZG+JyH2i7F96gpaTptOuhd8cr6QsG+ojSQLTIEiNs9owKiOjeTDA+viWXOFnS\n",
       "U1bgiP4iGdG0thNYX4ifE7B5SVijfeqtYAQQco7Tf23wuyQAsbq7edKdpmGlB0ptZz0/6JkyBYiQ\n",
       "rslpsyAWWuUaIaVVHe60IW4UmSw8SmPXmFyCtnmkm4TVFMLtC49D9rtTlSQWko4UTzOAB7zqkPcy\n",
       "KDg8adgRp6QVjeHK+1ik4EwW9ZEWPHy+oDtNWvsp/EQzZMQI3tMoTl8faWM8GSNNYKX7IVba9bLn\n",
       "Bz1TpgARCgdwfHTudpDSAaeR9QO7khwUwhh0YnWB34YnhBxh2ViKZNVVmKL17mQlibIUTpNYb4oD\n",
       "3qo77VE10J562tOKcnKXdQ+QsZYujOhOC74sEQhl2vDCmrPlqVc1Q5KknOP0NachKpsisw2nCaz0\n",
       "zlpq7NIjAdAzZTIQIf/FYU7io3PTI6VVHek08jjsSrJ9hTHSjMnVEr/tyvCFsGwsEYm8ClO03p2q\n",
       "xLCQ60aXjzIIrMR6UwCxABH/6MUv6z9w/9LUlO337uo45VfQXnImPP48tHYQC86Rxs7X39N+PR+b\n",
       "mpoMHuwoucDpM6fRunjL9LaDx/sKq2gDPQsQoerLjC1zDZDSwZEmf5WcM24hxx40I+V9xtNhaSMY\n",
       "iEcJ9LZciZHAQoqRtlHFwCxLd0diioxYztN+eFeWJVZ4CU9BpyFqjSOdbaBnASKkzYJoOsZWuQZI\n",
       "aVlHPSRHXGuwPF5CSPUxITcBeLR0CrSrSEXrlfiRCcdCjnCU3qmWnKW2goL/JMH6Ii1ty6btphrj\n",
       "o9Ohly/wwRxyp3iWWA2XI1TbAL/6FN3pGjddmcUvJtBpP78T3GMc7q5OSR0A2MiDhvJEaIXp7i4f\n",
       "ZmDWUKR71X8BT/9Iy/IvBxcAAAAASUVORK5CYII=\n",
       "\" style=\"display:inline;vertical-align:middle;\" /></a><br>"
      ],
      "text/plain": [
       "<IPython.core.display.HTML object>"
      ]
     },
     "metadata": {},
     "output_type": "display_data"
    }
   ],
   "source": [
    "induction_step = induction_inst.antecedent.operands[1].with_wrapping()"
   ]
  },
  {
   "cell_type": "code",
   "execution_count": 15,
   "metadata": {},
   "outputs": [
    {
     "data": {
      "text/html": [
       "<strong id=\"eq_conds\">eq_conds:</strong> <a class=\"ProveItLink\" href=\"../../../__pv_it/_proof_tuple_eq_via_elem_eq/2fa67578b2af9f310f3c641ab402a90dc9ab796e0/expr.ipynb\"><img src=\"data:image/png;base64,iVBORw0KGgoAAAANSUhEUgAAAWgAAAAVBAMAAACZAGlNAAAAMFBMVEX////MzMxUVFRERES6uroi\n",
       "IiIQEBCYmJhmZmYyMjLu7u52dnaqqqqIiIjc3NwAAACW8nlqAAAAAXRSTlMAQObYZgAAAAlwSFlz\n",
       "AAAOxAAADsQBlSsOGwAAA8NJREFUSMelVk9IVEEY/9b993zuvt0OdrOWLhG2sLJgEVjSwVu4RYJk\n",
       "B8tCEIqN7aCnFkKW8uDSxfBQi0LiQXYTgiIELxtUUC8jpFJZjCCKcoUu6pbNzJs3+/7Mm13pA5fv\n",
       "/Wbm9/3mm28+BwBKUMsUxw++lfZAt2cjq4OLNed5VMPHSm3eM+Lhlf8STcS8dhyW2xPUW66CgYLj\n",
       "/Omr1AkmRVEFDA7hzYbEyFnnZY1p3ckxbFYQ5r7uTIrEzNabUxbeAudAEmQlpFeOv7o8I4hS0Z1h\n",
       "kZZMvaJD/MJFYnyCVd0swUMM6xdU27bu+XIC1v56RXc7sAzBS8GqJ8ybYAUpqKYmVoONguMTMTiF\n",
       "N9sEjOEu0rqm8kbvrR6l3rwOSfgWrS/85BZbdIkeaFPEWYqIwSm82eZJDrtKbnayUg8xHFXeyuVp\n",
       "yx0x5tBzHU6xkxsl089hNz8p/6VlJ7rdVgbzlrjhzTYCF9HoIEgJkEdsB7kNPlWDX+iYF+XyURJG\n",
       "QX5+yBr2bQ6uaXBAULeMwWIzWV54SxekYq6g3ZXBW4CWD7ZdZyFU0OCD7Ip1AowD9IGEN2q2OwA7\n",
       "GuwqO4tmDIZA6M+1muCFr37iBqaLQaJ9McgjpqItJwXoXtTgLmPIAZB/Q6hT2bTM7wNPRYM9/WLR\n",
       "hKFqbpLYBDc8sxj+oWJQeeRVuKUDxqJCfXI8p8FFw+HKf8BfBn9OE22o6QpI2xocSAjLgzJkWpaC\n",
       "qbBZtDX88I3VyHKbWXQROpDoRTgSKNkzHQqjatfgFC4okhQV5Ao0ZN8YOxy1TVyrBPbjCPabZmaY\n",
       "6Ur6IsGIY6ZxePnmIFyGJbPoFG5mbjXQK3HKoyHpTlMYN8Z8ljazDiim0UCzVdVhOA4ajNuavAX0\n",
       "By9kTpXh+0ekizRAvmgcXpnLolyMmUWPQTMijD5ef8cRLbdm9Hnn8blewPcFUU99PhANg3LCOn/q\n",
       "KUo0gb2obqEHb6oXf6V1x8wQhf24WG7H2+PxpF00Cd+guvpRCUvx+ED8GBPjDeuTivwaxLBCCF/h\n",
       "n7M6/g1+8aYT+CtJnb0+zAyX4D1suBwzrV3bcDCmlMPGTCMx1beQQLT2qioY30JK2767vCc6gcmb\n",
       "qMk+amYoo1ynJLHoDZRrfyxtFI3FnKTDPx4u8FYR+As5LtLp3fSflG93l9eMCayQAHP2i2hi8ETg\n",
       "Aax/oqKVZzu8p8RpaCwp0RwVzcRM1/F0IRsLaoFjtadrsuwanBjc9TyfYkYxilpzftD4BKjjpbMm\n",
       "HrYxSPWITlfF/AM9+CTFMQekawAAAABJRU5ErkJggg==\n",
       "\" style=\"display:inline;vertical-align:middle;\" /></a><br>"
      ],
      "text/plain": [
       "<IPython.core.display.HTML object>"
      ]
     },
     "metadata": {},
     "output_type": "display_data"
    }
   ],
   "source": [
    "eq_conds = induction_step.instance_expr.explicit_conditions()[0]"
   ]
  },
  {
   "cell_type": "code",
   "execution_count": 16,
   "metadata": {},
   "outputs": [
    {
     "data": {
      "text/html": [
       "<strong id=\"defaults.assumptions\">defaults.assumptions:</strong> <a class=\"ProveItLink\" href=\"../../../__pv_it/_proof_tuple_eq_via_elem_eq/ef24b3681ac330f8b30d540bb6526d09f01637f10/expr.ipynb\"><img src=\"data:image/png;base64,iVBORw0KGgoAAAANSUhEUgAABMEAAAAZBAMAAADK2CRvAAAAMFBMVEX///9UVFQiIiKIiIjMzMx2\n",
       "dnYQEBDc3NxEREQyMjLu7u5mZmaqqqq6urqYmJgAAAB66f/FAAAAAXRSTlMAQObYZgAAAAlwSFlz\n",
       "AAAOxAAADsQBlSsOGwAACrdJREFUaN7tW2tsXEcVPt5d7+PuwwtWlDaKkLFaUdwi2XGTFCjV0lSh\n",
       "KEh2kpZHiCJTWqVCTdmkAhqQ8IpETXjUbMWPohSFm0aBpD9ityVKgCZdHLmlrVQWRURVeXSlIJTE\n",
       "GCyaNtRKFObMzJ2ZM/fhdTZIyPhI15o5c+Y73505d+bcuWsAmIJZJAsLsiBXIyJycmOz2aXn/1CU\n",
       "5dUihC2pa0lpdn6pOfouzwFuzoK9UxUsHQqxePrf33Xhs+/W/x8iLF4TVytyKkB3e4t4pyyOs0i+\n",
       "d26+T0U3397SeHAyZ7A0Embyg3wRnGlzDSvin9fnYYRNyKulKG34VLlBOHifUXce64qEIO2IZ2JO\n",
       "NNHtDuI7TBSnAMrQFEI4a0OQTMxlC9lQWM/3lzcBDJkRdhz/PDn/Asypiqs12ePT4PbwlKnIzJKR\n",
       "kPY9BDOKn+qWcYnvMHkqnLLFvikJuSskE2eLUjY0UpdWMmXogmO7H9u9WwT7J9XWOs8S0oa4WpNJ\n",
       "n+YEuy6Zio5ZdjrSPkkwo/ipboUx4jtMLoVTttg3JSF3hWScGdZct1f773R/mBcWn0lVoctcwzAq\n",
       "22vzL8KS8moRxbU1bAPIz5iKt9xoCNKOeBoz2VS3r5i+QzOkmXDKlH1zEnZXSGYvwIDVnP+Rp1jc\n",
       "VlpOI6zAnqPMPEzDXpFXa5KxV5kc29jaSY6ybhaIdTaexnylqW57Td9hojllIhbGXNNpQ9hdIZlj\n",
       "AMtYUPX9fP2OxL2Pc/V2FXGLoZKukwiD+7q7H5iHEXZEXqlFK823Masa8EJODNqL9ubLEpBMZ5+x\n",
       "6D/RvzQSkLQjnsY8EkFId1tr+oat6x8JfBQUJx9li30YQgRrQ5DMCoDrmZ90J4xOwUtAE/nFsMbp\n",
       "oRH2C4DvzcMI2yuv0+W0ualZVb9QgwJ/6J/rRvmgt0KM7nEu6mz9PXc06gyKtiNeoWpyNP1luZ/u\n",
       "Iu12zlyd8pvhh2q9MHhpToVq9JJMEGj8Bbqnck7soLsB/hyrwHAv/JOrq0aEFWq/xc1Yn+lvhVTx\n",
       "v5lxy/U5bBbkA/xy2HmBb6GPPFLU5reIy3kYssamZlUDAoIa5OzEJcZWit+58GVtMQPJqFWRtiOe\n",
       "xrwlnJDR7SXT988a8FyQG80pF5FrRSFEsDYEyQyU4AkAd7SOXn+J2gTbCLtvkhEGS9oohbTbXp9j\n",
       "1Hy64i8FtYJeLH2fsRI/NiOwUA9Dsd+apyL5aPMt4spOQ2wQHG8dENUDa5eEPhDcQLOctlN/RpQN\n",
       "6jtwWD622Sp0DEYBYjvB05h+frSbUA+Yvl8EuBGce99nr0LISah9lC32HMGSw9VI1uLZU2SG63Az\n",
       "BjX3yjMsp2KsYbDPoc9MrnfOiX7boL8U1KojzPEvk4vkWwi33heK8gfrPouRfLS5jLBkBdiztmqZ\n",
       "N8S8Ohb+FAsD/Y40FDBHN0L+UqJfjiKLj7dqEYC8neBpTD8/2k2oT5u+HwTnMnsqfesechLq/FB0\n",
       "hHEEuseomwlhzZ9bTYYRZmsY5mLM60UH1V1mhCV6rXWnembO7/AlfymoVUdY1r9M3m+eEB4PRcnQ\n",
       "pzVbj+SjzeUuOSoyhXGpFdXLMFwKubVRL7OQj1+Xle/gPnMJsjOyhR8cvehGAPJ2gpfrMnZJws9I\n",
       "hEQ3rh439jjnbShMQ0c9dcHihZyEOtcVuUsKBGt+RB+feyUVxQP/DPNdkq1eLFTbqt9Gdb8y3cmu\n",
       "W1WE8fCDjTjHB858zlNuWu5PdahyoH+JrxTUqiMsRlzw/eLtPnELG+UzYPn1UKyzOj8Q9ajMd4hr\n",
       "tAbXs9QNBwbdiep5HCR/tusog8m/9hfvwLEq2FlAmmUnFzCXwUnBDh0llkpFAPJ2gscxHfDxo4GJ\n",
       "3YT6LEjyzLdzic3pywVXRJghyEmoNTwVinBiVV/8bIlGmO1esTYiDMkMlOE69hJ8AUM1Pcj3j4ya\n",
       "pZ+IPdZ7YHnp6yxonQ8lvNejp8sD/gijymXux32loFYdYdsNF8d2M2nEe+IiZ3oNX9mr2kUWm0cU\n",
       "ivUzke2Eq2Vrmq8VV7o3d3OWj47zHqgqrBNVHABeUDVu4Ew9DF+CPgj4OoJnAR+A74tJwQ5tjfSY\n",
       "BqSoXjvF45h86Ak/a+PnsOPemQaHQ987YHxszD6SA8mJqxV8wB0qhMOnG8kifv4JiTDK2oiwI+Jd\n",
       "cgXbjbuAzWD+eT5pznVvypT43Yr5NSzWw9FYKGfHEkOQ4qcWv4bVkD9pbVuo1DLCXlofdWXJZzsC\n",
       "53wR9gZxwfWNQpXX3sD0pOLz6yHn6SriAYV5VOZ3isvpvGfrrWJ0ul1VTfSIagyDA7NW/geHgxuk\n",
       "9lfZooCDGbM35QSbi31fbIhJ4R0W4ZcYD1DgjJmArJ3icUw+9JQfXf44LFd/BCR57nv5pzrZfN1p\n",
       "L5icE1dreMKFInzzo2yZ4rEYHGGUtRFhSOZvAUf++c/Lr0aWvKpTQBbQn+kR6WcfJGGUGm4RsaxS\n",
       "qGcT464s+WyZzhdhvyEuRO6ULfLa3XiHRZ9fDzlBI8wDCvOozGMlcQnB0cnpUcHHI+eGD0dbLwti\n",
       "zOS2+WxuMDO0V5sEJHjbVBPlFyCoTvHZ5+A3qGPh4BNMrt5Gb0WngAShkz3PLCuTH6iDczfJmm0U\n",
       "D7KNQpN5VrwyNCVqDxgtp8+7gBPuXISRZ1JkyZLKwgv/OD7Bx2QaHuK/4eAl2xZ12lRG2N2GC7FL\n",
       "dkCyxh2+JuJC+ZU7n4ds7ZIe0OTrk3+6x7D1PCpz/EarPxrj6LTrmRhLlY2qfziSpXglNV0K+lI8\n",
       "aUbYYJOABO+EaqL8QiJMfB5vN33Dt+AbQeZcfYLeit7fCcL9cBsMJ0LXMMpar2GczN6o31ZYa6E6\n",
       "VEuWB/6C0+8MwubE5fMAj2PxgPqDytxtsCU3iLUelk2yCJMlZqsthU6akkzfc+GtMS5LGnv4a8gB\n",
       "nul7fqV4yPFeQsQDOllJ1icMW89jXN3SLnmpqdqvl7C71rhG1T8cw+z5LVTGgn50ki7rCFMdZgM0\n",
       "8QSmaNrVRIQ9ykv7Td+pnXf9KmgJQ7UJT4QiTLNV7Gw2OsI81kaEIRn8bUViqLkI0yfg+RMnN+GE\n",
       "Jx6CP/59eQOyJSyuLic24x+p3OlUszXUr+nnv0OTJWYLq2vCcrPUCVMdYezOPBfedvZ8r6jtYp1x\n",
       "qD2/UjzkdJkQ8YDSpUPwgmkrPabVC8lBeaF87afr1dcDJl+9csWs+ofj95AppzpdA01HjQi61Bfe\n",
       "6dUdZgM08QRmXHFU/PzC1bv0pw/vYDN55UrQsSpXm/D+jyceQr4IT8LWj8n54TfjF4+1iDBFpoA5\n",
       "ytKr+8LDJjwnShviqgiq1JUbjBW8Gu6SOWULNWorTVWE5Qe1C+oQ77mmDko3kKHB2kFKxAOKwQR0\n",
       "NQxb6fGgfqJ7xdWKrAzQPdIinonZBL94eW6+V0Y3+xCa+jl9xSQTwz+Hrur+Vz1QA/HSmbnyL5BF\n",
       "lDflcXq83rZS1hIrNsoSt827xNYz1XdwVLugDrNl7Jwta7/69BRrRy0iEmgffAI6y+ZZv/B4FBZk\n",
       "TtLUP52RXJgf0Df7c2y/NIKKjRATXSqE2KoIa3dDHE6JzhtCmvGDJXEYChTyfXNBrrHI3HTqf4eQ\n",
       "caQcJK75eQECj8UDOzRrviDXetFjE/AfHpGn7UMxby4AAAAASUVORK5CYII=\n",
       "\" style=\"display:inline;vertical-align:middle;\" /></a><br>"
      ],
      "text/plain": [
       "<IPython.core.display.HTML object>"
      ]
     },
     "metadata": {},
     "output_type": "display_data"
    }
   ],
   "source": [
    "defaults.assumptions = (induction_step.conditions + [eq_conds])"
   ]
  },
  {
   "cell_type": "code",
   "execution_count": 17,
   "metadata": {},
   "outputs": [
    {
     "data": {
      "text/html": [
       "<strong id=\"induction_hyp\">induction_hyp:</strong> <a class=\"ProveItLink\" href=\"../../../__pv_it/_proof_tuple_eq_via_elem_eq/e69ae6f8d6cefc57f09a9c919aa48aef65a02b8f0/expr.ipynb\"><img src=\"data:image/png;base64,iVBORw0KGgoAAAANSUhEUgAAAuUAAAAYBAMAAACvh54jAAAAMFBMVEX///+IiIgiIiIQEBB2dnbu\n",
       "7u5ERETMzMzc3NwyMjK6urpmZmaYmJiqqqpUVFQAAAB6qHgnAAAAAXRSTlMAQObYZgAAAAlwSFlz\n",
       "AAAOxAAADsQBlSsOGwAABlhJREFUaN7tWm+IVFUUPzM7b2Z237zdWZMSkmVZWohEWMJKRGuUpD6o\n",
       "PMv2ozsR5RILrQpaSO30hyUJdL4UfZCaKP1S5BT9WUxz/GDhWjRuBoYhI+iHPhRrIP6B2O555757\n",
       "3/3zZtMhsqEDZ/aec8/7nft+775z730K0K5S4nrzko2D/feGdGtLok7agnTl7bA3Le9xbaDxS/tx\n",
       "fpprK7LYBus81R+xVcsUpT9RIz2ExtttR7lTJm1JOn0bbGdVianOgxHtf5P0JSxcxbbj3K2RtiS5\n",
       "qg22RykvPfMUG6X/JCk+y1S97Tjv4Nqa3GeDPajM/oN+cwilv8MPNMeeXGf7lfOfubYm+2ywaxTP\n",
       "mnkglP7OGum9AwPL2o/zz7hmLyyK7j72rH55nv2hEr/BBvtO728Rj2qZovSnGqRfAjzdfpzv4/p+\n",
       "KX05svtbDs81rwVq/Imghg8E0uCwzjV/RG6yVcuyliv9uTLpHsg2/snFjP54cQPjs+pM3DZbd3hN\n",
       "DxUifCmpsxLcyGbt8Rp82ny7o8b/qPczSO8ydMhXQbVM0aKHSNN+qnKDPL5QNFu2XpQ0/ZnWozJv\n",
       "RZ9JrhKHom8dppuOR4SvIHVnIVkA5wT3HgW4C5yHf4+d6xQvZELvR8gy9BQEYmBt2nAxFhD75U3P\n",
       "knr5G15Cuwtmy9YrOXfMV+kCf92D6M2xKB9oE7HRdDwinHPeUYSRCmxdwL33g3OdPWU39hxD8bLS\n",
       "WDhnz+RgXSAGVjX+7Qn6ZW0bIoXysRveiI2bLVuv5Nw1X6UHIucEOplZUbRziVtpOh4RzmvLSB5+\n",
       "YK0Z/sAuQW4WeirZK3F3xuNDmdHr+dJgw33UDxHJug57x+O350flHXj9pLAe73rTsUfDmbRuoVky\n",
       "VedE70WjZeuVnCcN3MylPhrLevzpN/pDFO3skLQNMJIxDH+SdKQOv7IVABli2Zw/obt8Jucj52Z5\n",
       "QQ/Fn/y2t7F4CzO/0WMYZM84K/ohIlnHkXMT0An7BV6uSAqvsifo3J25yiMfK02YnKvOBf6dRsvW\n",
       "KznfHYH44hkmtcRggmrvWdyhlWW/i91jAsVTC/puZSxabCR8A2k67y1xA4acawFlM1UWkOonc6QM\n",
       "WiOId6ZXwoPQx7eGijDI7lq6KhHJYrtwFUdY2C/x3AIpdLP3wq1mhiAb7Bm/gu3QdUp72dEpZYxt\n",
       "oiZ93jJix+CEwfkBDjEpZkO6lisHCQ9gnSsaeUPkLnWVPqCPRcsYhm8jdc4/sucOmpUDLPXmhc+f\n",
       "Z3e7zScziXQtAd5ATxCf3ViGKwHf9+icI+SFwyARycoMaoCEOkj9Ei9ZIaWKWEk04MVBWib62BF3\n",
       "RF87+pRS/HVmxuctI5b5DM7PEQS/imqw2wgS7sDZ2TDyhsgZlfNz+li0jGF4cpxU1mVPpA4etWfU\n",
       "AunpzrMZyEp31lhrBaSKiFPJBISfNDx4hSutHaX0cR+QAucqjD2R1aZS4Mwd+e7Q6SDnLKyCpM9b\n",
       "eiz6ZCjnfAdBBFdRbemBjnqQ8CwxJfLyehEia7VlhzIWGRtmDMPx85T8RIUMpQTGG/B61BRLQWRN\n",
       "ThSzs+OWj2QCUkHMVrMlCyAUNDzAd+KwyFKa+Ag5dwqwPHP9OMCz2NwkftDp3Q4rvAJag2wdYOzx\n",
       "lh7LfDxUWUMD3KSYDEmfLVDIeS+7CtfQMC8XjgyJvALOgSIJKDZ0JMIDyChXwdBGwdCWnZ9HTCHS\n",
       "s5fNzFyxCpMmjaM2xMmdu3wLoJPX8PD7rfyG23X41DqkILMKPvx+YQ3ccWxuL2WW4w93bnHKbh39\n",
       "u3qRs7Clx6KPQiXn6RJBSM4zn+SJ81HYXsdbCfNy4cjsSgU8BJIJeCx3pMPldZgrymvvrhYHXja/\n",
       "5uZmI6Z+ImbyMXSWsud9+cykDNsQH5qbswEmdDwcXFrboDAKPGqtTYgmiFa/V0jmQgvZ82Jjeajg\n",
       "vKsA4io1ocOee10cZdYqZ320hlXwEEgmAMUxLGZznrQFSVg+M7QEuYhrRLYuq8N+OlnM/QG8ibKf\n",
       "HwETle5F3Mrctp63bLFhqDz7T4G4Sk3olqDLx1+BJc83aE1p4FOgJQDFMfUf/B5XszVrMSG1eWMF\n",
       "56m4TxzTbGHCKR33TzUVDTzV9LtgrgL/i/gPC3FU+fLMZv3QF3fB3w2/BeUvVDcSbicNkgMAAAAA\n",
       "SUVORK5CYII=\n",
       "\" style=\"display:inline;vertical-align:middle;\" /></a><br>"
      ],
      "text/plain": [
       "<IPython.core.display.HTML object>"
      ]
     },
     "metadata": {},
     "output_type": "display_data"
    }
   ],
   "source": [
    "induction_hyp = induction_step.conditions[1]"
   ]
  },
  {
   "cell_type": "markdown",
   "metadata": {},
   "source": [
    "***Splitting apart the conjunction of equality conditions is an important step***"
   ]
  },
  {
   "cell_type": "code",
   "execution_count": 18,
   "metadata": {},
   "outputs": [
    {
     "data": {
      "text/html": [
       "<strong id=\"eq_cond_partition\">eq_cond_partition:</strong> <span style=\"font-size:20px;\"><a class=\"ProveItLink\" href=\"../../../../../numbers/number_sets/natural_numbers/__pv_it/theorems/5fb53e9c076547ad508281e2a2445cff05af57920/expr.ipynb\"><img src=\"data:image/png;base64,iVBORw0KGgoAAAANSUhEUgAAAEYAAAATBAMAAADfQ2bzAAAAMFBMVEX///8yMjJmZmYiIiIQEBCq\n",
       "qqqYmJjMzMxERER2dnbc3Nzu7u5UVFSIiIi6uroAAACibcT0AAAAAXRSTlMAQObYZgAAAAlwSFlz\n",
       "AAAOxAAADsQBlSsOGwAAAQ9JREFUKM9jYCAAFBgIgwZK1HDbd0gzcPr74TWHI+ANA8N+/HbxWHEm\n",
       "MLAwMHV0eHS04VITwSDFwIzdHN5mY0OwmmUXFuJQwye7AWrOguO8E+Bq+O7smtvLPrMPLLVwA8yu\n",
       "BRwMfXA1nBxnGfbnMYSApaTg7lnArrB5Myyc3zE3MKy/wJAPlhJAqGFIZW2B8Tbsf8AQv4FBEcRm\n",
       "dzY2NraAquHZcATuzngGkAJPcPA2IJnDfWAzXM1BBgZLBr5f3CC2AZIahloOuBpPBu5/DDwCy0Ds\n",
       "u/C4KACGVQWMx/Wdge0DA8eECSAOYwBUFMxQhAebAQOvAgOf7gKwg068Bguyy3sAyY3Y44lvBiQu\n",
       "UAAA9FQ8d6roA+kAAAAASUVORK5CYII=\n",
       "\" style=\"display:inline;vertical-align:middle;\" /></a> <a class=\"ProveItLink\" href=\"../../../__pv_it/_proof_tuple_eq_via_elem_eq/be5531e59e0b64eb34b2e1692a4d01178b8633bb0/proof.ipynb\" style=\"text-decoration: none\">&nbsp;&#x22A2;&nbsp;&nbsp;</a><a class=\"ProveItLink\" href=\"../../../__pv_it/_proof_tuple_eq_via_elem_eq/ef44a70204d3caecb8b3ff4412e3129e93f13d2e0/expr.ipynb\"><img src=\"data:image/png;base64,iVBORw0KGgoAAAANSUhEUgAAAdQAAAAuBAMAAABjd/WUAAAAMFBMVEX////MzMxUVFRERES6uroi\n",
       "IiIQEBCYmJhmZmYyMjLu7u52dnaqqqqIiIjc3NwAAACW8nlqAAAAAXRSTlMAQObYZgAAAAlwSFlz\n",
       "AAAOxAAADsQBlSsOGwAABStJREFUaN7tWE+IG1UY/7LJJrOzySQe6q02eBGpgZRAFaG6eNibbJQt\n",
       "FOthtUqhoETioXsyIGXRPTR4aelBQwuWHkpiQVCksJcUrKBxRRa1W8IugijaFHrpNlrn/Z33Zt68\n",
       "zOx4eMj+4A1vvvfm933fvD/z5gcAQyBFDyf0Ro1hDLrYcHbHUFgjZQIyA+Hm1mTaF/XNtxKlioKR\n",
       "AoqGb2hRwz5cp7UNz5jvhfa/9CZ7gw2dUw1DiHsZG3JAEcnapIRhpsUqHW67ouE7zyoXdF6vRA2P\n",
       "u/eZO1JA0WA1SAlDkc3tnOd0RcM3ZpXTOq8rUcMrqpcWCibXiplqlpYwLPB3d4rbljSraIcT6176\n",
       "UtTwFkJYTkkBRcPXtIThc147xxeaZr7P8rU1o5kqOoYw9zLOiQFFxCotzsHbyi3to82naO0an/No\n",
       "T9m6/qdyEVXW6ZSbLWtWjYYhzL2Ma2JAEcFez/wwzeeedRQDxWrf73TpJ3JZHK/M2/A8n1tncPeX\n",
       "UbV7wf6HLifdXudnkF+E0r2MZRaQ0HkSXiXFPglWHezlwFTbgeyAmG8w27Q7bp824AzYXz3uD/a7\n",
       "DrxFzHnNeuQMPlxuq9z7Phk8mBsxR/UNUqwRTPdg/4+BN9yGYo+YD/ANZw7gLMBxsNDrkfEBwANi\n",
       "To00eyFjEBy5JbVZV7n3btGe6wVzYHepZqvQdf33A++/BwtrxDwvBnoC7HtQnHPu+vofh8yYmDNL\n",
       "+lQxg4c0HsS60j1HFV14MPMxU6UTuDuA9xiNOP/d79rZDjH3heln/w25EeQ6JFVhrY7B2iHmfF07\n",
       "gSnDyv71QrMkp+p3f/qdzfLGITnVPqvEWKtHSOmuwZP5YXBUiyV3FRNzE13Q2kwPwB7DVPtb8dtC\n",
       "cRetQWzOobjs4OkMRIbL841suVAOHVXk3n73JLwO63KqTRZQDNBdOz3IH7MUE3iqkW5R8yreEeln\n",
       "5Aj0W27DPv+29AQ8A8SMPyjdNn1GqngMv//kZoN7qlNF7p2rbfcNrsqpsm9kHOwjxa58tvW9IlX7\n",
       "4ApjX0SXo24SKTegi788VimB86y//8Uv3EHF5uk5dHnFvRxDlRarIIvHUIFH0XR+v3a4VmsEU8Xu\n",
       "pwapJXeRWbXaidrTQjCLMVOdLpFC0Fd3QmYHh5FHw/gSs/8Gf6m6Y/OvuHoz0IgtnOE1+AHupEJH\n",
       "lWxipULVGZXEUUXBOPWYqcoHZ02q5J9gVjzJO4ce+VD144zN5EQf/FnrSQwjd1yblj7VO+645qot\n",
       "MdVJPylqPEcLwh+fXFd1weZtXL2KdxV6gMk+fKj6eGKzg8OyA4dNYmEMmTJ8DFs/01SdLx+oDqcv\n",
       "wMzQqXRoqjyY7di/5pdoifJKAHAodnVyd5JMISh6gJohHSXWqmp8Yug0A1Im6TLiUTTCOf22vjnA\n",
       "YEWJtSUEUxjCHvawh/8phmCy5O38N0liGsMl710o26E0BkrenMTnNwo0IrmRkvd5MYBOvFzDRXIj\n",
       "Je+x75AeB+EiuYmSt0ci+42EcJHcRMlb1jZiKtvhIrmJkrdHIvlNKpIbI3krSSS/SUVyoyRvgcS7\n",
       "436TiuSmSN5+Eu+O+00qkpsieftJvDvuN6lIborkHSDhLcxvYpHcFMnbT+K1NOlTiUVyUyRvP4nX\n",
       "ssqeSiqSmyF5K0h4yyJ7KqlIborkHQBrIX5vBuzxRXJTJO8ACWshfnsB+y5EckMk78CRn7VsyzxJ\n",
       "RHJDJG+934LKQ5SnJZHcEMk7kl/5XBTl8ZZH8y9oKcBOv45mOgAAAABJRU5ErkJggg==\n",
       "\" style=\"display:inline;vertical-align:middle;\" /></a></span><br>"
      ],
      "text/plain": [
       "<IPython.core.display.HTML object>"
      ]
     },
     "metadata": {},
     "output_type": "display_data"
    }
   ],
   "source": [
    "eq_cond_partition = eq_conds.partition(m)"
   ]
  },
  {
   "cell_type": "code",
   "execution_count": 19,
   "metadata": {},
   "outputs": [
    {
     "data": {
      "text/html": [
       "<strong id=\"eq_conds_conjunction\">eq_conds_conjunction:</strong> <span style=\"font-size:20px;\"><a class=\"ProveItLink\" href=\"../../../__pv_it/_proof_tuple_eq_via_elem_eq/2fa67578b2af9f310f3c641ab402a90dc9ab796e0/expr.ipynb\"><img src=\"data:image/png;base64,iVBORw0KGgoAAAANSUhEUgAAAWgAAAAVBAMAAACZAGlNAAAAMFBMVEX////MzMxUVFRERES6uroi\n",
       "IiIQEBCYmJhmZmYyMjLu7u52dnaqqqqIiIjc3NwAAACW8nlqAAAAAXRSTlMAQObYZgAAAAlwSFlz\n",
       "AAAOxAAADsQBlSsOGwAAA8NJREFUSMelVk9IVEEY/9b993zuvt0OdrOWLhG2sLJgEVjSwVu4RYJk\n",
       "B8tCEIqN7aCnFkKW8uDSxfBQi0LiQXYTgiIELxtUUC8jpFJZjCCKcoUu6pbNzJs3+/7Mm13pA5fv\n",
       "/Wbm9/3mm28+BwBKUMsUxw++lfZAt2cjq4OLNed5VMPHSm3eM+Lhlf8STcS8dhyW2xPUW66CgYLj\n",
       "/Omr1AkmRVEFDA7hzYbEyFnnZY1p3ckxbFYQ5r7uTIrEzNabUxbeAudAEmQlpFeOv7o8I4hS0Z1h\n",
       "kZZMvaJD/MJFYnyCVd0swUMM6xdU27bu+XIC1v56RXc7sAzBS8GqJ8ybYAUpqKYmVoONguMTMTiF\n",
       "N9sEjOEu0rqm8kbvrR6l3rwOSfgWrS/85BZbdIkeaFPEWYqIwSm82eZJDrtKbnayUg8xHFXeyuVp\n",
       "yx0x5tBzHU6xkxsl089hNz8p/6VlJ7rdVgbzlrjhzTYCF9HoIEgJkEdsB7kNPlWDX+iYF+XyURJG\n",
       "QX5+yBr2bQ6uaXBAULeMwWIzWV54SxekYq6g3ZXBW4CWD7ZdZyFU0OCD7Ip1AowD9IGEN2q2OwA7\n",
       "GuwqO4tmDIZA6M+1muCFr37iBqaLQaJ9McgjpqItJwXoXtTgLmPIAZB/Q6hT2bTM7wNPRYM9/WLR\n",
       "hKFqbpLYBDc8sxj+oWJQeeRVuKUDxqJCfXI8p8FFw+HKf8BfBn9OE22o6QpI2xocSAjLgzJkWpaC\n",
       "qbBZtDX88I3VyHKbWXQROpDoRTgSKNkzHQqjatfgFC4okhQV5Ao0ZN8YOxy1TVyrBPbjCPabZmaY\n",
       "6Ur6IsGIY6ZxePnmIFyGJbPoFG5mbjXQK3HKoyHpTlMYN8Z8ljazDiim0UCzVdVhOA4ajNuavAX0\n",
       "By9kTpXh+0ekizRAvmgcXpnLolyMmUWPQTMijD5ef8cRLbdm9Hnn8blewPcFUU99PhANg3LCOn/q\n",
       "KUo0gb2obqEHb6oXf6V1x8wQhf24WG7H2+PxpF00Cd+guvpRCUvx+ED8GBPjDeuTivwaxLBCCF/h\n",
       "n7M6/g1+8aYT+CtJnb0+zAyX4D1suBwzrV3bcDCmlMPGTCMx1beQQLT2qioY30JK2767vCc6gcmb\n",
       "qMk+amYoo1ynJLHoDZRrfyxtFI3FnKTDPx4u8FYR+As5LtLp3fSflG93l9eMCayQAHP2i2hi8ETg\n",
       "Aax/oqKVZzu8p8RpaCwp0RwVzcRM1/F0IRsLaoFjtadrsuwanBjc9TyfYkYxilpzftD4BKjjpbMm\n",
       "HrYxSPWITlfF/AM9+CTFMQekawAAAABJRU5ErkJggg==\n",
       "\" style=\"display:inline;vertical-align:middle;\" /></a> <a class=\"ProveItLink\" href=\"../../../__pv_it/_proof_tuple_eq_via_elem_eq/31a584a70450de90d7b55070267bf8a7bf07c12a0/proof.ipynb\" style=\"text-decoration: none\">&nbsp;&#x22A2;&nbsp;&nbsp;</a><a class=\"ProveItLink\" href=\"../../../__pv_it/_proof_tuple_eq_via_elem_eq/1877b42461214579e6111125f626197536a4c9e60/expr.ipynb\"><img src=\"data:image/png;base64,iVBORw0KGgoAAAANSUhEUgAAAYcAAAAVBAMAAABf6T+xAAAAMFBMVEX////MzMxUVFRERES6uroi\n",
       "IiIQEBCYmJhmZmYyMjLu7u52dnaqqqqIiIjc3NwAAACW8nlqAAAAAXRSTlMAQObYZgAAAAlwSFlz\n",
       "AAAOxAAADsQBlSsOGwAAA8VJREFUWMOlV01oE0EUfkmaZJsmm1QpeClGEURrIaWgIijBQ2/SCAq1\n",
       "eij+UBDE+HNoBTEXKdqCwYvSQ10sFUQksVAQVMglYunBWJBebAkWwR+0KXixFuPOb7KzM9s1vsPu\n",
       "8M37dr83896bXQAow0amu0AacaFWhv8xzI4UNvRrKonIB2iApDAXApzsCLrMKadDe1N0tCDMhPNK\n",
       "0uQ5UJBUNufSrybHugZpcyqrpjVn2MAg9xa6aI8d3nUfBNJLhSPFnQQo5FhtHEBLq1lRttFBSp+i\n",
       "LxxxeNU6WEmhE4qFpbiTAIUcqw0BBBxYvQYbnacZsoPcBxxKYQ2spMjlpLwUKB5wnf01ORYLGDDr\n",
       "wJrho3vkltpMSsIhA1pSAsnvSUgdGT7rOogZRZalYRR1w44laSu5u7iHjqZpPTfjhqbl1aTmzvmC\n",
       "hTQHE4p6JriTAJUc67LF8XL1lH08CbTj2OIoa38ZOdrDh4nAcjhDY1eScuOhP1BPmoA3UkkMFwVY\n",
       "TS7HYsEsnDJnB0FLQWhYnA2vQaBE4NcY2ATQjzOhwEhPpncLpLcGXAi92G4wkicOflkuc5wLEOpe\n",
       "LkfiFB6As2a0FfDnof29bRWyEM0TeCsGtgEs4lJKMlIGbgqkWwC/NaIJk7wxiMhSheNcQM3Qdivk\n",
       "SJw8FfSMQAJypqyirfTy0FsgcA/r6FMsCEL6CSsxK+kkNK1Hk/oqI5lHSkh2SHG8JoAbrniFHLtT\n",
       "0wDazVwJbnBWXRKaffmOQeAiO+q0Ak0nQrpGgqgjrYO2FjRwEEV2pI0pjroxmk7kWUOXFuMLXUIQ\n",
       "ohyJUzgFB81nFGBXuGwPPRozk5XAV/BSoD6CuquvxEm2vrcKj9K00WISGnyRBMFxJuDr1UE4DfPq\n",
       "nUByQhKnYAL1QV8p3KdJWN60L0Nh1AfhOrp0kabGSJ5+gbQT9pvXNoOSgijvfWi3clnUYOigDmcC\n",
       "9KdZcwVG1UEgOTIns+G3mY/ufPbxnYQV6hhhDzuGLrgRtaNSSnHSsth5Hj43N0I/wEheNO9Biv2o\n",
       "EvvYoIZzAd6SB2W31t19pnufSo7EyZ8EPy/MorxTI1gXSvMo/2nI6LLW/Rl+2EkK4wICsUhCr8SU\n",
       "O6Fy+lT7tnMMQvxIG2KD5dYtkkNA72q97frLjgtYMZc5mMg4ByFxQulyiE5/e/BKxsLwsgD62PJf\n",
       "rFZly1WtVuwklTEBh80vAr3ToPoUcuxOOhpM/sN7eHomGiApf6NsiJuncye8oPrGn14RW95/hwZI\n",
       "qp9xm4CMGxpzWgL4C9sbQ0w26/CNAAAAAElFTkSuQmCC\n",
       "\" style=\"display:inline;vertical-align:middle;\" /></a></span><br>"
      ],
      "text/plain": [
       "<IPython.core.display.HTML object>"
      ]
     },
     "metadata": {},
     "output_type": "display_data"
    }
   ],
   "source": [
    "eq_conds_conjunction = And(eq_conds).prove()"
   ]
  },
  {
   "cell_type": "code",
   "execution_count": 20,
   "metadata": {},
   "outputs": [
    {
     "data": {
      "text/html": [
       "<strong id=\"eq_conds_conjunction_partition\">eq_conds_conjunction_partition:</strong> <span style=\"font-size:20px;\"><a class=\"ProveItLink\" href=\"../../../../../numbers/number_sets/natural_numbers/__pv_it/theorems/5fb53e9c076547ad508281e2a2445cff05af57920/expr.ipynb\"><img src=\"data:image/png;base64,iVBORw0KGgoAAAANSUhEUgAAAEYAAAATBAMAAADfQ2bzAAAAMFBMVEX///8yMjJmZmYiIiIQEBCq\n",
       "qqqYmJjMzMxERER2dnbc3Nzu7u5UVFSIiIi6uroAAACibcT0AAAAAXRSTlMAQObYZgAAAAlwSFlz\n",
       "AAAOxAAADsQBlSsOGwAAAQ9JREFUKM9jYCAAFBgIgwZK1HDbd0gzcPr74TWHI+ANA8N+/HbxWHEm\n",
       "MLAwMHV0eHS04VITwSDFwIzdHN5mY0OwmmUXFuJQwye7AWrOguO8E+Bq+O7smtvLPrMPLLVwA8yu\n",
       "BRwMfXA1nBxnGfbnMYSApaTg7lnArrB5Myyc3zE3MKy/wJAPlhJAqGFIZW2B8Tbsf8AQv4FBEcRm\n",
       "dzY2NraAquHZcATuzngGkAJPcPA2IJnDfWAzXM1BBgZLBr5f3CC2AZIahloOuBpPBu5/DDwCy0Ds\n",
       "u/C4KACGVQWMx/Wdge0DA8eECSAOYwBUFMxQhAebAQOvAgOf7gKwg068Bguyy3sAyY3Y44lvBiQu\n",
       "UAAA9FQ8d6roA+kAAAAASUVORK5CYII=\n",
       "\" style=\"display:inline;vertical-align:middle;\" /></a>, <a class=\"ProveItLink\" href=\"../../../__pv_it/_proof_tuple_eq_via_elem_eq/2fa67578b2af9f310f3c641ab402a90dc9ab796e0/expr.ipynb\"><img src=\"data:image/png;base64,iVBORw0KGgoAAAANSUhEUgAAAWgAAAAVBAMAAACZAGlNAAAAMFBMVEX////MzMxUVFRERES6uroi\n",
       "IiIQEBCYmJhmZmYyMjLu7u52dnaqqqqIiIjc3NwAAACW8nlqAAAAAXRSTlMAQObYZgAAAAlwSFlz\n",
       "AAAOxAAADsQBlSsOGwAAA8NJREFUSMelVk9IVEEY/9b993zuvt0OdrOWLhG2sLJgEVjSwVu4RYJk\n",
       "B8tCEIqN7aCnFkKW8uDSxfBQi0LiQXYTgiIELxtUUC8jpFJZjCCKcoUu6pbNzJs3+/7Mm13pA5fv\n",
       "/Wbm9/3mm28+BwBKUMsUxw++lfZAt2cjq4OLNed5VMPHSm3eM+Lhlf8STcS8dhyW2xPUW66CgYLj\n",
       "/Omr1AkmRVEFDA7hzYbEyFnnZY1p3ckxbFYQ5r7uTIrEzNabUxbeAudAEmQlpFeOv7o8I4hS0Z1h\n",
       "kZZMvaJD/MJFYnyCVd0swUMM6xdU27bu+XIC1v56RXc7sAzBS8GqJ8ybYAUpqKYmVoONguMTMTiF\n",
       "N9sEjOEu0rqm8kbvrR6l3rwOSfgWrS/85BZbdIkeaFPEWYqIwSm82eZJDrtKbnayUg8xHFXeyuVp\n",
       "yx0x5tBzHU6xkxsl089hNz8p/6VlJ7rdVgbzlrjhzTYCF9HoIEgJkEdsB7kNPlWDX+iYF+XyURJG\n",
       "QX5+yBr2bQ6uaXBAULeMwWIzWV54SxekYq6g3ZXBW4CWD7ZdZyFU0OCD7Ip1AowD9IGEN2q2OwA7\n",
       "GuwqO4tmDIZA6M+1muCFr37iBqaLQaJ9McgjpqItJwXoXtTgLmPIAZB/Q6hT2bTM7wNPRYM9/WLR\n",
       "hKFqbpLYBDc8sxj+oWJQeeRVuKUDxqJCfXI8p8FFw+HKf8BfBn9OE22o6QpI2xocSAjLgzJkWpaC\n",
       "qbBZtDX88I3VyHKbWXQROpDoRTgSKNkzHQqjatfgFC4okhQV5Ao0ZN8YOxy1TVyrBPbjCPabZmaY\n",
       "6Ur6IsGIY6ZxePnmIFyGJbPoFG5mbjXQK3HKoyHpTlMYN8Z8ljazDiim0UCzVdVhOA4ajNuavAX0\n",
       "By9kTpXh+0ekizRAvmgcXpnLolyMmUWPQTMijD5ef8cRLbdm9Hnn8blewPcFUU99PhANg3LCOn/q\n",
       "KUo0gb2obqEHb6oXf6V1x8wQhf24WG7H2+PxpF00Cd+guvpRCUvx+ED8GBPjDeuTivwaxLBCCF/h\n",
       "n7M6/g1+8aYT+CtJnb0+zAyX4D1suBwzrV3bcDCmlMPGTCMx1beQQLT2qioY30JK2767vCc6gcmb\n",
       "qMk+amYoo1ynJLHoDZRrfyxtFI3FnKTDPx4u8FYR+As5LtLp3fSflG93l9eMCayQAHP2i2hi8ETg\n",
       "Aax/oqKVZzu8p8RpaCwp0RwVzcRM1/F0IRsLaoFjtadrsuwanBjc9TyfYkYxilpzftD4BKjjpbMm\n",
       "HrYxSPWITlfF/AM9+CTFMQekawAAAABJRU5ErkJggg==\n",
       "\" style=\"display:inline;vertical-align:middle;\" /></a> <a class=\"ProveItLink\" href=\"../../../__pv_it/_proof_tuple_eq_via_elem_eq/5a6d4e3e17275ed681820fb77fd0441c1a9d15f60/proof.ipynb\" style=\"text-decoration: none\">&nbsp;&#x22A2;&nbsp;&nbsp;</a><a class=\"ProveItLink\" href=\"../../../__pv_it/_proof_tuple_eq_via_elem_eq/e25eb2201f5c3bf5305e67478ba73671a6d552df0/expr.ipynb\"><img src=\"data:image/png;base64,iVBORw0KGgoAAAANSUhEUgAAAf0AAAAVBAMAAAC+girgAAAAMFBMVEX////MzMxUVFRERES6uroi\n",
       "IiIQEBCYmJhmZmYyMjLu7u52dnaqqqqIiIjc3NwAAACW8nlqAAAAAXRSTlMAQObYZgAAAAlwSFlz\n",
       "AAAOxAAADsQBlSsOGwAABIRJREFUWMOdWE2IFEcUfjOzM9O2Mz2j4tFkI4EQdaGXBRVBXXLYW9hR\n",
       "EtBsDktWEQLK+HNYD+JcZDErOHhRPOigGMgh7GZBEIwwlxGXhWQiBA+6y6AIiWIcIZesG9d61VXV\n",
       "Uz2vutupQ0/Nq/d9/b36eVXVANCCqOLEsPTiIkqrd8fYUDNfvh7p19cMWp5ADyBDiSFAlC97h5r5\n",
       "FozN9vaSqD0KtORmjaCbh8EAMpWFsEZfA4Zb/hCoiUXns6tm2JqKrNS837Wiv38KedcVCIB+pf0k\n",
       "V5iATg1YroJGGQE1sWh8VtmMKsjplRXwW+KFUyGvWgEdZB+k/SRXmIBODVgmQaOMgJpYNL5MCGq0\n",
       "Jmvfiyn9qfc7HrLsl0EH5U8Mk46SKxOu3NeAvjWNMhN7pWssGt98COq2ql32fkobvOUfMu/WlgKg\n",
       "dMIlHQVXqABNA07jskY5Hzv+24ZlUYZp3Kq2LpHJ+tLiNlGbE2lvDd8yLEx/T++9IikHHtY10AJc\n",
       "o/wkV6gATQN2br9GGQE1sWh8OEgjrZSatdbXvOCL7P9qM2KDPe3F1spV5DD0HYO9alKd45j9WJ25\n",
       "ar+DTtA1eED2k+DqEqDzdWjAlFLVKCmoX+hItML4vmWtR8AqgX26a4iWIdP0zPe5YT3AN3z+sRH+\n",
       "sQznwL67Obiwfq/BUWHmoEQ/pKnFJ7l8AWThGvx/4xqlAWqIhHBifIdYR7UhPQub/uzqwCoUZj3z\n",
       "x9zwCcAiTxss/VwEGAOr++XnAd4KMwcli5CnJqjk8gXQg4ga1L9EW6MkoDinDJEQToyPcWRcmGER\n",
       "NYIoRjxa98wjcru9JeOfAPtfKAw7bwKgMehbEeYRcVSwibFVXB0CqOJpUJvLuEZJQHlibISz+E6M\n",
       "j82hmSacVaiOVcM2zYs1z9yQJxar7s1/+3/ItiFb8+LvWP8rYC0Lc0MeVS7Qpx/O5QuYPL7Y/2gw\n",
       "sP65BtWSK2mUBLQj/mAkhBPj28046vB5rtXda4UiW12e+STvRUy3mIFSTbBXIFn9TdvuvPIGM4Nn\n",
       "5iCs/E2Mq+RSAl6cOgLfwUNCg61asq5GSUDp8ddZfCfGN4fh5A5YBCpZTlWEGXcaOIOPQbEN7YZG\n",
       "hbVuDOa2z2AnCDOCsrhQU0XcGKqYh0XF51ICnJ+rrPOmCQ1+C994fUoCSsevs/hOjG8jUzXwy9M/\n",
       "CJS9dUqSfYWPLfjYhGmDjcCNxx8NFMHZFQTduMOG3zMjKIkdkUDFacw6B2RFcfkCks0EX47dGlRL\n",
       "elijDEKtoaGJoR2mSAgnxpcuSqcGnYHQ7ARm+T5Z+Qv+oTDc7JRiHc2UgEwx7zrtInVMlS3PI6Gu\n",
       "ORLC6bl/tQmNP3jRmJTfOAbX/UB9+uDmmLcTJeA1G6GsS13UVMtUJDQkfsIJ+faI5pfX71Eobn4W\n",
       "MKbEYSqzutqmepqbn8U8m0sBX7AzoTNAnZVki+NGQl1zJN1OnO/mB0hU68ntAWT8YhL7FpNqRULj\n",
       "CFNOnM+Jvj7ku87Or6AHkOlDYdwPZbAUDa3E4an4fO8BOOqovosvwMwAAAAASUVORK5CYII=\n",
       "\" style=\"display:inline;vertical-align:middle;\" /></a></span><br>"
      ],
      "text/plain": [
       "<IPython.core.display.HTML object>"
      ]
     },
     "metadata": {},
     "output_type": "display_data"
    }
   ],
   "source": [
    "eq_conds_conjunction_partition = eq_cond_partition.sub_right_side_into(eq_conds_conjunction)"
   ]
  },
  {
   "cell_type": "code",
   "execution_count": 21,
   "metadata": {},
   "outputs": [
    {
     "data": {
      "text/html": [
       "<span style=\"font-size:20px;\"><a class=\"ProveItLink\" href=\"../../../../../numbers/number_sets/natural_numbers/__pv_it/theorems/5fb53e9c076547ad508281e2a2445cff05af57920/expr.ipynb\"><img src=\"data:image/png;base64,iVBORw0KGgoAAAANSUhEUgAAAEYAAAATBAMAAADfQ2bzAAAAMFBMVEX///8yMjJmZmYiIiIQEBCq\n",
       "qqqYmJjMzMxERER2dnbc3Nzu7u5UVFSIiIi6uroAAACibcT0AAAAAXRSTlMAQObYZgAAAAlwSFlz\n",
       "AAAOxAAADsQBlSsOGwAAAQ9JREFUKM9jYCAAFBgIgwZK1HDbd0gzcPr74TWHI+ANA8N+/HbxWHEm\n",
       "MLAwMHV0eHS04VITwSDFwIzdHN5mY0OwmmUXFuJQwye7AWrOguO8E+Bq+O7smtvLPrMPLLVwA8yu\n",
       "BRwMfXA1nBxnGfbnMYSApaTg7lnArrB5Myyc3zE3MKy/wJAPlhJAqGFIZW2B8Tbsf8AQv4FBEcRm\n",
       "dzY2NraAquHZcATuzngGkAJPcPA2IJnDfWAzXM1BBgZLBr5f3CC2AZIahloOuBpPBu5/DDwCy0Ds\n",
       "u/C4KACGVQWMx/Wdge0DA8eECSAOYwBUFMxQhAebAQOvAgOf7gKwg068Bguyy3sAyY3Y44lvBiQu\n",
       "UAAA9FQ8d6roA+kAAAAASUVORK5CYII=\n",
       "\" style=\"display:inline;vertical-align:middle;\" /></a>, <a class=\"ProveItLink\" href=\"../../../__pv_it/_proof_tuple_eq_via_elem_eq/2fa67578b2af9f310f3c641ab402a90dc9ab796e0/expr.ipynb\"><img src=\"data:image/png;base64,iVBORw0KGgoAAAANSUhEUgAAAWgAAAAVBAMAAACZAGlNAAAAMFBMVEX////MzMxUVFRERES6uroi\n",
       "IiIQEBCYmJhmZmYyMjLu7u52dnaqqqqIiIjc3NwAAACW8nlqAAAAAXRSTlMAQObYZgAAAAlwSFlz\n",
       "AAAOxAAADsQBlSsOGwAAA8NJREFUSMelVk9IVEEY/9b993zuvt0OdrOWLhG2sLJgEVjSwVu4RYJk\n",
       "B8tCEIqN7aCnFkKW8uDSxfBQi0LiQXYTgiIELxtUUC8jpFJZjCCKcoUu6pbNzJs3+/7Mm13pA5fv\n",
       "/Wbm9/3mm28+BwBKUMsUxw++lfZAt2cjq4OLNed5VMPHSm3eM+Lhlf8STcS8dhyW2xPUW66CgYLj\n",
       "/Omr1AkmRVEFDA7hzYbEyFnnZY1p3ckxbFYQ5r7uTIrEzNabUxbeAudAEmQlpFeOv7o8I4hS0Z1h\n",
       "kZZMvaJD/MJFYnyCVd0swUMM6xdU27bu+XIC1v56RXc7sAzBS8GqJ8ybYAUpqKYmVoONguMTMTiF\n",
       "N9sEjOEu0rqm8kbvrR6l3rwOSfgWrS/85BZbdIkeaFPEWYqIwSm82eZJDrtKbnayUg8xHFXeyuVp\n",
       "yx0x5tBzHU6xkxsl089hNz8p/6VlJ7rdVgbzlrjhzTYCF9HoIEgJkEdsB7kNPlWDX+iYF+XyURJG\n",
       "QX5+yBr2bQ6uaXBAULeMwWIzWV54SxekYq6g3ZXBW4CWD7ZdZyFU0OCD7Ip1AowD9IGEN2q2OwA7\n",
       "GuwqO4tmDIZA6M+1muCFr37iBqaLQaJ9McgjpqItJwXoXtTgLmPIAZB/Q6hT2bTM7wNPRYM9/WLR\n",
       "hKFqbpLYBDc8sxj+oWJQeeRVuKUDxqJCfXI8p8FFw+HKf8BfBn9OE22o6QpI2xocSAjLgzJkWpaC\n",
       "qbBZtDX88I3VyHKbWXQROpDoRTgSKNkzHQqjatfgFC4okhQV5Ao0ZN8YOxy1TVyrBPbjCPabZmaY\n",
       "6Ur6IsGIY6ZxePnmIFyGJbPoFG5mbjXQK3HKoyHpTlMYN8Z8ljazDiim0UCzVdVhOA4ajNuavAX0\n",
       "By9kTpXh+0ekizRAvmgcXpnLolyMmUWPQTMijD5ef8cRLbdm9Hnn8blewPcFUU99PhANg3LCOn/q\n",
       "KUo0gb2obqEHb6oXf6V1x8wQhf24WG7H2+PxpF00Cd+guvpRCUvx+ED8GBPjDeuTivwaxLBCCF/h\n",
       "n7M6/g1+8aYT+CtJnb0+zAyX4D1suBwzrV3bcDCmlMPGTCMx1beQQLT2qioY30JK2767vCc6gcmb\n",
       "qMk+amYoo1ynJLHoDZRrfyxtFI3FnKTDPx4u8FYR+As5LtLp3fSflG93l9eMCayQAHP2i2hi8ETg\n",
       "Aax/oqKVZzu8p8RpaCwp0RwVzcRM1/F0IRsLaoFjtadrsuwanBjc9TyfYkYxilpzftD4BKjjpbMm\n",
       "HrYxSPWITlfF/AM9+CTFMQekawAAAABJRU5ErkJggg==\n",
       "\" style=\"display:inline;vertical-align:middle;\" /></a> <a class=\"ProveItLink\" href=\"../../../__pv_it/_proof_tuple_eq_via_elem_eq/82bc728bf1354bc97a0061fd3f8a98a4b9730c7d0/proof.ipynb\" style=\"text-decoration: none\">&nbsp;&#x22A2;&nbsp;&nbsp;</a><a class=\"ProveItLink\" href=\"../../../__pv_it/_proof_tuple_eq_via_elem_eq/388515774e83752ffe57264055b327618c6633620/expr.ipynb\"><img src=\"data:image/png;base64,iVBORw0KGgoAAAANSUhEUgAAAV0AAAAVBAMAAAAX2iAxAAAAMFBMVEX////MzMxUVFRERES6uroi\n",
       "IiIQEBCYmJhmZmYyMjLu7u52dnaqqqqIiIjc3NwAAACW8nlqAAAAAXRSTlMAQObYZgAAAAlwSFlz\n",
       "AAAOxAAADsQBlSsOGwAAA85JREFUSMedV01oE0EU/tI0yTZNNqmieClGEURrIb2ICErx0Js0ikKt\n",
       "HqooBUGM1kMVxFyk+AMGL4qHuigqIpJYEAQVcqlYejBWpCi2hBZBK9oUvFiLdX43yWZm0/ZBd6ff\n",
       "vu/tlzdv3swCKKCWmUtAVuIirLAsx3Cupl993ol8wQpIGluCAGF76WVU+zi4PSFG444noayWdP8E\n",
       "NCSdjbo+LcUjvyxJRKX1vg0pObD4vVGk4rHLC27DQXqlcRS4m4CKeMTuAEZS7xqRMxUQwh+I2AMu\n",
       "8RdQSQoe0syewN0EVMQj1g/4XVw7LTk6KaZ4E7/3uJTtPCpJ4bPt6rIVuL/GMpgv+8dvYcTF97k9\n",
       "usVvidW8fF2msDHhIPk8caWjxEfc9ZbFIyWWxDXaelomlYv55sQ2MRoSy6yBtRQjqyc1tI7lKkij\n",
       "GNQsM467CaiMR8THWBI6Cl4768ZBZjFaYX+sjOiN5zm3EEqJn6klZe4E/6GcNIi3SiESdwqgdpmF\n",
       "24/KeGRJpHGE6OqFkUDwvDNiaB7+PIffMGAV0M2mMidJT4a2OkjvLJwKvtxoSZInBp+lkGvjtgC1\n",
       "0XglRT04TrJThC+L5o9OVyONSJbD6xmwAZhgZd8uSSlcdpCuAH8N/npGqosirJprG7cFqI3GK/3I\n",
       "InX3x5EhCoarVkQWnTkOd8hO+UDq5aTfmI1Wkg6jfiHSbs5JEmnVQVXubLwkQGk0XqlZ9NDpyORx\n",
       "CVJvWSmS9nvD4vCw3C2MnKgHTrrA9ZaRFmDMByymd1juCtc1u8V1UQ88Vv+Zidh4m7N+WbyB5rFw\n",
       "H3lRKIFdxD2HLaFCdX4jUVJYHO5j+aYrmbYyb94mlfU8bnN4mBRdiJHo4LtCr41LATPnenEMY1DE\n",
       "e9SR9MfCJBuBOG063nyoy1DUQ13SmxIwbTq4SC9tvK1IkqfbQdqMHeS6xhKkAK1RL52DTJp2HDEo\n",
       "w6UA82maiLsGRbyZTyR3tImSvzUkSuuzqfcKvcGWATmrB+iFtYJmWvYJmzTtXPv3XpD0mjslqY4+\n",
       "91BxPtoKu+SghNsC6vIeVp6KeK1Yy4rQ1w6fvV6G1QVPYdOxYvbZh9yUqTq9fsOvapLGbAH+aDhu\n",
       "FqMqn6P4gFkP8LV0lHHV6zyT9MvBdNM6RXM125qu1j7IOM5SmCUZDsRTqqN/kWS4z+DnrN0C/HH3\n",
       "tSocg6cdoFcm9fTiooLjX1wsVpN0JgXsIfun2araW+pjZDec+gyTnjjuLyOkXdnxFZC0J/Ilfzix\n",
       "NJm1v1vCVTX6Eysg6T70lvrhhEngPz3sKh9WXvyIAAAAAElFTkSuQmCC\n",
       "\" style=\"display:inline;vertical-align:middle;\" /></a></span>"
      ],
      "text/plain": [
       "{m in NaturalPos,(a_{1} = b_{1}), (a_{2} = b_{2}), ..., (a_{m + 1} = b_{m + 1})} |- (a_{1} = b_{1}) and  (a_{2} = b_{2}) and  ... and  (a_{m} = b_{m})"
      ]
     },
     "metadata": {},
     "output_type": "display_data"
    }
   ],
   "source": [
    "eq_conds_conjunction_partition.derive_some(0)"
   ]
  },
  {
   "cell_type": "markdown",
   "metadata": {},
   "source": [
    "***Now we can instantiate the induction hypothesis***"
   ]
  },
  {
   "cell_type": "code",
   "execution_count": 22,
   "metadata": {},
   "outputs": [
    {
     "data": {
      "text/html": [
       "<span style=\"font-size:20px;\"><a class=\"ProveItLink\" href=\"../../../__pv_it/_proof_tuple_eq_via_elem_eq/e69ae6f8d6cefc57f09a9c919aa48aef65a02b8f0/expr.ipynb\"><img src=\"data:image/png;base64,iVBORw0KGgoAAAANSUhEUgAAAuUAAAAYBAMAAACvh54jAAAAMFBMVEX///+IiIgiIiIQEBB2dnbu\n",
       "7u5ERETMzMzc3NwyMjK6urpmZmaYmJiqqqpUVFQAAAB6qHgnAAAAAXRSTlMAQObYZgAAAAlwSFlz\n",
       "AAAOxAAADsQBlSsOGwAABlhJREFUaN7tWm+IVFUUPzM7b2Z237zdWZMSkmVZWohEWMJKRGuUpD6o\n",
       "PMv2ozsR5RILrQpaSO30hyUJdL4UfZCaKP1S5BT9WUxz/GDhWjRuBoYhI+iHPhRrIP6B2O555757\n",
       "3/3zZtMhsqEDZ/aec8/7nft+775z730K0K5S4nrzko2D/feGdGtLok7agnTl7bA3Le9xbaDxS/tx\n",
       "fpprK7LYBus81R+xVcsUpT9RIz2ExtttR7lTJm1JOn0bbGdVianOgxHtf5P0JSxcxbbj3K2RtiS5\n",
       "qg22RykvPfMUG6X/JCk+y1S97Tjv4Nqa3GeDPajM/oN+cwilv8MPNMeeXGf7lfOfubYm+2ywaxTP\n",
       "mnkglP7OGum9AwPL2o/zz7hmLyyK7j72rH55nv2hEr/BBvtO728Rj2qZovSnGqRfAjzdfpzv4/p+\n",
       "KX05svtbDs81rwVq/Imghg8E0uCwzjV/RG6yVcuyliv9uTLpHsg2/snFjP54cQPjs+pM3DZbd3hN\n",
       "DxUifCmpsxLcyGbt8Rp82ny7o8b/qPczSO8ydMhXQbVM0aKHSNN+qnKDPL5QNFu2XpQ0/ZnWozJv\n",
       "RZ9JrhKHom8dppuOR4SvIHVnIVkA5wT3HgW4C5yHf4+d6xQvZELvR8gy9BQEYmBt2nAxFhD75U3P\n",
       "knr5G15Cuwtmy9YrOXfMV+kCf92D6M2xKB9oE7HRdDwinHPeUYSRCmxdwL33g3OdPWU39hxD8bLS\n",
       "WDhnz+RgXSAGVjX+7Qn6ZW0bIoXysRveiI2bLVuv5Nw1X6UHIucEOplZUbRziVtpOh4RzmvLSB5+\n",
       "YK0Z/sAuQW4WeirZK3F3xuNDmdHr+dJgw33UDxHJug57x+O350flHXj9pLAe73rTsUfDmbRuoVky\n",
       "VedE70WjZeuVnCcN3MylPhrLevzpN/pDFO3skLQNMJIxDH+SdKQOv7IVABli2Zw/obt8Jucj52Z5\n",
       "QQ/Fn/y2t7F4CzO/0WMYZM84K/ohIlnHkXMT0An7BV6uSAqvsifo3J25yiMfK02YnKvOBf6dRsvW\n",
       "KznfHYH44hkmtcRggmrvWdyhlWW/i91jAsVTC/puZSxabCR8A2k67y1xA4acawFlM1UWkOonc6QM\n",
       "WiOId6ZXwoPQx7eGijDI7lq6KhHJYrtwFUdY2C/x3AIpdLP3wq1mhiAb7Bm/gu3QdUp72dEpZYxt\n",
       "oiZ93jJix+CEwfkBDjEpZkO6lisHCQ9gnSsaeUPkLnWVPqCPRcsYhm8jdc4/sucOmpUDLPXmhc+f\n",
       "Z3e7zScziXQtAd5ATxCf3ViGKwHf9+icI+SFwyARycoMaoCEOkj9Ei9ZIaWKWEk04MVBWib62BF3\n",
       "RF87+pRS/HVmxuctI5b5DM7PEQS/imqw2wgS7sDZ2TDyhsgZlfNz+li0jGF4cpxU1mVPpA4etWfU\n",
       "AunpzrMZyEp31lhrBaSKiFPJBISfNDx4hSutHaX0cR+QAucqjD2R1aZS4Mwd+e7Q6SDnLKyCpM9b\n",
       "eiz6ZCjnfAdBBFdRbemBjnqQ8CwxJfLyehEia7VlhzIWGRtmDMPx85T8RIUMpQTGG/B61BRLQWRN\n",
       "ThSzs+OWj2QCUkHMVrMlCyAUNDzAd+KwyFKa+Ag5dwqwPHP9OMCz2NwkftDp3Q4rvAJag2wdYOzx\n",
       "lh7LfDxUWUMD3KSYDEmfLVDIeS+7CtfQMC8XjgyJvALOgSIJKDZ0JMIDyChXwdBGwdCWnZ9HTCHS\n",
       "s5fNzFyxCpMmjaM2xMmdu3wLoJPX8PD7rfyG23X41DqkILMKPvx+YQ3ccWxuL2WW4w93bnHKbh39\n",
       "u3qRs7Clx6KPQiXn6RJBSM4zn+SJ81HYXsdbCfNy4cjsSgU8BJIJeCx3pMPldZgrymvvrhYHXja/\n",
       "5uZmI6Z+ImbyMXSWsud9+cykDNsQH5qbswEmdDwcXFrboDAKPGqtTYgmiFa/V0jmQgvZ82Jjeajg\n",
       "vKsA4io1ocOee10cZdYqZ320hlXwEEgmAMUxLGZznrQFSVg+M7QEuYhrRLYuq8N+OlnM/QG8ibKf\n",
       "HwETle5F3Mrctp63bLFhqDz7T4G4Sk3olqDLx1+BJc83aE1p4FOgJQDFMfUf/B5XszVrMSG1eWMF\n",
       "56m4TxzTbGHCKR33TzUVDTzV9LtgrgL/i/gPC3FU+fLMZv3QF3fB3w2/BeUvVDcSbicNkgMAAAAA\n",
       "SUVORK5CYII=\n",
       "\" style=\"display:inline;vertical-align:middle;\" /></a>, <a class=\"ProveItLink\" href=\"../../../../../numbers/number_sets/natural_numbers/__pv_it/theorems/5fb53e9c076547ad508281e2a2445cff05af57920/expr.ipynb\"><img src=\"data:image/png;base64,iVBORw0KGgoAAAANSUhEUgAAAEYAAAATBAMAAADfQ2bzAAAAMFBMVEX///8yMjJmZmYiIiIQEBCq\n",
       "qqqYmJjMzMxERER2dnbc3Nzu7u5UVFSIiIi6uroAAACibcT0AAAAAXRSTlMAQObYZgAAAAlwSFlz\n",
       "AAAOxAAADsQBlSsOGwAAAQ9JREFUKM9jYCAAFBgIgwZK1HDbd0gzcPr74TWHI+ANA8N+/HbxWHEm\n",
       "MLAwMHV0eHS04VITwSDFwIzdHN5mY0OwmmUXFuJQwye7AWrOguO8E+Bq+O7smtvLPrMPLLVwA8yu\n",
       "BRwMfXA1nBxnGfbnMYSApaTg7lnArrB5Myyc3zE3MKy/wJAPlhJAqGFIZW2B8Tbsf8AQv4FBEcRm\n",
       "dzY2NraAquHZcATuzngGkAJPcPA2IJnDfWAzXM1BBgZLBr5f3CC2AZIahloOuBpPBu5/DDwCy0Ds\n",
       "u/C4KACGVQWMx/Wdge0DA8eECSAOYwBUFMxQhAebAQOvAgOf7gKwg068Bguyy3sAyY3Y44lvBiQu\n",
       "UAAA9FQ8d6roA+kAAAAASUVORK5CYII=\n",
       "\" style=\"display:inline;vertical-align:middle;\" /></a>, <a class=\"ProveItLink\" href=\"../../../__pv_it/_proof_tuple_eq_via_elem_eq/2fa67578b2af9f310f3c641ab402a90dc9ab796e0/expr.ipynb\"><img src=\"data:image/png;base64,iVBORw0KGgoAAAANSUhEUgAAAWgAAAAVBAMAAACZAGlNAAAAMFBMVEX////MzMxUVFRERES6uroi\n",
       "IiIQEBCYmJhmZmYyMjLu7u52dnaqqqqIiIjc3NwAAACW8nlqAAAAAXRSTlMAQObYZgAAAAlwSFlz\n",
       "AAAOxAAADsQBlSsOGwAAA8NJREFUSMelVk9IVEEY/9b993zuvt0OdrOWLhG2sLJgEVjSwVu4RYJk\n",
       "B8tCEIqN7aCnFkKW8uDSxfBQi0LiQXYTgiIELxtUUC8jpFJZjCCKcoUu6pbNzJs3+/7Mm13pA5fv\n",
       "/Wbm9/3mm28+BwBKUMsUxw++lfZAt2cjq4OLNed5VMPHSm3eM+Lhlf8STcS8dhyW2xPUW66CgYLj\n",
       "/Omr1AkmRVEFDA7hzYbEyFnnZY1p3ckxbFYQ5r7uTIrEzNabUxbeAudAEmQlpFeOv7o8I4hS0Z1h\n",
       "kZZMvaJD/MJFYnyCVd0swUMM6xdU27bu+XIC1v56RXc7sAzBS8GqJ8ybYAUpqKYmVoONguMTMTiF\n",
       "N9sEjOEu0rqm8kbvrR6l3rwOSfgWrS/85BZbdIkeaFPEWYqIwSm82eZJDrtKbnayUg8xHFXeyuVp\n",
       "yx0x5tBzHU6xkxsl089hNz8p/6VlJ7rdVgbzlrjhzTYCF9HoIEgJkEdsB7kNPlWDX+iYF+XyURJG\n",
       "QX5+yBr2bQ6uaXBAULeMwWIzWV54SxekYq6g3ZXBW4CWD7ZdZyFU0OCD7Ip1AowD9IGEN2q2OwA7\n",
       "GuwqO4tmDIZA6M+1muCFr37iBqaLQaJ9McgjpqItJwXoXtTgLmPIAZB/Q6hT2bTM7wNPRYM9/WLR\n",
       "hKFqbpLYBDc8sxj+oWJQeeRVuKUDxqJCfXI8p8FFw+HKf8BfBn9OE22o6QpI2xocSAjLgzJkWpaC\n",
       "qbBZtDX88I3VyHKbWXQROpDoRTgSKNkzHQqjatfgFC4okhQV5Ao0ZN8YOxy1TVyrBPbjCPabZmaY\n",
       "6Ur6IsGIY6ZxePnmIFyGJbPoFG5mbjXQK3HKoyHpTlMYN8Z8ljazDiim0UCzVdVhOA4ajNuavAX0\n",
       "By9kTpXh+0ekizRAvmgcXpnLolyMmUWPQTMijD5ef8cRLbdm9Hnn8blewPcFUU99PhANg3LCOn/q\n",
       "KUo0gb2obqEHb6oXf6V1x8wQhf24WG7H2+PxpF00Cd+guvpRCUvx+ED8GBPjDeuTivwaxLBCCF/h\n",
       "n7M6/g1+8aYT+CtJnb0+zAyX4D1suBwzrV3bcDCmlMPGTCMx1beQQLT2qioY30JK2767vCc6gcmb\n",
       "qMk+amYoo1ynJLHoDZRrfyxtFI3FnKTDPx4u8FYR+As5LtLp3fSflG93l9eMCayQAHP2i2hi8ETg\n",
       "Aax/oqKVZzu8p8RpaCwp0RwVzcRM1/F0IRsLaoFjtadrsuwanBjc9TyfYkYxilpzftD4BKjjpbMm\n",
       "HrYxSPWITlfF/AM9+CTFMQekawAAAABJRU5ErkJggg==\n",
       "\" style=\"display:inline;vertical-align:middle;\" /></a> <a class=\"ProveItLink\" href=\"../../../__pv_it/_proof_tuple_eq_via_elem_eq/dd3932a521c3d7ef93cd9404b58177d817af1dae0/proof.ipynb\" style=\"text-decoration: none\">&nbsp;&#x22A2;&nbsp;&nbsp;</a><a class=\"ProveItLink\" href=\"../../../__pv_it/_proof_tuple_eq_via_elem_eq/73d6c5f111a699a5c69c395332488d354b99a1fd0/expr.ipynb\"><img src=\"data:image/png;base64,iVBORw0KGgoAAAANSUhEUgAAAScAAAAVBAMAAAD2sTVgAAAAMFBMVEX////MzMxUVFRERES6uroi\n",
       "IiIQEBCYmJhmZmYyMjLu7u52dnaqqqqIiIjc3NwAAACW8nlqAAAAAXRSTlMAQObYZgAAAAlwSFlz\n",
       "AAAOxAAADsQBlSsOGwAAAupJREFUSMellj9oE1Ecx39pcsnlcrnEQXARuonWwLmIi1Ic3KRRKJTq\n",
       "EETpJEZwqC7eUop0MLgoXTwsKCIlsVDQQcjioA6eBXExJVhcFGkEF9Ni/b13d+/eu3d3KdyDS/L7\n",
       "8z73vd/7vXcBgD6kGlHTjbS8cjedqPMRvq9peR/SaYJyU3LpHVi5xtnayXoiQogTntZKKQqWJc9z\n",
       "vB7xjqKVjBDiyFObaUXNS55FvHZ5R2VEiwhx5OXTaoK8HfY0AHJD3jFlJyOEOPLepRZVDNdax44o\n",
       "CV20PgKxHuItkR08senwG1o0I3a8kFAaD4XVDpJrG9ySPOgdTwQKceQ9xK9z/Sxf7ZApDzGhQLfK\n",
       "wjQZF/3StZe1f8Hu+mu3k05DMY68y+ibA7UO2m0/hZov1o7FMmhCsFqNUFzBGn204To883a2PoS8\n",
       "kwCkcZ53Fcs9AKUDhz/71aemBQtxDDeBjcwg3PmTAPcAdjI9T7ragkonCUjiPA9F5U1oI+etz6Tm\n",
       "H9iuxm03N98fuUaEqEuQ2wXdE4WPMNVNANI4z8PlaztwFwJRrnknnuEmzN/sjX85QcpdD/UUWb5d\n",
       "UIdMFB5D9+0EII3zvNN4ky4c1ftUlAbMJPtUPl5Ywo9bc3AFNkhjmqGcLPbHb3japKLIhEoV2zAB\n",
       "SOIaz1sjEH1GdSvVbjEzM4u7wnPRH8yiCcZqC++85J0AwiBnxBE45daQTBhrZq0AKFL9uMA7iMHa\n",
       "y2+fXFHKLDO38Kmm8VLIe2kGvI8gYczJ0MUHZTIkKoNanrxquqLohAny4vGBLsfigSTO8xS20LSn\n",
       "3rMD0jL6oMvlZgn5atk0Bjj7u5Rzwd/cdW7CKCDPK1iCKLYUWwcO2VCSm5IlbOOzFUzLff1Gv6Kp\n",
       "qM4+gQLvjOf8+fgNFpKdYTf29gBW5b5kCWeh2DdqNhimlJR1j2fj9Y4TTBgFFHgrwj82cYb8CizH\n",
       "KRBuZMZN2AeQ8gwn3Z+EzQjfr3S8/yQyBXFwaEOUAAAAAElFTkSuQmCC\n",
       "\" style=\"display:inline;vertical-align:middle;\" /></a></span>"
      ],
      "text/plain": [
       "{forall_{a_{1}, a_{2}, ..., a_{m}, b_{1}, b_{2}, ..., b_{m} | (a_{1} = b_{1}), (a_{2} = b_{2}), ..., (a_{m} = b_{m})} ((a_{1}, a_{2}, ..., a_{m}) = (b_{1}, b_{2}, ..., b_{m})), m in NaturalPos,(a_{1} = b_{1}), (a_{2} = b_{2}), ..., (a_{m + 1} = b_{m + 1})} |- (a_{1}, a_{2}, ..., a_{m}) = (b_{1}, b_{2}, ..., b_{m})"
      ]
     },
     "metadata": {},
     "output_type": "display_data"
    }
   ],
   "source": [
    "induction_hyp.instantiate()"
   ]
  },
  {
   "cell_type": "markdown",
   "metadata": {},
   "source": [
    "***And now we will be able to prove the induction step by invoking the `tuple_eq_def` axiom***"
   ]
  },
  {
   "cell_type": "code",
   "execution_count": 23,
   "metadata": {},
   "outputs": [
    {
     "data": {
      "text/html": [
       "<strong id=\"last_eq\">last_eq:</strong> <span style=\"font-size:20px;\"><a class=\"ProveItLink\" href=\"../../../../../numbers/number_sets/natural_numbers/__pv_it/theorems/5fb53e9c076547ad508281e2a2445cff05af57920/expr.ipynb\"><img src=\"data:image/png;base64,iVBORw0KGgoAAAANSUhEUgAAAEYAAAATBAMAAADfQ2bzAAAAMFBMVEX///8yMjJmZmYiIiIQEBCq\n",
       "qqqYmJjMzMxERER2dnbc3Nzu7u5UVFSIiIi6uroAAACibcT0AAAAAXRSTlMAQObYZgAAAAlwSFlz\n",
       "AAAOxAAADsQBlSsOGwAAAQ9JREFUKM9jYCAAFBgIgwZK1HDbd0gzcPr74TWHI+ANA8N+/HbxWHEm\n",
       "MLAwMHV0eHS04VITwSDFwIzdHN5mY0OwmmUXFuJQwye7AWrOguO8E+Bq+O7smtvLPrMPLLVwA8yu\n",
       "BRwMfXA1nBxnGfbnMYSApaTg7lnArrB5Myyc3zE3MKy/wJAPlhJAqGFIZW2B8Tbsf8AQv4FBEcRm\n",
       "dzY2NraAquHZcATuzngGkAJPcPA2IJnDfWAzXM1BBgZLBr5f3CC2AZIahloOuBpPBu5/DDwCy0Ds\n",
       "u/C4KACGVQWMx/Wdge0DA8eECSAOYwBUFMxQhAebAQOvAgOf7gKwg068Bguyy3sAyY3Y44lvBiQu\n",
       "UAAA9FQ8d6roA+kAAAAASUVORK5CYII=\n",
       "\" style=\"display:inline;vertical-align:middle;\" /></a>, <a class=\"ProveItLink\" href=\"../../../__pv_it/_proof_tuple_eq_via_elem_eq/2fa67578b2af9f310f3c641ab402a90dc9ab796e0/expr.ipynb\"><img src=\"data:image/png;base64,iVBORw0KGgoAAAANSUhEUgAAAWgAAAAVBAMAAACZAGlNAAAAMFBMVEX////MzMxUVFRERES6uroi\n",
       "IiIQEBCYmJhmZmYyMjLu7u52dnaqqqqIiIjc3NwAAACW8nlqAAAAAXRSTlMAQObYZgAAAAlwSFlz\n",
       "AAAOxAAADsQBlSsOGwAAA8NJREFUSMelVk9IVEEY/9b993zuvt0OdrOWLhG2sLJgEVjSwVu4RYJk\n",
       "B8tCEIqN7aCnFkKW8uDSxfBQi0LiQXYTgiIELxtUUC8jpFJZjCCKcoUu6pbNzJs3+/7Mm13pA5fv\n",
       "/Wbm9/3mm28+BwBKUMsUxw++lfZAt2cjq4OLNed5VMPHSm3eM+Lhlf8STcS8dhyW2xPUW66CgYLj\n",
       "/Omr1AkmRVEFDA7hzYbEyFnnZY1p3ckxbFYQ5r7uTIrEzNabUxbeAudAEmQlpFeOv7o8I4hS0Z1h\n",
       "kZZMvaJD/MJFYnyCVd0swUMM6xdU27bu+XIC1v56RXc7sAzBS8GqJ8ybYAUpqKYmVoONguMTMTiF\n",
       "N9sEjOEu0rqm8kbvrR6l3rwOSfgWrS/85BZbdIkeaFPEWYqIwSm82eZJDrtKbnayUg8xHFXeyuVp\n",
       "yx0x5tBzHU6xkxsl089hNz8p/6VlJ7rdVgbzlrjhzTYCF9HoIEgJkEdsB7kNPlWDX+iYF+XyURJG\n",
       "QX5+yBr2bQ6uaXBAULeMwWIzWV54SxekYq6g3ZXBW4CWD7ZdZyFU0OCD7Ip1AowD9IGEN2q2OwA7\n",
       "GuwqO4tmDIZA6M+1muCFr37iBqaLQaJ9McgjpqItJwXoXtTgLmPIAZB/Q6hT2bTM7wNPRYM9/WLR\n",
       "hKFqbpLYBDc8sxj+oWJQeeRVuKUDxqJCfXI8p8FFw+HKf8BfBn9OE22o6QpI2xocSAjLgzJkWpaC\n",
       "qbBZtDX88I3VyHKbWXQROpDoRTgSKNkzHQqjatfgFC4okhQV5Ao0ZN8YOxy1TVyrBPbjCPabZmaY\n",
       "6Ur6IsGIY6ZxePnmIFyGJbPoFG5mbjXQK3HKoyHpTlMYN8Z8ljazDiim0UCzVdVhOA4ajNuavAX0\n",
       "By9kTpXh+0ekizRAvmgcXpnLolyMmUWPQTMijD5ef8cRLbdm9Hnn8blewPcFUU99PhANg3LCOn/q\n",
       "KUo0gb2obqEHb6oXf6V1x8wQhf24WG7H2+PxpF00Cd+guvpRCUvx+ED8GBPjDeuTivwaxLBCCF/h\n",
       "n7M6/g1+8aYT+CtJnb0+zAyX4D1suBwzrV3bcDCmlMPGTCMx1beQQLT2qioY30JK2767vCc6gcmb\n",
       "qMk+amYoo1ynJLHoDZRrfyxtFI3FnKTDPx4u8FYR+As5LtLp3fSflG93l9eMCayQAHP2i2hi8ETg\n",
       "Aax/oqKVZzu8p8RpaCwp0RwVzcRM1/F0IRsLaoFjtadrsuwanBjc9TyfYkYxilpzftD4BKjjpbMm\n",
       "HrYxSPWITlfF/AM9+CTFMQekawAAAABJRU5ErkJggg==\n",
       "\" style=\"display:inline;vertical-align:middle;\" /></a> <a class=\"ProveItLink\" href=\"../../../__pv_it/_proof_tuple_eq_via_elem_eq/e4f77c4c5eb59851a38ef0df785f366ea896b7bf0/proof.ipynb\" style=\"text-decoration: none\">&nbsp;&#x22A2;&nbsp;&nbsp;</a><a class=\"ProveItLink\" href=\"../../../__pv_it/_proof_tuple_eq_via_elem_eq/c8bd885db02a8c4a981cf7403c81c0a2903d954c0/expr.ipynb\"><img src=\"data:image/png;base64,iVBORw0KGgoAAAANSUhEUgAAAHgAAAATBAMAAACpedR4AAAAMFBMVEX////MzMwyMjKqqqoiIiJm\n",
       "ZmaYmJju7u5EREQQEBC6urqIiIh2dnZUVFTc3NwAAAAqL9KcAAAAAXRSTlMAQObYZgAAAAlwSFlz\n",
       "AAAOxAAADsQBlSsOGwAAAQ1JREFUOMtjYCAKsHc6MJAPmAIo0MxvQIHm9QUUaD6CXZjvzr4NhDXr\n",
       "7r6MTXjlA47v2DWwuoDBBVBofyqof4AlEqYxsKJHA3sSuirm7wycGzAVsX5gYDmAJAaKEuktGI5Q\n",
       "YOA/gKmIs4GhfgGSsgYQYYKuGWj+egNMRfUbGPIZGFITd1/Y1oimGcnPwGiOL8BUVG/AcIn5edY0\n",
       "hrkMe3HbzC/APo0dUxHHBmZXVr5qBYaPDDG4NfMmcARgUcR+++DbjQy8GxgnMDgzsHZ0zOhow6KZ\n",
       "/U4YA05FnALcDXwfBHDajFfRe6CxbA0B+DXjUrSWgekB3+0CqPgb/dPYNBNW1EBMNsGliKhMD1UE\n",
       "APFTXwGmwp5DAAAAAElFTkSuQmCC\n",
       "\" style=\"display:inline;vertical-align:middle;\" /></a></span><br>"
      ],
      "text/plain": [
       "<IPython.core.display.HTML object>"
      ]
     },
     "metadata": {},
     "output_type": "display_data"
    }
   ],
   "source": [
    "last_eq = eq_conds_conjunction_partition.derive_any(1)"
   ]
  },
  {
   "cell_type": "code",
   "execution_count": 24,
   "metadata": {},
   "outputs": [
    {
     "data": {
      "text/html": [
       "<strong id=\"a_mp1\">a_mp1:</strong> <a class=\"ProveItLink\" href=\"../../../__pv_it/_proof_tuple_eq_via_elem_eq/2b5a28624994429edf509f4c13e184f339fe32fe0/expr.ipynb\"><img src=\"data:image/png;base64,iVBORw0KGgoAAAANSUhEUgAAAC4AAAAOBAMAAACiOzMyAAAAMFBMVEX////MzMwyMjKqqqoiIiJm\n",
       "ZmaYmJju7u5EREQQEBC6urqIiIh2dnZUVFTc3NwAAAAqL9KcAAAAAXRSTlMAQObYZgAAAAlwSFlz\n",
       "AAAOxAAADsQBlSsOGwAAAKZJREFUGNNjYOC7s28DAxaw8gHHdyzC7NMYWB3QxZIYGFg/MLAcQBIL\n",
       "AGLpLQwMnA0M9QuQxBtAhAkDQ/0GhnwGhtTE3Re2NaKIGzBcYn6eNY1hLsNeZHGODcyurHzVCgwf\n",
       "GWKQxdlvH3y7kYF3A+MEBmcG1o6OGR1tYHEI4BTgbuD7IICkHgLeA3WwNQRgiK9lYHrAd7sAKv5G\n",
       "/zSG/xsYsIMACAUAyj8t3XLhOhIAAAAASUVORK5CYII=\n",
       "\" style=\"display:inline;vertical-align:middle;\" /></a><br>"
      ],
      "text/plain": [
       "<IPython.core.display.HTML object>"
      ]
     },
     "metadata": {},
     "output_type": "display_data"
    },
    {
     "data": {
      "text/html": [
       "<strong id=\"b_mp1\">b_mp1:</strong> <a class=\"ProveItLink\" href=\"../../../__pv_it/_proof_tuple_eq_via_elem_eq/2e9e170a14c7b9e8f46fd2a0675729b550abe2b00/expr.ipynb\"><img src=\"data:image/png;base64,iVBORw0KGgoAAAANSUhEUgAAACwAAAATBAMAAAAZhvJKAAAAMFBMVEX///+YmJjMzMzc3NyIiIhU\n",
       "VFR2dna6urqqqqpmZmYyMjIiIiIQEBBERETu7u4AAAD7tRWPAAAAAXRSTlMAQObYZgAAAAlwSFlz\n",
       "AAAOxAAADsQBlSsOGwAAALFJREFUGNNj4LuzgQEb4JqAVZi/Aatw/QOswtlYRRmWukRgEeX79eC9\n",
       "AaYwxz8GHgc0lVIMDJwLGPgTEEIg16p4MzBwJzDUIznxAojoBjt7/gNJIZcAx0sowgp8B/nEDzIc\n",
       "ZXBFFmYV4J3A/GQBwyeGacjCfGETgXIOTAcYdjBw3r179u5FsDAY8CiwXGD+oICkGgzsgeoZL0xA\n",
       "Fy5l4DJgDnkAFTZbn4Lu6QvYAw4aJwD42DFWz5yh4wAAAABJRU5ErkJggg==\n",
       "\" style=\"display:inline;vertical-align:middle;\" /></a><br>"
      ],
      "text/plain": [
       "<IPython.core.display.HTML object>"
      ]
     },
     "metadata": {},
     "output_type": "display_data"
    }
   ],
   "source": [
    "a_mp1, b_mp1 = last_eq.operands"
   ]
  },
  {
   "cell_type": "code",
   "execution_count": 25,
   "metadata": {},
   "outputs": [
    {
     "data": {
      "text/html": [
       "<span style=\"font-size:20px;\"> <a class=\"ProveItLink\" href=\"../../axioms.ipynb#tuple_eq_def\" style=\"text-decoration: none\">&nbsp;&#x22A2;&nbsp;&nbsp;</a><a class=\"ProveItLink\" href=\"../../../__pv_it/axioms/1eb3a9f2b67de7239ba27a19d778534a9eece6400/expr.ipynb\"><img src=\"data:image/png;base64,iVBORw0KGgoAAAANSUhEUgAAAukAAAAzBAMAAADY0ItYAAAAMFBMVEX///+IiIgiIiIQEBB2dnbu\n",
       "7u5ERETMzMzc3NwyMjK6urpmZmaYmJiqqqpUVFQAAAB6qHgnAAAAAXRSTlMAQObYZgAAAAlwSFlz\n",
       "AAAOxAAADsQBlSsOGwAACldJREFUeNrtXH1sHEcVf767ve/znUvSRqoJJ9Oo0BBkqlIiaOFc8dk2\n",
       "6SYkKZVo7gJKiEIRFyxBq6J6U6j/QXIPoSLUlvaikD8qQD5BRdUSEUdVkCBBuZhUwQjIWQQQqAgX\n",
       "9VQ3qmXmzcx+zMzuObtrTqukI+16Pt6+nf3tzJs3b39nAM+k7dypw9tptdMKsMaWl1t97U+yfkXD\n",
       "vYuBnVxervVCvdnnbr16ZQ/y1AaeyUcJ9cGKWDbIkV4FvcZl1vlK6QCdm40i6r8RiwNtcnrnKug9\n",
       "rFZR3aFStsQOPynRiR7q6c1i+Rw5CpWQK9cXywTiGaX+XMi+PvQRGCZ/hn1e9r7ooR4TR47WIKf7\n",
       "wirNoD/whPIyGmH1LkGGrI0Znz7e7/XIof6yWMzhCD0WVmkRTckpuTY3E9a+dCFP3me+FWAMRAv1\n",
       "W8RiHE+jYZVO4+iKy0MyHlZtghiuDwI7/LysxaihPtAVy3No1kNbgjvoEJOH9txqGK6ngR1+0jNR\n",
       "Qz3WEcvPoyXAxXRq7JBzzb24bgXPQZB/Zujftu8g6IaxYeemTCypydk+NTZBDNdWYIefdEGPGOoT\n",
       "0lM/zQdpdjN81WEhjhjJbu9ZTOU15pBrb+pVA/I4ZXIjNHVM3Y+2c46HF0tqou2fc96BOrrU2XVq\n",
       "XiFVSxFD/a9SeRP2gAypz87AzwA+z22NdhvkyrBj69889TD5BJsQhS7ES1AYddF9A2nRrC0Clnpp\n",
       "xXYYs+7wIjok/PAV8yhHDPWPSuUP46pHenAcHzk1VObexwLEKtBCYD0SlbeclQYUK5BaUHXncMYc\n",
       "vMaUw1IPrbmueocJfvhJ+cVooZ56ywP1W0G7RAYtRz1eg2oTLsHjnlaYyZuPUIHpNmRHVd3xmnOP\n",
       "Tks9tMZr6h2O8MPXru2taKE+sOhuYbTXIL9go04M4xmAk974MPnsestdP66zi53Wd5NpYWed9raH\n",
       "Vtp+uOO4A7t21qddZzM6Oqgn5fG4BytLoC3BYOMPFDgNH78N/ywY1CNU94UowOS3FXXaXqyThUB9\n",
       "SqK7SBbqJkUNr2Ilb63YfrTUpc28R/BrYIev9IVooR6Xe7KVh4v2wGyrRVGvNvA9FDbmaNBUe5P6\n",
       "KMDqrQyTf2yW1QzOJFvcAZV0E5ckUaeo41WsZGqlegSt2P7g/WVWwXpE3c/n/T7mPRx1OjH+5IH6\n",
       "IHUEZvqAelXeXH8NjT3BeveaB+frFPXYBoLD/KemrgOYJGNuBIflRuxny8xgAJvJ72Ht2sVjbsMH\n",
       "dX/89FpmIehVtGRqpQpFrdhOZh5tZneAm4AdvtKZJkP9JSz8wAP1HApljH646/LeJ4Y29kazRE3z\n",
       "K9ZWqZU2oKAaA0tA69Yd7Y+Cm27Lrr9ymVqr94KjOV1mR4DHJKg/ghpqHqincCZM9sPCXJAj3jSy\n",
       "dEpA3TIUk994WIeEqsQSKDRajnYlhmZFrWadV62kdY6YtoQQQfMfRaNTmqCO0cpE28uuY5B0Sz9Q\n",
       "P6O4D/txOeXTLP2Z18nCak2Hjy0vA2xT1z1LQJs37HaXMbWf/fn2s2OOq1bSunuds3ky0Hgsdhjq\n",
       "efK+Mp6r6Wnyt9EP1N+lmLFd+MROwAbEdjUcM+DenlQt5K6Vr3JvLwkvbr9/1Gvch7l5ZOQWT9Tj\n",
       "IyPvrvQD9XsUe5rGJzy0CqrXqVXpUlilAwY7/LpqDY76CwB7wQwXyajn6pDsCynm+NVBvYmVOepT\n",
       "kO5Y4aL0xjvh5Y6NOmma8qP1oZrPIW6a8//A1YH6KEc9qSe4P3vw7wfgLwk9pzt2SXvhTj9aB32a\n",
       "o8fhKkW9UOKLae4F3C+VWgnn3vSsv8U07pO+de3VamGgcQJouIjyDM7/8ZCAeiZPTI929xrT7O84\n",
       "8WlVl105MURj1GMnzCY7Z6fEcMm87ruWqVHXFawJQvZxLJpulUZwXenLu4N1G8N7NYUtxCnfVtSZ\n",
       "l3Y+cf+PnKgn5sgg3G5McAXae1KLqkdrV16jX0+vHLd0jKsduik1al73huU5KpPEYiEFZyK50YSC\n",
       "EpDcaUfefTsMbvyneMdE/Vsk99gsZOlG6zy0rnWinsbY5C9hnEUpINciiP30ejGwQSuBvrQH6Eet\n",
       "X8C9TBxz2bMviXfO1bQ6lSbXLXjvkkwWUhgmkgtN6FwYXbI+0rddN7vIpr7XQu6Tyn8qtkzUB+s0\n",
       "kJb//r59XyGo78gIMcd/AH4FWA+pWUpyaA50YFQTP87QSpY+BL+i8lycfj+AqvS+m/Z1lstzQY5Q\n",
       "WSykMEwklSYUnIDkpB2Zm3ns21Ouu6E23dYr/KdqBRyRXq1bT1XYWM+eFVDHxkV4YCfE8I5VI3lS\n",
       "N1JiMJxWnqOzbwFuJ2e0N1Qcc2mQjEyRWCsqTa5ba8IyIQ8Li4UUhomk0oSCE5CctKPtDTvCs+Qm\n",
       "PK3TGNIpr+iXHS7ai5nfAqyXUYfNqUsnEcYdEDcmfqJDskmyWsU80co/t7CwIV8j5ychgeI8BwdA\n",
       "EM80oUKk6XXf1J1TT5gReBqFkEwkhSYUD6eL6xv+F/s7SmlgLukOxn1S+E80yGeP9XkDJomlSb3X\n",
       "YEF1AfUf/27NDMI43s4eO3s33c6Ot1ObYdzAE6tM1iF1Ozw8hOfvnF6L4jxH9reCePrYCZ1Im8r4\n",
       "zeSZb7KQwjGRFJrQXDhdXF/563ysMhqYmp5itBKF/0TDTcK3JO2T+w7IEQFnkbw3Zs4SesnMYmK5\n",
       "7QXSC9YXS5zlPjEAijhKC87EoDykTRZSOCaSQhMKQUCyaUeFCvvmgH3LzK+XvaL0xeuW2Icwhf9E\n",
       "N4M+vuCl3rEFsmzCPLtcNrPoUvEffqwFOEpzR01xlsss/xcUcSKdFWZfvusysszhEpyJpNCEQhCQ\n",
       "LNoRZIwCNYjYt+oT2qJ0D9Y/5D7l5Yl6q0/Uqbhb1lE54ziLORfxvOhryYuSyUIKx0RSaEIhCEg2\n",
       "7egRAPprF+zbBR0+ILlJtyEPh3KfZP5T+rUAqP8/kxcLKRwTSaEJhSAg2bQj4k0PmT7wiwCvS1fQ\n",
       "/lHuk8x/ihoLCX7eA/XgTKQjLqjH6UP7JyBZtCP0+bebqN8A2SXlCtI/yn2S+U+D5YihPt30tDAh\n",
       "mEgKTSgEAcmiHeEeKdfm/Vtis8FxD9Y/2t2C5OAUo8YujUkOO2chhWMiqTSh4AQkm3YUQwvd4P17\n",
       "A1cR8T2x/iG2Mr5nosaklp0Yk4UUhonkQhMKTEBy0I5oGPVLvH+vwpelW/D+WW6vI70fIoa6/AsZ\n",
       "k4UUiomk0oSCE5Bs2hH1dw7y/u2+S94J8f4hfBKE0fuFDJ999t1NFlIYJpJKEwpOQHKjHd3Yy88H\n",
       "hf+U7EQO9UxFDVwJEaQATCQ11hWcgORGOzrV43lcInfT0fvlY0r6la/JQgrDRHKhCQUmILnRjlyo\n",
       "NtZcrKn8p00QOdTtb6gsmSykMEwkF5pQYAKSG+1I88bPOWB4iuIv2mV+gcVCCs5EcqMJBSUgudOO\n",
       "vPu2DhT+03NwOaif7PN/5fkhXNEpxb4saTu39UT97f/Ks6rpPvu/8vwPdahgSreprzwAAAAASUVO\n",
       "RK5CYII=\n",
       "\" style=\"display:inline;vertical-align:middle;\" /></a></span>"
      ],
      "text/plain": [
       "|- forall_{i in Natural} [forall_{a_{1}, a_{2}, ..., a_{i}, b, c_{1}, c_{2}, ..., c_{i}, d} (((a_{1}, a_{2}, ..., a_{i}, b) = (c_{1}, c_{2}, ..., c_{i}, d)) =  \\\\ (((a_{1}, a_{2}, ..., a_{i}) = (c_{1}, c_{2}, ..., c_{i})) and (b = d)))]"
      ]
     },
     "metadata": {},
     "output_type": "display_data"
    }
   ],
   "source": [
    "tuple_eq_def"
   ]
  },
  {
   "cell_type": "code",
   "execution_count": 26,
   "metadata": {},
   "outputs": [
    {
     "data": {
      "text/html": [
       "<strong id=\"tuple_eq_def_inst\">tuple_eq_def_inst:</strong> <span style=\"font-size:20px;\"><a class=\"ProveItLink\" href=\"../../../../../numbers/number_sets/natural_numbers/__pv_it/theorems/5fb53e9c076547ad508281e2a2445cff05af57920/expr.ipynb\"><img src=\"data:image/png;base64,iVBORw0KGgoAAAANSUhEUgAAAEYAAAATBAMAAADfQ2bzAAAAMFBMVEX///8yMjJmZmYiIiIQEBCq\n",
       "qqqYmJjMzMxERER2dnbc3Nzu7u5UVFSIiIi6uroAAACibcT0AAAAAXRSTlMAQObYZgAAAAlwSFlz\n",
       "AAAOxAAADsQBlSsOGwAAAQ9JREFUKM9jYCAAFBgIgwZK1HDbd0gzcPr74TWHI+ANA8N+/HbxWHEm\n",
       "MLAwMHV0eHS04VITwSDFwIzdHN5mY0OwmmUXFuJQwye7AWrOguO8E+Bq+O7smtvLPrMPLLVwA8yu\n",
       "BRwMfXA1nBxnGfbnMYSApaTg7lnArrB5Myyc3zE3MKy/wJAPlhJAqGFIZW2B8Tbsf8AQv4FBEcRm\n",
       "dzY2NraAquHZcATuzngGkAJPcPA2IJnDfWAzXM1BBgZLBr5f3CC2AZIahloOuBpPBu5/DDwCy0Ds\n",
       "u/C4KACGVQWMx/Wdge0DA8eECSAOYwBUFMxQhAebAQOvAgOf7gKwg068Bguyy3sAyY3Y44lvBiQu\n",
       "UAAA9FQ8d6roA+kAAAAASUVORK5CYII=\n",
       "\" style=\"display:inline;vertical-align:middle;\" /></a> <a class=\"ProveItLink\" href=\"../../../__pv_it/_proof_tuple_eq_via_elem_eq/4b37382bb33972516f90ec44f8e172fd5056c46d0/proof.ipynb\" style=\"text-decoration: none\">&nbsp;&#x22A2;&nbsp;&nbsp;</a><a class=\"ProveItLink\" href=\"../../../__pv_it/_proof_tuple_eq_via_elem_eq/bf2c9f92e26454beca8b61f9da3d336f614df1ed0/expr.ipynb\"><img src=\"data:image/png;base64,iVBORw0KGgoAAAANSUhEUgAAAecAAAAuBAMAAADgs8yvAAAAMFBMVEX////MzMxUVFRERES6uroi\n",
       "IiIQEBCYmJhmZmYyMjLu7u52dnaqqqqIiIjc3NwAAACW8nlqAAAAAXRSTlMAQObYZgAAAAlwSFlz\n",
       "AAAOxAAADsQBlSsOGwAABqlJREFUaN7tmU9oXEUcx3+bzWZfNrsv20PFS3HxIloDWxaqCIbgITdp\n",
       "FAO15hD/URCKq/GQeHFBStAIBi+GHvRhwFKk7BoIKCrkEtHm4BqRotiyNBS0oknBS9NgfDO/mXkz\n",
       "b2bee+HtnswPfiG/38x85jf73szb/T4A6AB6j8xNmOuGJV5KaQ29V9bf1nO/9WiuJ5nH2gbzntlV\n",
       "LVNswfLLckKNdNPaLQNKdfQ4Kyyi984GvXDmku9LSmYphrEUm0C7wDzGnDp67yzfCGfmfd9TMnsx\n",
       "jL3YBNos8xgbYN5DeyWcmPZ3+q6y73djzoXduARfjYceY98z76F9GN7S/m4ampAzaqSb1m4bMFhH\n",
       "j7EF5u7x6/IxGwoNTx2tg3XISnhHtfzKRjalJ4YaGdYSbrcNGKqgJ7gMxMc7WfmWCYW66R2sQ+bI\n",
       "n/OTxJ7ml6N5ofBv0EONdNPabQPyi+jKfLpNoRfOgjMBhTl+ptPws5WHrIc+7RCdAcb7NpTN+Rfp\n",
       "Bw/OwUX+1CBR4av7rZuR9o5MAMKK0+gx9hK6swO5Fhz7md+BNGzAeeuhTztEZciZjbz7wqfNGMA7\n",
       "AHcz1/iHRCJH/8yEkfaIhOM7wjI76MkWPVCFpl/LOq+Lhv/Adtl26GP/iEyV/KG8ccOin4P+PSjy\n",
       "VZJoeMy9bSuS9rYnsvR4JLD+afQYY7d3sw1vQbBoDN+0Lxo7zL52rXL1hDkTLHo9tMfI7b0Hzm6w\n",
       "aBLlPfuiafv8sc3STNmUCBZN/iA1ck8/jt5cgweLHVof2VkshFUMQzuVd7j1xll4ATZNGXnRM6Hx\n",
       "Wf+Qvw2f1rE8wqcReQ4V9AJ5+8Xx+kClVDEkpEXnq+gxtoKebRdPO7TIwh0QYeYMhs1FCP6hf2gH\n",
       "9/KiP/2CKSMvesHwXHkAHsU6KZZGcNQLJlKnJe23foHhsv+00xLyoknotGIXfRS9MPL5jR+xyElP\n",
       "hFsehjlyKp0G9k/uDO/Q185Mk82hZZxa7cXaI2zRz4SmzPjlffJFndVJ+DRyH0MQnSiYTbSPwD10\n",
       "Z4QTb9dO1mrstsmNocdYroyORoosihvabbgdKRR2RRxJ5VLV3SmbMsGVdrVD+Sn+1WxCnu53+FsC\n",
       "Bd/fePvz8BNsZwwJ6UrfZJ7g50Dwk4AUOSTato7c60mhMHH/bPtXNl9tmDLBovWfM7PyojnfPXHk\n",
       "XQkUbAbevuNf2hnHkJAWPc88zkaZE/vz428ALoumV/f35VAcZOLb5hMw2HFHPEMGF015Wxogi+qG\n",
       "++XddsAf2N/fkUDCeHt/BT6CG78aEnTRFOb6k7rVBIteZi4sNK9eRilBhl1pkD5R6VOr2vgGUDs2\n",
       "gVeaf5rZJHqR20bvtvEtUzIU8Vd3p3L4P9eZH9qhHdr/zTrQFcG/kzB30LK6R5SYXOxPK/gbRPZU\n",
       "SKNwn7JIwdyA7gj+BpF9I6TKF05GC4BKu1G4T1qkZSbO5GJ/esFfE9kpUlHlBxvRCKVdFu6/loiJ\n",
       "zDITY3KxP73gr4nsFKkoHsMxd6fSLgn3hWclYiKzzMSYXOxPL/hrIjtBqqr8KS8aobRLwn3p9TFB\n",
       "TGaWmRiTi/3pBX9NZCdIVZVfjUGshnmMmctUBTGZrdpr9J2L/ekFf01kJ0hVlf/g2sORQKVdEu43\n",
       "/N9TYC4yCUljcrE/veCviewEqajyhTteM+pBq7YHwr2/5O8AzEXKZwiderISMRNjTkG3BH9NZCdY\n",
       "RdQv7sJAOwJI2xUeMjMVyHkgFxkqZC6aFHRiTKZ7d0Hw10R2glVEfWcRhltRQNKu8JDZV4ZSG+Qi\n",
       "1V+womQLKejEmNKiUwr+mshOsIqo71d7ai0CSNsVHjIv+ddpApQiVa1iPZoUdGJM6fZOKfhrIvsU\n",
       "hER9/+H5vhcBpO0KD0eSrybvgVyk6Z2CvKdVUtCJMZnYn17w10V2ghWiPhkwXPZ3ZASQtBcUHjLJ\n",
       "yv8AqUjjOwXl41NIQSfGZGL/AQR/EYXkfU1kJ1gh6pMBffVsQwWqrxFIu8qjzDzZz9myVKTxnYJs\n",
       "KklSZpHJxP4DCP6ow2uCvy6yE6wQ9emA40SeVYDBawTervAos4/cF5m2XKTpnYJy30gkuRNjcrE/\n",
       "veCviewCSXfmlYRAhXfTQjS8UzActHonxuRif3rBXxPZBZIuupUQqPDmLUTDOwXdDJ04cxS6I/gb\n",
       "RHaGpDq8GBAHlHkaczTUSXqnoJveSTCXoTuCv0FkX7YOSAA0CvfL2rgk7zNEJ8HkYn9awd8gsqdC\n",
       "GoV7ndhIwmqozP8A3z0xOiuhO8AAAAAASUVORK5CYII=\n",
       "\" style=\"display:inline;vertical-align:middle;\" /></a></span><br>"
      ],
      "text/plain": [
       "<IPython.core.display.HTML object>"
      ]
     },
     "metadata": {},
     "output_type": "display_data"
    }
   ],
   "source": [
    "tuple_eq_def_inst = tuple_eq_def.instantiate({i:m, c:b, b:a_mp1, d:b_mp1})"
   ]
  },
  {
   "cell_type": "code",
   "execution_count": 27,
   "metadata": {},
   "outputs": [
    {
     "data": {
      "text/html": [
       "<span style=\"font-size:20px;\"><a class=\"ProveItLink\" href=\"../../../__pv_it/_proof_tuple_eq_via_elem_eq/e69ae6f8d6cefc57f09a9c919aa48aef65a02b8f0/expr.ipynb\"><img src=\"data:image/png;base64,iVBORw0KGgoAAAANSUhEUgAAAuUAAAAYBAMAAACvh54jAAAAMFBMVEX///+IiIgiIiIQEBB2dnbu\n",
       "7u5ERETMzMzc3NwyMjK6urpmZmaYmJiqqqpUVFQAAAB6qHgnAAAAAXRSTlMAQObYZgAAAAlwSFlz\n",
       "AAAOxAAADsQBlSsOGwAABlhJREFUaN7tWm+IVFUUPzM7b2Z237zdWZMSkmVZWohEWMJKRGuUpD6o\n",
       "PMv2ozsR5RILrQpaSO30hyUJdL4UfZCaKP1S5BT9WUxz/GDhWjRuBoYhI+iHPhRrIP6B2O555757\n",
       "3/3zZtMhsqEDZ/aec8/7nft+775z730K0K5S4nrzko2D/feGdGtLok7agnTl7bA3Le9xbaDxS/tx\n",
       "fpprK7LYBus81R+xVcsUpT9RIz2ExtttR7lTJm1JOn0bbGdVianOgxHtf5P0JSxcxbbj3K2RtiS5\n",
       "qg22RykvPfMUG6X/JCk+y1S97Tjv4Nqa3GeDPajM/oN+cwilv8MPNMeeXGf7lfOfubYm+2ywaxTP\n",
       "mnkglP7OGum9AwPL2o/zz7hmLyyK7j72rH55nv2hEr/BBvtO728Rj2qZovSnGqRfAjzdfpzv4/p+\n",
       "KX05svtbDs81rwVq/Imghg8E0uCwzjV/RG6yVcuyliv9uTLpHsg2/snFjP54cQPjs+pM3DZbd3hN\n",
       "DxUifCmpsxLcyGbt8Rp82ny7o8b/qPczSO8ydMhXQbVM0aKHSNN+qnKDPL5QNFu2XpQ0/ZnWozJv\n",
       "RZ9JrhKHom8dppuOR4SvIHVnIVkA5wT3HgW4C5yHf4+d6xQvZELvR8gy9BQEYmBt2nAxFhD75U3P\n",
       "knr5G15Cuwtmy9YrOXfMV+kCf92D6M2xKB9oE7HRdDwinHPeUYSRCmxdwL33g3OdPWU39hxD8bLS\n",
       "WDhnz+RgXSAGVjX+7Qn6ZW0bIoXysRveiI2bLVuv5Nw1X6UHIucEOplZUbRziVtpOh4RzmvLSB5+\n",
       "YK0Z/sAuQW4WeirZK3F3xuNDmdHr+dJgw33UDxHJug57x+O350flHXj9pLAe73rTsUfDmbRuoVky\n",
       "VedE70WjZeuVnCcN3MylPhrLevzpN/pDFO3skLQNMJIxDH+SdKQOv7IVABli2Zw/obt8Jucj52Z5\n",
       "QQ/Fn/y2t7F4CzO/0WMYZM84K/ohIlnHkXMT0An7BV6uSAqvsifo3J25yiMfK02YnKvOBf6dRsvW\n",
       "KznfHYH44hkmtcRggmrvWdyhlWW/i91jAsVTC/puZSxabCR8A2k67y1xA4acawFlM1UWkOonc6QM\n",
       "WiOId6ZXwoPQx7eGijDI7lq6KhHJYrtwFUdY2C/x3AIpdLP3wq1mhiAb7Bm/gu3QdUp72dEpZYxt\n",
       "oiZ93jJix+CEwfkBDjEpZkO6lisHCQ9gnSsaeUPkLnWVPqCPRcsYhm8jdc4/sucOmpUDLPXmhc+f\n",
       "Z3e7zScziXQtAd5ATxCf3ViGKwHf9+icI+SFwyARycoMaoCEOkj9Ei9ZIaWKWEk04MVBWib62BF3\n",
       "RF87+pRS/HVmxuctI5b5DM7PEQS/imqw2wgS7sDZ2TDyhsgZlfNz+li0jGF4cpxU1mVPpA4etWfU\n",
       "AunpzrMZyEp31lhrBaSKiFPJBISfNDx4hSutHaX0cR+QAucqjD2R1aZS4Mwd+e7Q6SDnLKyCpM9b\n",
       "eiz6ZCjnfAdBBFdRbemBjnqQ8CwxJfLyehEia7VlhzIWGRtmDMPx85T8RIUMpQTGG/B61BRLQWRN\n",
       "ThSzs+OWj2QCUkHMVrMlCyAUNDzAd+KwyFKa+Ag5dwqwPHP9OMCz2NwkftDp3Q4rvAJag2wdYOzx\n",
       "lh7LfDxUWUMD3KSYDEmfLVDIeS+7CtfQMC8XjgyJvALOgSIJKDZ0JMIDyChXwdBGwdCWnZ9HTCHS\n",
       "s5fNzFyxCpMmjaM2xMmdu3wLoJPX8PD7rfyG23X41DqkILMKPvx+YQ3ccWxuL2WW4w93bnHKbh39\n",
       "u3qRs7Clx6KPQiXn6RJBSM4zn+SJ81HYXsdbCfNy4cjsSgU8BJIJeCx3pMPldZgrymvvrhYHXja/\n",
       "5uZmI6Z+ImbyMXSWsud9+cykDNsQH5qbswEmdDwcXFrboDAKPGqtTYgmiFa/V0jmQgvZ82Jjeajg\n",
       "vKsA4io1ocOee10cZdYqZ320hlXwEEgmAMUxLGZznrQFSVg+M7QEuYhrRLYuq8N+OlnM/QG8ibKf\n",
       "HwETle5F3Mrctp63bLFhqDz7T4G4Sk3olqDLx1+BJc83aE1p4FOgJQDFMfUf/B5XszVrMSG1eWMF\n",
       "56m4TxzTbGHCKR33TzUVDTzV9LtgrgL/i/gPC3FU+fLMZv3QF3fB3w2/BeUvVDcSbicNkgMAAAAA\n",
       "SUVORK5CYII=\n",
       "\" style=\"display:inline;vertical-align:middle;\" /></a>, <a class=\"ProveItLink\" href=\"../../../../../numbers/number_sets/natural_numbers/__pv_it/theorems/5fb53e9c076547ad508281e2a2445cff05af57920/expr.ipynb\"><img src=\"data:image/png;base64,iVBORw0KGgoAAAANSUhEUgAAAEYAAAATBAMAAADfQ2bzAAAAMFBMVEX///8yMjJmZmYiIiIQEBCq\n",
       "qqqYmJjMzMxERER2dnbc3Nzu7u5UVFSIiIi6uroAAACibcT0AAAAAXRSTlMAQObYZgAAAAlwSFlz\n",
       "AAAOxAAADsQBlSsOGwAAAQ9JREFUKM9jYCAAFBgIgwZK1HDbd0gzcPr74TWHI+ANA8N+/HbxWHEm\n",
       "MLAwMHV0eHS04VITwSDFwIzdHN5mY0OwmmUXFuJQwye7AWrOguO8E+Bq+O7smtvLPrMPLLVwA8yu\n",
       "BRwMfXA1nBxnGfbnMYSApaTg7lnArrB5Myyc3zE3MKy/wJAPlhJAqGFIZW2B8Tbsf8AQv4FBEcRm\n",
       "dzY2NraAquHZcATuzngGkAJPcPA2IJnDfWAzXM1BBgZLBr5f3CC2AZIahloOuBpPBu5/DDwCy0Ds\n",
       "u/C4KACGVQWMx/Wdge0DA8eECSAOYwBUFMxQhAebAQOvAgOf7gKwg068Bguyy3sAyY3Y44lvBiQu\n",
       "UAAA9FQ8d6roA+kAAAAASUVORK5CYII=\n",
       "\" style=\"display:inline;vertical-align:middle;\" /></a>, <a class=\"ProveItLink\" href=\"../../../__pv_it/_proof_tuple_eq_via_elem_eq/2fa67578b2af9f310f3c641ab402a90dc9ab796e0/expr.ipynb\"><img src=\"data:image/png;base64,iVBORw0KGgoAAAANSUhEUgAAAWgAAAAVBAMAAACZAGlNAAAAMFBMVEX////MzMxUVFRERES6uroi\n",
       "IiIQEBCYmJhmZmYyMjLu7u52dnaqqqqIiIjc3NwAAACW8nlqAAAAAXRSTlMAQObYZgAAAAlwSFlz\n",
       "AAAOxAAADsQBlSsOGwAAA8NJREFUSMelVk9IVEEY/9b993zuvt0OdrOWLhG2sLJgEVjSwVu4RYJk\n",
       "B8tCEIqN7aCnFkKW8uDSxfBQi0LiQXYTgiIELxtUUC8jpFJZjCCKcoUu6pbNzJs3+/7Mm13pA5fv\n",
       "/Wbm9/3mm28+BwBKUMsUxw++lfZAt2cjq4OLNed5VMPHSm3eM+Lhlf8STcS8dhyW2xPUW66CgYLj\n",
       "/Omr1AkmRVEFDA7hzYbEyFnnZY1p3ckxbFYQ5r7uTIrEzNabUxbeAudAEmQlpFeOv7o8I4hS0Z1h\n",
       "kZZMvaJD/MJFYnyCVd0swUMM6xdU27bu+XIC1v56RXc7sAzBS8GqJ8ybYAUpqKYmVoONguMTMTiF\n",
       "N9sEjOEu0rqm8kbvrR6l3rwOSfgWrS/85BZbdIkeaFPEWYqIwSm82eZJDrtKbnayUg8xHFXeyuVp\n",
       "yx0x5tBzHU6xkxsl089hNz8p/6VlJ7rdVgbzlrjhzTYCF9HoIEgJkEdsB7kNPlWDX+iYF+XyURJG\n",
       "QX5+yBr2bQ6uaXBAULeMwWIzWV54SxekYq6g3ZXBW4CWD7ZdZyFU0OCD7Ip1AowD9IGEN2q2OwA7\n",
       "GuwqO4tmDIZA6M+1muCFr37iBqaLQaJ9McgjpqItJwXoXtTgLmPIAZB/Q6hT2bTM7wNPRYM9/WLR\n",
       "hKFqbpLYBDc8sxj+oWJQeeRVuKUDxqJCfXI8p8FFw+HKf8BfBn9OE22o6QpI2xocSAjLgzJkWpaC\n",
       "qbBZtDX88I3VyHKbWXQROpDoRTgSKNkzHQqjatfgFC4okhQV5Ao0ZN8YOxy1TVyrBPbjCPabZmaY\n",
       "6Ur6IsGIY6ZxePnmIFyGJbPoFG5mbjXQK3HKoyHpTlMYN8Z8ljazDiim0UCzVdVhOA4ajNuavAX0\n",
       "By9kTpXh+0ekizRAvmgcXpnLolyMmUWPQTMijD5ef8cRLbdm9Hnn8blewPcFUU99PhANg3LCOn/q\n",
       "KUo0gb2obqEHb6oXf6V1x8wQhf24WG7H2+PxpF00Cd+guvpRCUvx+ED8GBPjDeuTivwaxLBCCF/h\n",
       "n7M6/g1+8aYT+CtJnb0+zAyX4D1suBwzrV3bcDCmlMPGTCMx1beQQLT2qioY30JK2767vCc6gcmb\n",
       "qMk+amYoo1ynJLHoDZRrfyxtFI3FnKTDPx4u8FYR+As5LtLp3fSflG93l9eMCayQAHP2i2hi8ETg\n",
       "Aax/oqKVZzu8p8RpaCwp0RwVzcRM1/F0IRsLaoFjtadrsuwanBjc9TyfYkYxilpzftD4BKjjpbMm\n",
       "HrYxSPWITlfF/AM9+CTFMQekawAAAABJRU5ErkJggg==\n",
       "\" style=\"display:inline;vertical-align:middle;\" /></a> <a class=\"ProveItLink\" href=\"../../../__pv_it/_proof_tuple_eq_via_elem_eq/555f675f6490b88ed93a613eeac02d0b32859a400/proof.ipynb\" style=\"text-decoration: none\">&nbsp;&#x22A2;&nbsp;&nbsp;</a><a class=\"ProveItLink\" href=\"../../../__pv_it/_proof_tuple_eq_via_elem_eq/9283f7190de7da5852ac15b7bf4273f7f97461530/expr.ipynb\"><img src=\"data:image/png;base64,iVBORw0KGgoAAAANSUhEUgAAAdcAAAAVBAMAAADm/bn5AAAAMFBMVEX////MzMxUVFRERES6uroi\n",
       "IiIQEBCYmJhmZmYyMjLu7u52dnaqqqqIiIjc3NwAAACW8nlqAAAAAXRSTlMAQObYZgAAAAlwSFlz\n",
       "AAAOxAAADsQBlSsOGwAABAdJREFUWMOtlz1oFEEUgN/lcpfL5m5zFoKNkE78CZwE1MYQLOzEIAT8\n",
       "SSH+kEo8xSLaeE0IomCwUVLoYkARkYtCQEEhTcCfwlUQq4TDYKEWRrBJIup7M3Oz83Ozt7I+eDe8\n",
       "eW++eW93fvYAoAFcU0gjYd+/8Br/lShGl+a5ppEDdlcq5IFWzJRJMt4boWmkVLW6EDlzWrG9XcOx\n",
       "CM1PPIuZNEnHTMTzprimk2lrRkLeUnu6a/EIzT+tMJ8rxETimAl5hSrXdDJudjDkL7Wnt80q1Pzj\n",
       "EdM7ohATiWMm5OWBazrJB2YHauea2nMwiEdofuIJZun8kCQmE8dMyHuFzavUxXabj52QPdremWuD\n",
       "mDN5gpnLVCQxmcw5c7yKDam/fSlUPIZpix7Q02e4Cdnd/15ZUDcWd8QCNT/xBPMN3JbEtlnFzYS8\n",
       "m9iQ7m9k1VVnmLboAV3s9JgYITkEAlmf9n5HJ9ZqUI+7KHU/8TgTS30J0DpJ9YxgU4/0xcyEvFFs\n",
       "UL0xKAyDd7E5NTMfPtnmzI0FSCkeN/yEfRvAGbgvDtHiGuTDGCDzazzOzPRBLgA1SSORi/GkKAh5\n",
       "p7BBLaxAbhY2f2g+KGbWYMKVGw+Qklkx/IS9ArCeWRTZFaagdzYOSH6Nx5kdZSiFoCYZCV0xMmUH\n",
       "KQpCnig2X4E6nnoLzZOLmT/he9l1/PL4pnQeb1HsMej8BUVRLGZ5cD4GyPwajzMf4HsZBi1JKezk\n",
       "WognRUHIE8u4HsJlZSQ3L7lz4wHj5xb7Pu6kJTJs7NlRds0W1mSxePldD2KAzK/x+Ej6pLgGapIy\n",
       "SC1W2bM6KQpC3l5sUOvzsLXYYJ20Q4RJp7h9aXnNgK8XxuAEvKfNXzFiCPsD7lVZyjSgt4w7LgZI\n",
       "fk/jcSZV/AWUJKNJHW9WJ0VByHuCDWo2LB4usE5vFaSZOcrN+pTolxYL8B9NYUV0JxRmjRkJuwX2\n",
       "8PdDAzqq2ZoOjKhNv85jzC7ar9mykmQU5ChWJ0VByNuIDarX//jTO945EkhzOeBmjnb5YRA/uaPN\n",
       "gI4wwzdCbsiYkbB3n1Z5sWzA9kkwgJIq/RqPMTtoHWRCNUkRVBgYODmwu0WxKkkNQl4On1pObiS2\n",
       "tuU682t+QzGlvJbHVLlU8Vdw9GfrlGgi2c57nRCo8T47iDLI8WZdQcjrqnGNiu2RI5Y3bAoUU4pc\n",
       "s9/xCXZVcPSkdYPX1GJnEwI13qSDKIPiim0RRLxBoSTf7rwAeCRHnP3zRzXlOpFX9j7obvj9AfgV\n",
       "K0gg/WfrYTSgHVDlWcxBI4jXwVK2xQ5ivBmhUoyvD/tjtGT1ZO3PsxnngARA4lnMGWtcJcnfgoqa\n",
       "ox9yTSNLLf4ohCl5S+2JtSSsWsT8C14Gm6NPgELoAAAAAElFTkSuQmCC\n",
       "\" style=\"display:inline;vertical-align:middle;\" /></a></span>"
      ],
      "text/plain": [
       "{forall_{a_{1}, a_{2}, ..., a_{m}, b_{1}, b_{2}, ..., b_{m} | (a_{1} = b_{1}), (a_{2} = b_{2}), ..., (a_{m} = b_{m})} ((a_{1}, a_{2}, ..., a_{m}) = (b_{1}, b_{2}, ..., b_{m})), m in NaturalPos,(a_{1} = b_{1}), (a_{2} = b_{2}), ..., (a_{m + 1} = b_{m + 1})} |- ((a_{1}, a_{2}, ..., a_{m}) = (b_{1}, b_{2}, ..., b_{m})) and (a_{m + 1} = b_{m + 1})"
      ]
     },
     "metadata": {},
     "output_type": "display_data"
    }
   ],
   "source": [
    "tuple_eq_def_inst.rhs.prove()"
   ]
  },
  {
   "cell_type": "code",
   "execution_count": 28,
   "metadata": {},
   "outputs": [
    {
     "data": {
      "text/html": [
       "<strong id=\"tuple_eq_split_both\">tuple_eq_split_both:</strong> <span style=\"font-size:20px;\"><a class=\"ProveItLink\" href=\"../../../__pv_it/_proof_tuple_eq_via_elem_eq/e69ae6f8d6cefc57f09a9c919aa48aef65a02b8f0/expr.ipynb\"><img src=\"data:image/png;base64,iVBORw0KGgoAAAANSUhEUgAAAuUAAAAYBAMAAACvh54jAAAAMFBMVEX///+IiIgiIiIQEBB2dnbu\n",
       "7u5ERETMzMzc3NwyMjK6urpmZmaYmJiqqqpUVFQAAAB6qHgnAAAAAXRSTlMAQObYZgAAAAlwSFlz\n",
       "AAAOxAAADsQBlSsOGwAABlhJREFUaN7tWm+IVFUUPzM7b2Z237zdWZMSkmVZWohEWMJKRGuUpD6o\n",
       "PMv2ozsR5RILrQpaSO30hyUJdL4UfZCaKP1S5BT9WUxz/GDhWjRuBoYhI+iHPhRrIP6B2O555757\n",
       "3/3zZtMhsqEDZ/aec8/7nft+775z730K0K5S4nrzko2D/feGdGtLok7agnTl7bA3Le9xbaDxS/tx\n",
       "fpprK7LYBus81R+xVcsUpT9RIz2ExtttR7lTJm1JOn0bbGdVianOgxHtf5P0JSxcxbbj3K2RtiS5\n",
       "qg22RykvPfMUG6X/JCk+y1S97Tjv4Nqa3GeDPajM/oN+cwilv8MPNMeeXGf7lfOfubYm+2ywaxTP\n",
       "mnkglP7OGum9AwPL2o/zz7hmLyyK7j72rH55nv2hEr/BBvtO728Rj2qZovSnGqRfAjzdfpzv4/p+\n",
       "KX05svtbDs81rwVq/Imghg8E0uCwzjV/RG6yVcuyliv9uTLpHsg2/snFjP54cQPjs+pM3DZbd3hN\n",
       "DxUifCmpsxLcyGbt8Rp82ny7o8b/qPczSO8ydMhXQbVM0aKHSNN+qnKDPL5QNFu2XpQ0/ZnWozJv\n",
       "RZ9JrhKHom8dppuOR4SvIHVnIVkA5wT3HgW4C5yHf4+d6xQvZELvR8gy9BQEYmBt2nAxFhD75U3P\n",
       "knr5G15Cuwtmy9YrOXfMV+kCf92D6M2xKB9oE7HRdDwinHPeUYSRCmxdwL33g3OdPWU39hxD8bLS\n",
       "WDhnz+RgXSAGVjX+7Qn6ZW0bIoXysRveiI2bLVuv5Nw1X6UHIucEOplZUbRziVtpOh4RzmvLSB5+\n",
       "YK0Z/sAuQW4WeirZK3F3xuNDmdHr+dJgw33UDxHJug57x+O350flHXj9pLAe73rTsUfDmbRuoVky\n",
       "VedE70WjZeuVnCcN3MylPhrLevzpN/pDFO3skLQNMJIxDH+SdKQOv7IVABli2Zw/obt8Jucj52Z5\n",
       "QQ/Fn/y2t7F4CzO/0WMYZM84K/ohIlnHkXMT0An7BV6uSAqvsifo3J25yiMfK02YnKvOBf6dRsvW\n",
       "KznfHYH44hkmtcRggmrvWdyhlWW/i91jAsVTC/puZSxabCR8A2k67y1xA4acawFlM1UWkOonc6QM\n",
       "WiOId6ZXwoPQx7eGijDI7lq6KhHJYrtwFUdY2C/x3AIpdLP3wq1mhiAb7Bm/gu3QdUp72dEpZYxt\n",
       "oiZ93jJix+CEwfkBDjEpZkO6lisHCQ9gnSsaeUPkLnWVPqCPRcsYhm8jdc4/sucOmpUDLPXmhc+f\n",
       "Z3e7zScziXQtAd5ATxCf3ViGKwHf9+icI+SFwyARycoMaoCEOkj9Ei9ZIaWKWEk04MVBWib62BF3\n",
       "RF87+pRS/HVmxuctI5b5DM7PEQS/imqw2wgS7sDZ2TDyhsgZlfNz+li0jGF4cpxU1mVPpA4etWfU\n",
       "AunpzrMZyEp31lhrBaSKiFPJBISfNDx4hSutHaX0cR+QAucqjD2R1aZS4Mwd+e7Q6SDnLKyCpM9b\n",
       "eiz6ZCjnfAdBBFdRbemBjnqQ8CwxJfLyehEia7VlhzIWGRtmDMPx85T8RIUMpQTGG/B61BRLQWRN\n",
       "ThSzs+OWj2QCUkHMVrMlCyAUNDzAd+KwyFKa+Ag5dwqwPHP9OMCz2NwkftDp3Q4rvAJag2wdYOzx\n",
       "lh7LfDxUWUMD3KSYDEmfLVDIeS+7CtfQMC8XjgyJvALOgSIJKDZ0JMIDyChXwdBGwdCWnZ9HTCHS\n",
       "s5fNzFyxCpMmjaM2xMmdu3wLoJPX8PD7rfyG23X41DqkILMKPvx+YQ3ccWxuL2WW4w93bnHKbh39\n",
       "u3qRs7Clx6KPQiXn6RJBSM4zn+SJ81HYXsdbCfNy4cjsSgU8BJIJeCx3pMPldZgrymvvrhYHXja/\n",
       "5uZmI6Z+ImbyMXSWsud9+cykDNsQH5qbswEmdDwcXFrboDAKPGqtTYgmiFa/V0jmQgvZ82Jjeajg\n",
       "vKsA4io1ocOee10cZdYqZ320hlXwEEgmAMUxLGZznrQFSVg+M7QEuYhrRLYuq8N+OlnM/QG8ibKf\n",
       "HwETle5F3Mrctp63bLFhqDz7T4G4Sk3olqDLx1+BJc83aE1p4FOgJQDFMfUf/B5XszVrMSG1eWMF\n",
       "56m4TxzTbGHCKR33TzUVDTzV9LtgrgL/i/gPC3FU+fLMZv3QF3fB3w2/BeUvVDcSbicNkgMAAAAA\n",
       "SUVORK5CYII=\n",
       "\" style=\"display:inline;vertical-align:middle;\" /></a>, <a class=\"ProveItLink\" href=\"../../../../../numbers/number_sets/natural_numbers/__pv_it/theorems/5fb53e9c076547ad508281e2a2445cff05af57920/expr.ipynb\"><img src=\"data:image/png;base64,iVBORw0KGgoAAAANSUhEUgAAAEYAAAATBAMAAADfQ2bzAAAAMFBMVEX///8yMjJmZmYiIiIQEBCq\n",
       "qqqYmJjMzMxERER2dnbc3Nzu7u5UVFSIiIi6uroAAACibcT0AAAAAXRSTlMAQObYZgAAAAlwSFlz\n",
       "AAAOxAAADsQBlSsOGwAAAQ9JREFUKM9jYCAAFBgIgwZK1HDbd0gzcPr74TWHI+ANA8N+/HbxWHEm\n",
       "MLAwMHV0eHS04VITwSDFwIzdHN5mY0OwmmUXFuJQwye7AWrOguO8E+Bq+O7smtvLPrMPLLVwA8yu\n",
       "BRwMfXA1nBxnGfbnMYSApaTg7lnArrB5Myyc3zE3MKy/wJAPlhJAqGFIZW2B8Tbsf8AQv4FBEcRm\n",
       "dzY2NraAquHZcATuzngGkAJPcPA2IJnDfWAzXM1BBgZLBr5f3CC2AZIahloOuBpPBu5/DDwCy0Ds\n",
       "u/C4KACGVQWMx/Wdge0DA8eECSAOYwBUFMxQhAebAQOvAgOf7gKwg068Bguyy3sAyY3Y44lvBiQu\n",
       "UAAA9FQ8d6roA+kAAAAASUVORK5CYII=\n",
       "\" style=\"display:inline;vertical-align:middle;\" /></a>, <a class=\"ProveItLink\" href=\"../../../__pv_it/_proof_tuple_eq_via_elem_eq/2fa67578b2af9f310f3c641ab402a90dc9ab796e0/expr.ipynb\"><img src=\"data:image/png;base64,iVBORw0KGgoAAAANSUhEUgAAAWgAAAAVBAMAAACZAGlNAAAAMFBMVEX////MzMxUVFRERES6uroi\n",
       "IiIQEBCYmJhmZmYyMjLu7u52dnaqqqqIiIjc3NwAAACW8nlqAAAAAXRSTlMAQObYZgAAAAlwSFlz\n",
       "AAAOxAAADsQBlSsOGwAAA8NJREFUSMelVk9IVEEY/9b993zuvt0OdrOWLhG2sLJgEVjSwVu4RYJk\n",
       "B8tCEIqN7aCnFkKW8uDSxfBQi0LiQXYTgiIELxtUUC8jpFJZjCCKcoUu6pbNzJs3+/7Mm13pA5fv\n",
       "/Wbm9/3mm28+BwBKUMsUxw++lfZAt2cjq4OLNed5VMPHSm3eM+Lhlf8STcS8dhyW2xPUW66CgYLj\n",
       "/Omr1AkmRVEFDA7hzYbEyFnnZY1p3ckxbFYQ5r7uTIrEzNabUxbeAudAEmQlpFeOv7o8I4hS0Z1h\n",
       "kZZMvaJD/MJFYnyCVd0swUMM6xdU27bu+XIC1v56RXc7sAzBS8GqJ8ybYAUpqKYmVoONguMTMTiF\n",
       "N9sEjOEu0rqm8kbvrR6l3rwOSfgWrS/85BZbdIkeaFPEWYqIwSm82eZJDrtKbnayUg8xHFXeyuVp\n",
       "yx0x5tBzHU6xkxsl089hNz8p/6VlJ7rdVgbzlrjhzTYCF9HoIEgJkEdsB7kNPlWDX+iYF+XyURJG\n",
       "QX5+yBr2bQ6uaXBAULeMwWIzWV54SxekYq6g3ZXBW4CWD7ZdZyFU0OCD7Ip1AowD9IGEN2q2OwA7\n",
       "GuwqO4tmDIZA6M+1muCFr37iBqaLQaJ9McgjpqItJwXoXtTgLmPIAZB/Q6hT2bTM7wNPRYM9/WLR\n",
       "hKFqbpLYBDc8sxj+oWJQeeRVuKUDxqJCfXI8p8FFw+HKf8BfBn9OE22o6QpI2xocSAjLgzJkWpaC\n",
       "qbBZtDX88I3VyHKbWXQROpDoRTgSKNkzHQqjatfgFC4okhQV5Ao0ZN8YOxy1TVyrBPbjCPabZmaY\n",
       "6Ur6IsGIY6ZxePnmIFyGJbPoFG5mbjXQK3HKoyHpTlMYN8Z8ljazDiim0UCzVdVhOA4ajNuavAX0\n",
       "By9kTpXh+0ekizRAvmgcXpnLolyMmUWPQTMijD5ef8cRLbdm9Hnn8blewPcFUU99PhANg3LCOn/q\n",
       "KUo0gb2obqEHb6oXf6V1x8wQhf24WG7H2+PxpF00Cd+guvpRCUvx+ED8GBPjDeuTivwaxLBCCF/h\n",
       "n7M6/g1+8aYT+CtJnb0+zAyX4D1suBwzrV3bcDCmlMPGTCMx1beQQLT2qioY30JK2767vCc6gcmb\n",
       "qMk+amYoo1ynJLHoDZRrfyxtFI3FnKTDPx4u8FYR+As5LtLp3fSflG93l9eMCayQAHP2i2hi8ETg\n",
       "Aax/oqKVZzu8p8RpaCwp0RwVzcRM1/F0IRsLaoFjtadrsuwanBjc9TyfYkYxilpzftD4BKjjpbMm\n",
       "HrYxSPWITlfF/AM9+CTFMQekawAAAABJRU5ErkJggg==\n",
       "\" style=\"display:inline;vertical-align:middle;\" /></a> <a class=\"ProveItLink\" href=\"../../../__pv_it/_proof_tuple_eq_via_elem_eq/09f1bb9fb90e7e6a8e4ddbff0f77b1840557c6bc0/proof.ipynb\" style=\"text-decoration: none\">&nbsp;&#x22A2;&nbsp;&nbsp;</a><a class=\"ProveItLink\" href=\"../../../__pv_it/_proof_tuple_eq_via_elem_eq/9595037881ddff0b9e9c427edefbed9acabd5a570/expr.ipynb\"><img src=\"data:image/png;base64,iVBORw0KGgoAAAANSUhEUgAAAZcAAAAVBAMAAAB4R75ZAAAAMFBMVEX////MzMxUVFRERES6uroi\n",
       "IiIQEBCYmJhmZmYyMjLu7u52dnaqqqqIiIjc3NwAAACW8nlqAAAAAXRSTlMAQObYZgAAAAlwSFlz\n",
       "AAAOxAAADsQBlSsOGwAAA81JREFUWMO1V09IFFEY/9b9Nzvuzq4Ho4u0dImyhZUFiyCRDt5CDwli\n",
       "HuwfQhBt2EG7NBAh5aGlS+GhhoQ8hKwJQhHBXgzKQ5MRUqAsShAGuUKXVNreezPz5s17M7MdnAf7\n",
       "mO973/f7ze99b76ZBYAqBDYUN2dAfAQ2VQlOTEQXfUHxncXTEgQ4VkTXEsidfYw9fcUfwhntnZAq\n",
       "othSkGISmnBviC+hsp7HjTBUzuGRMAUgFYMUE+dvhPClHSdtrwFGmj+XHgljADEIdFzlHZivl61X\n",
       "ZKcBRC9XXa+EmAbvgxXziHdgvgXW0dzXAGKBs70SEkWYxB20fY1tO5zp0nGFAM+Ued6B+R6uHmfu\n",
       "Ibfs398c0T4JzVmydT3VMFs6zhSHGOCZMk6ek34ysmap5D9a2X7ZlKfkv77dzBHtkxAvwRAKHwGp\n",
       "D+RxK5uYL+aPecKTAH8PmHjv+GTEl9yBmE7pPmpwTX5zWPNiI9GsAydwMTO4JSeH4TLauBpE56Dt\n",
       "i9VviKnCXS94I8DPg3uYgXeIT8Z8JUjPUbp7ALuSuBc2No5mHTiBWUa/0CrODtUweCwP5W6ARasr\n",
       "EPM3bGU84M14H08eTwSvx0UM0t1boXTnIbKX7la2vcQY0czACbYVJtXDYiLDuOxlHW6DLcYwb3mL\n",
       "MQLGbqxmVzrcPbaYRf6ZGSIvjgcapdsDaSeueYsh0SwZSZhoW06NZhxi0HQa3UoFjiarBF0GauKW\n",
       "KB5kGrB5cwQuwrKbhxUzygMgvnQGPWNkGeNvw/Mi6beyKASv42jZgrYSZnqKsWwq6xATz+PeGdaT\n",
       "A5KBXi5RMzSIGonpIhO1SIAyW0Kwk24eVsykS69uKoZVskwQj8BJNLdqLkTkAkdb0DRh8ysSKc05\n",
       "xCCzFeXkXq5/Msijg9TcQLvQj35R/DSTacAR0KSHyCEVPFKhcKlwwhRzjheD+donTK0Y/9krVBjl\n",
       "lAHEEKnmOom2yGhCDg5AtAJ3Cp2FQtEQE+2GKH0yCPkH+hpUlSokxXNGA2KZVF6pZdw8dmUUoUlR\n",
       "PrxM8X/ALwbIbssaB00dF+AzbIUclfnOfgoSMbQJbrQc1KBZPMY0YAttVzyvunlsMeJnLOXDyxa+\n",
       "0tFynwGyX+o8NE2oodqMSg4xuNxd5vrPp29RTenr6Xq9DjArNgAacAYSVSWnuXgMMQRvQ9yNLobO\n",
       "wo/V6zUGiI5ZHtpyRLLwBNa/mWKU17s6KJh02vEPxwkmwqf+w2NWhrlzx38rL3wXIL2hw6gMucDf\n",
       "PIq+/9/K1lFKufzf32c+ybpYA/gHs6pjnQbqmVwAAAAASUVORK5CYII=\n",
       "\" style=\"display:inline;vertical-align:middle;\" /></a></span><br>"
      ],
      "text/plain": [
       "<IPython.core.display.HTML object>"
      ]
     },
     "metadata": {},
     "output_type": "display_data"
    }
   ],
   "source": [
    "tuple_eq_split_both = tuple_eq_def_inst.derive_left_via_equality()"
   ]
  },
  {
   "cell_type": "code",
   "execution_count": 29,
   "metadata": {},
   "outputs": [
    {
     "data": {
      "text/html": [
       "<strong id=\"tuple_eq_split_right\">tuple_eq_split_right:</strong> <span style=\"font-size:20px;\"><a class=\"ProveItLink\" href=\"../../../__pv_it/_proof_tuple_eq_via_elem_eq/e69ae6f8d6cefc57f09a9c919aa48aef65a02b8f0/expr.ipynb\"><img src=\"data:image/png;base64,iVBORw0KGgoAAAANSUhEUgAAAuUAAAAYBAMAAACvh54jAAAAMFBMVEX///+IiIgiIiIQEBB2dnbu\n",
       "7u5ERETMzMzc3NwyMjK6urpmZmaYmJiqqqpUVFQAAAB6qHgnAAAAAXRSTlMAQObYZgAAAAlwSFlz\n",
       "AAAOxAAADsQBlSsOGwAABlhJREFUaN7tWm+IVFUUPzM7b2Z237zdWZMSkmVZWohEWMJKRGuUpD6o\n",
       "PMv2ozsR5RILrQpaSO30hyUJdL4UfZCaKP1S5BT9WUxz/GDhWjRuBoYhI+iHPhRrIP6B2O555757\n",
       "3/3zZtMhsqEDZ/aec8/7nft+775z730K0K5S4nrzko2D/feGdGtLok7agnTl7bA3Le9xbaDxS/tx\n",
       "fpprK7LYBus81R+xVcsUpT9RIz2ExtttR7lTJm1JOn0bbGdVianOgxHtf5P0JSxcxbbj3K2RtiS5\n",
       "qg22RykvPfMUG6X/JCk+y1S97Tjv4Nqa3GeDPajM/oN+cwilv8MPNMeeXGf7lfOfubYm+2ywaxTP\n",
       "mnkglP7OGum9AwPL2o/zz7hmLyyK7j72rH55nv2hEr/BBvtO728Rj2qZovSnGqRfAjzdfpzv4/p+\n",
       "KX05svtbDs81rwVq/Imghg8E0uCwzjV/RG6yVcuyliv9uTLpHsg2/snFjP54cQPjs+pM3DZbd3hN\n",
       "DxUifCmpsxLcyGbt8Rp82ny7o8b/qPczSO8ydMhXQbVM0aKHSNN+qnKDPL5QNFu2XpQ0/ZnWozJv\n",
       "RZ9JrhKHom8dppuOR4SvIHVnIVkA5wT3HgW4C5yHf4+d6xQvZELvR8gy9BQEYmBt2nAxFhD75U3P\n",
       "knr5G15Cuwtmy9YrOXfMV+kCf92D6M2xKB9oE7HRdDwinHPeUYSRCmxdwL33g3OdPWU39hxD8bLS\n",
       "WDhnz+RgXSAGVjX+7Qn6ZW0bIoXysRveiI2bLVuv5Nw1X6UHIucEOplZUbRziVtpOh4RzmvLSB5+\n",
       "YK0Z/sAuQW4WeirZK3F3xuNDmdHr+dJgw33UDxHJug57x+O350flHXj9pLAe73rTsUfDmbRuoVky\n",
       "VedE70WjZeuVnCcN3MylPhrLevzpN/pDFO3skLQNMJIxDH+SdKQOv7IVABli2Zw/obt8Jucj52Z5\n",
       "QQ/Fn/y2t7F4CzO/0WMYZM84K/ohIlnHkXMT0An7BV6uSAqvsifo3J25yiMfK02YnKvOBf6dRsvW\n",
       "KznfHYH44hkmtcRggmrvWdyhlWW/i91jAsVTC/puZSxabCR8A2k67y1xA4acawFlM1UWkOonc6QM\n",
       "WiOId6ZXwoPQx7eGijDI7lq6KhHJYrtwFUdY2C/x3AIpdLP3wq1mhiAb7Bm/gu3QdUp72dEpZYxt\n",
       "oiZ93jJix+CEwfkBDjEpZkO6lisHCQ9gnSsaeUPkLnWVPqCPRcsYhm8jdc4/sucOmpUDLPXmhc+f\n",
       "Z3e7zScziXQtAd5ATxCf3ViGKwHf9+icI+SFwyARycoMaoCEOkj9Ei9ZIaWKWEk04MVBWib62BF3\n",
       "RF87+pRS/HVmxuctI5b5DM7PEQS/imqw2wgS7sDZ2TDyhsgZlfNz+li0jGF4cpxU1mVPpA4etWfU\n",
       "AunpzrMZyEp31lhrBaSKiFPJBISfNDx4hSutHaX0cR+QAucqjD2R1aZS4Mwd+e7Q6SDnLKyCpM9b\n",
       "eiz6ZCjnfAdBBFdRbemBjnqQ8CwxJfLyehEia7VlhzIWGRtmDMPx85T8RIUMpQTGG/B61BRLQWRN\n",
       "ThSzs+OWj2QCUkHMVrMlCyAUNDzAd+KwyFKa+Ag5dwqwPHP9OMCz2NwkftDp3Q4rvAJag2wdYOzx\n",
       "lh7LfDxUWUMD3KSYDEmfLVDIeS+7CtfQMC8XjgyJvALOgSIJKDZ0JMIDyChXwdBGwdCWnZ9HTCHS\n",
       "s5fNzFyxCpMmjaM2xMmdu3wLoJPX8PD7rfyG23X41DqkILMKPvx+YQ3ccWxuL2WW4w93bnHKbh39\n",
       "u3qRs7Clx6KPQiXn6RJBSM4zn+SJ81HYXsdbCfNy4cjsSgU8BJIJeCx3pMPldZgrymvvrhYHXja/\n",
       "5uZmI6Z+ImbyMXSWsud9+cykDNsQH5qbswEmdDwcXFrboDAKPGqtTYgmiFa/V0jmQgvZ82Jjeajg\n",
       "vKsA4io1ocOee10cZdYqZ320hlXwEEgmAMUxLGZznrQFSVg+M7QEuYhrRLYuq8N+OlnM/QG8ibKf\n",
       "HwETle5F3Mrctp63bLFhqDz7T4G4Sk3olqDLx1+BJc83aE1p4FOgJQDFMfUf/B5XszVrMSG1eWMF\n",
       "56m4TxzTbGHCKR33TzUVDTzV9LtgrgL/i/gPC3FU+fLMZv3QF3fB3w2/BeUvVDcSbicNkgMAAAAA\n",
       "SUVORK5CYII=\n",
       "\" style=\"display:inline;vertical-align:middle;\" /></a>, <a class=\"ProveItLink\" href=\"../../../../../numbers/number_sets/natural_numbers/__pv_it/theorems/5fb53e9c076547ad508281e2a2445cff05af57920/expr.ipynb\"><img src=\"data:image/png;base64,iVBORw0KGgoAAAANSUhEUgAAAEYAAAATBAMAAADfQ2bzAAAAMFBMVEX///8yMjJmZmYiIiIQEBCq\n",
       "qqqYmJjMzMxERER2dnbc3Nzu7u5UVFSIiIi6uroAAACibcT0AAAAAXRSTlMAQObYZgAAAAlwSFlz\n",
       "AAAOxAAADsQBlSsOGwAAAQ9JREFUKM9jYCAAFBgIgwZK1HDbd0gzcPr74TWHI+ANA8N+/HbxWHEm\n",
       "MLAwMHV0eHS04VITwSDFwIzdHN5mY0OwmmUXFuJQwye7AWrOguO8E+Bq+O7smtvLPrMPLLVwA8yu\n",
       "BRwMfXA1nBxnGfbnMYSApaTg7lnArrB5Myyc3zE3MKy/wJAPlhJAqGFIZW2B8Tbsf8AQv4FBEcRm\n",
       "dzY2NraAquHZcATuzngGkAJPcPA2IJnDfWAzXM1BBgZLBr5f3CC2AZIahloOuBpPBu5/DDwCy0Ds\n",
       "u/C4KACGVQWMx/Wdge0DA8eECSAOYwBUFMxQhAebAQOvAgOf7gKwg068Bguyy3sAyY3Y44lvBiQu\n",
       "UAAA9FQ8d6roA+kAAAAASUVORK5CYII=\n",
       "\" style=\"display:inline;vertical-align:middle;\" /></a>, <a class=\"ProveItLink\" href=\"../../../__pv_it/_proof_tuple_eq_via_elem_eq/2fa67578b2af9f310f3c641ab402a90dc9ab796e0/expr.ipynb\"><img src=\"data:image/png;base64,iVBORw0KGgoAAAANSUhEUgAAAWgAAAAVBAMAAACZAGlNAAAAMFBMVEX////MzMxUVFRERES6uroi\n",
       "IiIQEBCYmJhmZmYyMjLu7u52dnaqqqqIiIjc3NwAAACW8nlqAAAAAXRSTlMAQObYZgAAAAlwSFlz\n",
       "AAAOxAAADsQBlSsOGwAAA8NJREFUSMelVk9IVEEY/9b993zuvt0OdrOWLhG2sLJgEVjSwVu4RYJk\n",
       "B8tCEIqN7aCnFkKW8uDSxfBQi0LiQXYTgiIELxtUUC8jpFJZjCCKcoUu6pbNzJs3+/7Mm13pA5fv\n",
       "/Wbm9/3mm28+BwBKUMsUxw++lfZAt2cjq4OLNed5VMPHSm3eM+Lhlf8STcS8dhyW2xPUW66CgYLj\n",
       "/Omr1AkmRVEFDA7hzYbEyFnnZY1p3ckxbFYQ5r7uTIrEzNabUxbeAudAEmQlpFeOv7o8I4hS0Z1h\n",
       "kZZMvaJD/MJFYnyCVd0swUMM6xdU27bu+XIC1v56RXc7sAzBS8GqJ8ybYAUpqKYmVoONguMTMTiF\n",
       "N9sEjOEu0rqm8kbvrR6l3rwOSfgWrS/85BZbdIkeaFPEWYqIwSm82eZJDrtKbnayUg8xHFXeyuVp\n",
       "yx0x5tBzHU6xkxsl089hNz8p/6VlJ7rdVgbzlrjhzTYCF9HoIEgJkEdsB7kNPlWDX+iYF+XyURJG\n",
       "QX5+yBr2bQ6uaXBAULeMwWIzWV54SxekYq6g3ZXBW4CWD7ZdZyFU0OCD7Ip1AowD9IGEN2q2OwA7\n",
       "GuwqO4tmDIZA6M+1muCFr37iBqaLQaJ9McgjpqItJwXoXtTgLmPIAZB/Q6hT2bTM7wNPRYM9/WLR\n",
       "hKFqbpLYBDc8sxj+oWJQeeRVuKUDxqJCfXI8p8FFw+HKf8BfBn9OE22o6QpI2xocSAjLgzJkWpaC\n",
       "qbBZtDX88I3VyHKbWXQROpDoRTgSKNkzHQqjatfgFC4okhQV5Ao0ZN8YOxy1TVyrBPbjCPabZmaY\n",
       "6Ur6IsGIY6ZxePnmIFyGJbPoFG5mbjXQK3HKoyHpTlMYN8Z8ljazDiim0UCzVdVhOA4ajNuavAX0\n",
       "By9kTpXh+0ekizRAvmgcXpnLolyMmUWPQTMijD5ef8cRLbdm9Hnn8blewPcFUU99PhANg3LCOn/q\n",
       "KUo0gb2obqEHb6oXf6V1x8wQhf24WG7H2+PxpF00Cd+guvpRCUvx+ED8GBPjDeuTivwaxLBCCF/h\n",
       "n7M6/g1+8aYT+CtJnb0+zAyX4D1suBwzrV3bcDCmlMPGTCMx1beQQLT2qioY30JK2767vCc6gcmb\n",
       "qMk+amYoo1ynJLHoDZRrfyxtFI3FnKTDPx4u8FYR+As5LtLp3fSflG93l9eMCayQAHP2i2hi8ETg\n",
       "Aax/oqKVZzu8p8RpaCwp0RwVzcRM1/F0IRsLaoFjtadrsuwanBjc9TyfYkYxilpzftD4BKjjpbMm\n",
       "HrYxSPWITlfF/AM9+CTFMQekawAAAABJRU5ErkJggg==\n",
       "\" style=\"display:inline;vertical-align:middle;\" /></a> <a class=\"ProveItLink\" href=\"../../../__pv_it/_proof_tuple_eq_via_elem_eq/264313abf0f1d6d5e17f4b8d587e900d816297f90/proof.ipynb\" style=\"text-decoration: none\">&nbsp;&#x22A2;&nbsp;&nbsp;</a><a class=\"ProveItLink\" href=\"../../../__pv_it/_proof_tuple_eq_via_elem_eq/df7f9d0822e0a080f2208c99ddf39c22abf548440/expr.ipynb\"><img src=\"data:image/png;base64,iVBORw0KGgoAAAANSUhEUgAAAXMAAAAVBAMAAABGThNSAAAAMFBMVEX////MzMxUVFRERES6uroi\n",
       "IiIQEBCYmJhmZmYyMjLu7u52dnaqqqqIiIjc3NwAAACW8nlqAAAAAXRSTlMAQObYZgAAAAlwSFlz\n",
       "AAAOxAAADsQBlSsOGwAAA7dJREFUSMetl09IFFEcx3/b/psdd2fXg9FFWrpE2cLKgkWQSAdvoYcE\n",
       "MQ/2DyGINuygXVqIkPLQ0qXwUENCHkLWBKGIwItBeWgzQgqURQnCIFfokkrb+72ZefPem5ndg/Ng\n",
       "h3m/9/195jvvvfnNLABUwKemuQV9o7tgEwt+4UJlZ8w/utjO4WHJP96KM7QEakcv15+6Wh8hqr0T\n",
       "EnmiLfpnPaY7nBB6rMBHnjRiFKSAR8IkgJL3z3pUviylJ4U9s9eAkZR3mEfCKEDEzx14TQ4gvYdf\n",
       "i9BOA0SPtHJeCREdPvhp/bEcQPo8H2jqbYCYl/peCbE8TGBVa1vji4PUdamCXoI5OYD0R6snuCtm\n",
       "luvXHEFdJ6EpTSequxLkl0XqOpunYIzu7z7a0uYyqH/1kl3cS5Pqv7oVRlDXSYgWYZDIh0HpBXXM\n",
       "yqbdl3PHPfFUIMVo9ntZSujxHYiUGfyTDtfVt0d0LzZV8wFMkDTTWBTjQ3CFTFMVwrPQ+tWqCrRb\n",
       "gHteeENgN6wrRvZhWYr0IiRnGfw+wK7ivHObjWo+gAncMPkFVjE7UEV4JAulLoBF69ml3T+wlfLA\n",
       "m3rWsnig2d0u1sld9iww+AUI7SW7tG0v64aaa5hg94J0ZdB6aAiXtFSGO2BbN7q3va0bgtGbq+mV\n",
       "dtH6orzXB2mhfqgz+B4oO1Hd2zpV22gzYbx1OTGSEqyTwxliZQGOxSuUrgLrYplybkkm2Lw1DJdg\n",
       "WbQ+IssJPZkizwYdRto2vMjTiqc6beM4qlULbSVMd+cj6URasB7NYj0LluP9ikEvFVk3MEAedzNE\n",
       "D6xHBdpMkWAnROsTLtXyQD5YoMM0/yicIscW3QVLT1BtoVnC5jdyS8qsYJ10W0hO5tX6Z+Pi4QHW\n",
       "3SD33Ed+YXwK6aFfEBwoB3C7Kbnc5dxJ0/p52TrS28bNO0Pa89dk0rXTBojDFsxxqjbRdkIGDkJ4\n",
       "Ae7mOnK5vGE93AVhtqPpxT+y105Bq0DcuWOYIJJKZLVqip91zVE4GB2HGe0n/OZAdmHUJTQLXIQv\n",
       "sBUQZv0H/8lErbPCtNF8SIcm54Zkgi0yOdFsgbfu/JRjdBy2aFp78wMOZL8gZTRLqJJ5H1EE67iU\n",
       "neb4r2fvyHqx18GNWg1gxvmYMsFZiFW0jG5ap9kbzjvt5OAWLVKrVTkQazMy2gqE0vAU1r+b1rU3\n",
       "u2XQ8KJTwhe8CHPiEy4FLSv5FP4peNFcQOWGAWPW6Ql+LWjl/X4vWpsi4fI/dP908WVrnawB/AcH\n",
       "UEBXPjkxzQAAAABJRU5ErkJggg==\n",
       "\" style=\"display:inline;vertical-align:middle;\" /></a></span><br>"
      ],
      "text/plain": [
       "<IPython.core.display.HTML object>"
      ]
     },
     "metadata": {},
     "output_type": "display_data"
    }
   ],
   "source": [
    "tuple_eq_split_right = tuple_eq_split_both.inner_expr().lhs.merge()"
   ]
  },
  {
   "cell_type": "code",
   "execution_count": 30,
   "metadata": {},
   "outputs": [
    {
     "data": {
      "text/html": [
       "<strong id=\"tuple_eq\">tuple_eq:</strong> <span style=\"font-size:20px;\"><a class=\"ProveItLink\" href=\"../../../__pv_it/_proof_tuple_eq_via_elem_eq/e69ae6f8d6cefc57f09a9c919aa48aef65a02b8f0/expr.ipynb\"><img src=\"data:image/png;base64,iVBORw0KGgoAAAANSUhEUgAAAuUAAAAYBAMAAACvh54jAAAAMFBMVEX///+IiIgiIiIQEBB2dnbu\n",
       "7u5ERETMzMzc3NwyMjK6urpmZmaYmJiqqqpUVFQAAAB6qHgnAAAAAXRSTlMAQObYZgAAAAlwSFlz\n",
       "AAAOxAAADsQBlSsOGwAABlhJREFUaN7tWm+IVFUUPzM7b2Z237zdWZMSkmVZWohEWMJKRGuUpD6o\n",
       "PMv2ozsR5RILrQpaSO30hyUJdL4UfZCaKP1S5BT9WUxz/GDhWjRuBoYhI+iHPhRrIP6B2O555757\n",
       "3/3zZtMhsqEDZ/aec8/7nft+775z730K0K5S4nrzko2D/feGdGtLok7agnTl7bA3Le9xbaDxS/tx\n",
       "fpprK7LYBus81R+xVcsUpT9RIz2ExtttR7lTJm1JOn0bbGdVianOgxHtf5P0JSxcxbbj3K2RtiS5\n",
       "qg22RykvPfMUG6X/JCk+y1S97Tjv4Nqa3GeDPajM/oN+cwilv8MPNMeeXGf7lfOfubYm+2ywaxTP\n",
       "mnkglP7OGum9AwPL2o/zz7hmLyyK7j72rH55nv2hEr/BBvtO728Rj2qZovSnGqRfAjzdfpzv4/p+\n",
       "KX05svtbDs81rwVq/Imghg8E0uCwzjV/RG6yVcuyliv9uTLpHsg2/snFjP54cQPjs+pM3DZbd3hN\n",
       "DxUifCmpsxLcyGbt8Rp82ny7o8b/qPczSO8ydMhXQbVM0aKHSNN+qnKDPL5QNFu2XpQ0/ZnWozJv\n",
       "RZ9JrhKHom8dppuOR4SvIHVnIVkA5wT3HgW4C5yHf4+d6xQvZELvR8gy9BQEYmBt2nAxFhD75U3P\n",
       "knr5G15Cuwtmy9YrOXfMV+kCf92D6M2xKB9oE7HRdDwinHPeUYSRCmxdwL33g3OdPWU39hxD8bLS\n",
       "WDhnz+RgXSAGVjX+7Qn6ZW0bIoXysRveiI2bLVuv5Nw1X6UHIucEOplZUbRziVtpOh4RzmvLSB5+\n",
       "YK0Z/sAuQW4WeirZK3F3xuNDmdHr+dJgw33UDxHJug57x+O350flHXj9pLAe73rTsUfDmbRuoVky\n",
       "VedE70WjZeuVnCcN3MylPhrLevzpN/pDFO3skLQNMJIxDH+SdKQOv7IVABli2Zw/obt8Jucj52Z5\n",
       "QQ/Fn/y2t7F4CzO/0WMYZM84K/ohIlnHkXMT0An7BV6uSAqvsifo3J25yiMfK02YnKvOBf6dRsvW\n",
       "KznfHYH44hkmtcRggmrvWdyhlWW/i91jAsVTC/puZSxabCR8A2k67y1xA4acawFlM1UWkOonc6QM\n",
       "WiOId6ZXwoPQx7eGijDI7lq6KhHJYrtwFUdY2C/x3AIpdLP3wq1mhiAb7Bm/gu3QdUp72dEpZYxt\n",
       "oiZ93jJix+CEwfkBDjEpZkO6lisHCQ9gnSsaeUPkLnWVPqCPRcsYhm8jdc4/sucOmpUDLPXmhc+f\n",
       "Z3e7zScziXQtAd5ATxCf3ViGKwHf9+icI+SFwyARycoMaoCEOkj9Ei9ZIaWKWEk04MVBWib62BF3\n",
       "RF87+pRS/HVmxuctI5b5DM7PEQS/imqw2wgS7sDZ2TDyhsgZlfNz+li0jGF4cpxU1mVPpA4etWfU\n",
       "AunpzrMZyEp31lhrBaSKiFPJBISfNDx4hSutHaX0cR+QAucqjD2R1aZS4Mwd+e7Q6SDnLKyCpM9b\n",
       "eiz6ZCjnfAdBBFdRbemBjnqQ8CwxJfLyehEia7VlhzIWGRtmDMPx85T8RIUMpQTGG/B61BRLQWRN\n",
       "ThSzs+OWj2QCUkHMVrMlCyAUNDzAd+KwyFKa+Ag5dwqwPHP9OMCz2NwkftDp3Q4rvAJag2wdYOzx\n",
       "lh7LfDxUWUMD3KSYDEmfLVDIeS+7CtfQMC8XjgyJvALOgSIJKDZ0JMIDyChXwdBGwdCWnZ9HTCHS\n",
       "s5fNzFyxCpMmjaM2xMmdu3wLoJPX8PD7rfyG23X41DqkILMKPvx+YQ3ccWxuL2WW4w93bnHKbh39\n",
       "u3qRs7Clx6KPQiXn6RJBSM4zn+SJ81HYXsdbCfNy4cjsSgU8BJIJeCx3pMPldZgrymvvrhYHXja/\n",
       "5uZmI6Z+ImbyMXSWsud9+cykDNsQH5qbswEmdDwcXFrboDAKPGqtTYgmiFa/V0jmQgvZ82Jjeajg\n",
       "vKsA4io1ocOee10cZdYqZ320hlXwEEgmAMUxLGZznrQFSVg+M7QEuYhrRLYuq8N+OlnM/QG8ibKf\n",
       "HwETle5F3Mrctp63bLFhqDz7T4G4Sk3olqDLx1+BJc83aE1p4FOgJQDFMfUf/B5XszVrMSG1eWMF\n",
       "56m4TxzTbGHCKR33TzUVDTzV9LtgrgL/i/gPC3FU+fLMZv3QF3fB3w2/BeUvVDcSbicNkgMAAAAA\n",
       "SUVORK5CYII=\n",
       "\" style=\"display:inline;vertical-align:middle;\" /></a>, <a class=\"ProveItLink\" href=\"../../../../../numbers/number_sets/natural_numbers/__pv_it/theorems/5fb53e9c076547ad508281e2a2445cff05af57920/expr.ipynb\"><img src=\"data:image/png;base64,iVBORw0KGgoAAAANSUhEUgAAAEYAAAATBAMAAADfQ2bzAAAAMFBMVEX///8yMjJmZmYiIiIQEBCq\n",
       "qqqYmJjMzMxERER2dnbc3Nzu7u5UVFSIiIi6uroAAACibcT0AAAAAXRSTlMAQObYZgAAAAlwSFlz\n",
       "AAAOxAAADsQBlSsOGwAAAQ9JREFUKM9jYCAAFBgIgwZK1HDbd0gzcPr74TWHI+ANA8N+/HbxWHEm\n",
       "MLAwMHV0eHS04VITwSDFwIzdHN5mY0OwmmUXFuJQwye7AWrOguO8E+Bq+O7smtvLPrMPLLVwA8yu\n",
       "BRwMfXA1nBxnGfbnMYSApaTg7lnArrB5Myyc3zE3MKy/wJAPlhJAqGFIZW2B8Tbsf8AQv4FBEcRm\n",
       "dzY2NraAquHZcATuzngGkAJPcPA2IJnDfWAzXM1BBgZLBr5f3CC2AZIahloOuBpPBu5/DDwCy0Ds\n",
       "u/C4KACGVQWMx/Wdge0DA8eECSAOYwBUFMxQhAebAQOvAgOf7gKwg068Bguyy3sAyY3Y44lvBiQu\n",
       "UAAA9FQ8d6roA+kAAAAASUVORK5CYII=\n",
       "\" style=\"display:inline;vertical-align:middle;\" /></a>, <a class=\"ProveItLink\" href=\"../../../__pv_it/_proof_tuple_eq_via_elem_eq/2fa67578b2af9f310f3c641ab402a90dc9ab796e0/expr.ipynb\"><img src=\"data:image/png;base64,iVBORw0KGgoAAAANSUhEUgAAAWgAAAAVBAMAAACZAGlNAAAAMFBMVEX////MzMxUVFRERES6uroi\n",
       "IiIQEBCYmJhmZmYyMjLu7u52dnaqqqqIiIjc3NwAAACW8nlqAAAAAXRSTlMAQObYZgAAAAlwSFlz\n",
       "AAAOxAAADsQBlSsOGwAAA8NJREFUSMelVk9IVEEY/9b993zuvt0OdrOWLhG2sLJgEVjSwVu4RYJk\n",
       "B8tCEIqN7aCnFkKW8uDSxfBQi0LiQXYTgiIELxtUUC8jpFJZjCCKcoUu6pbNzJs3+/7Mm13pA5fv\n",
       "/Wbm9/3mm28+BwBKUMsUxw++lfZAt2cjq4OLNed5VMPHSm3eM+Lhlf8STcS8dhyW2xPUW66CgYLj\n",
       "/Omr1AkmRVEFDA7hzYbEyFnnZY1p3ckxbFYQ5r7uTIrEzNabUxbeAudAEmQlpFeOv7o8I4hS0Z1h\n",
       "kZZMvaJD/MJFYnyCVd0swUMM6xdU27bu+XIC1v56RXc7sAzBS8GqJ8ybYAUpqKYmVoONguMTMTiF\n",
       "N9sEjOEu0rqm8kbvrR6l3rwOSfgWrS/85BZbdIkeaFPEWYqIwSm82eZJDrtKbnayUg8xHFXeyuVp\n",
       "yx0x5tBzHU6xkxsl089hNz8p/6VlJ7rdVgbzlrjhzTYCF9HoIEgJkEdsB7kNPlWDX+iYF+XyURJG\n",
       "QX5+yBr2bQ6uaXBAULeMwWIzWV54SxekYq6g3ZXBW4CWD7ZdZyFU0OCD7Ip1AowD9IGEN2q2OwA7\n",
       "GuwqO4tmDIZA6M+1muCFr37iBqaLQaJ9McgjpqItJwXoXtTgLmPIAZB/Q6hT2bTM7wNPRYM9/WLR\n",
       "hKFqbpLYBDc8sxj+oWJQeeRVuKUDxqJCfXI8p8FFw+HKf8BfBn9OE22o6QpI2xocSAjLgzJkWpaC\n",
       "qbBZtDX88I3VyHKbWXQROpDoRTgSKNkzHQqjatfgFC4okhQV5Ao0ZN8YOxy1TVyrBPbjCPabZmaY\n",
       "6Ur6IsGIY6ZxePnmIFyGJbPoFG5mbjXQK3HKoyHpTlMYN8Z8ljazDiim0UCzVdVhOA4ajNuavAX0\n",
       "By9kTpXh+0ekizRAvmgcXpnLolyMmUWPQTMijD5ef8cRLbdm9Hnn8blewPcFUU99PhANg3LCOn/q\n",
       "KUo0gb2obqEHb6oXf6V1x8wQhf24WG7H2+PxpF00Cd+guvpRCUvx+ED8GBPjDeuTivwaxLBCCF/h\n",
       "n7M6/g1+8aYT+CtJnb0+zAyX4D1suBwzrV3bcDCmlMPGTCMx1beQQLT2qioY30JK2767vCc6gcmb\n",
       "qMk+amYoo1ynJLHoDZRrfyxtFI3FnKTDPx4u8FYR+As5LtLp3fSflG93l9eMCayQAHP2i2hi8ETg\n",
       "Aax/oqKVZzu8p8RpaCwp0RwVzcRM1/F0IRsLaoFjtadrsuwanBjc9TyfYkYxilpzftD4BKjjpbMm\n",
       "HrYxSPWITlfF/AM9+CTFMQekawAAAABJRU5ErkJggg==\n",
       "\" style=\"display:inline;vertical-align:middle;\" /></a> <a class=\"ProveItLink\" href=\"../../../__pv_it/_proof_tuple_eq_via_elem_eq/a18f9194766498db10419de183fafb82b8d84dcf0/proof.ipynb\" style=\"text-decoration: none\">&nbsp;&#x22A2;&nbsp;&nbsp;</a><a class=\"ProveItLink\" href=\"../../../__pv_it/_proof_tuple_eq_via_elem_eq/13422a744e77bf166d934cbb40a473ef6800ff7a0/expr.ipynb\"><img src=\"data:image/png;base64,iVBORw0KGgoAAAANSUhEUgAAAVEAAAAVBAMAAAAN5sC/AAAAMFBMVEX////MzMxUVFRERES6uroi\n",
       "IiIQEBCYmJhmZmYyMjLu7u52dnaqqqqIiIjc3NwAAACW8nlqAAAAAXRSTlMAQObYZgAAAAlwSFlz\n",
       "AAAOxAAADsQBlSsOGwAAA31JREFUSMetl09IFFEcx3/r/psdd2fXg9FFWrpE2cLKgkWQSAdvoYcE\n",
       "MQ/2DyGINuygXVqIkPLQ0qXwUENCHkLWhKCIYC8G5aHNCClQFiUIg1yhSypt7/dm5s2bN/PWg/Ng\n",
       "h/n9eZ/3fW/e+80sAFTBp6Z5Of2hU0qi7JfSUMXt84l+Fi+L4FtbdrsWQe3s4+zpK40RkngiD6AW\n",
       "/VMa00UP0mMF3vN4D4YkPgWg5P1TGi2IHqQnHRtgdw+GJD4GEAEf21XRgfRefqVD23vsdUk8osMH\n",
       "P5U+Eh1If8U7mvsaE2TxWB4msby0r/LHVjA9ypEsYV50IP3hynFuxMxSw2ogizen6TL0VIP8ogum\n",
       "u0kTxune7KctbS6y+lcv2UW1NKX+a4SWxaNFGCKsEVD6QB23zis1X8wfk9GMBMFHe78XUwk9vg2R\n",
       "CoN/0uGa+vawLmNjXHDNYHWKD8Nlsgg1CM9B21frvFKzAHdlNCPBbnjijd6HxFSkFyE5x+D3AHYU\n",
       "90RZwzg3EvkFVjA5UENWJAulboAF65hR8w9spiQ0M5+1LF5o7x4PpWRSvWUGPw+h3WS3tiVTinHb\n",
       "CuIljkpDw/h8ShW4DbZSw7wlV2okjN1YSS93OJUuiPt0iJbTBzqD74KyHdXlSml8om0pMZpyKCWX\n",
       "02TkMhyNVylMBWZidXFvJ5awcXMELsKSU+momE7oyRTZ1zSMtC14nqe1SHWrtOIzPflIOpF2KI1m\n",
       "sbAEK/EBxYCViswMDJJja7roDbNogjZbJNhJp9JJj7LVlA8WaJj2PwInybVVpyCbzW4wvvGNTE+Z\n",
       "cyglZitJybxc+2yMFR5k5jqZYj/5hfHADIB5sROaKgHcO0oudyl3wlR6TlSK9PYJcyJIe/aaLKl2\n",
       "ygDZbHrD4hk4AOEy3Ml15nJ5Q2m4G8JsN9KxPrLqXtCqEHc/fpYQSSWyWi3Fr6nmOtKMjmFG+wm/\n",
       "ORBrLH4BvsBmwLGmP/ivCqqUVZ/1loM6NLs3E0vYJKsazRZ4pe6vHUbHsEXTOlrucyD7PWTFa2RV\n",
       "RxWHUnwuXWb819N35FGxt+T1eh1g1n2iWMIZiFW1jG4qpb3X3RPr4uAWLVKv1zgQa1Y8lIYnsPbd\n",
       "VKq92amAhmNMO75YnX3dtIRHZckKshxfxjKaB8g9WpDd4PtYq+z3C8p6wgmP/0z7oyvWzSrAf6+A\n",
       "GldwhYCwAAAAAElFTkSuQmCC\n",
       "\" style=\"display:inline;vertical-align:middle;\" /></a></span><br>"
      ],
      "text/plain": [
       "<IPython.core.display.HTML object>"
      ]
     },
     "metadata": {},
     "output_type": "display_data"
    }
   ],
   "source": [
    "tuple_eq = tuple_eq_split_right.inner_expr().rhs.merge()"
   ]
  },
  {
   "cell_type": "code",
   "execution_count": 31,
   "metadata": {},
   "outputs": [
    {
     "data": {
      "text/html": [
       "<span style=\"font-size:20px;\"> <a class=\"ProveItLink\" href=\"../../../__pv_it/_proof_tuple_eq_via_elem_eq/1eb666e3ae96a7e52ed382296368e4159e6384610/proof.ipynb\" style=\"text-decoration: none\">&nbsp;&#x22A2;&nbsp;&nbsp;</a><a class=\"ProveItLink\" href=\"../../../__pv_it/_proof_tuple_eq_via_elem_eq/06f83c4f9c2f90780c4496a6c84badbdabb31bd10/expr.ipynb\"><img src=\"data:image/png;base64,iVBORw0KGgoAAAANSUhEUgAAA2gAAAAxBAMAAABdUZesAAAAMFBMVEX///+IiIgiIiIQEBB2dnbu\n",
       "7u5ERETMzMzc3NwyMjK6urpmZmaYmJiqqqpUVFQAAAB6qHgnAAAAAXRSTlMAQObYZgAAAAlwSFlz\n",
       "AAAOxAAADsQBlSsOGwAADKlJREFUeNrtXH2IVNcVP/O183bezDqbmtTWRJZth5aKsA1pV4Laaeli\n",
       "W6O8tFshENwpxVUS/xi1bChJ6lRbqRR0WjAICWSsugQayzaYaN1NGCFaXC0drSG1BjtbDKWllG2J\n",
       "JA3I9p77fd+7b9bRnbT7cZg7e+8555733j33nvvxfrNQB0LvwALNJjqNX4cW2mFW0Q9IcgoL7TCr\n",
       "qN0DiNcW2mFWUbpKHLfQDLOMHuzufmihFWYZnQTYvNAKs4z2g1O3CuL8rzu3nvePAJlSE/oRlW2i\n",
       "XpZ+WkZtXrxicnafqKTXKGe14VcfSSNzYg4nDzveVA312OPwfbnOTj4X1NR4bms7eyarr0OSywYr\n",
       "mXofvOpz2mGARH0uOG1T0w9yVGRIvY68ZN+wqCpeKo+f1lH5jFYYLRI3nnEh73MacWy8OEcOE9xK\n",
       "05siNnoqEFNt0GtR1XgH6adltJ4YT49tXxY5V4RIFcfesy9l8/HRV0ZPK6elnxscnBNTWhdAlAya\n",
       "RxaL+UnLKtKZchdL6u3qfFeEpH8t8wLhUeOtp5+W0R4SLR4/Uo3VI3XYSANmse9P/pEGBXhgLvjM\n",
       "KQPsA/hmaZdwipZVpDMzI+4goW1Y7x5vqVif5CKBOV7nXaOfllEHGfI//gQsKrp5eJk5zY0U/E5b\n",
       "C+WmrP6iGMyBncVif6po1bnXJkx9BjShYgeuJBSVIfJgw2QWgJ0Ae+mwwGzq0mmzHpULG2LxQept\n",
       "g/O8Wls1XT6+1Ay0yAOlPNzqHjhB7jJag/OkS9UyxUS+7HfapkxzS9iYJRfCYr3zGbuOaxX2WHcj\n",
       "zwSv1KOv57BDkrByHeBhWAbJy7T1MRuDAbMaMmXQE067jpPWG7xarOjWexKT5i0TnsgP0U9rqRfu\n",
       "gwNJ+B4baXA8q/ZpzGkde72mDO6z5EJYIzz+WnVSVYvQKetCSQVrNARdFz0wBIkPYNu3IYpPRLOO\n",
       "NrBAMNOvXzx9paiFR+KESVjNqsEiiNVKyR6jGvIuvHPh+NrWh0f6cJNkrJ1zyaaNbWUi2qqYOS35\n",
       "JBGckatYLQtW3tXFxUDOIpROc0jdi4stOnUmNIxnfrYWpFA9hN+Epih12UJkZfLDs9j6iTzLwhOY\n",
       "7ZdfyMzcBw9niMlIVi1EcukCdVo/+T5Hmqai1WG8S4VY5QpR7qSfllKqDodg/73gbCGFHYeM1mBO\n",
       "g60Ab5Jo47AzL8z6Q/qbWjCCMafAoz/J+eeMMeNlEHVapgrpfIxONPHRUbJwFQYKTCguuI4IK251\n",
       "L7u6MbaECUZS0RyH5DHaSvDL3y2uYusnV7OsW8TszlJyJX5x5pZE2a1Rdd4QJXiaOAKdtrOW/HWW\n",
       "HgGS3EpekfLaio/B6+w6Wz+q1VX/4KB/F9Mmc4dIcHk2J7P+kI48ER3gYKrAoz/J+ecMwhLBRzgt\n",
       "XYP20pCYaDQDZSY0LtjuDbOCsTjiJjTLVFHcUllslcWuF1s/w7J9EZkFmevK5KNpYCtqvmEW1YBu\n",
       "A+Jeluco1dhwvAJdVUgU8PO/I+W0XIQs+9FpHs1iSE8AlMDBL8bj0cGDckeFPh7N4ZyhaxKWCD7C\n",
       "acksUe+sYR020oQB8vQoFBekA6gd/k4LROgxmw7TQhPcslQUAYu1oUvGzSkW8D9GNlLHmG+n/i2y\n",
       "SMf4AUik0rFEaCOdktVStGu9ONXFc9SnHjtx+SRMlPAybun/wmlXLo1Rpzk9LEtC+h5wumA3+eI8\n",
       "Fh1I4fADtE/yHJkzdE1k8eAjFyJ1yKxfWuXTPB6cMQPJPKlJhOKCrH06a7SQzBNju5nhPdKEskwV\n",
       "ecBK8vHVhyNEPpK2kqnamOywUmyzZb00NMrRY8omTzhnepFiFnMgQ8JJPabUQIsONRlIWI7MGX5N\n",
       "Hnyk08ZVzJJECi69xri8oKKTdBlf02LaOPgs67cktgcJGilunxJa/vbrec1dpNWUk10RQ3ra1z15\n",
       "dKhKB1TFnOHTFMFHOi1SsjrtbdqFmZDOIarbZ1FY1To609Is67f0Nsxf2v6Q7NsY0hsRjf5qzmjU\n",
       "K+UfVYcXdKFxQSx4dkuNrjJH6C/dJVigWUOR7hUATZ4pzj0q8dSKBUAo727u8+KC0yI1lmbolMJy\n",
       "QjtDr0cO88Sd1sHPE+YlXeFphuj+AIfsGTc+qDPMUpBC5Piuk77vZE6jr3Lb5+fMliizNFPUHljw\n",
       "PEbS8wbn+WlshMgP8sSclsSTxr3zc6C5VZZmitKBV6NjJN0yOLemsREiv8ATn9PQf+vnp9NiYH3j\n",
       "d+f0BT+jh8x0N4157+Y082KIPOaxxJ02j9cjV3maMXrBP6WRho0bG9p44+1tqLy9yhL3Vqy7+1P5\n",
       "+em0Ezw5N5boCz9f0bKOD1PY4I+/pGHbJ5Zp61OzZHFOiDxeZ4k7zS2y15/zkF7g6UipTY9KvmKQ\n",
       "QhXOU091U6rz8TFwMPGB0jBLQQqTIwAlreKiU4f9H21bsek6FGfNO3GYPBJYVje59FUGVrCUWAWu\n",
       "FpV8RcuiM1ThD75ylIyaP3vwecUxS0EKk2d6WBKT2Wb4xp02v8JCT4OUNqhAv8fD1PmRfEAuYNn+\n",
       "JVrD1yAKy+3vNIAQHprcSYjmIXFexDRa7N/wbuiikyr4HElr7/IvH8h+6jcA78HjYtWApcRX/xka\n",
       "2qi2SbRucpIl4bRLd7EOuWHJQUOecJoFn83V2UvioFzAso/6mqve6AY7LNP1UZ/TYgUYqMD2e0RL\n",
       "0+IIvBK66KQKZidgtY9YnPZpSN1KdoqRiSW3wUhGudY90F20bqqHJeG09vSd/8aj15KDhjzhNAs+\n",
       "u1fbSFrksaJ1C9sY6B0rNtgD8/A4kIXfk9xlMa3Q4odwIAwKz/XN57ksv7Q5DcPjLXBvQqZLbsPc\n",
       "m4sqzvvh2zRXmy7pO2haF78wCafFr3oGFrr/zNeCxqxMDQs9HVI68JDRgFGpvp7LfaBtAcv2/eA4\n",
       "Gnp3eiVjJSYMfIelgRr8jUyM2OJ4A6x4Fp0WvP2EVLjw2876/VtMp53zabeR4fA+fKvKGh6tYSnt\n",
       "Eaclgvcq5RynrzstXWBJOM1ZAzoWOvHZZHD9YmXqWOjpkNIBp+3TjL6G2MKqVL/G5eKeOPRQwLIz\n",
       "ptF99rvzVTIm9RFthb4Bmzaz3KXNnvgPyCJ8hRUHyqAy9IsqJMZXwRoGa1VOO2FZqP8DnmQNT43Q\n",
       "Eu7GpFnzIigXOH3dabh5wCR31X8FHSvtjiSDCDnKlLeCnqZoOsRCq1wjpLSqwx9ymBt1NuvqtDTM\n",
       "5T7Q9jY4T0spc20xHHp3vJKU4PSGjygN7GApMbF2/8dZs3d7spjMsWIUXbwceCaa4wrOo2UyLE6Y\n",
       "TvucP9aQ9t60rsobHq3REuzwqCFqVtkWcoHT150WrbBkHIUorHSsQpwcAD1XNAgrdkOGpkMstMo1\n",
       "QkqrOvwhr3OjgqkZG+JyH2i7F96gpaTptOuhd8cr6QsG+ojSQLTIEiNs9owKiOjeTDA+viWXOFnS\n",
       "U1bgiP4iGdG0thNYX4ifE7B5SVijfeqtYAQQco7Tf23wuyQAsbq7edKdpmGlB0ptZz0/6JkyBYiQ\n",
       "rslpsyAWWuUaIaVVHe60IW4UmSw8SmPXmFyCtnmkm4TVFMLtC49D9rtTlSQWko4UTzOAB7zqkPcy\n",
       "KDg8adgRp6QVjeHK+1ik4EwW9ZEWPHy+oDtNWvsp/EQzZMQI3tMoTl8faWM8GSNNYKX7IVba9bLn\n",
       "Bz1TpgARCgdwfHTudpDSAaeR9QO7khwUwhh0YnWB34YnhBxh2ViKZNVVmKL17mQlibIUTpNYb4oD\n",
       "3qo77VE10J562tOKcnKXdQ+QsZYujOhOC74sEQhl2vDCmrPlqVc1Q5KknOP0NachKpsisw2nCaz0\n",
       "zlpq7NIjAdAzZTIQIf/FYU7io3PTI6VVHek08jjsSrJ9hTHSjMnVEr/tyvCFsGwsEYm8ClO03p2q\n",
       "xLCQ60aXjzIIrMR6UwCxABH/6MUv6z9w/9LUlO337uo45VfQXnImPP48tHYQC86Rxs7X39N+PR+b\n",
       "mpoMHuwoucDpM6fRunjL9LaDx/sKq2gDPQsQoerLjC1zDZDSwZEmf5WcM24hxx40I+V9xtNhaSMY\n",
       "iEcJ9LZciZHAQoqRtlHFwCxLd0diioxYztN+eFeWJVZ4CU9BpyFqjSOdbaBnASKkzYJoOsZWuQZI\n",
       "aVlHPSRHXGuwPF5CSPUxITcBeLR0CrSrSEXrlfiRCcdCjnCU3qmWnKW2goL/JMH6Ii1ty6btphrj\n",
       "o9Ohly/wwRxyp3iWWA2XI1TbAL/6FN3pGjddmcUvJtBpP78T3GMc7q5OSR0A2MiDhvJEaIXp7i4f\n",
       "ZmDWUKR71X8BT/9Iy/IvBxcAAAAASUVORK5CYII=\n",
       "\" style=\"display:inline;vertical-align:middle;\" /></a></span>"
      ],
      "text/plain": [
       "|- forall_{m in NaturalPos | forall_{a_{1}, a_{2}, ..., a_{m}, b_{1}, b_{2}, ..., b_{m} | (a_{1} = b_{1}), (a_{2} = b_{2}), ..., (a_{m} = b_{m})} ((a_{1}, a_{2}, ..., a_{m}) = (b_{1}, b_{2}, ..., b_{m}))} [forall_{a_{1}, a_{2}, ..., a_{m + 1}, b_{1}, b_{2}, ..., b_{m + 1} | (a_{1} = b_{1}), (a_{2} = b_{2}), ..., (a_{m + 1} = b_{m + 1})} ((a_{1}, a_{2}, ..., a_{m + 1}) = (b_{1}, b_{2}, ..., b_{m + 1}))]"
      ]
     },
     "metadata": {},
     "output_type": "display_data"
    }
   ],
   "source": [
    "induction_step.prove()"
   ]
  },
  {
   "cell_type": "markdown",
   "metadata": {},
   "source": [
    "### With the base case and the induction step proven, the induction proof is easily finished."
   ]
  },
  {
   "cell_type": "code",
   "execution_count": 32,
   "metadata": {},
   "outputs": [
    {
     "data": {
      "text/html": [
       "<span style=\"font-size:20px;\"> <a class=\"ProveItLink\" href=\"../../../__pv_it/_proof_tuple_eq_via_elem_eq/f4cd2282627e680cd540564277f7e2b5b853e7b70/proof.ipynb\" style=\"text-decoration: none\">&nbsp;&#x22A2;&nbsp;&nbsp;</a><a class=\"ProveItLink\" href=\"../../../__pv_it/_proof_tuple_eq_via_elem_eq/517ca5f3a2c7d0c384c88f4adb1a0d30880beeac0/expr.ipynb\"><img src=\"data:image/png;base64,iVBORw0KGgoAAAANSUhEUgAAAyAAAAAZBAMAAAA7w1ejAAAAMFBMVEX///+IiIgiIiIQEBB2dnbu\n",
       "7u5ERETMzMzc3NwyMjK6urpmZmaYmJiqqqpUVFQAAAB6qHgnAAAAAXRSTlMAQObYZgAAAAlwSFlz\n",
       "AAAOxAAADsQBlSsOGwAAB5pJREFUaN7tmn+IFFUcwL/7Y2729+2VmKEex+ZhcRSXSB6htQn90lPG\n",
       "ug4C807CQ8xo7cAKMeeMDvznXAIlKGpF7Z9+uEmkeYeuhEV3J+2JcVphe2FJUHCCRyoc9r5v3pt5\n",
       "82Z2tmsxZOvBzLz5vu983sz3+977vvd2ASqmn1M6/J/+leRL3fs3tLK1+OnYxkLVAuQUqopGiaP/\n",
       "UYf4iuQ0vxrCPhfZ/Kpo+wyHlPDyo7dDEniJF2rIIWfxg9JVudRpDgLsXCTcK883eSKEcqRR4igc\n",
       "w/u3vR0SzZFLuIYiiYK9/tnqGHscEgS+IwrCeW+EUL6HHaPwOo593d4OUbEb9ddQB4liYxyqjjHi\n",
       "kCBwWhTUF70RQvkIO0YhrAEEixViCPpuVQ05JICn1ioZmiwhwMiUKDikeSOEcqThMQox0ljClYL6\n",
       "aI3F9vM44lf5QWE5iCAwaIsayysglttpeBBLL0qlFldySCCVuitdQw75DIct/KCBR/rEaevFOUnP\n",
       "50SFYEkeBwkwPNEojDbvNfzhiRPKkYYHccgRgA2VHBLNQJ1WQw55l7XJSBu8JHzXfr1uyvM5USFG\n",
       "e9jhFKb7eCPv2qNctaYO17Qur5mQWI60mDEWDUCo5KKdFh1CNAZuWoBlHb7Mq/vY9Rx4l1sjR3kb\n",
       "mK0b18N+0pSfLsBhwUBLIeo5UbUpxOUYhMCfNLjfepMpCHj1OLEcaXgQh9RpwZzYK1tWwJfEQ3nb\n",
       "wnADrJiRldW9zpxbKUl1xmVYVnqNTf2MF4nlyjHkqaUDZJK47wEexDBKiCcAFgCsZdEkOgn+NHSs\n",
       "/qVs26EK/AUm5ShPgF8AXLF4WahPe+GwXKDhQRwST1oxfcuvm+BCUItqskPGZhrTL7rkwFVmOERx\n",
       "9NIEe9cD9LyuLOOA1Iqd3Z2TIJKWHPIAKNdBbWCtPtANXTny4YfLTqyoAoe1ujhkAUSmTR5x3qGi\n",
       "B46WC7RIK5s+nTRddgRX7cl8EGSHhGPJmTlkiUsOXGWGQ6I5x9dn2PyDDvLHyjLC9uDmBJkkazHH\n",
       "hizlMsRIq4wzA3Yl4VuA67A7U+ajDAU+yDRJMQSHrGmITpk8ssw4oXngaLlAwwMdsoq8Zmxoy1yA\n",
       "eVg0/n1fEFYOtgzmBIcEz5MnlfZZfHzuOPmEswJBqF5u1OScMNyIMsMhfhse044Go68bi6QmuU6T\n",
       "IS2inCCTZK2l1mO9SVCmIZE9Rw2hoL2L8FtcP4UWdM5gLIWRrxuwtcbk1TQBwp8YljivPkOCjgeO\n",
       "lgs0PNAhb5BOvnZ/IaArtIrx4HMHHD0k9BA5PaXvYB+q3K1eddYhCH3NvrycEwKxKDMcssvCR3tI\n",
       "2gy3aXONtoOqoayF/xzLCyYjbscLIJkE8AO7rmYTzfVwJp+nBuzKokXjLVG6PFCu0UkQGHIzQxWU\n",
       "4aXQxqfNYkLg7/ACmLxEoS5v4VBix2G5SMMDHZIgXerNO6Fei9ClzjjkZzscApfIMQi9AP3o7Whe\n",
       "bYWP59pHByrkVi7EsqENPCdrokxyyAcinqbN8A29i2AzISepTpMbsbdUDhISksxCml7GLkbMtm7W\n",
       "qxMZakB/M7HUxOMDd5ACkk3ha7Rgh8vzDFcIrckCzn39jmkGAlcWwOJdxM0UjqMkO46UizQ8zO33\n",
       "CdgPsb09PS8Sh3SEnQ4xQmEjqGc0Gr98JWhVJqWg5itZw3a0tL2Z5xyaRCY55IKIZzHiOL1T0eDx\n",
       "klynyVXtDmEge7Q5znJb+biGw/pCWzT4zlTHVhB3DjKmQiJJ4/lOh8ZCV14FnEDbCYJDlsCgqqaN\n",
       "HhIZk9chxpB0FTY/A35kd+l1pzRdtc8zqHDko7M0XkGgCM08J2uijClyh2y18GygmYRltDI6JBGr\n",
       "m3UaQ5bJlYYsBoodO50WSPTWGrJieXF3kBrQ/N5QPqRD0GNhRppCPuO2NznixquEE2hDgkNCk7Bw\n",
       "3Fixk3l8o7xSN1Kbev0U2qgDAvqOjzSoy5GskuYnKhzrJlG1g2h9BegQliOalp4ho4q2oM7xLDWT\n",
       "GId3viR5ggR1s07WyBmXlFtocmKg+GxoEkjstoGLNmLFumBAxZxF9r+yTYM1zghpKuwG//aM2w45\n",
       "B9p4lXAWjRK5QyIlmFWAfuIq9R7d+EHK6ZAPTxMdYqPeYmRorJ1uuvQW1Tbo1fFkCBOZXVT6aZI6\n",
       "hOWIprqM6emGjCpaDiEfw/EsbWsAekdKeovEgmadbMRmXFJuoUmOgy6FsiLJuN3IRZ1oE2bS0JNX\n",
       "ksKC/+EbN4Q1vcuOwCfgaxfcKRi524VXCWfRKNH+E67yWM8m170scVpJbGRMNINakmcxFVlLn3eQ\n",
       "55u5lGrG7ZqGoukQvmbza3JlnfQJtvyjJGteg3edIjpugpp8wyKK3ipmqw4hpq+aHZ85LrK+qmiU\n",
       "OOPf1NXbV0HE+NL3bzTxLFpUYyvqswWW37K4yHKoCQftmlRR2Do5auLtlWEBeSKqm3Vaid4dFdCY\n",
       "O8oW7PF22/odb6P6Lb/t+Y/+5BBzy8aggrTgpmk5JFhmNxk3sfCJR6F8eUGsJFh+W3oYasIhb93c\n",
       "/2Xx/86UsaMiXcuVW6m8Q275XxB8qaV/AcN1Zkgyvf7oAAAAAElFTkSuQmCC\n",
       "\" style=\"display:inline;vertical-align:middle;\" /></a></span>"
      ],
      "text/plain": [
       "|- forall_{n in NaturalPos} [forall_{a_{1}, a_{2}, ..., a_{n}, b_{1}, b_{2}, ..., b_{n} | (a_{1} = b_{1}), (a_{2} = b_{2}), ..., (a_{n} = b_{n})} ((a_{1}, a_{2}, ..., a_{n}) = (b_{1}, b_{2}, ..., b_{n}))]"
      ]
     },
     "metadata": {},
     "output_type": "display_data"
    },
    {
     "name": "stdout",
     "output_type": "stream",
     "text": [
      "tuple_eq_via_elem_eq has been proven.  Now simply execute \"%qed\".\n"
     ]
    }
   ],
   "source": [
    "induction_inst.derive_consequent()"
   ]
  },
  {
   "cell_type": "code",
   "execution_count": null,
   "metadata": {},
   "outputs": [
    {
     "name": "stdout",
     "output_type": "stream",
     "text": [
      "proveit.core_expr_types.tuples.tuple_eq_via_elem_eq has been proven.\n"
     ]
    }
   ],
   "source": [
    "%qed"
   ]
  },
  {
   "cell_type": "code",
   "execution_count": null,
   "metadata": {},
   "outputs": [],
   "source": []
  }
 ],
 "metadata": {
  "kernelspec": {
   "display_name": "Python 3",
   "language": "python",
   "name": "python3"
  },
  "language_info": {
   "codemirror_mode": {
    "name": "ipython",
    "version": 3
   },
   "file_extension": ".py",
   "mimetype": "text/x-python",
   "name": "python",
   "nbconvert_exporter": "python",
   "pygments_lexer": "ipython3",
   "version": "3.7.3"
  }
 },
 "nbformat": 4,
 "nbformat_minor": 1
}
