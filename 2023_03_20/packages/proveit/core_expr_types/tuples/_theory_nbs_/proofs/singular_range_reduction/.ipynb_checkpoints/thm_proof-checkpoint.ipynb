{
 "cells": [
  {
   "cell_type": "markdown",
   "metadata": {},
   "source": [
    "Proof of <a class=\"ProveItLink\" href=\"../../../../../_theory_nbs_/theory.ipynb\">proveit</a>.<a class=\"ProveItLink\" href=\"../../../../_theory_nbs_/theory.ipynb\">core_expr_types</a>.<a class=\"ProveItLink\" href=\"../../theory.ipynb\">tuples</a>.<a class=\"ProveItLink\" href=\"../../theorems.ipynb#singular_range_reduction\">singular_range_reduction</a> theorem\n",
    "========"
   ]
  },
  {
   "cell_type": "code",
   "execution_count": 1,
   "metadata": {},
   "outputs": [],
   "source": [
    "import proveit\n",
    "from proveit import defaults\n",
    "theory = proveit.Theory() # the theorem's theory"
   ]
  },
  {
   "cell_type": "code",
   "execution_count": 2,
   "metadata": {},
   "outputs": [
    {
     "data": {
      "text/html": [
       "Under these <a href=\"presumptions.txt\">presumptions</a>, we begin our proof of<br><strong id=\"singular_range_reduction\">singular_range_reduction:</strong> <a class=\"ProveItLink\" href=\"../../../__pv_it/theorems/3d08766f171bd867f4c97800be61648b1b9ac2730/expr.ipynb\"><img src=\"data:image/png;base64,iVBORw0KGgoAAAANSUhEUgAAAa8AAAAXBAMAAABOq92eAAAAMFBMVEX///+IiIgiIiIQEBB2dnbu\n",
       "7u5ERETMzMzc3NwyMjK6urpmZmaYmJiqqqpUVFQAAAB6qHgnAAAAAXRSTlMAQObYZgAAAAlwSFlz\n",
       "AAAOxAAADsQBlSsOGwAABH5JREFUWMPdV01oVFcUPpl5b/7eTGbcBcaGkJoKLZY0tAiFgIZ2VVJe\n",
       "oK26qD+LiAspoVm3jpa6kjobQURLQmm7bBRL60+LboRW0MHWRUR0JIsu6iIuQtWV99x7z/1/Y8ad\n",
       "PfDdd887Z+473/055w7Ai0hLwtStF7Zl3a9dKam29LxRWmZcLXgxGegImDrAYoZnSBbX96FXeFtp\n",
       "CPQaXIdA6OKLu/0R+1sC4Pz7pDdh4IrpY1psKY6B4+tL8l7K2to2dJ+FjeyxMRyGHwLhIr4+2Rev\n",
       "uC0AEP0zKXXYBHDC8LEtpuy+sAa2b0A+nMcV2MXXog1lxhLhhxEKQeJL3MB7+yKWXBEAyN+ZBeoD\n",
       "XDd8bAvfUNQfWHN8AzL5A/K4LLXqkoAfRigECZyJqNMXsbwEwE8pqD57GpNqW1BqDZNYPu31hcoa\n",
       "f4yT/o6EF0YoBIkq41ru74gtSwBMKR2lbKyPbfGJlXsesmiE/6JN+mkJL4xQCISJ0dG3+yN2XgJu\n",
       "TPwr9bjJRoq6ysWx+MQMX1+qK2/ixkswd8wM45GT8MIIhUD4BWBWOe8UeUvsYXFEdU2Y8+bvEelR\n",
       "hW2balt/1bb4xExfX+oNtQOW8qz9AwQgGeXShR4hEL6BEvrFl3CY7dwtxykUxK7QBWSzfG6RgNJ/\n",
       "pH+RsJFq47qy2hafmOEbkOM8gByWy1adtX+BgCVZIRAKabSANP6cc35YyPrsuxJQWyU9zbOwi6v6\n",
       "QNkWnOlXJ+RMc2KGb0Dui0zA4orhPssFh0DACyMUAqHW4Lmj7qWp5xMTZ5z38fOVcef0K4u/YpWe\n",
       "KzaliAGcY/hOwicWCIEA7av42ZVpvIrwKZ35TROrDKt62Oy4W7HQVfq3MRtjRE+KbQlsxZFexD4D\n",
       "2oqivt+SsM5YVggEmOa3gGsYe4PXj6VlTWymnib7mRyERGXffRKQb5AeP43YicU6L2g4lkDy0L7W\n",
       "bUI83hIB4C9KT2Vw11zfrBAI8BUnfQkH+RSJxukHmtjXt2icjyOq/Sr5Hl8gvbh6TKbnPe2AxSIW\n",
       "PQbDN37idiQZWRKqq2aBsa5dGSEQYJBnjYNqjiiRFvS82PX3cwl5xnn/ITPm8CO5sYDFJDa48uSh\n",
       "6fsGdpaoM2ZkhCJO8yDO/esSlmSFQJCyFZs9O3j/sSYWr83JrQh1qmhYDXhF+B2M6gBwhLe3wbdY\n",
       "K+b6WsLfJF1dX3CvlUYEbMkK4YgaXhCAeBssJ/ARm6lxTazWVpfPebDvpLXuGa2DurOyTeBZrEuw\n",
       "7esIvrlX7tCVdrBzMzVv3db9JCOEy8b1mZMpTsLuIWD/Fwa6xoo9UDcPlR/hAEdutm3o9B8hZjPs\n",
       "WgJ/jZWvkzzwzWu7KLe2DnUw3x2VcCQcAsFYhRrvdegwuXVM30I/4ag2W4aOYfCch4M5Fl+0r/On\n",
       "GJurvxLNvUlzQU2kJ+EQCPJD99gm/Z7vmPTUfKhAl380LkwNAVMHGAqtTCNMbGh91+3Dgm1LoNfg\n",
       "OoQha/hoA2v4QlXh7M8hYkkzhf+JlF7q6J8BTA5Z+v+ljswAAAAASUVORK5CYII=\n",
       "\" style=\"display:inline;vertical-align:middle;\" /></a><br>(see <a class=\"ProveItLink\" href=\"../../../__pv_it/theorems/3a06db964768041294ee753ed0e17a91337f97c60/dependencies.ipynb\">dependencies</a>)<br>"
      ],
      "text/plain": [
       "singular_range_reduction: forall_{f, i, j | i = j} ((f(i), f(i + 1), ..., f(j)) = (f(i)))"
      ]
     },
     "execution_count": 2,
     "metadata": {},
     "output_type": "execute_result"
    }
   ],
   "source": [
    "%proving singular_range_reduction"
   ]
  },
  {
   "cell_type": "code",
   "execution_count": 3,
   "metadata": {},
   "outputs": [
    {
     "data": {
      "text/html": [
       "<strong id=\"defaults.assumptions\">defaults.assumptions:</strong> <a class=\"ProveItLink\" href=\"../../../__pv_it/_proof_singular_range_reduction/67062e379cc08d39b833c51012ade4d10a6503f90/expr.ipynb\"><img src=\"data:image/png;base64,iVBORw0KGgoAAAANSUhEUgAAADkAAAAVBAMAAAAOWFv7AAAAMFBMVEX////MzMxUVFRERES6uroi\n",
       "IiIQEBCYmJhmZmYyMjLu7u52dnaqqqqIiIjc3NwAAACW8nlqAAAAAXRSTlMAQObYZgAAAAlwSFlz\n",
       "AAAOxAAADsQBlSsOGwAAAPlJREFUKM9jYGB4wIAdgMV5D+CQ9QURp4H4BoYUoxUDbwEDA9cEIDsa\n",
       "Q5YXKDyLgYGjgAEXqGBgYMMpycC2gOEkblnOAoZuoNU3MExfewlIcCswTAeSLAkgkdZQEAgCyzaw\n",
       "ATWwT2CIYWCQ4ZiA7uIH/MBQ4ElgSGFgWMB2AU2Wi+H8AqCfP4BkwUw00ArEQAuBJjNM4kK3Fxw+\n",
       "PAEMtkBzvnCja+X7AiTYDRg2gcx/ji7L/gFIcGxgEAVS6hj+ZTIAEqwODKwCWAMR5IunQDMaMOWY\n",
       "DtSDfNEOxHaYsvIHQD7hA5m+GFOW44YDkGQGJR2+Czii6B4DAwCJYjP0TCqFkwAAAABJRU5ErkJg\n",
       "gg==\n",
       "\" style=\"display:inline;vertical-align:middle;\" /></a><br>"
      ],
      "text/plain": [
       "defaults.assumptions: (i = j)"
      ]
     },
     "execution_count": 3,
     "metadata": {},
     "output_type": "execute_result"
    }
   ],
   "source": [
    "defaults.assumptions = singular_range_reduction.conditions"
   ]
  },
  {
   "cell_type": "code",
   "execution_count": 4,
   "metadata": {},
   "outputs": [
    {
     "data": {
      "text/html": [
       "<strong id=\"i_eq_j\">i_eq_j:</strong> <a class=\"ProveItLink\" href=\"../../../__pv_it/theorems/7ff99845a266ee006d093f1f3992d31b0010acbb0/expr.ipynb\"><img src=\"data:image/png;base64,iVBORw0KGgoAAAANSUhEUgAAACwAAAASBAMAAADS2iHvAAAAMFBMVEX///9ERETc3NxUVFQyMjKq\n",
       "qqrMzMwQEBC6urqYmJju7u52dnYiIiJmZmaIiIgAAACrFvqoAAAAAXRSTlMAQObYZgAAAAlwSFlz\n",
       "AAAOxAAADsQBlSsOGwAAAIBJREFUGNNjYGB4y4AO2KSAxGkMYT4HBqoArrcT0IXWPWZg4OYoADHv\n",
       "nAGBw2DhC+wTGFJ50a3lU+APYFjA/gDdWIb4BQxgjAbuALEzF7rZIA9y/eBGV8z0A+j/D5rowpwf\n",
       "gIQlhruZBbD6EMNtYLUB8xdgEc4POIrNCN63DQwMADD/I5OlceBOAAAAAElFTkSuQmCC\n",
       "\" style=\"display:inline;vertical-align:middle;\" /></a><br>"
      ],
      "text/plain": [
       "i_eq_j: i = j"
      ]
     },
     "execution_count": 4,
     "metadata": {},
     "output_type": "execute_result"
    }
   ],
   "source": [
    "i_eq_j = defaults.assumptions[0]"
   ]
  },
  {
   "cell_type": "code",
   "execution_count": 5,
   "metadata": {},
   "outputs": [
    {
     "ename": "ValueError",
     "evalue": "f doesn't match _a -> f(_a) while delving into (f(i), f(i + 1), ..., f(j)) = (f(i)) which should match (f(i), f(i + 1), ..., f(_b)) = (f(i), f(i + 1), ..., f(_b)) except where marked by (_b,).",
     "output_type": "error",
     "traceback": [
      "\u001b[0;31m---------------------------------------------------------------------------\u001b[0m",
      "\u001b[0;31mMarkedExprError\u001b[0m                           Traceback (most recent call last)",
      "\u001b[0;32m/home/wwitzel/Prove-It/packages/proveit/_core_/expression/expr.py\u001b[0m in \u001b[0;36mequality_replaced\u001b[0;34m(self, requirements, auto_simplify_top_level, simplify_only_where_marked, markers_and_marked_expr)\u001b[0m\n\u001b[1;32m   1200\u001b[0m                         \u001b[0mauto_simplify_top_level\u001b[0m\u001b[0;34m=\u001b[0m\u001b[0mauto_simplify_top_level\u001b[0m\u001b[0;34m,\u001b[0m\u001b[0;34m\u001b[0m\u001b[0;34m\u001b[0m\u001b[0m\n\u001b[0;32m-> 1201\u001b[0;31m                         markers_and_marked_expr=markers_and_marked_expr)\n\u001b[0m\u001b[1;32m   1202\u001b[0m                 \u001b[0;32mexcept\u001b[0m \u001b[0mMarkedExprError\u001b[0m \u001b[0;32mas\u001b[0m \u001b[0me\u001b[0m\u001b[0;34m:\u001b[0m\u001b[0;34m\u001b[0m\u001b[0;34m\u001b[0m\u001b[0m\n",
      "\u001b[0;32m/home/wwitzel/Prove-It/packages/proveit/_core_/expression/expr.py\u001b[0m in \u001b[0;36m_auto_simplified\u001b[0;34m(self, requirements, stored_replacements, auto_simplify_top_level, markers_and_marked_expr)\u001b[0m\n\u001b[1;32m   1357\u001b[0m                 \u001b[0mstored_replacements\u001b[0m\u001b[0;34m=\u001b[0m\u001b[0mstored_replacements\u001b[0m\u001b[0;34m,\u001b[0m\u001b[0;34m\u001b[0m\u001b[0;34m\u001b[0m\u001b[0m\n\u001b[0;32m-> 1358\u001b[0;31m                 markers_and_marked_expr=markers_and_marked_expr)\n\u001b[0m\u001b[1;32m   1359\u001b[0m         \u001b[0;32mif\u001b[0m \u001b[0;34m(\u001b[0m\u001b[0mexpr\u001b[0m \u001b[0;34m!=\u001b[0m \u001b[0mself\u001b[0m\u001b[0;34m)\u001b[0m \u001b[0;32mand\u001b[0m \u001b[0;34m(\u001b[0m\u001b[0mexpr\u001b[0m \u001b[0;32min\u001b[0m \u001b[0mdefaults\u001b[0m\u001b[0;34m.\u001b[0m\u001b[0mpreserved_exprs\u001b[0m\u001b[0;34m)\u001b[0m\u001b[0;34m:\u001b[0m\u001b[0;34m\u001b[0m\u001b[0;34m\u001b[0m\u001b[0m\n",
      "\u001b[0;32m/home/wwitzel/Prove-It/packages/proveit/_core_/expression/expr.py\u001b[0m in \u001b[0;36m_auto_simplified_sub_exprs\u001b[0;34m(self, requirements, stored_replacements, markers_and_marked_expr)\u001b[0m\n\u001b[1;32m   1453\u001b[0m                             lambda _expr : _expr._sub_expressions[_k]))\n\u001b[0;32m-> 1454\u001b[0;31m                   for _k, sub_expr in enumerate(sub_exprs))\n\u001b[0m\u001b[1;32m   1455\u001b[0m         if all(subbed_sub._style_id == sub._style_id for\n",
      "\u001b[0;32m/home/wwitzel/Prove-It/packages/proveit/_core_/expression/expr.py\u001b[0m in \u001b[0;36m<genexpr>\u001b[0;34m(.0)\u001b[0m\n\u001b[1;32m   1453\u001b[0m                             lambda _expr : _expr._sub_expressions[_k]))\n\u001b[0;32m-> 1454\u001b[0;31m                   for _k, sub_expr in enumerate(sub_exprs))\n\u001b[0m\u001b[1;32m   1455\u001b[0m         if all(subbed_sub._style_id == sub._style_id for\n",
      "\u001b[0;32m/home/wwitzel/Prove-It/packages/proveit/_core_/expression/expr.py\u001b[0m in \u001b[0;36m_auto_simplified\u001b[0;34m(self, requirements, stored_replacements, auto_simplify_top_level, markers_and_marked_expr)\u001b[0m\n\u001b[1;32m   1357\u001b[0m                 \u001b[0mstored_replacements\u001b[0m\u001b[0;34m=\u001b[0m\u001b[0mstored_replacements\u001b[0m\u001b[0;34m,\u001b[0m\u001b[0;34m\u001b[0m\u001b[0;34m\u001b[0m\u001b[0m\n\u001b[0;32m-> 1358\u001b[0;31m                 markers_and_marked_expr=markers_and_marked_expr)\n\u001b[0m\u001b[1;32m   1359\u001b[0m         \u001b[0;32mif\u001b[0m \u001b[0;34m(\u001b[0m\u001b[0mexpr\u001b[0m \u001b[0;34m!=\u001b[0m \u001b[0mself\u001b[0m\u001b[0;34m)\u001b[0m \u001b[0;32mand\u001b[0m \u001b[0;34m(\u001b[0m\u001b[0mexpr\u001b[0m \u001b[0;32min\u001b[0m \u001b[0mdefaults\u001b[0m\u001b[0;34m.\u001b[0m\u001b[0mpreserved_exprs\u001b[0m\u001b[0;34m)\u001b[0m\u001b[0;34m:\u001b[0m\u001b[0;34m\u001b[0m\u001b[0;34m\u001b[0m\u001b[0m\n",
      "\u001b[0;32m/home/wwitzel/Prove-It/packages/proveit/_core_/expression/composite/expr_tuple.py\u001b[0m in \u001b[0;36m_auto_simplified_sub_exprs\u001b[0;34m(self, requirements, stored_replacements, markers_and_marked_expr)\u001b[0m\n\u001b[1;32m    412\u001b[0m                         \u001b[0;32mcontinue\u001b[0m\u001b[0;34m\u001b[0m\u001b[0;34m\u001b[0m\u001b[0m\n\u001b[0;32m--> 413\u001b[0;31m                 \u001b[0;32mraise\u001b[0m \u001b[0me\u001b[0m \u001b[0;31m# It failed.\u001b[0m\u001b[0;34m\u001b[0m\u001b[0;34m\u001b[0m\u001b[0m\n\u001b[0m\u001b[1;32m    414\u001b[0m             \u001b[0;32mif\u001b[0m \u001b[0;32mnot\u001b[0m \u001b[0mpossibly_expanded_range\u001b[0m\u001b[0;34m:\u001b[0m\u001b[0;34m\u001b[0m\u001b[0;34m\u001b[0m\u001b[0m\n",
      "\u001b[0;32m/home/wwitzel/Prove-It/packages/proveit/_core_/expression/composite/expr_tuple.py\u001b[0m in \u001b[0;36m_auto_simplified_sub_exprs\u001b[0;34m(self, requirements, stored_replacements, markers_and_marked_expr)\u001b[0m\n\u001b[1;32m    394\u001b[0m                             \u001b[0;32mcontinue\u001b[0m\u001b[0;34m\u001b[0m\u001b[0;34m\u001b[0m\u001b[0m\n\u001b[0;32m--> 395\u001b[0;31m                         \u001b[0;32mraise\u001b[0m \u001b[0me\u001b[0m\u001b[0;34m\u001b[0m\u001b[0;34m\u001b[0m\u001b[0m\n\u001b[0m\u001b[1;32m    396\u001b[0m             \u001b[0;32mexcept\u001b[0m \u001b[0mMarkedExprError\u001b[0m \u001b[0;32mas\u001b[0m \u001b[0me\u001b[0m\u001b[0;34m:\u001b[0m\u001b[0;34m\u001b[0m\u001b[0;34m\u001b[0m\u001b[0m\n",
      "\u001b[0;32m/home/wwitzel/Prove-It/packages/proveit/_core_/expression/composite/expr_tuple.py\u001b[0m in \u001b[0;36m_auto_simplified_sub_exprs\u001b[0;34m(self, requirements, stored_replacements, markers_and_marked_expr)\u001b[0m\n\u001b[1;32m    361\u001b[0m                             \u001b[0mstored_replacements\u001b[0m\u001b[0;34m=\u001b[0m\u001b[0mstored_replacements\u001b[0m\u001b[0;34m,\u001b[0m\u001b[0;34m\u001b[0m\u001b[0;34m\u001b[0m\u001b[0m\n\u001b[0;32m--> 362\u001b[0;31m                             markers_and_marked_expr=(markers, marked_expr))\n\u001b[0m\u001b[1;32m    363\u001b[0m                         \u001b[0;32mbreak\u001b[0m\u001b[0;34m\u001b[0m\u001b[0;34m\u001b[0m\u001b[0m\n",
      "\u001b[0;32m/home/wwitzel/Prove-It/packages/proveit/_core_/expression/expr.py\u001b[0m in \u001b[0;36m_auto_simplified\u001b[0;34m(self, requirements, stored_replacements, auto_simplify_top_level, markers_and_marked_expr)\u001b[0m\n\u001b[1;32m   1357\u001b[0m                 \u001b[0mstored_replacements\u001b[0m\u001b[0;34m=\u001b[0m\u001b[0mstored_replacements\u001b[0m\u001b[0;34m,\u001b[0m\u001b[0;34m\u001b[0m\u001b[0;34m\u001b[0m\u001b[0m\n\u001b[0;32m-> 1358\u001b[0;31m                 markers_and_marked_expr=markers_and_marked_expr)\n\u001b[0m\u001b[1;32m   1359\u001b[0m         \u001b[0;32mif\u001b[0m \u001b[0;34m(\u001b[0m\u001b[0mexpr\u001b[0m \u001b[0;34m!=\u001b[0m \u001b[0mself\u001b[0m\u001b[0;34m)\u001b[0m \u001b[0;32mand\u001b[0m \u001b[0;34m(\u001b[0m\u001b[0mexpr\u001b[0m \u001b[0;32min\u001b[0m \u001b[0mdefaults\u001b[0m\u001b[0;34m.\u001b[0m\u001b[0mpreserved_exprs\u001b[0m\u001b[0;34m)\u001b[0m\u001b[0;34m:\u001b[0m\u001b[0;34m\u001b[0m\u001b[0;34m\u001b[0m\u001b[0m\n",
      "\u001b[0;32m/home/wwitzel/Prove-It/packages/proveit/_core_/expression/composite/expr_tuple.py\u001b[0m in \u001b[0;36m_auto_simplified_sub_exprs\u001b[0;34m(self, requirements, stored_replacements, markers_and_marked_expr)\u001b[0m\n\u001b[1;32m    412\u001b[0m                         \u001b[0;32mcontinue\u001b[0m\u001b[0;34m\u001b[0m\u001b[0;34m\u001b[0m\u001b[0m\n\u001b[0;32m--> 413\u001b[0;31m                 \u001b[0;32mraise\u001b[0m \u001b[0me\u001b[0m \u001b[0;31m# It failed.\u001b[0m\u001b[0;34m\u001b[0m\u001b[0;34m\u001b[0m\u001b[0m\n\u001b[0m\u001b[1;32m    414\u001b[0m             \u001b[0;32mif\u001b[0m \u001b[0;32mnot\u001b[0m \u001b[0mpossibly_expanded_range\u001b[0m\u001b[0;34m:\u001b[0m\u001b[0;34m\u001b[0m\u001b[0;34m\u001b[0m\u001b[0m\n",
      "\u001b[0;32m/home/wwitzel/Prove-It/packages/proveit/_core_/expression/composite/expr_tuple.py\u001b[0m in \u001b[0;36m_auto_simplified_sub_exprs\u001b[0;34m(self, requirements, stored_replacements, markers_and_marked_expr)\u001b[0m\n\u001b[1;32m    394\u001b[0m                             \u001b[0;32mcontinue\u001b[0m\u001b[0;34m\u001b[0m\u001b[0;34m\u001b[0m\u001b[0m\n\u001b[0;32m--> 395\u001b[0;31m                         \u001b[0;32mraise\u001b[0m \u001b[0me\u001b[0m\u001b[0;34m\u001b[0m\u001b[0;34m\u001b[0m\u001b[0m\n\u001b[0m\u001b[1;32m    396\u001b[0m             \u001b[0;32mexcept\u001b[0m \u001b[0mMarkedExprError\u001b[0m \u001b[0;32mas\u001b[0m \u001b[0me\u001b[0m\u001b[0;34m:\u001b[0m\u001b[0;34m\u001b[0m\u001b[0;34m\u001b[0m\u001b[0m\n",
      "\u001b[0;32m/home/wwitzel/Prove-It/packages/proveit/_core_/expression/composite/expr_tuple.py\u001b[0m in \u001b[0;36m_auto_simplified_sub_exprs\u001b[0;34m(self, requirements, stored_replacements, markers_and_marked_expr)\u001b[0m\n\u001b[1;32m    361\u001b[0m                             \u001b[0mstored_replacements\u001b[0m\u001b[0;34m=\u001b[0m\u001b[0mstored_replacements\u001b[0m\u001b[0;34m,\u001b[0m\u001b[0;34m\u001b[0m\u001b[0;34m\u001b[0m\u001b[0m\n\u001b[0;32m--> 362\u001b[0;31m                             markers_and_marked_expr=(markers, marked_expr))\n\u001b[0m\u001b[1;32m    363\u001b[0m                         \u001b[0;32mbreak\u001b[0m\u001b[0;34m\u001b[0m\u001b[0;34m\u001b[0m\u001b[0m\n",
      "\u001b[0;32m/home/wwitzel/Prove-It/packages/proveit/_core_/expression/expr.py\u001b[0m in \u001b[0;36m_auto_simplified\u001b[0;34m(self, requirements, stored_replacements, auto_simplify_top_level, markers_and_marked_expr)\u001b[0m\n\u001b[1;32m   1357\u001b[0m                 \u001b[0mstored_replacements\u001b[0m\u001b[0;34m=\u001b[0m\u001b[0mstored_replacements\u001b[0m\u001b[0;34m,\u001b[0m\u001b[0;34m\u001b[0m\u001b[0;34m\u001b[0m\u001b[0m\n\u001b[0;32m-> 1358\u001b[0;31m                 markers_and_marked_expr=markers_and_marked_expr)\n\u001b[0m\u001b[1;32m   1359\u001b[0m         \u001b[0;32mif\u001b[0m \u001b[0;34m(\u001b[0m\u001b[0mexpr\u001b[0m \u001b[0;34m!=\u001b[0m \u001b[0mself\u001b[0m\u001b[0;34m)\u001b[0m \u001b[0;32mand\u001b[0m \u001b[0;34m(\u001b[0m\u001b[0mexpr\u001b[0m \u001b[0;32min\u001b[0m \u001b[0mdefaults\u001b[0m\u001b[0;34m.\u001b[0m\u001b[0mpreserved_exprs\u001b[0m\u001b[0;34m)\u001b[0m\u001b[0;34m:\u001b[0m\u001b[0;34m\u001b[0m\u001b[0;34m\u001b[0m\u001b[0m\n",
      "\u001b[0;32m/home/wwitzel/Prove-It/packages/proveit/_core_/expression/expr.py\u001b[0m in \u001b[0;36m_auto_simplified_sub_exprs\u001b[0;34m(self, requirements, stored_replacements, markers_and_marked_expr)\u001b[0m\n\u001b[1;32m   1453\u001b[0m                             lambda _expr : _expr._sub_expressions[_k]))\n\u001b[0;32m-> 1454\u001b[0;31m                   for _k, sub_expr in enumerate(sub_exprs))\n\u001b[0m\u001b[1;32m   1455\u001b[0m         if all(subbed_sub._style_id == sub._style_id for\n",
      "\u001b[0;32m/home/wwitzel/Prove-It/packages/proveit/_core_/expression/expr.py\u001b[0m in \u001b[0;36m<genexpr>\u001b[0;34m(.0)\u001b[0m\n\u001b[1;32m   1453\u001b[0m                             lambda _expr : _expr._sub_expressions[_k]))\n\u001b[0;32m-> 1454\u001b[0;31m                   for _k, sub_expr in enumerate(sub_exprs))\n\u001b[0m\u001b[1;32m   1455\u001b[0m         if all(subbed_sub._style_id == sub._style_id for\n",
      "\u001b[0;32m/home/wwitzel/Prove-It/packages/proveit/_core_/expression/expr.py\u001b[0m in \u001b[0;36m_auto_simplified\u001b[0;34m(self, requirements, stored_replacements, auto_simplify_top_level, markers_and_marked_expr)\u001b[0m\n\u001b[1;32m   1334\u001b[0m                 \u001b[0;32mif\u001b[0m \u001b[0mself\u001b[0m \u001b[0;34m!=\u001b[0m \u001b[0mmarked_expr\u001b[0m\u001b[0;34m:\u001b[0m\u001b[0;34m\u001b[0m\u001b[0;34m\u001b[0m\u001b[0m\n\u001b[0;32m-> 1335\u001b[0;31m                     \u001b[0;32mraise\u001b[0m \u001b[0mMarkedExprError\u001b[0m\u001b[0;34m(\u001b[0m\u001b[0mmarked_expr\u001b[0m\u001b[0;34m,\u001b[0m \u001b[0mself\u001b[0m\u001b[0;34m)\u001b[0m\u001b[0;34m\u001b[0m\u001b[0;34m\u001b[0m\u001b[0m\n\u001b[0m\u001b[1;32m   1336\u001b[0m                 \u001b[0;32mreturn\u001b[0m \u001b[0mself\u001b[0m\u001b[0;34m\u001b[0m\u001b[0;34m\u001b[0m\u001b[0m\n",
      "\u001b[0;31mMarkedExprError\u001b[0m: (_a -> f(_a), f)",
      "\nDuring handling of the above exception, another exception occurred:\n",
      "\u001b[0;31mValueError\u001b[0m                                Traceback (most recent call last)",
      "\u001b[0;32m<ipython-input-5-9ece43df3077>\u001b[0m in \u001b[0;36m<module>\u001b[0;34m\u001b[0m\n\u001b[0;32m----> 1\u001b[0;31m \u001b[0mi_eq_j\u001b[0m\u001b[0;34m.\u001b[0m\u001b[0mderive_reversed\u001b[0m\u001b[0;34m(\u001b[0m\u001b[0;34m)\u001b[0m\u001b[0;34m.\u001b[0m\u001b[0msubstitution\u001b[0m\u001b[0;34m(\u001b[0m\u001b[0msingular_range_reduction\u001b[0m\u001b[0;34m.\u001b[0m\u001b[0minstance_expr\u001b[0m\u001b[0;34m.\u001b[0m\u001b[0mlhs\u001b[0m\u001b[0;34m)\u001b[0m\u001b[0;34m\u001b[0m\u001b[0;34m\u001b[0m\u001b[0m\n\u001b[0m",
      "\u001b[0;32m/home/wwitzel/Prove-It/packages/proveit/_core_/judgment.py\u001b[0m in \u001b[0;36mcall_method_with_judgment_assumptions\u001b[0;34m(*args, **defaults_config)\u001b[0m\n\u001b[1;32m    694\u001b[0m                             \u001b[0mdefaults_config\u001b[0m\u001b[0;34m[\u001b[0m\u001b[0;34m'assumptions'\u001b[0m\u001b[0;34m]\u001b[0m \u001b[0;34m=\u001b[0m\u001b[0;31m \u001b[0m\u001b[0;31m\\\u001b[0m\u001b[0;34m\u001b[0m\u001b[0;34m\u001b[0m\u001b[0m\n\u001b[1;32m    695\u001b[0m                                 \u001b[0mtuple\u001b[0m\u001b[0;34m(\u001b[0m\u001b[0massumptions\u001b[0m\u001b[0;34m)\u001b[0m \u001b[0;34m+\u001b[0m \u001b[0mself\u001b[0m\u001b[0;34m.\u001b[0m\u001b[0massumptions\u001b[0m\u001b[0;34m\u001b[0m\u001b[0;34m\u001b[0m\u001b[0m\n\u001b[0;32m--> 696\u001b[0;31m                     \u001b[0;32mreturn\u001b[0m \u001b[0mattr\u001b[0m\u001b[0;34m.\u001b[0m\u001b[0m__call__\u001b[0m\u001b[0;34m(\u001b[0m\u001b[0;34m*\u001b[0m\u001b[0margs\u001b[0m\u001b[0;34m,\u001b[0m \u001b[0;34m**\u001b[0m\u001b[0mdefaults_config\u001b[0m\u001b[0;34m)\u001b[0m\u001b[0;34m\u001b[0m\u001b[0;34m\u001b[0m\u001b[0m\n\u001b[0m\u001b[1;32m    697\u001b[0m                 \u001b[0;32mreturn\u001b[0m \u001b[0mcall_method_with_judgment_assumptions\u001b[0m\u001b[0;34m\u001b[0m\u001b[0;34m\u001b[0m\u001b[0m\n\u001b[1;32m    698\u001b[0m \u001b[0;34m\u001b[0m\u001b[0m\n",
      "\u001b[0;32m/home/wwitzel/Prove-It/packages/proveit/decorators.py\u001b[0m in \u001b[0;36mdecorated_prover\u001b[0;34m(*args, **kwargs)\u001b[0m\n\u001b[1;32m    152\u001b[0m             \u001b[0mAssumption\u001b[0m\u001b[0;34m.\u001b[0m\u001b[0mmake_assumptions\u001b[0m\u001b[0;34m(\u001b[0m\u001b[0mdefaults\u001b[0m\u001b[0;34m.\u001b[0m\u001b[0massumptions\u001b[0m\u001b[0;34m)\u001b[0m\u001b[0;34m\u001b[0m\u001b[0;34m\u001b[0m\u001b[0m\n\u001b[1;32m    153\u001b[0m             \u001b[0;31m# Now call the prover function.\u001b[0m\u001b[0;34m\u001b[0m\u001b[0;34m\u001b[0m\u001b[0;34m\u001b[0m\u001b[0m\n\u001b[0;32m--> 154\u001b[0;31m             \u001b[0mproven_truth\u001b[0m \u001b[0;34m=\u001b[0m \u001b[0mchecked_truth\u001b[0m\u001b[0;34m(\u001b[0m\u001b[0mfunc\u001b[0m\u001b[0;34m(\u001b[0m\u001b[0;34m*\u001b[0m\u001b[0margs\u001b[0m\u001b[0;34m,\u001b[0m \u001b[0;34m**\u001b[0m\u001b[0mkwargs\u001b[0m\u001b[0;34m)\u001b[0m\u001b[0;34m)\u001b[0m\u001b[0;34m\u001b[0m\u001b[0;34m\u001b[0m\u001b[0m\n\u001b[0m\u001b[1;32m    155\u001b[0m \u001b[0;34m\u001b[0m\u001b[0m\n\u001b[1;32m    156\u001b[0m         \u001b[0;32mif\u001b[0m \u001b[0mis_conclude_method\u001b[0m\u001b[0;34m:\u001b[0m\u001b[0;34m\u001b[0m\u001b[0;34m\u001b[0m\u001b[0m\n",
      "\u001b[0;32m/home/wwitzel/Prove-It/packages/proveit/logic/equality/equals.py\u001b[0m in \u001b[0;36msubstitution\u001b[0;34m(self, lambda_map, **defaults_config)\u001b[0m\n\u001b[1;32m    702\u001b[0m         \u001b[0;31m# Regular single-operand substitution:\u001b[0m\u001b[0;34m\u001b[0m\u001b[0;34m\u001b[0m\u001b[0;34m\u001b[0m\u001b[0m\n\u001b[1;32m    703\u001b[0m         return substitution.instantiate(\n\u001b[0;32m--> 704\u001b[0;31m             {f: lambda_map, x: self.lhs, y: self.rhs}, **extra_kwargs)\n\u001b[0m\u001b[1;32m    705\u001b[0m \u001b[0;34m\u001b[0m\u001b[0m\n\u001b[1;32m    706\u001b[0m     \u001b[0;34m@\u001b[0m\u001b[0mprover\u001b[0m\u001b[0;34m\u001b[0m\u001b[0;34m\u001b[0m\u001b[0m\n",
      "\u001b[0;32m/home/wwitzel/Prove-It/packages/proveit/decorators.py\u001b[0m in \u001b[0;36mdecorated_prover\u001b[0;34m(*args, **kwargs)\u001b[0m\n\u001b[1;32m    152\u001b[0m             \u001b[0mAssumption\u001b[0m\u001b[0;34m.\u001b[0m\u001b[0mmake_assumptions\u001b[0m\u001b[0;34m(\u001b[0m\u001b[0mdefaults\u001b[0m\u001b[0;34m.\u001b[0m\u001b[0massumptions\u001b[0m\u001b[0;34m)\u001b[0m\u001b[0;34m\u001b[0m\u001b[0;34m\u001b[0m\u001b[0m\n\u001b[1;32m    153\u001b[0m             \u001b[0;31m# Now call the prover function.\u001b[0m\u001b[0;34m\u001b[0m\u001b[0;34m\u001b[0m\u001b[0;34m\u001b[0m\u001b[0m\n\u001b[0;32m--> 154\u001b[0;31m             \u001b[0mproven_truth\u001b[0m \u001b[0;34m=\u001b[0m \u001b[0mchecked_truth\u001b[0m\u001b[0;34m(\u001b[0m\u001b[0mfunc\u001b[0m\u001b[0;34m(\u001b[0m\u001b[0;34m*\u001b[0m\u001b[0margs\u001b[0m\u001b[0;34m,\u001b[0m \u001b[0;34m**\u001b[0m\u001b[0mkwargs\u001b[0m\u001b[0;34m)\u001b[0m\u001b[0;34m)\u001b[0m\u001b[0;34m\u001b[0m\u001b[0;34m\u001b[0m\u001b[0m\n\u001b[0m\u001b[1;32m    155\u001b[0m \u001b[0;34m\u001b[0m\u001b[0m\n\u001b[1;32m    156\u001b[0m         \u001b[0;32mif\u001b[0m \u001b[0mis_conclude_method\u001b[0m\u001b[0;34m:\u001b[0m\u001b[0;34m\u001b[0m\u001b[0;34m\u001b[0m\u001b[0m\n",
      "\u001b[0;32m/home/wwitzel/Prove-It/packages/proveit/_core_/judgment.py\u001b[0m in \u001b[0;36minstantiate\u001b[0;34m(self, repl_map, num_forall_eliminations, simplify_only_where_marked, markers_and_marked_expr, **defaults_config)\u001b[0m\n\u001b[1;32m   1050\u001b[0m                         \u001b[0mequiv_alt_expansions\u001b[0m\u001b[0;34m=\u001b[0m\u001b[0mequiv_alt_expansions\u001b[0m\u001b[0;34m,\u001b[0m\u001b[0;34m\u001b[0m\u001b[0;34m\u001b[0m\u001b[0m\n\u001b[1;32m   1051\u001b[0m                         \u001b[0msimplify_only_where_marked\u001b[0m\u001b[0;34m=\u001b[0m\u001b[0msimplify_only_where_marked\u001b[0m\u001b[0;34m,\u001b[0m\u001b[0;34m\u001b[0m\u001b[0;34m\u001b[0m\u001b[0m\n\u001b[0;32m-> 1052\u001b[0;31m                         markers_and_marked_expr=markers_and_marked_expr))\n\u001b[0m\u001b[1;32m   1053\u001b[0m         \u001b[0;32mfinally\u001b[0m\u001b[0;34m:\u001b[0m\u001b[0;34m\u001b[0m\u001b[0;34m\u001b[0m\u001b[0m\n\u001b[1;32m   1054\u001b[0m             \u001b[0;31m# Revert the preserved_exprs set back to what it was.\u001b[0m\u001b[0;34m\u001b[0m\u001b[0;34m\u001b[0m\u001b[0;34m\u001b[0m\u001b[0m\n",
      "\u001b[0;32m/home/wwitzel/Prove-It/packages/proveit/_core_/proof.py\u001b[0m in \u001b[0;36mget_instantiation\u001b[0;34m(orig_judgment, num_forall_eliminations, repl_map, equiv_alt_expansions, simplify_only_where_marked, markers_and_marked_expr)\u001b[0m\n\u001b[1;32m   1323\u001b[0m                              \u001b[0mmapping\u001b[0m\u001b[0;34m,\u001b[0m \u001b[0mmapping_key_order\u001b[0m\u001b[0;34m,\u001b[0m\u001b[0;34m\u001b[0m\u001b[0;34m\u001b[0m\u001b[0m\n\u001b[1;32m   1324\u001b[0m                              \u001b[0msimplify_only_where_marked\u001b[0m\u001b[0;34m,\u001b[0m\u001b[0;34m\u001b[0m\u001b[0;34m\u001b[0m\u001b[0m\n\u001b[0;32m-> 1325\u001b[0;31m                              markers_and_marked_expr)\n\u001b[0m\u001b[1;32m   1326\u001b[0m         \u001b[0;32massert\u001b[0m \u001b[0minst\u001b[0m\u001b[0;34m.\u001b[0m\u001b[0mmapping\u001b[0m \u001b[0;34m==\u001b[0m \u001b[0mmapping\u001b[0m\u001b[0;34m\u001b[0m\u001b[0;34m\u001b[0m\u001b[0m\n\u001b[1;32m   1327\u001b[0m         \u001b[0;32mif\u001b[0m \u001b[0;32mnot\u001b[0m \u001b[0mdefaults\u001b[0m\u001b[0;34m.\u001b[0m\u001b[0msimplify_with_known_evaluations\u001b[0m\u001b[0;34m:\u001b[0m\u001b[0;34m\u001b[0m\u001b[0;34m\u001b[0m\u001b[0m\n",
      "\u001b[0;32m/home/wwitzel/Prove-It/packages/proveit/_core_/proof.py\u001b[0m in \u001b[0;36m__init__\u001b[0;34m(self, orig_judgment, num_forall_eliminations, repl_map, equiv_alt_expansions, mapping, mapping_key_order, simplify_only_where_marked, markers_and_marked_expr)\u001b[0m\n\u001b[1;32m   1523\u001b[0m                 \u001b[0mequiv_alt_expansions\u001b[0m\u001b[0;34m,\u001b[0m\u001b[0;34m\u001b[0m\u001b[0;34m\u001b[0m\u001b[0m\n\u001b[1;32m   1524\u001b[0m                 \u001b[0msimplify_only_where_marked\u001b[0m\u001b[0;34m,\u001b[0m \u001b[0mmarkers_and_marked_expr\u001b[0m\u001b[0;34m,\u001b[0m\u001b[0;34m\u001b[0m\u001b[0;34m\u001b[0m\u001b[0m\n\u001b[0;32m-> 1525\u001b[0;31m                 requirements, equality_repl_requirements)\n\u001b[0m\u001b[1;32m   1526\u001b[0m         \u001b[0;32mexcept\u001b[0m \u001b[0mLambdaApplicationError\u001b[0m \u001b[0;32mas\u001b[0m \u001b[0me\u001b[0m\u001b[0;34m:\u001b[0m\u001b[0;34m\u001b[0m\u001b[0;34m\u001b[0m\u001b[0m\n\u001b[1;32m   1527\u001b[0m             raise InstantiationFailure(orig_judgment, repl_map,\n",
      "\u001b[0;32m/home/wwitzel/Prove-It/packages/proveit/_core_/proof.py\u001b[0m in \u001b[0;36m_instantiated_expr\u001b[0;34m(original_judgment, relabel_params, relabel_param_replacements, param_to_num_operand_entries, num_forall_eliminations, repl_map, equiv_alt_expansions, simplify_only_where_marked, markers_and_marked_expr, requirements, equality_repl_requirements)\u001b[0m\n\u001b[1;32m   1863\u001b[0m         \u001b[0;31m# not yet been used\u001b[0m\u001b[0;34m\u001b[0m\u001b[0;34m\u001b[0m\u001b[0;34m\u001b[0m\u001b[0m\n\u001b[1;32m   1864\u001b[0m         return instantiate(expr, simplify_only_where_marked,\n\u001b[0;32m-> 1865\u001b[0;31m                            markers_and_marked_expr)\n\u001b[0m\u001b[1;32m   1866\u001b[0m \u001b[0;34m\u001b[0m\u001b[0m\n\u001b[1;32m   1867\u001b[0m \u001b[0;34m\u001b[0m\u001b[0m\n",
      "\u001b[0;32m/home/wwitzel/Prove-It/packages/proveit/_core_/proof.py\u001b[0m in \u001b[0;36minstantiate\u001b[0;34m(expr, _simplify_only_where_marked, _markers_and_marked_expr)\u001b[0m\n\u001b[1;32m   1681\u001b[0m                     \u001b[0mauto_simplify_top_level\u001b[0m\u001b[0;34m=\u001b[0m\u001b[0;32mFalse\u001b[0m\u001b[0;34m,\u001b[0m\u001b[0;34m\u001b[0m\u001b[0;34m\u001b[0m\u001b[0m\n\u001b[1;32m   1682\u001b[0m                     \u001b[0msimplify_only_where_marked\u001b[0m\u001b[0;34m=\u001b[0m\u001b[0m_simplify_only_where_marked\u001b[0m\u001b[0;34m,\u001b[0m\u001b[0;34m\u001b[0m\u001b[0;34m\u001b[0m\u001b[0m\n\u001b[0;32m-> 1683\u001b[0;31m                     markers_and_marked_expr=_markers_and_marked_expr)\n\u001b[0m\u001b[1;32m   1684\u001b[0m             \u001b[0mrequirements\u001b[0m\u001b[0;34m.\u001b[0m\u001b[0mextend\u001b[0m\u001b[0;34m(\u001b[0m\u001b[0mnew_equality_repl_requirements\u001b[0m\u001b[0;34m)\u001b[0m\u001b[0;34m\u001b[0m\u001b[0;34m\u001b[0m\u001b[0m\n\u001b[1;32m   1685\u001b[0m             \u001b[0mequality_repl_requirements\u001b[0m\u001b[0;34m.\u001b[0m\u001b[0mupdate\u001b[0m\u001b[0;34m(\u001b[0m\u001b[0mnew_equality_repl_requirements\u001b[0m\u001b[0;34m)\u001b[0m\u001b[0;34m\u001b[0m\u001b[0;34m\u001b[0m\u001b[0m\n",
      "\u001b[0;32m/home/wwitzel/Prove-It/packages/proveit/_core_/expression/expr.py\u001b[0m in \u001b[0;36mequality_replaced\u001b[0;34m(self, requirements, auto_simplify_top_level, simplify_only_where_marked, markers_and_marked_expr)\u001b[0m\n\u001b[1;32m   1207\u001b[0m                         %(e.actual_subexpr, e.marked_expr_subexpr,\n\u001b[1;32m   1208\u001b[0m                           \u001b[0mself\u001b[0m\u001b[0;34m,\u001b[0m \u001b[0mmarkers_and_marked_expr\u001b[0m\u001b[0;34m[\u001b[0m\u001b[0;36m1\u001b[0m\u001b[0;34m]\u001b[0m\u001b[0;34m,\u001b[0m\u001b[0;34m\u001b[0m\u001b[0;34m\u001b[0m\u001b[0m\n\u001b[0;32m-> 1209\u001b[0;31m                           markers_and_marked_expr[0]))\n\u001b[0m\u001b[1;32m   1210\u001b[0m \u001b[0;34m\u001b[0m\u001b[0m\n\u001b[1;32m   1211\u001b[0m         \u001b[0;32mreturn\u001b[0m \u001b[0mexpr\u001b[0m\u001b[0;34m\u001b[0m\u001b[0;34m\u001b[0m\u001b[0m\n",
      "\u001b[0;31mValueError\u001b[0m: f doesn't match _a -> f(_a) while delving into (f(i), f(i + 1), ..., f(j)) = (f(i)) which should match (f(i), f(i + 1), ..., f(_b)) = (f(i), f(i + 1), ..., f(_b)) except where marked by (_b,)."
     ]
    }
   ],
   "source": [
    "i_eq_j.derive_reversed().substitution(singular_range_reduction.instance_expr.lhs)"
   ]
  },
  {
   "cell_type": "code",
   "execution_count": 6,
   "metadata": {},
   "outputs": [
    {
     "data": {
      "text/html": [
       "<table><tr><th>&nbsp;</th><th>step type</th><th>requirements</th><th>statement</th></tr>\n",
       "<tr><td><a name=\"-0x354fae321cc82988_step0\">0</a></td><td>generalization</td><td><a href=\"#-0x354fae321cc82988_step1\">1</a></td><td><span style=\"font-size:20px;\"> <a class=\"ProveItLink\" href=\"../../../__pv_it/_proof_singular_range_reduction/b35254fa26595a2244fa73a5e3a4dba434896abb0/proof.ipynb\" style=\"text-decoration: none\">&nbsp;&#x22A2;&nbsp;&nbsp;</a><a class=\"ProveItLink\" href=\"../../../__pv_it/theorems/3d08766f171bd867f4c97800be61648b1b9ac2730/expr.ipynb\"><img src=\"data:image/png;base64,iVBORw0KGgoAAAANSUhEUgAAAa8AAAAXBAMAAABOq92eAAAAMFBMVEX///+IiIgiIiIQEBB2dnbu\n",
       "7u5ERETMzMzc3NwyMjK6urpmZmaYmJiqqqpUVFQAAAB6qHgnAAAAAXRSTlMAQObYZgAAAAlwSFlz\n",
       "AAAOxAAADsQBlSsOGwAABH5JREFUWMPdV01oVFcUPpl5b/7eTGbcBcaGkJoKLZY0tAiFgIZ2VVJe\n",
       "oK26qD+LiAspoVm3jpa6kjobQURLQmm7bBRL60+LboRW0MHWRUR0JIsu6iIuQtWV99x7z/1/Y8ad\n",
       "PfDdd887Z+473/055w7Ai0hLwtStF7Zl3a9dKam29LxRWmZcLXgxGegImDrAYoZnSBbX96FXeFtp\n",
       "CPQaXIdA6OKLu/0R+1sC4Pz7pDdh4IrpY1psKY6B4+tL8l7K2to2dJ+FjeyxMRyGHwLhIr4+2Rev\n",
       "uC0AEP0zKXXYBHDC8LEtpuy+sAa2b0A+nMcV2MXXog1lxhLhhxEKQeJL3MB7+yKWXBEAyN+ZBeoD\n",
       "XDd8bAvfUNQfWHN8AzL5A/K4LLXqkoAfRigECZyJqNMXsbwEwE8pqD57GpNqW1BqDZNYPu31hcoa\n",
       "f4yT/o6EF0YoBIkq41ru74gtSwBMKR2lbKyPbfGJlXsesmiE/6JN+mkJL4xQCISJ0dG3+yN2XgJu\n",
       "TPwr9bjJRoq6ysWx+MQMX1+qK2/ixkswd8wM45GT8MIIhUD4BWBWOe8UeUvsYXFEdU2Y8+bvEelR\n",
       "hW2balt/1bb4xExfX+oNtQOW8qz9AwQgGeXShR4hEL6BEvrFl3CY7dwtxykUxK7QBWSzfG6RgNJ/\n",
       "pH+RsJFq47qy2hafmOEbkOM8gByWy1adtX+BgCVZIRAKabSANP6cc35YyPrsuxJQWyU9zbOwi6v6\n",
       "QNkWnOlXJ+RMc2KGb0Dui0zA4orhPssFh0DACyMUAqHW4Lmj7qWp5xMTZ5z38fOVcef0K4u/YpWe\n",
       "KzaliAGcY/hOwicWCIEA7av42ZVpvIrwKZ35TROrDKt62Oy4W7HQVfq3MRtjRE+KbQlsxZFexD4D\n",
       "2oqivt+SsM5YVggEmOa3gGsYe4PXj6VlTWymnib7mRyERGXffRKQb5AeP43YicU6L2g4lkDy0L7W\n",
       "bUI83hIB4C9KT2Vw11zfrBAI8BUnfQkH+RSJxukHmtjXt2icjyOq/Sr5Hl8gvbh6TKbnPe2AxSIW\n",
       "PQbDN37idiQZWRKqq2aBsa5dGSEQYJBnjYNqjiiRFvS82PX3cwl5xnn/ITPm8CO5sYDFJDa48uSh\n",
       "6fsGdpaoM2ZkhCJO8yDO/esSlmSFQJCyFZs9O3j/sSYWr83JrQh1qmhYDXhF+B2M6gBwhLe3wbdY\n",
       "K+b6WsLfJF1dX3CvlUYEbMkK4YgaXhCAeBssJ/ARm6lxTazWVpfPebDvpLXuGa2DurOyTeBZrEuw\n",
       "7esIvrlX7tCVdrBzMzVv3db9JCOEy8b1mZMpTsLuIWD/Fwa6xoo9UDcPlR/hAEdutm3o9B8hZjPs\n",
       "WgJ/jZWvkzzwzWu7KLe2DnUw3x2VcCQcAsFYhRrvdegwuXVM30I/4ag2W4aOYfCch4M5Fl+0r/On\n",
       "GJurvxLNvUlzQU2kJ+EQCPJD99gm/Z7vmPTUfKhAl380LkwNAVMHGAqtTCNMbGh91+3Dgm1LoNfg\n",
       "OoQha/hoA2v4QlXh7M8hYkkzhf+JlF7q6J8BTA5Z+v+ljswAAAAASUVORK5CYII=\n",
       "\" style=\"display:inline;vertical-align:middle;\" /></a></span></td></tr>\n",
       "<tr><td><a name=\"-0x354fae321cc82988_step1\">1</a></td><td>instantiation</td><td><a href=\"#-0x354fae321cc82988_step2\">2</a>, <a href=\"#-0x354fae321cc82988_step3\">3</a></td><td><span style=\"font-size:20px;\"><a class=\"ProveItLink\" href=\"../../../__pv_it/theorems/7ff99845a266ee006d093f1f3992d31b0010acbb0/expr.ipynb\"><img src=\"data:image/png;base64,iVBORw0KGgoAAAANSUhEUgAAACwAAAASBAMAAADS2iHvAAAAMFBMVEX///9ERETc3NxUVFQyMjKq\n",
       "qqrMzMwQEBC6urqYmJju7u52dnYiIiJmZmaIiIgAAACrFvqoAAAAAXRSTlMAQObYZgAAAAlwSFlz\n",
       "AAAOxAAADsQBlSsOGwAAAIBJREFUGNNjYGB4y4AO2KSAxGkMYT4HBqoArrcT0IXWPWZg4OYoADHv\n",
       "nAGBw2DhC+wTGFJ50a3lU+APYFjA/gDdWIb4BQxgjAbuALEzF7rZIA9y/eBGV8z0A+j/D5rowpwf\n",
       "gIQlhruZBbD6EMNtYLUB8xdgEc4POIrNCN63DQwMADD/I5OlceBOAAAAAElFTkSuQmCC\n",
       "\" style=\"display:inline;vertical-align:middle;\" /></a> <a class=\"ProveItLink\" href=\"../../../__pv_it/_proof_singular_range_reduction/ea7c9319cb76497119ab7d89d7051eeb921462060/proof.ipynb\" style=\"text-decoration: none\">&nbsp;&#x22A2;&nbsp;&nbsp;</a><a class=\"ProveItLink\" href=\"../../../__pv_it/theorems/0b4ff2c31e2a7dce7741613f3a81a93ec9b43a620/expr.ipynb\"><img src=\"data:image/png;base64,iVBORw0KGgoAAAANSUhEUgAAATkAAAAVBAMAAADP1oQ7AAAAMFBMVEX////MzMxUVFRERES6uroi\n",
       "IiIQEBCYmJhmZmYyMjLu7u52dnaqqqqIiIjc3NwAAACW8nlqAAAAAXRSTlMAQObYZgAAAAlwSFlz\n",
       "AAAOxAAADsQBlSsOGwAAAzdJREFUSMeNVzFoFEEU/cHbu73byylIrARXBU1hESwDBkFIJx6aiESL\n",
       "KxKEkGAwjRbiIYJFUEKagAgupLIQJZBGCw8xQrRIOs/CeBCCpSekMUTw/78zuzM7M5t8+MO/+f/t\n",
       "f/P378wcAHQglU4yZMU6CTU4mHSS6Np+D08osNHbSj2xfdmCV6MUKWwciJxAU7QNYafANL7y5Nw7\n",
       "abehd0aFqh5d+iKAb/vw8t9HMsfRiKMtCDsF0so8zQUnp0DYNwGeK0jdo0il/yUmLkf57JaPtWSO\n",
       "73G0iXBRQPW5UMVPgyBtgHsKVPfw+5H2T8xTauazm7oUKWiKNhEuCqhF/nGFF1SUjJTl6R6S6obC\n",
       "DiZzyRV2dfSkDeGigLrGP1Z4XBOuslIp3WOyW8xlF9R19KIN4aKAOkf23Yl+7kt8722cDsIEmfGY\n",
       "7JbzyJXOXG3GaKj8CEW0gXBRQI1X8k+uLCg08KHzKVT3mOzu59bu8IasmA+3RTQj/FGWEJJimhRQ\n",
       "b/E2+YddaB/3cbraSLdb3WOy+5zL7vcRgYZN2BPRBsJFAXWcE3bZhXZUxNw93bTJdA+t+fqEWDOz\n",
       "O5HLbl2iIaruimgD4aKAOp42L9vrmLLQyLR14jFrN5zLbiVN79dF9LCVnYUCKpf1UJiUeKGC+esJ\n",
       "MuMx2a3msjufvjrvrYhezfadiwLqBd5d4oRoV3YCbMcB+sjA4jHZzZJlHhhiJdMSjS14UUTPZmNd\n",
       "FFCXEyR/6z3dX7gwWuabeYtHY/ehI3eLv3IgUGJgq+9INMBDuXnMGaedgwJqX9q8bJ/FzcajSG/M\n",
       "4lHZnbqzgDMjZI5S8W4QqCmNMaXVOcdpGkaE6rcJBwVUj775R7GLbZRtHr+A6dFqx9XhFq2ar5bR\n",
       "fpiip0V0rZ4NdVHY5kO5Gr5ID2mSJzxibQ2PdgtIT/DA/B6oOT6WWxJ9rrQrov0Z40RxUCAdAm9Q\n",
       "ng1DcT0GuK+xRFmPKVs8vja/CirwtVcS3bPntUT0lvkQOwWmsQSltrw5L8W7SHxnppVkPLYHk5j3\n",
       "XULDg2cJ+uljGW1Zp50C06gpj47tTdsfCPsVvbdzoJu7QFO0DWGngPofIAYlWn3ll3sAAAAASUVO\n",
       "RK5CYII=\n",
       "\" style=\"display:inline;vertical-align:middle;\" /></a></span></td></tr>\n",
       "<tr><td>&nbsp;</td><td colspan=4 style=\"text-align:left\"><span style=\"font-size:20px;\"><a class=\"ProveItLink\" href=\"../../../__pv_it/_proof_singular_range_reduction/3e7f3569c18357d67af66f83da8ba5f81ce02a880/expr.ipynb\"><img src=\"data:image/png;base64,iVBORw0KGgoAAAANSUhEUgAAADQAAAAVBAMAAAD7ptBLAAAAMFBMVEX///8yMjLc3NyIiIiYmJgi\n",
       "IiJERES6urqqqqoQEBDMzMxUVFTu7u52dnZmZmYAAAD1zdHuAAAAAXRSTlMAQObYZgAAAAlwSFlz\n",
       "AAAOxAAADsQBlSsOGwAAARJJREFUKM9jYIADJgYGHBwGC2QOuwGY4rt7AEhyXIAJH5sKJEzAzNsr\n",
       "G4DkQYQWOSBmBClnmFEGop4gpH4AMcsDkLF/wPwJCHvAAnOAmDcAxOIQgEtBBESAOndGg/TywV3B\n",
       "wLjZGmj5bSCLH+xORge41HkZnk8MDI5Alv4CEJ+1AS7Vf4BhMgNDJ4gF5nMWwKUeMjD8ZWBYD2Rd\n",
       "RZeKZWAHOr8SyMpmQDPwBwMf0PmtQNZkMJ/NAC71i+Ek0E1uwDD+DvHMBrjUFoY8IPkW6NcPYD4X\n",
       "0J/L0oBAgeH0PZBHwoF+hSqPQokhBqYAhm5GqP1+qFJ8DgxhsMhgU0CRUmNgcH4EZfMkoEglIXOU\n",
       "kTnMCgwA7BA5/SYyEOcAAAAASUVORK5CYII=\n",
       "\" style=\"display:inline;vertical-align:middle;\" /></a> : <a class=\"ProveItLink\" href=\"../../../__pv_it/_proof_singular_range_reduction/e1e4821f3fa3ff0ac0392580ad4ec4d15cbd58690/expr.ipynb\"><img src=\"data:image/png;base64,iVBORw0KGgoAAAANSUhEUgAAAPMAAAAVBAMAAABhxcWTAAAAMFBMVEX////MzMxUVFRERES6uroi\n",
       "IiIQEBCYmJhmZmYyMjLu7u52dnaqqqqIiIjc3NwAAACW8nlqAAAAAXRSTlMAQObYZgAAAAlwSFlz\n",
       "AAAOxAAADsQBlSsOGwAAArRJREFUSMeNVj1oFFEQnpjby2X3LrkmneBpY0CLgGAR8LCyC7nCFVGL\n",
       "FAZBBIM22h02KVIYrhFEcCG15AiksfEKFaJFrvMa44IESyPYRBCcN2/f72yeNzDv5uZ733z7fncB\n",
       "IAdjuW58K03CDIxnuf+HEo2BScp4qYRr97KsMhxL2WUvKY3P9HfjrYpH0FizO9qIa3MZwJf/iBo2\n",
       "WXy5A1RfeLwpUsnZB1DEtwFeWlwXsSyef43S01lQ2WJLm+6CrI9eoyFW3y+CigGeWGQXoUlW8TeU\n",
       "neoGpRl7dlDUR69SZpkevqoI1lBcRFh9aEnD/aA0Y1NC1Effo8wutXtqVqwxugiXfhGUZuxdVR99\n",
       "Q8SPVudpT+CyjDCdtHRXD+HSOyFlw1bW+3pR1keXT/2XWoyTygouoNkWHsKlnwZHrdlqbx5n2znV\n",
       "R79DN8MvAjA+XcN0fcXcGS7CpT+GlA1bLdYfqA6pPvpdyhwRgHGGCEwcmb4uArU0vbGapi0tfSYk\n",
       "bdiF4ePP9qk+OqWTju6yj/UqZtQewkd9LXisO5501IflAdVHp8mYbOmJ6cVYvKP7egiX/hCSttj6\n",
       "WD/PqD76FTp4shrG8e8Et8CC2BFQgnDpxyLiV5rPVtLN+J6sj06H4+dVAnbEEvzAFenjn+3NEsSR\n",
       "fpcXByc+Vo0g6cBmF3ZqbbIr66PPicx+8T5AP4+nNxKM6FYJYkufe9jDzHURpmLYNwWpqwKPPXEJ\n",
       "rQ3xhXWQ9dGjJsbPik3QlL+H1H4CjjijpuND26LOZ/wktqp/SPd/vfVKptS7YJ1anBWGOK8P0G+G\n",
       "hO+wk9iqvvA2RIvq9mrLkSzQRsHB+Qi379S+4dsswBb1SWMLpkbq+2VLHgn59SIe10O4yaL8WyXE\n",
       "FvVJY8biyfig7Eos/xJq5GN9ILnsA+n/ANbU37a0XQHkAAAAAElFTkSuQmCC\n",
       "\" style=\"display:inline;vertical-align:middle;\" /></a>, <a class=\"ProveItLink\" href=\"../../../../../__pv_it/common/a0d9d672aa5e272d907247690c152cc2c6daafb70/expr.ipynb\"><img src=\"data:image/png;base64,iVBORw0KGgoAAAANSUhEUgAAAAsAAAAJBAMAAAAWSsseAAAAMFBMVEX///9ERES6uroQEBAyMjLc\n",
       "3NyYmJgiIiJmZmaqqqp2dnbMzMxUVFSIiIju7u4AAAAd7oVFAAAAAXRSTlMAQObYZgAAAAlwSFlz\n",
       "AAAOxAAADsQBlSsOGwAAAENJREFUCNdjYHh75/WqCQwMDbxnOQoY2ALY/vEkMHAzcDgwgADzBTCl\n",
       "H8D3gOGhwmEGLgaG+fuaGTQZGF7c5WybwAAAJTwQ1a2DuB8AAAAASUVORK5CYII=\n",
       "\" style=\"display:inline;vertical-align:middle;\" /></a> : <a class=\"ProveItLink\" href=\"../../../../../__pv_it/common/1ed21df18baca2f42b561a7ffbf30a2743d594650/expr.ipynb\"><img src=\"data:image/png;base64,iVBORw0KGgoAAAANSUhEUgAAAAoAAAASBAMAAACQmVJ4AAAAMFBMVEX///+6urp2dnYiIiKqqqrc\n",
       "3NyYmJgQEBBmZmZUVFQyMjKIiIju7u5ERETMzMwAAACiJdmqAAAAAXRSTlMAQObYZgAAAAlwSFlz\n",
       "AAAOxAAADsQBlSsOGwAAAExJREFUCNdjYGBg4LsDJBi4FzBgA6d3gsgG9gSgigB+BwYGHgb/AyCh\n",
       "ZrC0EYhg/Qgi2T6ASM4LIJJ9A5DlkA9U+N7BBMjn2CHAwAAAZeMNomSBQaEAAAAASUVORK5CYII=\n",
       "\" style=\"display:inline;vertical-align:middle;\" /></a>, <a class=\"ProveItLink\" href=\"../../../../../__pv_it/common/ff7dba4ef0bbe791ab573bf2d9c220a304399ac80/expr.ipynb\"><img src=\"data:image/png;base64,iVBORw0KGgoAAAANSUhEUgAAAAsAAAANBAMAAACN24kIAAAAMFBMVEX////c3NwyMjK6urpEREQi\n",
       "IiLMzMwQEBCqqqp2dnZUVFSYmJhmZmaIiIju7u4AAADlKNhoAAAAAXRSTlMAQObYZgAAAAlwSFlz\n",
       "AAAOxAAADsQBlSsOGwAAAFhJREFUCNdj4LuzgeEVAwMnRwHDfgaGDJ4AhiUMDA/YLzDUMjAw2D9g\n",
       "+wakDjHwFgApLwaWBUDqFIP9BiD1au55AQYQmATEnAp8FUCK9QLXBCDFsfcwkAQA5QkUAIef7yAA\n",
       "AAAASUVORK5CYII=\n",
       "\" style=\"display:inline;vertical-align:middle;\" /></a> : <a class=\"ProveItLink\" href=\"../../../../../__pv_it/common/ae955345c83abf786c3aff8681cd5465beae262d0/expr.ipynb\"><img src=\"data:image/png;base64,iVBORw0KGgoAAAANSUhEUgAAAAcAAAAOBAMAAAARcxsoAAAALVBMVEX////c3NxUVFQyMjKqqqrM\n",
       "zMwQEBC6urqYmJju7u52dnYiIiJmZmaIiIgAAABgwC6IAAAAAXRSTlMAQObYZgAAAAlwSFlzAAAO\n",
       "xAAADsQBlSsOGwAAADpJREFUCNdjYGC4wwAEuxjQAeedBgYGLvYEBoYQHgMGhglsF4CCfhOAhBEn\n",
       "UPY5FwMD6wMJIFejgQEAGf4JG7xeJHMAAAAASUVORK5CYII=\n",
       "\" style=\"display:inline;vertical-align:middle;\" /></a></span></td></tr><tr><td><a name=\"-0x354fae321cc82988_step2\">2</a></td><td>axiom</td><td></td><td><span style=\"font-size:20px;\"> <a class=\"ProveItLink\" href=\"../../../../../logic/equality/_theory_nbs_/axioms.ipynb#substitution\" style=\"text-decoration: none\">&nbsp;&#x22A2;&nbsp;&nbsp;</a><a class=\"ProveItLink\" href=\"../../../../../logic/equality/__pv_it/axioms/b3647e5bced6c805148d96be1aa0946871a946d20/expr.ipynb\"><img src=\"data:image/png;base64,iVBORw0KGgoAAAANSUhEUgAAAO8AAAAXBAMAAAARnwX+AAAAMFBMVEX///+IiIgiIiIQEBB2dnbu\n",
       "7u5ERETMzMzc3NwyMjK6urpmZmaYmJiqqqpUVFQAAAB6qHgnAAAAAXRSTlMAQObYZgAAAAlwSFlz\n",
       "AAAOxAAADsQBlSsOGwAAAv1JREFUSMe1Vk1oE1EQnjSbpNlN0uSgiJUSehEKQiyKIAit6MFDZQtS\n",
       "D0JpDxUPIsXiUV0setS9CB4UIp48SAIW/1p0eymooKF68QebUqkHL/VQ7NF58/42+9LWBDows9++\n",
       "+fJm3r438wLQtngm7vwPvhf5acsSq5nYzm/Pfyi0zl6+txH4M9mZkxqj7GvGbOTEAq6v2Mu91uMm\n",
       "fGatX8cUZpJ2TWaUc5frNbY1Y60HdgJm418nFGaSqZrMKOc9V5ajVWs9cJxsxdWY5LDJjHLiLmkG\n",
       "M0m3scVfyB4PYZL7JjPKSQdc+3t7D7UReIaZD/2/JR7uOXsCP9xpg6g5ie4ARvH71rk+B5jYbPbq\n",
       "5oH50v4oXI0tO0WAt7T/vSR1aORY2RJ8xHPgc70NnYyRmA3M2bc4dAeoYfyVOONl1nM4wyeDqDlX\n",
       "MbNVAAxPmnStMjqS7yZbCnyUmeyaxClwqF6uG0TNceN5OIjUNa7ZPJ2triYVuG1gq6hxnLrWI7OM\n",
       "NafipnD5dokr+PMsr5Uh5i686MY+avdALhSYD1JLlA7xqZN1jSteAnNfNPY4xHkJMfaZi1xhiLUS\n",
       "WKB25q2m8WgOd7lTOjANPjuPEigHwLheJcMj5RWw5DSNBa84cImyyIxxhWlKaZYaD4yn8HFzEXbr\n",
       "wGIQwg5RN3fKEi9deQpPZJU1iObAa6jg+XMGuEKOTtVFTtsg+xOWw3u8oWaRDoDLzCwpfK6QnWP9\n",
       "r88IrDkwOvgG96yjzFXIEbKpEl2pfeJ1TA3yT60c+NNJWoLGvHaKRuAGzinUG0LFZbMOcAamLd/B\n",
       "B+y313RgGhQiHXQdZOsPoleDE20GYY7lJ9g9NScUxKoApmrO3sFd+IBvC74OTINCpAPlAnRM+AoL\n",
       "uRVdb5jTkc8N8KswdB1S0uKSqiW8ZNC0jpUDZQQyssoQRzNQ84Y42Xl2+Sc9rlySP3ALbN5DbDeX\n",
       "f9y8gSgH287Q3xyJY1v8mZKcPUJFeylQ3fAkwZ4faB5YOXZavJ2b+h8Zyc63Hwf/xgAAAABJRU5E\n",
       "rkJggg==\n",
       "\" style=\"display:inline;vertical-align:middle;\" /></a></span></td></tr>\n",
       "<tr><td>&nbsp;</td><td colspan=4 style-\"text-align:left\"><a class=\"ProveItLink\" href=\"../../../../../logic/equality/_theory_nbs_/axioms.ipynb#substitution\">proveit.logic.equality.substitution</a></td></tr><tr><td><a name=\"-0x354fae321cc82988_step3\">3</a></td><td>instantiation</td><td><a href=\"#-0x354fae321cc82988_step4\">4</a>, <a href=\"#-0x354fae321cc82988_step5\">5</a></td><td><span style=\"font-size:20px;\"><a class=\"ProveItLink\" href=\"../../../__pv_it/theorems/7ff99845a266ee006d093f1f3992d31b0010acbb0/expr.ipynb\"><img src=\"data:image/png;base64,iVBORw0KGgoAAAANSUhEUgAAACwAAAASBAMAAADS2iHvAAAAMFBMVEX///9ERETc3NxUVFQyMjKq\n",
       "qqrMzMwQEBC6urqYmJju7u52dnYiIiJmZmaIiIgAAACrFvqoAAAAAXRSTlMAQObYZgAAAAlwSFlz\n",
       "AAAOxAAADsQBlSsOGwAAAIBJREFUGNNjYGB4y4AO2KSAxGkMYT4HBqoArrcT0IXWPWZg4OYoADHv\n",
       "nAGBw2DhC+wTGFJ50a3lU+APYFjA/gDdWIb4BQxgjAbuALEzF7rZIA9y/eBGV8z0A+j/D5rowpwf\n",
       "gIQlhruZBbD6EMNtYLUB8xdgEc4POIrNCN63DQwMADD/I5OlceBOAAAAAElFTkSuQmCC\n",
       "\" style=\"display:inline;vertical-align:middle;\" /></a> <a class=\"ProveItLink\" href=\"../../../__pv_it/_proof_singular_range_reduction/f56f529bfec1f52397672da22219d94ecb77d3460/proof.ipynb\" style=\"text-decoration: none\">&nbsp;&#x22A2;&nbsp;&nbsp;</a><a class=\"ProveItLink\" href=\"../../../__pv_it/_proof_singular_range_reduction/71e9c598ed02df61276472df00d3b8ebe1f87f610/expr.ipynb\"><img src=\"data:image/png;base64,iVBORw0KGgoAAAANSUhEUgAAAC4AAAASBAMAAADWL/HSAAAAMFBMVEX///+6urp2dnYiIiKqqqrc\n",
       "3NyYmJgQEBBmZmZUVFQyMjKIiIju7u5ERETMzMwAAACiJdmqAAAAAXRSTlMAQObYZgAAAAlwSFlz\n",
       "AAAOxAAADsQBlSsOGwAAAIVJREFUGNNjYGBg4LvDgAa4G8DkAnRxZgUG6oHTOzFE2kBkA3sCiGo2\n",
       "BgFLEFNBHOSaAH4HVOV8Dl1AkofB/wCqOA9DNZhuRjef5Q+YMmJAM59rAsgE1o/o6s8LgPzL9gFd\n",
       "/D0ryIWcF9DFOdNAJPsGbL7ldMg/gE38vYMJ1tDh2CGATRgAUCcZybBYonQAAAAASUVORK5CYII=\n",
       "\" style=\"display:inline;vertical-align:middle;\" /></a></span></td></tr>\n",
       "<tr><td>&nbsp;</td><td colspan=4 style=\"text-align:left\"><span style=\"font-size:20px;\"><a class=\"ProveItLink\" href=\"../../../../../__pv_it/common/a0d9d672aa5e272d907247690c152cc2c6daafb70/expr.ipynb\"><img src=\"data:image/png;base64,iVBORw0KGgoAAAANSUhEUgAAAAsAAAAJBAMAAAAWSsseAAAAMFBMVEX///9ERES6uroQEBAyMjLc\n",
       "3NyYmJgiIiJmZmaqqqp2dnbMzMxUVFSIiIju7u4AAAAd7oVFAAAAAXRSTlMAQObYZgAAAAlwSFlz\n",
       "AAAOxAAADsQBlSsOGwAAAENJREFUCNdjYHh75/WqCQwMDbxnOQoY2ALY/vEkMHAzcDgwgADzBTCl\n",
       "H8D3gOGhwmEGLgaG+fuaGTQZGF7c5WybwAAAJTwQ1a2DuB8AAAAASUVORK5CYII=\n",
       "\" style=\"display:inline;vertical-align:middle;\" /></a> : <a class=\"ProveItLink\" href=\"../../../../../__pv_it/common/ae955345c83abf786c3aff8681cd5465beae262d0/expr.ipynb\"><img src=\"data:image/png;base64,iVBORw0KGgoAAAANSUhEUgAAAAcAAAAOBAMAAAARcxsoAAAALVBMVEX////c3NxUVFQyMjKqqqrM\n",
       "zMwQEBC6urqYmJju7u52dnYiIiJmZmaIiIgAAABgwC6IAAAAAXRSTlMAQObYZgAAAAlwSFlzAAAO\n",
       "xAAADsQBlSsOGwAAADpJREFUCNdjYGC4wwAEuxjQAeedBgYGLvYEBoYQHgMGhglsF4CCfhOAhBEn\n",
       "UPY5FwMD6wMJIFejgQEAGf4JG7xeJHMAAAAASUVORK5CYII=\n",
       "\" style=\"display:inline;vertical-align:middle;\" /></a>, <a class=\"ProveItLink\" href=\"../../../../../__pv_it/common/ff7dba4ef0bbe791ab573bf2d9c220a304399ac80/expr.ipynb\"><img src=\"data:image/png;base64,iVBORw0KGgoAAAANSUhEUgAAAAsAAAANBAMAAACN24kIAAAAMFBMVEX////c3NwyMjK6urpEREQi\n",
       "IiLMzMwQEBCqqqp2dnZUVFSYmJhmZmaIiIju7u4AAADlKNhoAAAAAXRSTlMAQObYZgAAAAlwSFlz\n",
       "AAAOxAAADsQBlSsOGwAAAFhJREFUCNdj4LuzgeEVAwMnRwHDfgaGDJ4AhiUMDA/YLzDUMjAw2D9g\n",
       "+wakDjHwFgApLwaWBUDqFIP9BiD1au55AQYQmATEnAp8FUCK9QLXBCDFsfcwkAQA5QkUAIef7yAA\n",
       "AAAASUVORK5CYII=\n",
       "\" style=\"display:inline;vertical-align:middle;\" /></a> : <a class=\"ProveItLink\" href=\"../../../../../__pv_it/common/1ed21df18baca2f42b561a7ffbf30a2743d594650/expr.ipynb\"><img src=\"data:image/png;base64,iVBORw0KGgoAAAANSUhEUgAAAAoAAAASBAMAAACQmVJ4AAAAMFBMVEX///+6urp2dnYiIiKqqqrc\n",
       "3NyYmJgQEBBmZmZUVFQyMjKIiIju7u5ERETMzMwAAACiJdmqAAAAAXRSTlMAQObYZgAAAAlwSFlz\n",
       "AAAOxAAADsQBlSsOGwAAAExJREFUCNdjYGBg4LsDJBi4FzBgA6d3gsgG9gSgigB+BwYGHgb/AyCh\n",
       "ZrC0EYhg/Qgi2T6ASM4LIJJ9A5DlkA9U+N7BBMjn2CHAwAAAZeMNomSBQaEAAAAASUVORK5CYII=\n",
       "\" style=\"display:inline;vertical-align:middle;\" /></a></span></td></tr><tr><td><a name=\"-0x354fae321cc82988_step4\">4</a></td><td>theorem</td><td></td><td><span style=\"font-size:20px;\"> <a class=\"ProveItLink\" href=\"../../../../../logic/equality/_theory_nbs_/proofs/equals_reversal/thm_proof.ipynb\" style=\"text-decoration: none\">&nbsp;&#x22A2;&nbsp;&nbsp;</a><a class=\"ProveItLink\" href=\"../../../../../logic/equality/__pv_it/theorems/6eaa0fec06de9345737f83f0a1ce382c3a3515530/expr.ipynb\"><img src=\"data:image/png;base64,iVBORw0KGgoAAAANSUhEUgAAAKEAAAAXBAMAAACR7DLtAAAAMFBMVEX///+IiIgiIiIQEBB2dnbu\n",
       "7u5ERETMzMzc3NwyMjK6urpmZmaYmJiqqqpUVFQAAAB6qHgnAAAAAXRSTlMAQObYZgAAAAlwSFlz\n",
       "AAAOxAAADsQBlSsOGwAAAhRJREFUOMudVT1IHFEQ/tT7fbe3roQE8UDiNUJAOSUQSHUpUxhWYmxs\n",
       "YpEgFiKaOjkUW9lGsLAwZTo9Qv6wOJsQCJIlSRNMsYKmsrCRXJEi33ve7t2uuwt7A2/n7Xw7386b\n",
       "mZ0FkkutKyhGeuxo7DWXIze/kzD+jHtbA/gkN9sJCNNWHLoFvKTKPU3AWGjEoV+BvAmk7ASMffGo\n",
       "CY2vzCdJ469YNE+6yXL5bhLGt1zTB0g7gfQOnL2Y4nFpfg88u+a2F824w1X9Ae2Cul6WMq7Si2Gj\n",
       "Dmis2yZyzjW3mFKNAVm7Dj3wyBd8M8+BYgXImKndJIz3eUJMoM/wm5fxUaosQy8aIYWJZ4S4xKvl\n",
       "IDAhL4IxwjrkZeBDid+kGIbewXhlVA+6gDo1ChZuwJ9HiCaeML7b3E6xz3tqf/Jsyul+c7XNqIzv\n",
       "nlMaHgDMc2UcLAVKvahXUGVlpOc6C6NhPsvtxnfcajO2jOgEgEcyRkf88zMW/85VBGMqkBW6ykhT\n",
       "Aac46cxj0/NwAWBFRnRaagZi3DeOj6h7vSpnKzmp7uBeB6M0Xp3aA+ijAkhFzIs1d7OesgqYAUbF\n",
       "RZtRGVviAswFu/8hHkeMggNvoAw9uIlVG8efrTajMrbEBSgLwAizECrBKWana5lGaD96AGWWE7q0\n",
       "G86Y8f8WhKkbb8I73ANkHEZ0+w/6bzWIw2o4owd0LbXuXf8Dymh6Zcq6KGsAAAAASUVORK5CYII=\n",
       "\" style=\"display:inline;vertical-align:middle;\" /></a></span></td></tr>\n",
       "<tr><td>&nbsp;</td><td colspan=4 style-\"text-align:left\"><a class=\"ProveItLink\" href=\"../../../../../logic/equality/_theory_nbs_/proofs/equals_reversal/thm_proof.ipynb\">proveit.logic.equality.equals_reversal</a></td></tr><tr><td><a name=\"-0x354fae321cc82988_step5\">5</a></td><td>assumption</td><td></td><td><span style=\"font-size:20px;\"><a class=\"ProveItLink\" href=\"../../../__pv_it/theorems/7ff99845a266ee006d093f1f3992d31b0010acbb0/expr.ipynb\"><img src=\"data:image/png;base64,iVBORw0KGgoAAAANSUhEUgAAACwAAAASBAMAAADS2iHvAAAAMFBMVEX///9ERETc3NxUVFQyMjKq\n",
       "qqrMzMwQEBC6urqYmJju7u52dnYiIiJmZmaIiIgAAACrFvqoAAAAAXRSTlMAQObYZgAAAAlwSFlz\n",
       "AAAOxAAADsQBlSsOGwAAAIBJREFUGNNjYGB4y4AO2KSAxGkMYT4HBqoArrcT0IXWPWZg4OYoADHv\n",
       "nAGBw2DhC+wTGFJ50a3lU+APYFjA/gDdWIb4BQxgjAbuALEzF7rZIA9y/eBGV8z0A+j/D5rowpwf\n",
       "gIQlhruZBbD6EMNtYLUB8xdgEc4POIrNCN63DQwMADD/I5OlceBOAAAAAElFTkSuQmCC\n",
       "\" style=\"display:inline;vertical-align:middle;\" /></a> <a class=\"ProveItLink\" href=\"../../../__pv_it/_proof_singular_range_reduction/27be9b07d14ba40c87b9e45f255262d353ceb7030/proof.ipynb\" style=\"text-decoration: none\">&nbsp;&#x22A2;&nbsp;&nbsp;</a><a class=\"ProveItLink\" href=\"../../../__pv_it/theorems/7ff99845a266ee006d093f1f3992d31b0010acbb0/expr.ipynb\"><img src=\"data:image/png;base64,iVBORw0KGgoAAAANSUhEUgAAACwAAAASBAMAAADS2iHvAAAAMFBMVEX///9ERETc3NxUVFQyMjKq\n",
       "qqrMzMwQEBC6urqYmJju7u52dnYiIiJmZmaIiIgAAACrFvqoAAAAAXRSTlMAQObYZgAAAAlwSFlz\n",
       "AAAOxAAADsQBlSsOGwAAAIBJREFUGNNjYGB4y4AO2KSAxGkMYT4HBqoArrcT0IXWPWZg4OYoADHv\n",
       "nAGBw2DhC+wTGFJ50a3lU+APYFjA/gDdWIb4BQxgjAbuALEzF7rZIA9y/eBGV8z0A+j/D5rowpwf\n",
       "gIQlhruZBbD6EMNtYLUB8xdgEc4POIrNCN63DQwMADD/I5OlceBOAAAAAElFTkSuQmCC\n",
       "\" style=\"display:inline;vertical-align:middle;\" /></a></span></td></tr>\n",
       "</table>"
      ],
      "text/plain": [
       "\tstep type\trequirements\tstatement\n",
       "0\tgeneralization\t1\t|- forall_{f, i, j | i = j} ((f(i), f(i + 1), ..., f(j)) = (f(i)))\n",
       "1\tinstantiation\t2, 3\t{i = j} |- (f(i), f(i + 1), ..., f(j)) = (f(i))\n",
       "\tf(_b) : (f(i), f(i + 1), ..., f(_b)), x : j, y : i\n",
       "2\taxiom\t\t|- forall_{f, x, y | x = y} (f(x) = f(y))\n",
       "\tproveit.logic.equality.substitution\n",
       "3\tinstantiation\t4, 5\t{i = j} |- j = i\n",
       "\tx : i, y : j\n",
       "4\ttheorem\t\t|- forall_{x, y | x = y} (y = x)\n",
       "\tproveit.logic.equality.equals_reversal\n",
       "5\tassumption\t\t{i = j} |- i = j"
      ]
     },
     "execution_count": 6,
     "metadata": {},
     "output_type": "execute_result"
    }
   ],
   "source": [
    "%qed"
   ]
  },
  {
   "cell_type": "code",
   "execution_count": null,
   "metadata": {},
   "outputs": [],
   "source": []
  }
 ],
 "metadata": {
  "kernelspec": {
   "display_name": "Python 3",
   "language": "python",
   "name": "python3"
  },
  "language_info": {
   "codemirror_mode": {
    "name": "ipython",
    "version": 3
   },
   "file_extension": ".py",
   "mimetype": "text/x-python",
   "name": "python",
   "nbconvert_exporter": "python",
   "pygments_lexer": "ipython3",
   "version": "3.7.3"
  }
 },
 "nbformat": 4,
 "nbformat_minor": 1
}
