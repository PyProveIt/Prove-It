{
 "cells": [
  {
   "cell_type": "markdown",
   "metadata": {},
   "source": [
    "Proof of <a class=\"ProveItLink\" href=\"../../../../../_theory_nbs_/theory.ipynb\">proveit</a>.<a class=\"ProveItLink\" href=\"../../../../_theory_nbs_/theory.ipynb\">core_expr_types</a>.<a class=\"ProveItLink\" href=\"../../theory.ipynb\">tuples</a>.<a class=\"ProveItLink\" href=\"../../theorems.ipynb#range_from1_len_typical_eq\">range_from1_len_typical_eq</a> theorem\n",
    "========"
   ]
  },
  {
   "cell_type": "code",
   "execution_count": 1,
   "metadata": {},
   "outputs": [],
   "source": [
    "import proveit\n",
    "theory = proveit.Theory() # the theorem's theory"
   ]
  },
  {
   "cell_type": "code",
   "execution_count": 2,
   "metadata": {},
   "outputs": [
    {
     "data": {
      "text/html": [
       "Under these <a href=\"presumptions.txt\">presumptions</a>, we begin our proof of<br><strong id=\"range_from1_len_typical_eq\">range_from1_len_typical_eq:</strong> <a class=\"ProveItLink\" href=\"../../../__pv_it/theorems/4ee1636269563b5a7d15684d9f87efdd4d8324700/expr.ipynb\"><img src=\"data:image/png;base64,iVBORw0KGgoAAAANSUhEUgAAAdsAAAAWBAMAAAB6VSvZAAAAMFBMVEX///+IiIgiIiIQEBB2dnbu\n",
       "7u5ERETMzMzc3NwyMjK6urpmZmaYmJiqqqpUVFQAAAB6qHgnAAAAAXRSTlMAQObYZgAAAAlwSFlz\n",
       "AAAOxAAADsQBlSsOGwAABaBJREFUWMPdWF1oHFUUPrOZ2Z3N/mR90AjaGiIqNrRNq0EolC5BfVhI\n",
       "OgEp9EGbPjSGomVbfTaTFIMg2H1p8SHqSsRXFwnWuKG0CIU2UrZpS2iRuBpQoWLTh9Cfl3jvOffe\n",
       "ubtzZ9hnb8jsmTnf+eZ892/ODEBks/rL4Ysu+8Pmaxd94QITPoSOaa46+OawmDvFMPI4N0KQanbV\n",
       "cHGbuGw1tH4hu7tgxGP7urPktikeCii1A0o6aSdNJFVCg6Xe5Ge/muWGfbmikHsTTxfekPYpD+DZ\n",
       "lnD0MbxbP1cG62J8VpnXPUKDVUMeCjDL5bDUC+LKp4vvxkzQmkiqhNmx1H/iZ5+b5YZ9h8WgOxVE\n",
       "/LWfbOfuVyzdtKdHo4/hZ8F+DHA2Xu7oBw1CQ6JIPGej5TLYO4ubYrKOw8FqJK0k43HMYKl/RDFG\n",
       "uWHfkpCbwc7vunNM2s8x1mxNQ5KP4f8GeAVgOV7u/m89QvOGPMvRcjnMEnLzPnQNxjFTUiU0WOpc\n",
       "vd0wyw37BoXcLjz7DnsObS4XhjQk+Rj+gAf3WE5e7ArblOzYOA8GmOUOanK7NiH/MLYnh2TcEE89\n",
       "y8YmHbFVhXy5ipB7G0+H8XhbyZ3ToMMS/wfAvTKkYxev3SfR2DgPBhjlIkyNbh/kH8TKnZNxc5j6\n",
       "3v7+V6N25nZfpijkLvCza3vvgrRR7miAJB/Hs7abRTXjJtz6rppAjy0JHgwwykVSKZcv0I0oXkWG\n",
       "caOY+nkAtsoc3ySXfEHjXY5yaRzvB92Hcq9o0PsSz3ZRZmcrcSPQU5Do4rzgwQCUm+nH1pRpI6km\n",
       "d6oQRavIMO4Kpv4ZuIzJphh3oAQ/N5Vc8oFTF1Mx0RBydyKYZtFOJfeG9nh/IPHsyDhysfvJmbJA\n",
       "pxqLggcDjKOLpJrcXVGsARnG3cDUk56sJ07+eRzWbC/jKbnCl7wqypGuqpC7D9cazaJ9Su6Utso3\n",
       "JB7gB37rjTi5v0l2B/YIHgwwykXSQG5mPIo1IMO4KUw9VxC7UeY8LyoKNTuYzMLXI7fVVrm0wWhy\n",
       "59s3H8wsyydId+zoDiv23Kbg6R7sUO61aFpFhnHzlHrlEiPfLoqi1TvTmlz0QW59BEyTOdlsm8wr\n",
       "wZ3Ih/PuJrg+5Pri5J5Q7OmmRzwYYFy7rZOZlVifRNEqMoxbodRHWAEz1uM5OClW7be/0eSOYHFz\n",
       "WYkoCLlHcTRovR9VchFHM4F8HJ8qguVBdhxnV6gReo9iP1ItEg8GGEeXw1Au0n0I8CR4ZmJFhnGX\n",
       "KfXTrN8+XoFu3I5WofaUJvc09mldTdGmkIu7+xla82gf9MUjyXkEgY/jZ+r178XT40hFHBCkDHAf\n",
       "K/Yp9yLxYIBRLj6i7IdE4A7U633IojgDYkWGcQuUer6MQ5Q9NzHxPpP7VlqTiz54T+11fULuqWCD\n",
       "QfvfA18y5h38tN8LfBy/e2uL3TrBoxK8rk/wR+yANBAt9jyOzv8CxIMBRrkIW3/0D9Iltra2KsSi\n",
       "OBWxIsO4HcE7nrNZThVpdLuvh14AX1O3e0lcTvBuuCAWtHyLdKk2QrkXFJ7aDB5vhXcTjs40W9DI\n",
       "MxNdMyvSWy0sBmKVVAkNpShXqVFBcRVge7tcJ3jGLYvLrN7ONb/Qi3D13sB3OuVb1t4t+HM/XMuw\n",
       "/7V0owWNPEvRchVpUWcxEAdJldAIFP3uwywbpdTLPuTb5aaCh0jSF5cnIXFMFkqT4neWKjc+4NKX\n",
       "9NV7Gr9LuP7h6BcPQwt6VgWY5UrSgG4MjMRBUiU0Wj5YOG9OHDd+zdBe7Nj2TZcPQfYZWXceapHN\n",
       "c1A+Z1wXYoWz4uhLP0ILelIFmOVKUquFxUAcJFVCw67GvaaITzvJNe0TzzRYeOZqdxC2ZfogNU0/\n",
       "T3f2qWVa8VBAbzugVyftpImkerlhPV/tIMJ+Av437T8ivJddUtnHIQAAAABJRU5ErkJggg==\n",
       "\" style=\"display:inline;vertical-align:middle;\" /></a><br>(see <a class=\"ProveItLink\" href=\"../../../__pv_it/theorems/83c1a4c00413fc10793168e2981e89c6ef99547d0/dependencies.ipynb\">dependencies</a>)<br>"
      ],
      "text/plain": [
       "<IPython.core.display.HTML object>"
      ]
     },
     "metadata": {},
     "output_type": "display_data"
    }
   ],
   "source": [
    "%proving range_from1_len_typical_eq"
   ]
  },
  {
   "cell_type": "code",
   "execution_count": null,
   "metadata": {},
   "outputs": [],
   "source": []
  }
 ],
 "metadata": {
  "kernelspec": {
   "display_name": "Python 3",
   "language": "python",
   "name": "python3"
  },
  "language_info": {
   "codemirror_mode": {
    "name": "ipython",
    "version": 3
   },
   "file_extension": ".py",
   "mimetype": "text/x-python",
   "name": "python",
   "nbconvert_exporter": "python",
   "pygments_lexer": "ipython3",
   "version": "3.7.3"
  }
 },
 "nbformat": 4,
 "nbformat_minor": 1
}
