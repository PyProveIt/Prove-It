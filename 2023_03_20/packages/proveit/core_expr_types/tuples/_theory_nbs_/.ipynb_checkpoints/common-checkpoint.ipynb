{
 "cells": [
  {
   "cell_type": "markdown",
   "metadata": {},
   "source": [
    "Common expressions for the theory of <a class=\"ProveItLink\" href=\"theory.ipynb\">proveit.core_expr_types.tuples</a>\n",
    "========"
   ]
  },
  {
   "cell_type": "code",
   "execution_count": 1,
   "metadata": {},
   "outputs": [],
   "source": [
    "import proveit\n",
    "# Prepare this notebook for defining the common expressions of a theory:\n",
    "%common_expressions_notebook # Keep this at the top following 'import proveit'.\n",
    "from proveit import Function, ExprRange, IndexedVar, ExprTuple\n",
    "from proveit.logic import Equals, InSet\n",
    "from proveit import a, b, f, k, i, j, k, l, m, n, x\n",
    "from proveit.core_expr_types import (\n",
    "    f_k, i_k, j_k, f_1_to_n, f_i_to_j, f_i_to_j_dec, i_1_to_n, j_1_to_n)\n",
    "from proveit.numbers import Natural, one, Add, Neg"
   ]
  },
  {
   "cell_type": "code",
   "execution_count": 2,
   "metadata": {},
   "outputs": [
    {
     "name": "stdout",
     "output_type": "stream",
     "text": [
      "Defining common sub-expressions for theory 'proveit.core_expr_types.tuples'\n",
      "Subsequent end-of-cell assignments will define common sub-expressions\n",
      "%end_common will finalize the definitions\n"
     ]
    }
   ],
   "source": [
    "%begin common"
   ]
  },
  {
   "cell_type": "code",
   "execution_count": 3,
   "metadata": {},
   "outputs": [
    {
     "data": {
      "text/html": [
       "<strong id=\"fk_ik_to_jk\">fk_ik_to_jk:</strong> <a class=\"ProveItLink\" href=\"../__pv_it/common/a6a47b8c82f48fa70979095d1d3d15b5118766a90/common_expr.ipynb\"><img src=\"data:image/png;base64,iVBORw0KGgoAAAANSUhEUgAAAQwAAAAVBAMAAABBDM1HAAAAMFBMVEX///8yMjLc3NyIiIiYmJgi\n",
       "IiJERES6urqqqqoQEBDMzMxUVFTu7u52dnZmZmYAAAD1zdHuAAAAAXRSTlMAQObYZgAAAAlwSFlz\n",
       "AAAOxAAADsQBlSsOGwAAAwhJREFUSMeVlk1oE0EUgF/WpM1PE3PoQfBgoCDeGquHXtQUtQcFDUi0\n",
       "WJBSj/aQgwo5GZEiRUWxihUEe6ngKYWK+ANlpSB4ai6eqviPoFQqHiwliO/N7Oy83dlZ9MFOZmbf\n",
       "997LmzczCxAQJ6IHNpX/exeWUgw16Pe6yxZ8MMa0FTJlUzNMFd663kS6je/fy/5uDkWrBGXODUER\n",
       "svpG9a5R88BlrlYeqshe4JNqy37CZXi0CpeexW1uCDIl/2xGqRep3cldzZxX8GeGJPlfjlYRclZ1\n",
       "9rkhyJTM5QmV3krYVXfHH9/gzD225hYVkks8DA5FyAU/WRkIu8pX1Shd5O96WTItKmYYvbFhvPZ7\n",
       "FyHkKvl0VGWygGu+5Gd9RSfNpmKGsRIXxeHbi36tUn3smmeuNvu7LIEL1m6o0ZDmbSpmGEOx2fgV\n",
       "SHUBbjFX/bOQPCZGqSZkmx8ADgqvUxq3qZhhTMVF4Wz44Ag+A7DumSXqOj53ZN3UoQemxS9KS/M2\n",
       "FfhSq92t1UZ1GK24MNJrPkjW3HTHM9uSdeOsKR9Ar/rFqBEorUgVMxuN2GOj6oPCe6HqmSXqDNbg\n",
       "WF9bZhwS8y4MO3twNKl5m4oZxmRcGF1Ykh44AvIYlGaJwhTnBq7eJDVct+V6GxZ2vMKLZ5g05Ua3\n",
       "qZhhMIiLnMkg7IGnRcnVPbNIOb/x/SDMUtIw2pZTgelmVu2pn6K0bCqBMN6VOLRcDHeEWwWKjX1U\n",
       "mV2VddP/g1xAFtcudwCcP99odIKamgsxKjyM5/e3VhiUopPmFHgdYYYqXYFz1DxWZpEq0IJ1V0WK\n",
       "T8rTauwcfgI44uRME29TCWZD5E1DwT0iZr5rMDUr11qYRepKAotuIVsVl+YRweTKc3l1+WDHrhK8\n",
       "2vSNlTf3CIUyv0WDeJs9SXY8s0gdp5t7HB6JlHeVZJs7BLBd8Ev4WFVM0VBQaCY1UWTgeHaddp0w\n",
       "i9T+j/yjYUz3x0VLZ55VxRQNBYVmkntLbOYlfPoapJj06Y+0ksVTX9yXXemfPwKdMqf+Al1O+z7R\n",
       "Xc7tAAAAAElFTkSuQmCC\n",
       "\" style=\"display:inline;vertical-align:middle;\" /></a><br>"
      ],
      "text/plain": [
       "<IPython.core.display.HTML object>"
      ]
     },
     "metadata": {},
     "output_type": "display_data"
    }
   ],
   "source": [
    "fk_ik_to_jk = ExprRange(x, Function(f_k, x), i_k, j_k)"
   ]
  },
  {
   "cell_type": "code",
   "execution_count": 4,
   "metadata": {},
   "outputs": [
    {
     "data": {
      "text/html": [
       "<strong id=\"f_ik_to_jk__1_to_n\">f_ik_to_jk__1_to_n:</strong> <a class=\"ProveItLink\" href=\"../__pv_it/common/a569b75414739b2ae3cea468f5af7ee6c1036e150/common_expr.ipynb\"><img src=\"data:image/png;base64,iVBORw0KGgoAAAANSUhEUgAAA4EAAAAVBAMAAAAKm/Y3AAAAMFBMVEX///8yMjLc3NyIiIiYmJgi\n",
       "IiJERES6urqqqqoQEBDMzMxUVFTu7u52dnZmZmYAAAD1zdHuAAAAAXRSTlMAQObYZgAAAAlwSFlz\n",
       "AAAOxAAADsQBlSsOGwAABm1JREFUaN69mU1oXFUUx2/eZJqZyWQyiy6EFjqozUpNbCsIYpygKKjE\n",
       "bEZrW0vQnc0iUBGCCyMSJH6QYi1WKTRQCrULE9CNVsorKe6kEe0qFkeJK41EXAQkEu895953zn3v\n",
       "3blvJokH8rj/eeee87vnfrzXVyEsq5lGIBxWE04LRGYL/AFrXo/g/0LxWy1D5prYEV7LNxEzN21a\n",
       "PUPp3ckjaa4+KfYwNU97E532B9lVFL8xWGfmVpVrh9catiau3An1Dx/Iv2FsHuGdUj1suxzG+qTY\n",
       "2k+6UViWl9IEjqzuS2R52EFyzV1D8RqxWlU5ksFnG7wWsCFe+Uwvj3JVXl7CdlfI+qd6cCtfPxDG\n",
       "+iSt7+vzunUDsldR7Pcm2u8Mkl/eNRSvRaw2bHrhnJVrl9cG1sTnX9fdK2wNdvPVneoB9pppPBbG\n",
       "+iSt+I5eOWKV/zzqTTTqD6JOovqOongtYrVh0wuXrFyHpYsNG4h7NiM/fu8Cq026h7K3OQbvk2Jv\n",
       "RuvsjEUX+hIxD1cQdbwM7SSK14g1VpULGXw6L11s2EDcN2bkW/zeXraH0z2SGHtbYtyOal3lP3fV\n",
       "fYmYhytIYga3i+I1Yo1VZW8Gn45LFx+2Iu7+6rjZwWvyVB42g1ihc8HhkcRYaUXxzLnr5kRRT6+l\n",
       "R8wwF32JyCMWZGnVOYPbRPEaY41VZSWDT8eliwEjcf8QWz19PWaXjlAAh0cSY6TloP+2lnqzqMfT\n",
       "XfUlYh52kOUp5wxuF8VrxBqrykgGn45LFwNG4sF5c/eoEFcqZhCz1N/hkcSYbfkv0X9MKy9f0HK1\n",
       "fv2aVjjjS8Q8rCCl6V+cM7hdFK8Ra6wqsxl8Oi5dDBiJ5+T+xhXwsRBhcUirBQrg8BC/NRqfNBrH\n",
       "CWOhFUZhXYibMIbipAwo5kKUpXWe6LuVb1giVMxDBinfuRZikLI4a1Sl0XjxXKOxmBmFogAKSpbI\n",
       "a3PU1LDaFjL4dFA68+piaocGxPIpeekhk0XdQzVlPUfTPJILacrz6C8dHjMUchBasrNFJmrK3ykR\n",
       "KuYhg1REZUwHKWwaldiDPhQWRaGg7GljD962ZodqGitcuk/7peMzKLBGwpTmlPybMTtd7CtrNUMB\n",
       "HB5JjJlWGHvkBimMmZMA/nkLsjDGE23g0aMToWIeMkj/JBwqKkjXYqhVYgZ9KCyKQkHJEnntlOAn\n",
       "JFQFbSaDTwelY6co+zQAxGej/q/IDbrRp9WT6oKLxuGRxGB9rM8OuHqGTIn2qFoHG1p2j/NEz+IM\n",
       "6kSomIcM0h1C7VWQW5PLWiVm0IfCoigUlJCo7Jk6fV+yjj59uMmqoqVduHSfzKWjUa9eGua101oR\n",
       "q0rqGVlR5+q9Wq0p2L+EcHtYGD/XeJ9bVdbAixicNDMIr8Dd61qq92OWCI8ekwgUeUAQPFRUkIWg\n",
       "TkdMNIM2SgpPLAqggIRX9SR7WgjJWn7qI/EhwRppFc7hk7V0NOqbU/VijQFrrYjhKYkzcln+fVnX\n",
       "6gV1aYTC7cExrl3cV2d98mqhnRS6kT9hHus4gyV17R3XMj9pJSqd4IlAkQe+G6hPwRCk9wmj2AzG\n",
       "UAjjpIVCUQAFJCQCF2JvpoeQrMFSVWwSrJFW4Rw+mUsXjfq+B0U/B9ZaEVcWo/nJz9NJHkCtC/Ce\n",
       "l+5hLyRh97HtfXX5nZ55x/ihetBONBDyRKDIA4IEE1EQUmwPZkNhURQKyIPk0sLgvmLtHcJXHw2L\n",
       "Mla4VJ/spaNRf6Ffdgwwakn8Xtd0NCPm8+pM9CVWPvKcHvbnWWH1iZna6ot30QyOit7p50ItV61E\n",
       "QTOoUSJUkQcGeUDczT5Da8W+bGdDiaIgCshV49LSlg1rcb7SnCdYlLHCpfpkLx2N+lPxZ4kDo5bE\n",
       "z99gM/Iyzc8AtJaE2yNp1Cf27JdLJj9RpRncU1uYPqplMG4lGrj6eUiJQJEHBAlevfoHBoE51qpd\n",
       "FIoCKCAxUdnzv61wH1gHRf7KPMGijBUu1Sc7L416XRx7lwODVsSP/yp/vf/AD+D/LVxBYUIF6/JI\n",
       "GvWxLafW4LAsePD9v3C3PF4ZntQSJyJKdHFriyUCRR4QpLi1tY5BYFFr1S4KRQEUkJgo59mCcB9Y\n",
       "3xC5HxksyljhUn2y80aj7lkUj9YZMGok5qdxFCJXc3zfabFAXX1S7B5qHvImOuQPsqsofmOwzsyt\n",
       "KtcOrzVsSfwfaa3jOZHveZIAAAAASUVORK5CYII=\n",
       "\" style=\"display:inline;vertical-align:middle;\" /></a><br>"
      ],
      "text/plain": [
       "<IPython.core.display.HTML object>"
      ]
     },
     "metadata": {},
     "output_type": "display_data"
    }
   ],
   "source": [
    "f_ik_to_jk__1_to_n = ExprRange(k, fk_ik_to_jk, one, n)"
   ]
  },
  {
   "cell_type": "code",
   "execution_count": 5,
   "metadata": {},
   "outputs": [
    {
     "data": {
      "text/html": [
       "<strong id=\"fk_i_to_j\">fk_i_to_j:</strong> <a class=\"ProveItLink\" href=\"../__pv_it/common/3a1ace4382ea04651e024abc21602d2837adf79a0/common_expr.ipynb\"><img src=\"data:image/png;base64,iVBORw0KGgoAAAANSUhEUgAAAO8AAAAVBAMAAABcV6T1AAAAMFBMVEX///8yMjLc3NyIiIiYmJgi\n",
       "IiJERES6urqqqqoQEBDMzMxUVFTu7u52dnZmZmYAAAD1zdHuAAAAAXRSTlMAQObYZgAAAAlwSFlz\n",
       "AAAOxAAADsQBlSsOGwAAAs9JREFUSMeVVj2IE0EY/ZJNbjd/eynstDiI2l44LAJCiJxcqQGJnnpK\n",
       "OEstAoJw3VpYiCcJyqGFRRpBqwRMc91KwMbitrEKQk60VHI211zhN7Pzuzu7nAM7mcz73ns73+z8\n",
       "AGglKypTWfmvblPJJjEapLLrZpblmfsfn964oTHc7z7rdwKUn8MlNVaiL/FpRpSKW8hopbvp+lB8\n",
       "xBmzj3won/HJB5DxFZpAy1Ws7umaXw9PsD6Xbqzrg1XljLdPuNHP8Cc3V2gCdZWB2bxtEeNr6cYx\n",
       "fcawT0TIgP2+UywEWlC0nLpqXPDTfA36IaPSFnJV1jgjaRJ9mmicSZ1kgz5l5Pbv8sy6OPdTko6Z\n",
       "YCnob5zmZstkXBmn+Eb0YXqZM5br6nsEO9i4InkSxTRU7IHJOFdNG7GuD/NCizFWh5C7QYG8B0Xv\n",
       "EBvPJU2imwAf3KrJ2BmkGWv6YK0se4zRx+dNOOU9KMNrbIwkTaJY+wVi6HY6t/c6nbEwLi7SjDV9\n",
       "NOj7jPENd7KFAByitCNpEiXkvm8asZ06Yl0f4BdnPMSUd2sBS0VmjNrPJE2imGo4Wzamup1mrOuH\n",
       "exBlYG5La7uvsLWEcgc9DNkgG1VIk+gD7DuuGD+uroxXix9RIPqQPWYM0ig0YMg+8lG2RVcOHNDv\n",
       "SEFnZGrOR4wrf/kyIfHlI04U/6L6kFswhoON1T9DuuNjAkpXsXGL5GWLOkj0PT6TyDou7R9NMLTH\n",
       "4++TxpxXHR9i+lAi6SEMF19jw27TI/IOOzXpnO3SNS/R/NCwc9FyAUS8Vhwf4vp0YSDjRQZn/FOx\n",
       "HYDc7cPjgPSoqHp02NomGe79QXyzhJh+ybvuh4yb5KjahgkdzlJ4NbhIT0HyZhq6nXSt6Ip4vUwh\n",
       "pj/yNhlj/YcSWaYSoYNFKg39kmAcvq4VB+oQ03ebPTlApdSoRMIlKptwJVo7/dWnJhj/AK5V1wsB\n",
       "P3AOAAAAAElFTkSuQmCC\n",
       "\" style=\"display:inline;vertical-align:middle;\" /></a><br>"
      ],
      "text/plain": [
       "<IPython.core.display.HTML object>"
      ]
     },
     "metadata": {},
     "output_type": "display_data"
    }
   ],
   "source": [
    "fk_i_to_j = ExprRange(x, Function(f_k, x), i, j)"
   ]
  },
  {
   "cell_type": "code",
   "execution_count": 6,
   "metadata": {},
   "outputs": [
    {
     "data": {
      "text/html": [
       "<strong id=\"f_i_to_j__1_to_n\">f_i_to_j__1_to_n:</strong> <a class=\"ProveItLink\" href=\"../__pv_it/common/b87112660a630a579dd1922fbffc09e9335bef1f0/common_expr.ipynb\"><img src=\"data:image/png;base64,iVBORw0KGgoAAAANSUhEUgAAAyoAAAAVBAMAAABbIwcRAAAAMFBMVEX///8yMjLc3NyIiIiYmJgi\n",
       "IiJERES6urqqqqoQEBDMzMxUVFTu7u52dnZmZmYAAAD1zdHuAAAAAXRSTlMAQObYZgAAAAlwSFlz\n",
       "AAAOxAAADsQBlSsOGwAABf1JREFUaN61WU1oXFUUPnkzk/nJm8ksXAgVOljNSu00USiIcUSpoJJm\n",
       "M1rTWILubBaBFCG4cIoU8Y8E22IVoYFSqV2YAYtYK+VJihuRTtGuYnGqKS60kuoiRSLx/rz7//Mm\n",
       "Q+fCvLnzzvm+77xz7r3vvjcASqvwg6UF9tMud6dr4DVXYEsyd069M7xTL9jSaY+vgUg18HHWAdpt\n",
       "Pz3bsSqlh2zVZ571Ynun3iHeqefIzlbkdsuI0rUoPv0++oxCqia73vw57uRaKLK2ylOYBM3dbCo9\n",
       "fBrBw26zUx0be6Ce1ATcH541O3AagZPkVAooTMeIlc/icRiW0eElgHskUPHrE3HvW/TJtBTG769v\n",
       "gOpuaSo97ALoi5xmlzox9kA9qXF4QnJs2Qkvbo8S5TQKSJVjxInXYmApHgdjEir/1nTcW5WmJRsw\n",
       "qQ3N3dIMeki3fWareqnWG/WkxuEJyZGzA4dY5/EoUc5CQRDZDe7BvqXyvsH7C+JkrirnJe8dDSY9\n",
       "wCc+s1U9Dz1RT2oCnpAcOTvwplyVBDkbBUYUx9mvw/F3nzQwr/JclF156fMu7SY9wF0+s1X9MPRE\n",
       "PakJuD88JTtaVfxyNgqESJ/fz+bYTbQWjiLRYpO7Pnv8IpvBaNFcXrXlRXI3m0oP4Qh2XnGY3eoY\n",
       "e+fVk5oE94enZEerildOo4DlR2PEYFWqUTGL5lFaKvw/II2R1pwtL7K72RR6KMExdHzCYXarY2wP\n",
       "1JOagPvDU7KjVcUvp1JAO1+jiJ2L7Pw+gDMlJJoTi2TwL+tlGlBoXLflJbfgk1XoYRhuo+PbDrNb\n",
       "HRl7oZ7UBNwfnpIdrSpeOZUCUpXBBkXMo6lJ6/khQJRHl1xYE4sd6l4ioyM/AyEcxQOuXn/xeL3e\n",
       "5HmR3C1NoYcohxFLivmHlW/c6uG1CxE1dqsu6E31pDYvuo7ksD0Ayw7cqNc/qtf3i6p45VQKxDEf\n",
       "UQS635x6hKcNn80uyLe7wsg4A+U2bKM1u5BwO5PooYTJ5hRzG2641UsUgY1dqkv0hnpSu6pUxRKe\n",
       "nFIWnzZX5jrcTmAKILFixEH0OcIn+bYQ0QvX/ib7iSdYXzOyrSHjPl2Vnj5pHVHM63ShsKsPzpBJ\n",
       "jo1dqkv0hnpSOwjyCmZLjrT8sPi0qnjlNArynEoQRznyFTSF1ovohjaFZzstYJXF0Y96l2datvst\n",
       "dg9NRcqg0KOVGo+IPQKAzM/RtNnV0xGpCsZ2qS7oTXV34/CxZ0baRnJCHt7qqVE9O1pV9vji0ygg\n",
       "WKcI8k3TtoJXzfvoHi28BewyaFXwjnApqKl5Kf7NtnSXyzEGd8QvjR5gL9ulEj9qpguFQ51Ocozt\n",
       "Vp3T6+oKygEPnz4GH+jhxcGj8C7N1fIVLTuiKr9U/HIGBaTXKILcb2jaTqPPOcScwcmoR+x2R6tS\n",
       "QMeBp9SVfeD8rXOxe2YSHQ7gTpsdCINGD1/iwwsMQM2FSY86ecVHjN2qC3pNnfgdMDoKPFguw4YR\n",
       "Hg0ehffALhiMtOzwqlw4ua3mlONXKFPAwBQNsNTkacvE+8D7ybUT1B9i5Z6wPF0Ld3jP3F9gBp0e\n",
       "L2jBOAcQ81DkUQ+mZWM36hK9pu7bHDH4QJXe35XwKByH90V8N5+wPduDR05coUyB7xgI8W5fg6eN\n",
       "vUgjz6hFjGzeLaoyZnk/KL1Va5n7C/TR6L9Kb/AXfS1mDtpBxa3+ENyrvVLcorqg19W9myMGzy+W\n",
       "2ot6eBhOw/sY/iroLy0PKf8F1Nzx6RQDjb0RQTxP3h/H+4SXaXXxLIJlPD6my6Iq/RXHgxBxD81/\n",
       "dzCDSl+4TTYaQxxAzENnP4+c6sGrZ/8Uxm7UOb2h7mscvhMyZxb18DCchrcGE+/4suOUE1coKJYa\n",
       "+yjiyV/R94PbfySe30npxzzpUdQNrvxHOMMpx+aOuKdMA0Zp9L/9zq+PAIj55OamWz2/ubkmjN2o\n",
       "C3pd3dc4/HVI/WSEl2LhZZvwWM2XHadc1UJRGp2xDMCApH/Ywb/Dfnq4490/pYdUxWce9mJ7p94h\n",
       "3qnnyM5W5HYwxP9KNJF8gdEirAAAAABJRU5ErkJggg==\n",
       "\" style=\"display:inline;vertical-align:middle;\" /></a><br>"
      ],
      "text/plain": [
       "<IPython.core.display.HTML object>"
      ]
     },
     "metadata": {},
     "output_type": "display_data"
    }
   ],
   "source": [
    "f_i_to_j__1_to_n = ExprRange(k, fk_i_to_j, one, n)"
   ]
  },
  {
   "cell_type": "code",
   "execution_count": 7,
   "metadata": {},
   "outputs": [
    {
     "data": {
      "text/html": [
       "<strong id=\"fk_1_to_i\">fk_1_to_i:</strong> <a class=\"ProveItLink\" href=\"../__pv_it/common/fb818395d0bddfc28dba80dc956fc66e211e76500/common_expr.ipynb\"><img src=\"data:image/png;base64,iVBORw0KGgoAAAANSUhEUgAAAM8AAAAVBAMAAAATCqclAAAAMFBMVEX///8yMjLc3NyIiIiYmJgi\n",
       "IiJERES6urqqqqoQEBDMzMxUVFTu7u52dnZmZmYAAAD1zdHuAAAAAXRSTlMAQObYZgAAAAlwSFlz\n",
       "AAAOxAAADsQBlSsOGwAAAtlJREFUSMeNVT1oFEEUfrf3u7u36xUpBC0Wo2LlHcEihR4nooWBsCD+\n",
       "YDQcsdMUgaBgZSxERCWHQZLC4pqAFmIg18RCTgRBLExjpaIRKyXHJRYBOTzfm52/3UvWG5jdYb/5\n",
       "vm/emzezAKHmhV69LQAM6LsZ2+slZ4L39A40jmdLfRsN63rulyb//BC7dQkFK/rk9c+g8MNrVwGO\n",
       "/EdeMnKr+CgLvU/PeCD5AsD7tQ6O9mos5+UCSNyowtcpSDRjfRTjNT0uC72FG5znknGSjEY1mnl3\n",
       "EiRue2DWIPUt1kgxfvA308t25AQQRqa25FtNDTc7YG8CPIk1UoyaYNIXxxefb0ujhLZJH0HDbR/s\n",
       "PwADsUaSkSvwAemlVsZEItalkbMkWSOPX4GOQ7qN2xrnoxgu1kK+XOF6u2SxDkijVEHxfkMIhxc4\n",
       "/3hsRJJBgTjZGtcr1iF1hn2/II1yNXXkMFMnSwqHMez3Yg+pZKSxnJ+6Ba43i32ezZiXRlZb0nI4\n",
       "NKcU7lYpqjgjxaBn0yxxPdw6ox0xyqqIqFaKoPARetyMPUaSwexmm1zvGqawOrgaTp2sRMjgPp4y\n",
       "jonU4VnfB3AnzkgxKHWwJ8/15rBohx48wtEVVQyUn+A0UOTLh955HH8OcBR1QOJ6izIyOMpvOYGe\n",
       "sYXQMNSBF62zKepyg9GKGP7cjAUBboy3Wn5Q6Az/UIgOdAZVtdXeH+jR1hVb5AOL2O2VjQbGTMk9\n",
       "yxaItWL8/QkcT3e7XZQ8DxxP0xkcBz6IMizKWKMS6LmU0axPqUnXRQ4OsOphtF8U+HX2X5G44Ss8\n",
       "VG9RxkWldz+BG7Zs+VQM6q5kl6FD1KXdGGVpkcYKZ7cvwyP1FmWMKr1zdJNPQIMtdkKsmGoB3lAQ\n",
       "k5iojGefBh0/CAIPtx5GxpN6J75rE9+KAmU4He5U2dsGDwx7/7M9jHxV09MvD84d2ulyCfCk1/ev\n",
       "fFDo/QNxSMOITTlLIwAAAABJRU5ErkJggg==\n",
       "\" style=\"display:inline;vertical-align:middle;\" /></a><br>"
      ],
      "text/plain": [
       "<IPython.core.display.HTML object>"
      ]
     },
     "metadata": {},
     "output_type": "display_data"
    }
   ],
   "source": [
    "fk_1_to_i = ExprRange(x, Function(f_k, x), one, i)"
   ]
  },
  {
   "cell_type": "code",
   "execution_count": 8,
   "metadata": {},
   "outputs": [
    {
     "data": {
      "text/html": [
       "<strong id=\"f_1_to_i__1_to_n\">f_1_to_i__1_to_n:</strong> <a class=\"ProveItLink\" href=\"../__pv_it/common/0d8ca2ea278c2eab995ddb027ccb1dba5273c49c0/common_expr.ipynb\"><img src=\"data:image/png;base64,iVBORw0KGgoAAAANSUhEUgAAAssAAAAVBAMAAABCjb6eAAAAMFBMVEX///8yMjLc3NyIiIiYmJgi\n",
       "IiJERES6urqqqqoQEBDMzMxUVFTu7u52dnZmZmYAAAD1zdHuAAAAAXRSTlMAQObYZgAAAAlwSFlz\n",
       "AAAOxAAADsQBlSsOGwAABTxJREFUWMO1WVuIG1UY/neS2dwm2TwUESo0qN0n7Uar4IOuEUXBypIX\n",
       "L2zXbdC3dh8CgrD44PqwiJeywSpWETZQCrWgG7w8aKUd2eKbNKJ9WktT2fqiDak+LJSVeM6Zc505\n",
       "Z86U3XyQ5GS+/N/35Z+cOWdnARRUyLMDBljoKJydyO2ymxU2v4rykjhQtCC1RF4yVX2VhdbgkR3I\n",
       "7bKbFTY/ysNrcHuBWEHpik8PH0eP0+jNQ/JnFfrAtaMhWoMbv9NBtovS9WLkRu5mg7DTxxHqmHf6\n",
       "d7QhVUsqiQPBNCvY+JyeJ68M3vl96ENjvlQm004DrjZVOori9yfp6Ef0cLtmudG72cDtDHGEOuJh\n",
       "EopbAHcllcSB4GVWcPJ1KlzCbX8cvUn3pDKZLlQg11LpKHJvL9DRZvBilBu9mw3czhBHqGP+K4BP\n",
       "AGaSStJAQUFmm2sCdYLPRJVC57ah8I9Ca/Am/zm06KtJbuRuNgg7fRxJHfOrPlxAp95PKMkCkYJi\n",
       "nR1+izvtkaaNTBfqULil0BpcZoNsmQ5MciN3s0HY6eMIdcJ/C3ChDWO1ZJI8EC5If3eYzZIb3GmD\n",
       "V4VpcAcyrcGhj86zeYaWgPXNWLnRutkg2WnjSOo0DxxBjewkk8SBvOkaLZjgO5g93OkJUReiYa2q\n",
       "0Br8C9JZ7C7Gyo3YzQZhp48j1GmePDqQLieTxIGKmRYtmGqz4y9xp3dEWYiGwyqt2ZPfYiN3CfJL\n",
       "12LlRuxmg7DTxxHqNI+LfpjZVjJJFAjOlMq0YAX9tIMT+DF3WhNlIbrUUOkosmieXyQnPNcED05E\n",
       "5H7e+CHOTaYTuXlXzvkGNxtWxFAbB38XmYc/8S96kEwSBQI/V6UF6Cp/6uGQ06KyCMj0IVBp7RqQ\n",
       "P1hnPtntiFwPrse5yXQitxKU6gY3Gy7r2ryoXSIJn8ZX2UwrmSQOBCs+LTiGHsuhebMsylQa/WFz\n",
       "t0JHMY7nVZ3NmrGOH5bbCiaWyU2ik7lNNMnc1rnZcAw0F41l9bvI/HFwKvTL2SVxINjr0W6c4Mqv\n",
       "cqen8SjYHqr0FwCPKrQMLziJVdbmcTS61OyG5Z4L+mhyk+hkbmmftFnnZga3m3n2YM/45bH65qlp\n",
       "xue7kPIh3YjJI0niQN5WEUiBs8X7SHYyVyt09+LdJIuAQjvz/X5doi+VpUHwBFNN1ma8kVlzahG5\n",
       "YGIZ3Tid1C2Y21G36OfVw9jOe+ZD+MAUB6tfXKzlKpTf3+9fpxu1m3oTWRIHyg/uDQrIVT7o42n0\n",
       "OLe6FyV9Eb993ocw7Q6Hw7JEu/iszQMduHNsDQjanEfPhacgIpefi3XjdFI3csdH4xb6vPKO2Tnr\n",
       "Zdg2xcHq9z0AEz7ljwyHqKFuk/HziuwcqJI4EHxTCwpKHd5Hl+1FHNKlLFay0Crex09/8TbDrF5u\n",
       "0o91M9MGN2fB4Ba3Q2F2hWqwpGn9sPrXwZrIedgfl0eWnBUF740t8T7ymybkNgqgq4qNDgFPjs6d\n",
       "os0zWjmn51Ri3My0ye0AXig1brE7FGaXa5d6bb1foP4p9PPKHalNcx5VckYUvEDu1tHF9RV6fJI8\n",
       "r4OVDi0C6JrvLpRFm8crOrnJs1/6MW5m2uDmHD37t9YtDtxuCtwzbb1foD6A2Xdl3mmY86iSNBAu\n",
       "ePIPNLh/36/kwE8g9xOXWejQ/xfwSZ9G2s4v/xHWa+jkVofDODczbXDLDYcDrVscuN0bkPrN4EfU\n",
       "Mx14rCbzQfP0eVRJGmg8/F8qJyhOGf7dZaE1uGcHcrvsZoXNj/LwINxeIFzwPwB2c0DsRFPxAAAA\n",
       "AElFTkSuQmCC\n",
       "\" style=\"display:inline;vertical-align:middle;\" /></a><br>"
      ],
      "text/plain": [
       "<IPython.core.display.HTML object>"
      ]
     },
     "metadata": {},
     "output_type": "display_data"
    }
   ],
   "source": [
    "f_1_to_i__1_to_n = ExprRange(k, fk_1_to_i, one, n)"
   ]
  },
  {
   "cell_type": "code",
   "execution_count": 9,
   "metadata": {},
   "outputs": [
    {
     "data": {
      "text/html": [
       "<strong id=\"f_i_to_j__m_to_n\">f_i_to_j__m_to_n:</strong> <a class=\"ProveItLink\" href=\"../__pv_it/common/49452a9a23e4da020c8818ae633cb546bb671cdd0/common_expr.ipynb\"><img src=\"data:image/png;base64,iVBORw0KGgoAAAANSUhEUgAAA5AAAAAWBAMAAABEY25PAAAAMFBMVEX///8yMjLc3NyIiIiYmJgi\n",
       "IiJERES6urqqqqoQEBDMzMxUVFTu7u52dnZmZmYAAAD1zdHuAAAAAXRSTlMAQObYZgAAAAlwSFlz\n",
       "AAAOxAAADsQBlSsOGwAABhZJREFUaN7VmU1oXFUUx898ZSaTmUkQF0KFDvixUUmaVBGqMUWJoFBn\n",
       "Ey1tldDKgNpFIEUILoyIiFpJaKrWDzBQIu2qAy1iFcpIihsXHdGuojjVqgupTHXRUkbw3vu+zv04\n",
       "977Jmy68kMnLm3P//98557377kwA1FENX8wj3dNpu0g1VnA1fmjaorCZUd1EbvHR+0BLA2YW+es8\n",
       "PfVB8+n8WC8J+iLzcWKdRG64+U32wbPuMbf46MlpZcDKT83orXfZzyRkpnD4lR+j40JLBMhjjQls\n",
       "d3hqIvBZk7aB+EQg62ba8rniPlAm60OqgGLNMJ25UWJ29D7QyoAbJxfDoNIIe3kW4HY0sfzlseiP\n",
       "r8ELQKN0bitTTjWt7roIbLPYQHwikHVzLenUt5e6IE82DFwB1ZpjOnKjxBzoyWkVwGMvR5wV/2rY\n",
       "hSYOvnkw+uMyeuNQcPAIE8i2re5mEdIG4hOBHS7TVSYbBq6AwdqVGyXmQE9OKwPmu9gn+I0yexVn\n",
       "uYyOX8eNhE+s7mYR0qYHIgecKM2g9ZaSKmCwduVGiTnQk9PKgOUainrN/51C6/RF/BQaIRt5qzU/\n",
       "swhl0wORC06UJmV97EgVMFi7cqPE7Oh9oJUAs2f3ooXjClt4J5lOuRGeevK9c2i1afkBeiM3bO6a\n",
       "CJQmGrQNxCcCWXf9sqk0aLI+5ArI1h6mPTdSzI7eB1oZcBhvrllny3l2z2fR5fIPep9fLCJAb+RO\n",
       "a4KqCFTgKG3TA5Gi21owlQZP1sfwGGntYTpyo8Ts6H2glQFHV1HUboATFaZTiBbw9A30fm7RD9Ab\n",
       "+Zb1k7oqAuNwnbbpgUjWLS5eMpWmsGyDkyogW3uY9txIMTt6H2hlwCUc9QFAc5C1vNiJ1vIOfv7P\n",
       "+QHw28zMhzMze6NGnrK5ayLQLHRpGzHOj8QhQqFMtwQrIMOJ0hQ7Nrgl7XPHzqAYHqY9N1LMjt4H\n",
       "WhnwotJIWGJtyS+btwKiB0tN0x25EHs/IUSgUqNtKjydiVocIhTKdQtd0zWeX467EQP+ADp+f1gM\n",
       "gWnPjRSzo/eBVgZ8SV1NtpSYQ2Q40FBXRR6gN/INm7suIj4LUzYD4uqtxSFCoVw31WiaFquaDU6q\n",
       "wCyEuewOMO25kWJ29D7QyoDs7t71xERj+4v87AG2rlwrs+ctz8frF1scspeP78hM87V5YMwP0Bs5\n",
       "zY/0T0CECFvr5yw2UXecRFEo170w1zJtH6LJ0vBwpQqgRh4IMEVuJVcLsVjbij6ZnLatAaavQenx\n",
       "o/Ax7ABvG1vs3Ol/Qrgw4geeX5gabGQa/s5YBEiN/Lka7IWv+tPEQfiXQQTgKaBtUHdcRCiU655K\n",
       "K5+Nyn9jH5lLHCgVQI3cCDBFbsR0+XQgdsSOXk1Me0QDZI/f9PoI3BCwsMZ+zjDxHG9zbp//cL13\n",
       "GwyvCvlizQ/A7l99uoWdeYYfzrCrJsevlufAf6FE4HOgbVB3XEQolOsOPSY/dYbOXj2DJ0dcbR9X\n",
       "qQBq5FqAKXIzTJcOJLGuHb2ZmLarAVbYhTE0Vlz2F1x/b3uXeD3MX/5kP6fhpP9k22P6ZkdcKaKW\n",
       "BX1tpURWSJvf6y/U61PBg89KJIXScGiyvJnmuKgClXr9/frzQSOF9UqY22HH0orEvO0Kib6QmBYZ\n",
       "+IDvpFhpB1czs+nOKvp62PvGgW9HGrexg4/gARgtql8AH9K/YS7r+ZlFvsh2LTboNnMRoVAaLpys\n",
       "bqbZj1IBdEcyaw/Ty63l+nIuEqu0rcX8q5iUNjQIAZ/m/0wZZT3Ozgrb/d7tJdIpscdx7iBbndMd\n",
       "dhlNV8Qjukqkcbd4Xdc3O0aR4nV+b5I2uDsOIhxKwUWTlcFxlQqgRsJ+D9PLreT69zISy51YtaHv\n",
       "eTspbWAQAT76C/v9CqSq6dNiVfwGVSTDmz7JDvMNuAXueUjozxJpeNC6OyHy6x82G96d9Hf/jsUg\n",
       "wqEUXDRZGXyWUgEucd/W78GzFphebhnXrhWJZX4AG/rDU0lpQwMEqFwOoiLjNO4d5tOZag//sgtE\n",
       "SJuB+EQDMeDGe0Cb1ax7zC0+enLapIA3fVRuSmis0Yb/5fgPcFHCwzcL8XIAAAAASUVORK5CYII=\n",
       "\" style=\"display:inline;vertical-align:middle;\" /></a><br>"
      ],
      "text/plain": [
       "<IPython.core.display.HTML object>"
      ]
     },
     "metadata": {},
     "output_type": "display_data"
    }
   ],
   "source": [
    "f_i_to_j__m_to_n = ExprRange(k, fk_i_to_j, m, n)"
   ]
  },
  {
   "cell_type": "code",
   "execution_count": 10,
   "metadata": {},
   "outputs": [
    {
     "data": {
      "text/html": [
       "<strong id=\"general_range_of_ranges\">general_range_of_ranges:</strong> <a class=\"ProveItLink\" href=\"../__pv_it/common/08dd5fee11116b93926556a34c4145a2cbf45f9f0/common_expr.ipynb\"><img src=\"data:image/png;base64,iVBORw0KGgoAAAANSUhEUgAABfMAAAAVBAMAAAAQkmnRAAAAMFBMVEX////MzMxUVFRERES6uroi\n",
       "IiIQEBCYmJhmZmYyMjLu7u52dnaqqqqIiIjc3NwAAACW8nlqAAAAAXRSTlMAQObYZgAAAAlwSFlz\n",
       "AAAOxAAADsQBlSsOGwAACRVJREFUaN61W12IVVUUXjPeuffO/XMg7KXAqUCdKBikJ6NhoNJexEm9\n",
       "EerDPGiBP3TLIIXCIQoRMQZfBAk66FMP5mWilyS6RAomMYM9pGDTBREfQlQQxEGHzv455+y911r7\n",
       "7NtMG7Yev7v2t9b37X3uOfueIwB0IWvmMQk3dEetQY9s5HEzGUPDHP7GElL4A3sV3ltgA5ZCHSww\n",
       "V2EPVDms3RxS30z9D250jb+TDvVOFmAeAwkX5lRH7QZdhwFvJgM2B8lhCkP8VGns2J4CexXeWyDJ\n",
       "zKD/XWC+wsDpyGdNMJb0BuQMWlY3UnCz0eGKhI7/mB2bQ6Zc+E/d01a+EMV/1tru0GvgwPWWG9K3\n",
       "g0Ltpuiv4A+eiih+qzRGVNpWRaxMHBgsHLFjK2j2ENRuwQKhb0OYwrzpyM/veIlISduIQcvkhiNc\n",
       "lJL0yrRAqs/th+TYbANtFx6MVE/bzNPijPoWFbITXPi0E3Hm2AKBOk3S48IArpP8ZmmcKN0q676J\n",
       "WJk4MFg4YiesINnzUaeFC4T6dJjCvOnIz+94iUhJ26hBy+OGK/x01svyjCz+Kk6OMn3KW3BpSvW0\n",
       "7X9dVHSULseCDyVXroSvvmCgTJP0Ze67CPGbpXGiNiUHf0esTBwYKjxVZ7PnBKbMKKen9SgwRGHe\n",
       "dATlNzFEyq8XZ9ByuWGDh7JelMAW6VGR4bT+tVf3ZAIX5F+T9FALLuqJqM2ZS7/oPZcVfZH7GPMb\n",
       "pXGifqdXRl5goPBUnbPucgL3sjn51qPAIIX+6QjLb2EOqWe9OIOWyw0bFKXoflkCP8g/L9OcNnxK\n",
       "9+QyMyGnkb6U2vBgi1r6g967S0XPFEbxG6VxopiVkRcYKJxZ+nmBp9icfOtRYJDCwR5u9vlVc9le\n",
       "LwapZ704g5bLDRsUpeh+XPz7oz3r5D4hPimvfvfTa30XXlFx545ieEZ3fWlas1VchsrxvdrmF//5\n",
       "Y+6Z78fV3dm1FoKrw9TST1CyaXpRpEUPlb+Gaf6sNE4UXhmUTBwYJhwvfcoKHDjD5mRbuEA4dxVI\n",
       "G3E273R481NeIlLXNs+gpblBC1el6K7OpCfJuVZd8TKc/xguqYHtjRg+rLtuK+eSc6m9fq7ycLym\n",
       "LmXVwiSCS9PU0i9N+wQpelGkRQ9leJ/mN0pjROGVQcnEgWHC8dKnrMCBh9mcfAsWCFPFFmkjzuaf\n",
       "Dl/+LuFlF5Hati0CP2hpbnQp4YuqFN13iYDGfRkXH78xMAp35+CI+mGocwzDl3TX7e6Q3KF3oDC+\n",
       "DRpPoHRPws+WpxGM5lwu/dqkT4+ijyuw6WEeHtP8WWmMKLwySJk4MEw4XvqUFTjwEpuTbcECod5d\n",
       "2SFtxNn80+HLP0R4OYRIbdvuAz9oaW4MUcLvq1J03y1nQTkRH0fnx2E2gmPqUg0HMLxad91m1eZh\n",
       "HCqVB1BbgLI6waPiHIL7RJZys/nOnmZzOF36ffd8gmaTwmx6iGoLNH9WGi3qy2bzvWZzq7kySJk4\n",
       "MES4qS5Zd5QVOHA1m5NtwQJjhbMRtpHM5p8Of37KS5fUtY0ftFQ3SOGyFN13Z3sPeRyXFju4T9Mt\n",
       "YHij7tbmIpYicseOFvWzCpnShgvkt35hMn/vshtceihP0PwbnQ0VFoW/FCmZODBQON7mElbgwI1s\n",
       "zpyfAEIExsuIthFnK4R/69v5RwgvRzCpZVv/tGfQktwYoYSLdKIU3eUNz4rh5GIhxuyEwmJFbYeH\n",
       "IwRfBNV1Ww/6AiaIB9qwpavsPllBcG2CvOGZ8AlanxZm06uHIAR/VhonCq8MSiYODBSOlz5hBQ68\n",
       "CFxOtoUL1E/VsI04m386PPkfEkvmYQWRWratbEX8oCW5oauxhYt0ohTd5Va4qGZBHO+D+MrQP30b\n",
       "RK7z420XhoOgOqiqD6i8MUH8TRJfaUYaLZG18qDqwlAaJbe5oymX9QAPDHpRgUUf3zOO0/wH07GU\n",
       "KOwnJxMbny8cr+iIsQIv/YPA5WTNCRcIjQfIRiYbMx25+WsLVeSlwFxSy7bZqC2pyEHBbkR8Nbbw\n",
       "OJ0sRfeZdB3JH4/inUC8BVrRblceiZsr6ZAJqx+KRJcBmlr+XBTvLOJ91qtVOC/vu2+7sPxFy5rz\n",
       "6qL+nUtyyT/E2PQgpZ8Bhx7Ulo7gP56OJUQ5fv7cBVamGxgi3FaXsFNWuIGKmc5p+2KYEy5Qb2st\n",
       "G5ls6XTIHNZ02LCTvz79IfIyxhxSx7brpSFJRQ4KcSM9YKqxhcfpZCm6r8r2HuK4MCFeJSqc6EIz\n",
       "Pmv6P0EwbAfVZUCyueiLLyFvyve03pqHgR0xsrblwjDg/KDdv+bRWo1KrnfFlXAqOdhh7F1EkTY9\n",
       "vAA0//Z0LCXK8vP5D062WJkoMEC4pS5lp6xAgYqZzClJUl8Mc8IFQv8ospHJlk6HzJhNh3VA5K+s\n",
       "7SAvBWaTOrad+VRRkYNC3JAHkpiuxhYep5Ol6D4gfgX6XN8/D5k75vTKYsGNCdV1QFk/rHjbvAL9\n",
       "lh5Z8C33MWaG1vBlTJJoeqsC9ckBml+VJiMoUfZXiUcmDgwRjtQZuvyBjQkuJ29ODwLV3UCAQnY6\n",
       "QvJTXjqk2LZssTiDgt1QCF0NEn4r66UpqA1/rR+1TZk75uzBpQmLN4HU20Ai4JfBjoKtt56yF1It\n",
       "OHllqdBCaBW72zbo7ReX4k9eKi3Q/Kq0OIIWJdsmyJeJA0OEI3WGLn9g+oIVysmZ04PA/s6RKFAh\n",
       "Ox0h+SkvbVLCtjY3KNgNgdDVEMKPGn0MBjYkD9vGDMJz2aEJ39RdBWxLXj5d0TU2QdnXmQk3Rskn\n",
       "EaNOMpMkpR+zP+l7PNCh+W8mY2lRuDEycQsQ7mX3B970oLQ5PQhc3dkVqpCbjqD8lJc2KbbNWCz2\n",
       "oHA3BEJXg4WLUpIOZ6F0LanjrEFolGTCYymRCPjsq0SBsa7rhkejeXOvUPwfcCRJSn/W+eTEFwz/\n",
       "WBJBi8KNkYlbgHAvuz9wzIPS5vQgsHxtPFQhNx1B+SkvbVJsm7FY7EHhbsyx1WDhopSkQ8PgatCa\n",
       "DbjeVR21O7RJBjxPBsyHPTPnJsPhp0prhP3HtpzAXoX3FkgyM+h/F5ivMHA68lkTjCW9AzmDltWN\n",
       "FJzP+r8/iLJadfEh4QAAAABJRU5ErkJggg==\n",
       "\" style=\"display:inline;vertical-align:middle;\" /></a><br>"
      ],
      "text/plain": [
       "<IPython.core.display.HTML object>"
      ]
     },
     "metadata": {},
     "output_type": "display_data"
    }
   ],
   "source": [
    "general_range_of_ranges = ExprTuple(ExprRange(k, ExprRange(l, Function(f, (k, l)),\n",
    "                                                           Function(i, k), Function(j, k)), m, n))"
   ]
  },
  {
   "cell_type": "code",
   "execution_count": 11,
   "metadata": {},
   "outputs": [
    {
     "data": {
      "text/html": [
       "<strong id=\"range_len_conditions\">range_len_conditions:</strong> <a class=\"ProveItLink\" href=\"../__pv_it/common/0ba651005da2872515e635648fe9d027abb990f40/common_expr.ipynb\"><img src=\"data:image/png;base64,iVBORw0KGgoAAAANSUhEUgAAAjcAAAAVBAMAAABI/dKJAAAAMFBMVEX////MzMxUVFRERES6uroi\n",
       "IiIQEBCYmJhmZmYyMjLu7u52dnaqqqqIiIjc3NwAAACW8nlqAAAAAXRSTlMAQObYZgAAAAlwSFlz\n",
       "AAAOxAAADsQBlSsOGwAABQhJREFUWMOtmF2IG1UUx08mmXxMMrMRqSh02VjxA9ElxVZQtIQ+bFER\n",
       "tuqIVtEVq4KgjSi4BcW8yFr7EgoiFO0OLUvpw7JBwSIiRoqCLdJREVfb1QGRWqUasRSsD/V+zc29\n",
       "c2fuTNYdSLjzz8zvf86Z+zUBgAAAHBjxcLLozlqSSZwp941slmZn99HX6VGZBV8+tx6/ZT9Ud+2U\n",
       "9NNrQYaFv2/z4IMLrXv1963KLM3uBPrUeugrd3vMvctxwHUewHcRLd/fCrAk6ZiaTLY7GclwR6EB\n",
       "1gDsti5JvVl8Hql2VhedHyHRdmNuf0SVrBvmEbPiyarxWLUNRUk/oiWbvYxkuDY4CjADsF9XHL1Z\n",
       "XB4Z7Mr4ecxl6oHbwsZPiFeKPHjjGBwAU9LnMpMLbQ0ZbmpWApgGmNUhspulJCLaFfH5TCbmlyIT\n",
       "nmWjY7P7MCnOGf8sLk6oM2o2cs2PIcM3rkt6weSrThdHW/Q0iOxmKYmIdl/g2LqrYL5Nn/m7LGIj\n",
       "uNrumVxn1IxkuTiMcNcPTJw06qdwtBXNpDOCWUoiot1edFrGw3/x65hRudxOZL5HmmdDpBHkYZPJ\n",
       "dUZNJMPiXGJxKMHhU8wkNPMtFG21kZyv3kzOQ5+IaIfrRh5Jp6g+mGphJpG5mzQP8DknyHUWFrjO\n",
       "qIlk6E0lFocSKsEw2iutHSjakqZn6M3kPPSJiHaP4oUDbXXsYKwPhyP268tdsHbHMz8nze6wOPBK\n",
       "7VauM2pItj7aIE8Yuf4eGIpycSihIkRb6h9D2dU0c4popv6K80gsTiQR0W4nOi22UM+Dk15uZZqs\n",
       "ii4+tqOWV/Rh/Ftyy+uu+7Tr3jdkTpAcn0JX3s+KY3jXhTowakguQxmjrbcIuo7F54CJZdd9EGEa\n",
       "MhmuwFc2abRwo4GizQ2SiyOa8dVdyiM80hIR7cLioLtQsaYjntjps/iCk2FhNYWeYzUWQl2MF5PH\n",
       "Ws5fkRn0oiDKPYcSDgmPEg5aKLLCTHpxSBrqcdJL7jmRRES7cFiRfZJSnH1WYnGoPC0UB8bzIFwe\n",
       "9nRMLnnR4lQa3lCUi0MJphhtzm/GRBczrIjZ3PiymsfsCyudLImIdnfirT+OzTmv2lvnq4nFeZE0\n",
       "V/jrAxor9uWh7jEqJ0M1gl5q9YaiXBxKtvlI2Ig+X6FoS/jpWmphomaHp9rFIJqH9dIz8HyWREQ7\n",
       "vJCRNbI0UIuTG5yJK84n2Hov7QDh9Ecae5hu/cOonExeY8RjwmkPRV4cgQzvhJfiBp5RyVK91GV4\n",
       "3lDMfvsexrxoHs5iFy5mSUS0W4fvxTUx4jru9e2Y4mzYtQ/JD9Bncs3d1H7+SfZyQ3TXo1ROdqKv\n",
       "g8bLghgWRyTDwU00w6suNOkroInnFHMH+noINzqsoZrdDFNqHobP5yxdIpKdiYYD4BkdT+ixo1rt\n",
       "OWSPxi4tvM923ZJe8xg1JP8Kf6hkLtb8GDLcs9mVVuBfyPdxdXccNXsC3sipU3a93KmPkAi2I+9d\n",
       "s2D0X/PSirNN2pIm7OWpXgWgL4qM7Gy87E31fyYuFtoZyOy9Un2ZV8wGsP1T5ao/wVxfHyERYrcF\n",
       "T2fBRB8tW86H//rKNb/Pfxx3688JSKovkjk64OTipUvqJiVWTCY7ZLW11AijZoUGnFIz3gr2URjV\n",
       "7hBZ5cvLrdH+Qdui1f1w77CG5Dz941L94f+Ypdg5mH1uVKQdZNDPrSUZftTftyozvd1/3DDxBf33\n",
       "MJUAAAAASUVORK5CYII=\n",
       "\" style=\"display:inline;vertical-align:middle;\" /></a><br>"
      ],
      "text/plain": [
       "<IPython.core.display.HTML object>"
      ]
     },
     "metadata": {},
     "output_type": "display_data"
    }
   ],
   "source": [
    "range_len_conditions = ExprRange(k, InSet(Add(j_k, Neg(i_k), one), Natural), one, n)"
   ]
  },
  {
   "cell_type": "code",
   "execution_count": 12,
   "metadata": {},
   "outputs": [
    {
     "data": {
      "text/html": [
       "<strong id=\"range_len_sum\">range_len_sum:</strong> <a class=\"ProveItLink\" href=\"../__pv_it/common/8c3025d5cd9e61f378fd141d5293b8e18dc05ce70/common_expr.ipynb\"><img src=\"data:image/png;base64,iVBORw0KGgoAAAANSUhEUgAAAbMAAAAVBAMAAAA+8R3zAAAAMFBMVEX////MzMxUVFRERES6uroi\n",
       "IiIQEBCYmJhmZmYyMjLu7u52dnaqqqqIiIjc3NwAAACW8nlqAAAAAXRSTlMAQObYZgAAAAlwSFlz\n",
       "AAAOxAAADsQBlSsOGwAAA85JREFUWMOlmFFo00AYx792bZqlbdYhAx82ViY4EYX6KjiKD/NJ6MSI\n",
       "6B4qTAfCtKLg5svy4KhThDAQwZcFfRgiwzIQERHrw4QhsiGIHbpZGKIougp7WR3WuzTXJXcXdpl5\n",
       "SMnlu//9/rnvvlwKAGXweXA6qH411P8cUKhLvOi321G26ZNfjdCCeKx/QpvxDT7tMDmKOqdL4BS6\n",
       "kaNbYwV86yAnvsQbtw2N9kEc05OQj9hgVAx8tciJCBfYtvvjVXS+Rzc/tMYxOCKn2SZlzyTCbDZF\n",
       "nXkTchE3GeWckP4R8pxwt2GSVaRvXiwJSfhnZCuiU8qeQwoSbsoTRkms31tnN8l+4jGyYLJCGo1w\n",
       "bA3OU8qeQwoSbsoTxrltWGvOucVixjas3RW1Nrcta4jxFs7mpSQbOZ33tBZNusVknPLT7zjLpJTz\n",
       "tDYjas2TkEJ0W0OM+OHJMMj2K/R6WosYbjFrFnWJXRPRUNbT2oioNU9CCtFtDTH2o59l2ABlhKqg\n",
       "xXGAKYNrLZZ1i4XRiydebikqz7vcda9dNuDRzF6utdei1gghW+Qxopc1xDiAfsxYFTre18u4ho8+\n",
       "lAIwBIGljNU4pmnnNO1Yo1uggh+kpp04q2k4UaQ0jp83ZZBxB+WOJZJAwtIC6DAG7vC6tU5K2X04\n",
       "bhBCkuQNdYxIDqc8YRywbiCiWXpVooBYhjtrIWrWsDVEAy1p9bdbZN6ENVhN8GatV3TWGoRs4ah6\n",
       "zxpi7CevPtpac9L0skaanQmJ384Rk7Y2ocA1D2uzfhISEw5fWtIZxEi+o8RPyAwcwheradba43TB\n",
       "y1ok5RZrwr/qGq4b7oerrEXR+Ql3rV0WtWYTKlcG4QKDONWbk8rcMpKq1+BRYK11qjmOtehfUuwd\n",
       "YtbLIFKxd4fOhV75Wt/Sucd+WbZrukNZWcesBjk5hrQJ1WkDqgzi90VooTcQhLENX+ziWAte5ay1\n",
       "4O71bpQdabdYAIcF0VSq9A65G70QVkzKWtfFCdR8nHpoJ3Ha6eTkuEEIgwuhLIu4v7FoiXyDMYwX\n",
       "whDHGgCvjFjHF3oa+nAtQRff4Bf7ZaardMZYzRnRhCSEUkLWE0zUGbgR4MhjRrRN3RepbmnNtYnN\n",
       "0xvSYQgWR01QD7TeZDRWWneaVLhr07vl9pgQrkK4nbGmVqDvFUfeYuwJbOAK92PyBfvAn/3hfTGq\n",
       "KbqlqdxZRIVMqtUqTPTFWo0HviL+vWYTHob4U3a7n4SPOS/GB3D7ur8v2Cbmg15JyaW0P5Ee8VD/\n",
       "hDajuuC32zLb9NOvRtzH/x3+CS3Gf2gVUeoqFWsXAAAAAElFTkSuQmCC\n",
       "\" style=\"display:inline;vertical-align:middle;\" /></a><br>"
      ],
      "text/plain": [
       "<IPython.core.display.HTML object>"
      ]
     },
     "metadata": {},
     "output_type": "display_data"
    }
   ],
   "source": [
    "range_len_sum = Add(ExprRange(k, Add(j_k, Neg(i_k), one), one, n))"
   ]
  },
  {
   "cell_type": "code",
   "execution_count": 13,
   "metadata": {},
   "outputs": [
    {
     "data": {
      "text/html": [
       "<strong id=\"shift_equiv\">shift_equiv:</strong> <a class=\"ProveItLink\" href=\"../__pv_it/common/91af3663a64365849fb14c26250ebe2b2eec85080/common_expr.ipynb\"><img src=\"data:image/png;base64,iVBORw0KGgoAAAANSUhEUgAAAm8AAAAVBAMAAADiPhQ1AAAAMFBMVEX////MzMxUVFRERES6uroi\n",
       "IiIQEBCYmJhmZmYyMjLu7u52dnaqqqqIiIjc3NwAAACW8nlqAAAAAXRSTlMAQObYZgAAAAlwSFlz\n",
       "AAAOxAAADsQBlSsOGwAABdxJREFUWMOVWFtoXEUY/jd7Ozl7SV4qCGJWhV4oheCDD8HGgJCAWJpW\n",
       "V2L1YcHGQKm62hf7IFmFegvqkpeUIro0IPShbCxERBEXMYVa06y+JNgSl2r1KTSBgjSkwbmdM/PP\n",
       "/Ge7+eE7Ozsz//dfZs5cDgC0QEsrfNhCVkZW25IPn/n7sbTacxCV+R1pRHfvPGLRlGvoSlk+RHQ3\n",
       "e5lyqDMnbohnoinRjjzKEK0piG/sSCOidkcRi6ivir9T3wXlFciVzY5mC5bYMbD6uuJ9X2PP7Bzv\n",
       "PgDL7GfZ7WS5MDtOcy3TxAz+E6NO71010hZE1RIRz29QCS1L+FX+L/PISVDllwDOGf1wiynnP9oE\n",
       "3JeQSw/wgbsgLFahmwXDgcVx4SzNhTQ1MUd3xebc+yVpy+FxRTuSXqfaz0l4Ysqkfh6AoAzwttEN\n",
       "t4ipHpRzm1ZfQk4+zb38QP1LVySsWWm7sOWYCrUJYo6e8L0aCQp/1gyNkUgeV7QjXpXQFhEzpMSf\n",
       "w2IQUoGqMSS4hUu2aSYu1Xb4EpvipxT8P6GAPbUMKSXTlNZ2iUuhMpdFM3GhxmIUDyHakWST0uYR\n",
       "M1wRf+bF80owl42Bxi1u4rrbLnIZsfZkq8H/GQUktguZUkTiZihiQf4N0ImbIRM30zZx2pHbvZQ2\n",
       "j5hhipffGt8rVkX2aq+w6kwh7GW1uIkz+rqS3n2UvxYe3xsu/s5XJgW8GGND0F3IflvDpm7+sIY0\n",
       "DWJBPg1XP6YSd8lKnM1DiOHIpKWd37/alBEzyOzfC0Yik2DDna5qHtziJs7s60pPM5zBlRR7ngYJ\n",
       "8IpCCnoChIagXv71nzIylXgdnqopTZuYw/8ve22CStxpHLrLQ4h25DErccOt+KaMmOFlkUq577Ly\n",
       "Q3xBzJb0aRG3uIkz+hIiJ3uSLd25Fl/AL4MEEssFWPq78WALmfqqDGewpibmyG4/G/uCStxlHLrL\n",
       "Q5yPtSOvYW1/ArxRGTHDceGg3HdZuZZivsb0Nmy18JnywriaKSJxsfV2XizJ5XSIWYUlFkkfSCCx\n",
       "XID33wTApj6TZ6E+ipjDm5Cr0Zli8dVi8ahOXB+udXlc0Y7EtrG2tw7JORkxw3G91IoyDy9Rshbh\n",
       "sMWdcYnS/RdaHhuIsR5WcBNnGHrxw15rc3gF/DtYcx4lLnn2XXpzGMa1Lk/UfsYdyZWwdqof6kMy\n",
       "YgbxnsQL4fSc9pm/+hxutRCv6mg7Lx6H4I2SY72ggNY4ywV/K7GBE+ffk2fRBYqYo9443EsmbgHV\n",
       "EjyuaEfihRrirDfFdsEjZjgocikdZGX/ToYtff3cChAtxOag+yKRNuUqEecaeT7WpxSQWC6kN/2t\n",
       "HE7cFnRVrylNm5hjslZvNKnEncKJc3nQbcOKuKc8hxPXgH3ZloiYQWzNt4fkNYa/vP+qHb5eJVpQ\n",
       "4jLbYPT175oF8ZDJUkcWMdZTwekDXcuwoa6qv2GN0UFYqFSkpkPMsQ/qvXNW4n5sGbYWaR7srh1x\n",
       "zzN4MOLN7JgXnoF26aVWlPew3T3JdZPHiBYzmq7dd/eYfcd4oaIKUKzphTbGX+cuPjWfV8DXcWwo\n",
       "3oCVP7Cp89cfPtCrNG1ijich9wl+reDRN6bL2tYizaPdHSMiTltp9w98ffM3GTFDki8O78mWpFoo\n",
       "bonnL+C2uMd5oy/enHggnjodH1GvQH5UAgvlAmVKajrERxDZoqtB12bddzUqYnxzuCXBbrzZwuf4\n",
       "9ivv5PyLjd3i3rzDvvbmxPBTdyO4F3c1Jmvq5uzc0SgXKFNS0yK2PzOMuBp0bcZdl6Mixpf84MPC\n",
       "ICQHgtP/oByRfjEx2WjbLcRxMexryUWG5y4EO1Wrr8H3zr8ULBnswFCoaRFLtNWI5rE2h44jFlHP\n",
       "QnolMD0besP2TJ52q4XYvMO+lvBUvvNp4FK/tzKknCEcmu3AUKhpEUu01YjmsT5RdhyxiDpvMMjy\n",
       "KpXniO/Nq519Ol+TnrUk2pHnIz9sU5qCeG1HGhG1O4qY4X9bujWT7S/D6wAAAABJRU5ErkJggg==\n",
       "\" style=\"display:inline;vertical-align:middle;\" /></a><br>"
      ],
      "text/plain": [
       "<IPython.core.display.HTML object>"
      ]
     },
     "metadata": {},
     "output_type": "display_data"
    }
   ],
   "source": [
    "shift_equiv = Equals([f_i_to_j], \n",
    "                     [ExprRange(i, Function(f, Add(i, a)), k, l)])"
   ]
  },
  {
   "cell_type": "code",
   "execution_count": 14,
   "metadata": {},
   "outputs": [
    {
     "data": {
      "text/html": [
       "<a class=\"ProveItLink\" href=\"../__pv_it/common/ea5004fe07123e83abeeb11e85467f5ad2c49d360/expr.ipynb\"><img src=\"data:image/png;base64,iVBORw0KGgoAAAANSUhEUgAAACQAAAAVBAMAAADcCFGjAAAAMFBMVEX///8AAAAAAAAAAAAAAAAA\n",
       "AAAAAAAAAAAAAAAAAAAAAAAAAAAAAAAAAAAAAAAAAAAv3aB7AAAAD3RSTlMAmYkQqzLvVES73WZ2\n",
       "Is1wFLxSAAAACXBIWXMAAA7EAAAOxAGVKw4bAAAA9ElEQVQY02NggANeOAEHx0EExwEwm1HJAEiy\n",
       "KzAw8AgwnAYLqYQVAEk7IOZSYOADSTOkd4IoaYh2bgGQ9s9gdgLUyGQgZloAYrE/gAq9Bqp0WwJS\n",
       "ywg03QakWQWI+cH28m1gYFBoAzL2AfH9AJAQVwEDa4EckFEGxPVgI9gaGJgZcoCMeCDWggkxsIPs\n",
       "BmmewgDVyMDnAHRgFZCTAxbiBFpi3wC0difQ7z/AQkwOQGN4gdYKAQ34ABZiBTqYZTeQsQLoRgeI\n",
       "q5dCQ20BQwlfAYS9EUIxbmBYaQf1G+cFMHWTgWGPLFSIeQKYmosc0HdABM8FBgA8Qin27XpzDAAA\n",
       "AABJRU5ErkJggg==\n",
       "\" style=\"display:inline;vertical-align:middle;\" /></a>"
      ],
      "text/plain": [
       "f(i)"
      ]
     },
     "metadata": {},
     "output_type": "display_data"
    }
   ],
   "source": [
    "f_i_to_j_dec.first()"
   ]
  },
  {
   "cell_type": "code",
   "execution_count": 15,
   "metadata": {},
   "outputs": [
    {
     "data": {
      "text/html": [
       "<a class=\"ProveItLink\" href=\"../../../__pv_it/common/ae955345c83abf786c3aff8681cd5465beae262d0/expr.ipynb\"><img src=\"data:image/png;base64,iVBORw0KGgoAAAANSUhEUgAAAAcAAAAOBAMAAAARcxsoAAAALVBMVEX////c3NxUVFQyMjKqqqrM\n",
       "zMwQEBC6urqYmJju7u52dnYiIiJmZmaIiIgAAABgwC6IAAAAAXRSTlMAQObYZgAAAAlwSFlzAAAO\n",
       "xAAADsQBlSsOGwAAADpJREFUCNdjYGC4wwAEuxjQAeedBgYGLvYEBoYQHgMGhglsF4CCfhOAhBEn\n",
       "UPY5FwMD6wMJIFejgQEAGf4JG7xeJHMAAAAASUVORK5CYII=\n",
       "\" style=\"display:inline;vertical-align:middle;\" /></a>"
      ],
      "text/plain": [
       "i"
      ]
     },
     "metadata": {},
     "output_type": "display_data"
    }
   ],
   "source": [
    "f_i_to_j_dec.start_index"
   ]
  },
  {
   "cell_type": "code",
   "execution_count": 16,
   "metadata": {},
   "outputs": [
    {
     "data": {
      "text/plain": [
       "{'order': 'decreasing',\n",
       " 'front_expansion': '2',\n",
       " 'back_expansion': '1',\n",
       " 'wrap_positions': '()',\n",
       " 'case_simplify': 'False'}"
      ]
     },
     "metadata": {},
     "output_type": "display_data"
    }
   ],
   "source": [
    "f_i_to_j_dec.get_styles()"
   ]
  },
  {
   "cell_type": "code",
   "execution_count": 17,
   "metadata": {},
   "outputs": [
    {
     "data": {
      "text/html": [
       "<a class=\"ProveItLink\" href=\"../../__pv_it/common/0bddaaf076f4370ef99072b6bd75245122135a110/expr.ipynb\"><img src=\"data:image/png;base64,iVBORw0KGgoAAAANSUhEUgAAANcAAAAVBAMAAAAnc2Y5AAAAMFBMVEX///8yMjLc3NyIiIiYmJgi\n",
       "IiJERES6urqqqqoQEBDMzMxUVFTu7u52dnZmZmYAAAD1zdHuAAAAAXRSTlMAQObYZgAAAAlwSFlz\n",
       "AAAOxAAADsQBlSsOGwAAAplJREFUSMeVlj9oE1Ecx3/JJc3lcrneoJMOhaqrQRwKQogojtqlWrRK\n",
       "0FGHgCB0OwcHqdJABx0csgg6pUOXblcCLg7N0ikIqegotC5dOvj7vb/3Lu8e9cE9fnm/z32/93vv\n",
       "3bsAqFZWXb4tAPzHcL6VbfQSdbXWLO0ldpWXZzNbMujoR4q9P0bZKVzPcjzzHq92TiFYQ7rjdtG6\n",
       "ELyQ9OQrPfoeXtUxlNIMzjJhjNFjU+f74Sn2F91mWhe8WNIfX5HBL05UphmcZSJbAR6Z3XWbGbqC\n",
       "rp2yuC/GPmmaZ+pQZFZPXV45XU43lyn0YzF2TuM887rQrORctJwuoyu7j2jmIlzHEZU8UbTI/MFl\n",
       "a3dsZs1th1dGF0Y3JD3fkr7jdQxuap5nsNRmrW8zq8SuyrQuTOsdQV8d0GA1gSA5xOCtxnlmFeBL\n",
       "FNvM/L7LTOmCtzCfCHqTL18PQtjCYKhxnvkAkNbpKcPzK9QGyiw4cpkpXRTeTAV9oAZ9UljX+IE0\n",
       "Y/BsZTVnZVoX4Lekn4Mst7SNmm80zjM4jXAhtE7jsstM6/IzgdFbbHAOJ2q/h1vnDk0Yx3nmGf4+\n",
       "aVo3SFez2ZZm7iZdKJ8ImgV8Yw7LHbbTYZ/tB5GZ0HRfyr9Ef+W2JjY8ljepX1ldqBwJ2uerHGCR\n",
       "jdsYPKDa19j7yDOf8drJvWeN3eMdxHqSfULBVHYrKRi60KApIDoSb+ZD8fVh6/COndo8Ux0Urcpl\n",
       "UKzR/BRMXbaZkd4oJZlzUh67ND8yYxzNRuNn7Hj2oAJDt5HcEyfy/T1BzPFP6RXqQnoSlXla9Anu\n",
       "KtZsIzB0h8mqoG/9FINhVyt71KnMtwIz/njebKIFhm7U7uliRFtkt1r+WJRbdrNrZ/tbsKjofza0\n",
       "sP+ts+Z8AAAAAElFTkSuQmCC\n",
       "\" style=\"display:inline;vertical-align:middle;\" /></a>"
      ],
      "text/plain": [
       "f(i), f(i - 1), ..., f(j)"
      ]
     },
     "metadata": {},
     "output_type": "display_data"
    }
   ],
   "source": [
    "f_i_to_j_dec"
   ]
  },
  {
   "cell_type": "code",
   "execution_count": 18,
   "metadata": {},
   "outputs": [
    {
     "data": {
      "text/html": [
       "<strong id=\"neg_shift_equiv\">neg_shift_equiv:</strong> <a class=\"ProveItLink\" href=\"../__pv_it/common/6fc1eacade1a2bc0f7d47c5ad0865605106194260/common_expr.ipynb\"><img src=\"data:image/png;base64,iVBORw0KGgoAAAANSUhEUgAAAm8AAAAVBAMAAADiPhQ1AAAAMFBMVEX////MzMxUVFRERES6uroi\n",
       "IiIQEBCYmJhmZmYyMjLu7u52dnaqqqqIiIjc3NwAAACW8nlqAAAAAXRSTlMAQObYZgAAAAlwSFlz\n",
       "AAAOxAAADsQBlSsOGwAABdZJREFUWMOVWF1oHFUUPpv9m8z+ZF8qCGJWhf4gheCDD8HGgJCAWJpU\n",
       "V2L1YcHGQKm62hf7IFmF+hfUJSApRXRpQMhD2ViIiCIuYgq1TbP6kqAlLtXqU2gCBWlIg/dnZu49\n",
       "956Zbg58s3fmnvPdc879XwBog5J28DCF/Bj62ZR88Mzfi6UdzUF8zO/KIly984hFVa6pPsryYUJd\n",
       "19LlcGdOXBfPREsiijysIdpSEF/flUXI111FLKK+Il6nvvPLq5Cr6Ip6DZbYMTB0bXG+r7Nndp6r\n",
       "98MK+1mxlQwXZsdprhWamMF9fMTS3lMn24Kwr0TEC5tUQisSbo2/ZR46CV75RYBzmh6u0eX8h1uA\n",
       "dQm5eB/vuDnRYg26WTAcWCwXztJcyFIRc3RXTc79X5JtWTy2KEfSG1T9OQlHDJnUz/3glwHe0tRw\n",
       "Dc79lqFLyMmnuJfve2/pqoQxKk0XtoNZhZpFloqYo8eeV3/WNYvhUB5blCNOjbAWETOkxMsR0Qkp\n",
       "31TrElxjJy4V2X2JLfFT9t9PeMCeGg15Rnwm4uXoBElcDoytxAUWS2E8hChHki3KmkfMcFm8LIjn\n",
       "ZX8sax2Na+zEdUcuchmx9mRr/vuMBySmC5lySOJmKGJB/g3QiZshEzcTmTjlyK0CZc0jZpji5TfH\n",
       "94tVkU3tVfY5Uwy0jBo7cZquLem9R/m0cPjecOE3vjJ5wIsxbgi6i9lv6zhxN35YR5YasSCfhisf\n",
       "UYm7aCTO5CFEc2TSsM4/utaSETPI7N/1eyKTYN2drikeXGMnTte1pacVjOBqij1PgwQ4JSFFNQCC\n",
       "hqBRufpPBSUu8Ro8WfcsTWIO97/stQkqcadx6DYPIcqRR4zEDbXjWzJihpdEKuW+y8oP8AUxq1Jk\n",
       "1NiJy5ajnJCDPcmW7lybL+CXQAKJ4QIs/928v40S91UFzmBLRcyR3Xkm9gWVuEs4dJuHOB8rR17F\n",
       "1u4EOCMyYobjwkG577JyPcV8jalt2KgB9zMxUgpB4mIbUV4sy+V0kBnCMoukFySQGC7Ae2+ANyif\n",
       "H5eD8lN5FuqliDmcCbkazQnnRlXihMWZUumVUukoyWOLciS2g62dDUjOy4gZjqulVpR5eNqkNGrs\n",
       "EZco33uh5bGB6OshD3bitIZe+KBgbA4vg3sbWy6gxCXPvkNvDkN4zNg8YfsZdyRXxtapPmgMyogZ\n",
       "xDyJF4PhOe0yf9U53KghpupIlBePgT+jZF8vekBrnOGCu53YxIlz78qz6CJFzNFoHimQiVtEoRM8\n",
       "tihH4sU6SlyjJbYLHjHDIZFL6SAru7czbOnr460AUUNsDkoXiWxTrhJxTpLnfX3KAxLDhfSWu53D\n",
       "iduGrto1z9Ik5pisN5otKnGncOJsHnTbMCLuqczjxDXhQLYtImYQW/OtQXmN4ZP3X2+Hb9SIGjyo\n",
       "d0DTde/oBfGQyfKOLKKvp/zTB7qW4Ya6au5mBk/VQ7BYrUpLi5jjADQK8wbrj22trSWaB7trRtzz\n",
       "ND4Ax1vZMSc4A+1RS60o72O7e5LbJo8RNbp07b2zT9cd44WqV4BSXS20MT6du/jQfM4Dvo7jhuJN\n",
       "WP0dJ+78Hw8eLHiWJjHHE5D72BhBD78+XVFtLdE8yt0xIuK0kXb34Nc3fpURMyT54vCurEl6C8VN\n",
       "8fwF7BpbNF28OfFAHO90POpNgfyIBBbKBermIC0t4tGIo8UIdXPQeLCERbxkRXxT3Hizxc/x7Vfe\n",
       "yfk/NmaNLYGuOY8Zfupu+vfiruZk3bs5W3c0ygXqki8tDeLIvxmCtoZpHkPCIh62IuYYgGS/f7Qd\n",
       "kD3SJwYm622zhujTQNeQCwzPzvk7Vbu3yffOvzwYMtBBQ4GlQSwRaRHOY2wOHUcsop6F9Krf9Gzg\n",
       "DdszedqNGmLzDnQN4al8+xPfpT5nddBzhnBotoOGAkuDWCLSIpzHOCV0HLGIOq8xyPIaleeQ/5vX\n",
       "OvvrfF161paIIs+H/rFNWQri9V1ZhHzdVcQM/wN38iINmmvuwQAAAABJRU5ErkJggg==\n",
       "\" style=\"display:inline;vertical-align:middle;\" /></a><br>"
      ],
      "text/plain": [
       "<IPython.core.display.HTML object>"
      ]
     },
     "metadata": {},
     "output_type": "display_data"
    }
   ],
   "source": [
    "neg_shift_equiv = Equals([f_i_to_j_dec], \n",
    "                     [ExprRange(i, Function(f, Add(i, a)), k, l, order='decreasing')])"
   ]
  },
  {
   "cell_type": "code",
   "execution_count": 19,
   "metadata": {},
   "outputs": [
    {
     "data": {
      "text/html": [
       "<strong id=\"shift_equiv_both\">shift_equiv_both:</strong> <a class=\"ProveItLink\" href=\"../__pv_it/common/59e4ad55aa017bdd99ca12ea9d63ce379384130d0/common_expr.ipynb\"><img src=\"data:image/png;base64,iVBORw0KGgoAAAANSUhEUgAAAuUAAAAVBAMAAAATGY39AAAAMFBMVEX////MzMxUVFRERES6uroi\n",
       "IiIQEBCYmJhmZmYyMjLu7u52dnaqqqqIiIjc3NwAAACW8nlqAAAAAXRSTlMAQObYZgAAAAlwSFlz\n",
       "AAAOxAAADsQBlSsOGwAABdJJREFUWMOVmU9oXEUcxyfZ7O7Ly8tuLvUkdFXQliosHjwUDQGhgljS\n",
       "VleK7SGH1oBUXPQSD5JVKAGDuuSiFNEHPeVQNhbWgx5cRIVYNE8v5lDjogRPpRUK0oLF+bPv/X6/\n",
       "md+8t/3BbCazv8935vd782bmvRVCDAUYrhc1D73+tftQGZv2d1gbF+bA2v0NY8wYhvkBzA6gEdex\n",
       "HWfalK/HfyoZW4Wx674vjns0ro8Lc6AX4IMYLwZPXrIArul/179K67ucRhv/B76c/4FYiN/4kbTz\n",
       "Rxp8LVERbcmPiaMentHQAMDhUycsB91CQOiJBfggXBnGstz0/+FhVcKuapp56IIY1c9wUpdQHXwZ\n",
       "//DQ53K407EoUmHs6gNqemzq9HZ9vKuxacHTHdtDt1xie2IBTxCOjGuQm+otDyxLoC9c5Ts1sQJ0\n",
       "EZ8jxAqqgy/2n0rrf8ihVjuFKoxdeFZFuYabXN7VWLPg+sCmdcsK2xMP8EE4Mq6h3HRpXjJYlopu\n",
       "WdTXtILon6gWuubgi/2jBA1XvFaowiygd/WfJZE7CldjyYIXY5vWLQhEzjzAB2HLMAa5KSc0Lxks\n",
       "y7Zu6evPbW+002hGg++2N+cfF6ow96VeVqOuyB2Fo2EABH/p0H2rc3D2AHwQ/eIYIDc352he+iiA\n",
       "dVV/8/whvQHIpWi3TTuqHdmT1EwjkwVf4k9zflUUqLhWffSUupkDtSNe+dXLOxoawPCGuPY+pTd+\n",
       "fxyDyNkD8EFYMoyh3KxaczGDZTEX8z/9KeszU0u0o2PDkrwTq2j2Zb7En+b8bVGk4lo9yeZRp9L2\n",
       "8UbjYkvZKZh4AIf/Rj8vEzq8E/eGuHNw5gE+CEeGMcjNIzTnAMtyVk8jc7CR9QfTtT/taFkE8k6M\n",
       "YJUFX+JPc/6DKFBhzNyNZXXsH6bbmss7GuUBhaN7L0x8RujorqgkGARnHuCDcGSY5yjIzes05wDL\n",
       "ck63mIONrMeVxEyjV800Cm6Jsrz/JuDkA77gH7RaL59vtRrZcA+KAhXGdsw+uSBTLHZiH+9oKADD\n",
       "wbJZSRHdFfUtDIIzD3iCsGVcg9xM3BMkLwDLcg42FV3ficnFrTRFT45rasnagNKcZ/50nh8TBSre\n",
       "/cek8KKXdzQMAHD5k3etLVFersUBBvsk5y7AB+HI+I4BKi+zS3SeAyyLXltKjeye2AhJR71E7wYR\n",
       "PKohX+xPc/69KFBh7Em0VJzx8kYDrecGALg3WJyjtFyoPopx5+DMA3wQjoxrkJtSg85FgGV5Rl9y\n",
       "84Wsh7dnaLQDcTiSi39TraqC+hJ/mvO3RIEKMTM8swKWlE7ttpfXGiTOhMKrcW+Q0GTNyf3AgHZP\n",
       "PMAH4ciQR1crN/X2Fs15BsuiD0Q3F8wjsVpt/iYdlZLodDA6U/W61Jf4Zzn/Zjg6LeWohHdwRX+k\n",
       "edZnsezB2eWDLft+blD4sOjNbRF6sl3qGNDpiQf4ICwZnQ0SDM5N/Xn6TASwLAdgU9H1x+gpLXzi\n",
       "iz9/kfegEiu/Yvli/zTnD7+xIVteEvkqp1WlM6qIVgz7z4S6dyebXr68YOVcAwh+Wsx+QPek8Ih6\n",
       "wteg3RMPeIKgMnr4WQx2bqrr1lkxg2Upq7XsvdEuMed7AtzXnz8K6ov9I/zqs3aiSIVu9yrkYPSw\n",
       "cRLuUY7fd+iTFuyJYZ/tKQfggwAZanZu2LyMAqh2RNT4dPSA1vG9XTLvkdS7T+yL/afIu9J2voq9\n",
       "PMjy7fQgfZE1OViNvfyaQ68Q2PuGbI3pKRfgg8hkLLNzw+YlDWBelI+mz1bzvrO+vtdDecmor8//\n",
       "rwIVy67I8uJmuicODw7Oevla0z0sDDEsckOwesoD+CBAxtpDndzkBXBZVHfTji/7zkDmFyV1CYmv\n",
       "z3++QMUydRXe+TAdfTPYXfDyTI7CJoZFbghWT3kAHwTIWL+nOLnJC6CGBGr8j2pij7toidd/dji2\n",
       "CmM3fF/seTRujAtzoBfggxgvBk9eRgH8D6ryqhGc721VAAAAAElFTkSuQmCC\n",
       "\" style=\"display:inline;vertical-align:middle;\" /></a><br>"
      ],
      "text/plain": [
       "<IPython.core.display.HTML object>"
      ]
     },
     "metadata": {},
     "output_type": "display_data"
    }
   ],
   "source": [
    "shift_equiv_both = Equals([ExprRange(k, Function(f, Add(k, a)), i, j)], \n",
    "                          [ExprRange(i, Function(f, Add(i, b)), k, l)])"
   ]
  },
  {
   "cell_type": "code",
   "execution_count": 20,
   "metadata": {},
   "outputs": [
    {
     "data": {
      "text/html": [
       "<strong id=\"neg_shift_equiv_both\">neg_shift_equiv_both:</strong> <a class=\"ProveItLink\" href=\"../__pv_it/common/48db1a129453ea9c4f747321fb2665604f1558fc0/common_expr.ipynb\"><img src=\"data:image/png;base64,iVBORw0KGgoAAAANSUhEUgAAAuUAAAAVBAMAAAATGY39AAAAMFBMVEX////MzMxUVFRERES6uroi\n",
       "IiIQEBCYmJhmZmYyMjLu7u52dnaqqqqIiIjc3NwAAACW8nlqAAAAAXRSTlMAQObYZgAAAAlwSFlz\n",
       "AAAOxAAADsQBlSsOGwAABdtJREFUWMOVmU9oXEUcx3/JZndfXjabvdST0FVBW6qwePBQNASECmJJ\n",
       "Ul0ptoccWgtScdFLPEhWoQQMagiIUkQf9JRD2VhYD3pwERVi0axezKHGpRI8lVYoSAsW58++N7/f\n",
       "zG/mbX8wm8nb3+c78/vNvJl5bwFgAMZwPe/ywOtfvQ+VkWl/g9VRYQ6s3l83RoxhEA5gumcu4jq2\n",
       "48w16evxn+iPrMLYNd8Xxz0a10aFOdAL8EGMFoMnL1kAV9W/a1+n9V1Oo4X/M76c/4EE4He+J61w\n",
       "T6NvBAqVLfExdtTDMxoKMHD81ILloK4Q0LTEAnwQrgxjWW66//CwLPG6vDT10HkY1k9xUhdR3fgy\n",
       "/vGhL0R3JxPIU2HsygNyemyq9K77eFdj04In27aHunKRbYkFPEE4Mq6Z3JRveWBRIjVwpe/lxIrQ\n",
       "ID5HiGVUN74RN+h/iq6W27kqjJ1/Vka5ii+5vKuxasEzPZtWV5bZligQDsKRcQ3lZjhrJloWLEpJ\n",
       "XZlXY1pC9M9UC4258S2BJ+fwWq4Ks4DeVX+WINgLV2PJgucTm1ZXEIicKRAOwpZhzOSmONwOKn0L\n",
       "FmVbXemqz21vtJNoRhvfbW/OP8lVYe5LtaxW1iHYC0dDAwj+yqG7VuPG2QLCQXTzYzC5uVmjOe+i\n",
       "ANZk/c2zh9QGIJai3RZtqHpkT1BT9UzW+BJ/2t0rkKPiWvnRE/JmjuSOePk3L+9oKADDG3D1fUpv\n",
       "/PE4BpGzBYSDsGQYQ7lZAZrzDBZFD+Z/6lPUpyaWaEPHBgVxJ5bR7Mt8iT/t7tuQp+LaTD+bR+1S\n",
       "y8drjQtNaSfMxDNw/G/ll3OEju8knQFu3DhbQDAIR4Yxk5tHaM4NLMppNY30wUbUH0zX/rShcxCJ\n",
       "O7FiMmt8iT/t7o+Qo8KYvhuL8tg/SLc1l3c0ij0KV+69MPY5oSt3odTHoHG2gGAQjgzzHGVy8zrN\n",
       "uYFFOaOu6IONqCelvp5Gr+ppFN2Corj/xszJx/ga//hjNe9qWXcPQo4KYzt6n5wTcrCT+HhHQwIY\n",
       "js7plRTR6zCzhUHjjIFNFcMieIOwZVwzuRm7p9a9ZvPls81mHcOinDGbiqrvJGRwSw3oiH6hFQT5\n",
       "Yn86RY5Bjop3/9EpvODlHQ0NGLj46bvWHiqGa76HwS7JOQKCQTgyvmOAzMv0Ep3nBhZFrS2FenZP\n",
       "bMSkoU5f7QYV86iGfLE/7e4PkKPC2JNoqTjl5bUGWs81YOBOb75GabFQfZTgxo2zBQSDcGRcM7kp\n",
       "1BOScwOL8owacv2FqMe3p2i0PThcEYt/Q64gQH2JP+3uW5CjQkx3T6+ABSlfve3llQaJs0/hlaTT\n",
       "69Nk1cR+oEG7JQsIBuHIkEdXKzczrS2a8wwWRR2Ibs7pR2K52vxNGir0Kyej4Zmqs059iX9m3w6G\n",
       "p6WASnwHV9RHmmd1FssenF0+2rLv5zqFD0OntkXo8VahrUGnJQsIBmHJqGyQYHBuZp6nz0QGFuWA\n",
       "2VRU/TF6Souf+PL6r+IelGLFVyxf7J/aw29siCsvQVjlpKy0hxVoJmb/GZP37njDyxfnrPQoAMFP\n",
       "w/QHdE+Kj8gnfAXaLVlAOAgqo7qfxWDnprxmnRUzWJSiXMveG+4SNd8T4L76/Amob7HmOzMt5KnQ\n",
       "7V6GHA0fNhbNPcrx+w69aMGeGPbZlhYDB7+FsAw1OzdgPRPhAMptqNQ/Gz6gtX1vl/R7JPnuE/uW\n",
       "2763sq2wir08iPLdZC99kTXeW0m8/KpDLxPY+4ZslWkp+MqKDyKTsczOTfZup8UEMAvFo+lzzaxv\n",
       "yNW9Hosho74+/79yVCy7LMqLm+meODjYO+3lqw33sDDAMARDsFoKAXwQRsbaQ53chAK4BOXdtOFL\n",
       "vjOQ/kVJDiHx9fnP5qhYJkfhnQ/T3jei3Tkvz+QobmAYgiFYLYUAPggjY/2e4uQmFEAVCVT5H9Vg\n",
       "jxu0vtd/ejCyCmM3fF/seTRujApzoBfggxgtBk9ehgH8D9SclovKaj50AAAAAElFTkSuQmCC\n",
       "\" style=\"display:inline;vertical-align:middle;\" /></a><br>"
      ],
      "text/plain": [
       "<IPython.core.display.HTML object>"
      ]
     },
     "metadata": {},
     "output_type": "display_data"
    }
   ],
   "source": [
    "neg_shift_equiv_both = Equals([ExprRange(k, Function(f, Add(k, a)), i, j, order='decreasing')], \n",
    "                          [ExprRange(i, Function(f, Add(i, b)), k, l, order='decreasing')])"
   ]
  },
  {
   "cell_type": "code",
   "execution_count": 21,
   "metadata": {},
   "outputs": [
    {
     "name": "stdout",
     "output_type": "stream",
     "text": [
      "These common expressions may now be imported from the theory package: proveit.core_expr_types.tuples\n"
     ]
    }
   ],
   "source": [
    "%end common"
   ]
  }
 ],
 "metadata": {
  "kernelspec": {
   "display_name": "Python 3",
   "language": "python",
   "name": "python3"
  },
  "language_info": {
   "codemirror_mode": {
    "name": "ipython",
    "version": 3
   },
   "file_extension": ".py",
   "mimetype": "text/x-python",
   "name": "python",
   "nbconvert_exporter": "python",
   "pygments_lexer": "ipython3",
   "version": "3.7.3"
  }
 },
 "nbformat": 4,
 "nbformat_minor": 1
}
