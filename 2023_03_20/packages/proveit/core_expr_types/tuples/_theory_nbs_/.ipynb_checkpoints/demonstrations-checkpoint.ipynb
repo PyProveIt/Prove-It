{
 "cells": [
  {
   "cell_type": "markdown",
   "metadata": {},
   "source": [
    "Demonstrations for the theory of <a class=\"ProveItLink\" href=\"theory.ipynb\">proveit.core_expr_types.tuples</a>\n",
    "========"
   ]
  },
  {
   "cell_type": "code",
   "execution_count": 1,
   "metadata": {},
   "outputs": [],
   "source": [
    "import proveit\n",
    "from proveit import (Lambda, ExprTuple, ExprRange, IndexedVar, safe_dummy_var,\n",
    "                     defaults, Function, ProofFailure)\n",
    "from proveit import A, a, b, f, g, i, j, k, l, m, n, x, y\n",
    "from proveit.logic import Equals, NotEquals, Not, EvaluationError, InSet\n",
    "from proveit.linear_algebra import TensorProd\n",
    "from proveit.numbers import (zero, one, two, three, four, e as e_nat, Add, Exp,\n",
    "                             Integer, Mult, Natural, NaturalPos, Neg, num, subtract)\n",
    "from proveit.core_expr_types import Len\n",
    "from proveit.core_expr_types import (\n",
    "        a_i_to_j, x_1_to_n, y_1_to_n, f_i_to_j, f_i_to_jp1)\n",
    "from proveit.core_expr_types.tuples import (\n",
    "        len_of_ranges_with_repeated_indices_from_1, range_from1_len,\n",
    "        len_of_ranges_with_repeated_indices_from_1, len_of_ranges_with_repeated_indices,\n",
    "        len_of_empty_range_of_ranges)\n",
    "from proveit.core_expr_types.tuples import general_range_of_ranges\n",
    "%begin demonstrations"
   ]
  },
  {
   "cell_type": "markdown",
   "metadata": {},
   "source": [
    "### Proving the equality of ExprTuples"
   ]
  },
  {
   "cell_type": "code",
   "execution_count": 2,
   "metadata": {},
   "outputs": [
    {
     "data": {
      "text/html": [
       "<span style=\"font-size:20px;\"> <a class=\"ProveItLink\" href=\"../__pv_it/demonstrations/1480442cf25c0eea590f9688329f9d97e9e8a78e0/proof.ipynb\" style=\"text-decoration: none\">&nbsp;&#x22A2;&nbsp;&nbsp;</a><a class=\"ProveItLink\" href=\"../__pv_it/demonstrations/2c164013cd0a62e94f3035385ad45d6e8f7d2c7e0/expr.ipynb\"><img src=\"data:image/png;base64,iVBORw0KGgoAAAANSUhEUgAAAMUAAAAVBAMAAAAEKDfsAAAAMFBMVEX///8AAAAAAAAAAAAAAAAA\n",
       "AAAAAAAAAAAAAAAAAAAAAAAAAAAAAAAAAAAAAAAAAAAv3aB7AAAAD3RSTlMAInZUiRDNmWbv3US7\n",
       "qzJazP2FAAAACXBIWXMAAA7EAAAOxAGVKw4bAAACS0lEQVRIx42VQWgTQRSG/2QzbrKbhNCjUJhW\n",
       "wVMlglbwYqmgJ2URbBEakkvRYxARiUijHjx2rRdRDwVbCgUlePPUtJceiihBpQcPET15Sq16EYJv\n",
       "dmeT7mw2nYHA5N//mzfz5s0MgAI02iBTQhtMFnWsbwdox7TB0weVuecx1mQ9IhlTuiCrhKQbcfOZ\n",
       "jygz2qAZnuB+nPVxRLmrDWZCgv0nzppxVMXVBidDQmo5znpE3RCjog3eFkX4aYxLoTXhlxkb//zj\n",
       "gt87UUeJBvmosKbY8tHpEQ3wJv17V8jKpZbn2Z4/AiZ4zZ+h4WIRSHvTrq2L9jpYmP0EH5zDwVcU\n",
       "8BlMudTzDpa8zgMsOrte7zt9+0qpcZV1WDTv63XUNMAXFLoDS9b6HeC312mLrtecDBd4vqPuZQNY\n",
       "AFY0QIqRaaLc8PUV2EERLgWDbTj5LqXFHRDjJdg/DZByVeYib7LKTbkz9h6uBVNM0vjGsrIflCv2\n",
       "C+mOBrhFMYr4YhSYkLsixbSLbCfnYgqe9h5Zqql0U1lHloPtI1c5JfzDwcvCbayZKIvC2cU22F8K\n",
       "3p117aKv3cdGXZZq6EQQv4Vz1arwDwd/UuzWldGTsFZJLl0idd0Bu8XPPoLUphfogrYaSow8Ja90\n",
       "/FurLfzDQasdQGd6J7h/bfjaRfodjRzgNxF/HJiuBnIvGan+OKSlKuxp5AYM3ZKpQ8FNqTIefL/a\n",
       "cwrN4jkCEs1IjGxB9ceCc8Fj0jPw/gMjEvDw3sEB+401VX8smOA6T+bYAG1EE/wP4cm4jGtTCCIA\n",
       "AAAASUVORK5CYII=\n",
       "\" style=\"display:inline;vertical-align:middle;\" /></a></span>"
      ],
      "text/plain": [
       "|- (a, b, x, y) = (a, b, x, y)"
      ]
     },
     "metadata": {},
     "output_type": "display_data"
    }
   ],
   "source": [
    "Equals(ExprTuple(a, b, x, y), ExprTuple(a, b, x, y)).prove()"
   ]
  },
  {
   "cell_type": "code",
   "execution_count": 3,
   "metadata": {},
   "outputs": [
    {
     "data": {
      "text/html": [
       "<span style=\"font-size:20px;\"> <a class=\"ProveItLink\" href=\"../__pv_it/demonstrations/752d01c869d0b35afaa4e9750e249e98ba083b4f0/proof.ipynb\" style=\"text-decoration: none\">&nbsp;&#x22A2;&nbsp;&nbsp;</a><a class=\"ProveItLink\" href=\"../__pv_it/demonstrations/9a14cb59695ddf5d2669e50c12c720d5149b9fa90/expr.ipynb\"><img src=\"data:image/png;base64,iVBORw0KGgoAAAANSUhEUgAAAJ4AAAAVCAMAAACALKdSAAAAPFBMVEX///8AAAAAAAAAAAAAAAAA\n",
       "AAAAAAAAAAAAAAAAAAAAAAAAAAAAAAAAAAAAAAAAAAAAAAAAAAAAAAAAAAAo1xBWAAAAE3RSTlMA\n",
       "InZUiRDNmWbv3US7qzLn9enz+YF6hwAAAAlwSFlzAAAOxAAADsQBlSsOGwAAAidJREFUSMetV1my\n",
       "4yAMBIHMzpsZ7n/XYX02NsRQFX8k5Q60pJYECiHxoeRLD/3iwt8lwL7lnoHJDwK71xWLjYvxyQK0\n",
       "Sm/6B3IIe9u9Ti0OuPCYrzjErn4HjlDru7CPDS4h5wvCdtrlKCDv+kzLDS71If0Bt8tPDbbYvhPU\n",
       "Bhf7oDTX+91xPKUxvXjs2OASrUyp40D7zjscgOvyixFAzznrsJwtLE5w97TSi9csLnG1aI2KJLbL\n",
       "JoZYnBiu5LEawAERV1k5YSldMpSCObUROj8/f9Kne+i7xKWL86hkJuyykJ1VF0UlTVuRuEsGPSvb\n",
       "XDk8mHoRr1lc41KmhJL91d2BJLIQ4YL5X/SicY2ghuHDvfLuvVwtrnHVxcrmbJouTJ6793a4KBg2\n",
       "uA++FsmLeM3iGleRGgOcKe9OPXE7XEyqRcSHylDdYrqvvb//SgW6e3LXuCwU99IedxBGs8TFPd9q\n",
       "EtstZ4hTuYJPMDaUax8pRPt2jVSLa1z1IEh7mBapnWLDll9T0VpBToQFjyJSGnYBY8QuCSH7Y6O1\n",
       "1/MWKRYXuXxJBjrgnjpISdcaK8br/VMRFADRoGRXMK8D0c4fbd7u4GJxlUv7BwHDd+QG8ho+1e+z\n",
       "ycDinGtwifMF5AQTGyo2vO6HA8xobJhz2Xvn46PdcTRmNlDHb1fpad8YcjzYPSx+4kJ7nwOfk+Fw\n",
       "XGx5kSDM2LDGyZy7w0XhW8M83GTxs/8RsMj1H6yQEuHv1uI8AAAAAElFTkSuQmCC\n",
       "\" style=\"display:inline;vertical-align:middle;\" /></a></span>"
      ],
      "text/plain": [
       "|- (a, b, x, y) != (x, y)"
      ]
     },
     "metadata": {},
     "output_type": "display_data"
    }
   ],
   "source": [
    "ExprTuple(a, b, x, y).deduce_equal_or_not(ExprTuple(x, y))"
   ]
  },
  {
   "cell_type": "code",
   "execution_count": 4,
   "metadata": {},
   "outputs": [
    {
     "data": {
      "text/html": [
       "<span style=\"font-size:20px;\"><a class=\"ProveItLink\" href=\"../__pv_it/demonstrations/cac2bd3ca6b20070ff8a5499aa5853c756b3a91d0/expr.ipynb\"><img src=\"data:image/png;base64,iVBORw0KGgoAAAANSUhEUgAAADIAAAAUCAMAAAD4FJ6oAAAAPFBMVEX///8AAAAAAAAAAAAAAAAA\n",
       "AAAAAAAAAAAAAAAAAAAAAAAAAAAAAAAAAAAAAAAAAAAAAAAAAAAAAAAAAAAo1xBWAAAAE3RSTlMA\n",
       "IquJdkTvuxBmmd1UzTLn9enzF+Xi+wAAAAlwSFlzAAAOxAAADsQBlSsOGwAAAMtJREFUKM+Vk9kS\n",
       "wyAIRREx4trF///XQpxpk3RqBx4So3JPLiLAKjKDMXq0ZkDsZgjaIc6aERYQh54cfU23M4SJkLv3\n",
       "VdU2WYvjXc9c9rjd9fkhZQBCklXJ3tK+7w8kyWcSXZTdeehM8Vcn+VI+1W1zvOl58QhryNw6DfPQ\n",
       "dxqHLlEPj+d0dKxaGCLDLClaAmxQT7Lt0l0cA+AmAzUQhVJLhtO/14sTqKNzlpSgAEby3SH1FQQ4\n",
       "E4lQqr8Ot3pzdzXzPUl2SDFDYH2zXs8pBbM7bWFSAAAAAElFTkSuQmCC\n",
       "\" style=\"display:inline;vertical-align:middle;\" /></a> <a class=\"ProveItLink\" href=\"../__pv_it/demonstrations/3bfb9a601c3dcd4a8bb6396f35b57d85ee2ada760/proof.ipynb\" style=\"text-decoration: none\">&nbsp;&#x22A2;&nbsp;&nbsp;</a><a class=\"ProveItLink\" href=\"../__pv_it/demonstrations/a7bab7f77b9ce07a59d83e616555a510509b4cbe0/expr.ipynb\"><img src=\"data:image/png;base64,iVBORw0KGgoAAAANSUhEUgAAAMUAAAAVCAMAAADB2NrtAAAAPFBMVEX///8AAAAAAAAAAAAAAAAA\n",
       "AAAAAAAAAAAAAAAAAAAAAAAAAAAAAAAAAAAAAAAAAAAAAAAAAAAAAAAAAAAo1xBWAAAAE3RSTlMA\n",
       "InZUiRDNmWbv3US7qzLn9enz+YF6hwAAAAlwSFlzAAAOxAAADsQBlSsOGwAAAkFJREFUWMOtl1mW\n",
       "pCAQRZlCZqq72f9em7EUDdOSwg/zGInvQkwCIemiZNFFlw/8uRLjqyQtu/lDwvC4jviN5OJmADht\n",
       "XmoyhZqDGx5vifNI2O5HbPKtazbArC4MU93IcqRU9wPi68grbBLBj+n1gTiL1B9yLsLrPNXIK24s\n",
       "Zk2WI/mH8Arzvtq2q6PtGIpPxFmk7JVGvWB07DGbZ8wPEYZkgCAEH2wlRaDOVfgrZQxFJ2Jas8ju\n",
       "O6sTyw3xhJgKB+JxDikFmWdEHj0mCM85omLN0t3T0pTr60+++0u0MK1ZpKlrBK0Kdwh9WZM+xEfR\n",
       "/CoQf0ibwOtrvnZTrh9C0YmY1jRS27risiwzNHJZ3BoPtvBtPbivURs6xHNVnLtWI2Ja08imqV2J\n",
       "px2cJkrTOLU+zdC+EmJomfkQik5EtWaRNb4Q2Z5nQ+uWp9Znc9ICXBzI2uy5Gevi779aHf6cUajW\n",
       "LNKxuor8ut8IpyVgVTL0eoG+P7DE61JduzH1BN9v2RPu6WPeiKjWLLJ1xizNjcwdIfWJ+m8uKCfJ\n",
       "buExgEySlh+MyTE++0uNfbSX6/VbXom41iwy1AwAz0SgnuVMMwaaTbTNQrOAZCzNS/GjsYxjsndH\n",
       "Y5/2VZWIa00jTbhwODxbTkbRvETN8+4VIf4aiezfxA8suzGrgeboTg/d4mI7xl8j3bkVwqWxAXb6\n",
       "6UaTfn2Tp2NtK/wgcSEuQII7nzuuJxH0eNKjrJi0+PwM3JyFyHokZauOj+zk5HB3WF5GrMj/BcUX\n",
       "HC/1HMsAAAAASUVORK5CYII=\n",
       "\" style=\"display:inline;vertical-align:middle;\" /></a></span>"
      ],
      "text/plain": [
       "{a != x} |- (a, b, x, y) != (x, b, x, y)"
      ]
     },
     "metadata": {},
     "output_type": "display_data"
    }
   ],
   "source": [
    "ExprTuple(a, b, x, y).deduce_equal_or_not(\n",
    "    ExprTuple(x, b, x, y), assumptions=[NotEquals(a, x)])"
   ]
  },
  {
   "cell_type": "code",
   "execution_count": 5,
   "metadata": {},
   "outputs": [
    {
     "data": {
      "text/html": [
       "<strong id=\"defaults.assumptions\">defaults.assumptions:</strong> <a class=\"ProveItLink\" href=\"../__pv_it/demonstrations/aeeb89774b5bbb442a5379552cb8d33d88ef64410/expr.ipynb\"><img src=\"data:image/png;base64,iVBORw0KGgoAAAANSUhEUgAAAFAAAAAZBAMAAABUaLQ6AAAAMFBMVEX///8AAAAAAAAAAAAAAAAA\n",
       "AAAAAAAAAAAAAAAAAAAAAAAAAAAAAAAAAAAAAAAAAAAv3aB7AAAAD3RSTlMAZkRUmRDNuyLviTJ2\n",
       "3asqG0tJAAAACXBIWXMAAA7EAAAOxAGVKw4bAAABh0lEQVQ4y42TP0jDQBTGv6ZJG5u2FldFgoOD\n",
       "i90c20VcM6mLbUBcJSoYRIVsjmZ20lFw6CCCk11EVCwZLLgEKqJ2UNBC0eLi3bXJpRLbPsi7f7/7\n",
       "8u7ePQAj6GUidXnqovmeYJy6Perm0R+MlIlbC1te+trUcNxSOyCqgGyHCm0INUgfniIqJNjDUPDd\n",
       "OgJszJlbppkBihqG1VDwyYhZcHzFWAYXWhdw5bo6betjsh4ARQN3XdzkZadTT5duAmDSxgsgVBZP\n",
       "dthYXvF21GHEVQ4KTZhAIv6GosVCsTh4KlUdLzNQfrAKTKQM7JcYCA5GsjP85uQG7gGtqCLHznTu\n",
       "EjPaIJ7THJQaVBE50FCJLQQUUZAcrsh+TalPiY5TQVApG/5Q+cYraQ4QbSbYLZS9lW3y3XKQnPqa\n",
       "6Sb1UTax7K3Qjqj7YMTGtAbBgfSYZROF9XaizlpETeKgWMNQd66ndl09JPUk1/+8nj9GXo9iDwKO\n",
       "0wc1CPjQv2bg10x0gCBZFfapa2azwC8+i2H5tyAe0AAAAABJRU5ErkJggg==\n",
       "\" style=\"display:inline;vertical-align:middle;\" /></a><br>"
      ],
      "text/plain": [
       "<IPython.core.display.HTML object>"
      ]
     },
     "metadata": {},
     "output_type": "display_data"
    }
   ],
   "source": [
    "defaults.assumptions = [InSet(n, NaturalPos)]"
   ]
  },
  {
   "cell_type": "code",
   "execution_count": 6,
   "metadata": {},
   "outputs": [
    {
     "data": {
      "text/html": [
       "<strong id=\"partitioned\">partitioned:</strong> <span style=\"font-size:20px;\"><a class=\"ProveItLink\" href=\"../../../numbers/number_sets/natural_numbers/__pv_it/theorems/132c57ec1224a4beaf274a23bd799047020206590/expr.ipynb\"><img src=\"data:image/png;base64,iVBORw0KGgoAAAANSUhEUgAAAEEAAAATBAMAAAA9n32KAAAAMFBMVEX///9mZmYQEBCYmJgyMjKq\n",
       "qqrMzMwiIiJERER2dnbc3Nzu7u5UVFSIiIi6uroAAAA6K1lcAAAAAXRSTlMAQObYZgAAAAlwSFlz\n",
       "AAAOxAAADsQBlSsOGwAAAPlJREFUKM9jYMAHGBkIAQ6yVWz/0bKBYdKnB3jMaOU7wMD9AZ8txxdM\n",
       "ZmBQYJDoaOroMMCq4mgDywKGAmxm3CgvdwDRp2y5HLCqeHIbyjjFk3AToYLvzq65vWBxLm+Y0lMM\n",
       "DRwP4Co4Oc4y7F8AYrEsQKhI5K4ugIXpO/YGhvUJYBUMCBXMAREKMN6G/Q8Y4jeAWEnlQNAAUcFw\n",
       "mgeugiGegeEImLEDyQyGPdwFcC5Q+jM3iMGOrILtQgOcq8nA+psTxOC9ABNqA+JrcBVc3xh4HczA\n",
       "TFeYGIjB6ADj8RUwcB8OADP39IFdzJDyCaif2wFbfLxsL8cUBwB3/0NP0Yie0QAAAABJRU5ErkJg\n",
       "gg==\n",
       "\" style=\"display:inline;vertical-align:middle;\" /></a> <a class=\"ProveItLink\" href=\"../__pv_it/demonstrations/70ba83567320a774c2582d4ce1b40cd3a56b8f7b0/proof.ipynb\" style=\"text-decoration: none\">&nbsp;&#x22A2;&nbsp;&nbsp;</a><a class=\"ProveItLink\" href=\"../__pv_it/demonstrations/cc452778dd2d4e0a885daf544c59d97d989c20270/expr.ipynb\"><img src=\"data:image/png;base64,iVBORw0KGgoAAAANSUhEUgAAAKMAAAAuBAMAAAC2bLS1AAAAMFBMVEX///8AAAAAAAAAAAAAAAAA\n",
       "AAAAAAAAAAAAAAAAAAAAAAAAAAAAAAAAAAAAAAAAAAAv3aB7AAAAD3RSTlMAInZUiRDNmWbv3US7\n",
       "qzJazP2FAAAACXBIWXMAAA7EAAAOxAGVKw4bAAAChUlEQVRIx+2WMWgUQRSG/727cW/vzOUsgmLj\n",
       "ekiCRSBIjJ0RDBaCsAQkKYKmESwPMXpJtWIhVh62QhBCUALKoVUqY8BKkBgUtFAOiU2KGEEtE9/s\n",
       "3s3tzWyyc8zZ+WB35715++/MvGH2A1CEicW9nRoyknwRExs2UkTKV0Js2kwS15SI7RtK3lMijqEi\n",
       "HE+OjJhKHlCmeZOu8cErY5G6S26MRTMya3LvdbrKqXX7cSskuTEWzcgG9Z1b4vYsiCxQsJj93eNj\n",
       "slH70GVjX7y9FBsvhJauyt2PgAJsUiuUGt8NXRt7jzTMaDrbMZJUNZd/Tkhwt7dm7exTZlc088oo\n",
       "F/jtVZF5EUnuZr39JIOMyrcBMZLoWq4CU7XPyIR9DMJFhnx1OVsZk8u+Q4dGdkVOuQSMfp/Fy1Dy\n",
       "6rRwsemB/UEYE41IRl8/eumT9jlZchOYKKUrQ6FkblG41hvqXaJ3cmVqPEGjEclYxzIP1GTJXL3Z\n",
       "ChbltOg4jEMUU2feypjH7QJwVN1j5TZJMQvr3dYMgjWVrJWxjedngYqa8rqZceGXCyY2h7O7Sxtu\n",
       "XC2PyMiv4YQPa0WVnGo7UKVOVz1yJf9gzJ/Cco0OouP4b//Uil0XM0SDOFIY7uqUOSkYo4FKCsZo\n",
       "oJKC0+ViEymMdFmSSCEZDVjp48b5TkghGQ1sDLpznZBCMhrcwQPvE46c+qpLCsloUMctun/ASV1S\n",
       "0EGDh3Rt4aIuKWigQf4nLtPjqS4pJKIBe9tT5f+wfleXFBLRIL0zUc3TFmGrEikITyaFRDRgN9wz\n",
       "d/mAftTbSSHEhRhS0EQDNo9jviYp6KLBIu57uqSgiQYbpffapNAJGmiSgiEaqKTwFwWL6JdiXtYW\n",
       "AAAAAElFTkSuQmCC\n",
       "\" style=\"display:inline;vertical-align:middle;\" /></a></span><br>"
      ],
      "text/plain": [
       "<IPython.core.display.HTML object>"
      ]
     },
     "metadata": {},
     "output_type": "display_data"
    }
   ],
   "source": [
    "partitioned = x_1_to_n.partition(one, assumptions=[InSet(n, NaturalPos)])"
   ]
  },
  {
   "cell_type": "code",
   "execution_count": 7,
   "metadata": {},
   "outputs": [
    {
     "data": {
      "text/html": [
       "<strong id=\"eq\">eq:</strong> <a class=\"ProveItLink\" href=\"../__pv_it/demonstrations/785d9fbdb5938f9d86bfbd9cc05045c3ac530bbf0/expr.ipynb\"><img src=\"data:image/png;base64,iVBORw0KGgoAAAANSUhEUgAAAXAAAAAVBAMAAACteahRAAAAMFBMVEX///8AAAAAAAAAAAAAAAAA\n",
       "AAAAAAAAAAAAAAAAAAAAAAAAAAAAAAAAAAAAAAAAAAAv3aB7AAAAD3RSTlMAInZUiRDNmWbv3US7\n",
       "qzJazP2FAAAACXBIWXMAAA7EAAAOxAGVKw4bAAADXUlEQVRIx7VXX0gUQRj/7d1Ne386u56KENzu\n",
       "IetBOMIse0lKJARhkcICrXsJejyixIzoKkqiyMsIgqCkkMJepJ56CE3oKQwLhYKKA43AB/9ARhB4\n",
       "ffvnZmdnV72H9YObm9/MfL/ft/PNzM4CSCEYS1XYFoApRhHKBMT2ytsUGLdkCY2K+qDYQnlPUz02\n",
       "yHYDLBsY2xm5IUBuyTbpUPOBsfXJDQFySxbNIRYcW0yXG7Bh9gANAeZPnuCGjQv8LM5T2V53qlnY\n",
       "/xL0GktPzx4RcW0eXUBkUhrnwy25ykzra7X3gJFOG4UO5EKf1UGnT4JeU1Gn9Qo4Ei6gnxaesRfV\n",
       "YdMmrWnxkEmuMtP6Wk2NiC4CN/GMBFPR5WQeJ+wzwIKs+bu+GtlV9OtfBDxDoX0DKHy3eblt12Nt\n",
       "0yLcvvcHKtSqyvQiOQY04hEBqMRblbYnxoIqVp/1IrpdWI9pGCDHRWmcl9t2zaFXhFPYgwq1GAmR\n",
       "GhYMcphVhHmgBtwyoqysnsABNxzVq2hwouAN3MNtuv5DTVGA82hFpVqJZSyQ7xsjnSScYrpAbsCo\n",
       "vkbgiSUcR9/ddM7G3QgV7OjENe7Hbbre4IGbEHiBSrUogUZ6DmIc6Bz5ioily8AhIoMmlIwWPvuQ\n",
       "LKCJ3X6IeyYGJrCZIo2OSWPd3I4r1VtdcJdmE7kPFPhokdAE/d2hcwWHfl7Ea4v8dJZDzOkmZH9g\n",
       "F2UUXukoJDJKexbLVgcuY5TOcLVJUnZzO6606IdckI37yJgVj5Y6mfhrnrRzQEc63JOxyONDHCrv\n",
       "LYjnsIu4ka1hHeyctv86kNSMRT1sTEPX4St0gY2PSIG7uQVXVOsuaCxbk4jLmBVS92ixqdol6nuJ\n",
       "eHmXWOT7uOo2bBUhH8VTGiuquWIZt9BvhzxW4nZclZySciB7jJq80MvNURe1IpQIZdC4rojkPNvK\n",
       "x/kLAnReNrxWg/hM0doNWXaf/np8rkIit+NaPf9LF+AQbonQedn4aLXgZMa6vr0rR9ryWwPT+DOW\n",
       "SosCdF65vPYWoaMWjmtJ0lDGPINd3ILrk1JJhLPpTyLkm1Pz0XpKpz49uXGIuD4GpG8D7yxoPjh8\n",
       "7ZKx373faZ1rua4N/dSNIQdqR+wZUbSALmw7fb4Ng+KWHymF/6b5F4wmDAsmAAAAAElFTkSuQmCC\n",
       "\" style=\"display:inline;vertical-align:middle;\" /></a><br>"
      ],
      "text/plain": [
       "<IPython.core.display.HTML object>"
      ]
     },
     "metadata": {},
     "output_type": "display_data"
    }
   ],
   "source": [
    "eq = Equals(ExprTuple(*partitioned.lhs.entries, y), \n",
    "            ExprTuple(*partitioned.rhs.entries, y))"
   ]
  },
  {
   "cell_type": "code",
   "execution_count": 8,
   "metadata": {},
   "outputs": [
    {
     "data": {
      "text/html": [
       "<span style=\"font-size:20px;\"><a class=\"ProveItLink\" href=\"../../../numbers/number_sets/natural_numbers/__pv_it/theorems/132c57ec1224a4beaf274a23bd799047020206590/expr.ipynb\"><img src=\"data:image/png;base64,iVBORw0KGgoAAAANSUhEUgAAAEEAAAATBAMAAAA9n32KAAAAMFBMVEX///9mZmYQEBCYmJgyMjKq\n",
       "qqrMzMwiIiJERER2dnbc3Nzu7u5UVFSIiIi6uroAAAA6K1lcAAAAAXRSTlMAQObYZgAAAAlwSFlz\n",
       "AAAOxAAADsQBlSsOGwAAAPlJREFUKM9jYMAHGBkIAQ6yVWz/0bKBYdKnB3jMaOU7wMD9AZ8txxdM\n",
       "ZmBQYJDoaOroMMCq4mgDywKGAmxm3CgvdwDRp2y5HLCqeHIbyjjFk3AToYLvzq65vWBxLm+Y0lMM\n",
       "DRwP4Co4Oc4y7F8AYrEsQKhI5K4ugIXpO/YGhvUJYBUMCBXMAREKMN6G/Q8Y4jeAWEnlQNAAUcFw\n",
       "mgeugiGegeEImLEDyQyGPdwFcC5Q+jM3iMGOrILtQgOcq8nA+psTxOC9ABNqA+JrcBVc3xh4HczA\n",
       "TFeYGIjB6ADj8RUwcB8OADP39IFdzJDyCaif2wFbfLxsL8cUBwB3/0NP0Yie0QAAAABJRU5ErkJg\n",
       "gg==\n",
       "\" style=\"display:inline;vertical-align:middle;\" /></a> <a class=\"ProveItLink\" href=\"../__pv_it/demonstrations/0a1f059aaf42e9f1efd081f99034259dafe66def0/proof.ipynb\" style=\"text-decoration: none\">&nbsp;&#x22A2;&nbsp;&nbsp;</a><a class=\"ProveItLink\" href=\"../__pv_it/demonstrations/785d9fbdb5938f9d86bfbd9cc05045c3ac530bbf0/expr.ipynb\"><img src=\"data:image/png;base64,iVBORw0KGgoAAAANSUhEUgAAAXAAAAAVBAMAAACteahRAAAAMFBMVEX///8AAAAAAAAAAAAAAAAA\n",
       "AAAAAAAAAAAAAAAAAAAAAAAAAAAAAAAAAAAAAAAAAAAv3aB7AAAAD3RSTlMAInZUiRDNmWbv3US7\n",
       "qzJazP2FAAAACXBIWXMAAA7EAAAOxAGVKw4bAAADXUlEQVRIx7VXX0gUQRj/7d1Ne386u56KENzu\n",
       "IetBOMIse0lKJARhkcICrXsJejyixIzoKkqiyMsIgqCkkMJepJ56CE3oKQwLhYKKA43AB/9ARhB4\n",
       "ffvnZmdnV72H9YObm9/MfL/ft/PNzM4CSCEYS1XYFoApRhHKBMT2ytsUGLdkCY2K+qDYQnlPUz02\n",
       "yHYDLBsY2xm5IUBuyTbpUPOBsfXJDQFySxbNIRYcW0yXG7Bh9gANAeZPnuCGjQv8LM5T2V53qlnY\n",
       "/xL0GktPzx4RcW0eXUBkUhrnwy25ykzra7X3gJFOG4UO5EKf1UGnT4JeU1Gn9Qo4Ei6gnxaesRfV\n",
       "YdMmrWnxkEmuMtP6Wk2NiC4CN/GMBFPR5WQeJ+wzwIKs+bu+GtlV9OtfBDxDoX0DKHy3eblt12Nt\n",
       "0yLcvvcHKtSqyvQiOQY04hEBqMRblbYnxoIqVp/1IrpdWI9pGCDHRWmcl9t2zaFXhFPYgwq1GAmR\n",
       "GhYMcphVhHmgBtwyoqysnsABNxzVq2hwouAN3MNtuv5DTVGA82hFpVqJZSyQ7xsjnSScYrpAbsCo\n",
       "vkbgiSUcR9/ddM7G3QgV7OjENe7Hbbre4IGbEHiBSrUogUZ6DmIc6Bz5ioily8AhIoMmlIwWPvuQ\n",
       "LKCJ3X6IeyYGJrCZIo2OSWPd3I4r1VtdcJdmE7kPFPhokdAE/d2hcwWHfl7Ea4v8dJZDzOkmZH9g\n",
       "F2UUXukoJDJKexbLVgcuY5TOcLVJUnZzO6606IdckI37yJgVj5Y6mfhrnrRzQEc63JOxyONDHCrv\n",
       "LYjnsIu4ka1hHeyctv86kNSMRT1sTEPX4St0gY2PSIG7uQVXVOsuaCxbk4jLmBVS92ixqdol6nuJ\n",
       "eHmXWOT7uOo2bBUhH8VTGiuquWIZt9BvhzxW4nZclZySciB7jJq80MvNURe1IpQIZdC4rojkPNvK\n",
       "x/kLAnReNrxWg/hM0doNWXaf/np8rkIit+NaPf9LF+AQbonQedn4aLXgZMa6vr0rR9ryWwPT+DOW\n",
       "SosCdF65vPYWoaMWjmtJ0lDGPINd3ILrk1JJhLPpTyLkm1Pz0XpKpz49uXGIuD4GpG8D7yxoPjh8\n",
       "7ZKx373faZ1rua4N/dSNIQdqR+wZUbSALmw7fb4Ng+KWHymF/6b5F4wmDAsmAAAAAElFTkSuQmCC\n",
       "\" style=\"display:inline;vertical-align:middle;\" /></a></span>"
      ],
      "text/plain": [
       "{n in NaturalPos} |- (x_{1}, x_{2}, ..., x_{n}, y) = (x_{1},x_{2}, x_{3}, ..., x_{n}, y)"
      ]
     },
     "metadata": {},
     "output_type": "display_data"
    }
   ],
   "source": [
    "eq.prove(assumptions=[InSet(n, NaturalPos)])"
   ]
  },
  {
   "cell_type": "code",
   "execution_count": 9,
   "metadata": {},
   "outputs": [
    {
     "data": {
      "text/html": [
       "<strong id=\"shifted\">shifted:</strong> <span style=\"font-size:20px;\"><a class=\"ProveItLink\" href=\"../../../numbers/number_sets/natural_numbers/__pv_it/theorems/132c57ec1224a4beaf274a23bd799047020206590/expr.ipynb\"><img src=\"data:image/png;base64,iVBORw0KGgoAAAANSUhEUgAAAEEAAAATBAMAAAA9n32KAAAAMFBMVEX///9mZmYQEBCYmJgyMjKq\n",
       "qqrMzMwiIiJERER2dnbc3Nzu7u5UVFSIiIi6uroAAAA6K1lcAAAAAXRSTlMAQObYZgAAAAlwSFlz\n",
       "AAAOxAAADsQBlSsOGwAAAPlJREFUKM9jYMAHGBkIAQ6yVWz/0bKBYdKnB3jMaOU7wMD9AZ8txxdM\n",
       "ZmBQYJDoaOroMMCq4mgDywKGAmxm3CgvdwDRp2y5HLCqeHIbyjjFk3AToYLvzq65vWBxLm+Y0lMM\n",
       "DRwP4Co4Oc4y7F8AYrEsQKhI5K4ugIXpO/YGhvUJYBUMCBXMAREKMN6G/Q8Y4jeAWEnlQNAAUcFw\n",
       "mgeugiGegeEImLEDyQyGPdwFcC5Q+jM3iMGOrILtQgOcq8nA+psTxOC9ABNqA+JrcBVc3xh4HczA\n",
       "TFeYGIjB6ADj8RUwcB8OADP39IFdzJDyCaif2wFbfLxsL8cUBwB3/0NP0Yie0QAAAABJRU5ErkJg\n",
       "gg==\n",
       "\" style=\"display:inline;vertical-align:middle;\" /></a> <a class=\"ProveItLink\" href=\"../__pv_it/demonstrations/debeead6bee95421e657c2a1f15c15f082e170900/proof.ipynb\" style=\"text-decoration: none\">&nbsp;&#x22A2;&nbsp;&nbsp;</a><a class=\"ProveItLink\" href=\"../__pv_it/demonstrations/07263f59ecc9b2b5310ac562d5e7cdd0460781f00/expr.ipynb\"><img src=\"data:image/png;base64,iVBORw0KGgoAAAANSUhEUgAAAY0AAAAZBAMAAAA/CW8DAAAAMFBMVEX///8AAAAAAAAAAAAAAAAA\n",
       "AAAAAAAAAAAAAAAAAAAAAAAAAAAAAAAAAAAAAAAAAAAv3aB7AAAAD3RSTlMAInZUiRDNmWbv3US7\n",
       "qzJazP2FAAAACXBIWXMAAA7EAAAOxAGVKw4bAAADoklEQVRYw81YTWgTQRR++Vl30zRpBEX00hiK\n",
       "olCoUC30oMVGb8IgSHuoNhfBm0H8qbVCVFDEg6EeK1IQUQpKUC8FwVQQFBcJBUEPQih6UMS2aLwI\n",
       "rfOzOzszu5sWtl180HTf7HvfN9/Om9mZBVgHMyoQpunrBdwTqgyIVOm/TCAQj2ytEK4OuEp+ol2B\n",
       "MJ66m1pLIetoQfinOxhG1N3prSHLgGhtDYrgpKvlbNg6tAae7EGL4Iar5W/YOuAUQCIoRgIpDelG\n",
       "6DrGAPYFxdigDmh0MnQdu1gxH+08kRdWLcX1MDEiXlNupgrNMLTchy/9q+3fyj1h9hKR0oJidFYX\n",
       "HqLiepgYYdCFYnSK2GO67FabYejQmR1drQ4LZY/anlX8+Trcxz3JGI1UCQatlYu5Wv4z8t13sARm\n",
       "sbJaaDUeke/gw3DdurgCt9FHxwVO688jb3NIqg4ybnsFJvDEBB1jpXPW82OuDv5jwiJsZ0F9KxXt\n",
       "CCObpGOD/+Z2W3frcJ67pDuc1p/nuNRIUpN9IOEOUx14zSEDFeOAxG2rRJaaLFLOyCa9xoNFJOqw\n",
       "iC/p9qeX3x/nbitItH48l+S2Xvul5eC207rC8ySjIQGQuAZqpoNGjMzt5P0Q5gfTQSLaEdxx6Ugu\n",
       "wrFV66AdmwSLytHRL+uYz8ArgKHKJ4gzQA24C/FJ6iqGeMTgdCmBd4lGVV2vqnbEPIJHIh/O1d6l\n",
       "ytDn0oGa8EQKNpWjo0fWgderIwAHvl6EZwxwuMBd+I6oS3+0P+IFi9i8A9owm96nvj/KdgTWMS7w\n",
       "kdzY0kA52aXqkOEVHjzHLCpHxwtZx03cW4CBXGykiwG2POBu5DVz6byFh/bFFOIRszBNWtVDU7Jh\n",
       "R+C6+qWb5l3zDePDudqZbM81Rj9mvjXNEhsPgurHE6sxqrSJbYYh/QARFy7jpLrNTwH38u5sgY2i\n",
       "y6OcErgHF9IA21whE3yWKvNcyFXqKob8edJVm8q3rvBL0ChKOniRRN7/PCe43OLOMWwBnuwHGPHf\n",
       "70azyZrIFwc/HfEmPHieW1ROak7SQfa7MGN36/DvLGh8PU0sLy8IrrNVcOqnBh0l+1Ap2jd+ld+J\n",
       "LL5Npw+KudSlOiitcMfNg3vIqITUGRBxDfK0hqQ5qkxZ93qlKmt1H2xTypao6pvriyq1PHdv0qoS\n",
       "bgvpQyQbaKu5feXzeTHghw49491SlM7n62Dda4x3SG245fW95P//fqV5vSSF0cHuPyFjFvN3l2zZ\n",
       "AAAAAElFTkSuQmCC\n",
       "\" style=\"display:inline;vertical-align:middle;\" /></a></span><br>"
      ],
      "text/plain": [
       "<IPython.core.display.HTML object>"
      ]
     },
     "metadata": {},
     "output_type": "display_data"
    }
   ],
   "source": [
    "shifted = x_1_to_n.shift_equivalence(new_start=zero, assumptions=[InSet(n, NaturalPos)])"
   ]
  },
  {
   "cell_type": "code",
   "execution_count": 10,
   "metadata": {},
   "outputs": [
    {
     "data": {
      "text/html": [
       "<strong id=\"eq\">eq:</strong> <a class=\"ProveItLink\" href=\"../__pv_it/demonstrations/7a1d1e7a2f113012b26645ef71bfbb44077a1e9a0/expr.ipynb\"><img src=\"data:image/png;base64,iVBORw0KGgoAAAANSUhEUgAAAbUAAAAZBAMAAABELa3PAAAAMFBMVEX///8AAAAAAAAAAAAAAAAA\n",
       "AAAAAAAAAAAAAAAAAAAAAAAAAAAAAAAAAAAAAAAAAAAv3aB7AAAAD3RSTlMAInZUiRDNmWbv3US7\n",
       "qzJazP2FAAAACXBIWXMAAA7EAAAOxAGVKw4bAAAER0lEQVRYw9VYX6hURRj/7Z/T2f9uUIS93NMi\n",
       "LQnCBuZVH2rR26WXYBBCA819EXxrCbPb1WhVSELI7foSGHEpQhGKS/UiFHdvEBStsYiCgsGi9ZCI\n",
       "915qIwi0b2b2zM6Zc84adC6HBnZ3frPf/Ob7zXzzzZwDrGnJLCCeYq/9EJMxSUOiI37KEdEF8FiN\n",
       "uLThOP9K1iJi+8LfVGjFpi3H6GtzVGxJv5D1sUlDshdp2BzwtRyKT5s1oIQSXdic9LX8HZ82HASy\n",
       "0bFlmdFQGsSo7SiwJTq2h8wQSM7HqO0puSV2bXplSsuWBgyI5crVX3bquNrCPiDdM+yKjXFsJsvY\n",
       "8kCfNNMZWOTJIuNhiWbysq1NsQGDDv1NzqyG06k2TtMlRKSl2Qu8fCaOgM44NpNlbBmyPG22O37T\n",
       "+jZkVoDlPj4hn8qZQbGFPcOMKaE19TMLG+gYTrNrGr5Fw94ASKERpD1FPrVBLdc7HhYFoRwIurtJ\n",
       "Fu8Vjne1YfKWarMo0qROLOAsIdjEWqoMZ1dCG+Fr18dhD2ZZB3PUccU8P5suW8bJizWkz82NHhYJ\n",
       "uYvKgYAiWXjga4V3zddh8FrkCvmD/UIbRB0pRc3huoXEvfAQmfPCRVYi43zQukm2bB+rVBWXvO1e\n",
       "FgEL8DgQlIS5i0e8bdvdQ9XDmx/weMSEiEnyrWwxjZrDDBujLb+Kl3DyvUpziA8j2XZ90/ab1MbZ\n",
       "JhjO+LQJln+rTbg4j8zMzapH206fNlphypFYLuNbYO/CdaQltQUFkZ4X0Ci0Ca0fi23UrVMf4H3Z\n",
       "A5dQ4FurY+bJjsu2zHBe90Gx+LSxoBGHLIkG9lxsZcu6tkkYvNyVSyKW8CLw3K9v4ktJvb+hIG4z\n",
       "AcWX9adWSd3b3c7XErsaGMhGvIVFOtvsunm+tV020jan+TBiMbV5BhpVJAvt2UefxDqma/saBi/s\n",
       "Xv4v+nmXFAC7K6mZmqTOfapg4jsJRUbAObdygcF6zZk8Qavi8A0mTPbteJsmM2c+iFLkD9koJn+3\n",
       "u90Pu99Lj0YsHB7t/tDttuS60T/+EYcsKQqOy7iIUpfKkmS6A4MX1pXqqphv5PquJ4L6GeXYY3hY\n",
       "h8pKzVq2bzf7rsk0fR73GZ8d2XpzyYjFjMkUCx+xRP0/whul8JiUtumGvE9mmh5tKqwSP919XYOj\n",
       "c1rVJpC71Rcm6YbFM8VM+HNA0sn3dB/SCNOWHjMi5ZLECj5/Vu9agck7jZdr8jkAS66Y6T8cWOqc\n",
       "z96/v6LB0Y1G1b5B8gUIk5xTrKvHeL38pmpTVTb04ZFXd+gsAgptwgHtH/+I5CtN0YaW3nUJJu/H\n",
       "uMJPez6Xez2730gG/jxpquUmqeP84Cn4XyoUjStgJ4ylMOYSpbV85b+Udny8W6t83+e4Nwknoov3\n",
       "Ew9+X9L8j6+l7HJwSzPkfcmals0R8z1vNpwa/57r//R+0go62ANXmP74B1zgQLFVhV16AAAAAElF\n",
       "TkSuQmCC\n",
       "\" style=\"display:inline;vertical-align:middle;\" /></a><br>"
      ],
      "text/plain": [
       "<IPython.core.display.HTML object>"
      ]
     },
     "metadata": {},
     "output_type": "display_data"
    }
   ],
   "source": [
    "eq = Equals(ExprTuple(*shifted.lhs.entries, y), \n",
    "            ExprTuple(*shifted.rhs.entries, y))"
   ]
  },
  {
   "cell_type": "code",
   "execution_count": 11,
   "metadata": {},
   "outputs": [
    {
     "data": {
      "text/html": [
       "<span style=\"font-size:20px;\"><a class=\"ProveItLink\" href=\"../../../numbers/number_sets/natural_numbers/__pv_it/theorems/132c57ec1224a4beaf274a23bd799047020206590/expr.ipynb\"><img src=\"data:image/png;base64,iVBORw0KGgoAAAANSUhEUgAAAEEAAAATBAMAAAA9n32KAAAAMFBMVEX///9mZmYQEBCYmJgyMjKq\n",
       "qqrMzMwiIiJERER2dnbc3Nzu7u5UVFSIiIi6uroAAAA6K1lcAAAAAXRSTlMAQObYZgAAAAlwSFlz\n",
       "AAAOxAAADsQBlSsOGwAAAPlJREFUKM9jYMAHGBkIAQ6yVWz/0bKBYdKnB3jMaOU7wMD9AZ8txxdM\n",
       "ZmBQYJDoaOroMMCq4mgDywKGAmxm3CgvdwDRp2y5HLCqeHIbyjjFk3AToYLvzq65vWBxLm+Y0lMM\n",
       "DRwP4Co4Oc4y7F8AYrEsQKhI5K4ugIXpO/YGhvUJYBUMCBXMAREKMN6G/Q8Y4jeAWEnlQNAAUcFw\n",
       "mgeugiGegeEImLEDyQyGPdwFcC5Q+jM3iMGOrILtQgOcq8nA+psTxOC9ABNqA+JrcBVc3xh4HczA\n",
       "TFeYGIjB6ADj8RUwcB8OADP39IFdzJDyCaif2wFbfLxsL8cUBwB3/0NP0Yie0QAAAABJRU5ErkJg\n",
       "gg==\n",
       "\" style=\"display:inline;vertical-align:middle;\" /></a> <a class=\"ProveItLink\" href=\"../__pv_it/demonstrations/0a1f059aaf42e9f1efd081f99034259dafe66def0/proof.ipynb\" style=\"text-decoration: none\">&nbsp;&#x22A2;&nbsp;&nbsp;</a><a class=\"ProveItLink\" href=\"../__pv_it/demonstrations/9c7a4222b1c632b0f13e8474097c80b361bc89bf0/expr.ipynb\"><img src=\"data:image/png;base64,iVBORw0KGgoAAAANSUhEUgAAALcAAAAuBAMAAACYKZUnAAAAMFBMVEX///8AAAAAAAAAAAAAAAAA\n",
       "AAAAAAAAAAAAAAAAAAAAAAAAAAAAAAAAAAAAAAAAAAAv3aB7AAAAD3RSTlMAInZUiRDNmWbv3US7\n",
       "qzJazP2FAAAACXBIWXMAAA7EAAAOxAGVKw4bAAAC50lEQVRYw+2WT2jTUBzHv2n7TNOuXT2I4sVY\n",
       "ZMPDYMicNxUdOwhCGMh22LQXwWMR/9SJGPUgnlb0KAxhFGWgFD3ttDnwJMocCgoqRedlhzlBPW77\n",
       "JWnT5L3Xph0pePAHSd/v936/b15ffkk+ADIIx2Q6kf6QxJ9LYgMhaSNiCiGWC0sc54WIaoYmfleI\n",
       "aKFpQzP4yGB44juETbhEx0jf2SFPz3CuxLgM1mtiAogt8XkX6MhHltVH9RDnSozLiEWLmALidm9M\n",
       "zlr21J6YoWAm/idlYqzaN47Lhr4YjbSrBa59pyt9BugSnD0E0lBJN52trsVxVTRevZNRN0PTcZ/C\n",
       "6xJxus86naKumOV2l5WNJo2h+9x5I03JSWHlM/ZkhhkeccuNG83E7YzCt96qewWRYm113j1fBMbL\n",
       "nxBz5hhcFzHyxW033IyxOVPL2BV4gy7qlPgCn3waOPbjGl444udyrotVA+wvnJh/4GTs6kG3YQdx\n",
       "A/N0f9XjvPgqMJqNFvod8UTJdZVXNDtLC03kafAY1YEVqWYsY86pwMSJm/TCTZR58USlNrK37LA7\n",
       "sRs7KSbsiycyjavpWsUwHXvFns37xN1/prxduwx77/1WjyjreHbUrojl2AMKFMQb/7KWO/xbB3Nb\n",
       "TNvcpLYdEZ98d5RcwgHTrkjoKbqEsiCKj/te+NykLqTzEasievs6nbsk3zlFD+mluB//7Z+wTAdl\n",
       "Q4MiGSMNdGhDLEYKEYpERgoRikRG0jrWKMRIgx0TJ0YKhiKW/bBycnuMFAxFKvr0ye0xUjAU3cKU\n",
       "8RF7Dn1tn5GCoahC5AC8x8H2GakVKKJMrOFU+4zUAhQlf+EM/Txpn5ECoYi9ThWtr3CPLmMk1pSR\n",
       "AqEoujFaTFKjsUUOjVyvMSMFQhG7qB+5Y63nZ8XPSA4olZoxUotQxKaxz5QwkqdAwkitQlEJ9wwJ\n",
       "I3kKZIzUIhStZN/JGKleIGWkdqBIRJxIc0YKDYpERtoCDvAN4SQdR+AAAAAASUVORK5CYII=\n",
       "\" style=\"display:inline;vertical-align:middle;\" /></a></span>"
      ],
      "text/plain": [
       "{n in NaturalPos} |- (x_{1}, x_{2}, ..., x_{n}, y) =  \\\\ (x_{1},x_{2}, x_{3}, ..., x_{n}, y)"
      ]
     },
     "metadata": {},
     "output_type": "display_data"
    }
   ],
   "source": [
    "eq.lhs.inner_expr()[0].partition(one)"
   ]
  },
  {
   "cell_type": "code",
   "execution_count": 12,
   "metadata": {},
   "outputs": [
    {
     "data": {
      "text/html": [
       "<span style=\"font-size:20px;\"><a class=\"ProveItLink\" href=\"../../../numbers/number_sets/natural_numbers/__pv_it/theorems/132c57ec1224a4beaf274a23bd799047020206590/expr.ipynb\"><img src=\"data:image/png;base64,iVBORw0KGgoAAAANSUhEUgAAAEEAAAATBAMAAAA9n32KAAAAMFBMVEX///9mZmYQEBCYmJgyMjKq\n",
       "qqrMzMwiIiJERER2dnbc3Nzu7u5UVFSIiIi6uroAAAA6K1lcAAAAAXRSTlMAQObYZgAAAAlwSFlz\n",
       "AAAOxAAADsQBlSsOGwAAAPlJREFUKM9jYMAHGBkIAQ6yVWz/0bKBYdKnB3jMaOU7wMD9AZ8txxdM\n",
       "ZmBQYJDoaOroMMCq4mgDywKGAmxm3CgvdwDRp2y5HLCqeHIbyjjFk3AToYLvzq65vWBxLm+Y0lMM\n",
       "DRwP4Co4Oc4y7F8AYrEsQKhI5K4ugIXpO/YGhvUJYBUMCBXMAREKMN6G/Q8Y4jeAWEnlQNAAUcFw\n",
       "mgeugiGegeEImLEDyQyGPdwFcC5Q+jM3iMGOrILtQgOcq8nA+psTxOC9ABNqA+JrcBVc3xh4HczA\n",
       "TFeYGIjB6ADj8RUwcB8OADP39IFdzJDyCaif2wFbfLxsL8cUBwB3/0NP0Yie0QAAAABJRU5ErkJg\n",
       "gg==\n",
       "\" style=\"display:inline;vertical-align:middle;\" /></a> <a class=\"ProveItLink\" href=\"../__pv_it/demonstrations/c390f7b80bdc5a6cc59c08a55ca4817d57d822b10/proof.ipynb\" style=\"text-decoration: none\">&nbsp;&#x22A2;&nbsp;&nbsp;</a><a class=\"ProveItLink\" href=\"../__pv_it/demonstrations/7a1d1e7a2f113012b26645ef71bfbb44077a1e9a0/expr.ipynb\"><img src=\"data:image/png;base64,iVBORw0KGgoAAAANSUhEUgAAAbUAAAAZBAMAAABELa3PAAAAMFBMVEX///8AAAAAAAAAAAAAAAAA\n",
       "AAAAAAAAAAAAAAAAAAAAAAAAAAAAAAAAAAAAAAAAAAAv3aB7AAAAD3RSTlMAInZUiRDNmWbv3US7\n",
       "qzJazP2FAAAACXBIWXMAAA7EAAAOxAGVKw4bAAAER0lEQVRYw9VYX6hURRj/7Z/T2f9uUIS93NMi\n",
       "LQnCBuZVH2rR26WXYBBCA819EXxrCbPb1WhVSELI7foSGHEpQhGKS/UiFHdvEBStsYiCgsGi9ZCI\n",
       "915qIwi0b2b2zM6Zc84adC6HBnZ3frPf/Ob7zXzzzZwDrGnJLCCeYq/9EJMxSUOiI37KEdEF8FiN\n",
       "uLThOP9K1iJi+8LfVGjFpi3H6GtzVGxJv5D1sUlDshdp2BzwtRyKT5s1oIQSXdic9LX8HZ82HASy\n",
       "0bFlmdFQGsSo7SiwJTq2h8wQSM7HqO0puSV2bXplSsuWBgyI5crVX3bquNrCPiDdM+yKjXFsJsvY\n",
       "8kCfNNMZWOTJIuNhiWbysq1NsQGDDv1NzqyG06k2TtMlRKSl2Qu8fCaOgM44NpNlbBmyPG22O37T\n",
       "+jZkVoDlPj4hn8qZQbGFPcOMKaE19TMLG+gYTrNrGr5Fw94ASKERpD1FPrVBLdc7HhYFoRwIurtJ\n",
       "Fu8Vjne1YfKWarMo0qROLOAsIdjEWqoMZ1dCG+Fr18dhD2ZZB3PUccU8P5suW8bJizWkz82NHhYJ\n",
       "uYvKgYAiWXjga4V3zddh8FrkCvmD/UIbRB0pRc3huoXEvfAQmfPCRVYi43zQukm2bB+rVBWXvO1e\n",
       "FgEL8DgQlIS5i0e8bdvdQ9XDmx/weMSEiEnyrWwxjZrDDBujLb+Kl3DyvUpziA8j2XZ90/ab1MbZ\n",
       "JhjO+LQJln+rTbg4j8zMzapH206fNlphypFYLuNbYO/CdaQltQUFkZ4X0Ci0Ca0fi23UrVMf4H3Z\n",
       "A5dQ4FurY+bJjsu2zHBe90Gx+LSxoBGHLIkG9lxsZcu6tkkYvNyVSyKW8CLw3K9v4ktJvb+hIG4z\n",
       "AcWX9adWSd3b3c7XErsaGMhGvIVFOtvsunm+tV020jan+TBiMbV5BhpVJAvt2UefxDqma/saBi/s\n",
       "Xv4v+nmXFAC7K6mZmqTOfapg4jsJRUbAObdygcF6zZk8Qavi8A0mTPbteJsmM2c+iFLkD9koJn+3\n",
       "u90Pu99Lj0YsHB7t/tDttuS60T/+EYcsKQqOy7iIUpfKkmS6A4MX1pXqqphv5PquJ4L6GeXYY3hY\n",
       "h8pKzVq2bzf7rsk0fR73GZ8d2XpzyYjFjMkUCx+xRP0/whul8JiUtumGvE9mmh5tKqwSP919XYOj\n",
       "c1rVJpC71Rcm6YbFM8VM+HNA0sn3dB/SCNOWHjMi5ZLECj5/Vu9agck7jZdr8jkAS66Y6T8cWOqc\n",
       "z96/v6LB0Y1G1b5B8gUIk5xTrKvHeL38pmpTVTb04ZFXd+gsAgptwgHtH/+I5CtN0YaW3nUJJu/H\n",
       "uMJPez6Xez2730gG/jxpquUmqeP84Cn4XyoUjStgJ4ylMOYSpbV85b+Udny8W6t83+e4Nwknoov3\n",
       "Ew9+X9L8j6+l7HJwSzPkfcmals0R8z1vNpwa/57r//R+0go62ANXmP74B1zgQLFVhV16AAAAAElF\n",
       "TkSuQmCC\n",
       "\" style=\"display:inline;vertical-align:middle;\" /></a></span>"
      ],
      "text/plain": [
       "{n in NaturalPos} |- (x_{1}, x_{2}, ..., x_{n}, y) = (x_{0 + 1}, x_{1 + 1}, ..., x_{(n - 1) + 1}, y)"
      ]
     },
     "metadata": {},
     "output_type": "display_data"
    }
   ],
   "source": [
    "eq.lhs.deduce_equal(eq.rhs, assumptions=[InSet(n, NaturalPos)])"
   ]
  },
  {
   "cell_type": "code",
   "execution_count": 13,
   "metadata": {},
   "outputs": [
    {
     "data": {
      "text/html": [
       "<strong id=\"eq\">eq:</strong> <a class=\"ProveItLink\" href=\"../__pv_it/demonstrations/2f4bc618652d79c2d6ab580049aed0b95a15ebfd0/expr.ipynb\"><img src=\"data:image/png;base64,iVBORw0KGgoAAAANSUhEUgAAAZkAAAAVBAMAAABmjo7qAAAAMFBMVEX///8AAAAAAAAAAAAAAAAA\n",
       "AAAAAAAAAAAAAAAAAAAAAAAAAAAAAAAAAAAAAAAAAAAv3aB7AAAAD3RSTlMAInZUiRDNmWbv3US7\n",
       "qzJazP2FAAAACXBIWXMAAA7EAAAOxAGVKw4bAAAD5UlEQVRYw71YS2gTURQ9aTLmH2NRFKk4VrEq\n",
       "KFX8LzRUcSEog/ipYG02gjuD+KkVaVRUBMGoCIKiQS2KogRdddUquJJqLFUUVOoPwUWNn4pQaH2f\n",
       "mcntzLSM0OlbDHPee+eed27ebwIgidEuPpd1o1uEj4raUY8bVe11Mz1384A/FnsQeI6txp/y3E1F\n",
       "FlDSHgQep1lrtsL7sgsIZj2IG8pYa5rGwM0pIOxJ4IvWitwYuAlrWOpJ4N3WZZMeAzfjstjHd8/u\n",
       "GfoutKkJSlG8KdUvP68p97RAh7Jp/s615va4wdIY5JvAtLpKPVhNFg0OLBv8P9VAUWSxLRnrkxWp\n",
       "FQiVpD7mq81kOEOhQ8lUdAXzBjjJH813eLmnpw3Rc3gud4eAP4ezDiwb/D/VUBo3WAYuQa9J1DYj\n",
       "3iFej+Ks9hrKSb2nhJs3vBx24SdDfXFzR1lhaY2w/G3PQh/ZJyb3lrLq0zSIsvadRlWnLHrvSpXl\n",
       "6DLLQAkReRwoOI+wnHQ9OMCeH+fpPSXMYNhMJRAka+O7dYEWgBbgpkQa0zhPWInqPA0SNJKrq3Zj\n",
       "rivVRIm7CXegsaCf4n343qM3Cr2VZl8O+zG9Z/gthdwA2hzcXIHSr8N2LTFAWf48DTK+4Bugqr1Y\n",
       "Dzeq0RyfaY2qMYu5UyMP0R/YQtwIeGIkN+1JRQs1fawxk0DWDZtpyk9jSYJlvCJHWMSNCKKZbuQg\n",
       "cBtuVFmUx8xNLV75kwpvixXRyWYCm3NP4zmk5LAI5FmynfPg1B2FNwigvi0b5re/M5YeMRXKL8TT\n",
       "CyW7kwuVWcINgQjkBTRUZ6uuVEMdfC+Nqf5bQTTyCRgsRv9C+cPiD2zLRWuFGwoTrQLKB2eYL6u/\n",
       "HMJDTJqN8Vx3n0WZbZ4sbyszGdEfR9CeJSzhhkB80wQ0VJXHDoJ2VXYMfGMdujZOW4BIKx9ld80P\n",
       "4I4GZa+67Lg+ZQis0gQEbvHpkzFeGHVbtb+JCXfJJXPXulrZcBtmfejqkeyGupYkZXE3BPqeSGio\n",
       "8rXMeWXBjJNqpICIuRCWyCzynJR/Vu6mDH0ZX5K2DqXychUHE6xf3trjvnkrkOx1Q1hi3ZThZEwg\n",
       "ULmK6Vk3qlPpBTElRLYzqwEMcVOGVb1fNdpKqdJuCfdXOV1lT5lzTmRMuUBZ0k05yLPe/bS1Fadd\n",
       "qfKb7SMjBXyru842d3ZdMAkT99RReG1wkEJQqtyDipjFnFTZusSML1zOjqjxFGX51v1WCQwPDpYI\n",
       "xOfqF25UffzY32F87PDH8hp+8Fg+HUeGBpWWR3bpDsL2HztsZ40MXaiKhPnU0f8KdPirodLzK/QM\n",
       "4B9j6ywsvqRXoQAAAABJRU5ErkJggg==\n",
       "\" style=\"display:inline;vertical-align:middle;\" /></a><br>"
      ],
      "text/plain": [
       "<IPython.core.display.HTML object>"
      ]
     },
     "metadata": {},
     "output_type": "display_data"
    }
   ],
   "source": [
    "eq = Equals(ExprTuple(a, y, *partitioned.lhs.entries), \n",
    "            ExprTuple(a, y, *partitioned.rhs.entries))"
   ]
  },
  {
   "cell_type": "code",
   "execution_count": 14,
   "metadata": {},
   "outputs": [
    {
     "data": {
      "text/html": [
       "<span style=\"font-size:20px;\"><a class=\"ProveItLink\" href=\"../../../numbers/number_sets/natural_numbers/__pv_it/theorems/132c57ec1224a4beaf274a23bd799047020206590/expr.ipynb\"><img src=\"data:image/png;base64,iVBORw0KGgoAAAANSUhEUgAAAEEAAAATBAMAAAA9n32KAAAAMFBMVEX///9mZmYQEBCYmJgyMjKq\n",
       "qqrMzMwiIiJERER2dnbc3Nzu7u5UVFSIiIi6uroAAAA6K1lcAAAAAXRSTlMAQObYZgAAAAlwSFlz\n",
       "AAAOxAAADsQBlSsOGwAAAPlJREFUKM9jYMAHGBkIAQ6yVWz/0bKBYdKnB3jMaOU7wMD9AZ8txxdM\n",
       "ZmBQYJDoaOroMMCq4mgDywKGAmxm3CgvdwDRp2y5HLCqeHIbyjjFk3AToYLvzq65vWBxLm+Y0lMM\n",
       "DRwP4Co4Oc4y7F8AYrEsQKhI5K4ugIXpO/YGhvUJYBUMCBXMAREKMN6G/Q8Y4jeAWEnlQNAAUcFw\n",
       "mgeugiGegeEImLEDyQyGPdwFcC5Q+jM3iMGOrILtQgOcq8nA+psTxOC9ABNqA+JrcBVc3xh4HczA\n",
       "TFeYGIjB6ADj8RUwcB8OADP39IFdzJDyCaif2wFbfLxsL8cUBwB3/0NP0Yie0QAAAABJRU5ErkJg\n",
       "gg==\n",
       "\" style=\"display:inline;vertical-align:middle;\" /></a> <a class=\"ProveItLink\" href=\"../__pv_it/demonstrations/a1375b6558b2a2157014436042364cc8d8dda42e0/proof.ipynb\" style=\"text-decoration: none\">&nbsp;&#x22A2;&nbsp;&nbsp;</a><a class=\"ProveItLink\" href=\"../__pv_it/demonstrations/2f4bc618652d79c2d6ab580049aed0b95a15ebfd0/expr.ipynb\"><img src=\"data:image/png;base64,iVBORw0KGgoAAAANSUhEUgAAAZkAAAAVBAMAAABmjo7qAAAAMFBMVEX///8AAAAAAAAAAAAAAAAA\n",
       "AAAAAAAAAAAAAAAAAAAAAAAAAAAAAAAAAAAAAAAAAAAv3aB7AAAAD3RSTlMAInZUiRDNmWbv3US7\n",
       "qzJazP2FAAAACXBIWXMAAA7EAAAOxAGVKw4bAAAD5UlEQVRYw71YS2gTURQ9aTLmH2NRFKk4VrEq\n",
       "KFX8LzRUcSEog/ipYG02gjuD+KkVaVRUBMGoCIKiQS2KogRdddUquJJqLFUUVOoPwUWNn4pQaH2f\n",
       "mcntzLSM0OlbDHPee+eed27ebwIgidEuPpd1o1uEj4raUY8bVe11Mz1384A/FnsQeI6txp/y3E1F\n",
       "FlDSHgQep1lrtsL7sgsIZj2IG8pYa5rGwM0pIOxJ4IvWitwYuAlrWOpJ4N3WZZMeAzfjstjHd8/u\n",
       "GfoutKkJSlG8KdUvP68p97RAh7Jp/s615va4wdIY5JvAtLpKPVhNFg0OLBv8P9VAUWSxLRnrkxWp\n",
       "FQiVpD7mq81kOEOhQ8lUdAXzBjjJH813eLmnpw3Rc3gud4eAP4ezDiwb/D/VUBo3WAYuQa9J1DYj\n",
       "3iFej+Ks9hrKSb2nhJs3vBx24SdDfXFzR1lhaY2w/G3PQh/ZJyb3lrLq0zSIsvadRlWnLHrvSpXl\n",
       "6DLLQAkReRwoOI+wnHQ9OMCeH+fpPSXMYNhMJRAka+O7dYEWgBbgpkQa0zhPWInqPA0SNJKrq3Zj\n",
       "rivVRIm7CXegsaCf4n343qM3Cr2VZl8O+zG9Z/gthdwA2hzcXIHSr8N2LTFAWf48DTK+4Bugqr1Y\n",
       "Dzeq0RyfaY2qMYu5UyMP0R/YQtwIeGIkN+1JRQs1fawxk0DWDZtpyk9jSYJlvCJHWMSNCKKZbuQg\n",
       "cBtuVFmUx8xNLV75kwpvixXRyWYCm3NP4zmk5LAI5FmynfPg1B2FNwigvi0b5re/M5YeMRXKL8TT\n",
       "CyW7kwuVWcINgQjkBTRUZ6uuVEMdfC+Nqf5bQTTyCRgsRv9C+cPiD2zLRWuFGwoTrQLKB2eYL6u/\n",
       "HMJDTJqN8Vx3n0WZbZ4sbyszGdEfR9CeJSzhhkB80wQ0VJXHDoJ2VXYMfGMdujZOW4BIKx9ld80P\n",
       "4I4GZa+67Lg+ZQis0gQEbvHpkzFeGHVbtb+JCXfJJXPXulrZcBtmfejqkeyGupYkZXE3BPqeSGio\n",
       "8rXMeWXBjJNqpICIuRCWyCzynJR/Vu6mDH0ZX5K2DqXychUHE6xf3trjvnkrkOx1Q1hi3ZThZEwg\n",
       "ULmK6Vk3qlPpBTElRLYzqwEMcVOGVb1fNdpKqdJuCfdXOV1lT5lzTmRMuUBZ0k05yLPe/bS1Fadd\n",
       "qfKb7SMjBXyru842d3ZdMAkT99RReG1wkEJQqtyDipjFnFTZusSML1zOjqjxFGX51v1WCQwPDpYI\n",
       "xOfqF25UffzY32F87PDH8hp+8Fg+HUeGBpWWR3bpDsL2HztsZ40MXaiKhPnU0f8KdPirodLzK/QM\n",
       "4B9j6ywsvqRXoQAAAABJRU5ErkJggg==\n",
       "\" style=\"display:inline;vertical-align:middle;\" /></a></span>"
      ],
      "text/plain": [
       "{n in NaturalPos} |- (a, y,x_{1}, x_{2}, ..., x_{n}) = (a, y, x_{1},x_{2}, x_{3}, ..., x_{n})"
      ]
     },
     "metadata": {},
     "output_type": "display_data"
    }
   ],
   "source": [
    "eq.prove(assumptions=[InSet(n, NaturalPos)])"
   ]
  },
  {
   "cell_type": "code",
   "execution_count": 15,
   "metadata": {},
   "outputs": [
    {
     "data": {
      "text/html": [
       "<span style=\"font-size:20px;\"><a class=\"ProveItLink\" href=\"../../../numbers/number_sets/natural_numbers/__pv_it/theorems/132c57ec1224a4beaf274a23bd799047020206590/expr.ipynb\"><img src=\"data:image/png;base64,iVBORw0KGgoAAAANSUhEUgAAAEEAAAATBAMAAAA9n32KAAAAMFBMVEX///9mZmYQEBCYmJgyMjKq\n",
       "qqrMzMwiIiJERER2dnbc3Nzu7u5UVFSIiIi6uroAAAA6K1lcAAAAAXRSTlMAQObYZgAAAAlwSFlz\n",
       "AAAOxAAADsQBlSsOGwAAAPlJREFUKM9jYMAHGBkIAQ6yVWz/0bKBYdKnB3jMaOU7wMD9AZ8txxdM\n",
       "ZmBQYJDoaOroMMCq4mgDywKGAmxm3CgvdwDRp2y5HLCqeHIbyjjFk3AToYLvzq65vWBxLm+Y0lMM\n",
       "DRwP4Co4Oc4y7F8AYrEsQKhI5K4ugIXpO/YGhvUJYBUMCBXMAREKMN6G/Q8Y4jeAWEnlQNAAUcFw\n",
       "mgeugiGegeEImLEDyQyGPdwFcC5Q+jM3iMGOrILtQgOcq8nA+psTxOC9ABNqA+JrcBVc3xh4HczA\n",
       "TFeYGIjB6ADj8RUwcB8OADP39IFdzJDyCaif2wFbfLxsL8cUBwB3/0NP0Yie0QAAAABJRU5ErkJg\n",
       "gg==\n",
       "\" style=\"display:inline;vertical-align:middle;\" /></a> <a class=\"ProveItLink\" href=\"../__pv_it/demonstrations/a1375b6558b2a2157014436042364cc8d8dda42e0/proof.ipynb\" style=\"text-decoration: none\">&nbsp;&#x22A2;&nbsp;&nbsp;</a><a class=\"ProveItLink\" href=\"../__pv_it/demonstrations/2f4bc618652d79c2d6ab580049aed0b95a15ebfd0/expr.ipynb\"><img src=\"data:image/png;base64,iVBORw0KGgoAAAANSUhEUgAAAZkAAAAVBAMAAABmjo7qAAAAMFBMVEX///8AAAAAAAAAAAAAAAAA\n",
       "AAAAAAAAAAAAAAAAAAAAAAAAAAAAAAAAAAAAAAAAAAAv3aB7AAAAD3RSTlMAInZUiRDNmWbv3US7\n",
       "qzJazP2FAAAACXBIWXMAAA7EAAAOxAGVKw4bAAAD5UlEQVRYw71YS2gTURQ9aTLmH2NRFKk4VrEq\n",
       "KFX8LzRUcSEog/ipYG02gjuD+KkVaVRUBMGoCIKiQS2KogRdddUquJJqLFUUVOoPwUWNn4pQaH2f\n",
       "mcntzLSM0OlbDHPee+eed27ebwIgidEuPpd1o1uEj4raUY8bVe11Mz1384A/FnsQeI6txp/y3E1F\n",
       "FlDSHgQep1lrtsL7sgsIZj2IG8pYa5rGwM0pIOxJ4IvWitwYuAlrWOpJ4N3WZZMeAzfjstjHd8/u\n",
       "GfoutKkJSlG8KdUvP68p97RAh7Jp/s615va4wdIY5JvAtLpKPVhNFg0OLBv8P9VAUWSxLRnrkxWp\n",
       "FQiVpD7mq81kOEOhQ8lUdAXzBjjJH813eLmnpw3Rc3gud4eAP4ezDiwb/D/VUBo3WAYuQa9J1DYj\n",
       "3iFej+Ks9hrKSb2nhJs3vBx24SdDfXFzR1lhaY2w/G3PQh/ZJyb3lrLq0zSIsvadRlWnLHrvSpXl\n",
       "6DLLQAkReRwoOI+wnHQ9OMCeH+fpPSXMYNhMJRAka+O7dYEWgBbgpkQa0zhPWInqPA0SNJKrq3Zj\n",
       "rivVRIm7CXegsaCf4n343qM3Cr2VZl8O+zG9Z/gthdwA2hzcXIHSr8N2LTFAWf48DTK+4Bugqr1Y\n",
       "Dzeq0RyfaY2qMYu5UyMP0R/YQtwIeGIkN+1JRQs1fawxk0DWDZtpyk9jSYJlvCJHWMSNCKKZbuQg\n",
       "cBtuVFmUx8xNLV75kwpvixXRyWYCm3NP4zmk5LAI5FmynfPg1B2FNwigvi0b5re/M5YeMRXKL8TT\n",
       "CyW7kwuVWcINgQjkBTRUZ6uuVEMdfC+Nqf5bQTTyCRgsRv9C+cPiD2zLRWuFGwoTrQLKB2eYL6u/\n",
       "HMJDTJqN8Vx3n0WZbZ4sbyszGdEfR9CeJSzhhkB80wQ0VJXHDoJ2VXYMfGMdujZOW4BIKx9ld80P\n",
       "4I4GZa+67Lg+ZQis0gQEbvHpkzFeGHVbtb+JCXfJJXPXulrZcBtmfejqkeyGupYkZXE3BPqeSGio\n",
       "8rXMeWXBjJNqpICIuRCWyCzynJR/Vu6mDH0ZX5K2DqXychUHE6xf3trjvnkrkOx1Q1hi3ZThZEwg\n",
       "ULmK6Vk3qlPpBTElRLYzqwEMcVOGVb1fNdpKqdJuCfdXOV1lT5lzTmRMuUBZ0k05yLPe/bS1Fadd\n",
       "qfKb7SMjBXyru842d3ZdMAkT99RReG1wkEJQqtyDipjFnFTZusSML1zOjqjxFGX51v1WCQwPDpYI\n",
       "xOfqF25UffzY32F87PDH8hp+8Fg+HUeGBpWWR3bpDsL2HztsZ40MXaiKhPnU0f8KdPirodLzK/QM\n",
       "4B9j6ywsvqRXoQAAAABJRU5ErkJggg==\n",
       "\" style=\"display:inline;vertical-align:middle;\" /></a></span>"
      ],
      "text/plain": [
       "{n in NaturalPos} |- (a, y,x_{1}, x_{2}, ..., x_{n}) = (a, y, x_{1},x_{2}, x_{3}, ..., x_{n})"
      ]
     },
     "metadata": {},
     "output_type": "display_data"
    }
   ],
   "source": [
    "eq.lhs.deduce_equal(eq.rhs, assumptions=[InSet(n, NaturalPos)])"
   ]
  },
  {
   "cell_type": "markdown",
   "metadata": {},
   "source": [
    "### Mapping elements can be useful for building new ExprTuples from existing ones"
   ]
  },
  {
   "cell_type": "code",
   "execution_count": 16,
   "metadata": {},
   "outputs": [
    {
     "data": {
      "text/html": [
       "<a class=\"ProveItLink\" href=\"../__pv_it/demonstrations/a6766b8df792af92250a9f8c67d7891662a01c310/expr.ipynb\"><img src=\"data:image/png;base64,iVBORw0KGgoAAAANSUhEUgAAASMAAAAVBAMAAAD/WpUaAAAAMFBMVEX///8AAAAAAAAAAAAAAAAA\n",
       "AAAAAAAAAAAAAAAAAAAAAAAAAAAAAAAAAAAAAAAAAAAv3aB7AAAAD3RSTlMAInZUiRDNmWbv3US7\n",
       "qzJazP2FAAAACXBIWXMAAA7EAAAOxAGVKw4bAAADPklEQVRIx5WWTWjUQBTHXzab7mdjEEQoLaZV\n",
       "rJdKD36gBy0qPQiVIGp7aN1eCh4XkbpWxKhoL0KDIgiCFkopVCiLnnrq6lWEpVhR8LD4geBBK1gv\n",
       "QuvMy0wmzcyWJPCayXtvf/3PzJsPALAgzmNt6dLkqJYUhz70p3rjKFJlvRDN3XK0YCfEIQ+ZB2IN\n",
       "kior5fKW3qcI70uIQx41YzSOInXWGG9cUEVbnIQ45BHLuHEkqbMmeaOiimbLCXHII5aLNW/qrBwf\n",
       "B08ZfpQQhzxih2JJUme1sM7q6nm4lBCHPGJXQsv2XeemVWJ0uzDiN0NZZ3sunmLrJV1n8yCq2+ha\n",
       "+XqStQeaSlLjkEcs1JVFq7gW/mFa92BK6nA5tZyZZtUyunm0qDrosSdY+15TSWoc8ojNEMw8fcrG\n",
       "Y2BB5vhCPj/5ySIra2XXWl0Yomp0VkN50s0JGp2DWzDlfIBzAyvEfaSpJAnHCsBDe8JnrZ5ZhXxo\n",
       "f9HqTs6GB/6HyDIhQ9SYXVS8ucrKssrCHdCAcdp1oCP1q6mkKI49lEdMRHM1KFXDkmDJMdejDCKA\n",
       "FpxOJRU8SRJgJ/7BrgYphBiSGI5t+B7aTBAt2bxyePo4pLxgpAPGkmU4viR9Wkwcl1T4DefhLko6\n",
       "utXEbcJlK5+7GY/Yax4tl3rhvW4ZgaQyvIViHdAhsoarHyHN1GRrfrTIO7rTeNPqAZ3908TuA8gb\n",
       "uBI3tOjmLORREyu1aOtzGSiF9pgbsOT6DpF1/Ns1eMkkkcWPUb4ZEPf6oFcgY2bO4lI3/pIXTcFG\n",
       "8CXhduyFbY6/mRD7IfQvn+nYD/lZIWnkxE3Ld4iswS690ssk5at+1JwOGJftw3fIu50Oz3OAefLO\n",
       "04NlDtgfNW4ZC4/wkNmIjOzB8Ec/c0hZKKmNpy9E70plzQKNVoY8c0rcU7hq+rw2xeEo9oH0qPGQ\n",
       "OaQslFTh6ZORaPvP7w6erWm5tFU4bRUWjvk8aq8i5SfWZN5u7eOOSJbW/8cGrcajxcgl8dnGBtFF\n",
       "jwu5vFW4Qh32uMijBsORe1RoJG5fDxzDiqVMhfhRo6YI038r3yyb45CHndPsOFcBVVanaG5X3BGt\n",
       "hDjkEfsP+dbbtGIUTxIAAAAASUVORK5CYII=\n",
       "\" style=\"display:inline;vertical-align:middle;\" /></a>"
      ],
      "text/plain": [
       "([not](a), [not](y),[not](x_{1}), [not](x_{2}), ..., [not](x_{n}))"
      ]
     },
     "metadata": {},
     "output_type": "display_data"
    }
   ],
   "source": [
    "eq.lhs.map_elements(lambda x : Not(x))"
   ]
  },
  {
   "cell_type": "code",
   "execution_count": 17,
   "metadata": {},
   "outputs": [
    {
     "data": {
      "text/html": [
       "<a class=\"ProveItLink\" href=\"../__pv_it/demonstrations/adb9b2f509ddbe054d9346c1762d90e65aa7f2850/expr.ipynb\"><img src=\"data:image/png;base64,iVBORw0KGgoAAAANSUhEUgAAAccAAAAVBAMAAADBUzgRAAAAMFBMVEX///8AAAAAAAAAAAAAAAAA\n",
       "AAAAAAAAAAAAAAAAAAAAAAAAAAAAAAAAAAAAAAAAAAAv3aB7AAAAD3RSTlMAInZUiRDNmWbv3US7\n",
       "qzJazP2FAAAACXBIWXMAAA7EAAAOxAGVKw4bAAAEYUlEQVRYw6WXb2gURxTA397deJdc7rwGRZCI\n",
       "axSjQuAE/yUf9EiDlEJgCa1/wNT7IvjNRaqeEcmpaD4oeloKgsUe/UMhpSHYT34oxkI/FdsjKFhQ\n",
       "OP8h+EEvthFBMM6b2Z3bnZ0MQ2/hHe/e2/eb92bnzc4CQA5aukzCrQX//E+qZZ4bI8XyLdVoFJ62\n",
       "A39Wm2Bv6N2rzZK74ZM2tfYgzcLXNdV4wWjuyjqvGYNTUEixpRoNwxc5Qt1lBj6gc+4yTe8Al2S5\n",
       "pSINw1OuUEtm4HGds2Sa3jiXttZWq2n410KrGIIdjbNinJ7DZEtrRZqGHxTtZNgeizRLJG7cYkih\n",
       "8iXqKwY6ZbcwDZeA1KRG7CnDCFcxfLj3i0HVHku67z392NOHxPouhB2hK0BK1DQ9omOE0kEKFZzi\n",
       "9GX4G1fH6ARev0DABFDog1QDycw5gWMn4hW41HxCbmwmWfWHCDCS0GuPeuZzwbkNOoLcIClV1D+f\n",
       "EGMhCKNQ+Z6qe8swKnGEKZsfhcx02PmEQh5wlYancqm5TBn2RLI6BZec+0BYfX2+sT3vOz4buidv\n",
       "T4xEBh/S6Y1r+q7JUO1xPB1vYVeYXKPqGMAP0q3CROAKtNlhp0MNV7hKw7OQpPVlu6vycHU4Sn8f\n",
       "b0D9ldgKpnyHG5lZTkoCPohsQ7OdCIbi4hD/T4MJFvkNkHfSrU1Teg5e1SXvLSf7XhQJfBLi1eiA\n",
       "bCb68edmMEHueAcr65H0KWnxlEXh6Yq+SPCnWeFuPhOkUKHrjbzmXRfoJ2ECnJf18rI/CrGKWK60\n",
       "5hxx/CIDPQnpWfjcK7I/uNS44ywvMshlpJSDRarmLMoYv9jtghJSetzjzTyV32lF/0KmuDG8MXIT\n",
       "bj0dNbgjj3IHrQQ1Gr5v6h9IKLIif2YqUPDqu8CWOeJs4YBPpQiPBAmKSk2zXons2BBkkPNX4bIS\n",
       "sudmuS3HKVSGWKb9rhu+lZnIG5ykWvqtPNRJuFWG/UX+atjx7Dj8qigy/n53JZ33isRXDcPRDd13\n",
       "ZH+UIjwSvHD4a4INwaJCSpNhDRdhTglZuhYWexQqL6h9ZM2jGak9uGmC3kfu9szKRY4MjOWgHXOk\n",
       "4bu746W86kketree8Vfqz/iDuGxVOLrkQ41Hsv7AJYl9x4b4CRXXV9DSZGTsSO96kBm2DSCFSntd\n",
       "d9pnaSQUr6ydVDYjRYQv2ERYpFUVuEnxTeha6q/GZfARwHKmbo44mUUw2upJV13AdTiW5ZTloaNz\n",
       "9EqwcvbKx5lEkXyFx4TQyVtbJD/HJ0In766Xz5XnU+uvl0f8M3j0k6oQYqyE9ifKIq0GTG7nFJTb\n",
       "miKHqXwHdyO7m53BgxXbqf1wa+d/tpKx5NAALUjgoMN/fN/Oz6vfAPPzDbDY+YNEkNwiGL9B7BP1\n",
       "Z3oN1pQZhZH2aYpE4raeqcgqPn0Cv0j5ZmZ0UL4tcECmTQJ4GbHoZzCYMziFkSy7pc8Qo/BYsPk6\n",
       "TbCr9O5Os+RWcfkAAjBSKAQ+xIYAAAAASUVORK5CYII=\n",
       "\" style=\"display:inline;vertical-align:middle;\" /></a>"
      ],
      "text/plain": [
       "(a = a, y = y,(x_{1} = x_{1}), (x_{2} = x_{2}), ..., (x_{n} = x_{n}))"
      ]
     },
     "metadata": {},
     "output_type": "display_data"
    }
   ],
   "source": [
    "ExprTuple.map_elements_together(lambda x, y : Equals(x, y), eq.lhs, eq.lhs)"
   ]
  },
  {
   "cell_type": "markdown",
   "metadata": {},
   "source": [
    "**For efficiency, this is limited: ExprRanges must be aligned**"
   ]
  },
  {
   "cell_type": "code",
   "execution_count": 18,
   "metadata": {},
   "outputs": [
    {
     "name": "stdout",
     "output_type": "stream",
     "text": [
      "Expected error: Each of the ExprTuples must have the same number of entries when mapping elements together\n"
     ]
    }
   ],
   "source": [
    "try:\n",
    "    ExprTuple.map_elements_together(lambda x, y : Equals(x, y), eq.lhs, eq.rhs)\n",
    "    assert False, \"ValueError expected\"\n",
    "except ValueError as e:\n",
    "    print(\"Expected error:\", e)"
   ]
  },
  {
   "cell_type": "markdown",
   "metadata": {},
   "source": [
    "### Testing the `ExprRange(order='decreasing')` flag\n",
    "\n",
    "An ExprRange with the `order='decreasing'` flag produces an ExprRange of the form f(i),...,f(j), where 0 <= (i-j) and j < i (i.e. the ExprRange represents 0 or more elements and is in decreasing order)\n",
    "\n",
    "For example, if\n",
    "\n",
    "self = $f(3),...,f(6)$,\n",
    "\n",
    "then `order='decreasing'` would return:\n",
    "\n",
    "$|- f(6),...,f(3)$"
   ]
  },
  {
   "cell_type": "code",
   "execution_count": 19,
   "metadata": {},
   "outputs": [
    {
     "data": {
      "text/html": [
       "<strong id=\"test\">test:</strong> <a class=\"ProveItLink\" href=\"../__pv_it/demonstrations/242b6e4384db50ceb13d81e381fdba5995a516e20/expr.ipynb\"><img src=\"data:image/png;base64,iVBORw0KGgoAAAANSUhEUgAAAIcAAAAPBAMAAAA8KsGMAAAAMFBMVEX///8AAAAAAAAAAAAAAAAA\n",
       "AAAAAAAAAAAAAAAAAAAAAAAAAAAAAAAAAAAAAAAAAAAv3aB7AAAAD3RSTlMAIquJdkTvuxBmmd1U\n",
       "zTKBpmoTAAAACXBIWXMAAA7EAAAOxAGVKw4bAAABO0lEQVQ4y42Tr0/DQBTHv0uXrbl2W8MfgAFL\n",
       "UjELOcjUBCEIcASLWXDYCgSoTuBBIifJSEjl5CwONSwJpoaE12t7fZf2mn2T9t4n79tv7kcP6Owd\n",
       "S2iZ1C7mvQj6KQ1fTdSuwktybyAWNH40EOlxbc3Ivc44BMQPvFA3TAKGk4U1JPc+4RLo3SI+0w2T\n",
       "SL49JPfOMAoQSzzT1KaJapjUHqK8nRS9BHGCAz8Q/hpu1tDEQtx6QFR6d1N4c/SlvxR4cF4Q05cV\n",
       "sZCsoV7uHy+Ud0gzkXD3j3ZOgcEc3hsYfd+RAhWSNeBlucuyeI8KLy1npNdOu4MVOLE9WdWW40dl\n",
       "NWPmDT3V2W7M0wlrIY6uJjjX9QlNT3Iq/uzDX8kbpe6ruPGrrj+BLjgxdeun03S/BlfXVtpaYhpZ\n",
       "aQv9A7e1WQdV69/+AAAAAElFTkSuQmCC\n",
       "\" style=\"display:inline;vertical-align:middle;\" /></a><br>"
      ],
      "text/plain": [
       "<IPython.core.display.HTML object>"
      ]
     },
     "metadata": {},
     "output_type": "display_data"
    }
   ],
   "source": [
    "test = ExprRange(i, IndexedVar(a, i), j, zero, order='decreasing')"
   ]
  },
  {
   "cell_type": "code",
   "execution_count": 20,
   "metadata": {},
   "outputs": [
    {
     "data": {
      "text/html": [
       "<strong id=\"inc_test\">inc_test:</strong> <a class=\"ProveItLink\" href=\"../__pv_it/demonstrations/7241c433fd0852c7a6b5a5a4543aeecf72e6282d0/expr.ipynb\"><img src=\"data:image/png;base64,iVBORw0KGgoAAAANSUhEUgAAAIYAAAAPBAMAAADT6KqyAAAAMFBMVEX////MzMwyMjKqqqoiIiJm\n",
       "ZmaYmJju7u5EREQQEBC6urqIiIh2dnZUVFTc3NwAAAAqL9KcAAAAAXRSTlMAQObYZgAAAAlwSFlz\n",
       "AAAOxAAADsQBlSsOGwAAAYNJREFUKM+Vkr9Lw0AUx79tkqa/rF27aCcHpyJCN6lgdXEIKCg42P/A\n",
       "TIoUSceKgwVBBEF0dItDJ6tUwckOxbUO3aVY7CCoFF8ud15KKLYP7u57vG8+vPcuQOL13oaMzvMb\n",
       "RgxpvW6HP+lIurfoBY5NIDACglsp9FNoOToX3cR+Aet0qByJ3fRQhmtt1ACtC7UuE9vAKpcarcBt\n",
       "biiDWUN2tIRICdalTJxB/+Iy7GzKcAazRpLow7KxQx1VM25n3wh1geLa/wzX+m7iBFYGL0pbU9LQ\n",
       "nUQPE+kFGHNehu4HmMI6bWIZYVvJa9iLG7Cc8R1h3jB088nLYAln0z+8glmJcQ699dC5AYIFqCuU\n",
       "OKhNtehNZrBZPiyXC4zBEqpBW16IJZNbqZeeKG6yDWRlrf2BeWR9vSgmF2ymPFK05BMHKgOMuo8R\n",
       "FyJmR5tC31GT8pePNTkj8fhjexMiin+qURUl0QAQkxaaDq+DEf3v4qcieFXxXmdT4j8dIzRZkBNb\n",
       "G2N9/QtlPGBMzbXtxAAAAABJRU5ErkJggg==\n",
       "\" style=\"display:inline;vertical-align:middle;\" /></a><br>"
      ],
      "text/plain": [
       "<IPython.core.display.HTML object>"
      ]
     },
     "metadata": {},
     "output_type": "display_data"
    }
   ],
   "source": [
    "inc_test = ExprRange(i, IndexedVar(a, i), j, zero)"
   ]
  },
  {
   "cell_type": "code",
   "execution_count": 21,
   "metadata": {},
   "outputs": [
    {
     "name": "stdout",
     "output_type": "stream",
     "text": [
      "Expected exception:  Invalid ExprRange endpoints: 2 to 0\n"
     ]
    }
   ],
   "source": [
    "try:\n",
    "    ExprRange(i, IndexedVar(a, i), two, zero, order='increasing')\n",
    "    assert False, \"Expecting a ValueError; should not get this far!\"\n",
    "except ValueError as _e:\n",
    "    print(\"Expected exception: \", _e)"
   ]
  },
  {
   "cell_type": "code",
   "execution_count": 22,
   "metadata": {},
   "outputs": [
    {
     "data": {
      "text/html": [
       "<a class=\"ProveItLink\" href=\"../__pv_it/demonstrations/030352ad03a26998caa93158eab0ce285531847a0/expr.ipynb\"><img src=\"data:image/png;base64,iVBORw0KGgoAAAANSUhEUgAAAHMAAAANBAMAAABoRUxkAAAAMFBMVEX///8AAAAAAAAAAAAAAAAA\n",
       "AAAAAAAAAAAAAAAAAAAAAAAAAAAAAAAAAAAAAAAAAAAv3aB7AAAAD3RSTlMAIquJdkTvuxBmmd1U\n",
       "zTKBpmoTAAAACXBIWXMAAA7EAAAOxAGVKw4bAAABRUlEQVQoz32SMUvDQBSAv1htzya0oQjddLCD\n",
       "i1CkmygRO4s46OwkLurgbtEiOKWDg5sZBQcLLqUucRNc+hPq6iAFLWRQ6uViEkNoH+R4yfu+y927\n",
       "A21xwyKOUm2OifGP3zVzXlyY2eesMVGNeXFIvs3FylLwetniHq56Y82Az9SqkB+gV3F8wY8HeKRQ\n",
       "b49VA/6aPcieYG8zZKGvKgeIIRjj1YA/omhiW9zCzZ8qvpgdTFQVr3lkXWyXZcOEVZDtEd9M9Z6V\n",
       "KtKa3z/Fz3voLXKW0c1DoYP4kZVTXh1HqbbfKn9Q36NE8QX5VwtRWS9tQVnO+CSf8823Sl+pekeC\n",
       "uiOHbpj4gOLlgotueM6OZmJEB6r2+pJacAyoNgVR/nhvkCGhVlNqDNTZCdPj0Qia0V1b+5Q7sVJq\n",
       "M56kdpeoJNnpdIeTwC9sDFbNZH2qVQAAAABJRU5ErkJggg==\n",
       "\" style=\"display:inline;vertical-align:middle;\" /></a>"
      ],
      "text/plain": [
       "a_{2}, a_{1}, ..., a_{0}"
      ]
     },
     "metadata": {},
     "output_type": "display_data"
    }
   ],
   "source": [
    "ExprRange(i, IndexedVar(a, i), two, zero, order='decreasing')"
   ]
  },
  {
   "cell_type": "code",
   "execution_count": 23,
   "metadata": {},
   "outputs": [
    {
     "data": {
      "text/html": [
       "<a class=\"ProveItLink\" href=\"../__pv_it/demonstrations/42929fab92cf9c277cd97c705b1b2f8b5334c8640/expr.ipynb\"><img src=\"data:image/png;base64,iVBORw0KGgoAAAANSUhEUgAAAGUAAAAOCAMAAAABkSJkAAAANlBMVEX///8AAAAAAAAAAAAAAAAA\n",
       "AAAAAAAAAAAAAAAAAAAAAAAAAAAAAAAAAAAAAAAAAAAAAAAAAABHL6OuAAAAEXRSTlMAMrsiq4l2\n",
       "RO8QZpndVM3z6UwP0jwAAAAJcEhZcwAADsQAAA7EAZUrDhsAAADOSURBVDjLtVNbDsMgDAsEAuHV\n",
       "cf/LDjYNUQFVKw1/IAGundoC4AEIYQ+430T/L1lUmpDaNpwuwxX1AYwtqcjMc90oL6gPArKurD4s\n",
       "pgeSvKTeh88fad0Ojlc4IWezot6HrZFwUxr+xSSzpN4PLNcyXV71LRKvqVNB7Ujj4BLLqhJEnLok\n",
       "vKDOTAKCyANBlgFj8NAehlm+l4E6q7lcCltDkD9US1akBSoS0490f9xRzxp9zWVIUrAXXMOSjnmv\n",
       "ja21GLfBBf0XtVHjXSTt4A08kAchMSM4iQAAAABJRU5ErkJggg==\n",
       "\" style=\"display:inline;vertical-align:middle;\" /></a>"
      ],
      "text/plain": [
       "_a -> a_{-_a}"
      ]
     },
     "metadata": {},
     "output_type": "display_data"
    }
   ],
   "source": [
    "test.lambda_map"
   ]
  },
  {
   "cell_type": "code",
   "execution_count": 24,
   "metadata": {},
   "outputs": [
    {
     "data": {
      "text/html": [
       "<a class=\"ProveItLink\" href=\"../__pv_it/demonstrations/9fd1cc2b07323303ffd81994208d5f62a42ba2a90/expr.ipynb\"><img src=\"data:image/png;base64,iVBORw0KGgoAAAANSUhEUgAAAF0AAAAVBAMAAADWVP/xAAAAMFBMVEX///8AAAAAAAAAAAAAAAAA\n",
       "AAAAAAAAAAAAAAAAAAAAAAAAAAAAAAAAAAAAAAAAAAAv3aB7AAAAD3RSTlMAInZUiRDNmWbv3US7\n",
       "qzJazP2FAAAACXBIWXMAAA7EAAAOxAGVKw4bAAABrElEQVQoz42Tv0vDQBiGnzaJaaumnV2MDjoJ\n",
       "GcTVII4KwUFRBAsiOFYREV26iS4WJ0GQSp0cpPgPWAU3hYKriLMIivUXuHh30fRaOvQg99333pO7\n",
       "771LgAztNkXGvbb5c9kNy+45UII5ttLMONdhHB/MEM+DlZXZQCguMtdcXVzN0+FZx7AEdr4+lyhi\n",
       "VlqXsgsTsA1JTeyqYny05m9hNCAZMKKJ6RxOrTX/BS8eHXnWRGL1V5W4IPjvRm5qSAVL8nnMKssi\n",
       "szlQaq+P89bI55LKX+xd8C6JLCWR9VGL+PfG08mkvYj3MQociiz4c7ng0xmuP30q2xmWdCnrEfyF\n",
       "i/OqeOziv1+j2e9m5HfUo7Og6iHlh+dZIdF8nidhuIG9AKPIlSq8jNw2UcDOEuh47Acl7MC6ACpM\n",
       "SnUP61PGErOP4Si68tdwKuVZR6Junyep3sOpXGVm7OFv9N+6K6FgrQ09irfKpERgH4yIMnQ+6epC\n",
       "j9gwx500aUaIqa3uCZOasCGeS6eWEncyVf8E6vyLV9KFmPx451ndEsGNoPoIe7CsC13y54i5bf+P\n",
       "ffALS1NiZwGnao4AAAAASUVORK5CYII=\n",
       "\" style=\"display:inline;vertical-align:middle;\" /></a>"
      ],
      "text/plain": [
       "(j, 0, -j, 0)"
      ]
     },
     "metadata": {},
     "output_type": "display_data"
    }
   ],
   "source": [
    "(test.start_index, test.end_index, test.true_start_index, test.true_end_index)"
   ]
  },
  {
   "cell_type": "code",
   "execution_count": 25,
   "metadata": {},
   "outputs": [
    {
     "data": {
      "text/html": [
       "<a class=\"ProveItLink\" href=\"../__pv_it/demonstrations/3699efa526813a2cbda5e108d66b8f32f6e2cb970/expr.ipynb\"><img src=\"data:image/png;base64,iVBORw0KGgoAAAANSUhEUgAAAE0AAAAVBAMAAADx+n4ZAAAAMFBMVEX///8AAAAAAAAAAAAAAAAA\n",
       "AAAAAAAAAAAAAAAAAAAAAAAAAAAAAAAAAAAAAAAAAAAv3aB7AAAAD3RSTlMAInZUiRDNmWbv3US7\n",
       "qzJazP2FAAAACXBIWXMAAA7EAAAOxAGVKw4bAAABo0lEQVQoz4WSwUsbQRTGf5vNupsY15y9uOlB\n",
       "T4E9FK8u0mMLSy6iFAxIoccoIqVe9ib1YvAkFEokPfUU+g8YC70pBLyKeC6FiklbwYtvZtx1c8rC\n",
       "zvveN9/M+97MAFUmfVpRCCfqvqvhpRp+x5oormylc/5PE18tVikk4DRVtmDITdZTFwXNMxU6J/AO\n",
       "3OR5f69DsT9e8gBewz6UcmRlgP13XHcByzGlmKUcOdvCH47r/sOfkKmEHUmcFwNNboju3sw36jo4\n",
       "SpdQHPBeMpdjzc5H+HdG1ypp39ZIdAFek65kNYaZbmS6rc6GmS7CbvNZsvjJ/UbEtNnPUe5VFN1p\n",
       "gH+rdbidtA877eNj1sdyyHRb16UcmXPp46Xn8tWEcziMsTv80MZ6qDJeG7epEdYDGnyCXZno80ax\n",
       "hzj/VOyydmOQd2uocuh8EV8RvxR7Bd/U6tWV6yc00zfA2anfiLpHWQJHYMfpFWhUCvLUnBRocanM\n",
       "F7OrEjQTivkc9UH+M39YljNtZGRDXWmXHGWpR/SW7T0JQaYT5C728lRFPUormPjua/AIElxeEQzH\n",
       "8+AAAAAASUVORK5CYII=\n",
       "\" style=\"display:inline;vertical-align:middle;\" /></a>"
      ],
      "text/plain": [
       "(j, 0, j, 0)"
      ]
     },
     "metadata": {},
     "output_type": "display_data"
    }
   ],
   "source": [
    "(inc_test.start_index, inc_test.end_index, \n",
    " inc_test.true_start_index, inc_test.true_end_index)"
   ]
  },
  {
   "cell_type": "code",
   "execution_count": 26,
   "metadata": {},
   "outputs": [
    {
     "data": {
      "text/html": [
       "<a class=\"ProveItLink\" href=\"../__pv_it/demonstrations/f8794d578850574af8ecdf57d2b80ddc1df7f4100/expr.ipynb\"><img src=\"data:image/png;base64,iVBORw0KGgoAAAANSUhEUgAAAC0AAAAMBAMAAAAExCk6AAAAMFBMVEX///8AAAAAAAAAAAAAAAAA\n",
       "AAAAAAAAAAAAAAAAAAAAAAAAAAAAAAAAAAAAAAAAAAAv3aB7AAAAD3RSTlMAIquJdkTvuxBmmd1U\n",
       "zTKBpmoTAAAACXBIWXMAAA7EAAAOxAGVKw4bAAAAeklEQVQY02NgYFR2dGDAAsIE2H9gEebIZODa\n",
       "gEWc6wMDtwEWcbYChv4ALOL9Dgzz0YSapxgCxQ8w6PIIoNi4ke8jAwO7A88uLlQbF/AlAGVV7IT8\n",
       "GJ6XAwFUF1sAiwI2D/ULsM9owOZCgfeRqOKMq1atWsrAuvKIJQMAhs4Z9065t94AAAAASUVORK5C\n",
       "YII=\n",
       "\" style=\"display:inline;vertical-align:middle;\" /></a>"
      ],
      "text/plain": [
       "a_{-_a}"
      ]
     },
     "metadata": {},
     "output_type": "display_data"
    }
   ],
   "source": [
    "test.body"
   ]
  },
  {
   "cell_type": "code",
   "execution_count": 27,
   "metadata": {},
   "outputs": [
    {
     "data": {
      "text/html": [
       "<a class=\"ProveItLink\" href=\"../../__pv_it/common/3a62c13e156d62d52fe585fa37cc2172fcf685260/expr.ipynb\"><img src=\"data:image/png;base64,iVBORw0KGgoAAAANSUhEUgAAACAAAAAMBAMAAADxOqKKAAAAMFBMVEX////MzMwyMjKqqqoiIiJm\n",
       "ZmaYmJju7u5EREQQEBC6urqIiIh2dnZUVFTc3NwAAAAqL9KcAAAAAXRSTlMAQObYZgAAAAlwSFlz\n",
       "AAAOxAAADsQBlSsOGwAAAHRJREFUCNdjYOC7s28DAzJY+YDjOzKffRoDqwOyAOsHBpYDyAKcDQz1\n",
       "C5AF6jcw5MO1H9vzgKHegOES8wOIQMkD+QcMHBuYXVmhKkIZJIHKbh98uxEqMIthL4qL2P8xtJWj\n",
       "iMxj/JUOZT4NDQ1dwLA0eU8CAJx0IJeVhwRsAAAAAElFTkSuQmCC\n",
       "\" style=\"display:inline;vertical-align:middle;\" /></a>"
      ],
      "text/plain": [
       "a_{_a}"
      ]
     },
     "metadata": {},
     "output_type": "display_data"
    }
   ],
   "source": [
    "inc_test.body"
   ]
  },
  {
   "cell_type": "code",
   "execution_count": 28,
   "metadata": {},
   "outputs": [
    {
     "data": {
      "text/html": [
       "<a class=\"ProveItLink\" href=\"../__pv_it/demonstrations/d05fd6a875b105761cb7bfabd8640961f2382e260/expr.ipynb\"><img src=\"data:image/png;base64,iVBORw0KGgoAAAANSUhEUgAAABIAAAAPBAMAAAAbqIIhAAAAMFBMVEX///8AAAAAAAAAAAAAAAAA\n",
       "AAAAAAAAAAAAAAAAAAAAAAAAAAAAAAAAAAAAAAAAAAAv3aB7AAAAD3RSTlMAIquJdkTvuxBmmd1U\n",
       "zTKBpmoTAAAACXBIWXMAAA7EAAAOxAGVKw4bAAAAb0lEQVQI12NgYFR2dGAAgzAB9h9A6gEDRyYD\n",
       "1wYgax8D1wcGbgOwJFsBQ38AmNXvwDCfgYHD6wBD/wEGXR4BLp4LDOwOPLu4GDqYFzBwqNgJ+TEw\n",
       "8E5ggAJ+ARjrGYzB4ARn3YTSvHEJUBaXVwMDAK4cE8TyunSFAAAAAElFTkSuQmCC\n",
       "\" style=\"display:inline;vertical-align:middle;\" /></a>"
      ],
      "text/plain": [
       "a_{j}"
      ]
     },
     "metadata": {},
     "output_type": "display_data"
    }
   ],
   "source": [
    "test.first()"
   ]
  },
  {
   "cell_type": "code",
   "execution_count": 29,
   "metadata": {},
   "outputs": [
    {
     "data": {
      "text/html": [
       "<a class=\"ProveItLink\" href=\"../__pv_it/demonstrations/d05fd6a875b105761cb7bfabd8640961f2382e260/expr.ipynb\"><img src=\"data:image/png;base64,iVBORw0KGgoAAAANSUhEUgAAABIAAAAPBAMAAAAbqIIhAAAAMFBMVEX///8AAAAAAAAAAAAAAAAA\n",
       "AAAAAAAAAAAAAAAAAAAAAAAAAAAAAAAAAAAAAAAAAAAv3aB7AAAAD3RSTlMAIquJdkTvuxBmmd1U\n",
       "zTKBpmoTAAAACXBIWXMAAA7EAAAOxAGVKw4bAAAAb0lEQVQI12NgYFR2dGAAgzAB9h9A6gEDRyYD\n",
       "1wYgax8D1wcGbgOwJFsBQ38AmNXvwDCfgYHD6wBD/wEGXR4BLp4LDOwOPLu4GDqYFzBwqNgJ+TEw\n",
       "8E5ggAJ+ARjrGYzB4ARn3YTSvHEJUBaXVwMDAK4cE8TyunSFAAAAAElFTkSuQmCC\n",
       "\" style=\"display:inline;vertical-align:middle;\" /></a>"
      ],
      "text/plain": [
       "a_{j}"
      ]
     },
     "metadata": {},
     "output_type": "display_data"
    }
   ],
   "source": [
    "inc_test.first()"
   ]
  },
  {
   "cell_type": "code",
   "execution_count": 30,
   "metadata": {},
   "outputs": [
    {
     "data": {
      "text/html": [
       "<a class=\"ProveItLink\" href=\"../__pv_it/demonstrations/681cc0f565e159bd801fa5250cd56a65e21abb200/expr.ipynb\"><img src=\"data:image/png;base64,iVBORw0KGgoAAAANSUhEUgAAABMAAAAMBAMAAABy/puxAAAAMFBMVEX///8AAAAAAAAAAAAAAAAA\n",
       "AAAAAAAAAAAAAAAAAAAAAAAAAAAAAAAAAAAAAAAAAAAv3aB7AAAAD3RSTlMAIquJdkTvuxBmmd1U\n",
       "zTKBpmoTAAAACXBIWXMAAA7EAAAOxAGVKw4bAAAAcElEQVQI12NgYFR2dGCAgDAB9h8QFkcmA9cG\n",
       "BmYTAwYGrg8M3AYMUxjCGRjYChj6AxjyGPgFGPodGOYzMP5gYDvA0H+AQZdH7gcD9wQGdgeeXVx8\n",
       "QFEHBg4VOyE/oAL+A1DDwdogwIUhCMoCWrGCAQCUAxT8CaHNcAAAAABJRU5ErkJggg==\n",
       "\" style=\"display:inline;vertical-align:middle;\" /></a>"
      ],
      "text/plain": [
       "a_{0}"
      ]
     },
     "metadata": {},
     "output_type": "display_data"
    }
   ],
   "source": [
    "test.last()"
   ]
  },
  {
   "cell_type": "code",
   "execution_count": 31,
   "metadata": {},
   "outputs": [
    {
     "data": {
      "text/html": [
       "<a class=\"ProveItLink\" href=\"../__pv_it/demonstrations/681cc0f565e159bd801fa5250cd56a65e21abb200/expr.ipynb\"><img src=\"data:image/png;base64,iVBORw0KGgoAAAANSUhEUgAAABMAAAAMBAMAAABy/puxAAAAMFBMVEX///8AAAAAAAAAAAAAAAAA\n",
       "AAAAAAAAAAAAAAAAAAAAAAAAAAAAAAAAAAAAAAAAAAAv3aB7AAAAD3RSTlMAIquJdkTvuxBmmd1U\n",
       "zTKBpmoTAAAACXBIWXMAAA7EAAAOxAGVKw4bAAAAcElEQVQI12NgYFR2dGCAgDAB9h8QFkcmA9cG\n",
       "BmYTAwYGrg8M3AYMUxjCGRjYChj6AxjyGPgFGPodGOYzMP5gYDvA0H+AQZdH7gcD9wQGdgeeXVx8\n",
       "QFEHBg4VOyE/oAL+A1DDwdogwIUhCMoCWrGCAQCUAxT8CaHNcAAAAABJRU5ErkJggg==\n",
       "\" style=\"display:inline;vertical-align:middle;\" /></a>"
      ],
      "text/plain": [
       "a_{0}"
      ]
     },
     "metadata": {},
     "output_type": "display_data"
    }
   ],
   "source": [
    "inc_test.last()"
   ]
  },
  {
   "cell_type": "code",
   "execution_count": 32,
   "metadata": {},
   "outputs": [
    {
     "data": {
      "text/html": [
       "<strong id=\"empty_test_inc\">empty_test_inc:</strong> <a class=\"ProveItLink\" href=\"../__pv_it/demonstrations/fd42a13d9c77229550ecf0a085a27d56ba1f3b300/expr.ipynb\"><img src=\"data:image/png;base64,iVBORw0KGgoAAAANSUhEUgAAAHMAAAANBAMAAABoRUxkAAAAMFBMVEX////MzMwyMjKqqqoiIiJm\n",
       "ZmaYmJju7u5EREQQEBC6urqIiIh2dnZUVFTc3NwAAAAqL9KcAAAAAXRSTlMAQObYZgAAAAlwSFlz\n",
       "AAAOxAAADsQBlSsOGwAAAUZJREFUKM99kj1LA0EQhh/JXTbReFGwE+T+gVcE7MTCYGORQkhpsLUw\n",
       "rQQ5rSwsxEasJKUWwgl2isT6rGyjEAsrjUQtAlrEvb2vhOMy1bDv887Mzi4Yz/cOcXTdd8bGEH/Z\n",
       "yfVjYfKc4/pYa8yLU/QVxFYg7NbYQDy+pNp9vuC2QO+htZi/CZRNWEf31JTw+W0uIL+P3YRSoJwh\n",
       "fik2ja80q8+fUOxgO+wQWcUf2R7ZerpV8UafvIVt8ZTpKKu8n/hh2lyGgrx+0uYtQPGvfbQaOSdT\n",
       "1lVX8S2VI0qVCszVsU0PNIPzKFH8hOzqINoP3Wt/4FVZde9uoT2DcQjamjzSZBnKYeIBipcDF61w\n",
       "Fs+aiV7kjU9YSgwcA2pNQ9ZC9GEOZqvQSlgjgFuuwvRj0YVG9ACDQQ/hJKyNuIhbHVFG2ankhkeB\n",
       "f5H4XfjNQlyMAAAAAElFTkSuQmCC\n",
       "\" style=\"display:inline;vertical-align:middle;\" /></a><br>"
      ],
      "text/plain": [
       "<IPython.core.display.HTML object>"
      ]
     },
     "metadata": {},
     "output_type": "display_data"
    }
   ],
   "source": [
    "empty_test_inc = ExprRange(i, IndexedVar(a, i), one, zero, order='increasing')"
   ]
  },
  {
   "cell_type": "code",
   "execution_count": null,
   "metadata": {},
   "outputs": [],
   "source": []
  },
  {
   "cell_type": "code",
   "execution_count": 33,
   "metadata": {},
   "outputs": [
    {
     "data": {
      "text/html": [
       "<span style=\"font-size:20px;\"> <a class=\"ProveItLink\" href=\"../__pv_it/demonstrations/3eb86f789ffafc5d1c5621a829425fca3e24abd50/proof.ipynb\" style=\"text-decoration: none\">&nbsp;&#x22A2;&nbsp;&nbsp;</a><a class=\"ProveItLink\" href=\"../__pv_it/demonstrations/5d171408951f1e099ec924ac0dcfcbecbd5042bc0/expr.ipynb\"><img src=\"data:image/png;base64,iVBORw0KGgoAAAANSUhEUgAAAKwAAAAVBAMAAAAp2hhWAAAAMFBMVEX///8AAAAAAAAAAAAAAAAA\n",
       "AAAAAAAAAAAAAAAAAAAAAAAAAAAAAAAAAAAAAAAAAAAv3aB7AAAAD3RSTlMAInZUiRDNmWbv3US7\n",
       "qzJazP2FAAAACXBIWXMAAA7EAAAOxAGVKw4bAAACEUlEQVQ4y6WVMUhbQRjH/y/JM8mrNVEEFy2v\n",
       "xaF0kAgqmCmErkpwE5Q4dquDXbooDpmE4iAIERFUBF1cAy2o0FVFxE2wHTNoaEkXQft93z1fnndJ\n",
       "C3nfcLn87n//u3z33QVAGm2H1QymhUYy7du+cE0WyQgdQYh4a6IRofZcGNuOgk7Yj2h8KYxtYl4n\n",
       "7Ec0iVCxpoOkomPhbD/oYEzRBa6Ty9fBIx3I9/ynrhr6CX1sQVFerpLurAeqZhVnhX/aBvQlyee+\n",
       "xLm//RK26fDWEd+CXfKU00v4DPv9dUtrpY/lc9Qf1we3IbRMi9Xg5PDznTewCOwgzjNbhNIv4yv1\n",
       "7/TBMoTSR/IIxUMg6w1swL5H6tB6aGWr9JtI0bWvNLWt8KaLLr7At7V/IVFDotDaVvRWHcmMNymY\n",
       "W0lCFicky+AqmhYF5dP+jZdzw0CM0m1acsJF/6oOhyp/RReccLPCFdLpRvfisrD9Rway83R5qgUU\n",
       "+WJzI9zviL6Ldut69RSMCVVlVdJeTA4Mqd+zT7uZHfxxcQPrO+DsEnL4fu49dVggekpCipJwoNtW\n",
       "uTmAc/ME2DbqV1UfuoFRIwkNgRyZZZQL+xFtPBZsG/Mv0untJyBn2PoCvME3NHmo2I/psfe992Me\n",
       "mPKL6PGxBtt8pacaC+Rp3X7zUI8VnQmy5z4Rc5JreOgxo6jltv9+RZr8D1ou0b/DJ3yQcfTO7QAA\n",
       "AABJRU5ErkJggg==\n",
       "\" style=\"display:inline;vertical-align:middle;\" /></a></span>"
      ],
      "text/plain": [
       "|- (a_{1}, a_{2}, ..., a_{0}) = ()"
      ]
     },
     "metadata": {},
     "output_type": "display_data"
    }
   ],
   "source": [
    "empty_test_inc.reduction()"
   ]
  },
  {
   "cell_type": "code",
   "execution_count": 34,
   "metadata": {},
   "outputs": [
    {
     "data": {
      "text/html": [
       "<strong id=\"empty_test_dec\">empty_test_dec:</strong> <a class=\"ProveItLink\" href=\"../__pv_it/demonstrations/1f65f5bdff85b498149e65a9db93933d8ab6c1850/expr.ipynb\"><img src=\"data:image/png;base64,iVBORw0KGgoAAAANSUhEUgAAAH8AAAANBAMAAAByeazqAAAAMFBMVEX///8AAAAAAAAAAAAAAAAA\n",
       "AAAAAAAAAAAAAAAAAAAAAAAAAAAAAAAAAAAAAAAAAAAv3aB7AAAAD3RSTlMAIquJdkTvuxBmmd1U\n",
       "zTKBpmoTAAAACXBIWXMAAA7EAAAOxAGVKw4bAAABM0lEQVQoz2NgYFR2dGBAADQuTiBkIgJlhQmw\n",
       "/0CSQOPiAqyJDPUNYBZHJgPXBgZmEwMGJC4UdF7AaUDbBIbVEAVcHxi4DRimMIRDJCBcCOBz2YDT\n",
       "gPUMDJshCtgKGPoDGPIY+AXAEhAuFPDgNiCdgeMrREG/A8N8BsYfDGwHwBJgLmEDOL4wcH6AGnCA\n",
       "QZdH7gcD9wQGUKCAuQJIBnBg6gaq4/jDwHThIFgBuwPPLi4+oAscOP4yQLnILugHhhNYBsRA8EoY\n",
       "Ti9YALFBxU7ID+gF/gMMuxugXIbn5UAgAJbn3gFUvguIuRfACJC6JueHKg+Q/AgORJ4GNLeC5U9g\n",
       "eAGhDmGAC0MQAwMzAzYDDDAMYMYSyswmKxgYWtAUMtp+dmDgwEzYLSgKkADWPMCCKYSiDgDUTVW3\n",
       "ZlQJ/QAAAABJRU5ErkJggg==\n",
       "\" style=\"display:inline;vertical-align:middle;\" /></a><br>"
      ],
      "text/plain": [
       "<IPython.core.display.HTML object>"
      ]
     },
     "metadata": {},
     "output_type": "display_data"
    }
   ],
   "source": [
    "empty_test_dec = ExprRange(i, IndexedVar(a, i), zero, one, order='decreasing')"
   ]
  },
  {
   "cell_type": "code",
   "execution_count": 35,
   "metadata": {},
   "outputs": [
    {
     "data": {
      "text/html": [
       "<span style=\"font-size:20px;\"> <a class=\"ProveItLink\" href=\"../__pv_it/demonstrations/47e4b38b3e3c05b584735928aaa44732bfbfbfae0/proof.ipynb\" style=\"text-decoration: none\">&nbsp;&#x22A2;&nbsp;&nbsp;</a><a class=\"ProveItLink\" href=\"../__pv_it/demonstrations/4e9723ecc4405a23ab38a057b53b4330d1e4c0d20/expr.ipynb\"><img src=\"data:image/png;base64,iVBORw0KGgoAAAANSUhEUgAAALkAAAAVBAMAAADoXVL6AAAAMFBMVEX///8AAAAAAAAAAAAAAAAA\n",
       "AAAAAAAAAAAAAAAAAAAAAAAAAAAAAAAAAAAAAAAAAAAv3aB7AAAAD3RSTlMAInZUiRDNmWbv3US7\n",
       "qzJazP2FAAAACXBIWXMAAA7EAAAOxAGVKw4bAAACA0lEQVQ4y62VMUgbURjH/8nlesmZxsNRUE7b\n",
       "WVJoHZyODN2U4CAKSrIUHDO0IC4Gl45Nt0JLCWgRhJbgJihEZ0ERcdZVHIIaly5+730v7eW9Oxwu\n",
       "35C87/f+78+99777DoCHpBHlkGKaLiZ234tgr5i+TWyOdN1AViCpXU3ujg8GWWDq1Afg/tkga0xz\n",
       "AzBHrqyTBtPpQbi/0A/AqjL9KKrnYsIPF1N/GhtjpRE1ypxpU07AdJX+9r18NzSlpXEx9BWn6kSy\n",
       "sjTWd0X8/rcZoltUNt/gNJEpBSzlVMVifEkt1bGuBFZDm3OLTL/TNjpwA2ziQO1KphyFyWas+waw\n",
       "rQSFjn7NLabknmuj0sJPDPMbzWnveuLdf8D+qwRDjSh3onQyFR9fkOoixz1Bps+723fIdpSAVaFz\n",
       "55Np4pjsiri0xrtw6xC3JFMv5G6b1qSz7/Gy+oaNs21tPu8znRVDa8cp0LP79iNUGn72Cl2cnBGD\n",
       "/9kxZmo1dncCzV2WKNEb0p7PjU3RyQwXsVtWKW5PKDy52P1F0h2x31rvR+hWXl+fX7G729LcC4q6\n",
       "VwrIW7X0V1oufme2wHKfYNQQ/GGaral8Eoe0I0S5B8biTL9gLbKvCXrUW1D6BMzrX5j3Dz5ssy/M\n",
       "9wlSbUOQ95guh2Fkf0mbyNetjHptM035iVvkRAQbEfQJ+8N//+j6lUkAAAAASUVORK5CYII=\n",
       "\" style=\"display:inline;vertical-align:middle;\" /></a></span>"
      ],
      "text/plain": [
       "|- (a_{0}, a_{-1}, ..., a_{1}) = ()"
      ]
     },
     "metadata": {},
     "output_type": "display_data"
    }
   ],
   "source": [
    "empty_test_dec.reduction()"
   ]
  },
  {
   "cell_type": "code",
   "execution_count": null,
   "metadata": {},
   "outputs": [],
   "source": []
  },
  {
   "cell_type": "code",
   "execution_count": 36,
   "metadata": {},
   "outputs": [
    {
     "data": {
      "text/html": [
       "<a class=\"ProveItLink\" href=\"../__pv_it/demonstrations/42929fab92cf9c277cd97c705b1b2f8b5334c8640/expr.ipynb\"><img src=\"data:image/png;base64,iVBORw0KGgoAAAANSUhEUgAAAGUAAAAOCAMAAAABkSJkAAAANlBMVEX///8AAAAAAAAAAAAAAAAA\n",
       "AAAAAAAAAAAAAAAAAAAAAAAAAAAAAAAAAAAAAAAAAAAAAAAAAABHL6OuAAAAEXRSTlMAMrsiq4l2\n",
       "RO8QZpndVM3z6UwP0jwAAAAJcEhZcwAADsQAAA7EAZUrDhsAAADOSURBVDjLtVNbDsMgDAsEAuHV\n",
       "cf/LDjYNUQFVKw1/IAGundoC4AEIYQ+430T/L1lUmpDaNpwuwxX1AYwtqcjMc90oL6gPArKurD4s\n",
       "pgeSvKTeh88fad0Ojlc4IWezot6HrZFwUxr+xSSzpN4PLNcyXV71LRKvqVNB7Ujj4BLLqhJEnLok\n",
       "vKDOTAKCyANBlgFj8NAehlm+l4E6q7lcCltDkD9US1akBSoS0490f9xRzxp9zWVIUrAXXMOSjnmv\n",
       "ja21GLfBBf0XtVHjXSTt4A08kAchMSM4iQAAAABJRU5ErkJggg==\n",
       "\" style=\"display:inline;vertical-align:middle;\" /></a>"
      ],
      "text/plain": [
       "_a -> a_{-_a}"
      ]
     },
     "metadata": {},
     "output_type": "display_data"
    }
   ],
   "source": [
    "empty_test_dec.lambda_map"
   ]
  },
  {
   "cell_type": "code",
   "execution_count": 37,
   "metadata": {},
   "outputs": [
    {
     "data": {
      "text/html": [
       "<strong id=\"partition_test_inc\">partition_test_inc:</strong> <a class=\"ProveItLink\" href=\"../__pv_it/demonstrations/ac911cecdb00abbbe28da0127385a141dbb607520/expr.ipynb\"><img src=\"data:image/png;base64,iVBORw0KGgoAAAANSUhEUgAAAHMAAAANBAMAAABoRUxkAAAAMFBMVEX////MzMwyMjKqqqoiIiJm\n",
       "ZmaYmJju7u5EREQQEBC6urqIiIh2dnZUVFTc3NwAAAAqL9KcAAAAAXRSTlMAQObYZgAAAAlwSFlz\n",
       "AAAOxAAADsQBlSsOGwAAAUJJREFUKM99kj1Lw1AUQE9I4mtNbP0F0p+QQXArHSwuDh0ER7uL6CRI\n",
       "kbg7iIs4ieCigxAnh4pUwalOrnWIsxSKIgHt4PvQpCW0d3jcvHvOy83Ng9LrfUQW/e47U2OEv4oL\n",
       "SVaYPeNoZ6qa8eIEt4bf7ZjHvSZrsFuZaBoeJOEOcDpscmkqG7CK1a5NVA2PN4DiAeE5x5RjXTlF\n",
       "fIM9WTU8F1INI7YpJRQD3c4PM4OpquYRt0oNeLHfEpwmcjzik7lKVasir6n5aT72hFQLkV13LfnW\n",
       "SHzIyiGLjYZWQzUqtej9NNE8VaWK3kP/RjZcDliWp+7fLfTmteqsSNBpyKX+nyjA8E2lmtBjstMf\n",
       "qr91KddwCljPT8PgL29zDT5jaien+iN3Kr1GfncdWun+4zBCRDm1laVbX8FoZZz18hMeB34BqiVf\n",
       "63s9SEAAAAAASUVORK5CYII=\n",
       "\" style=\"display:inline;vertical-align:middle;\" /></a><br>"
      ],
      "text/plain": [
       "<IPython.core.display.HTML object>"
      ]
     },
     "metadata": {},
     "output_type": "display_data"
    }
   ],
   "source": [
    "partition_test_inc = ExprRange(i, IndexedVar(a, i), zero, four, order='increasing')"
   ]
  },
  {
   "cell_type": "code",
   "execution_count": 38,
   "metadata": {},
   "outputs": [
    {
     "data": {
      "text/html": [
       "<span style=\"font-size:20px;\"> <a class=\"ProveItLink\" href=\"../__pv_it/demonstrations/de519e99b3df9e64ee7b04259f2d05b1e89e34670/proof.ipynb\" style=\"text-decoration: none\">&nbsp;&#x22A2;&nbsp;&nbsp;</a><a class=\"ProveItLink\" href=\"../__pv_it/demonstrations/ac315dcd44469c77d8bce89b71bb957f982b0def0/expr.ipynb\"><img src=\"data:image/png;base64,iVBORw0KGgoAAAANSUhEUgAAAOAAAAAuBAMAAADD4QgWAAAAMFBMVEX////MzMxUVFRERES6uroi\n",
       "IiIQEBCYmJhmZmYyMjLu7u52dnaqqqqIiIjc3NwAAACW8nlqAAAAAXRSTlMAQObYZgAAAAlwSFlz\n",
       "AAAOxAAADsQBlSsOGwAAAtdJREFUWMPtl81rE0EYh3/bdpN0k2zXgyAI6lWl6D/gBwo9ecihhVI9\n",
       "KApCDhrsqaKYixcrtDdPQrBQDxISA4JSA7lU0EJdeyko1dgcPEkjFNRUqTvv5mNK3DTzDgQE5xBm\n",
       "l2fmN7vzZvIEQBnsZnMGxUv8wAGXMWgJGm1VfYg1qxM4mFEeEknpBIbTykNC0GpJ5RGv9QIfKI+Y\n",
       "FtV99KNcbuvFr7t8G1p8gbXEkXJ/Tar1azjVuRYkforqYIzaoa4CL3iFehWRBKLFvH9nPoW7wOPg\n",
       "6vV5QBCvlJ/wirfAKsw8buOsf2cGOA9jLRFc2MQjXvX6BzmBoePIncYlDPmH3GVYm0AsONDncU4E\n",
       "jigHeq805+IO7BpCdMhZvxGudgwkHtZ7EbiovIcnvAlKOBz7XIOZglcs1i/0zS5ToNWOi2oivhy3\n",
       "ROCk8hN6dd3vxsYjhveErvWTlrCYTlNgTpSF+KD7zQ7xWKbAaeXAvd4sw0/X33mvdKiEMe8JHn04\n",
       "MOxQoDnhAaY4vcYbHQH4fIoCR5UDTafeoaKJNb+AtIdv2vAmYCw83yrBTvCP3zWcAaLYEZhvw6PS\n",
       "eVPjHf0nG1MV7wHZ5mwvtlxY7b+v2Vb3xo8SKozjd06+2JkQb6fdv69WyUs4mtBYkYYP/W//cuvh\n",
       "xtu6IswS56Vevs1VXRFmiLOeCDNO7lBvKzSpK8LqVqopwl3xElDQFeFueBmY4ovwk8IRibdvrThB\n",
       "vD8hBkHizBbhNM3S4Pvy8YtBPAHAJ5A4s0V4ExtOizecaOAAf8KBt7QbfBG+WQ+s88JqA3bAB7I5\n",
       "kDizRRh4BomPPwzi64BLgZN8EYYxAYnHnBvEExAr5/y/o1wRBioZSDyMb0E8AV9AgaNsEYadtiV+\n",
       "3rG/d+T3L8y8hBBntghX9uzLtC7NTDi5izhvZHxx5orw9e1t6dIorpQ78+Fj90HirCXCHHHWEWGG\n",
       "OP8BLlpHyFsQRQwAAAAASUVORK5CYII=\n",
       "\" style=\"display:inline;vertical-align:middle;\" /></a></span>"
      ],
      "text/plain": [
       "|- (a_{0}, a_{1}, ..., a_{4}) =  \\\\ (a_{0}, a_{1}, ..., a_{2},a_{3}, ..., a_{4})"
      ]
     },
     "metadata": {},
     "output_type": "display_data"
    }
   ],
   "source": [
    "partition_test_inc.partition(two)"
   ]
  },
  {
   "cell_type": "code",
   "execution_count": 39,
   "metadata": {},
   "outputs": [
    {
     "data": {
      "text/html": [
       "<strong id=\"partition_test_dec\">partition_test_dec:</strong> <a class=\"ProveItLink\" href=\"../__pv_it/demonstrations/5b6792a0cbd5a3726221d759bb668182834b40970/expr.ipynb\"><img src=\"data:image/png;base64,iVBORw0KGgoAAAANSUhEUgAAAHMAAAANBAMAAABoRUxkAAAAMFBMVEX///8AAAAAAAAAAAAAAAAA\n",
       "AAAAAAAAAAAAAAAAAAAAAAAAAAAAAAAAAAAAAAAAAAAv3aB7AAAAD3RSTlMAIquJdkTvuxBmmd1U\n",
       "zTKBpmoTAAAACXBIWXMAAA7EAAAOxAGVKw4bAAABV0lEQVQoz32SsUvDQBTGvzSxvSYhDcXZxa5C\n",
       "wEwOclYHJxEHXRx0UhdxcLdIqWOCOAp2FBwsuEhd0k1w6eAfEP+DggpRVHyXM4klpDfcvZf3+949\n",
       "vgugzC5xZKvuTmPi+sdv2pUoK0zt4qQ1UZrx7AB6j86hTDs+bqBcNsMipeRV1wH0EQw6tJGs3AJ3\n",
       "KDnaTpFU8hfYAspH8NaB7T/pHtg7rFDtFUklf4iaDY/jisZYlVL2hqqIDL9IGvNKhHIAL8CcaWuM\n",
       "BGQP+0JpOID2TGFeJvyL+ZlINK9ws69jQFL2TZVjPHW7wBmHJ4wTW/w9DWLeols5WGOxvqb44tYH\n",
       "6nq6/NIgd60fGPdicGqDfhIIQPIRaoGcxJpfeA1gJg/aCZUP4DE3cApIm5J/hJ5ZTRKjVd0HnJw0\n",
       "BbCCjTQ+/wzQThLLbdpgPCdtZ03c67HKOKvlHR4HfgG3dFoxBfTpBgAAAABJRU5ErkJggg==\n",
       "\" style=\"display:inline;vertical-align:middle;\" /></a><br>"
      ],
      "text/plain": [
       "<IPython.core.display.HTML object>"
      ]
     },
     "metadata": {},
     "output_type": "display_data"
    }
   ],
   "source": [
    "partition_test_dec = ExprRange(i, IndexedVar(a, i), four, zero, order='decreasing')"
   ]
  },
  {
   "cell_type": "code",
   "execution_count": 40,
   "metadata": {},
   "outputs": [
    {
     "data": {
      "text/html": [
       "<a class=\"ProveItLink\" href=\"../__pv_it/demonstrations/7395bca08a1b3c2d742e0d6a729cbf9350dc8b500/expr.ipynb\"><img src=\"data:image/png;base64,iVBORw0KGgoAAAANSUhEUgAAADkAAAAVBAMAAAAOWFv7AAAAMFBMVEX///8AAAAAAAAAAAAAAAAA\n",
       "AAAAAAAAAAAAAAAAAAAAAAAAAAAAAAAAAAAAAAAAAAAv3aB7AAAAD3RSTlMAInZUiRDNmWbv3US7\n",
       "qzJazP2FAAAACXBIWXMAAA7EAAAOxAGVKw4bAAABC0lEQVQoz2NgYBBgwA7A4kwGOGQ3gQgTEPEc\n",
       "XYqvgIGpgYGBNQHEWYsuy3WBgSGVgYG9AWQ6hqwWULadgYETxH6Ri25wG1CWM4DBDMRxQJdlYQPK\n",
       "sjUwlIAMFkCXVQTJslxgyACyJRjQZBkbQLIcCQyLQQajy7IwgGSZJzDMBqoRgMmGrQKBdQyNYFm+\n",
       "DyBZIQY0vYwKYFnuCSCT9969+/MKsiz33bv35zowMC9gOATmz2VgCEDRzgly1QEGXzDnDwPrNxRZ\n",
       "/gPAYHRgeAVi1/y/xLAKWTP7+b8KDFwbGLgeQAWYA9DDWgpoeAHcj+igAogPQtlB6JKMQKsZYqAc\n",
       "BXRZHgGI17EDRQYGAGhpO7ASYUggAAAAAElFTkSuQmCC\n",
       "\" style=\"display:inline;vertical-align:middle;\" /></a>"
      ],
      "text/plain": [
       "(4, -4)"
      ]
     },
     "metadata": {},
     "output_type": "display_data"
    }
   ],
   "source": [
    "partition_test_dec.start_index, partition_test_dec.true_start_index"
   ]
  },
  {
   "cell_type": "code",
   "execution_count": 41,
   "metadata": {},
   "outputs": [
    {
     "data": {
      "text/html": [
       "<span style=\"font-size:20px;\"> <a class=\"ProveItLink\" href=\"../__pv_it/demonstrations/1df7d05565663fc86e7a2bfc38fbca6327bca7fa0/proof.ipynb\" style=\"text-decoration: none\">&nbsp;&#x22A2;&nbsp;&nbsp;</a><a class=\"ProveItLink\" href=\"../__pv_it/demonstrations/7140f599305b18f6e4785920ae8f5006b7f3eb350/expr.ipynb\"><img src=\"data:image/png;base64,iVBORw0KGgoAAAANSUhEUgAAAOAAAAAuBAMAAADD4QgWAAAAMFBMVEX///8AAAAAAAAAAAAAAAAA\n",
       "AAAAAAAAAAAAAAAAAAAAAAAAAAAAAAAAAAAAAAAAAAAv3aB7AAAAD3RSTlMAInZUiRDNmWbv3US7\n",
       "qzJazP2FAAAACXBIWXMAAA7EAAAOxAGVKw4bAAAC5ElEQVRYw+2XzWsTQRjGn91kzVe7DZ5bu5aK\n",
       "vVRSqII9hRAUhMhSPFiopHjymINevBgUe1L8oiAoGtBSqRfBU0Gh+g9YinqOJ8GDrbZRoWB9ZzYf\n",
       "I3Fj5h0ICM4hzITf7DMfz755AiANdrM4k+wMXzDlMSZNwqCN6U9x5kwE9/jaU2JlE8F4SXtKAkZt\n",
       "QXvGETPBc9ozzgt3v92v2m0ot/cvb0OLL7CWuJLuqylev4U3nb2g8PPSB8uyrXUl+IiMehexCnXr\n",
       "fp0p4yKsK+PVUGNLPprLUv+o9g7v0QI3kaTJ9mbwzSXgMfqz9s1QY0v+Ml5Qf4MjmFhF8RnwvC54\n",
       "H84O3Gq0EmpsyT/AABXFFW1BOtKihxt0UAcCQecr4qKXDH1BJW/VkKCiOKV9h6/pARm8j6Rth2TI\n",
       "LM4W+ucmYJ+lbjsu3CT5fTW5pGvaOyRf93mRpRgmSND5JpcwVaICMuuhKGwkPuT3zY7kXdqhF7xV\n",
       "eu0TPWX95NAhqyx2uEw7ODP6YZ0c6v5EclEcraheS42OAAK+hgE60qfagsm6+9388e0MIo0XcKZq\n",
       "/QAOt+FNIDCNVTEov7RmRJvr8ONUJrNteBPACF7ySv+rRuf69wymGwM3N56G0/77Ot2Szl0ABhnl\n",
       "d1Yd/K5gt9NeyGp1cgknJjRWZJCH/rd/ufXw4i3TIMwKzpO9PM0x0yDMCM5mQZhRuRO9deiCaRDW\n",
       "T6WGQbgrXgEKpkG4G14F5vlB+FThncLjdLjbAyA/Chmc2UG4JJ7S5N2R8LAhgbiXWpXBmR2EdzBc\n",
       "bfGIhAtKIFHFF3Eb7CCMq3XBOh8uGADDPu5ABGduEKaSf0LlheCf+QDY8PEEIjhzgzDlrEWVF4Ih\n",
       "vARI8Lb8O8oNwpTYfJUXgiG8BOhItyCCMzsIWyUrrQzlHXbgA9NQcGYH4cHPH31lKAU78LaXWguC\n",
       "MzcIP9zdVYbWsW2vM58/6AfB2SgIc4KzSRBmBOdfR6oVhhsJrekAAAAASUVORK5CYII=\n",
       "\" style=\"display:inline;vertical-align:middle;\" /></a></span>"
      ],
      "text/plain": [
       "|- (a_{4}, a_{3}, ..., a_{0}) =  \\\\ (a_{4}, a_{3}, ..., a_{2},a_{1}, ..., a_{0})"
      ]
     },
     "metadata": {},
     "output_type": "display_data"
    }
   ],
   "source": [
    "partition_test_dec.partition(two)"
   ]
  },
  {
   "cell_type": "code",
   "execution_count": null,
   "metadata": {},
   "outputs": [],
   "source": []
  },
  {
   "cell_type": "code",
   "execution_count": 42,
   "metadata": {},
   "outputs": [],
   "source": [
    "from proveit import fa\n",
    "from proveit.numbers import Complex"
   ]
  },
  {
   "cell_type": "code",
   "execution_count": 43,
   "metadata": {},
   "outputs": [
    {
     "data": {
      "text/html": [
       "<strong id=\"assumptions\">assumptions:</strong> <a class=\"ProveItLink\" href=\"../__pv_it/demonstrations/0cce80121a2a770bdede45f72ae6473622a68bbf0/expr.ipynb\"><img src=\"data:image/png;base64,iVBORw0KGgoAAAANSUhEUgAAAQcAAAAVBAMAAAC57DawAAAAMFBMVEX///8AAAAAAAAAAAAAAAAA\n",
       "AAAAAAAAAAAAAAAAAAAAAAAAAAAAAAAAAAAAAAAAAAAv3aB7AAAAD3RSTlMAInZUiRDNmWbv3US7\n",
       "qzJazP2FAAAACXBIWXMAAA7EAAAOxAGVKw4bAAADHElEQVRIx61WSWgUQRR9s/TsPfYpBPEwihIP\n",
       "LoNoQAkkRwXFJgcPISEdQ8BLSA5BxNOgoBfBuXhwgYzEeGi3QVT0IHQiCiYiCSIuqAQFxSBkTkKI\n",
       "B6uqq6ZrqnsmLVjw4f+aeq9f1f/1awAYcC3MiOC/D/bpaNG1UCNbUCb6/rwwcWi1GrRYu/dqBPHJ\n",
       "q8FUAnmfBnu5If9cWdahxMsmsF3lepZdgFYLRuSKT4FBEan8HBktEbmWa+Q4LIX/RuO+3o0REQlT\n",
       "WfTROAiUAxHQr8dLSItI5RfIESBZcq35eCyc3URAalz59Y2TMFAJRupdGEKmGa9AngcTmm5ZB3tk\n",
       "EbjEtzVn32TO4pmIpYrYYdts13p7oc0nwodMm+gkYec/iDjhFuhxkZZFfWmrIuLRNnESxpdojyLC\n",
       "j0yUMEFCaujdqdR2RylIxBHmttVLYxFOrlqREZGRejqMHOaFCM7vR8YX2M7Y7sbTjZURz5aDRJxj\n",
       "7hA8qh/adEVGJAxPRH68r48HnN+PTFmYIiG1qLGhsVl8S1pBIvYz15KoUsWusoxIeIVp4GzsJS8F\n",
       "zu9HxsqgrYSahm76jWM2HXeJZ6ZpYzpt25dt+44nYoVd+Stk0W1Ohbe6K8JF4CdlcLgI3fzAs+vy\n",
       "ByDztboI8j2lILvNoJN4whgdaT8Y0Coyol8+CW1BpMPlD0CSJIp0+DoNRrUgEQeYW5Gp8gVHRmRk\n",
       "Efiaa+x9fmSsglkSzrKiXlNux1o8SMQF5m6pL3tNbJcDzUNE6+9LbolEv0ieJH4fEimHXTl27VK1\n",
       "RhH5Wrsi4qghrjMS9SIeJkYKctDyEMPiN7bqJLTfEr8PiWQPlunLxM7OUdLxXukTnydHycwt95g+\n",
       "PXQnv6867O3JTHuIgXm3mvJj12ipA7bp8fuQyFSRIUdGDenCeh2THSrPafYwb75i7JP8B3N2w2MV\n",
       "MyV+H3Kj+yIR04sXzfUeMDqavnU9LRo/KZUW/KeIzTBbKU6F+lezqcm8VmgB6kUL/ojDr3U/kh3V\n",
       "UCJmmsxHW4GIwOb8OVrukYJroUY07J/R8GMz8Be0YegYTXmQqgAAAABJRU5ErkJggg==\n",
       "\" style=\"display:inline;vertical-align:middle;\" /></a><br>"
      ],
      "text/plain": [
       "<IPython.core.display.HTML object>"
      ]
     },
     "metadata": {},
     "output_type": "display_data"
    }
   ],
   "source": [
    "assumptions = [InSet(Add(j, Neg(i), one), Natural), \n",
    "               InSet(i, Natural), InSet(j, Natural)]"
   ]
  },
  {
   "cell_type": "code",
   "execution_count": 44,
   "metadata": {},
   "outputs": [
    {
     "data": {
      "text/html": [
       "<strong id=\"f_i_to_j_dec\">f_i_to_j_dec:</strong> <a class=\"ProveItLink\" href=\"../../__pv_it/common/0bddaaf076f4370ef99072b6bd75245122135a110/expr.ipynb\"><img src=\"data:image/png;base64,iVBORw0KGgoAAAANSUhEUgAAANcAAAAVBAMAAAAnc2Y5AAAAMFBMVEX///8yMjLc3NyIiIiYmJgi\n",
       "IiJERES6urqqqqoQEBDMzMxUVFTu7u52dnZmZmYAAAD1zdHuAAAAAXRSTlMAQObYZgAAAAlwSFlz\n",
       "AAAOxAAADsQBlSsOGwAAAplJREFUSMeVlj9oE1Ecx3/JJc3lcrneoJMOhaqrQRwKQogojtqlWrRK\n",
       "0FGHgCB0OwcHqdJABx0csgg6pUOXblcCLg7N0ikIqegotC5dOvj7vb/3Lu8e9cE9fnm/z32/93vv\n",
       "3bsAqFZWXb4tAPzHcL6VbfQSdbXWLO0ldpWXZzNbMujoR4q9P0bZKVzPcjzzHq92TiFYQ7rjdtG6\n",
       "ELyQ9OQrPfoeXtUxlNIMzjJhjNFjU+f74Sn2F91mWhe8WNIfX5HBL05UphmcZSJbAR6Z3XWbGbqC\n",
       "rp2yuC/GPmmaZ+pQZFZPXV45XU43lyn0YzF2TuM887rQrORctJwuoyu7j2jmIlzHEZU8UbTI/MFl\n",
       "a3dsZs1th1dGF0Y3JD3fkr7jdQxuap5nsNRmrW8zq8SuyrQuTOsdQV8d0GA1gSA5xOCtxnlmFeBL\n",
       "FNvM/L7LTOmCtzCfCHqTL18PQtjCYKhxnvkAkNbpKcPzK9QGyiw4cpkpXRTeTAV9oAZ9UljX+IE0\n",
       "Y/BsZTVnZVoX4Lekn4Mst7SNmm80zjM4jXAhtE7jsstM6/IzgdFbbHAOJ2q/h1vnDk0Yx3nmGf4+\n",
       "aVo3SFez2ZZm7iZdKJ8ImgV8Yw7LHbbTYZ/tB5GZ0HRfyr9Ef+W2JjY8ljepX1ldqBwJ2uerHGCR\n",
       "jdsYPKDa19j7yDOf8drJvWeN3eMdxHqSfULBVHYrKRi60KApIDoSb+ZD8fVh6/COndo8Ux0Urcpl\n",
       "UKzR/BRMXbaZkd4oJZlzUh67ND8yYxzNRuNn7Hj2oAJDt5HcEyfy/T1BzPFP6RXqQnoSlXla9Anu\n",
       "KtZsIzB0h8mqoG/9FINhVyt71KnMtwIz/njebKIFhm7U7uliRFtkt1r+WJRbdrNrZ/tbsKjofza0\n",
       "sP+ts+Z8AAAAAElFTkSuQmCC\n",
       "\" style=\"display:inline;vertical-align:middle;\" /></a><br>"
      ],
      "text/plain": [
       "<IPython.core.display.HTML object>"
      ]
     },
     "metadata": {},
     "output_type": "display_data"
    }
   ],
   "source": [
    "f_i_to_j_dec = ExprRange(a, fa, i, j, order='decreasing')"
   ]
  },
  {
   "cell_type": "code",
   "execution_count": null,
   "metadata": {},
   "outputs": [],
   "source": []
  },
  {
   "cell_type": "code",
   "execution_count": 45,
   "metadata": {},
   "outputs": [],
   "source": [
    "from proveit.core_expr_types.tuples import negated_shift_equivalence"
   ]
  },
  {
   "cell_type": "code",
   "execution_count": 46,
   "metadata": {},
   "outputs": [
    {
     "data": {
      "text/html": [
       "<span style=\"font-size:20px;\"> <a class=\"ProveItLink\" href=\"proofs/negated_shift_equivalence/thm_proof.ipynb\" style=\"text-decoration: none\">&nbsp;&#x22A2;&nbsp;&nbsp;</a><a class=\"ProveItLink\" href=\"../__pv_it/theorems/d6c0fed2eba654fb582fce42ec2461b2ba4807f30/expr.ipynb\"><img src=\"data:image/png;base64,iVBORw0KGgoAAAANSUhEUgAABC0AAAAZBAMAAADnBsmQAAAAMFBMVEX///+IiIgiIiIQEBB2dnbu\n",
       "7u5ERETMzMzc3NwyMjK6urpmZmaYmJiqqqpUVFQAAAB6qHgnAAAAAXRSTlMAQObYZgAAAAlwSFlz\n",
       "AAAOxAAADsQBlSsOGwAACqdJREFUaN7tW3+MVEcd/+7evt29fbt3S4NKvIqXayu1hOZarTYN6JZK\n",
       "1VrwnaUo0XJH9AhpKJ6QNP6h3gMjiYnSDUlNExGXUvAPabolKLQlumiKtkW70JqD2sCdmDZNm3pN\n",
       "vEhRE+f3fGfezNuL4Y/TMMncvtnv9/OZ7+x83nfmzQMAu/xlIIaU0sF8pfxvl8zAEoCrBtpJSz0d\n",
       "WJ/rIyuKitvGF6p4BB7Pvh/hHfvN6YzF2QygM2LWMaeMWI3jJKnl1v+fLj4gKm5Dqeq4Ndpugr2z\n",
       "70d47/Wb0zpyh5UYQGfEbGNOG7Eah9DFJL1+1Zj4HvpRafl0kUDMqVKp8QoQfioS7UwTrsY+3PIy\n",
       "qX0WunAd8W6l96B5oTDKvB0IHALpKPhqv5PrajcxqS7ElshC6BnvEPPhFcADWf4PD1qNQ+jiaWp4\n",
       "xJj4sEE+umOfLhKIOVXWigqwamtbXGdr0B0hH2YJaOa71gSve2qG/H04vQfNC5k6937YGQbuqLvp\n",
       "5EqGpQaQQARv/jSyELqkx5x7fRnwQMrTPrSsQhffoYvWiDHxBZoRdnjXkQRiTpVjogIsOxCpayjj\n",
       "X5lZQtctlqG6eCG9B4OXe7/gDAN31KtS+EHslgxLDaA3mfQ/GCGEwdMh5q5XRoEHEtZ9aFmFLqj+\n",
       "cm1zA0Fls9KriwRiTpVBUaE0o9q03ILWaGbpAp8uuqK0Dixe5p1EDFodPaE8Thl+tziJBw2EoQuF\n",
       "MHnSY+ZcNJBs1YeWVeiCbj27rY3lyZT9ZT2JmFPbizqvRLr9ss3KbpRVmeWsVxfdqYu1xcu8Ewgc\n",
       "AuvoDnDrYreLmKHvALcudjt50mNeDjKQh8Z8aFnl88jNAwMftXTRNTBwTc3/PGIj5lIJa7xC+cKN\n",
       "TdEeoml5lc7d3HKYLLh9LZcucpMpHSBeGFoovBMIHMJh+sUeePkX5ozsvH2bKyw1AI0wdbHK0kXx\n",
       "rwuqHWL+481vggjkRS9aVqmLIwCj1sSHY5CP/LqwEXOp6Lu3tyrbtX3k4jntwy3kvsuVBl26KKc+\n",
       "i2teaHa1uDdHHBqg5UZ9+6qOIPhX5cxSY0ZKt8LXI0dYcgAIYeriOWtm98X5mU4xv6Ny02tetKxS\n",
       "FzuhOGlNPPliZ8r5BUcE/IFlLHHH8o8zJB3GpjmD9tZxJnU1iOFLuF1N2s2OlUO2zavMmOS60H6K\n",
       "XLyknbllCcC3w7pLF5XBtNgUL2Riujek3gkEDmEJpbz4eOERY0buacEhV1hyAAhh6uIlc2aDpRD2\n",
       "d4i5yB9OaSA3edGySl3koxx9Lg2eaemDq1G4C/Ne+NovP4d0wRE5PheLSP0Nuwz+xr7I86xIPJ4X\n",
       "Zla+QoB6803AolFcfBf8dlKR8EKQtye1tm4a2TUzEiNZAhu8ApyX7YD9GOPamVtuA4i6aJ/BLnaf\n",
       "jyldFKbTdKF4CfH5iHsnEDiE22h8S7mMSUr5CE8pv+YPyeMuYlolYi0LbpHWxbjJE07Tx/D0mCvT\n",
       "MpDCRS9aVqmLSpVtIvPPj2ldnNLbzm+8dj9cDyveg3QhEPavIHZyXBfryM+G01BhHpHlYxj0mCA/\n",
       "l4vCSJMwhdmLZalm7PUSduFg6GK5alfoZO+zd2F0us5HrnxRGuy8h+N9HBLeCQQOgXaU/fERa9/5\n",
       "MQguucKSA0AIM1/sM3m6RmC40SFmvqOlgWQGvWhZ1Tl4/Thb3SJ00N1dljdvSKNrFc608Dk4R6AM\n",
       "KA7VkC6eBn48pjXbb53JkAYjf7XazCES1mnDeWwT1rx2da6j15HNqt09Sfo9rX03q6y6J3CuI/1p\n",
       "utiMFoprhTdHoP0FDoF2NNx+YsyYkeAdfsR02kVMK0KYujhtzuxwle0lU2POT8pA8pORDy2r0sVK\n",
       "+ptWLqxEE587S+DB3fNjcewahnh/wRClhWx4ffQHOFGcTxs3IF2QDrLSrHShTj0omDQY+cQr25gu\n",
       "BAn7bQD2qpSw+vhnxGlKtqHtiFk70N6rvMqVlF4PN4igTtBouQ+3rCftSznnvnNE++ISgckLxUvC\n",
       "u2wf8+EQ1tPHgGi4bZwcBP+GnvoZHlaCmFaEMHVxwtJFG94g2y0WQfJZgY+iqyoD6W3VfGhZlS6+\n",
       "y6bgBJ744ifIny/E43HAB/z7CUMXFDHEEkzIcvvUD+8hG8FgWuuiSL7+vjQrXVTkBoOCK01OPpG7\n",
       "j60vlCTcQMomggyqM3Jk19M18c9sEKDsiBk54KdGNmf8erzY4slsmGGEZRVdTn9gZ9yLMi9R3+Bd\n",
       "CVItzMvvePVgafBMGh3BGzA8Zs7IejjdbPKwEsS0IoQqn49VVlY8+WplccgjcITLR/xQQwbSu7/q\n",
       "Q8uqdNHD8tUzeOLhdfbNViix9SOo1gxdUMT3WD67N0en+qZ2QS//TBclMuUHpFnpoiRvKwoujXDy\n",
       "CWi+FxQJKwegeJ/Mi2GzMMi40EmUwYwc6D6mn1e516LXPSdFMsteh3ZhW0h9yzq/6Lnw7lsiLzHf\n",
       "xfSiKf8MRCYv9IyILJa1FzYcAu3oAcg8aWbwdfO/OTUmcqxNTCtCyPL2J/e0ZFbWTxRTn975PhEB\n",
       "5dHhLlYjPg8ykPJhL1pW6z37JkMXfJuyEMo/2rDhAcjloiCyzevVeUHxn0fQ8s90USGKP8fND9J7\n",
       "PGa6KIzI1nra4OQTsJpuYwUJK+dYKuWuXY0M4XoQ0J1iMiMH+XxEazip25Se6exPoC3ZMd9yvB2U\n",
       "r7mtjyxelp+3KwQui7wdGSeNPKwE8aKUZ85+53nndsVjFjaKX0EikCRaVksXH7d1EVyETfcW2Fw/\n",
       "/i3I2boIZlgvvTFdlR6l/1wku1/rgiiATVVv7FxHKLjS5OQTUDoFgkSsEwQ5/EXhOhznn434MnFD\n",
       "pO2aGTmgV0DnutvGCyX+lox2KC3lZtqrN+5rLQ5g8Pa0X4yMF3XWmyhPR8YbKx6WRZz6Fky97juY\n",
       "jDmXdK/Re/QnyZd0B50vG48ldBHMJPLFrYVLz/KDzVoTHrXNlXozIJ1uhdXQU92SIx+9mcS+k5ix\n",
       "LjJVDaaNUXEWsVCS6H3lWbnT7YrHD0YwD0hn01Vt18zSQe74YlY/tBa1QbweDiiBsmz03ZEjytcs\n",
       "Qxidj8fbS4S34+0yDmGjf5Z3uIhV0H6EO+ah5L6TjCI7Wp/FiNU4TF0UBhO6+Pkf5rdgB8kK5ben\n",
       "7tyTSCdTcWEZndKt7Xzc8zvyEb4f6WIjH9xC1fVn/17VwyVg2qDkhQ/H0CNJ9E+zboF8dDl26m5K\n",
       "Rzp7soF+OsUsHST1CKvHj6K2/EmYcJVlje+pLrYOZ/GhKuIN+xr+acQhrPHrYqOLWAXtR7hjTkqZ\n",
       "jqLcF89ixGocpi50jjGPhoM7N9xvn4PrHMDO3EX+k8+NeXlqRc+adhvYNVYDkbedp1R4siumfXfC\n",
       "QZRtouI2ZBw3YNH9T+JgwezexGzT3gv85rSO3GElBtAZMduY00asxmHoIn9uzK0L1/sRVfZ3/2wQ\n",
       "SnznUYoMXYQk/qPUjMtRb6MU+R0F235st5nDGK6Uy1MMXeTmwX+hi1bYF0FZJBwwdAErCOmX+4zp\n",
       "Ljd8DY0W4Vgba/o+BD9S2szM4Uq5/LpAZVf6fxDZ1en/jxT1SVvkOnxzNTxHi75m8ovoynxenpIZ\n",
       "WApw1TWt/wDC6nQVDKBfNgAAAABJRU5ErkJggg==\n",
       "\" style=\"display:inline;vertical-align:middle;\" /></a></span>"
      ],
      "text/plain": [
       "|- forall_{f} [forall_{a in Integer} [forall_{i, j, k, l | ((j - 1) - i) in Natural, k = (i - a), l = (j - a)} ((f(i), f(i - 1), ..., f(j)) = (f(k + a), f((k - 1) + a), ..., f(l + a)))]]"
      ]
     },
     "metadata": {},
     "output_type": "display_data"
    }
   ],
   "source": [
    "negated_shift_equivalence"
   ]
  },
  {
   "cell_type": "code",
   "execution_count": 47,
   "metadata": {},
   "outputs": [],
   "source": [
    "# negated_shift_equivalence.instantiate({i:Neg(i), j:Neg(j), k:subtract(i, one), a:Neg(one), l:subtract(j, one)}, assumptions=[InSet(subtract(subtract(Neg(j), one), Neg(i)),\n",
    "# #                                                                  Natural), InSet(subtract(subtract(j, one), i),\n",
    "#                                                                  Natural)])"
   ]
  },
  {
   "cell_type": "code",
   "execution_count": 48,
   "metadata": {},
   "outputs": [],
   "source": [
    "# f_i_to_j_dec.shift_equivalence(new_shift=one, assumptions=[InSet(subtract(subtract(Neg(j), one), Neg(i)),\n",
    "#                                                                  Natural)])"
   ]
  },
  {
   "cell_type": "code",
   "execution_count": 49,
   "metadata": {},
   "outputs": [],
   "source": [
    "# f_i_to_j__shift__eq_dec = \\\n",
    "#     f_i_to_j_dec.shift_equivalence(new_shift=one, assumptions=[InSet(subtract(subtract(Neg(j), one), Neg(i)),\n",
    "#                                                                  Natural)]).lhs.entries[0]"
   ]
  },
  {
   "cell_type": "code",
   "execution_count": 50,
   "metadata": {},
   "outputs": [],
   "source": [
    "# assert False"
   ]
  },
  {
   "cell_type": "code",
   "execution_count": 51,
   "metadata": {},
   "outputs": [
    {
     "data": {
      "text/html": [
       "<span style=\"font-size:20px;\"><a class=\"ProveItLink\" href=\"../../../numbers/number_sets/natural_numbers/__pv_it/theorems/132c57ec1224a4beaf274a23bd799047020206590/expr.ipynb\"><img src=\"data:image/png;base64,iVBORw0KGgoAAAANSUhEUgAAAEEAAAATBAMAAAA9n32KAAAAMFBMVEX///9mZmYQEBCYmJgyMjKq\n",
       "qqrMzMwiIiJERER2dnbc3Nzu7u5UVFSIiIi6uroAAAA6K1lcAAAAAXRSTlMAQObYZgAAAAlwSFlz\n",
       "AAAOxAAADsQBlSsOGwAAAPlJREFUKM9jYMAHGBkIAQ6yVWz/0bKBYdKnB3jMaOU7wMD9AZ8txxdM\n",
       "ZmBQYJDoaOroMMCq4mgDywKGAmxm3CgvdwDRp2y5HLCqeHIbyjjFk3AToYLvzq65vWBxLm+Y0lMM\n",
       "DRwP4Co4Oc4y7F8AYrEsQKhI5K4ugIXpO/YGhvUJYBUMCBXMAREKMN6G/Q8Y4jeAWEnlQNAAUcFw\n",
       "mgeugiGegeEImLEDyQyGPdwFcC5Q+jM3iMGOrILtQgOcq8nA+psTxOC9ABNqA+JrcBVc3xh4HczA\n",
       "TFeYGIjB6ADj8RUwcB8OADP39IFdzJDyCaif2wFbfLxsL8cUBwB3/0NP0Yie0QAAAABJRU5ErkJg\n",
       "gg==\n",
       "\" style=\"display:inline;vertical-align:middle;\" /></a> <a class=\"ProveItLink\" href=\"../__pv_it/demonstrations/96dd4986b373fbee9972953d348bf3583754fa910/proof.ipynb\" style=\"text-decoration: none\">&nbsp;&#x22A2;&nbsp;&nbsp;</a><a class=\"ProveItLink\" href=\"../__pv_it/demonstrations/87bedcc731cb364acbc98d939cb18ef3aa020af10/expr.ipynb\"><img src=\"data:image/png;base64,iVBORw0KGgoAAAANSUhEUgAAAnMAAAAXBAMAAACSZNRYAAAAMFBMVEX///9UVFREREQiIiIQEBCY\n",
       "mJhmZmYyMjLu7u6qqqrMzMyIiIi6urp2dnbc3NwAAABm9RoHAAAAAXRSTlMAQObYZgAAAAlwSFlz\n",
       "AAAOxAAADsQBlSsOGwAABINJREFUWMPtWE1oHGUYfprdbGZ3s5N6UghC9SQKGimGUlSKULAR6qDS\n",
       "igpdKK29FPfSsyMYPISQgXgQD3ZBEWzBjIgRGyKp5JCbW0UEY2Cbgwhik5Om2prO9zvffPvOzmdy\n",
       "3Rd2mX3neZ73fZ+d+b6dRRcsfAyCCr+fO7/y928GLpExGrP3xkq+ddXOwCU6vqKt21jsSuveG3iU\n",
       "EyMhZd1I5D0rrTs38CgnhpuUdS8DP0jrjg08yovnKeseAi6H3Lpqa2BRXlyirPsLWIi4dRW2S9xc\n",
       "/4PYnB/8NnbaxEkcKUkmsXecS7+uWgT9BmGdx6wLuHUjQbINn8QTYY/Wandox6UmiSMl6TrAXnEu\n",
       "/TprEfTT2rqzh1k8yRy+m1gXc+tKEfBugLM9Ut5xVCYcStI4UpJMEuGKc+nXVYuiv09cddy6Dreu\n",
       "nJx6C3gGmOarnndaYirbKHXkR2/jvtxvzsRhY1lmuaSkaUkzOXvjgdwxTFxj3fF3p+hDxXTL1FLR\n",
       "p2iWLuZYoG7YxLrvY23dc/DuoLbETb/6pcSUD2FuRX6s9LkATdxwPHpIZLmkpGlJM9nsczGYuNfx\n",
       "nZt1og8ZchilpaJP0QxdzrGas01cjtQN6/2L4e1krxXV5iVkLsYZ9XFsxf8nr6aJK7fxn/huuKSi\n",
       "SclM8g622nn3jombwljXyTrZhww5jJpNRp+iGbqcY55Y6/AwcEb8OBmK4d3GgdZHpnUe04pwf7Ur\n",
       "xh4O2Ri996yN2wpxgieFpKAJydBKvsqm8HpHsHD+DsoRitb5tI9Try01tXWp1rmri1BFw2I6nwN4\n",
       "ibrqXgHeFD+JGweBxzDfbJrWzbWYp9XJir5iGhPw/pZn9EEPbiHEU+KMkGQ0Ick5mSR+tNT4gY2r\n",
       "7aAUpGdyCLoP743jOKmsS7WmV4NyVxbNdk/T+RzARcq6UuRNCetqSY13lj8fb5vWlY4kouO/3Lym\n",
       "rfs4+a4OJ68S+1ImIQ9sXFLyBZ6UkpwmzjFyJlk7IvipGjuwcYl15Zgns7iUMGn24c+0sKOvOq31\n",
       "+9cY00X1GKmYTedzAE9T1nkXv2jLB7Gj1vLAPfhAI4V1/iMM0HupW7jkQr9tJjlNnEvJMrkZZvi6\n",
       "iywuuWHHIqpyTh8H4tFjepiUNs6XfFG03xiSLubwJwr+dDpFWdexrPsNtxKVXgULJ5bXNMlpcrm1\n",
       "kn7T75pQFTaObxONoj2iky7wlWZbDZPSpnC+poo2iulijkpQYN1QN7XO68htIjYtmYX/6JULwEzv\n",
       "+mrh6vHoQSPJaEpyxkpuXvk0NPkqbNwSrlOV8/rYQumz9qy0LtXaxtEPVdGZYjqfA5tFf3V68peY\n",
       "//PduHYCf769DtQ1hH38JCrv7iY7fO+cNg4bi6GRZDQlGVvJF3d3Tb4OG9dYv0BVzuvjOuo/JY2w\n",
       "YQxaYsRyoIrGxXQ+Bx7vY901/m4+HVdJXOT4LETiqs7JfeCcGq7+P3qd3471tiNpjXwad3wUp3Fr\n",
       "zsl94JwaXtsfvSAC8t9S139V3SWD/fSzx0acxRzmvQdUQP6mhRT8SAAAAABJRU5ErkJggg==\n",
       "\" style=\"display:inline;vertical-align:middle;\" /></a></span>"
      ],
      "text/plain": [
       "{n in NaturalPos} |- |(a_{1, 1}, a_{1, 2}, ..., a_{1, 0}, a_{2, 1}, a_{2, 2}, ..., a_{2, 0}, ......, a_{n, 1}, a_{n, 2}, ..., a_{n, 0})| = 0"
      ]
     },
     "metadata": {},
     "output_type": "display_data"
    }
   ],
   "source": [
    "Len(ExprRange(i, ExprRange(j, IndexedVar(a, [i, j]), one, zero), one, n)).computation(assumptions=[InSet(n, NaturalPos)])"
   ]
  },
  {
   "cell_type": "code",
   "execution_count": 52,
   "metadata": {},
   "outputs": [
    {
     "data": {
      "text/html": [
       "<span style=\"font-size:20px;\"> <a class=\"ProveItLink\" href=\"../__pv_it/demonstrations/0fc28cdaf656aef52e1e90fb1082b95fb5cf95270/proof.ipynb\" style=\"text-decoration: none\">&nbsp;&#x22A2;&nbsp;&nbsp;</a><a class=\"ProveItLink\" href=\"../__pv_it/demonstrations/fb388557576807311462c7d631dddab2726c4b880/expr.ipynb\"><img src=\"data:image/png;base64,iVBORw0KGgoAAAANSUhEUgAAAnMAAAAXBAMAAACSZNRYAAAAMFBMVEX///9UVFREREQiIiIQEBCY\n",
       "mJhmZmYyMjLu7u6qqqrMzMyIiIi6urp2dnbc3NwAAABm9RoHAAAAAXRSTlMAQObYZgAAAAlwSFlz\n",
       "AAAOxAAADsQBlSsOGwAABLRJREFUWMPtWF1oHFUU/pL9yezfJD4phkr0SSxopRhKUSlCwVaog5bW\n",
       "P+hCqfalmBeffHCUFh9CyUB8EAW7oAimaKaoKTZEUulD3txaRHAb2AaUQrHJi7rV1nh/5s7emT13\n",
       "9zb7ugeyGc5833fO+ebnzgya4OFiEFS43dy5Kn6/G7hERjnkv5Vls3WF+sAlOr6lrVtdaEbWvT/w\n",
       "yBAjPmXdSOA8HVl3bOCRIXJVyroXgZ8i6/YMPDLFs5R1DwJnfGFdYWpgkSneoqz7C5gPhHV5vkpc\n",
       "a9wgFudt34dWiziNIzXJJLaOs+nEUosgXyasc7h1nrBuxGPL8AE85ndoXWoOt2xq0jhSky5kSd5i\n",
       "J7ZaBPlwbN3RnTwe5w7fYdaFwrpMAJz0cLRDytmL/A6LkgYcqUkmgS3jbDqx1KLIHxBnnbCuLqzL\n",
       "sl1vAk8Bp8Rd7/Tl+yQmv4FMHc5hgX/5XM1UU8dpITSd1Xt8XVNP/vbx/cY5dJx9yE4qDX4LapPl\n",
       "cKtL6F5TJ6uYpy5YZt2PYWzdM3Buo7goTK+qY5SdwMwyzn7Nt4fqJeNCrOO0EJp5eSRjTT25Dd8Y\n",
       "TdBx9iE7eRU/cCdistDKheWJ7jV1cnwNG5aJM4G6YJ1/kdtga62odRvr8gSbCXGE/Zvl28VaxTiF\n",
       "jtMOjtAcXXb/0TQTyTlcMV48Os4+ZCf7Mcqe9mOy1MrW8F/3mjpZxSxxr8NDwBH5cDIcwrmFoalP\n",
       "Iute4mM6XCvAvYWmsiTDVpPOyyeNyx07uyCzUjPniwGEpp9KAk9IaCrSuEOvLFap2oZObraQZbdv\n",
       "SY611n3sUzX93mQxBvACddYdBN6Qj8SVMWA7ZqvVyDrwAzMzxT0tTObV2VR6mxX4G3JPvNGBO3XJ\n",
       "yzblLqmJ6Gy9IkmJ5PkwJSc20jjntb04oO0yMOJOii1xmAW5rTXvc9NEzWT3JFmOAZygrMsEzn5p\n",
       "XZG19+7SV+M1ZV1xF9vN/pzxX69diC/E99icO9nxyvCXk0lEG2nc9fMY9UU20sSnvtLk7ETS2S4F\n",
       "2nJ8I41zp6fQktkksM2Y1Dth02fF8xknx1rMuudUzXiMtlSKLMcAnqSsc07wJVO8iO1Wuci6NU76\n",
       "MHG98+HZ6V/oPNXTuHFxa21n3YdjzTY7SmK+pkPjNlK4obC8h6xNd+K2MBoocsxiF+wtVbPLGIos\n",
       "x3B39PjodChpnVt12blaT1pysub+yVQ6FVI4dpt9vahnf8dNpVlJJtlZv+7pUBUpHLvD56s1qrah\n",
       "k+hOL8gxSy4TsmalN1mOkfd6WDfcbFvn1LE297kPJ9QtOY2Mn2OvwtOd99cUzt3A7o+0rPvI3HGl\n",
       "OZ1K7sLBRCEVadw6Ml/UiNqmThZxkXfCyJpWKSyPqZrTvcliDKz1+tTpTESd/nInLO7D85ubrFIM\n",
       "+eOdBj4Lio1zzODOMdO48hiWPC2b3dzcUJphKvnl4gO6QBxp3EWUfqZqmzqpNI6zTjhZZ60u+Kpm\n",
       "2JMsx8CjXay7IH71l+MCiQssH6xoXME62QfOppPC3ZFL4nIs1SxZK+TLuOX7kAG3Yp3sA2fTyUpf\n",
       "Y/QKj/xaavtV9S40vX4a2mInXl9jJOJ/cUYJmxqEmjAAAAAASUVORK5CYII=\n",
       "\" style=\"display:inline;vertical-align:middle;\" /></a></span>"
      ],
      "text/plain": [
       "|- |(a_{1, 2}, a_{1, 3}, ..., a_{1, n}, a_{2, 2}, a_{2, 3}, ..., a_{2, n}, ......, a_{0, 2}, a_{0, 3}, ..., a_{0, n})| = 0"
      ]
     },
     "metadata": {},
     "output_type": "display_data"
    }
   ],
   "source": [
    "Len(ExprRange(i, ExprRange(j, IndexedVar(a, [i, j]), two, n), one, zero)).computation(assumptions=[InSet(n, Natural)])"
   ]
  },
  {
   "cell_type": "code",
   "execution_count": 53,
   "metadata": {},
   "outputs": [
    {
     "data": {
      "text/html": [
       "<span style=\"font-size:20px;\"><a class=\"ProveItLink\" href=\"../../../numbers/number_sets/natural_numbers/__pv_it/theorems/132c57ec1224a4beaf274a23bd799047020206590/expr.ipynb\"><img src=\"data:image/png;base64,iVBORw0KGgoAAAANSUhEUgAAAEEAAAATBAMAAAA9n32KAAAAMFBMVEX///9mZmYQEBCYmJgyMjKq\n",
       "qqrMzMwiIiJERER2dnbc3Nzu7u5UVFSIiIi6uroAAAA6K1lcAAAAAXRSTlMAQObYZgAAAAlwSFlz\n",
       "AAAOxAAADsQBlSsOGwAAAPlJREFUKM9jYMAHGBkIAQ6yVWz/0bKBYdKnB3jMaOU7wMD9AZ8txxdM\n",
       "ZmBQYJDoaOroMMCq4mgDywKGAmxm3CgvdwDRp2y5HLCqeHIbyjjFk3AToYLvzq65vWBxLm+Y0lMM\n",
       "DRwP4Co4Oc4y7F8AYrEsQKhI5K4ugIXpO/YGhvUJYBUMCBXMAREKMN6G/Q8Y4jeAWEnlQNAAUcFw\n",
       "mgeugiGegeEImLEDyQyGPdwFcC5Q+jM3iMGOrILtQgOcq8nA+psTxOC9ABNqA+JrcBVc3xh4HczA\n",
       "TFeYGIjB6ADj8RUwcB8OADP39IFdzJDyCaif2wFbfLxsL8cUBwB3/0NP0Yie0QAAAABJRU5ErkJg\n",
       "gg==\n",
       "\" style=\"display:inline;vertical-align:middle;\" /></a>, <a class=\"ProveItLink\" href=\"../../../numbers/number_sets/natural_numbers/__pv_it/theorems/1a8a7907b709bbd24c48a9933f16dbe96429f5cc0/expr.ipynb\"><img src=\"data:image/png;base64,iVBORw0KGgoAAAANSUhEUgAAADUAAAAQBAMAAABEqSrGAAAAMFBMVEX///9mZmYQEBCYmJgyMjKq\n",
       "qqrMzMwiIiJERER2dnbc3Nzu7u5UVFSIiIi6uroAAAA6K1lcAAAAAXRSTlMAQObYZgAAAAlwSFlz\n",
       "AAAOxAAADsQBlSsOGwAAAOZJREFUGNNjYMAE23+0bGCY9OkBAzbQyneAgfsDVimG4wsmMzAoYJc7\n",
       "2sCygKEAVexGebkDiD5ly+WAJvfkNpRxiifhJkiO786uub1gES5vmKJTDA0cD4BynBxnGfYvAImw\n",
       "LEDIJXJXA+XesTcwrE8AyzEg5JgDIoDu3LD/AUP8BpBIUjkQNEDkGE7zgPwQz8BwBKx6B5I+hj3c\n",
       "IHcCJT5zg0TYkeXYLoBM0GRg/c0JEuG9AJNrA+JrQDmubwy8DmZgIVeYHIjBCAwFvgIG7sMBYKE9\n",
       "fWA3MaR8AurhdkANs5ft5cgiADLCQKtntbI7AAAAAElFTkSuQmCC\n",
       "\" style=\"display:inline;vertical-align:middle;\" /></a> <a class=\"ProveItLink\" href=\"../__pv_it/demonstrations/0e68684dd4bffc167655dbf68d8a8ba353b61f760/proof.ipynb\" style=\"text-decoration: none\">&nbsp;&#x22A2;&nbsp;&nbsp;</a><a class=\"ProveItLink\" href=\"../__pv_it/demonstrations/284460f6628c73609a68bb6929fcaf0efb30f9e30/expr.ipynb\"><img src=\"data:image/png;base64,iVBORw0KGgoAAAANSUhEUgAAAoIAAAAZBAMAAABX4FKPAAAAMFBMVEX///8AAAAAAAAAAAAAAAAA\n",
       "AAAAAAAAAAAAAAAAAAAAAAAAAAAAAAAAAAAAAAAAAAAv3aB7AAAAD3RSTlMAIolEdjJUEM2ZZu/d\n",
       "u6v6CvZmAAAACXBIWXMAAA7EAAAOxAGVKw4bAAAEkElEQVRYw+1ZPWgUQRR+e8ntej/RUwQR/Aka\n",
       "QUQkoJAiIKcYURA5QQXR4izERnANKUTBu87S68QgeCCiqUwELQJiEEQCFlcolooEFAsJxj9s4s57\n",
       "M7OzuzPreGe5r7jc7nzf9958O7s77wKQRffhbfniZy70EgUozEEFvzqZG6ZIM2jVsPMdtuLXg5lT\n",
       "ptiDn7lh3VjRFw66g5lTpuhvmx0Mzs+Rg5czo8xxPc3BMz45OJn5ZI6pFAedt0AOTmc+maPkmx1c\n",
       "D6vRQbeZ+WSOFW2jg86bEzfRwQJ7kWwaWquBfNhXtcmiJRvYemzXqXuoxA6Ye69xsO/opaHXUFpe\n",
       "XkQHmct9M/Auub8erQz8tMirJ+vZBmy3qXuoxDJrsSkcLLzCQEcHFqBBW0XmYLkOcLUNt5Ndyyzb\n",
       "dP89tGQDW4/tOnUPlVhmdac1a3B3uQOba9LBUjB8B+A5wBV8InoPRNeyCOVBfpjWA6pkpedB9viu\n",
       "j+xADiKWi/ExbcOkku2DKhF+ROdh0cxGgDzyixoH/cYwXPQjDj4FbwnyB/ACHD8iXkMdCJB0WEi5\n",
       "jCpZeYkhu4WLIhxELBdrmZejSv6HQHURsXmozWxq1tiDQbcG4SLAJ1DvYu8bFAOvXdK+wGGNKjwU\n",
       "h9gDGtZ+hCyD2Eu02sUgYbnYkrgTkhEh2/9YQpWIiM1DaWZTs8bu4jnNc5DZ99uTDg5UwfsBK5tn\n",
       "VQfZEm3U4ZNboUKwB/SSSQNchDx170ALEEjs+6GD7CRhUQwAx5K3VJxcnDx+mFeUFrISjqd5hGJU\n",
       "GU1EI+YngCRT7OjW4CNwf+akg+x9/RoutFqKg94vtNadL8hLGfSAjSYfYV/CI4Xs3Z2FGRribNgp\n",
       "riSSCMvEAMekHH6RRyr5ymi7VIkBowVEKyE8d1CK8cpoIkmxcMICyGVwrxd3MLgI/c170sF8MJtr\n",
       "+48t1NQ1+Ipd0oVtm8akg0EPWH4Z/J1nN35LfDCcQnYmmhDsBxiQs/MvhYPIJiwTAxpjAqjEdEk8\n",
       "Rl53CFb5MWBYwHyiEo6nwqUYr4wmohGTExZALlMe1u0Hg4vwuS4dhBeRe54yu37sccJ6QDifWPwh\n",
       "jsgrq/joDYEbfTl4PtJQ8jE3eUPFyQswClqgoRLC88KlGK+McifFwjMCSDIb0n5ZEA5OaRzMxR/I\n",
       "rAeE5M9guegjF0q1QqumAJ2WUxGDg5GGko/lkkXFyY/hVh50QEMlhOeFSzFeGeXOpdAFkGQmbRwc\n",
       "qIQmeIOUeSLi4Dj1gF6yN5pQHQzIm6F8sqYAN5445Y/zN0lVbSgDLBtTE4k3SYzsLMKLc6ABGipB\n",
       "vJhHKIaV8YloxMIzAohpnY6Ng16Hp97+tZp/AmtuDAGEXrHD03XsAfuTAqErRN4L/TtAAT5bXg7Y\n",
       "bFA5ycQCLBuD5EWJk/vew/62DmioBPFiHqEYVsYnohGrxoGUllZXioNj+Kl2464WV7fbkOnJerZr\n",
       "ucmzTN1LKSnAfXRR/2VbOqLt2P0eyAb2iOWPBV3+Q3GkN7W+7v+P2dadLPZCNrDbdpLF/zkPezVb\n",
       "4B84477Eqxd1ywAAAABJRU5ErkJggg==\n",
       "\" style=\"display:inline;vertical-align:middle;\" /></a></span>"
      ],
      "text/plain": [
       "{n in NaturalPos, n in Natural} |- |(a_{1, 1}, a_{1, 2}, ..., a_{1, n}, a_{2, 1}, a_{2, 2}, ..., a_{2, n}, ......, a_{n, 1}, a_{n, 2}, ..., a_{n, n})| = n^{2}"
      ]
     },
     "metadata": {},
     "output_type": "display_data"
    }
   ],
   "source": [
    "Len(ExprRange(i, ExprRange(j, IndexedVar(a, [i, j]), one, n), one, n)).computation(assumptions=[InSet(n, Natural), InSet(n, NaturalPos)])"
   ]
  },
  {
   "cell_type": "code",
   "execution_count": 54,
   "metadata": {},
   "outputs": [
    {
     "data": {
      "text/html": [
       "<span style=\"font-size:20px;\"> <a class=\"ProveItLink\" href=\"../__pv_it/demonstrations/7950361a8397224e6be19c4a8f24bb98f53bb2c80/proof.ipynb\" style=\"text-decoration: none\">&nbsp;&#x22A2;&nbsp;&nbsp;</a><a class=\"ProveItLink\" href=\"../__pv_it/demonstrations/47df9c5467f5f665e3286ec926f8622b470a76510/expr.ipynb\"><img src=\"data:image/png;base64,iVBORw0KGgoAAAANSUhEUgAAAm0AAAAXBAMAAACrA2UDAAAAMFBMVEX///9UVFREREQiIiIQEBCY\n",
       "mJhmZmYyMjLu7u6qqqrMzMyIiIi6urp2dnbc3NwAAABm9RoHAAAAAXRSTlMAQObYZgAAAAlwSFlz\n",
       "AAAOxAAADsQBlSsOGwAABJRJREFUWMPtWE2IFEcYfe78bM/MTq85RRTD6ilEMIpkWUIMEhDUQDIk\n",
       "ogk5OCCiF8lecsrBTjDkILINm4MQiAORHDYk25LEEBdlIx68OWYPgYwL44JexOxekqx/Weuvq2u6\n",
       "vpku1j3OBzN0V733vfpeV3d1Ndrg4aMfVvi9rLkt/n/ru2THUMT/q7PdfSs1+y4R8Qvt2/yltvLt\n",
       "y75HVAwGlG+Dofem8u1Y3yMqCnXKt/eBP5Rve/oekbGP8m0LcD4QvpXG+xaR8Qnl27/AdCh8K/Jl\n",
       "4U7rPrEUb74aOS3ZFI4mkzpYPW7tJG3yLcI3j/tWE74N1tii+w5eDaxU19sDyy6SJI5spHWwatwa\n",
       "Strkw9q3o7t47OTuPmW+RcK3XAicruGolcnbi+IOB0USR5NJHSJccWsnSZC/Iuab8K0pfMuzro+B\n",
       "3fDmX+AXxjusMMUl5Jo4e2sDb5R9ZJg4zF8xG+9+vZGffBE/QoWO/+HFBjtWBDJMXLXl+H4pJdXw\n",
       "OyXVaQ/JDrIsYpq6T5lvNyPt21vwnqAoHf/+J4XJj2BiFnVxuYo9pp6JK0RDI0bjZvzMjsszMVfo\n",
       "rGtW+BJe7zEPTNxHuObmm5SUw09JqtMekiZZFXG9y7pwPozvU+8xCksYnvUf8a5JBZmIcAR4gkV2\n",
       "1eM+KkxcvoH/jcYpzIkdiSpC6pQbVX4uCfRNY+IOYLjt5JuUVMPvlFSnPSRNsipikni+YStwRL6H\n",
       "DETwHmLd+DeFIPHN46lCvFhqfyC0ZJ99q6ZxiwH2G43Aa7oIRpY67FKxpQiC4NkVpHD+MvIhsp7s\n",
       "hqThW5JK+iYkg0yyKAJ4j5pvB4Hj8r23uh7Yhsk6ez0W11dwJ8a5oaXRIjsWU4b3ef+pHn1g4aYD\n",
       "5pTR+GsUFyE4UqfyqRzDXCqbOEjjysvMvqSnC8GQTHwzUsXTbw5dUplkUQRwkvItF3oHpG9llvKz\n",
       "Kz9uYrPl2yD2LTfGcm76685l1j8mCLxvF/vl+PZjFOogjWOSb5uN3jZ98TlZ6Xwu3OQEDk2y8YM0\n",
       "jvmWj0RjJy4hjHaOw5hvSSrlG5ckUqXIogjgDco37yRfrMQ+63W9yL4M/Xw7p5ELge4r2XM8hWNT\n",
       "/KHZiOlGXIRBLj/ShHNWxhSO3afDIaXcbRyGbwlL+cYlexYR36esCH9HxnekQ/HZPfytuXrt9+t+\n",
       "O+6r2hlSOPlIjRvZlF6sxaPW5NMN/x9NsN8x0jixLlSzFoUm5VvCkr4JyWomWRZRrGX4NqCWK/+V\n",
       "qRNeU60Les+xMPVdcFb0AWfsR2oKV4mG1huNYzjIGuWoNTkXFPYxHU4woDrSuBn8Til3GwcfviXJ\n",
       "T2PJM5lkUQQWsr5beiPqFWZlZam8Hw9OtYCKhry7soILIe8D7CLTOMxfCozGH2ZeYo3+n08jg1xu\n",
       "XWwzHU4woDrSuGrrBKXcbRx8+JYkP40lo0yyKALbe/h2Wfyb+94SiQsdtzqhc2PJMaMrbg0lJbki\n",
       "7sJKw5F0g9xmO+6xSRxNvvE841nVOFxTuRbbGTXy06frJ1J3cu15xrOqcbimcij2GbTxBN+4FjhP\n",
       "AAAAAElFTkSuQmCC\n",
       "\" style=\"display:inline;vertical-align:middle;\" /></a></span>"
      ],
      "text/plain": [
       "|- |(a_{2, 1}, a_{2, 2}, ..., a_{2, 0}, a_{3, 1}, a_{3, 2}, ..., a_{3, 0}, ......, a_{1, 1}, a_{1, 2}, ..., a_{1, 0})| = 0"
      ]
     },
     "metadata": {},
     "output_type": "display_data"
    }
   ],
   "source": [
    "Len(ExprRange(i, ExprRange(j, IndexedVar(a, [i, j]), one, zero), two, one)).computation(assumptions=[InSet(n, Natural)])"
   ]
  },
  {
   "cell_type": "markdown",
   "metadata": {},
   "source": [
    "The following 5 cells have been commented out — they create and then depend on the one-element expr_range in the first cell, which returns an error"
   ]
  },
  {
   "cell_type": "code",
   "execution_count": 55,
   "metadata": {},
   "outputs": [],
   "source": [
    "# expr_range = ExprRange(i, ExprRange(j, IndexedVar(a, [i, j]), one, one), one, one)"
   ]
  },
  {
   "cell_type": "code",
   "execution_count": 56,
   "metadata": {},
   "outputs": [],
   "source": [
    "# lambda_map = Lambda((expr_range.parameter, expr_range.body.parameter), expr_range.body.body)"
   ]
  },
  {
   "cell_type": "code",
   "execution_count": 57,
   "metadata": {},
   "outputs": [],
   "source": [
    "# singular_nested_range_reduction.instantiate({f:lambda_map, i:one, j:one, m:one})"
   ]
  },
  {
   "cell_type": "code",
   "execution_count": 58,
   "metadata": {},
   "outputs": [],
   "source": [
    "# Len(ExprRange(i, ExprRange(j, IndexedVar(a, [i, j]), one, one), one, one)).computation()"
   ]
  },
  {
   "cell_type": "code",
   "execution_count": 59,
   "metadata": {},
   "outputs": [],
   "source": [
    "# Len(ExprRange(i, ExprRange(j, IndexedVar(a, [i, j]), one, two), one, one)).computation()"
   ]
  },
  {
   "cell_type": "code",
   "execution_count": 60,
   "metadata": {},
   "outputs": [
    {
     "data": {
      "text/html": [
       "<strong id=\"assumptions\">assumptions:</strong> <a class=\"ProveItLink\" href=\"../__pv_it/demonstrations/0cce80121a2a770bdede45f72ae6473622a68bbf0/expr.ipynb\"><img src=\"data:image/png;base64,iVBORw0KGgoAAAANSUhEUgAAAQcAAAAVBAMAAAC57DawAAAAMFBMVEX///8AAAAAAAAAAAAAAAAA\n",
       "AAAAAAAAAAAAAAAAAAAAAAAAAAAAAAAAAAAAAAAAAAAv3aB7AAAAD3RSTlMAInZUiRDNmWbv3US7\n",
       "qzJazP2FAAAACXBIWXMAAA7EAAAOxAGVKw4bAAADHElEQVRIx61WSWgUQRR9s/TsPfYpBPEwihIP\n",
       "LoNoQAkkRwXFJgcPISEdQ8BLSA5BxNOgoBfBuXhwgYzEeGi3QVT0IHQiCiYiCSIuqAQFxSBkTkKI\n",
       "B6uqq6ZrqnsmLVjw4f+aeq9f1f/1awAYcC3MiOC/D/bpaNG1UCNbUCb6/rwwcWi1GrRYu/dqBPHJ\n",
       "q8FUAnmfBnu5If9cWdahxMsmsF3lepZdgFYLRuSKT4FBEan8HBktEbmWa+Q4LIX/RuO+3o0REQlT\n",
       "WfTROAiUAxHQr8dLSItI5RfIESBZcq35eCyc3URAalz59Y2TMFAJRupdGEKmGa9AngcTmm5ZB3tk\n",
       "EbjEtzVn32TO4pmIpYrYYdts13p7oc0nwodMm+gkYec/iDjhFuhxkZZFfWmrIuLRNnESxpdojyLC\n",
       "j0yUMEFCaujdqdR2RylIxBHmttVLYxFOrlqREZGRejqMHOaFCM7vR8YX2M7Y7sbTjZURz5aDRJxj\n",
       "7hA8qh/adEVGJAxPRH68r48HnN+PTFmYIiG1qLGhsVl8S1pBIvYz15KoUsWusoxIeIVp4GzsJS8F\n",
       "zu9HxsqgrYSahm76jWM2HXeJZ6ZpYzpt25dt+44nYoVd+Stk0W1Ohbe6K8JF4CdlcLgI3fzAs+vy\n",
       "ByDztboI8j2lILvNoJN4whgdaT8Y0Coyol8+CW1BpMPlD0CSJIp0+DoNRrUgEQeYW5Gp8gVHRmRk\n",
       "Efiaa+x9fmSsglkSzrKiXlNux1o8SMQF5m6pL3tNbJcDzUNE6+9LbolEv0ieJH4fEimHXTl27VK1\n",
       "RhH5Wrsi4qghrjMS9SIeJkYKctDyEMPiN7bqJLTfEr8PiWQPlunLxM7OUdLxXukTnydHycwt95g+\n",
       "PXQnv6867O3JTHuIgXm3mvJj12ipA7bp8fuQyFSRIUdGDenCeh2THSrPafYwb75i7JP8B3N2w2MV\n",
       "MyV+H3Kj+yIR04sXzfUeMDqavnU9LRo/KZUW/KeIzTBbKU6F+lezqcm8VmgB6kUL/ojDr3U/kh3V\n",
       "UCJmmsxHW4GIwOb8OVrukYJroUY07J/R8GMz8Be0YegYTXmQqgAAAABJRU5ErkJggg==\n",
       "\" style=\"display:inline;vertical-align:middle;\" /></a><br>"
      ],
      "text/plain": [
       "<IPython.core.display.HTML object>"
      ]
     },
     "metadata": {},
     "output_type": "display_data"
    }
   ],
   "source": [
    "assumptions = [InSet(Add(j, Neg(i), one), Natural), \n",
    "               InSet(i, Natural), InSet(j, Natural)]"
   ]
  },
  {
   "cell_type": "code",
   "execution_count": 61,
   "metadata": {},
   "outputs": [
    {
     "data": {
      "text/html": [
       "<a class=\"ProveItLink\" href=\"../../__pv_it/common/dbd475f3ca8a41c3dd4001822589493ca633908c0/expr.ipynb\"><img src=\"data:image/png;base64,iVBORw0KGgoAAAANSUhEUgAAAPoAAAAVBAMAAACd0O5ZAAAAMFBMVEX///8yMjLc3NyIiIiYmJgi\n",
       "IiJERES6urqqqqoQEBDMzMxUVFTu7u52dnZmZmYAAAD1zdHuAAAAAXRSTlMAQObYZgAAAAlwSFlz\n",
       "AAAOxAAADsQBlSsOGwAAAtlJREFUSMeVlj1oFEEUx9/d3sfe1+YKOwUPgrYeYhEQ9ERJqWlWTxPl\n",
       "0FKLA0VIdxIsRCWBICoIpklhdVfYBEE2HNhY5JpUQbyIlkJiY5PC9+bNzszuzi3nQCYz83/v/7uZ\n",
       "3ZlZAFWyqoqXBsB/DMdLdqrxOaqKzWSY07OnP5yOPjdhXKK8bwHW7gg5YzhnBrDyEoQSKeUlHGul\n",
       "Y7UvlB/EtE2UGLX3gSa3jX/5EWQCI0Yo1TorZvm6f4T1iXS69gWnHlGqn08ihlFvHtO/nyzkzEkK\n",
       "xTOmWAzbDtGvptMjvlwehY2LgUQVj0R/TY6/M1hCKRnZbtOkl4I0eMxXlBWTLlC1BeEbrs0xHcvK\n",
       "k4n0TOqDj/la6IjKbS3SCnj4YIe0SnsqVCq/QSoJem2QAjd8YXjeSifUjHCkeYyWsXFJG7BCiyGU\n",
       "BD1XT5u79oVxqWWjE+rMBnXzPSj39rHxTOez0gapJOjuWhpd+YLTmOnZ6IRaFd1SF6qwjo2+zmfl\n",
       "NUjF8/2br3x/oOjlgzS68sX0VYL98v23vr+o6YTaVVEuWS7r/N2Qzkpi7sXUuWtfBFufO6HuQ7hC\n",
       "mQGOPdX5rLRBKsmVX0ija1+A21Y6odZFt4C+O118QefpLOIQVu6BVJJvXUfHmiUwsskXsn+t9Hml\n",
       "0O7pZ1u8wXbEyywV2hdCMem1P+FuotjqYZikeqYv5A7i9O8N3ssuK2VcxcoVbNyg5VoSKFY2QSoG\n",
       "vbJ1+BHDumHsHWqMw8oPIOILlU6M/un98ZZAefLIuCVvXfEsX4g7ipX8huWsE+UUqNhIcQOI+paa\n",
       "8blL1POM3IryyuA7hZY0VMx7pxg5W/kAHCXPWCMbfSu9a0H8lpGo69uyXeBPldPiBqTfqpS7kz5O\n",
       "Oio2WoZmdqHR77Wt+Yi6/CO8czsa5VCllC8T6Px7naTQhIivd6FrzY/MalZ4WT7Wsk07/ex0X1az\n",
       "E8YR9Q/qQdIiOap7nQAAAABJRU5ErkJggg==\n",
       "\" style=\"display:inline;vertical-align:middle;\" /></a>"
      ],
      "text/plain": [
       "f(i), f(i + 1), ..., f(j + 1)"
      ]
     },
     "metadata": {},
     "output_type": "display_data"
    }
   ],
   "source": [
    "f_i_to_jp1"
   ]
  },
  {
   "cell_type": "code",
   "execution_count": 62,
   "metadata": {},
   "outputs": [
    {
     "data": {
      "text/html": [
       "<strong id=\"eq\">eq:</strong> <span style=\"font-size:20px;\"><a class=\"ProveItLink\" href=\"../__pv_it/theorems/0416a1b210810ad0dc1b92b729f6f0c5dca980ff0/expr.ipynb\"><img src=\"data:image/png;base64,iVBORw0KGgoAAAANSUhEUgAAAIUAAAAVBAMAAACakjBMAAAAMFBMVEX////MzMxUVFRERES6uroi\n",
       "IiIQEBCYmJhmZmYyMjLu7u52dnaqqqqIiIjc3NwAAACW8nlqAAAAAXRSTlMAQObYZgAAAAlwSFlz\n",
       "AAAOxAAADsQBlSsOGwAAAcRJREFUOMtjYGB4wEAc4MMtxXuASDNYLqAJLP1suYBh2zcHBobTIC6j\n",
       "FZr8DTS+6AIGhuvoptqwKDBwfWBg4JoAdswENOloFB6XxnygGZwL0BSpPtjOwJDAwMBRgM/97jDG\n",
       "faB+9gY0WR0DzgcMAQwMbHjD4CyyGQxZ0BA0DY0EM/Rq+SaAzDhJghnTIWE7F+YnPSaB2yAzukGc\n",
       "tZdQtXLdKMBmxiYw8yU8WPQYDJgdAqBmN7Chhgo3SwI2MyrBzHkMCDMkuKKAZsSAPPiAHzWRyHBM\n",
       "wGbGMTBzApIZ7AcOA21LATmd4TxIycpQEAgEshawgdJTa2hoWmhoEMIMeXBSSgUqCoaawaDFBDUD\n",
       "qBwtLM8vwOYON3BYGSC5g2ERF9Qv6EmKgWESFzYzjoKZAchmMF4AGmkLzk5f0OLlCzc2M4rBzLtw\n",
       "ZYZAfNEAGl/sH1DNYPzwHM2M/aDcDU4HDJzw8J8DxKDQFwVxmAzQ/KKOlj6U8icBRUIgjlT2gghK\n",
       "fjOA5DdWASCP7QKhdAr2MTQkWDZD0zoMADMS04H6BYTyHAjgzp52DPIHYogqhB7jlFnMwHHDgSgz\n",
       "7HAXkxeILAt5cRW8AO2rdCJ9xwfVAAAAAElFTkSuQmCC\n",
       "\" style=\"display:inline;vertical-align:middle;\" /></a> <a class=\"ProveItLink\" href=\"../__pv_it/demonstrations/68ea34c9a028d2d52fb71c6f5c26a23517e9feca0/proof.ipynb\" style=\"text-decoration: none\">&nbsp;&#x22A2;&nbsp;&nbsp;</a><a class=\"ProveItLink\" href=\"../../__pv_it/common/226c0184f61890c345f1f28146fd1ebae476a5490/expr.ipynb\"><img src=\"data:image/png;base64,iVBORw0KGgoAAAANSUhEUgAAAUAAAAAuBAMAAACrN90HAAAAMFBMVEX////MzMxUVFRERES6uroi\n",
       "IiIQEBCYmJhmZmYyMjLu7u52dnaqqqqIiIjc3NwAAACW8nlqAAAAAXRSTlMAQObYZgAAAAlwSFlz\n",
       "AAAOxAAADsQBlSsOGwAABHJJREFUWMPtV09oVEcY/9bsy779k1UoeipkraAeelg8Cg2BQjxJt+oW\n",
       "sR5y0BbEoNSD5iANYgkSWoKXgBRc9ORBXAJe9GAoGrBFzM0UbLogoScxghcXFb/55s+beW/el+Qy\n",
       "9OBAhpf55vv9fu+bebPzA4AemFan3hpIRTY6nGk9Zry3Tu7QQvL8nPqDnlnP/cnFpQ3pszmcdjCH\n",
       "zm5/UT9zD7taF7tlGDprheP7HRUZmkplbsfIs3XQCVdyfNZxQ4VjQFQOXbZVZkVf3Xka+1vi8XuA\n",
       "a1Z8fseCikRdN3HvdWQsd1h0iSs5/nZDN670QVJdYyFi0j/4cD/202rsghU//XXHioh2QD/8i5HS\n",
       "FIsucWO7RkX9z1BfUV3gIaj/hgoxrseSshT7YEdEe2ILhFMsusQdtIdqS7ZAQTXIrsJj6u9S6qwa\n",
       "KydvXG05kazAOVbgXYvDK1BQldlNOCO6n07uFSuBm6yyjLOrDR0t7T40pSK3p70C5zlwiUsclX8a\n",
       "PoGCKqHzNVmB97pw1SKuZikp2NYlHemOeQVOshV8bzhi+NEnUFBJul/aoh3KQByn8/a16CP8Xj+P\n",
       "cXYt2XKvtqlIYeGKV+Aip0/iEscKvPMJFFS1cQ7jBCWt0V4eBegMYn5hzYSfgopUYEK95w/6PUng\n",
       "MAcucYmjUxN64nb7u5PtdsMIFFQWXZ5A+SkIgfAUWYvjqV0uIrW+t4Jj7DHYSjjilq+CgqrIVpCW\n",
       "eKChlxiuVhCjZcL7QEfKjY5P4CMOXOJKDn3Op5a4peny9uBXVCFKGsC+8qaKu7Yp1oTCE6Ajd0a7\n",
       "PoHnwMx1fmcgwZUcr0a9H0lT0eW2+SRZfO6Ftf/UefOWdvkb0JHh+tmUwAc9fYSIuXdmrQfZaVHE\n",
       "8XP6HKx+UAdY3OUEbk8+hYIo9R6UEQncdifZ5SKy5XxqD35x5irOPQJqbiQOzKOgHqJjCa7k2JUS\n",
       "uGX32z2SKhrlBEbiHLkkn79VY6sEJATGDTfiVJBK3DJz3fYnJLjEMZGuoKFaZY9S/LWvNX53Lwn0\n",
       "m4F7Ef4oL2SvDweyd41qFheXzeAix5elfvqyYKim+RvbCET71S/HgLzc1mnT3sa/w7fAiWTbC9Bz\n",
       "Ux8J1sngwkjhXeS9swqqepMXeBNKy4q+0rTUiJW4+Bs4Ed/r6bmpO7QonMZFjl8v+8+hHvPy+iUs\n",
       "9JfUr3hmvcy5y69nKLIcTlvJofvUPrX/VQtn3Oub9fT1wMbdN5v19JQQ0rg/26SnFwlBjbs9e0Oe\n",
       "HhOCGnd7tsfTG2jj6TEhrHE/xXp6A208PSaENe5zrKd3BZKKucDGfZ719K7AqkwIa9wnWU/vCiQV\n",
       "k4GN+yLr6V2BpGIxsHEfzg/Z0MbTY0JY4z7Genq3gqRiLLBxf8R6+tQStyghrHE/x3r61EfSpISw\n",
       "xn2G9fQG2nh6TAhr3I+wnl5DJ54eE4Iadzk719O70KsyIahxl7NzPb0LPa0SQhr3F5v09JQQ0riP\n",
       "bNLTU0JA4+6bzXp6TPgITk0sjZQBWesAAAAASUVORK5CYII=\n",
       "\" style=\"display:inline;vertical-align:middle;\" /></a></span><br>"
      ],
      "text/plain": [
       "<IPython.core.display.HTML object>"
      ]
     },
     "metadata": {},
     "output_type": "display_data"
    }
   ],
   "source": [
    "eq = f_i_to_jp1.partition(j, assumptions=assumptions)"
   ]
  },
  {
   "cell_type": "code",
   "execution_count": 63,
   "metadata": {},
   "outputs": [
    {
     "data": {
      "text/html": [
       "<span style=\"font-size:20px;\"><a class=\"ProveItLink\" href=\"../__pv_it/theorems/0416a1b210810ad0dc1b92b729f6f0c5dca980ff0/expr.ipynb\"><img src=\"data:image/png;base64,iVBORw0KGgoAAAANSUhEUgAAAIUAAAAVBAMAAACakjBMAAAAMFBMVEX////MzMxUVFRERES6uroi\n",
       "IiIQEBCYmJhmZmYyMjLu7u52dnaqqqqIiIjc3NwAAACW8nlqAAAAAXRSTlMAQObYZgAAAAlwSFlz\n",
       "AAAOxAAADsQBlSsOGwAAAcRJREFUOMtjYGB4wEAc4MMtxXuASDNYLqAJLP1suYBh2zcHBobTIC6j\n",
       "FZr8DTS+6AIGhuvoptqwKDBwfWBg4JoAdswENOloFB6XxnygGZwL0BSpPtjOwJDAwMBRgM/97jDG\n",
       "faB+9gY0WR0DzgcMAQwMbHjD4CyyGQxZ0BA0DY0EM/Rq+SaAzDhJghnTIWE7F+YnPSaB2yAzukGc\n",
       "tZdQtXLdKMBmxiYw8yU8WPQYDJgdAqBmN7Chhgo3SwI2MyrBzHkMCDMkuKKAZsSAPPiAHzWRyHBM\n",
       "wGbGMTBzApIZ7AcOA21LATmd4TxIycpQEAgEshawgdJTa2hoWmhoEMIMeXBSSgUqCoaawaDFBDUD\n",
       "qBwtLM8vwOYON3BYGSC5g2ERF9Qv6EmKgWESFzYzjoKZAchmMF4AGmkLzk5f0OLlCzc2M4rBzLtw\n",
       "ZYZAfNEAGl/sH1DNYPzwHM2M/aDcDU4HDJzw8J8DxKDQFwVxmAzQ/KKOlj6U8icBRUIgjlT2gghK\n",
       "fjOA5DdWASCP7QKhdAr2MTQkWDZD0zoMADMS04H6BYTyHAjgzp52DPIHYogqhB7jlFnMwHHDgSgz\n",
       "7HAXkxeILAt5cRW8AO2rdCJ9xwfVAAAAAElFTkSuQmCC\n",
       "\" style=\"display:inline;vertical-align:middle;\" /></a> <a class=\"ProveItLink\" href=\"../__pv_it/demonstrations/a4f78341d57becf44afe6d66144b27664e0056ec0/proof.ipynb\" style=\"text-decoration: none\">&nbsp;&#x22A2;&nbsp;&nbsp;</a><a class=\"ProveItLink\" href=\"../__pv_it/theorems/c1d62423df78169e29c42fbf46a552dbcf8748d80/expr.ipynb\"><img src=\"data:image/png;base64,iVBORw0KGgoAAAANSUhEUgAAAmoAAAAVBAMAAAAEF99xAAAAMFBMVEX////MzMxUVFRERES6uroi\n",
       "IiIQEBCYmJhmZmYyMjLu7u52dnaqqqqIiIjc3NwAAACW8nlqAAAAAXRSTlMAQObYZgAAAAlwSFlz\n",
       "AAAOxAAADsQBlSsOGwAABIRJREFUWMOtmD1oFEEUx9+Z3EfuLqcgsRI8FUwKi2AZMASEWAVPzYmo\n",
       "hYUfIAmKNkkhiigiQQlpAiJ4aGUhhoCNFh6igop4nRE0HgSxEhXS5EjEmTez8717E8Ypjrn5v/nN\n",
       "f9/Mzs4uADRBlqb4MUoJnCWm2SrN+OgmxKPbdoj1G4Ndn193OzK667KR1Ucc4V/clM6Glwk+hita\n",
       "Hd5Ct+sQ7zcGuz6/dhmJGO/x79Qz4PUF6L6gBqJSnENFLz01gE9txpdc2FzTo3PPa4rkRjvwXn65\n",
       "EupXK6ljwIYijPw0bSlsHwNePw5wV4llyiNgilLyffcJtquWaELhwmcjen5LXZHcaBvv5zdSAv2q\n",
       "5cGtFrChCCOHE5V5NUBnn0/ahBLMlJtKy/6o8o04yF5NdKFz9eixfTVFcqNtvJ9fFRvgF2/q6E93\n",
       "iw9FGBlsOYBTkIn6KhPClJMK5oPqAs4lutC5WnRnS5fcaAvv5zfzn/zSzamhZi3DGG+x5Sn+vuV6\n",
       "l5JrVIrTsS5mE13oXC26UNElN9rCe/nVsCF+razhULMwRRsunu7DrZDc0gukuVAWfZiSm+OK7WI+\n",
       "yYTkQv5rWYvO7jp0VZPcaAvv5VcooX6trBXYVbDcr0UrodBJbsassrTWoslExXYxmTh3ggs5OKtH\n",
       "b2zokhuNHXJVLGW5Wtv4FUqoXytrONQknMDD3x9sJ/WtOdJclNsYU9J1rtgu3iSZkFxYhFU9+tcm\n",
       "XXKjLbyXX6GE+rWyhkO9gVOo/MZ2Uq9lSFDqt7yrsZoZ4grcqFbPVKuHpIttSS4kF2rFlh790ZDc\n",
       "aAvv5VcooX7JKj9ymq9yzBoOtY25YDsz1j8SdOdJY8+mWUPFnrvhxOOP5EKuokc/NSQ3etiZtXZ+\n",
       "hRLq11prONQwW/EdZbEyZ/IksCI4TKF3KCq2i9dJLhQupOf06D2G5Ea/Nvc1L79CCfVr36EVZOzF\n",
       "tcQUUs8vF8iW10+XKEilo8EV28UlELHaSRx0LtnHhng0v5hxQ3KjL5lgL79CCfVrPw36kTGvRMzT\n",
       "+/YHP2isgFTo8xYVzcWLZvSUprFPpnlF/FO5AFeiZzqTSsuG5EZPmZfn5VcooX7VrBX+8jMYYfTI\n",
       "nRnrveSQkaadqzWppCpcUV3sOD9DWkaBx6bp8eso8J/0MYMLO+nPqJD4xislN3rUzJqXX6GE+lWy\n",
       "tmHXSi8fahTS9ABwjQlYJ+U7RqMLrhx0nbVxyVRkrFbegcEdF9Eo5cq65EaXKibXz2+kBPrV1poY\n",
       "ijDIq2ixfE9/ucZ3dborCGXC9YotX6YL9sY6Bxp3d7Yloukif9lV1yU3Wn+55x08/Kov6QF+tbd3\n",
       "MRRlDEJ6IDpbD7L5oDsePKZJj5SOuI+bSxDFGrtrA1RuahUfw0uRBIcfGZIbvWQ3e/nlSqhf+xjc\n",
       "zxkPIbsQ5eShkiJ6bULJ98e4YO7sL6Tdam/CvX1dRFMJLt8xJDfacfFefrkS6tc+mjQ5o6QgWH3R\n",
       "Ef4z5lNx0+uLMh/DFV2K+yZNg9t1iPcbg12fX7ssMsY/2Woumlg3gqgAAAAASUVORK5CYII=\n",
       "\" style=\"display:inline;vertical-align:middle;\" /></a></span>"
      ],
      "text/plain": [
       "{(j - i + 1) in Natural} |- (f(i), f(i + 1), ..., f(j), f(j + 1)) = (f(i), f(i + 1), ..., f(j + 1))"
      ]
     },
     "metadata": {},
     "output_type": "display_data"
    }
   ],
   "source": [
    "eq.rhs.merger(assumptions=assumptions)"
   ]
  },
  {
   "cell_type": "code",
   "execution_count": 64,
   "metadata": {},
   "outputs": [
    {
     "data": {
      "text/html": [
       "<strong id=\"f_i_to_j__shift__eq\">f_i_to_j__shift__eq:</strong> <span style=\"font-size:20px;\"><a class=\"ProveItLink\" href=\"../__pv_it/theorems/a49f9d9780e8f8b2ad2bfc0d0ba1f066056651f30/expr.ipynb\"><img src=\"data:image/png;base64,iVBORw0KGgoAAAANSUhEUgAAAJUAAAAVBAMAAAC9PLGkAAAAMFBMVEX////MzMxUVFRERES6uroi\n",
       "IiIQEBCYmJhmZmYyMjLu7u52dnaqqqqIiIjc3NwAAACW8nlqAAAAAXRSTlMAQObYZgAAAAlwSFlz\n",
       "AAAOxAAADsQBlSsOGwAAAfNJREFUOMuNlD1IHEEYht9bz/tZvMs1B1qdGAISwrEpUigarlKwOn+2\n",
       "SGJhYSwCIQcpQoqQa0TE5kiTxuiiWFiIh4KWLoQIIpLTJoEQXLBKdxC5wsrZ/XZ2d3bnYD94YXhu\n",
       "5pmdmZsBYIEiq3xM5lbOpEgr2YrBdv6PGDjqVIBzUJAYDfUpGsCvyNT1KBtLDkJtA2qDwno1hA7q\n",
       "8CZzZY3QuN5mlD2yjoEFIFOj+DXJG9dsTLoeXWSEPdGyFqpAChS/LoIuvJHsostyz/QXTqP8Kd+w\n",
       "XWegdHN9lbiIJb/xtZaVwh/btQYK9q6krgNRs7fisX/etpWh9VSqNIczTz1Vk7k+iq7mhMc24Lv6\n",
       "1ZfMNQ9KznpgylyngiphrnqsEXClze/sHBdBUfHTHrqs60u6PuO7SnZrV7dr2u71lrPEa4ZmXRce\n",
       "KwEX00j3a0JcY98dZ6oW+C5sqYE1Aq+krh+iKztocFYNuhItph4HBflbqeu96NqvNDn768GnLJca\n",
       "na9zxul22HVi8f+LX6V8jbOs9yCss2TYURRBgaKFXEPvvrBxc6JL+QDO1IdTxAY6Gt3p3gIFqVb4\n",
       "u5yVVyUPmMuSh+4dCl5UFsX8bITvtl3ite/OqJ47KZnz0l9vYjKqbSeZ35WuM8Vh7upbFPkDbsVj\n",
       "Tt0D7pOIx3gYN3AAAAAASUVORK5CYII=\n",
       "\" style=\"display:inline;vertical-align:middle;\" /></a> <a class=\"ProveItLink\" href=\"../__pv_it/demonstrations/c0b52b6eec196a3431121e4c63ef8cb162dc4afd0/proof.ipynb\" style=\"text-decoration: none\">&nbsp;&#x22A2;&nbsp;&nbsp;</a><a class=\"ProveItLink\" href=\"../__pv_it/demonstrations/ee3e070af7ef21676667c27d5936bd0694c418230/expr.ipynb\"><img src=\"data:image/png;base64,iVBORw0KGgoAAAANSUhEUgAAApsAAAAVBAMAAAD7mTjWAAAAMFBMVEX///8AAAAAAAAAAAAAAAAA\n",
       "AAAAAAAAAAAAAAAAAAAAAAAAAAAAAAAAAAAAAAAAAAAv3aB7AAAAD3RSTlMAInZUiRDNmWbv3US7\n",
       "qzJazP2FAAAACXBIWXMAAA7EAAAOxAGVKw4bAAAFLElEQVRYw6WZTYgcRRTH33xtz8yasfEkS8Bd\n",
       "Bdebi+hCViR70EtgcMghp0gWRFiE4CohLIqweIgeVgwbApocHNAgTowsnrIgOBFyFAY8JAGVgCeD\n",
       "kJgwuQSCr153Vb16Vf0xOwXVqbyPfr/+d1V1Ty8AxGBbbA6yBY1QgXItNtGVopPHExarTMA1CW6c\n",
       "eymZGdUla0zGPwXCeRRrs/Ol8NJsFR3KkAgTFQtan4NpcTMYwuokVvK8TP899YYeL0J1iwdyj9vu\n",
       "9ABeKCCz2fBvj6IDGRKhfDHPGr2OFqitoh4bU+FqZKd1LoFQh1tVb6wpS/2vc5COvwV4h8W6HtYa\n",
       "N97DYjO9XDyWDc8n0X6GRChdLGDt/qNm1THs7dVpcA0yb2+dHoOrjmvFHpHYrVevgx4DfMqCXQ+t\n",
       "GD1+EdmaG7l8IltF+xkSIdoKnMkplo1w7mcl2CazXIX94AYZoDpm6hgIY8XeIssvdNda+qzsHroe\n",
       "1WrzjA/O5/LJ7POhDInQggw5TWomwuyY/jnLEl+C/eC2IFNOrY6BMFbsy2Q5Qsfl1D/Dbo3r8a9l\n",
       "PZdPZq+HMiTCcqac60UI9T651zLlLIu7nC2nVseVU1mxn1KGzy/coI0Y94xFNNdH5gTC419LNw/P\n",
       "ZkPj2VEa7WUIBKeYK2cX8hGat66o1Rzhtnl0MyhnWVyL7Mmp1XHlVFbsye26r+dOfRYXSpPdXdfj\n",
       "X8uZ3NttsiGCL9NoyogG1EZgZsx9Pn1NMVfOM1CA8OS8Xl2re0E5y+JaZE9OrY4rp7Ji/4Zebx+T\n",
       "Hcd/R2iu2WsRHv9aDuXh2WxYgAdptJchEJxirpyHoADhmdvq2F6CztLpoJxlcS2yJ2ftbEhOZcV+\n",
       "kTz3yI7jXguDOvfsRul61Kz6/kI6q4jvbh6fzYZebZxGexkCwRZrvEtT+LZbLA/hcPJs24UG7KjR\n",
       "h4PBV4PBFZgY1yJzCBKO1OEQxor9ot3BaXwYi7KVJjz+1NjLfY+z2RD10+i9oJwslBdzZ+ceFCAc\n",
       "0XJCbRycnWVxLbI3O2eDs1NZsdNKe2JkZvnJBgba0wiPfy0reXwsO3mtXtEZfO+UCLyYK+cKFCD8\n",
       "Bulih5lRLyRnWVyL7C/2fnCx96n/Srcz8eC48aiOW+pQTXIIePxr2VYj/7eGzMZtbTeN3paxAsEp\n",
       "5sq5DQUIO4ks6D6xuxqSsyyuRfYfRcPgo2hIvcvyumr5P528aMCJtYDHOc2bsX6jeKgPKskMeDbA\n",
       "F/wdxGkCwSlmmimWgwCVR8mixVl2t7Il5HRjXVIP1yI7u8F/6WuYA2Gs2O/YHZzGN5GirU7bvhTw\n",
       "8NP8+fVJtFxWw4G639+ppA09kNnwhzpcTrv7bUKE8mK6sWI5COmzpIML78BnYu8UsZZ0I4RrkVk7\n",
       "cOvhzVQdBmGt2NvqkfVx4qAxtjk6vgK+x7krNB+SnyH+8vGyd9LoitzfPQRezH2R6RcgROkb9o+h\n",
       "X0UT4Rpkv82FIMg6Rx8FaqO37RcKMF8QcPZ6Huenv/18UfeLiuzfm+PMjwsSIfM7hUnNQHhtZsn/\n",
       "hnMV9oFrkf22GYIgq+rXoH1dvzNfS24h7bUNFF96/HaQjkf9vd3N7jxQT1uKPuifRCLkF8tG+OGY\n",
       "fkTH0+EyZH+JDLOs5DkOzUVd/TiDqar7JDwhJVTzP3LL7A8+ytFKIuQXy0b45H2tznBKXIvsv03F\n",
       "WVbyVNjJk/FCSP3wnwWqcam/FqTZKjqUIREmKha0PgXT4lay/g6ykGnF/j/zbehsJIWBVwAAAABJ\n",
       "RU5ErkJggg==\n",
       "\" style=\"display:inline;vertical-align:middle;\" /></a></span><br>"
      ],
      "text/plain": [
       "<IPython.core.display.HTML object>"
      ]
     },
     "metadata": {},
     "output_type": "display_data"
    }
   ],
   "source": [
    "f_i_to_j__shift__eq = \\\n",
    "    f_i_to_j.shift_equivalence(new_shift=one, assumptions=[InSet(subtract(Add(j, one), i),\n",
    "                                                                 Natural)])"
   ]
  },
  {
   "cell_type": "code",
   "execution_count": 65,
   "metadata": {},
   "outputs": [
    {
     "data": {
      "text/html": [
       "<a class=\"ProveItLink\" href=\"../__pv_it/demonstrations/0d704541f521227af5fbf83bd07bb7fa50ba53d80/expr.ipynb\"><img src=\"data:image/png;base64,iVBORw0KGgoAAAANSUhEUgAAAZUAAAAVBAMAAAB8sm5kAAAAMFBMVEX///8AAAAAAAAAAAAAAAAA\n",
       "AAAAAAAAAAAAAAAAAAAAAAAAAAAAAAAAAAAAAAAAAAAv3aB7AAAAD3RSTlMAInZUiRDNmWbv3US7\n",
       "qzJazP2FAAAACXBIWXMAAA7EAAAOxAGVKw4bAAADoElEQVRYw5VXQUhUQRj+t93n2111WTqFBGlB\n",
       "dmuJErSDe+kSLC0eOhkuRCCBFCEihbAn7VAkRlB6aMEkelEsnfKUCt4XOmhQEXSTQEv0EkQz/7w3\n",
       "b2be/96OA99j5pv/fe/7Z96bmQcARQhLEfS20RUpKWsyliYfVIQjmAjvOFYKSV5X22r5QJGdvQR5\n",
       "hhYgY6MlyQNtAlnsuYjNyStBnaPfCC6sMP26KbFTBTinMaiSLrPgu21jo0X3AL+qNiYClsOpcSbz\n",
       "/SmIOrZf6fE3pg7Y9ZZOOlt32MM61AcKlesM+XK72GgxPMBZCxMKy+BiprnLmyDqbp2ad37DXPCu\n",
       "BBHnmbesOgFCZVphPkJcbLS08RBjQrIMOWQ+4ZDlIGhTMjl/WNO9ij94poQJlXmFuQBxsdHSxkOM\n",
       "CckyDCBzFa8DPmiZjjqVy7gShirpWmwu44m5tPEQY0KyDJOceLy4hR+fgNNfp2QyLSqXShglVFz2\n",
       "qYxMk7lUklLRPYBzumVlQrIMYqz+4HVcINM5T8lka1Qus0oYqvAxKq+SucwmzovmAVx4bmVCsgzL\n",
       "uI39Q35Z4Kdbo2TS81Qug8pmiCr5EhRKU2Qug0mp6B6gD/atTEiWYQl79pBfEqjmeKBz2+Plh7yh\n",
       "wINcz3uz6Hkt6W83fJhQyTXBgQVeu+95LzzvHVCx0aJ7gGr6wMqEZBkwl0xD0xmuUkPSSc7LqrJB\n",
       "NPxcAH1E52U1cXvRPYDbsDIhWQZ8x7pa2vxOOOT0NqhchsIoocLeMehoValchpJyMTyY222cCcky\n",
       "bOBYip4NAedvhvzs1qhcHvGacC5Uuth1rFmmclFitVMBRD0AnGpamZAsQ0W5ryJQ2Dthzv9vf7HV\n",
       "ZK4Vg/XzEEIVvj7upupGLnrsWM2vyJbpAeAJWJmQLMMOJ4b9A6CPbWN/6f5yuM0mvanLfHs5weLe\n",
       "8qpXDVUKbL67HxrfixGb56eZ1+Bf8iuEB/gKNiZCliHP14gZ0cHr2CZLDxhDgispvr9pzMVXeU/t\n",
       "+2asVi4B4WHB3gSyPXjgS7duCoof/uIPgNPmsQ4gOAby70uqzFFnSz3WKGWIePicPbA3gSzHOuQ3\n",
       "g71x3Qe5l61R7Em8jvABDVS64n4Kw1jj2+8F00NhP1+yN8FZ7BmFbH/w9FEf5JpJWhSZ8wmXKs5a\n",
       "jEIYayxQ6t2+h3sPjmCCs9iTUsR5PRXzK9tHnl0p7eMxP79Fq3/kJA+0CWQZ/gM+qzGSodD09QAA\n",
       "AABJRU5ErkJggg==\n",
       "\" style=\"display:inline;vertical-align:middle;\" /></a>"
      ],
      "text/plain": [
       "(f((i - 1) + 1), f(i + 1), ..., f((j - 1) + 1))"
      ]
     },
     "metadata": {},
     "output_type": "display_data"
    }
   ],
   "source": [
    "f_i_to_j__shift__eq.rhs"
   ]
  },
  {
   "cell_type": "code",
   "execution_count": 66,
   "metadata": {},
   "outputs": [
    {
     "data": {
      "text/html": [
       "<span style=\"font-size:20px;\"><a class=\"ProveItLink\" href=\"../../../logic/booleans/conjunction/__pv_it/theorems/8c03a8ee27d4d8fa777368c3ee7b307fe25ee5270/expr.ipynb\"><img src=\"data:image/png;base64,iVBORw0KGgoAAAANSUhEUgAAAC4AAAAQBAMAAACb51DZAAAAMFBMVEX///9ERETc3NxUVFQyMjKq\n",
       "qqrMzMwQEBC6urqYmJju7u52dnYiIiJmZmaIiIgAAACrFvqoAAAAAXRSTlMAQObYZgAAAAlwSFlz\n",
       "AAAOxAAADsQBlSsOGwAAAM5JREFUGNNjYEADrO7fHc+ITwCy3qKI8wknMDiwgFinUcR5LzDwTdjK\n",
       "gAGYFRgWcgkg6Zc5cwREczEwXGNOgAtz+C2AMdkMckHyb0F2M6jAhRkYF0gBSW6OAhDHCWFiNOcD\n",
       "IJnK6wDiOCDEIa5cwA6SZas5c+bMQYgDAnYARRkY4kEmI7lsIROQbcTA4MwF4h2Ai5sBfcD1gYHr\n",
       "BzeI9w7uygu9QM8dYGD7oAnisgTAXenFwCQKNMoS7H4uwy6IeLtIoWB94QaEhzdCwgEKABNHK9py\n",
       "L46vAAAAAElFTkSuQmCC\n",
       "\" style=\"display:inline;vertical-align:middle;\" /></a> <a class=\"ProveItLink\" href=\"../__pv_it/demonstrations/57335b32365fc11e36fce0f8c6f6245148be17780/proof.ipynb\" style=\"text-decoration: none\">&nbsp;&#x22A2;&nbsp;&nbsp;</a><a class=\"ProveItLink\" href=\"../__pv_it/demonstrations/c542ca8f46886a309d51db0870d70b8b800245140/expr.ipynb\"><img src=\"data:image/png;base64,iVBORw0KGgoAAAANSUhEUgAAAI8AAAAVBAMAAACNsKCFAAAAMFBMVEX///8AAAAAAAAAAAAAAAAA\n",
       "AAAAAAAAAAAAAAAAAAAAAAAAAAAAAAAAAAAAAAAAAAAv3aB7AAAAD3RSTlMAInZUiRDNmWbv3US7\n",
       "qzJazP2FAAAACXBIWXMAAA7EAAAOxAGVKw4bAAABVklEQVQ4y5VUrU4DQRicQpejXEJOIhDnigNB\n",
       "SFrDE1y4B0BUXkgaEFVVp1AVGAwISMBwhAeohCfAgSFpgquhHsPtftumuzck10kmuZv9ZvZ/AUQQ\n",
       "VtFYQQXWDoQEYVxfBQ4t254+TYG9SjVXtVn1hHh0WtTHeWnZSFFDFXOQCyvYL8s3L+bTyZnqoGVJ\n",
       "g3Btf9Zjpjo4suRBGQ3KWP1AqNo5C0poUOKVGnMmPTTDKxZ0SYNEHRYaL7DmBxh+Bz0W1KFBHa/U\n",
       "mG9hmLZ0qTozvUwWlh/9FRTF001RvLvqEozZBuE4ZSMa0xGN/YXWZjs19BUL6tKgrrdGxvwGQ/Xb\n",
       "ZEEjGjTyd02bE9nO7dmO13oS2cPhBDnqHMY8hfDTO0dfd/1SefaCXHUBbd6aCPnTc++PyFEd6BvI\n",
       "byGWbnOYM9XFqyXD7goqTi3/66SuikYsZK9wVF/9AwfIX23nQxZpAAAAAElFTkSuQmCC\n",
       "\" style=\"display:inline;vertical-align:middle;\" /></a></span>"
      ],
      "text/plain": [
       "{i in Integer} |- ((i - 1) + 1) = i"
      ]
     },
     "metadata": {},
     "output_type": "display_data"
    }
   ],
   "source": [
    "Add(subtract(i, one), one).simplification(assumptions=[InSet(i, Integer)])"
   ]
  },
  {
   "cell_type": "code",
   "execution_count": 67,
   "metadata": {},
   "outputs": [
    {
     "data": {
      "text/html": [
       "<span style=\"font-size:20px;\"><a class=\"ProveItLink\" href=\"../../../logic/booleans/conjunction/__pv_it/theorems/8c03a8ee27d4d8fa777368c3ee7b307fe25ee5270/expr.ipynb\"><img src=\"data:image/png;base64,iVBORw0KGgoAAAANSUhEUgAAAC4AAAAQBAMAAACb51DZAAAAMFBMVEX///9ERETc3NxUVFQyMjKq\n",
       "qqrMzMwQEBC6urqYmJju7u52dnYiIiJmZmaIiIgAAACrFvqoAAAAAXRSTlMAQObYZgAAAAlwSFlz\n",
       "AAAOxAAADsQBlSsOGwAAAM5JREFUGNNjYEADrO7fHc+ITwCy3qKI8wknMDiwgFinUcR5LzDwTdjK\n",
       "gAGYFRgWcgkg6Zc5cwREczEwXGNOgAtz+C2AMdkMckHyb0F2M6jAhRkYF0gBSW6OAhDHCWFiNOcD\n",
       "IJnK6wDiOCDEIa5cwA6SZas5c+bMQYgDAnYARRkY4kEmI7lsIROQbcTA4MwF4h2Ai5sBfcD1gYHr\n",
       "BzeI9w7uygu9QM8dYGD7oAnisgTAXenFwCQKNMoS7H4uwy6IeLtIoWB94QaEhzdCwgEKABNHK9py\n",
       "L46vAAAAAElFTkSuQmCC\n",
       "\" style=\"display:inline;vertical-align:middle;\" /></a> <a class=\"ProveItLink\" href=\"../__pv_it/demonstrations/1f4408fe8595c97d2b0e03f2a245d6f011366a2e0/proof.ipynb\" style=\"text-decoration: none\">&nbsp;&#x22A2;&nbsp;&nbsp;</a><a class=\"ProveItLink\" href=\"../__pv_it/demonstrations/c318bc947a91fecad73bf0e135e6902512a0577d0/expr.ipynb\"><img src=\"data:image/png;base64,iVBORw0KGgoAAAANSUhEUgAAAI8AAAAVBAMAAACNsKCFAAAAMFBMVEX////MzMxUVFRERES6uroi\n",
       "IiIQEBCYmJhmZmYyMjLu7u52dnaqqqqIiIjc3NwAAACW8nlqAAAAAXRSTlMAQObYZgAAAAlwSFlz\n",
       "AAAOxAAADsQBlSsOGwAAAX1JREFUOMuVlL9Kw1AYxY8hiTGtpYuTgm6u9QEUJ+cgRgQdOujiFHRy\n",
       "cxEqLkUQ14IvIL6ALgriYDaLU8BBJ6ng5GDN/ZM035crpAdOaX+55+Te3twASKBcVmMMCkzfKRtk\n",
       "x9Up8KTdp/jjdAl44YPNVIb9rjK26fxbuF3FVA8VqAp7kTKTlcBtY/I4W05kokSuNsc/sH6Bff2z\n",
       "Hpso0aM2n1EA6wu4pEWMEp0p+/3S8pwBcEOLGM0kw6I9dc1u86L5NHxUKhrRk1BoHTq8A+k5r8uL\n",
       "xJCHUlGRZpLhXUj3XDHUv5B3aYqrXkvcX34Lw829MFygtCAZ1kV45g/HgfhY4zMiNJcI66Xh3KfX\n",
       "6tf4BO5ZUZGO/iMZXoa0/12jRbPAK3DIiijNd02ExVamnhi808Ow1ekE6uEoFDGaSYZnoLxInyNn\n",
       "OBymW7FBixjNJcJOU9n86glK21+kROIEmk8hCqfZjkyUakXbpLcxKK60/7tJVYpGrGx6CyfV6R/U\n",
       "WHjeor0yaQAAAABJRU5ErkJggg==\n",
       "\" style=\"display:inline;vertical-align:middle;\" /></a></span>"
      ],
      "text/plain": [
       "{i in Integer} |- ((i - 2) + 2) = i"
      ]
     },
     "metadata": {},
     "output_type": "display_data"
    }
   ],
   "source": [
    "Add(Add(i, Neg(two)), two).simplification(assumptions=[InSet(i, Integer)])"
   ]
  },
  {
   "cell_type": "code",
   "execution_count": 68,
   "metadata": {},
   "outputs": [
    {
     "data": {
      "text/html": [
       "<span style=\"font-size:20px;\"><a class=\"ProveItLink\" href=\"../../../logic/booleans/conjunction/__pv_it/theorems/3b73368031281d59ff93a70f2b4cba5069515ff80/expr.ipynb\"><img src=\"data:image/png;base64,iVBORw0KGgoAAAANSUhEUgAAADIAAAATBAMAAAAg4UMRAAAAMFBMVEX///+6urp2dnYiIiKqqqrc\n",
       "3NyYmJgQEBBmZmZUVFQyMjKIiIju7u5ERETMzMwAAACiJdmqAAAAAXRSTlMAQObYZgAAAAlwSFlz\n",
       "AAAOxAAADsQBlSsOGwAAAORJREFUGNNjYMAALMu/rzW+ngBi8t1BkeG++YBhAReEuQBFhqOBgTtB\n",
       "hQEL4AxgOMtzAUVor7ExSDcPA0Mf5wNkCak9MBbfhBdg+vROMMW6Bq6G9wDETQ3sYBdyBcBlnNg2\n",
       "gF0WwO8AlkGYC3UzD4P/ARD93BgIwE7idlBkYACLNYNVnIVrOcsKVDAVxDIC85nhMvOAPuL5AHLU\n",
       "R0hIbIC5uUEC6F0DIIvtA0RkCdzNaxhYr4Bs5ISGxMmLYFsZxG/V3q2vVQCy2GHGCF02Rg5bTof8\n",
       "AwxYwXsHE+wSDBw7BLBLAADAuTZm0d94jwAAAABJRU5ErkJggg==\n",
       "\" style=\"display:inline;vertical-align:middle;\" /></a> <a class=\"ProveItLink\" href=\"../__pv_it/demonstrations/6467d854eaf30779ac8215c907f958da9ec419570/proof.ipynb\" style=\"text-decoration: none\">&nbsp;&#x22A2;&nbsp;&nbsp;</a><a class=\"ProveItLink\" href=\"../__pv_it/demonstrations/6c455e7608a78834b41bdbab9d45dc3bbeb21bb70/expr.ipynb\"><img src=\"data:image/png;base64,iVBORw0KGgoAAAANSUhEUgAAAJQAAAAVBAMAAABS/tqaAAAAMFBMVEX////MzMxUVFRERES6uroi\n",
       "IiIQEBCYmJhmZmYyMjLu7u52dnaqqqqIiIjc3NwAAACW8nlqAAAAAXRSTlMAQObYZgAAAAlwSFlz\n",
       "AAAOxAAADsQBlSsOGwAAAY5JREFUOMuVlL1Lw1AUxU+1H+mHVRBnC4IuDp0FpZuTUIUs6tBBdBIy\n",
       "urWDRUSEboJT0clBKP4FWUXE4qSDJYuzDi6WIr6PNPU9T6G98EuT827Ou/eSVwABNCyCMVRgytfQ\n",
       "2BhDBR5CMNs0F2LbYg/PTueq0FeQaUABvJprV6ddcb3EKKpsrgFH7OB4tHP50lH/aZ2qRiRDhlgl\n",
       "+10/UtWI+5AhVmmPWaVpG2chmbcCs8oWmFXWzsXtM3ABjYMDZpVqMCutOq4KZVtLetgVv5IOeswq\n",
       "V2FWkRrlBtM+9sSNpJmTObhRG21GL8U+5W3ddfddd8tS/0QGT83ICk6ZVRWnVcUr/2ZeR9QgEi3a\n",
       "YJk2WLZnhR1gFRp8lOjYi3TsRbuo/BdwBw2q9mr2R+7csqxMNYqUmN4cNFiwFicWv5dE2yXTylIH\n",
       "2aLOxIwGh/STf4dVlakOzl9bVFZTLKe61OrEPs6m2q/Jr8pTuSaJ9RL03y9fHEmd99VHcK04P6ZF\n",
       "TQYjqc6LGl6+raHRGUP9BX6LeN4NWvahAAAAAElFTkSuQmCC\n",
       "\" style=\"display:inline;vertical-align:middle;\" /></a></span>"
      ],
      "text/plain": [
       "{j in Integer} |- ((j - 1) + 1) = j"
      ]
     },
     "metadata": {},
     "output_type": "display_data"
    }
   ],
   "source": [
    "Add(subtract(j, one), one).simplification(assumptions=[InSet(j, Integer)])"
   ]
  },
  {
   "cell_type": "code",
   "execution_count": 69,
   "metadata": {},
   "outputs": [
    {
     "data": {
      "text/html": [
       "<span style=\"font-size:20px;\"><a class=\"ProveItLink\" href=\"../../../logic/booleans/conjunction/__pv_it/theorems/3b73368031281d59ff93a70f2b4cba5069515ff80/expr.ipynb\"><img src=\"data:image/png;base64,iVBORw0KGgoAAAANSUhEUgAAADIAAAATBAMAAAAg4UMRAAAAMFBMVEX///+6urp2dnYiIiKqqqrc\n",
       "3NyYmJgQEBBmZmZUVFQyMjKIiIju7u5ERETMzMwAAACiJdmqAAAAAXRSTlMAQObYZgAAAAlwSFlz\n",
       "AAAOxAAADsQBlSsOGwAAAORJREFUGNNjYMAALMu/rzW+ngBi8t1BkeG++YBhAReEuQBFhqOBgTtB\n",
       "hQEL4AxgOMtzAUVor7ExSDcPA0Mf5wNkCak9MBbfhBdg+vROMMW6Bq6G9wDETQ3sYBdyBcBlnNg2\n",
       "gF0WwO8AlkGYC3UzD4P/ARD93BgIwE7idlBkYACLNYNVnIVrOcsKVDAVxDIC85nhMvOAPuL5AHLU\n",
       "R0hIbIC5uUEC6F0DIIvtA0RkCdzNaxhYr4Bs5ISGxMmLYFsZxG/V3q2vVQCy2GHGCF02Rg5bTof8\n",
       "AwxYwXsHE+wSDBw7BLBLAADAuTZm0d94jwAAAABJRU5ErkJggg==\n",
       "\" style=\"display:inline;vertical-align:middle;\" /></a> <a class=\"ProveItLink\" href=\"../__pv_it/demonstrations/357ba3d1d9b7686be945e740696c10fc0b7f7bdd0/proof.ipynb\" style=\"text-decoration: none\">&nbsp;&#x22A2;&nbsp;&nbsp;</a><a class=\"ProveItLink\" href=\"../__pv_it/demonstrations/30df658ac85e57f7767e5a56959ad27d863542950/expr.ipynb\"><img src=\"data:image/png;base64,iVBORw0KGgoAAAANSUhEUgAAAJQAAAAVBAMAAABS/tqaAAAAMFBMVEX////MzMxUVFRERES6uroi\n",
       "IiIQEBCYmJhmZmYyMjLu7u52dnaqqqqIiIjc3NwAAACW8nlqAAAAAXRSTlMAQObYZgAAAAlwSFlz\n",
       "AAAOxAAADsQBlSsOGwAAAatJREFUOMuVlL9Lw0AcxV/VNLE/YkGcLYib2M6C4uYkVCGTgg5SJ7Gj\n",
       "WwtaLIhQcBCcAk4OQvEvyCoiFicdLAHprIOLpVLvLmmS++aG9sEjyefCu+9d7hsALjyr5I5Bgazj\n",
       "WanNMSjw5BuztsTNxlUO2Qp5W02ZEitINSEMvMtjn0j/ADcYhfLFNWGwGQzFLFgGysDJ8HFDSSUl\n",
       "fcd0bKPgIjlc9bOSSnr0HdMiUMhhuiJHESrpwnfqIx8b2wPSeTmK0ED3r8A1PBs4jH2UP0Bv0qiQ\n",
       "GpaQiK0lK9hlV+4O+jRKYy9l9mmURIPv5844OGA33Hamx9mdmGhLjJ/yGr75Xd2yypa1TWhEKbzY\n",
       "QRSMEhnWeeVTtCqZhqojWCC0VqwNTBeZEomK0OheYQdYhWd8rZNNbyFrQy/KUYSGDcV64AGeUSWD\n",
       "3UaDFW205ChCw91guzcHz1igh2ow+GXLXpejCA00werUcp5xpOyrLmJHNErD/muzymrCS3pPGXVO\n",
       "2pnQYU1OlXflGneiryn/fmZxJDrviENwK3x5pixq0h2JGm9i88y2Z6U6Y9B/8Z19OG3mBDUAAAAA\n",
       "SUVORK5CYII=\n",
       "\" style=\"display:inline;vertical-align:middle;\" /></a></span>"
      ],
      "text/plain": [
       "{j in Integer} |- ((j - 2) + 2) = j"
      ]
     },
     "metadata": {},
     "output_type": "display_data"
    }
   ],
   "source": [
    "Add(subtract(j, two), two).simplification(assumptions=[InSet(j, Integer)])"
   ]
  },
  {
   "cell_type": "code",
   "execution_count": 70,
   "metadata": {},
   "outputs": [
    {
     "data": {
      "text/html": [
       "<span style=\"font-size:20px;\"><a class=\"ProveItLink\" href=\"../../../logic/booleans/conjunction/__pv_it/theorems/3b73368031281d59ff93a70f2b4cba5069515ff80/expr.ipynb\"><img src=\"data:image/png;base64,iVBORw0KGgoAAAANSUhEUgAAADIAAAATBAMAAAAg4UMRAAAAMFBMVEX///+6urp2dnYiIiKqqqrc\n",
       "3NyYmJgQEBBmZmZUVFQyMjKIiIju7u5ERETMzMwAAACiJdmqAAAAAXRSTlMAQObYZgAAAAlwSFlz\n",
       "AAAOxAAADsQBlSsOGwAAAORJREFUGNNjYMAALMu/rzW+ngBi8t1BkeG++YBhAReEuQBFhqOBgTtB\n",
       "hQEL4AxgOMtzAUVor7ExSDcPA0Mf5wNkCak9MBbfhBdg+vROMMW6Bq6G9wDETQ3sYBdyBcBlnNg2\n",
       "gF0WwO8AlkGYC3UzD4P/ARD93BgIwE7idlBkYACLNYNVnIVrOcsKVDAVxDIC85nhMvOAPuL5AHLU\n",
       "R0hIbIC5uUEC6F0DIIvtA0RkCdzNaxhYr4Bs5ISGxMmLYFsZxG/V3q2vVQCy2GHGCF02Rg5bTof8\n",
       "AwxYwXsHE+wSDBw7BLBLAADAuTZm0d94jwAAAABJRU5ErkJggg==\n",
       "\" style=\"display:inline;vertical-align:middle;\" /></a>, <a class=\"ProveItLink\" href=\"../../../logic/booleans/conjunction/__pv_it/theorems/8c03a8ee27d4d8fa777368c3ee7b307fe25ee5270/expr.ipynb\"><img src=\"data:image/png;base64,iVBORw0KGgoAAAANSUhEUgAAAC4AAAAQBAMAAACb51DZAAAAMFBMVEX///9ERETc3NxUVFQyMjKq\n",
       "qqrMzMwQEBC6urqYmJju7u52dnYiIiJmZmaIiIgAAACrFvqoAAAAAXRSTlMAQObYZgAAAAlwSFlz\n",
       "AAAOxAAADsQBlSsOGwAAAM5JREFUGNNjYEADrO7fHc+ITwCy3qKI8wknMDiwgFinUcR5LzDwTdjK\n",
       "gAGYFRgWcgkg6Zc5cwREczEwXGNOgAtz+C2AMdkMckHyb0F2M6jAhRkYF0gBSW6OAhDHCWFiNOcD\n",
       "IJnK6wDiOCDEIa5cwA6SZas5c+bMQYgDAnYARRkY4kEmI7lsIROQbcTA4MwF4h2Ai5sBfcD1gYHr\n",
       "BzeI9w7uygu9QM8dYGD7oAnisgTAXenFwCQKNMoS7H4uwy6IeLtIoWB94QaEhzdCwgEKABNHK9py\n",
       "L46vAAAAAElFTkSuQmCC\n",
       "\" style=\"display:inline;vertical-align:middle;\" /></a>, <a class=\"ProveItLink\" href=\"../__pv_it/demonstrations/c7d195d7ccf05ec8c8b130ea502125a53f554a870/expr.ipynb\"><img src=\"data:image/png;base64,iVBORw0KGgoAAAANSUhEUgAAAJUAAAAVBAMAAAC9PLGkAAAAMFBMVEX///8AAAAAAAAAAAAAAAAA\n",
       "AAAAAAAAAAAAAAAAAAAAAAAAAAAAAAAAAAAAAAAAAAAv3aB7AAAAD3RSTlMAInZUiRDNmWbv3US7\n",
       "qzJazP2FAAAACXBIWXMAAA7EAAAOxAGVKw4bAAACDUlEQVQ4y42UTShEURTHz4y588YM01tJUoaE\n",
       "FRZSpFhSJm9lIWqQsplIFspmsmCjSCmxMOVjMaRJWdi9oSwsZJJIlFLUpEzJQiycc98zxnFfuXVe\n",
       "9/7Ovf977rnvXADQQdXU1OXsouZu/D+FQAg/+wz2fZ4Y0PWeBGii4bPB/ERrGcvgpDraJ8Ycx4Fz\n",
       "EFkAEaFRDfNKuvkbXY2hlpc2HWGzb/ROgEUALaY6i5I2oI5vHDtzzHFhenWIAxQq86KkpAXL5LUy\n",
       "4j5NbMtOesYVIa1mpVazo9YomldGHRj6TnK6+L6atCYpFVXnbBlSURtTaYXRPHJ6Se6+0mAWJePW\n",
       "PhqssGVIPYFFldYsmk/e1yD8aD2JLdTawH4lvLJlSB+0iEqrBa1A7hLJ0/I1tiFbw75R8EaoN0Ft\n",
       "j7pIjcLQb2ZpvaAFs/RZRceurQWXxbYWaHEWAtF2QxXXIWWd4hJmXlwwIOwzgr/j7xkhKlRarXRG\n",
       "uXU8XysYQukjGlQk2TKk4sOj0pqn3MuQqnKOM7R607pjWOC/UpiSUspgj279LaDJY3hz5T9MDK8i\n",
       "Q4NbrkX0mv1fd+tRJDuUEnkMcXtgOR7fTauC/fc4WuJakiofMMpSmf0Adds19N2wWC98b3yJLGHH\n",
       "op9yegtTwVf/34cv5TC7nGIznbT6YWJaRR12RityfKRdof9TcOuy5NTtC1qXfjzCUiPYAAAAAElF\n",
       "TkSuQmCC\n",
       "\" style=\"display:inline;vertical-align:middle;\" /></a> <a class=\"ProveItLink\" href=\"../__pv_it/demonstrations/e58bd694a207ce00d9acdb5556ee393b3d7043f20/proof.ipynb\" style=\"text-decoration: none\">&nbsp;&#x22A2;&nbsp;&nbsp;</a><a class=\"ProveItLink\" href=\"../__pv_it/demonstrations/510695b3c098332f05457331dfab3edabc5ddbb50/expr.ipynb\"><img src=\"data:image/png;base64,iVBORw0KGgoAAAANSUhEUgAAA34AAAAVBAMAAADr3CEjAAAAMFBMVEX///8AAAAAAAAAAAAAAAAA\n",
       "AAAAAAAAAAAAAAAAAAAAAAAAAAAAAAAAAAAAAAAAAAAv3aB7AAAAD3RSTlMAInZUiRDNmWbv3US7\n",
       "qzJazP2FAAAACXBIWXMAAA7EAAAOxAGVKw4bAAAGlElEQVRo3p2ZTWhcVRTHz2RmMh/pTMdulFBw\n",
       "YtG4EQephUQks9BNIXTIIqtKBqQQxGKUkISqEFwkLiodUgq2XXQgluDUxCGrBgQnhS6VERdtRW1A\n",
       "NxYhactkE2i8977Pe86578MDN33zf/ed+c3/3Hfvfa8AUAIvSqB/9iIRXeW7mmQSZgaTbroigY4T\n",
       "cZPGYYuRhSdNAMR0Xp3pq3iiPPZ/9sVAObJ6AmJkIBHAALBpVDdDQE6YwTYjq0FsmzFUltRAF+C8\n",
       "OnNSfZx9F+xj2YZR50c1gFdJCqJm3hEKJKviR85EyqCHzgD/1vTTxZsi7yK+yFHpGQXih2LAEvMf\n",
       "7tBLGTXYHxaNz41Cp4PiXf3083M/M765qmjpulRSf14G61h9/kbrnr73kfiSfmQno47/I8fmpGj5\n",
       "aoQMKBADvKKffm+uJ/6eA5N6jiScRFAM2HFIHdBLqRrojwGNz41Cp4O+uj4EOnCmTXzzVNEyaoDk\n",
       "3pKFl8cZbsC8LvpmnZF7m1VlXP5BftOCTzH3pRHCAH3SpGVn+ljE6jK5YAFBLdCcvwBcpUl1NQIb\n",
       "i0azMBFIB4US5BrEeU8VLaekH1WJc3Zj6wdX7A9vsKoE76l/Gr4LjX2ZCGGwTMrZYzFZxmqO3N0N\n",
       "BNWgOW/U4GGJJNXVCGwsGs3CrGKBdJDrQeExcd6nXoFTSjqt/p6yG1+/abYm075Jpqnw68b6TQfW\n",
       "L4TBMql/kaufVPvxjWGBeFDJOs35G8DDHZJUVyOwsWg0C7NmBNJBoQmFZ8R5nzoNs1L56to9tUhb\n",
       "LT28yNVvnK3JuNsp+2Bd3ugZscJMLIT0ZUJngPRLXc6kVJern1RTuL8E8UNpYF58zyTV1Aj+8Gg4\n",
       "Cw1EBxOvkS75PcZ5Vx23a/tE/bUqCqmBBle/JbYmS16vowpcDrjqVlhfJjQGyMDXnEnZOlc/qVpn\n",
       "LrRkrIN7P3hQGpi3dXzCJNXUCP7waCQLDZ0OZnLkbt0tM8676hKsqh3NM6WuWu2vTJ2r3whbkxGv\n",
       "14s7amhUoFiZC+vLPJBqDDAETzmTkg2uflJNYlPzFQ1KB/N6dZmkmhrBHx4NZ2FCo4O+0lHycLnO\n",
       "Oe+qI3BdfeWeUq9brZaTBOkP1FDecd3ftcf3VXt8+1QrxqzVtQ1pWAnrS0NngFqyhyCUSUXZK9Nq\n",
       "fXut1epqanEPL/5tDcoHNqmSbqgzn3FJPZVjo/7waDgLExqdwBurIbxMh3PeVXet+lnLqOvdWI27\n",
       "//g5cQsv8hIk2Qvra1rKXQbINLlBPsDef1Ilk5pVv9OaQy6YuwJ1uaSaGsEfHg1nMe7ZHDpRJLIr\n",
       "AM55V92y5s8jXW3uOp/m6jfK1mTU6/WTO231d2shfWkgBvyk7UxSTXb+bDpnfOufNX96UBqYEych\n",
       "UaJJNTWCPzwazsKETkdeDMiXMs9R5z11FO6oAWB95R2rpQ9SXP0usvVTqmXKivVbRa6pdjWkrz8s\n",
       "RWcQS0Ob3SR02P1LxzvjmV7WoTQwZ4dRhb4aSepT0xDFHxaNZNHeSAFQOkgcoG5/A7xMnffUi9be\n",
       "1PbK2pGKKfsFlOZMyd49azVx1fQ+eF8uN8y7icXAvlN1fIAZAC6RCfax81Dgr5+rZvD9qnbuPigN\n",
       "zI7B+fkLNKlPnapH8YdFQ1noDyd0kEWLZWJtfr5JnPeps/DIW0bVsWz30S72jxvnhXIL1c+ntmre\n",
       "Il8UqQtfBvfNy6eeNbAP1NWYAX7Hz7IP9u+LC9q6SZ6ax/erBPFDaWDOA9rh4T5N6lPzNyP4w6Ph\n",
       "LO7vXXPzIjoooDkkf3h4WCfO+9RbkJcbqM/tEztW4/f3TbKLddWkrEDGflLd4N6/oL76JK8UzLDC\n",
       "UgwCeUi21UHSdwNBbZhWIXNSgDchoj/hWbRQCqbLleM5L1p2BpLd9+0N00zAS2b3xe1tqsr14O1+\n",
       "+9llmXt/rfdFs4/80Yjh12yPpVjA769dlb5ZWUZQxlfJ5qTiiR8i+hOWBUUVCF2hcqkWz3nZtiF/\n",
       "13ke3bYbF8cD1AnRvpt09g2lwAwTRJcKYig+zbP/TZromFTmjADRoExg5qRisSpDRH/CsqD9Sxlb\n",
       "dqS0W1mN6bxsZyE77Pyws3bjYjtAlTBffOygdQIz0ClCKpjhk0/5h4ySSWXOCBANygRmTip2lgzb\n",
       "/8uCdqyALUt3MsPtmM7LlvAZKo8TZf7tfymyegxiZKAj1swg36qZ1KEQkGNmsKHIahDbUAyVJTXQ\n",
       "BTgv2n8bAZ6tDHIopgAAAABJRU5ErkJggg==\n",
       "\" style=\"display:inline;vertical-align:middle;\" /></a></span>"
      ],
      "text/plain": [
       "{j in Integer, i in Integer, (j - (i - 1)) in Natural} |- (f((i - 1) + 1), f(i + 1), ..., f((j - 1) + 1)) = (f((i - 2) + 2), f((i - 1) + 2), ..., f((j - 2) + 2))"
      ]
     },
     "metadata": {},
     "output_type": "display_data"
    }
   ],
   "source": [
    "f_i_to_j__shift__eq.rhs.entries[0].shift_equivalence(\n",
    "    old_shift=one, new_shift=two, \n",
    "    assumptions=[InSet(j, Integer), InSet(i, Integer),\n",
    "                 InSet(subtract(j, subtract(i, one)), Natural)])"
   ]
  },
  {
   "cell_type": "code",
   "execution_count": null,
   "metadata": {},
   "outputs": [],
   "source": []
  },
  {
   "cell_type": "code",
   "execution_count": null,
   "metadata": {},
   "outputs": [],
   "source": []
  },
  {
   "cell_type": "code",
   "execution_count": 71,
   "metadata": {},
   "outputs": [],
   "source": [
    "from proveit import fa\n",
    "from proveit.numbers import Complex"
   ]
  },
  {
   "cell_type": "code",
   "execution_count": 72,
   "metadata": {},
   "outputs": [
    {
     "data": {
      "text/html": [
       "<strong id=\"f_i_to_j_dec\">f_i_to_j_dec:</strong> <a class=\"ProveItLink\" href=\"../../__pv_it/common/0bddaaf076f4370ef99072b6bd75245122135a110/expr.ipynb\"><img src=\"data:image/png;base64,iVBORw0KGgoAAAANSUhEUgAAANcAAAAVBAMAAAAnc2Y5AAAAMFBMVEX///8yMjLc3NyIiIiYmJgi\n",
       "IiJERES6urqqqqoQEBDMzMxUVFTu7u52dnZmZmYAAAD1zdHuAAAAAXRSTlMAQObYZgAAAAlwSFlz\n",
       "AAAOxAAADsQBlSsOGwAAAplJREFUSMeVlj9oE1Ecx3/JJc3lcrneoJMOhaqrQRwKQogojtqlWrRK\n",
       "0FGHgCB0OwcHqdJABx0csgg6pUOXblcCLg7N0ikIqegotC5dOvj7vb/3Lu8e9cE9fnm/z32/93vv\n",
       "3bsAqFZWXb4tAPzHcL6VbfQSdbXWLO0ldpWXZzNbMujoR4q9P0bZKVzPcjzzHq92TiFYQ7rjdtG6\n",
       "ELyQ9OQrPfoeXtUxlNIMzjJhjNFjU+f74Sn2F91mWhe8WNIfX5HBL05UphmcZSJbAR6Z3XWbGbqC\n",
       "rp2yuC/GPmmaZ+pQZFZPXV45XU43lyn0YzF2TuM887rQrORctJwuoyu7j2jmIlzHEZU8UbTI/MFl\n",
       "a3dsZs1th1dGF0Y3JD3fkr7jdQxuap5nsNRmrW8zq8SuyrQuTOsdQV8d0GA1gSA5xOCtxnlmFeBL\n",
       "FNvM/L7LTOmCtzCfCHqTL18PQtjCYKhxnvkAkNbpKcPzK9QGyiw4cpkpXRTeTAV9oAZ9UljX+IE0\n",
       "Y/BsZTVnZVoX4Lekn4Mst7SNmm80zjM4jXAhtE7jsstM6/IzgdFbbHAOJ2q/h1vnDk0Yx3nmGf4+\n",
       "aVo3SFez2ZZm7iZdKJ8ImgV8Yw7LHbbTYZ/tB5GZ0HRfyr9Ef+W2JjY8ljepX1ldqBwJ2uerHGCR\n",
       "jdsYPKDa19j7yDOf8drJvWeN3eMdxHqSfULBVHYrKRi60KApIDoSb+ZD8fVh6/COndo8Ux0Urcpl\n",
       "UKzR/BRMXbaZkd4oJZlzUh67ND8yYxzNRuNn7Hj2oAJDt5HcEyfy/T1BzPFP6RXqQnoSlXla9Anu\n",
       "KtZsIzB0h8mqoG/9FINhVyt71KnMtwIz/njebKIFhm7U7uliRFtkt1r+WJRbdrNrZ/tbsKjofza0\n",
       "sP+ts+Z8AAAAAElFTkSuQmCC\n",
       "\" style=\"display:inline;vertical-align:middle;\" /></a><br>"
      ],
      "text/plain": [
       "<IPython.core.display.HTML object>"
      ]
     },
     "metadata": {},
     "output_type": "display_data"
    }
   ],
   "source": [
    "f_i_to_j_dec = ExprRange(a, fa, i, j, order='decreasing')"
   ]
  },
  {
   "cell_type": "code",
   "execution_count": 73,
   "metadata": {},
   "outputs": [
    {
     "data": {
      "text/html": [
       "<strong id=\"assumptions\">assumptions:</strong> <a class=\"ProveItLink\" href=\"../__pv_it/demonstrations/6523a22f18719366f843c74e3a2766fae73615bd0/expr.ipynb\"><img src=\"data:image/png;base64,iVBORw0KGgoAAAANSUhEUgAAARcAAAAVBAMAAACeQrdYAAAAMFBMVEX///8AAAAAAAAAAAAAAAAA\n",
       "AAAAAAAAAAAAAAAAAAAAAAAAAAAAAAAAAAAAAAAAAAAv3aB7AAAAD3RSTlMAInZUiRDNmWbv3US7\n",
       "qzJazP2FAAAACXBIWXMAAA7EAAAOxAGVKw4bAAADQ0lEQVRIx61WXUgUURQ+O7uzP7M72zyJRNAq\n",
       "lT30s0QJheA+FiQNPvQgiWMiSCBKSIS9DAX1ErgEQX/ghNnD9LdERT0Eo1GQRqxI9IOFFBSJ0IIY\n",
       "iD10752/u3fvrG504MA9997v3G/OOffcAQAFbK1FQvDfhVAQsrbWJMkMM9Hx55UKh1YKvM3igze9\n",
       "EBm9znflIh9iY6+jniyqzPYmxl5AG7azPl8kiyCW+IhU9jlAl2ulX3KRgo5oa7b6so0951b5d74f\n",
       "QGSiLONPykGAPBcB8s2IDgnXEjQ+shcgpttaKU+DcrQbEYkPMpOzVlQBgw+QW6AbpCB3LvICEMIJ\n",
       "7qY91cjAZeczp8zbZDBzNqSxZHaYJomCXJ+pqyBTgUyo0IzM5n8g02cX8nE3XTPy/BaGzJOtbmSU\n",
       "L0KOIVOJjOowhMwhuiQai+VkxCadR6aNDOu80pkBK1UwaESo10uTkoJpl0z7zgBkpEi+sI86KQZX\n",
       "yslEknkemfNk2A2+yx/iuEEjoopPJj3Y0eEYgwmdj4xrMIbMMeqkBlgqJ/MtpvHI7CdDjXIZz7bk\n",
       "aUTUL2AFzoVfO6WibMjykeE84FaEVDxhYpkHNbyMdwyb5lXTvIdGagI3uKNk+b5P5hdpGdfQ5F3H\n",
       "JbyTbTI2An5ihOWQkdWPTtahVeUj0yWXDJUngyngVpUXmWfEs0V9H3SKBo04RkdGLLppguEAJEou\n",
       "myaQcgyZfpFH5gAZGrTLdMaiERJNBr6myntoJTJswCQyJ+mjNheY27Qa4ZG5SIaN3uRbpLssEH2E\n",
       "4L1fqXlkLaL8kUu2ykdC3CJXtI0+aoTpM+lSPUPmiOK1g6j3wvbgDGvQpfmIHneN7DoF4m9sxEt8\n",
       "JMRysIBfPvqoObbpfWD6zOfRfjRzxw7b3GN78vuKRd44adxHdE7b1ZYeuIGvAICJbdniI0EqgIRC\n",
       "iNWTS2t2YBJsJ+fJw05Td2UfNX40ZZa1hTAmk8gEIDfaLx716s3Gl9d8KMmd0wMWclVAqJTk7Iga\n",
       "sHoa6YSjdkSXpPX9Z20KmBczVUDtqD1lx4JibTntwG8JJ8+s71dvImBeqAZCRGNNhYDFFL4WoYyt\n",
       "NYlQ60/z2tIA8BccG+5sNKWGHwAAAABJRU5ErkJggg==\n",
       "\" style=\"display:inline;vertical-align:middle;\" /></a><br>"
      ],
      "text/plain": [
       "<IPython.core.display.HTML object>"
      ]
     },
     "metadata": {},
     "output_type": "display_data"
    }
   ],
   "source": [
    "assumptions = [InSet(Add(Neg(j), i, Neg(one)), Natural), \n",
    "               InSet(i, Natural), InSet(j, Natural)]"
   ]
  },
  {
   "cell_type": "code",
   "execution_count": 74,
   "metadata": {},
   "outputs": [],
   "source": [
    "#InSet(Neg(Add(x, one)), Complex).prove(assumptions=[InSet(x, Complex)])"
   ]
  },
  {
   "cell_type": "code",
   "execution_count": 75,
   "metadata": {},
   "outputs": [
    {
     "data": {
      "text/html": [
       "<span style=\"font-size:20px;\"><a class=\"ProveItLink\" href=\"../../../numbers/negation/__pv_it/theorems/6bf1a18c2e3498be826f1c5ef7caab578b7ee8c80/expr.ipynb\"><img src=\"data:image/png;base64,iVBORw0KGgoAAAANSUhEUgAAADQAAAAQBAMAAACra0H4AAAAMFBMVEX///9ERES6uroQEBAyMjLc\n",
       "3NyYmJgiIiJmZmaqqqp2dnbMzMxUVFSIiIju7u4AAAAd7oVFAAAAAXRSTlMAQObYZgAAAAlwSFlz\n",
       "AAAOxAAADsQBlSsOGwAAANJJREFUGNNjYMAC+BaW+EYvwCbDcMeM4cXHBmwyHJeAOhKxSu1gfMDA\n",
       "wIMidbG83AFEn2ME2ZeAJKNyD8oQiIAy3t55vWoCkGb1gwqwHtgFZTXwnuUoANIsAVAB7gVqEAZb\n",
       "ANs/HpC5LDCDWRt0oWoYOMB2M2wuBwIBsF1RMFXMF8DUQ7h75BhhLP0APqA/GNjhUhogfzEoMDxU\n",
       "OMzABRLgvYAIjQMMIGvm72tm0ASLeCL87hHwsoKB4cVdzrYJYIE3Qg/gIW9fEYASdlrikICCAgDf\n",
       "OzMVc9WQZAAAAABJRU5ErkJggg==\n",
       "\" style=\"display:inline;vertical-align:middle;\" /></a> <a class=\"ProveItLink\" href=\"../__pv_it/demonstrations/a99b9aa1f5069a7cafb8c4352aaa12433e6a31520/proof.ipynb\" style=\"text-decoration: none\">&nbsp;&#x22A2;&nbsp;&nbsp;</a><a class=\"ProveItLink\" href=\"../__pv_it/demonstrations/d0b85d118a2a7fb81bc582e97a022cf0b6ad578b0/expr.ipynb\"><img src=\"data:image/png;base64,iVBORw0KGgoAAAANSUhEUgAAANAAAAAVBAMAAADFr31AAAAAMFBMVEX///8AAAAAAAAAAAAAAAAA\n",
       "AAAAAAAAAAAAAAAAAAAAAAAAAAAAAAAAAAAAAAAAAAAv3aB7AAAAD3RSTlMAInZUiRDNmWbv3US7\n",
       "qzJazP2FAAAACXBIWXMAAA7EAAAOxAGVKw4bAAABtElEQVRIx42Vv0vDQBzFv/1lUtOWzJ1i90IG\n",
       "0dGCrkIRtEuVLgVxKiKldoo4dDQ46lIQBwNKqX+A1dWlCEK7ddDFyQ51FK8JF+96923vDSXv88i7\n",
       "S75pAgAmsJrnFgbmvFOitqpj1UVpFztlVdlRZW7JFhyMikmgREXVUe3XJ+S3itKqfCHNUXUGddFp\n",
       "ZQulLflCSWUXs9jKZBGjNJnRmrLjK5ccjC7Jh3SywO3kD7ZsSWW8Dwilyf+oc+8fm3DIMdHVom9a\n",
       "W1KpVwChQdL0prr3Rw15qwk3XLXgdFOfpB1JZcwFhNIk1BlcFAdwTY72/NUfyBFxiSPfjQKXAc3f\n",
       "oOZ5d1ee1w8rM98Y9RNWI6gHZYwkLmlJHwbDxajhCg/CpexmzbonM1GU3aQ2IDRImBmBMYZdeOGq\n",
       "BVfuDCEuHXsPozQJH7rXtAsF2Oag4DY+T+FxpjI+no6ngFGahP+/35Jr2PDFQcGVcrGGzVemhz8D\n",
       "gOUORmkSXtGxtX5O8IiF81y4d19ZlGbl7zq9puoM7tXSQGkD+R49KztWkR5G5QlRWdmxSpkYTWHf\n",
       "8oil6litoFSewB+6eJW/EAGn8wAAAABJRU5ErkJggg==\n",
       "\" style=\"display:inline;vertical-align:middle;\" /></a></span>"
      ],
      "text/plain": [
       "{x in Complex} |- (-(-(x + 1) + 1)) = x"
      ]
     },
     "metadata": {},
     "output_type": "display_data"
    }
   ],
   "source": [
    "Neg(Add(Neg(Add(x, one)), one)).distribution(assumptions=[InSet(x, Complex)])"
   ]
  },
  {
   "cell_type": "code",
   "execution_count": 76,
   "metadata": {},
   "outputs": [
    {
     "data": {
      "text/html": [
       "<a class=\"ProveItLink\" href=\"../__pv_it/demonstrations/64ccefe96abb729f18bfeadee581beb56b2c893a0/expr.ipynb\"><img src=\"data:image/png;base64,iVBORw0KGgoAAAANSUhEUgAAAMUAAAAVBAMAAAAEKDfsAAAAMFBMVEX///8AAAAAAAAAAAAAAAAA\n",
       "AAAAAAAAAAAAAAAAAAAAAAAAAAAAAAAAAAAAAAAAAAAv3aB7AAAAD3RSTlMAInZUiRDNmWbv3US7\n",
       "qzJazP2FAAAACXBIWXMAAA7EAAAOxAGVKw4bAAACW0lEQVRIx4VVPYgTQRh9m7ibZPPDYimCOf+w\n",
       "EE0hBycWKbUQg4WF3GFABBHEQ0QCNsHCsxA8DgTBwoDYRDgWEeG6VcFCQRIOEUQhleIh3MGR4sDC\n",
       "nfnmZmdmZ5MPHuy8N7Nv5ptvZgAEIEwKZwrFG9k/yTUIE6NcT1GHUvpro8flfx9bOLcTAqdAkPG3\n",
       "ZfTdiIljpkW+qUxzkeu5rtHnQ3kAdwtw24Qkjuod3W+3Yg/PNL6kfPtN0q8Zfb4HZ4FloNAlTIiT\n",
       "8fjiokF29CbXl4w+65EXoAeUQJjigScGuWy0mV4Siz3e7/PMDO87beYxC8I0j+vGdrSNTkz3KB9v\n",
       "jwhuWB0dZh53QJDpPziwepzXuYKy5Rc7Qt/DhzpyW4aIKmGP/NU5FvDU6vFA5zxlC5trQi/yxXlB\n",
       "4vHbfRl7vABhN2awbfWY0zk/OVG1xl2h5/kmeUg8io0zMfcMHO6NPosRWvkxL03eXE08NnW2FMqW\n",
       "ixWh17ZYpz+MjcgDX6uJh5KsnnUdazrHPOT+j4Ve5uuYV9aBBdeSK3agbB6nM3MFb9AiPc+n56se\n",
       "tXq8ovcgyDgQWj0e6VxFucCuhE3SizxDOSl9iXEioprT6vJx6nxcCIz6lmVKsel0SRcFfXVXYB+F\n",
       "uNY2QJDxw7T4+fxm/I9XOllTdq36EKT7lIKFz3Tef+1EdBf6I4KMFfsDYlbCqkXfJxpvPvXb5mWm\n",
       "XHjrxbHVI3VtLln0TtZt9E6AUrDt25+r/SZRCVK6E2V5zGslffte9kz0ZyVK6ZXMx9apEyZGLj18\n",
       "b0qfyRj8H0ifmdDXsbArAAAAAElFTkSuQmCC\n",
       "\" style=\"display:inline;vertical-align:middle;\" /></a>"
      ],
      "text/plain": [
       "((-j - 1) - (-i)) in Natural"
      ]
     },
     "metadata": {},
     "output_type": "display_data"
    }
   ],
   "source": [
    "InSet(subtract(subtract(Neg(j), one), Neg(i)), Natural)"
   ]
  },
  {
   "cell_type": "code",
   "execution_count": 77,
   "metadata": {},
   "outputs": [],
   "source": [
    "# f_i_to_j__shift__eq_dec = \\\n",
    "#     f_i_to_j_dec.shift_equivalence(new_shift=one, assumptions=[InSet(subtract(subtract(Neg(j), one), Neg(i)),\n",
    "#                                                                  Natural)]).lhs.entries[0]"
   ]
  },
  {
   "cell_type": "code",
   "execution_count": 78,
   "metadata": {},
   "outputs": [],
   "source": [
    "# lhs_done = f_i_to_j__shift__eq_dec.inner_expr().lhs[0].with_decreasing_order()"
   ]
  },
  {
   "cell_type": "code",
   "execution_count": 79,
   "metadata": {},
   "outputs": [],
   "source": [
    "# lhs_done.inner_expr().rhs[0].with_decreasing_order()"
   ]
  },
  {
   "cell_type": "code",
   "execution_count": 80,
   "metadata": {},
   "outputs": [],
   "source": [
    "# f_i_to_j__shift__eq_dec.rhs.entries[0].shift_equivalence(\n",
    "#     old_shift=one, new_shift=two, \n",
    "#     assumptions=[InSet(j, Integer), InSet(i, Integer),\n",
    "#                  InSet(subtract(j, subtract(i, one)), Natural)])"
   ]
  },
  {
   "cell_type": "code",
   "execution_count": 81,
   "metadata": {},
   "outputs": [
    {
     "data": {
      "text/html": [
       "<strong id=\"tup\">tup:</strong> <a class=\"ProveItLink\" href=\"../../../numbers/ordering/__pv_it/theorems/3dcd5ceea6334d8cb48fe14fdae236293aa9a6050/expr.ipynb\"><img src=\"data:image/png;base64,iVBORw0KGgoAAAANSUhEUgAAACkAAAAVBAMAAAAp9toTAAAAMFBMVEX////MzMxUVFRERES6uroi\n",
       "IiIQEBCYmJhmZmYyMjLu7u52dnaqqqqIiIjc3NwAAACW8nlqAAAAAXRSTlMAQObYZgAAAAlwSFlz\n",
       "AAAOxAAADsQBlSsOGwAAAQ9JREFUGNNdkSFPw0AUx39Q2pVx62bwWDJIqnCQKRxZJSETE0uwlTjm\n",
       "EAgaDAmqCR+ghQRfC5jyAVgaEvwsU7y77Ui7E+/+73cv/3vvDqhoLpN3ijV6psNHDbSPIimLRST1\n",
       "uu2phEfw4zrtarsr8Bqew1SCl/LWoK/GJuZWtqA/K5f0/usAdvZ4EH1aOYtlD79pVtFKGIm+xI8M\n",
       "VQu8EjVmIm3McXND/YRuzsZcUy8kGxgqh8OCrbF2yEqu/9u9S1ERx0IL9lXV1rQnd9AKeQGnVOc+\n",
       "mYy+GTsysp+zKz0cPn9/4l6I6t9o9wFuz871bsWPmExtkluh60/s266GJgglPK2Sji119BcF5doP\n",
       "zeAPz407TZ15g6gAAAAASUVORK5CYII=\n",
       "\" style=\"display:inline;vertical-align:middle;\" /></a><br>"
      ],
      "text/plain": [
       "<IPython.core.display.HTML object>"
      ]
     },
     "metadata": {},
     "output_type": "display_data"
    }
   ],
   "source": [
    "tup=ExprTuple(a, b)"
   ]
  },
  {
   "cell_type": "code",
   "execution_count": 82,
   "metadata": {},
   "outputs": [
    {
     "data": {
      "text/html": [
       "<span style=\"font-size:20px;\"><a class=\"ProveItLink\" href=\"../__pv_it/theorems/0416a1b210810ad0dc1b92b729f6f0c5dca980ff0/expr.ipynb\"><img src=\"data:image/png;base64,iVBORw0KGgoAAAANSUhEUgAAAIUAAAAVBAMAAACakjBMAAAAMFBMVEX////MzMxUVFRERES6uroi\n",
       "IiIQEBCYmJhmZmYyMjLu7u52dnaqqqqIiIjc3NwAAACW8nlqAAAAAXRSTlMAQObYZgAAAAlwSFlz\n",
       "AAAOxAAADsQBlSsOGwAAAcRJREFUOMtjYGB4wEAc4MMtxXuASDNYLqAJLP1suYBh2zcHBobTIC6j\n",
       "FZr8DTS+6AIGhuvoptqwKDBwfWBg4JoAdswENOloFB6XxnygGZwL0BSpPtjOwJDAwMBRgM/97jDG\n",
       "faB+9gY0WR0DzgcMAQwMbHjD4CyyGQxZ0BA0DY0EM/Rq+SaAzDhJghnTIWE7F+YnPSaB2yAzukGc\n",
       "tZdQtXLdKMBmxiYw8yU8WPQYDJgdAqBmN7Chhgo3SwI2MyrBzHkMCDMkuKKAZsSAPPiAHzWRyHBM\n",
       "wGbGMTBzApIZ7AcOA21LATmd4TxIycpQEAgEshawgdJTa2hoWmhoEMIMeXBSSgUqCoaawaDFBDUD\n",
       "qBwtLM8vwOYON3BYGSC5g2ERF9Qv6EmKgWESFzYzjoKZAchmMF4AGmkLzk5f0OLlCzc2M4rBzLtw\n",
       "ZYZAfNEAGl/sH1DNYPzwHM2M/aDcDU4HDJzw8J8DxKDQFwVxmAzQ/KKOlj6U8icBRUIgjlT2gghK\n",
       "fjOA5DdWASCP7QKhdAr2MTQkWDZD0zoMADMS04H6BYTyHAjgzp52DPIHYogqhB7jlFnMwHHDgSgz\n",
       "7HAXkxeILAt5cRW8AO2rdCJ9xwfVAAAAAElFTkSuQmCC\n",
       "\" style=\"display:inline;vertical-align:middle;\" /></a> <a class=\"ProveItLink\" href=\"../__pv_it/demonstrations/ca1585419aa0fb843b1136d27f39d1a8189bc9ca0/proof.ipynb\" style=\"text-decoration: none\">&nbsp;&#x22A2;&nbsp;&nbsp;</a><a class=\"ProveItLink\" href=\"../__pv_it/demonstrations/51da42ded8d4d203e6b11ba6c6a712615cdff6f10/expr.ipynb\"><img src=\"data:image/png;base64,iVBORw0KGgoAAAANSUhEUgAAARsAAAAWBAMAAAAC6iV4AAAAMFBMVEX///9UVFREREQiIiIQEBCY\n",
       "mJhmZmYyMjLu7u6qqqrMzMyIiIi6urp2dnbc3NwAAABm9RoHAAAAAXRSTlMAQObYZgAAAAlwSFlz\n",
       "AAAOxAAADsQBlSsOGwAAAxFJREFUSMetlk1oE0EUx1+yyXaSpjGIIhKEELwVNBIoVhCC2JMie7HX\n",
       "LpZSpYoLIvTgYSOKaMAEemhBlKKedT2JKYYc6slLvCjYHFJ6KfRgbk3wA+fN7GZ3s7PpijuQYfbt\n",
       "/F9+82bmvYUOYEvD/7eOoxe8COagzUYfQsD5zPq2xz5e+wcHTJ5ohYAzrohxnmP3Uh+arLqfk2e5\n",
       "AyZ/BGG0ZSEO0bB/P2SV3AEoL/a4AyZfCAVnVogjK6M0n6xo9bgDJi+FghPTRTixkZpnThzqAOUJ\n",
       "LRScMUWEsxochzpAuYwbub21Z89Kn2gYASFs3URGhHMLz89Gxm2sLIhwqIO2uazUFTitAzFzxGYn\n",
       "St8/DUDDdZCkw7hm4chF1hjDXXyGGbeqtSnCoQ5QLtHM8ECBecrHY0JmQC4AbFnqh/67yXUgrdM9\n",
       "L4miM01/Dei7r3VtUYRDHaA81gS4DXDevg3dwU2UUb1R8MVx6JJdEc5l+tMT+G/kDosZBSdwCV/N\n",
       "F4sXi8UzAxzqwMK5AOSXfRtyUG3yYZSlSX8chy5V8sNhsXY2hueJTqpkbRb5CfEupN7xl1UD5mjS\n",
       "zhyMw3VQuWHN8pydaUHWg7GMLtqsApNHDSB9iGgvKofoaUacGhxL7Bo9Jw7xslCXXAcqXud4ThSd\n",
       "Sex+NN3GarMlOso5JscbOgkrqrq7QmdqyJeYktOPC04ctJN94AP7iemI/tXKFx6cL9jNDRnfphU3\n",
       "zsQf7gDlSfpv5Y9vsuu4FIkWM5L9vl3HoF3Ln8znFYaDdpjCwKtWV9QtHbvOUlOE8wq7w0PGyFX3\n",
       "2Ykc2T/KHDD5Oesk9KjntUFEn7jOzppnsxJ2mcbF7QhrFqYAfpFGZWXWdkz5rOVfo4senLpV2YXj\n",
       "/QiZsBNJySrEHpy4CsfjvYNKKJiVnMmjZjIm2Q6QQXUoN0yc9LffhsNup3r784WevnRO/L1zKtmX\n",
       "An2BoQMmJznHh5F7TtTHjs1wVU++Ji/OfVi6Gaj6oYM6G+35zpGDOLr3mlUCbHXvooMW4waE1Jau\n",
       "h+ToL4v+3qkPHQjJAAAAAElFTkSuQmCC\n",
       "\" style=\"display:inline;vertical-align:middle;\" /></a></span>"
      ],
      "text/plain": [
       "{(j - i + 1) in Natural} |- |(a_{i}, a_{i + 1}, ..., a_{j})| = (j - i + 1)"
      ]
     },
     "metadata": {},
     "output_type": "display_data"
    }
   ],
   "source": [
    "Len(a_i_to_j).computation(assumptions=[InSet(Add(j, Neg(i), one), Natural)])"
   ]
  },
  {
   "cell_type": "code",
   "execution_count": 83,
   "metadata": {},
   "outputs": [
    {
     "data": {
      "text/html": [
       "<strong id=\"tup_jdgmt\">tup_jdgmt:</strong> <span style=\"font-size:20px;\"><a class=\"ProveItLink\" href=\"../../../numbers/ordering/__pv_it/theorems/3dcd5ceea6334d8cb48fe14fdae236293aa9a6050/expr.ipynb\"><img src=\"data:image/png;base64,iVBORw0KGgoAAAANSUhEUgAAACkAAAAVBAMAAAAp9toTAAAAMFBMVEX////MzMxUVFRERES6uroi\n",
       "IiIQEBCYmJhmZmYyMjLu7u52dnaqqqqIiIjc3NwAAACW8nlqAAAAAXRSTlMAQObYZgAAAAlwSFlz\n",
       "AAAOxAAADsQBlSsOGwAAAQ9JREFUGNNdkSFPw0AUx39Q2pVx62bwWDJIqnCQKRxZJSETE0uwlTjm\n",
       "EAgaDAmqCR+ghQRfC5jyAVgaEvwsU7y77Ui7E+/+73cv/3vvDqhoLpN3ijV6psNHDbSPIimLRST1\n",
       "uu2phEfw4zrtarsr8Bqew1SCl/LWoK/GJuZWtqA/K5f0/usAdvZ4EH1aOYtlD79pVtFKGIm+xI8M\n",
       "VQu8EjVmIm3McXND/YRuzsZcUy8kGxgqh8OCrbF2yEqu/9u9S1ERx0IL9lXV1rQnd9AKeQGnVOc+\n",
       "mYy+GTsysp+zKz0cPn9/4l6I6t9o9wFuz871bsWPmExtkluh60/s266GJgglPK2Sji119BcF5doP\n",
       "zeAPz407TZ15g6gAAAAASUVORK5CYII=\n",
       "\" style=\"display:inline;vertical-align:middle;\" /></a> <a class=\"ProveItLink\" href=\"../__pv_it/demonstrations/4e1e8cad8b6444d1e6162024baba5acfa2587aec0/proof.ipynb\" style=\"text-decoration: none\">&nbsp;&#x22A2;&nbsp;&nbsp;</a><a class=\"ProveItLink\" href=\"../../../numbers/ordering/__pv_it/theorems/3dcd5ceea6334d8cb48fe14fdae236293aa9a6050/expr.ipynb\"><img src=\"data:image/png;base64,iVBORw0KGgoAAAANSUhEUgAAACkAAAAVBAMAAAAp9toTAAAAMFBMVEX////MzMxUVFRERES6uroi\n",
       "IiIQEBCYmJhmZmYyMjLu7u52dnaqqqqIiIjc3NwAAACW8nlqAAAAAXRSTlMAQObYZgAAAAlwSFlz\n",
       "AAAOxAAADsQBlSsOGwAAAQ9JREFUGNNdkSFPw0AUx39Q2pVx62bwWDJIqnCQKRxZJSETE0uwlTjm\n",
       "EAgaDAmqCR+ghQRfC5jyAVgaEvwsU7y77Ui7E+/+73cv/3vvDqhoLpN3ijV6psNHDbSPIimLRST1\n",
       "uu2phEfw4zrtarsr8Bqew1SCl/LWoK/GJuZWtqA/K5f0/usAdvZ4EH1aOYtlD79pVtFKGIm+xI8M\n",
       "VQu8EjVmIm3McXND/YRuzsZcUy8kGxgqh8OCrbF2yEqu/9u9S1ERx0IL9lXV1rQnd9AKeQGnVOc+\n",
       "mYy+GTsysp+zKz0cPn9/4l6I6t9o9wFuz871bsWPmExtkluh60/s266GJgglPK2Sji119BcF5doP\n",
       "zeAPz407TZ15g6gAAAAASUVORK5CYII=\n",
       "\" style=\"display:inline;vertical-align:middle;\" /></a></span><br>"
      ],
      "text/plain": [
       "<IPython.core.display.HTML object>"
      ]
     },
     "metadata": {},
     "output_type": "display_data"
    }
   ],
   "source": [
    "tup_jdgmt = tup.prove(assumptions=[tup])"
   ]
  },
  {
   "cell_type": "markdown",
   "metadata": {},
   "source": [
    "Not clear what the following cell is/was trying to accomplish:"
   ]
  },
  {
   "cell_type": "code",
   "execution_count": 84,
   "metadata": {},
   "outputs": [],
   "source": [
    "# tup.prove(assumptions=[tup]).instantiate({a:a_i_to_j},\n",
    "#                             assumptions=[InSet(Add(j, Neg(i), one), Natural)])"
   ]
  },
  {
   "cell_type": "code",
   "execution_count": 85,
   "metadata": {},
   "outputs": [
    {
     "data": {
      "text/html": [
       "<strong id=\"eq\">eq:</strong> <span style=\"font-size:20px;\"><a class=\"ProveItLink\" href=\"../__pv_it/demonstrations/2a8bd11856f79a684df7d9836502c5f89aefbc580/expr.ipynb\"><img src=\"data:image/png;base64,iVBORw0KGgoAAAANSUhEUgAAAJYAAAAVBAMAAABWCwqnAAAAMFBMVEX////MzMxUVFRERES6uroi\n",
       "IiIQEBCYmJhmZmYyMjLu7u52dnaqqqqIiIjc3NwAAACW8nlqAAAAAXRSTlMAQObYZgAAAAlwSFlz\n",
       "AAAOxAAADsQBlSsOGwAAAiNJREFUOMt1lD1oFFEQx/93u/exX8eBKAgGTwu1DBjTKWIhiAgpsoJE\n",
       "VNA0NlmxUbBIlUTSHAFRgpjFI4VVgpVdDsSAKOQghUcKXfAj2CVgFa5w3nt7+/EyO/C/ezf39vdm\n",
       "ZucNgAhKnDU4Z9FmwOsqsWb2GOcN7bd99/wynJkHwBdIdaYPPXM0BL4d8vbhBZrL6F4B1gjaVsIr\n",
       "/bRzK8SyQp01BSxrrvIdJ0AVqAdKGCR5DY/9QZzaLJPkE531EW9QgcBJmQfDf9xehoWHDKsaB7vt\n",
       "+23J2u39FazPUHLu8ayXDMtSkV/bGcYVnfLWibUIJavlfggZ1nutin3iOC3ZL0nZypGBsYo6V2gt\n",
       "+PonYFhP8yzHpPhrMjMrSlml2dVV4DaUtn51j0cMazPPOlEnjivrYaW1j/DMHQeow6TmHkl33fdv\n",
       "Tvt+K2GdlJm98IU1gbBKJ5X2hPOYcI3GrHJ4JmXdWmiytb+q1X2LnKaMq5ONy26lOdoDc59lfdJY\n",
       "SzbtmBCrSpaFEQO4CKnagT3wONZj7T3+c2izzMxL7qpBKXlH1Dsnldv2vqOxNqK4XzJW2tuloq7L\n",
       "9euk38RoeE4XGFJGF/2dPOv0zBI1yaSW41nyVS7L5dsx1ZCllfv0+Y78TaXU3OycaUwwff87/r5+\n",
       "Qd2hoYnLm7/AZnak1AOGNV80Cy/F4u0nN2xHi3Z3cq3CnaSbUTikGz0lfoBzj30v2PwfVkuSPLLF\n",
       "mbQAAAAASUVORK5CYII=\n",
       "\" style=\"display:inline;vertical-align:middle;\" /></a>, <a class=\"ProveItLink\" href=\"../__pv_it/demonstrations/2f0d7e3cd3e0d4de6dc91c04c8ac455b065ad10f0/expr.ipynb\"><img src=\"data:image/png;base64,iVBORw0KGgoAAAANSUhEUgAAAJkAAAAVBAMAAACnAFEqAAAAMFBMVEX////MzMxUVFRERES6uroi\n",
       "IiIQEBCYmJhmZmYyMjLu7u52dnaqqqqIiIjc3NwAAACW8nlqAAAAAXRSTlMAQObYZgAAAAlwSFlz\n",
       "AAAOxAAADsQBlSsOGwAAAgRJREFUOMuVlEFI21AYx/+pxjaxrQGZ6K0gbihSMtCBsElvIipWIRfZ\n",
       "wcNYT4JHL6KDDVERyi4bY4xQ8eCpxYNeC55ElIonFSUXzxMGjonI3svnS5PHE+wH/xJ+aX75vpe8\n",
       "APBAUZXXEGaVqlKUNfE8vPVnyMXubQ44BAXtbvQv2gy7zbx0nfkmDwV+25yBecNOFynAWfQPpdU7\n",
       "9vtDbstYhgL3eHvALJCYp9RrRCwBty3ItjZ/UWTcbxseWNctoNTrKGxrkcbHpA8EPnUcf67sYrrI\n",
       "bQegPGEz5BXapXkJj54/0mzMuuC2dVDMy4zK1pqRbF9xuCZwOli+LOymHLN9AyWBgsoWL0rP9G/y\n",
       "uCCw4dVtneYMs70H5Qr3KltyNmpLPoxrvwQ2ULfFq/uMfQDFTfKL8cVxPjrOdGDTbvjhtsNrio9Q\n",
       "sBDgDk5tsqEvFrIhkVf11iz1pn//hABvhnpDyQxNCr2inDQftZWrk1aA9bBNq7Eu34GC3znlU7Cj\n",
       "tiW3XK0JnKoJ/JrlhLEdULAkv2+tD3z+StTWi7JVCfBPgflBgj3nF6CgW7LFXv57xYbJSdsbqQ03\n",
       "wKUB2hNdtzbtdt2iYE7uza9r9SdJ4LFBJ/JCxpf99Mfv5F3v14ratvLU13KYR7vXlR/MtI0G8ONL\n",
       "s4mNz8qTTV4jmN+nRlHWVUMY/wGo841/5MGdxwAAAABJRU5ErkJggg==\n",
       "\" style=\"display:inline;vertical-align:middle;\" /></a> <a class=\"ProveItLink\" href=\"../__pv_it/demonstrations/cd8781f4b4023409a366931790e5ab60099d9e240/proof.ipynb\" style=\"text-decoration: none\">&nbsp;&#x22A2;&nbsp;&nbsp;</a><a class=\"ProveItLink\" href=\"../__pv_it/demonstrations/fa03c0f119378592a2b3601ae91779485cdd0aa00/expr.ipynb\"><img src=\"data:image/png;base64,iVBORw0KGgoAAAANSUhEUgAAAh8AAAAuBAMAAAB6ymbDAAAAMFBMVEX////MzMxUVFRERES6uroi\n",
       "IiIQEBCYmJhmZmYyMjLu7u52dnaqqqqIiIjc3NwAAACW8nlqAAAAAXRSTlMAQObYZgAAAAlwSFlz\n",
       "AAAOxAAADsQBlSsOGwAABaJJREFUaN7tWU1oXUUUnhffz837azZ1JeQp2NaNDS5cBJWAUDeWxuoT\n",
       "iYVmYVsolQbd1IU0KsVoUB5xUSmiF111URIKdaELH2IFDdqHm2Yh9UIJrqQRApJAW2fO/Nw5M3N/\n",
       "HsXpRXLg3HuY78x955yZO3PnfYSQiMQSqYspzsbEZlPaKe1tUixp9U37YIaXLgfz/cjvCe3lAdci\n",
       "ySpcF7+R9hppzem4jmApzRDD15bg25BemyvMfdLAdlPoOuFaHKn32LXx8Clpv0rIBQ3HiC5ffrBN\n",
       "sK9DLj/IptZFmGQ9/MP7vqAFGRVaHAlgiKs/TCqbkDMajhGY5tJubRu+Djn1LMv2fb3pOWn8QaHa\n",
       "PNfiSBWuh8LYpndtyDDCpDnQC1JNHd7yNtxm9bZf9IKQk0ILIz/B9Ypm0zmszQeM2AUZTV1EGtPQ\n",
       "o5dckPNCCyOL7PLGsX3Crq/RBBsdBRuIXRDN15bansPsdQjYmnrpN2dBLgstjPDRuS3tRplO75o2\n",
       "ohixC1LrpT1910DNuPnqnKsgbwklQRekc78LcgS+j/6W9kMBTbAZv/MGYhekOZv29Ftj7FqhO00r\n",
       "2tV3FeRHoYWR1yDHDWmHVZpuaSNeMDDCxvHlY2IcoSCar0Ou8UV6ir5x5BrL/1y3e7zbPRwXZFxo\n",
       "sQrC1z6wWdjlWWNVVIg9Q8qpM+SKKgithXMNOSC0MAKvzAMdZS/VacrTCjYQxysznfb0J4h8ZeLv\n",
       "OlyQq0ILs4Y8DUM4kHZ9s0EXygn2JUkciGNRjX3Rdyi/vc6rynq0N50FeVNoYQS2vFtT0i5t/Cm2\n",
       "yeWeA0EFadwhmm99yzRUEWBrrm2YBfkuEtv+YpEKsjte+8DeSzfHCqtCZcaB6AUZ2bO1V/d9hRnz\n",
       "0pjRluQSe61GJoyCPHJ6iT7xJcK1MFJhG+O7mk1lHa4/ExtBM8T0RQItgVgRXohfPm2GwBya5loc\n",
       "oSerZuczZYPwsxh9FywEHe6wryGs5fvRvjwtjvTPhubhTp4tg7lCnf+fIZXJnrJh1GBy1+mImojj\n",
       "Ly/layyqrOXFi3Kvisb7R5z9bwotkHxFamuRsnn4sIewiWEgtsS+xj9s7PL2x7I8E8HaVMJwJBf7\n",
       "Pkl7YNo3Mrx0uZHvR/5KaG9FXHdkR3ZkR/43Epl2lOWV3WytyejmxHIC7TxpZEfi7s+3zL626IP9\n",
       "3xFVTk4qicQa0vseKTPoD8/wRFTVn2Qf6NdTMOOMFeb3bi98MpYZCU/ETZnJTJh6I6pG2dc/4qQM\n",
       "DH3oKhYrj/dN0tjMjIQn4qLMtEwueCSq4C9VxEkZGD7oSBYrj/fjhBzPjIQngigzO5MzHokq/qCT\n",
       "KZj971FO79Mh2R9lRCJ6zZLUTKh6I6q+hobzKZhdkJzejxKyfywjEp4IpszsTKh6I6qWyOqHOidl\n",
       "Y3ZBcnuToxmRiEQwZWZnQtUXUVX/p/nrCcFJJWB2QXJ7l25nRcITwZSZnQlVX0RV887zpc8RJ2Vh\n",
       "dkFye1c6WZHwRDBlZmdC1RdRFZyAjMZTMDeLlcv7vcxIeCIaZebMhKovoqry6TvMPJCC2TMkr3et\n",
       "kxkJTwRTZnYmVH0RVcv9Q2xgr6ZgdkHyeq+SdpQRCU8EU2Z2JlR9EVVnw+X+QHBSoRuzC5LTu7RC\n",
       "WmFSJKI/TwRTZnYmVH0RVY+R5bEVzkmBgwNDBVEsVg7v9YWFc3rUdjgyEUyZ2ZlQ9UVUPUVaH4WC\n",
       "k+qGTkwvSMxi5fA+evfulh5JHMW87C8SwZSZnQlVb0QV3/z492bowoxPraG9kyKB/jIRRJnZmax7\n",
       "I6rkGR76NpwYPtwN750UCeuvEkGUmZ0JUz9ElTqoM7nkxGwZyjspEuivEkmmzFh/eIYfogrVdeDE\n",
       "bBnKOykS6K8SSabMWH94hk+iyslJJZFYQ3rfI2UG/an+CwY98d3qNQk2AAAAAElFTkSuQmCC\n",
       "\" style=\"display:inline;vertical-align:middle;\" /></a></span><br>"
      ],
      "text/plain": [
       "<IPython.core.display.HTML object>"
      ]
     },
     "metadata": {},
     "output_type": "display_data"
    }
   ],
   "source": [
    "eq = f_i_to_jp1.partition(k, assumptions=[InSet(subtract(Add(k, one), i), Natural),\n",
    "                              InSet(subtract(Add(j, one), k), Natural)])"
   ]
  },
  {
   "cell_type": "code",
   "execution_count": 86,
   "metadata": {},
   "outputs": [
    {
     "data": {
      "text/html": [
       "<span style=\"font-size:20px;\"><a class=\"ProveItLink\" href=\"../__pv_it/demonstrations/2a8bd11856f79a684df7d9836502c5f89aefbc580/expr.ipynb\"><img src=\"data:image/png;base64,iVBORw0KGgoAAAANSUhEUgAAAJYAAAAVBAMAAABWCwqnAAAAMFBMVEX////MzMxUVFRERES6uroi\n",
       "IiIQEBCYmJhmZmYyMjLu7u52dnaqqqqIiIjc3NwAAACW8nlqAAAAAXRSTlMAQObYZgAAAAlwSFlz\n",
       "AAAOxAAADsQBlSsOGwAAAiNJREFUOMt1lD1oFFEQx/93u/exX8eBKAgGTwu1DBjTKWIhiAgpsoJE\n",
       "VNA0NlmxUbBIlUTSHAFRgpjFI4VVgpVdDsSAKOQghUcKXfAj2CVgFa5w3nt7+/EyO/C/ezf39vdm\n",
       "ZucNgAhKnDU4Z9FmwOsqsWb2GOcN7bd99/wynJkHwBdIdaYPPXM0BL4d8vbhBZrL6F4B1gjaVsIr\n",
       "/bRzK8SyQp01BSxrrvIdJ0AVqAdKGCR5DY/9QZzaLJPkE531EW9QgcBJmQfDf9xehoWHDKsaB7vt\n",
       "+23J2u39FazPUHLu8ayXDMtSkV/bGcYVnfLWibUIJavlfggZ1nutin3iOC3ZL0nZypGBsYo6V2gt\n",
       "+PonYFhP8yzHpPhrMjMrSlml2dVV4DaUtn51j0cMazPPOlEnjivrYaW1j/DMHQeow6TmHkl33fdv\n",
       "Tvt+K2GdlJm98IU1gbBKJ5X2hPOYcI3GrHJ4JmXdWmiytb+q1X2LnKaMq5ONy26lOdoDc59lfdJY\n",
       "SzbtmBCrSpaFEQO4CKnagT3wONZj7T3+c2izzMxL7qpBKXlH1Dsnldv2vqOxNqK4XzJW2tuloq7L\n",
       "9euk38RoeE4XGFJGF/2dPOv0zBI1yaSW41nyVS7L5dsx1ZCllfv0+Y78TaXU3OycaUwwff87/r5+\n",
       "Qd2hoYnLm7/AZnak1AOGNV80Cy/F4u0nN2xHi3Z3cq3CnaSbUTikGz0lfoBzj30v2PwfVkuSPLLF\n",
       "mbQAAAAASUVORK5CYII=\n",
       "\" style=\"display:inline;vertical-align:middle;\" /></a>, <a class=\"ProveItLink\" href=\"../__pv_it/demonstrations/2f0d7e3cd3e0d4de6dc91c04c8ac455b065ad10f0/expr.ipynb\"><img src=\"data:image/png;base64,iVBORw0KGgoAAAANSUhEUgAAAJkAAAAVBAMAAACnAFEqAAAAMFBMVEX////MzMxUVFRERES6uroi\n",
       "IiIQEBCYmJhmZmYyMjLu7u52dnaqqqqIiIjc3NwAAACW8nlqAAAAAXRSTlMAQObYZgAAAAlwSFlz\n",
       "AAAOxAAADsQBlSsOGwAAAgRJREFUOMuVlEFI21AYx/+pxjaxrQGZ6K0gbihSMtCBsElvIipWIRfZ\n",
       "wcNYT4JHL6KDDVERyi4bY4xQ8eCpxYNeC55ElIonFSUXzxMGjonI3svnS5PHE+wH/xJ+aX75vpe8\n",
       "APBAUZXXEGaVqlKUNfE8vPVnyMXubQ44BAXtbvQv2gy7zbx0nfkmDwV+25yBecNOFynAWfQPpdU7\n",
       "9vtDbstYhgL3eHvALJCYp9RrRCwBty3ItjZ/UWTcbxseWNctoNTrKGxrkcbHpA8EPnUcf67sYrrI\n",
       "bQegPGEz5BXapXkJj54/0mzMuuC2dVDMy4zK1pqRbF9xuCZwOli+LOymHLN9AyWBgsoWL0rP9G/y\n",
       "uCCw4dVtneYMs70H5Qr3KltyNmpLPoxrvwQ2ULfFq/uMfQDFTfKL8cVxPjrOdGDTbvjhtsNrio9Q\n",
       "sBDgDk5tsqEvFrIhkVf11iz1pn//hABvhnpDyQxNCr2inDQftZWrk1aA9bBNq7Eu34GC3znlU7Cj\n",
       "tiW3XK0JnKoJ/JrlhLEdULAkv2+tD3z+StTWi7JVCfBPgflBgj3nF6CgW7LFXv57xYbJSdsbqQ03\n",
       "wKUB2hNdtzbtdt2iYE7uza9r9SdJ4LFBJ/JCxpf99Mfv5F3v14ratvLU13KYR7vXlR/MtI0G8ONL\n",
       "s4mNz8qTTV4jmN+nRlHWVUMY/wGo841/5MGdxwAAAABJRU5ErkJggg==\n",
       "\" style=\"display:inline;vertical-align:middle;\" /></a> <a class=\"ProveItLink\" href=\"../__pv_it/demonstrations/d0c0767a5e640d7a06ebf60a875eddb262260b920/proof.ipynb\" style=\"text-decoration: none\">&nbsp;&#x22A2;&nbsp;&nbsp;</a><a class=\"ProveItLink\" href=\"../__pv_it/demonstrations/4f9944e3dddfb4328e0f230be51938dfcb18c8140/expr.ipynb\"><img src=\"data:image/png;base64,iVBORw0KGgoAAAANSUhEUgAAAjYAAAAuBAMAAADJgk7ZAAAAMFBMVEX///8AAAAAAAAAAAAAAAAA\n",
       "AAAAAAAAAAAAAAAAAAAAAAAAAAAAAAAAAAAAAAAAAAAv3aB7AAAAD3RSTlMAInZUiRDNmWbv3US7\n",
       "qzJazP2FAAAACXBIWXMAAA7EAAAOxAGVKw4bAAAFwUlEQVRo3u1ZTWhcVRQ+85f566SjG6UUnCCS\n",
       "bsSpVKEVaRa6sFD66CIrJSMidhMcJbZBUIKLdtPSwVKo7cKBthSnpoS4sSB0qmThQsnKtguloBvd\n",
       "JCmkCIWk92fufffcnzdvYr3zFvkgbw7vfPfmfufdd+977wOAKoSoyoMO60nnaR0p9GPNxUwMxh6A\n",
       "VrWoSdf1eNHSUmWpWIw3ouf5T7nmzpl4AuwB2i9a1Oxjx5k3RTwO6Tk1r2YwRq+CxjWRfyMgx8wE\n",
       "5H5uk2BPRA7jn2AA9jPHf9XYFjAhpD0Z+JJDiaYm16DH7B/nRHwF4H0ljzMq3jm+DphrweG/6YSb\n",
       "JH8jTXoI3Dk0qjsfBvHZqS4cWcBsE1zIJLsJGi4lWE2elar42pKMAU4peZxhk1fE6XWNa8G5H+iI\n",
       "Z8nfTiqt0HTnGL4XwUtBfHalCsUWZpvgQmbRbWgowWqK7HgrCGPyq1wBnKHI1NQei5FXq7zOflqy\n",
       "o/MROYqX1drEZRfXobKG2BbwVi2IVILVvMqOh5SYTFplluCM2eNI5IKTZUtDhs7ht9iJYxE5szYx\n",
       "2ZU2VDYQ24JDsn2EEqxmhh7OXLzTi3PjJJtdlmktY/aocE0U7s3TiZ6nC+A07PuErBoRObM2sdlQ\n",
       "WlXZFnAhrP3RF8GlBKvhxX4g4myZzLqCUl2cMXssNKJGtLMm5mHu38zeCwAnI3JmbWKzYaWG2BY8\n",
       "kHdEszjnUsLVfNqhmIfLbKHfYBQS/5kn2Ux4V2oZs8dMK2pAz91nF5Usnpm170bfBdgfkTNrE5sN\n",
       "85hteebbEO3TVbGYm0qwmkuMtCrioEj4o6vhLYkzkO90vrnY6SzLHhWuBQf5WrlAGl5g4lYicvR6\n",
       "fUWvl6xNbHa+i9kmuBDaPgcHA5cSrOZSuNCxmLYrt7QlUGbMapdbfRdANqLSB5/T8GZEzpw3sdln\n",
       "tL5duwJtT6oKLiVYDbundizLeDpH2oQPnlrGMhPbUSP6BcRMnqrfopf7QETOrE1cNnnafQqxTXAh\n",
       "JXY3XQGXEq5GrDc/snJyEolzj7JkRaIzlFdCy1hWsJCLwCfZl3xcpMXZYKpOfk5H5MzaxGX/BfAC\n",
       "ZztHwoXQ9pB6BC4lTE34KM4WugURj64+29vpphqWDOoxuwYKN/dQDdhBjILujL/B1P0J/sjgyqHa\n",
       "HKlCbHbq2okTbc5mozaHI4SwPbqwCi4l+Qn0ThcudCy+S/a3Eu2ndNWSUXus3Ht4V+Veo0GzF0An\n",
       "CFfyUTLwnyD9MTl1PSKn1ub3r6fnYrNLm5ubDc5mI5GjYAFr3xNC20OlCy4lpQW1NiV6736mxAS7\n",
       "2PEVMDOo2joX7wtsL+g9St2QO2nbndN25S2yHSMRQm6E64RNyS786NqEzPJ7MmbgL2RkehkZ9IaG\n",
       "ufq+QP5eH6lrL6/8ndWew++aW2XbRyKFnIJK/WzgVDKLm96G0lJDxr1Xfnqfk6LqGcsjleRqOEr+\n",
       "vp0Um4T4oLY7ImdiC2zHSKSQHdWV+mWnklQXn3sbCuNVGYf/P02ni5axbI2Sq4GO8YuPxOeYLiqx\n",
       "PWdiC2zHSKSQXDc/vuBUolc+VdPjMVtVHV8cx+J9E326t1dW3TnLd9j/zh6g/Vh8NdvYxja28eTh\n",
       "0buznk8ltzQ+vTvzW3sttuk2DHjy7iyOmbDn9iS1NN68O90xC+25Pqbb8ODNuzNfgoQ918d0Gx68\n",
       "eXdg/+x5HvqZbsODN+/OUZtj0M90Gx68eXfSMTPtucMJrY0v7y50zEx77mRCa+PLuwsdM9Oe25/Q\n",
       "2vjy7nqOmdWeW0lybTx4d6FjZtpzN5N8T3nw7sJHR9OeO5DQ2vjy7kLHzLTnTie0Nr68u9AxM+25\n",
       "mYTWxpd3Fzpmpj13PaG18ebdScfMMNxS7YTWxpN3pzhmhuGWn0vqRwo/3p3LMdsNwqJLIvx4dy7H\n",
       "7HZE3YePVE2P/z/vzgA13GKabv7xGCnZfigSoRMHAAAAAElFTkSuQmCC\n",
       "\" style=\"display:inline;vertical-align:middle;\" /></a></span>"
      ],
      "text/plain": [
       "{((k + 1) - i) in Natural, ((j + 1) - k) in Natural} |- (f(i), f(i + 1), ..., f(k),f(k + 1), f(k + 2), ..., f(j + 1)) =  \\\\ (f(i), f(i + 1), ..., f(j + 1))"
      ]
     },
     "metadata": {},
     "output_type": "display_data"
    }
   ],
   "source": [
    "eq.rhs.merger(assumptions=[InSet(subtract(Add(k, one), i), Natural),\n",
    "                              InSet(subtract(Add(j, one), k), Natural)])"
   ]
  },
  {
   "cell_type": "code",
   "execution_count": 87,
   "metadata": {},
   "outputs": [
    {
     "data": {
      "text/html": [
       "<strong id=\"eq\">eq:</strong> <span style=\"font-size:20px;\"><a class=\"ProveItLink\" href=\"../__pv_it/theorems/a49f9d9780e8f8b2ad2bfc0d0ba1f066056651f30/expr.ipynb\"><img src=\"data:image/png;base64,iVBORw0KGgoAAAANSUhEUgAAAJUAAAAVBAMAAAC9PLGkAAAAMFBMVEX////MzMxUVFRERES6uroi\n",
       "IiIQEBCYmJhmZmYyMjLu7u52dnaqqqqIiIjc3NwAAACW8nlqAAAAAXRSTlMAQObYZgAAAAlwSFlz\n",
       "AAAOxAAADsQBlSsOGwAAAfNJREFUOMuNlD1IHEEYht9bz/tZvMs1B1qdGAISwrEpUigarlKwOn+2\n",
       "SGJhYSwCIQcpQoqQa0TE5kiTxuiiWFiIh4KWLoQIIpLTJoEQXLBKdxC5wsrZ/XZ2d3bnYD94YXhu\n",
       "5pmdmZsBYIEiq3xM5lbOpEgr2YrBdv6PGDjqVIBzUJAYDfUpGsCvyNT1KBtLDkJtA2qDwno1hA7q\n",
       "8CZzZY3QuN5mlD2yjoEFIFOj+DXJG9dsTLoeXWSEPdGyFqpAChS/LoIuvJHsostyz/QXTqP8Kd+w\n",
       "XWegdHN9lbiIJb/xtZaVwh/btQYK9q6krgNRs7fisX/etpWh9VSqNIczTz1Vk7k+iq7mhMc24Lv6\n",
       "1ZfMNQ9KznpgylyngiphrnqsEXClze/sHBdBUfHTHrqs60u6PuO7SnZrV7dr2u71lrPEa4ZmXRce\n",
       "KwEX00j3a0JcY98dZ6oW+C5sqYE1Aq+krh+iKztocFYNuhItph4HBflbqeu96NqvNDn768GnLJca\n",
       "na9zxul22HVi8f+LX6V8jbOs9yCss2TYURRBgaKFXEPvvrBxc6JL+QDO1IdTxAY6Gt3p3gIFqVb4\n",
       "u5yVVyUPmMuSh+4dCl5UFsX8bITvtl3ite/OqJ47KZnz0l9vYjKqbSeZ35WuM8Vh7upbFPkDbsVj\n",
       "Tt0D7pOIx3gYN3AAAAAASUVORK5CYII=\n",
       "\" style=\"display:inline;vertical-align:middle;\" /></a> <a class=\"ProveItLink\" href=\"../__pv_it/demonstrations/a5ae36625b3a97ee9ab13a94f48f76bf63c53ace0/proof.ipynb\" style=\"text-decoration: none\">&nbsp;&#x22A2;&nbsp;&nbsp;</a><a class=\"ProveItLink\" href=\"../__pv_it/demonstrations/32bc9a57605359fe6bc7470bcd1e8169ab3ab0b80/expr.ipynb\"><img src=\"data:image/png;base64,iVBORw0KGgoAAAANSUhEUgAAAWEAAAAuBAMAAAALqLXpAAAAMFBMVEX////MzMxUVFRERES6uroi\n",
       "IiIQEBCYmJhmZmYyMjLu7u52dnaqqqqIiIjc3NwAAACW8nlqAAAAAXRSTlMAQObYZgAAAAlwSFlz\n",
       "AAAOxAAADsQBlSsOGwAABLZJREFUWMPtWU1oE1EQnsRumiZpFEQvCo0K6sFD9CgoBaGeirEaKeqh\n",
       "B39AFKUe1IMootRSlNBLQQSDnjyIJeBFDxZRQUXMzSpaF0T0olbwYqjWeZO8t+9nu8kuLxdx4L1O\n",
       "MpmZb2ff71cAcMETV3S6+H4JWWhN3IDvW40hpHtK1/ub/EqSjmroHIr0tx7DkxfUj93n+jR0n5Dt\n",
       "skWVZWWA102ie96wtKyaYnuhnup1OMCpEuvTq45yfR/ANcmuWmTH9TcQQlc5MLrkDW9U083RGtRT\n",
       "NYmhS5IKmni8WegApyW7aqGRwPUPmKnzfGB00xtgOx8qtUaqJjGMmNTvKHs6/pUeWrUwyVQlxHAk\n",
       "MLrpDfBSRpxoHkOXZ9Tfk3R8TVJNVIuJeCIwuumtIaZUE6EQj7Fu+OD6hp6axhDpnDBrFhNxJSi4\n",
       "5w2p9zk/xJSqEgpx/fl+cz3dMYQDq+TZVYuJ+ExgdOENSTjsh5hSUYxkkSTXFPF+2gh+cH1lEkNk\n",
       "hrwtQrWYiJ8GBfe8YQbm/BBTqqehanyAQMxyvZxAPLFZb9CqFlaJPQcblSDEPUHBPW8oZxhAuFQs\n",
       "HioWBwRiStUTHnG6IPRXCKPDq7FmMWvcF7gce96QLPjVmFL1hUJMo2JRTujjKcRUEGbNYiJ+EhRc\n",
       "8gZn0ndUFHiMlsfxFlowq1xP/UzjdMizyQ0+FhPxSaaZm5buDfC913fm5XmMlqUiRauwcfUZH5eV\n",
       "427Jx6IgfujylesX/z3rvE+SN8A5fT1O/4FGqrFQiJex7pWnr8NV12GJnL0+Fhnx6uPj+M1uphax\n",
       "yA7ba6kb9POGNRri+Npf6xqpdodC7CzB7oKko3yi/jmYFqXGtH7RkM+Yw8LwPqbXWKTKFkIhxmNI\n",
       "Jndd6CQj1OP7MizKScg7SKXNuJr3hs6afhISqdSDUnPZCs7mktCpbnmaO1hK3WLKR+rvmDNP9Y7N\n",
       "Ob6Hekr1MeSJ/hZ0TrtCpzWJPnaz4mgWv+dlYt4idO8rF/2XPzegGgvupFVdn2nyKxmYGzqHIjOt\n",
       "x/gv/+UfE+sMywKUiQ02xm0Pw/IO2sbG9FtmWJIP2G6dwe2uW7vQfxndaIWNYc0mw1JZzupzWz4M\n",
       "i63tYa8VNuaaXYbl6LayOJUoZ4i4C4mhCGyMSCXYmNNWGZaO+mFnyOQmEjWI/4nAxohUgo3BZpFh\n",
       "qd/qMiUTcbwA8R8R2BgVMYOFzR7D0rl24HzjVnFnxDgLO7MR2BgVMYOFzSLDsrjKX9Bkn4G4pxqB\n",
       "jVERM1jYLDIs3+miggfh2NSogXggChujImawsFlkWOq3ukQvXqSPaWwKJPOh2Rg5lWBjsFlkWO5x\n",
       "xJCp6TUehihsjFpjBgubRYZlEzRGBXTlyipi3Ae/RWBjtFFRoGaRYanflheh+W7vpIp4BcDbCGyM\n",
       "NvPy1KwxLJD9WX+7WKue7AkFcXbw8uWCxsaotIw/GyNSCTYGmzWGhU+dGEKLn1LHsTM/P1/S2ZhB\n",
       "zsgszMbwVB4bg80ew5JsLPs7ff6DEJGNUVIRrE8WGZZHXVPmOUphU8KzMUoqgjVikWHZdVvmINrE\n",
       "xhA0WwzL2ascQL59bAxBs8+wfIW2sTHY/gJNDkUN1WxWfwAAAABJRU5ErkJggg==\n",
       "\" style=\"display:inline;vertical-align:middle;\" /></a></span><br>"
      ],
      "text/plain": [
       "<IPython.core.display.HTML object>"
      ]
     },
     "metadata": {},
     "output_type": "display_data"
    }
   ],
   "source": [
    "eq = f_i_to_jp1.partition(i, assumptions=[InSet(subtract(Add(j, one), i), Natural)])"
   ]
  },
  {
   "cell_type": "code",
   "execution_count": 88,
   "metadata": {},
   "outputs": [
    {
     "data": {
      "text/html": [
       "<span style=\"font-size:20px;\"><a class=\"ProveItLink\" href=\"../__pv_it/theorems/a49f9d9780e8f8b2ad2bfc0d0ba1f066056651f30/expr.ipynb\"><img src=\"data:image/png;base64,iVBORw0KGgoAAAANSUhEUgAAAJUAAAAVBAMAAAC9PLGkAAAAMFBMVEX////MzMxUVFRERES6uroi\n",
       "IiIQEBCYmJhmZmYyMjLu7u52dnaqqqqIiIjc3NwAAACW8nlqAAAAAXRSTlMAQObYZgAAAAlwSFlz\n",
       "AAAOxAAADsQBlSsOGwAAAfNJREFUOMuNlD1IHEEYht9bz/tZvMs1B1qdGAISwrEpUigarlKwOn+2\n",
       "SGJhYSwCIQcpQoqQa0TE5kiTxuiiWFiIh4KWLoQIIpLTJoEQXLBKdxC5wsrZ/XZ2d3bnYD94YXhu\n",
       "5pmdmZsBYIEiq3xM5lbOpEgr2YrBdv6PGDjqVIBzUJAYDfUpGsCvyNT1KBtLDkJtA2qDwno1hA7q\n",
       "8CZzZY3QuN5mlD2yjoEFIFOj+DXJG9dsTLoeXWSEPdGyFqpAChS/LoIuvJHsostyz/QXTqP8Kd+w\n",
       "XWegdHN9lbiIJb/xtZaVwh/btQYK9q6krgNRs7fisX/etpWh9VSqNIczTz1Vk7k+iq7mhMc24Lv6\n",
       "1ZfMNQ9KznpgylyngiphrnqsEXClze/sHBdBUfHTHrqs60u6PuO7SnZrV7dr2u71lrPEa4ZmXRce\n",
       "KwEX00j3a0JcY98dZ6oW+C5sqYE1Aq+krh+iKztocFYNuhItph4HBflbqeu96NqvNDn768GnLJca\n",
       "na9zxul22HVi8f+LX6V8jbOs9yCss2TYURRBgaKFXEPvvrBxc6JL+QDO1IdTxAY6Gt3p3gIFqVb4\n",
       "u5yVVyUPmMuSh+4dCl5UFsX8bITvtl3ite/OqJ47KZnz0l9vYjKqbSeZ35WuM8Vh7upbFPkDbsVj\n",
       "Tt0D7pOIx3gYN3AAAAAASUVORK5CYII=\n",
       "\" style=\"display:inline;vertical-align:middle;\" /></a> <a class=\"ProveItLink\" href=\"../__pv_it/demonstrations/04b7bc38c0d0147eeae3b4f140f3a73c99aeb0a10/proof.ipynb\" style=\"text-decoration: none\">&nbsp;&#x22A2;&nbsp;&nbsp;</a><a class=\"ProveItLink\" href=\"../__pv_it/demonstrations/7881bcdb43f74129b1a9356eeab76c32432efe300/expr.ipynb\"><img src=\"data:image/png;base64,iVBORw0KGgoAAAANSUhEUgAAAXgAAAAuBAMAAADQEx/LAAAAMFBMVEX///8AAAAAAAAAAAAAAAAA\n",
       "AAAAAAAAAAAAAAAAAAAAAAAAAAAAAAAAAAAAAAAAAAAv3aB7AAAAD3RSTlMAInZUiRDNmWbv3US7\n",
       "qzJazP2FAAAACXBIWXMAAA7EAAAOxAGVKw4bAAAFG0lEQVRo3u1ZTYgURxR+87c925uZTHJJWALO\n",
       "RpL1liUkggnBPSSXwOLgwZPBgSB4kajIuigByUE9KFlWAok5ZCARySQbBk8uCI4BjwkDOahgQiC5\n",
       "RAK7KuNFcK161V1Vr6pmpqatmz7Ynme91+/75nX99HwCQA2U1eTFNOcg5LwHBw57IolxM5afM/3L\n",
       "jjv1LM2m6o7BreCf640kaJnU3sHr0Y9SfxbyJ/W4HqF2twGwTR+IPmQjUJhnDA7R1FcWfzdyHaaQ\n",
       "4P8GDVUvAtKi1KDU5NfiX+dT/weA/VqcRvQbb37GECZ0lIX/eNf2sL94ns6YLuzq0FzbNCR4k4Y+\n",
       "WeyDoLWfjEf4XSbfvyF9gNNanEbw8af+W4xMWW/x+auc3pI2ckV8VGowuUxzbbORFFS+n9A6TW/B\n",
       "67WG8tmn1iIa4Vaoa+ThKw2qjx/LWu7bScE+VO6RXIfZSAoKyXNak+Tpbcfrx5rP5oL27WnEJn9A\n",
       "e+4tDDdt8pUWVB6TXIfZSAZ5TmuCrkd+OXfhZuKXZlm02JNhI2KTX5Cp5durfF5EbLrvXqLk+SrY\n",
       "0HMdppCg9HrPRZ7T0qjJzt1P/eIUe+plrXk0YpM/pVJfrKePbX7NIr9eJ7kOk0gQwdcu8pyWoHa8\n",
       "zW0Vvsfd4DGmMP+fiEULatoaEZv8DoW+5W9s8RxU5xYt8qs013GGSSSYgQcu8pxWQV9R8C0mbaR+\n",
       "Y5LlVzfUrKMRiNrtHy+02z1Jfl2V2ikWZwdKsJL05xveH9zUujTXNoUEjULfgELynJZGLSUvlhr6\n",
       "OxmjqWVjEcqI3fk1c8Ux8lDom50/BzTXsc0rJIhars5zWlOk8zhtXuhJ/2CJ3dOSYSNik39PlfoN\n",
       "kmkDE70GJc9O3ZdIrm0akjzjjGnTSqmlc/5X7JZIYn7pUZGtCv6MBVUjYpM/yz1BdUWQYOF9nXlK\n",
       "/l+AN0guOasNJLZ6Os4F202oqSNdS17gc+pVsdvBvqYjQiruqqVb20NccY/E42cdXM+dJORzl44d\n",
       "a2m5vDY68l86EsCX5j5fvJdswhF577irlhr6txhszOvEFx0RveKf3x1kIz9xt91QK67KWFbO0Dkf\n",
       "b25uNrXcmB8IlyC5WEhwxyBfuf3wlqAVd3TyMd/fPtd8ZtN4fRfsCGkH9lScqpx8lJwfv9gnrJVL\n",
       "zUJacUEhrWlyI3tbKvQ+lT6aOB/ZA7Ii5G1Jvdfx1fDBxJz9WncFnLmGGUh/lPsuKKS1RO+8DvGN\n",
       "pvSTF1g+Hdm3NiO2vYbX3ezv5z3ptlEbmWssWIpUfRA7f49wWrkuHdsL5dma9BV6nrfBiNgmvhR/\n",
       "ul8cTrl0R+Yav50MpCMn3HtpzW5Mrm76M66v7f4Nl3d1+WXwz/VGErRm4Lk9t2fcgotOYwpJuafg\n",
       "Hl50GlNI8qzhtICiUzYhaWSNwRZSdMooJI2oMcRCik5eQpJ835FC0ogaw8qHE538hCT5pimFpBE1\n",
       "hlhA0clPSKLkEepAVvLhRCdPIYmSR6iFrOQDik5+QhIlj1CnspIPKDr5CUmUPELtyEo+oOjkISTp\n",
       "QpQUkobXGEk+jOjkJyTRziPU2lNNmzCik5+QZEyb1qgawyyg6OQnJBkLtpvWyGLBRCfMl2rSYCFJ\n",
       "kpdCktius1gw0QmFJKkmDRaS5P+WSCFJ1Mhi4UQnTyGJClHTskYWCyY6+QpJVIhast7bxrJQolNm\n",
       "ISmpkclCiU6ZhaSBjRlT5AkjOo0pJHnWcNgTfJbsv7arMkIAAAAASUVORK5CYII=\n",
       "\" style=\"display:inline;vertical-align:middle;\" /></a></span>"
      ],
      "text/plain": [
       "{((j + 1) - i) in Natural} |- (f(i),f(i + 1), f(i + 2), ..., f(j + 1)) =  \\\\ (f(i), f(i + 1), ..., f(j + 1))"
      ]
     },
     "metadata": {},
     "output_type": "display_data"
    }
   ],
   "source": [
    "eq.rhs.merger(assumptions=[InSet(subtract(Add(j, one), i), Natural)])"
   ]
  },
  {
   "cell_type": "code",
   "execution_count": 89,
   "metadata": {},
   "outputs": [
    {
     "data": {
      "text/html": [
       "<strong id=\"eq\">eq:</strong> <span style=\"font-size:20px;\"><a class=\"ProveItLink\" href=\"../__pv_it/theorems/1a0f35dd914089b5473d6cf135d661e2318d96e10/expr.ipynb\"><img src=\"data:image/png;base64,iVBORw0KGgoAAAANSUhEUgAAAGEAAAAVBAMAAACkm51HAAAAMFBMVEX////MzMxUVFRERES6uroi\n",
       "IiIQEBCYmJhmZmYyMjLu7u52dnaqqqqIiIjc3NwAAACW8nlqAAAAAXRSTlMAQObYZgAAAAlwSFlz\n",
       "AAAOxAAADsQBlSsOGwAAAZZJREFUOMtjYGB4wIAV4BAGAt4D2MV90fhLP1suYNj2zYGB4TSIK7wA\n",
       "Tf4GA28BmpANiwID1wcGBq4JIN5NdBuiGRhmoQmpPtjOwJDAwMBRgMu5FWh8HQPOBwwBDAxsOD3I\n",
       "BnEpr2loJJihV8s3AaTjJE4dnGDbWebCvKjHJHAbpKMbyOa6q4CqmOsGUDU3WPAlPEz0GAyYHYA6\n",
       "pgPZHAzpqDq4WYA+ZAeHyTwGhA4Jriigjhgg+x7DH1QdMhxA1TwJIOYEJB3sBw4DxVKA7AU8v0BC\n",
       "K0NBIBAkwHaBgYERGPYMjKlAoWCoDgYtJqgOBo4ANF+fB7oe5DIGLgMkOxgWcUFdxcC6AU3HJC6g\n",
       "q8DGBCDrYLwANMAWxHnvgBZWX7iBPgcbfxcuaAjEF4Fim0CcejQrGD88BzoVbDEnPKHOATkfGBCi\n",
       "II4yeuypA+ODFWwxl7IXREjymwEkFbIKAHm52OL8KYRi2QxNJTDA3sCgw/4Lm452XMnHjvEPK7ZM\n",
       "xWeAS8diht4WbOLMOLMt3wXs4vdwqAcAm2BTMnZHJccAAAAASUVORK5CYII=\n",
       "\" style=\"display:inline;vertical-align:middle;\" /></a> <a class=\"ProveItLink\" href=\"../__pv_it/demonstrations/f43b94864fdfae182f24132c5498484cb25eaacf0/proof.ipynb\" style=\"text-decoration: none\">&nbsp;&#x22A2;&nbsp;&nbsp;</a><a class=\"ProveItLink\" href=\"../../__pv_it/common/d129d9437eac6c140a4b7e67b6bc67f79629903a0/expr.ipynb\"><img src=\"data:image/png;base64,iVBORw0KGgoAAAANSUhEUgAAAUAAAAAuBAMAAACrN90HAAAAMFBMVEX////MzMxUVFRERES6uroi\n",
       "IiIQEBCYmJhmZmYyMjLu7u52dnaqqqqIiIjc3NwAAACW8nlqAAAAAXRSTlMAQObYZgAAAAlwSFlz\n",
       "AAAOxAAADsQBlSsOGwAABB1JREFUWMPtV01IVFEUPqMzzps34ySErQKnAnXRYmgpJEKgK2kyhagW\n",
       "LvoBUZJcWItIohCRQoQQJOhRKxfiMOCmFg2RQkXoTgOzAZFWooEbB43u73v3vft+W1xaeGAOb+45\n",
       "93zfu3/vfgBQAdOyxAsNjkjYZskqZnbYHpbVl63nDeK7XbI23DvHV6Ng4OyQPQT7SvzkO+QyReTW\n",
       "oX5YCGvvDRapH3P0bESRtYDqpC7FOGmQ7LWI/PQp7NNnBpGfw483AGaFeOlUmUUSRXvH1teIYMrw\n",
       "rU7rUozvNDugh2QaGa66T23Ij7O2B0J88JIhRLB18YefKJIc861O62p8SnB2QA+5BPGXyWv18zbr\n",
       "JeNVECPYvokEYcC3Oq1bZ/4fCOwh2WfiF7HLTLG2lLUI0wVbRCY441t9UcAAlj0TjeAkdvdvt+KZ\n",
       "QItMX0fk0jkeTTb3jLHI/LgrwZJfcVqXYOg/ciy7FI0gfZ8jPnDpOJrNpDVgJ1Z5pNjpSvChb/Uj\n",
       "E0ODuyyb9HjWh60nBMGb5AT9jX0C7dfTGiKXsZbcbgOLxMoTrgSX/YrTugRjEw5Z9nK0EbxF1tge\n",
       "WcsdAEYdGrLYnhleARbRYYi9+R3+5oRgk19xWpdgGJkqy276B4J0K2CCsIJQ4/2OVY4jmarrCHb6\n",
       "HoMFC0MrsOzOaATJFNfm+BTDtI64FMzwBeCRVM5wI7jkV5zWpRjknF/iPcKvwYtkhMhWqEVe30+j\n",
       "TZLHc0LCQ8AjCx1FN4IjYObavjNg1aUYux0seyTaCJbMzuR0ie39YufNAVnl+8AjTdlhB8EPFX6E\n",
       "4NyFKeGBOlaXYjzmB85kNIKN1laI4ZltQTQSuG6fYa1yHKkZdazBs/emUW4vsNwEPjCvAXtIXLfq\n",
       "Uoxz2PWyXwRL4HPkCX2+wtq2yQ7EBLWcPWIbQTLEBTPXbl/Aqkswhlh2thCNIPp2Z3Kv7JcE8s1A\n",
       "axE+psry9aFLvmuk5bpolZh1Ecb5ZJVla8MR71vtkGhjX45advHFewTm0e/qHNgism0Bz3VsErQ9\n",
       "zLrQHjskR8SW2SOCvYXkOoPX8wIbvAEfvQBbxO31eK7jDo0HjtdFGM+f8uz2qASzQvUd4jddsnY8\n",
       "7vKVKBg4O2SPYzu2/8nUCfeQ7Q6Vr1C4y9YdQuWrFO42i6HPtQ3KXeUrFe6ivZnAH7/ZQJWvVLjb\n",
       "p7LqgHJX+WqFu0RQgPJQ+WqFu0RQgPJQ+WqFu0TQgvJS+WqFu0RQgPJQ+WqFu0RQgPJQ+WqFu/6S\n",
       "yM0Gk6AA5aHy1Qp3aQQFKA+Vr1a4y1NcCFL5aoW7vEnyQSpfrXC3zf8fdoD5q3y1wl2wmuaDFgbl\n",
       "q/KVCnfZtgNVvlLhLtt4sMpXKdzlkzwfrPJVCnf5HKoEq3yFwl22zUCV/xebrQcRPv+cXAAAAABJ\n",
       "RU5ErkJggg==\n",
       "\" style=\"display:inline;vertical-align:middle;\" /></a></span><br>"
      ],
      "text/plain": [
       "<IPython.core.display.HTML object>"
      ]
     },
     "metadata": {},
     "output_type": "display_data"
    }
   ],
   "source": [
    "eq = f_i_to_j.partition(subtract(j, one), assumptions=[InSet(subtract(j, i), Natural)])"
   ]
  },
  {
   "cell_type": "code",
   "execution_count": 90,
   "metadata": {},
   "outputs": [
    {
     "data": {
      "text/html": [
       "<span style=\"font-size:20px;\"><a class=\"ProveItLink\" href=\"../__pv_it/axioms/a66b1fb5d205d2e8007a39dfc31bf38e465e0de50/expr.ipynb\"><img src=\"data:image/png;base64,iVBORw0KGgoAAAANSUhEUgAAADMAAAATBAMAAADPIygvAAAAMFBMVEX///+6urp2dnYiIiKqqqrc\n",
       "3NyYmJgQEBBmZmZUVFQyMjKIiIju7u5ERETMzMwAAACiJdmqAAAAAXRSTlMAQObYZgAAAAlwSFlz\n",
       "AAAOxAAADsQBlSsOGwAAAOdJREFUKM9jYMAAh//eOsCg/l0AxOa7gyp3hXECA88HMJN7AarU5AA1\n",
       "BoYCBmxgygWuAAYDZBHuy8ZWYMbUbNYFKFKMqw9AWVM5H2yCSJ3eCRaIgskwTGW4wCsAlmpgTwBR\n",
       "SxkQUi94bEBS3AH8DiCBBUhSbA6+IBfyMPiDjOIrNjY2toVKMczhhDi+GUTwXEDSxXCSB+JCIzBp\n",
       "gCzFtwGskvUjWGA3XOoeEO8DS7FBgovLASa1BIg5wK7ihNjCM1cGIvPqO1CAByzFvgEaHLrQgIIB\n",
       "Tof8AwzYwXsHExwyDBw7BHDIAAA/QzfASfjHVgAAAABJRU5ErkJggg==\n",
       "\" style=\"display:inline;vertical-align:middle;\" /></a> <a class=\"ProveItLink\" href=\"../__pv_it/demonstrations/e792dd1616165e3c2d2ea8bc714e00fdcf18ae0d0/proof.ipynb\" style=\"text-decoration: none\">&nbsp;&#x22A2;&nbsp;&nbsp;</a><a class=\"ProveItLink\" href=\"../__pv_it/demonstrations/6c455e7608a78834b41bdbab9d45dc3bbeb21bb70/expr.ipynb\"><img src=\"data:image/png;base64,iVBORw0KGgoAAAANSUhEUgAAAJQAAAAVBAMAAABS/tqaAAAAMFBMVEX////MzMxUVFRERES6uroi\n",
       "IiIQEBCYmJhmZmYyMjLu7u52dnaqqqqIiIjc3NwAAACW8nlqAAAAAXRSTlMAQObYZgAAAAlwSFlz\n",
       "AAAOxAAADsQBlSsOGwAAAY5JREFUOMuVlL1Lw1AUxU+1H+mHVRBnC4IuDp0FpZuTUIUs6tBBdBIy\n",
       "urWDRUSEboJT0clBKP4FWUXE4qSDJYuzDi6WIr6PNPU9T6G98EuT827Ou/eSVwABNCyCMVRgytfQ\n",
       "2BhDBR5CMNs0F2LbYg/PTueq0FeQaUABvJprV6ddcb3EKKpsrgFH7OB4tHP50lH/aZ2qRiRDhlgl\n",
       "+10/UtWI+5AhVmmPWaVpG2chmbcCs8oWmFXWzsXtM3ABjYMDZpVqMCutOq4KZVtLetgVv5IOeswq\n",
       "V2FWkRrlBtM+9sSNpJmTObhRG21GL8U+5W3ddfddd8tS/0QGT83ICk6ZVRWnVcUr/2ZeR9QgEi3a\n",
       "YJk2WLZnhR1gFRp8lOjYi3TsRbuo/BdwBw2q9mr2R+7csqxMNYqUmN4cNFiwFicWv5dE2yXTylIH\n",
       "2aLOxIwGh/STf4dVlakOzl9bVFZTLKe61OrEPs6m2q/Jr8pTuSaJ9RL03y9fHEmd99VHcK04P6ZF\n",
       "TQYjqc6LGl6+raHRGUP9BX6LeN4NWvahAAAAAElFTkSuQmCC\n",
       "\" style=\"display:inline;vertical-align:middle;\" /></a></span>"
      ],
      "text/plain": [
       "{j in Natural} |- ((j - 1) + 1) = j"
      ]
     },
     "metadata": {},
     "output_type": "display_data"
    }
   ],
   "source": [
    "Add(subtract(j, one), one).simplification(assumptions=[InSet(j, Natural)])"
   ]
  },
  {
   "cell_type": "code",
   "execution_count": 91,
   "metadata": {},
   "outputs": [
    {
     "data": {
      "text/html": [
       "<span style=\"font-size:20px;\"><a class=\"ProveItLink\" href=\"../__pv_it/theorems/1a0f35dd914089b5473d6cf135d661e2318d96e10/expr.ipynb\"><img src=\"data:image/png;base64,iVBORw0KGgoAAAANSUhEUgAAAGEAAAAVBAMAAACkm51HAAAAMFBMVEX////MzMxUVFRERES6uroi\n",
       "IiIQEBCYmJhmZmYyMjLu7u52dnaqqqqIiIjc3NwAAACW8nlqAAAAAXRSTlMAQObYZgAAAAlwSFlz\n",
       "AAAOxAAADsQBlSsOGwAAAZZJREFUOMtjYGB4wIAV4BAGAt4D2MV90fhLP1suYNj2zYGB4TSIK7wA\n",
       "Tf4GA28BmpANiwID1wcGBq4JIN5NdBuiGRhmoQmpPtjOwJDAwMBRgMu5FWh8HQPOBwwBDAxsOD3I\n",
       "BnEpr2loJJihV8s3AaTjJE4dnGDbWebCvKjHJHAbpKMbyOa6q4CqmOsGUDU3WPAlPEz0GAyYHYA6\n",
       "pgPZHAzpqDq4WYA+ZAeHyTwGhA4Jriigjhgg+x7DH1QdMhxA1TwJIOYEJB3sBw4DxVKA7AU8v0BC\n",
       "K0NBIBAkwHaBgYERGPYMjKlAoWCoDgYtJqgOBo4ANF+fB7oe5DIGLgMkOxgWcUFdxcC6AU3HJC6g\n",
       "q8DGBCDrYLwANMAWxHnvgBZWX7iBPgcbfxcuaAjEF4Fim0CcejQrGD88BzoVbDEnPKHOATkfGBCi\n",
       "II4yeuypA+ODFWwxl7IXREjymwEkFbIKAHm52OL8KYRi2QxNJTDA3sCgw/4Lm452XMnHjvEPK7ZM\n",
       "xWeAS8diht4WbOLMOLMt3wXs4vdwqAcAm2BTMnZHJccAAAAASUVORK5CYII=\n",
       "\" style=\"display:inline;vertical-align:middle;\" /></a> <a class=\"ProveItLink\" href=\"../__pv_it/demonstrations/bdc9577d6eb3ecb119f061ee75622b79596698af0/proof.ipynb\" style=\"text-decoration: none\">&nbsp;&#x22A2;&nbsp;&nbsp;</a><a class=\"ProveItLink\" href=\"../__pv_it/demonstrations/a0f7dd2a3efe302d8a776c325a8500c685f07de90/expr.ipynb\"><img src=\"data:image/png;base64,iVBORw0KGgoAAAANSUhEUgAAAVcAAAAuBAMAAABuRUeWAAAAMFBMVEX///8AAAAAAAAAAAAAAAAA\n",
       "AAAAAAAAAAAAAAAAAAAAAAAAAAAAAAAAAAAAAAAAAAAv3aB7AAAAD3RSTlMAInZUiRDNmWbv3US7\n",
       "qzJazP2FAAAACXBIWXMAAA7EAAAOxAGVKw4bAAAERUlEQVRYw+1YT0hUQRj/1v3rbm5LpxAhLchu\n",
       "LVGBRriHugRLiwdPhQsRSCBZiEgRSAfrYCSKUHlooSRYM8STC0EaeAwWOqhQIXQqgrVkvQjRzLw3\n",
       "b+bNzJu3j2jo4Ac7fr75vt/83rxv5s37AUAGmGWcRrAQKM3jsmSZINczDrQE35QV/SUFwDH1YKn2\n",
       "hrjyY7hsyTsYQ0vwp0k7fJH6ndA0xnXHLxRQG84hkCEh8zvqOeFDk+HCj4K7Kz0H7qGEYAwtwEeL\n",
       "uI18mab+S4DrXH/+G77RPvRL5tyJ6zfR6LGCliuHC8fdXVdH6uAeSgiOyfBxcm/N59YcH+AB1z/9\n",
       "FsePcleWqXMS9SSGtGTduMLjrgtDCcEYWoBvJu27AvPRX3Y/qTr5M8llnOLJwoyWrBtXQZYbSgqe\n",
       "keDPkvYS56PJZzMRKeE2XPQkO6Al68ZVkOWGkoIHJPhh3Dx6tm770U6UHanS3sTmAn4QcVSuvaNK\n",
       "snkdV4YL0aNVFVk2lBycl+At6r+oH0mhJ55gE3mwnU51rqIkO66dWQcX4vBERZYbSgoep/DxMrEq\n",
       "vCAb8G8Sh/yvcZQdZiV6ZAu3ySyksyNKsl06rgwXOmBHRZYbSgrukuBnSU1uU7/QjKYyve1091gr\n",
       "bhGiMIW9O+Xy03J5gZGt6cgyXCiEMbfoDTJHWw5ZbigpuCbBz7JlRPwexCA1KRQ9IgvhunJmK9pt\n",
       "luFCvKSaWW4oKbgiwZMyOFB1/MEo4sVwP4BdBhCrFlRku3VkOVzxnULLoOQd3E3hnZp9T2bOegcj\n",
       "P7oXQVW/gh8FuTRl4aD+/sWciuwEOLGu9xu4cVH1LyoX2Ip38ASFZ69TDiiPa+iwtVNFd0nR71lP\n",
       "CN10LTQmkL2coTsNju0v2o7zH48L8FiqkZ/2pugVPEx3VnYaYcuI+BuIUhKnlQus6NPoYbU8FGr2\n",
       "8/NBFDsPdmwSb8ivwG6ScwIufBK4tmzubthDeQTP2z9mSbwy73E+slayODHZuL1nv1G9wcjUl5xY\n",
       "t50BAXdKWdWt3sEYOuReleioEK5eY0cHoMcWVLtwPpaVjzbL8jkoIrNAj5fH/ZioK8mOegdjaPEI\n",
       "tArJtaLjk9nCRQ+96Pe6j65Ur6N+G9BYYYGh1cLhpneSyvO3NZQ6uM2BZ3YFEp0Zx2fM8Nq8f4uO\n",
       "veJB1ro9+XuhCc8Rh3v7rnpvy3gHrzrw3M21i36HAvWQx/dKpqHPmpDX10+HdzCGbhB+3/btPzZz\n",
       "IkcoQIa/APGPRQ6lbhHITIocCt0ikBkVOWL+GVozKnIodItAZlbkmPHN0JpZkWPAN0O/AoyKHHm/\n",
       "DL2ZFTnGfTO0Zlbk6PLL0JtZkaPml9EAWWMiR8Uvo4EyMCZydPtl6M2syCHrFoHMrMgh6xaBzKzI\n",
       "IesWgcyoyKHQLQKZUZFDpVsEMpMih0q3CGQmRQ6VbhHIDIocf6tb/AEIY7zePQbKxgAAAABJRU5E\n",
       "rkJggg==\n",
       "\" style=\"display:inline;vertical-align:middle;\" /></a></span>"
      ],
      "text/plain": [
       "{(j - i) in Natural} |- (f(i), f(i + 1), ..., f(j - 1), f(j)) =  \\\\ (f(i), f(i + 1), ..., f(j))"
      ]
     },
     "metadata": {},
     "output_type": "display_data"
    }
   ],
   "source": [
    "eq.rhs.merger(assumptions=[InSet(subtract(j, i), Natural), InSet(j, Natural)])"
   ]
  },
  {
   "cell_type": "code",
   "execution_count": null,
   "metadata": {},
   "outputs": [],
   "source": []
  },
  {
   "cell_type": "markdown",
   "metadata": {},
   "source": [
    "### Testing the `ExprTuple.range_expansion()` method\n",
    "\n",
    "For self an ExprTuple with a single entry that is an ExprRange of the form f(i),...,f(j), where 0 <= (j-i) <= 9 (i.e. the ExprRange represents 1 to 10 elements), derive and return an equality between self and an ExprTuple with explicit entries replacing the ExprRange. For example, if\n",
    "\n",
    "self = ExprTuple$(f(3),...,f(6))$,\n",
    "\n",
    "then `self.range_expansion()` would return:\n",
    "\n",
    "$|- (f(3),...,f(6)) = (f(3), f(4), f(5), f(6))$\n",
    "\n",
    "First not that we cannot create an ExprRange with only one element explicitly:"
   ]
  },
  {
   "cell_type": "code",
   "execution_count": 92,
   "metadata": {},
   "outputs": [
    {
     "name": "stdout",
     "output_type": "stream",
     "text": [
      "Expected Error: Do not create an ExprRange with the same start and end index since it reduces to a single instance.  Note that nested_range/var_range automatically perform this reduction.\n"
     ]
    }
   ],
   "source": [
    "try:\n",
    "    ExprTuple(ExprRange(a, Function(g, a), two, two))\n",
    "    assert False, \"Expecting a ValueError\"\n",
    "except ValueError as e:\n",
    "    print(\"Expected Error:\", e)"
   ]
  },
  {
   "cell_type": "markdown",
   "metadata": {},
   "source": [
    "We can, however, create an ExprRange that doesn't obviously have one element but may turn out to have one element after a simplification or substitution."
   ]
  },
  {
   "cell_type": "code",
   "execution_count": 93,
   "metadata": {},
   "outputs": [
    {
     "data": {
      "text/html": [
       "<strong id=\"expr_tuple_with_1_elem_range\">expr_tuple_with_1_elem_range:</strong> <a class=\"ProveItLink\" href=\"../__pv_it/demonstrations/b219bd778389b380b5daa10e5ebeec726d589bb20/expr.ipynb\"><img src=\"data:image/png;base64,iVBORw0KGgoAAAANSUhEUgAAAN0AAAAVBAMAAAAwUfbwAAAAMFBMVEX////MzMxUVFRERES6uroi\n",
       "IiIQEBCYmJhmZmYyMjLu7u52dnaqqqqIiIjc3NwAAACW8nlqAAAAAXRSTlMAQObYZgAAAAlwSFlz\n",
       "AAAOxAAADsQBlSsOGwAAAzRJREFUSMeNVk1oE1EQ/jbNJu0mWaPQk0hCQRFBG71bg2BvhSoKRYQG\n",
       "FQ+9VPRgPbVQixEvQQ+KIC70Yg/S4EkRaS4KtQd7UvCnDUjVi5KCIC216byZ/XnJ1jQPZjP78n3z\n",
       "vTfzfhZAFX4T10a42Tpgx1bdvou7UxW/z3Wji2H4F/kZaEtOC+m3AY+9EPSR+/POUeBjCJ0sw341\n",
       "mUfqajt6KmS3E+SmeD/NTGVWye8n185hLo8upznCDPAUyQ3gURtyFMc6+CSI8Q2JP8Ik6wxGTG6k\n",
       "ilgB8YnmELeB5Yq1Boy1occhlwO9I8AVYZLFAhy5sXVENoGR5hAFoD8P0os5O+txSE1v1EFvlZlk\n",
       "8wGO3MggIqvAg+bycdKTf4GuNgo436S3H+hNM5PsLhf46w96sguzBjwPlF4vEa6zrPxT5CWyLYQE\n",
       "LHGWGxIxLEwyNZVEyb4Eb1YZ2g03feBLfM+5s9rXkwbipRZ6ApY4DXrGP2GSXaDX9w6og13gDNlb\n",
       "f8Tr2EX6Jm8otT6ThRbTE7DEadAzs8Iku0yvF2HQImEXnWqEGb/0WWToVIjlvcIbtRbrRMASR/Rm\n",
       "JR2Tao41NvrT2ECq4OGuqUe/FyJTwQeI3m7gRAXRFvNzwbqeyTsrroqumGQ0+fgmOrJuHugg+Q28\n",
       "8UKMV3EMks+6o/SSg//Xc8HhfC7ArjKT7Djp1TCrFgS52At8Aq4rlCKMw6JNgI5FlXSVz7hKtxXW\n",
       "0sAcR9czykgJk4yWvrWJXvUvufZQsTgoK1qdJpitRtYha/kG7z/eGVwV9RBMqREsu2kuuCNWisUp\n",
       "YZJ1U8fJz1Oqn1yzXq8T/ax6PUdjiB5+oRJo0CNapPMaplo55nmvNEOeo4E5ZM/oPf9kGK7X14RJ\n",
       "ZqZV10Mubto70JmW5Ix0ccVP+2Pl57vwXtDAfpyGtiJGZ/Mex1jlZTShH7hI0LwOIcPkMe3gplYO\n",
       "RdPB4ePeYyrrwwFnRm7YPv8CUe0ZHacj1mP2O9xq2Dm+cMIXsg724zR8IORc9jSV75b0TUPHL3JF\n",
       "ZKdbOWi6qXA4HezH0ZtiMtsOBuu6qW0+P37Jz1Jb3xP2Nh8kS2Jbek/x52SXjYAAAAAASUVORK5C\n",
       "YII=\n",
       "\" style=\"display:inline;vertical-align:middle;\" /></a><br>"
      ],
      "text/plain": [
       "<IPython.core.display.HTML object>"
      ]
     },
     "metadata": {},
     "output_type": "display_data"
    }
   ],
   "source": [
    "expr_tuple_with_1_elem_range = ExprTuple(ExprRange(a, Function(g, a), two, Mult(one, two)))"
   ]
  },
  {
   "cell_type": "code",
   "execution_count": 94,
   "metadata": {},
   "outputs": [
    {
     "data": {
      "text/html": [
       "<span style=\"font-size:20px;\"> <a class=\"ProveItLink\" href=\"../__pv_it/demonstrations/0add5e266568cf20800971bb1ecc45c14a7c7ef10/proof.ipynb\" style=\"text-decoration: none\">&nbsp;&#x22A2;&nbsp;&nbsp;</a><a class=\"ProveItLink\" href=\"../__pv_it/demonstrations/e763296b74747e3f2d87f8731849468595ececf80/expr.ipynb\"><img src=\"data:image/png;base64,iVBORw0KGgoAAAANSUhEUgAAATIAAAAVBAMAAAA3Nn/MAAAAMFBMVEX////MzMxUVFRERES6uroi\n",
       "IiIQEBCYmJhmZmYyMjLu7u52dnaqqqqIiIjc3NwAAACW8nlqAAAAAXRSTlMAQObYZgAAAAlwSFlz\n",
       "AAAOxAAADsQBlSsOGwAAA8JJREFUSMeNlkFIVEEYx/+7+nb1ufvagk4RSpBBUG7dsyXIm6CRIBK0\n",
       "VHTwUtQhOymYuNJloUMhBEte8hBKpyIiLwXlIU8FZbYQVhdDIQil3L5v5r03897M6s5h9tv3/v/3\n",
       "/d7MNzMPQBVhk6EHs3m6YLdme0C1jtuz5hBhdiG85YfNS+YDluVPb0Nky5ZrvXXcy9YcAmFR3aLw\n",
       "59QJ4KPhz8zDezFeQPZ6A2AkRmJIG4vSvZxwWtys1XIESkZwy+EtCr08XhXQWok/YBZ4jMxfYLoB\n",
       "MhI/mtpS/7+h7bd0Ttu0WqiUhNCi3oPCZBWpItJj8QdMAl8X3E1gpAGySS4Mjew4cFU6R6xaFSol\n",
       "IaTULQpTW0huA8PxBxSBngKILFXZnawYI7tWQVdVOE13MRIqJSG8VbcoTPYhuQHcj1eDmPLMHxrl\n",
       "3QtNiHWyw0BXTjgNd6YcCZWSEO6K0v/yg3oRwlkHnir9yxXStYg6PUtRW8dOTEqsk1G7KJ2GW2j1\n",
       "HIGSEHh42sreZQQj1U4L9nZofY7vef9dDx7K0fyXdyDTxFGyxD/plO6JAW7nOBRazRYqCeEC9e8r\n",
       "oAsiBNjxJhyFLewhUkdsdLw2M8UdhkwTR8mcDuk03KyN5AiUhHCF+ktIUNmLEC15HrdwUXSgnfbk\n",
       "VCEo5cR6fTJdLMl4NXMb59FYh+lmbSRHoCQEwkn8RbYYkN3gridwti/gg/+AvcDpBTTvMGaaOBiz\n",
       "QdGnuXDYabhZq9tCJSHQFKa30dThzyZtxL+A14FztIqT/qDXKkyW6atPpomjs7kIryqc0q3VGWt1\n",
       "W6gkhFNEto45Lj8KcQD4BNxkF+8qo3Bpq0DTEk85z2aaJ9s1qWLiCFliHlnpFG69sVazKSUh0Abh\n",
       "bqOrIhYqvMFSqU/uH6JG5qpJTsHr+JbYz8Taniv7t6WmbIrRtq3Sr5ZKE9LZMh8jY61mU0pC2E/9\n",
       "mc8TLKPQqdVqlOg8/x0g2uZjz3hoE9Q1l+hEh8PV4AwFJcSdM2aKk52bR9RmVqttSqdTiJGJByub\n",
       "UhKCk2PFAzHpueDjQJRDRhwlreIM7Q/fX/TvzB3DJo601dCtt/46OQiBjs59lcQG5CkaHu08vPQe\n",
       "R9EucEeiJ/C8kcEqNs7uSePqSJ0cjNCNzsqs/FbsDj9buD2hSRl2H8pK9T9HPVHCrvlpaRNHv13z\n",
       "gTu6BKr2HIwwQ2V2R16b8eWScEmUgKwMNw/NnTUT28QxBCuym7fnYARPDYAfZi3vvCZ/Vhr62l6z\n",
       "XFup416z5iCE/x1WQrV4yYfeAAAAAElFTkSuQmCC\n",
       "\" style=\"display:inline;vertical-align:middle;\" /></a></span>"
      ],
      "text/plain": [
       "|- (g(2), g(3), ..., g(1 * 2)) = (g(2))"
      ]
     },
     "metadata": {},
     "output_type": "display_data"
    }
   ],
   "source": [
    "expr_tuple_with_1_elem_range.simplification()"
   ]
  },
  {
   "cell_type": "markdown",
   "metadata": {},
   "source": [
    "ExprRange indices are already expected to be simplified w.r.t. `quick_simplified_index` from `proveit.numbers`, however, which deals with basic `Add` and `Neg` simplifications and combines all literal integers at the end of an `Add`."
   ]
  },
  {
   "cell_type": "code",
   "execution_count": 95,
   "metadata": {},
   "outputs": [
    {
     "name": "stdout",
     "output_type": "stream",
     "text": [
      "Expected Error: Start and end indices must be in the 'quick_simplified_index' canonical form: (1, 1 + 0) ≠ (1, 1)\n"
     ]
    }
   ],
   "source": [
    "try:\n",
    "    # A one-element ExprRange (hidden by choosing the start and end indices\n",
    "    # that are equal but appear different)\n",
    "    example_expr_range_2 = ExprRange(i, IndexedVar(x, i), one, Add(one, zero))\n",
    "    assert False, \"Expecting ValueError\"\n",
    "except ValueError as e:\n",
    "    print(\"Expected Error:\", e)"
   ]
  },
  {
   "cell_type": "markdown",
   "metadata": {},
   "source": [
    "`range_expansion` does the same thing as `simplification` in this case:"
   ]
  },
  {
   "cell_type": "code",
   "execution_count": 96,
   "metadata": {},
   "outputs": [
    {
     "data": {
      "text/html": [
       "<span style=\"font-size:20px;\"> <a class=\"ProveItLink\" href=\"../__pv_it/demonstrations/7bd638461f621ba4d8d16635dde772a31f22404f0/proof.ipynb\" style=\"text-decoration: none\">&nbsp;&#x22A2;&nbsp;&nbsp;</a><a class=\"ProveItLink\" href=\"../__pv_it/demonstrations/e763296b74747e3f2d87f8731849468595ececf80/expr.ipynb\"><img src=\"data:image/png;base64,iVBORw0KGgoAAAANSUhEUgAAATIAAAAVBAMAAAA3Nn/MAAAAMFBMVEX////MzMxUVFRERES6uroi\n",
       "IiIQEBCYmJhmZmYyMjLu7u52dnaqqqqIiIjc3NwAAACW8nlqAAAAAXRSTlMAQObYZgAAAAlwSFlz\n",
       "AAAOxAAADsQBlSsOGwAAA8JJREFUSMeNlkFIVEEYx/+7+nb1ufvagk4RSpBBUG7dsyXIm6CRIBK0\n",
       "VHTwUtQhOymYuNJloUMhBEte8hBKpyIiLwXlIU8FZbYQVhdDIQil3L5v5r03897M6s5h9tv3/v/3\n",
       "/d7MNzMPQBVhk6EHs3m6YLdme0C1jtuz5hBhdiG85YfNS+YDluVPb0Nky5ZrvXXcy9YcAmFR3aLw\n",
       "59QJ4KPhz8zDezFeQPZ6A2AkRmJIG4vSvZxwWtys1XIESkZwy+EtCr08XhXQWok/YBZ4jMxfYLoB\n",
       "MhI/mtpS/7+h7bd0Ttu0WqiUhNCi3oPCZBWpItJj8QdMAl8X3E1gpAGySS4Mjew4cFU6R6xaFSol\n",
       "IaTULQpTW0huA8PxBxSBngKILFXZnawYI7tWQVdVOE13MRIqJSG8VbcoTPYhuQHcj1eDmPLMHxrl\n",
       "3QtNiHWyw0BXTjgNd6YcCZWSEO6K0v/yg3oRwlkHnir9yxXStYg6PUtRW8dOTEqsk1G7KJ2GW2j1\n",
       "HIGSEHh42sreZQQj1U4L9nZofY7vef9dDx7K0fyXdyDTxFGyxD/plO6JAW7nOBRazRYqCeEC9e8r\n",
       "oAsiBNjxJhyFLewhUkdsdLw2M8UdhkwTR8mcDuk03KyN5AiUhHCF+ktIUNmLEC15HrdwUXSgnfbk\n",
       "VCEo5cR6fTJdLMl4NXMb59FYh+lmbSRHoCQEwkn8RbYYkN3gridwti/gg/+AvcDpBTTvMGaaOBiz\n",
       "QdGnuXDYabhZq9tCJSHQFKa30dThzyZtxL+A14FztIqT/qDXKkyW6atPpomjs7kIryqc0q3VGWt1\n",
       "W6gkhFNEto45Lj8KcQD4BNxkF+8qo3Bpq0DTEk85z2aaJ9s1qWLiCFliHlnpFG69sVazKSUh0Abh\n",
       "bqOrIhYqvMFSqU/uH6JG5qpJTsHr+JbYz8Taniv7t6WmbIrRtq3Sr5ZKE9LZMh8jY61mU0pC2E/9\n",
       "mc8TLKPQqdVqlOg8/x0g2uZjz3hoE9Q1l+hEh8PV4AwFJcSdM2aKk52bR9RmVqttSqdTiJGJByub\n",
       "UhKCk2PFAzHpueDjQJRDRhwlreIM7Q/fX/TvzB3DJo601dCtt/46OQiBjs59lcQG5CkaHu08vPQe\n",
       "R9EucEeiJ/C8kcEqNs7uSePqSJ0cjNCNzsqs/FbsDj9buD2hSRl2H8pK9T9HPVHCrvlpaRNHv13z\n",
       "gTu6BKr2HIwwQ2V2R16b8eWScEmUgKwMNw/NnTUT28QxBCuym7fnYARPDYAfZi3vvCZ/Vhr62l6z\n",
       "XFup416z5iCE/x1WQrV4yYfeAAAAAElFTkSuQmCC\n",
       "\" style=\"display:inline;vertical-align:middle;\" /></a></span>"
      ],
      "text/plain": [
       "|- (g(2), g(3), ..., g(1 * 2)) = (g(2))"
      ]
     },
     "metadata": {},
     "output_type": "display_data"
    }
   ],
   "source": [
    "expr_tuple_with_1_elem_range.range_expansion()"
   ]
  },
  {
   "cell_type": "code",
   "execution_count": 97,
   "metadata": {},
   "outputs": [
    {
     "data": {
      "text/html": [
       "<strong id=\"expr_tuple_with_2_elem_range\">expr_tuple_with_2_elem_range:</strong> <a class=\"ProveItLink\" href=\"../__pv_it/demonstrations/e13422037a21b8ecfb5da27ee1411a29af9215350/expr.ipynb\"><img src=\"data:image/png;base64,iVBORw0KGgoAAAANSUhEUgAAAI8AAAAVBAMAAACNsKCFAAAAMFBMVEX////MzMxUVFRERES6uroi\n",
       "IiIQEBCYmJhmZmYyMjLu7u52dnaqqqqIiIjc3NwAAACW8nlqAAAAAXRSTlMAQObYZgAAAAlwSFlz\n",
       "AAAOxAAADsQBlSsOGwAAAjZJREFUOMuNVD1rFFEUPbO7M7uZzAyrkErEYGHr+gOMi5B0whoUgqRY\n",
       "1MrGRQu1W1BxJc12itVAmqSQBFsLt0lALUwn+Lkgoo2SVKLEXc+9782MMGSZgfPmvLnnnXn3vg8A\n",
       "Q6SPoREKPVE2RseFgzRkaWWnkNEH8zpngddZiPT7w1PA2yI+wSai53ebCDtQ+P00RBo18KKJqbiA\n",
       "0TqwhmAfeAJFrZOGSEtDeG1UuwWMHgCfB/5v4DYUXhYi9f6gNAKuFTBqAwtN0MiLFS+zEGmphdIe\n",
       "8KhAibQkwS9gqqNY0Sp//MZWKdxd4NkkCyOubQqfp8n0rEJ+Pt2PriCZxzEu/p0JPlYs88DR43Wg\n",
       "2lcss/8mxl++llW4SGxPMLJiV/ecrFrQVlxl9zIcVlgpag2Z1QQjK/aa2rsew2EtCI529hG2E6Mb\n",
       "0iwc7JOIxegQcGaACrsE86mOUJ61qXG//gS2DjZKxJLaOBajoAXBacZ2sSGlI8UR4B1wU4bkt7eP\n",
       "TFzekSwltSqLQXCl/RFOyijSaKnXa5mNIJvWNBv9/4kVy6Lf0n0kG4GY4cez7+/LD0nd8XhM9QXp\n",
       "XhT9kmTRTcilTOzwf5UeDy1cA7cunx/rVqwnN01Llzaf2yukYpxPPn414AE9HDt7Wsdudnpl8vlK\n",
       "M4lErGc1Ob2KOZyI181VNmdDX7R9mi82Zam4bG9W3jwKrDLre+bbqh1gDPP3ZKglsmK/gdRQTaNs\n",
       "gKXhsNBV+8O8Phn8AyvnoBzmE/ikAAAAAElFTkSuQmCC\n",
       "\" style=\"display:inline;vertical-align:middle;\" /></a><br>"
      ],
      "text/plain": [
       "<IPython.core.display.HTML object>"
      ]
     },
     "metadata": {},
     "output_type": "display_data"
    },
    {
     "data": {
      "text/html": [
       "<strong id=\"expr_tuple_with_2_elem_range_exp\">expr_tuple_with_2_elem_range_exp:</strong> <a class=\"ProveItLink\" href=\"../__pv_it/demonstrations/ed0687937281bd3817e2a378273de4e4cadfc5040/expr.ipynb\"><img src=\"data:image/png;base64,iVBORw0KGgoAAAANSUhEUgAAAI0AAAAaBAMAAAB4E8JtAAAAMFBMVEX///9UVFQiIiKIiIjMzMx2\n",
       "dnYQEBDc3NxEREQyMjLu7u5mZmaqqqq6urqYmJgAAAB66f/FAAAAAXRSTlMAQObYZgAAAAlwSFlz\n",
       "AAAOxAAADsQBlSsOGwAAAgdJREFUOMulVb1L5EAU/22SNbIRFRvvDsGPUgu/wOKqwN1VV7inlZVb\n",
       "idgYBFGw2C1EUsmKjZUGDo+7Rve22iOdYHPV/gcqgqAoCCqioPFNZnaNjtlEfZCXx+/N/ObN+0iA\n",
       "imz++FQxt/KoKfppvynM1HEVPeOvAoqkDXq0wY7aPIm0mvF3AF8G+B6gocCdd8jSIfU+FMGjmUm2\n",
       "IsfsHQrPN/4I50l8HkDZD/DgkBnLVecI4vKoqwjyKA4FRTfV3TUKReuOw7Pwb5H0774gj9pMSUoD\n",
       "80jekXZQspdse78WD+VivExnXhq2PWkvc57ULdBEaCswAb2gW9HxJCzUZX6Z+n0wHqwDw3S3aQft\n",
       "1vzX7040T90tEteK0zj1hKcEUP3RArSb054n8qOPXfWFxtOBxKU22m8JntmNUdJDwEfu7xXr6hEp\n",
       "yrkwclVoz4HNO+tCIEY0z3Al2MIjZGKFn9GM2NIpQ9kyeiASFVeMnIxtl3k8ja8I5+AFLCvutQvW\n",
       "O7GkIY05OWUWPrAsp6E6z30SgBRT34DPkofqRaXHjOsWpU037N75gOErvcd15S498qnQ63k3kq+L\n",
       "HAorLauEbyg0yIrnefLX8i81ejksEfLF/oclbZ3P+4uSlKGwpWzetUyI86e8PGzq/LZpC3HKm9TQ\n",
       "ibMC3+d3yKForHcK/19U/l9vF4Mq+wBsnXtKkL3DxQAAAABJRU5ErkJggg==\n",
       "\" style=\"display:inline;vertical-align:middle;\" /></a><br>"
      ],
      "text/plain": [
       "<IPython.core.display.HTML object>"
      ]
     },
     "metadata": {},
     "output_type": "display_data"
    },
    {
     "data": {
      "text/html": [
       "<strong id=\"expr_tuple_with_3_elem_range\">expr_tuple_with_3_elem_range:</strong> <a class=\"ProveItLink\" href=\"../__pv_it/demonstrations/2b029eeea5de633da3f062a4e6acded41dfa3caf0/expr.ipynb\"><img src=\"data:image/png;base64,iVBORw0KGgoAAAANSUhEUgAAALoAAAAbBAMAAAA5YIiJAAAAMFBMVEX///9UVFQiIiKIiIjMzMx2\n",
       "dnYQEBDc3NxEREQyMjLu7u5mZmaqqqq6urqYmJgAAAB66f/FAAAAAXRSTlMAQObYZgAAAAlwSFlz\n",
       "AAAOxAAADsQBlSsOGwAAAntJREFUSMe1Vk1oE0EUfk023XY3JtGDKHgIKgqNYNKDB3sJIr12QXrq\n",
       "JfYkHqS3LXqwB5GlB0npuWW0IOqlRUGkeOit6EEKehRML54sFNpSWm3XN7Mzm83OmxChPsj8fG/e\n",
       "l/c3kwBQUgf4J1wXq3PrjJ9m8eZyG7d/1eoUTkozXmWU0ZYYXXDLOK2kDfq8bIPCKcluCyIpwiQf\n",
       "GRY37F2cZrQQ67kyhVPynbMPqN00H15H6wKL2Z2RtaRNpkXjmjg3Y/alj8hYxcUzpYx9dPPNZLjz\n",
       "QOJEYpyYfeUTDkNYtYZS3mKS5U2uI8uvqjSuyXrM7rAJHGvokKeaYxbcILgXYCyDrY7M79J4WuwW\n",
       "sn8IngYBHltEYJlhNaXyEfiqesWpts3Lun1M4USLj0/sramq7oNwZkx2uf3k9qpiGU3WlBXuUzjp\n",
       "/aHKu8Xz7c7AME/T2Qr0h+G2YqmpJkDculObSuOEPJ/Emmz+Vr5nS3xowHke/bWfJXlKsCyqrBhw\n",
       "ohknv9yVS8EuKnTqEAKczkQxyQs2+E21kQnXpa8Mj2WK+V1dGI3aAeZwOk50PapH1INjwnUptmAg\n",
       "0VDvVkUZjqCC3xGG4R7VBAackDE86mnpOuK+W398/yHFbsAp9nXf1yKzo8zsGGx2en7Oi1XKu304\n",
       "h9N7BnZaxbrgqQTwmuCd0K4a9swNnF48+HopbXLQBV9uJhbR7srWsOZ+oQE/uDNvDzTVxS54hr9m\n",
       "FZCLzBB3/vq8FpRbgv4NOpN51jP+2VAMvFKuR6ty0DNuYOBvpGW4gEvQK+5UDUc38XOBVplMdDxr\n",
       "atOr7d/Vkxfxu5r3/hP7dOL/zMkLvmR/Af7os0BtmatyAAAAAElFTkSuQmCC\n",
       "\" style=\"display:inline;vertical-align:middle;\" /></a><br>"
      ],
      "text/plain": [
       "<IPython.core.display.HTML object>"
      ]
     },
     "metadata": {},
     "output_type": "display_data"
    },
    {
     "data": {
      "text/html": [
       "<strong id=\"expr_tuple_with_unknown_elem_range\">expr_tuple_with_unknown_elem_range:</strong> <a class=\"ProveItLink\" href=\"../__pv_it/demonstrations/48b98817df24fccaadbe3f41e131bbbdde4ab2f00/expr.ipynb\"><img src=\"data:image/png;base64,iVBORw0KGgoAAAANSUhEUgAAAN0AAAAmBAMAAACyv4PzAAAAMFBMVEX///+IiIi6urrc3NxEREQi\n",
       "IiJ2dnbu7u4QEBDMzMwyMjKYmJhUVFSqqqpmZmYAAAAHKSyHAAAAAXRSTlMAQObYZgAAAAlwSFlz\n",
       "AAAOxAAADsQBlSsOGwAAAzlJREFUWMO9V01oE0EUfvndbNLdrBTBg9b0IngykoPiJYHuQVAkRaR6\n",
       "qMaDCB5k6w/+RVLUIqJCjr0levDSSxAPRTxEUBC8BHoo1EPXPxRRqRQaqIQ4s7uzO5P9yVJk9jA7\n",
       "u++b75v3Zt6bXQAAuQM8rpua1fnJRQ7EKfOeafLRg1fmbV7jpBc31+0Zeb7suE7DlmgLQITq18OL\n",
       "IahwH3ekLnl11jYmKKJMjrLcQrHXHdupQInMJLBQY6MkKjRGdo2qUhZxWxlgD37Sw/h0B1hoMY+a\n",
       "BrN8cdegT7RFQnppPKAUQi62ZtwcaBy79oY8jbcJ68wvalSZtmC9ZMciEcaCEzdT2l9hoJlZ1Py1\n",
       "rILSJaz6CjXJJm3BepJukchScCaNjC7fZaCxHlqSdUJ8u2yxCtpFZ1C0RFkMvWjJIrmWDF7F1C5j\n",
       "A1PQ08jHNTu6CnxRD6tqC2DBGSS1aQvWE0uyqt5Tj6CVbAXqFX/XgYX+QE7bMandsPfLOlWFSrSF\n",
       "iSdk84F6L6LlPAvdjZxuE/OKTFjFWXa/OBasF1EIyXzw/nwtlissdLUOWSP9qnM6VEcJa8Sag/AO\n",
       "BXwCHEvswoYCcXvSO/21MOEEvK+z0EYHsjiwwtyHR1SWkXW5Pr3YNtObzswrdlIt+Mo5hAy01oIi\n",
       "ToyRMhQ1u4o8JXF6C7EuyPmByvPZKhrpvbP+qWATMtCsgl0E7GTc2Wsfv1kdlJpoa50fyOIcKXBj\n",
       "/gcLS2hD0eLtw8Mb/X6/4j4g0dsNFJuBUIWpnN6EkNVN/xpLhYJ7smKvUDiwtaPOm9DWyyqeo/5s\n",
       "+Wj1IUSvizjMMjoJB3IXz+67BrFhzG4vBG9Ca1lreCbCyefb2RkJm6i5+nB8coicgas1rY7z5CI0\n",
       "K1wHUkYhlc88GTCdwBP/uqkM8w/jErpZi80mMeVJaCxrDtI+J6cU8ivKA7fsC17VQPZJ2mTIneGB\n",
       "q/iCz6H07XqbZkLquXGC/xocRdaet0kJqefGRfzB+FviGHC7ovhcXeSnl8Rney3HTS/VIaJ8rh1G\n",
       "+4Cb3mOjfclLLmJGcshX3f+7DpoVXDjOR06YtjqH+Pxw2h8YsToXvUu4+QdCicsy3vcGzAAAAABJ\n",
       "RU5ErkJggg==\n",
       "\" style=\"display:inline;vertical-align:middle;\" /></a><br>"
      ],
      "text/plain": [
       "<IPython.core.display.HTML object>"
      ]
     },
     "metadata": {},
     "output_type": "display_data"
    },
    {
     "data": {
      "text/html": [
       "<strong id=\"expr_tuple_too_big\">expr_tuple_too_big:</strong> <a class=\"ProveItLink\" href=\"../__pv_it/demonstrations/ee76aa6d403227cd421f793c3d065511a8f62e1d0/expr.ipynb\"><img src=\"data:image/png;base64,iVBORw0KGgoAAAANSUhEUgAAAM8AAAAVBAMAAAATCqclAAAAMFBMVEX////MzMxUVFRERES6uroi\n",
       "IiIQEBCYmJhmZmYyMjLu7u52dnaqqqqIiIjc3NwAAACW8nlqAAAAAXRSTlMAQObYZgAAAAlwSFlz\n",
       "AAAOxAAADsQBlSsOGwAAAwtJREFUSMeNlTtoFFEUhv99zE6yj8kiWFlkU2hpVrA1BAuxEVZRDBLI\n",
       "osHCxqBN7AIaXBFkwUIRi4GgmEJ2sbIJplHQFAk2gi8WQlAQNQFBsia7/vcxMzczm91McYe55/v/\n",
       "M/ecO3cANOBfjroZM/7VMIFeV9hSPucWg9nP6nYqKtVUcmUveUxLqZCGS8Fktg6ncj+P3FRES+rH\n",
       "y6PAh70kIvz9zhEgs3BPKYRhuhoA88AqMn+AR2EpqfQMlhfR7/bOQ9gp4tUoHuNJQylo2Ge8/W3g\n",
       "MHAZmA5rSeW2UKvCnumdiHC8gVTZLiFTVAoapgyiDFx1MUwo/N6kkpMY4Oqv9E5EONVEvJUoINtU\n",
       "Chq+NVpEn4PAcB794SYpapnTD3onIhwvIb4xMIPYllLQ8K7s3pdvYsl1yU2wi4WgsTIkqeR5Di+6\n",
       "7oIAhrVeY6K/SkFDkS9TdS6ptLxi24Dt7xAdElTs/RDHG13yGDAwuPK7Ls2EgobjoiQutsU7yO1v\n",
       "cTXZsqfVoXH1QOBNl0Q74DMQif4pBQ0nebuIWEt0bFQAN8XLr3taHZpUXWZrB7skMuG+Imp1JLeV\n",
       "goacZcdyZS+RLdqT9FbkhQSVR4KtPbF7HgMGrgHcDFmtoCHXabeQKHilW4LTQLaktV6I1EBTJnq9\n",
       "eyIDFofMrwQ/oqZS0PAYgXXUxD5I8FiK1ZFzYRfFB44gRCpVkKW7Liyjx0MIxgHgo11GX1UpaMjN\n",
       "l25h2FV7EGuVyqze6DwH/BApe0p+R2Lvpje98OaOpwB2xiqVEpf2NK8UNNzP2/FPs7LGLNhEu02d\n",
       "JbplXQhCgjpZ4aGKs+LxHP0scbSMQQ8h2Gq321U8WxjSChpaeRF7KNd/2ivEmhzfwQ8pSvxeZPey\n",
       "0dp1ggMFDXnm7XNjG3Ju2jhdebF+Xsg/S9UZnInuhE5woBCGIzjkzqv/WUL/GZ2i7C8n/dCIlq3K\n",
       "8Xl0M3SCfYU0nGNpb2m6CCNhTlZdh+a0THlE/7MdYV8hDR1D9VPdvkYro6lcYy9/WNNSKmj4H9ow\n",
       "93NtYCtcAAAAAElFTkSuQmCC\n",
       "\" style=\"display:inline;vertical-align:middle;\" /></a><br>"
      ],
      "text/plain": [
       "<IPython.core.display.HTML object>"
      ]
     },
     "metadata": {},
     "output_type": "display_data"
    }
   ],
   "source": [
    "# generate some example ExprTuples each containing a single ExprRange element\n",
    "expr_tuple_with_2_elem_range, expr_tuple_with_2_elem_range_exp, expr_tuple_with_3_elem_range, expr_tuple_with_unknown_elem_range, expr_tuple_too_big = [\n",
    "        ExprTuple(ExprRange(a, Function(g, a), two, three)),\n",
    "        ExprTuple(ExprRange(a, Exp(two, Add(a, one)), two, three)),\n",
    "        ExprTuple(ExprRange(a, Exp(e_nat, Add(a, j)), two, four)),\n",
    "        ExprTuple(ExprRange(a, Exp(e_nat, Add(a, j)), i, k)),\n",
    "        ExprTuple(ExprRange(a, Function(g, a), two, num(20)))]"
   ]
  },
  {
   "cell_type": "code",
   "execution_count": 98,
   "metadata": {},
   "outputs": [
    {
     "data": {
      "text/html": [
       "<span style=\"font-size:20px;\"> <a class=\"ProveItLink\" href=\"../__pv_it/demonstrations/dd15ddab664cda55306455ad1a3fcf0d0e8c24860/proof.ipynb\" style=\"text-decoration: none\">&nbsp;&#x22A2;&nbsp;&nbsp;</a><a class=\"ProveItLink\" href=\"../__pv_it/demonstrations/01fea8f109a457c0af7e9a8a0b6eb6117f707b170/expr.ipynb\"><img src=\"data:image/png;base64,iVBORw0KGgoAAAANSUhEUgAAARkAAAAVBAMAAACAi4frAAAAMFBMVEX////MzMxUVFRERES6uroi\n",
       "IiIQEBCYmJhmZmYyMjLu7u52dnaqqqqIiIjc3NwAAACW8nlqAAAAAXRSTlMAQObYZgAAAAlwSFlz\n",
       "AAAOxAAADsQBlSsOGwAAAxhJREFUSMeNlj9oE3EUx79pmqZNkxgFR2kRdBC0wb01CLoVWkEQKTTU\n",
       "4uBiN7M1UEsDLgEHpSAcdLFTg5MiQlbtYCcXtR5IdRIqCMVSW9/7/Ul+f3KXuyG5+73P+35ffu/d\n",
       "5QCE6BxF+WWsxBwGHEaH+8iGjkih3Y19kV/Tiaox4OnocLysNu+IbHdj+RaKjaclFJYSFMPw25WK\n",
       "gHskUDiBLJlbIrlmN7YJfMfoH2A9QTUEv0T+SMLrvcL9ZdncEhk2Cl4DrgD3gVqCagj+1s79lXCt\n",
       "V7i/LJtbIkNGsAo8DDARYijoXw3BNysgIYb9hGoSWTa3RN4braZ9uwBMlDDSf3DyosP5AwjYS8g3\n",
       "k8hKc0PkiRimrz953+TgzQOj43F1vNtd0vCNJQl7CSJsko6sdBTmpsgzuhxtFu9B/8DUPyDbjKnm\n",
       "DX6UFXzufEnCMmH1Nh+3oLUM0pFVjmxuiczR9ccAxCIjbv4MVZmvxmzNIU7taJhvB4a9BA5bpC2r\n",
       "HOfgiCzS5QJSxzxTFY6t8A/Zj65maBxjoYZ5PBn2EjhskbasclyEI0ILqSMUqrqaLPd2MGZvxtr4\n",
       "pODTwLW2gL0EDhukI6sduRpLhDYre4z0uO7UNooh8jPR1SyHuKrgk4CFGJYJxtxw2CAdWe3InbJE\n",
       "Jim2jy2etDQ1OdVCIUC2zA9KrxCxsozcgYIXxCYzLBLMg8MG6chqx0k4Iq8ofowJfi7xXbbXaKyq\n",
       "m3KLxpwfk/YJtsKBQwU/Eo8KhodbTjUcNkhXVjmSuS1ylhauf14V3aTdmj85Id8Mtzpzlz7u8Eld\n",
       "n/DK4OXXMwoebNAfnoAzFacaEe6SrqxyZHNLJFPi5edCYlZr7YnPD16r5MpI3YP3PHQ2gtQiwlGa\n",
       "GyLZOs4Eqd9iqWb/5bU8C1pJXcJYyYPXPLQWQQoR7ZituyJTuBhs7sjRU29iRTGTuR1vimll4EHu\n",
       "hQcXy1416bAnKUU6jlNwRDaoiY+VWxlGesF/U5NjU/HgtP+SmSv3JKVIx3EDjkjR2IJf8ms30Zuo\n",
       "Ae9Gh+NltbkS+Q9uYDUlHxKgIQAAAABJRU5ErkJggg==\n",
       "\" style=\"display:inline;vertical-align:middle;\" /></a></span>"
      ],
      "text/plain": [
       "|- (g(2), ..., g(3)) = (g(2), g(3))"
      ]
     },
     "metadata": {},
     "output_type": "display_data"
    }
   ],
   "source": [
    "# find equivalent explicitly 2-element ExprTuple\n",
    "expr_tuple_with_2_elem_range.range_expansion()"
   ]
  },
  {
   "cell_type": "code",
   "execution_count": 99,
   "metadata": {},
   "outputs": [
    {
     "data": {
      "text/html": [
       "<span style=\"font-size:20px;\"> <a class=\"ProveItLink\" href=\"../__pv_it/demonstrations/bb91d7f1baab4966bf2140661abd15b3b7b5631a0/proof.ipynb\" style=\"text-decoration: none\">&nbsp;&#x22A2;&nbsp;&nbsp;</a><a class=\"ProveItLink\" href=\"../__pv_it/demonstrations/f4f7c5e0a03b6a9247b172862202ccc1ef92a1010/expr.ipynb\"><img src=\"data:image/png;base64,iVBORw0KGgoAAAANSUhEUgAAAOEAAAAaBAMAAACzyCaTAAAAMFBMVEX///9UVFQiIiKIiIjMzMx2\n",
       "dnYQEBDc3NxEREQyMjLu7u5mZmaqqqq6urqYmJgAAAB66f/FAAAAAXRSTlMAQObYZgAAAAlwSFlz\n",
       "AAAOxAAADsQBlSsOGwAAAxtJREFUSMelVt1LFFEU/+3sx+iObksPfRFpvgQZuBYU1Mv24VMPrpkP\n",
       "0UP7FCWGgxAt9KBU6DzJRi8hVBNR2EuuQqFshgQ+9ORCf0ATQdAXShq2kk1n7sy4o/euO5sH5t47\n",
       "Z865v3s+5wIuPe3Y4y5fZLEpyd9bk84y+gXV0w97ymGCRoWe0JHGzTUCqWCaaQCnD9s61VBdzp5X\n",
       "0U8Hr2GsCoihZNiSGLDWb8nkgeoQnzvzV/+IgGR4EPFJJKKWZQ6vvZ6DX8TgPXgRJV0gMiNSfG9l\n",
       "AUVEzt8n80IH/SDenLpD42jCixiM83KzlItd024YrK3DXecRJN8oKSCD8CqNOia1QU0zNkOkmF0q\n",
       "0BZLiqZd0YZtxOgKJxfNWpkVsA19PEUC8gNsB0aAbaS/E7gMOSerlW0MqIiknyXlv14b8ZCTUwzE\n",
       "DIbLXEyItQlowDegnWLQq6NBzZw5q1dGjKwgsCzpse51iJO8HHkxvg5xjgU7ooPqybK2Idlrmk4c\n",
       "5Qu/EmVtbERgKdTZqjqI1x910niUk3tH5/6tK0YJcZCtag3stnktjmRN5XKSFpxFqQw/cMn6kp6G\n",
       "xdcoIV5tO1Fghmt2Mi26/q+M2O46IFdisaanNDGKu5FVzAMexKKBHiCWxV373HH/LWM/z+ovbOQc\n",
       "sgokY86sIUYpZq901KXRDHHoy5Ii6GljHOI1MieHue4S4k9gvoDQgm1jrAoTPwp4/UkBIqWl/Mfj\n",
       "VUI0UJ+2EWchq34bfwo3+NCqG+NIXh2jaV8J8RazkQpvl5U3KQS5bON7JeO0Ace5L3yu3iYb6RhD\n",
       "thKrR4ojeXOAlVJfPj/BtamiFZ/sxoXcnM/z/eEzx+kA6kcQSzAlhJep7lLRHtZUreO1mGaR02mi\n",
       "D5JVAFZusQXjmKbJ3xDGOc4pek7mp22lwI4iuffiOEVbKiBSKBcwvTLHJb6vSkmxUp/97xBS2AfH\n",
       "jQD/74jlxEpvKGvSZbZ54oPjbi8oriGhErug7C2zTcIHx3WhoLRGhUo1queeswUS3XNk4fmOOSW9\n",
       "Rar2LufeV/+fFL0a6X+SJdLL9Mxg4QAAAABJRU5ErkJggg==\n",
       "\" style=\"display:inline;vertical-align:middle;\" /></a></span>"
      ],
      "text/plain": [
       "|- (2^{2 + 1}, ..., 2^{3 + 1}) = (8, 16)"
      ]
     },
     "metadata": {},
     "output_type": "display_data"
    }
   ],
   "source": [
    "# find equivalent explicitly 2-element ExprTuple\n",
    "# notice the automatic simplification\n",
    "expr_tuple_with_2_elem_range_exp.range_expansion()"
   ]
  },
  {
   "cell_type": "code",
   "execution_count": 100,
   "metadata": {},
   "outputs": [
    {
     "data": {
      "text/html": [
       "<span style=\"font-size:20px;\"> <a class=\"ProveItLink\" href=\"../__pv_it/demonstrations/62996bd359bbf2990735f8533371df162bc1bb460/proof.ipynb\" style=\"text-decoration: none\">&nbsp;&#x22A2;&nbsp;&nbsp;</a><a class=\"ProveItLink\" href=\"../__pv_it/demonstrations/b77f60504fe18a7172177dad6d57fc67f5f39bd60/expr.ipynb\"><img src=\"data:image/png;base64,iVBORw0KGgoAAAANSUhEUgAAAXAAAAAbBAMAAACXc8khAAAAMFBMVEX///9UVFQiIiKIiIjMzMx2\n",
       "dnYQEBDc3NxEREQyMjLu7u5mZmaqqqq6urqYmJgAAAB66f/FAAAAAXRSTlMAQObYZgAAAAlwSFlz\n",
       "AAAOxAAADsQBlSsOGwAAA5ZJREFUWMO1WE9IFFEY/1xXR2c216L/dFgsCjRqNQjKyxLmpYOb4cnL\n",
       "Jh0iqDy1UZBCEUuH2PBcTEmRXVyMIqSDECEVxEIdg9aLh0gQUkRLpzd/3uzsvN8bZ1G/w7yZ3/vN\n",
       "b7/3ve99780SIUsRVYWLFqUNU0Piat923X04VMaV3+0phEPLu3eR4DE+P78fUu982CmRANJz1lUj\n",
       "LcGagv8natK1GYQjq523hByDrzQVnb4JL9W1XXQS4kg6Zv9AvKgssGZYmJhUXQLhyH6Y6g386Sai\n",
       "fLGbVRpKeaiudVEvIRxJjzmh0F3H1c4p7zuREsYFU0+76qPvmWISUJwZ/1V23KR67BghHEk/5J1u\n",
       "ZLVY3jtJIwRxMJ2qq174xC6tIqWhxO96K6iunUpCHEgrGd55RnccfFVXkZ4vkxgXbNpVV/V+dm0X\n",
       "KTfcDGytoJZDexfiQFpL8/LxgLRc7nKOzUBjqSLLFzDuN6XE1N/l7udyjPaEAeO6wHnjZqleQS1b\n",
       "TwrgSDpedDpvU5Yvwvhg+Z0XKWUN4aC+9vUvTvEVtERwnKvck4Iy6KXyeF+ioRLAkXSPExblXtck\n",
       "d7DbuzT1pisIhzFf4YkYNRNQE0vUCg941zndS+XWSrMQB9Id5kB3t1G9YcxzB3lymnj0QvugHwf2\n",
       "dIDl/8xfHpbaZvOSEZZvwqFeNwzyUrnE2RN7IA6k95npcHSWsywHeXbJcFDmBr5e5IWDeJZsWxF2\n",
       "s7yESlXiTDrHmh32TDh7UuN3HikZLlpNgoacnDO3t8fd9qq2nlsssyLQMCyhUpU4k37EmjVPNWfd\n",
       "nbwayHDR4iVPiSZ6PWnl5aqf1tgsoVKVOJNuY+4bhrGIyoQEB9bDqGkhfwTHIwUJlarEmTSLePRf\n",
       "NnsLOS7Bkfp0NivMh3WGECIOqVQlrtip8kfizp/QZ+p4Eg18yZ/jVqokq5AIkN7Lmrc6Kf65IIyT\n",
       "GBSTqrFaL+xOoKoMY6oukQiSNs+/z659O+jrGc9jXF12Ot0b++nwXIcQmSaxjmcg1dJCEkHSP83R\n",
       "Tiz7uyLW0U7EqUW315i5qu0bi6odHxGmQmuGcwCoLTrGg6Trizi1PkuyOaaHpoKzytXQoutKa2nc\n",
       "JYGpLjw16HS4rui60lG8HaqSNU6j4akzItQdVjSE9AH8NSOLQTI89Qg4GkyFFA0hPUZbZEHfnJsh\n",
       "HUtvkePwK//jJkrPbZHjkwH/q2xc+j8xpVcgPAMCqAAAAABJRU5ErkJggg==\n",
       "\" style=\"display:inline;vertical-align:middle;\" /></a></span>"
      ],
      "text/plain": [
       "|- (e^{2 + j}, e^{3 + j}, ..., e^{4 + j}) = (e^{2 + j}, e^{3 + j}, e^{4 + j})"
      ]
     },
     "metadata": {},
     "output_type": "display_data"
    }
   ],
   "source": [
    "# find equivalent explicitly 2-element ExprTuple\n",
    "# notice the automatic simplification\n",
    "expr_tuple_with_3_elem_range.range_expansion()"
   ]
  },
  {
   "cell_type": "code",
   "execution_count": 101,
   "metadata": {},
   "outputs": [
    {
     "name": "stdout",
     "output_type": "stream",
     "text": [
      "EvaluationError: Evaluation of k - i under assumptions {n in NaturalPos} is not known. The ExprRange e^{i + j}, e^{(i + 1) + j}, ..., e^{k + j} must represent a known, finite number of elements, but all we know is that it represents k - i elements.\n",
      "EvaluationError: Evaluation of k - i under assumptions {n in NaturalPos} is not known\n"
     ]
    }
   ],
   "source": [
    "# When the number of elements represented by the ExprRange is not known,\n",
    "# the range_expansion() method fails with an informative error message\n",
    "try:\n",
    "    expr_tuple_with_unknown_elem_range.range_expansion()\n",
    "    assert False, \"Expecting an EvaluationError; should not get this far!\"\n",
    "except EvaluationError as the_error:\n",
    "    print(\"EvaluationError: {}\".format(the_error))"
   ]
  },
  {
   "cell_type": "code",
   "execution_count": 102,
   "metadata": {},
   "outputs": [
    {
     "data": {
      "text/html": [
       "<span style=\"font-size:20px;\"><a class=\"ProveItLink\" href=\"../__pv_it/demonstrations/51baf27bdf43c0d44f06907ffe8683f00ac9534f0/expr.ipynb\"><img src=\"data:image/png;base64,iVBORw0KGgoAAAANSUhEUgAAAF4AAAAVBAMAAAA9Y0TyAAAAMFBMVEX///+IiIjMzMzc3NyYmJhU\n",
       "VFR2dna6urqqqqpmZmYyMjIiIiIQEBBERETu7u4AAAAsfX+gAAAAAXRSTlMAQObYZgAAAAlwSFlz\n",
       "AAAOxAAADsQBlSsOGwAAAVNJREFUKM9jYMAKDLCKMjPgAIwNWIXZBRgY+O5swJRoA2JJdEFNBgYR\n",
       "IMU1AUM53wIgsQ1ddCtQ7QMGBn5MuzkdkNwAYzMC1bMAza5/gKGeB4nNIQBlqCwFEucYGHIwnd+F\n",
       "TX0CSP0SBoalDG3z0NRPA3pB0gFVPaMBSH0qA98XjuYjIDfvBoMABogpbOwHUNWbMIDUezFwfK5g\n",
       "Woxm/g4GBg3OBajqE8Dqexg4jyhguP84A8MDHgGIpXtOgy1lMQCr12fgXjkJm3qG/gco5hsygNXX\n",
       "MLxvqAdbgOx+oHsYlvKhqC8NDf0TxsDQzeD/4H2DAJr5F4Hh850NLTwZjgKxL0MUw3uFBDT1qQwM\n",
       "TB9M0NX/BYf0DQbGiegxrA3EIWjhzzD3fyADw3as6ZZbAUv8gjPABqzqWSZgSW/oCREZXMaRj2xx\n",
       "iL9lIM0cZgHs2dSAAQATyVCM1LB61AAAAABJRU5ErkJggg==\n",
       "\" style=\"display:inline;vertical-align:middle;\" /></a> <a class=\"ProveItLink\" href=\"../__pv_it/demonstrations/db881e9a2b4a9942e55523c69500de18054632450/proof.ipynb\" style=\"text-decoration: none\">&nbsp;&#x22A2;&nbsp;&nbsp;</a><a class=\"ProveItLink\" href=\"../__pv_it/demonstrations/221e3f5e5337372818a52507d24d72c425c07da30/expr.ipynb\"><img src=\"data:image/png;base64,iVBORw0KGgoAAAANSUhEUgAAAnUAAAAmBAMAAABQXHAXAAAAMFBMVEX///8AAAAAAAAAAAAAAAAA\n",
       "AAAAAAAAAAAAAAAAAAAAAAAAAAAAAAAAAAAAAAAAAAAv3aB7AAAAD3RSTlMAmVSrZs0y7xCJ3bsi\n",
       "RHYwvcNTAAAACXBIWXMAAA7EAAAOxAGVKw4bAAAGKElEQVRo3tWaXWgcVRTHz2w2k9nd2Q8rUqlV\n",
       "K1oIpZA8KIpCDYpUkOA+9KEi1vXFIAUTrUioioNVq61m10pB+1C2ffCjSF0x4MMW2QerlQY3T0Ip\n",
       "1K15EEppS0hlA/nw3jtzZ++de2Z2uokDcyEwc+9v7jn/c7/OzAYAQNsCUZQPLJ+GDRC74mq5PRp7\n",
       "+jd4vTYcv9hxLcliRAafxKufghgWR8uYFZG9DLo36JNxjJ2j5bmo7BlolPorcYydrSXR5rcNt6Uk\n",
       "YtsBPhFuc8J1Kbyxkt/GOsSnfceILrYnGqJnAC1YM+cnRw8pW+da0nzcUx1rXwlgchbgOL95n+yN\n",
       "BUA5tSRPg4w2Gwj1Lb9wjUBaHJNRwTOD7I0adOc+/vyRII5bMp+YK4lyRE6SDf3g5ZiWcWm7Kyja\n",
       "DvDjkAb8WhXgAs4h5R1Plxlkeept6cxVF8ew4NmrVwCyle5cATZ142hLXyU3YcvRAmUDXAcvx7Q8\n",
       "Jj1SUzq5m8NswpPY9VsopxbzhqfL5IQK9Uk9ZdQMZlb0bBv5292dW4ZmqQtHW/RSqmrLyQTLzg6B\n",
       "l2NaFpyb7By3bFwWD0QSrUvDYuxSW1AOWbO1PyoSas6rUH7EuegYmRKT5bToGYvdke7c0zR2vlzH\n",
       "EqRHbDkqJ8meKoOXo1r0JQeeyvP5pCWEjM8sgtFqi7FLFDAOKX1XB9+W0RMqNO7sgYKRwlah/azo\n",
       "GYvdfSE4OObPCZZyexw5CifLbpVVjmhJ3nDoc9v4qH2UEnazbA3M96pi7LI1jEPKwN/sdBXQO1To\n",
       "We6sa8SwPhPaL4qesdhdDMHRvN+PE+TA4ZYtR+Ek2YlGGRSOaOlz587PoNXrb9WnydIeEY50MnEz\n",
       "Lbir/lO9PsJip9cwDinN20qeLq+r0EPuVucagV1C+/2SZzQ6e0Nw560ATrCk/0vkYJwk+xcog8IR\n",
       "LQP8fDLafJJAXsglyCNQ/hBdsxKHlGey1YaMDqkJ4T5+0TECS0L7Xskzac36c2bBbPhzrqWDJXNB\n",
       "WIsiJ8l+5ct7jygc0ZKn27nx8AlIFN2YjPFwkmq6aW7VxNjlWl4OKQf2F2CHXq3I6Lh6uCxyumNE\n",
       "nxA6IXu74BmN3bXu3PmXX7L8OddS2kpO2nIkTpUNTUvhiBZ2zh08uXPY2OFOkjnHFq2GM8TmVecx\n",
       "8+hiCzIKh7yy7H9gH3nywZKMltVFvsBp1wjkhoVOiLWOZ7+/SNLVM925d1dXAzjXkn58rmHLkThF\n",
       "NiQf36BwREuTToVHwWwLWRRf96z6gjf1OqxwyBFbpUOldJlnib92ihXmAUtbOjQzwrdRVp2teDJP\n",
       "o7YunCxH4gJkCxzRwpYRGfxpNyvv/3OiMyemQWt4Uv7NCodmbZkRULrMKy8W+rxEUyMvjEmdbPa8\n",
       "8TB/1s7JciQuQLbAES1/kTxbX11dXexk3pedGeNUf+HJeGe9HFLGyaNCnDiaV5Ka7LJC33On1EnK\n",
       "Y2V0fTlXjst1kc05ooXOO31+ZuYc8qppVxuerSzMm+z49pkZJLJq7Ni886Gdak+Ltb6c0atsJ3aw\n",
       "gkdgpefPW/lWQLW439lrtnUrnfzv3ErY3pp0o9logQnqsCHVSlGHl46QNgnQCHh57bz7LOB0QCc9\n",
       "cdYtcGFkMy1lOhiH3rh02uPTTbRa9Z1y5aJwYd99PXoFGeWmkt8ZdJAROqCTXjjmXVguhGxbywDb\n",
       "gjbd9HZ6ykKrlUK5dMF5z2cXafobkvb9HmwbnFWqXgOUDuikJ47JCcuFkM209Pt8iUuE/AUI4QZ9\n",
       "4SEVft4HHQy5sw727OaaOKZF80nSUiG7QDj/H2+OqVUbfdCwvwBVenZzTRzTkmzjTVMhu1A5w3/C\n",
       "/4h8g8IH2gh5JoblepcToMWYx5tC+oRwOX94Adns8W/PuZDmcz27uTbO1vIDRFayS2pdpgCxLEzL\n",
       "zujspZBv9MmJeMaOaSnPRmZvAFmfxnI8Y8e0pIqR2fsHqzwaz9jZWt6MzN7r6ACWYhk7W0tk/8OV\n",
       "Q2d4shjH0DlauvzatX7lN/xFfFccY+doMb6LxpxxEq8/1Ihf6FwtZ61I7GV85re5O36xc7WY0ezW\n",
       "n/o1/Bq/2DEt/wF4x1m+YS4BHwAAAABJRU5ErkJggg==\n",
       "\" style=\"display:inline;vertical-align:middle;\" /></a></span>"
      ],
      "text/plain": [
       "{k = (i + 4)} |- (e^{i + j}, e^{(i + 1) + j}, ..., e^{k + j}) = (e^{i + j}, e^{(i + 1) + j}, e^{(i + 2) + j}, e^{(i + 3) + j}, e^{(i + 4) + j})"
      ]
     },
     "metadata": {},
     "output_type": "display_data"
    }
   ],
   "source": [
    "# but if we give the method enough information about the indexing\n",
    "# we can generate the equivalent explicit ExprTuple\n",
    "expr_tuple_with_unknown_elem_range.range_expansion(\n",
    "        assumptions=[Equals(k, Add(i, four)), Equals(subtract(k, i), four)])"
   ]
  },
  {
   "cell_type": "code",
   "execution_count": 103,
   "metadata": {},
   "outputs": [
    {
     "name": "stdout",
     "output_type": "stream",
     "text": [
      "ValueError: ExprTuple.range_expansion() implemented only for ExprTuples with a single entry, with the single entry being an ExprRange representing a finite number of elements n with 1 <= n <= 9. Instead, the ExprTuple is g(2), g(3), ..., g(20) with number of elements equal to 19.\n"
     ]
    }
   ],
   "source": [
    "# When the number of elements represented by the ExprRange is > 10,\n",
    "# the range_expansion() method fails with an informative error message\n",
    "try:\n",
    "    expr_tuple_too_big.range_expansion(assumptions=[Equals(subtract(num(20), two), num(18))])\n",
    "    assert False, \"Expecting an EvaluationError; should not get this far!\"\n",
    "except ValueError as the_error:\n",
    "    print(\"ValueError: {}\".format(the_error))"
   ]
  },
  {
   "cell_type": "code",
   "execution_count": 104,
   "metadata": {},
   "outputs": [
    {
     "name": "stdout",
     "output_type": "stream",
     "text": [
      "ProofFailure: Unable to prove (20 - 2) = 18 assuming {n in NaturalPos}:\n",
      "'conclude' method not implemented for proof automation\n"
     ]
    }
   ],
   "source": [
    "# a related issue to ask about\n",
    "try:\n",
    "    Equals(subtract(num(20), two), num(18)).prove()\n",
    "except ProofFailure as the_error:\n",
    "    print(\"ProofFailure: {}\".format(the_error))"
   ]
  },
  {
   "cell_type": "markdown",
   "metadata": {},
   "source": [
    "A related example where the ExprRange and ExprTuple are being used as an argument for a TensorProd operator."
   ]
  },
  {
   "cell_type": "code",
   "execution_count": 105,
   "metadata": {},
   "outputs": [
    {
     "data": {
      "text/html": [
       "<strong id=\"example_expr_range\">example_expr_range:</strong> <a class=\"ProveItLink\" href=\"../__pv_it/demonstrations/ad1dce88f3ced7aec43ba4e07c7c41b8438d45690/expr.ipynb\"><img src=\"data:image/png;base64,iVBORw0KGgoAAAANSUhEUgAAAHYAAAANBAMAAACObIcgAAAAMFBMVEX///9ERES6uroQEBAyMjLc\n",
       "3NyYmJgiIiJmZmaqqqp2dnbMzMxUVFSIiIju7u4AAAAd7oVFAAAAAXRSTlMAQObYZgAAAAlwSFlz\n",
       "AAAOxAAADsQBlSsOGwAAAUhJREFUKM9jYHh75/WqCQxwwHf33K6VDPgAkoYG3rMcBQgZDoY7F9rx\n",
       "6kVoYAtg+8eTwPDMASqTypD/4BjDqzXncGmFaGDNvLOBgZuBA6iN+y7M6g0MLSCzGXDaDdHAs4DX\n",
       "AMhhvgAkOBHOtgXiTwzxG3A6GqSBewMXSId+AN8DJL1MXxneMeTh0wvWwMCewPBQ4TADF8RePlAw\n",
       "C/EYMCwAMpYzMDzA0AVSAdXA68vAMH9fM4MmRO97oD84f78wYALGAHcdA98XBogYmAHnQTUwPLzA\n",
       "8OIuZ9sEiF72OqCS3gszMoEygUBLy0EuawByKhigBEgFVAMD92+Ya8D+nQd3HGsDawADJ6aj4Soe\n",
       "b2D9hqJ3AVxN4O4dD0C+QgdwFewP2Oxg9iz5dYGB7wJcjf3//8DEhxlWcBXca+8EIMvwoqm8gKEX\n",
       "VQUAcC1pwfSId6UAAAAASUVORK5CYII=\n",
       "\" style=\"display:inline;vertical-align:middle;\" /></a><br>"
      ],
      "text/plain": [
       "<IPython.core.display.HTML object>"
      ]
     },
     "metadata": {},
     "output_type": "display_data"
    }
   ],
   "source": [
    "# create an example ExprRange\n",
    "example_expr_range = ExprRange(i, IndexedVar(x, i), one, three)"
   ]
  },
  {
   "cell_type": "code",
   "execution_count": 106,
   "metadata": {},
   "outputs": [
    {
     "data": {
      "text/html": [
       "<strong id=\"example_tensor_prod_over_range\">example_tensor_prod_over_range:</strong> <a class=\"ProveItLink\" href=\"../__pv_it/demonstrations/509b33b7abe24b60e66911dbc37748246ece9d0b0/expr.ipynb\"><img src=\"data:image/png;base64,iVBORw0KGgoAAAANSUhEUgAAAI4AAAAPBAMAAADAP+pGAAAAMFBMVEX///9ERES6uroQEBAyMjLc\n",
       "3NyYmJgiIiJmZmaqqqp2dnbMzMxUVFSIiIju7u4AAAAd7oVFAAAAAXRSTlMAQObYZgAAAAlwSFlz\n",
       "AAAOxAAADsQBlSsOGwAAAdhJREFUOMuNkz9L5EAYxh9XspvNbKYQrt/Wa9wvcOoXOIid2LiNhcWp\n",
       "5VUSULRR2PIQzkuhiPGUWAiehyIIdi5hQUHdlRHhWP8eiFqcoL6TbGISkb0H5uXlN/M8mUkmQFRH\n",
       "9rIAmiEp3bZP8J42BXilKZJiFHKdfyeGfaBymm+CPK0aAG+LoevqpV3yOlUzwM0V8Fp5YxExlJQ5\n",
       "D9Q1ETHD1PfUEa/bxzzquICKqjuJGEq+HUMzuMmtiDltpJ9yRfzpBrahrZnIYQDDYhcXP8uvKCEC\n",
       "S70065uVwaoDBpUiWI1SLWAK0OBgXO4Tk68oIQLqNs365pylFwi2ulSyI9Kp2A6dCvhE4xb9TgTF\n",
       "RKBvSRo8M3M0ebYOg4tGTh8qck3qHjcY8nMaKJmjWHpe5nhmZIr0UXfkNmXOL2ZBz7fztlxBHggL\n",
       "IXpzQ0obQCVVapj1z8CPrTG0+zn6R1pyaGUf64UUfUw2GiK6LHfU/O0OSoWQPhOYceqiXstOlPwc\n",
       "yEt3Jfi0+22Quh4RIipfaWTMoLTIe1gOzGCPwU69nPQxNosBUUzFSKCIvjjsIOjPHOUhloPz2my4\n",
       "suf3ukigiPj3w/D3zYh0Z/DwuX9uYmXX8zP+T2y5arwAI9KvS77+lskAAAAASUVORK5CYII=\n",
       "\" style=\"display:inline;vertical-align:middle;\" /></a><br>"
      ],
      "text/plain": [
       "<IPython.core.display.HTML object>"
      ]
     },
     "metadata": {},
     "output_type": "display_data"
    }
   ],
   "source": [
    "# use the example ExprRange as the arg(s) for a TensorProd:\n",
    "example_tensor_prod_over_range = TensorProd(example_expr_range)"
   ]
  },
  {
   "cell_type": "code",
   "execution_count": 107,
   "metadata": {},
   "outputs": [
    {
     "data": {
      "text/html": [
       "<strong id=\"expr_range_eq_expr_tuple\">expr_range_eq_expr_tuple:</strong> <span style=\"font-size:20px;\"> <a class=\"ProveItLink\" href=\"../__pv_it/demonstrations/831f8572a65cc1920e46354cb53ed90a1181bfb90/proof.ipynb\" style=\"text-decoration: none\">&nbsp;&#x22A2;&nbsp;&nbsp;</a><a class=\"ProveItLink\" href=\"../__pv_it/demonstrations/1352e5514a2ea82c95cbb9fcf1a4b3c09671a0bc0/expr.ipynb\"><img src=\"data:image/png;base64,iVBORw0KGgoAAAANSUhEUgAAAQEAAAAVBAMAAAC08kb3AAAAMFBMVEX///8AAAAAAAAAAAAAAAAA\n",
       "AAAAAAAAAAAAAAAAAAAAAAAAAAAAAAAAAAAAAAAAAAAv3aB7AAAAD3RSTlMAInZUiRDNmWbv3US7\n",
       "qzJazP2FAAAACXBIWXMAAA7EAAAOxAGVKw4bAAACYklEQVRIx6WWzWvUQBjGn2Q37jbbDaH0VArG\n",
       "9SYs7MEPyMWllh4KhVDUKiy6CII3FxGpPa2UtkeXgqceWiilUKgs+ge4evUiQkFvQRTBgyioCELr\n",
       "JNmZncxMAiEDm8n7Jr9nnrwzswkAGzmaCtYy4nojj4MXitzZjPj5PAagd6VUoZkNN9q5HOCulLme\n",
       "ES918znYkDLLGfGxfAYw5omZXkb8Yk4Hp8QaFtoZ8YekW6zfmuV2hFE7+nwlleOA4jvhWqkpKYiC\n",
       "cfwe6Tr6+9IOp4G6s5LqgAPK4SOvHATtkBZFUBAF4/guOdrl39UubtDyPcFT7wOuLhwlGYgAbbXu\n",
       "k6KL0242qIKxrhYU8C3AQokMbtVoGXw8CowisQ4RUG3qZHTrh7i2+lTh0zm1oIBvhZQTLKHRRGyS\n",
       "3z+c9pOXMAEsv0iISk/hIFKAmyQYw3eDzCvb8DgHlZ+4hrU0ByEAs0t9c+sgmIVIYeRAFIzhb4BW\n",
       "/yOKQy1ywXhb7SH4Z50PQ6EZYIB+J5jUgXDDuMMUXFlQgS8Al788xsvIgfGH9MdLvQp5EGsvDHG7\n",
       "HeVH0RBAy4k2X6yR/UUVXElQhX8DlmqF5cawBgcejAfOpVVyOu2FIcwOCfYxPJh7DIB1TOK+uEx3\n",
       "mIIrCypwk0126KDA6q51NJsLWbtAT2762l9gSrrhOTtzZUEFXu7EHBQZPv39q8eFrLGqm175meo9\n",
       "tBFzIAiq8NfU4twvMi+LDNg+OeFDthIdVu6Zug1tIN0xTr+bJu/PSIIqvBXDHaSFwTdFwnCcx0GK\n",
       "ggrXnDyvxjOK3EQm/D//78dVo+iRvAAAAABJRU5ErkJggg==\n",
       "\" style=\"display:inline;vertical-align:middle;\" /></a></span><br>"
      ],
      "text/plain": [
       "<IPython.core.display.HTML object>"
      ]
     },
     "metadata": {},
     "output_type": "display_data"
    }
   ],
   "source": [
    "# find the ExprTuple equivalent to the (ExprTuple-wrapped) ExprRange:\n",
    "expr_range_eq_expr_tuple = ExprTuple(example_expr_range).range_expansion()"
   ]
  },
  {
   "cell_type": "code",
   "execution_count": 108,
   "metadata": {},
   "outputs": [
    {
     "data": {
      "text/html": [
       "<span style=\"font-size:20px;\"> <a class=\"ProveItLink\" href=\"../__pv_it/demonstrations/0486e1cd9f9f2350d1c69c659f74613854f6931d0/proof.ipynb\" style=\"text-decoration: none\">&nbsp;&#x22A2;&nbsp;&nbsp;</a><a class=\"ProveItLink\" href=\"../__pv_it/demonstrations/672f0ce529b58b5486f0d1be64bc7b11ddca54980/expr.ipynb\"><img src=\"data:image/png;base64,iVBORw0KGgoAAAANSUhEUgAAALIAAAAuBAMAAAB+AF5jAAAAMFBMVEX///8AAAAAAAAAAAAAAAAA\n",
       "AAAAAAAAAAAAAAAAAAAAAAAAAAAAAAAAAAAAAAAAAAAv3aB7AAAAD3RSTlMAInZUiRDNmWbv3US7\n",
       "qzJazP2FAAAACXBIWXMAAA7EAAAOxAGVKw4bAAADKUlEQVRYw+1WTWgTQRh9u8l006RZVyhURDBN\n",
       "VSohEkpV9OK2Rg+CZalKFeoPgtBjEJVaEKIFRRAsQk+CFIooihCsF0+2BU8FqWJBD0qs7aVIW0HF\n",
       "U+s3m91kZ61mEgJe/GCHnTdv3s7MfjPzABioUfiF1FStlJ/66u21EoaaFarsTM2UcU6oaeKHsCXd\n",
       "aaEsZA8xnd4qIjeEWr3YOGuBJcpCPHSS7c6JWsIAdon0CSp6c2UgO75QKrApAaoT5n+Bnu7kqXQh\n",
       "Q7SgAZY5sCbki0wH0BO0PEwEp72EPk5S32gjdq0ZHejB0TUh3yobQYNlmOlhImRnw8AjHk8wSoAR\n",
       "+h7N4jjh0wh+yiDqQCz9wSpCviCgq4k6FJjKYDIPBIa8jLu0ktBIVI/Tl03gCs3KgTTQaFzIFwRo\n",
       "NHmzwIyaKqnqyz5l+qkxKgKknIGSzpNiAVqXU1Y8kJitQGMX72Az9XyQekeEMY/y4oXBLEe5EQlb\n",
       "hkMhy1Z2IZ+yYqo5rmx3RjhbGFtpnSd5Sr3nk+P4Z92EmhtzIdBIXMifzqk5IBFJOUz1LP+D417G\n",
       "YWDf/GWMFZTVZwS1mC6EBasIgf2AU5zmOZAgSG0vMntpTTTTq7xAWRkP9KecufBtcdJyIeVlCQIe\n",
       "wCnCtAZo4DtlxmVCXyFc2E/hvPtmK4d2YLa0k5qw3g+V4lpeb3XfT+SVn8BGoT2UEZRxJL6z2Ka8\n",
       "Wrzog7ynZFtL8ZwIW6FhoF8kTLgyB7/FfH3rV1eX5c5PvTNpQBkXwd6aHc8NvutKidVKuRn/459E\n",
       "xU5GkXUJFTuZiGQ2VeFkWqVY1TiZOkuGVY2TKZ01f4uqnMywjHJVTqZPRlnaybD4zNz+0kVUPqSd\n",
       "jIZkbMDpdF1GWdrJXMVt6x02tH2kTntklKWdTB6XiP4W26lcklSWdTJ36FnEISqfS66GpJOJfMUx\n",
       "anhIz14ZZVknw6aiQ3xltvHp3ZJRlnUygZWeoQjlIZt0UrVsyDoZdj62e5B3WCKD8lhGuTInw+5h\n",
       "cxbKiIxyhU7mPm5av51if4jKnMxc/DWwSe6wrcLJTEjeahU7GVXq5vwFTbYW7LXhcS4AAAAASUVO\n",
       "RK5CYII=\n",
       "\" style=\"display:inline;vertical-align:middle;\" /></a></span>"
      ],
      "text/plain": [
       "|- (x_{1} otimes  x_{2} otimes  ... otimes  x_{3}) =  \\\\ (x_{1} otimes x_{2} otimes x_{3})"
      ]
     },
     "metadata": {},
     "output_type": "display_data"
    }
   ],
   "source": [
    "# find the equivalent explicit tensor prod\n",
    "example_tensor_prod_over_range.inner_expr().operands.substitution(\n",
    "         expr_range_eq_expr_tuple)"
   ]
  },
  {
   "cell_type": "code",
   "execution_count": 109,
   "metadata": {},
   "outputs": [],
   "source": [
    "%end demonstrations"
   ]
  },
  {
   "cell_type": "code",
   "execution_count": null,
   "metadata": {},
   "outputs": [],
   "source": []
  }
 ],
 "metadata": {
  "kernelspec": {
   "display_name": "Python 3",
   "language": "python",
   "name": "python3"
  },
  "language_info": {
   "codemirror_mode": {
    "name": "ipython",
    "version": 3
   },
   "file_extension": ".py",
   "mimetype": "text/x-python",
   "name": "python",
   "nbconvert_exporter": "python",
   "pygments_lexer": "ipython3",
   "version": "3.7.3"
  }
 },
 "nbformat": 4,
 "nbformat_minor": 1
}
