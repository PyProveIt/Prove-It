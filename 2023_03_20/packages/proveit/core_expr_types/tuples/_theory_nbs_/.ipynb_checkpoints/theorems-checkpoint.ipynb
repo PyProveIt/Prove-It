{
 "cells": [
  {
   "cell_type": "markdown",
   "metadata": {},
   "source": [
    "Theorems (or conjectures) for the theory of <a class=\"ProveItLink\" href=\"theory.ipynb\">proveit.core_expr_types.tuples</a>\n",
    "========"
   ]
  },
  {
   "cell_type": "code",
   "execution_count": 1,
   "metadata": {},
   "outputs": [],
   "source": [
    "import proveit\n",
    "# Prepare this notebook for defining the theorems of a theory:\n",
    "%theorems_notebook # Keep this at the top following 'import proveit'.\n",
    "from proveit import ExprTuple, ExprRange, IndexedVar, Function, var_range\n",
    "from proveit import a, b, c, d, f, g, i, j, k, l, m, n, x, fab\n",
    "from proveit.core_expr_types import Len\n",
    "from proveit.core_expr_types import \\\n",
    "   (range_1_to_i, range_1_to_ip1, range_i_to_j, range_i_to_jp1,\n",
    "    a_1_to_i, b_1_to_i, b_1_to_j, c_1_to_k, d_1_to_j, fi, fj, f_jp1, fk,\n",
    "    f_1_to_i, f_i_to_j, gk, g_i_to_j, i_to_j_len, j_to_k_len,\n",
    "    f_1_to_n, i_1_to_n, j_1_to_n, x_0_to_jmi,\n",
    "    concat_len_equiv, concat_len_simple_equiv, iter_ext_equiv,\n",
    "    partition_equiv, merge_equiv,\n",
    "    partition_front_equiv, merge_front_equiv,\n",
    "    partition_back_equiv, merge_back_equiv,\n",
    "    merge_series_conditions, merge_series_equiv)\n",
    "from proveit.core_expr_types.tuples import \\\n",
    "    (f_i_to_j__1_to_n, f_1_to_i__1_to_n, f_ik_to_jk__1_to_n, fk_i_to_j,\n",
    "     general_range_of_ranges, range_len_conditions, range_len_sum, shift_equiv, neg_shift_equiv, shift_equiv_both, neg_shift_equiv_both)\n",
    "from proveit.logic import Forall, Equals, And, InSet, Implies\n",
    "from proveit.numbers import (Natural, NaturalPos, Integer, Add, Neg,\n",
    "                            Mult, zero, one, two, subtract, Interval)"
   ]
  },
  {
   "cell_type": "code",
   "execution_count": 2,
   "metadata": {},
   "outputs": [
    {
     "name": "stdout",
     "output_type": "stream",
     "text": [
      "Defining theorems for theory 'proveit.core_expr_types.tuples'\n",
      "Subsequent end-of-cell assignments will define theorems\n",
      "'%end theorems' will finalize the definitions\n"
     ]
    }
   ],
   "source": [
    "%begin theorems"
   ]
  },
  {
   "cell_type": "code",
   "execution_count": 3,
   "metadata": {},
   "outputs": [
    {
     "data": {
      "text/html": [
       "<strong id=\"singular_range_reduction\"><a class=\"ProveItLink\" href=\"proofs/singular_range_reduction/thm_proof.ipynb\">singular_range_reduction</a> (established theorem):<br></strong> <a class=\"ProveItLink\" href=\"../__pv_it/theorems/0a3350e0f18e0fad9d16cdf67095787190e481600/theorem_expr.ipynb\"><img src=\"data:image/png;base64,iVBORw0KGgoAAAANSUhEUgAAAa8AAAAXBAMAAABOq92eAAAAMFBMVEX///+IiIgiIiIQEBB2dnbu\n",
       "7u5ERETMzMzc3NwyMjK6urpmZmaYmJiqqqpUVFQAAAB6qHgnAAAAAXRSTlMAQObYZgAAAAlwSFlz\n",
       "AAAOxAAADsQBlSsOGwAABH5JREFUWMPdV01oVFcUPpl5b/7eTGbcBcaGkJoKLZY0tAiFgIZ2VVJe\n",
       "oK26qD+LiAspoVm3jpa6kjobQURLQmm7bBRL60+LboRW0MHWRUR0JIsu6iIuQtWV99x7z/1/Y8ad\n",
       "PfDdd887Z+473/055w7Ai0hLwtStF7Zl3a9dKam29LxRWmZcLXgxGegImDrAYoZnSBbX96FXeFtp\n",
       "CPQaXIdA6OKLu/0R+1sC4Pz7pDdh4IrpY1psKY6B4+tL8l7K2to2dJ+FjeyxMRyGHwLhIr4+2Rev\n",
       "uC0AEP0zKXXYBHDC8LEtpuy+sAa2b0A+nMcV2MXXog1lxhLhhxEKQeJL3MB7+yKWXBEAyN+ZBeoD\n",
       "XDd8bAvfUNQfWHN8AzL5A/K4LLXqkoAfRigECZyJqNMXsbwEwE8pqD57GpNqW1BqDZNYPu31hcoa\n",
       "f4yT/o6EF0YoBIkq41ru74gtSwBMKR2lbKyPbfGJlXsesmiE/6JN+mkJL4xQCISJ0dG3+yN2XgJu\n",
       "TPwr9bjJRoq6ysWx+MQMX1+qK2/ixkswd8wM45GT8MIIhUD4BWBWOe8UeUvsYXFEdU2Y8+bvEelR\n",
       "hW2balt/1bb4xExfX+oNtQOW8qz9AwQgGeXShR4hEL6BEvrFl3CY7dwtxykUxK7QBWSzfG6RgNJ/\n",
       "pH+RsJFq47qy2hafmOEbkOM8gByWy1adtX+BgCVZIRAKabSANP6cc35YyPrsuxJQWyU9zbOwi6v6\n",
       "QNkWnOlXJ+RMc2KGb0Dui0zA4orhPssFh0DACyMUAqHW4Lmj7qWp5xMTZ5z38fOVcef0K4u/YpWe\n",
       "KzaliAGcY/hOwicWCIEA7av42ZVpvIrwKZ35TROrDKt62Oy4W7HQVfq3MRtjRE+KbQlsxZFexD4D\n",
       "2oqivt+SsM5YVggEmOa3gGsYe4PXj6VlTWymnib7mRyERGXffRKQb5AeP43YicU6L2g4lkDy0L7W\n",
       "bUI83hIB4C9KT2Vw11zfrBAI8BUnfQkH+RSJxukHmtjXt2icjyOq/Sr5Hl8gvbh6TKbnPe2AxSIW\n",
       "PQbDN37idiQZWRKqq2aBsa5dGSEQYJBnjYNqjiiRFvS82PX3cwl5xnn/ITPm8CO5sYDFJDa48uSh\n",
       "6fsGdpaoM2ZkhCJO8yDO/esSlmSFQJCyFZs9O3j/sSYWr83JrQh1qmhYDXhF+B2M6gBwhLe3wbdY\n",
       "K+b6WsLfJF1dX3CvlUYEbMkK4YgaXhCAeBssJ/ARm6lxTazWVpfPebDvpLXuGa2DurOyTeBZrEuw\n",
       "7esIvrlX7tCVdrBzMzVv3db9JCOEy8b1mZMpTsLuIWD/Fwa6xoo9UDcPlR/hAEdutm3o9B8hZjPs\n",
       "WgJ/jZWvkzzwzWu7KLe2DnUw3x2VcCQcAsFYhRrvdegwuXVM30I/4ag2W4aOYfCch4M5Fl+0r/On\n",
       "GJurvxLNvUlzQU2kJ+EQCPJD99gm/Z7vmPTUfKhAl380LkwNAVMHGAqtTCNMbGh91+3Dgm1LoNfg\n",
       "OoQha/hoA2v4QlXh7M8hYkkzhf+JlF7q6J8BTA5Z+v+ljswAAAAASUVORK5CYII=\n",
       "\" style=\"display:inline;vertical-align:middle;\" /></a><br>"
      ],
      "text/plain": [
       "singular_range_reduction: forall_{f, i, j | i = j} ((f(i), f(i + 1), ..., f(j)) = (f(i)))"
      ]
     },
     "execution_count": 3,
     "metadata": {},
     "output_type": "execute_result"
    }
   ],
   "source": [
    "singular_range_reduction = Forall((f, i, j), Equals(ExprTuple(f_i_to_j), \n",
    "                                           ExprTuple(Function(f, i))),\n",
    "                                  conditions=[Equals(i, j)])"
   ]
  },
  {
   "cell_type": "code",
   "execution_count": 4,
   "metadata": {},
   "outputs": [
    {
     "data": {
      "text/html": [
       "<strong id=\"tuple_len_0_typical_eq\"><a class=\"ProveItLink\" href=\"proofs/tuple_len_0_typical_eq/thm_proof.ipynb\">tuple_len_0_typical_eq</a> (conjecture without proof):<br></strong> <a class=\"ProveItLink\" href=\"../__pv_it/theorems/fa0e0ec779e50107545d8fe364c2c5896a107f3f0/theorem_expr.ipynb\"><img src=\"data:image/png;base64,iVBORw0KGgoAAAANSUhEUgAAAK0AAAAVBAMAAADGGHNoAAAAMFBMVEX///9UVFREREQiIiIQEBCY\n",
       "mJhmZmYyMjLu7u6qqqrMzMyIiIi6urp2dnbc3NwAAABm9RoHAAAAAXRSTlMAQObYZgAAAAlwSFlz\n",
       "AAAOxAAADsQBlSsOGwAAAh5JREFUOMuV1b9LHEEUB/Cv7v2YvfWWg2irZ9pAEISQBIlXpAhB8FDR\n",
       "MsHgWR0cAcFykyZFiixESBpRyB/gWiSghVxhZ+FqrXBoaWPlBdSYeTu7c7u3vpB7xdybd7ef2Z2d\n",
       "mUMLMlp20KIrVMFGD6EvOZEfljvgQaWJUIWdXtyDoC02g2vXgZ+sa/pA4WlYsWvvN1nz9FcLVrXj\n",
       "igaQdzj3E/Bh+XdYOUPxhmPzrngBrHbcnBwj+5Zzl2iiIncYeMm5s8AxMN9xM5S+4txK3J12MNJi\n",
       "3FFgw0HG0e43qq4wrtmIuw+AEW6Cr4AtF/mqdutUPWLcnB93ZUwyrCC3imJJuytUXgjd3HgQpcgN\n",
       "xo+5hWvGtW+l6yHb0O4zKq8x92u4Sdco/cv1YVa0O0XlLcbNNJPuIrcchHQPPRQuk+7+/7nZErst\n",
       "5PxuuBioJOfhKzO/XfOwDptbZw+BNw7MMe0+ouoMc7/9XuiK4K35sByRNmnRzgHL8oHK2j2ib+qM\n",
       "q9bNH+ALvejzWu1dkIk2wkb3DFe8Dtelcn+QMcG4BflcfYPtIRh09kze3bVV9gRhY8gTAOPyhkV9\n",
       "W24Zo6ldQ3btMW4fP49635HOojCdKDvvnA905tDZc787H/V8pLMoijpbip2/j+kA5Nz+8P0LT69U\n",
       "L+V+1rujHHM/BjTjirLqWLpspdeDHkndhXR3aRDPou5u969V4aKX/6E9NfLmXztat0PHQsIzAAAA\n",
       "AElFTkSuQmCC\n",
       "\" style=\"display:inline;vertical-align:middle;\" /></a><br>"
      ],
      "text/plain": [
       "tuple_len_0_typical_eq: |()| = |(1, 2, ..., 0)|"
      ]
     },
     "execution_count": 4,
     "metadata": {},
     "output_type": "execute_result"
    }
   ],
   "source": [
    "tuple_len_0_typical_eq = Equals(Len([]), Len([ExprRange(a, a, one, zero)]))"
   ]
  },
  {
   "cell_type": "code",
   "execution_count": 5,
   "metadata": {},
   "outputs": [
    {
     "data": {
      "text/html": [
       "<strong id=\"tuple_len\"><a class=\"ProveItLink\" href=\"proofs/tuple_len/thm_proof.ipynb\">tuple_len</a> (conjecture without proof):<br></strong> <a class=\"ProveItLink\" href=\"../__pv_it/theorems/8495bff2716ab47ef5165f91a0fbef447fa3973c0/theorem_expr.ipynb\"><img src=\"data:image/png;base64,iVBORw0KGgoAAAANSUhEUgAAAWoAAAAWBAMAAAAbYcveAAAAMFBMVEX///+IiIgiIiIQEBB2dnbu\n",
       "7u5ERETMzMzc3NwyMjK6urpmZmaYmJiqqqpUVFQAAAB6qHgnAAAAAXRSTlMAQObYZgAAAAlwSFlz\n",
       "AAAOxAAADsQBlSsOGwAAA/lJREFUSMfFV01oE0EUfmmyyTab1KX4U1AkFIs/RVFREfGQiqgElVWL\n",
       "eqnRg7UUxFQPetGuqEUQSi6KB8GIHhUWUYpSsEUUKoKxFmpFJQURvEg9FH9A6ryZnckknam6HvwO\n",
       "yzfvm9337ezbN7sAWtQvhkBwweQkKEzpOF2Z0VgmWMZQESIFnwRF3MYju4xCyUAJ+Vu1a702A0Z4\n",
       "uhEIjgVq1yGPKhl4iKOratd6TQ8j76dDEhi1jtJ1TZoqGTiDxXJQ7Vqv6WEN+OmQBEbC01QIVTLU\n",
       "e6Sodq3X9AjzdGH4F6zVuUYlAwmyJLWat1Gv6THG0439k+trWtfXaJ9Y3di4RtdDtJoe93g6JOaH\n",
       "BlvSelvO/qbjifk7Va539TOFOOsDOEzeHVflmmnBFgnJTTc6KXWt9XDMmfFkNn8/YUPC9d1GxAqk\n",
       "6ZtMIc56wSQdLsLu0WzOwOOScM20v8Jyno4QYyNYKTCGfGnPANwFY/NnrXM2H1oIfaVY61jxAVOI\n",
       "s6jD1a6PnfA+4liOcF3W/hgbeDpCrAnsVV31vvQIYBFY1Jim/9D5FN0K1wasYgpxlrT9F87qwz3F\n",
       "9iLlChFaMNfhg5AldNiX1oHxA2YVzK/a/sPm01pR1XVykim4a+cHSckt9Pej0TdnJddUg9bBbfw8\n",
       "iZZREZQrJGvDCxCujS+QmICEo3fN5t8o+edMq+vakkMVdLbjMnk7ZzkG3U5GI223JNeoGUti3/gz\n",
       "KlPpwVUED/F0hGSL8CnpUgcknfET6vKviZqiwypghM6/YOOKPlWtdbaQpgo6O0fu7cIwxOleNgre\n",
       "XMk1apYXWwkm7SWU3plfeTUaBL6FipZFSNRONlt0dYzv9D6GPbKzHXfYMJuHKkLnm20puYHK6DYH\n",
       "qILO6nL0iokr7e1HievWWsk1auFCqASnm2jhIV1pTFRWIwYFjvN0hBjjW3vnsafdSNbywOxT4zl2\n",
       "/ziswV27GXyCETY/iu1smcp13XOm8K9RYzIXS7O1jr+s+lLNutEnDjQJ6uLSys8NgyN8N6nJ+emQ\n",
       "MKDrpKiJS3BRHoo3TUSy+0gHTun2RlS4s2TeY/vJM4CFVa7Dbvdt6rrVp9ECoUaaH2jwnSd93dB0\n",
       "CU92HRFZj5y8Lw0FypExy//0UrpGRaz1uAs9ZHFiS12oq3Id73+5HdD1iSKjfUhj6+GEiwcWjIqV\n",
       "7eDpOvzA+etk29gl6mlqakIalndrwQ40APTo/gqoIv+vGFvaO/X/Mlgh7PMv4ticggjuTvLxXp5u\n",
       "r3y6XZnbnuamMtKhdd3xm7+sTfLvWdeaIsRZ6V2fSnGKT4Kx6BxRAjaEcj4JihD9Kgrl1Er9hr/6\n",
       "VFfRBPwH/AKqRBz0ktWL6AAAAABJRU5ErkJggg==\n",
       "\" style=\"display:inline;vertical-align:middle;\" /></a><br>"
      ],
      "text/plain": [
       "tuple_len: forall_{i in Natural} [forall_{a_{1}, a_{2}, ..., a_{i}} (|(a_{1}, a_{2}, ..., a_{i})| = i)]"
      ]
     },
     "execution_count": 5,
     "metadata": {},
     "output_type": "execute_result"
    }
   ],
   "source": [
    "tuple_len = Forall(i, Forall(a_1_to_i, \n",
    "                             Equals(Len([a_1_to_i]), i)),\n",
    "                   domain=Natural)"
   ]
  },
  {
   "cell_type": "code",
   "execution_count": 6,
   "metadata": {},
   "outputs": [
    {
     "data": {
      "text/html": [
       "<strong id=\"range_len\"><a class=\"ProveItLink\" href=\"proofs/range_len/thm_proof.ipynb\">range_len</a> (conjecture without proof):<br></strong> <a class=\"ProveItLink\" href=\"../__pv_it/theorems/e1b7d8dc6f198c279edfddc349a76a3e8f756dc70/theorem_expr.ipynb\"><img src=\"data:image/png;base64,iVBORw0KGgoAAAANSUhEUgAAAiEAAAAXBAMAAAAvhYItAAAAMFBMVEX///+IiIgiIiIQEBB2dnbu\n",
       "7u5ERETMzMzc3NwyMjK6urpmZmaYmJiqqqpUVFQAAAB6qHgnAAAAAXRSTlMAQObYZgAAAAlwSFlz\n",
       "AAAOxAAADsQBlSsOGwAABfhJREFUWMPlWE9oXEUY/3bz3u4muy/ZeIpsjctqCVQqsVoF8c8q5Ji4\n",
       "gRoIgsZD1hx6WFvJreYZtSCI3YvQQ2y3FKsHxSgRtSmSXgpJwK6pHlqlbinooVHiIWgLBef75s+b\n",
       "mffyuof1ohPey8x83zffb3/zzcw3D6DTJcP+qPhap293mJKIQdorvtLO7GTX7lA0lg//QrkHnAb+\n",
       "TzSDPl4/FaGta2mlJ9+WL2GN2tyCu7bwtFlOiaeFjZ87R4hXFrB+oObSiKwXILGiK+oSsxyqAOy6\n",
       "g5vAGmYrpL0rmhGGByA9bfXaLtO7geDhcxY7jneOkUkBy60Twt+elPX7Ad7X9EyJVtwbJxkj3ZVY\n",
       "L5o13M21ySLMyCTFUt3qNV3Ci99sA4fHntdxqU11jpFzAlaWAqLryrSqA6xreqYEyyeyci/7bbnF\n",
       "WC+WNWqTRZiRc3HD9MgBEtsC3jqn1ml2jpFhAauLWp/RVHfJ36FNvCnB8r3OCOyP9WJb7xdPmJHh\n",
       "2CWe1xlBeOzJMZq6O7iN1AWsy9R8lt6XhbBbiwhTEmZkIdaNbb0gnhAjXr19RhAePvtKpUc6x0i2\n",
       "LGAtYeu7fTeA190Cc+W0lJ4lCTMyFuclsAa3vyW0x6IYQTwwPmh2KpcmIwgPn68Agp3Y5QdyjQYT\n",
       "Vr5oa3Jeok5I5Jhg8Tn+U86g08PCN6dNmCkJM7IaS7yyZiifENqripEvSlgeVGG52LVi7svSpckI\n",
       "wsPnPcggy+4yWjlcZQhfKa68JtsQyJn6qqIM5pcauadEPdkUsPZSdvQXdbL6kSxz5QWL2pKEGbkU\n",
       "mwUqaxiA20L7UlSMIJ6E32dulMqlyQjCwydVoWFSazVrMM6I2wrhwU391bvYTs0iMj1YbXitEfhS\n",
       "bp4NAetx8rhFnaxe6WLO01vBCjYlOK0Pi2nljMzFrn9lDRVvW2jPRTGCeFz4BUecpMjByeUus6XS\n",
       "fWzLaClGEB4+Xp421r5QAsAZyYazQDqrN/jhvcx49M5noRzJiFNUyBFUTxAjliQcI6dj05HAGrJF\n",
       "oX16J0YY31avdGnGCMIjiPXzKLs+in2DfONpBowkVVvJFSOjPA31jnycL0eumlRLRfcJlykWA7pN\n",
       "SZiRjThGNGtIloX2RtQ+kmxGJGTKpbVqigLiKKWSF/A1TpGS5UcWZ+Qd1VZyxchPMEHj1kauSEZS\n",
       "eQHrZZoh7pHV3VsO27bQkk+PJQkzQnjCiatrWQMcawjtC1Exgnggc8saRLq0dtYpAfFNInwZX2/T\n",
       "zDzvLAaMnFFtJVeMnOF5plfLJmTWSydYQ56exzjAMVyf7/Kj0L0JERKDked8ebKi7kt18QpamjXA\n",
       "RXkOL0UxQgd+bsu6xUiXihHnb3FS02ndS1vqwYB1kUlxRq7y9myVFZ/Js9Xqo9WDnJFZWGW9Ta/m\n",
       "lmUUpYsC1iFar+Lqxp5NNmYSBaVKhERn5I+nT7CePSB0kzgd9HoAK7sta/gVX3vEE2IE8UCvfUvZ\n",
       "tPKR3us3Nzm8ZDDAYxRO28ROnx8wMqvaSq6tmtd4jMCnKjcZErCSqPmt2FzEMTZP2sSIJTFihM7X\n",
       "YqBrlB9t64eENlmEs/ihYJHF5KwK3nywtNhCOsBy3kWXhc1hMHZW0aaceFFnpJ8d3RiUDUioM3pd\n",
       "wGIXL6/1QXARU7cuXMIhiXHTA3WJc8I/omxa/57bFtpkEWZkHXqbFyt3uukpeMHFMM1OncNN95qf\n",
       "ZtfsQY2RlC/byNs1XzDy1slnAGYg8woG73HxmUXoc1gzkJyWa2mGzztROY40W5JwOQpS19oU84Z1\n",
       "+jYdJkelRZiRlD/X3Nvex78p4ysATRadVJ7MwDkjmIYtROQjiI5VDlSrJgjWyWFNQK4gV9uEIpfn\n",
       "/rYkXGZ2uCckLOvPz0rtmWhG3KlsodEWIwgvpW4pqatsSfZQcH3Y/dGwxgh8LdtGzkqRHflV8g1I\n",
       "0OaQ0X4Orw9ETUz0Ek+098FTWKM2t0jUIvC0WQYMiE4/ck/VlWyhojPivFDYYRmuwf+syI/YO37f\n",
       "q/wnf/Y/Rk6mo25T498AAAAASUVORK5CYII=\n",
       "\" style=\"display:inline;vertical-align:middle;\" /></a><br>"
      ],
      "text/plain": [
       "range_len: forall_{f, i, j | (j - i + 1) in Natural} (|(f(i), f(i + 1), ..., f(j))| = (j - i + 1))"
      ]
     },
     "execution_count": 6,
     "metadata": {},
     "output_type": "execute_result"
    }
   ],
   "source": [
    "range_len = Forall((f, i, j), \n",
    "                   Equals(Len([f_i_to_j]), i_to_j_len),\n",
    "                   conditions=InSet(i_to_j_len, Natural))"
   ]
  },
  {
   "cell_type": "code",
   "execution_count": 7,
   "metadata": {},
   "outputs": [
    {
     "data": {
      "text/html": [
       "<strong id=\"range_len_typical_eq\"><a class=\"ProveItLink\" href=\"proofs/range_len_typical_eq/thm_proof.ipynb\">range_len_typical_eq</a> (conjecture without proof):<br></strong> <a class=\"ProveItLink\" href=\"../__pv_it/theorems/0a9c4121a0c4399036a83cd7eb5a5459da43020a0/theorem_expr.ipynb\"><img src=\"data:image/png;base64,iVBORw0KGgoAAAANSUhEUgAAAmwAAAAYBAMAAAC1l7zoAAAAMFBMVEX///+IiIgiIiIQEBB2dnbu\n",
       "7u5ERETMzMzc3NwyMjK6urpmZmaYmJiqqqpUVFQAAAB6qHgnAAAAAXRSTlMAQObYZgAAAAlwSFlz\n",
       "AAAOxAAADsQBlSsOGwAABtZJREFUWMPtWF1sVEUUPtv9791blidqCtisoIkEslQbEyO6EPvgNdRL\n",
       "glUSpWtM1z4Y01DjG3bBhCcj+2JCTMUl4M8DxkJA+almeSFBjawgiSUGmpDoA2gwsRFISJw5c2bu\n",
       "zP0rD/uGh8zl6z0zZ7777fycGYBOW53945bT3uX8L0zPPb+OqFanEtKubvwXwIu/DuksB523RBsc\n",
       "BCu0l4i7iyHVV4RHCa0b2foAFYBU01fDkaR0gqF2YLHOiJODYJ7D3zon2y9E1a7wp/WsSzgxA8v1\n",
       "eobHtB3Ms3yRbo4NqT7ecRMtFqUVIxsjBX0eQYWlZVfLAJGWHSNODpI7xeG+jqmWbhDVbfjn8GSb\n",
       "cFcF8q5W0fAYEa5/wuoZdYOW+mOD6uMBgA9BlAjZOClY5RGUWNr2kwsyQPQsahAnB8m9y2dttWOy\n",
       "WS2iOot/bvjMVRgK+rAyPGiHJXjQ9dUNWvLymN76ByoRslktk6CadhInFmSAOBOcHARcwlS7Y7Il\n",
       "JdUy8loAhZkNaoxND7efddn0uiH2lWu0TrqiRMiW9BGUZhd12ZLuYh83KCMOQoEpnu/c0jZHge0G\n",
       "/vj9oDCzaW2WmZ6gbNOx3WwyW+dbokTINucjGC5bvrXYx03LiAwMlEqPd062YxTY4gtW4dq6GcJb\n",
       "+IQa9sa7zxOUbTiul58Grss+0kvZppaiEiEbI5XuaymCCpuyYYAo27JScnIE+AZgrHOyTVNg8dMt\n",
       "KcqxUDnIwDmvns8TlO1cbDd/y9ZgwVPsV2iIImSzSmjzSjZGKtVdVgQVNmUrNGI6nEm2iJMjyH0A\n",
       "OU/ml8VmK2qKV7+yMmH6qa+w8GspcBcul3uxIcPZ9kkGLnr1fJ6gbBdjM89/QfbRC3fZ95dFiRht\n",
       "jNROq6EIKmzKZpdj9tH6kjZxcgS5jIt9pU/z324jVurCbxLba4E7H5HNN0rwSkPpCruPNQtPE36S\n",
       "AieR/1WxCjchDesZmPJ4+DxwtFR6rFRa58k2FSebfRNkH67NPjl7U5QI2RgpN1lUBAVmY/KhARqT\n",
       "KBsGiMqr4KpLnBxBzi7ijpD5fsJXVci2PZhj8C6WsiX9EAcra017fgiOh8q2SYoD/OPgoG9N9zzB\n",
       "0XYwNm3rV7KBxTCfdd3lONnws/3YHG3d5bguj0pODoHGGVxsAtuvkO1UIEAGe+wXKelpJrZ9xoJK\n",
       "6CR9C+Rkys+zyhe8ID5PULYLcd+QmVeTFLNlzoaXiLWNk9qf9ghK7Juk/XFdrpKcHAKbeXpsX9vM\n",
       "z2XY1ZZvNdn6+c4j8zr0K9lYuocnEnvnF0Up22sUOIOM1ouPZHi0yWqc5X8JkXyeoGxncWoETLQW\n",
       "M070sZcpVaiKEjHaGKn0nZQIRzhsS6iq+Ob8xNX0DnHCiBy8h1ohzSJOmJk5T7YcW8MsmSAJv5LN\n",
       "noERxBNDl6VswxQYd3PsS+CpXEtkJ+nbEOIxZHuhTpnMaIMe2EgBIZXMGM5TKoLpSLhsw3zhel+E\n",
       "I2zKlrpFQTC+2Ru2gsJN4oQROejBRe00/5hX+ThNu897snWz54spWvyFX8nGfIeFbFZCHs92UOBs\n",
       "v1q5Eff8yMCj/K+SG+LRZfvrmf0tUbdrNX/wztdIgK1pQ8E+4HfuaooSIRsndaMlwhE2ZOu5dvsG\n",
       "BcD4a4xuV2OVquTvSID2pjfsKUNHJex5TJCyNWbj3P917fVarYWyZatwjr1u2xPpisx5+CaMVPnm\n",
       "a1FmQxtxTpwM3KDHHG1e3UvBPRRl+05rzaf7bioRsnXRbndJw8ZoEwmBF9+wS3JZEJwcCdCe4I/R\n",
       "lxDf8mTL8ucSeYWHfn2Svi1GG3xZ1I67Dp2ur+Tb3klbnaL5uuL3mEd5r24luIfiT/mxav1nYYHO\n",
       "9LPRssl7gYrvPqHbOE7Nyvg+Y6162uddycnRrwPSC5CuwJwFW5lUZXNLgEl1oLN02RJFlvSJ1C6h\n",
       "MuZxopqpw8Pb5MYnZN8jjims+D1B2yPW0uAhhw+YsYZsnb3Lt1N+gyNucSLu28bBCzcelUJXZXzf\n",
       "lsBaTbXXKv6OBDiqypDdANt7YbItNaiqHleqi6leki333D9F/s25N/hysY9uO7mNyDuuKpw5IXuu\n",
       "auQ5d78naOMR5xDeutBXV62PnCLxxQ8QIduIdqwZiUpq6jK+74DAx35fU/F3dOX52LURteVVgPii\n",
       "Q4HbiIymEGyt1UymuSIsQ7BLe7lLHFBCyO6KOszc0wmYWvdSYe38OfsySUonGGq9i1731ymiRy5z\n",
       "hfX3Kc5396NJPd216vnPy4FTAtoJuN8ttZQ9cJAV4MhxXTYYsvrC7+8KTfjfglbXs+TQ4+39a/8B\n",
       "nAfRrAwCkisAAAAASUVORK5CYII=\n",
       "\" style=\"display:inline;vertical-align:middle;\" /></a><br>"
      ],
      "text/plain": [
       "range_len_typical_eq: forall_{f, i, j | (j - i + 1) in Natural} (|(f(i), f(i + 1), ..., f(j))| = |(i, (i + 1), ..., j)|)"
      ]
     },
     "execution_count": 7,
     "metadata": {},
     "output_type": "execute_result"
    }
   ],
   "source": [
    "range_len_typical_eq = Forall((f, i, j), \n",
    "                                 Equals(Len([f_i_to_j]), Len(range_i_to_j)),\n",
    "                                 conditions=InSet(i_to_j_len, Natural))"
   ]
  },
  {
   "cell_type": "code",
   "execution_count": 8,
   "metadata": {},
   "outputs": [
    {
     "data": {
      "text/html": [
       "<strong id=\"range_len_is_nat\"><a class=\"ProveItLink\" href=\"proofs/range_len_is_nat/thm_proof.ipynb\">range_len_is_nat</a> (conjecture without proof):<br></strong> <a class=\"ProveItLink\" href=\"../__pv_it/theorems/68cce5bc4895080f3b1e4c4b8b976ce2d1d7117c0/theorem_expr.ipynb\"><img src=\"data:image/png;base64,iVBORw0KGgoAAAANSUhEUgAAAc8AAAAXBAMAAACfTNnuAAAAMFBMVEX///+IiIgiIiIQEBB2dnbu\n",
       "7u5ERETMzMzc3NwyMjK6urpmZmaYmJiqqqpUVFQAAAB6qHgnAAAAAXRSTlMAQObYZgAAAAlwSFlz\n",
       "AAAOxAAADsQBlSsOGwAABglJREFUWMPdWG1oHGUQnrvc3kf2Nr2K2kraeBxWodJyqVahWD2r/RNt\n",
       "3EiNFrG5CjmjVDkTCYjUXqsWBLH5IxRJ25NorFAxlRRrU6X5U0gVPdMqpEp7WtRAraSU+FEoODPv\n",
       "x+7ebc78uD/6Hvvy3s7sPPvMzM47uwD1HgX8yYUe0coTFZL5nvYBU9rRWtcVoP4jUII2tdBjKc/v\n",
       "+Kgv9bfSmJgvmNIWV4SKHvnDfzxtw32Xi4RcphM/1I/oaZBET/M8uh4nK4NTMwSOu/TM+20pCYxU\n",
       "mOhFyZJ/gWG7AqPfZu0lPkTh2cYyGDOMfJT+76kbT2NAEqUFAv+6FudNtLwJ4C2XYntfSUqCGa+F\n",
       "C/uRaMyuCSPsCowbhDZfUUn0p8KDAGlGfpkyO1s3ouZxSdTk8DWc6cb5mBR+4VJcO2y7JDQOqsWN\n",
       "KImP1IQRdk2VIqTNV1QSvZiNFSDJyOSIUKluRBtAEm3gvx9xYNJK6ISpcRbcEhrfuInC6powwm6D\n",
       "/r9aHoro9akUR3t6PDpARBE5jl6J1e8RnVJEp/jvOpqsASmMOQ9pKOmRVBMdrAmzDhwMkNqDDtEP\n",
       "rpPnp5vy1xJRQl6VSt1eP6Kjiigt4KtVFyjD8CE0mhEqVFZq8fMrR6Sk45gv0fZaKMIuYxgLy1K7\n",
       "XRON6mIwDdlwMSmQPwHo1hYe4zkiHjdxysJNKK8rhXtH8tsCBhVREZFLKpChRszSuBPABQklyQz5\n",
       "Ep2o6c9LGsyEu6T2hCYaKzhEXzKWJQXymxAlnxhjlFf3sjjIxMJC9yQet+iMU+SMCe0J2DlajN8t\n",
       "1ysU0RXs2j/ZHJaAbSZCWc4juTsvJZHSp75ET9XiKewyxmK4KrVPOUTBIRovfZcWyGGbpeGT+Qpr\n",
       "gqhRroKhpHv+GiwomHiRllzRKq+Hw1K2RhFdw9kwwzUD7dsN6KLIjLZxDqTEgFZafZxK3ZZKrXSI\n",
       "bq9FVNhlDNualdrbNdG+FI6sIAo/N6UFspVgByyo2rgEUbNYBcMmJoF3pzF0jzVuQsaXqCg5RBTO\n",
       "of3GdEU1IYk16xvRoZrbaFKDgZmU2kOaaKcrorDZSErkgXHy0fkN1KRx+Do+cxENUiFR209ji4fo\n",
       "BtHsWNsOJDK+qRsuq9SFfQYqJvUdPAdKEivbfkQnaxEVdgUG9xuT8hBEg26ikURWIm/gGnWC0jTB\n",
       "3h2ZchF9HX2md4EOjrsm+r3wnZVff0YR3aKIbuGI8SMdxtm4EsKSQFcKWq2gJF3FjB9Ruh+obo8M\n",
       "cOwKjN1FqX1CEw3oMvkUHouyEvkVds8YPeNPEHHDfsBFdBjgkZBqU16b9ER0WHQzVt4MqN6qXRFt\n",
       "1zfBtT0y84bcZ/7manIFlGR79HgF0YcKausg3a4B10JM0q7A+FptNKPOPrpXmaIFlUFChiauQluV\n",
       "h/XWIIieFbtAfw5HAX1o5nJ35LYKov0wgWdLVt7IqJj3KqK9TsmJkPt+QzpBuo2U7VQTkjR9WfGM\n",
       "/n7PPtRdDlI3SF6+FeQiuMyxKzB+oWm5PCTRzc+IXHjxclZ0xEGn0txJU9ejvP7LRbSfCpXal4zZ\n",
       "vDd1XxARhQ9VstDO1Ka3qM/FSbU77WRtugez7JV4IsohT2pd7/gWHLuM0Sq1+QrVAr77ZMrddAlk\n",
       "SQGMDEyZsBH9nPYWI+jTZX1gxE10Ie5N1OYUIVB2tddtcmGV93qbee6BQpQmsVJ1m3+w8uVA6FYM\n",
       "zEFtFzEuxmelNl8RKvpXL+flAclF1sLmxYBvT/KuBdEwRrNFu+PHgiT66n7sLXogSk977x75Wkuj\n",
       "R72P9kCwW3o1LD8EsIc68Lh5E3gk1WMXKN2KYoSpo+1CT+Qql/Rd6oo5iLpezygSFq9KqvcWRKkr\n",
       "GPTZRwkUFxtzOa/tTkW0E+LNBUdRs6IkHz8CHkn16JmjyQzQvSq7iHHoqNLuqUHU8Wf4LKb7e0zM\n",
       "frvP3TDAkdj76erOiNPL9yNQAhaphR47eF7so75jjm8k8/vKIzFIW1wRyPvqOcihhThxIONw6LCH\n",
       "aOjx5jne9k/C/2OoL2pzftSw/0ts/gHAl4R176S5IAAAAABJRU5ErkJggg==\n",
       "\" style=\"display:inline;vertical-align:middle;\" /></a><br>"
      ],
      "text/plain": [
       "range_len_is_nat: forall_{f, i, j | (j - i + 1) in Natural} (|(f(i), f(i + 1), ..., f(j))| in Natural)"
      ]
     },
     "execution_count": 8,
     "metadata": {},
     "output_type": "execute_result"
    }
   ],
   "source": [
    "range_len_is_nat = Forall((f, i, j), \n",
    "                           InSet(Len([f_i_to_j]), Natural),\n",
    "                           conditions=InSet(i_to_j_len, Natural))"
   ]
  },
  {
   "cell_type": "code",
   "execution_count": 9,
   "metadata": {},
   "outputs": [
    {
     "data": {
      "text/html": [
       "<strong id=\"range_from1_len\"><a class=\"ProveItLink\" href=\"proofs/range_from1_len/thm_proof.ipynb\">range_from1_len</a> (conjecture without proof):<br></strong> <a class=\"ProveItLink\" href=\"../__pv_it/theorems/ff9f02a5f2a181ee06ebc73e850d614a5f50d93d0/theorem_expr.ipynb\"><img src=\"data:image/png;base64,iVBORw0KGgoAAAANSUhEUgAAAW0AAAAWBAMAAAD5vdCnAAAAMFBMVEX///+IiIgiIiIQEBB2dnbu\n",
       "7u5ERETMzMzc3NwyMjK6urpmZmaYmJiqqqpUVFQAAAB6qHgnAAAAAXRSTlMAQObYZgAAAAlwSFlz\n",
       "AAAOxAAADsQBlSsOGwAABLJJREFUSMe9l02IHEUUgN/MdM//TOaiBtaEYWIMMRjGEC9CZA3qIZDY\n",
       "AREW0SSHXSUYGY3XJJ0Vg6Akc4l4UJlF0aNzEGLMIhsEQSNhEg1LQtiMBNyDOayHIT+X9f1UVddM\n",
       "17R7snan+vV7b958Vf1eVTXA2JZqtOLKPP4pwVZyC11Rwph3Ugt1F46NGI4hM83rOJQbtHrDkJLb\n",
       "nGvwPb4Ua2vCFu85E2uPw2dO0Pok33RzV+lSWbB0lUnFjQK20vOBknOb8VdtT/juBer/APjo/BsA\n",
       "j/4HsfGGCY4jseLcYkWGH+juUzd3iRAL9sOa0o9him/3He2J/Pr5AQpn7W8v78Leb0P+ILzUgUKQ\n",
       "iG28AR6TOGfd3GJFhuOUfQfd3Dl6GKds3bzmnufbXV8HSk4R9yXLM3Njmh7IAlRDyDSh3E3kNt7c\n",
       "LulYrjwhiycT4fXG5DcNeq+ta2ruJmftQCuFO2NN6rcsZ/B/ANV7AE8nchtvGUWgYjm50YIMZRxj\n",
       "YVxd/oaXtp3ebcVdYa1X10rhLlgJvpv76wDVOlTvAnyWyG28uVEcjuXkRgsx7Gg0do7jzjQamyYt\n",
       "VWlScZMA5dvbu1pmbq9vPC/v+JvLjW/SK1gKSdiRtz+xIHE41ii3thLDOQDMLT90cZdakA2Ghyrc\n",
       "MrPralop3GXr2fzDvczyCfT7JXG+jbdXbEocjsXcpQY3Goe2EsNpyNPwZIHNb9sDP/UNN1pOk/iq\n",
       "lCGke4o7zRVxpqWVwl1pRlvRXb48yf12/PyehB15Hyu1JQ7HGp1vbSWGbKA3mHf+OgxLXlAKon1n\n",
       "Wr761jeqJDqKO8NfuWWUwp1biSpBxGd4wmi5OpHEHXkHmZrE4Vij3NpKDJWaKsvSOdqBal3P2i+v\n",
       "SFkOwMm9e4S7GM23lKxwX6buy8TlO/K+FUicomu+tZUZ2hdR3qi2tMUbJ23uQpnyZ2lnz5knb8NI\n",
       "ntTND2T7Jk9wO/0Q4GoSt+X9hS9xONZofmsrM+zFVXr/usDnzWfRe+0ri9u7TklT1vtStqa4s1wO\n",
       "Txmlqkvy8+UhSL0cws97AA8B/MzPOUY86u0/8CQOx4qtJ8rKDO/jSD64CkVeIhah+7DFnX+WR6w3\n",
       "O16gOnrFyz8wSvDu6RXxAGfWGamZfVTqFy7UZUX07yu7EWLeuZWPJQ7HGuXWVmaotnio5U9mZo4g\n",
       "98sF+zy4zDOq95NcXalJ0NVEcvX2/TuYMZxCm6OShXfxfnV1FeGeoNsGTniaJmEbKGHUG+4sSByO\n",
       "FctvZTVHVX/Qyk3KfBevxM6xGXPc3aLVW2h6+0YpbZb7a9T9qApCfzMvW2s8UVzeszqWc7+ctdAq\n",
       "7S7tPgC/AmyMcR8Ihs80IiwVetExCKLDFo6/0v9cNOY4JUcmL07h8p7XsZzc8xaa/2cIp3C0ua0h\n",
       "VGPcR6PCD5UahcenIqXMKZevjzWWntY755vqKqfK/fG6dHhTHInl4ibL0CuN/+LMYff7TnQ+9VUt\n",
       "k3Dx+0hp8ado4ib0seGVIaL4W4/Lm+JILBc3WZyvYoZbv8UdWY6UJyHVUoKt5LbeNTuCmgrX9J4m\n",
       "3utNrEccPmhJbeqsJdpza3s5/F/bv4OtTD9u/9VsAAAAAElFTkSuQmCC\n",
       "\" style=\"display:inline;vertical-align:middle;\" /></a><br>"
      ],
      "text/plain": [
       "range_from1_len: forall_{i in Natural} [forall_{f} (|(f(1), f(2), ..., f(i))| = i)]"
      ]
     },
     "execution_count": 9,
     "metadata": {},
     "output_type": "execute_result"
    }
   ],
   "source": [
    "range_from1_len = Forall(i, Forall(f, Equals(Len([f_1_to_i]), i)),\n",
    "                         domain=Natural)"
   ]
  },
  {
   "cell_type": "code",
   "execution_count": 10,
   "metadata": {},
   "outputs": [
    {
     "data": {
      "text/html": [
       "<strong id=\"range_from1_len_typical_eq\"><a class=\"ProveItLink\" href=\"proofs/range_from1_len_typical_eq/thm_proof.ipynb\">range_from1_len_typical_eq</a> (conjecture without proof):<br></strong> <a class=\"ProveItLink\" href=\"../__pv_it/theorems/8725e19976f282bce9cd73a31c2674c922bac0a80/theorem_expr.ipynb\"><img src=\"data:image/png;base64,iVBORw0KGgoAAAANSUhEUgAAAdsAAAAWBAMAAAB6VSvZAAAAMFBMVEX///+IiIgiIiIQEBB2dnbu\n",
       "7u5ERETMzMzc3NwyMjK6urpmZmaYmJiqqqpUVFQAAAB6qHgnAAAAAXRSTlMAQObYZgAAAAlwSFlz\n",
       "AAAOxAAADsQBlSsOGwAABaBJREFUWMPdWF1oHFUUPrOZ2Z3N/mR90AjaGiIqNrRNq0EolC5BfVhI\n",
       "OgEp9EGbPjSGomVbfTaTFIMg2H1p8SHqSsRXFwnWuKG0CIU2UrZpS2iRuBpQoWLTh9Cfl3jvOffe\n",
       "ubtzZ9hnb8jsmTnf+eZ892/ODEBks/rL4Ysu+8Pmaxd94QITPoSOaa46+OawmDvFMPI4N0KQanbV\n",
       "cHGbuGw1tH4hu7tgxGP7urPktikeCii1A0o6aSdNJFVCg6Xe5Ge/muWGfbmikHsTTxfekPYpD+DZ\n",
       "lnD0MbxbP1cG62J8VpnXPUKDVUMeCjDL5bDUC+LKp4vvxkzQmkiqhNmx1H/iZ5+b5YZ9h8WgOxVE\n",
       "/LWfbOfuVyzdtKdHo4/hZ8F+DHA2Xu7oBw1CQ6JIPGej5TLYO4ubYrKOw8FqJK0k43HMYKl/RDFG\n",
       "uWHfkpCbwc7vunNM2s8x1mxNQ5KP4f8GeAVgOV7u/m89QvOGPMvRcjnMEnLzPnQNxjFTUiU0WOpc\n",
       "vd0wyw37BoXcLjz7DnsObS4XhjQk+Rj+gAf3WE5e7ArblOzYOA8GmOUOanK7NiH/MLYnh2TcEE89\n",
       "y8YmHbFVhXy5ipB7G0+H8XhbyZ3ToMMS/wfAvTKkYxev3SfR2DgPBhjlIkyNbh/kH8TKnZNxc5j6\n",
       "3v7+V6N25nZfpijkLvCza3vvgrRR7miAJB/Hs7abRTXjJtz6rppAjy0JHgwwykVSKZcv0I0oXkWG\n",
       "caOY+nkAtsoc3ySXfEHjXY5yaRzvB92Hcq9o0PsSz3ZRZmcrcSPQU5Do4rzgwQCUm+nH1pRpI6km\n",
       "d6oQRavIMO4Kpv4ZuIzJphh3oAQ/N5Vc8oFTF1Mx0RBydyKYZtFOJfeG9nh/IPHsyDhysfvJmbJA\n",
       "pxqLggcDjKOLpJrcXVGsARnG3cDUk56sJ07+eRzWbC/jKbnCl7wqypGuqpC7D9cazaJ9Su6Utso3\n",
       "JB7gB37rjTi5v0l2B/YIHgwwykXSQG5mPIo1IMO4KUw9VxC7UeY8LyoKNTuYzMLXI7fVVrm0wWhy\n",
       "59s3H8wsyydId+zoDiv23Kbg6R7sUO61aFpFhnHzlHrlEiPfLoqi1TvTmlz0QW59BEyTOdlsm8wr\n",
       "wZ3Ih/PuJrg+5Pri5J5Q7OmmRzwYYFy7rZOZlVifRNEqMoxbodRHWAEz1uM5OClW7be/0eSOYHFz\n",
       "WYkoCLlHcTRovR9VchFHM4F8HJ8qguVBdhxnV6gReo9iP1ItEg8GGEeXw1Au0n0I8CR4ZmJFhnGX\n",
       "KfXTrN8+XoFu3I5WofaUJvc09mldTdGmkIu7+xla82gf9MUjyXkEgY/jZ+r178XT40hFHBCkDHAf\n",
       "K/Yp9yLxYIBRLj6i7IdE4A7U633IojgDYkWGcQuUer6MQ5Q9NzHxPpP7VlqTiz54T+11fULuqWCD\n",
       "QfvfA18y5h38tN8LfBy/e2uL3TrBoxK8rk/wR+yANBAt9jyOzv8CxIMBRrkIW3/0D9Iltra2KsSi\n",
       "OBWxIsO4HcE7nrNZThVpdLuvh14AX1O3e0lcTvBuuCAWtHyLdKk2QrkXFJ7aDB5vhXcTjs40W9DI\n",
       "MxNdMyvSWy0sBmKVVAkNpShXqVFBcRVge7tcJ3jGLYvLrN7ONb/Qi3D13sB3OuVb1t4t+HM/XMuw\n",
       "/7V0owWNPEvRchVpUWcxEAdJldAIFP3uwywbpdTLPuTb5aaCh0jSF5cnIXFMFkqT4neWKjc+4NKX\n",
       "9NV7Gr9LuP7h6BcPQwt6VgWY5UrSgG4MjMRBUiU0Wj5YOG9OHDd+zdBe7Nj2TZcPQfYZWXceapHN\n",
       "c1A+Z1wXYoWz4uhLP0ILelIFmOVKUquFxUAcJFVCw67GvaaITzvJNe0TzzRYeOZqdxC2ZfogNU0/\n",
       "T3f2qWVa8VBAbzugVyftpImkerlhPV/tIMJ+Av437T8ivJddUtnHIQAAAABJRU5ErkJggg==\n",
       "\" style=\"display:inline;vertical-align:middle;\" /></a><br>"
      ],
      "text/plain": [
       "range_from1_len_typical_eq: forall_{i in Natural} [forall_{f} (|(f(1), f(2), ..., f(i))| = |(1, 2, ..., i)|)]"
      ]
     },
     "execution_count": 10,
     "metadata": {},
     "output_type": "execute_result"
    }
   ],
   "source": [
    "range_from1_len_typical_eq = Forall(i, Forall(f, Equals(Len([f_1_to_i]), \n",
    "                                                           Len(range_1_to_i))),\n",
    "                                       domain=Natural)"
   ]
  },
  {
   "cell_type": "code",
   "execution_count": 11,
   "metadata": {},
   "outputs": [
    {
     "data": {
      "text/html": [
       "<strong id=\"range_from1_len_is_nat\"><a class=\"ProveItLink\" href=\"proofs/range_from1_len_is_nat/thm_proof.ipynb\">range_from1_len_is_nat</a> (conjecture without proof):<br></strong> <a class=\"ProveItLink\" href=\"../__pv_it/theorems/3d208150b93bf2ba1fa1e2f019822d957c8159590/theorem_expr.ipynb\"><img src=\"data:image/png;base64,iVBORw0KGgoAAAANSUhEUgAAAXIAAAAWBAMAAAAvGArCAAAAMFBMVEX///+IiIgiIiIQEBB2dnbu\n",
       "7u5ERETMzMzc3NwyMjK6urpmZmaYmJiqqqpUVFQAAAB6qHgnAAAAAXRSTlMAQObYZgAAAAlwSFlz\n",
       "AAAOxAAADsQBlSsOGwAABOxJREFUSMfNl11oHFUUx8/MzuzOfmYtWAXbGha0mlLTVqsQKFmK+rCQ\n",
       "OAkl0AdNqzSEoLJtwUczaXFBELsvLT60NpIi+KKLBGvdIilCoa3KmqqhReJqwAoFWx+C2Jd67zln\n",
       "7p3szA559IbM3nv//zn72zP3awC6lg1bIzod8YfFC3R6LEX6Q+6Y4viX2NucbnB+qUR1bgZrVn4a\n",
       "Ld3H9Uwx0o/lo/WRb/bjcKy1CHb/xEmwBgdQrEBb9v0STR7W8mUm/xGb8y/49SMuwKagM/u8S36n\n",
       "eaoKxkI8snKD0cA4m6KSl2x9CjBOYgW+kl0fRJOHtf1A5HZdtqxbe6hu3z4rvjntBpzDR1vkr4F1\n",
       "D+BkPLlyg1nGOBSrg7zwhLUACRIr8LYcOAeiycPaRSbPYg4TNw/59UdFsFwj4NzzsUv+PwGeBrgW\n",
       "T67cssg4FKuT/GeRR5PECvJbrWjysLaDyRPY+gwTg3VJDru1MbPq+wdduONBwo0D124su/1YTL6x\n",
       "VMJnXHiv+K4kl2IFciJj6S4zNKTl60x+A5t78XpDkZ/WTqvX9/8OcKcK6diBrt1YTvuxiPyTB/2c\n",
       "e7eMskmikHaVSs90W1s6tWyZyedl6/tdt8GvI/mwMuZWnmqwX5R+cVc7BjzgHrnIcYYVuaPmSMFL\n",
       "wpRJopDOA4jRantR5KTpIjOH5JTdv1WGiPyKdvYUfT9ASvhy9bica3d5juNcUeRpT5OnGqOjJArp\n",
       "fXBEPixaQJ1tFfimrchJA7vJz9psMfl2NP+DndsV+XXNcqLq+8VVxMjviCNX7lTrAse5rsn1DPXg\n",
       "u/xrJAop6dIKDXD4jylYttysq8hZS16tUldilskHcFzexc4BRT6tWX5VfoAvZN7vxpErtw07Oc60\n",
       "Ij9aEuUAkxfcFRKFlC/yj8qel/tOsWHp0cJaj78wrCWneRUgn9MsezV5Tj62TGzOtTu/ynHmFPlY\n",
       "MOd2e5REKdUvicBbeNtaujkTIEcN8itDEDVaku2O0bKoWd5UfrHFOh7ke+PItTvddinOoiI3g+Rw\n",
       "OEmilIbE3B3pcW18IEvWy+cC5EM4ry+r7bfI5AcxRzQ3Dipy9NHz2an8qTIYLuRkdDvM3Okeny1T\n",
       "nMuK3FDnoaQYtMZbJErpuEjdO4uQwVm4BI2NAfLjmNamWnfbTI5r1gmaH1h/yeP10f4XJ+895T/W\n",
       "bH7O6+N4nXVZ0a2ge9pZoDjzej0/o5Y2+QgvkCilQhUTlzs1MfGGIN+XDpCjBq/7t6Z6mfyInldY\n",
       "/2vwQ/GNfbJZcvXklf7++/cFninvMh8Tl22y0vAvne7Ct0Bx+jT5K1P0ZFJnn+XDTZ8+GNir1VSZ\n",
       "cp75IXTKfU7VtjK5KX/R1zz4q/65mXZC+TXZtvJTOYbXn0KjJcot41AsRjj3amnNdiDFitrWG7Tn\n",
       "XAXY0klur6p7rjG5OPPk22f0AYkWJxxvcoIvp1vKr45qopTD+36EW8ahWJUuZ+KFQM5/86Amcpd6\n",
       "UiyZneQpvaIlPT6fT4J5yM/DJH/W8Doi/h/fr/2UJZz+dvjdI8pdU7G6kNc6JPvFianId6LA6VUs\n",
       "QEQ+BrlH/F15bM0vkHSXvtT+AJMRhohyT6pYXcgnu0u0PfCwSy5XdecMGNhyAunjuhH11jhDHw+v\n",
       "721uxo/DsR6KdElxw8A6wlkPwP+x/AfLbUs1nDnOHAAAAABJRU5ErkJggg==\n",
       "\" style=\"display:inline;vertical-align:middle;\" /></a><br>"
      ],
      "text/plain": [
       "range_from1_len_is_nat: forall_{i in Natural} [forall_{f} (|(f(1), f(2), ..., f(i))| in Natural)]"
      ]
     },
     "execution_count": 11,
     "metadata": {},
     "output_type": "execute_result"
    }
   ],
   "source": [
    "range_from1_len_is_nat = Forall(i, Forall(f, \n",
    "                                           InSet(Len([f_1_to_i]), Natural)),\n",
    "                                 domain=Natural)"
   ]
  },
  {
   "cell_type": "code",
   "execution_count": 12,
   "metadata": {},
   "outputs": [
    {
     "data": {
      "text/html": [
       "<strong id=\"extended_range_len\"><a class=\"ProveItLink\" href=\"proofs/extended_range_len/thm_proof.ipynb\">extended_range_len</a> (conjecture without proof):<br></strong> <a class=\"ProveItLink\" href=\"../__pv_it/theorems/3b1ab9343ca2ed007cd4511de9ba3b99956a8f680/theorem_expr.ipynb\"><img src=\"data:image/png;base64,iVBORw0KGgoAAAANSUhEUgAAAssAAAAZBAMAAAA1T37lAAAAMFBMVEX///+IiIgiIiIQEBB2dnbu\n",
       "7u5ERETMzMzc3NwyMjK6urpmZmaYmJiqqqpUVFQAAAB6qHgnAAAAAXRSTlMAQObYZgAAAAlwSFlz\n",
       "AAAOxAAADsQBlSsOGwAACBdJREFUaN7tmmmIXFUWgE911auqrs1KQI20E5py4hYMZVwRA6WooENn\n",
       "XkCjQZJ0fqRtgkprJP+0K24IylgMzDCIS4e0mT8DU5GIWVRKBDFuKaMSYySWBPWHEeKPJlGQeM85\n",
       "9953t2qbYWjFmZNX7726Z7n3fXXe3ToAYanULoT/y39HFta6/VSDv27L8uIfSdMobLoFtmbOxX5l\n",
       "ydnzbv7HYSkiRS11fqOY/wCZKbymjDzg+20B61SfbNk218pQCtWg9y1zrs0TjEhRBeYeFnwewtxH\n",
       "Mx9SbkjMH9PXXTeq+yFIWZlhamzJLQHH1pfiDTFXJsw3wrkuzk4YM7VpS+wYt+3vT+65CyjiuYx5\n",
       "Lxb+I4S5j2Y+ZA0w5qiF3zLfrFD3fwT4m2Fna0xZt2cGbNuArNzc5coEphYMOuTY28PMbTrHKR1o\n",
       "2P3FKPx5iiLiR2B+iAsDmPto5kNelZiLlFDpzzbqe4B3DTtbQy+quk/NOLYBWbEj5spISk5CsreH\n",
       "uTjrK/IvOYNoQrpOEenTIdqZbghzH818SF1iTtO3f1OapRVaI+lsDXU3VRNzOp6175xRlbFc4ejJ\n",
       "28OcnrXlH0qjGaic4ohXEGYcBQeDQ2AfzXx0zS2J+TB9vZ7Oh1XLjGyyNT7mwVkzLzOsKmN51mXQ\n",
       "CWE+PBfMlWGonOSIzzLJ5bXa5eGZRlgzD1JsSMy78NsHy78Fvo+GRHszPW3naHzMhq0vpWPL2rIy\n",
       "WLUYu2rd/S746oER6e1h3kUGTuBVr9qYsbc+wRFXMuZXADaGMYc18yCYRoSZ8+t7lWuZgnjBS63E\n",
       "0Nb4mE1bX86o6pxtp8V5v/6ZYXH1JelNmIs1kp7K+SJca4dqbPcwT1Y54n7G/BfI98KYWRPxbHyC\n",
       "61fnT6WduN4B5ozzU+XAUg0+oPDKQQrwkDHtYbsrMV9Co/ZJKhT3DxbFg5fryXhua3zMhm1Anp5Q\n",
       "laWaZ4jzR0rxNhyIj0tvL5uxTYvgJ3v22N3jYV4GHPEjxpyNee60r+NiZk2GG34BnrIgz6Up9sDr\n",
       "dYqULMioJ432ByAqr4EJEK9sW8WE/NJb4E35e6enJOZriNwJKhT3cVqEzp1IOmJbg0l33nKZdITZ\n",
       "sA3IF7qyCL4Qw92kUkwAUSNvDzO2KS5j9OivlOMT6H8pql6q1S6r1ZZxLuIcbZI/iLlcpXEu+86E\n",
       "i1lqDNGY10mPdTxk86QxKSB+cN9CrTJCJEbTdGDM+77eBEczcTEOYeaRiu4RRqHujGFa42dzYdZs\n",
       "vl5XJgiJz/ZERdQK9X6YoTjsDNozbjZ/ADLidrnYbr1BHVXsL7ZZE8K8V3rsNSbyZgHQfPtgYIVg\n",
       "GIkZozhEtOIruN6stjPBTiPb0y/r85F4ouQJHU2g0xieDfO9ujJe3RxMpnqn4Dbp7fXNlwRWIzDY\n",
       "i23MYmn5BEc8KDGPIInysRFs29DW3QZm1BQW06s+1LUwD0sPcd0mKh8B0AXsoDGPOD+79Fr1Gk3K\n",
       "xZHlBSkc+myrwpytSswbKN2YnLiPfhQWJQzNUB1NYAhMbK2Oy0hZqgzyP4rTW/hV4Io2VerQkN5e\n",
       "NlObnp6yC9dPNWzMDwCcyRHfkpgfoR+J6lhUGX3OwIyaVZTmRZ5dKsz5FnuIa1QVz3MEQBewg8Z8\n",
       "xGklG0FbTD/LbTyyEJHxoczaadUZ9CTmlcYjrcTO8ik5AVvfCmgszJlTYNhGP7g3Eq2ctpVOqKma\n",
       "0JdP3lkvdKW3h5nadMApnMx3LMz5pfv2DXPEXRJzhTrlfXjqZKsTBmbUPEav0m2Ztom5MMoe4ppf\n",
       "K8LtANAF7KAx73AaxEZR/Ce6iiMrF8iHoH2WGriHJeb7k5GK7o8LywFUDCwJaEzMlWM/HDdtl+JN\n",
       "W90sMQZQrAwq2N6L8Wsthmhn9cj7IL09zNSmr93t+ffsvnng9OnTLY54sbURejf3nE1vI3SDsfZS\n",
       "mMs99sArvnRbVAgs2ADFsbErx+5mzFucBkkjnH7mRvHIQunvY2P3CMy36kovkJgH8Ed/XbZcJsDD\n",
       "dP4EfI2Vza6tJVRS7OnKqPvJ86Iwtr09zFTbpb+wCpQ5PcwfA/NVdN6s9qz1E0czEwl/hTk3yh54\n",
       "XX+76hm4gB36dhrSC04lnUauwdlc+NDYtCHMJWHRe87e2eH1VgN8jbV1ZNs6giVHB7uqskr3QKz2\n",
       "hDKOt4dZ1PZdaeYXto6SXSb8JJijGYga+frN0HYwl1vtqIH83SEwwqrE9bCYGi+AW3WBcDAxo0oE\n",
       "kCftlROTpVQVj6xca74DsFhPIZpyv3kcBjaqldy42mLE5orsczWBP19oW2cIxJLz1+jKJrs4fXic\n",
       "l82Ot7/fPJ77aWBuO2qPy0+CWTx2bgXsnF4Qu9n8ZVMoJAGNeZxB4XXdIrxs7qoC4SAxP/rCdazK\n",
       "XQ2bm3jSRpDqEUw8RFNE/ucuakJFVzoqMa+G0pDqx1arXwB4+ehqfElsnT14PL2xW1dWHJrSP1bV\n",
       "8fYxr4ade+e2aTAuPwlmfPHK/f5IVVa7CxrztHxVpxUV6JoFMpu1SklihH39ajpEtOimsU12A7dC\n",
       "ivqqvJGJfL8olLXhJX3QNiBbmX0z6H32nGvzf82mjKoxZ4+Kp3qxH+YXB/9ZtzEXm+QhrsDnQmwW\n",
       "gOp7WKU7Tm30DHZCu+nIwu9eNObMApzO9cPcKQ7FNma4kTzEVXarJTALEiGVrk4b7XyZ9kVwc+N/\n",
       "CbO/Qxf8fxrJn9ojc0EV+yssJeE/X0TyFEHgD/e/O1l4Xudnq8Y55w7b0twAAAAASUVORK5CYII=\n",
       "\" style=\"display:inline;vertical-align:middle;\" /></a><br>"
      ],
      "text/plain": [
       "extended_range_len: forall_{f, x} [forall_{i, j | |(f(i), f(i + 1), ..., f(j))| in Natural} (|(f(i), f(i + 1), ..., f(j), x)| = (j - i + 2))]"
      ]
     },
     "execution_count": 12,
     "metadata": {},
     "output_type": "execute_result"
    }
   ],
   "source": [
    "extended_range_len = Forall((f, x), Forall((i, j), \n",
    "                                      Equals(Len([f_i_to_j, x]),\n",
    "                                             Add(j, Neg(i), two)),\n",
    "                                      conditions=[InSet(Len(f_i_to_j), Natural)]))"
   ]
  },
  {
   "cell_type": "code",
   "execution_count": 13,
   "metadata": {},
   "outputs": [
    {
     "data": {
      "text/html": [
       "<strong id=\"extended_range_len_typical_eq\"><a class=\"ProveItLink\" href=\"proofs/extended_range_len_typical_eq/thm_proof.ipynb\">extended_range_len_typical_eq</a> (conjecture without proof):<br></strong> <a class=\"ProveItLink\" href=\"../__pv_it/theorems/b5a14d4e16857a292d95b27ba14cea3a6631580e0/theorem_expr.ipynb\"><img src=\"data:image/png;base64,iVBORw0KGgoAAAANSUhEUgAAA0oAAAAZBAMAAAD9BsMaAAAAMFBMVEX///+IiIgiIiIQEBB2dnbu\n",
       "7u5ERETMzMzc3NwyMjK6urpmZmaYmJiqqqpUVFQAAAB6qHgnAAAAAXRSTlMAQObYZgAAAAlwSFlz\n",
       "AAAOxAAADsQBlSsOGwAACQFJREFUaN7tWl2MVEUWPj3Tt7un/2x80DGDOGkX8SealtVdYyS2Rk3E\n",
       "zOydRFnNRhgemEyImkE2vOk0+PNkdF40xqAOYcQXExuDAZHdtDExIrNLAxpEDPaGrD7IbvBhwk9i\n",
       "Yp1Tp+pW1a3bM0+jiRwudavqnK9O3frqvwfAL+Xq9XBJfhOSqt6cpOr7dWuWE/9IGkZmw82wNQvO\n",
       "jjuLwhi64c/Oze8nN4/bRpd8XSUymv2NsnQ1pKepH7WNPkXxHb7e1vaXsmOhzlDyFS96tWu92sB0\n",
       "dR8rcGGVJr8SK9pgh2Spg69vfSwlaBZDSnVm6UtK7rlfxQcg1TINTY0t2eXg2MalcF8onQnzDbDU\n",
       "bcZWMkuISTU5x+f+aVHy0q7O6dO2hAm1XsosUWIW9mPydR9LCZrFkMdAshRMUWV/WKXifwB41bCz\n",
       "Naas/WgObFuPDG9uS2eiaaagz2kxifazhJieuszwuA9+fFsUFivQMqFPuyqp1oTFNniVWHoW579R\n",
       "H0sJmsWQA8xSgbpz7zcbdBzgkGFna2iaUfHUnGPrkVW7QumMpNh01IeSWTpgjkjD/Xsqck3oKRAS\n",
       "UBFO15qw2AaHiCUkLd32sZSgWQypMUu9lHqf+mSvYsboobaGpqKK+b293Xoz5OeUMym3O3pC+1mq\n",
       "mWZG/IjJUqxASEBFuKjWtzNLmJiFYsu7VRBZCZrFWJammKUTlLyXwhOqZkYntDVxlvq6LkzpQeVM\n",
       "yna3DVpJLEUYx73N0vYuzk8ks0R+tzNLmBB7vJXV6m3+PZ5fswhSqDNLezD175U/gowHA6LK6Y62\n",
       "czRxlgzbuBRP39JkZzCyDJcpvWYs+e/fhxjtZQkxI2rWM93bLA138b6H/HR8LJHfYWYJE4KlvQAb\n",
       "/Cz5NYsg2H+IJdkZf1I9PZ0XM03R6Me2Js6SaRuXyyp6xDR7RXhQ9xJYVvmA0cRSoUrSUSwhpr4z\n",
       "GoLavc3SwS7Ot5Ofu3wskd+DzBImBEsvQ67jZ0lqAnn6mpDVV+HXbCfej4J5MPhaAaT4zwwClYUU\n",
       "4MNlWtLTZpbo0J07R5ki/kxBVLkUrQmOJs5SqdaNpVcmlLNU4zIRHlOKz+FweIbR3rEkMNn2R5xh\n",
       "urdZOtbFOX5aP/zsY4n8HmOWMCFYyoRy0/txy2VJatLyu1dgkAEOi9MSge97VENzRlo1VHDQw4FC\n",
       "9UyAmG+aqkzI3bQaPuXu0jvNLN1JDX+WMkU87BVFZ89Gi5CtwS5/7Uru8vS9hq1HvtPOAvhOtOqk\n",
       "UkwAMUBoL0sCE8CtnKHdf1Ct/rFavSViabKLc/y0sET7FwMX1XqSWcLELPY+2iJkvphwWWKNIZql\n",
       "tYxYKzdL8uQQZVDzw6bLtcooIjKaoQfL3PT9RjiVDguhjyW5yFMc2zJfc5Z/rYmPpXzXsXSvdiZa\n",
       "SvzfGamIgXytC0sgW9hxb4+lnfOwBIVB31givzuZpbwcSzD1CU3SYfyGSGp8LO1nxH7j/GdmAJ2z\n",
       "jnoOloaR2OqLR5RW2Iu3HJVm2jvjZTp6ingrEK0zGFXH1nhmvMFuLD2lnclT6dFoj34eHmG0d11C\n",
       "TF8nhJh7m6Wj88x4+mDszHiDjKUZb1CyNIQNWTo9hEYDW/cZLKEmv4zmqYG2xdIgI8R7h6j7EIDO\n",
       "kADN0pCzyWbUyD/oMCaeDF+HHP9mq2IpU2GW1lNnlw0v4sFFYVHEomWjOBrP7iGytWZdY8CQM8hd\n",
       "FMFnmBStG2ws16DOaO9YQsy66TqErnubJVWgzz192ivT3t3DKGNp9zAqWXqOugiV2F8efdNgCTUj\n",
       "NMgK8oSgWMpNSYR4BxVR8EkAnSEBmqWTThWlETTFeaHUxCcDARkfTz8+o2ayDrM0bHzKMM7RL/HO\n",
       "ed2UR2OxlD4Phm1wwY0wM7zvLZ5Vm2OhL537Wy3fZrSXJcRM5lpUmOVes/SXhlGgdGi7p0877J6X\n",
       "olrvYZYwgSyVaUH6GINWpjJhsISaF2jYPpJumizlRyVCvHOPi5GxC0BnSIBmaZfzkdIoCB+it3gy\n",
       "fKtzHJpXqDvHQWbp6WiRp/gZYdmDip7lHo3JUvn0hTOm7U0YaarIcmPvgc6gjPW9EZPVEILdlZP/\n",
       "AkZ7WUJMeZaMbfeqtf9/91utqEDp2XZPn/a9w5JR6xuZJUxEv1w8IVeNRuyXi/XGiV+xVOpIBL5x\n",
       "9G9RRWDGeiiMjf1p7AnJ0hbnI9kIzwvZUXwyUHxtbOxJwdLD2ukKZqkH+8w/ebHi/rONwq8grrHG\n",
       "kmtrCeUUOtoZzZ05eRUR2mj/DdEK9hY67o9YPzC5BZruCXWrF7dNYbENtlm/L/2Zws3qtyndYMHc\n",
       "RESfYik7KhH4XvdXNa3JDAlInPEYBeejGS9bl2Mpf8S45ySWisKi86Z9GSqP/HWIa6zbVtvWEcw5\n",
       "1ddWzsrtw6G6/0w7aD9LfI2bdt2/F79QTYPXvUD9rzjnxR1QWGyDAyZLwRwE9VztQWg6LJWmmkEd\n",
       "6XN3DwG6EO8T4ki0BB7WGQJgsoQqUQAHGpUVG8xUBZ8M33B8AbBMb94a/PvSOPRsUPcH47KDUsmB\n",
       "6PuuJi6RrbN8Y851j2lnk23ccb1IqREH7Wcp0zCMk9y7BVruYTz7c087sdYv8u9LlNAsiVbLroLd\n",
       "M0tCdyz9pyEU3ICapXHZzvhe24+vzW2VIQDM0vNv3yNV2TtgcwMDbQSpDn0qPqJKYvRlb2hAWTsd\n",
       "ZZbWQHFATcJrIGofvLRwNXGJbJ3f9zD4ZJ92VhiY1o1dcdB+luSGh42T3I8n3L6kGLV7f3Ktx5kl\n",
       "SmiWcNiW3POSHk/qRk2zNMMDfUY1KrTNDB5LWqUkMsJ1bg09orTggbGNdk23Qoom2pzxjTLe7+t9\n",
       "Cb9d9y/s2nCrbLuGF32la32lgenqPlbgwipNfiVWtAFVQrGUOSUa5Z0klt7pe7dms1RoEEK8QYb5\n",
       "0MwANXFKlV40tNEbOIPuoycDl2QeUSyll+A+PImlVmEgtFmC+wkh3rykFMHMiIRUesBqo90f0l0g\n",
       "XuhdYmnBLMXvxL1/jxf9TVRgnqPD+Lleif/H0oCDAOb/g6jfvaSqd/0CvfqdKwCjyhYAAAAASUVO\n",
       "RK5CYII=\n",
       "\" style=\"display:inline;vertical-align:middle;\" /></a><br>"
      ],
      "text/plain": [
       "extended_range_len_typical_eq: forall_{f, x} [forall_{i, j | |(f(i), f(i + 1), ..., f(j))| in Natural} (|(f(i), f(i + 1), ..., f(j), x)| = |(i, (i + 1), ..., (j + 1))|)]"
      ]
     },
     "execution_count": 13,
     "metadata": {},
     "output_type": "execute_result"
    }
   ],
   "source": [
    "extended_range_len_typical_eq = \\\n",
    "    Forall((f, x), Forall((i, j), Equals(Len([f_i_to_j, x]), Len(range_i_to_jp1)),\n",
    "                     conditions=[InSet(Len(f_i_to_j), Natural)]))"
   ]
  },
  {
   "cell_type": "code",
   "execution_count": 14,
   "metadata": {},
   "outputs": [
    {
     "data": {
      "text/html": [
       "<strong id=\"extended_range_from1_len\"><a class=\"ProveItLink\" href=\"proofs/extended_range_from1_len/thm_proof.ipynb\">extended_range_from1_len</a> (conjecture without proof):<br></strong> <a class=\"ProveItLink\" href=\"../__pv_it/theorems/7bb49be0db62765a3420e4dc58fb82890b4bc0970/theorem_expr.ipynb\"><img src=\"data:image/png;base64,iVBORw0KGgoAAAANSUhEUgAAAcYAAAAWBAMAAACoBSGBAAAAMFBMVEX///+IiIgiIiIQEBB2dnbu\n",
       "7u5ERETMzMzc3NwyMjK6urpmZmaYmJiqqqpUVFQAAAB6qHgnAAAAAXRSTlMAQObYZgAAAAlwSFlz\n",
       "AAAOxAAADsQBlSsOGwAABYNJREFUWMPVWF9oHEUY/+5u924v9yeXgraQNh7BWkywXKtBKASPUgUP\n",
       "km5AKkW050NjKSqx1UfNxmIQFJsXxYe0nqT6pPTUQI0J5YpQaCPlmirBIsmVgD60SHw4+uclzjcz\n",
       "Ozs7O7vm1TlmmN3v933f/ObPN98eQGjZsitc5pAfFkt6Z7kiLV5FRxVHZyfUfIhVi9coGlAJF8Wa\n",
       "XLpDesn7X+rxWDoKm6LI0Kodrhwc1Q69FcRTnQq08PkPPcdQ2a/cV66MbeaAzfupnWSEDRk5+yzH\n",
       "fzT3GsD2/2An0NCt2AFXOcAR/cbqyssTNsNvpxo/4avP9RzDZOYU93WYPg6fbLL+K3Nt0vlUQhp/\n",
       "DTK8VYWDNUjbkRQFGuBRvx0sTDnAEccQL/vHd/sLm+GxVuA93LZVPccwWabBfS3Qx8Gvbd6PIcdF\n",
       "CZm4eZTh8w4kSpCtR3IUaFoWFSlTDnBckPrfuJ1HbIbHWqFMjaaeY5gs4foq0Y3fBrdPOSakxTpv\n",
       "c3yiDfl7AAORHAWaeVEXfUDLsST1r8scKX4ANbJk1tIhMSdM9jv3lZuiO6wIbp9yTEsHab+Lzxch\n",
       "fxdgOpKjQLO9qR7IaR1HNgYtx2lWicbe3t6nwuJqiGyW+8rgMciu7a67fcrRaAngtb23XTw5NOvk\n",
       "6EZR9NBmd0O2M9Lz4oEmV1Y5ot+RBS3HYVaJxgUAcgpMR8eRyQJlmvtiM91ZELNOOWalmf3HWwAY\n",
       "J7grkeso0EZHSbZTj93KFLky5fh9L5bdrt/yjJbjFVaJxidgkQkz2O1j9Vfg55bgyGRgzvu3zRPc\n",
       "V5ye1dNj4PYpx5x3Qqy7Ag+AQ7oRRdFDv5uZkuxknWw73+DK6joSv6nmnJbjDVaJRtI2akzw1p/H\n",
       "YcWwM7bgyGXJq2M+u/u4rwRVXGURouZyTK17h2Vd4CGDAXo8iqOHthMFyU4KMnRJx3UciV8T9vDF\n",
       "fZIvLuM4zirRyBV4WMlcwBu/UDe8vcplnUqE83Pcr3Ds8NaRhSPG8Ro2M5HXo4detX12EgWhrOEI\n",
       "ubZ2HWdYRY2pS8ReD88jlm9OSBypDHJrQzj+7okftXv1TVD2alEMINkSeJKOfAiwFMVRQp81fXbO\n",
       "O6bNldXziH7TLVvHcYlV1BgiCcVIp23Sy37ZePmcxHGIJhuXsdmWr57hkle5NEmndw8bYEHEHDRk\n",
       "SvNP8W8DPMQtBZMdFW0+MCQ7h2prYLjDUNcR/R6plXUcL7OKGqfI9H2wBB00rixD/WGJ4yk6tfPY\n",
       "NJIF91QOcymN7tYDttGwb9xzb5Ej9ASdrrl4q39+vshuEfO+K8fGe5LQqfWPJTur7/wA37pXkMoR\n",
       "/Y5bDYXjQYfjZ5lGfoxOXvaz0dE3CMcX0hJHKoPX6XOnuF5OcGmq6EUK7OfX7t8huweHGt/phSPE\n",
       "xzc2Nshw+/Cxl0xyHO9U2vRr0HCnIdl5qSu3gCehT8eR+v1FOY9/P3O2wfB9nobZHkuV2Tp2XA98\n",
       "Wz1N25Pi2y0+xqX4aZbhV434THuftr9hc9HDs9uBpUTBzapDS3Yk5UAut0uX57h4rBWREdXZbX8V\n",
       "oEflaLbBLFul56EuZccVnjavpJtKCs2SDjJjudYZOZsW6bYRDDc6tLDjUw5wXNTl5C5efD0gjVsO\n",
       "TJL5Sz3uQF7lmCpBahC+O9cl5v8YlyYdeOywe/j5KrMPFZOEgvjRKQ9PyyRLzYIxR4P27PiUAxyT\n",
       "TkiYnuRV1jCfGz2u/R8AJzbnUz/EpSQWX3IvFLMq+4yhXrfj4aXRB/8N0KE9Oz7lAEezGsLxGK+V\n",
       "qK8AvtOTK2SBv/JnXQXYSjsT0kve36bL0hitmLOp/zoYWrXDlbcG4BMh/5g4rG7ZtwmXRhfeHPD/\n",
       "Lf8CYwR7DzUW4GMAAAAASUVORK5CYII=\n",
       "\" style=\"display:inline;vertical-align:middle;\" /></a><br>"
      ],
      "text/plain": [
       "extended_range_from1_len: forall_{i in Natural} [forall_{f, x} (|(f(1), f(2), ..., f(i), x)| = (i + 1))]"
      ]
     },
     "execution_count": 14,
     "metadata": {},
     "output_type": "execute_result"
    }
   ],
   "source": [
    "extended_range_from1_len = Forall(i, Forall((f, x), Equals(Len([f_1_to_i, x]), \n",
    "                                                           Add(i, one))),\n",
    "                                  domain=Natural)"
   ]
  },
  {
   "cell_type": "code",
   "execution_count": 15,
   "metadata": {},
   "outputs": [
    {
     "data": {
      "text/html": [
       "<strong id=\"extended_range_from1_len_typical_eq\"><a class=\"ProveItLink\" href=\"proofs/extended_range_from1_len_typical_eq/thm_proof.ipynb\">extended_range_from1_len_typical_eq</a> (conjecture without proof):<br></strong> <a class=\"ProveItLink\" href=\"../__pv_it/theorems/d47b947829b58570499793e4f68885107776733f0/theorem_expr.ipynb\"><img src=\"data:image/png;base64,iVBORw0KGgoAAAANSUhEUgAAAjUAAAAWBAMAAADKnHAaAAAAMFBMVEX///+IiIgiIiIQEBB2dnbu\n",
       "7u5ERETMzMzc3NwyMjK6urpmZmaYmJiqqqpUVFQAAAB6qHgnAAAAAXRSTlMAQObYZgAAAAlwSFlz\n",
       "AAAOxAAADsQBlSsOGwAABjpJREFUWMPtWF1rHFUYfnczk93sR7IRNKJpLCsaTGm7tgahULoG9WIg\n",
       "cQJVKKJtLhJCUFlbr82mxVzavWnxImpKxKuCawj9MEFShGIbP9ZUCa0SV4NVaLHtRWjam3rOez53\n",
       "5pwhP8C3dPPOnOd9nnOeM3PmzABY4qFuiIgk+YdR1k6WeZMRH0JHspt4ymaKCFWI6IrptOwlSWL5\n",
       "kpXCixTYAs40/RurqXM8T+WMeIxTm+v+FiPPKXO/PF1gs+ThoHJc0sOEDLBOj34zeWNrIZEtcm9+\n",
       "xsO5l0R+2Afo1JHpF32GT86fLEFsMbrfEg2xaiMP9X7R7g0tSTwlLgEqZQtO3hii252CsRO9+Yoe\n",
       "fWTyxtZC4gAwb9wKPXL+3sty98anRKTF15ADR2oMPwnOfYAT0d5INMSLjTw0Tti9ISVvnl/nZ5iU\n",
       "JTi5HqrbTNLDhAzwfWr0IZM3thYSC9ybNE5l07VhkT9ByDP6rOz93Gf4fwB2AyxFeyPRNDLB2V2y\n",
       "e0NLYsIbJmWJBS0/LRLRbSbpYUIGSK1yaiZvbC0kCtybJjz6At1uEiLQq93F6wK/z4dbZWjyo6xR\n",
       "aIzeQDMWm70p6N4wKUsUtPwn3RuU6xWMvXSAGTLdLca12NZC7tkK9+YqHvbh71UpMqWQzlaB/xPg\n",
       "VglaIhcchcaYCjRjsdEbLJHeMCmwdt3izZSQ9DChA9yVzz9nfk5ZWsjtU+TezNGjH3bdAJGjyIAE\n",
       "ZtZ2VDmexE5SVY+wRkMPLug8bvtf7/XzYqM3KCC9YVJg7frggtGbASHpYUIHeBZg2OwNa3HDlyed\n",
       "QPSGzewdNcsockkh23JywiFBcJlK1HWj0MUZnScNXblZXozepPMYdTESFNC8SdyxSUjysDeXhKSH\n",
       "CR3gh5CkGu78YtAb1uKwh35ymwff8FmP17g327HlLp7cLkWuKJbjJYEnv6Q6W4jyRqITtfM6z7fw\n",
       "o3+TFxuvGxTQvIlbL09JHvbmipD0MKEDbPZxmM2XS0FJ3kLi3etjsOr4ab6SNk1zb/bgLXwbT+6R\n",
       "IuOK5XeJBzhDJ/R2lDcS7cKzOk8JcDRYbPQGBTRvzlglJDnM5vO78/kd0NDtccE4jgPM5nDBbfND\n",
       "kryFXMJn6S4wV3XA5A1bQTVvZhRLn/ImQ+cyFXndKHR2vZEHR5MqbNKbTD3KG0Yevm5mhKSHCQ6w\n",
       "coFO/lo/Pd1+7vGykqQtqS6+XVy5NuGA6Z5qrgfuqWXVlXcknmybk2XIbo3yRqFb6r7Ok9qAV4EV\n",
       "G9ebwD2FUtZ7ipGHvVkWXfcwwQH2437zIm7Ly9dbasob2jLY5ru4AVxx3viMUzXnuDdDOBVsQRqS\n",
       "Ikjlq/lGfKIIMR8ylMoNdzmIPjhdVDzuWGsByDEWG68bWoLeIDVKWUQkedibi6LrHiY4wGNo/zxe\n",
       "jDCU0CRpywfLkMJVegWqj4h9SJ17g4+842xRwvyVMn+au/dwmb4v8Ufn52f5w/ZghbfTRB3p6PHk\n",
       "ouLJ3n29kKrxYqM3+HR3NjgjSllEJHmDN7Lbc4Jxjg2wFRfhtxhqQ5fEliHInBwZeZt4s1/sBBNb\n",
       "uTeH1QqK+b/7PiGyPfQw76tlmuJ3PnhA+hanVXH6UriNJlXxE0S3fgeKx/0y9+v3wIuN3mDJ2r2b\n",
       "jBqlLCKSXPdGdbtHMPaAeA6ReJ71q5AMfKNw10uJIrtuUtLnbu5NnJr3Nb+TxXMuyXa3dLTpusSz\n",
       "OIq/v4S3qwa0xqMVm98ZpICitoh0m/bFQo5Jepgob1xys+6HY04lHfAmW6myveFlgC7trQ9LyStZ\n",
       "tv5x4NWQvYDSdXtVLF5LjW96xfDbggGtePRiszdSQFGbRRredk837JgXhaSHifImQZ6PR2rpx154\n",
       "OHjd/FGGSXJJJJ4pQ6tAN5d56SjEh8VWd1R+IqAxSP4/fUDh2dzgqu6Gv36Z0IpHLzZ7IwQUtUVE\n",
       "IkMxKSU9TJQ3OOs1y3c/9+WRscYvHod46WuQEQ99kuse0a5dOKfw2qhj4Y6Z0IpHLzZ7IwQUtUVE\n",
       "IkMxKiU9TKQ3zavk0kjp27++yO/FExDD5SWpzQ7PY2UjHuPRzX22nDDysOKOILhDF9gseTioHJfs\n",
       "oEnsSeGN045P8P9Dj/8ADafW758qvW4AAAAASUVORK5CYII=\n",
       "\" style=\"display:inline;vertical-align:middle;\" /></a><br>"
      ],
      "text/plain": [
       "extended_range_from1_len_typical_eq: forall_{f, x} [forall_{i in Natural} (|(f(1), f(2), ..., f(i), x)| = |(1, 2, ..., (i + 1))|)]"
      ]
     },
     "execution_count": 15,
     "metadata": {},
     "output_type": "execute_result"
    }
   ],
   "source": [
    "extended_range_from1_len_typical_eq = \\\n",
    "    Forall((f, x), Forall(i, Equals(Len([f_1_to_i, x]), Len(range_1_to_ip1)),\n",
    "                          domain=Natural))"
   ]
  },
  {
   "cell_type": "code",
   "execution_count": null,
   "metadata": {},
   "outputs": [],
   "source": []
  },
  {
   "cell_type": "markdown",
   "metadata": {},
   "source": [
    "Compute the length of an ExprTuple with any number of expression ranges:"
   ]
  },
  {
   "cell_type": "code",
   "execution_count": 16,
   "metadata": {},
   "outputs": [
    {
     "data": {
      "text/html": [
       "<strong id=\"general_len\"><a class=\"ProveItLink\" href=\"proofs/general_len/thm_proof.ipynb\">general_len</a> (conjecture without proof):<br></strong> <a class=\"ProveItLink\" href=\"../__pv_it/theorems/68d24c5f7c34703683bc892907a9a1d269d87b070/theorem_expr.ipynb\"><img src=\"data:image/png;base64,iVBORw0KGgoAAAANSUhEUgAABFkAAABMBAMAAABE53U2AAAAMFBMVEX///+IiIgiIiIQEBB2dnbu\n",
       "7u5ERETMzMzc3NwyMjK6urpmZmaYmJiqqqpUVFQAAAB6qHgnAAAAAXRSTlMAQObYZgAAAAlwSFlz\n",
       "AAAOxAAADsQBlSsOGwAAEwBJREFUeNrtXX2MXFUVP/PxdmbnYzuowZrlY7NYiZKSoqBoBBdiTVRa\n",
       "XpNaNSJdNCwNUTNQU2MM7rRKI5HYjQnGaIElheIfKAMWQVp1iBHTdrXbBYIgaQeJ8oeoW+MqVmF9\n",
       "9/vc++59Hzuyxr45mc6+896555x77+/de9/HbwoQL5OLi69CX7It+cXFxUSGk1fMHOo3V8alNjPz\n",
       "l2RoafUbqy8AR/po6ctrhZYu+Xqu32x9tCRBy6Pk69v9ZuujJQlavhz8K4/3m62PliRoGfQBirP9\n",
       "ZuujJQlaap0AMf1W66Ml2TXR20dHL+y3Wh8tydDyMMC1/VbroyUZWr4B5W6qAB8TG14rdAzvalq2\n",
       "bEer7E+9RT5Qcrmj0sBKjv/9DS2sR/mYUTAXobHgxE0JIqPr4Q0tG2gZ8IvTpGn2d8SeTxwI26PD\n",
       "l4mNYri58K5zLVu2owPszyH6gXzT4Q68gxJZsGPfdO1SaLOV1zQrqUW5DCtXTQG31UsqOcTcaMGN\n",
       "+uHw5fM+BD/vVjOIlnqDLnIHDsmW+sy9YXt0+L8tDC1el3xcQnr3htcBVMaCAeCsiel6dy08BHfT\n",
       "Y1dDREnSo6XTRoDamiUVErrUTaLwcMMfrodjRb/qUy1jaIGpx8j3Cl/uWLDYo8OvDVqq0+TjknHy\n",
       "NRf8uw1gf4Db+mNVGKNX//T+orskdV4fYXcKzJIKU9P8NmWC8NVgoQfPNdpFqmUOLetIpesvrBP6\n",
       "sQvDt1/Q4bvEeVw5K2SGdnnDs6EtsBwVaMnTD2z4idWd7K51kCNTYv2m7zXG+H2iEVpSjyKTlGgJ\n",
       "bEMlpeSZGy04rgwKD2eQ7aef3V6kWubQ8hXaso9LvTZusZeHvYYYejaExxu0q1qfCm2hkxntY2i5\n",
       "hX6g/YzVneyu38Im2v/Ntc+OQZ3MEOUpWlKLopKUaAlszZJKbmFutOC4Mii8R7efLn7ybqJlDy1D\n",
       "dEWyH2Ana51qG74/bA7t+8VG+ZMjUKaX3DfPQeWoPn7fPCc3P1Jsc4fBlmlHj+po2Us/nv9h7l24\n",
       "Yz5kd+2F+1ifV3PjUCG7yddeIwpJktVBoiUwM0sq2UuPk+D2yqDwFbrafxrap9NimUMLX9pCaY6h\n",
       "ZaADa7z50GHZuQ24aRXdugYKsFk3u0ZtDnaEw8FOyC7YZ6DlGP0A7Kbet00E0grcER/ViYl3TnyG\n",
       "ddc2OBgcma03vbEpKJFerHdZSRalRApuIUmSOvxo4tMTEx2KlsDWLKnkGHMTBKcio7OzRwtf+9bE\n",
       "xGcDtGwcJFpW0fKuYPZmnVtoQqu0JnS49uiv6DXA5o8CULR4C80ybNWXIwtNYQYrWsLhipZpR/ZJ\n",
       "Q4aWbbzxX+beuTvuA00Fn2cjBHy/weYT0vHbzChBkqwOeCYySyrZxtwEwQ/f96SlMih8aYyNLZWj\n",
       "2ZyJeNNQtHhBW2wO+mdgGjYShX+Rw/XTg4VgoD1Tpf25EepTQZNfj6zoLmFGeo47JH2I7dg+ahha\n",
       "5ZIulmghEQy0nAYDPrvHkutCrkFyY6tcHoULSXJAm4kCW7MkTyb4w1e5QfCj43kUXeSIwrMb34cA\n",
       "zqJaNtFCeinomNIlrNmDq8Sts6WLYWuLfM3Swy8GC8Hg+NUraX9unfWeb0G1SXYxqxbbxc1Ia3KH\n",
       "wZZmx/cRQ4WWgRb5kJ5EY8vzLYSWr955GcAWKF8XbN/4bfIeV1AgyG0LLcyjcCFJPiyclz/4twYx\n",
       "MUvy+gXpkPJbaPCh5i04Os8RhYedQZDSW1swRLVsoqXWZjNRHeBwcLnpNwDUReYsPTySO+ST48D6\n",
       "kx5emwO+C8QuYbZbOtxt2rF91FCipTJG732R9cwq7eJWjS2kB4ONjRMTfA2+ica8m90141HUnVhS\n",
       "B3GjmNmaJWU6pPzdNHgezrgHOeE54vDeByauV1om0TJwLDj5X78O4B747IsAdy6OQEVeP1Z8ctjr\n",
       "1q8gx8ndzAtn2eHBxb/yXcyO3halZoP3ruEOyZZux/YxQ9Whj5DPd7Yy72rMe/06cTOVrji1tB+h\n",
       "Mcm+R2QUKaQO6l49sQ2VFOlQvdoiwa+GJzv4Hi/L0R6+2sooWopiCu7AZfzpSE2NO+owdNTOiF3Q\n",
       "qQ77oS3LUYSWoh98HngoOm2N1UKe7JCYa4PCnxiOvtlcm7aVlIkFwWFtXHAjPJwKFJuljS3N/13C\n",
       "Zf7Xp59o0Qw89DeupBehccdefKp+hPb/Id61/wW0vAR9yYbc6PeMlqExrLW0U17fq2/ZBwmbpJji\n",
       "0wQqL1cq5SV3TytB5HKCoTfNMC2CWXqyPtIzWg5qxz5Ev8/UC+TU0vMuh88zI+LdlbjGqQJVGsuU\n",
       "SmWprz4hH+7IUemmiXymUU0WsKit2dabaOmSv88lR0v54jBa6my42beW7yS3OHPs2iDXwdbSgpTI\n",
       "tS2xSqvMMmGpvt9HgWCbnzDQGcuUih4oTpQL6mNYIMdeH3e6dN6Ii6z7gdK1KhgLqKMl3zHQkoBR\n",
       "pqEl3wij5eMMli9ewldH5C5Vnk9Y+L0OaUFL5MfCoa7+8QLEvguyfussCgRvShoIv6jymqYymGZN\n",
       "K10wH28W++31cabr/fFOPzay4QdyUyjYbWG01C8y0JKAUaah5ecQRgt727LwLEdqFSPyMNqWFmC+\n",
       "n1kRRXILRhmLXLLXX1KgWnuZUqm1U6BFutB9OOoTSlfle7YfG9np57AIqKMFvmugJQGjTEPLhRa0\n",
       "sMeK94taF7QEEdqlBZgPIusN3EWFyDOkIt/XSxvoomVKBS5KDhblwvBhr08oXZUvQUtMZKcfEowG\n",
       "NNByf0tHSwJGGUZLbiGMFv5u0eVin/aeEHrdQFmE3nnSu2gwcrVQHFlqoN3LlAoOFCfKheHDWp9w\n",
       "ugZaoiM7/ZBgNKCBlsGucU0UzyjDaMl3w2ip0mn012//o1hKBf82iJGuqAooC1JiwwFnFxW7EdnU\n",
       "Xji/jQJ5p3UTB1q/TKkY1xKQzAXx4Q1LjFjrE07XQEtkZMMPbDgLB6MBDbTUFwy0xDPKMFomm2G0\n",
       "8LPgBD6zxvaI5kAgPoGhLC3CXVSbikpnRQMHqsJ7Ewc6uEypGHcZIJkL4qNYkTOEtT7hdA20REfW\n",
       "/UC70EHBaEADLd4JAy0ORtmYHS0vQBgtebrsKf+DkXEAVgeXZrM/5lpdTZDKIiihLMJdVF8TVeVd\n",
       "TcrXYYFgJbzCVD2Q9/4/+yoQ156ItUifysb1v8epMPWJ5GjZpU6/wMdNVYkRo+HE2M5bzoWWyMi6\n",
       "H8i1VsyiYDSggRb4lIEWziiTHilZCjDn6iq03rrUgpYCLV+fZ2QcgPeQ5ygXcK2k3sNUFkEJZQHV\n",
       "0dFzgvmwK7uoNB9V5+OMr8MCgR8MllTVA1WhOqICcW0y1iJ9Km14EKfC1MnkaDmuNgMffkEONXp9\n",
       "5HKUpSsnFJQvRUtkZN1P4Oi4j4LRgCZajqCR4laQjDIqkiyloQWNLaV/O9FClmt1gRY64VFNDa3I\n",
       "gpSQFuETurImbqk2J9FCe3kuFGjFND2ReCCu7Ym1SJ/KSTY6iFSYuic5Wi7X0KL6z2w41MvaYsIY\n",
       "W/YkXFGzPnsQB6vYxpbNHX1s4YwyWltFlnKgJfeycyYa6IreX00X0z7T0LMGZUFKSAvL8D8SVefP\n",
       "SbSsBn6rai4UqObT3ueBuDYXa5E+lV8wtIhUmDqXHC2Bi8O/PK0tqnOHJ1SjPgduGEYtJ9QQWiIj\n",
       "G37IrUCu18WJbKKl0DXQQhhlrJAiS314/3n7py1oGVhjQcsAzZeMoayG5P33zdNjTKOMI/7Kt7Qg\n",
       "JaSFZWmpymhLLvbnAtko9EX7XdNMpYU8GYidSCIQ0x6PtbCnYnk/wZepsNFBpkLVxwHiX1IQLrxD\n",
       "74WLuQ/vZFGoesNdtadTaKl0hRpCiyOyZ/MD5ZNCJ8FoQBMtAyMGWgijjBbCZCnH2FIYt6CFXeuR\n",
       "pmK9T67iJsuMbEEv1bx/gm5BSkgLrcrFl3EZ+rV5Cm3QKgq0rBd1mBPXhMyE9hp93C4CMW1frIU1\n",
       "FZWBng9LpbRKS4Wq++y5a5p0Ud4wxQjC68na4Vah6g1385sYYZinK1Sc75UtHNnWdIYfqM0LnQSj\n",
       "VTXRUpw30EIYZbQQJks50LK5bUFLaUQs11jv30icznAtT8KP+roFKSEtcJWHXvjnS7jMecRDW2ys\n",
       "kks1hhYSCP7AVVqImZBAjJcmAjHtbbEW9lRoGZKByodmR1NhlDeZClVJIGqicm+DqUkXQw22RiE+\n",
       "XuoI1Wi459mSRKT7vFyhiHz//L47OiiyrekMPzA0LnQSjAY00VI7aaCFCimEyVIOtEw2LGhhv2/x\n",
       "U4kF8VsVVNtBt3zdQvwiRnhsoYLKaPIUXVx1JVpoIDEx7VAmJNDX4WsoENXKI3EWjlRYGf3ywuep\n",
       "lNvlFkqFqixQPWYqki4KzWq7qdqNq0bDvQv2l1C6QjXydUZ+yuaHzMdM3yGqaqKldMKGFlIIk6Uc\n",
       "91uOz9rQcpjQ926XvS8ebVGN3ncky2ZsIR6ZSbRUtBvssozlHtCxwVmJliDQn2oLXD0gTGig8nVf\n",
       "eEgFYhp7ahdl4UgFN4YYoUUqO7/wJR+lQlUWqBh3z1+42AX5m5qq3biqN1x5Hs59GqUrVCNfZ+Sx\n",
       "sJ+h2SO+0A/IVjfQ4v3LghZWCJGlHPdyjzRtaBloQf7aKU7GAcGdoRp7vL2BnDnYYqAlLSw3kWQZ\n",
       "I3Ni/BbyqJ3ydUig0itkcU9UVoiY0ECFxcV5FYhpO2MtHKl44Sw3iFTex/+zBJ4KVXeCvQIOFz+A\n",
       "HGM0sHZjqtFwlS68oaPSlaohrsiy1sjP5OxqoZNgLKCJFnjVghZWCJGlHGg5u2VDS7A8rg2jI5vQ\n",
       "mpruJq2tWUTSa1QZXSgD6DFM39gEDzyqFcpFBdoSa+FIJRc+0IhIhfd63HtsIRe43VwNF0NMckXO\n",
       "WfxU1c8dkGAsYAgtf7fNRMyDJEu50HKlOSO+kX5vN85Ile5KR7W2R1R5ZeKbFakC5VrLlIorUBof\n",
       "7shR6aaJvN2oJguYMyePdzvREv9U8Wf/j0yHvvQgoz2g5S/95suYnNNHS1+WBS39mag/EyVHy5WR\n",
       "y6gWpOJrqULmai/18rDHgEmKtLKJll5WuWdHcaAJeSqX+r8YsdCszkzrIw3rKreE/wTlLkhDRDul\n",
       "5NIe0HIkCi1Pgk7C0jspOcFLI0ZpMmwLm4R1ZWRpzdBB6hI5xhHRTlH5Vw9oOT7tNiPkKY2EpUl+\n",
       "LLzPQfDSiVFY3myJmoR1ZWRpz9CaIsrxtiyCxftbD2iZjDjByDOKarIT8D5xNmOCl3zgcSCVD511\n",
       "dV+cecIMLSS0w1lEi/2pYkK0rIjgwhXAJFA55SjuiYL5osaaVD501tXROPOEGVpIaIUsXg/WX+kB\n",
       "LfkIwsQzYBKokqFF0KxE/9SnloCW3UnR8syS0CLZWVkT/Gpt+t/ijjjv94FJwkKiM6Y0tAialegf\n",
       "gxiF5tDhjhMt65OixZmhi9Qlc4wkop2qMjTfA1pqBrG1OkqFtuNuMElYSHTGlIYWQbMS/WMQo5QU\n",
       "tRfwdbQcTIoWZ4YuUpfMsTaVQbQUxntAS+kVt9lqMPhgeLGkcc10tAialegfQYxShDAuhJrFyV4h\n",
       "tDyRFC0iw/B6zkHqkjnW12QQLbsaPaAlxD5D8h4w+GDBtTAdec7FbDSAB0dH3zE6er7sCcp6QjQq\n",
       "QYzihDDvm9RJk1GzONkL+UCsK7xXE3RAZChmN+ndReqSOUYT0U5Rweyz9Gj5YTxaJB9MO1Ux10wf\n",
       "WyrG2CKIUYoQJu/2+ILsFRpb9iQdW2SG4XXtgntskeysrMnvoBe03D/tXLeImYje5TLRonHNjJlo\n",
       "JDwTUWKUb6LlDk+QvUJomUszE5EMBeVLS9FG6pI5RhPRTlE50RNa8u4bLteAwQfDonHNjFXuuN4/\n",
       "ghilMTHprHGSvJ58uXXd8nhStPAMJeVLS9FG6pI5Wv/nrlNcags9oaW24DRbDwYfTPOBuWay6xTB\n",
       "C/WPIEaFfq+1NH+rIHthXEjWFdqrM76wOc9QUr60FG2kLpmjyDNLov1czxJ+AdX9y0A3gsEH067b\n",
       "ZyzrFkTwQv0jiVFl88HiSx35n66p7kesK7RXZ3yhAyJDQfnSUwyTulSO+ensocX8JbG0aDnivP9N\n",
       "yFMaHyy0jAyNLVR2mCsFQYyShDAknOxl+iiPJJ2JRIaC8qWLg9Sl2FkZk89Bb2gZdI7H5Mmexgdz\n",
       "o0V79iduocrneIIYJQlhSDjZy/QhnxXGPlUUGQrKl45FB6lLsbOyJZWFHtFSuthpR8gsiA8W6ooo\n",
       "rhkWToyyEsIE2csEUfIW4BlKypfWOg5Sl2JnZWzZMtsjWuB0p90m0ElYyWSgZe7RiFEJIZDcNH2G\n",
       "mJ2VLQn9cntqtAw5pyJCniqn/o17C81qe1ofaVhX5SX8Cv9KSENEO3Umoqme0QK3Q1+yIV9c0v84\n",
       "s7j4Kh6Wm/12zIR4+N3S/KJ9xRiSq2ZmDvXbLuNSm5mZgf8AUL0LnMSzZ54AAAAASUVORK5CYII=\n",
       "\" style=\"display:inline;vertical-align:middle;\" /></a><br>"
      ],
      "text/plain": [
       "general_len: forall_{n in NaturalPos} [forall_{f_{1}, f_{2}, ..., f_{n}, i_{1}, i_{2}, ..., i_{n}, j_{1}, j_{2}, ..., j_{n} | ((j_{1} - i_{1} + 1) in Natural), ((j_{2} - i_{2} + 1) in Natural), ..., ((j_{n} - i_{n} + 1) in Natural)} (|(f_{1}(i_{1}), f_{1}(i_{1} + 1), ..., f_{1}(j_{1}), f_{2}(i_{2}), f_{2}(i_{2} + 1), ..., f_{2}(j_{2}), ......, f_{n}(i_{n}), f_{n}(i_{n} + 1), ..., f_{n}(j_{n}))| \\\\  = ((j_{1} - i_{1} + 1) +  (j_{2} - i_{2} + 1) +  ... +  (j_{n} - i_{n} + 1)))]"
      ]
     },
     "execution_count": 16,
     "metadata": {},
     "output_type": "execute_result"
    }
   ],
   "source": [
    "general_len = \\\n",
    "    Forall(n, Forall((f_1_to_n, i_1_to_n, j_1_to_n),\n",
    "                     Equals(Len(f_ik_to_jk__1_to_n),\n",
    "                           range_len_sum).with_wrap_before_operator(),\n",
    "                     conditions=range_len_conditions).with_wrapping(),\n",
    "             domain=NaturalPos)"
   ]
  },
  {
   "cell_type": "code",
   "execution_count": 17,
   "metadata": {},
   "outputs": [
    {
     "data": {
      "text/html": [
       "<strong id=\"len_of_ranges_with_repeated_indices\"><a class=\"ProveItLink\" href=\"proofs/len_of_ranges_with_repeated_indices/thm_proof.ipynb\">len_of_ranges_with_repeated_indices</a> (conjecture without proof):<br></strong> <a class=\"ProveItLink\" href=\"../__pv_it/theorems/dfb1eaf22f2bd8233eee6492239b259bef91e1c80/theorem_expr.ipynb\"><img src=\"data:image/png;base64,iVBORw0KGgoAAAANSUhEUgAABM0AAAAzBAMAAAB20+KxAAAAMFBMVEX///+IiIgiIiIQEBB2dnbu\n",
       "7u5ERETMzMzc3NwyMjK6urpmZmaYmJiqqqpUVFQAAAB6qHgnAAAAAXRSTlMAQObYZgAAAAlwSFlz\n",
       "AAAOxAAADsQBlSsOGwAADThJREFUeNrtnX2MFOUdx397u3P7MvtG0xDIIVzXqhEKOSiCMaKrkSa1\n",
       "cs4lQGK0Hm3DSQiaBRr8o6G3VL20aSOXpm3844pLr2Kb2LoSTJUjzZJGGg4tC9gQqIE1VPnDlx5N\n",
       "L+ApuT4vM8/zzMzzzOy9dO+Wzi9hmXleft9nn/nM8zbz7AH4mrZhgwGBBTZZqxOglvHx8kwV8Yng\n",
       "KjWxbaR4tY6Pb6qHs9KMFTRdCS5WE1v0FvMgOcs5+6d4EqP/Fe1JYkKU24rS0Fj9JYh5+Zlp9fry\n",
       "q/WKEwr2SFtkMnax083BWbJfPIuQcoSq9jQ34Y9EVu7Amdg0VXKJ3UT/2+8VPWPq9eVX6inKNxE5\n",
       "08V+JhOxwRKpNQVnzxTdnL1Ljg+tNQNTefRly7BATKg/YA07ceI2h9MdKHKBj7DNPUQ3Q6iijG64\n",
       "OtSb3ad40vLhrs5PzuECdhkkxwI3Z/C1puDsK+DiTCNNXOTyGjPwEVzAPMTFCU3nTvNGJYm/ap/7\n",
       "fPQiShr3nv/Y3UMIufmlMrrR6n7Gs3sXT1Y+ePzNUfCVc7iA+TQHkXFwdsZoAs6SHW7OdHKvhc9v\n",
       "NgOPmEnFGfGaA2bF6sKNmbCOFxmO5G5zuQc44RXtr/4KTJu6n/Hs3sWT105o1F9O4uKEJePgLF5u\n",
       "As7CeTdnYXL4KrtDLRTvEOpslDkQcqeywpUWk0vM7R7Chle0r/opmDZ1P+PZvYsnrx3CmbeczEXY\n",
       "+loOzhLXmoCzRYabs3Pk8H5WP9ZMYUBI124dnVNyNuAp7HYP8YpXtK+6nbMpqfvZ/VBf8eS1Qzjz\n",
       "lpO5IDkG3JzBvibgbBm4OTuEj/624iOr4UZNXhfuHjp5b3tpmdVPoMRaW0XGWaeXrt09dC0UZk6T\n",
       "VLdzNhV1P+PZfYonrx3CmaecwwVoc2pmjk4JZxeNWc9Z9KqEM3prXhHvo/wgOjjO02XYPB4ljiQ6\n",
       "ZJwd91S2uYdyuGJfYpmEup2zKan72RWor3jy2iGcecvZXYAOd5s5jks4687Oes7SHRLOlpLFQETg\n",
       "Y6QuWqoQrb6JJzY83d4CaLRmUeLder+MszOeq5uiewgVM+gz1SFGaw98aqjV13d+4FS3c+anzt27\n",
       "1f0sxu9ORfEsk9YO4cxbzu4C5sF1M8cZCWet7bOes3BNwtldpFZGIDqHfIFwCTRYjg56haYaYPuX\n",
       "yBFKbIRxDeq53M0rcrkau9K9XsI298g/bvujI2K0Dnq7Wr0MB23qB3O5r+dyy6Bude7ere5nKZ5U\n",
       "UTzLpLVDOPOWs7sAIzVq5uiVcJa8Nus5662oOMMj0RQDAX9PGLQPhE+zarhoyNqzQb+BLncPhJpE\n",
       "hxidKZFmQ6E+Rm95Ud3envmpC+5d6r7LZ+0iZ9LKESBx1Q7hzFvO4YLcEyTHoIQz7YtZz9mioqrf\n",
       "bK1ZIOCuJV4z+JM0ZE8xznDifZqMs9Newnb3dC0z1S5GJw0CgkL9LcqZqG7nzE9dcO9S9zOc/cj2\n",
       "No/KOfHXOWVl7dB+01PO4QKvBNMcpyWcwT2znrPvgYSz75AbNWvVRSs66i6hL3oMn9Gbczm7kiix\n",
       "NhaRcSYkt9194HYPsTGrpng0bTZs6uYVW85ueVHdzpmvOnfvUlcby/7YYCVcVFaONnw33KmsHToP\n",
       "UMjJXKDxWsnMcUzG2XdnPWerZJx1Wt+MgoDn072xijnD/gysC0M568QDh585avLhIgjJu/vND37m\n",
       "cA/JEWuNgUeT55R2dRpJ1On7MKI646w+de7eoc7SeWV/bj5kDGXlxLr6YVRZO5FrajmpC4CTVo5D\n",
       "Ms4eNjkjo7/3fDhLk7JUGoqZ9rmMsx3WSJSCEEWf6bfRwWJ8ljOsgTDlDCf+2LFC9Om9+ypC8hbc\n",
       "/pOPJfjgFrd7SG+ybjYeHdvsUqeRRL3PcKpbnNWpzt071ZfYMiiyv09HZIrKSWfp+EtWO+lLn32s\n",
       "lJO7gA+tAi6WcXayRDk7jE9e8OFMx4njxcYun12RcdaCRz5/5mOI28zZPDlL4XrQa4yzloJkxduR\n",
       "3G5/B7d70pH9yB79U/ixS51EYvVYOVZ0qJ+CCakL7p3qHsayr4ahqLpywgW9XPCqHaWc3MVyMweR\n",
       "cXHWm6Wc/RCn2OTDWRRfu77Gdpup6zLOkmVI1X7NQTAf+dIHuniwcSFeZZyJD5ATYmvMkzsMD2nt\n",
       "7tPVk7h2j9iiY088/bpLPW+p9z39A8Oh/gpMRJ27d6p7Gss+AredVVfOXmjZXfCqHaWczMUnyVEz\n",
       "B5FxcdZdppzhtzkiVb/xGX7vY11jOUtelXEGW6BlMxowxL75H3ILttJGlt4DXejfrfhlmGdfvA9o\n",
       "Yrnx5I6+Gvl0uO+tLmV3IosOj4+PONVxJFW/d3x8aurcvVPdc6BhZU/U4MsVdeX8EUIPeZZPKSdx\n",
       "Eb2OZ7UkRx/IOMvUKGdJVKK47zwA9/L9jeUsdE3K2UZItgkduLZJqDJcM0ffELJsVPjmyR2auE7s\n",
       "7vW2ErtikmjuDkf+z9U9K8yZ3adylOVTyslcvHbYyrFFztkmc765Ipdb6ctZOJe7Od9YziKjznok\n",
       "44mY4/rsIVGKoWNM3gSE6h9p7qH/zfOKnjH1+vIr9RTlm4ic6WIekwkVHCnC/SZnfwLYLO/sBc70\n",
       "ArROaBOnRr8cUdXNAVfRPBfiQXFr41yjEFjzW0u7ydnzEKtJ4ss2zlCS5/Hxo+wVT23IvcwhhEWy\n",
       "fDrYSoOG+QyIxQN55K1b85xDpeQ9Vor0SHCRbgTOOkzOWg1bnxpb8iD8pebkDDV5D+LjbS+zTny4\n",
       "4O7YJWGMM60mZRk/8k6gxjO6sKeUqq2F1wPObkzOUlk+Ddj+4Va4EDF0w8XZKToN4H1ZRtKNZuRd\n",
       "K+VML7kiyDAVL0Gg6ewQQjR1VOf9ddBv3lj9JvQfZZcWjdXgvWw5At8aWjJUEjmLJ3FHd2GltQKS\n",
       "uuRe5hDCEgtJE9ZW5Zy1sHMWzzhbR/dypXb/Lss4i1zzKn6xjhDF0BUmtFU3sKkZmwfAOtSa0Ef8\n",
       "ZAfe2fN7Iq7xGUTOGWB7HnpM4pOHdZGmTadvqFPOfsLOWTzj7B90jp0qrD3POAtd9ZrDV/1DFIb3\n",
       "s05gq25gU+SsZnHzDDoij/jpcsvZyLd/6+YsRsbnOg8dkvjkYc+RBfkNkTLn7AA7Z/GMswN0wTxV\n",
       "0EOM5KQXZ+/KQ3Y5Ou6QcwebtU13QQBAgyxTtjhLo5ERecRPHz6chfJcN2dwmRBTMR/xohkBJE4d\n",
       "dvjcxg/JGyPmxhnK2QV6vqsHWRHF6z09q3q2Uc52wXEUWk0VtDxbDU6Neaya9MtD5jsHB3l7IrZN\n",
       "Nx780laDrDtv6wfxI/7kr3p6nkScrccTg7yDM9oIFmC3+RswqyEM3Q6fq/kVHSUzz0yRc7aLnbN4\n",
       "od/8Pm3P4A+sR4t+oS68XvEPEc21TTdZDghojFnP0RkiQ9FonrZniVP2RoFz1o0uE+JsPQYFDaZ3\n",
       "gpZHJ+SDhiUPv5PH8an+MgpFCWzzAPMcE9VfFjmbQ1eBkyUI8dWPzz06/TpCRHNv070jIKAxdrEq\n",
       "ckYf8ZMucRhgoYozzAnibGcVonhZZCtE18DOYvRO9EHDUnOhHcdr7xdRlOmIcoafgTHHKN7kjDzy\n",
       "3gIx/It6O14A4Jzdri78uTpC1JwNgN9W3cCmzcjb94wz+oi/D3Vm0duL9LVGGWcnKGdQJR2Pjpe8\n",
       "WBwNuxzrJ8dAogYEzvBi7IBk/Qzo8971PT2OBbZL6sLjNzf3f/Ds3KwthOxYFa3riJSzTvDZqhvY\n",
       "9Nm/AFzvbWvf6NkqWWlj1//Jy5SzhNF6ATG2NgTwElsuoGHtoWEDHeOQl+IvdwicwRvWOTNrkKRL\n",
       "175OOsbqB3PYyPY0zGv+qazGl9jYjlXR8oNSzo6D31bdwKbNVkk4kxvn7D7UfmxfiRouiMxBc7bx\n",
       "fwOw4TcN02qph/AxtoreZoicRR5tU8zyhuUjSPWK2FLEdelWcU8s27EqGN0k6+bsDPhs1Q1s2ix2\n",
       "ZRKcTVbL/F+5liCPcO4TFuwuRLQ2Rjcn0t0RbMcqaD8n7V4BzE2y8m26vQECDbEm2Cesd3hxhvdD\n",
       "pMmi2RIrhO7iFiw1Km3PBsFnq25g02bp9lnPWWJMOT7DvSSCLFMxxH4TWvL2HGSTrJuz0+CzVTew\n",
       "abPM7P8dF9pQSQ0/bQjn4aKRF0Po1kfByCZZN2fHQP54NrDpt5Oz/3epXBNObnhVYm8B5icLYgjZ\n",
       "sWqbScQqDs7YNt1DAQINMTosbqrfDRUM70/9DcDj79hCyI5V2+Dgbcf4jG/TXRwg0JCxTzP8bmhS\n",
       "+aZjS0EaslyV3rVNN9YeMNAIa601AWfwCyWBZUnIJ2ouXdt0vR+7BzZd9moz/K477CyqYtxbXM0d\n",
       "q3VYHzR8b/3/rS2FZuAspCzeRknIa4fr87oF1FuxA5tWa5K/u2P/O2K2MVbWP0QFb3FCW3UDm4L9\n",
       "HibC2Vsz9nde49XgWjWxRekf8NE2dNXFWfB3XgOblD3C/87rfwHm6F3v1NKBhQAAAABJRU5ErkJg\n",
       "gg==\n",
       "\" style=\"display:inline;vertical-align:middle;\" /></a><br>"
      ],
      "text/plain": [
       "len_of_ranges_with_repeated_indices: forall_{n in NaturalPos} [forall_{f_{1}, f_{2}, ..., f_{n}, i, j | (j - i + 1) in Natural} (|(f_{1}(i), f_{1}(i + 1), ..., f_{1}(j), f_{2}(i), f_{2}(i + 1), ..., f_{2}(j), ......, f_{n}(i), f_{n}(i + 1), ..., f_{n}(j))| \\\\  = (n * (j - i + 1)))]"
      ]
     },
     "execution_count": 17,
     "metadata": {},
     "output_type": "execute_result"
    }
   ],
   "source": [
    "len_of_ranges_with_repeated_indices = \\\n",
    "    Forall(n, Forall((f_1_to_n, i, j),\n",
    "                     Equals(Len(f_i_to_j__1_to_n),\n",
    "                           Mult(n, i_to_j_len)).with_wrap_before_operator(),\n",
    "                     condition=InSet(i_to_j_len, Natural)),\n",
    "          domain=NaturalPos)"
   ]
  },
  {
   "cell_type": "code",
   "execution_count": 18,
   "metadata": {},
   "outputs": [
    {
     "data": {
      "text/html": [
       "<strong id=\"len_of_ranges_with_repeated_indices_from_1\"><a class=\"ProveItLink\" href=\"proofs/len_of_ranges_with_repeated_indices_from_1/thm_proof.ipynb\">len_of_ranges_with_repeated_indices_from_1</a> (conjecture without proof):<br></strong> <a class=\"ProveItLink\" href=\"../__pv_it/theorems/198693f14566b09671f5b876974d1127ea3f42500/theorem_expr.ipynb\"><img src=\"data:image/png;base64,iVBORw0KGgoAAAANSUhEUgAABCoAAAAzBAMAAACj7fS5AAAAMFBMVEX///+IiIgiIiIQEBB2dnbu\n",
       "7u5ERETMzMzc3NwyMjK6urpmZmaYmJiqqqpUVFQAAAB6qHgnAAAAAXRSTlMAQObYZgAAAAlwSFlz\n",
       "AAAOxAAADsQBlSsOGwAACpNJREFUeNrtXX2MXFUVP/Pxdj7f7NRolWDpuqQ02NAspLVIrAwETKxQ\n",
       "pknXhIjuVtOWNFCmrAkxBncq0JiQ0PnDGhNRBuvHfzIhGKS7MUMMNXYFplXSQEw7WLF/kJCtYdu6\n",
       "qOP9ePe+e9+9771503l5S3i/P2bu3HP2nPPe+c39fHcWwBfG5GQVYnxkMDk52YdWstdrheN/b5yC\n",
       "FQRjN31/qHexH1Y0Qwqj1I5TsZLwMOsSjkfJin+IH7L0rS6rZKU3FXVvsYrslZgbsjdf+PkLHI8Q\n",
       "UF293ebYCmBFsSF+ShMviY6ss4a+5ct6E5a6m1iDNVdgbsjefOHnL3g8QkDPks/bJOn2FcCKx+oq\n",
       "K/5KyoU7rLbMrFgN26dFVS7G6k++tNch1uCFO8E2mGh5mAvdmx9sd37hBI9HDCjRVlmRbEfPis+A\n",
       "wgqDNh/bZ6wm415U9e4z6DbkxFkQFyP17DTc05TFKtLntwI3CMmKu7nwvfmBu/MLZ4B4pICOqKww\n",
       "N0fOiuKEyooCJevWX1nXOY9f1qIPRXEWxMVIvVSH1IQsVpF6yxpeU4Me5sL35gfuzi+cAeKRAlpQ\n",
       "WQE/iZwVqYrKihTtKJdY5QRjBWy2NW0xUk8tQemyJNbguapk0MNc6N78YLvzC2eAeKSAUlWVFc/V\n",
       "o2bF2qrKijdpkY2FzQZXfFrQZGKsXhqD0iVJrMHtIBn0MBe6Nz/Y7vzCCR6PHFCurbIi142aFRtB\n",
       "ZcULpH07t9FqEgsVfmO22z0PF1N1SC6KYg1eu+ldsA3umPc0F643327VducXTvB45IDSXZUV5lLE\n",
       "rMhc0rCCkn6UTbUInemN+ZOtycWW+mxZEmtwAQSDlaOe5kL25gfbnV84weORAyILAw5WGBciZkVp\n",
       "QsOKG0jxcA0McqHJDr8xf7E1udhS3yiLNUs3iID3NSyDmc5Lirmd29/h5jTeRHFf3ow73qu6ePMD\n",
       "csfgFo4k7+/qWSbFgMwJlRXwzYhZkepqWHELKZ4FOPAxotPkN2bW1uRiql6YlsUqzEXIrBqzDBpw\n",
       "o2KuBc9zcxpvorgvbwUojLl488NZu+gWjiTvKx5+z8WAMosaVrxej5YVs21XVuDh0SkHK47Ko6dT\n",
       "9n15DWSxfgRnMlbQvlM2t0y/gre4eBPFfXkbbZIvqM6bH27XseKou7y/q7dZYQeU17UVU+1oWbG2\n",
       "7tqD7GdpF3qQU7YmFxN1swI/kMQqRrqMFdhgrlt1mnuFpv0GF2+CuD9vxSphhc6bH5C7hT+uaoFH\n",
       "OKK8z3jmD1ytXD65I9u0LXh0rPgWaFixixRvZDdipMxvDA7UAFlM1L8N8AnrOtQlPlqTKjNWYINT\n",
       "zYpijn4Fd0nerD+WxZ7eDO6NfkF13tzB3BknvgA3e4QjyfuL576j7VTdGVBxWsOKkbFoWfE5HSvI\n",
       "FCu7zNJOJk9wT92ahk01ZDFWz26YmxujYuPflo5cQCO0JmMFNjibbSvmMuuAeefe6B/LYk9vlkHs\n",
       "jW5Kq97U6ByxInfZHQ1Y8ghHlDvj0QSF43niKhhVAiLTficr0ouUFeTG/82HFSUybGkPkRTGBzpW\n",
       "PMyHRyTtGZzK9279GXL8WRzIOlmM1ZO9Xq9BxTCOrjyJG9cNYBXGq2yERlmBDZb+DIq5Q1XLnOCN\n",
       "/rEs9vZGDWJv2d16b7I+Ljhixe5KZdLlu4YjyJ3xyLbteN6mQw85oKaGFcVlyopj+O3HPqwoYAu5\n",
       "+jCXKy7oWJHE/Xehy9O+nk+vSFLfAFmcrEliU2lEac3vOSuYQYe5bCtbdzHnI5bxBvP2JO7tdd68\n",
       "5grMXapWaNU8wvGSu8SzBeYyzoC+r9kHsdJyHL6HtaZ9WJHBmTg0zA7E/K+OFXjb5kyuw9O+wFfl\n",
       "SDuF2zxRzLeFqDitjr+xp+5PbVYsaM0deuS7Vb05H7EDFctbdu8jv9V685wrMHeHIflozSMcD7lb\n",
       "PIuw/rQzoHkdK2gTfpzsqqY7fuMKvO169zBZUbykYwXcD3Ad3u59/JnbyOCHNU+EkQYex4lirG6L\n",
       "YYfiBdckd6M2Nvvl98uCQYe5W3s9F3M+YsctLVveUr3eotabF7i730DiLq9wPOQu8eS78PG2IyDa\n",
       "EjhZAf+jrCgi9ZzvaBN3Ro1hsiJxWcuKrwK8/DvhulgjRm5AAr+IYqwu3B/1vuOa4tV1xWDf5gJ5\n",
       "S/h684Lizi+c4PGIAVGCKKy4aM1Bbhof3+TLitT4+LWVYbIiveS8BNJLZh3XdtASugxpLPVE/yOe\n",
       "g1dgbsjefOHnL3g8QkCfIp8/6VT4vMWKFwF2g7ZPElhRqMFIoEMhBgm1JZRlFJYgxgrEuMWKpyDb\n",
       "1YhbEiuQylO4/LV5nvY5daIq1KUJj6eFMppcb4M/MFelxTgDKxHXWqwYqabFZSqWO5kVqDkhXdAD\n",
       "v+arYCdq6uKqs86e2xz45z44k64WqjErPhSsMMs5Xe4crDhJB5t2uz+q6VCUOs6Kwot4razcSsc9\n",
       "yIejB4HGy2ruvjK3Ya4psiJXxN3AmU1sDmueUyeqQl3+GpsVuEweTj/91kHOivRlz3FWX1Uxhg82\n",
       "2oS7j4C1qybmztFWpN8kCzl2l6DbQbHrdtBmY9oq0xnR6fTXf8GnHJe8YlujVg181iZGEHyR5fEx\n",
       "NIogu2pS7hysyBL1gl07pzFp1z1xym4rUDlPRqGnobXadRVLanSUSXDQszYxBsQHjBUlNEQku2pS\n",
       "7hysgPNkONm2Nn7QuBPyJ485TD5gF3cJ44pdUPzRnj0PIss7+RDGXPYI7V51zSTgWZsYg8F4X2rz\n",
       "8a6alLuKgxUEqRo8uo4Wt0AKphw2t9jWl2qcFaicqVC+5U8yhcx/PGKb11UWW3HSQgfbHeMJncuo\n",
       "uXOyYgp9XxErduJUo/HfDBgV9IG80LrisVcrWG42WpwVuEwamBMA18hNlQsmtLWb46SFDrppyVhB\n",
       "d9XU3DlYMQOEFTMdyODM7YPMVpipZ25GL7TOXA1jWG68XbfbClQ+hJqOzPV1+qAGwfUeoel3XJ6O\n",
       "kxY66PYUYwXdVVNz52DFAmUFdEh7XkDqJpfRuvPZBik71iuML+3ZJ/s/5x4afkro2XceX23POgKe\n",
       "tYkxKEqL6vxSzZ3MigfPU1bkqyNnECPuTAD8ks8cad1Y4kQVlZ2sUPG6Y/D4/DgGOVBGDrPsLxv2\n",
       "kkbQszYxBkRq2m3VwZ0Vt6Fv74FNqFGA9CqUvN6/ANp8MEjqjK55Fy77s2LW/ZmOZAfyzeuE4y2B\n",
       "z9rEGBCHy8FZERh1D1Z23UVNMIxlenKBPqQa9KxNjAER9SmhwoQXK/BjqyUy6CSPvAY9axNjQPwd\n",
       "omVFftl1XIEPsyBKjLb50CPoWZsYAyLq08e0EdACH2ZJVeBstcLXSdjRlhihohj1LxUokxAb+DDL\n",
       "4RpcVeRPa/CjLTFCRbIbNSscv4AkAB9m+TnAN161p9HsaEuMUBH9LyAV3Z+7Wa+rpGdhYoSJ/RA1\n",
       "K+CHrpIF7aSlHWctZLCfYouSFTOuqxkjOsmhOGuhDys60bMiMe0mMXSS++OshY2V8IvN8q+7Szio\n",
       "4VA9zlrYHUgjCCteCem/xuQ6cSZWEr5D0zw5ubofVsT/NeYjAeMIfX+od/H/PLbd+q8f7HIAAAAA\n",
       "SUVORK5CYII=\n",
       "\" style=\"display:inline;vertical-align:middle;\" /></a><br>"
      ],
      "text/plain": [
       "len_of_ranges_with_repeated_indices_from_1: forall_{n in NaturalPos} [forall_{f_{1}, f_{2}, ..., f_{n}, i | i in Natural} (|(f_{1}(1), f_{1}(2), ..., f_{1}(i), f_{2}(1), f_{2}(2), ..., f_{2}(i), ......, f_{n}(1), f_{n}(2), ..., f_{n}(i))| \\\\  = (n * i))]"
      ]
     },
     "execution_count": 18,
     "metadata": {},
     "output_type": "execute_result"
    }
   ],
   "source": [
    "len_of_ranges_with_repeated_indices_from_1 = \\\n",
    "    Forall(n, Forall((f_1_to_n, i),\n",
    "                     Equals(Len(f_1_to_i__1_to_n),\n",
    "                           Mult(n, i)).with_wrap_before_operator(),\n",
    "                     condition=InSet(i, Natural)),\n",
    "          domain=NaturalPos)"
   ]
  },
  {
   "cell_type": "code",
   "execution_count": 19,
   "metadata": {},
   "outputs": [
    {
     "data": {
      "text/html": [
       "<strong id=\"len_of_empty_range_of_ranges\"><a class=\"ProveItLink\" href=\"proofs/len_of_empty_range_of_ranges/thm_proof.ipynb\">len_of_empty_range_of_ranges</a> (conjecture without proof):<br></strong> <a class=\"ProveItLink\" href=\"../__pv_it/theorems/77f0f23903e1279a5d673a4bc5680679eb65e2ea0/theorem_expr.ipynb\"><img src=\"data:image/png;base64,iVBORw0KGgoAAAANSUhEUgAABz0AAAAzBAMAAAD/fQgpAAAAMFBMVEX///+IiIgiIiIQEBB2dnbu\n",
       "7u5ERETMzMzc3NwyMjK6urpmZmaYmJiqqqpUVFQAAAB6qHgnAAAAAXRSTlMAQObYZgAAAAlwSFlz\n",
       "AAAOxAAADsQBlSsOGwAADrRJREFUeNrtXX+MXEUd/+7tvtvf28UoOVJazgVBIJADC0QDuCXAHxjq\n",
       "XkIRovTOHy0NgeaghsQ/tK+A/YvQ+8Ma4g+4WsREiT1IjYKVLBJLaNUuIKlFQhdBSAOaa+LZUorn\n",
       "m5k3b2fe9zvvve1tsyY7n2Ta2e+b+f6a+bw3b/btO4Dew1m9ugEWFhb/lzwaWliYjW91ux0ACwuK\n",
       "l2vF/8MLC5OnhJ8zCRpVmnYgLCwo3CMvm6X+8fNt9UNO/OcqIpfu5mp9clSTHN0zF6fbTRZdDhLp\n",
       "zy3CRHTDbgPvrmEOFqM6cYDxPrgnM/Vcs8yoNGqkTkE2cspBN2ikqSyP9p2fpWn1U4b3SLU6ErUO\n",
       "pLhQFQVhGW1REW8nG2xPFt0ySKSfcs0QVJcNuw28u4akZoP05ANM4MP2k5h5lH0pMypdBjGdepuN\n",
       "Zcok2R64lNE4s6rv/Lzfxfz8C6/vuq5TV4OdDYvP9EuA4rVsXVCuh7suhZA4hdbW2U9RUh0m9XBv\n",
       "g9KvuWYICq9ohLPRDRMHrkZnSAWtPYlUR/IAs2uT+RA3HAns67nESnmnkCehedbDbIQCZ67IEubn\n",
       "ULPf/PwkIH46/JKaefeqoK4prYfF+YYonbPORnbCuhXZOgfC4m2hFmueniekIZjUwxmkftU1U1By\n",
       "Q+C9RxuqszENEweuRWdIBak9XhpCFwGmphP6sK2LKUfb13OJlIpOt0bOsx5mIxz4NqWE+Fm+rM/8\n",
       "LI1hfhb5SSP92tqgji9hqrg0K0qAqx5nadtNW9TE++RCRepLzStSAyLVY/2qa6agnpCVsxrGMHHD\n",
       "pIHr0Rlc1RpK7bTNCHQZIOEDtraviylnnjUdGVIqOu2G2E69yoYe+D6lhPgJP+wzP9N1zM80r+7k\n",
       "A5k2dNM+XeYXOcvELByju2ritD9bylV1Bqcjz4rR6gn9imumoF6ip29cw4SB69EZXNUanqX6jW2a\n",
       "0WWAhA/YWrqLL//MsyatzxdVqeg0Ft+pV9nQzTFXZAnzc6fbX36Ghot7d5BXr+H/HqS76eIf+UUq\n",
       "4bteZXqNpYvzTWoG5yPveCLVU/oV10xBGaZvXMOEgRv4GdEw0E7bNKPLAAkfsLV8Fzeg5llzUJ8v\n",
       "qtJrjAMa6tSrbOjmmCuyhPmZb/eXnxcD5ucuVvvzpe+BqBeW37Lyq9lr7xAtxndj8Splp8uL5a2L\n",
       "2aqj6F2Zt//jgdOr37xeuOEsbSJxpk3NYCmlV+QG9eCc1qb1d1wzBYWnr3A2rmGywDE/qVRgfq4y\n",
       "2jQieYAwvhxIH7C1yOGItE/lEisVnZgnSid9nvUkG3TgwhVZwvwsz/eVn9mjBD/FOemIPGtlht+E\n",
       "ib3wimhR34HFL/rFx5KqPCvVN1SdEzNlsZTIFMaQWH67o8/g0nSUzwb1UIQraf2Ka4ag8PQVzsY1\n",
       "TBY45ieVCszPF402zUgcIMymm6QP2Fr0cETZd4lculjpEZk2pZM+z9xeZMOlAj8mXJElzE/nSF/5\n",
       "WRkj+HkRq+UEc736z4cmYWsV9gtCt57G4lf84mPrFDfegsLMuZA7AqU5Lv52cRqJ6RlcHovy2aAe\n",
       "RuAjWn/HNUNQxPQVzsY1TBY45ieVCszPV4w2jUgeYMpd0iJ9wNaihyPK/hSRyymkVHTyPFE6hebZ\n",
       "VC+yMUUFflS4IkuYn/C1vvIz3Sb4+Tk+VcRwefXGxAwcasDT4nwCl2DxJr/4OCRUz4DjHGcLhKI4\n",
       "VTbSVSTOMivFWu3sS2u1djCDs3NRPhvUQ4OvRQj9HdfooJ6q1T5Tq12sTV/hbFzDJIGj6Ayp0BoG\n",
       "2mmbRiQP0GFHkQ+ktejhiLZP5TKsVHTyPFE6oXnWk2yQgXNXZEH83O/2k5+bmiZ+ir0OXvemnTfM\n",
       "K9QFuS7e4Rftrpzl20uQN+xyj1jmRREXyOtnYSz+ph+rh+IorX9HaAMHB0Us/7izcQ0TBo73h4hU\n",
       "4OvnDqPNmL2zRAHCU7Sz2Foh+fVTt3+YyOVhrFR0Yp4onbR5drgX2ThMBV6ZFq7Igvg50ewnP89y\n",
       "Tevb4bZcG7DAzoHCMcff0Gog8csgio8NINcrXvRDddjpijnxiIPE8gHH0Pp2NMpnk3pWJ/V3XDMF\n",
       "RUxf7mxcw4SBY34SqcD8fBlMNo3oIkDxiAT2AVuLHo4I+yccnMsTDlIqOjFPlE7aPJOdFpUN6Y0W\n",
       "+JKmmCSyIH6KFWa/+Pl1IPjJN7rSYqqw+grwFgKV6QeBJWRiph4Wwx4QBcQIXyKSU+XfrnoLi8O5\n",
       "JkuNczwTFgdxh/aHJvk6BCFSvXf7N0Pr3xNoo4LCg94InI1pmCBwHJ0pFZife8BkE/A3kt0GCLnj\n",
       "tLPYGk9i3HeghP3yfAblksnCSkUn5onSSZ1nQafFZEMq1gM/1KhzV2RB/Bwe7Sc/L6f4uSqY7Lzu\n",
       "3UKX5mC4Xnc+YCtiPoyqWHwhwwpv4MfPd6u9W/L9AN/IwAS/F3wwLOa73NrEzBzz9755F64wqESr\n",
       "B7EXQujf5SshgwoN+hddYUY4G90wSeA4OlMqtIaBdtpmkBc9S90E6O8HYR+wNZZEg8XOuBD2U9Mv\n",
       "oFx6spBS2Yl5onRS51nQKSYbupMGb/TAzyhNcVdkQfzMzPn85NfR13vNzwofdtMXzM6HFD/v6ex1\n",
       "sHphlD2rXHjShZp3/qn8EYnhAhCFN5B35VnvxPMT/mj0L0ZgiD0Y/n4zLA7OIHJiVt764H1fyrtc\n",
       "yCqzfiVGPbwDtP4LpDYyKG3Q//X5R5rCDHc2pmGCwHF0plSoDTvaaZvcHs9LkJyuA6xM0s5iazyJ\n",
       "hMVgXAz2nfdbKJdMpiuVnZgnSid1ngWd4rIRuBXljRb4mj8JV2RB/Cwd9/n5DPv/4V7zs8jM5V3T\n",
       "159HKH4OsY3oZ30VU+p+WLCQ0MS5UVH8BkV/T/g8VfGrQU0T3wehC4cifRXvx0Wrv4TWL1zjLaig\n",
       "9JNyRJi4YZLAcXSGVKCGuVGTTdVFXW0XAfqLv/NiIxTDUY5b4NL2qVyGlT4bzoax02KzQQd+n1IQ\n",
       "PwVFPH5+h5mb7DU/s2zObDFuQH9E8bM0C+X2j/3Th/oAcqZzVlHF7Plj8Qwya/BG3v+1nfZYdT2o\n",
       "aWL5kHKhiaV1vB8Xpf6fpXlav3DNa0EHxfEExIeJGyYJHEdnSAVqGDzWjWyqLqpquwiw0trfoH3A\n",
       "1nYbLCaxT+VSVxp02gexnRabDTrw3UpB/BRLTI+f7KcymVav+cl/NHOjqUHpKMVPWA9Da+XjHeuV\n",
       "o+OdqireEpwCWINz5Q93hpWrttO5MKhi+nwkpA7+7W2U+uxHQy1a/xapjQ4KSDOJGiYInLinoFNB\n",
       "azdJx0m1XQS4qXVRUh/EcIzH7Q/R9qlc6kqDTh1PTJ0WnQ0ycOaKLJif8F+fnyXvVJDv/f4QW8Yb\n",
       "n89KHSP5eTOUlkrvb1aOKoxRxeuDFLAGz/1G5kghX0pJnSKmJ4eQpvCBSPVPPmPQv162oIOizSRq\n",
       "mCBwIud0KmjtJmmVVNtFgMWlM0l9EMMR96YCg30ql7rSoFPHE1OnRWeDDJy5IgvBz//I/dtLa7UV\n",
       "vednulY7u25qkJkPx8WX6jkl4Bw9MIo45YqCsJk2qohHyAYjyaLbDIn0U67lqgkzGNmw28C7a0hq\n",
       "NkhPPsAEPoycxMyj7EuZUelmiOnU22xsVibJSOBSKnzr/lnJz18DrI0x5C+k/xpxxg/zszgFw53b\n",
       "51vEPW+wfJ8HCwuLCNQkPx+CXJum/4U3wPP8kLgkl7RLsPMi++mGkZ+ezodY/cv87nelvqFVmbP5\n",
       "t7CIwtmSn8MNtPb1cPc7d8AbmUax0eHnGu16evfHAAp1Iz+9a/INrH7nz4gGlp8WFgn5Wa4S20NF\n",
       "b9ULr1dnxRay4OczwVH+mT2CuM3Mz5fE9hC5krXrWwuLhOtbmH7Oq+y+e3lqD1t/erWl/gsED7y2\n",
       "WeXnqH9M4WfwDcq+F05rn3m7ys98id2dvrGCffuwna+Sx38nW2eO2fxbWEQh2B+CG72r4Fd2NNPt\n",
       "FKMRq7liE/hA5rbHOvzMTYtjKj//BsV1Hu509l4JV8NylZ+Zgw1pwKny6+Vs8EKW1FGbfwuLKFwd\n",
       "8PN+j5bfPQOWTPEHdVmtIR4oOQCzp3f4WZgUx1R+Pu4ry41Pw9HgUWLOzxw3UGS3qrnbRhlLG1+Q\n",
       "tktR/Lw2+P7IwmJg8WHAzwpb1r4JG8VP4bzaDih9f926uzx+3pTv8LPcFse8K+bl6+4U/LxXaqtU\n",
       "s2NwkcpPeJf9M8yJPiy+iAleelY+bvYr33I+bUfHYsDh/DvgJ8cVcDpszYrab7PZurh+Fl7q8DM7\n",
       "KY5R61tIT6Umc3NTKj850lw08SX+IbjrzJ4wO/Z7gOvt8FgMOILn4/0F6px3bdxThJtY7bwD4omF\n",
       "veDfUopWo/4xhZ+nSXVbvStoaXIW8XOiAU4dDjLFkB3TL940NoB8Y4uFxcBC/IQk4GehDQ/DQ5+A\n",
       "jS2v9vEmbPGue9nzXfE7Tp+f60EcE58feHSl8nTiLyHv5t5sIH5u9NRcBWtGPMXAt58Ezo9cd29q\n",
       "2fGxGGyIR9Tx+xN8ajjXr7ujIxStHgt9Nj7krPCT/Zqm7CtWXt39lnnd/SF+e5iFxaChMkfys0Au\n",
       "LUWrois/yx+2dSQGft7FNol+KhT/YGOnxf6QmadqDOz9hTnvvnhT1Y6PxWAjPUnyswRmfsJ1Yfle\n",
       "iOHnSsa0plD85K86LcwrWM7Puh0fi8HG1iq9viXhXybRq+0acfw0nh3axvWtx8+d9vppMeDo7/up\n",
       "i+ZXD3v3n4fs/pDFgOPv0E9+Fo6b7j9hHb47tbAYNPT37yOJ9yOSeB78P7liYTGwKPX37wtGXCKH\n",
       "Ws4VdnwsBhtD7f7yM/T37RU4u5ZP2fGxGGz0++/bl+wvtC0sjNgA/eUnfM+OgYWFAYX5fvNzo2tH\n",
       "wcLCwKBWv/mZmrSjYGFBYxX0m5/wth0FCwt6eTt9avn5h9XxTxjk7UNCFhYkviXo46wePzX8XFiY\n",
       "jW91ux0HCwsCjv/a2uGFhcn/AQ/LTLw5iDl+AAAAAElFTkSuQmCC\n",
       "\" style=\"display:inline;vertical-align:middle;\" /></a><br>"
      ],
      "text/plain": [
       "len_of_empty_range_of_ranges: forall_{m, n in Natural | (n + 1) = m} [forall_{f, i, j} (|(f(m, i(m)), f(m, i(m) + 1), ..., f(m, j(m)), f(m + 1, i(m + 1)), f(m + 1, i(m + 1) + 1), ..., f(m + 1, j(m + 1)), ......, f(n, i(n)), f(n, i(n) + 1), ..., f(n, j(n)))| \\\\  = 0)]"
      ]
     },
     "execution_count": 19,
     "metadata": {},
     "output_type": "execute_result"
    }
   ],
   "source": [
    "len_of_empty_range_of_ranges = Forall((m, n), Forall((f, i, j),\n",
    "                                                  Equals(Len(general_range_of_ranges),\n",
    "                                                         zero).with_wrap_before_operator()),\n",
    "                                domain=Natural, condition=Equals(Add(n, one), m))"
   ]
  },
  {
   "cell_type": "code",
   "execution_count": null,
   "metadata": {},
   "outputs": [],
   "source": []
  },
  {
   "cell_type": "code",
   "execution_count": 20,
   "metadata": {},
   "outputs": [
    {
     "data": {
      "text/html": [
       "<strong id=\"n_repeats_reduction\"><a class=\"ProveItLink\" href=\"proofs/n_repeats_reduction/thm_proof.ipynb\">n_repeats_reduction</a> (conjecture without proof):<br></strong> <a class=\"ProveItLink\" href=\"../__pv_it/theorems/a1814d78f02f25c172dfc2defd3497bd5732c3820/theorem_expr.ipynb\"><img src=\"data:image/png;base64,iVBORw0KGgoAAAANSUhEUgAAAjQAAAAYBAMAAAAfVHpUAAAAMFBMVEX///+IiIgiIiIQEBB2dnbu\n",
       "7u5ERETMzMzc3NwyMjK6urpmZmaYmJiqqqpUVFQAAAB6qHgnAAAAAXRSTlMAQObYZgAAAAlwSFlz\n",
       "AAAOxAAADsQBlSsOGwAABNhJREFUWMPtWFtoHFUY/vYyu5Pdnc1ERFKqMQTqgqKsoiiicR7aB8HK\n",
       "FDQiEV0fXMUHO9WKT9VtvDzaIBT6oLBpFHywuo311s3D9kUbY3FRi3iBbpG+ScxLaCvezm12zszO\n",
       "zM4MyZP92Y9sZv75vrPfOec/5wyQOBoCYaGGPj2UPjrdZiqr8ZQGI9XlCI3rAu8sDONfiEW3mcoF\n",
       "naNH//k1gTU/CISFZvj2ys5Pm0h1hlnfiUgXQxnIt4Yr41qOk/T7kfjOKPMcofGo79VZaH8Dh4cp\n",
       "HI5IF0MZSPciKI+YDC/TbqzFt6bY4QiNZd+r13eVy8DqMIXViHQxlIGrehGUSy0G6lC2G9+ajEBo\n",
       "VH2vLjZBrMmYwxTMaHQxlJFf6UVQxh0MJdLzIwlKzU8CoRM+aMJpfxFRNuTKjcBBO9KJShddOTvS\n",
       "i6CMtzlum5q6PYE1JwT2TDyykw86ZezC/t3uSUdq4cKF167RvQ8fJY3LsgVArQBzlqeMcSKe4KGT\n",
       "RJIoj1NrgpVtzgfB8BnwVFQ/sgPGopU6X5zkzcGEvjTQ78ZzunLJQ7NvjTSpxDt2zqJtdP8uTsQT\n",
       "lqZo3GLTSSIJlNUOtSZY2eZcAcObUHuDRTag9jpfb+YoNUobZT7yT+Nb83f3ctBFoXkD1IsD452s\n",
       "UBovB2ploOsEkeatF4ROEkminAW1JljZ5vweDDkz2xzwIOf5f+5EszTtsuZujjyK9rS28IW3kDah\n",
       "KH9C26CD/i3W/aIx95nIrwvqga4TRHaCTCeJJFE+zawJVrY5X+HQdJ8qLFuTn6g3td4ufOJnDWmF\n",
       "M59v9fkt2jrKnpr4ErCX9Go1qIGCqFD1oZNFYiurOrMmTJlzLgrMnwq3pk381k4VYWTbS+2TngkF\n",
       "fNRQxGJYuISHB2YAad1ox71a/mtSa7TJoGEtiHiCVGsonSwSW7mwtvbHtBGmLDi/A8dusjssLe/b\n",
       "znbn2w9+7liz+tWY2FdrB97XDdeoeZJjpvkbLc6ETnm2XIUBRTaYdEHGwDnTvWufZhOqVPMrhkqf\n",
       "yE5w0UkiSZTJxR6ClW1OfCnwKsl+bLGToSfS8XLtnb41ytf34C7MsLpp7frZbY1Y3869+DGOge5u\n",
       "tYuz1UIXT9ADxGV2ha2ShyxsK7l75xu2ryka7iWUPMg/gkgkyEW0J4skUQZGayHKgtPZmZTJ/de3\n",
       "YZSOvU5Ot/rWqHvmsYEPuDXFVM1lzfMcs2PaMvkZUyaU4/ovZ8hQ3kFu3MQ+yJORexR4/IxnvrTJ\n",
       "8RJpVjmouMoqQrrFPjtsIpEgF71JWSSJMop7/9GDlW1O3CjA4jwrO8TVhlRryjqpWCv1er2rWYox\n",
       "79rXpC0OsRo7c/qs1JJKyB5pzv/y2ZCEik/WViirkxw87kQ7T/++wN/0cGsyVrFl7eejBsd0vyPY\n",
       "4F7QCD0hDj0AGiEJqz5ZW6HsOjqr66j8qBhq9X60HGsOIX3AytFuKTWR8mwMnxHgG2ynmskO5oLf\n",
       "qAUcX5zHfRL6dJLIFijjDQE+/Xu4upO/F8ffHTMdaz5E6gGoT9OqckS89HJiRoCFQ5tyyQW/7Qho\n",
       "eyosoU8niWyBsrvXxbz13dc8VK83/czXOULjYOCd8WHntfFYdJupnGpwyPFe4EHhfx+dK9YMD/WK\n",
       "BfgPWTWSayiFmIMAAAAASUVORK5CYII=\n",
       "\" style=\"display:inline;vertical-align:middle;\" /></a><br>"
      ],
      "text/plain": [
       "n_repeats_reduction: forall_{n, x | n in NaturalPos} ((x, x, ..(n - 3) ×.., x) = (x,x, x, ..(n - 4) ×.., x))"
      ]
     },
     "execution_count": 20,
     "metadata": {},
     "output_type": "execute_result"
    }
   ],
   "source": [
    "n_repeats_reduction = Forall((n, x), Equals([ExprRange(i, x, one, n)], ExprTuple(x, ExprRange(i, x, one, subtract(n, one)))), \n",
    "                             conditions=[InSet(n, NaturalPos)])"
   ]
  },
  {
   "cell_type": "code",
   "execution_count": 21,
   "metadata": {},
   "outputs": [
    {
     "data": {
      "text/html": [
       "<strong id=\"empty_inside_range_of_range\"><a class=\"ProveItLink\" href=\"proofs/empty_inside_range_of_range/thm_proof.ipynb\">empty_inside_range_of_range</a> (conjecture without proof):<br></strong> <a class=\"ProveItLink\" href=\"../__pv_it/theorems/03c98d4ab8d3d980da6f2b3629d066e99e2090aa0/theorem_expr.ipynb\"><img src=\"data:image/png;base64,iVBORw0KGgoAAAANSUhEUgAABSkAAAAYBAMAAADkP2WPAAAAMFBMVEX///+IiIgiIiIQEBB2dnbu\n",
       "7u5ERETMzMzc3NwyMjK6urpmZmaYmJiqqqpUVFQAAAB6qHgnAAAAAXRSTlMAQObYZgAAAAlwSFlz\n",
       "AAAOxAAADsQBlSsOGwAACY9JREFUaN7tW12IXdUVXjP3nrl37s/MtbQyYTQdpmqgokystiANvRHt\n",
       "S0l6Aq0/UCcjNCIlyOgU3zRXa30Sc18KUqLeMWqhDTgRS2syletLxMTqHW1pbYu5EqoE0xIfBmNQ\n",
       "cK/9d/Y+++fsnJ7Ql9lwTs6etde3vrXXOvvv3ABclNLhl1rXS9WmVg3FDijVUPz8Rju5+yYn/7yt\n",
       "Mijk7JbcjnQcylWnpJAyMmCXWk+VWsuid3kI+HIYBxtWsUYtXl1k/oEehYSngG7J7ciyQ/lyKRli\n",
       "9V8FZ+Vf+AXw8i0gn9V+WYHL1Hr95pjcm+10u+lUvXIl0e37jbuw4IE4zKgo98cJDd2owyuVpfTz\n",
       "gvkzdDetBB0qe3SPMouNeFAs8jhi71/CGRUtyqSlkBzB+pPFJmXUZRdA+aNtIJ7VMtqG8Vip71zC\n",
       "1/cOA+kKvTr/yjq5/8pv3YUFmyDMKHfi42dihYZq1OWVxlL4ecH8GbqLlooOI13do6xiJR4UizyO\n",
       "2PuXcKaKpvIdICUP4Xy+UGxW1vvsAij9Yw+I51RpqG/fthewX1ad85QAGMHOOOG37sMKMSqNfV2N\n",
       "lWrU5dUhlaVbksGfoa/6+8DuUVZxEQ+PxaFCAnHCqryaSPA1KQ+KzcoSvwBejEE+p8sNSo+zjp5z\n",
       "ATZbameUvMODHyvAqDSmZaVq1OXVmjMr18L5c/Q5fx9YPcosznAEx2KtkECgoqk8l0ga5MUZL3hZ\n",
       "+R6/AG6SdbMcUGaWGdrv3bCsHPeuZ/xYAUbtWakadXkVmJV+/gzdQyuFfuACAuMMR3As1goJBCoa\n",
       "yrSlkFw3O3t9wVn5Mr/gres+5vXa5tu331W5+WeswS4crHcmE8ipa3EKqZO1y/K/H7209fPv99jS\n",
       "brpvi0h56LHtwoLokmGQUTMrKQ3FqMsrMyt3rdokXv4c3UMrycpdmzWPMkuKeFAscjtiB2KcUdFQ\n",
       "xpZS8geAPQVn5QH59n0i6uWxD2D3cXiXNWgfJLc3EoXJlniD2ve2os97TTbsl2tztog0uj7jDiyo\n",
       "w3eDjJpZSWmoRh1emVlJ/TQkfv4M3UMrycqVUl/zKLPoxDsBsTiX3xErEOOMikz5pVks18rZSEie\n",
       "gGqStbezzbvdDF8S/51ci8qflcMupg7X8Auqn4r6b0cXYH8L3mb4g1fI/d1Ebz/FGx1ArXcVVD+B\n",
       "xln65wfrXVtEmnO+znBgwRR8EWTUzEpKQzHq8MrMSuanIfHzZ+geWjIrRzqTA82jzPNsnfhiQCw+\n",
       "ze+IDYhzRkVDeXQAiWQsLuMcER3FVN3O5ItWM2yn3sDWW8TxyRs4CMnC1OFGfkHzrKjHu3twMgbm\n",
       "XARbyX1foneSrYF7EEXnobkOPBvjEkaiPjv7DbLMGMrOqJz1dYYDC+LmeoBR1ZjISkpDMWr3irz1\n",
       "3+Jvvcgb5qch8fNn6B5aMisjtK16lFUM4iGxyO2IDYhzRkVDudSDRNJs0c3O2PHFLKdYVs6rQ+d9\n",
       "XyFrFOO8V2YlW/DSZ8KRBI+vYCnHg+lVONIiHUfCUOKQJ2PbOFGby17Rm1hQnwkzau52kIZi1OWV\n",
       "OYOLWOgSP3+G7qGl7HZe0j3KPK7UiJ8OiMVEN78jViDGGRUNZZqVUtJ9ja4Csk9jWVYe0arv2M5D\n",
       "5Qw+NpT103gWXTsXsT3YMGaqvNwrh3DCfrQNL3YYm6cj6ww+42PpwmIHwQFGzaxEGopRl1dmVlI/\n",
       "zYnPy5+he2gpWXmF7lFW0Yl/HhCLyX6c2xErEOOMikxZWVeyGVxIdmBWNU/tIPdlSnvXn3CiXr1v\n",
       "88ixRfY0rWTlDG5KB2pW7hA8lvkC9S5+Qakl69cDGccnuo8DstvdIxlyjM6OtMFW1mmkNRkZyORy\n",
       "utrHLovOl627nQU6FRjFi0XWOfgu+o2aWRkLGopRm1dGyGhT6qe5SfDyZ+geWhIdqud1j9wlNok3\n",
       "18vZsTgZt3M7YgVinFGxkf50gy0TyS9oLiGvqEVfwxU80PrJwX5pODLkTx2ZlVUyFNfp0ZLMyn9C\n",
       "/W5S9nJ1ds6wUyYCfSarXbJsH2u3o89wGYM9jWdHtMaYshMBskQme4eflmF3FxcYj6eysnxOHCGg\n",
       "nGrjQ1JzYgHbk/iN6sZ+2GFNKQ1p1OqVHjJkSZvu4xmlSRQozQlGi6N7aEl0thGSHkkMvWZAc+Ij\n",
       "3dezY7GpsRjiiMWsA4hxRsV6euFHj4qkZIIuKI8i0J04dkbxD8j9l5tgcpHK8SmWWVkj9x+XV9Ss\n",
       "fEFs8e7kI/r9/OILXnyuzeAH/trhDswSrIk3yV+/iaLZOFmFV4j6s/QXGb+bglH8DcKZ1HnlxKnP\n",
       "zpChHjuXyq/GhxVx82PBh5BpVDP23+893WdNkUZi1OqVGjLKkjalfqYlChSlfbXGn6O7aSXoMLGg\n",
       "eiTBEkQrNCcenRlkx2L+z2GO6GY9QIwzKo72UlmJLdOSvXIQ5WeNH8ASm+rJ08FkBm8O6dESGR2/\n",
       "ffdelpUPaGMw38PTffyrYO7pm3y2qc7IWp3P/FtUkn+1fdeg5RFDriC7sbYGGDWMCbaqUZtX2kBi\n",
       "8lsL5i/Q/bSYNs7Iike+3XdsJR4Ui5yOOIDoKuIRqayWLabkO3T5cBt9Psf+cCnsr7CnoxWZlRW8\n",
       "T3ZsM7hQpx/7ydUcPpXUk4FabIn7ovb+OP8Or32wVwf4mvZ1atWQJ8hOrP801gOMGsbKhlG7V7Qc\n",
       "cvHXJT7+Et1PC7UnBm/Hqkfe3TdYiQfFIp8jdiDGmSqav9o4YUiidYja8F4dfkQSb47cq2fJGHms\n",
       "zp62/E3b7ZBRVM3KS+T3b3F0eQ+9Rvd0lbr8TMb/fUzWrhI/dhrrJM0i589Z2S+cLHIfVuULOu5n\n",
       "GAUrpm7U7pVRcvKX6H5aqL1vcI3mUZYbFuIhsSgsEAlnVLT8To20TElIJla2wfwULA2A7HGWBrUh\n",
       "PAlPfI09fbWfZCW6tFlUH31mu+LkPF8Cwa30akx3lHr6U9A9svbaHwVvhemI+3yj45B7sQ4fCTBq\n",
       "x9SN2r0ySk7+Et1PC7Xr0z3Noyw3LMRDYlFYIBLOqGh560jLlARH9SZ9GtAPkslv2wap88rnxMJz\n",
       "wR3Waotdaj3dr7ax4OGQU7epsMM5G1axRqt5/nfC/8Q/0KPML4+tQroltyNTDuWHU5Kx98kK+Hm6\n",
       "fIl/vYR3uZyJU1lZ74z/Zk5822F/gI2yUS5CKePakE7TDTj8e7zLQTT9bQduqU9rO77jG923Uf5/\n",
       "Rax4rCf5G2WjFFa+BGub8pZOG9awAAAAAElFTkSuQmCC\n",
       "\" style=\"display:inline;vertical-align:middle;\" /></a><br>"
      ],
      "text/plain": [
       "empty_inside_range_of_range: forall_{f, i, j, m, n | (j + 1) = i} ((f(m, i), f(m, i + 1), ..., f(m, j), f(m + 1, i), f(m + 1, i + 1), ..., f(m + 1, j), ......, f(n, i), f(n, i + 1), ..., f(n, j)) = ())"
      ]
     },
     "execution_count": 21,
     "metadata": {},
     "output_type": "execute_result"
    }
   ],
   "source": [
    "empty_inside_range_of_range = Forall((f, i, j, m, n), Equals(ExprTuple(ExprRange(a, ExprRange(b, fab, i, j), m, n)), \n",
    "                                           ExprTuple()),\n",
    "                         conditions=[Equals(Add(j, one), i)])"
   ]
  },
  {
   "cell_type": "code",
   "execution_count": 22,
   "metadata": {},
   "outputs": [
    {
     "data": {
      "text/html": [
       "<strong id=\"empty_outside_range_of_range\"><a class=\"ProveItLink\" href=\"proofs/empty_outside_range_of_range/thm_proof.ipynb\">empty_outside_range_of_range</a> (conjecture without proof):<br></strong> <a class=\"ProveItLink\" href=\"../__pv_it/theorems/caf0e797c72d906ee660cf45e529e46941568bec0/theorem_expr.ipynb\"><img src=\"data:image/png;base64,iVBORw0KGgoAAAANSUhEUgAABTQAAAAYBAMAAAA2b2/XAAAAMFBMVEX///+IiIgiIiIQEBB2dnbu\n",
       "7u5ERETMzMzc3NwyMjK6urpmZmaYmJiqqqpUVFQAAAB6qHgnAAAAAXRSTlMAQObYZgAAAAlwSFlz\n",
       "AAAOxAAADsQBlSsOGwAACa9JREFUaN7tW22IXNUZfmdn7s7sfGwm0MqGxLhs/QBF2aaKJRg7ihZK\n",
       "63oXJFXQZKRNXIrINlv8ZzN+5Ze480eQEnXStf3Rim4kfuSjZfyzxUTbaRJpU4qZEGwRbYnQJWtQ\n",
       "6Pk+557P6+wM/tkD5+acfd/7vs/znveec+65E4DBlQKrat+iYpRGSttpSiOt/Z6dFnoLTiN9DPsX\n",
       "De9NPY5Fr0QKTpeF3qOatlzOqtrXSrFq/i3TSWHbdiOktHUA+un08t6CcyB9DPsWDb/pHseiVyLY\n",
       "nd0ll3Rx95+DyMxKjVaA0h0x8HYCxSJsUvuH7sTX04aljVp/DzK3KeDdZQsejTPtVIqKMytaFyte\n",
       "8le58GNJEoRZQtYFLMwoGI2waTu70/6B6J0Iw2zBfRq45AjuPj+I1LyPVYCpuY5oq2WoBiMywpD7\n",
       "9zZ0jZqG3pWJXvTJS+gm9UZLcdqCDQDPpVJUnNnQOlmxsuPwsh0/kzznj57fugKLMApEI4VpKzs9\n",
       "LP0jwjCbuLFLJvklXtjrg0jNY6wCbPttLNpaKS/KdvYfu/BT5nwKi1xyRZy80VK8tk6kUHwFFGc2\n",
       "tC5WAmVm2Ss54Y9eyPoVsSuMweIaDpOdI379IELdmbixSybBGZrrDCI1J1mF4rLom+Um2XyNRDvr\n",
       "3iFU1WG5yevcaysbhxX/aktN1amLlUBppGZSkvVOdEHrydQMRCOVaQu7bGAgVkGEuTNwZ6WkjLJ0\n",
       "ZCBbzSatKPPHed9S9svm7eR6JmVq7vd699oaaYcV7ampOHWxSpuaI949WtC6lpr70w+MezgMdmfS\n",
       "pGZvRJg7A/cZRbJlYuLGQaRmqUYrlM/fsMj6Bz566rLqL77fohrTeJafEjf8ecsn5LUEPWmb773t\n",
       "wfwdP2O7j41t27BM+Zy7bEG0Hr335bphRSM1NbROVkZqmviJRAFhWeyC1kVqEkb+aHhN+9gdAlWp\n",
       "H0R0zAbuQyAlbwHsGkRq4oeJPlDrqrxfe6QafdGqsNm9toAu78o7PuPPUm74HOw8DqfYc1ectA3L\n",
       "u17vDltQgltQvJphRSM1dbQuVkZqmviJpNz04Q9aF6lJGAWi4TG94mOHZy+p1AciKzpm4rI0QUpX\n",
       "zNxM8iwUZNrfS88E7F7YlvXvxhmQVXuoQyvA/CzrF1tXQ+EzKF+gXjqH0fWUPIO9SP65HuB3Q3WY\n",
       "r8Jf6N8fKzVtw3LKe8DrsAVj8CUyNBlW1FNTR+tiZaamiZ9IKpM+AkHrIjUJI380fKYv+tihsChK\n",
       "fSByUcds4L4epGQ4zuHFIjqKZ7jbaFbNWr3Q9/hyK/HH+5siZ7X9bItWgLO8H0WXoLIMjGEE30bX\n",
       "vXIHQ6O/FSDe2YKzMRymf4+zVfpkfWsLe7LIsOz1bnQdtiBG/iF/IaD4+sTEdyYmblBzQEdrZ6Wi\n",
       "5Klp4icSBYSlBK2L1CSM/NHwm/awQ2FRlPpCRMNs4N4KUlKpkreg4eOzIU40NXfI3STGtR5tc1/2\n",
       "p+btoo8SAcU4y45fCb4FbcNMsCE+KEX4FvhsbJsxFsKbb4stKCFJcTKsaCzoGlo3K+M1yMBPJMXJ\n",
       "8Gucx7p8DcKM/NHwmB5t+ththYTSqolwQxLzgjU1uaT5DtkThA9taWoeEf1hAnPcceArF/RHRB9B\n",
       "G6rBaw2qP9JF/56U5rpiRv8Yn+4WVyIqeDGyDctJH1SnLeyfYA4pGqmpoXWyMlPTwE/XwXEfgaB1\n",
       "mZqYkT8aHtPr2rGHHQ6LorRqItyQxHxS32uSBZ1L7sLH+ZXzd+G3MSKd/gNet4/9fHNmaZa2Niqp\n",
       "iYCc+NP6RTU1xbkoEnQ3PcQGvUorkLWCttGzj5bNjwttwnFnCwFcIssJebIo4QcBT11o9h9tPgOY\n",
       "SXQpZ0vNJbIymN9JvLbQ3gc9v+W6V9FMzVhFywxZWJnjFlnx07cHCSJRUlrnsCgjJYyeYjF9Nq7Z\n",
       "xoIp4bBIpdUT4d4k5iX9LuxSSJ7s8l5UJQ/6Ij5bun+hne1muqzVEKlZaEJ0/Bb4rpqalcXSblQe\n",
       "xoJbYTNbKvkpTeGS6KM9MXrN+GkOduKZfS8ONz4sID0KlxwaoN0y2vYP12rR52Qv84wWkbsb7JSB\n",
       "yMnd+CJ7TltAXnPImZZTUUtN5IzcKtBSQzZWSZS5FerExI8lEoSATRpprXNYlJEMo2kx+WfN9Iby\n",
       "rG0smNIUqEqrJ8K9ScyH9NScUiWjZJN5FNt5AM/NUfxDdH16A6ybJV5xKxapWaxDYboJy2pqFuvs\n",
       "dRcJLnJv+XFa+ZsGbv+a/ELg92MwhH/6MPoeulyLp/er5IYZ9iB74/jXBsWDDZjAjj/VjtP++70X\n",
       "2/RGIh/CMzi5XBe2Bf/COi2vYiI1iTN8q0BLDdlYJVCOnv/8U+pEx08kCojrVPwprQtYlJEMowxE\n",
       "okEuFtM73reOBVNCYVGVVk2EG5KYr9VTc48peZjPu/xs6RzMsb3iObZZJQlYQfk/WkVb3zd3/2T3\n",
       "7jZJzTxLTSTIT9LdAirXsFrqyr4oH/DDm3HR+yOYxwOV2PYRQt5YMVf0gC28wDzhV0zOmqobxamV\n",
       "lYFS8DQlTxhyxVc665KREkbfuYXdtGUsmJISlr4R+UDFXDD2qdilJrmZ7Dh+TNor9A+XwXyeto7m\n",
       "RWriNMzOlhZnLQs6EmTqhQuMzwlaPxzpyL4oNf6q1ma9SvcF9v1APYrKJT7Hql/E6I05M/5eW/8p\n",
       "4+n+mF+RlFfAAkM6tbMyUAqepuSYIZe+UlqXjEQY/Z8o7aaNsRBKSlj6RqSmYjZ/P4JdJiXRMkQ1\n",
       "OFOCe1D2TaJr4QKaLZdKtHXN3xKvQfMw9Jiamhn+FM2jebNcZ3yGG6RezX8PNdxQXlb4Hft4b2gX\n",
       "P1iYUYBOO8O8zyH32sp/idcB+kMrt6JZpg2nVlZgReP4KFB3yL+CdcFIhjFIwzRtjoVUmuk7EaSo\n",
       "YN5n2pvRJSgd89tgxxjMdQC9/Mx1il14Hp79Jm19oy1TE936KmR+xPaahR/8ryr9vgojjcI5tvpF\n",
       "dVLfeRtk3/iANMN75Y3cyHYFpzvYMw6539bBIyJMbkWzVA2nVlYA6T6UQQKExVdK64KRDGOQhmna\n",
       "HAuptL3vRDIJzJYZYbsuwfNohbQ65IOn/JlcRzvXfDl5rukZ18dZVfv60FlmhUKa/02QaaQ6w7Pa\n",
       "GoN+On0ceipj6dTSWU8ZDb/pHseiVyLYnd1lUjL8IVqgf0P2EfGv5vBV7CtiLTVLDfVrEClvw1pZ\n",
       "KwMqufXoQlbtMhx8A1/FdKp/DYI7jZ1ray2Aa+VrLWy6NA7+o7XQrJX+l/8DQHPUQKfF/lYAAAAA\n",
       "SUVORK5CYII=\n",
       "\" style=\"display:inline;vertical-align:middle;\" /></a><br>"
      ],
      "text/plain": [
       "empty_outside_range_of_range: forall_{f, i, j, m, n | (n + 1) = m} ((f(m, i), f(m, i + 1), ..., f(m, j), f(m + 1, i), f(m + 1, i + 1), ..., f(m + 1, j), ......, f(n, i), f(n, i + 1), ..., f(n, j)) = ())"
      ]
     },
     "execution_count": 22,
     "metadata": {},
     "output_type": "execute_result"
    }
   ],
   "source": [
    "empty_outside_range_of_range = Forall((f, i, j, m, n), Equals(ExprTuple(ExprRange(a, ExprRange(b, fab, i, j), m, n)), \n",
    "                                           ExprTuple()),\n",
    "                         conditions=[Equals(Add(n, one), m)])"
   ]
  },
  {
   "cell_type": "code",
   "execution_count": 23,
   "metadata": {},
   "outputs": [
    {
     "data": {
      "text/html": [
       "<strong id=\"partition\"><a class=\"ProveItLink\" href=\"proofs/partition/thm_proof.ipynb\">partition</a> (conjecture without proof):<br></strong> <a class=\"ProveItLink\" href=\"../__pv_it/theorems/ce9256096375e5161da34c70071c1db121345cf70/theorem_expr.ipynb\"><img src=\"data:image/png;base64,iVBORw0KGgoAAAANSUhEUgAAAzkAAAAyBAMAAACNEwh0AAAAMFBMVEX///+IiIgiIiIQEBB2dnbu\n",
       "7u5ERETMzMzc3NwyMjK6urpmZmaYmJiqqqpUVFQAAAB6qHgnAAAAAXRSTlMAQObYZgAAAAlwSFlz\n",
       "AAAOxAAADsQBlSsOGwAACjZJREFUeNrtXH2MVFcVP7M7b+fzzQ5GDaZf65pqEEsXqjUxpR2q+Ecb\n",
       "6CMlWP4ou9owkqY1I5hN/EN3AEOiibJ/aENspVOhRJM2DBUKZatZatIGMDJaGgoojGKqpirwx4ZC\n",
       "u6n33I/37td8WOKb+8ee5L69951z7te5H+fe95sF6D19HeZIpzWBIxUpTM8Zw6DUrY5U5G9qMq3H\n",
       "0zaltD2vdHdFCrEqDw7SH92oRn5STd+kx7NFi9ZN9syssq21n+HBQUo2najGVnXw+iV85r4U8Hii\n",
       "DjfKfIWj0kbCubFDafuXc+01S0gkMc2Ci/QZJ2rxcTW5lj5XbmrweF8JMvIOqXBk8t5+mshl2u+m\n",
       "yb8vFWU8iY+f8OAgve6CX5AfUdMv0+fSPUEYh7w8SRQOpedE5JZAkzWp/8x6oT2Lj+M8OEiZugOV\n",
       "6FdnAFBjZWeiOKHPSRuLykH6g2wdWdZCewOhzTLqD1hwkLLvOFCJW9S+8amPkByK4oSekpYmlWNa\n",
       "56m2pd0baiepgTPTLLhIOx2owyI1mcOplL+wqM7jq3AVWhmtgxrHtM7KdoX9fsnbooxM078/oJ6R\n",
       "I96RQed7P6dTV7TVlg7kwaKIl3aRyNGIr3FM6xxtW9zlsIzR6T9vnabuPHPpXxhGWuSQdUaLPa9C\n",
       "QXMK+tAjg+0VHk81XkL3JeJrHNM6r7c9hV4Jyzj/g8a3q+CT4v0RN+fOwFDvnQJtWemv0Ukt4h4s\n",
       "JpEJabqrHBzyd4ghT60z0a40/1JYxq9eo1P3EgsuUr73bsHEtM0694ZxH12rXdq2HnHMubOr7XFn\n",
       "KCxjwRTOwuwICy6S917vXbaqbWX7RhjPNAPlzknjmNZpez810BTa3mwWVzl/iAUX9x24u+c1eETv\n",
       "P7oVLg7jozXiYL2KKWYLjWNaB2U9sxym3V8U2vkZbzZB/oyx4CR9rec1uFNfe3B0p6+F8Yk0Wfr2\n",
       "Y49fBQtHsc4DOA9RdnSSP6hSGCE+RU1oFya9K0nmXOdKjlrnAQA61//Us7X1Xd3DHgo3bxov/I5E\n",
       "Po2p4cDCka3zn3t2TjPZPvw40ocHo4UiQrW5T4HaAw244SOEV2PBSTpRg8P4d0fPjjuX9TefwuNi\n",
       "M4rjhGH3A4HJUedOJPuG6a1R6/xG197Cg5M0UYTvYpN6tvL6s/qb4wDnMo0wTu8P6BJG1iGDQ+k5\n",
       "5a6BypprFWr7zZ/p2i+DeqPqFI3W6ZV7stEzn/6K4VZV4ZNrozjSNvpcRYLOMYnKeuYpG7X71k9q\n",
       "2jgsezc0O9FgE/JksGV6VoGEceLyxuDIoSiOtIE+scd1jklUNmG+R+38DVVNG83U0tC9tw6p5pLh\n",
       "4c/2rALJGePVZj2esHXf5hbW7q6rhfZ8HtykfjLVDwKsD188xPZqWYZ9BPJJs9/UONL68RAYi4mv\n",
       "dlTKNqIhNwNz1Ir6iIfzI0ijI+RN4X66jL3GS45XeH+zVeAYWRhqnEMXh6Oka6OMloWJLftr+bu5\n",
       "xiuSyYgm/9iXXngf/Jb7XoVLc0ZobZ0Rsu4GSXT4B45VbDde3Doe6c118mz65ocAsrJrhInUzeWa\n",
       "31wOB7hGv3qS2I16bz0K55JBLpizTlfW8YvUKRjUv/VsB8k6OdLPh0F+g/dZCl6CJPBi0T+Sow4t\n",
       "amxXcyTuYe4gnn2L9eTcytbdygaTR3CXuLCCPJ+hC86qX+Pz1fSHI1v0kTAkOKF1Voh8UG8Fwx75\n",
       "3/lFscQ1RBY8T+K4U0DTqTObhXWS5i15jGhDqwvRyq+4fuHW1a1aVdArgBV0CtDbwyIdyvXT+PzL\n",
       "Dx+shrb4PslpUnBC65wVmxDqnYU11BmoLD9TYhphFjxPv85c2VPJh3cLH8s478SJNrQBDROtzn7X\n",
       "LdymFXbUI/32tZVOmCk05cM4l7zgfnyxuJGK5s4e0vAxwQmts0cMAdTbww7tfiWXGOM8kQXPMzuW\n",
       "pSf5U1D/aMvTaFxoQ4DxQAUaUhacZCztwulWHZXYWjg99USlI4QxbIX3CHa5HfU4iA0sUHfgMXo6\n",
       "Y0MPcS3pdw9Ku8w5vAehnFy5fGf5MWadcUiVCW2geuNwlMQbfsUrTTINmsU4SlRpnqmx/BPl8uPE\n",
       "OqvF+de/plcpNrQhfEzdOBnLm+Qsmda9NANdC2+D5LWOEMaoFQy2ZkU9jkYN/DxNf4XGcTPIj/08\n",
       "HVlnHPuWc8yVjeqdhW+xuQPPF5lGmAXP06+nSmzuZMXNZcr4/hcb2lC/rmOsnDyCsyKRmOle+B8A\n",
       "d3SEMEatGGyIihy33IKKkTcDXglO52A16bIR8iwUNyYNryA1olhnntAmeiQxgCWSU1GiSbIiGmEW\n",
       "wDQTRXbuJSehm8V7/QtCbGhD1smBzupXVtmibJ0uhe8J4GK1A4RRagXPyYZ6PN+Qei+1FNbNBzLl\n",
       "Ek3yHKgWXousg5dRGwA5/M33nl4mLsBw6s/HRBp/JrVxB0CTZEU0wiyAaZJX28gqmlpQhYJ4v0Df\n",
       "duJCGzIff1pjwenW1ulS+K8AFysdIIxSK74YVsRQib7q44rg01iDikXOyJg4a+4WGYzZriIxsbpc\n",
       "5udPXz2qMk3i03lfLj+qvL+gb5eoFgfa0JvXVICGjMU+w85r2qzTrTDA7R0gjFIrYCecPAB21ONF\n",
       "ERk4Rwb1s9QOwU834VO1DhwimVWRE9684Qu5WxV//VmqERHVPGSp6AltOseGNszBXepvhy6H05Sy\n",
       "TOt0K0w/Keq/StK8sbAV3nv+m7wihkr4VT+JWwjtmDzsO4BPzTpJ0vLlyJHoWMsEZpWU+53mWbPU\n",
       "c0I7McSGNpyPP0KQgIaMBbcJlmmdboWhr9kJwhi2Avx3nk/tACvqMX25ixMTnxOBCXUJWiasbzyr\n",
       "E9W03e7FgDYMEA8nAQ05YuELggW54eFPLBkebobW6VYYXoROEMawFZC7ixrKhnp0AG2YG7FZJwa0\n",
       "IeSGFKAhY9EOpyxz7nQrnG9CJwhj1Iq+J+mx0oZ6LAz13DrZa7aV7f+PNmSHWX9IY9HFKjznaitb\n",
       "l8InIV2VhS0UtWK0sbcCMupR35x6Swu1/osJbciwbRRo6Eks+KpgWbyC7oTJiTsRyMKWekStOBGM\n",
       "Nop21OMJB371pdUhLrQhKVj4tFRadPJKwVKsQ6/SuxTeMjX1giRMS9bqIbXinzBaKdlRjy6ghrVf\n",
       "JsaFNgR4CzjQkEpzFmwULLnDCxeu/qtr4dvff/+qLLwQjHpIrXgcEvsCK+rRiV8m5rXvb7GhDXF1\n",
       "YUDDNyQW/TS/GIwD5nUIm/UwW2FBPQ40HbAO/FhNxoQ2/DcdFey6oSSx8nXOUm5BpfvZ/1XYUg9L\n",
       "Kyyox71O/Nh4U1UdMrGgDVOz6DAxoCFKhyzYwFiWk+wHE7bUw2yFDfV4mwvGgYRaq5jQhvsOh72T\n",
       "kFmwhrEs3vgHE7bUw2yFBfXoym+Ntf9iFCPa0AY0TLc6ZVy3cJtWWFCPv3TDOJBpwBzplHLm/8PM\n",
       "/fc8k9ZSn+C/iC6JRQtthLUAAAAASUVORK5CYII=\n",
       "\" style=\"display:inline;vertical-align:middle;\" /></a><br>"
      ],
      "text/plain": [
       "partition: forall_{f, i, j, k | ((j + 1) - i) in Natural, (k - j) in Natural} ((f(i), f(i + 1), ..., f(k)) =  \\\\ (f(i), f(i + 1), ..., f(j),f(j + 1), f(j + 2), ..., f(k)))"
      ]
     },
     "execution_count": 23,
     "metadata": {},
     "output_type": "execute_result"
    }
   ],
   "source": [
    "partition = \\\n",
    "    Forall((f, i, j, k), partition_equiv,\n",
    "           conditions=[InSet(subtract(Add(j, one), i), Natural),\n",
    "                       InSet(subtract(k, j), Natural)])"
   ]
  },
  {
   "cell_type": "code",
   "execution_count": 24,
   "metadata": {},
   "outputs": [
    {
     "data": {
      "text/html": [
       "<strong id=\"merge\"><a class=\"ProveItLink\" href=\"proofs/merge/thm_proof.ipynb\">merge</a> (conjecture without proof):<br></strong> <a class=\"ProveItLink\" href=\"../__pv_it/theorems/19731ff9d6f502b8c772463e8a57065f7788fea90/theorem_expr.ipynb\"><img src=\"data:image/png;base64,iVBORw0KGgoAAAANSUhEUgAAA1QAAAAyBAMAAACpCoe0AAAAMFBMVEX///+IiIgiIiIQEBB2dnbu\n",
       "7u5ERETMzMzc3NwyMjK6urpmZmaYmJiqqqpUVFQAAAB6qHgnAAAAAXRSTlMAQObYZgAAAAlwSFlz\n",
       "AAAOxAAADsQBlSsOGwAACvtJREFUeNrtXG9sHEcVf3e3e//21r4IqAymiTEU1FQUJxRRUAJHIUhQ\n",
       "tbmIUKig8UGVI6rayDQoUj8UX1IRCQTEX4oiQtMLaQofWuVCXcg/wKFSqiSIXNOiNFGxr0QqQg3U\n",
       "kXokTWLUeTOzszOzc2sj0fN88PuwN7vvvd+8mzf75s3cswEspfQILBAnd73V5l1Y8FBID5YtNq6n\n",
       "pN7X9HbNoJQ1Y2Xn2Gets3QNZuX9DwyDedlYO/0Bi111XL1NNPX2boPS9WasfHFOXfI+TNJB93G8\n",
       "KO2e21e9PkCOsfNOez2VvVW9f4lex1cF7X5ITMh8yvHJm5hoGGLH+2fpLcSFzWVVWrDuWo4Nhed9\n",
       "ocx47r2RWZ+5ATQTo8T0idXOx0Yocmc7kxPWuiqpTjB3DK/OP1YG7Q8BPCrxGeduVFQDp/v642Q4\n",
       "cvGhXsKF96rSEmsn3itId25qcl5OnyDrDrZBNdH0qqA+tfoUQ+5sp/8Ja131nDb/6KRKnVsv2gAn\n",
       "JT7jHJGePBU0lpCvX2jEdqbiKtISa0bnwcony5zX29T7TbQ1Ew1E9anVBxlyjJ07rXXVLdpg0uu+\n",
       "ctgmn9IUZJwhSeMF2VUQPydVXEU6ZOXbOo89SYVicr/UVanYt5kjotUf4Mid7dxXs9RTibZ6f5Ze\n",
       "b5PaJFpI4Zty/LGOrvpFbG8qriIdspwhnecMCLXPg9FVudgVhumj1dlLHLmznbmWrUuVZtg4Xv6y\n",
       "/HXedvvJGDihDON4ZJlac8ToqtgEKsQFd1FLkZZYuZZ/e1nmFc7f3AhM2wUvPWtwlRM3vlwfrS5M\n",
       "81472+m3LXXVqHZUwWbbxaDt5MkUL0gv0cXgNSvtMbrqeGxvAhc8WKFKh6zhib89MqHweosBz73m\n",
       "v7zC4CrZxCgxfbS6p8J7pejeICXVze5FS111Xrv/KE3gLwXthz0yBn64NDFOsgmZ5kGjq16M3RgI\n",
       "XOijycOLJtbUj5oP1RSk7SMBz7/8dGaHwVX+UFy/TJ9YDaki7zXGzm9b6qrPaPefpjFgOmiX8btl\n",
       "psPoQJupOriwDFu/GRz8+ODgzaGrRuM6C3GhTOPMqIn1zPPsfQ/1pgTPW8GigNQvdZVkooGYPrEa\n",
       "RmscOcbOU3bmFZlrJlexZZi2p8j454e0BRq/tAjp6lu1Z/blnfXhDSjSEuvGw9Qde/SUA3nJnb8z\n",
       "phX5odmzGbT6XQFyjJ3Ddm6CE5dNATDdEu1drnIuxjgYSnKtsslVp+N6k3DZDvq0geXO5GkwlJA2\n",
       "CrXh5r4Rk6vij+6YPlq90eXIpzuuVZCyMwVM67PxW9TYYtB2rzhkzca1mDmGcdLkOlwvmVx1DISs\n",
       "slaDikvWjzqX1lmFtjuTUHgs1lK1U+XhZtGUVlRCaZnKkj5afc3hyMdixmTASlelKqbTSjqMtJ2Z\n",
       "/jHLct23IORgajyandBctboWJOIoOzzGG+JOxqUnPExaZ/WMuZcchZe9ItT+CcMj2hRxLvNE3NAl\n",
       "s5rro9VX1nDk8ZgwPQ30vXrFLlcNR85cw2WYti8QhyRxGAfLISdD5l3Pn7VA9O/P7iKyS4HLJhH5\n",
       "JuCX5A0aLryGl6UGVroJ/e9ReDzlQLUHILFfDbw959+6wE2k0mGXjcBqro9Wnyxx5KUx27ArcAg/\n",
       "d1i2rdJ/DUjiUvAHqU1oKx0vOkKc8xHTaQWdwAOhrEJ/BQ13mZCOsCQkyvNaGi/a79awEzXnLIf6\n",
       "gdWInI0JcpmL8H0Uq9jlqin9J6BCA/zWY+ppKj2XwJgkOCdNx7Xhaa8T7agECu6/Cm0hrbEUJHwJ\n",
       "JnPNyOGu3u+RoBM9mEn6gdWI7MVkee5VevDuNO1y1alIXcUGSK4fE20Q0wuDvOCkO209tkEgq339\n",
       "Isi4mRlMx5i0xlKQkAcfvlvnRffWFSGt0hpZn1u9TdjZgf4LBeLJnGVpxZLImN8Fhf6aaIffEIdB\n",
       "cNxOwYGNZnTIErI2wd1/SEjrLBkJeXD0gM6LJm01Ia1SUdbnVm+I9Tqh/wAsHxy8xTJXrY6sKtmi\n",
       "3u4z6G3psE2b20af92GSDrqP40Wpb27fdkuAHG/npwDIRjusXfo6W8Iicjwgv6yEj1p0wvhybxnT\n",
       "jFJlR7Q5zuiPNhfozBcNAvwUspiLuIdxTftcmNX8ic4W9w36hL2khTp/yhbHYuBB2DpeL9BzuxOB\n",
       "AofhAtmbvgzPtQQooxNy0vbNMTEfAN5YcEyUPkgiatnB9D99QlvLU2z7d1Zy1TrxlNMT+O4srtb9\n",
       "1irAH2zclvwTHRf47mv3waRT9sqgqLvBSYmHIIsGmPCCq2Jc5RdpVtGrB53t7GNcctUh8ZQTpo94\n",
       "jOkf9WhO6tW1HTcR8PAo85Viw5FAgcuy1Rf4cZmoAlkIgOYACGNHcajO30Guu+lMX/N7vB7LvhvE\n",
       "Bpq5akA8JZRfTLN8WkHlP/zrIroqKe+4EYYI0IqpM+e2OBIoMFm3vym7SuwZVkfX15reNi3B/4+S\n",
       "zRrMudayu0TSCriD1kDRc8gi/Q2hQWPYqz/5CjHZnQ5dlR0LnlJPkPfQb7Bc1R9ZdQ5d9UOhwGH8\n",
       "BstFzzj3PBGAelVC96OsR8shhKv8YLFaEtlXda9kczfMudayu4S5wCP0VTqMvrgHTzbc8u34YFkT\n",
       "E0FeW0LHO18JniL94DR98hRzlZdAkSelYhQKk6/k6Q78DDSuC0EpEdmvOg3ZVflKxy1wl0o2b7tE\n",
       "cWertZwXuopHi3Rg7qfLBpt/WC+QvUp/LvNKoav8Fnu6GV+LGh7/ZypwnLSb/ohbQhdNUgXOR5hM\n",
       "pfCzavUB4qq1uRCU0iTQwoLfVu+tVieoqzKBq6bq+rFCl0o2sR4FcR+1z1Pum6L5SbwMf4228QC/\n",
       "UPklxvjk3tBVZCj5U6rbHsGQ9T32VsHT6OXNQoHD+I1Mib1V+RcCUB4AN2MuUzMGwFF9VnerZBNr\n",
       "Nk7CrLWW80EZUQfjtsEtwVkP1pKnQ+TaU3zQIR+9CSWtoE/5DnasAYkiyfXZhivRIvokVegVO1kC\n",
       "gwLr+R5qcQAaphWwSckAE8Ga0qsPbbdKNrH+GnFT9qWg/ow0rpmVsK4PNpGkrkWu6VrP8+TDe5/k\n",
       "qg1An3LnvlrDU67sd3BB2AHQIvrknivgMt2ix2DbSHzN3FiDngBUOiFbHLgq+6U3i+Fxa1IvyupW\n",
       "ySYWESFuzr7FKixiwBjh01aTGsozriDxqogNrXaKCrC2WuVLiw95eaVAGCLgfrF6H6hoLC8r8SFM\n",
       "g37w2aP/YN+tkk38ERhxY2st54d6gsw6PUnmE11l8uWfb8IrG86y4ipP33AcUO72Kg8QRhXIq2Hl\n",
       "QO5XQ8FphYpW0EtJu1WyiT8CI258reW8UCrIuZxF5ELf+gLsfxavbMxAcRWsUtULaqaGUz30BoVR\n",
       "BApa4vWN/rIZLTOj2dmtkk38ERhx42st54W2F+coyF8nrfqmYzFOjEBHWVl4nko2M7geIG58reW8\n",
       "kKUlm/CMyVXvfMlmAiERN2/fW/V3S48m99UNAfCdL9lMozbd4Q1YNyS2/nlBUttYdalks3eixHAL\n",
       "FdtGpGDrH+3ohnWpZLN3b5HheiXrJm/LUlfpf2DapZLNAroUcZN165aEmq2uOqVGq66VbHLcrdYN\n",
       "yEZbPQU5NQJ1qWRT4B6xbTzybWtdldH+xUhXSjYFrm3Vxiy7tZWuU2+7U7IZ4KatWxgs/sc9+r/D\n",
       "6l7JZh/Mudayi/FvzGJXwWOwQIIesrqEa+FfN0prKi0geBu4ZoeHXNIk9QAAAABJRU5ErkJggg==\n",
       "\" style=\"display:inline;vertical-align:middle;\" /></a><br>"
      ],
      "text/plain": [
       "merge: forall_{f, i, j, k, l | (k - i) in Natural, (l - j) in Natural, k = (j + 1)} ((f(i), f(i + 1), ..., f(j),f(k), f(k + 1), ..., f(l)) =  \\\\ (f(i), f(i + 1), ..., f(l)))"
      ]
     },
     "execution_count": 24,
     "metadata": {},
     "output_type": "execute_result"
    }
   ],
   "source": [
    "merge = Forall((f, i, j, k, l), merge_equiv,\n",
    "               conditions=[InSet(subtract(k, i), Natural),\n",
    "                           InSet(subtract(l, j), Natural),\n",
    "                           Equals(k, Add(j, one))])"
   ]
  },
  {
   "cell_type": "code",
   "execution_count": 25,
   "metadata": {},
   "outputs": [
    {
     "data": {
      "text/html": [
       "<strong id=\"partition_front\"><a class=\"ProveItLink\" href=\"proofs/partition_front/thm_proof.ipynb\">partition_front</a> (conjecture without proof):<br></strong> <a class=\"ProveItLink\" href=\"../__pv_it/theorems/dcef08da74dbb3001d6924f8d654d5003bf185d00/theorem_expr.ipynb\"><img src=\"data:image/png;base64,iVBORw0KGgoAAAANSUhEUgAAAg0AAAAyBAMAAAAthfX2AAAAMFBMVEX///+IiIgiIiIQEBB2dnbu\n",
       "7u5ERETMzMzc3NwyMjK6urpmZmaYmJiqqqpUVFQAAAB6qHgnAAAAAXRSTlMAQObYZgAAAAlwSFlz\n",
       "AAAOxAAADsQBlSsOGwAAB7xJREFUaN7dW11sVEUUPru92727d3e7vJia8lMb0WClFPAnMSIboj6Y\n",
       "UG4TJCHGtGpaCVFSacKj3ZbYxBftgxAfEEtAjIkJKyGClJglJiaAkVUgRGLKKgRNiFIeGgQlOH93\n",
       "7p2Z+7Puzst6kp2e2XPO3LnfnDnzc7YA2uh1aEraZOttL1cWqqbMm35Gpn9bZo3PLPLSrLvfyaV6\n",
       "cbgqVhfJfDrvY7TIvy1fXZViFfJnX+0WfvSjVhgyU0I1W8Cl9azN+FgJFnrlgkSk7UiyMOJpR57D\n",
       "5Xlc7LBj2BMX1t1zo6oTh51FobqZlH2jFcbHC5DyTkRB4qXE9Y+RXip80hq/rcGqBPr7AXZBpEUY\n",
       "PaoThwfE6glSrjlocx4y3oEXJIQ+d5gltqSrUsulIexTTkQ6A5EWYXROY6TM9Ip1Uk3Puzyixz0B\n",
       "QJRg+sGLg1fXhw6RnrdwWKItwihV0odDi+jdWeKyRqfLI9rjcWxRouKwJ/Rp60j5E3+RcqRFGKX/\n",
       "0ofDEtG3LAxL5kpPifH9eAb0ud4jSVQc+sIe9v2q6yRY4hixoMoiXV/9nd+rD4ceydXI1G3LO3xh\n",
       "P2JOuXJJouJwKvRpN7l/WfA0W6uIxeEuTD3/sfOXtQWI5C2xHicr+/sjjE9WvsLxyJVLEhWHc2FP\n",
       "M+nTlqNPO9xF86s3yiKcBvK6cMhJYbJlmuDs8AlYiZgxzwiIEjyOq51xJDiMhT0tO0f+PIU+dhZF\n",
       "3ORclEU4tXZqC5NVPxzWcR73FvbLgY5LVH/YH7p96OQ4gIX4dG+URcRipy1QjpX95sU2zqeqtrCB\n",
       "lSQqDqGb3dYqnxdkG5btdCzqiw+Jf7QtF0Wpp2TGreT8wDTq7re4Rt9akqg4eHSFHlM/ovP5FRJp\n",
       "kE9lBh2LOukZXTi85rdnN+9wfswss3XuNvhIBBw2FMGjOzDlYWhB3t1ZKc86q/SRBrr/KgBxsZ8b\n",
       "xeEJef3odMMZ5nPfIeYRXOuyfSReHP5cu7fs0Y3jjUY3MCa+1I2ysB0X1/C3007rddIGgOP474cN\n",
       "wpD4W/7mYTxMVZfHTkD3kLYqEf1B0hXpAi6+ZkFohM2wCW5RJ52dhrdxG4ONbh9uyt+go89squIe\n",
       "g/ixyABVIp6zRF2JcFSsfsQPbn9k5tlxzSo3Eubz5LxqVBrEIXtXCelFeGizy2OaJGU/+sgSlVxd\n",
       "yfFQhIwPOceSLcm7eMkhwzjZSP8HSpBBOKYaPm3eUjo8CCePuTzpNSlxqJclKrm60g0UfliHg94m\n",
       "+OK4g+aWRvrfhubpqq6uxxrFIaZuRMZlPuY39uMB7RVreqxJgWqv3SIIBzQeRwGGGsXBmIemphY0\n",
       "094D090UJyis5BRksblfZHUqj/m1YzU5DnG02LTaBl5+EzM44Bp5dz1rpTqnvesbkrPLG7P7BfjG\n",
       "ATA31+Q4oANKNk/CZOvpETnkUw+QTlBwAH3eurYVZg3bsv9HOMDUSRIqlD0LxcGalm/zbLCO4j1o\n",
       "vmSEzAv9eZwA3RoDpOlqF33nBazH197ZK+vxTd1i4gIdFReHOK8zOdpskFzBxUvjHAdDXS/053EC\n",
       "dPfVhsMiV3ufb5yEncTzyXGtn3iFRe9PKQ7v8jqTZ0t01b9ovHyAr3PK/kFnHidQ15zZPQKxiI2k\n",
       "aw3JIaKtWpDrkxwJDDO4eIcc4l80Si4OB3mdydODadLORSjdF7yP0pnHCdSdBOMOzeKEkGsNsSmq\n",
       "rVi0ufi+4R7p2S0rxWGW1ncMIypieXIws3t4+E2Ew0a+D83ekVvWmccJ1P0dYLV4SPEhyfoM+FgM\n",
       "uPg+SQZjnvhGW9HFYQevM3m2lCxQf0jzI2JSudDRmMcJ1l1rw40izeIEkmyNtRWLMR6PEkh9I2Sn\n",
       "Sgn0kqMgxElWx+M+VYJYnu4/0b5iMW9IPnfrzOME6/4KcGOEeW/4XaZrjbUVi8v8oJlEgI1WEr8U\n",
       "k2uc92vlR0L+vkiOv5hEXpNcVoQcb2iZHJywy+jJ44TqwoqIfLXHGvoXszswxcK9ViQTkqCSdQaD\n",
       "4pAuSCmzTQiO54e3ig1dkTcZBHE9eZwwXXzxIf3iQA6B3BpKLWWqrVjc4HumWTTEaTJtPkl92uvB\n",
       "AY45dUbHfC90bL/7aj15nDDdeJVlcQKJW6MjaVuFaisW/FrRWIB9grBlq8P24mC81OF9ycy074WO\n",
       "dJOjM48TpvslsCxOIHFrZI7zd1hbtjBv1rATlW7PE/4H16ofDnryOCG6GfzYdKg/rPP05zDTli30\n",
       "5XGsXr95oSePE6J7HswizeIE0jZPfx4EmvORLXKdunBISxspnXmcYF20kYnZNIvj46ayNc2aYO3M\n",
       "oF8s1ULd0qpdBU15nDDdiZmZw2xN5OkeMfnjtYbMHFtBrUJ4lG+ApKb05XHCdFfcu3ebZXFIgqfb\n",
       "GRGS85GtIYfdAGvHpVjfow0G+XdBGvM4kboTpLygdEmxJmnRCW7hTmqNvwvKSDcx2vI40bp0k1lQ\n",
       "d9Sida5y1jlwnZCCWVXj1dYHUtu68jiRujQZl1BDnWQ9VlnOtOX03SGdv7AeFbupLY8TqUvx8blG\n",
       "l6ytjmmmLSO6XOdVZ0zqpv48ToBue239G3e1233WNn10tVkvqz/T21yq0pwwJHdpbrBJ/w9lM4mS\n",
       "/wJLZ4aO5mpi/AAAAABJRU5ErkJggg==\n",
       "\" style=\"display:inline;vertical-align:middle;\" /></a><br>"
      ],
      "text/plain": [
       "partition_front: forall_{f, i, j | (j - i) in Natural} ((f(i), f(i + 1), ..., f(j)) =  \\\\ (f(i),f(i + 1), f(i + 2), ..., f(j)))"
      ]
     },
     "execution_count": 25,
     "metadata": {},
     "output_type": "execute_result"
    }
   ],
   "source": [
    "partition_front = Forall((f, i, j), partition_front_equiv,\n",
    "                         conditions=[InSet(subtract(j, i),\n",
    "                                           Natural)])"
   ]
  },
  {
   "cell_type": "code",
   "execution_count": 26,
   "metadata": {},
   "outputs": [
    {
     "data": {
      "text/html": [
       "<strong id=\"merge_front\"><a class=\"ProveItLink\" href=\"proofs/merge_front/thm_proof.ipynb\">merge_front</a> (conjecture without proof):<br></strong> <a class=\"ProveItLink\" href=\"../__pv_it/theorems/562080b62a02698d16a5384a3aaeae3a7286f1020/theorem_expr.ipynb\"><img src=\"data:image/png;base64,iVBORw0KGgoAAAANSUhEUgAAAlUAAAAyBAMAAACHRjNKAAAAMFBMVEX///+IiIgiIiIQEBB2dnbu\n",
       "7u5ERETMzMzc3NwyMjK6urpmZmaYmJiqqqpUVFQAAAB6qHgnAAAAAXRSTlMAQObYZgAAAAlwSFlz\n",
       "AAAOxAAADsQBlSsOGwAACOtJREFUaN7dW2uMFEUQrt3buX3M7t5q1JCAcK6iAYScKJgY0RUfPyTg\n",
       "XCQoP+BWjScxSA5ISPzjLaAkmij3QwwRhMNDEhMNiy+emlUTDGBkUQiKikswGoNR+HHhndjVPTv9\n",
       "mJm+uf0xm7OS66vuqprt/ra6+lGzAKHTczDiaJ7VnM/NVkYeVvHxzfnc3+VqQuUTXkYJGEIUvF2l\n",
       "Elf3N/m+KVCl++T6jSqfynlYMS2NyE2eym6KVLm6v0ms1gysVpekaqaApfmQZfORMowR5VwC8Wd1\n",
       "IpmWEdGYIXryycNYHiXRaCoyY0BncnszsLpJrs6n5ZzlVZuPFiApBlIugUifTiSScWYzUUzqA3Ls\n",
       "zxmoipYbsJ7UmvzQhOie7pDr+2g5Y5vl8JAuC3JJohNR+qDOjLMUZTe1nEBnNHGluVp/tr9Jshw+\n",
       "Vi0FuU6hSw1yntA0IejIEp0I6YiIlajsQdupp7TwJ03TmaQuhI/VONmXM3TyxNo5T2ijMFFkiU7k\n",
       "xmqjticzafkTPqnDeba/yabwsZoiV010s/TpKWWb78QpNYfPWC6BzrF6kRurObqOfDf1DA3wOL9q\n",
       "mVkWU/c3+S30gBU/r4QBujFty9X5wgBhDnA5l0C5paIVubE6oO3KOceZuiq/rrafTU3MPCV5m9CV\n",
       "CxurrBLao3R3s7bH5uPV3bjmcLkjgUipraoVubH6QdeTBPvWJqPLvFZ9scTU/U1a20MP7cqerqWf\n",
       "+nedN+AOwvQKnu9oGXQWaETwUT5/Zz4/hWPVq+tJ5iz9dw/5+/gbyvZqTdKhB/feihdWMx0+g0vS\n",
       "gBqAmdZHepHbrwa026t2B6sJe6mLDmhNjCuhL4Mlrzm4xOGTNUs6fC0RtG4BrciNlfYQ11qrz0Hj\n",
       "aup8/cz3vW+8gvvCxuoZtcc0Yt7h8F39ZF3bjzW27HAJJC6BVuTGSlCWPIQ5JIvVT5HZNWhcjdjq\n",
       "+/27/nTYWE33OpPaQ0W+N1Fh67hxEWQJpM+CViRh9VhJVO7qswteg7X97KBE1ps+43zMVv/Ev+uP\n",
       "AVBP+yUkqIzL6h6inYdZ5LPfEmYi1vKWLIFsUS8Ssfrn/k0VQTmKOzFaTEJmPF8aYBlxzSqMvt5+\n",
       "9kT/vh/uhz34f31Y26tzasttGB9qnEePYRtyS5HgpNGIZL9SniPTMSy+sANmj6ie0GwMenPwEqoV\n",
       "Q8Iqc1VtOQRwMll1eKgfZwFnhSDJVg9bWpF8dpafoxAJiZnaO+ppHNXNin/fu8r0GiJWDeuW4bxr\n",
       "OSrBrfM5j7SGlp3kT5D0VifrRW7iykogIF4YfbZ+jlwkqq/R9L2tBmkCZTKs0B5xbeiMIny5i/O8\n",
       "9zitBIk5ul8vchNXVjqBX9ro+uZlnqi+SIcV6d3UfP6usLCKDbqaVqp8pORhyLQ0Io/vpRSoS4kc\n",
       "V9eatBBP3AnAb2CfZCFY1GETOiM9xihF3HGbsz8SBUHCv1pzEEYsRUncfwMSuKQYezGuPcAXh6/s\n",
       "IbKJcZA3oH/kbAghMelR+LomryjpflSwUSUnd5Mfnc+OYKzIsb/ViuF8bz3Y43VUs7EyaryB0Vby\n",
       "t/SP5+FkzDKVZXmh4JFLrwVIFf4vWGVyNLS3qfuQtSBgZfbzBvvmyQJzJ25jc2V1Wd4jWuIJa93/\n",
       "ZQ5C35cYj07PJuUWOps6P8dyf+I6PuKo0EAcZSzdZ9AM0fETK2PciFI7VRCwmu3MXffFxnByqS4K\n",
       "Fr4d61JwE+/YDrPp176f7jzo917GS2g49frjJWfErwoNBBfihJkyW+KPxxZsrRt91k2okuijCgJW\n",
       "Pztrk2t/Naxcqou2BBvmjYL6loaxQj9aTZ1pL+K/AP3MsGbRc3w1zv1qm9AA8AoBIFVM0U3ucSjf\n",
       "wI3oYItUQcBqm/9eNHguNaJknfAdg0hFPz7H2ngGR4bqQ5n476/w87M0qC/mVyT0EjpxeacQdU7a\n",
       "DSvQc0p4kxEvpt/q7n6BYDU36Rix4dfwqsPs7p7evZhhtcIRXVJ7EDyXGi3IC8juQTESehO3Zvm9\n",
       "dUOb+J9x+OffTetPUB6jSrr4boJjtUJoIE402EPmYLzA/Cp1pG7E5mC8SBW85mDcdbk4vFwqem3d\n",
       "LyKD/AjpR9ya3cgfGtpEd3Z2hg9GAX4yYS4ZUQcps7llMSm2Ow2YlCtDJMe2sGTjNdY24rEdFQSs\n",
       "rnFE6p3McHOpuGyLWLVoM1GCtZ05tYYy8affnEMzGWp8BiwcBcRrIzVStpay33CsyLHWaSDAnsIq\n",
       "rCHOE59QgqxtxE9WqMAsX978gHjMmqCGq2HmUlWsktroI1g/yDY6laFMglx/o+NnKFelT+M3DxSr\n",
       "VEE1JWdO45Hu5+1aVezCVtGSn4mRTqvBF58bKJfauc8LK+27PmK6dRMc/ZSpN/p60L/O1chJ4iPv\n",
       "UVSst5djKWMFu1RTqYEZOQCUxJMkr+PlojIBgudSCwNeWKlvcylLl2NtXMn8eC9T15sEuP6OYUih\n",
       "/U7Djk+xVLCKKYNMSwceZuTQw7LuQSFAKjdlgXOpTOLCKtOhGx5Pt2YufBhfz9T1Jv772XMBlGyn\n",
       "ULAydCaK0FI2dK5DZ4BcKpOY+fzNU+1sFMUqrj1g8nSreS+FDdXjjZ1Jw8+lmh1eWAXJpWYGvfwq\n",
       "pXUSbh3dQHeLqJ5qzK+y7WFjlbrkNQeD5FKpxD0HtSPg1l3V7T22eqaxQbeF/u4HTToJFDyXSiXu\n",
       "2F70jgeq9WGrq5pj6uliQx0/HP5LkMpHBs+lUomIFb2zoPsBJ0vqpEpd1n9BV0+BqZuFhjo+Jfxb\n",
       "IOUdyOC5VCoRsMqevvg3mV8Y72hydFLda2nOVLV+ASI7LKYe7W8oeDThHci0ctsXPJeq7tspraLl\n",
       "MdfH+FivckyGS6218LGCN+Vq0Fyq++wsHL3ds8rHeh8oLy4Hpu3N+EXOcvliMmgu1WeDSOO04V6i\n",
       "vK1RvcEc++RmXFtH5L4GzaX6zAyKgjv/5mON6q0NXSI35zcm6m+XhpNLddGoYB+5UlAf1VCn328K\n",
       "VJCswoij+LomffAI/K3lfBrZ/wPRO8aG2tM4GQAAAABJRU5ErkJggg==\n",
       "\" style=\"display:inline;vertical-align:middle;\" /></a><br>"
      ],
      "text/plain": [
       "merge_front: forall_{f, i, j, k | (k - i) in Natural, j = (i + 1)} ((f(i),f(j), f(j + 1), ..., f(k)) =  \\\\ (f(i), f(i + 1), ..., f(k)))"
      ]
     },
     "execution_count": 26,
     "metadata": {},
     "output_type": "execute_result"
    }
   ],
   "source": [
    "merge_front = Forall((f, i, j, k), merge_front_equiv,\n",
    "                     conditions=[InSet(subtract(k, i), Natural),\n",
    "                                 Equals(j, Add(i, one))])"
   ]
  },
  {
   "cell_type": "code",
   "execution_count": 27,
   "metadata": {},
   "outputs": [
    {
     "data": {
      "text/html": [
       "<strong id=\"partition_back\"><a class=\"ProveItLink\" href=\"proofs/partition_back/thm_proof.ipynb\">partition_back</a> (conjecture without proof):<br></strong> <a class=\"ProveItLink\" href=\"../__pv_it/theorems/9c796b4622bf8ae15aad18791e2cb13298b6f99b0/theorem_expr.ipynb\"><img src=\"data:image/png;base64,iVBORw0KGgoAAAANSUhEUgAAAg8AAAAyBAMAAAApcCXLAAAAMFBMVEX///+IiIgiIiIQEBB2dnbu\n",
       "7u5ERETMzMzc3NwyMjK6urpmZmaYmJiqqqpUVFQAAAB6qHgnAAAAAXRSTlMAQObYZgAAAAlwSFlz\n",
       "AAAOxAAADsQBlSsOGwAAB2JJREFUaN7dW2toXEUUns3eu6+7r/6RSGyNQSu1NqT1BWIlFusPpfUG\n",
       "arU/2kQlsRSVaKA/zabF/tQgVkSqJLQqgtBtqfSppAgFWzFrVWqLtCsp9YeKyY/QhxacOXPvvHN3\n",
       "zb1ciAf25tw958zjm5kzZ+ZsEIqMXkILkza60ZZXnJBeMyqfMRllzGVVmqsyw7Ur8294+q5ogbgs\n",
       "vy5W+VzZYLTYXNZ4c1Uu5trjIVp+NlIc8qPSa6GbPJ3HXY9PVNFtolySaAOUmGhQ26G1fh3pftBu\n",
       "aBFAVj1KIHbKk3MTPNcP1Ty+pRtlxbUoSUTacnQWP3c3aPpvq/06EqNUe3eItt8bJRB3yK8n4Ln6\n",
       "E5fxKC8OvSQB+tz7myBAnAmuLHmhX7Q+09gikH6I0F3mu+R3eM3Nch7TA1ysSAh9LwKRDG7afley\n",
       "JtrJEJ3JVqMDIilP8AJ4DKud85j2CHNblmhAZIOX/BrZmmhnQziJ3LXogLhdHhCH4JKf6qx6fA+Z\n",
       "xuv5/FEkGhDB/uu7Vb/7dfQs8bRDebyPogOiU5lsMD6lss9378XMN1yuSDQglD1IpRlWRzU5QbWp\n",
       "xcEOQp3/tfWXInMS6avyewvZE9Dbgx6frh0lPonLFYkGRKErMJC66teRqJRqVDvYogH1liMLK5Vm\n",
       "JMcAaJ+30UrMDAtDIEvISN7njSQAkZ4Oqq0w7ddhw2AS7WCLBpRqj8xX1k1ArGF8gfRur+LtuESb\n",
       "EbnA8aWultZx0NPOhZkR+ci85fCEaWm8yvhs3ZVCWUWiL43AIUrVeR13etrUYp4+wv4nsk1DOfSk\n",
       "YNGtZHzvGHbxp8gb7bYi0Z1lH2meXg+1TpZZHZkbnjZYzJsejQqIF03hOzSS8sMZPGUOkc5dRwaJ\n",
       "CIR1zd8ae0e9BxgxBrvaMVZHftrTdrrDtP8FhGCW/RIWiAfVXaSd+TTgi99i5h7y1uEaJAIQxanr\n",
       "f+BpT7raQs7HLSTgWO4zYO25WqijSCYC0QaLedPTCB0jf98PiYP9t/rN3WSg6pwn04BGk64ukWYE\n",
       "0A54/qTvFwDEV9waVskOZjFfmhxDb5Am9oUEIj2jfoPPQBezNX4mIr2HNWAhXSIduoQzmz7biXWh\n",
       "/qFvXaxN+me3E+GcfRkOx1YtJBCFm5pjr6ClmzhPaBc8e/BHlegRE4yMrYc5xLqlf9S3Hq6t8LRD\n",
       "jmVvFeXJgSX02fOqtlj60MkjnCe0FZ6kc6oEGWAk+4cuINb5topv7bSNedqpSqgOlPBaXdXRcX9Y\n",
       "IBJ6QDKi8glTU0fM5bU2V+0I124N14ESHpHDCPWHBcKaRQubkni1vYUyPD5+jvo+6tzoVz/jzyCb\n",
       "8ZWEqRxnoQPRgne0lGuRhWYfJ079Mfo1dDxFl/+YuM1ZZeTd5mSWP4m+9hEsTi90IMj5tQy+MnV6\n",
       "UPVY8Nyi2uzDn9eubEMXLddx/09AoNGT4C60uwkKxDHtgs9FzmESjZarVsDSiDHB06R9hT0rxqWB\n",
       "1pGb8MLUOvwch7ne86UABNaw2/w4I7cEgg7IUJy7MMKAsPRdI8YET3P2iRoTjRudJdoJvT8FEQyM\n",
       "bPU8ByKDNRx2TdqD502hSnf/c9bmfawSLY6IM8HTyB6U0Y/ksd01Z4PgPqUIzuE46fVmMkNs9ykO\n",
       "RA53+hnLb+ubZ8k3OSjnHKreMndAFWuCJ9ieKtugd+sc2aASH42X+TWCd+8OQBTq9Jp0+wCmCnoe\n",
       "I96Xf29g4BUMxAYWkRZuqCXHmuCRl4BqT5WdCX4K0ovv5aPxELw/C/w1DkSaLIOS713s2UG8NNLd\n",
       "dEbk2IExrd3wxJrg0YEQ7alykuFiygYNMwdmzyK7G5130AbcrS7ZWaIhNvKjVZQo00j0NEJLWEHq\n",
       "MTzeBI8OhGhP70fPs11vwlD8JXbsxJ1Pr0ZbWhFeu4m6AAQ5KrEO279WyPFmF/Yq6WUVVGQFLVND\n",
       "TTJpYkvw6EAI9lSZXo8tqs+RDeJXjWQBF4Cr+XilWPy0R7TZiAt8YmCbXNCUGmxAEXEleHQgRPsZ\n",
       "Nh0d9IiYDRLoLxY8XcSD/DGsXveDITGgcirZT6XFeMR4w6MsungTPDoQgj1VRivgiHpzjmwQu2q0\n",
       "FuEHYJtHB74QgUBrnTaxl3nj3eCw0px4EzzIfgeu8QdN9t796MP445IkiikblJlpIoBVLtVt835W\n",
       "NwERV4JHnxGCPVUGIJDTbs4GRZfgcbpMSyOuBI9habQryrA0IHjj2SBOxfaogMgpEVW8CR6Ds+xT\n",
       "lEkoSBMipmxQKbIkMGQexMlbRzEmeOSqfXtJme7dk8icDZqM7rdDSlHxJnikWc7tRWX0OnlcQeZs\n",
       "UGdkOKg/HYo3waPTDk0Zbt1WImM2KMqfDuWVq5lYEzw6ndCUccT4JzTSkA1K1SO87HpXKTvGBM9c\n",
       "9pIy2pq+SfYZUzZof5S/xh6S+xRngmcue0kZHw0OHEPmbNCKKK8/E0qfYkzwNGefKTNRq2GLi44u\n",
       "L9gr7M+iLS5bW6A4pHdHXOBC/ceVTeAq/wVFKIr9o7WhBQAAAABJRU5ErkJggg==\n",
       "\" style=\"display:inline;vertical-align:middle;\" /></a><br>"
      ],
      "text/plain": [
       "partition_back: forall_{f, i, j | (j - i) in Natural} ((f(i), f(i + 1), ..., f(j)) =  \\\\ (f(i), f(i + 1), ..., f(j - 1), f(j)))"
      ]
     },
     "execution_count": 27,
     "metadata": {},
     "output_type": "execute_result"
    }
   ],
   "source": [
    "partition_back = Forall((f, i, j), partition_back_equiv,\n",
    "                        conditions=[InSet(subtract(j, i),\n",
    "                                          Natural)])"
   ]
  },
  {
   "cell_type": "code",
   "execution_count": 28,
   "metadata": {},
   "outputs": [
    {
     "data": {
      "text/html": [
       "<strong id=\"merge_back\"><a class=\"ProveItLink\" href=\"proofs/merge_back/thm_proof.ipynb\">merge_back</a> (conjecture without proof):<br></strong> <a class=\"ProveItLink\" href=\"../__pv_it/theorems/d62a815164c1a16e58a62b2482d2eed744fbffb60/theorem_expr.ipynb\"><img src=\"data:image/png;base64,iVBORw0KGgoAAAANSUhEUgAAAlcAAAAyBAMAAACDs+N3AAAAMFBMVEX///+IiIgiIiIQEBB2dnbu\n",
       "7u5ERETMzMzc3NwyMjK6urpmZmaYmJiqqqpUVFQAAAB6qHgnAAAAAXRSTlMAQObYZgAAAAlwSFlz\n",
       "AAAOxAAADsQBlSsOGwAACEJJREFUaN7dW11sFFUUPtvd6cz+zHYxmpDU1lpFgwopRNEYMAXtE6lu\n",
       "I6I82K2SVh6QVGpIfNBui/pgou2DTYggLvKjJhIWBBGKpvhQAhg7QUn4UVhSE2MksTw0LT9NvOfO\n",
       "3713frY2YSb1BKZn5jv33pkz55x77zmzACHQazDbaHU2rJHTQ7NOWfK8sEb+gz9VRF5xa6S495Wf\n",
       "3pCKt7TC9OTd25mQdJXq589rRD6RcWlV497ZjumNWeMtXcP05N1brBSOsjbz709txGPymazBR4pw\n",
       "N4tziMM3ImVc2m4NcrsgfbDJgFYvBr0nn94eCUdZ9/Kna+jx2S7N4CsaIc6GUw5hqfXIODkO+A9m\n",
       "t4ZIPy8d+3OZCW0Foyfv3n4JJcSnGvjzY/S4bE/W4iHFmhCHUC81X38ElXXafzShNSsdvdBuQlMm\n",
       "5t1bvBiGsqK8fQDVXWLc5gk9xqiGR9BxMqyyor5vXGzNSu/LmpAuhZh3b4nJMJR1D38/Kg33sTqb\n",
       "J7SNcRYecSgr7hu0xNas9AoLijWYmE9v28NQ1kIhAqOhpUYXFg2+Bf3iWdtpBcShLN9pimkNLbW8\n",
       "9M+L/zaheEldmaWYT2+XQwha8oQQC+i7rMqYfONOwpy0cQFxKEtciPBkt4ZidIiXvmZBuaHfNw9R\n",
       "TMcP1CMJbzWXCWH5LsT3CpytoK/T4GXtCE49Ni4gDmWpDX6jWa0hkq/SOGllwhr+8gfaW3mK+fRW\n",
       "WRdCfBcMPVqgNm7yEiwiTDdj/TySrK+/b3F9fclSljzmN5rVmjRHP2Kk1TFr+G9OgNGTT2+pECJ8\n",
       "95CbslZYvIoa2CmEYRtxWFbC17JWMGMc4KX12E+h+YOdBubTm3QrhMkw7+aGGyw+XspyOzEBcbqh\n",
       "r3dsYMa4n5euLJmQNJWYMDAdd41Z8FTwylorhgL66IssPlcg89MwvkkdFxBngG+zZVnKCq1BuWFK\n",
       "61A0Y0KpcWkqomMU96BXg1fWErcdKn0Qne9WiJ8exNmHTkwiwiorNmnO/SgrXTcbWWdsa0iNGdI6\n",
       "BH0FE0r3SxMxHUs2et/5cwDUGH8LTFfSTXEpUWcFW8qnfyLMQ+gg88AFYZSVHr1+lYgVTNmHkSma\n",
       "h/os3xrSaDRUmkJG7EeoUoPqu3SM4h40UoCj+HdLcMusa+KVB/GFl2weDYJGjrPgRDjLotQLliy/\n",
       "M8gKranb9VoQ/CB23Gv15jE1ZeAdvLm2wJSlTolXyN71Ulzj9rlJ6m/oESLCbaSZfbjTe2J867Q2\n",
       "Yu2oEVJLn4odH+P36w7KFWk6JKYFl3OYcCz28vDAGptHep86LFqCiDjznG2WLE8tfOtubYEljVBF\n",
       "e7/QMWK+VlNVghRuH4OL7xHH0k5qg+Pf2TzSOiqJBxEBF1Wbsjxl+NbJ6oIljVCqOi90jJjXK9GV\n",
       "RSTJevjR4JQVG3dc6hH5iNst97j3N3d6w/Z4S/cwPfn2FiW2eBig3X7N+n12MjJG0usc1/Al8N1W\n",
       "EmFZfM1GOBqH2UoVZNr5CBScM6RBjJuxjDVF/Gg8oW6mqQKkmHzwckiac8jBQgrXtiyawknYVLh0\n",
       "EixhMoGPzV5lka1QZTZG3flUp9umzVRWK/n/JJc5JBOQXNtRUEtNcAh4tJW1yjfu0IX/F8pSMzS+\n",
       "V4m5rT5glUWWYwr/nAMAuP9UjyfpxM2iR4FtewaYQsAsd0PoP47rjtFmNJda6jjVuJQYVu5klFWH\n",
       "+6Ye00B2EMdt1gtH6ttfZmiy00ZRuOV7TlnNwG5RhNlf5G9fkbVMJbVMcgkXG830tQ/TFQi1ryRN\n",
       "TF/58Pm89cAKuZKee/YJIwxliH1chNV0ldnZdAG1RNFvOwgNoXDxPKesi9bSwbHOCrLIWqaSOo1M\n",
       "3Ga6JxjEw3s0N/JCDGPNIk22LStBjtEac5ZUXia2swe+1pWVjKCIjaKwlF3JKWuP96I0oCKrtBa9\n",
       "qEwl1ZeqcPg0fcj19MIr9IiJaeXmYSbuqEShfSREyWg662hiYxOcJLymdkqNaIh9g9YEgcKwDZId\n",
       "HUs61uvK2mRhN8R7CKrIqhf+Bso38dzu2MM/Tv1rnD5xVR5j0OeKrSyZHIcTdaa7515Ez3pTtyzY\n",
       "i25DUd0NURgm3d1QduQbgyqyVmnmVvD0DHO8VnSQyMCrQO0vSkR/XYRNZzbG+AB/Ra4zdXueLJzm\n",
       "kEWHvqaKlEgjBkVhuYFT1hxrSDFFE1iRVa+p+ldSfemytYPGh+vSpCt5eRlALWEr8+kTjLLW4b+r\n",
       "pqe1zsVTBT9K27gFoEQaMSgKR0pm23c/W27s9ijNF0NWUEXWp60IE59Z0LIT4tTyqepUeq92HkJX\n",
       "1i6X/S+s6ugwVq4qh+0yb6jNuQ0eFSMwXXcEUGTdDr8egnKVVD/6x9q8XyJmkaDmuTv+RYPBMspK\n",
       "iqsT/sJuAfuki91XssIjgg8EVWSVbqnnlgJTSZ15QjyGQSVF2aFkddZgGWVBk9D0FHcmGHbT/kNe\n",
       "wt1C7iyoIqs6uVfeAuUqqX7r2mvTEDLzPsJl3yDpIxxWkTW5lOqtTCXVz6VDKLImG9yUdfuLrBVb\n",
       "6bqxTCXVh9J1wSsrccPNDW9/kTWn7esEtpL6nxfwIXwYQitWbF44oCLrSDanZcpXUr1pJIzvJIVB\n",
       "gyqy/gW5zsbylVRvWhhGWkj4TDKoIuvrENmfLV9J9Q4foXwmmRLSf0EVWW3x3pncdmUpDGXBx/xp\n",
       "MEVWVvzYTO56Xzi/3uniNwPBFFkZ8ZnV3xeEk8uOtImbzACKrIx45UzyymH9HEX8oVOARdbylVQv\n",
       "+iokXUFcg9lG8kBoQ8++H2euoeH9X4R4xRPvop2sAAAAAElFTkSuQmCC\n",
       "\" style=\"display:inline;vertical-align:middle;\" /></a><br>"
      ],
      "text/plain": [
       "merge_back: forall_{f, i, j, k | (k - i) in Natural, k = (j + 1)} ((f(i), f(i + 1), ..., f(j), f(k)) =  \\\\ (f(i), f(i + 1), ..., f(k)))"
      ]
     },
     "execution_count": 28,
     "metadata": {},
     "output_type": "execute_result"
    }
   ],
   "source": [
    "merge_back = Forall((f, i, j, k), merge_back_equiv,\n",
    "                    conditions=[InSet(subtract(k, i),\n",
    "                                      Natural),\n",
    "                                Equals(k, Add(j, one))])"
   ]
  },
  {
   "cell_type": "code",
   "execution_count": 29,
   "metadata": {},
   "outputs": [
    {
     "data": {
      "text/html": [
       "<strong id=\"merge_extension\"><a class=\"ProveItLink\" href=\"proofs/merge_extension/thm_proof.ipynb\">merge_extension</a> (conjecture without proof):<br></strong> <a class=\"ProveItLink\" href=\"../__pv_it/theorems/1c492b06579a8144c5fc870868561cf29d7b98210/theorem_expr.ipynb\"><img src=\"data:image/png;base64,iVBORw0KGgoAAAANSUhEUgAAA3oAAAAYBAMAAABeqZKHAAAAMFBMVEX///+IiIgiIiIQEBB2dnbu\n",
       "7u5ERETMzMzc3NwyMjK6urpmZmaYmJiqqqpUVFQAAAB6qHgnAAAAAXRSTlMAQObYZgAAAAlwSFlz\n",
       "AAAOxAAADsQBlSsOGwAAB1NJREFUaN7tWl+IVFUY/2Z27szs3Lnr9c1Ys2XKAkNRU5LIWiUfItxm\n",
       "QTSpdCJ28sFicMM3czIShKh5ESTMRizroWiMtUwt1hdBg5y0HtZinRDyQQuDhlQQOt93zrn3/Lkz\n",
       "adSdFw+ce88535/zu+d3/s8A9DxURVTzWoEusUL2NurpoN3JRbaTLD680eXZ2/Dzv4ZEk0c1D7C/\n",
       "g2ZEyPm3XE8n7bs72KBylEGMeO2wXwHWwoKfe8jeDyICTKyS+UFITKo6qkQPW4oAs/+hhtAathZ1\n",
       "bfcJZg/eMHtkxjq4nh2NOS68WsjMBV6VAHYUC/f0jjynxiNA6tJykYf7AHYrOrpENb78Pvu8/mLX\n",
       "GhRruMvQHhnHHr6e+nqtg2vbfax41bDhqzbwqgSw13AGLfWOPXeSR4C+82Mg0wDfKjq6hGYfmb6H\n",
       "fUW+0bUGw1rTXn4QW/K4qv4JGK5t97Hi1UAl2qIqAQxJTDV7x16fiACfFSFIs7fSQXUJBs9XWgOW\n",
       "dq3BtFa0c216LVTVvwfT9dIozPHhVUERe30hsDzjuL+Hy96UiAArgzyGfqXv6RK7NfZ2rcG0VrRT\n",
       "Q+Ss1pm9vVHu48VrsUdVCWCLC4UlPWRvQkT4bvFlkXcGGbxUK1AxJHZrjHSrILQGZ2ZL085fXICT\n",
       "mIubltE5keyNRLmPF6/FXqoVAvsSYKyH7IWd+w+ZT+XYVJZXBoQusVvjVNcaAmtw4VFde4YfDJtG\n",
       "32QUe6ekgVug0ILY8VrsUVUC2NuQDbvNM3xfSs+GfHri3MjeTjWhzgdVYSBcR4JB6wz4XGyv1/NF\n",
       "hOxfMr/NZfC8cDEyJHZrnOvWGKE1zIKbuvY7FXwm8cRZndGMYu9clPt48VrsUVUCWLqYquMoPYZ9\n",
       "bwXpJOmj+EaUPU8LMXunfEnAs8dJsEJW+lwtghuhxBy6nDqxud0xUc8/xpOPiAjeVZkv9rFvzVwN\n",
       "+dclOAzuXSyGAbXG9m6tEVpD0Wvr2hf4hoN9vwMX0NPnhcJDhcIC0Fxb7uPFq4Ii9qgqAczzadOS\n",
       "Pl0x3Ej2nBYXO3yIfsClmz8CUQDITGbmUCAKQ6iUGyYx85mZU657rVVw2GCP7yAojQ2ZW2jsLQKJ\n",
       "3ZcPdD0+hdbgDunaKwP2WBtFrnsHotzHi9cae1SVBFY7QUuAdYSU7Ll1LqZ3cNZkbkQBpAnfUMQx\n",
       "VFHaTWLm8xjrJd4JF4aNmTPdCvL7HO5PBENit8bZbq2hWENyWNd+BeTMGZ6rdfbOSgN13YsXrz1z\n",
       "DinAVuPZ3bu4Gq/QyHL0a429pBCzd26OPBxOL2liARkE7JnnRqFEDleTuMTvebxtH/sC2AsiQp8v\n",
       "886NFFuasXr+7YbEbo2TmLIvMExrts7Vde1FvL1QI3sjkr2T0kAN8eK1dy0lBdgbRBmmHJ/m2caU\n",
       "xt4uIWbvUTYEPVrd0MMuYRCw5xkLH1fiDn8icQnWknJl1XnBXrAlF0hHcF5/S2zjN9YiJFprPF2V\n",
       "u+vr8oFGQUK1BjgDqrZkjHbg+asme4HrCbOZ48WrgkpdkyccCWyAFrxj+DXP45h0ik9p7B0UYvZ+\n",
       "k43VHJW7DSzgBgF7OePGjStxhwdJXOJ3Pl7FTQjdLSKKHQSlr7DxmcSPSM6NkKit8fvj+1jJPEwW\n",
       "sDM/iEYNmTCt4Vd8hNpig5DBjxgoGQ0Vup5nshcvXgXUwMXrV0RVOrDNwRwizzOSvWkhnubjOUPl\n",
       "6UkqYAZflF8slyeJvYzBnlAih1tJXIJT5XK56VWcYbGXxv0t7XG/AWW/y7al9PwRbInWl2kI8RsT\n",
       "eyqyrBfp2q7Ydj0QTljK2JOus0Om31jx2qB22MAexsfGdZS+prG3VYjZ22lXxPTYV6ECMug4cwol\n",
       "cihnzlf52INP/fDSmEWv9Z5+icxvjtkcYUm0W9/w0jhlbwAM69/ybU17ur8pb5gHmmeK5i21foeu\n",
       "rQhx4rVBHbeAOW1whmHKhTVsjCy0di1MjG+v1oCEzxRhY5EKplyVvYTPzJkUH4oSOZxJ4hI7XiK0\n",
       "OiTkFcEmismxmpKXP3s4jGJTYoed9By1dwG6deYmbS5D7fvXyzmiur05v6PrnXZxnHjt43zJAsYa\n",
       "OLMcNsyC8aZsWMleusrbn72dX6rsxRRhnD4aDTh72Sf/9LFgvJlZBuPVzDJFiRxuomQJsi/hpL5H\n",
       "/CzMwlqK+cGqkudm/HrGlES1JQb7F2vT+tBRXfvEEdlsJXew3tF1BAlx4rWPFFULGA5zj1JNeV0u\n",
       "2cODNopzwxKTx39jEgV87Em4QXdRlJhDp0Ri9lxTLmstlfV5VPN4SRTR6aL/UpCo3tKFqrCO1H69\n",
       "gw0qRxnEiNcOsyxg6Wm2RH1IM3Tx3XH9tA5HuBh4Vz2Cii9fgqCA7lqkKBesxaESOnSrJC7BnfDf\n",
       "hxRbloCGXB4OHTbYSxVJzN58yWKKK/ygQFnM62guQ6iEDk9z8R324grV4ClJKgYXAkqBeVdghaJ4\n",
       "OND5X253wr8KfwML7cqRa5CbYgAAAABJRU5ErkJggg==\n",
       "\" style=\"display:inline;vertical-align:middle;\" /></a><br>"
      ],
      "text/plain": [
       "merge_extension: forall_{f, i, j | |(f(i), f(i + 1), ..., f(j))| in Natural} ((f(i), f(i + 1), ..., f(j), f(j + 1)) = (f(i), f(i + 1), ..., f(j + 1)))"
      ]
     },
     "execution_count": 29,
     "metadata": {},
     "output_type": "execute_result"
    }
   ],
   "source": [
    "merge_extension = Forall((f, i, j), iter_ext_equiv.reversed(),\n",
    "                         conditions=[InSet(Len([f_i_to_j]), \n",
    "                                           Natural)])"
   ]
  },
  {
   "cell_type": "code",
   "execution_count": 30,
   "metadata": {},
   "outputs": [
    {
     "data": {
      "text/html": [
       "<strong id=\"merge_pair\"><a class=\"ProveItLink\" href=\"proofs/merge_pair/thm_proof.ipynb\">merge_pair</a> (conjecture without proof):<br></strong> <a class=\"ProveItLink\" href=\"../__pv_it/theorems/dbd3565a0cb6fd2fb30ddf8b12c90eb6b58d52040/theorem_expr.ipynb\"><img src=\"data:image/png;base64,iVBORw0KGgoAAAANSUhEUgAAAggAAAAXBAMAAACczao3AAAAMFBMVEX///+IiIgiIiIQEBB2dnbu\n",
       "7u5ERETMzMzc3NwyMjK6urpmZmaYmJiqqqpUVFQAAAB6qHgnAAAAAXRSTlMAQObYZgAAAAlwSFlz\n",
       "AAAOxAAADsQBlSsOGwAABXpJREFUWMPdWE1oXFUUPjOZNzPJm2knu0gqhkEtKJa0KoIYHEUXIo0v\n",
       "INWCmogkuCgSWuhOM1YQBLGzEURqnRLtqmAqVWsbZboptBEd+7OISDtQ0EVVUjBYCwXvuffcd8+5\n",
       "780gjqseOG/Ofd+XN9989/cF4H+JOiVvixsSgSKlH0W/TiOl3+x6u4uEeg8Z/ykybZO8DXCoC1PF\n",
       "UMWkH7f7dRpJsFikcrtKOMRkdPDGz32acIES4NiTtj0KmRbnOAT2RrBJfWxKPKdcc1SsM0uSFD4R\n",
       "OUTG7ijtgTKEBK2OZJzAWx/050HQMAmQ+3WC2nAnwPuMwxC4DWAwMiljJ6Nina1J0uSetkOEgqsf\n",
       "pz5QhCcB1ZGMN3BazPRnQtgyCTDw0yzYGmCFcSQCpSWTMpYZddkR45g4HDlExxFb3BGlPVCEJ2HF\n",
       "yUAvcu3+TBigBPgsgrhWn6xnJALwIKWIcUYdZ0Q76deBIxg/chOSDxThSRiIYhklZcxgn0vCKiXA\n",
       "43EbY5AtChIBOEAploSGo1ItSLkxgSRNONBTpidBqyMZ26rVB/o04RglfL/tKrWDUfUVuU5McQgE\n",
       "w3h7klJMq5qjYj21LEilK1uWOJI0YbKXSl9Cjsn4CmA2Jj6vrwV9pQlWcB1VJ5y2mpRevWbbuSE1\n",
       "aEusz2IEQnhEXc9QQljV0XEj55rtp9qiJZnYWBFI0oQzPfvKk6DVkYz3oIgCgpOo4DHNy87jlVZL\n",
       "08A4a3EVLzRilwDuo4TiX7b9eqgIZTd7HQIjcFNdz1PyyLYdVdWF9teStH9eIEkTzvfywJeg1ZGM\n",
       "fJRrqip/dt77I3/LCGhwhzg8htX0/MQiD1NCec22owHVa4U1N4piBKIyrm8LlGKBbTqqqgPYKkmX\n",
       "QSDwebV6f7W6xZmw0MsEX4JWRzLKFb0ubkzssb4JYdN85vUTx9i2HJtgVi5dX1bg0Li3phlWiPUi\n",
       "ZdIEQ8Vau7Xor2wxkhwJiz2PCZ4Erc7KaJzCH3VlOx4ldWdPfcNMoAYOQ8JjE+KdNZ4O+U7cPhgY\n",
       "EgVDzEHnHCVfE8x0MFSsBzsRkUy8BgJJmnCulwm+BK3OytiuD3anccBXtMFLq8wE1QjnVOyCdwiP\n",
       "TSjbReFlShio2HZwI6eWHnxEABJRU7tJ33fal1lxVKynmzUimZ+8FQSSNIFxxUROlaDVWRlvaYdO\n",
       "4tLxIpoTRE87E2xDxWHCYxOG7ISJt7v9TdsurL1LW950QyIAP4htlQ/YjqNivVBs0Zb2t17ZboBA\n",
       "hAnP1IFx8UvjoosErc7K2KBXxF2uK2i7m/EOK5c0/uXcK3NzLW1CwZqwm5JWLl3/plRm8Wuzd3kI\n",
       "/IKXeyh5FMYcFesN31lSNXIrW4xwE/549GCLcbM4SO8FKtIlaHVSxkN4mX5O19e5CdftdNhLeHI6\n",
       "4C6qd9Jv5a66T18vgofgqC6OmZSxmVE308ZmToloQtgRiBwJHldGqoR9CRnBOgQ1WA3hWWX1ODOh\n",
       "MM4WxtWQm5CpyLehcucj+dJjjnW4BjHk99K6eOfiscKoK+7lTE0BHImD7eR72RH/Rc5wvUiVsJyQ\n",
       "oX5rYQJeGgH1sprpMBMy8dE3X0fcmFB86s8K3qB4VWd2tsHa9uU0UFYxpHBT7wFvU3orY91R6emG\n",
       "NKXy7p0gkGQ4rrcwpknQ6qQM7Lyyrtr29DrjvQQN1dg5AWMH8GoHlEbrAjFi8XTNkaMnnG0JtTOO\n",
       "GswwP3HMnToOAkmG43r/S0qToNUJGflLaqZ8qn9q9OEedliyDYzj7sTI29jnFZO8jYfTlLOrYWXq\n",
       "Jv1406/TSILFf2v9X73ukYSRhIzcsLroPi/B0S+YCbahSXLFKTXh1o+kr1HKEeRWiH8AmEutRyyX\n",
       "2HMAAAAASUVORK5CYII=\n",
       "\" style=\"display:inline;vertical-align:middle;\" /></a><br>"
      ],
      "text/plain": [
       "merge_pair: forall_{f, i, j | j = (i + 1)} ((f(i), f(j)) = (f(i), f(i + 1), ..., f(j)))"
      ]
     },
     "execution_count": 30,
     "metadata": {},
     "output_type": "execute_result"
    }
   ],
   "source": [
    "merge_pair = Forall((f, i, j), Equals(ExprTuple(fi, fj), \n",
    "                                      ExprTuple(f_i_to_j)),\n",
    "                    conditions=[Equals(j, Add(i, one))])"
   ]
  },
  {
   "cell_type": "code",
   "execution_count": 31,
   "metadata": {},
   "outputs": [
    {
     "data": {
      "text/html": [
       "<strong id=\"merge_series\"><a class=\"ProveItLink\" href=\"proofs/merge_series/thm_proof.ipynb\">merge_series</a> (conjecture without proof):<br></strong> <a class=\"ProveItLink\" href=\"../__pv_it/theorems/d440a70184f98d4d5ed228cbf35989cfe0e5e7d80/theorem_expr.ipynb\"><img src=\"data:image/png;base64,iVBORw0KGgoAAAANSUhEUgAAA7gAAAAzBAMAAABPiLnuAAAAMFBMVEX///+IiIgiIiIQEBB2dnbu\n",
       "7u5ERETMzMzc3NwyMjK6urpmZmaYmJiqqqpUVFQAAAB6qHgnAAAAAXRSTlMAQObYZgAAAAlwSFlz\n",
       "AAAOxAAADsQBlSsOGwAADAVJREFUeNrtXH1sHEcVf3e+va+9s8+irQIh4bAUqpI0OCUtFSLgVDFS\n",
       "i5xuIHYbhdouVYwVpeDWkP/A50ZE8A/xHwShKi2uYlIhtcqlDTQ4BV0FqloH8CVp1LRpnasCqUT4\n",
       "SCRM0tCozPfX7p3t80i1yT6f1vPx3pu389uZefNubgFsUGdnJ4S0sMgaJp/54L/Xd09+c+GY0uXR\n",
       "/9/+4D92FH76Oh8ljaWFY0tiBU+9HIJrg/6iZ5N2tBbqEzsRgmuTMiN6fpkdtU/VJxarhOBapF36\n",
       "GMu22VEbqXOyXxWCa5E+qWe32NK7tz6xk14Irr1ZuVXPv2hL8bH6xFLFEFxr1GBMw63WFHt1iaWv\n",
       "hOBao0/oGGRHbClO1bnoPhmCa41W61kXD+RNy+/bUJZlRtZPTvNfv9NR1e+dI531QnBtRQ0uB4y3\n",
       "YuQdNy/LjKyfXFieew79HxBoF/gW67kWTKvnYFFPLgTXEjUaa2wUDdFMITPdWIINNzCXi2a/Xn3C\n",
       "fgUmvb+j/zeLUYsAyta5esfzIbi23B5j8mwYRaMZXARkJpfupYObZBPN1QfvAPwmYE64WKf7fiUE\n",
       "1xINlfzgoisaeQ0DcIUX4pkyW2tmXhPg9tY5cp33Q3BtOcsF/7QMcLDgeHs8WMcKcbYmuGj/0gnO\n",
       "Uu51pZeLh2Huay58MQTXEj1krnhokHaNnoMYDHmwChzgWQKW41eAfFtnO1q528AV26hNTag001un\n",
       "Sd8IwbVEdwRsYM5+93l4FoO7BnpGeJaAi7POe8AuPJe9vLU1XYbOGAsuwQ9O8E1VPXQvA5d4A2/N\n",
       "H1wrehYjOeY5hQSCcGtz9sUyoGn5GkRX8CwBF2dhJbBLFIPZ4oFzKHfmT3QbtbMPUQEexLWjddo0\n",
       "OUrBHcf/fjZ/cK3oWZTb3EtmidjOUIfqlKgga+gpn4asjHA18fXbmUY73sfq9vFyFNzvo2uyd/7g\n",
       "WtGzGCl7zSwR8f5ILo0mtDYdXP9UG5PJQcE6UpzHNxA9RQpuCj02sfL8wbWiZzFS5rIvhiDc5w1L\n",
       "0Yyb47nk3f/OKVlBm2RyuZjs3ynMY6w0VSi4GbRLS1lwqKzoWYwUueJbhTVQIga7X4MC977gh2TO\n",
       "4PYyb/m2lpa1NrxlG3oWI8WmfUXDdapKPa1FLZbUbVPDCAP3BYBtovR+6iOQK/PKT4MSzr4fctXA\n",
       "1fTMiVzZUNCaVmBWySc/N0cB/2g5Xdui06CoOM07RHRATlXpTlt7Ttylnh1F0TwD98eQxDO0cxTN\n",
       "q7Ce1hEw6eSSGVX9v/UcCUiuvAd+X1HAZXrqoLhsyKCtyKWY4FbhNewG8sy5sxbAofqieE7lOllj\n",
       "j4FU4Or1Km90QOsAFxSVjRcX3mwSbWXgxr0YvtX4xIDBQcHtNkrT2Nt75Px2mIp5rqeAy/TUDW53\n",
       "QM2Op8GpyOFNAvFjzIbZCJBQ/Rj5aNRdwxqkoludUgI6ALc/tijAzeaIH9TkmxEouONm8V500y/g\n",
       "gEWuGFOnZaanbnDHA2rQjOeOSiayb8Ru+d5ZCpDNBxJIGTc3XsOaaVkdr9YBe0GqtDgt2wOXT8sw\n",
       "8hLuhXP4HMBT5Knf9FsFXMQmw9m4HvF9HKdff3NYA5fqaT6ylPt4SlJSUGGcNxRZOnxErZhaW4Yo\n",
       "swozkUA83m91zFKAgIsEzD1avop1TEVeVZEXHSI7oEPZ9sV83rJ2KD1pFgRyzVzso4LgTlZ3qKBj\n",
       "L085OfIUFt+Q4CYRmwhnk/ozzNV/PfbAmAYu1hMpnE+xu1aSincTVBjnDS1p7H2CDAYcgdtBA+c/\n",
       "YlZhJhKIzxaxDbMTIOAigay+6CJRnyGKClQtVeBmWIeIDsAfoTLi2+dqh9JJOh3khlY5uh7IG7AD\n",
       "Kwtuv0RDhUO6i6SO4ht5AA9nx/uKBBd/2yzC2aT+AKRLBFwo3qSBi/Vk4EHuWSpJxZMJKozzhkrx\n",
       "nLbwu0XcHLWKgbuGMB6YpQABFzGm9XAAygYawlSgaqkCZXiHiA7AH6HSH8Rgh9IPt7N0pEjnOtHE\n",
       "Bk/W6PSoBzpvABG98Bq+7PQIt0+iqcjBbST9s4N0c07ZShPrsxj5VCmBn+t+Ur8TMj/t63sYgbs5\n",
       "pYFL9aBJavg4nTJQMunbHeFJTDhivcrqWKGh1eQyub2Lo6doilj1676H+vpKJBCf6MU2SAHY7VUV\n",
       "IOAigYQOLhENMISpwNVCBeHdB1oH4I9Qmb1q3iI9lB57dx1LR9v0RX/jYFnWaNGPCz/3wOcgmPtq\n",
       "otchk+lHKbdPoqeNg0vpc6TwPgEAu2FyDyKcjevPQKKNjtz0cQ1cukVuTSJ3Y4Qnv7fCaBYXBo5c\n",
       "0tAgFFJeSkyRyIHC/UisEg4Vn5a5QOKEV1WgyrSMRU1DFBW4WqggzYhllXaANi0n3jfvh4aEG97c\n",
       "JtKQUQ1Yd8ADPXD8DE/gU7KZYu0ABdHrlkBq9knwLw74QzMNThu84cJmfN+6QyXD2agemlmwYkKJ\n",
       "hApwd8VGXKcVbkdqcBIAgbsZa2YXUpjhkfXXcppDlWy9G4pfU45i96BUlLZKmEggPpLDNmwWAhCV\n",
       "z60pQMBFAuijWoFEAw3hKvKqirzoENkBzUQrI99Pkyn3QU+mAfWIXBSmQa3BdFwFV+UNIKq3QeRv\n",
       "D5A4W9bARfYn1kH3EkBTRqSigNuvhrNRPS7YjQZI4pYCNPrAdT+2/sZkHm5GanCSgDtYTtwJgwV8\n",
       "oYU/5D+mebuogIv0Hhpr9h5TIgaDNMCKW6VMOBCPI6792EwmoIJrCpBQPSpAH9UKJBpoCFfRD0qb\n",
       "KBOpGB3QrwZ+bzGXXOp+3qWktaBxLK/V+MHdVxPcu+hTpoWjTQl68keAi0d2lqTK/KA7BXfMkMWu\n",
       "svPlvu2+8KPkaIU7sRpCK0AkZeoPkDx69Og4xAcUcJnrjUau6LZjPGgimBB1URvKIoyggFtNoMuw\n",
       "gosahnAVY+p6MWac/EeN4/a7RME50yUjBvz5tgssvQlPwBulT3ludVGt8YO7sRa2VC8cxpY0Vxi3\n",
       "KfEvUMGNT6Hb+wWZNLzHB1Unwy3o4Wy3UCW2LGkE/aU9AW5adD5P/Y3lv5pVYGCKU/K7pYffxdcj\n",
       "WgCa5BErUsUtkeBWFThiWMFFDUO4Cl7tUrseHwS9A3C93F9PGu4MexQu8XTbfpR4VXFlc1qNH9xX\n",
       "a47cS2K8uvAFxm1K3KGBG0OrCJToZuXQrzQPsl0PZ0/AjOAOv1VAagg9srbMk0S3iCFQVG9Ux1g7\n",
       "3W0se0XEcUkvxDxfWHiCqqICiY90zCSAZXQr2gMNESraVQXtvENEB0xo0ekhY+NOTz8mL7N0ooxP\n",
       "JJ+U9XsGtBo/uCdrYUv1wq3kW6NrjNuQSF4C3VuuFgIxj+t5M4M70/b77WJgTMapwq+36MiSWQv4\n",
       "GZ1AQ/TqwAzR7mmFQYfS0Rp3kaUdciJ5SPF2QKvBR1c/y4+uEnCHavUe1Qufx5Zkpxm3IfEhHkrP\n",
       "XlggEVhLhritQeBStwmnCQT7TY9I1PhH7v6a29y8ABfIz4/2+yUa8x8auP9vlL4aNC3HKzydqnjK\n",
       "W0gAvgVajR/cEzW/ZamIaZnGQE74JZrCH4JZo5VG95OuJb8fIeme0TbW0RTKNaDV+MF9OXj5oysB\n",
       "1UtOvsKeUcZtwDgZ/oTTGhnuMv1V7Z5Rnh5KltjW5T3iYVwFrUYD994CKLziADtO0AvTSzc/k3xT\n",
       "dFg3iP30JATXAhmvTUjkpduE041/5D3U4kmPSNSo4P7zS0+WFF5yZF2cXSfH2ZleeBRfzvO+1/s/\n",
       "fG2CRcoYX9eTQ0m/U9JouNKoFAbXrWg1+sg1eHU6peglYbw1jDuZD1qWQ3Ct0E/07DH8vdMTMuAF\n",
       "PM6PDzdM8a+R1VfVPKN534LXoDZFb6YI/yAPFeZ2SxrfwfBVRRZpUI/axQsQ3TYi0ph2kys+ff6p\n",
       "LaDV+EnyGg4VcqWEXuhPXCNu+W4hIehWCMG1R5FeHYVeyPAzPOyAej+5Ykf3pSOg1fhJ8hqt4AEr\n",
       "zgZ1waFxzt0f4NCF4Noi48Wew2Y6EjRKqxxdjxRm1WQyJ7gNiV+CXXBXXecv004toB9JJdhLBTs7\n",
       "b7KjMHyZ9sIxZYt8mfb/ADApXvCVgG71AAAAAElFTkSuQmCC\n",
       "\" style=\"display:inline;vertical-align:middle;\" /></a><br>"
      ],
      "text/plain": [
       "merge_series: forall_{f, i, j | (j - i) in Natural} [forall_{x_{0}, x_{1}, ..., x_{j - i} | (x_{0} = f(i + 0)), (x_{1} = f(i + 1)), ..., (x_{j - i} = f(i + (j - i)))} ((x_{0}, x_{1}, ..., x_{j - i}) =  \\\\ (f(i), f(i + 1), ..., f(j)))]"
      ]
     },
     "execution_count": 31,
     "metadata": {},
     "output_type": "execute_result"
    }
   ],
   "source": [
    "merge_series = Forall((f, i, j), Forall(x_0_to_jmi, \n",
    "                                        merge_series_equiv,\n",
    "                                        conditions = [merge_series_conditions]),\n",
    "                      conditions=[InSet(subtract(j, i), Natural)])"
   ]
  },
  {
   "cell_type": "code",
   "execution_count": 32,
   "metadata": {},
   "outputs": [
    {
     "data": {
      "text/html": [
       "<strong id=\"range_fn_transformation\"><a class=\"ProveItLink\" href=\"proofs/range_fn_transformation/thm_proof.ipynb\">range_fn_transformation</a> (conjecture without proof):<br></strong> <a class=\"ProveItLink\" href=\"../__pv_it/theorems/e6d56a9d763665d5c064b6e886943d1f0b6e68f20/theorem_expr.ipynb\"><img src=\"data:image/png;base64,iVBORw0KGgoAAAANSUhEUgAAA5kAAAAZBAMAAABJIPdQAAAAMFBMVEX///+IiIgiIiIQEBB2dnbu\n",
       "7u5ERETMzMzc3NwyMjK6urpmZmaYmJiqqqpUVFQAAAB6qHgnAAAAAXRSTlMAQObYZgAAAAlwSFlz\n",
       "AAAOxAAADsQBlSsOGwAACWdJREFUaN7tWm+IXFcVPzM7s+/tzp9MaoRIEh2m1krFuqmmSmnqthpQ\n",
       "l6ZvMVb3g86KZo1QZcgWwQ/tTgxEhLSZIEKxaZx0sZ+0mZTEahLLi5ZKTDHTNKKrkk4JWqQa44el\n",
       "azTgu+fc/+++tzOb+MkcuG/u7v2d3/3NOe/ed+99A+C2cu29sKwV2/3hrrPdVOvCDdOtsExYRvoh\n",
       "+WOfuJj5jnpzWbgvqsUwCRUj9pfrfvl/x6wpr346S7KC5rUIaBpfF8t0clj6zWa+tdJsbnDUDy0L\n",
       "H61QSZC9wUWM+LTuNXNi45bpSr0ujw19KMh0r0EAdxbRQKdTPJs99vknRzbL7KMUptAOh5jNBIYU\n",
       "K43j9PDxgOr5L1WZyDAFTpD1vDizyUgtYsh0EK9mJL3FtJ0BmFiHHd3CrufZ5RsB6l2f8N1k1VZA\n",
       "xijWrUAAaP3LaLCSDSgsx1nbE45sFtrsI2X+g900hhMYUmwKr1tnu7w+gqH9XhocISMBFWc2pxzE\n",
       "2XHESzNajGnmzR9w7hTLvbGZz0gA7yC9cY8ps2orkJMavHtwAcqZ9S+iwUqmR9l8VE67VjY9BtiT\n",
       "eqtSNhMYUuwkXjc/E/D6Kpw7zqTBEVLs8BImoGxi7iPNaEH7kai8K7CwcRv6w3Y2vkXnZ8DlcTJW\n",
       "jWMK4coEmM4yGlHJL1I2WWZzXddzk91796fxXiFcAkOKjeG8vyjrh/GWHApS4ATZREXP5nCgoWxi\n",
       "4SOeS2YLs1f0YOpYh3GZMrlOj7F4NYYZWqEAy3mTVg5QNouhcykT/evl6KOVQustEi6BIeWxiay5\n",
       "qqx/jLoMU+AEOUBFz6Y3rVAxYuEjpkqzJR7MA6m678PrggxR6PDQyF0KwKQYUIDlfEArP+HLiTtq\n",
       "tQ85szlUq908nra2qvK1r5shZa5grMWLt3dE/SCcPxbFuhfL471rQwOyFbAYM+2LitQmnjxJeDE1\n",
       "WS3xYG5Nk/2bO94Uz5f86h7Xu9X13ZRuSwE1MIr8unBgAedX79X7F9HA8jaezecBtjuzWWioacx5\n",
       "wNDi2XQzJBsNwlUVUc//p/T7uyMxeC8/V2N2OwI/CbunDchpwMKzSdAPdCSpTTw+T3hhVks8mKdT\n",
       "df9TjogCCL2nLc0oQem2FFADo8iNjg0qINfy79T7F9HAcpgvDh8Hv+fMZvTvx6Pa52hCc2xQpnk2\n",
       "YwwvhsJNTYjw8DFRz+JDdl9D1EtLP/aiNXFpzB6aixh/DfIqYDFXQQtdQWQRe92fEV6Y1RIP5qup\n",
       "Rx5v4cf7o7IWrnK9tgeKlbotBbyBUTxSaA0q4LUA7yfZv4gGlrkGhWU4yLG9SP5EaJ8ebIdPRdd7\n",
       "SWWDxuOdE18W666RHscRwy/k1tcbk27qWzbULDLURnGyXrgbyb3L9vO+B3NNAzJHxcxm/rttTmQR\n",
       "52Ej9xHxMFvYmPqgmAcwmHOpj3vSd1dUgigvpNf2QBlSt6WANzCKYKgyqIB7wFvS+xfRwLKvTWEp\n",
       "VXAJM/zrhp3NV8xFkPfOmXa2mZsUs2+2w3HEgKFkGHOZ4Xh8U9Dvk/Xsk8/jitMem3NdfBxokHkq\n",
       "Zja/8wkwsqmI8TvP28sY2RIfGvOp282qzCYUqlzvvCObmm5TAW9AiteCAQV4VyEzpvcvooGlzrMJ\n",
       "LTwWWhXETvZGisZJ0wk2mOGRvWCPTWLYJzDLZpMmxK/Ler17GN2q1jPobBNBGuQcFeO5WXsCzJlW\n",
       "EY/0AvLhZrXEg3kuLZvDPTnT4uED6j1naWbkmm5TAW9AioP5AQUUl0iB7F9EA8s+PtPC/WxjWbqI\n",
       "W8tT6ysqm7mFqIND+B0mfy5O3jqdeDaR4SV/DcewbB4yn6SRv8rmMPaxUdbPBvVu9FG0TyDORosf\n",
       "E/ISYDHG5jOK1Caut8fJByh3Vks8mBrWmMtp2FFovghiYpsWHnrKK4ZuUwFvYBT5K7kBBRQvQz3U\n",
       "+xfRwMJmcAzLbgw88mQ6/AbELPn3RDwVnJM6C/Ag3SGPyQm5LFZBxPD6Y59uckxLuEmL/OFpOWUx\n",
       "uH9F1v8K9YbYX+hWb5YXTchRWqHr2fRbitQmnvNDvqL/FzhajGA+0AQNW29pFbpQBPkm4qzYjBy1\n",
       "p+OeodtUwBsYhXd5b38C1F9L8I9A719EA4tY00IZ83MCBQdiC49ZeiOKwOfZfJIPJvgR1GRO7TfH\n",
       "BA4ZNnY9jvlmg7upeyvyh5G3iydAVa0pWP1rkDkSicm27VcKr09UTchtgMU4C2ooUpu4/DLhAWqB\n",
       "o0UP5qWPHgw1LK4J3icWB9lb1BoKdrLLX4Drvc1+ulUN3aYC3oAUfwv7E0AqmIBn1zxn9C+igeWX\n",
       "5suIhwB3Lqua1hsxmr2iXc7pmZmZLoxvgc/o52QS5/87WqcgxrsUSDf93KK0X/xxK7uze6pO9i3H\n",
       "PqljQPwqFWNs6qQOYp/OfwJnl9rQsLCm/ZZdXgC1ut/I9fpVG3prTLfOSg3ZxooEwJNG/yIa6PSC\n",
       "mc0Ps8sEzNrvN+ufxY8leBgz+LsQtoimu3RccfppnzB4oM/dpC3RKxd5Xn1hpKvOrmPn1XSb/xl3\n",
       "URqEHTiz4jx1P+MmpkNqNqM4utQOvU2sZWzN03tKHnb/vbjI9RbCuAxbt2SVDfrhet8CHg28t4z+\n",
       "RTQKoTqnFXPhIuTH4QJcsrO5UIBtuIXEc6FcAUar1jsU/hSt7MzxsyO2ClrAHzdsY6RiC6oOGIeb\n",
       "8J4pVef3pb0IKm/K7zche3hxZpOhHMT0FmgyKvEubVNYaxHCzgK2i5X6Du8qW66i3j0OGbZuySob\n",
       "YMcKBFwMpip6/zIae0C9Q1E7fm8zFFbvt7P5hbUw22XDzf8KO6u8tOarcrU6a8zIzfKvCIPZjNwY\n",
       "oul9RA5Xlc38NJz6qaonxDh6yrRNyA5enNlkKAcxBQ7fz8e6tE1hrRNp1uc6oe9BOHJc6N3hkGHr\n",
       "lqyyga8oBxPw7JrjRv8yGhiRnhEWNvhLYsIF66VIF88ct83MmOuUcjf28gQxjv0m89feHOyCeH1t\n",
       "8laLQzJNKgm/JNnlIs40k/liMWv2dczsV6Rel8euPhT4lWsQwJ1FNNApa4Rl+EI0of/Qq2ZajmyO\n",
       "Bt+fddEm/S5oNLY0QP8FuF6W/HOm/1c7ZYQltzq6hP5DE4Ejm0U4csz9iibhxeZ++x/M33vqRjb/\n",
       "V7bsb/b6/D2tE+e5fonw7eum/aabb2TTtEJAYfkv34UtqnPIDosAAAAASUVORK5CYII=\n",
       "\" style=\"display:inline;vertical-align:middle;\" /></a><br>"
      ],
      "text/plain": [
       "range_fn_transformation: forall_{f, g} [forall_{i, j in Integer} ([forall_{k in {i .. j}} (f(k) = g(k))] => ((f(i), f(i + 1), ..., f(j)) = (g(i), g(i + 1), ..., g(j))))]"
      ]
     },
     "execution_count": 32,
     "metadata": {},
     "output_type": "execute_result"
    }
   ],
   "source": [
    "# Transform the lambda function of the range.\n",
    "range_fn_transformation = \\\n",
    "    Forall((f, g), Forall((i, j), Implies(Forall(k, Equals(fk, gk),\n",
    "                                                 domain=Interval(i, j)),\n",
    "                                          Equals([f_i_to_j], [g_i_to_j])),\n",
    "                          domain=Integer))"
   ]
  },
  {
   "cell_type": "code",
   "execution_count": 33,
   "metadata": {},
   "outputs": [
    {
     "data": {
      "text/html": [
       "<strong id=\"shift_equivalence\"><a class=\"ProveItLink\" href=\"proofs/shift_equivalence/thm_proof.ipynb\">shift_equivalence</a> (conjecture without proof):<br></strong> <a class=\"ProveItLink\" href=\"../__pv_it/theorems/ae12e4da789139103dd3b64a5c070df3f795c2030/theorem_expr.ipynb\"><img src=\"data:image/png;base64,iVBORw0KGgoAAAANSUhEUgAABC0AAAAZBAMAAADnBsmQAAAAMFBMVEX///+IiIgiIiIQEBB2dnbu\n",
       "7u5ERETMzMzc3NwyMjK6urpmZmaYmJiqqqpUVFQAAAB6qHgnAAAAAXRSTlMAQObYZgAAAAlwSFlz\n",
       "AAAOxAAADsQBlSsOGwAACsRJREFUaN7tW32MXFUVP/PxZmbnzexOSdHGhXUzBQWakqV+kabVpVpU\n",
       "oPVVSpUo3W1wNw0purZJo4m6rxCbaLRMSDAkLHVLafnDEkasUGmjUw1FCtrZUrMt4rK1BkIguCRu\n",
       "WqpNvOd+f73pFv1jNT3JmX33nXt+99x3f+++885rAWz5azWGFnIe80X535ZUdSHAJdWma6m1dqzN\n",
       "9pnFXPU2xEk9Z37aloL6jc+DErfG8JwsXJBHcveZz1hetheJlhr/d7xINZnqbYAdCT19smNmA11O\n",
       "f4sVv4cbgk+otw/48gvySDh7QTMWKngxicevGAvfjn/KjSReOB6zSo5xBQg/E/HjTkgZs9m7HKTF\n",
       "lPyVYPV1heGWe7H7AFwGXo9j5kBrFvmxLvMDEw3u7HZ6b4wsDz+OR2Qgy077+NJQKnjxDBoeNBY+\n",
       "HCV/2uIkXjges0mCGlMiKzc1+fEVAA9ofbKvLwVl0WXtr6bB7OsRigu30wtag7bI58FC0AZ6yI9F\n",
       "vV1g1La6jfnmTyPLw4/jigqkNOWzP6Ap58X38PHUbyx8HneErYnPEcdjNknYYEpk6e5IHsMLWp/M\n",
       "ywOgLHQfFsepaauvRyguHOCtUt3nwcC1gc45QylvFxi1Q276e8TBByPNY08ijisqkLDm8abxC+W8\n",
       "QKZlm2YCgbRZkcgLx2M2SYYrWYBpkMfkr3ZDPRHpFvrQrOi8yLS8+Rgu9Ij2x3weGWsg7qQPpbxd\n",
       "4B7pjDKm80J6jCXheEQFkq74vDF+oZwXmHq2WYnliy3yy5rrMZvkBFdC3W6QxyRg7TZdBrrF5UVb\n",
       "ywSD4Zbl9RnxeZywBsr2JPBixAdMwT8Nfl6MeHkx0vKqqEDuG/J5Y/xCxfvIomr1oxYvMtXq/N7k\n",
       "9xHbYzbJXq5QOnVtnR0HnWSW2UnZ5Y+L3gTN4vJC6+sKxw3x+qzqwqzA57HXHAjaJss3R+ZQ227Y\n",
       "wr0dYAq+HY790seLlRYvbByPaIEcsbwLf5tXYfELFbx4GmDAWvhwCHJRMi9sj9kkI/Le6ajwdrZI\n",
       "btaStv+9A7rF5UWp5bs4w6U7RD1Dfp8XHmGVyqS6feVA0Nf4y70NY6ji9fCNiHk7wKjBv8rHl/h4\n",
       "8by5si6OR1Qgr1m82Bnnpln8QgUvtkFh0lp4cmJbi/oF8wjYC8uQk3KxP8fJJYhNc0rLreNUq3kQ\n",
       "zy/r7YprT0BeyFXsmOT4u5hrlXtUEeg06BaXF1pfjzDcNJZJYswNX/J5LDQHgld/2Px2bAx1awOe\n",
       "BObtAKOWzzyef9DHi5fMlXVxPGUvFch1pnewBMJuFr9QwYtclMX30mB/QxWuBuAmHffU1566WeMF\n",
       "88iyCX6Y6G/pYfB3eiLHdkXS4zA3U/kqcVRJM3HmjcKCm+B3kxKECfG8weEax+d2hYwikRdzJUsh\n",
       "2lGGIOfV+1l5yrDgfT5/Eb/PKS/yU60uMsPNkPkF8CpZqGGfx2JzIPjFc2weaqjfsJfkYR8wariE\n",
       "Ef/JavUj1eq1ihfD5lkXx3ObyUDyZ0zvcArSvSx+oYIX5QpNInOHhxQvxlTa+c3X7oKrYPmlGi+4\n",
       "h5bOjmrJFuPFWnLZJrVVzc8htHxUd3qUg09kozBSIJQB9uO62Gtkio5dISteLJNtXL1ij5XfSYu7\n",
       "XxR7zp/DsWjxTt3p81hsDXT1/iEr7/w4BGe5twOMmn7oaX/eudM86+IkpcoYSKrH9M70Q98oi1+o\n",
       "rIPXDtKnW6QVuttK4kKFGF0jf7yh18GZh7YDaskW58UzwMpj8ky526q+kAYFf6VSz2ogdNBRX+GF\n",
       "43vtElk9R74u29sDNrwIZ9KweJ4j3a0uMsNN0xd1vFOPCg89v1hoDhScK542eRG8w0pMR33AqH3N\n",
       "J4a8vDhqnPXguKICyU1GBmZfhWaiGL9QyYsVeNHLp1ZoC589QdyDW+bGvMAahnp+QT2KXTSsTrw+\n",
       "hwpzsXGNxgsyQFqYJS9k1QOdSYOCj7+8hfKCg9BrA7BDbgmrD36OV1Ou0ewMmYaAYUrkdVzFk5Qc\n",
       "B2cJfgkLcYwFmYph8eSdqq8hkYabQ48C3qmHhIcu68yBStPBuZTJi3PQXjvOvB1g1CNRX7Pi48Uh\n",
       "kxcujlEjtWbc0eg1edGEN0iyhvELlby4ly7BIX3hC58kP1+Mh+OATfj34wYv0GMV3WBC+qp98se3\n",
       "kqQqmFK8KJDTPxBmyYuySAPQuVxn4OPZO+hTAEHCQSIbiGdQEYWg4Cp8Jv4ZKL60c2TgYSrkleKd\n",
       "ja4ZPc5P/Yi/+vVRn/tGDYvBi+wZ0PoG7+oH9Efg0jdTeqfuFR5GrdwcqL0WnLYouA6O1uvM2wFG\n",
       "fQP6hnotXnwh1nbNMT+OGa49445dJtdylfKCUL0co0petNP9ar++8PA6PbOJV22DSq/BC/T4Pt25\n",
       "bsviglzXzKtSD2VBkSz5bmGWvCiK2wqdi/0MfBzq7wMJQmU3FO4Qe3lYz/dQLK2UJJGBh6mQN3IV\n",
       "uRYev0XGSeOlSV+p8jtp0Rer/dS7b+l9F+BBnR9ANVK4eYyvvZ/vYmn7wbbRHCjXhM5LzaHWzv3W\n",
       "ySG+B9rAqHdD6ufmng9vf2p7Q+2aY34cFe4Cz4xLFquCk5/d9n4Wv1DrO/sGgxcsTemC0k8GB++G\n",
       "bDYKItu8TlbKCv+kKRK/aRgLCOMnmPmpwTsHBxuUF/l+2Ix3fIzO+X4GPg6rMY3lIFQm6FbKumZG\n",
       "UwRrs3FTMuQ82tfTMBGZP2KGmEI4Kdso99DfP+HPr8GwuEVIra+Z1kcKl74O4f5c6JYemlBwz0D2\n",
       "UIVuL7DxrmXWJgvdyWfL7oMkacZmvfMeTS1efMLmRXAGNtyWp2vx+Hcga/MimKajdMT4VHoE/2FI\n",
       "epfiBa7TZm72PEfQuVxn4ONQHAMOwp8TxLPvS7xrX5x7NqLPEYKv7AxZhKmQ8QMS6kRb0/igxD5z\n",
       "9SJjH3Y/NZkfs2RfO60HhQsvQHvziPgwd8Cpitb9A9lDse9rFrD9HW6P6+E/m3VzoqQZm9/NDmhq\n",
       "8iKYdvaL6/Nnn2WFzd46PGKby7V6QAbdBKuhvbIxS/50pJy8E7d4jRepinLGxgCvRXQJEJVXnhCZ\n",
       "biYe3hPBHIUPGrIMUyLDeqYful1ri++/AemVHqgZFk8VSPa1ZBVouLl4uIlvHVvB+3V5/QwGAvHV\n",
       "2gJm2tIjGcfKO2c8Y6EWL/I9Di9+9oe5DdhKdoXS2ydv3O5sJyfj/FJc0k3NXNz+HPkTfkDjxXo2\n",
       "uS5xpvD5f1TUdIkzNhA8f3UM7QJEXZq188T9dWDsFoST+KAhyzDVhVzD9OA+rS0uNBKr1BkbFs9b\n",
       "XWwVZ/Wqq8QN+sPOUX6tPcu4ZgYDyZWygJm29EjGMWXmM5Z0NHmh9hjz40Bw4+Bddh1cPStpzZ3v\n",
       "f029WoGFJixGjagzdlxrDPCmW8bSo+g3ekhkcJELFaZ6G2Ce7y5J+Mdv82b2JWYLu/Cx38MNwSep\n",
       "OAF4ywV5JJy9oBkLNXmRmxjy88L3fUTKrrbHeqDIMo9iZPAiJJHuQ7P6YkJO6EBGo2hmTPvsby6x\n",
       "2UMgJzpclPcsBi+yc+A98KIRdkZQ4hsOGLyA5QT0K53GcpdGkxrKm4djJdaHrR4tkS/Kf48Xmtzf\n",
       "+j+I3H++/z9SUJW2yFd88zUSSotJzdbIF+U/kFR1CcAl8xv/Bl27etn6DFETAAAAAElFTkSuQmCC\n",
       "\" style=\"display:inline;vertical-align:middle;\" /></a><br>"
      ],
      "text/plain": [
       "shift_equivalence: forall_{f} [forall_{a in Integer} [forall_{i, j, k, l | ((j + 1) - i) in Natural, k = (i - a), l = (j - a)} ((f(i), f(i + 1), ..., f(j)) = (f(k + a), f((k + 1) + a), ..., f(l + a)))]]"
      ]
     },
     "execution_count": 33,
     "metadata": {},
     "output_type": "execute_result"
    }
   ],
   "source": [
    "shift_equivalence = \\\n",
    "    Forall(f, Forall(a, Forall((i, j, k, l), \n",
    "                               shift_equiv,\n",
    "                               conditions = [InSet(subtract(Add(j, one), i), Natural),\n",
    "                                             Equals(k, subtract(i, a)),\n",
    "                                             Equals(l, subtract(j, a))\n",
    "                                            ]),\n",
    "                     domain=Integer))"
   ]
  },
  {
   "cell_type": "code",
   "execution_count": 34,
   "metadata": {},
   "outputs": [
    {
     "data": {
      "text/html": [
       "<strong id=\"negated_shift_equivalence\"><a class=\"ProveItLink\" href=\"proofs/negated_shift_equivalence/thm_proof.ipynb\">negated_shift_equivalence</a> (conjecture without proof):<br></strong> <a class=\"ProveItLink\" href=\"../__pv_it/theorems/8ba6804b1329c80be11e9560fd7a41046cdf1b230/theorem_expr.ipynb\"><img src=\"data:image/png;base64,iVBORw0KGgoAAAANSUhEUgAABC0AAAAZBAMAAADnBsmQAAAAMFBMVEX///+IiIgiIiIQEBB2dnbu\n",
       "7u5ERETMzMzc3NwyMjK6urpmZmaYmJiqqqpUVFQAAAB6qHgnAAAAAXRSTlMAQObYZgAAAAlwSFlz\n",
       "AAAOxAAADsQBlSsOGwAACqdJREFUaN7tW3+MVEcd/+7evt29fbt3S4NKvIqXayu1hOZarTYN6JZK\n",
       "1VrwnaUo0XJH9AhpKJ6QNP6h3gMjiYnSDUlNExGXUvAPabolKLQlumiKtkW70JqD2sCdmDZNm3pN\n",
       "vEhRE+f3fGfezNuL4Y/TMMncvtnv9/OZ7+x83nfmzQMAu/xlIIaU0sF8pfxvl8zAEoCrBtpJSz0d\n",
       "WJ/rIyuKitvGF6p4BB7Pvh/hHfvN6YzF2QygM2LWMaeMWI3jJKnl1v+fLj4gKm5Dqeq4Ndpugr2z\n",
       "70d47/Wb0zpyh5UYQGfEbGNOG7Eah9DFJL1+1Zj4HvpRafl0kUDMqVKp8QoQfioS7UwTrsY+3PIy\n",
       "qX0WunAd8W6l96B5oTDKvB0IHALpKPhqv5PrajcxqS7ElshC6BnvEPPhFcADWf4PD1qNQ+jiaWp4\n",
       "xJj4sEE+umOfLhKIOVXWigqwamtbXGdr0B0hH2YJaOa71gSve2qG/H04vQfNC5k6937YGQbuqLvp\n",
       "5EqGpQaQQARv/jSyELqkx5x7fRnwQMrTPrSsQhffoYvWiDHxBZoRdnjXkQRiTpVjogIsOxCpayjj\n",
       "X5lZQtctlqG6eCG9B4OXe7/gDAN31KtS+EHslgxLDaA3mfQ/GCGEwdMh5q5XRoEHEtZ9aFmFLqj+\n",
       "cm1zA0Fls9KriwRiTpVBUaE0o9q03ILWaGbpAp8uuqK0Dixe5p1EDFodPaE8Thl+tziJBw2EoQuF\n",
       "MHnSY+ZcNJBs1YeWVeiCbj27rY3lyZT9ZT2JmFPbizqvRLr9ss3KbpRVmeWsVxfdqYu1xcu8Ewgc\n",
       "AuvoDnDrYreLmKHvALcudjt50mNeDjKQh8Z8aFnl88jNAwMftXTRNTBwTc3/PGIj5lIJa7xC+cKN\n",
       "TdEeoml5lc7d3HKYLLh9LZcucpMpHSBeGFoovBMIHMJh+sUeePkX5ozsvH2bKyw1AI0wdbHK0kXx\n",
       "rwuqHWL+481vggjkRS9aVqmLIwCj1sSHY5CP/LqwEXOp6Lu3tyrbtX3k4jntwy3kvsuVBl26KKc+\n",
       "i2teaHa1uDdHHBqg5UZ9+6qOIPhX5cxSY0ZKt8LXI0dYcgAIYeriOWtm98X5mU4xv6Ny02tetKxS\n",
       "FzuhOGlNPPliZ8r5BUcE/IFlLHHH8o8zJB3GpjmD9tZxJnU1iOFLuF1N2s2OlUO2zavMmOS60H6K\n",
       "XLyknbllCcC3w7pLF5XBtNgUL2Riujek3gkEDmEJpbz4eOERY0buacEhV1hyAAhh6uIlc2aDpRD2\n",
       "d4i5yB9OaSA3edGySl3koxx9Lg2eaemDq1G4C/Ne+NovP4d0wRE5PheLSP0Nuwz+xr7I86xIPJ4X\n",
       "Zla+QoB6803AolFcfBf8dlKR8EKQtye1tm4a2TUzEiNZAhu8ApyX7YD9GOPamVtuA4i6aJ/BLnaf\n",
       "jyldFKbTdKF4CfH5iHsnEDiE22h8S7mMSUr5CE8pv+YPyeMuYlolYi0LbpHWxbjJE07Tx/D0mCvT\n",
       "MpDCRS9aVqmLSpVtIvPPj2ldnNLbzm+8dj9cDyveg3QhEPavIHZyXBfryM+G01BhHpHlYxj0mCA/\n",
       "l4vCSJMwhdmLZalm7PUSduFg6GK5alfoZO+zd2F0us5HrnxRGuy8h+N9HBLeCQQOgXaU/fERa9/5\n",
       "MQguucKSA0AIM1/sM3m6RmC40SFmvqOlgWQGvWhZ1Tl4/Thb3SJ00N1dljdvSKNrFc608Dk4R6AM\n",
       "KA7VkC6eBn48pjXbb53JkAYjf7XazCES1mnDeWwT1rx2da6j15HNqt09Sfo9rX03q6y6J3CuI/1p\n",
       "utiMFoprhTdHoP0FDoF2NNx+YsyYkeAdfsR02kVMK0KYujhtzuxwle0lU2POT8pA8pORDy2r0sVK\n",
       "+ptWLqxEE587S+DB3fNjcewahnh/wRClhWx4ffQHOFGcTxs3IF2QDrLSrHShTj0omDQY+cQr25gu\n",
       "BAn7bQD2qpSw+vhnxGlKtqHtiFk70N6rvMqVlF4PN4igTtBouQ+3rCftSznnvnNE++ISgckLxUvC\n",
       "u2wf8+EQ1tPHgGi4bZwcBP+GnvoZHlaCmFaEMHVxwtJFG94g2y0WQfJZgY+iqyoD6W3VfGhZlS6+\n",
       "y6bgBJ744ifIny/E43HAB/z7CUMXFDHEEkzIcvvUD+8hG8FgWuuiSL7+vjQrXVTkBoOCK01OPpG7\n",
       "j60vlCTcQMomggyqM3Jk19M18c9sEKDsiBk54KdGNmf8erzY4slsmGGEZRVdTn9gZ9yLMi9R3+Bd\n",
       "CVItzMvvePVgafBMGh3BGzA8Zs7IejjdbPKwEsS0IoQqn49VVlY8+WplccgjcITLR/xQQwbSu7/q\n",
       "Q8uqdNHD8tUzeOLhdfbNViix9SOo1gxdUMT3WD67N0en+qZ2QS//TBclMuUHpFnpoiRvKwoujXDy\n",
       "CWi+FxQJKwegeJ/Mi2GzMMi40EmUwYwc6D6mn1e516LXPSdFMsteh3ZhW0h9yzq/6Lnw7lsiLzHf\n",
       "xfSiKf8MRCYv9IyILJa1FzYcAu3oAcg8aWbwdfO/OTUmcqxNTCtCyPL2J/e0ZFbWTxRTn975PhEB\n",
       "5dHhLlYjPg8ykPJhL1pW6z37JkMXfJuyEMo/2rDhAcjloiCyzevVeUHxn0fQ8s90USGKP8fND9J7\n",
       "PGa6KIzI1nra4OQTsJpuYwUJK+dYKuWuXY0M4XoQ0J1iMiMH+XxEazip25Se6exPoC3ZMd9yvB2U\n",
       "r7mtjyxelp+3KwQui7wdGSeNPKwE8aKUZ85+53nndsVjFjaKX0EikCRaVksXH7d1EVyETfcW2Fw/\n",
       "/i3I2boIZlgvvTFdlR6l/1wku1/rgiiATVVv7FxHKLjS5OQTUDoFgkSsEwQ5/EXhOhznn434MnFD\n",
       "pO2aGTmgV0DnutvGCyX+lox2KC3lZtqrN+5rLQ5g8Pa0X4yMF3XWmyhPR8YbKx6WRZz6Fky97juY\n",
       "jDmXdK/Re/QnyZd0B50vG48ldBHMJPLFrYVLz/KDzVoTHrXNlXozIJ1uhdXQU92SIx+9mcS+k5ix\n",
       "LjJVDaaNUXEWsVCS6H3lWbnT7YrHD0YwD0hn01Vt18zSQe74YlY/tBa1QbweDiiBsmz03ZEjytcs\n",
       "Qxidj8fbS4S34+0yDmGjf5Z3uIhV0H6EO+ah5L6TjCI7Wp/FiNU4TF0UBhO6+Pkf5rdgB8kK5ben\n",
       "7tyTSCdTcWEZndKt7Xzc8zvyEb4f6WIjH9xC1fVn/17VwyVg2qDkhQ/H0CNJ9E+zboF8dDl26m5K\n",
       "Rzp7soF+OsUsHST1CKvHj6K2/EmYcJVlje+pLrYOZ/GhKuIN+xr+acQhrPHrYqOLWAXtR7hjTkqZ\n",
       "jqLcF89ixGocpi50jjGPhoM7N9xvn4PrHMDO3EX+k8+NeXlqRc+adhvYNVYDkbedp1R4siumfXfC\n",
       "QZRtouI2ZBw3YNH9T+JgwezexGzT3gv85rSO3GElBtAZMduY00asxmHoIn9uzK0L1/sRVfZ3/2wQ\n",
       "SnznUYoMXYQk/qPUjMtRb6MU+R0F235st5nDGK6Uy1MMXeTmwX+hi1bYF0FZJBwwdAErCOmX+4zp\n",
       "Ljd8DY0W4Vgba/o+BD9S2szM4Uq5/LpAZVf6fxDZ1en/jxT1SVvkOnxzNTxHi75m8ovoynxenpIZ\n",
       "WApw1TWt/wDC6nQVDKBfNgAAAABJRU5ErkJggg==\n",
       "\" style=\"display:inline;vertical-align:middle;\" /></a><br>"
      ],
      "text/plain": [
       "negated_shift_equivalence: forall_{f} [forall_{a in Integer} [forall_{i, j, k, l | ((j - 1) - i) in Natural, k = (i - a), l = (j - a)} ((f(i), f(i - 1), ..., f(j)) = (f(k + a), f((k - 1) + a), ..., f(l + a)))]]"
      ]
     },
     "execution_count": 34,
     "metadata": {},
     "output_type": "execute_result"
    }
   ],
   "source": [
    "negated_shift_equivalence = Forall(f, Forall(a, Forall((i, j, k, l), \n",
    "                               neg_shift_equiv,\n",
    "                               conditions = [InSet(subtract(subtract(j, one), i), Natural),\n",
    "                                             Equals(k, subtract(i, a)),\n",
    "                                             Equals(l, subtract(j, a))\n",
    "                                            ]),\n",
    "                     domain=Integer))"
   ]
  },
  {
   "cell_type": "code",
   "execution_count": 35,
   "metadata": {},
   "outputs": [
    {
     "data": {
      "text/html": [
       "<strong id=\"shift_equivalence_both\"><a class=\"ProveItLink\" href=\"proofs/shift_equivalence_both/thm_proof.ipynb\">shift_equivalence_both</a> (conjecture without proof):<br></strong> <a class=\"ProveItLink\" href=\"../__pv_it/theorems/9df7d8d0d743e7c46b7151d00948b4b270f425250/theorem_expr.ipynb\"><img src=\"data:image/png;base64,iVBORw0KGgoAAAANSUhEUgAABPIAAAAZBAMAAABJHB1UAAAAMFBMVEX///+IiIgiIiIQEBB2dnbu\n",
       "7u5ERETMzMzc3NwyMjK6urpmZmaYmJiqqqpUVFQAAAB6qHgnAAAAAXRSTlMAQObYZgAAAAlwSFlz\n",
       "AAAOxAAADsQBlSsOGwAAC9ZJREFUaN7tW3uMVFcZ/2bn3nndmWVAqpsskHUL0kKoW7QtacBMUaqW\n",
       "Yi5KURK7M6QuIZXWVRJi44OhjSQaQycmmEaQLBbaP6RhQEppWdshpmihylDbLFsr7Eq1aUSzJN3w\n",
       "SDfxPO953rkXm6gb+TJn5p453+93znfub87r7gLo9pfuKkRaLKfrdt0sNq27CYnuBWZBLQ66Nunj\n",
       "r7Ik5y2WiYONpMnEa1MmbmNtgJbgawmhBeLfjiEjJcg30Nur/6/KSzRpkvM2yxWjsbLtjs1isZlh\n",
       "BbtDmGfGBV9LCCFB7IYPEAPuAJ648kZwwVuKqNrxR6HRWnkGbnLZ6ywBHFrG8502xxlyRvja/NNz\n",
       "0O20d9uM1q3xPuPjLi9hkj6bUBpWZgIQYPeBLs2BfKMClRBWLzQ4bUFYaFrE4Hy8XykglcyQElPe\n",
       "C7jwCUVU3gD6yFZbK8/ATSpzazQBOO8sYXmYbfPM+uJa+Nr8e58fR+/bIYrFYl/YiMefNURk1ulk\n",
       "u5V5jQbO1o166xpQC2GHDrAHYdC0jOGUVrKDdQBPTHnfx7NvRRFVGo9nWyNmWwM3qcxr0ASQfLMP\n",
       "+DWbGZQfd166m8LX6p/AN+1kJIvFljyFlTmozE8K/qTELGxQA08J5s997JN8IwO1ECbiBWHQtIzh\n",
       "eY1ygnVAkKjysAidprqEw+peEaE8AzepLMkSwH4fgms2h6mLstvEpfC1+pOblvSjWCyroHHy0QOh\n",
       "rcCsSWPc7NHA+wOP03KLZaAaAsNGBmHQtIzhoyqYltwmElMe/shqm4dXI/cQNRM3qWyYJYClQT5E\n",
       "eTvF5VINa7tp2UYUi2kOWZ8VauHKw6xZfaFFARL406ArbymAClRDcHriBWHQtIohc0kF05KdIvG9\n",
       "7cLu7k9qykt2d99Yitrb6rhJZYdYgj8s/DvLu526ZrbdtQWvXwKQ8LX7k5vmjESwmJY/fwuejD3c\n",
       "5StnaVLIvN1RpKycWSwZShp4F7z+rKq8XVP/oQDVECA7UljuxwhCp2kZQ35MBWdHZzVpB7DElfcc\n",
       "QJ8mKq8fUn6U8nTcpLKdwTB0keedXI82SyyCb6BeeEWgLspYw5/etHwtisW0KcVgTKknNT0/WU2N\n",
       "U1bKfLAb2y1iEBJg9/3CmcWK8twrfrkaNMkIAcqNPz/WiA7CpGkVQ3tFjaC83b1MO4AlrrxtkBnR\n",
       "RIW+2BZ5nkdxLt0C9xtLeFZ7Fb8gLZ8QSDvMasJgPgPwFTlfVIrUs4agDqUCGVKogrXqBSzxqQFd\n",
       "f8/TNPOlBhxEH38Ux6GXZKzhT29aoSeCxWKPk+5rw2dsVb5L4Dd9MXhdlLXQo8Hamiq4cPmZ9BOK\n",
       "8grjkCzKQDUEOPej5iPV6CAMmpYxJItqD5zz4VbaASxx5aV8B5+iuEcb4pC4D+4JKB/hG9jzXzu8\n",
       "XFIexTmUfi7+odCVZS8ZbFPU7wR5QRtX5lcRUGzzEJhlMvPvgd/gH0Aecd5lkTAtYlXwZtV5HaIC\n",
       "FYLKescMALI7WYLCGM/7pMc8tNBA6wjclJfouclmIeMxGWv405uWHotgsdg5uotAobv4Psl4bwza\n",
       "SpQ1PaZvkwZUsLeY9gIaFj9Bh0X045hSkoFqCPCr39IOiwjCoGkZw+aqSom2uu/RDmCJK69QJBuF\n",
       "1Il+obzT0gajHa8gvvm3B+EmWHaDpDyGk+xOad1LleeO4JfQQ3oq+v3ukTF7GPlZx/dwn/fq6skF\n",
       "C87eoIo6a9YeVkcoBJWR5igARXl0+Uuuz2kbutvBvYqnO20RHWB1f3rT9DnYYLHYUklIB9V1XrIC\n",
       "5QHKmuuxKk+A23Y8p+0wkGj3N2WgFsLNR/shRhAGTcsYPqRRzobcBO0AloKnZ7VjZJ72haggmxcz\n",
       "VhI1zsMhNdJnGpLyGE5YZkyse5nyvAF6LB18U+jSTlVRhpC/Vaw7OP+C7B0cogIrYlVUWLMIk1qB\n",
       "CsH1l3SAMtumRoL8Lled5y7StfJrAa3ka/HnE1VXBIvFHpYmz9nqfSsXycEsZqXM0jqPAgS43Nzf\n",
       "ryoPTd0v+UGTjBDcidwliBGEQdMyhoe1fpkAb5x2AEuB8lbgG1U4v0ISlTOMbpF773Q8bm6e+lf2\n",
       "8Mfz5HUeweXIVsztxH2Qr2zBd7ltQMigjbxg5a9l5QWngBiMMoR86M0tRHmofPcI91517HPSwWJX\n",
       "UEWFNYswqRWokDbWHAWAbS1LfFGCrt2rjqqZCWivoaXlcXwNqq/Nny/OKxEsitFfwq1UFRiRuaop\n",
       "rwnvosUqZs3r5/YEIIFP+eVmUVVeP1onUqBvCSE/7k4kYgQh0cSI4X2tXy7htS7pAJYC5T1GfgfH\n",
       "ZVFlPoXevlglM/Y0v9OlDfndkKI8jFtJhkqPTGntHW8swn0lDUA/JC+oD8vKK/DVFgYX6pR8yLkf\n",
       "T4WZGrjFcebt3pRGm6I/weF1yBqoiFdRoc2iTEoFHOJhyAZcVgYdAGJ/jxbGAzyfHvux2mNr4bV6\n",
       "nZ4+lGuqr9UfnMvBkB/Ogt/cK/IFVxs5teBHEhyfKhbme5TV0w+6CEACvwvl/pKivPZGqk6BtCYt\n",
       "hPaae8mJEYSgsTTfiOHqSpXyAnxdOsg5JCmvnQzRR2VRwTvkm434cgO8Qp+DuMWSojyM+wGZRe5z\n",
       "8B1NziRb3GFJeU+Rl+svl5WX479dDM5VKPkQ1D8MpCxzfxfz9urpHkJAR8hKUEWFNosyKRWoEHwx\n",
       "DDoA27dYYgtjcn1BO8/onf7tUVTbPDx2ztF8bf7t569c4EN+OEsb7qr5/KLbF8v+NI6bH0kEY+bo\n",
       "Z7d9hLJy5sAIQAI/BIkDvnqq8vYgn4VITVoIqSZ03hAjCImGxDBfjsOI4aT22+tdjjtqnkjaX0lt\n",
       "UJRHl6FkKr0DXsz/dN26h8BxfNfXndYGR+zwOF2uHpKUd5a88NnR4XUPoHGLKC9dgU14SKpicLpC\n",
       "yYdgFd6wFEbIiE29kwMJlN3Eb8UIrQINZ7ej4Qw1CzNpFagQXHbIAADbC5P98Isib396kCGrmzdA\n",
       "9Q33fzSKRX0MQaYMtkeaK6ZDG+ujBnquBgbjGYZoEqkpLIRYQdAvY8RgA+MO4ElT3h268tzLsOE+\n",
       "9DkGS9JExc98Fxxdee44af8UPC0fz3Xhj3m+UN4mpoLL1tkWgwt1Sj4EOdxbWBrlLzPvcjX1sh/M\n",
       "triIVVGhzaJMSgUcwmbbTaw5CgDEA+zCyM9F3nh4The3JFcC1Tfcf7A1iz5h4p9Hlq0+T0J785Qf\n",
       "yjpooE8qYNn2GU1yoEUIsYKgX0bGYKfkf6OAk6o8d9wY8xalr77slmAOWlmShxWlOvxCdyrU6sgF\n",
       "TcvofTTdVUIfY0Vjh4FnQKG8RFGAcaaPHcrNglVkGzHsMe9kdfM+H6ZKOwxcBRMSblaiiOpTKtAg\n",
       "qIw0RwB4yXqS2vpqUt5qW+lCAzTfMP+QP98JWDTDS6KPreE7hurm5oJQVgtzqiqDoWWTcE3xQggJ\n",
       "gn4ZHUN4N/KkKi/dYyjvl7+f3kgvge+g+7gVjWz5f47evcsYGEeryAWJBr2vhwv96OOAtLdF7cBN\n",
       "SfDdaubz7xVF4xAYZzB5+uYqtMPGJu6O3g7mnRs8fa/UQeuBVMGEhJuVwpUrFWgQVHZgQAHwktUk\n",
       "5TurUt5q6/nDD9U3zD+k59drT2/kxy3HjvD+qHidA6GsFma0OZPA0LJJxdghhARBv4yOIbwbeVKV\n",
       "J8Ze9elcgfLdve5B/emZ7LKTO/IPprxciRzrkmVgCmw3ebVC3gzOelNghCJOoCsCXLBUICD8TLli\n",
       "VJ0p0iTnbZaw3AQdK1tHbBaLbQkr6Ahh3hIXfC0hhATRAR8gBtwBPKnKS53ttytvb+hzW+GSfbon\n",
       "cNyrKucIfv1so/KI4YhMpGRyPnhV7YGEVzWv6gK811KBcOT0dVtt1+2/ZIrynKlgV14jWnkNr9MP\n",
       "HBuq8tCWxPEPPKvUOxCWgTxKy7SaTohLvQiDG2BUIEMcP7Tq6/Y/oTzJfhLnX2kjnTLigFv7eys3\n",
       "NGP9xg8vck0XI++3ru26/edt2o0NSHQv/hffZhNtZYumFAAAAABJRU5ErkJggg==\n",
       "\" style=\"display:inline;vertical-align:middle;\" /></a><br>"
      ],
      "text/plain": [
       "shift_equivalence_both: forall_{f} [forall_{a, b in Integer} [forall_{i, j, k, l | ((j + 1) - i) in Natural, (i + a) = (k + b), (j + a) = (l + b)} ((f(i + a), f((i + 1) + a), ..., f(j + a)) = (f(k + b), f((k + 1) + b), ..., f(l + b)))]]"
      ]
     },
     "execution_count": 35,
     "metadata": {},
     "output_type": "execute_result"
    }
   ],
   "source": [
    "shift_equivalence_both = \\\n",
    "    Forall(f, Forall((a, b), Forall((i, j, k, l), \n",
    "                                    shift_equiv_both,\n",
    "                                    conditions = [InSet(subtract(Add(j, one), i), Natural),\n",
    "                                                  Equals(Add(i, a), Add(k, b)),\n",
    "                                                  Equals(Add(j, a), Add(l, b))\n",
    "                                                 ]),\n",
    "                     domain=Integer))"
   ]
  },
  {
   "cell_type": "code",
   "execution_count": 36,
   "metadata": {},
   "outputs": [
    {
     "data": {
      "text/html": [
       "<strong id=\"negated_shift_equivalence_both\"><a class=\"ProveItLink\" href=\"proofs/negated_shift_equivalence_both/thm_proof.ipynb\">negated_shift_equivalence_both</a> (conjecture without proof):<br></strong> <a class=\"ProveItLink\" href=\"../__pv_it/theorems/ae6b3424ddc8c993fd408de63d8b2809f084ca1a0/theorem_expr.ipynb\"><img src=\"data:image/png;base64,iVBORw0KGgoAAAANSUhEUgAABPIAAAAZBAMAAABJHB1UAAAAMFBMVEX///+IiIgiIiIQEBB2dnbu\n",
       "7u5ERETMzMzc3NwyMjK6urpmZmaYmJiqqqpUVFQAAAB6qHgnAAAAAXRSTlMAQObYZgAAAAlwSFlz\n",
       "AAAOxAAADsQBlSsOGwAAC+5JREFUaN7tW32MVFcVP7Mzb2Z23swyINVNFsi6BWkh1C3aljRgpihV\n",
       "SzEPpSiJ3RlSl5BK6ygJsfGDoY0kGkMnTTBNQbIo1D+kYUBKaVnbIaZoocpQ2yxbK+xKtWlEsyTd\n",
       "8JFu4j33492Pd9+8wSbqRk7mzrw79/zOuee+39x77n27AKb8pacCkdKS0nW5LhaZ1tOAWM+CYEO1\n",
       "FXR10sdf4UWtWyTdCjbSTLq1PqVb7awN0BR8LSE0QfzbMaSVAtk6eXv1/5V5sQYrat0mmXw0VpXd\n",
       "LVuxyMywht0hlme2Cr6WEEKC2A0fIAYcAFEE80aw4S2NVB34kas3Z14AN7nkdV4ADi0T9S6b4gy1\n",
       "InVt+qk55Hbah21G8964n/FwyAtopN9GlLrVMgVIsPNAt6FAv9GBWgirFwZs2oKwmGkSQ+LjZa2B\n",
       "OpmhFM68F7DxSY1U7gD5aK80Z14AN6nEqbICkHhnCa/DbJtmuyevpa5Nv+/5cfK+HaKsWOQLG3H+\n",
       "WUNJZl1OtlstrzHA7bWA35oBNELYYQLsQQTMNI3hlNGygw+AKJx538fVt6SRKoXz2daI1TaAm1Ti\n",
       "1lkBiL/ZD+Karwzajzur3E2p69omgBjetJORViyy5Glk5qC2Pmn4k4plKYMGeIq/fu7jn/QbFWiE\n",
       "MNFaEAEzTWN43ohggg+AXxjzkISJhp7CIbtXRDAvgJtUEucFYL8H/jVfw/Sk7DZ5KXXjEMa8uBdl\n",
       "xZIFjdOPXgjtBVqNB+bNXgO839c4rfZYBeohcGxkEAEzTWP4qA5mLbfJwpmHH+3G5uHVyD1ENYib\n",
       "VDLMC8BSvx7CvJ3ycqmBtd209nqUlaAkaH6Wq4YzD622m/MsAyjgT4PJvKUAOlAPIdHbWhABM81i\n",
       "SF/Swaxlpyxib7uwp+eTBvPiPT03FqL2tiZuUskhXuAPC//O606XyZltd23B/MUHSV1NX79piZEI\n",
       "K0HJnr8FF2MXh3zlLIN56bc788yqsCxThoIB3gWvP6szb9fUf2hAPQRoH8kt91oIwjTTNIbsmA5u\n",
       "H53VYAPAi2DecwD9BqncMiS9KOaZuEklO/1p6KKoJzK9xiqxCL5BRuEVibqoYn19/aZlq1FWgjIl\n",
       "788ptbjB/59XkuPMKrN8sAflFjkJSbDzfu7MYo15zhWvWPG7FAgBivU/P1aPDiJoplkMHSU9guJ2\n",
       "5zIbAF4E87ZBesQgFfliW+R5HsM5bAtcDqTw3HsFX5BSQ1N2mJVYwPIZgK+o9bzWpA+S70NzoEJy\n",
       "FbC6XsCLWBrI9fdcgzNfqsNB8vFHeRx6ScX6+vpNy/VGWLHI43T42vCMrSJ2CeKmLwa3m1nNmUxv\n",
       "a+jg3OVnUk9qzMuNQzyvAvUQ4NyPGo9UooMImGkaQzyvj8A5D25lA8CLYF7SS+ApinO0Lg+J++Ee\n",
       "3+QjYgN7/muHlyvMY7gEMz8Xfygss+yjk22S6Z2gL2gTzPwqAcptHgHzSnr+PfAb/AFkic27LBRm\n",
       "TdyF6FZN+JAOdAhp6xsLAIjcyQvkxkTdoyPmkkSD5BHYlZfYuclmSeMxFcv0nSfoHFT2b1pqLMKK\n",
       "Rc6xXQQJ3cH7pOLdMWgrMKupMXObNKCD3cVsFMi0+Ak2LZIfx5SCCtRDgF/9ltE7IoiAmaYxbK7o\n",
       "I0C2uu+xAeBFMC+XpxuF5ImyZN5pZYPRgRnEN//2INwEy25QmMdxityp5L2Mec4IviQfUlPJ73eP\n",
       "itnDjZ9NeC6OeZ/JnoyfcPb5Lmq8W3u4j1AIaaPd0QAa81j6S6/PGRu628G5isudkUT72HOebc4z\n",
       "1+yAFYssVYh0UM/z4iUoDjCrgdWdASS4bcdzxg6DkHZ/QwUaIdx8tAwtBBEw0zSGDxmZ6mzITLAB\n",
       "4MV/elY9RtdpT5IK2rNyxYqTzrkYUj11pq4wj+OkpMdk3suZ5w6wY2n/m1y3capKKtT4W/laAusv\n",
       "qNr+ISrwJu6ixLtFLekOdAj6L5gAbbVNjvj1XY6+zl1kufJrvllFV9U3FqruCCsWeVhZPGfr962Y\n",
       "pwezaJVZVvI8BpDgYmN/WWceWbpf8vwuBUJwJjKXoIUgAmaaxvCwPo4wAe44GwBefOatwBuVO79C\n",
       "IVVimNwi597pOG9unvpX/vDHddU8j+IydCvmdOEYZEtb8C63DUgatNEXrPy1yjz/FBDBpEKND725\n",
       "hTKPtO8eEdqrjn1OOVjs9l2UeLeoJd2BDmnj3dEAKGt5EUkJuXauJnTOTEBHlaSWx/EadF1N30jO\n",
       "SxFWNGG/hFsZKxCRvmowrwHvkmQVrWbNc3sKUMCnvGIjrzOvTPJEBvQsIWTHnYlYC0EoZlqI4X19\n",
       "HOES5rp0AHjxmfcY/R0cV0mV/hR5+2KFrtjTvC6HdeR3QxrzELeSTpUuXdI6Ot9YhGOlTEA/pC+o\n",
       "DavMy4lsC8G5GjM+lLgfl8J0FZz8ONd2bkqRTdGf4PA6InXSJFyUWLeYJc2BgLgI2YBtRTABIPf3\n",
       "JDEeEPXU2I/1EVsLr9Vq7PShWNV1NX25lF32p/xwK/jmXFEvBNvoqYU4khD4ZD4332VWXfOgiwIU\n",
       "8LtQLBc05nXUkzUGZJ6MEDqqzqVEC0FIM5buB2K4ulIfgQvwdeUg55DCvA46RR9VSQXv0G824uUG\n",
       "eIU9B3HyBY15iPsBXUXuS+Adjc+kW9xhhXlP05fjLVeZlxG/XQRnSsz4ENQ+DLQtfX8313ZrqV5q\n",
       "gM2QJd9FiXWLWdIc6BC8GAYTgPItXnhiTK8vGOcZfdO/PUq8zcO5c46hq+r7CfH5KxfElB9upQ2H\n",
       "ar646PFk2p/CuMWRhD9njn5220eYVWHZFwpQwA9B7ICnn6q8PShWIerJCCHZgK4bWghCMUNjmK/G\n",
       "EYjhpPHb61uOAzVPFuOvpDZozGNpKF1K74AXsz9Zt+4hSCQ8xzOV1vpH7PA4S1cPKcw7S194dnR4\n",
       "3QNk3qLMS5VgE05JFQSnSsz4EKzCDUtuhM7YTDs+ECPVTeJWjDAXZDq7nUxnpFtoyXCgQ7DtUAAA\n",
       "fC9M98Mvyrr96UGaZjdvgK7bVg7Ldx6NsqI/hqBLBt8jzZXLoYl/VLEsZa4BhsAzDNkl6qm1EEKC\n",
       "YF+2EIMNjAMgisG8O0zmOZdhw33kcwyWpCiLn/kuJEzmOeO0/1NwWT6e6caPeZ5k3ibOgsvW1RbB\n",
       "uRozPgQZHC2kRvHLXLtYSb7s+astNnEXJdYtZklzICB8td3Eu6MBQD7Azo38VNb9rbE2l7G/DSiA\n",
       "rhv+FwCDza2Yaxv+PNp59nkSOhqnPCt+EIw/KOAAFazKvkCXEtByCCFBsC8jY7CPo/gbBSw685zx\n",
       "wJy3KHX1ZacAc0hmSR9WFGrwM1MpV60RFbIsk/fRVHeBfIzlAzsMXAEl82J5CcZKPz+UmwWr6DZi\n",
       "2OXa8crmfR5MVXYY6IITCbsVyxN/mgMDQtpodyRAtKynpa2/qtStspUlGmDohumH/PmOb8UQTIk+\n",
       "tkbsGCqbGwtCrVosJysqGJp2CT21FkJIEOzL6BjCh1EUnXmp3gDzfvn76fXUEvgOuY9bycyW/efo\n",
       "3bsCE+NohagQ0pD39XChTD4OKHtb0g/sSkzsVtOffy8vO0fAWEHjqZsr0AEbGzgcfZ1cOzN4+l5l\n",
       "gNYDdcGJhN1KonPNgQEhbQcGNIBoWU1Ltqui1K2yXjz80HXD9ENGfr3x9EZ93HLsiBiPkts1EGrV\n",
       "YplszhQwNO1SvuUQQoJgX0bHED6MoujMk3Ov/kwox+zdve5B8+mZqrJTKIoPzrxMgR7r0jQwCbab\n",
       "vFoz3vDPepMQCEWeQJckOGdxICHiTLkUcJ3Os6LWbRKz3AQTq0pny1YssiWsoTPE8pZWwdcSQkgQ\n",
       "nfABYsABEEVnXvJs2c68vaHPbaVK+y96fcW9OnOO4OupjdojhiOqIa2S8cCtGA8k3ErwqibBey0O\n",
       "pKIwX7N5uy7/JdGYl5gKdubVo5lXd7s8X7GuM49sSRLegWc1vwNhFciSsszwdEJemk0IrkPAgQpJ\n",
       "eKGur8v/BPMUeaKVf6WNVErLA27j8aYTWrF+44U3OUGVQN1r7u26/Odl2o11iPUs/heqqQ2ZrB+t\n",
       "HwAAAABJRU5ErkJggg==\n",
       "\" style=\"display:inline;vertical-align:middle;\" /></a><br>"
      ],
      "text/plain": [
       "negated_shift_equivalence_both: forall_{f} [forall_{a, b in Integer} [forall_{i, j, k, l | ((j + 1) - i) in Natural, (i + a) = (k + b), (j + a) = (l + b)} ((f(i + a), f((i - 1) + a), ..., f(j + a)) = (f(k + b), f((k - 1) + b), ..., f(l + b)))]]"
      ]
     },
     "execution_count": 36,
     "metadata": {},
     "output_type": "execute_result"
    }
   ],
   "source": [
    "negated_shift_equivalence_both = Forall(f, Forall((a, b), Forall((i, j, k, l), \n",
    "                                    neg_shift_equiv_both,\n",
    "                                    conditions = [InSet(subtract(Add(j, one), i), Natural),\n",
    "                                                  Equals(Add(i, a), Add(k, b)),\n",
    "                                                  Equals(Add(j, a), Add(l, b))\n",
    "                                                 ]),\n",
    "                     domain=Integer))# only used for decreasing exprranges"
   ]
  },
  {
   "cell_type": "code",
   "execution_count": 37,
   "metadata": {},
   "outputs": [
    {
     "data": {
      "text/html": [
       "<strong id=\"tuple_eq_via_elem_eq\"><a class=\"ProveItLink\" href=\"proofs/tuple_eq_via_elem_eq/thm_proof.ipynb\">tuple_eq_via_elem_eq</a> (conjecture with conjecture-based proof):<br></strong> <a class=\"ProveItLink\" href=\"../__pv_it/theorems/1385adb0d99bd33ceeb5207a18705af3cf3afea90/theorem_expr.ipynb\"><img src=\"data:image/png;base64,iVBORw0KGgoAAAANSUhEUgAAAwQAAAAZBAMAAAB9dfQJAAAAMFBMVEX///+IiIgiIiIQEBB2dnbu\n",
       "7u5ERETMzMzc3NwyMjK6urpmZmaYmJiqqqpUVFQAAAB6qHgnAAAAAXRSTlMAQObYZgAAAAlwSFlz\n",
       "AAAOxAAADsQBlSsOGwAAB19JREFUaN7tWn2IVFUUPzM7b2Z23sw6K1aCtSyLSx+LsYmlhMII2Zcf\n",
       "PDfbCtJd/2gLMxpdsCJqn5VRBDIESqDgSOY/FUxSaSk1EgbqRqMZaqbNhgVBxBoulrBs99xz3333\n",
       "fc1bBwSnOnDGc8/9vd977553z7n3rgAh8nOHCf/LVZNIx6xQTOFf9cam0PokOUnfFT3J8H8rBJEK\n",
       "aZ2Synp9N9XJtVMoC0EV//mxVgjCEA0kJ4TWKzd6PJkc9M5WHc6WV6z+SJmUheBzbL9TKwRhiMYR\n",
       "rUBatzQbbs9jTLc5PNtCOKz+LUKH4WXMZ/21QhCGaBzRy6R1S7rk9hxgOu7wjIdwWP1HhQ7zwMYq\n",
       "tUIQhmgcaRJav9zpdnSzCjHmqBdjIfXE6m8ySIchzb6K5prlOAzROHJaaP2y3V0KWFqLtaseZ8sr\n",
       "sr+5TMpWRLM7OubUXhGFIBpHPhaaPD9dXdtsXrgxZDEq8cvcqS3HxnGkTckRzpZPObH6Y1VSFoK9\n",
       "AE/UDkEIonFku9B3zbiSLlLz4Fmj5nU2/jD+7OlAud36lPu2aH/ZWGfLK7I/XSBlIdgMSRYLzblh\n",
       "yakhIMRVqI5iMgftlcSXdypoke9ZIJohuFmk2nzQlXTxUBn21F5IEf5RZn7n6oqyL/onA+6wPc6W\n",
       "V3g/jnamm5SFIG7EimxK0Psmux6Er9h4l9QQEGLSktjqtfx6IU7/HAmCUIjSnnu/IJZn7uXJkQAe\n",
       "ibubVB+FaA60w8L7JcBM0O75I3AmEB4WMnPIXeDZw30GcBEet9a62KpFxtE42olRUhaCTNaqtet+\n",
       "XQPnYoZuuEJgIyYn530sv14KgVYNgqT4XFzl6W4Rc3SX62OtBvDscoWgqR/6irBuqvDeBdplFm49\n",
       "sI4SnlKSTwhmQmo80Wpdja1aZNhPb9dNigcUhYMi2HtxF5wtxcAVAomYpMz1sfx6KQR6MRCCOxfa\n",
       "GTrfO++7UfISzXXhRCLqy8K3zDouIncB0qMwpZi8FJi+CQ/WNUotwEQ0DvoYZNrlsl8fq0XG0Txt\n",
       "tpNiCJayN021id33yR82xmDx/q79RSUEiIAVB++3aBTTFulMXGgz3JaSHWwfhSDqIZSQpfjDnlJb\n",
       "Mk1N80Otv9Cawrn08BBZPBK3mrSvAr+xuoHDyfq1cWgpnEobOGre9IEewu/ESfa1qzvOMsolrCY8\n",
       "BAjGFifTwJcM+3G0Id1PiiF4lXEvn2JoPMOejK3c5ZkFiNBuSViVXjGVNCCdkc5IyW0pxdH2UQje\n",
       "VK79dIBJWULOYHViD9BjDvEQ6Ni9FqYaM+g7cpIrRE4eiVtGGs9munT+RWt/86AcL5X4gp03+wrg\n",
       "Mjhey46JJa1jlc9G5nd4mr5nDuYtJJOXO8mwn402rWdRMQQtbF5vOg4pvnM/CaXrPSFAhF5KdEOS\n",
       "L065+eEM57znTsAwxsvpAgHRcuPQB/1KCHY7uEEl2I0pk2H3wyCkjsmMtBYO81bKeWqyW30I9VYS\n",
       "t55UG7lv8w2UVDrYWKya9vwIe8H1BjWj+O5dIAz0cHxyJX7nt7nnNHOuWlymEBAbtpAs2il4nGTY\n",
       "vwlvHS2SysPq1ZDeOjDwDAvBimZPCKjwRKrwUqc0u7VRV2GKVK1UrVcFkFkeHPM5ZsE5B7eDYAN+\n",
       "wlUsoW3QBH12iv+CtxLOEJxTH0K9lcRF86R2Xs/I1MNjnvFkItuDOSfpqbI3W7h2FczJvodAMsyI\n",
       "rwi1QqCN5RM5mgWpY+59AdUkM37IgE5pmvi9qTULnSdwaTsFmioERMuNQ9+JrBKCDQo3JRBJcIbG\n",
       "j+1l1j6cZDNBJKJRWIAtdyLaYD+EzYO3kjg8ZbNP2jAEMXn1W/CG2pSZxn7BR/zO+I6qIYg5yHKB\n",
       "ZGy06YDvgBKCTKFEO2C2tm5z747pkzKHPuDDtEKY8SIztZz1w51nS8yKGqxocSC3GM5Gke9syVmO\n",
       "Jbf4WAUBtDI8luN5icuHANZY/Z1YxVgrkrWJ2Y9FdLak8GAjIk8jnhIqQ7BcToInn/tEaUqxPadZ\n",
       "+Xjd0x83lRAsV8m0bCAZjjaePfPzZzkLRkx4nYUmcasJLb4hSB04toQPzGCFzL1oJubBoIk/5Izn\n",
       "0fdRVgC5xXCJBQJlki+eV0LAXkJyiwQrCNhoDVZwyN7/ZloZdJlBXmwF3oqbNjGzLKJ4XuGJ5+1h\n",
       "AugVivLajoVyA86CNzExqjTdO3Tcn0xXwmevQijJJR+4mLXBnCwSuN3no40PxR9M/cOldu/AGt8z\n",
       "IkVwYMQpk5G1TJDOnoxlSSDHZZy4nowSglRO4XbcCV+vIjdWixzvhK1elTgjiXoyCg4bvfZ5W5a0\n",
       "Ton4nIBsrJNrutAr/dvxujkVSFFN2THRbpk4jmTFrxOWDUQcvOfEMZhyQLHP5nbeSTcRr9N7N0/8\n",
       "qZ43YmufQoyWIBLsdmPfNX12WMef79N+Zm0Lyj4+GYJY0HnKEcIvCujGw6OyeosAonSxwUPw9tX7\n",
       "f0RJZdPoJ8KvBR1gBl0QiruGJNIx/x+rylYekzso/wAAAABJRU5ErkJggg==\n",
       "\" style=\"display:inline;vertical-align:middle;\" /></a><br>"
      ],
      "text/plain": [
       "tuple_eq_via_elem_eq: forall_{i in NaturalPos} [forall_{a_{1}, a_{2}, ..., a_{i}, b_{1}, b_{2}, ..., b_{i} | (a_{1} = b_{1}), (a_{2} = b_{2}), ..., (a_{i} = b_{i})} ((a_{1}, a_{2}, ..., a_{i}) = (b_{1}, b_{2}, ..., b_{i}))]"
      ]
     },
     "execution_count": 37,
     "metadata": {},
     "output_type": "execute_result"
    }
   ],
   "source": [
    "tuple_eq_via_elem_eq = Forall(i, Forall((a_1_to_i, b_1_to_i),\n",
    "                                        Equals(ExprTuple(a_1_to_i), ExprTuple(b_1_to_i)),\n",
    "                                        conditions=[ExprRange(k, Equals(IndexedVar(a, k),\n",
    "                                                                        IndexedVar(b, k)),\n",
    "                                                              one, i)]),\n",
    "                              domain=NaturalPos)"
   ]
  },
  {
   "cell_type": "code",
   "execution_count": 38,
   "metadata": {},
   "outputs": [
    {
     "data": {
      "text/html": [
       "<strong id=\"tuple_elem_substitution\"><a class=\"ProveItLink\" href=\"proofs/tuple_elem_substitution/thm_proof.ipynb\">tuple_elem_substitution</a> (conjecture without proof):<br></strong> <a class=\"ProveItLink\" href=\"../__pv_it/theorems/5768822974fe123d7012beab5de2491b2261d1aa0/theorem_expr.ipynb\"><img src=\"data:image/png;base64,iVBORw0KGgoAAAANSUhEUgAAAr4AAAAzBAMAAACDGBZpAAAAMFBMVEX///+IiIgiIiIQEBB2dnbu\n",
       "7u5ERETMzMzc3NwyMjK6urpmZmaYmJiqqqpUVFQAAAB6qHgnAAAAAXRSTlMAQObYZgAAAAlwSFlz\n",
       "AAAOxAAADsQBlSsOGwAACKJJREFUeNrtXGuME1UUPt12OrN97WAASVyxrm6iIBEIyIqvrkFBRRhl\n",
       "F/whtJiwGHxQ4AcSUQYVYkKE9QeE+Ajr65caio8lPBK7EjAaDQUhiBDZVTQxIboaFlZwqfc17850\n",
       "6myzTML50d577ndPZ76599xzb08LUF5aW1vhivwPcUncrcWLl8kFh7O+4JVbRN+XFs+5gY+5bC78\n",
       "jE8G7nKJFQ74it9EyliXh/ZyBNuWeNKX/H5trAYKQ3s5EdG2aZYf+RWajPUjHu3NnejRQL1tS03e\n",
       "h/zWGMcL1+7V4Jse+9dKtg5isg/53WesRvNeDQ547B/LlXt0vuJ3krEa9Ow/+7xamGzbsl32Hb8B\n",
       "Ex3HvRoMJb1aeMvedXT7jt+abmP9M7zknR6ld8obm9eWWSL1+Nqe0SwCCQ37SgdqrnfexmjoWfYR\n",
       "Wp/v+F2TtQ6e9+SwblRHmmCp5GiD4h+jlfRmrp+yPg46NcxLhWjG8RlpaBIwRhuIGJ8+95fv+P3F\n",
       "VB+H7uJOiCaBU+LiOXn4BLhpf9hyTPHQTGunJJhAZ0YKFR5XwpEbISi2zPrVfh5h9JdkGnxvf7VP\n",
       "+I7fu031qWjo9OK7XXYV03yByYkSCksLxSuyC+As7YceCD+M9YriCZFDD8pOMBqCHWRK2V/tQdln\n",
       "/PL/WvkNZiCNbvQw09wG3AWo6xDO29lgeHWgRgZYP92eNoidwwXYZOuDCXoTdTf2l5vO+4zfQL/V\n",
       "P6RFOAgqv8jnxXohJtnzS/HvdCvhLxmrzFcq/KbxzN9vzy9FHxCGKx9c0v9CsNtn/IbHmxQLERcF\n",
       "+D0uk9tEk5YbgET7DyTu4qz98awm+HViH20/jx02VqOZESH8YnUdGnhojN8LdkYIuue1ObIjfeGk\n",
       "z/gNZqxnKGExPjZKhhH3D2H8cC5HTgfTeLHCL0SvFghemJ+k7WfgKapG4cB0wi9Wo+AhlAW+sVR/\n",
       "DT2hwLMQ0S6I66X8kmF8shy/LlDVlrR5M7oc3W/P9I1X02nagIbWguHP9WRBWITW+Ea80OMeY5UC\n",
       "BlB8WKTtCx7KU3VoZpdE+CXqad+OAFgvsdpYvSEVLVzcWWbkxS5Qfnfjt63l+HWBqnr4az4NrFE9\n",
       "JOY3rgZlG+BVgKPWiF8FpOfp2lU18b+KWsgJspORWOZdAaEcNoA8ddPwIraWKcevC1S15VTB9nQF\n",
       "8xtSw//FKz8HSFknrLaxjuraVTXhV1GvX/m85GQkIS4POZ8wcRcpv/iMLVQox68LVLXloGVBf5K9\n",
       "v7INbRgeUf10sdgLnPXoWwXAglG6dkUtPHBW1NT3FIvgZCQsJ9Aeeb3T9V6i/MbQM6gtu765QFVb\n",
       "rpPNmrn6ipGLgLW/WLpdtO9Wzoj6gEvKORY/TGxomFQ+fiiPqrbMtux6BXGII3LZqfV2xi9aCNGC\n",
       "y8nO/FJU1cX+wJpuS30kDYzfjSCg6CuEx0LsemVkjH0Q9nXr+aUo95vZLRUPT+JeM5bOsxW3+6e/\n",
       "6IUbGL9hKdSh29IDLPttCfwUkqKSnl89yo2crvRy6IY+Y+m8CXzOb1xUFy4B7zmiOHI+KeZCBv+g\n",
       "Q7mSKZVezkgdv1Mseh/7B2jvQhvq0TRqXpuiXzof+3GtkV+CgpauGYpSV9RivpnDZSW6Ho3pCNWr\n",
       "S1Bzl/USNF1L1+sav6yzXo8dhXWFkIeYQsHN+gYPb0ZxXR2+o8Soo00cucVjofnvG/nFKO4mXjnE\n",
       "0hU1eVRew2450BjAS9UYXjmUqelYYYFrOmTtvMYv7tzZhiSv6nF8Zol/hzq/xCnBhB1XY35fRgvX\n",
       "OnLSFrwWshGyJzkGuZFGfjEqmlP50hU12QMKYeF8jByVcAopnTDPAse6TsVar8Yv7WzQl9xfHPHO\n",
       "0Ko7PHWvd2i7qPCbyNLDPrSW7MlCbEtb2zOI35ZaI78YFewIdJPjE1b8+BrjmjcVkJsJk+ZstJse\n",
       "8lM4Xjkjh3aDCQ5wApi1jMYv7WzQ4/2xeX31nl8CXlMg7BNMgDurP5/k+jDJByJJmU/R8Rs5ZD2f\n",
       "TMvh/dILjWpxPNdrMNkPT7OE1zoIoslbh7wFhUM/zldIGy8BO5i9iuERksov7kz9g6rH5zvmzb73\n",
       "/BLPKRAOCSbK+Q473GjPcSno4ZMpuo34BmC0ld+gvOYjCRBhLbQoIx/RAqgjfkFvTfyF/fFm3Fwj\n",
       "HUCvtR2QwnDU9AaEBOQ9GJa+IB1sXStSa6s1fnFn9QNXK/zWme8lOAjD12sKhH2CSXzAMH57ZP4u\n",
       "tJ8+k4X1aCTzN8uQsPIb2XtoJmDCVhRoMdyBinwTrJD5JtT/w++G5+MncDO/Q0Svwt4u8jhQ0wZ8\n",
       "qLoElzAWv1Bd/9GMak2NH3aIhg9kq6HZHRwfBH5rc9762yeY0K+z9N9fxBnV97ctse6PdYInPFu5\n",
       "d2pFtf9iVVdQ4bQpmlVBio6/JOlNgMMRaMK8nnrOL0HwNVVLMEn0mvn9wOn8wchvhE7akCQqRbU/\n",
       "lywwHWtpVJvuC+g/hJQCMxplnQknfmN9JcaOp/wSDe4twaSkBDNmfvPu+F02qQAxWtxWTCpFrf9C\n",
       "ieliKpw21Rb/1n8IKUXlmQWdCSd+efNS7zm/BMF3Md8z+Akmm0Qzv+By/FZT5HIBuzG885ZfQuDq\n",
       "3nuQE0x8l18Cn1r5DXrKLyFwVoLBTjD5GfzG7/YOi3/wlF9C4awEHhJMSor/8vtqTLGU1/wSBq8o\n",
       "wYRo3CSYxPyXn2oOIDznlxB4ZQkmpJ+bBBOWrOzn3wd4zy8h8IoSTIjGTYKJD38fAAeNcdfg5JdU\n",
       "mGCiaMolmDwL/uO3NmVzuOIlv6TCBBNFUybBRDk38hW/vOn3hYOSX1JZgomqKZNgUlPwIb/ad3FU\n",
       "BiW/pLIEk0DpJ2wRX/4+1vz77qHOL7FPMIm0V8LvLZfN/2u8Df6QVXTNbG0d6QZ95f81KhRuM31f\n",
       "Wjz3H/2g35ZrI8BhAAAAAElFTkSuQmCC\n",
       "\" style=\"display:inline;vertical-align:middle;\" /></a><br>"
      ],
      "text/plain": [
       "tuple_elem_substitution: forall_{i, k in Natural} [forall_{a_{1}, a_{2}, ..., a_{i}, b, c_{1}, c_{2}, ..., c_{k}, d | b = d} ((a_{1}, a_{2}, ..., a_{i}, b,c_{1}, c_{2}, ..., c_{k}) =  \\\\ (a_{1}, a_{2}, ..., a_{i}, d,c_{1}, c_{2}, ..., c_{k}))]"
      ]
     },
     "execution_count": 38,
     "metadata": {},
     "output_type": "execute_result"
    }
   ],
   "source": [
    "tuple_elem_substitution = Forall((i, k), \n",
    "                      Forall((a_1_to_i, b, c_1_to_k, d),\n",
    "                             Equals([a_1_to_i, b, c_1_to_k], \n",
    "                                    [a_1_to_i, d, c_1_to_k]).with_wrap_after_operator(),\n",
    "                             condition=Equals(b, d)),\n",
    "                      domain = Natural)"
   ]
  },
  {
   "cell_type": "code",
   "execution_count": 39,
   "metadata": {},
   "outputs": [
    {
     "data": {
      "text/html": [
       "<strong id=\"tuple_portion_substitution\"><a class=\"ProveItLink\" href=\"proofs/tuple_portion_substitution/thm_proof.ipynb\">tuple_portion_substitution</a> (conjecture without proof):<br></strong> <a class=\"ProveItLink\" href=\"../__pv_it/theorems/a5ea664e3c6be367e7cb27beb0bd8f2e1e6a71590/theorem_expr.ipynb\"><img src=\"data:image/png;base64,iVBORw0KGgoAAAANSUhEUgAABFsAAAAzBAMAAAC6ZhofAAAAMFBMVEX///+IiIgiIiIQEBB2dnbu\n",
       "7u5ERETMzMzc3NwyMjK6urpmZmaYmJiqqqpUVFQAAAB6qHgnAAAAAXRSTlMAQObYZgAAAAlwSFlz\n",
       "AAAOxAAADsQBlSsOGwAADI5JREFUeNrtXXuMHVUZ/+5j7sx97d7FttYUynV1oxFrWtKUDSpuDQ0q\n",
       "LZ3SB5BouzWhEG3ipWtEgrjXapsaQrv+ASH44KKAGiFckNbaVrqrtgQp6baWhIrAbmxj1Ea3BtK1\n",
       "0qznNec1c+be3TuLbZkv6fb7zvmd883M+c15zrcL0JxYq1e7EMu7WSZDgeTERD1+YmGSqVysd7aG\n",
       "siQzMdHbNF1qMSHC5dRFe2d2F1MKMV2ikrYe1a5ecHdgvuKjMV2ilhdUMzF8wd3BI8ac9EhMl2jF\n",
       "6VbtY63OF640W43QU5TEoDHrozFdopVkSV1FDLRa4fdDrEboKcr9xpw/ujFdIpXfqWZ+sNUKz4VY\n",
       "jdBTlBeNOdl6TJdIZaFqplqtL/eW2WqEnqqkjNsqufGYLlFKQmuv461WmC6brUboqUrW3CX+KKZL\n",
       "pFOXEdV+Fs9+T8yWJzSaGTBblgHZ0bnS2kq1AhpazV98qbRlmO54PvzaOTo9YsS84cZ0iVD6tS3d\n",
       "H6B/P6lm5D5HM/1CATdTY9391rjIUi2/0HybWZuH86JdnXmwK9StQBfI/PyZTiwf0xyUYrpEKH/R\n",
       "7HlocfQJyJfB8vZjqLnqhpOmKigAFvPXeQF8fkC83Ausa//phrz8C1AbMc5+EFIl7jfZE16UoAvv\n",
       "x1pxvhGUKcd0iVCu0eyr0eJoDDfVHZd4ayVi1uEZUxUU4MmvAd60O8qSlSdsChacLyrCnRj3ux8R\n",
       "JawoQePrRb3TmPH+CuMxXaIT+20/XVK9sK4mNtCpeRZ2mE4iGZ6/87lzUCxLVnvNOWPuIXLn5IpA\n",
       "+F2E/oUVJWiHECVn7l2st2O6RLgwGvcPRmi4Pyw1GzUPmOlCAY+MeBsp6LXndMFWwTW3OUGv+I08\n",
       "z2B+rdO4mUOKEnSh91uoY6PuAucutPuM6RKNZPT3cj1qh2H4W7FKmg1PHJgJn6am9vJ6gC2lt2j+\n",
       "GVg5SNoPZ1ELL5ctv2+Orh+n6HYErXG/qFvI0ZV2sFuCbpv9cnc4G74Y0yU6SenP8QZEoVLxijx5\n",
       "y63/ADftLmquG2Dp3CIA5wtlmnIKvkxfd5xFLdjkimIkmVs433KvpylooZOucL9oWXQdKaq65eUJ\n",
       "OnUZoE4v32O+w+WMLqTz+3MzdGkjs+fBmBwBPbr+6dgm1Cqj121/Lx0UOl1ubnWpmcQlrgD2I9nl\n",
       "ATIlmr/2+kFKF5xFLedWZpESde8HR+PVO8m/9tBM4Te9dMglRVW3tLyH3rG30qBLOFyjdNmDjQeb\n",
       "oUsel8hWY3IEbLvoG3BJPkPBzVbk44BTd6qSyeVlTrybJDiZTPCse2GbZHERtY3LaMUvKRri9mCu\n",
       "jNp1c6M7RHT5Jr6J3mboYuOOaGvMjaB9D33PtVCXmy3N07feebcrmVz4MHA8L8EJXbws57Y7d0pA\n",
       "Lhxtz5crkv3SoiFuR+0yUvc16j8RXbK4wxpuhi7kgHtZzI2grtq33Lmd/f+dhxcDrODJn5qYkE0+\n",
       "5+S909rZIt/57JslkZWamBiTgFx4bYkRqSLFLyka5vZ2OFUJ7zTaRyhdCmjUyzY31T2E/h+IuREg\n",
       "l/uG6DWyobWxv8kT5vxECFBF4xPCkIoaus2EzTPae9nK6MrOzoXN0SXV2fmBnpgbQesG37TAKb3T\n",
       "1/BQX4sVzA5d+w0wuvwKAM2bLUqtShhd8hXIXCjBRnk2+jc5M5ca95Wm9+aEuv88eCxP75zO2pNl\n",
       "Rpft4KBxKU0f2IfQv996z27zs7XCNRJdEG77ZFzc1evXgnInIekzQar0mnt8z9D//gD2A3wq+IAf\n",
       "76XlxSS1pta9vGJ0I1bP/7ro+8/kfEaXjJtW19spbNpzN9SKI0tgp7xNdyt8bjIuRCxFW09Y7iTE\n",
       "GQtShewAhS4WehFO8MwTAQVYWo5fzFqt7h1gdPPou5EuxVI24FngfZviUJ4vtQhdjkxuppuq+LWg\n",
       "3ElIojdIFTJLpQveKrqKZ14VUMBL458179HqngVGN1n3fBqMppku3mAEA0Po7ZpLXsY5eEV90JlB\n",
       "gwiK9/yspNAlW0DjlLV0hjchWDX0GX/FIrG/46RPkzZ+RNriIb8mDUCXeqOjtfR9Aars+nsqXZKo\n",
       "mzw9l7Wl0KTByEvjGwRlpW6pRr8bsf+w3D9Fql6IpKg2nurCMvRmrWjHTy1fxImj962sknVgsbLk\n",
       "Twpd0scR6sZqP6vV+rDt/8ZLSrzEnePThIi0ZK3Pp0nyEds7wEOuK35Vdn1Gpct3UUfRlWBzDKFJ\n",
       "vZWX9irs2oBk0BmQ65Zr9Lsp8uou913LBRiWBmGRaakRjy7fRtoWct69Oo0fwIJhG56gdMnzXpnQ\n",
       "xcET373gNWm+bvu/kJASN/LQvo16kJ+Stgtu8mlShb1WhX0euBf6vVRJlV2PqXR5HCmDBTaCCk3a\n",
       "a/DSHmcJuV65brlGv5tcr3mb7ljrbXfXx8PMhvipiDkyrb3u0aUN3+t6vtPj/BctrV9Ab9pwsWL1\n",
       "DMh0gb8C/vJnLj0pQ3PixAg8OUefKOPdxV46L3iOArGWO7JHnzU8B3QmjT/lojik+XB45s3e46vx\n",
       "pMFDzvJBkWvkN+8KuryOp0j5EXLCRjTf1aI0UuJrLKE4IrshNQbcIXVjc7q8UdN7oCi2M8+Fmg3x\n",
       "UxFjZNq6HpA+YLDeIu9HexWn/diBr9LeBZ4sKXTByHHYuNo+Sj7hqGYOuPMt9f0jiVQdg09SINZS\n",
       "sE69AJTGNPxVMsWN4wgdDYeviUZ5IdfrmWui6lDkeqar9C6IBO2QGr6H/AoBrOlXi9OUwQhRQHJD\n",
       "agy4Q+pGDEb9+lvZeliaL3ioYSxRFMFGxsg074iRvVQDdQvxpw9WQVtpU5puxxVq5BxCpQt022cP\n",
       "QNJFyFS1/wm3isaeVYAKsx8k8VgJG12oegSkmoMqFyiWe6iOtYcgzXBIwzilwmwNerLbOrDRbZ85\n",
       "wJBYdcj1Kq6/4RZeVKe6SfcgQBeuEmv61eI0UqJDmup6bliNAXdI3SRKSlet9EARdC5a8FDDWKIo\n",
       "go2MkWnkEFX0LqNVG73sc6FvOFNtex6c21DipgcB/HT5xUszBvHD7BvO7TuyFDVMDal2N/RV8Q+a\n",
       "+FodUHV3d+DW8jT4EtYoqkrTnC0DOO3eQzMZDmsIp1To7Bty2+9bg7M9156KoD7X226R6JKpgv10\n",
       "idAFAbGmXS1OIyW8I0GsNHOHuJA4ZEnqY8/xCOiSrYeZDfFT82nqFcmpmPI1XZF8YMNm9Ks2bFDG\n",
       "Y+3TGfQwPSSa6YBYBlAN/yalIgdSLc/TmDPsvycYp1fYf5IXkZAEqruG30t08Xbfunh20NWiEhZ/\n",
       "EI82d4e4kDhGbNOn/C2HpcH2xf3y4koz/aIBJhWZJvKNkWlkI1Khy2PZn86HnKE38tOFIdNuSSrE\n",
       "tBtRez7GnzrVliQ8jTijj7kWjNMrnLH5Zl5YIDHU5xr+Lh8C7OZ0odmBV4tK5HlH4WkN7hAX2i1O\n",
       "DvRpQ8thablu+IrUFJoZMHGhgClFpkn5BdMUfZGPLoP5OS4UoBm62O9Z5iEfnihLhZiWQWPKoAek\n",
       "Wnbi30yjzry5RSBOr3B3+iWviEASqM81lGW6pMkzvmPhMMsOvNoyPlvisqSpO0SFCuKR2PqipOWw\n",
       "tJWDOHiIx6URMyy6jOKnFpmG89lJoSkyzTnto0v4JnBtGnaFLns18ioTr9ER3GG221wJCWY160YG\n",
       "Rh6Wth83uYhLI2ZYdBkBiLomFZm232X7FebItPMiLO316H+ZZvEf018ioNAv/XRJtRSWtgissyAC\n",
       "jYgZFl1G8VJd0HxkGhlo6KmpKTKtrXwe0OXikadqvsGopbA06zQUxgRdqBkSXcbwU4pMI/nkpFDi\n",
       "p76pG4fURylJrZ9sNSzNOgdtA6/wuDRmmgPTGABHpuHaDZFphqA2ko9PCs2EOBz/wo4oRV8atRyW\n",
       "th6O1usiLo2avsA0UQMB4Mg0Yhki09RYNq6QfHxSaI5MozGwMV2iEu1z59bD0mZ8fbQixaUR0x+Y\n",
       "RmoQeLyAx5YhMo2UVSPTvHxyUmhs5viXjUUsh9URJpqwNC0urXFgGj50E5Y/Ms1clpwUGiPTMiMx\n",
       "XSKVrNqLRxOWpsalNQ5MI5FpwvJHppnLkpNCY2TaU/EvSo1WbO3XMEcRlqbFpTUOTCMnwtzyR6aF\n",
       "lCUnhcbItHkQ0yVa0b7pjSwsTY9ECwtMIyeEIbFooWUpaQLvLf4l75GLFtjwzoelwfRFpv0cJk2X\n",
       "A/GfvwqXH/7/L2GaItNs+o2dtXpF83SJ//xVA7l4//zVLeLPX/0P6J1YneTvxkEAAAAASUVORK5C\n",
       "YII=\n",
       "\" style=\"display:inline;vertical-align:middle;\" /></a><br>"
      ],
      "text/plain": [
       "tuple_portion_substitution: forall_{i, j, k in Natural} [forall_{a_{1}, a_{2}, ..., a_{i}, b_{1}, b_{2}, ..., b_{j}, c_{1}, c_{2}, ..., c_{k}, d_{1}, d_{2}, ..., d_{j} | (b_{1}, b_{2}, ..., b_{j}) = (d_{1}, d_{2}, ..., d_{j})} ((a_{1}, a_{2}, ..., a_{i},b_{1}, b_{2}, ..., b_{j},c_{1}, c_{2}, ..., c_{k}) =  \\\\ (a_{1}, a_{2}, ..., a_{i},d_{1}, d_{2}, ..., d_{j},c_{1}, c_{2}, ..., c_{k}))]"
      ]
     },
     "execution_count": 39,
     "metadata": {},
     "output_type": "execute_result"
    }
   ],
   "source": [
    "tuple_portion_substitution = Forall((i, j, k), \n",
    "                      Forall((a_1_to_i, b_1_to_j, c_1_to_k, d_1_to_j),\n",
    "                             Equals([a_1_to_i, b_1_to_j, c_1_to_k], \n",
    "                                    [a_1_to_i, d_1_to_j, c_1_to_k]).with_wrap_after_operator(),\n",
    "                             condition=Equals([b_1_to_j], [d_1_to_j])),\n",
    "                      domain = Natural)"
   ]
  },
  {
   "cell_type": "code",
   "execution_count": 40,
   "metadata": {},
   "outputs": [
    {
     "name": "stdout",
     "output_type": "stream",
     "text": [
      "These theorems may now be imported from the theory package: proveit.core_expr_types.tuples\n"
     ]
    }
   ],
   "source": [
    "%end theorems"
   ]
  },
  {
   "cell_type": "code",
   "execution_count": null,
   "metadata": {},
   "outputs": [],
   "source": []
  }
 ],
 "metadata": {
  "kernelspec": {
   "display_name": "Python 3",
   "language": "python",
   "name": "python3"
  },
  "language_info": {
   "codemirror_mode": {
    "name": "ipython",
    "version": 3
   },
   "file_extension": ".py",
   "mimetype": "text/x-python",
   "name": "python",
   "nbconvert_exporter": "python",
   "pygments_lexer": "ipython3",
   "version": "3.7.3"
  }
 },
 "nbformat": 4,
 "nbformat_minor": 1
}
