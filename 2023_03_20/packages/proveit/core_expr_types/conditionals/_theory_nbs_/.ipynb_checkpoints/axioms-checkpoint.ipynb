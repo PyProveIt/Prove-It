{
 "cells": [
  {
   "cell_type": "markdown",
   "metadata": {},
   "source": [
    "Axioms for the theory of <a class=\"ProveItLink\" href=\"theory.ipynb\">proveit.core_expr_types.conditionals</a>\n",
    "========"
   ]
  },
  {
   "cell_type": "code",
   "execution_count": 1,
   "metadata": {},
   "outputs": [],
   "source": [
    "import proveit\n",
    "# Prepare this notebook for defining the axioms of a theory:\n",
    "%axioms_notebook # Keep this at the top following 'import proveit'.\n",
    "from proveit import Conditional, ConditionalSet, ExprRange, IndexedVar\n",
    "from proveit import a, b, c, i, m, n, Q, R\n",
    "from proveit.core_expr_types import a_1_to_m, c_1_to_n\n",
    "from proveit.logic import Implies, Iff, Forall, Equals, TRUE, FALSE, Or\n",
    "from proveit.numbers import one, Natural"
   ]
  },
  {
   "cell_type": "code",
   "execution_count": 2,
   "metadata": {},
   "outputs": [
    {
     "name": "stdout",
     "output_type": "stream",
     "text": [
      "Defining axioms for theory 'proveit.core_expr_types.conditionals'\n",
      "Subsequent end-of-cell assignments will define axioms\n",
      "%end_axioms will finalize the definitions\n"
     ]
    }
   ],
   "source": [
    "%begin axioms"
   ]
  },
  {
   "cell_type": "markdown",
   "metadata": {},
   "source": [
    "***A `Conditional` is defined to evaluate to its `value` when the `condition` is `TRUE`:***"
   ]
  },
  {
   "cell_type": "code",
   "execution_count": 3,
   "metadata": {},
   "outputs": [
    {
     "data": {
      "text/html": [
       "<strong id=\"true_condition_reduction\">true_condition_reduction:</strong> <a class=\"ProveItLink\" href=\"../__pv_it/axioms/2a75b335049147a2d69906caf589aa3b88eaf7740/axiom_expr.ipynb\"><img src=\"data:image/png;base64,iVBORw0KGgoAAAANSUhEUgAAAKAAAAAVBAMAAAAz5vjYAAAAMFBMVEX///+IiIgiIiIQEBB2dnbu\n",
       "7u5ERETMzMzc3NwyMjK6urpmZmaYmJiqqqpUVFQAAAB6qHgnAAAAAXRSTlMAQObYZgAAAAlwSFlz\n",
       "AAAOxAAADsQBlSsOGwAAAftJREFUOMtjYMAEDUActYCBDMCBVZTxAhDPCkAVPEiUBVwCDAwPQIw7\n",
       "yKJXgPg+knkcNgwMnNd/AVmblEBAD4+JMgwMu0D0DCQx1glAwgnZ2t8MDIc4nkI4F/E7kTOAoQ7k\n",
       "hgQkMe4DaAYyAF37DsYmYCDPBpCZDCwXkMSYGdANBILXRBrIYMrAA3QQJ7LQTYoMnMPAYKSkZIIs\n",
       "tAVmIMcTCQEQu9OOoc74HUED+xwbgaQfA8N2BoZUNDsYGHYC8eIGtq9gkXk4wxAp2rksGPKBoXcS\n",
       "aDIDxwNkRbrQlMJqw8CtABbJIyZSgg8wbAJSlxkY2AJYUBKtFdC8l0AR7g8MTA7EG7ifgUEFSNUz\n",
       "MPAKoMQJyECGamAgMCcwxC8g3kAzBlZQ2l8MxBMOAomQgx5IXgaZES/AcJ6BgIGIMGT9yMDzAUhf\n",
       "AmLfqUC+BvsPqKJEaCzHX2B4ydtArAtZ/zLwTbjBwHAMyG4Gxgn3BnYDqJQf1EA2AV5tbrBIGhih\n",
       "Ghg/Ac3ERIZLGzZAEh1fATDAFjDCoroIaiDrQ/c+cRC7zvhpnf1DqOwaKM20Ac3AOJGKh0CDtGAW\n",
       "NrAdhRYwTAVYcgrRBaICLAM31K8JgOdv8g0ElyzgdL7nog9MMAOIhck0sA2bYBgQ918gz8AMrOEA\n",
       "LBI49pFlImMDAwDlqn3m8PcrvQAAAABJRU5ErkJggg==\n",
       "\" style=\"display:inline;vertical-align:middle;\" /></a><br>"
      ],
      "text/plain": [
       "true_condition_reduction: forall_{a} ({a if TRUE. = a)"
      ]
     },
     "execution_count": 3,
     "metadata": {},
     "output_type": "execute_result"
    }
   ],
   "source": [
    "true_condition_reduction = Forall(a, Equals(Conditional(a, TRUE), a))"
   ]
  },
  {
   "cell_type": "markdown",
   "metadata": {},
   "source": [
    "***A condition may be substituted with a logically equivalent condition.  (Since a `Conditional` is not an `Operation`, this must be a distinct axiom from `Operation` substitution axioms).***"
   ]
  },
  {
   "cell_type": "code",
   "execution_count": 4,
   "metadata": {},
   "outputs": [
    {
     "data": {
      "text/html": [
       "<strong id=\"condition_replacement\">condition_replacement:</strong> <a class=\"ProveItLink\" href=\"../__pv_it/axioms/79fdea3378b707c8fc0b81abf7c12c9fa846b9c80/axiom_expr.ipynb\"><img src=\"data:image/png;base64,iVBORw0KGgoAAAANSUhEUgAAASUAAAAyBAMAAADo7dDTAAAAMFBMVEX///+IiIgiIiIQEBB2dnbu\n",
       "7u5ERETMzMzc3NwyMjK6urpmZmaYmJiqqqpUVFQAAAB6qHgnAAAAAXRSTlMAQObYZgAAAAlwSFlz\n",
       "AAAOxAAADsQBlSsOGwAABRJJREFUWMO1mX9oG2UYx5/8uNzlLkkzW6Y4caEoyNRRpNQKbmS2gqCu\n",
       "GdaKCqYTV9jEtijIhmAy4n9KkzmmQ50ERHHo2KHzJ6NNlf3hX6nTP/xDSLa64Zg/VrBO59r5vG96\n",
       "yd3lvfcuzdujJPc2uec+73PP87zP9w2AkCM0KcTMSArEHb9Zh08UV2dGvlUcUixpGfress03cqNH\n",
       "Q6fFMX1nHVbMSLkSwJFMzXGvnNhe4hoKVkUhKf3W8X3mwXEdIokpShl8E+AC39Qdopj8cQ6ThI+2\n",
       "NnvpDXwJ6FxTP4iK8m+Bw0TCrcYRTpDzS1xTYV0QU683phlSMIKXuabUf8Qg+RZZTFPb9tNYO1iV\n",
       "57eSh6f8TcbaFb6xdwWFkz1ZviIT7ocJGhvh6ko8aUt06OKIipiAytiKuHIvvjxSgk9qJd5g8lN3\n",
       "pnv4xtJxIUzzNqQLpBjNANxiZeqgNOWSyyqVEMK01TZ+aRe+9IF0xeYncjfpHhdjESFBLl+1/2cc\n",
       "770AkUtWJqwCx0Drd7EmXRWSdk0zw7yTliBW+MnCJC9F9pYGsq16fXV9Sg+DCXbCaZ2WpdAo+SNH\n",
       "537Yfq7mjH+dzT0NQKfwcztMgVEW01Nde8+QfMTi9Nj8Mk0m+fzgJpDpN253NjcE8DV5P9wOU1oH\n",
       "lzreOPbADW7mykV4mWTvaFvlKe6daTxa8GAujHUzONcOU6Xp6k7H785cm/Tg9gjWsHBbMV5uuk3e\n",
       "cY7Pb3E114ERfld3d29bTBub0luZbsPxHRhIXwDsaotpSKTYwDTGiJsChdcEa65GZsQykSUolAqa\n",
       "lI9v2wb6KNSJE9NUjIRWPuha96Xpwg/+e/AX4/xPEMuEJTgaN4W4etho+K8DeNvEdDQLOVPc+BKN\n",
       "LnUNmKAwa9VXn9OziwC7G0xRdKiGwfck6qGVbjZU8PTsWpaftH14+BC+DM8+QBKGNMtl+tEWUO9u\n",
       "MOUx38k6/yuiEXcF5uA9owQM8ZbV1uUniXHIYYhLt8lkdY+R8QBN54XZk9BgIqos2ANa39jYboKa\n",
       "v2lDvTfbOOm1lTXJz/XXxseeYzORjIuhTU2XyWMMJI0uPZKQnjEx9dLGWv2dZuJnAN/ASNK5ZnqQ\n",
       "n4CCIc/M9w4jTgNFH/lCACdCHUYCpmJiIh12JhujhSy6h0RbtK7TKkWvTA35CfICmma2lGljsuls\n",
       "6BTyh3Q15acPBQNmwMT0LLxPZPOLY3i8Q6MtWO+aMiWvTA2pB77LThKmvqQHspmPU8NYB05dj7cc\n",
       "Rr+m4KyarTPlXtuxD28tYU748F1ZhFjiQ7uzW2EKo5szo9wlXT35/UPwwhy8euaPVBZPfBP3w751\n",
       "DT8p0zefU/D9R4AREqF/peQDxnz8BTemJvlJVzVls5flkxB+JMVrJ0Zna1DrO4hZgEebNp9sva/W\n",
       "TY8qR35iuO/susjODWsJVsmF+bOp2omNSVl22kOLLHJ2gdjykxQ16Ty71vZZjdO5bFo5sTHB607p\n",
       "JS85IznIT4CD+PiSzEsWPOx3ta453eUnwDLmenXtNCd8yokntvwEFZVlhZmvMTHa/HiRm3cM+Qka\n",
       "xuBQXGaVcTF7GH6dXwsY8jOHTOX4MYb8LIvpEHmJx5afwcHBEmgHSgz5uXmN9g49Sb213Tvk+btV\n",
       "plBVEFM46fhRZ6v5IkpwyM6bSvkWld6dwvr69c4ltzX5Ke63DftvQKs/jgoUQEcEBcEhgUyCflN8\n",
       "nEb4/yV1XlvJ338EAAAAAElFTkSuQmCC\n",
       "\" style=\"display:inline;vertical-align:middle;\" /></a><br>"
      ],
      "text/plain": [
       "condition_replacement: forall_{a, Q, R | Q <=> R} ({a if Q. \\\\  = {a if R.)"
      ]
     },
     "execution_count": 4,
     "metadata": {},
     "output_type": "execute_result"
    }
   ],
   "source": [
    "condition_replacement = \\\n",
    "    Forall((a, Q, R), Equals(Conditional(a, Q),\n",
    "                             Conditional(a, R)).with_wrap_before_operator(),\n",
    "          conditions=[Iff(Q, R)])"
   ]
  },
  {
   "cell_type": "markdown",
   "metadata": {},
   "source": [
    "***The condition is either true or not true but otherwise it doesn't matter if it is a Boolean.  Therefore, a condition of $Q$ is the same as a condition of $Q=\\top$***"
   ]
  },
  {
   "cell_type": "code",
   "execution_count": 5,
   "metadata": {},
   "outputs": [
    {
     "data": {
      "text/html": [
       "<strong id=\"condition__as__condition_eq_true\">condition__as__condition_eq_true:</strong> <a class=\"ProveItLink\" href=\"../__pv_it/axioms/e9921f29051eac13e9c4c9d0ff19cd021fa3b5cc0/axiom_expr.ipynb\"><img src=\"data:image/png;base64,iVBORw0KGgoAAAANSUhEUgAAAQMAAAAyBAMAAACqrqNEAAAAMFBMVEX///+IiIgiIiIQEBB2dnbu\n",
       "7u5ERETMzMzc3NwyMjK6urpmZmaYmJiqqqpUVFQAAAB6qHgnAAAAAXRSTlMAQObYZgAAAAlwSFlz\n",
       "AAAOxAAADsQBlSsOGwAAA9BJREFUWMO9mUtoE0EYx79kk928mgYEK3hoiQhitYotUrDUWAUVlQYs\n",
       "Qr0kiPVYCh6FNOBJlLYIhSI+FjyJhQYLiiK2VYp4ykYPIght1R6KJVWktL7QmY157GbnseOmQzPZ\n",
       "yU6zv/3me8x/A0Bv8gDUrp2J88xaNg7Pqk4iKNs5JoVjhqHrhol75v+QXnPMeWUczlUQ+DoA/G9/\n",
       "FI5PHFkWQfDMM6f42o3jrorjwE+A575F/fj4AIRHRBh2MWe4I2QEQBbJF456k6g7IILwhumQL4CC\n",
       "gNrnwtt13K2IIPgzrBltXAjBNdx3i4RvYJ0xwbVqgeD7tEVfniudkGrVV2IYrwNMCQXHbZYrmB32\n",
       "MXrdTcurxf8u+MKUhvs7aRGEOYYzDJpsi+PQ2wHBJn3UX0TYg7/G+00oMyQi9PMfTQRLyNbBL+CO\n",
       "GRH0i4d+CSHITfTznabxpT4AKQkJ1YgQxd1pobwAIbo/KlU31q9bLgtGhBUIaDAp5ArgpRvPVUWI\n",
       "IiKhwVJd2oAwqL285mkXLBOd9HXaa4EgR+qag/rggv6HUdsjnnzBs73f7SKcA9Dj7r3lWSlpgeBd\n",
       "ODrUgI9TrYupgwv6x6nzXSoUoqfZLkI3wBP8PmYdMBlgZMeywVSXmC9AVoUUjrakdVqI8CPMvxP0\n",
       "BXQRP1pEj2aduao+3kT6ouCfNUEEZOrQNKpXBBtVFZ5hjRS/2zRBhHrkjPui0Tbrs41Vy+t7Jnol\n",
       "MgJygkcAfQRnjUPtm4Sy6hD4Kgqi69DW0r1PbQSCGxUJOe4pV/rAWMV+cQU2AgHlv7qI37irfrjh\n",
       "CDAyg7qemWPY3XBoZfkWwiFVgxcCTo2itLtDwTVJ34kfLrkjLeE5pWqwO8Jl5I3BjIINIsUqt3ON\n",
       "A5w7LpaqeRDFrcUaAcdCGF1JUl34UEJ5SlknpyZxVZMj5oViIUqk5Vl0W3ImEHdPl25U5UTgUDVE\n",
       "hERRtUrpwfF4DwrI2Yab5QoyzYvAVjU5Spn6Z8qnuZNwUYOrC/l4uspG/AhEVUNEMNVCPLrvLZVo\n",
       "9wgDwYaqISIYC1EAO/nwh5Krh00bt6Du2NF5PlVjDAMignHRQrrQ3Fker1Jkv01VQ0TYT9/E/yYT\n",
       "2FU1JATfV+ENtl1VkxOTMjBJ8QWmquHzhTBD0E2o1Iiwo2pICPUMWevOUBHoqsYaIWFapCxjW0QL\n",
       "CbaqMbRxwl212H3Q47iqYT7ooZnJGVUjMx88+mPEU86omgnmDlkhS3ZnVM1u9pTN5PzohKrheABs\n",
       "fgzudLvHM+lWLQmUUS6XreVPIr26M/4F5TwqOLeDg1UAAAAASUVORK5CYII=\n",
       "\" style=\"display:inline;vertical-align:middle;\" /></a><br>"
      ],
      "text/plain": [
       "condition__as__condition_eq_true: forall_{a, Q} ({a if Q. \\\\  = {a if Q = TRUE.)"
      ]
     },
     "execution_count": 5,
     "metadata": {},
     "output_type": "execute_result"
    }
   ],
   "source": [
    "condition__as__condition_eq_true = \\\n",
    "    Forall((a, Q), Equals(Conditional(a, Q), \n",
    "                          Conditional(a, Equals(Q, TRUE))).with_wrap_before_operator())"
   ]
  },
  {
   "cell_type": "markdown",
   "metadata": {},
   "source": [
    "***If two values are equal when the condition is satisfied, one may replace the other within the `Conditional`.***"
   ]
  },
  {
   "cell_type": "code",
   "execution_count": 6,
   "metadata": {},
   "outputs": [
    {
     "data": {
      "text/html": [
       "<strong id=\"conditional_substitution\">conditional_substitution:</strong> <a class=\"ProveItLink\" href=\"../__pv_it/axioms/b69a9a27c8969d6c571a8f724792481b5721c9d20/axiom_expr.ipynb\"><img src=\"data:image/png;base64,iVBORw0KGgoAAAANSUhEUgAAATsAAAAyBAMAAADRimGIAAAAMFBMVEX///+IiIgiIiIQEBB2dnbu\n",
       "7u5ERETMzMzc3NwyMjK6urpmZmaYmJiqqqpUVFQAAAB6qHgnAAAAAXRSTlMAQObYZgAAAAlwSFlz\n",
       "AAAOxAAADsQBlSsOGwAABbNJREFUWMO9mW9MG2UYwJ/Su95dr4XiiBqXMIIjMXMqbmSibsj+mGjA\n",
       "cXM4Mz8IGscHJdi4xGxZQrvgl8UFyBbmok77QU2WaajO6PwTKBo0MzGt84OaGCkixkXCIIpDXDff\n",
       "971r70/v3iv4nm/Ite9b7rlfn3/v+zwFYD4CURZS9ijgzZgxTx9LrEiKUOcNXXmzaep72aKG0E2l\n",
       "ybngDd5583TCSNeXAjgVU9X5wvs7UzQ5XNYLOrHRPN9mnAwnIVTTT4C5lwAuUiWt9wKvLELB45Ht\n",
       "VaXwJ9DFn6RJ+taL4PgcKHjYNVUkqQa/n6NJkpIe4DWUhjeKsw93mSYpuMiezrdgh9e/9TDxy+NZ\n",
       "YaoJW1f8C8/lJaqs1zxwPWu8fYT10AjPEkeSsprvyTkypetngr3zxSxbhrgZXXan4D11Q8njlREl\n",
       "d9RTZXVEmONNWegu4iQ3CrDWjFdBwNIp+u5YwxyvyTI/tA9dNgG/ZNEefjJ/N11WiHlsCFesKz0I\n",
       "Yx5Cc2Y8lFLeAbmRLoy/wjxwi74wilw+B+WD35vwhFzoQGp7fJmm+O+HqXobPHgCLiRJugt04j88\n",
       "Vh2GndOqjv52lPYkAPkyP7LC83fa4T1edWASRzRKeo9OXSXxKPy6Yx0I5D9udZTWBvAxfj3JCq8j\n",
       "CS67hj6ehhtdpKUT0IvDv5NZ2ouUjtcTHnSXJqHUzGVY4U0USVrl+L+j16Lutgih1CgxC4100RMH\n",
       "HL/6c1vcpFWgwNhQW9vADG9NUa4QR1ZumgrkdB8C7GOG18Z0F/cj5+wH0fFUL9uuhi0q8hn8iSke\n",
       "3voCClco9YQT2gO3riYIAW29qvKc4a6vjCIOIgPo2eQS29MZSvLhiCEyflHPqSe1ikbDOx2HPl1j\n",
       "fNZaN77hIR4MjukLdxVKzA90vDDSsUxSYxifgGRTXe1HsSoppRl3uRU5Odc8NIQu7WMPYOPOVyP5\n",
       "Ii4B0jreACLQjhy/4ZuQAlur8tqMVU4b8mYbbZe3VuRjiRJCA/qQsfhbBHzW8NX5kB+V49XtOh4u\n",
       "R7l6rguN44j0CMDD8VhcxvNuuE5ZDeGC862JuhzO92woHKKl79RDoNiyY8YBD7tRORIpJwVs50Aq\n",
       "hND8zfk6JFAoviTN4VoS8BbAJ7A/L6IbzkOw0zktW/e3V1Tv/gfgM1E9sjwYVRVik/fyX9uf8GWJ\n",
       "I8noxY88jChTw8PlQkyzWv/98BPAPVCte+sICAW8iYQbXk59jxQ5q77bi2++135Ty7drOuKBcXRH\n",
       "BfiRGwWSQaUspeM9A2/CeiDG7UI3PA/8InQ/ohl3DrYYjBtLueAF9ULzd/XlmHPEFw4Y/njsbaUd\n",
       "ypQvoB0llfEbXgUdr+/oroPaY1vV0GgUlsa1O+tCneCLFJnDCY+rseDJpBRvi1IPGMFPv2mF/Rnh\n",
       "3Qi6wouTs4ohLYsj1dOimrbx0wNxOPN1VV5NhyrJSj4VDLrgSZPV+JlHmqB3I7HuAHGM0UQJO3im\n",
       "cD3DR4y7RjC5K9/CQZPmok6mnqQth3m5loxsoSLvGOIXtQ6A6nuj5KGv2yYks8mDSuE68LNixBOv\n",
       "GnuV56xi9IXQAqW1tllNLndqBZyKdwd+EP+H7R2bzHWlfpXWgREPjhmVz1n7nfqHQs6ZjlTkSIN/\n",
       "mvAIWMi2ZBTn3XqJ9ssWPL602o9U5GshmDPh1eLL7sH/pwyHsxTf6yFpT14w4V2CYAbO2rpeOfsm\n",
       "xnCCHrmXcT/IiBfLfHmUs28XVLBvAZUl6XgzKMnj0UX+8DbfGOFmFduCPM2+gUYLXVKRtxDl9W6c\n",
       "7r1vkqz2PrUtAVG7gvx29u1HaHDZc+06Hwmfne950bylWcQRL/uD/bIHeFKz40dOFbl8zbYFPuzF\n",
       "DweCc9POqSIXbrb94DbwYlzvnOSXVZF786OV9Se/FY/T4M04xcZJhjzCY/Nz814SGP8CKgVwLvGv\n",
       "gmkAAAAASUVORK5CYII=\n",
       "\" style=\"display:inline;vertical-align:middle;\" /></a><br>"
      ],
      "text/plain": [
       "conditional_substitution: forall_{a, b, Q | Q => (a = b)} ({a if Q. \\\\  = {b if Q.)"
      ]
     },
     "execution_count": 6,
     "metadata": {},
     "output_type": "execute_result"
    }
   ],
   "source": [
    "conditional_substitution = \\\n",
    "    Forall((a, b, Q), Equals(Conditional(a, Q),\n",
    "                             Conditional(b, Q)).with_wrap_before_operator(),\n",
    "          conditions=[Implies(Q, Equals(a, b))])"
   ]
  },
  {
   "cell_type": "markdown",
   "metadata": {},
   "source": [
    "***If one and only one `Conditional` in a `ConditionalSet` is True, equate the `ConditionalSet` to the `Conditional`.***"
   ]
  },
  {
   "cell_type": "code",
   "execution_count": 7,
   "metadata": {},
   "outputs": [],
   "source": [
    "# singular_truth_reduction = \\\n",
    "#     Forall((m, n), \n",
    "#            Forall((a, b, c), \n",
    "#                   Equals(ConditionalSet(var_range(a, one, m), b, var_range(c, one, n)), b), \n",
    "#                   conditions=[Equals(Or(var_range(a, one, m)), FALSE), Equals(Or(var_range(c, one, n)), FALSE)]), \n",
    "# domain=Natural)"
   ]
  },
  {
   "cell_type": "code",
   "execution_count": 8,
   "metadata": {},
   "outputs": [
    {
     "data": {
      "text/html": [
       "<strong id=\"true_case_reduction\">true_case_reduction:</strong> <a class=\"ProveItLink\" href=\"../__pv_it/axioms/2628e2dd2c6390c33c7978ab8902daf2f73cbf0e0/axiom_expr.ipynb\"><img src=\"data:image/png;base64,iVBORw0KGgoAAAANSUhEUgAAAe4AAAD7CAMAAACbpYf4AAAAV1BMVEX///+Dg4O+vr56enqjo6Mh\n",
       "ISFRUVGTk5M9PT1GRkbOzs6/v79aWlrf39+IiIgiIiIQEBB2dnbu7u5ERETMzMzc3NwyMjK6urpm\n",
       "ZmaYmJiqqqpUVFQAAAD6/xlUAAAAAXRSTlMAQObYZgAAAAlwSFlzAAAOxAAADsQBlSsOGwAADN9J\n",
       "REFUeNrtne2ioygShp3tmd7emWkEBAXl/q9zRWMiiokSRWLe+pHuw/Eg+lgfIJXKMsjbwuuvvXRh\n",
       "OmkufZFlNf5JmyKt4cmcT1rynsoRuJlupboybeU8zCr82dbkmPvEpiOySHRzCG55dQNW07HykO26\n",
       "LanujUQtjMO70jsNkfo60sAd4qmde1kZw7f2UBnV3f48k43zxzXZaYyVjwJwh0hTul6RBTwxfUcz\n",
       "J7Ab7qwpgHunC6zeVO47EnUcbmlq4N4lKneUuzFlliLurMiBe484zQ2ucqMWFaxhRPr4yZK2Zlw0\n",
       "lE7N+Y64hSHAvYNyu1pjzBKhirY3ovCb+rI52ne3p6bAvbvSLOLu43fVPRxcTyx+EQF3PfPewL3d\n",
       "307U1ZiFqbLq7m1uw3ZBSB4fdzaLKoB78wxquqayiJsW3eG9o6/PwN0YAdzviZ5ayCXcvDPyww0+\n",
       "BXc1XREA7s3xzzT0WsZd9ysytTwLd2YocL9py6ez2UVjXhBLWWXKq93F4/M43MXEmgP3ZlvO1uLm\n",
       "DWFCNkTMcXczbt5+muaOV+VWKO3+2entMZmMFrg3Rz/VWtyu1ubnTBpL4H5H6OyGpYw7m6znA/e7\n",
       "rjv7668/X/6ZZKVh5ITxlqYC7nCp5zsZ1mn3SaLcJT/g3nr72EfhnmyiA+6txrH+KNzCnXkD99ZI\n",
       "TXwUbu7uPQXutyLd5HG3oxPAHSrSs1HbmB8Jjzh3vA9wbwzM8+yztLt0QnPg3iTEsy/tPdxHpRUM\n",
       "0jhTCeDeJMyTQBCE+/i0gvvMsQHucF1p9sF9fFrB/QEtgTtUCs+u0zBjfnxawYA7B+7wwEftGpkf\n",
       "us/8Fm1Q4A6f1rBdQ7XjcWtn6gjcm4Ruw31uWgFwv4+bbMB9dlpBv1IA3G/g1utxj9IKOGONG4EX\n",
       "wJ2+mC24R2kFauAeHXcF3O/grtfjHqUV2A/pvKyIhVs4L3WOwP37399Xxf2/X3/P2n7+FH5bPkor\n",
       "0Pws3L9//Rr99J9/od0HabebVpBl7BRjfrx2A/eN6DitIBPuV1/FSSsA7ni4nbQCWYxpx0orAO54\n",
       "uJ11lVbF5Rm3BbhPwC0LIYTiwH0F3K9fkdCDvqASuNM05qcJcAM3cAM3cAM3cAO3K/+Yv6+L+79B\n",
       "kfl58o+D+w9oN7QbuIEbuIEbuIEbuIH7wrh/ADe0G7iBG7iBG7iBG7iBO0XcWDNfIfyNclTbYGDN\n",
       "PAXtzhWMOYw5cAM3cAM3cAM3cAM3cO+IeynhF7ih3cD9nbhjLbMAdxrajWUWGHPgBu7EcXPNr4pb\n",
       "/ZQe3ClvXuI/f45+khraDe0GbuAGbuAGbsy7gRvz7uviRloBtBu4gRu4gRu4gRu4gTtJ3EgrSEiQ\n",
       "VgDtBm7gBm7gBu7dcR9awhu4E8Edp4Q3cCeCO04Jb+DeGXdwWkGUEt7AnZbvPrimM3ADN3Dvj3ux\n",
       "ePft13FKeAN3HNzPinf3EqWEN3BHwT0q3r0kxTVwI60gc4p3n4obaQVRtHtUvPvi2g3ck+LdSgtC\n",
       "mozoQgD3RXHfi3dzXVk/buNw0gD3NY35o3i35MRmEJhWs5XjyqOU8AbuOJH5qHi3rdEtqI3cRn8d\n",
       "qYQ3cO+O+9XmJdoyJ60SS5NF/9Ye4I6zzDKa/ZibhusiU8B9ddyVNcultMuqhAP31XGfKsAN3MAN\n",
       "3KHydWkFKeNGWgG0G7iBG7iBG7gnwn2PQMq4H4uztd4T9979pom7vZ/bV0Z5QfNDBjjreI5b3d/B\n",
       "l3JP3Hv3myZubYIMZHnUcuqk4zluMaihLHY15nv3mybuxgS9ujrMA0w69vju8tbA6l1x791vkrhb\n",
       "1x2S0FeZg1bPpx17cOuba93pe/zuuHfuN0ncLEy5WX7QCKcd+yLz/n06ZXtH5vv2myJuaWiQmpYN\n",
       "Ic0RRm/asQ+36mLLgu+Ne99+E8TNcxoUhXLTOjr+1oS13/lyk2axYx9u2Qwfq0XmirVOS9PmCe6A\n",
       "fkMer7I4CTfPAx/lumNAye4DnHXsXWaxo2brQg5BmqJoD62bjLV/pebXO0or2NDvG9JE8xaTtAJt\n",
       "AjcjqS6cMfuPe9axN63Abn5cF1ApJYalE2K34rBnxnxDv+8IFSdpdxuohS0gddkl1QGTsVnH/kXU\n",
       "MtO9AfDtge/buuk7uV9eLepKkhe4H/1mnGnCZs7K3+p1d4tHCtMO+H5NjOi5jfQ2+uLaF8fNQjUV\n",
       "xrvrRr01GfP77lnHftys7ifJvj3wQ5u0a3QPLyFaY15XL3AP/bZuTnoW0/2tXtrLR5KcZ2RYS8qr\n",
       "fo+v+8z7Gn268eq4+UQsD5p2WyfA6QFLy7OO/bjlLeTy7YEf2rjzLTG1PaTbT/sM99Bv6wRue60z\n",
       "OQpv7q1VTVT13IlkSyiKdlD65jJUOx4u3JMMja/PcfvjLbgrQwOoNO2Qi+3LqK9LHMw6Xngj1gyX\n",
       "6dsDb9sq26bLopO6x82ZzzM7Sjj0S6ubvRB1/jj/vZXaa3nqn6tpzo3julXzOGx6kqFx1Tm2LrNk\n",
       "NMSc84apEN1+WeJg1vGrF6C+PfDdDVXtz4I52m0V5gXu+3Npk9s1t6d+kHi0yuy5GX0cqVWttapq\n",
       "dh+dvQR6w3A/9Rj3rfHVOYbj2t51zdbiVibpRcMXuCd74Dkb2nJhAT9spO5UwadwXhdLreut9AN3\n",
       "1/OoNbOzu77V93E/srbPYquH9f1XbX+6uP2/tJ2wB2638cU5bsd1Z8jX4q6M4Z+Le7IHXli16doI\n",
       "053jvSmVyPu3mmtxV0rXfRc3En3Pj9Z+gte1CirdD+fIdgS8VShV3w9XhAz/l0prMjIhbuOLcwzH\n",
       "tQ5Ilmtxi7B3JIngnq/TTOdD1ndX6xZRFxwQ9/TM2ujad755W6t3VrPzTE9/VXtOMm5ce47cTjgr\n",
       "vg43v9TmpYoHnEE+XZWj/QtRp+fSGJMvnc9p43aOWFmHIye/Gv3/fpJx49pz2DPUTK/U7mvtVdPZ\n",
       "zrhf9Ky3jUG/Oky/f45vwh0gSCtISJBW8BZuaDdwAzdwAzdwzyJEUgH35XHHqVQA3Ifg3l5HLE6l\n",
       "AuBOxZhHqVQA3Gn57oO/uh64gRu4D8TNCNHz/TGRKhUAd1zc0u4IUr5d8FEqFQB3XNzdNmC7x5/r\n",
       "yfvz4jq4v6xawXIdsfsGYEFIfhJuVCuIpt10tE07v6x2A/dNsQwB7i/S7tsvKuD+Ctx9TN7tkJ7h\n",
       "jlGpALjjRuaM3bbATnBHqlQA3IfgXvGKpM5PGjFwx9Nu4P5K3JKVhhHg/hrtPk2AG7iBG7hD5evS\n",
       "Cn4kPGKkFUC7gRu4gRu4gXtX3Egr+AbcSCv4YNxIK4B2PxekFXyh78Y+c+AG7s/FjbSCL8KNtIKv\n",
       "wj2kFXDGGjcCR1rBJ0hgWoF10So/BTfSCqJp9z2twC6lSKeQBTYeXw73I63Amjvgvrp2j9IKpvXc\n",
       "gPt6uEdpBZnI3VANaQXXi8wfaQVOsQykFXw07tevSGQbm8tT7gpwx9PuO+1CCKE4cH8HbmqsZMD9\n",
       "HbhPFOAGbuAG7lBBWkFCgrQCaDdwAzdwAzdwAzdwA/f34P4B3NBu4AZu4AZu4AZu4AbuFHFjzTwh\n",
       "wZo5tBu4Y+PmpgTuL9LuXAE3jDlwAzdwAzdwn4J7OeEXuKHdwA3cwI15N3Bj3g3cMOan4r6wSOF7\n",
       "BFJ+RZIJcfgDdWHtrqDdMObADdyp4M6AO1CoB23auCvgTgF3rHk3cL8huRd3UGQead4N3G9IaciH\n",
       "GfPaUOAOlcKwD8OtTQ7codIY9WG4iRMjAPcmUab5MNzMFMC9z837BNzKsUfAvdETlntF5tGiDQLc\n",
       "4dMa+mHaXTrrgMC9SaTnqy7Txk2db80H7m1i5teWNm7nDQlwb5R8/gY0adzS9T7AvXXirffFfXBF\n",
       "58qNLYF766qF2gV3rIrOxF0GBO63tMVKUFpBrIrOjfuCHri3CZ+H5oEvQHsaR5cayp1IDbi33z+5\n",
       "o+8+usQvn6wTAPdGYTO4KeOuJ2v8wL3Z6TYbcPvrOcer6Dxx3cC9WahZjXu5nnOsis7TwQL3VlFG\n",
       "rMU91HP2SZSqkGJqioB7uzVnK3Er86RyWBTcZLpPGri3G0i6EjctspNxl9P3d8AdoDLVKtyjes5K\n",
       "C0JUdNxitrMOuLfLxCEas0BoqOfMdWWXTKmMjbuZeRPgDpl6c3fhZWHH+FDPWXJiV15N7IrOfL6x\n",
       "DrhDbiNzdWgpH+Rez9mWba7GfjRKRWcy5wDcQfeRO6G6eVW7l7ZzN6WyyN/QROdWB7hDJGeuNX9h\n",
       "gKW9ybmoxYkPJXCHS+1cYWXoc/WurGkmLO6mF+6bMAB3kLgro8w06Q2x8c36gTvQnGs3WlOpDbDy\n",
       "WpxjcHfSXBm3cO8mSe5q8+kWuLyncoDX0J1Ul1bvyrVgsk5ssji7+z0Unf0f8I8Q4FUutAIAAAAA\n",
       "SUVORK5CYII=\n",
       "\" style=\"display:inline;vertical-align:middle;\" /></a><br>"
      ],
      "text/plain": [
       "true_case_reduction: forall_{m, n in Natural} [forall_{a_{1}, a_{2}, ..., a_{m}, b, c_{1}, c_{2}, ..., c_{n}} ({{a_{1} if FALSE. ; {a_{2} if FALSE. ; ... ; {a_{m} if FALSE.; b;{c_{1} if FALSE. ; {c_{2} if FALSE. ; ... ; {c_{n} if FALSE.. = b)]"
      ]
     },
     "execution_count": 8,
     "metadata": {},
     "output_type": "execute_result"
    }
   ],
   "source": [
    "true_case_reduction = \\\n",
    "    Forall((m, n), \n",
    "           Forall((a_1_to_m, b, c_1_to_n), \n",
    "                  Equals(ConditionalSet(ExprRange(i, Conditional(IndexedVar(a, i), FALSE), one, m), b, \n",
    "                                        ExprRange(i, Conditional(IndexedVar(c, i), FALSE), one, n)), b)), \n",
    "                  domain=Natural)"
   ]
  },
  {
   "cell_type": "code",
   "execution_count": 9,
   "metadata": {},
   "outputs": [
    {
     "name": "stdout",
     "output_type": "stream",
     "text": [
      "Adding axiom condition_replacement to proveit.core_expr_types.conditionals theory\n",
      "Modifying axiom true_case_reduction in proveit.core_expr_types.conditionals theory\n",
      "Removing axiom condition_substitution from proveit.core_expr_types.conditionals theory\n",
      "Removing axiom true_case_reduction from proveit.core_expr_types.conditionals theory\n",
      "condition_replacement expression notebook is being updated\n",
      "true_case_reduction expression notebook is being updated\n",
      "These axioms may now be imported from the theory package: proveit.core_expr_types.conditionals\n"
     ]
    }
   ],
   "source": [
    "%end axioms"
   ]
  }
 ],
 "metadata": {
  "kernelspec": {
   "display_name": "Python 3",
   "language": "python",
   "name": "python3"
  },
  "language_info": {
   "codemirror_mode": {
    "name": "ipython",
    "version": 3
   },
   "file_extension": ".py",
   "mimetype": "text/x-python",
   "name": "python",
   "nbconvert_exporter": "python",
   "pygments_lexer": "ipython3",
   "version": "3.7.3"
  }
 },
 "nbformat": 4,
 "nbformat_minor": 1
}
