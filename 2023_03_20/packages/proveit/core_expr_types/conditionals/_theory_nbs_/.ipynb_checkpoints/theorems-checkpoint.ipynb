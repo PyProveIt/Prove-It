{
 "cells": [
  {
   "cell_type": "markdown",
   "metadata": {},
   "source": [
    "Theorems (or conjectures) for the theory of <a class=\"ProveItLink\" href=\"theory.ipynb\">proveit.core_expr_types.conditionals</a>\n",
    "========"
   ]
  },
  {
   "cell_type": "code",
   "execution_count": 1,
   "metadata": {},
   "outputs": [],
   "source": [
    "import proveit\n",
    "# Prepare this notebook for defining the theorems of a theory:\n",
    "%theorems_notebook # Keep this at the top following 'import proveit'.\n",
    "from proveit import Conditional\n",
    "from proveit import a, b, f, g, m, n, A, Q, R\n",
    "from proveit.core_expr_types import (x_1_to_n, y_1_to_n, f__x_1_to_n, f__y_1_to_n, \n",
    "                                     g__x_1_to_n, g__y_1_to_n, Q__x_1_to_n, Q__y_1_to_n,\n",
    "                                     Q_1_to_m, R_1_to_n)\n",
    "from proveit.logic import TRUE, FALSE, And, Implies, Forall, Equals, Not, NotEquals\n",
    "from proveit.numbers import Natural, NaturalPos"
   ]
  },
  {
   "cell_type": "code",
   "execution_count": 2,
   "metadata": {},
   "outputs": [
    {
     "name": "stdout",
     "output_type": "stream",
     "text": [
      "Defining theorems for theory 'proveit.core_expr_types.conditionals'\n",
      "Subsequent end-of-cell assignments will define theorems\n",
      "'%end theorems' will finalize the definitions\n"
     ]
    }
   ],
   "source": [
    "%begin theorems"
   ]
  },
  {
   "cell_type": "code",
   "execution_count": 3,
   "metadata": {},
   "outputs": [
    {
     "data": {
      "text/html": [
       "<strong id=\"satisfied_condition_reduction\"><a class=\"ProveItLink\" href=\"proofs/satisfied_condition_reduction/thm_proof.ipynb\">satisfied_condition_reduction</a> (conjecture without proof):<br></strong> <a class=\"ProveItLink\" href=\"../__pv_it/theorems/e5832acd55dd3eda2d731c35c4aa2bcaf728baa00/theorem_expr.ipynb\"><img src=\"data:image/png;base64,iVBORw0KGgoAAAANSUhEUgAAANIAAAAXBAMAAACMkgx2AAAAMFBMVEX///+IiIgiIiIQEBB2dnbu\n",
       "7u5ERETMzMzc3NwyMjK6urpmZmaYmJiqqqpUVFQAAAB6qHgnAAAAAXRSTlMAQObYZgAAAAlwSFlz\n",
       "AAAOxAAADsQBlSsOGwAAAxFJREFUSMe1lltoE0EUhk8uu9nmIisWKnihREWposWqBCyaVkHF2xb7\n",
       "og8mgoogaMEXRUi3FASxNKUgFCkaKD6IPixVvFFsKlSRPhjrgwqCidiHorQVkYr3c2Zns5t0u6wF\n",
       "h8zs7M7M+ebM+WcmAO6TRMWhDMwhSf/WfQlmzxWl9OOQK3JQBshT5a2b3pE4Fu8sIKkeoOLVd72+\n",
       "e/snp8GLAR7Ss8cN6SAVjdaJ/gB4LI2x+q4WmNflMLhCgRRNKOmGNFBOAvRvgs+CLGx2GBzWCAb+\n",
       "nBtS7QwSpo/6o5uKSafRGyGcRddchalrdlJomsr9LQ7DewHWR6Mb3JBCcYMkfVgoU/3iFkjVseVL\n",
       "s+UftJdhZ0MblvsA7gEcs7E7M6ZZKh9g7lPFr+zTVSNOg2z5r6nFzv1RSmuZbmJwGiP0DJEg5U17\n",
       "noZFrL/I3yvn3+c1b44LW6iHUDX7dMogrSPtC19sXTqQhX58vESbit/0OtgDUsxCuqFCO5+pD3tJ\n",
       "41iEpsAbLyUxRvinLWkQYDk+WjHSskUQo5jvmqQIzj2UNElwHhfal4REppQUZZO330+bQKDN3Ye5\n",
       "awiL5qGdtDikoecmKY1qCk9ZVo+MJ2S9i4U0CcEc3DbDZImT8Fm3QD7svYzvqwLfsMq2+TaTNI7Z\n",
       "X6sPFmWuvUQOxiNqCak197TDH7N1SfiFVl8DPMF6OwoipAXIoC+uK8ogkfwruF78eU4S5chqXZrH\n",
       "2Y90FJP9E/qJmChfwyMwqmkAd8iRFgqChwz5UMnMOU6qp/nyRQlUc5JQ2NFZRfVU3Vhqa4E1po42\n",
       "ZoBtXK9WRjpcebaALTX8NaGKwzgnUQsq3qxJOgnXYY0xZKXdGVFMYsajOl1Q1bziU1tvKc2o8OGq\n",
       "XjBJ7R1N57JG5xFnUv6N4wljmAkOvNgDZ3JwqTChWHau9GjpWPG6FKlhwaym/kw7kS6UvpKObwqy\n",
       "9YwIak1FFdHGSs927AeWOV4IJ0qvYFJP+r1iJUm/VxTb25iXrm6Y8lQWwzA7SGvASoLuOf1D+X9/\n",
       "ZlykvxXNuVxZ6Q9uAAAAAElFTkSuQmCC\n",
       "\" style=\"display:inline;vertical-align:middle;\" /></a><br>"
      ],
      "text/plain": [
       "satisfied_condition_reduction: forall_{a, Q | Q} ({a if Q. = a)"
      ]
     },
     "execution_count": 3,
     "metadata": {},
     "output_type": "execute_result"
    }
   ],
   "source": [
    "satisfied_condition_reduction = Forall((a, Q), Equals(Conditional(a, Q), a),\n",
    "                                      condition=Q)"
   ]
  },
  {
   "cell_type": "code",
   "execution_count": 4,
   "metadata": {},
   "outputs": [
    {
     "data": {
      "text/html": [
       "<strong id=\"dissatisfied_condition_reduction\"><a class=\"ProveItLink\" href=\"proofs/dissatisfied_condition_reduction/thm_proof.ipynb\">dissatisfied_condition_reduction</a> (conjecture without proof):<br></strong> <a class=\"ProveItLink\" href=\"../__pv_it/theorems/2f84381d903a1ce1b774396a756af73bc7b1a5ad0/theorem_expr.ipynb\"><img src=\"data:image/png;base64,iVBORw0KGgoAAAANSUhEUgAAAR4AAAAXBAMAAAAvnz2ZAAAAMFBMVEX///+IiIgiIiIQEBB2dnbu\n",
       "7u5ERETMzMzc3NwyMjK6urpmZmaYmJiqqqpUVFQAAAB6qHgnAAAAAXRSTlMAQObYZgAAAAlwSFlz\n",
       "AAAOxAAADsQBlSsOGwAAA2JJREFUSMfFlk1oE1EQxydNNtkk2xio4DeEICgRpFiVClpbK+JBS8CC\n",
       "6MHWg0E81KKXgpCmKIIU2oCopVQpiBetuJRSUYpNhQrioR8e9CCYWioUMdSDX5WoM293sx/Z127o\n",
       "oUPeZvf/3rz97XszswtQqonYhIclu8HpfkdTl2xbsG14YNakjcu6uXrjZmGsmC8QBsjSyQfnOOW1\n",
       "2L4bhKsZgLvtyuTXhhoyHL+PBhxxP4D/3aJyMWAYtBngOf33OOc5hc0TMQhPZJAiXexunjsA8xy/\n",
       "Q8Z1+APwUpxTLqYMHf44JIm32TnPiJVHAAhllbPbeHDLy/MA0ue0cyOPJBMSeCad81RaedBCCoOf\n",
       "5NCCAx60L3Y8sAck3HB/CeGT5vOMtlLfz5Xw9AHsikZ3O+cJ1mo8XXUdLDZvZn2zNbRh4g82YHEJ\n",
       "HtXnRg0kq3J2PA0ATwHO2dyXw+On/AniIgWq4SILYn9WjZ9gnl3+0ueIMlOC6xkYfO5x4gdeIzOI\n",
       "WUOZqNuUon+vqXaoIlrZpJriJzIwyBSvxlPGqkBTpX2pwxTXfVp4PG9xvrhHr0yBHhCrrTwFkdIH\n",
       "x3b1UrAAbDXzrGEkE7YFSJzvN/pwedoxQsOGcJ7GNmzlKYgqj28YF30vCIuW9aGoEvbZ7/MViomC\n",
       "D5fnPrb0GB4ax47SY1ByTFh4dFHbL0QQvoG0YObBTH8MwWqwjx9E0H24PPTox2/h0O0+isMQZXO9\n",
       "hUcXSQ8r+SXkUX9v4vHlpbZMfYpfn3UfLs8rik6cLSj7aPfdtUrwazxHEolERBcJJavm+1mYllnZ\n",
       "8TbTj6yiAxrUl0BT2i7fCz4J9jPzCL/xMETP30ph4aIbuTEY2UIZ1ieri7QIEZXnzNq2Gap/WHxO\n",
       "zv4Ns77Ph2PgU7ZVtuPRfJJVc8mDM6QORqNV0ehONmIHtpg6uinlHccg9cqBeFnGwqOLZNts6rNu\n",
       "F2A9OKvP9lVBm9idah+IN2Jaj6/rAzOPrItkb5bkaSlPr4QnqD12YGTqGFyehM6ZXLyoHhZE1oFn\n",
       "rkrehKP/Wjk9FU54rpsvKZcfCeGi+qyJLOwwdsU8b8JLB3g93U6+Ic6bPxfp3dL9KV7Mo4rM6I3Y\n",
       "+bX0z+4XywO5zMVCYu/DGBTz+GOwyiau0n3/A1sX8ORR8F/yAAAAAElFTkSuQmCC\n",
       "\" style=\"display:inline;vertical-align:middle;\" /></a><br>"
      ],
      "text/plain": [
       "dissatisfied_condition_reduction: forall_{a, Q | [not](Q)} ({a if Q. = {a if FALSE.)"
      ]
     },
     "execution_count": 4,
     "metadata": {},
     "output_type": "execute_result"
    }
   ],
   "source": [
    "dissatisfied_condition_reduction = Forall((a, Q), Equals(Conditional(a, Q), Conditional(a, FALSE)),\n",
    "                                          condition=Not(Q))"
   ]
  },
  {
   "cell_type": "code",
   "execution_count": 5,
   "metadata": {},
   "outputs": [
    {
     "data": {
      "text/html": [
       "<strong id=\"condition_substitution\"><a class=\"ProveItLink\" href=\"proofs/condition_substitution/thm_proof.ipynb\">condition_substitution</a> (conjecture without proof):<br></strong> <a class=\"ProveItLink\" href=\"../__pv_it/theorems/76764afc98c2f884cc9e31536815aecde55b628b0/theorem_expr.ipynb\"><img src=\"data:image/png;base64,iVBORw0KGgoAAAANSUhEUgAAASEAAAAyBAMAAADhBnCpAAAAMFBMVEX///+IiIgiIiIQEBB2dnbu\n",
       "7u5ERETMzMzc3NwyMjK6urpmZmaYmJiqqqpUVFQAAAB6qHgnAAAAAXRSTlMAQObYZgAAAAlwSFlz\n",
       "AAAOxAAADsQBlSsOGwAABO1JREFUWMO1WV2IG1UUPmkyP5mZZFNd6k9F46KgVZcgpVZwy5ZdQVDb\n",
       "KZaKL2brT8W/brEv7YtJiW+V3dRaLf4RkIpVS0MpVaS0WaHPWeuLD8KmXVuQRe2C689us/Xcm8xk\n",
       "ZnLvzCS5e1my92RmTr577znnft8dABHtFSFedpggqiUrLlP6qjs3yr3CEP3qNm875raN20P6uSgK\n",
       "kFF0mYkFh1HA6fs0V6L9d05vqfg6itUEISrk3X7TDuNkGYz0BA2Q2IcAv/l7elAQoruBj0jCKGuM\n",
       "XPoAP6JlX08/iYltI+ODiMR9A0WcfJ285usqXhaCKDocCtH5PeTaP76utH+FILrLZCCa2HyA9NXD\n",
       "NWV2E1k29W9i64v+vj4TgmjQY+uYetpGGKdA47VmHOl1agZMwoyIQFK8C0ES/pkKnKKGbCFaRWtC\n",
       "NuPvLJsSUbA9PzLxEQkagHvciProbVX/ggRyWkRge8qacgZnfgNIi545Ir8lPRqUtyJCO+cdNoKQ\n",
       "5sG45kaEeX8C9I0BzqTrIlItD225JtUhWfzZhUipG/sqI/kgb5sEIHoR2hHBTrhYpmVIHiN/pN18\n",
       "ALZcaUzEf3xvLwDQAfzSA6INLETP9++7RCoiFqNnZ5dpAilXR9eBQu94gO9tK8D35P/R7gFJSyxE\n",
       "7PYa3BrkrlqCt0k9HeuhHM2HR7Q7UQzMkxTEMVdj090jStS930S4VfD8jT1B7rLIXjB5473s/G17\n",
       "p1rn3fvWUKC7PozrhwcG1veAKNJe0w7+3r27PgygbwFe7gFRbAFEtihG2gSofvRWD3Chi0VENhvZ\n",
       "jJUci7B5La2r2vjpc5SJyc0L/au/s2/6YulJW34EsMKOEWFaJFKOwNaOgtrYe24C+NiB6HjeQfAj\n",
       "6Rb/XAFEUJxyK6YztDcH8GoLUQInUx9z8FS5GGrVOhaTlCI8fQQ/tk89QRKXpHKVXhoC7ZEWokks\n",
       "JIY9G9Fp+NyqLDFf/tCxmCSRDQUMbOk+hXhOEnuEFpX5qbPQQkR0Viyj78L2BuK7Y61NQSJ+XJ4n\n",
       "Jtfc2L3rTT7bSuJw9bKSsWQFZd9GWnrJgWh9gzI32w+wY5hfIUOISUAZMMnM8D4rPqOlCLkhisOg\n",
       "k0VCZcaB6DGy5diRPQcJewUTi2ERtcQk3Qxl5nJnraFm8/IFRC+XNXNVpRkqIw5Er8MxlMDWqg3h\n",
       "Cto77fWwiFrSjS41W5bkLOofzee+Mbdj5l+45RMMc5xTEy5reRtR4d1t++3QURcgmf7Sspa6QBTH\n",
       "Kc4xCceMtelrZ398CvZOw8FLf5h57ETGH4f9q1tzpJ6784pqPbXmL1M5ZMuY+4MQtYlJunupg2E4\n",
       "MsH3tZRqdCweb2Eub2P/6qzHPjVA2qCPmMQg39k/xyYmf7pVN3lw8rLZ6HgQqcucE7Cqjwxli0nk\n",
       "rnnpqhmCIxt0JOuaHQ8ieK/EYX18uscRkwCHceGGWU+o88FlXe1UQQaLSYBlzO7aiilIPcOPI7aY\n",
       "BA0rxgzzqCgpQmVri765xhCTdHfemlJYJVvESYSf+uKIyQIiqqZOMMRkVcixn48XtpiMjY5WQD9U\n",
       "YQxncEVO/UJJtxU99TMWhCGSa2KY6Pt86ZTpzNNJQW9G9nLPYPhikt0eEsTWI/xjg87EpLC3EN43\n",
       "NV2348IkTXxaiBvliDiVJeaN33M0rv8HftlVw6vZiyMAAAAASUVORK5CYII=\n",
       "\" style=\"display:inline;vertical-align:middle;\" /></a><br>"
      ],
      "text/plain": [
       "condition_substitution: forall_{a, Q, R | Q = R} ({a if Q. \\\\  = {a if R.)"
      ]
     },
     "execution_count": 5,
     "metadata": {},
     "output_type": "execute_result"
    }
   ],
   "source": [
    "condition_substitution = \\\n",
    "    Forall((a, Q, R), Equals(Conditional(a, Q),\n",
    "                             Conditional(a, R)).with_wrap_before_operator(),\n",
    "          conditions=[Equals(Q, R)])"
   ]
  },
  {
   "cell_type": "code",
   "execution_count": 6,
   "metadata": {},
   "outputs": [
    {
     "data": {
      "text/html": [
       "<strong id=\"redundant_condition_reduction\"><a class=\"ProveItLink\" href=\"proofs/redundant_condition_reduction/thm_proof.ipynb\">redundant_condition_reduction</a> (conjecture without proof):<br></strong> <a class=\"ProveItLink\" href=\"../__pv_it/theorems/c3a2cfe0cd71818685c0ee6440c21fbb64c6841d0/theorem_expr.ipynb\"><img src=\"data:image/png;base64,iVBORw0KGgoAAAANSUhEUgAAATMAAAAWBAMAAABeYGZcAAAAMFBMVEX///+IiIgiIiIQEBB2dnbu\n",
       "7u5ERETMzMzc3NwyMjK6urpmZmaYmJiqqqpUVFQAAAB6qHgnAAAAAXRSTlMAQObYZgAAAAlwSFlz\n",
       "AAAOxAAADsQBlSsOGwAAA+VJREFUSMfNV0toE1EUvU0yn2QmMVChVTdSXUhFLCoStdY2FVTUGlAU\n",
       "XZgKKuKihropCGlq3UglLYofxE9E3PjBoFJRxKZCceGisQhaEEzVCkVtK+KvWuu9bzKTmWQmTaEL\n",
       "L5mXO+/MO++8N/felwDksQheu2LYcNdhOo1x5rdIfrgoidf5AHqzrhkRebbloDyQxss4ddadK/UK\n",
       "XilyXptSvMDrDbG4v+l6WxMAF5sVsmP36hKFQXp7o1MmVgI4X44p/sa1nzT5OPghOefMGLgObPzk\n",
       "Oebqum/HQZ4bZeyOswBDhUF68+t812+AJ+Ig8zeEwNOhAqcBwiS33oxBSphK4wA8KcU7g409XhBk\n",
       "JQ1wIcOKt5NUrFL7n+FuIuZImjHYwVQamkeZ00ndntFCIXNpaB+Vr5PUjGizB0DGvXGaMvRPJq0r\n",
       "RNiPQqFJpEns6S2hdKcTdS0pK1tmynDPKC1a08Ji9VRKeFdFr038zhjHMiFtDeVIE9+Xesk/XgXh\n",
       "peyNtrOo6lKT1YE89wH2mTJcoOYBmwOD0+WDQyzAnal0QEnj7PZnZoQ1JJUxUwKROK9GeCXtL6mx\n",
       "1sWi6rJa0GScMwpiSldzauao4KJ0bitFYWsC7rBuXp3fxriDFZnBeSAw1guuEiQlShpUaYtp4dxX\n",
       "9Sk3DuYDjkzFc50D0Zf2VyLLEEHR87QogPnG+WewmXsTJtJyIZ0y4pRGwVZtlMZEyX/UxwTMIbdX\n",
       "lwV9eHVmpMERetdCJy5oOXBjWVtDy+ZWgNmu5UA6I057PQRjRmll1GzV6pqLVtfRjc227vW0IsqS\n",
       "Xt0LpZFsSu4LyKPG+bE23ALJZyYtBzLEGnIGveo0mrQRcCXhrnZ2uml1m7HwcgsEillWjGvT4B59\n",
       "hnLjCL4yzC+My02J2oiZtFwoK0ODSRhyRwzSmpNPTzgyq5EpYVuRTYoLtIH2aiVnmNUZisce6Iuz\n",
       "msXX04esuAXqlCOG+wWTQFnSeK97ocRu9rMPJaDP6xhWTtcg7pBEUjxY5eyxIlquHQNXUFO+0SBt\n",
       "98ymASqHWLl2vPvLapLwYW05COzZhZAfypbGDayLlpAfXjoYXjPAusN7/TFgFdeGe2BTczMY4XtQ\n",
       "MR93BWxqXtlCVqdBxg5C6dQhv9UQPlakBcFR7cSKNN8MbMPC0VNyQXvb8cmlNbg7pg5ZS0v1a/4j\n",
       "LVUfPd8Eh5PQNjAc0IQfoKBhYVBhRdY1EZo6VGw1RJrQTt3sH0N0VNzgvOrtdjrZqE8ctyJrXA1T\n",
       "h9qTFoAwT0N4Y3q7KD/a32q/QUUUKT6mp9s+T+dfA4Uzv2XFqczO5HL4T+wfDd0xWlQ73R0AAAAA\n",
       "SUVORK5CYII=\n",
       "\" style=\"display:inline;vertical-align:middle;\" /></a><br>"
      ],
      "text/plain": [
       "redundant_condition_reduction: forall_{a, Q} ({{a if Q. if Q. = {a if Q.)"
      ]
     },
     "execution_count": 6,
     "metadata": {},
     "output_type": "execute_result"
    }
   ],
   "source": [
    "redundant_condition_reduction = Forall((a, Q), Equals(Conditional(Conditional(a, Q), Q),\n",
    "                                                      Conditional(a, Q)))"
   ]
  },
  {
   "cell_type": "code",
   "execution_count": 7,
   "metadata": {},
   "outputs": [
    {
     "data": {
      "text/html": [
       "<strong id=\"implication_from_conditional\"><a class=\"ProveItLink\" href=\"proofs/implication_from_conditional/thm_proof.ipynb\">implication_from_conditional</a> (conjecture without proof):<br></strong> <a class=\"ProveItLink\" href=\"../__pv_it/theorems/aa98bdea9b7af342767a4f3f696745564500c11a0/theorem_expr.ipynb\"><img src=\"data:image/png;base64,iVBORw0KGgoAAAANSUhEUgAAAMYAAAAXBAMAAACi1y3kAAAAMFBMVEX///+IiIgiIiIQEBB2dnbu\n",
       "7u5ERETMzMzc3NwyMjK6urpmZmaYmJiqqqpUVFQAAAB6qHgnAAAAAXRSTlMAQObYZgAAAAlwSFlz\n",
       "AAAOxAAADsQBlSsOGwAAAvhJREFUSMetVV9Ik1EU/326z33bN+uLgh76J4sIJNCiaNAfrPZgRDoJ\n",
       "ggjKh4LABxc9RaCLQSFJE0MYITook6hgpfSfXNEfpIdGPQlBK+ghCBeUqJStc+63u12HTlheuPee\n",
       "fefe8zvnd865A/5rGItwYqGxpri6A3BbQIrljyVCVNaxpwf83+fR99NcDTxmOVoixhFe9gexpGtu\n",
       "FzK0uAJoY0+aS8R4yjh8ececajMdAjxxhoEjWSJGLc1uFtK5TxWBvLq+MUjrNngSFE6p6SCKzEmW\n",
       "hDExnHlODGsdO98LbPF6t5aIYVLKI8LmSCz38WVejU8UABqAB8BJ8SlQYEAK+rwYLjIxInjuJ+Jx\n",
       "z8ujJi7Vd9DOdTcKXIYh6lffbmtWLHtoEyuPHhI8vACu32VB27MqlNWUkf0adk3/qSCPyezGEWHL\n",
       "HzhJDhGoY0YoboYQDs3CaBR3TgMTF2l3R2H4sppyuiise/4oGPoVmzit5UmaiWynxFl2ygc3izRW\n",
       "EUvNKob7jJW9y1WE9zTvKxheEaraHx319t4ELCVruEaz67n4ZPXxGiFiPD9UDM3FAeutOPeL6De4\n",
       "jN4pXKXhTmJIRG7nwxvNUYWy2qxXB3uEKTzi7RuzVqtiWKZwMgKdoUVH75O9QBG2J990OnxKGDdk\n",
       "/NwUfOU1zbBI+SCW88ZlLByXGO6gJiCP2xjlXCl9WTMOOqj5LMe4UpKGpC3MNqZoGWbXRN0M+9N8\n",
       "cicnSc256W+YUDHIO+eU7Demu+3E3hiC+T7PioczPahsnSaXqqVKs1OBFgxgk1q7lp0CiVERdwfK\n",
       "EvLWRvtkTAvN/39hVEnpNhVBUq9DuLPpbELBYFZnFAzD92plb+7+W/tkaqzYYyA9MndDH7nq3AXj\n",
       "2dqvhoIxlMLRaSpRPR0/9pu9vfR5PJDzukJIZmayCMaFwkeOPY83ze7zwnFLt3LtJjrJub7Yu32q\n",
       "4PcAs/F3Q3GMyJd8GZ1f8N1UUmUPQV13rDiGqxqLNYxFs/QPRCWyZYSx0d8AAAAASUVORK5CYII=\n",
       "\" style=\"display:inline;vertical-align:middle;\" /></a><br>"
      ],
      "text/plain": [
       "implication_from_conditional: forall_{A, Q | A if Q} (Q => A)"
      ]
     },
     "execution_count": 7,
     "metadata": {},
     "output_type": "execute_result"
    }
   ],
   "source": [
    "implication_from_conditional =  Forall((A, Q), Implies(Q, A), \n",
    "                                      condition=Conditional(A, Q))"
   ]
  },
  {
   "cell_type": "markdown",
   "metadata": {},
   "source": [
    "Note: to prove the following, we will need to use the fact that a condition of $Q$ is the same as having a condition of $Q=\\top$ in order to avoid requiring that $Q$ is boolean."
   ]
  },
  {
   "cell_type": "code",
   "execution_count": 8,
   "metadata": {},
   "outputs": [
    {
     "data": {
      "text/html": [
       "<strong id=\"singular_conjunction_condition_reduction\"><a class=\"ProveItLink\" href=\"proofs/singular_conjunction_condition_reduction/thm_proof.ipynb\">singular_conjunction_condition_reduction</a> (conjecture without proof):<br></strong> <a class=\"ProveItLink\" href=\"../__pv_it/theorems/ab5fc82fe96c222977f1d8b2e391c1961760c9a40/theorem_expr.ipynb\"><img src=\"data:image/png;base64,iVBORw0KGgoAAAANSUhEUgAAAPEAAAAyBAMAAAB/mSAgAAAAMFBMVEX///+IiIgiIiIQEBB2dnbu\n",
       "7u5ERETMzMzc3NwyMjK6urpmZmaYmJiqqqpUVFQAAAB6qHgnAAAAAXRSTlMAQObYZgAAAAlwSFlz\n",
       "AAAOxAAADsQBlSsOGwAABKlJREFUWMO9mG2IVFUYx597Z+69876XhBQiXCZCS81FRaTENgsqS3Yg\n",
       "CezLDKJ+lAU/CrNjfZLEXQRhiV5u+EkKHBCKwly3kIjAHS2IKNjd1A+i7CqyaLmiz7kvZ+7cec7L\n",
       "iNvD7p177sv5nfOc5zznfw+A3OxheOL2fkXnqZudxQ888imjHDbwqVX+T4bfaRBPO89rgEuDnYRP\n",
       "Es2dDFqS5g3a4R+f5Q98SdV6WYP8S2dxOgbObAXI/vEfRS6y9mbeeQMdZpwnak3PKMGZLZ3l7bHz\n",
       "3H2AHzPX2uSdnLybHd4ehtIYwAmq3rVKsumKyYD9n4s6gWTrBU4+y+g1PLwC8CtV72/KGPsJJGS0\n",
       "GzGycdGLyAP4f5ydzAOkKEi2qSJv6oFsOrWQXEQn5++y60PDkKUGOndPATYWCHLm6gp/DI5sg/rG\n",
       "uTb5dxgPyXkMsFHWDJjwBNH0uWqYk299h/8nG/ZC9HZ8nMfhr5DMujnRYte/aEBhjKp5WjHQI4kE\n",
       "xiaStRXy/X7pQAfZmQGzEpBNpK5nVVt30PUDVM1VV06+kgBfx67lb4E5SJBLw2C4ATmFj91hlwuL\n",
       "mLBukUm5X07eligf2ofV1qDqEWScw1Z/m1xml99DT+fIPhfkIeYsJq8c8P00BQSZ5ZEf2t6eh1wL\n",
       "zmDWLpK9sxblod3VMIztaguuFxvdZAY4EpBt9PpI6+ejaZYBCzUtdyYGY4Ag225xTd4v7Pf/QnLB\n",
       "DZbUHWFaNra46blKOMWwj/8matoD4E+cv0lyqkaQrdk3jy1n5/WN1+qvzkbkEqM4rk92WP/re7d7\n",
       "gHPDDIJiTaKmIYDv2e84Sa42QZHDIDafY2tVsEjbnoGj8iH9xpQHdTZd6LEYcR+THKwS9syf4epB\n",
       "151FN6Vb5N3prsvL9Mi2H4H5h3eFnWL+LGCqywo80qXBRltaZMvHOc+1okZ0Wx/G14ZyeRN9d2XX\n",
       "W5lzNDrNddjL/s9hfmeFwEt92LhvAfbRd4e0NOLjWQrT2zHIxJYk47VneE8nlpBs4syzK+1Rgtx4\n",
       "THvNwxKSMUsV3WynHv3m/yLD2CQedk2+xSKIaZgpPW8LRH8P3oadKEyt1Q5bHphMhdd5hDVky4lA\n",
       "9PcQYfARBli+6bDupwbjGmml7JtKJPoDga8ms6hGNYGLucFOU5hWnHviTKIh+kOBr7K+aE2oNuwL\n",
       "2Am7mauYXKZOe5rkmOiPBL7KqtEHW6ox8nVlF86oC8s/bWf187rktvQ+rjkp+GqUO3vpXTjYgo9n\n",
       "5yqNLo/ok7nAV1liNWKlryy+NppjCnK36OcCX2Wda0KOhevoPzxoSwk1lC/7NiMR/Vzgq6xzQAr+\n",
       "x9aL7fKC5PuWFv1c4Ktss1z1PhCDBaKfC3zVh/nt3pS+WvRzga8whdKHM5JxpkU/F/iq/RfF181p\n",
       "TxrbhOjnAl+VwhRfdGZTSiZEPxf42C6Zz6cUokMW3ALRHwl8ebPhpV53KzSkdyjw5abcrZA5RUz2\n",
       "Bb5iT1O5IZYdFN4Sif5A4CvstFJbOuIwFYn+QOArbJ06+p8WZ6FzaoDINHYfkzuuT8hO6Tz02RKA\n",
       "nRM6Ty3FzvpuP74eAdcWTZPs+ozqAAAAAElFTkSuQmCC\n",
       "\" style=\"display:inline;vertical-align:middle;\" /></a><br>"
      ],
      "text/plain": [
       "singular_conjunction_condition_reduction: forall_{a, Q} ({a if [and](Q). \\\\  = {a if Q.)"
      ]
     },
     "execution_count": 8,
     "metadata": {},
     "output_type": "execute_result"
    }
   ],
   "source": [
    "singular_conjunction_condition_reduction = \\\n",
    "    Forall((a, Q), Equals(Conditional(a, And(Q)), \n",
    "                          Conditional(a, Q)).with_wrap_before_operator())"
   ]
  },
  {
   "cell_type": "markdown",
   "metadata": {},
   "source": [
    "Note: to prove the following, we will need to use the fact that a condition of $Q$ is the same as having a condition of $Q=\\top$ in order to avoid requiring that the $Q$ and $R$ variables be booleans."
   ]
  },
  {
   "cell_type": "code",
   "execution_count": 9,
   "metadata": {},
   "outputs": [
    {
     "data": {
      "text/html": [
       "<strong id=\"condition_merger_reduction\"><a class=\"ProveItLink\" href=\"proofs/condition_merger_reduction/thm_proof.ipynb\">condition_merger_reduction</a> (conjecture without proof):<br></strong> <a class=\"ProveItLink\" href=\"../__pv_it/theorems/f5bedd7c5217cca639e002ea5e3119ef4908af760/theorem_expr.ipynb\"><img src=\"data:image/png;base64,iVBORw0KGgoAAAANSUhEUgAAAysAAAAzBAMAAABlFIoEAAAAMFBMVEX///+IiIgiIiIQEBB2dnbu\n",
       "7u5ERETMzMzc3NwyMjK6urpmZmaYmJiqqqpUVFQAAAB6qHgnAAAAAXRSTlMAQObYZgAAAAlwSFlz\n",
       "AAAOxAAADsQBlSsOGwAAC19JREFUeNrtXA1sHEcVfue79d6/z9QY2kTJ1SVCaSlYqEoMNO21dUFt\n",
       "87NOk6JIJXahCSJAfcEStELUFwKRUCvb/SWi0FgKRZQqcCpRA+lPLqC0UkLxJaQyhYicG5oKAiWG\n",
       "ODZOnGN+dndmZ2f21kh1tHaerLudt2/f7s63M+/N288H4Eu0tWsNuCQzItPo67pqtXgRr/SLcwKP\n",
       "uyga9dVql19YBi/m9aZLcwIWfZG5kQwGLH8VRvnPZikuRwIFS3LA2b78GWH/FbMElkglSLBsLTia\n",
       "qTF+H5rfftRLr+47u1dKZ7voHe3/mM75ZPbN1fs2flViG+o+e3Jj2b9vlR8qHwkSLFcKz1SWa/yi\n",
       "CMlsH4mVke8D/I23s3rrtjykByR68VlV2FM5C9BfYc0V1kZDF0QvSPSCrFD4ccofjODAkmz1gEVD\n",
       "CQG9S+1J9BHm8sXVZteuwzf5KbdeFJU9DcejKEWaYKddbG31ZgC6C269EA4Xy/0IEisGB5ZwzgMW\n",
       "nKfRe4lhdfo008//O/1+FH/8y60XRWVPJ6txdAbWnaHfWx2yMA+wo+DWC4dbesGPIPGJ4MCy0PAF\n",
       "y7483jfO9Nmvk68EUa3Ki3qXqOwp6AjvXtZbdbq1vQONgLMSvdB/ll7wI8rTwYHloyCBpe+mLSQ6\n",
       "P1bRT9yAZ7Eo6ZvEJMsMcjHyEPeTe9w3KOpFUdmzEMJdyFHYzmLFtysSvVNsveBHlONGUGDRxwVF\n",
       "AsWAeBt0kzuIVczYkpgiTTY/xAopMoz2kUjO5hlL75rXFfZmanFP0yluAG2HP5vTztnGlXskekFs\n",
       "veBHlM5MUGBJt4r5MsqC7yzB87RSYcFSR9Lmzla424zcDwKQVfPHMHzaf2DNyrcdelFEe6esKmgn\n",
       "0Q7TuV6BOjq1RiZg/QawnDO98GjZetOPSuqzQYElLKSTfT/AjzTAh5ywNBD0hkp6oxl63gFoxN+k\n",
       "g5PnoWgCaelFEe2d8hg6Qw4s5+k8hDJ0jKHTngHLOdMLj5atp37UWedEUGDpFZaI+gvoaVsC2qQw\n",
       "WnCHaZ9AMYL2nIae69V4owV/3DkAk9Cf5/ViCivaOwUtTTortvN1yJ5uNVRAQ/tM50zvFKY3/ahE\n",
       "Ox8UWBaKARohoY1C8rQTFpQa74JEm91zeHGYKJNUN16GXxbgAO05Wy9ZTDrsD73WWJlvla7jqLuO\n",
       "F23neHH4Mo0VJUidA8s507sXky9zfpIvbZ4nv9sbggLLF8CdiWlTaB3+Rwcs+lTy/tItBbvn6nB2\n",
       "hp/53vJrD0fasOpmh168Q8FeO3g96qMFZMGKAEORa1VGt5zjz+/RtNyAyCjkTedML+Telt70c/fO\n",
       "UliaDsLngwLLEgkscA8cKZK8qb4L/2G5bAuQuGv23H78gR/2UFsm8i6OsrRubuu1/+IUYcDccNlH\n",
       "OwZgHHZTE9iKunMos8t0nsRxoh4Pj+iNBiRH0fAizpne9kuOZnrTz3cvhwYS+DvFB2SVCQt51I75\n",
       "gCVNkvvSTKOinZPBsr7p/hF8m2jR8tkTF0g01U+2Xw26DQvJjDaTFOvemwfx87zNcOqvwfdVNDfc\n",
       "9umM3grXIhPU4ZH29hIkHimZztMEZXzW9vblAL+ebzpnetsv2bD1tp8R2En7VczVhwYpLHtpWl0b\n",
       "lsQgSe5nfNkyKoNFLpvggzYsjmg0GCpAtBj1e/HEPpwPdUVPIzjf4NecinNPwzmRpfCiLk9wMhSW\n",
       "B7HTLh+w6HhcbZvxOSw15R+W+1IDclgqb6JL/8Y3/b4iJ/b9aLwku9DTnPMByzScExRPw4eH5evJ\n",
       "IoUlZqhL3c7Y8gSo69bvYf143FX2a1XZ7qvmIXrbGdfKIVFFTm6sVv2ek9j/HE0N0REDNM6dzDmR\n",
       "aTgnCVkFmuThoKFCYUmi3TFfIf936HtgxmEJucqt0SmV7deWKSbCq8rTOqfDPjSjt9vQZWZiH29p\n",
       "uc4XLOGWlqtyMw5LZMyleuifMGslPGDCsgdggy9YEnmon3myWGIM5pKQYgWGpQ+i8mpA9Jrb4bcV\n",
       "Bgsy6+N2NzX+StFg4/+meXx+Eu/e/UpO2mDyk3N3OHku/IutuQBLqwlLvRGRrBU3n9wEf4kYCYNb\n",
       "Tm6A25nBswWO+uBoMBi2Q7SNV7wP4Cl5gyGZtd6cznFYUhlJxE/gdwjHMsUIv8o/zEV8nCkmumQN\n",
       "Jpj29AKvOAXwJXmDoVCE+oFLkxjOrvYDrp0tCL2K1820ijYfmwz/aYsDlhguImjLm/C4wJW5pPUg\n",
       "OxpsEsSp7RCvWQbxpfIGC3ll2Ol4TRSZ8KwBzDYmnx3yYQVakODaWSWEAwmpomnk0R+OfO7HPCyR\n",
       "N9GUtrrQi2HBzJ+ItYBwNNiDj89wC4/T6P6X5A0m/fPnORP60LjXXcw6Jl+4YsGyFW3h2lk+gUMw\n",
       "qaLFSdcMQ7GZhyWKq84vQg9W4Jw6VjHrTLQRP7zXeQbs7mm+z7LavcjLBq6xa54Q134Dd+VqLCf5\n",
       "RbdvJp8fCp8v2p4fvp43R8973VK0YEnjSWME9XYdORuuoiWf3Ij8DsOaGA8LfoEHn8TFboDrcf2m\n",
       "oB8xWCMMnU5YUMfoE864cRzgW4u4RqsmzH2nIOXUpCa9FjV8LcSDyaeg5Anih7bn4utJxZOj5ymd\n",
       "OeAL+0uhGfp1q4qm5+hoiR92wIIn8wn4ylr0/WV4BlMz6Rtq2ojSccQqS8W4UVeCQ8cO7fqMFTfw\n",
       "nLaIaxR0Ye5bhmfD5N7X7SGjn/cLiweTT07JE8QPbQ9Evp68SuDJ0fMUq1Rp185G4NUErDGraGSi\n",
       "OQh0ZPCwQJs+eUDLwdaHOx4oEVhYAzbhxhr6gTy1HfjAD1H+1hUePAqoDf0GvBUvYFhYo36QHYI+\n",
       "omOQzv401Qysv8/5hQXUTD45JU8QP7Q9EPl68oKRJ0fPU46XeVjiFdgOfe+HnjKtom1D59YXF+hL\n",
       "Fgcsz73eVNKXQfSVBW9HCSyskcjjRk9Bb0MfPWV4aORdA3V8fh1+YdpTDnXfCg80ktHCGnu4Q9BW\n",
       "8xlDfyQD73DvDxdPHxYXk09OyRPWBH5oeyDy9aRSg6PnJeQVufvtpBnMtE9v3CQWX/gJHyNZ7KCT\n",
       "mN24NUQbzNNzWgbq4ChkS7ZnOolZjYiR4Q6xt7Khg3aZ50QtWGoz+RSUPCEHlNq46XZOvp6q3ujF\n",
       "0fMSMlpdsMQNdU2ME5yWRi8sAv2yFawRq/6bNpin/rcMWA9XwEiBed58XZk1dlSz7BB7S6ukltvK\n",
       "IeGSnm/BQu/aJ5NPQclzii/anouvJ5UaHD0vWSKFJQm+YCHJ56ODqobtKXa13HPS5UzY4oOgRzbq\n",
       "k8nnovDJxA9tD0S+nlxqcPS8cvRRKSzgD5YZX2DJxS+Tz0Xhk4kf2h6IfD251ODoeUhw6HuJVnUi\n",
       "6o/J56LwScUPbQ9Evp5canD0PCSdDQos8Ul1bPHH5HNR+BTBtjZtD0S+nvyKa3H0PJKFwFDDKV9I\n",
       "mYnVZPIZIFD4NLcfzkZN26PH8Xw9d/zgD1Jz9NQyFJh/pHClYkKCXIPJR0h0Dgqfg1pHNngbNW2P\n",
       "KHi+ntMJ2c0fpOboqYVOAoH8Jz0BllpMvhbcNTyFD/PxBO4eb6Ok7ZHjHHw9fJiTqOc4SMnRU0/Y\n",
       "AfonveSY71U+E8bkS5k/2cEofG+4K9GcjZq2xyuIp5R7HPM2So6eUuorwYEFHv8/YGFMvoh1xzaF\n",
       "zz36eBs1bY9XEE8R93k5GzVHT70ODdA/gEOPMnD6YfJ1mHm2TeHT3Aw83kZJ23McRzx1uEM+Z6Pm\n",
       "6CnlWggQLCHlVfph8pkdxSh5Ej6ey0ZmFlId5mkzHQnWj4uIP8XDyexi8j0L04XlwMX8mbdYGeaC\n",
       "6E/QiXBth29YLv3M23sv69jPvP0PxioyyI6T6TEAAAAASUVORK5CYII=\n",
       "\" style=\"display:inline;vertical-align:middle;\" /></a><br>"
      ],
      "text/plain": [
       "condition_merger_reduction: forall_{m, n in Natural} [forall_{a, Q_{1}, Q_{2}, ..., Q_{m}, R_{1}, R_{2}, ..., R_{n}} ({a if Q_{1} and  Q_{2} and  ... and  Q_{m} ,  R_{1} and  R_{2} and  ... and  R_{n}. \\\\  = {a if Q_{1} ,  Q_{2} ,  ... ,  Q_{m}, R_{1} ,  R_{2} ,  ... ,  R_{n}.)]"
      ]
     },
     "execution_count": 9,
     "metadata": {},
     "output_type": "execute_result"
    }
   ],
   "source": [
    "condition_merger_reduction = \\\n",
    "    Forall((m, n), Forall((a, Q_1_to_m, R_1_to_n), \n",
    "                          Equals(Conditional(a, (And(Q_1_to_m), And(R_1_to_n))), \n",
    "                                 Conditional(a, (Q_1_to_m, R_1_to_n))).with_wrap_before_operator()),\n",
    "           domain=Natural)"
   ]
  },
  {
   "cell_type": "code",
   "execution_count": 10,
   "metadata": {},
   "outputs": [
    {
     "data": {
      "text/html": [
       "<strong id=\"condition_append_reduction\"><a class=\"ProveItLink\" href=\"proofs/condition_append_reduction/thm_proof.ipynb\">condition_append_reduction</a> (conjecture without proof):<br></strong> <a class=\"ProveItLink\" href=\"../__pv_it/theorems/d66601b9923d4efb4cd05da7af9a024b24c12bba0/theorem_expr.ipynb\"><img src=\"data:image/png;base64,iVBORw0KGgoAAAANSUhEUgAAAjMAAAAzBAMAAACQ45TYAAAAMFBMVEX///+IiIgiIiIQEBB2dnbu\n",
       "7u5ERETMzMzc3NwyMjK6urpmZmaYmJiqqqpUVFQAAAB6qHgnAAAAAXRSTlMAQObYZgAAAAlwSFlz\n",
       "AAAOxAAADsQBlSsOGwAACNFJREFUaN7lW32ME0UUf9t22+3XUTQKCIF6hkTxAyKoR+Tj1DNqUFyE\n",
       "MyExXKNyJv6hRYwfMXArqNFguGr8IGqkCdEQFWmQj6gYigkaJPGKwRiVP3oIGkXxCByHh1BnZne2\n",
       "u7Mzu1si2RpfLnt9b9/sTn87M++9+W0BPKSzsxP+fyJ3dqqeTpNrp87BrR9oVkgW6/+jtVrO03nS\n",
       "uehBS9neofeaBptH6GBJBQTNQbs65h3m/M5iUNCks8FCkyrYuzNoUZQZAPHvhvXPczp+57UX2YXy\n",
       "zOa5ZcYkPXzi5+6K03VusNCs1GxqJGtREmhp+1w5RD7flocWC4oR+k0YO9zBv43pH3kd4Ff27Igc\n",
       "KGecjULlQKG5GMTQAJrsR/RPC3Hvrq+fuavAt8uX8W9D/eXX0CFcYs72ZAAe1pwz6pogoUlNcYMG\n",
       "yWH938v48GfdPO43vl36mr80Uf84vn7LAHN2Qh5grRMaeDNIaMLtvqBJDuHjnXnTnH2Mbw/F+F/D\n",
       "8Icd2DUyxJxdCxA7wWm1UQsQmgkqBxrl4OgMVl6YBcunkhnVSzq3wxwR6fa4xrPDPljDDTaGv0IA\n",
       "SA4zp5F1RZXTLF4NEJqrGD2J14R1WlQPVG/TtWYHWUXrYz6upUs8OwLmR95tqH/yNNFO2s8mToyc\n",
       "u42L6GBw0MTYob0SBQV5BiT1efUQhWYyHlzyMZB3627LASZa7Qvm6nEsVoUQL6un/iHyXbvYBe4k\n",
       "LFrMTYiPBgdNC9PJ1W/gRzsAoXY7NMdID/+GJefpfr8AjLTaS7BJv14epAznPtR/BLlfH5PYxJH1\n",
       "OLd/9wYHTZiZ4bGt6JmHc9BVtEPTig/z0WT7Rn+a6NNdVvsw9JKleCE6l+U8feofwifl6WxaUwX5\n",
       "DLd/fVpg0PSwiWkUYdWVgT6wQ/MnJCrwkUahwQlcsmKx7zKgwQnfZ/yEj/ijsL0Bkm2Q2r5kvPQF\n",
       "DWwby5DmF85d5cCgmcAmEzhCdVXg17Rmg6an8uWLkTag0IRwsClY7XCjHqNxXOOktdQ/djr1RPkm\n",
       "De5ZVw5XpSpJKtFirkLkKOSFozoQaO4DDjTRTPryJNG6yR/O5NoykSOqCc1Ouplh2mNklU3hdSaK\n",
       "vqP8F37kBXow/eH8pwGv2M+OgRH5ZLvup8xWIXU0UaHe1kGcNaAhEO13hcbLpUG5lgeN3H/L6lEk\n",
       "rkw9tHx2vx5i7r+xiJ+rDg0JR0us9ufI428hKGF8LsdjpUQPdf/Yzx2TIAbQD0shhMBoRS06Om4H\n",
       "+HgcUG9rdwYMaD7RMwM3aLxcGtwtOsWDhi/RomSuNQ67UlI0vzd9EEYDXAcXQi+CKO2+gZcaNqBZ\n",
       "jkdXzhUaL5cG05qjDUBT/R640GD7c48/pfq96UPpAigDaNx8gWZtxE8HETRx1VK986Hxcmlws+g0\n",
       "a5GmiHyTNZQePrP2Bq59dq3m+6Y7anlIVNHQX30BwDw/wxpBk0KhKu6+DHu5NFh3Dzl2pk4LH+Al\n",
       "lYbs4n3NmRYl4+F8hkaoq1tbp3lEKA+XxkQ66TCt+gOaSU5QaFCNtdgDGg+XxiQyCE0u0yk0q0Fh\n",
       "MvcVm4upWVZo7C7SDWM1vgIi87un5pg75cmmh6aVQhNVI5ZNstj47mK6ejNssUJjc0msAaWNqwCI\n",
       "zFIW4jR7cGy3NZ1cQqFJZ6xL7KcolUrvTEK7FRqbCw6lW7mKwAfDUYJo4b8HDRRQSk1LLwmXVull\n",
       "6zM2aIgLLNh5Kw4nOMD00dhiVSwhhzWHK7Au72tCNQNbZ04ouONVMEuvu0nmkb/5Bzs02EW+NIZj\n",
       "C2E5bqIjwKpYBglr7h03tmzZQ3KRZmDrzGUYVlbrpdcHOjRJKWeDBrskSzGcmpE977dBISHLUDaM\n",
       "tfffMNflc7jbxFoacssH/bN1HNrNMXo5VJ6ImrPILBOaFjzUjdJrd3d3dyWdl9sLNmiwS7iIC3oI\n",
       "o/6g4bOMVL2GMkW2rx+GuS6HIT0gTvlENYMLWyeg3RhxNCJ7WHxqziKn7JsSRun1qD5qYEPGsSnR\n",
       "pUV3oYohWkqomOEj0BiKFrOn+oZ5z/49G24hhpkQMT3Sw36hcWHrBLSbXRyN9G0gPjVnufRxGzS0\n",
       "9Irigi1VBKnqgCas9XygLkBBedeot4BAU1eiRaTI7fRgmPfmwsV92KIMQkt2PU0P/vYNDQjZOgHt\n",
       "ZhdHI30nTUDNOctLY+wapZeC934eWWPs0digSWzfezssrcCq/iOqRqCpK9uwEmuDpRo+UHM0vxA+\n",
       "g9hMuPC4GnspYxuvjUHjYOUEtJu9BnU0IiKi5pj617nLt6C7u+i2y4cXsPfljD6hqBJRM7pi9wnB\n",
       "PsiWIc3c4jIvaLzZOhHtZhNHI7NC4lJzTJHX8AZoAk+43gMqLJlWqStra1ldsfssgougXwM2HP/E\n",
       "6Jtasei8nU+2TkC7MRsRbCO9dyJqrp56DJwVNCnSo0kixWlGwobYPpcNKJ9snUm7yR1HhFejjZhx\n",
       "KaLm6vE1d1bQ/BvSI84q/LJ1Ju2WpChyhDayi5iaMydiJjBowuKZ7pOtq9NuI4rKkGu+P5/Na8TU\n",
       "nDmqtcCgSU4RrzX+2DoL7aaKoaGN9nw5sjrOfOVUTM1ROQCBQZMYdo9QXmwdIVcM2o20kJ3XUeuN\n",
       "5K9moNR/PHhSc1QCfB2A8EUu0HiwdYRho7QbeZsVc2zEapJ05IPRSJlXgCHYDJ7UHI0iAb5E4hai\n",
       "/LB1rWTYGLQbLnNDEyneJklHfIxGLRlUx1wJntQcXcaqAULDvrDmlg3X6zKTraMMG6HdVsHzAN86\n",
       "M1q13iicl3LKQN6TmqOLkRYgNKnBs4HGZOsow0Zotwce3wLghDpiadSLxk0qV/Kk5sBc+4ODBl4R\n",
       "J+k+2DrKsGHaLVyrDYDsJJbmWRp9CHFN6Vc9qTkjSAwGCs1SYeHrh62jQJi0m+T0zrCNrA1dJVQJ\n",
       "FBpJfNvA2bqAX8Rnf77RRJIo+IfminPxU7F4pVmheVKPYnLnPG9o/mc/FXvVCG21Wu4f9CwD3Cd9\n",
       "0OkAAAAASUVORK5CYII=\n",
       "\" style=\"display:inline;vertical-align:middle;\" /></a><br>"
      ],
      "text/plain": [
       "condition_append_reduction: forall_{m in Natural} [forall_{a, Q_{1}, Q_{2}, ..., Q_{m}, R} ({a if Q_{1} and  Q_{2} and  ... and  Q_{m} ,  R. \\\\  = {a if Q_{1} ,  Q_{2} ,  ... ,  Q_{m} ,  R.)]"
      ]
     },
     "execution_count": 10,
     "metadata": {},
     "output_type": "execute_result"
    }
   ],
   "source": [
    "condition_append_reduction = \\\n",
    "    Forall(m, Forall((a, Q_1_to_m, R), \n",
    "                     Equals(Conditional(a, (And(Q_1_to_m), R)), \n",
    "                            Conditional(a, (Q_1_to_m, R))).with_wrap_before_operator()),\n",
    "           domain=Natural)"
   ]
  },
  {
   "cell_type": "code",
   "execution_count": 11,
   "metadata": {},
   "outputs": [
    {
     "data": {
      "text/html": [
       "<strong id=\"condition_prepend_reduction\"><a class=\"ProveItLink\" href=\"proofs/condition_prepend_reduction/thm_proof.ipynb\">condition_prepend_reduction</a> (conjecture without proof):<br></strong> <a class=\"ProveItLink\" href=\"../__pv_it/theorems/a8a565c9356b2f7f4c22d2a0d6fd9164d631f43b0/theorem_expr.ipynb\"><img src=\"data:image/png;base64,iVBORw0KGgoAAAANSUhEUgAAAiQAAAAzBAMAAABVkQ5JAAAAMFBMVEX///+IiIgiIiIQEBB2dnbu\n",
       "7u5ERETMzMzc3NwyMjK6urpmZmaYmJiqqqpUVFQAAAB6qHgnAAAAAXRSTlMAQObYZgAAAAlwSFlz\n",
       "AAAOxAAADsQBlSsOGwAACC5JREFUaN7lW3tsFEUY/65327vbvbtelVSRRs5qo4DBxiCURLCEYnxg\n",
       "WbDVf5AWtSWSSIuNCn9AF1BjQlKOIGh80QQ1RsVeCGJEIocGTDCmBwkpMUSOV4kSSWv6sqU9Z2Yf\n",
       "t8/Z20rYM3yBvZnfzt7O/nbm+76Z3xWAanV1dXBTmf0DP5AZve53XZWPVDCN4mdzZtCm5fTrf/NI\n",
       "UtuXL/KDk1d4qXDsxlNyUVud/Km2HrrDHUrCMdcoCcW1PRlQVbagAfRRWwcpv7G/RhlOJZk1TS+b\n",
       "fJcVbmGe5sGeppTV2RrXKNkiaKq+mKrSmYBQrJ2MYN+7AH8oJ9D83pbOXpOyw7Wm4EUNEBi36lhB\n",
       "0i1K7gJrShjkacQnZHahgzch4f4+gMJhpdmyuA2uMwVviyL/KVjNnIdcoiRUQaEEO1+RhiCGI73y\n",
       "iB9CSPbRS/+0wXWm4FNbAHZbUQIfuESJtyonSg634HNDEhhE3LQ1KG1ir9ngOlPw3WhgWcfYTsEd\n",
       "SqbyJpS0L9iEy4Edaf+F+XjmBEjHuRGVD5iZHeFVQYGO62aEgqNv3Zy27Fow7Q4lM3V1Ds1zthKa\n",
       "ealToi/hxkhVnhOdKyddacl2XQgn6LjuUWWcHSyu+ZYShgdcocQ/pA9AyM8/nYR9pFIoU1JAelcv\n",
       "+50lAtODOFsuusmNAOVqnKm+ymtxrSm4bxhWNFIS2D5XKInovGv7+9hxANyjpaSINOuSE5MdCKkC\n",
       "f7Hody4DFKtxDriYFteaggfRt/ZTOve8K5R4dVPZfwC94NnAjOhGCX5GZq7cCuUS9Wk5wWTQWFmm\n",
       "xos6AkNaXPvyFbwoDcw4pXNdghuUtCV1AGIBDdhQr5YSFH73AlcptWGvAZxNyJTgxItLqfAQTyjJ\n",
       "4sZETcQ7kxBGq9hffi429TlQn3SDkqn6mIAiDjMGkfhpDSX+sdC65ELUljgJDnmWJVG/REkBjkhx\n",
       "NS6GrSyuy0oV/DAPvj549fjDUEkZwjeakhfASAmshJMJ8t4KG/A/bLdugppLaND/Q1wwevSu6F6J\n",
       "kiPKBoOMi6tYBScX1cflqxU88AgPoT729NI4EO8tnlaP2JhICWHmDIUSegOHNtuMkhWT1p3DsRQl\n",
       "Jc9eGI+SYdJTPR3Q+y9DD+urrk4Ctz0pUXIJH9aCCg80anCYgcdGQipk8erqxQDflUIkyopOfoa+\n",
       "L70iJQfxx3sUSugNHG7UjJpRYm6r4XbkPniz9bvOtsLbjlx8C5doMV1sjIiUbMRDqoFCCb2Bw7Sk\n",
       "L3dK1oTR2PeBPSWBVa9/46QT26BgQ4t1745BkLdeVRNK6A0c7tOMGfYwKqzaHs6gfi9VP/rj/VHT\n",
       "t57J9DrpxNfgWUwZw8cghCJPkOZe6Q0croOHDK94zHLnbx46RG/oztq4FHEeLCubRY041AbOzDNs\n",
       "dAR/Qd7YoEQJWgg1UimhNnBmvgHIZ5srUdIOAXWWHZjxBPyUVlOibeBZMIWkW2zz/h+UvY/PRp+8\n",
       "aHILA8zlNyVlEiWFvK9Dxtb2rIbffTzHqylRNwD2PQiIud8tyj4U4ikGQZMk2QBHevOakrslSsJR\n",
       "xXlyeDfhTDTh00wcVQOAk+j/AVK6AvCSai+s0CSXNsD/E0ogjlLe0KG1UwBKMdT92yYtJaQB1B55\n",
       "DE8rHDK6yKl5wM5R4mAK9piEegNMnziuq1zyxIGndgIs35P0CgxJyLp9z32ipQQ3YO7z42gRwS99\n",
       "IfE5fUcOZbOf0ilJs6RID/uGaT1yXeWS3StsQc7zzclQxLOk/92QKNFSghtwCT9Oqshu8sekvzHm\n",
       "RZCWF/AjPFMF7ImDulsQWONchsB2oy+725aTypWDvEWXtFQ2X6Ykgsf2OdgDoV1N6Nu7oTaopQQ3\n",
       "8HZ4cNjxor6R4YL9xFmADeWSXwn3ghfqdbcgMD1Vs8rtc1S5zACjUSUtlY1qNgfmwPd+f5U4StgT\n",
       "xs2BeqHwKOpgYYLlRVkM+Qk8gcolv+KrgAC06m5B4NDBX5WhEh7JlZIcVS4TwGzjiiZpqe7Zr6Yk\n",
       "0Av3dosZ2XGAO42UeIW2r/haFICP3vYh8rXozfBwnhUQJUwVBAYgEvscL15RpVY5iHC4BJRn9V/L\n",
       "lRLITeUyAcw2rqiSlmHZJ6UbaZiUhLfQpf5pAkSMlLCHTiyG1hRsPXeVF1DB07wI1hfjUeKfByX9\n",
       "vH97FLgWXGkV/JX4oMCXVXtdo84poapcJoCJ0SUt3aJUu6vGPNq0mrqrhn3Ul0xULBBDEycslxd5\n",
       "VJVsKeY5rqR+0+wocaZymQHma5fN6VxXYM42Gln8aNvO82KBpLuzUiCHzmDmb4BsHJVLTDqcXYtf\n",
       "0H3/vjJs4iNNQOUyA4xmI2npEklnlIRI76ZLBdmS5hWzRAW6eOt7TUDlAr28ZT786JJWNrNscE7J\n",
       "f7c26/RgIioX6OUtU7OTtJTMMuoGJV7rKT0BlSsLSPKWRVpiI2kpQ1hwgxKuwtqXOFe5QC9vmZud\n",
       "pCXbeXCDEnaEGnEcqVyMGiBXG7+TXGQnacnmjkxu0E50QdiJyoXVK428pchZ5IxSs5W05ODhzo8p\n",
       "aCHHqcpVUK6TtzCQ1bXIAV9kK2lJVpB2hxL9D7Mo2WvWLFSuU+pdbSxvnTImpKqLLCUt2eUI7lAS\n",
       "GpgAJRYql4pdUd4y0q2+yFLSku8C7lAC71jn0w5VLkYl8hB5izGqPuqLLCUtyfMPuEVJq+WK1KnK\n",
       "5bEFHEljBSm3KPFYr1rdVbnc+8E4XIS8NDaeIyX3X/8/UQqm8pKS9WJsqqsrsWl48/yJ0k7xszkz\n",
       "+C+Yg+s5gZ9MbwAAAABJRU5ErkJggg==\n",
       "\" style=\"display:inline;vertical-align:middle;\" /></a><br>"
      ],
      "text/plain": [
       "condition_prepend_reduction: forall_{n in Natural} [forall_{a, Q, R_{1}, R_{2}, ..., R_{n}} ({a if Q ,  R_{1} and  R_{2} and  ... and  R_{n}. \\\\  = {a if Q, R_{1} ,  R_{2} ,  ... ,  R_{n}.)]"
      ]
     },
     "execution_count": 11,
     "metadata": {},
     "output_type": "execute_result"
    }
   ],
   "source": [
    "condition_prepend_reduction = \\\n",
    "    Forall(n, Forall((a, Q, R_1_to_n), \n",
    "                     Equals(Conditional(a, (Q, And(R_1_to_n))), \n",
    "                            Conditional(a, (Q, R_1_to_n))).with_wrap_before_operator()),\n",
    "           domain=Natural)"
   ]
  },
  {
   "cell_type": "code",
   "execution_count": 12,
   "metadata": {},
   "outputs": [
    {
     "data": {
      "text/html": [
       "<strong id=\"true_condition_elimination\"><a class=\"ProveItLink\" href=\"proofs/true_condition_elimination/thm_proof.ipynb\">true_condition_elimination</a> (conjecture without proof):<br></strong> <a class=\"ProveItLink\" href=\"../__pv_it/theorems/0ec8f2cc0d4f80b2a925259a7024509be2bf08ca0/theorem_expr.ipynb\"><img src=\"data:image/png;base64,iVBORw0KGgoAAAANSUhEUgAAAvgAAAAzBAMAAAAQvGGOAAAAMFBMVEX///+IiIgiIiIQEBB2dnbu\n",
       "7u5ERETMzMzc3NwyMjK6urpmZmaYmJiqqqpUVFQAAAB6qHgnAAAAAXRSTlMAQObYZgAAAAlwSFlz\n",
       "AAAOxAAADsQBlSsOGwAACntJREFUeNrtXA1sHMUVfufbvd37c87FdQuJkqvTqIK0qVVRMC0JBkwr\n",
       "ID/rErdCosnR4kRN2/iCVUFUgTdNG1UKsg8oNOpfLKVUBRRygkDaQMnRKkZKinyJqAxVVM5JCarS\n",
       "gt3GcepgX2dm/2Z3ZsdH8V20hlG8t2/mzfPOtzNv3rz7YoCKitzZqcGHZTZLZ2dnhZp15XL+Ij7o\n",
       "xjkEutxlfHaXz1UK/sDFfN76wlya8ndbPmQwEOD/3TN3ngg0+Ml0kMBP5NzypY952i8LFvqrgwT+\n",
       "dt09c8bpNuSRftlrPN0P9692+yf11vZ/zmSc1Yk3k1Iyxaby5g3fpduZCraEus+d3lD0BbMQIPA/\n",
       "4RalNCXsy0Mi3Ue8qPRTgH+4NG/OQn1uBuNcnWSKEtC+2F8CUQVb5mVAnfb1O58PDviJFgH4MtqO\n",
       "DSDkR9ElTMdkt2fQ5Yti43wdGnxlDCByHgQVnNKLDHTrfq0/Dw744TYB+DgWMgCP4ur6UarhIXx5\n",
       "R2ycr0ODH5pAtmmsmQpOWZQF2O0L/j49MOAv0ioC/1AWt01Qvpvcr8mKbPvo0OBH0fvszYCgglN2\n",
       "owXiH8ZHS4EBfxlwwO+7fhvZLh8uKadW4LGoZKzxSUevnwB0SPjkPjo0+Nh9L/P682UzPDN6mB/4\n",
       "bwtmyBAA8JUJ72xF+2OsFbo1cxIZPj8+RUTKHRwi4Yb/4hfo0ODvu7PxjGtlMBVsiZ1rWH1AcMgd\n",
       "Cwr49S3eyBNFarcV4GkiRCzw68hsWt8Cd1ixy2fx25H/A2tXv+lr3NIRgL9Gl08jLdusWSG3v+2f\n",
       "7ZLOw7ouwZi+ERTww57l2/czPGMBPukGfx55R0MFpcHaEgikiXchb74nXrF0BOA/jGy3gWPWrIhD\n",
       "PO3v1NHDnBWMaUgPCPi9nsSO8hyacVeBPOmZ+RgK+Rrq9N6ML7flYBL6fb2EpSMAH4Xr60uUWbNi\n",
       "3oA64R/ml0CeFoxpfSEg4C/yOmSEN3KaiVE3+CjI3AvxVgqldyBWhGd0OCwA39I5+nJDacFGHvgx\n",
       "tCzeyFNmzYqEJgB/XwGSFwBbzQtWcwDA/yaw0Y48hY6lr7nAV6YS9xZu1E2UsDvuLb78gNSK224g\n",
       "hzFvoXTkI9fCClhoqxngE58eR3vJmpRCzMp0BXkOvlU4pIE0Bt9DVlu5Y4qkAwL+VRzw4U44nieT\n",
       "KpLB/3C5ZBuQnZWg9F98GGpNSWRTVJaghZ4za/GNI5k6akcOJmC/2WqCTxRgO8J6KLWXmCWtVgVO\n",
       "Ddt2bNPkRr1Og8RY7DVklYQBhiV6CKMG+GTanKgA/HryVIVaYy9f4IG/rvHeEexLUJD/tVPTZJ4q\n",
       "p9uvAMWc+c0Y9PvvumEAkNYOJNShFwBL8Ujy1oXWqU8pLfAZUw25FjJMrCC1txcg/mCBmMWtdoXa\n",
       "RVl1TONO7e0rAX6/AFmNGaHaUm/GZNIA/yD+2FUB+HE8+aN6zcP8MR74/LIJPm6CnzTCwMhASAc1\n",
       "r6Kn/gt71KF0wtlQRh3NutWSdCxJzNKtO+HHAquGa8/G81n/QQ3C/XiZZCoAX8FrZEfNvU5yqnLw\n",
       "NydzJkqStTe/jp75nu8jQNrYYJzS6UezNJHJu9Uk8IJPtaob73lWYNU4P0PdfVn/5TwIUby2ipX4\n",
       "/EfQ56ra5zSZmCLU4nteLWdBvfks8kId5mG4jHpfVy6j4aYYbVrnKbSm1RHNrdZB3ROzdGu4XB4V\n",
       "WCXlKQit5D/ptAF+Arm3aEUb7p/RZ67m4IeY/KE65ad793LrzgRFWWxNqxCrzeh41RhkQzNWcDr5\n",
       "5X5ItPO55uYrKwI/3Ny8uK3m4EvjTNXOf0HQyzUm+AcAuioCP56FSO3JO/FxmIOl2QS/D1R+8lNd\n",
       "egv8qeSAj9T6qObGht/5CM6qvH4+HR3Fuve/2MYVnPKbC7e6uQqur0fmTFlsgh/RJM4JasvpTfA3\n",
       "SYtr1CGrC25xFB7XqS+2XYID9i5QXSe8j9jfoHkF532lIZr/4ICfTHH22zjORp9I5SX6hHuM2m9x\n",
       "5BXP8ASnHEc/z9EVZwC+xRccrPMQyX1w3A7kXkIB3QtbFoYGcUyK7uYDLMCNw3/d5gI/mkBbubyy\n",
       "Ec9xnKtKWJPSJThuCweJQ3TNcohdzRecCK4Ie1yhsST8tjSo/Clrw4VVKIC/Y08hXAphB4/vdJlM\n",
       "42Hp67+mwZdeR07oK3ovBh9zNCQr4HYJziTGM/hG+m2MvfQCX6DOJQvmuzMYoQnRIILKn1phgb8d\n",
       "Yf6jS2FeNo43QHynGbmNYcg30eCruMvz0IMrcHQaLZG0iSXEjh10T2Js7lc0Mmn5LiA5EVvYO9+z\n",
       "3/wRvto2wyGLPnZWmT/FYUiJ+VA+nZhywQK/Hi/zEYRpHbE5Ansg8egG1HsY1kZdWc230M8XcOYV\n",
       "4Fqcj9WV45ojhGG9G3w0fOW825+/AXDfEkpokT3e6gwk3TXJSdEhgM40VIc/xTCkhHwov05eb3nW\n",
       "Ap+Uq6EJ+hXj7nlFaTNmfuyYC3zc7Tx8B/PKvw2PwadRPRmrIajGmrBLJB/T6gpw9MTRvV+2/Dn2\n",
       "QksoQVc83mo59l+Jg6/Y0195t1Lwq8KfYhlSYj6UTyefxJq54kbRjB+Mw1p896lh49h1BIxZToMP\n",
       "rcrkYbkNtj/QsbVAwHcE2ISFtcYFWWo9/LFfoBgpEx54FZAM/RqcjOkYfEeIDDhd0EUdh/r0b5NN\n",
       "kHav0ErAh2rwp1iGlJgP5dOJmy20wI+VYBf0fRR6iuiusQA70G9QLteNJL4L/CdfaSwoy0F9ceGb\n",
       "KgHfEdARGAk9utKKLj1F2Dnytobgzd4OfwBkOdR9E2xtIDPfEQ5QXdBd01lNeTAFb6nO8r/8vYM/\n",
       "i/wpliEl5kP5dOImrJhvssytRP7Shk3e9AL95vD7yncYbscWbgoZgmPpSTkFdfAqpAu2ZcPtWIKk\n",
       "pagu9l06dMROZJyaCfyq8qdYhpSYD+XTyRsIjvLAj2n+uR2q4ABPnV4CyiWrHCFa/rchOJb6T2qw\n",
       "Di6DEd2xvOXKoiPsLqedLvadXEo6qdghzyM9TQjcxtiqz59iGFIz8KH4nZjTTIYHfgIqAp+EcQ8N\n",
       "+Am2pegVfMsJxpjnjt7gBHFd9flTDGXK5EOJLFmdBKssxXU7lYFfyxL2X+M14E8xlCmTDyWyZHYS\n",
       "lMCQpuIt/hFb9flTDGXK5EOJLFmd/MtJCAj4sUl/n191/hRDmbL4UCJLFq2KZMm4JTBEWYZ34Y52\n",
       "qsufYihTJh8qSyyxfp3uRLJk3MdOBIYizoQ7nlDz/fGnHMoTlz/FUKZMPlQRW3IbsdlYVieSJQOw\n",
       "mVgUmqXAgB9uE4L/PvlTZF358acYypTNhyKWcDfbiMHGojvhLBlYLa5QVA8M+Inxik+4Tplt/hS2\n",
       "RFcQS0l2TdI6OEvGfbjNEBjw4Sf/B/izzJ/yUqYMSxL7eykdI0vG25DHAwR+j+/JtFb8KYYyZVjq\n",
       "YDdcSsfIkvHALAYI/JBvjqpm/Cl+P/YthioZT6D++7/3D19QJYj8qVjuvYJ/+GL+saNoEeZQ2Wog\n",
       "2dnZVCn4H/6xo9kq8iPGZ3f53P8AhVITSqDQXG4AAAAASUVORK5CYII=\n",
       "\" style=\"display:inline;vertical-align:middle;\" /></a><br>"
      ],
      "text/plain": [
       "true_condition_elimination: forall_{m, n in Natural} [forall_{a, Q_{1}, Q_{2}, ..., Q_{m}, R_{1}, R_{2}, ..., R_{n}} ({a if Q_{1} ,  Q_{2} ,  ... ,  Q_{m} ,  TRUE, R_{1} ,  R_{2} ,  ... ,  R_{n}. \\\\  = {a if Q_{1} ,  Q_{2} ,  ... ,  Q_{m}, R_{1} ,  R_{2} ,  ... ,  R_{n}.)]"
      ]
     },
     "execution_count": 12,
     "metadata": {},
     "output_type": "execute_result"
    }
   ],
   "source": [
    "true_condition_elimination = (\n",
    "    Forall((m, n), Forall((a, Q_1_to_m, R_1_to_n), \n",
    "                          Equals(Conditional(a, (And(Q_1_to_m, TRUE, R_1_to_n))), \n",
    "                                 Conditional(a, (Q_1_to_m, R_1_to_n)))\n",
    "                          .with_wrap_before_operator()),\n",
    "           domain=Natural))"
   ]
  },
  {
   "cell_type": "code",
   "execution_count": 13,
   "metadata": {},
   "outputs": [
    {
     "data": {
      "text/html": [
       "<strong id=\"condition_with_true_on_left_reduction\"><a class=\"ProveItLink\" href=\"proofs/condition_with_true_on_left_reduction/thm_proof.ipynb\">condition_with_true_on_left_reduction</a> (conjecture without proof):<br></strong> <a class=\"ProveItLink\" href=\"../__pv_it/theorems/8990fd319856a6b6e87f712cf047cb89ba09e5000/theorem_expr.ipynb\"><img src=\"data:image/png;base64,iVBORw0KGgoAAAANSUhEUgAAAiEAAAAzBAMAAACzuMUNAAAAMFBMVEX///+IiIgiIiIQEBB2dnbu\n",
       "7u5ERETMzMzc3NwyMjK6urpmZmaYmJiqqqpUVFQAAAB6qHgnAAAAAXRSTlMAQObYZgAAAAlwSFlz\n",
       "AAAOxAAADsQBlSsOGwAACItJREFUaN7lWwlsFFUY/qfb2Znd2SmLB0IkWGtMVFAaIVq1lkUhSrwW\n",
       "bEkwJG1USqIJWcB4xACrVRMjoRviQYjRTQyJKOpGERUPigkQ1MjiEeORsFXQ4FHwwNYC1vfezJud\n",
       "ecfMrpLZGv60uzP/fDM78+2b9x/fLECAdXR0wEljakdHOhA0deToifvExaOVivkWEdGRka5A7AUn\n",
       "8HMb+rzrt+RHCyPaufZCIlxG9ntXlfXMEN1eO4Y+qQkjiZx3fZ+LEL0VIPbFMFp6tQnbRXTDQ5tv\n",
       "7BMdTL9u1s/VfHgAvr5UC0Z6st71q1zLcTRbva8fsFb2us70KYCD7jMv2gtzMtCQE/jZK5XgOZtS\n",
       "C0bOBjkjgMbLAF0uM6I+iV4ihTJsnn1VC/CZX8H7WZPhOfs0HT4jiWY/RpD9xDMSa8QT8uEyZuKP\n",
       "1vta/HKI97Mmw3MWK4TPSCRVPSPbMnjkD5YxjXeTN4O4bsqwfs5keM7iQ+EzclZawIi+f3wSLz/a\n",
       "BiunDbCM6H+Syxl2djFTMTIZ9ZIT35Zn/azJ8AJ7JnxGLmIdb6H/57LRI/SE+HnEOE4G9FB5bGdN\n",
       "Mrq3kQnz2Szr5+4FCV5gVuQLkxFtkI2HKOCqrWA0krUlIkbqCFudzbDQniBXApBcaio+ffV3aL/x\n",
       "gMfPGov3sc5k2Iw0MBOrfhCNYeMw1KXkjIwh++zp08ZatMEPAGPxO7m2xDEowKseP2ss3seijWEz\n",
       "EikxjvsXIWcXdOZ9xgg+S/UyNB9YjKhoqMzDC0345eYcDENvxu1nKzcW7xcKh8JmZBWXei4hQ3UP\n",
       "yBlBcfclMFocRnC+ZRRJHI0X4bUs7LAYcfyC/MyD/3DX2NJEcb2pHgubkbO4aQ3Fms4iHDSzQkZU\n",
       "PPccT9zbd3XWYaQO3234m15V3LW6vsUJ4Y6fMRavftAKbTBJfIJtYTNyGwgYiSbNyQZZ6SZ/LkY6\n",
       "8ZWc+gCQudNmZDttKSgtyfqBtFO0On71L3tPssDh9bk5GITN4BzfbbfajJC7+xtfRoIgldklIkbU\n",
       "/mvWnEGCwrQDK2f02xs2ke8XX6v2/awLQHMYIYFlKcHfflUe0A3zSNrrn4z3LNgLPL4hqTXDhdb4\n",
       "YcP1TTYjW/H7Ol9GgiCVtaeOihjxs8+ttztgvMOIJzbklSzoBT1b4QkQfCSjdOmHxanrnrzFyEp8\n",
       "q3X5MhIEqSwd+bVaRuykf4mZEzNS+hINkXvuT1fKCMb3olGS6CqIp/6kxUgsLS+lbUaCIBWZeZxz\n",
       "neo/qJJ2aTOSAX3OH0l2uzGCUr4ZIyOVngDBv4yyWL1fTGJnwWIkgYJizH9mDYJUVvkOcq5eX5YV\n",
       "+33ZlZJBd051X1IgfkzJjjUXNzVND4g1AZCKTBni21rv/deBd0JtTJfNyBsAiwIYCYBUZPVHYJRb\n",
       "JGczsgZ0Jr9+cHM+0eZmxAtRZp5Znt9PG/um6Oi82xj1jJCSATMSTde72gbapO68WZoNr7sZ8UDi\n",
       "60BvoSsbs1z3VOJ2N8JGKSPNNiNm0j1rvo1itbndgJSbEQ8E9/G30ACCaDX4uCxy/48YgRzKdRPv\n",
       "LJ2k7MyAgssxc8XzSQ8jBALt26/F0yGOGXtotED8JfhLFbn97xr1hVF018ANTwAsfK4vUlJKMJ98\n",
       "xZnZX3kZwRD1PA2HC9Liv9reiHWD+mbu2CJ3/ZDf2UzYwDhqIGY5Myv0oFnz4QkwJmOkrIrCzBhK\n",
       "l4cRDDEKGr5I0j9+BnQSfHBMjpXie7d6j225meg76Je+HWF6a5aYJdedqtWvpEIY28AhjDTgNL8f\n",
       "lkNdEXZ3d3cXzYyaynkYwZBIXsG7RNCB0WBZQWrOVpz8ZiPQ6T225Q7M0FwDyJ2ku8UsmU7F6lE3\n",
       "SI5L8awQJsxHCp5uwKUwDno1uMsaI/BSkusGdGajO1D6Gy3E03V9dvvyTtgAU0BHbHrMcife/Wjr\n",
       "Z05RZQ5XyohLzJLpVKxfPV98XIrnhDBhFp9yM6IfRqNkp4HiLPbmQSlxjESyqzal21Hk3XHG04AZ\n",
       "UVPQs3rufX2kPoV2vI5fHLc5Di43nflIO1YxI+BINzKdivUrH4unHYrnhDC/Ss8eqSVU7q85HXTc\n",
       "Xlm2zu6JeBiJv7P3elhehMf6B9JZzIh2JcrDJx3Q0RSDRsLyotYCy7NaS9m9WM25Wn1Hq2dEplNx\n",
       "/jpNXJpTXYsTwkS2ryjsobV3d+f9emh4rxdxWYruGhPzVJgLMFuxt1j3B3U3mqm6hLPn+UGM8GKW\n",
       "TKfi9KjPxO0biueEMHnbs+quYhzfVb3fpmHp9CLgiKn/fS7ERn6ztxCjbrWk5BvGO7t+x6b15KmI\n",
       "JjIYDXy/82KWTKfi9Kh18LXo3CmeE8KEduhf9VnJVx6zfSScrc27tvBuV4vKp7XT0ycUs6jupO62\n",
       "YDL9SitBnejoFO8IYcFtz1DVCXnpv2Y9CMUsqjstPcXCyfQrlBwoScFxKZ4KYb7np/8aNiOcguUq\n",
       "L7ekhWKWoztZz0TJ9CtYgLY1CkoDineEMN+WVugKltEsn0eiJaGYRXUnmxGZfkXys3fF+RnBUyGM\n",
       "Vm9Ca2gMm5H4sH+sEYhZjk5lMSLTrwBfy6OC0o3iqRBGqzdxyhq6Em4pKHJGBGKWo1NZjMj0qwS+\n",
       "lmjGpV9ZLw6eCmG0egOqcPEzf6iM+AQbzIhIzKI6lcWITL9qIOQkwaVfkZcyngphdvUm/H6sx1tq\n",
       "+9SVT87qGNGdnKdNGX8V+pUlhNnVm/CmrsFTV4kj/4YRrDuJGKlSvyJCGK3exB8UPiPwuHSLIk2e\n",
       "iO700LMzhf4q9CsihNHqTWSv1ODpTVQHSrOj49JURaI7VatfSYUwahdCDRhR5J/22C81brLW5ilw\n",
       "9pcCo8k2QsWMTDmBvziKFUcrIdoTVt7fMTeYkZPjF0cLyr84+geKt9byzTv7agAAAABJRU5ErkJg\n",
       "gg==\n",
       "\" style=\"display:inline;vertical-align:middle;\" /></a><br>"
      ],
      "text/plain": [
       "condition_with_true_on_left_reduction: forall_{m in Natural} [forall_{a, Q_{1}, Q_{2}, ..., Q_{m}} ({a if TRUE ,  Q_{1} and  Q_{2} and  ... and  Q_{m}. \\\\  = {a if Q_{1} and  Q_{2} and  ... and  Q_{m}.)]"
      ]
     },
     "execution_count": 13,
     "metadata": {},
     "output_type": "execute_result"
    }
   ],
   "source": [
    "condition_with_true_on_left_reduction = \\\n",
    "    Forall(m, Forall((a, Q_1_to_m), \n",
    "                     Equals(Conditional(a, (TRUE, And(Q_1_to_m))), \n",
    "                            Conditional(a, (Q_1_to_m))).with_wrap_before_operator()),\n",
    "           domain=Natural)"
   ]
  },
  {
   "cell_type": "code",
   "execution_count": 14,
   "metadata": {},
   "outputs": [
    {
     "data": {
      "text/html": [
       "<strong id=\"condition_with_true_on_right_reduction\"><a class=\"ProveItLink\" href=\"proofs/condition_with_true_on_right_reduction/thm_proof.ipynb\">condition_with_true_on_right_reduction</a> (conjecture without proof):<br></strong> <a class=\"ProveItLink\" href=\"../__pv_it/theorems/cdad28850fd836500b26f02bcd669b6d6a539ece0/theorem_expr.ipynb\"><img src=\"data:image/png;base64,iVBORw0KGgoAAAANSUhEUgAAAiEAAAAzBAMAAACzuMUNAAAAMFBMVEX///+IiIgiIiIQEBB2dnbu\n",
       "7u5ERETMzMzc3NwyMjK6urpmZmaYmJiqqqpUVFQAAAB6qHgnAAAAAXRSTlMAQObYZgAAAAlwSFlz\n",
       "AAAOxAAADsQBlSsOGwAACBRJREFUaN7lmwuIFGUcwP/7mJ3ZnZ27NcsHhV4XQj7KI6Wu8rG+qCh1\n",
       "tTvBCPaoPKFA9rzIQjy3ziRR7hbJkghdECFLaTG1Mu3uAg0hurWE6AHulRb20DO5vE6vbb5vHjvf\n",
       "zDeP3Y7ZDT90duY//9lv7jff9/1fswA2rbGxEW6YxjQ2xmyVpuevjVyPqysVxQoJRCCfb7LVnTKC\n",
       "/VZ1k8dPpCuFCDtJ3gm7S+Qceeh5SzdEe8pH6KuyEAmnyOOzGiDcLIDgN0PS/qMLf6d+waZDS7qL\n",
       "6dCof7AWtbuNqv5cOYi0J8nj+Zr9kLhafcadx/uPJKBKA8+fVXbeBLiguWYxvRtTfamdpl81rRxE\n",
       "bgdzIiCOl4vS3kp0Uw8WziyX6TBviBtfpmAYJtO7MdO3JvJ1zH0i4TorImL7TfrYjjaXCuLbfpU+\n",
       "gzVoce4vLENf0pcdM31rIsGM+0R8UUdE+KtouzShimtekD67kMh/VZV7Wfrdm+lbEwkNuk9kYoxC\n",
       "hDs3LoL2t8yBthl42nTie+pSn78QDeL1h/sL8xpSLz8DO2ndmOpbE4Fd7hMxrPAfi//3JAMDyg1J\n",
       "60gXXhh3q6twMCngAc0P46NB9fKd8D11+Jvp2xCRLJ+bRFj9+EUGl5kFfA0+WqMQmY7ujLkCzClJ\n",
       "rQ0Au09eTC5exyy8iO+dzYGX5nLr9Z0SiUfcJlKluzfugjgx+H7wRkkiV/CNXYeWmyS9XwBGoc9q\n",
       "fH1vNy8zrEqAJ0LpR6/vlEigxm0ivpxOsH6VKGyCeJokUos2j6cUN5IR95bjZ47umLkfqtMcHm0r\n",
       "xaMaSrCm13dKJDzoNpGNhqe1Bg/VXiCJXIJQFj5IKkSQv8VnJTt6APh6CMckIsg/O073z0j9Yy0T\n",
       "PCcTtkSY624TmZgEo62JZ+GCkCSIbMx+vs1fr4YaXjTBkM/FDodf7F6AdP14aKDNFmM3Bv0n93T7\n",
       "cp4c9gGtiMAct4k8DRQigYgwlccHzfgfcrzqI368dkpEetQswuiXYQl289eis2G0hgTER8/8DfIm\n",
       "nqLpvzoeqhN8VFLREInroix4SiaCZ/cPlkTsVJy1e2lEmL6HOsZiCzHjfNvcPslYPDM/DQmFCGbQ\n",
       "go3LzwunACuOgFV4YUVYWIRlKsgbb4aq3wet4BXnUa00SPYrg0nv3y+ViRyVTLsVETsVZ+mpazQi\n",
       "Jst+2pMsBOia9iyMA9gKrzntFOvfB2OgUyQj2KTHetMSkTY075osidipOHNHLhdBJPctUImsEVLA\n",
       "rV532GmnWL9fHCUnxanpt1v6IxKRYEwTP9OJ2Kk4asKwQTTaTJfPi9Zk0+55hhNd+QT48vl+p50i\n",
       "/VBOHN8dtwAss1GOZyQiYdEoBq1XVjsVZ5GvIeSCTjPK7B0mZ9bOLq5TQj9io1ydk23NPbW1M21s\n",
       "jY2Ko+YxBBjAffpfB96ItuommciHAKtsiNioOGr+Aajw5kvJRDqA0/nXrxxKh+doiZAqnnm3Fpyt\n",
       "m0d9RPt2o5iveCLY7UdEAjG/JhfFTmhOC7lFcFhLhFAJ7QSuXjnYlzRkT03EVf0VT6ROJiJEtKvm\n",
       "J6JrJPTwENUSIVSQUTyiGBARK2+0yzTx/4gIpETHVwmHPCgcEza8EyGIYBVo6HkYLYfIZvQq1kLk\n",
       "Fzb+qTSx9axh3q2gWQOLd4AaDq3Ajzix6DuSCFJh7mSRucB1gwXySZT79xtyMlSxf9Dqbsbv1QnK\n",
       "UMxSV1ZozxXCof0SEd7TRBBBKnyGRX8kzh/vkoMLZJODudDpo+R3S2Kd9b1q5b4N6HJrdsUs0yKX\n",
       "WXNQ/PIp/ghKRqnh0Knm5uaskGCiKYIIUvGlUUgNPvGLxcGyAWfuZiHnN+mDOPndktjWQ9MMIG3q\n",
       "x0kxSycvsZil80cyRDZADoeel8YIHIgYsgHxZOCE6M4HMqGYt1vOZT4He2EacCJNokni8PEvjp5R\n",
       "MzXCkFMiDopZenmJxSydFx/VElHCoQBOPaTBkzMQ8SU37o81iJb3xNi3ARFhotC+bdlL3TjGhAZ0\n",
       "jDaqWBgDDwjqesRed0wEbItZenmJxSx6pCePVDkc4lCuZe1OOSdCEAkdO/0YtGZha9/FWBIRYWeL\n",
       "fviE85y4xIgjoTXL1kNrkq0viFczKb7gp18rnohZMcsgL7GYRbazWWoOraG5OW2VQ0NXvcdE8KwR\n",
       "EKeMGFIu8shnpPmhiGuEqDesXjnZjojzYpZeXmoxi5L2LDqrGEKzqvPHGLTMzAKymNw/kyCY/1M+\n",
       "g5siZnKedNU49dKf9G49fnGhFg9GHs1358UsvbzUYhbZLpWUZ8WPPCjLsDnbntacMYo1KSqLFFZ7\n",
       "d1HFLEXeIOVdgS2xmEVJe7panTAP/TvegqKKWYo8AwdBdg5KKmaRLs5lt4kYKlia8PJIrKhiliIf\n",
       "wvFC6cUscvi7XsHi68zXkUCuqGKWIj8hEym1mEWGojVuEwkNWduaIopZqlxOXqO/pahiFtVldb0S\n",
       "LtVVzIkUUcxS5dJLl2QxC1emrItZAGo9S7/yu0rEwtggIsUUsxT5ZvyVZDELV6Zsilm05yO93lLe\n",
       "t64sfFa1mRWzsJzLcEmnvRPFLNqkLsNbV+GBUoiYFLOwfPO69TGnvRPFLGpH7hOB103PeEydJ7Ni\n",
       "FpbPzecdd04Usyjt/TK8vSnGgabe0bCpq2JSzDItcpk1u+LXXVAGIh7z3rb+UeYka3neAtf/UqCS\n",
       "2j5wTGTaCP7iKJitVCDsDsnvb1xmT+TG+MXRysIvjv4FVOzWArfS8wkAAAAASUVORK5CYII=\n",
       "\" style=\"display:inline;vertical-align:middle;\" /></a><br>"
      ],
      "text/plain": [
       "condition_with_true_on_right_reduction: forall_{m in Natural} [forall_{a, Q_{1}, Q_{2}, ..., Q_{m}} ({a if Q_{1} and  Q_{2} and  ... and  Q_{m} ,  TRUE. \\\\  = {a if Q_{1} and  Q_{2} and  ... and  Q_{m}.)]"
      ]
     },
     "execution_count": 14,
     "metadata": {},
     "output_type": "execute_result"
    }
   ],
   "source": [
    "condition_with_true_on_right_reduction = \\\n",
    "    Forall(m, Forall((a, Q_1_to_m), \n",
    "                          Equals(Conditional(a, (And(Q_1_to_m), TRUE)), \n",
    "                                 Conditional(a, (Q_1_to_m))).with_wrap_before_operator()),\n",
    "           domain=Natural)"
   ]
  },
  {
   "cell_type": "code",
   "execution_count": 15,
   "metadata": {},
   "outputs": [
    {
     "name": "stdout",
     "output_type": "stream",
     "text": [
      "Adding theorem condition_substitution to proveit.core_expr_types.conditionals theory\n",
      "condition_substitution expression notebook is being updated\n",
      "These theorems may now be imported from the theory package: proveit.core_expr_types.conditionals\n"
     ]
    }
   ],
   "source": [
    "%end theorems"
   ]
  },
  {
   "cell_type": "code",
   "execution_count": null,
   "metadata": {},
   "outputs": [],
   "source": []
  }
 ],
 "metadata": {
  "kernelspec": {
   "display_name": "Python 3",
   "language": "python",
   "name": "python3"
  },
  "language_info": {
   "codemirror_mode": {
    "name": "ipython",
    "version": 3
   },
   "file_extension": ".py",
   "mimetype": "text/x-python",
   "name": "python",
   "nbconvert_exporter": "python",
   "pygments_lexer": "ipython3",
   "version": "3.7.3"
  }
 },
 "nbformat": 4,
 "nbformat_minor": 1
}
