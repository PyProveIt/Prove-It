{
 "cells": [
  {
   "cell_type": "markdown",
   "metadata": {},
   "source": [
    "Axioms for the theory of <a class=\"ProveItLink\" href=\"theory.ipynb\">proveit.core_expr_types.lambda_maps</a>\n",
    "========"
   ]
  },
  {
   "cell_type": "code",
   "execution_count": 1,
   "metadata": {},
   "outputs": [],
   "source": [
    "import proveit\n",
    "# Prepare this notebook for defining the axioms of a theory:\n",
    "%axioms_notebook # Keep this at the top following 'import proveit'.\n",
    "from proveit import Function, Lambda, Conditional, Composition\n",
    "from proveit import i, a, b, c, f, g, m, x, y, z, B, Q, fx, fy, gy, gz\n",
    "from proveit.core_expr_types import (\n",
    "    a_1_to_i, b_1_to_i, c_1_to_i, \n",
    "    f__a_1_to_i, g__a_1_to_i, f__b_1_to_i, g__c_1_to_i,\n",
    "    A_1_to_m)\n",
    "#from proveit.core_expr_types.tuples import f_x\n",
    "from proveit.logic import Implies, Forall, Equals\n",
    "from proveit.numbers import NaturalPos"
   ]
  },
  {
   "cell_type": "code",
   "execution_count": 2,
   "metadata": {},
   "outputs": [
    {
     "name": "stdout",
     "output_type": "stream",
     "text": [
      "Defining axioms for theory 'proveit.core_expr_types.lambda_maps'\n",
      "Subsequent end-of-cell assignments will define axioms\n",
      "%end_axioms will finalize the definitions\n"
     ]
    }
   ],
   "source": [
    "%begin axioms"
   ]
  },
  {
   "cell_type": "markdown",
   "metadata": {},
   "source": [
    "**A `Lambda` map is as a `Lambda` map does.  Thus, `Lambda` maps are defined to be equal if they preform the same transformation under the pertinent conditions.  This is similar to the `proveit.logic.equality.substitution` axiom except that the substitution is performed within a `Lambda` map which requires a special rule due to scoping restriction.**"
   ]
  },
  {
   "cell_type": "code",
   "execution_count": 3,
   "metadata": {},
   "outputs": [
    {
     "data": {
      "text/html": [
       "<strong id=\"lambda_substitution\">lambda_substitution:</strong> <a class=\"ProveItLink\" href=\"../__pv_it/axioms/3c49699bfe0fdf7c4cdf0d0fee9127efa85d80570/axiom_expr.ipynb\"><img src=\"data:image/png;base64,iVBORw0KGgoAAAANSUhEUgAAAqkAAABMCAMAAAB57t7tAAAANlBMVEX///8WFhYNDQ2IiIgiIiIQ\n",
       "EBB2dnbu7u5ERETMzMzc3NwyMjK6urpmZmaYmJiqqqpUVFQAAABfIOpfAAAAAXRSTlMAQObYZgAA\n",
       "AAlwSFlzAAAOxAAADsQBlSsOGwAADglJREFUeNrtXQvXrRob7Rwh5ZL//2e/1YXINa3k/c4yxt69\n",
       "g7ImZjx4zLruC4HINcz3cplo9wv/9TD2+BTTb+T6TvZEIv4J95jG5l87/UKHzjRYmMXnrzF1vJ2H\n",
       "gDiQAvqe1H2vL0W/guWhx76DdbzVbpB7Ink7TMVegNtbVtkqAOJK9MOBgi8WoRJWjbmo5aiPTA0x\n",
       "dZ66GFOPIUHwh+tbIMMiQQh7oqu+N/xeEd7Aqq5lfcw8tMxUImmUqUwnTw8PbHgybSYChRtdN0z4\n",
       "ThHewbpfy5g6StEwU6dI5S7lJapTHYeHK5sZfRgUdMBudN3A2Z0ivIN1vxbabUPfLlNFpEvdyqve\n",
       "VvS0BQZNiwn7omsHiMuL8BbW7epn6oCTdALNMnXquwRT+d5PPD2wCXPw773R1YdUXl6Et7BuVz9T\n",
       "SXJYHGCrTPW8RM7cH/ZLgE/PFZj+AT7DfmZO9DgjMIbgRhPzjDQ3B5Sx0CwQACM/YY2jeRTrdg2M\n",
       "/jzViMKxVFth6ixxkqmMZI0c3+zAjPdHR1P4KeoQwBtNzFuiMXLAe6Xyo49kvREMAqPPLSMcbKxx\n",
       "NM9i3a4GUy3kMmV6y6lNpmIZHQ+28o6z+u/R0AtjDkqc6G3Zl61mAean+jQSMULzfJ0FZvYd2l8U\n",
       "kbQ7xUoX9WLtWKNQn8a6XYMzKjGJRNdFmmQqlyLN1LU7fX4TAFKj/d1otsb1y/BFADhZ10YiOxrx\n",
       "ku1x5GDWbhL0bDbCjjUK9Wms2zXcXHiCsaakEjXJ1MQYtJdXgOfnUxZTjQmVjl5HWLyvVIhT8xqJ\n",
       "y3+jvLyZaGV/jLLJ6l/edABtrFGoT2Ol8T51nFCcMRK2yFQs4y+0Ku/U8X2MwYgDt6j+WO8vhu80\n",
       "Rv9hdqLxOsKqajs1v5nIcUnrmzlQoH7e+Bm/ncrX6tdwN6xRqI9j3a4hO7VPbt8MJzxtMJVLlMVU\n",
       "JPZFVdyPnp/0x3orOXLncMyiIHCi8dp7zVMnRqNZcOdJVH1ylgHo5oBBp0YaPiQrcH2WW1j9UGth\n",
       "3a6BPpWmd2/AiRNtMHWWNIupI9zfXPaxrMg6PIzGWoCOpQKwaI7H851TZ8eS0GjCUtELC0TPVttO\n",
       "NT9WM1UrsSOrp6VOPP6K/HHkMGJNLoaS3dtorp/sWH1QM7G6f1zFul39TB2nHEZNDTIVJlDo8s7k\n",
       "MMTW8YYIw+9Wx8KlOlO2KAisIpDeN6HS0XgGiIwzIGbz9zsKK1G9RL2G2LPwH54cdO/eJ6eR9PPY\n",
       "MSfasXqhZmJ1EV7Eul0De1Q5hoa05y5NMDVlpjrlXbuQgeOlKAdTj9hR95iRLmi9UyB35Vv7VNqe\n",
       "3T5XS938wh02x0/DjmMg0ZMVdlHi7SfHvGn5xGJYDzu1Ctb9GuhTs4pjD7RNMFXI4RpTO7iYmZQf\n",
       "TMXIju0GqmJ9/+k7hXCXoDfnCjF39pKfz09EN787PI8DIYRhf6KvjJ4lx31kTvqbkGUxlBhTEA/W\n",
       "g6lVsO7XG4uKzN62bIKpLDGhcstLGRcArZWxMXX1zTNit/2sNZbA0f7PutM3EA1LWfrh7Do3nIs4\n",
       "oklufTIGHotGnf3BORuWnps+g+u48Shp50Pc4QlEsB5Q62BV1xtM5Xb/1QRTJykuMtUclPeRyMoC\n",
       "4Q64sZ17J+49t+Clijhgoyc6MFGNzmJz6iBy05Cs2tVKpS1hVdcbTCX2imoTTIWppTwUPI9DANy8\n",
       "ACm2qC8305d6rC47bgCeWwJuG/e8OUoDKKrZd7HuV9DDcqZi+zRqE0yV8r7XCc+Ofc3J+Beu0oI0\n",
       "xtTxW0e5f+H/KvSWUdgCU4W84BwxkF8TVg/4cVdL//QFNMZUIPPdTubf2P1GIP0LVJ2tJaEWmIpk\n",
       "9hm+ObycdaggVNZkGF97uPjnritGiL4+U5klHtUCU+dsOSueOL+6NUNlTQZ6Y5b9GtbLq0eovhIT\n",
       "ssbahanf0HxQTC3Ja5CZp4RHOKaZumoy4AH2YaML3uognOevKUcYUhcvYr2+ztnz+kztT0z9huaD\n",
       "YmpJXlMuU/v0qUCtyTBF8pzYvSo8P39FOcKQungT63WmCljbVAXW0v/C1G9oPiimluTVy7zjpjzq\n",
       "+b7Xvdp3jm17yZtj7vn5K8oRhtTFm1gL9o7uvjOXA7dWL1c79QuaD9pOLcgLZjI1fn56r3t1NiKy\n",
       "mUBvbjS4z4e6G3d7yXr2RawFTKVyfJ2pX9B80EwtyAvKvN3mnLNWSpMBRcw7dHMe6z5vHLy2MLqO\n",
       "Wuazb2It2Y+fKk+qhMvUL2g+HHP/63lBmWWs9/GK2jUBkKpVAGYRqvFwWl6LnZ83JsY2M048saQu\n",
       "XsVawlQh8etMva/5cDD1el4yi6kk4cay1f3eu2H5sUKwf7iKpWXNp4/nPcoRNjfF2Vo3h483sR5M\n",
       "DUld+DKr6/VCPUy1NB9wrF5Qkqkn/QjMkn7AMmvWMCdOEm91v58g3V7/5cCeq8ig0wr1GI68fcoR\n",
       "p14U2K+sdQD0TaxF3nhD3eV/Ynku7Sv/puaDfV5j7NmSwPezdqH5H+Y6U1s/YuA0tR3CeU4TwDmH\n",
       "qUqTYW3yz0zNp8ig0kr1GNTzZp3qP//9xzos3EvrjIV1MutNrEVM5XXnVJibfdyuueXRfCBgHpYj\n",
       "HmJe/JK77exCkKnGHpWdV4ZtIyXNecH4Baauuh507audfUCdVqjHYOStx6lgn0rtz8FYE5w3sRYx\n",
       "FUv+ep9qaD6ot5Ht1SI+CUwP+xlMNfMSMzSWqzgAHBSO/iD1Pluj/5ojWwvqtL5OK9NjOJ73KkfY\n",
       "v0ZOmwKm1MWrWEvs1PS4VoOpWvNhL9KxQyiIoCNYmIoYY/3nH00wVefV2ZoKgJ2a6gpTh5TgzVb3\n",
       "+2HepU33L1ycFRnMtBI9Bv28XznC5tp5ow5aZ52CWDWex7CWnRqpa6gSz4zq0HzYi2QcwxHkM/oL\n",
       "eqFPHY1XjzFjNoH9mrVZq1RwyGLqvl60OAcOzOrvtJ6CkVakx6Ce9ytH0Nh6qiV1EcZ6/PpjWMuY\n",
       "iqq6vFMvU5Xmw14kyk2mfvgJhnymav2IdUJ1/NRSe74xPIepOOkbsNW91mRAasnBo8ig0wr1GNTz\n",
       "SeUIRM5TcavOglg1nsewljGVS/o+U+0xiU/DGsTGVIzUHCmLqSYLj7ZCLKAX0WcwlSTX8va6dxwv\n",
       "I4oMN/UYripHOB8xDGN18XwZaxlTSdUV1QRTtyIRZPWpi9BT7nrqObf1gtbZ1ae39ZnkU0b5RdKW\n",
       "3eve8RYJKzLc1WPIV47YZ5cnqYsIVgfPt7GWMRXLml4qwvGl8hXpWLDevoUK5tTb5mXq3odujm4M\n",
       "gMnHySHDQ4Un572q7u3T8TFFhrt6DPnKEVsP6khdBLG6eL6NtfAcvqw5+eeOf6qvSKM6WUd2pcsy\n",
       "pupeQzjGgGHWZrypyUUqXfdBTYZIC9/TYxjy1sNdqYsgVtA9jbWUqUNFpgLH59//VqLFTs0uj5ep\n",
       "g1BzK4rX+QPwelixjDcVJXcQtHpFbU0GcGPj5iWsxYoRsObng+zzdY+eo0JANQRfemmOGE4jCsxF\n",
       "5BvneH/hbMHUXFBl1ljbwok/nnGKev6JVzTB1JofDxyaO+9PJfwx9cdUz5pQaxoqOWo/v9H/vzf6\n",
       "w+Z0qTqZfhglb/mTyhR/RZjilRmVLazXBFP79CYdyF5P/UvKFH9HmEIxteJ66tigfuqc3k7NX/kX\n",
       "qKscQKnX5ntQS5lac4+K2hPtJpgK0hUgkt3uSZmiZpjKbOgXoRYyFcuK79bpg1RNMJWml6mSLv9n\n",
       "ZYqagZf1NC9CLWRqVQ+V2Xb1aOQrP2kUmV5/HexeCPnKFNZT70EtZKqQFQ3rvsHvUX1AJZ/upyym\n",
       "iumN5s9XpjATX4RayFRQ8cgfPq2yt8FUlJ5SzXmnUw7vewQAD83CYmlZeE/P5ypTLB9qA6P6YlMO\n",
       "1LtIA1ALmVpz/0WcvEHaYCpN+6jw1NK/pUzRjctxOub3J4ilZS2f6OevKlOgaTm7M9gdcQTOXaRB\n",
       "qIVMhRVdqU5maiNMTX44VX3BPslU9cnz9fiwX+1BpxWqPRx5X1Wm2HQi1KwkA+pdpEGoZUwda06o\n",
       "zpRohKksfUD4mjKF6oF9ag8qrVTtwe3dM5Up1iLomkpDvYs0DLX0GFU9M5Wch9lGmErTC3UMXmCq\n",
       "MUw5Z+h1WqHag2cIzFOm2IYFoO5NQ72LNAy1jKlzxV1/4Ai/tsHUDsI0mWn26G9qfZ2b/0grU3s4\n",
       "nr+qTLF1SVrxIAn1LtII1DKm1hz8J9i1yVSQ3vrvWQZTldrDNluhnU+Z4kgrU3vYn7+sTLHW9aGY\n",
       "E4YaQZoF9RC2CEEtlKWq589GnEG2FaZ2t2f/ljLFNl9ej9s7yhRGWlDtISYAoZ6/rEyxqkPOuhRB\n",
       "qBGkMVyeUgShFjG1r+ieMjuN3QxT0welstTTd7WHDiHOt2/3OsoURlpY7cGj++A+f1WZYv1ktO50\n",
       "w1AjSGPCFC7SINQSptKqy/5z1ypTM5wf4p3qX1Cm6KzvOlwQpjiQZkF17vmGMMVQsUv1bIY1w9SU\n",
       "jP/ayijN1HaVKciyImoqa+cLUxhIs6A693xBmILWPHUBWdcuU7dV6viP5Hw5rVllihniDlvSHNnC\n",
       "FAfSLKjuPV8QpugrOqf4eq2GmCrSWYAhzdRmlSlWK9ViyFPCFOF7yoUpan6N0qso3BBTcza4I1/4\n",
       "/YvKFH9HmILWdPyah65tpuZ8mnOqfPLoF7bmnSoaqdTr7vs9pq7h3hBBMj7NOZAfb6oHXJOo7ppf\n",
       "Lw87/X5Z+BpuCsHS8ceK32vhkGjjFu/+B4+mvazJWk7RAAAAAElFTkSuQmCC\n",
       "\" style=\"display:inline;vertical-align:middle;\" /></a><br>"
      ],
      "text/plain": [
       "lambda_substitution: forall_{i in NaturalPos} [forall_{f, g} ([forall_{a_{1}, a_{2}, ..., a_{i}} (f(a_{1}, a_{2}, ..., a_{i}) = g(a_{1}, a_{2}, ..., a_{i}))] =>  \\\\ ([(b_{1}, b_{2}, ..., b_{i}) -> f(b_{1}, b_{2}, ..., b_{i})] =  \\\\ [(c_{1}, c_{2}, ..., c_{i}) -> g(c_{1}, c_{2}, ..., c_{i})]))]"
      ]
     },
     "execution_count": 3,
     "metadata": {},
     "output_type": "execute_result"
    }
   ],
   "source": [
    "lambda_substitution = \\\n",
    "    Forall(i, Forall((f, g), \n",
    "                     Implies(Forall(a_1_to_i, \n",
    "                                    Equals(f__a_1_to_i, \n",
    "                                           g__a_1_to_i)),\n",
    "                             Equals(Lambda(b_1_to_i, f__b_1_to_i),\n",
    "                                    Lambda(c_1_to_i, g__c_1_to_i)) \\\n",
    "                                      .with_wrap_after_operator()).with_wrap_after_operator()),\n",
    "          domain=NaturalPos)"
   ]
  },
  {
   "cell_type": "markdown",
   "metadata": {},
   "source": [
    "***The unary composition of a single map is just that map.***"
   ]
  },
  {
   "cell_type": "code",
   "execution_count": 4,
   "metadata": {},
   "outputs": [
    {
     "data": {
      "text/html": [
       "<strong id=\"unary_composition\">unary_composition:</strong> <a class=\"ProveItLink\" href=\"../__pv_it/axioms/8b3854b80176019259de5ebac7679685a6bf725b0/axiom_expr.ipynb\"><img src=\"data:image/png;base64,iVBORw0KGgoAAAANSUhEUgAAAToAAAAWCAMAAABnhaCXAAAANlBMVEX///8WFhYNDQ2IiIgiIiIQ\n",
       "EBB2dnbu7u5ERETMzMzc3NwyMjK6urpmZmaYmJiqqqpUVFQAAABfIOpfAAAAAXRSTlMAQObYZgAA\n",
       "AAlwSFlzAAAOxAAADsQBlSsOGwAAA+tJREFUWMPtWdmS5CgM9Aw35vL//+xgLiPAmHLVvi0R3QRV\n",
       "dGZKCCHobfu8Sf+DMBbXJ3AUJnzb5Hi4BN3I+YUACZDfGois/0UV/LAehwlfthZDIdhPWyvuBwIK\n",
       "b8COI1e+tWYJ09Jt7ro44UXTlLJbDGRg/x+4ruLvBWTeiB1GutDsS2HI9m3uujTh80adIPYeY2ew\n",
       "/7nrKv6RgMSbsM+RyGEn+drSmAfXafPSdcQqzu4xjIb9z11X8Y8EJN6EHUZ5FelahiLbg+vIUibp\n",
       "I1wdbJtiEAb7r1zXC6j5hwIib8Y+RyY5eG2f2f3BdfYOBxhs+9ChuCNpdoyB/aeuexBQ8Y8FRN6M\n",
       "HUYEn42sJXdNgTqNMRdAbZ7AEHJM0CuWMcDB7XZwBDs9xaBuA/2D6xgKu465JQGAPwuAEJE3GxpG\n",
       "OtjO2ZLrdnDQ7N4osavadXmCl4Ec8r4da7VdZj1QRwIxTAoFc4WExlVz0HV0s+e2M8eigIo/C4AQ\n",
       "kTcbGkbS5V/R1XqW6LGt1ZlyGhXXpQlGnpRsc+ZmmVGzVvIQLUmDYVMCsmQl6oSNLnd8TUDNnwQ0\n",
       "EJE3GxpHJ8aVHrhRk1KcqMp1afnB36cJJ4QGGePvHwzacYCMZI+OpMEQB+znrvOayBlHBK0JqPmT\n",
       "gAYi8mZD48ii+pA4pjsXuo6VGqd13QZUDxZd7eo2S48xFIH90zERjkxxBdNcQM1fBAAIBaIuqdg3\n",
       "kxVaR67MbhAyaLJhUfhSjjZs4PUbjrGxctFWttz1JBDDJgSLl3JdDFhEtjUBNX8RACAib9mwOJV0\n",
       "F4650ifSDeLJgGp1nEpmsaxdFycwrjZHQqYdK++uLnWIjjGyMsPXoi5Ir/TPBYAtkq0EEJG3HBNR\n",
       "hSQXgdZX4mR9EVUqhFRU852CSjFNsIdg2putrjpbTcsqWSeeMUYuWTRdc512Z9SaNQGAv1gJIDS4\n",
       "vGcV7joYeOEKx+/RLI7ADyVxnMC038xWm7sbCm1PIpClxxhYwf7JdcxRpA+5JgDwFysBROSl9ypI\n",
       "waR+YUSXktNL2P1F7N1TmXYDEhgXGPZLtwm6v+KvBWSIxJuwBypYOGAZDSeGD0c3vwUP1C5cz7vb\n",
       "nQvFdX/VH7w7rDwvxKLTm8yIfcWfBAAI+O4xUBHDLL6++A2z9y+LXD681/GP31Axbx95eoz8sLPy\n",
       "wBPEYC/d0Zf8UUANkXmjoSMVeb1tu32vuOQPrmP8U9cZpOWIZOTMlYUJYqxHVW/5o4AaIvOm07tT\n",
       "wW06MBQLqRKNUoVEoYKE/5uoqtg44cvWYuRHIrQS0vQH/5toBCTeZOhABUXpD8wZk4Zqtv3f7to/\n",
       "FoAqTTWI4SQAAAAASUVORK5CYII=\n",
       "\" style=\"display:inline;vertical-align:middle;\" /></a><br>"
      ],
      "text/plain": [
       "unary_composition: forall_{f, g} ([o](x -> f(x)) = [y -> f(y)])"
      ]
     },
     "execution_count": 4,
     "metadata": {},
     "output_type": "execute_result"
    }
   ],
   "source": [
    "unary_composition = \\\n",
    "    Forall((f, g), Equals(Composition(Lambda(x, fx)),\n",
    "                          Lambda(y, fy)))"
   ]
  },
  {
   "cell_type": "markdown",
   "metadata": {},
   "source": [
    "***Define a binary composition.***"
   ]
  },
  {
   "cell_type": "code",
   "execution_count": 5,
   "metadata": {},
   "outputs": [
    {
     "data": {
      "text/html": [
       "<strong id=\"binary_composition\">binary_composition:</strong> <a class=\"ProveItLink\" href=\"../__pv_it/axioms/be5d2c4a66a3fda88591613d8245792d8318b5ac0/axiom_expr.ipynb\"><img src=\"data:image/png;base64,iVBORw0KGgoAAAANSUhEUgAAAb0AAAAWCAMAAABjXLLvAAAANlBMVEX///8WFhYNDQ2IiIgiIiIQ\n",
       "EBB2dnbu7u5ERETMzMzc3NwyMjK6urpmZmaYmJiqqqpUVFQAAABfIOpfAAAAAXRSTlMAQObYZgAA\n",
       "AAlwSFlzAAAOxAAADsQBlSsOGwAABNhJREFUaN7tWtm2nCoQNWGe8f9/NoqKFBRCT2vdh8tDOG23\n",
       "e6hiKDHL8nrTRU8oVcvHTaMfn7C/wKv7nHrm/q9Y1+Or+n2JmOpQ9Nx+nruMeDVLzj/66J/zVqSA\n",
       "M394at+wXjvHrmYxiMSYfxX8FGHgZf+uBce5qBEL+f7n2WtIASfxP8ves3PsahbTSnRZg5majMKA\n",
       "/k0LPCoWKsSyGfHj7CGkgNOIH2Vv5By7msU0EtU1+bScGzoe9G9GkQUrRYVYNu9+nD2EFHCeH76f\n",
       "vZFz7GoW00q8EsvDHDvsZyyQZlLbVbSIkEZ8mj2iZ2x0OZn4PHuIhLFz7GoW00j0Z6rN3HZhYN+x\n",
       "AKyHZhxz2iJWi4V/I3sD1mVACjiNfyt7Iwlj59jVLKaVyOjeGJ/cc2F/AAlColD8nr4U3ESrhSAy\n",
       "Gl2NCDF4rAPkKJUKhE6QtMiIOMW6FQOEaA9IIQLg5HEye2ov4C/cgQTcOSoNAGcxrUSXYiLFVPau\n",
       "UWBAVbgJIpFsAcZlh3pLXUmLCDG8qbJntqwqY8vQ8SXsq4xfp1j5hqiZBKQQAXB6U46bu8Uqe8IQ\n",
       "LnmcNI46R6UB4Cymlajj9c9xl3MPiwYNsE9AXu8REEv0nUFH4NjQq2oQK4wU1SJ73MNybPtGhSPV\n",
       "Uc6whrThXME7SCsEwBnY3NzTO+z9DPBsHHWOSoPAWQwicWe44yS9fThCYBb26b799w4s13//UNDW\n",
       "tdwkwtoiVhhqhdk7v8nB2L7Z/mS7Y0ZmWFlMqLokrRAAp1qn9z1xJ29gHHWOSoPAWQwiMZCyZlkf\n",
       "l1A0ewuIITIErbG9rbtUW2DYau6dlbERZehSAafu4fzAqtZ9SBNWkQIEwGnZbPY0mTaOOu9IK4Gz\n",
       "GEyiWfz1wxDZXXt4QjyZWDlTGLahIzoLiKqefWVEECFGoDB7JOnQBoQuzVXClglWn4Z2Jr5IAQLg\n",
       "DHRu31usL0vNZ+Oo8460EjiLwSTycLP4e6MlrqLbSQjsU+0n7RJZKgJwE/UpDpinB1KNccgoqhbJ\n",
       "tQhUg9AlcYXCB9ZUmIjV1zZKBMDp5dzcCwGcNz4bx5z3pJXAWQwmUbM7As7dO6xoH3uu6ir3dl/M\n",
       "lXBb5O39vG+fHns02AsOpBrDNaeoXppifznmXtwnrJ9hFfsAj3lXuOQDBMDp+FT2lOSS8Ptlw6Nx\n",
       "1HlHGgDOYlCJ8a5TZA5GKkjXavQoCvs099y2rgXne4c1vKqCwNZ9ItUY1E48rYvIiVv1FKuNhN9P\n",
       "NJd8gAA4qZ3KHt9LP2PnjKPOO9IAcBYzksgyI99Gjmr27muYnf07h30uoohgkNLZc05u5omNw0gv\n",
       "BMCp6S/OOfvOcWkwGmOJIs1gwVMBs03K2DsxHZ4j986oYnrwxs5g25Pa5+ztYRds6nhWRVidnqQA\n",
       "AXA6//XsdZx3pKHn1iOJx2Q7XmJsi5lpX1NKXfYvZ4/K5g2IbNa+633Hc/boJi7OHfBFJvbDi5q0\n",
       "RACcMy9cXrXecd6RhkRjLPFKfKjX0Xt2yrJ/OXueON1BbPU/Zy9sWJP0aWuxDWmJADil/n72Os47\n",
       "0rBsDiTKcNYvVqTdk2CbyvUQmXr+lf/cQdA3K4SyfvY+5q1IASeZeVH9DeuajK9mMSOJnJz3+X1m\n",
       "eu7E8n/7D7d/H7c9IA1dN00AAAAASUVORK5CYII=\n",
       "\" style=\"display:inline;vertical-align:middle;\" /></a><br>"
      ],
      "text/plain": [
       "binary_composition: forall_{f, g} (([x -> f(x)] o [y -> g(y)]) = [z -> f(g(z))])"
      ]
     },
     "execution_count": 5,
     "metadata": {},
     "output_type": "execute_result"
    }
   ],
   "source": [
    "binary_composition = \\\n",
    "    Forall((f, g), Equals(Composition(Lambda(x, fx), Lambda(y, gy)),\n",
    "                          Lambda(z, Function(f, gz))))"
   ]
  },
  {
   "cell_type": "markdown",
   "metadata": {},
   "source": [
    "***Define an n-ary composition.***"
   ]
  },
  {
   "cell_type": "code",
   "execution_count": 6,
   "metadata": {},
   "outputs": [
    {
     "data": {
      "text/html": [
       "<strong id=\"multi_composition_def\">multi_composition_def:</strong> <a class=\"ProveItLink\" href=\"../__pv_it/axioms/c7a10944147f9a5caf5940aee8d1908a0bb3128a0/axiom_expr.ipynb\"><img src=\"data:image/png;base64,iVBORw0KGgoAAAANSUhEUgAAAhkAAAAzBAMAAADInAfBAAAAMFBMVEX///+IiIgiIiIQEBB2dnbu\n",
       "7u5ERETMzMzc3NwyMjK6urpmZmaYmJiqqqpUVFQAAAB6qHgnAAAAAXRSTlMAQObYZgAAAAlwSFlz\n",
       "AAAOxAAADsQBlSsOGwAAB4pJREFUaN7dW21sFEUYfvfutrt3t9teQ2wwEmhqNMaPWA0IEqgXUxJM\n",
       "pBSlJEYNxY+CMdqzNRpitCcIiX9of4AhCHKEGP0B0kDFSBEOjTWISS9ITDAmHBhjiIYW01JKgXNm\n",
       "dvd2Z3b2bohdtjLJ7e3OPLs3++z7zrzzPnsAQqWlpQVu8SK3tDQLQh8sTEziD1ekphILL5udKhRa\n",
       "BU+5d1I78Dd9mL4pd+35Kx2WSWiBsFGZpA6lHPn6kItVe8SvWxq7y6tBrw2UjeP04SnjaycXGx0W\n",
       "v64HdqBw4cJHKZCyXuc1BcmGOo/2W+OJ6gUu+MwNsOGFfQSZ4xjAFq/zQtkA2QglqMO40Zf4ENex\n",
       "j1wWv7AHVr0IEEOTwAlPV5kTIBvf0Ydh42vxUt5EE/lgTPi6XlgNVWuIkbDnBPpxgGzMpg9PGw8w\n",
       "MSvHwb4vXRO+rhe2EjlQFHln1HPg2JcOjA1plD7uMxwFztidjdetNvd69aucWsrRuFhc9t9tWFu4\n",
       "FeRzaDeS9xx+84GxEWI6tZ1s90KXPe/ugLUZshPLKSPuWqrwsfgWc8o2stO1qvo8ZlrrIeSRQvdB\n",
       "Hw2MjS5mfHjAeLDQjXr4HJlfIllroomDeh1gedMfVC01WDBYuzwJ8AzZmZUGfQG+53rPcPRiYGz8\n",
       "zhzPJ+7zav9QKyjVJBCKoo8RLtf0H7mEmdpP1VIWwGDtgjiqIOPmi+iDh2jFe7J+ITA2GnhsLAOo\n",
       "qrXCwmizGRzIaC7+B+AKdKcctTQbDNYuW4xGAGwxg6g15mkbMJgOiA3lKnA8pReNJ/UWG1LCDLLj\n",
       "6HMnwPeEjWItPSYz2BM/VOdnkHG12gz2yQ8OZcyLc8cNWJkNiA2JDZFW4REwa8TV5pLhpQ0nycPa\n",
       "YwXsjztr6UJj5R8XIOObSdaki5+/x/pBZbz0zYbzAbFRUc9ZJazHDZeLbGivLCIxCIa2o3tV7nLU\n",
       "rkSmIOO7IxsGqy7rgTFz0h7YTBwlilp2Y2eKJ707VWuyQVj5TYANMWDZEmYfQAfAisIW0NvHk/Zy\n",
       "kowE7ePN8EthM8BGZxQZQl4F94G1YbCVCaXenKbM2Kv9+oXzr5ETM95h7LDJxiH8vVWADTFg2bKy\n",
       "l40/UpzFNb3Q6FWFUyDhlNSqDnOzSeu8z9KumGy8h3+uVYANMWD5cCPB9qS3HBsb335HNEcH3cg6\n",
       "tNZeXtPhEkP7RZMNPAtFcgJsiAHLL7tdl1hjG8ETIwnOKY8VCsKX/wKiafUsj7xST1KeMNnQskYI\n",
       "U5YNMWDZMuiy4hU3JREIFaW87bo1pzxcVzdbaE4RApYts1ydUhM3hY3ppRovWWx8xQt4eWwUgU47\n",
       "lPl4bz9f2gxTsDxqsbEJVP5SN8KwYQHluY6Gp7nDNwWBtyYaDxZhR6ckG3UWGxXNEWYiXteX0RqM\n",
       "WNfJhgWMOJMqS7njKgUBrRakYsw1NBXJwDG9wYaecI6Nysy2jJ5fBF+62bCAnz1k18c6uU7vhKAA\n",
       "qBe04f8JG9BzzFHdj0xaPxaHpJsNC5j4xLHqiHK9zAlBEVEOnsqW8JQ0+KIwqfzqdElPgSUoiNcO\n",
       "vzFTGjBFB/3dzxPJSP/+/kM0G0vI0lmCrx23HecpOhQERUQzTvxpu5arN1hd8kNhivHnql0lR1FY\n",
       "j5NOu7PhvJQ35n49tehXnm2sJ3bwGUwrrhxiKTQg7L2DXQAQiF2+Bfkve4Z1DbunwCeFaQbdVEpl\n",
       "aiiyUYn6t+F2qEqhRd4eg4241Mpho5LcSF/jULNy0mAj3tg0CvUy21sMcRwiKrozntEXTuT5ozBF\n",
       "GacsoTJN0Cv6s9AJoRwcb2try+kpOdnDYcP0Apx7CRk/lAB1DNJKPesoCKJ989OhU8adLwTYV+Tg\n",
       "DGtIWF3yR2HS6OVKCZVJHqHZmAs10K3Am4ZtwN6EO94wCrKeqhxmQ06SJA2aSysysBwfmhsDotfA\n",
       "fD2Ja9RRkO3FdxdrqGHwTWGaQy8PvVWm4qrN5G0YWcdA3MirahmQ8h7ZnngDyEe3YTaUhXAgD8+O\n",
       "Z3CQ2plT5kFnGm9yJmS13BPPYdTxkcaDdlRSxa4vT4NvCtN2qq2EyqRfo9iI5WErbLoNVJxS7Nhq\n",
       "5na8c1/YU3TreTQjQ7Jvw9qr1ZMhzUYVz2QniD7wTWEyxHcBlclIT7ozgcvb2jLlM4HKtCUAn5oH\n",
       "Owu1ECtan7Un56VM5XQbVXxCbCZwO/imMJFXI/gqE7jM5j/mRZ0Gp3H23CjSzgiPJG3nk8L0M96I\n",
       "qExGejIIBYEdBOaDbwpTF4mgBVSm7kRAbHDVJZ8Upt14I6IyBaYuwQEvT5l8hekkruSrTHQ5B0Gx\n",
       "sY8ZBleBbwrTAMkACqhMwanSISbgaALfFCZRlUkL7o0FdlLpAN8UJmevS6lM5islU+FNJ6wu+aMw\n",
       "qdwrcVSmAN90gkF6nYDXVv4oTPEst9mtMr0OwbERZfx2DfikMG3k54Nc9xwbDZANhX57lmSYfFGY\n",
       "1nBr3SpTKBcgG1DDPKyEPwqTxB9o3CpToG9Ws2/dB11iPTfKxv2T+m+dHVOKjbXG8Cy3LBNl41b+\n",
       "t4658MH/1vkXb0qZmwlw4wIAAAAASUVORK5CYII=\n",
       "\" style=\"display:inline;vertical-align:middle;\" /></a><br>"
      ],
      "text/plain": [
       "multi_composition_def: forall_{m in NaturalPos} [forall_{A_{1}, A_{2}, ..., A_{m}, B} ((A_{1} o  A_{2} o  ... o  A_{m} o B) =  \\\\ ((A_{1} o  A_{2} o  ... o  A_{m}) o B))]"
      ]
     },
     "execution_count": 6,
     "metadata": {},
     "output_type": "execute_result"
    }
   ],
   "source": [
    "multi_composition_def = \\\n",
    "    Forall(m, Forall((A_1_to_m, B), \n",
    "                     Equals(Composition(A_1_to_m, B), \n",
    "                            Composition(Composition(A_1_to_m), B)).with_wrap_after_operator()),\n",
    "           domain=NaturalPos)"
   ]
  },
  {
   "cell_type": "code",
   "execution_count": 7,
   "metadata": {},
   "outputs": [
    {
     "name": "stdout",
     "output_type": "stream",
     "text": [
      "Modifying axiom unary_composition in proveit.core_expr_types.lambda_maps theory\n",
      "Modifying axiom binary_composition in proveit.core_expr_types.lambda_maps theory\n",
      "Modifying axiom multi_composition_def in proveit.core_expr_types.lambda_maps theory\n",
      "Removing axiom unary_composition from proveit.core_expr_types.lambda_maps theory\n",
      "Removing axiom binary_composition from proveit.core_expr_types.lambda_maps theory\n",
      "Removing axiom multi_composition_def from proveit.core_expr_types.lambda_maps theory\n",
      "unary_composition expression notebook is being updated\n",
      "binary_composition expression notebook is being updated\n",
      "multi_composition_def expression notebook is being updated\n",
      "These axioms may now be imported from the theory package: proveit.core_expr_types.lambda_maps\n"
     ]
    }
   ],
   "source": [
    "%end axioms"
   ]
  },
  {
   "cell_type": "code",
   "execution_count": null,
   "metadata": {},
   "outputs": [],
   "source": []
  }
 ],
 "metadata": {
  "kernelspec": {
   "display_name": "Python 3",
   "language": "python",
   "name": "python3"
  },
  "language_info": {
   "codemirror_mode": {
    "name": "ipython",
    "version": 3
   },
   "file_extension": ".py",
   "mimetype": "text/x-python",
   "name": "python",
   "nbconvert_exporter": "python",
   "pygments_lexer": "ipython3",
   "version": "3.7.3"
  }
 },
 "nbformat": 4,
 "nbformat_minor": 1
}
