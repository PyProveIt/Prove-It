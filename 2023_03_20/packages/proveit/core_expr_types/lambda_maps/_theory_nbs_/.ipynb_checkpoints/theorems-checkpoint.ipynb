{
 "cells": [
  {
   "cell_type": "markdown",
   "metadata": {},
   "source": [
    "Theorems (or conjectures) for the theory of <a class=\"ProveItLink\" href=\"theory.ipynb\">proveit.core_expr_types.lambda_maps</a>\n",
    "========"
   ]
  },
  {
   "cell_type": "code",
   "execution_count": 1,
   "metadata": {},
   "outputs": [],
   "source": [
    "import proveit\n",
    "# Prepare this notebook for defining the theorems of a theory:\n",
    "%theorems_notebook # Keep this at the top following 'import proveit'.\n",
    "from proveit import Conditional, Lambda\n",
    "from proveit import i, a, b, c, f, g, Q\n",
    "from proveit.core_expr_types import (\n",
    "    a_1_to_i, b_1_to_i, c_1_to_i, \n",
    "    f__a_1_to_i, g__a_1_to_i, f__b_1_to_i, g__c_1_to_i,\n",
    "    Q__a_1_to_i, Q__b_1_to_i, Q__c_1_to_i)\n",
    "from proveit.logic import Forall, Implies, Equals\n",
    "from proveit.numbers import NaturalPos"
   ]
  },
  {
   "cell_type": "code",
   "execution_count": 2,
   "metadata": {},
   "outputs": [
    {
     "name": "stdout",
     "output_type": "stream",
     "text": [
      "Defining theorems for theory 'proveit.core_expr_types.lambda_maps'\n",
      "Subsequent end-of-cell assignments will define theorems\n",
      "'%end theorems' will finalize the definitions\n"
     ]
    }
   ],
   "source": [
    "%begin theorems"
   ]
  },
  {
   "cell_type": "code",
   "execution_count": 3,
   "metadata": {},
   "outputs": [
    {
     "data": {
      "text/html": [
       "<strong id=\"general_lambda_substitution\"><a class=\"ProveItLink\" href=\"proofs/general_lambda_substitution/thm_proof.ipynb\">general_lambda_substitution</a> (conjecture without proof):<br></strong> <a class=\"ProveItLink\" href=\"../__pv_it/theorems/c2d40e2684ec2846cbac36f60fcb96d5b5e05d360/theorem_expr.ipynb\"><img src=\"data:image/png;base64,iVBORw0KGgoAAAANSUhEUgAAAzoAAABMCAMAAACS/DLHAAAAQlBMVEX///+Dg4MWFhYNDQ2urq7O\n",
       "zs6/v7+IiIgiIiIQEBB2dnbu7u5ERETMzMzc3NwyMjK6urpmZmaYmJiqqqpUVFQAAABKr/meAAAA\n",
       "AXRSTlMAQObYZgAAAAlwSFlzAAAOxAAADsQBlSsOGwAAEVlJREFUeNrtXQvbtJwabR+FDkL//6/u\n",
       "qRA53almzLPHdX3PvB+lFRa3G6um+cIg27Ydml/4BXhArzYjagPVz2uQN2c7snjSryX8wvnAecFN\n",
       "Q0sPMe3W3u+hDuGvwO59zylBxf8r6gwn4z8C5om7boI6XKNOQ6THwFeQN1HngaIRmP6osxoa4lz8\n",
       "s4GhG1/hPVB3yGXUaXDoNl4tdShOveZCnb0vEPwPM0cQayAmhIbi38pkfukVPgHVQC6kDgu173qp\n",
       "I5MDy5I4GQNx/MMeAzralkOPRSD+vWGkF17hM1D1byF1Gtl9EXX6meWo0+thZ+j+8KAzWbWNBeto\n",
       "IP7Nc+3pwit8Bqr5LUQyzOJ7qDOme6rR7kuI+MPUwbbdQIPxb4dEi1/hU1DVb4w6Xe6NuvZrqCPS\n",
       "g85GHV0Qf9lnIGx7rQ3Hv90M4sWv8Cmo6jdGnb7LtnD0LdQZ2yZPnQa3S8DkD1NnMi/HJW7l5MUP\n",
       "kqAh5vVKJgJtFT8Lkl/AEwShgZ+BegPWBFT1GzXYeK4NdfhLqBMgeYg6Uw8abb852D28XSg6nuFX\n",
       "0XdzuAiSibBgZ0FVLXMzjEytFSxCkdcVA+5OQL0Bawqq+nWo44Cfp5wZJL6DOjJXhKPqZvSfxzr9\n",
       "RGHe79YL9BfW1pFh7r34zYU/rWM05QfLyEqkhEhZ0Czt/Bui8Inc5EWs1aeZDoF6A9YkVPWbcBOI\n",
       "MT1jnsevoA6dc7bnuE/vCHuQOgcc6GWHTNu7cvYWpmJmNUg/flrj2sXc6BE6WLlW4rS3qnOA9izs\n",
       "6s5NzqXdKCBQb8CahKp+Ux42OmKW7M37b6AOnwWMOgI97CRwqMPW9aNhsQsa+shYx0iCOraXQMev\n",
       "RhFVPhVxaG9W4vJnOFY+xENl579bRrnmsFQfwieg3oA1CZVlR51hJMlGzGbyDdTJm7yj+eXoXdTR\n",
       "1T0tkdMzY5233GgZbJ304ulqFOlKPLRHO5HTouZoZ8GQbI7PCc91+NocDFwA1BuwpqGq3/hcp80u\n",
       "q8/4C6hD5+xwralDhG5slHDk9xvh2OBDg1da1DG1uZZZe8tTvQu9Japu7xkw8uLp2r/LcZt46Xai\n",
       "S8RJNKMWZBZBGy8LihrdofEuZzSst3IA1DRW0ISHQqCq3+iow/Kr6t2BzVVSh88ESp0Bq/6FtkMA\n",
       "Rjg2WAHhK60SNTuDCF6G9zue6l8ojrOd3RE8OLaIil+apWinbZKk2iPVM1onsem3vfMmFfIPK4uB\n",
       "muY+kVzXN9iengTUNNYAngTWJFT1G6POALD60aFVVkkdOTModRqpuoLpVeb9OqQOlrPaxDKB0ibW\n",
       "fr9jpFn/NstHozS91MWn+g/1er++DXoJdDyViPSDRL3dHlt1wMRJNAB1atNqmgb+oa+xszADYJur\n",
       "Hva6a5/op6CmsfpQE1iTUNVvdDdBD2nkY/3UwXlQY2g6vVq4vbBOJplYvHRPyWfqK6Ojjt7Jvb6s\n",
       "kHc81X+ov6zd6lo9HF9q/do27VH4ls7wamnDEEv1s6KBsYRujxxA3q9xAkFNY4VADVzkQdW/0VEH\n",
       "8kazOwOvkTqAqY5HndVG6DhdXm5vxHvsYLr3hI2xXikIClOne1Uoe2XdctPELz418FDPYFM7F19U\n",
       "Paw7BDZhmvboG1RD1/f9RCOpfghcI0ZlTeV2c/bLokxvzQxSUNNYQftESB6q/uVXNqKOrjFUI3XE\n",
       "3J2mToOXWQPjeyOmxI1tOqZjQ3/MlcJpvbabAA+col6tjbcXnxp5KPL9hd1Stm3n7dzvDmU+kHHe\n",
       "GEhRYCA3J4IpwCUZuuZlEA1by87Z25g2dEQgqGmsEKihi45QDeRL1JncLS41UmfKewl86rCJC0TW\n",
       "ktka8XqyxYrdNu2ssT0e3D/OlY7d2zl2hETLMvewt4byp0Ye2vkFSRcMXK/EHuLDE9r0dBdQBalr\n",
       "ulxdrzMdBoOaRgNad0B5qAbyJepwt0uvkTrjLM5Tx54FKNPJyYVQVcahvIXj9bL/t/MYqno5b/Hy\n",
       "9FNDDw22sdieyOHRFa1oSy2p6s9C3SFfok7vruzUSB0MWA6LU6dHeFscYdSh47zNoFhg4unGdYjG\n",
       "qTPMUnHEHQXOPzX40OknkPVouEQd6mrg1EidGbB9dszrsHFwbKI8O//BbB9Rrjw1CIT9WveDg1Db\n",
       "Yn6tYfZ1U2e4R+DqJjCpXuj2p9Ff+645tM5MokLqiPnMrtmu/1XpLxT0UgWnvEbHxVYhddB8Yi+0\n",
       "5Inhuc8OHG8ep/wKZOyWfN6LukKwprbhbbY9zR3puH4rpA6Z4QI3Mu7G1sd43q2ed0biD40sVn9v\n",
       "hp1CzVFuClYD2NPHtsTpI0GTIw29UOe6FKCizj2aghKuXc0T45Mqyk09j3a4jY7cuL1Sj979cIk/\n",
       "4fpDPH3CB1F7GfioBzWnHoUr7DWQF1BntK8AbMmJR3L2yBVx7KGFOtelABV17tEU7Gaoztd26CxJ\n",
       "HbMGP8YzHadL9erdD5b4c86uBfUJH0R9zMBDzbZ64G0z2MedybhaRpbCZA1giw4Lt/wsddoDda5L\n",
       "ASrq3KMpOIKp06Zso60ozX6rxDLrfNHcON4PlvhzqRPSJ3wQ9TEDH/UGRjp9Mx111eJdnKcGsCXU\n",
       "EScF5ZCzJrrOdS5LAeq5zi2agu0MFIfiyXO+W1Fi04VGS4nN13zC/v2xGjkuxDvUCekTPojazyCC\n",
       "WjqtdBf52oX+6wBbIlFxcjDkzrLJSp3LUoCaOrdoCmIoddL6a2tRGvU80gL7/gK3hne/JQDl1PBx\n",
       "W7RzZ0if8EHUfgYRYUKHOtO+KEj0PysBW0Idds69FaDOZSnAXfzkBk1BPMN8VCjdla1FOe3H0xCS\n",
       "4bEwkQTrurz7rfmnW+VttEGE9QkfRO1ncJg1D+NyALeXGEvroGpnsYjVA7aQOuupxRMGXoA6V6UA\n",
       "DXXu0BTEM2z21qZfey1K3TnR+WVL0mAfk0iCeX/2+32JvwNZhDsHnOzROaBP+CDqAGzPXbm1K3uu\n",
       "M1lTjlE/vA6wNnViwoohMtCL1HGkAGnqFUmaOgdNQTpFj0VZimbHGSGMOn1mk+halFpPZiuiRRfD\n",
       "E88zSYXKeXvWIYm/wziD7F5lsHdUhfQJH0QdgO0JE3YeddrZOs+HqwJbNurQ+cyWbhagjiMF6JyS\n",
       "bIZ2WhK4ks+Y0tQ5aAp2nIXbt61o5lMHNLTLjBjYikKrmG39+2sSFdD500mlynn6frs4zD//9U9H\n",
       "saidzRLJIJ1PpQb1CZ9DHYDtCRP61LE8TNx0cHWALVSy7M6g6Z2NyYo6ASnAHsluOeIo5LpHWB3O\n",
       "DVPnv/N/dAtwMooNh46imU+df4PsOnmCOqsmJFs5eVxENkmFynlW1qZjiI46zKJLP9lDUEif8EHU\n",
       "AdgMMOoYFBSPdYEtpA4/Y0b+16HOP2btEztIAU6TdqC8EiZjqeVGHTsjIbHlpeYI6RRX0axs1Olz\n",
       "Zp1jsK1ZTuuLH+vVJBWq/Jn7QxJ/B+r07lKerUkY0Cd8EnUAtrcxxafO6pBm6527wVAH2LK5jqUW\n",
       "Vzrq7FKACty+1UH0gg1ooQ6Zpql9/cdS1Nk1BV2pOzTtzcNRNCukDsp1F2tRalGhpbrUx0kPOn92\n",
       "Uolynrk/LPHn1vBhk4U90gT0CZ9EHYDtCRP61FkUcXk/8FfFDZWBLZUex/IUdfy5jpECVOCsg76i\n",
       "fxlsgkFHncHCMk3WLJju/i5H0azQw9bl1PbXotQ+zGXLVTfZ/ZVRvrOSipTz9P1hiT+nPhPrOkF9\n",
       "wjLUMG1CH7YnTNh1+1/dYeHlqLQ71/80WHVZIXXOTHaCbgIjBajAMW5T50UY1AGpYzQFVy/B/pzl\n",
       "9czqD/dvO0sd3EGoowUAqSTa1+fr/JmkQuU8fX9W4o/0UepE9AmLUAO1CY+wD6jXFR36+jtLZMd2\n",
       "hKxX9tWA3a4vpA6ZL1PHHX/52K1BbNShRM/989Sxm/feVMhkSZI5imb+nBBCHZrd6LYVpX+KI67z\n",
       "d1E576TEn0udnD7hY6gN7AHe/S7eI2tTUR1gC6nDZ3YXdTZwPXFGnUUBVgE8QR0679Jki1rmYjWv\n",
       "/+Mqmh3DCPG1Zz/7porS3ycY1fm7qpwHlvjzqAPQJ3wMtYF94jPTr0mQ/X3QOsAWUqc/sbIj/O2f\n",
       "AXC733STmkAy/fwQddQos22lnxBaVO22/3EUzbyKgexhE1lfgirKg2pYQufvqnIeWOLPmjmobjun\n",
       "T/ggag37zGb3aXYFLqoAW0gdOsO3gHLv0EEYXK8t2fFwjA1MHdMbCdt+003eKJodg4S8DM+6OFVR\n",
       "RtXzEnV3TTmvA68UDIr/J/QJK0C9tAksqgNb+nE/+MHKw9H/6AFrSpa5DhBOiDqd0A6D17RmmUqi\n",
       "Uf2PbjcyfDp8grxM1jf9soY2G/zd6nlnJP5eo29s8HwzbHTphPznwaIWl1IHPty6R/+f0yYgRj6Z\n",
       "L4MYJ5uNuxupY8QRBdImIPNPeOkX7ggYfkJmcuyhCmU9OEQRZ/pR5xduCe0Jz2LtYlJsxvmL5Pyr\n",
       "9F+4hToYfOlYu4QhSP3zR51feDt1cO3Cuc0MyC1vsH2FhGFUw7Bq0PWBPa9gWGKwuWLoNVKnBSzw\n",
       "kryH7QskDKMahjWBzioYVgG21Dd9wk0w1P+REAnYiYOg6zqCNG8OcAnD6PneGkCDFQzrKOFy6oDX\n",
       "dZjrv6qROgiwJgpdEqVj8/YAljCMKcVUARqqYFhJCRdTB76b4PD19xqpwwDeaZE16g4Shm8MYAnD\n",
       "GHXqAA1UMKykhEupQ2fwoCndzV91fsF6BjyRg6iDmw8EqIRhjDo1gc4qGFYCtpQ6J7Z/tvV//P2F\n",
       "MZ8d7NCBGD9RsVAJwwh1Pg46Sp2AgmEtYEupI8CavvSw3lgldQjAT9COEOpYhwkJQjwyP0okwfAe\n",
       "7odKGFrUEa88BvXWO+gUsAdBr94AoIJhFWAvUAeBm6447K2skjoMsAFUgg5Ym95pWMQnggI8qSRQ\n",
       "2O8/K2G4axiScXFpdW6XmgL2KGgFA6RgWAnYYurA19blUTK+Ruo0OI+K59ZEHUWcTY4oqK9nkkr1\n",
       "9UzWZyUMdw3DzUmtrW4NOoH5WdBbgCkYVgK2mDq4K22UdVJnygsO9Tkb1ZUw1JUe0NfTSaUShj6H\n",
       "QRKGtobhurawC3ezHOaHQceoE1IwrARsKXUGsJegP5pCdVKHATyGpyQMrb7lqOBlkgr19QLdFkzC\n",
       "cNcw3LoBfWZUg05gfhh0dNQJKBhWArZcmgDacpH3GaUqqdPgvMtzggjnKnPClhY+1OyeVKavt99/\n",
       "XsJQC9Nt9WdEDDfQCcxPg45RJ6RgWAnYUupI8CA44uYrqIPy29hY5hJXwnAzL1gT0Nfbk8okDNX9\n",
       "BRKG2sO2VsKuQ6k1AX3MbwIdo05IwbASsKXUOWGvke+gDuTEeDvlqaOdmJt7Z9VBO+rrWUlF+nr6\n",
       "/gIJQ02d9fMX0lj0CrSPGQQahD4NWpECpGB4DewNJXxJwZCDT0xK78paqQM4QM0Bn6bqjawR4RxR\n",
       "e6w3+nh7Upm+nrn/tIShWddhEpF9/qxB+5hBoCG6i3nQUAXDi2BvKOErCoYtdO8n9fvyWqkD2VoE\n",
       "+CBi3RKGzm4C67uWcU3AGkAfFAwrAVtEHXbCSTB8C3VynzvMDztfIGGoqNMv9o/9pa24JmANoA8K\n",
       "hpWALaJOBz5wgKfma6izrYNlnB4kS52qJQyVP1pi2tDR+dJBRBOwCtBHBcM6wJZ9hRc60wl15PVS\n",
       "R+Tz7PGQpU7NEoZKw3Cd6Tg1XzXoo4JhHWBLqNPCd37y5ouoA9n0hLqUMVS/hGFUw7Bq0BWCLVIw\n",
       "JGBzTXbNV1En8iEE953efrj3F/5KYODjEix4luku6qxB3vtuPc6boqP4tYFfKGpd8HPw3mJDO5tZ\n",
       "29VA+RrY3f0CYCzr+l8r+IWCJgtnDvXa9dbcefM/1Wxjp0NhzQ0AAAAASUVORK5CYII=\n",
       "\" style=\"display:inline;vertical-align:middle;\" /></a><br>"
      ],
      "text/plain": [
       "general_lambda_substitution: forall_{i in NaturalPos} [forall_{f, g, Q} ([forall_{a_{1}, a_{2}, ..., a_{i} | Q(a_{1}, a_{2}, ..., a_{i})} (f(a_{1}, a_{2}, ..., a_{i}) = g(a_{1}, a_{2}, ..., a_{i}))] =>  \\\\ ([(b_{1}, b_{2}, ..., b_{i}) -> {f(b_{1}, b_{2}, ..., b_{i}) if Q(b_{1}, b_{2}, ..., b_{i}).] =  \\\\ [(c_{1}, c_{2}, ..., c_{i}) -> {g(c_{1}, c_{2}, ..., c_{i}) if Q(c_{1}, c_{2}, ..., c_{i}).]))]"
      ]
     },
     "execution_count": 3,
     "metadata": {},
     "output_type": "execute_result"
    }
   ],
   "source": [
    "general_lambda_substitution = \\\n",
    "    Forall(i, Forall((f, g, Q), \n",
    "                     Implies(Forall(a_1_to_i, \n",
    "                                    Equals(f__a_1_to_i, \n",
    "                                           g__a_1_to_i), \n",
    "                                    conditions = [Q__a_1_to_i]),\n",
    "                             Equals(Lambda(b_1_to_i, \n",
    "                                           Conditional(f__b_1_to_i, \n",
    "                                                       Q__b_1_to_i)),\n",
    "                                    Lambda(c_1_to_i, \n",
    "                                           Conditional(g__c_1_to_i, \n",
    "                                                       Q__c_1_to_i))) \\\n",
    "                                      .with_wrap_after_operator()).with_wrap_after_operator()),\n",
    "          domain=NaturalPos)"
   ]
  },
  {
   "cell_type": "code",
   "execution_count": 4,
   "metadata": {},
   "outputs": [
    {
     "name": "stdout",
     "output_type": "stream",
     "text": [
      "These theorems may now be imported from the theory package: proveit.core_expr_types.lambda_maps\n"
     ]
    }
   ],
   "source": [
    "%end theorems"
   ]
  }
 ],
 "metadata": {
  "kernelspec": {
   "display_name": "Python 3",
   "language": "python",
   "name": "python3"
  },
  "language_info": {
   "codemirror_mode": {
    "name": "ipython",
    "version": 3
   },
   "file_extension": ".py",
   "mimetype": "text/x-python",
   "name": "python",
   "nbconvert_exporter": "python",
   "pygments_lexer": "ipython3",
   "version": "3.7.3"
  }
 },
 "nbformat": 4,
 "nbformat_minor": 1
}
