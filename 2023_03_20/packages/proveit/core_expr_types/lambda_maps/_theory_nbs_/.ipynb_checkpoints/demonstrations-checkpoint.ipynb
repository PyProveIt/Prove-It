{
 "cells": [
  {
   "cell_type": "markdown",
   "metadata": {},
   "source": [
    "Demonstrations for the theory of <a class=\"ProveItLink\" href=\"theory.ipynb\">proveit.core_expr_types.lambda_maps</a>\n",
    "========"
   ]
  },
  {
   "cell_type": "code",
   "execution_count": 1,
   "metadata": {},
   "outputs": [],
   "source": [
    "import proveit\n",
    "from proveit import Lambda, Conditional\n",
    "from proveit import x, fx, gx, Qx\n",
    "from proveit.logic import Equals, Forall\n",
    "%begin demonstrations"
   ]
  },
  {
   "cell_type": "markdown",
   "metadata": {},
   "source": [
    "### Lambda substitution"
   ]
  },
  {
   "cell_type": "code",
   "execution_count": 2,
   "metadata": {},
   "outputs": [
    {
     "data": {
      "text/html": [
       "<strong id=\"universal_eq\">universal_eq:</strong> <a class=\"ProveItLink\" href=\"../__pv_it/demonstrations/918fa7ba3a0ac38caa4e05074fc86515b53ed5a40/expr.ipynb\"><img src=\"data:image/png;base64,iVBORw0KGgoAAAANSUhEUgAAAKAAAAAVBAMAAAAz5vjYAAAAMFBMVEX///+IiIgiIiIQEBB2dnbu\n",
       "7u5ERETMzMzc3NwyMjK6urpmZmaYmJiqqqpUVFQAAAB6qHgnAAAAAXRSTlMAQObYZgAAAAlwSFlz\n",
       "AAAOxAAADsQBlSsOGwAAAgZJREFUOMt1lEEoBFEYx7+1w+yaWe0WF6Rtj0pJOCiKONK4rOSAw5aj\n",
       "lCtTyknMRSnUljMrFEniolwkXEjtSnFwwEH2onzf230zb9+b+er7+m/76//evPd9D0ANW9URCA4B\n",
       "8cdCt6qujQf6iQhlgX48i8QDq0dDnsZoDjSsQDBPSW8IQLVDVXvvdTVF1Arwq0QwF+jTpwTCuKAa\n",
       "fsq4msLcDzCsRDDJVxNODcKs5ixPs+gKMJSQLjBxhahIPLI6IGgWWwGGEoLZkUp1isQRlZuOD65H\n",
       "W8YG8QtG1NtIrKgI5jFARuRKW/l29X7oxUgCXLMDS7FgnaE5kW4VwVyFSEE0bGNd+su1aZs/dXgs\n",
       "9/IG8xZbVUIwaywtK4I9VGJfXOtgsMZYlA37QC+qCGYsXnEnJUMt6ekwm5IdyU//g1C7ilA6l1gS\n",
       "J0228Mk1BU/n7GrsoTvpDM1iCZIQyuF1HEj7LVpuxmlvSdLp7CtoKK+kHZpfMHmhIpRLuJAJ03qZ\n",
       "ZP2xluU6P38Iu7ybxJErwqelIpR1swQUOTnHrtDVE4nYGe29Vb6UvfoDH8TF9Hb+llWR/7mgS69d\n",
       "Uh2STRVxsSXNMbwZjxW25SfBewPKsWDpvyriYkZjfwP/YwaqMo6ry7Esb+/VGo+ryLLfuKfB5C2E\n",
       "Wnb2jvDUB5nxM4zEVR2yA19sEcH8Bzv+ld1UOCCRAAAAAElFTkSuQmCC\n",
       "\" style=\"display:inline;vertical-align:middle;\" /></a><br>"
      ],
      "text/plain": [
       "<IPython.core.display.HTML object>"
      ]
     },
     "metadata": {},
     "output_type": "display_data"
    }
   ],
   "source": [
    "universal_eq = Forall(x, Equals(fx, gx))"
   ]
  },
  {
   "cell_type": "code",
   "execution_count": 3,
   "metadata": {},
   "outputs": [
    {
     "data": {
      "text/html": [
       "<span style=\"font-size:20px;\"><a class=\"ProveItLink\" href=\"../__pv_it/demonstrations/918fa7ba3a0ac38caa4e05074fc86515b53ed5a40/expr.ipynb\"><img src=\"data:image/png;base64,iVBORw0KGgoAAAANSUhEUgAAAKAAAAAVBAMAAAAz5vjYAAAAMFBMVEX///+IiIgiIiIQEBB2dnbu\n",
       "7u5ERETMzMzc3NwyMjK6urpmZmaYmJiqqqpUVFQAAAB6qHgnAAAAAXRSTlMAQObYZgAAAAlwSFlz\n",
       "AAAOxAAADsQBlSsOGwAAAgZJREFUOMt1lEEoBFEYx7+1w+yaWe0WF6Rtj0pJOCiKONK4rOSAw5aj\n",
       "lCtTyknMRSnUljMrFEniolwkXEjtSnFwwEH2onzf230zb9+b+er7+m/76//evPd9D0ANW9URCA4B\n",
       "8cdCt6qujQf6iQhlgX48i8QDq0dDnsZoDjSsQDBPSW8IQLVDVXvvdTVF1Arwq0QwF+jTpwTCuKAa\n",
       "fsq4msLcDzCsRDDJVxNODcKs5ixPs+gKMJSQLjBxhahIPLI6IGgWWwGGEoLZkUp1isQRlZuOD65H\n",
       "W8YG8QtG1NtIrKgI5jFARuRKW/l29X7oxUgCXLMDS7FgnaE5kW4VwVyFSEE0bGNd+su1aZs/dXgs\n",
       "9/IG8xZbVUIwaywtK4I9VGJfXOtgsMZYlA37QC+qCGYsXnEnJUMt6ekwm5IdyU//g1C7ilA6l1gS\n",
       "J0228Mk1BU/n7GrsoTvpDM1iCZIQyuF1HEj7LVpuxmlvSdLp7CtoKK+kHZpfMHmhIpRLuJAJ03qZ\n",
       "ZP2xluU6P38Iu7ybxJErwqelIpR1swQUOTnHrtDVE4nYGe29Vb6UvfoDH8TF9Hb+llWR/7mgS69d\n",
       "Uh2STRVxsSXNMbwZjxW25SfBewPKsWDpvyriYkZjfwP/YwaqMo6ry7Esb+/VGo+ryLLfuKfB5C2E\n",
       "Wnb2jvDUB5nxM4zEVR2yA19sEcH8Bzv+ld1UOCCRAAAAAElFTkSuQmCC\n",
       "\" style=\"display:inline;vertical-align:middle;\" /></a> <a class=\"ProveItLink\" href=\"../__pv_it/demonstrations/2f6d882857c910f2b7f80400f495a01c93b64c0d0/proof.ipynb\" style=\"text-decoration: none\">&nbsp;&#x22A2;&nbsp;&nbsp;</a><a class=\"ProveItLink\" href=\"../__pv_it/demonstrations/928efb89783fb4adef1fdf6e83ca01eabcaa1dbe0/expr.ipynb\"><img src=\"data:image/png;base64,iVBORw0KGgoAAAANSUhEUgAAAHYAAAAuCAMAAADKpB25AAAANlBMVEX///8WFhYNDQ1EREQQEBAy\n",
       "MjLc3NyYmJhmZmaqqqpUVFTu7u66urp2dnbMzMwiIiKIiIgAAAC/0g+6AAAAAXRSTlMAQObYZgAA\n",
       "AAlwSFlzAAAOxAAADsQBlSsOGwAAAhhJREFUWMPtl8l2wyAMRWmZEYP4/5+thzo1QxJb0EXPKasQ\n",
       "jJ6EQFwYphTZcFPd7gvbwY+LMrRl3+M761RZEwIcv21o/NC/IxtcFEeIINtxCb8iK6znR7RGt+Pa\n",
       "DMuiav7yGU4udP0CgiycO9a0s9JpWPYsSH1BFhAdxBCOdKXim1SvoBPJmZ/N9e1qYSO4C7KLDXTI\n",
       "TOoKWV7PyljHVdvQspQ16dTcPqCX7OklXU7340MOZTnIpzKQ9vAqG1a8j3Y1Ys4p+vxIRcu5mG/z\n",
       "efPsQ5WNmK9tKYHPs+mlf7qjDtnKhheXZH1eFgmgKxtlucaMO9YscmXDpre5Be6ZW70L/WhlfXCL\n",
       "leFbp7ah+dtobY5glin+x++X51YVmd6PSm1jP1YvZcEgLsa1ffJJfXsVO4rFbWlqG8lPr8nGldWk\n",
       "c6mqNPkqsI5J2yv7pWd6smzizUXHm7tC8dn3rUZTq0BTPA9HnsvOYCmF3asSk5iBTP/tb7UZeH4b\n",
       "zqfg+X04nyFLgPMJshQ4nyBLgXMqnrMxOKfi+SCc0/DcBkSlB+CchOdhCVAJfgfO+7K38Nxuz67j\n",
       "XUCCcwqeC7fRtxqAcwKex7zGh2IEzgl4rrc4H4B+Dc77wHoHz/W6fpD1CJwT8BzWoNzjNU+Ccwqe\n",
       "e4fhcdJocE6tydIMwfl92ehg3c1xCM7vy7qlyoPEMTi/L7tl1g/C+RQ8J8D5F0T7I1PN+YbhAAAA\n",
       "AElFTkSuQmCC\n",
       "\" style=\"display:inline;vertical-align:middle;\" /></a></span>"
      ],
      "text/plain": [
       "{forall_{x} (f(x) = g(x))} |- [x -> f(x)] =  \\\\ [x -> g(x)]"
      ]
     },
     "metadata": {},
     "output_type": "display_data"
    }
   ],
   "source": [
    "Lambda(x, fx).substitution(universal_eq, assumptions=[universal_eq])"
   ]
  },
  {
   "cell_type": "code",
   "execution_count": 4,
   "metadata": {},
   "outputs": [
    {
     "data": {
      "text/html": [
       "<strong id=\"universal_eq_with_cond\">universal_eq_with_cond:</strong> <a class=\"ProveItLink\" href=\"../__pv_it/demonstrations/9ce0a2894070a97b646666334e1217119365db8a0/expr.ipynb\"><img src=\"data:image/png;base64,iVBORw0KGgoAAAANSUhEUgAAANYAAAAXBAMAAACFeawMAAAAMFBMVEX///+IiIgiIiIQEBB2dnbu\n",
       "7u5ERETMzMzc3NwyMjK6urpmZmaYmJiqqqpUVFQAAAB6qHgnAAAAAXRSTlMAQObYZgAAAAlwSFlz\n",
       "AAAOxAAADsQBlSsOGwAAAtVJREFUSMe1Vk1oE0EUfmk22U2yGxOoIFZKCHgRhVCsB1FBsQcPyuYS\n",
       "EUHTQyDgpSgevNSVgKdigyAIWghYDx60VQuGIiVeBC8S1IOK0EhREQ/WgzQXxfdmMzPbmTaJoA/e\n",
       "y5fst/vN+5nZAPyVeTq2etOtHrQNLdTUcTzVk04U8hZ9+dCn1hsWF8YkRtvRg96hoC8SvtmfVKRK\n",
       "0fhyUGCymNuVzinok1TLYn9aiQbF8PuSwGT2fFc6p6CTpNHsTyvM4pwrMbPRrnRBGQUbxWN9tusd\n",
       "i0cCmNntrnRBQR/JZvf2qbVA4eXIN47zwyePYklO6EORntIp6E8ASrLE625560+uksAPgedDHxMZ\n",
       "gBfsziwzNtZG1dqnU9CvgdUST4t2PgfTdexmzf8ier+Hbcw1jm3P/pnEFrxW01p22YIUCnrUNWqq\n",
       "1j0PKh6c6fw4y6/up+CscmxCgk31ZVXrEJhtnYLupAKj4Ws5mHWi6G+94AZiWkZG4jA7M+4oUuYv\n",
       "COV0Cnn1GYZ0fcgTWtMTmP0q4ENDQ1fqckuwGkZbEs95EVzHK6VfdtsnKRTy4zfwmd7nWFNofaXl\n",
       "5yzMfluyOAMOb9i4XCjhQm0FDITPlbxwmWcbOoW8gmuwYdyUNaQ9EGvF8TRpRFMTEOfHChvu6RrH\n",
       "yxcfw32+FYJnUxu+uzqFPDlBhHagXweok55DddiClTW51nk2ZAKfTjtPqRi71Nl4MPhoA4qgmTlL\n",
       "ap2Du7Dbl7iA7yBRwwFa1VIA+2+njL7rb+kUQasY1YTUqkzlL2HBM2DljuHuCqXkEeq0ZtQTVx6x\n",
       "HZt0zTWdImiJ7Ye3Si1rafgTplkGeDibdiEq3sZlGChVBe7YVTWpFfdUSqdoNH5uxOfzcg8XxOUC\n",
       "2EOe+mtZb9fiBpTyZlrW752YbOexdXHZCrzvOQ55m57VQYpO41pwnSZ7zO9MDf6Lrf+3EwnEf2B/\n",
       "AMiIvrqpPXDyAAAAAElFTkSuQmCC\n",
       "\" style=\"display:inline;vertical-align:middle;\" /></a><br>"
      ],
      "text/plain": [
       "<IPython.core.display.HTML object>"
      ]
     },
     "metadata": {},
     "output_type": "display_data"
    }
   ],
   "source": [
    "universal_eq_with_cond = Forall(x, Equals(fx, gx), condition=Qx)"
   ]
  },
  {
   "cell_type": "code",
   "execution_count": 5,
   "metadata": {},
   "outputs": [
    {
     "data": {
      "text/html": [
       "<span style=\"font-size:20px;\"><a class=\"ProveItLink\" href=\"../__pv_it/demonstrations/9ce0a2894070a97b646666334e1217119365db8a0/expr.ipynb\"><img src=\"data:image/png;base64,iVBORw0KGgoAAAANSUhEUgAAANYAAAAXBAMAAACFeawMAAAAMFBMVEX///+IiIgiIiIQEBB2dnbu\n",
       "7u5ERETMzMzc3NwyMjK6urpmZmaYmJiqqqpUVFQAAAB6qHgnAAAAAXRSTlMAQObYZgAAAAlwSFlz\n",
       "AAAOxAAADsQBlSsOGwAAAtVJREFUSMe1Vk1oE0EUfmk22U2yGxOoIFZKCHgRhVCsB1FBsQcPyuYS\n",
       "EUHTQyDgpSgevNSVgKdigyAIWghYDx60VQuGIiVeBC8S1IOK0EhREQ/WgzQXxfdmMzPbmTaJoA/e\n",
       "y5fst/vN+5nZAPyVeTq2etOtHrQNLdTUcTzVk04U8hZ9+dCn1hsWF8YkRtvRg96hoC8SvtmfVKRK\n",
       "0fhyUGCymNuVzinok1TLYn9aiQbF8PuSwGT2fFc6p6CTpNHsTyvM4pwrMbPRrnRBGQUbxWN9tusd\n",
       "i0cCmNntrnRBQR/JZvf2qbVA4eXIN47zwyePYklO6EORntIp6E8ASrLE625560+uksAPgedDHxMZ\n",
       "gBfsziwzNtZG1dqnU9CvgdUST4t2PgfTdexmzf8ier+Hbcw1jm3P/pnEFrxW01p22YIUCnrUNWqq\n",
       "1j0PKh6c6fw4y6/up+CscmxCgk31ZVXrEJhtnYLupAKj4Ws5mHWi6G+94AZiWkZG4jA7M+4oUuYv\n",
       "COV0Cnn1GYZ0fcgTWtMTmP0q4ENDQ1fqckuwGkZbEs95EVzHK6VfdtsnKRTy4zfwmd7nWFNofaXl\n",
       "5yzMfluyOAMOb9i4XCjhQm0FDITPlbxwmWcbOoW8gmuwYdyUNaQ9EGvF8TRpRFMTEOfHChvu6RrH\n",
       "yxcfw32+FYJnUxu+uzqFPDlBhHagXweok55DddiClTW51nk2ZAKfTjtPqRi71Nl4MPhoA4qgmTlL\n",
       "ap2Du7Dbl7iA7yBRwwFa1VIA+2+njL7rb+kUQasY1YTUqkzlL2HBM2DljuHuCqXkEeq0ZtQTVx6x\n",
       "HZt0zTWdImiJ7Ye3Si1rafgTplkGeDibdiEq3sZlGChVBe7YVTWpFfdUSqdoNH5uxOfzcg8XxOUC\n",
       "2EOe+mtZb9fiBpTyZlrW752YbOexdXHZCrzvOQ55m57VQYpO41pwnSZ7zO9MDf6Lrf+3EwnEf2B/\n",
       "AMiIvrqpPXDyAAAAAElFTkSuQmCC\n",
       "\" style=\"display:inline;vertical-align:middle;\" /></a> <a class=\"ProveItLink\" href=\"../__pv_it/demonstrations/6012ae2ea2ab9a5747a0469ebd7196c0d94e71040/proof.ipynb\" style=\"text-decoration: none\">&nbsp;&#x22A2;&nbsp;&nbsp;</a><a class=\"ProveItLink\" href=\"../__pv_it/demonstrations/6a1fe5dc60c336026d89dd911f258e24b3f78cc10/expr.ipynb\"><img src=\"data:image/png;base64,iVBORw0KGgoAAAANSUhEUgAAANoAAAAuCAMAAAB5wPfmAAAANlBMVEX///8WFhYNDQ1EREQQEBAy\n",
       "MjLc3NyYmJhmZmaqqqpUVFTu7u66urp2dnbMzMwiIiKIiIgAAAC/0g+6AAAAAXRSTlMAQObYZgAA\n",
       "AAlwSFlzAAAOxAAADsQBlSsOGwAAA6dJREFUaN7tmEcWpCAURe0mZ9j/ZlstA1GwRHpSDDxiePAI\n",
       "H7iTNUZPt5OQsvAGV/L3Eq6KXdRfyS9KtEiKwhsWPZC2qEJsrexYLStWdPCNNeYCY1SpPc9UWj0S\n",
       "9wT8PEFMO79wrGYh7n+dqiViva0pE+S4hlvrCpT5GkUdLB1d+8xMmHuvFFoHFj8lcmpIjLQGmQRb\n",
       "gZTkxh2NJ+p65Tx4hsAud3yeU0vEHlqz+MKa9EYnzP4Os/OSB5VEhyR3l2qp2F1rgQCjF9a8DENZ\n",
       "LUSq1qg7wpzab/NqqVjFmrCWC63UEZGCIRflfDeEQ3NUku7TPpRTwdDDCM55zSE8hyR2wHMpQ7Ur\n",
       "sQZrc+UstxM1eTMMBFnqt6ezaYuGciRqfsTjuUbdGeWRw6HatZhvjRov8c8LMquRec6coTfqJwtE\n",
       "Gr23Bj9XTLNVMJJj0aQBiTVzzlfhYKhWEav1mo67Yvr7xwTJHUsQ5kgGa5w3xbcXkZx2NWvurC9x\n",
       "JFSriLWEEWgvZpf07Gjqd6EfUqBXiCcn6712iAiIMmoXYg3W5DLEhchb0+FKCXj+3jBvSTjlmKlZ\n",
       "WwO+XP6mEKdqV2KVuSaAnPjSGqrQawgXg7/f2eBzH8sRULOm5zBCNCaTOp1tajWxSq8xpwWFW7tt\n",
       "DdW4rmF/G7gF5liORltBAM7rHqYgtsv/wc6LV8SEQ1Vrglo715+w0je6aM2PIpP+PI/lTFD2uqKJ\n",
       "+eq49Z8Cpcwe0jy1KzFD39xD0mAFzR6dsGnVnceev6nLqWXEXrHG+HwyqWxeC3vmvDUe7K5yahmx\n",
       "rtbsFoANiM8dID0HY9CsS51z+lItJ9bVGt72RcTSqHCRFg3aEYI2kF2r5cTK1r5hI5jyQsjBtnIg\n",
       "uleOrYpZA+X0S7/0S/8zdUasdSY6CrD2RqxNTHQMYO2CWG8x0WGAtQeHnG4x0WGAta+1JiY6CrB2\n",
       "QKw+/mxjogmFfAWwdkCs3meNTDSx9gpgfYxYmbIWk3YmOg6wPkWsCi0xD9xhoq8B1ry1bxHrZxXY\n",
       "+XEbEx0FWB8i1mVwTXpv6DYmOgqwPkOseh1J+5m7kYmOAqzPECtZ++uArG1M9DXAmod1XyJW4tbp\n",
       "QW4x0VGA9RliFUt78iMIVJnop86DAOtDxCq5VeeCUWeiIwFrhz0koneZaIlC9gWsj6zpZQBpjxw2\n",
       "MtGStb6A9RFi5fNmVSB7m4kWUmfA+gixrjNN3meihdQZsPZGrA1M9EYpzwDrP8YhQJXrtpyVAAAA\n",
       "AElFTkSuQmCC\n",
       "\" style=\"display:inline;vertical-align:middle;\" /></a></span>"
      ],
      "text/plain": [
       "{forall_{x | Q(x)} (f(x) = g(x))} |- [x -> {f(x) if Q(x).] =  \\\\ [x -> {g(x) if Q(x).]"
      ]
     },
     "metadata": {},
     "output_type": "display_data"
    }
   ],
   "source": [
    "Lambda(x, Conditional(fx, Qx)).substitution(universal_eq_with_cond, \n",
    "                                            assumptions=[universal_eq_with_cond])"
   ]
  },
  {
   "cell_type": "code",
   "execution_count": 6,
   "metadata": {},
   "outputs": [],
   "source": [
    "%end demonstrations"
   ]
  }
 ],
 "metadata": {
  "kernelspec": {
   "display_name": "Python 3",
   "language": "python",
   "name": "python3"
  },
  "language_info": {
   "codemirror_mode": {
    "name": "ipython",
    "version": 3
   },
   "file_extension": ".py",
   "mimetype": "text/x-python",
   "name": "python",
   "nbconvert_exporter": "python",
   "pygments_lexer": "ipython3",
   "version": "3.7.3"
  }
 },
 "nbformat": 4,
 "nbformat_minor": 1
}
