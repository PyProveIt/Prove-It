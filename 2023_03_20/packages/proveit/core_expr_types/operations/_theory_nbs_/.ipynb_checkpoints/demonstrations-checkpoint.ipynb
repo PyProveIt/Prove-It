{
 "cells": [
  {
   "cell_type": "markdown",
   "metadata": {},
   "source": [
    "Demonstrations for the theory of <a class=\"ProveItLink\" href=\"theory.ipynb\">proveit.core_expr_types.operations</a>\n",
    "========"
   ]
  },
  {
   "cell_type": "code",
   "execution_count": 1,
   "metadata": {},
   "outputs": [],
   "source": [
    "import proveit\n",
    "from proveit import Lambda, Conditional\n",
    "from proveit import x, fx, gx, Qx, n\n",
    "from proveit.logic import Equals, Forall\n",
    "from proveit.numbers import Sum, Interval, one\n",
    "%begin demonstrations"
   ]
  },
  {
   "cell_type": "markdown",
   "metadata": {},
   "source": [
    "### Instance substitution"
   ]
  },
  {
   "cell_type": "code",
   "execution_count": 2,
   "metadata": {},
   "outputs": [
    {
     "data": {
      "text/html": [
       "<strong id=\"domain\">domain:</strong> <a class=\"ProveItLink\" href=\"../__pv_it/demonstrations/3de7ab0b1109aedbcbbbce6807e595b262d403990/expr.ipynb\"><img src=\"data:image/png;base64,iVBORw0KGgoAAAANSUhEUgAAAEkAAAAVBAMAAAD4Ed5jAAAAMFBMVEX///9ERETMzMxUVFSYmJgQ\n",
       "EBDc3NxmZmYiIiJ2dnaqqqoyMjKIiIi6urru7u4AAAB85a56AAAAAXRSTlMAQObYZgAAAAlwSFlz\n",
       "AAAOxAAADsQBlSsOGwAAANdJREFUKM9jYGDgu8uAB7Atg9Cn7+FTxaAsByK5/gEJpj7cyoRBBGcD\n",
       "A8Pj6n+4Vc2AqWLgGRSqeA8/myMDU8W+AYcqTkYbhvcJDAxHQZxUBxyq7nIIMOQrMDDkL2BgSN7L\n",
       "gEPVg/cXGNY/AMaN9QIGpsIHuFy/noHBGmQzyBxGA1yqgEq+8DGAzcMTEpHA2ONkYJgKDwnOb2Bx\n",
       "vt8wApQaPjHwbHBCCi9m098mYJl2OAEMrwYGPpMFyKGKD5CgiieAgKpqsCN/4VfEFwKm0q3wpvvJ\n",
       "QA8AAGQ8QIrvlcKiAAAAAElFTkSuQmCC\n",
       "\" style=\"display:inline;vertical-align:middle;\" /></a><br>"
      ],
      "text/plain": [
       "domain: {1 .. n}"
      ]
     },
     "execution_count": 2,
     "metadata": {},
     "output_type": "execute_result"
    }
   ],
   "source": [
    "domain = Interval(one, n)"
   ]
  },
  {
   "cell_type": "code",
   "execution_count": 3,
   "metadata": {},
   "outputs": [
    {
     "data": {
      "text/html": [
       "<strong id=\"universal_eq\">universal_eq:</strong> <a class=\"ProveItLink\" href=\"../__pv_it/demonstrations/1282b8045f4322bad131fcb5aac696a97449fe860/expr.ipynb\"><img src=\"data:image/png;base64,iVBORw0KGgoAAAANSUhEUgAAAOcAAAAXBAMAAAACSEUKAAAAMFBMVEX///+IiIgiIiIQEBB2dnbu\n",
       "7u5ERETMzMzc3NwyMjK6urpmZmaYmJiqqqpUVFQAAAB6qHgnAAAAAXRSTlMAQObYZgAAAAlwSFlz\n",
       "AAAOxAAADsQBlSsOGwAAAsVJREFUSMe1lk9oE0EUxl+abHY3m8SNUiiKJeSgtxJFoQeFRryItqxQ\n",
       "heLBeDCCB1lpLh40qxG82eQgeBFTD55EYkGs2kMKgtYiWbyJohGpJ5FeikU8ODPZmd3MbDau6IM3\n",
       "fAO/yTd/3s4E4K9C8dHWYNwKxgbETh89Pxifd7KDOx9CeqYmcKsdNphGEWkF4w6C8xnu3A5pOkPa\n",
       "qVmbaRy3gnGKoLyCt7wY0nSJtAfvG0zjWA3GKYJSRQNjdkjTPG4SG64mETWCcIagTKItVsMeaQ23\n",
       "sayrSaitIJwhOPfmcvtCmmq4MJJfxpqOljJr5Uk0i45gVxhpCQjOJwBne8gXfSZcfty7pC061RqM\n",
       "6gtoGmRFCzkcYwQ8AtWigOC8CUrPDGV0AtKKn+sUFUOkBuZMql9B2/iG1pXnF7pBZsYhOONGrEH9\n",
       "RksNcgIXt/qZvmPlQAZ8YtqEp2T4Ojcg2oGKJSA4Uzqro+cmPfa3f2B6yKP3kHLmV1qxYZuIEKy2\n",
       "jJrM4g6re6X4ma6+zDQ9pt3tveDqxCacQCOz3Jm2LQJxCMEm0RURsb6q9knyK0nRVHp9AMYB7tF+\n",
       "XGdTx1o6n84DqtAkf8e0QfolIgSrojpKwhkZHhDykimYKsdrgG4Cddjpk29D+Ul16sepfMJ2viRv\n",
       "nLbSGyJCsDSpwk2AlVKpZMvfDXF70zo+iFSdFhzeoNQ61dIj/f0bvI0NzjTx+WhWRFxMzitQ7r4E\n",
       "HdE0ampNE6qsvxvfCh1Xd+OaWHtqU0QYVo3VNPTxcIUkTcA0EXMwdNl0Cwnf2R9Vm7/mlzhHeQ0q\n",
       "pogwTNteGAblHDW9frdARo3DLHnoH0LkmKd6IW7BrhlXOyfP11F6v1QXER6bLjmXg3+4plIRlhdd\n",
       "zbl7jrQhInG//yuJ7GBTuAqiHun/QngRf6zeZ6R8B/5fyH2e9Bv/zOE3QL/ImdJ+XHkAAAAASUVO\n",
       "RK5CYII=\n",
       "\" style=\"display:inline;vertical-align:middle;\" /></a><br>"
      ],
      "text/plain": [
       "universal_eq: forall_{x in {1 .. n}} (f(x) = g(x))"
      ]
     },
     "execution_count": 3,
     "metadata": {},
     "output_type": "execute_result"
    }
   ],
   "source": [
    "universal_eq = Forall(x, Equals(fx, gx), domain=domain)"
   ]
  },
  {
   "cell_type": "code",
   "execution_count": 4,
   "metadata": {},
   "outputs": [
    {
     "data": {
      "text/html": [
       "<strong id=\"summation\">summation:</strong> <a class=\"ProveItLink\" href=\"../__pv_it/demonstrations/5063c44d21921f9294e04e8b79f5211c77e5be210/expr.ipynb\"><img src=\"data:image/png;base64,iVBORw0KGgoAAAANSUhEUgAAAEwAAAA5BAMAAABuVtBqAAAAMFBMVEX///9ERER2dnaqqqoiIiJU\n",
       "VFQyMjLc3NwQEBC6urru7u6IiIjMzMxmZmaYmJgAAADovKYRAAAAAXRSTlMAQObYZgAAAAlwSFlz\n",
       "AAAOxAAADsQBlSsOGwAAAhNJREFUSMdjYAABvnun9zIQButmPOAoIKysahsD/wIijItmmEGEKoYe\n",
       "hrs8hFWxf2DwsSGsjDOAYdMDhlEAAmz/kcAGnMqY//+BMJbPjvjfgNu4+C9w5pPPuJWx/A+Asy/i\n",
       "Vsbz/x+czYua6KA8djC5/z9CEiViuQ2gMQ72GeN/B3QbLmmBSCMYdx+I4Or/i6aKKaYZJJ4ADzRw\n",
       "yp7/3wBVGYelFMihcBfwXQBr/t+Fqmw+WDcHQgAin/8NVZkKmDRDCOSByRX/FZBVPW2JBfsDiFdv\n",
       "XaMEdJEqaoRBwW+4ERe4o3mB4fAMIn7/B3IuZYdocga6vYDvFyvQJxawCENOG8wfwFQnMIYYeMGh\n",
       "ch6q/wtKsDnAlAG9C9YPzevc7cjKGANglgLDpoAL6B4TaEAdQAldiAukGRgWTohgYAIyH0ISCWo6\n",
       "q58ApoChYH/qBsNkaNgAww01cdtDqCMMDGt3M98DRaQnWCAXNRKuQr0Pdwk72E+MAiiZIyAZOcIZ\n",
       "4IngCiJsgTawSMESkDhMtBCsCxEafEBlfHthiXkhA7J6pNCwQC31oD7jBuljR4TG2r+4cxY8NNhN\n",
       "0RIKCshPA4MUD2Dh4IBTFS9yGTJiCtZ1CcSo4tntQJRpzHiU7b4OTxJ4lHEXBLIZXBQEggf4lPEx\n",
       "SPMQYynDd6LcxtPAzkDY0gqmBF4iTOPdqb0Lli7VPuGqjQDT66CFqkDd/gAAAABJRU5ErkJggg==\n",
       "\" style=\"display:inline;vertical-align:middle;\" /></a><br>"
      ],
      "text/plain": [
       "summation: Sum_{x=1}^{n} f(x)"
      ]
     },
     "execution_count": 4,
     "metadata": {},
     "output_type": "execute_result"
    }
   ],
   "source": [
    "summation = Sum(x, fx, domain=domain)"
   ]
  },
  {
   "cell_type": "code",
   "execution_count": 5,
   "metadata": {},
   "outputs": [
    {
     "data": {
      "text/html": [
       "<span style=\"font-size:20px;\"><a class=\"ProveItLink\" href=\"../__pv_it/demonstrations/1282b8045f4322bad131fcb5aac696a97449fe860/expr.ipynb\"><img src=\"data:image/png;base64,iVBORw0KGgoAAAANSUhEUgAAAOcAAAAXBAMAAAACSEUKAAAAMFBMVEX///+IiIgiIiIQEBB2dnbu\n",
       "7u5ERETMzMzc3NwyMjK6urpmZmaYmJiqqqpUVFQAAAB6qHgnAAAAAXRSTlMAQObYZgAAAAlwSFlz\n",
       "AAAOxAAADsQBlSsOGwAAAsVJREFUSMe1lk9oE0EUxl+abHY3m8SNUiiKJeSgtxJFoQeFRryItqxQ\n",
       "heLBeDCCB1lpLh40qxG82eQgeBFTD55EYkGs2kMKgtYiWbyJohGpJ5FeikU8ODPZmd3MbDau6IM3\n",
       "fAO/yTd/3s4E4K9C8dHWYNwKxgbETh89Pxifd7KDOx9CeqYmcKsdNphGEWkF4w6C8xnu3A5pOkPa\n",
       "qVmbaRy3gnGKoLyCt7wY0nSJtAfvG0zjWA3GKYJSRQNjdkjTPG4SG64mETWCcIagTKItVsMeaQ23\n",
       "sayrSaitIJwhOPfmcvtCmmq4MJJfxpqOljJr5Uk0i45gVxhpCQjOJwBne8gXfSZcfty7pC061RqM\n",
       "6gtoGmRFCzkcYwQ8AtWigOC8CUrPDGV0AtKKn+sUFUOkBuZMql9B2/iG1pXnF7pBZsYhOONGrEH9\n",
       "RksNcgIXt/qZvmPlQAZ8YtqEp2T4Ojcg2oGKJSA4Uzqro+cmPfa3f2B6yKP3kHLmV1qxYZuIEKy2\n",
       "jJrM4g6re6X4ma6+zDQ9pt3tveDqxCacQCOz3Jm2LQJxCMEm0RURsb6q9knyK0nRVHp9AMYB7tF+\n",
       "XGdTx1o6n84DqtAkf8e0QfolIgSrojpKwhkZHhDykimYKsdrgG4Cddjpk29D+Ul16sepfMJ2viRv\n",
       "nLbSGyJCsDSpwk2AlVKpZMvfDXF70zo+iFSdFhzeoNQ61dIj/f0bvI0NzjTx+WhWRFxMzitQ7r4E\n",
       "HdE0ampNE6qsvxvfCh1Xd+OaWHtqU0QYVo3VNPTxcIUkTcA0EXMwdNl0Cwnf2R9Vm7/mlzhHeQ0q\n",
       "pogwTNteGAblHDW9frdARo3DLHnoH0LkmKd6IW7BrhlXOyfP11F6v1QXER6bLjmXg3+4plIRlhdd\n",
       "zbl7jrQhInG//yuJ7GBTuAqiHun/QngRf6zeZ6R8B/5fyH2e9Bv/zOE3QL/ImdJ+XHkAAAAASUVO\n",
       "RK5CYII=\n",
       "\" style=\"display:inline;vertical-align:middle;\" /></a> <a class=\"ProveItLink\" href=\"../__pv_it/demonstrations/d781a5591371e502e0de66a8110ae2c7cb4026370/proof.ipynb\" style=\"text-decoration: none\">&nbsp;&#x22A2;&nbsp;&nbsp;</a><a class=\"ProveItLink\" href=\"../__pv_it/demonstrations/cc8243930f2f40e568866e64eb59768ac1df27110/expr.ipynb\"><img src=\"data:image/png;base64,iVBORw0KGgoAAAANSUhEUgAAAO8AAAA/BAMAAAD6YIKlAAAAMFBMVEX///92dnZEREQiIiKqqqpU\n",
       "VFTMzMyYmJgQEBDu7u7c3Ny6uroyMjKIiIhmZmYAAABumYecAAAAAXRSTlMAQObYZgAAAAlwSFlz\n",
       "AAAOxAAADsQBlSsOGwAABc5JREFUWMOVWV1oHEUc/+eyl9vdu91UVERozVkQrSI5qBZE8CJ9KSje\n",
       "vfjRh5oTfdAHuSAqRUvuQLFWrQl9kIq2d34gBSkXQcEXuaKVIlRyqMEQSHsSpFIMaU2aNOnHOrMz\n",
       "s1+dmZsZyO3szP5//53/938DgMciqI1PJyWbiiDWL+HcOaHI2MlL9lRBfgun7aYiDdwp3lIGSW0K\n",
       "Dr+fTsZfn+/KiQ6PCCWoDGK9zWYuFZL15n54T87YOCDa0QDZxSylWiFX+8gJWO8hp0dEGxog/Uwi\n",
       "P7OVdCdb78G4JNKkBoixEb8CmBW3W5ET5fJyMCWQH+nJA6wW9L/Qg8ZYFYhPB6RE9quBpX4Hzm29\n",
       "nOFDgYp1QEyi5FHQGUv8ZS0Q94Jv/9e1GLfHuL6pBZJdw7+ZVS3GJjcyaoJ84EewC1o07gY3DOqB\n",
       "LGGnHMxr0RhrvFVNkBLWV3uTFo19iat5PZBWGR97Ck+nvXBckxK9y5WdHoiJY9u0H7JLHnFq6+uZ\n",
       "ictSxsO8YkATJIWj+TKJsF4hsNDiiIzoLG9XE8RZQTr7j8yLoe5cqaWUONlWF8S4Tv78mOeFkeF8\n",
       "7Cmaj2wWHPN8ICmIHccaQC/qUCtwvNBBMzGxUJllO+TaKHBE1wvkD3r9gQY6pBp3hRnNchLur9vx\n",
       "76Ps9k/qspxYIQEhEmHe5lCJeMjAWLA77CWU1/cULo6sIETmiDn3c+oLMQgti4MZrW2Lk5Bjwsl6\n",
       "Kwlne2wbPkygtQzBzHFiphiEjHPBbJy6XxPM4ABDl+Me2vZvzXCBFHqpK5yAIAQhI6yFTLI9PBVR\n",
       "Wc6LJ56b/d/Hw4VTxFk5ZxKDEBWHazkiwNGRCI01cTH69GtvPetbGPo7MvPRTci2b1VgnAAxtswh\n",
       "Ti6yLWt+93O3IMMp38g4iHh0XAuO2XX2uMiJ9hELpulpYTseDyYtPQ6yGY7lyTFdmOksIEMhh18a\n",
       "g0ZI43rRct0mlvoAeriZWU8j2l0xxtEhAjHWYRC5fz8S1xtQm3wardQDxpEiuBhNKQYBex/FGdom\n",
       "VImXcfKOCMQsQxUFKxPlrgr868csgjrUidG0okGpr8AYI0o/an2vxDgKgmrPWSCMAQ76/lbnMZ6N\n",
       "tgmpMhM17gQt5AY7Y4yjOhaB1JpwFxBRQ3YDPkZyLDDGEbvIxio2ckq4H+DQ1DPQh6avCHUsAqmB\n",
       "hZ9OdcC6L10HZNyZPNNxhKYaS6EtXz7Yh0ov/QPfUs/qyTgG0mimcWhBPmSsHq1nR4hnJRlbB+N5\n",
       "l1yeBzg6b5zDcA+r+HEMJLvnDizagQJYi50nXsVSn2J+bIZBJx7f/6ZNUeCWdkHIWAhC73cE918A\n",
       "Yxwmm62xkFM+GUsNYbpIcWp3AcjAbto2jyfTxXAlxHEfCrkiqG0svt7LVj+nTDYkaTEOkj5g/Ur2\n",
       "maXbtHwpNsFlyWZv6AZIGZkz7PYQxN/A5BUCfBCkYqJSi5VL7A0mUE2wdoMbGLGO3qYlj0NpBjn9\n",
       "fk+Q4/Q6R6+o+M3QbNIK3MBakn61aXFqLl0QG1VI2UsJN/hy1JM29O0yp+/UBMHPW1eJ2V897Y/t\n",
       "E563LO0kah1Oe6wJksFht0hCSaTtWZO3mLyjaIK4q6xX1RjTwoZXfeSwZ9TG9BhzZagJMogNtNXV\n",
       "ohm4yDV1PZAqThVmQYvG4X7t0AQ5i+2kb12LJsX9XqgJco/vzMlSxtono2mUuRFBC8Qibn86sfzy\n",
       "71I35gcGLRD6caqWdIWdMsY/Cd5HByRHLKKBTcw5c/y8Co0tCAxaIC3ifC42l7l0/qS7FY275TR9\n",
       "gi9pWiBDVNXYMMZSnYrKyzY6AnvRALGYJc76waSppJ4F0YYGiMucvh+f4kVoKkjJviLa0QChhbNf\n",
       "49v1zdBVeNl0WZhi1UGejDSTsPjNPGvlP5veIqTZK/4fnzJIJmwnUx3VL6jvSGKpKsixMARZO1Tz\n",
       "qCT7KYOcisy/UqT5RLapCGIR0/ofxbolmzMLl90AAAAASUVORK5CYII=\n",
       "\" style=\"display:inline;vertical-align:middle;\" /></a></span>"
      ],
      "text/plain": [
       "{forall_{x in {1 .. n}} (f(x) = g(x))} |- (Sum_{x=1}^{n} f(x)) = (Sum_{x=1}^{n} g(x))"
      ]
     },
     "execution_count": 5,
     "metadata": {},
     "output_type": "execute_result"
    }
   ],
   "source": [
    "summation.instance_substitution(universal_eq, assumptions=[universal_eq])"
   ]
  },
  {
   "cell_type": "code",
   "execution_count": 6,
   "metadata": {},
   "outputs": [],
   "source": [
    "%end demonstrations"
   ]
  },
  {
   "cell_type": "code",
   "execution_count": null,
   "metadata": {},
   "outputs": [],
   "source": []
  }
 ],
 "metadata": {
  "kernelspec": {
   "display_name": "Python 3",
   "language": "python",
   "name": "python3"
  },
  "language_info": {
   "codemirror_mode": {
    "name": "ipython",
    "version": 3
   },
   "file_extension": ".py",
   "mimetype": "text/x-python",
   "name": "python",
   "nbconvert_exporter": "python",
   "pygments_lexer": "ipython3",
   "version": "3.7.3"
  }
 },
 "nbformat": 4,
 "nbformat_minor": 1
}
