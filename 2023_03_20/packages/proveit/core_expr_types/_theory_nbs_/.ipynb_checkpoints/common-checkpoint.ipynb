{
 "cells": [
  {
   "cell_type": "markdown",
   "metadata": {},
   "source": [
    "Common expressions for the theory of <a class=\"ProveItLink\" href=\"theory.ipynb\">proveit.core_expr_types</a>\n",
    "========"
   ]
  },
  {
   "cell_type": "code",
   "execution_count": 1,
   "metadata": {},
   "outputs": [],
   "source": [
    "import proveit\n",
    "# Prepare this notebook for defining the common expressions of a theory:\n",
    "%common_expressions_notebook # Keep this at the top following 'import proveit'.\n",
    "\n",
    "from proveit import ExprTuple, IndexedVar, Function, ExprRange, var_range\n",
    "from proveit import (a, b, c, d, e, f, g, i, j, k, l, m, n, \n",
    "                     w, x, y, z, A, B, C, D, P, Q, R, S, U, V, W,\n",
    "                     fa, fx, gx, Pk, alpha)\n",
    "from proveit.numbers import zero, one, two, Add, frac, Neg, subtract\n",
    "from proveit.logic import Equals, Implies\n",
    "from proveit.core_expr_types import Len"
   ]
  },
  {
   "cell_type": "code",
   "execution_count": 2,
   "metadata": {},
   "outputs": [
    {
     "name": "stdout",
     "output_type": "stream",
     "text": [
      "Defining common sub-expressions for theory 'proveit.core_expr_types'\n",
      "Subsequent end-of-cell assignments will define common sub-expressions\n",
      "%end_common will finalize the definitions\n"
     ]
    }
   ],
   "source": [
    "%begin common"
   ]
  },
  {
   "cell_type": "code",
   "execution_count": 3,
   "metadata": {},
   "outputs": [
    {
     "data": {
      "text/html": [
       "<strong id=\"a_k\">a_k:</strong> <a class=\"ProveItLink\" href=\"../__pv_it/common/06428e0ed4d7375fb56a950b6b636d615ea946490/common_expr.ipynb\"><img src=\"data:image/png;base64,iVBORw0KGgoAAAANSUhEUgAAABQAAAAMBAMAAACQIoDIAAAAMFBMVEX////MzMwyMjKqqqoiIiJm\n",
       "ZmaYmJju7u5EREQQEBC6urqIiIh2dnZUVFTc3NwAAAAqL9KcAAAAAXRSTlMAQObYZgAAAAlwSFlz\n",
       "AAAOxAAADsQBlSsOGwAAAHRJREFUCNdjYOC7s28DAwSsfMDxHcJin8bA6sDA5g1ksn5gYDnAwDAL\n",
       "yORsYKhfwMD3Acis38CQz8DA1vD6AEO9AcMl5ge8+8znMXBsYHZlZeDczCDAwH774NuNDO9DBaBm\n",
       "M2RwOTyAMm8zOhyAMvsYrgkAAN1CHihznBldAAAAAElFTkSuQmCC\n",
       "\" style=\"display:inline;vertical-align:middle;\" /></a><br>"
      ],
      "text/plain": [
       "a_k: a_{k}"
      ]
     },
     "execution_count": 3,
     "metadata": {},
     "output_type": "execute_result"
    }
   ],
   "source": [
    "a_k = IndexedVar(a, k)"
   ]
  },
  {
   "cell_type": "code",
   "execution_count": 4,
   "metadata": {},
   "outputs": [
    {
     "data": {
      "text/html": [
       "<strong id=\"a_1_to_i\">a_1_to_i:</strong> <a class=\"ProveItLink\" href=\"../__pv_it/common/7230c683fcd56948c826ac1be71b01b6fb2913950/common_expr.ipynb\"><img src=\"data:image/png;base64,iVBORw0KGgoAAAANSUhEUgAAAHEAAAANBAMAAABssJxZAAAAMFBMVEX////MzMwyMjKqqqoiIiJm\n",
       "ZmaYmJju7u5EREQQEBC6urqIiIh2dnZUVFTc3NwAAAAqL9KcAAAAAXRSTlMAQObYZgAAAAlwSFlz\n",
       "AAAOxAAADsQBlSsOGwAAAS9JREFUKM9jYOC7s28DAwK8Pf2aAS9AqF/5gOM7QpxrHkN/AV6dEPV1\n",
       "DAzs0xhYHRjYk6DilQkMIQzsZ+7i1A1Rz3CagYH1AwPLAQbpLVCJeAYGHwZWsCR2AFEPApwNDPUL\n",
       "GBhMoBIzGNh/MfAv4PuISydUPRDUb2DIZ4DrZP/NwPaBga0At06I+tUXgCwDhkvMD8A6gX5j/8zA\n",
       "q2DHwMDjAOaiAZAIWP3zDcBA4tjA7MoKtpP9E1Cim8EkIICBQaQAwq1XYEBjgNXzFQNNZr998O1G\n",
       "iGtdgGbW7pG7LcDA1w7lsgBNYXBlgDJAIhD1HIgkANLJDHffU4Z3yFwYQIjUF6Lo5IEnk0bBcCQu\n",
       "HCBEjFhhrDf6wKithof8//8fkLhwgBCp3YcisYEBHxddBADvLVmTsyoQPAAAAABJRU5ErkJggg==\n",
       "\" style=\"display:inline;vertical-align:middle;\" /></a><br>"
      ],
      "text/plain": [
       "a_1_to_i: a_{1}, a_{2}, ..., a_{i}"
      ]
     },
     "execution_count": 4,
     "metadata": {},
     "output_type": "execute_result"
    }
   ],
   "source": [
    "a_1_to_i = var_range(a, one, i)"
   ]
  },
  {
   "cell_type": "code",
   "execution_count": 5,
   "metadata": {},
   "outputs": [
    {
     "data": {
      "text/html": [
       "<strong id=\"a_1_to_ip1\">a_1_to_ip1:</strong> <a class=\"ProveItLink\" href=\"../__pv_it/common/43803359e2b07a30c88f205595de2dcad0b84aa60/common_expr.ipynb\"><img src=\"data:image/png;base64,iVBORw0KGgoAAAANSUhEUgAAAIUAAAAOBAMAAADzg8IUAAAAMFBMVEX////MzMwyMjKqqqoiIiJm\n",
       "ZmaYmJju7u5EREQQEBC6urqIiIh2dnZUVFTc3NwAAAAqL9KcAAAAAXRSTlMAQObYZgAAAAlwSFlz\n",
       "AAAOxAAADsQBlSsOGwAAATZJREFUKM9jYOC7s28DAwKgcTEBNgUrH3B8x83FBBAFdchC7NMYWB0Y\n",
       "2JNQuDVnr+MyAqKA4TSMX6bAwMD6gYHlAIP0FqgQhBvAEILLDIgCCBOIGXcDDeRsYKhfwMBgAlUC\n",
       "4f5ieC+AwwyoehDgABHMQDPqNzDkMyDMgHDTcZsBUbD6AooZBgyXmB+AzWBngHMZjjAwFGCGBUzB\n",
       "8w3fkc3g2MDsygpxR70CnMvozsD+CSoEJuA8sAK+YgdkM9hvH3y7EWIGizuc+wLoCBcgZglggBKu\n",
       "KAo4NjBEdHR2dCSAzYACcHiYw9NRAN8DBmZMz8AV1BciuwPZjAMw3gtB0QIGHswAhSswYsU0440+\n",
       "MNGww9Pw/P//GRiqMcMUrqB2H9QMvkN/UFI+N6oOzGyDpoCDgXLACqUBGvtkTIx+H0kAAAAASUVO\n",
       "RK5CYII=\n",
       "\" style=\"display:inline;vertical-align:middle;\" /></a><br>"
      ],
      "text/plain": [
       "a_1_to_ip1: a_{1}, a_{2}, ..., a_{i + 1}"
      ]
     },
     "execution_count": 5,
     "metadata": {},
     "output_type": "execute_result"
    }
   ],
   "source": [
    "a_1_to_ip1 = var_range(a, one, Add(i, one))"
   ]
  },
  {
   "cell_type": "code",
   "execution_count": 6,
   "metadata": {},
   "outputs": [
    {
     "data": {
      "text/html": [
       "<strong id=\"a_1_to_j\">a_1_to_j:</strong> <a class=\"ProveItLink\" href=\"../__pv_it/common/49f428290069493177b1c561ef1abc7619b53fae0/common_expr.ipynb\"><img src=\"data:image/png;base64,iVBORw0KGgoAAAANSUhEUgAAAHIAAAAPBAMAAADKT4ZRAAAAMFBMVEX////MzMwyMjKqqqoiIiJm\n",
       "ZmaYmJju7u5EREQQEBC6urqIiIh2dnZUVFTc3NwAAAAqL9KcAAAAAXRSTlMAQObYZgAAAAlwSFlz\n",
       "AAAOxAAADsQBlSsOGwAAAUVJREFUKM9jYOC7s28DAwK8Pf2aAS9AqF/5gOM7QpxrHkN/AV6dUPUC\n",
       "DOzTGFgdGNiToOKVCQwhDOxn7uLUDVHPwODIwPqBgeUAg/QWqEQ8A4MPAytEEiuAqAcBzgaG+gUM\n",
       "DCZQiRkM7L8Y+BfwfcSlE6oeCOo3MOQzwHWy/2Zg+8DAVoBbJ0Q9+1YDhnoDhkvMD8A6gX5j/8zA\n",
       "q2DHwMDjAOai+xGkE6yelVmBgWMDsysr2E72T0CJbgaTgAAGBpECCLdegQHBABMQ9eU8AQzstw++\n",
       "3QhxrQvQlto9crcFGPjaoVwWoCkMrgxQBos7A0w9UwLMISCdzHD3PWV4h8yFA3M4i/8Bsk4eeDJp\n",
       "FAxH4iLAAThLEsZ4o3+agaEaHvL//39A4iJCCJFM96JIbGDAxwUCbgRTjYE8wLRwApk6WbcWMAAA\n",
       "veNXC1VRGgoAAAAASUVORK5CYII=\n",
       "\" style=\"display:inline;vertical-align:middle;\" /></a><br>"
      ],
      "text/plain": [
       "a_1_to_j: a_{1}, a_{2}, ..., a_{j}"
      ]
     },
     "execution_count": 6,
     "metadata": {},
     "output_type": "execute_result"
    }
   ],
   "source": [
    "a_1_to_j = var_range(a, one, j)"
   ]
  },
  {
   "cell_type": "code",
   "execution_count": 7,
   "metadata": {},
   "outputs": [
    {
     "data": {
      "text/html": [
       "<strong id=\"a_1_to_k\">a_1_to_k:</strong> <a class=\"ProveItLink\" href=\"../__pv_it/common/8800be272717bf52f3296a76bd9290449bbccb6f0/common_expr.ipynb\"><img src=\"data:image/png;base64,iVBORw0KGgoAAAANSUhEUgAAAHQAAAANBAMAAACKmVcdAAAAMFBMVEX////MzMwyMjKqqqoiIiJm\n",
       "ZmaYmJju7u5EREQQEBC6urqIiIh2dnZUVFTc3NwAAAAqL9KcAAAAAXRSTlMAQObYZgAAAAlwSFlz\n",
       "AAAOxAAADsQBlSsOGwAAARtJREFUKM9jYOC7s28DAwKgcTEBkoKVDzi+I8mgcTEBQgH7NAZWBwb2\n",
       "JAZkbs3Z67h0QhSweQOZrB8YWA4wSG+BykC4AQwhuLRCFDDMAjI5GxjqFzAwmEBlINxfDO8FcGiF\n",
       "KOD7AGTWb2DIZ0BohXDTcWuFKGBreH2Aod6A4RLzA7DWApAMhMtwBMJF8ydcAe8+83kMHBuYXVnB\n",
       "trJ/AspAuYzuEG69AlQczoMo4NzMIMDAfvvg240QB7sA7YFyXxRAuCwBQHFXBijB4g5T8D4U4SGQ\n",
       "Vma4E/kC+B4gceHAHMbI4HJ4gKyVB67khaBoARIXDg7AGLcZHWDsN/qnGRiq4Urm//+PzIUHEzyJ\n",
       "9jFcQ4kCtLSLmZS5UXgAVmFhHRfVsu4AAAAASUVORK5CYII=\n",
       "\" style=\"display:inline;vertical-align:middle;\" /></a><br>"
      ],
      "text/plain": [
       "a_1_to_k: a_{1}, a_{2}, ..., a_{k}"
      ]
     },
     "execution_count": 7,
     "metadata": {},
     "output_type": "execute_result"
    }
   ],
   "source": [
    "a_1_to_k = var_range(a, one, k)"
   ]
  },
  {
   "cell_type": "code",
   "execution_count": 8,
   "metadata": {},
   "outputs": [
    {
     "data": {
      "text/html": [
       "<strong id=\"a_1_to_m\">a_1_to_m:</strong> <a class=\"ProveItLink\" href=\"../__pv_it/common/1b82bfd6d142c0dcddaa042c515eb9e5527f4b990/common_expr.ipynb\"><img src=\"data:image/png;base64,iVBORw0KGgoAAAANSUhEUgAAAHkAAAANBAMAAAB/Z9ytAAAAMFBMVEX////MzMwyMjKqqqoiIiJm\n",
       "ZmaYmJju7u5EREQQEBC6urqIiIh2dnZUVFTc3NwAAAAqL9KcAAAAAXRSTlMAQObYZgAAAAlwSFlz\n",
       "AAAOxAAADsQBlSsOGwAAASJJREFUKM9jYOC7s28DAwKgcTEBqoKVDzi+M+DkYgIUBezTGFgdGNiT\n",
       "ULg1Z6/j0gxRAAOsHxhYDjBIb0HhBjCE4NINUQADnA0M9QsYGExQuL8Y3gvg0A1VDwX1GxjyGRC6\n",
       "Idx03LohClITd1/Y1gjkGTBcYn4A1s3OAOcyHGFgKMD0M0zB86xpDHMZ9jIwcGxgdmWF2F2vAOcy\n",
       "ujOwf4IKgQk4D6yAr1qB4SNDDFD49sG3GyG6Wdzh3BdAi12AmCWAAUq4oijg3cA4gcEZ7iiwv83h\n",
       "KSKA7wEDM6bT4Qo4Bbgb+D4IoOiGx8QLQdECBh7MIIMreA+0na0hAMp7o38a6Ch4Cpz//z8DQzVm\n",
       "qMEVrGVgesB3G8Vx3KhqMZM7N7oAAJ83Y4XgPXDlAAAAAElFTkSuQmCC\n",
       "\" style=\"display:inline;vertical-align:middle;\" /></a><br>"
      ],
      "text/plain": [
       "a_1_to_m: a_{1}, a_{2}, ..., a_{m}"
      ]
     },
     "execution_count": 8,
     "metadata": {},
     "output_type": "execute_result"
    }
   ],
   "source": [
    "a_1_to_m = var_range(a, one, m)"
   ]
  },
  {
   "cell_type": "code",
   "execution_count": 9,
   "metadata": {},
   "outputs": [
    {
     "data": {
      "text/html": [
       "<strong id=\"a_1_to_n\">a_1_to_n:</strong> <a class=\"ProveItLink\" href=\"../__pv_it/common/7ee2dd28754734e63298daa7955625a3d904698e0/common_expr.ipynb\"><img src=\"data:image/png;base64,iVBORw0KGgoAAAANSUhEUgAAAHUAAAANBAMAAABlWzwjAAAAMFBMVEX////MzMwyMjKqqqoiIiJm\n",
       "ZmaYmJju7u5EREQQEBC6urqIiIh2dnZUVFTc3NwAAAAqL9KcAAAAAXRSTlMAQObYZgAAAAlwSFlz\n",
       "AAAOxAAADsQBlSsOGwAAAUhJREFUKM99kj1Lw1AUQA806etnrOgmSP6BDgU3cbC4OHQQHP0AFxe7\n",
       "SpHq5OCgU3EqXR2ECG5KqYtLnVyr0EUctFp1EHSoL3npS2to73Tfu+fc3NwErIeaQxDtxgsjo58/\n",
       "a8W+g0qiwnFhpNvHizLmAmLTP+6us4K4exzqK16F2cGoM3XpH9dgGTMoh0LxKuL7lKqQ9Y+niB/G\n",
       "qtbHMNfnvSg57KBd8Uu0Q7Qw3FX81sZVXuaz3EdanivfUXyRtuchJVcQ9twlePzzdpkKxJxIzvSe\n",
       "Kz5l6YhsXnacLFCyXdL273Xi8VbRRi5bNG/aF2rmRdl373q6mcE6BGNJXhmyD7le4gKKTzuJEz2O\n",
       "60b0h3niDeZCMwdAPGPmM/1uSv86B+OrUA+5GuAdY6Lnvs40oKi7drsdhBNyNcA5yduB0iCcDO/5\n",
       "X7c/8z9ZqBgCeEQAAAAASUVORK5CYII=\n",
       "\" style=\"display:inline;vertical-align:middle;\" /></a><br>"
      ],
      "text/plain": [
       "a_1_to_n: a_{1}, a_{2}, ..., a_{n}"
      ]
     },
     "execution_count": 9,
     "metadata": {},
     "output_type": "execute_result"
    }
   ],
   "source": [
    "a_1_to_n = var_range(a, one, n)"
   ]
  },
  {
   "cell_type": "code",
   "execution_count": 10,
   "metadata": {},
   "outputs": [
    {
     "data": {
      "text/html": [
       "<strong id=\"a_i_to_j\">a_i_to_j:</strong> <a class=\"ProveItLink\" href=\"../__pv_it/common/30a0a26b5bf024e53f59b1b53df145eac0b723cf0/common_expr.ipynb\"><img src=\"data:image/png;base64,iVBORw0KGgoAAAANSUhEUgAAAIIAAAAPBAMAAADaAwrIAAAAMFBMVEX////MzMwyMjKqqqoiIiJm\n",
       "ZmaYmJju7u5EREQQEBC6urqIiIh2dnZUVFTc3NwAAAAqL9KcAAAAAXRSTlMAQObYZgAAAAlwSFlz\n",
       "AAAOxAAADsQBlSsOGwAAAWhJREFUKM+lUzFLw0AYfTQ9r9baZhVBMrlapOAmFSwuDje4W/wDRhxE\n",
       "Sk0nKTjoJJ1ER3GJ0G626NxFXOOQrYMWig4FXbz0LrmTEgn4QY53j7yX73u5A/KvPRdRDftvSFZK\n",
       "d+tnxsCJ2GSvcG6D+gkchA4m6CVIGegL+riKHSAXNkX3Yg2kDhsgI6QfI34X2JaQ8WexHeugdLMN\n",
       "ONcR3wL9krARLKVYB6VzXOwDd8+itW/MjJDtJnAQOtopwinixRi4PBSbE5+Yt9ZrBVt3sKczCBwC\n",
       "nU8MCxnXqJD8YRn0g/NnKDE2KOk9THjH0sBkmehwlGOg3tPwnu+BTf6x+sOSZ3If0my2mqeih4BP\n",
       "B7lWIEF6C1KHVDWc6gAwwnbp2NSnMKbHWItQITw6q4SfgpA1LKY75KZjVL9/IQT1HlCLgvJ86fC+\n",
       "0td4laS6Bl2dd3+/1ojhec0puPzHuWcJ7kbq5gL/K9Kx8QP3vmJNvQGwHAAAAABJRU5ErkJggg==\n",
       "\" style=\"display:inline;vertical-align:middle;\" /></a><br>"
      ],
      "text/plain": [
       "a_i_to_j: a_{i}, a_{i + 1}, ..., a_{j}"
      ]
     },
     "execution_count": 10,
     "metadata": {},
     "output_type": "execute_result"
    }
   ],
   "source": [
    "a_i_to_j = var_range(a, i, j)"
   ]
  },
  {
   "cell_type": "code",
   "execution_count": 11,
   "metadata": {},
   "outputs": [
    {
     "data": {
      "text/html": [
       "<strong id=\"a_1_to_0\">a_1_to_0:</strong> <a class=\"ProveItLink\" href=\"../__pv_it/common/ee06aa12a88b3cfdd60dec3f1404e99e67f9343e0/common_expr.ipynb\"><img src=\"data:image/png;base64,iVBORw0KGgoAAAANSUhEUgAAAHMAAAANBAMAAABoRUxkAAAAMFBMVEX////MzMwyMjKqqqoiIiJm\n",
       "ZmaYmJju7u5EREQQEBC6urqIiIh2dnZUVFTc3NwAAAAqL9KcAAAAAXRSTlMAQObYZgAAAAlwSFlz\n",
       "AAAOxAAADsQBlSsOGwAAAUZJREFUKM99kj1LA0EQhh/JXTbReFGwE+T+gVcE7MTCYGORQkhpsLUw\n",
       "rQQ5rSwsxEasJKUWwgl2isT6rGyjEAsrjUQtAlrEvb2vhOMy1bDv887Mzi4Yz/cOcXTdd8bGEH/Z\n",
       "yfVjYfKc4/pYa8yLU/QVxFYg7NbYQDy+pNp9vuC2QO+htZi/CZRNWEf31JTw+W0uIL+P3YRSoJwh\n",
       "fik2ja80q8+fUOxgO+wQWcUf2R7ZerpV8UafvIVt8ZTpKKu8n/hh2lyGgrx+0uYtQPGvfbQaOSdT\n",
       "1lVX8S2VI0qVCszVsU0PNIPzKFH8hOzqINoP3Wt/4FVZde9uoT2DcQjamjzSZBnKYeIBipcDF61w\n",
       "Fs+aiV7kjU9YSgwcA2pNQ9ZC9GEOZqvQSlgjgFuuwvRj0YVG9ACDQQ/hJKyNuIhbHVFG2ankhkeB\n",
       "f5H4XfjNQlyMAAAAAElFTkSuQmCC\n",
       "\" style=\"display:inline;vertical-align:middle;\" /></a><br>"
      ],
      "text/plain": [
       "a_1_to_0: a_{1}, a_{2}, ..., a_{0}"
      ]
     },
     "execution_count": 11,
     "metadata": {},
     "output_type": "execute_result"
    }
   ],
   "source": [
    "a_1_to_0 = var_range(a, one, zero)"
   ]
  },
  {
   "cell_type": "code",
   "execution_count": 12,
   "metadata": {},
   "outputs": [
    {
     "data": {
      "text/html": [
       "<strong id=\"a_i\">a_i:</strong> <a class=\"ProveItLink\" href=\"../__pv_it/common/c1fad46b1cc25ea9a3a84c0aa346db8e42543d970/common_expr.ipynb\"><img src=\"data:image/png;base64,iVBORw0KGgoAAAANSUhEUgAAABEAAAAMBAMAAAB2C0uMAAAAMFBMVEX////MzMwyMjKqqqoiIiJm\n",
       "ZmaYmJju7u5EREQQEBC6urqIiIh2dnZUVFTc3NwAAAAqL9KcAAAAAXRSTlMAQObYZgAAAAlwSFlz\n",
       "AAAOxAAADsQBlSsOGwAAAGJJREFUCNdjYOC7s28DAxisfMDxnYGhjoGBfRoDqwMDw2kGBtYPDCwH\n",
       "wJKcDQz1C8Cs+g0M+QwMqy8AWQYMl5ifbwBq4tjA7MrKVwzUxH774NuNQD4DFNQXwlhGrDBW7T4G\n",
       "AKSwGbkQM+3iAAAAAElFTkSuQmCC\n",
       "\" style=\"display:inline;vertical-align:middle;\" /></a><br>"
      ],
      "text/plain": [
       "a_i: a_{i}"
      ]
     },
     "execution_count": 12,
     "metadata": {},
     "output_type": "execute_result"
    }
   ],
   "source": [
    "a_i = IndexedVar(a, i)"
   ]
  },
  {
   "cell_type": "code",
   "execution_count": 13,
   "metadata": {},
   "outputs": [
    {
     "data": {
      "text/html": [
       "<strong id=\"a_ip1\">a_ip1:</strong> <a class=\"ProveItLink\" href=\"../__pv_it/common/10b5a10665354ca69f6efe21edbe7e0a68e2b6fd0/common_expr.ipynb\"><img src=\"data:image/png;base64,iVBORw0KGgoAAAANSUhEUgAAACUAAAAOBAMAAABa28jFAAAAMFBMVEX////MzMwyMjKqqqoiIiJm\n",
       "ZmaYmJju7u5EREQQEBC6urqIiIh2dnZUVFTc3NwAAAAqL9KcAAAAAXRSTlMAQObYZgAAAAlwSFlz\n",
       "AAAOxAAADsQBlSsOGwAAAItJREFUGNNjYOC7s28DAxpY+YDjOwNDHbIQ+zQGVgcGhtMwfpkCAwPr\n",
       "BwaWAxAuKxAz7gYq4GxgqF8AEeMAEcxAsfoNDPkMDKsvoIgZMFxifr7hO7IYxwZmV1a+YgdkMfbb\n",
       "B99uBMowRHR0dnQkgMUgoL4QWR0EGLFiitXug4rxHfqD4lMOBkzACqUBrL8iv72Inb0AAAAASUVO\n",
       "RK5CYII=\n",
       "\" style=\"display:inline;vertical-align:middle;\" /></a><br>"
      ],
      "text/plain": [
       "a_ip1: a_{i + 1}"
      ]
     },
     "execution_count": 13,
     "metadata": {},
     "output_type": "execute_result"
    }
   ],
   "source": [
    "a_ip1 = IndexedVar(a, Add(i, one))"
   ]
  },
  {
   "cell_type": "code",
   "execution_count": 14,
   "metadata": {},
   "outputs": [
    {
     "data": {
      "text/html": [
       "<strong id=\"alpha_k\">alpha_k:</strong> <a class=\"ProveItLink\" href=\"../__pv_it/common/6bf27318e99ee62ddd069efc90296ec075ae425d0/common_expr.ipynb\"><img src=\"data:image/png;base64,iVBORw0KGgoAAAANSUhEUgAAABYAAAAMBAMAAACU11D1AAAAMFBMVEX///+YmJgyMjJmZmZERESI\n",
       "iIiqqqoQEBDu7u66uroiIiLc3NzMzMxUVFR2dnYAAAB9mGmPAAAAAXRSTlMAQObYZgAAAAlwSFlz\n",
       "AAAOxAAADsQBlSsOGwAAAHhJREFUCNdjYGB49/YAAxTsmsBRzZ0AYZcyMDizNjAuBTKZPzAwGPEx\n",
       "MFQC2ewODAzPXzBwA4UY+gMYGN4nMDA6bH3AwA9kP2dg4I3OqGZgdmBgtOdhYA9jAJr8TjCC+SnD\n",
       "fmO4JQwinAs2wNhXeRY8gLG9GS4eAABEQR1QKzbTrgAAAABJRU5ErkJggg==\n",
       "\" style=\"display:inline;vertical-align:middle;\" /></a><br>"
      ],
      "text/plain": [
       "alpha_k: alpha_{k}"
      ]
     },
     "execution_count": 14,
     "metadata": {},
     "output_type": "execute_result"
    }
   ],
   "source": [
    "alpha_k = IndexedVar(alpha, k)"
   ]
  },
  {
   "cell_type": "code",
   "execution_count": 15,
   "metadata": {},
   "outputs": [
    {
     "data": {
      "text/html": [
       "<strong id=\"bj\">bj:</strong> <a class=\"ProveItLink\" href=\"../__pv_it/common/d26e31a5f86f77aba8a78aaab7ac39ee894a183e0/common_expr.ipynb\"><img src=\"data:image/png;base64,iVBORw0KGgoAAAANSUhEUgAAABAAAAAUBAMAAAB2TKBEAAAAMFBMVEX///+YmJjMzMzc3NyIiIhU\n",
       "VFR2dna6urqqqqpmZmYyMjIiIiIQEBBERETu7u4AAAD7tRWPAAAAAXRSTlMAQObYZgAAAAlwSFlz\n",
       "AAAOxAAADsQBlSsOGwAAAHhJREFUCNdj4LuzgQECuCZAGfwNUEb9AygjG0ozLHWJANN8vx68N2Bg\n",
       "UGDg+MfA48DAsImBcwEDfwJIijuBob4Basz8B3yeDQz8CnwHGTg5FjCwCvBOYHjHNoGBL2wiyEIB\n",
       "mIUGUIYOzB5XGGMh1G1FByAMTs8HDABo5BkUTAmEVQAAAABJRU5ErkJggg==\n",
       "\" style=\"display:inline;vertical-align:middle;\" /></a><br>"
      ],
      "text/plain": [
       "bj: b_{j}"
      ]
     },
     "execution_count": 15,
     "metadata": {},
     "output_type": "execute_result"
    }
   ],
   "source": [
    "bj = IndexedVar(b, j)"
   ]
  },
  {
   "cell_type": "code",
   "execution_count": 16,
   "metadata": {},
   "outputs": [
    {
     "data": {
      "text/html": [
       "<strong id=\"b_i\">b_i:</strong> <a class=\"ProveItLink\" href=\"../__pv_it/common/370d9bfc44fef1dec86f0a57d14d7ae6e1b924340/common_expr.ipynb\"><img src=\"data:image/png;base64,iVBORw0KGgoAAAANSUhEUgAAAA8AAAARBAMAAADwJOuSAAAAMFBMVEX///+YmJjMzMzc3NyIiIhU\n",
       "VFR2dna6urqqqqpmZmYyMjIiIiIQEBBERETu7u4AAAD7tRWPAAAAAXRSTlMAQObYZgAAAAlwSFlz\n",
       "AAAOxAAADsQBlSsOGwAAAG5JREFUCNdj4LuzgQECuCZAGfwNUEb9AygjG0ozLHWJANN8vx68N2B4\n",
       "zMDA8Y+Bx4EhhYGBcwEDfwJIijuBob4Basz8ByUBQIYC30E+h38MDKwCvBOYXwDt4wubyMDA6wA1\n",
       "9P0jKKOLE8p46swAAHKbGiitNh5/AAAAAElFTkSuQmCC\n",
       "\" style=\"display:inline;vertical-align:middle;\" /></a><br>"
      ],
      "text/plain": [
       "b_i: b_{i}"
      ]
     },
     "execution_count": 16,
     "metadata": {},
     "output_type": "execute_result"
    }
   ],
   "source": [
    "b_i = IndexedVar(b, i)"
   ]
  },
  {
   "cell_type": "code",
   "execution_count": 17,
   "metadata": {},
   "outputs": [
    {
     "data": {
      "text/html": [
       "<strong id=\"b_1_to_i\">b_1_to_i:</strong> <a class=\"ProveItLink\" href=\"../__pv_it/common/6614125435656057a807c01b2703aec599ab667b0/common_expr.ipynb\"><img src=\"data:image/png;base64,iVBORw0KGgoAAAANSUhEUgAAAGsAAAASBAMAAACuvD02AAAAMFBMVEX///+YmJjMzMzc3NyIiIhU\n",
       "VFR2dna6urqqqqpmZmYyMjIiIiIQEBBERETu7u4AAAD7tRWPAAAAAXRSTlMAQObYZgAAAAlwSFlz\n",
       "AAAOxAAADsQBlSsOGwAAAU5JREFUKM9j4LuzgQEB3p5mwAsQqrkmIIuvxK8NoZq/AVn4BwFtcNX1\n",
       "D5BE2f8R0AZXnY0syraBgDa46qUuEUhOD3FtwKsNpprv14P3BnDR9+v4PuMNSbDqxwwMHP8YeBz4\n",
       "pKDC/Q8YjvClhT7ApQ2smiGFgYFzAQN/goo3VHgWA8M3TgZOnD4EqwYxuBMY6hsYuqHC2xjYf/AX\n",
       "MH/CpQ2iGhIR8x/Atf1g4PzH+AC3NrDqkgAgQ4HvIANYG8hDnxjeCECiAdN7IBGQaj4HYOSyCvBO\n",
       "AGvj+wUUDmS4CSS1H0B47xcwoDFAqplfAE3lC5vIALFtN9C4p5lAy5jvQXncoAS4kwHKAImAVfM6\n",
       "wBwA0sYBc5clgzESDxH4MJH3j5C1sUHZzJeU5iF4SAkPxujihDLM1gNj8AmUw/P//wcEDwHgIk+d\n",
       "kYUdGHDz0EUALzNqGRTgpYAAAAAASUVORK5CYII=\n",
       "\" style=\"display:inline;vertical-align:middle;\" /></a><br>"
      ],
      "text/plain": [
       "b_1_to_i: b_{1}, b_{2}, ..., b_{i}"
      ]
     },
     "execution_count": 17,
     "metadata": {},
     "output_type": "execute_result"
    }
   ],
   "source": [
    "b_1_to_i = var_range(b, one, i)"
   ]
  },
  {
   "cell_type": "code",
   "execution_count": 18,
   "metadata": {},
   "outputs": [
    {
     "data": {
      "text/html": [
       "<strong id=\"b_1_to_ip1\">b_1_to_ip1:</strong> <a class=\"ProveItLink\" href=\"../__pv_it/common/5926cc47b442451e81bdc31f016182c775b4fb880/common_expr.ipynb\"><img src=\"data:image/png;base64,iVBORw0KGgoAAAANSUhEUgAAAH8AAAATBAMAAABLpc8BAAAAMFBMVEX///+YmJjMzMzc3NyIiIhU\n",
       "VFR2dna6urqqqqpmZmYyMjIiIiIQEBBERETu7u4AAAD7tRWPAAAAAXRSTlMAQObYZgAAAAlwSFlz\n",
       "AAAOxAAADsQBlSsOGwAAAVRJREFUOMulkr9Lw0AcxR+NSmPMtXMHKeLi1smteGA3Fydxkgy66Ore\n",
       "zgoSZxGzOJtVhIJ/gf9AA/En3bIpOLRevrmrF65nBh8kzefe4zX53oGNYvyqTKbm+cuhnVCRJjUG\n",
       "dkJFmtRP7YSKNOnkD0JFmnTb27dSVZrm+p1mHQvN2QXyX/Wl+gQrnLV0+jg6sBWQj0OFzxHgRmgE\n",
       "6ztyhSjEla2A/OJJXLWeOBVegP4A5zJA9IWttqWgSOfy6YVi2tibdFZAtGovIP90t1TQZo+gAgZF\n",
       "+WaZ+618xid6wWLTD4uCLFJUG4pxyxW6zSj3nXGsF7C9SxQF3lBRV/z9g7i8/ODT7V73fY7rZJQk\n",
       "TSooRDO4kOCETgd18xuUn73ob6AVBBK6axsplswJKv/MNQo278TZYFzS03QKvJlDVP77tixwjj+5\n",
       "FlgoxblRUPZ9/FOu/P0Bm9JvKfvGEi4AAAAASUVORK5CYII=\n",
       "\" style=\"display:inline;vertical-align:middle;\" /></a><br>"
      ],
      "text/plain": [
       "b_1_to_ip1: b_{1}, b_{2}, ..., b_{i + 1}"
      ]
     },
     "execution_count": 18,
     "metadata": {},
     "output_type": "execute_result"
    }
   ],
   "source": [
    "b_1_to_ip1 = var_range(b, one, Add(i, one))"
   ]
  },
  {
   "cell_type": "code",
   "execution_count": 19,
   "metadata": {},
   "outputs": [
    {
     "data": {
      "text/html": [
       "<strong id=\"b_1_to_j\">b_1_to_j:</strong> <a class=\"ProveItLink\" href=\"../__pv_it/common/d0e70829681f7e0560cecc174fdf76cb311d43400/common_expr.ipynb\"><img src=\"data:image/png;base64,iVBORw0KGgoAAAANSUhEUgAAAGwAAAAUBAMAAACaOcVSAAAAMFBMVEX///+YmJjMzMzc3NyIiIhU\n",
       "VFR2dna6urqqqqpmZmYyMjIiIiIQEBBERETu7u4AAAD7tRWPAAAAAXRSTlMAQObYZgAAAAlwSFlz\n",
       "AAAOxAAADsQBlSsOGwAAAWJJREFUOMtj4LuzgQEB3p5mwAsQqrkmIIuvxK8NoZq/AVn4BwFtcNX1\n",
       "D5BE2f8R0AZXnY0syraBgDa46qUuEUhOD3FtwKsNpprv14P3BnDR9+v4PuMNSYhqBQaOfww8DnxS\n",
       "UOH+BwxH+NJCH+DSBlbNwLCJgXMBA3+CijdUeBYDwzdOBk6cPgSrBjG4ExjqGxi6ocLbGNh/8Bcw\n",
       "f8KlDaIaEhHzH8C1/WDg/Mf4ALc2sGo+zwYGfgW+gwxgbSAPfWJ4IwCJBkzv8YG0gVRzcixgYBXg\n",
       "nQDWxvcLKBzIcBNIaj+A8N4vYEAwwARY9Tu2CQx8YRMZILbtBlrwNBNoGfM9KI8blAB3MkAZ3PsY\n",
       "oKq5BKAOAGnjgLnLksEYiYcAfXAfGiBpY4OymS8pzUPwkEACjKEDpc3WpzAwPIFyeP7//4DgIQWJ\n",
       "A4zliizswICbBwIscNZCBjIAV9EBcrRxej5gAAC7Z2cWYfOoqAAAAABJRU5ErkJggg==\n",
       "\" style=\"display:inline;vertical-align:middle;\" /></a><br>"
      ],
      "text/plain": [
       "b_1_to_j: b_{1}, b_{2}, ..., b_{j}"
      ]
     },
     "execution_count": 19,
     "metadata": {},
     "output_type": "execute_result"
    }
   ],
   "source": [
    "b_1_to_j = var_range(b, one, j)"
   ]
  },
  {
   "cell_type": "code",
   "execution_count": 20,
   "metadata": {},
   "outputs": [
    {
     "data": {
      "text/html": [
       "<strong id=\"b_1_to_k\">b_1_to_k:</strong> <a class=\"ProveItLink\" href=\"../__pv_it/common/90322d8373d65023569854fae49c596eb605766f0/common_expr.ipynb\"><img src=\"data:image/png;base64,iVBORw0KGgoAAAANSUhEUgAAAG4AAAASBAMAAABIlfZyAAAAMFBMVEX///+YmJjMzMzc3NyIiIhU\n",
       "VFR2dna6urqqqqpmZmYyMjIiIiIQEBBERETu7u4AAAD7tRWPAAAAAXRSTlMAQObYZgAAAAlwSFlz\n",
       "AAAOxAAADsQBlSsOGwAAAUFJREFUKM9j4LuzgQEBUHmYAEmeawKyBCoPEyDk+RuQxVF5mAAhX/8A\n",
       "WRyVhwkQ8tko4tn4tSHJL3WJQBJH5WECuDzfrwfvDRDhhcLDEp5weY5/DDwOfFJQcTDvWWocLn1g\n",
       "ecYtQBbnAgb+BBVvqDiYN4FhNi59YHmG40AWdwJDfQNDN1QczPvOYK+AQx9YnvkDJELmP4DrA/Pk\n",
       "cOsDyzNeMElg4FfgO8gA1geKGQgPFNqY8cgHk2d17jvMwCrAOwGsj+8XUBzCY9oH4b1fABWG88Dy\n",
       "PB4MCgx8YRMZIPbtBloB4dk+gPC4QYlxJwOU4N4HlbefCfcGSB8HzGnME5gNEDwE6IPSsuwbDJD0\n",
       "scHkbZU0HyB4CJAApUOYNkCZZutTGBiewOTP//+PxEOEiwOUcZkhEDm8HVBUOWDoY0HmAACCMWSv\n",
       "D40JtQAAAABJRU5ErkJggg==\n",
       "\" style=\"display:inline;vertical-align:middle;\" /></a><br>"
      ],
      "text/plain": [
       "b_1_to_k: b_{1}, b_{2}, ..., b_{k}"
      ]
     },
     "execution_count": 20,
     "metadata": {},
     "output_type": "execute_result"
    }
   ],
   "source": [
    "b_1_to_k = var_range(b, one, k)"
   ]
  },
  {
   "cell_type": "code",
   "execution_count": 21,
   "metadata": {},
   "outputs": [
    {
     "data": {
      "text/html": [
       "<strong id=\"b_1_to_m\">b_1_to_m:</strong> <a class=\"ProveItLink\" href=\"../__pv_it/common/6eefced2bf89c9506c31ed6f9f76970894a7c8d00/common_expr.ipynb\"><img src=\"data:image/png;base64,iVBORw0KGgoAAAANSUhEUgAAAHMAAAASBAMAAACaxfwqAAAAMFBMVEX///+YmJjMzMzc3NyIiIhU\n",
       "VFR2dna6urqqqqpmZmYyMjIiIiIQEBBERETu7u4AAAD7tRWPAAAAAXRSTlMAQObYZgAAAAlwSFlz\n",
       "AAAOxAAADsQBlSsOGwAAAUBJREFUOMtj4LuzgQEBUHmYAFWeawIDTh4mQJHnb2DAycMEKPL1Dxhw\n",
       "8jABinw2ilQ2fp2o8ktdInDyMAGyPN+vB+8NcPCwhDCyPMc/Bh4HPilk3rPUOFxawfIwDucCBv4E\n",
       "FW9k3gSG2bi0guVhHO4EhvoGhm5k3ncGewUcWiGqERE1/wFcK5gnh1srWF5SyCXA8RKQo8B3kAGs\n",
       "lY8BxgNFAWb8wuT5xA8yHGVwZWBgFeCdANH6fgGMx7QPGJRQETAB54HkmZ8sYPjEMA0oGjaRAaKV\n",
       "ex+MZwu0cjcQc4MSLJjYiSzP6sB0gGEHzDFgv/ZBOcwTmA0YODBdDJPnUWC5wPxBAVkrLNRtlTQf\n",
       "MLBhhhFM3h5oL+MFaBYyW58CdAwsrs///8/A8AQzmGDypQxcBswhyK5iQVHogKGVBY0PAEKnZxAQ\n",
       "JUoNAAAAAElFTkSuQmCC\n",
       "\" style=\"display:inline;vertical-align:middle;\" /></a><br>"
      ],
      "text/plain": [
       "b_1_to_m: b_{1}, b_{2}, ..., b_{m}"
      ]
     },
     "execution_count": 21,
     "metadata": {},
     "output_type": "execute_result"
    }
   ],
   "source": [
    "b_1_to_m = var_range(b, one, m)"
   ]
  },
  {
   "cell_type": "code",
   "execution_count": 22,
   "metadata": {},
   "outputs": [
    {
     "data": {
      "text/html": [
       "<strong id=\"b_1_to_n\">b_1_to_n:</strong> <a class=\"ProveItLink\" href=\"../__pv_it/common/e412a64d744f2b57ff9b13d3bf1075e35d4e6ad10/common_expr.ipynb\"><img src=\"data:image/png;base64,iVBORw0KGgoAAAANSUhEUgAAAG4AAAASBAMAAABIlfZyAAAAMFBMVEX///+YmJjMzMzc3NyIiIhU\n",
       "VFR2dna6urqqqqpmZmYyMjIiIiIQEBBERETu7u4AAAD7tRWPAAAAAXRSTlMAQObYZgAAAAlwSFlz\n",
       "AAAOxAAADsQBlSsOGwAAAV5JREFUKM9j4LuzgQEB3p5mwAuQ5LkmIEusxK8PSZ6/AVn8BwF9CPn6\n",
       "B0jC7P/wa0OSz0YWZ9uAXx+S/FKXCIQ4V4hrAz59CHm+Xw/eG8DF36/j+4xPH0Ke4x8DjwOfFFS8\n",
       "/wHDEb600Ae49IHkISzOBQz8CSreUPFZDAzfOBk4cfoSJA9hcScw1DcwdEPFtzGw/+AvYP6ESx9I\n",
       "Hh598x/A9f1g4PzH+AC3PrD8RBVPoD4FvoMMYH0gT31ieCMADm0+TD0w+Yc1AjwGDKwCvBPA+vh+\n",
       "AcUDGW4CSe0HDO8XgEJvAVQYzgDJ23kx8D9g4AubyACxbzfQwKeZQOuY7wG9vQ/kd1DS3QljwOVD\n",
       "GGpgbgDp44CFviWDMQNDH4Y74fKHGGYyIeljg7KZLynNY2BIwExjMPkPDJuaIEyz9SkMDE+g4jz/\n",
       "/39g4HPA0AeTZw9gcBNAEkdRyYIZnijyAHJLa+UgSr2oAAAAAElFTkSuQmCC\n",
       "\" style=\"display:inline;vertical-align:middle;\" /></a><br>"
      ],
      "text/plain": [
       "b_1_to_n: b_{1}, b_{2}, ..., b_{n}"
      ]
     },
     "execution_count": 22,
     "metadata": {},
     "output_type": "execute_result"
    }
   ],
   "source": [
    "b_1_to_n = var_range(b, one, n)"
   ]
  },
  {
   "cell_type": "code",
   "execution_count": 23,
   "metadata": {},
   "outputs": [
    {
     "data": {
      "text/html": [
       "<strong id=\"b_j_to_k\">b_j_to_k:</strong> <a class=\"ProveItLink\" href=\"../__pv_it/common/10f30c65c6611de9b6065d33e6f2555198a1cee30/common_expr.ipynb\"><img src=\"data:image/png;base64,iVBORw0KGgoAAAANSUhEUgAAAIIAAAAUBAMAAACzEviQAAAAMFBMVEX///+YmJjMzMzc3NyIiIhU\n",
       "VFR2dna6urqqqqpmZmYyMjIiIiIQEBBERETu7u4AAAD7tRWPAAAAAXRSTlMAQObYZgAAAAlwSFlz\n",
       "AAAOxAAADsQBlSsOGwAAAadJREFUOMtj4LuzgQEB3p5mIBIg6eOagCyxklgTkPTxNyCL/yDaBIS+\n",
       "+gdIwuz/iDYBoS8bWZhtA9EmIPQtdYlA8lyIawORJsD18f168N6AgUEBwnu/ju8zAwMTMXEB0QcE\n",
       "HP8YeBwYGDZBxPsfMBxhYOBWgCmTwmkCWB/jFiCLcwEDfwJcfBYDwzcoExRZKt44TYDoOw5kcScw\n",
       "1CO8vo2BHRafF0BEN04TwPqYP0Cidf4DPs8GWHLg/MfwZAYRJoD1MV4wSWDgV+A7yMDJsYCBARS/\n",
       "nxjeCDBM6EIx4QFmKIJMAOljde47zMAqwDuB4R3bBGDgAsUDGW4y8D3IRDYBLP5+AZQB54H18XgA\n",
       "I5EvbCIoHQgwMOwGWvY0E8hgWMjAeffu2bsXIW4AiXODwnUnA5Tg3scA0Wc/UwHuK2DUcsCd+xnF\n",
       "FxyY3uiD0rLsGwygTB1QiobJMx1AMYENMxhh0R/CtAHGdAXiJzB5lgCYCWbrU5DEESHpAGVcZgiE\n",
       "eWMhEDvAM4cA3A0MyOJwwIJZWBQdQOIt14GnSaIBpydyYE2ZR4peBgCI4Xij/5ir9gAAAABJRU5E\n",
       "rkJggg==\n",
       "\" style=\"display:inline;vertical-align:middle;\" /></a><br>"
      ],
      "text/plain": [
       "b_j_to_k: b_{j}, b_{j + 1}, ..., b_{k}"
      ]
     },
     "execution_count": 23,
     "metadata": {},
     "output_type": "execute_result"
    }
   ],
   "source": [
    "b_j_to_k = var_range(b, j, k)"
   ]
  },
  {
   "cell_type": "code",
   "execution_count": 24,
   "metadata": {},
   "outputs": [
    {
     "data": {
      "text/html": [
       "<strong id=\"b_ip1\">b_ip1:</strong> <a class=\"ProveItLink\" href=\"../__pv_it/common/ff2fac9943968683faa83a72ed9a010d6e8eb0af0/common_expr.ipynb\"><img src=\"data:image/png;base64,iVBORw0KGgoAAAANSUhEUgAAACMAAAATBAMAAADojanHAAAAMFBMVEX///+YmJjMzMzc3NyIiIhU\n",
       "VFR2dna6urqqqqpmZmYyMjIiIiIQEBBERETu7u4AAAD7tRWPAAAAAXRSTlMAQObYZgAAAAlwSFlz\n",
       "AAAOxAAADsQBlSsOGwAAAJhJREFUGNNj4LuzgQEdcE3AEOJvwBCqf4AhlI0hwrDUJQJNhO/Xg/cG\n",
       "DI+RhTj+MfA4MKTAuA8XMDBwLmDgTwDzOIGYyQXoSu4EhnqIM3jBmjaAnTX/QUkAipAC30E+h3/I\n",
       "QqwCvBOYX2xAFuILmwjkOTDMvXvn7l0BsBAYvH+ErAoMujgxhJ46Q4WYs745IPmDF9P/nFAaAHAA\n",
       "J+QEtVITAAAAAElFTkSuQmCC\n",
       "\" style=\"display:inline;vertical-align:middle;\" /></a><br>"
      ],
      "text/plain": [
       "b_ip1: b_{i + 1}"
      ]
     },
     "execution_count": 24,
     "metadata": {},
     "output_type": "execute_result"
    }
   ],
   "source": [
    "b_ip1 = IndexedVar(b, Add(i, one))"
   ]
  },
  {
   "cell_type": "code",
   "execution_count": 25,
   "metadata": {},
   "outputs": [
    {
     "data": {
      "text/html": [
       "<strong id=\"b_kp1\">b_kp1:</strong> <a class=\"ProveItLink\" href=\"../__pv_it/common/8df483a90dbc2be7957f33e8b8aa4d476071fdbd0/common_expr.ipynb\"><img src=\"data:image/png;base64,iVBORw0KGgoAAAANSUhEUgAAACYAAAATBAMAAAAOpGKDAAAAMFBMVEX///+YmJjMzMzc3NyIiIhU\n",
       "VFR2dna6urqqqqpmZmYyMjIiIiIQEBBERETu7u4AAAD7tRWPAAAAAXRSTlMAQObYZgAAAAlwSFlz\n",
       "AAAOxAAADsQBlSsOGwAAAKZJREFUGNNj4LuzgQEDcE3AFONvwBSrf4Aplo0pxLDUJQJdiO/Xg/cG\n",
       "aGIc/xh4HBi3INRIMTBwLmDgT2A4DuaDXKXizcDAncBQ38D8ASx2AUR0g503/wHjBZMEZDEFvoMM\n",
       "rM59h5HEWAV4JzDweDAoIInxhU1kYLCfqcDAeffu2bsXwWJgIMu+wQBJHRiEMG1IQBe7zBAIM89s\n",
       "fQqKny5gCQ5o6AIAomQtb5sQ3R8AAAAASUVORK5CYII=\n",
       "\" style=\"display:inline;vertical-align:middle;\" /></a><br>"
      ],
      "text/plain": [
       "b_kp1: b_{k + 1}"
      ]
     },
     "execution_count": 25,
     "metadata": {},
     "output_type": "execute_result"
    }
   ],
   "source": [
    "b_kp1 = IndexedVar(b, Add(k, one))"
   ]
  },
  {
   "cell_type": "code",
   "execution_count": 26,
   "metadata": {},
   "outputs": [
    {
     "data": {
      "text/html": [
       "<strong id=\"b_j_to_kp1\">b_j_to_kp1:</strong> <a class=\"ProveItLink\" href=\"../__pv_it/common/eeaace00cb97010e02e94c84ea891507c9aa9eca0/common_expr.ipynb\"><img src=\"data:image/png;base64,iVBORw0KGgoAAAANSUhEUgAAAJYAAAAUBAMAAACdV9kCAAAAMFBMVEX///+YmJjMzMzc3NyIiIhU\n",
       "VFR2dna6urqqqqpmZmYyMjIiIiIQEBBERETu7u4AAAD7tRWPAAAAAXRSTlMAQObYZgAAAAlwSFlz\n",
       "AAAOxAAADsQBlSsOGwAAActJREFUOMudlD9Iw0AUxj8TWxvbnsFRETq46dBJ3MxQBXFREHHs4FJd\n",
       "xNWhmRW0ioMIah1EXFQcBBFEwU2EOgoNRKhbtaBQtEPxcvnTi0nh8EHu3nt8/Hj37l1Ayhdo2fsj\n",
       "BC1U2V3go1NRVqiyR+ejb2FWmDJvckFXUxQVqlzig+iFKCtUeZyZ55o3O66LscKUpGHW0kDKjmpn\n",
       "5AuQBFi20m+xJhIacGlHmyYegLhDxmuxLYsp+7VWTX2AUkRP1svsAXXbU+gnZdq3jykTy8y3pmpw\n",
       "itaQRb518Ct0OXedZEW3ZzHlmO2XrGWdjdehSSZ1d2iUJiq7AiymHJAnfKwUuYcSK4JYiU9UVRTW\n",
       "eBYJckxXOTtaTXOsiJos4CNaQM3q8wxeQMwcz2J5ayEN3rGUeNAlvi4yt2VNi4r4Ld3fcipdj7Bv\n",
       "lA1DZSyWj1vtvXadG9NWyj/b9JIM48l4ZiznUdJSN7wzfPn6tRE4Y8x5dh2lVZmvy7Zh+nmTId35\n",
       "WNng+3H2iDYUDbLG6WG9ueucdljyYl3j8p5VnD2ZjvS6rJHzBSd7RAmtp6a6dTFy8B7/0kv8O125\n",
       "46KTYXfuRY3/myqT/D9s5wD/s18N0IXJ5o0xDwAAAABJRU5ErkJggg==\n",
       "\" style=\"display:inline;vertical-align:middle;\" /></a><br>"
      ],
      "text/plain": [
       "b_j_to_kp1: b_{j}, b_{j + 1}, ..., b_{k + 1}"
      ]
     },
     "execution_count": 26,
     "metadata": {},
     "output_type": "execute_result"
    }
   ],
   "source": [
    "b_j_to_kp1 = var_range(b, j, Add(k, one))"
   ]
  },
  {
   "cell_type": "code",
   "execution_count": 27,
   "metadata": {},
   "outputs": [
    {
     "data": {
      "text/html": [
       "<strong id=\"c_i\">c_i:</strong> <a class=\"ProveItLink\" href=\"../__pv_it/common/a407a8b854a930ff1aba37ce301290e9afcb81ab0/common_expr.ipynb\"><img src=\"data:image/png;base64,iVBORw0KGgoAAAANSUhEUgAAAA8AAAAMBAMAAABPbPrXAAAAMFBMVEX///8yMjJUVFS6urru7u4Q\n",
       "EBBERERmZmaqqqoiIiLc3NzMzMyYmJiIiIh2dnYAAACZiqmYAAAAAXRSTlMAQObYZgAAAAlwSFlz\n",
       "AAAOxAAADsQBlSsOGwAAAFNJREFUCNdjYGB4e2cDAwisbGBPYPACMuYxsF5geMvAwP6FAQJYE6AM\n",
       "/wtAwlaBgYH/AAODyQWgPFAL3y6PCUDhd2euMLBdgCn0hjIa2aEMp1sMAJl9FADSAoMMAAAAAElF\n",
       "TkSuQmCC\n",
       "\" style=\"display:inline;vertical-align:middle;\" /></a><br>"
      ],
      "text/plain": [
       "c_i: c_{i}"
      ]
     },
     "execution_count": 27,
     "metadata": {},
     "output_type": "execute_result"
    }
   ],
   "source": [
    "c_i = IndexedVar(c, i)"
   ]
  },
  {
   "cell_type": "code",
   "execution_count": 28,
   "metadata": {},
   "outputs": [
    {
     "data": {
      "text/html": [
       "<strong id=\"c_1_to_i\">c_1_to_i:</strong> <a class=\"ProveItLink\" href=\"../__pv_it/common/7f544f12ad63e3712bd60e5a54402b08e8202c760/common_expr.ipynb\"><img src=\"data:image/png;base64,iVBORw0KGgoAAAANSUhEUgAAAGsAAAANBAMAAABcPI14AAAAMFBMVEX///9UVFQyMjK6urru7u4Q\n",
       "EBBERERmZmaqqqoiIiLc3NzMzMyYmJiIiIh2dnYAAABC1PP/AAAAAXRSTlMAQObYZgAAAAlwSFlz\n",
       "AAAOxAAADsQBlSsOGwAAARtJREFUKM9jYGB4e2cDAxzw3T3NgBfAVK9sYE+AC3LNYCjDqwus2gvI\n",
       "mMfAeoHlEFSU8wFDLMs7QQec2kCqGd4yMLB/AXL23oSK1gM1sDOwT8ClC6waBFjBLuyE8sKAmN+A\n",
       "6zcubaww//hfQNLG8hdI8Djg1gZWbSsANPsAA4MBWBvIQ38YGJiBwTkBwkMFLAwQ1SYXgC4FBgzf\n",
       "BpA2lk9AYWAwvmZg2OkA4fkrMCAYYAKkepcHyOvvzlyBOHIm0AK+N2cdGLhSoDzOAiBjOgOUwTkF\n",
       "qprtAswBIG0cMHctZ1iFxEOAFpgHvZG18cGiPHt3CYKHBB5A6SZ2KGOdPjAGfWGB/P//BwQPKUhg\n",
       "bnO8hSx8gQE3DwR4kdgAmodNLBUxA64AAAAASUVORK5CYII=\n",
       "\" style=\"display:inline;vertical-align:middle;\" /></a><br>"
      ],
      "text/plain": [
       "c_1_to_i: c_{1}, c_{2}, ..., c_{i}"
      ]
     },
     "execution_count": 28,
     "metadata": {},
     "output_type": "execute_result"
    }
   ],
   "source": [
    "c_1_to_i = var_range(c, one, i)"
   ]
  },
  {
   "cell_type": "code",
   "execution_count": 29,
   "metadata": {},
   "outputs": [
    {
     "data": {
      "text/html": [
       "<strong id=\"c_1_to_j\">c_1_to_j:</strong> <a class=\"ProveItLink\" href=\"../__pv_it/common/197f625500e1374c769a9a88f526b5b80f714d350/common_expr.ipynb\"><img src=\"data:image/png;base64,iVBORw0KGgoAAAANSUhEUgAAAGwAAAAPBAMAAADzKDcKAAAAMFBMVEX///9UVFQyMjK6urru7u4Q\n",
       "EBBERERmZmaqqqoiIiLc3NzMzMyYmJiIiIh2dnYAAABC1PP/AAAAAXRSTlMAQObYZgAAAAlwSFlz\n",
       "AAAOxAAADsQBlSsOGwAAASxJREFUKM9jYGB4e2cDAxzw3T3NgBfAVK9sYE+AC3LNYCjDqwuiGqhz\n",
       "HgPrBZZDUFHOBwyxLO8EHXBqA6lmYJjNwP4FyNl7EypaD9TAzsA+AZcusGoQYAW7sBPKCwNifgOu\n",
       "37i0scL8438BSRvLXyDB44BbG1g1y/UGBv4DDAwGYG0gD/1hYGAGBucECA8VsIBcAlLNzqHAAAwY\n",
       "vg0gbSyfgMLAYHzNwLDTAcLzV2BAMMAEWLULXwEDw7szVyCOnAm0gO/NWQcGrhQojxMozTCdAcrg\n",
       "nMIAVc10AOoAkDYOmLuWM6xC4iFAC4zBvwBJGx8syrN3lyB4SOABjLEVSq/Tf8vA4AsL5P//PyB4\n",
       "SEFyAca6iCx8gQE3DwR44SwdBjIAk3UAOdrYrzswAABLX05P9sG7ZwAAAABJRU5ErkJggg==\n",
       "\" style=\"display:inline;vertical-align:middle;\" /></a><br>"
      ],
      "text/plain": [
       "c_1_to_j: c_{1}, c_{2}, ..., c_{j}"
      ]
     },
     "execution_count": 29,
     "metadata": {},
     "output_type": "execute_result"
    }
   ],
   "source": [
    "c_1_to_j = var_range(c, one, j)"
   ]
  },
  {
   "cell_type": "code",
   "execution_count": 30,
   "metadata": {},
   "outputs": [
    {
     "data": {
      "text/html": [
       "<strong id=\"c_1_to_k\">c_1_to_k:</strong> <a class=\"ProveItLink\" href=\"../__pv_it/common/847fd9e18bcb1cd068c4b44622f3fd12a6ad6a150/common_expr.ipynb\"><img src=\"data:image/png;base64,iVBORw0KGgoAAAANSUhEUgAAAG4AAAANBAMAAAC6FUY8AAAAMFBMVEX///9UVFQyMjK6urru7u4Q\n",
       "EBBERERmZmaqqqoiIiLc3NzMzMyYmJiIiIh2dnYAAABC1PP/AAAAAXRSTlMAQObYZgAAAAlwSFlz\n",
       "AAAOxAAADsQBlSsOGwAAAQxJREFUKM9jYGB4e2cDAwKg8jABXH5lA3sCQhiVhwkQ8vMYWC+wHIKJ\n",
       "g3h+D0Vw6gPJ88wFMti/AIm9N6HCYF4BQyUubWB5hmAgZgVb2wkVB/M+M6zH5UewPNcHIOF/AVkf\n",
       "mHcEtz6wPE/C2gcM/AcYGAzA+hyAGMJjeAnhoQIWmDzjrZYoBmDw8G0A6WP5BHI/mMc9BcLzV4AK\n",
       "w3lgedYbDED3vDtzBeLOmSArwLxlDhAeZwFQZDoDlOCcApVfXw73BkgfB8xpXAVcCxA8BGiB0seY\n",
       "JyxA0scHk1+2e7sDgocAD6C0LPcEKHOd/lsGBl+YfPz//0g8RLhcgDKyGGSQw/sCiqoLGPp4kTkA\n",
       "SIlZAjhE8XUAAAAASUVORK5CYII=\n",
       "\" style=\"display:inline;vertical-align:middle;\" /></a><br>"
      ],
      "text/plain": [
       "c_1_to_k: c_{1}, c_{2}, ..., c_{k}"
      ]
     },
     "execution_count": 30,
     "metadata": {},
     "output_type": "execute_result"
    }
   ],
   "source": [
    "c_1_to_k = var_range(c, one, k)"
   ]
  },
  {
   "cell_type": "code",
   "execution_count": 31,
   "metadata": {},
   "outputs": [
    {
     "data": {
      "text/html": [
       "<strong id=\"c_1_to_n\">c_1_to_n:</strong> <a class=\"ProveItLink\" href=\"../__pv_it/common/2ae8a0336550b4d1a519316f74812fe20fc282a60/common_expr.ipynb\"><img src=\"data:image/png;base64,iVBORw0KGgoAAAANSUhEUgAAAG8AAAANBAMAAABV1y0CAAAAMFBMVEX///9UVFQyMjK6urru7u4Q\n",
       "EBBERERmZmaqqqoiIiLc3NzMzMyYmJiIiIh2dnYAAABC1PP/AAAAAXRSTlMAQObYZgAAAAlwSFlz\n",
       "AAAOxAAADsQBlSsOGwAAATFJREFUKM9jYGB4e2cDAxzw3T3NgBcgVK9sYE+AC3PNYCjDqw9J9TwG\n",
       "1gssh6AczgcMsSzvBB1wagSphrDYvwCJvTeh4vVALewM7BNw6QOrhgBWsM2dUF4YEPMbcP3GpZEV\n",
       "4Sv/C0gaWf4CCR4H3BrBqo+fvlsANP8AA4MBWCPIY38YGJiBQTuBgQVTE0gepNrkcAxDFNDVCQx8\n",
       "G0AaWT4BJYBB+pqBYacDg78CyHwFqDCcAVK9y1eBAeTVd2euQJw6E2gk35uzDgxcKcDgnQIKY6CL\n",
       "GKbDGCB5sGrGC8wBMGeANHLAImE5wyoGhhYMp8LlWTewF2xA0sgHSwTZu0sYGB5gaITJM6xn4NwB\n",
       "1bhO/y0Dgy/MwP//PzCwXMDQCJNnMGTgfYMsgaKUFzNUUY0CADKjUfuDMUWbAAAAAElFTkSuQmCC\n",
       "\" style=\"display:inline;vertical-align:middle;\" /></a><br>"
      ],
      "text/plain": [
       "c_1_to_n: c_{1}, c_{2}, ..., c_{n}"
      ]
     },
     "execution_count": 31,
     "metadata": {},
     "output_type": "execute_result"
    }
   ],
   "source": [
    "c_1_to_n = var_range(c, one, n)"
   ]
  },
  {
   "cell_type": "code",
   "execution_count": 32,
   "metadata": {},
   "outputs": [
    {
     "data": {
      "text/html": [
       "<strong id=\"d_1_to_i\">d_1_to_i:</strong> <a class=\"ProveItLink\" href=\"../__pv_it/common/37a91a137e264e047f9b455f2dd46a6e393f2ba70/common_expr.ipynb\"><img src=\"data:image/png;base64,iVBORw0KGgoAAAANSUhEUgAAAHEAAAASBAMAAACeMCwXAAAAMFBMVEX///+YmJhERESIiIhUVFTc\n",
       "3NwiIiJ2dnbu7u66urqqqqpmZmYQEBAyMjLMzMwAAAA7oY0NAAAAAXRSTlMAQObYZgAAAAlwSFlz\n",
       "AAAOxAAADsQBlSsOGwAAAWFJREFUOMtjYGBg4LuzgQEJvD3NgB8gqedfgCLzi4BOJPXzG5DFOX8Q\n",
       "0olQX4Yizp5ASCdC/W0Ucd4NhHRC1bO62yF7LKT4/QK82hDq5wQwIXmM8yiDfgNenRD1rQwMHAcZ\n",
       "uC8wcMhCxXsEGPYycJS74NQNUc9QzMDA/YGBrYDhsRlUYj8DQzoDNwM3zlCCqAcBHgWG/gkMDMug\n",
       "EocYOH4y8E9g/YdLJ1Q9EPQbMMgzwHVyfGZg/MDA2IBbJ0T9ZAcgawGDL1cAWCfQbxy/GFguLIXE\n",
       "KaZXQSJg9REGwEBiMuDK5gbbyfEXKKHMsGwDMD6fNUC4/RcY0Bhg9axdQJM5nOtC7CCuTQOa2WL+\n",
       "1PkBA6sGlMsGShXZDFAGSASinskA7hCQTi64+6IZQpG5MIAQ6e9D0ckOTyZ673YgcREpGs5ayw1j\n",
       "hd8HRm0zPOT///+AxIUDhEiLKYqEAQM+LroIAH7EY+aGUMaSAAAAAElFTkSuQmCC\n",
       "\" style=\"display:inline;vertical-align:middle;\" /></a><br>"
      ],
      "text/plain": [
       "d_1_to_i: d_{1}, d_{2}, ..., d_{i}"
      ]
     },
     "execution_count": 32,
     "metadata": {},
     "output_type": "execute_result"
    }
   ],
   "source": [
    "d_1_to_i = var_range(d, one, i)"
   ]
  },
  {
   "cell_type": "code",
   "execution_count": 33,
   "metadata": {},
   "outputs": [
    {
     "data": {
      "text/html": [
       "<strong id=\"d_1_to_j\">d_1_to_j:</strong> <a class=\"ProveItLink\" href=\"../__pv_it/common/3a0a577ca242f8b53c62b1ad21f292478e9a7a130/common_expr.ipynb\"><img src=\"data:image/png;base64,iVBORw0KGgoAAAANSUhEUgAAAHIAAAAUBAMAAACjXnQJAAAAMFBMVEX///+YmJhERESIiIhUVFTc\n",
       "3NwiIiJ2dnbu7u66urqqqqpmZmYQEBAyMjLMzMwAAAA7oY0NAAAAAXRSTlMAQObYZgAAAAlwSFlz\n",
       "AAAOxAAADsQBlSsOGwAAAW5JREFUOMtjYGBg4LuzgQEJvD3NgB8gqedfgCLzi4BOJPXzG5DFOX8Q\n",
       "0olQX4Yizp5ASCdC/W0Ucd4NhHRC1bO62yF7LKT4/QK82hDq5wQwIXmM8yiDfgNenVD1Dxg4DjJw\n",
       "X2DgkIWK9wgw7GXgKHfBqRuinoEhj4H7AwNbAcNjM6jEfgaGdAZuBm6coQRRDwI8Cgz9ExgYlkEl\n",
       "DjFw/GTgn8D6D5dOqHog6DdgkGeA6+T4zMD4gYGxAbdOiHoO6wUM/QsYfLkCwDqBfuP4xcByYSkk\n",
       "TjG9ChKBqOfmusDAZMCVzQ22k+MvUEKZYdkGYHw+a4Bw+y8woDEg6jvYNzBwONeF2EFcmwY0s8X8\n",
       "qfMDBlYNKJcNlCqyGaAMkAhUPa8AzCEgnVxw90UzhCJzYQBJhD8AWSc7PJnovduBxEWkaATzDYwR\n",
       "fr+YgaEZHvL//39A4sIBkogJioQBAz4uqshFBvIA77wDZOrktm5gAABsz2YvJ6sz9wAAAABJRU5E\n",
       "rkJggg==\n",
       "\" style=\"display:inline;vertical-align:middle;\" /></a><br>"
      ],
      "text/plain": [
       "d_1_to_j: d_{1}, d_{2}, ..., d_{j}"
      ]
     },
     "execution_count": 33,
     "metadata": {},
     "output_type": "execute_result"
    }
   ],
   "source": [
    "d_1_to_j = var_range(d, one, j)"
   ]
  },
  {
   "cell_type": "code",
   "execution_count": 34,
   "metadata": {},
   "outputs": [
    {
     "data": {
      "text/html": [
       "<strong id=\"d_1_to_k\">d_1_to_k:</strong> <a class=\"ProveItLink\" href=\"../__pv_it/common/3f945ad94f1b3a31f48f04379e4e37f4de0c613b0/common_expr.ipynb\"><img src=\"data:image/png;base64,iVBORw0KGgoAAAANSUhEUgAAAHQAAAASBAMAAAB4GedTAAAAMFBMVEX///+YmJhERESIiIhUVFTc\n",
       "3NwiIiJ2dnbu7u66urqqqqpmZmYQEBAyMjLMzMwAAAA7oY0NAAAAAXRSTlMAQObYZgAAAAlwSFlz\n",
       "AAAOxAAADsQBlSsOGwAAAUpJREFUOMtjYGBg4LuzgQEJoHExAbIC/gUoUmhcTICkYH4DigwaFxMg\n",
       "KShDlSkjoBNZwW1UmduEtMIUsLrb/UISRuNiAiQFcwKYfiDJoHExAUIBx0EG7gsMHLIMyNz2Eg9c\n",
       "OiEKGJOBTO4PDGwFDI/NoDIQ7gaGbbi0QhQwnAQyeRQY+icwMCyDykC4PxniH+DQClHA+gHI7Ddg\n",
       "kGdAaIVwJXBrhShgVAguYOhfwODLFQDWygGSgXBBUYeZMBAKWExXHGVgMuDK5obY2n+BAcbly2Dg\n",
       "+AsVAjPgPIgCHiuGBwwcznUhdhCtbBkMMG4Q0Mo0IGYDJfRsBiiBUBC/G+EhsF9XwKN9A2sAAxem\n",
       "i+EKhDgTAlC0FsB4Qe9eNzCwY4YRXIEzXwKMHX6/GOgWA5jM+f//GRiaMYMJrkCVwRElCphRFRpg\n",
       "aEVVAAAclWOoQCc36gAAAABJRU5ErkJggg==\n",
       "\" style=\"display:inline;vertical-align:middle;\" /></a><br>"
      ],
      "text/plain": [
       "d_1_to_k: d_{1}, d_{2}, ..., d_{k}"
      ]
     },
     "execution_count": 34,
     "metadata": {},
     "output_type": "execute_result"
    }
   ],
   "source": [
    "d_1_to_k = var_range(d, one, k)"
   ]
  },
  {
   "cell_type": "code",
   "execution_count": 35,
   "metadata": {},
   "outputs": [
    {
     "data": {
      "text/html": [
       "<strong id=\"e_1_to_i\">e_1_to_i:</strong> <a class=\"ProveItLink\" href=\"../__pv_it/common/07261ca8a65844302f42b9a5766582c41febb8be0/common_expr.ipynb\"><img src=\"data:image/png;base64,iVBORw0KGgoAAAANSUhEUgAAAG0AAAANBAMAAABRIv0/AAAAMFBMVEX///8QEBAyMjKqqqpUVFRE\n",
       "RESYmJjc3NzMzMwiIiK6urpmZmaIiIh2dnbu7u4AAAAMEBwRAAAAAXRSTlMAQObYZgAAAAlwSFlz\n",
       "AAAOxAAADsQBlSsOGwAAARxJREFUKM9jYOC7c/oBAxyg8rCAt2f2QRgrGzguIIRReZiAawZDLwPD\n",
       "cwYG9m8MPAsYnilAhME8vrsuOO2sT2A4xcBwh4GB9c+ZWwwcZyZAhME8bgbuCbj0xZ85uwDM4HcA\n",
       "kcxQhWAe/wL2H7j0fYEx+A+g6APx2B7g1vcHRKwBms4JDAYDsD4+BhiPgXcCmIcGQJ6eC7SD78A/\n",
       "oOEKDK8LwPreK8B4DJ0PwDy+TwwQYQQviYFvO/tjkOvOph2AuJNzHozHHgflzQY5YQOMmAm0kOda\n",
       "DjD0DsCcAPafHYxXzVCOxIMDZljsvH+Bog8W4ewRHfsQPATghTGMuGEqL/09wMAHs53x//8PCB4C\n",
       "vIExnhxHFuZhwM0DA2STAOM2Xh56dV/PAAAAAElFTkSuQmCC\n",
       "\" style=\"display:inline;vertical-align:middle;\" /></a><br>"
      ],
      "text/plain": [
       "e_1_to_i: e_{1}, e_{2}, ..., e_{i}"
      ]
     },
     "execution_count": 35,
     "metadata": {},
     "output_type": "execute_result"
    }
   ],
   "source": [
    "e_1_to_i = var_range(e, one, i)"
   ]
  },
  {
   "cell_type": "code",
   "execution_count": 36,
   "metadata": {},
   "outputs": [
    {
     "data": {
      "text/html": [
       "<strong id=\"e_1_to_j\">e_1_to_j:</strong> <a class=\"ProveItLink\" href=\"../__pv_it/common/112b485d383370aac0748a3a045d8672788e7e3a0/common_expr.ipynb\"><img src=\"data:image/png;base64,iVBORw0KGgoAAAANSUhEUgAAAG4AAAAPBAMAAAD33ec3AAAAMFBMVEX///8QEBAyMjKqqqpUVFRE\n",
       "RESYmJjc3NzMzMwiIiK6urpmZmaIiIh2dnbu7u4AAAAMEBwRAAAAAXRSTlMAQObYZgAAAAlwSFlz\n",
       "AAAOxAAADsQBlSsOGwAAASxJREFUKM9jYOC7c/oBAxyg8rCAt2f2QRgrGzguIIRReZiAawZDL5Bq\n",
       "YGD/xsCzgOGZAkQYzOO764LTzvoEhlNAagYD658ztxg4zkyACIN53AzcE3Dpiz9zdgGYwe8AIpmh\n",
       "CsE8/gXsP3Dp+wJj8B9A0QfisT3Are8POPBOGzBwAoPBAKyPDygC4THwTgDz0ADI03OBdjBwMysw\n",
       "sCkwvC4A63sPDBsIj6HzAZjH94kBIozgJTHwbWd4x7uBgeFs2gGIOznnMUB57HFQ3myQEzbAiJlA\n",
       "C3mu5QBZTAlQJ4D9ZwdzUDVDORIPDpjhscNfgKwPFuHsER37EDwE4IWzGmEqL/09wMB3AMpj/P//\n",
       "A4KHAG/grCPIwjwMuHlggDBJjYEcwLRCgCx93MAsAwDFRlxblm25jgAAAABJRU5ErkJggg==\n",
       "\" style=\"display:inline;vertical-align:middle;\" /></a><br>"
      ],
      "text/plain": [
       "e_1_to_j: e_{1}, e_{2}, ..., e_{j}"
      ]
     },
     "execution_count": 36,
     "metadata": {},
     "output_type": "execute_result"
    }
   ],
   "source": [
    "e_1_to_j = var_range(e, one, j)"
   ]
  },
  {
   "cell_type": "code",
   "execution_count": 37,
   "metadata": {},
   "outputs": [
    {
     "data": {
      "text/html": [
       "<strong id=\"e_1_to_k\">e_1_to_k:</strong> <a class=\"ProveItLink\" href=\"../__pv_it/common/3376976bcf2562d502a659e9c7aba88d9834398b0/common_expr.ipynb\"><img src=\"data:image/png;base64,iVBORw0KGgoAAAANSUhEUgAAAHAAAAANBAMAAACDcvdnAAAAMFBMVEX///8QEBAyMjKqqqpUVFRE\n",
       "RESYmJjc3NzMzMwiIiK6urpmZmaIiIh2dnbu7u4AAAAMEBwRAAAAAXRSTlMAQObYZgAAAAlwSFlz\n",
       "AAAOxAAADsQBlSsOGwAAAS5JREFUKM9jYOC7c/oBAxyg8rCAt2f2QVkrGzguIMRReZiAawZDL4TF\n",
       "/o2BZwHDMwUkHt9dF5y21icwnGJgmwNksf45c4uB48wEiDiYx83APQGXxvgzZxcwMEgBWfwOID4z\n",
       "VCWYx7+A/QcujV/A7voAUnUARSOIx/YAt8Y/IIItoOYCAycwLAzAGvmAQhAeA+8EMA8NgDw+F2gJ\n",
       "A8txO3EGNgWG1wVgje+BAQThMXQ+APPABN8nZEYSA992BsbDDA0MDGfTDkCcyjmPAcpjj4PyODcA\n",
       "idkwxkyglTzXcoBBu7sB5gqwH+1gvGqGciQeHDDDIimVa0IBskZYzLNHdOxD8BCAF8bw4ZgAlWW/\n",
       "9PcAA98BqDjj//8fEDwEeANjhDO4NSCJ86Co4sEMVRSjANnVX1hpdY8ZAAAAAElFTkSuQmCC\n",
       "\" style=\"display:inline;vertical-align:middle;\" /></a><br>"
      ],
      "text/plain": [
       "e_1_to_k: e_{1}, e_{2}, ..., e_{k}"
      ]
     },
     "execution_count": 37,
     "metadata": {},
     "output_type": "execute_result"
    }
   ],
   "source": [
    "e_1_to_k = var_range(e, one, k)"
   ]
  },
  {
   "cell_type": "code",
   "execution_count": 38,
   "metadata": {},
   "outputs": [
    {
     "data": {
      "text/html": [
       "<strong id=\"f_1_to_k\">f_1_to_k:</strong> <a class=\"ProveItLink\" href=\"../__pv_it/common/40bf87b8f76c03bbb380df352bc52645397969100/common_expr.ipynb\"><img src=\"data:image/png;base64,iVBORw0KGgoAAAANSUhEUgAAAHEAAAASBAMAAACeMCwXAAAAMFBMVEX///8yMjLc3NyIiIiYmJgi\n",
       "IiJERES6urqqqqoQEBDMzMxUVFTu7u52dnZmZmYAAAD1zdHuAAAAAXRSTlMAQObYZgAAAAlwSFlz\n",
       "AAAOxAAADsQBlSsOGwAAAWZJREFUOMtjYGBg4Lt7gAEJvL3DgB8gFNxe2YAkzrtrBn6NSApmlCHb\n",
       "ydmeg18nQgH7HxSJ+gMEHItQwBuAInGVgEaEApad0Q+QxL2n7sOvEUkBvwGKzGdCdiIU6C9g4HGE\n",
       "85h+MfDc3Y3Hr0AFDK4Qy/oZGBabwiU4PjDwMfAF4NYJVMDAWQD3cSsDUnjxF4DMxRmdQFP1Icxs\n",
       "FJ1sGxhYDuDTCVTA4MZkC2JOhurkgcSzAdRcTK8egCvYrHFSAejj71Cd5wXA4QXywtIDDDwfoUKo\n",
       "DIiCyQ1cUB+DdbLGQMOLgQmUvEKBVrCCYjqOAcoIPQBVwPTvFYjFtwHmzx4Q8RqI9RiUgCZiOBci\n",
       "AlTAklDKxMDQzdgA03kBKLlBAmhk1qo3QL9ihioDVAG3wVIgO+wgkK8rfxnoD6DXWXOAHuL8/x/o\n",
       "g8MYOkEiYAVsCtxeDAzOj2ASzKBEbKcA4xpg6DRAUQAATYFfAHDpyZAAAAAASUVORK5CYII=\n",
       "\" style=\"display:inline;vertical-align:middle;\" /></a><br>"
      ],
      "text/plain": [
       "f_1_to_k: f_{1}, f_{2}, ..., f_{k}"
      ]
     },
     "execution_count": 38,
     "metadata": {},
     "output_type": "execute_result"
    }
   ],
   "source": [
    "f_1_to_k = var_range(f, one, k)"
   ]
  },
  {
   "cell_type": "code",
   "execution_count": 39,
   "metadata": {},
   "outputs": [
    {
     "data": {
      "text/html": [
       "<strong id=\"f_k\">f_k:</strong> <a class=\"ProveItLink\" href=\"../__pv_it/common/65e74ecaa1cd7a400463b8847a76ebae04cd4a2e0/common_expr.ipynb\"><img src=\"data:image/png;base64,iVBORw0KGgoAAAANSUhEUgAAABIAAAASBAMAAACk4JNkAAAAMFBMVEX///8yMjLc3NyIiIiYmJgi\n",
       "IiJERES6urqqqqoQEBDMzMxUVFTu7u52dnZmZmYAAAD1zdHuAAAAAXRSTlMAQObYZgAAAAlwSFlz\n",
       "AAAOxAAADsQBlSsOGwAAAIJJREFUCNdjYGBg4Lt7gAECbq9sgLJmlEHF2P9ARRh4A6AMlp3RD6BM\n",
       "fgOYrP4CBpZgMKsfiKeDWVcZGJg+gFnZQF0JyheArMkMDNxGPZOAMt8ZGDgtGBYwMHAA1ei/WwBy\n",
       "yQYGBjf2AAWGbkagQzZzBVxgCDsIFE9i2LKAwfkR1CoAYz4dvSI0928AAAAASUVORK5CYII=\n",
       "\" style=\"display:inline;vertical-align:middle;\" /></a><br>"
      ],
      "text/plain": [
       "f_k: f_{k}"
      ]
     },
     "execution_count": 39,
     "metadata": {},
     "output_type": "execute_result"
    }
   ],
   "source": [
    "f_k = IndexedVar(f, k)"
   ]
  },
  {
   "cell_type": "code",
   "execution_count": 40,
   "metadata": {},
   "outputs": [
    {
     "data": {
      "text/html": [
       "<strong id=\"i_k\">i_k:</strong> <a class=\"ProveItLink\" href=\"../__pv_it/common/8eab8eb89ee8c933016e0d32aeea47ab8d314b1f0/common_expr.ipynb\"><img src=\"data:image/png;base64,iVBORw0KGgoAAAANSUhEUgAAABAAAAARBAMAAAAmgTH3AAAAMFBMVEX///9ERETc3NxUVFQyMjKq\n",
       "qqrMzMwQEBC6urqYmJju7u52dnYiIiJmZmaIiIgAAACrFvqoAAAAAXRSTlMAQObYZgAAAAlwSFlz\n",
       "AAAOxAAADsQBlSsOGwAAAGdJREFUCNdjYGB4ywAFpxkIAa63EyAMbo4CCCOV14GB8xyQsYD9AQND\n",
       "BUgofgED0wcQw5mLgVNAbwMD1w9uBuZHUUUMbB80GdifMiQwMFhOYNC/mwAxYiLHAQUww47twAYw\n",
       "Q4jBMgEAGDcVtlt73QMAAAAASUVORK5CYII=\n",
       "\" style=\"display:inline;vertical-align:middle;\" /></a><br>"
      ],
      "text/plain": [
       "i_k: i_{k}"
      ]
     },
     "execution_count": 40,
     "metadata": {},
     "output_type": "execute_result"
    }
   ],
   "source": [
    "i_k = IndexedVar(i, k)"
   ]
  },
  {
   "cell_type": "code",
   "execution_count": 41,
   "metadata": {},
   "outputs": [
    {
     "data": {
      "text/html": [
       "<strong id=\"j_k\">j_k:</strong> <a class=\"ProveItLink\" href=\"../__pv_it/common/4f39ea57e22e81e0297b8073a1136fa9720b789f0/common_expr.ipynb\"><img src=\"data:image/png;base64,iVBORw0KGgoAAAANSUhEUgAAABMAAAASBAMAAABLIvhaAAAAMFBMVEX///+6urp2dnYiIiKqqqrc\n",
       "3NyYmJgQEBBmZmZUVFQyMjKIiIju7u5ERETMzMwAAACiJdmqAAAAAXRSTlMAQObYZgAAAAlwSFlz\n",
       "AAAOxAAADsQBlSsOGwAAAHxJREFUCNdjYGBg4LvDAAPcCxiIBad3wpkN7Akw/QH8DgzJG0BMHgb/\n",
       "AwzsAhDxZgaGeKgSIwaGXNZNIBbrRwaG2SHHA4BMtg8MDNUOfCBRzgsMrD/6wErZNzCwXRBmBYo5\n",
       "5B9g4NzwmImB4b2DCQMDbwBnHgMDxw6o6QwA6C8YCVsjSdwAAAAASUVORK5CYII=\n",
       "\" style=\"display:inline;vertical-align:middle;\" /></a><br>"
      ],
      "text/plain": [
       "j_k: j_{k}"
      ]
     },
     "execution_count": 41,
     "metadata": {},
     "output_type": "execute_result"
    }
   ],
   "source": [
    "j_k = IndexedVar(j, k)"
   ]
  },
  {
   "cell_type": "code",
   "execution_count": 42,
   "metadata": {},
   "outputs": [
    {
     "data": {
      "text/html": [
       "<strong id=\"n_k\">n_k:</strong> <a class=\"ProveItLink\" href=\"../__pv_it/common/18e953da08e0368ef64a61553d682ba013af95bf0/common_expr.ipynb\"><img src=\"data:image/png;base64,iVBORw0KGgoAAAANSUhEUgAAABUAAAAMBAMAAAB/4Ov2AAAAMFBMVEX///9mZmYQEBCYmJgyMjKq\n",
       "qqrMzMwiIiJERER2dnbc3Nzu7u5UVFSIiIi6uroAAAA6K1lcAAAAAXRSTlMAQObYZgAAAAlwSFlz\n",
       "AAAOxAAADsQBlSsOGwAAAHdJREFUCNdj4Luza24vAwRwcpxl2L8Awn7H3sCwPoHB/AKQvWH/A4b4\n",
       "DQxMD0AS8QwMRxgY1oMVARmfuRksuG4C2ZoMrL85Gc4u3bSAgesbA6+DGYNuABsDA18BA/fhAK6P\n",
       "YgwwwNzwnAvG5rmQzgljcyzgMWMAAJvkHdkETNzcAAAAAElFTkSuQmCC\n",
       "\" style=\"display:inline;vertical-align:middle;\" /></a><br>"
      ],
      "text/plain": [
       "n_k: n_{k}"
      ]
     },
     "execution_count": 42,
     "metadata": {},
     "output_type": "execute_result"
    }
   ],
   "source": [
    "n_k = IndexedVar(n, k)"
   ]
  },
  {
   "cell_type": "code",
   "execution_count": 43,
   "metadata": {},
   "outputs": [
    {
     "data": {
      "text/html": [
       "<strong id=\"i_1_to_m\">i_1_to_m:</strong> <a class=\"ProveItLink\" href=\"../__pv_it/common/c28352b4a8e4db67cee2e18f69311f5dd88888390/common_expr.ipynb\"><img src=\"data:image/png;base64,iVBORw0KGgoAAAANSUhEUgAAAG0AAAASBAMAAACjok1xAAAAMFBMVEX///9ERETc3NxUVFQyMjKq\n",
       "qqrMzMwQEBC6urqYmJju7u52dnYiIiJmZmaIiIgAAACrFvqoAAAAAXRSTlMAQObYZgAAAAlwSFlz\n",
       "AAAOxAAADsQBlSsOGwAAAR9JREFUKM9jYGB4y4AEUDiYAFn6NAMuDiYgID0IAdfbCTg4+NVycxQw\n",
       "YOdgAmTpVF4HBq4pSJzVm61w6QNJw8AC9gcMeW+QOBcY7uDSB5KGg/gFDAwxSJwfDPoJuDSC1MKA\n",
       "MxeSPiBnFh59QOm5094ZvBQDhtEPbog+LgYoh2EP0EWYYQmR5ppRyVDM8JiBge2DJkTfegcoh+0U\n",
       "A9cXqACYgPOA0kzrHBi+MdwGClhOgOjjOQXlKAItOwPEPBcYoMRZJGnmB2wFDEehjgD7LwrCZrrA\n",
       "pMDAiulQqDR7Ap8A04cEJH0bIGzFtNwFDNyYYQKV1gfayClwAczW9t8H9AU0bur//2dgWIcZLlDp\n",
       "ZgYWBSY7JOfwIat6gKGPD5ULAElBU/OC1SxgAAAAAElFTkSuQmCC\n",
       "\" style=\"display:inline;vertical-align:middle;\" /></a><br>"
      ],
      "text/plain": [
       "i_1_to_m: i_{1}, i_{2}, ..., i_{m}"
      ]
     },
     "execution_count": 43,
     "metadata": {},
     "output_type": "execute_result"
    }
   ],
   "source": [
    "i_1_to_m = var_range(i, one, m)"
   ]
  },
  {
   "cell_type": "code",
   "execution_count": 44,
   "metadata": {},
   "outputs": [
    {
     "data": {
      "text/html": [
       "<strong id=\"i_1_to_n\">i_1_to_n:</strong> <a class=\"ProveItLink\" href=\"../__pv_it/common/93225504bc91e9be143d744388e2311bf74f9ba70/common_expr.ipynb\"><img src=\"data:image/png;base64,iVBORw0KGgoAAAANSUhEUgAAAGoAAAASBAMAAABBflYIAAAAMFBMVEX///9ERETc3NxUVFQyMjKq\n",
       "qqrMzMwQEBC6urqYmJju7u52dnYiIiJmZmaIiIgAAACrFvqoAAAAAXRSTlMAQObYZgAAAAlwSFlz\n",
       "AAAOxAAADsQBlSsOGwAAASdJREFUKM9jYGB4y4AEUDiYgO8CjHUaWfg0fl08GxiGCOB6OwEHBwtY\n",
       "dxPK4OYoQIiicLCADe1QRiqvAwPXFCTO6s1WuDSxBVyBshawP2DIe4PEucBwB6dvGOpgzPgFDAwx\n",
       "SJwfDPoJuLSx/oKxnLmQdAE5s/DoYjFYwHkzD5h+uH5wQ3RxMUA5DHuATsXiOiBY37BhZfsEdgUG\n",
       "tg+aEF3rHRggHLZTDFxfQOq+QEXhDIZ8pglaTxj4gWZaToDo4jnFAOEoAgXPgCw7CxK9AGOApJln\n",
       "MjDYMcCCH+yvKAib6QKTAgMrphOh0gxlDHfZkHRBk7NiWu4CBm4sMQw19APDsTAwS9t/H9D1DyDC\n",
       "9f//A5MOZmhApTkMGF4jJTs+ZDUPMPMjMgcAn9VQ10PqDXUAAAAASUVORK5CYII=\n",
       "\" style=\"display:inline;vertical-align:middle;\" /></a><br>"
      ],
      "text/plain": [
       "i_1_to_n: i_{1}, i_{2}, ..., i_{n}"
      ]
     },
     "execution_count": 44,
     "metadata": {},
     "output_type": "execute_result"
    }
   ],
   "source": [
    "i_1_to_n = var_range(i, one, n)"
   ]
  },
  {
   "cell_type": "code",
   "execution_count": 45,
   "metadata": {},
   "outputs": [
    {
     "data": {
      "text/html": [
       "<strong id=\"j_1_to_m\">j_1_to_m:</strong> <a class=\"ProveItLink\" href=\"../__pv_it/common/49db88303f66142538f3c8690d4e6c29af914f270/common_expr.ipynb\"><img src=\"data:image/png;base64,iVBORw0KGgoAAAANSUhEUgAAAHMAAAASBAMAAACaxfwqAAAAMFBMVEX///+6urp2dnYiIiKqqqrc\n",
       "3NyYmJgQEBBmZmZUVFQyMjKIiIju7u5ERETMzMwAAACiJdmqAAAAAXRSTlMAQObYZgAAAAlwSFlz\n",
       "AAAOxAAADsQBlSsOGwAAAVpJREFUOMvNkr9Kw1AUxj/Mv8aE2NWt4KRTUAeHDnkAwbxAiW4OYp0K\n",
       "4mDU0aWDmwp9hCyK2uXi0KWDeQCRjC5qK51ErOfmXxNC4uqBe7lffvfjnHtyAMB4RibeGCojx7Ve\n",
       "Fj1UO//k/zqG9xmh97uVl/PcVbZnooZOpTXHNXvBwiBp8g0meFy+KrVyPisBW8zom7Fi4jdcnJVa\n",
       "Oc8EXRTNtCITYzhBecVmVq1mrUIDe1VW4rv7/e7tCxfSOLLqIXLqtC1RZcXmxlzf6eAQ4W+RR5H1\n",
       "KWxVmw91E/oXoi/hIVWcS8MefnDKhepHVqHJ1TWtFqVcoyW4JDYQbylXPeMA61woXvzWTa6O6AWu\n",
       "ZEMsVpxwJdB8aRRAtdostjaAC5l633p/ZZgrdijhDuWVfRcfFqWWVj496B6MiWABx9MpjWexTQlf\n",
       "xLwtXTLU7urJWNE6P0kuegVrngO/vbhecBlvK9sAAAAASUVORK5CYII=\n",
       "\" style=\"display:inline;vertical-align:middle;\" /></a><br>"
      ],
      "text/plain": [
       "j_1_to_m: j_{1}, j_{2}, ..., j_{m}"
      ]
     },
     "execution_count": 45,
     "metadata": {},
     "output_type": "execute_result"
    }
   ],
   "source": [
    "j_1_to_m = var_range(j, one, m)"
   ]
  },
  {
   "cell_type": "code",
   "execution_count": 46,
   "metadata": {},
   "outputs": [
    {
     "data": {
      "text/html": [
       "<strong id=\"j_1_to_n\">j_1_to_n:</strong> <a class=\"ProveItLink\" href=\"../__pv_it/common/152324565e35c531ed90e69acc883f5ff8d6d64a0/common_expr.ipynb\"><img src=\"data:image/png;base64,iVBORw0KGgoAAAANSUhEUgAAAG8AAAASBAMAAACnV51MAAAAMFBMVEX///+6urp2dnYiIiKqqqrc\n",
       "3NyYmJgQEBBmZmZUVFQyMjKIiIju7u5ERETMzMwAAACiJdmqAAAAAXRSTlMAQObYZgAAAAlwSFlz\n",
       "AAAOxAAADsQBlSsOGwAAAUpJREFUOMtjYGBg4LvDgATeHmDAC5DkuRcgS+zCr4+g/KAEp3cicXh2\n",
       "T8CrGFm+gT0BIcHBUIZXI5I8dwC/A8MxWMBuZfjCcEhzDk6NIHmY5Qz+B/h2G0B5B1j+MDQwNOPU\n",
       "CJKHA6AyFgO4WwwYPjLEP8DtVgME2whZI7MCQw4+jUD5jLzdDSAm60eIRh6wRLwAkFAGugkzQKHy\n",
       "PIllDKUgJtsHiMbz4ADKByVeGwaeXwxQERCB4AHlWU8vYAB7lPMCRCOzDYg3F4hjgdYZAzEzyEVg\n",
       "woIBSZ5zA2MBiMm+AepHHxCvGuj2BtYABhZMt8Lk2R9wNDxg4HTIPwDVqMDAMIUN6IjYdy8OMDBh\n",
       "hgtMPp6B+ckDhvcOJkA7tD5tYODZwMD3hdmBgaH+/39gQsQMHJi8JAO3GjBedgjAkhAQdzfClG3A\n",
       "0IgqDwDKsVjl/Dzd0AAAAABJRU5ErkJggg==\n",
       "\" style=\"display:inline;vertical-align:middle;\" /></a><br>"
      ],
      "text/plain": [
       "j_1_to_n: j_{1}, j_{2}, ..., j_{n}"
      ]
     },
     "execution_count": 46,
     "metadata": {},
     "output_type": "execute_result"
    }
   ],
   "source": [
    "j_1_to_n = var_range(j, one, n)"
   ]
  },
  {
   "cell_type": "code",
   "execution_count": 47,
   "metadata": {},
   "outputs": [
    {
     "data": {
      "text/html": [
       "<strong id=\"k_1_to_m\">k_1_to_m:</strong> <a class=\"ProveItLink\" href=\"../__pv_it/common/ae6698abaead37a2a92e4666844a997289f8f6b40/common_expr.ipynb\"><img src=\"data:image/png;base64,iVBORw0KGgoAAAANSUhEUgAAAHcAAAASBAMAAACTLlxQAAAAMFBMVEX///+IiIjMzMzc3NyYmJhU\n",
       "VFR2dna6urqqqqpmZmYyMjIiIiIQEBBERETu7u4AAAAsfX+gAAAAAXRSTlMAQObYZgAAAAlwSFlz\n",
       "AAAOxAAADsQBlSsOGwAAAYJJREFUOMtj4LuzgQEJvD3NgB+gKuCagCK5koBmVAX8DShyPwhpRlFQ\n",
       "/wCZx/6PgF5UBTkocmwHCGhGVbCUoW0eUggEcGQ+wKcZRQHfF47mIwi59w4dNg74NKMo4PhcwbSY\n",
       "4ckCKLffvEHL4FlqHE7NYAUwDucRBQYGJkFYZM9xAhITGGbj1AxWAAPcKyeB7Idp3jUTaNZ3BnsF\n",
       "XJrBCuB+aKhXQGjm+8H+iYHBD7dmiAJPJ8EAkUsMDP4P3jcIgDXzAeVY/vH9YATS2QwMmGEOV8Dn\n",
       "foThKIMoA0MUw3uFBLDm98BAY13A94kNGAb7GPh+MUCEwAScB1bA/HABwyeGaQwMNxgYJz4Aa+be\n",
       "x8DA28AgKcfAYAu0djcQc4PSPZjYyYCsgFWA6QDDDniEgfzcB+MxT2A2YODAdDdcAY8C4wXmDwrI\n",
       "mhNgcrZKmg8Y2DBDC67AHmg3ywVodmTO+ibAwCcAkzv//z8Dw0PMAIMrKGXgMmAORHYaI6pSAQzN\n",
       "jOgCAJNQcdtq/OHUAAAAAElFTkSuQmCC\n",
       "\" style=\"display:inline;vertical-align:middle;\" /></a><br>"
      ],
      "text/plain": [
       "k_1_to_m: k_{1}, k_{2}, ..., k_{m}"
      ]
     },
     "execution_count": 47,
     "metadata": {},
     "output_type": "execute_result"
    }
   ],
   "source": [
    "k_1_to_m = var_range(k, one, m)"
   ]
  },
  {
   "cell_type": "code",
   "execution_count": 48,
   "metadata": {},
   "outputs": [
    {
     "data": {
      "text/html": [
       "<strong id=\"n_1_to_m\">n_1_to_m:</strong> <a class=\"ProveItLink\" href=\"../__pv_it/common/90ed4018efee6d0468f5b03694cdbe4ca466f4a10/common_expr.ipynb\"><img src=\"data:image/png;base64,iVBORw0KGgoAAAANSUhEUgAAAH0AAAANBAMAAAB2jHzXAAAAMFBMVEX///9mZmYQEBCYmJgyMjKq\n",
       "qqrMzMwiIiJERER2dnbc3Nzu7u5UVFSIiIi6uroAAAA6K1lcAAAAAXRSTlMAQObYZgAAAAlwSFlz\n",
       "AAAOxAAADsQBlSsOGwAAAVtJREFUKM9j4Luza24vAwK8Pb3yxgUGfABVBSfHWYb9CxCyE3oucP/C\n",
       "qx9VxTv2Bob1CQybHSBcvgcVDFzfGHbOOY1LO1QFDGzY/4AhfgPb3QIIl5v7HwPrbwYBBnFc+qEq\n",
       "4CCegeEIAwMrVD8D6wcGHgeGfyA34QAQFXAA1PyZG6EfKMVvsMEaj36ICkOzuwcutwG5mkDXcEL0\n",
       "bwBipglA70xgYJgOdCmmXriK2XbKDDoMdxhAQcHrYAbWz/0FKAu09wpzAgNbNQPDfgeoGIiB4IFV\n",
       "ZO11YPjGIAkMzgIG7sMBEPvLgcY/Z2DYY8rAsALIZAeawVAIxOwCMAKhgucCmwJDKSJQQPpZN8C4\n",
       "XAJcwDQRjRl2cBVMCbwNXB8SUPRzwtWtSEsEqpyAoR+hYj3QBcwNAjD7pvwEJsm9cFn9//+BvsVM\n",
       "xwgVbxhYFnCd3YAii6aeFzP8MUwEAOnJcLlg14deAAAAAElFTkSuQmCC\n",
       "\" style=\"display:inline;vertical-align:middle;\" /></a><br>"
      ],
      "text/plain": [
       "n_1_to_m: n_{1}, n_{2}, ..., n_{m}"
      ]
     },
     "execution_count": 48,
     "metadata": {},
     "output_type": "execute_result"
    }
   ],
   "source": [
    "n_1_to_m = var_range(n, one, m)"
   ]
  },
  {
   "cell_type": "code",
   "execution_count": 49,
   "metadata": {},
   "outputs": [
    {
     "data": {
      "text/html": [
       "<strong id=\"w_1_to_m\">w_1_to_m:</strong> <a class=\"ProveItLink\" href=\"../__pv_it/common/89adcaa85b5df83eeb59d004a874073ff36e2cae0/common_expr.ipynb\"><img src=\"data:image/png;base64,iVBORw0KGgoAAAANSUhEUgAAAIQAAAANBAMAAACa1duEAAAAMFBMVEX////c3NwyMjK6urpERERU\n",
       "VFQQEBAiIiKqqqpmZmbMzMyYmJh2dnaIiIju7u4AAABkYOyCAAAAAXRSTlMAQObYZgAAAAlwSFlz\n",
       "AAAOxAAADsQBlSsOGwAAAXJJREFUKM99kr1Lw0AYxp8YTXKxuergIIjWv8CA0NUuLg6SQQcHoYuL\n",
       "IHQTQaST3bS4iFikIPgFxSD9Azq41UIQPxYpWZxELLp1sN41n01s3+G4597nfvfe3Qv6ZuIaBRte\n",
       "fNahFpU9DIiIJaFksYIF3c/X9jGSEX8GISKWK5LDFobG6J2j1fwxJAuz9GHV7kPwLJ62JUttg6Dy\n",
       "6mjKgLdlFAkY+//wLP7Coa1loQEFVyu/eAGspC60+13Etfj6CMMGzgMESWERqj5q90d4ltPKs1Yt\n",
       "gwm5hpqD4LdnwF0k+EPnWMmxCFk+0qZkaAZwj7Qh6l0E/eY7M+IG5tnk0sZXyl3sDr5yLdOPSJYJ\n",
       "O52Ummt1OFVs8zNOGu8lExCWAZn//Q7cQS5GLOu4gJwPKuQIJfSPkxgHDuJPGbJs4gkzai8iEUhh\n",
       "6eYM/I0iEba0WB1V4uupuQbr3CAvdTotUCve3MFUNFh7TTR789EdWvxH4tA/bSdudSmQt+8AAAAA\n",
       "SUVORK5CYII=\n",
       "\" style=\"display:inline;vertical-align:middle;\" /></a><br>"
      ],
      "text/plain": [
       "w_1_to_m: w_{1}, w_{2}, ..., w_{m}"
      ]
     },
     "execution_count": 49,
     "metadata": {},
     "output_type": "execute_result"
    }
   ],
   "source": [
    "w_1_to_m = var_range(w, one, m)"
   ]
  },
  {
   "cell_type": "code",
   "execution_count": 50,
   "metadata": {},
   "outputs": [
    {
     "data": {
      "text/html": [
       "<strong id=\"x_i\">x_i:</strong> <a class=\"ProveItLink\" href=\"../__pv_it/common/10495029b586e6269f13533b75adece018314b450/common_expr.ipynb\"><img src=\"data:image/png;base64,iVBORw0KGgoAAAANSUhEUgAAABIAAAAMBAMAAACdPPCPAAAAMFBMVEX///9ERES6uroQEBAyMjLc\n",
       "3NyYmJgiIiJmZmaqqqp2dnbMzMxUVFSIiIju7u4AAAAd7oVFAAAAAXRSTlMAQObYZgAAAAlwSFlz\n",
       "AAAOxAAADsQBlSsOGwAAAGJJREFUCNdjYHh75/WqCQwg0MB7lqOAgS+AgS2A7R9PAgPXBQZuBg4H\n",
       "BihgvgBj6QfwPWC6w8DwUOEwAxfDW/4HDPP3NTNoMsRNZ2B4cZezDWicLEwt378NUBanQwNM7GwA\n",
       "AIfuGYlioFJJAAAAAElFTkSuQmCC\n",
       "\" style=\"display:inline;vertical-align:middle;\" /></a><br>"
      ],
      "text/plain": [
       "x_i: x_{i}"
      ]
     },
     "execution_count": 50,
     "metadata": {},
     "output_type": "execute_result"
    }
   ],
   "source": [
    "x_i = IndexedVar(x, i)"
   ]
  },
  {
   "cell_type": "code",
   "execution_count": 51,
   "metadata": {},
   "outputs": [
    {
     "data": {
      "text/html": [
       "<strong id=\"x_j\">x_j:</strong> <a class=\"ProveItLink\" href=\"../__pv_it/common/9db1fb1b1ce2dfb35b65c708fbfe7ca700606e830/common_expr.ipynb\"><img src=\"data:image/png;base64,iVBORw0KGgoAAAANSUhEUgAAABMAAAAPBAMAAAD0aukfAAAAMFBMVEX///9ERES6uroQEBAyMjLc\n",
       "3NyYmJgiIiJmZmaqqqp2dnbMzMxUVFSIiIju7u4AAAAd7oVFAAAAAXRSTlMAQObYZgAAAAlwSFlz\n",
       "AAAOxAAADsQBlSsOGwAAAHBJREFUCNdjYHh75/WqCQxg0MB7lqOAgYGbgYEtgO0fTwIDA/sGII/D\n",
       "gQEGmC/AmfoBfA8Y3nYyMDxUOMzABdQ8hYFh/r5mBk0GvgcrGBhe3OVsAxnrBtfA8BXO4jaAM3kP\n",
       "wJksCTCW02a4YG8fAwMAOxwabkHlyz0AAAAASUVORK5CYII=\n",
       "\" style=\"display:inline;vertical-align:middle;\" /></a><br>"
      ],
      "text/plain": [
       "x_j: x_{j}"
      ]
     },
     "execution_count": 51,
     "metadata": {},
     "output_type": "execute_result"
    }
   ],
   "source": [
    "x_j = IndexedVar(x, j)"
   ]
  },
  {
   "cell_type": "code",
   "execution_count": 52,
   "metadata": {},
   "outputs": [
    {
     "data": {
      "text/html": [
       "<strong id=\"x_k\">x_k:</strong> <a class=\"ProveItLink\" href=\"../__pv_it/common/353866adc3299c69fcf12d1bc2726609a503a03d0/common_expr.ipynb\"><img src=\"data:image/png;base64,iVBORw0KGgoAAAANSUhEUgAAABUAAAAMBAMAAAB/4Ov2AAAAMFBMVEX///9ERES6uroQEBAyMjLc\n",
       "3NyYmJgiIiJmZmaqqqp2dnbMzMxUVFSIiIju7u4AAAAd7oVFAAAAAXRSTlMAQObYZgAAAAlwSFlz\n",
       "AAAOxAAADsQBlSsOGwAAAHNJREFUCNdjYHh75/WqCQwQ0MB7lqMAwmQLYPvHk8CQfgHI5mbgcABS\n",
       "zApgGWaQUDxElX4A3wOGRNZbDAwPFQ4zcDEwnI18HMAwf18zgyYDg+0EbgaGF3c52yYwsP7oZoAB\n",
       "NgF1Vhib58J2LhibMYAnmwEAZGUbLnDRBIAAAAAASUVORK5CYII=\n",
       "\" style=\"display:inline;vertical-align:middle;\" /></a><br>"
      ],
      "text/plain": [
       "x_k: x_{k}"
      ]
     },
     "execution_count": 52,
     "metadata": {},
     "output_type": "execute_result"
    }
   ],
   "source": [
    "x_k = IndexedVar(x, k)"
   ]
  },
  {
   "cell_type": "code",
   "execution_count": 53,
   "metadata": {},
   "outputs": [
    {
     "data": {
      "text/html": [
       "<strong id=\"A_k\">A_k:</strong> <a class=\"ProveItLink\" href=\"../__pv_it/common/9b45105c2b30a866686b606631318db98f5e01250/common_expr.ipynb\"><img src=\"data:image/png;base64,iVBORw0KGgoAAAANSUhEUgAAABkAAAASBAMAAABcAGiTAAAAMFBMVEX///8QEBAiIiLu7u5ERES6\n",
       "urqYmJiIiIjMzMx2dnZUVFRmZmaqqqoyMjLc3NwAAABb1yYoAAAAAXRSTlMAQObYZgAAAAlwSFlz\n",
       "AAAOxAAADsQBlSsOGwAAAJJJREFUCNdjYACBtwzI4D4yh+c/Mo97/QMk3rz5DQgOX0H9ASSFDOcT\n",
       "ELwYhv4JCN4GhvcLGBiSCsAcdu/d6x0YGBgDwDxzBgZ+BQaG9zCFDEwCDAwpfJVADivQPN4PDAzL\n",
       "3xgC3fAQKMLyj4FB/AAHA4PJ/8sMPP5/J/D93oHkOjaHID4Ej6ugiRPBY3nAlcEAAOK4InkPM8uu\n",
       "AAAAAElFTkSuQmCC\n",
       "\" style=\"display:inline;vertical-align:middle;\" /></a><br>"
      ],
      "text/plain": [
       "A_k: A_{k}"
      ]
     },
     "execution_count": 53,
     "metadata": {},
     "output_type": "execute_result"
    }
   ],
   "source": [
    "A_k = IndexedVar(A, k)"
   ]
  },
  {
   "cell_type": "code",
   "execution_count": 54,
   "metadata": {},
   "outputs": [
    {
     "data": {
      "text/html": [
       "<strong id=\"x_1_to_i\">x_1_to_i:</strong> <a class=\"ProveItLink\" href=\"../__pv_it/common/81ddb99578c82986835dda8f7c823eb26bf134640/common_expr.ipynb\"><img src=\"data:image/png;base64,iVBORw0KGgoAAAANSUhEUgAAAHQAAAANBAMAAACKmVcdAAAAMFBMVEX///9ERES6uroQEBAyMjLc\n",
       "3NyYmJgiIiJmZmaqqqp2dnbMzMxUVFSIiIju7u4AAAAd7oVFAAAAAXRSTlMAQObYZgAAAAlwSFlz\n",
       "AAAOxAAADsQBlSsOGwAAATVJREFUKM9jYHh75/WqCQxwwHf33K6VDPgAQkMD71mOAoQEB8OdC+14\n",
       "tUI08AUwsAWw/eNJYHjmAJVIZch/cIzh1ZpzuHRCNXBdYOBm4ADq4r4Ls3gDQwvIZAacNkM0QADz\n",
       "BSDBiXCzLRB/YojfgNPFYA1goB/A9wBJK9NXhncMefi0gjQw3WFgeKhwmIELausDYAAL8RgwLACy\n",
       "l4O5aICPAabhLf8Dhvn7mhk0IVr5vgDp3y8MmIBBz10H5jK8d4CII3gQDXHTGRhe3OVsmwC1tfwB\n",
       "A1/vhRmZQGbgAzCXgb0ByKlggBLsdXANsnCngLVywp3I2sAagMSFg3lwp//bgKKVC64kcPeOB0hc\n",
       "OFgAV+/QALNlyS9giL+FK7H//x+ZC7cLHi18ZwNQZC4w4OMCAS8yBwDZA2dGP3ggSwAAAABJRU5E\n",
       "rkJggg==\n",
       "\" style=\"display:inline;vertical-align:middle;\" /></a><br>"
      ],
      "text/plain": [
       "x_1_to_i: x_{1}, x_{2}, ..., x_{i}"
      ]
     },
     "execution_count": 54,
     "metadata": {},
     "output_type": "execute_result"
    }
   ],
   "source": [
    "x_1_to_i = var_range(x, one, i)"
   ]
  },
  {
   "cell_type": "code",
   "execution_count": 55,
   "metadata": {},
   "outputs": [
    {
     "data": {
      "text/html": [
       "<strong id=\"x_1_to_m\">x_1_to_m:</strong> <a class=\"ProveItLink\" href=\"../__pv_it/common/6024a41cfaf972bdb338175c21c197d8e61f5ed20/common_expr.ipynb\"><img src=\"data:image/png;base64,iVBORw0KGgoAAAANSUhEUgAAAHwAAAANBAMAAACZThfpAAAAMFBMVEX///9ERES6uroQEBAyMjLc\n",
       "3NyYmJgiIiJmZmaqqqp2dnbMzMxUVFSIiIju7u4AAAAd7oVFAAAAAXRSTlMAQObYZgAAAAlwSFlz\n",
       "AAAOxAAADsQBlSsOGwAAASdJREFUKM9jYHh75/WqCQxwgMbFAlBVNPCe5ShgwMXFAlBUsAWw/eNJ\n",
       "YHjmgMzlW3XmAS7dUA1QwM3AAdTJfbcAmcvBgNsFEBUIwHwBSHAWIHP5FVh/43Y9WAMc6AfwPUDS\n",
       "DuKyPcCnHayibe8d3sQNDA8VDjNwQWznA0pBuQxcQD6m9xEqniknMB/gPcAwf18zgyZE+3ugn6Bc\n",
       "hu0PGPi+MEDE4AwkFXFXGPg3cCxgeHGXs20CRDt7HQOMyyoHVFwOtJ69AcioYIAykFScZdjMwA6P\n",
       "frDf58FdGcEQChTDdD1ChTXDRYZ4bhTtC2A8VundfQzgMEADCBUfgPYncsB4S35dYOCDRwjz//8f\n",
       "gKkTM+jgKpgOMLgyxNxDluRFU3wBQzu6CgYARGZrZIh0qd0AAAAASUVORK5CYII=\n",
       "\" style=\"display:inline;vertical-align:middle;\" /></a><br>"
      ],
      "text/plain": [
       "x_1_to_m: x_{1}, x_{2}, ..., x_{m}"
      ]
     },
     "execution_count": 55,
     "metadata": {},
     "output_type": "execute_result"
    }
   ],
   "source": [
    "x_1_to_m = var_range(x, one, m)"
   ]
  },
  {
   "cell_type": "code",
   "execution_count": 56,
   "metadata": {},
   "outputs": [
    {
     "data": {
      "text/html": [
       "<strong id=\"x_1_to_n\">x_1_to_n:</strong> <a class=\"ProveItLink\" href=\"../__pv_it/common/d50f819f834d55ea1b9fad150926a94bf07ad8fc0/common_expr.ipynb\"><img src=\"data:image/png;base64,iVBORw0KGgoAAAANSUhEUgAAAHgAAAANBAMAAACQpbeTAAAAMFBMVEX///9ERES6uroQEBAyMjLc\n",
       "3NyYmJgiIiJmZmaqqqp2dnbMzMxUVFSIiIju7u4AAAAd7oVFAAAAAXRSTlMAQObYZgAAAAlwSFlz\n",
       "AAAOxAAADsQBlSsOGwAAAUNJREFUKM9jYHh75/WqCQxwwHf33K6VDPgAsoYG3rMcBQgpDoY7F9rx\n",
       "akbSwBbA9o8ngeGZA1QqlSH/wTGGV2vO4dIL1QAG3AwcQH3cd2GWb2BoAZnOgNN2iAYYYL4AJDgR\n",
       "LrcF4k8M8RtwuhusAQr0A/geIGlm+srwjiEPn2aQBra2vTcYGB4qHGbggtjMBwpsIR4DhgVAxnIG\n",
       "hgcY2kAqIBqeKScwBzDM39fMoAnR/B7oF87fLwyYgBHBXcfA94UBIgZmwHkQDXFXGPgfMLy4y9k2\n",
       "AaKZvQ6opvfCjEygskCgteVAzN4A5FQwQAmQCqiGswzKcAeB/TwPzmVtYA1g4MR0N0KFNUMHN4rm\n",
       "BXCpwN07HoCCAh3AVbB+YKieDWMv+XWBgQ8RBfb//wPTIWaAwVUwHWC4lYAsxYum9AKGZjQVAPmO\n",
       "aFf2d0h5AAAAAElFTkSuQmCC\n",
       "\" style=\"display:inline;vertical-align:middle;\" /></a><br>"
      ],
      "text/plain": [
       "x_1_to_n: x_{1}, x_{2}, ..., x_{n}"
      ]
     },
     "execution_count": 56,
     "metadata": {},
     "output_type": "execute_result"
    }
   ],
   "source": [
    "x_1_to_n = var_range(x, one, n)"
   ]
  },
  {
   "cell_type": "code",
   "execution_count": 57,
   "metadata": {},
   "outputs": [
    {
     "data": {
      "text/html": [
       "<strong id=\"x_1_to_np1\">x_1_to_np1:</strong> <a class=\"ProveItLink\" href=\"../__pv_it/common/4c0b61b56542b2c0d2ab9a431fe4a88d4a9e76ff0/common_expr.ipynb\"><img src=\"data:image/png;base64,iVBORw0KGgoAAAANSUhEUgAAAIsAAAAOBAMAAADtSvKnAAAAMFBMVEX///9ERES6uroQEBAyMjLc\n",
       "3NyYmJgiIiJmZmaqqqp2dnbMzMxUVFSIiIju7u4AAAAd7oVFAAAAAXRSTlMAQObYZgAAAAlwSFlz\n",
       "AAAOxAAADsQBlSsOGwAAAVZJREFUKM9jYHh75/WqCQxwgMbFBHx3z+1aiSncwHuWowAnFxNwMNy5\n",
       "0I4hyhbA9o8ngeGZAzKXb9WZB7iMSWXIf3AMRQSkl5uBA0TehboAwuVgwO2iDQwtyE6D62W+ACQ4\n",
       "4dpAXH4F1t+4vWWLYDIywPXqB/A9QDIGxGV7gMcYpq8M7xgysu82IBvzUOEwAxeEyccA5zJwFYC5\n",
       "aAAYYHxCPAYMC/iSzBhMkY2Zv6+ZQRPCfO8A5zJsfwDmggm+L0gMzt8vDJgmsL51YPiHbMyLu5xt\n",
       "EyBM9jo4l1UOwmVgBzm9AsYof8DA13thRiYDA88FJgOGRkFhQcEEpACBMOfBuREMochcuCp4MmDe\n",
       "wNGwASWIEcYsgPFYpXf3IXHhgAvOimdg34lpDOuSXxcY+C7A7fr//wMSF5FT4CwdBt5l0LAB60UC\n",
       "vKh6eDFjCsNgRgaqAA4oDQAE4W9gCmJyhQAAAABJRU5ErkJggg==\n",
       "\" style=\"display:inline;vertical-align:middle;\" /></a><br>"
      ],
      "text/plain": [
       "x_1_to_np1: x_{1}, x_{2}, ..., x_{n + 1}"
      ]
     },
     "execution_count": 57,
     "metadata": {},
     "output_type": "execute_result"
    }
   ],
   "source": [
    "x_1_to_np1 = var_range(x, one, Add(n, one))"
   ]
  },
  {
   "cell_type": "code",
   "execution_count": 58,
   "metadata": {},
   "outputs": [
    {
     "data": {
      "text/html": [
       "<strong id=\"y_1_to_j\">y_1_to_j:</strong> <a class=\"ProveItLink\" href=\"../__pv_it/common/6b7b6b1e613dd750e6527c69f664be5ffb9577a20/common_expr.ipynb\"><img src=\"data:image/png;base64,iVBORw0KGgoAAAANSUhEUgAAAG8AAAAPBAMAAAAYH4wJAAAAMFBMVEX////c3NwyMjK6urpEREQi\n",
       "IiLMzMwQEBCqqqp2dnZUVFSYmJhmZmaIiIju7u4AAADlKNhoAAAAAXRSTlMAQObYZgAAAAlwSFlz\n",
       "AAAOxAAADsQBlSsOGwAAAVpJREFUKM+dkrFLw0AUxr9Ymya1CR26G3B08T+oc6cubloyqYNgRpdi\n",
       "cXEQJBRcRCGDSxfJP6AGpSCKms0lQjaxUrQKggjW17ucaQPp0A8ued+938c7joMeuOjgX91b6A7S\n",
       "FeOqYuEibti7mHkfE4xwGVgvVHGCV4Pvy4028osvh6dpQY4jayLM+ajLT9XoJKgj53topwUZzsty\n",
       "KH9BiYLI/GLT/MSsmZZkONMlNCsOFgw84nxMkOHda6oqmHZ4MKRFdYV+B9wlbhQC93aoukHZZUH9\n",
       "YzDRyfzQHdW4Y583Y6hguB4eUdU5fijyiUs0RG8FPaAUcodlWllPFDWBY54doQkeVNjpVAOSJxUj\n",
       "N6J9gaM34PStKKiy3ecGSqsbIXMJ2QKXLZrv521IzW+fnhv1VtACtvt97hKX40c4NHqVytmVaNA+\n",
       "9oKFITcqDQKfcjGR5tYmy+HuHvgDS29uIjkgFqUAAAAASUVORK5CYII=\n",
       "\" style=\"display:inline;vertical-align:middle;\" /></a><br>"
      ],
      "text/plain": [
       "y_1_to_j: y_{1}, y_{2}, ..., y_{j}"
      ]
     },
     "execution_count": 58,
     "metadata": {},
     "output_type": "execute_result"
    }
   ],
   "source": [
    "y_1_to_j = var_range(y, one, j)"
   ]
  },
  {
   "cell_type": "code",
   "execution_count": 59,
   "metadata": {},
   "outputs": [
    {
     "data": {
      "text/html": [
       "<strong id=\"y_1_to_n\">y_1_to_n:</strong> <a class=\"ProveItLink\" href=\"../__pv_it/common/bcf5ce1b1593e9c2c261618d94fd21c2cd04eae40/common_expr.ipynb\"><img src=\"data:image/png;base64,iVBORw0KGgoAAAANSUhEUgAAAHIAAAANBAMAAACHhydaAAAAMFBMVEX////c3NwyMjK6urpEREQi\n",
       "IiLMzMwQEBCqqqp2dnZUVFSYmJhmZmaIiIju7u4AAADlKNhoAAAAAXRSTlMAQObYZgAAAAlwSFlz\n",
       "AAAOxAAADsQBlSsOGwAAAV1JREFUKM99kj9Lw1AUxU+ISf/HDp01H8GtY507ddFJSydxUOwkLsVO\n",
       "OgglFFwEIYNLByVfQC1KFysYXESIkE1sEauCIIL15r5nWwjphbzcd+/vPG5OHgzPQQ+jeO3CsBEd\n",
       "E3giXsXluGPtIzWYopzA19MlnKBvip1e7yC5+HJ0FqUUOIcfc1HTn0pyGNQQc9voRCkZl3nB178Q\n",
       "l0qov9iqfGK+EiVlXMQVMtWxMm3iARdTlAGe6m56lBYxY7PSCBqUF+l1SHOFfYXE+3knlgVuUHBY\n",
       "+Ra4lLbVHzKqDOMDosTJaMf43D1m6eDe8V2WlVo5QFreO5Cj+hI9WptKK5ALA4yfIs9TNCG+syH+\n",
       "mAmlrdBh4XEb//g2bnUCjR2ptLj8XEdubcNHIuyOBYErAyzvQXOTFpTmtwvDpeYqWsDucEj3MOwQ\n",
       "AYyrNh7Jm/Nr2cgEy4G3ILduSBkAY/wPgYht8kA9+JAAAAAASUVORK5CYII=\n",
       "\" style=\"display:inline;vertical-align:middle;\" /></a><br>"
      ],
      "text/plain": [
       "y_1_to_n: y_{1}, y_{2}, ..., y_{n}"
      ]
     },
     "execution_count": 59,
     "metadata": {},
     "output_type": "execute_result"
    }
   ],
   "source": [
    "y_1_to_n = var_range(y, one, n)"
   ]
  },
  {
   "cell_type": "code",
   "execution_count": 60,
   "metadata": {},
   "outputs": [
    {
     "data": {
      "text/html": [
       "<strong id=\"y_1_to_m\">y_1_to_m:</strong> <a class=\"ProveItLink\" href=\"../__pv_it/common/c3b2b977a12222eab55ee5c367f9341f041d934c0/common_expr.ipynb\"><img src=\"data:image/png;base64,iVBORw0KGgoAAAANSUhEUgAAAHYAAAANBAMAAACObIcgAAAAMFBMVEX////c3NwyMjK6urpEREQi\n",
       "IiLMzMwQEBCqqqp2dnZUVFSYmJhmZmaIiIju7u4AAADlKNhoAAAAAXRSTlMAQObYZgAAAAlwSFlz\n",
       "AAAOxAAADsQBlSsOGwAAATpJREFUKM99kL9Lw0AYht+g+aWXq64iWv8DN8duDg6SxU2kiz8WoZO4\n",
       "CP4FUro5CBmcBCFDV1F0U9BDnEqVzC1icSg41cvlckm8xA8OvufuebnvDrQfYoC0ilRSBcF1WrhF\n",
       "OZVUQTggPi4xrOeInl9FVdlElxXZDCfWu58jAuJXZYWgqBFZYzh+jmqrxrhyaKGndQ+vlWVjmo3+\n",
       "yQrh6bDndZvABqYDkaXxkSC4HPUnK2G4FtqBx71HNEKR/Yr/SxB2I9BvJFuqyYSlV9SapA0MLl7m\n",
       "RNbcgSRjk3db/GLzjjfbkE0mXGMf5mk8RgfJe88gaRHzfEsfWglHeMOyBbdOj2WWDyHIWN975q3+\n",
       "T0oY8Zu7BCabacPo/DBQhoTsyWQEfOp/lQpTAVaw8AHn5kEeeXxlBKZl/wj4BUGIcJVGep60AAAA\n",
       "AElFTkSuQmCC\n",
       "\" style=\"display:inline;vertical-align:middle;\" /></a><br>"
      ],
      "text/plain": [
       "y_1_to_m: y_{1}, y_{2}, ..., y_{m}"
      ]
     },
     "execution_count": 60,
     "metadata": {},
     "output_type": "execute_result"
    }
   ],
   "source": [
    "y_1_to_m = var_range(y, one, m)"
   ]
  },
  {
   "cell_type": "code",
   "execution_count": 61,
   "metadata": {},
   "outputs": [
    {
     "data": {
      "text/html": [
       "<strong id=\"z_1_to_k\">z_1_to_k:</strong> <a class=\"ProveItLink\" href=\"../__pv_it/common/32e484fccc483f8f144ffef612b4a0560e9e85050/common_expr.ipynb\"><img src=\"data:image/png;base64,iVBORw0KGgoAAAANSUhEUgAAAHAAAAANBAMAAACDcvdnAAAAMFBMVEX///9mZmYQEBCqqqq6urpU\n",
       "VFRERER2dnaIiIgyMjLu7u6YmJjc3NwiIiLMzMwAAAD9v49RAAAAAXRSTlMAQObYZgAAAAlwSFlz\n",
       "AAAOxAAADsQBlSsOGwAAATBJREFUKM9jYOC7++A0Axyg8rCAt/d4NkBYK9vTAxDiqDxMwDWjrBTK\n",
       "PMXAvoBh9QQkHld56AJcGnkWMFQxcN+AGFLFwNdxAW5kFQMjA+MF3HYuBxqqAmadAGJmuEogj9+B\n",
       "5x9OfTwNQPwBxGLZwLAAoRHE416AR6M3AxcDd8KJAgYGYwaGALBGLpA4mMfAfgHCQwUgjzMbMLAy\n",
       "sPZY6TDwpWfUPgBrXA8MIAiP4e0CMA9McP1EZjwra7/HwNTM8ICBncFoCsSPvLcYoDyeLAiPgVcA\n",
       "SFyEMe4CrSxg1nRgOC/4AOYKsB+tYLyDDGeQeHDADIukbSwXDiBrLIAFXN47KQQPAdhhjAi+C1BZ\n",
       "nsrvDQxcDVBxpv//PyB4CLACxshhiH6AJM6BoooDM1RRjAIAt2tZqLEui3YAAAAASUVORK5CYII=\n",
       "\" style=\"display:inline;vertical-align:middle;\" /></a><br>"
      ],
      "text/plain": [
       "z_1_to_k: z_{1}, z_{2}, ..., z_{k}"
      ]
     },
     "execution_count": 61,
     "metadata": {},
     "output_type": "execute_result"
    }
   ],
   "source": [
    "z_1_to_k = var_range(z, one, k)"
   ]
  },
  {
   "cell_type": "code",
   "execution_count": 62,
   "metadata": {},
   "outputs": [
    {
     "data": {
      "text/html": [
       "<strong id=\"z_1_to_n\">z_1_to_n:</strong> <a class=\"ProveItLink\" href=\"../__pv_it/common/fe1ccaeb4d4f9086b240828453267e34ab330d430/common_expr.ipynb\"><img src=\"data:image/png;base64,iVBORw0KGgoAAAANSUhEUgAAAHEAAAANBAMAAABssJxZAAAAMFBMVEX///9mZmYQEBCqqqq6urpU\n",
       "VFRERER2dnaIiIgyMjLu7u6YmJjc3NwiIiLMzMwAAAD9v49RAAAAAXRSTlMAQObYZgAAAAlwSFlz\n",
       "AAAOxAAADsQBlSsOGwAAASZJREFUKM9jYOC7++A0Axyg8rCAt/d4NkCZK9vTAxASqDxMwDWjrBTG\n",
       "PsXAvoBh9QQkHld56AJcOnkWMFQhjKli4Ou4gMRjZGC8gNvW5QhTTwAx8wUkHr8Dzz+cGnka4EyW\n",
       "DQwLEDpBPO4FeHR6M3AxbNzXIQBkGjMwBIB1cjHAeAzsFyA8VAByJrMBAyvXFm0GHWA0pGfUPgDr\n",
       "XD8BxmN4uwDM4/rJwIBggIlnZe33eFZMYPgFNJ7BaArEn7y3YDyeLAiP4SIQ8wpAGQx3gZYWMGs6\n",
       "MLA2sCjAHAL2pxWMd5DhDBIPDphhocr0gFHgAbLOAljw5b2TQvAQgB3GOM/A+xiqk6fyewMDFyy8\n",
       "mf7//4DgIcAKGMOVgaMaWYKDATcPDFDNAgA4hFgEdab9IgAAAABJRU5ErkJggg==\n",
       "\" style=\"display:inline;vertical-align:middle;\" /></a><br>"
      ],
      "text/plain": [
       "z_1_to_n: z_{1}, z_{2}, ..., z_{n}"
      ]
     },
     "execution_count": 62,
     "metadata": {},
     "output_type": "execute_result"
    }
   ],
   "source": [
    "z_1_to_n = var_range(z, one, n)"
   ]
  },
  {
   "cell_type": "code",
   "execution_count": 63,
   "metadata": {},
   "outputs": [
    {
     "data": {
      "text/html": [
       "<strong id=\"range_1_to_i\">range_1_to_i:</strong> <a class=\"ProveItLink\" href=\"../__pv_it/common/90c01d61e41072882118367dacd8963030eef7da0/common_expr.ipynb\"><img src=\"data:image/png;base64,iVBORw0KGgoAAAANSUhEUgAAAFIAAAASBAMAAAA6WpTEAAAAMFBMVEX///+6urpERESqqqqYmJgQ\n",
       "EBDc3Nx2dnaIiIgyMjJmZmZUVFTu7u4iIiLMzMwAAAA9XO4HAAAAAXRSTlMAQObYZgAAAAlwSFlz\n",
       "AAAOxAAADsQBlSsOGwAAAOBJREFUKM9jYOC7wwABbKsmPWDABTgWMJxe+QfKSWJg/4hTJW8BUDVM\n",
       "5TYGhlAGfACuMv4Aw/4EolTuZWDY/4AolUBwH5eiE0tQVfL9wKWyQBRVJe8GHAr5DFaiqlyEy0ge\n",
       "hggUlSwbcHqG+Q+KSnMGNlyhxLnhAEQlD9gxBQwcB3gwVQHVMJwXAMYR+zcgYwKQl7tq1Vowi+cn\n",
       "A5SA896zOTBwb/25hYEXlEru////E8K6xQAleBcAibtAQ7ldYDbYMGCy4L45gBKyWFgwwI4SXg2Y\n",
       "LERMosQ9FhYcQPUCAMRUQj+EkpuCAAAAAElFTkSuQmCC\n",
       "\" style=\"display:inline;vertical-align:middle;\" /></a><br>"
      ],
      "text/plain": [
       "range_1_to_i: 1, 2, ..., i"
      ]
     },
     "execution_count": 63,
     "metadata": {},
     "output_type": "execute_result"
    }
   ],
   "source": [
    "range_1_to_i = ExprRange(k, k, one, i)"
   ]
  },
  {
   "cell_type": "code",
   "execution_count": 64,
   "metadata": {},
   "outputs": [
    {
     "data": {
      "text/html": [
       "<strong id=\"range_1_to_ip1\">range_1_to_ip1:</strong> <a class=\"ProveItLink\" href=\"../__pv_it/common/a7d06ea30e089f300d65ab9f2009b2d425267bb10/common_expr.ipynb\"><img src=\"data:image/png;base64,iVBORw0KGgoAAAANSUhEUgAAAIQAAAAVBAMAAAB1UFtyAAAAMFBMVEX///+6urpERESqqqqYmJgQ\n",
       "EBDc3Nx2dnaIiIgyMjJmZmZUVFTu7u4iIiLMzMwAAAA9XO4HAAAAAXRSTlMAQObYZgAAAAlwSFlz\n",
       "AAAOxAAADsQBlSsOGwAAAZdJREFUOMuVlLFLAzEUxj/b2rva3NHB7k7OXUSHCkVcdHIpOAgtnVyE\n",
       "2x0s6K6Im4NFCtJCoYM6VKQ3Vhysq3rWf0CKi1go1OSaXnO9RGog7768S3738pJ3wJQt+i+3tB3K\n",
       "3TNFasy3EbB6+qEkhC1AL004P23gCHis9LmjAO1LiXig3bB8LtK4oIgY7foIcQtklYiyoOdH4pgu\n",
       "j5QERM5GM69CbAl6RURgR0DcA01VMsInSsSZgKCtowpijqahVZYi9n0I80eFiGUAKylFbPgQRl2F\n",
       "MFIwUxUpYsmHuFQeyGwCBNtM1Rwn6zivY0RXRETqfyEQ7kujSIqIZUTz6o0gVrdliNUhgrjJtKDb\n",
       "JLiczQvRUnhKWDLEGqB907fs2Peq1ZqrSA/ceCON7rEbzUwgDljQV4jf9K5hsFLrDAa9oXoBNwYr\n",
       "LId+y2wD8fWJXNzlzin0mY/SXtjp4M1k4b7Lbqdb320uxjVoBRAaM5uyMnPvLd8dKXoVXAwgWsyE\n",
       "VGdV4E/d8+jBSS6ULCgQi9P/+Hblbj2PXwIucDBfKYyUAAAAAElFTkSuQmCC\n",
       "\" style=\"display:inline;vertical-align:middle;\" /></a><br>"
      ],
      "text/plain": [
       "range_1_to_ip1: 1, 2, ..., (i + 1)"
      ]
     },
     "execution_count": 64,
     "metadata": {},
     "output_type": "execute_result"
    }
   ],
   "source": [
    "range_1_to_ip1 = ExprRange(k, k, one, Add(i, one))"
   ]
  },
  {
   "cell_type": "code",
   "execution_count": 65,
   "metadata": {},
   "outputs": [
    {
     "data": {
      "text/html": [
       "<strong id=\"range_i_to_j\">range_i_to_j:</strong> <a class=\"ProveItLink\" href=\"../__pv_it/common/84fd22bb26899760fc6efa6c22b06bb8194a5c280/common_expr.ipynb\"><img src=\"data:image/png;base64,iVBORw0KGgoAAAANSUhEUgAAAIYAAAAVBAMAAABxpYtPAAAAMFBMVEX///9ERETc3NxUVFQyMjKq\n",
       "qqrMzMwQEBC6urqYmJju7u52dnYiIiJmZmaIiIgAAACrFvqoAAAAAXRSTlMAQObYZgAAAAlwSFlz\n",
       "AAAOxAAADsQBlSsOGwAAAZdJREFUOMuVlL9Lw0AUx1+TJmmTNGZ26iqIdJNuATenzA52cjabm2QT\n",
       "F8nqUAzo3OZPEESHGqFDl0KHojgWRDqUTr67XNIcvV7rg1zux3uf3Pu+uwCsTAGhNeEf9i2evtsh\n",
       "dMbeWgLgDPk1fYBzkTRc38fmnQ2e8LETbv1xtMT2VMpwvNJgXOrf5g6E0d1djqDUPy8zjHhXhOZt\n",
       "YlSjLaHmjHk0UIreWMSwWpL43hc61FgO5GvJjYhR9ySMoRHBRYN52D7o/kjE0AJJVZp7PsTGNBsZ\n",
       "IZhwTXqTNL1K05eCof9IpIAOKt6JCwZoS9E+aoFM0Ak+J2aRC1RbsSiXZxkDj6i5sIBSKphTP0xE\n",
       "mrp002tGv6csSLIH0PdYBS+ViGdYv6zq1MecA2uKEdSJWO0I7AFRDnes3vN6qMfzNmYZklSJzwew\n",
       "xiZ3MyUbUV0WckaaN8E5pXa48uFPNmHkZQWqQldw50qXMVljWLgL/4FVwaSsyoYfluKufPhjjgL6\n",
       "r7n6GckVMzK2s76A1MYs5OeOxIzPbTf+D3HNZQExpEiwAAAAAElFTkSuQmCC\n",
       "\" style=\"display:inline;vertical-align:middle;\" /></a><br>"
      ],
      "text/plain": [
       "range_i_to_j: i, (i + 1), ..., j"
      ]
     },
     "execution_count": 65,
     "metadata": {},
     "output_type": "execute_result"
    }
   ],
   "source": [
    "range_i_to_j = ExprRange(k, k, i, j)"
   ]
  },
  {
   "cell_type": "code",
   "execution_count": 66,
   "metadata": {},
   "outputs": [
    {
     "data": {
      "text/html": [
       "<strong id=\"range_i_to_jp1\">range_i_to_jp1:</strong> <a class=\"ProveItLink\" href=\"../__pv_it/common/df331a9b03c81b36ed91c8bf1ae083bba2cab1a30/common_expr.ipynb\"><img src=\"data:image/png;base64,iVBORw0KGgoAAAANSUhEUgAAALkAAAAVBAMAAADoXVL6AAAAMFBMVEX///9ERETc3NxUVFQyMjKq\n",
       "qqrMzMwQEBC6urqYmJju7u52dnYiIiJmZmaIiIgAAACrFvqoAAAAAXRSTlMAQObYZgAAAAlwSFlz\n",
       "AAAOxAAADsQBlSsOGwAAAfJJREFUOMuFlb9PwkAUgB8FWmihMjuxmhjCZthI3Jw6O8jkDJuLMWyG\n",
       "xXR1MDbRGfonkBg1wTNhYCFxIBpGEmIYCJPv2qPttXfnJRxt731f7979KEBcNBCWOiiLJmtIcUtx\n",
       "1J3avpQ1hNyK3RV9AHvKR+gTfOaq5JQC/RBk3Ad78oy/is8FPc12WJ+p7JQCuw3/cfPE9YD92zTq\n",
       "QWVPUlBypVwvcX2RjDI8hb3HpWkh44ptmb2gSDxHpezImSvGVjHlw7nIbjXldkrB8EdoR84qsbHR\n",
       "Hvq3Inu5LbcH45oarsiO3GWVsRUHdGcmshd7cjtSYNcPHJEdOc9gT4w+mHBDr74IuSLkJYrS13I7\n",
       "Uoh16PxVCXm/JqTJcR0vjivuRH0v9dR27I8w75Q7NeMxFpqeKDNjdWbiDZnKzBjMrQWBP4cto74v\n",
       "mtUaAJhZs8co0LZCO3L6+ghGbbbuuprL263f/aqjMeYGWBXdBau1vE7bI67lQmVC5wDHn7/n854/\n",
       "2bRw9DS3QcwnsKpCTzvihRTkayl7gsNyTqs3wV4NynEcw+9Tj1H7ZRf3PcHhLoLUoTPIHlR+xm6F\n",
       "VN559NKnWPKAM4NX5iQfIa0Wx3BlGFJd51XB4QyH76iJ7eFb7WzDIqSqq76Ci0pDbP9Wf/kasgbk\n",
       "/gAL2ZlW2rgKeAAAAABJRU5ErkJggg==\n",
       "\" style=\"display:inline;vertical-align:middle;\" /></a><br>"
      ],
      "text/plain": [
       "range_i_to_jp1: i, (i + 1), ..., (j + 1)"
      ]
     },
     "execution_count": 66,
     "metadata": {},
     "output_type": "execute_result"
    }
   ],
   "source": [
    "range_i_to_jp1 = ExprRange(k, k, i, Add(j, one))"
   ]
  },
  {
   "cell_type": "code",
   "execution_count": 67,
   "metadata": {},
   "outputs": [
    {
     "data": {
      "text/html": [
       "<strong id=\"range_1_to_mp1\">range_1_to_mp1:</strong> <a class=\"ProveItLink\" href=\"../__pv_it/common/8b26aa4bdc36a32d337d0f09ba5b1c3f648183ee0/common_expr.ipynb\"><img src=\"data:image/png;base64,iVBORw0KGgoAAAANSUhEUgAAAI4AAAAVBAMAAABicsu7AAAAMFBMVEX///+6urpERESqqqqYmJgQ\n",
       "EBDc3Nx2dnaIiIgyMjJmZmZUVFTu7u4iIiLMzMwAAAA9XO4HAAAAAXRSTlMAQObYZgAAAAlwSFlz\n",
       "AAAOxAAADsQBlSsOGwAAAcRJREFUOMudlL9Lw1AQx79tmv7Ij5JFEEHspIMgLm4K4qYO9g9QDA4q\n",
       "LgZXhwYVBxHs4OZgB0HayUEHfwwdFYdWwaUaceskrSBioVjfS2OaNnmh+CCXe3d5n9wddw/ocoX/\n",
       "6etc2z6+gE5E/MXarWVH2J9yGsvzngd2gPts3QougZTC5Nwx7NLVMeHEyBO1OKIKPsnknLhymbSU\n",
       "A8IIZVocvg7xi8lx/YHTHRzMO+IpQvxhliftzzlscciSqyyOQMrce7OypZc3FC/OZhunorM4MVIN\n",
       "bViXPhUu6cWZbuM8M8sjjyKgPCL8jVDVizPm5AgJJodXIEkf4OoQaKUEw3haMIwzm1NxcmbhxwFX\n",
       "pRBe84qnx8EhLbvskxfENGQNA2regzPR5EjUUAb2kXd3LBVBcopEUlBwGZ704EwBEdJ8BZJ0uJTL\n",
       "FaUaPUkFNdkKIqQU62+YA4YiHXmlVCJOIV7UziGTWZUbjUYaBqWXaCaZP4XOcbwI9AN7QN9uO+d6\n",
       "8YgE+GBBx+02dSdm+l6Z/WzOeNFS7Fsh4q6x6ZthzqnZMdZGsuG37jqbvqDqd8ktWe+obXFPRtMn\n",
       "Jfw4g93fq6s+vqiKX8FhfYJUzXwXAAAAAElFTkSuQmCC\n",
       "\" style=\"display:inline;vertical-align:middle;\" /></a><br>"
      ],
      "text/plain": [
       "range_1_to_mp1: 1, 2, ..., (m + 1)"
      ]
     },
     "execution_count": 67,
     "metadata": {},
     "output_type": "execute_result"
    }
   ],
   "source": [
    "range_1_to_mp1 = ExprRange(k, k, one, Add(m, one))"
   ]
  },
  {
   "cell_type": "code",
   "execution_count": 68,
   "metadata": {},
   "outputs": [
    {
     "data": {
      "text/html": [
       "<strong id=\"f__a_1_to_i\">f__a_1_to_i:</strong> <a class=\"ProveItLink\" href=\"../__pv_it/common/e3365f75bd57fd1ba0f454f5bdb756ddb29fc4e20/common_expr.ipynb\"><img src=\"data:image/png;base64,iVBORw0KGgoAAAANSUhEUgAAAI8AAAAVBAMAAACNsKCFAAAAMFBMVEX///8yMjLc3NyIiIiYmJgi\n",
       "IiJERES6urqqqqoQEBDMzMxUVFTu7u52dnZmZmYAAAD1zdHuAAAAAXRSTlMAQObYZgAAAAlwSFlz\n",
       "AAAOxAAADsQBlSsOGwAAAedJREFUOMulVM8rRFEU/jzz4w13xvwBFq/EhjKxESllK2Zl4VdTlhaU\n",
       "UnaTsqIIyc5kx0I0K0WN2EiakWxIvcTayGIsRpxz73vXG4zFzKk5754z3/0657v3HkCbgYrNKom6\n",
       "KieaVZ/IQ4a8maucqLZPfu53k+RPUYU1Sr81xxU9VUM0yC5YlOvVaohCXEo4zkszWg1RDYnkOxq1\n",
       "WXHWuvWmyfOvcdIR+3+/xocPyDXEXM7gGqYz37B5K1D8l0fhBd0iH/fTnuKkn07uog/PwLnTpNhA\n",
       "JI6r++OyRAofpkJMVnhFyTUDvADjqOuMO9crD38ONmPLmMRLq8uTu9VEmxAFYneIQglkZ1BwKv7L\n",
       "FF42yRVNwWlNvMGX/ybKxjAEDJQnUvhgD5w96zIbiEG8oz66IJOCiZI4NC1ZsfhNwj+JP2ug8/El\n",
       "6JAL+gAnsWjbkigbZWpzIkLtj6lQvOLHQuHbFp3LY+aVXLT9sncnnZJEftot0net3UBLRoWYYAFs\n",
       "d8EZhZ/kkBSOHKhiR9yqZb/L+lbahuUJtemMKJKGzcBSTdLz7jSRnikte/sZT6hNZ8yoLV/8sDs+\n",
       "As6YM64/SHf9NrY/P+EJdR06I9IWDNK6/9FNJLyT6sfg+j3KSqJAyaxtqvzxdwBfROx8hjTBVr8A\n",
       "AAAASUVORK5CYII=\n",
       "\" style=\"display:inline;vertical-align:middle;\" /></a><br>"
      ],
      "text/plain": [
       "f__a_1_to_i: f(a_{1}, a_{2}, ..., a_{i})"
      ]
     },
     "execution_count": 68,
     "metadata": {},
     "output_type": "execute_result"
    }
   ],
   "source": [
    "f__a_1_to_i = Function(f, a_1_to_i)"
   ]
  },
  {
   "cell_type": "code",
   "execution_count": 69,
   "metadata": {},
   "outputs": [
    {
     "data": {
      "text/html": [
       "<strong id=\"g__a_1_to_i\">g__a_1_to_i:</strong> <a class=\"ProveItLink\" href=\"../__pv_it/common/91df282e531dc076061551dc17931f746f1b916a0/common_expr.ipynb\"><img src=\"data:image/png;base64,iVBORw0KGgoAAAANSUhEUgAAAI4AAAAVBAMAAABicsu7AAAAMFBMVEX///8iIiJmZma6urrMzMxU\n",
       "VFTu7u5EREQQEBAyMjKYmJjc3NyIiIh2dnaqqqoAAADvjgrBAAAAAXRSTlMAQObYZgAAAAlwSFlz\n",
       "AAAOxAAADsQBlSsOGwAAAeNJREFUOMulU00oRFEYPfOMN2PezBiUHZGyk9koCwuKFWU2ihp5C0Jk\n",
       "LGQzihKKzWRpw05WJjWUn3rKyk9ZsKPGRiSZIqUR7t/cuYOhZr7F7ZzXeee9+53vA2RFkWsZKnHH\n",
       "c/YpsBTyiNzrOA31SB4+RaaE2loePq4qCZ3Ip+Ylus/LZ4U2+HSXnHU0v94TtfOxq/1/8pb6S8AT\n",
       "MRaEY2PU8aqkuYRp808frh8haAN4MvFOUCWJbBGaD/qGUA2toRr6dVdWL67HFYF3wBzsSYJmSWQJ\n",
       "2M7RcShk9UAFNCb9vbieVSfsH3DPcB/nOEJ+4EbIFqA/o9hvvGTzEXp2Q7iScAT4vUIWNiF99He4\n",
       "EnCZ2X24vinA3iHaEB3BKfI8jh5vlPmQnugfKIw8kBx8jH7vDYR+26LRrENPos/kyTksb6nG/kd/\n",
       "Y843VWROW0xOQxGkATuY3hjz8alpOKumH2ghquBF7Ijfq4RYD5y1B5thTApqo7NfCgFs5Sm9g45Q\n",
       "GbVYpoetOfXL1Mcrb7KFPZXKupVd6icD6UObaX/JXDXq45EjO9Faq9B0ncuF0tiSd5vDfLbD4vnB\n",
       "KhmsUZnt52dCoek+ywUaOAF2aHtqOB9UZVbmW9YPH3cGC6tLZ+W87e4ovgD47IF74biDWAAAAABJ\n",
       "RU5ErkJggg==\n",
       "\" style=\"display:inline;vertical-align:middle;\" /></a><br>"
      ],
      "text/plain": [
       "g__a_1_to_i: g(a_{1}, a_{2}, ..., a_{i})"
      ]
     },
     "execution_count": 69,
     "metadata": {},
     "output_type": "execute_result"
    }
   ],
   "source": [
    "g__a_1_to_i = Function(g, a_1_to_i)"
   ]
  },
  {
   "cell_type": "code",
   "execution_count": 70,
   "metadata": {},
   "outputs": [
    {
     "data": {
      "text/html": [
       "<strong id=\"f__b_1_to_i\">f__b_1_to_i:</strong> <a class=\"ProveItLink\" href=\"../__pv_it/common/d11e64ac94a9cfc8fc504686da3edbc6c0900f2f0/common_expr.ipynb\"><img src=\"data:image/png;base64,iVBORw0KGgoAAAANSUhEUgAAAIgAAAAVBAMAAABvbLv8AAAAMFBMVEX///8yMjLc3NyIiIiYmJgi\n",
       "IiJERES6urqqqqoQEBDMzMxUVFTu7u52dnZmZmYAAAD1zdHuAAAAAXRSTlMAQObYZgAAAAlwSFlz\n",
       "AAAOxAAADsQBlSsOGwAAAhFJREFUOMudVEFIG1EQfYlNsqabTQ7eLCVQyElwwR4KXrYUeiriRQvW\n",
       "itiTCNKT4MlceigKLWihh0JzbQ+tYA8VFFYUQUrJ9uApKNtSj2LtxSAROzP7/7phawIZ+H9n/rz/\n",
       "9s2fvwuElkRH1rztXmckGVse1oFLs+Fh900kaU4Pt96t0Xdlrn0o07xF43YUlPDbaFDoBEvA2zl+\n",
       "/KZRj2Ly5TYkCn2DX5ZpiP869JQtuG0OQ6Pf0chJ7UZBe9r22wgJ0T2kZv0J67E8qm5tMFJC78DX\n",
       "liQhusa1S48SDlC9Zf696s6pWy22IhG0SZD7FPRXeClFrK9cLGOnEGCMBrrt77WNa0kEnSMFLzmQ\n",
       "pe7nwE/gIjugSrUKyHs+jq4lYbQ4n8MDZJKnyNRhKJKUh4XymdL5PxM02zyNGehy6rAaIQldkxP3\n",
       "UQsSRmcGyXlBY1mW0lTcOfYcITGZpGKuBDrj94Xzgt7OU/IhfYVnQddXgS+YhZBU6XBvOmlqfXac\n",
       "2iS9QrAcOoLuYxXHtOmPkGRp77dDJyBJjRN6kz+EEr1phKVMcMm+digfoJ+R85i6sBpIHFNS5UyW\n",
       "9M/CTxZhxOvRebNRQXIYiwl1SYeiJJ4KSh8/ucjFD1XnjYIPy8HolorTwfVM/riwYdpq8f3lJbAd\n",
       "P1idN9eKKAEPful48grU1bTFjpE05aeiwZ3Ofo9dRfwD8T2H7Re/ok8AAAAASUVORK5CYII=\n",
       "\" style=\"display:inline;vertical-align:middle;\" /></a><br>"
      ],
      "text/plain": [
       "f__b_1_to_i: f(b_{1}, b_{2}, ..., b_{i})"
      ]
     },
     "execution_count": 70,
     "metadata": {},
     "output_type": "execute_result"
    }
   ],
   "source": [
    "f__b_1_to_i = Function(f, b_1_to_i)"
   ]
  },
  {
   "cell_type": "code",
   "execution_count": 71,
   "metadata": {},
   "outputs": [
    {
     "data": {
      "text/html": [
       "<strong id=\"f__b_1_to_j\">f__b_1_to_j:</strong> <a class=\"ProveItLink\" href=\"../__pv_it/common/fd1ebedd5ee92927a98e765ed5931e5f5af07def0/common_expr.ipynb\"><img src=\"data:image/png;base64,iVBORw0KGgoAAAANSUhEUgAAAIoAAAAWBAMAAADtDRlvAAAAMFBMVEX///8yMjLc3NyIiIiYmJgi\n",
       "IiJERES6urqqqqoQEBDMzMxUVFTu7u52dnZmZmYAAAD1zdHuAAAAAXRSTlMAQObYZgAAAAlwSFlz\n",
       "AAAOxAAADsQBlSsOGwAAAhdJREFUOMulVE1oE0EU/pKYv3Xc5lDwYCkBIVcX0oPgZUXwJCUnBa1F\n",
       "vIkgngRPiQcPUkGhFTwI9loPbcAeWqiwQRFEJNtDT8Gy/oEHReOlQVLimzezO1trsxAfzMx7b773\n",
       "7XszbxaIJI3RZG/cyRFZ8g4v9nuP5oKP149im+JabXh0hJ7iubPUoLlFYzKOSgUJSYTolEwCj2/J\n",
       "5TONXhw01khgCdGH5OfyfdYfRpqWupdwHhH6CY0jXH+hFGqhbCWkYtDjlM/6JZmR7VOBz0/FqjhW\n",
       "XRvKYtAdWT/fVMoF2hPil7mjrtcuD2NRaIu00zROLEpflngfeJjHq5ICFfooOu86GweyMBpZir4n\n",
       "LfYVbwIfgF2rqsu1SxjzA3w5kEWilbYSnaJkuYx8DwXNkvVRb+zoTP8ljGa5TeM6wop6sPsRC7XL\n",
       "D+/cEBZGv/xK2l0a8+zL0Rn/xhuXWYRkWRQLKlOxj4A9jA7ukHaWnuSOuv0msIobYJY2nfBhN0cd\n",
       "YM0oS3Txl8Jo4W2T9p2ifjKLRcFvt13FkqVY8UK+iYqnLMzKqoNQkR5Gy47DBbqLpsryos6Wz+V+\n",
       "+O8I0mVjGTEeapl0DXMp3YDTcRZfG5Vny56xjEQei56f7eJ8S9s51ajpzV0HwtHOp4MBjGVON/Jk\n",
       "qJIKcOZjuHPFoDJ7YjL7UjEe+XCuxreOj/C3PLpElGX8p3z6xssfZfiJ8jP0HtYAAAAASUVORK5C\n",
       "YII=\n",
       "\" style=\"display:inline;vertical-align:middle;\" /></a><br>"
      ],
      "text/plain": [
       "f__b_1_to_j: f(b_{1}, b_{2}, ..., b_{j})"
      ]
     },
     "execution_count": 71,
     "metadata": {},
     "output_type": "execute_result"
    }
   ],
   "source": [
    "f__b_1_to_j = Function(f, b_1_to_j)"
   ]
  },
  {
   "cell_type": "code",
   "execution_count": 72,
   "metadata": {},
   "outputs": [
    {
     "data": {
      "text/html": [
       "<strong id=\"g__c_1_to_i\">g__c_1_to_i:</strong> <a class=\"ProveItLink\" href=\"../__pv_it/common/e03d0bd72023e90a1fd531ac37255895f1952b270/common_expr.ipynb\"><img src=\"data:image/png;base64,iVBORw0KGgoAAAANSUhEUgAAAIgAAAAVBAMAAABvbLv8AAAAMFBMVEX///8iIiJmZma6urrMzMxU\n",
       "VFTu7u5EREQQEBAyMjKYmJjc3NyIiIh2dnaqqqoAAADvjgrBAAAAAXRSTlMAQObYZgAAAAlwSFlz\n",
       "AAAOxAAADsQBlSsOGwAAAdBJREFUOMudVD0oRWEYfu5xO677w0XZ3EgxiYUMBoqJYlE230ASuQZZ\n",
       "GJSwGG5GC4MSGbAoUsdi8FMGFt1b1yIGMUhxhff9vvPz3XQN561zzvuc87zP6f37ANf24MsiOohm\n",
       "/YkUWRp4hk8791wz5VekRLiuseFXJFzjuiH4tiXXe/IvssYVvTyieyPD9HmH9y12ufl/sMO+JW4q\n",
       "smzL7WeNKa//CTT8qyHZ4+RsAy8CX+Ql6KpGyDK3bU7gGitmZkAUFGE20uQ8AosI5shboAa907P3\n",
       "1OY0UbgBI15IQ7Kl9SH4jei8EgnJXO7tT5xjWXPkrZBIyM28DeEcivtVOklLEzE5x7AoLCLZ7f0y\n",
       "IvyKJM/ZHP2Xns1ShAvxSWtBZY8rlG8mFLvV4py2YOYwJFSfqNixDhYxP+gFteYG6BQKJVPwHHlj\n",
       "ds9kXE1Hy1Uti3fSldk5U+mUk2zsblcgMmOjAM92BWwnUGWzizmnSo5flR11xoxFSp0MDnCsIc8e\n",
       "nMIM00DF0S2Cb3lrxCIxZ+Cmu+o9pNm1syyGXN1BMaZOlVn1+mSd5mfCaePPz6uHtMI6B9HIBXDI\n",
       "JalTeFQjWXkh1h+RqA5m9bPS8rfD0T38Ai3HdBO3q6NeAAAAAElFTkSuQmCC\n",
       "\" style=\"display:inline;vertical-align:middle;\" /></a><br>"
      ],
      "text/plain": [
       "g__c_1_to_i: g(c_{1}, c_{2}, ..., c_{i})"
      ]
     },
     "execution_count": 72,
     "metadata": {},
     "output_type": "execute_result"
    }
   ],
   "source": [
    "g__c_1_to_i = Function(g, c_1_to_i)"
   ]
  },
  {
   "cell_type": "code",
   "execution_count": 73,
   "metadata": {},
   "outputs": [
    {
     "data": {
      "text/html": [
       "<strong id=\"f__x_1_to_n\">f__x_1_to_n:</strong> <a class=\"ProveItLink\" href=\"../__pv_it/common/9c8f9c0c3ca5a7df840ea1afd668e83e9c2a06130/common_expr.ipynb\"><img src=\"data:image/png;base64,iVBORw0KGgoAAAANSUhEUgAAAJYAAAAVBAMAAABWCwqnAAAAMFBMVEX///8yMjLc3NyIiIiYmJgi\n",
       "IiJERES6urqqqqoQEBDMzMxUVFTu7u52dnZmZmYAAAD1zdHuAAAAAXRSTlMAQObYZgAAAAlwSFlz\n",
       "AAAOxAAADsQBlSsOGwAAAgdJREFUOMtjYIADJgZKAKpuC4rMYjcAU3x3DwBJjgsUmcVgAiZvr2wA\n",
       "kgcpM4qBEeQghhllIOoJhWaxPAD59A+YPYFCsxjmADFvAIjFIUCpWSJAt+2MBrmODxj0PMZ71t5A\n",
       "kj1sfepuAz7tKBpuAzE/ODYZHYDmMVgbPEVS+oB5M18APrNQNDgCsf4CEIsV6AAnBv8DWxh4HGGh\n",
       "qcDyh9uB5+7uA7jMgmiAgk4g7gezOAsYGBYwPASyFptCJbkY+ARAduN2G0QDFKwH4qtwsxgYJoOI\n",
       "Vrg0J9D7/AVMv3D7cjKCWQnE2QwwPzKwf2I4g2xWvQLPAZYDeMwCa/DzMn4AdQLEaDYDBp507gkM\n",
       "FyCCoCA6VrCTgReSaHgwjQGqgGjgcZ/CMAko4AbM4N/BUrwbGDh+nZvA3gA2i+cjKCDXvGSoANJL\n",
       "DzCcF4CKwRkgAqKB6bAAAyi5vwUKfIAENNDyxwZ9HlDHhgKtPWfM8QRoNFMOMARigGJxoKB4AGWA\n",
       "VEA1cBuwgzJNODCeNkDcHAV3PcgsDkQ60GNQYmDowfAjQgXnAr4HCxiYAhi6GaEp2w/FLF5EIZe1\n",
       "6g0DA2aBhFChz8C6YgEDnwNDGKysYVOAMnTlLwOzDyJd/P//gYHHAMMshIpqBuYrDAxqDAzOj2B5\n",
       "KwFZJZpeZsx4RDc9CZmjTFEpwazAAADVOoNbOunS3AAAAABJRU5ErkJggg==\n",
       "\" style=\"display:inline;vertical-align:middle;\" /></a><br>"
      ],
      "text/plain": [
       "f__x_1_to_n: f(x_{1}, x_{2}, ..., x_{n})"
      ]
     },
     "execution_count": 73,
     "metadata": {},
     "output_type": "execute_result"
    }
   ],
   "source": [
    "f__x_1_to_n = Function(f, x_1_to_n)"
   ]
  },
  {
   "cell_type": "code",
   "execution_count": 74,
   "metadata": {},
   "outputs": [
    {
     "data": {
      "text/html": [
       "<strong id=\"f__y_1_to_n\">f__y_1_to_n:</strong> <a class=\"ProveItLink\" href=\"../__pv_it/common/60bfa5e9a2fce657b7a87b0a2aa72ecbc09325350/common_expr.ipynb\"><img src=\"data:image/png;base64,iVBORw0KGgoAAAANSUhEUgAAAJEAAAAVBAMAAAC01xHeAAAAMFBMVEX///8yMjLc3NyIiIiYmJgi\n",
       "IiJERES6urqqqqoQEBDMzMxUVFTu7u52dnZmZmYAAAD1zdHuAAAAAXRSTlMAQObYZgAAAAlwSFlz\n",
       "AAAOxAAADsQBlSsOGwAAAd1JREFUOMulVM8rRFEU/rz54c14M94foCixk4kUG5GFkiYlFkj2NlPK\n",
       "xuYtWIgiLOxM2WDBbJWpkZWFEFZSL7FHykZxzv1lpjcsvLM473z3fu/ru+f+AExY+H80VaDuEEpz\n",
       "8pN+KFG2r0IoRfrE537fo3yKMNEg8vY8e3oKpZTlVPsp6vVQSgk2kxrh0nZDKdVQo6LHkz63nRp+\n",
       "9gSnYCYrUZUoJ6S4qM9o0atlRF8MsRJViXJClJfUnucy5iHpPaNuxumXcxJd3J/8JiQJCtjc5jXZ\n",
       "shwcbCKR2e2ScxL5eP5NSRK0LJu700q8i0d5LKlJgT6U5Woh6apmT7NQq0PaRQ+MkkDDfygJQnao\n",
       "kzfM5gOwKYbj5DNeYFlW4tMhEVt2giqa4AxuYYM7Tg2zPsw2pgu170LJeYVGySng0lVDXPwgJlhn\n",
       "Lj7VIbLlRibJnlPsfZOexkoatVIVIzVMcwt8nQyhLiNaFMuxsvQ7IZy5UskuKWT5Fr09q4HVGUIi\n",
       "n/apky3ASo1n7uA1zj2plIJCrQeH9E/wwTGEdsT28uL+j+vXJN6EURSBtsYbugg0INDO1xctIxO8\n",
       "KZqwgMgtNZsaPvCoD9oMFntzCvCvPygS3LtKAtsoi+YQT0EH8A2DYo833KPA5AAAAABJRU5ErkJg\n",
       "gg==\n",
       "\" style=\"display:inline;vertical-align:middle;\" /></a><br>"
      ],
      "text/plain": [
       "f__y_1_to_n: f(y_{1}, y_{2}, ..., y_{n})"
      ]
     },
     "execution_count": 74,
     "metadata": {},
     "output_type": "execute_result"
    }
   ],
   "source": [
    "f__y_1_to_n = Function(f, y_1_to_n)"
   ]
  },
  {
   "cell_type": "code",
   "execution_count": 75,
   "metadata": {},
   "outputs": [
    {
     "data": {
      "text/html": [
       "<strong id=\"g__x_1_to_n\">g__x_1_to_n:</strong> <a class=\"ProveItLink\" href=\"../__pv_it/common/c52df5d678838de8e6af22563c046a2cb2277adc0/common_expr.ipynb\"><img src=\"data:image/png;base64,iVBORw0KGgoAAAANSUhEUgAAAJUAAAAVBAMAAAC9PLGkAAAAMFBMVEX///8iIiJmZma6urrMzMxU\n",
       "VFTu7u5EREQQEBAyMjKYmJjc3NyIiIh2dnaqqqoAAADvjgrBAAAAAXRSTlMAQObYZgAAAAlwSFlz\n",
       "AAAOxAAADsQBlSsOGwAAAgRJREFUOMulVDFIW0EY/pI8n+l7SbSlZJRYlzYoZBEyiLWl7VQhk4gE\n",
       "eohUKoqCow4PVFwEg4OD08OhS6FNlwa69FFwKI2gQwYHRUoRHMSAIkha9b93efcuQrK8H+7yfffu\n",
       "+/67+y8HyCgiSDSoY8eBvAZUchbICjHbx3ohmBc2fRi2A3pt+zAa0ApRJuFpUK8HfGNn5e/U91Gb\n",
       "3pk4VKqpl0eGj1rqVUE8R61grhLcopaK5cOdyhFix+lu6aUKDCreOcM/gl3EisZVm40pr6Kf8IWN\n",
       "YaYy0syqLhCRsIAVaDWCS4CGMNloZS/TEJ7x3Gi6NiHwSBXaDWKW8KJaODyBv801ahf4MdS8eI6E\n",
       "EQtGDe05sUfgeVFnilekhvf42MqLC4z0259iCUYVs3zLi8BkZhTx+rrosujzbRb2CO+79F7o8ART\n",
       "WTtK/2xjDnoN7/jMClXhzVMMCi/9mn4vx60IVVxLuhSzBTHuMyH49gsd5BCmtP277tm+AMbLifRx\n",
       "fV0PGfRe589ngiXmUoRSRB6h3oWSUpBHlg9k+KcN3oXkobheCbkrM2UWFSrjRKJlPNGAr8Brpl26\n",
       "dyXV4BWXM0uvXjKFytiTyap4/BdIA6Psg6jrgvfp4D8NTEvN+u2tSuXZy9sQyWHXhjnHj6tHDE02\n",
       "THXQivK37x5vVx9p0wn0TPwG7gDVmX8lKoYCZQAAAABJRU5ErkJggg==\n",
       "\" style=\"display:inline;vertical-align:middle;\" /></a><br>"
      ],
      "text/plain": [
       "g__x_1_to_n: g(x_{1}, x_{2}, ..., x_{n})"
      ]
     },
     "execution_count": 75,
     "metadata": {},
     "output_type": "execute_result"
    }
   ],
   "source": [
    "g__x_1_to_n = Function(g, x_1_to_n)"
   ]
  },
  {
   "cell_type": "code",
   "execution_count": 76,
   "metadata": {},
   "outputs": [
    {
     "data": {
      "text/html": [
       "<strong id=\"g__y_1_to_n\">g__y_1_to_n:</strong> <a class=\"ProveItLink\" href=\"../__pv_it/common/8750681f94eecdd617d0726070e5f9e806a1ba380/common_expr.ipynb\"><img src=\"data:image/png;base64,iVBORw0KGgoAAAANSUhEUgAAAJAAAAAVBAMAAABbFXrgAAAAMFBMVEX///8iIiJmZma6urrMzMxU\n",
       "VFTu7u5EREQQEBAyMjKYmJjc3NyIiIh2dnaqqqoAAADvjgrBAAAAAXRSTlMAQObYZgAAAAlwSFlz\n",
       "AAAOxAAADsQBlSsOGwAAAhFJREFUOMulVDFIG1EY/pKc15hL0rQWpyJRcahQdCm4aUW3opmqQ6W3\n",
       "SK1Y7OJkB8Gqi7RHR6dMiiCYyYCLRyYVhTg4CB0iSFFBFCpCm6r9//de7iJHMuR+eP/9/73vvnvv\n",
       "+9//AMcyqNmM8iRaqJ0oZJclF/Bhu26oW36I6k0nDKb9EEWSThiGL5t3ojN/REus8t4m+ZckUy6N\n",
       "UXduoh16qsq3D+CHQMwyFiRlLD6DdReYP0XkqgrRA/gqcGniH0VNwEAwgSGMq/JphWbUff50+LYS\n",
       "kYQrOwXmoBUpmgXMsI1FbS+hVo5FhO0kmisRCXgpGYR2h+iMJEK3qV0jnigd1xsM9vzGVk8lJgFX\n",
       "1oVIEY9Scmt4wZwOUdDCNparEDE80v4mx/Ex6znJZ/ELjSnmZCKd5yieoscBbcJbMSj4eFc6zN2+\n",
       "Ar2I96asH9rQnRZEkyx4MBX6S5o3Qv8D9YqdmzF8YwePTXl6Xu0LOV/TGP3ZkRFEgUb+60iOqpAl\n",
       "2BMaAW4C4Z5CAQT8HclD1sDuB7uAkOIIUqNf8qRYMJIGcXv3JgEE/4oWjS6kBPqV9NR2MUv/pojy\n",
       "AjVWQLav10TMK3QeEm5c4dmJaPlh86O8laYRsOvyMI5ubej86jlGgO/399QsXrEJIOChFPapVlmW\n",
       "qFXOfUB8rbV0W7I7z3Wq1PYQMcCF8yrK7l279t6PZvAfcpeGn+Jby1sAAAAASUVORK5CYII=\n",
       "\" style=\"display:inline;vertical-align:middle;\" /></a><br>"
      ],
      "text/plain": [
       "g__y_1_to_n: g(y_{1}, y_{2}, ..., y_{n})"
      ]
     },
     "execution_count": 76,
     "metadata": {},
     "output_type": "execute_result"
    }
   ],
   "source": [
    "g__y_1_to_n = Function(g, y_1_to_n)"
   ]
  },
  {
   "cell_type": "code",
   "execution_count": 77,
   "metadata": {},
   "outputs": [
    {
     "data": {
      "text/html": [
       "<strong id=\"A_1_to_i\">A_1_to_i:</strong> <a class=\"ProveItLink\" href=\"../__pv_it/common/de6f19c8d568395af863afba5ac91186a67491650/common_expr.ipynb\"><img src=\"data:image/png;base64,iVBORw0KGgoAAAANSUhEUgAAAH8AAAATBAMAAABLpc8BAAAAMFBMVEX///8QEBAiIiLu7u5ERES6\n",
       "urqYmJiIiIjMzMx2dnZUVFRmZmaqqqoyMjLc3NwAAABb1yYoAAAAAXRSTlMAQObYZgAAAAlwSFlz\n",
       "AAAOxAAADsQBlSsOGwAAAYBJREFUOMuFkz9LAzEYxh971bbcGf0Ip44uN4iKiBVcBIc66eLQj3CD\n",
       "4Kbi5GY3cVA7u7Tg1i4FXaUFJ6fWSUTUoiKt2J65S6/5d7UP5PLm9yYPuTcJ4OsVijSgi9SEQV3N\n",
       "1ocbjDd5bHlKUgMRqgoGZqEhJzUQoVKXxxeXh3JSA7pSzy1eDvegItdHBRF6SvzyDaOalf9ABREq\n",
       "Wt/9eAcnOSmpAV2jlWSbdivMDO95YJ6fawCMsytnsIEJ8kO7Uz9ObJQLq0ju2WGSAROmPdhgt1z6\n",
       "CuMFYIJOtWwZTGyS1sD1hgt88A0jNikaMDDm/GNg0jYFbOf9cmTZtfQNDAgAKZsBWUFhtoLrbrif\n",
       "tH+kLd5lBumaAHDkBMDooJfpjwjdMTINskzXzHn3sDKdXGAQmxEAWWMAs7TFiuFn2oGR6Ti49R4Q\n",
       "d8UH5NfgRgAveJNBb55wuOlF1UC4P2T9+FoC4SMQ4jtTmH/edoPTCTXieU0J8EPua2lfSSYwDACK\n",
       "5R/SlGsicifatwAAAABJRU5ErkJggg==\n",
       "\" style=\"display:inline;vertical-align:middle;\" /></a><br>"
      ],
      "text/plain": [
       "A_1_to_i: A_{1}, A_{2}, ..., A_{i}"
      ]
     },
     "execution_count": 77,
     "metadata": {},
     "output_type": "execute_result"
    }
   ],
   "source": [
    "A_1_to_i = var_range(A, one, i)"
   ]
  },
  {
   "cell_type": "code",
   "execution_count": 78,
   "metadata": {},
   "outputs": [
    {
     "data": {
      "text/html": [
       "<strong id=\"A_1_to_j\">A_1_to_j:</strong> <a class=\"ProveItLink\" href=\"../__pv_it/common/d35490c57092deb422ab995cc9e9ae7966e8f0000/common_expr.ipynb\"><img src=\"data:image/png;base64,iVBORw0KGgoAAAANSUhEUgAAAIAAAAAVBAMAAAB8u/sIAAAAMFBMVEX///8QEBAiIiLu7u5ERES6\n",
       "urqYmJiIiIjMzMx2dnZUVFRmZmaqqqoyMjLc3NwAAABb1yYoAAAAAXRSTlMAQObYZgAAAAlwSFlz\n",
       "AAAOxAAADsQBlSsOGwAAAZBJREFUOMulk71Lw0AYxh8ba1suTfsnRF0El4Cio4KL4FAncXDon9BB\n",
       "EOzgx+RmVwc/ZpcG3NqloHsFQXBqnURELSLSim283DW9u1xqBx+45r3fe314874XwNcrQtKALutW\n",
       "2jTC2cZog3RLxKYXSmogQnXJgJSbalIDEar0RHx2vq8mNaAr9dwW7Sjs1dT+hEGEnhI/omDU8+ob\n",
       "hEGEXPNrEG/huKQkNaArXkt2/Cd7VRfvF8CCmCsDxsmlM9yAwPr2nzN0Jdaq5WUkd+wgyQEBsYcb\n",
       "bFcrn0G8CGToUdNWQWbdag/9v1EAPkTBiGVlAw4mnD8MCF2T1KdIpxXP82vpGxisP32AlM2BKtaY\n",
       "DX7diUkb90jj8R43WPIbGQAcOgwYXfQzg51FK0auibmUi3nvDmauW2IGsWkIYK1wgFm6Ym7wM+XA\n",
       "yHUd3HgPtFLpvrAeXEu1vuBNBf1z8nAzzZCBdH+s1aMrBQQfgbw5kM6fdgpsOoHGPK+lADFkod1Q\n",
       "MoFRAFAs7/EvpTez/zMgRQe/2yZtHKTLEo4AAAAASUVORK5CYII=\n",
       "\" style=\"display:inline;vertical-align:middle;\" /></a><br>"
      ],
      "text/plain": [
       "A_1_to_j: A_{1}, A_{2}, ..., A_{j}"
      ]
     },
     "execution_count": 78,
     "metadata": {},
     "output_type": "execute_result"
    }
   ],
   "source": [
    "A_1_to_j = var_range(A, one, j)"
   ]
  },
  {
   "cell_type": "code",
   "execution_count": 79,
   "metadata": {},
   "outputs": [
    {
     "data": {
      "text/html": [
       "<strong id=\"A_1_to_l\">A_1_to_l:</strong> <a class=\"ProveItLink\" href=\"../__pv_it/common/a661ce209a2c221820bbff00e1d4b098820c37af0/common_expr.ipynb\"><img src=\"data:image/png;base64,iVBORw0KGgoAAAANSUhEUgAAAH4AAAATBAMAAACkZ6Q/AAAAMFBMVEX///8QEBAiIiLu7u5ERES6\n",
       "urqYmJiIiIjMzMx2dnZUVFRmZmaqqqoyMjLc3NwAAABb1yYoAAAAAXRSTlMAQObYZgAAAAlwSFlz\n",
       "AAAOxAAADsQBlSsOGwAAAYJJREFUOMuFkz1Lw1AUhl8bNS2JqT+hKk4uGUTBpYKL4JBOTg79CRkE\n",
       "R8XJza4OfswuFRzEdinoKi04ObVOIqIWEWnFNt7cm9zcj1RfSHr6nPOmJ+fcAqFeoUgDupxWErfV\n",
       "ZPt//1SXh3ag5DSQombit6odOaeBFNWGPDw53ZNzGtCVe+7xSfi7DXk0KkjRk/nDu0WzLLevghRd\n",
       "2F9xuIXDipTTgK6JRrbPH4X3M2Ap2ScFxtG5O9pvwfkGVsIdmBv16iqyO4U4x4AFqzDav12vfZI9\n",
       "h7+5DORJpc2rGciXnN5Iu+EDH6SLCu0WmWnRz8Ck+4ffItcMKSuRSZTZWQz9Bh1NBJArMCCLDmWT\n",
       "nfEi+Xgk1/iQ+YstAWDfpcAYILrxbw7pF14Hd8BicA/bG1SoPzMnAGeNASwgumXIm2HWheENXNwG\n",
       "D7gW/zPh+98I4AVvMojqhK3Ou4pfODbO+sGlBOKDL8RdPyk/7vt0LbHGgqArgWS7XFclOWeqxaY+\n",
       "f/mJv2Ana+l7CcPEAAAAAElFTkSuQmCC\n",
       "\" style=\"display:inline;vertical-align:middle;\" /></a><br>"
      ],
      "text/plain": [
       "A_1_to_l: A_{1}, A_{2}, ..., A_{l}"
      ]
     },
     "execution_count": 79,
     "metadata": {},
     "output_type": "execute_result"
    }
   ],
   "source": [
    "A_1_to_l = var_range(A, one, l)"
   ]
  },
  {
   "cell_type": "code",
   "execution_count": 80,
   "metadata": {},
   "outputs": [
    {
     "data": {
      "text/html": [
       "<strong id=\"A_i_to_j\">A_i_to_j:</strong> <a class=\"ProveItLink\" href=\"../__pv_it/common/f544c1c0c0391d80fd85848ffbbdf729a89f95230/common_expr.ipynb\"><img src=\"data:image/png;base64,iVBORw0KGgoAAAANSUhEUgAAAJAAAAAVBAMAAABbFXrgAAAAMFBMVEX///8QEBAiIiLu7u5ERES6\n",
       "urqYmJiIiIjMzMx2dnZUVFRmZmaqqqoyMjLc3NwAAABb1yYoAAAAAXRSTlMAQObYZgAAAAlwSFlz\n",
       "AAAOxAAADsQBlSsOGwAAAZ1JREFUOMutVD1PAkEQfeEkSO4ECn+AH42JzSWaUGpBtLCgMxYW/AET\n",
       "YqygECtL6ezUzpKroSFoD4mJiRUYC0NhNGqMGgHnFmFn92TVxJfs3ry84d3NzC6Ajzuo0LkJsQYj\n",
       "TU1s/sFo4kHGTk/VdG5EnRnZpZai6dyIclfGR8cFRdO5CdH2q2xXdreqtE/jRtxGPmQlqGeUyjRu\n",
       "hOe8DONNHBQBqzWKmxCujr/5T9ELD/cnVGx2+BKVW1sGIxuxd/85RyuyViktM41zj9b+tsFop1J+\n",
       "HsRJID7FNM6FYW20j0Wf/SgrQSiBcO47/pORTWua/PI05nBGHPNk3IUr2ie5NLKCHiJ5vX+fbIcu\n",
       "3DXFY13c1GB1fE1yZrREiUIW25DFErSlW1iIeljsXcBJd4pYBWboLYzbqdRkakUYhWbpF/P42kL+\n",
       "DCjZSndcnPeuqAR58KynAhwXCmc9OguUxpMRl4fOaXiI8ryGx42KwUvGyR77gtOWP3iF943azUMx\n",
       "Zg08GTlVC2YPDmYkODUl+fLHK/m7P8mNBP4Fdt7FJ43nemqaFHCLAAAAAElFTkSuQmCC\n",
       "\" style=\"display:inline;vertical-align:middle;\" /></a><br>"
      ],
      "text/plain": [
       "A_i_to_j: A_{i}, A_{i + 1}, ..., A_{j}"
      ]
     },
     "execution_count": 80,
     "metadata": {},
     "output_type": "execute_result"
    }
   ],
   "source": [
    "A_i_to_j = var_range(A, i, j)"
   ]
  },
  {
   "cell_type": "code",
   "execution_count": 81,
   "metadata": {},
   "outputs": [
    {
     "data": {
      "text/html": [
       "<strong id=\"A_1_to_k\">A_1_to_k:</strong> <a class=\"ProveItLink\" href=\"../__pv_it/common/f7be30560f2eea1e9b9c8f4f5a1d87bbf14f79130/common_expr.ipynb\"><img src=\"data:image/png;base64,iVBORw0KGgoAAAANSUhEUgAAAIIAAAATBAMAAACuF8goAAAAMFBMVEX///8QEBAiIiLu7u5ERES6\n",
       "urqYmJiIiIjMzMx2dnZUVFRmZmaqqqoyMjLc3NwAAABb1yYoAAAAAXRSTlMAQObYZgAAAAlwSFlz\n",
       "AAAOxAAADsQBlSsOGwAAAZNJREFUOMuFkztLA0EUhU+yxk3cdWNjK6sWFjZbiJYGbATBWFlZpPAH\n",
       "pBBsRIOVnWktfFQKNhHskiYQ+wSsrBKrIKIJIpKIyTqZ2c3OY6MH9nG/eznM3DsDDPQGSQpQZdX4\n",
       "qC6n6/87TLa5wHSlrAJCVOUdjEJDzCogRMU+F1xc5sSsAlQlXjpcT7JHZbFJMghRU//h1oxqRtyE\n",
       "DEJ0Z34FwQ5O80JWAapi5XiXs0PrCliuiUA7u3VGOxiwvoHxBRroG6VCCvF9288yYMCwRzvslYqf\n",
       "5DNNgxUgSWrNYT0DyS2rM9JAywIfpOVtb82ITvEODIw7fzgY5Jklu0g1ScNiGXZCBw4abZIHkLAZ\n",
       "EEWbs81O/sRhZQZ4JsFYnzmsDrrpAxw7FGg9eK9hZJE1I91A5AA5LLmPMNO9PHWIziMA1hoDWIT3\n",
       "ipL9Yc6Blu45eHCf0CrxZ5f2ocKBV7yLwKvjZrwbsxuSA3eQrPWTewH4F4L7v4nbQYF13s3SIfmK\n",
       "uG5bAMGsh9rEtXQFdblcV2che/4CoL5wPhiMJgAAAAAASUVORK5CYII=\n",
       "\" style=\"display:inline;vertical-align:middle;\" /></a><br>"
      ],
      "text/plain": [
       "A_1_to_k: A_{1}, A_{2}, ..., A_{k}"
      ]
     },
     "execution_count": 81,
     "metadata": {},
     "output_type": "execute_result"
    }
   ],
   "source": [
    "A_1_to_k = var_range(A, one, k)"
   ]
  },
  {
   "cell_type": "code",
   "execution_count": 82,
   "metadata": {},
   "outputs": [
    {
     "data": {
      "text/html": [
       "<strong id=\"A_1_to_l\">A_1_to_l:</strong> <a class=\"ProveItLink\" href=\"../__pv_it/common/a661ce209a2c221820bbff00e1d4b098820c37af0/common_expr.ipynb\"><img src=\"data:image/png;base64,iVBORw0KGgoAAAANSUhEUgAAAH4AAAATBAMAAACkZ6Q/AAAAMFBMVEX///8QEBAiIiLu7u5ERES6\n",
       "urqYmJiIiIjMzMx2dnZUVFRmZmaqqqoyMjLc3NwAAABb1yYoAAAAAXRSTlMAQObYZgAAAAlwSFlz\n",
       "AAAOxAAADsQBlSsOGwAAAYJJREFUOMuFkz1Lw1AUhl8bNS2JqT+hKk4uGUTBpYKL4JBOTg79CRkE\n",
       "R8XJza4OfswuFRzEdinoKi04ObVOIqIWEWnFNt7cm9zcj1RfSHr6nPOmJ+fcAqFeoUgDupxWErfV\n",
       "ZPt//1SXh3ag5DSQombit6odOaeBFNWGPDw53ZNzGtCVe+7xSfi7DXk0KkjRk/nDu0WzLLevghRd\n",
       "2F9xuIXDipTTgK6JRrbPH4X3M2Ap2ScFxtG5O9pvwfkGVsIdmBv16iqyO4U4x4AFqzDav12vfZI9\n",
       "h7+5DORJpc2rGciXnN5Iu+EDH6SLCu0WmWnRz8Ck+4ffItcMKSuRSZTZWQz9Bh1NBJArMCCLDmWT\n",
       "nfEi+Xgk1/iQ+YstAWDfpcAYILrxbw7pF14Hd8BicA/bG1SoPzMnAGeNASwgumXIm2HWheENXNwG\n",
       "D7gW/zPh+98I4AVvMojqhK3Ou4pfODbO+sGlBOKDL8RdPyk/7vt0LbHGgqArgWS7XFclOWeqxaY+\n",
       "f/mJv2Ana+l7CcPEAAAAAElFTkSuQmCC\n",
       "\" style=\"display:inline;vertical-align:middle;\" /></a><br>"
      ],
      "text/plain": [
       "A_1_to_l: A_{1}, A_{2}, ..., A_{l}"
      ]
     },
     "execution_count": 82,
     "metadata": {},
     "output_type": "execute_result"
    }
   ],
   "source": [
    "A_1_to_l = var_range(A, one, l)"
   ]
  },
  {
   "cell_type": "code",
   "execution_count": 83,
   "metadata": {},
   "outputs": [
    {
     "data": {
      "text/html": [
       "<strong id=\"A_1_to_m\">A_1_to_m:</strong> <a class=\"ProveItLink\" href=\"../__pv_it/common/eaccd55f312202b1e754429bdfeaf22333037c330/common_expr.ipynb\"><img src=\"data:image/png;base64,iVBORw0KGgoAAAANSUhEUgAAAIgAAAATBAMAAAC5NVjhAAAAMFBMVEX///8QEBAiIiLu7u5ERES6\n",
       "urqYmJiIiIjMzMx2dnZUVFRmZmaqqqoyMjLc3NwAAABb1yYoAAAAAXRSTlMAQObYZgAAAAlwSFlz\n",
       "AAAOxAAADsQBlSsOGwAAAZZJREFUOMuFkr9Lw0AcxZ+pNSmJqaObPzq6ZJCKk+4OxcXJoWD/gIIF\n",
       "QRDrpOBgcBTUgoNji4NDuxR0b8HJRSsWREFaRMWKbbzk2vTuQntfSLh8ee9z39w9wK13CGVWIS3R\n",
       "9CgKxptyiGAyHFFQkUNEk56vCYpiRwoRTWfnWV4Qef2RQgSTmd4t84IX9U/GEE06KkleUTC+pX8j\n",
       "mNZxZHOCcFlrySCiqYBGDohXmV3MX2Dx5GIIhJr8UldK+WVoW9N+J1Mqfrqyq8EMaurXAhAlAMOH\n",
       "hNLAB/CFRnYgpGtiBoMywUJ08swAG8Mg1DR2vb+tpogqnKQpdyEhT7DWy/Rxt8GV5R09NcVXkyM5\n",
       "lZzNE+mNdihkyT1ck4yFBImjFqMN9xVqs4ue6XkH0axuY965g5Fo2x5EiRFVom3h1rkH6pbXgEJm\n",
       "x1xvMUtG8U2X2IPChM47kxs2kwWzxjW6Oov5mEQGDU2AsPmpHxxasAOQCLtPk8yS0vvfp620d7l+\n",
       "TTkO3/Avtx/tHB7wtilEKJCp4O0EsfgHbXh3ygoGj5EAAAAASUVORK5CYII=\n",
       "\" style=\"display:inline;vertical-align:middle;\" /></a><br>"
      ],
      "text/plain": [
       "A_1_to_m: A_{1}, A_{2}, ..., A_{m}"
      ]
     },
     "execution_count": 83,
     "metadata": {},
     "output_type": "execute_result"
    }
   ],
   "source": [
    "A_1_to_m = var_range(A, one, m)"
   ]
  },
  {
   "cell_type": "code",
   "execution_count": 84,
   "metadata": {},
   "outputs": [
    {
     "data": {
      "text/html": [
       "<strong id=\"B_1_to_i\">B_1_to_i:</strong> <a class=\"ProveItLink\" href=\"../__pv_it/common/4a5f6422887d37bd99c62d40c1b5aa88272e1ec00/common_expr.ipynb\"><img src=\"data:image/png;base64,iVBORw0KGgoAAAANSUhEUgAAAH8AAAASBAMAAACA+RykAAAAMFBMVEX///92dnaqqqoiIiLu7u5m\n",
       "Zma6urqIiIjc3NwQEBDMzMwyMjJUVFRERESYmJgAAAAeMT9/AAAAAXRSTlMAQObYZgAAAAlwSFlz\n",
       "AAAOxAAADsQBlSsOGwAAAZdJREFUOMtjYGB4+//Mmb0LGBAAQwAT8N3/c+b0LRhvLgMDzy9kaQwB\n",
       "TMB5gYHhPNQSju8MDGxfkSQxBLCA/gIGhvwAqHOAlvF9R3YfugAW8B5o+/sCCJvnAwMD9wwkSQwB\n",
       "LOA8EO9sgHuH5fACVP+hCmABwGDysYKy118vP/0AWRJDABNw/S2v2QekPUCc+gYGpnkMDH4bYLIQ\n",
       "ARbBMw44DWD/wcCgCbREHMS5CcTyC7jKDWCyEAFWBlYDnAbwTmBgYITF9B8GcIAywZVDBPgTOHCn\n",
       "Bf4DiIji+gcK1ASEAVABPgc8BqwHOp/nG0P6Aah3uH4zgA1gYUASYGA0gAigAgdoMDGs38BS8AXI\n",
       "5gZ6J3MLxAD/DUgCDIsdwAIsIMPAMnAew05gWp3twOEE1MMDyhaXGCAGMJsgCXBcgQgwmAIxcwCM\n",
       "MAY64SwouykAw7IAyWngMFBBEmhl6EAVgKpDilx/L3QDBJCy1K1VISgCUMCIxNZmRVIv/bGAgQXJ\n",
       "SZz//39AEYACdyS2TwV6AmMgJMDAgGYkAMHQhYeCJZ19AAAAAElFTkSuQmCC\n",
       "\" style=\"display:inline;vertical-align:middle;\" /></a><br>"
      ],
      "text/plain": [
       "B_1_to_i: B_{1}, B_{2}, ..., B_{i}"
      ]
     },
     "execution_count": 84,
     "metadata": {},
     "output_type": "execute_result"
    }
   ],
   "source": [
    "B_1_to_i = var_range(B, one, i)"
   ]
  },
  {
   "cell_type": "code",
   "execution_count": 85,
   "metadata": {},
   "outputs": [
    {
     "data": {
      "text/html": [
       "<strong id=\"B_1_to_j\">B_1_to_j:</strong> <a class=\"ProveItLink\" href=\"../__pv_it/common/0cd1658eec2aaa52c480be7ee3718bc0d4252e1b0/common_expr.ipynb\"><img src=\"data:image/png;base64,iVBORw0KGgoAAAANSUhEUgAAAIAAAAAUBAMAAAC35yitAAAAMFBMVEX///92dnaqqqoiIiLu7u5m\n",
       "Zma6urqIiIjc3NwQEBDMzMwyMjJUVFRERESYmJgAAAAeMT9/AAAAAXRSTlMAQObYZgAAAAlwSFlz\n",
       "AAAOxAAADsQBlSsOGwAAAaNJREFUOMulk7FPwkAUxr9Cq1gq6Owgg4sbibo4dTBxMcrgH8Cqi11I\n",
       "FxJZTNxkNDEaEiddYHBhkJg4UoMxJkYW/QcMOChGUbzrXemVKzrwJW3ufu/yvXfv7gC89BznsgRf\n",
       "EpCVeOo69aY3OwaMTzEsAVkTt0CDJ4l1gLE3ISiBEB1YwE6Gl0OSJTpifYMgRC2SvWWxsdEG4odC\n",
       "UAIhapCvWuhvR70uBfcXBCEibVpb5uPyg11/FoMSkKV/2/kaHdA8uwVEToD1ihdlQJ12zKEG4x/A\n",
       "PE1Cq3gk32xJt9NelAENWnqowWQRULyT7sJtaKS/nIFkNjb8LiSv/IPSf2hTs74BBwnzD4MyKd94\n",
       "h5pLse3oX3ANVG9/FEBJMxCUyduEcgVahDQuTrazdcEMNmgjPYBT0wUqNXN//Rmq5K4emVhRMjDo\n",
       "s7gDM4guwgexewawBP6L0ru7QEq4oc8tRZMJx+32YE6odQ/7QcDXiYebLAwYTAlPqnm+GQBcijg5\n",
       "E9bPvFpQLeFC93rtAOBaFSf5wQuG/wAQsKxhJMW3i6MZaDkTv/cKh9LBXXV/AAAAAElFTkSuQmCC\n",
       "\" style=\"display:inline;vertical-align:middle;\" /></a><br>"
      ],
      "text/plain": [
       "B_1_to_j: B_{1}, B_{2}, ..., B_{j}"
      ]
     },
     "execution_count": 85,
     "metadata": {},
     "output_type": "execute_result"
    }
   ],
   "source": [
    "B_1_to_j = var_range(B, one, j)"
   ]
  },
  {
   "cell_type": "code",
   "execution_count": 86,
   "metadata": {},
   "outputs": [
    {
     "data": {
      "text/html": [
       "<strong id=\"B_1_to_k\">B_1_to_k:</strong> <a class=\"ProveItLink\" href=\"../__pv_it/common/bdf7beeac354d61c99f9a31d445c4abdeb67795c0/common_expr.ipynb\"><img src=\"data:image/png;base64,iVBORw0KGgoAAAANSUhEUgAAAIIAAAASBAMAAABlSxuNAAAAMFBMVEX///92dnaqqqoiIiLu7u5m\n",
       "Zma6urqIiIjc3NwQEBDMzMwyMjJUVFRERESYmJgAAAAeMT9/AAAAAXRSTlMAQObYZgAAAAlwSFlz\n",
       "AAAOxAAADsQBlSsOGwAAAaVJREFUOMt9k7FPwkAUxj+gSCm14OygA4tbEzUmTt1cjDrozupk44KD\n",
       "iSxGN52MidE0cXOBwYVBY+LgQBViTFQW+QcIOChGULz2WnrtFb+kzXu/d3l37907AM2+aV4Z8MQB\n",
       "Xspbz6zUB+4pIH+zcQ7wStaAqruL2AFGPpgoB0J0oAMbK+6JyHZKhz1iEISoRfZv6Y4jt4HUMRPl\n",
       "QIiq5CsXvJKEW8Nfox+EiLRqcd51is/5SoONcoCX9JPfvh54OwVEz4Clkh8IY6Y2NEPiC5hqQJmz\n",
       "vVfyTRhSXnXDFMQRV4dmGD0EIqThR7bXg93W6GA9BemcOHwm0jf2dYltu6Rfq7U5L4MDFO2fDEXS\n",
       "J/kTSm0vQ0uSurAzCG6NFkBEpcAvzWkViiXIW1ly6ylS0volzbBsddMFONcosH5ClzVQJlN7oiG5\n",
       "CQOy9UYeQTPEZuAB8YkCxKzpnXWNaXKIe+vtTZLZXmPHxu5DlgG72PcDZx1zx80RtRDIkGHeV/1i\n",
       "1QccRRj7TlK9BeL4uw5BZ2a732/7gKMFxn7BQ2D6E9zs8XcRzPkH8ECMNgUNeyEAAAAASUVORK5C\n",
       "YII=\n",
       "\" style=\"display:inline;vertical-align:middle;\" /></a><br>"
      ],
      "text/plain": [
       "B_1_to_k: B_{1}, B_{2}, ..., B_{k}"
      ]
     },
     "execution_count": 86,
     "metadata": {},
     "output_type": "execute_result"
    }
   ],
   "source": [
    "B_1_to_k = var_range(B, one, k)"
   ]
  },
  {
   "cell_type": "code",
   "execution_count": 87,
   "metadata": {},
   "outputs": [
    {
     "data": {
      "text/html": [
       "<strong id=\"B_1_to_m\">B_1_to_m:</strong> <a class=\"ProveItLink\" href=\"../__pv_it/common/fee611567f2a92d4a4191651639f02d5571d04e40/common_expr.ipynb\"><img src=\"data:image/png;base64,iVBORw0KGgoAAAANSUhEUgAAAIgAAAASBAMAAAByaYtEAAAAMFBMVEX///92dnaqqqoiIiLu7u5m\n",
       "Zma6urqIiIjc3NwQEBDMzMwyMjJUVFRERESYmJgAAAAeMT9/AAAAAXRSTlMAQObYZgAAAAlwSFlz\n",
       "AAAOxAAADsQBlSsOGwAAAapJREFUOMuNkzFIAlEYx//q6el5qdBYkENLW5AtTTa1hAnt0erUDYFD\n",
       "Rg6NiY1RVLdE1GJDQw6FUNCgYbRELTm0ijakYZZ9d3re8w4fPXjw3sf3//F9//c+ANVOqXStwlyB\n",
       "t3ap+ArusokOAbnFZvgegbLKp1hE3ibg+WQTsgqwFucyrKIAAQNNNqNGVdQULsQqkuuAf4/NKNPO\n",
       "p7kQq4gcEG5VS7+Lc3xLrKLcc7JYYROkn2Tqhs+wibbScB4BsQsjIH4BUxXMj98Nh/RE/fVCe0KV\n",
       "ktNGYGQXcLQQx/JwSFdk3tvQ38LZhwQLuvMNZIf/lZ6o78Cv9h6rDCRHzcoNvHMgPVFg5TQlVtWu\n",
       "A9I3dIhg9Iuc5tAoELXpo4ZtJIolKr6CSIX7yYHEZReypJubp894QLlSBALR9ejgwRBtbyCoukOQ\n",
       "tWl7QhfiitDhQZutMB0yBJqh7dImYBa9gxbpi+5xBlfYLFP3ZJIdj7iX3tHWz0BkH5vIShZIiEnI\n",
       "nJ9E4bB5wka8daql6jbvYx8KBHbqjjsdYMEGYSOeAq6wsz6YINokyj8i+AN5WJIakHXDnQAAAABJ\n",
       "RU5ErkJggg==\n",
       "\" style=\"display:inline;vertical-align:middle;\" /></a><br>"
      ],
      "text/plain": [
       "B_1_to_m: B_{1}, B_{2}, ..., B_{m}"
      ]
     },
     "execution_count": 87,
     "metadata": {},
     "output_type": "execute_result"
    }
   ],
   "source": [
    "B_1_to_m = var_range(B, one, m)"
   ]
  },
  {
   "cell_type": "code",
   "execution_count": 88,
   "metadata": {},
   "outputs": [
    {
     "data": {
      "text/html": [
       "<strong id=\"B_1_to_n\">B_1_to_n:</strong> <a class=\"ProveItLink\" href=\"../__pv_it/common/3405f43af36a3eae5d96a932c8b31bd9fe7cf9f90/common_expr.ipynb\"><img src=\"data:image/png;base64,iVBORw0KGgoAAAANSUhEUgAAAIQAAAASBAMAAABoVWvKAAAAMFBMVEX///92dnaqqqoiIiLu7u5m\n",
       "Zma6urqIiIjc3NwQEBDMzMwyMjJUVFRERESYmJgAAAAeMT9/AAAAAXRSTlMAQObYZgAAAAlwSFlz\n",
       "AAAOxAAADsQBlSsOGwAAAZ1JREFUOMt9UztIA0EUnHzI53JeBEsFLWy0EoxNqrOykRgQW7FNZSwk\n",
       "hYIpbEMsRVHTiGCTFDYplICCRSIRG9HGK2wlsTCRJBr3ci/e7oXsgz12Z3bm9r3dB+CjW6lc52CH\n",
       "9taplF8hDYfoBFBbPB98BKo5uYcgCjQB3xdPZ5PAZlzqIIo0ZqY1eb7GTlBLSi1EkVoHQoc8X2Wj\n",
       "mJZaiCKWufc258hzOSovhSjKP6fKBk8rP6ndG7mDQ7SXhvsUiBX6gP8bmDGwOHE33IJEFC9sTOaU\n",
       "1FwfGDkAXC3EsTrcwhL1Vx306u/+twiXetVuIDv8bZCIMv8172CDs8izJNUG3iUWJNLWL7Ypc6UN\n",
       "y0KnPJE3KzNGgBBe2KJYwgiyzSGWeeLKsvC2Tb7IHt4x0yoRC1gpwJ5YHxLt7yCsQzV76gl0inmm\n",
       "fDA7aIotMroFeMy3vgCaeCKwRfdIcAfsWbi5gwfigbQAUExz8yOsKQ4LF0dnLs91AaAY5f5SR3TW\n",
       "Xo1/sjta4raedbsiQOXk+s9Xwpbh4Afac7Bf/U7gD5F6jC1hARdgAAAAAElFTkSuQmCC\n",
       "\" style=\"display:inline;vertical-align:middle;\" /></a><br>"
      ],
      "text/plain": [
       "B_1_to_n: B_{1}, B_{2}, ..., B_{n}"
      ]
     },
     "execution_count": 88,
     "metadata": {},
     "output_type": "execute_result"
    }
   ],
   "source": [
    "B_1_to_n = var_range(B, one, n)"
   ]
  },
  {
   "cell_type": "code",
   "execution_count": 89,
   "metadata": {},
   "outputs": [
    {
     "data": {
      "text/html": [
       "<strong id=\"C_1_to_k\">C_1_to_k:</strong> <a class=\"ProveItLink\" href=\"../__pv_it/common/c8e4ecd605b657e28bb4eca78991107aa13f93f50/common_expr.ipynb\"><img src=\"data:image/png;base64,iVBORw0KGgoAAAANSUhEUgAAAH8AAAASBAMAAACA+RykAAAAMFBMVEX///+6uroyMjLMzMwiIiJm\n",
       "ZmaqqqoQEBB2dnbc3NyYmJhUVFRERESIiIju7u4AAABBACUiAAAAAXRSTlMAQObYZgAAAAlwSFlz\n",
       "AAAOxAAADsQBlSsOGwAAAVtJREFUOMt1kz9LQzEUxQ+0TV9afXYQdOzmKlj3B+qqgs7WT+A3EMXJ\n",
       "Sd+i4FRBR1cXiyA4CtJNB5WASEEURVHEpSbPhNy8y7vQS3LOL4f86QMQ33XP5CZ8MYFXgNw8QCwf\n",
       "EpcJvCjyMqNbO/UmE3gFyITSbYy4TOBFkejb9GlvMoFXgHQS0x+9ywReAbLby7lM4BUgC/Yqnpuh\n",
       "EG93VVGAW3NsgjayoSrdJ9a1QgWVpCjAIqg2TJoZi0kIh1thpCE/C3dg13TgXjOCD7BCTRUHuDUn\n",
       "8lbfqDnHjg0wp3YCogQxX0yR8/1+CvELjKv/gPjDbM0KaCm8Na1oBn7mkPXVkp49XZ2au8h2MKu8\n",
       "IK+B8rwezOlfedE1gsivJbK1LECQl9vDAbDGjkCQ2sWozAVEfi4vp1YA/lETpN5r+Znc+tE38+rd\n",
       "6mDwjpj/KwkylNaPcm6eH+avkEf+ALIMeCOXNuW4AAAAAElFTkSuQmCC\n",
       "\" style=\"display:inline;vertical-align:middle;\" /></a><br>"
      ],
      "text/plain": [
       "C_1_to_k: C_{1}, C_{2}, ..., C_{k}"
      ]
     },
     "execution_count": 89,
     "metadata": {},
     "output_type": "execute_result"
    }
   ],
   "source": [
    "C_1_to_k = var_range(C, one, k)"
   ]
  },
  {
   "cell_type": "code",
   "execution_count": 90,
   "metadata": {},
   "outputs": [
    {
     "data": {
      "text/html": [
       "<strong id=\"C_1_to_l\">C_1_to_l:</strong> <a class=\"ProveItLink\" href=\"../__pv_it/common/6dcae385c066d4e0e8727a253fe5575443301a960/common_expr.ipynb\"><img src=\"data:image/png;base64,iVBORw0KGgoAAAANSUhEUgAAAHsAAAASBAMAAACJErzeAAAAMFBMVEX///+6uroyMjLMzMwiIiJm\n",
       "ZmaqqqoQEBB2dnbc3NyYmJhUVFRERESIiIju7u4AAABBACUiAAAAAXRSTlMAQObYZgAAAAlwSFlz\n",
       "AAAOxAAADsQBlSsOGwAAAUdJREFUOMt1kzFLxEAQhR+YxETI3nVaiZ2toPYRtVULCysFf4B/QbGy\n",
       "UhsLK/0TNl5hYSnIWdmoLIiNKB4KIjbnbjJxZjPkQYbhm/f2LpMEgHnoXWZ7YCmgJSz3T0jWz8VM\n",
       "AS22vC26snXMIwW0hGXaujIuZgposSX99nWeRwpoCctZ4eszzxTQEpajfmOmgJawrNKOXqdCYA56\n",
       "ti1eW66A3bKzI48FzQjEiIu2OFmw7U7yXTKDpDYT6HSzr9Zfp8wGPb0UHCcwZtvjdWbBbdGv4bCK\n",
       "m3KtBJAWFQhl2WIGLvYLTNgq/uHXVwPM2RKYT4CbspAl8faXm4suqni0AgbZLYFld0Vr1GDJ/lti\n",
       "8VmV974j/uUJTkNAPn6c0WQjLo7Lrmc3A1C/sNx2cnbv//RhxAs3OhwOAkB65za+C0d505vrzYcH\n",
       "/gESYG4pp5Ek8wAAAABJRU5ErkJggg==\n",
       "\" style=\"display:inline;vertical-align:middle;\" /></a><br>"
      ],
      "text/plain": [
       "C_1_to_l: C_{1}, C_{2}, ..., C_{l}"
      ]
     },
     "execution_count": 90,
     "metadata": {},
     "output_type": "execute_result"
    }
   ],
   "source": [
    "C_1_to_l = var_range(C, one, l)"
   ]
  },
  {
   "cell_type": "code",
   "execution_count": 91,
   "metadata": {},
   "outputs": [
    {
     "data": {
      "text/html": [
       "<strong id=\"C_1_to_m\">C_1_to_m:</strong> <a class=\"ProveItLink\" href=\"../__pv_it/common/50dca3187a05eb1225bac7602c2b719bfa8fbeac0/common_expr.ipynb\"><img src=\"data:image/png;base64,iVBORw0KGgoAAAANSUhEUgAAAIMAAAASBAMAAACKiXCzAAAAMFBMVEX///+6uroyMjLMzMwiIiJm\n",
       "ZmaqqqoQEBB2dnbc3NyYmJhUVFRERESIiIju7u4AAABBACUiAAAAAXRSTlMAQObYZgAAAAlwSFlz\n",
       "AAAOxAAADsQBlSsOGwAAAaBJREFUOMtjYGDgu7N7F2cDAwK8Pb17wQwGvABNyfV7DGwhCxB83toH\n",
       "DKleeE1AU/LGGUjET4Dz+Y4YMDCw/sRnAroS9QdAQhwhz1QHJBgL8BmBpoTjG4g0Rcj3JwAJ5gB8\n",
       "RqApme8AIh/DpTm/gJ1qgMcEdCX9F1DlOf4yEALoSvyhAflKAUKzQEPpRfc+XEawoIV1PZh8wHzX\n",
       "AcJn/wB2JUMAQwguI2BK4K4AEWwGDGxQI1jA8skMHxnm4woPmBIYAKcIDga4EZDobmBYh9sImJKl\n",
       "i+9uuHUYGCOg4OyDGAFyGycorDhAaaUF6D/MVIVQwrewiqGa4TZQ6y8GBokHECPeg4I0fwEDYx8o\n",
       "3v0Y+D4xQAVBBIIHUcL5VoHhM0MEkP/09FYBBogRLH4ge2J2B4LsmwM01wWIWUBJCEy4MqAq4b7A\n",
       "XMDghnAhOCzykNJPAOcEBjZMnyApYTfgPcD5wQDVCKQsP8fY9AEomNEBkpL5QHdwHYCnc86mHxcY\n",
       "+JBSav3//8BiATM4kZRIMzBN4NyL6lBedA0XMEsKTHcBAP/Aec17lhpnAAAAAElFTkSuQmCC\n",
       "\" style=\"display:inline;vertical-align:middle;\" /></a><br>"
      ],
      "text/plain": [
       "C_1_to_m: C_{1}, C_{2}, ..., C_{m}"
      ]
     },
     "execution_count": 91,
     "metadata": {},
     "output_type": "execute_result"
    }
   ],
   "source": [
    "C_1_to_m = var_range(C, one, m)"
   ]
  },
  {
   "cell_type": "code",
   "execution_count": 92,
   "metadata": {},
   "outputs": [
    {
     "data": {
      "text/html": [
       "<strong id=\"C_1_to_n\">C_1_to_n:</strong> <a class=\"ProveItLink\" href=\"../__pv_it/common/e7504afc0aea2366fbf28183721351f04720dfad0/common_expr.ipynb\"><img src=\"data:image/png;base64,iVBORw0KGgoAAAANSUhEUgAAAH8AAAASBAMAAACA+RykAAAAMFBMVEX///+6uroyMjLMzMwiIiJm\n",
       "ZmaqqqoQEBB2dnbc3NyYmJhUVFRERESIiIju7u4AAABBACUiAAAAAXRSTlMAQObYZgAAAAlwSFlz\n",
       "AAAOxAAADsQBlSsOGwAAAY5JREFUOMtjYGDgu7N7F2cDAwK8Pb17wQwGvABFyfV7DGwhCxCSvLUP\n",
       "GFK98OpHUfLGGUjET4BL8h0xYGBg/YlPP6oS9QdAQhwhy1QHJBgL8BmAooTjG4g0Rcj2JwAJ5gB8\n",
       "BqAome8AIh/DJTm/gB1pgEc/qpL+C6iyHH8ZCAFUJf7Q4HulAKFZoGHzonsfLgNYUEK4Hkw+YL7r\n",
       "AOGzfwC7jyGAIQSXATAlUBeACDYDBjaoASxg2WSGjwzzcYUDTAkEgFMABwPcAEj0NjCsw20ATMnS\n",
       "xXeBMTEfFIh9EANAruIEhRAHKG20AH2GmYYQSvgWVjFUAjX+YmCQeAAx4D0oIPMXMDD2geLZj4Hv\n",
       "E0gLiADJwBlQJZxvFRj+AXlPT28VYIAYwOIH0hCzOxBk1xygqS4gJ7iCvB0AYyAp4b6AnGDBYZCH\n",
       "lFoCOCcwsGH6AUkJuwFrgAGqAUiZeo6x6QNQ4KIDJCXzGVjM4AZwNv24wMCHlCrr//8HZnvMQERS\n",
       "Is3A24WWzdGVX8AsCdAFAFbicaP3XtGwAAAAAElFTkSuQmCC\n",
       "\" style=\"display:inline;vertical-align:middle;\" /></a><br>"
      ],
      "text/plain": [
       "C_1_to_n: C_{1}, C_{2}, ..., C_{n}"
      ]
     },
     "execution_count": 92,
     "metadata": {},
     "output_type": "execute_result"
    }
   ],
   "source": [
    "C_1_to_n = var_range(C, one, n)"
   ]
  },
  {
   "cell_type": "code",
   "execution_count": 93,
   "metadata": {},
   "outputs": [
    {
     "data": {
      "text/html": [
       "<strong id=\"D_1_to_m\">D_1_to_m:</strong> <a class=\"ProveItLink\" href=\"../__pv_it/common/2eba3089506b78d05eddce57d91ea6509571d3d40/common_expr.ipynb\"><img src=\"data:image/png;base64,iVBORw0KGgoAAAANSUhEUgAAAIsAAAASBAMAAACZXjBHAAAAMFBMVEX///8iIiLu7u52dna6uroQ\n",
       "EBBmZmbMzMyqqqqYmJgyMjLc3NxUVFRERESIiIgAAACK51z6AAAAAXRSTlMAQObYZgAAAAlwSFlz\n",
       "AAAOxAAADsQBlSsOGwAAAWNJREFUOMt9kz9Lw0AYxh8jEtPUiB3EsSCuVXcR3QVdBcGIOLlk0s2i\n",
       "n0BEFFzsNzDgXFKcrWYTpNI4Cv7poFSDGi+aM695zT2Ql+N3zz1573IB8BC1mi0XRJxwcU8IGK9Q\n",
       "E66sR/8UZQ1KwsU8VleU+V0l4WKegY4o3gRUhIt5Bn1Rqg2oCBfzVANRjum7OeFinidHlMsZ7ShL\n",
       "RqfO8mMSTwracXnB1m2W2FjJj0k8qT7EY7wB21nyDM/JjZGr/lyAMZ/ESLKniJGeg8PHxt2VvADX\n",
       "+InRQAkmgTJLoB5tfxFLuBfjgrgAs3YSM16jRC9BC+OFYTL1O5Aes1JDF6tAsf1+frOOJKanREld\n",
       "tDIUtzMcT9lyQD3FQF/ACG32+2x2CDBt00U/3xX19DmWb3acbAy9c/XNjTJ6+fFSjyf6MXw7Bacn\n",
       "02LzAbEsRxFQ4UdMPXMouOZFtmOLLQr4v/3P9/8CaDCROozj9YoAAAAASUVORK5CYII=\n",
       "\" style=\"display:inline;vertical-align:middle;\" /></a><br>"
      ],
      "text/plain": [
       "D_1_to_m: D_{1}, D_{2}, ..., D_{m}"
      ]
     },
     "execution_count": 93,
     "metadata": {},
     "output_type": "execute_result"
    }
   ],
   "source": [
    "D_1_to_m = var_range(D, one, m)"
   ]
  },
  {
   "cell_type": "code",
   "execution_count": 94,
   "metadata": {},
   "outputs": [
    {
     "data": {
      "text/html": [
       "<strong id=\"D_1_to_n\">D_1_to_n:</strong> <a class=\"ProveItLink\" href=\"../__pv_it/common/ea79e983ae6d397673f6a492cdf8265d812567980/common_expr.ipynb\"><img src=\"data:image/png;base64,iVBORw0KGgoAAAANSUhEUgAAAIgAAAASBAMAAAByaYtEAAAAMFBMVEX///8iIiLu7u52dna6uroQ\n",
       "EBBmZmbMzMyqqqqYmJgyMjLc3NxUVFRERESIiIgAAACK51z6AAAAAXRSTlMAQObYZgAAAAlwSFlz\n",
       "AAAOxAAADsQBlSsOGwAAAYlJREFUOMuNk71PwkAYxh8blNTykTjg2sQ4OIm7MTowy+ZkrIMmxoVJ\n",
       "N/xYXImjC/wHEJ0JxFVQJgcDAWPiYGIkAaMSsN5R2r69K8Qn6aX3u+ube56+B+DdrFfrBRDJRFak\n",
       "Oag07tx5D1C/PTtkIiuaA7Kn9iz4y4Y9ui4TH520gJmkc7AvNmxm6FEl4qOPFBD4sWfhNhtKcbIu\n",
       "Ex812aN1HHM1frgytSsRHw247z41h2xcsOslsoa5qR1qDg/ryhUEsrB6O+EX89xCXWoOn0g/QyAG\n",
       "dscXGeYWTVJzKov5DALpopQa3yY8t2yGmluskSI2uZxUhOembEM9SL/a5p5gFVFACVZGxCPFyS2c\n",
       "w1IiM80uyCwzt2GMiiyzXnZJcM4iSg/CC5BnrRYDrt8Q1RFq9iuNQ4yKTLHPXFLULYIYXzLsF06q\n",
       "ZqX6yO/oPRL0mMNMzgnQDK3gJZY8ZAv7QbEI7bDi8ZHuJZYo0dqYv3CnN/k1ZrpFNuyYpkCsYCkJ\n",
       "lPEi3tSI3Jn/IH9wdojq7riv6QAAAABJRU5ErkJggg==\n",
       "\" style=\"display:inline;vertical-align:middle;\" /></a><br>"
      ],
      "text/plain": [
       "D_1_to_n: D_{1}, D_{2}, ..., D_{n}"
      ]
     },
     "execution_count": 94,
     "metadata": {},
     "output_type": "execute_result"
    }
   ],
   "source": [
    "D_1_to_n = var_range(D, one, n)"
   ]
  },
  {
   "cell_type": "code",
   "execution_count": 95,
   "metadata": {},
   "outputs": [
    {
     "data": {
      "text/html": [
       "<strong id=\"Q_1_to_m\">Q_1_to_m:</strong> <a class=\"ProveItLink\" href=\"../__pv_it/common/36ec706e1143fd1d895c3be566542a2a3b5f14570/common_expr.ipynb\"><img src=\"data:image/png;base64,iVBORw0KGgoAAAANSUhEUgAAAIgAAAASBAMAAAByaYtEAAAAMFBMVEX///+IiIiqqqq6uroiIiIQ\n",
       "EBBERETu7u7MzMwyMjKYmJhUVFRmZmZ2dnbc3NwAAABtgPhfAAAAAXRSTlMAQObYZgAAAAlwSFlz\n",
       "AAAOxAAADsQBlSsOGwAAAddJREFUOMuFk08oBFEcx7/DrllrZncP/iSlPSi5bcp9C7kocqK0bTlQ\n",
       "UuvgwMWoVUrhIDmxJ3GyLoQDFyklFAetDSflf+TvwXq/N/PW7Ew7Xs135r33me977zu/AeC7SG8h\n",
       "pz0cphL4p1mYcw0lM+Z5dR7Y/MfDwgxHmXSb5uU5Ju5dRw8rM0uyYwKKw0xKnh1NLIzySXqp/QFH\n",
       "9Kx+OppYmKcoHwxl533v3PvVycPKHAVJF6+ygPLC9/vjZGJl2mKU0xvkFWPA9UE62i6nt2P5TAQj\n",
       "+m8k3m+MlRoDfj61mlCghPOZCEb0m0iGWJ3UiFXoVbkL/pAvb7iCEW0HhUHsXf2ZsA9XDyUCbyy/\n",
       "SZY5GKuSljRMB5dv1Qh0E5ldnhfvVOKMglbZevZYzMxIQ8KdlJKQIgGVJ0gmo1T+ZddIbRAej0H+\n",
       "Mkb5Q7YnmJtK+DXlGJgcOA1B001cLbTMeroRHlYMvRQZ83dRebfCkBxmDeNw8SIpCkkik1p9yz2o\n",
       "Bu7xCBTYz2NmOlGOJw83SdYZx8GxDvQXzMDXN7HPcrGnamae2V6WFF5/GfYZHhZP2KEDRhlnNLgz\n",
       "GfaDDdqDNTGFSSzgroK6nuagAUjGPd4hXgnYTOwMfgFmmY7/8TcHQAAAAABJRU5ErkJggg==\n",
       "\" style=\"display:inline;vertical-align:middle;\" /></a><br>"
      ],
      "text/plain": [
       "Q_1_to_m: Q_{1}, Q_{2}, ..., Q_{m}"
      ]
     },
     "execution_count": 95,
     "metadata": {},
     "output_type": "execute_result"
    }
   ],
   "source": [
    "Q_1_to_m = var_range(Q, one, m)"
   ]
  },
  {
   "cell_type": "code",
   "execution_count": 96,
   "metadata": {},
   "outputs": [
    {
     "data": {
      "text/html": [
       "<strong id=\"R_1_to_n\">R_1_to_n:</strong> <a class=\"ProveItLink\" href=\"../__pv_it/common/178e3d2d677180c226652597ee4a3b01b978fa0b0/common_expr.ipynb\"><img src=\"data:image/png;base64,iVBORw0KGgoAAAANSUhEUgAAAIQAAAASBAMAAABoVWvKAAAAMFBMVEX///+YmJgQEBDu7u5mZmZ2\n",
       "dna6uroiIiIyMjLMzMzc3NyqqqpUVFRERESIiIgAAACCFtC2AAAAAXRSTlMAQObYZgAAAAlwSFlz\n",
       "AAAOxAAADsQBlSsOGwAAAaBJREFUOMuFU79Lw0AYfTX9lRTbgH+Ark5NBzexFQR1sg5Bh4LQ1aFC\n",
       "BREcin+A7eDiokUHp9KCk5MBXSsFR62NYMHFWtGKFtN6NtfmLtD0DeHufXnv+97lAuC1+1C9B4Ng\n",
       "zShXS3CETWQARY2thyqQfp0teJHYAcbbbPlEB2p5RwdeFPwB/JzFWw7IOlvwIn+T9K2w9SzpYjjn\n",
       "4EX/yffsOc81ZwtelHqs3+TYstdoJJZHnCYv2sgLZQWIZPqEp43ZO2AmcT3cgooo9slYcYiNrUHO\n",
       "KaAFxLA43MIU9UFuQJQkDwwsQhoEQn6hmBtqQUU0+TtwFWMtUjICn8CEgwUVueaPn8nO/UGS6aJp\n",
       "0Yu3osDTAZGvUYKDAEsUScpj5P6ckt2kvtmzEL5JWQorcHW8JYhpk4hmYC3MBxWdvSBE+qmqDPeB\n",
       "bE6xQ7qq6iqw9AQUFJPwkZjYBl340rBEt0gyA/YsAszgUkzKcwTFBbOexoJos/Aw5cLRocIRFHGm\n",
       "SxO7l9ZuvUX+zznm1XC3yxP0OHXmw2ioy7a6jlEEgnbiD4Rsig4LAcZpAAAAAElFTkSuQmCC\n",
       "\" style=\"display:inline;vertical-align:middle;\" /></a><br>"
      ],
      "text/plain": [
       "R_1_to_n: R_{1}, R_{2}, ..., R_{n}"
      ]
     },
     "execution_count": 96,
     "metadata": {},
     "output_type": "execute_result"
    }
   ],
   "source": [
    "R_1_to_n = var_range(R, one, n)"
   ]
  },
  {
   "cell_type": "code",
   "execution_count": 97,
   "metadata": {},
   "outputs": [
    {
     "data": {
      "text/html": [
       "<strong id=\"S_1_to_n\">S_1_to_n:</strong> <a class=\"ProveItLink\" href=\"../__pv_it/common/37a1835fe63b404334feb6a5357d0a1664dabcbc0/common_expr.ipynb\"><img src=\"data:image/png;base64,iVBORw0KGgoAAAANSUhEUgAAAHkAAAASBAMAAACN52zjAAAAMFBMVEX///8iIiIQEBDc3NxUVFTM\n",
       "zMwyMjLu7u6IiIhERES6urqYmJh2dnZmZmaqqqoAAACoC7eKAAAAAXRSTlMAQObYZgAAAAlwSFlz\n",
       "AAAOxAAADsQBlSsOGwAAAXxJREFUOMt9k7FPwkAYxR9Wclgo6sSiiYmjg6xMkGjipOnCqOFPYHDA\n",
       "aEJH/A/cYGBw00VNSIw1ARcdSuIIEScnE2NUEiSeXyn0rjTcJdfe9f1ev7uXOwDJ7lO8BtHeO3YD\n",
       "yiYTZ2BVSVqwcPShNMuE4QDXktYF4gWlWyYWTeBc0r4B3VK6ZeLiEsgLSf8FoqbKHCDKwwDLeEsd\n",
       "WZCIc74li3f8K622B4hS9RM49oNip3wNJ80dRXGXEO2lFq0siakxgIO2qjoR44W7W+8hOXFThuwP\n",
       "A2RnJucRXjukni36bpYDtD5uZrvHxO1VhQ7KK33oYORm8N6GTYN7oBh2+gRrbGAdaNtI5LxvZUrO\n",
       "WAGaxERTYD8u7z5cwR94hFYqoA849ee98R8jKdL03e0ezTNUeNktvko94kwGgpi3dBH8aN9v/lRz\n",
       "tDSS4aULYs40HDPgtn0tk98vIhGOTBBZRA4mbu1haIGJy7HJOR2jcGqCqCP2GNBiU2z4pk0T/3Kp\n",
       "bvwrNLmqAAAAAElFTkSuQmCC\n",
       "\" style=\"display:inline;vertical-align:middle;\" /></a><br>"
      ],
      "text/plain": [
       "S_1_to_n: S_{1}, S_{2}, ..., S_{n}"
      ]
     },
     "execution_count": 97,
     "metadata": {},
     "output_type": "execute_result"
    }
   ],
   "source": [
    "S_1_to_n = var_range(S, one, n)"
   ]
  },
  {
   "cell_type": "code",
   "execution_count": 98,
   "metadata": {},
   "outputs": [
    {
     "data": {
      "text/html": [
       "<strong id=\"U_1_to_i\">U_1_to_i:</strong> <a class=\"ProveItLink\" href=\"../__pv_it/common/1e2f0ecc9b3644486ae784272692b1076ccb39410/common_expr.ipynb\"><img src=\"data:image/png;base64,iVBORw0KGgoAAAANSUhEUgAAAHkAAAASBAMAAACN52zjAAAAMFBMVEX///+YmJjMzMxERETu7u5m\n",
       "Zma6urp2dnaIiIgyMjIQEBCqqqoiIiJUVFTc3NwAAABAtvA6AAAAAXRSTlMAQObYZgAAAAlwSFlz\n",
       "AAAOxAAADsQBlSsOGwAAAYJJREFUOMtjeHv+7AaGWz8bGKCA786f2wy862cw4AbIWuoTGBg4ChBy\n",
       "7N+ARDsDPoCkZT4QszogpDg/AIkQvLqRtHwGYl4kKX4DIHEBr26EFrYfQMIdSSof6B+WAnyakbSw\n",
       "fwISYsieUmBgYEzApxtJC88CIBGAJHcK5Cm8Dodp8WNg8L8A9iaLJFSK5S/YUyzldx1w6YZqYahg\n",
       "YNgvAIzjBgaNHqgU90cg8QJoO+sBXLqhWmDeZH/AwLAH2VN1DPwJfJ9wRjdUC4gJDX247g9gZzE6\n",
       "4NEN0ZIBdPx+oPfuQXWDfMr9BSgFMpj9AAMLpk6QEogWlgagSs4AhrcKEN0sP0HyUxn4LoFoHQcG\n",
       "/wlQQTAB50G08HmDAqb4KjgAQHafAZnMbhsBzi0mwKg5AmQcZYASPAEwJRAtzA0IJ4F0cyNF0lOG\n",
       "dwwMWzBcjqTE3wlVNzuCy2ekBMwpmAkWSclORJp6Ph8Y9x4IKa7//z8AAwZDN5IS3z5UKXTFHJhh\n",
       "jqoEAI+HbHRU4tKxAAAAAElFTkSuQmCC\n",
       "\" style=\"display:inline;vertical-align:middle;\" /></a><br>"
      ],
      "text/plain": [
       "U_1_to_i: U_{1}, U_{2}, ..., U_{i}"
      ]
     },
     "execution_count": 98,
     "metadata": {},
     "output_type": "execute_result"
    }
   ],
   "source": [
    "U_1_to_i = var_range(U, one, i)"
   ]
  },
  {
   "cell_type": "code",
   "execution_count": 99,
   "metadata": {},
   "outputs": [
    {
     "data": {
      "text/html": [
       "<strong id=\"U_1_to_m\">U_1_to_m:</strong> <a class=\"ProveItLink\" href=\"../__pv_it/common/f2446d23f25b2a0391ce7ae7ebebadb55f507e4c0/common_expr.ipynb\"><img src=\"data:image/png;base64,iVBORw0KGgoAAAANSUhEUgAAAIEAAAASBAMAAACOfKCOAAAAMFBMVEX///+YmJjMzMxERETu7u5m\n",
       "Zma6urp2dnaIiIgyMjIQEBCqqqoiIiJUVFTc3NwAAABAtvA6AAAAAXRSTlMAQObYZgAAAAlwSFlz\n",
       "AAAOxAAADsQBlSsOGwAAAWFJREFUOMtjeHv+7AaGWz8bGKAAnY8FoCupT2Bg4ChAyKPzsQA0JfOB\n",
       "mNWBAScfC0BT8hmIeZGk0flYAKoSth9Awp0BJx8LQFPC/glIiDHg5GMBaEp4FgCJAAacfCwATYn/\n",
       "BSBxgYFFEpXvXnsFpwlQJTCwX4CBga+BQaMHlR/AEIPTBKgSeNwqAD32gIFhDyr/G8N7BZzJAaoF\n",
       "xoXGzB5Uvgg+EyBKRIU6LjQaAZ0ETBn3oCaAEgmMz1DDwMCCqRuhhEVsIcNahl4GBs4AhrcKEBNY\n",
       "fjIg+ExHgEE2ASoIZyAp4fOYwPCJIRzIL74KDhSQG844IPiPgWweoCkMR0HxFwBlICvhbWBawHAa\n",
       "4TyQCdyItM4XwAcMqy0YvkBSwqXAYcD3QQHFBHaEysdKqkC1mFkUScl7oCsYDeAp6/n8CgYGD4T0\n",
       "+v//gb7GLCWQlOQycD7gu4Gai9E1cGDGBaaZAFDEddns9lGfAAAAAElFTkSuQmCC\n",
       "\" style=\"display:inline;vertical-align:middle;\" /></a><br>"
      ],
      "text/plain": [
       "U_1_to_m: U_{1}, U_{2}, ..., U_{m}"
      ]
     },
     "execution_count": 99,
     "metadata": {},
     "output_type": "execute_result"
    }
   ],
   "source": [
    "U_1_to_m = var_range(U, one, m)"
   ]
  },
  {
   "cell_type": "code",
   "execution_count": 100,
   "metadata": {},
   "outputs": [
    {
     "data": {
      "text/html": [
       "<strong id=\"V_1_to_i\">V_1_to_i:</strong> <a class=\"ProveItLink\" href=\"../__pv_it/common/e3223cb2bd5adfc47566bb02ae24ae281c09c18b0/common_expr.ipynb\"><img src=\"data:image/png;base64,iVBORw0KGgoAAAANSUhEUgAAAHMAAAASBAMAAACaxfwqAAAAMFBMVEX///+YmJh2dnbc3NwQEBBU\n",
       "VFS6urru7u5mZmYiIiLMzMyqqqpEREQyMjKIiIgAAAAM9TCCAAAAAXRSTlMAQObYZgAAAAlwSFlz\n",
       "AAAOxAAADsQBlSsOGwAAAWhJREFUOMtjePv/NAPDyp8NDBDAd//PBgau+TMYcAKEBva/QC5bAFym\n",
       "/gKQSMWtE1mDCxCzImRYHIBEAB6tSBruA/ErhATvB6CrF+DTitAQb8DArICQYP3MwGCETyeSBv0E\n",
       "ZPcyMH0j4F4kDfICDGJIEowfGRgT8GqFaCgGsvIVgNazy8Ik2D4B3cuuFFqAUytYA4MeKDYOAK1f\n",
       "9xIe9n+A7uVg4JiAUytYAxjwTwC5dydc5ifQvfwJzL9waoVoAAHO7wooWucXAT1cgEcrWEMeKCh5\n",
       "/jBAtbKDZc4fAAf0BCgXBYADAKSB/cF3IIvjG0wrOA0y9IPDd2UBmAtOdWACzgNrYK4GhQVjA0wr\n",
       "53QQSwJEMB+HcsH5AERwgpTNLIBp4HkAdwrYr9vhXAsGY2QuDHDDo6y+ClUrPD0yn1rVjsRFJDU4\n",
       "ay8HjGV0Xw/kd3j2+f//AxIXDurgrNLHKBJ8DPi4IIBiGAAE3GDPnw64mQAAAABJRU5ErkJggg==\n",
       "\" style=\"display:inline;vertical-align:middle;\" /></a><br>"
      ],
      "text/plain": [
       "V_1_to_i: V_{1}, V_{2}, ..., V_{i}"
      ]
     },
     "execution_count": 100,
     "metadata": {},
     "output_type": "execute_result"
    }
   ],
   "source": [
    "V_1_to_i = var_range(V, one, i)"
   ]
  },
  {
   "cell_type": "code",
   "execution_count": 101,
   "metadata": {},
   "outputs": [
    {
     "data": {
      "text/html": [
       "<strong id=\"V_1_to_j\">V_1_to_j:</strong> <a class=\"ProveItLink\" href=\"../__pv_it/common/aa1473166864fac4f6d41a5cddebd2f3e42aeaba0/common_expr.ipynb\"><img src=\"data:image/png;base64,iVBORw0KGgoAAAANSUhEUgAAAHQAAAAUBAMAAACuQAROAAAAMFBMVEX///+YmJh2dnbc3NwQEBBU\n",
       "VFS6urru7u5mZmYiIiLMzMyqqqpEREQyMjKIiIgAAAAM9TCCAAAAAXRSTlMAQObYZgAAAAlwSFlz\n",
       "AAAOxAAADsQBlSsOGwAAAXhJREFUOMtjePv/NAPDyp8NDBDAd//PBgau+TMYcAKEBva/QC5bAFym\n",
       "/gKQSMWtE1mDCxCzImRYHIBEAB6tSBruA/ErhATvB6CrF+DTitAQb8DArICQYP3MwGCETyeSBv0E\n",
       "ZPcyMH0j4F4kDfICDGJIEowfGRgT8GqFagB6Kl8BaD27LEyC7RPQvexKoQU4tYI1MDDMAsbGAaD1\n",
       "617Cw/4P0L0cDBwTcGoFawAD/gkg63fCZX4C3cufwPwLp1aIBhDg/K6AonV+EdDDBXi0gjWwv9jA\n",
       "wMDzhwGqlR0sc/4AOKAnQLkoABwAYA0c3MBUx/ENphWcBhn6weG7sgDMBac6MAHnQTSUMwETMWMD\n",
       "TCvndBBLAkQwH4dywfkARHCClM0EWQvRwCsAcwrYr9vhLrNgMEbmwgA3Isr4DVC0wtMj86lV7Uhc\n",
       "RFJDMJfAGEb39YBeeQDPPv//f0DiwkEdgvkURYKPAR8XBJAMu8hAJuDNciBXK8eLAgYAX79iBP0X\n",
       "xxcAAAAASUVORK5CYII=\n",
       "\" style=\"display:inline;vertical-align:middle;\" /></a><br>"
      ],
      "text/plain": [
       "V_1_to_j: V_{1}, V_{2}, ..., V_{j}"
      ]
     },
     "execution_count": 101,
     "metadata": {},
     "output_type": "execute_result"
    }
   ],
   "source": [
    "V_1_to_j = var_range(V, one, j)"
   ]
  },
  {
   "cell_type": "code",
   "execution_count": 102,
   "metadata": {},
   "outputs": [
    {
     "data": {
      "text/html": [
       "<strong id=\"V_1_to_n\">V_1_to_n:</strong> <a class=\"ProveItLink\" href=\"../__pv_it/common/4e3d185cdb00d85ee0e29821cdc4893f0dcd9f060/common_expr.ipynb\"><img src=\"data:image/png;base64,iVBORw0KGgoAAAANSUhEUgAAAHcAAAASBAMAAACTLlxQAAAAMFBMVEX///+YmJh2dnbc3NwQEBBU\n",
       "VFS6urru7u5mZmYiIiLMzMyqqqpEREQyMjKIiIgAAAAM9TCCAAAAAXRSTlMAQObYZgAAAAlwSFlz\n",
       "AAAOxAAADsQBlSsOGwAAAXdJREFUOMuFk79OwlAUxj8o0OKf4kSIibH6AGpwcROjD8DibBdmiQ+A\n",
       "3Rztpk6woolxM25sJjrIG5RVEw1qAsFg8NxT2tvStJ7kntzb8/3ar/fci/fJM9AeWXBDd8Z3mGte\n",
       "IjaCgPpLKVf1a6ddSrV4Ngwc0MjKWqZCqZoAhwCHxpssLfbJeysJDgJHW1AMWcp+A+UkNgRsmkHX\n",
       "SA/+cR0CVpdQDJRSn0iZiXAQODbIhLriLXNf5FpdP6zHwgx4vemQidtXvxNjcq1Bs2NhBqZRsIWJ\n",
       "B389ItcFU/mJhV3AjfzQCMHNE/rxegLMQGn5Q5yxhTGmsPubLx3edBtqlGOFANTiHvZprg2mMJ87\n",
       "4Jz3ul3ng8rP+MT6KwaURhdD0RvL+/IVv7gkkvJI9i5oIm5I3vISKxjI9nIV35CA52V7drAN3Eds\n",
       "S0WmpVmtIJz2RcrT9RlgRGCp2EX+xoPLzgbQkFdrMulD7UVgqahBXwuVZsR6dLdnFH96WWL7r25+\n",
       "TwAAAABJRU5ErkJggg==\n",
       "\" style=\"display:inline;vertical-align:middle;\" /></a><br>"
      ],
      "text/plain": [
       "V_1_to_n: V_{1}, V_{2}, ..., V_{n}"
      ]
     },
     "execution_count": 102,
     "metadata": {},
     "output_type": "execute_result"
    }
   ],
   "source": [
    "V_1_to_n = var_range(V, one, n)"
   ]
  },
  {
   "cell_type": "code",
   "execution_count": 103,
   "metadata": {},
   "outputs": [
    {
     "data": {
      "text/html": [
       "<strong id=\"W_1_to_k\">W_1_to_k:</strong> <a class=\"ProveItLink\" href=\"../__pv_it/common/e0361c09ab8ba1a47aa56af58a1d77f6addd398a0/common_expr.ipynb\"><img src=\"data:image/png;base64,iVBORw0KGgoAAAANSUhEUgAAAI0AAAASBAMAAACUQEAAAAAAMFBMVEX////MzMyIiIhmZmbc3NyY\n",
       "mJiqqqru7u4iIiJUVFS6urpEREQQEBAyMjJ2dnYAAACaCNjsAAAAAXRSTlMAQObYZgAAAAlwSFlz\n",
       "AAAOxAAADsQBlSsOGwAAAclJREFUOMuNk79LQlEUx7/Z06dmL6ulrbdETfXa2pKGliANIoMIdcrx\n",
       "0RwpNFgQFC0tDY7VUI7RUgRC0JD/gdJUQRSVVP7s3vt++XzX6MC73vPh65d7zz0HL7VLHH0fIlmL\n",
       "QA8OcoZUvMv67ndUz16e5f4GYRXyu29KOIgT5yXgNQucaKnwof1JshQcxImwovmUtFT8AXrLwKml\n",
       "4CBOpMhpixH4s3peB0beTdtOyBl9BbhisnXoWwiJBtyhFgkHOSOQxuxwCYtGvguJFGS9VcJBzvBe\n",
       "oxRWRNnIi0iIVXoHcdWBNp8OO/r0vnmCqRy91jLzulJl1Gm1BsYMiYkUTHX06flykRrRtwiwUk/P\n",
       "qLhl1UoaEhNVEA528un+HCU1om8RZvnrEilI1OZjougfPlI5Dm9eJbsVYZysEznWB7oP5S0Ijzqy\n",
       "hUgXV1XrMuBgdoM8bYx8F9B9xDrdWKgro6FUQV+szP1JapSmopt4F1nPyPds+GBbtaE5VUNeBfqy\n",
       "RTcZOoWkNFKWjdGk/bjUx2O7haAIoTbEYq01ceeOBYePfTbn+gdV3rjaJsYnD9kk88UHtDXxfbMJ\n",
       "Tl9bTcwaKeRbcEhk/AO5nKJffGSUL3R4rpoAAAAASUVORK5CYII=\n",
       "\" style=\"display:inline;vertical-align:middle;\" /></a><br>"
      ],
      "text/plain": [
       "W_1_to_k: W_{1}, W_{2}, ..., W_{k}"
      ]
     },
     "execution_count": 103,
     "metadata": {},
     "output_type": "execute_result"
    }
   ],
   "source": [
    "W_1_to_k = var_range(W, one, k)"
   ]
  },
  {
   "cell_type": "code",
   "execution_count": 104,
   "metadata": {},
   "outputs": [
    {
     "data": {
      "text/html": [
       "<strong id=\"P__x_1_to_n\">P__x_1_to_n:</strong> <a class=\"ProveItLink\" href=\"../__pv_it/common/bcbe622d6fda27f5c2da727eff45652e5b8413350/common_expr.ipynb\"><img src=\"data:image/png;base64,iVBORw0KGgoAAAANSUhEUgAAAJsAAAAVBAMAAACj9YEXAAAAMFBMVEX///+6urqYmJgiIiLc3Nx2\n",
       "dnaqqqrMzMwQEBDu7u5mZmYyMjJUVFRERESIiIgAAAAee7pSAAAAAXRSTlMAQObYZgAAAAlwSFlz\n",
       "AAAOxAAADsQBlSsOGwAAAhZJREFUOMulVD1II0EU/rJZd7OrSawOq3OFQ9BGQVC8KiAWFmJAvEYL\n",
       "Gzk8CwU5Di00VmLjLcJxKOiFiCAeiNh5lQiCFoqCpegWZ+NPjGAQEY1vdjOb3Q1JswNv5r157/v2\n",
       "zXuzAzhHDH6GFx0Z9EX30ZzvcudH/3SmDfliQ0QzlxcgPEersuWPDjtskt8AiQSq5pOu0czxiSRL\n",
       "SsgnG0KsZOEMCVFixC9dJTte9ASYNkhZI1m5/d3n6K+SPvz+pSyFE1CxC5Oqs5VZ2yTJyLHaXAhW\n",
       "cWuslqVzAgTWy/v9vjrTIk4hJjxXaVjgPf6EJn0PvwYOS7HlAdaQEjRdctcMdRkqMclp/r0x/GUZ\n",
       "oGSGFoAbGeva2XTUHVZFqXDeeZIH9IyVbqdhqwHKTs5yyyxgbUzRHXSBRyyioRwdAwipqet8FpEH\n",
       "7rgAlqsPUGHtK6yxp1UJxEnpBfQiIhZhARZqtBA9AALdkcoMdw8AoxPr+GDR/aGaSE9LiQBdA7kd\n",
       "CqsJ27MVc7IAXTeI0ufUONTLV374cWApLaUGLbpgO0E3jW/15Omm2BaSYJKMz8grLCIPOEYN26h2\n",
       "Jh+0C2TWbth2iEkxBqn4tIWIWWzIQIf7DiVddHHb0f1jUmcl9Q47Qsyg7SuQcrvPuLc/a0ApXICf\n",
       "uRz9TcWtsCMCu7jSIJ64/cuux9ADNoqfS48d9rzuouHrQfkPvAPGWohFZyjWfwAAAABJRU5ErkJg\n",
       "gg==\n",
       "\" style=\"display:inline;vertical-align:middle;\" /></a><br>"
      ],
      "text/plain": [
       "P__x_1_to_n: P(x_{1}, x_{2}, ..., x_{n})"
      ]
     },
     "execution_count": 104,
     "metadata": {},
     "output_type": "execute_result"
    }
   ],
   "source": [
    "P__x_1_to_n = Function(P, x_1_to_n)"
   ]
  },
  {
   "cell_type": "code",
   "execution_count": 105,
   "metadata": {},
   "outputs": [
    {
     "data": {
      "text/html": [
       "<strong id=\"P__y_1_to_n\">P__y_1_to_n:</strong> <a class=\"ProveItLink\" href=\"../__pv_it/common/354c982fd0f502112bf4694db5f23a5833ec2bdf0/common_expr.ipynb\"><img src=\"data:image/png;base64,iVBORw0KGgoAAAANSUhEUgAAAJUAAAAVBAMAAAC9PLGkAAAAMFBMVEX///+6urqYmJgiIiLc3Nx2\n",
       "dnaqqqrMzMwQEBDu7u5mZmYyMjJUVFRERESIiIgAAAAee7pSAAAAAXRSTlMAQObYZgAAAAlwSFlz\n",
       "AAAOxAAADsQBlSsOGwAAAfNJREFUOMulVDtIA0EQfSaX3EeTWFqZs7XQgKBoFVALrdKkioiNiNgI\n",
       "Ae38NIqNHNb+wcIPGOy0SmNnxEIQQfQKbSJqLEIK0Ti7d3vmPGORDMzevJ2373Zm7xaotDhqtt9L\n",
       "w2O1a7Xy8aV8lzszWDReuxTCOn98AKEVeqqZOrRwygb5CwiSQ9Pr0WrnuyuRFylQ6pGCwtoUKpCT\n",
       "Hqbq0mpkVUWugHmTgj1qWV7HupN2oz+skhDIgusMdjN0QhPBBXQ6VDf6wyoJPnZyb+fJNo5IcEaL\n",
       "IYc1+0A5UpMXRjUti24ZyQIPIrMIGIqJVfk1Zk1wpEGLVdPiBDuWC9bn5WghasglBMVihiLNUqlq\n",
       "kZxuWQPtSy6KBGvaIcILP1oM+Yx/tDhhdy7PaqRF4XeRuCe/QyjLp1UIhABBb8scwlqLrtCf7aPP\n",
       "obEgsiPkR4jqXGsrIxDSBlTWCDbFAwdxwtAzIvQqLQHt4dO0tdLk66PHca7l7xVIuqWoi9j+bQr6\n",
       "YA8/hEu0MNxcuWv/NBtTVumYhI2GMUBT3iIdwjIOZKDflfRtI5BRl2ytBCwk3czuU+jtu0MooGcC\n",
       "2HVnr+E3mxKQUkUTKlXOkVIuU0c3vb0XhIYsnnRIV+70BoIdO+JuY8fsIJjey89NCP26pCWz9mvi\n",
       "EfgGDMSNx5OGNl8AAAAASUVORK5CYII=\n",
       "\" style=\"display:inline;vertical-align:middle;\" /></a><br>"
      ],
      "text/plain": [
       "P__y_1_to_n: P(y_{1}, y_{2}, ..., y_{n})"
      ]
     },
     "execution_count": 105,
     "metadata": {},
     "output_type": "execute_result"
    }
   ],
   "source": [
    "P__y_1_to_n = Function(P, y_1_to_n)"
   ]
  },
  {
   "cell_type": "code",
   "execution_count": 106,
   "metadata": {},
   "outputs": [
    {
     "data": {
      "text/html": [
       "<strong id=\"P__x_1_to_m_y_1_to_n\">P__x_1_to_m_y_1_to_n:</strong> <a class=\"ProveItLink\" href=\"../__pv_it/common/c03746506535a5b9b9bc4606ba23d6af8c1dbe5d0/common_expr.ipynb\"><img src=\"data:image/png;base64,iVBORw0KGgoAAAANSUhEUgAAARwAAAAVBAMAAABmokyvAAAAMFBMVEX///+6urqYmJgiIiLc3Nx2\n",
       "dnaqqqrMzMwQEBDu7u5mZmYyMjJUVFRERESIiIgAAAAee7pSAAAAAXRSTlMAQObYZgAAAAlwSFlz\n",
       "AAAOxAAADsQBlSsOGwAAAzNJREFUSMfFVl9IU1EY/23e/blzu+4pfAicEEVKaQSKPsR9yIcCcxD2\n",
       "oojUQ9ZLgyipBx09FEHYRYjKzNZEqIwaPfbSCISElAWBBIIXo4hla4YyRGp999xz785mG73tg3Pu\n",
       "953z+537O9/57tkAwSRU1Upf/7W6chy60f/ILy+81shxh6srB6us3wYCN+n5oMpqUGskxfOHEkMN\n",
       "8WrLccaoU3LUNsmJVlsOjDMKZKmRJHei6nJeUatLAaNU1D6qZDkzf+mUMD+1drd3sNICpQQaSYcw\n",
       "KawQh5ystIAI7weT0tVmFFKIJGFNnxbAMWXR11pJTikBcLmjaCmE4SE4sxUWKII3U/s519to+DWU\n",
       "hj1o0d5CbrZqS3Vu+UNy73ut3GomQbTLpH8B4/zkPYPT8Kfu9M+XW8CEcxuitsJ9bxCIYJa8kc98\n",
       "yANfwshA+QyZBNE0r44xT4YzZIzBq8cwXW4BBreCUfPaseXAnDpjowmMuqCUK5/tsdKBBs2Tg9va\n",
       "gGMLo5F19ETK8RmcWz1lYJP7xmHBsYH7opwGVdacWgU5jNC0L5NcXeIjs1CiBTmU3m/YX0GOAXfG\n",
       "R9I8Dco6Hw/okD/4owibcmRqD4Pv4DLqrZWFpXkGJ8iN13ALayYHywgkmRwWkb9Mj5MMXvpVWfDx\n",
       "+pBXJf8AfVBW3btokdxE1DFoynlEVXPhyhPsIv+ixkJ5m4/bkUmQphLIYYbPPUdDiMlhkS/p+EVH\n",
       "0PEPcgF+7DvqDLUz8K381nndUgpe6Of38tqp6QAmMu44qZM+mSE6jfGY1R3WLIJf90TRxkGTAy9V\n",
       "JodF8lx6A+jWGFwgd0KELxplAxwSc9due6x2ztnhcRwVQ8vcdvq9ESUlZSMWqA9m7ZiRKwEpJqkC\n",
       "3DYbfgPPPLTtog+4qViO/XdDWhp+KoSFG8z2eig/zlSMgVwJ+TqXE2bvujeI7uGrmgAv3JEcLmXR\n",
       "fpYONiROBlTudL0ZoCzr9t7z+awQFu5/29uNWlVa1BioRveHIfVt6iblCOaA2/m8CLdL2YI7kvhC\n",
       "UrqLZ1NipBRTlZ172ynQALkPPhYpp9PB/4QDH4unT1T391xR8RficfXTDJdRlgAAAABJRU5ErkJg\n",
       "gg==\n",
       "\" style=\"display:inline;vertical-align:middle;\" /></a><br>"
      ],
      "text/plain": [
       "P__x_1_to_m_y_1_to_n: P(x_{1}, x_{2}, ..., x_{m},y_{1}, y_{2}, ..., y_{n})"
      ]
     },
     "execution_count": 106,
     "metadata": {},
     "output_type": "execute_result"
    }
   ],
   "source": [
    "P__x_1_to_m_y_1_to_n = Function(P, [x_1_to_m, y_1_to_n])"
   ]
  },
  {
   "cell_type": "code",
   "execution_count": 107,
   "metadata": {},
   "outputs": [
    {
     "data": {
      "text/html": [
       "<strong id=\"P__x_1_to_np1\">P__x_1_to_np1:</strong> <a class=\"ProveItLink\" href=\"../__pv_it/common/c727476b19775ccb31c3afd880d951839db7bc420/common_expr.ipynb\"><img src=\"data:image/png;base64,iVBORw0KGgoAAAANSUhEUgAAAK8AAAAVBAMAAADC7aNVAAAAMFBMVEX///+6urqYmJgiIiLc3Nx2\n",
       "dnaqqqrMzMwQEBDu7u5mZmYyMjJUVFRERESIiIgAAAAee7pSAAAAAXRSTlMAQObYZgAAAAlwSFlz\n",
       "AAAOxAAADsQBlSsOGwAAAipJREFUOMutlTGIE0EUhv/sbjaZvWQvlZVoDkThGg8EQauA2tgYhNho\n",
       "kcZCLQwcKlZGsbGRxUY8uDOcCIoowU4rEQQFlRMEFYy3heUZIxjCIRrfzO5MZnaJjTsws+9/M/Pl\n",
       "zdu3E0BvNWTTkhy/mRF4mxi/jT+/eRpw62RGXPhV8fgFlK/Rk3WzAuMJHwp/AJc6vGpm4HkR94j6\n",
       "kIxiZlwUeWrLA+oEx5nswDP88LNrwKWQjLvUVzZuNrTaSMh0Y/1X546l3flnENBDe7l6TL3jv/UW\n",
       "JgsSMt08bIR30m6L18H3F405oYhu1azNUhU34vqIJGu8DqaBd2B38NzwiL1um4Z16bpMFQKP/IV+\n",
       "HGUkPUyPuoUHevhyb2EQlbEC0/vk2XYViMvZijOanozrE7MMuTdHEReG0i8Svb3GAg3MpRX8A5z7\n",
       "iVuY39XvGGA++D/kmi/AcuUl8pGfQUnkF4RMNEo8e1dqo87mruCqAbao0mYGcuEJ4OzFe9gSTd7u\n",
       "KonFQEjGsyYGqdzRUjvXdFa62DTAXh3e+u8wBi8CS313tRlN2vuUdD5FEvsRDzY/+Z4A7FF4eidQ\n",
       "CimpD3sfe71qBLYr+tHslrTE5Ck1cRgHdalWqSIstrxOS4/4gFnVHQNcl8r5cOG+Jiefl7KOwD5v\n",
       "gFfNle8l6fgwBAtVPOPxQJOT711ZW+EfjXMs9jpr5spl47JO3N3pqkj9VFkZif8mJ/y/O82Txlfg\n",
       "L+yAkfUEqz/uAAAAAElFTkSuQmCC\n",
       "\" style=\"display:inline;vertical-align:middle;\" /></a><br>"
      ],
      "text/plain": [
       "P__x_1_to_np1: P(x_{1}, x_{2}, ..., x_{n + 1})"
      ]
     },
     "execution_count": 107,
     "metadata": {},
     "output_type": "execute_result"
    }
   ],
   "source": [
    "P__x_1_to_np1 = Function(P, x_1_to_np1)"
   ]
  },
  {
   "cell_type": "code",
   "execution_count": 108,
   "metadata": {},
   "outputs": [
    {
     "data": {
      "text/html": [
       "<strong id=\"Q__x_1_to_n\">Q__x_1_to_n:</strong> <a class=\"ProveItLink\" href=\"../__pv_it/common/bf2f905b72ae7caedef50b78edeba9c03ac6d7cd0/common_expr.ipynb\"><img src=\"data:image/png;base64,iVBORw0KGgoAAAANSUhEUgAAAJoAAAAVBAMAAABMN+opAAAAMFBMVEX///+IiIiqqqq6uroiIiIQ\n",
       "EBBERETu7u7MzMwyMjKYmJhUVFRmZmZ2dnbc3NwAAABtgPhfAAAAAXRSTlMAQObYZgAAAAlwSFlz\n",
       "AAAOxAAADsQBlSsOGwAAAjFJREFUOMullD1oFEEUx/97l7vRu93NnliZ5gpFBMFFsLIwYEQLwUsl\n",
       "iISAhTbKpvALAq4iRBDJFlY2ORQkgaCxECEWrmAQA5IoNn4cro2FqLEJOS0835sZb/duuWt2ijdv\n",
       "Zt77zbw3bwZINBtZWrf3lky0vCOZnxqLcphbzUTDNhbvfZQDVi5ng2GzR4xxUk7yaDkjrRQCt1l5\n",
       "xqKWkYbjMJvcf/YpbUFW2h2scaBYcQGTLkFUntx6m1ifGLrUqPYDdDh8xIo0nokoiXUiYsh5kTAO\n",
       "jUfmcD9ah8Mcjnm8wzqJAeI+wENvEWLuf16j0ka5LhpPvV405aDbDqxLrz8kChStj1ekXd2qlzfB\n",
       "DHj/3udTDrpNY4S784GmAaMstrcNClTgg67d7B3raKzuo9rIV7EU6UiR/4uLSdqBSHglrw9NOszP\n",
       "VkJ5iOnq7DdrjOeLDsSpcg2risapuuA+hkW9NQyRBpGFchD3ToAR92GMOZZKsrWAXHOyRkdlmvhN\n",
       "U3umlrCX+usergR6rq2wUA72RIANmnkN3Dz7zqVkUsrpAM+d3Xd13kZoi8lKbpng9mnKw2GaO8oJ\n",
       "CbXCFtqh7OT5IR2UIboG5w1H2jEwLRdXxXf8BHamIo0tCr4Z+rDlzRcXdsm5+Q6aFX+DZ268BNLf\n",
       "VWyxhoFrPsy6rOeWurJipBd/zLyhRxVXSav1C8JJ0WKL/TA+AF9VjR5ST1GMJ227vI30nXbzz3UO\n",
       "v2T6QSj5/wA0c4dQAlli8AAAAABJRU5ErkJggg==\n",
       "\" style=\"display:inline;vertical-align:middle;\" /></a><br>"
      ],
      "text/plain": [
       "Q__x_1_to_n: Q(x_{1}, x_{2}, ..., x_{n})"
      ]
     },
     "execution_count": 108,
     "metadata": {},
     "output_type": "execute_result"
    }
   ],
   "source": [
    "Q__x_1_to_n = Function(Q, x_1_to_n)"
   ]
  },
  {
   "cell_type": "code",
   "execution_count": 109,
   "metadata": {},
   "outputs": [
    {
     "data": {
      "text/html": [
       "<strong id=\"Q__x_1_to_m\">Q__x_1_to_m:</strong> <a class=\"ProveItLink\" href=\"../__pv_it/common/11d3710a2609c1fd8b6a9def2ef1d65fd8de88d20/common_expr.ipynb\"><img src=\"data:image/png;base64,iVBORw0KGgoAAAANSUhEUgAAAJ4AAAAVBAMAAABF3EpTAAAAMFBMVEX///+IiIiqqqq6uroiIiIQ\n",
       "EBBERETu7u7MzMwyMjKYmJhUVFRmZmZ2dnbc3NwAAABtgPhfAAAAAXRSTlMAQObYZgAAAAlwSFlz\n",
       "AAAOxAAADsQBlSsOGwAAAhlJREFUOMulVDFIG2EU/pKoF01yXMRJlwwWETpkceoi1qJDwTgJVTTQ\n",
       "pUvlHEopKD03QYs3dOoSUbAK0sZJ0MEr6KAganEpthiXDEJJoQhph8b3/rv8l9yZLvcg//++9777\n",
       "7n/vXX6gxlQEM+/z7QH1IppQ/f5jV8DwWUA9dPLyzUDMZOdNUDm06qSSJWeC0XFgvTYLeM/OPi+Z\n",
       "wHoYQ7zM+5VB7TOD631AicvFaRqI0ziU5M67r27aA+8xD+MSpynecwVq5gppoks7cNMeeI95GJsY\n",
       "0fktt7Q0kfInfNZ3oWw6aRvOXe401LMZ0h7gVszlLy3NVLOBI/LmO5y0DS00PqPNkLaMQd5emY4e\n",
       "MMpLtyQw/I2S0bji0VrQR19KJIXDglMvIv/wukZPwI//0xOMrY1kvvOFOMhyauMmMcmZFg3K81gG\n",
       "Z7Ye9bUKcUG+f7SoMpS1ZxhHF+F1hCa1xB7PBIk8wuXZDB2X9ZQ/kDA6BLw17Vi9YzPUGRNlnFCM\n",
       "fosvL9LgeqL9UL5oD1ed/g3qEhbpfU2kiafcFqvqUMRhxLRoBgMUeywKTYe4fxiWpbBeWJfXmqVS\n",
       "vsdXsBtpNkJZ9ZcBtV/o5XtFdKtOLyFRcWGJtP2XmRsp0QnbshbiK+Ibr4j/MFoKTvpn7hyYkeyp\n",
       "SoUq03zzcCOP0FpQt3UUBYo+SdmEbC3d83zIdzx/BNP18Drg7UJjuAMVpY6RVqFq0wAAAABJRU5E\n",
       "rkJggg==\n",
       "\" style=\"display:inline;vertical-align:middle;\" /></a><br>"
      ],
      "text/plain": [
       "Q__x_1_to_m: Q(x_{1}, x_{2}, ..., x_{m})"
      ]
     },
     "execution_count": 109,
     "metadata": {},
     "output_type": "execute_result"
    }
   ],
   "source": [
    "Q__x_1_to_m = Function(Q, x_1_to_m)"
   ]
  },
  {
   "cell_type": "code",
   "execution_count": 110,
   "metadata": {},
   "outputs": [
    {
     "data": {
      "text/html": [
       "<strong id=\"Q__y_1_to_n\">Q__y_1_to_n:</strong> <a class=\"ProveItLink\" href=\"../__pv_it/common/e38d9e725daa55259ff29a69c9848df141c43acc0/common_expr.ipynb\"><img src=\"data:image/png;base64,iVBORw0KGgoAAAANSUhEUgAAAJUAAAAVBAMAAAC9PLGkAAAAMFBMVEX///+IiIiqqqq6uroiIiIQ\n",
       "EBBERETu7u7MzMwyMjKYmJhUVFRmZmZ2dnbc3NwAAABtgPhfAAAAAXRSTlMAQObYZgAAAAlwSFlz\n",
       "AAAOxAAADsQBlSsOGwAAAhFJREFUOMulVD1IHFEQ/vb+9rzbOy4SO5EtEoKpNnUaBYMWgZytiF4f\n",
       "AmthYSFuUgUScItASoUUGrDYLqCIW5jGRgUb//CEYBEIJwTxp/Ay82Z3vct6KbID+958b773MfP2\n",
       "vQFarIz/t/pfuDuB1jPJ5uh4VTmpnQRa2iKP+w6KLjszSGKfWaFGwzijrURaK/R9YmeDh2oirawN\n",
       "44qdE4eOy02k1bWIBpeIbQsw6OintqB7Ubgd3WOthJKHbZOdhboSxs5jFM4jaju6x1oJBRevbJr1\n",
       "CxoyJvLmJoo1/atEBc0efuskJYQApKq4UJo3fHgWdIwiW3n7UKKCfGx20hJCKHyOIZ6nXdFC+hLz\n",
       "Dh4FYYV+o+F0EhN64FfpNqRNfK9LjTBc9CDSUmjpH1qKsLL8wOcaBzBvLv8sTXAgR9nmPLwWLT5G\n",
       "QdjjamIWEvQvY+D9hRq0iUppzQ5+KgwvfaO09GuEKD8MzLnBEjt3iAnlKReXkCv14c2eBa4iP0CM\n",
       "9d5byWvIDtEZeRnSw0s+CD8cIkKxkuYXk7FUcZamus+Iys4VrZQdoLJfpuiTWI0RIesYPuXyQ63m\n",
       "vP7wde5j2hStEgJ09v4j7Yq3o4jQQOadE3YGo3klmnUMYh34tbBLz4MWFJpsNqmYSvz9hITn0A6o\n",
       "C8qdzb8w5erV8LTXCqi8+Q5p8f/YTuBE2uw0QZvoA/4ADYiWLP+LPaIAAAAASUVORK5CYII=\n",
       "\" style=\"display:inline;vertical-align:middle;\" /></a><br>"
      ],
      "text/plain": [
       "Q__y_1_to_n: Q(y_{1}, y_{2}, ..., y_{n})"
      ]
     },
     "execution_count": 110,
     "metadata": {},
     "output_type": "execute_result"
    }
   ],
   "source": [
    "Q__y_1_to_n = Function(Q, y_1_to_n)"
   ]
  },
  {
   "cell_type": "code",
   "execution_count": 111,
   "metadata": {},
   "outputs": [
    {
     "data": {
      "text/html": [
       "<strong id=\"Q__z_1_to_n\">Q__z_1_to_n:</strong> <a class=\"ProveItLink\" href=\"../__pv_it/common/fa61ae2bda24a77da46ccd4184a14941ed8a56a50/common_expr.ipynb\"><img src=\"data:image/png;base64,iVBORw0KGgoAAAANSUhEUgAAAJMAAAAVBAMAAACwIsHjAAAAMFBMVEX///+IiIiqqqq6uroiIiIQ\n",
       "EBBERETu7u7MzMwyMjKYmJhUVFRmZmZ2dnbc3NwAAABtgPhfAAAAAXRSTlMAQObYZgAAAAlwSFlz\n",
       "AAAOxAAADsQBlSsOGwAAAhxJREFUOMulVM9LFFEc/+zP2dadaQ5dgjaWKNJDMB68dIrYcA+BQpeC\n",
       "sPUP2JgOCQbSCCJCQRMFQRfnpkGH6STooT3URQo3WJSwcIVQEEJBBO2yfr9vZ54zjeth98H3O5/P\n",
       "e9/3mff9znceEBgNdDz+2xordC7VL7z26/eiADc6V0LMYf/TQo9NT8XuQgrvyMbL5B6S5ZxupD6S\n",
       "vWXwmSzVjRJSJnKHDDYsoK8rqXMOdjk/rBjAdwZTJS2QZ5hFR6Zo7XhQdbEiOmCW+uI9l/716vpJ\n",
       "ZJidMsbzFdeDWRtDJu85IHebG8PEGpQP3rJgE+sLbaW2oZoejA/jQEj+I3dPTE2YmLwgY4lV8aX9\n",
       "sZQ1meseivx8avtSmk7uqr/ObB+7VlupTYkSw9QGiQK+NrwEcRNKQIrZ3BlSCQdmdnnyEid4C68K\n",
       "8zvqCM+P8kQBPUJKgWSoA2Y0NXZXAPfZgJOik2TLiI3o6pKI5I81vZovCanntmSZQShHaE1JIFym\n",
       "Mlq3ti/iPO3P1YAXlboBTmGKrBZ/YAip5KBkWxRYJEtWaeouPMABKq69AT5hgLnBx0kbMa5VUpaE\n",
       "a3Vdlr6qNRCPZigD7uNbBvgjcNoV/0y2GpSq+WRr5qVJ748MP0DbQ6kXWBYk1xT/IR57i39nf0DR\n",
       "/S2Pmk3gSbTsfkDCRd6BVm51153W9TkWvMrCG/XoXRem6fCNrOmdXwyXgWOqlIFi86Vs5gAAAABJ\n",
       "RU5ErkJggg==\n",
       "\" style=\"display:inline;vertical-align:middle;\" /></a><br>"
      ],
      "text/plain": [
       "Q__z_1_to_n: Q(z_{1}, z_{2}, ..., z_{n})"
      ]
     },
     "execution_count": 111,
     "metadata": {},
     "output_type": "execute_result"
    }
   ],
   "source": [
    "Q__z_1_to_n = Function(Q, z_1_to_n)"
   ]
  },
  {
   "cell_type": "code",
   "execution_count": 112,
   "metadata": {},
   "outputs": [
    {
     "data": {
      "text/html": [
       "<strong id=\"Q__a_1_to_i\">Q__a_1_to_i:</strong> <a class=\"ProveItLink\" href=\"../__pv_it/common/fa56c5e4791077e82241b419c707e26e9d9d33950/common_expr.ipynb\"><img src=\"data:image/png;base64,iVBORw0KGgoAAAANSUhEUgAAAJMAAAAVBAMAAACwIsHjAAAAMFBMVEX///+IiIiqqqq6uroiIiIQ\n",
       "EBBERETu7u7MzMwyMjKYmJhUVFRmZmZ2dnbc3NwAAABtgPhfAAAAAXRSTlMAQObYZgAAAAlwSFlz\n",
       "AAAOxAAADsQBlSsOGwAAAhhJREFUOMullLFrE3EUx7+5pPml8ZJGJ6G03FAoLnIO3TsoOlTM5FBK\n",
       "ev0DpOfg0EpJRkFpbxAczVYHwWYSFfEGXbqkhQ4tVbyCVGiHpi3SVpD0vd/v8st5JR2SB/fjvcf3\n",
       "97nfe/e7B0Qsj64tiMXXukfdUmf5/uOjdIy17lGJKq9bFVzx2JlDD/aKAQ4tUxyt9oJ6S89Ldr7w\n",
       "UuwF1efCPGXnZ4Va5fWC6q/igOtD3QZM7vr++k70dnweLlxO0PrcCuoWO68DyUWyhFm3LRwL0ieX\n",
       "kpRe0O6shwe8U/yhJUXQJ1V8BebDUsUkzHEsbL/viFL6HB3dKIIhyP7lxlGRdeA+MlfHldBsILUG\n",
       "n9UdTOqlZRq4LeFeiHoIcUxvCFF9Dso2jnFQ6YRSellqka5B0sK3QBUoDpFttFHlAt4By51RSp8c\n",
       "hNyzZL3Zy5U4ny5AHNHFvylRglEWPhj0lg0VxjD8SP3jAep31kGiVMh9csPPiRmM+L5ElT2GGxMm\n",
       "teGuCsUZYo7S/x6BukrPH23Y4AoyBHg6tFirSFSK9ova5v51YNdVISa4DX7L4YzSz3Boy8rshBw3\n",
       "91pnl70a1ffUzweRUJvOiBM6yS/ppldu6D+yjdITZ/fZCzcSatMZw/Nbs8BsnipkOArzW//oC+g/\n",
       "ZrrZRCTUZ9EZUQuQd9TtumOplBOdZbHRdnHY/RelYxN5p/vBMAycA575jYz0BZ9sAAAAAElFTkSu\n",
       "QmCC\n",
       "\" style=\"display:inline;vertical-align:middle;\" /></a><br>"
      ],
      "text/plain": [
       "Q__a_1_to_i: Q(a_{1}, a_{2}, ..., a_{i})"
      ]
     },
     "execution_count": 112,
     "metadata": {},
     "output_type": "execute_result"
    }
   ],
   "source": [
    "Q__a_1_to_i = Function(Q, a_1_to_i)"
   ]
  },
  {
   "cell_type": "code",
   "execution_count": 113,
   "metadata": {},
   "outputs": [
    {
     "data": {
      "text/html": [
       "<strong id=\"Q__b_1_to_i\">Q__b_1_to_i:</strong> <a class=\"ProveItLink\" href=\"../__pv_it/common/41faf4bb5a8d1b262cc27c0ca9528a52cb93aaba0/common_expr.ipynb\"><img src=\"data:image/png;base64,iVBORw0KGgoAAAANSUhEUgAAAIwAAAAVBAMAAABmhxuGAAAAMFBMVEX///+IiIiqqqq6uroiIiIQ\n",
       "EBBERETu7u7MzMwyMjKYmJhUVFRmZmZ2dnbc3NwAAABtgPhfAAAAAXRSTlMAQObYZgAAAAlwSFlz\n",
       "AAAOxAAADsQBlSsOGwAAAjdJREFUOMudVDFoE1EY/nJJ81J7l1wd7ZKhIk5mca5gpQ4WFQRBpNbB\n",
       "TeU6VFCR3Fiw0BsKggrepBUcWhehIt6gg4Lkhi6lFc8lgkshUlKFGv//v7v04pEE8uDefff+733v\n",
       "ff/73wGJVsRA7f9phweTyZoitv11XT41H3cuJcLqxqne82P2Ee42bYw4DO7S8zRJG/b67CNiD1s0\n",
       "eZbAVf76TE8jySqV+8hE7EO03DKD99xdIJvNJGvC6pOUmH0Z+h6/v9mUGnJmdGRjo89m2uzH2GFP\n",
       "qFUA3SeXa2MJI09GX/eUabO3UBPwLKBBF6g+Un8PTuq3VQ16yQhbEeUlzrN/tUtdjgRPWLiIe07I\n",
       "0poYMh9svekqI2yDquYodiXVf6gbImOfgP3CaGRZd1DyPXzoKsNsAUuY5Ne8E8lMI9uAFsnkfEyU\n",
       "f2HH7iYjbG4n6aizZXwMIlMN6M22DJVNzXrRQ4bZ2TEC41gqr/w0ZngwTyb3MO+KjGIZW10Jjz1d\n",
       "PxwX9lyJgs+RmTGNt0IzVoF13ITIVMnmiJun8ixM0ZHJuSEcbgNh/xgn8AV4eGujAt53gWbf33ZD\n",
       "mdwU8d/x9ajTGpO8zjk27sWA4iH7OoHT4qaSkfI4G21YcnMs/pl4xQBa2lUcV00bRUlmfvW4jLxK\n",
       "yvjRR31h0YKRTm8c1xwPuiv10ZJ7hXxYssXNfRPKjGjXWi1gLp3iOK7WAtQFFc6EN0PNHtAyHZPM\n",
       "lExH/HZn7PtgP1HK7D9n6ZLAGCFxGQAAAABJRU5ErkJggg==\n",
       "\" style=\"display:inline;vertical-align:middle;\" /></a><br>"
      ],
      "text/plain": [
       "Q__b_1_to_i: Q(b_{1}, b_{2}, ..., b_{i})"
      ]
     },
     "execution_count": 113,
     "metadata": {},
     "output_type": "execute_result"
    }
   ],
   "source": [
    "Q__b_1_to_i = Function(Q, b_1_to_i)"
   ]
  },
  {
   "cell_type": "code",
   "execution_count": 114,
   "metadata": {},
   "outputs": [
    {
     "data": {
      "text/html": [
       "<strong id=\"Q__c_1_to_i\">Q__c_1_to_i:</strong> <a class=\"ProveItLink\" href=\"../__pv_it/common/7a21ce6b91940f9c540872f6afba85402663d0aa0/common_expr.ipynb\"><img src=\"data:image/png;base64,iVBORw0KGgoAAAANSUhEUgAAAI0AAAAVBAMAAACJRXC4AAAAMFBMVEX///+IiIiqqqq6uroiIiIQ\n",
       "EBBERETu7u7MzMwyMjKYmJhUVFRmZmZ2dnbc3NwAAABtgPhfAAAAAXRSTlMAQObYZgAAAAlwSFlz\n",
       "AAAOxAAADsQBlSsOGwAAAf5JREFUOMudVL1LHFEQ/533seu5u642goJsIQS7y38QRDFFxLOxEj3/\n",
       "AGFTWCgErwxEyBaBlJ6VIhamEkzhFWphcwoWfuIKomCjQcQPkHPmvX3ueuEsduDmZmZ/82Nm3nsD\n",
       "RMRCPPFr/NaYPB9lFccna8Jo2InJkyixPiiiyWNjCnHlN2cXSI2wtx2bZ5l+v9hYZ5WPzZN2YTyw\n",
       "cVqk8XixeRpLuOa2UMkBBo/ZbFmMfN9tL76br9DmCioOG3O+IIXVg60Qdu4YhfdoBFqj1KyHQZcC\n",
       "2h2pFDGmdjCEadXgANL2t6PVujwCbdo0kjyYAdknHhb1ViFWveWThBn3pMrYqMvDaCH6DXr5f9IL\n",
       "eIbFfQx40tzULa7rzmhYGck8nXjSwaYv+9L+RXlmqGIs1OcR6GSHzPjpLF6ZoxzOUBr1lxQ8GgWa\n",
       "afBU4570ajhYMfprMzWXLSAxapt/3eDw+LD2Bc8MdUqHZRah90tPe0SNIdCXXZBX5sfEXg5cuk7p\n",
       "5uG8K3hSlI2TpTbgwg28L9x7WRkcEehx9nKioVxCbJDPQc1iPh/UHSlbfuiFoiLaPdVwLszMSvfr\n",
       "a3vlUTvk4vusG3qhqEiDV1Yv3Kg+SD6516yDZxuaHeDGqlWEXjhnFdH++LDkrdf7HBmKPILE20X1\n",
       "/+qKOpmaxXoW87l3Ai+ecnz9czHo2wAAAABJRU5ErkJggg==\n",
       "\" style=\"display:inline;vertical-align:middle;\" /></a><br>"
      ],
      "text/plain": [
       "Q__c_1_to_i: Q(c_{1}, c_{2}, ..., c_{i})"
      ]
     },
     "execution_count": 114,
     "metadata": {},
     "output_type": "execute_result"
    }
   ],
   "source": [
    "Q__c_1_to_i = Function(Q, c_1_to_i)"
   ]
  },
  {
   "cell_type": "code",
   "execution_count": 115,
   "metadata": {},
   "outputs": [
    {
     "data": {
      "text/html": [
       "<strong id=\"R__x_1_to_n\">R__x_1_to_n:</strong> <a class=\"ProveItLink\" href=\"../__pv_it/common/a03cebe8a7e683bb134d1195c2d0492e93e057940/common_expr.ipynb\"><img src=\"data:image/png;base64,iVBORw0KGgoAAAANSUhEUgAAAJoAAAAVBAMAAABMN+opAAAAMFBMVEX///+YmJgQEBDu7u5mZmZ2\n",
       "dna6uroiIiIyMjLMzMzc3NyqqqpUVFRERESIiIgAAACCFtC2AAAAAXRSTlMAQObYZgAAAAlwSFlz\n",
       "AAAOxAAADsQBlSsOGwAAAfhJREFUOMulVM0rRFEU//HezJg3jCmSj2RkZ8EUyopnIVZiIQtCthRF\n",
       "pCyGP4C3YCHFpCwZoSyN2KpZWfjqWcjCR6SEMM6dd+d9zJuxeafOeed3znm/d+65913AJBKcSPrb\n",
       "D47Y3CqzT4mr60vm+LodseE2aX+AaIyezc7IkBci4/0FCr7IaXPIliOT8X8SLWMLOmRDDWvwBdiI\n",
       "09jCTtnmSQvjkOboKdImCM8nK/1GOg1mEEvFAOn4zd2pwnoMECMe1Q6jNg1mEEtFKelQRDhju+HZ\n",
       "BcpRFTqGUMrTGmwaOMnKplVw2SNdoMWyk5Y7DCjoJG/9nqc1KCN7f1oFlw3Sb6A1xtmAOmYO9QIG\n",
       "3xFVsq+1znBH6Id4BY5kvlK4v9BgYkvCov/YkhXFZc+y1oT4RqNTvXSCVQjn+UF0a2w0yhREH/n2\n",
       "7USqQiipRi2hSmCT2KrUUcAVg++zMejeTbIJH9Chd5KGEdZiVkerkFrCIBa0w9XbG4C4SKfDOwGh\n",
       "Sz2o4HObCelwm/r0ECOm2EDklEMRXpGvutmPNG1ufVb3GJsvpF9cshQB9m1LNSK5iigrkCbM2WIL\n",
       "m0tH26vLxGy/roxIFJ41BWLAnC2IcGdraRBo0eP1iQStSbXtghEZg7+HvmpNx80o7W2/rTVb5MIK\n",
       "dxzdIP4I/gCr6oYqt5uSOgAAAABJRU5ErkJggg==\n",
       "\" style=\"display:inline;vertical-align:middle;\" /></a><br>"
      ],
      "text/plain": [
       "R__x_1_to_n: R(x_{1}, x_{2}, ..., x_{n})"
      ]
     },
     "execution_count": 115,
     "metadata": {},
     "output_type": "execute_result"
    }
   ],
   "source": [
    "R__x_1_to_n = Function(R, x_1_to_n)"
   ]
  },
  {
   "cell_type": "code",
   "execution_count": 116,
   "metadata": {},
   "outputs": [
    {
     "data": {
      "text/html": [
       "<strong id=\"R__y_1_to_n\">R__y_1_to_n:</strong> <a class=\"ProveItLink\" href=\"../__pv_it/common/058de70c8a930c1efc3b555746fa64d032ab18070/common_expr.ipynb\"><img src=\"data:image/png;base64,iVBORw0KGgoAAAANSUhEUgAAAJUAAAAVBAMAAAC9PLGkAAAAMFBMVEX///+YmJgQEBDu7u5mZmZ2\n",
       "dna6uroiIiIyMjLMzMzc3NyqqqpUVFRERESIiIgAAACCFtC2AAAAAXRSTlMAQObYZgAAAAlwSFlz\n",
       "AAAOxAAADsQBlSsOGwAAAilJREFUOMulVE1oE0EU/rKz+dlNk+zBgyebqwhl9eShtA0t6kEwl0BP\n",
       "NfQqNIKCFESC3rW3IkIb2orgQaMexJN7sDcrC57EKIuktFSESC+mqPG92ckmzZIc3IGdeTvvm2/f\n",
       "+97bAfqGif8ftYH37xG4luT8o9P48pmNdDECV9aSyx/guUPreUQZ93gy/gKZIzIKkbhOyOjaQIq5\n",
       "8pG4NJumVAtYd0muaiSuFAuWc2HeplUn6acKEE7gFk0Lk6PO9wPifK7ydffdiiIuvkSsFUDj6TzG\n",
       "R3H1A2Kc1tWa2OFck3UY9YsYc8VJ5X6kX8eOKL23h3FJgLLTLPddSpM7SytDYAKat7an3LbmYUIH\n",
       "HRgyJEDZBufzG5h2fC4kDrG+gtddbMU22rmy2R6aJAOUmaC4Ej+BtzN+jtCr+IYe1yVk8zF7BJcE\n",
       "FNaanCNFrx+SZJ5B/erR46DhcwmGNngDcUKFJQsAZxctjf7sGLXVBnGNe9f8ouoOh8lc01yWy6hQ\n",
       "cVdtiF9qKzB6gM195GzZUvFSyYJ+n44Y9Hmx3TzyuZI3aJpcuFKD+ZGsW4ROshI3oYwe4AMW+b3c\n",
       "H/WybJmq0uuV3JsHtvCU1AgnGQBOY44kejL4d87jXF1xFZlXnIH56eEsmWHdA0ALy28Gb4ZMDXew\n",
       "DTx+sEDZUiWS3lgRWqdDnTMV1r4LSDjYtWC6x70uXjS7WWe5zKcudH1e+PI7DsgMXNLPIlwTB8A/\n",
       "cZKPcoSp/DwAAAAASUVORK5CYII=\n",
       "\" style=\"display:inline;vertical-align:middle;\" /></a><br>"
      ],
      "text/plain": [
       "R__y_1_to_n: R(y_{1}, y_{2}, ..., y_{n})"
      ]
     },
     "execution_count": 116,
     "metadata": {},
     "output_type": "execute_result"
    }
   ],
   "source": [
    "R__y_1_to_n = Function(R, y_1_to_n)"
   ]
  },
  {
   "cell_type": "code",
   "execution_count": 117,
   "metadata": {},
   "outputs": [
    {
     "data": {
      "text/html": [
       "<strong id=\"R__y_1_to_m\">R__y_1_to_m:</strong> <a class=\"ProveItLink\" href=\"../__pv_it/common/5ef45976e41097d983628f6d48ad528b77d88a100/common_expr.ipynb\"><img src=\"data:image/png;base64,iVBORw0KGgoAAAANSUhEUgAAAJoAAAAVBAMAAABMN+opAAAAMFBMVEX///+YmJgQEBDu7u5mZmZ2\n",
       "dna6uroiIiIyMjLMzMzc3NyqqqpUVFRERESIiIgAAACCFtC2AAAAAXRSTlMAQObYZgAAAAlwSFlz\n",
       "AAAOxAAADsQBlSsOGwAAAjlJREFUOMulVDFoE2EU/nL/JfEuzeUGhy6xAScRyunkUNoGqToIZgk4\n",
       "SA1dHVJQFEEkdnTQ4CIiNMG2i6iNdXD0BrtZCTipUU6NKGgh0sUUNb73311zOUiWe/C/+7973/v4\n",
       "3/vfHRAwHVEsnP0jklrCYb/da314z5tUIZIaPkn/F1i36Xksmhj2WeS0f0B6lzb5iGqxWXJGl2RZ\n",
       "LRdRDQf5gB2g1qS2VaKq3aCVaUK/Rk+VLmE6D2HvRUXbxNSo9BDhHK3yx68vq3xGEyhsINbZi8ZT\n",
       "OUyMUgsRxmmdr4stvo1kA1rjJMaaYtyL3lcXsSWKr6xhapLQhxu0lqhYnjSlBIFJKM7yNy9qKQ4m\n",
       "VVDKEJOEPqzR+gPM2K4aEjuoVfHcD5ctrZsp6d2hpTKhjxZI4BfwYtatFGoFn9FXOwUjF7NGqElC\n",
       "fvmnkeXOU566Q61zNJpg+s7SNlqummByi18gvuiiUJU+4ciCqdgGV5cFHpDahHOBkuiFavNRWW2G\n",
       "p+80ynTRdy0XsRO/gxtJWPmOTJXHC3OIF4sm1FuUpFGzxWZ711VLXiQ3NX+mDv2Nh5Lcj0v+5orl\n",
       "E17jjmwTLgfPflWOUMXr2zP57iywioc+ClrK8gmHsI11apU+cPf7OXa04akVWFkchv723nGJwpML\n",
       "n9Ch02VVapMZjKfruI5NYO32PNVMd5J0xgpQer2ORCGbhkdI2LiJR1+Ax4NfXRNP2yUPGFzMgRMB\n",
       "FDJngMD2bpDwJNIfxKjjPwt3lGHRzBZdAAAAAElFTkSuQmCC\n",
       "\" style=\"display:inline;vertical-align:middle;\" /></a><br>"
      ],
      "text/plain": [
       "R__y_1_to_m: R(y_{1}, y_{2}, ..., y_{m})"
      ]
     },
     "execution_count": 117,
     "metadata": {},
     "output_type": "execute_result"
    }
   ],
   "source": [
    "R__y_1_to_m = Function(R, y_1_to_m)"
   ]
  },
  {
   "cell_type": "code",
   "execution_count": 118,
   "metadata": {},
   "outputs": [
    {
     "data": {
      "text/html": [
       "<strong id=\"R__x_1_to_m_y_1_to_n\">R__x_1_to_m_y_1_to_n:</strong> <a class=\"ProveItLink\" href=\"../__pv_it/common/081fd26d60b6b74d35dbbd36f9f0637bb7b0c2630/common_expr.ipynb\"><img src=\"data:image/png;base64,iVBORw0KGgoAAAANSUhEUgAAARwAAAAVBAMAAABmokyvAAAAMFBMVEX///+YmJgQEBDu7u5mZmZ2\n",
       "dna6uroiIiIyMjLMzMzc3NyqqqpUVFRERESIiIgAAACCFtC2AAAAAXRSTlMAQObYZgAAAAlwSFlz\n",
       "AAAOxAAADsQBlSsOGwAAAwRJREFUSMfFVk1rE1EUPckkaWeSprMoUhVtxJUoZYpdKNQ2VatdiHYT\n",
       "KCi1dKuQgKIUXUR/gAZERIR28GMjaIsK4qrxY2lLQBCqVabQomAMkSKYotb73rzMTDLJuJwH7829\n",
       "7557cnLfnQ/AMRT4Oup//pu/ciIGW79vLH36yIzoiL9ysMzXP8BMnq77fFaDVo0W+S/Qtk7GoN9y\n",
       "Akla4hXSxeQk/JaDnaxEZWC6QK2T9V3OFZrtBSiX6RqiTpZKr2+edMT7i/tTs14E9Qm0s6Kir4nX\n",
       "iMAJOEUz/Xn1TY5VSSVJKBpHHeBkfCGU8WKrTwDC0QS6mngNRg2gk+ZpXZpnLd1CZdiCLu0lpM5q\n",
       "b+mBtZgqpd5qzdjMBOe4Q/rn0ZN1eF4EJlyMJzSv0nmxJ05wHMhhmKypLyIsI5RlFWheITPBObSg\n",
       "gW65lHF4XgQcUHWmaf4GBvJCDszQcwtNYLSPK5Xm1e6u30hrcgXRjMPzJOBwMSbo0fwDmEuKw0Jk\n",
       "HXudctK6pAU0Dzae0LG5lF9eFDvDiCdsOczzJOCAwakVUYbQGrWPIdOj0ID0PpbAiCmHnfaB8VcI\n",
       "s37LQGpQZ4gEadMO7EERJmgJbXkux/YYAdztYwF6JtSgTvY24C7J6TLOUAqRVHoTkVkuR/pF4bkb\n",
       "B0ER3NIwkBV7lsEWM0Hpz6KCITOGY0irXI7tMQJ3sg249xXtTO0QwqmUitA1SpGpBMeNZ1tF71yk\n",
       "eG8pOkjqlHd0lOdo7zw706QwGEIkxAw5gUsC1Dd2QudybI8RcEI7mVNZgAXWNsAFZ+0mLYvJidrF\n",
       "vY+HwFNXrW1EMBcvKOVcFTQKs3csjxNE3adlAXbhMLWLUnP/ddTICdufRYu3DwHurw8bMUP1CRSS\n",
       "HBTOSruFnKpnEoTd3WcByph8QW2sOoNtujAeXB+j94N9s29slCEZLjIbcRaturKgcVCLERuBMvrT\n",
       "sD1O4IBbrVwFRPJYJSmPaqMFp1f383H3f3MLZKDo9iMNvf/CgQ+14cf+vs/jOv4BISDl9dG1tbIA\n",
       "AAAASUVORK5CYII=\n",
       "\" style=\"display:inline;vertical-align:middle;\" /></a><br>"
      ],
      "text/plain": [
       "R__x_1_to_m_y_1_to_n: R(x_{1}, x_{2}, ..., x_{m},y_{1}, y_{2}, ..., y_{n})"
      ]
     },
     "execution_count": 118,
     "metadata": {},
     "output_type": "execute_result"
    }
   ],
   "source": [
    "R__x_1_to_m_y_1_to_n = Function(R, [x_1_to_m, y_1_to_n])"
   ]
  },
  {
   "cell_type": "code",
   "execution_count": 119,
   "metadata": {},
   "outputs": [
    {
     "data": {
      "text/html": [
       "<strong id=\"R__z_1_to_n\">R__z_1_to_n:</strong> <a class=\"ProveItLink\" href=\"../__pv_it/common/9351ca465a12322fcb183925e451200bb1261e9c0/common_expr.ipynb\"><img src=\"data:image/png;base64,iVBORw0KGgoAAAANSUhEUgAAAJQAAAAVBAMAAABS/tqaAAAAMFBMVEX///+YmJgQEBDu7u5mZmZ2\n",
       "dna6uroiIiIyMjLMzMzc3NyqqqpUVFRERESIiIgAAACCFtC2AAAAAXRSTlMAQObYZgAAAAlwSFlz\n",
       "AAAOxAAADsQBlSsOGwAAAepJREFUOMulVM0rRFEU//HeYN4wFImFkI1svM2UFc9CtiTZjM8tRRFN\n",
       "WQx/AG+hJGFSloxYWFJs1ax99SxkISIlhHHOvLnv3Tc+FjOnzrnnd+95v3vO6dwHSKIha8n89C57\n",
       "qgKL7X3y4vKcnUBX9lS4TtlPIH5Ea0sOTCjSyfi/gJJ3ctpzocozyATfiJOp6nKhQgOn9ghsJKhV\n",
       "0Zyo5khLE9BmaVW568sRrcw99qJfRAoIk45f3ZyYnB1tKgv9YTfQi34ROaCKdDCmnHL7C3dp0nT0\n",
       "QKkSc8coFD7+ezA5IC17pPNUI9eWP8Q7IR3rt04sIQOd/+QV0oW3QfoBtB0JKo2n9sC5ldAL4ubf\n",
       "aVmOO0Ij/wQcGukCMQxFomJU/h8VB1RUPxj2/eoztcvy05jSDYFdFNtUnLiN0GejjI4jHaBU1qOJ\n",
       "/Bpgk6hqrVHAR1Wu9d9EUlTKKwTyT9ooZdqikpMK0FqjIAp0wNfbWwZ1gQbBPwF0BRqH7KxmdIG2\n",
       "dRthirtgCGcS6YBiq4DfybScc0Q4TBUQNWmGFnORK/vCyTdVw4Q2IR9WyFQ+AbZXlnQXueL8keIo\n",
       "XDWhep5FScxetxYHgFax25xMSshtuzMGYwh2043e04QELM+R9YMqmIHPvHAn+/9CMIZvSlR3yXHn\n",
       "7ysAAAAASUVORK5CYII=\n",
       "\" style=\"display:inline;vertical-align:middle;\" /></a><br>"
      ],
      "text/plain": [
       "R__z_1_to_n: R(z_{1}, z_{2}, ..., z_{n})"
      ]
     },
     "execution_count": 119,
     "metadata": {},
     "output_type": "execute_result"
    }
   ],
   "source": [
    "R__z_1_to_n = Function(R, z_1_to_n)"
   ]
  },
  {
   "cell_type": "code",
   "execution_count": 120,
   "metadata": {},
   "outputs": [
    {
     "data": {
      "text/html": [
       "<strong id=\"fi\">fi:</strong> <a class=\"ProveItLink\" href=\"../__pv_it/common/47417ab7f1e7f118867e6cd89ca650b18d19923f0/common_expr.ipynb\"><img src=\"data:image/png;base64,iVBORw0KGgoAAAANSUhEUgAAACQAAAAVBAMAAADcCFGjAAAAMFBMVEX///8yMjLc3NyIiIiYmJgi\n",
       "IiJERES6urqqqqoQEBDMzMxUVFTu7u52dnZmZmYAAAD1zdHuAAAAAXRSTlMAQObYZgAAAAlwSFlz\n",
       "AAAOxAAADsQBlSsOGwAAAPVJREFUGNNjYIADJjgBBxYggt0AzOa7ewBIclxgYGB+wGACFrq9sgFI\n",
       "HgRi1gsMjCBphhllIOoJRDvLA5D2P2D2BKiRc4CYNwDE4hCACokAVe6MBqnlA5p+GKT5NhDzg+1l\n",
       "dGBguFAJZDgCsf4CkBBrAwNXw0MgoxOI+8FGcBYw8DBMBjLWA/FVmBADB8hukOZsBqhGBsYNQAe2\n",
       "AjmTwUJsQEvOFwCtdQP6/TtYiHcD0BgmoLVvgQZ8AAtxAR3M7QJkhAPduAHi6ihoqAUwdDM2QNh+\n",
       "EIrPgSHsINRvbApgSo2BwfkRVIgnAUwlIQe0MohgVmAAAPMfMMCw2WWVAAAAAElFTkSuQmCC\n",
       "\" style=\"display:inline;vertical-align:middle;\" /></a><br>"
      ],
      "text/plain": [
       "fi: f(i)"
      ]
     },
     "execution_count": 120,
     "metadata": {},
     "output_type": "execute_result"
    }
   ],
   "source": [
    "fi = Function(f, i)"
   ]
  },
  {
   "cell_type": "code",
   "execution_count": 121,
   "metadata": {},
   "outputs": [
    {
     "data": {
      "text/html": [
       "<strong id=\"fj\">fj:</strong> <a class=\"ProveItLink\" href=\"../__pv_it/common/c0fa75ff73ad8460566542ebda2b9c56866f27420/common_expr.ipynb\"><img src=\"data:image/png;base64,iVBORw0KGgoAAAANSUhEUgAAACYAAAAVBAMAAADY/YGeAAAAMFBMVEX///8yMjLc3NyIiIiYmJgi\n",
       "IiJERES6urqqqqoQEBDMzMxUVFTu7u52dnZmZmYAAAD1zdHuAAAAAXRSTlMAQObYZgAAAAlwSFlz\n",
       "AAAOxAAADsQBlSsOGwAAAQBJREFUGNNjYIADJiQSBizAJLsBmOK7ewBIclwAElw5DCZgsdsrG4Dk\n",
       "QRCTWYCBEaSAYUYZiHoCNYLlAciEP2D2BJi5c4CYNwDE4hCAiYkA1e6MBqnmA1lx2BpkPBDzg21n\n",
       "dAASDziBpCOQob8AJMYKtJtZgR9IdgJ5/WBTOAsYGHgY+oEuWA/kXYWLMTA8BeJKIM5mgOllYIgF\n",
       "4lYgngwWYwPZxPQdSLhBaaArN4D88AFIvAU69gNYjAvkcu4EIBEOdOwGiPOjQBYBDWAKYOhmbICI\n",
       "+TFwN/gDncLnwBB2EOpNNoX1DRFAWo2BwfkRVIwngc8O5MYk5LBXBpPMCgwAFkEwt0kH7LEAAAAA\n",
       "SUVORK5CYII=\n",
       "\" style=\"display:inline;vertical-align:middle;\" /></a><br>"
      ],
      "text/plain": [
       "fj: f(j)"
      ]
     },
     "execution_count": 121,
     "metadata": {},
     "output_type": "execute_result"
    }
   ],
   "source": [
    "fj = Function(f, j)"
   ]
  },
  {
   "cell_type": "code",
   "execution_count": 122,
   "metadata": {},
   "outputs": [
    {
     "data": {
      "text/html": [
       "<strong id=\"fk\">fk:</strong> <a class=\"ProveItLink\" href=\"../__pv_it/common/3580ed132920d60bd6bc70c75976c142582909f50/common_expr.ipynb\"><img src=\"data:image/png;base64,iVBORw0KGgoAAAANSUhEUgAAACgAAAAVBAMAAADGNLEtAAAAMFBMVEX///8yMjLc3NyIiIiYmJgi\n",
       "IiJERES6urqqqqoQEBDMzMxUVFTu7u52dnZmZmYAAAD1zdHuAAAAAXRSTlMAQObYZgAAAAlwSFlz\n",
       "AAAOxAAADsQBlSsOGwAAAQ1JREFUGNNjYIADJhQKCiwgFLsBmOK7ewBIclxg4MkMADJMwIK3VzYA\n",
       "yYNAzPgARICUMMwoA1FPgJgfJMsCkmH/A1Y/AYjrwYrmADEvyCAGDgEgcRMsLQJUvTMapJ7vApCQ\n",
       "Zuh9A7QDZBDYDYwODAw8XziapjAwOAK5+gtAgqxAOzg+VXAJMTB0Arn9YIM4C4BGTAHLrwfiq3BB\n",
       "VrlXIGYlEGczwLSfb6gHKW0F4slgQTagdf4HzjcAKTdgqHwHC/JuYGDYyHB+AdBlb4FWfgALcgG9\n",
       "kMHA/Bjop3CglRsgQRYFD9cAhm7GBgjbDybI58AQdhDKZlOAMtQYGJwfQdk8CVBGEnJ0KEMoZgUG\n",
       "AKLWOiCo07ByAAAAAElFTkSuQmCC\n",
       "\" style=\"display:inline;vertical-align:middle;\" /></a><br>"
      ],
      "text/plain": [
       "fk: f(k)"
      ]
     },
     "execution_count": 122,
     "metadata": {},
     "output_type": "execute_result"
    }
   ],
   "source": [
    "fk = Function(f, k)"
   ]
  },
  {
   "cell_type": "code",
   "execution_count": 123,
   "metadata": {},
   "outputs": [
    {
     "data": {
      "text/html": [
       "<strong id=\"f_jp1\">f_jp1:</strong> <a class=\"ProveItLink\" href=\"../__pv_it/common/c03c5e69232b3f082f258b88c5a41cca00547a840/common_expr.ipynb\"><img src=\"data:image/png;base64,iVBORw0KGgoAAAANSUhEUgAAAEoAAAAVBAMAAAATJmVgAAAAMFBMVEX///8yMjLc3NyIiIiYmJgi\n",
       "IiJERES6urqqqqoQEBDMzMxUVFTu7u52dnZmZmYAAAD1zdHuAAAAAXRSTlMAQObYZgAAAAlwSFlz\n",
       "AAAOxAAADsQBlSsOGwAAATRJREFUKM9jYIADJgbsAFXcAocqdgMwxXf3AJDkuAAkuHLQlCwFSpmA\n",
       "WbdXNgDJgyAmswCKGp598kBVjCBDGGaUgagnyNIlMIY9UIrlAcjeP2D+BGRVzciqGOYAMW8AiMsh\n",
       "gFuVCNC8ndEgE/lAjj9sjVXVbSDmB/uU0QFIPOB0wKbKEYj1F4C4rEB/MivwN2BT1QnE/WAuZwHQ\n",
       "4wz9IMGnoaEzQ0OjEarWA/FVuCqgAqzuqgTibAaYjQwMsVhVtQLxZDCXDeQHpu9YVbnBZXg3AAmW\n",
       "D+iq7isAibfA4ITIcIHCljsBTdXu+dLAsAkHBucGiEAUyAsG6GaBE1gAQzcjNIj8GLgb/A+gxzY4\n",
       "ZTkwhB2EstkU1jdEYE2GagwMzo9gaSmBz64Aq6okZI4yjhTNrMAAAE9PSiUY5GM/AAAAAElFTkSu\n",
       "QmCC\n",
       "\" style=\"display:inline;vertical-align:middle;\" /></a><br>"
      ],
      "text/plain": [
       "f_jp1: f(j + 1)"
      ]
     },
     "execution_count": 123,
     "metadata": {},
     "output_type": "execute_result"
    }
   ],
   "source": [
    "f_jp1 = Function(f, Add(j, one))"
   ]
  },
  {
   "cell_type": "code",
   "execution_count": 124,
   "metadata": {},
   "outputs": [
    {
     "data": {
      "text/html": [
       "<strong id=\"f_1_to_n\">f_1_to_n:</strong> <a class=\"ProveItLink\" href=\"../__pv_it/common/43b754cf68eaa443709a6d8b0599284558b3f64a0/common_expr.ipynb\"><img src=\"data:image/png;base64,iVBORw0KGgoAAAANSUhEUgAAAHEAAAASBAMAAACeMCwXAAAAMFBMVEX///8yMjLc3NyIiIiYmJgi\n",
       "IiJERES6urqqqqoQEBDMzMxUVFTu7u52dnZmZmYAAAD1zdHuAAAAAXRSTlMAQObYZgAAAAlwSFlz\n",
       "AAAOxAAADsQBlSsOGwAAAWdJREFUOMtjYGBg4Lt7gAEJvL3DgBcgKb+9sgFJgnfXDPw6kZTPKEO2\n",
       "k7M9B79OhHL2PygS9Qfwa0RSzhuAInMVv0Yk5Sw7ox8gSXhP3YdXI7JyfgMUqc8E7ERSrr+AgccR\n",
       "zmP6xcBzdzcevwKVw0A/A8NiUziP4wMDHwNfAG6d/ahB0oocAPwFQItxAqQQzEbRybaBgeUAPp1A\n",
       "5X5exuBQmgzVCfEbpwHEYh5MPRAFkxl43KcwTAIFyXeITp6PkAAoABJLDzCcF4AKgRgIHkg502EB\n",
       "hj+QIIHYGXoAFgBMwPTHGgNkxAEx6wMYAVYAUs5twD4BlPQ3QHVygHW+BmI9BiUGhh4M14IVgJRz\n",
       "LuB7sIChm7EBqpMXJLlBAmhl1qo3DAwXMNMdEIOV6zOwrljAEHYQyNeVv8zAcBjkqhyghzj////A\n",
       "wGOAoROkAKy8moH5CgOD8yOYBEgpi50ClMeMGbYgBQjlAA5JY4M0QN4EAAAAAElFTkSuQmCC\n",
       "\" style=\"display:inline;vertical-align:middle;\" /></a><br>"
      ],
      "text/plain": [
       "f_1_to_n: f_{1}, f_{2}, ..., f_{n}"
      ]
     },
     "execution_count": 124,
     "metadata": {},
     "output_type": "execute_result"
    }
   ],
   "source": [
    "f_1_to_n = var_range(f, one, n)"
   ]
  },
  {
   "cell_type": "code",
   "execution_count": 125,
   "metadata": {},
   "outputs": [
    {
     "data": {
      "text/html": [
       "<strong id=\"f_m_to_n\">f_m_to_n:</strong> <a class=\"ProveItLink\" href=\"../__pv_it/common/10969d9b175661bdedecdce04bc3bc423a617f170/common_expr.ipynb\"><img src=\"data:image/png;base64,iVBORw0KGgoAAAANSUhEUgAAAJMAAAATBAMAAABmeyL+AAAAMFBMVEX///8yMjLc3NyIiIiYmJgi\n",
       "IiJERES6urqqqqoQEBDMzMxUVFTu7u52dnZmZmYAAAD1zdHuAAAAAXRSTlMAQObYZgAAAAlwSFlz\n",
       "AAAOxAAADsQBlSsOGwAAAbRJREFUOMuVlD1Iw0AcxV+Txn6YfuDk2F0hkYpLRQpCBQXpogiKdCqo\n",
       "HZwEcbCbg4UWP6DoEnCxW6CTDhJpdyvopEIRcZFCxUEoFbykSb1coTYH/8Dx7v1y9/K/AEDwRYN9\n",
       "NJ7hYFD+p1LWrgWui05QlL+4w+zKd5Bxgvrze9qstq85IVH+QJIVH52QKL/7arVu1xZObxyQaH9I\n",
       "ZtUvR7ui/JLCaFyLXV0N90FR/jyreZt005DyR5N9UPk+Idu+w5AB74ei/FvA4nxUndzsulW43y5i\n",
       "fEIZCNXxG9EfQ5w7wTligNjpUBnV3bhP5VUaJfZCOu3X8R/pIX+Dq4TRQgO4M+KVtjE+gZASrNEo\n",
       "XRM/YS7qzix/2wx5WPYXsAIIa1aOZZQgZPGe3kin4wbK0NZJCXXrsaR1/Z6C/onIMXwKn+KaJJqc\n",
       "jvogdYYpSH5bVrmeA3q1rj9YV3DoItdaIlx3iryIHMmrjpJdN8m+EkEbqtZ7ZUiZfuFSwfItme/B\n",
       "FeHKGkTSuEKGxOBRMYKxaRPF3f/IhsaMCinTzz8As6+Uxut3aiYCtq8sjRk63Ob/5xc58Mpflsty\n",
       "7MKum24AAAAASUVORK5CYII=\n",
       "\" style=\"display:inline;vertical-align:middle;\" /></a><br>"
      ],
      "text/plain": [
       "f_m_to_n: f_{m}, f_{m + 1}, ..., f_{n}"
      ]
     },
     "execution_count": 125,
     "metadata": {},
     "output_type": "execute_result"
    }
   ],
   "source": [
    "f_m_to_n = var_range(f, m, n)"
   ]
  },
  {
   "cell_type": "code",
   "execution_count": 126,
   "metadata": {},
   "outputs": [
    {
     "data": {
      "text/html": [
       "<strong id=\"f_1_to_i\">f_1_to_i:</strong> <a class=\"ProveItLink\" href=\"../__pv_it/common/4be956e237855efb3d8f1433fb720934fc21d5af0/common_expr.ipynb\"><img src=\"data:image/png;base64,iVBORw0KGgoAAAANSUhEUgAAALcAAAAVBAMAAAD2lGJJAAAAMFBMVEX///8yMjLc3NyIiIiYmJgi\n",
       "IiJERES6urqqqqoQEBDMzMxUVFTu7u52dnZmZmYAAAD1zdHuAAAAAXRSTlMAQObYZgAAAAlwSFlz\n",
       "AAAOxAAADsQBlSsOGwAAAoRJREFUOMuNlT1oFEEUx/+397l3t+sWKQQtDr9Kc4iFhRwngk0gbOMH\n",
       "RsOhnaY4EAQrTSEiIeRAxBQWaQQtxCvSxEIuCDYW2qRS0YidJFySIhAOznnzZmZnN2G9gd2d3f9/\n",
       "f/tm3ptZwLRa7BJv/NDBSM3Zz8k+4uu9A+xKK9ZHgp+zOf6PnjjPi6N8Q4CatnHjO1g7vX4HOPsf\n",
       "rHSXvopTQ3O+vRGBVQPg8/pA3B613N77RUjNaeFnG5leKpvdq9S9qTmL98U7Pn0oS/BJy+4+mYHU\n",
       "KjW4HeR+pcLZ/UfdSU5xIAVouGuF97CnNHeAyjbwMhXO7o7+FN15IXVnDTxjTfoalFYJUdkDxlLh\n",
       "0l0K1B1xcitTNNgNA/e6xj3x/AO0hnxfpCeNzW5f5LPaaCrOIVlgYwaeCyL/DoyGd8J3ITXyHR2w\n",
       "V+wozvgSPbtm4KVOtBz2YDRMieNp6uKR7rwovdd+oDgLUnlh4OW+sZf6kea3KPo0OLvdNtBz64qz\n",
       "loAXo8g516xN0OlBapmHGo6FnuLcRWJaQmMvdI0m1t0x4HEanN00LThSVZxnUrkdJZTGz7Xu1o32\n",
       "FjgPXILR7Ga7C+Jc3fWY4+zyHiAHtq1raUs+HG9rzZne3Ay5KKX2JUh2tJsqsNw/wRyVtFfiqKxs\n",
       "LYtxkeeyDIZzTVp+OBwKzFUoLU9rYxqqY7vLNBvLTeb4PK/5JT3GkzLz0v4Xcc0JIy1WJ7b7esSZ\n",
       "y/BeHe1JcuPx6JXuYcQ1ubtJLVEntnsy4lxZVf1bOjrKJz5SwDNBQjsFrcVbzF2oGc7F38rwCbZG\n",
       "ic81agmNP7L/fxRzV1v2N1TE6p0zBy1s1rK1kX5zxzXnH4i1pqjV27shAAAAAElFTkSuQmCC\n",
       "\" style=\"display:inline;vertical-align:middle;\" /></a><br>"
      ],
      "text/plain": [
       "f_1_to_i: f(1), f(2), ..., f(i)"
      ]
     },
     "execution_count": 126,
     "metadata": {},
     "output_type": "execute_result"
    }
   ],
   "source": [
    "f_1_to_i = ExprRange(a, fa, one, i)"
   ]
  },
  {
   "cell_type": "code",
   "execution_count": 127,
   "metadata": {},
   "outputs": [
    {
     "data": {
      "text/html": [
       "<strong id=\"f_1_to_j\">f_1_to_j:</strong> <a class=\"ProveItLink\" href=\"../__pv_it/common/ace88e439878e756ae68e7ec10e79888b0d40d070/common_expr.ipynb\"><img src=\"data:image/png;base64,iVBORw0KGgoAAAANSUhEUgAAALoAAAAVBAMAAAADaun5AAAAMFBMVEX///8yMjLc3NyIiIiYmJgi\n",
       "IiJERES6urqqqqoQEBDMzMxUVFTu7u52dnZmZmYAAAD1zdHuAAAAAXRSTlMAQObYZgAAAAlwSFlz\n",
       "AAAOxAAADsQBlSsOGwAAAopJREFUOMuNlT1oFEEUx//3sd7ex55XWFhYHIqWJkYLC5GIYBPQa/zA\n",
       "hHBopykCgmBlUohIIh5EMYVFGgUL8QoRYyEXBBsL06RS0WjAQgxJLAzh4HzvzcfO3S6bPG7fzNz+\n",
       "9r9v5r2ZBaylVVNFjFVdYluLo4+r5kYMnpmQJte/I/Fuuvy1Rd5fBAojdG/QJf98YX8fOLx8DTi2\n",
       "ja6lgWctTX9+zi9bAD4ut6mzz8GDt7PkSxWk6/g2jlQrUdzSZEeg6dmb3KzwnFj9rMPn747x5AZR\n",
       "rCLfQPZ7orqllQmda0u/YdTzToC3pZ+nXxvFDeBJorqltTEd1LjnV4x6yln4JfGTQLGG4hawJ1Hd\n",
       "0tqIzs4P8wzKi0Y9aNrbQ4/eSbJk4K1RipLEHbp0lEWY3i2VIxGLerYSPvDXxED2krhTibGHdBkP\n",
       "oei+OYlswqj7jXCDbUlzSfwwXfeSxB16AJuafqDyPW7UC2uW91X3seyKOsefpO7QLb+t6aUe9VwY\n",
       "u0q4Uh9idyux3B26XNP0dfSsTM3yu5p2rrSV9wN3ktQdGh4XCdMz6la/zSovQUlNSB0VV+l6AZwA\n",
       "zvAwumEjNPp4KYhO/1PT4hcHG6Y2P1UsI5WVHl1drelqWzf32YUjhwbO6drUuSjQs8X59Vc0KYa8\n",
       "EdiE4ymNO50OSVzk4XkK3uM9Im40hgZesyO6rDfPZTPNg+Kn2f1W/3hzpubUto4uTYSeUfRUSp3G\n",
       "4eG1Ip6Wx2/udY4j2AMqiCa0h36TbSv6woLJuP4opeuSJ8qQN2Z27RXdHhL/PprVbrqwKRVI9Okf\n",
       "hqi7b8lwECfNV/BD11uiX6he+ucvNyaxA6oZiNvjSjBT3dGXL6T/Ax78qX5QGzY/AAAAAElFTkSu\n",
       "QmCC\n",
       "\" style=\"display:inline;vertical-align:middle;\" /></a><br>"
      ],
      "text/plain": [
       "f_1_to_j: f(1), f(2), ..., f(j)"
      ]
     },
     "execution_count": 127,
     "metadata": {},
     "output_type": "execute_result"
    }
   ],
   "source": [
    "f_1_to_j = ExprRange(a, fa, one, j)"
   ]
  },
  {
   "cell_type": "code",
   "execution_count": 128,
   "metadata": {},
   "outputs": [
    {
     "data": {
      "text/html": [
       "<strong id=\"f_i_to_j\">f_i_to_j:</strong> <a class=\"ProveItLink\" href=\"../__pv_it/common/04acb176297232f19fcf744e5e0f1d9ce267b0600/common_expr.ipynb\"><img src=\"data:image/png;base64,iVBORw0KGgoAAAANSUhEUgAAANcAAAAVBAMAAAAnc2Y5AAAAMFBMVEX///8yMjLc3NyIiIiYmJgi\n",
       "IiJERES6urqqqqoQEBDMzMxUVFTu7u52dnZmZmYAAAD1zdHuAAAAAXRSTlMAQObYZgAAAAlwSFlz\n",
       "AAAOxAAADsQBlSsOGwAAAqJJREFUSMeVlj9oE1Ecx3/JJb1Lcrne4KZDoepqEIeCECIVR+0SrVol\n",
       "6KhDQBC6nYODqDRQxA4OXQSdkqFLtysBF4dm6RSEVHQUWpcuHfz93v93uTzqg3u8vN/nvt/7vffu\n",
       "dwFQrai6bFsA+I/pbCvm0UvU+Y1p2kvyVV6czWzJoqMfKfbBCGUncM3keOQ9Xs2MQnUN6ZbbRetC\n",
       "9bmkx1/p0ffwKo+gkBo4i4Qxjh7ZOt8PT7G/4DbTuuDFkt56SQa/OFGaGDiLREYCvhx7ZHbbbWbp\n",
       "Cto/ZeOemPtkSLNIxbg/aJhmldTlldHldH2FycRi7pzGeeTVTLOCc9Myuowu7T6klYtwH4eU8ljR\n",
       "IvIHt63ZyjOrDxxehi4Mr0t6viF9R+s4uKF5HsFU634vz6wUuzLTujCptAR9ZZsmywlUk0McvNE4\n",
       "j6wCfIniPLOg5zJTuuAtzCeC3uDb14UQNnHQ1ziPfARIK2QStdv3P7TbA2VWPXKZKV0U3kgFfaAm\n",
       "A1JY1/iBNGPwdGa+MzOtC/Bb0s9AplsYoOZrjfMILiOcD3OXccVlpnV5TWD0JpucQ5n9Lh6dW0B5\n",
       "s8YjT/H3ST33gHQ0a7bUuJt0oXgiaDbgB7NfbLGTDvvsPIjImJb7Ysas/lcea2LDY3mT+mXqQulI\n",
       "0AHf5SomWbuJg3uU+xpT5pHPeO1k3rPa7vEOYl3JPqbBRHbtFCxdqNESEB2JN/OB+PqwfXjHqjaP\n",
       "lLdzKghrl0CxVgtSsHXZYUb6bSEx6qQsu7Q+MmKWZt8qULzGjqYLFVi6teSOqMh39wQxxz+ll6kL\n",
       "6UlU5MmsT3BHsXYbgqXbT1YFvfxTTIYdrexRpyLfZpjxx/OmAw2wdKNmVycj2iK7NeePRbGRb3b1\n",
       "bH8LFhX9D33AtIvkw7yAAAAAAElFTkSuQmCC\n",
       "\" style=\"display:inline;vertical-align:middle;\" /></a><br>"
      ],
      "text/plain": [
       "f_i_to_j: f(i), f(i + 1), ..., f(j)"
      ]
     },
     "execution_count": 128,
     "metadata": {},
     "output_type": "execute_result"
    }
   ],
   "source": [
    "f_i_to_j = ExprRange(a, fa, i, j)"
   ]
  },
  {
   "cell_type": "code",
   "execution_count": 129,
   "metadata": {},
   "outputs": [
    {
     "data": {
      "text/html": [
       "<strong id=\"f_i_to_j_dec\">f_i_to_j_dec:</strong> <a class=\"ProveItLink\" href=\"../__pv_it/common/a3c2d9a102de2c02c75187371636811542af56dd0/common_expr.ipynb\"><img src=\"data:image/png;base64,iVBORw0KGgoAAAANSUhEUgAAANcAAAAVBAMAAAAnc2Y5AAAAMFBMVEX///8yMjLc3NyIiIiYmJgi\n",
       "IiJERES6urqqqqoQEBDMzMxUVFTu7u52dnZmZmYAAAD1zdHuAAAAAXRSTlMAQObYZgAAAAlwSFlz\n",
       "AAAOxAAADsQBlSsOGwAAAplJREFUSMeVlj9oE1Ecx3/JJc3lcrneoJMOhaqrQRwKQogojtqlWrRK\n",
       "0FGHgCB0OwcHqdJABx0csgg6pUOXblcCLg7N0ikIqegotC5dOvj7vb/3Lu8e9cE9fnm/z32/93vv\n",
       "3bsAqFZWXb4tAPzHcL6VbfQSdbXWLO0ldpWXZzNbMujoR4q9P0bZKVzPcjzzHq92TiFYQ7rjdtG6\n",
       "ELyQ9OQrPfoeXtUxlNIMzjJhjNFjU+f74Sn2F91mWhe8WNIfX5HBL05UphmcZSJbAR6Z3XWbGbqC\n",
       "rp2yuC/GPmmaZ+pQZFZPXV45XU43lyn0YzF2TuM887rQrORctJwuoyu7j2jmIlzHEZU8UbTI/MFl\n",
       "a3dsZs1th1dGF0Y3JD3fkr7jdQxuap5nsNRmrW8zq8SuyrQuTOsdQV8d0GA1gSA5xOCtxnlmFeBL\n",
       "FNvM/L7LTOmCtzCfCHqTL18PQtjCYKhxnvkAkNbpKcPzK9QGyiw4cpkpXRTeTAV9oAZ9UljX+IE0\n",
       "Y/BsZTVnZVoX4Lekn4Mst7SNmm80zjM4jXAhtE7jsstM6/IzgdFbbHAOJ2q/h1vnDk0Yx3nmGf4+\n",
       "aVo3SFez2ZZm7iZdKJ8ImgV8Yw7LHbbTYZ/tB5GZ0HRfyr9Ef+W2JjY8ljepX1ldqBwJ2uerHGCR\n",
       "jdsYPKDa19j7yDOf8drJvWeN3eMdxHqSfULBVHYrKRi60KApIDoSb+ZD8fVh6/COndo8Ux0Urcpl\n",
       "UKzR/BRMXbaZkd4oJZlzUh67ND8yYxzNRuNn7Hj2oAJDt5HcEyfy/T1BzPFP6RXqQnoSlXla9Anu\n",
       "KtZsIzB0h8mqoG/9FINhVyt71KnMtwIz/njebKIFhm7U7uliRFtkt1r+WJRbdrNrZ/tbsKjofza0\n",
       "sP+ts+Z8AAAAAElFTkSuQmCC\n",
       "\" style=\"display:inline;vertical-align:middle;\" /></a><br>"
      ],
      "text/plain": [
       "f_i_to_j_dec: f(i), f(i - 1), ..., f(j)"
      ]
     },
     "execution_count": 129,
     "metadata": {},
     "output_type": "execute_result"
    }
   ],
   "source": [
    "f_i_to_j_dec = ExprRange(a, fa, i, j, order='decreasing')"
   ]
  },
  {
   "cell_type": "code",
   "execution_count": 130,
   "metadata": {},
   "outputs": [
    {
     "data": {
      "text/html": [
       "<strong id=\"f_i_to_jp1\">f_i_to_jp1:</strong> <a class=\"ProveItLink\" href=\"../__pv_it/common/b4ca45bb418c6cb67fb56ee86104de2abdf322be0/common_expr.ipynb\"><img src=\"data:image/png;base64,iVBORw0KGgoAAAANSUhEUgAAAPoAAAAVBAMAAACd0O5ZAAAAMFBMVEX///8yMjLc3NyIiIiYmJgi\n",
       "IiJERES6urqqqqoQEBDMzMxUVFTu7u52dnZmZmYAAAD1zdHuAAAAAXRSTlMAQObYZgAAAAlwSFlz\n",
       "AAAOxAAADsQBlSsOGwAAAtlJREFUSMeVlj1oFEEUx9/d3sfe1+YKOwUPgrYeYhEQ9ERJqWlWTxPl\n",
       "0FKLA0VIdxIsRCWBICoIpklhdVfYBEE2HNhY5JpUQbyIlkJiY5PC9+bNzszuzi3nQCYz83/v/7uZ\n",
       "3ZlZAFWyqoqXBsB/DMdLdqrxOaqKzWSY07OnP5yOPjdhXKK8bwHW7gg5YzhnBrDyEoQSKeUlHGul\n",
       "Y7UvlB/EtE2UGLX3gSa3jX/5EWQCI0Yo1TorZvm6f4T1iXS69gWnHlGqn08ihlFvHtO/nyzkzEkK\n",
       "xTOmWAzbDtGvptMjvlwehY2LgUQVj0R/TY6/M1hCKRnZbtOkl4I0eMxXlBWTLlC1BeEbrs0xHcvK\n",
       "k4n0TOqDj/la6IjKbS3SCnj4YIe0SnsqVCq/QSoJem2QAjd8YXjeSifUjHCkeYyWsXFJG7BCiyGU\n",
       "BD1XT5u79oVxqWWjE+rMBnXzPSj39rHxTOez0gapJOjuWhpd+YLTmOnZ6IRaFd1SF6qwjo2+zmfl\n",
       "NUjF8/2br3x/oOjlgzS68sX0VYL98v23vr+o6YTaVVEuWS7r/N2Qzkpi7sXUuWtfBFufO6HuQ7hC\n",
       "mQGOPdX5rLRBKsmVX0ija1+A21Y6odZFt4C+O118QefpLOIQVu6BVJJvXUfHmiUwsskXsn+t9Hml\n",
       "0O7pZ1u8wXbEyywV2hdCMem1P+FuotjqYZikeqYv5A7i9O8N3ssuK2VcxcoVbNyg5VoSKFY2QSoG\n",
       "vbJ1+BHDumHsHWqMw8oPIOILlU6M/un98ZZAefLIuCVvXfEsX4g7ipX8huWsE+UUqNhIcQOI+paa\n",
       "8blL1POM3IryyuA7hZY0VMx7pxg5W/kAHCXPWCMbfSu9a0H8lpGo69uyXeBPldPiBqTfqpS7kz5O\n",
       "Oio2WoZmdqHR77Wt+Yi6/CO8czsa5VCllC8T6Px7naTQhIivd6FrzY/MalZ4WT7Wsk07/ex0X1az\n",
       "E8YR9Q/qQdIiOap7nQAAAABJRU5ErkJggg==\n",
       "\" style=\"display:inline;vertical-align:middle;\" /></a><br>"
      ],
      "text/plain": [
       "f_i_to_jp1: f(i), f(i + 1), ..., f(j + 1)"
      ]
     },
     "execution_count": 130,
     "metadata": {},
     "output_type": "execute_result"
    }
   ],
   "source": [
    "f_i_to_jp1 = ExprRange(a, fa, i, Add(j, one))"
   ]
  },
  {
   "cell_type": "code",
   "execution_count": 131,
   "metadata": {},
   "outputs": [
    {
     "data": {
      "text/html": [
       "<strong id=\"f_i_to_jm1\">f_i_to_jm1:</strong> <a class=\"ProveItLink\" href=\"../__pv_it/common/74e5dc33bb8922d3063fe4aab178fe100da8ffdd0/common_expr.ipynb\"><img src=\"data:image/png;base64,iVBORw0KGgoAAAANSUhEUgAAAPoAAAAVBAMAAACd0O5ZAAAAMFBMVEX///8yMjLc3NyIiIiYmJgi\n",
       "IiJERES6urqqqqoQEBDMzMxUVFTu7u52dnZmZmYAAAD1zdHuAAAAAXRSTlMAQObYZgAAAAlwSFlz\n",
       "AAAOxAAADsQBlSsOGwAAAtJJREFUSMeVlj+IE0EUxl+ySXbzby+FnYKBQ1uDWBwIGlGu1DSr8Twl\n",
       "aKlFQBCuWwuLQ+UODtFC8JorrJLC5hBkQ8DG4tJcdYg50VLwbGyu8L2Z2ZnZnckSH9zczHxvvl9m\n",
       "dmdmAWTkZZGOJsB/dKcjP1f/EhVuy0xzQvvwx/PRl2b0C5T/NcLSmyBnChf0BK68BKYkorKKfe1s\n",
       "rPKFyqOUtoMSRx28p8mN8K84gVyk5TCl1uCKHl8Oj7E8lU1XvuA0Ekrt02nEcNSbJ/TvBxcK+iSZ\n",
       "4mtTdOO6Q/Tr2fSEbyouRwLlHrP2puh/q7GYUtYGeS2dXo6y4Clfk85Q9Q7zjdfmhErhytOZ9Fzm\n",
       "g0/5WuiIKuzeoRXw8cGOaZUOZIZQfoFQDHp9mAHXfGF80Uon1AJzpHlM1rByRaVwhRaDKQa90Mia\n",
       "u/KFabltoxPq3DY1iyFUwkOsrKsUrnRBKAbd28yiS19wmguhjU6oDdYs96EGW1gZqBSuvAah+EFw\n",
       "+1UQDCW98juLLn1x+AbBRgHFiqITal9meWS5psbvx3SuGHN3M+eufAF+Wp87oR5CvEK5IfY9Uylc\n",
       "6YJQzJXvZNGVL8BdK51QW6xZQt+9Pr6gy3QW8RSuPAChmG9dT+XqEWmjyRfyf630ZanQ7hnk23yD\n",
       "7bGXWSi0L5ii0+t/4t1EubWjeJBs6b5QMF6Qb02+lz2uVHAVq9ewcouWa5WhuLIDQtHo1d2jD5jW\n",
       "j3PvUWUaF0EECV+o9lLwj+9OthnKF0fGirh12bN8we4orhS3LWcdizMgcxPhRZD0LbesF3wHnufE\n",
       "VhRXBr9TaEljRb933MSpwQ/AiXnGaqPRtxresF4IiLo5EvUS/1Q5y25A+q1SuT/r46Qnc5Mx1keX\n",
       "moOwax2PqKvf4zu3p1AOFVL5PIPOf69jCi1I+PqX+tbxiVktMi/Lx1q+Zaefn+/LanFGP6L+AQym\n",
       "yzCoUHzQAAAAAElFTkSuQmCC\n",
       "\" style=\"display:inline;vertical-align:middle;\" /></a><br>"
      ],
      "text/plain": [
       "f_i_to_jm1: f(i), f(i + 1), ..., f(j - 1)"
      ]
     },
     "execution_count": 131,
     "metadata": {},
     "output_type": "execute_result"
    }
   ],
   "source": [
    "f_i_to_jm1 = ExprRange(a, fa, i, subtract(j, one))"
   ]
  },
  {
   "cell_type": "code",
   "execution_count": 132,
   "metadata": {},
   "outputs": [
    {
     "data": {
      "text/html": [
       "<strong id=\"f_i_to_k\">f_i_to_k:</strong> <a class=\"ProveItLink\" href=\"../__pv_it/common/6c9c14e4221f80d6e4c9108af5d3ad3721df8b560/common_expr.ipynb\"><img src=\"data:image/png;base64,iVBORw0KGgoAAAANSUhEUgAAANkAAAAVBAMAAAA5ulaKAAAAMFBMVEX///8yMjLc3NyIiIiYmJgi\n",
       "IiJERES6urqqqqoQEBDMzMxUVFTu7u52dnZmZmYAAAD1zdHuAAAAAXRSTlMAQObYZgAAAAlwSFlz\n",
       "AAAOxAAADsQBlSsOGwAAAm9JREFUSMeNlj1oFEEUx9995TabvU0QO0WEQ1sXsbhSUSz1mlXUIMFK\n",
       "sTkQxFRZBAtRMZAEUlhca5UTbNJtSGmx21hIEBK1EgUTBJsUvnmzO98M9+CG2Xm///zvzczNHoCI\n",
       "pmjMcA4CnIWpounEB6zpJg5+4J7myXRuAx2Pv+bYBiVAax8uqaCW0SJcxLHLfhuhjh4NQeB77zNs\n",
       "d/DTKaGRK7yWUePTwTG2p/1uUt2g78rxzafM4QdH2moRWoYWui6nxdxu+N2kep7Zcrx7TLnVinmn\n",
       "zK1n2LIkqtts7jNT1CsEEt4b0jwLFXRS8kbGcmt4N05Rf6EBhre377HFi3FjdlnVewI3M5Zbb+Ix\n",
       "U9RwCt78qvD5pDYul7FzRQqMjOXWXvDVJtXR3+D5eoVfGLPRTgZhdoCdl5I3MpZbsOpzE2oIjp6F\n",
       "Jyr8LeVmRxDBGna2JG9k4jS9s5GmE+EW/vG5CTXE62RM+GcxGrApliVvZKzaut7apLpz5ifU+GOo\n",
       "K25M8Iy+kLyRsVdy6HOT6iJbGdf4Go3O4DzFCA/QdXyIOG9k7FOyJFk1ckN9My+yhOPNf/zXgdux\n",
       "1cQD9BsfCjpsZkZ16x3Vp5ux0WEtEk+q+gMU45LjAd/qEMucu4ad26z8RZrayChuc9uHHxEb1ex9\n",
       "1tmvmzTX1Q+h9T3neFz9RO9WbyPai9d0h+sZrTaKcyBYLYLcqUb8VSPj/eqKjWnJ2BKZGe1WpuAX\n",
       "TGnfWW414rd2qv4Mf7eeZ03ESjAz9kt5SbB67DrVDL/6rXqISAsP6MSxxsxYwedp2YnEqda/dJ+0\n",
       "rjr6breL0/1T6Ev8P78qwaV936H9AAAAAElFTkSuQmCC\n",
       "\" style=\"display:inline;vertical-align:middle;\" /></a><br>"
      ],
      "text/plain": [
       "f_i_to_k: f(i), f(i + 1), ..., f(k)"
      ]
     },
     "execution_count": 132,
     "metadata": {},
     "output_type": "execute_result"
    }
   ],
   "source": [
    "f_i_to_k = ExprRange(a, fa, i, k)"
   ]
  },
  {
   "cell_type": "code",
   "execution_count": 133,
   "metadata": {},
   "outputs": [
    {
     "data": {
      "text/html": [
       "<strong id=\"f_i_to_l\">f_i_to_l:</strong> <a class=\"ProveItLink\" href=\"../__pv_it/common/6b5b53885817454ce09e9476d3fc12c854ec63460/common_expr.ipynb\"><img src=\"data:image/png;base64,iVBORw0KGgoAAAANSUhEUgAAANQAAAAVBAMAAADMRN06AAAAMFBMVEX///8yMjLc3NyIiIiYmJgi\n",
       "IiJERES6urqqqqoQEBDMzMxUVFTu7u52dnZmZmYAAAD1zdHuAAAAAXRSTlMAQObYZgAAAAlwSFlz\n",
       "AAAOxAAADsQBlSsOGwAAAnJJREFUSMeNlb9rFEEUx9/9Mpdk77wihWDhQcDWFCliowmKjRADsgpG\n",
       "NKRNiitEuMoDCRIiKAQhgmAaC6u7VoWwIX9Atkl1ij/QSgIRA4Fg4byZN7cz701WH9zs3Hw/33k7\n",
       "M293AQZRHDQ8goMnDgcxn53CZmgiAE+F5wiyJ7iJrX9KVFtNAUpfYNKlPMWPN0qZ/EeS/Y/GXbu/\n",
       "SWz/bUe12+pXSaGQOKynuBFtnVOcx8qovd8g9w3LbjzEy3ejl93b9xQdD2zncsJYGcNPlsn9ldih\n",
       "P1p4TsAr5zB8BeOxm8plA/Eose6bxNbmcKTaIGDM2QFfkanGclPtWXfx2LDld/O4tro6jB1cbH+A\n",
       "ckWm6udluv5ii9zlA2JP6zosTAOkbdWZyWCmyFQzuav6bd2jC8Re2MShSgdGOur4YDVjmSJTreY+\n",
       "usfkhuEJYp+ZcmlBBOuq081gpsCPOH4Zx/NZqm5equoBuaHbJHbPTghVrLg2O9dMkatq5z5Wc9Z9\n",
       "EYhdArvQQk/5VzKYKTLVSl6qUz3rXoqIXTeC2s/dliqXa/jPTMwUmQrZSCYxbn1C2n1YM2zxyCxX\n",
       "3UO3qMplH+2/9LkyxUv1Gfcf2d0GNdo06Kiialn30Y5hzenBiNrZ0auqcxv/xQlIxU314fXZacNW\n",
       "7mKDD+A929FuKip0z6Zm3nrPmO9QiZo3BMJM8VeVsU9l7elUP/m8a4WO6c/Sd0PvFG4uV/zXbcam\n",
       "svYwXe8Mn/fWti2Ypr6c1y1uLldkaDaSH0h0V5YbfN4r3+wnaEFfFnWLdq7I0GxJjqO7fKkZmJdi\n",
       "XBtDKxgPZyo1/+uDb+f9C71suEjtydDGAAAAAElFTkSuQmCC\n",
       "\" style=\"display:inline;vertical-align:middle;\" /></a><br>"
      ],
      "text/plain": [
       "f_i_to_l: f(i), f(i + 1), ..., f(l)"
      ]
     },
     "execution_count": 133,
     "metadata": {},
     "output_type": "execute_result"
    }
   ],
   "source": [
    "f_i_to_l = ExprRange(a, fa, i, l)"
   ]
  },
  {
   "cell_type": "code",
   "execution_count": 134,
   "metadata": {},
   "outputs": [
    {
     "data": {
      "text/html": [
       "<strong id=\"f_j_to_k\">f_j_to_k:</strong> <a class=\"ProveItLink\" href=\"../__pv_it/common/2c8961a3a7be3e369ad1ef08131c877dd997143a0/common_expr.ipynb\"><img src=\"data:image/png;base64,iVBORw0KGgoAAAANSUhEUgAAAN4AAAAVBAMAAADbZk3zAAAAMFBMVEX///8yMjLc3NyIiIiYmJgi\n",
       "IiJERES6urqqqqoQEBDMzMxUVFTu7u52dnZmZmYAAAD1zdHuAAAAAXRSTlMAQObYZgAAAAlwSFlz\n",
       "AAAOxAAADsQBlSsOGwAAAvZJREFUSMeNVk1oE0EUfslmzWazWYN4EBQJiF6N0YMglIrgRTB7ib9V\n",
       "il4UcwgURE9dBRHR0oAt9uAhFwVPjSBiPciWghcPycWDqBCtIvgDbRUskoPz5mdndncS+mDfTGa/\n",
       "fN+8n5kEILQ0G0qgMe3ikPWYpSMDt4NsmNDgDX8A0cTG9Dh1tkwH92NAvNUlzq6DMaoif31AP4Xu\n",
       "cRAlsccgBk5aSO1c9sjkAF18/wS3v0gDKQLsUPCFl3PEO0Wc74tSvfnUhyhYY5I61UNHtzx3FYcv\n",
       "AnNcwedu13GXahRZ8cHox8Aak9SbUTiDotk+fdUMNZS8TdJ5TqWwyqpeLhgmp1AzpoeYM4/SFAUo\n",
       "pUTzlvobg/VSQwuoUL+jC1tJjAtnMUoX22XpEILaIf7Y7CvaNFjD/W2dngJOmkq9HaZ+knpiZsth\n",
       "VL0c8Zmi/MZvsStwYUanp4KTJqmdP9ZNQnCYfNzbwkWT1NMoYVWtpjyn/+hwijwVWNfpKWCNSWpr\n",
       "7Zq9BeAO+TjNuqRBNgHTpKr2iqwVmz4gT2AhvVurnZ6t1dqhngLWmKR2Z6j0fNgTuAjwFZuqGas3\n",
       "1QPX08WXHRqfpDZ3fsfpdfJcARE0wDkk9EL8pnaYTzC72nx6w/QkdcefxABvkec+o0aa9F9sgXFM\n",
       "H9sZ475Ia9HQ9guCnYQQX5HU1aDjk+Eo1+CNnVnh7eusgqKBXQzV+PkrrIle7xT5NyKTCPVT6LS6\n",
       "9GTxnrAxMXncrYkitUDWGx6hex7Tyy+sPuNgk9zccB4nPTEZU9oNqS+BsUwoT5Id8hN7RuRvN4VS\n",
       "vR/sldkKc6PER42C4V4ioXRFpWbny4O7KV9c03m/Gl7cBWRub+P3RA9eZPrx+5oau+W7CT1cUajF\n",
       "z9MonFgUvVia97ER05hTWMKw6uLyuGCvm9qfXAZ2yol+wRWFmk/2ABz5LCDj7kgjfIn4zIjAvYbl\n",
       "b9qGZ2Aj+YcAnUIt9q1idrGhogujPOCAVTb2f4JTGyX4D51ewYSRIalrAAAAAElFTkSuQmCC\n",
       "\" style=\"display:inline;vertical-align:middle;\" /></a><br>"
      ],
      "text/plain": [
       "f_j_to_k: f(j), f(j + 1), ..., f(k)"
      ]
     },
     "execution_count": 134,
     "metadata": {},
     "output_type": "execute_result"
    }
   ],
   "source": [
    "f_j_to_k = ExprRange(a, fa, j, k)"
   ]
  },
  {
   "cell_type": "code",
   "execution_count": 135,
   "metadata": {},
   "outputs": [
    {
     "data": {
      "text/html": [
       "<strong id=\"f_k_to_l\">f_k_to_l:</strong> <a class=\"ProveItLink\" href=\"../__pv_it/common/b74e8a23d941ef77c33170a107ba26dac772e8180/common_expr.ipynb\"><img src=\"data:image/png;base64,iVBORw0KGgoAAAANSUhEUgAAANwAAAAVBAMAAADfk53OAAAAMFBMVEX///8yMjLc3NyIiIiYmJgi\n",
       "IiJERES6urqqqqoQEBDMzMxUVFTu7u52dnZmZmYAAAD1zdHuAAAAAXRSTlMAQObYZgAAAAlwSFlz\n",
       "AAAOxAAADsQBlSsOGwAAAqFJREFUSMeNlj1oFEEUx999bLI5LpdDUggBPQjY5gqLVHpBSCOYNKti\n",
       "REQbxRQpRAwIOSNBggkGEjGC4DUprHI2ggphg2B711whUQx+NH5AjIIQLHxvPnZn5m0WH7yZ2fv/\n",
       "bt7Om7ezCxBZ1upsS/wxVXCswthh2XVXE+jh/aZJpLnl6jFbeh9i67eheHUcB0dNztFsWwsdOsF+\n",
       "vKN2EaCzp9itpxR7Ez2zTU1o0I5mWnHjcOjQ3HpfrhJaBsjvKHb1BnWf0fto7rw5r6MJu64Hx0OH\n",
       "5tZzd5JyVEMvS7b7rxCW0GdE+MfG1rga2R0znEknmPxXD7pXlWyv2BQf1wtvBdJv5MLVeLj+1HAd\n",
       "0d5GH2oINv9igtZYamMzAIvfcb8imGs83FZatJMPNkS9oI8ptk/UZwbTW/ztz64AjMQ403i4kdTV\n",
       "/Yry9VyxtEpMLVaCv3uzcABgPqaZxsPNp0XL7onuLPqyYu/LEprCpK2I2ddjnGnwJQgeBcFEHG49\n",
       "LZy/I7qHAIVdxXaiKb1DX2k47e60ofHVTac+duM6XG5JsddAJ6xVn6ElzMU403i4ubRwXU2dzK5m\n",
       "KNllKWBRjIWtOnajdC2fMqbxcAZtnTkyL/Ivl7Hoam3BZv/IZeN9PINWoy3LtvhT7DTTrHAfKmDQ\n",
       "rbIxkA0MTcmjEMPdqgpW7WYBs3wFcp/wPs/QdRBCkmaGe/VkoGbQHj2iF0ANvPNxqcEaPsJ0W8iW\n",
       "ZHrhXFS88iShuZlmr86hbVug5pscew3N3suoo/dU9M6piQSic80+om3aMcy83zyoTqdtzZ7e1EVU\n",
       "UYMjon2NzjVuMe2UCm6VN1lWV5c0e+Kj1i9aEpUU17jFtPP+pkUd07f5xmCVDSouaSWD+34VVP7r\n",
       "4yFblew/gcfMf28zAr4AAAAASUVORK5CYII=\n",
       "\" style=\"display:inline;vertical-align:middle;\" /></a><br>"
      ],
      "text/plain": [
       "f_k_to_l: f(k), f(k + 1), ..., f(l)"
      ]
     },
     "execution_count": 135,
     "metadata": {},
     "output_type": "execute_result"
    }
   ],
   "source": [
    "f_k_to_l = ExprRange(a, fa, k, l)"
   ]
  },
  {
   "cell_type": "code",
   "execution_count": 136,
   "metadata": {},
   "outputs": [
    {
     "data": {
      "text/html": [
       "<strong id=\"f_ip1_to_j\">f_ip1_to_j:</strong> <a class=\"ProveItLink\" href=\"../__pv_it/common/82b4658e984ae2df06c3134f835b4cd281df84210/common_expr.ipynb\"><img src=\"data:image/png;base64,iVBORw0KGgoAAAANSUhEUgAAAPsAAAAVBAMAAAByEoVnAAAAMFBMVEX///8yMjLc3NyIiIiYmJgi\n",
       "IiJERES6urqqqqoQEBDMzMxUVFTu7u52dnZmZmYAAAD1zdHuAAAAAXRSTlMAQObYZgAAAAlwSFlz\n",
       "AAAOxAAADsQBlSsOGwAAAvJJREFUSMeNlj9oE1Ecx3+5JCa55K4ZRAQdAlXXBqeCEAK6CdrlpNpq\n",
       "i45mCCiCkycdHLQ0UIrtZBZBpx5ShzrYKwEXh2bppEIqrYsYGjsEJFDfv7t7v3cvNF+4l5eXz73v\n",
       "+/3e794FIJQBWpVGHhw6rMrQ0ZN69pFmLOmOzmo0iWj7h0/abJtM28GcOUvGqvLIn++0XSRXRYmo\n",
       "e6apsHFFTmDWAvrbexrMNrnSbUR/3RuQ9rw0Yn1aJW2hSJq7eOZLYPUxq1HkBMliQK8+oWval7DH\n",
       "QZKp/Q3ph9yLGg1CCjIj+h8A1jCrkeLE6MyA9RsStiDb5/zoh2esn5PQbJl/vvFhq4TYuFQnRltT\n",
       "bJriMPuEFOsua59r7D8CbDURG5fqROnU5gwtOJtse2tfZ2954f3XVz6z+iPbX6lie6I5xMYlOUHr\n",
       "SjDzWDlYSfupzj4l5eWItafJnZmGam8eYTauyAk6uaqgJ5p0MO2C6e7p7LNRVRj/2Mc0wDu7qNqn\n",
       "PcRqFDpBsjTmCnqJl0EdCrBMeweOs+Y4M6G9eRhtNO++BvBz1NZ2nNsrjsMz/guzGoVOxGrJF/Ru\n",
       "OJgd6KLPNJTaofbsdhR9ysOsRpETCTKgH0KQkoTn65I/Fd5/yguSD+cKiv0iGCWZ1Shy4qcWo5f5\n",
       "zGSanXpbV3rz9KDjC+deD8j3voXtzTYkfZlF4mFFTmD0xcyswx+CdaOK7a2/wYOywyptos7PTrpt\n",
       "F7D9xW73QGILPbnDGtkJUodiZlFOJklE/hre+/xmb4Mki3qmZ6Pagbfk2lCe+7nj457M3qOdjuiA\n",
       "4wNygjxNE6VtcVLc0Zx6PC7WvqLNb/GINeOnXoxFylJ72YltI6FfJlzp/FdeOUz8KKR58s6KIu/E\n",
       "XzkKqx63gJzy7k3x7rm1HVT1kL8qBk0TFMhq07XgTLsPJ7GKWoCc1t1pQV/9KQYL8/op+bKSNOhK\n",
       "sMIvcBKriC5IcrIr9VjA4/opL+uiLI/OajQe0v8BkWPQNh1PKsEAAAAASUVORK5CYII=\n",
       "\" style=\"display:inline;vertical-align:middle;\" /></a><br>"
      ],
      "text/plain": [
       "f_ip1_to_j: f(i + 1), f(i + 2), ..., f(j)"
      ]
     },
     "execution_count": 136,
     "metadata": {},
     "output_type": "execute_result"
    }
   ],
   "source": [
    "f_ip1_to_j = ExprRange(a, fa, Add(i, one), j)"
   ]
  },
  {
   "cell_type": "code",
   "execution_count": 137,
   "metadata": {},
   "outputs": [
    {
     "data": {
      "text/html": [
       "<strong id=\"f_jp1_to_k\">f_jp1_to_k:</strong> <a class=\"ProveItLink\" href=\"../__pv_it/common/14cfa2eee7e34ccffd72abe7d7cad6ecb5321c4b0/common_expr.ipynb\"><img src=\"data:image/png;base64,iVBORw0KGgoAAAANSUhEUgAAAQIAAAAVBAMAAABfxf30AAAAMFBMVEX///8yMjLc3NyIiIiYmJgi\n",
       "IiJERES6urqqqqoQEBDMzMxUVFTu7u52dnZmZmYAAAD1zdHuAAAAAXRSTlMAQObYZgAAAAlwSFlz\n",
       "AAAOxAAADsQBlSsOGwAAAwZJREFUSMeNVk1oE0EYfdlsbJImaRARoaIL0l4N4kEQakXwIrS9ROtv\n",
       "g14UewgIoqdGQUS0tGCLFYTm0oOnRsGDCu2Wgtf00oNUMaj1oLbUHyiIUOeb2X9nJhnI7GTmzXtv\n",
       "v/3mB/CKAXkxWu6kYqGlYsloDinAbQVJpwqMay0ZiFdC3Ln3NquTS6xKD0egM2zoYKhn7Z0KbKzv\n",
       "rCLeq9cWYqNA5soAXO6Vp+RogXvLh+CZub0MH7MDXdlXUwowupHdBHbrHXCxDM2MNeByT12nx+dQ\n",
       "5N03OcKGzEZgJHV3WAV+DjwG+vQOuFiOZnTQe3Putr98aDyISxYCDvAkMDJiK8HTNuYtpGydASGW\n",
       "8pmIOzvAafJqBzsCI8tq8AtgvoqYNhGE2C2q3vIOxm2+PEuRyFFuLR6WOljxGU5MzqnBwBDTqGkM\n",
       "OGJr1O7E6HfB3cEJuPVGqlfm4GiA45cGjDQbNfO6GAgxCmrmd/L2hODeX6XOBMuLuNVRkTm4F1hx\n",
       "fzRgJNj7J8d1DoTYIM36eSO9XXCPiRwvM1sYI8FcsXh6sliseQ5mA998QwPGF4rDhs6BEHtEEye4\n",
       "mVk3tzgpsCrNg5vRTFKATfLRpo3BsucgsecrHO6rcAMLnJc6uOMzbKtpwKMwLCQHdA6EGH2FemWk\n",
       "6nA/FNREY2xKHRynlljmqYIanF5C3IZZ8sCh7VU8hNgl9uu365UC53aI+CIyN6IOPljO4sn8EJlU\n",
       "VoO71tdXxUrlYF7V84GGJ0ZL8Bnq1SXOLXILaQpeeylC+nq6ky25U9Qs2n4mycFDW1tMK1F2wRfo\n",
       "ezXcxjk/kTHDfpcR/2Rz7pyzg5zxYhzeZJhxsWlyB9+agdHlg0PlAT8ZhViiGuC+H3NWdR/aK/12\n",
       "9GTi0/ifLBHXdjUDi0Mr+38O0jbqivlnHeM+ueBmuTVbGZTmbzevF8n7cL4Z2Ci54EgmUqA8sYsB\n",
       "7mMfXUgp11OWkgo4MZg9VjPwNssFR25FVHlibxC1QmWf6kYlu/qpwDjQ0i3NKHjc/wBEzNrI1YF9\n",
       "zgAAAABJRU5ErkJggg==\n",
       "\" style=\"display:inline;vertical-align:middle;\" /></a><br>"
      ],
      "text/plain": [
       "f_jp1_to_k: f(j + 1), f(j + 2), ..., f(k)"
      ]
     },
     "execution_count": 137,
     "metadata": {},
     "output_type": "execute_result"
    }
   ],
   "source": [
    "f_jp1_to_k = ExprRange(a, fa, Add(j, one), k)"
   ]
  },
  {
   "cell_type": "code",
   "execution_count": 138,
   "metadata": {},
   "outputs": [
    {
     "data": {
      "text/html": [
       "<strong id=\"gi\">gi:</strong> <a class=\"ProveItLink\" href=\"../__pv_it/common/0ba0cd2cf8d3ccd998685cbe78d43bd94dfad9b40/common_expr.ipynb\"><img src=\"data:image/png;base64,iVBORw0KGgoAAAANSUhEUgAAACMAAAAVBAMAAAA+1EraAAAAMFBMVEX///8iIiJmZma6urrMzMxU\n",
       "VFTu7u5EREQQEBAyMjKYmJjc3NyIiIh2dnaqqqoAAADvjgrBAAAAAXRSTlMAQObYZgAAAAlwSFlz\n",
       "AAAOxAAADsQBlSsOGwAAAPNJREFUGNNjYICDDXACBngegEgbZKG3QHyIgWcBQoRtApCQZWCYhhBi\n",
       "gkovQghxwOgEuNBLKM0JUv32zC4gqQs07hCQyxsAxBO424FCs4As5gYGBi6gNe8TGP4AheQYGPyY\n",
       "gFw+oHArA8tvoFAzA0MCxwEGBpYPDCz/GHgaIEIgDQxAzVy/GdgDIBoZprIBNQowcH1gyAfZWwO0\n",
       "8TMv0PgCBrbfDPEg110FGQN0DdMFBgbTs4ogJzoCcRRQOaMBiDcJRDA6QFy/kYHBNYHlC4jJpQAR\n",
       "0mJgiEjIPABmV4NJ7gKQUcoQ6XQwyY4c0txgxacZGADCijSpIlgOSQAAAABJRU5ErkJggg==\n",
       "\" style=\"display:inline;vertical-align:middle;\" /></a><br>"
      ],
      "text/plain": [
       "gi: g(i)"
      ]
     },
     "execution_count": 138,
     "metadata": {},
     "output_type": "execute_result"
    }
   ],
   "source": [
    "gi = Function(g, i)"
   ]
  },
  {
   "cell_type": "code",
   "execution_count": 139,
   "metadata": {},
   "outputs": [
    {
     "data": {
      "text/html": [
       "<strong id=\"gk\">gk:</strong> <a class=\"ProveItLink\" href=\"../__pv_it/common/4b158327635277797044cacdb25b251b4d3a4b4e0/common_expr.ipynb\"><img src=\"data:image/png;base64,iVBORw0KGgoAAAANSUhEUgAAACcAAAAVBAMAAAA3P+qgAAAAMFBMVEX///8iIiJmZma6urrMzMxU\n",
       "VFTu7u5EREQQEBAyMjKYmJjc3NyIiIh2dnaqqqoAAADvjgrBAAAAAXRSTlMAQObYZgAAAAlwSFlz\n",
       "AAAOxAAADsQBlSsOGwAAARRJREFUGNNjYICDDSgUBPA8gNA2yIJvGRjSG0GSCxBibBOAxCQQaxpC\n",
       "kAmk4B+ItQghyAHEzN/ArAS44Esg5m0AsThBet6e2QUkdUHcAL5LCQy8AUDpCdztQIFZQJy/4N2O\n",
       "BQxcQCvfJzD8AQrIAfH7zQ88NzDwAQ1pZWD5DRRoBmKNJSAzWT4wsPxj4GmACkoqOYDc0MDA9ZuB\n",
       "PQCine0f8xcgi0+AgesD0Hwgs4aBgesb2z8eIFXAwPabIR7k2qsMDKwT2L7wAv12gYHB9KwiyHhH\n",
       "Bgb2BwyHjjEwMBowwIKB0QHmt40MDK4JLCDTGbgUYIJaDAwRCZkHwOxqqBh3AchIZQgnHSrIjhwf\n",
       "3BANDKcZGACGjD/270MlxAAAAABJRU5ErkJggg==\n",
       "\" style=\"display:inline;vertical-align:middle;\" /></a><br>"
      ],
      "text/plain": [
       "gk: g(k)"
      ]
     },
     "execution_count": 139,
     "metadata": {},
     "output_type": "execute_result"
    }
   ],
   "source": [
    "gk = Function(g, k)"
   ]
  },
  {
   "cell_type": "code",
   "execution_count": 140,
   "metadata": {},
   "outputs": [
    {
     "data": {
      "text/html": [
       "<strong id=\"gj\">gj:</strong> <a class=\"ProveItLink\" href=\"../__pv_it/common/561dc0bafcb3791c79f0e6c429c4b743f78a81300/common_expr.ipynb\"><img src=\"data:image/png;base64,iVBORw0KGgoAAAANSUhEUgAAACYAAAAVBAMAAADY/YGeAAAAMFBMVEX///8iIiJmZma6urrMzMxU\n",
       "VFTu7u5EREQQEBAyMjKYmJjc3NyIiIh2dnaqqqoAAADvjgrBAAAAAXRSTlMAQObYZgAAAAlwSFlz\n",
       "AAAOxAAADsQBlSsOGwAAAPlJREFUGNNjYICDDWCSmwEJ8DwAU8wHkMTeggj3BIZTCCG2CSDyJAMD\n",
       "ZwJcjGkBlMGlABfjgLPa4KyXcNYskOFndgFJXZCZZwKA5FUGBt4J3O1QWSaGLiC5koHhfQLDHyBL\n",
       "DohPM/wDki8YGFoZWH4DWc1AnMD3DUj6M7D8Y+BpgIoxMAkACQsGrt8M7AFQvQyMF4DEQwauDwz5\n",
       "IOfWgMT2GwCJ5QxsvxniEyAuYGBYzwBxlelZRRDLEUSEgwhhEDEJbJQDkOgBBaAAg2sCyxeo1+O4\n",
       "vkECIyIhExKK1Sz/GEHBuh1knDLE6+kMOmBWNVI4c0OU82xgAAAJNTbMp6ivwQAAAABJRU5ErkJg\n",
       "gg==\n",
       "\" style=\"display:inline;vertical-align:middle;\" /></a><br>"
      ],
      "text/plain": [
       "gj: g(j)"
      ]
     },
     "execution_count": 140,
     "metadata": {},
     "output_type": "execute_result"
    }
   ],
   "source": [
    "gj = Function(g, j)"
   ]
  },
  {
   "cell_type": "code",
   "execution_count": 141,
   "metadata": {},
   "outputs": [
    {
     "data": {
      "text/html": [
       "<strong id=\"g_i_to_j\">g_i_to_j:</strong> <a class=\"ProveItLink\" href=\"../__pv_it/common/2b5f64976cbfdecfcb20797eedc1da8d6f848b930/common_expr.ipynb\"><img src=\"data:image/png;base64,iVBORw0KGgoAAAANSUhEUgAAANMAAAAVBAMAAAAumMZDAAAAMFBMVEX///8iIiJmZma6urrMzMxU\n",
       "VFTu7u5EREQQEBAyMjKYmJjc3NyIiIh2dnaqqqoAAADvjgrBAAAAAXRSTlMAQObYZgAAAAlwSFlz\n",
       "AAAOxAAADsQBlSsOGwAAAqxJREFUSMeNlT2IE0EUx182m80m2eRuRcTGI2J1B0KaA4srzsLWpJLj\n",
       "ENxG5CCQNNpocSJqYxEELcQiWNpk7eSwCAFBiCdBsBAsthKuOAycBM6I+N7MfszuvOg9yOzs/H+Z\n",
       "N/Pe2xmA2Py4yRg3tng4YxUGdgJqN3RYCrptnMjVJwY+xN8InL4Gk+DU02PmGeBQ3WoTou+kYKuH\n",
       "zTmA51lYCLlJauzm6gwYlLEdEZdeCjZCt6+ysKGsJx/1nRmHMrYWdRTYjp5eBrbVcAxVVxrK2C7o\n",
       "8x6Ez1I2AwcLXZX+n6xaD9R5Dz/uYXsRszLC12orqYdIgPYa50pBGSffxjibQTluvw/haq/yGLsv\n",
       "sJfH7ZbjdSQCTC5xrhKUsa/wthvupW73JfzDg9/4vgJw1cDXWhzdRDCDVc5VgjKbmsESwjn8Jh1/\n",
       "KZDwQzDnqD0A8GwUzWlEJ4IFT6gUXffsfddtxa4SVDe7BU08IewG/RsXTbD5B5xdOaMYykdLVYXa\n",
       "jNtV/h+7agbwAaQrgPMSLs+h2JJxgmcWzrYcwqpQanlcAJcXuxr4cBtkAMXJQHB5Ch3K3T3c6VEV\n",
       "PXTphCBXiQCdxoQriwjNGC1rANYvfBTpD5UjCVtzuEHaFwrnXlieHawPRYBmpZ92VaUsJuhx2FHe\n",
       "/EL8PZSnIby+T6GEy/jbxglzFN0cnqaqUHidzlVh63hbRU9Rpx41LqX8+mcKr0lNgXYvYHhKTW5T\n",
       "zvJGtN9BE1K70tBUoYvElsRlcJpqYyjhK575U1RBXT0fJ7qQOm7TaMYw4+Y1aG7KU7YQDDwJb3k7\n",
       "cql35aXZFRfHUBOY+zVGM9bGmD2yXop+0W8GKyG8vn9BArdCSRQYaIJuCZqxoUhVQ952XWPUiOFo\n",
       "kWJ5Y2b1Q97V+EQX/rsY/gtRMsea2LTuuQAAAABJRU5ErkJggg==\n",
       "\" style=\"display:inline;vertical-align:middle;\" /></a><br>"
      ],
      "text/plain": [
       "g_i_to_j: g(i), g(i + 1), ..., g(j)"
      ]
     },
     "execution_count": 141,
     "metadata": {},
     "output_type": "execute_result"
    }
   ],
   "source": [
    "g_i_to_j = ExprRange(x, gx, i, j)"
   ]
  },
  {
   "cell_type": "code",
   "execution_count": 142,
   "metadata": {},
   "outputs": [
    {
     "data": {
      "text/html": [
       "<strong id=\"g_k_to_l\">g_k_to_l:</strong> <a class=\"ProveItLink\" href=\"../__pv_it/common/81fb3379f79d237844332378f3bfe444e36a85b80/common_expr.ipynb\"><img src=\"data:image/png;base64,iVBORw0KGgoAAAANSUhEUgAAANgAAAAVBAMAAADWeD20AAAAMFBMVEX///8iIiJmZma6urrMzMxU\n",
       "VFTu7u5EREQQEBAyMjKYmJjc3NyIiIh2dnaqqqoAAADvjgrBAAAAAXRSTlMAQObYZgAAAAlwSFlz\n",
       "AAAOxAAADsQBlSsOGwAAArtJREFUSMeNVj1oFEEU/pLb2/s/71REQTRqYwLCNYJFirOwsLqrJIjg\n",
       "NhICwl2TSosESWwPCwuxOIIgVjmxMIjFYSHiqYSAhWBxNqKFJmA4SE4O38zs7Ozum8Q8mJl38327\n",
       "7817b98cEEgnskTEtrc/EJFcMGnJ99U6zcka4jJ9IGOfxJTohnZ+AbOL4s1tRtZQVJxjVjKX4joK\n",
       "p6t4b3bcFk0PhPYwTjZQWG5NDmxki8zRWAUyXrAzLnwcCW0lTjaQDIc+TH5gI1tkisYkkJ0IdtLi\n",
       "PQOpeTGygWRQumFjjGyRBRonaSwHOz9pFMQ2MvE8GIgby/w/aUXKQm6blEci/R9e0XxBPFkvbngo\n",
       "1E1lxCBuLES2mPnaI1/G1ymEW/TzM9Fbufu+2Ub791ob2ZYmM4gbM2SLfMFaUx0+SSueAZse/pJ2\n",
       "isbmi/7VDopBxBjEjRmy5WADHCLyGH2lafHQD2AJzpC0ezTOP5Hfz5ZmMwjj5fLxxXK5HhgzZC7p\n",
       "OmrkYLoCuaIGZ4T8gv/GE2erovC0sxziJ0vsc7JaH++gjIkVl5AdIlVXsXJHCVE0xZJP5pAljKW9\n",
       "ja12MA8VxnmXlG+iThoi83fp5QN3lKdFJFOAHLIUiCbHxJNdw92lJUUP7BZIeQp3iJueqstky90u\n",
       "qFJFg6qMQxFjBZFPQ97xldCvTlJ/HX9uq0/o4scz4tHL5EIfb97SsSvi7NRlORQ2lpzZuR4mHxbK\n",
       "hJ7K5GXixoYIskPTivDpCHSPHdMFgOdy/g4LFDkZI0dYsgNkZDs86t9qJVzxHJl60yan5EyucCjS\n",
       "iKPkmFDMnWuoVUOdnfr5jDenXL2jr9WmvFZok0GWOzggx4RylFx2H0s9pbrBS5GXcwqe9WkKysMC\n",
       "cTHkmHRlyirqPmwyl3O+ez2L/929jPUO9LfgtfSog3/LctvwIcfH/gAAAABJRU5ErkJggg==\n",
       "\" style=\"display:inline;vertical-align:middle;\" /></a><br>"
      ],
      "text/plain": [
       "g_k_to_l: g(k), g(k + 1), ..., g(l)"
      ]
     },
     "execution_count": 142,
     "metadata": {},
     "output_type": "execute_result"
    }
   ],
   "source": [
    "g_k_to_l = ExprRange(x, gx, k, l)"
   ]
  },
  {
   "cell_type": "code",
   "execution_count": 143,
   "metadata": {},
   "outputs": [
    {
     "data": {
      "text/html": [
       "<strong id=\"Q__b_1_to_j\">Q__b_1_to_j:</strong> <a class=\"ProveItLink\" href=\"../__pv_it/common/ce93228f195e2de336a01c57f6c6d5270f39878b0/common_expr.ipynb\"><img src=\"data:image/png;base64,iVBORw0KGgoAAAANSUhEUgAAAI4AAAAWBAMAAADk5rkVAAAAMFBMVEX///+IiIiqqqq6uroiIiIQ\n",
       "EBBERETu7u7MzMwyMjKYmJhUVFRmZmZ2dnbc3NwAAABtgPhfAAAAAXRSTlMAQObYZgAAAAlwSFlz\n",
       "AAAOxAAADsQBlSsOGwAAAkBJREFUOMulVE1oE1EQ/jZJ87Z2k257tJccFOnJXDxXqKIHpQpCoUjt\n",
       "xZvKeqigIsmlIFhoQEFQwT35Ax6qF6EibqVFFCR76KU04nrJwUshUtIKNZ03b7Nv05IE4sC+NzP7\n",
       "zbdv5s0sEJMsepP9ccM98iRtZqv8WGIz4ePWpdhrcfVk5/gIfVgu60UMlKRym55ncVy/1+UgTXS/\n",
       "Q9EzpFyW1jd6anHYYK4LTxN9iD74SCqf5HKBMq3HYWNOl7pE6ElY23L/WaTyUHKZloqsdTmORj/B\n",
       "pkwL5Txg+ZTo25FYLk+H3nXk0egNlFl7HpDXBQqPxT99XztOIejEo9Amaa8xIWsgtmhJEeNxBxdx\n",
       "p6RgiTr67Hsb79vyMBopqslRbHG9/9LSR7l9BXbNoTBtq4RB38NKWx6JVtoCTsltthTynEeyhkTI\n",
       "k/IxlvuDzWI7HkaznKAbT+awGoR51WDVIx5qn7LzsgMPo29+Ju0IFnKvfmempTdNU7KNWZd5hOQp\n",
       "iil1++IABXsY7Y2S9gLGtJ35wP2WWQSWcA3MU6BMB9w09al5RlliB/sURgunQtp34MH1tTzk0U0K\n",
       "v1txFU+KosVHOSlVR1k4J3P3mor0MJp6EBjnhPIGt8nZ8Mxcn2PNf4uXDbSlRXuohbJc0fTiKDve\n",
       "xHn80Kjen3e0pSXymDSWlst90uAZQ1o1b3Z914awQ9iVRgPa0nWOPAaVtaoYT6spETMaZ7REGQeO\n",
       "oz1ynG60vvzVwz/14RyRBvhvWf7C2x6yaZQL+TCL7wAAAABJRU5ErkJggg==\n",
       "\" style=\"display:inline;vertical-align:middle;\" /></a><br>"
      ],
      "text/plain": [
       "Q__b_1_to_j: Q(b_{1}, b_{2}, ..., b_{j})"
      ]
     },
     "execution_count": 143,
     "metadata": {},
     "output_type": "execute_result"
    }
   ],
   "source": [
    "Q__b_1_to_j = Function(Q, b_1_to_j)"
   ]
  },
  {
   "cell_type": "code",
   "execution_count": 144,
   "metadata": {},
   "outputs": [
    {
     "data": {
      "text/html": [
       "<strong id=\"Pk_1_to_n\">Pk_1_to_n:</strong> <a class=\"ProveItLink\" href=\"../__pv_it/common/c55e819f79a1dce116c698c425b764bc07b1fd8c0/common_expr.ipynb\"><img src=\"data:image/png;base64,iVBORw0KGgoAAAANSUhEUgAAAMkAAAAVBAMAAAAeFNdiAAAAMFBMVEX///+6urqYmJgiIiLc3Nx2\n",
       "dnaqqqrMzMwQEBDu7u5mZmYyMjJUVFRERESIiIgAAAAee7pSAAAAAXRSTlMAQObYZgAAAAlwSFlz\n",
       "AAAOxAAADsQBlSsOGwAAAqhJREFUSMeNVc9rE0EU/pJsNtnEbgJePJV68aAIilBRKA2UHquL0ptg\n",
       "QQqKhy70D2i82VP3Xn+UigcDheBNUSqoB6XSHDwIliaIeJGSBCxFaoxvZmdmZ7ubNQ9m5m3yffPN\n",
       "vHnzBtCtwnsDsWbomCHMQDzBnuNDqhXL+uEPo8OqCLwg7PV3Pr30mDdPbZG8b5pws7f19RnzTAdG\n",
       "7bULeyxp6hBe/OQTDoGRZRqtOqyPm6RS9AJaqQ58Yd+rwAyyXeBF4g50vDBOyP0lYWooMNE2IdJr\n",
       "AWuJwrfAQrgOvAPuA6cTVXS8ME6wD6jtk5OHUMFywGq71Njmq8CKh+0K8l6Sio4XxgkjHWqkhLtK\n",
       "5XnAarJGTJMi8RbYdlFMPBgdL4wTSg1/n3iqVG4ErJ4fUhT8w5wEsm+SVHT86IfpvZYgkML0OOQO\n",
       "uMoZRSKGcX1OLohPkK4niITwzk7L+iUI7fezJzliXKncDjLzz+y1MnMy/C5laFlmNSmTNXyqPAHj\n",
       "QBCaEnFPqSwpFjs0/wg5d4Mtt5OgouMtqwvztyAcRlVOhNI/UEmzCKeq/7kuCm92cKzuE3L7EhFE\n",
       "7FaQ/vIG84jNw6jAPJd0XXQ8SZTGPE6wuxKxq1TOMo9fi3ZZhoKSJefA9pBusDoRFYji8w4WPIcT\n",
       "iirMPH9vVkROWzySm/JPlo5TtdoTkdOP6wKhnBj8VRc/0y4jFJo9WYIXqW2tvKIUPM8+L9DiNvq7\n",
       "MkVp25P9Pk2VYcvNXKLuMnPWhBODPw48OCUIyjKufBl45M1wJbkonSne34lEbBBeEKSpIsnLJrLh\n",
       "SVSR9MugE1EZhNfqJrfPYpzh/aMjN0G8eQY7fFjRl24AXhACexhSOzKP1dDZdjTHBuADOanqA+34\n",
       "p/2KP3wf9kUWeEb4B57Q0YtcOo6YAAAAAElFTkSuQmCC\n",
       "\" style=\"display:inline;vertical-align:middle;\" /></a><br>"
      ],
      "text/plain": [
       "Pk_1_to_n: P(1), P(2), ..., P(n)"
      ]
     },
     "execution_count": 144,
     "metadata": {},
     "output_type": "execute_result"
    }
   ],
   "source": [
    "Pk_1_to_n = ExprRange(k, Pk, one, n)"
   ]
  },
  {
   "cell_type": "code",
   "execution_count": 145,
   "metadata": {},
   "outputs": [
    {
     "data": {
      "text/html": [
       "<strong id=\"Pk_a1_to_an\">Pk_a1_to_an:</strong> <a class=\"ProveItLink\" href=\"../__pv_it/common/5c2c35c7c80ee6d0c46eb58df214508c6261fe940/common_expr.ipynb\"><img src=\"data:image/png;base64,iVBORw0KGgoAAAANSUhEUgAAAOcAAAAVBAMAAABPgOQBAAAAMFBMVEX///+6urqYmJgiIiLc3Nx2\n",
       "dnaqqqrMzMwQEBDu7u5mZmYyMjJUVFRERESIiIgAAAAee7pSAAAAAXRSTlMAQObYZgAAAAlwSFlz\n",
       "AAAOxAAADsQBlSsOGwAAAuVJREFUSMeNlk1oE0EUgF+S7Sa7MT/HnCReFbEiWuwpoD0otQQleCkl\n",
       "EEXFg4EK3moUQXoQgifBn4SKhwpi8KaX9tKTNeQgqChJ0FZBkayHKqJpfLMzszvbyYwdmN03mfnm\n",
       "vXnz3ssCiC3niwYMbcbw1fpmgIZKFn051B3KfxbkndtVKkKM+j748OpFlUhnxcmPgjGd/ur7RSKZ\n",
       "edHGrE6TAuLUH4DEPL6thjgZr/pyCmfekvHdwL7PtedTQJSKbqIx2MEOWB6u+/JV9PUl4u+FAL5b\n",
       "q1QBUSr5C/sGCrHg5Lwv9srYiZMqgRWxqk6pAqJUwsGOiuFicPKZL3ZIxz3MwAVAXHupCohSqRZ1\n",
       "BTwi0b2yxsN22l/Xp5cANjF8cmaK/TyyrFOqgCiFCicO8aNlconfbHKPhyNrnCoyI0M3oMPcGm5o\n",
       "dKogSvVWCrvcEWq2roM9Cpar77wf5X8LJ9NEiOAmd7LwEKzCKu5hVnQpI0GsuVSHj66hKxyI5GHu\n",
       "kxt9Hk9uncYA7vIU4CDYxDaIOhqlMsRd4NA09ZTGWlDDNSUyzAQyzuNvgfUDUmkDQy9U+U+aBiFe\n",
       "65CKbvARurfWhX3AlJb8jOMlBT1lbULYgXCVKDVHdWkqQwtzX4FSSc+ENiotwkszR/XtJQ/39ntp\n",
       "7rIuWD9hR+MMxiCi4RapY7I+BXQ7k43lKBX3LmaaLDDHbXZIkkGW6/slMdrbUKpjsZqtsmSoNdgy\n",
       "T1BBx75BilJ2p88TcxbXN09PfmFK95PHAVz1ZNDmMYDHu7d+uVkG4x1xHDlM5DA+xolQZ4ISarpx\n",
       "EkmLXomUuUSUGu6FmcFKN8aF43AU4IgrXpDcq4JuwuMop+QSX/LK/wgMLfHGmyuLvJLnJaUqyIGx\n",
       "c1L9f83eE0szACdc8cGW5GP/+7HBwAGDxBFY8r+9Agotw3qWUX67L1uwZUerJW2WlKNXB3kmeN8y\n",
       "wurk8C+gKUFe2+7niggR6h+Rt+SKdmV1tAAAAABJRU5ErkJggg==\n",
       "\" style=\"display:inline;vertical-align:middle;\" /></a><br>"
      ],
      "text/plain": [
       "Pk_a1_to_an: P(a_{1}), P(a_{2}), ..., P(a_{n})"
      ]
     },
     "execution_count": 145,
     "metadata": {},
     "output_type": "execute_result"
    }
   ],
   "source": [
    "Pk_a1_to_an = ExprRange(k, Function(P, IndexedVar(a, k)), one, n)"
   ]
  },
  {
   "cell_type": "code",
   "execution_count": 146,
   "metadata": {},
   "outputs": [
    {
     "data": {
      "text/html": [
       "<strong id=\"Qk_a1_to_an\">Qk_a1_to_an:</strong> <a class=\"ProveItLink\" href=\"../__pv_it/common/2e9465c714f65cbb349c9198a428768396400f640/common_expr.ipynb\"><img src=\"data:image/png;base64,iVBORw0KGgoAAAANSUhEUgAAAOYAAAAVBAMAAACgQo8/AAAAMFBMVEX///+IiIiqqqq6uroiIiIQ\n",
       "EBBERETu7u7MzMwyMjKYmJhUVFRmZmZ2dnbc3NwAAABtgPhfAAAAAXRSTlMAQObYZgAAAAlwSFlz\n",
       "AAAOxAAADsQBlSsOGwAAAy5JREFUSMeNlkFoE0EUhl82m2yabtatIIhgyaFFelCi0JOXYit6qCgK\n",
       "ikViikdR20OFKpJFehCUNgdR8WJB0AqFthelipiDXoSSChWstbgFUbBIY0utChrfm5ndTszO0jnM\n",
       "vrc73/wzb968BEBqlmS7ENjc4NHhzQU1tVmydwfSkfS6HbU3KClDgrI+zD9lrjYtDxyWnG9Tc9zd\n",
       "Kc+1LVwqGOLUrAP1BTL6q77dXjdTdwAmyTAK8oi6njBJBcSo/hwap8h7XfVt1LeMW9jFitiZ8uYh\n",
       "WQyRVEGMuknGC+qOVH2L+buoa8Ouvkzvquc9EaKphJAyf9Lzo4PH+V8M/OWVHAoVjWuppu+GaCoh\n",
       "pJZybEQGY0AptPhmwTuPcS+7f1BvrmA3Re7zRi9h59SSagipEkvkey7fWDQLF0RMk962zWW27b9i\n",
       "Y61ufE18eaTWVENIHSYJYxU7HdX7huElwCWS07zj1dnoPLn7cGgXmG1wZe4Jus1qzSBItGZYZXv6\n",
       "TWeN8S0BHIJEA31PlMWYTUx8jI73GG6gDPo0FGlpMKTWDIJEG4IOevQVhOZxMPAINNKM+vskzzgJ\n",
       "HI/lIJ+BFVjCHGkN2WcAJFor3pJoGl65PLbGd0iWhabmBQMTfg+YWeBhytswBvCQaTapNYOg0ZEG\n",
       "uq9NMJQe+Zpi3+I2GMtYknZxuSQltEFBXk4ODr9ldbob8TRMaujMoPuA3tUWIwX05X4XZBkVydqp\n",
       "Zz3e5eiGpmKRa7Krk6egb1kAljLscsRtrdPEOQ+IW2D8EsOY4XsBkNVbgDVOXT83kwG6wAlUurx9\n",
       "cMLhmjodgE5TJx7Pt0OC8AGcdeLd4laAz7TMdnrXgZZOMesE0amgepvlCKPimQgLwkEvOEzzEzN3\n",
       "8DdnoJFlhuNd+aLlgsVOXKsNrgKKOWbREVR8vKW6qjNNXvFFhp/lhdGv6p+v3egRxTtVm0AKaAn0\n",
       "q46gzAqruRAXv+fW7B8bLFYTDVGxShW+2PMCP12poDAze2tzSAHthch7j0rs5z/kRk4C+QIiwhs4\n",
       "yp8X5bn5XLX/FkIhfwWiLUh2Y3DplhQi7gb/m8gQUf8AIMn03oGAPlgAAAAASUVORK5CYII=\n",
       "\" style=\"display:inline;vertical-align:middle;\" /></a><br>"
      ],
      "text/plain": [
       "Qk_a1_to_an: Q(a_{1}), Q(a_{2}), ..., Q(a_{n})"
      ]
     },
     "execution_count": 146,
     "metadata": {},
     "output_type": "execute_result"
    }
   ],
   "source": [
    "Qk_a1_to_an = ExprRange(k, Function(Q, IndexedVar(a, k)), one, n)"
   ]
  },
  {
   "cell_type": "code",
   "execution_count": 147,
   "metadata": {},
   "outputs": [
    {
     "data": {
      "text/html": [
       "<strong id=\"Qk_implies_Pk_a1_to_an\">Qk_implies_Pk_a1_to_an:</strong> <a class=\"ProveItLink\" href=\"../__pv_it/common/7f247870338b4ee253cc2586466f006c77d868b70/common_expr.ipynb\"><img src=\"data:image/png;base64,iVBORw0KGgoAAAANSUhEUgAAAiEAAAAVBAMAAABiTSMmAAAAMFBMVEX////MzMxUVFRERES6uroi\n",
       "IiIQEBCYmJhmZmYyMjLu7u52dnaqqqqIiIjc3NwAAACW8nlqAAAAAXRSTlMAQObYZgAAAAlwSFlz\n",
       "AAAOxAAADsQBlSsOGwAABL9JREFUWMOVWE2IFEcUfrOzPTPb29uOhEAO6kpyMmFhE4KQwO6GHPbk\n",
       "wggKajxEFCRB1pHksHpxQGRD9rATPAgm4KCgiMisC0aCCOthBQ3E8ZA/jGOjeFBZHH8OiVmzeVVd\n",
       "1dXdVf2mu6Br6vV8/X3vvfrrLgDwIFy8hLapuDGsB4kPe+anjMWjaGk46QMdgJIaWAjfjlgTXQj/\n",
       "imEnkogiVm+LZtVcmEgPj1lZAlBSP7Pqycx8FQIroK+aPBh78fZH37KWMxfDhvEE7e9A0mouGN1I\n",
       "I5QpgEDKrqPR/x3ABnaXW6qcMLmwCjEbG9g4p2EVnqLta1C0BhdOEAkh/c8UgJQqsawcw3ahBr4V\n",
       "KlMmwkEc9bfYyJ/WsApP0RZrFK3BhSkiI6T/mQKQUgXWaRWsejrgW6FSUL35cdC6V8aLjbfPNazC\n",
       "k7RfAkFrcKHQSM4IKZQpACl1A5uzZTbynmF1I4rpUyl/I2iNsQufcOoaVuFJ2uNA0Bpc6CMWElIo\n",
       "UwBSagb3oBd8+L3EaoZtSe+15W7Qv14N9WAVQnTuNXuA3bl/dSmEVXiSdh4IWoMLITe0QgplCkBK\n",
       "YX+VlnmG/hO9N+7lX0kWlsXSVl7+FveQzL20IFLaOwljDYUt1kPDIJn2IBC0BheK9eSMkEKZApBS\n",
       "OwEsTtBkswotey+UKmBzr53QTHN+EJvU8yuXP2ENC1nPVOEowNm6wCp8Au35+XfRvA4EbQwbpdVL\n",
       "gpBkTxeAAuO1B3cj/thhNuXQKnXAmoO1v/J0dkLa5/bwn7y8V0DaWYDPIHe3IrAKn0Bb4/qDQNDG\n",
       "sFFavSQIyfGQKoAQGC9EWSwg+wvBXxiGJkIX+etlKMXu916wmweEu8HG6etUBFbhE2hfwlNc0saB\n",
       "oI1ho7TGjBj9F+/H6QJQYLx28n1rE5QmxRhstuAwiIzwUMU03C4+EgZlB+Cgs19DsSNgrHIqocFs\n",
       "oj3Eo1wEgjaGjdIaZ41JaOrA3VrqAIrTa/9QEYzgSFkurqv+yPFoNRdgg+P5XheH1deIbN6THZBv\n",
       "gb0MPfVffF2G5XhbEBlp4RKaXwFBG8MGtPo7CSH0+Ou9MJk6gLPj1YIXSLGd8Lcl4KsY3xfzLWdb\n",
       "SfajevF/JBsnw5vVCCzWaqIn5gS+WRcbrIk2t0PskYm0Mayktf+R1KxSllnIvVCHV6kDePwnrGoE\n",
       "Um+yJeWdK1sgx0Bo2UMX798WGbGCCQnvi98jKyNyIcI8nLqzbqjsZ4RhOd7a4RMZaR+wrt4CBG0M\n",
       "G9BuRctiM4FX27oI9bT4EpIygCG+tAkpq8z//RDaPAVlScAz8pA8atgcbFsVgfXxNxVRnNatuR64\n",
       "FYo2ilW0jj5tCKFCuVQrpw5gF3yTC6TEZ9cH/iut+gjjGZkmTxemIhmZDvBzkEj7YPVbDe1zLFqi\n",
       "WEXbr0MJoadgrSmnDcDtwOZrSmqU35xd8bM7KkBPTl5F5DBJmBdpd3/6t8WxPt5uQSLt/pUVDJU+\n",
       "xolgFe0FfWUlhD6FgcupA+hdD3eqSuq0P3v3+X+eNj2RdDQxHMP6+IEQkZF2lM6I5oJPq5+8dRXK\n",
       "FICSciNSEavd5VBuKYZtJxFFrIEup5+aC+308JiVJQAp9T+16jY+8gYVwwAAAABJRU5ErkJggg==\n",
       "\" style=\"display:inline;vertical-align:middle;\" /></a><br>"
      ],
      "text/plain": [
       "Qk_implies_Pk_a1_to_an: (Q(a_{1}) => P(a_{1})), (Q(a_{2}) => P(a_{2})), ..., (Q(a_{n}) => P(a_{n}))"
      ]
     },
     "execution_count": 147,
     "metadata": {},
     "output_type": "execute_result"
    }
   ],
   "source": [
    "Qk_implies_Pk_a1_to_an = ExprRange(k, Implies( Function(Q, IndexedVar(a, k)), Function(P, IndexedVar(a, k))), one, n)"
   ]
  },
  {
   "cell_type": "code",
   "execution_count": 148,
   "metadata": {},
   "outputs": [
    {
     "data": {
      "text/html": [
       "<strong id=\"xk_over_y_1_to_n\">xk_over_y_1_to_n:</strong> <a class=\"ProveItLink\" href=\"../__pv_it/common/9ded02dcc1f4068e8e88b8a105aa1d8c0f9477ee0/common_expr.ipynb\"><img src=\"data:image/png;base64,iVBORw0KGgoAAAANSUhEUgAAAIQAAAApBAMAAAAG6JykAAAAMFBMVEX///9ERES6uroQEBAyMjLc\n",
       "3NyYmJgiIiJmZmaqqqp2dnbMzMxUVFSIiIju7u4AAAAd7oVFAAAAAXRSTlMAQObYZgAAAAlwSFlz\n",
       "AAAOxAAADsQBlSsOGwAAAf5JREFUSMftVj1LA0EQHQ2JuXyc9ooEUlmZViSQn5BGsJL7A6KdgihB\n",
       "JVqIHgg2glqkCgh2IqKe2AWFgBZBDEQCQVDRQi0UEje5u73szmbvihQWvmKZe/Nm9nvnAF4fnvM6\n",
       "tAMzGIwmE70JzjJuzGC0awLpQD2iQS1FvSaj5q8rnTNYUSbCECTR4bLTrckEQTYSU0PhK5JGmeWY\n",
       "/pj/RzaTVpSN0bRaYVM0mUBFnqKlyZ6ViPkYu4IQMwqLgZBkIqamFtd8aYD98xUYYVJYDBxLltPU\n",
       "TN1BPxE9lZWszqSwGP+wZBqW5gbiDqegUU/CBLhhHNbDnVP4B0833TL432Fhl37kvovcpjUa724p\n",
       "eg241+Af3UXDQUdGGtX4i7NCF0v1oGEDPnjmLWU1LRc1JJjju+hbajYZ0szbxpx8GApy73nQMAgh\n",
       "5sCDhi0waHWK7hoWKCDqQdMlvGZBNVwYwQkoafBCl2wbAuwLhRnB0isJmLGLm74GkQGm3CFGgBNS\n",
       "MC/pIU6y5U3AiC4DUSTpK1qHiyP2XUWMqCRWwrRkkiJ9y3oxI8AqRBO23WPAEOvFjABDTZndp9H7\n",
       "xY0CMQJswCgtImqh9MntOWIEeDncSrftcQrtesrDmcy1WVWd91XdfvlIJ+oY/ViEAufGDEZfMeK8\n",
       "BDulGOfGjOB5ml42jV8ZvMWBtfdMBgAAAABJRU5ErkJggg==\n",
       "\" style=\"display:inline;vertical-align:middle;\" /></a><br>"
      ],
      "text/plain": [
       "xk_over_y_1_to_n: (x_{1} / y), (x_{2} / y), ..., (x_{n} / y)"
      ]
     },
     "execution_count": 148,
     "metadata": {},
     "output_type": "execute_result"
    }
   ],
   "source": [
    "xk_over_y_1_to_n = ExprRange(k, frac(IndexedVar(x, k), y), one, n)"
   ]
  },
  {
   "cell_type": "code",
   "execution_count": 149,
   "metadata": {},
   "outputs": [
    {
     "data": {
      "text/html": [
       "<strong id=\"i_to_j_len\">i_to_j_len:</strong> <a class=\"ProveItLink\" href=\"../__pv_it/common/e20dc1a4e2bdb53debb76c564b074a43b60103970/common_expr.ipynb\"><img src=\"data:image/png;base64,iVBORw0KGgoAAAANSUhEUgAAAE0AAAASBAMAAADs/06hAAAAMFBMVEX///+6urp2dnYiIiKqqqrc\n",
       "3NyYmJgQEBBmZmZUVFQyMjKIiIju7u5ERETMzMwAAACiJdmqAAAAAXRSTlMAQObYZgAAAAlwSFlz\n",
       "AAAOxAAADsQBlSsOGwAAALdJREFUKM9jYGBg4LvDgAp2oPEfHwBT3AvQxI1QeDwz1h9gwAcYE6CM\n",
       "/fjVsWwgS93pnajSPDsSsKprYE9AUcfEWIBNHXcAvwOKuiccC7Cp42HwB1GnjEHADsg6wA6S5zA2\n",
       "Ni82Np6A5I9mNPf7H8DuXyM0dSt5sKpj/Yjm349MWNWxfUBVx/chDE2dfgCI5LyAZu80tPCbWb8S\n",
       "JMK+gVB8gE1zyD9AKB2AwHsHEwZiAMcOAWKUAQAEBjoSCkHT3QAAAABJRU5ErkJggg==\n",
       "\" style=\"display:inline;vertical-align:middle;\" /></a><br>"
      ],
      "text/plain": [
       "i_to_j_len: j - i + 1"
      ]
     },
     "execution_count": 149,
     "metadata": {},
     "output_type": "execute_result"
    }
   ],
   "source": [
    "i_to_j_len = Add(j, Neg(i), one)"
   ]
  },
  {
   "cell_type": "code",
   "execution_count": 150,
   "metadata": {},
   "outputs": [
    {
     "data": {
      "text/html": [
       "<strong id=\"j_to_k_len\">j_to_k_len:</strong> <a class=\"ProveItLink\" href=\"../__pv_it/common/beb34a07418dd71ea653992286ade2967423fbce0/common_expr.ipynb\"><img src=\"data:image/png;base64,iVBORw0KGgoAAAANSUhEUgAAAE8AAAASBAMAAADoCp6cAAAAMFBMVEX///+IiIjMzMzc3NyYmJhU\n",
       "VFR2dna6urqqqqpmZmYyMjIiIiIQEBBERETu7u4AAAAsfX+gAAAAAXRSTlMAQObYZgAAAAlwSFlz\n",
       "AAAOxAAADsQBlSsOGwAAANVJREFUKM9j4LuzgQEdMN1DE9B+ACS4JmAoZFyAwuWLXA9SyN/AgAuw\n",
       "O0AZ8iCF9Q9wKuQQQFaYw0CkwqUMbfNQ5R+KYlPI94Wj+Qiqwgk8DlgUcnyuYFqM6mcDmP9QFHIe\n",
       "UQCzX+0GgU2g0GDoBzmJc/fuPad37w6AKeReOQnDE7OxufF9Q70CusJt2BT6P3jfIICqjvk7NoVR\n",
       "DO8VElAVsnxAV5hvwMBwg4FxIlrcsF5AUxh6fqkDtgjhEUA3EStgbfB/gJ4osAL9hh0MRAFOyQJs\n",
       "wgCOmj50HWl7mAAAAABJRU5ErkJggg==\n",
       "\" style=\"display:inline;vertical-align:middle;\" /></a><br>"
      ],
      "text/plain": [
       "j_to_k_len: k - j + 1"
      ]
     },
     "execution_count": 150,
     "metadata": {},
     "output_type": "execute_result"
    }
   ],
   "source": [
    "j_to_k_len = Add(k, Neg(j), one)"
   ]
  },
  {
   "cell_type": "code",
   "execution_count": 151,
   "metadata": {},
   "outputs": [
    {
     "data": {
      "text/html": [
       "<strong id=\"k_to_l_len\">k_to_l_len:</strong> <a class=\"ProveItLink\" href=\"../__pv_it/common/b12c7993a6abfb69d73f06e9f8593a4477cc6ac20/common_expr.ipynb\"><img src=\"data:image/png;base64,iVBORw0KGgoAAAANSUhEUgAAAE4AAAAQBAMAAABKAFSpAAAAMFBMVEX///+qqqq6urru7u4QEBBE\n",
       "RERUVFTc3NyIiIgyMjJmZmaYmJjMzMwiIiJ2dnYAAACPW0xlAAAAAXRSTlMAQObYZgAAAAlwSFlz\n",
       "AAAOxAAADsQBlSsOGwAAAMtJREFUKM9jYHj7hwEFmPoyoAOey0CC+wOa6Cx0ZWYrPwNJrglowh9h\n",
       "DKYNUAYHSB1vA6oyps8wFmMDsrr6A6jq+Bywq9uPZi1nAuMrAyzqUtHU2W8QLNmARZ0Hmjr5IoGT\n",
       "BZjqeL6DWJZ3QeAOiLlkD1iO6+7dK7537ybA1HE4oJl3c9UBbP5gTTBAUcb8kekPNnX8Gx6gqOP+\n",
       "zPyRA5s6ZdRwZpvA/IcPTR0f0A/c61CdxyrA0NWMqo4t5Wc2Ax7A2MBAFICnAyAAAGivP20f3Qly\n",
       "AAAAAElFTkSuQmCC\n",
       "\" style=\"display:inline;vertical-align:middle;\" /></a><br>"
      ],
      "text/plain": [
       "k_to_l_len: l - k + 1"
      ]
     },
     "execution_count": 151,
     "metadata": {},
     "output_type": "execute_result"
    }
   ],
   "source": [
    "k_to_l_len = Add(l, Neg(k), one)"
   ]
  },
  {
   "cell_type": "code",
   "execution_count": 152,
   "metadata": {},
   "outputs": [
    {
     "data": {
      "text/html": [
       "<strong id=\"tuple_len_incr_equiv\">tuple_len_incr_equiv:</strong> <a class=\"ProveItLink\" href=\"../__pv_it/common/b75e8cb17f27f37bebdbf52a38b389bfb326e99f0/common_expr.ipynb\"><img src=\"data:image/png;base64,iVBORw0KGgoAAAANSUhEUgAAAMMAAAAuBAMAAABni7DFAAAAMFBMVEX///9UVFREREQiIiIQEBCY\n",
       "mJhmZmYyMjLu7u6qqqrMzMyIiIi6urp2dnbc3NwAAABm9RoHAAAAAXRSTlMAQObYZgAAAAlwSFlz\n",
       "AAAOxAAADsQBlSsOGwAAAv9JREFUWMPtljtoFEEcxr/cY529ZwpFJQSusAvoyUEwghBEu6BXBTsX\n",
       "QrCSrIVguRHFIsgdpFAIyoFgYSFraYLhCq0skmAhqMUmNkIKr7sTo3F2Zh8z3s02O4WF/2LYme+/\n",
       "8+089wcPflSQPjyhlOILK19rsHgv9DdsYW6n652cqgPFZpLFg7QjOGLR4k6SxWJai2qbFvNJFrNp\n",
       "LbYcWuQctYVpp7X4wGarqbYw/NXe/bwvNFcmN93kXqX8WxsngfK42sK3L13BGSdufutlBokOPJ/w\n",
       "Y0D6TstD3g4tjAaL8dgiSxfrXhMLwP1gyshlGHU83DmhtOD5ZT5Uc4CcC3NWPYpcF1gCLqCwUeet\n",
       "Rg/ZbVh+L4pg+WEYNqrbKPSSLS6CHNDPCSxyNbS6OMD3jsqC5wdBP2erjVLCKOhEkZ/I92KLlovr\n",
       "wDW1Bc8vvYqOxZLDX1asRcYF+YEx+ynLIr5FG8dNj21GMtw/3RY8f6XqML3aoYuHfE09Cn+3TWHV\n",
       "sphFy/ZNzWkDKJzjVdKH8MAKlv9tlTePNTNWsPcVFgXa8fKblxMdZpGl/ZKJT7vrwJ7Dq5j2p9MK\n",
       "HtBwwvypIH3Sv4Ky3YQL5HxYY9P5ODp/VsUTqlGY4QEig46gf026o+Yli+hm33vx3BGqUZSjdNsS\n",
       "9MUki0zwr6p8/EVXPro5rh4eQqhGsRLtqwkv1iu1JAtSE1qKckJx+B13pM6/c4TFOiv3NfxYN4X+\n",
       "/sc/Gx5S45qS0nhbsZ0e15SUxpUnGnBtNKX5l6ivEFsHro2itOUbA64YTR24JlHau3BsA67ktOCa\n",
       "RGlrogVVHmnBNYnSJAuq3NSCaxKlSRZUua0F12JK+9uCKjNacE2iNMmCKnNacC2mtIVG41KjcTay\n",
       "oMqcFlwrKUdBlRktuBZT2tBE1X1MSY9rMqXJy13Djg5ckykttCj/5sozHbgmU1pgMXa0f4wp2Y4O\n",
       "XJMobU3Mo0re0oFri6OuwYjfTmvANSWlceWuBlxTUhpXKm56XFNTGlX+AD27anFCmSOJAAAAAElF\n",
       "TkSuQmCC\n",
       "\" style=\"display:inline;vertical-align:middle;\" /></a><br>"
      ],
      "text/plain": [
       "tuple_len_incr_equiv: |(a_{1}, a_{2}, ..., a_{i}, b)| =  \\\\ (|(a_{1}, a_{2}, ..., a_{i})| + 1)"
      ]
     },
     "execution_count": 152,
     "metadata": {},
     "output_type": "execute_result"
    }
   ],
   "source": [
    "tuple_len_incr_equiv = Equals(Len([a_1_to_i, b]),\n",
    "                             Add(Len([a_1_to_i]), one)) \\\n",
    "    .with_wrap_after_operator()"
   ]
  },
  {
   "cell_type": "code",
   "execution_count": 153,
   "metadata": {},
   "outputs": [
    {
     "data": {
      "text/html": [
       "<strong id=\"concat_len_equiv\">concat_len_equiv:</strong> <a class=\"ProveItLink\" href=\"../__pv_it/common/4f8d368e24ac178ea0cafc596566596f99fb7d9f0/common_expr.ipynb\"><img src=\"data:image/png;base64,iVBORw0KGgoAAAANSUhEUgAAAZIAAAAuBAMAAADw04JzAAAAMFBMVEX///9UVFREREQiIiIQEBCY\n",
       "mJhmZmYyMjLu7u6qqqrMzMyIiIi6urp2dnbc3NwAAABm9RoHAAAAAXRSTlMAQObYZgAAAAlwSFlz\n",
       "AAAOxAAADsQBlSsOGwAABbVJREFUaN7tWV1oHFUUPpvdnZ3Zv2yltmgRIvgQLcStK1VLhWAMtLTo\n",
       "WtCAPiRSY4s1un1I0Rc7CULQgLuSQBRtsxhBUDArklgrxiDxQfrQBEXEWtxGEcG/fZFu2tJ6z/2Z\n",
       "mTtzZ7OyivOQA3N3zj3fvfd89+fMvXehClT4T+uSdqRKU/P5bqnacFUr39M0Ufq3mHxM02TF1+QV\n",
       "JdgrwkeEsyKpRS+TE61T0M6bJDWWSRLvhDl/kywzxDS3TtVD33IfR3vwZY4/KiZ6oXUmK29jn43R\n",
       "3itAzPQ1OUXfcpwAJbBXUjfuFT4eQz0miiiYaPnWmez9HCsf5Fp0wNdE5Qvx8pnpAnsl8man8HFN\n",
       "1E2LKJhEWieSrNOfbqHv8TehvOFk4gQr5KwpfOQ17eGPgslU60xSWUwNa/IM+5u8TIYbVv0VCB9T\n",
       "3Vbdw2omQxjSblpwxpAL535dJ9xK+OjmHTjeGq7q8Q9wbfibvExWGjX0UM8W4WMsY3xjMviKmgkS\n",
       "XKq21R0z4gG4vfE6ZPhXhNpOacVwMg9ESNpnI90mL5O+hi1dtgaimH/9J153n8XkYA5lB2NyDwkN\n",
       "vaBlQRd1vpiHg6Cf3+TLhuHhnND/LGMaJkEqUW0n6aQNdZu8TCYbDv4l4D7C9G+ld6oMPqkek/1k\n",
       "8GsQXob3PuTZzwLcCxp11ufzQfG2TLMwQ+rWYZp4N+tvwl68H3vRYjLbiIlRA+4jPPEofZ3lj5pJ\n",
       "pAOKxDDBs+8D/Qq0L/L+UIVGhnctywgbb5x8/ibvmCytH0sok7uepMO7xB8FEzJyxQr0g8VEvwzR\n",
       "GkRNfyYMfyYj9JtBTCEcTbtLFCYvk4lGTNoyYnbpa0nqzwR/FOtkO/GsBFuNKgWYWAZChZOsP7xL\n",
       "BXMo/pdKXdj3sVZxcaevkOSAAHpNXiYOsLQW2WCyEEl8jNb1tQSHH1CPyQo2ZOzUKFX9Ii03MTBA\n",
       "d0VULRbA9ULx6ZeyTBMuprD/ojUeNH1MEpMfqk4wVi83RgIG85f4GCrol1IcPqRmMkOKbvvuwmk2\n",
       "aDnSOyOfvr+tDOlOrobxi7AT+AvmMDx2dM60l2Uc53SogyS7AfxMTiabHjyad4Bp9XZjd9sBA31s\n",
       "K8H8KV73bjWTcFmoyMSwxvln+MOpWtHEyim+zDWNL5hdfDqksxbQbZLHhI5aVq7VktcweZy92z4i\n",
       "nBZRMLG3cHQhWUVue/ewQ7WjifU2pTHt1Rj/TjwCoVK/KfakSpO8g7Q3sN52gIR5I/O8e0+KcFpE\n",
       "dT7p4trvx8mnbtyKtNeu1RyqJXbOyALT7hgTgaY6W8Jv2KoF9Ji8suqq1VrxZATDnWK/1uWEr/qd\n",
       "tEadWa4jnPdEV/Fojz0jGu/Q5hetZpUmr3T5tINxKjovDuajTniXl8lpNo+aO4A2IWzfmaj6mhTH\n",
       "2uYuEYSPCGdFEmXYkA3ZkH8o1f+l6H8grVzanQkUE7y0S8jXNPotigPWW67NRJxsihL5ABGhF2LS\n",
       "6Q/P3IoLqI9kdeQQnvqfCxAT56VdUry3+884C5Oo071UcMR5aWdUpLsy9am64mQSMYPDZErl5dfQ\n",
       "JJNYgBYKnr3GB11eHoUTh13L6ZOMikkqExwmeCG2vCR7qf9lnOx1LSfoVTGJFoLDhJwY4qVDspfG\n",
       "1S/jL8iwBXZN7mZidAeHyX68wsDbDy2Xu7Mnl8PpovWy7fIYvX/ZRS8+jLqMYUzitUAxAaMu93f4\n",
       "2FPeaJ1VjUmyO1CzC2IZU/KyWDrrOcOIj6drdmWDw2Q7er64LHnZbxZL7kMkv3Vyr/iO4DDB/yFm\n",
       "03nJy61QLLv2L/SqVWKSugr8T5GAyAx5Qg/LXt4KiSPuj/d1LiahzRevJ3NuMThMwmXF91sh+5SY\n",
       "HwO073L+75r03XvcEK0rMYNBOp90NYGJr4WVu+N0R5CYjDYDOvK0MrstUMffVi7tFgLE42+5ssGw\n",
       "TJtEkwAAAABJRU5ErkJggg==\n",
       "\" style=\"display:inline;vertical-align:middle;\" /></a><br>"
      ],
      "text/plain": [
       "concat_len_equiv: |(a_{1}, a_{2}, ..., a_{i},f(j), f(j + 1), ..., f(k))| =  \\\\ (i + k - j + 1)"
      ]
     },
     "execution_count": 153,
     "metadata": {},
     "output_type": "execute_result"
    }
   ],
   "source": [
    "concat_len_equiv = Equals(Len([a_1_to_i, f_j_to_k]),\n",
    "                          Add(i, k, Neg(j), one)) \\\n",
    "    .with_wrap_after_operator()"
   ]
  },
  {
   "cell_type": "code",
   "execution_count": 154,
   "metadata": {},
   "outputs": [
    {
     "data": {
      "text/html": [
       "<strong id=\"concat_len_simple_equiv\">concat_len_simple_equiv:</strong> <a class=\"ProveItLink\" href=\"../__pv_it/common/01461968433c8f7329fab08d192dc72a2cfaf31c0/common_expr.ipynb\"><img src=\"data:image/png;base64,iVBORw0KGgoAAAANSUhEUgAAAW0AAAAuBAMAAAARlFVnAAAAMFBMVEX///9UVFREREQiIiIQEBCY\n",
       "mJhmZmYyMjLu7u6qqqrMzMyIiIi6urp2dnbc3NwAAABm9RoHAAAAAXRSTlMAQObYZgAAAAlwSFlz\n",
       "AAAOxAAADsQBlSsOGwAABRdJREFUaN7tmE9oXEUcx3/J7r68/fey/qt/gna9BQJ160KxUmnRFlpa\n",
       "TOwhCh7yNDQX/22FQD35LIqHIFmJUEFrFyuCHuz2YMQW4yLtqQcTPChq6WuCUOihubmxkTjzmz9v\n",
       "5v1rYXMYsD94s/vefOc3n5k3M2/mBz5Qc2CzLMWfoypuaYrajyn3J6bfbxZ2sYk/pXZMHq/k0u15\n",
       "UtSXFFKNO7/YO/Frv9H0JLlOewDfqlnWZY9V4ky92YLiWLojqQYoDKOalYjhfr937PJDB0hqN8De\n",
       "8japd8BT8pa+aLJKlqG8DnAs3ZNUE+AGUx9L4D7SO3f202HaV7RnfiTMOVfJO/CTxyp5BGAvwHi6\n",
       "J6lmNs6vOO49vXP/jB2cBc4N+4OsUhd4JaMebPUh66U5CtS8Qzx2xXDnG71z/4LpCck9rQyhGvBK\n",
       "7gHY2oKB1AEeqJlRNZaIclt0Dlz947q6Cj280E4H1fXPPbMFJ6fkXpJZuXu3u6ISgN2ErJLiVlXP\n",
       "nAWmxhJRbtqc0rPwmPL+Lvj93VRsprflonoT02nJ/XwgHWyLfiMrBNHlUl+vonazY0yNJZDbqqNV\n",
       "8C5DJvC7YzAJ8B53ae8DqwYfLD2Q6J7py+KlOP/gz07J/VEgvdECXglJSc/lU6dToC76g02mxhLR\n",
       "/s52AN4AeAoK52t8DV2FzCK4FC3BUB9YfhV/DknuM0HeKTa/OjR9mfb5ahp3oLbhlMfUWCKe+2mw\n",
       "ydKa59zZKsx2YJ03Ps6YPjSbFO4L4SmL3Dk6UEt7bj3BWSsnuboU39/kpdg3IbcacM+2YQLghWRu\n",
       "pi+dFff9ldA4mQu0j4IcJyfB8WUl8aao8Y1SNZaIju/+Nthr0Nf4DAU25W7C/XkfG29HXRMupp8Z\n",
       "9Hh+lg30Ecl9mAuJHWQtI4rCIhQ9yFUhya2mBoe+UarGEtH+psvMCMy5LnLPNmix/A6L1PMEu7X/\n",
       "BuUPJqi/Nscek9nUYd9omlzx+YqIQlY7q2RlamqSr3EJblU1jgBUY4kod4HQvvPDN0Mt5M4QWHvo\n",
       "96vnyH7CY7ewg746l/+Buif0IzyfzyY4Ta67Ro+S5WuXEIopSyvZvbFB4DK0jQluVTX00W6maiwR\n",
       "851/Ui4LVP6x/Pi4ZDQGt8HiIRZ6u9vi+S+xBxkxH5yaFFr8MyMrWcE0wa2qxsG3IkrEcI9r3HJT\n",
       "u/z1l55yGyweUt5wMT9feYt/7cR2CjdYKPxwoBlskCDYxcW7VdR9zQmxwTqSwN3PP3vOr/+SKSo/\n",
       "8KMbG6DcSpuRq8qQj/mZYfEJ3CaaLIWPi02yrKSKRePdKuozzZ1czUrEcNtV9cgSOsFEJ347nJ+b\n",
       "F9/74xo/Fb74umhkVeVPcKuorfkOV7MSOvc5TK9v1jnNYW0qxh0ieSULt+dJUS8opHfsjv0/zE8L\n",
       "u5hrPFITOc+0DeemkZr58MPPPT1yY57ZDdBPLmjfhSI35pmlBAUuagdr12jurPL/Ey1nv9HcJxK5\n",
       "p43mJucSe35M57bPV7TIjYlGerUsDtiC24J9euTGQCN73K+shs69AGt65MZAO0TO0XgemqzX99br\n",
       "2/Fgne/qkRszuTEspM1Lq6ZHbswcJ3DUDnFnFvXIjYE2QpaP9XKIG6Mhh43mXqJRw79C3BN8hTTY\n",
       "aKTmvtD6DXfTZJfR3DJSo3IflJEbY03dPvF91YO5bmjDZaJtCz8orGEQd9nwc8PxyJNXXo1tj2Hm\n",
       "xB/Iir7R1P8BAxB59Qz2HekAAAAASUVORK5CYII=\n",
       "\" style=\"display:inline;vertical-align:middle;\" /></a><br>"
      ],
      "text/plain": [
       "concat_len_simple_equiv: |(a_{1}, a_{2}, ..., a_{i},f(1), f(2), ..., f(j))| =  \\\\ (i + j)"
      ]
     },
     "execution_count": 154,
     "metadata": {},
     "output_type": "execute_result"
    }
   ],
   "source": [
    "concat_len_simple_equiv = Equals(Len([a_1_to_i, f_1_to_j]),\n",
    "                                 Add(i, j)) \\\n",
    "    .with_wrap_after_operator()"
   ]
  },
  {
   "cell_type": "code",
   "execution_count": 155,
   "metadata": {},
   "outputs": [
    {
     "data": {
      "text/html": [
       "<strong id=\"iter_ext_equiv\">iter_ext_equiv:</strong> <a class=\"ProveItLink\" href=\"../__pv_it/common/a868cb6c025dc92cd75ef850359897cae4379eb90/common_expr.ipynb\"><img src=\"data:image/png;base64,iVBORw0KGgoAAAANSUhEUgAAAUAAAAAuBAMAAACrN90HAAAAMFBMVEX////MzMxUVFRERES6uroi\n",
       "IiIQEBCYmJhmZmYyMjLu7u52dnaqqqqIiIjc3NwAAACW8nlqAAAAAXRSTlMAQObYZgAAAAlwSFlz\n",
       "AAAOxAAADsQBlSsOGwAABHJJREFUWMPtV09oVEcY/9bsy779k1UoeipkraAeelg8Cg2BQjxJt+oW\n",
       "sR5y0BbEoNSD5iANYgkSWoKXgBRc9ORBXAJe9GAoGrBFzM0UbLogoScxghcXFb/55s+beW/el+Qy\n",
       "9OBAhpf55vv9fu+bebPzA4AemFan3hpIRTY6nGk9Zry3Tu7QQvL8nPqDnlnP/cnFpQ3pszmcdjCH\n",
       "zm5/UT9zD7taF7tlGDprheP7HRUZmkplbsfIs3XQCVdyfNZxQ4VjQFQOXbZVZkVf3Xka+1vi8XuA\n",
       "a1Z8fseCikRdN3HvdWQsd1h0iSs5/nZDN670QVJdYyFi0j/4cD/202rsghU//XXHioh2QD/8i5HS\n",
       "FIsucWO7RkX9z1BfUV3gIaj/hgoxrseSshT7YEdEe2ILhFMsusQdtIdqS7ZAQTXIrsJj6u9S6qwa\n",
       "KydvXG05kazAOVbgXYvDK1BQldlNOCO6n07uFSuBm6yyjLOrDR0t7T40pSK3p70C5zlwiUsclX8a\n",
       "PoGCKqHzNVmB97pw1SKuZikp2NYlHemOeQVOshV8bzhi+NEnUFBJul/aoh3KQByn8/a16CP8Xj+P\n",
       "cXYt2XKvtqlIYeGKV+Aip0/iEscKvPMJFFS1cQ7jBCWt0V4eBegMYn5hzYSfgopUYEK95w/6PUng\n",
       "MAcucYmjUxN64nb7u5PtdsMIFFQWXZ5A+SkIgfAUWYvjqV0uIrW+t4Jj7DHYSjjilq+CgqrIVpCW\n",
       "eKChlxiuVhCjZcL7QEfKjY5P4CMOXOJKDn3Op5a4peny9uBXVCFKGsC+8qaKu7Yp1oTCE6Ajd0a7\n",
       "PoHnwMx1fmcgwZUcr0a9H0lT0eW2+SRZfO6Ftf/UefOWdvkb0JHh+tmUwAc9fYSIuXdmrQfZaVHE\n",
       "8XP6HKx+UAdY3OUEbk8+hYIo9R6UEQncdifZ5SKy5XxqD35x5irOPQJqbiQOzKOgHqJjCa7k2JUS\n",
       "uGX32z2SKhrlBEbiHLkkn79VY6sEJATGDTfiVJBK3DJz3fYnJLjEMZGuoKFaZY9S/LWvNX53Lwn0\n",
       "m4F7Ef4oL2SvDweyd41qFheXzeAix5elfvqyYKim+RvbCET71S/HgLzc1mnT3sa/w7fAiWTbC9Bz\n",
       "Ux8J1sngwkjhXeS9swqqepMXeBNKy4q+0rTUiJW4+Bs4Ed/r6bmpO7QonMZFjl8v+8+hHvPy+iUs\n",
       "9JfUr3hmvcy5y69nKLIcTlvJofvUPrX/VQtn3Oub9fT1wMbdN5v19JQQ0rg/26SnFwlBjbs9e0Oe\n",
       "HhOCGnd7tsfTG2jj6TEhrHE/xXp6A208PSaENe5zrKd3BZKKucDGfZ719K7AqkwIa9wnWU/vCiQV\n",
       "k4GN+yLr6V2BpGIxsHEfzg/Z0MbTY0JY4z7Genq3gqRiLLBxf8R6+tQStyghrHE/x3r61EfSpISw\n",
       "xn2G9fQG2nh6TAhr3I+wnl5DJ54eE4Iadzk719O70KsyIahxl7NzPb0LPa0SQhr3F5v09JQQ0riP\n",
       "bNLTU0JA4+6bzXp6TPgITk0sjZQBWesAAAAASUVORK5CYII=\n",
       "\" style=\"display:inline;vertical-align:middle;\" /></a><br>"
      ],
      "text/plain": [
       "iter_ext_equiv: (f(i), f(i + 1), ..., f(j + 1)) =  \\\\ (f(i), f(i + 1), ..., f(j), f(j + 1))"
      ]
     },
     "execution_count": 155,
     "metadata": {},
     "output_type": "execute_result"
    }
   ],
   "source": [
    "iter_ext_equiv = Equals(ExprTuple(f_i_to_jp1),\n",
    "                        ExprTuple(f_i_to_j, f_jp1))\\\n",
    "    .with_wrap_after_operator()"
   ]
  },
  {
   "cell_type": "code",
   "execution_count": 156,
   "metadata": {},
   "outputs": [
    {
     "data": {
      "text/html": [
       "<strong id=\"partition_equiv\">partition_equiv:</strong> <a class=\"ProveItLink\" href=\"../__pv_it/common/727572265e80dc4358a7944993011f68d60ada2b0/common_expr.ipynb\"><img src=\"data:image/png;base64,iVBORw0KGgoAAAANSUhEUgAAAfcAAAAuBAMAAADHHU1HAAAAMFBMVEX////MzMxUVFRERES6uroi\n",
       "IiIQEBCYmJhmZmYyMjLu7u52dnaqqqqIiIjc3NwAAACW8nlqAAAAAXRSTlMAQObYZgAAAAlwSFlz\n",
       "AAAOxAAADsQBlSsOGwAABTdJREFUaN7tWU2IHEUUfjOZn96e2YkgEURhRwXNwcPocSFhQYin4Lhm\n",
       "ZNUc9uAqhATH5BIPkhBMsrIoQy4rQbAhpxyCYSEgesggJuAfO3jJGHRtiIleNLOQi8PqWq+6q+un\n",
       "u6u7Xaz0YR9U7Zt533tT377q+ukHAC5wcYNOlcgvoQHpxOXwtC5GZLKv6vsTUIKUBpl+A+EpXczI\n",
       "t7Rf+pzpQ5jsinbRIssuB+BGQvTA+8ICKjcg2cWg2D3sa48dZvprAOcFu2wRHXd/QshPONrogvdH\n",
       "+Hki2cWkWDTNla+mAx3guGCXLXTuMv0XwqJ6Uhtd8N7AzwhPcDEpFdq/4HCd/BVyI1tQ6gOBPBzS\n",
       "RufepTH94lCii0n5mvZXBJ1MTCHPsiVMflkbnXvX5qm6nOhiUpawO7qw29ftISFeawZmxRImv6IL\n",
       "zr1holn/zPHgK7kh76Xhb6bXSiRD1R63y5Yw+Xe00QNv+LT73Z2uB6cuVodK876SP0gPH+tMf9Qi\n",
       "xOvz/BQjW8Lkr+uCc29Y/bX/sOvBr+cm869TPiOmOxVCrTDiD7hswYS9vOAnjJKf0gXn3nDmbapO\n",
       "JbmYJ19rB/oqYVTimVcs4czv027z3PuVxQfAh+/LDXk67Xc0A/2cTei1A7NiCZO/pgvOve2NEn0E\n",
       "rjGXXDzze+hGPGC6fa9GFrwWHssgwhImfwy18JlN9a6O7Y1JH34sN5mn+87dGaYXRr+RrFzG5bkX\n",
       "YZHIX3X9bcz+i+Gx458E72LPXq/58KXckN+F3SrXnyL7URnHXH41wiKSf/ytc+SbA6h2SOrLeGql\n",
       "3VyE944+DG+CBz+QG/JlXIdOCTqR27T/BsIWKfN0M6PLQz0876O9Ed5o54Y8uWbUmx8HOpWztCdz\n",
       "P2SRLjb8XlQLx432RrjVzc+ddi+Up3uBTtPToksWSbBqCcst2l8KL3jR3rcCl3zIBagO3UCnGxT9\n",
       "iGuzaon616GEX87EeO/V/B/vhzQGqr6WgBI5upl+A+EpXbZlW7ZlW/4HcVXdTUIJK1mm32hkCbF1\n",
       "cDwLl6kGixaR6J9ifLYOjmexn7E0VLQAeNCR0dYXeCiu4yWqMJ0UWgP+/f1nshZPkCE2Y0UL+FFB\n",
       "rzyEebhIM9JLCh0PJufRqzNZiyfnvWasaKFeEeDwc05wj/DleYgLHQ8uulCZz1o8Oe41U0ULTwS0\n",
       "X8WYF+HfQ0xoDbgyhuI/WYsnyJA0U0ULT5bV93v1Xjz5dOBiG4rrWYsnyJA0U0UL++emhK4+OYsz\n",
       "lb40uvRDJPm0YCiPshZPkCFppooWFrwpo3cOgkl2stKNIp8WDFODrMUTZEiaqaLFGl1pBPRd+nqn\n",
       "3Md73s5+FPm0YJiFrMUTZEiaqaKFUx/LaO/9XmUG3/TSksDpTueNTmcWokJrwVYLshZPkCFppooW\n",
       "YLVl9JWAD6ES+cynBR8FyFo8QYakGSpakDl7WUY/C2wm8+OTTD4lmBz7/sxaPEGGpBkqWvjv8AX0\n",
       "EW9YiGjciySfEvwIwM2sxRNkSJqhogXACRDRjAPdVasjlbwcWgtuzC0utpVxyAOKKJ4gQ9IMFS0A\n",
       "nsAuQLM1qIBPWLGlkFdCa8Hlzc3NnjqOOTaWmOIJMiTNWNHiiIy2/IPUi3xWirvXFsAJ4wgY3jZW\n",
       "tHi6OpbQX0702SWq2D/hqBcb+O9g/TiAMzwLhooWhQ26UnP0SxfZQuxO9Q8mhM4E1o6DX4M9lmaK\n",
       "Fh+8J6Pf/ZCNrmUNZxJCZwLrxwEBQ8rSYNEiEv1H3CunLYPjWax57V+Jtb9CbYK67gAAAABJRU5E\n",
       "rkJggg==\n",
       "\" style=\"display:inline;vertical-align:middle;\" /></a><br>"
      ],
      "text/plain": [
       "partition_equiv: (f(i), f(i + 1), ..., f(k)) =  \\\\ (f(i), f(i + 1), ..., f(j),f(j + 1), f(j + 2), ..., f(k))"
      ]
     },
     "execution_count": 156,
     "metadata": {},
     "output_type": "execute_result"
    }
   ],
   "source": [
    "partition_equiv = Equals(ExprTuple(f_i_to_k),\n",
    "                         ExprTuple(f_i_to_j, f_jp1_to_k))\\\n",
    "    .with_wrap_after_operator()"
   ]
  },
  {
   "cell_type": "code",
   "execution_count": 157,
   "metadata": {},
   "outputs": [
    {
     "data": {
      "text/html": [
       "<strong id=\"merge_equiv\">merge_equiv:</strong> <a class=\"ProveItLink\" href=\"../__pv_it/common/30acb4265c70c208fb681c55c53edf711bdf82a10/common_expr.ipynb\"><img src=\"data:image/png;base64,iVBORw0KGgoAAAANSUhEUgAAAekAAAAuBAMAAAD+evwcAAAAMFBMVEX////MzMxUVFRERES6uroi\n",
       "IiIQEBCYmJhmZmYyMjLu7u52dnaqqqqIiIjc3NwAAACW8nlqAAAAAXRSTlMAQObYZgAAAAlwSFlz\n",
       "AAAOxAAADsQBlSsOGwAABalJREFUaN7tWUtoXFUYPpN53Dv3zkwKoiAIGS20XbgYuiwYAkILQnCs\n",
       "GdGqOAujUBoc7cK4kARRYwjK0E2lCA521UXJUAiILhzEFHyRWWmUGAdidRU6gYB0SIvn/bjn5Nzp\n",
       "Iocr5F8c7tzvm+///3te954fANAD3Eq4lW5EkGFva9bbn90Dsdh9AIbwSib1Ykdcb+B20vD/DbNs\n",
       "pjuUd+rDxGbubZhuk8NlvcGUNfUfcbv0FWwKbdisg2JDgv2vWxQpzkf++SBEfo3xi3WJjwdaKptD\n",
       "V6fRhQ1TLHUOqCEajEcdvnIEK0fiDJqoDR+9ANtr6PJFAK5I+I2HOhTJttU/nvgcKudbVu9El/j4\n",
       "TWVL0Kfotw2T7YvFAVBDNJiIeo4oR+L08VPLfXcKtgv03qyEX3iyJSHIzrCLPyHizVu9E12f9YzM\n",
       "lqC9OAwPVCZSHERCNJiIepEoR+LM4fZp/Cjq7J54MJkBkBFkP8tZg/NW70Q3x3+fN0HUhw1Dw7Ur\n",
       "Z52zjjEp6pepshrn97hdwbpNei8vZk1YVRA968vWrFckH0BlCyisx2Ja1nnrxBZRl3aoshrnEmre\n",
       "mj6BRhScuME6lAvLDPWOnZ2nyPUFY9Y3bN6JLvYR/FFW2BKULxe+bNkxLWsRosGkqL0+9arGSZ7B\n",
       "XdbFYQY+XE907WiXIe3Txqzfsfb1Xe7DB6+rbAEtN376u2HHtKy9ps2tiHqkQr1idb+GrQxewhs5\n",
       "GgcgC9e9R3woVxDT+PYRiqQ6i8asb1rfErAu9rGJ16WbJmjtr87DPTumZV2o2/zyqEGuS72qcb6K\n",
       "Fft49ZgAoIVoqT6H1wBFAjCDrj6o1V6r1c6KrMds3oku9tEqDBS2BH34Jr60YbCTnptGncSylkI0\n",
       "GI8ajPWo8pieNZn9iAXWYCqZemRdQUhhYOzr0/GrCvHhVxW2BL3wEe4aG6b1daYev4iiqH9hymqc\n",
       "eISny2xEgEsBdFDl8EnAkHy5Zcp61ead6BIf+CVn1QAFexk8om2YPsKrNr8i6pMBVV5V5vUT+Klg\n",
       "xTRsg90QLhVoCSA5zgCGLE+0TVlfBJyrvLkBoUt83J6g7CjkDYK9Ygymr2YVzlYsGvW/IVW+qL67\n",
       "8YjwbpDq/0O3sDt4XdkFDBkrNSJZf9NjuxLiLjelC9JQXeJjjm1GUWikGeyEMZicdXiP7krCpRqA\n",
       "HPXudaq8pH5CiNmfQqPmOMwti7zWWmJdQcjI25F5/dgblyB3ClBuFm2RzwN6kT0ndImPo6iZMkDp\n",
       "Dlj/PQaTsh45duc4DRGzkUvhNxr1bJsqTylZZ9Fq8R65fobeu4W9oP/7ZRVR+ho/1irnqvYDELrY\n",
       "xwxna5CkZMaUvhYhEra6axiiRsoldR2Ar+WF8mfqVwd+C0MD69t8R/8eOaN/vIT6BIPPmOtCH497\n",
       "A86OQIqSGVO+PkSIoK3vGoaokbIfeYMdB9lT9EUnTY880EoB0IR49hpQEN22AONGVjPYM1wXjKf2\n",
       "8AaxZYAUpX0w/fWnwtgRM0W9xeMUdhV46zSnoCKRkeK7nwAF0Y0EpntHCy/XhT4+fp+zo5CstA+m\n",
       "b4k9xo6YKepxwwMsSSFv43bT4GZ7n6Oh4Q6wqA8Tm7m3YbptDneCtM2Uh4zz0A7t0P7X5qoKULqP\n",
       "4/sDN2dVAMydTEjWjqoAKzuYG3d878hcVQG8PuFeSUTWrqoAfpNwZxORtasqQLZLuPbje1fmqgqA\n",
       "ji0vg7jje1fmqgowR7nW43tn5qoKcJRy7cf3rsxVFWCGcu3H967MURUgdY9y7cf3TrM++CpAsU65\n",
       "mXpiRvjBVwHS6N+Iaz++d2WOqgCjjTbhepUkZO2oCjD6VJdw/XYSsnZUBfBQxvicfyIJWTurAlDu\n",
       "rUS8hzuqAnDuQjK+r51UATi3VElG1m6qAIybTsgRkrMqAOZuJiLn/wDTC5TgQLboTgAAAABJRU5E\n",
       "rkJggg==\n",
       "\" style=\"display:inline;vertical-align:middle;\" /></a><br>"
      ],
      "text/plain": [
       "merge_equiv: (f(i), f(i + 1), ..., f(j),f(k), f(k + 1), ..., f(l)) =  \\\\ (f(i), f(i + 1), ..., f(l))"
      ]
     },
     "execution_count": 157,
     "metadata": {},
     "output_type": "execute_result"
    }
   ],
   "source": [
    "merge_equiv = Equals(ExprTuple(f_i_to_j, f_k_to_l),\n",
    "                     ExprTuple(f_i_to_l))\\\n",
    "    .with_wrap_after_operator()"
   ]
  },
  {
   "cell_type": "code",
   "execution_count": 158,
   "metadata": {},
   "outputs": [
    {
     "data": {
      "text/html": [
       "<strong id=\"partition_front_equiv\">partition_front_equiv:</strong> <a class=\"ProveItLink\" href=\"../__pv_it/common/12e8b1bc099c70d326f59af2c53c73be71fdfce10/common_expr.ipynb\"><img src=\"data:image/png;base64,iVBORw0KGgoAAAANSUhEUgAAAT4AAAAuBAMAAABDt2gsAAAAMFBMVEX////MzMxUVFRERES6uroi\n",
       "IiIQEBCYmJhmZmYyMjLu7u52dnaqqqqIiIjc3NwAAACW8nlqAAAAAXRSTlMAQObYZgAAAAlwSFlz\n",
       "AAAOxAAADsQBlSsOGwAABE9JREFUWMPtV01oE0EUfondZJukURC9KCQqqAcP0aNgKQj1VIy1gaIe\n",
       "evAHikVpD9qDKKK0pSjBS0EEA556EEuhFz20iC2oSHNrFa0LpehF20IvhmqdebuzOz9xk8ERPPRB\n",
       "Xl7y3jf7zc/OzAcADgTm+E62qn9CGuozx6+uF+Fb05Qct9Wo4qyhrPMMWl0nIrC36Iefs3gemq7y\n",
       "eT4j2o4SwFyN1gM0bC9h9ZwevUSR+uSeyyw+C/CQy4sZHnjwMeHXWAptnUPDe7e6BkI2Gwcr9uqo\n",
       "HwNc5/JihtoJFnwmT4rfCm1dQtPqGgilBfQnS0FMvrkuihlq73h+0B3auozuromQ7TX6CS4mU8CN\n",
       "lphR+Y2Eti6jR2oilAVMXe+Fg16cmCfcklk/LWVUfuNhjQdoSHzKetXjWvzc3vxkcbKhiyyRYpAX\n",
       "Myq//tDWfTTYcMmrRoRdQMvW5HcON85VFu+2CbdUV7ABixmV30xY4wEaFmDdq57RGr/z1KVWWFyK\n",
       "kf0zsuKnpQzcLRQuFgrtAb9MWOMBGkqpiled0eeXzPvxLHloQzB+UkYdv9bQ7S9Ag533qlu1+OH8\n",
       "bsn68YME6XbeT0sZld90WOMcGqwxr3paa/0dww2qzOLEWpK8Hzn6wkGVjMqvj0bqkSCjAZZbvOo+\n",
       "rfEb97EYR1a+kM7Rrj4rVskI/CYdtnf8YPXUBb84NMBNttMMa/HbQd1sEB8gu5xFm7XOVMnw/PZe\n",
       "eUD+6aBhgQygRc8tdJ3V0LCPug7vU79Z24i7zcXEltC/ATUjjB/uILhUU+oEK+gerzqd1+JHjutU\n",
       "9lFwfFMbQE8mWckI94PgepFU25XQh+IVr9q+qnfBagbraNGPcUxyuMLJ2pYzqi2if6q+HyI6sm5N\n",
       "edWLmvfTJxCfd/wYdwX82UQ7LmWq9Y6aeieW0ffusOpmTX7pshwv1KjiaTg6z6DVdSI2bdP+EzOu\n",
       "z/8gwfW0vMMQ5vX5RzCg5dsYwqA+t1/Qcy5Fjo4mSUR+HTqsqeWRxJxZfT6+k/Z9lF32uKnNwWSL\n",
       "ppanJAjCpD6/fLzkn95CbdSBWJemlr/uHtwG9XlDBb+61NpYBaK/NLV8zG3doD531UaqqNZG8xBd\n",
       "1dTySGLEoD6P72+nE0gv308HlLuitaKp5ZOunjeoz7eWWb/HWhV+mbKmlkcS/Sb1+TJesslFLzI1\n",
       "pPBr19XySGLGpD531UashYg3epkXau2crpZHEhmT+nyC8YNURR6/XtDV8kii1aQ+PwLe/EJjVuoL\n",
       "OVO+a2p5JDFtUp/3uM8hiGctY2LtLoAPmloeSfSZ0+eQXnPniYxDJi3uRenOwcG8pOVFUa9qeSQx\n",
       "bE6fswUeIUSi18T1Z21sbBRlLd/J9Hx1LY8kOgzqc9vb1U+BES2/5CKM6fOXjVPq7eIvtPyAhzCl\n",
       "z0+PshfRMaHlkcSiQX1+4z57XM6ElkcSzf9En38DA1p+wUX8BicGDNhryh/zAAAAAElFTkSuQmCC\n",
       "\" style=\"display:inline;vertical-align:middle;\" /></a><br>"
      ],
      "text/plain": [
       "partition_front_equiv: (f(i), f(i + 1), ..., f(j)) =  \\\\ (f(i),f(i + 1), f(i + 2), ..., f(j))"
      ]
     },
     "execution_count": 158,
     "metadata": {},
     "output_type": "execute_result"
    }
   ],
   "source": [
    "partition_front_equiv = Equals(ExprTuple(f_i_to_j),\n",
    "                               ExprTuple(fi, f_ip1_to_j))\\\n",
    "    .with_wrap_after_operator()"
   ]
  },
  {
   "cell_type": "code",
   "execution_count": 159,
   "metadata": {},
   "outputs": [
    {
     "data": {
      "text/html": [
       "<strong id=\"merge_front_equiv\">merge_front_equiv:</strong> <a class=\"ProveItLink\" href=\"../__pv_it/common/5c982e82b5bb62990e4c9ed62ce22942e25f672d0/common_expr.ipynb\"><img src=\"data:image/png;base64,iVBORw0KGgoAAAANSUhEUgAAATgAAAAuBAMAAABOqRhrAAAAMFBMVEX////MzMxUVFRERES6uroi\n",
       "IiIQEBCYmJhmZmYyMjLu7u52dnaqqqqIiIjc3NwAAACW8nlqAAAAAXRSTlMAQObYZgAAAAlwSFlz\n",
       "AAAOxAAADsQBlSsOGwAABZBJREFUWMPtWE1oXFUUPpPM75s304AoCEJGhaaCi+DCRdASEOLG0rF2\n",
       "pLZdzMIYKBVHu2kWkijWqqUyZJNSRB925aJMCCiiCx9iAlo1g5uMReNAra7EKRSkIRbvOXfe/X0z\n",
       "c6cBVz2Lm5P3nXfOd3/evfcbAGiDtLZoTOMPi70h24rgZm35x0xVCE3/QEyCblSy2ROyLS64d2oq\n",
       "a5a+Qu25LyK/BYWaiksE7glgU4WyXwYRlJgy0t7LoM0BtETqS7NIsgZGafDq2OYfPBn5xwAuKriC\n",
       "wM8AuUDBVu8LI6hQ17Pu+ygwgm1TUl/A/y+CXpr1nrimv5kSPsBpBdcRyCwq2MmnAgUiezpyfguM\n",
       "YNuU1DtR2dN6BLUHA+mzv0qPdQTghLKmtnUI7QeVnBocYzJ1N1Oglwb4ltpPFZ9NhzIYOgKwrExL\n",
       "WYdscst9ycnU+WpUNqevd2xem93X9b0WQ/MlAUsEvF/x8aqAMnsPLUYJLv8US261Hzclda7kfx5Q\n",
       "WaW06Ny/kZ9Psk5klNUtEMjCHGvnJbSnKRIspmtx5Ob7jpxM3ah9/0eNyvLSZypoh+A4bZc3KI75\n",
       "D2QZ6lflRioQ2KJluy6T/z0WQYX2njCO3Ho/bkrqjd/D+9tUVinN7EVs/E7kB2k2HImOgCUCgY/L\n",
       "dly+uiEgDzYC3uGXsMOC3Hg/ckrqt1+lvbKjlY7I8aVNPlZJVo1Fz6Oy6M+YC5ogOBO75mb6bnMy\n",
       "9Qvv4CRg2aQ2cjStoyXhL3msT2UBKwikVlizJl99TEK4dceQW+tHTqb2dpI4xViWl47W3JO0w/BT\n",
       "kPnezTxblZM0VTrC1tg0a04JCF6WUPFmLDkMBvuYCIzUmW1vp8DLUml5BImy5Cc6f7L5wyFq1HUE\n",
       "YCH68jnUJURQpmOS+6od7UC3um/ojpp6pO7dyPOyVFoe0HJpkz/B9oQUvpY6aiDwMDaHBdRd0ASN\n",
       "TBrkHnplqcaDocIGKoU74hHoOpVATz0aQusqL5uaVsmlcCm+qfjMrlP7HRgITmOxLKBsSULppjly\n",
       "IIJ9a175E6MoL3tdC2SHs1/6QD/Vz1LLBlhFHs1sixsAjv3XuTCCRsKFwDz45aUib3+nAHZRXvas\n",
       "HrkfUlN14VOHaY48NhgKkthJIZlrEQTPfSJeGg+Px36PFAyXref4xCzKyxYn9chLkGm1hU/fOP1b\n",
       "wF4pyPm3RCaE4PX3BZRtTceS42Xt+3DTSA2i7KhxTy82TX8r7qzhUYV2Tyjm/t12uqZH72/1KH3X\n",
       "7tr/asOIamdBHa+vi0NI7eFFtWUH3Ir8ImW2o9QeVlS3jDcTRy0VbBnX3f4KeI/jWbYJg6X2nYnq\n",
       "Y/qbH7+7balgy0h3Ax4mOTymcoOl9i5ENc5N5Be2LRVsGeluOjFJZeBBOkBq70ZUszlqquTSfceB\n",
       "q2WoikQnBkrt3Yhqk1yuNlgn+LgoPhNCcNmZnLOoJsQmp6tgw7q6m663S3DlPX5vXnUm5yyq85Ew\n",
       "0sll6v2yc92No+v94/84x2X2vDM5Z1FNiE1OV8Gmcd2NN0H/9jOJD7nMXncm5yyqCYFspfL8bKVS\n",
       "EuR0FWwa1wlpdt3LzhHP8UFSG+5MVG8EcSOXrA7+IQnJpS68AV2ZPTPctDqJ6iUvdlrL/bJz3Y3T\n",
       "2ggPjnVl9pozOWdRTUjMByFjtYNH1d2j7I2FoBE2ucw+5UzOWVQTopHL3wYl1hbPQnfjdvMINMZW\n",
       "+M51zpmcu6ieMPa5kb23JtRYoZmPmLo7wab+CSicD7jMPuxMbghRbZ4QZqxmqu6GZ1WZXSw7k3MW\n",
       "1fbBr8capupueTvAC0S25n5nchTVva64Itb4IDTdLeToNSG13cxVVPf4kU3EGjdnTXd7k0of9w9B\n",
       "bihRbZmjCv5LymxHqY32H1esAMNB8/o/AAAAAElFTkSuQmCC\n",
       "\" style=\"display:inline;vertical-align:middle;\" /></a><br>"
      ],
      "text/plain": [
       "merge_front_equiv: (f(i),f(j), f(j + 1), ..., f(k)) =  \\\\ (f(i), f(i + 1), ..., f(k))"
      ]
     },
     "execution_count": 159,
     "metadata": {},
     "output_type": "execute_result"
    }
   ],
   "source": [
    "merge_front_equiv = Equals(ExprTuple(fi, f_j_to_k),\n",
    "                           ExprTuple(f_i_to_k))\\\n",
    "    .with_wrap_after_operator()"
   ]
  },
  {
   "cell_type": "code",
   "execution_count": 160,
   "metadata": {},
   "outputs": [
    {
     "data": {
      "text/html": [
       "<strong id=\"partition_back_equiv\">partition_back_equiv:</strong> <a class=\"ProveItLink\" href=\"../__pv_it/common/cb2da719d770e9f890c2e5e9021cb311361cf1170/common_expr.ipynb\"><img src=\"data:image/png;base64,iVBORw0KGgoAAAANSUhEUgAAAUAAAAAuBAMAAACrN90HAAAAMFBMVEX////MzMxUVFRERES6uroi\n",
       "IiIQEBCYmJhmZmYyMjLu7u52dnaqqqqIiIjc3NwAAACW8nlqAAAAAXRSTlMAQObYZgAAAAlwSFlz\n",
       "AAAOxAAADsQBlSsOGwAABB1JREFUWMPtV01IVFEUPqMzzps34ySErQKnAnXRYmgpJEKgK2kyhagW\n",
       "LvoBUZJcWItIohCRQoQQJOhRKxfiMOCmFg2RQkXoTgOzAZFWooEbB43u73v3vft+W1xaeGAOb+45\n",
       "93zfu3/vfgBQAdOyxAsNjkjYZskqZnbYHpbVl63nDeK7XbI23DvHV6Ng4OyQPQT7SvzkO+QyReTW\n",
       "oX5YCGvvDRapH3P0bESRtYDqpC7FOGmQ7LWI/PQp7NNnBpGfw483AGaFeOlUmUUSRXvH1teIYMrw\n",
       "rU7rUozvNDugh2QaGa66T23Ij7O2B0J88JIhRLB18YefKJIc861O62p8SnB2QA+5BPGXyWv18zbr\n",
       "JeNVECPYvokEYcC3Oq1bZ/4fCOwh2WfiF7HLTLG2lLUI0wVbRCY441t9UcAAlj0TjeAkdvdvt+KZ\n",
       "QItMX0fk0jkeTTb3jLHI/LgrwZJfcVqXYOg/ciy7FI0gfZ8jPnDpOJrNpDVgJ1Z5pNjpSvChb/Uj\n",
       "E0ODuyyb9HjWh60nBMGb5AT9jX0C7dfTGiKXsZbcbgOLxMoTrgSX/YrTugRjEw5Z9nK0EbxF1tge\n",
       "WcsdAEYdGrLYnhleARbRYYi9+R3+5oRgk19xWpdgGJkqy276B4J0K2CCsIJQ4/2OVY4jmarrCHb6\n",
       "HoMFC0MrsOzOaATJFNfm+BTDtI64FMzwBeCRVM5wI7jkV5zWpRjknF/iPcKvwYtkhMhWqEVe30+j\n",
       "TZLHc0LCQ8AjCx1FN4IjYObavjNg1aUYux0seyTaCJbMzuR0ie39YufNAVnl+8AjTdlhB8EPFX6E\n",
       "4NyFKeGBOlaXYjzmB85kNIKN1laI4ZltQTQSuG6fYa1yHKkZdazBs/emUW4vsNwEPjCvAXtIXLfq\n",
       "Uoxz2PWyXwRL4HPkCX2+wtq2yQ7EBLWcPWIbQTLEBTPXbl/Aqkswhlh2thCNIPp2Z3Kv7JcE8s1A\n",
       "axE+psry9aFLvmuk5bpolZh1Ecb5ZJVla8MR71vtkGhjX45advHFewTm0e/qHNgism0Bz3VsErQ9\n",
       "zLrQHjskR8SW2SOCvYXkOoPX8wIbvAEfvQBbxO31eK7jDo0HjtdFGM+f8uz2qASzQvUd4jddsnY8\n",
       "7vKVKBg4O2SPYzu2/8nUCfeQ7Q6Vr1C4y9YdQuWrFO42i6HPtQ3KXeUrFe6ivZnAH7/ZQJWvVLjb\n",
       "p7LqgHJX+WqFu0RQgPJQ+WqFu0RQgPJQ+WqFu0TQgvJS+WqFu0RQgPJQ+WqFu0RQgPJQ+WqFu/6S\n",
       "yM0Gk6AA5aHy1Qp3aQQFKA+Vr1a4y1NcCFL5aoW7vEnyQSpfrXC3zf8fdoD5q3y1wl2wmuaDFgbl\n",
       "q/KVCnfZtgNVvlLhLtt4sMpXKdzlkzwfrPJVCnf5HKoEq3yFwl22zUCV/xebrQcRPv+cXAAAAABJ\n",
       "RU5ErkJggg==\n",
       "\" style=\"display:inline;vertical-align:middle;\" /></a><br>"
      ],
      "text/plain": [
       "partition_back_equiv: (f(i), f(i + 1), ..., f(j)) =  \\\\ (f(i), f(i + 1), ..., f(j - 1), f(j))"
      ]
     },
     "execution_count": 160,
     "metadata": {},
     "output_type": "execute_result"
    }
   ],
   "source": [
    "partition_back_equiv = Equals(ExprTuple(f_i_to_j),\n",
    "                              ExprTuple(f_i_to_jm1, fj))\\\n",
    "    .with_wrap_after_operator()"
   ]
  },
  {
   "cell_type": "code",
   "execution_count": 161,
   "metadata": {},
   "outputs": [
    {
     "data": {
      "text/html": [
       "<strong id=\"merge_back_equiv\">merge_back_equiv:</strong> <a class=\"ProveItLink\" href=\"../__pv_it/common/7bc26c55533794d573e9d0aa12f33995238564d40/common_expr.ipynb\"><img src=\"data:image/png;base64,iVBORw0KGgoAAAANSUhEUgAAATUAAAAuBAMAAAC7V5PbAAAAMFBMVEX////MzMxUVFRERES6uroi\n",
       "IiIQEBCYmJhmZmYyMjLu7u52dnaqqqqIiIjc3NwAAACW8nlqAAAAAXRSTlMAQObYZgAAAAlwSFlz\n",
       "AAAOxAAADsQBlSsOGwAABHFJREFUWMPtV02IFEcUfuPO7PT09G4ESUAQdmLAePCw5CgoC4H1JI66\n",
       "AybmMAd/QFwyiQf1EBTRbMKSMHiJiGCDJw+yw4IgenAIrhCTsHtzFbNpMMZTcAUvDhOwXv1XdU9b\n",
       "e7BOFkzNm/lef/111auq/gAgAdUS2VltFDLbgL9TLRmcnSimFD7StePdGQxPsu9ZXHKSxu+RlS1u\n",
       "j1gK/532s7dFvAwjLQ0O7sSkjzqE5ax15YcEefgWVYoXNsRmtoSuHcbgIaTYwjb21Y+Pi/ggwGUN\n",
       "n/8IH+w6+ZQ65oVbrxJtlThXmsYLj8xsDbqEvytptoAO0vC97TIGOKXhxz/H/Bntn10i+Jsg5bO5\n",
       "2kxeI1uD+gKz2IZpvydWMflW8os9+tXUrvhT1wbHcrWZvEa2gvg9jqXYfqP9TS0mQ6sKrlrHPmoP\n",
       "1PZLrjaT18hWULUpMZNtFrtvD2/lcbhMdFVrAi1v2YfDHJBSuzGTqW0+T5rihfCvmpGtQZVadCtm\n",
       "mMnGlP4v4mqRPERZDdMHS2IgO5OZ2k7njpvkhQCOmtkKmmv98W+LYRQPGrTV4Cu68b2kiSTeFBBd\n",
       "kSqvF+uxL3Wh0P0xU9v9PGmKF1Zoxd/Pghb/6W5MGGayHaL1tCrieJgMVGFVwotscUxACNMYXWg0\n",
       "jjQa+5S2sTxtihfiqGdka9D339BwLMV2SFU8jRfJDYtNq2KJNoh6meM2mbu9KV4I6ka2Bn3xA52c\n",
       "yRQbndOhmowvhkRGXcKfAZ9TUrFxlraFPG0aL9u6FzKgsF+k87sgcFlvO+i4sIOMxOGrKlkL4zgJ\n",
       "9K9pRkTwuYlOlrYTIHONUwNMXlK5Ezzbhsq9sD/CsRMGyby8jsaF1edsywhf04p9xSaAPOTYaMvS\n",
       "djcR+wPmzrV5IH/pvABnxJZhQ+va4csqx2bNA1tVPI0/JQpKeF0jVhVbIJO87qRVb5u/vkhyp4Dn\n",
       "lnAjPAC8K31p8cIn2E1lQENdWH7MsSlDWwnr8JwWk/aMLiTUFvBdeG/WuUAHti5zzfYALN5pmZ2C\n",
       "JNNo3eAgx2tUu2IexfQEwGH+tdJNn/670q8K1fQyIGWh824r92S2BWlMQcsk2Qml7W0Z0yfApQA3\n",
       "yGf/dbGqkgEr8SmIXGstkFLXeAt9XOos24J0pqcWyzUoLycyVkJwHX33s7jV+ABtjDr9PosLT+f9\n",
       "6bzMtiGNaad9rizZ8UqGhv8GvGwnTu/k/B5Z2eL2iDmyvW/v2ztq/rwz/VpLvXv0zpR59xq0efLO\n",
       "1CAj80jLWZo370wN8mUw2fObN+/cF8ynnLX58s6MCJmHY1dtvrwzM8jIXHEuOF/emRlkZFbsb2u+\n",
       "vDMzyMhcbrtq8+WdmUFG5qjpqs2Xd2YGGZk1dhdtHrwzM8jIXGyuaU7fvXfmBhmZo7qrNk/emRtk\n",
       "ZC6Pu2rz5J25QUbmoOOqzZN35gYZmUsTrtq8eWfJ/Mz5PPXknUExz7i/v3nxzmKUxwW7W/PjndUj\n",
       "Dq3hpdyjd6bMK87K3gBHwwNkYze9mAAAAABJRU5ErkJggg==\n",
       "\" style=\"display:inline;vertical-align:middle;\" /></a><br>"
      ],
      "text/plain": [
       "merge_back_equiv: (f(i), f(i + 1), ..., f(j), f(k)) =  \\\\ (f(i), f(i + 1), ..., f(k))"
      ]
     },
     "execution_count": 161,
     "metadata": {},
     "output_type": "execute_result"
    }
   ],
   "source": [
    "merge_back_equiv = Equals(ExprTuple(f_i_to_j, fk),\n",
    "                          ExprTuple(f_i_to_k))\\\n",
    "    .with_wrap_after_operator()"
   ]
  },
  {
   "cell_type": "code",
   "execution_count": 162,
   "metadata": {},
   "outputs": [
    {
     "data": {
      "text/html": [
       "<strong id=\"x_0_to_jmi\">x_0_to_jmi:</strong> <a class=\"ProveItLink\" href=\"../__pv_it/common/96f26e5d1cced0be42c37a3fe0353b969eef102b0/common_expr.ipynb\"><img src=\"data:image/png;base64,iVBORw0KGgoAAAANSUhEUgAAAIgAAAAPBAMAAADNIZoBAAAAMFBMVEX///9ERES6uroQEBAyMjLc\n",
       "3NyYmJgiIiJmZmaqqqp2dnbMzMxUVFSIiIju7u4AAAAd7oVFAAAAAXRSTlMAQObYZgAAAAlwSFlz\n",
       "AAAOxAAADsQBlSsOGwAAAXNJREFUOMulUj1Iw0AU/ojSNm1z/uyCq5NZHQrFwdXMDtpBByed1EkC\n",
       "iuJQ6SDopI5aECrdBLUguFWyKdLCuRWkuthBhOK75C4JCc3SBznee/m+L/e+F6Db+qxW4Adrv9xd\n",
       "IykiBDdso5nZDMoMWs5hoogk5PzPWkhZqX6+hOq7bK1hgz+DrQ7UkASka7KRdUgwU6Q3jjbutWrY\n",
       "p/P+daCIR4jGiENPDT1VF8RxmjCPIERj1mJ8hWNOlloPX8kigoDukcK3gI/pJ2TxyLEFJlyazJu4\n",
       "9ER4jC4QHgH2iVrWGMfFwx5mhEgB3zSr/tcxtYorwn4IInp+4h4egfErKbJM0E5bP6iAxvlFepcI\n",
       "ZedsXXqyTVdJ25TsQCYC4RGABdxOUFiY8r1yjT0PLi5E9Pg8IYRaBOurXRuO1oDwIiySjXsaIHKm\n",
       "TPSirXrVNw4WrG5p8YYsixsbIIyG6jWtMMSIUOK/QwgxWsLQMV8fXgPl41DxD+m5cfiXJsgcAAAA\n",
       "AElFTkSuQmCC\n",
       "\" style=\"display:inline;vertical-align:middle;\" /></a><br>"
      ],
      "text/plain": [
       "x_0_to_jmi: x_{0}, x_{1}, ..., x_{j - i}"
      ]
     },
     "execution_count": 162,
     "metadata": {},
     "output_type": "execute_result"
    }
   ],
   "source": [
    "x_0_to_jmi = ExprRange(i, IndexedVar(x, i), zero, subtract(j, i))"
   ]
  },
  {
   "cell_type": "code",
   "execution_count": 163,
   "metadata": {},
   "outputs": [
    {
     "data": {
      "text/html": [
       "<strong id=\"merge_series_conditions\">merge_series_conditions:</strong> <a class=\"ProveItLink\" href=\"../__pv_it/common/3d0c4dfd1d97786a53a6587770d5f93bf572e6270/common_expr.ipynb\"><img src=\"data:image/png;base64,iVBORw0KGgoAAAANSUhEUgAAAiAAAAAWBAMAAAALGzq2AAAAMFBMVEX////MzMxUVFRERES6uroi\n",
       "IiIQEBCYmJhmZmYyMjLu7u52dnaqqqqIiIjc3NwAAACW8nlqAAAAAXRSTlMAQObYZgAAAAlwSFlz\n",
       "AAAOxAAADsQBlSsOGwAABP9JREFUWMPNWE+IG1UY/2U3fyeTbEDagwhZPFQvhdDeBJeAUC9Kt9Wo\n",
       "2EVWqB6kxYCo9SDNRYNWJRRF8OJID9pDaFgpKHtwECqsRTbsxYCtDkgpCKU99KBbEb/3vjeTeTPz\n",
       "JpMFwQ++YfLNN7/f+37v7wSAh9nmmcNehjzN6uZwfW/NyM5TN+MG/DV3NrYp50nls/I0u5Yczo/Z\n",
       "99CM7DzXzHUE/FdTUcubjsqZRJ5sTjzUupDuWxYse0Tv9CKP9tGTn8FutqvZlDDziBhyj0TyJ1yD\n",
       "4rcGqeAb+12Vc0J/UHGtF4DPwM6WBQsXyQsj7YH18OdUQkW50WbAz+aRMdSiMCe4BsVf7qaCn3qM\n",
       "0sI5eXX/OvA1cAbsqmsyYKEfijzu3/xGT0o9dnPPd7MJYubpm14RNSj+Yip2fldcwzm2muaHgG0H\n",
       "RaIuBr2aBQvrodBPYUHwinKTFbPpkcKzboSe8m+lgldXxXUrQZA/gaaLCnVaJei4LFj2wCjIp8pN\n",
       "tpVNEDOPbZxzsgbmP0fX4c4Xm4kLeOnAcTGGKceadDVBLCFIF9VlSGfLglWmaT3sJwqyodxkqfBZ\n",
       "eESMECIrk6hM1sD8QpZe7WB51U94pyPsOP9YkuVTTjW/rglSv0eCjFEizUuB7lmwRF+MjiQK8pZy\n",
       "k4Xgc0E53hw8chz0ivpSJCuTNTD/Gv3ySrsLXWz+Em/D7Ya4Us4D5UFckBFsArODmTnF+nJgwiq4\n",
       "yLnvJQryg3KTTeFRaPjljOfgoRhq3pI+wmRlsgbmPynkFrHSON+KgW/LK+U4RcFc7nSeeanTofFl\n",
       "kSBHx8jdgXT4eYyVu74KA1axDQunVbe+7HerFKSp3GQBfLqZeShGwW3BZX0iB1VDVSZrYP6T8m2K\n",
       "FRv4JwZ+2W8Jw+iL6rYLMdzy66EWMxbsBEEu+w2FvZs4Qo4oTxFEwaeamUfESKCogI6qgfnXROyo\n",
       "Zzm3HZyKzcdD/ljFeUsX5DBw1pGFT4sPsPxYApYYtpVlJ0mQK8pTpoyCH37gb7E78/AUXMRPmLIy\n",
       "2V7mfxS40D6AKpoOno21QY45kWPdreqCvAHQDC212GGpPMZKHCGMtUjvX2qPkgR5TTnix1VHh+/5\n",
       "O/BwyZmDR8RQvxvZZURlsgbmp71m+/538YQQ5HTs45Bf3hCT7KYuSMG1XuSNTG5mlwacx1hJgigs\n",
       "scE1692IIN95alsVbv2lAPWbKbzlfKPe++PKPDxycy3d0fNlZbIG5t8HfHXd7rugKfN3FNzmlykH\n",
       "D+nnEFjndmhFKrTZUXie8xgrSRCFlaMnC29G1pAHXz1P8E+DHR3q9oI4TDwHdSMiIXjage87TOaJ\n",
       "UZOdR8SwEN06RGWyBuYPNrCkRbXMZ64gJyQI2w3lwI9aXoIgCgvHkk6qsmtX2ent2DyQkVAz/JZa\n",
       "u415eI6ZVuUbU/7gc6o2zi9H0r6v8JYd/uTKa8eafvDFNNLy4oL4WKFvwdDHnf/txt9v1fhxXG9G\n",
       "zt/Y7EFvHp4zWHDPJn1Q90P8K9M/OKKpT11UNyumP6Va7NRV43Be/dt7YxPWoulvr9+V01IZezbU\n",
       "m1Hzu8466M3Ds+g13TVDHQH/BfM+9/ZH6saUI0iZuJaaF8ayWoaMlaDk+KAe6/CV7t54rFZ50jbU\n",
       "EfDXZ550zDm/Kp+Vp9ktw/+DHnuGZny8H3vkuWWuIwP//9Y+fP+/w/4XfofPhzU6AiwAAAAASUVO\n",
       "RK5CYII=\n",
       "\" style=\"display:inline;vertical-align:middle;\" /></a><br>"
      ],
      "text/plain": [
       "merge_series_conditions: (x_{0} = f(i + 0)), (x_{1} = f(i + 1)), ..., (x_{j - i} = f(i + (j - i)))"
      ]
     },
     "execution_count": 163,
     "metadata": {},
     "output_type": "execute_result"
    }
   ],
   "source": [
    "merge_series_conditions = \\\n",
    "    ExprRange(k, Equals(IndexedVar(x, k), Function(f, Add(i, k))),\n",
    "              zero, subtract(j, i))"
   ]
  },
  {
   "cell_type": "code",
   "execution_count": 164,
   "metadata": {},
   "outputs": [
    {
     "data": {
      "text/html": [
       "<strong id=\"merge_series_equiv\">merge_series_equiv:</strong> <a class=\"ProveItLink\" href=\"../__pv_it/common/e5b2064912d6b38cb3ed94494c6471a33822075f0/common_expr.ipynb\"><img src=\"data:image/png;base64,iVBORw0KGgoAAAANSUhEUgAAAOYAAAAuBAMAAADO/3hRAAAAMFBMVEX////MzMxUVFRERES6uroi\n",
       "IiIQEBCYmJhmZmYyMjLu7u52dnaqqqqIiIjc3NwAAACW8nlqAAAAAXRSTlMAQObYZgAAAAlwSFlz\n",
       "AAAOxAAADsQBlSsOGwAABJlJREFUWMPtmE9oHFUcx7+b7L/MzG4DRQ8qZFWwRVoI2FOhYb3Ei9JU\n",
       "GpTaQw7+gdLgYg+2IDYU21BCIfQSEMGRHqyF0CWQg0ZwD6ZoRDrk0hWNLpRSECQp9GJMi7/3d96b\n",
       "mR1nyyIefPAm8+b3m9933pvf+81nA6CDfrSeolRafdF8pRfnH/oiiUoju68z3x9NfJzdtdzok+bp\n",
       "7K7FPkmi6Gd2/b5fmkPZF2yO+uL6ZytG9kaGCTmw8fyTX0cvurXMmgvUZyr7yxPhpcgwIQewHpyn\n",
       "v8P6IWh3lngynp9k7dV0zePk3SltDzSw8rO4Ioefd0/oD3HW30N/j+g5BoA3lXmebwI5lCl+KciP\n",
       "8itimNvoPtVhXIxfzG31okk5R89ZHMZDlYI0hJe2vNPxS/ns8zzODoc7jr/p46S8xoapmvmHuAan\n",
       "rRItv66fMdP7PARcqT8HFyM+XoMDNeQxnLg/7ULnwMAUmih76o0v7qKrpdHM81wCbj5xAS8zzWlc\n",
       "n1dDrsmGzp+QBzXy7l2dyrdwzZ2RMX5fZcnczKz5GHB1w5ttgdZ2B4Vjasg12RCvQx4KTGPSh3Mp\n",
       "+O4DUQV2v0CtwxYLhXpmzYLaZCKH1rSBv5+1mL8Xlrhd6pvpbFOQO9lLVkktUCXIUyVp2prx9XLD\n",
       "08e16zwFme2hTo6pk5U2LVugRtUv/wqMYVgYw9N1XYb2d1Ad7UHzivXljXyI4+6BXTZ1G+wFTqrB\n",
       "I35HXrSKwK/4F1q57eP/9h9sneh5UgZWuyRgTxpVdYfJ1OI8CY9/6fKByZb0UoN58zsEU899pfi6\n",
       "HcFjbvGoIFVmoqWaEvfWP+GWjovdPve+pZjaffqk4us3bDwWli9YZbYLobP3U9IcSt8wRlz8JLyp\n",
       "C6YufnvQ4GsTj4XFLKYvqZPffKNcd4FeKy73pi6Y+rBv8rWJx8JilpwfTU2cSNW04wrvE5Kply2+\n",
       "NvF4WXw4umoupGouR7h9gXfG1Hjvrb2Sr512w8JjYWEMsDibqLmUJhnGJQ6vSe8l+ZwP1FO4DN9K\n",
       "xrQeqIk3xxM1z6TOU8clDn9Hep8R3Fe9pxjwKca2Bh4LS6GFXOtiouaN1G+WjkvfnR3pfUPwrbel\n",
       "WNdnbGvgsbAU64SA05Il31YsyTVH0jTDuPC9bek9IjTdCW276Vt4LCykCX5PfJ7jqdszjAv+E2ic\n",
       "d762gzW9BpcdC+GFhdYWQzU/SXM1TdOIK0rKKu+H9I8FztfOfVfisR/+jMAgHa/Xm0map6B9rSoF\n",
       "Oy6wWZfep0Sub9YVX+e27oqtwSlaWdjmGak2IprfdNQ+MIk7HJlxgbNq18wxpqaXqPkaexoSjyf9\n",
       "0JKjxR54P/I+n3n3MvkehfTlxB3y97FIXDzLDkd550x9zubrOyE8S8uRpDrEd8NEBLRVW0Mk7rT0\n",
       "pk4l16t9YvP1rIJnbTmdVOPDf7u48fRpwoq7r7QtvVkfQ+HgvMXXAo8ZPGtLV3q9HQVtlUMBzLi5\n",
       "HZb63Ps2Z+pSu2PxtRBgKactzmjqr4A4LVTMuynupY+U91iEqcV5Eh7/0QU6stG71GDe1P8GxGNg\n",
       "KV/6TfkAAAAASUVORK5CYII=\n",
       "\" style=\"display:inline;vertical-align:middle;\" /></a><br>"
      ],
      "text/plain": [
       "merge_series_equiv: (x_{0}, x_{1}, ..., x_{j - i}) =  \\\\ (f(i), f(i + 1), ..., f(j))"
      ]
     },
     "execution_count": 164,
     "metadata": {},
     "output_type": "execute_result"
    }
   ],
   "source": [
    "merge_series_equiv = Equals(ExprTuple(x_0_to_jmi),\n",
    "                            ExprTuple(f_i_to_j))\\\n",
    "    .with_wrap_after_operator()"
   ]
  },
  {
   "cell_type": "code",
   "execution_count": 165,
   "metadata": {},
   "outputs": [
    {
     "data": {
      "text/html": [
       "<strong id=\"x_eq_y__1_to_n\">x_eq_y__1_to_n:</strong> <a class=\"ProveItLink\" href=\"../__pv_it/common/8f0e19a1034a8cd97899bb3f3bb1e1b3ab584df40/common_expr.ipynb\"><img src=\"data:image/png;base64,iVBORw0KGgoAAAANSUhEUgAAATsAAAAVBAMAAADLI1QGAAAAMFBMVEX////MzMxUVFRERES6uroi\n",
       "IiIQEBCYmJhmZmYyMjLu7u52dnaqqqqIiIjc3NwAAACW8nlqAAAAAXRSTlMAQObYZgAAAAlwSFlz\n",
       "AAAOxAAADsQBlSsOGwAAA3pJREFUSMeVlk1oE0EUx/+J+dhukm16KIi2NCgoWAqxeBKU4KEnpalY\n",
       "EFFYQRDEakQPVdQGscYPxNwEL64t2KoUS0Gk1EI8tH4dXApqxVYCRRBFm4IgVmidj+x2s7vZjnNI\n",
       "3sy8+e1/37zZNwCKWLUpVTtVWvE/eN6QWGF1x4Bu6cwIkPd4T88IyWOQNyKeH1bM6LCAfyzjNSuE\n",
       "4BA5L+JZo5nmAyH0Ha9JMQSDSBkRx3DWNHNC5G6vyZygPAIJiXkeMy1VyD+keUyqgvII5JWY520z\n",
       "b4SSATUemyKIYJAb5G9o6t6Y2/kdykFOcHPEGJNIWsuzW9Y/c/GXpzPo42YkUf2pXggrg0JoWLKx\n",
       "FiltzPd20raXmsOTCJf46FlrWCRM6b3mw5h/J5UTiaroKSdr3juyFYgqDAo5SH6L4UV/BgN2oq/Q\n",
       "C39SZsomjcEgCfNF9Gib8Whki21BA3nJjfLYBpJ3UY/8WkG4NMYwskDFESIDElHmm03b44wuhPTG\n",
       "d9RuMtM1BcRxjcYcvbYFWkhHlwS6E76SR8abCJfGGEZ8SlQeWUCrQjTtKBaLaIpjgpptVjYY4Bfm\n",
       "47YF7ZpvoTalLJClqrc8mBrgwjCer9LNJUNFWTPkWXKPBPU9uLwJ684gsISHOMflWfKGRCSmhjUq\n",
       "z/mulZvLEd2nZrNwY+Qap3nAdgD9qU2IuBHXJNBaVnaaBZ6O6ZC3+VXQuvTEvqCVLkGEgMJJlh3O\n",
       "vbMi5DNHccKNMdCWCRUZhHwx3q67gt1u8qRE4HdZHv3+yH/4YY8uDKoBEgHfAfuCS2gnp7Je4x8P\n",
       "PM6XF1FjpWcilKE8Ft0Y3z6ilkPqgcHZaK7gJk9unl4qy9tHfzrJEl8a8k395XnSnXNUhr7xW0Uo\n",
       "2+kG0vwKUv37qZE1fioRft2Zo4zRwpKdQIJmerulSyTP5SlsLkr1dJiXtqzivNaNAl/xE/jCeq+d\n",
       "FaMCEYpL2bgb4zCu+hhkpdg75Y3ifoHL4xeHSEWxn6tbq9lfRj4OZWvddaPqOy9OlYh5BBvibowS\n",
       "Op5zyE4jGKN/dRvrEJqB73fHiRRe5Nh5MUJ2cnnZfiR1/zBCy8slKEmWHLqzTlYgdiH21I0RSOBT\n",
       "hkP6q38BXkynyhZ/B/Y0OVm91l+4bJx5fhF3uqyGsDA4RNEF7q3WJPshcNf47D0tgmCQfxdaBNer\n",
       "H9VRAAAAAElFTkSuQmCC\n",
       "\" style=\"display:inline;vertical-align:middle;\" /></a><br>"
      ],
      "text/plain": [
       "x_eq_y__1_to_n: (x_{1} = y_{1}), (x_{2} = y_{2}), ..., (x_{n} = y_{n})"
      ]
     },
     "execution_count": 165,
     "metadata": {},
     "output_type": "execute_result"
    }
   ],
   "source": [
    "x_eq_y__1_to_n = ExprRange(k, Equals(IndexedVar(x, k), IndexedVar(y, k)), one, n)"
   ]
  },
  {
   "cell_type": "code",
   "execution_count": 166,
   "metadata": {},
   "outputs": [
    {
     "name": "stdout",
     "output_type": "stream",
     "text": [
      "These common expressions may now be imported from the theory package: proveit.core_expr_types\n"
     ]
    }
   ],
   "source": [
    "%end common"
   ]
  },
  {
   "cell_type": "code",
   "execution_count": null,
   "metadata": {},
   "outputs": [],
   "source": []
  }
 ],
 "metadata": {
  "kernelspec": {
   "display_name": "Python 3",
   "language": "python",
   "name": "python3"
  },
  "language_info": {
   "codemirror_mode": {
    "name": "ipython",
    "version": 3
   },
   "file_extension": ".py",
   "mimetype": "text/x-python",
   "name": "python",
   "nbconvert_exporter": "python",
   "pygments_lexer": "ipython3",
   "version": "3.7.3"
  }
 },
 "nbformat": 4,
 "nbformat_minor": 1
}
