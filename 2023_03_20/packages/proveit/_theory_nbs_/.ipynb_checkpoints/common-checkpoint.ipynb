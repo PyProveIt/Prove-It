{
 "cells": [
  {
   "cell_type": "markdown",
   "metadata": {},
   "source": [
    "Common expressions for the theory of <a class=\"ProveItLink\" href=\"theory.ipynb\">proveit</a>\n",
    "========\n",
    "\n",
    "These are generic common expressions based upon single-symbol Variable names."
   ]
  },
  {
   "cell_type": "code",
   "execution_count": 1,
   "metadata": {},
   "outputs": [],
   "source": [
    "import proveit\n",
    "# Prepare this notebook for defining the common expressions of a theory:\n",
    "%common_expressions_notebook # Keep this at the top following 'import proveit'.\n",
    "from proveit import Variable, Function\n",
    "#%begin common"
   ]
  },
  {
   "cell_type": "code",
   "execution_count": 2,
   "metadata": {},
   "outputs": [
    {
     "name": "stdout",
     "output_type": "stream",
     "text": [
      "Defining common sub-expressions for theory 'proveit'\n",
      "Subsequent end-of-cell assignments will define common sub-expressions\n",
      "%end_common will finalize the definitions\n"
     ]
    }
   ],
   "source": [
    "%begin common"
   ]
  },
  {
   "cell_type": "code",
   "execution_count": 3,
   "metadata": {},
   "outputs": [
    {
     "data": {
      "text/html": [
       "<strong id=\"a\">a:</strong> <a class=\"ProveItLink\" href=\"../__pv_it/common/c06c606ec12678c58933ac85412ecadc2ae28be60/common_expr.ipynb\"><img src=\"data:image/png;base64,iVBORw0KGgoAAAANSUhEUgAAAAsAAAAJBAMAAAAWSsseAAAAMFBMVEX////MzMwyMjKqqqoiIiJm\n",
       "ZmaYmJju7u5EREQQEBC6urqIiIh2dnZUVFTc3NwAAAAqL9KcAAAAAXRSTlMAQObYZgAAAAlwSFlz\n",
       "AAAOxAAADsQBlSsOGwAAAEdJREFUCNdjYOC7s28DAwPDygcc3xkY2KcxsDowMLB+YGA5wMDA2cBQ\n",
       "v4CBoX4DQz5QRb0BwyXmBwwcG5hdWYEqbx98u5EBABisEWzRR9jxAAAAAElFTkSuQmCC\n",
       "\" style=\"display:inline;vertical-align:middle;\" /></a><br>"
      ],
      "text/plain": [
       "a: a"
      ]
     },
     "execution_count": 3,
     "metadata": {},
     "output_type": "execute_result"
    }
   ],
   "source": [
    "a = Variable('a')"
   ]
  },
  {
   "cell_type": "code",
   "execution_count": 4,
   "metadata": {},
   "outputs": [
    {
     "data": {
      "text/html": [
       "<strong id=\"b\">b:</strong> <a class=\"ProveItLink\" href=\"../__pv_it/common/195236b98c6c564a75b5dbada74b173bc52d5c3e0/common_expr.ipynb\"><img src=\"data:image/png;base64,iVBORw0KGgoAAAANSUhEUgAAAAkAAAAOBAMAAAAPuiubAAAAMFBMVEX///+YmJjMzMzc3NyIiIhU\n",
       "VFR2dna6urqqqqpmZmYyMjIiIiIQEBBERETu7u4AAAD7tRWPAAAAAXRSTlMAQObYZgAAAAlwSFlz\n",
       "AAAOxAAADsQBlSsOGwAAAFBJREFUCNdj4LuzgQEIuCaASP4GEFn/AERmgwiGpS4RDAx8vx68N2Dg\n",
       "+MfA48DAuYCBP4GBO4GhvgGkfP4DBn4FvoMMDKwCvEAj+MImMjAAAMxHEV3T4g9SAAAAAElFTkSu\n",
       "QmCC\n",
       "\" style=\"display:inline;vertical-align:middle;\" /></a><br>"
      ],
      "text/plain": [
       "b: b"
      ]
     },
     "execution_count": 4,
     "metadata": {},
     "output_type": "execute_result"
    }
   ],
   "source": [
    "b = Variable('b')"
   ]
  },
  {
   "cell_type": "code",
   "execution_count": 5,
   "metadata": {},
   "outputs": [
    {
     "data": {
      "text/html": [
       "<strong id=\"c\">c:</strong> <a class=\"ProveItLink\" href=\"../__pv_it/common/ceef4280a2f1cc604b455b54e735507244cc62cd0/common_expr.ipynb\"><img src=\"data:image/png;base64,iVBORw0KGgoAAAANSUhEUgAAAAkAAAAJBAMAAAASvxsjAAAAKlBMVEX///+6urru7u4QEBBERERm\n",
       "ZmaqqqoiIiLc3NzMzMyYmJiIiIh2dnYAAAD4G3PmAAAAAXRSTlMAQObYZgAAAAlwSFlzAAAOxAAA\n",
       "DsQBlSsOGwAAADdJREFUCNdjYGA4vWsCA0N7AqsDA0MNA/MGBtZLDEDA7AAidTeASN4FDAwCDEAF\n",
       "PECVZ1ZtYgAAGvUKLuGCIxMAAAAASUVORK5CYII=\n",
       "\" style=\"display:inline;vertical-align:middle;\" /></a><br>"
      ],
      "text/plain": [
       "c: c"
      ]
     },
     "execution_count": 5,
     "metadata": {},
     "output_type": "execute_result"
    }
   ],
   "source": [
    "c = Variable('c')"
   ]
  },
  {
   "cell_type": "code",
   "execution_count": 6,
   "metadata": {},
   "outputs": [
    {
     "data": {
      "text/html": [
       "<strong id=\"d\">d:</strong> <a class=\"ProveItLink\" href=\"../__pv_it/common/4f5c524ffda87296de1c79b96880123fe2efedd50/common_expr.ipynb\"><img src=\"data:image/png;base64,iVBORw0KGgoAAAANSUhEUgAAAAsAAAAOBAMAAAALT/umAAAAMFBMVEX///+YmJhERESIiIhUVFTc\n",
       "3NwiIiJ2dnbu7u66urqqqqpmZmYQEBAyMjLMzMwAAAA7oY0NAAAAAXRSTlMAQObYZgAAAAlwSFlz\n",
       "AAAOxAAADsQBlSsOGwAAAFpJREFUCNdjYGBg4LuzgQEE+BeAqfkNYKoMTDLcBmJWd7tfQGpOANMP\n",
       "BgaOgwzcFxgYuD8wsBUwMPAoMPRPYGDoN2CQB6roX8DgyxXAwGTAlc0NVOlcF2LHAAArbBFFIDx4\n",
       "twAAAABJRU5ErkJggg==\n",
       "\" style=\"display:inline;vertical-align:middle;\" /></a><br>"
      ],
      "text/plain": [
       "d: d"
      ]
     },
     "execution_count": 6,
     "metadata": {},
     "output_type": "execute_result"
    }
   ],
   "source": [
    "d = Variable('d')"
   ]
  },
  {
   "cell_type": "code",
   "execution_count": 7,
   "metadata": {},
   "outputs": [
    {
     "data": {
      "text/html": [
       "<strong id=\"e\">e:</strong> <a class=\"ProveItLink\" href=\"../__pv_it/common/f3b2e5223a46d6d30e0676b70270e0fb96f45ce80/common_expr.ipynb\"><img src=\"data:image/png;base64,iVBORw0KGgoAAAANSUhEUgAAAAkAAAAJBAMAAAASvxsjAAAALVBMVEX///8yMjKqqqpUVFRERESY\n",
       "mJjc3NzMzMwiIiK6urpmZmaIiIh2dnbu7u4AAAC/MlpRAAAAAXRSTlMAQObYZgAAAAlwSFlzAAAO\n",
       "xAAADsQBlSsOGwAAADxJREFUCNdjYOA9vesCA8OMAvYDDGxPGbgnMLC83n2SgYHPgAEI+DaASI4D\n",
       "DAwKDKwCDLcSGBj2hG5gAACJFQ0f5+MpuQAAAABJRU5ErkJggg==\n",
       "\" style=\"display:inline;vertical-align:middle;\" /></a><br>"
      ],
      "text/plain": [
       "e: e"
      ]
     },
     "execution_count": 7,
     "metadata": {},
     "output_type": "execute_result"
    }
   ],
   "source": [
    "e = Variable('e')"
   ]
  },
  {
   "cell_type": "code",
   "execution_count": 8,
   "metadata": {},
   "outputs": [
    {
     "data": {
      "text/html": [
       "<strong id=\"f\">f:</strong> <a class=\"ProveItLink\" href=\"../__pv_it/common/01b6dbb444a31fc38af4c2379badef6c75b363710/common_expr.ipynb\"><img src=\"data:image/png;base64,iVBORw0KGgoAAAANSUhEUgAAAAsAAAASBAMAAAB/WzlGAAAAMFBMVEX///8yMjLc3NyIiIiYmJgi\n",
       "IiJERES6urqqqqoQEBDMzMxUVFTu7u52dnZmZmYAAAD1zdHuAAAAAXRSTlMAQObYZgAAAAlwSFlz\n",
       "AAAOxAAADsQBlSsOGwAAAFNJREFUCNdjYGBg4Lt7AEgy3F7ZAKJmlIF47H9AbAbeABDJsjP6AYjm\n",
       "NwAL6i8AU/1gkuEqhMqGUJPBJNN3MMXxAUzxbQCR3Yxg48MOgsWcH4FIAPpLEj1ig8ApAAAAAElF\n",
       "TkSuQmCC\n",
       "\" style=\"display:inline;vertical-align:middle;\" /></a><br>"
      ],
      "text/plain": [
       "f: f"
      ]
     },
     "execution_count": 8,
     "metadata": {},
     "output_type": "execute_result"
    }
   ],
   "source": [
    "f = Variable('f')"
   ]
  },
  {
   "cell_type": "code",
   "execution_count": 9,
   "metadata": {},
   "outputs": [
    {
     "data": {
      "text/html": [
       "<strong id=\"g\">g:</strong> <a class=\"ProveItLink\" href=\"../__pv_it/common/96ac097ea7ee432328a5e933062d0ef407701bf40/common_expr.ipynb\"><img src=\"data:image/png;base64,iVBORw0KGgoAAAANSUhEUgAAAAoAAAANBAMAAABiGeI2AAAAMFBMVEX///8iIiJmZma6urrMzMxU\n",
       "VFTu7u5EREQQEBAyMjKYmJjc3NyIiIh2dnaqqqoAAADvjgrBAAAAAXRSTlMAQObYZgAAAAlwSFlz\n",
       "AAAOxAAADsQBlSsOGwAAAFNJREFUCNdjYGB4e2YXAwPvBO52Bob3CQx/GBhaGVh+M7D8Y+BpYOD6\n",
       "zcAewMD1gSF/AQPbb4b4BAYG07OKDCAwiYHBNYHlCwNDRELmAZCwMgMDAFhPFH0HQRfPAAAAAElF\n",
       "TkSuQmCC\n",
       "\" style=\"display:inline;vertical-align:middle;\" /></a><br>"
      ],
      "text/plain": [
       "g: g"
      ]
     },
     "execution_count": 9,
     "metadata": {},
     "output_type": "execute_result"
    }
   ],
   "source": [
    "g = Variable('g')"
   ]
  },
  {
   "cell_type": "code",
   "execution_count": 10,
   "metadata": {},
   "outputs": [
    {
     "data": {
      "text/html": [
       "<strong id=\"h\">h:</strong> <a class=\"ProveItLink\" href=\"../__pv_it/common/f13b5f19f59b59184c9a6a576c072499648aa8a80/common_expr.ipynb\"><img src=\"data:image/png;base64,iVBORw0KGgoAAAANSUhEUgAAAAsAAAAOBAMAAAALT/umAAAAMFBMVEX///+IiIjMzMxUVFTc3NyY\n",
       "mJh2dna6urqqqqpmZmYyMjIiIiIQEBBERETu7u4AAAA/tVebAAAAAXRSTlMAQObYZgAAAAlwSFlz\n",
       "AAAOxAAADsQBlSsOGwAAAFhJREFUCNdj4LuzgQEEuCaAKf4GMFX/AExlg0mGla25DgwMfL8cmA0Y\n",
       "GDg+MTBfYGDgXMDAncAAwv4KDAzvCxhygArjGRiOsTow2DIwfGJjYLjKwCAmwAAALVkRBAlsBZ0A\n",
       "AAAASUVORK5CYII=\n",
       "\" style=\"display:inline;vertical-align:middle;\" /></a><br>"
      ],
      "text/plain": [
       "h: h"
      ]
     },
     "execution_count": 10,
     "metadata": {},
     "output_type": "execute_result"
    }
   ],
   "source": [
    "h = Variable('h')"
   ]
  },
  {
   "cell_type": "code",
   "execution_count": 11,
   "metadata": {},
   "outputs": [
    {
     "data": {
      "text/html": [
       "<strong id=\"i\">i:</strong> <a class=\"ProveItLink\" href=\"../__pv_it/common/ae955345c83abf786c3aff8681cd5465beae262d0/common_expr.ipynb\"><img src=\"data:image/png;base64,iVBORw0KGgoAAAANSUhEUgAAAAcAAAAOBAMAAAARcxsoAAAALVBMVEX////c3NxUVFQyMjKqqqrM\n",
       "zMwQEBC6urqYmJju7u52dnYiIiJmZmaIiIgAAABgwC6IAAAAAXRSTlMAQObYZgAAAAlwSFlzAAAO\n",
       "xAAADsQBlSsOGwAAADpJREFUCNdjYGC4wwAEuxjQAeedBgYGLvYEBoYQHgMGhglsF4CCfhOAhBEn\n",
       "UPY5FwMD6wMJIFejgQEAGf4JG7xeJHMAAAAASUVORK5CYII=\n",
       "\" style=\"display:inline;vertical-align:middle;\" /></a><br>"
      ],
      "text/plain": [
       "i: i"
      ]
     },
     "execution_count": 11,
     "metadata": {},
     "output_type": "execute_result"
    }
   ],
   "source": [
    "i = Variable('i')"
   ]
  },
  {
   "cell_type": "code",
   "execution_count": 12,
   "metadata": {},
   "outputs": [
    {
     "data": {
      "text/html": [
       "<strong id=\"j\">j:</strong> <a class=\"ProveItLink\" href=\"../__pv_it/common/1ed21df18baca2f42b561a7ffbf30a2743d594650/common_expr.ipynb\"><img src=\"data:image/png;base64,iVBORw0KGgoAAAANSUhEUgAAAAoAAAASBAMAAACQmVJ4AAAAMFBMVEX///+6urp2dnYiIiKqqqrc\n",
       "3NyYmJgQEBBmZmZUVFQyMjKIiIju7u5ERETMzMwAAACiJdmqAAAAAXRSTlMAQObYZgAAAAlwSFlz\n",
       "AAAOxAAADsQBlSsOGwAAAExJREFUCNdjYGBg4LsDJBi4FzBgA6d3gsgG9gSgigB+BwYGHgb/AyCh\n",
       "ZrC0EYhg/Qgi2T6ASM4LIJJ9A5DlkA9U+N7BBMjn2CHAwAAAZeMNomSBQaEAAAAASUVORK5CYII=\n",
       "\" style=\"display:inline;vertical-align:middle;\" /></a><br>"
      ],
      "text/plain": [
       "j: j"
      ]
     },
     "execution_count": 12,
     "metadata": {},
     "output_type": "execute_result"
    }
   ],
   "source": [
    "j = Variable('j')"
   ]
  },
  {
   "cell_type": "code",
   "execution_count": 13,
   "metadata": {},
   "outputs": [
    {
     "data": {
      "text/html": [
       "<strong id=\"k\">k:</strong> <a class=\"ProveItLink\" href=\"../__pv_it/common/63b7c64bf9ec7a04ecc396c7a1670f3f12fb59490/common_expr.ipynb\"><img src=\"data:image/png;base64,iVBORw0KGgoAAAANSUhEUgAAAAoAAAAOBAMAAADkjZCYAAAAMFBMVEX///+IiIjMzMzc3NyYmJhU\n",
       "VFR2dna6urqqqqpmZmYyMjIiIiIQEBBERETu7u4AAAAsfX+gAAAAAXRSTlMAQObYZgAAAAlwSFlz\n",
       "AAAOxAAADsQBlSsOGwAAAE9JREFUCNdj4LuzgQEIuCaASP4GEFn/AETmgAiGpQxt8xj4vnA0H2Hg\n",
       "+FzBtJiB84gCUJh75SQg+b6hHsjxf/C+QYAhiuG9QgLDDQbGiQ8AB/oVwy2yg0cAAAAASUVORK5C\n",
       "YII=\n",
       "\" style=\"display:inline;vertical-align:middle;\" /></a><br>"
      ],
      "text/plain": [
       "k: k"
      ]
     },
     "execution_count": 13,
     "metadata": {},
     "output_type": "execute_result"
    }
   ],
   "source": [
    "k = Variable('k')"
   ]
  },
  {
   "cell_type": "code",
   "execution_count": 14,
   "metadata": {},
   "outputs": [
    {
     "data": {
      "text/html": [
       "<strong id=\"l\">l:</strong> <a class=\"ProveItLink\" href=\"../__pv_it/common/27cc275d44b4f4499fb9ccfb3fab1a98165d2fa60/common_expr.ipynb\"><img src=\"data:image/png;base64,iVBORw0KGgoAAAANSUhEUgAAAAYAAAAOBAMAAAD+sXAWAAAALVBMVEX///+6urru7u4QEBBERERU\n",
       "VFTc3NyIiIgyMjJmZmaYmJjMzMwiIiJ2dnYAAADXf7CVAAAAAXRSTlMAQObYZgAAAAlwSFlzAAAO\n",
       "xAAADsQBlSsOGwAAAD9JREFUCNdjYLjzmoGB6wEDA2cDAwNPAQND3gYGhnUMDAwhQGzOwMD9jIGB\n",
       "3YCBgSVAgYFvwQUGPqECBq65DAA54ApfLr4OSQAAAABJRU5ErkJggg==\n",
       "\" style=\"display:inline;vertical-align:middle;\" /></a><br>"
      ],
      "text/plain": [
       "l: l"
      ]
     },
     "execution_count": 14,
     "metadata": {},
     "output_type": "execute_result"
    }
   ],
   "source": [
    "l = Variable('l')"
   ]
  },
  {
   "cell_type": "code",
   "execution_count": 15,
   "metadata": {},
   "outputs": [
    {
     "data": {
      "text/html": [
       "<strong id=\"m\">m:</strong> <a class=\"ProveItLink\" href=\"../__pv_it/common/674a03b9c3ca221b3aabd5636837b31528ff33830/common_expr.ipynb\"><img src=\"data:image/png;base64,iVBORw0KGgoAAAANSUhEUgAAABIAAAAJBAMAAADN8WE8AAAAMFBMVEX///8yMjJmZmYiIiIQEBCq\n",
       "qqqYmJjMzMxERER2dnbc3Nzu7u5UVFSIiIi6uroAAACibcT0AAAAAXRSTlMAQObYZgAAAAlwSFlz\n",
       "AAAOxAAADsQBlSsOGwAAAF9JREFUCNdj4Luza24v+8w+BgZOjrMM+/MYQhgY3jE3MKy/wJDPwLBh\n",
       "/wOG+A0MigwMDPEMIMoTyDrIwGDJwPeLG8Tj/sfAI7CMges7A9sHBo4JExj4DBh4FRj4dBcAAHmM\n",
       "Fol5FJjkAAAAAElFTkSuQmCC\n",
       "\" style=\"display:inline;vertical-align:middle;\" /></a><br>"
      ],
      "text/plain": [
       "m: m"
      ]
     },
     "execution_count": 15,
     "metadata": {},
     "output_type": "execute_result"
    }
   ],
   "source": [
    "m = Variable('m')"
   ]
  },
  {
   "cell_type": "code",
   "execution_count": 16,
   "metadata": {},
   "outputs": [
    {
     "data": {
      "text/html": [
       "<strong id=\"n\">n:</strong> <a class=\"ProveItLink\" href=\"../__pv_it/common/8968bb04eb3f7dfa02353397ce929b025bbd79c20/common_expr.ipynb\"><img src=\"data:image/png;base64,iVBORw0KGgoAAAANSUhEUgAAAAwAAAAJBAMAAAD0ltBnAAAALVBMVEX///8QEBCYmJgyMjKqqqrM\n",
       "zMwiIiJERER2dnbc3Nzu7u5UVFSIiIi6uroAAAAOXe2hAAAAAXRSTlMAQObYZgAAAAlwSFlzAAAO\n",
       "xAAADsQBlSsOGwAAAEVJREFUCNdj4D29sqeGgYGDfQ/DugkMd9kKGOYFMCxYd4HBbwEDgx8Dw2YG\n",
       "MH7ExcAgwcDyioOB8ykDj4EqA28CA9cmBwBIPxBGQWFjwAAAAABJRU5ErkJggg==\n",
       "\" style=\"display:inline;vertical-align:middle;\" /></a><br>"
      ],
      "text/plain": [
       "n: n"
      ]
     },
     "execution_count": 16,
     "metadata": {},
     "output_type": "execute_result"
    }
   ],
   "source": [
    "n = Variable('n')"
   ]
  },
  {
   "cell_type": "code",
   "execution_count": 17,
   "metadata": {},
   "outputs": [
    {
     "data": {
      "text/html": [
       "<strong id=\"o\">o:</strong> <a class=\"ProveItLink\" href=\"../__pv_it/common/5f58f2889c6bd74457c81f6b50dc3a365769dfdf0/common_expr.ipynb\"><img src=\"data:image/png;base64,iVBORw0KGgoAAAANSUhEUgAAAAoAAAAJBAMAAAD5iKAgAAAAJ1BMVEX///+YmJju7u5EREQQEBBm\n",
       "ZmYiIiLc3Ny6urpUVFSIiIh2dnYAAADGkcEYAAAAAXRSTlMAQObYZgAAAAlwSFlzAAAOxAAADsQB\n",
       "lSsOGwAAAD9JREFUCNdjYGDYtbKBgaGsgf04A0MWA0M2A+sBBgZPBhYDBvZTDDoLGLiPM/AIMLBs\n",
       "YGCdwGDKwMCwe2kDAwBD/guoUbzvlQAAAABJRU5ErkJggg==\n",
       "\" style=\"display:inline;vertical-align:middle;\" /></a><br>"
      ],
      "text/plain": [
       "o: o"
      ]
     },
     "execution_count": 17,
     "metadata": {},
     "output_type": "execute_result"
    }
   ],
   "source": [
    "o = Variable('o')"
   ]
  },
  {
   "cell_type": "code",
   "execution_count": 18,
   "metadata": {},
   "outputs": [
    {
     "data": {
      "text/html": [
       "<strong id=\"p\">p:</strong> <a class=\"ProveItLink\" href=\"../__pv_it/common/bbfd8ec921873eb340439a30c11dc66622cd75e90/common_expr.ipynb\"><img src=\"data:image/png;base64,iVBORw0KGgoAAAANSUhEUgAAAAwAAAANBAMAAABvB5JxAAAAMFBMVEX////c3NxmZmYiIiIQEBC6\n",
       "urqYmJhERESqqqoyMjJ2dnbu7u5UVFSIiIjMzMwAAAA1xb5JAAAAAXRSTlMAQObYZgAAAAlwSFlz\n",
       "AAAOxAAADsQBlSsOGwAAAFdJREFUCNdjYHh7+u2aDQwMC042cBUw8DXMYWD7wMDN8IOB9zcDA+tv\n",
       "BnYHBgYuAwZ+BQYGTgWGFKDK/QWMdgwMDP1vbwkAKU0GMLACk9w/wFTnzwQgCQB4YBSZb4ThEgAA\n",
       "AABJRU5ErkJggg==\n",
       "\" style=\"display:inline;vertical-align:middle;\" /></a><br>"
      ],
      "text/plain": [
       "p: p"
      ]
     },
     "execution_count": 18,
     "metadata": {},
     "output_type": "execute_result"
    }
   ],
   "source": [
    "p = Variable('p')"
   ]
  },
  {
   "cell_type": "code",
   "execution_count": 19,
   "metadata": {},
   "outputs": [
    {
     "data": {
      "text/html": [
       "<strong id=\"q\">q:</strong> <a class=\"ProveItLink\" href=\"../__pv_it/common/e94b28ab65b49707a4f3bf26580dfe7bba3eebd90/common_expr.ipynb\"><img src=\"data:image/png;base64,iVBORw0KGgoAAAANSUhEUgAAAAoAAAANBAMAAABiGeI2AAAAMFBMVEX///+qqqpERERmZmYyMjKY\n",
       "mJgQEBAiIiK6urrMzMzu7u52dnaIiIhUVFTc3NwAAACJFj3CAAAAAXRSTlMAQObYZgAAAAlwSFlz\n",
       "AAAOxAAADsQBlSsOGwAAAFBJREFUCNdjYOC7s+skA0P7A94PDFypDLwODMwfGNg3MLApMLxvYFh/\n",
       "gCGegWG9AIMKAwPTAdbfDAxcdw7+YAAC1g8gEqgcCNg2AAlu/2oGAEnMEqy+UAl1AAAAAElFTkSu\n",
       "QmCC\n",
       "\" style=\"display:inline;vertical-align:middle;\" /></a><br>"
      ],
      "text/plain": [
       "q: q"
      ]
     },
     "execution_count": 19,
     "metadata": {},
     "output_type": "execute_result"
    }
   ],
   "source": [
    "q = Variable('q')"
   ]
  },
  {
   "cell_type": "code",
   "execution_count": 20,
   "metadata": {},
   "outputs": [
    {
     "data": {
      "text/html": [
       "<strong id=\"r\">r:</strong> <a class=\"ProveItLink\" href=\"../__pv_it/common/c3df45f28d41d286d2eebe2be9be7af76c74d56b0/common_expr.ipynb\"><img src=\"data:image/png;base64,iVBORw0KGgoAAAANSUhEUgAAAAoAAAAJBAMAAAD5iKAgAAAAJ1BMVEX///+6urru7u4iIiIyMjIQ\n",
       "EBCYmJhmZmbc3NxERER2dnbMzMwAAABmRK5wAAAAAXRSTlMAQObYZgAAAAlwSFlzAAAOxAAADsQB\n",
       "lSsOGwAAADJJREFUCNdj4F7JUZXAwMVZxRXA0MZiwL6AYRNPAgMQyCiAyGIQwWAFIjgOgkhGAyAB\n",
       "APEiBuDR5LV9AAAAAElFTkSuQmCC\n",
       "\" style=\"display:inline;vertical-align:middle;\" /></a><br>"
      ],
      "text/plain": [
       "r: r"
      ]
     },
     "execution_count": 20,
     "metadata": {},
     "output_type": "execute_result"
    }
   ],
   "source": [
    "r = Variable('r')"
   ]
  },
  {
   "cell_type": "code",
   "execution_count": 21,
   "metadata": {},
   "outputs": [
    {
     "data": {
      "text/html": [
       "<strong id=\"s\">s:</strong> <a class=\"ProveItLink\" href=\"../__pv_it/common/811706e3598661dd7051509b3af45e1ece9837d80/common_expr.ipynb\"><img src=\"data:image/png;base64,iVBORw0KGgoAAAANSUhEUgAAAAgAAAAJBAMAAAD9fXAdAAAAKlBMVEX///+qqqoyMjIiIiKYmJjc\n",
       "3Ny6urrMzMxERETu7u5mZmaIiIh2dnYAAACkT8GYAAAAAXRSTlMAQObYZgAAAAlwSFlzAAAOxAAA\n",
       "DsQBlSsOGwAAADVJREFUCNdjYODZvZKBoZ0hi4H1AkMLA+sNVwYGhrN3DwDJjJsMhxkYbjJoMzAu\n",
       "YKj23sIAABD8DGqAZJBNAAAAAElFTkSuQmCC\n",
       "\" style=\"display:inline;vertical-align:middle;\" /></a><br>"
      ],
      "text/plain": [
       "s: s"
      ]
     },
     "execution_count": 21,
     "metadata": {},
     "output_type": "execute_result"
    }
   ],
   "source": [
    "s = Variable('s')"
   ]
  },
  {
   "cell_type": "code",
   "execution_count": 22,
   "metadata": {},
   "outputs": [
    {
     "data": {
      "text/html": [
       "<strong id=\"t\">t:</strong> <a class=\"ProveItLink\" href=\"../__pv_it/common/36861eae73a44b53d5b3b017ac6a3a9dae53bfba0/common_expr.ipynb\"><img src=\"data:image/png;base64,iVBORw0KGgoAAAANSUhEUgAAAAcAAAANBAMAAACX52mGAAAALVBMVEX///+YmJjMzMwyMjKIiIhE\n",
       "RERUVFS6urp2dnZmZmaqqqrc3NwiIiLu7u4AAACZlRv6AAAAAXRSTlMAQObYZgAAAAlwSFlzAAAO\n",
       "xAAADsQBlSsOGwAAAEBJREFUCNdjYOA9zcDAwPUWSHAeABI8DQwMZXFhDgwM64A8hskg4gQQ8z4H\n",
       "KXvAcIGB04BLgYEt4QoDA3egAAMAb+YLT6V5LAwAAAAASUVORK5CYII=\n",
       "\" style=\"display:inline;vertical-align:middle;\" /></a><br>"
      ],
      "text/plain": [
       "t: t"
      ]
     },
     "execution_count": 22,
     "metadata": {},
     "output_type": "execute_result"
    }
   ],
   "source": [
    "t = Variable('t')"
   ]
  },
  {
   "cell_type": "code",
   "execution_count": 23,
   "metadata": {},
   "outputs": [
    {
     "data": {
      "text/html": [
       "<strong id=\"u\">u:</strong> <a class=\"ProveItLink\" href=\"../__pv_it/common/0d656bb6691dcf7801631ede213504e1b012f3d50/common_expr.ipynb\"><img src=\"data:image/png;base64,iVBORw0KGgoAAAANSUhEUgAAAAwAAAAJBAMAAAD0ltBnAAAAMFBMVEX///9ERETc3Ny6uroyMjIi\n",
       "IiLMzMwQEBCqqqp2dnZUVFSYmJhmZmaIiIju7u4AAACfX4gyAAAAAXRSTlMAQObYZgAAAAlwSFlz\n",
       "AAAOxAAADsQBlSsOGwAAAEZJREFUCNdj4LuzgYHrAQMnRwHDfgaGDJ4AhiUMDA/YLzDUMjAw2D9g\n",
       "+gakjjLwfgBSUgyMAvsYGE4xpE+YwMDwam7T2gQACNoRithUWJoAAAAASUVORK5CYII=\n",
       "\" style=\"display:inline;vertical-align:middle;\" /></a><br>"
      ],
      "text/plain": [
       "u: u"
      ]
     },
     "execution_count": 23,
     "metadata": {},
     "output_type": "execute_result"
    }
   ],
   "source": [
    "u = Variable('u')"
   ]
  },
  {
   "cell_type": "code",
   "execution_count": 24,
   "metadata": {},
   "outputs": [
    {
     "data": {
      "text/html": [
       "<strong id=\"v\">v:</strong> <a class=\"ProveItLink\" href=\"../__pv_it/common/a4b9661da9b52dcebf59c5559fec8901f4df10750/common_expr.ipynb\"><img src=\"data:image/png;base64,iVBORw0KGgoAAAANSUhEUgAAAAoAAAAJBAMAAAD5iKAgAAAALVBMVEX////c3NxEREQyMjJmZmbM\n",
       "zMxUVFQQEBCqqqoiIiKYmJh2dnaIiIju7u4AAACa0s5gAAAAAXRSTlMAQObYZgAAAAlwSFlzAAAO\n",
       "xAAADsQBlSsOGwAAAD9JREFUCNdj4D29gGEGAzdHAUMZQwSLAUM3wwX2AwwRDAx9FxgOMDB4MjBs\n",
       "YGBQY+AQYGDYzCDDwMDAkrWAAQBYoAtC+ast5AAAAABJRU5ErkJggg==\n",
       "\" style=\"display:inline;vertical-align:middle;\" /></a><br>"
      ],
      "text/plain": [
       "v: v"
      ]
     },
     "execution_count": 24,
     "metadata": {},
     "output_type": "execute_result"
    }
   ],
   "source": [
    "v = Variable('v')"
   ]
  },
  {
   "cell_type": "code",
   "execution_count": 25,
   "metadata": {},
   "outputs": [
    {
     "data": {
      "text/html": [
       "<strong id=\"w\">w:</strong> <a class=\"ProveItLink\" href=\"../__pv_it/common/d365663894822dede40e6e04c77860068334d0820/common_expr.ipynb\"><img src=\"data:image/png;base64,iVBORw0KGgoAAAANSUhEUgAAAA8AAAAJBAMAAAAfoWtkAAAAMFBMVEX////c3NwyMjK6urpERERU\n",
       "VFQQEBAiIiKqqqpmZmbMzMyYmJh2dnaIiIju7u4AAABkYOyCAAAAAXRSTlMAQObYZgAAAAlwSFlz\n",
       "AAAOxAAADsQBlSsOGwAAAFZJREFUCNdj4LuzgWElQ/sDBh6OBIYQBnsDhhWcBQy5DEwCDA/YLnD9\n",
       "YuBkYGDof8CbwMALZExiYAlgWAxkuDKwH2A4AGQcYTALYDYAMjjn3Is8zcAAAB8iEqcpfR60AAAA\n",
       "AElFTkSuQmCC\n",
       "\" style=\"display:inline;vertical-align:middle;\" /></a><br>"
      ],
      "text/plain": [
       "w: w"
      ]
     },
     "execution_count": 25,
     "metadata": {},
     "output_type": "execute_result"
    }
   ],
   "source": [
    "w = Variable('w')"
   ]
  },
  {
   "cell_type": "code",
   "execution_count": 26,
   "metadata": {},
   "outputs": [
    {
     "data": {
      "text/html": [
       "<strong id=\"x\">x:</strong> <a class=\"ProveItLink\" href=\"../__pv_it/common/a0d9d672aa5e272d907247690c152cc2c6daafb70/common_expr.ipynb\"><img src=\"data:image/png;base64,iVBORw0KGgoAAAANSUhEUgAAAAsAAAAJBAMAAAAWSsseAAAAMFBMVEX///9ERES6uroQEBAyMjLc\n",
       "3NyYmJgiIiJmZmaqqqp2dnbMzMxUVFSIiIju7u4AAAAd7oVFAAAAAXRSTlMAQObYZgAAAAlwSFlz\n",
       "AAAOxAAADsQBlSsOGwAAAENJREFUCNdjYHh75/WqCQwMDbxnOQoY2ALY/vEkMHAzcDgwgADzBTCl\n",
       "H8D3gOGhwmEGLgaG+fuaGTQZGF7c5WybwAAAJTwQ1a2DuB8AAAAASUVORK5CYII=\n",
       "\" style=\"display:inline;vertical-align:middle;\" /></a><br>"
      ],
      "text/plain": [
       "x: x"
      ]
     },
     "execution_count": 26,
     "metadata": {},
     "output_type": "execute_result"
    }
   ],
   "source": [
    "x = Variable('x')"
   ]
  },
  {
   "cell_type": "code",
   "execution_count": 27,
   "metadata": {},
   "outputs": [
    {
     "data": {
      "text/html": [
       "<strong id=\"y\">y:</strong> <a class=\"ProveItLink\" href=\"../__pv_it/common/ff7dba4ef0bbe791ab573bf2d9c220a304399ac80/common_expr.ipynb\"><img src=\"data:image/png;base64,iVBORw0KGgoAAAANSUhEUgAAAAsAAAANBAMAAACN24kIAAAAMFBMVEX////c3NwyMjK6urpEREQi\n",
       "IiLMzMwQEBCqqqp2dnZUVFSYmJhmZmaIiIju7u4AAADlKNhoAAAAAXRSTlMAQObYZgAAAAlwSFlz\n",
       "AAAOxAAADsQBlSsOGwAAAFhJREFUCNdj4LuzgeEVAwMnRwHDfgaGDJ4AhiUMDA/YLzDUMjAw2D9g\n",
       "+wakDjHwFgApLwaWBUDqFIP9BiD1au55AQYQmATEnAp8FUCK9QLXBCDFsfcwkAQA5QkUAIef7yAA\n",
       "AAAASUVORK5CYII=\n",
       "\" style=\"display:inline;vertical-align:middle;\" /></a><br>"
      ],
      "text/plain": [
       "y: y"
      ]
     },
     "execution_count": 27,
     "metadata": {},
     "output_type": "execute_result"
    }
   ],
   "source": [
    "y = Variable('y')"
   ]
  },
  {
   "cell_type": "code",
   "execution_count": 28,
   "metadata": {},
   "outputs": [
    {
     "data": {
      "text/html": [
       "<strong id=\"z\">z:</strong> <a class=\"ProveItLink\" href=\"../__pv_it/common/95a8f6b9b9f29b83f192ad7fd05708d6be097a3f0/common_expr.ipynb\"><img src=\"data:image/png;base64,iVBORw0KGgoAAAANSUhEUgAAAAoAAAAJBAMAAAD5iKAgAAAALVBMVEX///8QEBCqqqq6urpUVFRE\n",
       "RER2dnaIiIgyMjLu7u6YmJjc3NwiIiLMzMwAAADJyTusAAAAAXRSTlMAQObYZgAAAAlwSFlzAAAO\n",
       "xAAADsQBlSsOGwAAADpJREFUCNdjYOA9c2EXA8OMsjAHBoadDGwTGBgYODOBBMN2EMG8gAEoosTA\n",
       "4MDAGxaec4GBjUGxmQEARJIKtR0UXXkAAAAASUVORK5CYII=\n",
       "\" style=\"display:inline;vertical-align:middle;\" /></a><br>"
      ],
      "text/plain": [
       "z: z"
      ]
     },
     "execution_count": 28,
     "metadata": {},
     "output_type": "execute_result"
    }
   ],
   "source": [
    "z = Variable('z')"
   ]
  },
  {
   "cell_type": "code",
   "execution_count": 29,
   "metadata": {},
   "outputs": [
    {
     "data": {
      "text/html": [
       "<strong id=\"A\">A:</strong> <a class=\"ProveItLink\" href=\"../__pv_it/common/09585084922504426caf1db2ff588a23a0932a960/common_expr.ipynb\"><img src=\"data:image/png;base64,iVBORw0KGgoAAAANSUhEUgAAAA8AAAAPBAMAAADJ+Ih5AAAAMFBMVEX///8QEBAiIiLu7u5ERES6\n",
       "urqYmJiIiIjMzMx2dnZUVFRmZmaqqqoyMjLc3NwAAABb1yYoAAAAAXRSTlMAQObYZgAAAAlwSFlz\n",
       "AAAOxAAADsQBlSsOGwAAAF9JREFUCNdjYACBtwxQcB9K8/yHMrjXP4Aw5s1vANN8BfUHIDIM5xPA\n",
       "jBiG/glgxgaG9wtANLv37vUOIIY5AwO/AkSGgUkASLMCdfB+ADIeAjHLPwYGk/+XGXj8/04AADnq\n",
       "Fzds8Dk2AAAAAElFTkSuQmCC\n",
       "\" style=\"display:inline;vertical-align:middle;\" /></a><br>"
      ],
      "text/plain": [
       "A: A"
      ]
     },
     "execution_count": 29,
     "metadata": {},
     "output_type": "execute_result"
    }
   ],
   "source": [
    "A = Variable('A')"
   ]
  },
  {
   "cell_type": "code",
   "execution_count": 30,
   "metadata": {},
   "outputs": [
    {
     "data": {
      "text/html": [
       "<strong id=\"B\">B:</strong> <a class=\"ProveItLink\" href=\"../__pv_it/common/a9162d1c3cc0470c02e5daf414500903a7a419230/common_expr.ipynb\"><img src=\"data:image/png;base64,iVBORw0KGgoAAAANSUhEUgAAABAAAAAOBAMAAADUAYG5AAAAMFBMVEX///92dnaqqqoiIiLu7u5m\n",
       "Zma6urqIiIjc3NwQEBDMzMwyMjJUVFRERESYmJgAAAAeMT9/AAAAAXRSTlMAQObYZgAAAAlwSFlz\n",
       "AAAOxAAADsQBlSsOGwAAAHJJREFUCNdjYGB4+//Mmb0LGIBgLgMDzy8gzfGdgYHtK5DBB+TxATkM\n",
       "PB8YGLhnABmcFxhYDoMUr79efvoBSFN9AwPTPBDjJhDLg6T+APH7AgYGrn9AxvkEBgb2H0DObyCH\n",
       "ewIDQ+YWoHH3/5w5fYmBAQBWoiHo17XzsQAAAABJRU5ErkJggg==\n",
       "\" style=\"display:inline;vertical-align:middle;\" /></a><br>"
      ],
      "text/plain": [
       "B: B"
      ]
     },
     "execution_count": 30,
     "metadata": {},
     "output_type": "execute_result"
    }
   ],
   "source": [
    "B = Variable('B')"
   ]
  },
  {
   "cell_type": "code",
   "execution_count": 31,
   "metadata": {},
   "outputs": [
    {
     "data": {
      "text/html": [
       "<strong id=\"C\">C:</strong> <a class=\"ProveItLink\" href=\"../__pv_it/common/9fba9f29e823606ff4fdf2f1c6d5d08d906e850a0/common_expr.ipynb\"><img src=\"data:image/png;base64,iVBORw0KGgoAAAANSUhEUgAAAA8AAAAOBAMAAAACpFvcAAAAMFBMVEX///+6uroyMjLMzMwiIiJm\n",
       "ZmaqqqoQEBB2dnbc3NyYmJhUVFRERESIiIju7u4AAABBACUiAAAAAXRSTlMAQObYZgAAAAlwSFlz\n",
       "AAAOxAAADsQBlSsOGwAAAGVJREFUCNdjYGDgu7N7F2cDAwPD9XsMbCELGBjeOAM58RMYGNQfABni\n",
       "DAwc34A0gykDw3wHEOMxA0P/BQYI8J8AZdSDSaAGfxDNZgAxgYEDiOeDFPeBRH8xMEiAzGR4enqr\n",
       "AJACACwBF0zzC0cUAAAAAElFTkSuQmCC\n",
       "\" style=\"display:inline;vertical-align:middle;\" /></a><br>"
      ],
      "text/plain": [
       "C: C"
      ]
     },
     "execution_count": 31,
     "metadata": {},
     "output_type": "execute_result"
    }
   ],
   "source": [
    "C = Variable('C')"
   ]
  },
  {
   "cell_type": "code",
   "execution_count": 32,
   "metadata": {},
   "outputs": [
    {
     "data": {
      "text/html": [
       "<strong id=\"D\">D:</strong> <a class=\"ProveItLink\" href=\"../__pv_it/common/8d36d28f3636cdaa66f8b7d56eb3bbf0b50f70200/common_expr.ipynb\"><img src=\"data:image/png;base64,iVBORw0KGgoAAAANSUhEUgAAABEAAAAOBAMAAAA7w+qHAAAAMFBMVEX///8iIiLu7u52dna6uroQ\n",
       "EBBmZmbMzMyqqqqYmJgyMjLc3NxUVFRERESIiIgAAACK51z6AAAAAXRSTlMAQObYZgAAAAlwSFlz\n",
       "AAAOxAAADsQBlSsOGwAAAGhJREFUCNdjYGB4+//O2TsbGEDgFwMD5w8Qg/0fkEgFsfi+Awn/CUCC\n",
       "9wOQ2G8AJPgvAIn6AyDiAZCYDxJ7XwAkzjsAifsgbV9BxF8g5vwJM071Asy4WyBJLqBxjglABs/9\n",
       "P2fuZgMZABbOIFPVVgQmAAAAAElFTkSuQmCC\n",
       "\" style=\"display:inline;vertical-align:middle;\" /></a><br>"
      ],
      "text/plain": [
       "D: D"
      ]
     },
     "execution_count": 32,
     "metadata": {},
     "output_type": "execute_result"
    }
   ],
   "source": [
    "D = Variable('D')"
   ]
  },
  {
   "cell_type": "code",
   "execution_count": 33,
   "metadata": {},
   "outputs": [
    {
     "data": {
      "text/html": [
       "<strong id=\"E\">E:</strong> <a class=\"ProveItLink\" href=\"../__pv_it/common/bab67c83c02ef7fff18e38de447cea6afc251f350/common_expr.ipynb\"><img src=\"data:image/png;base64,iVBORw0KGgoAAAANSUhEUgAAABAAAAAOBAMAAADUAYG5AAAALVBMVEX////c3NyYmJjMzMxmZmbu\n",
       "7u52dna6uroyMjIiIiJUVFQQEBBERESIiIgAAACvRLPfAAAAAXRSTlMAQObYZgAAAAlwSFlzAAAO\n",
       "xAAADsQBlSsOGwAAAG1JREFUCNdjYGC4s/vUqpN7GIDgBRDfAWL2Z0AiBIjZngOJWCDmeMDAy8AM\n",
       "ZPAdYCgCKWWom7XmIZiRZ8A4AczoY2BIYAgAMt4wMAiwXgAa8xbI4QWKsD0GMqSAmPMBUHQ7A0NU\n",
       "36tVa/Y1MAAAgE0aXB4S9A8AAAAASUVORK5CYII=\n",
       "\" style=\"display:inline;vertical-align:middle;\" /></a><br>"
      ],
      "text/plain": [
       "E: E"
      ]
     },
     "execution_count": 33,
     "metadata": {},
     "output_type": "execute_result"
    }
   ],
   "source": [
    "E = Variable('E')"
   ]
  },
  {
   "cell_type": "code",
   "execution_count": 34,
   "metadata": {},
   "outputs": [
    {
     "data": {
      "text/html": [
       "<strong id=\"F\">F:</strong> <a class=\"ProveItLink\" href=\"../__pv_it/common/9d1ffc79180dc7de30ad10ed4b26b62e9dcb5b670/common_expr.ipynb\"><img src=\"data:image/png;base64,iVBORw0KGgoAAAANSUhEUgAAABAAAAAOBAMAAADUAYG5AAAAMFBMVEX///9mZmbu7u4iIiLc3Nyq\n",
       "qqq6urp2dnbMzMwyMjKYmJhUVFQQEBBERESIiIgAAAAXoWMmAAAAAXRSTlMAQObYZgAAAAlwSFlz\n",
       "AAAOxAAADsQBlSsOGwAAAF5JREFUCNdjYGB4e+b27junGIDgJxDPAmKO70BiGRDzfQMSIUDM+4GB\n",
       "gyEAyOCfwNAFUsrQX8AyBcyov735AJgxX4FBgAFiDBNIKQPbdwYIYP8BZXB+gNDa939vAdEAu8gY\n",
       "MP8QD2UAAAAASUVORK5CYII=\n",
       "\" style=\"display:inline;vertical-align:middle;\" /></a><br>"
      ],
      "text/plain": [
       "F: F"
      ]
     },
     "execution_count": 34,
     "metadata": {},
     "output_type": "execute_result"
    }
   ],
   "source": [
    "F = Variable('F')"
   ]
  },
  {
   "cell_type": "code",
   "execution_count": 35,
   "metadata": {},
   "outputs": [
    {
     "data": {
      "text/html": [
       "<strong id=\"G\">G:</strong> <a class=\"ProveItLink\" href=\"../__pv_it/common/cd2bbe4a07ced9e6cf68e9cc62da3ac2ecc7137e0/common_expr.ipynb\"><img src=\"data:image/png;base64,iVBORw0KGgoAAAANSUhEUgAAAA8AAAAOBAMAAAACpFvcAAAAMFBMVEX///8yMjLMzMy6uroiIiJm\n",
       "ZmaqqqoQEBB2dnbc3NyYmJhUVFRERESIiIju7u4AAACBJ+L2AAAAAXRSTlMAQObYZgAAAAlwSFlz\n",
       "AAAOxAAADsQBlSsOGwAAAGxJREFUCNdjYGDgu3N6F2cDAwPD9XsMbCELGBh4PIGc+AkMDOcfABnm\n",
       "DAwcv4A0gyoDw3wHEOMRA0P/BQYIkFeAMuqB+GpoBAODP4gXDzRmP9AEhvNAPB+omPMPkMEGNEfb\n",
       "FyT/9HTHgnkMDABjexonOyAB1gAAAABJRU5ErkJggg==\n",
       "\" style=\"display:inline;vertical-align:middle;\" /></a><br>"
      ],
      "text/plain": [
       "G: G"
      ]
     },
     "execution_count": 35,
     "metadata": {},
     "output_type": "execute_result"
    }
   ],
   "source": [
    "G = Variable('G')"
   ]
  },
  {
   "cell_type": "code",
   "execution_count": 36,
   "metadata": {},
   "outputs": [
    {
     "data": {
      "text/html": [
       "<strong id=\"H\">H:</strong> <a class=\"ProveItLink\" href=\"../__pv_it/common/db1921da064725c141f453bae2d02f0bb2333a8a0/common_expr.ipynb\"><img src=\"data:image/png;base64,iVBORw0KGgoAAAANSUhEUgAAABMAAAAOBAMAAAA/Njq6AAAAMFBMVEX///+qqqq6urpmZmbc3Nx2\n",
       "dnbMzMwiIiIyMjLu7u4QEBCYmJhERERUVFSIiIgAAAC1GkgDAAAAAXRSTlMAQObYZgAAAAlwSFlz\n",
       "AAAOxAAADsQBlSsOGwAAAHdJREFUCNdjYGB4+/8sw971ZycwAMEPIF4OYjCwfWVgYPkMZrJ+YmDg\n",
       "/ghmcnxgYOD5CWbyH2Bg4CoAM/Vr7969bwBmxicwMLwXADP7gfg82FSGP1CjGRiY/kGMBhn7jYGB\n",
       "7xOYyQ4y9gOINff83wfM5/88YGAAAGSzI0JDrqMtAAAAAElFTkSuQmCC\n",
       "\" style=\"display:inline;vertical-align:middle;\" /></a><br>"
      ],
      "text/plain": [
       "H: H"
      ]
     },
     "execution_count": 36,
     "metadata": {},
     "output_type": "execute_result"
    }
   ],
   "source": [
    "H = Variable('H')"
   ]
  },
  {
   "cell_type": "code",
   "execution_count": 37,
   "metadata": {},
   "outputs": [
    {
     "data": {
      "text/html": [
       "<strong id=\"I\">I:</strong> <a class=\"ProveItLink\" href=\"../__pv_it/common/343861aa4b100ac072c90b5db5a254070d7bb9190/common_expr.ipynb\"><img src=\"data:image/png;base64,iVBORw0KGgoAAAANSUhEUgAAAAsAAAAOBAMAAAALT/umAAAAIVBMVEX///8yMjK6urqIiIjMzMwi\n",
       "IiLu7u5UVFRERER2dnYAAAB3YTUGAAAAAXRSTlMAQObYZgAAAAlwSFlzAAAOxAAADsQBlSsOGwAA\n",
       "AENJREFUCNdjYGCYsao9gQEIloIIBpaVYIp5EZjiWACmuATAlJYBmJrlAKakwCTDCjDJtBhMcS4B\n",
       "U6xgbeldyycwMAAAGKAK+BrZNVAAAAAASUVORK5CYII=\n",
       "\" style=\"display:inline;vertical-align:middle;\" /></a><br>"
      ],
      "text/plain": [
       "I: I"
      ]
     },
     "execution_count": 37,
     "metadata": {},
     "output_type": "execute_result"
    }
   ],
   "source": [
    "I = Variable('I')"
   ]
  },
  {
   "cell_type": "code",
   "execution_count": 38,
   "metadata": {},
   "outputs": [
    {
     "data": {
      "text/html": [
       "<strong id=\"J\">J:</strong> <a class=\"ProveItLink\" href=\"../__pv_it/common/9f16d7088a8a61eb23ba4b3fa39c88978b11e98f0/common_expr.ipynb\"><img src=\"data:image/png;base64,iVBORw0KGgoAAAANSUhEUgAAAA0AAAAOBAMAAAAGUYvhAAAALVBMVEX///+qqqqIiIjc3Nzu7u5m\n",
       "ZmaYmJi6uroQEBAyMjLMzMwiIiJUVFR2dnYAAABm7I1IAAAAAXRSTlMAQObYZgAAAAlwSFlzAAAO\n",
       "xAAADsQBlSsOGwAAAEdJREFUCNdjYGBguLNvDwMY3FsAoWdAKIY3EIr9GYRmfQKhuTdAaL8ACJ1X\n",
       "AKHPgQiLCwydIFpPgfE5iC5i8LgAotmUjoMoAIB9D3TfiNSpAAAAAElFTkSuQmCC\n",
       "\" style=\"display:inline;vertical-align:middle;\" /></a><br>"
      ],
      "text/plain": [
       "J: J"
      ]
     },
     "execution_count": 38,
     "metadata": {},
     "output_type": "execute_result"
    }
   ],
   "source": [
    "J = Variable('J')"
   ]
  },
  {
   "cell_type": "code",
   "execution_count": 39,
   "metadata": {},
   "outputs": [
    {
     "data": {
      "text/html": [
       "<strong id=\"K\">K:</strong> <a class=\"ProveItLink\" href=\"../__pv_it/common/1f2ffac7a1dc7c1a4f1fc7348356ae64ea992c790/common_expr.ipynb\"><img src=\"data:image/png;base64,iVBORw0KGgoAAAANSUhEUgAAABMAAAAOBAMAAAA/Njq6AAAAMFBMVEX///9mZmYyMjLc3Ny6urqY\n",
       "mJh2dnbu7u6qqqoiIiLMzMwQEBBERERUVFSIiIgAAAAfhm4EAAAAAXRSTlMAQObYZgAAAAlwSFlz\n",
       "AAAOxAAADsQBlSsOGwAAAHRJREFUCNdjYGB4+/8sA8P9PQsYgOAnEPcWgFhc3xgYWBtALAa+Lwzs\n",
       "yWAWA9MHhmUQFgO/AqsAlOmf8H4ClJn/jPEHlKkfwPwJyvzDwHAebD4Dyz+g8gtgJtsvBgbO72Am\n",
       "5wegLd9ArNrzfx8wZP8/zMAAAAzGH4e1g09cAAAAAElFTkSuQmCC\n",
       "\" style=\"display:inline;vertical-align:middle;\" /></a><br>"
      ],
      "text/plain": [
       "K: K"
      ]
     },
     "execution_count": 39,
     "metadata": {},
     "output_type": "execute_result"
    }
   ],
   "source": [
    "K = Variable('K')"
   ]
  },
  {
   "cell_type": "code",
   "execution_count": 40,
   "metadata": {},
   "outputs": [
    {
     "data": {
      "text/html": [
       "<strong id=\"L\">L:</strong> <a class=\"ProveItLink\" href=\"../__pv_it/common/a14e64e007515ca145bc975c6db7e9098f3b12fd0/common_expr.ipynb\"><img src=\"data:image/png;base64,iVBORw0KGgoAAAANSUhEUgAAAA4AAAAOBAMAAADtZjDiAAAAJFBMVEX////c3Nzu7u66urp2dnbM\n",
       "zMwiIiKYmJgyMjJUVFSIiIgAAABbfcA3AAAAAXRSTlMAQObYZgAAAAlwSFlzAAAOxAAADsQBlSsO\n",
       "GwAAAFFJREFUCNdjYGBYubuzgAEEtoFJBtYtEJprM4Tm2AChuRsgtLUDhPY2gNDdQMwExDuAuJCB\n",
       "gXkXkJ7AwMCyFWgE0GA2oHZvBQbN7p0zu3cyAADwKA9k7v5WxQAAAABJRU5ErkJggg==\n",
       "\" style=\"display:inline;vertical-align:middle;\" /></a><br>"
      ],
      "text/plain": [
       "L: L"
      ]
     },
     "execution_count": 40,
     "metadata": {},
     "output_type": "execute_result"
    }
   ],
   "source": [
    "L = Variable('L')"
   ]
  },
  {
   "cell_type": "code",
   "execution_count": 41,
   "metadata": {},
   "outputs": [
    {
     "data": {
      "text/html": [
       "<strong id=\"M\">M:</strong> <a class=\"ProveItLink\" href=\"../__pv_it/common/ce50a10c2eddfa57687148849d3b804ff497c1cf0/common_expr.ipynb\"><img src=\"data:image/png;base64,iVBORw0KGgoAAAANSUhEUgAAABYAAAAOBAMAAADZH/H+AAAALVBMVEX///8iIiLu7u4yMjJmZmbc\n",
       "3Ny6urrMzMxUVFQQEBCIiIiqqqpERESYmJgAAAAvDJzTAAAAAXRSTlMAQObYZgAAAAlwSFlzAAAO\n",
       "xAAADsQBlSsOGwAAAI5JREFUCNdjYGC4824DAwMD18tuIMnQtwBIVDwDMVlvOgDJGw9AbN5gAyCh\n",
       "eQDEZmGZwMAQFrcAzOYCSi+4VwBix3I/ZeBW6AMxGa6yv2bQZpgDZjswvGJYwPoKyp7CHcD7HMRk\n",
       "v8Bgo83AMQHE5gpg6FzAwNkAYjMyMKwLYKi7AGRyyNkyZDFkyEkoMAAAk0Ag00nYRpUAAAAASUVO\n",
       "RK5CYII=\n",
       "\" style=\"display:inline;vertical-align:middle;\" /></a><br>"
      ],
      "text/plain": [
       "M: M"
      ]
     },
     "execution_count": 41,
     "metadata": {},
     "output_type": "execute_result"
    }
   ],
   "source": [
    "M = Variable('M')"
   ]
  },
  {
   "cell_type": "code",
   "execution_count": 42,
   "metadata": {},
   "outputs": [
    {
     "data": {
      "text/html": [
       "<strong id=\"N\">N:</strong> <a class=\"ProveItLink\" href=\"../__pv_it/common/ec2f9d003f907f9688d46f19f6df289e52cc63ce0/common_expr.ipynb\"><img src=\"data:image/png;base64,iVBORw0KGgoAAAANSUhEUgAAABMAAAAOBAMAAAA/Njq6AAAAMFBMVEX///+YmJhmZmZ2dnbc3Nyq\n",
       "qqoiIiJUVFTu7u4QEBAyMjK6urrMzMxERESIiIgAAADdQ9CtAAAAAXRSTlMAQObYZgAAAAlwSFlz\n",
       "AAAOxAAADsQBlSsOGwAAAHRJREFUCNdjYGB4+/8AA/f6uQ0MQHC/gIGBDczijv3CwMAMYjEwd39m\n",
       "YNgKZjIxZDIwWECZ8gIMCmDmVgb+BAYDMNOCgek39wYwU4GB5S8z2CyQ3H0nMIs7gIFhvzLEWKAc\n",
       "228wsw2IGT+AWO3zlwLJC0AMAMUnF+4A6qgRAAAAAElFTkSuQmCC\n",
       "\" style=\"display:inline;vertical-align:middle;\" /></a><br>"
      ],
      "text/plain": [
       "N: N"
      ]
     },
     "execution_count": 42,
     "metadata": {},
     "output_type": "execute_result"
    }
   ],
   "source": [
    "N = Variable('N')"
   ]
  },
  {
   "cell_type": "code",
   "execution_count": 43,
   "metadata": {},
   "outputs": [
    {
     "data": {
      "text/html": [
       "<strong id=\"O\">O:</strong> <a class=\"ProveItLink\" href=\"../__pv_it/common/2bbb17283019488d58a9b862d837c9ec12ec4a920/common_expr.ipynb\"><img src=\"data:image/png;base64,iVBORw0KGgoAAAANSUhEUgAAAA8AAAAOBAMAAAACpFvcAAAALVBMVEX////c3Ny6uroiIiIQEBBE\n",
       "RETMzMwyMjKYmJhUVFR2dnZmZmaIiIju7u4AAAAQ0TULAAAAAXRSTlMAQObYZgAAAAlwSFlzAAAO\n",
       "xAAADsQBlSsOGwAAAGRJREFUCNdjYGDgPb1qBgMILE9g4CwA0tcDgIQXEBeDROcxMHA9AjHWJTDI\n",
       "gaQZ9ikwrDsAYtgJgBDQhCcMDO9AAjyvgIIgxhUHoMYLIN0JDAx5DVAjeNwYeMNBGhgyd+1WAFIA\n",
       "mwAWvtS2pKEAAAAASUVORK5CYII=\n",
       "\" style=\"display:inline;vertical-align:middle;\" /></a><br>"
      ],
      "text/plain": [
       "O: O"
      ]
     },
     "execution_count": 43,
     "metadata": {},
     "output_type": "execute_result"
    }
   ],
   "source": [
    "O = Variable('O')"
   ]
  },
  {
   "cell_type": "code",
   "execution_count": 44,
   "metadata": {},
   "outputs": [
    {
     "data": {
      "text/html": [
       "<strong id=\"P\">P:</strong> <a class=\"ProveItLink\" href=\"../__pv_it/common/de55da274ba0f49c86925fbf3828021c04d27faf0/common_expr.ipynb\"><img src=\"data:image/png;base64,iVBORw0KGgoAAAANSUhEUgAAABAAAAAOBAMAAADUAYG5AAAAMFBMVEX///+6urqYmJgiIiLc3Nx2\n",
       "dnaqqqrMzMwQEBDu7u5mZmYyMjJUVFRERESIiIgAAAAee7pSAAAAAXRSTlMAQObYZgAAAAlwSFlz\n",
       "AAAOxAAADsQBlSsOGwAAAFtJREFUCNdjYGB4+//O2V0TGIDgNwMDbyeQZv/HwMAGxAx834H4K5DB\n",
       "+wGIgRwG/gsMDPUPGMCEqxlI0/ujoYogmuE+AxT8htLsX6EMvo9QBvcHCM11/y/IDAYAg30aWy7Z\n",
       "ep4AAAAASUVORK5CYII=\n",
       "\" style=\"display:inline;vertical-align:middle;\" /></a><br>"
      ],
      "text/plain": [
       "P: P"
      ]
     },
     "execution_count": 44,
     "metadata": {},
     "output_type": "execute_result"
    }
   ],
   "source": [
    "P = Variable('P')"
   ]
  },
  {
   "cell_type": "code",
   "execution_count": 45,
   "metadata": {},
   "outputs": [
    {
     "data": {
      "text/html": [
       "<strong id=\"Q\">Q:</strong> <a class=\"ProveItLink\" href=\"../__pv_it/common/d72bb8b07403efe79afab564c36a28e21330e5f90/common_expr.ipynb\"><img src=\"data:image/png;base64,iVBORw0KGgoAAAANSUhEUgAAAA8AAAASBAMAAAB2sJk8AAAAMFBMVEX///+IiIiqqqq6uroiIiIQ\n",
       "EBBERETu7u7MzMwyMjKYmJhUVFRmZmZ2dnbc3NwAAABtgPhfAAAAAXRSTlMAQObYZgAAAAlwSFlz\n",
       "AAAOxAAADsQBlSsOGwAAAINJREFUCNdjYGDgu3N3FwMI3Gxg4J4ApCsTgEQMEE8Bie5nYOD5AWLc\n",
       "b2B4D5JhOG/AcF4BxJj/gMG/AEizf2Vg+AoS4PrFwOACYpROAGlkVmA4+oCBoV9hxSveOKAoY5wA\n",
       "726QBobu3CsGDA1gW9kMGB9AGBs0wTQDz/8fEAaHK9AaAB6IINYdLZrZAAAAAElFTkSuQmCC\n",
       "\" style=\"display:inline;vertical-align:middle;\" /></a><br>"
      ],
      "text/plain": [
       "Q: Q"
      ]
     },
     "execution_count": 45,
     "metadata": {},
     "output_type": "execute_result"
    }
   ],
   "source": [
    "Q = Variable('Q')"
   ]
  },
  {
   "cell_type": "code",
   "execution_count": 46,
   "metadata": {},
   "outputs": [
    {
     "data": {
      "text/html": [
       "<strong id=\"R\">R:</strong> <a class=\"ProveItLink\" href=\"../__pv_it/common/647ca33d6b96e29d5aa85a15d2241c7ebd0c6e4b0/common_expr.ipynb\"><img src=\"data:image/png;base64,iVBORw0KGgoAAAANSUhEUgAAABAAAAAOBAMAAADUAYG5AAAAMFBMVEX///+YmJgQEBDu7u5mZmZ2\n",
       "dna6uroiIiIyMjLMzMzc3NyqqqpUVFRERESIiIgAAACCFtC2AAAAAXRSTlMAQObYZgAAAAlwSFlz\n",
       "AAAOxAAADsQBlSsOGwAAAHFJREFUCNdjYGB4+//O3dsMIPCXgWH9ASDN+Y+BgfcXkMH3k4GBA8Tg\n",
       "+MDAMP8CkMF/gYGrBqQ2/97TIxNAjPgFzGcNQIwmoGwAiPGHgcEeZAzbRwaG/Q5ABstnoLIHnAwM\n",
       "i4AM+QfZDKyhoQIMLH0CAGfQH8YuT5/QAAAAAElFTkSuQmCC\n",
       "\" style=\"display:inline;vertical-align:middle;\" /></a><br>"
      ],
      "text/plain": [
       "R: R"
      ]
     },
     "execution_count": 46,
     "metadata": {},
     "output_type": "execute_result"
    }
   ],
   "source": [
    "R = Variable('R')"
   ]
  },
  {
   "cell_type": "code",
   "execution_count": 47,
   "metadata": {},
   "outputs": [
    {
     "data": {
      "text/html": [
       "<strong id=\"S\">S:</strong> <a class=\"ProveItLink\" href=\"../__pv_it/common/38f47c5670ea8c5b56253448e95d8afb56bc09b40/common_expr.ipynb\"><img src=\"data:image/png;base64,iVBORw0KGgoAAAANSUhEUgAAAA0AAAAOBAMAAAAGUYvhAAAAMFBMVEX///8iIiIQEBDc3NxUVFTM\n",
       "zMwyMjLu7u6IiIhERES6urqYmJh2dnZmZmaqqqoAAACoC7eKAAAAAXRSTlMAQObYZgAAAAlwSFlz\n",
       "AAAOxAAADsQBlSsOGwAAAGFJREFUCNdjYGDgu3uGewEDA8MMBvb5QIr3AgPDNiDNH8DAsAJIr9/A\n",
       "wBAKpOv/AAWAgPv/f2cwo2L+JwYIuA/Uzg1S8oCBoQRI2xcwMDwE0neA+OIBBh4HIH1hyRU/IAUA\n",
       "MWoYS+G1O1EAAAAASUVORK5CYII=\n",
       "\" style=\"display:inline;vertical-align:middle;\" /></a><br>"
      ],
      "text/plain": [
       "S: S"
      ]
     },
     "execution_count": 47,
     "metadata": {},
     "output_type": "execute_result"
    }
   ],
   "source": [
    "S = Variable('S')"
   ]
  },
  {
   "cell_type": "code",
   "execution_count": 48,
   "metadata": {},
   "outputs": [
    {
     "data": {
      "text/html": [
       "<strong id=\"T\">T:</strong> <a class=\"ProveItLink\" href=\"../__pv_it/common/69c70dfa5f18cd09af12f2dcafa9764efe6f8cbd0/common_expr.ipynb\"><img src=\"data:image/png;base64,iVBORw0KGgoAAAANSUhEUgAAAA8AAAAOBAMAAAACpFvcAAAALVBMVEX///92dna6urqqqqpmZmbc\n",
       "3NyYmJgQEBCIiIgyMjJUVFREREQiIiLu7u4AAAD98M6AAAAAAXRSTlMAQObYZgAAAAlwSFlzAAAO\n",
       "xAAADsQBlSsOGwAAAFxJREFUCNdj4D2za83pVXMaGDjWMrAfYOBKYOBiYIhzYGBWYAhjYMgzYOC4\n",
       "wKDAwLDuAgMTAwjUMEAA6xMog+0xlMH1FsoAGgMBQGMgAGgMBMy7AKYYV7/b1QCkAdO1FHg61bEa\n",
       "AAAAAElFTkSuQmCC\n",
       "\" style=\"display:inline;vertical-align:middle;\" /></a><br>"
      ],
      "text/plain": [
       "T: T"
      ]
     },
     "execution_count": 48,
     "metadata": {},
     "output_type": "execute_result"
    }
   ],
   "source": [
    "T = Variable('T')"
   ]
  },
  {
   "cell_type": "code",
   "execution_count": 49,
   "metadata": {},
   "outputs": [
    {
     "data": {
      "text/html": [
       "<strong id=\"U\">U:</strong> <a class=\"ProveItLink\" href=\"../__pv_it/common/2586cdae2fd2785a5bcbf61f99f7aaf8229d775e0/common_expr.ipynb\"><img src=\"data:image/png;base64,iVBORw0KGgoAAAANSUhEUgAAAA8AAAAOBAMAAAACpFvcAAAAMFBMVEX///+YmJjMzMxERETu7u5m\n",
       "Zma6urp2dnaIiIgyMjIQEBCqqqoiIiJUVFTc3NwAAABAtvA6AAAAAXRSTlMAQObYZgAAAAlwSFlz\n",
       "AAAOxAAADsQBlSsOGwAAAGVJREFUCNdjeHv+7AaGWz8bGBjqExgYOAoYGBjmAzGrA5D4DMS8QMz2\n",
       "A0i4AzH7JyAhBsQ8C4BEABD7XwASILxfgIGBD2gKQ70CUN0DEAOqm2E/0Kx7IAZnAMNbBRCDofgq\n",
       "SCkDAFRxFoFYp0dkAAAAAElFTkSuQmCC\n",
       "\" style=\"display:inline;vertical-align:middle;\" /></a><br>"
      ],
      "text/plain": [
       "U: U"
      ]
     },
     "execution_count": 49,
     "metadata": {},
     "output_type": "execute_result"
    }
   ],
   "source": [
    "U = Variable('U')"
   ]
  },
  {
   "cell_type": "code",
   "execution_count": 50,
   "metadata": {},
   "outputs": [
    {
     "data": {
      "text/html": [
       "<strong id=\"V\">V:</strong> <a class=\"ProveItLink\" href=\"../__pv_it/common/6d80eb1398b2335bf9ec427954b851b7094dced50/common_expr.ipynb\"><img src=\"data:image/png;base64,iVBORw0KGgoAAAANSUhEUgAAAA8AAAAOBAMAAAACpFvcAAAAMFBMVEX///+YmJh2dnbc3NwQEBBU\n",
       "VFS6urru7u5mZmYiIiLMzMyqqqpEREQyMjKIiIgAAAAM9TCCAAAAAXRSTlMAQObYZgAAAAlwSFlz\n",
       "AAAOxAAADsQBlSsOGwAAAFhJREFUCNdjePv/NAPDyp8NDOx/GRgY2AKAhAsQswIxw30gfgVixBsw\n",
       "MCuAGPoJEBkGeQEGMTAjXwEiw1B/ACLDwD8BIsPA+R0iw8DzB0IzcHyDMhgbwBQABZUQI8gPyLgA\n",
       "AAAASUVORK5CYII=\n",
       "\" style=\"display:inline;vertical-align:middle;\" /></a><br>"
      ],
      "text/plain": [
       "V: V"
      ]
     },
     "execution_count": 50,
     "metadata": {},
     "output_type": "execute_result"
    }
   ],
   "source": [
    "V = Variable('V')"
   ]
  },
  {
   "cell_type": "code",
   "execution_count": 51,
   "metadata": {},
   "outputs": [
    {
     "data": {
      "text/html": [
       "<strong id=\"W\">W:</strong> <a class=\"ProveItLink\" href=\"../__pv_it/common/be2a62cde606eb0642ab6f06c6e4aa2c50ff45540/common_expr.ipynb\"><img src=\"data:image/png;base64,iVBORw0KGgoAAAANSUhEUgAAABUAAAAOBAMAAAAyKEr9AAAAMFBMVEX////MzMyIiIhmZmbc3NyY\n",
       "mJiqqqru7u4iIiJUVFS6urpEREQQEBAyMjJ2dnYAAACaCNjsAAAAAXRSTlMAQObYZgAAAAlwSFlz\n",
       "AAAOxAAADsQBlSsOGwAAAIdJREFUCNdjePtnF8OcH9MZMv4EMHD9Y2Dg+8XAwDWBgYHlM4TNx8DA\n",
       "wP6TgYH3KwPDKiCb4S8Dg+onBoYHIPYJBpbEfwysDiB2DwMfUE8RiMlwnyGR/TdECcP+AgWGv1wL\n",
       "wGx7pwKGE3xgJsP7MKCecAhbfwNQTwCEHQ80bQeEybAOiF+BWQAQlCRRFPHFXAAAAABJRU5ErkJg\n",
       "gg==\n",
       "\" style=\"display:inline;vertical-align:middle;\" /></a><br>"
      ],
      "text/plain": [
       "W: W"
      ]
     },
     "execution_count": 51,
     "metadata": {},
     "output_type": "execute_result"
    }
   ],
   "source": [
    "W = Variable('W')"
   ]
  },
  {
   "cell_type": "code",
   "execution_count": 52,
   "metadata": {},
   "outputs": [
    {
     "data": {
      "text/html": [
       "<strong id=\"X\">X:</strong> <a class=\"ProveItLink\" href=\"../__pv_it/common/f1ca094affb79f5011ff4d63eb4e121bfbde7f330/common_expr.ipynb\"><img src=\"data:image/png;base64,iVBORw0KGgoAAAANSUhEUgAAABIAAAAOBAMAAADQ9FGEAAAAMFBMVEX///+6urp2dnZmZmbMzMzc\n",
       "3NxUVFSqqqoyMjIiIiLu7u6IiIgQEBBERESYmJgAAAD8nk9dAAAAAXRSTlMAQObYZgAAAAlwSFlz\n",
       "AAAOxAAADsQBlSsOGwAAAGJJREFUCNdjYGB4+/80w8o/7QxAkF/AwH4VxGDwv8AQDGYwcHzlSoCw\n",
       "+D4vY4CC81kwlv4GGCt/ApTBHPYRyjJh+QthMDkwzA8AszYyMLxXADHWAkn+X0CG7/kjDCz9Pw0Y\n",
       "ACSDGRgx1Y4QAAAAAElFTkSuQmCC\n",
       "\" style=\"display:inline;vertical-align:middle;\" /></a><br>"
      ],
      "text/plain": [
       "X: X"
      ]
     },
     "execution_count": 52,
     "metadata": {},
     "output_type": "execute_result"
    }
   ],
   "source": [
    "X = Variable('X')"
   ]
  },
  {
   "cell_type": "code",
   "execution_count": 53,
   "metadata": {},
   "outputs": [
    {
     "data": {
      "text/html": [
       "<strong id=\"Y\">Y:</strong> <a class=\"ProveItLink\" href=\"../__pv_it/common/72295dc899ebc16ab63a19612b428270c18ac53b0/common_expr.ipynb\"><img src=\"data:image/png;base64,iVBORw0KGgoAAAANSUhEUgAAABAAAAAOBAMAAADUAYG5AAAALVBMVEX///9mZmZ2dnaYmJhEREQy\n",
       "MjK6urqIiIiqqqrc3NwQEBAiIiJUVFTu7u4AAAALmDhgAAAAAXRSTlMAQObYZgAAAAlwSFlzAAAO\n",
       "xAAADsQBlSsOGwAAAFlJREFUCNdjuLNvzQQGjnXLGRjyAhgYGJyBmPslAwN7ApDB/oiBoQNIM/C+\n",
       "YmArADEY/BImgWmGvrMCEAbXGwjNwPIWyuAKgDLmKUAZdglQhh+UFnl3HEQBAG/UEc2QlRZ8AAAA\n",
       "AElFTkSuQmCC\n",
       "\" style=\"display:inline;vertical-align:middle;\" /></a><br>"
      ],
      "text/plain": [
       "Y: Y"
      ]
     },
     "execution_count": 53,
     "metadata": {},
     "output_type": "execute_result"
    }
   ],
   "source": [
    "Y = Variable('Y')"
   ]
  },
  {
   "cell_type": "code",
   "execution_count": 54,
   "metadata": {},
   "outputs": [
    {
     "data": {
      "text/html": [
       "<strong id=\"Z\">Z:</strong> <a class=\"ProveItLink\" href=\"../__pv_it/common/aa55a17e9cd859874d9c4acf27d65631617e4fc60/common_expr.ipynb\"><img src=\"data:image/png;base64,iVBORw0KGgoAAAANSUhEUgAAAA4AAAAOBAMAAADtZjDiAAAAMFBMVEX///+IiIh2dnbMzMxERETc\n",
       "3NyqqqpmZmbu7u6YmJi6uroiIiJUVFQyMjIQEBAAAADo4HZ1AAAAAXRSTlMAQObYZgAAAAlwSFlz\n",
       "AAAOxAAADsQBlSsOGwAAAGlJREFUCNdjYGB4//bM2d8MDFw/GRi6XzAwsCcwMNwLYGDgYWBg+czA\n",
       "wMDMwFC/gAEEmH6CKYb5AmCK7TuEu/4ASA0D8xegXiAdd4GBYSUDA8fuBgaGHQwMvE8ZGGwdGBjO\n",
       "b3G5938CAwCJ4RktCz21/gAAAABJRU5ErkJggg==\n",
       "\" style=\"display:inline;vertical-align:middle;\" /></a><br>"
      ],
      "text/plain": [
       "Z: Z"
      ]
     },
     "execution_count": 54,
     "metadata": {},
     "output_type": "execute_result"
    }
   ],
   "source": [
    "Z = Variable('Z')"
   ]
  },
  {
   "cell_type": "code",
   "execution_count": 55,
   "metadata": {},
   "outputs": [
    {
     "data": {
      "text/html": [
       "<strong id=\"a_star\">a_star:</strong> <a class=\"ProveItLink\" href=\"../__pv_it/common/e921074385baddd0a5d6e570771aec4936332e1a0/common_expr.ipynb\"><img src=\"data:image/png;base64,iVBORw0KGgoAAAANSUhEUgAAABMAAAAQBAMAAAAG6llRAAAAMFBMVEX////MzMwyMjKqqqoiIiJm\n",
       "ZmaYmJju7u5EREQQEBC6urqIiIh2dnZUVFTc3NwAAAAqL9KcAAAAAXRSTlMAQObYZgAAAAlwSFlz\n",
       "AAAOxAAADsQBlSsOGwAAAGVJREFUCNdjYICApwwwYFjKDWM+PXEZxuQK2g5j7qkRgit+C2cx8IGJ\n",
       "O/s2QPkrH3B8h7DYpzGwOkCYrB8YWA5AmJwNDPULIMz6DQz5UF31BgyXmB+AmRwbmF1ZoSbcPvh2\n",
       "I5gFAHzMGNo32AVjAAAAAElFTkSuQmCC\n",
       "\" style=\"display:inline;vertical-align:middle;\" /></a><br>"
      ],
      "text/plain": [
       "a_star: a_star"
      ]
     },
     "execution_count": 55,
     "metadata": {},
     "output_type": "execute_result"
    }
   ],
   "source": [
    "a_star = Variable('a_star', \"a^*\", fence_when_forced=True)"
   ]
  },
  {
   "cell_type": "code",
   "execution_count": 56,
   "metadata": {},
   "outputs": [
    {
     "data": {
      "text/html": [
       "<strong id=\"b_star\">b_star:</strong> <a class=\"ProveItLink\" href=\"../__pv_it/common/524f5bfa0dd8ee2f185db8839c0246a0a05d816f0/common_expr.ipynb\"><img src=\"data:image/png;base64,iVBORw0KGgoAAAANSUhEUgAAABEAAAAQBAMAAAACH4lsAAAAMFBMVEX///+YmJjMzMzc3NyIiIhU\n",
       "VFR2dna6urqqqqpmZmYyMjIiIiIQEBBERETu7u4AAAD7tRWPAAAAAXRSTlMAQObYZgAAAAlwSFlz\n",
       "AAAOxAAADsQBlSsOGwAAAHFJREFUCNdjYAADSwYoaHrJwsDAd2cDUCg3AsjnmsDAwD7LD8jib2Bg\n",
       "cHumBWTVPwASpiDV2SCCGUQsdYmAGMD368F7AzCL4x8DjwOYxbmAgT8BzOJOYKhvALOAxs1/AGEp\n",
       "8B2E6GUV4J0ANSVsIoQBAGDTFoBUNczDAAAAAElFTkSuQmCC\n",
       "\" style=\"display:inline;vertical-align:middle;\" /></a><br>"
      ],
      "text/plain": [
       "b_star: b_star"
      ]
     },
     "execution_count": 56,
     "metadata": {},
     "output_type": "execute_result"
    }
   ],
   "source": [
    "b_star = Variable('b_star', \"b^*\", fence_when_forced=True)"
   ]
  },
  {
   "cell_type": "code",
   "execution_count": 57,
   "metadata": {},
   "outputs": [
    {
     "data": {
      "text/html": [
       "<strong id=\"c_star\">c_star:</strong> <a class=\"ProveItLink\" href=\"../__pv_it/common/45cf38972474ac0b02d58e637b7120a47706d73f0/common_expr.ipynb\"><img src=\"data:image/png;base64,iVBORw0KGgoAAAANSUhEUgAAABEAAAAQBAMAAAACH4lsAAAAMFBMVEX///8yMjJUVFS6urru7u4Q\n",
       "EBBERERmZmaqqqoiIiLc3NzMzMyYmJiIiIh2dnYAAACZiqmYAAAAAXRSTlMAQObYZgAAAAlwSFlz\n",
       "AAAOxAAADsQBlSsOGwAAAFdJREFUCNdjYACD5QxQ0O3OC2Utf6YBZTEXXoGy7vlthClcBGMwcIHJ\n",
       "t3c2QLgrG9gTIKx5DKwXwAz2LzC1rAkwlv8FGIv/AAODAURdAgMf1JR3ZyB2AgDdYBO6xxoepQAA\n",
       "AABJRU5ErkJggg==\n",
       "\" style=\"display:inline;vertical-align:middle;\" /></a><br>"
      ],
      "text/plain": [
       "c_star: c_star"
      ]
     },
     "execution_count": 57,
     "metadata": {},
     "output_type": "execute_result"
    }
   ],
   "source": [
    "c_star = Variable('c_star', \"c^*\", fence_when_forced=True)"
   ]
  },
  {
   "cell_type": "code",
   "execution_count": 58,
   "metadata": {},
   "outputs": [
    {
     "data": {
      "text/html": [
       "<strong id=\"d_star\">d_star:</strong> <a class=\"ProveItLink\" href=\"../__pv_it/common/7b726b46d7e58b3dd459257f56ef7658158a115f0/common_expr.ipynb\"><img src=\"data:image/png;base64,iVBORw0KGgoAAAANSUhEUgAAABMAAAAQBAMAAAAG6llRAAAAMFBMVEX///+YmJhERESIiIhUVFTc\n",
       "3NwiIiJ2dnbu7u66urqqqqpmZmYQEBAyMjLMzMwAAAA7oY0NAAAAAXRSTlMAQObYZgAAAAlwSFlz\n",
       "AAAOxAAADsQBlSsOGwAAAHFJREFUCNdjYICAaAYYWNfNDKb57myILvKCiPEv4NxrAWHObzBvfwth\n",
       "ljEwhEA13WZgYAXRrO52v6BCcwKYfkBYHAcZuC9AmNwfGNgKIEweBYb+CRBmvwGDPFRX/wIGX64A\n",
       "MJPJgCubG2qCc12IHZgFADp6FvWQYTdUAAAAAElFTkSuQmCC\n",
       "\" style=\"display:inline;vertical-align:middle;\" /></a><br>"
      ],
      "text/plain": [
       "d_star: d_star"
      ]
     },
     "execution_count": 58,
     "metadata": {},
     "output_type": "execute_result"
    }
   ],
   "source": [
    "d_star = Variable('d_star', \"d^*\", fence_when_forced=True)"
   ]
  },
  {
   "cell_type": "code",
   "execution_count": 59,
   "metadata": {},
   "outputs": [
    {
     "data": {
      "text/html": [
       "<strong id=\"Am\">Am:</strong> <a class=\"ProveItLink\" href=\"../__pv_it/common/0c7e7950f7edd578791c0f74d6b06301e43978820/common_expr.ipynb\"><img src=\"data:image/png;base64,iVBORw0KGgoAAAANSUhEUgAAADMAAAAVBAMAAAAZessyAAAAMFBMVEX///8QEBAiIiLu7u5ERES6\n",
       "urqYmJiIiIjMzMx2dnZUVFRmZmaqqqoyMjLc3NwAAABb1yYoAAAAAXRSTlMAQObYZgAAAAlwSFlz\n",
       "AAAOxAAADsQBlSsOGwAAAS1JREFUKM9jYEACfAjmAxjjLYSqQUiFwxj3wSTPBIQUewKE5vkPpmyR\n",
       "Db8MobjXg43ehiyVDaHmzW8AUQLIUowGYIcV1B8AGXsBWYoXbBk3w3kQzQ10RfjilyUFnVMCGBg4\n",
       "F4CkYhj6J0DVTfAqYP4WwAM0mg1sxgaG9yAlTAcYWANUGPi+M7B9ABoPspnde/d6B5DFAQzMzF8Z\n",
       "eD4zcAN1cAClGcwZGPgVIFIMPB9A4oxA81kFwOYxMAlADGTgusDANIEh/oEBAw9QNSvQdl6QbpYC\n",
       "BpB6+wCGtXwJDGxAOx6CRP8xQJz7voEhn4HBkxPsFZP/lxl4/P8CTecAGhHEwFDNwBBdBzQ+ADkA\n",
       "NJA5jxiwhCgEoIQ1A8sDpAh3QJFidsCuDASeI5hAhwAAMzFDmbYnZ/gAAAAASUVORK5CYII=\n",
       "\" style=\"display:inline;vertical-align:middle;\" /></a><br>"
      ],
      "text/plain": [
       "Am: A(m)"
      ]
     },
     "execution_count": 59,
     "metadata": {},
     "output_type": "execute_result"
    }
   ],
   "source": [
    "Am = Function(A,m)"
   ]
  },
  {
   "cell_type": "code",
   "execution_count": 60,
   "metadata": {},
   "outputs": [
    {
     "data": {
      "text/html": [
       "<strong id=\"b_of_j\">b_of_j:</strong> <a class=\"ProveItLink\" href=\"../__pv_it/common/b2eb53caae09b44c23921759afb8e0a23b943e240/common_expr.ipynb\"><img src=\"data:image/png;base64,iVBORw0KGgoAAAANSUhEUgAAACQAAAAVBAMAAADcCFGjAAAAMFBMVEX///+YmJjMzMzc3NyIiIhU\n",
       "VFR2dna6urqqqqpmZmYyMjIiIiIQEBBERETu7u4AAAD7tRWPAAAAAXRSTlMAQObYZgAAAAlwSFlz\n",
       "AAAOxAAADsQBlSsOGwAAAPpJREFUGNNjYIABAzDJzIAALA1git2BgYHvzgYwuw1E6D5gcARSXBNA\n",
       "HL4FINILyH3AwMAP1sEpADWAEaii/gGIxQM39BwDQzaY0QUXWsjAsNQlAsiYBjLPJQBIpjLw/Xrw\n",
       "3gAsx8DJcBBISjFw/GPgAbplB5DjzPADSPYwcC5g4E9gYDgO5DwASjMw6DNwJzDUN0CEGDhBrq4B\n",
       "OWv+A4hGkDQDQzcDvwIfyNArICH7AiAhy8AqwDsBbDUQyDOAncMXNhHE0AYRsSBiO8zN3ApA4ggo\n",
       "wDYwIHwbwfgP2f8MDJeZfnCDwsQWEapvGaZMB0shhJgdIOFtwAAAdEAyerZRX40AAAAASUVORK5C\n",
       "YII=\n",
       "\" style=\"display:inline;vertical-align:middle;\" /></a><br>"
      ],
      "text/plain": [
       "b_of_j: b(j)"
      ]
     },
     "execution_count": 60,
     "metadata": {},
     "output_type": "execute_result"
    }
   ],
   "source": [
    "b_of_j = Function(b, j)"
   ]
  },
  {
   "cell_type": "code",
   "execution_count": 61,
   "metadata": {},
   "outputs": [
    {
     "data": {
      "text/html": [
       "<strong id=\"b_of_k\">b_of_k:</strong> <a class=\"ProveItLink\" href=\"../__pv_it/common/05b2068f19cf101f841ff850a15872bab852b8540/common_expr.ipynb\"><img src=\"data:image/png;base64,iVBORw0KGgoAAAANSUhEUgAAACYAAAAVBAMAAADY/YGeAAAAMFBMVEX///+YmJjMzMzc3NyIiIhU\n",
       "VFR2dna6urqqqqpmZmYyMjIiIiIQEBBERETu7u4AAAD7tRWPAAAAAXRSTlMAQObYZgAAAAlwSFlz\n",
       "AAAOxAAADsQBlSsOGwAAAQ1JREFUGNNjYIABAwjFzIAALA0Qmt2BgYHvzgYwu42B4e1pEMMRiLkm\n",
       "gFh8C4DEShCL6wEDAz9YE6cAkPgBYjEC1dQ/ALF4QEb9A5tyjoEhG8zoAmK2A2DmQgaGpS4RQMY0\n",
       "kEkBHJlATakMfL8evDcASzK8F+iwARorxcDxj4EH6KQdQLF+8wYtoHQPA+cCBv4EBobjQLE5QmDz\n",
       "9Bm4ExjqGyBiu2YqgMRqQM6b/wCsl+8H+yeQWDcDvwLfQSDjCtCx//h+sACZsgysArwgz6UyMLAu\n",
       "4PvEBnYWX9hEkAZtBgbeBgZPPyBzOyyouBVgLOYNMBbjBBgLHBoQcBnGsEWE81sMSaAxDtA4MGAA\n",
       "AC6YOLYnS8teAAAAAElFTkSuQmCC\n",
       "\" style=\"display:inline;vertical-align:middle;\" /></a><br>"
      ],
      "text/plain": [
       "b_of_k: b(k)"
      ]
     },
     "execution_count": 61,
     "metadata": {},
     "output_type": "execute_result"
    }
   ],
   "source": [
    "b_of_k = Function(b, k)"
   ]
  },
  {
   "cell_type": "code",
   "execution_count": 62,
   "metadata": {},
   "outputs": [
    {
     "data": {
      "text/html": [
       "<strong id=\"Bm\">Bm:</strong> <a class=\"ProveItLink\" href=\"../__pv_it/common/152ff594246d33cd6d708313f3fe3a27dd19db020/common_expr.ipynb\"><img src=\"data:image/png;base64,iVBORw0KGgoAAAANSUhEUgAAADUAAAAVBAMAAAAUZLt1AAAAMFBMVEX///92dnaqqqoiIiLu7u5m\n",
       "Zma6urqIiIjc3NwQEBDMzMwyMjJUVFRERESYmJgAAAAeMT9/AAAAAXRSTlMAQObYZgAAAAlwSFlz\n",
       "AAAOxAAADsQBlSsOGwAAAT5JREFUKM9tUbFKA0EQfdlszrvLZbkfEP0Ea0FIb+EfhAWRYOUhiDbi\n",
       "iYWlljZK/AJT2AqCdnfgaRMEwWtSSlKoEQ3RmQ1ye+LA7r7dt/Pe7A5gh1vAGH9is4BtM798p+lV\n",
       "h5EIC24mN8spEHwyWLY1Lo3JCHDeGLVsrs+Tohw1YnRsc16TpmAI1E/YrmtzdTb0MsgbrqVGpbRv\n",
       "93ej81kNVK7p6KK3neS/N8OnSE60IHXFKnsxxBlz1Xk4eolrU2TDPB5pzLGmpyHlO8QrapTjE48x\n",
       "jUE05SCGTHjk7FCeP6HjOz3VRNBFNcRG3IRYoM/5IP6L/RqUTBkrGombQ2VUHeWumw/iqo86GAD3\n",
       "FfOi4HmcJg/mtT6prAJbwNoOOehSixbtzUG5fX170ypzDavZblbmZPb/PROHBaRqfgAgJ06m/74Q\n",
       "JwAAAABJRU5ErkJggg==\n",
       "\" style=\"display:inline;vertical-align:middle;\" /></a><br>"
      ],
      "text/plain": [
       "Bm: B(m)"
      ]
     },
     "execution_count": 62,
     "metadata": {},
     "output_type": "execute_result"
    }
   ],
   "source": [
    "Bm = Function(B,m)"
   ]
  },
  {
   "cell_type": "code",
   "execution_count": 63,
   "metadata": {},
   "outputs": [
    {
     "data": {
      "text/html": [
       "<strong id=\"Cn\">Cn:</strong> <a class=\"ProveItLink\" href=\"../__pv_it/common/65ceb41563d7e9159b5e9ee81c0a489299f07c5b0/common_expr.ipynb\"><img src=\"data:image/png;base64,iVBORw0KGgoAAAANSUhEUgAAACwAAAAVBAMAAADP3xFXAAAAMFBMVEX///+6uroyMjLMzMwiIiJm\n",
       "ZmaqqqoQEBB2dnbc3NyYmJhUVFRERESIiIju7u4AAABBACUiAAAAAXRSTlMAQObYZgAAAAlwSFlz\n",
       "AAAOxAAADsQBlSsOGwAAARFJREFUGNNjYEACEyAUJwMK4E2A0IwXQCTfnd27OBuAjAyY/C0Qcf0e\n",
       "A1vIAqC0AkyY6QEDwxtnICMeaCzrApgwVwADgzpQikEciNkRttQxcHwD0aZAnIQQ1mKY7wCiHwNx\n",
       "BNANt1/2ngUyuxn6LyCUMHDw7GV4D7RmEYP/BJiwGwODIMsBhvkGDAzpDPVgIZC1hUDqvQBDPpBt\n",
       "z+APEmUzgAgz5DMwbAI7DORiBg6oISCxX3wMDCkM80FW9oGEQU6oYGD7B1SzhoHtFwODBMhooKsY\n",
       "OD8z8CosBrv16emtAmBrTYDudmDg2wUMR0ekcGUxgLE4HZCEQQEEAYhAA4GTMMYclNh5gyEPMRIa\n",
       "PLwTGAA2RTx18LvZugAAAABJRU5ErkJggg==\n",
       "\" style=\"display:inline;vertical-align:middle;\" /></a><br>"
      ],
      "text/plain": [
       "Cn: C(n)"
      ]
     },
     "execution_count": 63,
     "metadata": {},
     "output_type": "execute_result"
    }
   ],
   "source": [
    "Cn = Function(C,n)"
   ]
  },
  {
   "cell_type": "code",
   "execution_count": 64,
   "metadata": {},
   "outputs": [
    {
     "data": {
      "text/html": [
       "<strong id=\"PofA\">PofA:</strong> <a class=\"ProveItLink\" href=\"../__pv_it/common/179eec53aec5f67dcadb70a64bbe503739c53abe0/common_expr.ipynb\"><img src=\"data:image/png;base64,iVBORw0KGgoAAAANSUhEUgAAADIAAAAVBAMAAAD2uKAMAAAAMFBMVEX///+6urqYmJgiIiLc3Nx2\n",
       "dnaqqqrMzMwQEBDu7u5mZmYyMjJUVFRERESIiIgAAAAee7pSAAAAAXRSTlMAQObYZgAAAAlwSFlz\n",
       "AAAOxAAADsQBlSsOGwAAAR5JREFUKM9jYEAGDjAGCwMq4EsAU94MDIwPQIy3/++c3TUBxEqFKNgP\n",
       "xI/ArN8MDLydQJpzA5jL9h9IcIOUsv8D8oCYgUsBLMN1Hmgd0wKQ6d+B+CuQwQExLCS+AEiCDOH9\n",
       "AMRAWYZsiLMevAc5ZBMQ819gYKgHuWUpxDCGfJCpMQxgUVczBqgyBgYxhvoAIKUNxO+PhiqCxcDS\n",
       "DAsY/A8AqQwgvg/zaCPYt7dWnb8AMgniHSSZeUCLDYC0BNA7X2EyZhDDGJgbgHQyUPtHmMw9IGYE\n",
       "uosb6A0GXSgNBiCHeoA8+AXsBa77fx9AZYoZGOb+38nAdv830NmGyJHAXIBgsxggy4BDEQqgoQsD\n",
       "VxBMX9Q4nYtVESSY4fHuwAAALZlDXvKbPgMAAAAASUVORK5CYII=\n",
       "\" style=\"display:inline;vertical-align:middle;\" /></a><br>"
      ],
      "text/plain": [
       "PofA: P(A)"
      ]
     },
     "execution_count": 64,
     "metadata": {},
     "output_type": "execute_result"
    }
   ],
   "source": [
    "PofA = Function(P, A)"
   ]
  },
  {
   "cell_type": "code",
   "execution_count": 65,
   "metadata": {},
   "outputs": [
    {
     "data": {
      "text/html": [
       "<strong id=\"PofB\">PofB:</strong> <a class=\"ProveItLink\" href=\"../__pv_it/common/659ee98e18fe8cf68d21bf5ccc69f7d39f4a9e800/common_expr.ipynb\"><img src=\"data:image/png;base64,iVBORw0KGgoAAAANSUhEUgAAADMAAAAVBAMAAAAZessyAAAAMFBMVEX///+6urqYmJgiIiLc3Nx2\n",
       "dnaqqqrMzMwQEBDu7u5mZmYyMjJUVFRERESIiIgAAAAee7pSAAAAAXRSTlMAQObYZgAAAAlwSFlz\n",
       "AAAOxAAADsQBlSsOGwAAAThJREFUKM9jYEAGDlhYEMCXAGfKgcm3/++c3TUBxEoFYt3/Z87sLWDg\n",
       "UwDL/WZg4O0E0pwbQLxeBgae7wwMO0Fs9n8MDGxAzMAFUskCZDH+YmDQAtsAVMP3FcjgAPGYgDwm\n",
       "oDQHyAreD0AMFGDIBknxAHncLUAMMoL/AgND/QMgYylIiuMCA+fhAgYG1gMMYGFXM5DoJhBRf+/d\n",
       "aZAGJpCb3h8NVQS7FCz/3oGBrQlIszUAifswbzaCiBtAHA80kP0DxFtIUn+AWB9oMyNQF/tXmBTI\n",
       "QPZPQOK8ANBAA6CXPsKk7oE8+QUoDTKHCehu7g8wqRgg5gaaIwEKJK4ABq77fx9ApYqBHr7/58zp\n",
       "ayAOswBynDAXIHGcUaKLaQESZxFqVF5BMFkuoErNRTB50VIAywM48wkDAwCWmU3nRpSpjwAAAABJ\n",
       "RU5ErkJggg==\n",
       "\" style=\"display:inline;vertical-align:middle;\" /></a><br>"
      ],
      "text/plain": [
       "PofB: P(B)"
      ]
     },
     "execution_count": 65,
     "metadata": {},
     "output_type": "execute_result"
    }
   ],
   "source": [
    "PofB = Function(P, B)"
   ]
  },
  {
   "cell_type": "code",
   "execution_count": 66,
   "metadata": {},
   "outputs": [
    {
     "data": {
      "text/html": [
       "<strong id=\"Pk\">Pk:</strong> <a class=\"ProveItLink\" href=\"../__pv_it/common/10f6db3d92f2a6872bea0c3d23d18e515274bbde0/common_expr.ipynb\"><img src=\"data:image/png;base64,iVBORw0KGgoAAAANSUhEUgAAAC0AAAAVBAMAAAAgHXppAAAAMFBMVEX///+6urqYmJgiIiLc3Nx2\n",
       "dnaqqqrMzMwQEBDu7u5mZmYyMjJUVFRERESIiIgAAAAee7pSAAAAAXRSTlMAQObYZgAAAAlwSFlz\n",
       "AAAOxAAADsQBlSsOGwAAARxJREFUGNNjYEAGDigUHPAlQGg5MPn2/52zuyaAWKkMDHObQfIKYInf\n",
       "DAy8nUCacwOQ2AUS2Qki2P8xMLABMQMXSNk3kJAW2NTvQPwVyOAAYsafICEOkLG8H4AYKMeQDcSs\n",
       "DSBxbpBO/gsMDPUPgIylIJEDbFETGFgPMIDFXM1AqjYB8XyFNA8FBiaQC94fDVUEuwskme+YUO3A\n",
       "wAYy7T7MW41AvEId7MQPEOcjxK1XFYBcBVTP/hUmDjSH8xsjyGVsBkCnf4SJ32NgYPrJ+Y0PSAGd\n",
       "yP0BJh7DwMCzgfM7K9DnAQxc9/8+gIoXA/2XwPDqJQMDswByMDMXwFjOKMHPtADGWoQaL1egNMsF\n",
       "VPG5UJoXLSJZoC54wsAAAOarQizqGyKRAAAAAElFTkSuQmCC\n",
       "\" style=\"display:inline;vertical-align:middle;\" /></a><br>"
      ],
      "text/plain": [
       "Pk: P(k)"
      ]
     },
     "execution_count": 66,
     "metadata": {},
     "output_type": "execute_result"
    }
   ],
   "source": [
    "Pk = Function(P, k)"
   ]
  },
  {
   "cell_type": "code",
   "execution_count": 67,
   "metadata": {},
   "outputs": [
    {
     "data": {
      "text/html": [
       "<strong id=\"Px\">Px:</strong> <a class=\"ProveItLink\" href=\"../__pv_it/common/32fc7f13c9e7e89074583aa5bfc208d125f839970/common_expr.ipynb\"><img src=\"data:image/png;base64,iVBORw0KGgoAAAANSUhEUgAAAC4AAAAVBAMAAADLKsFqAAAAMFBMVEX///+6urqYmJgiIiLc3Nx2\n",
       "dnaqqqrMzMwQEBDu7u5mZmYyMjJUVFRERESIiIgAAAAee7pSAAAAAXRSTlMAQObYZgAAAAlwSFlz\n",
       "AAAOxAAADsQBlSsOGwAAAQZJREFUGNNjYEAGDhCKhQEV8CVAaMYHIPLt/ztnd00AsVJhCh6Byd8M\n",
       "DLydQJpzA0ycG6SM/R8DAxsQM3ApwMSZFoBM/Q7EX4EMDoRNIO28H4AYKMeQjRDfBMT8FxgY6kEu\n",
       "WArE895MDwW6KoYBLOZqBlO0gO8clwEDgzaQ+f5oqCJYM1CSyYHpJw/Q+gwg9z7M0Eag2xi4wI6t\n",
       "hzgfLg50FNivEkAlX2HiYEvkHTiBnkoGOv0jTPweA8NcgRMMrECmLtDPH2DiQMflV65gEAM7mev+\n",
       "3wdQ8WIGhlnv2BaBAtUQOZiZC2AsFgNkcXBogQEiBMHgCozhixpfczEUQI2FuoDPgQEA2ds73nN/\n",
       "kJoAAAAASUVORK5CYII=\n",
       "\" style=\"display:inline;vertical-align:middle;\" /></a><br>"
      ],
      "text/plain": [
       "Px: P(x)"
      ]
     },
     "execution_count": 67,
     "metadata": {},
     "output_type": "execute_result"
    }
   ],
   "source": [
    "Px = Function(P, x)"
   ]
  },
  {
   "cell_type": "code",
   "execution_count": 68,
   "metadata": {},
   "outputs": [
    {
     "data": {
      "text/html": [
       "<strong id=\"Py\">Py:</strong> <a class=\"ProveItLink\" href=\"../__pv_it/common/da54d8e4a8a27a02e3008e3dbdbc9c2042ade4470/common_expr.ipynb\"><img src=\"data:image/png;base64,iVBORw0KGgoAAAANSUhEUgAAAC0AAAAVBAMAAAAgHXppAAAAMFBMVEX///+6urqYmJgiIiLc3Nx2\n",
       "dnaqqqrMzMwQEBDu7u5mZmYyMjJUVFRERESIiIgAAAAee7pSAAAAAXRSTlMAQObYZgAAAAlwSFlz\n",
       "AAAOxAAADsQBlSsOGwAAASBJREFUGNNjYEAGDigUHPAlQGg5MPn2/52zuyaAWKkweQUw9ZuBgbcT\n",
       "SHNugGncCSLY/zEwsAExA5cCTFwLrOs7EH8FMjjgFnGAjOX9AMRAOYZsuDg3SCf/BQaG+gdAxlKg\n",
       "Fa8UGOYwMLAeYACLuZqBVG0CCrA1MOgzMDCBXPD+aKgiWDdQsozLgOEs0BkNQO59mKmNDAwTOB4w\n",
       "9AGd+AHifLg4g/wEdqATGIHq2b/CxEGWrGbgA4qxGQCd/hEmfg+I7zDwAt3CBHQi9weYeAwQr2GQ\n",
       "B7qdK4CB6/7fB1DxYiCeE7ceGMrMAsjBzFwAIqOB2Bkl+JkWMLBu4GwDshahxssVBuYHPAEMDCwX\n",
       "UMXnMrDpLQSFJFpEskBd8ISBAQDJ+z+onRJgsAAAAABJRU5ErkJggg==\n",
       "\" style=\"display:inline;vertical-align:middle;\" /></a><br>"
      ],
      "text/plain": [
       "Py: P(y)"
      ]
     },
     "execution_count": 68,
     "metadata": {},
     "output_type": "execute_result"
    }
   ],
   "source": [
    "Py = Function(P, y)"
   ]
  },
  {
   "cell_type": "code",
   "execution_count": 69,
   "metadata": {},
   "outputs": [
    {
     "data": {
      "text/html": [
       "<strong id=\"Pxy\">Pxy:</strong> <a class=\"ProveItLink\" href=\"../__pv_it/common/4e61be9aa333d2df63a3be6228e145aa7632e0400/common_expr.ipynb\"><img src=\"data:image/png;base64,iVBORw0KGgoAAAANSUhEUgAAAEIAAAAVBAMAAAAA8SWUAAAAMFBMVEX///+6urqYmJgiIiLc3Nx2\n",
       "dnaqqqrMzMwQEBDu7u5mZmYyMjJUVFRERESIiIgAAAAee7pSAAAAAXRSTlMAQObYZgAAAAlwSFlz\n",
       "AAAOxAAADsQBlSsOGwAAAWxJREFUKM9tUT1Iw1AQ/pq2SROb2kncrKsiVATdJIuj0qWTDkWXbro6\n",
       "xdVFuimKoVQER+nolCXgonRwLFQcRIo/VSxSxJ/vvaYlbRq4uy/3vrv73j0g8MUw/A1nHkOMyL3w\n",
       "L3/1m6sSgZoLMfAg/Tdg7jOehAkYE6XaL8tpqIxgKGW61BetTbA3ggHR3GzRyFIvRzGqtPEaYFOz\n",
       "IYQ6z4f5gjxyKtBdYAPydGVRiMrQlVO3RlYyckUo7D5L+Oblp0UqylrFUjpJwYRWOEOS3YvEDX9i\n",
       "Is08DF+NjgMkONvurqPPgMx219mBvQNMsqztp6JS4ZSll+Qvmz0xbHEV7z7DZPVp+hpxQHBMF3WG\n",
       "OV6h5TPivNv27gUmoIvBhhv5YDiH0fjxJ2u85fGrWuGwBTbRveYns/PB9S31kSqlxHmtWDbImOkj\n",
       "SsE6jtjNyAQZptVDDm0ZHv3qwCPptR4SyjabYj93g++4FnrZlIV/yYdUEX1sSzUAAAAASUVORK5C\n",
       "YII=\n",
       "\" style=\"display:inline;vertical-align:middle;\" /></a><br>"
      ],
      "text/plain": [
       "Pxy: P(x, y)"
      ]
     },
     "execution_count": 69,
     "metadata": {},
     "output_type": "execute_result"
    }
   ],
   "source": [
    "Pxy = Function(P, (x, y))"
   ]
  },
  {
   "cell_type": "code",
   "execution_count": 70,
   "metadata": {},
   "outputs": [
    {
     "data": {
      "text/html": [
       "<strong id=\"Pxyz\">Pxyz:</strong> <a class=\"ProveItLink\" href=\"../__pv_it/common/74e067b301a98c748fdb20c784c9162fac1e28d00/common_expr.ipynb\"><img src=\"data:image/png;base64,iVBORw0KGgoAAAANSUhEUgAAAFUAAAAVBAMAAADFg78FAAAAMFBMVEX///+6urqYmJgiIiLc3Nx2\n",
       "dnaqqqrMzMwQEBDu7u5mZmYyMjJUVFRERESIiIgAAAAee7pSAAAAAXRSTlMAQObYZgAAAAlwSFlz\n",
       "AAAOxAAADsQBlSsOGwAAAaRJREFUKM99kz1Iw0AUx/9N07RJPwwOjlpXJ0GwmxTEvUsH0UIQBMHB\n",
       "QicHqY4iSBdRhJZSERyLmw7SpeCidHAstoOCFD+qWKSIH+/uctoWkgcv97t7/9y99y4Bei0ORxsM\n",
       "RSxn7Sh/Pv3Ur85zjJadpYhE+fAJhLdp1MsuWpyxh/8b0MhhRN20E3z3D/IOQcBNigBLM9wmJz1W\n",
       "XbVBdupQDcg2CY7JC4/7SdGNQgl6RcgyMTUKH5uQbm6aLZ2SFyPXxiQXJFagtDnpF6lFQGGVv1ST\n",
       "43yNXlDiSjfES/RbRwjV+LqawzyVv0nYkBltkQKG3Tgduwg07cge1eVvi/b+afEf93SRTQtU2ZqH\n",
       "9vV3pJYnPRbX+R2yAx7swDCdAo3KiLxK7S2QNy/hA3grK6gL0iyEqBRKPtiWWip2bf0EI9BZWkbF\n",
       "8yZoI3Ufo3kCRuNLZpgBDp+1ErV3irbTq613QQltxwS8Zu/NeNOSNJ6yryyJ2WzfLSpFSZQyFnBg\n",
       "CRJW6r/yGwkF8hlUbRJ9q/Vr8xJYBUst0yZu4YGfSG06f2Z3wC8D12Ogfov/3gAAAABJRU5ErkJg\n",
       "gg==\n",
       "\" style=\"display:inline;vertical-align:middle;\" /></a><br>"
      ],
      "text/plain": [
       "Pxyz: P(x, y, z)"
      ]
     },
     "execution_count": 70,
     "metadata": {},
     "output_type": "execute_result"
    }
   ],
   "source": [
    "Pxyz = Function(P, (x, y, z))"
   ]
  },
  {
   "cell_type": "code",
   "execution_count": 71,
   "metadata": {},
   "outputs": [
    {
     "data": {
      "text/html": [
       "<strong id=\"Pq\">Pq:</strong> <a class=\"ProveItLink\" href=\"../__pv_it/common/693ef0d7e025a2a270a2a06d55808e81d24556050/common_expr.ipynb\"><img src=\"data:image/png;base64,iVBORw0KGgoAAAANSUhEUgAAACwAAAAVBAMAAADP3xFXAAAAMFBMVEX///+6urqYmJgiIiLc3Nx2\n",
       "dnaqqqrMzMwQEBDu7u5mZmYyMjJUVFRERESIiIgAAAAee7pSAAAAAXRSTlMAQObYZgAAAAlwSFlz\n",
       "AAAOxAAADsQBlSsOGwAAARJJREFUGNNjYEACLCgUHDyDUIwPQOTb/3fO7poAZLAFQKUfgcnfDAy8\n",
       "nUB6NkwXN0gR+z+gQiBmWAQTZloAJPi+A/FXIKMBbglIL+8HIAZKsW2AC28CYv4LDAz1QMu5QDay\n",
       "nIt8zsAQwwAWcjUDWaQAJIQdeICatYGs90dDFUE6mRMYGDibGHiAZmUAufehBnIIAA36wMAMNKse\n",
       "4my4MMcFBn8gJQF09leoMMiQ+Q8Y9IHMZKCTP0KFeYGumZ/AcBvI1AU64ANUmPUASIoJpHkpA9f9\n",
       "vw8gwuwGQJecewbSbIgcrubg8ABqZjFAFtYCESBncykgC/M6gJwJdLYvSuRwAgOHdb8pA8MV1Ejz\n",
       "g1B8DgwAZxA+hJcRTEcAAAAASUVORK5CYII=\n",
       "\" style=\"display:inline;vertical-align:middle;\" /></a><br>"
      ],
      "text/plain": [
       "Pq: P(q)"
      ]
     },
     "execution_count": 71,
     "metadata": {},
     "output_type": "execute_result"
    }
   ],
   "source": [
    "Pq = Function(P, q)"
   ]
  },
  {
   "cell_type": "code",
   "execution_count": 72,
   "metadata": {},
   "outputs": [
    {
     "data": {
      "text/html": [
       "<strong id=\"QofA\">QofA:</strong> <a class=\"ProveItLink\" href=\"../__pv_it/common/a3b5f30b31e2e6c8d4ff71eeb41c35c44be51cd10/common_expr.ipynb\"><img src=\"data:image/png;base64,iVBORw0KGgoAAAANSUhEUgAAADEAAAAVBAMAAAAdjxsPAAAAMFBMVEX///+IiIiqqqq6uroiIiIQ\n",
       "EBBERETu7u7MzMwyMjKYmJhUVFRmZmZ2dnbc3NwAAABtgPhfAAAAAXRSTlMAQObYZgAAAAlwSFlz\n",
       "AAAOxAAADsQBlSsOGwAAAUZJREFUKM9dUTFLw0AU/tLaJNY0FAdHySQ4GVenDhbczA+Qkj8gzeLg\n",
       "lt3BDIKT2NGhQ2cddHGxQh1cCoopOAliEZWqaH3fHY3Rg3vve/e9++69e0BuuRlK8XfNaj4BljW6\n",
       "uT1WoHCl3PQQMFpE/RgzCcG2vrkkDPYZh2I2eHShme63mLbsPUanNIEiKo8jsaUIDj3uYnlGSWJg\n",
       "PPOxFp4ohp4POLqAs8IHb3bQ8xgepipNVtGzv8SVE6xH4q1XMVMqx4H7yQ4C8AxlCpR8wrnL7ps4\n",
       "e4hVhlvJhLGqwAtFA6m36OE8nag5sutUq2HXO3qoNHjRlHSssBzqhzAa1cpJBF0oXHbbTHULO5vX\n",
       "PmI+WoPVfI+wMD4QaVWO6RtqHmu5gdwra3YWlW/nGP27znikM34n6ao/g11X3cMKM8b8N+5BhuaB\n",
       "H6NYTKixq4nwAAAAAElFTkSuQmCC\n",
       "\" style=\"display:inline;vertical-align:middle;\" /></a><br>"
      ],
      "text/plain": [
       "QofA: Q(A)"
      ]
     },
     "execution_count": 72,
     "metadata": {},
     "output_type": "execute_result"
    }
   ],
   "source": [
    "QofA = Function(Q, A)"
   ]
  },
  {
   "cell_type": "code",
   "execution_count": 73,
   "metadata": {},
   "outputs": [
    {
     "data": {
      "text/html": [
       "<strong id=\"Qx\">Qx:</strong> <a class=\"ProveItLink\" href=\"../__pv_it/common/fce49534291e406d3d43684e225f1a2779a61f030/common_expr.ipynb\"><img src=\"data:image/png;base64,iVBORw0KGgoAAAANSUhEUgAAAC0AAAAVBAMAAAAgHXppAAAAMFBMVEX///+IiIiqqqq6uroiIiIQ\n",
       "EBBERETu7u7MzMwyMjKYmJhUVFRmZmZ2dnbc3NwAAABtgPhfAAAAAXRSTlMAQObYZgAAAAlwSFlz\n",
       "AAAOxAAADsQBlSsOGwAAATNJREFUGNNjYEACfFD6AQMqEILShhBVd+7uAjOYLkDFGReAyJsNDNwT\n",
       "QIxKuMbpIF4CkIgB8U7BxdcA8RQQYz+ICICLsxYw8PwAMe43AI2fABfnXMDwHmQMw3kDBgYeoLXs\n",
       "gtt7LzEw8G5gOK8AEp//AKyIgYdBWuAIAwPXBAb/AqAw+1cgwQJUsY5hfQHQ0UwBDCARBq5fIMuA\n",
       "ZjUwnATxOT4wuIDo0glQcQaGQBDBHAB0IbMCw9EHUHMYmP8xlAPNcWDoV1jxijcOpIhNgIE9mTuA\n",
       "AegsrgQGxjgB3t0gu0GOY/pREwDUDnZyd+4VA6B9QMscGNgPCugsAhkJtorNgBEc4h5w/z4Bk2wb\n",
       "NOGhBQGQEOT5/wMiD4snPnDYMHC4gsOCgT0BKs6GFpEPobQcAwMACmpEKvU4eZ0AAAAASUVORK5C\n",
       "YII=\n",
       "\" style=\"display:inline;vertical-align:middle;\" /></a><br>"
      ],
      "text/plain": [
       "Qx: Q(x)"
      ]
     },
     "execution_count": 73,
     "metadata": {},
     "output_type": "execute_result"
    }
   ],
   "source": [
    "Qx = Function(Q, x)"
   ]
  },
  {
   "cell_type": "code",
   "execution_count": 74,
   "metadata": {},
   "outputs": [
    {
     "data": {
      "text/html": [
       "<strong id=\"Qy\">Qy:</strong> <a class=\"ProveItLink\" href=\"../__pv_it/common/5941bdda6544fc36bf4c4fbcb7f152f93ac5c5ab0/common_expr.ipynb\"><img src=\"data:image/png;base64,iVBORw0KGgoAAAANSUhEUgAAACwAAAAVBAMAAADP3xFXAAAAMFBMVEX///+IiIiqqqq6uroiIiIQ\n",
       "EBBERETu7u7MzMwyMjKYmJhUVFRmZmZ2dnbc3NwAAABtgPhfAAAAAXRSTlMAQObYZgAAAAlwSFlz\n",
       "AAAOxAAADsQBlSsOGwAAATtJREFUGNNVkSFMw1AQhr9R1patWxYSDJmoYAJUDX4ESHCAwpBlnkBA\n",
       "TODmEatAYZgikCCqIQsIMEvIJjAECMUgMGAWCAK4e2ULe+Luv//lv//ePfh38kNpcMaTZBXM5cPj\n",
       "mSlHun/Xkxru6mRDBbt91di2FFUB61q1+3TmEvYVXGhYGZis4X1qfqpL63BAH/CmPegE4InjThsn\n",
       "gns6vtKHsRg1oVsi8w4nLIsrTk/CqI/rX5EVeYmesf6SkA5wWCUtj2mwoHQtTGisDxriPiujWT7X\n",
       "cdIEL2RC4BQN//g1V1GJLWo7YkPgEalKIXeutuRkMi+y1OYG9jZvA6QfbllGahW/Bc4bdZDS3iwZ\n",
       "jbjny4aOps2TT2Wb1NS4qaX3Y/aCHTNHS8CLKd1FswCcKjNFGZ6t4U97TpI4/QIW8UTc+Ph9ZAAA\n",
       "AABJRU5ErkJggg==\n",
       "\" style=\"display:inline;vertical-align:middle;\" /></a><br>"
      ],
      "text/plain": [
       "Qy: Q(y)"
      ]
     },
     "execution_count": 74,
     "metadata": {},
     "output_type": "execute_result"
    }
   ],
   "source": [
    "Qy = Function(Q, y)"
   ]
  },
  {
   "cell_type": "code",
   "execution_count": 75,
   "metadata": {},
   "outputs": [
    {
     "data": {
      "text/html": [
       "<strong id=\"Qz\">Qz:</strong> <a class=\"ProveItLink\" href=\"../__pv_it/common/12e031e181a11cc28796e3734ec9b9c408f199aa0/common_expr.ipynb\"><img src=\"data:image/png;base64,iVBORw0KGgoAAAANSUhEUgAAACwAAAAVBAMAAADP3xFXAAAAMFBMVEX///+IiIiqqqq6uroiIiIQ\n",
       "EBBERETu7u7MzMwyMjKYmJhUVFRmZmZ2dnbc3NwAAABtgPhfAAAAAXRSTlMAQObYZgAAAAlwSFlz\n",
       "AAAOxAAADsQBlSsOGwAAAShJREFUGNNjYEACfCgUHAhBKGYBsOSdu7vAXKYLUGkpEHGzgYF7AohR\n",
       "CdPFWQDkJAAZMSDeKZgw1wEGhikgxn4QEQC3JJyB5weIvt8ANHoCXHgWw3uQGQznDRgYeEA2tnjw\n",
       "LWBguM1wXgEkPP8B0CIgn33itdtA7koGf6CtDOxfgQQLUAFfAcN1IFOV4SvY6l9AgtUAxKwFKetn\n",
       "cAGxSyfAhPnAPjQFOo1ZgeHoA6ghDFYM7EBShaFfYcUr3jiQEjagQiYFBm4gcxkDY5wA726QeQy8\n",
       "GxgY2q7JegCZZxkYunOvGDAAfcPA4cDAcIEpEmSDM1i3ASPIbAYPeLg7gIU3aIJ5a2DCPAvA5H9w\n",
       "uDCwPYAKPwOTHK7gAGBgT4AK56FG2kMIBbQJALFlPfMJF+W8AAAAAElFTkSuQmCC\n",
       "\" style=\"display:inline;vertical-align:middle;\" /></a><br>"
      ],
      "text/plain": [
       "Qz: Q(z)"
      ]
     },
     "execution_count": 75,
     "metadata": {},
     "output_type": "execute_result"
    }
   ],
   "source": [
    "Qz = Function(Q, z)"
   ]
  },
  {
   "cell_type": "code",
   "execution_count": 76,
   "metadata": {},
   "outputs": [
    {
     "data": {
      "text/html": [
       "<strong id=\"Rx\">Rx:</strong> <a class=\"ProveItLink\" href=\"../__pv_it/common/2a336e2cf123a511b5db96282fa835d6efb007c90/common_expr.ipynb\"><img src=\"data:image/png;base64,iVBORw0KGgoAAAANSUhEUgAAAC0AAAAVBAMAAAAgHXppAAAAMFBMVEX///+YmJgQEBDu7u5mZmZ2\n",
       "dna6uroiIiIyMjLMzMzc3NyqqqpUVFRERESIiIgAAACCFtC2AAAAAXRSTlMAQObYZgAAAAlwSFlz\n",
       "AAAOxAAADsQBlSsOGwAAASNJREFUGNNdUS1PA0EUnHavx92VQkUViN4vIE1A4KAKFMFUVbSeBGpJ\n",
       "EAQ8qUHTYHBQgacELMkpDB9ZgymUQFBt+Jq3WTY9nnjzMnlvZm4PGKvIYgfpera4afrg5/7hTob8\n",
       "uuWniga+gLMecdEd7ksLv4HCiEPV8SVzNQQC4WPHZytswRtwlFB+1/GBGEwniHaIHm3V69VhHciJ\n",
       "3dbj03XbLnl40StARk4bHXUjehNdYAblyiUlxWqPUpI82wTaWDURaYlPYKlneWBOms99/x24WLY6\n",
       "8EeYp06LVh+00CG/TUPdTsagZoaxj8mX9YYJlx8uxH7XRM7VakV4B8wYtqDW9PmsSDbHn3nbTSep\n",
       "5y+5qZriC3//KUpSvEr+L9g6tdgHfgHqDEE8tbbA9wAAAABJRU5ErkJggg==\n",
       "\" style=\"display:inline;vertical-align:middle;\" /></a><br>"
      ],
      "text/plain": [
       "Rx: R(x)"
      ]
     },
     "execution_count": 76,
     "metadata": {},
     "output_type": "execute_result"
    }
   ],
   "source": [
    "Rx = Function(R, x)"
   ]
  },
  {
   "cell_type": "code",
   "execution_count": 77,
   "metadata": {},
   "outputs": [
    {
     "data": {
      "text/html": [
       "<strong id=\"Ry\">Ry:</strong> <a class=\"ProveItLink\" href=\"../__pv_it/common/85097678e92ec4038a2f5595a83450528519e5fc0/common_expr.ipynb\"><img src=\"data:image/png;base64,iVBORw0KGgoAAAANSUhEUgAAAC0AAAAVBAMAAAAgHXppAAAAMFBMVEX///+YmJgQEBDu7u5mZmZ2\n",
       "dna6uroiIiIyMjLMzMzc3NyqqqpUVFRERESIiIgAAACCFtC2AAAAAXRSTlMAQObYZgAAAAlwSFlz\n",
       "AAAOxAAADsQBlSsOGwAAATJJREFUGNNdkTtLw1AYht/cmptpMzhbJxdB8gMq1kFxKNil4CDqLpju\n",
       "OlTdxc3BweLiqIvQzQ6uhcxayxl0EQTFSfH2ntMmNB74LnlOvusBxk87Z7JTvBraHaVffvsP98q7\n",
       "Tu9DZb6Byy6t0UoDD6Vyf4Dgk44ZpnxSRX0AjuR6VkiPqJxX4Cyh08m4IyNLCbw9+bXEEo8hKoAl\n",
       "y8WDp9tjyfcJ/GmUAU12sNk2ejIfdoFTs4kewFvggKnqks8AkS4wxxZZEl/AQnfEEUcu2yvw/8Ib\n",
       "cFMd5cEKimR+k9O8s4RwyQaUPgLGamz7nLwstsnWKTXE7N2sw2o0QphHcpATSmVjlVu2t8bXbKsp\n",
       "1igXufVrVVgtY5beYv5d7mCLCY7iJXk+D39qmTb495CeGNpn4A/XYEFIF7zLEQAAAABJRU5ErkJg\n",
       "gg==\n",
       "\" style=\"display:inline;vertical-align:middle;\" /></a><br>"
      ],
      "text/plain": [
       "Ry: R(y)"
      ]
     },
     "execution_count": 77,
     "metadata": {},
     "output_type": "execute_result"
    }
   ],
   "source": [
    "Ry = Function(R, y)"
   ]
  },
  {
   "cell_type": "code",
   "execution_count": 78,
   "metadata": {},
   "outputs": [
    {
     "data": {
      "text/html": [
       "<strong id=\"Rz\">Rz:</strong> <a class=\"ProveItLink\" href=\"../__pv_it/common/4c988f9d4850adaa938ef75e237d34ee75b692670/common_expr.ipynb\"><img src=\"data:image/png;base64,iVBORw0KGgoAAAANSUhEUgAAACwAAAAVBAMAAADP3xFXAAAAMFBMVEX///+YmJgQEBDu7u5mZmZ2\n",
       "dna6uroiIiIyMjLMzMzc3NyqqqpUVFRERESIiIgAAACCFtC2AAAAAXRSTlMAQObYZgAAAAlwSFlz\n",
       "AAAOxAAADsQBlSsOGwAAARlJREFUGNNjYEACXCgUHLyGUGwPQOTb/3fu3gYxuAOg0g/B5F8GhvUH\n",
       "gLQFTBeHAZDg/MfAwPsLyHCECTM6AAm+n0B5kLAC3BJlkJYPDAzzLwCNboALNwIx/wUGrhogzQKy\n",
       "cXollwADQwyQlX/v6ZEJIF1APnNfLEhIAojjFzCfBVnNvgHoEwOGYCBzExA3Ac0B6WdKABlrClIx\n",
       "H4j/MDDYH4AJc4F9mAT06kcGhv0OUEMYEhmYgeR2oAM+A41/wAn0ElAh9wYGHqCwLAPDIqCw/INs\n",
       "BgZWoElzY59WAoVdGVhDQwUYWPqAjuMsYGAI4NYA2VCGHK6V8HAvQBYWgTFYBJCFeRdAGWtRIof5\n",
       "ApRxCzXS1kEovgUMAO+RO9skS4ghAAAAAElFTkSuQmCC\n",
       "\" style=\"display:inline;vertical-align:middle;\" /></a><br>"
      ],
      "text/plain": [
       "Rz: R(z)"
      ]
     },
     "execution_count": 78,
     "metadata": {},
     "output_type": "execute_result"
    }
   ],
   "source": [
    "Rz = Function(R, z)"
   ]
  },
  {
   "cell_type": "code",
   "execution_count": 79,
   "metadata": {},
   "outputs": [
    {
     "data": {
      "text/html": [
       "<strong id=\"fa\">fa:</strong> <a class=\"ProveItLink\" href=\"../__pv_it/common/87a201cf64512173f031b6f78a7cd5ef415a99ec0/common_expr.ipynb\"><img src=\"data:image/png;base64,iVBORw0KGgoAAAANSUhEUgAAACgAAAAVBAMAAADGNLEtAAAAMFBMVEX///8yMjLc3NyIiIiYmJgi\n",
       "IiJERES6urqqqqoQEBDMzMxUVFTu7u52dnZmZmYAAAD1zdHuAAAAAXRSTlMAQObYZgAAAAlwSFlz\n",
       "AAAOxAAADsQBlSsOGwAAAQJJREFUGNNjYIADJhQKCiwgFLsBmOK7ewBIclyASpqAydsrG4DkQZgO\n",
       "RpAShhllIOoJTJDlAciQP2D2BLjhc4CYNwDE4hCAC4oAVe+MBqnnA9mjfVkZZAcQ84PdwOgANGgS\n",
       "Qz7QeEcgV38BSJAV6IKTDgxPgcxOIO4HG8RZwMDwnoEhFshcD8RX4YLTGHi+A5mVQJzNANXO85mB\n",
       "5QOQ2QrEk8GCbAYMPD8YuAWaGBjcgKHyHSzIu4GBIZmh9QHQeW+Brv4AFuQCeuG07aLNQKeEA129\n",
       "AeKPKHi4BjB0MzZA2H4wQT4HhjBYkLEpQBlqDAzOj6BsngQoIwk5OpQhFLMCAwBJFTU/XGkS/wAA\n",
       "AABJRU5ErkJggg==\n",
       "\" style=\"display:inline;vertical-align:middle;\" /></a><br>"
      ],
      "text/plain": [
       "fa: f(a)"
      ]
     },
     "execution_count": 79,
     "metadata": {},
     "output_type": "execute_result"
    }
   ],
   "source": [
    "fa = Function(f, a)"
   ]
  },
  {
   "cell_type": "code",
   "execution_count": 80,
   "metadata": {},
   "outputs": [
    {
     "data": {
      "text/html": [
       "<strong id=\"fb\">fb:</strong> <a class=\"ProveItLink\" href=\"../__pv_it/common/f7c42e5722975eba184a89eadc6ac91c8e9658490/common_expr.ipynb\"><img src=\"data:image/png;base64,iVBORw0KGgoAAAANSUhEUgAAACYAAAAVBAMAAADY/YGeAAAAMFBMVEX///8yMjLc3NyIiIiYmJgi\n",
       "IiJERES6urqqqqoQEBDMzMxUVFTu7u52dnZmZmYAAAD1zdHuAAAAAXRSTlMAQObYZgAAAAlwSFlz\n",
       "AAAOxAAADsQBlSsOGwAAAQZJREFUGNNjYIADJiQSBizAJLsBmOK7ewBIclxgODYVSJuAxW6vbACS\n",
       "B4FYDogZQQoYZpSBqCdA/AOIWR6ATPgDVj0BxpoDxLwBIBaHAIwlAlS7Mxqkmu8C0KjN1kCTbwN5\n",
       "/GDbGR0YGM7L8HxiYHAE8vQXgMRYgSr6DzBMZmDoBPL6wVZwFjAwPGRg+MvAsB7IuwoXi2VgB7qm\n",
       "EsjLZoDp/cHAB3RNK5A3GSzGBrTpF8NJoE1uwID4Dhbj3cDAsIUhD8h6C3TsB7AYF9C9p+8BlTGE\n",
       "Ax27ARJUUbBgDGDoZmyAsP2gYnwODGEHoWw2BQitxsDg/AgqxpMAoZOQw14ZTDIrMAAAyO03nwi7\n",
       "pUMAAAAASUVORK5CYII=\n",
       "\" style=\"display:inline;vertical-align:middle;\" /></a><br>"
      ],
      "text/plain": [
       "fb: f(b)"
      ]
     },
     "execution_count": 80,
     "metadata": {},
     "output_type": "execute_result"
    }
   ],
   "source": [
    "fb = Function(f, b)"
   ]
  },
  {
   "cell_type": "code",
   "execution_count": 81,
   "metadata": {},
   "outputs": [
    {
     "data": {
      "text/html": [
       "<strong id=\"fab\">fab:</strong> <a class=\"ProveItLink\" href=\"../__pv_it/common/e1663c210c4dd72ccee533a2a3ae087f9cc778300/common_expr.ipynb\"><img src=\"data:image/png;base64,iVBORw0KGgoAAAANSUhEUgAAADoAAAAVBAMAAADlb+D4AAAAMFBMVEX///8yMjLc3NyIiIiYmJgi\n",
       "IiJERES6urqqqqoQEBDMzMxUVFTu7u52dnZmZmYAAAD1zdHuAAAAAXRSTlMAQObYZgAAAAlwSFlz\n",
       "AAAOxAAADsQBlSsOGwAAAVZJREFUKM9jYIADJgZUgMq3QJNlNwBTfHcPAEmOC0gyx6YCCRMw8/bK\n",
       "BiB5EEWjHBAzgjQxzCgDUU9QZH8AMcsDkPl/wPwJKHaCxeYAMW8AiMUhgCwLERMB6t8ZDTKBD+Qo\n",
       "7cvKEFnGzdZAt9wGsvjBLmd0AJo3iSEf7BKG8zI8nxgYHIEs/QUgPitQ7UkHhqcQvf0HGCYzMHSC\n",
       "WGA+ZwEDw3sGhliI7EMGhr8MDOuBrKtw2WkMPN8hsrEM7EA/VQJZ2QxQk3k+M7B8gHmXD+inViBr\n",
       "MpjPZsDA84OBW6CJAeSuXyA3MLgBowJiGO8GBoZkhtYHD3g+AnlbGPKA5FtgMEAM4wL6/7Ttos0L\n",
       "GEKBmk/fA2plCAcGwwaIVVGwcOI4AIvgAIZuxgYI2w8eijAGnwNDGCzm2BSgjMMwWTUGBudHUDZP\n",
       "ApRhAJNNQo4XZbSUw6zAAAAtK00uN8ZazgAAAABJRU5ErkJggg==\n",
       "\" style=\"display:inline;vertical-align:middle;\" /></a><br>"
      ],
      "text/plain": [
       "fab: f(a, b)"
      ]
     },
     "execution_count": 81,
     "metadata": {},
     "output_type": "execute_result"
    }
   ],
   "source": [
    "fab = Function(f, (a, b))"
   ]
  },
  {
   "cell_type": "code",
   "execution_count": 82,
   "metadata": {},
   "outputs": [
    {
     "data": {
      "text/html": [
       "<strong id=\"fi\">fi:</strong> <a class=\"ProveItLink\" href=\"../__pv_it/common/68d279ba17eb875d9f466a293b0b7fcc3ad8621e0/common_expr.ipynb\"><img src=\"data:image/png;base64,iVBORw0KGgoAAAANSUhEUgAAACQAAAAVBAMAAADcCFGjAAAAMFBMVEX///8yMjLc3NyIiIiYmJgi\n",
       "IiJERES6urqqqqoQEBDMzMxUVFTu7u52dnZmZmYAAAD1zdHuAAAAAXRSTlMAQObYZgAAAAlwSFlz\n",
       "AAAOxAAADsQBlSsOGwAAAPVJREFUGNNjYIADJjgBBxYggt0AzOa7ewBIclxgYGB+wGACFrq9sgFI\n",
       "HgRi1gsMjCBphhllIOoJRDvLA5D2P2D2BKiRc4CYNwDE4hCACokAVe6MBqnlA5p+GKT5NhDzg+1l\n",
       "dGBguFAJZDgCsf4CkBBrAwNXw0MgoxOI+8FGcBYw8DBMBjLWA/FVmBADB8hukOZsBqhGBsYNQAe2\n",
       "AjmTwUJsQEvOFwCtdQP6/TtYiHcD0BgmoLVvgQZ8AAtxAR3M7QJkhAPduAHi6ihoqAUwdDM2QNh+\n",
       "EIrPgSHsINRvbApgSo2BwfkRVIgnAUwlIQe0MohgVmAAAPMfMMCw2WWVAAAAAElFTkSuQmCC\n",
       "\" style=\"display:inline;vertical-align:middle;\" /></a><br>"
      ],
      "text/plain": [
       "fi: f(i)"
      ]
     },
     "execution_count": 82,
     "metadata": {},
     "output_type": "execute_result"
    }
   ],
   "source": [
    "fi = Function(f, i)"
   ]
  },
  {
   "cell_type": "code",
   "execution_count": 83,
   "metadata": {},
   "outputs": [
    {
     "data": {
      "text/html": [
       "<strong id=\"fj\">fj:</strong> <a class=\"ProveItLink\" href=\"../__pv_it/common/a5fa35f0c18d1407c62034497b51177599a4126c0/common_expr.ipynb\"><img src=\"data:image/png;base64,iVBORw0KGgoAAAANSUhEUgAAACYAAAAVBAMAAADY/YGeAAAAMFBMVEX///8yMjLc3NyIiIiYmJgi\n",
       "IiJERES6urqqqqoQEBDMzMxUVFTu7u52dnZmZmYAAAD1zdHuAAAAAXRSTlMAQObYZgAAAAlwSFlz\n",
       "AAAOxAAADsQBlSsOGwAAAQBJREFUGNNjYIADJiQSBizAJLsBmOK7ewBIclwAElw5DCZgsdsrG4Dk\n",
       "QRCTWYCBEaSAYUYZiHoCNYLlAciEP2D2BJi5c4CYNwDE4hCAiYkA1e6MBqnmA1lx2BpkPBDzg21n\n",
       "dAASDziBpCOQob8AJMYKtJtZgR9IdgJ5/WBTOAsYGHgY+oEuWA/kXYWLMTA8BeJKIM5mgOllYIgF\n",
       "4lYgngwWYwPZxPQdSLhBaaArN4D88AFIvAU69gNYjAvkcu4EIBEOdOwGiPOjQBYBDWAKYOhmbICI\n",
       "+TFwN/gDncLnwBB2EOpNNoX1DRFAWo2BwfkRVIwngc8O5MYk5LBXBpPMCgwAFkEwt0kH7LEAAAAA\n",
       "SUVORK5CYII=\n",
       "\" style=\"display:inline;vertical-align:middle;\" /></a><br>"
      ],
      "text/plain": [
       "fj: f(j)"
      ]
     },
     "execution_count": 83,
     "metadata": {},
     "output_type": "execute_result"
    }
   ],
   "source": [
    "fj = Function(f, j)"
   ]
  },
  {
   "cell_type": "code",
   "execution_count": 84,
   "metadata": {},
   "outputs": [
    {
     "data": {
      "text/html": [
       "<strong id=\"fij\">fij:</strong> <a class=\"ProveItLink\" href=\"../__pv_it/common/76c757e2c33cbcd922d44f9ca4cbccdc8c73f8030/common_expr.ipynb\"><img src=\"data:image/png;base64,iVBORw0KGgoAAAANSUhEUgAAADcAAAAVBAMAAAAQkWtIAAAAMFBMVEX///8yMjLc3NyIiIiYmJgi\n",
       "IiJERES6urqqqqoQEBDMzMxUVFTu7u52dnZmZmYAAAD1zdHuAAAAAXRSTlMAQObYZgAAAAlwSFlz\n",
       "AAAOxAAADsQBlSsOGwAAATtJREFUKM9dUT1LA0EQffeRuHc5L/kBFgGxVqwEQQJaq01EFOF6LQ4E\n",
       "wW57iwg2lrZWXmuXcD/Aa6yCEMX0Z2WTwpndOfVuYGdnefvevNkFfsNFLfq101YdvLRb/DamrArA\n",
       "mwkSXsAbmGr6qClPaLUKAb0esGKq+ytmfqIR+5yWFqa+bYIBU5YPuVS9JuhQU//5lG3E1C6vpPNt\n",
       "JmWUuhvVveJawFnALNZaf+BzSyPU7+K13yX/il2MbPsUEe4sGGFEZsKSytcKhFpUZuY8BTPPIbJw\n",
       "srGAZ+yfp7BabbL1khYwsPtNyU+ksMaf3EH0xQe/lOFUaZ+aRDp7wJCpnYQbkYs4s21O7KYYDHj0\n",
       "NeDG0f/emeSJpw/kJ44mYrBtvz6n1vqYTZH07oeAUWI2Eox30r/LEqv1T9kEfgCAY0H09xUPCAAA\n",
       "AABJRU5ErkJggg==\n",
       "\" style=\"display:inline;vertical-align:middle;\" /></a><br>"
      ],
      "text/plain": [
       "fij: f(i, j)"
      ]
     },
     "execution_count": 84,
     "metadata": {},
     "output_type": "execute_result"
    }
   ],
   "source": [
    "fij = Function(f, (i,j))"
   ]
  },
  {
   "cell_type": "code",
   "execution_count": 85,
   "metadata": {},
   "outputs": [
    {
     "data": {
      "text/html": [
       "<strong id=\"fx\">fx:</strong> <a class=\"ProveItLink\" href=\"../__pv_it/common/6774f61458aed4cc9eb250f92b3634f1d09b19a40/common_expr.ipynb\"><img src=\"data:image/png;base64,iVBORw0KGgoAAAANSUhEUgAAACkAAAAVBAMAAAAp9toTAAAAMFBMVEX///8yMjLc3NyIiIiYmJgi\n",
       "IiJERES6urqqqqoQEBDMzMxUVFTu7u52dnZmZmYAAAD1zdHuAAAAAXRSTlMAQObYZgAAAAlwSFlz\n",
       "AAAOxAAADsQBlSsOGwAAAP9JREFUGNNjYIADJiitwIAMLKB0MYTiu3sASHJcgIoyO4Cp2ysbgORB\n",
       "uCYZMDmjDKT2CVzUD0Sw/wGzJ8BFOUGKeANATA4BuCgj0GCWndEPQFYCLeMx3rP2BlDZBiCf3wCm\n",
       "gI/B2uApUB1Im/4CkCgr0B1ODP4HtgANA1nRD7GigIFhAcNDEJPrA5C4ChdlYJgMdhRIbTYDzAQG\n",
       "9k8MZ4AmBMDkGdgMGHjSuScwAJ3CkgAMqu9gUaBzOH6dm8DeAHEkxwewKFcAA89jgz4PkGFAK/g2\n",
       "QHwUBfebKgNDN2MDUpiAATCcwmAhyAaLAyagZc6PoByeBHRpMFCG0kYMDABPOTTtap08PAAAAABJ\n",
       "RU5ErkJggg==\n",
       "\" style=\"display:inline;vertical-align:middle;\" /></a><br>"
      ],
      "text/plain": [
       "fx: f(x)"
      ]
     },
     "execution_count": 85,
     "metadata": {},
     "output_type": "execute_result"
    }
   ],
   "source": [
    "fx = Function(f, x)"
   ]
  },
  {
   "cell_type": "code",
   "execution_count": 86,
   "metadata": {},
   "outputs": [
    {
     "data": {
      "text/html": [
       "<strong id=\"fy\">fy:</strong> <a class=\"ProveItLink\" href=\"../__pv_it/common/06ea2446fcc086288e80a0ce3d5eebc763658e570/common_expr.ipynb\"><img src=\"data:image/png;base64,iVBORw0KGgoAAAANSUhEUgAAACgAAAAVBAMAAADGNLEtAAAAMFBMVEX///8yMjLc3NyIiIiYmJgi\n",
       "IiJERES6urqqqqoQEBDMzMxUVFTu7u52dnZmZmYAAAD1zdHuAAAAAXRSTlMAQObYZgAAAAlwSFlz\n",
       "AAAOxAAADsQBlSsOGwAAARFJREFUGNNjYIADJhQKCiwgFLsBmOK7ewBIclyASpqAydsrG4DkQZgO\n",
       "RpAShhllIOoJTJDlAciQP2D2BLjhc4CYNwDE4hCAC4oAVe+MBqnnA9pz+AkDzwagHUAuP9gNjA4M\n",
       "DBc6GVg+MDA4Arn6C0CCrA0MXA1PGbgTGBg6gdx+sEGcBQw8DJMZOIHa1gO5V2GCIHesB2qrBHKz\n",
       "GaDaGfgEGCyBzFYgngwWZAPqY9sAVuEGDJXvYEFeoFv4NrB/ATLfAl39ASzIBfQCz167T0BmOEga\n",
       "4o8osHqgv5gCGLoZGyCCfgwMFxlOgqxzYAiDBRmbAkMww14gQ42BwfkRVJAngaHFDuhYhiTk6FCG\n",
       "UMwKDADn8zehZ6+WPAAAAABJRU5ErkJggg==\n",
       "\" style=\"display:inline;vertical-align:middle;\" /></a><br>"
      ],
      "text/plain": [
       "fy: f(y)"
      ]
     },
     "execution_count": 86,
     "metadata": {},
     "output_type": "execute_result"
    }
   ],
   "source": [
    "fy = Function(f, y)"
   ]
  },
  {
   "cell_type": "code",
   "execution_count": 87,
   "metadata": {},
   "outputs": [
    {
     "data": {
      "text/html": [
       "<strong id=\"fz\">fz:</strong> <a class=\"ProveItLink\" href=\"../__pv_it/common/dbd9581b8ae6825001ed197d82004e902bad28e70/common_expr.ipynb\"><img src=\"data:image/png;base64,iVBORw0KGgoAAAANSUhEUgAAACgAAAAVBAMAAADGNLEtAAAAMFBMVEX///8yMjLc3NyIiIiYmJgi\n",
       "IiJERES6urqqqqoQEBDMzMxUVFTu7u52dnZmZmYAAAD1zdHuAAAAAXRSTlMAQObYZgAAAAlwSFlz\n",
       "AAAOxAAADsQBlSsOGwAAAPZJREFUGNNjYIADJhQKCiwgFLsBmOK7ewBIclyASpqAydsrG4DkQZgO\n",
       "RpAShhllIOoJTJDlAciQP2D2BLjhc4CYNwDE4hCAC4oAVe+MBqnnA9mzNIrJAWgHkMUPdgMjkMcj\n",
       "fA0k4AjE+gtAgqxAFzAdYLgDZHYCcT/YIM4CEHkW5I71QHwVIcgENqkSiLMZYNoZShh4gGQrEE8G\n",
       "C7IBFXE0MHADmW5ALd/BgrwbGBiWXbONAjLfAqU/gAW5gF64wDERZHI40NUbIP6IgodrAEM3YwOE\n",
       "7QcT5HNgCIMFGZsClKHGwOD8CMrmSYAykpCjQxlCMSswAADnMi+3g51mwgAAAABJRU5ErkJggg==\n",
       "\" style=\"display:inline;vertical-align:middle;\" /></a><br>"
      ],
      "text/plain": [
       "fz: f(z)"
      ]
     },
     "execution_count": 87,
     "metadata": {},
     "output_type": "execute_result"
    }
   ],
   "source": [
    "fz = Function(f, z)"
   ]
  },
  {
   "cell_type": "code",
   "execution_count": 88,
   "metadata": {},
   "outputs": [
    {
     "data": {
      "text/html": [
       "<strong id=\"fxy\">fxy:</strong> <a class=\"ProveItLink\" href=\"../__pv_it/common/ad3dcd95e6e424f73ff4024ae6a59974d431b2150/common_expr.ipynb\"><img src=\"data:image/png;base64,iVBORw0KGgoAAAANSUhEUgAAAD0AAAAVBAMAAAAHs/uBAAAAMFBMVEX///8yMjLc3NyIiIiYmJgi\n",
       "IiJERES6urqqqqoQEBDMzMxUVFTu7u52dnZmZmYAAAD1zdHuAAAAAXRSTlMAQObYZgAAAAlwSFlz\n",
       "AAAOxAAADsQBlSsOGwAAAV5JREFUKM9jYIADJgZ0oIDCs8CQL4ZQfHcPAEmOCxjyzA5g6vbKBiB5\n",
       "kAETyIDJGWUg/U+wyPuBCPY/YPYELPKcII28ASAmhwAWeUagA1h2Rj8AORLoPB7jPWtvgCV47BwY\n",
       "TgO1bgCy+Q1gSvkYrA2eguV5OSYw+AP1ggzVXwASYQX6wYnB/8AWsPwKvgCGbUBLQY7qhzilgIFh\n",
       "AcNDqMUHOA0YJjMwcH0Asq/C5RlAYhBQf4DrF9BrIP3ZDDDzGdg/MZyByD9kYAbKcQTA9bAZMPCk\n",
       "c09guMDAwwDWxAZ0O0sCMNq+Q1y8gYHj17kJ7A0M50GOfs1Q7wDxNMcHsDxXAAPPY4M+D6BNMUDu\n",
       "6cvvgbHLCnQU3waIjVHwUOsBkxeBWJWBoZuxASkuwABoKK8AzwxInIXB4pUNllp4gOHJasANVMUE\n",
       "dJ7zI5hwAixVgGLL+TmyFjBQxog+IwYGAKNoSmi2CZtdAAAAAElFTkSuQmCC\n",
       "\" style=\"display:inline;vertical-align:middle;\" /></a><br>"
      ],
      "text/plain": [
       "fxy: f(x, y)"
      ]
     },
     "execution_count": 88,
     "metadata": {},
     "output_type": "execute_result"
    }
   ],
   "source": [
    "fxy = Function(f, (x, y))"
   ]
  },
  {
   "cell_type": "code",
   "execution_count": 89,
   "metadata": {},
   "outputs": [
    {
     "data": {
      "text/html": [
       "<strong id=\"gj\">gj:</strong> <a class=\"ProveItLink\" href=\"../__pv_it/common/706707d09fc9799396b51ad5e61b2e161c08bf190/common_expr.ipynb\"><img src=\"data:image/png;base64,iVBORw0KGgoAAAANSUhEUgAAACYAAAAVBAMAAADY/YGeAAAAMFBMVEX///8iIiJmZma6urrMzMxU\n",
       "VFTu7u5EREQQEBAyMjKYmJjc3NyIiIh2dnaqqqoAAADvjgrBAAAAAXRSTlMAQObYZgAAAAlwSFlz\n",
       "AAAOxAAADsQBlSsOGwAAAPlJREFUGNNjYICDDWCSmwEJ8DwAU8wHkMTeggj3BIZTCCG2CSDyJAMD\n",
       "ZwJcjGkBlMGlABfjgLPa4KyXcNYskOFndgFJXZCZZwKA5FUGBt4J3O1QWSaGLiC5koHhfQLDHyBL\n",
       "DohPM/wDki8YGFoZWH4DWc1AnMD3DUj6M7D8Y+BpgIoxMAkACQsGrt8M7AFQvQyMF4DEQwauDwz5\n",
       "IOfWgMT2GwCJ5QxsvxniEyAuYGBYzwBxlelZRRDLEUSEgwhhEDEJbJQDkOgBBaAAg2sCyxeo1+O4\n",
       "vkECIyIhExKK1Sz/GEHBuh1knDLE6+kMOmBWNVI4c0OU82xgAAAJNTbMp6ivwQAAAABJRU5ErkJg\n",
       "gg==\n",
       "\" style=\"display:inline;vertical-align:middle;\" /></a><br>"
      ],
      "text/plain": [
       "gj: g(j)"
      ]
     },
     "execution_count": 89,
     "metadata": {},
     "output_type": "execute_result"
    }
   ],
   "source": [
    "gj = Function(g, j)"
   ]
  },
  {
   "cell_type": "code",
   "execution_count": 90,
   "metadata": {},
   "outputs": [
    {
     "data": {
      "text/html": [
       "<strong id=\"gx\">gx:</strong> <a class=\"ProveItLink\" href=\"../__pv_it/common/1d2b81c6e4903ee4506b066df3feec8a729a56a80/common_expr.ipynb\"><img src=\"data:image/png;base64,iVBORw0KGgoAAAANSUhEUgAAACgAAAAVBAMAAADGNLEtAAAAMFBMVEX///8iIiJmZma6urrMzMxU\n",
       "VFTu7u5EREQQEBAyMjKYmJjc3NyIiIh2dnaqqqoAAADvjgrBAAAAAXRSTlMAQObYZgAAAAlwSFlz\n",
       "AAAOxAAADsQBlSsOGwAAAP5JREFUGNNjYICDDRCKmwEJ8DyA0MwHkATfwhinEGJsE2AszgS4INMC\n",
       "GItLAS7IgdDUBme9RAjOAtlwZheQ1AXinKMpd4FuuMrAwDuBux0qrcATwyTAwLCSgeF9AsMfoIAc\n",
       "0IYNXN9Ygfa9YGBoZWD5DRRsZmBgYWACu8ufgeUfA08DRBDoBLBvLBi4fjOwB0C0MzDYb2ADuvwh\n",
       "A9cHhnyQu2sYGNINIhh4gczlDGy/GeJB/gK6472bBoMdxHWmZxVBOh0ZGJLO8GmBgkoYxJ8EIhgd\n",
       "YB7iFmBwTWD5ghoMwKCJSMiEhGo1THA7yEhlCDsdJliNFPLc0Gjg2cAAAJSxN2h4XFPVAAAAAElF\n",
       "TkSuQmCC\n",
       "\" style=\"display:inline;vertical-align:middle;\" /></a><br>"
      ],
      "text/plain": [
       "gx: g(x)"
      ]
     },
     "execution_count": 90,
     "metadata": {},
     "output_type": "execute_result"
    }
   ],
   "source": [
    "gx = Function(g, x)"
   ]
  },
  {
   "cell_type": "code",
   "execution_count": 91,
   "metadata": {},
   "outputs": [
    {
     "data": {
      "text/html": [
       "<strong id=\"gy\">gy:</strong> <a class=\"ProveItLink\" href=\"../__pv_it/common/514d0ecf28cd917923cd997139a3840e1dea92bb0/common_expr.ipynb\"><img src=\"data:image/png;base64,iVBORw0KGgoAAAANSUhEUgAAACcAAAAVBAMAAAA3P+qgAAAAMFBMVEX///8iIiJmZma6urrMzMxU\n",
       "VFTu7u5EREQQEBAyMjKYmJjc3NyIiIh2dnaqqqoAAADvjgrBAAAAAXRSTlMAQObYZgAAAAlwSFlz\n",
       "AAAOxAAADsQBlSsOGwAAARBJREFUGNNjYICDDSgUBPA8gNA2yIJvYZILEGJsE2CsaQhBJriCRQhB\n",
       "DgQrAc58CWdxgvS8PbMLSOoCjT20gCGVgYE3AIgncLcDBWcBWXwNDOsZGLiAVr5PYPgDFJRjYPBj\n",
       "EmAIZ2AASjG0MrD8Bgo2MzAkcBxg6GFgYPnAwPKPgacBIshgn8DyhYGBuYGB6zcDewBEO4MmWJ5P\n",
       "gIHrA0M+yA01QFwKlucqYGD7zRAPcu1VIFZlsAfKM11gYDA9qwhysiMQp97RBwYcowGIPwlEMDqA\n",
       "yJtAvJGBwRVsI9AkBaA32PqALC0GhoiEzANgL1czMB5gBRrHXQAyUhkSDukMfGtATHbk+OCGaGA4\n",
       "zcAAAFCaOm0znxEAAAAAAElFTkSuQmCC\n",
       "\" style=\"display:inline;vertical-align:middle;\" /></a><br>"
      ],
      "text/plain": [
       "gy: g(y)"
      ]
     },
     "execution_count": 91,
     "metadata": {},
     "output_type": "execute_result"
    }
   ],
   "source": [
    "gy = Function(g, y)"
   ]
  },
  {
   "cell_type": "code",
   "execution_count": 92,
   "metadata": {},
   "outputs": [
    {
     "data": {
      "text/html": [
       "<strong id=\"gz\">gz:</strong> <a class=\"ProveItLink\" href=\"../__pv_it/common/73b388d8b1eda99ceacb52637179323a18d436f40/common_expr.ipynb\"><img src=\"data:image/png;base64,iVBORw0KGgoAAAANSUhEUgAAACcAAAAVBAMAAAA3P+qgAAAAMFBMVEX///8iIiJmZma6urrMzMxU\n",
       "VFTu7u5EREQQEBAyMjKYmJjc3NyIiIh2dnaqqqoAAADvjgrBAAAAAXRSTlMAQObYZgAAAAlwSFlz\n",
       "AAAOxAAADsQBlSsOGwAAAPhJREFUGNNjYICDDSgUBPA8gNA2yIJvYZILEGJsE2CsaQhBJriCRQhB\n",
       "DgQrAc58CWdxgvS8PbMLSOoCMYugA5DJGwDEE7jbgQKzgDjzbC1QgAto5fsEhj9AATkg3sbACzSP\n",
       "r4GBoZWB5TdQoBnsrmsgQz4wsPxj4GmACe4BEcwNDFy/GdgDoNqZFzCAtAswcH1gyAe5oQaI3zEw\n",
       "gCwqYGD7zRAPcu1VoGG1NRcdgH67wMBgelYRZJIj0HEMLyYDWYwGIP4kEMHoAPPRRgYG1wSWLyAm\n",
       "lwJMUIuBISIh8wCYXQ0V4y4AGakM4aRDBdmR44MbooHhNAMDAP5+NdbHSt9TAAAAAElFTkSuQmCC\n",
       "\" style=\"display:inline;vertical-align:middle;\" /></a><br>"
      ],
      "text/plain": [
       "gz: g(z)"
      ]
     },
     "execution_count": 92,
     "metadata": {},
     "output_type": "execute_result"
    }
   ],
   "source": [
    "gz = Function(g, z)"
   ]
  },
  {
   "cell_type": "code",
   "execution_count": 93,
   "metadata": {},
   "outputs": [
    {
     "data": {
      "text/html": [
       "<strong id=\"pi\">pi:</strong> <a class=\"ProveItLink\" href=\"../__pv_it/common/6806788b6ef11447fdb2e9632fde6f44654688cf0/common_expr.ipynb\"><img src=\"data:image/png;base64,iVBORw0KGgoAAAANSUhEUgAAACQAAAAVBAMAAADcCFGjAAAAMFBMVEX////c3NxmZmYiIiIQEBC6\n",
       "urqYmJhERESqqqoyMjJ2dnbu7u5UVFSIiIjMzMwAAAA1xb5JAAAAAXRSTlMAQObYZgAAAAlwSFlz\n",
       "AAAOxAAADsQBlSsOGwAAAPdJREFUGNNjYIADRjgBBzdABOsFJBGOBQwMvAoM15CEdgIx8wIGzg0I\n",
       "ITUIxaaAEHKA0t4IoyZAGdMYGN6efrsGqJ8JaPpekOY1DAwLTjZwFTAwcCYAmSFAoUwGvoY5DGwf\n",
       "gJY1AJmaQKEWBm6GHwy8vxkYWAKATF+g0Huge38zsDuAhRg4gFIMQM1cBgz8CmCNDJwHgPY0A2kF\n",
       "hhQgix3ouf0BQGvTgXQBox1QPdcBoDGMQGu1GBj6394SAArxGTAw8KQBGaYMDJpQV9tBQw0oZQUV\n",
       "SoJQTAkM3D+gQuwCYEqcgaHzZwJEiLsATBUiB7QsiOAVYAAARxYwJBO5j4YAAAAASUVORK5CYII=\n",
       "\" style=\"display:inline;vertical-align:middle;\" /></a><br>"
      ],
      "text/plain": [
       "pi: p(i)"
      ]
     },
     "execution_count": 93,
     "metadata": {},
     "output_type": "execute_result"
    }
   ],
   "source": [
    "pi = Function(p, i)"
   ]
  },
  {
   "cell_type": "code",
   "execution_count": 94,
   "metadata": {},
   "outputs": [
    {
     "data": {
      "text/html": [
       "<strong id=\"pj\">pj:</strong> <a class=\"ProveItLink\" href=\"../__pv_it/common/a5610dd34ff09050d0406358097789ad67d6a48f0/common_expr.ipynb\"><img src=\"data:image/png;base64,iVBORw0KGgoAAAANSUhEUgAAACcAAAAVBAMAAAA3P+qgAAAAMFBMVEX////c3NxmZmYiIiIQEBC6\n",
       "urqYmJhERESqqqoyMjJ2dnbu7u5UVFSIiIjMzMwAAAA1xb5JAAAAAXRSTlMAQObYZgAAAAlwSFlz\n",
       "AAAOxAAADsQBlSsOGwAAAQJJREFUGNNjYIADRgglwIAMbkCoWGQxjgVAgq+agTcBSXAniOCdwMAw\n",
       "G0lQDcZIQhJ0gDFYNiCMnABjcQINfXv67RqgHBPInr13gATXAQaGBScbuAog8gwKLECSbQIDX8Mc\n",
       "BrYPDAzMDUC7BfiBJIcDAzfDDwbe30DjAxiA7H6gQXxAJay/GdgdIIIMDMpAzArkcRkw8CtAtDMw\n",
       "WIHcYQC0QYEhBaiJ/QIoTL4CCTagtfsLGO2gDgHbCHZc/9tboNDiA2pi4AEqYmAGmq4J9QhIOQvI\n",
       "DGGo2ZBw4GnI3wAJGe4fUEF2gfcNFiDLgEZ0/oQGKncB06UAsCRy0MtCqIsMDAA3dDQUA/P+XwAA\n",
       "AABJRU5ErkJggg==\n",
       "\" style=\"display:inline;vertical-align:middle;\" /></a><br>"
      ],
      "text/plain": [
       "pj: p(j)"
      ]
     },
     "execution_count": 94,
     "metadata": {},
     "output_type": "execute_result"
    }
   ],
   "source": [
    "pj = Function(p, j)"
   ]
  },
  {
   "cell_type": "code",
   "execution_count": 95,
   "metadata": {},
   "outputs": [
    {
     "data": {
      "text/html": [
       "<strong id=\"pk\">pk:</strong> <a class=\"ProveItLink\" href=\"../__pv_it/common/caa70ab63db91e1f3ee15f620311f7fee0ce54650/common_expr.ipynb\"><img src=\"data:image/png;base64,iVBORw0KGgoAAAANSUhEUgAAACgAAAAVBAMAAADGNLEtAAAAMFBMVEX////c3NxmZmYiIiIQEBC6\n",
       "urqYmJhERESqqqoyMjJ2dnbu7u5UVFSIiIjMzMwAAAA1xb5JAAAAAXRSTlMAQObYZgAAAAlwSFlz\n",
       "AAAOxAAADsQBlSsOGwAAARVJREFUGNNjYIADRhQKCm5AKNYLSGIcCxi4SwyAjGtIgjuBmFMBRGxA\n",
       "CKoBMX8DkGBTQAg6AHE8WJE3wsgJQGIJmDmNgeHt6bdrgAqYFgC5cxi6tBkY1jAwLDjZwFUAND6B\n",
       "gYH7G0ejGwNDJgNfwxwGtg8MDMxAOzg+RvBNZGBoYeBm+MHA+5uBgSUAaITbA5CZ74E++M3A7gAR\n",
       "ZJ6kBxIMYWDgMmDgV4Bo398QD1LaDPZFCtB2dqCX8zfsbwBS6UDpAkY7oDTXAQaGkwz7HwBdpsXA\n",
       "0P/2lgBQkA8YFhUMvLpATaYMDJpQL9nBwxUobQVlJ8EEmRIYuH9A2ewCUIY4A0PnzwQIm7sAKliI\n",
       "HB2yEIpXgAEA7j46rUH+RvkAAAAASUVORK5CYII=\n",
       "\" style=\"display:inline;vertical-align:middle;\" /></a><br>"
      ],
      "text/plain": [
       "pk: p(k)"
      ]
     },
     "execution_count": 95,
     "metadata": {},
     "output_type": "execute_result"
    }
   ],
   "source": [
    "pk = Function(p, k)"
   ]
  },
  {
   "cell_type": "code",
   "execution_count": 96,
   "metadata": {},
   "outputs": [
    {
     "data": {
      "text/html": [
       "<strong id=\"va\">va:</strong> <a class=\"ProveItLink\" href=\"../__pv_it/common/0c6443cf8bf0dd80730a8b234949dc23ad10b9500/common_expr.ipynb\"><img src=\"data:image/png;base64,iVBORw0KGgoAAAANSUhEUgAAACcAAAAVBAMAAAA3P+qgAAAAMFBMVEX///+6urrc3NxEREQyMjJm\n",
       "ZmbMzMxUVFQQEBCqqqoiIiKYmJh2dnaIiIju7u4AAACeM2cLAAAAAXRSTlMAQObYZgAAAAlwSFlz\n",
       "AAAOxAAADsQBlSsOGwAAAPdJREFUGNNjYIADBRQKAngnQGhZZME5MMkNCDE+BxjLDyHIClewFSHI\n",
       "gWA9gDOnwFksGxj47mxgWAlkxgAxU82lCwwMPAUMPJwNDO1AAW8gllBg/sfAwO3AkMnqAHYNUDVf\n",
       "NwPrAgYGoKoHHBcYMoGCjUAHfGDgOsDAwPaBgWH+A4YLEEEOA4b3AgwMjA0MDFEMDAcg2t9fYNgP\n",
       "ZHECjTBn4ASFgS1QcAJDCZDNbcDAcIRBF+S64wwMzBc4l7ICjQZqZK0GezALaHvtMfVrDAxcAnB/\n",
       "cCXAWFoIv3MHwFjRSOFpBKWZDJAEH0NpZuT4YLoAoS8xMAAARtIwjASsr4wAAAAASUVORK5CYII=\n",
       "\" style=\"display:inline;vertical-align:middle;\" /></a><br>"
      ],
      "text/plain": [
       "va: v(a)"
      ]
     },
     "execution_count": 96,
     "metadata": {},
     "output_type": "execute_result"
    }
   ],
   "source": [
    "va = Function(v, a)"
   ]
  },
  {
   "cell_type": "code",
   "execution_count": 97,
   "metadata": {},
   "outputs": [
    {
     "data": {
      "text/html": [
       "<strong id=\"vb\">vb:</strong> <a class=\"ProveItLink\" href=\"../__pv_it/common/13e8cceaa9c68c27f0dbeabe8976df3c93c218510/common_expr.ipynb\"><img src=\"data:image/png;base64,iVBORw0KGgoAAAANSUhEUgAAACUAAAAVBAMAAAAzyjqdAAAAMFBMVEX///+6urrc3NxEREQyMjJm\n",
       "ZmbMzMxUVFQQEBCqqqoiIiKYmJh2dnaIiIju7u4AAACeM2cLAAAAAXRSTlMAQObYZgAAAAlwSFlz\n",
       "AAAOxAAADsQBlSsOGwAAAP5JREFUGNNNkDFLw0AYhh/bRpukpv4BaeeCUFx0EbI5CNLZCnatU9ei\n",
       "Qzs5uHRwFHR1y+KeQRCcgnMLB/4AHZzF95KQ3MGX981z93Hfe1CtvvMt1+4ql32XPRIdP2srqVEU\n",
       "Q2skc14zT/td2/5as7aqZ6wxFXtQfVjTSojWCS+yl6rTzRw6Mzr+gjv9n+maX/PdJ4yZerHGwJ71\n",
       "/2hn6IyRTMWWujqmm7L9A0+GrGBBSm/F1gIuIC16Nd6VwVeYI3yb+0RsEt1DOIQ3DuxY77CTNBXO\n",
       "U5d3k6e+1iy3Y5lgr8oRTEozqPOGo9KMnfc7LKQxdNhXIU338RtZLp/wD2yPMgJVIpPHAAAAAElF\n",
       "TkSuQmCC\n",
       "\" style=\"display:inline;vertical-align:middle;\" /></a><br>"
      ],
      "text/plain": [
       "vb: v(b)"
      ]
     },
     "execution_count": 97,
     "metadata": {},
     "output_type": "execute_result"
    }
   ],
   "source": [
    "vb = Function(v, b)"
   ]
  },
  {
   "cell_type": "code",
   "execution_count": 98,
   "metadata": {},
   "outputs": [
    {
     "data": {
      "text/html": [
       "<strong id=\"vi\">vi:</strong> <a class=\"ProveItLink\" href=\"../__pv_it/common/f63b93109c631afbf6471ab6c2dc0807d57b8b890/common_expr.ipynb\"><img src=\"data:image/png;base64,iVBORw0KGgoAAAANSUhEUgAAACMAAAAVBAMAAAA+1EraAAAAMFBMVEX///+6urrc3NxEREQyMjJm\n",
       "ZmbMzMxUVFQQEBCqqqoiIiKYmJh2dnaIiIju7u4AAACeM2cLAAAAAXRSTlMAQObYZgAAAAlwSFlz\n",
       "AAAOxAAADsQBlSsOGwAAANxJREFUGNNjYIADBTgBA7wTQKQsstAcIL7KwLsBIcLnACTWMDD4IYRY\n",
       "odJbEUIcMPoBXGgKlGbZwMB3ZwPDSiAzBmjcVaBmngIGHs4GhnagkDeQx9jAwMDtwJDJ6gC2H6gS\n",
       "xGQAqnjAcYEhEyjUyABmMrB9YGCY/4DhAkQIxGQAaY5iYDgA0cjgzgfUuICBwZyBE+RXW6CNH3mA\n",
       "xhswMBxh0AW55zjIGG2gL4BaWKvBXskCYhCLSwDueq4ECK2F8CN3AISORgovIzDJZIAk9BhMMiOH\n",
       "NBPIwQyXGBgAdU8rw0BJp7cAAAAASUVORK5CYII=\n",
       "\" style=\"display:inline;vertical-align:middle;\" /></a><br>"
      ],
      "text/plain": [
       "vi: v(i)"
      ]
     },
     "execution_count": 98,
     "metadata": {},
     "output_type": "execute_result"
    }
   ],
   "source": [
    "vi = Function(v, i)"
   ]
  },
  {
   "cell_type": "code",
   "execution_count": 99,
   "metadata": {},
   "outputs": [
    {
     "data": {
      "text/html": [
       "<strong id=\"vk\">vk:</strong> <a class=\"ProveItLink\" href=\"../__pv_it/common/a6c8cdfc20753355349e3546933532a8b12e10850/common_expr.ipynb\"><img src=\"data:image/png;base64,iVBORw0KGgoAAAANSUhEUgAAACgAAAAVBAMAAADGNLEtAAAAMFBMVEX///+6urrc3NxEREQyMjJm\n",
       "ZmbMzMxUVFQQEBCqqqoiIiKYmJh2dnaIiIju7u4AAACeM2cLAAAAAXRSTlMAQObYZgAAAAlwSFlz\n",
       "AAAOxAAADsQBlSsOGwAAAP1JREFUGNNjYIADBQjFxIAEeCdAaMYLSIJzGBged4EYtxFifA5AwhXE\n",
       "YnkAF2TdACR+gljcAXBBDpBx/8DMPrjgFCDmaQAzvRn47mxgWAlkxYBMK+A8CjTwOAMPZwNDO1ia\n",
       "geH9hpkaQKO3MGSyOoBcA1Y9X3FCCtALMxgecFxgyAQKNAJxxDawmflA6QcMF6CCS0ITQIISDAxR\n",
       "DAwHINr5fjJ+AwnOYmAwZ+AEBYUt0NX/+H7yApmbGRiOMOiCpI8zMLA78H3jgbiOtRrkQYYsBgbm\n",
       "CQxX7wGZC+E+4kqAsZgWwAURwQAOGigwgjGUkQL5MYYsyChoNPAqMAAAgR82oCgK0YoAAAAASUVO\n",
       "RK5CYII=\n",
       "\" style=\"display:inline;vertical-align:middle;\" /></a><br>"
      ],
      "text/plain": [
       "vk: v(k)"
      ]
     },
     "execution_count": 99,
     "metadata": {},
     "output_type": "execute_result"
    }
   ],
   "source": [
    "vk = Function(v, k)"
   ]
  },
  {
   "cell_type": "code",
   "execution_count": 100,
   "metadata": {},
   "outputs": [
    {
     "data": {
      "text/html": [
       "<strong id=\"alpha\">alpha:</strong> <a class=\"ProveItLink\" href=\"../__pv_it/common/9705ebf23debd1198c43ec3d0c30ebe152d069440/common_expr.ipynb\"><img src=\"data:image/png;base64,iVBORw0KGgoAAAANSUhEUgAAAA0AAAAJBAMAAAAbVLtZAAAAMFBMVEX///+YmJgyMjJmZmZERESI\n",
       "iIiqqqoQEBDu7u66uroiIiLc3NzMzMxUVFR2dnYAAAB9mGmPAAAAAXRSTlMAQObYZgAAAAlwSFlz\n",
       "AAAOxAAADsQBlSsOGwAAAEtJREFUCNdjYGB49/YAAxDsmsBRzZ3AwFDKwODM2sDA/IGBwYiPgYHd\n",
       "gYHh+QsGhv4ABob3QGl+IP0cqJzZgYHRngfIeCcYwfyUAQBdDw+cO9p22wAAAABJRU5ErkJggg==\n",
       "\" style=\"display:inline;vertical-align:middle;\" /></a><br>"
      ],
      "text/plain": [
       "alpha: alpha"
      ]
     },
     "execution_count": 100,
     "metadata": {},
     "output_type": "execute_result"
    }
   ],
   "source": [
    "alpha = Variable('alpha', r'\\alpha')"
   ]
  },
  {
   "cell_type": "code",
   "execution_count": 101,
   "metadata": {},
   "outputs": [
    {
     "data": {
      "text/html": [
       "<strong id=\"beta\">beta:</strong> <a class=\"ProveItLink\" href=\"../__pv_it/common/c713a5db2586f854a5051c95110df24af02bd7260/common_expr.ipynb\"><img src=\"data:image/png;base64,iVBORw0KGgoAAAANSUhEUgAAAAwAAAATBAMAAABW2/GaAAAAMFBMVEX///8QEBAyMjJERESqqqoi\n",
       "IiK6urpUVFSYmJjMzMzu7u5mZmaIiIh2dnbc3NwAAADJOHriAAAAAXRSTlMAQObYZgAAAAlwSFlz\n",
       "AAAOxAAADsQBlSsOGwAAAGpJREFUCNdjYICDt6d3AUnOAwztQGotA0MqkDrAwLAdTLFEMTCwzTNX\n",
       "WsDAwMvQkToBRDFwGDAwrAGKf2BgyGRg4BFgYLjAwMBcwMCgwMAw8QED1w4GtjAGBpZpZ+4wgNUz\n",
       "IKg1ECoTTAIA2d4UYP91VPsAAAAASUVORK5CYII=\n",
       "\" style=\"display:inline;vertical-align:middle;\" /></a><br>"
      ],
      "text/plain": [
       "beta: beta"
      ]
     },
     "execution_count": 101,
     "metadata": {},
     "output_type": "execute_result"
    }
   ],
   "source": [
    "beta = Variable('beta', r'\\beta')"
   ]
  },
  {
   "cell_type": "code",
   "execution_count": 102,
   "metadata": {},
   "outputs": [
    {
     "data": {
      "text/html": [
       "<strong id=\"gamma\">gamma:</strong> <a class=\"ProveItLink\" href=\"../__pv_it/common/d3b5a05ce48f7e4b8f946549743adda31d51d0e80/common_expr.ipynb\"><img src=\"data:image/png;base64,iVBORw0KGgoAAAANSUhEUgAAAAwAAAAOBAMAAADpk+DfAAAALVBMVEX////MzMzc3NyIiIhUVFR2\n",
       "dnZmZmYQEBCYmJi6urru7u5EREQiIiKqqqoAAAAdwYRcAAAAAXRSTlMAQObYZgAAAAlwSFlzAAAO\n",
       "xAAADsQBlSsOGwAAAENJREFUCNdjYLjzegHDLAaOshgHBgMGbQaGjYwCDFYMDIuZGUCAVRdCGUCo\n",
       "AAglAKbYwCQDC4SaCqEiIdQGCKXAwAAAYkIIssouoqsAAAAASUVORK5CYII=\n",
       "\" style=\"display:inline;vertical-align:middle;\" /></a><br>"
      ],
      "text/plain": [
       "gamma: gamma"
      ]
     },
     "execution_count": 102,
     "metadata": {},
     "output_type": "execute_result"
    }
   ],
   "source": [
    "gamma = Variable('gamma', r'\\gamma')"
   ]
  },
  {
   "cell_type": "code",
   "execution_count": 103,
   "metadata": {},
   "outputs": [
    {
     "data": {
      "text/html": [
       "<strong id=\"delta\">delta:</strong> <a class=\"ProveItLink\" href=\"../__pv_it/common/0743d8a4f4ff93fd50a3189c2a5134398a7bd9d60/common_expr.ipynb\"><img src=\"data:image/png;base64,iVBORw0KGgoAAAANSUhEUgAAAAoAAAAPBAMAAAAv0UM9AAAALVBMVEX////MzMyYmJiqqqqIiIju\n",
       "7u5UVFS6urp2dnZEREQQEBAyMjJmZmbc3NwAAADzrLf6AAAAAXRSTlMAQObYZgAAAAlwSFlzAAAO\n",
       "xAAADsQBlSsOGwAAAFNJREFUCNdjYGC4s2suAwNDA3sqkARhBgY3MBlnACI5nwIJ5uSXQFKbIS+A\n",
       "gfctg50AA9sEBjkBBj4FBjmgOgGgDAOfAMNmBgYOB+YEoMoWDwYGAG8TDLhfThRrAAAAAElFTkSu\n",
       "QmCC\n",
       "\" style=\"display:inline;vertical-align:middle;\" /></a><br>"
      ],
      "text/plain": [
       "delta: delta"
      ]
     },
     "execution_count": 103,
     "metadata": {},
     "output_type": "execute_result"
    }
   ],
   "source": [
    "delta = Variable('delta', r'\\delta')"
   ]
  },
  {
   "cell_type": "code",
   "execution_count": 104,
   "metadata": {},
   "outputs": [
    {
     "data": {
      "text/html": [
       "<strong id=\"theta\">theta:</strong> <a class=\"ProveItLink\" href=\"../__pv_it/common/b011a4fec64a1c824cf176959ebc716edbf098a10/common_expr.ipynb\"><img src=\"data:image/png;base64,iVBORw0KGgoAAAANSUhEUgAAAAoAAAAOBAMAAADkjZCYAAAAMFBMVEX///9mZmYQEBAyMjLc3NxU\n",
       "VFSqqqq6uroiIiLu7u6YmJhERETMzMx2dnaIiIgAAACOKrHUAAAAAXRSTlMAQObYZgAAAAlwSFlz\n",
       "AAAOxAAADsQBlSsOGwAAAFtJREFUCNdjYGDgu3uAgYFhF2cDAwPvBoY/DAznCxi+MTBEMHD+YuD8\n",
       "x8D+nYHvDwPfFwbmr6HxCgz8GxjmPwCh9RMY5hcwNDIw8BewaTIwsCbMABrDKSfCwAAABLYXRytX\n",
       "OOUAAAAASUVORK5CYII=\n",
       "\" style=\"display:inline;vertical-align:middle;\" /></a><br>"
      ],
      "text/plain": [
       "theta: theta"
      ]
     },
     "execution_count": 104,
     "metadata": {},
     "output_type": "execute_result"
    }
   ],
   "source": [
    "theta = Variable('theta', r'\\theta')"
   ]
  },
  {
   "cell_type": "code",
   "execution_count": 105,
   "metadata": {},
   "outputs": [
    {
     "data": {
      "text/html": [
       "<strong id=\"eps\">eps:</strong> <a class=\"ProveItLink\" href=\"../__pv_it/common/e5d4d625b3ac29c5d40d223bc332325a360907440/common_expr.ipynb\"><img src=\"data:image/png;base64,iVBORw0KGgoAAAANSUhEUgAAAAgAAAAJBAMAAAD9fXAdAAAAJ1BMVEX////u7u5ERER2dnaIiIiq\n",
       "qqrMzMwQEBCYmJhUVFRmZmbc3NwAAACyadhuAAAAAXRSTlMAQObYZgAAAAlwSFlzAAAOxAAADsQB\n",
       "lSsOGwAAADJJREFUCNdjYOBeOYOBoT2BgYHtKAMDA+fJmQ4M7BOALB4DIMG0AEiwFTIIMjBkeTgC\n",
       "AMAiB5pEPyU9AAAAAElFTkSuQmCC\n",
       "\" style=\"display:inline;vertical-align:middle;\" /></a><br>"
      ],
      "text/plain": [
       "eps: eps"
      ]
     },
     "execution_count": 105,
     "metadata": {},
     "output_type": "execute_result"
    }
   ],
   "source": [
    "eps = Variable('eps', r'\\epsilon')"
   ]
  },
  {
   "cell_type": "code",
   "execution_count": 106,
   "metadata": {},
   "outputs": [
    {
     "data": {
      "text/html": [
       "<strong id=\"vareps\">vareps:</strong> <a class=\"ProveItLink\" href=\"../__pv_it/common/fbe339d6612b84cf8401e9e899dea574faa30b7a0/common_expr.ipynb\"><img src=\"data:image/png;base64,iVBORw0KGgoAAAANSUhEUgAAAAkAAAAKBAMAAACUK2mNAAAALVBMVEX///8yMjLu7u6IiIhUVFSq\n",
       "qqrMzMxmZmaYmJjc3Nx2dnYQEBBERES6uroAAAB/W48pAAAAAXRSTlMAQObYZgAAAAlwSFlzAAAO\n",
       "xAAADsQBlSsOGwAAADZJREFUCNdjYOA9vecCA8OqCRwFDGwBDEDAmwAiGc4sAdK8phZApjJYoBNM\n",
       "TklgigCKSwM1AQBkHQrSP3IyxgAAAABJRU5ErkJggg==\n",
       "\" style=\"display:inline;vertical-align:middle;\" /></a><br>"
      ],
      "text/plain": [
       "vareps: vareps"
      ]
     },
     "execution_count": 106,
     "metadata": {},
     "output_type": "execute_result"
    }
   ],
   "source": [
    "vareps = Variable('vareps', r'\\varepsilon')"
   ]
  },
  {
   "cell_type": "code",
   "execution_count": 107,
   "metadata": {},
   "outputs": [
    {
     "data": {
      "text/html": [
       "<strong id=\"rho\">rho:</strong> <a class=\"ProveItLink\" href=\"../__pv_it/common/9528518515ad3a418953b148d1d0eb3372f91f130/common_expr.ipynb\"><img src=\"data:image/png;base64,iVBORw0KGgoAAAANSUhEUgAAAAsAAAAOBAMAAAALT/umAAAALVBMVEX///8yMjKIiIjMzMyYmJju\n",
       "7u4iIiKqqqoQEBDc3NxUVFR2dnZmZma6uroAAAAELgngAAAAAXRSTlMAQObYZgAAAAlwSFlzAAAO\n",
       "xAAADsQBlSsOGwAAAFZJREFUCNdjYGDgPb2SAQj2MNwAkuwJDHEXGBg4HBjsChgY7gUw6E1gYDjI\n",
       "wCAGlMthYH7MwMD6iiHMAajwpdJhoBiPAEgvA9sGMBVXAKaA2kAgFkwCAJS2EDuEtcCsAAAAAElF\n",
       "TkSuQmCC\n",
       "\" style=\"display:inline;vertical-align:middle;\" /></a><br>"
      ],
      "text/plain": [
       "rho: rho"
      ]
     },
     "execution_count": 107,
     "metadata": {},
     "output_type": "execute_result"
    }
   ],
   "source": [
    "rho = Variable('rho', r'\\rho')"
   ]
  },
  {
   "cell_type": "code",
   "execution_count": 108,
   "metadata": {},
   "outputs": [
    {
     "data": {
      "text/html": [
       "<strong id=\"Psi\">Psi:</strong> <a class=\"ProveItLink\" href=\"../__pv_it/common/3b8334337a92ebd373a1de57b1f56b05daa246770/common_expr.ipynb\"><img src=\"data:image/png;base64,iVBORw0KGgoAAAANSUhEUgAAAA4AAAAOBAMAAADtZjDiAAAAMFBMVEX///+6urqIiIhmZmbu7u4y\n",
       "MjKYmJjc3NwiIiLMzMx2dnYQEBBERERUVFSqqqoAAACt4DqlAAAAAXRSTlMAQObYZgAAAAlwSFlz\n",
       "AAAOxAAADsQBlSsOGwAAAF5JREFUCNdjYOC7s/vsAwYQ2A0iXk1g6GBgX8bAugFIc7QwcP0E0v4G\n",
       "DGz/gPR8BQa+b0BaPoGB5TOQ1p/AwHAaSLcCNboadHC1gEzQ/X0JbBxQHAJ+g0m+q/+B9gAAR/cb\n",
       "k2mKyhQAAAAASUVORK5CYII=\n",
       "\" style=\"display:inline;vertical-align:middle;\" /></a><br>"
      ],
      "text/plain": [
       "Psi: Psi"
      ]
     },
     "execution_count": 108,
     "metadata": {},
     "output_type": "execute_result"
    }
   ],
   "source": [
    "Psi = Variable('Psi', r'\\Psi')"
   ]
  },
  {
   "cell_type": "code",
   "execution_count": 109,
   "metadata": {},
   "outputs": [
    {
     "data": {
      "text/html": [
       "<strong id=\"Upsilon\">Upsilon:</strong> <a class=\"ProveItLink\" href=\"../__pv_it/common/07d75db563e32b14d1d7555c005166eb2dd107350/common_expr.ipynb\"><img src=\"data:image/png;base64,iVBORw0KGgoAAAANSUhEUgAAAA4AAAAOBAMAAADtZjDiAAAAMFBMVEX///+qqqrMzMzu7u66urrc\n",
       "3NwyMjJmZmZERERUVFSYmJgiIiJ2dnYQEBCIiIgAAABjcHCnAAAAAXRSTlMAQObYZgAAAAlwSFlz\n",
       "AAAOxAAADsQBlSsOGwAAAEVJREFUCNdj4Lt7gIFv7wGG9TO+M5zPvMfQyuDv+ovBjEGBgX1OAwMT\n",
       "AwMDy28BBjD4bwCh7zOg0vsJ0BB1jDP+Zy5gAAC92BWR6LXibwAAAABJRU5ErkJggg==\n",
       "\" style=\"display:inline;vertical-align:middle;\" /></a><br>"
      ],
      "text/plain": [
       "Upsilon: Upsilon"
      ]
     },
     "execution_count": 109,
     "metadata": {},
     "output_type": "execute_result"
    }
   ],
   "source": [
    "Upsilon = Variable('Upsilon', r'\\Upsilon')"
   ]
  },
  {
   "cell_type": "code",
   "execution_count": 110,
   "metadata": {},
   "outputs": [
    {
     "data": {
      "text/html": [
       "<strong id=\"Omega\">Omega:</strong> <a class=\"ProveItLink\" href=\"../__pv_it/common/53406c163510d898bbe57aa9c808cb4fce1aa1e40/common_expr.ipynb\"><img src=\"data:image/png;base64,iVBORw0KGgoAAAANSUhEUgAAAA8AAAAOBAMAAAACpFvcAAAAMFBMVEX////MzMx2dnaYmJgQEBAi\n",
       "IiLu7u5EREQyMjLc3Ny6urpUVFSIiIhmZmaqqqoAAADsO/sPAAAAAXRSTlMAQObYZgAAAAlwSFlz\n",
       "AAAOxAAADsQBlSsOGwAAAHJJREFUCNdjYGB4e+b0AgYgmFHGwNaRAGSEAIn8BgYGnr9ADvdnBgZ2\n",
       "IGbg+c3AwAFmfGdgYPoEZPD+YWDg/AFksH4DEvpAXfMPgHgGDAwngDQbI9CMSE6gYoZtDJwXmIBm\n",
       "2SkycOnZAkX+/2Ng/v+HAQDoDxsG7V8uywAAAABJRU5ErkJggg==\n",
       "\" style=\"display:inline;vertical-align:middle;\" /></a><br>"
      ],
      "text/plain": [
       "Omega: Omega"
      ]
     },
     "execution_count": 110,
     "metadata": {},
     "output_type": "execute_result"
    }
   ],
   "source": [
    "Omega = Variable('Omega', r'\\Omega')"
   ]
  },
  {
   "cell_type": "code",
   "execution_count": 111,
   "metadata": {},
   "outputs": [
    {
     "data": {
      "text/html": [
       "<strong id=\"a_prime\">a_prime:</strong> <a class=\"ProveItLink\" href=\"../__pv_it/common/09378e094f7d56f9487e24ea8d7d17534569e4930/common_expr.ipynb\"><img src=\"data:image/png;base64,iVBORw0KGgoAAAANSUhEUgAAABAAAAARBAMAAAAmgTH3AAAAMFBMVEX////MzMwyMjKqqqoiIiJm\n",
       "ZmaYmJju7u5EREQQEBC6urqIiIh2dnZUVFTc3NwAAAAqL9KcAAAAAXRSTlMAQObYZgAAAAlwSFlz\n",
       "AAAOxAAADsQBlSsOGwAAAGFJREFUCNdjYAADxnkQmoH1O5TBGQBlyD+AMs5CaQZHKM3XABMpAPHu\n",
       "7NsA5qx8wAE2hH0aA6sD2MwPDCwHwGY2MNQvADHqNzDkg9XWGzBcYgZZwLGB2ZUVrOv2wbcbgTQA\n",
       "DkgWa5Jpn8EAAAAASUVORK5CYII=\n",
       "\" style=\"display:inline;vertical-align:middle;\" /></a><br>"
      ],
      "text/plain": [
       "a_prime: a'"
      ]
     },
     "execution_count": 111,
     "metadata": {},
     "output_type": "execute_result"
    }
   ],
   "source": [
    "a_prime = Variable(\"a'\", fence_when_forced=True)"
   ]
  },
  {
   "cell_type": "code",
   "execution_count": 112,
   "metadata": {},
   "outputs": [
    {
     "data": {
      "text/html": [
       "<strong id=\"b_prime\">b_prime:</strong> <a class=\"ProveItLink\" href=\"../__pv_it/common/80ba634d9ed4f452337d92ea8ecc55109370e7240/common_expr.ipynb\"><img src=\"data:image/png;base64,iVBORw0KGgoAAAANSUhEUgAAAA4AAAARBAMAAAAf5oCsAAAAMFBMVEX///+YmJjMzMzc3NyIiIhU\n",
       "VFR2dna6urqqqqpmZmYyMjIiIiIQEBBERETu7u4AAAD7tRWPAAAAAXRSTlMAQObYZgAAAAlwSFlz\n",
       "AAAOxAAADsQBlSsOGwAAAG1JREFUCNdjYAABpsNgioHzH4TmmcDAd2cDA4O+AQMD1wQGhlSgGH8D\n",
       "A8MmIF3/gIH5ApDOBuIHQLzUJQKkhe/Xg/dA1Qwc/xh4HEBGLWDgTwDS3AkM9Q0Q7fNByvkV+A6C\n",
       "1LMK8E4A6wubCKIAAj0W7gyJPMEAAAAASUVORK5CYII=\n",
       "\" style=\"display:inline;vertical-align:middle;\" /></a><br>"
      ],
      "text/plain": [
       "b_prime: b'"
      ]
     },
     "execution_count": 112,
     "metadata": {},
     "output_type": "execute_result"
    }
   ],
   "source": [
    "b_prime = Variable(\"b'\", fence_when_forced=True)"
   ]
  },
  {
   "cell_type": "code",
   "execution_count": 113,
   "metadata": {},
   "outputs": [
    {
     "name": "stdout",
     "output_type": "stream",
     "text": [
      "These common expressions may now be imported from the theory package: proveit\n"
     ]
    }
   ],
   "source": [
    "%end common"
   ]
  },
  {
   "cell_type": "code",
   "execution_count": null,
   "metadata": {},
   "outputs": [],
   "source": []
  }
 ],
 "metadata": {
  "kernelspec": {
   "display_name": "Python 3",
   "language": "python",
   "name": "python3"
  },
  "language_info": {
   "codemirror_mode": {
    "name": "ipython",
    "version": 3
   },
   "file_extension": ".py",
   "mimetype": "text/x-python",
   "name": "python",
   "nbconvert_exporter": "python",
   "pygments_lexer": "ipython3",
   "version": "3.7.3"
  }
 },
 "nbformat": 4,
 "nbformat_minor": 1
}
