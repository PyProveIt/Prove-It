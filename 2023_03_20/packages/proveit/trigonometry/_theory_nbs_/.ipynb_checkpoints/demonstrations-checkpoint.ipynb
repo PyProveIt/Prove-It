{
 "cells": [
  {
   "cell_type": "markdown",
   "metadata": {},
   "source": [
    "Demonstrations for the theory of <a class=\"ProveItLink\" href=\"theory.ipynb\">proveit.trigonometry</a>\n",
    "========"
   ]
  },
  {
   "cell_type": "code",
   "execution_count": 1,
   "metadata": {},
   "outputs": [],
   "source": [
    "import proveit\n",
    "from proveit import a, b, c, r, theta\n",
    "from proveit.logic import InSet\n",
    "from proveit.numbers import zero, one, two, e, pi, i\n",
    "from proveit.numbers import Real, RealPos, RealNeg, RealNonNeg, RealNonPos\n",
    "from proveit.numbers import IntervalCC, IntervalOC, IntervalCO, IntervalOO\n",
    "from proveit.numbers import frac, Less, LessEq, Abs, Neg, Add, subtract, Mult, Div, Exp\n",
    "from proveit.trigonometry import Sin, Cos\n",
    "%begin demonstrations"
   ]
  },
  {
   "cell_type": "code",
   "execution_count": 2,
   "metadata": {},
   "outputs": [
    {
     "data": {
      "text/html": [
       "<span style=\"font-size:20px;\"><a class=\"ProveItLink\" href=\"../../numbers/number_sets/complex_numbers/__pv_it/theorems/5c9b98ec381ed1eef8437437430dde6add03b8720/expr.ipynb\"><img src=\"data:image/png;base64,iVBORw0KGgoAAAANSUhEUgAAADMAAAAQBAMAAABJt1qBAAAAMFBMVEX///9mZmYQEBAyMjLc3NxU\n",
       "VFSqqqq6uroiIiLu7u6YmJhERETMzMx2dnaIiIgAAACOKrHUAAAAAXRSTlMAQObYZgAAAAlwSFlz\n",
       "AAAOxAAADsQBlSsOGwAAAOVJREFUGNNjYMAAi7X3W2gvADP57h5AldvgylC6egKItYuzAU3Kl4Gb\n",
       "JwDI4N3A8AdDitHBAMg4X8DwDWLwjo5mhNQGICOCgfMXSIDdbgJCF+tMoIGc/xjYv4MEnCcgGXg6\n",
       "2QFozB8Gvi8gAROEXU4WP14CaeavofEKIAEDJGesmgyi+TcwzH8ApHk0Ojo6uqFS3LNAXgaKrwfZ\n",
       "wrkBSRePwE6QVAFDI1igAdlfMt4gAwvYNMEC75ClZvMBTWRNmAEJQuYEuJQjA9eC7UA75EQgApzR\n",
       "lfCQ38Kw2z4BKejYb0MDCgoAk+9ECnr2Yc4AAAAASUVORK5CYII=\n",
       "\" style=\"display:inline;vertical-align:middle;\" /></a> <a class=\"ProveItLink\" href=\"../__pv_it/demonstrations/193e78a5ab9ca0a3bc1429b31585abcaddc621df0/proof.ipynb\" style=\"text-decoration: none\">&nbsp;&#x22A2;&nbsp;&nbsp;</a><a class=\"ProveItLink\" href=\"../__pv_it/demonstrations/ea367f9e17668e3bda8efa15d2e228d2a30ba3790/expr.ipynb\"><img src=\"data:image/png;base64,iVBORw0KGgoAAAANSUhEUgAAASYAAAAnCAMAAACVMRX5AAAAOVBMVEX///8yMjK6urqIiIh2dnZE\n",
       "RETc3NyYmJiqqqoiIiJUVFTu7u5RUVEMDAwGBgbMzMwQEBBmZmYAAAAdtJ0lAAAAAXRSTlMAQObY\n",
       "ZgAAAAlwSFlzAAAOxAAADsQBlSsOGwAABBRJREFUaN7tmdmWoyAQhpF9mW6W93/YgWKRRE3AXPQ4\n",
       "LefM0Cb8QH1SiwZ59LPtp9cfbO6Xr39jujHdmK6ASdgTU/Qiycc05NKYHK1/UUro6BTrQIERMpRq\n",
       "bQ5Hc09Il+Gu7XQimoLZ7GRGFwBeHQ5hBi0RIqb/AyaXHCnwyck8Tqr4Hw9H3stE/CfjH4u5LqZF\n",
       "FM8IyQgnh6aoIoTgDAnTYeIqQKvAeUiCNC+VE5j4Rzbyye95/yF/gckCJiXmMPGlRbbidMYbLlAX\n",
       "5HxyZGAo/TgmIj+h9FZN8c41Llkm91tMhlZMjgxjSqI1mFll8kexI9xkTNApFgN8QOvgEUyS5tjv\n",
       "F/YiE3MnXqiHMBFKbbsmZTrovzcWW8eL04Vxp0siJHXZMEtq+CgGImTzuYHr5H0erm3G9D2QGJY8\n",
       "aTIg4MNhOPhj9RCmGDeNWq9L9IT+a99/ZkJ4ExXLedwub67NENbr2HSQMr7idF8DiQHm16ByL06f\n",
       "eaEewURrQCjXomBP/X5sQqm26c2bCOGcWWt93bMnCHdrxDvjZVthzOnyEAcHXE9n34EFMhYLJzV5\n",
       "UD1dzrTelYLHKf9gcSwvvXlXJT2LGAd7Uuu4ILVOhGnJcHnsiBUye42Ge6DD5HOCXEYxwQImiBVT\n",
       "NSz2sE3jlBROz21gR4TpuJqN3mzfT6rC5ntLBCFLTLNpL3ZxnhOiybOa5rsX9gIYYDGBQIDDKyaq\n",
       "W+8ayBy2x9ueyA+7RB3ZYfKqa3rHp5NjkH3eaS8LaJSWaRx/VFOKJbWCWHt0mgicU5KEFZNYWg/b\n",
       "DKIWyBNtV0QHUQs8HDpUl2/V9sRjiCCJHoMvWWdRU1uZKhNE7LHTLUHHFlyX+aRrvYN7lBs9Tsnd\n",
       "fbb1xu6KBjGZ8Qjr8GNxWiYIS/NDRnLpkTHBmHbqVnX8vH8iXyfIWAJrnlcx2dD6jEny1Kac7pTo\n",
       "TCJaDRX9WVI1yBiqcsR5jcnqkok3EwCWDEhADKmYaorGrjgdOWHgKdErTAexqTkdlNN88wBmwDx7\n",
       "gKmpU/0UjjOdgXIgo2tOp1oP2/S5QpgrSU6JTpwmViy24N7k+fRK+FqLA0xVbdI5OajhaX2xIbNJ\n",
       "LYSz1ueCQDmBiZo7HqdEJzCVtMyVT23zIiublqqwDGh5xFSTOknCg+gLWGKCNCXuVky1mIi9qwc+\n",
       "LNMGnxJNY7KqRGpom2oRU0JINMxq57SxMVdpK1moBV1R53dc+gUm40ktUiomtfZ/fvh918D6yn6y\n",
       "wIB690VKOr+o9Rf4ZUV89MvwgPoAU31oTv0VfoBiH6WJ9+p9TJy1dxzXwGTYJyu8V+9jqnjz8/wF\n",
       "MCH+UaJ4q35+hoFrUijl/v7V9xLbvDHdmG5MN6Yb043pxvQPNPvL1x9rfwEmKyehHJGqBgAAAABJ\n",
       "RU5ErkJggg==\n",
       "\" style=\"display:inline;vertical-align:middle;\" /></a></span>"
      ],
      "text/plain": [
       "{theta in Real} |- |e^{i * 0} - e^{i * (2 * pi * theta)}| = (2 * sin(pi * |theta|))"
      ]
     },
     "metadata": {},
     "output_type": "display_data"
    }
   ],
   "source": [
    "Abs(subtract(Exp(e, Mult(i, zero)), Exp(e, Mult(i, Mult(two, pi, theta))))).shallow_simplification(\n",
    "    assumptions=[InSet(r, RealPos), InSet(theta, Real)])"
   ]
  },
  {
   "cell_type": "code",
   "execution_count": 3,
   "metadata": {},
   "outputs": [
    {
     "data": {
      "text/html": [
       "<span style=\"font-size:20px;\"><a class=\"ProveItLink\" href=\"../../numbers/number_sets/complex_numbers/__pv_it/theorems/5c9b98ec381ed1eef8437437430dde6add03b8720/expr.ipynb\"><img src=\"data:image/png;base64,iVBORw0KGgoAAAANSUhEUgAAADMAAAAQBAMAAABJt1qBAAAAMFBMVEX///9mZmYQEBAyMjLc3NxU\n",
       "VFSqqqq6uroiIiLu7u6YmJhERETMzMx2dnaIiIgAAACOKrHUAAAAAXRSTlMAQObYZgAAAAlwSFlz\n",
       "AAAOxAAADsQBlSsOGwAAAOVJREFUGNNjYMAAi7X3W2gvADP57h5AldvgylC6egKItYuzAU3Kl4Gb\n",
       "JwDI4N3A8AdDitHBAMg4X8DwDWLwjo5mhNQGICOCgfMXSIDdbgJCF+tMoIGc/xjYv4MEnCcgGXg6\n",
       "2QFozB8Gvi8gAROEXU4WP14CaeavofEKIAEDJGesmgyi+TcwzH8ApHk0Ojo6uqFS3LNAXgaKrwfZ\n",
       "wrkBSRePwE6QVAFDI1igAdlfMt4gAwvYNMEC75ClZvMBTWRNmAEJQuYEuJQjA9eC7UA75EQgApzR\n",
       "lfCQ38Kw2z4BKejYb0MDCgoAk+9ECnr2Yc4AAAAASUVORK5CYII=\n",
       "\" style=\"display:inline;vertical-align:middle;\" /></a> <a class=\"ProveItLink\" href=\"../__pv_it/demonstrations/e4e87810b6fbfb491bc9dec8fd029bcc8e05ee7a0/proof.ipynb\" style=\"text-decoration: none\">&nbsp;&#x22A2;&nbsp;&nbsp;</a><a class=\"ProveItLink\" href=\"../__pv_it/demonstrations/7ba7852b6a8e5e652b5efd86aae6db4e8958209b0/expr.ipynb\"><img src=\"data:image/png;base64,iVBORw0KGgoAAAANSUhEUgAAAQgAAAAbCAMAAAC3HeFMAAAANlBMVEX///+6urpERESqqqqYmJjc\n",
       "3Nx2dnaIiIgyMjJUVFTu7u4iIiIMDAwGBgbMzMwQEBBmZmYAAADLI7SBAAAAAXRSTlMAQObYZgAA\n",
       "AAlwSFlzAAAOxAAADsQBlSsOGwAAA3JJREFUWMPdmIly4yAMQDGXOFqO///ZBXG5Da5x0mzTaqaj\n",
       "UCMjnnVgE/K9wh35pRIuWxgptTYHF73sP0UAuHOJnxB/F7pgz3lRQ5S5b4nfASJu6WnH0xSgPP2x\n",
       "vwyCmx0IYSOKqBcVb4kR82gdhHhoF+LidbH/pyD3Py5ZU8MEIzgZdWGACDQHj1tdAtgjHE6t5TYZ\n",
       "b6WEVd28dNasL4yTTdp/UiCMrEW0gsAflqaaGldZM1nKa1D0q5wTnh9bL4EAKV0fQ70bavTS6KDi\n",
       "OghB81znMaYocaUt4DiDwB85WUJYBGFUuW12MW7H87YYDq2XQKTCZewYq7rnrJuXsA5CJG9ETzBK\n",
       "Nj1JjRwMfjX7AlppnO6/mm6OrVdAyJavdcwr16yvgxDUORfa7ABk8xMQCXJgq/W4zPDogo5X6+ZC\n",
       "6pWNO4y2yEaEeNP1OgijvQ3obxYyNkx25aWD2KRkq46yEtsaK7COFw+nTK2CwAVM5ANEczfpZRDG\n",
       "W8a9fkaHDvtiZ+OkOAMHUESovL5TPggADZ+tZXlEcVJIcOMmAtaZbYCQuutlEIhTXCipExDB7kTf\n",
       "hhGGL0wOqUgoz0Qjq1meKD5aS7kx6Tg4dxARgLEG2a6B4Krr91UQkbfz4lV5P5tgd8cAO4m5DVM5\n",
       "A6J4lfrhULd2LLdyAu4wNVTUSaLfdRHmu36bgDBq9+Bce1JF5HUQb6chMzomnsOqF1GNdKFQenUB\n",
       "gZNa6Oys0/93r4O7G+DGI+350UC42PVqarjIRBbzhBoxtsL38WDDeOG1JfO/BuF0SaDbG+SNFwQc\n",
       "99lAtIaX9HKNmOTud9WInhp4RBQ37RPp85zhMxAjsfKBIh52DYPNs8DpqWG7XgYRSs8VT4gIWrfk\n",
       "MO/gxhGG1zWfg2jWaaemvBsf1Ih8iZVd9GJJu25eyrNzjLGeb2DhCSBqExM2ZLn91FG8p6IhUB9A\n",
       "tBZIIFvOixhuPPUaU0teA9Fab9LFS619VPqkIwQbFZAngHC2lkSU2/PRJgEg+e6099q4VPi1YzTW\n",
       "Q41r5PDrhz4GYQIE8fHdww79H76anC9hH/rSuWA9fQ3PMUi6fgkQ/KHPmgvWByDa61rWLwEC8/9+\n",
       "ObeegxC0v0G/CghDH1ng3HoOogFE/RogiIBHVji1/nzwxjFUDkW/CIifF/cnlnhc/gG5DCEcthRm\n",
       "1AAAAABJRU5ErkJggg==\n",
       "\" style=\"display:inline;vertical-align:middle;\" /></a></span>"
      ],
      "text/plain": [
       "{theta in Real} |- |1 - e^{2 * pi * i * theta}| = (2 * sin(pi * |theta|))"
      ]
     },
     "metadata": {},
     "output_type": "display_data"
    }
   ],
   "source": [
    "Abs(subtract(one, Exp(e, Mult(two, pi, i, theta)))).chord_length_simplification(\n",
    "    assumptions=[InSet(r, RealPos), InSet(theta, Real)])"
   ]
  },
  {
   "cell_type": "code",
   "execution_count": 4,
   "metadata": {},
   "outputs": [
    {
     "data": {
      "text/html": [
       "<span style=\"font-size:20px;\"><a class=\"ProveItLink\" href=\"../../numbers/number_sets/complex_numbers/__pv_it/theorems/5c9b98ec381ed1eef8437437430dde6add03b8720/expr.ipynb\"><img src=\"data:image/png;base64,iVBORw0KGgoAAAANSUhEUgAAADMAAAAQBAMAAABJt1qBAAAAMFBMVEX///9mZmYQEBAyMjLc3NxU\n",
       "VFSqqqq6uroiIiLu7u6YmJhERETMzMx2dnaIiIgAAACOKrHUAAAAAXRSTlMAQObYZgAAAAlwSFlz\n",
       "AAAOxAAADsQBlSsOGwAAAOVJREFUGNNjYMAAi7X3W2gvADP57h5AldvgylC6egKItYuzAU3Kl4Gb\n",
       "JwDI4N3A8AdDitHBAMg4X8DwDWLwjo5mhNQGICOCgfMXSIDdbgJCF+tMoIGc/xjYv4MEnCcgGXg6\n",
       "2QFozB8Gvi8gAROEXU4WP14CaeavofEKIAEDJGesmgyi+TcwzH8ApHk0Ojo6uqFS3LNAXgaKrwfZ\n",
       "wrkBSRePwE6QVAFDI1igAdlfMt4gAwvYNMEC75ClZvMBTWRNmAEJQuYEuJQjA9eC7UA75EQgApzR\n",
       "lfCQ38Kw2z4BKejYb0MDCgoAk+9ECnr2Yc4AAAAASUVORK5CYII=\n",
       "\" style=\"display:inline;vertical-align:middle;\" /></a> <a class=\"ProveItLink\" href=\"../__pv_it/demonstrations/c7175f04b4f3003893b3bc1ab6a5607dc549fa750/proof.ipynb\" style=\"text-decoration: none\">&nbsp;&#x22A2;&nbsp;&nbsp;</a><a class=\"ProveItLink\" href=\"../__pv_it/demonstrations/167bb352612cd4d5e585d5f45c5167876d5b39b80/expr.ipynb\"><img src=\"data:image/png;base64,iVBORw0KGgoAAAANSUhEUgAAAVYAAAAyCAMAAAAwYwNJAAAAM1BMVEX///+6urpERESqqqqYmJjc\n",
       "3Nx2dnaIiIgyMjJUVFTu7u4iIiJRUVHMzMwQEBBmZmYAAADSeWK7AAAAAXRSTlMAQObYZgAAAAlw\n",
       "SFlzAAAOxAAADsQBlSsOGwAABTlJREFUeNrVnOu2oyAMhZH75QB5/6cdAa1oUdHSkfJjVk+LBj5D\n",
       "SHbpINRXw/aDi9nXOp/cIr3QWKM+m6KfXM2H+r6CfD7aQawNW9MnV8VRA6ycC3/miyRZYt7LGwtE\n",
       "cB4vEnT9PInpkSqVqAFWOfqhNsdcdbLEcLgKhot2MB0NxFdSr5cJV/1RZY41wErjhDk+7OmTm6lo\n",
       "0LmLZsK9Ibor9ZvoY2h3WI1ADbDi6DAEDsPcBNLFXgouPU4bvRtSbHZ6jZW43sIrdagFVvBp7kdb\n",
       "EpmijYqereBSdI0XaUhuKelmr5S+M6yOt8CqZ6xHq9GvTBko3MpBam+UNIRFNUwBOQXTDOsArCuq\n",
       "AnQLrAx4wnoUUSRdLer3rpwPhFsqrC2M08Z/WbbL5pmd7GvXMp8PZ4X1yPcNOTZsx88FQ6IUHCSo\n",
       "sYGbY+kWK4H20ZXeLpIsWNQmCPC0FsWcSpmlzSZchsHjbH1nGd74ttKFjwC/IkEc9hZr+uh6hNWc\n",
       "K6VP4yPzIpmus6AcaoJ12rLI4ZaVYaW5r5plrHZ83xQ+StTo7JLDm7cibJZU40IL9/en5UQokFOy\n",
       "XGfBqUZYcfQ+ergUlyAQqy3GypktlOYV96oX/1RXrbDSEHavY4UYwc6W7FiJIEyqsR7v3JfKgWjP\n",
       "HxZseN6kbFxdQhfo6TTT4vSX7JTiN6wx97qOleoMKzMpD2GbLZbBVEZWWhAt8pI0u+CK2h0+9rnG\n",
       "ZMaHVlh6IrxX3PYUGStXu07V1hpPWHj3QhqfRqK9ZhTx98zFLwVelQXcILROs9OeC3W8mKyZM9bY\n",
       "Cp4dF1pR+dE+F3LM8I41BFf3snQhL4id9WhUh0RE87STTVjjC4PHjQ1QNVaX1fCnshJz9EjBqsnm\n",
       "LGrSmCkY5jBNWisvL6RbLOq1NikjGNlU14Q/A9b4Iqxp76ux6qyaOZeVBvAfYqWNSsxJslkbpuPY\n",
       "3fUih/ls8xwhDOo9CARHnQSpGqx5pVMhK2n0IVaEm5SYDJcMh8lcx8qwtdbPvb2Ycrc11jG38gRV\n",
       "Y83TzFuy0lWsGrfAOj+cteGw9OqxauViupZECLTwQ0tYfmEdOCeoHivNErZbslKaw4VLmPicqmBl\n",
       "w6DqsWpnCL2TtNdgfc+vSrKSFVQIiZgMw7DSeSaEEqi7Nta31VijE7EbOkKG1Wf1+Urh4Nv7lmSl\n",
       "tHDNSyUyYwo5dmTdYXWyHmsqgzD9irf6rfWSnjXE2ibgTt8ApFwXOvyaw6C/AtaS6mMnWfe61vxX\n",
       "I7RslnxZVjKAUzibsMZOL7eGZ1uO1VV7qwXCQtNf8dYN1h1ZSXOT5Poi1o681V0IAneHXxNb10Fg\n",
       "R1aKjzTmDL1jNfVYfVJt2Fe8lecbz56sRCLAcPClc6zZlsXPdlRtHB3EjS+d6xIsm9XZO7JSkuNC\n",
       "Cp6Aym6xznmrUg7k2QEob0AK9BWseTmwKysNXAgxFjRWOae0VeCUJRhcdydJsirri8+uqngdHgVx\n",
       "8yzWnm7EO8Fqn80+b57FOtCN+sCK4NHDIPfOYh3pRp1gNfJJrPdFsz2BoxOsyj3qrbdFs73aphOs\n",
       "FJ4/aVcSzW5NGHeD9fiE339ptlEGzMJ97PeHW5tCP+2sjUZAe5IqvXt6ALjRjVRPPyAYHi4IaLPV\n",
       "0lc1bR7NXHfPYt2IAV0dc390OLtnsZ4L0c0yBv6Y6f2zWDeCWWffrT3orvtnsS433J2eJjn6+TZA\n",
       "d7/PtI79PFZD+huTwL9OtccfZ378U+LnQ4Dsc1yS/DJVK3v9DwWw/V2qeqH6DyjlN7+iuSgqAAAA\n",
       "AElFTkSuQmCC\n",
       "\" style=\"display:inline;vertical-align:middle;\" /></a></span>"
      ],
      "text/plain": [
       "{theta in Real} |- |1 - e^{2 * pi * i * theta}| = (2 * sin(|0 - (2 * pi * theta)| / 2))"
      ]
     },
     "metadata": {},
     "output_type": "display_data"
    }
   ],
   "source": [
    "Abs(subtract(one, Exp(e, Mult(two, pi, i, theta)))).chord_length_simplification(\n",
    "    assumptions=[InSet(r, RealPos), InSet(theta, Real)], auto_simplify=False)"
   ]
  },
  {
   "cell_type": "markdown",
   "metadata": {},
   "source": [
    "### Deducing bounds (including triangle inequality)"
   ]
  },
  {
   "cell_type": "code",
   "execution_count": 5,
   "metadata": {},
   "outputs": [
    {
     "data": {
      "text/html": [
       "<span style=\"font-size:20px;\"><a class=\"ProveItLink\" href=\"../../numbers/number_sets/complex_numbers/__pv_it/theorems/5c9b98ec381ed1eef8437437430dde6add03b8720/expr.ipynb\"><img src=\"data:image/png;base64,iVBORw0KGgoAAAANSUhEUgAAADMAAAAQBAMAAABJt1qBAAAAMFBMVEX///9mZmYQEBAyMjLc3NxU\n",
       "VFSqqqq6uroiIiLu7u6YmJhERETMzMx2dnaIiIgAAACOKrHUAAAAAXRSTlMAQObYZgAAAAlwSFlz\n",
       "AAAOxAAADsQBlSsOGwAAAOVJREFUGNNjYMAAi7X3W2gvADP57h5AldvgylC6egKItYuzAU3Kl4Gb\n",
       "JwDI4N3A8AdDitHBAMg4X8DwDWLwjo5mhNQGICOCgfMXSIDdbgJCF+tMoIGc/xjYv4MEnCcgGXg6\n",
       "2QFozB8Gvi8gAROEXU4WP14CaeavofEKIAEDJGesmgyi+TcwzH8ApHk0Ojo6uqFS3LNAXgaKrwfZ\n",
       "wrkBSRePwE6QVAFDI1igAdlfMt4gAwvYNMEC75ClZvMBTWRNmAEJQuYEuJQjA9eC7UA75EQgApzR\n",
       "lfCQ38Kw2z4BKejYb0MDCgoAk+9ECnr2Yc4AAAAASUVORK5CYII=\n",
       "\" style=\"display:inline;vertical-align:middle;\" /></a> <a class=\"ProveItLink\" href=\"../__pv_it/demonstrations/f743828e43fd2be0aaa59e1ff8e74e82fd1faa3c0/proof.ipynb\" style=\"text-decoration: none\">&nbsp;&#x22A2;&nbsp;&nbsp;</a><a class=\"ProveItLink\" href=\"../__pv_it/theorems/ecab059ba847e91c9f34f5bc390778ec42914bcb0/expr.ipynb\"><img src=\"data:image/png;base64,iVBORw0KGgoAAAANSUhEUgAAAHgAAAAVBAMAAAB/IDdlAAAAMFBMVEX///9UVFSqqqpmZmZ2dnbc\n",
       "3NwQEBC6uroiIiJERETu7u4yMjKYmJiIiIjMzMwAAAAFQiFKAAAAAXRSTlMAQObYZgAAAAlwSFlz\n",
       "AAAOxAAADsQBlSsOGwAAAVpJREFUOMtjYCAEbvSRKoEE3AnIsOYgCV3xw635xQJkFkSG/TNCnvPA\n",
       "ClyauYT3L0BmQWUWINR6MvA/wGnz/QXILAwP8X1n4FcAs252dGwgUTNjA8P6AyBG9S0ibOa7c3dD\n",
       "dCLD6+TYixeAgusvMNQXgMJwFzHOXsnA0MCwkYGhUYHvK0jwAcP9ACDNHUCM5rIFDBcYJjIwTGNg\n",
       "+AMU3C8o+A0kyU1UgHH8vMoA0jyTgeEvUPAnAxeIYnjWAQQTIJq5doA4HQ8wNXN5/DdAaAbq5PkF\n",
       "klxJlM1RDDz/kDR/Z+AwAElyEKVZl4FBBsnZ3xnUwAp4L+DSvABJM1DtVJDOnRDNQlzQvLIJm2b/\n",
       "AAau3zAWUKbk7pWCh2lSD7/JaX4TYGBYfBkaRwunL8DQLJi/8QBDxwIYC3d+YyiZgZk8QYBpAeHM\n",
       "ijM/szBQoHktJZovkKLZA2cZlg4A4sKQyTl7y5AAAAAASUVORK5CYII=\n",
       "\" style=\"display:inline;vertical-align:middle;\" /></a></span>"
      ],
      "text/plain": [
       "{theta in Real} |- sin(theta) in [-1,1]"
      ]
     },
     "metadata": {},
     "output_type": "display_data"
    }
   ],
   "source": [
    "Sin(theta).deduce_in_interval(assumptions=[InSet(theta, Real)])"
   ]
  },
  {
   "cell_type": "code",
   "execution_count": 6,
   "metadata": {},
   "outputs": [
    {
     "data": {
      "text/html": [
       "<span style=\"font-size:20px;\"><a class=\"ProveItLink\" href=\"../__pv_it/theorems/05c379420f103398b04164edc1436084b56e6e240/expr.ipynb\"><img src=\"data:image/png;base64,iVBORw0KGgoAAAANSUhEUgAAAE4AAAAVBAMAAAAazcUaAAAAMFBMVEX///9mZmYQEBAyMjLc3NxU\n",
       "VFSqqqq6uroiIiLu7u6YmJhERETMzMx2dnaIiIgAAACOKrHUAAAAAXRSTlMAQObYZgAAAAlwSFlz\n",
       "AAAOxAAADsQBlSsOGwAAAUVJREFUKM9jYMAEL3oIi4DAdexCfHcPYAjefeiAoW4XZwO6OuYEzhZ0\n",
       "dbwbGP6gq1vBwHAbXd35AoZvYDbfjo5mqOBWBob8CWjqIhg4f4GY7HYT4IIfgdoTUNVx/mNg/w5i\n",
       "OsMNuM4JUrcAzObV////vwBQHd8fBr4vIBEThGaWv0B1D8Dsu2V31p0Be+1raLwCSMQATd0FEJMn\n",
       "gc/hDdhe/g0M80FaeTQ6Ojq6ofYC1dVDzGPgZogEqwMqWg9yGecGJEcD3ZcP9cdRhgaIugKGRrBA\n",
       "A5K63QwQzUAgxfABYm8BmyZY4B2SukUMDMIMnCA250+G72Ah1oQZkOhlTkCo40jg1GGYD/IZXwPD\n",
       "X0j4yYlAZDmjKxGBKvv0AANHJ8gbCQyxaEmI/TY83iAgE29SQwheIE4d5wPi1PExEFB3AzN/qAMA\n",
       "eYV0fj+ige4AAAAASUVORK5CYII=\n",
       "\" style=\"display:inline;vertical-align:middle;\" /></a> <a class=\"ProveItLink\" href=\"../__pv_it/demonstrations/b999edd618f75a1db0994d23dccd7d6907481d7e0/proof.ipynb\" style=\"text-decoration: none\">&nbsp;&#x22A2;&nbsp;&nbsp;</a><a class=\"ProveItLink\" href=\"../__pv_it/theorems/e6052ca709dc768f5c0788c0f9468d7c9a61c5260/expr.ipynb\"><img src=\"data:image/png;base64,iVBORw0KGgoAAAANSUhEUgAAAGgAAAAVBAMAAABYjraNAAAAMFBMVEX///9UVFSqqqpmZmZ2dnbc\n",
       "3NwQEBC6uroiIiJERETu7u4yMjKYmJiIiIjMzMwAAAAFQiFKAAAAAXRSTlMAQObYZgAAAAlwSFlz\n",
       "AAAOxAAADsQBlSsOGwAAAZdJREFUOMtjYCAEbvQREsAC3HGIsOYgCV3xw1DC4msK471YANPE/hmh\n",
       "hvPACgxNmxhWBIDZXML74ZoYFiDUeDLwP0DTxNPAwDIByru/AIuD+b4z8CuAWTc7OjZANHEKMDD9\n",
       "wqeJsYFh/QEQo/oW3CZ+Awa+Tyia+O7c3RCdyPA6OfbiBaDg+gsM9QWgsNmFcN56oKY/KJpWMjA0\n",
       "MGxkYGhU4PsKEnzAcB/kae4AhKZ4Bwa+vyiayhYwXGCYyMAwjYEBZNp+QcFvIEluBlRNX1A0cfy8\n",
       "ygDSNJOBAWTaTwYusKHPOoBgAtR5DgzsqDZxefw3QGgC6uABB9RKJJuAAcGEGhBRDDz/kDR9Z+Aw\n",
       "AElyIGninAA1Ca5Jl4FBBsl53xnUwDHNewEpchMYmDdAEwBEE1DNVJCOnRBNQlzQNLwJKRk1MSx7\n",
       "wPUbzPMPAImU3L1S8DBN6uE3Oc1vAgwMiy9Dw3rh9AVwTYt95RgYOkB8wfyNB7CkezgomQFLRhDA\n",
       "tAB3ZsGZn1gYyNC0lhxNF0jR5IFRRqQDAIIyi8fB8X6aAAAAAElFTkSuQmCC\n",
       "\" style=\"display:inline;vertical-align:middle;\" /></a></span>"
      ],
      "text/plain": [
       "{theta in [0,pi]} |- sin(theta) in [0,1]"
      ]
     },
     "metadata": {},
     "output_type": "display_data"
    }
   ],
   "source": [
    "Sin(theta).deduce_in_interval(assumptions=[InSet(theta, IntervalCC(zero, pi))])"
   ]
  },
  {
   "cell_type": "code",
   "execution_count": 7,
   "metadata": {},
   "outputs": [
    {
     "data": {
      "text/html": [
       "<span style=\"font-size:20px;\"><a class=\"ProveItLink\" href=\"../__pv_it/theorems/a64190efa401c3d3f39b88812e45a37fd2c386870/expr.ipynb\"><img src=\"data:image/png;base64,iVBORw0KGgoAAAANSUhEUgAAAFIAAAAVBAMAAAAnX6R8AAAAMFBMVEX///9mZmYQEBAyMjLc3NxU\n",
       "VFSqqqq6uroiIiLu7u6YmJhERETMzMx2dnaIiIgAAACOKrHUAAAAAXRSTlMAQObYZgAAAAlwSFlz\n",
       "AAAOxAAADsQBlSsOGwAAAZxJREFUKM+Nkz9Iw0AUxr+a2vZsmwo6CZWOFgQ7ODlIwVEQF0ERMTjp\n",
       "1OAgOBlRMKJDwcWtVRdB0A4KoksXN6FZnGqhDjqIiIJ/UFpr3iVnE5rBG+7e++W79+7evQAew/8P\n",
       "Yo2HFhKs0ixXim4cMIDKXdrFHmm6YJpbuQNIClt3MSkLRAuouZU9wCFQdrGOTqCk4oM78rm+xo0E\n",
       "cAZksi5pEpgE++aHHrY/BVLAqxlBcSmHwH4Q/CRzRMTwGWCkzHMvOtBoNMzUN5BrkN8IDf4dPg9/\n",
       "3VTywqCydHt8ba4HkN4nZhOEUkIZUiylQU5EkdNPZMwhVkCOdkf6dF3fItamgpnKFSsmwpiipUSy\n",
       "EzohK4iYppJulLFvdAVe7kXkVKxyojmy4xLWfl7dF1rmEVMDSU6ehTJspt0HusDIY1/gpTlCu7Jr\n",
       "Pbsk6hcdp7isHzm6pKyhTjQO1tttCdj0smVEzHOw+H0RoU3KoGCG6Iazs8r2a24LsuBoUM2rPfeE\n",
       "YTSZL++lDNutyapNNurZ8qK0soOdev8dYy1ETuMXInBjoP5+3K4AAAAASUVORK5CYII=\n",
       "\" style=\"display:inline;vertical-align:middle;\" /></a> <a class=\"ProveItLink\" href=\"../__pv_it/demonstrations/f59100785365a8d9203499800a6ce0bb4083adbc0/proof.ipynb\" style=\"text-decoration: none\">&nbsp;&#x22A2;&nbsp;&nbsp;</a><a class=\"ProveItLink\" href=\"../__pv_it/theorems/b8e5697620e867cf0441fa64e0a74fb7924fbd9b0/expr.ipynb\"><img src=\"data:image/png;base64,iVBORw0KGgoAAAANSUhEUgAAAGsAAAAVBAMAAACzuQ2OAAAAMFBMVEX///9UVFSqqqpmZmZ2dnbc\n",
       "3NwQEBC6uroiIiJERETu7u4yMjKYmJiIiIjMzMwAAAAFQiFKAAAAAXRSTlMAQObYZgAAAAlwSFlz\n",
       "AAAOxAAADsQBlSsOGwAAAcBJREFUOMuVlDtIA0EQhn/fl42Jj0JQglwlKEgs7LRIYWEasTYEFEEs\n",
       "RK4QCxtjoZwRghaKdhEbxSKxsLAQA4LYedHYGUxqCws1wfjc3bvNPRA1U+3OzLfz7+zcAX9bnWPv\n",
       "UXP/oHDtdNQq+nEzFl9mxJFUHQCGbkaNnTdaxhqezCRXat+BHQJumSzrm92BUhlD3EwKosmhfBC4\n",
       "ZH7jYhbMNG8RTbIe31bX+GIc2AD88d+wqggSKS781MirTgL0Eo+yDfPeZZOhCTxMhtMa9SY0LPKz\n",
       "QkJ4TQCEYSkbdgBEcAQsyd4X6r3P4Z437VjUd6dQ90wxzYbNx6Ex7VvAO/WetbQUeDgpMEnWsYAN\n",
       "k15v+ZV3gA/qfQX54K2ZVlV1la3qFRCKLdqrkeGvPhOjTGOJRcm6qEYx1hK/vSVjaPy0YEVIfTwc\n",
       "sYhkwSv7A/QCPovIIrr0eLY8NlTdBTAAYsVo1iZjTnSslcSMBspibptZRTKLBO9S7QvH5rIZJT/V\n",
       "kS90dhdowp6YWdK+YMwNlUv60zlIUTYObW++H6bEtIagMVwx4elxfDi/27lYBCrCXEK2VhEmntCD\n",
       "ijCEnf+SFeUbFeuKOswPYCYAAAAASUVORK5CYII=\n",
       "\" style=\"display:inline;vertical-align:middle;\" /></a></span>"
      ],
      "text/plain": [
       "{theta in (0,pi)} |- sin(theta) in (0,1]"
      ]
     },
     "metadata": {},
     "output_type": "display_data"
    }
   ],
   "source": [
    "Sin(theta).deduce_in_interval(assumptions=[InSet(theta, IntervalOO(zero, pi))])"
   ]
  },
  {
   "cell_type": "code",
   "execution_count": 8,
   "metadata": {},
   "outputs": [
    {
     "data": {
      "text/html": [
       "<span style=\"font-size:20px;\"><a class=\"ProveItLink\" href=\"../__pv_it/theorems/16b606d8365dae683e59ca7a9207aaf7c94fc4820/expr.ipynb\"><img src=\"data:image/png;base64,iVBORw0KGgoAAAANSUhEUgAAAF0AAAAVBAMAAADWVP/xAAAAMFBMVEX///9mZmYQEBAyMjLc3NxU\n",
       "VFSqqqq6uroiIiLu7u6YmJhERETMzMx2dnaIiIgAAACOKrHUAAAAAXRSTlMAQObYZgAAAAlwSFlz\n",
       "AAAOxAAADsQBlSsOGwAAAVpJREFUKM9jYMAEL3oYsAO+jgPYhK8z4AK8BSBddw8Qo/7uQweI+l2c\n",
       "DUSoZ07gbAGr593A8IcI9SsYGG6D1Z8vYPgG8c2Ojmbc6rcyMORPAKmPYOD8BRJgt5uAz/yPQJMT\n",
       "gOo5/zGwfwcJOE/AdA+v/v///wVALE6Q+gVA9Xx/GPi+gERMsLj/btmddWfALJa/QPUPgOqZv4bG\n",
       "K4BEDDDV8yTwObxhQKi/AFTPv4Fh/gOQnEZHR0c3VP3kDhAARjM3QyREPSdQfT3IfKDi9SCXc27A\n",
       "Fp5HGRoQ/s0H+Xd+AUMjWKABm3ophg9Q1m4GoLkg9xSwaYIF3mFRz/mTARR2IPsXMTAIg+KLNWHG\n",
       "AWiEY6rna2AAupvzM5DJkcCpA1LPKScCNSu6EkM9dwJDLJDqAFrAKfv0ACS9wQD7bVzpgW0Ccnom\n",
       "nP55GUhTP49E9Q/wq7+BM/82FQAAtmtyliC0B5AAAAAASUVORK5CYII=\n",
       "\" style=\"display:inline;vertical-align:middle;\" /></a> <a class=\"ProveItLink\" href=\"../__pv_it/demonstrations/a9515a6a1fa56d54a66406d5dcc5e051f4f915290/proof.ipynb\" style=\"text-decoration: none\">&nbsp;&#x22A2;&nbsp;&nbsp;</a><a class=\"ProveItLink\" href=\"../__pv_it/theorems/6693685c18a55e6e0818e77cd2ba01c6a2461ff90/expr.ipynb\"><img src=\"data:image/png;base64,iVBORw0KGgoAAAANSUhEUgAAAHgAAAAVBAMAAAB/IDdlAAAAMFBMVEX///9UVFSqqqpmZmZ2dnbc\n",
       "3NwQEBC6uroiIiJERETu7u4yMjKYmJiIiIjMzMwAAAAFQiFKAAAAAXRSTlMAQObYZgAAAAlwSFlz\n",
       "AAAOxAAADsQBlSsOGwAAAZtJREFUOMullL9LAmEYx7+ZkZ52am0R4hQ0BC7tbtpgORdREdQS5CAt\n",
       "DVnTTWJDv7YLIXQItala9E+4yKAi8VwiaOuHomn1Pv7Ag+tOxGd533s+z4fnvffe94Bu8RDpFSjC\n",
       "24UMbSpSuTlt+VVsTYz+mTYZ/uhwczauJXNjmbZ8iXigTcRO7SxssmbnQqvQGoYxqn4hvgybqzF7\n",
       "FISUlmy2w1BVywNhJLM02XnS6Wxzg39nhH/OpxZX8ba2dCuxdFLCbpD28EZv2Ukm1xhJAGGkgT0X\n",
       "/0VYRiHARktAT172gK8zsi1CwgFwBNRYOuNwlAhb0E3+ZMRUuQfJp0CdpSvgaMCLwCLalLkrehBk\n",
       "xbI9GKbOnO/X3ZGZaa0STuh2ZhtmoA1bgPVHIZdhchM26crmKPXwYhqYUCy7jMlGwYikJRO2rmAw\n",
       "xQirPSTzuimPcpH2AfxHng+A+6bJPs5lRkL5XLC4Pl4sOadKdiB21/pGZ8eiSnZspbMQKB/zO/Xu\n",
       "G0In6uNJYRC7X1bN+2xEH/JFP7LUi+zT/Idt/AGpZpARK0/i8QAAAABJRU5ErkJggg==\n",
       "\" style=\"display:inline;vertical-align:middle;\" /></a></span>"
      ],
      "text/plain": [
       "{theta in [-pi,0]} |- sin(theta) in [-1,0]"
      ]
     },
     "metadata": {},
     "output_type": "display_data"
    }
   ],
   "source": [
    "Sin(theta).deduce_in_interval(assumptions=[InSet(theta, IntervalCC(Neg(pi), zero))])"
   ]
  },
  {
   "cell_type": "code",
   "execution_count": 9,
   "metadata": {},
   "outputs": [
    {
     "data": {
      "text/html": [
       "<span style=\"font-size:20px;\"><a class=\"ProveItLink\" href=\"../__pv_it/theorems/6754c4ee1fd46e0f8fec11b57e0cbef9713b37700/expr.ipynb\"><img src=\"data:image/png;base64,iVBORw0KGgoAAAANSUhEUgAAAGEAAAAVBAMAAACkm51HAAAAMFBMVEX///9mZmYQEBAyMjLc3NxU\n",
       "VFSqqqq6uroiIiLu7u6YmJhERETMzMx2dnaIiIgAAACOKrHUAAAAAXRSTlMAQObYZgAAAAlwSFlz\n",
       "AAAOxAAADsQBlSsOGwAAAaNJREFUOMuFk79Lw0AUx7+2mvSaNhV0EpSOCoIdXFyk4OIkXQRFxPwH\n",
       "zSS4aESHgB0KLk42dXLSLILo0sVNsHstRFAnkYq/UKr1Lr+akgu+IXl87z7v3nv3DuBYP6IsH6E/\n",
       "RhKb9ldu1nploc7d3bzLQzaYd0G03qV9LhBXyC4wQ720iXbv2giXOAYaQJV6Nyo+nOzO9R3byXKJ\n",
       "M6BYRqwMLIF8M0WcLbtl5LjECw2uIG6A/EL8ZMqcC6AvUHh6qtPpDDKPMMJAugC5DfmNSdN+iUag\n",
       "P+u3J9fOHf1QwkIyh/j74pqduJ9LQvGBlCLnn9Al6hCyyJioWGxxXNf1PbYWU2mDdWYlQMKyQxBK\n",
       "bFlItdj2U1YBMb3AjPDtClq38qICMYuKim1b0ThZsbtpud4lWGhBQ0YVJmzl2dskWV2AfIE1kiVx\n",
       "BAwBSRMDykHNnQKvo4UuIWug+ZNX+2gyabeejA274VY23AYFxkxSsEp/Oj2EjD7Q0IlgkWLDnZJS\n",
       "6L4F73Yxz52HakhJ/zOlUuilHfqv0+QSJCRb0cEcW4h8tffAHyenaJOd8didAAAAAElFTkSuQmCC\n",
       "\" style=\"display:inline;vertical-align:middle;\" /></a> <a class=\"ProveItLink\" href=\"../__pv_it/demonstrations/bbe8488cbec98099a614363b4bdcc0849841eb3e0/proof.ipynb\" style=\"text-decoration: none\">&nbsp;&#x22A2;&nbsp;&nbsp;</a><a class=\"ProveItLink\" href=\"../__pv_it/theorems/0c39817fd10126185d63ae1b80a7594710d83efb0/expr.ipynb\"><img src=\"data:image/png;base64,iVBORw0KGgoAAAANSUhEUgAAAHsAAAAVBAMAAACUF4xmAAAAMFBMVEX///9UVFSqqqpmZmZ2dnbc\n",
       "3NwQEBC6uroiIiJERETu7u4yMjKYmJiIiIjMzMwAAAAFQiFKAAAAAXRSTlMAQObYZgAAAAlwSFlz\n",
       "AAAOxAAADsQBlSsOGwAAAcZJREFUOMudlDtIA0EQhn9jYs5N7pJYWIjIVYKCaGEXixQW2khKUQRF\n",
       "sBJJITYixkI4LEIsfHUXbAwWiXamMSCInReihaKYNDYWCmqCb3cvlwfGPSXT7OzO/7E7O7ML/GWi\n",
       "kuFE/PiHWQO8yIIx2qYrFs+G+Li0UvT6036IyYJvfywrGpM7XDzifTU8h0yWgYQxU8vqQbgy3N3F\n",
       "In7ChDiqykfKwyXr3oWixLn4KtCtokH9idcFEdNTmr80251mey/DkYR0dR0fncDd5FhKo+sxDYtM\n",
       "b0uYHZ4wPAmrG1EgiD1gSZaeaeAmgxtWT4ffDLc9UVyDM445FRpLZR14p4FDjyenXy3+xH2wjEN4\n",
       "OddvYgv4oIEXEDbgVqEWNvBdNlFCFYen+KIG6QFk4KunjFPWqUui5oWjuXfLsI9jBM7PCjwPoYfF\n",
       "BXOcqk9VWILoAlorDp9Hu15MUePhhDnHgBdwhpl6jbEHBbyJhArK/d9wKy1OjDWTIJMZoN6H2euz\n",
       "QHaqJZtr68i5ge20UbHIhlqF1zW/tUJgz4b0pmhrCwH+Q53drG5a3TpL3nAt791X8vpqwEnpUm3h\n",
       "GnCx/DX857eycv862q7fMaOTKxn2xEEAAAAASUVORK5CYII=\n",
       "\" style=\"display:inline;vertical-align:middle;\" /></a></span>"
      ],
      "text/plain": [
       "{theta in (-pi,0)} |- sin(theta) in [-1,0)"
      ]
     },
     "metadata": {},
     "output_type": "display_data"
    }
   ],
   "source": [
    "Sin(theta).deduce_in_interval(assumptions=[InSet(theta, IntervalOO(Neg(pi), zero))])"
   ]
  },
  {
   "cell_type": "code",
   "execution_count": 10,
   "metadata": {},
   "outputs": [
    {
     "data": {
      "text/html": [
       "<span style=\"font-size:20px;\"><a class=\"ProveItLink\" href=\"../../numbers/number_sets/complex_numbers/__pv_it/theorems/5c9b98ec381ed1eef8437437430dde6add03b8720/expr.ipynb\"><img src=\"data:image/png;base64,iVBORw0KGgoAAAANSUhEUgAAADMAAAAQBAMAAABJt1qBAAAAMFBMVEX///9mZmYQEBAyMjLc3NxU\n",
       "VFSqqqq6uroiIiLu7u6YmJhERETMzMx2dnaIiIgAAACOKrHUAAAAAXRSTlMAQObYZgAAAAlwSFlz\n",
       "AAAOxAAADsQBlSsOGwAAAOVJREFUGNNjYMAAi7X3W2gvADP57h5AldvgylC6egKItYuzAU3Kl4Gb\n",
       "JwDI4N3A8AdDitHBAMg4X8DwDWLwjo5mhNQGICOCgfMXSIDdbgJCF+tMoIGc/xjYv4MEnCcgGXg6\n",
       "2QFozB8Gvi8gAROEXU4WP14CaeavofEKIAEDJGesmgyi+TcwzH8ApHk0Ojo6uqFS3LNAXgaKrwfZ\n",
       "wrkBSRePwE6QVAFDI1igAdlfMt4gAwvYNMEC75ClZvMBTWRNmAEJQuYEuJQjA9eC7UA75EQgApzR\n",
       "lfCQ38Kw2z4BKejYb0MDCgoAk+9ECnr2Yc4AAAAASUVORK5CYII=\n",
       "\" style=\"display:inline;vertical-align:middle;\" /></a>, <a class=\"ProveItLink\" href=\"../__pv_it/theorems/85358d9f41c4d14a0e033f7f6dff0b354437b7c60/expr.ipynb\"><img src=\"data:image/png;base64,iVBORw0KGgoAAAANSUhEUgAAAD8AAAAlBAMAAAAHPCwRAAAAMFBMVEX///9mZmYQEBAyMjJUVFSq\n",
       "qqoiIiLu7u6YmJhERETMzMyIiIi6urp2dnbc3NwAAAAZiRO6AAAAAXRSTlMAQObYZgAAAAlwSFlz\n",
       "AAAOxAAADsQBlSsOGwAAATlJREFUOMtjYMAJLv3///8jbmkG3juxK3YtwKNgKcM+bnzyQDCBpQCv\n",
       "PJcDG34DGBv48SuoL+A/AKQeQLkPMBRsY+C/AKTuQLl3MBRMZWCBKeC+uwCLAiSdM9gTkBUEP0BT\n",
       "wDuB4ReSgjZxdBPWH2D4ilCw7TqGFW4M7D9gCtivbcBwA/tvBp4/UAXsYg2YjuT+xcD9D6KA3TkA\n",
       "iy+Yv7j4K0BNwKqAfwJD/QaoAj6EFf/B4ANQAijbX4DPkfUHGBIZ8HmT/wCrOgO+gGIJKFuAElnB\n",
       "C9DCQVoOa2yiRTOmAj5BywV4Fbxk4P2DroA9DQwgbvBjYFDCa4J+AYM/MGXsgnJ3YShwY2DwJ5Bz\n",
       "GPIJyHP9JqCAzYGAAkkC8hyEDIhl4HuA14kXGLjx5v9ngoJi+APh///PDAwAQP1v6nGTMecAAAAA\n",
       "SUVORK5CYII=\n",
       "\" style=\"display:inline;vertical-align:middle;\" /></a> <a class=\"ProveItLink\" href=\"../__pv_it/demonstrations/120632c84a47c01828792bf52bfc80315211c1960/proof.ipynb\" style=\"text-decoration: none\">&nbsp;&#x22A2;&nbsp;&nbsp;</a><a class=\"ProveItLink\" href=\"../__pv_it/theorems/0777aa52142bd49f44a9a4c1db88e444df06bf370/expr.ipynb\"><img src=\"data:image/png;base64,iVBORw0KGgoAAAANSUhEUgAAAIEAAAAtBAMAAAB7UBX2AAAAMFBMVEX///9UVFSqqqpmZmZ2dnbc\n",
       "3NwQEBC6uroiIiJERETu7u4yMjKYmJiIiIjMzMwAAAAFQiFKAAAAAXRSTlMAQObYZgAAAAlwSFlz\n",
       "AAAOxAAADsQBlSsOGwAAAiJJREFUSMfN1T9IG1EcB/CvJUG95u5MqSChmBtEkCIEgtCWFjo42A6S\n",
       "US0FRXAQwUPExaEpXTqpHVpo6XDQJaVD2tGpGV1KU6rQoeplFlr/5vBPkr7zVfN7kvR8Plr6G/JI\n",
       "fvc+9353v/cCXCjCZ0b5CNnieL7bJhddQdB7XTlhECFPEF5raTmhFRijQmgBZTlh0kE8RYSfNrbl\n",
       "hDYg7hKhDdqRnMBinlShldDoyQpGiQh6GfqerNDUQoTLW9H4sKxw0//QDrlgLiCblxQifAlPuMCm\n",
       "f3YkhQ6EydvM2r4lJRh3oTtVwbQvjdcU6m+6gWTyBnmSDVbGrSnU33Tzlcoh7Yc7PeSy8IQoLPcH\n",
       "FXj2Ro07Qqo5l/mdepc77/ngCKl7MF2e0vry0icM+8nwYFonqW/3LyA0pJHNnaaWahK6Wx2N76vv\n",
       "H4xgY/ThlzwXWLc9sqv49Z6ARnkLpPEBeGwZe1xYd7GeIsubjf1ZmHGQxzPgBXDEhY/RaJEWOPsq\n",
       "YMvur8AXXgIlLuyDnR6kitaAKrS+SkIQ2PTIQVVYusVHs1I7NjGESFkUPDQlEPA2aXQD18QqPHSe\n",
       "bPy6HUWDXf3cn754KlzR5hDU1TSmV5ftwlisUGzvKrYcz3zzNQXpY1zxL/WvCpmnfsz94zXQTfcf\n",
       "R2iSNXNCReid6v/0QwUwLD21plhGM2KKQoGdampxG5tqgHYAT03Q09hVfJAWrpKvvwAafcJgKdma\n",
       "SAAAAABJRU5ErkJggg==\n",
       "\" style=\"display:inline;vertical-align:middle;\" /></a></span>"
      ],
      "text/plain": [
       "{theta in Real, |theta| <= (pi / 2)} |- sin(|theta|) >= ((2 * |theta|) / pi)"
      ]
     },
     "metadata": {},
     "output_type": "display_data"
    }
   ],
   "source": [
    "Sin(Abs(theta)).deduce_linear_bound(assumptions=[InSet(theta, Real), LessEq(Abs(theta), Div(pi, two))])"
   ]
  },
  {
   "cell_type": "code",
   "execution_count": 11,
   "metadata": {},
   "outputs": [
    {
     "data": {
      "text/html": [
       "<span style=\"font-size:20px;\"><a class=\"ProveItLink\" href=\"../__pv_it/demonstrations/e6b70d495f8afdad31e7730973d3895699c64e380/expr.ipynb\"><img src=\"data:image/png;base64,iVBORw0KGgoAAAANSUhEUgAAAD8AAAATBAMAAADVH8ihAAAAMFBMVEX///8AAAAAAAAAAAAAAAAA\n",
       "AAAAAAAAAAAAAAAAAAAAAAAAAAAAAAAAAAAAAAAAAAAv3aB7AAAAD3RSTlMAdokyu2YQ3URUqyLN\n",
       "75mYuQMGAAAACXBIWXMAAA7EAAAOxAGVKw4bAAAA90lEQVQoz2NgwAP4GAgAFjIVxFzxP34lAEkB\n",
       "o5IBqgqHXQxdIQkIBa5sBWgKNjGwMC9geOLi6+ICNInJgeEzhgK+DQfgJtg3MPyESIiUlx+AK3CA\n",
       "K1jOwPYVzOgRQ5jAlbYApoDtIwPHDxCD+xiSFSZzNsAUMH5mYPwNYvBsgCvYe/y7GDwkeX6tWn8B\n",
       "zEByZGgOwsn8Dgz5AiCGbTkQOEAUsKQGwBUAZeNBgcKQgmQC8wM3hIIGhjowgx05HB5vQVjRwHkN\n",
       "EuICSApSGOF2cE1Ih0bFSbiCfQysAR4wHtvD11BWlkcCLDa9GVzOT8CM5yZ3SFCjAAAyfENlIMyr\n",
       "qgAAAABJRU5ErkJggg==\n",
       "\" style=\"display:inline;vertical-align:middle;\" /></a>, <a class=\"ProveItLink\" href=\"../__pv_it/theorems/0f6192035169065ce7d1f3c0fb342c011fc928f30/expr.ipynb\"><img src=\"data:image/png;base64,iVBORw0KGgoAAAANSUhEUgAAADUAAAAlBAMAAAAQHrzYAAAAMFBMVEX///9mZmYQEBAyMjLc3NxU\n",
       "VFSqqqq6uroiIiLu7u6YmJhERETMzMx2dnaIiIgAAACOKrHUAAAAAXRSTlMAQObYZgAAAAlwSFlz\n",
       "AAAOxAAADsQBlSsOGwAAARhJREFUOMtjYMAGLv3///8jVhkG3uu5p94cwC53jOEJHw4pINjAOgGX\n",
       "FE8AB05tjAv4ccrNn8BfgEvuBQP/BVxy2xhYIXJ8d3G7dxdnA5yd7IAaCBsY/sDYKyRRtZ0vYPgG\n",
       "c8JNNCMjGDh/gRmcNx6gSXH+Y2D/DmZILEB3Cd8fBr4vIKngBAxXMn8NjVcAMbDI8W9gmA+2hwVh\n",
       "5n8w+ACSWD8Bh1vmFzA0MuDwA38BmyYDDr+zJsxACs5klKDllBNhIA04Cu/BJcWygeE+UsRzdoAB\n",
       "xD5WBwYmBRz6mH4ysH7BIcfawMD6B7drOD7gljv/ALdcK24pxg245ZbilmK7wOCCS+4sA8NLXGHW\n",
       "KCjYgMtzwCRhwAAAf3tUXOnpRKAAAAAASUVORK5CYII=\n",
       "\" style=\"display:inline;vertical-align:middle;\" /></a> <a class=\"ProveItLink\" href=\"../__pv_it/demonstrations/17ead11ae3d19ad79330a76b45016bf671e6b3d90/proof.ipynb\" style=\"text-decoration: none\">&nbsp;&#x22A2;&nbsp;&nbsp;</a><a class=\"ProveItLink\" href=\"../__pv_it/theorems/d7050b2d9bd680763cc2dc50e8028b1d003983160/expr.ipynb\"><img src=\"data:image/png;base64,iVBORw0KGgoAAAANSUhEUgAAAGkAAAArBAMAAACJPLtuAAAAMFBMVEX///9UVFSqqqpmZmZ2dnbc\n",
       "3NwQEBC6uroiIiJERETu7u4yMjKYmJiIiIjMzMwAAAAFQiFKAAAAAXRSTlMAQObYZgAAAAlwSFlz\n",
       "AAAOxAAADsQBlSsOGwAAAa9JREFUSMfdkz1IAmEYx/+Bkh56aiSERDpEEBIIElQ0NDRYgzj2QUME\n",
       "ToES0eKQ0dJkNBTUdNBiNFijU44uwUUGDZk6ByFUHmrX5SH3wcnpe07Rf3jveeB+d8+97++A3jEH\n",
       "s2VVWwiDJKswcUpnzaWJKDcQVbolOMokVIyBNyI1NAeHj4QaAbzy4weSyORAlmO5yrDYj5NBNC+X\n",
       "pTJKETLK4pTLO5erRjjgrLhQTXGtg+LJIFv7VYciysPWIKPGYZY+heJgCZDtxQLsjNRwmGCIqJVg\n",
       "cEZuhqgU4WEJQlNuLh+lYc3bxpUGBj86lL4msIbpUJoKsSCPovTzMjmlUjrfBaNfijfrm3jb2nhg\n",
       "NUr7p3WpKyCJW+DAR39plU549Kg9BixOgDPgW6t04kL3J6g/QaTOAV6jtN+tOyEVEgIKpVY6P9e+\n",
       "OgRtqliD7UdFKUp33fkpYFQ1oaR0j1Nu3XQqItk2JSndw6jdYiFeiXoqtbHJmlOt9F9P+khMCv8/\n",
       "pljLpYBRanEnfP9uFKJ99shrHyNa4emDqrR+euOZR9U4RDXAGafsSXz2sRk+DEv1L/ILlw/K3OKL\n",
       "AAAAAElFTkSuQmCC\n",
       "\" style=\"display:inline;vertical-align:middle;\" /></a></span>"
      ],
      "text/plain": [
       "{theta in RealPos, theta <= (pi / 2)} |- sin(theta) >= ((2 * theta) / pi)"
      ]
     },
     "metadata": {},
     "output_type": "display_data"
    }
   ],
   "source": [
    "Sin(theta).deduce_linear_bound(assumptions=[InSet(theta, RealPos), LessEq(theta, Div(pi, two))])"
   ]
  },
  {
   "cell_type": "code",
   "execution_count": 12,
   "metadata": {},
   "outputs": [
    {
     "data": {
      "text/html": [
       "<span style=\"font-size:20px;\"><a class=\"ProveItLink\" href=\"../__pv_it/theorems/6c480b5b7b83da4785d9ba6b852ad31bb3f5ebd40/expr.ipynb\"><img src=\"data:image/png;base64,iVBORw0KGgoAAAANSUhEUgAAAEgAAAAUBAMAAADcj2b4AAAAMFBMVEX///9mZmYQEBAyMjLc3NxU\n",
       "VFSqqqq6uroiIiLu7u6YmJhERETMzMx2dnaIiIgAAACOKrHUAAAAAXRSTlMAQObYZgAAAAlwSFlz\n",
       "AAAOxAAADsQBlSsOGwAAAUZJREFUKM9jYMAJTheAqbtvGfAAztsJQJLrAfsGfKoYXi9gYGA6wPAF\n",
       "ryKG1Q8Y/CcwqGGRWay930J7AYS9yOH8BIYuIIPv7gFUVRtcGUpXTwCx5m5nACrSA7J2cTagKfJl\n",
       "4OYJADIcYxhA1n1jYODdwPAHQxGjgwEDgytQDdTh5wtASkHW7uhoRijawDBVBCz6gB1oaAQD5y8Q\n",
       "j91uAsIk1pkBDDMhvLsPJzBw/mNg/w7iOE9Asu50sgOyA/j+MPCBQ8sE4SYnix8vUVzJ/DU0XgHE\n",
       "MEBy+KrJoLjbDQQQA/k3MMx/AKR5NDo6OrqhirhnLUAxCahiPcg1nBuQTOIR2ImqqIChEcxoQA4n\n",
       "GW8URfwFbJpgxjtkRbP5UOxjTZgBiTrmBLgiRwauBdtRkpacCJQRXQlPBVsYdtsnYE087Leh0YIB\n",
       "ABB8YwakisJ6AAAAAElFTkSuQmCC\n",
       "\" style=\"display:inline;vertical-align:middle;\" /></a>, <a class=\"ProveItLink\" href=\"../__pv_it/theorems/0f6192035169065ce7d1f3c0fb342c011fc928f30/expr.ipynb\"><img src=\"data:image/png;base64,iVBORw0KGgoAAAANSUhEUgAAADUAAAAlBAMAAAAQHrzYAAAAMFBMVEX///9mZmYQEBAyMjLc3NxU\n",
       "VFSqqqq6uroiIiLu7u6YmJhERETMzMx2dnaIiIgAAACOKrHUAAAAAXRSTlMAQObYZgAAAAlwSFlz\n",
       "AAAOxAAADsQBlSsOGwAAARhJREFUOMtjYMAGLv3///8jVhkG3uu5p94cwC53jOEJHw4pINjAOgGX\n",
       "FE8AB05tjAv4ccrNn8BfgEvuBQP/BVxy2xhYIXJ8d3G7dxdnA5yd7IAaCBsY/sDYKyRRtZ0vYPgG\n",
       "c8JNNCMjGDh/gRmcNx6gSXH+Y2D/DmZILEB3Cd8fBr4vIKngBAxXMn8NjVcAMbDI8W9gmA+2hwVh\n",
       "5n8w+ACSWD8Bh1vmFzA0MuDwA38BmyYDDr+zJsxACs5klKDllBNhIA04Cu/BJcWygeE+UsRzdoAB\n",
       "xD5WBwYmBRz6mH4ysH7BIcfawMD6B7drOD7gljv/ALdcK24pxg245ZbilmK7wOCCS+4sA8NLXGHW\n",
       "KCjYgMtzwCRhwAAAf3tUXOnpRKAAAAAASUVORK5CYII=\n",
       "\" style=\"display:inline;vertical-align:middle;\" /></a> <a class=\"ProveItLink\" href=\"../__pv_it/demonstrations/752e0140715163a70b1b16014e780907da8fb46e0/proof.ipynb\" style=\"text-decoration: none\">&nbsp;&#x22A2;&nbsp;&nbsp;</a><a class=\"ProveItLink\" href=\"../__pv_it/theorems/d7050b2d9bd680763cc2dc50e8028b1d003983160/expr.ipynb\"><img src=\"data:image/png;base64,iVBORw0KGgoAAAANSUhEUgAAAGkAAAArBAMAAACJPLtuAAAAMFBMVEX///9UVFSqqqpmZmZ2dnbc\n",
       "3NwQEBC6uroiIiJERETu7u4yMjKYmJiIiIjMzMwAAAAFQiFKAAAAAXRSTlMAQObYZgAAAAlwSFlz\n",
       "AAAOxAAADsQBlSsOGwAAAa9JREFUSMfdkz1IAmEYx/+Bkh56aiSERDpEEBIIElQ0NDRYgzj2QUME\n",
       "ToES0eKQ0dJkNBTUdNBiNFijU44uwUUGDZk6ByFUHmrX5SH3wcnpe07Rf3jveeB+d8+97++A3jEH\n",
       "s2VVWwiDJKswcUpnzaWJKDcQVbolOMokVIyBNyI1NAeHj4QaAbzy4weSyORAlmO5yrDYj5NBNC+X\n",
       "pTJKETLK4pTLO5erRjjgrLhQTXGtg+LJIFv7VYciysPWIKPGYZY+heJgCZDtxQLsjNRwmGCIqJVg\n",
       "cEZuhqgU4WEJQlNuLh+lYc3bxpUGBj86lL4msIbpUJoKsSCPovTzMjmlUjrfBaNfijfrm3jb2nhg\n",
       "NUr7p3WpKyCJW+DAR39plU549Kg9BixOgDPgW6t04kL3J6g/QaTOAV6jtN+tOyEVEgIKpVY6P9e+\n",
       "OgRtqliD7UdFKUp33fkpYFQ1oaR0j1Nu3XQqItk2JSndw6jdYiFeiXoqtbHJmlOt9F9P+khMCv8/\n",
       "pljLpYBRanEnfP9uFKJ99shrHyNa4emDqrR+euOZR9U4RDXAGafsSXz2sRk+DEv1L/ILlw/K3OKL\n",
       "AAAAAElFTkSuQmCC\n",
       "\" style=\"display:inline;vertical-align:middle;\" /></a></span>"
      ],
      "text/plain": [
       "{theta in RealNonNeg, theta <= (pi / 2)} |- sin(theta) >= ((2 * theta) / pi)"
      ]
     },
     "metadata": {},
     "output_type": "display_data"
    }
   ],
   "source": [
    "Sin(theta).deduce_linear_bound(assumptions=[InSet(theta, RealNonNeg), LessEq(theta, Div(pi, two))])"
   ]
  },
  {
   "cell_type": "code",
   "execution_count": 13,
   "metadata": {},
   "outputs": [
    {
     "data": {
      "text/html": [
       "<span style=\"font-size:20px;\"><a class=\"ProveItLink\" href=\"../__pv_it/demonstrations/d2d231224210848a5c4386b97ba5bc9be9ee555a0/expr.ipynb\"><img src=\"data:image/png;base64,iVBORw0KGgoAAAANSUhEUgAAAD8AAAAQBAMAAABTi7oPAAAAMFBMVEX///8AAAAAAAAAAAAAAAAA\n",
       "AAAAAAAAAAAAAAAAAAAAAAAAAAAAAAAAAAAAAAAAAAAv3aB7AAAAD3RSTlMAdokyu2YQ3URUqyLN\n",
       "75mYuQMGAAAACXBIWXMAAA7EAAAOxAGVKw4bAAAA7UlEQVQoz2NgwAAxV/yPXwlAEmBUMkBV4bCL\n",
       "oSskAcF3ZStAU7CJgYV5AYOJCxBsYGBgcmD4jKGAb8MBONe+geEnxCr38hqEAge4guUMbF9BNMfB\n",
       "BIQJXGkLYPJsHxk4foAYexKQrDCZswHuh88MjL9BjNMIN+w9/l0MzuP5tWr9BRDjAJIjQ3MQTuZ3\n",
       "YMgXANLM18vLy0ugClhSEQEFlI0H2c7mgGQC8wM3hIIGhjowowA5HB5vQVjRwHkNzBBEVpDCCLeD\n",
       "a0I6JCp4JsAV7GNgDfCAh8PD11DGkjZ4bHozuJyfgBHNHCrQoEYBAKaxQ5P9Q/U4AAAAAElFTkSu\n",
       "QmCC\n",
       "\" style=\"display:inline;vertical-align:middle;\" /></a>, <a class=\"ProveItLink\" href=\"../__pv_it/demonstrations/33676741ebe0e97f8c10d86ac4d974ec77ad76de0/expr.ipynb\"><img src=\"data:image/png;base64,iVBORw0KGgoAAAANSUhEUgAAAFQAAAAlBAMAAAAuO9OWAAAAMFBMVEX////MzMxUVFRERES6uroi\n",
       "IiIQEBCYmJhmZmYyMjLu7u52dnaqqqqIiIjc3NwAAACW8nlqAAAAAXRSTlMAQObYZgAAAAlwSFlz\n",
       "AAAOxAAADsQBlSsOGwAAAZVJREFUOMtjYCACcOf///+/gRiVDLt9NtYKEqWS8QDvg4sMRAJmBi1i\n",
       "lQoxBBCrtJ3hA5EquX4xfAEzHqAI82FRyhvA8BtMH0ARZrmAxVcHGLRB9Glk7bsFGK7jdscEJI45\n",
       "VwAD5wJcSjkKkCLQgOEjAzvOGGRDYss7MPxhYMhCCJxE8fJJJLYqA9d3BobpcH5pF4qp3UjO/svA\n",
       "Agy/TTD+1V2oDpiO5P+PDLz/GBgqoRq3ogdbDILJ+UlJP4GB4RgkKloL0L2VAtQ/NRQEBPgNGNYD\n",
       "TZIHi2siYob/PxiAlMIAUF09MFDd0JViccB6B4YIIHUUlwNsEUx+Bx5QmBbj8tYmBJPpwFIBpODj\n",
       "unoLVakoUrj29oGoEEQUoAYsqwCaNXxIeaMSGrEvOg2BJEbq4MDwDgOfAcN+ByBthyb+GDNJMT1g\n",
       "YAPGDcNiNHE7LKnvFwPTP5DpqGHC+wCLqQEMTB+Jzd0MrB+IVip/gWilQUSr5DAgWmkR0Sp5NjC8\n",
       "I1KpNAPDLeJU8kV0dBBZarICs8sEBgBoAmJ2wah3yQAAAABJRU5ErkJggg==\n",
       "\" style=\"display:inline;vertical-align:middle;\" /></a> <a class=\"ProveItLink\" href=\"../__pv_it/demonstrations/bbe9f3aafef0e7dc002bdf61d44b82c6015e6cd60/proof.ipynb\" style=\"text-decoration: none\">&nbsp;&#x22A2;&nbsp;&nbsp;</a><a class=\"ProveItLink\" href=\"../__pv_it/theorems/25b9cc4bcfbb5b2ff6289ab7dcc5b9de119c74a40/expr.ipynb\"><img src=\"data:image/png;base64,iVBORw0KGgoAAAANSUhEUgAAAGkAAAArBAMAAACJPLtuAAAAMFBMVEX///9UVFSqqqpmZmZ2dnbc\n",
       "3NwQEBC6uroiIiJERETu7u4yMjKYmJiIiIjMzMwAAAAFQiFKAAAAAXRSTlMAQObYZgAAAAlwSFlz\n",
       "AAAOxAAADsQBlSsOGwAAAbBJREFUSMfdk79LAmEYx7+Kkh7nqVEQEnlDBA2B4FLQ0NBQiwgt/aAh\n",
       "AqdAiWjNsKGhjIaCtgsbbLKCBpfyHwiMbMvUOQih8lC7Lg+58y3ses8p+g4vzwP3ed/n3vsc8Hus\n",
       "/nSRaHMB0GQOFrHV2TNJKqoXCLW6aTiLNFRYgDeoNpwIJ09D9QFebXtTFKkM6LKnVaksNiJ0ECdp\n",
       "ZaGIQpCOsrm08trtrlAOOKYsTF1Zq2AkOohtHhVTUAlsjY4ahFV9FUaEzUd3FxNwCGojYkigomb9\n",
       "/lGt6WbilB9Llutak7hTh7WuGFca6Hppr7T5UhcT2irNxgTKYwmlHVu0EKH0ya7e5g/5s4UlPC0v\n",
       "3mZJpRM7epufAlGcA5s890YofXyhO9K6gCz2gUPgnVDapE/ZqvdQqCNAIpWe0Z2QmZJ9LYpQWrsN\n",
       "p/w9ZcyD/SAoQmm9mx8B+okJSaV1vnLjoQMFSTepL0qbr36i1vK5SCnkKVUGhisuUum/nuS2kjj+\n",
       "fyzhhks+o9TkauDm2SjE8Y7gYwcj2uHpgCo1fnrjGUfZOMTUIBqnHFG8dnAZPHrU+hNgXpgAOze2\n",
       "eQAAAABJRU5ErkJggg==\n",
       "\" style=\"display:inline;vertical-align:middle;\" /></a></span>"
      ],
      "text/plain": [
       "{theta in RealNeg, (-theta) < (pi / 2)} |- sin(theta) <= ((2 * theta) / pi)"
      ]
     },
     "metadata": {},
     "output_type": "display_data"
    }
   ],
   "source": [
    "Sin(theta).deduce_linear_bound(assumptions=[InSet(theta, RealNeg), Less(Neg(theta), Div(pi, two))])"
   ]
  },
  {
   "cell_type": "markdown",
   "metadata": {},
   "source": [
    "#### Deducing lower bounds: distinguishing between $\\sin{\\theta} > \\theta$ vs. $\\sin{\\theta} > \\frac{2}{\\pi}\\theta$ depending on domain"
   ]
  },
  {
   "cell_type": "code",
   "execution_count": 14,
   "metadata": {},
   "outputs": [
    {
     "data": {
      "text/html": [
       "<span style=\"font-size:20px;\"><a class=\"ProveItLink\" href=\"../__pv_it/demonstrations/d2d231224210848a5c4386b97ba5bc9be9ee555a0/expr.ipynb\"><img src=\"data:image/png;base64,iVBORw0KGgoAAAANSUhEUgAAAD8AAAAQBAMAAABTi7oPAAAAMFBMVEX///8AAAAAAAAAAAAAAAAA\n",
       "AAAAAAAAAAAAAAAAAAAAAAAAAAAAAAAAAAAAAAAAAAAv3aB7AAAAD3RSTlMAdokyu2YQ3URUqyLN\n",
       "75mYuQMGAAAACXBIWXMAAA7EAAAOxAGVKw4bAAAA7UlEQVQoz2NgwAAxV/yPXwlAEmBUMkBV4bCL\n",
       "oSskAcF3ZStAU7CJgYV5AYOJCxBsYGBgcmD4jKGAb8MBONe+geEnxCr38hqEAge4guUMbF9BNMfB\n",
       "BIQJXGkLYPJsHxk4foAYexKQrDCZswHuh88MjL9BjNMIN+w9/l0MzuP5tWr9BRDjAJIjQ3MQTuZ3\n",
       "YMgXANLM18vLy0ugClhSEQEFlI0H2c7mgGQC8wM3hIIGhjowowA5HB5vQVjRwHkNzBBEVpDCCLeD\n",
       "a0I6JCp4JsAV7GNgDfCAh8PD11DGkjZ4bHozuJyfgBHNHCrQoEYBAKaxQ5P9Q/U4AAAAAElFTkSu\n",
       "QmCC\n",
       "\" style=\"display:inline;vertical-align:middle;\" /></a> <a class=\"ProveItLink\" href=\"../__pv_it/demonstrations/a9cecd686846a027f22164222a2e2bb00b9af84d0/proof.ipynb\" style=\"text-decoration: none\">&nbsp;&#x22A2;&nbsp;&nbsp;</a><a class=\"ProveItLink\" href=\"../__pv_it/demonstrations/abad5265a05b14279361b7b4498c7ebcaf0c20ce0/expr.ipynb\"><img src=\"data:image/png;base64,iVBORw0KGgoAAAANSUhEUgAAAE0AAAAQBAMAAAChN++qAAAAMFBMVEX///8AAAAAAAAAAAAAAAAA\n",
       "AAAAAAAAAAAAAAAAAAAAAAAAAAAAAAAAAAAAAAAAAAAv3aB7AAAAD3RSTlMAMnZmzRC73UTvIomZ\n",
       "VKu7zOipAAAACXBIWXMAAA7EAAAOxAGVKw4bAAABEUlEQVQoz2NgAAKuyQwIoL2RAR3AhDj+IMTY\n",
       "DMLRlSGEAhCC2xj4BdDUYRFiYPzBwH8BSIcYYAihAL4ChniQEtbtCqhCjMpKDkvmMYjMWaQHkolX\n",
       "YOhvAEurb4WqgwiFMTAUMPgxMNRdYPwFFNQXYNBfAJE3PwqhIUKdAQwKDHkMDJkMDJ+Bgv7v3v2E\n",
       "WXjlFJiCCLF/02IAqUtjYPgEFPzGwPoJ7tiWpwxwIdbt/w8g1AFFmL8i1KUywIWWMjB/RFL3g4H9\n",
       "ANzeVyASKnSJgeExkr0/GG7CAt0c4jyoEBBngRS5QdS9ZS2EKoOHC0SoW0m7QW7mU7mfD6/9fMDA\n",
       "EKMDCRVWdXg4w4SwgnADBrIAAH8VWkLfh66CAAAAAElFTkSuQmCC\n",
       "\" style=\"display:inline;vertical-align:middle;\" /></a></span>"
      ],
      "text/plain": [
       "{theta in RealNeg} |- sin(theta) > theta"
      ]
     },
     "metadata": {},
     "output_type": "display_data"
    }
   ],
   "source": [
    "Sin(theta).deduce_linear_lower_bound(assumptions=[InSet(theta, RealNeg), Less(Neg(theta), Div(pi, two))])"
   ]
  },
  {
   "cell_type": "code",
   "execution_count": 15,
   "metadata": {},
   "outputs": [
    {
     "data": {
      "text/html": [
       "<span style=\"font-size:20px;\"><a class=\"ProveItLink\" href=\"../../numbers/number_sets/complex_numbers/__pv_it/theorems/5c9b98ec381ed1eef8437437430dde6add03b8720/expr.ipynb\"><img src=\"data:image/png;base64,iVBORw0KGgoAAAANSUhEUgAAADMAAAAQBAMAAABJt1qBAAAAMFBMVEX///9mZmYQEBAyMjLc3NxU\n",
       "VFSqqqq6uroiIiLu7u6YmJhERETMzMx2dnaIiIgAAACOKrHUAAAAAXRSTlMAQObYZgAAAAlwSFlz\n",
       "AAAOxAAADsQBlSsOGwAAAOVJREFUGNNjYMAAi7X3W2gvADP57h5AldvgylC6egKItYuzAU3Kl4Gb\n",
       "JwDI4N3A8AdDitHBAMg4X8DwDWLwjo5mhNQGICOCgfMXSIDdbgJCF+tMoIGc/xjYv4MEnCcgGXg6\n",
       "2QFozB8Gvi8gAROEXU4WP14CaeavofEKIAEDJGesmgyi+TcwzH8ApHk0Ojo6uqFS3LNAXgaKrwfZ\n",
       "wrkBSRePwE6QVAFDI1igAdlfMt4gAwvYNMEC75ClZvMBTWRNmAEJQuYEuJQjA9eC7UA75EQgApzR\n",
       "lfCQ38Kw2z4BKejYb0MDCgoAk+9ECnr2Yc4AAAAASUVORK5CYII=\n",
       "\" style=\"display:inline;vertical-align:middle;\" /></a>, <a class=\"ProveItLink\" href=\"../__pv_it/demonstrations/9e5780475f48a40663d3fa66ceb318a12e241e110/expr.ipynb\"><img src=\"data:image/png;base64,iVBORw0KGgoAAAANSUhEUgAAAGIAAAAmBAMAAADNQlNHAAAAMFBMVEX///8AAAAAAAAAAAAAAAAA\n",
       "AAAAAAAAAAAAAAAAAAAAAAAAAAAAAAAAAAAAAAAAAAAv3aB7AAAAD3RSTlMAIolEdjK7ZhDdVKvN\n",
       "75nu1kSYAAAACXBIWXMAAA7EAAAOxAGVKw4bAAABwElEQVQ4y5XVv0uCQRgH8K+hdv7Kt38gRLE1\n",
       "aYwgCQwhSAmaIhSiIFocWiIipyCCtCFIgnjHljCaIhfHaKklaEtaWsQsK1zq7Xzvkvf1Pc274Xjf\n",
       "u/fD3T333HtAl+LWtIy19VVroqu4ML0OPGmaVqEPj/2K4ER4YwESwqHalRhkBODElaRYRF5SvKAu\n",
       "J0gTDS4U3qT0FvY83rkI8aZQb+FUcWkQ0+EuIjjXOTQTzsyeWHhVcigUo/AnhWKz1ScQjgb86p+Y\n",
       "KRTKbbEOFLMC4ckjl+FiMm4c4wdIqQKRi2IqwoTtxjgr0hIZgUgkkVCY8CpGYaM7kIoKxF2p9M1j\n",
       "5YVFBATiC+SDi6UCLen2rKiYYmP4Nb0wQT8fbHKxa44uXUdRsHLSgKvChcssVoEdUXQbOM9yYY+a\n",
       "xDZQBbGKa3LUzsRbk3Cp5AG5skUc6OnGxP5y1iDI82wSrmNrXhmzfXzNkCWsnOn1SHWl7/Oh74gt\n",
       "jbFIn4Lo0fAo8N33Kex67WvC88ZEjHfEep9amuCeT7m/D411XVawNJYRJ5L/RAylZcUWJIU7gGE5\n",
       "MQ/E/xHme9B2Wqvle9+DnZtBzyxL0V/hx6aedDf4SAAAAABJRU5ErkJggg==\n",
       "\" style=\"display:inline;vertical-align:middle;\" /></a> <a class=\"ProveItLink\" href=\"../__pv_it/demonstrations/e8806d2131fdab86bba9786eb9b0b9d705b393ee0/proof.ipynb\" style=\"text-decoration: none\">&nbsp;&#x22A2;&nbsp;&nbsp;</a><a class=\"ProveItLink\" href=\"../__pv_it/theorems/0777aa52142bd49f44a9a4c1db88e444df06bf370/expr.ipynb\"><img src=\"data:image/png;base64,iVBORw0KGgoAAAANSUhEUgAAAIEAAAAtBAMAAAB7UBX2AAAAMFBMVEX///9UVFSqqqpmZmZ2dnbc\n",
       "3NwQEBC6uroiIiJERETu7u4yMjKYmJiIiIjMzMwAAAAFQiFKAAAAAXRSTlMAQObYZgAAAAlwSFlz\n",
       "AAAOxAAADsQBlSsOGwAAAiJJREFUSMfN1T9IG1EcB/CvJUG95u5MqSChmBtEkCIEgtCWFjo42A6S\n",
       "US0FRXAQwUPExaEpXTqpHVpo6XDQJaVD2tGpGV1KU6rQoeplFlr/5vBPkr7zVfN7kvR8Plr6G/JI\n",
       "fvc+9353v/cCXCjCZ0b5CNnieL7bJhddQdB7XTlhECFPEF5raTmhFRijQmgBZTlh0kE8RYSfNrbl\n",
       "hDYg7hKhDdqRnMBinlShldDoyQpGiQh6GfqerNDUQoTLW9H4sKxw0//QDrlgLiCblxQifAlPuMCm\n",
       "f3YkhQ6EydvM2r4lJRh3oTtVwbQvjdcU6m+6gWTyBnmSDVbGrSnU33Tzlcoh7Yc7PeSy8IQoLPcH\n",
       "FXj2Ro07Qqo5l/mdepc77/ngCKl7MF2e0vry0icM+8nwYFonqW/3LyA0pJHNnaaWahK6Wx2N76vv\n",
       "H4xgY/ThlzwXWLc9sqv49Z6ARnkLpPEBeGwZe1xYd7GeIsubjf1ZmHGQxzPgBXDEhY/RaJEWOPsq\n",
       "YMvur8AXXgIlLuyDnR6kitaAKrS+SkIQ2PTIQVVYusVHs1I7NjGESFkUPDQlEPA2aXQD18QqPHSe\n",
       "bPy6HUWDXf3cn754KlzR5hDU1TSmV5ftwlisUGzvKrYcz3zzNQXpY1zxL/WvCpmnfsz94zXQTfcf\n",
       "R2iSNXNCReid6v/0QwUwLD21plhGM2KKQoGdampxG5tqgHYAT03Q09hVfJAWrpKvvwAafcJgKdma\n",
       "SAAAAABJRU5ErkJggg==\n",
       "\" style=\"display:inline;vertical-align:middle;\" /></a></span>"
      ],
      "text/plain": [
       "{theta in Real, |theta| in [0,pi / 2]} |- sin(|theta|) >= ((2 * |theta|) / pi)"
      ]
     },
     "metadata": {},
     "output_type": "display_data"
    }
   ],
   "source": [
    "from proveit.numbers import frac\n",
    "Sin(Abs(theta)).deduce_linear_lower_bound(assumptions=[InSet(theta, Real), InSet(Abs(theta), IntervalCC(zero, frac(pi, two)))],\n",
    "        preserve_expr=Sin(Abs(theta)))"
   ]
  },
  {
   "cell_type": "code",
   "execution_count": 16,
   "metadata": {},
   "outputs": [
    {
     "data": {
      "text/html": [
       "<span style=\"font-size:20px;\"><a class=\"ProveItLink\" href=\"../__pv_it/demonstrations/e6b70d495f8afdad31e7730973d3895699c64e380/expr.ipynb\"><img src=\"data:image/png;base64,iVBORw0KGgoAAAANSUhEUgAAAD8AAAATBAMAAADVH8ihAAAAMFBMVEX///8AAAAAAAAAAAAAAAAA\n",
       "AAAAAAAAAAAAAAAAAAAAAAAAAAAAAAAAAAAAAAAAAAAv3aB7AAAAD3RSTlMAdokyu2YQ3URUqyLN\n",
       "75mYuQMGAAAACXBIWXMAAA7EAAAOxAGVKw4bAAAA90lEQVQoz2NgwAP4GAgAFjIVxFzxP34lAEkB\n",
       "o5IBqgqHXQxdIQkIBa5sBWgKNjGwMC9geOLi6+ICNInJgeEzhgK+DQfgJtg3MPyESIiUlx+AK3CA\n",
       "K1jOwPYVzOgRQ5jAlbYApoDtIwPHDxCD+xiSFSZzNsAUMH5mYPwNYvBsgCvYe/y7GDwkeX6tWn8B\n",
       "zEByZGgOwsn8Dgz5AiCGbTkQOEAUsKQGwBUAZeNBgcKQgmQC8wM3hIIGhjowgx05HB5vQVjRwHkN\n",
       "EuICSApSGOF2cE1Ih0bFSbiCfQysAR4wHtvD11BWlkcCLDa9GVzOT8CM5yZ3SFCjAAAyfENlIMyr\n",
       "qgAAAABJRU5ErkJggg==\n",
       "\" style=\"display:inline;vertical-align:middle;\" /></a>, <a class=\"ProveItLink\" href=\"../__pv_it/demonstrations/6adb636f81399867484ed472662735fca592ffdc0/expr.ipynb\"><img src=\"data:image/png;base64,iVBORw0KGgoAAAANSUhEUgAAADUAAAAlBAMAAAAQHrzYAAAAMFBMVEX///8AAAAAAAAAAAAAAAAA\n",
       "AAAAAAAAAAAAAAAAAAAAAAAAAAAAAAAAAAAAAAAAAAAv3aB7AAAAD3RSTlMAdokyu2YQ3URUqyLN\n",
       "75mYuQMGAAAACXBIWXMAAA7EAAAOxAGVKw4bAAABE0lEQVQ4y2NgwAZ0/////w+rDAOTxiRTYQPs\n",
       "cpYM0ow4pIDAgSsBlxTzAnac2vgC+HHK5SfwN+CSE2fgV8Al58nABZFjVMLtXle2AlxSTA4Mn3HJ\n",
       "2Tcw/IRz5mxAkVvOwPYVxg5/hiLF9pGB4wfM6WqoRjJ+ZmD8DVGlLoBmHc+vVesvgBjczwPQncLv\n",
       "wJAPVr9mAlzsPxh8AEnEJ6DJwYO1gaGOAZeZDZzXGHC4hWtCOiw42cTFUOXYHr5GcMLVGHCDGGiY\n",
       "7XvjjEsJtwODPq6I59rAwHsBhxzvNwau37j0FTBwfcbtKvYPuOXsBXDLVeGW4nPALReFW4pTgWE3\n",
       "LjkjBgYxXGFW9+4drgTNDkwSBxgAFUtBY86Sq/0AAAAASUVORK5CYII=\n",
       "\" style=\"display:inline;vertical-align:middle;\" /></a> <a class=\"ProveItLink\" href=\"../__pv_it/demonstrations/aedbbc8175c2b80bd961cd1e478cc0a648b301140/proof.ipynb\" style=\"text-decoration: none\">&nbsp;&#x22A2;&nbsp;&nbsp;</a><a class=\"ProveItLink\" href=\"../__pv_it/theorems/d7050b2d9bd680763cc2dc50e8028b1d003983160/expr.ipynb\"><img src=\"data:image/png;base64,iVBORw0KGgoAAAANSUhEUgAAAGkAAAArBAMAAACJPLtuAAAAMFBMVEX///9UVFSqqqpmZmZ2dnbc\n",
       "3NwQEBC6uroiIiJERETu7u4yMjKYmJiIiIjMzMwAAAAFQiFKAAAAAXRSTlMAQObYZgAAAAlwSFlz\n",
       "AAAOxAAADsQBlSsOGwAAAa9JREFUSMfdkz1IAmEYx/+Bkh56aiSERDpEEBIIElQ0NDRYgzj2QUME\n",
       "ToES0eKQ0dJkNBTUdNBiNFijU44uwUUGDZk6ByFUHmrX5SH3wcnpe07Rf3jveeB+d8+97++A3jEH\n",
       "s2VVWwiDJKswcUpnzaWJKDcQVbolOMokVIyBNyI1NAeHj4QaAbzy4weSyORAlmO5yrDYj5NBNC+X\n",
       "pTJKETLK4pTLO5erRjjgrLhQTXGtg+LJIFv7VYciysPWIKPGYZY+heJgCZDtxQLsjNRwmGCIqJVg\n",
       "cEZuhqgU4WEJQlNuLh+lYc3bxpUGBj86lL4msIbpUJoKsSCPovTzMjmlUjrfBaNfijfrm3jb2nhg\n",
       "NUr7p3WpKyCJW+DAR39plU549Kg9BixOgDPgW6t04kL3J6g/QaTOAV6jtN+tOyEVEgIKpVY6P9e+\n",
       "OgRtqliD7UdFKUp33fkpYFQ1oaR0j1Nu3XQqItk2JSndw6jdYiFeiXoqtbHJmlOt9F9P+khMCv8/\n",
       "pljLpYBRanEnfP9uFKJ99shrHyNa4emDqrR+euOZR9U4RDXAGafsSXz2sRk+DEv1L/ILlw/K3OKL\n",
       "AAAAAElFTkSuQmCC\n",
       "\" style=\"display:inline;vertical-align:middle;\" /></a></span>"
      ],
      "text/plain": [
       "{theta in RealPos, theta < (pi / 2)} |- sin(theta) >= ((2 * theta) / pi)"
      ]
     },
     "metadata": {},
     "output_type": "display_data"
    }
   ],
   "source": [
    "Sin(theta).deduce_linear_lower_bound(assumptions=[InSet(theta, RealPos), Less(theta, frac(pi, two))])"
   ]
  },
  {
   "cell_type": "code",
   "execution_count": 17,
   "metadata": {},
   "outputs": [
    {
     "data": {
      "text/html": [
       "<span style=\"font-size:20px;\"><a class=\"ProveItLink\" href=\"../__pv_it/theorems/6c480b5b7b83da4785d9ba6b852ad31bb3f5ebd40/expr.ipynb\"><img src=\"data:image/png;base64,iVBORw0KGgoAAAANSUhEUgAAAEgAAAAUBAMAAADcj2b4AAAAMFBMVEX///9mZmYQEBAyMjLc3NxU\n",
       "VFSqqqq6uroiIiLu7u6YmJhERETMzMx2dnaIiIgAAACOKrHUAAAAAXRSTlMAQObYZgAAAAlwSFlz\n",
       "AAAOxAAADsQBlSsOGwAAAUZJREFUKM9jYMAJTheAqbtvGfAAztsJQJLrAfsGfKoYXi9gYGA6wPAF\n",
       "ryKG1Q8Y/CcwqGGRWay930J7AYS9yOH8BIYuIIPv7gFUVRtcGUpXTwCx5m5nACrSA7J2cTagKfJl\n",
       "4OYJADIcYxhA1n1jYODdwPAHQxGjgwEDgytQDdTh5wtASkHW7uhoRijawDBVBCz6gB1oaAQD5y8Q\n",
       "j91uAsIk1pkBDDMhvLsPJzBw/mNg/w7iOE9Asu50sgOyA/j+MPCBQ8sE4SYnix8vUVzJ/DU0XgHE\n",
       "MEBy+KrJoLjbDQQQA/k3MMx/AKR5NDo6OrqhirhnLUAxCahiPcg1nBuQTOIR2ImqqIChEcxoQA4n\n",
       "GW8URfwFbJpgxjtkRbP5UOxjTZgBiTrmBLgiRwauBdtRkpacCJQRXQlPBVsYdtsnYE087Leh0YIB\n",
       "ABB8YwakisJ6AAAAAElFTkSuQmCC\n",
       "\" style=\"display:inline;vertical-align:middle;\" /></a>, <a class=\"ProveItLink\" href=\"../__pv_it/theorems/0f6192035169065ce7d1f3c0fb342c011fc928f30/expr.ipynb\"><img src=\"data:image/png;base64,iVBORw0KGgoAAAANSUhEUgAAADUAAAAlBAMAAAAQHrzYAAAAMFBMVEX///9mZmYQEBAyMjLc3NxU\n",
       "VFSqqqq6uroiIiLu7u6YmJhERETMzMx2dnaIiIgAAACOKrHUAAAAAXRSTlMAQObYZgAAAAlwSFlz\n",
       "AAAOxAAADsQBlSsOGwAAARhJREFUOMtjYMAGLv3///8jVhkG3uu5p94cwC53jOEJHw4pINjAOgGX\n",
       "FE8AB05tjAv4ccrNn8BfgEvuBQP/BVxy2xhYIXJ8d3G7dxdnA5yd7IAaCBsY/sDYKyRRtZ0vYPgG\n",
       "c8JNNCMjGDh/gRmcNx6gSXH+Y2D/DmZILEB3Cd8fBr4vIKngBAxXMn8NjVcAMbDI8W9gmA+2hwVh\n",
       "5n8w+ACSWD8Bh1vmFzA0MuDwA38BmyYDDr+zJsxACs5klKDllBNhIA04Cu/BJcWygeE+UsRzdoAB\n",
       "xD5WBwYmBRz6mH4ysH7BIcfawMD6B7drOD7gljv/ALdcK24pxg245ZbilmK7wOCCS+4sA8NLXGHW\n",
       "KCjYgMtzwCRhwAAAf3tUXOnpRKAAAAAASUVORK5CYII=\n",
       "\" style=\"display:inline;vertical-align:middle;\" /></a> <a class=\"ProveItLink\" href=\"../__pv_it/demonstrations/752e0140715163a70b1b16014e780907da8fb46e0/proof.ipynb\" style=\"text-decoration: none\">&nbsp;&#x22A2;&nbsp;&nbsp;</a><a class=\"ProveItLink\" href=\"../__pv_it/theorems/d7050b2d9bd680763cc2dc50e8028b1d003983160/expr.ipynb\"><img src=\"data:image/png;base64,iVBORw0KGgoAAAANSUhEUgAAAGkAAAArBAMAAACJPLtuAAAAMFBMVEX///9UVFSqqqpmZmZ2dnbc\n",
       "3NwQEBC6uroiIiJERETu7u4yMjKYmJiIiIjMzMwAAAAFQiFKAAAAAXRSTlMAQObYZgAAAAlwSFlz\n",
       "AAAOxAAADsQBlSsOGwAAAa9JREFUSMfdkz1IAmEYx/+Bkh56aiSERDpEEBIIElQ0NDRYgzj2QUME\n",
       "ToES0eKQ0dJkNBTUdNBiNFijU44uwUUGDZk6ByFUHmrX5SH3wcnpe07Rf3jveeB+d8+97++A3jEH\n",
       "s2VVWwiDJKswcUpnzaWJKDcQVbolOMokVIyBNyI1NAeHj4QaAbzy4weSyORAlmO5yrDYj5NBNC+X\n",
       "pTJKETLK4pTLO5erRjjgrLhQTXGtg+LJIFv7VYciysPWIKPGYZY+heJgCZDtxQLsjNRwmGCIqJVg\n",
       "cEZuhqgU4WEJQlNuLh+lYc3bxpUGBj86lL4msIbpUJoKsSCPovTzMjmlUjrfBaNfijfrm3jb2nhg\n",
       "NUr7p3WpKyCJW+DAR39plU549Kg9BixOgDPgW6t04kL3J6g/QaTOAV6jtN+tOyEVEgIKpVY6P9e+\n",
       "OgRtqliD7UdFKUp33fkpYFQ1oaR0j1Nu3XQqItk2JSndw6jdYiFeiXoqtbHJmlOt9F9P+khMCv8/\n",
       "pljLpYBRanEnfP9uFKJ99shrHyNa4emDqrR+euOZR9U4RDXAGafsSXz2sRk+DEv1L/ILlw/K3OKL\n",
       "AAAAAElFTkSuQmCC\n",
       "\" style=\"display:inline;vertical-align:middle;\" /></a></span>"
      ],
      "text/plain": [
       "{theta in RealNonNeg, theta <= (pi / 2)} |- sin(theta) >= ((2 * theta) / pi)"
      ]
     },
     "metadata": {},
     "output_type": "display_data"
    }
   ],
   "source": [
    "Sin(theta).deduce_linear_lower_bound(assumptions=[InSet(theta, RealNonNeg), LessEq(theta, frac(pi, two))])"
   ]
  },
  {
   "cell_type": "code",
   "execution_count": 18,
   "metadata": {},
   "outputs": [
    {
     "data": {
      "text/html": [
       "<span style=\"font-size:20px;\"><a class=\"ProveItLink\" href=\"../__pv_it/demonstrations/d2d231224210848a5c4386b97ba5bc9be9ee555a0/expr.ipynb\"><img src=\"data:image/png;base64,iVBORw0KGgoAAAANSUhEUgAAAD8AAAAQBAMAAABTi7oPAAAAMFBMVEX///8AAAAAAAAAAAAAAAAA\n",
       "AAAAAAAAAAAAAAAAAAAAAAAAAAAAAAAAAAAAAAAAAAAv3aB7AAAAD3RSTlMAdokyu2YQ3URUqyLN\n",
       "75mYuQMGAAAACXBIWXMAAA7EAAAOxAGVKw4bAAAA7UlEQVQoz2NgwAAxV/yPXwlAEmBUMkBV4bCL\n",
       "oSskAcF3ZStAU7CJgYV5AYOJCxBsYGBgcmD4jKGAb8MBONe+geEnxCr38hqEAge4guUMbF9BNMfB\n",
       "BIQJXGkLYPJsHxk4foAYexKQrDCZswHuh88MjL9BjNMIN+w9/l0MzuP5tWr9BRDjAJIjQ3MQTuZ3\n",
       "YMgXANLM18vLy0ugClhSEQEFlI0H2c7mgGQC8wM3hIIGhjowowA5HB5vQVjRwHkNzBBEVpDCCLeD\n",
       "a0I6JCp4JsAV7GNgDfCAh8PD11DGkjZ4bHozuJyfgBHNHCrQoEYBAKaxQ5P9Q/U4AAAAAElFTkSu\n",
       "QmCC\n",
       "\" style=\"display:inline;vertical-align:middle;\" /></a> <a class=\"ProveItLink\" href=\"../__pv_it/demonstrations/a9cecd686846a027f22164222a2e2bb00b9af84d0/proof.ipynb\" style=\"text-decoration: none\">&nbsp;&#x22A2;&nbsp;&nbsp;</a><a class=\"ProveItLink\" href=\"../__pv_it/demonstrations/abad5265a05b14279361b7b4498c7ebcaf0c20ce0/expr.ipynb\"><img src=\"data:image/png;base64,iVBORw0KGgoAAAANSUhEUgAAAE0AAAAQBAMAAAChN++qAAAAMFBMVEX///8AAAAAAAAAAAAAAAAA\n",
       "AAAAAAAAAAAAAAAAAAAAAAAAAAAAAAAAAAAAAAAAAAAv3aB7AAAAD3RSTlMAMnZmzRC73UTvIomZ\n",
       "VKu7zOipAAAACXBIWXMAAA7EAAAOxAGVKw4bAAABEUlEQVQoz2NgAAKuyQwIoL2RAR3AhDj+IMTY\n",
       "DMLRlSGEAhCC2xj4BdDUYRFiYPzBwH8BSIcYYAihAL4ChniQEtbtCqhCjMpKDkvmMYjMWaQHkolX\n",
       "YOhvAEurb4WqgwiFMTAUMPgxMNRdYPwFFNQXYNBfAJE3PwqhIUKdAQwKDHkMDJkMDJ+Bgv7v3v2E\n",
       "WXjlFJiCCLF/02IAqUtjYPgEFPzGwPoJ7tiWpwxwIdbt/w8g1AFFmL8i1KUywIWWMjB/RFL3g4H9\n",
       "ANzeVyASKnSJgeExkr0/GG7CAt0c4jyoEBBngRS5QdS9ZS2EKoOHC0SoW0m7QW7mU7mfD6/9fMDA\n",
       "EKMDCRVWdXg4w4SwgnADBrIAAH8VWkLfh66CAAAAAElFTkSuQmCC\n",
       "\" style=\"display:inline;vertical-align:middle;\" /></a></span>"
      ],
      "text/plain": [
       "{theta in RealNeg} |- sin(theta) > theta"
      ]
     },
     "metadata": {},
     "output_type": "display_data"
    }
   ],
   "source": [
    "Sin(theta).deduce_linear_lower_bound(assumptions=[InSet(theta, RealNeg)])"
   ]
  },
  {
   "cell_type": "code",
   "execution_count": 19,
   "metadata": {},
   "outputs": [
    {
     "data": {
      "text/html": [
       "<span style=\"font-size:20px;\"><a class=\"ProveItLink\" href=\"../__pv_it/theorems/ef272b037cafb6f3300feb4db1d8ccc9a158fca00/expr.ipynb\"><img src=\"data:image/png;base64,iVBORw0KGgoAAAANSUhEUgAAAEgAAAAUBAMAAADcj2b4AAAAMFBMVEX///9mZmYQEBAyMjLc3NxU\n",
       "VFSqqqq6uroiIiLu7u6YmJhERETMzMx2dnaIiIgAAACOKrHUAAAAAXRSTlMAQObYZgAAAAlwSFlz\n",
       "AAAOxAAADsQBlSsOGwAAAURJREFUKM9jYMALsh0Y7r5lIKDmAQPXA/YNeNWsXsDAwHSA4Qs+Na8T\n",
       "gIT/BAY1LHKLtfdbaAPNOARSw3B+AkMXkOK7ewBV1QZXhtLVExjY9k6AKNIDUrs4G9AU+TJw8wQw\n",
       "MLCDVAGt+8bAwLuB4Q+GIkYHAyCDJ9AB6vDzBSClIGt3dDQjFIH9zRI6ge8BO9DQCAbOXyABdrsJ\n",
       "CJNYZwaAmSwMDHcfTmDg/MfA/h3Ed56AZN3pZAdkB/D9YeADh5YJwk1OFj9eoriS+WtovAKIYYDk\n",
       "8FWTgdTp3UAAMZB/A8P8ByCfaHR0dHRDFXHPWoBiElDFepBrODcgmcQjsBNVUQFDI5jRgBxOMt4o\n",
       "ivgL2DTBjHfIimbzodjHmjADEnXMCXBFjgxcC7YjK+KUE4EyoivhqWALw277BKzJh/02NFowAADH\n",
       "0GKa5cOa9wAAAABJRU5ErkJggg==\n",
       "\" style=\"display:inline;vertical-align:middle;\" /></a> <a class=\"ProveItLink\" href=\"../__pv_it/demonstrations/0027eebc2b2229837a53ebbb96e8209b9edfd1f80/proof.ipynb\" style=\"text-decoration: none\">&nbsp;&#x22A2;&nbsp;&nbsp;</a><a class=\"ProveItLink\" href=\"../__pv_it/demonstrations/c1a8540339980f742c44687d3b35de4f4c77a9610/expr.ipynb\"><img src=\"data:image/png;base64,iVBORw0KGgoAAAANSUhEUgAAAE0AAAARBAMAAABqazwPAAAAMFBMVEX///8AAAAAAAAAAAAAAAAA\n",
       "AAAAAAAAAAAAAAAAAAAAAAAAAAAAAAAAAAAAAAAAAAAv3aB7AAAAD3RSTlMAMnZmzRC73UTvIomZ\n",
       "VKu7zOipAAAACXBIWXMAAA7EAAAOxAGVKw4bAAABFElEQVQoz2NgAAKuyQwIoL2RAR3AhDj+IMTY\n",
       "DMJBVIgBhhAQBCAEtzHwCwAp1u0K6EIogPEHA/8FMEt9K4YQEuArYIiHWmm+FVmIUVnJYck8BpE5\n",
       "i/RANsUrMPQ3QPVcOQWmIEJhDAwFDH4MDHUXGH8BBfUFGPQXwAxvecoAF+oMYFBgyGNgyGRg+AwU\n",
       "9H/37ifcES2pDHAh9m9aDCB1aQwMn4CC3xhYP8GUXXkFpiBCrNv/H0CoA4owf4UqMz8KpqBCSxmY\n",
       "PyKp+8HAfoABJVygQpcYGB4j2fuD4SY40JHCGSIExFkgRW4QdW9ZCxnQ4g0i1K2k3SA386ncz4fX\n",
       "fj5gYIjRWYAe9FiEaAfCy0GgEM4HALPQXdUr7nyWAAAAAElFTkSuQmCC\n",
       "\" style=\"display:inline;vertical-align:middle;\" /></a></span>"
      ],
      "text/plain": [
       "{theta in RealNonPos} |- sin(theta) >= theta"
      ]
     },
     "metadata": {},
     "output_type": "display_data"
    }
   ],
   "source": [
    "Sin(theta).deduce_linear_lower_bound(assumptions=[InSet(theta, RealNonPos)])"
   ]
  },
  {
   "cell_type": "markdown",
   "metadata": {},
   "source": [
    "#### Deducing upper bounds: distinguishing between $\\sin{\\theta} < \\theta$ vs. $\\sin{\\theta} < \\frac{2}{\\pi}\\theta$ depending on domain"
   ]
  },
  {
   "cell_type": "code",
   "execution_count": 20,
   "metadata": {},
   "outputs": [
    {
     "data": {
      "text/html": [
       "<span style=\"font-size:20px;\"><a class=\"ProveItLink\" href=\"../__pv_it/demonstrations/d2d231224210848a5c4386b97ba5bc9be9ee555a0/expr.ipynb\"><img src=\"data:image/png;base64,iVBORw0KGgoAAAANSUhEUgAAAD8AAAAQBAMAAABTi7oPAAAAMFBMVEX///8AAAAAAAAAAAAAAAAA\n",
       "AAAAAAAAAAAAAAAAAAAAAAAAAAAAAAAAAAAAAAAAAAAv3aB7AAAAD3RSTlMAdokyu2YQ3URUqyLN\n",
       "75mYuQMGAAAACXBIWXMAAA7EAAAOxAGVKw4bAAAA7UlEQVQoz2NgwAAxV/yPXwlAEmBUMkBV4bCL\n",
       "oSskAcF3ZStAU7CJgYV5AYOJCxBsYGBgcmD4jKGAb8MBONe+geEnxCr38hqEAge4guUMbF9BNMfB\n",
       "BIQJXGkLYPJsHxk4foAYexKQrDCZswHuh88MjL9BjNMIN+w9/l0MzuP5tWr9BRDjAJIjQ3MQTuZ3\n",
       "YMgXANLM18vLy0ugClhSEQEFlI0H2c7mgGQC8wM3hIIGhjowowA5HB5vQVjRwHkNzBBEVpDCCLeD\n",
       "a0I6JCp4JsAV7GNgDfCAh8PD11DGkjZ4bHozuJyfgBHNHCrQoEYBAKaxQ5P9Q/U4AAAAAElFTkSu\n",
       "QmCC\n",
       "\" style=\"display:inline;vertical-align:middle;\" /></a>, <a class=\"ProveItLink\" href=\"../__pv_it/demonstrations/33676741ebe0e97f8c10d86ac4d974ec77ad76de0/expr.ipynb\"><img src=\"data:image/png;base64,iVBORw0KGgoAAAANSUhEUgAAAFQAAAAlBAMAAAAuO9OWAAAAMFBMVEX////MzMxUVFRERES6uroi\n",
       "IiIQEBCYmJhmZmYyMjLu7u52dnaqqqqIiIjc3NwAAACW8nlqAAAAAXRSTlMAQObYZgAAAAlwSFlz\n",
       "AAAOxAAADsQBlSsOGwAAAZVJREFUOMtjYCACcOf///+/gRiVDLt9NtYKEqWS8QDvg4sMRAJmBi1i\n",
       "lQoxBBCrtJ3hA5EquX4xfAEzHqAI82FRyhvA8BtMH0ARZrmAxVcHGLRB9Glk7bsFGK7jdscEJI45\n",
       "VwAD5wJcSjkKkCLQgOEjAzvOGGRDYss7MPxhYMhCCJxE8fJJJLYqA9d3BobpcH5pF4qp3UjO/svA\n",
       "Agy/TTD+1V2oDpiO5P+PDLz/GBgqoRq3ogdbDILJ+UlJP4GB4RgkKloL0L2VAtQ/NRQEBPgNGNYD\n",
       "TZIHi2siYob/PxiAlMIAUF09MFDd0JViccB6B4YIIHUUlwNsEUx+Bx5QmBbj8tYmBJPpwFIBpODj\n",
       "unoLVakoUrj29oGoEEQUoAYsqwCaNXxIeaMSGrEvOg2BJEbq4MDwDgOfAcN+ByBthyb+GDNJMT1g\n",
       "YAPGDcNiNHE7LKnvFwPTP5DpqGHC+wCLqQEMTB+Jzd0MrB+IVip/gWilQUSr5DAgWmkR0Sp5NjC8\n",
       "I1KpNAPDLeJU8kV0dBBZarICs8sEBgBoAmJ2wah3yQAAAABJRU5ErkJggg==\n",
       "\" style=\"display:inline;vertical-align:middle;\" /></a> <a class=\"ProveItLink\" href=\"../__pv_it/demonstrations/bbe9f3aafef0e7dc002bdf61d44b82c6015e6cd60/proof.ipynb\" style=\"text-decoration: none\">&nbsp;&#x22A2;&nbsp;&nbsp;</a><a class=\"ProveItLink\" href=\"../__pv_it/theorems/25b9cc4bcfbb5b2ff6289ab7dcc5b9de119c74a40/expr.ipynb\"><img src=\"data:image/png;base64,iVBORw0KGgoAAAANSUhEUgAAAGkAAAArBAMAAACJPLtuAAAAMFBMVEX///9UVFSqqqpmZmZ2dnbc\n",
       "3NwQEBC6uroiIiJERETu7u4yMjKYmJiIiIjMzMwAAAAFQiFKAAAAAXRSTlMAQObYZgAAAAlwSFlz\n",
       "AAAOxAAADsQBlSsOGwAAAbBJREFUSMfdk79LAmEYx7+Kkh7nqVEQEnlDBA2B4FLQ0NBQiwgt/aAh\n",
       "AqdAiWjNsKGhjIaCtgsbbLKCBpfyHwiMbMvUOQih8lC7Lg+58y3ses8p+g4vzwP3ed/n3vsc8Hus\n",
       "/nSRaHMB0GQOFrHV2TNJKqoXCLW6aTiLNFRYgDeoNpwIJ09D9QFebXtTFKkM6LKnVaksNiJ0ECdp\n",
       "ZaGIQpCOsrm08trtrlAOOKYsTF1Zq2AkOohtHhVTUAlsjY4ahFV9FUaEzUd3FxNwCGojYkigomb9\n",
       "/lGt6WbilB9Llutak7hTh7WuGFca6Hppr7T5UhcT2irNxgTKYwmlHVu0EKH0ya7e5g/5s4UlPC0v\n",
       "3mZJpRM7epufAlGcA5s890YofXyhO9K6gCz2gUPgnVDapE/ZqvdQqCNAIpWe0Z2QmZJ9LYpQWrsN\n",
       "p/w9ZcyD/SAoQmm9mx8B+okJSaV1vnLjoQMFSTepL0qbr36i1vK5SCnkKVUGhisuUum/nuS2kjj+\n",
       "fyzhhks+o9TkauDm2SjE8Y7gYwcj2uHpgCo1fnrjGUfZOMTUIBqnHFG8dnAZPHrU+hNgXpgAOze2\n",
       "eQAAAABJRU5ErkJggg==\n",
       "\" style=\"display:inline;vertical-align:middle;\" /></a></span>"
      ],
      "text/plain": [
       "{theta in RealNeg, (-theta) < (pi / 2)} |- sin(theta) <= ((2 * theta) / pi)"
      ]
     },
     "metadata": {},
     "output_type": "display_data"
    }
   ],
   "source": [
    "Sin(theta).deduce_linear_upper_bound(assumptions=[InSet(theta, RealNeg), Less(Neg(theta), Div(pi, two))])"
   ]
  },
  {
   "cell_type": "code",
   "execution_count": 21,
   "metadata": {},
   "outputs": [
    {
     "data": {
      "text/html": [
       "<span style=\"font-size:20px;\"><a class=\"ProveItLink\" href=\"../__pv_it/demonstrations/d2d231224210848a5c4386b97ba5bc9be9ee555a0/expr.ipynb\"><img src=\"data:image/png;base64,iVBORw0KGgoAAAANSUhEUgAAAD8AAAAQBAMAAABTi7oPAAAAMFBMVEX///8AAAAAAAAAAAAAAAAA\n",
       "AAAAAAAAAAAAAAAAAAAAAAAAAAAAAAAAAAAAAAAAAAAv3aB7AAAAD3RSTlMAdokyu2YQ3URUqyLN\n",
       "75mYuQMGAAAACXBIWXMAAA7EAAAOxAGVKw4bAAAA7UlEQVQoz2NgwAAxV/yPXwlAEmBUMkBV4bCL\n",
       "oSskAcF3ZStAU7CJgYV5AYOJCxBsYGBgcmD4jKGAb8MBONe+geEnxCr38hqEAge4guUMbF9BNMfB\n",
       "BIQJXGkLYPJsHxk4foAYexKQrDCZswHuh88MjL9BjNMIN+w9/l0MzuP5tWr9BRDjAJIjQ3MQTuZ3\n",
       "YMgXANLM18vLy0ugClhSEQEFlI0H2c7mgGQC8wM3hIIGhjowowA5HB5vQVjRwHkNzBBEVpDCCLeD\n",
       "a0I6JCp4JsAV7GNgDfCAh8PD11DGkjZ4bHozuJyfgBHNHCrQoEYBAKaxQ5P9Q/U4AAAAAElFTkSu\n",
       "QmCC\n",
       "\" style=\"display:inline;vertical-align:middle;\" /></a> <a class=\"ProveItLink\" href=\"../__pv_it/demonstrations/777107b6666facbbc6b3fb1b466fabb93b8cd7f70/proof.ipynb\" style=\"text-decoration: none\">&nbsp;&#x22A2;&nbsp;&nbsp;</a><a class=\"ProveItLink\" href=\"../__pv_it/demonstrations/10348be47362843b3101d28f843f423c1de7b71d0/expr.ipynb\"><img src=\"data:image/png;base64,iVBORw0KGgoAAAANSUhEUgAAAHcAAAAVBAMAAACOK2zoAAAAMFBMVEX///8AAAAAAAAAAAAAAAAA\n",
       "AAAAAAAAAAAAAAAAAAAAAAAAAAAAAAAAAAAAAAAAAAAv3aB7AAAAD3RSTlMAMnZmzRC73UTvIomZ\n",
       "VKu7zOipAAAACXBIWXMAAA7EAAAOxAGVKw4bAAABuUlEQVQ4y5WUP0vDQBiHf2n6v8Z2cC6hblZt\n",
       "PoBDHXQQ1AzFDhbbSdBBWh0cFClu4mDBSRApRXFx0EXXQr9AcRDcKuJo0YqlFUGTu6SXawLad3lz\n",
       "l+dJLvfeG4CPYF92uGVE2U6Einy2xAQ/3DefeczL8RsHWbq2DDTCpdBL/zcne5W0VZbmSEpZXJ3A\n",
       "jDFQOfkW4QiTxV16t2aRdQJTTt8sdBCu92TXjvHkEoMIgYDqIA/nkVVMeXnTXHySQYSAW4EwGkue\n",
       "n2HktDIpUzkr46hoyJktUxiy7BchEGpgCchjAdirC19UTkSQKFN5Zb4nuBUmEwJiEgcqZGwAa8AH\n",
       "lRebza6x28NM9tWZTAhIJfjaY9DlVaBF5TY8LbNUV71lB7SJ1LYeBUpAeIPn7qfKydq8+AnbhgVY\n",
       "4SkBfwkXEN95uQNfFbZSWZZNCUh53APP/LI7eFRhOyRemX0zISDm9LSum7M9+dVT4BpDmiYHoMFk\n",
       "QujFO4zFi9GTl2j36aHbIFJmvOzQVUKeXRMCvuL/W7LQP3E5QD/b+qD2h5w2Ckt2rO/XEcwN8GZP\n",
       "H+y1/4dcET5bosIPtYP5C2XxhxXRh/99AAAAAElFTkSuQmCC\n",
       "\" style=\"display:inline;vertical-align:middle;\" /></a></span>"
      ],
      "text/plain": [
       "{theta in RealNeg} |- sin(|theta|) <= (-theta)"
      ]
     },
     "metadata": {},
     "output_type": "display_data"
    }
   ],
   "source": [
    "Sin(Abs(theta)).deduce_linear_upper_bound(assumptions=[InSet(theta, RealNeg)],\n",
    "        preserve_expr=Sin(Abs(theta)))"
   ]
  },
  {
   "cell_type": "code",
   "execution_count": 22,
   "metadata": {},
   "outputs": [
    {
     "data": {
      "text/html": [
       "<span style=\"font-size:20px;\"><a class=\"ProveItLink\" href=\"../__pv_it/demonstrations/e6b70d495f8afdad31e7730973d3895699c64e380/expr.ipynb\"><img src=\"data:image/png;base64,iVBORw0KGgoAAAANSUhEUgAAAD8AAAATBAMAAADVH8ihAAAAMFBMVEX///8AAAAAAAAAAAAAAAAA\n",
       "AAAAAAAAAAAAAAAAAAAAAAAAAAAAAAAAAAAAAAAAAAAv3aB7AAAAD3RSTlMAdokyu2YQ3URUqyLN\n",
       "75mYuQMGAAAACXBIWXMAAA7EAAAOxAGVKw4bAAAA90lEQVQoz2NgwAP4GAgAFjIVxFzxP34lAEkB\n",
       "o5IBqgqHXQxdIQkIBa5sBWgKNjGwMC9geOLi6+ICNInJgeEzhgK+DQfgJtg3MPyESIiUlx+AK3CA\n",
       "K1jOwPYVzOgRQ5jAlbYApoDtIwPHDxCD+xiSFSZzNsAUMH5mYPwNYvBsgCvYe/y7GDwkeX6tWn8B\n",
       "zEByZGgOwsn8Dgz5AiCGbTkQOEAUsKQGwBUAZeNBgcKQgmQC8wM3hIIGhjowgx05HB5vQVjRwHkN\n",
       "EuICSApSGOF2cE1Ih0bFSbiCfQysAR4wHtvD11BWlkcCLDa9GVzOT8CM5yZ3SFCjAAAyfENlIMyr\n",
       "qgAAAABJRU5ErkJggg==\n",
       "\" style=\"display:inline;vertical-align:middle;\" /></a> <a class=\"ProveItLink\" href=\"../__pv_it/demonstrations/fb40ad36185d050c05cd92c0124c00195b80dcc80/proof.ipynb\" style=\"text-decoration: none\">&nbsp;&#x22A2;&nbsp;&nbsp;</a><a class=\"ProveItLink\" href=\"../__pv_it/theorems/63367b7fbdb543d443a0fd0433e06ac846ac92440/expr.ipynb\"><img src=\"data:image/png;base64,iVBORw0KGgoAAAANSUhEUgAAAE0AAAAQBAMAAAChN++qAAAAMFBMVEX///8AAAAAAAAAAAAAAAAA\n",
       "AAAAAAAAAAAAAAAAAAAAAAAAAAAAAAAAAAAAAAAAAAAv3aB7AAAAD3RSTlMAMnZmzRC73UTvIomZ\n",
       "VKu7zOipAAAACXBIWXMAAA7EAAAOxAGVKw4bAAABEElEQVQoz2NgAAKuyQwIoL2RAR3AhDj+IMTY\n",
       "DMLRlSGEAhCC2xj4BdDUYRFiYPzBwH8BxuH1whCCAb4ChngDKJu5JgAhxKis5LBkHoPInEV6CkDB\n",
       "eAWG/gaIMqZqiHMgQmEMDAUMfgwMdRcYfwEF9QUY9BeApaOLoMZChDoDGBQY8hgYMhkYPgMF/d+9\n",
       "+wmWXVMMcwpEiP2bFgNIXRoDwyeg4DcG1k9gR/nCnQwRYt3+/wBCHVCE+SuqOqjQUgbmj0jqfjCw\n",
       "H0C1Fyp0iYHhMZK9PxhuQgMd7g+IEBBngRS5QdS9ZS2EWRhUBNEBEepW0m6Qm/lU7ufDaz8fMDDE\n",
       "6CyAe4AZEoDIQtgBsxcDqQAA7C5XXCzwSVUAAAAASUVORK5CYII=\n",
       "\" style=\"display:inline;vertical-align:middle;\" /></a></span>"
      ],
      "text/plain": [
       "{theta in RealPos} |- sin(theta) < theta"
      ]
     },
     "metadata": {},
     "output_type": "display_data"
    }
   ],
   "source": [
    "Sin(theta).deduce_linear_upper_bound(assumptions=[InSet(theta, RealPos)])"
   ]
  },
  {
   "cell_type": "code",
   "execution_count": 23,
   "metadata": {},
   "outputs": [
    {
     "data": {
      "text/html": [
       "<span style=\"font-size:20px;\"><a class=\"ProveItLink\" href=\"../__pv_it/theorems/6c480b5b7b83da4785d9ba6b852ad31bb3f5ebd40/expr.ipynb\"><img src=\"data:image/png;base64,iVBORw0KGgoAAAANSUhEUgAAAEgAAAAUBAMAAADcj2b4AAAAMFBMVEX///9mZmYQEBAyMjLc3NxU\n",
       "VFSqqqq6uroiIiLu7u6YmJhERETMzMx2dnaIiIgAAACOKrHUAAAAAXRSTlMAQObYZgAAAAlwSFlz\n",
       "AAAOxAAADsQBlSsOGwAAAUZJREFUKM9jYMAJTheAqbtvGfAAztsJQJLrAfsGfKoYXi9gYGA6wPAF\n",
       "ryKG1Q8Y/CcwqGGRWay930J7AYS9yOH8BIYuIIPv7gFUVRtcGUpXTwCx5m5nACrSA7J2cTagKfJl\n",
       "4OYJADIcYxhA1n1jYODdwPAHQxGjgwEDgytQDdTh5wtASkHW7uhoRijawDBVBCz6gB1oaAQD5y8Q\n",
       "j91uAsIk1pkBDDMhvLsPJzBw/mNg/w7iOE9Asu50sgOyA/j+MPCBQ8sE4SYnix8vUVzJ/DU0XgHE\n",
       "MEBy+KrJoLjbDQQQA/k3MMx/AKR5NDo6OrqhirhnLUAxCahiPcg1nBuQTOIR2ImqqIChEcxoQA4n\n",
       "GW8URfwFbJpgxjtkRbP5UOxjTZgBiTrmBLgiRwauBdtRkpacCJQRXQlPBVsYdtsnYE087Leh0YIB\n",
       "ABB8YwakisJ6AAAAAElFTkSuQmCC\n",
       "\" style=\"display:inline;vertical-align:middle;\" /></a> <a class=\"ProveItLink\" href=\"../__pv_it/demonstrations/21ca08f680c5b475ba5f20ed73a5ea992e3893a00/proof.ipynb\" style=\"text-decoration: none\">&nbsp;&#x22A2;&nbsp;&nbsp;</a><a class=\"ProveItLink\" href=\"../__pv_it/theorems/34278941668c514548ff6526302f1c3c0dfcd6af0/expr.ipynb\"><img src=\"data:image/png;base64,iVBORw0KGgoAAAANSUhEUgAAAE0AAAARBAMAAABqazwPAAAAMFBMVEX///8AAAAAAAAAAAAAAAAA\n",
       "AAAAAAAAAAAAAAAAAAAAAAAAAAAAAAAAAAAAAAAAAAAv3aB7AAAAD3RSTlMAMnZmzRC73UTvIomZ\n",
       "VKu7zOipAAAACXBIWXMAAA7EAAAOxAGVKw4bAAABEUlEQVQoz2NgAAKuyQwIoL2RAR3AhDj+IMTY\n",
       "DMLhbF4vNKEAhLptDPwCUCZzTQC6EBww/mDgvwBhMlUHoAshAF8BQ7wBmBVdhCLEqKzksGQeg8ic\n",
       "RXoKQMF4BYb+BpBsTDFMK0QojIGhgMGPgaHuAuMvoKC+AIP+AiAd5wu3AiLUGcCgwJDHwJDJwPAZ\n",
       "KOj/7t1PsGUIdRAh9m9aDCB1aQwMn4CC3xhYP4Fl18DthQixbv9/AKEOKML8lQHFH1ChpQzMH5HU\n",
       "/WBgP8CAEi5QoUsMDI+R7P3BcBMe6NBwhggBcRZIkRtE3VvWQkRg8joywIW6lbQb5GY+lfv58NrP\n",
       "B8Bg01mAHvRYhGgHwstBAOFWACHBWjIPEUIhAAAAAElFTkSuQmCC\n",
       "\" style=\"display:inline;vertical-align:middle;\" /></a></span>"
      ],
      "text/plain": [
       "{theta in RealNonNeg} |- sin(theta) <= theta"
      ]
     },
     "metadata": {},
     "output_type": "display_data"
    }
   ],
   "source": [
    "Sin(theta).deduce_linear_upper_bound(assumptions=[InSet(theta, RealNonNeg)])"
   ]
  },
  {
   "cell_type": "code",
   "execution_count": 24,
   "metadata": {},
   "outputs": [
    {
     "data": {
      "text/html": [
       "<span style=\"font-size:20px;\"><a class=\"ProveItLink\" href=\"../__pv_it/demonstrations/36df57631042b8b81d2319c6029c8fda14341da90/expr.ipynb\"><img src=\"data:image/png;base64,iVBORw0KGgoAAAANSUhEUgAAAG4AAAAmBAMAAADXfrPJAAAAMFBMVEX///8AAAAAAAAAAAAAAAAA\n",
       "AAAAAAAAAAAAAAAAAAAAAAAAAAAAAAAAAAAAAAAAAAAv3aB7AAAAD3RSTlMAdokyu2YQ3URUqyLN\n",
       "75mYuQMGAAAACXBIWXMAAA7EAAAOxAGVKw4bAAACX0lEQVRIx41Vz2sTQRR+a8w0u0maiOBBRELs\n",
       "sWDQg+Ali7aInvQkiJJ66km6FGFBpeQkeOr8By2lKIhgoEdFI/jj4CUgKCpoFTyItZiWBqNinLfT\n",
       "ducN86Rz2XnzzTdv3nvfvAVwj6/ADvGcx4bn0/muj4PBYNkAj02wvIvGvHrr0LmjJpid52iZ18Zc\n",
       "eq29FD7N8QoV09oNtyl8hbvoHAGOQ8RHT8Y0sb7ADwrnfzPh9Ujee/DT2nDCzQtC0/IiWLM2XHLz\n",
       "SmdJWiQsWBseSzyvWrOW6y22sNWDiA2hDMaFlS5osLSCFNcxoW0loxDWLfQeyzsPMIJXVAmuN6Gv\n",
       "4z8V39DoO5Z3RtfWV57ugNjApdyT7WKvsby/yo/KSaYPogu5pDwPU41ssE8IeSrZypO3Dl5S/pep\n",
       "HPocL69uUi+rSRcKv+7e7+BaO5XL/3mVJJJSCFN4QuZNHMdXEzS5t3gR46hBaZAMfU/Fmy0ncSpS\n",
       "AyMT4Q78YV7mpOY1YSZZinbCGwPtpQulpq8f9540Cnc+J7SgV3TGAzlZ25TQdra7zhr8QWFK8Upn\n",
       "XHz6trm+eHNrywenv1g5FJ/3o5eM+SBzI1s6e0oJj1ZO4sdPheH3nCd/p0UL4XAT+6jRUiMnr0Ha\n",
       "UtCCIirjsvGU3Y1pSppWsQcBKrHMNYT0uGXiL4LAeqGz7oaQ7VgLQ1YjHGWei9336mVqv2XkZJ93\n",
       "jZpeh+EVaYcbDi1YMrxsm5gXLPgAq/tnpuFX4AERwnuWN2km+gjAPgJKlpc3/uH5mdVVoqtx/v8O\n",
       "S0bxVJcw4xUo1n8OjJqc79941wAAAABJRU5ErkJggg==\n",
       "\" style=\"display:inline;vertical-align:middle;\" /></a> <a class=\"ProveItLink\" href=\"../__pv_it/demonstrations/777b62a212f44753d687d1d1d59b6d5c12c0be3a0/proof.ipynb\" style=\"text-decoration: none\">&nbsp;&#x22A2;&nbsp;&nbsp;</a><a class=\"ProveItLink\" href=\"../__pv_it/theorems/25b9cc4bcfbb5b2ff6289ab7dcc5b9de119c74a40/expr.ipynb\"><img src=\"data:image/png;base64,iVBORw0KGgoAAAANSUhEUgAAAGkAAAArBAMAAACJPLtuAAAAMFBMVEX///9UVFSqqqpmZmZ2dnbc\n",
       "3NwQEBC6uroiIiJERETu7u4yMjKYmJiIiIjMzMwAAAAFQiFKAAAAAXRSTlMAQObYZgAAAAlwSFlz\n",
       "AAAOxAAADsQBlSsOGwAAAbBJREFUSMfdk79LAmEYx7+Kkh7nqVEQEnlDBA2B4FLQ0NBQiwgt/aAh\n",
       "AqdAiWjNsKGhjIaCtgsbbLKCBpfyHwiMbMvUOQih8lC7Lg+58y3ses8p+g4vzwP3ed/n3vsc8Hus\n",
       "/nSRaHMB0GQOFrHV2TNJKqoXCLW6aTiLNFRYgDeoNpwIJ09D9QFebXtTFKkM6LKnVaksNiJ0ECdp\n",
       "ZaGIQpCOsrm08trtrlAOOKYsTF1Zq2AkOohtHhVTUAlsjY4ahFV9FUaEzUd3FxNwCGojYkigomb9\n",
       "/lGt6WbilB9Llutak7hTh7WuGFca6Hppr7T5UhcT2irNxgTKYwmlHVu0EKH0ya7e5g/5s4UlPC0v\n",
       "3mZJpRM7epufAlGcA5s890YofXyhO9K6gCz2gUPgnVDapE/ZqvdQqCNAIpWe0Z2QmZJ9LYpQWrsN\n",
       "p/w9ZcyD/SAoQmm9mx8B+okJSaV1vnLjoQMFSTepL0qbr36i1vK5SCnkKVUGhisuUum/nuS2kjj+\n",
       "fyzhhks+o9TkauDm2SjE8Y7gYwcj2uHpgCo1fnrjGUfZOMTUIBqnHFG8dnAZPHrU+hNgXpgAOze2\n",
       "eQAAAABJRU5ErkJggg==\n",
       "\" style=\"display:inline;vertical-align:middle;\" /></a></span>"
      ],
      "text/plain": [
       "{theta in (-(pi / 2),0)} |- sin(theta) <= ((2 * theta) / pi)"
      ]
     },
     "metadata": {},
     "output_type": "display_data"
    }
   ],
   "source": [
    "Sin(theta).deduce_linear_upper_bound(assumptions=[InSet(theta, IntervalOO(Neg(frac(pi, two)), zero))])"
   ]
  },
  {
   "cell_type": "code",
   "execution_count": 25,
   "metadata": {},
   "outputs": [
    {
     "data": {
      "text/html": [
       "<span style=\"font-size:20px;\"><a class=\"ProveItLink\" href=\"../__pv_it/demonstrations/83fd9d3bffca7e4e494ec7dae4419ffd2d474bc40/expr.ipynb\"><img src=\"data:image/png;base64,iVBORw0KGgoAAAANSUhEUgAAAGkAAAAmBAMAAAA1oqiwAAAAMFBMVEX///8AAAAAAAAAAAAAAAAA\n",
       "AAAAAAAAAAAAAAAAAAAAAAAAAAAAAAAAAAAAAAAAAAAv3aB7AAAAD3RSTlMAdokyu2YQ3URUqyLN\n",
       "75mYuQMGAAAACXBIWXMAAA7EAAAOxAGVKw4bAAABsklEQVRIx53VPUjDQBQH8H+0nP1uRHBwkFK7\n",
       "W3RzaUBFcNJJEMQ4OTaDEFApnQQnM7sURBRc7K5InRxcBEFHP8DJUqrF4hfGe9cibalNLjc09IUf\n",
       "797duwvQYeTtN/w7oratd3yx2/yn58627fvmSMSFSmyPzI9DUvVaSmEAsgrw4cCDmoDhQT2hIq9Y\n",
       "De/ySjHwKq98FvY6KCWR6lpXy+YNFxpqmhluVdhiG3XVo6HqVi0AybpK5/BRL3vG3HRQs7yzdaEO\n",
       "wUSH+891x1w/PIlFir3AL/bjVHecISM1R0qpQvmi0KVzXSG+cWmVVPjz6PiKQkWXKk4qpiGj0om4\n",
       "NU1z7U+xC5NGCjFbjPoMudoRuThZpoqY5mLleV15sRqZHLIiYrhQU6AUNMNc4EZE+h0UTWgJKIld\n",
       "DlqrqUa3dFXsm//0WexaKPbw3Ajvb3XNZfJk7HEo1XZS/MnOHXVWmqRHQJc5XyENozm6F6VOZbCA\n",
       "CLXBipSK1BCkllPlchkIVuVvNr7gFS8qrXpR6x7uXkQ1L2oRHlQgjhN5NQYMulEt3+VQtlw23HyX\n",
       "WzeLn/9iW+wXAo+OQVQk/QoAAAAASUVORK5CYII=\n",
       "\" style=\"display:inline;vertical-align:middle;\" /></a> <a class=\"ProveItLink\" href=\"../__pv_it/demonstrations/a683c8eb657686550ed2e5ab085a2c4fa505097b0/proof.ipynb\" style=\"text-decoration: none\">&nbsp;&#x22A2;&nbsp;&nbsp;</a><a class=\"ProveItLink\" href=\"../__pv_it/theorems/25b9cc4bcfbb5b2ff6289ab7dcc5b9de119c74a40/expr.ipynb\"><img src=\"data:image/png;base64,iVBORw0KGgoAAAANSUhEUgAAAGkAAAArBAMAAACJPLtuAAAAMFBMVEX///9UVFSqqqpmZmZ2dnbc\n",
       "3NwQEBC6uroiIiJERETu7u4yMjKYmJiIiIjMzMwAAAAFQiFKAAAAAXRSTlMAQObYZgAAAAlwSFlz\n",
       "AAAOxAAADsQBlSsOGwAAAbBJREFUSMfdk79LAmEYx7+Kkh7nqVEQEnlDBA2B4FLQ0NBQiwgt/aAh\n",
       "AqdAiWjNsKGhjIaCtgsbbLKCBpfyHwiMbMvUOQih8lC7Lg+58y3ses8p+g4vzwP3ed/n3vsc8Hus\n",
       "/nSRaHMB0GQOFrHV2TNJKqoXCLW6aTiLNFRYgDeoNpwIJ09D9QFebXtTFKkM6LKnVaksNiJ0ECdp\n",
       "ZaGIQpCOsrm08trtrlAOOKYsTF1Zq2AkOohtHhVTUAlsjY4ahFV9FUaEzUd3FxNwCGojYkigomb9\n",
       "/lGt6WbilB9Llutak7hTh7WuGFca6Hppr7T5UhcT2irNxgTKYwmlHVu0EKH0ya7e5g/5s4UlPC0v\n",
       "3mZJpRM7epufAlGcA5s890YofXyhO9K6gCz2gUPgnVDapE/ZqvdQqCNAIpWe0Z2QmZJ9LYpQWrsN\n",
       "p/w9ZcyD/SAoQmm9mx8B+okJSaV1vnLjoQMFSTepL0qbr36i1vK5SCnkKVUGhisuUum/nuS2kjj+\n",
       "fyzhhks+o9TkauDm2SjE8Y7gYwcj2uHpgCo1fnrjGUfZOMTUIBqnHFG8dnAZPHrU+hNgXpgAOze2\n",
       "eQAAAABJRU5ErkJggg==\n",
       "\" style=\"display:inline;vertical-align:middle;\" /></a></span>"
      ],
      "text/plain": [
       "{theta in [-(pi / 2),0]} |- sin(theta) <= ((2 * theta) / pi)"
      ]
     },
     "metadata": {},
     "output_type": "display_data"
    }
   ],
   "source": [
    "Sin(theta).deduce_linear_upper_bound(assumptions=[InSet(theta, IntervalCC(Neg(frac(pi, two)), zero))])"
   ]
  },
  {
   "cell_type": "markdown",
   "metadata": {},
   "source": [
    "### Magnitudes and lengths"
   ]
  },
  {
   "cell_type": "markdown",
   "metadata": {},
   "source": [
    "Using the circle choord length formula"
   ]
  },
  {
   "cell_type": "code",
   "execution_count": 26,
   "metadata": {},
   "outputs": [
    {
     "data": {
      "text/html": [
       "<span style=\"font-size:20px;\"><a class=\"ProveItLink\" href=\"../__pv_it/demonstrations/1294e4ba296032dc32e87ff2174a12fc7b934d990/expr.ipynb\"><img src=\"data:image/png;base64,iVBORw0KGgoAAAANSUhEUgAAAD4AAAATBAMAAAA63aOfAAAAMFBMVEX///9UVFSqqqqIiIi6urru\n",
       "7u4iIiIyMjIQEBCYmJhmZmbc3NxERER2dnbMzMwAAAAssMphAAAAAXRSTlMAQObYZgAAAAlwSFlz\n",
       "AAAOxAAADsQBlSsOGwAAAM5JREFUKM9jYMADFjDgBwfIkeesOPM94yQe/TzcAiySR/HJX2A48JCB\n",
       "68yZnjMnccivZsfUb5OWVgCX58GQdzdF0i8aCJPnu8O9dgKQ5i5FMp/vUDVMnpdnLW8DkGbfgJBv\n",
       "z08OgIXfTvYErgsgeST33ZxaAOc95Z8Apl+kAcEBqPlHZyLc5Q82iiEG2X+veALg3GUQig1Znus1\n",
       "wmu5EIrZAEme9YAljMf9BcooQsgvYJjJ4wDlsSRAGYFHAmDx92cDz/FPGOHueyytAEMQAMwLQKHK\n",
       "tRXGAAAAAElFTkSuQmCC\n",
       "\" style=\"display:inline;vertical-align:middle;\" /></a>, <a class=\"ProveItLink\" href=\"../../numbers/ordering/__pv_it/theorems/4aa8d696b1f407d6126de9f51a052e8d90e0848c0/expr.ipynb\"><img src=\"data:image/png;base64,iVBORw0KGgoAAAANSUhEUgAAADMAAAAQBAMAAABJt1qBAAAAMFBMVEX////MzMwyMjKqqqoiIiJm\n",
       "ZmaYmJju7u5EREQQEBC6urqIiIh2dnZUVFTc3NwAAAAqL9KcAAAAAXRSTlMAQObYZgAAAAlwSFlz\n",
       "AAAOxAAADsQBlSsOGwAAAM1JREFUGNNjYMAASTP6VWYkMGAFDW8Z1mYUYJd6w8DBeAGXFOsDBRSh\n",
       "HS4uCnCpBmSZRdsRunjLQQby3dm3ASTAp45koITRAyBj5QOO7yABpgdwqZcqX0AmsE9jYHUASyE5\n",
       "I60IRLN+YGA5AGJIugBBA0SKowzkZc4GhvoFIIEKJF2MAe1Aun4DQz5YgAXZX4EvQFIGDJeYQS7g\n",
       "3oAkVcENNJFjA7MrK1hEGS71lIEtoQvowtsH324Ei9R2FcBCvo+hQ98AOTjWtLgghxwApbZCEcpv\n",
       "FP8AAAAASUVORK5CYII=\n",
       "\" style=\"display:inline;vertical-align:middle;\" /></a>, <a class=\"ProveItLink\" href=\"../../numbers/ordering/__pv_it/theorems/6e5cad5b2984ed0d75bd47bd0c542ec447a4f3570/expr.ipynb\"><img src=\"data:image/png;base64,iVBORw0KGgoAAAANSUhEUgAAADEAAAAQBAMAAABNQoq8AAAAMFBMVEX///+YmJjMzMzc3NyIiIhU\n",
       "VFR2dna6urqqqqpmZmYyMjIiIiIQEBBERETu7u4AAAD7tRWPAAAAAXRSTlMAQObYZgAAAAlwSFlz\n",
       "AAAOxAAADsQBlSsOGwAAANZJREFUGNNjYEAHUmfvrz4rAGTw3dmAJnXBlKFU9gGQwTUBXcaMgZcp\n",
       "AMjgb8CU4TRYAGTUP4CK+O7evQAucwHIyIZKVPkh9LC+A5m21CUCxGdeh2SabpcB0G2/Hrw3ADnE\n",
       "AC5js/o3SD/HPwYeB5AMkgsEX4FozgUM/AlAWmc3EFyAyPA+BPmUO4GhHuTut0h6mCbcg3hnPsjd\n",
       "3Mj+mWQLklHgOwjiszggybxlARrHKsALCZ4VcBlLBkaB60BXh02ECDy9/gAW1pcZ7q5HDrOy25DQ\n",
       "gQIAY/lDzDbeA58AAAAASUVORK5CYII=\n",
       "\" style=\"display:inline;vertical-align:middle;\" /></a> <a class=\"ProveItLink\" href=\"../__pv_it/demonstrations/09f191a5ac589c8541c36d51e1e18592daa0cdff0/proof.ipynb\" style=\"text-decoration: none\">&nbsp;&#x22A2;&nbsp;&nbsp;</a><a class=\"ProveItLink\" href=\"../__pv_it/theorems/1bc3e331e6789e109619db4d3e4f4e48f738730b0/expr.ipynb\"><img src=\"data:image/png;base64,iVBORw0KGgoAAAANSUhEUgAAAXUAAAAyCAMAAACUCbuaAAAAM1BMVEX///9UVFQiIiKIiIh2dnbc\n",
       "3NxEREQyMjLu7u6qqqq6urqYmJhRUVHMzMwQEBBmZmYAAAAlkKENAAAAAXRSTlMAQObYZgAAAAlw\n",
       "SFlzAAAOxAAADsQBlSsOGwAABVlJREFUeNrlXOm6nCoQZAclLO//tBFE3AZtcbhOvPzId5IMXU0J\n",
       "vZTMQei1Q5gWVnn1FCUUev3AuolZ1ldPMeT1tGOGnmVdCUs2UzryctK1ROjpvS7ddgrDryadW/48\n",
       "677bTSH6zawTih5nvfdqN6WzLw7t2qLnWWfkw5Qp6rxxWNaadY4Z5ccHSmJKcbdhvff8raRTrxqz\n",
       "3oe8IQ5hlJdq+INvjod8bUIlDVcWKVQ2ZEV3WAh28ZlYumG9q9oR2jSm7D6A8aYx687Hh5vjmJJk\n",
       "HgncxdrVsw3ryoe4dDW6NwyZGwAjxe4/Qd5iixqzbkXk7zCxxmfSh+pxnYBFOCGzh7qvdAT84C4i\n",
       "pPZyaR7Ep8WNWR/3q/bn1boL8WTNug6hPq+jq65puIB97iqCNTvzFhRgdHPWA6NYou6gIAlhboz/\n",
       "a9ZVcM/m0ARsc/OSFNOURVgN6kmACBnA+KHyUmvzENZp0+IsUihoEFXc4SkP6ptwH0r8cBSndQh9\n",
       "kXVF+EDMuECQmAZEyAB0sErd2jyEddEyrKcaBlNmOKZHWVth5vSnxioEdjsJFwjOugoB1w2EmDSL\n",
       "AiIpFCEDhKc0ilizeYgNuwx43DlZJbRzq+/qMIUpzOd1OHaBdRN6BNvPdChAEQpFmAEGshxemwew\n",
       "rrzbpBzmK+qE3rtGrOvBnbQOsGNTAIhdl9BKbaJ9Obv0F0NYKBFst/43AOvGL7IMjhHQ1sQchRqx\n",
       "Hhy06Sd1kXVkQ1jv9TjPiXMy1EWAIZrrZDabB9DXTQJr/HxExV/Mr/dZD4fRpsx1+uixJW5JSu90\n",
       "R1n6Gz2l4xRhB2AcnXZtNg9gXS87UxxR8RebVWpuT/E4rQOnqs4wMSQgto8XypJOl9uP/nQnJ4Q6\n",
       "gGwewPqHwpHs+5miH4ZqSiXiMvhipHV8qF+/q9Z7kdYh0hFmQ4nJENsvLm4aXuT2XPpICHUA2fw8\n",
       "zy2Uj5XaxXY2VpEeHS9URTdJFgdJ0GrNdzsAK9M6kv7INZLkY7kx9nvFkpuf5soRoRIgmwfsdbdj\n",
       "/YMEWfSjjy97wlMSeC7+v9vtEoL+jD+MZZJRKwDlZd4u42DFcq0/0t8ywgZgRjgGyOb/ANSbbThZ\n",
       "ZPoZruTHEI0EjTs7sR4n58Pia8eKdbve69sATVxmveNhqOJeN6C9vssAE8IxAN9HGDDrGn9aUMmP\n",
       "oUEjPpbqH1n/zl7fsV5S6k9wzyPfhFAFkM0D4vomwnTh9PC9dwU/4mOPZVBD1slUw0ynkBRiiBtf\n",
       "bvP6GkbcALhSw7DVBjARju69K/jR0axcNWM9Z9OpIC5mRUWs7mnxwsP5S/mEUAegL9TrdBnsOHFh\n",
       "EHD6H69OCD7xLVuwPtXr02bqy72MI14Wwd2p/JUQ6gCy+atdEhlz2V5jLvnRM0rp0EwabC1WBnuL\n",
       "TSf8V1+U5N40alk3BkCHuYNwRYfpfI8eGHBxUw2F2lXNsWDoe5rjoXmQ+vXErbYL4uasfmWlvG5o\n",
       "wAG8gaAv6ev+ietVF8TNIM9Nn8PdnVoI0jHXI8zmIasi8gHWL4ibQSi6+t7041785nvTQ/MQ1pte\n",
       "zCiCwsVN7Jd3BKrjLviOALttHkKo9o/dmyUecizEd+7DQFdZh7A0D7uZ0T1EuoHU9Tx8yKB/aYC8\n",
       "tU9d4ATdr9QvvdXr7EO4oEiLX/rlpP6ZPknDjpin72R9oef+h6Mkbv5Orm+96x5YWVHcrIn9/+Zo\n",
       "ft17X5mUxM1d9HvtN2Qe2OxFcXMzxJu/cSrZb/rV+zd/qd3Y3zzIpENvHlT8olcv/0Z7u9/ecCu+\n",
       "SPT2IX/uMBv5P/gFMeLHJCY1k/4XtsMyhlvXMBwAAAAASUVORK5CYII=\n",
       "\" style=\"display:inline;vertical-align:middle;\" /></a></span>"
      ],
      "text/plain": [
       "{r in RealPos, a in Real, b in Real} |- |(r * e^{i * a}) - (r * e^{i * b})| = (2 * r * sin(|a - b| / 2))"
      ]
     },
     "metadata": {},
     "output_type": "display_data"
    }
   ],
   "source": [
    "Abs(subtract(Mult(r, Exp(e, Mult(i, a))), \n",
    "             Mult(r, Exp(e, Mult(i, b))))).simplification(\n",
    "    assumptions=[InSet(r, RealPos), InSet(a, Real), InSet(b, Real)])"
   ]
  },
  {
   "cell_type": "code",
   "execution_count": 27,
   "metadata": {},
   "outputs": [
    {
     "data": {
      "text/html": [
       "<span style=\"font-size:20px;\"><a class=\"ProveItLink\" href=\"../__pv_it/demonstrations/1294e4ba296032dc32e87ff2174a12fc7b934d990/expr.ipynb\"><img src=\"data:image/png;base64,iVBORw0KGgoAAAANSUhEUgAAAD4AAAATBAMAAAA63aOfAAAAMFBMVEX///9UVFSqqqqIiIi6urru\n",
       "7u4iIiIyMjIQEBCYmJhmZmbc3NxERER2dnbMzMwAAAAssMphAAAAAXRSTlMAQObYZgAAAAlwSFlz\n",
       "AAAOxAAADsQBlSsOGwAAAM5JREFUKM9jYMADFjDgBwfIkeesOPM94yQe/TzcAiySR/HJX2A48JCB\n",
       "68yZnjMnccivZsfUb5OWVgCX58GQdzdF0i8aCJPnu8O9dgKQ5i5FMp/vUDVMnpdnLW8DkGbfgJBv\n",
       "z08OgIXfTvYErgsgeST33ZxaAOc95Z8Apl+kAcEBqPlHZyLc5Q82iiEG2X+veALg3GUQig1Znus1\n",
       "wmu5EIrZAEme9YAljMf9BcooQsgvYJjJ4wDlsSRAGYFHAmDx92cDz/FPGOHueyytAEMQAMwLQKHK\n",
       "tRXGAAAAAElFTkSuQmCC\n",
       "\" style=\"display:inline;vertical-align:middle;\" /></a>, <a class=\"ProveItLink\" href=\"../__pv_it/demonstrations/8c5864665d603ebc7e84fdb786d604e60f56fcc70/expr.ipynb\"><img src=\"data:image/png;base64,iVBORw0KGgoAAAANSUhEUgAAAD0AAAATBAMAAADR6hicAAAAMFBMVEX///9UVFQyMjK6urru7u4Q\n",
       "EBBERERmZmaqqqoiIiLc3NzMzMyYmJiIiIh2dnYAAABC1PP/AAAAAXRSTlMAQObYZgAAAAlwSFlz\n",
       "AAAOxAAADsQBlSsOGwAAAM9JREFUKM9jYMAN2BnwAzay5A+F5WuGHcCjP2Ehg+ExBzzy6xjYuAUY\n",
       "ytJS09IOYJdnX6CAqf/azJkKcPkEDHmjKwj9jC4CCPm3dzYASS4VJPO3NS2Ay69sYAcZxrQALr9U\n",
       "8+cVRPjNY2C9AJJHct8ZJ6RA/gKht84EggSIPJsPwl+sCRDaDUk/d0EKnOd/AUJzIvu/ehmcxw80\n",
       "ygBI815AknfjhVsAdDwfyH8MGnD55Qw8B5LhBrw7AwkYx2QHWPxlMaTpN2CEu10mJHxRAABI1jva\n",
       "YsbopQAAAABJRU5ErkJggg==\n",
       "\" style=\"display:inline;vertical-align:middle;\" /></a>, <a class=\"ProveItLink\" href=\"../../numbers/ordering/__pv_it/theorems/4aa8d696b1f407d6126de9f51a052e8d90e0848c0/expr.ipynb\"><img src=\"data:image/png;base64,iVBORw0KGgoAAAANSUhEUgAAADMAAAAQBAMAAABJt1qBAAAAMFBMVEX////MzMwyMjKqqqoiIiJm\n",
       "ZmaYmJju7u5EREQQEBC6urqIiIh2dnZUVFTc3NwAAAAqL9KcAAAAAXRSTlMAQObYZgAAAAlwSFlz\n",
       "AAAOxAAADsQBlSsOGwAAAM1JREFUGNNjYMAASTP6VWYkMGAFDW8Z1mYUYJd6w8DBeAGXFOsDBRSh\n",
       "HS4uCnCpBmSZRdsRunjLQQby3dm3ASTAp45koITRAyBj5QOO7yABpgdwqZcqX0AmsE9jYHUASyE5\n",
       "I60IRLN+YGA5AGJIugBBA0SKowzkZc4GhvoFIIEKJF2MAe1Aun4DQz5YgAXZX4EvQFIGDJeYQS7g\n",
       "3oAkVcENNJFjA7MrK1hEGS71lIEtoQvowtsH324Ei9R2FcBCvo+hQ98AOTjWtLgghxwApbZCEcpv\n",
       "FP8AAAAASUVORK5CYII=\n",
       "\" style=\"display:inline;vertical-align:middle;\" /></a>, <a class=\"ProveItLink\" href=\"../../numbers/ordering/__pv_it/theorems/6e5cad5b2984ed0d75bd47bd0c542ec447a4f3570/expr.ipynb\"><img src=\"data:image/png;base64,iVBORw0KGgoAAAANSUhEUgAAADEAAAAQBAMAAABNQoq8AAAAMFBMVEX///+YmJjMzMzc3NyIiIhU\n",
       "VFR2dna6urqqqqpmZmYyMjIiIiIQEBBERETu7u4AAAD7tRWPAAAAAXRSTlMAQObYZgAAAAlwSFlz\n",
       "AAAOxAAADsQBlSsOGwAAANZJREFUGNNjYEAHUmfvrz4rAGTw3dmAJnXBlKFU9gGQwTUBXcaMgZcp\n",
       "AMjgb8CU4TRYAGTUP4CK+O7evQAucwHIyIZKVPkh9LC+A5m21CUCxGdeh2SabpcB0G2/Hrw3ADnE\n",
       "AC5js/o3SD/HPwYeB5AMkgsEX4FozgUM/AlAWmc3EFyAyPA+BPmUO4GhHuTut0h6mCbcg3hnPsjd\n",
       "3Mj+mWQLklHgOwjiszggybxlARrHKsALCZ4VcBlLBkaB60BXh02ECDy9/gAW1pcZ7q5HDrOy25DQ\n",
       "gQIAY/lDzDbeA58AAAAASUVORK5CYII=\n",
       "\" style=\"display:inline;vertical-align:middle;\" /></a> <a class=\"ProveItLink\" href=\"../__pv_it/demonstrations/53b84c65165d46dcc158f3f4447f1da6ec0c84250/proof.ipynb\" style=\"text-decoration: none\">&nbsp;&#x22A2;&nbsp;&nbsp;</a><a class=\"ProveItLink\" href=\"../__pv_it/demonstrations/15fa7749b20021117dc9ecdfea6958114f96ec210/expr.ipynb\"><img src=\"data:image/png;base64,iVBORw0KGgoAAAANSUhEUgAAAb0AAAAyCAMAAAD/YfXPAAAAM1BMVEX///8AAAAAAAAAAAAAAAAA\n",
       "AAAAAAAAAAAAAAAAAAAAAAAAAAAAAAAAAAAAAAAAAAAAAADxgEwMAAAAEHRSTlMAme8yr2ZEVBDN\n",
       "uyKJdt2r+Y93eAAAAAlwSFlzAAAOxAAADsQBlSsOGwAABcpJREFUeNrtXNmSpCoQFRhkX/7/a68g\n",
       "Ki5oUqWlHVceJjq6C06SB3KlpmnekYYkv0RTH0/hkr9kLYejP4XT7cdTiH3pW5Knm2eyxyW2iynM\n",
       "vnzNBhVN89S7J9ByinYvY7lLweq57Hm2mmLpy9k0rGkey17r+WoKw6/rm+wmbp7LnrYbUwZr+o6m\n",
       "wfou9pTTRu1ffOGMcWzBXuvVS1s/jOc3sdcGfyt34bkXvPtHLa6reAOXwevdoIlIBcch+kC7CQCL\n",
       "3GKzYI99dOIoeZjqvxeIeHITe8jHwzPabS7sNJJQKOYyXi/Y4z7Y21rvd4OLAApEhFz9EbQ7h5ub\n",
       "2MMy8rAbwERu25A1zAMdGW7sJDltTxYQfDBOQk7lkhwWxAt2N7HX3x/qj7M9FOzknD0aXOG4P3Z6\n",
       "DKok7HNnIWOygoWwRzy9jb3AjBMN2wkgg1nv/eOcPR7ExqPJhaGKcatcU6N341YKyoH5d0WqUSDi\n",
       "u8iaz2Eh7Jlbgu9IhTShaIl2rVSonku0kSIGkzHsT9JKZXGrOoXtbxxUDJf0HPZMh2bQHBbCnrzD\n",
       "7aWY0xlNlDN7URN3GtGtBD84viS6whXK4sHBoE5R5GCWAXgU9aXyRoHCKeiLzRMsZG2cG3iFkDi1\n",
       "0acw/bLWUpqi/bg/pCuURUKOidtjdjggKUH6e/Z6gTqlIzeHBbDHPVq4au1PjN9ajy5ij3Zipv2B\n",
       "BR4MVcz+JeUc6CXLXrn9nr1+ocAWm/8OwB7xmXd20RPgM20pby5iLwiO00+8Vlk4uL2W7s9D8lh5\n",
       "/CT2Om9H5QIWQAMbGjDx81Ea94M45nv2gtHAyeMfHiGHLcqV1SLKjD64W+ZQfebTPvFKIIKMWcIC\n",
       "2KN5pcVFadwPii+GfD3Fu7Q/l6J2omXnuDc44dgyCk5rtTF9Aas9vFkJuQicrwYWaIQFsLeRMNh1\n",
       "/lwtHzHUGNEoEWQkAiPV5TPndhG9TPuTydToLrXQjV5vOh5KBbNyyrLBeB2XEBNyEThfDSzQCDut\n",
       "h7IK4qwqrVdrzDxh03wkH4+/CDL2zQAbejzkXIuMRdpf6jco2gi7GQb29QhYahYrczhqQB3GJD1y\n",
       "GThfDSzQCAu4e2jF3kbLoVq+Nja/w2+lm5LKc6s61jb/+h/6sJbwOQD3g0X1/dDluFtsqSOrwG7V\n",
       "z0fkIvBCuUCBRth/xzpwvhxpTXC18nXWV5p40xJ7cdHxUvtPx4w9PL97K0eVWO2UxVQYZctp0Vb2\n",
       "qw4t54BcAJ7n0lCB1NpygtmjbnNXlfI1XFsfU71N9s65eyv2Sp1COC7PP3ps6QfkAjAvAe8KNMIC\n",
       "/N7CcrJwm9Va6kr54rGK4eyF7Nkh5pS5Fd/yDv0jJojXTSamBcacch84Xw0sUE3MqWcHjEQxDN92\n",
       "b3D5WOQpVpgvY2+MWoYEqRhlcItpa0AP53q/oaPtOn6slZCLwPlqYIFoRb5ncuOuLArDluMgoHz9\n",
       "kz2pBt7EFewN+d5wWNty7oysFzBwrSlNpxcdZogJuQycrQYWaIStzdZtHxuse1a18rVdEmh02xCH\n",
       "sePEeewIk/7URvBYa4k15wsGoM55BXJNnZP5a7b+4YA3OXgXcNf2GOqqWT/oMezCgqrUT3pVXtHk\n",
       "mKrUh526zwYFGIoLkGlVf88/6VlyRZMjlNeHzzl2gSwWEqOejzzBQrRgxYPYq2hyhAJt7buWqjvw\n",
       "i3ctu7AQ9m55EFgUBt7kcD5/U3a6/wG/KdOXwUKIof5x38exHnJN5bXvOaFaORc5h4W9CGQPI49A\n",
       "8kIVPvS0h+0n6wGY9T7s6jmQyXi/RRQvK36YPCCP494vr/d1kWfl6xRmCrx5mest1ZMyvlKT4/mx\n",
       "1l2n/UGaKDY5PvGN/4/xnK+1FZscK2v/xizPu3zFJsdiyPfqTUPovyVv+3q93Nvgv2WILHs5y4aR\n",
       "f0na93+6Wia/f8h2tuLla+n6/owxIuJ1eusw7o+UfPlE3n8O+jnEvvLkXAAAAABJRU5ErkJggg==\n",
       "\" style=\"display:inline;vertical-align:middle;\" /></a></span>"
      ],
      "text/plain": [
       "{r in RealPos, c in RealPos, a in Real, b in Real} |- |(r * e^{i * a} * c) - (r * c * e^{i * b})| = (2 * r * c * sin(|a - b| / 2))"
      ]
     },
     "metadata": {},
     "output_type": "display_data"
    }
   ],
   "source": [
    "Abs(subtract(Mult(r, Exp(e, Mult(i, a)), c), \n",
    "             Mult(r, c, Exp(e, Mult(i, b))))).simplification(\n",
    "    assumptions=[InSet(r, RealPos), InSet(c, RealPos), InSet(a, Real), InSet(b, Real)])"
   ]
  },
  {
   "cell_type": "code",
   "execution_count": 28,
   "metadata": {},
   "outputs": [
    {
     "data": {
      "text/html": [
       "<span style=\"font-size:20px;\"><a class=\"ProveItLink\" href=\"../../numbers/number_sets/complex_numbers/__pv_it/theorems/5c9b98ec381ed1eef8437437430dde6add03b8720/expr.ipynb\"><img src=\"data:image/png;base64,iVBORw0KGgoAAAANSUhEUgAAADMAAAAQBAMAAABJt1qBAAAAMFBMVEX///9mZmYQEBAyMjLc3NxU\n",
       "VFSqqqq6uroiIiLu7u6YmJhERETMzMx2dnaIiIgAAACOKrHUAAAAAXRSTlMAQObYZgAAAAlwSFlz\n",
       "AAAOxAAADsQBlSsOGwAAAOVJREFUGNNjYMAAi7X3W2gvADP57h5AldvgylC6egKItYuzAU3Kl4Gb\n",
       "JwDI4N3A8AdDitHBAMg4X8DwDWLwjo5mhNQGICOCgfMXSIDdbgJCF+tMoIGc/xjYv4MEnCcgGXg6\n",
       "2QFozB8Gvi8gAROEXU4WP14CaeavofEKIAEDJGesmgyi+TcwzH8ApHk0Ojo6uqFS3LNAXgaKrwfZ\n",
       "wrkBSRePwE6QVAFDI1igAdlfMt4gAwvYNMEC75ClZvMBTWRNmAEJQuYEuJQjA9eC7UA75EQgApzR\n",
       "lfCQ38Kw2z4BKejYb0MDCgoAk+9ECnr2Yc4AAAAASUVORK5CYII=\n",
       "\" style=\"display:inline;vertical-align:middle;\" /></a> <a class=\"ProveItLink\" href=\"../__pv_it/demonstrations/711099d64dbc8b5b42af5ccb6aa9b48c03a3050e0/proof.ipynb\" style=\"text-decoration: none\">&nbsp;&#x22A2;&nbsp;&nbsp;</a><a class=\"ProveItLink\" href=\"../__pv_it/demonstrations/315133dab94805b4699fb3c6dddd22ce9a9f33be0/expr.ipynb\"><img src=\"data:image/png;base64,iVBORw0KGgoAAAANSUhEUgAAANEAAAAyCAMAAAD1NM7xAAAAM1BMVEX///8AAAAAAAAAAAAAAAAA\n",
       "AAAAAAAAAAAAAAAAAAAAAAAAAAAAAAAAAAAAAAAAAAAAAADxgEwMAAAAEHRSTlMAme8yrxCr3VRm\n",
       "IruJdkTN6VGzdwAAAAlwSFlzAAAOxAAADsQBlSsOGwAAA4pJREFUaN7FmlmWgyAQRRmaGaT2v9oW\n",
       "jFOERGKJfCSHnIhca3oghHRvjl+42Jb7wgnyWJPmytV+KPe5egxJeoJCFLzn275WDwGZSFCInCFC\n",
       "7Wzm5SNAllkUIu/GD+A7L1TmCSIVCAYRh/QFekek2QOhZBhBIZLJ4QSYfaaItD8R8yhEApKph2So\n",
       "LdEAtjdQAIFCFFIEjZ/2LZvH7slBXb9jJoggxwbsvT7pwhMz/EYgDhyHCNziejui6Sdac3RLw+nE\n",
       "dC4kJSMoRNPETTbIXkO4lDFqd0lKKZ51+3NTZRKLKGEoelRFJoVWbTJjUSZOYxJxMATJ64al+uyJ\n",
       "ckLfTybON7WQeqhEASO5ZgKpRwnES8o1uUGFiM4yA4/IIYTRqx7RQG1Ri6dAOhKJlB2U817CNz+a\n",
       "JfypuTK30XeUxo/rJMtM02pi7kKJiCc1mTyEfkxhQtIIDUQC1uGsy3cf6v8egP5CZMYxK16XzPNV\n",
       "J4cWIg5rMZB5ZPbpMkF+IUo3qRCNiZtqgkmkYR2P5QvlD6niC1FyBPZyIZbz+0I0eK8JKpHZ5Jms\n",
       "nUeidg0R+Oc+yGkygilt2gtgE9ExeatC5uHBhBCJjWk2PDJqQ5ANi6pRILHlmdlmZVwiomrT5C4N\n",
       "iXpgrUoloy46Wo2lZ/zjee9kcZrMVM2dudNG9J2opMSHrAQSqZNrDWsQG0qRv/y0plZbj4m4ee68\n",
       "QPR3Rqe++Rh1m3iOqye6kC3yIsp/WowJxbYjYvnxctA2NXGnjd6IzNZCaik+wivIpahIdMJG7OV1\n",
       "v21oNMXR3ut08gd7iI/8UHNW/JVITZOhk5C1d9rIb+ObZwcPB6fQee5p2/VHojkzCMXMEJq3npZJ\n",
       "nsveawRaRVM7boNOawRnZ5bYTCTnyVAFsRFISgZx2sVurbBqCunj/urgQwijDuCSMSm4BCa5dnC+\n",
       "VC6a4equ1SkVNKDtWFSluxjzdTcilCXsN+l+VKo3EhFA2/KsS/ckh/sRqYhFVJfuSTz2I5IMzUZV\n",
       "6S6BdCQygPvuoCTd08q/HxEHjQlUku42/YayLXxuEIa60V6S7qbz2wnKMAdz1QDr1wbEGmuK9obQ\n",
       "l2izaLjaytIdO/d0zHYV6a76vy6//tbyk3R/4K0llpEq0t09caIh+vvGHuCJgzSc3ecYSpMnWnB3\n",
       "jfzQKZrLJ53qPhfJUy3e4hw8PnjAzt1wwkCsQP/XhSIE/oOfYQAAAABJRU5ErkJggg==\n",
       "\" style=\"display:inline;vertical-align:middle;\" /></a></span>"
      ],
      "text/plain": [
       "{theta in Real} |- |e^{i * theta} - 1| = (2 * sin(|theta| / 2))"
      ]
     },
     "metadata": {},
     "output_type": "display_data"
    }
   ],
   "source": [
    "Abs(subtract(Exp(e, Mult(i, theta)), one)).chord_length_simplification(assumptions=[InSet(theta, Real)])"
   ]
  },
  {
   "cell_type": "code",
   "execution_count": 29,
   "metadata": {},
   "outputs": [
    {
     "data": {
      "text/html": [
       "<span style=\"font-size:20px;\"><a class=\"ProveItLink\" href=\"../__pv_it/demonstrations/1294e4ba296032dc32e87ff2174a12fc7b934d990/expr.ipynb\"><img src=\"data:image/png;base64,iVBORw0KGgoAAAANSUhEUgAAAD4AAAATBAMAAAA63aOfAAAAMFBMVEX///9UVFSqqqqIiIi6urru\n",
       "7u4iIiIyMjIQEBCYmJhmZmbc3NxERER2dnbMzMwAAAAssMphAAAAAXRSTlMAQObYZgAAAAlwSFlz\n",
       "AAAOxAAADsQBlSsOGwAAAM5JREFUKM9jYMADFjDgBwfIkeesOPM94yQe/TzcAiySR/HJX2A48JCB\n",
       "68yZnjMnccivZsfUb5OWVgCX58GQdzdF0i8aCJPnu8O9dgKQ5i5FMp/vUDVMnpdnLW8DkGbfgJBv\n",
       "z08OgIXfTvYErgsgeST33ZxaAOc95Z8Apl+kAcEBqPlHZyLc5Q82iiEG2X+veALg3GUQig1Znus1\n",
       "wmu5EIrZAEme9YAljMf9BcooQsgvYJjJ4wDlsSRAGYFHAmDx92cDz/FPGOHueyytAEMQAMwLQKHK\n",
       "tRXGAAAAAElFTkSuQmCC\n",
       "\" style=\"display:inline;vertical-align:middle;\" /></a>, <a class=\"ProveItLink\" href=\"../../numbers/number_sets/complex_numbers/__pv_it/theorems/5c9b98ec381ed1eef8437437430dde6add03b8720/expr.ipynb\"><img src=\"data:image/png;base64,iVBORw0KGgoAAAANSUhEUgAAADMAAAAQBAMAAABJt1qBAAAAMFBMVEX///9mZmYQEBAyMjLc3NxU\n",
       "VFSqqqq6uroiIiLu7u6YmJhERETMzMx2dnaIiIgAAACOKrHUAAAAAXRSTlMAQObYZgAAAAlwSFlz\n",
       "AAAOxAAADsQBlSsOGwAAAOVJREFUGNNjYMAAi7X3W2gvADP57h5AldvgylC6egKItYuzAU3Kl4Gb\n",
       "JwDI4N3A8AdDitHBAMg4X8DwDWLwjo5mhNQGICOCgfMXSIDdbgJCF+tMoIGc/xjYv4MEnCcgGXg6\n",
       "2QFozB8Gvi8gAROEXU4WP14CaeavofEKIAEDJGesmgyi+TcwzH8ApHk0Ojo6uqFS3LNAXgaKrwfZ\n",
       "wrkBSRePwE6QVAFDI1igAdlfMt4gAwvYNMEC75ClZvMBTWRNmAEJQuYEuJQjA9eC7UA75EQgApzR\n",
       "lfCQ38Kw2z4BKejYb0MDCgoAk+9ECnr2Yc4AAAAASUVORK5CYII=\n",
       "\" style=\"display:inline;vertical-align:middle;\" /></a> <a class=\"ProveItLink\" href=\"../__pv_it/demonstrations/00f2327acff614183cfcbf1c42bd8e8765b0151e0/proof.ipynb\" style=\"text-decoration: none\">&nbsp;&#x22A2;&nbsp;&nbsp;</a><a class=\"ProveItLink\" href=\"../__pv_it/demonstrations/909d49aaab684186f1a16413f0114714fde4900c0/expr.ipynb\"><img src=\"data:image/png;base64,iVBORw0KGgoAAAANSUhEUgAAARYAAAAyCAMAAACu2QTpAAAAM1BMVEX///9UVFSIiIiqqqq6urru\n",
       "7u4iIiIyMjKYmJjc3NxERER2dnZRUVHMzMwQEBBmZmYAAACVnuc/AAAAAXRSTlMAQObYZgAAAAlw\n",
       "SFlzAAAOxAAADsQBlSsOGwAABG5JREFUaN7VW9l2gyAQZZG9wPz/1xZwiRpJGFOs4aE95hBnvMxy\n",
       "LxhCbj2s73FXc3wtrCBfMajucls3HF97+RW4UEf6wsKc8+trLr8AFa1IX1isJkJuosfR26NigukL\n",
       "i7PpD/hNUkl9d1gkI11h8ZD/Ad/AwsPNy4sOpC8sNOePAL0twSreG5bg+sIiIEfjkENmDcsA5s6o\n",
       "MBB9YWG5qqS/Ztew1a2rruzoXYFBAU0Dwp7H8G7roT/nph58Z1jALpm0gWX8KPYtCyayfUNpskgD\n",
       "6QvL+PS6hMaW9dpcipHm9YCanmWGElsomiwG2h2W/CQyPosBncsNDhaODK7EI4lNzMBYHCweNOmd\n",
       "RMPCUrawlJ6NgkW00XE1P5OBfMXzEjAULKxrmywwUJ6Yvz+SjjlSA3bxMbDEmV6ncBUYWGzP0jLx\n",
       "lsiiOVTUubhg7JvGyRkWkcuutM5RGNefYmAJdm02RnVq48UEjdpYmC8BB0t07bD4LPRyKsQ4Zaxo\n",
       "h0XAqoaVuuRgwMMyQDwDi062MLC0urYkUQ6UWQcvHzZY9LDq6rTcIJxJK0HOwJKtI6z5Vv63IJB6\n",
       "c+TrOtMICwe+Sqhilv5hEX4DS45VBCzs3d6VoKEQgQWWwbnl+Vhoh0WvOW5RugmWv6O9zL++Bjo6\n",
       "6Z1Nhc296TN0bM/VySJIrqs8bJhjrQGWg/4s4Tl6a454phlTxKjsjFchGsYoYvcm6YLipCM2lVP3\n",
       "xmE7pkF1cllWU8u0ReU8vhjlatBNLxCvqs08q+KIKH7KRQ3LRFHSDdqTMKjipNFEyfeNZjRSnzwy\n",
       "0xq3MXPBboiW+ATLgaCuOjIU7pphtPRBghC8WUryk5dCbL8k1GoVH3k3CoinyaDmBR2HqzXdCZaf\n",
       "BqG4z5hoD+zVHEkJZ1mJjQmW8uUl3OBwbGAJ09oNLU1m3qDZTZZxhoWbPEQtWnxztOxh0fTAXtWR\n",
       "RCUlFMpyCEtDtMywxJYDkhmW2uTXhpfkbqgtuyTiOQDNc22oOFIWpjSzs7DIyUnZwl/pFMm1yXHU\n",
       "o+bzTuQ29dEXe+w5CiuO8AJAPpE8CctUch/l8HXbDOTlZCGDHljtHEMjeAtbkxQjYx6yXsT3sJTl\n",
       "sWYGRKFhmXjL0HTIOK33i8lRgqpZj/QknZNjTXze06g5MjjGWGKunoZAhacQqOcW2ne2cCyXhBNy\n",
       "7VkRNJH/Tyy16uuaMBepmfZQ0Mf9GaGg+27OvRPmSKlI/AebQxq13wL9z/bqwjwLVdSTUn7aC2kw\n",
       "sEjVHZa6MM+KrMde7lGw4PZyu56HvBPmFNA7/+6DREbAouGiFwcOhHnZMe17TrQUa4GDxQO/BJUj\n",
       "YW7yZ55cPZoshmsOyI9OuvWN31mI4RIrtlp07jmGKwidpnjF+89D9mcux8L8smp/biW7e1cR5vLe\n",
       "L1t2fEnslTC/+Uti3cOlIszt3d/MVe4fjA5w9/fbffiHcJac3H0we7nJL3i5vd9PIeoppMg3DHVt\n",
       "SHv1JT8osldKNvFA5RciLSiRqGXtmAAAAABJRU5ErkJggg==\n",
       "\" style=\"display:inline;vertical-align:middle;\" /></a></span>"
      ],
      "text/plain": [
       "{r in RealPos, theta in Real} |- |r - (r * e^{i * theta})| = (2 * r * sin(|theta| / 2))"
      ]
     },
     "metadata": {},
     "output_type": "display_data"
    }
   ],
   "source": [
    "Abs(subtract(r, Mult(r, Exp(e, Mult(i, theta))))).chord_length_simplification(\n",
    "    assumptions=[InSet(r, RealPos), InSet(theta, Real)])"
   ]
  },
  {
   "cell_type": "code",
   "execution_count": 30,
   "metadata": {},
   "outputs": [
    {
     "data": {
      "text/html": [
       "<span style=\"font-size:20px;\"><a class=\"ProveItLink\" href=\"../../numbers/number_sets/complex_numbers/__pv_it/theorems/5c9b98ec381ed1eef8437437430dde6add03b8720/expr.ipynb\"><img src=\"data:image/png;base64,iVBORw0KGgoAAAANSUhEUgAAADMAAAAQBAMAAABJt1qBAAAAMFBMVEX///9mZmYQEBAyMjLc3NxU\n",
       "VFSqqqq6uroiIiLu7u6YmJhERETMzMx2dnaIiIgAAACOKrHUAAAAAXRSTlMAQObYZgAAAAlwSFlz\n",
       "AAAOxAAADsQBlSsOGwAAAOVJREFUGNNjYMAAi7X3W2gvADP57h5AldvgylC6egKItYuzAU3Kl4Gb\n",
       "JwDI4N3A8AdDitHBAMg4X8DwDWLwjo5mhNQGICOCgfMXSIDdbgJCF+tMoIGc/xjYv4MEnCcgGXg6\n",
       "2QFozB8Gvi8gAROEXU4WP14CaeavofEKIAEDJGesmgyi+TcwzH8ApHk0Ojo6uqFS3LNAXgaKrwfZ\n",
       "wrkBSRePwE6QVAFDI1igAdlfMt4gAwvYNMEC75ClZvMBTWRNmAEJQuYEuJQjA9eC7UA75EQgApzR\n",
       "lfCQ38Kw2z4BKejYb0MDCgoAk+9ECnr2Yc4AAAAASUVORK5CYII=\n",
       "\" style=\"display:inline;vertical-align:middle;\" /></a> <a class=\"ProveItLink\" href=\"../__pv_it/demonstrations/e4e87810b6fbfb491bc9dec8fd029bcc8e05ee7a0/proof.ipynb\" style=\"text-decoration: none\">&nbsp;&#x22A2;&nbsp;&nbsp;</a><a class=\"ProveItLink\" href=\"../__pv_it/demonstrations/7ba7852b6a8e5e652b5efd86aae6db4e8958209b0/expr.ipynb\"><img src=\"data:image/png;base64,iVBORw0KGgoAAAANSUhEUgAAAQgAAAAbCAMAAAC3HeFMAAAANlBMVEX///+6urpERESqqqqYmJjc\n",
       "3Nx2dnaIiIgyMjJUVFTu7u4iIiIMDAwGBgbMzMwQEBBmZmYAAADLI7SBAAAAAXRSTlMAQObYZgAA\n",
       "AAlwSFlzAAAOxAAADsQBlSsOGwAAA3JJREFUWMPdmIly4yAMQDGXOFqO///ZBXG5Da5x0mzTaqaj\n",
       "UCMjnnVgE/K9wh35pRIuWxgptTYHF73sP0UAuHOJnxB/F7pgz3lRQ5S5b4nfASJu6WnH0xSgPP2x\n",
       "vwyCmx0IYSOKqBcVb4kR82gdhHhoF+LidbH/pyD3Py5ZU8MEIzgZdWGACDQHj1tdAtgjHE6t5TYZ\n",
       "b6WEVd28dNasL4yTTdp/UiCMrEW0gsAflqaaGldZM1nKa1D0q5wTnh9bL4EAKV0fQ70bavTS6KDi\n",
       "OghB81znMaYocaUt4DiDwB85WUJYBGFUuW12MW7H87YYDq2XQKTCZewYq7rnrJuXsA5CJG9ETzBK\n",
       "Nj1JjRwMfjX7AlppnO6/mm6OrVdAyJavdcwr16yvgxDUORfa7ABk8xMQCXJgq/W4zPDogo5X6+ZC\n",
       "6pWNO4y2yEaEeNP1OgijvQ3obxYyNkx25aWD2KRkq46yEtsaK7COFw+nTK2CwAVM5ANEczfpZRDG\n",
       "W8a9fkaHDvtiZ+OkOAMHUESovL5TPggADZ+tZXlEcVJIcOMmAtaZbYCQuutlEIhTXCipExDB7kTf\n",
       "hhGGL0wOqUgoz0Qjq1meKD5aS7kx6Tg4dxARgLEG2a6B4Krr91UQkbfz4lV5P5tgd8cAO4m5DVM5\n",
       "A6J4lfrhULd2LLdyAu4wNVTUSaLfdRHmu36bgDBq9+Bce1JF5HUQb6chMzomnsOqF1GNdKFQenUB\n",
       "gZNa6Oys0/93r4O7G+DGI+350UC42PVqarjIRBbzhBoxtsL38WDDeOG1JfO/BuF0SaDbG+SNFwQc\n",
       "99lAtIaX9HKNmOTud9WInhp4RBQ37RPp85zhMxAjsfKBIh52DYPNs8DpqWG7XgYRSs8VT4gIWrfk\n",
       "MO/gxhGG1zWfg2jWaaemvBsf1Ih8iZVd9GJJu25eyrNzjLGeb2DhCSBqExM2ZLn91FG8p6IhUB9A\n",
       "tBZIIFvOixhuPPUaU0teA9Fab9LFS619VPqkIwQbFZAngHC2lkSU2/PRJgEg+e6099q4VPi1YzTW\n",
       "Q41r5PDrhz4GYQIE8fHdww79H76anC9hH/rSuWA9fQ3PMUi6fgkQ/KHPmgvWByDa61rWLwEC8/9+\n",
       "ObeegxC0v0G/CghDH1ng3HoOogFE/RogiIBHVji1/nzwxjFUDkW/CIifF/cnlnhc/gG5DCEcthRm\n",
       "1AAAAABJRU5ErkJggg==\n",
       "\" style=\"display:inline;vertical-align:middle;\" /></a></span>"
      ],
      "text/plain": [
       "{theta in Real} |- |1 - e^{2 * pi * i * theta}| = (2 * sin(pi * |theta|))"
      ]
     },
     "metadata": {},
     "output_type": "display_data"
    }
   ],
   "source": [
    "Abs(subtract(one, Exp(e, Mult(two, pi, i, theta)))).chord_length_simplification(\n",
    "    assumptions=[InSet(r, RealPos), InSet(theta, Real)])"
   ]
  },
  {
   "cell_type": "code",
   "execution_count": 31,
   "metadata": {},
   "outputs": [
    {
     "data": {
      "text/html": [
       "<span style=\"font-size:20px;\"><a class=\"ProveItLink\" href=\"../../numbers/number_sets/complex_numbers/__pv_it/theorems/5c9b98ec381ed1eef8437437430dde6add03b8720/expr.ipynb\"><img src=\"data:image/png;base64,iVBORw0KGgoAAAANSUhEUgAAADMAAAAQBAMAAABJt1qBAAAAMFBMVEX///9mZmYQEBAyMjLc3NxU\n",
       "VFSqqqq6uroiIiLu7u6YmJhERETMzMx2dnaIiIgAAACOKrHUAAAAAXRSTlMAQObYZgAAAAlwSFlz\n",
       "AAAOxAAADsQBlSsOGwAAAOVJREFUGNNjYMAAi7X3W2gvADP57h5AldvgylC6egKItYuzAU3Kl4Gb\n",
       "JwDI4N3A8AdDitHBAMg4X8DwDWLwjo5mhNQGICOCgfMXSIDdbgJCF+tMoIGc/xjYv4MEnCcgGXg6\n",
       "2QFozB8Gvi8gAROEXU4WP14CaeavofEKIAEDJGesmgyi+TcwzH8ApHk0Ojo6uqFS3LNAXgaKrwfZ\n",
       "wrkBSRePwE6QVAFDI1igAdlfMt4gAwvYNMEC75ClZvMBTWRNmAEJQuYEuJQjA9eC7UA75EQgApzR\n",
       "lfCQ38Kw2z4BKejYb0MDCgoAk+9ECnr2Yc4AAAAASUVORK5CYII=\n",
       "\" style=\"display:inline;vertical-align:middle;\" /></a> <a class=\"ProveItLink\" href=\"../__pv_it/demonstrations/bf682c816e72443b79f32a94c2b5e85bb9a0de950/proof.ipynb\" style=\"text-decoration: none\">&nbsp;&#x22A2;&nbsp;&nbsp;</a><a class=\"ProveItLink\" href=\"../__pv_it/demonstrations/b8864b325f0c0bb3f2d4c4e16d52758d10a875820/expr.ipynb\"><img src=\"data:image/png;base64,iVBORw0KGgoAAAANSUhEUgAAARgAAAAbCAMAAACQs2CkAAAANlBMVEX///+6urqIiIh2dnZERETc\n",
       "3NyYmJiqqqpUVFQiIiIyMjLu7u4MDAwGBgbMzMwQEBBmZmYAAABcz/cyAAAAAXRSTlMAQObYZgAA\n",
       "AAlwSFlzAAAOxAAADsQBlSsOGwAAA4hJREFUWMPlmImS4iAQQKG5YYbj/392oQkkKjFRdMfdocrq\n",
       "YNIcL30FQp5v0pP/uMW7dx1jWrudm4H1SxEBXjPjx7RwuIloDgdx3BHrXjLjPwIm0WwN6dBluMw/\n",
       "9ZvASLcBI0zCJpabVjZHSqX3WjBiblvisdti+6c4uUy2uJKLTkiyxpUVTOTFuPwrwYCa4nKkzuig\n",
       "T5cwWeXhMr1xJQjnX55POLYE5QUMXhieY3Q6M85ZMIrVkB4tv8dbBHlH/QwYYMz3PiyjoTxapuBl\n",
       "Pz6gfXHia07BfgGDF8W54t1k43S06TwYZ+vUZcmJ7j9HU9xXPwMmB0dn1n5LIEUeLFPkmUV3Pk6o\n",
       "HrhSMZZw6bb05lXCA2AiamscMtx73t1RPwGGtRiw9OXCuchwYC/e+9imj0BoGIDJgOOVUyuYAVMf\n",
       "Caih08Nx+ETcRBAerTGp1YKC6zLsmH4wEddWGlkBEONuwVDGroPdFBhVXUFj1Nfp0QJb2ZNgcAKX\n",
       "5AqmbSnL4TJdMEoGPZEWpsDEbew0g6juQQJYImxZo7chCgAN1+qsvtY0CEQIwiXAOEVXMEx3OVwm\n",
       "ohTJvRtMNJumb00RzR0GhTYSK0+iktGqPHhVXzFGFfMSvN+xGEBbhKLXwEjb5few4JWtnn0DmO9D\n",
       "ZbNxTDOwW4qhoMzA8S4P66K7ulelvCDgd13JJp1bCpsspUKXXzW/bd6cz/BrY88gqVYQwpUVrGC+\n",
       "joPnmqGxdlzsJNnVvTjU+qGCwYe6aa3q+f/NJ/BmAASRePenBsanLkeu5JMSpbkfijHrzuTWXkxc\n",
       "P/pNjRz3wXhdHe52gAKiIpG4rAamJd0sh8tMQCbbVIzproQVrLhJ1/jGZIkQQzBdvdQzaTcrOUzW\n",
       "FVZ3JdPlEEys+Vz8kMXwRdmjL4MbD67lDpim7sqM48K5uhItwcRtwUje5ThdmyApGHglGNayxony\n",
       "Sy9f87G02+OguhsuGhJ7CablXCia40CJIHIuc8ZffCK0TJ9l2AuhycILXUnrkKyW58B4s4RYbLfl\n",
       "GmUAkPfidQja+ZxYtFc8tcJrUa8nRHofjIsQxeW3k1nlm46NFMwcO5i50+Rj9eGxQ7FR0uWbwFA5\n",
       "A0bOnQsfq++AaV+fRf79g8YzM/K5A7xD9TEYwfspwqeCcXxqikP1MZjGE+VngiFirpI6Ur/+UMA+\n",
       "LFyq/FAwP9/8L5jxmfYHWb8g+0DKpVQAAAAASUVORK5CYII=\n",
       "\" style=\"display:inline;vertical-align:middle;\" /></a></span>"
      ],
      "text/plain": [
       "{theta in Real} |- |-e^{2 * pi * i * theta} + 1| = (2 * sin(pi * |theta|))"
      ]
     },
     "metadata": {},
     "output_type": "display_data"
    }
   ],
   "source": [
    "Abs(Add(Neg(Exp(e, Mult(two, pi, i, theta))), one)).chord_length_simplification(\n",
    "    assumptions=[InSet(r, RealPos), InSet(theta, Real)])"
   ]
  },
  {
   "cell_type": "code",
   "execution_count": 32,
   "metadata": {},
   "outputs": [],
   "source": [
    "%end demonstrations"
   ]
  },
  {
   "cell_type": "code",
   "execution_count": null,
   "metadata": {},
   "outputs": [],
   "source": []
  }
 ],
 "metadata": {
  "kernelspec": {
   "display_name": "Python 3",
   "language": "python",
   "name": "python3"
  },
  "language_info": {
   "codemirror_mode": {
    "name": "ipython",
    "version": 3
   },
   "file_extension": ".py",
   "mimetype": "text/x-python",
   "name": "python",
   "nbconvert_exporter": "python",
   "pygments_lexer": "ipython3",
   "version": "3.7.3"
  }
 },
 "nbformat": 4,
 "nbformat_minor": 1
}
