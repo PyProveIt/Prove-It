{
 "cells": [
  {
   "cell_type": "markdown",
   "metadata": {},
   "source": [
    "Proof of <a class=\"ProveItLink\" href=\"../../../../_theory_nbs_/theory.ipynb\">proveit</a>.<a class=\"ProveItLink\" href=\"../../theory.ipynb\">trigonometry</a>.<a class=\"ProveItLink\" href=\"../../theorems.ipynb#sine_linear_bound_pos\">sine_linear_bound_pos</a> theorem\n",
    "========"
   ]
  },
  {
   "cell_type": "code",
   "execution_count": 1,
   "metadata": {},
   "outputs": [],
   "source": [
    "import proveit\n",
    "theory = proveit.Theory() # the theorem's theory"
   ]
  },
  {
   "cell_type": "code",
   "execution_count": 2,
   "metadata": {},
   "outputs": [
    {
     "data": {
      "text/html": [
       "Under these <a href=\"presumptions.txt\">presumptions</a>, we begin our proof of<br><strong id=\"sine_linear_bound_pos\">sine_linear_bound_pos:</strong> <a class=\"ProveItLink\" href=\"../../../__pv_it/theorems/a14770ff54dd3f476db6c978e3c8694c3dc5be820/expr.ipynb\"><img src=\"data:image/png;base64,iVBORw0KGgoAAAANSUhEUgAAAP0AAAAyBAMAAABlpcCuAAAAMFBMVEX///+IiIgiIiIQEBB2dnbu\n",
       "7u5ERETMzMzc3NwyMjK6urpmZmaYmJiqqqpUVFQAAAB6qHgnAAAAAXRSTlMAQObYZgAAAAlwSFlz\n",
       "AAAOxAAADsQBlSsOGwAABGRJREFUWMOtWW1oFEcYfi7Zva/c5VaxKhg0iqVIWjm09E/FHqIRLOop\n",
       "IoT8SKj2LMGIYmnxT9ziB4pQIn5QkNZA/WNBPH/4eQqJP/zZXCsEBCEBGz+wjRfSmHCxnDOzt7uT\n",
       "vWt2bnYHsjvLvHPP7jvP+7zvTADPbZ/ctN1p+NIa++XmhT70B/8vIaszd3k3LdhMLn/6Ah/rFbEK\n",
       "d2J7n/UU7N9JrsqIH/jHdKFF0lGftJ5akThIbh/7gb9cyKp+Eo3T1soXkciT+2MfGBhLipG0GY1T\n",
       "3EMHJW0k6x2/PiVqWVcwex0arlMyRKe94y8T9uFRzZpzEMsYa37xjr9awvLy2NgE6wx7JkBoStSy\n",
       "oZO5nkbrW6jj5kJ4Fb+kqOXvBgkI5Qh4bNLQgWbP9BPVkHgKp8pdtchegwaPZwIeFRX/b4EPzH7R\n",
       "jHz1nWf662J24ZZcznL2P+pH5d56r/h7RIO/VCpZiaJ9ifnWXwFsAZ/K4n9mfeA6Z3oTaduBe/T+\n",
       "kyS8OmP2ojNwpDeRNtiHHiM7Sob/uNXlpKSc3sQ0MUImKnlJ/Ph/1V6qnN7a3GOjI4sYsYpIZ7+p\n",
       "6rmOpTd1g6u8JQj71qxY8aksfoAJSKhpXu/p9Tjy+Q9LNS69AfM3ueGThb8NfC2LrzAd3Q0001y2\n",
       "Oh+a5tMb8PCmi3ySmPwR4Soiaqb1ihIheu7cJTupMPxf09BwgInBOz69kfbkztyyQDQpmFaIt8I3\n",
       "jMWKr7z0SuNwjcgwR4d0RBWFW2pWU9S9XQyKnwHG+fRG29VRditVNAOfpK+4FmG7gQvAoedd0FLK\n",
       "8Qp8Nkrg6VvsCjrx1Q2lrI1vpzeGP+faUnz0DpDLfnSjgVABmhbbUYFPR4FHLKC21KUd/j9B48DG\n",
       "t9Ib9f9LV/9jK/m2cAE/owkMP9COL3MtuT4bn41ioaES+biNrzD+/wH8zfm/aBe2D++48w/HRlh1\n",
       "MqUyLC11ssn5/XQUh6uIVIDFP4H7hoJfNPDt9OYaf6x8aCRiWbd3WyHK3KvdaoUTn44ivjf9P/pz\n",
       "Zd6Cvp61oz0TL4YmRuz0ps531x8TJqE3ZGMXM5lu4v8teSc+HSWRx16ActeqpOPFOX58p4D+mmGe\n",
       "QL0eShnr/9smLv47zVGqc6+d1UbIYwFj1eSR9IOyDJL4a+csOq1RysMx4oFrS+yNJGa84Q+bnIpu\n",
       "JL2ThAjRs+fVXK8Dn42yFyB/SbVgD6/ys3xTWzNdTovKykAPcTX3M2/4b1wtqlQmQc7/gzXtYJQv\n",
       "CHmz1co3AfzvMqRRf93mCVRT5bLx2uaB7/mqeNx1SmV9raQ1if0Hi5Z8QF80Sz5k9h+XS9yuqSFZ\n",
       "09wgRh2VkscWLdZk3oNZiAnP+0+01GR9H4VZ5bf3A5iafkKdRFHu8MCH8xeaLpvxL794Ppy/cKWO\n",
       "AP3ys04rg34cAJ6Xn3rdjxPgw7r01E/8OH8MyO4dfTp/FTx/rtKu+gKPiOTmNXTBH3zZ/z+0Mfa9\n",
       "B+BVN4Z3F+8jAAAAAElFTkSuQmCC\n",
       "\" style=\"display:inline;vertical-align:middle;\" /></a><br>(see <a class=\"ProveItLink\" href=\"../../../__pv_it/theorems/782cc6d75d363722b66ba33939011516feb27afa0/dependencies.ipynb\">dependencies</a>)<br>"
      ],
      "text/plain": [
       "<IPython.core.display.HTML object>"
      ]
     },
     "metadata": {},
     "output_type": "display_data"
    }
   ],
   "source": [
    "%proving sine_linear_bound_pos"
   ]
  },
  {
   "cell_type": "code",
   "execution_count": null,
   "metadata": {},
   "outputs": [],
   "source": []
  }
 ],
 "metadata": {
  "kernelspec": {
   "display_name": "Python 3",
   "language": "python",
   "name": "python3"
  }
 },
 "nbformat": 4,
 "nbformat_minor": 0
}