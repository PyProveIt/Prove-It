{
 "cells": [
  {
   "cell_type": "markdown",
   "metadata": {},
   "source": [
    "Proof of <a class=\"ProveItLink\" href=\"../../../../_theory_nbs_/theory.ipynb\">proveit</a>.<a class=\"ProveItLink\" href=\"../../theory.ipynb\">trigonometry</a>.<a class=\"ProveItLink\" href=\"../../theorems.ipynb#sine_linear_bound_neg\">sine_linear_bound_neg</a> theorem\n",
    "========"
   ]
  },
  {
   "cell_type": "code",
   "execution_count": 1,
   "metadata": {},
   "outputs": [],
   "source": [
    "import proveit\n",
    "theory = proveit.Theory() # the theorem's theory"
   ]
  },
  {
   "cell_type": "code",
   "execution_count": 2,
   "metadata": {},
   "outputs": [
    {
     "data": {
      "text/html": [
       "Under these <a href=\"presumptions.txt\">presumptions</a>, we begin our proof of<br><strong id=\"sine_linear_bound_neg\">sine_linear_bound_neg:</strong> <a class=\"ProveItLink\" href=\"../../../__pv_it/theorems/36845704354d6a8987b21a0766cc052508f4e95e0/expr.ipynb\"><img src=\"data:image/png;base64,iVBORw0KGgoAAAANSUhEUgAAARcAAAAyBAMAAACE64LWAAAAMFBMVEX///+IiIgiIiIQEBB2dnbu\n",
       "7u5ERETMzMzc3NwyMjK6urpmZmaYmJiqqqpUVFQAAAB6qHgnAAAAAXRSTlMAQObYZgAAAAlwSFlz\n",
       "AAAOxAAADsQBlSsOGwAABKZJREFUWMO1WV2IG1UYPUnmL5NMZlqsP7TQWioiVRvE+rjEn66woB2l\n",
       "VGQfErWuUFxcqfTJugOVohRkZbsiFG0eRFCQjYJaDULqg6AP3UVFEMRGKsIi3e4iNSWrxDt3/u5m\n",
       "YnIze/fCZu4s301O7nfuOd83AcSO55ItO2xD/Cg0kq1Tb9sEML9zRZ3+gt3AGx4mL9+Lx5Kf4YnS\n",
       "KjhYDe+UxuPkVWoKB3PS4cqlg0wxvBuFOUUudwoHcytXVOYaCtdDtrRhLpLrD6IpnC/ysXwXCi3m\n",
       "puyyPlsTDCZT4o1MrwSzsoV5l0D6dcFgdnJv9bQVrpnCTsq0dwWDuTtB5Lnl5b/o5JJY0qgt3shc\n",
       "hWbIFYK/Ia8G+RIqv0XeyIsecQhnCZL8NU9vdonlL69wGSW85k/lNsXkHkWxDJ7mNaaXgG3BvB0o\n",
       "jPyP2MPk8MVpe+v1MCdX5Nv92YhQMM/wikyn0wlNbHx78BWeBmiefxEC5r7IoxpdpswzDgJfute3\n",
       "RWCR18LpfK3LlHnGQhWveJ4uQmZWI1zoNmU+Vc4SLkuLIsAY//ZC6JuyN37uR/FyDXmS3qwYz271\n",
       "duhySKCvP+233iT0vWf37nuFgEl5qvXihVu02aY6e37Lb4wpu2Prgb7rTUKWz4FnhYCRqKzLFaSR\n",
       "bSJ9BdMOY8qQHxhgPhly3N+A1kfGcz4fmGSnoqk+O3s2CqVg9P0kQGlCKcJsMKasfTJIn9NECBVb\n",
       "IvuofezhNvacXWK/geJdvgvVk8T55/YnB7okMfTwCqZ9TzkUTAWmxZjyUkTjTmx4YIjPGlaWdlFz\n",
       "JN1/HIVVkl6NgZGbUbc1h/c8LC7mQ0oMzKF9axGYyJSXBp5YFwxmLpCX5zGJHKEPLCv/WAxMLuws\n",
       "3DhXDfAN3fWxtN2VJs3GwlQEJjRlvjThEbIn2grewQ5QMKlxnK7X61UGTDrMkhvnytKN3hddNCIw\n",
       "Ej1NhkXayihNoSnzERgnm7T0aslUh63SqR2xnXmdKdFaMGo41mPTU1RnjP1QHIIk64GJTBny1m2D\n",
       "y6ECkev0kUdXdLqP1mejiIF5P9xKEge9AuOI/T+ip9+/ZUy9PPLE1ZETL4ywpuyKXl+hMQNDM51c\n",
       "Lf/WxMQkSdPYYgzMr8DxCTIcNw4q2UKdonFPQth0GO2BUvRtXzsIGh0TGUcteZz58EAMzHEwcW6a\n",
       "iOn82f3G6gZLtbB9ydpf+UJMjvZ4DExIYBqXoqu0ZbI3H22POnisbQzMpSAj+kNkdoqQR3/zjFyf\n",
       "6QajOGycf6eRv6K8EsXeIbJqlUcnjnZHeGD0dX3r4WjqqEx7cnljYK4OjPAV9jz7P/ZGYdK0MFxP\n",
       "+CBh/1rPqnUAGIn5nHw1OFugnh8xcKgaTRr78eWbmCJQWx3cVvhXBozMvqNtJWji6DiBm1NsQbrx\n",
       "Ju5ch2lKc8XhFlcK9vqaUOTQ20OFq830OgEW2/hj71DRuYa5rlMR/BxtuPcr22Y10cMd0Y/RaH0O\n",
       "k4kX/hjNL+o4xyQKDBilKRgMziRfOi/814NjTuKld4nGglTipn0THtdz/pDRY3wgHguyCR8hqHOb\n",
       "ACbpj19PUvr+B8A1NzbyurqKAAAAAElFTkSuQmCC\n",
       "\" style=\"display:inline;vertical-align:middle;\" /></a><br>(see <a class=\"ProveItLink\" href=\"../../../__pv_it/theorems/6efc80167d4e40ed17adb5e0266b7b04b88236010/dependencies.ipynb\">dependencies</a>)<br>"
      ],
      "text/plain": [
       "<IPython.core.display.HTML object>"
      ]
     },
     "metadata": {},
     "output_type": "display_data"
    }
   ],
   "source": [
    "%proving sine_linear_bound_neg"
   ]
  },
  {
   "cell_type": "code",
   "execution_count": null,
   "metadata": {},
   "outputs": [],
   "source": []
  }
 ],
 "metadata": {
  "kernelspec": {
   "display_name": "Python 3",
   "language": "python",
   "name": "python3"
  }
 },
 "nbformat": 4,
 "nbformat_minor": 0
}