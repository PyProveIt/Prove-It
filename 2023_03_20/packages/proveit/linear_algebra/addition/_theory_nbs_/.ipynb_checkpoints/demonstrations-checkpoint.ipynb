{
 "cells": [
  {
   "cell_type": "markdown",
   "metadata": {},
   "source": [
    "Demonstrations for the theory of <a class=\"ProveItLink\" href=\"theory.ipynb\">proveit.linear_algebra.addition</a>\n",
    "========"
   ]
  },
  {
   "cell_type": "code",
   "execution_count": 1,
   "metadata": {},
   "outputs": [],
   "source": [
    "import proveit\n",
    "from proveit import k, t, v, vi, vk, Variable\n",
    "from proveit.logic import InSet\n",
    "from proveit.linear_algebra import ScalarMult, VecAdd, VecSpaces, VecSum\n",
    "from proveit.numbers import (zero, one, two, eight, i, e, pi, Exp, Integer,\n",
    "                             Interval, Less, Mult, Neg, num)\n",
    "from proveit.physics.quantum import Ket\n",
    "%begin demonstrations"
   ]
  },
  {
   "cell_type": "code",
   "execution_count": 2,
   "metadata": {},
   "outputs": [
    {
     "data": {
      "text/html": [
       "<strong id=\"vec_sum_01\">vec_sum_01:</strong> <a class=\"ProveItLink\" href=\"../__pv_it/demonstrations/e76f139ee3ef9061497da90a9f3527fc675ef7270/expr.ipynb\"><img src=\"data:image/png;base64,iVBORw0KGgoAAAANSUhEUgAAAEQAAAA9BAMAAADmENKIAAAAMFBMVEX///8AAAAAAAAAAAAAAAAA\n",
       "AAAAAAAAAAAAAAAAAAAAAAAAAAAAAAAAAAAAAAAAAAAv3aB7AAAAD3RSTlMAEImrmd1EIjJmu+/N\n",
       "dlTbWELgAAAACXBIWXMAAA7EAAAOxAGVKw4bAAAB9UlEQVRIx2NgAAFGJWMBBvyAhYElgIAS/gT2\n",
       "HwSUcAoQVMLAwBRAUEkrIecysC8kaEgJQzkhQ1Z0OBJQwv3//weGEQTO/0eAv9iVvP/fAElVZZf3\n",
       "/8auhPk/PI454x9gVxP/GZH4FmBX0v9/ApztjhJxcIL3/3dE6kNWcg9EsF0Akeu/YjWdTwGo3YHh\n",
       "Jogt/d8BmxIZIGZVYOABJUe2//+wKfGE2g3Wr/8bW8LdAKU3ggie/wewOAUmdhIcsPs/IcnJajKw\n",
       "AoOQBehaWZBlyiiRAAYKrxm4DYBGA0NLIRvInwMJ1f8b4So4HviA/Qs0CcRkYHgNjQREHDMy7AXK\n",
       "AVN8ApgJDH2IeD1SduX7yMDLAFYCYjIwZEOEbxcgFSQBDEwMYIsYeAyAofEULMqGXCxwGTA8B1HA\n",
       "yJFPADpqFiSykdMJ0wF2UNQxAX3Vzw70lhPYhXtRAs15JthnQOcxg1hh4NDFGo0R0FQD9skqrIlh\n",
       "CtT1oATHEojwMLKzIb6sAhGzET6eh6SEEZKQl6P6mG8Dsk214GQL0l8P9zGjP1Z3I/m4zh45wpEA\n",
       "z58zYBC6//9/7OmcwR8pT/8cJuWUOGElurBApHHtl2tAqPZjvPCRwWsVEEzAWfuxywUQrP24LhCs\n",
       "/eQlYBbhrP3esBCs/YSvE6j9ADeWl1nTa+rNAAAAAElFTkSuQmCC\n",
       "\" style=\"display:inline;vertical-align:middle;\" /></a><br>"
      ],
      "text/plain": [
       "<IPython.core.display.HTML object>"
      ]
     },
     "metadata": {},
     "output_type": "display_data"
    },
    {
     "data": {
      "text/html": [
       "<strong id=\"vec_sum_02\">vec_sum_02:</strong> <a class=\"ProveItLink\" href=\"../__pv_it/demonstrations/c74922adc24e6eed7374d876b4c659adf1230b210/expr.ipynb\"><img src=\"data:image/png;base64,iVBORw0KGgoAAAANSUhEUgAAAEQAAAA9BAMAAADmENKIAAAAMFBMVEX///8AAAAAAAAAAAAAAAAA\n",
       "AAAAAAAAAAAAAAAAAAAAAAAAAAAAAAAAAAAAAAAAAAAv3aB7AAAAD3RSTlMAZnaJmSIQu0TNMqvv\n",
       "VN2i2+35AAAACXBIWXMAAA7EAAAOxAGVKw4bAAAB/0lEQVRIx91VO0sDQRCeJJdLjEaiCCIoRMVK\n",
       "xVNsRMQXImJhsNFGjAELX8RGUhqsLbS00n+QVBY2EQsLm9hYCEGvErFQNCj4XGf37nIb2Di9A7c7\n",
       "N/lu3jMBEFTfH4O/yRvTNwlIIA17lJaiJ0JAoKdIIUInuRECUgXBCwIyBzBEaYnDMQHxj7VTqftX\n",
       "dMhcelFDbtmRuPX5zvyXGlLNTIf1PF2qMU+fJVar0HoZ5nbTRFlVSoeXvZakHhnSzY9glJ/bP0rt\n",
       "YQM/H4FWzq8zZcet4FNr8D5BXexbBRm1bYvvh7/iCsipfZ+LnmOKIQo7sn2R2Lw8IoleqMUUauht\n",
       "ghsbLCuCIKMANVlUjdkydvG9ycoqO3dH6nJKxIuaOAtQsIvg1liHM/wNoCYtWMy+JV80JT/fwAsC\n",
       "wlmAXUvcJY2IZoIPhCGoymI2boQ0+CEvkixc8QuLk0yjU41WseU+8e35eel8GFXGj2GNCw/PypI2\n",
       "XSciQ/eqOXcvsqss44PdNSKSlLIZGmzvecNpd27AstsxZ68ANLsRt0gQe4dulUccPpUtzVrrlme2\n",
       "FLE+o154bsQLObng8g57PxD0mGdM3ecwI8308z/ZU8s0pM9hlqi/LQi1maS6cCXITpaC6NE3mEwh\n",
       "RSpC/BsmaSgQJSHJVcoQXGuklrUOx6uBYlQF+AWiS5MaIDURlQAAAABJRU5ErkJggg==\n",
       "\" style=\"display:inline;vertical-align:middle;\" /></a><br>"
      ],
      "text/plain": [
       "<IPython.core.display.HTML object>"
      ]
     },
     "metadata": {},
     "output_type": "display_data"
    },
    {
     "data": {
      "text/html": [
       "<strong id=\"vec_sum_03\">vec_sum_03:</strong> <a class=\"ProveItLink\" href=\"../__pv_it/demonstrations/3289e120aa6be55688d22f668ad74e259538ebbc0/expr.ipynb\"><img src=\"data:image/png;base64,iVBORw0KGgoAAAANSUhEUgAAAEgAAABABAMAAABLkCwZAAAAMFBMVEX///8AAAAAAAAAAAAAAAAA\n",
       "AAAAAAAAAAAAAAAAAAAAAAAAAAAAAAAAAAAAAAAAAAAv3aB7AAAAD3RSTlMAEImrmd1EIjJmu+92\n",
       "VM08Mj7RAAAACXBIWXMAAA7EAAAOxAGVKw4bAAACYUlEQVRIx2NggIISBiLAHCLU8IRcIEJVAAF5\n",
       "RiVjAcYHBBSxMLAE8DpMwK+IP4H9B7tnAX5FnALsP4hwNVMAEYpaBQirYV9IhEElDOWEDVrR4UhQ\n",
       "Eff//x8YRjB4/x8B/uBSdP9/AyTllR3e/xuXIub/8BTAGY8zncd/RiTRBSixhUT1/0ckXHdkRWch\n",
       "FNsBUGb6/x2RRpHU8CowMK4GOeUkiLf+K1ZnyAExnwOIAKVI6f8O2BR5grIIyCecIGm2/3+xKdoA\n",
       "xPngZL0RROj/xpLEeUG5VRvMfAki+P4jZ18ZTQZWoC0sCkD2Y4ZLwDSrDA7s/Z+QFCncZuA2AOoE\n",
       "BgzjT97rOxkY5qFEDQhwXPAD+R5sGu/3XI7nDAy3ISH9fyOi9GDYA1QITPgJQPGdYM390KhBin/e\n",
       "jww8DBBFrE88QCLZEIl6pGzOEsDAxACxTv5CPsioqxCJ00hFCpcBw3UQBYyy+QLyF4DULEgcIhcq\n",
       "TA/YQVHKBPShHYN8A9APTmDxfpR05DwT7EugC9Yy8PgAwzkM7KE92KIlAp6uwA7mwxrBU+A+Aae3\n",
       "VViTChfMM1VglYGIMEIuk2FpeTmImI3w/1xko2qg1UABqv95N+DKLfVw/zP6O+CqDuD+r7VHSgyo\n",
       "gO/fOzAI3f///1dctvkjlQU/h11JxxmDSG46CrhUbUOq0LNwVSyIGmMHAz+O6pNzQQ3UEvaPDNw4\n",
       "ykPm4xe3s6wCgpUcHxlYcdTW3GcZoNEKVMR9AEdKcYFFPdA6fhzWzWILKIBYh8fhNhwBsNA5w5CM\n",
       "IwiWM1g2wAMTRy0LAPZRr4QRj1qeAAAAAElFTkSuQmCC\n",
       "\" style=\"display:inline;vertical-align:middle;\" /></a><br>"
      ],
      "text/plain": [
       "<IPython.core.display.HTML object>"
      ]
     },
     "metadata": {},
     "output_type": "display_data"
    },
    {
     "data": {
      "text/html": [
       "<strong id=\"vec_sum_04\">vec_sum_04:</strong> <a class=\"ProveItLink\" href=\"../__pv_it/demonstrations/44603ad0f3908e1de6c07279c705d9eb774e17b60/expr.ipynb\"><img src=\"data:image/png;base64,iVBORw0KGgoAAAANSUhEUgAAAJIAAABABAMAAAADozOZAAAAMFBMVEX///8AAAAAAAAAAAAAAAAA\n",
       "AAAAAAAAAAAAAAAAAAAAAAAAAAAAAAAAAAAAAAAAAAAv3aB7AAAAD3RSTlMAEImrmd1EIjJmu+92\n",
       "VM08Mj7RAAAACXBIWXMAAA7EAAAOxAGVKw4bAAADQ0lEQVRYw+2YTWgTQRTH36bb3U3SfFAFQaFd\n",
       "UHuqWI+KHykoHlQaQfGgmII3L64gLUQlPXgQCnZFqOIH9KbtxRSp9SC0UotKFaIUxIO0otCLqFFa\n",
       "KzWO87G7M1NtmrB7Efugsxn25Zd5b978920BHNNTEJCFR4MijR8IilQbCKV+/RZoCISUgj0wGQ6C\n",
       "NAe5rjNXgyBdxqSg8r0xKJBxMChSNhkQSE/pVkBLunghoEWNIAQr9j/bZ8TtZzl1XvaMTyHmonSM\n",
       "jSz8oX/coibBHStDqkFp72czBfah19O/xXZ/Sa3ElvnmzdU+eomlPP1bfEC/CBP3qBKnLPnQg2zv\n",
       "5l46Noj6p2cQ+o5nceIV7jtnes5NzvWO+4yro45OfHTsF/Vv9RqbfpmSap68HBZJa4fwdZJMqMDd\n",
       "nV0UQp7rXz0k605jUj0mKSZEX0CXtKYP7vNtjAzrkPwgV02uf90WRAx8u9uK28Yw5HYLmSOkEv4L\n",
       "kX1qJLKkoZJESrRL+pfVWrzormtpSyRpReLX596GzQuSzvXg2aqhlKt/+7W8R9pupKWMh+itGW/b\n",
       "42ha6hBwmQ69uefq3zuWTUq6DVulPMVbYhuS8IrsG2UqI19F0k68R2nILavHmNRovz1r05TTOPmJ\n",
       "YTaAU2VDxK6ANNVRuGSBihNrzLPdQoOCx3tSrQiZSzMapx3Svmu0WvCW6HPsVkZUgUOY9Lqzs0x0\n",
       "tSmHdJxWRQz/qOKQcml5TYlKGrwmUEoaCSqOK0Nn0cGEJZPUQX5Ay5DCRaVUx46vwY6cNi96bMNr\n",
       "Pdo7Pro8qWZamQ8BbOJ711MQPSbIHmQ+VhBdpACPHwGQ1IRZPT2UPE5V+GR3VYXKmcqOlHyCo+3V\n",
       "kSKWd+4G4O9aUCGJCiPVApW3YTFaaPnqSM/IcIUMN/h+36LjjspIT50rzdARuQRieVHHq35XyXkl\n",
       "oLSx1MfMqklZqQTO73IlobdqUivZvl+fqB3Gwjbrqy9oE/qCHytt0j9lQnMVajZ9oXhzdRNO+nr7\n",
       "4c3VA0j4eRHizZVehGjBB4k0V+oAtn6jCLW2DxJvrjAp6ucfGby5wtEl/ERHmisWnd+MC83Vczjh\n",
       "pwqE5irU3OoD9BsWz/RqSbbumwAAAABJRU5ErkJggg==\n",
       "\" style=\"display:inline;vertical-align:middle;\" /></a><br>"
      ],
      "text/plain": [
       "<IPython.core.display.HTML object>"
      ]
     },
     "metadata": {},
     "output_type": "display_data"
    },
    {
     "data": {
      "text/html": [
       "<strong id=\"vec_sum_05\">vec_sum_05:</strong> <a class=\"ProveItLink\" href=\"../__pv_it/demonstrations/0472092da6c57c637482759039800a7cbc401cb30/expr.ipynb\"><img src=\"data:image/png;base64,iVBORw0KGgoAAAANSUhEUgAAACsAAAA9BAMAAADG/I11AAAAMFBMVEX///8AAAAAAAAAAAAAAAAA\n",
       "AAAAAAAAAAAAAAAAAAAAAAAAAAAAAAAAAAAAAAAAAAAv3aB7AAAAD3RSTlMAZnaJmSIQu0TNMqvv\n",
       "VN2i2+35AAAACXBIWXMAAA7EAAAOxAGVKw4bAAABb0lEQVQ4y2NgAAMhkwAGTMAUwFaARZi9gWEC\n",
       "NtWfGQWwCDPof8YmyrVrvwMWYU4GjlNYhMMZGGyxqU5g2IZFmNVJGZt3BgXg/I8EFODCvP9/QRip\n",
       "TXv+H0Ao3/8PzpT7ixDm+78BznZHCtT/H+FsFqQg0P+P4CDFEfv/B9icyHb+C1an9/+/gE2Y+f8x\n",
       "rMrn/8QqnPPfAMFJMmTgu4AaACBgcIeBB+pB/z8JcN9d8GTgNYAFADzs2BgOAaWgMY8ILgbebwxM\n",
       "sKR5FCHM8oCBGeahBUhhsYHhKtSav8iem8AKtShHAdkX3oJQxhSsnmQvwCrsB/cLA1JQMiJcx4gk\n",
       "jOS6O0hpG+G6FKRogruO9TZyQM6fCQbz3gATGyKuWZDToMAgzCSMjxDsRKSy5gQipSshvMP6ASnS\n",
       "EcKMBUEGWIS5Va8dZXAvBwIBZGEeXYYFWFTHuyzAZrY4x4MALIZs4nqAzcpSho0wU1gtP8NiCgCc\n",
       "gX83cmTnfAAAAABJRU5ErkJggg==\n",
       "\" style=\"display:inline;vertical-align:middle;\" /></a><br>"
      ],
      "text/plain": [
       "<IPython.core.display.HTML object>"
      ]
     },
     "metadata": {},
     "output_type": "display_data"
    }
   ],
   "source": [
    "i_var = Variable('i') # to distinguish from imaginary number i\n",
    "vec_sum_01, vec_sum_02, vec_sum_03, vec_sum_04, vec_sum_05 = (\n",
    "    VecSum(i_var, vi, domain=Interval(two, two)),\n",
    "    VecSum(i_var, vi, domain=Interval(one, eight)),\n",
    "    VecSum(k, vk, domain=Interval(zero, Exp(two, t))),\n",
    "    VecSum(k, ScalarMult(Exp(e, Mult(two, pi, i, k)), Ket(k)), domain=Interval(zero, Exp(two, t))),\n",
    "    VecSum(k, v, domain=Interval(one, eight)))"
   ]
  },
  {
   "cell_type": "markdown",
   "metadata": {},
   "source": [
    "#### `VecSum.shallow_simplification()`\n",
    "`VecSum.shallow_simplification()` will take a single-item vector summation and return the equality of that sum with the vector evaluated at the single index value."
   ]
  },
  {
   "cell_type": "code",
   "execution_count": 3,
   "metadata": {},
   "outputs": [
    {
     "data": {
      "text/html": [
       "<a class=\"ProveItLink\" href=\"../__pv_it/demonstrations/e76f139ee3ef9061497da90a9f3527fc675ef7270/expr.ipynb\"><img src=\"data:image/png;base64,iVBORw0KGgoAAAANSUhEUgAAAEQAAAA9BAMAAADmENKIAAAAMFBMVEX///8AAAAAAAAAAAAAAAAA\n",
       "AAAAAAAAAAAAAAAAAAAAAAAAAAAAAAAAAAAAAAAAAAAv3aB7AAAAD3RSTlMAEImrmd1EIjJmu+/N\n",
       "dlTbWELgAAAACXBIWXMAAA7EAAAOxAGVKw4bAAAB9UlEQVRIx2NgAAFGJWMBBvyAhYElgIAS/gT2\n",
       "HwSUcAoQVMLAwBRAUEkrIecysC8kaEgJQzkhQ1Z0OBJQwv3//weGEQTO/0eAv9iVvP/fAElVZZf3\n",
       "/8auhPk/PI454x9gVxP/GZH4FmBX0v9/ApztjhJxcIL3/3dE6kNWcg9EsF0Akeu/YjWdTwGo3YHh\n",
       "Jogt/d8BmxIZIGZVYOABJUe2//+wKfGE2g3Wr/8bW8LdAKU3ggie/wewOAUmdhIcsPs/IcnJajKw\n",
       "AoOQBehaWZBlyiiRAAYKrxm4DYBGA0NLIRvInwMJ1f8b4So4HviA/Qs0CcRkYHgNjQREHDMy7AXK\n",
       "AVN8ApgJDH2IeD1SduX7yMDLAFYCYjIwZEOEbxcgFSQBDEwMYIsYeAyAofEULMqGXCxwGTA8B1HA\n",
       "yJFPADpqFiSykdMJ0wF2UNQxAX3Vzw70lhPYhXtRAs15JthnQOcxg1hh4NDFGo0R0FQD9skqrIlh\n",
       "CtT1oATHEojwMLKzIb6sAhGzET6eh6SEEZKQl6P6mG8Dsk214GQL0l8P9zGjP1Z3I/m4zh45wpEA\n",
       "z58zYBC6//9/7OmcwR8pT/8cJuWUOGElurBApHHtl2tAqPZjvPCRwWsVEEzAWfuxywUQrP24LhCs\n",
       "/eQlYBbhrP3esBCs/YSvE6j9ADeWl1nTa+rNAAAAAElFTkSuQmCC\n",
       "\" style=\"display:inline;vertical-align:middle;\" /></a>"
      ],
      "text/plain": [
       "Sum_{i=2}^{2} v(i)"
      ]
     },
     "metadata": {},
     "output_type": "display_data"
    }
   ],
   "source": [
    "vec_sum_01"
   ]
  },
  {
   "cell_type": "code",
   "execution_count": 4,
   "metadata": {},
   "outputs": [
    {
     "data": {
      "text/html": [
       "<span style=\"font-size:20px;\"> <a class=\"ProveItLink\" href=\"../__pv_it/demonstrations/887ef456a2846e9da889ea030f2137e28534cbb30/proof.ipynb\" style=\"text-decoration: none\">&nbsp;&#x22A2;&nbsp;&nbsp;</a><a class=\"ProveItLink\" href=\"../__pv_it/demonstrations/6fa4db2025d2f4fa0e211e0861ca15361ea679290/expr.ipynb\"><img src=\"data:image/png;base64,iVBORw0KGgoAAAANSUhEUgAAAKUAAAA/BAMAAABz+BXMAAAAMFBMVEX///8AAAAAAAAAAAAAAAAA\n",
       "AAAAAAAAAAAAAAAAAAAAAAAAAAAAAAAAAAAAAAAAAAAv3aB7AAAAD3RSTlMAmXbNRCIQ72Yyq1Td\n",
       "u4mXa1p+AAAACXBIWXMAAA7EAAAOxAGVKw4bAAAEJ0lEQVRYw5VYzWsTQRR/m2Y3CcmmqV5Eqm0P\n",
       "IijSSkFKsTT0H2jw4AdUGiviSVv8qIKHthfxIDQeRaFF8AMRWhApiLQ5KVUxRRC9iAUvUoRqW/td\n",
       "1/nanYnd2bwdSGaS/Oa3b9785s3LA6BtB3uHi3OPQNusIxCmRZp4n4HaANShUJydOd4vQXdBj7Jn\n",
       "Q1Ba18XgZiCndSMEp9HkDX8G4SbyeM4Rz7jE6yBcKoPnbPVGpwMtSf5BU0qomTFzQcg2NGdqxjPz\n",
       "7p1AQ6cKaHeOu6MBxwlExtAOHcML5BdWnb/RnNFVJDC+hlfIZSTO/oXnrMvhcNUzeM6pQWQACREa\n",
       "ukeR68mStypHafV6MfXhONupzJOO2KlzHY8d/UR7Gce5yUW66X1xe0MfvDdQlOYWP6COdNUefWjA\n",
       "aVnAEo7Us1GmmJz3RlBbAcZJeGSBjxsdyaQqJsKiQYc4c5t6zoO8o0hDuMh2ir7QSfJqgIh4jD7G\n",
       "JGfBrGkrMKQtNtwa8PWVRe+VDwDiIi5pY+FZEiohvcSQVW5E7nTG/UKRMHBICE97OHcBPAS4xpAx\n",
       "V3Jpp99P5W7PDfyW1XESUQ/kYSxHkdVeCGlf9IE+F30Vt3dsXOdO4qNn5PcCRUrO845y8nt+QIrO\n",
       "30tc2kD40qMaTgE0+NwSQ0pO73zSNjsBMUrTQkBRsq44zwHquLm172l7qwD5OhILDNkrw2fdirer\n",
       "ifGdVB0A7wDu0Zwi2adyyuYC2aIgNcqQvTJipGREsuASgZPBFYB8jHyd4I+e/z9mucBY1j3VBKlw\n",
       "msopSS5DBDgnTBHzo33+nC6Qccapt6JldkauKrosQhr42qHVIlOLKqfiTwFka58EknMQpNwj6FRS\n",
       "AnsUXtD+I1neEpkUn/H3pwu0qX9mIZKnSMmZUINjuslkJs1RB530tLKdUwCp1rpqamoZUtFnma92\n",
       "32LdffJ6QohSWZ3mOTBBfFNynEWGjHmch32TKeGPLgg+RzDtDggy5Z532/dOjme8EMHOuzYLG1KC\n",
       "iRvroFaGMdWYT1xm4oElbVyyxS8UaSwJg6SQ4irnhbIZA/q0a0ZyR1a3CWmi7JphO7dPfFrR3x3H\n",
       "eEeR8b98qhTSGf3laG7i8r/1ciGZL521SuCK6SePxO3NrB19Q3Kboj6vXMDlISV2atV8SZ+8Gchc\n",
       "FZtTshsEmasOD+I5q4vInDLEv7MRZK4aK+I5G5F/kNLLeM7PSJzJ9WEhtspaxz68mZvrij6ggIH/\n",
       "2zNcbmFAAaMK7fre8s0MKGB0o2Vn0JszegAqFzDm8eUQukk91XnjK2lfAgoY1gJeIfvJ6/grqFjA\n",
       "MEIoOVXPL/JKBYzuLJ4zSlJla7kg1q4vYDwNU7P6TnPSTKUCRrw/DCdJTKwHuUoFjBOFMJzWNAbV\n",
       "EqpeB6cwD0bv0D/8Oz40cBxx+AAAAABJRU5ErkJggg==\n",
       "\" style=\"display:inline;vertical-align:middle;\" /></a></span>"
      ],
      "text/plain": [
       "|- (Sum_{i=2}^{2} v(i)) = v(2)"
      ]
     },
     "metadata": {},
     "output_type": "display_data"
    }
   ],
   "source": [
    "vec_sum_01.shallow_simplification()"
   ]
  },
  {
   "cell_type": "markdown",
   "metadata": {},
   "source": [
    "#### `VecSum.shifting()`"
   ]
  },
  {
   "cell_type": "code",
   "execution_count": 5,
   "metadata": {},
   "outputs": [
    {
     "data": {
      "text/html": [
       "<span style=\"font-size:20px;\"> <a class=\"ProveItLink\" href=\"../__pv_it/demonstrations/d471a0252eb40149def27a08d1021b51038b9f9c0/proof.ipynb\" style=\"text-decoration: none\">&nbsp;&#x22A2;&nbsp;&nbsp;</a><a class=\"ProveItLink\" href=\"../__pv_it/demonstrations/27f1308c90e8b642607c867e3db57ecf271716810/expr.ipynb\"><img src=\"data:image/png;base64,iVBORw0KGgoAAAANSUhEUgAAAQcAAAA/BAMAAAAf2xDgAAAAMFBMVEX///8AAAAAAAAAAAAAAAAA\n",
       "AAAAAAAAAAAAAAAAAAAAAAAAAAAAAAAAAAAAAAAAAAAv3aB7AAAAD3RSTlMAmXbNRCIQ72Yyq1Td\n",
       "u4mXa1p+AAAACXBIWXMAAA7EAAAOxAGVKw4bAAAGS0lEQVRo3qVYW2hcRRj+z17O7mYvWQTBh2q2\n",
       "glSKNpFCqSGyoS/1QdlVRC0ad73mSTfebw8bKVjBS1YfBNvCrj6o9MEs+BAswaQgFWlxF1EsQk2o\n",
       "+FKEJG2SJjH2OHNm5pw5Z2ZOziQ/bM7kzJnvfOef///+mQHAdoP9F5L7bgS1PV0N6KQIkUvzoGHm\n",
       "AbcdGSDX2+D5gBGRbkAfRfgGTuuQgDvdZqlMrr9CNGjEn+ouhrAOtaoOiazjOPMN2uiffy9oxGhb\n",
       "6VaKEF+B3mGt+XibtYwB5lQrcEbTr6l6HIRXoDmuNR9TzHHNBm0cP74UOOKMqsNBuP+5ibYWiUye\n",
       "NgbZnQE43AgaMVNWdDgI5ne9ZS0S6RXvFeJdyAV+R7QbjATwKdwHenYP9YgDfQB6AmM7va7wqYNw\n",
       "Ae7WJDFDfN90vv6BW/8OHvGiIiQchHs/amiSSJCgmAw/ok9+exK2b8aiHUtL4UeUpPmngyBYbM0u\n",
       "GOsavhuQ3dVBEO1lWzkXNXy3ItXexZ2Q6MM53dvVyOo12V0dBEl64CkuaRTf+IY0UuZ3QqLSwu6w\n",
       "K07Rcu2KesTrUodihCgHYBV0cnQMv97WpxmLJLj50N76NfWIOZmY2Qhpi4bns4e+ssZ0qvkq+rNp\n",
       "N3usWSfYO2rt7pd1EYTJTefGB/9qkIigh+P/kXbHnW5DHWgzeUmgEISM1XJu3axTwpbIz5ZeyxUi\n",
       "z0qz7PzBT3XlKMhSlps6RllAELnTawp9Q+QKW9C4GpDkvWVPwCH6X21W4k+K0G+5bxsXEESppNFr\n",
       "omk02PzNbUqf/R79dkOEovZKdIkhZK3ZAASvnUSxfDttW2go09xRKy+rC1iof8ZVnkz8qiS8KYJZ\n",
       "l9YQhsDf+hwnVJRmWqcKUTYLMUsW0wZ1wTt0WSPRbedeyWoHIHizDBFI0o8uliHhfNvCNYkIJNiV\n",
       "9GWXJY8whJwlWwknQEEC6NNzw9wsRy1JjfyWdZLv6ZF4y0UoXgU1gkjiIF2NtDkIs36dm7Z943AO\n",
       "XW9Bzd2IQK4VgsQov2XwI4gkLktIONJtuzY9Bm8RtrkYUuEk8ZJBtMA4b1vLR8KRbhmCSOIoLT3j\n",
       "UHNJGNycnkD7GZxb50gT0mM8CY9xCH1cWPkRRBJTLgmOZMetn9VEAU7YWyq7CSnyppykwnIIGa5+\n",
       "+hHAHLLd13BINGlCFDwkKpzazFShQCBwE6hDtyAR5wXPhyB64rCUxB5O5XcBzBNnwqCJpmOWJ+GJ\n",
       "CQ4h8iooEUQS0w4JLjBj/IL1D0hjSr8gNy7nUGB2lTHBIZQaagSRxIdOTHAQTV7w/oIHgaRRavFR\n",
       "9Pb5ECRSngT2IXhsoUySVyBhvuRR26/t3D6JfriVGQ6jE4UABN5O1QfRnR8cnUi4iikrYBnq4MdB\n",
       "ScJFuAsCEMQFxaxDwq2LF6UbG8rsJm/F9LyFIWS7QQjKyjbXcGGNs+5aiXv0N3ZqQF64oi7lsMtN\n",
       "xLaAINoIU6cyGKwuHnPz833uUXKely37Xc99EUVIuvmZbAsIojFydZTaa0J+pnmljxfI4SINQsli\n",
       "niFw+TkFAoI4jH002mEkaemsOOTNvrx6uyRZwVGEuBuzT+ps07HKxjZ8+fnYpKU+6Ci1JCvWDW9+\n",
       "xk9bOtt0PNwkC5Ho1f22na9b1qZ6xITEtRShSACGfkTbwFkNEklcCTpEtrid5FrAPl7mpA5ZB3Cm\n",
       "c5ZprLPzgbBWVJ4wbNuiOOEmdGhLZ0oLQVR9PHeVfPgBqevSlMnvhEQTl8aERhRFpGGvgyBZeOMw\n",
       "y61qnCVIDx50EET73U5rslgyw0RXrSWVGw0EMcGJyuwnn8MUwDwaIBNyGfMhvHD5Sw2ZIDM84f2C\n",
       "T+5QjxhScPMi5PHyMnSGkoCq+Q7fptUyr5AxH8IyVMKfcFdIfhs42mJ7Q5DIKU5NfQjv6pBYoEGA\n",
       "4+qp3qpxEdmFIBI1xdGgHwH+CR+XbCOzB/0eng7hCeVU+xBSZ8NXDqYxmQLZHmxFIr6s6vEhjFTD\n",
       "h8Qwq+ho4WiuNracjp6Wck3gQYjn46El4xS3TYH0QH5LTxxTf6AHYeSzj8O6IumeA2QLYH7ByD9R\n",
       "vKSYjTcD9JxHQOuisI54xE0j86dQshJQscMhiHaQax8JM+CZoM4j2+JgkrD8H07RG5VJWXghAAAA\n",
       "AElFTkSuQmCC\n",
       "\" style=\"display:inline;vertical-align:middle;\" /></a></span>"
      ],
      "text/plain": [
       "|- (Sum_{i=1}^{8} v(i)) = (Sum_{i=2}^{9} v(i - 1))"
      ]
     },
     "metadata": {},
     "output_type": "display_data"
    }
   ],
   "source": [
    "vec_sum_02.shifting(one)"
   ]
  },
  {
   "cell_type": "code",
   "execution_count": 6,
   "metadata": {},
   "outputs": [
    {
     "data": {
      "text/html": [
       "<span style=\"font-size:20px;\"> <a class=\"ProveItLink\" href=\"../__pv_it/demonstrations/b53f6ee992bc7d970effca453b26d190077db0420/proof.ipynb\" style=\"text-decoration: none\">&nbsp;&#x22A2;&nbsp;&nbsp;</a><a class=\"ProveItLink\" href=\"../__pv_it/demonstrations/d0e1a08a72eca9cbbadbfea9edd1d56679f2c9f60/expr.ipynb\"><img src=\"data:image/png;base64,iVBORw0KGgoAAAANSUhEUgAAAQcAAAA/BAMAAAAf2xDgAAAAMFBMVEX///8AAAAAAAAAAAAAAAAA\n",
       "AAAAAAAAAAAAAAAAAAAAAAAAAAAAAAAAAAAAAAAAAAAv3aB7AAAAD3RSTlMAmXbNRCIQ72Yyq1Td\n",
       "u4mXa1p+AAAACXBIWXMAAA7EAAAOxAGVKw4bAAAGeUlEQVRo3qVZW2hcRRj+z17O3jdbRfEhmm1E\n",
       "K0WbSKGUEtnQl4IguxUvLV6y3siTJN6NPiSah4oXEnyzlWYRxMuDWfShIMFsQeqlxV2K4gVqQsWX\n",
       "IiRpk20SY48zZ2bOzDln5uRM8sPumT1z5jv//Jfvn5kFwHKd/Q3JPTeAWp6qBnTaCOY4QP7iPIQW\n",
       "cx9vR3rJ9TZ4NmBEpBXQZyO8fyfAm3BfeCXgLt4sV8j1Z4gGjfhT3UURZgBGoKMSXomcYzbzVdro\n",
       "mX8raMRgXWlWijAD8TYk6hr+eJ21jF5mVCvQn5mXVT0MYQZSbciOafjjFAu0qUnaOH58KXDEaVUH\n",
       "Q7CVSBQ1lMgWaOMAu9MLhyaDRsyqvM0QbHd0aLgDMivuK8RbkA8EiLaCkfQDE+AeahEHeh+kq4Fq\n",
       "ryls2uJKdMO9OjrALLH9lDP7w91/B494ThESFOHx0kVEVjdqKZEgQTEdfkSX/PY0bF2MRTtVl8KP\n",
       "KEuzTwfBJ7FVu2CsadiuV3ZXB8EvL9jMuahhuxUp9y5uR4kunEwdLY2sXpXd1UGQpAd2cVmj9MbX\n",
       "pZEyvx0lBmrYHP24WbK4XFaPeEVqUIwQFQAsHeJODOPX2/w0axHSMB/YPXpVPWJORmY2Qsai4fnM\n",
       "wU+sYQ0lcm30tWE301bDCfammrt7ZF0EYXrDufHuvxpKRNDD8f9Iu8ndbagDbbYgCRSCkLVqzq2b\n",
       "dUrYEvnY1GtxInKtNCvOF36qJUdBkrJ46hgVH4Jfd3pNoTlELrMFDeeApGgt2wEH6a+hhsSeFKHH\n",
       "4m8b8yH4qZJGr4ncaDD/zW1In/0GfXZChKJ2SHiJIeSsRgCCSw5f/zvAHfSHhYYyzh20CrK6gIn6\n",
       "J1zliePbkvCmCOaotIYwBNETLVjohyjNtGYVoswLMUsW0wY1wRt0WSPhbede2aoHIAiSrmB2SNJJ\n",
       "l9AvZ24LVyUkkGBX0pdbljzCEPKWbCWckI5II83p03P9gpejlqRGfsU6yXzSEmtxhNIVUCOIlmhA\n",
       "GvlwP12N1AUIc/Sa4Mk9Y3AWXW9BzZ1IgXwthBKD4pbBi+BZEaJBlyRKONRtmzYzDK+BrW0+hlg4\n",
       "SaxkEC4wztlS8yjhULcMwbMiRAk6TkvPGAxxJQzBpyfQfgbn1lnShMywqIRLBIQuIay8CG75EW98\n",
       "uBKCkk1eP6toC3MCXV8kTUiRN+UlFVZAyAr104sAZp9tvkmnMkzRhCi6lBgQ2Ga2CkUCgZtADbqJ\n",
       "EnGR8DwILnkbfx2SKrFLYPlOgHliTDhgInc0RCVcMSEgRF4CJYKr3MzDg/YuhSohBGZMXLD+ARms\n",
       "0nlkxuU8CsyWMiYEhPKkGkGUkwC3A7znxIQAMSUS3l9wP75cwuFwBL19PoQSKVcCexBE2j69Y0fD\n",
       "Tl6fEubzLrb91M7tD9EHt7L9YXiiGIAgkgRaAaJ8+dbhiQRnTFkBy1IDPwpKJTjC3RCA4F9QNBwl\n",
       "eF28IN3YUM1ucldM11sYQq4VhKCsbHOTHNY4w4NXePQXVnzJC1fUpRw6eSLWfQh+eYyxUwUMVheP\n",
       "8fx8R3iUnOflKl7TCzOiCEmen8m6D8EvTLlRlNqrvvzMiEwfL5LDRRqEksU8QxDy8xT4EPzD2KTR\n",
       "DiNJS+eAo7zZVVBvlyQrOIoQ5zH7hM42HbNsbN2Tn49MW+qDq3JNsmJdd+dn/GtLZ5uOh5tkIRK9\n",
       "steWc6OWtaEeMSExLUUoEYC+7xAJNDSUSOJK0CS0JewkVwP28TIjNck6QBCdk0xjjZ0PhJWS8oRh\n",
       "yxLFCTeho7bUU1oIftbHvhsohB+QuiZNmcJ2lJjCpTGhEUURadjrIEg2+jjM8m2NswTpwYMOgl9+\n",
       "tdOaLJbMMNE1VJPSjQaCP8EJy+wl02EMYI4H0IScxjwIR778TIMmiIcn3DPA/yGppE+hmxvhC9il\n",
       "kaEkoIY8h28zappX0JgH4QP4R+PwjuS3gaMttjuEEnnFqakXAb4Pr8QCDQIcV092VI0LSH4LUmJI\n",
       "cTToRbg1/BGiyTYy2IMPzYSwRKeqw4Ngng9fORjHZItke7CZEvFlVY8Hgf+rtnlI9LOKjhaOZnty\n",
       "U3eka8o1gYhgjrBoCyGfC9sUyPQWNrXEsaoSy4VwJuhJD0vwc4BcEcyPWK7j/5Dk3hgJ4HMR4WT3\n",
       "x2EN8TD3m/lDKFoJsHE4BL/sF9pHwwx4Oqjz6JZ0MElY/g+n6yeRbLUosAAAAABJRU5ErkJggg==\n",
       "\" style=\"display:inline;vertical-align:middle;\" /></a></span>"
      ],
      "text/plain": [
       "|- (Sum_{i=1}^{8} v(i)) = (Sum_{i=3}^{10} v(i - 2))"
      ]
     },
     "metadata": {},
     "output_type": "display_data"
    }
   ],
   "source": [
    "vec_sum_02.shifting(two)"
   ]
  },
  {
   "cell_type": "code",
   "execution_count": 7,
   "metadata": {},
   "outputs": [
    {
     "data": {
      "text/html": [
       "<span style=\"font-size:20px;\"> <a class=\"ProveItLink\" href=\"../__pv_it/demonstrations/a99d424ef0d6f4c53b264186d261a22e927fda4b0/proof.ipynb\" style=\"text-decoration: none\">&nbsp;&#x22A2;&nbsp;&nbsp;</a><a class=\"ProveItLink\" href=\"../__pv_it/demonstrations/ee9d38da466c3c5a1efbf197162691f348a78e3a0/expr.ipynb\"><img src=\"data:image/png;base64,iVBORw0KGgoAAAANSUhEUgAAAQcAAABABAMAAADlr6/0AAAAMFBMVEX///8AAAAAAAAAAAAAAAAA\n",
       "AAAAAAAAAAAAAAAAAAAAAAAAAAAAAAAAAAAAAAAAAAAv3aB7AAAAD3RSTlMAmXbNRCIQ72Yyq1Td\n",
       "u4mXa1p+AAAACXBIWXMAAA7EAAAOxAGVKw4bAAAGUklEQVRo3q1ZW2hcRRies5ezu9lLglDxITXb\n",
       "glSKNpFCkVDZ0JeCILuKqMXLrjfyJIn3VoWN9qGClwTfbAu7+qL0JQs+BCWYFcQiLe4iiiLUXSL6\n",
       "4EuSNtk2MXacOTNzZs45M7NnEge2Z3rm/N/5zj////0zEwD+11bahe0t5JI8tEfz0LOV/gh7v/x4\n",
       "zuC99hHej4yR6x3gBY1FpK0ZowgdCIdMvv5u3i1SL/4EojqL39VDDGEIWEZTkO26TjlJO6Pdd3UW\n",
       "kw2lW0+6MfGXEQn7TdazxphTYVdnkX5NNeIigPSEWTQusECrsVg6e3ZNa/GNasBF0AaVrGVYCI2z\n",
       "O2PguDa2l1QZ6CKADw1JpDe8VxBvg1xDZxFt65FQu9dUHe6jHnGhj4CBipb2psKnnNwNUxJLxPc1\n",
       "9+sf3P+n3uJFRUhw/31vSiJBgmI+vMWI/PY82HmzVp1UXQtvUZyRJvvaLkjEnAlMbhr4bkx21wQh\n",
       "2F52lHPVwHcbUu1d3Q2JEZz3g22DrJYGvwmCJD3wFBe74Q3iW9JI6e6GRLmO3eGofQHydlVt8brU\n",
       "oRghKgDAvEmOTuPXO/q0BIlo2A8frF5XW3RkYuYgpCENz+ePfQanTap5D/2z7XQHYNMN9pZau0dl\n",
       "QwRhftu98f4/BiQi6OH4v6Tf4tNtqQNtSbJuoggZWHdv7TUpYWvk50gv5EK0J7B2ZeWz1pajoJaC\n",
       "PHWsUv/Vb5xeU+gbIlfZgoZrQFL0ljMBx+j/ppoSf1KEUcjfNhNACEoljV4bTaPF5q+zLX32a/Tb\n",
       "ByIUdVCiSwwhC5saBG87j2L5TtqHyJRp7qR0nWxjof4BV3ky8T1JeFMEuyqtIQxBvPUJTqgozbRW\n",
       "BUTZLMSgLKYt6oK36bJGotvuvSJsaBCcd7D+KCKQpB9dKIGE+20r1yUikGBXMpZdlzzCEHJQthJO\n",
       "iDGcF0gA+nRnQpjlKJTUyC/YIPmGAYm3OELhGlAjBEnQpeB8Q4CwqzeFaTs0Ay6h6+2ouw8RyNVD\n",
       "kJgUtwx+hCCJvyUkXOl2XJueBm8QtrkYUuEk8ZJFtMC67LS6j4Qr3TKEIInTtPTMgClOwhLm9Bza\n",
       "z+DcukS6ID0tkvA0AWFECCs/QpDEAichFJsWr5+VRB6cQ9dXSBekyJtykgorIGSE+ulHwO67+BZ1\n",
       "n0OiRhMi7yFRFtRmqQLyBAJ3AXVoHxJxUfB8CEFPHJeSOCCo/DAAXeJMMG4j86ZIwhMTAkLkVaBE\n",
       "CJJYdEkIgRkTF6y/gTSm9COK7fUcCsy2MiYEhOKcGiFI4gM3JgSImih4f4CHAEmj1Opj6O3dECRS\n",
       "ngT2IXhIrJRI8gZI2C951PZzJ7fPox/uZSbC6ERegyCSuFAdR3e+dXUiwRVTVsAy1MFPACUJjnAP\n",
       "0CB4POFEcdMlweviFenGhjK7zVsxPW9hCNm2DsFTwMTK1pnjsNZ3nLDw6M/s1IC8cENdysEwV6pG\n",
       "ACHYnmTqVAIWq4tneH6+JzxKjl6yJb/rhS+iCEmen8lGACHYGLkqSu0bgfxMiyv2eJ4cLtIglCzm\n",
       "GYKQnwsggBA0Yx+NdhhJWjrLLnl7RH0UWZas4ChCnMfs0ybbdKyysS1ffj4+D9UHV8W6ZMW65c3P\n",
       "+FfQZJuOzW2yEIleO+y0y1UIt9UWsxLXUoQCATh6EW0DmwYkkrgStIhsCTtJzbnTiMxJLbIOENqM\n",
       "yVHNJjsfCNsKyhOGHbcoTrhZE9rSmTJCCKo+nruywbF86qY0ZYZ2Q6KGS2PCIIoi0rA3QZBs9HGY\n",
       "5XoGZwnSgwcThGD7xUlrsliyw0TXVF0qNwYIwQQnKnOYfA5TAPu0RibkMuZDyC0bHGLR88dZ7xd8\n",
       "dJfa4qiCmxfhHfCAQYaSgJry8V5Uy7xCxnwIp8Bg+Jkpk/y2cLTFDoYgkVOcmnoR4j2QaIQmsUKD\n",
       "AMfVM4MV6wpqv+pITCmOBr0IqR7IhJYvm21kDqDfI4shPDGsGvAgIBKJ0AeZFtOYTJ5sD/qRiK+r\n",
       "RjwIaDoGQ09HeYJVdLRwtHtzfadjoK5cE3gQTALzgrBNAemxob6eOFNRYnkQ9oP7Q6sEPwfI5oH9\n",
       "KSP/VGFZMRunNHouIuSWbw1L4lGufnaov1xFNSFvG//tizTxj4cnwhg8pxs8sSMONgnL/wD2bBlb\n",
       "XXhYZgAAAABJRU5ErkJggg==\n",
       "\" style=\"display:inline;vertical-align:middle;\" /></a></span>"
      ],
      "text/plain": [
       "|- (Sum_{i=1}^{8} v(i)) = (Sum_{i=0}^{7} v(i + 1))"
      ]
     },
     "metadata": {},
     "output_type": "display_data"
    }
   ],
   "source": [
    "vec_sum_02.shifting(Neg(one))"
   ]
  },
  {
   "cell_type": "code",
   "execution_count": 8,
   "metadata": {},
   "outputs": [
    {
     "data": {
      "text/html": [
       "<span style=\"font-size:20px;\"><a class=\"ProveItLink\" href=\"../__pv_it/demonstrations/9b2e5fd129f7f90ae1ffb439f5857d4051acef3d0/expr.ipynb\"><img src=\"data:image/png;base64,iVBORw0KGgoAAAANSUhEUgAAADgAAAAUBAMAAAAqxuNgAAAAMFBMVEX///8AAAAAAAAAAAAAAAAA\n",
       "AAAAAAAAAAAAAAAAAAAAAAAAAAAAAAAAAAAAAAAAAAAv3aB7AAAAD3RSTlMAIpnNuzKJRKvvEN12\n",
       "ZlQ4bmvwAAAACXBIWXMAAA7EAAAOxAGVKw4bAAABCElEQVQoz2NgAANDBtyA6wMeST4D3HKM2WYB\n",
       "uGWZH6CZZPnTZLfnBQZGJZMABv4FqJI8HgEMBswMDCIMbN8ZKtFMYlJg4LmQx8DQyMAwk+EEF6qd\n",
       "HAIMS7gcGBjmL2DoF9Bhg5p7ZPdukMO5GBhUOYDquxkY+gOCrkLkik/B9LI2BEEY++FesoIbzLLA\n",
       "C6LoD9xHAnDJZ7wHwDR3A1wS4SQDKFsFLhK5GwgcwB59kM7AAHQkL1wjwxIEi9EB7MtnDIwwq7jh\n",
       "kq1AnwKjijWBgQcWeDwHYB5RKAKGxAYGaSUlbbgGO7hHrBgY/RwY9v///xkuucIdYkil8xSX+VMS\n",
       "0EK8zHs3UrwDAGzGOOHznct8AAAAAElFTkSuQmCC\n",
       "\" style=\"display:inline;vertical-align:middle;\" /></a> <a class=\"ProveItLink\" href=\"../__pv_it/demonstrations/0830b2b3438f5f74e4f5f49a78f5961b45bfa8c70/proof.ipynb\" style=\"text-decoration: none\">&nbsp;&#x22A2;&nbsp;&nbsp;</a><a class=\"ProveItLink\" href=\"../__pv_it/demonstrations/b461e2b4bf19921e5cea1d247efd71398d7c999b0/expr.ipynb\"><img src=\"data:image/png;base64,iVBORw0KGgoAAAANSUhEUgAAAUoAAABLCAMAAAAh3D4mAAAANlBMVEX///8AAAAAAAAAAAAAAAAA\n",
       "AAAAAAAAAAAAAAAAAAAAAAAAAAAAAAAAAAAAAAAAAAAAAAAAAABHL6OuAAAAEXRSTlMAzUSZq1Tv\n",
       "EGYy3Xa7iSJQQBQRrlsAAAAJcEhZcwAADsQAAA7EAZUrDhsAAAdPSURBVHja1VzpuuwaEI0QhMS5\n",
       "3v9lb9LZrQ0lUcKXbr/2QKxV1IBiGFwh49CwGCVutG6LpVvJkKSsbTfrje+1xtKtgCQnLhp3w2Vt\n",
       "y/ZYuhWApICJG1rfy2hNXcMOWLoVgCQjYE2pb3TDlsp2HbB0KwnJ2YJ2Xis63TDKtqpxFyz9PE9M\n",
       "koQTQawrY7u9Ure6WaqaY7AISZ6WZURyiibCbpXoVkXcAzrbCp3EYJm1Vk+LMiJJIkA7G2PnYaKD\n",
       "vDVivGJSorBMj4syJJnMHikO+IZKc6eXCW8tkVi+QJQBSWaBOG5tAdKiLQQSyxeI0icpLBC1zKpF\n",
       "mMy26YSLKZFYvkGUHkkJqKFZmiw4RrviGlximZd3Md8iSo/kkurUvrIwpsXkRzoeLJZvEOWHpLAq\n",
       "nQfzPNMW83LBaTgay1eI0pGUqRJyu5cWvWichiOxmJXY9fn1pCPJbMfNwRnnw7ti6U+S2652xGLs\n",
       "RF8svUkC5qllIZh51hlLb5KTXXr2QjHr8M5YepOk2NAPGyguGEjrT4ryjySxXbcBZ0xk2RlLb5Ic\n",
       "u7bDrgQRnqQzlt4kAxdLbKbUB28WIZ6Mu++AqrkLn/f9KxvY/Yi5MKNmW5TMq3tR5UprMjO4A6rG\n",
       "5UVyCuMPZqF4RKp6I0bK586Ui4Xao2oeDel90UMi+VromJzm/bA5/XUTQ7FX1tmlER7VCaL6yuaU\n",
       "5BoFK/OmTNAhBM31oaOZMeo4wClOtVizgRMa1QnAG5UdN5Aki5nqDTUEMHPIMx1zTiz8rYJaRvIp\n",
       "XoWzvNSRqBKAHr7rysBQ/m0+O24QycXSZMsIsXz7nAMS9x0iwl6Kv5ZiqUQFASQUwyb4K6PkHVo4\n",
       "bgBJksAXm2sszimhbnQ+LkDScD4V+1ly0i8KFQSwxEVRmVUKEXEDSKrUK4ybMpXaF/5p9BmmIHtK\n",
       "lsfo6sxDYVABAMeSHSo+XInywy0lyQH46xaxlW2NTU4jVg8GkXWi5KfOvhwVBHDlGDZ5UTpuKUkO\n",
       "hX3b8iLzVaHX/RPqb35Qx52w3WgfBwdB1uGEEaU+1/8CD5YD6OPL6vd6LUrHLSXJoSBjN0zwZ9dh\n",
       "2oeXs2hoxPaZaTJHOl+QyBOLkiqvsEiUpw45j+oaYIAvO1byWpSOW0oSjteSpdo7KJgGSryg4T34\n",
       "WwMzTsNMjhNVHtq48pWsvFgNXS7ocwADfFlbPV2L0nFLSWZsOYUN0/Ynrg/Exzx6b5FTLmcvoA6j\n",
       "a1Esygu/Qi/NZQ5ggG+PejzVcP/4qwz88yNKxy0lae2/3FJNwzNj/6geIlEqQqmDNPoD9h9GlP8u\n",
       "ffzlih4GGODL2urxelY6binJ3EwwmYiYqsMihSohtq+MTvmCw+l4Vp7Yyutox1zH6SDAEN8tBVdZ\n",
       "kjn4msNmZdnZT+//LfodDIgX3ONXuYS9DK0UPIvqCmCIL9tUF7idJf7Bkcx4zewQrptRN67Ld0Sw\n",
       "p4+LrcmaBhUjJhi6WFKPBdvIIMAQX7Ypy8e0Jg6YUpIw/Dk/PyiT0lvm/43nXl1TfYydGvuIci5a\n",
       "7kAAQ3zZ7+e2Sxm3hMmQW0pSwXFl6XatAqaJUUOdKNVVXFlxAKHmppUdN4AkuMlNijcOJL3aFJgw\n",
       "2xnnq52a7QxJm1Z23ACSC7CAWBBH10viB0zYWmI22c5s2VKXbrCYhpUdN4gkS7euKJhkmzFTYrmA\n",
       "ozFbv/QsyEGgOgV4o7LjBpFMzwskGHDIHGgTKaU2sfMr5nJ2doFEdQLwRmXHDSSZMIUDjqn6nJSW\n",
       "79ieSL01qsblRVJG+gfephPUVt/VXMoPb2XWFjRH1bi8SI6hgwUCDjMxa+szUBB5QGPO2bdH1bi8\n",
       "SEYZEcQSvyh15C/fyHtE5AHlsjM6oGpcDpLBoSjNZefU38/DpP3CB7Q9UDUuB0nVN/3bYBJ71E+m\n",
       "ojuSrO/Yjpi8fvY986yGpO7rBlG3TbSlPynKP5Kj7Xo7nWEOrztj6U1S2K4XPBTmsklnLN1JKt9t\n",
       "SgUF1OuqK/PtBS6d1MeCgPLwuw+O5BrYeuioaH9LZazbl5ks6vWlAEsxlKfffXAkR5+tgTSMv+JP\n",
       "c8OKlBtLVgXl2VujH5L+bTi5DCbWIPOyBLwqWRl7086rj4HyrCg/oKm3tGPaTIKbgbob7HKYj1C+\n",
       "JuSbLfJ1NQ8LBsqjovRI+k8J8D2DeI6rvqZCzc0Ojc3j87BgoDwqSp8k5x8FApIYDq2quo1A0BuK\n",
       "Dss5lG9698Enqd3Sd7NPo9rz/32tqnc7M/7OosOCgvKkKEOSTtmZ3g+DY/56j0BqnpRkFv9oxBsL\n",
       "CsqTogxJru/fdnVhcgbi4pqXNIStkP8bCwLKo+8+RCRFn8vDusYoiB+7yByT1LbHO6ac1mETvyTK\n",
       "hKRae4xXnUzU+lOTUiTLSNO6E1G7j9sBS0dLmZKkzV+tYNVfpL/zggZIUjU+CxhvPCOtfuVcAiY5\n",
       "N35BW9048Zp/5TXvDMmxqYUSt84Ox9+wlgHJ/wEROlj4Jt5/ywAAAABJRU5ErkJggg==\n",
       "\" style=\"display:inline;vertical-align:middle;\" /></a></span>"
      ],
      "text/plain": [
       "{2^{t} in Integer} |- (Sum_{k=0}^{2^{t}} v(k)) = (Sum_{k=0 - 1}^{2^{t} - 1} v(k - (-1)))"
      ]
     },
     "metadata": {},
     "output_type": "display_data"
    }
   ],
   "source": [
    "# Here we temporarily set auto_simplify=False to see the underlying shift\n",
    "vec_sum_03.shifting(Neg(one), assumptions=[InSet(Exp(two, t), Integer)], auto_simplify=False)"
   ]
  },
  {
   "cell_type": "code",
   "execution_count": 9,
   "metadata": {},
   "outputs": [
    {
     "data": {
      "text/html": [
       "<span style=\"font-size:20px;\"><a class=\"ProveItLink\" href=\"../__pv_it/demonstrations/9b2e5fd129f7f90ae1ffb439f5857d4051acef3d0/expr.ipynb\"><img src=\"data:image/png;base64,iVBORw0KGgoAAAANSUhEUgAAADgAAAAUBAMAAAAqxuNgAAAAMFBMVEX///8AAAAAAAAAAAAAAAAA\n",
       "AAAAAAAAAAAAAAAAAAAAAAAAAAAAAAAAAAAAAAAAAAAv3aB7AAAAD3RSTlMAIpnNuzKJRKvvEN12\n",
       "ZlQ4bmvwAAAACXBIWXMAAA7EAAAOxAGVKw4bAAABCElEQVQoz2NgAANDBtyA6wMeST4D3HKM2WYB\n",
       "uGWZH6CZZPnTZLfnBQZGJZMABv4FqJI8HgEMBswMDCIMbN8ZKtFMYlJg4LmQx8DQyMAwk+EEF6qd\n",
       "HAIMS7gcGBjmL2DoF9Bhg5p7ZPdukMO5GBhUOYDquxkY+gOCrkLkik/B9LI2BEEY++FesoIbzLLA\n",
       "C6LoD9xHAnDJZ7wHwDR3A1wS4SQDKFsFLhK5GwgcwB59kM7AAHQkL1wjwxIEi9EB7MtnDIwwq7jh\n",
       "kq1AnwKjijWBgQcWeDwHYB5RKAKGxAYGaSUlbbgGO7hHrBgY/RwY9v///xkuucIdYkil8xSX+VMS\n",
       "0EK8zHs3UrwDAGzGOOHznct8AAAAAElFTkSuQmCC\n",
       "\" style=\"display:inline;vertical-align:middle;\" /></a> <a class=\"ProveItLink\" href=\"../__pv_it/demonstrations/2319d599e88f50608ddfa7acb74e6f1e9274aa6a0/proof.ipynb\" style=\"text-decoration: none\">&nbsp;&#x22A2;&nbsp;&nbsp;</a><a class=\"ProveItLink\" href=\"../__pv_it/demonstrations/76077b5a0813a3f89597401c82671ac71ac226f50/expr.ipynb\"><img src=\"data:image/png;base64,iVBORw0KGgoAAAANSUhEUgAAASEAAABLCAMAAAAI28GhAAAANlBMVEX///8AAAAAAAAAAAAAAAAA\n",
       "AAAAAAAAAAAAAAAAAAAAAAAAAAAAAAAAAAAAAAAAAAAAAAAAAABHL6OuAAAAEXRSTlMAzUSZq1Tv\n",
       "EGYy3Xa7iSJQQBQRrlsAAAAJcEhZcwAADsQAAA7EAZUrDhsAAAbzSURBVHjazZzboqMqDEBFroIw\n",
       "h///2aOltYKBEoTu+rZnqixDbiTgNB0Xmad+l9Pyxt1dUbrBU9Z1FHvjcZ1ROsFzIfuOIlTrnd1R\n",
       "usBL8IUcbR9k9q7tRgDlDkcveEagHypzYxS2Nt5H+nL0gV885BuNpvyGv/NNNwMo9zj6wJNo3qS1\n",
       "jO2+QN8aZW26/YRS5JCKjBRRAs/jedutnm6/kPcYFt9gHGeUEsdijB4poQSexIPtkM4vE6eTujUP\n",
       "okGFdC0HHyqhGD6dbCUDmaPK3RmE4z1RhFLmGCyhCJ75awJie4zv0WZ6QclzDJbQGV76a1xedI+s\n",
       "jW0KgMuFUpQCx2gJneDV1Rjc2iWtnb3F3ZCiRBzL+rrcNyR0gl8vRrbnsM710FSkr05QihyjJfSG\n",
       "l15fNGhZFtpDi1acmSUoZY7hEjrg1cUUhN+vHoMYnJklKCUOZ4m3YxcjBzzz46oxCy6ajUS5AS/8\n",
       "SFv2GGMditIMf3VDPS+C0YqxKM3w3K8DB6GYtdlYlGZ4is1ZkAnOiiGyPyWhJzzxI2svCyYjGovS\n",
       "DC+wKwPkMgLhfMeiNMOfow3xmas98fCItwYC3wAiLLw7TzL3yQtJNxu2JW6ieRBdbzkO0LcBRFh4\n",
       "HkVY5qGAq3S7gyD1s82hsfsTYeFNnPVq76FuGi1EJFf4a3/D6vhkwAS8gQgmqVDiCYK3cTheNq2G\n",
       "Kq80O56JJ3M2aQSvbqBaMDPAE4FcVfUOMwHwLHkDswFBY+cK1vyhInIVL1swKnnt6pUZg4WJJcpw\n",
       "FcP6s06XsAf41dN0zY/J/Y82BDkeQ2Q8SPXTLihNRFmu7E8ZJa8gGrMHeJJiyS1Q1DeB6Uvqb8+p\n",
       "aKwBot4vwuPiiLJcb2NSVzWVEHuA1xdPOm9aXW3D4rjpLf1oY4KqTxl1zqmjiPJchwGarIRi9gAv\n",
       "rlh2yzYqaxb8pcz2pClEtUlIZMMegqjAVSOhiP0lIQOoe869SmP3R+jXjNLXOxG2O8dQMY1233CM\n",
       "hEzeAD84/AQM5KqRULxziAcJKdDw4em0E98nRbBE5HJ7Cucu7GuJGuqphKg+XSyRUDY85YlgMJCr\n",
       "RkLxZoAHPJhsXHL9V1TkEyVHKD3NGfdu5tNCQptGxD6kfhWkCvl2cYGXgoFcNRKK2AM87AMpbPjb\n",
       "PwkTgJ7T/qwgUqGWU44XJ3yyWkK8VDsquaIUDOR6KbAQqQK/JRSxB3jv/8FxBXYK/PGs479eJJpQ\n",
       "eqDM53n4DyOhf8VIV1zhxWAgV40ORewBPjNxLpOkUR2sPrYyuT1kPqwgamSlOlTwQ+WQ7sppYwwG\n",
       "clVZmQZ0CMQyAl72rPtL8eP/VvOMivJB8/xrjQeZelhZlggEA7mqPHW6Ss0FkDnnFu3mD917hGdw\n",
       "3Lceyu0WG4dapKcuxLICEQgGcuUlZI+FX8Qe4EGsJT+blCl1XvKFKdt/bqgJM6Hn/hJaPibVERjI\n",
       "lZMQY8ITpq7sAV6D+VB11UtfZ9bpqU1CupQPIauuuqBxPP+smD3AQzVAUr9OVDS/aHzGGMTKNZ9T\n",
       "Y1euqnDDrD4veE/w6zVXXTF9vTX1ny6+W2GqH7m0ecV3GteWzT0Je4Bnl8ICBbd95dyAXMtoBlNB\n",
       "o7lIjiHKcLWI9QF/qZIqMKqqLI+LTcO4mtJqJm2GC7ZYIpCr5krZA3z6BnBU5c3NF1pf/MoIszcR\n",
       "Fl7FVgAeNZDUNx89Weu7QQo0yO5EWPg5ijVAVHWced/eLkb04mco7PUnwsLHjU7iyfna1sGhB9y+\n",
       "rwfRi4d6rgOI0PDnVgvNdcnbDy9gNqEBXZ8BRGh4PXTvoMM02PVPbWM84NnQ6ZgxWz3ZdzQDC2+G\n",
       "RgXUdmHj6U9J6Ak/+5En2Rim0TUWpRle+pFbdDVmt/BYlHZ4fYogSkP5nbWmcQumxO2E+oySPH7o\n",
       "Sc4D3p79owCiyX5SeW7bx8s96uMCH1Hia/BJzgN+Pr2Fg9RcPNImN9wNVaBcXkKPd0NTdFZArdua\n",
       "2KZZwW6NomlXHPYYwgeU70roDUPfCwNmHJfCTfQ47KamJSSWLanK4pFf8ABQIpZvSugEfzqMJ/a9\n",
       "bUv6y4cOtWzPNdhNLR9QviqhM7wQh0EBLcpgZU17Twm6iFNG+epJzjO8ea2HNtuf9ZRqdrOnXvDn\n",
       "NK4of2VlMfzL4pjZO03pa5k92rd8Eoh5/EnQMsoXJRTD2+dfu+oytQAZY8upV+kbxPoBJbb/gSc5\n",
       "E3g55NiSabFM+SMnqFJ44wd8NkrQNjT5CxK6wGs7YBbaXlXbn1AheVmDuO6G3FgO64/SB572PmLK\n",
       "mh9I//60Kwiv+1ZA5xsfxNN/XYyF4Ze+3/jTN4ryy19/bjADP/c0f3mrazH/rSeK4P8H6HhU51v/\n",
       "/msAAAAASUVORK5CYII=\n",
       "\" style=\"display:inline;vertical-align:middle;\" /></a></span>"
      ],
      "text/plain": [
       "{2^{t} in Integer} |- (Sum_{k=0}^{2^{t}} v(k)) = (Sum_{k=-1}^{2^{t} - 1} v(k + 1))"
      ]
     },
     "metadata": {},
     "output_type": "display_data"
    }
   ],
   "source": [
    "# Then we allow auto_simplify to proceed as usual\n",
    "vec_sum_03.shifting(Neg(one), assumptions=[InSet(Exp(two, t), Integer)])"
   ]
  },
  {
   "cell_type": "markdown",
   "metadata": {},
   "source": [
    "#### `VecSum.partitioning()`"
   ]
  },
  {
   "cell_type": "code",
   "execution_count": 10,
   "metadata": {},
   "outputs": [
    {
     "data": {
      "text/html": [
       "<span style=\"font-size:20px;\"> <a class=\"ProveItLink\" href=\"../__pv_it/demonstrations/dfd81b3221c42eb614399db7c85dbd04c9eed5080/proof.ipynb\" style=\"text-decoration: none\">&nbsp;&#x22A2;&nbsp;&nbsp;</a><a class=\"ProveItLink\" href=\"../__pv_it/demonstrations/9e4f42c37f8e309b66a4b56449a284a8c4798c380/expr.ipynb\"><img src=\"data:image/png;base64,iVBORw0KGgoAAAANSUhEUgAAAYUAAAA/BAMAAAD9K8ncAAAAMFBMVEX///8AAAAAAAAAAAAAAAAA\n",
       "AAAAAAAAAAAAAAAAAAAAAAAAAAAAAAAAAAAAAAAAAAAv3aB7AAAAD3RSTlMAmXbNRCIQ72Yyq1Td\n",
       "u4mXa1p+AAAACXBIWXMAAA7EAAAOxAGVKw4bAAAHkUlEQVRo3q2aX2gcRRzHf3t3u7nL/cnRohZp\n",
       "zbVSlKrJSaHUouQoSqg+5PShKmjvWilFbb3gn+KfQq/2RVDJ4WMr5PDBP/WhhaIBKc1RhFJqbSgW\n",
       "RZCcFcE/D0lrk6Zt2nNmdmZ3dm9md2c3C8l3srPzmf3Nn9/8ZjYA+FpGfkNy4A6QXsYGeR5oBZqg\n",
       "pG2PfxiOxEDv/172B/CgWNHUtbDH4z0f8si710UaXmyHI1FQrGxMBQBwoBFq808Q9yiYlb9WYs5F\n",
       "2gIQisRA2RIUAwBskPE2TQy2P/AoaLwnzdpVd5G2PFUNRWKg2O1kPQDABmnM5FjHawTAhPS9lrtJ\n",
       "T279OhSJgWDwNgQBWKDxBk0cOnTZq2AmL8lIXXeTUDIMyQKlvjqaDwKwQJtYThGGGx4F03OSjHjT\n",
       "TToGtVIIkgWKQ+IdCABwK+hTkDvmVfIxyf3JsvvVrkOlHILEQPAiwL8QBEA1Y3mxDdDrNRVhUtJL\n",
       "58BNuhPWQQjSOatDqvB5IADVcavtn17zp2fBHvEYTd1kc8AivTbQDkGyQKAvGygHAlA9CkEvbVZ4\n",
       "u5fdjkrqnVUGmGpcDlwwsSC8XaNtEplUyysDTE1eD1wQ3hDeHaNjMzJprKEOIJoN3oHQLxyk0ywC\n",
       "iEqaBnUA0b6p4AUnhQHALaqRSbdAHUB0pB28YKUpGposLIhKStwGdQDRfrygxjvcVZB7tFGRi7jK\n",
       "ujciyQQpAogO4WUt3aHzcefmLzqj8ph3XhQgsJtRSSZIEUB00XTti1buRzelBWOirL4WTUQlUZAa\n",
       "AKtuTqRMxx6gq+ShlmgFqNCpHJlEQWoArDSd6tirjubwe2XrF3pK5Dkm8w5qeBIFSQG69YsDYI1d\n",
       "oZuOjv047/diJAbaTFfiRYENg3TiRSYxkAzwAHFeBScAq0bHVbbTEvbZSfSzGmKU1RGtNjTSi0xi\n",
       "IAkgjVx3LA/3gxOANEu9gLFfGO0YeHf5Iw7LyXVeEJtP0wghMomBJICX8Fxp47DcAUAat44kOqL9\n",
       "j0ab7QB1n4IQgd0LSUrU3SAJYAWNyvLOp5H2MEed6+wVLSVMTaunBTvM/bRBQpLSBTdIAmBrBc1j\n",
       "AKR9VqA29J+g4HG2/pitdVTQQGxghiTZNthTRARIszOTjeAAILVr3sWfzBgDdTiL9B6UXI1qzTUV\n",
       "bFAiiWxwAHb8BRn0sIZu7cDj6R8PG6xFnnRnehTeNY3OJVAvJs1W6DcbUfuBXE2JDQoksQ0OQHsC\n",
       "eppm/7WH0d8HwQFAWrOD/v5rtq84rBWJMzxrJiE96qyZa2dWdUiSZYPBuVsOkDq2nLhV1Bc4CTDR\n",
       "bYMdVmW4MLHaU4DDSN80k5AyX3CmO5A0rjEbQpBQh57eRzvUAjkBBryOXh75ghJJWqdv7FWQcjXr\n",
       "/No5WYWCWTNOQmJUxQYVkt0PnA08ID0PMSA24CTAsJcNsbe4mlei0WeOANhkoNItviA/H0Q2BCdJ\n",
       "bOABWgtyQMYSxJuoEU502WDPRBjht+S/QhovIhcQ+ypCJKdk80Ewp5VIojntAGSb8A0W9FythFrj\n",
       "4675YNeccgTrf8AzYDqy1OxzpmcLbIMSSWSDA5Ar6vgR7JPH9Tpx0lIbdjnGuvYleeZT9INTmZLK\n",
       "+qBCEq4PDsDd5KtICo3BXpz6vmt96LFqflh4SE479QWQ2rCfBRHhSFysAZ6AM3S6t7psyLAoJys8\n",
       "WWER1gpnaMlfLIAMSbJjPiuUFQMOOGNHBkDKImZYaS9LfGNfZMf6ZjVl/9g7NMkySwzIltmxvgOA\n",
       "lJ2sJG1vluRr3sOX57qbW1NLzjOa0CQGkgDol9KLrpGHNLbQ5c0meDDxCbCW/nVNtBelnRuZxEAy\n",
       "AHFvsbILgDRpHq7ptjfbLj++1kX76TEaY0YmUZAaAGvihtOb6d915MfX9GHnNdJ0ZIYnUZAaAKth\n",
       "bjeG1pPr0dOdjmRLT5r6iuirAd2cRCZRkBqA6HkyH/lDzrq0oCZqlwxbF6KSTJAigGh/Ofhhc1z0\n",
       "hUGb8/w6EZykzYE6gOhYPXjBPlHfJtmxXFRScgHUAUQrwT+CwbjoC4POnEdUkn4Z1AFEe1rBCw4K\n",
       "P5jtYwFTVNI+UAcQzc0HL/iz8O4MDQ0ik2aq6gCiuumkjAAT0rghvF2hDj0yiYJ2QnAA1fVmI1pb\n",
       "woNynyxecuLs9CoqiYIuWbufNXU/ANUxZ7t98qDcn4kHfJL5xKikpMu5PpKa9QNQrblcxAlpzRVx\n",
       "sxjse2ZUkuH8MJrLQ8kPQFXD5xGJdQFqnpHcv4stUlFJBLS5yfzcE9/6AqgaeCru6Ktqv6HrF4+a\n",
       "jSuSjFphiUgYZBTmYRUG1Gt/b6/7ACzQfehn6wn/1tNk/j82ukQkDNJfbVnjxZjzAVigTME8/vGr\n",
       "uSIdnaeWinSKHiSZYUQDFnwAFgj/U6kx3/AdAUeko5P9W2tkEgbVXqZjKVOCqz6AI9wpFqSLeb/W\n",
       "S+6V2pArLhEJg45r1klIquUN4ECo94zPmG/fNnRJXPBZj/8uurBUJAR6hW25YWB11RvAgYwzQSKU\n",
       "jR55uxtLRNrdUAHwoOeDRCglj0y9sUQkvaEAoPo/HDd3A3zho0kAAAAASUVORK5CYII=\n",
       "\" style=\"display:inline;vertical-align:middle;\" /></a></span>"
      ],
      "text/plain": [
       "|- (Sum_{i=1}^{8} v(i)) = ((Sum_{i=1}^{5} v(i)) + (Sum_{i=6}^{8} v(i)))"
      ]
     },
     "metadata": {},
     "output_type": "display_data"
    }
   ],
   "source": [
    "vec_sum_02.partitioning(split_index=num(5), side='after')"
   ]
  },
  {
   "cell_type": "code",
   "execution_count": 11,
   "metadata": {},
   "outputs": [
    {
     "data": {
      "text/html": [
       "<span style=\"font-size:20px;\"> <a class=\"ProveItLink\" href=\"../__pv_it/demonstrations/54d2cfd4ccf206ba6fce2e235f5fe3929d1be4f60/proof.ipynb\" style=\"text-decoration: none\">&nbsp;&#x22A2;&nbsp;&nbsp;</a><a class=\"ProveItLink\" href=\"../__pv_it/demonstrations/313250a4991c917eba2f133ec3a9a0c7104432b30/expr.ipynb\"><img src=\"data:image/png;base64,iVBORw0KGgoAAAANSUhEUgAAAYUAAAA/BAMAAAD9K8ncAAAAMFBMVEX///8AAAAAAAAAAAAAAAAA\n",
       "AAAAAAAAAAAAAAAAAAAAAAAAAAAAAAAAAAAAAAAAAAAv3aB7AAAAD3RSTlMAmXbNRCIQ72Yyq1Td\n",
       "u4mXa1p+AAAACXBIWXMAAA7EAAAOxAGVKw4bAAAHjUlEQVRo3q2ae2gcRRzHf7t3u7nLPXK0iEVa\n",
       "c1Wq4qOJFEopSo7+U8E/cvqHD1BzVkqxtlzwUXwUcrX/iCg5xL9aIYfgq/80UGpAigmlUEptG4pF\n",
       "ESTXqiAKzaU26TvnzOzM7szdzN7O7i3cfSc7O5+53zx+89uZAOBrBfmGxPq7QHnZG9V5YORpYgW7\n",
       "MxiOxEAfXix2BvAgk1a4Dnb7/M7HfPLubyGB2QhHoiCzaM8GAHCgYWrzzxDzKZipK7Piiy0keLoR\n",
       "isRAmYJfR7oAD2S/SxMD9Y98CtofKLN2VFpI9gONUCQGMpcTlQAAD2S4A6BZ9ykIUyVVzso2kt0I\n",
       "RWIgGFiGIAAXNFGliQMHFvwKpnOKjOSNVtJRfxtUJBeU/O5wLgjABW32fMnWqk/B1KIiI1ZrIVkV\n",
       "fxtUJBcUg/h7QQCtCtYsZCf9Sj6puD9dbCElL19cDkNiIHgZ4F8IAqCadr3YRugt+RWcVvTSGWgl\n",
       "gbUEIUhn3A4pwdeBAFQn3BZ75r6/fAv2yMdo8habDl7bf7wwqU9yQWCtWF8M9FOoHoaglyEf5L3s\n",
       "dlRSb0Mb4Ki9ELhg/Lr0dpm2SWRSOacNcDRxI3BBeEt6d5yOzcik8ao+gGgmeAdCv3SQzrEIICpp\n",
       "DvQBRPtmgxeclgYAd6hGJt0BfQDR4XrwgiM12dBkYUFUUnwZ9AFE+wvYHze5K6/2aKMyF3GVdW9E\n",
       "kgPSBBAdwstaqknn4/Yt3zRH1TGvbOWKsZtRSQ5IE0D0tuPab7u5n9xSFjRlWX0zNBGVREF6AKyW\n",
       "M5HSTW+ArlGHWrIVYIRO5cgkCtIDYKXpZNNbdQzB7xXdL/SUzHNM5wRqeBIFKQGW+8UBsJpX6EtH\n",
       "03uc93smiXu20JX4tsSGATrxIpMYSAV4hDivvAjAatBxlWnOSPvsR/RZCyZlNWWrDY3uIpMYSAFI\n",
       "Iddt5uAhEAFIM9QL2GPSaMfGb5dncVhOrnOS2HyORgiRSQykALyG50odh+UCAGnM3ZJoyqJlgzbb\n",
       "Puo+JSECuxeSFK+0ghSAVTQqy4lPI+1hjjrb3CNbSpg6Vs8V2h8Zow0SkpTKt4IUALZW0DwGQNrn\n",
       "BmpD/0kKHmHrj9NahyUNxAZmSJJngzdFZIAU2zPZBAIAqVfzDn5nxl5fgdNI70XJtajWbE3DBi2S\n",
       "zAYBsO1vSKOHDXRrGx5P//jY4C7ypDtTo/C+Y3Q2jnox4bRCv9OIxk/kqils0CDJbRAA9SnoqTn9\n",
       "V9+K/t4PAgBp2Qv6+695vuKgMUic4WknCalRsWaunVnVIUmuDTbnbjlAcnIlcauoL3ASYKrdBi+s\n",
       "SnNhYqknDweRvu0kIen8wPn2QNK+xmwIQUIdenIv7VAXJAJseBP9eOQLCiQJMAHCT0HK1Wzxa+d0\n",
       "CfJOzTgJ8VEdG3RIXj9wNvCA1BKYQGzASYCtfjaY73A1r0ajzxkBsNlGpWf4gvx8kNkQnKSwgQcY\n",
       "M5AFMpYgVkONcKzNBm8mwjD/Sv4bpPAich6xryJEYlY1HyRzWoskm9MCIFODo1jQc+UCao1P2+aD\n",
       "V3NSCNb/gGfBcWTJxguOZwtsgxZJZoMAyA5a+BHskyesCnHSSht2CGPd+JY88wX64FS6oLM+6JCk\n",
       "64MAuIeciiTRGOzFqRNt60OPW/Pj0k1y2qkvgdKGMRZEhCNxsQb4Ak7R6T7TZkOaRTkZ6c4Ki7BW\n",
       "iaElf7EAMiTJi/ncUFYO2CfGjgyAlEXMsNpblvjGvsC29Z1qip1j79Ak1yw5IFNk2/oCACnbWUl4\n",
       "3izB17ybL891N7emFsQ9mtAkBlIA6EnphZaRh9S83ubNpngw8Qmwjv51TfYuSjs3MomBVADi3sxi\n",
       "CwBpwtlcszxv9qp6+9qSvU+P0xgzMomC9ABY4zdFb2b90FRvX9OHxWu4JmSGJ1GQHgCr7bxuDG0g\n",
       "1xMnm03FKz1p6iuyUwP6chKZREF6AKLnyHzkNzkryoKGrF3SbF2ISnJAmgCi/cXgm80x2QmDseh7\n",
       "OhGcZCyCPoDoeCV4wT5Z3ybYtlxUUuI66AOIjgQ/BIMJ2QmDxZxHVJK1APoAoj0zwQsOSA/M9rKA\n",
       "KSppL+gDiGaXghf8RXp3noYGkUnzJX0AUctxUnaACWnflN4eoQ49MomCtkNwANUNTiO6r4T71T5Z\n",
       "vuTE2O5VVBIFXWLz48+nJjsBqI6L7fbZo2p/Jh/wCeYTo5ISonONj53tCKBabnERx5QFR+TO02bn\n",
       "mVFJtngwGvc5cmcAqgbej4g/HKDmecX9u9kiFZVEQFtqzIbPv+8IoGrjqbitr2T8jq5ffWq2rygy\n",
       "yvkukTDIzi/BGgyoxL/aOdkB4IIeRJ/njnVuPUPl/83RLpEwyHrDy0w2OgBcUDrvbP90qnmkoMo5\n",
       "3i3ScbqR5OwWgH21A8AF4X8qtZeqHUfAIeXoZP/WGpmEQeXX6Vjqq1qLHQCHuF0sSA3mOrVeYo/S\n",
       "huxgl0gYdMRgA6Zk1vwBHAj1nv0l8+2vDF2SF3zex9Wd7xYJgXayV2770mXwB3Ag+1SQCGWTT96u\n",
       "apdIu6o6AB70YpAIpeCTaVW7RLKqGgCq/wPHE3uXiFrueQAAAABJRU5ErkJggg==\n",
       "\" style=\"display:inline;vertical-align:middle;\" /></a></span>"
      ],
      "text/plain": [
       "|- (Sum_{i=1}^{8} v(i)) = ((Sum_{i=1}^{4} v(i)) + (Sum_{i=5}^{8} v(i)))"
      ]
     },
     "metadata": {},
     "output_type": "display_data"
    }
   ],
   "source": [
    "vec_sum_02.partitioning(split_index=num(5), side='before')"
   ]
  },
  {
   "cell_type": "markdown",
   "metadata": {},
   "source": [
    "#### `VecSum.partitioning_last()`"
   ]
  },
  {
   "cell_type": "code",
   "execution_count": 12,
   "metadata": {},
   "outputs": [
    {
     "data": {
      "text/html": [
       "<span style=\"font-size:20px;\"> <a class=\"ProveItLink\" href=\"../__pv_it/demonstrations/51357f727c41452147074c64630172f03bb2a6130/proof.ipynb\" style=\"text-decoration: none\">&nbsp;&#x22A2;&nbsp;&nbsp;</a><a class=\"ProveItLink\" href=\"../__pv_it/demonstrations/0b74b249d7df56ff56576b7d5d3a621baf38ed8e0/expr.ipynb\"><img src=\"data:image/png;base64,iVBORw0KGgoAAAANSUhEUgAAAUUAAABABAMAAAB/4HhpAAAAMFBMVEX///8AAAAAAAAAAAAAAAAA\n",
       "AAAAAAAAAAAAAAAAAAAAAAAAAAAAAAAAAAAAAAAAAAAv3aB7AAAAD3RSTlMAmXbNRCIQ72Yyq1Td\n",
       "u4mXa1p+AAAACXBIWXMAAA7EAAAOxAGVKw4bAAAGMUlEQVRo3rVaW2hcRRj+z17O7mYviRZRpDGb\n",
       "SvFBNCuFIsWSJT74mNUXFYSNSqm3sMFLESxk61MfxOyrVcj6pOhDA0WCPriLL6Ua7VK8PJWslor0\n",
       "wSS1udTEHOecmXNm5mT+k3Pm6ED6JTPffPvPzD///DNdgP+l1P57yTspZB++C+eYRwMEjLKMw19+\n",
       "0NJTwoiJCsXDMB3Q46GAtvt9uGxZQ3pKGHGSLc2PkAzoUOyjTal1GWEIDD0ljGi+zX4Z658Nmvl3\n",
       "0KaTTRmJP/6up4QRjYq75lbgABensJYDPgTIV/WUMOK8697nzq0FdShgLpa7LSMp06ClhBKPuTUV\n",
       "eKIV0CG/jjQk2zKS8n7gR6NKGNHrkO5BaSGox3GkvlOTkZRHgz/7eNidzYiFnltxFAYCHaWDzPL3\n",
       "PiRlK/ijO62QNjLivDd3Tx66Htgho3aj3LaMdrkEOkoo8Xzo48hYVVYPrMqor4QRzbXQyin1CjaG\n",
       "ZNRXwojZ2+HP9TeUtXMtGfWVMGIx/ArBiDKfWfahvhJGHOyFV+40VbX/+FBfCSNO9sMr19sql9mV\n",
       "UV8JJY7YJ2vSEkoZjwQzqq13S8Q4Sihx3A7beYvtnBMTn1h49+KG6iTcEDGOEkrcoUFyx6t9bxvt\n",
       "kFA1DXYljKGEEdPU0wsWd5Bh/IhXxdJ6T8IYShiRkXMWj6pGbc/1idXkVFu3MyRhDCWW2kjXNpuY\n",
       "uMlycIvriXEh4ZzmEywv3lFojpV9qK1Ey4MUBKLBHKNodZU9viY/o5BgH2apouyCjPpKdHH7YP75\n",
       "a1UkFtk2NGeVHmLa94gf7LTNKZcVudtyS0Z9Jae8CPZ97XORmHQz3ElLld8abDRnKIwrjjC3zmuL\n",
       "ppTynTj3AJx1LOXEjBuoStYpVQh1kQ57WXGVmp2SMaJS3hfoSUy94djIiYNeSjH+l0L5ghuo6WjP\n",
       "K2bIAr+HRVLy2ZgnLtH52Z5NTuQ2nhRvri/8AQVb5T7iSKOEXGpHsDGSkmsj4xmk64A1uiASuY3e\n",
       "KWaX/iJk2vTuVEqR6c/SO/gIHdvBJbt8i9kYQYnbyHjO7I3s1ERig6ePI5veXsstHLCDAMB3AB/a\n",
       "bwT5GVlZ2K+WjFGVmI0uz57L/PXlbZHY4Od+gecpJrxOepFf3gSYypDqHB3Kyt5MxtyUMZKSsbR0\n",
       "8fTSUpvzMlV7R+fJIDlRsDEtxP78BiSAKkOHTEpqJoqNUZTctWY820YSFuoLAlGwMfGWEM26UAK6\n",
       "QnDMJApdUVn0R5WN4ZW4jYxH1tokEzjQFIh8z8CkcGcqtuELG6+QD79F+mZ7mD8q9kwkJddGxiuS\n",
       "P8kIizWByG0Ur/BQqqSdvjdsB3qGhoTQNkZScm1kPDviPD4F74pEIT5KvnYvfYr8iPx8SuQK1Sjx\n",
       "MYqSF8MpL0dWOPfxHVWRmPFsfET5uMZW7TlAbZz1YUQl/1novcJwYsE9r4vKO2x2yDvpxdxGLG4G\n",
       "42Uy0ZT8OcUZIblgRDc3g4M8WRIn6yf32Y/aUds/N9NXoiOsgZ/o3jyzPFxkReVpqeOsKsetyqiv\n",
       "RGNYD/zExNaecLEo3S4cdznM/tpU3RWaMuor0fIUBYGYpa8LaR4unsevbGnVLWSuL2EMJYyY+lsO\n",
       "F+mvLPwhjZHlMtmWMIYSRjRpPjp+xCmPXbQs5Mrk+NdN1fNjRcIYSijxsnNYiq80+JOWoZqYwqqI\n",
       "cZRQ4kiE/yNNqt4qjXUZ9ZVQ4lwzvPKgavGyWzLqK6HEevhXbJhXvVWm12TUV0KJmW545THli/dp\n",
       "H+orYcTSRnjlX5S1K1My6ithxDSNAidC8E11UKuXJYyhhBKPOP/+5ta+VMFjlTpgJCsSxlBCiXNS\n",
       "8Mkdwv0zqW7Krsuor4QSG/IWy+Pd6+owZe7KqK+EEg37ZjjRDqG8gtTfLWIsJYxokk1jljdg+Cop\n",
       "zQBlEztjG2WO8ZRQ4gNkc7/a3X/0BtaSmOEYTwklFsr0Wrufcr2KtXwjYDwljGh/K6fx8v4r9Bkq\n",
       "5X5ByMZ4SijxGsAFY9/RZ0+hUqUKx3hKKJEszyvu9SF9bbes7vB0wBF7hWNMJYxoXgrTIeirJq+1\n",
       "ZNRXQonPhgkDQX6ebsmor6Qg/gvam6tAEkPG/QAAAABJRU5ErkJggg==\n",
       "\" style=\"display:inline;vertical-align:middle;\" /></a></span>"
      ],
      "text/plain": [
       "|- (Sum_{i=1}^{8} v(i)) = ((Sum_{i=1}^{7} v(i)) + v(8))"
      ]
     },
     "metadata": {},
     "output_type": "display_data"
    }
   ],
   "source": [
    "vec_sum_02.partitioning_last()"
   ]
  },
  {
   "cell_type": "code",
   "execution_count": 13,
   "metadata": {},
   "outputs": [
    {
     "data": {
      "text/html": [
       "<span style=\"font-size:20px;\"><a class=\"ProveItLink\" href=\"../__pv_it/demonstrations/9b2e5fd129f7f90ae1ffb439f5857d4051acef3d0/expr.ipynb\"><img src=\"data:image/png;base64,iVBORw0KGgoAAAANSUhEUgAAADgAAAAUBAMAAAAqxuNgAAAAMFBMVEX///8AAAAAAAAAAAAAAAAA\n",
       "AAAAAAAAAAAAAAAAAAAAAAAAAAAAAAAAAAAAAAAAAAAv3aB7AAAAD3RSTlMAIpnNuzKJRKvvEN12\n",
       "ZlQ4bmvwAAAACXBIWXMAAA7EAAAOxAGVKw4bAAABCElEQVQoz2NgAANDBtyA6wMeST4D3HKM2WYB\n",
       "uGWZH6CZZPnTZLfnBQZGJZMABv4FqJI8HgEMBswMDCIMbN8ZKtFMYlJg4LmQx8DQyMAwk+EEF6qd\n",
       "HAIMS7gcGBjmL2DoF9Bhg5p7ZPdukMO5GBhUOYDquxkY+gOCrkLkik/B9LI2BEEY++FesoIbzLLA\n",
       "C6LoD9xHAnDJZ7wHwDR3A1wS4SQDKFsFLhK5GwgcwB59kM7AAHQkL1wjwxIEi9EB7MtnDIwwq7jh\n",
       "kq1AnwKjijWBgQcWeDwHYB5RKAKGxAYGaSUlbbgGO7hHrBgY/RwY9v///xkuucIdYkil8xSX+VMS\n",
       "0EK8zHs3UrwDAGzGOOHznct8AAAAAElFTkSuQmCC\n",
       "\" style=\"display:inline;vertical-align:middle;\" /></a>, <a class=\"ProveItLink\" href=\"../__pv_it/demonstrations/055817fa6e7f394931807eae91ca5b3d0f0e8ec50/expr.ipynb\"><img src=\"data:image/png;base64,iVBORw0KGgoAAAANSUhEUgAAADYAAAAVBAMAAAD/UwB2AAAAMFBMVEX///8AAAAAAAAAAAAAAAAA\n",
       "AAAAAAAAAAAAAAAAAAAAAAAAAAAAAAAAAAAAAAAAAAAv3aB7AAAAD3RSTlMAiXaZIs1UEN1mu6sy\n",
       "RO+L2jdBAAAACXBIWXMAAA7EAAAOxAGVKw4bAAAA70lEQVQoz2NgwAVYHXBKMdTjlmJIxS3l2CqD\n",
       "WzIMiBmFTNCFnU3XMDB8B8tXoLmIZQGD/AXeBwwMnA0MjAtQ5bgdGPgeMG2oYeDawMD2HeE4kBF8\n",
       "3xm4vzAriDPwGzDwfINJzTAH62tg4P7DY3mAoR4o9xMqpSEOU8TxAUT6CzDwfALz2SUU4GafV4DJ\n",
       "fQS7zmICwjndkGATYOAF69uagJBihrgc6Ba2b+hysyEU1wIGzu9oZrIJMLiAaM4HDMwBaG45yMCg\n",
       "Dma0MdQdgAixa0BEWJqNjRvArGKhPXB7ZoA9yPH///8AzIiZiichoAAAz34yUu43dNIAAAAASUVO\n",
       "RK5CYII=\n",
       "\" style=\"display:inline;vertical-align:middle;\" /></a> <a class=\"ProveItLink\" href=\"../__pv_it/demonstrations/5547699135a130702ab8981e2a27e24b0cc8cab10/proof.ipynb\" style=\"text-decoration: none\">&nbsp;&#x22A2;&nbsp;&nbsp;</a><a class=\"ProveItLink\" href=\"../__pv_it/demonstrations/fd9f1d0abceb777ae0b453f21485f6eaff27b61e0/expr.ipynb\"><img src=\"data:image/png;base64,iVBORw0KGgoAAAANSUhEUgAAAWcAAABLCAMAAACbf7ZGAAAANlBMVEX///8AAAAAAAAAAAAAAAAA\n",
       "AAAAAAAAAAAAAAAAAAAAAAAAAAAAAAAAAAAAAAAAAAAAAAAAAABHL6OuAAAAEXRSTlMAzUSZq1Tv\n",
       "EGYy3Xa7iSJQQBQRrlsAAAAJcEhZcwAADsQAAA7EAZUrDhsAAAhwSURBVHjazZ3ZgqQqDIZFdlBm\n",
       "eP+XHZcqGwguidDn1F1nyp/PCElYrBmG48PGod0nOP3iaojSFK4JI1Wei6atzC/kIEpjuAaMVHmp\n",
       "Gj9cZahXQpTmcK8ZqfK62mTg9EbGGGgXQpTC8oaqESNZXrDaF41/0YqYiNexG8srqjaMVHkba3nG\n",
       "Oy5f5IFIuhiiFJZ3VE0YyfIs6zF6noVYI6J71cpEupyxE8s1lTbs9xip8jLvMWv848s3NHvViI2E\n",
       "AS5Bd/5aLqms9+7XGMnyLGdcbyxEO0g+vErIkyJ0Z3dmuaGS7tcYqfLlQzV6v6PAzat8LPHRD/av\n",
       "w3JDRfSz7BuhM3kRYXk6twhcER14IEpmuaAi+pnASJXXEVY3tsmcVCzdD1c7A5TMckVF9TOakSxv\n",
       "4NAJU5MJ2Bhn3AUQJbXkVHb6fsIbP6MZyfITGKvrjCu0mCpFZJaBKInlmorqZzQjVV5HB3qztZa3\n",
       "6NETblBClMRyQ0X289Q3cBzyBgwcFddPi0Y8blBClMRySRVmFmf/G4xkeRHHbo1YXDaHKD3haIxk\n",
       "eRU7thIjJvxAlK5wJEaqPIyJLT8M0x8vw/P/hJEsL2PPtUGOWT+AKH3hKIxked41DRiMoyBKXzgK\n",
       "I1medZ3gW0x1ClH6wlEYyfKqa/moMfUhROkLR2Eky6fZlsWTDz2ARYSnYOIvLR0AkYxU+ZA+TBmL\n",
       "JnUYvVgmCPSB5Z6P/AD6FbB0AMQxXoa9cCEvs8pJxFohZV6AsOddTYK2oaU9II4xb3bM48Oeuuvy\n",
       "Pp8NuRhrpzv4RUYOF3+tjnlcMXgwMYMWCmBLxqwX5C6V7LMMM9Tk57yoscvArO0K8dN1Mp/3pNGX\n",
       "ldnjQz8zqK+ghQDYlDHtvyxfYHFs3kIaOPawyYuiDb/cRw35bKNQbl1BT+o7nL0pXPV49UCA2xUV\n",
       "B2AB2zImn2kTCZyzafMv+z7McjNik59iEVCmiJnrHg+VHTJM5408VgMoFQsasDFj0oHVESXmbWZ9\n",
       "lEZelH52a5AubkUv2fv5wSr+7Rk/icjwvPs9LgUASsWCBiQzjjdb/XwbJGIbWmq5flQ/CVEPQN6B\n",
       "HDAuA/Nx9lbHRT/a2aFD83wSAFFcNUGhAMmM8qYG2VeH1KYplki29GL9KTmZKSbecf3iDPNRfHo+\n",
       "U36H5Jz0iKwZhJ9VZcNhrifMiDhASmS88bPdH5pwex6xA/fDrKvFz8fPvjKAzxKD9vMK6GQ2eNZL\n",
       "xJpu9l2l7NyvxPjZ31ruANsxFn4uVbPjT2653nLznUF5VU6u1lsx1QhYryjnQa4aShTdQi8qUob9\n",
       "/Gx20q28B+6Sjyi8aoCf60HyHLAJY83PpWp6hrU83DPmAXqTr1ajYHr7FZQDZ0ehlDxeGcMoB7vP\n",
       "PKXKg+nzdQBza7kBbMiY+xmoTklsKPrL4nc7lPL1lMLrEXAxKb+3+ulwn5knV8YmzeTzCv3Yz/LW\n",
       "cgPYhHEfckqlQw6oMnE+Fw35Bs0mH+Ofeu6vh0a5ER3/9L0Hxzg/bmJM+8pfjJ//3FpuAZsxlnmw\n",
       "UHVHZWgEXAnN/Px397Osr53VS3fu9mCVj0m9iIzHYMlOUpT9+SI+Y/rzKWALxqqfC9WjP2+RJD++\n",
       "E/K4YS/87FV9vWBa5eXxb5P/VC56u4/PX1PeyNAhbpwCNmMs/Vyofv1sN897nTs2DKV8PaWPZ1lm\n",
       "XpJB+CH4lEdr8tXLJXNeSCHz4PN64wKwGWPp50L18+pJcHz9uKt6Yzz1sz3vR1yY5AK7NzCtX/f8\n",
       "81Td2N3P9nJC2IQRzFNy1U+N7PbtnOJFJTUAP7tq/fx43dvBbhXcQPMzRHGn9TNmYZ7GeDMfHC/S\n",
       "e/FW6SZf20tgz5dpDD9ftvmkacQ6kr+1oAHJjHfrSOr8cE2xvrHJT3BiNWGOM0xlOgrl5B6xLjrf\n",
       "WvCAbRnL9brqaCu6+iYvwBojrx6aP4uHerq+KY9Z5+e3FjxgW8Yk7J+O07Kg3uTBno2pFkzmvJDN\n",
       "h7YP5dra484Ht4+qG0pYwKaMaSc4a9HV5Ms26gWTJO/b8+dr8o/2B5sD4hjTUXIyCCr7g3wNHvl2\n",
       "Yq1g0jSQT4h9XBoYMHyhpT0gjjF7ttUIDfe7N/kxy7WVgilIEV8c2EGckBtB2oeW9oAD/RSfqZUc\n",
       "8M2OTT4/8sMiSz/O7S8rvDiFjDgh9+A8UgfAofspvl0+3aXnZ8fX6K8fYw7LwwMDpaUD4PBLB/pd\n",
       "19PsAXPyDaK4/q+nIBnJ8iL2/PGaEVOaQpS+cBRGsryPvGMjqJfGIEpfOAojWb7v0xSYVA5ROnc1\n",
       "AiNZvu9pdodJMRCl81F7AiNd3iU53bhaxT7PnjiyNC7FOFBwlJbWgHhGsvyc5praat86kRxpryRJ\n",
       "3InXGaQ9YGkMiGcky49JO6E2TNVWZocXsel5gBY3ltaAvxaeh+zdXjMNoRyCYYsvigSDfW349sXj\n",
       "1oBD91ebf+T5z7RT+CC1CgM/fkPEfE7sOUoha7FDkoMZcGFpDEhhJMsnP3mi1jcMbPnNrbtQlrQ8\n",
       "dkiOlVPCmaUxIIWRLq/UMQKTIzv5sCTRMHQmV+rS0hqQxEiW999VhCX6jW59HSkdlvQ0Y/ETLQ8W\n",
       "NDJLY0AaI13+G0OEX087lA37tWyiBDFBmADAaJlaGgMSGcny8+evdX9SGFuZBlB+LUlTMswM7ju1\n",
       "tAWkMpLldZfB4ylDGaLoniPb9/0F6FLe9xg9itPQ9K3lv2aky7u5w7OkuQeiuLlff9N9uzP4Bfzm\n",
       "40dTl+ghiuw1uHXfbYSaPG/92zX0n2SHKLzTD+v89s/GDy/mrWczuxf/RQREcV363ai6Ro26vG3b\n",
       "qHuxgQpRbBePuL6bvCfyY8sgqF/dAkQZO0Ro3dfNmfw/Hf5tDQ7msPkAAAAASUVORK5CYII=\n",
       "\" style=\"display:inline;vertical-align:middle;\" /></a></span>"
      ],
      "text/plain": [
       "{2^{t} in Integer, 0 < 2^{t}} |- (Sum_{k=0}^{2^{t}} v(k)) = ((Sum_{k=0}^{2^{t} - 1} v(k)) + v(2^{t}))"
      ]
     },
     "metadata": {},
     "output_type": "display_data"
    }
   ],
   "source": [
    "vec_sum_03.partitioning_last(\n",
    "        assumptions=[InSet(Exp(two, t), Integer), Less(zero, Exp(two, t))])"
   ]
  },
  {
   "cell_type": "markdown",
   "metadata": {},
   "source": [
    "#### `VecSum.partitioning_first()`"
   ]
  },
  {
   "cell_type": "code",
   "execution_count": 14,
   "metadata": {},
   "outputs": [
    {
     "data": {
      "text/html": [
       "<span style=\"font-size:20px;\"> <a class=\"ProveItLink\" href=\"../__pv_it/demonstrations/0e239e23b7f8d8a39719a1f6db1e9fd6a370a4ff0/proof.ipynb\" style=\"text-decoration: none\">&nbsp;&#x22A2;&nbsp;&nbsp;</a><a class=\"ProveItLink\" href=\"../__pv_it/demonstrations/17d4bdf3f8b5a8e5c1339c42afb24991160696a60/expr.ipynb\"><img src=\"data:image/png;base64,iVBORw0KGgoAAAANSUhEUgAAAUUAAAA/BAMAAACFlMd9AAAAMFBMVEX///8AAAAAAAAAAAAAAAAA\n",
       "AAAAAAAAAAAAAAAAAAAAAAAAAAAAAAAAAAAAAAAAAAAv3aB7AAAAD3RSTlMAmXbNRCIQ72Yyq1Td\n",
       "u4mXa1p+AAAACXBIWXMAAA7EAAAOxAGVKw4bAAAGP0lEQVRo3p1aW2gcVRj+9zKzs91LgkUUSU1a\n",
       "KRVBs1IoJSgJealvWV+8gGXXQkm9JnipgkIigvigZH20FhJ9UOlLg0UCUswionhrQ1H0RbJYBAlC\n",
       "0hg3scaO5zYzZ3bOmfnnDOx+mznzzfedM+f85z9nAkCPm9g3OPfcDNrDPqIvg8wQII80UrJktsbx\n",
       "IDwTc/e7Y8ruwFpMJyVJTtQ5/gi5GGKloy3K/431mE4qkLRfFj+GO2/GEO1XtEWTs0iLKaUCyUzN\n",
       "exBuJ05gqakr2YttxrRSvuR8S/w4c+ZaHLHcryko/oP1mFbKlxzxSmpwrBVDLOl6XW4B6zGtVC+C\n",
       "tQLVxTiF+zXnl+tIi+mlBJZXvIIjsKcZR1zWVP0HbDOmlxI471fowQO/x0oU1B2y+C+6O6aWEnge\n",
       "0KNyQ3l6zwb2BumlONrX0MT8jvL0VD82OqaX4uigAwfA88qzcy0k3USKYWUDTxxUDuBVLN1EimHf\n",
       "Cp64rJzz/sPSTaQYTnTwxIYqWOdvoBMKAymGg2N0pnClQ58LFqZVQ3AL/fwMpBiO0lhackV3Pjn+\n",
       "kTut71Bd1UzYxXo0kWK4yyPXrl/6lj4kZ1VFfW2sRxMpihbv8WU36Gr79POtKsA1sCPBSIqi+F10\n",
       "g/icCUWYuv9FrlIN4eWeEM6vtbSy6aQoZjdFYuwGl8sRJsum2HExUewqPA6HOz4nQD46HIykKGbE\n",
       "c6+46m71Ofnsh6y4l6sarYsRwlkyOO6MBgAjKYIVMcrsGeVkatPk/hLNpdhxWZFQrbZ6CPb7dADn\n",
       "IpeaSRHMeWnnhKtKOjOiVq+J6KGYDMPnGGGY3N/xuukDfpAykiJY8KJb1T2tCqUe8lqtjkUvmWlG\n",
       "CNQjeLf7xC8ykiLY58/zo38piBe8NuCVPK9oADdKYB6P9no0kyIYECfl5eSJP6BML7qd9JP9hFRd\n",
       "SPAoEYTHNb3HNFIhj/4kRY/OEhQWeGNU82TGcvjCeJDXceB7enwre5QIwuPreo8ppChOBTnd4Lbf\n",
       "s4qLe6FE6/odwHt04V6aDhHl4ej2EoTHpV6PZlLUYzCtl4M0xIbnCJn8eAGgWSCni/z+69HIbG/3\n",
       "EoTHedHiL3ktbiZFUCJa0ixS6kIWhOQyUcxPx3sMEbjHY5F2NJIKe8y+KAWrNlRBPLoRm9yoLRPl\n",
       "/ig8ygTu8WKMR7wUxaAjw4Q0YVQW4FOKV4iJLXILZ0XXH8WYkQjC49v6MZNGimBADC3lqzWL1WON\n",
       "9o9HSGU7CR4lAql73YtCao9ppEIeJ0N97Ta+P3iWfD4mV5fHkmK4RDg3M0IoX8bExxRSBAs+8V7l\n",
       "Do14KI+B1uOMkgBWOzIXGkkRLHuTaEWZTnuZwa2qHEeVC/mphJciBDmFmRRBL2GCgUBKbqyfvL04\n",
       "7qeelJsJAsBx0OVm6aQIeitPJ4gGjkzk2/+Vuuq5SivSXkLgNbrITSdFMLsTiQZLoYUS694HxV/b\n",
       "qrVCeKxzAmSjLW4mRdDhuwxWEA0e1+9uWar1zBx298FIimL+ejgaWJ+5+t0tcXHPDgl2N9xIiqLN\n",
       "083Rw+y472vXdfVremdTtf1Yw24/mkgxvMy6s7wJM6vfXVXVu4zesTORYjiIfSlA03iVnQz6RZyJ\n",
       "FMO5WTxRubXj7GDpJlIMG/144rxqCFvoXW4TKYaFNp44rNz5fhVLN5FiWO3iiT8rz643kXQTKYYW\n",
       "H+QnMcHjuvoRDmE397iUXcdLCTzMvn/zSk/pw53m3UUOGyCFVNWr07NrHyZJCZwLVat4QN9pcuoi\n",
       "Bx18wlLQDwNJUgKnwoO1pPfYUMcOG/1ioUdqCxqtBCmBGbpcG19AeFzXnL8F65FJ5e/y/nxD73E9\n",
       "jDbpyfZQF/b9So7ZGI/2pq55sIOG3eFEXzNDpX4hv/9MkPIlD5ER91Q7uR0zupLsNLYhiRQ8dDHo\n",
       "/F8lSPmSZdIMlaFkj40xXckXWI9Uii/B+XqimSDlS9L/zpl6IvlZn9NKT2CTBSpld1viWVv9Vj1e\n",
       "KpC8CnAhk9iOzmn9BIKOkESqVPOm7ePvvtOMlZIkyYN+0ltGWFdvaEbAwzGvqa9gPRIp+wOv8WZc\n",
       "N15KkrS/wdz+aEzZ09jX7OmkZMlHMXcfi5uJsR5TSQn8H61Mq9Qp2eakAAAAAElFTkSuQmCC\n",
       "\" style=\"display:inline;vertical-align:middle;\" /></a></span>"
      ],
      "text/plain": [
       "|- (Sum_{i=1}^{8} v(i)) = (v(1) + (Sum_{i=2}^{8} v(i)))"
      ]
     },
     "metadata": {},
     "output_type": "display_data"
    }
   ],
   "source": [
    "vec_sum_02.partitioning_first()"
   ]
  },
  {
   "cell_type": "code",
   "execution_count": 15,
   "metadata": {},
   "outputs": [
    {
     "data": {
      "text/html": [
       "<span style=\"font-size:20px;\"><a class=\"ProveItLink\" href=\"../__pv_it/demonstrations/9b2e5fd129f7f90ae1ffb439f5857d4051acef3d0/expr.ipynb\"><img src=\"data:image/png;base64,iVBORw0KGgoAAAANSUhEUgAAADgAAAAUBAMAAAAqxuNgAAAAMFBMVEX///8AAAAAAAAAAAAAAAAA\n",
       "AAAAAAAAAAAAAAAAAAAAAAAAAAAAAAAAAAAAAAAAAAAv3aB7AAAAD3RSTlMAIpnNuzKJRKvvEN12\n",
       "ZlQ4bmvwAAAACXBIWXMAAA7EAAAOxAGVKw4bAAABCElEQVQoz2NgAANDBtyA6wMeST4D3HKM2WYB\n",
       "uGWZH6CZZPnTZLfnBQZGJZMABv4FqJI8HgEMBswMDCIMbN8ZKtFMYlJg4LmQx8DQyMAwk+EEF6qd\n",
       "HAIMS7gcGBjmL2DoF9Bhg5p7ZPdukMO5GBhUOYDquxkY+gOCrkLkik/B9LI2BEEY++FesoIbzLLA\n",
       "C6LoD9xHAnDJZ7wHwDR3A1wS4SQDKFsFLhK5GwgcwB59kM7AAHQkL1wjwxIEi9EB7MtnDIwwq7jh\n",
       "kq1AnwKjijWBgQcWeDwHYB5RKAKGxAYGaSUlbbgGO7hHrBgY/RwY9v///xkuucIdYkil8xSX+VMS\n",
       "0EK8zHs3UrwDAGzGOOHznct8AAAAAElFTkSuQmCC\n",
       "\" style=\"display:inline;vertical-align:middle;\" /></a>, <a class=\"ProveItLink\" href=\"../__pv_it/demonstrations/055817fa6e7f394931807eae91ca5b3d0f0e8ec50/expr.ipynb\"><img src=\"data:image/png;base64,iVBORw0KGgoAAAANSUhEUgAAADYAAAAVBAMAAAD/UwB2AAAAMFBMVEX///8AAAAAAAAAAAAAAAAA\n",
       "AAAAAAAAAAAAAAAAAAAAAAAAAAAAAAAAAAAAAAAAAAAv3aB7AAAAD3RSTlMAiXaZIs1UEN1mu6sy\n",
       "RO+L2jdBAAAACXBIWXMAAA7EAAAOxAGVKw4bAAAA70lEQVQoz2NgwAVYHXBKMdTjlmJIxS3l2CqD\n",
       "WzIMiBmFTNCFnU3XMDB8B8tXoLmIZQGD/AXeBwwMnA0MjAtQ5bgdGPgeMG2oYeDawMD2HeE4kBF8\n",
       "3xm4vzAriDPwGzDwfINJzTAH62tg4P7DY3mAoR4o9xMqpSEOU8TxAUT6CzDwfALz2SUU4GafV4DJ\n",
       "fQS7zmICwjndkGATYOAF69uagJBihrgc6Ba2b+hysyEU1wIGzu9oZrIJMLiAaM4HDMwBaG45yMCg\n",
       "Dma0MdQdgAixa0BEWJqNjRvArGKhPXB7ZoA9yPH///8AzIiZiichoAAAz34yUu43dNIAAAAASUVO\n",
       "RK5CYII=\n",
       "\" style=\"display:inline;vertical-align:middle;\" /></a> <a class=\"ProveItLink\" href=\"../__pv_it/demonstrations/78db45a01b572b336534f647c1e5059c53b3bcc10/proof.ipynb\" style=\"text-decoration: none\">&nbsp;&#x22A2;&nbsp;&nbsp;</a><a class=\"ProveItLink\" href=\"../__pv_it/demonstrations/3a7db97ce9c8dbb21070fcbd05e5df03b16835230/expr.ipynb\"><img src=\"data:image/png;base64,iVBORw0KGgoAAAANSUhEUgAAAdoAAABLCAMAAADgd7bPAAAANlBMVEX///8AAAAAAAAAAAAAAAAA\n",
       "AAAAAAAAAAAAAAAAAAAAAAAAAAAAAAAAAAAAAAAAAAAAAAAAAABHL6OuAAAAEXRSTlMAzUSZq1Tv\n",
       "EGYy3Xa7iSJQQBQRrlsAAAAJcEhZcwAADsQAAA7EAZUrDhsAAAjWSURBVHja1V3ZYq0qDFUZBaGH\n",
       "///ZozhsGVQQ2h14ubfpEVgrEJIwtOuO0g8dyKIFK/i6Aqp2iLmgCuEOaFEFPauAqiViolQRyqAi\n",
       "6Ch/+2UFVG0RE6GKxenTCAKCweh3H7L3g6JRYiJU4T76LZcgRieeXn7XlzfdGDGBZDRRV0EKREA4\n",
       "DOZVNy5QVagCLjGBpHfHJlMK42WJEUAWlelVR/rySdseMZ6EeGNzWUjQ/E9YDwTBaF4YQFI+aRsk\n",
       "xpP0nu4XQNqMHUEdBzI66YsZVz61WiTGkQSq52xFoBHXMBCQ/NX21Ux/qKIFYhwJNpHQTUFZTrb5\n",
       "km0Co6gqVAGemJOEmUhsMQpYkTqe50peQGqm0jYbJeYk4RFjpydgOZjBqLwPuCkOTxol5iSZQrOz\n",
       "JFu0BgXBZDpSU7k9bpWYQ8KMCIfmOI4I1vCc8ixyBFW+PW6UmEPCQ1NHzVJgGR6ZZ5F5rgFPqqIN\n",
       "Yg4JNkD3I/1AJMtHroCqWWIOCTVdE8VkLZ4VULVLzCapsCj9TelzJtHvLLWtELNJSHn89zcF5WSX\n",
       "KqBqmJhNgsr9jb8pPIfqCqgaJmaT9Ia0gWDMiWwroGqYmE1CczN43yosJ+qogKphYjbJ2b/qzUV5\n",
       "u4fCa7JjMrg25bkop4razPwyMVaizyonxvtXTA8Sz3H6nSk8Th7ERv6xXHFRvMUm0i2kLs8ruFW8\n",
       "YeaLxFgJcVx8bGIeP/e/5Wdvez958GTfMuN/FFn8kkkg5YGLV0UaM1CIsRLp5jKEMbFTysjxwYhT\n",
       "+37y4GkSXP3CdwF2eXhYL91ldVHpeAs5VaQxA4YYK1Gu5zzOhid2NASdGvIOBu0nD9Z2xboEbf+8\n",
       "P+riU6dlTDXKG7TTDoGH0VryOX4XldfENOZXkcQMHGKsBHti+Wne7eepjRDhfvKAIaZ59+noBwGW\n",
       "mjCqrxCwiQp/5Pt73io9i+yi2khSSlo9EJRfRRIzcIixksl4QCfzsE7p0HOwJw/Y3PH5P1IztToR\n",
       "G4L1RypJ3BTug7Pf+3G0LrHf3+QF1EW1NtHPHWBCd4knTQNiHpkBRIyV9D4CNrt9t8MaBdZjPXkw\n",
       "rkNv6kb7uf1xQWD/RxuE4nZwR3D4I4oc0Rnzpk1yzqIPVcstfDWdWzjKwB+qSGEGEDFWIiLnL8xt\n",
       "lBEko52TB/MiP+DQ7swryiA6fY1gOLr7cRN67qXPkiMaF5VtYsKr38tijgiRD1WkMAOIGCuhIQI1\n",
       "R2vsJq21/Y5hKlDnnzxAshtoiADL2Th1N96COn2ko355jmppqNp1wo1WN71+Vm2EmHtmIBGzqVZG\n",
       "bNGNwyJ3x4AKwin2Tx707LzMHwimuVeY3ywp/VwTUZYIsgOV1Is0M1QrvSbYrlp+buFWtbLLYgYS\n",
       "MWRVbexGprkOIfera1jYoKw4n7c5gnM3CNHrjUdxGEB2hwCJU8GeXrjXhF4RbYfGRYpqI6HOHTNw\n",
       "iNkk0WAtSKud/cTNGKzfTbwOAmL0QLpxNTlo2E3c6C116VnVS9Wqcws3qo1HsTfMQCJmWFUbcwzQ\n",
       "9aLS4yOCX8q7PU32sWsrAkRPRmnEe6Jm8JIGLFm1JDDIasUszy3sU5/SYOpfeEzXzEAixkqM+Ym7\n",
       "mFcJW4G2j4leyku7I5CLQPSnGGBfU5iL4F+Oan/ibtR2IcZfbKOz9qfLYgYSMf9W1ZJ4ZvMqOt8G\n",
       "Z2cq3Qu3CNjci+GwMrsn6CVg/cF5s9aGs3azl3ytwneRo6olXRYzcIg5Zm0UgaT6QbVotUu6CoKF\n",
       "8QWFdOK30U3sjTlrbaBabr1K1Ecz7BmqvWQGEjHjlYfcnQZK6Ahu9TNB+SDLNxstgsW7ZHObysm6\n",
       "eI7gkBP88MAhEUuikY5dLB2V6iHfMQOJmOFSteNN0uUTUyFhelnH7kxLexJJ5kQmnHYVVcuQknjs\n",
       "YrFPumpvmIFEjJWIaFx707HB1L3y4u9dnXY4vMe4hpxEI79pItz6iSYao3GtbIIYK4kdXehvtwfo\n",
       "8LsIJn2RKiU52wPypokpWAej2wOxbBRqgxgrmcIAbLo/74vUryL47Gf7Gxw8Z1NPXTeR9sZIhJgH\n",
       "ZgARYyU42KdC0WvfnyVmpL+KQH7OHwR74Rlb8ei6Ccnzq0hhBhAxVhIcvuBR556fn76oevRaeh7n\n",
       "pzvC64hKvz7govKawC+qSGIGDjFW4ovjzj2h2QatuESOACU/jKjK7+sEVTwzA4cYK+HuZI4+mce8\n",
       "b8lfXIYJ98un9DwPN8Us+1WkMAOGGCsZHO8q4txrgoPdDv4Hd4rDZwUyLuEMpnjd86pIYwYKMVbi\n",
       "HpLvTX8uQqzbyTBummZcwql+ewA0MyExq+R8AhNd3WwB8Wpdzj0eY3R5c7prg5mra/GijRcblmmU\n",
       "YWQroGqYmE2CDW8DwZDjGlVA1TAxm0Qa1AaCrNeFKqBqmBi5Hynp20CAc26pV0DVMDGbhJlG3tAR\n",
       "OTsrFVA1TMwuESdP8OIer1Ly6092sLxQVZS7yAnEMP79mR0Sc0jU2V2Ibkwtma3h2y/tEJP1p5RU\n",
       "uRP0TMwo5ffj2pCYQzKcfhW/x2tPnZgvvyeK8x6EGUzxH9V6JmZm8fuqvVxqO+fBuug93vUkPP3y\n",
       "Uzu5z+rVfcnv6oIzANWGQD8S9MlTHfd40bQXvt1TEt+N8sbcWYjK3wZ6IgaEakNiTpLTq9fRe7yr\n",
       "aul3/x6VzH2gayh/rO2JGBCqDYk5Syg9TG/sHu9qkL/89lmfvZVDyw89PBADQrUhMWeJ3LOln3u8\n",
       "jt0B4EaN+XNQlueAn4gBoNqQGFeyG+eLe7xyCX6++1dc3/xll3If+YkYAKoNiXElavvp6h7v8nbL\n",
       "Vx/cZ2/UpCrccb0nRqveKAmLGE/CoL8PK98sBxVQNUiML5GGgUZA0TvcrJy61ogJJELBHpvvCK6A\n",
       "qjViQgkxGi4A9jYfXAFVY8TEqEKAH9rHr/tWAVVbxESpEmCPiwz0/XpXAVVLxMSpGilUh0EUpB4q\n",
       "oGqJmAuqBqCLCitKKlVA1Q4xjuQ/t0Z8jNYQ8zcAAAAASUVORK5CYII=\n",
       "\" style=\"display:inline;vertical-align:middle;\" /></a></span>"
      ],
      "text/plain": [
       "{2^{t} in Integer, 0 < 2^{t}} |- (Sum_{k=0}^{2^{t}} (e^{2 * pi * i * k} * |k〉)) = (|0〉 + (Sum_{k=1}^{2^{t}} (e^{2 * pi * i * k} * |k〉)))"
      ]
     },
     "metadata": {},
     "output_type": "display_data"
    }
   ],
   "source": [
    "vec_sum_04.partitioning_first(\n",
    "        assumptions=[InSet(Exp(two, t), Integer), Less(zero, Exp(two, t))])"
   ]
  },
  {
   "cell_type": "markdown",
   "metadata": {},
   "source": [
    "#### Testing re: `VecAdd.factorization()`"
   ]
  },
  {
   "cell_type": "code",
   "execution_count": 16,
   "metadata": {},
   "outputs": [],
   "source": [
    "from proveit import defaults\n",
    "from proveit import a, b, c, i, u, v, w, x, y, z, alpha, beta, gamma, delta, fi\n",
    "from proveit.linear_algebra import TensorProd, VecZero\n",
    "from proveit.logic import CartExp, Forall, InSet, NotEquals\n",
    "from proveit.numbers import three, Complex, Natural, Real"
   ]
  },
  {
   "cell_type": "markdown",
   "metadata": {},
   "source": [
    "Let's set some defaults for convienience in our testing below."
   ]
  },
  {
   "cell_type": "code",
   "execution_count": 17,
   "metadata": {},
   "outputs": [
    {
     "data": {
      "text/html": [
       "<strong id=\"R3\">R3:</strong> <a class=\"ProveItLink\" href=\"../__pv_it/demonstrations/b09d232dc6c8bd1b305d141dd063505555f74fe50/expr.ipynb\"><img src=\"data:image/png;base64,iVBORw0KGgoAAAANSUhEUgAAABcAAAATBAMAAACJlYuFAAAAMFBMVEX///8AAAAAAAAAAAAAAAAA\n",
       "AAAAAAAAAAAAAAAAAAAAAAAAAAAAAAAAAAAAAAAAAAAv3aB7AAAAD3RSTlMAZs3vu90iq0QQiTKZ\n",
       "VHZ+Ip2vAAAACXBIWXMAAA7EAAAOxAGVKw4bAAAAk0lEQVQI12NggILEe9UMcFDF8BjB2c2wlAEJ\n",
       "BDIwCJn4q5oIANmPHgAJh3SGdpEJDAycfiBOFgMLdwGQsX8DmMOToMBpzZAvAOU4MEQyCE8Ac9hn\n",
       "FjDselcG0bPlUgLUeIdk1a8vYXY5ZAlOYkBwWCYKIDjcBzwRHIbTKUicKXwwdQ45DIwCHhA20NVu\n",
       "DC76F0BsAJSlJFWuLv4NAAAAAElFTkSuQmCC\n",
       "\" style=\"display:inline;vertical-align:middle;\" /></a><br>"
      ],
      "text/plain": [
       "<IPython.core.display.HTML object>"
      ]
     },
     "metadata": {},
     "output_type": "display_data"
    }
   ],
   "source": [
    "R3 = CartExp(Real, three)"
   ]
  },
  {
   "cell_type": "code",
   "execution_count": 18,
   "metadata": {},
   "outputs": [
    {
     "data": {
      "text/html": [
       "<strong id=\"C3\">C3:</strong> <a class=\"ProveItLink\" href=\"../__pv_it/demonstrations/9e85644bc34fce45bea978ae09f284f5f59dc67f0/expr.ipynb\"><img src=\"data:image/png;base64,iVBORw0KGgoAAAANSUhEUgAAABcAAAATBAMAAACJlYuFAAAAMFBMVEX///8AAAAAAAAAAAAAAAAA\n",
       "AAAAAAAAAAAAAAAAAAAAAAAAAAAAAAAAAAAAAAAAAAAv3aB7AAAAD3RSTlMAEIm73c12IjKr72aZ\n",
       "RFTgyeMAAAAACXBIWXMAAA7EAAAOxAGVKw4bAAAAlUlEQVQI12NggILqZzMY4GASQxaC08GgwoAE\n",
       "vEGEkEloehMDQ2oCkM02awPjeRsGBkYzIOfYJQYGbiCHob+BgeOAIZAxh3EFQ/0GBk4BAyBHmsGR\n",
       "YZcAAzP7AbBZTWnTGRgqORQQpjfxbkBwangTEBxmdiRlzGDToIAXbA8vlHfsJpA4CuWwmR5nfHIA\n",
       "plDI6stxCAsAopoeL0aObQ8AAAAASUVORK5CYII=\n",
       "\" style=\"display:inline;vertical-align:middle;\" /></a><br>"
      ],
      "text/plain": [
       "<IPython.core.display.HTML object>"
      ]
     },
     "metadata": {},
     "output_type": "display_data"
    }
   ],
   "source": [
    "C3 = CartExp(Complex, three)"
   ]
  },
  {
   "cell_type": "code",
   "execution_count": 19,
   "metadata": {},
   "outputs": [
    {
     "data": {
      "text/html": [
       "<strong id=\"defaults.assumptions\">defaults.assumptions:</strong> <a class=\"ProveItLink\" href=\"../__pv_it/demonstrations/d99af59c4d8a2a1e3ee3edd34a6751c2dabae9e00/expr.ipynb\"><img src=\"data:image/png;base64,iVBORw0KGgoAAAANSUhEUgAABGYAAAAmCAMAAACxgG2+AAAAPFBMVEX///8AAAAAAAAAAAAAAAAA\n",
       "AAAAAAAAAAAAAAAAAAAAAAAAAAAAAAAAAAAAAAAAAAAAAAAAAAAAAAAAAAAo1xBWAAAAE3RSTlMA\n",
       "mVSrZs0y7xCJ3bsiRHbn9enzTwiUqQAAAAlwSFlzAAAOxAAADsQBlSsOGwAACpFJREFUeNrtXemi\n",
       "pCoOlkUEWWbx/d91WFyCohaIdat7yI9eTh2+hCRASKLVdYEQ7ho1atSoIvGeR/9HpOmkUaNGdYmN\n",
       "cJ+hfdNIo0aNahMF8QsbeFNIo0aNqpPcsjG9aOpo1KhRfeJrCIOnFsz8zUT+Ul6N/gRa075jeTCj\n",
       "KDaEPZWkDkpFpB+aVgUQqb+j/G/zavRblLaumpT/mz0IZojdoczw+AisglIR6Yem9QCEj4Emuf6I\n",
       "6nMG6FFs/EVejSoQ1fUj2bR1ZYhiiCxHZnbzEuNT+eqgVET6oWk9BzHbRQajCwZKPtf/N3k1ekD4\n",
       "bKNXiX/lumpsXRoOyYlm7IH9IOXUj4PcBo00V546KBWRfmhaT0HQITTdwljeXzKgJvfa/UVeV/rJ\n",
       "jbyEHPveKCa+y/xqtEL2Q/XmrGMVnHWwmK0wpE2xq0bWVRP2d6asbUt2yp5YmlAZfMz0JQ5TB6Ui\n",
       "0g9N6xEIgweJEAZB487ucMpgzLs9f5PXhX7yI67BysbRJA8nurKTQPw95uejhfsxzx4Kgses/Qfu\n",
       "VkiIFRLPO69xqjG02FUj644OjE65mhL+LzZPkcuypVQBpSLSD03rEYgEKbgeu5wJiIKHGwYmr070\n",
       "TV5X+skMwYwOa4kethnmRKPkPebnowkvGorWDEufEywokOwThA14H+SEqlDPS101si5yqKQv0ZQ9\n",
       "uZZxbGKl+n6IUhHph6b1BAT6IPUZHSHBsXXDgGcVA77J61o/WSEY6pZ4gKD9ZcrfFcb3mJ+Pvt11\n",
       "00NXG+QluxC4Lg5YrwESiuMXikpdNbKucYHMcD1BI10BoU8gS9d7w9zd6za42oOUodSTp5JA76CU\n",
       "68aOBWea9IYFTVGTvmPQ50TeX+J1reTs4TZsWIbxnQThII4e73vGPGM0n3CGV4Aocta4yHr0edrK\n",
       "TBpuCPuK5u7pgAx/h9bFbuuZrhJhujc8uYERzsl8B6N3jyocQUpQ6slTSaC3UEp148DgEplQOF7w\n",
       "etDwOwYo40z8Dq9bJRdo9+yM9tsMBmmFZ8zzRssourvzii3gmJdzVmwFW1hgFRPvUaKjIMvfoXW9\n",
       "W6wnJTchZgLXRHW8nQVkJrG/DDJhDIlvhdwIBzPiC5CPUWyICw1fIo+FMoQzIZ4K5LWzGbkIpWPj\n",
       "yDpFu7ozSl3Q+bL0F2ZmvGWQbNDZi/wmL0WEUSATda/kKI8qRNwedhyuSHdWYNJMSdL3vIg5Hid/\n",
       "9dC8SHRMMOg4uvcKEHD4dqUhq2i2WqejZBi3u+N8l1o2Ape3yTHFmXW5dQu1nkCiw8MuJZzIK1nk\n",
       "oR+n0ZwdsDPMdhdLJac+RXE9PXrST+RxzUKGmA6NNQTatFOEwnsjJDRenRmh0Bv3r3+7P2d0FcJU\n",
       "Ni2rdk3CnTPQiYTJXuQ3eelBxed6jpLVqF3krjqFz4fbPUbTMwvb2ECPrIQ5HZDwyjBFors3JJDr\n",
       "aZ8NRV7evLoXTMdO5hC8WBUNm1xl/h5Z1/JYA12Gg99CGfp01ofS07q7h3EfYnEB8hGKE2Yw0QQL\n",
       "5OmocpsD7witIdDWy1iC0imnfMEfaTgxo5QnrEt/MYSUtwxSueaDyO/x4q7SDHbPPCV7X+kk6jan\n",
       "Pw63N6azfpCl/lTAPCRgJfMdavmi+358PLESr3AV5fCHU+Bn5SYpAWtghXADWVawW8RDmSl21rVu\n",
       "scYKfDbUsFmBDXML+SjjOElyepbAW2AYvgD5FCUIi57I4zvGUJSdfyDQpp0ilFDP4F1Xd0bLCYLi\n",
       "pGIonKzHVU9uGahJ34r8Ii/kQ0XwiF2OksNgpxhxq93kJM18DBcwDxubRTBFovuzCyzMLK9wgYyY\n",
       "VSlMHN4h9wE9FHl60G4D21kGDV3dy1S6aiLr2iv1lrYLgQ7c3rg8qWGBquCRQr3BXIF8ihJueOaZ\n",
       "PPHWWSyQ187mC4UonYo8oc6M0mFtyJfg1b4jumXAk9uM+havQe5+nqPkIfyuGLY9MaldflIj0myX\n",
       "VMi3sNiua1mjfUoLLOksr8DmEGkwQ6R7hhUTH4YeGg5HlMwAz9sMqBjqoXTV8PNtxkerBm5v4wmy\n",
       "vRGeF+pD0CuuQD5BcarzdVKmn8njdgi7KDivIBDIbJWh+MQA7yrPyOdL/vPfcNqQKDSm6yU5jjCS\n",
       "DFSqQWcn8nu8uA+G6I0DnkDyOZISsDI8JkO+dVHo451pLs2XWTgKJnJEZ7s8SJZX9PsnNxCaNYvt\n",
       "BwguxWM0I2Gks5Rt7Od8Tmx3hdqIrGtNA3oyPEvrMHT1KWNOkO3etm9F5hEM3k67BMgpCo/n7+Nn\n",
       "oKUCebjd1skQwTwQCFilCAV7Q5LaMwrOsc8rDl10u9ot/QQD+ODJuciv8Qq9I6QHzvOBknmcyxSw\n",
       "gJUajsxSivfi7vI4bMhy3FgNQtzwPhPdLcke53gFYCzwbA0devw2TWOGtQ1Fr7aZKCqeW3hdJHJI\n",
       "VGX5++4RJrvF8C3V7BqT2CCgWD1OIPtHFOju1SJ8WnxM9Ls4+whyhrKB+I5S7W6VWndP5MET48i6\n",
       "nsYPBXLa0bBPrgCFSSGNGFn1GXWpZ27d4eR7pkAG4IoBrA9cifwaL+fm2Eb0KEPJ6+DQqUHR1LHL\n",
       "4Z2RPVIdx/7qsA7nvoirR92VMJ99NtLS56NdFIRJl+EVkLGacy/cdE6l4HaDmb00YX3YZrY6Rpwg\n",
       "m+uJ9vo29y/AbuEMf99Vmnwxe1iNyokwWBEDlMWJ1PG7yd1Dma7/U8o+blwc1/YWROKc0B7kAmUD\n",
       "saGfMJwgcQl1Lw9HdhvGiOKnAjntILhHF6AIl7zvdf0ZdakHULjVIOgjmS98FwyWZ/ZvRH6NFydG\n",
       "sGsHPEKuFhKCUsPt0jAXw0NGWw7TOD/ouQzHTBsTp1BzmAeXLR0tLOsuyysg41nvivs7DqjX223G\n",
       "ymQON5rt6h9lgDs2X4zW9Rttuhn+HlnXblsWpr/uxtRCxg3Gp4T5uyA1oQpRRP87suw/u23Q0vdP\n",
       "EcFG+wtm3+R1r55rl/l0uKjAnFQU/W5saqi/9NBeesJhm+HiWIrerLP74qRd0KrGUk+NrevYoSqv\n",
       "rTs11D8BUhNKgB2GD/gnZElRf9+gNdy+MA02l4vf4PW6bsUjFBGtwi+KnhjKJ8462OTsthl7tzYn\n",
       "1rH3tN1FaPesJCp/uU1k3TEqDzwjbn4FpCbUijKa8BbCX5AlQfQD0dDd78Dnai+YfZPX67qdhxei\n",
       "RMOE/p7oqaG499e2rbocXsSZePg7WGeUh8a66M1aD15xGD2h7esmh2dDC8n8DEhNqBUFU4P0j8iS\n",
       "oE/eEsXu4lb4qhXzG7xe1+08XLPnzOUXRU8N5cQovzuwJdUSupvIiXVo/CIyDyHP9pw8il7aE+om\n",
       "sr3/+c+nj1YJuTlQRvVzvP4k+pUZceFyM7rIOqBEbB7MB1pXh7oJHdoq/f8gfp29o+YP5dWosnWe\n",
       "UmTduW6S7jBv9BfSZYmo8rcNfJNXo6rWeRzWRdZd6iaib2r/P6Grb+dB/M/l1aimdZ5SZN2tSWdo\n",
       "XwTYqFGjN2hrAqEtnGnUqNELZODrq2jTR6NGjWqTGuDjOX9hebFRo0b/MPExqpyrvuXkGjVqVJf2\n",
       "38WrWha4UaNGdYOZpZz1P0Flm80DwqeJAAAAAElFTkSuQmCC\n",
       "\" style=\"display:inline;vertical-align:middle;\" /></a><br>"
      ],
      "text/plain": [
       "<IPython.core.display.HTML object>"
      ]
     },
     "metadata": {},
     "output_type": "display_data"
    }
   ],
   "source": [
    "defaults.assumptions = [\n",
    "    InSet(u, R3), InSet(v, R3), InSet(w, R3), \n",
    "    InSet(x, R3), InSet(y, R3), InSet(z, R3),\n",
    "    NotEquals(x, VecZero(R3)), NotEquals(z, VecZero(R3)),\n",
    "    InSet(a, Real), InSet(alpha, Complex), InSet(beta, Real),\n",
    "    InSet(gamma, Real), InSet (delta, Real),\n",
    "    Forall(i, InSet(fi, R3), domain=Natural)]"
   ]
  },
  {
   "cell_type": "code",
   "execution_count": 20,
   "metadata": {},
   "outputs": [
    {
     "data": {
      "text/html": [
       "<span style=\"font-size:20px;\"><a class=\"ProveItLink\" href=\"../__pv_it/demonstrations/209baac38918ef8b1210d5267967da66f42b39310/expr.ipynb\"><img src=\"data:image/png;base64,iVBORw0KGgoAAAANSUhEUgAAADYAAAAQBAMAAACvnpHFAAAAMFBMVEX///8AAAAAAAAAAAAAAAAA\n",
       "AAAAAAAAAAAAAAAAAAAAAAAAAAAAAAAAAAAAAAAAAAAv3aB7AAAAD3RSTlMAiasyIt1EEO9UdruZ\n",
       "zWZ7xlX5AAAACXBIWXMAAA7EAAAOxAGVKw4bAAAA10lEQVQY02NgwAbYpWNvOQtglWJY1MdQ8/sA\n",
       "VimeZUA9r7HL2XAXMDAwocqtDg29AKLVuUF2PkCWyl0OZWzwgQkJChmAaZbrUAEWBUMoyzWBvYVl\n",
       "ApDB6wAVYRbIg7K6GBj2cBWA5GAGsRzIgrr3AwPDWUYQyyIUCDaA7XOEyHEAeRLiIFY13FHbuSF0\n",
       "/QIGBnmQdQyscLkckP8YEhj4gXISYBGuBYhwUQASFxh4NjDwnWcGC91EBMIdh8oYkPfeLeeRAosU\n",
       "bSuAx0N/jANqOCZuhYQZFAAANPAuqY517tAAAAAASUVORK5CYII=\n",
       "\" style=\"display:inline;vertical-align:middle;\" /></a>, <a class=\"ProveItLink\" href=\"../__pv_it/demonstrations/867240f288a0a475f332ba3bfce26b090616c3760/expr.ipynb\"><img src=\"data:image/png;base64,iVBORw0KGgoAAAANSUhEUgAAADUAAAATBAMAAADCPVhoAAAAMFBMVEX///8AAAAAAAAAAAAAAAAA\n",
       "AAAAAAAAAAAAAAAAAAAAAAAAAAAAAAAAAAAAAAAAAAAv3aB7AAAAD3RSTlMAIol2mRAyZqtE3VS7\n",
       "ze8XF9CTAAAACXBIWXMAAA7EAAAOxAGVKw4bAAAA8klEQVQoz2NgwAS1b87felMAYQuZuKJKHpBg\n",
       "mFETAGKxGTBUoMkJMfCwNYBYQQwMszDkWAQugFgGDAweEDGbVasuwOUOQOS4l4Kl5poi9HGEgszk\n",
       "TDxxF2wv41UkM3P2CgAZTAzlsxJAIrwCcDm5W7/AZjAxMLCDzeZFckt5LJgRDDT2A4iRtwoIDkDk\n",
       "eMLBfp/GwMD8AMSIQdLH5nAUxFBgYOAB+5ML2X9uMiAG0Ed5YFcwGyDJxTADDWV1Z+BcCRG6DZcT\n",
       "YWAvOMnAwJ1prAwVijgZAIuHgwxn7m8AeQEOJp2ChBkMMDHgBsF45KbhlgIANts+wHWj7lUAAAAA\n",
       "SUVORK5CYII=\n",
       "\" style=\"display:inline;vertical-align:middle;\" /></a>, <a class=\"ProveItLink\" href=\"../__pv_it/demonstrations/540b401960ef46fff82dcf879c164a159d6831c80/expr.ipynb\"><img src=\"data:image/png;base64,iVBORw0KGgoAAAANSUhEUgAAADQAAAAUBAMAAAAw+gPuAAAAMFBMVEX///8AAAAAAAAAAAAAAAAA\n",
       "AAAAAAAAAAAAAAAAAAAAAAAAAAAAAAAAAAAAAAAAAAAv3aB7AAAAD3RSTlMAVN27EERm75mJq3Yi\n",
       "Ms2Hvvv4AAAACXBIWXMAAA7EAAAOxAGVKw4bAAAAz0lEQVQoz2NgwABsz43/qZsxYAXMPAtYl5ng\n",
       "kJrAYHALp1QPH4rQZiWlB3ApZmSZuC1IupZ4ARlCnx0YQoA0zxMkA3kN3wCdWjFpAcMGoADfAYRU\n",
       "nb62AwPDYQYGW94LICkkZ0xLAVkKtMCbGyRwXQkIDKAGmqRBVHEeBJHOyI6/wewAkQJZxcCELMVx\n",
       "xwAiNQFEcm9AkmIx2AaRugCmHiKkGhjSmANATA6IiJepAyzkPx9gtvsIYnNBVUcaQQIKCUQy4ART\n",
       "cUsZ4JY6gF0YALx8MDIMa593AAAAAElFTkSuQmCC\n",
       "\" style=\"display:inline;vertical-align:middle;\" /></a>, <a class=\"ProveItLink\" href=\"../__pv_it/demonstrations/db349fdaaa27475f5b64b7b11c49cf6e2d58cfa30/expr.ipynb\"><img src=\"data:image/png;base64,iVBORw0KGgoAAAANSUhEUgAAADIAAAAQBAMAAACmdTG/AAAAMFBMVEX///8AAAAAAAAAAAAAAAAA\n",
       "AAAAAAAAAAAAAAAAAAAAAAAAAAAAAAAAAAAAAAAAAAAv3aB7AAAAD3RSTlMAIpnN77uJRKsQdlRm\n",
       "Mt3eazepAAAACXBIWXMAAA7EAAAOxAGVKw4bAAAA20lEQVQY02NgYBAyCWRAAjwmoZ+fxICZCeyd\n",
       "yDIMrIwN7D2RIBaqOEgmgSHgBoi1AouMIjOINX8DRGTpu3cGcBlWMOsnWKJ4JZKezhlABnf3VxCf\n",
       "0RLJNN5oQyDjMEP/BCDFLICQcX7/CijE+JFh/wWQDJILck6CLOQIYLgPkrnyDggCoKZFngHS/AcY\n",
       "7oP4U5FdfYkVaNr8C0CbgIAPWYbpIlA3/wUGaxCfawGSDGfAGgYGtgXcDWABa4SMAsMZ1gIGhqxl\n",
       "EIEZ4RNgYf1VgDX4N1J4lcVBQgcKAGWeOknpTuCxAAAAAElFTkSuQmCC\n",
       "\" style=\"display:inline;vertical-align:middle;\" /></a> <a class=\"ProveItLink\" href=\"../__pv_it/demonstrations/1d8234b622b20c1bbbe7e52c3462af5cef94c09e0/proof.ipynb\" style=\"text-decoration: none\">&nbsp;&#x22A2;&nbsp;&nbsp;</a><a class=\"ProveItLink\" href=\"../__pv_it/demonstrations/f30df46180a465cc274a6c0748cb3d2ddf0e78be0/expr.ipynb\"><img src=\"data:image/png;base64,iVBORw0KGgoAAAANSUhEUgAAARIAAAAVBAMAAAB4a3wcAAAAMFBMVEX///8AAAAAAAAAAAAAAAAA\n",
       "AAAAAAAAAAAAAAAAAAAAAAAAAAAAAAAAAAAAAAAAAAAv3aB7AAAAD3RSTlMAInZUiRDNmWbv3US7\n",
       "qzJazP2FAAAACXBIWXMAAA7EAAAOxAGVKw4bAAADdklEQVRIx5WWT0hUQRzHf7tv/++6LhkEIvQy\n",
       "pToEexChBXNZDLKQHhJFILgQit08bOahUDqoUIFG0UEPgkSQIIvYQSHb9dLJWgg7RW3dsoNbYXQQ\n",
       "6febnTdvdmY38cHv7b7f/H6f+c6838w8AIjB4a5YDR+Zq1qC62AGC3HHD6HCNTIXW9bdxGCck9WS\n",
       "wqbmqmAcu5VnIW166tFTt2so8cBryz2uudu4GUlSm7pjVTaf1qXLjGR4i0K8aS0sasKjGkrqqI8B\n",
       "1UsMxrlGT98gUKhs91kaSGZslUP8+givAqzVUOKmPiZVLzEYZ5RkJSE8X9keGNZAMuNsOSSod4fv\n",
       "7F4NJd7feAuqQwxyg2kSi6qUOYGnGkhm9MdZSHs1JcbzWiX7Hgk+dRrbuRnpspKEKnVI48iMyC4L\n",
       "ydD/rp6iVOpfNwcdVGLPglfiqaMzh2WrDjnDzU8Fu970cUDN7pFqvusz+3EYxoc9oBCS25j1zrji\n",
       "zvqYWhPCAs8uFUCswkC6bpfu1OtLdhXsIQ/ZA00GHiyp2RPONrAIN2INnFG+JuCLRfcF/P8Y4K3b\n",
       "cpRAIGc/NAG8iwpdx2PGPg5iWpmTBW4hGg3Oy0M1+5xTHyZEhltlhusndLKQWRxeCWDEQ/X4h5p6\n",
       "8QWVqJBINib1ukXTJ4iikmhJUTLLLZjFQJyCN3aCnb0DNm8Mu0snOYN56nKwU6QQJARxBrovUPAL\n",
       "uq1j1ZHiEF97ngbR9JcRwtP/URJG6hmRwLNXwebNoeeJxRnMUz/OhK7SrPbjMK44ez4qjsg16RFl\n",
       "4t1n79eYV+pEfjs0t5tqdkIQfqGHdgJDbDn9RVZGCdhAVRjc7eRiX9/lE8qTFH/3wReXq4hfG9wi\n",
       "CPLhzM+o2aJwgJTQdDiM+iLcZCG4wPw5CIxFhexRCC9WnDXOCk9Bh71Y5auHGy3N6+OwllWzM+Lx\n",
       "Lm6vpaLM8JhGgYVs03Yy1epPieX9ozlVuZdL2GYChLKKkm1uUZzy88stppbtjMxz8b6VMSsYqZZy\n",
       "SKioHbfqqac6GlUHMRhniVWZlu2ah4MYGKKdTpqSFdUxqjqIwTiTupIVfkIewKCQvOLrVZMuq/Jz\n",
       "GjfPLRLzmlWym/QvLpVBIX2Kb13NUpMi+udjHzdvLlyskp3XEjQGhbjMQ363nqjyUWlyzpFq2W5d\n",
       "usrAkH9xEdJcF+foRgAAAABJRU5ErkJggg==\n",
       "\" style=\"display:inline;vertical-align:middle;\" /></a></span>"
      ],
      "text/plain": [
       "{alpha in Complex, beta in Real, gamma in Real, delta in Real} |- (alpha * beta * gamma * delta) = (((beta * gamma) * alpha) * delta)"
      ]
     },
     "metadata": {},
     "output_type": "display_data"
    }
   ],
   "source": [
    "Mult(alpha, beta, gamma, delta).factorization(Mult(beta, gamma))"
   ]
  },
  {
   "cell_type": "code",
   "execution_count": 26,
   "metadata": {},
   "outputs": [
    {
     "data": {
      "text/html": [
       "<strong id=\"vec_add_01\">vec_add_01:</strong> <a class=\"ProveItLink\" href=\"../__pv_it/demonstrations/80d9f1aa00d6bbe2e48afadf3b8927ec6b4d65a90/expr.ipynb\"><img src=\"data:image/png;base64,iVBORw0KGgoAAAANSUhEUgAAAKwAAAAVBAMAAAAp2hhWAAAAMFBMVEX///8AAAAAAAAAAAAAAAAA\n",
       "AAAAAAAAAAAAAAAAAAAAAAAAAAAAAAAAAAAAAAAAAAAv3aB7AAAAD3RSTlMAInZUiRDNmWbv3US7\n",
       "qzJazP2FAAAACXBIWXMAAA7EAAAOxAGVKw4bAAACaklEQVQ4y4VVP2gTURz+kvRyl1wSQucWTi1U\n",
       "ByWCSJtBjyJuSnCwFKq5RXDMUDB28SYdDNgKgqhDUKEYoQSd6mBjd/EIoeB2Ci4urUpEcPH93nt3\n",
       "uUueycGXhO99v+/9/rx7AVDE6JNQUwpaQXIiWVJITWuEOiYxWcuJMyopjg8TKVsAiaVblQlaRmiO\n",
       "0jY9FIqrEvgKw5ugZYTuKm2NmiwoWK5LaDbMplobJTJQP49k7UHjNiSSgO6ptVHi7H9sb8ZtU44A\n",
       "2ZYram2UWKMp9I4Mpnnl5PUL7HBcitvqtgDez+zfGMTPLk0j1FJwHZpHBO20U8z1w5Vasquz5t2N\n",
       "26ZdAdjG/e3BUdrEp0qopdVFGIdEvGBTeAw9nIJRNPp5Fr8Yt82WBMAyboQuKy7WEWqBQmkd+Q4R\n",
       "T1lxh8hSfVXqXQE6P3IHVHmr9epJq0UTyrQFNLbNLh2I3yS6A7yUWk5oeIiMRQSzzXRQbVNG4qBk\n",
       "eII78WwDW9MHThCxRR/PoP0NtJww+zjwiWBNqFp4EBnjblFj/SqrmzDFfn8MlNpP3slAS/U5fNMy\n",
       "9phtCfup4MJZbX/msY24bc4SSLM2bYa2v5B3TkebnfP4pg06HDkrtaUHC+e/3cZb9r0Wt53yBJZd\n",
       "vGuHLnso12qhlrL1zD88+DvbtHt59lSwsHw0VaeJv47bFpoC597MRS6sa3Nfun6opfx78z94cNZX\n",
       "vmSJ5tDLuy1gj9GKshxOjNwTshp36Kq5J2CP0bLnIlZKgvigtJ0ZJnJFgmaN1z5HTxKrStuRzbQO\n",
       "wfTHaxfm25JIqBJIjv7BTUtM1jLiH56Wi8YlaA0PAAAAAElFTkSuQmCC\n",
       "\" style=\"display:inline;vertical-align:middle;\" /></a><br>"
      ],
      "text/plain": [
       "<IPython.core.display.HTML object>"
      ]
     },
     "metadata": {},
     "output_type": "display_data"
    }
   ],
   "source": [
    "vec_add_01 = VecAdd(ScalarMult(a, x), ScalarMult(Mult(beta, a), y))"
   ]
  },
  {
   "cell_type": "code",
   "execution_count": 22,
   "metadata": {},
   "outputs": [
    {
     "data": {
      "text/html": [
       "<strong id=\"vec_add_02\">vec_add_02:</strong> <a class=\"ProveItLink\" href=\"../__pv_it/demonstrations/08e0838d41e343df9ba75f35e3d8e398dc3850db0/expr.ipynb\"><img src=\"data:image/png;base64,iVBORw0KGgoAAAANSUhEUgAAAIIAAAAVBAMAAAB4Tis1AAAAMFBMVEX///8AAAAAAAAAAAAAAAAA\n",
       "AAAAAAAAAAAAAAAAAAAAAAAAAAAAAAAAAAAAAAAAAAAv3aB7AAAAD3RSTlMAInZUiRDNmWbv3US7\n",
       "qzJazP2FAAAACXBIWXMAAA7EAAAOxAGVKw4bAAACfklEQVQ4y42UT2jTUBzHv0kT0z9rCDJRxEP3\n",
       "RzopSphTrBez0XkQHKGKQ7CyiyB4yWFInYhlB70IiuJBdil6qwjFedBTu7GbDIrMg+AhbnoZwvQw\n",
       "8CR+X9pmS5qBhb78fu998n3v93u/XwAYiPgZ/zUFSQyyGaXwtmcmkktlOIxFCUCuhGeiuRFAnYlc\n",
       "wY2Qvwe3z4a2s5lcKBz1nYed5/vOcxc3XJiwu3bcQcJf0Pl6sd71Eh1otOv73LoNNed7z3Hat38y\n",
       "2epH/3iVoILP6Uscrvk73cQsx+Lx6wUTzjgwrdhqtoISoLSCCoLTa+4haIoB1ZlEsQyVzEVqAI78\n",
       "SavKhmKojmopsSd4zABnggqCuzK80sIAxjGNy7DyiP8CHuAVYSO+na6kgamDQGtDq+IrQJ2AAjkc\n",
       "gGKjBeWbg7RuziHdBPJY4OGgcUOF+eapLDuRwVNOUh9ztdqLWu2NUFjwrnSSAHCPtEqIJLbaK8LU\n",
       "gP4pRoSGrf9ltYXO4HH7RciQCi7p1Da2XOCDdzo0DNXWIFlyncBtyHw7Vu2NIlWBTaAfOSrw3Mc4\n",
       "dxbL4mq+MAbd/A7kUiZW0cdo4s2gAjmcZJqwoVuQ64sCWuXcI94Gzv24g0W+zQjlMRFlg7WgWUEF\n",
       "cvrK8gUX8jt6QxaTlvrj3fImi2AwVmbj9YmK+gyUJu7TStaDCpsi1/lbtERFlViXa9nftF4j6fpF\n",
       "Oe/qI55xnv/DCCrscPETWPcKVuENSlXRGn77jQ7ZYl59Rqcc6qxd3KXBU942V812wy2F+jWZSTMF\n",
       "UjPcx2HuJdY4HhFNElqJzd9FOynBX5g7k613dKVM1JdjoPeTGMXJBv4B6+GIwiaWOO0AAAAASUVO\n",
       "RK5CYII=\n",
       "\" style=\"display:inline;vertical-align:middle;\" /></a><br>"
      ],
      "text/plain": [
       "<IPython.core.display.HTML object>"
      ]
     },
     "metadata": {},
     "output_type": "display_data"
    }
   ],
   "source": [
    "vec_add_02 = VecAdd(TensorProd(x, y), TensorProd(z, y))"
   ]
  },
  {
   "cell_type": "code",
   "execution_count": 23,
   "metadata": {},
   "outputs": [
    {
     "data": {
      "text/html": [
       "<strong id=\"vec_add_03\">vec_add_03:</strong> <a class=\"ProveItLink\" href=\"../__pv_it/demonstrations/d64cb2716a8815db535b3f6eef4be62a7cb93d790/expr.ipynb\"><img src=\"data:image/png;base64,iVBORw0KGgoAAAANSUhEUgAAASkAAAAVBAMAAADoeAXTAAAAMFBMVEX///8AAAAAAAAAAAAAAAAA\n",
       "AAAAAAAAAAAAAAAAAAAAAAAAAAAAAAAAAAAAAAAAAAAv3aB7AAAAD3RSTlMAInZUiRDNmWbv3US7\n",
       "qzJazP2FAAAACXBIWXMAAA7EAAAOxAGVKw4bAAADYUlEQVRIx62WXUhTYRjH/+ecvZ59uDFECKKL\n",
       "4xcWYgyxD73xaEu6MDmYJUHGCIIuR4isRbQM6iZwGAURwai7RTKyC72adRvCCCWDLpYWgQnqhdCV\n",
       "9Lxze7dzNnA7di523vOc//+357xfzwvAj4MuqarQ//Ll8pEDB+o8WlmopZqs7Pne85/uKvDHrQFF\n",
       "ryYrez45BrBQFfQ6wxK4UlVSNn03ATVWTDIYbCu+aw0OCKYznG/M5++RyjoLwqbvMeASDz6Kj6QK\n",
       "T2sGWId49yx/78rf46ioMyPs+lwGTgvdJk1+9rmg+0g/14TwlpmuiGE360wI2766GCboNtJ5PRhA\n",
       "uB8YcxisPYZxqA4/WPg8sDEr0RhfNNNVmrSseeXnOaEbiYBlBKI1ht/oNez43gCOTO5rwvIXNSH7\n",
       "HX4WZrpDiWMaTejHGEbBbgxx8iMznb4GKjq1qNDpPXBulyK+I52y43tFszHEc3P6nbvemBcYPgJk\n",
       "1tUEITNw/AjDC8kAdRh6zHQ37XEPMG2sFnS+QBTexVLEDOr8tftCfKOi3F7SGIOe4KDPyAC64dII\n",
       "SV19LxfDKF8pW5wZTSZfJJPv+Hykbshiklp5HSOLSytB+PaoU2z4sE75bPOsSK3xnkXjMI0m0gYh\n",
       "w5CCWR6TcvvzgvmbXblpOsMHP6/z7GIrKxB9hhyHbMcH+jtPnI8gkPYzQ4Wkyyl6NQlChtGIDp7V\n",
       "PBgJestHAp4dXBY66u0TKEHUZ/Cndl8014lKAp/4Av1GY+UL/AQ6PAEsceS6T4ecmoMSoMkFPDHT\n",
       "6zVayN44IQo6siyVItw659fuU2gyOhf52u37dQdzFCaM3M3HOx2D/IGXUh2bQ62z1Jow02ntKntj\n",
       "ceIUdGrG87eIGMJCxpOq3TeIhv39Y4N2imYlQl1bz7eyFWB84D61+C43bkBXnnP6WzPdlwC7rZ15\n",
       "CKFjy+07RYQ60fb1Amz4Vnn9c6fgzoqNeCrr2y/yg7yEncSaKJFSwlI5ZoulrqBzhEoRh/EdLSmg\n",
       "lG1Xi8FV7Cl/utR8SrwRJXy+WEAL175uEFcDAnFIXyTflaWXW/OWHYKOWQP11gPsayxXOJPY8kmL\n",
       "vERaD2ZTd8vo1szBFi2Bs+2pClnZ8uUyl7SDT4flR/uGao5v9nxNwD/b3C3/fokkZQAAAABJRU5E\n",
       "rkJggg==\n",
       "\" style=\"display:inline;vertical-align:middle;\" /></a><br>"
      ],
      "text/plain": [
       "<IPython.core.display.HTML object>"
      ]
     },
     "metadata": {},
     "output_type": "display_data"
    }
   ],
   "source": [
    "vec_add_03 = VecAdd(TensorProd(x, y, z), TensorProd(x, y, w), TensorProd(x, y, v))"
   ]
  },
  {
   "cell_type": "code",
   "execution_count": 27,
   "metadata": {},
   "outputs": [
    {
     "name": "stdout",
     "output_type": "stream",
     "text": [
      "self a * x the_factor a\n",
      "self (beta * a) * y the_factor a\n"
     ]
    },
    {
     "data": {
      "text/html": [
       "<strong id=\"vec_add_01_factored\">vec_add_01_factored:</strong> <span style=\"font-size:20px;\"><a class=\"ProveItLink\" href=\"../__pv_it/demonstrations/24b47934df390430c4ddb4660bfa2c456cc746cd0/expr.ipynb\"><img src=\"data:image/png;base64,iVBORw0KGgoAAAANSUhEUgAAADwAAAAXBAMAAACluTG0AAAAMFBMVEX///8AAAAAAAAAAAAAAAAA\n",
       "AAAAAAAAAAAAAAAAAAAAAAAAAAAAAAAAAAAAAAAAAAAv3aB7AAAAD3RSTlMAEHaZZquJVO8y3btE\n",
       "zSKD2s2pAAAACXBIWXMAAA7EAAAOxAGVKw4bAAABD0lEQVQoz2NgwAn43FUn4JZlYE1gasAjzTmB\n",
       "bQEDPsDlgEWQ5cbuvyu2ABlMl7Bq4uYL4AnZCGRIK2CXTmDYMBVk+09c0na8DBIT+L4gC2uvWnUB\n",
       "Ls3NwCXA0ogke1YRSXegKANnkuoDBkZlBwZRcCBdRDKcc/s9CJuNvYHBH8TgfYCQ7l2/SADCns68\n",
       "gCEaLI3ktBTHC1C2AIcCQxOIMWMVEGyAGr7RBab2vADEe9LIHpvMDTWcwZYBEjFcyNLM8zZAOVsZ\n",
       "uANANJMCkjTjBhUox5ThPCRiriOkDRhcuA9AOKJJ9hAvie4RgMXY7wfce7/DVOdC6WO7Vl1AD3+2\n",
       "C4zt+FKEAmsCHml2Jxs8sgAiPz/Axk/J1wAAAABJRU5ErkJggg==\n",
       "\" style=\"display:inline;vertical-align:middle;\" /></a>, <a class=\"ProveItLink\" href=\"../../../numbers/ordering/__pv_it/theorems/4aa8d696b1f407d6126de9f51a052e8d90e0848c0/expr.ipynb\"><img src=\"data:image/png;base64,iVBORw0KGgoAAAANSUhEUgAAADMAAAAQBAMAAABJt1qBAAAAMFBMVEX///8AAAAAAAAAAAAAAAAA\n",
       "AAAAAAAAAAAAAAAAAAAAAAAAAAAAAAAAAAAAAAAAAAAv3aB7AAAAD3RSTlMAIquJdkTvuxBmmd1U\n",
       "zTKBpmoTAAAACXBIWXMAAA7EAAAOxAGVKw4bAAAAzElEQVQY02NgwABz0+tvp09gwAoKhBiCpjdg\n",
       "lxJmYOdTwCXFJXABRch99+4LcKkCZJlYD4Qupg6QgYzKjg4gAcYbSAY+PysAZIQJsP8ACfAKwKXE\n",
       "bv8GmcCRycC1ASyF5IyZvSCa6wMDtwGI8Ww3EBRApNg7QV5mK2DoDwAJtCPp4ltQAaT7HRjmgwW4\n",
       "kf21ThwkdYBBlwfkAhYHJKl2FqCJ7A48u7jAInfgUlIMnBNKgS5UsRPyA4s0lTbAQr6Qofz+AeTg\n",
       "CK7ejRxyAISENKeL/c93AAAAAElFTkSuQmCC\n",
       "\" style=\"display:inline;vertical-align:middle;\" /></a>, <a class=\"ProveItLink\" href=\"../__pv_it/demonstrations/867240f288a0a475f332ba3bfce26b090616c3760/expr.ipynb\"><img src=\"data:image/png;base64,iVBORw0KGgoAAAANSUhEUgAAADUAAAATBAMAAADCPVhoAAAAMFBMVEX///8AAAAAAAAAAAAAAAAA\n",
       "AAAAAAAAAAAAAAAAAAAAAAAAAAAAAAAAAAAAAAAAAAAv3aB7AAAAD3RSTlMAIol2mRAyZqtE3VS7\n",
       "ze8XF9CTAAAACXBIWXMAAA7EAAAOxAGVKw4bAAAA8klEQVQoz2NgwAS1b87felMAYQuZuKJKHpBg\n",
       "mFETAGKxGTBUoMkJMfCwNYBYQQwMszDkWAQugFgGDAweEDGbVasuwOUOQOS4l4Kl5poi9HGEgszk\n",
       "TDxxF2wv41UkM3P2CgAZTAzlsxJAIrwCcDm5W7/AZjAxMLCDzeZFckt5LJgRDDT2A4iRtwoIDkDk\n",
       "eMLBfp/GwMD8AMSIQdLH5nAUxFBgYOAB+5ML2X9uMiAG0Ed5YFcwGyDJxTADDWV1Z+BcCRG6DZcT\n",
       "YWAvOMnAwJ1prAwVijgZAIuHgwxn7m8AeQEOJp2ChBkMMDHgBsF45KbhlgIANts+wHWj7lUAAAAA\n",
       "SUVORK5CYII=\n",
       "\" style=\"display:inline;vertical-align:middle;\" /></a>, <a class=\"ProveItLink\" href=\"../__pv_it/demonstrations/69b818e5ab2a8afc180d22a4e2534dbd4afed1660/expr.ipynb\"><img src=\"data:image/png;base64,iVBORw0KGgoAAAANSUhEUgAAADwAAAAUBAMAAAAjLUMaAAAAMFBMVEX///8AAAAAAAAAAAAAAAAA\n",
       "AAAAAAAAAAAAAAAAAAAAAAAAAAAAAAAAAAAAAAAAAAAv3aB7AAAAD3RSTlMAEHarMolUmd1mIs3v\n",
       "RLtmgJDEAAAACXBIWXMAAA7EAAAOxAGVKw4bAAAA/UlEQVQoz2NgwAm4pik74JZlYA5gOoBHmsWB\n",
       "tYEBH+CYgEWQc8+73z0vgQymTVg18XEZ8Fo+BDLkFLBLBzA8cAbZ/gWXdBU3g4wD109kYaYXHd1w\n",
       "aT4GDgHOg0iyvJsEELoNhRlYgpQXMDAIKYuEJoBEVwsgDGd5tgvKKWAyYgd7fxfC7tP9TVC1nAs4\n",
       "PzKDvb8BIR05EcZhYWCHMFlOdHR09EENfzgT7iQeiOcZHyB5zJ0P5hCG+wsYwewGJGl2L6hiuQs2\n",
       "DKxglhKSNOMDTQg737GG4RqYxZ0Aly5gmMl3AcwWV2KrhIgz2l2Exdi/BXyvv6GHNW8cJFCRAABM\n",
       "3zydJQQu6AAAAABJRU5ErkJggg==\n",
       "\" style=\"display:inline;vertical-align:middle;\" /></a> <a class=\"ProveItLink\" href=\"../__pv_it/demonstrations/22041ae874ae55cf5d9d2b23ee5e3e42cfd87d130/proof.ipynb\" style=\"text-decoration: none\">&nbsp;&#x22A2;&nbsp;&nbsp;</a><a class=\"ProveItLink\" href=\"../__pv_it/demonstrations/7e738dfab1063cf7549df6446adafedffb271cf10/expr.ipynb\"><img src=\"data:image/png;base64,iVBORw0KGgoAAAANSUhEUgAAAW8AAAAVBAMAAAB73HI0AAAAMFBMVEX///8AAAAAAAAAAAAAAAAA\n",
       "AAAAAAAAAAAAAAAAAAAAAAAAAAAAAAAAAAAAAAAAAAAv3aB7AAAAD3RSTlMAInZUiRDNmWbv3US7\n",
       "qzJazP2FAAAACXBIWXMAAA7EAAAOxAGVKw4bAAADk0lEQVRIx42XTUhUURTHzzQzjc6oDNJKEJ4W\n",
       "uCosxKCVGLQzhuiDQHE2hcshTMQIp1rUJpxsU9hCsBCKRFyVC7+2IYVUtGih1CbbWFGbQDrn3vM+\n",
       "7rn3venBmcf7z//+f9f7zntzBYAiAKTAcRTdUvG/vHHOVF0hFh6Gqi8PdOPHYZdtyVLIq/z1vUvO\n",
       "AAfJiU6gBME9WOk+5+CqVHq44FDX9TpeEuwAm+RGJ1D8ypZRuOi+XVfENXmVv8WD+3W8SrBEm+RG\n",
       "J1G4crQq4+6J3+XzKz6TV/nPAyzHeA3BEm2SKURJcRSuRrquuSfeWNLnE/41F3gAN2O8hmCJNskU\n",
       "oqQ4Clcv9VnZPfGDVTOulwsj089ivIZgiRZJCFFSHIVrlG4MPSDt/a1hi3V++HoaIPPOjBvlKuxs\n",
       "Xg3XMvW+wwu9OLirCkNaCEW/BSSJBKZJkkERoVgj/HcUHsDbwJaDo94EQEPZjBvhysC95e2A/brY\n",
       "9Dv04rfpGkxpQYsTz+l4CS4SCUyTJIMiQrHmUM3jS/NyFSaCudyCqdInvI81M26OK4Mj14K1eAS5\n",
       "2dAL8AUvP2shLVvaIpHANEkyKCIUa4ZafhFgEuApTeMP2bZhjE4te3q9HvN6zXCdw2Wjr4ZpQXN7\n",
       "kO9jrxJKjR5Ma0GJxsMlSSQwTZIMigjF8if+BLJ/aci8JkzTR0GsuD/xFfwJoK/yFRq8BsOL7FUC\n",
       "rJZa9rVQqDkmbpBIYJokGRQRisWtkv0JDZHlKfyAC3hDZt2tggvcFDx2wx41X+DFY0wBSdBipMct\n",
       "ErUK0yTJoIhQrA0UmzzI/oLm8nG/bd8012ic32J+3AYX3rtvwSZouBs+pouRdoRNBSQhIupDkpTA\n",
       "NEkyKCIUawD0C2YDTlUq/st1/1Kt0M0vr0jcgK7sOBReROaSns+FXqBfjdWqFnJyIyJJJPg0QTIp\n",
       "IhRrlx5CXPyhIztb/ssne807eYfu46IZt6sr/b2zP7Kt2Drbfiz04jHUP1nUQkTUhySR4NMEyaSI\n",
       "UKw8ZSy4fznbRBx5sTJJXnWcYaHNsi0kCxGSRYmGYjVUnJshYwPkb33Ii5VJ8uLdL2cfsjAeu2+L\n",
       "ESIkkyJCqdapT53/b6Tko6W86/SCTfLmveY+LdgBNsmNtihmqAoepD5dcw22MwdVrSR707dvsOCY\n",
       "lEVyoy2KGaqCU7hDglbX4A57XT321/d2OAMcJCc6gcL1D+W0MeMpOU/RAAAAAElFTkSuQmCC\n",
       "\" style=\"display:inline;vertical-align:middle;\" /></a></span><br>"
      ],
      "text/plain": [
       "<IPython.core.display.HTML object>"
      ]
     },
     "metadata": {},
     "output_type": "display_data"
    }
   ],
   "source": [
    "vec_add_01_factored = vec_add_01.factorization(a, pull='left')"
   ]
  },
  {
   "cell_type": "markdown",
   "metadata": {},
   "source": [
    "<p style=\"color:red\">Testing Begin Here! (Needs to be cleaned up and reorganized later.)</p>"
   ]
  },
  {
   "cell_type": "code",
   "execution_count": null,
   "metadata": {},
   "outputs": [],
   "source": [
    "supposed_vec_space_membership = TensorProd(x, y).deduce_in_vec_space(field=Real)"
   ]
  },
  {
   "cell_type": "code",
   "execution_count": null,
   "metadata": {},
   "outputs": [],
   "source": [
    "supposed_vec_space = supposed_vec_space_membership.domain"
   ]
  },
  {
   "cell_type": "code",
   "execution_count": null,
   "metadata": {},
   "outputs": [],
   "source": [
    "# perhaps this will help the experiment further below?\n",
    "from proveit.linear_algebra.vector_spaces import containing_vec_space\n",
    "containing_vec_space(TensorProd(y, z), field=Real)"
   ]
  },
  {
   "cell_type": "code",
   "execution_count": null,
   "metadata": {},
   "outputs": [],
   "source": [
    "vec_add_02_factored = vec_add_02.factorization(y, pull='right', field=Real)"
   ]
  },
  {
   "cell_type": "code",
   "execution_count": null,
   "metadata": {},
   "outputs": [],
   "source": [
    "vec_add_03"
   ]
  },
  {
   "cell_type": "markdown",
   "metadata": {},
   "source": [
    "Investigating error when Prove-It is trying to perform the following:\n",
    "\n",
    "return tensor_prod_is_in_tensor_prod_space.instantiate(\n",
    "{a: \\_a\\_sub, i: \\_i\\_sub, K: \\_K\\_sub,  V: vec\\_spaces})\n",
    "\n",
    "in tensor_prod_membership.py for the case of $x\\otimes((y\\otimes z) + (y\\otimes w) + (y\\otimes v))$"
   ]
  },
  {
   "cell_type": "code",
   "execution_count": null,
   "metadata": {},
   "outputs": [],
   "source": [
    "# reminder of assumptions:\n",
    "defaults.assumptions"
   ]
  },
  {
   "cell_type": "code",
   "execution_count": null,
   "metadata": {},
   "outputs": [],
   "source": [
    "# this one will work OK (see next cell)\n",
    "temp_factored_tensor_prod_01 = TensorProd(TensorProd(x, y), VecAdd(z, w, v))"
   ]
  },
  {
   "cell_type": "code",
   "execution_count": null,
   "metadata": {},
   "outputs": [],
   "source": [
    "InSet(temp_factored_tensor_prod_01, TensorProd(R3, R3, R3)).conclude()"
   ]
  },
  {
   "cell_type": "code",
   "execution_count": null,
   "metadata": {},
   "outputs": [],
   "source": [
    "temp_factored_tensor_prod_02 = TensorProd(x, VecAdd(TensorProd(y, z), TensorProd(y, w), TensorProd(y, v)))"
   ]
  },
  {
   "cell_type": "code",
   "execution_count": null,
   "metadata": {},
   "outputs": [],
   "source": [
    "deduction_as_vec_space = TensorProd(R3, R3, R3).deduce_as_vec_space()"
   ]
  },
  {
   "cell_type": "code",
   "execution_count": null,
   "metadata": {},
   "outputs": [],
   "source": [
    "deduced_field = deduction_as_vec_space.domain.field"
   ]
  },
  {
   "cell_type": "code",
   "execution_count": null,
   "metadata": {},
   "outputs": [],
   "source": [
    "temp_factored_tensor_prod_02.deduce_in_vec_space(field=None)"
   ]
  },
  {
   "cell_type": "code",
   "execution_count": null,
   "metadata": {},
   "outputs": [],
   "source": [
    "temp_factored_tensor_prod_02.deduce_in_vec_space(field=deduced_field)"
   ]
  },
  {
   "cell_type": "code",
   "execution_count": null,
   "metadata": {},
   "outputs": [],
   "source": [
    "# interestingly, we also can already do this:\n",
    "VecSpaces.known_vec_space(x, field=Real)"
   ]
  },
  {
   "cell_type": "code",
   "execution_count": null,
   "metadata": {},
   "outputs": [],
   "source": [
    "R3.deduce_as_vec_space()"
   ]
  },
  {
   "cell_type": "code",
   "execution_count": null,
   "metadata": {},
   "outputs": [],
   "source": [
    "TensorProd(x, TensorProd(y, z)).simplification()"
   ]
  },
  {
   "cell_type": "code",
   "execution_count": null,
   "metadata": {},
   "outputs": [],
   "source": [
    "from proveit.logic import Equals\n",
    "Equals(TensorProd(R3, TensorProd(R3, R3)), TensorProd(R3, R3, R3)).prove()"
   ]
  },
  {
   "cell_type": "code",
   "execution_count": null,
   "metadata": {},
   "outputs": [],
   "source": [
    "vec_add_03_factored_02 = vec_add_03.factorization(x, pull='left', field=Real)"
   ]
  },
  {
   "cell_type": "code",
   "execution_count": null,
   "metadata": {},
   "outputs": [],
   "source": [
    "TensorProd(x, TensorProd(y, z)).shallow_simplification()"
   ]
  },
  {
   "cell_type": "code",
   "execution_count": null,
   "metadata": {},
   "outputs": [],
   "source": [
    "# This will not yet work, since the factor is a vector and\n",
    "# appears in the scaled portion of each ScalarMult but is not a TensorProd factor\n",
    "try:\n",
    "    VecAdd(ScalarMult(two, x), ScalarMult(three, x)).factorization(x)\n",
    "except Exception as the_exception:\n",
    "    print(\"Exception: {}\".format(the_exception))"
   ]
  },
  {
   "cell_type": "markdown",
   "metadata": {},
   "source": [
    "### Automatically proving conjunctions are equal via permutation"
   ]
  },
  {
   "cell_type": "code",
   "execution_count": null,
   "metadata": {},
   "outputs": [],
   "source": [
    "defaults.assumptions = [InSet(w, R3), InSet(x, R3), InSet(y, R3), InSet(z, R3)]"
   ]
  },
  {
   "cell_type": "code",
   "execution_count": null,
   "metadata": {},
   "outputs": [],
   "source": [
    "Equals(VecAdd(w, x, y, z), VecAdd(z, y, w, x)).prove()"
   ]
  },
  {
   "cell_type": "code",
   "execution_count": null,
   "metadata": {},
   "outputs": [],
   "source": [
    "Equals(VecAdd(y, z, x, w), VecAdd(x, w, y, z)).prove()"
   ]
  },
  {
   "cell_type": "code",
   "execution_count": null,
   "metadata": {},
   "outputs": [],
   "source": [
    "%end demonstrations"
   ]
  }
 ],
 "metadata": {
  "kernelspec": {
   "display_name": "Python 3",
   "language": "python",
   "name": "python3"
  },
  "language_info": {
   "codemirror_mode": {
    "name": "ipython",
    "version": 3
   },
   "file_extension": ".py",
   "mimetype": "text/x-python",
   "name": "python",
   "nbconvert_exporter": "python",
   "pygments_lexer": "ipython3",
   "version": "3.7.3"
  }
 },
 "nbformat": 4,
 "nbformat_minor": 1
}
