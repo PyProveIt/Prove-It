{
 "cells": [
  {
   "cell_type": "markdown",
   "metadata": {},
   "source": [
    "Theorems (or conjectures) for the theory of <a class=\"ProveItLink\" href=\"theory.ipynb\">proveit.linear_algebra.matrices</a>\n",
    "========"
   ]
  },
  {
   "cell_type": "code",
   "execution_count": 1,
   "metadata": {},
   "outputs": [],
   "source": [
    "import proveit\n",
    "# Prepare this notebook for defining the theorems of a theory:\n",
    "%theorems_notebook # Keep this at the top following 'import proveit'.\n",
    "\n",
    "from proveit import (a, b, b_of_j, b_of_k, c, d, f, g, i, j, k, m, n, t,\n",
    "                     x, y, z, fj, gj, fy, A, P, U, V, W, S, alpha, beta)\n",
    "from proveit import Function, ExprRange, IndexedVar\n",
    "from proveit.core_expr_types import (bj, a_1_to_m, x_1_to_i, x_1_to_m,\n",
    "                                     y_1_to_j, z_1_to_k, z_1_to_n)\n",
    "from proveit.core_expr_types import (\n",
    "    a_1_to_i, b_1_to_j, c_1_to_j, c_1_to_k, d_1_to_k)\n",
    "from proveit.logic import Equals, Forall, Implies, Iff, InSet, InClass, SubsetEq\n",
    "from proveit.numbers import Add, Mult, Exp, Sum\n",
    "from proveit.numbers import one\n",
    "from proveit.numbers import (Integer, Interval, Natural, NaturalPos,\n",
    "                             Rational, Real, Complex)\n",
    "from proveit.linear_algebra import (\n",
    "    VecSpaces, LinMap, ScalarMult, MatrixSpace,\n",
    "    TensorProd, MatrixMult, Unitary, SpecialUnitary)"
   ]
  },
  {
   "cell_type": "code",
   "execution_count": 2,
   "metadata": {},
   "outputs": [
    {
     "name": "stdout",
     "output_type": "stream",
     "text": [
      "Defining theorems for theory 'proveit.linear_algebra.matrices'\n",
      "Subsequent end-of-cell assignments will define theorems\n",
      "'%end theorems' will finalize the definitions\n"
     ]
    }
   ],
   "source": [
    "%begin theorems"
   ]
  },
  {
   "cell_type": "markdown",
   "metadata": {},
   "source": [
    "### Matrix spaces on number fields are vector spaces"
   ]
  },
  {
   "cell_type": "code",
   "execution_count": 3,
   "metadata": {},
   "outputs": [
    {
     "data": {
      "text/html": [
       "<strong id=\"rational_matrix_space_is_vec_space\"><a class=\"ProveItLink\" href=\"proofs/rational_matrix_space_is_vec_space/thm_proof.ipynb\">rational_matrix_space_is_vec_space</a> (conjecture without proof):<br></strong> <a class=\"ProveItLink\" href=\"../__pv_it/theorems/2aaf813d53885a545d0e26825697f03612f471990/theorem_expr.ipynb\"><img src=\"data:image/png;base64,iVBORw0KGgoAAAANSUhEUgAAATwAAAAmBAMAAACrETp8AAAAMFBMVEX///+IiIgiIiIQEBB2dnbu\n",
       "7u5ERETMzMzc3NwyMjK6urpmZmaYmJiqqqpUVFQAAAB6qHgnAAAAAXRSTlMAQObYZgAAAAlwSFlz\n",
       "AAAOxAAADsQBlSsOGwAABYhJREFUWMO9WG9oW1UU/73mvb6Xl6RNoR0rdmUEZcwiLWJtmVuJMnTu\n",
       "H7EOYWyu8c86qI69Wj+IYPu2oX4YtpHNYYdipf0izpnhYLBUTZls2HYsug+V4VyGMnBObMe0sV2t\n",
       "5968JC9d8pq0Xe6Hm3tf7j33d875nXP/AHmWr1GgIn2wgEmOaKHg4TVf/nO+Lxg6OPO3hFxfOHjY\n",
       "m/cMu7eA8J7N27tXfQWElz/P7y8gOiixfKn3d4aPr5Oe+j3B93Ke40v8ps7I+bJo1R5A8GKQ94KL\n",
       "NleyFVf3bJ7zS8M8YT7Z+ooOaXgtmlBN/TLRzXuNi4W3IiEbn/J+TwScfj/nOL+La1XdgAO/QXkm\n",
       "gEmcor74Pngv3fPOfbeiUGofTQaTFApFLA3s8iZkQ+B2KAriDPv9MEd4F1klfheGesaPErdch4cM\n",
       "eNRT6+YE3h22Ql+y36zhx4CV9O0p2eA7miOATuZzf47wfuehYKfKPwSbJviVcQ0od5CuNs0R1NKZ\n",
       "9C9bIdXfRBa1hDeYko0R9kEYh52ML0ZyhNfEqt27qHrKjh6ymNMfNEKjB0VvxeEt83jiKPYRFYZT\n",
       "k4+wla2k16Vkw8Y44ZqEkzS358rd24xC/naqrzi0E7DryjUfSywlOk5A2MzHfFaRzOHENFNmfYnQ\n",
       "hq2oF0jJhp2NlGeAhz2eR3KFx9gke49TfdyZxeJK6hxkq4PshnKSvLpj/RZcvU08VA9vDt0kL5et\n",
       "90E6tT6CQ+VBtA9VMh54TbJFppdE650mk1piSm2zCmkD1X2B6nZXFkPYUxlanIHDhw5dCCjr0K8J\n",
       "s7PHCPMaNAdxSSfaH4yoDXIjKiU/itjMsEl2nKUTQDcU670tlQyYsaF4WRo6LvRlgZcWGyVADTBj\n",
       "DxAg7Px1Ngx7FK4p6qkx9MLVSLmj9HI9BBbkEZNsV51BpmKfmHklpWYjzkbN8NQpVhv8yHI46PBQ\n",
       "MSLgE30YMjnoSIvhgQ4KxSCkafLbQExiTO4iwN7aF5jJbX0m2fI4G08DXe5MkdF+vQ2/iD4GYo71\n",
       "sLvbiK6M5Tnz+cZLppoeHT3f5QYPC9KP4OEfSN9cickTbMjg6Ki2rXbagJeUHU+i7HNgKMNZ5jTb\n",
       "S9xBEZtCNaG+NHgDPDddyAKvyNS2Nbjjc1qCRlKZNKx3qU+OMSOiiyJM8eGixp2bku1aaXAPWyjW\n",
       "nIPt1cI5lreodR9Qxf4cu7xfTOOecodDZ5n9RrYMJrhNSt7y8VypEvcQeZAEjHPuTZJZ1NgbvYTC\n",
       "Ruz5wo0SMm2x2yTb6U9kioM0Ymd/2BYVWIiwli7xP8fE5wfS4EkT/Gcr7Yt/ZI2kj03s/Y/xrQ8b\n",
       "lLUQ9dURbCemNaLZS/CEyZ8OhrFBXgPxvXoUE/l4LknIdngTmaKEjPZ2JUo1/om1fCrPGmMILkuD\n",
       "h8fiq37bO61lhberLRU0x9joULmOHSeXI/r51hsU2TfLqO5cUfGEWwqV6Th0coP6eNlGRp2VJtl8\n",
       "r5anEoKuoYM7n7X64Tza2rqX4G2zp+U9HDWOfdqQRSIaeNFjsbXasx9aVplkH+D7SPIM1IBl6JHj\n",
       "rZAse+PWU39IF/BVQhnhzzcXeKazgDdikj3I8/rKBEvGyWrnHNjGWqvG4vsIbefVcw5Uht9c1w+/\n",
       "ukB4Rdn3gGI9KTt+hipOjFWjdObrrkBHhFrlYbxD/pdX6yzrm0tLBIss6l9NWe8lkn8O0tK7Nk5j\n",
       "fTpTt2XSb9HXCcuyP9lazusv52qiWt9jnXWFvEji6bvWn+fVaKqg8NYtWp97WYS8fWXTcrirVy3R\n",
       "Q4wt70C0vsvESyf8SwOvMv8pH80/ZM9SPbEs4FrfPP9rygNYmmes5gUkWWX+F9+B0fCSwFvQvvRu\n",
       "oeJWYmeW/wG6DJaa3xFajwAAAABJRU5ErkJggg==\n",
       "\" style=\"display:inline;vertical-align:middle;\" /></a><br>"
      ],
      "text/plain": [
       "<IPython.core.display.HTML object>"
      ]
     },
     "metadata": {},
     "output_type": "display_data"
    }
   ],
   "source": [
    "rational_matrix_space_is_vec_space = Forall(\n",
    "    (m, n), InClass(MatrixSpace(Rational, m, n),\n",
    "                    VecSpaces(Rational)),\n",
    "    domain=NaturalPos)"
   ]
  },
  {
   "cell_type": "code",
   "execution_count": 4,
   "metadata": {},
   "outputs": [
    {
     "data": {
      "text/html": [
       "<strong id=\"real_matrix_space_is_vec_space\"><a class=\"ProveItLink\" href=\"proofs/real_matrix_space_is_vec_space/thm_proof.ipynb\">real_matrix_space_is_vec_space</a> (conjecture without proof):<br></strong> <a class=\"ProveItLink\" href=\"../__pv_it/theorems/da79bfc216e96a1caadd86222013182d66dbfcc70/theorem_expr.ipynb\"><img src=\"data:image/png;base64,iVBORw0KGgoAAAANSUhEUgAAAToAAAAmBAMAAACmD0o7AAAAMFBMVEX///+IiIgiIiIQEBB2dnbu\n",
       "7u5ERETMzMzc3NwyMjK6urpmZmaYmJiqqqpUVFQAAAB6qHgnAAAAAXRSTlMAQObYZgAAAAlwSFlz\n",
       "AAAOxAAADsQBlSsOGwAABXBJREFUWMO9mGtsFFUYht/d7szstZekEBqbUipKsBEbi6VWkWqAlJts\n",
       "sDbRol2NbWpDw5YmamKkIxWQNGlXECIBcU3xh3/oNtYUbdE2aA2y0SWYNBhjlx8STNC0UrlUm/qd\n",
       "uezO1s7uTi87f3bOzDlznjnf+33vmQUMHueQmoM7OotBjnCK6LDHbXzMhVTBwWl8HYRHUkaHRsMj\n",
       "bOWpo3vGcGhH3KmjMy7x5amDg/WOUdn9PcM1CvbZBcF7xWD/dI8mp/qb8kxDXiAbjgHWumfOOGLs\n",
       "yXmDwzMGiOpI3d17dwE7OwfSwibShinzSbklzhHOFLpQsvtwCc3xsdTuCEGS3i9Jjm9hALw1bL9R\n",
       "i/05yPA6WA5vyoTUis2YoalVwL6btZEL1X3nHHGf/hPgaceZITdMA6xtDuBL9vtBknQ/QqIrh2cv\n",
       "cBXNMIcUOmp1Tuv8NZvigag1rYBrZVzv8hHdO+AFWjDJxhw+7GXZ4UmS7neV7qwNWIPF6BAoIOX9\n",
       "YK0+IbZzB82GQKRpCSRwGlIvo3OINO6iFOlR2CgellCSdE9E6HhYR2m9hhxKVlBrxbCsnpcL5CXi\n",
       "qSI4/TGFnI/38DQodLRWaUwlrttwErEtWd2Oq3S/vQh7mATRvkiqKNdZK1sSi/09VX6ufyjJo2P5\n",
       "UoKN9/ArMl36sxRZG3uWMAk8XFCwOlm6fxU6oVFXqYeiuVEMNAFt2QFwPetDrqnNdO3T1Re/opkH\n",
       "szdQmqzfBmv3Fgi5WUwEPTLda1co9SwsWTmarheojYsUtVbrpEz36EPLdB1Ng709hM8hlCIHrSH7\n",
       "GiyduktxLvZzhXCV4gtY16LT2yyafFVAPnU/yehaD/+1iBVThosxoB3W+IYWFbag0G391qfb2xeT\n",
       "FmFWFjJCxxkP98M6WoxTZNZ+anWJNh8ui4XAZKcbLOsflNYu+JykiiJFSLzb4p/Z5wo343xYS2ef\n",
       "UCJbG9T1OhJKwf1KHtyhpGgZgG3DuHJzHXACqKEnPr9drKGgCMT7vvnWEna3TKLjd0qSG2VXSLiu\n",
       "zJmSoulaA361uB3umdau/E1eL7Kcpji5xikpRvqDwdfHIGdEl5/RZXhQ/ceI2JLJMicY/I57aioQ\n",
       "oRMCTGf2IoUOvsEZak8vc5DMgAVb+gr7/NPpHG/oVsh8zXkxJUULVSuOTcOqSYZXXjtXGdkOW0Lp\n",
       "ifvhvB2JLHoPsBfLV3SHbUc1lq7YeS67Ofzz25YY3VnVnOU8uXp0WVq3uI8qF2nDf5zmM9M7dsi6\n",
       "82YE0HXwEEk0RBXUfgm4Qb1fkumqmI05PWqJaA1rLF22czk+w5YXTsfQcWMyXQBB3q+3e9ZU9g56\n",
       "oFAGi9g6gArzh+AoLY+I3HIQ3dK33n2c7jT7UXHZjXrq/TSja6MC3ECxK1dLRLoXGkuX7NwuFdZh\n",
       "BBbH0OExSHuUWyL/6qSe8K59EiVlr9DWXQGuL0tMt/f8Se1Tg3l+CFcvVS5DdfcSWPuyxdNZ2azj\n",
       "HnK6kt31qPsoBLbQECbUB0UsXbJz57G6ukaiq7TF1DscS6Ji2zcWxDP7E7p3zN7o+T4pqyJ7XdXS\n",
       "ZTsXyuW1Y5LQHp/NfcOrT+fUBKlf2jeoGaZaeqVi55J7fA/kTdtBzf2jZ5X+rfpo+km651WXUC29\n",
       "OSTb+QFaZWGlqHVxdtSE5gp35uZ13XtV0R2DqO7EYw9lem5jXcMM4/nAgn6EZapnkneQ2U2XdPzQ\n",
       "OYtS+MWITf+bPsEfQxOppFs759dZwMNkOFBp3sR9mr6ZH7o0wyno9CX+vyDMzw9djvEhJxP24L3z\n",
       "lMGlxsfsSPjBb3Zz80K3Yxa11Zrw71z71uC80O2azaCDKcpYju1S/gN+DYKLkicCXwAAAABJRU5E\n",
       "rkJggg==\n",
       "\" style=\"display:inline;vertical-align:middle;\" /></a><br>"
      ],
      "text/plain": [
       "<IPython.core.display.HTML object>"
      ]
     },
     "metadata": {},
     "output_type": "display_data"
    }
   ],
   "source": [
    "real_matrix_space_is_vec_space = Forall(\n",
    "    (m, n), InClass(MatrixSpace(Real, m, n),\n",
    "                    VecSpaces(Real)),\n",
    "    domain=NaturalPos)"
   ]
  },
  {
   "cell_type": "code",
   "execution_count": 5,
   "metadata": {},
   "outputs": [
    {
     "data": {
      "text/html": [
       "<strong id=\"complex_matrix_space_is_vec_space\"><a class=\"ProveItLink\" href=\"proofs/complex_matrix_space_is_vec_space/thm_proof.ipynb\">complex_matrix_space_is_vec_space</a> (conjecture without proof):<br></strong> <a class=\"ProveItLink\" href=\"../__pv_it/theorems/35769edcb1c2bd03a124a541258c12c34cadf1300/theorem_expr.ipynb\"><img src=\"data:image/png;base64,iVBORw0KGgoAAAANSUhEUgAAAToAAAAmBAMAAACmD0o7AAAAMFBMVEX///+IiIgiIiIQEBB2dnbu\n",
       "7u5ERETMzMzc3NwyMjK6urpmZmaYmJiqqqpUVFQAAAB6qHgnAAAAAXRSTlMAQObYZgAAAAlwSFlz\n",
       "AAAOxAAADsQBlSsOGwAABXVJREFUWMO9WH1sE2Ucftr1eu213bqkLpuSMReU4CJZHGYLgpsGFj6l\n",
       "wYU/HGQTZUGQpGNL/MPoTiZOsoSVKMRlSEo2/zAadosYwA3pgplRFi1ismiMlBgJxo9sMgEnZP7e\n",
       "965rO9prbx19k93uvffrud/7PL/nvQIGy1lkpwiH5zDIEc4SOuz1Gh/zVbbAwWk8DuLjWUOHPYZH\n",
       "2Guyh+5Zw1t72Zs9dMYpvih74GC7ZZR2/yR4Rpt9+p7Ae9Fg/9zGGE0NNRebRnyAB44gqz2QMRw5\n",
       "/ua8weF5QZ4oa5cc6qjZ2hvMCZuIGyb3UwCryRmCM4WAuu3dha04zutdIXDq/ZTm+DYOoHgF6m8o\n",
       "+4uQ53MwDa91A6wWr5iR6aXAvus7Zh7UD5516M7+PQH8JSic2w0Tj4JZwWfs/3tpovuWa+l+gjSi\n",
       "4ApaYA5p6KjWO6vzObbEI1FrWgzXEl3v8gMDfUSZ3QC3MYcfrzN1NKaJ7jd2edVKQcpVUIkCdIn0\n",
       "vjVD9LQSg2J85y5aDcpM1aKkcBpir6iwUP8OXOA7PQ47LWUJpYnuSXb51cpeNGgbp3iNODRVUG3x\n",
       "mMqe7aVqiKyUEZyBuERu1Zs8h97Zy+K0le4ZS1w34aT429Pl7SS7NHbyeylMhDh4H88o11jNw8ki\n",
       "HYrQz/UfLRcda60isHqT/0B9bFqs7Wwu8Q7wWGnpsnTR3WY0CLfqdTkQ1UYF0Ax0ehQIJ1eFXNPr\n",
       "6NmHyy58TisPe1aTTFZthG1gPcQF+YwEJ4GDouaUFiZWgZY7BezQhRS1Vtsdnn0/1usdI7BNIXwK\n",
       "sQpFaA9JlVg4/S/tc0VAKIOrCmdgW4leX4ts8m8BSqj7UaBVCmrJlMHFBOGlaOiiixKbhRo25bhe\n",
       "b3+cLMIsLeSFuhke4ZtqCsYxMusA1fplux+X5DLgTq8XTPWPUpwlt8aKco1IVq8lkNjnytbhfDgW\n",
       "nTTFefemntcRUUof1shzi0TRFoR99aTWWA30AA0043Ob5AbaFJHwvmu+UchalzPeaRsljrMrEdfl\n",
       "TiSK5qu78LPF6/DeFTvs0FOeEJOcXJMkistDo6OvTEBVRH+AoctrRP2fl+U2N1PO6OiXwtPTiobO\n",
       "qw2XyjV08A8nyD2nmIO4FQvWD5YNBuLQfcTyHQJJ4JXE3FeQKNooWwlsGfZOeT41dq7lZDsshHzG\n",
       "/XDeVHdW4vlOItQlGu+w8XCMpWt2voA1jv34hiWOd7bbqleEeR5PXPJj3eIhylzUOdBN65npfbpU\n",
       "3vnyFPR3HKApQpRBpYvAH9T7efobOEGXM4SiMZIi2sOqiXNLV+1c3Z8xy7a+OHTCBP9X0CNvK0t6\n",
       "eo7J7F00obgcFrk9iDXm9yGQLN+RhUUgdAtfe3sFtbQEsOaSFzup9zMslb90WviOFuT+zVNErk81\n",
       "cdXSuZ2rwh6DUhCHDk+oIGury5KeR4SrH0SRsu3vHFgDYTBfzpVO/kX1Y8PFAYhXLtY9iPqBQtgG\n",
       "PXJfvod13MuG1L3wNzssskBDnIpMNGPp3M6dR5qa9hC6OntcvsORNDK2VFuqZ/Y9SVvMvuj9Pq6q\n",
       "mbNuxNJVO1dT9hinRGz5JPMDb3J0zphNGuKGEVFYxNLrNDvn7vE1HeVmnaAy/+hZmrxpZ1R+nPfW\n",
       "iEtELL0lpNr5WxRlcYkc6+KsNIQyBXfi+rWkbVuiJwY5ehKPLdryQm3TrgTjrco9/QhzR+64d5DZ\n",
       "zaa0/tY5y7P4xYi1dy2f4oehqWyiW5nx69zDYjK8UTm+1H2av5gfdDmGJej0p/69IGydH3RFxocc\n",
       "TdnD6psnBVcZH7M55Qe/2SvMC7rNc8ittpQ/50obRucF3ctzGdSRJcUK7JTyP+cWc1Y7nr55AAAA\n",
       "AElFTkSuQmCC\n",
       "\" style=\"display:inline;vertical-align:middle;\" /></a><br>"
      ],
      "text/plain": [
       "<IPython.core.display.HTML object>"
      ]
     },
     "metadata": {},
     "output_type": "display_data"
    }
   ],
   "source": [
    "complex_matrix_space_is_vec_space = Forall(\n",
    "    (m, n), InClass(MatrixSpace(Complex, m, n),\n",
    "                    VecSpaces(Complex)),\n",
    "    domain=NaturalPos)"
   ]
  },
  {
   "cell_type": "code",
   "execution_count": 6,
   "metadata": {},
   "outputs": [
    {
     "data": {
      "text/html": [
       "<strong id=\"eigen_pow\"><a class=\"ProveItLink\" href=\"proofs/eigen_pow/thm_proof.ipynb\">eigen_pow</a> (conjecture without proof):<br></strong> <a class=\"ProveItLink\" href=\"../__pv_it/theorems/98c78f9ddef8f3b4a7d445cd39ded59e596fc9990/theorem_expr.ipynb\"><img src=\"data:image/png;base64,iVBORw0KGgoAAAANSUhEUgAAAjQAAAAaBAMAAABSnNtfAAAAMFBMVEX///+IiIgiIiIQEBB2dnbu\n",
       "7u5ERETMzMzc3NwyMjK6urpmZmaYmJiqqqpUVFQAAAB6qHgnAAAAAXRSTlMAQObYZgAAAAlwSFlz\n",
       "AAAOxAAADsQBlSsOGwAABxVJREFUWMPdWX2IVFUUP/Pxdt58vNlZK5DCaRuTjDBGCYpFZAyFSNQR\n",
       "bUOMdqScIqMG1wqC2qdC4B+5Q7QiZDb2T/2huH5luUuNlfZh2QQGmoGzZUagWNCyfrDYPffd+959\n",
       "7973xqSV6MK98969v3PPveeee945ZwD+P+XTzLXhUnf8WxzTuelBwz/nzKBl1CZQFl+7GUQEXoNB\n",
       "i+nyDiRtEmwm5RoQys24hgXEg4ergaOnJlAyxqCbQb8w9lrAYvQ/vAN6iZPQJlUnzTcTLBqNjpqs\n",
       "uopK13RFn+mDBVhuM7DKEf1mR0EyfoshY6V1Bc/QIU5iNTdCNG3IJNSwKikbnaHtCvgURd92HyzA\n",
       "s5wBm3jk9aWODKf5LAYtxOQfHvAMhYucZJojmia+/9RCNEGgKqSpdtdVgxuwOc4qKe84QyGZwChA\n",
       "9yxvJ+JCqsn1PGfAJp7ZiDmjWeVitCc6iU2aAhUvkyYnyTqiOYjvW1qIJghUhSRat7hS6fcxPWa6\n",
       "bFwVxgaUN+QtqXdAiSW2s8AYsIn1KweE0Z6icjFxYp/6hyrSXRvlJNgw0bzKrVCQaIJAVYg1/ewe\n",
       "XMYt1K2KjxcEAR6V0MOkjku9R5VYgPYaY8AmTpXeFWxVvK5cTDu52EcSndI5buUk2DDRxImUoo0W\n",
       "ogkCVa0zXagai+FhRFgl5aHFwnlFpHMlNyQxKk2COAG7ij/0FRkDNnE6syYq6FRJuZhdhGgk1uk1\n",
       "w/ABJ8GGiQZ/4q3McBCoahlzpTUOkZsNJ1klipe5vRFwrgaZI9op86+7sC/yh0mcAZu4zUx/IbDO\n",
       "KxfzIKlPwznpRt3ESbDhX6hZudx9Lb9QASCyn0guN7Wg9Bar7IrvY57VaWSqdfy6lihZtKkwHvGR\n",
       "rC09ASdgU5zT75yBPbFIJasfxW7rOO/uXZJ9dF7D0iZKgg0XzQFBR50SdYtGDeKiSVagjWq85v1c\n",
       "ltg13kpfd0JfgW4km9lDFkC3tSeH5V6uHj0D2kXHR7VxFJuk0NwVNlzmDOyJRarYGDgkTb4Y7VKx\n",
       "x21nBkMjSaJOfRVGgg0XzSbQmwrz7xYNBcU227q5emSdIBoytok+L/UoahxnnsEqeuH92PElfFc8\n",
       "R+6PV+XD5PROF2EmfxdwItZ42/rdxhnYE4tU+mVJ+wnEGIWIyxlMmanRNJFEf42RYMNF01aM1oTQ\n",
       "bP2+WmqOJBoLdAalmi3XtOdM40nR5VsFD9PnxR5THR5kEUuXJdChC3jKFfiImkWvv44xEBn5Cw8X\n",
       "3DgXdrkVA93DGdgTg0ClSaJBbLIK7Vy/enDlMezClxoj0QTRGJk4D81w20ZzPuyXRGOB7icVfYLo\n",
       "EoDPRdF8b1nhRG9GoTW2aAhVu2U2qWIk8grR3AmJcbZtESdi9TdNj9Y4EztU+phKa8IF2NUQzw2Y\n",
       "FvVXGIkuXCioHuKhGW7bOJSEQnRoz9BBV6CAoNif2SL1Sx97WQh3UChxK2QJWSvt+PA2U3WhyFLC\n",
       "dIuJi/AI4dTpsTV4ocYh6dhPB0exzHDcbXovlD2xQBW76LU1iCVuzScen2GXqZGePpORYGOLZuEA\n",
       "C83oto1X3s8UJK2hoNC00GA3vpw44YmhoicpvwxVzpB5Ns5OJo1qvpLVBH6EycXQnknnoYBRntdo\n",
       "E/mOwVL+rRFxAjbBH89yBnxiF5XiC0Ww7RVttquzu/YL/eQov1CwoclCM7ptozL/R4VoENRWT1V3\n",
       "4Mvhwx7R6HPooivUM0jBypjoXCxiFcOdNnImxtiKfKLBHH3XV5HwOAerbXMr4ATsRskV4RO7qFKy\n",
       "X0N60vU2dybn9At7yfcN4DNgJCnBr4F0hYVmOyzRJEMlWTQIilSSza/K5XLjpfe8kfdvVHvnLbKO\n",
       "yv780nNYY9XuqwNgPH+pANruzKlv8f54s1wxcmseX+A4KAJOwD5l3wR20PbELqqk9NlFrHZm2N25\n",
       "osMYRhX/mJNg40pK0NCMbtuoaIWq5NdYQQtEGmvp8S4RXBjHDc4w2xfL24YIzW+4YlVvWS/13KV0\n",
       "nNa7saYrqdfl66jKMVRXgF+riqF4doeEZmstrYGdGXW+Jlw8Yrl2+gIT5kqiwSs/DstgQ7SaFIPd\n",
       "1KBVVcGkHEiqccMtIm+5+ETefik3VeTNTBSGZnTbqZqVvFCIJrab6AXV52WbV1ck0extwopLtd5G\n",
       "8ta5t/C+XqAxi1UVSUePHVZm/ko+UX8szxmoyjG5qzcghd3kJMe8WT4amtFtr9nCMlc+Wb5l5XIt\n",
       "MMvn8vrS+NbNaks5aCoJIE4pMzjPGaiKItWf9k8whE1OMl2dAJW2fR0J0ERRSsfqGau6y2TFXOsU\n",
       "fZN9sHJu2KUGAblhRbkhueGU+/X4RP6jUPBnoMys+S7muv9RCP4f6o3/zP9QYtn/jxaTLHISbCZN\n",
       "rUMoN/tvLqYsVuRk7FwAAAAASUVORK5CYII=\n",
       "\" style=\"display:inline;vertical-align:middle;\" /></a><br>"
      ],
      "text/plain": [
       "<IPython.core.display.HTML object>"
      ]
     },
     "metadata": {},
     "output_type": "display_data"
    }
   ],
   "source": [
    "eigen_pow = (\n",
    "    Forall(k,\n",
    "    Forall(b,\n",
    "    Forall((A, x), \n",
    "        Implies(Equals(MatrixMult(A, x), ScalarMult(b, x)), \n",
    "                Equals(MatrixMult(Exp(A, k), x), ScalarMult(Exp(b, k), x)))),\n",
    "    domain=Complex), domain=NaturalPos))"
   ]
  },
  {
   "cell_type": "code",
   "execution_count": 7,
   "metadata": {},
   "outputs": [
    {
     "data": {
      "text/html": [
       "<strong id=\"unitaries_are_matrices\"><a class=\"ProveItLink\" href=\"proofs/unitaries_are_matrices/thm_proof.ipynb\">unitaries_are_matrices</a> (conjecture without proof):<br></strong> <a class=\"ProveItLink\" href=\"../__pv_it/theorems/18b063fb399b24f38946a57bd9ccf7708b0d299c0/theorem_expr.ipynb\"><img src=\"data:image/png;base64,iVBORw0KGgoAAAANSUhEUgAAANAAAAAZBAMAAACybb07AAAAMFBMVEX///+IiIgiIiIQEBB2dnbu\n",
       "7u5ERETMzMzc3NwyMjK6urpmZmaYmJiqqqpUVFQAAAB6qHgnAAAAAXRSTlMAQObYZgAAAAlwSFlz\n",
       "AAAOxAAADsQBlSsOGwAAA0hJREFUSMelVmtIVEEU/tbd6969u65bSRSFyIL0WAIpowdB+kfoJTeR\n",
       "KDDWDJfSgjX8WbkR+SdI+1EURCxof/phaxRaSm0ESQZlFixF5Epl2YsI1IiIzsx97L3uw0sO7Oyc\n",
       "mTPznTnnO+cOYKUNY34tZlGvIPYfhzsrgH513G5xzz6zGFH+xKz6T4YWkGlFcMfhGWxZBnh81oCO\n",
       "mCTbiPIvZdhd23B5SaswvAUbSc9XCdR1xe1kWCmQZOtvcuKIZXBOrnuP/K0BJr7U5penadrexYX7\n",
       "zeLuTkyRtI0sObMUhTJQDNxlCpdyArnJ285pGtQwSejU5l2yenyD3+8Ps1FvN7mpGV6fVKYCYRxd\n",
       "1AdlnGQm1+cEKoySyl8aeDlsXJv3KBxxno9o8Y81Uv8F9rA7FoatYpCkDRhwkk1xbpZjJCdQm2wE\n",
       "sqcW1vO+RsOBV2YW16EDeSfCChnEH1iRIOvq4SEDXbm5sBBGoFephSu8/6zL+aJyxx7YdnJ6f4KU\n",
       "RBEh2MiVa/3+8txAkyagW8S34r2VB2hYzZf1mOEcOzxjk4gcfUBjhiXDlpAJiK7hyB9HkBz2mAcm\n",
       "qSu2SvFs2TtDZkBM5q4aV01Aa4DrefXoIJq94ORP7T4rZUtM8Tc5VnZEjVOB7XiYNAEFTECbATkY\n",
       "xRgxpI0vlxhilM11AgEV+FJcaJlowluH7JbTbiRMG4AwpgSuiy8PpoDkbHkizrBgPtAzs49VCV/M\n",
       "gR0DgYGoEQib6HdcdR1D+SMAo0re6ooSzyMpU4x+UbfrAtTax2tK4vUphzlGE6x7RjH5wAaMbuUo\n",
       "mCKlR4pbvl/TNHt7qLuThXU4nVRrn8AvnnDs7zYDLeK3LYWb53U1d4Stc4gznZ9SpZUg2+F+YTTT\n",
       "N8XDSpI3rNY+hZwJxBabgW7wmtZz7yOXjtHJJRC+Eurq9Op98Gd/xnKpU5PVPs/FUOgoAdW6zHlk\n",
       "N7ISeWE9wiWWv4IuPcFY7VPyOgHpeXr1NnhBv6s7bhkoKGvG8drXqL4PimdRpswkHoL5A33T79di\n",
       "lLU91VnBa187aTtXRZR8MbRvJmlPGuLcbeWs/K0KNc39ZhDVOmOLWMax+mYoqJjnc8vqK2je77rb\n",
       "wD9thslSHusPdAAAAABJRU5ErkJggg==\n",
       "\" style=\"display:inline;vertical-align:middle;\" /></a><br>"
      ],
      "text/plain": [
       "<IPython.core.display.HTML object>"
      ]
     },
     "metadata": {},
     "output_type": "display_data"
    }
   ],
   "source": [
    "unitaries_are_matrices = Forall(\n",
    "    n, SubsetEq(Unitary(n), MatrixSpace(Complex, n, n)),\n",
    "    domain=NaturalPos)"
   ]
  },
  {
   "cell_type": "code",
   "execution_count": 8,
   "metadata": {},
   "outputs": [
    {
     "data": {
      "text/html": [
       "<strong id=\"special_unitaries_are_matrices\"><a class=\"ProveItLink\" href=\"proofs/special_unitaries_are_matrices/thm_proof.ipynb\">special_unitaries_are_matrices</a> (conjecture without proof):<br></strong> <a class=\"ProveItLink\" href=\"../__pv_it/theorems/64acc506bc2906463464baee99b9029937d7b9990/theorem_expr.ipynb\"><img src=\"data:image/png;base64,iVBORw0KGgoAAAANSUhEUgAAANsAAAAZBAMAAABKjUbMAAAAMFBMVEX///+IiIgiIiIQEBB2dnbu\n",
       "7u5ERETMzMzc3NwyMjK6urpmZmaYmJiqqqpUVFQAAAB6qHgnAAAAAXRSTlMAQObYZgAAAAlwSFlz\n",
       "AAAOxAAADsQBlSsOGwAAA5BJREFUSMetVm1IU1EYfjbvPu+ck0TKwmR/zEYQYRQhuf70wz5YEBGY\n",
       "uQolhEDLPxG5hWU/AjeJIspgob8q6hKS0DQWgpFB2AeMPsj5o6APJAKTQrD33LPde+fu5qU8cHfP\n",
       "7nnPed7zvO953gMYaK4YlqGJRg3f/ztGJ8GEedceNDbFEtX5mFkjPyUjHasBkx8jwPOnpRLwxBic\n",
       "NZH7zTTJ306Pjns7a/ou+g8NJIrIp1LBA8tEHbYC5gCQYgYfCsJ109MYHxXRdXm7H8d+kqN4kxlc\n",
       "k2tfWYfGX9KFVSih9YU+omBfFLPkImE9YgbXCsINkcPVKK4BQkS/pSqLX0cg3Sn3er3VckpU+IFx\n",
       "CdMYAIeD2+PcSJMIsmvpIP6hSbSjZ0CEccEeUeHXJfH36ZWZL2es5IFbwhbEbUAZMy1qF6V2oJ97\n",
       "J0wWQrORUw5y2KqBK1KHN/N4rVM+fLKy/wn7D1Qn06kSgfkswT0k7wjcUXBzJmLPSpF2aeDeqsP9\n",
       "8q9bPZrBSzyJUihLsIPgDuMeTLvp0wp6Nnm9tQXh3BSn4oUG1lXgKJzOyoM7jlB3Lw+hYm5PdeZb\n",
       "6T4xOQy06Az51XPAIrt24XdMA0dbEqzTaA7LIQVPgTT3/rv54EJEaC/5ozMkKT0HG7a8qJ/XwG0A\n",
       "bpuDiND817JRr7o76VY+uAh5bA0IWkm0+xowltLCmXnXVq+B2wYEmmOYInZC3EhdIXg+HxzNQLFH\n",
       "5b3jcxs+CgExsHh3LsZ8DM1BFQ5TwBd6DXD9VZWnxZp3d0QGooqWicNMYTySgF1xXzymgWMrlLSj\n",
       "iLLGluBkMqx5C/CKW11XFr3Dzh30ikiICe2eKxk9lQUp+e6ckBU7N23JzPKEzOboL1uMpWQtimfJ\n",
       "cpxbHf6akRexgvwTo3kyE900KuupRRaXpNA0mAVnIv0x34SFHbAHAYyCZ799DqboU/lMyG3waFrE\n",
       "UH4j3OTTI3NM9p4YlfXUKfOfhFSeBeckVXE7h2YYPc5vM4x/nKRuFSzfSY7W61SEel9YD+6x0mN6\n",
       "6rra2nqC4PY7ss6dnBeLmrldyeQq47W2X+kxPbX5+e6cL3MqQk7tVDYvJgyjsYqQ9lHWU1ldJqhg\n",
       "ZZud0pl6PNPpSaN6vZkClL++K3LC9bSHKLLVhOFeJJo6BeNADu7SzRxeHOPWNoN3FXv60mAKG4cz\n",
       "eFdRbwr/1YzexJbrnkmH/C80B+YwOvkfKgAAAABJRU5ErkJggg==\n",
       "\" style=\"display:inline;vertical-align:middle;\" /></a><br>"
      ],
      "text/plain": [
       "<IPython.core.display.HTML object>"
      ]
     },
     "metadata": {},
     "output_type": "display_data"
    }
   ],
   "source": [
    "special_unitaries_are_matrices = Forall(\n",
    "    n, SubsetEq(SpecialUnitary(n), MatrixSpace(Complex, n, n)),\n",
    "    domain=NaturalPos)"
   ]
  },
  {
   "cell_type": "code",
   "execution_count": 9,
   "metadata": {},
   "outputs": [
    {
     "name": "stdout",
     "output_type": "stream",
     "text": [
      "These theorems may now be imported from the theory package: proveit.linear_algebra.matrices\n"
     ]
    }
   ],
   "source": [
    "%end theorems"
   ]
  }
 ],
 "metadata": {
  "kernelspec": {
   "display_name": "Python 3",
   "language": "python",
   "name": "python3"
  },
  "language_info": {
   "codemirror_mode": {
    "name": "ipython",
    "version": 3
   },
   "file_extension": ".py",
   "mimetype": "text/x-python",
   "name": "python",
   "nbconvert_exporter": "python",
   "pygments_lexer": "ipython3",
   "version": "3.7.3"
  }
 },
 "nbformat": 4,
 "nbformat_minor": 1
}
