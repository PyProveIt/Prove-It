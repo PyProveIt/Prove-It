{
 "cells": [
  {
   "cell_type": "markdown",
   "metadata": {},
   "source": [
    "Theorems (or conjectures) for the theory of <a class=\"ProveItLink\" href=\"theory.ipynb\">proveit.linear_algebra.matrices.exponentiation</a>\n",
    "========"
   ]
  },
  {
   "cell_type": "code",
   "execution_count": 1,
   "metadata": {},
   "outputs": [],
   "source": [
    "import proveit\n",
    "# Prepare this notebook for defining the theorems of a theory:\n",
    "%theorems_notebook # Keep this at the top following 'import proveit'.\n",
    "\n",
    "from proveit import b, m, n, x, A, theta, rho\n",
    "from proveit.logic import Forall, Equals, InSet\n",
    "from proveit.numbers import NaturalPos, Real, Complex, Mult, Exp, i, exp, exp2pi_i\n",
    "from proveit.linear_algebra import MatrixMult, ScalarMult, MatrixExp, Unitary, SpecialUnitary"
   ]
  },
  {
   "cell_type": "code",
   "execution_count": 2,
   "metadata": {},
   "outputs": [
    {
     "name": "stdout",
     "output_type": "stream",
     "text": [
      "Defining theorems for theory 'proveit.linear_algebra.matrices.exponentiation'\n",
      "Subsequent end-of-cell assignments will define theorems\n",
      "'%end theorems' will finalize the definitions\n"
     ]
    }
   ],
   "source": [
    "%begin theorems"
   ]
  },
  {
   "cell_type": "code",
   "execution_count": 3,
   "metadata": {},
   "outputs": [
    {
     "data": {
      "text/html": [
       "<strong id=\"U_closure\"><a class=\"ProveItLink\" href=\"proofs/U_closure/thm_proof.ipynb\">U_closure</a> (conjecture without proof):<br></strong> <a class=\"ProveItLink\" href=\"../__pv_it/theorems/6a320dcb16e854288ff43af0a07e363e0f452ec70/theorem_expr.ipynb\"><img src=\"data:image/png;base64,iVBORw0KGgoAAAANSUhEUgAAAS4AAAAZBAMAAAB9Zt7RAAAAMFBMVEX///+IiIgiIiIQEBB2dnbu\n",
       "7u5ERETMzMzc3NwyMjK6urpmZmaYmJiqqqpUVFQAAAB6qHgnAAAAAXRSTlMAQObYZgAAAAlwSFlz\n",
       "AAAOxAAADsQBlSsOGwAABGFJREFUSMe9l12IG1UUx/9pMpnJfGxTqavFuiwptpRFCK1QlFLzsO1D\n",
       "pXXUZUH8IArGUrBNXR9FsloLvuxGUdkHwamtb1ICFSpmWSJCxTZiCuJaKe2s2C2+BbFbK1Y9597J\n",
       "ZCbJrpPC9sLJ3MmcOfd3zzn33DtAP+2XTAl3oMUyD/b3Qhl3qNVXk0vze+e/WedufHl5zVLgWlp1\n",
       "rvslXRnKuZ3YhaHl49bwOsc9IS6XL5cicw3wxapFUbZy4pJqQnuijBv4PPRU/W37r0g+OsL9H3zA\n",
       "mhTi+pLvZyJzGQ4PFSn7n5aXK01gIK1m0ZHL6hL9PMk9pR2GDzyp4w12dT4yl8r+PRZJeVZe5v4E\n",
       "4sVYXmsWw9n3D/0I9xtt95/3pI6UDSQa0fOLZ7MvknJW/CaO3gCmyWNmviJj9WJma5gr3n4nbkup\n",
       "wyTYVB95X4+a/pbUmozdAk5R6LUFm+/1d+1Of11sv5SqSaFRtmUyD/XBFc9kNuWi6BpSq2L9Hfr7\n",
       "Hbsrjrwgjl89Opgm77pSiOsM8NKKA+RCXEYRSWFa6VD7SUYpNHVyT0P9I6Q2051fH/Egh9IKJaJZ\n",
       "lkJcU9DcFbkqIS5SnhL9p7w0Htu2G6evwXQ6tNeIpDXk+D1KYJuLFqrubIZGiWhlpRBX0k44vcv1\n",
       "yF587XZykXP3iv7jNK46VHBwiEfH857KST+FhdXB6txSqDpQ2mQ2h7keIecrf8G6To+bUojLSvdK\n",
       "+yOLB3E5YRt2F9cFOWV9gtKhyj4jrgRkHeTw2UEuhZR+D9pV/JKkLAW4YDUxQHb1rBSxur7qkbRn\n",
       "eBdIVxJ4rDpSdYJcKTMtEinlytLscQ3DnD1yX6DmiDiSI7EpZHnY7z1M8roXR4ZaW7Nh0WMW5tpH\n",
       "JYlsDsXO8uyl9Y2sP//zZKIrv5C4KDySNsoYh89Fu+CzJ2rxEqyWepLxPyP5OMS1zu99T8Nd5c4L\n",
       "7N0crtg5mOROFuZ6i3KIbboxzn9hXXp7PvHcyW4ubZcIYzGWFaN6XHoeb2/AWps7svFy17i2Hg7t\n",
       "Wim/hhsPwBA3+0mmi9hgFkVxYWGuAeJmm0VRcYR1XQRoHpXBbi5cE0ZH91/Ht4VCoYFF5rKIYgEn\n",
       "KGtbXOowlMM3bfz47/uhBFv8tNU9NSdM4VWST2jlfEfBd6T455wFTHgrm62bHxYKrxDXWKqrfnkt\n",
       "zcv6NdG9i7kYZweqajuO2NK77Oh75D7UbmvaG+ebnvhcOzCIaVX2qqqak/7SLyxz/mKH3vIKLE3n\n",
       "Hs5nrYkt84ilg3twpGZWQnv9bICLbC7grIExz7rYAc6h8yznc5128cxNRxNHUGV0lCZ8ALqL9TUk\n",
       "/WxKRv4WOOCXzLx3uGlxkc0ZTN2NiYa0foxGUreWZH1Z/rw6Vig4HfV0vEep+r82HpyKmE7XOdpb\n",
       "LcqewsH+ztGG550v2n9NRv4QaMX+Xk+6uHT7ts/3u2WuOKvyPWSurP7eCt+PCnqdMm7z+3Hnf4C1\n",
       "KrFFhMYNAAAAAElFTkSuQmCC\n",
       "\" style=\"display:inline;vertical-align:middle;\" /></a><br>"
      ],
      "text/plain": [
       "<IPython.core.display.HTML object>"
      ]
     },
     "metadata": {},
     "output_type": "display_data"
    }
   ],
   "source": [
    "U_closure = Forall((m, n), Forall(A, InSet(MatrixExp(A, m), Unitary(n)),\n",
    "                                  domain=Unitary(n)),\n",
    "                   domain=NaturalPos)"
   ]
  },
  {
   "cell_type": "code",
   "execution_count": 4,
   "metadata": {},
   "outputs": [
    {
     "data": {
      "text/html": [
       "<strong id=\"SU_closure\"><a class=\"ProveItLink\" href=\"proofs/SU_closure/thm_proof.ipynb\">SU_closure</a> (conjecture without proof):<br></strong> <a class=\"ProveItLink\" href=\"../__pv_it/theorems/16248ed8eb025a6a7e1c4a59db8a4b2cd255f2350/theorem_expr.ipynb\"><img src=\"data:image/png;base64,iVBORw0KGgoAAAANSUhEUgAAAUMAAAAZBAMAAABZf1ERAAAAMFBMVEX///+IiIgiIiIQEBB2dnbu\n",
       "7u5ERETMzMzc3NwyMjK6urpmZmaYmJiqqqpUVFQAAAB6qHgnAAAAAXRSTlMAQObYZgAAAAlwSFlz\n",
       "AAAOxAAADsQBlSsOGwAABLtJREFUSMe9l2FoHEUUx/+bu73d271LL1IDYgnHRa0xBINWiiIxYqzQ\n",
       "0rhqCIrVnopnKEivph9FU9SAX5ITqhQRPEj8olIOLFR6JZwIKW0Fr1WMETEXtC0VP0RpEyut8b2Z\n",
       "3dvd3KXdqzQD72Zu983Mb9+892YGaKQ0p+7E2pabUuXGOkSx5iVWuuGII9XWyWMtlQ2vBNTXbVkD\n",
       "REWuk56DeuJB9KAtmD6MhBRGrPCDnwMjNnMVD/5l39sdF6A/kcMSDvlfq8ViuaCdv/c3RB7q9OgD\n",
       "G2whxCP8/0BgRDPP1UhQQjUn67kFirWE1o0u//snszidg7bITa8+zWFJIcQ3eBnSgRE1tvpoYCOa\n",
       "tr2n/gZCWSWtL2R977cRQw76v5wtvPr0uGBLSZCGy8F98X2qtgdGDMkq/PYSME52jKUL0uVeTHVw\n",
       "vZ8k7UEMuV3vk0KIHDHRBsLlG6pygRFnZbVPuQIcJAfR5y0RDO9Z8sVL5DIlD+Ks2/UjKcx3Tyq1\n",
       "qQHEUCrV3hsY0Y6OQvyy7/G7NiHmLrBvu4ikb7Q9/fAL1OyXwoiHgZevOk2vD9HMIiImUOvp/iiX\n",
       "0WcKmrWsXfCpVcNTWV7+0ItI+uHIPHaScY9DCCOOQa9cFbHgQyTlMdF+ynH8lvV71Udus8yeLGL5\n",
       "FV1kAJsSwi2up+z4ddm70KT/aVMa4zT2dxDCiBErnK+LpnduxdeVlYhk8q2i/TjFmNaWyZNZpxCR\n",
       "es/bepNOhwfEb2txatE7skbOlbrD/jO84EEkfWtnHnO0Tm9CCCPGE/WiZc/ZXfglbJlWDeIpaQNj\n",
       "mHJ/MSuCsFkgkkMc8SQ1F1Elzb982bKa5Gh+4x+oix5EzAHnqZqQIjbA3Fd18tlh3nMShTC2FTuL\n",
       "eS9iNJYQXhStQOHu0TO0mdqIScSO7rnVk8W65DoD7b7hk06DWSkf3U/V644+8V0mRz8NIQJxO6U6\n",
       "GrlNmWbvknPw1oOZn/aFa3wR4VlhooSZw6Dwh7s78zYi7cQ7JkqhEcSdPhya+JzkYx9ii9O4i/rT\n",
       "xvMtzXzG0d+E+EWadxpCBOJbNDyPXFE4bMQcciVmws9N1iLqPWKds0q3mJsd8k8b0UjjnVuwzuKG\n",
       "LJw59G762e3bM6OOlTvKeIYYzNthlm19fQlK7pjMV4dsxGb6BB45a3J6EXMYYh+aQaG1FhHnxOL1\n",
       "9V/E8UwmU1bZq5vTjBgn0Hl2IM1BfI0cb/clCz8s7/c549lPZKPyWf/vXB+cOufoG0mof5SFgVnc\n",
       "w9g8htFUlq0JxD7IZF4lxIFoTV60S4K/di+kmzdBSbIek21GUXMXuilbP5EZW+QGuLK4+npSiou4\n",
       "Ga0Y12SrqGm90orGqVXOi2zmKzKHr8tzouyCkuUwIM/aOAMl4TkMNHTGLngPICxVRBp5HtMmBuw5\n",
       "xH5zAitPoFXELyp49lJe5zO0OdlHHzTQ9xi1h2BUsL6ESNXzhho8Alf1R22pItLIBzB2M4bLco5R\n",
       "MonWMSKT1eqn7oFMxpf2nZQ9WH0y2CDioJd1qO7FwA41dUtm13VcDEzbel+6W1SiMURHXxmRUoto\n",
       "WP/v7vKo9Kj8DbwBxq5xGLvWPVrFqoeg67xHt5f+A16fQbAyNaWkAAAAAElFTkSuQmCC\n",
       "\" style=\"display:inline;vertical-align:middle;\" /></a><br>"
      ],
      "text/plain": [
       "<IPython.core.display.HTML object>"
      ]
     },
     "metadata": {},
     "output_type": "display_data"
    }
   ],
   "source": [
    "SU_closure = Forall((m, n), Forall(A, InSet(MatrixExp(A, m), SpecialUnitary(n)),\n",
    "                                   domain=SpecialUnitary(n)),\n",
    "                    domain=NaturalPos)"
   ]
  },
  {
   "cell_type": "code",
   "execution_count": 5,
   "metadata": {},
   "outputs": [
    {
     "data": {
      "text/html": [
       "<strong id=\"eigen_exp_application\"><a class=\"ProveItLink\" href=\"proofs/eigen_exp_application/thm_proof.ipynb\">eigen_exp_application</a> (conjecture without proof):<br></strong> <a class=\"ProveItLink\" href=\"../__pv_it/theorems/d32d8665acd2c48b5dfc48af04af5fc120a78fe20/theorem_expr.ipynb\"><img src=\"data:image/png;base64,iVBORw0KGgoAAAANSUhEUgAAAdYAAAAZBAMAAAB+/RK8AAAAMFBMVEX///+IiIgiIiIQEBB2dnbu\n",
       "7u5ERETMzMzc3NwyMjK6urpmZmaYmJiqqqpUVFQAAAB6qHgnAAAAAXRSTlMAQObYZgAAAAlwSFlz\n",
       "AAAOxAAADsQBlSsOGwAABepJREFUWMPNWF2MFEUQrrnd2ZndmdmbxUBOIedlCYkxuWQ1GhIDl9Vw\n",
       "RkzQJcHzAaJHjKtBjcOPJGr0Vk4v4UFuX44Qo7gGFB9ADjgFuQssLyCHxvUnRsTIEAF90HA+EODB\n",
       "YHX3zHTPHzeRkFwltbPTVV3TX3d1VXUDJKF88a7/LZ0BNKvYAqnYnUw5exPSmUB6E3++nqFYaw6z\n",
       "kU6s7ZSOWz5hVAeAUycK9rznvEbV4RmNVWoxRtoMsGpHM2VLtif9KLoDgDy5CHqg02vNmYxdrNTE\n",
       "r9NizZOH0YzDmshKcvrRYaQPAd65HdotrcyBNSM6yM90gbq8DldgjDfPc9jBepi0bZsWq9Ygj1oc\n",
       "1kRWEpNcZ0ym9zr+nIP10Nbi8pGoDtlRjJKmUgIhBmUrjB2sbxKf7p8Wq0JWbijWhxNZSUxakzH5\n",
       "ewnndyHMgWGFy09FdWjHyUhZUr86xXe2Puoww0pgp1vT71cyl8tipYmsJKaUw0iPPG6BOoUre1wT\n",
       "5JWIDnuxcRhXVu8f5YL7GTtYySObIDaRKFaPlSaykphOO4y+Yt7ZgpyN22PLbOGDzYgODyF/httM\n",
       "PSfMxPuM3Th8b7F4XwKsqWJxfjk+DiexkpjGHEbnhLMiLrlwYQM6V9qO6LC98LfQsrzzySXoZ48B\n",
       "ZRfrQYBnI7+Y9qHRLMhU4rF6Vnw6jt8ZNVEiCQo/C//N4Gog7YGBss9ep7kfh04cTCtSsp0O8rXK\n",
       "00LoHJXOaV0AJ4Gyi3ULqHZ0hPChQaUtAK968WfOkQ5TwOpakReKJjLsMemX8P2kN5StEd/rdpio\n",
       "DouD+wq+rfyFc1cKDBWVjcuQ4rOl1/TLeQT4A1B2sWYq6Ya/56axht4TxIrL9igGdTLLay+ugb4/\n",
       "4aeyIHWtpP8NY5Vtv2SnJ38K4DzP/N4KPuAwSC+MXxKjuwVfkocyFcCKylod2rkLKOQdaYCxi9Uw\n",
       "xaCidFYbht0Ln4ewfkdCUwrjuYb+Cr0m6CJW18que8JYaW4WJFnPzw+TfBJOmx7W5ZhKunyoqJFc\n",
       "KYy1rQx7xUTAFnkHY69GrB8TVMYRjHFMg3J6fP/4YRFrVsfeA4ULtBCRTzR4XUpROlbM7XQ95r51\n",
       "iGNt4xIq4MmpC5R/OgnywqG5NZ7SPB9Gb2/z4cpdhSdwgF2B/dpN0+tRMVbsrcn4+j1Q9rAuG+Hl\n",
       "NS2/jDc+NcuhdU2fxr6zKnNl4lTGu7VAPbxshMUd6mQd+f4PONbNXEIFxih8UUVqqnWQFkgISKpd\n",
       "zLbgjGtwtcM5kskEf5XX5EuAI9ODVQsqt1vyIt7Q1/idxtbjjD2sgzYvr/to2LR6fwljVXELw4tw\n",
       "kgwA9FWVANZBOsG74DbyaGZMi2P9hEuoIOcOFf9kmnp9BeiwWnH0ALxMAYPExFX+IePKylIOnUIL\n",
       "Jj9UzjczQg1x9pUDGMO97OVhzVu8vN7NsGpSfwgr/AFkdx3Rt1arLymvWQFpnjaMLblEJ6G9JuzX\n",
       "3wQJESguVsPGAKDZ67GNINroGlzHuO/6CBgvX+PA5H3mmW/IpggEU6Isn58QGlYWjAmyU+5m7D/T\n",
       "OeX1SXStlmHJ5XowvzKagsUK/TbGJi9h8tiGqXOYYl7PNjPDulGQEIHnwwi6HVJkTEoJz5meD7dZ\n",
       "jONoU7AhTlntYuzH6pTXG9i6wh4z+oS6ALcKrRnexhBjhrDuJjFCLqulpSyJ8thEJcAEksljU1uF\n",
       "bKnBdB29qBAs2eNoInTvMHrjQ4QPq1te09JIb4BkR2N9HcczRCZRXlo9GJJqPSAffU9ZDPt2Fioc\n",
       "a6bmSIAJMl5cex6UfQS4dseDs8kbbxffQqsVPlDFKA857MPqltcqucBYt805fEffPMgPV9fc8F7C\n",
       "COTXXCCU9EG4qiB2+30afbFYM+FjdIyyO2fRdzArqtXGzd7BfBysEQ/55fxVE0ctvKgm42jqiFjq\n",
       "SGWpxvgW3jc1g1jTvgOBLkxmr9A+OUPuEW94AxwvVZ2nD6sc879y6+6H5zdBKi76D5VumSpaK3Ik\n",
       "AAAAAElFTkSuQmCC\n",
       "\" style=\"display:inline;vertical-align:middle;\" /></a><br>"
      ],
      "text/plain": [
       "<IPython.core.display.HTML object>"
      ]
     },
     "metadata": {},
     "output_type": "display_data"
    }
   ],
   "source": [
    "eigen_exp_application = Forall(\n",
    "    m, Forall(\n",
    "        b, Forall((A, x), Equals(MatrixMult(MatrixExp(A, m), x), MatrixMult(Exp(b, m), x)),\n",
    "                  condition=Equals(MatrixMult(A, x), ScalarMult(b, x))),\n",
    "        domain=Complex),\n",
    "    domain=NaturalPos)"
   ]
  },
  {
   "cell_type": "code",
   "execution_count": 6,
   "metadata": {},
   "outputs": [
    {
     "data": {
      "text/html": [
       "<strong id=\"unital_eigen_exp_application\"><a class=\"ProveItLink\" href=\"proofs/unital_eigen_exp_application/thm_proof.ipynb\">unital_eigen_exp_application</a> (conjecture without proof):<br></strong> <a class=\"ProveItLink\" href=\"../__pv_it/theorems/ba89eac04854e6947a3cec26d1023a74e1cb07db0/theorem_expr.ipynb\"><img src=\"data:image/png;base64,iVBORw0KGgoAAAANSUhEUgAAAisAAAAmBAMAAAD3gcbsAAAAMFBMVEX///+IiIgiIiIQEBB2dnbu\n",
       "7u5ERETMzMzc3NwyMjK6urpmZmaYmJiqqqpUVFQAAAB6qHgnAAAAAXRSTlMAQObYZgAAAAlwSFlz\n",
       "AAAOxAAADsQBlSsOGwAAB+FJREFUaN7VWn2IVFUUP2/3vZk38+bNzhZKpm3L2hdBNIqiUC4TuJCF\n",
       "NpYZYeQIalKGo2vWP7VjlimBu0JbElpLblmgOepmq2s6IvlZOBmEpuQskhEEbqGtWjbdj/fevW/u\n",
       "e7tzF8zmwp73cT/eO793zu+cc2cBymlmsZgbqP9s8W+4Xs3Iy8/5SmKs1s4k7CteAqNYTJY31SwM\n",
       "3P8TXL+2dwhIFmRGL0kyCTAe/VX//2GJtMnPOSL3hAKTFQNLc1J6SnC83PgXOVkpsLwjPyWUoMdD\n",
       "RJ50dyri+CeSTFYILOYl+TlnLa3GEefo4Hr0bTHI+lCRRUiVAUtVQn7OHfzFs/zFzGQ7dArj9ctM\n",
       "VggsLUOgFpeB7eYvFiIGCYkrzuVkZcBynn5P5/rYodrCqOfYh/aYEk1ZJ+uxqIfInsV1ysE0Ht0H\n",
       "G0AV86ADnKwMWGiaeBvFoA20ow9CI9Q53eGYOKUmx8GC5jyzMVddULAGRgr6wRTJpTXPpAULUfjM\n",
       "4LBEyTHnC0tZ68g7BHF4kxJMqA/06W1Isy42YJSH32UcWGZAOAVvjoCatJFAF1Vzp/XhOwKBZZm0\n",
       "YCG+t25wWAzM6KGMLyxlrSOfzPVh+bQVYdBFNBaMw31cMBbt/Tg4sDRnsJ33QjNU5dFFTcbIQlCE\n",
       "xWhj0oLlNWxpqcFhCWJzWOnvRGWtI92i5FX3WGUAMp3qtJLS+9IMN9ElfgXOiTAIE2A4tAaxe0F1\n",
       "xsuJlD4mLVgw3Gq+DG7BtdRUf1jKWke6VRPfjJNz9Y1+RADIXiIpTjMxo20EN+Uiou2FgwYxLVRD\n",
       "KiIdmf1MWrBEEF2EyqHcb9CxzR+WstaRbjWYVUz62OXKNYDPkSPrvZznrBfmXCTpytgs7VoA4QJy\n",
       "7jXDMEFPRt8tIBJB8BqTdiQa29AwrhxYqhsaRicGiETlrCMPC+Z4gz42a7p2L6bXPYW1nOYZvLSx\n",
       "ZyyjEbK3mdyeQu3PS7EDaGRhKm1YvgSY5/lKqhsWIw2B5ACw+K5TbhvlEWxJ0AyR+BfOBy/yXVml\n",
       "16i3qmWjgTTicTr+6NF6aKUva5QaRzdHtVAX245PfgdH2rCsAd07KzHcsKBRa9Dp27X01okpe9e6\n",
       "YHHWSXosYuKX07zKNVzJBbGXqGnnNRg+LRiWqjxdSf+Hj1GZyKUowut7T49AVhawkommktjG1UiH\n",
       "4XjyN8fvqLRhCSTVDvfM17s6Io0CLMgWHkGqzUPcGqyb36Go8HCCh8VeR5vArxWgh6OkRnUCSNbj\n",
       "LVfCL+IH2Yq7q8mY4T17/+S1twJqSyks4av4brFYtN5OK9mMo4fZeHIadtGrv5i0YTFjPFNijc1C\n",
       "E3whwvIdZtxALpCHHqSfosDXMR4Wex31mgiLRgzhMSdQdborORLYH335TkezhMtaCCwaetgf7ihF\n",
       "Hr/R01paTq5aNWAGT3M3GOMLC7Tt54Zjjc39BiTUnu09u12whCIxHCBDeQWbJ4JlWNaV/FvrbBoj\n",
       "wkJywXBzTEzCdluwZGDhlrgzq110IvyRRrs025rR0DInSrmFOlGsLDoLX4YnfbgFpqKXsMsporH5\n",
       "6qexhGgt6ik0eidKpAmXK6o+J+eCZSpVJvYB6R65vJvBUkVuhQp2B0tw6kE7956e0uuhPkJUqe0e\n",
       "mWH5USt+RAB3bEZ/H/IBpeMcCQoHhW0CHFAMpF1mMFC056NxSLDKyxWJYAV6W7ucIhqb6aYfPWDR\n",
       "cci7a/IF8oagGHNT7lJxRYHSKfHXW6KpDQyW1QQvQgakA2WaO+ejlkOVXCjxEXGiFIlzSuZ8KA+n\n",
       "7YVnY0RUTPjYlBZxmp59aQdsQccuQVn80bXRR28a1GDM/lnxcN4OXpZ0YIkiv7HLqc0UFkNJibAQ\n",
       "SrwMPXAEKZRXFHWLG5YoYdRNcDM+5AKxNIPlE2ywaSVudzjlGjrZCNFX8OXiw4CquQjMCdLxlD+w\n",
       "nwaRSS26koQfitwO5qxacw9W6V5B2weIW92/dlAX0rbFTn9L/O4qk+6NBaucIhqbaS3RJuQttPXB\n",
       "RFhKrEIJdyY9Nha6Jl8gt2syHLfgfmPytEt2h1OuoYVvb2hwolFzBgMPsMwhITLwbn/VkPeVtneH\n",
       "uDNKpRsWq5xaSq0FtsR89lvajTzN6lCAbsqKsKCUpJWYSTP1bQrLMpKM6P12h+NECJ9TJYEkrgNz\n",
       "IoPQ8DF/jQxxq2OHNCxqPZMuWOxyimiMcgml4ANLJ2JDHe+OfTYiMWuXCAvywpq8ltDjU2hy4lBu\n",
       "GL3/NcwRuIOVa/VQFTM5ylihtiHnrXXSGvIFA/7s6VHTH5fe5wwUmHTBYpdTROMl66xdJb/duRnz\n",
       "53d4784ZjaDtez84CbZ11iYZLEivHQWYdQXNIh1MzwUoEjVyehi3PjQM37Xdn9Cg5r9hsUC8NVu6\n",
       "jqf7eVR6b1oKGg9p09IsyVvCCb9yrdOTCxkML9Di2e/BiocdBbKysGzNMHk993I/Lk3+u/3KNcPL\n",
       "P7ibB4awoxeXnTGFk9cTllwpLGrSr1xr8ljuKOcRHdKwaFdlZ0zi5H+z82//YpH0KNe8KrnSweoQ\n",
       "fpmfIjme5FOWrJTfoCcMYaczLTk+z2SlwHJkCOQiaWEjOFkpsIRy8nPWS43WJzJZMbBo98jPeTwj\n",
       "NTrPpCQsN/B/51bL/zivt8uMXshJuf+du5FNT8vPeUvGHDuYdNq/z8NS1RmpMhEAAAAASUVORK5C\n",
       "YII=\n",
       "\" style=\"display:inline;vertical-align:middle;\" /></a><br>"
      ],
      "text/plain": [
       "<IPython.core.display.HTML object>"
      ]
     },
     "metadata": {},
     "output_type": "display_data"
    }
   ],
   "source": [
    "unital_eigen_exp_application = Forall(\n",
    "    m, Forall(\n",
    "        theta, Forall((A, x), Equals(MatrixMult(MatrixExp(A, m), x), ScalarMult(exp(Mult(i, Mult(m, theta))), x)),\n",
    "                  condition=Equals(MatrixMult(A, x), ScalarMult(exp(Mult(i, theta)), x))),\n",
    "        domain=Real),\n",
    "    domain=NaturalPos)"
   ]
  },
  {
   "cell_type": "code",
   "execution_count": 7,
   "metadata": {},
   "outputs": [
    {
     "data": {
      "text/html": [
       "<strong id=\"unital2pi_eigen_exp_application\"><a class=\"ProveItLink\" href=\"proofs/unital2pi_eigen_exp_application/thm_proof.ipynb\">unital2pi_eigen_exp_application</a> (conjecture without proof):<br></strong> <a class=\"ProveItLink\" href=\"../__pv_it/theorems/8dee1bfd5d1657d0feabd1a4544d21304ed67f250/theorem_expr.ipynb\"><img src=\"data:image/png;base64,iVBORw0KGgoAAAANSUhEUgAAAmIAAAAmBAMAAACVLuqGAAAAMFBMVEX///+IiIgiIiIQEBB2dnbu\n",
       "7u5ERETMzMzc3NwyMjK6urpmZmaYmJiqqqpUVFQAAAB6qHgnAAAAAXRSTlMAQObYZgAAAAlwSFlz\n",
       "AAAOxAAADsQBlSsOGwAACDFJREFUaN7VWmtsFFUUPtvu7M4+ZjvVSCTU2hQbDYmyEEghkboaSgJJ\n",
       "cZBaNTV0f0glIGGhiD+Mdnk18IeWBIQo6kYQ1IAsUAEpgRIUBDSuGg0IkW0IEBMTV0MtoHW9j5m9\n",
       "d17tbhc37El6Zjr3njtzvzn3O+fcWYBsREqne4dqv5z+BwoivkQhTDQRNjMNx9P9qsoKseTQ7b9A\n",
       "geRYQUwyskxhGmByRhUPYv6uQphwxkmmixOxNqUQJpws5nRRIrapICaczFWYLkbEpP47ZXKa6POG\n",
       "q7I5bCSZLkbESkIjN2mcfZW7PInwU8yIj8lcvMl0MSLWrozcJA77jW3zjBe85jfyEqeLELFr9L3b\n",
       "NYu2JkhuQ2fE0HbE1Huz6cpJThchYjRNfoDCg7KGc6fLkxUvMxeR7UyQfEkQE8en03iJbcOXqsB/\n",
       "dGml4xRBUnjyOkCDyb4zwbSKGMHi0vCIBcix1xaxrMbJT9yETiS6dDwpEM4+DnVQyTpU2JhQeQr9\n",
       "NT/fS8y3Ucxf3N5bmnSQR/dE2gAumnkwzrSKGHHNrcMj5sM06YnaIpbVOHnmrymsX1ALsxSIc7pg\n",
       "ALpZB49ibULBq4FGUBxrQyCEEGKN4A3D2tFQFvGF0D8wBloU2GkOll1Mq4i9idEOD4+YG7+JDvtV\n",
       "mdU4+UmAPPdRtfhB3hOQ3UF4lMMnbm1CpEOBtii43HFwT0GItUUx1fRBG5QkcMM42AuwwnRPR4pp\n",
       "FTH8XpyJLHgMs2KDPWJZjZOflJLlEyTnzjUD6ELEERZTHKFPtjYhvBcX8QLp8Ca1VelG77cWRkGn\n",
       "G9NYPy5AzatSGmBaRcyPqMmTDfN/jY5d9ohlNU5+UoYpSKLPsNIxiAgZeZk/zDnWNksTmDcxDh2v\n",
       "vY7X7D5vEBjziynkZadwGialxBqAcjMRDjKtxcqJ1dWTskGstLp6bGiIWJnNOHkihuOOjz5DXEJR\n",
       "8FNErGIfBmJO5XPTkYPPtjQRJl6qgyfSaZo/1GQQWwDI4bbChvvwsH1fKPhKZqOn/OpyvKIEEmyp\n",
       "1hA7BDA/G8R8EXApQyCWzTj5CYnxHhKuvQn3Db4p7ujzVQGcwef7q7E8xkwCVdBp9eQ7uHMP7iiE\n",
       "ufS/UiYp7x+Q0RpiG0C0zracesRQrw1D5WO242Qhe8awgsVtuz3TjmdVkqATEv/lQ2LU3x9AUP5g\n",
       "aYIczWWVFvm4yF+m6C98Bd8qv+ET+mJu8Ii5FKehvlrVHfPX6aosksHOh1m82z30zq8yj1hmHMWi\n",
       "VJPwswiZAMR1INVwUEjZwcT13YvHLyU3GdVz7C+ebdT43260Jibt6XTakk/q2SnJAs6S0xY8VAQ+\n",
       "pw1/M60hJsk8YbsrW2NSsh4+MyP2HSP+pdcWghxyruER08YRavmHctEDeZa5majGyJpWw1E35uOP\n",
       "p06NaylKxSFzX+IwBDEBvas/9UGRvL3tlj7Wfn7dOks+EQz/K1zSChNsEYOuE5xRD5qVdMIHITNi\n",
       "Hr/mUz48HVn2z9FVSeo4zkEzYgJZr08nzAyiVsOuGEQhFkJ3jSLEouCMrTD3ZasSP9pYvTNFBTTf\n",
       "7408RlelPAKi8N6EZ214DBpQpqUVWA683qU3PkIO1LO/54gOMecF/A4aKyO0GpFlR7MOsQZax+6a\n",
       "YEaMFAzeNtmcnKu3OARiFcrFw+gghtFpCStVWd9O/HAuPMhu9Pc+d5em2BVCu6dMwYKEVzTLaG54\n",
       "CQsDQQixwlQXK2E1gkMrsJoIPpH6ny18TKzDp1vcQRpS5FBHhQ6x1ZT45fcI/YxZeZghVkIueZJa\n",
       "A0t1EU5XtoBTwTg4YzVa4bATrpv7tpBOOAjhNbyEA+HyqwdgDzp2G2dOTISxZ+/J0c2kgeagF99Y\n",
       "JCtG1OVjEEALUSuwdlPEfI6wGTE6ibjQ7yWBRz44Q793EYhQpiaUeX8g/C5DbD0xIOxMGqQ4HGxF\n",
       "0ouqYU/oA3g/XYXvAj9qiFWeiHF9Na7CZ26E8ZJbCvyU5vajm8ulo3h+40w5PzH2jd+Y45oU9skX\n",
       "vyG8fptp/W6PWmCdQdNISBEh1GWBGPGWmDflf6u1dTFalbMSFrs9u+BefOh1yRGGGK5wvRFHUGvw\n",
       "aokPOtmuQq0TlEqielnfFzzk7GH7eYpVxiuefCtduutNtR4xtcBaTn0M9simfEx1c8WXdIcoj31S\n",
       "b4FY9/TfCfGURTkew+2+6bP7tQZ3mA38YHV1zPSgaOqoXtb3BR8pcM7ZT89nyrqoSR7irGJah5hW\n",
       "YJGsHkV8R9JmR/EyrFJobo+CQ7MZMZQ+0b3ONkq2FLEV5LODOKA1ZFYlguOC1YOqbK/21TIRgrjL\n",
       "nsTNWyv+/jwRcyWZ1iGmFVgi3tFctlXdILRA7FgFcqwOhIl34yahp8uEGCLCsoQQEoMzaSKVYX5M\n",
       "foOYtHGDQ2bOVCJLNhgY+wqEfwX7hbbAzEeDd6KWVbX1rnVja2tsqF1rQufCjNaF1rvWvjoQjr/t\n",
       "ngb7dpQrDDHkFweS0HwLDU0amJ8sQLGyzq5cNfSFRXTbwrY8sEB+UZ6I7Y0yPbJ9/v6s9vklQz5m\n",
       "/EjTZFkNW0uT8TNFTnIyT8RmcnpEiNnsshoR+9BYJR3Wtx+2rIathTNtieU84xGY6GQap//Pb0m9\n",
       "RsScuoXHf1qtH25zn+vrzP1XJ86uvAAjCZGqC/T1TdQHP3MFLAyXS/L/1OY+59q8ECtNMF2Uv1Q5\n",
       "UxATTkZzuigR8/QWwoRbIVOYLk7EhEcKYcLkmQTTOSJ2t/wOdr1SCJOMvMLp3H4He9eIGCmEScY/\n",
       "Y0xn5D8ndnL5OCmkBwAAAABJRU5ErkJggg==\n",
       "\" style=\"display:inline;vertical-align:middle;\" /></a><br>"
      ],
      "text/plain": [
       "<IPython.core.display.HTML object>"
      ]
     },
     "metadata": {},
     "output_type": "display_data"
    }
   ],
   "source": [
    "unital2pi_eigen_exp_application = Forall(\n",
    "    m, Forall(\n",
    "        rho, Forall((A, x), Equals(MatrixMult(MatrixExp(A, m), x), ScalarMult(exp2pi_i(Mult(m, rho)), x)),\n",
    "                  condition=Equals(MatrixMult(A, x), ScalarMult(exp2pi_i(rho), x))),\n",
    "        domain=Real),\n",
    "    domain=NaturalPos)"
   ]
  },
  {
   "cell_type": "code",
   "execution_count": 8,
   "metadata": {},
   "outputs": [
    {
     "name": "stdout",
     "output_type": "stream",
     "text": [
      "These theorems may now be imported from the theory package: proveit.linear_algebra.matrices.exponentiation\n"
     ]
    }
   ],
   "source": [
    "%end theorems"
   ]
  }
 ],
 "metadata": {
  "kernelspec": {
   "display_name": "Python 3",
   "language": "python",
   "name": "python3"
  },
  "language_info": {
   "codemirror_mode": {
    "name": "ipython",
    "version": 3
   },
   "file_extension": ".py",
   "mimetype": "text/x-python",
   "name": "python",
   "nbconvert_exporter": "python",
   "pygments_lexer": "ipython3",
   "version": "3.7.3"
  }
 },
 "nbformat": 4,
 "nbformat_minor": 1
}
