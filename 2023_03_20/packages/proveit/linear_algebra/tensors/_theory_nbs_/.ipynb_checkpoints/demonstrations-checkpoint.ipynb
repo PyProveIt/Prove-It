{
 "cells": [
  {
   "cell_type": "markdown",
   "metadata": {},
   "source": [
    "Demonstrations for the theory of <a class=\"ProveItLink\" href=\"theory.ipynb\">proveit.linear_algebra.tensors</a>\n",
    "========"
   ]
  },
  {
   "cell_type": "code",
   "execution_count": 1,
   "metadata": {},
   "outputs": [],
   "source": [
    "import proveit\n",
    "from proveit import defaults, UnsatisfiedPrerequisites\n",
    "from proveit import Function, ExprRange, ExprTuple, IndexedVar\n",
    "from proveit import a, f, i, u, v, w, x, y, z, alpha, beta, fi, gamma, delta\n",
    "from proveit.logic import Forall, Equals, NotEquals, InSet, CartExp\n",
    "from proveit.numbers import Natural, Real, Complex\n",
    "from proveit.numbers import one, two, three, four, five, Interval\n",
    "from proveit.linear_algebra import (\n",
    "    VecSpaces, VecAdd, VecSum, VecZero, ScalarMult, TensorProd, TensorExp)\n",
    "%begin demonstrations"
   ]
  },
  {
   "cell_type": "markdown",
   "metadata": {},
   "source": [
    "### Vector space default assumptions\n",
    "\n",
    "In order to apply the tensor product theorems, we need the operands to be known as vectors in vector spaces over a common field.  For convenience, we may specify a default field, or we may specify a field when calling the TensorProd methods.\n",
    "\n",
    "Let's set some defaults for convienience in our testing below."
   ]
  },
  {
   "cell_type": "code",
   "execution_count": 2,
   "metadata": {},
   "outputs": [
    {
     "data": {
      "text/html": [
       "<strong id=\"R3\">R3:</strong> <a class=\"ProveItLink\" href=\"../__pv_it/demonstrations/b09d232dc6c8bd1b305d141dd063505555f74fe50/expr.ipynb\"><img src=\"data:image/png;base64,iVBORw0KGgoAAAANSUhEUgAAABcAAAATBAMAAACJlYuFAAAAMFBMVEX///8AAAAAAAAAAAAAAAAA\n",
       "AAAAAAAAAAAAAAAAAAAAAAAAAAAAAAAAAAAAAAAAAAAv3aB7AAAAD3RSTlMAZs3vu90iq0QQiTKZ\n",
       "VHZ+Ip2vAAAACXBIWXMAAA7EAAAOxAGVKw4bAAAAk0lEQVQI12NggILEe9UMcFDF8BjB2c2wlAEJ\n",
       "BDIwCJn4q5oIANmPHgAJh3SGdpEJDAycfiBOFgMLdwGQsX8DmMOToMBpzZAvAOU4MEQyCE8Ac9hn\n",
       "FjDselcG0bPlUgLUeIdk1a8vYXY5ZAlOYkBwWCYKIDjcBzwRHIbTKUicKXwwdQ45DIwCHhA20NVu\n",
       "DC76F0BsAJSlJFWuLv4NAAAAAElFTkSuQmCC\n",
       "\" style=\"display:inline;vertical-align:middle;\" /></a><br>"
      ],
      "text/plain": [
       "<IPython.core.display.HTML object>"
      ]
     },
     "metadata": {},
     "output_type": "display_data"
    }
   ],
   "source": [
    "R3 = CartExp(Real, three)"
   ]
  },
  {
   "cell_type": "code",
   "execution_count": 3,
   "metadata": {},
   "outputs": [
    {
     "data": {
      "text/html": [
       "<strong id=\"C3\">C3:</strong> <a class=\"ProveItLink\" href=\"../__pv_it/demonstrations/9e85644bc34fce45bea978ae09f284f5f59dc67f0/expr.ipynb\"><img src=\"data:image/png;base64,iVBORw0KGgoAAAANSUhEUgAAABcAAAATBAMAAACJlYuFAAAAMFBMVEX///8AAAAAAAAAAAAAAAAA\n",
       "AAAAAAAAAAAAAAAAAAAAAAAAAAAAAAAAAAAAAAAAAAAv3aB7AAAAD3RSTlMAEIm73c12IjKr72aZ\n",
       "RFTgyeMAAAAACXBIWXMAAA7EAAAOxAGVKw4bAAAAlUlEQVQI12NggILqZzMY4GASQxaC08GgwoAE\n",
       "vEGEkEloehMDQ2oCkM02awPjeRsGBkYzIOfYJQYGbiCHob+BgeOAIZAxh3EFQ/0GBk4BAyBHmsGR\n",
       "YZcAAzP7AbBZTWnTGRgqORQQpjfxbkBwangTEBxmdiRlzGDToIAXbA8vlHfsJpA4CuWwmR5nfHIA\n",
       "plDI6stxCAsAopoeL0aObQ8AAAAASUVORK5CYII=\n",
       "\" style=\"display:inline;vertical-align:middle;\" /></a><br>"
      ],
      "text/plain": [
       "<IPython.core.display.HTML object>"
      ]
     },
     "metadata": {},
     "output_type": "display_data"
    }
   ],
   "source": [
    "C3 = CartExp(Complex, three)"
   ]
  },
  {
   "cell_type": "code",
   "execution_count": 4,
   "metadata": {},
   "outputs": [
    {
     "data": {
      "text/html": [
       "<strong id=\"defaults.assumptions\">defaults.assumptions:</strong> <a class=\"ProveItLink\" href=\"../__pv_it/demonstrations/f7aeb88b76bab29e4a51716055dbaedba46099f70/expr.ipynb\"><img src=\"data:image/png;base64,iVBORw0KGgoAAAANSUhEUgAABGYAAAAmCAMAAACxgG2+AAAAPFBMVEX///8AAAAAAAAAAAAAAAAA\n",
       "AAAAAAAAAAAAAAAAAAAAAAAAAAAAAAAAAAAAAAAAAAAAAAAAAAAAAAAAAAAo1xBWAAAAE3RSTlMA\n",
       "mVSrZs0y7xCJ3bsiRHbn9enzTwiUqQAAAAlwSFlzAAAOxAAADsQBlSsOGwAACpFJREFUeNrtXemi\n",
       "pCoOlkUEWWbx/d91WFyCohaIdat7yI9eTh2+hCRASKLVdYEQ7ho1atSoIvGeR/9HpOmkUaNGdYmN\n",
       "cJ+hfdNIo0aNahMF8QsbeFNIo0aNqpPcsjG9aOpo1KhRfeJrCIOnFsz8zUT+Ul6N/gRa075jeTCj\n",
       "KDaEPZWkDkpFpB+aVgUQqb+j/G/zavRblLaumpT/mz0IZojdoczw+AisglIR6Yem9QCEj4Emuf6I\n",
       "6nMG6FFs/EVejSoQ1fUj2bR1ZYhiiCxHZnbzEuNT+eqgVET6oWk9BzHbRQajCwZKPtf/N3k1ekD4\n",
       "bKNXiX/lumpsXRoOyYlm7IH9IOXUj4PcBo00V546KBWRfmhaT0HQITTdwljeXzKgJvfa/UVeV/rJ\n",
       "jbyEHPveKCa+y/xqtEL2Q/XmrGMVnHWwmK0wpE2xq0bWVRP2d6asbUt2yp5YmlAZfMz0JQ5TB6Ui\n",
       "0g9N6xEIgweJEAZB487ucMpgzLs9f5PXhX7yI67BysbRJA8nurKTQPw95uejhfsxzx4Kgses/Qfu\n",
       "VkiIFRLPO69xqjG02FUj644OjE65mhL+LzZPkcuypVQBpSLSD03rEYgEKbgeu5wJiIKHGwYmr070\n",
       "TV5X+skMwYwOa4kethnmRKPkPebnowkvGorWDEufEywokOwThA14H+SEqlDPS101si5yqKQv0ZQ9\n",
       "uZZxbGKl+n6IUhHph6b1BAT6IPUZHSHBsXXDgGcVA77J61o/WSEY6pZ4gKD9ZcrfFcb3mJ+Pvt11\n",
       "00NXG+QluxC4Lg5YrwESiuMXikpdNbKucYHMcD1BI10BoU8gS9d7w9zd6za42oOUodSTp5JA76CU\n",
       "68aOBWea9IYFTVGTvmPQ50TeX+J1reTs4TZsWIbxnQThII4e73vGPGM0n3CGV4Aocta4yHr0edrK\n",
       "TBpuCPuK5u7pgAx/h9bFbuuZrhJhujc8uYERzsl8B6N3jyocQUpQ6slTSaC3UEp148DgEplQOF7w\n",
       "etDwOwYo40z8Dq9bJRdo9+yM9tsMBmmFZ8zzRssourvzii3gmJdzVmwFW1hgFRPvUaKjIMvfoXW9\n",
       "W6wnJTchZgLXRHW8nQVkJrG/DDJhDIlvhdwIBzPiC5CPUWyICw1fIo+FMoQzIZ4K5LWzGbkIpWPj\n",
       "yDpFu7ozSl3Q+bL0F2ZmvGWQbNDZi/wmL0WEUSATda/kKI8qRNwedhyuSHdWYNJMSdL3vIg5Hid/\n",
       "9dC8SHRMMOg4uvcKEHD4dqUhq2i2WqejZBi3u+N8l1o2Ape3yTHFmXW5dQu1nkCiw8MuJZzIK1nk\n",
       "oR+n0ZwdsDPMdhdLJac+RXE9PXrST+RxzUKGmA6NNQTatFOEwnsjJDRenRmh0Bv3r3+7P2d0FcJU\n",
       "Ni2rdk3CnTPQiYTJXuQ3eelBxed6jpLVqF3krjqFz4fbPUbTMwvb2ECPrIQ5HZDwyjBFors3JJDr\n",
       "aZ8NRV7evLoXTMdO5hC8WBUNm1xl/h5Z1/JYA12Gg99CGfp01ofS07q7h3EfYnEB8hGKE2Yw0QQL\n",
       "5OmocpsD7witIdDWy1iC0imnfMEfaTgxo5QnrEt/MYSUtwxSueaDyO/x4q7SDHbPPCV7X+kk6jan\n",
       "Pw63N6azfpCl/lTAPCRgJfMdavmi+358PLESr3AV5fCHU+Bn5SYpAWtghXADWVawW8RDmSl21rVu\n",
       "scYKfDbUsFmBDXML+SjjOElyepbAW2AYvgD5FCUIi57I4zvGUJSdfyDQpp0ilFDP4F1Xd0bLCYLi\n",
       "pGIonKzHVU9uGahJ34r8Ii/kQ0XwiF2OksNgpxhxq93kJM18DBcwDxubRTBFovuzCyzMLK9wgYyY\n",
       "VSlMHN4h9wE9FHl60G4D21kGDV3dy1S6aiLr2iv1lrYLgQ7c3rg8qWGBquCRQr3BXIF8ihJueOaZ\n",
       "PPHWWSyQ187mC4UonYo8oc6M0mFtyJfg1b4jumXAk9uM+havQe5+nqPkIfyuGLY9MaldflIj0myX\n",
       "VMi3sNiua1mjfUoLLOksr8DmEGkwQ6R7hhUTH4YeGg5HlMwAz9sMqBjqoXTV8PNtxkerBm5v4wmy\n",
       "vRGeF+pD0CuuQD5BcarzdVKmn8njdgi7KDivIBDIbJWh+MQA7yrPyOdL/vPfcNqQKDSm6yU5jjCS\n",
       "DFSqQWcn8nu8uA+G6I0DnkDyOZISsDI8JkO+dVHo451pLs2XWTgKJnJEZ7s8SJZX9PsnNxCaNYvt\n",
       "BwguxWM0I2Gks5Rt7Od8Tmx3hdqIrGtNA3oyPEvrMHT1KWNOkO3etm9F5hEM3k67BMgpCo/n7+Nn\n",
       "oKUCebjd1skQwTwQCFilCAV7Q5LaMwrOsc8rDl10u9ot/QQD+ODJuciv8Qq9I6QHzvOBknmcyxSw\n",
       "gJUajsxSivfi7vI4bMhy3FgNQtzwPhPdLcke53gFYCzwbA0devw2TWOGtQ1Fr7aZKCqeW3hdJHJI\n",
       "VGX5++4RJrvF8C3V7BqT2CCgWD1OIPtHFOju1SJ8WnxM9Ls4+whyhrKB+I5S7W6VWndP5MET48i6\n",
       "nsYPBXLa0bBPrgCFSSGNGFn1GXWpZ27d4eR7pkAG4IoBrA9cifwaL+fm2Eb0KEPJ6+DQqUHR1LHL\n",
       "4Z2RPVIdx/7qsA7nvoirR92VMJ99NtLS56NdFIRJl+EVkLGacy/cdE6l4HaDmb00YX3YZrY6Rpwg\n",
       "m+uJ9vo29y/AbuEMf99Vmnwxe1iNyokwWBEDlMWJ1PG7yd1Dma7/U8o+blwc1/YWROKc0B7kAmUD\n",
       "saGfMJwgcQl1Lw9HdhvGiOKnAjntILhHF6AIl7zvdf0ZdakHULjVIOgjmS98FwyWZ/ZvRH6NFydG\n",
       "sGsHPEKuFhKCUsPt0jAXw0NGWw7TOD/ouQzHTBsTp1BzmAeXLR0tLOsuyysg41nvivs7DqjX223G\n",
       "ymQON5rt6h9lgDs2X4zW9Rttuhn+HlnXblsWpr/uxtRCxg3Gp4T5uyA1oQpRRP87suw/u23Q0vdP\n",
       "EcFG+wtm3+R1r55rl/l0uKjAnFQU/W5saqi/9NBeesJhm+HiWIrerLP74qRd0KrGUk+NrevYoSqv\n",
       "rTs11D8BUhNKgB2GD/gnZElRf9+gNdy+MA02l4vf4PW6bsUjFBGtwi+KnhjKJ8462OTsthl7tzYn\n",
       "1rH3tN1FaPesJCp/uU1k3TEqDzwjbn4FpCbUijKa8BbCX5AlQfQD0dDd78Dnai+YfZPX67qdhxei\n",
       "RMOE/p7oqaG499e2rbocXsSZePg7WGeUh8a66M1aD15xGD2h7esmh2dDC8n8DEhNqBUFU4P0j8iS\n",
       "oE/eEsXu4lb4qhXzG7xe1+08XLPnzOUXRU8N5cQovzuwJdUSupvIiXVo/CIyDyHP9pw8il7aE+om\n",
       "sr3/+c+nj1YJuTlQRvVzvP4k+pUZceFyM7rIOqBEbB7MB1pXh7oJHdoq/f8gfp29o+YP5dWosnWe\n",
       "UmTduW6S7jBv9BfSZYmo8rcNfJNXo6rWeRzWRdZd6iaib2r/P6Grb+dB/M/l1aimdZ5SZN2tSWdo\n",
       "XwTYqFGjN2hrAqEtnGnUqNELZODrq2jTR6NGjWqTGuDjOX9hebFRo0b/MPExqpyrvuXkGjVqVJf2\n",
       "38WrWha4UaNGdYOZpZz1P0Flm80DwqeJAAAAAElFTkSuQmCC\n",
       "\" style=\"display:inline;vertical-align:middle;\" /></a><br>"
      ],
      "text/plain": [
       "<IPython.core.display.HTML object>"
      ]
     },
     "metadata": {},
     "output_type": "display_data"
    }
   ],
   "source": [
    "defaults.assumptions = [\n",
    "    InSet(u, R3), InSet(v, R3), InSet(w, R3), \n",
    "    InSet(x, R3), InSet(y, R3), InSet(z, R3),\n",
    "    NotEquals(x, VecZero(R3)), NotEquals(z, VecZero(R3)),\n",
    "    InSet(a, Real), InSet(alpha, Complex), InSet(beta, Real),\n",
    "    InSet(gamma, Real), InSet (delta, Real),\n",
    "    Forall(i, InSet(fi, R3), domain=Natural)]"
   ]
  },
  {
   "cell_type": "code",
   "execution_count": 5,
   "metadata": {},
   "outputs": [
    {
     "data": {
      "text/html": [
       "<strong id=\"summand_assumption\">summand_assumption:</strong> <a class=\"ProveItLink\" href=\"../__pv_it/demonstrations/bf3db25da4dfaea89119102587b532cb93ddd7ac0/expr.ipynb\"><img src=\"data:image/png;base64,iVBORw0KGgoAAAANSUhEUgAAAJsAAAAaBAMAAABSozPCAAAAMFBMVEX///8AAAAAAAAAAAAAAAAA\n",
       "AAAAAAAAAAAAAAAAAAAAAAAAAAAAAAAAAAAAAAAAAAAv3aB7AAAAD3RSTlMAq1RmmUTNIjK7EInv\n",
       "3XZ/CtNrAAAACXBIWXMAAA7EAAAOxAGVKw4bAAAC7ElEQVRIx61VUWgTQRB9ueSSXK6J+RBsESSi\n",
       "lYC2RqpCoUhElEp/6q8WDPZDFKopihANbf1TFBuEUlKwHgoFFTQKflQoFEGwSqWgFhUCqYqglOKP\n",
       "IAHF2bm966U9khQ8yOzO7uTtzLyZXeC/fOdaG2sbebvrhduIRfhqGW2t27srmEIgV90mlHIoAVu4\n",
       "f2+BfdXhtIRD+SyEWlphsnfmdt+MMPtGO2EDiIrVLa5wWXPoekZCKQCRJL6stMn140g7wYTGaZ+w\n",
       "DorFk65wXSz1xuckJ+gXLsBvrIS7BC0oXBoeQqgMXBYpcU/iL5YNzWMkD0iuk6vhfOlU6CUGKeRe\n",
       "8Hl6zA0tWObhODs0LRdfmUPkVnF+GS6HT+ggs8N0HqH6XZ2LzPEwJYRikdzLUj1jLHvnuR/FtaUN\n",
       "pCzSb7ZYfO0K52GIXbPrSfqIiYci4Me8dcFwBHt1W1oqIpBOgJITSq+uEzOjf4XwUwyFHlEZqKQu\n",
       "l+3788NSiA70I0DM6GZFBd49RUfU3PTzGPgtZDiGYOwQTXbwVspBRduErQxSU2qGLlvzRtMINuuG\n",
       "T0YSZhaVn0xvN0J4IxxgkihBxY8STrtrV/sjAlJKkglfpyjoUlKH0zt9TsJBEUz3cPflHN4Fk2O2\n",
       "d0PCc+o1dQFmxcebByrhtKgMlnRyu4W35px115mxcycIeHKaWFtnmEfG9TvHLGZ5oYGTqpVEKERv\n",
       "O28tOeHuRRIOZpGl8y+2QOXFOJLfrbqbttJLIZPNcCBhNZ7frvvcearcEal0sBci4nF4T+XzNwnu\n",
       "gVXUKnfFTrNDKDxPG03em1dX01H7RhlF/qxE329fbeWhYMH0Tm21Fl84TD7IW09mTZ2UTVbx9VoT\n",
       "JZUEE7QHWHDcKEr0hDnfLdlPVLtuy/ZsUxoZCjo4n4bHWrxOjI7JitXMrslUfVqiFeCT+ZHKpo3B\n",
       "+1U2nyy10Wpw4XT9b8UAk131DzXeCmxf01tb6yVbwzvLNFER/wOTOqoQM8d0eQAAAABJRU5ErkJg\n",
       "gg==\n",
       "\" style=\"display:inline;vertical-align:middle;\" /></a><br>"
      ],
      "text/plain": [
       "<IPython.core.display.HTML object>"
      ]
     },
     "metadata": {},
     "output_type": "display_data"
    }
   ],
   "source": [
    "summand_assumption = defaults.assumptions[-1]"
   ]
  },
  {
   "cell_type": "code",
   "execution_count": 6,
   "metadata": {},
   "outputs": [
    {
     "data": {
      "text/html": [
       "<span style=\"font-size:20px;\"><a class=\"ProveItLink\" href=\"../__pv_it/demonstrations/bf3db25da4dfaea89119102587b532cb93ddd7ac0/expr.ipynb\"><img src=\"data:image/png;base64,iVBORw0KGgoAAAANSUhEUgAAAJsAAAAaBAMAAABSozPCAAAAMFBMVEX///8AAAAAAAAAAAAAAAAA\n",
       "AAAAAAAAAAAAAAAAAAAAAAAAAAAAAAAAAAAAAAAAAAAv3aB7AAAAD3RSTlMAq1RmmUTNIjK7EInv\n",
       "3XZ/CtNrAAAACXBIWXMAAA7EAAAOxAGVKw4bAAAC7ElEQVRIx61VUWgTQRB9ueSSXK6J+RBsESSi\n",
       "lYC2RqpCoUhElEp/6q8WDPZDFKopihANbf1TFBuEUlKwHgoFFTQKflQoFEGwSqWgFhUCqYqglOKP\n",
       "IAHF2bm966U9khQ8yOzO7uTtzLyZXeC/fOdaG2sbebvrhduIRfhqGW2t27srmEIgV90mlHIoAVu4\n",
       "f2+BfdXhtIRD+SyEWlphsnfmdt+MMPtGO2EDiIrVLa5wWXPoekZCKQCRJL6stMn140g7wYTGaZ+w\n",
       "DorFk65wXSz1xuckJ+gXLsBvrIS7BC0oXBoeQqgMXBYpcU/iL5YNzWMkD0iuk6vhfOlU6CUGKeRe\n",
       "8Hl6zA0tWObhODs0LRdfmUPkVnF+GS6HT+ggs8N0HqH6XZ2LzPEwJYRikdzLUj1jLHvnuR/FtaUN\n",
       "pCzSb7ZYfO0K52GIXbPrSfqIiYci4Me8dcFwBHt1W1oqIpBOgJITSq+uEzOjf4XwUwyFHlEZqKQu\n",
       "l+3788NSiA70I0DM6GZFBd49RUfU3PTzGPgtZDiGYOwQTXbwVspBRduErQxSU2qGLlvzRtMINuuG\n",
       "T0YSZhaVn0xvN0J4IxxgkihBxY8STrtrV/sjAlJKkglfpyjoUlKH0zt9TsJBEUz3cPflHN4Fk2O2\n",
       "d0PCc+o1dQFmxcebByrhtKgMlnRyu4W35px115mxcycIeHKaWFtnmEfG9TvHLGZ5oYGTqpVEKERv\n",
       "O28tOeHuRRIOZpGl8y+2QOXFOJLfrbqbttJLIZPNcCBhNZ7frvvcearcEal0sBci4nF4T+XzNwnu\n",
       "gVXUKnfFTrNDKDxPG03em1dX01H7RhlF/qxE329fbeWhYMH0Tm21Fl84TD7IW09mTZ2UTVbx9VoT\n",
       "JZUEE7QHWHDcKEr0hDnfLdlPVLtuy/ZsUxoZCjo4n4bHWrxOjI7JitXMrslUfVqiFeCT+ZHKpo3B\n",
       "+1U2nyy10Wpw4XT9b8UAk131DzXeCmxf01tb6yVbwzvLNFER/wOTOqoQM8d0eQAAAABJRU5ErkJg\n",
       "gg==\n",
       "\" style=\"display:inline;vertical-align:middle;\" /></a>, <a class=\"ProveItLink\" href=\"../__pv_it/demonstrations/10cfe086dee5530e9b3b60486d89c6cb824c41920/expr.ipynb\"><img src=\"data:image/png;base64,iVBORw0KGgoAAAANSUhEUgAAAC8AAAAQBAMAAAB0JTvnAAAAMFBMVEX///8AAAAAAAAAAAAAAAAA\n",
       "AAAAAAAAAAAAAAAAAAAAAAAAAAAAAAAAAAAAAAAAAAAv3aB7AAAAD3RSTlMAdpndiRBmRO8yVM2r\n",
       "IrsWj4mGAAAACXBIWXMAAA7EAAAOxAGVKw4bAAAAzklEQVQY02NgQAPB/14HMHj8KAAyhVBlXrEf\n",
       "YGD9AGKZoEocvuDGwNDAgAlOPeC+wGCAJCBnbLwBRJ9N5N2ALFEtCmWc5ZkgApJgFUoAcXm3wlSc\n",
       "ZXjAVwCUYGEHWwQ0Fy4xidUUKDGLCWwyNwNCgm3BOqDiAA4BEHeGMRA8gEgwHOUBmbI+AMSNQ9LB\n",
       "EMMKctUeVhCXGVmCUwCol/U7C4jLKACTeAnEkkAJzg/XwPxdMAkQA+ygY2B/MMQ8B9vFMPsHyJgN\n",
       "SEFS8tgYmQsA0e01kB1DJ3IAAAAASUVORK5CYII=\n",
       "\" style=\"display:inline;vertical-align:middle;\" /></a> <a class=\"ProveItLink\" href=\"../__pv_it/demonstrations/7fe8831f6ebd1e3016af37e2f6660965865e43830/proof.ipynb\" style=\"text-decoration: none\">&nbsp;&#x22A2;&nbsp;&nbsp;</a><a class=\"ProveItLink\" href=\"../__pv_it/demonstrations/4168cd961e72f5d384d627eb38168db16e8b22ea0/expr.ipynb\"><img src=\"data:image/png;base64,iVBORw0KGgoAAAANSUhEUgAAAFcAAAAYBAMAAAB96HzmAAAAMFBMVEX///8AAAAAAAAAAAAAAAAA\n",
       "AAAAAAAAAAAAAAAAAAAAAAAAAAAAAAAAAAAAAAAAAAAv3aB7AAAAD3RSTlMAmYkQqzLvVES73WZ2\n",
       "Is1wFLxSAAAACXBIWXMAAA7EAAAOxAGVKw4bAAABsElEQVQ4y2NgIBLcrnFlIBo4MRwjXnEogxYy\n",
       "lxdOYAerkTnHQQTHATQl+zLnv8rcAGScg8gwKhkASXYFBgYeAYbT6AZOuMLQshOogHkOmKsSVgAk\n",
       "7YCYS4GBzwBd8SUGTlYHICM+AMRN7wQpkIbIcQtgKma88IA5leE+yDEcn8GCCVDJZAjFM2vVOoTi\n",
       "CQyLGbaBjGRaABJjfwBV/BpMcrwxQJjMYuzAEHTGF2Sv2xKQzYxA/9mAnKICVnLPAMkZkXUXYDx+\n",
       "cJjwAV2k0AYKK7DgW4Sbr736dRjOuw/2JVcBA2uBHJBRBhZ8gOTB3XYI79aDSbYGBmaGHFAIgXis\n",
       "WatWrVoJVcxpvQGuWAummIEdFC4gpzAwT0AymVVgMpw3hQHqDAY+B6C3qsDcBcjhLHoTzssBk5xA\n",
       "b9o3AINkJ5h7BlmxJQ/MHbw/wBQTMEbjeYGCQmAuXwFc8UUG7g0zoBz2D2CKFWgxy24gYwWYy+zZ\n",
       "DE91cxlmvofqZXSA0EuhFkFdy6EJjW5kUAKzcCNU7wY82WUlLMQ5IVF6E1/e2iMLZUCDdi5xWfIO\n",
       "OGVewKMCABAybPPbtHbRAAAAAElFTkSuQmCC\n",
       "\" style=\"display:inline;vertical-align:middle;\" /></a></span>"
      ],
      "text/plain": [
       "{forall_{i in Natural} (f(i) in Real^{3}), i in Natural} |- f(i) in Real^{3}"
      ]
     },
     "metadata": {},
     "output_type": "display_data"
    }
   ],
   "source": [
    "summand_assumption.instantiate(assumptions=[summand_assumption,\n",
    "                                            InSet(i, Natural)])"
   ]
  },
  {
   "cell_type": "markdown",
   "metadata": {},
   "source": [
    "### Some Example `TensorProd` For Testing"
   ]
  },
  {
   "cell_type": "code",
   "execution_count": 7,
   "metadata": {},
   "outputs": [
    {
     "data": {
      "text/html": [
       "<strong id=\"tensor_prod_00\">tensor_prod_00:</strong> <a class=\"ProveItLink\" href=\"../__pv_it/demonstrations/bb8b4ba9a2ca4f0d7b0c65856f18d509ab6a57a10/expr.ipynb\"><img src=\"data:image/png;base64,iVBORw0KGgoAAAANSUhEUgAAAFMAAAAVBAMAAADInc9CAAAAMFBMVEX///8AAAAAAAAAAAAAAAAA\n",
       "AAAAAAAAAAAAAAAAAAAAAAAAAAAAAAAAAAAAAAAAAAAv3aB7AAAAD3RSTlMAInZUiRDNmWbv3US7\n",
       "qzJazP2FAAAACXBIWXMAAA7EAAAOxAGVKw4bAAABo0lEQVQoz3WTPUjDQBiG36Y5+5sSRHBRKP6g\n",
       "UIQqItjFWIqbJXQpgpWOjhlE/EFaOjgJVsVJh4KCg0vByanYVcRScBAcKuoigqLoIojfJW2q9HqQ\n",
       "y92b5y7f9953AFS0NgdETQoLRF9QhI4LNxgWaCwtRDv0Vs2VFaJuw4ouFhu0NQ/EbZ93AeISxYY0\n",
       "0QZd5N0LucMuG9IS73qjnTaTGFmIkSmzfGxMA0lZZ0NZpKzVvh1c22kYUtVVADZ5pKqsMoNpsjOP\n",
       "beCIpLks1ux8VPenQqlO0lgB4t1A5YHW3gEHJGWAY+7bF88ELtO+V3pkMqgCaLoniF0LPQT75p9P\n",
       "LE/MkzrnRgJdcQoJJT3wYwbA3uF+a+ZeUhkFHjFRhyYVCV2GlAfKhH5ASY/WwfniLf8xtngw4Ucg\n",
       "5AvjCv6KZUoZEcOoo1NPqzhrmBjSyAYqkg2UKNNnUlID99VaHU32OVd4rZ3yiZ8fwQ0B0QyNvDXh\n",
       "YTkK5itXC1g1NtOsizZVxMb6KUU5zfb47EKI9vydeIOKZqYsRP9t4MytW1GJ7oYkuHC/p3BOsMmS\n",
       "ANIAAAAASUVORK5CYII=\n",
       "\" style=\"display:inline;vertical-align:middle;\" /></a><br>"
      ],
      "text/plain": [
       "<IPython.core.display.HTML object>"
      ]
     },
     "metadata": {},
     "output_type": "display_data"
    }
   ],
   "source": [
    "tensor_prod_00 = TensorProd(ScalarMult(a, x), y)"
   ]
  },
  {
   "cell_type": "code",
   "execution_count": 8,
   "metadata": {},
   "outputs": [
    {
     "data": {
      "text/html": [
       "<strong id=\"tensor_prod_000\">tensor_prod_000:</strong> <a class=\"ProveItLink\" href=\"../__pv_it/demonstrations/2aecb1b48b12d0eb108c906c369b9b963a8048b00/expr.ipynb\"><img src=\"data:image/png;base64,iVBORw0KGgoAAAANSUhEUgAAAFMAAAAVBAMAAADInc9CAAAAMFBMVEX///8AAAAAAAAAAAAAAAAA\n",
       "AAAAAAAAAAAAAAAAAAAAAAAAAAAAAAAAAAAAAAAAAAAv3aB7AAAAD3RSTlMAEHarMolUmd1mIs3v\n",
       "RLtmgJDEAAAACXBIWXMAAA7EAAAOxAGVKw4bAAABo0lEQVQoz42SP0jDQBTGv6RJLqlpKK3QrY1/\n",
       "UBQELTgpUgfFSYq2iy5FcHIwIA5FxU52DV0cDYjoWEe34iA4CMHBSWjRTRBacHPxXUpDS2/w4JLv\n",
       "3v3eu/fuHTA8vH/aALkkML4K0X2hvyswSnVhgPs+t2JxLBDMFaKXoVKIS/hcmUISZrynNqlE6Zur\n",
       "AzE6QoclJkaLJTg7QErlnsc0o4uzdpj7tIskoM4DjpxlFdlTPcmR8rT1QPPdszo9VNUauAKMOgzP\n",
       "6ETcCFC4BcgTFxToGazSQ9dJrgDkoIDR7ahUOXE86gvJNnQupV/6xE0bj1R3m9dGaTHgpkDJdFGz\n",
       "hUxwG1X+acaVHyDW4NKT4gzRvOwHKCWQsXl2vXECmTCtgrS/TMcrpTVgLsa7/0FoCUta+EA+YVFu\n",
       "RguHq6d4I4xyk4PubwOWrVVZGPUITbpTlkdqXCtTMIu3YIHvbJDIFq4nQzS5dU6buh8aajllJhB6\n",
       "bqhTuzTv+h7U3lS3y4YzyKl16Yl+ZVG3vwaXuh2hOqItEZoeXGq1M3RrGR5RW2CcBf4A14BPPqsu\n",
       "0IwAAAAASUVORK5CYII=\n",
       "\" style=\"display:inline;vertical-align:middle;\" /></a><br>"
      ],
      "text/plain": [
       "<IPython.core.display.HTML object>"
      ]
     },
     "metadata": {},
     "output_type": "display_data"
    }
   ],
   "source": [
    "tensor_prod_000 = TensorProd(x, ScalarMult(a, y))"
   ]
  },
  {
   "cell_type": "code",
   "execution_count": 9,
   "metadata": {},
   "outputs": [
    {
     "data": {
      "text/html": [
       "<strong id=\"tensor_prod_01\">tensor_prod_01:</strong> <a class=\"ProveItLink\" href=\"../__pv_it/demonstrations/bff06c29f32430f231470220d7007c1b2fd432250/expr.ipynb\"><img src=\"data:image/png;base64,iVBORw0KGgoAAAANSUhEUgAAAG0AAAAVBAMAAAC+p33JAAAAMFBMVEX///8AAAAAAAAAAAAAAAAA\n",
       "AAAAAAAAAAAAAAAAAAAAAAAAAAAAAAAAAAAAAAAAAAAv3aB7AAAAD3RSTlMAInZUiRDNmWbv3US7\n",
       "qzJazP2FAAAACXBIWXMAAA7EAAAOxAGVKw4bAAACGUlEQVQ4y4VUO0gcURQ983mOu+4OUwhpDIyf\n",
       "kMCiDGENmMZRJqnMMhhhm12VVCmnEDGE4GBhJUQMCQEbIYVFQBZMEauNaUNgEQ0EUmw0aYKQNFoG\n",
       "753dcf28ZR7sm/fO3HPn3nPeWwAWrg8FiUN1JGCXncjLS9E7STQxK4U7/ASeEUrhzqDRhOfdaoED\n",
       "3vh5ulSbfK95Mok0WYmhQx8iF2/uteE95emYtBZfmoi5S1MpzjLHqu/3tvSbHJz2SOJHvA7GgKLu\n",
       "i9shyjB0CyJ4APzZUsIo746VOTnnBeqesQEsc3eWbolAuLq2ipfoxRiKmIJ4MkFJ31Elb8GRTUGs\n",
       "zpMsaTVC6yxQuAHUjuj1D9Sg/wwIU3zQR9dJ0n9Iu2zJKXcBI3LmL/10elcDXD9lYw0U8iLCMOVH\n",
       "vNQnzETtbjYUjnrdYY+A7gJVjqpv/qeH4tUZUziA6pyxqfrWqFqC8t2PeIqrVogwD3WVHt3IMe8j\n",
       "BPCZeA6+afHpLlW+R7WscM3OLyDX5eArMjUcmS7UyjY0hxsnaTK2tmnEXxv9/QzbTX+Qo57UPPdV\n",
       "DaF+IKTfxfHEwBaZQXrsFW4Oxbxin7bAN+Q9bzLs+wFQHl+kFfte9uFqb0iNdF16XJSGMUt1s3Ez\n",
       "HrJFQzgMrxzgNsdd3O0njfRZ8Yp3j/uGWxG7Ul7PxU3azrrXIkpS3qVs2tJzSSeyvwTVSri2Z+na\n",
       "Z85IQ84tAAAAAElFTkSuQmCC\n",
       "\" style=\"display:inline;vertical-align:middle;\" /></a><br>"
      ],
      "text/plain": [
       "<IPython.core.display.HTML object>"
      ]
     },
     "metadata": {},
     "output_type": "display_data"
    }
   ],
   "source": [
    "tensor_prod_01 = TensorProd(ScalarMult(a, x), y, z)"
   ]
  },
  {
   "cell_type": "code",
   "execution_count": 10,
   "metadata": {},
   "outputs": [
    {
     "data": {
      "text/html": [
       "<strong id=\"tensor_prod_02\">tensor_prod_02:</strong> <a class=\"ProveItLink\" href=\"../__pv_it/demonstrations/7bf257291df0248b7cb0e96a6970a51886b4dba70/expr.ipynb\"><img src=\"data:image/png;base64,iVBORw0KGgoAAAANSUhEUgAAAHIAAAAVBAMAAABoAqesAAAAMFBMVEX///8AAAAAAAAAAAAAAAAA\n",
       "AAAAAAAAAAAAAAAAAAAAAAAAAAAAAAAAAAAAAAAAAAAv3aB7AAAAD3RSTlMAEHarMolUmd1mIs3v\n",
       "RLtmgJDEAAAACXBIWXMAAA7EAAAOxAGVKw4bAAAB5ElEQVQ4y41TzSsEYRj/zex8rt1tQjkoO76j\n",
       "FMqJtA7kJB+7JS6b4kLZkoOQPeE4uTgaJNw4Oig5KAe1OTip3chFKcof4HnG7uxOO7JPvc3vfd7f\n",
       "7/l63wHKza7QV2Zi0sf5WIly3jec9b9QuPB1X/5dYyLR6ADVP/q+l1U0iRzVGUYh/8ghw8Mq2hgN\n",
       "T/hgtOivrLI8LLbq5tpEEqkZoE7muKu0gn2dptt3u4UaQO4mXGBJu7Fz2om9alq0ZVtICeN0ekXr\n",
       "2Y58FZSycoMDQKfBuaz61rdu6Lb+FbACQPwU4LjblOYearqgHCE4CJAeLusQnBgqRZNppiTjnA8E\n",
       "P6ExjPIFGSETtzScz1KWMOFMjVpSgZM4Vf6rDOUQ5QlqvEfWkL6B8E0p68gpJ2sLhorguJhxlFRt\n",
       "1OTOCrYOkVRKmpV5VtiCgYbMAFUhJYeBrjC/2BdSJtGvuG/8FREqUc+hyFrgZpeHNvBEeypedF7s\n",
       "FBAxlR3VzbmCLN2lyo3nWdLby3QMdU3KGqWK8B33MHGUQG/8uMVV1kxu0aHGjedZMpaui93sxaQO\n",
       "B2ixsvczS+vMyyr9RebaDAfoKe+BfCHc0WfNy/K1d+9WMwPUXTBXwZ/d4N0qe5v5Dv+1oOnj7Czz\n",
       "/AAYOGhl0ivCbgAAAABJRU5ErkJggg==\n",
       "\" style=\"display:inline;vertical-align:middle;\" /></a><br>"
      ],
      "text/plain": [
       "<IPython.core.display.HTML object>"
      ]
     },
     "metadata": {},
     "output_type": "display_data"
    }
   ],
   "source": [
    "tensor_prod_02 = TensorProd(x, ScalarMult(a, y), z)"
   ]
  },
  {
   "cell_type": "code",
   "execution_count": 11,
   "metadata": {},
   "outputs": [
    {
     "data": {
      "text/html": [
       "<strong id=\"tensor_prod_03\">tensor_prod_03:</strong> <a class=\"ProveItLink\" href=\"../__pv_it/demonstrations/9c60c8df67e28dd0e8f18dd96f22bce4251d95bc0/expr.ipynb\"><img src=\"data:image/png;base64,iVBORw0KGgoAAAANSUhEUgAAAG0AAAAVBAMAAAC+p33JAAAAMFBMVEX///8AAAAAAAAAAAAAAAAA\n",
       "AAAAAAAAAAAAAAAAAAAAAAAAAAAAAAAAAAAAAAAAAAAv3aB7AAAAD3RSTlMAEHarMolUmd1mIs3v\n",
       "RLtmgJDEAAAACXBIWXMAAA7EAAAOxAGVKw4bAAACGElEQVQ4y41UzUvbYBj/vWk+mtiGYOd6cIzq\n",
       "VseEQvU8pBMU8TCyzlwUJBsMhpcFdplsYg8Vr8HLjguK6LH6FxQPHhSkDDbYqUVvwvCDscsY+Lzp\n",
       "muh8oXsheZ/3l+f3fL8BuixDgAXovoYE2JfuNNUWgJLfldcvRHeu2XCcgfiUd8pWKCwKeZ8iSSZS\n",
       "b6NzGrfACqFUF/JSVkd6RjViPzpGTul1n1tRa0JeDyXY++CO48KbBbKKxR75yEBTAjDvOSlovCwb\n",
       "5fWYMlU1fChFwJNGtYoUKAHzmK2odXzGMGaRRd9fw+kDnEVxsd35F4Begx7oFwk/AcxsAcVJrYIx\n",
       "FKFMeyAMSRe45+N9PAYWKA6yLkOjHBQKiXzbViqHPVBw70IMKUpyGVjhnn63mX3kWz7n33JEAjZn\n",
       "KGY0LfknbYZT4ljIOwL7wwmrbYekjTQvczNglgbDlhpE+ACpTtsmCiGP4mSX0M/junwHozgrVO4n\n",
       "FJHsTgCFtIsTmEVMyjakxjfSMnNgv5CoLURz5/K89RbePv0I0ihQTtJrnlfTh/SVDzRvAS/4Md54\n",
       "XtTn+Xw1bE92UF2kopm87yNAprxMEu97htderpCQnx4tdXi2ekgpJ6PJwlpJfhwKc/ToDzHenvmq\n",
       "cF62Y5G9GiIHSo3t89PdwZf/TvD1dWvak7nEzQtniu620bp1TdeWbgKsJeCZ//GjWBdgw8AVyhxp\n",
       "c6RqJEQAAAAASUVORK5CYII=\n",
       "\" style=\"display:inline;vertical-align:middle;\" /></a><br>"
      ],
      "text/plain": [
       "<IPython.core.display.HTML object>"
      ]
     },
     "metadata": {},
     "output_type": "display_data"
    }
   ],
   "source": [
    "tensor_prod_03 = TensorProd(x, y, ScalarMult(a, z))"
   ]
  },
  {
   "cell_type": "code",
   "execution_count": 12,
   "metadata": {},
   "outputs": [
    {
     "data": {
      "text/html": [
       "<strong id=\"tensor_prod_04\">tensor_prod_04:</strong> <a class=\"ProveItLink\" href=\"../__pv_it/demonstrations/da1e0f8d4ccf84368f87bb754fce900091658cda0/expr.ipynb\"><img src=\"data:image/png;base64,iVBORw0KGgoAAAANSUhEUgAAAPAAAAAVBAMAAACK8n6QAAAAMFBMVEX///8AAAAAAAAAAAAAAAAA\n",
       "AAAAAAAAAAAAAAAAAAAAAAAAAAAAAAAAAAAAAAAAAAAv3aB7AAAAD3RSTlMAEHaZZquJVO8y3c1E\n",
       "Irudu/YqAAAACXBIWXMAAA7EAAAOxAGVKw4bAAADiUlEQVRIx41WzUsUYRj/zew6u6M726RYQaCr\n",
       "liassIR60ENWQocoVwsvQmyimxLW9kGIIW3RsWAxsIhKyUMEHTboDxg6lDeXIg8dYim8KazQRULo\n",
       "eeadnVmcma0Xnpn3+c37ez7ej+cdwNU0N4QC8N/oP75rPi6ADjckZzxHfqzu15sViQlxtVDKjd3x\n",
       "sTxQ1bEP64gle9thNyTlfUy/r+bXj1WnCylHn063mJ1uNxTwy+y0eLWnxx1DtubHCiaEiKaSi3qD\n",
       "e1k3FPZLKmx6WNAhxW3M1nxZ9y0x2yvagdImL3HeBeGun4k6TkrdokeTUQ7X1nxZH0yR2gZQoyMx\n",
       "AzQolECA9lb9BGozDoRePgGjXfZWlNoH8ARzOpQkT6lSgJS4DKl1ePGKrQkW0pM5x2N9NyRiTIJF\n",
       "CWUxBLmgFKSElBJJpGYRTjqQGeJqIbpdNsCcS1gzEOTp6cIMGnAAARyN9dmaYH03pMeafarIbrAE\n",
       "nAXL08AyxlADTH8FKBxKVc3006FyILyhJB+CBlqNOQ9QV0CIN0QSyssEWTiHIf2irZksGoVfcnnj\n",
       "qZk+1BSBWbDo4Rh9VmjGyAWlFzYgEaBmHAiPqFtCLXebOUfiqDuUIdQSzBE9NAvIob9CK7PQz33p\n",
       "Dz/ILnnDEkxZ0zXTyPo0kDAdI7QNuQJiE+EimnnH1Jrn4J4uZ2kIIpxxAlo6x8M5vwpNsDDF640V\n",
       "s2htY4mWfBWm9EEu0UAtJRvshaaaJ1WpgHjSmmO0E+zWj2gSLyjCZdPVOuLsKrKL/Y5msXDdKZyB\n",
       "PI7Ra07IBqLFk2pmEYhHaEyUxpLVeTgQfpKJDMZCdtHf4HmnSQ0WecXVFGTjs7RZkyXM0gRrHxmb\n",
       "cuIluxv0Oi+kB89SKcTJjMzFlU+IkteIYUO8/6Ox0ErAtnANq8mIIc4e5E98s6RCOw1ZCtPSBCtQ\n",
       "RPCE6mScjPy2zhlJ4/j8SA5RrhbDvPV49noGOb4yhOfUGZn+1ulY6G25MMErbpYNLhmNunQ8duuM\n",
       "rQkW0oMtgXGneo+27dLrnSWincqp4sp464Zqcz416Lsovp1YcOqyrXmxFDoU2rKQcjQ3O/TKwl8J\n",
       "OSV9T7MulIOtNyrAsuZmXcWhjLg8vC6QqMd/w5a3X61Y9T52sV5jlJ4/LHFdox7WmrwtR6v/+7hY\n",
       "t9sMKx7PTL54pBbztNxV/dfHmyUXTPkLm2zcGTFUiaUAAAAASUVORK5CYII=\n",
       "\" style=\"display:inline;vertical-align:middle;\" /></a><br>"
      ],
      "text/plain": [
       "<IPython.core.display.HTML object>"
      ]
     },
     "metadata": {},
     "output_type": "display_data"
    }
   ],
   "source": [
    "tensor_prod_04 = TensorProd(u, TensorProd(v, ScalarMult(a, w), x, \n",
    "                                          ScalarMult(alpha, y)))"
   ]
  },
  {
   "cell_type": "code",
   "execution_count": 13,
   "metadata": {},
   "outputs": [
    {
     "data": {
      "text/html": [
       "<strong id=\"tensor_prod_05\">tensor_prod_05:</strong> <a class=\"ProveItLink\" href=\"../__pv_it/demonstrations/98cd2557d3cd06b8967c34a24a6ca530bec2e6ab0/expr.ipynb\"><img src=\"data:image/png;base64,iVBORw0KGgoAAAANSUhEUgAAAPIAAAAVBAMAAACOB66tAAAAMFBMVEX///8AAAAAAAAAAAAAAAAA\n",
       "AAAAAAAAAAAAAAAAAAAAAAAAAAAAAAAAAAAAAAAAAAAv3aB7AAAAD3RSTlMAEHaZZquJVO8y3c1E\n",
       "Irudu/YqAAAACXBIWXMAAA7EAAAOxAGVKw4bAAAC1ElEQVRIx41VT0gUYRT/zYw7s7vuDlPiKcix\n",
       "P0agsER60KDNDp3C1aSLIJuUsUmxGFQU0SJFER0WAo2IECKKOSl07LBIB287/T10WgQ9GdjRg9B7\n",
       "o6593347zoOFt+/9ft/vve/PG6DR/EgxFaq5RULrRUVwKRKquS1FAd1RlpONggppJ7s/RltQhhcj\n",
       "oZrbYvOiJic7A8dQV3c+HJVqZH0J4+9ZggIHK+zF1ZXFnVCU5TYwpsP4e/aWLp+2zt4DtXJrNhS1\n",
       "r7LE5wM7mkXMQeYm0GZyXX30S1/uqa+kdWXxATBz5AsoTrzEfUdQ1o4Mz14XlFmgXeInvPIPmFYJ\n",
       "Q9B909cyWp6yn+i37Nt/d5UZ8ARooSslojgxjmpFUDZw3O0XlLcFRP6hrrUc5ox5jCEGFL4DXBf1\n",
       "pz0GRXdszljgJ0R8CcXMGbT6gvJFDDmjgjLDxiX+V1DjTtwlvknV0oLczQtyN5Bkt4OfDgPm6HJs\n",
       "QEJRIrFJTVLQ8z4+9zyuqIyBQK/f85553vsd/ozM165QpuqkA/6vAp3D9prxGjp4E5P8H48cUEOp\n",
       "EiQUJfQSdPmGzcg3rOpQgRL/W1Ad9A2KpfN6JViT9rHD5ZPZtf6gSmseEoq6s3N4IymntnBAVB4A\n",
       "FSjy6fXTxVyFXTuXKM4C3SmexSukXMSYVZ/xq2C/pUY7JqAoQWeSF5S19VhpNzRd51OBIv9ucFl6\n",
       "8SqfRzfB9WAWXwNs13pn1HueCvbG4PUEFG5hOZeqCMrWZlspVRSVe1HNivzE2sqNMtA+8XCkDJvf\n",
       "+DADX5MzUvh5sq5sjPIQSLKEgILR13npqjhJtFPu7QvSObdPnPVFvol7n/dOc7CcOBY4ybJyhv0O\n",
       "R4XOsKlG/v8fn+kT29OoJaNUPh2Oav7FMBe0p418pf1RBdO1KCiVJd1YXsFX2WFV0PajoFRmDZ5R\n",
       "8ZXtuYpgTyRUc2vg4x9LMMgqYZr7VQAAAABJRU5ErkJggg==\n",
       "\" style=\"display:inline;vertical-align:middle;\" /></a><br>"
      ],
      "text/plain": [
       "<IPython.core.display.HTML object>"
      ]
     },
     "metadata": {},
     "output_type": "display_data"
    }
   ],
   "source": [
    "tensor_prod_05 = TensorProd(u, ScalarMult(a, v), VecAdd(w, x, y), z)"
   ]
  },
  {
   "cell_type": "code",
   "execution_count": 14,
   "metadata": {},
   "outputs": [
    {
     "data": {
      "text/html": [
       "<strong id=\"tensor_prod_06\">tensor_prod_06:</strong> <a class=\"ProveItLink\" href=\"../__pv_it/demonstrations/96c2bedd05c1123300ef443e01c7baa9d9bcc5d20/expr.ipynb\"><img src=\"data:image/png;base64,iVBORw0KGgoAAAANSUhEUgAAAFwAAAAVBAMAAAA5lpTPAAAAMFBMVEX///8AAAAAAAAAAAAAAAAA\n",
       "AAAAAAAAAAAAAAAAAAAAAAAAAAAAAAAAAAAAAAAAAAAv3aB7AAAAD3RSTlMAInZUiRDNmWbv3US7\n",
       "qzJazP2FAAAACXBIWXMAAA7EAAAOxAGVKw4bAAABr0lEQVQoz32Tu0vDUBTGv6aJfaQNRRTFKb5Q\n",
       "KEKpRXGrWh0ESxC0i4UuguBSRIpUxFoHxxadxKXgFhCKk1tr6SZCl4KDQ8BO4qD/QPHcPsTbJgaS\n",
       "3Pud373nO/ckAHywuswiQsASfzDRQpY0hEyfJCWscez1KQ5+h0dudtlOEolMdxUXvzrIzVwaPRRi\n",
       "t4odZeE/fICl/qQDkp47yhHzP1FvrHK4NJNBHBBrNE4uAzFRg6Ibo9hn/jGnpjlctOeRA5x0DoJP\n",
       "9ElJKYydqWoNdxQ8R0575fB3RwFvAC2CF4iOADUMg1LcUtBAqgWldf1G1+9ppLlUXFGVX5SIspOn\n",
       "MDlcQwsHC/GlljSlCch55hRDUaoAGCSdmYH8jW0eT0Eg1F5guC0sFAmXM9BQYafkzbNkf/EXeMiB\n",
       "s0yGAg3ALwcwzwrYpD2asbwc4PFTlOjMHWwTPz2EEJRqZcPAB+1+qC5e9HiPr5xRd9ysmR7WpjqV\n",
       "vHRAimHR1XW6x1qjrKHMdlVn0uwTExPSNb2O2y0OTmq/wJPZl+tWveTYVu6P7Jrh9uxJx3XvZVMt\n",
       "/47xPuUHMaRTSkzvSSQAAAAASUVORK5CYII=\n",
       "\" style=\"display:inline;vertical-align:middle;\" /></a><br>"
      ],
      "text/plain": [
       "<IPython.core.display.HTML object>"
      ]
     },
     "metadata": {},
     "output_type": "display_data"
    }
   ],
   "source": [
    "tensor_prod_06 = TensorProd(VecAdd(x, y), z)"
   ]
  },
  {
   "cell_type": "code",
   "execution_count": 15,
   "metadata": {},
   "outputs": [
    {
     "data": {
      "text/html": [
       "<strong id=\"tensor_prod_07\">tensor_prod_07:</strong> <a class=\"ProveItLink\" href=\"../__pv_it/demonstrations/a469fefd4471ce2a38934bb7e71f2b7039e8b83d0/expr.ipynb\"><img src=\"data:image/png;base64,iVBORw0KGgoAAAANSUhEUgAAAF0AAAAVBAMAAADWVP/xAAAAMFBMVEX///8AAAAAAAAAAAAAAAAA\n",
       "AAAAAAAAAAAAAAAAAAAAAAAAAAAAAAAAAAAAAAAAAAAv3aB7AAAAD3RSTlMAEHarMolUmd1mIs3v\n",
       "RLtmgJDEAAAACXBIWXMAAA7EAAAOxAGVKw4bAAABr0lEQVQoz32TPUsDQRCG37vcRy7GEBIhhRCi\n",
       "oqIgRGuRs1CsJGoCok0QtFHwQCyCiqnkCosjjaWnIGoXSwshWIiNECxsEyJpBEHBH+DsBUNW91zY\n",
       "u9mZZ2dnZ2aBv8OFzxAb5Lwf/yzUrvvhkB2BUir78rjp2JvL9XmCzjnp5lYnbUkhOFZlUpjzqKU6\n",
       "V+HojzRPd5fembT5D99Fp8UGenJ5WCtAQmXbd2njsIM4zyu2eQ2oacCSJ/Si7KquZEkZstySWqvg\n",
       "lOd7B5vEGmUYrvEZcAJA9hIgFY6AWb2IKZ4/Azuc/CjQKYEq5YVg5v8JiIZTuGepsu3jR9tOe2le\n",
       "YFF9sEuTCx24yFJsLR61qPL1677nXnYrzOhKUR2hjFz1eIoHe5ArPE91YPEUkaxOUjRKfgYY62ad\n",
       "06D5ikia5ze8yxl1bE/v44VYCl32OmeJ5g5qDscrzcaySWFnkOjXCuQ2wuo1zkxzNOOLhy7Hq9i6\n",
       "o1+w2i5dyVRGPCFosu+qsL5XHW25NtRqDsOCWpYehP1WEDXtG4KpQEZkCdVF2iS00oGw/SPCBxlK\n",
       "+T2XUeAbrhlRvX/AO1UAAAAASUVORK5CYII=\n",
       "\" style=\"display:inline;vertical-align:middle;\" /></a><br>"
      ],
      "text/plain": [
       "<IPython.core.display.HTML object>"
      ]
     },
     "metadata": {},
     "output_type": "display_data"
    }
   ],
   "source": [
    "tensor_prod_07 = TensorProd(x, VecAdd(y, z))"
   ]
  },
  {
   "cell_type": "code",
   "execution_count": 16,
   "metadata": {},
   "outputs": [
    {
     "data": {
      "text/html": [
       "<strong id=\"tensor_prod_08\">tensor_prod_08:</strong> <a class=\"ProveItLink\" href=\"../__pv_it/demonstrations/1171a5bce469e29ca85c7a5afcc3c1c2d5280dd30/expr.ipynb\"><img src=\"data:image/png;base64,iVBORw0KGgoAAAANSUhEUgAAAMEAAAAVBAMAAAANw5eWAAAAMFBMVEX///8AAAAAAAAAAAAAAAAA\n",
       "AAAAAAAAAAAAAAAAAAAAAAAAAAAAAAAAAAAAAAAAAAAv3aB7AAAAD3RSTlMAEHaZZquJVO8y3c1E\n",
       "Irudu/YqAAAACXBIWXMAAA7EAAAOxAGVKw4bAAACr0lEQVRIx5VVz2sTQRT+dpPsJmk2rIbUW9lW\n",
       "TRFSWMT0kArGevAkTbU3oaxBI6U0RAUPihgKIqiHUKGRoqU3bU5R/AOCiHpLUOjBUxC8tdBrD4Lv\n",
       "TX7OBjQ7sLvz3nzf+97Mm5kF/tOa8NK8oUVTi57gn7wr3PeYUMargFLzSHj/D/V8frJvJfI5k78+\n",
       "V06R4Rxl1yWZP9BCFP54vWttmFCS3Am6YLo1pCC7gqbEH2jbtAuU/a7cAb0mWO+hV4WxjMQXK30y\n",
       "g4AJew2IaaaSyOAtfFoTin2DRmcJQK6XeGBK4ZSpxc3bkgLHiQNalte2y9/aNTLQ9BIWoDa1pmIr\n",
       "DltPMIM1xDBO2I8QgGU06pKCD6ettKTQjgM/b40uX/lQuAVUfDu4jgCw8gPIVnw12qBZaG9s9tF8\n",
       "BGAdY01J4QoWzCVJgWHLZJWo3+UbJmgiZtCiABqlRfNz2KrAAVJgH14IQOiIkiZEtfruWbXK61DG\n",
       "XHsuPVc7DkKH5O3zx3lxG6YhAuytADYem7DoY+TLIigpkEstQXWXdd1d6YZJiSDCc+jxDTGWhnpI\n",
       "luGodRpKcwY29pAUCrRKlG00i9cuhcgfHJNdc6BEoO8IhQ7/MxQyfyPauhgqbgLJSJEsvYlKyIFa\n",
       "/0qDvwQg7PDEBzfOfqDkcnEcWix/i2vS4etFUcwUXjkOkoRX6RJaxXfqfCH/NEegrYACvmUjdSmc\n",
       "fhQrRYqyQgoNOgs+ZnX524XELvXiuUdXy4jyiVskxBIfGT4xcS7SFldzdvLaTXnRlbPWvcuuOsRz\n",
       "FyhGWKTS4Tv683r/MM6XQ6d6hv8MNsR1Ey57ONOr9PyU+dItend64K46MXWnDbVHvfm0mvKUPudk\n",
       "/gjtYFRg2ApQCYyW5z/QxKhAff48vaPef6OG5Qk+M+z6C+TCm05nNF6pAAAAAElFTkSuQmCC\n",
       "\" style=\"display:inline;vertical-align:middle;\" /></a><br>"
      ],
      "text/plain": [
       "<IPython.core.display.HTML object>"
      ]
     },
     "metadata": {},
     "output_type": "display_data"
    }
   ],
   "source": [
    "tensor_prod_08 = TensorProd(u, v, VecAdd(w, x, y), z)"
   ]
  },
  {
   "cell_type": "code",
   "execution_count": 17,
   "metadata": {},
   "outputs": [
    {
     "data": {
      "text/html": [
       "<strong id=\"tensor_prod_with_sum_01\">tensor_prod_with_sum_01:</strong> <a class=\"ProveItLink\" href=\"../__pv_it/demonstrations/a0788f0cf2d8cd4e5ec937a1b9c2a3432bde28c20/expr.ipynb\"><img src=\"data:image/png;base64,iVBORw0KGgoAAAANSUhEUgAAAKcAAAA/BAMAAAB3DcXxAAAAMFBMVEX///8AAAAAAAAAAAAAAAAA\n",
       "AAAAAAAAAAAAAAAAAAAAAAAAAAAAAAAAAAAAAAAAAAAv3aB7AAAAD3RSTlMAEHarMolUmd1mIs3v\n",
       "RLtmgJDEAAAACXBIWXMAAA7EAAAOxAGVKw4bAAAEnklEQVRYw61YXWgcVRQ+dzK7szu72SzRGrDF\n",
       "1NQW/2Jj1RcJuAYrItKsbRdKhXZtEfJQyKAIVsWumBdBTeiLSsWuYhBBTNUHLYWuLVJo+9BBsCAU\n",
       "E+qTorZJa0217Xju3Ds/d5PcnAveh527M2e+Ofec73z3zAAsPp4Xh892PQhLD/YlmAzrkDg+BPfq\n",
       "zO4zAp1uiuNjsE1nVqoaYLKT8fRNrd0JA1DnUDS7Z7XWcE+ZDjpciX05rzXMeXTQrxfDX2xk/yFj\n",
       "xqbse5ia0JoeJYPmZqLZ6/CBPmqjFXJI69FsY9/DetMiOaiPGPDkIpWlf9NBO68SDfOXDSh9mmhX\n",
       "umgAuq9Js+uaMQAdnSCqiYlMTA0QV+TjTyFIDY0AFL+jgbY437OBTNetPwwGmhtLszTQeUHW+fjE\n",
       "e1c0cn6FhOneELUaJNF6TaMTNFJLMztIeO0ovHHjH252g7Y/zYnj+iCBUnizLiwlmTw2TytnGaVS\n",
       "0Gi/UgtTiIyzPLhLngxoBSXTzs60h2vLU1y+VvKAV6EgNXFco41WrXa7mBUiiZ4O6qrNiZ85wF6p\n",
       "EFL0WjJIa2ub2+FtROz2BZ0j5mWCY6oiiQsRaeXFC+KuoTKw/jbQTfg89oco/VhPWv8qNpkwxtlo\n",
       "pz0sxTdcjv0b/tzmR6bda26u1cHbDtCTKaugq4K0CuQH3+ArdvBcNw/BljSok2kC854GeGLMRap4\n",
       "1ganYTUzTeaxqgoal6pUr5BFBbyneg4nB6RShHS7G7ZDD6wA9tUOfFi+mZ/tmOgA2PopQFhDvYmc\n",
       "7ruWjv1UuMnl6mDXX+GNRBp0ADJPetABbhnQXTtsRzK4AEQMPe1N5COn6NOoyKMPDI7z7VGc3Rma\n",
       "4J0vhDCwIvSjiGcdgMmtGIo2UFcpl20RKGQ5D86lQT1waxUO466WHR4rO+BWLX8BqHUqDfoLyOVD\n",
       "YQDdGVFBJ6Gfg/6E60AaDKLXdn0jQH9nXU0UTCutwnFRcAjS6+NyP0zH9HG7CpZ/FrJ1DCyMPvoq\n",
       "nEVAXtDPtfHUVrTSvS7YirEf5rR5MQ1q/ciVpgqbdqwdQ3L2ZfeigyVO/vvbQFcp20hWnLexBDre\n",
       "x8nbaZ4CJ/9NZahmT/vJLfsrttSdYgz6japRUrTHpOMNBTR/Bwwt2FjZrnWSk7mo9kvKVr27IOXl\n",
       "XfkMCXFBxv2WvmcJ0gcvJcxHvHdWRteFLH0h/46Tugnnuqz1hE95BN3/crSmmTiIfJyhbSdXF/Bp\n",
       "j2LwcWgVOXiN1p/9JRKR8KlHs2O6tD2q85LKJ3d3cHlZ62XbUyHNrSPh+PYtbHsamnXN0TqU8TBd\n",
       "6V5K09k5xGaW2nKKbZLYzB6cMADtahBbToPXOBgmNrPFhgHoeuKLVGbWAPR3op0rWMIo+WKXqE8/\n",
       "IhyO2M8O/B+vRwdVH4fu1DCKHP/etoyOaJhCpp/D99PONRTQnfRPKDxT3V1l508cv+pA2RydJ/y7\n",
       "0UcjBE8dA0rneOLPE0CnfIMXbmym2Wxl+eU/YPKx6xne3HrLepo/ZgKKvQ3bELF1srV5CbPPKyag\n",
       "bIxkdtjoWx98Qnr0Emn6D/tkNJCDWwlnAAAAAElFTkSuQmCC\n",
       "\" style=\"display:inline;vertical-align:middle;\" /></a><br>"
      ],
      "text/plain": [
       "<IPython.core.display.HTML object>"
      ]
     },
     "metadata": {},
     "output_type": "display_data"
    }
   ],
   "source": [
    "tensor_prod_with_sum_01 = TensorProd(x, VecSum(i, Function(f, i), domain=Interval(one, three)), z)"
   ]
  },
  {
   "cell_type": "code",
   "execution_count": 18,
   "metadata": {},
   "outputs": [
    {
     "data": {
      "text/html": [
       "<strong id=\"tensor_prod_with_sum_02\">tensor_prod_with_sum_02:</strong> <a class=\"ProveItLink\" href=\"../__pv_it/demonstrations/e3b5d60acef31374dd06c9845d12fd2f0aaa336f0/expr.ipynb\"><img src=\"data:image/png;base64,iVBORw0KGgoAAAANSUhEUgAAAIMAAAA/BAMAAAAxu2ZbAAAAMFBMVEX///8AAAAAAAAAAAAAAAAA\n",
       "AAAAAAAAAAAAAAAAAAAAAAAAAAAAAAAAAAAAAAAAAAAv3aB7AAAAD3RSTlMAmXbNRCIQ72Yyq1Td\n",
       "u4mXa1p+AAAACXBIWXMAAA7EAAAOxAGVKw4bAAAEE0lEQVRYw5VXXUhUQRQ+d917d7dd16WnEMs1\n",
       "rKhILSHEChefAiH3qR/Idg0iKNQFS4ICt5ceJHATeggNtx76e1HoR4jIfSokSAm0XsKtqAfJ38y/\n",
       "1NvcO3N/Zp0Zdw/s3Hvn55sz53znnFkATbYCkQrgi3JYMOgwVjpmBLPggGCsPkxe6oQQ+Wm+hteM\n",
       "l91CCOU6d0gyz6EIIWAgyhvpTZCXl5tA+AK8kWrylOObQHj/bjbgmfq23i/EOMZTb8R8lReECDCY\n",
       "4JjC2rljVqyFi2OMPshaJLatlNnsIZxLzG73cvYQ0Mqm7UwOEMVhVm/BSA4Qg3FmjKVzgIgkmbqF\n",
       "UJOn2iQo8GqM1VujxY5XJUa9UPtYjQnincm9VUyOVbPj9j9BcmKNyWuY5ap1yu2CQJvld3pUizUS\n",
       "7bmw2aBpayzV5vCzXLUWUp5z6GFTS6i8yqI9OV2+msoc2vFLa9+iXwk4CKzKsjFxhdKeeUz/Uy1X\n",
       "KlpW/AhAKsAwI/flGQmnXs0IdNeLMU1Lsv1NQgFy3LKp7yaYy/C0X23LoK0+x2XMwyvGQ/qjKwpK\n",
       "qRkiZpTV/KEhfuvtc0NbrE2frqpnFDVNoQ0QF1UqWjpuPNBtisxRgpb7kzYIyR8GJYCs3TMkx20Q\n",
       "JsmJYG9XodVORHk3LjbFujK74Cc0QjMohyYnAFqsdFG8aDe3jAE/AHRrtcobs0EkwX83AFtAjgJS\n",
       "pcUKKh8Vo16MfQUg6kL9Hvw5rU9BJy5E2qG35igFIVPU86cMCBhE85wxG0QA5KkESGiJ9mmDcFyl\n",
       "OJc0DgLVClIqRUGcg1IN4jgodo9APVVoXPhUn5BH5pHK7hGbLbo9aXCE6sDbjwxig/DQuSCC3T6h\n",
       "meE08mPaBuE4gZr9abg/WTZE8YJOeIP40YN+T9A6X8jGC9CodSkKaW8r6naZEAdpchYSN5HTnQU7\n",
       "hHsvdJkpwWfESD5VDLzJI6RSkTK6DT/GCeLlna82BDsUWbxCO/nGjKvPKHY42WCYUYukebKb5VE3\n",
       "gnCXGHOb8E7ks52V+JY2eHSAzs9BHBVYFllVeR1PtDzaKCj1Mit3Oldoj8qvVUGpJ7Mzrhc40dRU\n",
       "6nL0PSqIKT6Ee47VO6wb1V5T44JrznL2VwaO5DEvI53xHCAKmIeMBHKA6GVeRlypHCDKmRdP/0IO\n",
       "EJ/ZbMF+UrKxqrLC7q/Eyhjcap54xKcFh3Wd9P4BKOL7lGO3FtrK8xBJcC98HAJIWg537jM+bwkg\n",
       "pnk20ux5viAqfUXyxazHvJlM2YN+J9+Yn5533AjhUsgXxPWCSAP3T1wkxE0C6KKjLCTIQeSAzKPI\n",
       "Mz5jfqCMXWGESsO9Oxw13G2Ca3EQlIfG1u2qypl2KiHg7VBWAVIlGjyTDYLCMeZ/kjQpCc4wNRUA\n",
       "AAAASUVORK5CYII=\n",
       "\" style=\"display:inline;vertical-align:middle;\" /></a><br>"
      ],
      "text/plain": [
       "<IPython.core.display.HTML object>"
      ]
     },
     "metadata": {},
     "output_type": "display_data"
    }
   ],
   "source": [
    "tensor_prod_with_sum_02 = TensorProd(VecSum(i, Function(f, i), domain=Interval(two, four)), z)"
   ]
  },
  {
   "cell_type": "code",
   "execution_count": 19,
   "metadata": {},
   "outputs": [
    {
     "data": {
      "text/html": [
       "<strong id=\"tensor_prod_with_sum_03\">tensor_prod_with_sum_03:</strong> <a class=\"ProveItLink\" href=\"../__pv_it/demonstrations/7c7e43855cef3325306872ce06545cf1d9b0e00a0/expr.ipynb\"><img src=\"data:image/png;base64,iVBORw0KGgoAAAANSUhEUgAAAIUAAAA/BAMAAAA8pRYcAAAAMFBMVEX///8AAAAAAAAAAAAAAAAA\n",
       "AAAAAAAAAAAAAAAAAAAAAAAAAAAAAAAAAAAAAAAAAAAv3aB7AAAAD3RSTlMAEHarMolUmd1mIs3v\n",
       "RLtmgJDEAAAACXBIWXMAAA7EAAAOxAGVKw4bAAAEFklEQVRYw5VXS2gTQRj+Z93NZjePhqIUVGyr\n",
       "YFHUPhREEIzg42YrWhQ9WBRBpJKgCC2IjVBvQqMe9GYURQUxSsEHgq0X8XFo8NBrqjfBR1sfbdW6\n",
       "zu7M7HbWmWkykN157Tf/4/v/fwIgbidZ5wHIG3qoWASNfaqNq7atUy2WC7QzqsRIdiiEfM06jUoM\n",
       "9FK+ZvqqICUGdKekS+1p2jk+D0Y0K10apG87Pw9G5Ne8K3rnvh9dSpDnUgnH/K49oYSATFpmjuDs\n",
       "y1NqOeIyg2yBipspsReaqhwjMSOet75XjgFvJQwerwKjryCcrhmrAiOTFwdcRxUYxRaxeCX8iDlz\n",
       "WoPCucPC6SE3kCIOtezid5udYUX4i0k4TUgy7U9c/anIVsI1+y8hvBNoelYRdVOKWd0J6GNyDrS9\n",
       "J53S/wqlmyTvZif4knPgSu/5jpJ6WhgCVMOkkwsvnd7tyum6vgk0iusILU0dgkbCqhob3Py5xO2e\n",
       "B6CFYSBIh1pnZyPpxVgGKjuhuI+feI+fvXR0hTLB11jHALUlspN53HBehAjsHcnIEicCfC2x5V0Y\n",
       "DX0m4eKH3NBvHmO/5zaW82PEIFuwsLUrFnZ2QfYAQJ2R4jGWOlzkXH610TU5nkNN+HujxcfIam1m\n",
       "TisYBZRFHTyGz3faJtnxRgIrZBGB+vJgFayJBfkFAHtvA3jI9UH66PsztwbZHmIUn7vDLWKRYYah\n",
       "e0XNwDJiAE+O+iDColzERjzwOLZhKo7ndXLWIXeLOzYBbu3FeoUwbI6ERo5hQAbLlxgOMMoFlDLB\n",
       "7tBK/2FobzjytTBdYBBhsXIMY1lpM9ZE79oOsDbRxdsUylwFinuKJfETzWLlrTFmj8zWMzCKv8em\n",
       "0I6G+KHzuaHoscl1qT5+lziZYNQtj/Ti45Mux1pDGEv5HJghwK4Km7CDoyWfH7RdSuurqMg+xmOe\n",
       "pqfIq58O70AYAx1eSbkQZfGS5GpEpOURF2ss9r6mFbEPPQHB8FnR9zRQkiRQbXrCgKhImbO0ZAaO\n",
       "tTCG1UQ3o7G5UDAizIUz/zm2m9tww3uupqM/wpL9g8gaOLZOcRGwhfk08Y13rH3EUVwE6O7w9YNk\n",
       "nqFnXntyAdfKnBzDmhROD3iWnVtv84qL0PdqrhTiFhNfVq7lq8CoEetZzFaB0S6+rMRzVWA0iy+o\n",
       "xkQVGJ8ktCHuQpWYFn2TLDwj4jCSLdrTKqeHjH7XeAmy0CN3rcx29bytZ6GYll4LZTww3cyeWMGG\n",
       "FxUYh6SGco1aW5Myv+D2kRVr6U5xW4N/14/5Q/2cNFrkVIq6LvngD+9L//kVS/KkgK9CaCJNdbGz\n",
       "towq6xXUOejeVVjY3N+2UyKI9UL1B7oBUBs7fMRxJNvupVUU7q8oWJ4qV29WAoGIRf8BliYr5CEp\n",
       "8/EAAAAASUVORK5CYII=\n",
       "\" style=\"display:inline;vertical-align:middle;\" /></a><br>"
      ],
      "text/plain": [
       "<IPython.core.display.HTML object>"
      ]
     },
     "metadata": {},
     "output_type": "display_data"
    }
   ],
   "source": [
    "tensor_prod_with_sum_03 = TensorProd(x, VecSum(i, Function(f, i), domain=Interval(two, four)))"
   ]
  },
  {
   "cell_type": "code",
   "execution_count": 20,
   "metadata": {},
   "outputs": [
    {
     "data": {
      "text/html": [
       "<strong id=\"tensor_prod_with_sum_04\">tensor_prod_with_sum_04:</strong> <a class=\"ProveItLink\" href=\"../__pv_it/demonstrations/472413031c9e5039561c8d90d4a887894d6ac5d10/expr.ipynb\"><img src=\"data:image/png;base64,iVBORw0KGgoAAAANSUhEUgAAAP0AAAA/BAMAAADZO9NwAAAAMFBMVEX///8AAAAAAAAAAAAAAAAA\n",
       "AAAAAAAAAAAAAAAAAAAAAAAAAAAAAAAAAAAAAAAAAAAv3aB7AAAAD3RSTlMAEHaZZquJVO8y3c1E\n",
       "Irudu/YqAAAACXBIWXMAAA7EAAAOxAGVKw4bAAAFgklEQVRYw7VYYWwURRR+u3fdvbveXjdtivrD\n",
       "9gRb1FQ5FYjpD3tqjIn+4KwaMf5gaaQJEuA0kTSoaTESE9Fw9oc1JML5B+yvokJMJNoLUSsJSQ81\n",
       "jfqnh9HEHyK0gNBaWN/szOzuHO32LsxOcjf79r28b+bNe2/eW4CbHg/Qaer0EwFCymcQ0lCP0vmH\n",
       "eStI7L6w8CfLdD4VLJaywoFX3mYPpybMQLl3wsGPMPPDd2eeDxQcMEPBP1TwHgMFE5lQ8I/zhzy0\n",
       "l4IE9WthwHta52C6HCj6TRj4iQp/uh86gkUHC2Ecf54/rehcJsJiYTjApjoi5UII0X+xdtnkJfn4\n",
       "0bk6hPfJx0/VY9OesnT8pkodwoNZ+ZdPPbfKdE46fg9JeY22b6QDAnBIOv44uVR0m3nh7Sc32gEY\n",
       "qRnp+PM0Ccy7L568ElCpXJENb1ynSdj2TvbhgLviomx8pjFue6klIgZZ2f1DsevSa79ZOq+xPVQh\n",
       "yFTnejjJkuW89OKHnWjKLlaz1m8m/7vwtwpUtiZbevpjjq/srz5a7QVS7ymkODsMwIrvsYASTO3v\n",
       "v8OjOvv7zCWZHtXIq49JO18V62+cJfZhG3+MRWt5Ue2Ob6DGZrd+GjZB6VqK6aNiPKI1e09VYnQA\n",
       "Ynw1FO58aTHtzjiIS1P+5gjn8K+ttDjTTzW518/4f6K+l53/1xnVSO2wKX+jdmVVFhpMyGwHaNFM\n",
       "pTMLRyCilUHJbIbmlyCe0T/hTGjuuK0/71IC/q22cBM8/u4zjhNS/aDlfPhcOxwYNbKg6UOwAdSy\n",
       "VlYyikWovXAvbIcWWAHWADRUkgucCRm1N1J0KQHfzcFs0MA8htBJzMhR2iT0OGbg2pXPd2wBGIkU\n",
       "4UVoANj6E0BuBNuJXZAD7eMMNMTz3RBLw9ecGS1HZxqynCKq2r3rv+eq36UMupojRD9i60M+fKYd\n",
       "DBPQCCYivAUamgU1WoQaAdzbOly5ggxsLzKcGXeaHU45+N5tkxBuPp0u7D2qH+KU3OmIMO2kZDUd\n",
       "T8XFRrB/3gqQgUET0jgZ/QV8p8/AXQBpl0ms4YmK+IaQ3LQixycaITnkw+fawXDIblAvIGVYaglZ\n",
       "3WR9GZiCLnyH2/0T4iWXib2uYnqUgK++LySmHLc/HFfQHEUBn2qHbwFZiJCqPBLPfwjQlcwjpZdh\n",
       "JG6BWpogWg6joTizrbTRR4n+B5NCdxGjh/E7+v8CWjpa8Z0/167nidvhWXxkWdCFp6Jitt4GP+LD\n",
       "9/h+tQVaJbkXTgNnDn7wEEy4lIgfF+/2aRreW8jR/4xnZvnwufaDOzpH8am1783eAqRIUnkaJZ8l\n",
       "MiRDtOK5PdjXuh5pxmxZqa/Nu1RV/It11yCdDuCPKEyUfPHPtVv6Pl/D+mghfqdX1t8Nw/57VGD6\n",
       "qJiL/4WY/taxoGCH8hv48au10zz46mpfAN+y8pWlmR6V4Pk/JdTheu5Ltg/W8q2l0/nCotpv/v6F\n",
       "bm95uMfEWf5R5ByNTba6MdkNSGSB7dMLvijiR1dxoDa6TEbul15/Xboh+AbEAjVNMz4dV6W3n/9S\n",
       "FC/4WgJqXEN6/Ze8LAaf8Zo9t6y0zPafVh3jJ5zx1afYfxUDrDUrvf8Zc7zQ3/8F9LiROen4dbX0\n",
       "jfI/wGyop6VvKkrHn67nm9YhSzp+rJ4trZH/AVCrp6X/S/73J4OGlFKLGyqX5ePDCWoGnoCUpyR9\n",
       "q6s5AMSdD98TEH7FEPDbq3x6d0CsZEPAj5AKONlRC/7OEOBBIQ7Y3GRG/sHxRxC+MhsGPmlQ4Mzu\n",
       "GvYfKYaCn0jTOn9Z/OlSKPjJa2jamcLy9n8OwhnbsN49mll2/9E9IeGn0qD08iwwNd63hNgvhZDw\n",
       "ldGaxI5BWOPXmla5hPf9D2KFmcvM+DgiAAAAAElFTkSuQmCC\n",
       "\" style=\"display:inline;vertical-align:middle;\" /></a><br>"
      ],
      "text/plain": [
       "<IPython.core.display.HTML object>"
      ]
     },
     "metadata": {},
     "output_type": "display_data"
    }
   ],
   "source": [
    "tensor_prod_with_sum_04 = TensorProd(u, v, w, x, VecSum(i, Function(f, i), domain=Interval(one, five)), z)"
   ]
  },
  {
   "cell_type": "code",
   "execution_count": 21,
   "metadata": {},
   "outputs": [
    {
     "data": {
      "text/html": [
       "<strong id=\"tensor_prod_inside_sum_01\">tensor_prod_inside_sum_01:</strong> <a class=\"ProveItLink\" href=\"../__pv_it/demonstrations/3571673c8402acb25f8838cc75748f9192612d790/expr.ipynb\"><img src=\"data:image/png;base64,iVBORw0KGgoAAAANSUhEUgAAAHIAAAA9BAMAAACD/SD3AAAAMFBMVEX///8AAAAAAAAAAAAAAAAA\n",
       "AAAAAAAAAAAAAAAAAAAAAAAAAAAAAAAAAAAAAAAAAAAv3aB7AAAAD3RSTlMAzXZEVBAiZjKJmavv\n",
       "3bukDcS4AAAACXBIWXMAAA7EAAAOxAGVKw4bAAAC6ElEQVRIx+1WXUgUURT+Zndn3J1NraceGzSs\n",
       "MGiJXgKJ7aGXfnATi9LIpaKoh7SQgohaJCKhcBELFommKCOi3JfooUCRfHYhgiBKIZIgMPvRjJTp\n",
       "3Dt3/iypO/TQgwe+u2f3O9/Mufeec+8CtikIa+vCCqP1YZUNLWGVRlhlLBtWeQRhlZ2F/p6wE23N\n",
       "hBSWDdzGov0/tsLy7LOUst7K8U/1YO3IrJQyaZXcchhNS0lHf7iuPial7LLaXL+Pj9qCsZozcCdi\n",
       "TXvly8eVCyo5EzVsAB/n5rV5/leJXsgIJmJiFbkM2GeZgaidv3lZ7+W0YMrzUOgpDIhaXwNRdz13\n",
       "TaHb7ttnmzIeU2baAG7MBtp60PU6MlCr+dSmAsywABRrqX+a7pf4OA37UzQkSgFmuQDUke/+xaBl\n",
       "UKsedfZAT2ShmlcptaevTME0sIx7BbwKtG8Y2l4dtcYD1OAamrCXfqs0HCZfR84JAQq0hj1lOa3i\n",
       "KZzPPEYRiYsmkux8ywkmnr5JznYBVoG+LllCE8uBBVBy92mOLCmHUTHEyk6APbMUVIIHmNAKOcoc\n",
       "uO4yMbbKdQJka7PBbBGdxi5SHkU1V35wGaVIO7gDNihuxre2FQbUt8lByvVCPI9IaoPIgDNoSdEc\n",
       "zsEG5ezvy0QRsZmmwWgakY2syClS++Iw6NJoge/BBtQhfwnFS1BvGVvbyWWV0EzZxSYdBsnT5DwX\n",
       "gBKs+Jde061GB2tevRhgtJINYCLYF2c8t7FqC43blHSA0dtsQH/h1SxfiOy8Fnvj9J1gjgvgrBfZ\n",
       "zqc9/zQ62SccwYwL+LYkZrfRgQVPE85EsjbQ6m6J2m/KHH3elhwa8LfMn035tIzb6xHLmpM6bvt9\n",
       "98q3xWv2H9vu0MpupyYKT0L+hdOhl8IpK1PajJRgfdE5ATJyStWYwsMJsjbn4vlb0xq98CtyK1Rh\n",
       "uA95J7cwLXucbI/hsJRys+688v2lO1LK5hrnKrKsSQndT8D90zMhEDaqAAAAAElFTkSuQmCC\n",
       "\" style=\"display:inline;vertical-align:middle;\" /></a><br>"
      ],
      "text/plain": [
       "<IPython.core.display.HTML object>"
      ]
     },
     "metadata": {},
     "output_type": "display_data"
    }
   ],
   "source": [
    "tensor_prod_inside_sum_01 = VecSum(i, TensorProd(x, Function(f, i)), domain=Interval(two, four))"
   ]
  },
  {
   "cell_type": "code",
   "execution_count": 22,
   "metadata": {},
   "outputs": [
    {
     "data": {
      "text/html": [
       "<strong id=\"tensor_prod_inside_sum_02\">tensor_prod_inside_sum_02:</strong> <a class=\"ProveItLink\" href=\"../__pv_it/demonstrations/86717e5f6f897400a65777e883876bafa21baeb90/expr.ipynb\"><img src=\"data:image/png;base64,iVBORw0KGgoAAAANSUhEUgAAAHEAAAA9BAMAAABoypv0AAAAMFBMVEX///8AAAAAAAAAAAAAAAAA\n",
       "AAAAAAAAAAAAAAAAAAAAAAAAAAAAAAAAAAAAAAAAAAAv3aB7AAAAD3RSTlMAzXZEVBAiZjKJmavv\n",
       "3bukDcS4AAAACXBIWXMAAA7EAAAOxAGVKw4bAAADKElEQVRIx+1WXUgUURQ+u85Mu7Ou2kP02JJh\n",
       "PwYt0UsQaQ89RImr9GIbuvRD9JBtUgQSJSJRUbhJBYtEI4URErsEvUUumz6vUEIQafhgD4H9mGWk\n",
       "TOec+buDSM7QQw8emDtn7tzv3O+evxkAQwLgV3b4BZY1+kU2t/lFxvwipZRf5Cnwi7yezd3xe9Cz\n",
       "CZ/ANcOPYFX+H9mgO/LNE7JR7+K7fLy2tOAJGdHH7HSYrPcEnfxtq+oHT8hePW3rgzymlluq2AMv\n",
       "Ceo/nPTliWU5b+LGE8NhJz9/XnS/P7AUomaplKQMmtVgM1lnnkd1TVwlVy1F9t8kHk14RTMQICvr\n",
       "eHv9u8u+c+yt2T6jbEf20v2xeSTaqJPVBwtiWZfbWncC5Gq2PcfPBXN+lFYxJKCLBPdZSmgah9Y4\n",
       "DmEOuWStWk8YZiaXfgnIJzixLQ1JUMMpkLW7SO/FOyKoooOaiXE/Gcu7MtCyGJYKcAVq4B4cgRac\n",
       "qoyBuU1mDyrn6LAGAVUfdZBvAHrUMXgJeQhf1SBC7Y0NR+shVD+AyiGibh56UqiSVwCJ8hgUAckN\n",
       "4f7EyXBdHGScxqwjJ3wxe+aYCwl1idA8aKBku0DFx/sWEiTyMjEuM/fcnnKxhQEIFhB5GqoZ+QlM\n",
       "thDIYzQaiK2xV9m84NspXlqRh55QBoLxXfhY5BcV6Ke2OJ7hMnnIKKteMcfJ50NQl4bgbkpyXKnM\n",
       "8gsKRK+S5rhxiDB8RTH7buGV7Mshf8qEJLKTDG+EkGDkIiqviXqcA+XK+CiH4DYx2gLdlCqqEXV4\n",
       "a1YpHfEMqzPuT4wG4Sp5hNTDG/fjeDBgHqZTKAnOfnXc+QLTMA3RWCTjmJpoMpUKIwLttC876JIT\n",
       "kvM0tILU8VAg0TFoVa7hz2nLiBASI6WU2HLd5Bg3GwLVcP7YIZFzmpfW54TkxLBYMn+XwNe1LO9L\n",
       "ur7oqd3mhO/Kz9XP7L8VOeUXGbaSraX/uU8TGjz1iZw1++qK/+BrLe2CR2RzZUKdQflo99WVyskG\n",
       "Ww2NezvelK21e/s7lue6TLaKpngKrVRlNYL2azc8bSo/szbC0vYC/AOCGdifOebffAAAAABJRU5E\n",
       "rkJggg==\n",
       "\" style=\"display:inline;vertical-align:middle;\" /></a><br>"
      ],
      "text/plain": [
       "<IPython.core.display.HTML object>"
      ]
     },
     "metadata": {},
     "output_type": "display_data"
    }
   ],
   "source": [
    "tensor_prod_inside_sum_02 = VecSum(i, TensorProd(y, Function(f, i)), domain=Interval(two, four))"
   ]
  },
  {
   "cell_type": "code",
   "execution_count": 23,
   "metadata": {},
   "outputs": [
    {
     "data": {
      "text/html": [
       "<strong id=\"tensor_prod_inside_sum_03\">tensor_prod_inside_sum_03:</strong> <a class=\"ProveItLink\" href=\"../__pv_it/demonstrations/17c51b51cbc9d1199104b503e843f63fdf0820f70/expr.ipynb\"><img src=\"data:image/png;base64,iVBORw0KGgoAAAANSUhEUgAAAHAAAAA9BAMAAACHCPDKAAAAMFBMVEX///8AAAAAAAAAAAAAAAAA\n",
       "AAAAAAAAAAAAAAAAAAAAAAAAAAAAAAAAAAAAAAAAAAAv3aB7AAAAD3RSTlMAzXZEVBAiZjKJmavv\n",
       "3bukDcS4AAAACXBIWXMAAA7EAAAOxAGVKw4bAAAC+UlEQVRIx+1WW0gUURj+xt0Zd8fUooceWzIs\n",
       "KWiJXgIJhXqIDFeRqAxd7CL1kFsEQUQsElGQtEgFi0gTlCFB7nuBYfnsQgVBmCEoSWB2sYyU038u\n",
       "c1lFcoYeevCH78x/Zs539r+es4AUDQFlR0BeqD4gsbE1IDEWkBhOBiS2IyDxRnbgdkAnOxLBeMWD\n",
       "D7Aq/4FsZK589UOsZ2nx1I9vG5n3QyxheacKxmr8MMd+O6r5wQ/xFks5ep8Yk8stNexBKEXsh1uy\n",
       "4sWyBm8Wp0xMAvi8UPh5/1KGmeXNE87Qrha2kMqBY8zyLtLXLiX23ORWNBBKM9BoEw6E2PeC3V2X\n",
       "q7Ldsk1f7uHPR8ofSwK4N+/t4jWO1pmAXiHcmhXz5+r9sAI05rWu1lYikzS0xGmIilSH7VUbFKCP\n",
       "/PIQ+zlnNN0OM5qEbt0hu56945aZFJtGbm6Pglt2zn4NVVM5VOIujuIITctF9DVyPlNNyjkF2osN\n",
       "u8TXhJOIJpBD9JqFEn6SiX1LaxCpuU9KnQIvO09fvBDWk4Vk2WPyj1skoxaHjiFeawp8y/wiYhvB\n",
       "gpFNwySt1yYizONbrUCyPVloaiiFBBFPo0IQP0GZCi1HmTsICVo354nqOGEvyMOrkQyK4rtoOiQ+\n",
       "lFGIWuPkwBVIkMHesqZAR6bGe9Mo2s3rmhYa38SHaI5WGimZsH4RiSFvyXXxgNStJ40XQDOZFp6R\n",
       "BUGBKLlIyisFaAVFXurktHgrOnnhmjk5f6u6Mi8BTBdeI+42TZv20XhAU55ccrtAdIL5xr1goSz0\n",
       "yvsGpZTJ2J9VwGU3Fxf40LKIeL7P7lR5JE0qeHIRFo1jxJY7OtrEyZKUQIeTC33A8nHIubk4Meht\n",
       "kr+K9mWdkNERxhb8HKsDnrvj5+pV+s/kUFBit10K2afB/peZMPOBiOVxY87P+p05u4MTvoh6bBZP\n",
       "pklS9uWyQjGa3NVdvoJT5vStMeErJq2HbVPP4JQfYq1p/+DH6w/9EJsr7TucsZmV0/4AYeHQgnr5\n",
       "5qoAAAAASUVORK5CYII=\n",
       "\" style=\"display:inline;vertical-align:middle;\" /></a><br>"
      ],
      "text/plain": [
       "<IPython.core.display.HTML object>"
      ]
     },
     "metadata": {},
     "output_type": "display_data"
    }
   ],
   "source": [
    "tensor_prod_inside_sum_03 = VecSum(i, TensorProd(z, Function(f, i)), domain=Interval(two, four))"
   ]
  },
  {
   "cell_type": "code",
   "execution_count": 24,
   "metadata": {},
   "outputs": [
    {
     "data": {
      "text/html": [
       "<strong id=\"tensor_prod_inside_sum_04\">tensor_prod_inside_sum_04:</strong> <a class=\"ProveItLink\" href=\"../__pv_it/demonstrations/cc7b7ee5884cdf005f83816ce20b8059543453520/expr.ipynb\"><img src=\"data:image/png;base64,iVBORw0KGgoAAAANSUhEUgAAAHUAAAA9BAMAAABhITuOAAAAMFBMVEX///8AAAAAAAAAAAAAAAAA\n",
       "AAAAAAAAAAAAAAAAAAAAAAAAAAAAAAAAAAAAAAAAAAAv3aB7AAAAD3RSTlMAzXZEVBAiZjKJmavv\n",
       "3bukDcS4AAAACXBIWXMAAA7EAAAOxAGVKw4bAAAC+UlEQVRIx+1WT0hUQRj/3N3Z3bf+yaDo0KFF\n",
       "S2rtIOGlU0YUFISPqIMWslARHXI9VIcKWkSignCJDEyiV4dCRFwCMbq0WB3DPeShQxiGdrNN07SU\n",
       "18w3b+bNLntwBrz5Heb93m/nN/PN+/7MAnCrBWMLFMy1zeZassdcGyDm2mPm2nCXuTba/2Slxdjp\n",
       "8KJ5jG7+Nd930zbadrm+zWtqW900L6XzjROrmtpKNy9gZEo3Qab+SRj7pqntdbskfoljUvk1WUoU\n",
       "/RBwlyQRQULxnOMDZbSc+7lWzB7HcbBP4AQEusq0GuTOuU5R78J2a735IPAXgO1lNkYu6P5WuRgu\n",
       "WHVkRmKAG/yxr/+hLedx7tmqrWircDxk+5g+8a3bBlLvz0OuwlVvhcM4PlUwncH2j87SoaMJVA7I\n",
       "xIqiHcQ+8umth0mCzrGy7ABWEojTB6Ru9N4jj/PzEm0HjvMCW8EcjR1zrAEeQzu0QQwa48MeR1d0\n",
       "P/raz9j7lgXuidE5IaqHLFh3HKiE63DbHvM4lpdKBb1nQ6ggsF0Vp0dlrxmAIeoHpOE5Nmavpafy\n",
       "JVorL3Er/Z7Mb3Ag3J+mHgOMY2i9ffcnS3yuyUq8k1A38qi9DPVMG1yCMx5HX5aV7zyNwYsLTBYs\n",
       "+l1YgfVEMxBoaibfK3PM/wgvul61bgfwEE0CRwuX6MfMsAw+SIfdmdByey7Y4nFAxtWcfIBR8/EY\n",
       "jW81LsVy46xNXsRPXAXBVRTVQjWL9ZCCqV3hFboXuv2K4txcUX1EHAhlt0mM9oo/Ttcd9echF5uU\n",
       "7yHuWvWMSPBZfkuW6UWcu+UHiJ0DOiCSEFQHjjVlmg5ySoB4moXjyuqIG8qUPnIpGSAy4mj+PZIB\n",
       "uvBOLaf1WMWvrWhfJ1x3TbM9jyj30Z/N63njjCTNtZZIwbaBUeNFHBg21i5ASjMng40CXdPWntpi\n",
       "x+ao/ZAX2Prt4kn/L/ik7jGnJeq0dcO7mPZ8DjthzVCHakWz6Lx7X3Nj8lpsRotfT/of4qTZtGJR\n",
       "kmkAAAAASUVORK5CYII=\n",
       "\" style=\"display:inline;vertical-align:middle;\" /></a><br>"
      ],
      "text/plain": [
       "<IPython.core.display.HTML object>"
      ]
     },
     "metadata": {},
     "output_type": "display_data"
    }
   ],
   "source": [
    "tensor_prod_inside_sum_04 = VecSum(i, TensorProd(Function(f, i), x), domain=Interval(two, four))"
   ]
  },
  {
   "cell_type": "code",
   "execution_count": 25,
   "metadata": {},
   "outputs": [
    {
     "data": {
      "text/html": [
       "<strong id=\"tensor_prod_inside_sum_05\">tensor_prod_inside_sum_05:</strong> <a class=\"ProveItLink\" href=\"../__pv_it/demonstrations/99b5599a157dc157032ff75f3639abf914f9ef830/expr.ipynb\"><img src=\"data:image/png;base64,iVBORw0KGgoAAAANSUhEUgAAAJAAAAA9BAMAAACw6v27AAAAMFBMVEX///8AAAAAAAAAAAAAAAAA\n",
       "AAAAAAAAAAAAAAAAAAAAAAAAAAAAAAAAAAAAAAAAAAAv3aB7AAAAD3RSTlMAzXZEVBAiZjKJmavv\n",
       "3bukDcS4AAAACXBIWXMAAA7EAAAOxAGVKw4bAAADOklEQVRYw+1XXUgUURQ+s7sz7s5mFj302KJh\n",
       "iUFL9BJIbFAvZTiKRWnkYj9SD7mFFETUIhEJhYtosIg0RRkR5b5EDwWK5LMLEQRhRpEkgdmPZqRM\n",
       "596ZuXeu0z7kzEvkgbl75vvu/ebec+85MwtgmgQ+2WafdII1PgnVNfkkFPNJKJT0SagFfBLqyA50\n",
       "+xSkVs0fnaLBO7Bs/6GtM7h99SJUY6Tpr3ykcnTei1DUyLNTOZ7wojT+i7nqWy9CnUaK+f20VQr2\n",
       "VQrQFAoYszzlaLu+oBBlgjF3pabQ54VFVS7jVlCzmsUEdNjg5il0yNAFsPYPU+m9lrCY4gxI7pJD\n",
       "oaDxXQDvcbci22UOer5d40yRLpIMujkvPGKIee0ayGU0BjMCMyKQHJKMVc4QsZvwBDaH49hE8gKz\n",
       "ViAZBPLoT2dcMaJy6eOOblAjSZD1Hpz4s9e6xdSR5fWSG5sMj6VbTIiniRk3PFYqVMYeQjncgAY4\n",
       "iFhJzGYyVeicxouRtRWTORPCccYIFyrG/TkLl7QnkIPIFR2i5NWQtphw4hY61Xgx8hhENBMiaeLI\n",
       "+xW47jSQ/riSBxgfMmWbkWGYJINAyj0WRJ6YF4WA9tdByaZxmQB9jAmR/asSyGawILRNSXFpEJyF\n",
       "fdj3BJTRvp8YI+VwHXupkEUGU2BB6M85dm1lDOT30SGc++VwBgLxrdb8KANNcVzTRbxh5E4SLwrh\n",
       "Ap11KJKD0FzDUDABgW0kT3Gg8s1moFPBrbtPct0iw5Pv+tImBPKw82CH8yDfju1uQ5ecuUacd2ja\n",
       "ZiB6Dp0XwMkIVK+xIUlM2le8qmyEdlKs1JzAKHkn6YCmxEw+z9360l3Y7pESAqOmHKQDUl/yPKMx\n",
       "TS6qEW/swmIxp9xlhkIX+MA2GrLFlftMv+VYzIRbaELc+5BZJ5oLllrKBJIunEKtbO/lAd3DS4Tv\n",
       "/dFBZxH4a5O+rKY2NmoYC15eawOOd/+P5U+hf8b2+yXUZR/N7FN//keooOZ9ESqJK3Nexm/J2fVQ\n",
       "8yQkx2bg0RRayv5WWKIp9Xz0dU/BXsk+CZUPnmLcdMBe2kk47kVoh2pP6OPVu16EGsvtrwfDmF66\n",
       "zG9wW/EcLhpCZgAAAABJRU5ErkJggg==\n",
       "\" style=\"display:inline;vertical-align:middle;\" /></a><br>"
      ],
      "text/plain": [
       "<IPython.core.display.HTML object>"
      ]
     },
     "metadata": {},
     "output_type": "display_data"
    }
   ],
   "source": [
    "tensor_prod_inside_sum_05 = VecSum(i, TensorProd(x, Function(f, i), z), domain=Interval(two, four))"
   ]
  },
  {
   "cell_type": "code",
   "execution_count": 26,
   "metadata": {},
   "outputs": [
    {
     "data": {
      "text/html": [
       "<strong id=\"tensor_prod_inside_sum_06\">tensor_prod_inside_sum_06:</strong> <a class=\"ProveItLink\" href=\"../__pv_it/demonstrations/16fc1c1d157b87468f59abfca36ef71dd70e9ae50/expr.ipynb\"><img src=\"data:image/png;base64,iVBORw0KGgoAAAANSUhEUgAAAKsAAAA9BAMAAAAg+YR0AAAAMFBMVEX///8AAAAAAAAAAAAAAAAA\n",
       "AAAAAAAAAAAAAAAAAAAAAAAAAAAAAAAAAAAAAAAAAAAv3aB7AAAAD3RSTlMAzXZEVBAiZjKJmavv\n",
       "3bukDcS4AAAACXBIWXMAAA7EAAAOxAGVKw4bAAAEBklEQVRYw+1YXWgUSRD+drK9mZlNYkTERxfj\n",
       "z2kEF7kXQcwq+iAq2QQf1Bw66IkoXNwLJ4KILqKiomYVFZcgjiiKqGQRfJMz5PQ5CyocHF4kQkQO\n",
       "/M+dh8pY1fO72YABZ55MwfbU9FR/XVVdVV0sYFMMkdCCSFBrWiOBbd8UCWwqEti4EQnsNkQCe7TY\n",
       "eyYS5+7MRoFae+8KJmiCIqDplk9vw4NttfLyKbY0D3wKDzZplb2cGMyEhzv40WP1p+HBdls5j78q\n",
       "R2N8CxPeMIrkesX61y8NcmKcrpgpb6tU9YeFcnz1uXJ25dfw9CKXu3iBNDAxp/q7Is3/yTKDk6Lx\n",
       "a7A9x9meNvrVFxAbo6JOlXZY7yt08V2tFIuz/A9zi6dtiPtL+HnN8ZtZLbpHjhc/BXes8ziVBNvT\n",
       "7tuBLESTVGNEvvc58w+qReskXswK2r3U407SkYpn7h7DNGzklZoM9Li7ZlqVKGLSYDHwfwD2OrcN\n",
       "zeuKGZjngA1aVszLoQO6ZkCYZ8nqu3+x3TqdWDs7oocXOaJQn+S30caligT2djeV23pZMTRDmKKg\n",
       "xfuwH7NxDhuwnj5OSrkaFRYT8yt71hFF29wXBFlrW6JbD3zYRzRt1I4kc0ng/A6gdFAv43eUoB02\n",
       "keTbVOpQn4GauUTMaq4Ajii2glRG3PH7YKB2/UF+hE77abQfbV3I1qXQD7L5hpyD3a7VpSFomrIU\n",
       "vig59Cyfw2vnOi9XwNIiMlQHtp8nh6Alq36gR6KY5zlccGER55hgR3ii2CxjxdF2vlHhBKDFEFkd\n",
       "iYKSJtlLUProsR1NEvYfOE5ArEQWr5GwjmhNDuwEW8uaD4FIGOI4ukt2qZmjQFNNhnAaSjioFqCk\n",
       "fySBfinWQPZsSpPZ+9hqV3Q5Oxi1diXsDhYXCpjWQzdBAE2c9SvZpy05KIu4utBM4p0U4yDqTuTs\n",
       "gHRF1RdDF/J28JGb+4PJe4IicEb8Gu3UwDF+B+g43Uscp0MHW2ifh0qGJncT81DqbotqWD2FHSTz\n",
       "LVZRaur9GO7Kq3aBOsXJ/wMOcPbodqzjT6fqlitFmX6R48vKdszfRCybSeppjeI+v62dsYLGVbFM\n",
       "sJ64lckWdUhWIf2x3z7zMDyqzNWnkgX/7e82h2mwo6dzjGtDntheP7p+42Hj6Fa963Lgreuqa4p9\n",
       "3MPVsHLDQHTZSZdIje/SkZGvjHHxzZYZ5kWX6DVDu3j96Pr5XrCQfSPF3kyW9GTAsj6H1yb0Bnqw\n",
       "/yZa0u+ZhBEJrObm6vqeO1Hgm7gVBew7pwMI51+aZpfbFSZs+6Ss/pLoudcBhEJb1/iN5+MQXTrk\n",
       "cZ0h/lUhRvKOExJmIrwQjje6V0LnkWPhqStuuypSHQ8N9QuDzxUkoAvbMQAAAABJRU5ErkJggg==\n",
       "\" style=\"display:inline;vertical-align:middle;\" /></a><br>"
      ],
      "text/plain": [
       "<IPython.core.display.HTML object>"
      ]
     },
     "metadata": {},
     "output_type": "display_data"
    }
   ],
   "source": [
    "tensor_prod_inside_sum_06 = VecSum(i, TensorProd(x, y, Function(f, i), z), domain=Interval(two, four))"
   ]
  },
  {
   "cell_type": "markdown",
   "metadata": {},
   "source": [
    "Upon implementing <a href=https://github.com/PyProveIt/Prove-It/issues/28>Issue #28</a>, or something along those lines, the following should not be necessary:"
   ]
  },
  {
   "cell_type": "code",
   "execution_count": 27,
   "metadata": {},
   "outputs": [
    {
     "data": {
      "text/html": [
       "<a class=\"ProveItLink\" href=\"../__pv_it/demonstrations/6831236189885d0d2c1581f2f6d2c98b07d2eb7d0/expr.ipynb\"><img src=\"data:image/png;base64,iVBORw0KGgoAAAANSUhEUgAAASoAAAAaBAMAAADyGQwFAAAAMFBMVEX///8AAAAAAAAAAAAAAAAA\n",
       "AAAAAAAAAAAAAAAAAAAAAAAAAAAAAAAAAAAAAAAAAAAv3aB7AAAAD3RSTlMAZkRUmRDNuyLviTJ2\n",
       "3asqG0tJAAAACXBIWXMAAA7EAAAOxAGVKw4bAAAClElEQVRIx82XPYgTQRTH/5tsspvsRu/8aA8r\n",
       "CxEUQQubi4UgFrKVh83dihwoyLEq8SwUYnWVGBTthFjYqQS00EKNEFELg6AHKgb38Kuw0RM/QAvf\n",
       "fGxud+8IycE7HNi3s2/mN7vvzcybt0D/xV7bbgArBKzpl1lVd2sDvWR5QFnUsuV+GadRfD7QS5YH\n",
       "zIja/ri62hVLltJQWsMAGE26H4vp3K1Cbk71NI5M/3wturlH04OwALO0wNTM770m5E66WnDTBlp2\n",
       "mJmrUGWs2dUxAm3ArAtt8ctFkjmfxBtgchFTR3BfzPufSMUJTHhYvUFoC9vEh5rahHVLMHvyONCw\n",
       "v0UqTiA/hAee0G6RshCN4Kn7407H7zIWSp5xKRqGEzADPJOtN6TcoZm8smjjo5glH8fhXG93Nw8n\n",
       "QDHrk1COXPkgFyRNfIv6F0MZaCdj/nVOHI57nBXI/MC0rPyV8iB1z9CeNKRX89UF5vK7t15iIXAC\n",
       "tOKn5EerrfICuGVS/6yMFvnYWry63k8eWJyAPY+X8tT5Kh8vAF6BAoYjH+92qATav5XhxEtYgdy8\n",
       "8pU+rojBKPkxIy0Zi+/b21ZiQlgBW8+gFUb+xVSODJNDlOKMeSdIxBdOwPmNzzJ8qIPhtPBekdai\n",
       "bHebMSYXPNTuBTcg9uBTcT8vAzxuigk/G51COLTAlDFsqT4TPjcAo6Zi7qh6vEfXHEWTkmoeP+5F\n",
       "J/qvqnXyu0o1ZsEMwAxREO37dHKj09Nz2oJNZzr+ogxoO7gBCvzky2yoPWnotHRXr3yRfM8MUM7g\n",
       "1FCqRN97Su3MoAeSoxXKC2CErvcwWlHkVwHEqvZAXGExK4BXqbzdllv1yQC/SgyAzNuzdfxfZWaw\n",
       "/8EVKruBf51CTWKugGsaAAAAAElFTkSuQmCC\n",
       "\" style=\"display:inline;vertical-align:middle;\" /></a>"
      ],
      "text/plain": [
       "(f(i) in Real^{3}, f(i) in Real^{3}, f(i) in Real^{3})"
      ]
     },
     "metadata": {},
     "output_type": "display_data"
    }
   ],
   "source": [
    "i_domains = [tensor_prod_with_sum_01.operands[1].domain,\n",
    "             tensor_prod_with_sum_03.operands[1].domain,\n",
    "             tensor_prod_with_sum_04.operands[-2].domain]\n",
    "judgments = []\n",
    "for i_domain in i_domains:\n",
    "    judgment = summand_assumption.instantiate(\n",
    "        assumptions=[summand_assumption, InSet(i, i_domain)])\n",
    "    judgments.append(judgment)\n",
    "judgments"
   ]
  },
  {
   "cell_type": "markdown",
   "metadata": {},
   "source": [
    "### `TensorProd` simplification"
   ]
  },
  {
   "cell_type": "code",
   "execution_count": 28,
   "metadata": {},
   "outputs": [
    {
     "name": "stdout",
     "output_type": "stream",
     "text": [
      "Help on function shallow_simplification in module proveit.linear_algebra.tensors.tensor_prod:\n",
      "\n",
      "shallow_simplification(self, *, must_evaluate=False, **defaults_config)\n",
      "    Returns a proven simplification equation for this TensorProd\n",
      "    expression assuming the operands have been simplified.\n",
      "    \n",
      "    Currently deals only with:\n",
      "    (1) simplifying a TensorProd(x) (i.e. a TensorProd with a\n",
      "        single operand x) to x itself. For example,\n",
      "        TensorProd(x) = x.\n",
      "    (2) Ungrouping nested tensor products.\n",
      "    (3) Factoring out scalars.\n",
      "    \n",
      "    Keyword arguments are accepted for temporarily changing any\n",
      "    of the attributes of proveit.defaults.\n",
      "    \n",
      "    'shallow_simplified' returns the right-hand side of 'shallow_simplification'.\n",
      "    'shallow_simplify', called on an InnerExpr of a Judgment,\n",
      "    substitutes the right-hand side of 'shallow_simplification' for\n",
      "    the inner expression.\n",
      "\n"
     ]
    }
   ],
   "source": [
    "help(TensorProd.shallow_simplification)"
   ]
  },
  {
   "cell_type": "markdown",
   "metadata": {},
   "source": [
    "First test out unary `TensorProd` simplification."
   ]
  },
  {
   "cell_type": "code",
   "execution_count": 29,
   "metadata": {},
   "outputs": [
    {
     "data": {
      "text/html": [
       "<span style=\"font-size:20px;\"><a class=\"ProveItLink\" href=\"../__pv_it/demonstrations/69b818e5ab2a8afc180d22a4e2534dbd4afed1660/expr.ipynb\"><img src=\"data:image/png;base64,iVBORw0KGgoAAAANSUhEUgAAADwAAAAUBAMAAAAjLUMaAAAAMFBMVEX///8AAAAAAAAAAAAAAAAA\n",
       "AAAAAAAAAAAAAAAAAAAAAAAAAAAAAAAAAAAAAAAAAAAv3aB7AAAAD3RSTlMAEHarMolUmd1mIs3v\n",
       "RLtmgJDEAAAACXBIWXMAAA7EAAAOxAGVKw4bAAAA/UlEQVQoz2NgwAm4pik74JZlYA5gOoBHmsWB\n",
       "tYEBH+CYgEWQc8+73z0vgQymTVg18XEZ8Fo+BDLkFLBLBzA8cAbZ/gWXdBU3g4wD109kYaYXHd1w\n",
       "aT4GDgHOg0iyvJsEELoNhRlYgpQXMDAIKYuEJoBEVwsgDGd5tgvKKWAyYgd7fxfC7tP9TVC1nAs4\n",
       "PzKDvb8BIR05EcZhYWCHMFlOdHR09EENfzgT7iQeiOcZHyB5zJ0P5hCG+wsYwewGJGl2L6hiuQs2\n",
       "DKxglhKSNOMDTQg737GG4RqYxZ0Aly5gmMl3AcwWV2KrhIgz2l2Exdi/BXyvv6GHNW8cJFCRAABM\n",
       "3zydJQQu6AAAAABJRU5ErkJggg==\n",
       "\" style=\"display:inline;vertical-align:middle;\" /></a> <a class=\"ProveItLink\" href=\"../__pv_it/demonstrations/d93cba3651ece21eb9f7e8409f36aceb36e3575f0/proof.ipynb\" style=\"text-decoration: none\">&nbsp;&#x22A2;&nbsp;&nbsp;</a><a class=\"ProveItLink\" href=\"../__pv_it/demonstrations/2ad7bdb22c7cf5e6e436a186ed2e223d20a081db0/expr.ipynb\"><img src=\"data:image/png;base64,iVBORw0KGgoAAAANSUhEUgAAAGAAAAAVBAMAAABLWfZ5AAAAMFBMVEX///8AAAAAAAAAAAAAAAAA\n",
       "AAAAAAAAAAAAAAAAAAAAAAAAAAAAAAAAAAAAAAAAAAAv3aB7AAAAD3RSTlMAdt0yiUQQuyKZq1Rm\n",
       "783Oz3p0AAAACXBIWXMAAA7EAAAOxAGVKw4bAAABg0lEQVQ4y2MQUmaAAhirAUJxMGAHruhMxg0Q\n",
       "HqsAkRq2wLgyxGlgewDj8iXg1MDo4iIG08B5ACbDMwGXBmag6sQAqAZehNQ1XBrMgeHCVgrVsA8h\n",
       "9QaXhgkeDAyZLAkQDVOAOFEq2QUYVl5oStkEl5l4A1UxNrA0sE1gc4BoABk7gXEhpwIDwzkQf5IS\n",
       "CGiBvccgJTAJqIqLgcG5k4FhAUSDNtC3DTzfuIB+34tmwwmG8wlrgKpYgHoXMDBAbbgKDAQGTnDY\n",
       "2qNpMGCYB/YDJwNDizPQHXANwKACx3IshocvQjVwODAGwDRog4j4BjZgrG1C8wMD6w+GNKAq5g0m\n",
       "DAyirBsgGgoZGNID1oLcyXAcLZBKuS5AHC7qAIzsLdB4AIblfrO5DNHQEEYC3J8zL0CMZQdF3DKo\n",
       "BiNgnAhyzwElWVU0GyYK7DwNUXXQgFkGlpaYDGAKOBRwJj62jdIJMA2IJIdIhvjzQwWM205kBkqH\n",
       "cSuwa3BC5OmrEKdDsyZjA1b1ALswT/wI7whRAAAAAElFTkSuQmCC\n",
       "\" style=\"display:inline;vertical-align:middle;\" /></a></span>"
      ],
      "text/plain": [
       "{x in Real^{3}} |- [otimes](x) = x"
      ]
     },
     "metadata": {},
     "output_type": "display_data"
    }
   ],
   "source": [
    "TensorProd(x).simplification()"
   ]
  },
  {
   "cell_type": "markdown",
   "metadata": {},
   "source": [
    "Our next test will involve ungrouping and pulling out scalar factors but will not work without a proper default field specified since it mixes real vectors with a complex scalar."
   ]
  },
  {
   "cell_type": "code",
   "execution_count": 30,
   "metadata": {},
   "outputs": [
    {
     "data": {
      "text/html": [
       "<a class=\"ProveItLink\" href=\"../__pv_it/demonstrations/da1e0f8d4ccf84368f87bb754fce900091658cda0/expr.ipynb\"><img src=\"data:image/png;base64,iVBORw0KGgoAAAANSUhEUgAAAPAAAAAVBAMAAACK8n6QAAAAMFBMVEX///8AAAAAAAAAAAAAAAAA\n",
       "AAAAAAAAAAAAAAAAAAAAAAAAAAAAAAAAAAAAAAAAAAAv3aB7AAAAD3RSTlMAEHaZZquJVO8y3c1E\n",
       "Irudu/YqAAAACXBIWXMAAA7EAAAOxAGVKw4bAAADiUlEQVRIx41WzUsUYRj/zew6u6M726RYQaCr\n",
       "liassIR60ENWQocoVwsvQmyimxLW9kGIIW3RsWAxsIhKyUMEHTboDxg6lDeXIg8dYim8KazQRULo\n",
       "eeadnVmcma0Xnpn3+c37ez7ej+cdwNU0N4QC8N/oP75rPi6ADjckZzxHfqzu15sViQlxtVDKjd3x\n",
       "sTxQ1bEP64gle9thNyTlfUy/r+bXj1WnCylHn063mJ1uNxTwy+y0eLWnxx1DtubHCiaEiKaSi3qD\n",
       "e1k3FPZLKmx6WNAhxW3M1nxZ9y0x2yvagdImL3HeBeGun4k6TkrdokeTUQ7X1nxZH0yR2gZQoyMx\n",
       "AzQolECA9lb9BGozDoRePgGjXfZWlNoH8ARzOpQkT6lSgJS4DKl1ePGKrQkW0pM5x2N9NyRiTIJF\n",
       "CWUxBLmgFKSElBJJpGYRTjqQGeJqIbpdNsCcS1gzEOTp6cIMGnAAARyN9dmaYH03pMeafarIbrAE\n",
       "nAXL08AyxlADTH8FKBxKVc3006FyILyhJB+CBlqNOQ9QV0CIN0QSyssEWTiHIf2irZksGoVfcnnj\n",
       "qZk+1BSBWbDo4Rh9VmjGyAWlFzYgEaBmHAiPqFtCLXebOUfiqDuUIdQSzBE9NAvIob9CK7PQz33p\n",
       "Dz/ILnnDEkxZ0zXTyPo0kDAdI7QNuQJiE+EimnnH1Jrn4J4uZ2kIIpxxAlo6x8M5vwpNsDDF640V\n",
       "s2htY4mWfBWm9EEu0UAtJRvshaaaJ1WpgHjSmmO0E+zWj2gSLyjCZdPVOuLsKrKL/Y5msXDdKZyB\n",
       "PI7Ra07IBqLFk2pmEYhHaEyUxpLVeTgQfpKJDMZCdtHf4HmnSQ0WecXVFGTjs7RZkyXM0gRrHxmb\n",
       "cuIluxv0Oi+kB89SKcTJjMzFlU+IkteIYUO8/6Ox0ErAtnANq8mIIc4e5E98s6RCOw1ZCtPSBCtQ\n",
       "RPCE6mScjPy2zhlJ4/j8SA5RrhbDvPV49noGOb4yhOfUGZn+1ulY6G25MMErbpYNLhmNunQ8duuM\n",
       "rQkW0oMtgXGneo+27dLrnSWincqp4sp464Zqcz416Lsovp1YcOqyrXmxFDoU2rKQcjQ3O/TKwl8J\n",
       "OSV9T7MulIOtNyrAsuZmXcWhjLg8vC6QqMd/w5a3X61Y9T52sV5jlJ4/LHFdox7WmrwtR6v/+7hY\n",
       "t9sMKx7PTL54pBbztNxV/dfHmyUXTPkLm2zcGTFUiaUAAAAASUVORK5CYII=\n",
       "\" style=\"display:inline;vertical-align:middle;\" /></a>"
      ],
      "text/plain": [
       "u otimes (v otimes (a * w) otimes x otimes (alpha * y))"
      ]
     },
     "metadata": {},
     "output_type": "display_data"
    }
   ],
   "source": [
    "tensor_prod_04"
   ]
  },
  {
   "cell_type": "code",
   "execution_count": null,
   "metadata": {},
   "outputs": [],
   "source": [
    "VecSpaces.default_field = Complex"
   ]
  },
  {
   "cell_type": "code",
   "execution_count": null,
   "metadata": {},
   "outputs": [],
   "source": [
    "defaults.assumptions"
   ]
  },
  {
   "cell_type": "code",
   "execution_count": null,
   "metadata": {},
   "outputs": [],
   "source": [
    "tensor_prod_04.simplification()"
   ]
  },
  {
   "cell_type": "markdown",
   "metadata": {},
   "source": [
    "### The `TensorProd.membership_object()` method"
   ]
  },
  {
   "cell_type": "code",
   "execution_count": null,
   "metadata": {},
   "outputs": [],
   "source": [
    "x_y_z = TensorProd(x, y, z)"
   ]
  },
  {
   "cell_type": "code",
   "execution_count": null,
   "metadata": {},
   "outputs": [],
   "source": [
    "R3_R3_R3 = TensorProd(R3, R3, R3)"
   ]
  },
  {
   "cell_type": "code",
   "execution_count": null,
   "metadata": {},
   "outputs": [],
   "source": [
    "# So, this is interesting … generates an error\n",
    "# VecSpaces.known_field(R3_R3_R3)"
   ]
  },
  {
   "cell_type": "code",
   "execution_count": null,
   "metadata": {},
   "outputs": [],
   "source": [
    "# THIS HANGS FOREVER\n",
    "# this suggests it would be good to have a TensorProd.containing_vec_space() method\n",
    "# but this was working before implementing the TensorProdMembership class ?!\n",
    "# field=Real\n",
    "# temp_vec_space = VecSpaces.known_vec_space(x_y_z, field=field)"
   ]
  },
  {
   "cell_type": "code",
   "execution_count": null,
   "metadata": {},
   "outputs": [],
   "source": [
    "# VecSpaces.known_field(temp_vec_space)"
   ]
  },
  {
   "cell_type": "markdown",
   "metadata": {},
   "source": [
    "<div style=\"width: 90%; border: 5px solid green; padding: 10px; margin: 0px;\"><a id='demo01'></a><font size=4>WORKING HERE </font></div>"
   ]
  },
  {
   "cell_type": "markdown",
   "metadata": {},
   "source": [
    "A manual construction of the instantiation process for the `tensor_prod_is_in_tensor_prod_space` theorem from the `proveit.linear_algebra.tensors` package."
   ]
  },
  {
   "cell_type": "code",
   "execution_count": null,
   "metadata": {},
   "outputs": [],
   "source": [
    "from proveit.linear_algebra.tensors import tensor_prod_is_in_tensor_prod_space\n",
    "tensor_prod_is_in_tensor_prod_space"
   ]
  },
  {
   "cell_type": "code",
   "execution_count": null,
   "metadata": {},
   "outputs": [],
   "source": [
    "temp_self = InSet(x_y_z, TensorProd(R3, R3, R3))"
   ]
  },
  {
   "cell_type": "code",
   "execution_count": null,
   "metadata": {},
   "outputs": [],
   "source": [
    "_a_sub = temp_self.element.operands"
   ]
  },
  {
   "cell_type": "code",
   "execution_count": null,
   "metadata": {},
   "outputs": [],
   "source": [
    "_i_sub = _a_sub.num_elements()"
   ]
  },
  {
   "cell_type": "code",
   "execution_count": null,
   "metadata": {},
   "outputs": [],
   "source": [
    "# This does NOT work, nor does get_field appear designed for this\n",
    "_K_sub = VecSpaces.get_field(temp_self.domain)"
   ]
  },
  {
   "cell_type": "code",
   "execution_count": null,
   "metadata": {},
   "outputs": [],
   "source": [
    "# THIS HANGS!\n",
    "\n",
    "# we could try the following, which seems unpromising given that we already\n",
    "# know what vec space we should be dealing with and should be able to derive\n",
    "# the correct field instead of supplying it; notice that the result is not\n",
    "# even satisfactory, returning Complexes instead of obvious Reals\n",
    "# temp_self.element.deduce_in_vec_space(field=None)"
   ]
  },
  {
   "cell_type": "code",
   "execution_count": null,
   "metadata": {},
   "outputs": [],
   "source": [
    "# try this instead:\n",
    "# does not work if we omit the automation=True\n",
    "domain_is_vec_space = temp_self.domain.deduce_as_vec_space(automation=True)"
   ]
  },
  {
   "cell_type": "code",
   "execution_count": null,
   "metadata": {},
   "outputs": [],
   "source": [
    "# followed by this:\n",
    "_K_sub = VecSpaces.known_field(temp_self.domain)"
   ]
  },
  {
   "cell_type": "code",
   "execution_count": null,
   "metadata": {},
   "outputs": [],
   "source": [
    "vec_spaces = temp_self.domain.operands"
   ]
  },
  {
   "cell_type": "code",
   "execution_count": null,
   "metadata": {},
   "outputs": [],
   "source": [
    "from proveit import a, i, K, V\n",
    "tensor_prod_is_in_tensor_prod_space.instantiate(\n",
    "        {a: _a_sub, i: _i_sub, K: _K_sub, V: vec_spaces})"
   ]
  },
  {
   "cell_type": "code",
   "execution_count": null,
   "metadata": {},
   "outputs": [],
   "source": [
    "InSet(x_y_z, TensorProd(R3, R3, R3)).conclude()"
   ]
  },
  {
   "cell_type": "code",
   "execution_count": null,
   "metadata": {},
   "outputs": [],
   "source": [
    "InSet(x_y_z, TensorProd(C3, C3, C3)).conclude()"
   ]
  },
  {
   "cell_type": "markdown",
   "metadata": {},
   "source": [
    "### The `TensorProd.association()` and `TensorProd.disassociation()` methods"
   ]
  },
  {
   "cell_type": "code",
   "execution_count": null,
   "metadata": {},
   "outputs": [],
   "source": [
    "help(TensorProd.association)"
   ]
  },
  {
   "cell_type": "code",
   "execution_count": null,
   "metadata": {},
   "outputs": [],
   "source": [
    "help(TensorProd.disassociation)"
   ]
  },
  {
   "cell_type": "code",
   "execution_count": null,
   "metadata": {},
   "outputs": [],
   "source": [
    "# without the automation=True, gives error\n",
    "# with automation=True, just HANGS\n",
    "# tensor_prod_with_sum_04.association(1, 4, automation=True)"
   ]
  },
  {
   "cell_type": "code",
   "execution_count": null,
   "metadata": {},
   "outputs": [],
   "source": [
    "tensor_prod_04.disassociation(1, auto_simplify=False)"
   ]
  },
  {
   "cell_type": "markdown",
   "metadata": {},
   "source": [
    "### The `TensorProd.scalar_factorization()` method"
   ]
  },
  {
   "cell_type": "code",
   "execution_count": null,
   "metadata": {},
   "outputs": [],
   "source": [
    "help(TensorProd.scalar_factorization)"
   ]
  },
  {
   "cell_type": "code",
   "execution_count": null,
   "metadata": {},
   "outputs": [],
   "source": [
    "tensor_prod_00"
   ]
  },
  {
   "cell_type": "code",
   "execution_count": null,
   "metadata": {},
   "outputs": [],
   "source": [
    "tensor_prod_00.scalar_factorization(0, field=Real)"
   ]
  },
  {
   "cell_type": "markdown",
   "metadata": {},
   "source": [
    "By default, the first ScalarMult operand will be the target.  Also, we may use the default field, `VecSpaces.default_field`."
   ]
  },
  {
   "cell_type": "code",
   "execution_count": null,
   "metadata": {},
   "outputs": [],
   "source": [
    "VecSpaces.default_field = Real"
   ]
  },
  {
   "cell_type": "code",
   "execution_count": null,
   "metadata": {},
   "outputs": [],
   "source": [
    "tensor_prod_000.scalar_factorization()"
   ]
  },
  {
   "cell_type": "code",
   "execution_count": null,
   "metadata": {},
   "outputs": [],
   "source": [
    "tensor_prod_01.scalar_factorization()"
   ]
  },
  {
   "cell_type": "code",
   "execution_count": null,
   "metadata": {},
   "outputs": [],
   "source": [
    "tensor_prod_02.scalar_factorization(1)"
   ]
  },
  {
   "cell_type": "code",
   "execution_count": null,
   "metadata": {},
   "outputs": [],
   "source": [
    "tensor_prod_03.scalar_factorization()"
   ]
  },
  {
   "cell_type": "code",
   "execution_count": null,
   "metadata": {},
   "outputs": [],
   "source": [
    "tensor_prod_05.scalar_factorization()"
   ]
  },
  {
   "cell_type": "markdown",
   "metadata": {},
   "source": [
    "### The `TensorProd.distribution()` method"
   ]
  },
  {
   "cell_type": "code",
   "execution_count": null,
   "metadata": {},
   "outputs": [],
   "source": [
    "help(TensorProd.distribution)"
   ]
  },
  {
   "cell_type": "code",
   "execution_count": null,
   "metadata": {},
   "outputs": [],
   "source": [
    "tensor_prod_05"
   ]
  },
  {
   "cell_type": "code",
   "execution_count": null,
   "metadata": {},
   "outputs": [],
   "source": [
    "tensor_prod_05.distribution(2)"
   ]
  },
  {
   "cell_type": "code",
   "execution_count": null,
   "metadata": {},
   "outputs": [],
   "source": [
    "tensor_prod_06"
   ]
  },
  {
   "cell_type": "code",
   "execution_count": null,
   "metadata": {},
   "outputs": [],
   "source": [
    "tensor_prod_06.distribution(0)"
   ]
  },
  {
   "cell_type": "code",
   "execution_count": null,
   "metadata": {},
   "outputs": [],
   "source": [
    "tensor_prod_07"
   ]
  },
  {
   "cell_type": "code",
   "execution_count": null,
   "metadata": {},
   "outputs": [],
   "source": [
    "tensor_prod_07.distribution(1)"
   ]
  },
  {
   "cell_type": "code",
   "execution_count": null,
   "metadata": {},
   "outputs": [],
   "source": [
    "tensor_prod_08"
   ]
  },
  {
   "cell_type": "code",
   "execution_count": null,
   "metadata": {},
   "outputs": [],
   "source": [
    "tensor_prod_08.distribution(2)"
   ]
  },
  {
   "cell_type": "code",
   "execution_count": null,
   "metadata": {},
   "outputs": [],
   "source": [
    "tensor_prod_with_sum_01"
   ]
  },
  {
   "cell_type": "code",
   "execution_count": null,
   "metadata": {},
   "outputs": [],
   "source": [
    "tensor_prod_with_sum_01.distribution(1)"
   ]
  },
  {
   "cell_type": "code",
   "execution_count": null,
   "metadata": {},
   "outputs": [],
   "source": [
    "temp_self = tensor_prod_with_sum_01"
   ]
  },
  {
   "cell_type": "code",
   "execution_count": null,
   "metadata": {},
   "outputs": [],
   "source": [
    "field=None\n",
    "_V_sub = VecSpaces.known_vec_space(temp_self, field=field)"
   ]
  },
  {
   "cell_type": "code",
   "execution_count": null,
   "metadata": {},
   "outputs": [],
   "source": [
    "# notice here that _V_sub is a TensorProd, not a VecSpace\n",
    "type(_V_sub)"
   ]
  },
  {
   "cell_type": "code",
   "execution_count": null,
   "metadata": {},
   "outputs": [],
   "source": [
    "_K = VecSpaces.known_field(_V_sub)"
   ]
  },
  {
   "cell_type": "code",
   "execution_count": null,
   "metadata": {},
   "outputs": [],
   "source": [
    "idx = 1\n",
    "sum_factor = temp_self.operands[idx]"
   ]
  },
  {
   "cell_type": "code",
   "execution_count": null,
   "metadata": {},
   "outputs": [],
   "source": [
    "_a_sub = temp_self.operands[:idx]"
   ]
  },
  {
   "cell_type": "code",
   "execution_count": null,
   "metadata": {},
   "outputs": [],
   "source": [
    "_c_sub = temp_self.operands[idx+1:]"
   ]
  },
  {
   "cell_type": "code",
   "execution_count": null,
   "metadata": {},
   "outputs": [],
   "source": [
    "_i_sub = _a_sub.num_elements()"
   ]
  },
  {
   "cell_type": "code",
   "execution_count": null,
   "metadata": {},
   "outputs": [],
   "source": [
    "_k_sub = _c_sub.num_elements()"
   ]
  },
  {
   "cell_type": "code",
   "execution_count": null,
   "metadata": {},
   "outputs": [],
   "source": [
    "_b_sub = sum_factor.indices"
   ]
  },
  {
   "cell_type": "code",
   "execution_count": null,
   "metadata": {},
   "outputs": [],
   "source": [
    "_j_sub = _b_sub.num_elements()"
   ]
  },
  {
   "cell_type": "code",
   "execution_count": null,
   "metadata": {},
   "outputs": [],
   "source": [
    "from proveit import Lambda\n",
    "_f_sub = Lambda(sum_factor.indices, sum_factor.summand)"
   ]
  },
  {
   "cell_type": "code",
   "execution_count": null,
   "metadata": {},
   "outputs": [],
   "source": [
    "_Q_sub = Lambda(sum_factor.indices, sum_factor.condition)"
   ]
  },
  {
   "cell_type": "code",
   "execution_count": null,
   "metadata": {},
   "outputs": [],
   "source": [
    "from proveit import K, f, Q, i, j, k, V, a, b, c\n",
    "from proveit.linear_algebra.tensors import tensor_prod_distribution_over_summation\n",
    "impl = tensor_prod_distribution_over_summation.instantiate(\n",
    "    {K:_K_sub, f:_f_sub, Q:_Q_sub, i:_i_sub, j:_j_sub, k:_k_sub,\n",
    "     V:_V_sub, a:_a_sub, b:_b_sub, c:_c_sub},\n",
    "    preserve_all=True)"
   ]
  },
  {
   "cell_type": "code",
   "execution_count": null,
   "metadata": {},
   "outputs": [],
   "source": [
    "tensor_prod_with_sum_02"
   ]
  },
  {
   "cell_type": "code",
   "execution_count": null,
   "metadata": {},
   "outputs": [],
   "source": [
    "tensor_prod_with_sum_02.distribution(0)"
   ]
  },
  {
   "cell_type": "code",
   "execution_count": null,
   "metadata": {},
   "outputs": [],
   "source": [
    "tensor_prod_with_sum_03"
   ]
  },
  {
   "cell_type": "code",
   "execution_count": null,
   "metadata": {},
   "outputs": [],
   "source": [
    "tensor_prod_with_sum_03.distribution(1)"
   ]
  },
  {
   "cell_type": "code",
   "execution_count": null,
   "metadata": {},
   "outputs": [],
   "source": [
    "tensor_prod_with_sum_04"
   ]
  },
  {
   "cell_type": "code",
   "execution_count": null,
   "metadata": {},
   "outputs": [],
   "source": [
    "tensor_prod_with_sum_04.distribution(4)"
   ]
  },
  {
   "cell_type": "code",
   "execution_count": null,
   "metadata": {},
   "outputs": [],
   "source": [
    "# recall one of our TensorProd objects without a sum or summation:\n",
    "tensor_prod_02"
   ]
  },
  {
   "cell_type": "code",
   "execution_count": null,
   "metadata": {},
   "outputs": [],
   "source": [
    "# we should get a meaningful error message when trying to distribute across\n",
    "# a factor that is not a sum or summation:\n",
    "try:\n",
    "    tensor_prod_02.distribution(1)\n",
    "    assert False, \"Expecting a ValueError; should not get this far!\"\n",
    "except ValueError as the_error:\n",
    "    print(\"ValueError: {}\".format(the_error))"
   ]
  },
  {
   "cell_type": "markdown",
   "metadata": {},
   "source": [
    "Working on details for a possible TensorProd.factoring() method below."
   ]
  },
  {
   "cell_type": "code",
   "execution_count": null,
   "metadata": {},
   "outputs": [],
   "source": [
    "tensor_prod_inside_sum_01"
   ]
  },
  {
   "cell_type": "markdown",
   "metadata": {},
   "source": [
    "That is actually equal to:<br/>\n",
    "\\begin{align}\n",
    "x \\otimes f(2) + x \\otimes f(3) + x \\otimes f(4)\n",
    "&=\n",
    "x \\otimes (f(2) + f(3) + f(4))\\\\\n",
    "&=\n",
    "x \\otimes \\sum_{i=2}^{4} f(i)\n",
    "\\end{align}\n",
    "We want to be able to call `tensor_prod_inside_sum_01.factorization(idx)`, where `idx` indicates the (0-based) index of the tensor product term to leave inside the summation. Clearly any term(s) that are functions of the summation index itself cannot be pulled out, and we cannot change the order of the tensor product terms. In the simple example here, we would call `tensor_prod_inside_sum_01.factorization(1)`, to obtain\n",
    "\\begin{align}\n",
    "\\vdash\n",
    "\\sum_{i=2}^{4} \\left[x \\otimes f(i)\\right]\n",
    "&=\n",
    "x \\otimes \\sum_{i=2}^{4} f(i)\n",
    "\\end{align}\n"
   ]
  },
  {
   "cell_type": "code",
   "execution_count": null,
   "metadata": {},
   "outputs": [],
   "source": [
    "from proveit.linear_algebra.tensors import tensor_prod_distribution_over_summation\n",
    "tensor_prod_distribution_over_summation"
   ]
  },
  {
   "cell_type": "code",
   "execution_count": null,
   "metadata": {},
   "outputs": [],
   "source": [
    "self_test = tensor_prod_inside_sum_01"
   ]
  },
  {
   "cell_type": "code",
   "execution_count": null,
   "metadata": {},
   "outputs": [],
   "source": [
    "idx = 1"
   ]
  },
  {
   "cell_type": "code",
   "execution_count": null,
   "metadata": {},
   "outputs": [],
   "source": [
    "field = None\n",
    "_V_sub = VecSpaces.known_vec_space(self_test, field=field)"
   ]
  },
  {
   "cell_type": "code",
   "execution_count": null,
   "metadata": {},
   "outputs": [],
   "source": [
    "_K_sub = VecSpaces.known_field(_V_sub)"
   ]
  },
  {
   "cell_type": "code",
   "execution_count": null,
   "metadata": {},
   "outputs": [],
   "source": [
    "_a_sub = self_test.summand.operands[:idx]"
   ]
  },
  {
   "cell_type": "code",
   "execution_count": null,
   "metadata": {},
   "outputs": [],
   "source": [
    "_c_sub = self_test.summand.operands[idx+1:]"
   ]
  },
  {
   "cell_type": "code",
   "execution_count": null,
   "metadata": {},
   "outputs": [],
   "source": [
    "_i_sub = _a_sub.num_elements()"
   ]
  },
  {
   "cell_type": "code",
   "execution_count": null,
   "metadata": {},
   "outputs": [],
   "source": [
    "_k_sub = _c_sub.num_elements()"
   ]
  },
  {
   "cell_type": "code",
   "execution_count": null,
   "metadata": {},
   "outputs": [],
   "source": [
    "_b_sub = self_test.indices"
   ]
  },
  {
   "cell_type": "code",
   "execution_count": null,
   "metadata": {},
   "outputs": [],
   "source": [
    "_j_sub = _b_sub.num_elements()"
   ]
  },
  {
   "cell_type": "code",
   "execution_count": null,
   "metadata": {},
   "outputs": [],
   "source": [
    "_f_sub = Lambda(self_test.indices, self_test.summand.operands[idx])"
   ]
  },
  {
   "cell_type": "code",
   "execution_count": null,
   "metadata": {},
   "outputs": [],
   "source": [
    "_Q_sub = Lambda(self_test.indices, self_test.condition)"
   ]
  },
  {
   "cell_type": "code",
   "execution_count": null,
   "metadata": {},
   "outputs": [],
   "source": [
    "tensor_prod_distribution_over_summation.instance_params"
   ]
  },
  {
   "cell_type": "code",
   "execution_count": null,
   "metadata": {},
   "outputs": [],
   "source": [
    "from proveit import K, f, Q, i, j, k, V, a, b, c\n",
    "impl = tensor_prod_distribution_over_summation.instantiate(\n",
    "                    {K:_K_sub, f:_f_sub, Q:_Q_sub, i:_i_sub, j:_j_sub, k:_k_sub, \n",
    "                     V:_V_sub, a:_a_sub, b:_b_sub, c:_c_sub}, preserve_all=True)"
   ]
  },
  {
   "cell_type": "code",
   "execution_count": null,
   "metadata": {},
   "outputs": [],
   "source": [
    "impl.derive_consequent().derive_reversed().with_wrapping_at()"
   ]
  },
  {
   "cell_type": "markdown",
   "metadata": {},
   "source": [
    "The `tensor_prod_factoring()` method technically is a method called on a VecSum object, but it's good to briefly illustrate its use here in tensors, essentially performing the inverse operation of the `TensorProd.distribution()` method:"
   ]
  },
  {
   "cell_type": "code",
   "execution_count": null,
   "metadata": {},
   "outputs": [],
   "source": [
    "# The numeric argument indicates the tensor product factor \n",
    "# to LEAVE inside the VecSum\n",
    "tensor_prod_inside_sum_01.tensor_prod_factoring(1)"
   ]
  },
  {
   "cell_type": "code",
   "execution_count": null,
   "metadata": {},
   "outputs": [],
   "source": [
    "tensor_prod_inside_sum_03"
   ]
  },
  {
   "cell_type": "code",
   "execution_count": null,
   "metadata": {},
   "outputs": [],
   "source": [
    "defaults.assumptions"
   ]
  },
  {
   "cell_type": "code",
   "execution_count": null,
   "metadata": {},
   "outputs": [],
   "source": [
    "try:\n",
    "    tensor_prod_inside_sum_03.tensor_prod_factoring(1)\n",
    "except Exception as the_exception:\n",
    "    print(\"Exception: {}\".format(the_exception))"
   ]
  },
  {
   "cell_type": "markdown",
   "metadata": {},
   "source": [
    "Testing/problems for factoring the case for `tensor_prod_inside_sum_03`, which is identical to `tensor_prod_inside_sum_01` except now we have z instead of x and z has all the same properties as x …  "
   ]
  },
  {
   "cell_type": "code",
   "execution_count": null,
   "metadata": {},
   "outputs": [],
   "source": [
    "self_test = tensor_prod_inside_sum_03"
   ]
  },
  {
   "cell_type": "code",
   "execution_count": null,
   "metadata": {},
   "outputs": [],
   "source": [
    "field = None\n",
    "_V_sub = VecSpaces.known_vec_space(self_test, field=field)"
   ]
  },
  {
   "cell_type": "code",
   "execution_count": null,
   "metadata": {},
   "outputs": [],
   "source": [
    "_K_sub = VecSpaces.known_field(_V_sub)"
   ]
  },
  {
   "cell_type": "code",
   "execution_count": null,
   "metadata": {},
   "outputs": [],
   "source": [
    "_a_sub = self_test.summand.operands[:idx]"
   ]
  },
  {
   "cell_type": "code",
   "execution_count": null,
   "metadata": {},
   "outputs": [],
   "source": [
    "_c_sub = self_test.summand.operands[idx+1:]"
   ]
  },
  {
   "cell_type": "code",
   "execution_count": null,
   "metadata": {},
   "outputs": [],
   "source": [
    "_i_sub = _a_sub.num_elements()"
   ]
  },
  {
   "cell_type": "code",
   "execution_count": null,
   "metadata": {},
   "outputs": [],
   "source": [
    "_k_sub = _c_sub.num_elements()"
   ]
  },
  {
   "cell_type": "code",
   "execution_count": null,
   "metadata": {},
   "outputs": [],
   "source": [
    "_b_sub = self_test.indices"
   ]
  },
  {
   "cell_type": "code",
   "execution_count": null,
   "metadata": {},
   "outputs": [],
   "source": [
    "_j_sub = _b_sub.num_elements()"
   ]
  },
  {
   "cell_type": "code",
   "execution_count": null,
   "metadata": {},
   "outputs": [],
   "source": [
    "_f_sub = Lambda(self_test.indices, self_test.summand.operands[idx])"
   ]
  },
  {
   "cell_type": "code",
   "execution_count": null,
   "metadata": {},
   "outputs": [],
   "source": [
    "_Q_sub = Lambda(self_test.indices, self_test.condition)"
   ]
  },
  {
   "cell_type": "code",
   "execution_count": null,
   "metadata": {},
   "outputs": [],
   "source": [
    "from proveit import K, f, Q, i, j, k, V, a, b, c\n",
    "impl = tensor_prod_distribution_over_summation.instantiate(\n",
    "                    {K:_K_sub, f:_f_sub, Q:_Q_sub, i:_i_sub, j:_j_sub, k:_k_sub, \n",
    "                     V:_V_sub, a:_a_sub, b:_b_sub, c:_c_sub}, preserve_all=True)"
   ]
  },
  {
   "cell_type": "code",
   "execution_count": null,
   "metadata": {},
   "outputs": [],
   "source": [
    "defaults.assumptions"
   ]
  },
  {
   "cell_type": "code",
   "execution_count": null,
   "metadata": {},
   "outputs": [],
   "source": [
    "InSet(z, R3).proven()"
   ]
  },
  {
   "cell_type": "code",
   "execution_count": null,
   "metadata": {},
   "outputs": [],
   "source": [
    "InSet(VecSum(i, Function(f, i), domain=Interval(two, four)), R3).proven()"
   ]
  },
  {
   "cell_type": "code",
   "execution_count": null,
   "metadata": {},
   "outputs": [],
   "source": [
    "TensorProd(z, VecSum(i, Function(f, i), domain=Interval(two, four))).deduce_in_vec_space(TensorProd(R3, R3), field=Real)"
   ]
  },
  {
   "cell_type": "code",
   "execution_count": null,
   "metadata": {},
   "outputs": [],
   "source": [
    "InSet(TensorProd(z, VecSum(i, Function(f, i), domain=Interval(two, four))), TensorProd(R3, R3)).prove()"
   ]
  },
  {
   "cell_type": "code",
   "execution_count": null,
   "metadata": {},
   "outputs": [],
   "source": [
    "impl.derive_consequent()"
   ]
  },
  {
   "cell_type": "code",
   "execution_count": null,
   "metadata": {},
   "outputs": [],
   "source": [
    "impl.derive_consequent().derive_reversed().with_wrapping_at()"
   ]
  },
  {
   "cell_type": "code",
   "execution_count": null,
   "metadata": {},
   "outputs": [],
   "source": [
    "tensor_prod_inside_sum_02.tensor_prod_factoring(1)"
   ]
  },
  {
   "cell_type": "code",
   "execution_count": null,
   "metadata": {},
   "outputs": [],
   "source": [
    "tensor_prod_inside_sum_03.tensor_prod_factoring(1)"
   ]
  },
  {
   "cell_type": "code",
   "execution_count": null,
   "metadata": {},
   "outputs": [],
   "source": [
    "tensor_prod_inside_sum_04.tensor_prod_factoring(0)"
   ]
  },
  {
   "cell_type": "code",
   "execution_count": null,
   "metadata": {},
   "outputs": [],
   "source": [
    "tensor_prod_inside_sum_05.tensor_prod_factoring(1)"
   ]
  },
  {
   "cell_type": "code",
   "execution_count": null,
   "metadata": {},
   "outputs": [],
   "source": [
    "tensor_prod_inside_sum_06.tensor_prod_factoring(2)"
   ]
  },
  {
   "cell_type": "code",
   "execution_count": null,
   "metadata": {},
   "outputs": [],
   "source": [
    "scalar_mult_example = ScalarMult(alpha,tensor_prod_inside_sum_06)"
   ]
  },
  {
   "cell_type": "code",
   "execution_count": null,
   "metadata": {},
   "outputs": [],
   "source": [
    "scalar_mult_example.inner_expr().operands[1].tensor_prod_factoring(2)"
   ]
  },
  {
   "cell_type": "code",
   "execution_count": null,
   "metadata": {},
   "outputs": [],
   "source": [
    "scalar_mult_example_02 = VecSum(i, TensorProd(ScalarMult(beta, x), ScalarMult(beta, y)), domain=Interval(two, four))"
   ]
  },
  {
   "cell_type": "code",
   "execution_count": null,
   "metadata": {},
   "outputs": [],
   "source": [
    "scalar_mult_example_03 = VecSum(i, ScalarMult(gamma, ScalarMult(beta, TensorProd(x, fi, y))), domain=Interval(two, four))"
   ]
  },
  {
   "cell_type": "code",
   "execution_count": null,
   "metadata": {},
   "outputs": [],
   "source": [
    "scalar_mult_example_04 = VecSum(i, ScalarMult(gamma, ScalarMult(i, TensorProd(x, y))), domain=Interval(two, four))"
   ]
  },
  {
   "cell_type": "code",
   "execution_count": null,
   "metadata": {},
   "outputs": [],
   "source": [
    "from proveit.numbers import Add\n",
    "scalar_mult_example_05 = VecSum(\n",
    "    i,\n",
    "    ScalarMult(gamma, ScalarMult(i, ScalarMult(beta, ScalarMult(Add(i, one), TensorProd(x, y))))),\n",
    "    domain=Interval(two, four))"
   ]
  },
  {
   "cell_type": "code",
   "execution_count": null,
   "metadata": {},
   "outputs": [],
   "source": [
    "defaults.assumptions"
   ]
  },
  {
   "cell_type": "code",
   "execution_count": null,
   "metadata": {},
   "outputs": [],
   "source": [
    "from proveit.logic import InClass\n",
    "from proveit.linear_algebra import VecSpaces"
   ]
  },
  {
   "cell_type": "code",
   "execution_count": null,
   "metadata": {},
   "outputs": [],
   "source": [
    "InClass(x, VecSpaces(Real))"
   ]
  },
  {
   "cell_type": "code",
   "execution_count": null,
   "metadata": {},
   "outputs": [],
   "source": [
    "defaults.assumptions + (InClass(fi, VecSpaces(Real)), InClass(x, VecSpaces(Real)))"
   ]
  },
  {
   "cell_type": "code",
   "execution_count": null,
   "metadata": {},
   "outputs": [],
   "source": [
    "# the scalar_factorization() takes out just a single scalar it finds first\n",
    "# which is somewhat problematic, because it makes it difficult to then\n",
    "# repeat the process because it produces a ScalarMult at the top level\n",
    "scalar_mult_example_02_factored_01 = scalar_mult_example_02.summand.scalar_factorization()"
   ]
  },
  {
   "cell_type": "code",
   "execution_count": null,
   "metadata": {},
   "outputs": [],
   "source": [
    "scalar_mult_example_02.summand.simplification()"
   ]
  },
  {
   "cell_type": "code",
   "execution_count": null,
   "metadata": {},
   "outputs": [],
   "source": [
    "scalar_mult_example_02_factored_01"
   ]
  },
  {
   "cell_type": "code",
   "execution_count": null,
   "metadata": {},
   "outputs": [],
   "source": [
    "# we would then have to dig into the next level\n",
    "# scalar_mult_example_02_factored_01.inner_expr().rhs.operands[1].factor_scalar()"
   ]
  },
  {
   "cell_type": "code",
   "execution_count": null,
   "metadata": {},
   "outputs": [],
   "source": [
    "scalar_mult_example_02_factored_01"
   ]
  },
  {
   "cell_type": "code",
   "execution_count": null,
   "metadata": {},
   "outputs": [],
   "source": [
    "# shallow simplify is working, pulling the scalars out front\n",
    "# and eliminating nested ScalarMults\n",
    "scalar_mult_example_02_factored_02 = scalar_mult_example_02_factored_01.inner_expr().rhs.operands[1].shallow_simplify()"
   ]
  },
  {
   "cell_type": "code",
   "execution_count": null,
   "metadata": {},
   "outputs": [],
   "source": [
    "# double_scaling_reduce() seems to work now\n",
    "# scalar_mult_example_02_factored_02.inner_expr().rhs.double_scaling_reduce()"
   ]
  },
  {
   "cell_type": "code",
   "execution_count": null,
   "metadata": {},
   "outputs": [],
   "source": [
    "scalar_mult_example_02.summand.shallow_simplification(\n",
    "    assumptions=defaults.assumptions + (InClass(fi, VecSpaces(Real)), InClass(x, VecSpaces(Real))))"
   ]
  },
  {
   "cell_type": "code",
   "execution_count": null,
   "metadata": {},
   "outputs": [],
   "source": [
    "simplification_01 = scalar_mult_example_02.inner_expr().summand.shallow_simplification()"
   ]
  },
  {
   "cell_type": "code",
   "execution_count": null,
   "metadata": {},
   "outputs": [],
   "source": [
    "scalar_mult_example_02.tensor_prod_factoring(idx=1)"
   ]
  },
  {
   "cell_type": "code",
   "execution_count": null,
   "metadata": {},
   "outputs": [],
   "source": [
    "test_result = scalar_mult_example_02.factors_extraction()"
   ]
  },
  {
   "cell_type": "markdown",
   "metadata": {},
   "source": [
    "#### Testing the instantiation of the distribution_over_vec_sum theorem."
   ]
  },
  {
   "cell_type": "code",
   "execution_count": null,
   "metadata": {},
   "outputs": [],
   "source": [
    "from proveit.linear_algebra.scalar_multiplication import distribution_over_vec_sum\n",
    "distribution_over_vec_sum"
   ]
  },
  {
   "cell_type": "code",
   "execution_count": null,
   "metadata": {},
   "outputs": [],
   "source": [
    "temp_self = scalar_mult_example_02"
   ]
  },
  {
   "cell_type": "code",
   "execution_count": null,
   "metadata": {},
   "outputs": [],
   "source": [
    "from proveit import TransRelUpdater\n",
    "expr = temp_self\n",
    "eq = TransRelUpdater(expr)\n",
    "eq.relation"
   ]
  },
  {
   "cell_type": "code",
   "execution_count": null,
   "metadata": {},
   "outputs": [],
   "source": [
    "expr = eq.update(expr.inner_expr().summand.shallow_simplification())\n",
    "eq.relation"
   ]
  },
  {
   "cell_type": "code",
   "execution_count": null,
   "metadata": {},
   "outputs": [],
   "source": [
    "expr"
   ]
  },
  {
   "cell_type": "code",
   "execution_count": null,
   "metadata": {},
   "outputs": [],
   "source": [
    "# this might be tricky — will known_vec_space return the same for every\n",
    "# a_1, … a_i ?\n",
    "_V_sub = VecSpaces.known_vec_space(expr.summand.scaled, field=None)"
   ]
  },
  {
   "cell_type": "code",
   "execution_count": null,
   "metadata": {},
   "outputs": [],
   "source": [
    "_K_sub = VecSpaces.known_field(_V_sub)"
   ]
  },
  {
   "cell_type": "code",
   "execution_count": null,
   "metadata": {},
   "outputs": [],
   "source": [
    "_b_sub = expr.indices"
   ]
  },
  {
   "cell_type": "code",
   "execution_count": null,
   "metadata": {},
   "outputs": [],
   "source": [
    "_j_sub = _b_sub.num_elements()"
   ]
  },
  {
   "cell_type": "code",
   "execution_count": null,
   "metadata": {},
   "outputs": [],
   "source": [
    "# from proveit import Lambda\n",
    "_f_sub = Lambda(expr.indices, expr.summand.scaled)"
   ]
  },
  {
   "cell_type": "code",
   "execution_count": null,
   "metadata": {},
   "outputs": [],
   "source": [
    "_Q_sub = Lambda(expr.indices, expr.condition)"
   ]
  },
  {
   "cell_type": "code",
   "execution_count": null,
   "metadata": {},
   "outputs": [],
   "source": [
    "_k_sub = expr.summand.scalar"
   ]
  },
  {
   "cell_type": "code",
   "execution_count": null,
   "metadata": {},
   "outputs": [],
   "source": [
    "from proveit import V, K, a, b, f, j, k, Q\n",
    "imp = distribution_over_vec_sum.instantiate(\n",
    "    {V: _V_sub, K: _K_sub, b: _b_sub, j: _j_sub,\n",
    "     f: _f_sub, Q: _Q_sub, k: _k_sub})"
   ]
  },
  {
   "cell_type": "code",
   "execution_count": null,
   "metadata": {},
   "outputs": [],
   "source": [
    "imp.derive_consequent().derive_reversed()"
   ]
  },
  {
   "cell_type": "code",
   "execution_count": null,
   "metadata": {},
   "outputs": [],
   "source": [
    "expr = eq.update(imp.derive_consequent().derive_reversed())"
   ]
  },
  {
   "cell_type": "code",
   "execution_count": null,
   "metadata": {},
   "outputs": [],
   "source": [
    "eq.relation"
   ]
  },
  {
   "cell_type": "code",
   "execution_count": null,
   "metadata": {},
   "outputs": [],
   "source": [
    "expr"
   ]
  },
  {
   "cell_type": "code",
   "execution_count": null,
   "metadata": {},
   "outputs": [],
   "source": [
    "expr.inner_expr().scaled.tensor_prod_factoring(1)"
   ]
  },
  {
   "cell_type": "code",
   "execution_count": null,
   "metadata": {},
   "outputs": [],
   "source": [
    "expr = eq.update(expr.inner_expr().scaled.tensor_prod_factoring(1))"
   ]
  },
  {
   "cell_type": "code",
   "execution_count": null,
   "metadata": {},
   "outputs": [],
   "source": [
    "eq.relation"
   ]
  },
  {
   "cell_type": "code",
   "execution_count": null,
   "metadata": {},
   "outputs": [],
   "source": [
    "scalar_mult_example_03"
   ]
  },
  {
   "cell_type": "code",
   "execution_count": null,
   "metadata": {},
   "outputs": [],
   "source": [
    "# scalar_mult_example_03.factors_extraction()"
   ]
  },
  {
   "cell_type": "code",
   "execution_count": null,
   "metadata": {},
   "outputs": [],
   "source": [
    "# consider this example now, noting the factor of index var 'i'\n",
    "scalar_mult_example_04"
   ]
  },
  {
   "cell_type": "code",
   "execution_count": null,
   "metadata": {},
   "outputs": [],
   "source": [
    "# this seems to work ok when called literally like this:\n",
    "scalar_mult_example_04.inner_expr().summand.shallow_simplification()"
   ]
  },
  {
   "cell_type": "code",
   "execution_count": null,
   "metadata": {},
   "outputs": [],
   "source": [
    "# but what if we try to use the TransRelUpdater?\n",
    "expr = scalar_mult_example_04 # a VecSum with a ScalarMult summand\n",
    "eq = TransRelUpdater(scalar_mult_example_04)\n",
    "display(eq.relation)\n",
    "expr = eq.update(expr.inner_expr().summand.shallow_simplification())\n",
    "display(eq.relation)"
   ]
  },
  {
   "cell_type": "code",
   "execution_count": null,
   "metadata": {},
   "outputs": [],
   "source": [
    "# this will not yet work, because the i factor causes it to\n",
    "# completely fail; want to check if the ScalarMult.scalar is itself a Mult,\n",
    "# then check and pull out what we can from that\n",
    "# scalar_mult_example_04.factors_extraction(assumptions=defaults.assumptions + (InSet(i, Real),))"
   ]
  },
  {
   "cell_type": "markdown",
   "metadata": {},
   "source": [
    "(1) If the summand is a ScalarMult, we then check to see if the ScalarMult.scalar involves the summand index.<p>\n",
    "(2) If not, factor it out! If it does, we might have to look more carefully …"
   ]
  },
  {
   "cell_type": "markdown",
   "metadata": {},
   "source": [
    "### WORKING HERE"
   ]
  },
  {
   "cell_type": "code",
   "execution_count": null,
   "metadata": {},
   "outputs": [],
   "source": [
    "scalar_mult_example"
   ]
  },
  {
   "cell_type": "code",
   "execution_count": null,
   "metadata": {},
   "outputs": [],
   "source": [
    "scalar_mult_example_01 = VecSum(i, ScalarMult(gamma, TensorProd(x, y, fi, z)), domain=Interval(two, four))"
   ]
  },
  {
   "cell_type": "markdown",
   "metadata": {},
   "source": [
    "Here trying to manually re-create the VecSum.deduce_in_vec_space() for when the summand is a ScalarMult of a TensorProd"
   ]
  },
  {
   "cell_type": "markdown",
   "metadata": {},
   "source": [
    "#### Figuring out the instantiation substitutions needed for the VecSum of a ScalarMult … and figuring out some extra steps to deal with the vec space issues …"
   ]
  },
  {
   "cell_type": "code",
   "execution_count": null,
   "metadata": {},
   "outputs": [],
   "source": [
    "# this process works for a single vector left behind in the sum\n",
    "# but not when we associate and then try\n",
    "expr = scalar_mult_example_01\n",
    "field = None\n",
    "idx = 2 # just a single idx right now\n",
    "idx_beg = 1\n",
    "idx_end = 2\n",
    "from proveit import TransRelUpdater\n",
    "eq = TransRelUpdater(expr)\n",
    "eq.relation"
   ]
  },
  {
   "cell_type": "code",
   "execution_count": null,
   "metadata": {},
   "outputs": [],
   "source": [
    "# associate the chosen elements to remain\n",
    "if idx_beg != idx_end:\n",
    "    expr = eq.update(expr.inner_expr().summand.scaled.association(\n",
    "                idx_beg, idx_end - idx_beg + 1))\n",
    "    idx = idx_beg\n",
    "display(expr)\n",
    "display(idx)"
   ]
  },
  {
   "cell_type": "markdown",
   "metadata": {},
   "source": [
    "The following cell seems important, and may need to be implemented in some way in the VecSum.tensor_prod_factoring() method for certain circumstances. Need to talk with WW about this though.\n",
    "This VecSpaces.known_vec_space() succeeds where  the one in the next cell was continuing to be problematic."
   ]
  },
  {
   "cell_type": "code",
   "execution_count": null,
   "metadata": {},
   "outputs": [],
   "source": [
    "# Now trying process without this and just the one above\n",
    "####### put in some extra steps to help with the ########\n",
    "####### vector field stuff?\n",
    "# This is based on analogous stuff in VecSum.deduce_in_vec_space()\n",
    "# with some modifications for ScalarMult summand\n",
    "self = expr\n",
    "with defaults.temporary() as tmp_defaults:\n",
    "    tmp_defaults.assumptions = (defaults.assumptions + self.conditions.entries)\n",
    "    vec_space = VecSpaces.known_vec_space(self.summand, field=field) #or on scaled?\n",
    "    _V_sub = VecSpaces.known_vec_space(self.summand, field=field)\n",
    "    display(vec_space)"
   ]
  },
  {
   "cell_type": "code",
   "execution_count": null,
   "metadata": {},
   "outputs": [],
   "source": [
    "# _V_sub = VecSpaces.known_vec_space(expr, field=field)\n",
    "# display(expr)\n",
    "# _V_sub = VecSpaces.known_vec_space(expr.summand)\n",
    "# VecSpaces.known_vec_space(expr, field=Real)"
   ]
  },
  {
   "cell_type": "code",
   "execution_count": null,
   "metadata": {},
   "outputs": [],
   "source": [
    "_K_sub = VecSpaces.known_field(_V_sub)"
   ]
  },
  {
   "cell_type": "code",
   "execution_count": null,
   "metadata": {},
   "outputs": [],
   "source": [
    "_b_sub = expr.indices"
   ]
  },
  {
   "cell_type": "code",
   "execution_count": null,
   "metadata": {},
   "outputs": [],
   "source": [
    "_j_sub = _b_sub.num_elements()"
   ]
  },
  {
   "cell_type": "code",
   "execution_count": null,
   "metadata": {},
   "outputs": [],
   "source": [
    "_Q_sub = Lambda(expr.indices, expr.condition)"
   ]
  },
  {
   "cell_type": "code",
   "execution_count": null,
   "metadata": {},
   "outputs": [],
   "source": [
    "_a_sub = expr.summand.scaled.operands[:idx]"
   ]
  },
  {
   "cell_type": "code",
   "execution_count": null,
   "metadata": {},
   "outputs": [],
   "source": [
    "_c_sub = expr.summand.scaled.operands[idx+1:]"
   ]
  },
  {
   "cell_type": "code",
   "execution_count": null,
   "metadata": {},
   "outputs": [],
   "source": [
    "_s_sub = Lambda(expr.indices, expr.summand.scalar)"
   ]
  },
  {
   "cell_type": "code",
   "execution_count": null,
   "metadata": {},
   "outputs": [],
   "source": [
    "_f_sub = Lambda(expr.indices, expr.summand.scaled.operands[idx] )"
   ]
  },
  {
   "cell_type": "code",
   "execution_count": null,
   "metadata": {},
   "outputs": [],
   "source": [
    "_i_sub = _a_sub.num_elements()"
   ]
  },
  {
   "cell_type": "code",
   "execution_count": null,
   "metadata": {},
   "outputs": [],
   "source": [
    "_k_sub = _c_sub.num_elements()"
   ]
  },
  {
   "cell_type": "code",
   "execution_count": null,
   "metadata": {},
   "outputs": [],
   "source": [
    "from proveit.linear_algebra.tensors import tensor_prod_distribution_over_summation_with_scalar_mult\n",
    "tensor_prod_distribution_over_summation_with_scalar_mult"
   ]
  },
  {
   "cell_type": "code",
   "execution_count": null,
   "metadata": {},
   "outputs": [],
   "source": [
    "from proveit import K, f, Q, i, j, k, V, a, b, c, s\n",
    "impl = tensor_prod_distribution_over_summation_with_scalar_mult.instantiate(\n",
    "        {K:_K_sub, f:_f_sub, Q:_Q_sub, i:_i_sub, j:_j_sub,\n",
    "                     k:_k_sub, V:_V_sub, a:_a_sub, b:_b_sub, c:_c_sub,\n",
    "                     s: _s_sub})"
   ]
  },
  {
   "cell_type": "code",
   "execution_count": null,
   "metadata": {},
   "outputs": [],
   "source": [
    "impl.derive_consequent().derive_reversed()"
   ]
  },
  {
   "cell_type": "markdown",
   "metadata": {},
   "source": [
    "### Examples of `tensor_prod_factoring()`"
   ]
  },
  {
   "cell_type": "code",
   "execution_count": null,
   "metadata": {},
   "outputs": [],
   "source": [
    "scalar_mult_example_01.tensor_prod_factoring(idx=2)"
   ]
  },
  {
   "cell_type": "code",
   "execution_count": null,
   "metadata": {},
   "outputs": [],
   "source": [
    "scalar_mult_example_01.tensor_prod_factoring(idx_beg=1, idx_end=2)"
   ]
  },
  {
   "cell_type": "code",
   "execution_count": null,
   "metadata": {},
   "outputs": [],
   "source": [
    "scalar_mult_example_01.tensor_prod_factoring(idx_beg=1, idx_end=3)"
   ]
  },
  {
   "cell_type": "code",
   "execution_count": null,
   "metadata": {},
   "outputs": [],
   "source": [
    "scalar_mult_example_01.tensor_prod_factoring(idx_beg=0, idx_end=2)"
   ]
  },
  {
   "cell_type": "code",
   "execution_count": null,
   "metadata": {},
   "outputs": [],
   "source": [
    "scalar_mult_example_02.tensor_prod_factoring(idx=0)"
   ]
  },
  {
   "cell_type": "code",
   "execution_count": null,
   "metadata": {},
   "outputs": [],
   "source": [
    "scalar_mult_example_02.tensor_prod_factoring(idx=1)"
   ]
  },
  {
   "cell_type": "code",
   "execution_count": null,
   "metadata": {},
   "outputs": [],
   "source": [
    "# with no arguments, we factor as much as possible and reduce if possible\n",
    "scalar_mult_example_02.tensor_prod_factoring()"
   ]
  },
  {
   "cell_type": "code",
   "execution_count": null,
   "metadata": {},
   "outputs": [],
   "source": [
    "scalar_mult_example_03"
   ]
  },
  {
   "cell_type": "code",
   "execution_count": null,
   "metadata": {},
   "outputs": [],
   "source": [
    "# the tensor_prod_factoring() will also work\n",
    "# if the ScalarMults are nested (at least to some degree)\n",
    "scalar_mult_example_03.tensor_prod_factoring(idx=1)"
   ]
  },
  {
   "cell_type": "code",
   "execution_count": null,
   "metadata": {},
   "outputs": [],
   "source": [
    "scalar_mult_example_03.inner_expr().tensor_prod_factoring(idx_beg=1, idx_end=2)"
   ]
  },
  {
   "cell_type": "code",
   "execution_count": null,
   "metadata": {},
   "outputs": [],
   "source": [
    "type(scalar_mult_example_03.summand.scaled.scaled.operands.num_elements())"
   ]
  },
  {
   "cell_type": "code",
   "execution_count": null,
   "metadata": {},
   "outputs": [],
   "source": [
    "temp_result = scalar_mult_example_03.inner_expr().factors_extraction(\n",
    "     assumptions = defaults.assumptions + scalar_mult_example_03.conditions.entries)"
   ]
  },
  {
   "cell_type": "markdown",
   "metadata": {},
   "source": [
    "### Testing `TensorProd.association()` for tensor products of _sets_"
   ]
  },
  {
   "cell_type": "code",
   "execution_count": null,
   "metadata": {},
   "outputs": [],
   "source": [
    "# Some example TensorProds of CartExps\n",
    "example_vec_space_01, example_vec_space_02, example_vec_space_03, example_vec_space_04, example_vec_space_05 = (\n",
    "    TensorProd(R3, R3, R3, R3), TensorProd(R3, TensorProd(R3, R3)), TensorProd(x, R3),\n",
    "    TensorProd(TensorProd(C3, TensorProd(C3, C3)), C3, C3),\n",
    "    TensorProd(TensorProd(R3, TensorProd(C3, y)), R3, C3))"
   ]
  },
  {
   "cell_type": "code",
   "execution_count": null,
   "metadata": {},
   "outputs": [],
   "source": [
    "example_vec_space_01_assoc = example_vec_space_01.association(1, 2)"
   ]
  },
  {
   "cell_type": "code",
   "execution_count": null,
   "metadata": {},
   "outputs": [],
   "source": [
    "# For this to work, we need to establish ahead of time that one of the\n",
    "# operands is indeed a vector space\n",
    "example_vec_space_04.operands[0].deduce_as_vec_space()\n",
    "example_vec_space_04_assoc = example_vec_space_04.association(1, 2)"
   ]
  },
  {
   "cell_type": "code",
   "execution_count": null,
   "metadata": {},
   "outputs": [],
   "source": [
    "# This will not work, because we have a mixture of vectors and CartExps.\n",
    "# The error message comes about because Prove-It is trying to treat R^3\n",
    "# as a vector instead of a vector space\n",
    "try:\n",
    "    example_vec_space_05_assoc = example_vec_space_05.association(1, 2)\n",
    "except Exception as the_exception:\n",
    "    print(\"Exception: {}\".format(the_exception))"
   ]
  },
  {
   "cell_type": "markdown",
   "metadata": {},
   "source": [
    "### Testing `TensorProd.disassociation()` for tensor products of _sets_\n",
    "\n",
    "Notice that `TensorProd.disassociation()` will produce a complete disassociation if `auto_simplify()` is allowed to proceed with no modifications, so here we first change the simplification direction 'ungroup' to False (and then reset back to True after this section)."
   ]
  },
  {
   "cell_type": "code",
   "execution_count": null,
   "metadata": {},
   "outputs": [],
   "source": [
    "TensorProd.change_simplification_directives(ungroup=False)"
   ]
  },
  {
   "cell_type": "code",
   "execution_count": null,
   "metadata": {},
   "outputs": [],
   "source": [
    "example_vec_space_01_assoc.rhs.disassociation(1)"
   ]
  },
  {
   "cell_type": "code",
   "execution_count": null,
   "metadata": {},
   "outputs": [],
   "source": [
    "example_vec_space_04_assoc.rhs.disassociation(1)"
   ]
  },
  {
   "cell_type": "code",
   "execution_count": null,
   "metadata": {},
   "outputs": [],
   "source": [
    "example_vec_space_04_assoc.rhs.disassociation(0)"
   ]
  },
  {
   "cell_type": "code",
   "execution_count": null,
   "metadata": {},
   "outputs": [],
   "source": [
    "example_vec_space_04_assoc.rhs.inner_expr().operands[0].disassociation(1)"
   ]
  },
  {
   "cell_type": "code",
   "execution_count": null,
   "metadata": {},
   "outputs": [],
   "source": [
    "TensorProd(TensorProd(x, TensorProd(y, z)), TensorProd(x, y)).disassociation(1)"
   ]
  },
  {
   "cell_type": "code",
   "execution_count": null,
   "metadata": {},
   "outputs": [],
   "source": [
    "# Reset to allow default auto_simplify() results\n",
    "# (and notice what then happens in the next cell)\n",
    "TensorProd.change_simplification_directives(ungroup=True)"
   ]
  },
  {
   "cell_type": "code",
   "execution_count": null,
   "metadata": {},
   "outputs": [],
   "source": [
    "# Now the disassociation() produces a complete disassociation\n",
    "# despite our intention to only disassociate a piece\n",
    "TensorProd(TensorProd(x, TensorProd(y, z)), TensorProd(x, y)).disassociation(1)"
   ]
  },
  {
   "cell_type": "markdown",
   "metadata": {},
   "source": [
    "### Examples and Testing of `VecSum.factors_extraction()`"
   ]
  },
  {
   "cell_type": "code",
   "execution_count": null,
   "metadata": {},
   "outputs": [],
   "source": [
    "# here the collection of scalars includes an index-dependent factor\n",
    "scalar_mult_example_04.factors_extraction()"
   ]
  },
  {
   "cell_type": "code",
   "execution_count": null,
   "metadata": {},
   "outputs": [],
   "source": [
    "defaults.assumptions"
   ]
  },
  {
   "cell_type": "code",
   "execution_count": null,
   "metadata": {},
   "outputs": [],
   "source": [
    "# sometimes this works, and sometimes it doesn't\n",
    "# how can it be non-deterministic? Is there something non-deterministic about the\n",
    "# vector_spaces derivation?\n",
    "# Here, all the scalar factors can be extracted:\n",
    "display(scalar_mult_example_03)\n",
    "scalar_mult_example_03.factors_extraction(assumptions = defaults.assumptions + scalar_mult_example_03.conditions.entries)"
   ]
  },
  {
   "cell_type": "code",
   "execution_count": null,
   "metadata": {},
   "outputs": [],
   "source": [
    "# In this case, one factor can be extracted, another cannot:\n",
    "display(scalar_mult_example_04)\n",
    "scalar_mult_example_04.factors_extraction()"
   ]
  },
  {
   "cell_type": "code",
   "execution_count": null,
   "metadata": {},
   "outputs": [],
   "source": [
    "# None of the factors are index-dependent\n",
    "scalar_mult_example_02.factors_extraction()"
   ]
  },
  {
   "cell_type": "code",
   "execution_count": null,
   "metadata": {},
   "outputs": [],
   "source": [
    "# Just one vector of several is index-dependent\n",
    "# while none of the scalars are index-dependent\n",
    "display(scalar_mult_example_03)\n",
    "scalar_mult_example_03.factors_extraction()"
   ]
  },
  {
   "cell_type": "code",
   "execution_count": null,
   "metadata": {},
   "outputs": [],
   "source": [
    "# If the scalar in ScalarMult is a single item?\n",
    "display(scalar_mult_example_01)\n",
    "scalar_mult_example_01.factors_extraction()"
   ]
  },
  {
   "cell_type": "code",
   "execution_count": null,
   "metadata": {},
   "outputs": [],
   "source": [
    "# If some scalars are index-dependent\n",
    "# while none of the vectors themselves are?\n",
    "display(scalar_mult_example_04)\n",
    "scalar_mult_example_04.factors_extraction()"
   ]
  },
  {
   "cell_type": "code",
   "execution_count": null,
   "metadata": {},
   "outputs": [],
   "source": [
    "# multiple factors that can and cannot be extracted\n",
    "display(scalar_mult_example_05)\n",
    "scalar_mult_example_05.factors_extraction(field=None)"
   ]
  },
  {
   "cell_type": "markdown",
   "metadata": {},
   "source": [
    "### Tues 12/21 – Wed 12/22: Testing the Add.factorization() method"
   ]
  },
  {
   "cell_type": "code",
   "execution_count": null,
   "metadata": {},
   "outputs": [],
   "source": [
    "from proveit.numbers import Mult\n",
    "add_01 = Add(Mult(alpha, beta), Mult(beta, gamma), Mult(alpha, Mult(gamma, beta)))"
   ]
  },
  {
   "cell_type": "code",
   "execution_count": null,
   "metadata": {},
   "outputs": [],
   "source": [
    "# not surprisingly, the Add.factorization() method doesn't work\n",
    "# if the desired factor is buried too deeply in one of the expressions\n",
    "display(add_01)\n",
    "try:\n",
    "    add_01.factorization(beta)\n",
    "except ValueError as the_exception:\n",
    "    print(\"ValueError: {}\".format(the_exception))"
   ]
  },
  {
   "cell_type": "code",
   "execution_count": null,
   "metadata": {},
   "outputs": [],
   "source": [
    "add_02 = Add(Add(Mult(alpha, beta), beta), Mult(beta, gamma))"
   ]
  },
  {
   "cell_type": "code",
   "execution_count": null,
   "metadata": {},
   "outputs": [],
   "source": [
    "add_02.inner_expr().operands[0].factorization(beta)"
   ]
  },
  {
   "cell_type": "markdown",
   "metadata": {},
   "source": [
    "### Testing `VecAdd.factorization()` method"
   ]
  },
  {
   "cell_type": "code",
   "execution_count": null,
   "metadata": {},
   "outputs": [],
   "source": [
    "vec_add_example_01 = VecAdd(ScalarMult(Mult(alpha, beta), x), ScalarMult(Mult(gamma, alpha), y))"
   ]
  },
  {
   "cell_type": "code",
   "execution_count": null,
   "metadata": {},
   "outputs": [],
   "source": [
    "defaults.assumptions"
   ]
  },
  {
   "cell_type": "code",
   "execution_count": null,
   "metadata": {},
   "outputs": [],
   "source": [
    "ScalarMult(alpha, ScalarMult(beta, x)).shallow_simplification()"
   ]
  },
  {
   "cell_type": "code",
   "execution_count": null,
   "metadata": {},
   "outputs": [],
   "source": [
    "vec_add_example_01"
   ]
  },
  {
   "cell_type": "code",
   "execution_count": null,
   "metadata": {},
   "outputs": [],
   "source": [
    "vec_add_example_01.factorization(alpha, pull='left', field=Complex)"
   ]
  },
  {
   "cell_type": "markdown",
   "metadata": {},
   "source": [
    "#### To Consider for Later Development: What if the operand(s) in a TensorProd consist of an ExprRange?"
   ]
  },
  {
   "cell_type": "markdown",
   "metadata": {},
   "source": [
    "### The `TensorProd.remove_vec_on_both_sides_of_equals()` and `TensorProd.insert_vec_on_both_sides_of_equals()` methods"
   ]
  },
  {
   "cell_type": "code",
   "execution_count": null,
   "metadata": {},
   "outputs": [],
   "source": [
    "help(TensorProd.remove_vec_on_both_sides_of_equals)"
   ]
  },
  {
   "cell_type": "code",
   "execution_count": null,
   "metadata": {},
   "outputs": [],
   "source": [
    "help(TensorProd.insert_vec_on_both_sides_of_equals)"
   ]
  },
  {
   "cell_type": "code",
   "execution_count": null,
   "metadata": {},
   "outputs": [],
   "source": [
    "tp_01, tp_02 = (TensorProd(x, y, z), TensorProd(x, u, z))"
   ]
  },
  {
   "cell_type": "code",
   "execution_count": null,
   "metadata": {},
   "outputs": [],
   "source": [
    "equality_01 = Equals(tp_01, tp_02)"
   ]
  },
  {
   "cell_type": "code",
   "execution_count": null,
   "metadata": {},
   "outputs": [],
   "source": [
    "defaults.assumptions += (equality_01,)"
   ]
  },
  {
   "cell_type": "markdown",
   "metadata": {},
   "source": [
    "We can access `TensorProd.remove_vec_on_both_sides_of_equals()` and `TensorProd.insert_vec_on_both_sides_of_equals()` via `Equals.remove_vec_on_both_sides` and `Equals.insert_vec_on_both_sides` respectively which are methods generated on-the-fly by finding methods with the `_on_both_sides_of_equals` suffix associated with the Equals expression.  The docstrings are set to be the same:"
   ]
  },
  {
   "cell_type": "code",
   "execution_count": null,
   "metadata": {},
   "outputs": [],
   "source": [
    "help(equality_01.remove_vec_on_both_sides)"
   ]
  },
  {
   "cell_type": "code",
   "execution_count": null,
   "metadata": {},
   "outputs": [],
   "source": [
    "equality_02 = equality_01.remove_vec_on_both_sides(0)"
   ]
  },
  {
   "cell_type": "code",
   "execution_count": null,
   "metadata": {},
   "outputs": [],
   "source": [
    "equality_03 = equality_02.remove_vec_on_both_sides(1)"
   ]
  },
  {
   "cell_type": "markdown",
   "metadata": {},
   "source": [
    "The example above also demonstrates the auto-simplification of unary tensor products."
   ]
  },
  {
   "cell_type": "markdown",
   "metadata": {},
   "source": [
    "Now let's insert vectors into the tensor products.  Starting with the special case where we don't start out with a tensor product, we must call the `TensorProd.insert_vec_on_both_sides_of_equals` method directly: "
   ]
  },
  {
   "cell_type": "code",
   "execution_count": null,
   "metadata": {},
   "outputs": [],
   "source": [
    "equality_04 = TensorProd.insert_vec_on_both_sides_of_equals(\n",
    "    equality_03, 0, z)"
   ]
  },
  {
   "cell_type": "markdown",
   "metadata": {},
   "source": [
    "In the furture, we could have `CartExp` and other vector space expression classes implement `left_tensor_prod_both_sides_of_equals` (and `right_tensor_prod_both_sides_of_equals`) so then the above would be implemented via `equality.left_tensor_prod_both_sides(z)` insead."
   ]
  },
  {
   "cell_type": "markdown",
   "metadata": {},
   "source": [
    "Now that we have tensor products on both sides, we can call `insert_vec_on_both_sides` in the equality."
   ]
  },
  {
   "cell_type": "code",
   "execution_count": null,
   "metadata": {},
   "outputs": [],
   "source": [
    "equality_05 = equality_04.insert_vec_on_both_sides(2, x)"
   ]
  },
  {
   "cell_type": "markdown",
   "metadata": {},
   "source": [
    "### Related Testing: the `ExprTuple.range_expansion()` method\n",
    "\n",
    "Operating on an ExprTuple whose single entry is an ExprRange that represents a finite list of elements, the `ExprTuple.range_expansion()` method converts self to an ExprTuple with a finite listing of explicit arguments.\n",
    "\n",
    "For example, letting $\\text{expr_tuple_01} = (x_1,\\ldots,x_3)$ and then calling `expr_tuple_01.range_expansion()` deduces and returns\n",
    "\n",
    "$\\vdash ((x_1,\\ldots,x_3) = (x_1, x_2, x_3))$\n",
    "\n",
    "The reason for including this here in the demonstrations notebook for the linear_algebra package is that the method can be utilized to convert something like\n",
    "\n",
    "$x_1 \\otimes \\ldots \\otimes x_3$\n",
    "\n",
    "to the more explicit\n",
    "\n",
    "$x_1 \\otimes x_2 \\otimes x_3$"
   ]
  },
  {
   "cell_type": "code",
   "execution_count": null,
   "metadata": {},
   "outputs": [],
   "source": [
    "# create an example ExprRange\n",
    "example_expr_range = ExprRange(i, IndexedVar(x, i), one, three)"
   ]
  },
  {
   "cell_type": "code",
   "execution_count": null,
   "metadata": {},
   "outputs": [],
   "source": [
    "# use the example ExprRange as the arg(s) for a TensorProd:\n",
    "example_tensor_prod_over_range = TensorProd(example_expr_range)"
   ]
  },
  {
   "cell_type": "code",
   "execution_count": null,
   "metadata": {},
   "outputs": [],
   "source": [
    "# find the ExprTuple equivalent to the (ExprTuple-wrapped) ExprRange:\n",
    "expr_range_eq_expr_tuple = ExprTuple(example_expr_range).range_expansion()"
   ]
  },
  {
   "cell_type": "code",
   "execution_count": null,
   "metadata": {},
   "outputs": [],
   "source": [
    "# find the equivalent explicit tensor prod\n",
    "example_tensor_prod_over_range.inner_expr().operands.substitution(\n",
    "         expr_range_eq_expr_tuple)"
   ]
  },
  {
   "cell_type": "code",
   "execution_count": null,
   "metadata": {},
   "outputs": [],
   "source": [
    "# find the equivalent explicit tensor prod,\n",
    "# and omit the wrapping inherited from the underlying theorem\n",
    "example_tensor_prod_over_range.inner_expr().operands.substitution(\n",
    "         expr_range_eq_expr_tuple).with_wrapping_at()"
   ]
  },
  {
   "cell_type": "code",
   "execution_count": null,
   "metadata": {},
   "outputs": [],
   "source": [
    "%end demonstrations"
   ]
  },
  {
   "cell_type": "code",
   "execution_count": null,
   "metadata": {},
   "outputs": [],
   "source": []
  }
 ],
 "metadata": {
  "kernelspec": {
   "display_name": "Python 3",
   "language": "python",
   "name": "python3"
  },
  "language_info": {
   "codemirror_mode": {
    "name": "ipython",
    "version": 3
   },
   "file_extension": ".py",
   "mimetype": "text/x-python",
   "name": "python",
   "nbconvert_exporter": "python",
   "pygments_lexer": "ipython3",
   "version": "3.7.3"
  }
 },
 "nbformat": 4,
 "nbformat_minor": 1
}
