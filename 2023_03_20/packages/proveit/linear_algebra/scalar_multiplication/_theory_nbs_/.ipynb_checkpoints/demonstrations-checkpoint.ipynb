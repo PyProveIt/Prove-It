{
 "cells": [
  {
   "cell_type": "markdown",
   "metadata": {},
   "source": [
    "Demonstrations for the theory of <a class=\"ProveItLink\" href=\"theory.ipynb\">proveit.linear_algebra.scalar_multiplication</a>\n",
    "========"
   ]
  },
  {
   "cell_type": "code",
   "execution_count": 1,
   "metadata": {},
   "outputs": [],
   "source": [
    "import proveit\n",
    "from proveit import k\n",
    "from proveit.logic import InClass, InSet\n",
    "from proveit.linear_algebra import ScalarMult, VecSpaces\n",
    "from proveit.numbers import zero, one\n",
    "from proveit.physics.quantum import Ket\n",
    "%begin demonstrations"
   ]
  },
  {
   "cell_type": "markdown",
   "metadata": {},
   "source": [
    "#### Some Example Simple ScalarMult Expressions for Demonstrations"
   ]
  },
  {
   "cell_type": "code",
   "execution_count": 2,
   "metadata": {},
   "outputs": [
    {
     "data": {
      "text/html": [
       "<strong id=\"example_scalar_mult_01\">example_scalar_mult_01:</strong> <a class=\"ProveItLink\" href=\"../__pv_it/demonstrations/8c5c47ea3faf86cf7a985980e7e6b04c346dfb8e0/expr.ipynb\"><img src=\"data:image/png;base64,iVBORw0KGgoAAAANSUhEUgAAAC4AAAAWBAMAAABNvrPEAAAAMFBMVEX////c3NxERES6urrMzMwi\n",
       "IiIyMjJmZmaIiIiYmJh2dnZUVFTu7u4QEBCqqqoAAACBO7e7AAAAAXRSTlMAQObYZgAAAJVJREFU\n",
       "KM9jYEAGPhCKjwENLIZQ7AbYxVk2gDTdQRV/e4CBIYCB4fTqP8jiPLv2A8U7gWzOP6jq5wPFj+EQ\n",
       "ZxLALs63ALs4yGKo+AEU8WKYOM83FHFvuPpoFPFXOMxXxC7OqMDAwIEm3g8U53rAwL73WyWyePX9\n",
       "9AkMrNjDk8Ech/gW7OI8CdjFORvQxFsgFNMBBlwAALuyO9PAn/tAAAAAAElFTkSuQmCC\n",
       "\" style=\"display:inline;vertical-align:middle;\" /></a><br>\n",
       "<strong id=\"example_scalar_mult_02\">example_scalar_mult_02:</strong> <a class=\"ProveItLink\" href=\"../__pv_it/demonstrations/b3206dbaa5b7831948aa067b6bb7041ecbfa9a020/expr.ipynb\"><img src=\"data:image/png;base64,iVBORw0KGgoAAAANSUhEUgAAAFgAAAAWBAMAAAC26UYbAAAAMFBMVEX////MzMy6urpERETc3Nwi\n",
       "IiIyMjJmZmaIiIiYmJh2dnZUVFTu7u4QEBCqqqoAAADgr4rhAAAAAXRSTlMAQObYZgAAAUxJREFU\n",
       "KM9jYMALZCAUH3ZZT1TuIgjFrgDU4ICulscAQzFX50IGxg1A9haQFXeQJNkcUAWAivMYjjowBADZ\n",
       "xxgYTq/+g6R4OprAIgbOCwxcCQydQDZXAwMDJ7LiEAZUgUUMzBsY+P6ATGXguYAqxxKAoZh/AwPT\n",
       "PwZmkO+SUOU4CjAUny9gYPrBwLcAyFmOKsc8AUOx/wIGxh8MYB9Og8sdABGsDxhQBYCKCxgYfzEw\n",
       "FAE5T2FyPN9AJK8CA6oAzBkM0kCOPNygaDTFEAGwB/n+MTC8QlHMgO4MWNAZgAVMgBxVgh6ERAqL\n",
       "AcSDHEhyXKCg40BRzBDHcFaAgQtkZRUD+95vlXA5JmAIoQgAFZ/q2Ah0H4iTiJbqQhiwJlEGdVD4\n",
       "BKBJTseheCM0IaEAZgesinkSIEmUYOIHAU6QoSaEslUj1EJg3HM6MJAEAC3bYnpBzOC/AAAAAElF\n",
       "TkSuQmCC\n",
       "\" style=\"display:inline;vertical-align:middle;\" /></a><br>\n",
       "<strong id=\"example_scalar_mult_03\">example_scalar_mult_03:</strong> <a class=\"ProveItLink\" href=\"../__pv_it/demonstrations/f0b7db894c1c398748abc3df5a0f8c16aa31ba800/expr.ipynb\"><img src=\"data:image/png;base64,iVBORw0KGgoAAAANSUhEUgAAAIIAAAAWBAMAAAD+2lmbAAAAMFBMVEX////MzMy6urpERETc3Nwi\n",
       "IiIyMjJmZmaIiIiYmJh2dnZUVFTu7u4QEBCqqqoAAADgr4rhAAAAAXRSTlMAQObYZgAAAaJJREFU\n",
       "OMullD9Iw0AUxr82jW1CjO4KdhHXDlncsjg42cFNKFUENwlu6lIn7WQmO1pdHFxScBJEQXRQpMVZ\n",
       "0MVFcC1FSvEuLzZ3l3YIPviSey/3fvfn3QVIZ7P0ssf3WFb8nC/75/TKFxnFJclmlZTAPRIEs36G\n",
       "TMDaV5HsN6HDhKsENpm+7yTCNh5clFn7kfR82RcSGkrA8GBd30oEowOzijprmzWSIRJWIQd0vs5T\n",
       "iaAFsPvh+FaHJCbkygphCQnCVIDsABpHb5DEhIKnEA6ThLaHbA92kzkXJDFB8xXCYpKw0kSmh3Ar\n",
       "T0hRQthL/4AcqMQE64/gIfMD7DDnk0QJVpc/J4uQA68xoV0VV4EZ5syRoiHXFAIFBIIeDHfSHgBf\n",
       "CQLUVUBZxbCapbCHw5x5UtqdpBOVK8U7WRASTF5NMcDrhWP5VFfwMg2Tz3YvVP6muzv8nmU1kgJ8\n",
       "nvvvW75IeDpqsfVyZz0SlFMtmu5i5O3GAi9XmSRZQ/ENbwyhJdwsyTR1TGc0warGtzv9HyacWy2i\n",
       "O6n/cgfRXFl5DJf0b/sFlNmLLvET7eoAAAAASUVORK5CYII=\n",
       "\" style=\"display:inline;vertical-align:middle;\" /></a><br>"
      ],
      "text/plain": [
       "example_scalar_mult_01: 1 * |1〉\n",
       "example_scalar_mult_02: 1 * (1 * |0〉)\n",
       "example_scalar_mult_03: 1 * (1 * (1 * |0〉))"
      ]
     },
     "execution_count": 2,
     "metadata": {},
     "output_type": "execute_result"
    }
   ],
   "source": [
    "example_scalar_mult_01, example_scalar_mult_02, example_scalar_mult_03 = (\n",
    "        ScalarMult(one, Ket(one)),\n",
    "        ScalarMult(one, ScalarMult(one, Ket(zero))),\n",
    "        ScalarMult(one, ScalarMult(one, ScalarMult(one, Ket(zero)))))"
   ]
  },
  {
   "cell_type": "markdown",
   "metadata": {},
   "source": [
    "#### `ScalarMult.shallow_simplification()`"
   ]
  },
  {
   "cell_type": "code",
   "execution_count": 3,
   "metadata": {},
   "outputs": [
    {
     "data": {
      "text/html": [
       "<span style=\"font-size:20px;\"> <a class=\"ProveItLink\" href=\"../__pv_it/demonstrations/8466b89c01335f455e0bb08c67a9cdf1dd9657800/proof.ipynb\" style=\"text-decoration: none\">&nbsp;&#x22A2;&nbsp;&nbsp;</a><a class=\"ProveItLink\" href=\"../__pv_it/demonstrations/37c8709dd5f8f26f289a26e725ab27cc663849a50/expr.ipynb\"><img src=\"data:image/png;base64,iVBORw0KGgoAAAANSUhEUgAAAHEAAAAWBAMAAAAFoW4BAAAAMFBMVEX////MzMxUVFR2dna6uroQ\n",
       "EBCqqqqIiIgiIiJmZmYyMjJERETu7u6YmJjc3NwAAACgK8IjAAAAAXRSTlMAQObYZgAAATxJREFU\n",
       "OMtjYEADjAcgdAIDNoAiy3cBRY7ZAUJPAeI8DJ3IsgynscsJATHTA1w6QbIM64A49QCKHFsMAwMH\n",
       "kM2zAJtOmCzvBAYeZX0UnYeM/jAwsIM8YY5FJ1yWA+Si+6h28v6B2ncUm50w2RcM2HUy7ANiLgcc\n",
       "OkGylbh0JoM4E3DpBMruxaUTHAjgILJaBQIr0WXbEDp5UOQ4QcHYgMtOoGwIQuf5BchyjApA/AGX\n",
       "TqAskk4OBWQ5NgN8OoGybbj8yQ2MLpYGhD8XocviDKHX8BDCZidQ1hIkUI+qkx0kZwYKBwMsOmGy\n",
       "HkBqUvzKC0hynKq/5jIwgBzKJYCpEy7L8QB7bmABJYITuPIKSJZ3AnY5JgEcKR4huw+73CmcuQwm\n",
       "iytnX4dGDG5Z9NKEHRooe4D4HkZpgixLNgAANR5zjsDnJtMAAAAASUVORK5CYII=\n",
       "\" style=\"display:inline;vertical-align:middle;\" /></a></span>"
      ],
      "text/plain": [
       "|- (1 * |1〉) = |1〉"
      ]
     },
     "execution_count": 3,
     "metadata": {},
     "output_type": "execute_result"
    }
   ],
   "source": [
    "example_scalar_mult_01.shallow_simplification()"
   ]
  },
  {
   "cell_type": "code",
   "execution_count": 4,
   "metadata": {},
   "outputs": [
    {
     "data": {
      "text/html": [
       "<a class=\"ProveItLink\" href=\"../__pv_it/demonstrations/b3206dbaa5b7831948aa067b6bb7041ecbfa9a020/expr.ipynb\"><img src=\"data:image/png;base64,iVBORw0KGgoAAAANSUhEUgAAAFgAAAAWBAMAAAC26UYbAAAAMFBMVEX////MzMy6urpERETc3Nwi\n",
       "IiIyMjJmZmaIiIiYmJh2dnZUVFTu7u4QEBCqqqoAAADgr4rhAAAAAXRSTlMAQObYZgAAAUxJREFU\n",
       "KM9jYMALZCAUH3ZZT1TuIgjFrgDU4ICulscAQzFX50IGxg1A9haQFXeQJNkcUAWAivMYjjowBADZ\n",
       "xxgYTq/+g6R4OprAIgbOCwxcCQydQDZXAwMDJ7LiEAZUgUUMzBsY+P6ATGXguYAqxxKAoZh/AwPT\n",
       "PwZmkO+SUOU4CjAUny9gYPrBwLcAyFmOKsc8AUOx/wIGxh8MYB9Og8sdABGsDxhQBYCKCxgYfzEw\n",
       "FAE5T2FyPN9AJK8CA6oAzBkM0kCOPNygaDTFEAGwB/n+MTC8QlHMgO4MWNAZgAVMgBxVgh6ERAqL\n",
       "AcSDHEhyXKCg40BRzBDHcFaAgQtkZRUD+95vlXA5JmAIoQgAFZ/q2Ah0H4iTiJbqQhiwJlEGdVD4\n",
       "BKBJTseheCM0IaEAZgesinkSIEmUYOIHAU6QoSaEslUj1EJg3HM6MJAEAC3bYnpBzOC/AAAAAElF\n",
       "TkSuQmCC\n",
       "\" style=\"display:inline;vertical-align:middle;\" /></a>"
      ],
      "text/plain": [
       "1 * (1 * |0〉)"
      ]
     },
     "execution_count": 4,
     "metadata": {},
     "output_type": "execute_result"
    }
   ],
   "source": [
    "example_scalar_mult_02"
   ]
  },
  {
   "cell_type": "code",
   "execution_count": 5,
   "metadata": {},
   "outputs": [
    {
     "data": {
      "text/html": [
       "<strong id=\"temp_result\">temp_result:</strong> <span style=\"font-size:20px;\"> <a class=\"ProveItLink\" href=\"../__pv_it/demonstrations/ab847a086e30dd32cc50997edd91dd3ace350bff0/proof.ipynb\" style=\"text-decoration: none\">&nbsp;&#x22A2;&nbsp;&nbsp;</a><a class=\"ProveItLink\" href=\"../__pv_it/demonstrations/9748bf890eb69cc1db1c4cb0ff5a199e1144f25a0/expr.ipynb\"><img src=\"data:image/png;base64,iVBORw0KGgoAAAANSUhEUgAAAJsAAAAWBAMAAAAlYfO5AAAAMFBMVEX////MzMxUVFR2dna6uroQ\n",
       "EBCqqqqIiIgiIiJmZmYyMjJERETu7u6YmJjc3NwAAACgK8IjAAAAAXRSTlMAQObYZgAAAa1JREFU\n",
       "OMutlDFPwkAYhj+QQIGDNP4BSPwBMkl0YnQzJu42Ma5C3JhkYjTE+AOIGw4OrgphMTEyaGIMmzKa\n",
       "uBid3PyuX7mrb6l28JI37b333Nve1+sR/dVSY7l6yYjyA4yCsdSQ6ynrIBDFEjTB0UkUrj+6tMz3\n",
       "6ZkonqAL1v44NAoGwwVPHZPD96ovisQZotQjtbIaikOD4SeiDcrpGtQDYZwhHP3uL6E4NBi+JGqO\n",
       "/be6CYRxhngliEOD4Q+iLY9G3Ck0RBhniDbGtSNx6ovhFu3pTk8EcZYYYtwwElf+JKq0pNJ9EZfq\n",
       "XLcBEl07W/nT0WCYn12pUZ4Xme2I4O0ssWNn3/uPRcMsJVXlH+BdtHixTIRmO1WI8w0pdNOjbC02\n",
       "zhJdrF03+mWvfKPIOyjTEc1rd4ZEgk8hm5TefnyKBdtYE+vaOArFocGw46ltojXu5GsijDPEJvdP\n",
       "dgf2FEGDYVU/dIn0GguuCOMM4eABgcb8+Mno3XsbKJYo4R5HYw6n3V+OAEuMcHS0GL777YAyRKLj\n",
       "U7cpS++V4iwubprkcM8Flb9mPQeiWOJ/2zcBsq06qbyRaAAAAABJRU5ErkJggg==\n",
       "\" style=\"display:inline;vertical-align:middle;\" /></a></span><br>"
      ],
      "text/plain": [
       "temp_result: |- (1 * (1 * |0〉)) = |0〉"
      ]
     },
     "execution_count": 5,
     "metadata": {},
     "output_type": "execute_result"
    }
   ],
   "source": [
    "temp_result = example_scalar_mult_02.shallow_simplification()"
   ]
  },
  {
   "cell_type": "code",
   "execution_count": 6,
   "metadata": {},
   "outputs": [
    {
     "data": {
      "text/plain": [
       "proveit.physics.quantum.algebra.bra_ket.Ket"
      ]
     },
     "execution_count": 6,
     "metadata": {},
     "output_type": "execute_result"
    }
   ],
   "source": [
    "type(temp_result.rhs)"
   ]
  },
  {
   "cell_type": "code",
   "execution_count": 7,
   "metadata": {},
   "outputs": [
    {
     "data": {
      "text/html": [
       "<span style=\"font-size:20px;\"> <a class=\"ProveItLink\" href=\"../__pv_it/demonstrations/ab847a086e30dd32cc50997edd91dd3ace350bff0/proof.ipynb\" style=\"text-decoration: none\">&nbsp;&#x22A2;&nbsp;&nbsp;</a><a class=\"ProveItLink\" href=\"../__pv_it/demonstrations/9748bf890eb69cc1db1c4cb0ff5a199e1144f25a0/expr.ipynb\"><img src=\"data:image/png;base64,iVBORw0KGgoAAAANSUhEUgAAAJsAAAAWBAMAAAAlYfO5AAAAMFBMVEX////MzMxUVFR2dna6uroQ\n",
       "EBCqqqqIiIgiIiJmZmYyMjJERETu7u6YmJjc3NwAAACgK8IjAAAAAXRSTlMAQObYZgAAAa1JREFU\n",
       "OMutlDFPwkAYhj+QQIGDNP4BSPwBMkl0YnQzJu42Ma5C3JhkYjTE+AOIGw4OrgphMTEyaGIMmzKa\n",
       "uBid3PyuX7mrb6l28JI37b333Nve1+sR/dVSY7l6yYjyA4yCsdSQ6ynrIBDFEjTB0UkUrj+6tMz3\n",
       "6ZkonqAL1v44NAoGwwVPHZPD96ovisQZotQjtbIaikOD4SeiDcrpGtQDYZwhHP3uL6E4NBi+JGqO\n",
       "/be6CYRxhngliEOD4Q+iLY9G3Ck0RBhniDbGtSNx6ovhFu3pTk8EcZYYYtwwElf+JKq0pNJ9EZfq\n",
       "XLcBEl07W/nT0WCYn12pUZ4Xme2I4O0ssWNn3/uPRcMsJVXlH+BdtHixTIRmO1WI8w0pdNOjbC02\n",
       "zhJdrF03+mWvfKPIOyjTEc1rd4ZEgk8hm5TefnyKBdtYE+vaOArFocGw46ltojXu5GsijDPEJvdP\n",
       "dgf2FEGDYVU/dIn0GguuCOMM4eABgcb8+Mno3XsbKJYo4R5HYw6n3V+OAEuMcHS0GL777YAyRKLj\n",
       "U7cpS++V4iwubprkcM8Flb9mPQeiWOJ/2zcBsq06qbyRaAAAAABJRU5ErkJggg==\n",
       "\" style=\"display:inline;vertical-align:middle;\" /></a></span>"
      ],
      "text/plain": [
       "|- (1 * (1 * |0〉)) = |0〉"
      ]
     },
     "execution_count": 7,
     "metadata": {},
     "output_type": "execute_result"
    }
   ],
   "source": [
    "temp_result.inner_expr().rhs.operands[0].simplify()"
   ]
  },
  {
   "cell_type": "code",
   "execution_count": 8,
   "metadata": {},
   "outputs": [
    {
     "data": {
      "text/html": [
       "<strong id=\"temp_result_02\">temp_result_02:</strong> <span style=\"font-size:20px;\"> <a class=\"ProveItLink\" href=\"../__pv_it/demonstrations/8fd8e410e39369d46c090d79ca1c2b02a65cda040/proof.ipynb\" style=\"text-decoration: none\">&nbsp;&#x22A2;&nbsp;&nbsp;</a><a class=\"ProveItLink\" href=\"../__pv_it/demonstrations/85344a8fbc2f5788b0db6447484d8f5e456217e20/expr.ipynb\"><img src=\"data:image/png;base64,iVBORw0KGgoAAAANSUhEUgAAAMUAAAAWBAMAAACCvEVCAAAAMFBMVEX////MzMxUVFR2dna6uroQ\n",
       "EBCqqqqIiIgiIiJmZmYyMjJERETu7u6YmJjc3NwAAACgK8IjAAAAAXRSTlMAQObYZgAAAepJREFU\n",
       "SMe9VTFLw0AUfq21SdtrCf6BFsTZ4mDRqaObCI6CAXG1xc3J4tCxFHEVilsdRFzVEgqC6GBBRLpo\n",
       "R0EE0cni4F3S3ru8a6zt4MFHct99733Je7kLwMgj5HhX+++qVIusasSbfzqR964HHFsKglVwS1cp\n",
       "wU716Ny9BVP8PtxBBKvghGPTUVYpEefx0TVfdNxmFTCFfw2heUhVsgpselZJqRFtgObcty/6AWAR\n",
       "DFHTnALqIVWmeMtnJaVGVISx3+MMoOC4z36lgHpI1QuQlJRIlXSPD4BlGxqikHkE9ZCqHepBCaOq\n",
       "ebAvHl2EDTGpIogHqi6pByUSLc0j9QmQLnrtrCF4+Y/FqFNVGVMyNwUlTBs9nF40f8J0FmK8PtES\n",
       "grwHqlYx5Z37LJSYzEsP1vVVIZTh2/kdMbhWXKWkNDPEwyUUD9jDbhZsiGZ/9UBVmfaDEmqt+tHn\n",
       "riLBv/JICdHvxxFVjdNzb3fBq9ZzGKxaEMSu4kEJ96s0/B6mzVYA5vkklkVQD6la4vP99TqetZQQ\n",
       "VYjNdA/VaJbbtgBEeeIWgnpIlUlPTI2oBJzaEfGC1woCVUm6QTWiHRAdtoaciahq0FVKJDqDo2+G\n",
       "ne1SNd4/SozHnn8fwarR/7VGr70XHE8KglX/MH4Aab3XEIv+IWQAAAAASUVORK5CYII=\n",
       "\" style=\"display:inline;vertical-align:middle;\" /></a></span><br>"
      ],
      "text/plain": [
       "temp_result_02: |- (1 * (1 * (1 * |0〉))) = |0〉"
      ]
     },
     "execution_count": 8,
     "metadata": {},
     "output_type": "execute_result"
    }
   ],
   "source": [
    "# notice here we eliminate multiply-nested ScalarMults\n",
    "# and multiplicative identity scalars\n",
    "# with our shallow_simplification() method\n",
    "temp_result_02 = example_scalar_mult_03.shallow_simplification()"
   ]
  },
  {
   "cell_type": "markdown",
   "metadata": {},
   "source": [
    "#### `ScalarMult.scalar_one_elimination()`"
   ]
  },
  {
   "cell_type": "code",
   "execution_count": 9,
   "metadata": {},
   "outputs": [
    {
     "data": {
      "text/html": [
       "<span style=\"font-size:20px;\"> <a class=\"ProveItLink\" href=\"proofs/one_as_scalar_mult_id/thm_proof.ipynb\" style=\"text-decoration: none\">&nbsp;&#x22A2;&nbsp;&nbsp;</a><a class=\"ProveItLink\" href=\"../__pv_it/theorems/738f4bd70b7fd722e195a33d245046ce195835800/expr.ipynb\"><img src=\"data:image/png;base64,iVBORw0KGgoAAAANSUhEUgAAAZAAAAAyBAMAAACAMpCuAAAAMFBMVEX///8QEBCIiIhmZma6urrM\n",
       "zMxUVFQiIiJERETc3Nzu7u6qqqp2dnaYmJgyMjIAAAAcRTyBAAAAAXRSTlMAQObYZgAABRRJREFU\n",
       "aN7tmm1oHEUYx/+57F3ubm8vIeIXFbIEEdGmLK2lFFM4ibRVA70gKKK08aVgtcIhKr7i0U8XQ8ni\n",
       "B00Dbc4GfImgV6vRQjFn01pfQntSEIVGg7ViBbWSRJNoUmfm2b2929tcnWIlnPuEudn8b5999jc7\n",
       "88zMJoCktZz/C8vOTpz/Tdrnyt0Dyw/kjd37pX0ux7K0Lh/EB/FBfBAfxAfxQXwQH+R/BbLHKm47\n",
       "6H26ahLIJK8mpEBkXeQsmqZSYSHT22E7gXzOq5+kQGRd5CxuUlGvcBNOeju8RSD97DOSlgKRdZGz\n",
       "k1Re/Xje/c1hb4eYLkDiWXaYkwKRdZGzp6yiVYC8skRfbBIg2mfDwy/LDXZZFymLpKh4gMQT3i7f\n",
       "U9aazWSelcxaki5SFjColIHsW4WGAmKG61ySMUYg24AeSRBJl2rtbx8k7YNwgUoZSP4mNHRDE6P9\n",
       "+C/cTjsyviGQDpEOlL5exGez/Gt6gMHiaN40m8OvL5SCdJRnkECLAXUxWay5ffhHAl1X2SeMr8l7\n",
       "g+TtwO/aSkOOig3CbymSWws1DzXlagWS8T6BNCDAG+AL4CVK1IIguLropTUhsr3siVguRfuIjbju\n",
       "kpobgwjYzXwEoW5PDj41UOB6e5KoS1CxQKKL/APNUHIInnONcpKxlUBihQauPghVhwMChYO8Obae\n",
       "RUvjnfKuZbmIix1aXcAok3jLWbXQGFS9fVKTw1du9xQDF09wgeAJcTPzCKACxJJtkMjkHVxsxtVw\n",
       "g2i9A+y+6vRAohzEcuH21cFhdqUkbuO/WLXQBhO42z7pGUD3BNnmBD67RNeiqSKFmNW21hj5wZGx\n",
       "0Vpr9TzAW3b69UIFSIc4evvWXe61FndRrsE4FJFIGgvIOzVp4TQ7HlqhY3zM/PYRE3ufG3sInSdZ\n",
       "7hlfx/VAG5vfUk7gtmqDnfXM92ANdrhle7DjAAdVp4+nK0DIcbTzRzcId4k1Zj9AnFoxH8g6NWnq\n",
       "PAP5GQ+H8qG80reYDc5gJVpZzt/BfpjeiRfFfGEHHrEb36CCQOkTmYyyFqp3ZwyS0W6BNPLHHltQ\n",
       "ZtwgUcrbJwqbky4Q7jKwkT3XIWrF9J6SmjQ0a2ZwHiODAnFLmnXwxkSw9bsIuz+h3zgMJe0E3mT3\n",
       "+xSV+nsX1ztRd/A1ajzp7ppCxhkLROOh4gYNq1KQ4JOZzE7gtEjWZSDCZRw3485MJqMj1kRtRTVp\n",
       "OFYPbWFixWaIAXKOgdQVPsnep7ARy3WlbxpKtxN4i3uJUmmvLbFESZXuRxpzGDXdXYvu/0+oc177\n",
       "kcfYDYaoGy0kS2rSMNgm0sygKbpoSjyROey8ZY7Sz10s/fO5yg68wbVo9LDqi0bLtpqoM0pB+Oxz\n",
       "VMwoLPJlXiCPR3KICYIg/5NJf5ZqS0OcreV2QQsZUX2BJQB2mZXRGTyq3499XD+AsGhLO/Cp4tRu\n",
       "Uqls+erLeIvq+XXYP1UCEln7u44wT4PHpky1xfAA2cATTa845CG6cnZ2IE3lo/ZwHmOtWNPejuDC\n",
       "KQNftu7VY6t0rh9q/RR42gl8wwU3VuElNlY9S211Sy5yLR8jVbe6ATEehOU8NMcqZjNu1zuHkxfc\n",
       "6n7tzaGZ/wBEZs+umlX9PEHCjnfh33/5cJEgWvVI/VMeolK8/aFL8BbF+A/fohTfjFznv9e6hCBq\n",
       "m1EbICPI1wbImVrpWmdh1gbI7ROF2gCpmazlg/ggFwNSM//mtFz/8exv/gegbkkEWBUAAAAASUVO\n",
       "RK5CYII=\n",
       "\" style=\"display:inline;vertical-align:middle;\" /></a></span>"
      ],
      "text/plain": [
       "|- forall_{K | 1 in K} [forall_{v in V, V in_c VecSpaces(K)} ((1 * v) = v)]"
      ]
     },
     "execution_count": 9,
     "metadata": {},
     "output_type": "execute_result"
    }
   ],
   "source": [
    "# the underlying theorem to instantiate inside the eventual method\n",
    "from proveit.linear_algebra.scalar_multiplication import one_as_scalar_mult_id\n",
    "one_as_scalar_mult_id"
   ]
  },
  {
   "cell_type": "code",
   "execution_count": 10,
   "metadata": {},
   "outputs": [
    {
     "data": {
      "text/html": [
       "<strong id=\"temp_self\">temp_self:</strong> <a class=\"ProveItLink\" href=\"../__pv_it/demonstrations/8c5c47ea3faf86cf7a985980e7e6b04c346dfb8e0/expr.ipynb\"><img src=\"data:image/png;base64,iVBORw0KGgoAAAANSUhEUgAAAC4AAAAWBAMAAABNvrPEAAAAMFBMVEX////c3NxERES6urrMzMwi\n",
       "IiIyMjJmZmaIiIiYmJh2dnZUVFTu7u4QEBCqqqoAAACBO7e7AAAAAXRSTlMAQObYZgAAAJVJREFU\n",
       "KM9jYEAGPhCKjwENLIZQ7AbYxVk2gDTdQRV/e4CBIYCB4fTqP8jiPLv2A8U7gWzOP6jq5wPFj+EQ\n",
       "ZxLALs63ALs4yGKo+AEU8WKYOM83FHFvuPpoFPFXOMxXxC7OqMDAwIEm3g8U53rAwL73WyWyePX9\n",
       "9AkMrNjDk8Ech/gW7OI8CdjFORvQxFsgFNMBBlwAALuyO9PAn/tAAAAAAElFTkSuQmCC\n",
       "\" style=\"display:inline;vertical-align:middle;\" /></a><br>"
      ],
      "text/plain": [
       "temp_self: 1 * |1〉"
      ]
     },
     "execution_count": 10,
     "metadata": {},
     "output_type": "execute_result"
    }
   ],
   "source": [
    "# give our example a general name:\n",
    "temp_self = example_scalar_mult_01"
   ]
  },
  {
   "cell_type": "code",
   "execution_count": 11,
   "metadata": {},
   "outputs": [
    {
     "data": {
      "text/html": [
       "<strong id=\"_K\">_K:</strong> <a class=\"ProveItLink\" href=\"../../../__pv_it/common/1f2ffac7a1dc7c1a4f1fc7348356ae64ea992c790/expr.ipynb\"><img src=\"data:image/png;base64,iVBORw0KGgoAAAANSUhEUgAAABMAAAAOBAMAAAA/Njq6AAAALVBMVEX///8iIiJmZmbu7u6YmJh2\n",
       "dna6urrc3NxERESqqqrMzMwyMjJUVFSIiIgAAAAVNIO7AAAAAXRSTlMAQObYZgAAAHRJREFUCNdj\n",
       "YGC4824PA8O51wsYgOA1EM8oALHYnjIwsEwAsRhYnzEwh4NZDNwPGJZCWAx8G1gUoMy8gHsCUGbc\n",
       "XaaXUOY+B/bXUOYLBoY+sPkMbG+Byg9AjH3FwMD4GMxkfMDAwPsUxDLa9+YCw8V37QwMAO47Hpqy\n",
       "Q2VnAAAAAElFTkSuQmCC\n",
       "\" style=\"display:inline;vertical-align:middle;\" /></a><br>\n",
       "<strong id=\"_v\">_v:</strong> <a class=\"ProveItLink\" href=\"../../../__pv_it/common/a4b9661da9b52dcebf59c5559fec8901f4df10750/expr.ipynb\"><img src=\"data:image/png;base64,iVBORw0KGgoAAAANSUhEUgAAAAoAAAAJBAMAAAD5iKAgAAAALVBMVEX///8yMjLMzMyqqqrc3NxU\n",
       "VFQQEBC6urp2dnaYmJgiIiJmZmaIiIju7u4AAADfVbIxAAAAAXRSTlMAQObYZgAAAD9JREFUCNdj\n",
       "4D19gGElAwd7AsNSBmfuBQwWDBfYDjAUMzDUXWA4wMDQxcDQwMAQysCswMDQyHCDgYGBtXMCAwB0\n",
       "dwyMonWAvgAAAABJRU5ErkJggg==\n",
       "\" style=\"display:inline;vertical-align:middle;\" /></a><br>\n",
       "<strong id=\"_V\">_V:</strong> <a class=\"ProveItLink\" href=\"../../../__pv_it/common/6d80eb1398b2335bf9ec427954b851b7094dced50/expr.ipynb\"><img src=\"data:image/png;base64,iVBORw0KGgoAAAANSUhEUgAAAA8AAAAOBAMAAAACpFvcAAAAMFBMVEX///+YmJi6urp2dnbc3NxU\n",
       "VFTu7u5mZmYQEBAiIiLMzMyqqqpEREQyMjKIiIgAAADzFoEbAAAAAXRSTlMAQObYZgAAAFhJREFU\n",
       "CNdjePv/NAPDyh8FDGx/GRgYuAOARAcQswIxw30gfgVixDswsBiAGPYKEBkG+QcQGYb1BRAZhvwD\n",
       "EBkG/glCEAbnN4gMA8+fBAiD/ROEZmAMAFMAsqgStvOMS9EAAAAASUVORK5CYII=\n",
       "\" style=\"display:inline;vertical-align:middle;\" /></a><br>"
      ],
      "text/plain": [
       "_K: K\n",
       "_v: v\n",
       "_V: V"
      ]
     },
     "execution_count": 11,
     "metadata": {},
     "output_type": "execute_result"
    }
   ],
   "source": [
    "# obtain the instance params\n",
    "_K, _v, _V = one_as_scalar_mult_id.all_instance_params()"
   ]
  },
  {
   "cell_type": "code",
   "execution_count": 12,
   "metadata": {},
   "outputs": [
    {
     "data": {
      "text/html": [
       "<strong id=\"_V_sub\">_V_sub:</strong> <a class=\"ProveItLink\" href=\"../../../physics/quantum/__pv_it/common/0ae5506e97fd8972a3f9895052eb938d332aff7b0/expr.ipynb\"><img src=\"data:image/png;base64,iVBORw0KGgoAAAANSUhEUgAAABcAAAAUBAMAAACUkLs9AAAAMFBMVEX///+6urp2dnbc3NxUVFSY\n",
       "mJju7u6qqqrMzMxmZmZEREQQEBAiIiIyMjKIiIgAAAAjslSOAAAAAXRSTlMAQObYZgAAAJVJREFU\n",
       "GNNjYIACplnTGOBAmcEXwTnM0G8A5xxksBdASDHUJyBxzoEIvjv396wEGjcByOboL2CbH8nAEAmS\n",
       "CPBjYGD9ycCowNjAwNqwDSjiydBbXpXAwMm8AMjJY9j//z8DQwrHBISBRowPEBxLZE4WhwKCw5vg\n",
       "gOCwTgBx2KC8dXJAQhbK4bylxla1DKaw8/afGRAWAC7tIMrpUS56AAAAAElFTkSuQmCC\n",
       "\" style=\"display:inline;vertical-align:middle;\" /></a><br>"
      ],
      "text/plain": [
       "_V_sub: Complex^{2}"
      ]
     },
     "execution_count": 12,
     "metadata": {},
     "output_type": "execute_result"
    }
   ],
   "source": [
    "# find a containing vector space V in the theorem\n",
    "_V_sub = list(VecSpaces.yield_known_vec_spaces(temp_self.scaled))[0]"
   ]
  },
  {
   "cell_type": "code",
   "execution_count": 13,
   "metadata": {},
   "outputs": [
    {
     "data": {
      "text/html": [
       "<strong id=\"_K_sub\">_K_sub:</strong> <a class=\"ProveItLink\" href=\"../../../numbers/number_sets/complex_numbers/__pv_it/common/d18a028138f659eda00de597c28a3447fe87eb100/expr.ipynb\"><img src=\"data:image/png;base64,iVBORw0KGgoAAAANSUhEUgAAAA8AAAAOBAMAAAACpFvcAAAAMFBMVEX///+6urp2dnbc3NxUVFSY\n",
       "mJju7u6qqqrMzMxmZmZEREQQEBAiIiIyMjKIiIgAAAAjslSOAAAAAXRSTlMAQObYZgAAAGNJREFU\n",
       "CNdjYGDgu3N/z0oGBgaO/gK2+ZFARoAfAwPrTyBu2AbkeTIwcDIvADLyGBhSOCYwgIER4wMIwxLG\n",
       "yOJQgDB4ExwgDNYJIAYbEK+TAxKyQMx5S42tahlIsvP2nxkMDABpcxTBm+Hj2gAAAABJRU5ErkJg\n",
       "gg==\n",
       "\" style=\"display:inline;vertical-align:middle;\" /></a><br>"
      ],
      "text/plain": [
       "_K_sub: Complex"
      ]
     },
     "execution_count": 13,
     "metadata": {},
     "output_type": "execute_result"
    }
   ],
   "source": [
    "# find a vec space field, hopefully containing the mult identity 1\n",
    "_K_sub = list(VecSpaces.yield_known_fields(_V_sub))[0]"
   ]
  },
  {
   "cell_type": "code",
   "execution_count": 14,
   "metadata": {},
   "outputs": [
    {
     "data": {
      "text/html": [
       "<strong id=\"_v_sub\">_v_sub:</strong> <a class=\"ProveItLink\" href=\"../../../physics/quantum/__pv_it/common/57cbcececeb3a772f3462a38bcf9836042f3091f0/expr.ipynb\"><img src=\"data:image/png;base64,iVBORw0KGgoAAAANSUhEUgAAABQAAAAWBAMAAAAyb6E1AAAAMFBMVEX////c3NxEREQiIiIyMjJm\n",
       "ZmaYmJhUVFQQEBCqqqqIiIi6urp2dnbu7u7MzMwAAABqK0sxAAAAAXRSTlMAQObYZgAAAG1JREFU\n",
       "CNdjeMsABpxAfBrCZN0AZ/IVQJgzLjAwGICYvDX1QOYyiGg+kHkFwWQSgDM5D8CZQH1wZjSC+RzB\n",
       "nINgKsKZjApg5nogk2cCiBne75rAwAx3GcNWBLMOzuR1gDPZFjAwrIMwmS4wIAEAg6Ar1v/VlKUA\n",
       "AAAASUVORK5CYII=\n",
       "\" style=\"display:inline;vertical-align:middle;\" /></a><br>"
      ],
      "text/plain": [
       "_v_sub: |1〉"
      ]
     },
     "execution_count": 14,
     "metadata": {},
     "output_type": "execute_result"
    }
   ],
   "source": [
    "# isolate the vector portion\n",
    "_v_sub = temp_self.scaled"
   ]
  },
  {
   "cell_type": "code",
   "execution_count": 15,
   "metadata": {},
   "outputs": [
    {
     "data": {
      "text/html": [
       "<span style=\"font-size:20px;\"> <a class=\"ProveItLink\" href=\"../__pv_it/demonstrations/8466b89c01335f455e0bb08c67a9cdf1dd9657800/proof.ipynb\" style=\"text-decoration: none\">&nbsp;&#x22A2;&nbsp;&nbsp;</a><a class=\"ProveItLink\" href=\"../__pv_it/demonstrations/37c8709dd5f8f26f289a26e725ab27cc663849a50/expr.ipynb\"><img src=\"data:image/png;base64,iVBORw0KGgoAAAANSUhEUgAAAHEAAAAWBAMAAAAFoW4BAAAAMFBMVEX////MzMxUVFR2dna6uroQ\n",
       "EBCqqqqIiIgiIiJmZmYyMjJERETu7u6YmJjc3NwAAACgK8IjAAAAAXRSTlMAQObYZgAAATxJREFU\n",
       "OMtjYEADjAcgdAIDNoAiy3cBRY7ZAUJPAeI8DJ3IsgynscsJATHTA1w6QbIM64A49QCKHFsMAwMH\n",
       "kM2zAJtOmCzvBAYeZX0UnYeM/jAwsIM8YY5FJ1yWA+Si+6h28v6B2ncUm50w2RcM2HUy7ANiLgcc\n",
       "OkGylbh0JoM4E3DpBMruxaUTHAjgILJaBQIr0WXbEDp5UOQ4QcHYgMtOoGwIQuf5BchyjApA/AGX\n",
       "TqAskk4OBWQ5NgN8OoGybbj8yQ2MLpYGhD8XocviDKHX8BDCZidQ1hIkUI+qkx0kZwYKBwMsOmGy\n",
       "HkBqUvzKC0hynKq/5jIwgBzKJYCpEy7L8QB7bmABJYITuPIKSJZ3AnY5JgEcKR4huw+73CmcuQwm\n",
       "iytnX4dGDG5Z9NKEHRooe4D4HkZpgixLNgAANR5zjsDnJtMAAAAASUVORK5CYII=\n",
       "\" style=\"display:inline;vertical-align:middle;\" /></a></span>"
      ],
      "text/plain": [
       "|- (1 * |1〉) = |1〉"
      ]
     },
     "execution_count": 15,
     "metadata": {},
     "output_type": "execute_result"
    }
   ],
   "source": [
    "# instantiate the theorem\n",
    "one_as_scalar_mult_id.instantiate({_K: _K_sub, _v: _v_sub, _V: _V_sub}, preserve_all=True)"
   ]
  },
  {
   "cell_type": "code",
   "execution_count": 16,
   "metadata": {},
   "outputs": [
    {
     "data": {
      "text/html": [
       "<span style=\"font-size:20px;\"> <a class=\"ProveItLink\" href=\"../__pv_it/demonstrations/8466b89c01335f455e0bb08c67a9cdf1dd9657800/proof.ipynb\" style=\"text-decoration: none\">&nbsp;&#x22A2;&nbsp;&nbsp;</a><a class=\"ProveItLink\" href=\"../__pv_it/demonstrations/37c8709dd5f8f26f289a26e725ab27cc663849a50/expr.ipynb\"><img src=\"data:image/png;base64,iVBORw0KGgoAAAANSUhEUgAAAHEAAAAWBAMAAAAFoW4BAAAAMFBMVEX////MzMxUVFR2dna6uroQ\n",
       "EBCqqqqIiIgiIiJmZmYyMjJERETu7u6YmJjc3NwAAACgK8IjAAAAAXRSTlMAQObYZgAAATxJREFU\n",
       "OMtjYEADjAcgdAIDNoAiy3cBRY7ZAUJPAeI8DJ3IsgynscsJATHTA1w6QbIM64A49QCKHFsMAwMH\n",
       "kM2zAJtOmCzvBAYeZX0UnYeM/jAwsIM8YY5FJ1yWA+Si+6h28v6B2ncUm50w2RcM2HUy7ANiLgcc\n",
       "OkGylbh0JoM4E3DpBMruxaUTHAjgILJaBQIr0WXbEDp5UOQ4QcHYgMtOoGwIQuf5BchyjApA/AGX\n",
       "TqAskk4OBWQ5NgN8OoGybbj8yQ2MLpYGhD8XocviDKHX8BDCZidQ1hIkUI+qkx0kZwYKBwMsOmGy\n",
       "HkBqUvzKC0hynKq/5jIwgBzKJYCpEy7L8QB7bmABJYITuPIKSJZ3AnY5JgEcKR4huw+73CmcuQwm\n",
       "iytnX4dGDG5Z9NKEHRooe4D4HkZpgixLNgAANR5zjsDnJtMAAAAASUVORK5CYII=\n",
       "\" style=\"display:inline;vertical-align:middle;\" /></a></span>"
      ],
      "text/plain": [
       "|- (1 * |1〉) = |1〉"
      ]
     },
     "execution_count": 16,
     "metadata": {},
     "output_type": "execute_result"
    }
   ],
   "source": [
    "# here is the actual method call\n",
    "example_scalar_mult_01.scalar_one_elimination()"
   ]
  },
  {
   "cell_type": "markdown",
   "metadata": {},
   "source": [
    "#### `ScalarMult.double_scaling_reduction()`"
   ]
  },
  {
   "cell_type": "code",
   "execution_count": 21,
   "metadata": {},
   "outputs": [
    {
     "data": {
      "text/html": [
       "<span style=\"font-size:20px;\"> <a class=\"ProveItLink\" href=\"../__pv_it/demonstrations/ad3943461025f3868da2bfb5c14c66741d2d57d30/proof.ipynb\" style=\"text-decoration: none\">&nbsp;&#x22A2;&nbsp;&nbsp;</a><a class=\"ProveItLink\" href=\"../__pv_it/demonstrations/9748bf890eb69cc1db1c4cb0ff5a199e1144f25a0/expr.ipynb\"><img src=\"data:image/png;base64,iVBORw0KGgoAAAANSUhEUgAAAJsAAAAWBAMAAAAlYfO5AAAAMFBMVEX////MzMxUVFR2dna6uroQ\n",
       "EBCqqqqIiIgiIiJmZmYyMjJERETu7u6YmJjc3NwAAACgK8IjAAAAAXRSTlMAQObYZgAAAa1JREFU\n",
       "OMutlDFPwkAYhj+QQIGDNP4BSPwBMkl0YnQzJu42Ma5C3JhkYjTE+AOIGw4OrgphMTEyaGIMmzKa\n",
       "uBid3PyuX7mrb6l28JI37b333Nve1+sR/dVSY7l6yYjyA4yCsdSQ6ynrIBDFEjTB0UkUrj+6tMz3\n",
       "6ZkonqAL1v44NAoGwwVPHZPD96ovisQZotQjtbIaikOD4SeiDcrpGtQDYZwhHP3uL6E4NBi+JGqO\n",
       "/be6CYRxhngliEOD4Q+iLY9G3Ck0RBhniDbGtSNx6ovhFu3pTk8EcZYYYtwwElf+JKq0pNJ9EZfq\n",
       "XLcBEl07W/nT0WCYn12pUZ4Xme2I4O0ssWNn3/uPRcMsJVXlH+BdtHixTIRmO1WI8w0pdNOjbC02\n",
       "zhJdrF03+mWvfKPIOyjTEc1rd4ZEgk8hm5TefnyKBdtYE+vaOArFocGw46ltojXu5GsijDPEJvdP\n",
       "dgf2FEGDYVU/dIn0GguuCOMM4eABgcb8+Mno3XsbKJYo4R5HYw6n3V+OAEuMcHS0GL777YAyRKLj\n",
       "U7cpS++V4iwubprkcM8Flb9mPQeiWOJ/2zcBsq06qbyRaAAAAABJRU5ErkJggg==\n",
       "\" style=\"display:inline;vertical-align:middle;\" /></a></span>"
      ],
      "text/plain": [
       "|- (1 * (1 * |0〉)) = |0〉"
      ]
     },
     "execution_count": 21,
     "metadata": {},
     "output_type": "execute_result"
    }
   ],
   "source": [
    "example_scalar_mult_02.double_scaling_reduction()"
   ]
  },
  {
   "cell_type": "code",
   "execution_count": 23,
   "metadata": {},
   "outputs": [
    {
     "data": {
      "text/html": [
       "<span style=\"font-size:20px;\"> <a class=\"ProveItLink\" href=\"../__pv_it/demonstrations/8fd8e410e39369d46c090d79ca1c2b02a65cda040/proof.ipynb\" style=\"text-decoration: none\">&nbsp;&#x22A2;&nbsp;&nbsp;</a><a class=\"ProveItLink\" href=\"../__pv_it/demonstrations/85344a8fbc2f5788b0db6447484d8f5e456217e20/expr.ipynb\"><img src=\"data:image/png;base64,iVBORw0KGgoAAAANSUhEUgAAAMUAAAAWBAMAAACCvEVCAAAAMFBMVEX////MzMxUVFR2dna6uroQ\n",
       "EBCqqqqIiIgiIiJmZmYyMjJERETu7u6YmJjc3NwAAACgK8IjAAAAAXRSTlMAQObYZgAAAepJREFU\n",
       "SMe9VTFLw0AUfq21SdtrCf6BFsTZ4mDRqaObCI6CAXG1xc3J4tCxFHEVilsdRFzVEgqC6GBBRLpo\n",
       "R0EE0cni4F3S3ru8a6zt4MFHct99733Je7kLwMgj5HhX+++qVIusasSbfzqR964HHFsKglVwS1cp\n",
       "wU716Ny9BVP8PtxBBKvghGPTUVYpEefx0TVfdNxmFTCFfw2heUhVsgpselZJqRFtgObcty/6AWAR\n",
       "DFHTnALqIVWmeMtnJaVGVISx3+MMoOC4z36lgHpI1QuQlJRIlXSPD4BlGxqikHkE9ZCqHepBCaOq\n",
       "ebAvHl2EDTGpIogHqi6pByUSLc0j9QmQLnrtrCF4+Y/FqFNVGVMyNwUlTBs9nF40f8J0FmK8PtES\n",
       "grwHqlYx5Z37LJSYzEsP1vVVIZTh2/kdMbhWXKWkNDPEwyUUD9jDbhZsiGZ/9UBVmfaDEmqt+tHn\n",
       "riLBv/JICdHvxxFVjdNzb3fBq9ZzGKxaEMSu4kEJ96s0/B6mzVYA5vkklkVQD6la4vP99TqetZQQ\n",
       "VYjNdA/VaJbbtgBEeeIWgnpIlUlPTI2oBJzaEfGC1woCVUm6QTWiHRAdtoaciahq0FVKJDqDo2+G\n",
       "ne1SNd4/SozHnn8fwarR/7VGr70XHE8KglX/MH4Aab3XEIv+IWQAAAAASUVORK5CYII=\n",
       "\" style=\"display:inline;vertical-align:middle;\" /></a></span>"
      ],
      "text/plain": [
       "|- (1 * (1 * (1 * |0〉))) = |0〉"
      ]
     },
     "execution_count": 23,
     "metadata": {},
     "output_type": "execute_result"
    }
   ],
   "source": [
    "example_scalar_mult_03.double_scaling_reduction()"
   ]
  },
  {
   "cell_type": "code",
   "execution_count": null,
   "metadata": {},
   "outputs": [],
   "source": [
    "%end demonstrations"
   ]
  }
 ],
 "metadata": {
  "kernelspec": {
   "display_name": "Python 3",
   "language": "python",
   "name": "python3"
  },
  "language_info": {
   "codemirror_mode": {
    "name": "ipython",
    "version": 3
   },
   "file_extension": ".py",
   "mimetype": "text/x-python",
   "name": "python",
   "nbconvert_exporter": "python",
   "pygments_lexer": "ipython3",
   "version": "3.7.3"
  }
 },
 "nbformat": 4,
 "nbformat_minor": 1
}
