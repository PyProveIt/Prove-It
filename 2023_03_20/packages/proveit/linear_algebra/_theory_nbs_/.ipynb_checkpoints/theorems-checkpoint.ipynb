{
 "cells": [
  {
   "cell_type": "markdown",
   "metadata": {},
   "source": [
    "Theorems (or conjectures) for the theory of <a class=\"ProveItLink\" href=\"theory.ipynb\">proveit.linear_algebra</a>\n",
    "========"
   ]
  },
  {
   "cell_type": "code",
   "execution_count": 1,
   "metadata": {},
   "outputs": [],
   "source": [
    "import proveit\n",
    "# Prepare this notebook for defining the theorems of a theory:\n",
    "%theorems_notebook # Keep this at the top following 'import proveit'.\n",
    "\n",
    "from proveit import n\n",
    "from proveit.logic import Forall, InSet, CartExp, InClass\n",
    "from proveit.numbers import NaturalPos, Rational, Real, Complex\n",
    "from proveit.linear_algebra import VecSpaces"
   ]
  },
  {
   "cell_type": "code",
   "execution_count": 2,
   "metadata": {},
   "outputs": [
    {
     "name": "stdout",
     "output_type": "stream",
     "text": [
      "Defining theorems for theory 'proveit.linear_algebra'\n",
      "Subsequent end-of-cell assignments will define theorems\n",
      "'%end theorems' will finalize the definitions\n"
     ]
    }
   ],
   "source": [
    "%begin theorems"
   ]
  },
  {
   "cell_type": "markdown",
   "metadata": {},
   "source": [
    "Number field vector sets are vector spaces:"
   ]
  },
  {
   "cell_type": "code",
   "execution_count": 3,
   "metadata": {},
   "outputs": [
    {
     "data": {
      "text/html": [
       "<strong id=\"rational_vec_set_is_vec_space\"><a class=\"ProveItLink\" href=\"proofs/rational_vec_set_is_vec_space/thm_proof.ipynb\">rational_vec_set_is_vec_space</a> (conjecture without proof):<br></strong> <a class=\"ProveItLink\" href=\"../__pv_it/theorems/e929e5668227ecded659c53156e7bc16874c98620/theorem_expr.ipynb\"><img src=\"data:image/png;base64,iVBORw0KGgoAAAANSUhEUgAAAQwAAAAmBAMAAADD4rhEAAAAMFBMVEX///+IiIgiIiIQEBB2dnbu\n",
       "7u5ERETMzMzc3NwyMjK6urpmZmaYmJiqqqpUVFQAAAB6qHgnAAAAAXRSTlMAQObYZgAAAAlwSFlz\n",
       "AAAOxAAADsQBlSsOGwAABQRJREFUWMO1WF1oHFUU/ia7k5md3U12IUqDbQlBLTEPCWJMqG1ZJdTY\n",
       "P9bYl9Jq1p9GqJZurA8imEwbVKTYrrQWUwRXEp+MdYNCoRt1Q4ViktLVPkSKNStKwFoxKdWsSWM8\n",
       "9+78bdgMo8nch5M7kzPnfvec75xz7wKOxhdwbYjvOlb159yDgZeiTjW/cREFAk73KDW5CQMHHer5\n",
       "Iq7CeMJhVCajrsJwyry7XUUBOe+MGn+6CwPPOdKqiFkexi6GUyvevjFTubzg6KvKDC8zWztfUCGO\n",
       "bkLLSmGs063hQ/58IgtOjx9sv+rhmNc34+gvkB9PoDhGgUM3c5AbHjRoLKbTWVuHBSO6NQh8h2Up\n",
       "nGd/37OFcZkJ79cZKOdjqAgpjUuIfptZShrP7XF8l7Czt8e0Bl7J/Ql0s1jFbGH8ysTLPhKxEXji\n",
       "/lS8ONJ/M0vm83bykC2MYdMaxtgLYRo+cqY3awtjCxP7nyLxqA8nUPZaAYbwTG0dnxyioI2a6qfY\n",
       "Cnb2Gk1r8LBYBmcRoOj47Bl1iwU81kXymj9+FsIO/lZ5R2fDJDHBUoGeJVQZO2okTGvwMU1pAbi/\n",
       "tvYBexgs9lJkkORgwPTbWwYnPY2QQpCHKBp7W3di8hbxRDm5I32DohNujUL8vDWLY1UpdI1Us/hF\n",
       "LNa8DL9IK5wjF5VY22wj8gLbe+gSya6guU2T1t4F+KM4rAoJeTP648Li4hnCthHtKVxRiX69WaVZ\n",
       "akG1GEMZ61AZi7UCi2aA45BL1XQz5ZjLIEdYUg8KZkIkrBytAOqBBV+CFsa+nxcz8OUQnKMnJY8+\n",
       "BFsoJyuvNkFgSZW1WAs2amEvj3qTVt7Xb8OFnBWGMsekFk0jEhIFs/bewvwDdRQSOfZUh+bDw0T9\n",
       "FMR58vdAXmTc6iFgkYanWQXyJC3WpGmmT4rBkMnQrqkD+NEbZYst8Qb2H9e4rRcpSzJMRmjr8+Pj\n",
       "F3tC4PQk5AQDf0H88lpemmEqw+Pj8d0N8xoMw1qhCLHXiRGjEJ1jFTWU8mJ7uj6dLIIxwDP9krl2\n",
       "jTn1NIcKWh0pLVlnNW9cSUp55hT0ELflKC7HeVBMa8EajRvYSZUsMNx1F7CWvZq4esRbxA35NofI\n",
       "6t51iwvCljp6M8qri0LcQPY++mSac2OWtqnkX+mj1TwU509CqCBXlYcs1gIxPRd7SWNff8ajFvw8\n",
       "4X1yoAiGOMP/7KIu8Jv1SGbmrvwP40MSbfImeNW6LPYQE1rQHiEYwuz3vRm0SRvhfbsJ5UQOnqO6\n",
       "NX9Ez8UKctTr1aiMKjwbJ5C6swgGHiqs9VXfvLWKi1MfGfMz7P/pKhV7h9Yg9/Gu64TyRphk97o7\n",
       "HgmJ6bCKY0NtysPhbSzINRZrvBdJc7qhn9CPwOnOzoMEY7evqG7gtHbsiI8UpbSyVSvmpc+vyzfZ\n",
       "DRZrR3ldNXp2M9KSFCl4Q/m2+LPPdKjC7686PlPYwBizWBvm9U+nO3Fqw0ShmlKTWr+k0WvFIjh1\n",
       "8kXHMMqWP+eWq4a1Qm8v13WVHKoyeIOiJdWprCZaR0f2vx+wlD+2qMteF2NLEFUWd0I6mR0ohX7F\n",
       "h88l44gxW8Plp6qj212jyyfzx5zduedchrF5NdH+7yE49LYnXvIWtXaVrrYehylQ+oTbbX/idD6q\n",
       "nSq+X+rl86t1hXV8/WovlVH3YHUu+u2Oy5Jc6vepgfHMqsBwXpnxpos/wbEe+y96S3BMYC49EwAA\n",
       "AABJRU5ErkJggg==\n",
       "\" style=\"display:inline;vertical-align:middle;\" /></a><br>"
      ],
      "text/plain": [
       "rational_vec_set_is_vec_space: forall_{n in NaturalPos} (Rational^{n} in_c VecSpaces(Rational))"
      ]
     },
     "execution_count": 3,
     "metadata": {},
     "output_type": "execute_result"
    }
   ],
   "source": [
    "rational_vec_set_is_vec_space = Forall(\n",
    "    n, InClass(CartExp(Rational, n), VecSpaces(Rational)),\n",
    "    domain = NaturalPos)"
   ]
  },
  {
   "cell_type": "code",
   "execution_count": 4,
   "metadata": {},
   "outputs": [
    {
     "data": {
      "text/html": [
       "<strong id=\"real_vec_set_is_vec_space\"><a class=\"ProveItLink\" href=\"proofs/real_vec_set_is_vec_space/thm_proof.ipynb\">real_vec_set_is_vec_space</a> (conjecture without proof):<br></strong> <a class=\"ProveItLink\" href=\"../__pv_it/theorems/71edc57d83b6e4deabed32b302b4e323c3d60a9e0/theorem_expr.ipynb\"><img src=\"data:image/png;base64,iVBORw0KGgoAAAANSUhEUgAAAQoAAAAmBAMAAADO/MgDAAAAMFBMVEX///+IiIgiIiIQEBB2dnbu\n",
       "7u5ERETMzMzc3NwyMjK6urpmZmaYmJiqqqpUVFQAAAB6qHgnAAAAAXRSTlMAQObYZgAAAAlwSFlz\n",
       "AAAOxAAADsQBlSsOGwAABQpJREFUWMO1mG1sU2UUx/9re+/t7cu6JZOwuMCoGIKLuDgcc4osBszk\n",
       "RRrEJTpk1bhlLix0LFETI7syAc0S1oAQCS/WbF/8wu7izNQO7YJikEZLMFkwxpUPGk3QbDJ5mS7z\n",
       "PM9te2+Xrl5He7+093nOfZ7fPed/znlawNR1Fvm6hKOmTZ3xvFFgj8+s5YX8QcBl9g2lh/JIgXaT\n",
       "dnJdPimeNhmScV8+KcyKbnk+IWC/ZU4Wf+WVAi+Zsir0GxQ90nH3HW+rpH85Z+ohT4R2P9Jy+55d\n",
       "wI6+iFW5Q4iC2IXq3YeradUP+H1vDFwaP2Z9qottK9rjjmvN2F8KT7pWz8+uAvZdb04NNIbPOrOu\n",
       "9z3gP4Qz530oiLB7i4rP2Od7WZ/6DpyiDv69wFX0zZn+gi11n16SV8C9MmvNDhLFWxAlcgAv384g\n",
       "9jKV+rNS/Jak+EQG1iAspU/30qpQU7c29T9qrTPCKZwKPXeRR2gCMvnXFstK8ViKQoR9AivGtOFF\n",
       "Xm+Qz1CmuUJpJU7MtpwVCQp6dyuLrvsmXEQmZ1fTVJLi551wxFHCg4kP70pMu/+mNNKtxRqCyrbc\n",
       "FY2i8BmKiMzWkmaAB73e1dkp/klQSO0G/dj1jlwFdAA9JSqEofUx9+xGxrj64ue0w2jJBpLr+i2w\n",
       "D26CVFbMnDekUbxyhURvY8kh0AbDQHOGrfXWYZ/RKB5+YJkhO2Q9X7fG8DGkGpSiO+ZYg6Wztyk+\n",
       "VSGhAu4afAr7WvQFOpWCYANQTuYnGUX34T+ZL108ppPAIdgzFXJdblKCYvNXQWOHS5NnnKWbJ3ac\n",
       "7St8u45e7jS1nxDdDShyEJeVCmCmz4ciMr+f+yL6LI9mZSLkos8WMlb1io04FzdSOKYTEWmOGuw6\n",
       "vXRpuSXfInF2RSBvmEpwrwNOAE20xnNblSZyq0Rc71puLGaztZxC3MElMcFGSFjuIv21On5pw082\n",
       "n9OXyRd1r4uGiDToX91TJM7xkWj01UloyhwIMQqPH42/jytdRUzB0ejXwuOzaopCUpkOHJUJCgRH\n",
       "U5k8zOpokWrDpnBFODSXwvmaoa5YDH6pInF2UbYLbDmWpZ6A5gt3LRVe5hK+xn64bqYiguED7AXK\n",
       "E7rAlqPJJlXGhsZ+eNOWpgt7MkcEf5mhGRQZque9lPkUxdBxWtdC9L2aLgIeFQMH3yE5xajmOC4B\n",
       "18j6BY2igZVvlz+ZhN3xRJMS+NCY7fn+NAphUqNQERUNCjplkCetINXCpnRHUG85BYHS4IgiLAdR\n",
       "LH3j7UdppjOE+ss+tJL1U4yihwpVG3m/LpmEhQFoTcrBy9EY1EVpFHgEvKfeUMSXZ/TRnW0plcgM\n",
       "rmewHkK4WCl0DP1B96dHl4QgXb20fRkaBxfDHi5R+otLmOEeqvDVu1vR8n4MzHGQppMLsSblOtbS\n",
       "0k4U2+W0eoFjmYtZ/4ve4Pyl7sS8M5aA/n0fV3fqFMWalFSn+YIF0Hh9tJBDxPwULoObR3j/K08q\n",
       "kDcpXkO/AZbM6ewLOfyumn+qVRc+V6KYrJpakzpAvpJWKsbexK6m2P+HOHP913nn9FIjKsmznPH8\n",
       "8URLW4anRDXHh+5UkvNaSkXe1G+4yvyewZ8097N6Or8Ua3MJu+AjuUlXWwOZRju+zA2F1aT4XZmq\n",
       "kxQXc0NRatbwZKbMCeQoY2rMWm7LkEsWn5ATim2mq5E9w59Pjs3RnFDsMm96MH//rrGu+i+N2Vs+\n",
       "/K4tlwAAAABJRU5ErkJggg==\n",
       "\" style=\"display:inline;vertical-align:middle;\" /></a><br>"
      ],
      "text/plain": [
       "real_vec_set_is_vec_space: forall_{n in NaturalPos} (Real^{n} in_c VecSpaces(Real))"
      ]
     },
     "execution_count": 4,
     "metadata": {},
     "output_type": "execute_result"
    }
   ],
   "source": [
    "real_vec_set_is_vec_space = Forall(\n",
    "    n, InClass(CartExp(Real, n), VecSpaces(Real)),\n",
    "    domain = NaturalPos)"
   ]
  },
  {
   "cell_type": "code",
   "execution_count": 5,
   "metadata": {},
   "outputs": [
    {
     "data": {
      "text/html": [
       "<strong id=\"complex_vec_set_is_vec_space\"><a class=\"ProveItLink\" href=\"proofs/complex_vec_set_is_vec_space/thm_proof.ipynb\">complex_vec_set_is_vec_space</a> (conjecture without proof):<br></strong> <a class=\"ProveItLink\" href=\"../__pv_it/theorems/99baeffb935a71ab67e5b69477168a33cb49c4480/theorem_expr.ipynb\"><img src=\"data:image/png;base64,iVBORw0KGgoAAAANSUhEUgAAAQoAAAAmBAMAAADO/MgDAAAAMFBMVEX///+IiIgiIiIQEBB2dnbu\n",
       "7u5ERETMzMzc3NwyMjK6urpmZmaYmJiqqqpUVFQAAAB6qHgnAAAAAXRSTlMAQObYZgAAAAlwSFlz\n",
       "AAAOxAAADsQBlSsOGwAABQxJREFUWMO1WH9sU1UU/tb19fXn2iWTbEpgNhgyG8niMCwT3GJgmSDS\n",
       "4MIfDtxEt+CQpGNL/MPonkycZomrUYjLgJRs/xANe4szgB3SBYNRFi1ismiMKzEajT/CZAJOlnnu\n",
       "fa9979WuPkf7kr29vnvuud895zvfuS1g6jqLfF3CIdOmrkTeUGB/0Kzlp/kDAbfZHYoP5BEF9pm0\n",
       "c9TlE8XjJlMyHcwnCrOkW5VPELDfNEeLP/OKAs+Ysipq0TF6vOOu215WMj6cNzXJG+PyUl/xZm/d\n",
       "zqFYoXSbIAriQOPugdIuHOef++Pg1Pg266xuvuyK9Wi6Lh8sg9fI1QsLa4AD11pTL5qiZ11Z/X1F\n",
       "QL6PCef2ooDvzyLjQ/b/nayzvuBMvpPK9YKMKxhKGz7HXN2rSfJqeCqyanYYGB2m5O4FuHy7wniJ\n",
       "sbQlK4qf2e0FG4WgSMY6REXjcD95hZz6aJX/Q2tdMYgyC90vwEWeoatwkHNrPCuKh9jtBxvbRsx+\n",
       "FaunlNfL/H62PmxUae6IQeJs2dwV0m6CbN876Zll13MDboqnIzubZtmtpY8/OxMo4cnEiTvUYc/f\n",
       "5FaztlUTqGzuviYbuxo7B/MlzgP3+/1rs6O4xZKW6ErTGq0jVwEdQF+JDGFsY9yzsJlhXHvxI1ph\n",
       "omQT0XXjVthHt0BcXsyCNwa8Iao9wcqKQ6AFTgGtGZbWWod9nuGtey+tt2j1ui2ODyBWoww9cec6\n",
       "rFz4i/JTFREC8FTjDOwbMBTqlArCO4ByMj8CdDljqvzwnM4QLtpnBhQa3VjAYJePp6Ew0DPBys0b\n",
       "H2DrCp/X0uaOUfuJ0KcRyRHGZSkAzA8F4SPz+yhuTp+azUo15bagNaKPdGAzzif0KJxznBevGFF0\n",
       "+ulSastxk8jZHYNj06yKuxYYBJrJxxPbpGYKq0i43rZcL2WjNYwXaqjFq+xOxPL4tG11/NiO76xB\n",
       "V/BfsUBrGu93aI+eWSLn9Pjk5PMzUJg5EmEovC1o+m1a6vYxBk9OfiI8vCCrKIKqNjgrVRQIT6Qq\n",
       "+RTTUZ9sxZZoIBoxoHiX6QW0qFl0iKqInN1U7QJzx9B6Q0osPDUkvCwk3MdBuG8oGXFyvXASunKV\n",
       "F9h6KNmklrNXU9+8bDXwwn5L0c4EV7lUM/Dp1PMeqnwajgyQXwsh7Vd4EfLKGOl9nSbFSXOcl4Bf\n",
       "yfop+hs9SbcztG5Lsgh7aD5vUgJ/NWXdNWxAIcwoIjUo7QroAnBUR0/yINbAKvXE0GA5CoHK4C1J\n",
       "WAVCsfLF19bTSGcEDZeD2EPWj7E9PHta+JKWcNUli7AoRMFiTUopnynIywwo8KACpr42oO+mT7an\n",
       "upqDJapvtAFCtFgqco79Tp+PTayIQLxyqfFuNI2Wwh4tkYaLS5jhfjal8ek/TrO8shfiXNIRa1Lu\n",
       "w21t+whFo8OgFzicWcyGd/vDi0vd4KIjlpD2fICzO3WKYk1KEbQpnkD99f5SDhGLo3DrwjzOBbQ8\n",
       "yUDepLiGfkZHibTOvpTD75rFh/ZoxOdMtCVVU2lSr1KsxApJ35vY1Rz//yBOXvtp0TFNamySdpbT\n",
       "qqG+rT3DLJuc40N3qsi5lpLIm/oOV5nfM/gj5r5Wz+UXxYZcgl3ykdxkqAtDmd52fJwbFIUmye/O\n",
       "pE5iwpYbFGVmDY9kqpxQjiqm2qzl9gy1ZAkKOUGx3bQa2TP8+OR8dDInKJ4zb9qbv1/XWFf9B8B0\n",
       "TAmPoy26AAAAAElFTkSuQmCC\n",
       "\" style=\"display:inline;vertical-align:middle;\" /></a><br>"
      ],
      "text/plain": [
       "complex_vec_set_is_vec_space: forall_{n in NaturalPos} (Complex^{n} in_c VecSpaces(Complex))"
      ]
     },
     "execution_count": 5,
     "metadata": {},
     "output_type": "execute_result"
    }
   ],
   "source": [
    "complex_vec_set_is_vec_space = Forall(\n",
    "    n, InClass(CartExp(Complex, n), VecSpaces(Complex)),\n",
    "    domain = NaturalPos)"
   ]
  },
  {
   "cell_type": "markdown",
   "metadata": {},
   "source": [
    "As special cases, number fields are also vector spaces:"
   ]
  },
  {
   "cell_type": "code",
   "execution_count": 6,
   "metadata": {},
   "outputs": [
    {
     "data": {
      "text/html": [
       "<strong id=\"rational_set_is_vec_space\"><a class=\"ProveItLink\" href=\"proofs/rational_set_is_vec_space/thm_proof.ipynb\">rational_set_is_vec_space</a> (conjecture without proof):<br></strong> <a class=\"ProveItLink\" href=\"../__pv_it/theorems/c55e8664fbfe479c9b9e5e8f709d6e928f0a700f0/theorem_expr.ipynb\"><img src=\"data:image/png;base64,iVBORw0KGgoAAAANSUhEUgAAAKcAAAAdBAMAAAA9aWHMAAAAMFBMVEX///+qqqoyMjK6urqYmJgi\n",
       "IiLMzMwQEBBUVFSIiIjc3NxmZmZERER2dnbu7u4AAACF9pTcAAAAAXRSTlMAQObYZgAAAAlwSFlz\n",
       "AAAOxAAADsQBlSsOGwAAA2RJREFUSMftlG1IU1EYx/93d7tzd9vtRi9GXxz2IQqsBUKJGTccgUgU\n",
       "hhEUeaEPaiAalYRELIwkMprVBycYt0AsJBgkkY1qRC9EoosszBSGJESv2ovUlthz7ubdhBxG61sH\n",
       "7nm555zf85z/eZ4DZKaIRk/T6w+9vbf+GtoCSMO9T4hYwIa2JlXcFZ61wtz/zQux4mhk5ocUDMqB\n",
       "dEyOAK316DhDPIXGAwNA4cbZa+xfqbK4jfGYiiWudNBRwLlVAX89BKwBhDCtdph9sxX6zMjJ8Svy\n",
       "Pi20G6gxURsqAUqJ99FLVtT4FtuD8jK900/iFCf35LH16aB1QN8bal8Q2RrBe4Gc5OQbbIpfNaNi\n",
       "DinoTe55RDaUdJK6IIWqqbPQrsKkoIan1byymc1dNm7GWgcyJvbQud+NPEXOFOnLrxwIniAd/CMR\n",
       "SLdHZHS1B1Bdco4pFSYZ86mTb5bh9KKAGgIsZqjVhmnnBOwRVGo2l3gA61Xb9PQKsnQQYwFka3YX\n",
       "OmW+XmjAOSkECy0n53gf86uaU5j61zjd0/MM5Uq9qSxgNzBhchEGr5umFZi84L7QiI8iF1yDJYAF\n",
       "i47BxgJFhhhmfuXb3ODq4Ihreof+CIfLy8v3xKlrtWIIFFh5nxIhXDkOUwBSjIK2KCpN0Z9aMhOu\n",
       "eMwyyErqJDSNQBiH461x+1LKBeeEya2Yx7OllgUbO8wXBsVPSDcXRoUfbEm3x6N+qIgloH1XErfP\n",
       "14GPx6nMSNuTUGu9D8IEdT4FEuE0mfA02y1EmcOopT1iBNtU/fgo0uOUhOUI000ZtSGeUf6UnPpG\n",
       "kXCEzJKmkHfQ9nFd00nEwEf359JeKx1xnQ9ZdAwHHcfOMqqRzJvpc7Lcjye2SU7e1HemoxtD4iE4\n",
       "tTIZo6RgA8bCBLVNLu9UMCQchPPSMThIVCeL6UHK/dPx+AK6Pq+9kXg3mjcZ1BWMHGzX8K6nDd7C\n",
       "wUayecJPdVXLxec+KejX0NUzxL/0P2NXzIQT7+bGVOPNOGlkPj+cSNPfFtPcD9VOVmWpJazp0P9k\n",
       "+VqXuufxZqaBlur1Kdvxffrjwsqye0eVeUAt3jmnHPp7zzWvvA8x9CePO3/2iDbXXEqIOzRkqlw1\n",
       "em34X1KLcCGceWgVQpmHPvwXx9+LSOahRR4lE5hfZ4bwAXREBpQAAAAASUVORK5CYII=\n",
       "\" style=\"display:inline;vertical-align:middle;\" /></a><br>"
      ],
      "text/plain": [
       "rational_set_is_vec_space: Rational in_c VecSpaces(Rational)"
      ]
     },
     "execution_count": 6,
     "metadata": {},
     "output_type": "execute_result"
    }
   ],
   "source": [
    "rational_set_is_vec_space = InClass(Rational, VecSpaces(Rational))"
   ]
  },
  {
   "cell_type": "code",
   "execution_count": 7,
   "metadata": {},
   "outputs": [
    {
     "data": {
      "text/html": [
       "<strong id=\"real_set_is_vec_space\"><a class=\"ProveItLink\" href=\"proofs/real_set_is_vec_space/thm_proof.ipynb\">real_set_is_vec_space</a> (conjecture without proof):<br></strong> <a class=\"ProveItLink\" href=\"../__pv_it/theorems/4a89ad1603791a1b5befd7038b0ef10b547beb7c0/theorem_expr.ipynb\"><img src=\"data:image/png;base64,iVBORw0KGgoAAAANSUhEUgAAAKUAAAAdBAMAAAA5nLHxAAAAMFBMVEX///+IiIiqqqpmZmbMzMx2\n",
       "dnbu7u66urpUVFTc3NwiIiJEREQQEBAyMjKYmJgAAAA9S0TaAAAAAXRSTlMAQObYZgAAAAlwSFlz\n",
       "AAAOxAAADsQBlSsOGwAAAu5JREFUSMftlU1IVFEUx//z5vnGeePM6GIiifK5aGc4ZkabbIxWJYwU\n",
       "WrbIAekDpHwtBBeG1qo28cCKMkPLPmQgmDaJtSiiMFFyUBKRrBELAnEozYVlTee+q+/OLGZAmmV3\n",
       "dc495/3uufd/7n1AdoaRbCyMvJgeif0r0qatc84zN3ITrfOhlIz5RD/QtfrUmmgs32nPyNxucWys\n",
       "vsh1uOSO1JR9LPDIcpX7kB5nQipRwZnkTLsRTc3pYb7fcnPIXMjEtMcEZ26dGeGxLeGwSXetAB7d\n",
       "+sRdQ1OZmHlJnLyQaeee4nu/sGktR1oCcsUnrmFaIhNzBwTHzWs+tMNsBeeklTQKVAGdPj+UilpN\n",
       "ShxlK76Z20P5s746Eq32MJxlRyBvK2Abq4Dg5BA30j39k9fntpoMDRp2Qx7GVnRrjtcoSvymkxjV\n",
       "lT5Iw9gL5yu0BaoNW7QJ6KX0jxAcj6lX/OzasaWI1AHVD682wyjK17E/wBRQqpPXbrijKDH6gMW2\n",
       "EPIp/R4ER3rJbNc53vPVYRpcLfcKSRSMwV23zBeRx4AJoJk64HSD0UyiybTKe/VXIYsOQXDkb8yW\n",
       "/by7m0Sd0jJJVFoZjx/4Dq5Pu86Y3ggaL5UawXymYzz+WTme8FtMznGYdWLXbROkJik5ShIFNerm\n",
       "JfA+8gZ4ndIQggYrV16k2Rvw/LD2zjlSr2k3mRcKtvykm/SQOo0U1GcoSyWBevh5Brx+tF+7Qzpo\n",
       "b6mmYuAqZT+B4Hjo9CKd8MQGTNB4kkjEk4eQY3THUK+OQyFpPxjKAxCzaP+tdxSp1lFfEsIgZR+D\n",
       "4Nhr2Ls0iOefNAY6M2C9JW52izrL6qGUFxi5jorL5E/NbtYhXyw+eReNZYVwlvuMlgIfSzwIwVH1\n",
       "1PvQ8iwcTX9bJtJG1ICwuzb0SKZnesR7g8oNMfvThwYtyxnZCLJ19UramGhtl5GlvxGcVhsW4v+w\n",
       "RtWXrCPlDlfWma5A9reuhpSsMx0n4tnA/AU7yPrfzP8h3AAAAABJRU5ErkJggg==\n",
       "\" style=\"display:inline;vertical-align:middle;\" /></a><br>"
      ],
      "text/plain": [
       "real_set_is_vec_space: Real in_c VecSpaces(Real)"
      ]
     },
     "execution_count": 7,
     "metadata": {},
     "output_type": "execute_result"
    }
   ],
   "source": [
    "real_set_is_vec_space = InClass(Real, VecSpaces(Real))"
   ]
  },
  {
   "cell_type": "code",
   "execution_count": 8,
   "metadata": {},
   "outputs": [
    {
     "data": {
      "text/html": [
       "<strong id=\"complex_set_is_vec_space\"><a class=\"ProveItLink\" href=\"proofs/complex_set_is_vec_space/thm_proof.ipynb\">complex_set_is_vec_space</a> (conjecture without proof):<br></strong> <a class=\"ProveItLink\" href=\"../__pv_it/theorems/c4ce86256302c00e7e44b3abc557866fac34a3560/theorem_expr.ipynb\"><img src=\"data:image/png;base64,iVBORw0KGgoAAAANSUhEUgAAAKUAAAAdBAMAAAA5nLHxAAAAMFBMVEX///+qqqq6urpmZmaYmJgQ\n",
       "EBBUVFTMzMzc3NyIiIgyMjIiIiJERER2dnbu7u4AAADcB0J/AAAAAXRSTlMAQObYZgAAAAlwSFlz\n",
       "AAAOxAAADsQBlSsOGwAAAudJREFUSMftlV9IU3EUx7/3Or3b7rzbiw8W4X1RKBAXSjjBHDgKo8Ak\n",
       "y5dw0R/qbT1ISMguiBUJ6UPEjJYTywchqQSjpBhFYAnRP0IIdWT0pJiYZH9knZ/X/X4btIF0H/s9\n",
       "nXPP+X1+v9/5nrMB1iwj01iYHI50/CPS4Ulxtq+7J/1a3bOMjP3JMaB75RX/MFe5My8ncxvnOPzk\n",
       "+soBWyYTdSxwn7vaA0iPciG1mOCMAIqXXed4Zk4P5cDL3UIy9+Vi5vkFpx4oSMTJ/mzGboyPMxpc\n",
       "q3Smzrc4X9OnXMz8NE5+Ai67uM+OmxuGtExJYourhY7IxdwCwXH6cUF5nYrYR3hSM9AOdEa90Gqn\n",
       "PVLyLTvxaP0uqnNDdIZEm34Du+8dlKt97GG1EJzCIDpkP38ibzLMerAbSguuo8sjH0F/8idVolnX\n",
       "RiG1oAb2gygNtRmO2Dxwl9JvQXBsMXTKvZyZIVIQqhduzzCjaHtavwFDQIlOXoXhjKHIGAWWShNg\n",
       "2+9BcKRGqgN/e9s4rbiJXyWJwn44Z9bMmNIKDAKLVLRPs8Yi7VHolDvq7wiLNkFwlK9wJeIp5ry4\n",
       "p7RGEpVUBQLnfsDUp0JnTHccc8dKjHAv0zEQ2Kt9THo3mCmO3Ah5va9k5qlpSjaTRGEaOG0ZZh+5\n",
       "Q+Y9pSaEDXZdZYm+XoHtu/l2zpGowL4ysmvWp7Q3bZKeUKcFAX2YslQSqMesZ8jtRcXFyyS25zAh\n",
       "ioETlP0CgmOj+zpeVmtbzd4aSBOJeEoTCo0uP6bUAWgk7W1Dewxi9p+9dIgibTqmihKYoOwPEJw8\n",
       "VteF57+qTdCXpwneA2yKOn1T0Cr7jAK59hT5Qw3XdChnihceYs4Xgb0yapT3RVnieQiOqmfOQ/mk\n",
       "OZt/X4NZI2pI2N2b+pHMzrSJ+UbVpphj2UMT3LLHN4MsWzmdNSZa22VY9G8EO2/DCP4vvtoPWI5U\n",
       "gi7Lma6Q9U9XE5rlTPl9wArMH7dBzQl37GV8AAAAAElFTkSuQmCC\n",
       "\" style=\"display:inline;vertical-align:middle;\" /></a><br>"
      ],
      "text/plain": [
       "complex_set_is_vec_space: Complex in_c VecSpaces(Complex)"
      ]
     },
     "execution_count": 8,
     "metadata": {},
     "output_type": "execute_result"
    }
   ],
   "source": [
    "complex_set_is_vec_space = InClass(Complex, VecSpaces(Complex))"
   ]
  },
  {
   "cell_type": "code",
   "execution_count": 9,
   "metadata": {},
   "outputs": [
    {
     "name": "stdout",
     "output_type": "stream",
     "text": [
      "These theorems may now be imported from the theory package: proveit.linear_algebra\n"
     ]
    }
   ],
   "source": [
    "%end theorems"
   ]
  }
 ],
 "metadata": {
  "kernelspec": {
   "display_name": "Python 3",
   "language": "python",
   "name": "python3"
  },
  "language_info": {
   "codemirror_mode": {
    "name": "ipython",
    "version": 3
   },
   "file_extension": ".py",
   "mimetype": "text/x-python",
   "name": "python",
   "nbconvert_exporter": "python",
   "pygments_lexer": "ipython3",
   "version": "3.7.3"
  }
 },
 "nbformat": 4,
 "nbformat_minor": 1
}
