{
 "cells": [
  {
   "cell_type": "markdown",
   "metadata": {},
   "source": [
    "Demonstrations for the theory of <a class=\"ProveItLink\" href=\"theory.ipynb\">proveit.linear_algebra</a>\n",
    "========"
   ]
  },
  {
   "cell_type": "code",
   "execution_count": 1,
   "metadata": {},
   "outputs": [],
   "source": [
    "import proveit\n",
    "from proveit import defaults\n",
    "from proveit import a, b, c, X, Y, Z\n",
    "from proveit.logic import InSet, InClass, CartExp\n",
    "from proveit.numbers import Real, three\n",
    "from proveit.linear_algebra import VecSpaces, VecAdd, ScalarMult\n",
    "%begin demonstrations"
   ]
  },
  {
   "cell_type": "markdown",
   "metadata": {},
   "source": [
    "### Vector space closure proofs under addition and scalar multiplication"
   ]
  },
  {
   "cell_type": "code",
   "execution_count": 2,
   "metadata": {},
   "outputs": [
    {
     "data": {
      "text/html": [
       "<strong id=\"R3\">R3:</strong> <a class=\"ProveItLink\" href=\"../__pv_it/demonstrations/b09d232dc6c8bd1b305d141dd063505555f74fe50/expr.ipynb\"><img src=\"data:image/png;base64,iVBORw0KGgoAAAANSUhEUgAAABcAAAATBAMAAACJlYuFAAAAMFBMVEX///+IiIiqqqpmZmbMzMx2\n",
       "dnbu7u66urpUVFTc3NwiIiJEREQQEBAyMjKYmJgAAAA9S0TaAAAAAXRSTlMAQObYZgAAAAlwSFlz\n",
       "AAAOxAAADsQBlSsOGwAAAJVJREFUCNdjYICCeYotDHDQyiCD4LgwRDEggXUMDG9P7791+gGQLSsA\n",
       "JDbMYKh4ncDAwLYRxJnKwM3SAGT4O4A5zBMusB1hmP8AytnAsIzhTQKYw5HWwOAq2AnR4607AWr8\n",
       "hjm3fonB7Now9V0uA4LDnfcAwWEx2IbgMJjMRuJkM8LUbZjMwPdgO4QNdPVOht33FUBsAA/2NGO0\n",
       "hyMPAAAAAElFTkSuQmCC\n",
       "\" style=\"display:inline;vertical-align:middle;\" /></a><br>"
      ],
      "text/plain": [
       "R3: Real^{3}"
      ]
     },
     "execution_count": 2,
     "metadata": {},
     "output_type": "execute_result"
    }
   ],
   "source": [
    "R3 = CartExp(Real, three)"
   ]
  },
  {
   "cell_type": "code",
   "execution_count": 3,
   "metadata": {},
   "outputs": [
    {
     "data": {
      "text/html": [
       "<strong id=\"defaults.assumptions\">defaults.assumptions:</strong> <a class=\"ProveItLink\" href=\"../__pv_it/demonstrations/c358fe7d65e6c06f0cd31bae36fc3e413ed08c420/expr.ipynb\"><img src=\"data:image/png;base64,iVBORw0KGgoAAAANSUhEUgAAAZoAAAAaBAMAAAB874c8AAAAMFBMVEX///9UVFQiIiKIiIjMzMx2\n",
       "dnYQEBDc3NxEREQyMjLu7u5mZmaqqqq6urqYmJgAAAB66f/FAAAAAXRSTlMAQObYZgAAAAlwSFlz\n",
       "AAAOxAAADsQBlSsOGwAABJdJREFUWMPdWF9oW1UY/7W5bZKbP41UcSuyhog6J9jUoWjBEUHdxIcG\n",
       "iyAIWrfBOl+aKhuVgbtsD6vTrXGDDmphNxuM6IMNMtD5sqAPogiLDz7og4svMkWr1m7dXLt6zrnn\n",
       "3Htz7znxUgMBP2jvOff3y+983/nzfScB2mZvfn57q1jhXwdzvPlbm6K5A4+0itWRD42iQlvxSpui\n",
       "eRLPtYql5brSmKSt99u31x5sHauzjmSWPI9LsOTM1I17jys+2BTEz2PTJ8bqzQa2GY9l/yvLdiV0\n",
       "kvzbQg7QqIwWCacSm45a7fLOJqDfjAl8c8XknStru3Dm2pycoR+2+qWBVwqIj+9qzgLG9962cVHh\n",
       "SpnEPAjE8vJo8jCe4J33moH+aPYhoqVEr7+K+BEVY5gnostFyR7xsRK3gDOvKlzRloB5Ez01VTQf\n",
       "R3lnpRkoiyZWKIresIEDcoa+Gwf5juxcJnul9m+sWBWYKUhdOZcLk1CjdQybbvTRTKZosyJ8Tv7m\n",
       "YOhQ5n4vaJsALS8M8Tq6rKe84pyxBT/xsUNXga8VOg6rg4y8JPez00ySRYsZeMjt0ndDrpj7Slab\n",
       "JD8rqpOmHxRmg9SLjg/sCJI3Sz5xznhq6538hX4NiaxCx2FpwMWa3E9tZJAsGqk5G+nLiZHXWUmd\n",
       "da2g9s4pPr29g1X6fMOUgMDItpwbpF7s+NLZEON9ol7PKhjEpmv7eEupw+b1lleqwRWyiaboYw+m\n",
       "qUq04LD2DtzNhedn9WX6PCUD8Vo1ZrhBGPtPLA45HrwsEqwj7mEQu9QnSrhSh9rvWa9UgyskE7xL\n",
       "Hufq+IixXKfrpV/ESb5kgiXPogzEPejOukEypwvugtyfFtGoGMS6/xStYhNW/KZPqsGV8CoeII+L\n",
       "1CliT2eIGXwFjy5w0gXgKo18JwE3e8GYlSIckHgR+dCpnrGJVd5yxBsZTFEkGqUOS+QpenaUfkJf\n",
       "ZWszRhu0BLkz37MRU8x+guZo3ZCB3dZbByReaBWntJ7XrvNWWcFgKmJ+lTo0UqIUg9pPhNlO0/9C\n",
       "8g+W992s2HZDlBtrAdIycJ5v5bS7TpyftM9tDgN8k3fKGcwO2iU8rWbtJyH/ALWf0JaxgUSzgo7i\n",
       "FzTXZ10s3dgG0LCX6LkitlUG9hCo5gapF+VQHTrrPE6OLvfUEecMazGs422XTp8OMzqSnjHZVUzq\n",
       "p8hp9NvDYXxWYUllzmFVsBCp6TdIexPets5eVQKShNaVc4MwDiBZP4Z5unnKJJIecSbmPAxrbdke\n",
       "m7Zj8OmwkOlI0T3AM4ZHirvCa9soLpOISw9v72WXodIxU9xNrxcib62AzkfpRWuG9A3f+0E8vzDk\n",
       "Bund9wimTlc7yTTuGN8N7fQiz75CXDCsTUNn+5O1Xvske3VYh47Uv3lqZq3eKGW7YmWcFLob7kff\n",
       "HsoUG5Ki+96TeIFfOoKA+Mp3g/OKS2k+Hd9ISilyT5Pfoe1TvG4Q+WDf2ALRugJJkTu0NtqMcHbd\n",
       "oJ4N5EEw2tlAWj+Sv7uaEbLrBkPBliYYLdjM3Nfe3wVaa+x3gXj+fxLNZFt/T2u1fQr8AwaDqJLg\n",
       "AZyJAAAAAElFTkSuQmCC\n",
       "\" style=\"display:inline;vertical-align:middle;\" /></a><br>"
      ],
      "text/plain": [
       "defaults.assumptions: (a in Real, b in Real, c in Real, X in Real^{3}, Y in Real^{3}, Z in Real^{3})"
      ]
     },
     "execution_count": 3,
     "metadata": {},
     "output_type": "execute_result"
    }
   ],
   "source": [
    "defaults.assumptions = [InSet(a, Real), InSet(b, Real), InSet(c, Real),\n",
    "                        InSet(X, R3), InSet(Y, R3), InSet(Z, R3)]"
   ]
  },
  {
   "cell_type": "code",
   "execution_count": 4,
   "metadata": {},
   "outputs": [
    {
     "data": {
      "text/html": [
       "<span style=\"font-size:20px;\"><a class=\"ProveItLink\" href=\"../../numbers/ordering/__pv_it/theorems/4aa8d696b1f407d6126de9f51a052e8d90e0848c0/expr.ipynb\"><img src=\"data:image/png;base64,iVBORw0KGgoAAAANSUhEUgAAADMAAAAQBAMAAABJt1qBAAAAMFBMVEX////MzMwyMjKqqqoiIiJm\n",
       "ZmaYmJju7u5EREQQEBC6urqIiIh2dnZUVFTc3NwAAAAqL9KcAAAAAXRSTlMAQObYZgAAAAlwSFlz\n",
       "AAAOxAAADsQBlSsOGwAAAM1JREFUGNNjYMAASTP6VWYkMGAFDW8Z1mYUYJd6w8DBeAGXFOsDBRSh\n",
       "HS4uCnCpBmSZRdsRunjLQQby3dm3ASTAp45koITRAyBj5QOO7yABpgdwqZcqX0AmsE9jYHUASyE5\n",
       "I60IRLN+YGA5AGJIugBBA0SKowzkZc4GhvoFIIEKJF2MAe1Aun4DQz5YgAXZX4EvQFIGDJeYQS7g\n",
       "3oAkVcENNJFjA7MrK1hEGS71lIEtoQvowtsH324Ei9R2FcBCvo+hQ98AOTjWtLgghxwApbZCEcpv\n",
       "FP8AAAAASUVORK5CYII=\n",
       "\" style=\"display:inline;vertical-align:middle;\" /></a>, <a class=\"ProveItLink\" href=\"../__pv_it/demonstrations/35b7d5ffd6c70530348c726f949f4fc11dcba3530/expr.ipynb\"><img src=\"data:image/png;base64,iVBORw0KGgoAAAANSUhEUgAAAEQAAAAUBAMAAADGs4Z2AAAAMFBMVEX///+6urp2dnZmZmbMzMzc\n",
       "3NxUVFSqqqoyMjIiIiLu7u6IiIgQEBBERESYmJgAAAD8nk9dAAAAAXRSTlMAQObYZgAAAAlwSFlz\n",
       "AAAOxAAADsQBlSsOGwAAAR9JREFUKM9jYMALWJ9vc8CvgoFNgfsAASUsDkwTGAgBzgc4JPh67v6Y\n",
       "cw/I4O4Gcd/+P82w8k87qhpe1gTGvFtAxtoNIG5+AQP7VQZ0JQoMF9xArvkC4vpfYAhmwKLElINh\n",
       "jQPrPxCX4ytXAkxq78yZDXAlvAycC/hOgd32eRlMhcQuJFOyljGwaG8LAPPPZ8ECswvJIpbrrQiL\n",
       "9TdAGRwBCCUn5s9egFCSDwtBDiTn6r1qQKhgDvsIZfnMBIILUItuvUMoMWH5C2WtRfa0My/cIiYH\n",
       "hvlQN3AiK2F2vQDjbWRgeK8AYXJvQFLCdWEfzHCgNP8vKKcdocSA4R2vAJjte/4IA0v/TwOIzLKL\n",
       "C2Ax/TeA98Z3bKlA6ObMBjQhAGYlThsO/EY0AAAAAElFTkSuQmCC\n",
       "\" style=\"display:inline;vertical-align:middle;\" /></a> <a class=\"ProveItLink\" href=\"../__pv_it/demonstrations/09ad266ca99d5424ca9b3bd8e039603b8dbf5c370/proof.ipynb\" style=\"text-decoration: none\">&nbsp;&#x22A2;&nbsp;&nbsp;</a><a class=\"ProveItLink\" href=\"../__pv_it/demonstrations/53ad7fbcc8eedc00250580b1386dc64851f67a1f0/expr.ipynb\"><img src=\"data:image/png;base64,iVBORw0KGgoAAAANSUhEUgAAAGwAAAAYBAMAAADt+wUpAAAAMFBMVEX////MzMxUVFRERES6uroi\n",
       "IiIQEBCYmJhmZmYyMjLu7u52dnaqqqqIiIjc3NwAAACW8nlqAAAAAXRSTlMAQObYZgAAAAlwSFlz\n",
       "AAAOxAAADsQBlSsOGwAAAdlJREFUOMtjYCAZ8NVcEiBdFwPTBt4EMrQxCnAHAKkHOKQf4NTIWsDA\n",
       "wHsAh6QvGp99mvHPMHMgg3cukDiNrrz4fy7D0m9zGHgL0CSY+RRY1K2AjMUXGLgmYFijf4CBxw5I\n",
       "z8LQtoHBQAjku48MHAUY2uQNGF6A6Aos2vo4GZYJ8H1nYMP0FOc/LgUQzbYAwr8cGjoBro2ZgXUB\n",
       "exbDSUxt7D8WQbRDHOJ5C8k2rUUMjHsvPWDoBsW79r0LyPrytcAUN9hOvllIjmS0mQdhTwditwfM\n",
       "v5C17YcYwg52GucDhLbM+Fiow2MYGLjSGTgCUIISwuMBpyFOpCDZXgUL9xQGBo4PDKwbgEyunxAh\n",
       "jkdfIKnoA4gUCwUCA6gjrcoR2tgMGNY7gNgREKFGxs9gmgVs22LkCJBgRjhy/QWGeiQncgswxIP9\n",
       "wwN2KyuyNg45AwjbFqjtAIMmDyLhXmFgqN8ADhKwEt4LSNq4DK5D2JuA3As8ERxwXYuBWvjBAcsB\n",
       "1swwB6GtgaGcGewdBlFgUOhufHQRJiecn8jAOP9rA8h5EBWLTBbAcsDnB8yWfyB5B3cGfwqlvU1D\n",
       "MdI7ewNObe348rgdzqLGAJ+2xbgkmB/gLb8u4JC4h0cTAGZjbpb3GoadAAAAAElFTkSuQmCC\n",
       "\" style=\"display:inline;vertical-align:middle;\" /></a></span>"
      ],
      "text/plain": [
       "{a in Real, X in Real^{3}} |- (a * X) in Real^{3}"
      ]
     },
     "execution_count": 4,
     "metadata": {},
     "output_type": "execute_result"
    }
   ],
   "source": [
    "InSet(ScalarMult(a, X), R3).prove()"
   ]
  },
  {
   "cell_type": "code",
   "execution_count": 5,
   "metadata": {},
   "outputs": [
    {
     "data": {
      "text/html": [
       "<span style=\"font-size:20px;\"><a class=\"ProveItLink\" href=\"../__pv_it/demonstrations/35b7d5ffd6c70530348c726f949f4fc11dcba3530/expr.ipynb\"><img src=\"data:image/png;base64,iVBORw0KGgoAAAANSUhEUgAAAEQAAAAUBAMAAADGs4Z2AAAAMFBMVEX///+6urp2dnZmZmbMzMzc\n",
       "3NxUVFSqqqoyMjIiIiLu7u6IiIgQEBBERESYmJgAAAD8nk9dAAAAAXRSTlMAQObYZgAAAAlwSFlz\n",
       "AAAOxAAADsQBlSsOGwAAAR9JREFUKM9jYMALWJ9vc8CvgoFNgfsAASUsDkwTGAgBzgc4JPh67v6Y\n",
       "cw/I4O4Gcd/+P82w8k87qhpe1gTGvFtAxtoNIG5+AQP7VQZ0JQoMF9xArvkC4vpfYAhmwKLElINh\n",
       "jQPrPxCX4ytXAkxq78yZDXAlvAycC/hOgd32eRlMhcQuJFOyljGwaG8LAPPPZ8ECswvJIpbrrQiL\n",
       "9TdAGRwBCCUn5s9egFCSDwtBDiTn6r1qQKhgDvsIZfnMBIILUItuvUMoMWH5C2WtRfa0My/cIiYH\n",
       "hvlQN3AiK2F2vQDjbWRgeK8AYXJvQFLCdWEfzHCgNP8vKKcdocSA4R2vAJjte/4IA0v/TwOIzLKL\n",
       "C2Ax/TeA98Z3bKlA6ObMBjQhAGYlThsO/EY0AAAAAElFTkSuQmCC\n",
       "\" style=\"display:inline;vertical-align:middle;\" /></a>, <a class=\"ProveItLink\" href=\"../__pv_it/demonstrations/1d85263d876f534df2e38765e55810567e0d8ed50/expr.ipynb\"><img src=\"data:image/png;base64,iVBORw0KGgoAAAANSUhEUgAAAEEAAAAUBAMAAAAgmk0yAAAAMFBMVEX////MzMxmZmZ2dnaYmJhE\n",
       "REQyMjK6urqIiIiqqqrc3NwQEBAiIiJUVFTu7u4AAACILWO2AAAAAXRSTlMAQObYZgAAAAlwSFlz\n",
       "AAAOxAAADsQBlSsOGwAAARJJREFUKM9jYMAHlsy4yIAfXGboJqBCkMGGgRA4gkPcbWt8zlYHIKOt\n",
       "gYHh7fm9Cxg49+9AVRKwlqHW9QEDA18EkFOfACRC0AwJWMzAyngByJAXYGDg+cXAwFGAqYJpQQLf\n",
       "Rob1QLs4PjMwzIRKcMScOYZQEcBwjsEbZNVvBvYGiAL2jAcIM3jfXWAQ7rgF4sUXLIaKL3uAZIvo\n",
       "tAUw3vx7ClBWFsIdq3P+9MF53H9hrAQkl7o8Q7ib9R+UwbjnzJkzR6EqWJ84IMyAaeULQDKDUSEO\n",
       "zltvAGMdQA4PxaVwnj88uDqQVTzlgFsTDxdnmwBXsYiBxSEcylH9fwMmzne1Dh63UQyh+RMwY53d\n",
       "FBrqSAAAemBPCQvz9osAAAAASUVORK5CYII=\n",
       "\" style=\"display:inline;vertical-align:middle;\" /></a>, <a class=\"ProveItLink\" href=\"../__pv_it/demonstrations/881ab1ed3d9a74fa2a30022b0f45eaeecea77c5c0/expr.ipynb\"><img src=\"data:image/png;base64,iVBORw0KGgoAAAANSUhEUgAAAD8AAAAUBAMAAADIGvgZAAAAMFBMVEX///+IiIh2dnbMzMxERETc\n",
       "3NyqqqpmZmbu7u6YmJi6uroiIiJUVFQyMjIQEBAAAADo4HZ1AAAAAXRSTlMAQObYZgAAAAlwSFlz\n",
       "AAAOxAAADsQBlSsOGwAAAR9JREFUKM9jYMADIhMPM+AFhxjk8CswZtBmIAB2Yhee+8T/9pMJQIas\n",
       "AIj7/u2Zs79RVTjEMKyZ0sDAwOEI5HD9ZGDofoGmIIiBhfkAkGFvwMDAnsDAcC8AQwF7wAWOxwzx\n",
       "QIt4GBhYPkPEGb1370UocGDYwTAPaA8zA0P9ArAw18UGhAk8HQcYjASPgrlMPyHCsQ1IVpjkIqyd\n",
       "LwChryLcEHf7twScx/YdyriA5MiZvQgnrz8AcgfQMa937969BaqApXMCTJ75C9CrIAaHA5IJzAUe\n",
       "ME4c0OSVYNYG5HAoDoGyOXYD3b4DzBREVtDCCLWD9ykDgy3EcN4EuIJwBs4JXhD2+S0u9/5DFHMc\n",
       "WQGPTVcGl/sJGNHMpQINaiQAABOTTbPMGN5OAAAAAElFTkSuQmCC\n",
       "\" style=\"display:inline;vertical-align:middle;\" /></a> <a class=\"ProveItLink\" href=\"../__pv_it/demonstrations/58b1dd0976577b9bfb5a680d003b61ea7f86e0250/proof.ipynb\" style=\"text-decoration: none\">&nbsp;&#x22A2;&nbsp;&nbsp;</a><a class=\"ProveItLink\" href=\"../__pv_it/demonstrations/d41d2554a61095d34fa18ecde24b0c60a633c67f0/expr.ipynb\"><img src=\"data:image/png;base64,iVBORw0KGgoAAAANSUhEUgAAAKQAAAAYBAMAAACGk0t8AAAAMFBMVEX////MzMxUVFRERES6uroi\n",
       "IiIQEBCYmJhmZmYyMjLu7u52dnaqqqqIiIjc3NwAAACW8nlqAAAAAXRSTlMAQObYZgAAAAlwSFlz\n",
       "AAAOxAAADsQBlSsOGwAAAlxJREFUOMtjYKAq4Ku5JEBdExmYNvAmUNlIRgHuACD1gBwP4pRhLWBg\n",
       "4D1AhpEsF1D57NOMf4aZAxm8c4HEaSAu/p/LsPTbHBRVi+KTHjDw5OeiGcb2bZLS/ACG62jCzHwK\n",
       "LOpWQMbiCwxcE0Ai+gcYeOzQVPmDZMzR3edfwMAVtoCBcwG6kRsYDIRAofmRgaMAJCJvwPACJusO\n",
       "C5V/QH84oAky9DAwcOYBfdqAaWQfJ8MyAb7vDGxgEc5/XAow2bNQmvc3A8MZdEEGoDJ7UNLLgioy\n",
       "DY2EG8nMwLqAPYvhJCR4fyxiQNfN9Q0pFuBGCjBwfAHR0yHRNHcBwpVaixgY9156wNANEcrXwjCS\n",
       "wd7hNaYgA8N+cFBtArNfLkB4nNFmHoQ9HaruAqbu81oNWIxk/wumKsHkPERYZsbHQs2PgVD6AZi6\n",
       "2T4xYDHyPMSeY2ByAsLI7VUwTgqY5Hj0BcJtDQ1NCw0Ngij7xYApyPIJFJ7ANALOf6mhoaHBUI9b\n",
       "laMY2cj4GYsrJ2BxJTC5MYDc6QaOQQOkRCTBjOxxbgGG+AcYut9vwDSSLxPoUFD8HAVzA5CM5JCD\n",
       "WmALIq4wMNRvwDCy3gHTyKVRwDwAck0xmHsXyUguA2guBSWGxUDj+H9hJiIGTCOnPWBgnAxiQBIf\n",
       "5wG4kQ0M5cwQN4gyMAjnJzIwzv/agKa7+b8uhpFMX40t87+DWCGQ7KDsBSuJPj9gtvwDyckYBftZ\n",
       "bKUZuiAfNBRZNkMyJEpJ14Au4o7NSHRBSGmDA9iRVSM8xie5mCwj8TqE7wIZJvLiqbAAZrSazC8+\n",
       "YgwAAAAASUVORK5CYII=\n",
       "\" style=\"display:inline;vertical-align:middle;\" /></a></span>"
      ],
      "text/plain": [
       "{X in Real^{3}, Y in Real^{3}, Z in Real^{3}} |- (X + Y + Z) in Real^{3}"
      ]
     },
     "execution_count": 5,
     "metadata": {},
     "output_type": "execute_result"
    }
   ],
   "source": [
    "InSet(VecAdd(X, Y, Z), R3).prove()"
   ]
  },
  {
   "cell_type": "code",
   "execution_count": 6,
   "metadata": {},
   "outputs": [
    {
     "data": {
      "text/html": [
       "<strong id=\"lin_comb\">lin_comb:</strong> <a class=\"ProveItLink\" href=\"../__pv_it/demonstrations/cdd2980a958c7aab6aa7028838018bf7986292240/expr.ipynb\"><img src=\"data:image/png;base64,iVBORw0KGgoAAAANSUhEUgAAANwAAAAVBAMAAADfk53OAAAAMFBMVEX////MzMxUVFRERES6uroi\n",
       "IiIQEBCYmJhmZmYyMjLu7u52dnaqqqqIiIjc3NwAAACW8nlqAAAAAXRSTlMAQObYZgAAAAlwSFlz\n",
       "AAAOxAAADsQBlSsOGwAAAs1JREFUSMeNlk9oE0EUxl+aZLNJNsmCeLZ4s7UYEBQPNjnVkySIkaBC\n",
       "q4iiULPQg3pKRKQHBUMFBREaWnpOFDyJNBcFqdIIQkGwhEpB8GCpbdQUW9+bnf07u7AD7cvM/PJ9\n",
       "M2/eDAGALni2tMeYN9oNCDLFVNvbLtIRhnzQ0wFBprjkHp3am4SF3nNYEfglSBwrmr258ctdUCqT\n",
       "kNJE0Nmk3szB2SIpJuqC6pE2KKMA8YZrnNB4zeoX6KvH8e+ZB+hoBQ0S5xqkKAtLgwNZ+I4hZiif\n",
       "4pHQjC1N0V1MWx4/3PYAHe0hrvMmU5TEHMd3E4MUb/D+RyMltE7bllM7AB/YREMEHQ3lcipTfC/a\n",
       "xf7MsfjUZUfoK3vOerye4poIOpoK8pau+IAqdHjVUYaVIRZeuuwInfl62OJy+R8sJgdFEN6sqDbJ\n",
       "RU1XpC2MdcN9u92ibn7HZYdo4m+jad2p5SH9eGN1AYT1tpy1JewfV7yIGtdALjpKU++9c9khqvRB\n",
       "shIhbepRmRBAuGAHYbnGFa9gIW1AtIWdJl+kvLalVyj9u18qXS2VztBHQuuQadEmGWDkJLQhgvoU\n",
       "ByObdH6kiFNSFppUz1Fe+XdDv1gcc+0OUVxWga5CWd8dX19kQgAlnsmycbWgxhRx480OVG2pTKow\n",
       "zs7nrZhMvHaPrKvws8WTWRTApr320tdxSRpTPIlTbTikWAXwGaDKdKZcdohmVDxos1XzvBCyIojq\n",
       "eYNbOI95aTBFrPZwRynLpsY8WmX6Zj3bVBAd0MK2VyxnvCItAcSyTJoX4UkXQo91xf14niMv1j4Z\n",
       "U/sqlyA0u02iZ112hA5PW2739kb4a5YXQHh964vBDWwfPVH5DUwxqoJPSxdddr7oekAQFWM1Pzvz\n",
       "oTVeXl90OiBIiqN+dt+EER80nQ0IkuK8n534HR803A0IkmK64z2XEn9v+KCrAUFU/A/48cfW5FZ3\n",
       "yQAAAABJRU5ErkJggg==\n",
       "\" style=\"display:inline;vertical-align:middle;\" /></a><br>"
      ],
      "text/plain": [
       "lin_comb: (a * X) + (b * Y) + (c * Z)"
      ]
     },
     "execution_count": 6,
     "metadata": {},
     "output_type": "execute_result"
    }
   ],
   "source": [
    "lin_comb = VecAdd(ScalarMult(a, X), ScalarMult(b, Y), ScalarMult(c, Z))"
   ]
  },
  {
   "cell_type": "code",
   "execution_count": 7,
   "metadata": {},
   "outputs": [
    {
     "data": {
      "text/html": [
       "<span style=\"font-size:20px;\"><a class=\"ProveItLink\" href=\"../../numbers/ordering/__pv_it/theorems/4aa8d696b1f407d6126de9f51a052e8d90e0848c0/expr.ipynb\"><img src=\"data:image/png;base64,iVBORw0KGgoAAAANSUhEUgAAADMAAAAQBAMAAABJt1qBAAAAMFBMVEX////MzMwyMjKqqqoiIiJm\n",
       "ZmaYmJju7u5EREQQEBC6urqIiIh2dnZUVFTc3NwAAAAqL9KcAAAAAXRSTlMAQObYZgAAAAlwSFlz\n",
       "AAAOxAAADsQBlSsOGwAAAM1JREFUGNNjYMAASTP6VWYkMGAFDW8Z1mYUYJd6w8DBeAGXFOsDBRSh\n",
       "HS4uCnCpBmSZRdsRunjLQQby3dm3ASTAp45koITRAyBj5QOO7yABpgdwqZcqX0AmsE9jYHUASyE5\n",
       "I60IRLN+YGA5AGJIugBBA0SKowzkZc4GhvoFIIEKJF2MAe1Aun4DQz5YgAXZX4EvQFIGDJeYQS7g\n",
       "3oAkVcENNJFjA7MrK1hEGS71lIEtoQvowtsH324Ei9R2FcBCvo+hQ98AOTjWtLgghxwApbZCEcpv\n",
       "FP8AAAAASUVORK5CYII=\n",
       "\" style=\"display:inline;vertical-align:middle;\" /></a>, <a class=\"ProveItLink\" href=\"../../numbers/ordering/__pv_it/theorems/6e5cad5b2984ed0d75bd47bd0c542ec447a4f3570/expr.ipynb\"><img src=\"data:image/png;base64,iVBORw0KGgoAAAANSUhEUgAAADEAAAAQBAMAAABNQoq8AAAAMFBMVEX///+YmJjMzMzc3NyIiIhU\n",
       "VFR2dna6urqqqqpmZmYyMjIiIiIQEBBERETu7u4AAAD7tRWPAAAAAXRSTlMAQObYZgAAAAlwSFlz\n",
       "AAAOxAAADsQBlSsOGwAAANZJREFUGNNjYEAHUmfvrz4rAGTw3dmAJnXBlKFU9gGQwTUBXcaMgZcp\n",
       "AMjgb8CU4TRYAGTUP4CK+O7evQAucwHIyIZKVPkh9LC+A5m21CUCxGdeh2SabpcB0G2/Hrw3ADnE\n",
       "AC5js/o3SD/HPwYeB5AMkgsEX4FozgUM/AlAWmc3EFyAyPA+BPmUO4GhHuTut0h6mCbcg3hnPsjd\n",
       "3Mj+mWQLklHgOwjiszggybxlARrHKsALCZ4VcBlLBkaB60BXh02ECDy9/gAW1pcZ7q5HDrOy25DQ\n",
       "gQIAY/lDzDbeA58AAAAASUVORK5CYII=\n",
       "\" style=\"display:inline;vertical-align:middle;\" /></a>, <a class=\"ProveItLink\" href=\"../__pv_it/demonstrations/d550e8309ef79ca46e4c9fb5617a392ea678789b0/expr.ipynb\"><img src=\"data:image/png;base64,iVBORw0KGgoAAAANSUhEUgAAADEAAAAQBAMAAABNQoq8AAAAMFBMVEX///9UVFQyMjK6urru7u4Q\n",
       "EBBERERmZmaqqqoiIiLc3NzMzMyYmJiIiIh2dnYAAABC1PP/AAAAAXRSTlMAQObYZgAAAAlwSFlz\n",
       "AAAOxAAADsQBlSsOGwAAAL1JREFUGNNjYEAHh8LyNcMOMGADCQsZDI85YJVZx8DGLYBDhn2BArLI\n",
       "tZkzFeAyCUgSRlcQehhdwKa9vbMBSHKpIJm2rWkBkLGygR2klWkBXGap5k+w/nkMrBdAMkguOOME\n",
       "otm/QPhbZwJBAkSGzQfkU1aoK9yQ9HAXpABp/wsQPieyf6qXAWl+oEYDIM17AUnGjRcoCnQYH8jV\n",
       "DBpwmeUMPAeSgYx3ZyBedEx2gIV1FkOafgNSINhlzkQOLQDcXDjPgdalcwAAAABJRU5ErkJggg==\n",
       "\" style=\"display:inline;vertical-align:middle;\" /></a>, <a class=\"ProveItLink\" href=\"../__pv_it/demonstrations/35b7d5ffd6c70530348c726f949f4fc11dcba3530/expr.ipynb\"><img src=\"data:image/png;base64,iVBORw0KGgoAAAANSUhEUgAAAEQAAAAUBAMAAADGs4Z2AAAAMFBMVEX///+6urp2dnZmZmbMzMzc\n",
       "3NxUVFSqqqoyMjIiIiLu7u6IiIgQEBBERESYmJgAAAD8nk9dAAAAAXRSTlMAQObYZgAAAAlwSFlz\n",
       "AAAOxAAADsQBlSsOGwAAAR9JREFUKM9jYMALWJ9vc8CvgoFNgfsAASUsDkwTGAgBzgc4JPh67v6Y\n",
       "cw/I4O4Gcd/+P82w8k87qhpe1gTGvFtAxtoNIG5+AQP7VQZ0JQoMF9xArvkC4vpfYAhmwKLElINh\n",
       "jQPrPxCX4ytXAkxq78yZDXAlvAycC/hOgd32eRlMhcQuJFOyljGwaG8LAPPPZ8ECswvJIpbrrQiL\n",
       "9TdAGRwBCCUn5s9egFCSDwtBDiTn6r1qQKhgDvsIZfnMBIILUItuvUMoMWH5C2WtRfa0My/cIiYH\n",
       "hvlQN3AiK2F2vQDjbWRgeK8AYXJvQFLCdWEfzHCgNP8vKKcdocSA4R2vAJjte/4IA0v/TwOIzLKL\n",
       "C2Ax/TeA98Z3bKlA6ObMBjQhAGYlThsO/EY0AAAAAElFTkSuQmCC\n",
       "\" style=\"display:inline;vertical-align:middle;\" /></a>, <a class=\"ProveItLink\" href=\"../__pv_it/demonstrations/1d85263d876f534df2e38765e55810567e0d8ed50/expr.ipynb\"><img src=\"data:image/png;base64,iVBORw0KGgoAAAANSUhEUgAAAEEAAAAUBAMAAAAgmk0yAAAAMFBMVEX////MzMxmZmZ2dnaYmJhE\n",
       "REQyMjK6urqIiIiqqqrc3NwQEBAiIiJUVFTu7u4AAACILWO2AAAAAXRSTlMAQObYZgAAAAlwSFlz\n",
       "AAAOxAAADsQBlSsOGwAAARJJREFUKM9jYMAHlsy4yIAfXGboJqBCkMGGgRA4gkPcbWt8zlYHIKOt\n",
       "gYHh7fm9Cxg49+9AVRKwlqHW9QEDA18EkFOfACRC0AwJWMzAyngByJAXYGDg+cXAwFGAqYJpQQLf\n",
       "Rob1QLs4PjMwzIRKcMScOYZQEcBwjsEbZNVvBvYGiAL2jAcIM3jfXWAQ7rgF4sUXLIaKL3uAZIvo\n",
       "tAUw3vx7ClBWFsIdq3P+9MF53H9hrAQkl7o8Q7ib9R+UwbjnzJkzR6EqWJ84IMyAaeULQDKDUSEO\n",
       "zltvAGMdQA4PxaVwnj88uDqQVTzlgFsTDxdnmwBXsYiBxSEcylH9fwMmzne1Dh63UQyh+RMwY53d\n",
       "FBrqSAAAemBPCQvz9osAAAAASUVORK5CYII=\n",
       "\" style=\"display:inline;vertical-align:middle;\" /></a>, <a class=\"ProveItLink\" href=\"../__pv_it/demonstrations/881ab1ed3d9a74fa2a30022b0f45eaeecea77c5c0/expr.ipynb\"><img src=\"data:image/png;base64,iVBORw0KGgoAAAANSUhEUgAAAD8AAAAUBAMAAADIGvgZAAAAMFBMVEX///+IiIh2dnbMzMxERETc\n",
       "3NyqqqpmZmbu7u6YmJi6uroiIiJUVFQyMjIQEBAAAADo4HZ1AAAAAXRSTlMAQObYZgAAAAlwSFlz\n",
       "AAAOxAAADsQBlSsOGwAAAR9JREFUKM9jYMADIhMPM+AFhxjk8CswZtBmIAB2Yhee+8T/9pMJQIas\n",
       "AIj7/u2Zs79RVTjEMKyZ0sDAwOEI5HD9ZGDofoGmIIiBhfkAkGFvwMDAnsDAcC8AQwF7wAWOxwzx\n",
       "QIt4GBhYPkPEGb1370UocGDYwTAPaA8zA0P9ArAw18UGhAk8HQcYjASPgrlMPyHCsQ1IVpjkIqyd\n",
       "LwChryLcEHf7twScx/YdyriA5MiZvQgnrz8AcgfQMa937969BaqApXMCTJ75C9CrIAaHA5IJzAUe\n",
       "ME4c0OSVYNYG5HAoDoGyOXYD3b4DzBREVtDCCLWD9ykDgy3EcN4EuIJwBs4JXhD2+S0u9/5DFHMc\n",
       "WQGPTVcGl/sJGNHMpQINaiQAABOTTbPMGN5OAAAAAElFTkSuQmCC\n",
       "\" style=\"display:inline;vertical-align:middle;\" /></a> <a class=\"ProveItLink\" href=\"../__pv_it/demonstrations/f9b7ab49502e2b7e1ff0c02a2e4d5c670bc60d900/proof.ipynb\" style=\"text-decoration: none\">&nbsp;&#x22A2;&nbsp;&nbsp;</a><a class=\"ProveItLink\" href=\"../__pv_it/demonstrations/5752559ce72a03180a98b2bfce8219065c9ddbf20/expr.ipynb\"><img src=\"data:image/png;base64,iVBORw0KGgoAAAANSUhEUgAAAR4AAAAYBAMAAADeyY9MAAAAMFBMVEX////MzMxUVFRERES6uroi\n",
       "IiIQEBCYmJhmZmYyMjLu7u52dnaqqqqIiIjc3NwAAACW8nlqAAAAAXRSTlMAQObYZgAAAAlwSFlz\n",
       "AAAOxAAADsQBlSsOGwAAA6NJREFUSMfNVl1IFFEUPtu4u+PsL0XQU0k9RJo0ICVK6T4ZBOFSrdgf\n",
       "WvSDgu2CD1YEbkT4YNRiYBCpi2KvuxXRQ4j7UiAWbhIIgTIYQtFD5m9aaffOPbMzd3cmNnzxwLf3\n",
       "3plv7vnuPefcuwCbx7y3xv2bSA5sSXoaN5Mem98VJI2CMDMlr0f/QfQizM0eAfCkGEzteM4TC2q+\n",
       "xII0g9Gc3WUrdeX0kx7yM4rgrHW9BQaXnoAnkv1mFKRDwcyov+GiAu5wiymRN8dS1+6+IEyQ7kTW\n",
       "K8FbVLC3knQG0iDFQEWWHUiBu4q0j7OeU2phVB/X0k/LLYic1UZAqotDYRxU8HqSIG+lGfQDRLIw\n",
       "MWdxsEuGL7S9juOj2FKqzxAJ+xrZ5oAFkbN7RMc1EpwoQ7ae+4Xw1O9dBgfdytw4F65JReou41Le\n",
       "a7tOV2pYnucXwDsrImdkump6vDQj6McHQ6czegSwx53NMELGI7l6nD/7ma4I74ZSXxrDsoTpaUbk\n",
       "zA/iAm0fIUhe98T1/SnuB9vQuAKdZEzhLZni0j5crDauIt4NpXZN7td51YFvlkQYmjAeuMOq5OcI\n",
       "gK9xPV62w72sr8mtUYRVo55hps4Z490QqrQST+hny1hx1IoIMylRNmz5H7W5gQDo1fOnqeE8ijvH\n",
       "IF0FMcgVGBu5G3k3hOpeBYe+lY45sCLCWSMRxpjwtwiAmK7n1U1tcIlBnAV7knQT+FycXmBn+Cz5\n",
       "uRsKXQmFTiBdjIEvSbeJzYW7akZkr5BYMEdziFQuAmyXQ6HQSYxXZRuvxyFDgpatHUvxtm2ezZK1\n",
       "bEIlumtpxdez/cEFmBAdGKx67QQBOnkNAiTZUO87BD5eiTS0G6Ll8kODmiPuYE4YyPHzQK/470mM\n",
       "Vy4xYSwQbxPRTBP6DQIgaNAj7kR1RxgSKdjn1rP0I0C76sgp824I1ecnyZax9gBmqwmRuA9ovMEz\n",
       "ZGfpMloRAJMGPZKMlwiWn5B214sZJwNEi0+Nvpjk3RDqlohgOF+rtfM4l0iKy5Wp924FbA+1g6CT\n",
       "nW2pjJ4otAlM+nYGqfTZ9Aft223hC2DrW6Re7QHeDaWWdOhy7qyX4sWRS4TXbZ8y/7UWyyrCy7R3\n",
       "CkEm2nNMu9/nFaHiN5vHz2BhM8C7saTmS/QGGdQaeMHuC+5iMLnfDNaRdU1aUvMlWtzfulUhzFcj\n",
       "m9E3QvyMsLQBhKkJihl9I8R/Ll9dWZrB1KZM6RsgehQGK/sLt+cMZ4BjsRkAAAAASUVORK5CYII=\n",
       "\" style=\"display:inline;vertical-align:middle;\" /></a></span>"
      ],
      "text/plain": [
       "{a in Real, b in Real, c in Real, X in Real^{3}, Y in Real^{3}, Z in Real^{3}} |- ((a * X) + (b * Y) + (c * Z)) in Real^{3}"
      ]
     },
     "execution_count": 7,
     "metadata": {},
     "output_type": "execute_result"
    }
   ],
   "source": [
    "InSet(lin_comb, R3).prove()"
   ]
  },
  {
   "cell_type": "markdown",
   "metadata": {},
   "source": [
    "<div style=\"background:darkgreen; color:white; padding:5px 5px 5px 10px\">BEGIN Testing: working on a generalization of the VecAdd.factorization() method.</div>"
   ]
  },
  {
   "cell_type": "code",
   "execution_count": 8,
   "metadata": {},
   "outputs": [],
   "source": [
    "from proveit import a, b, c, i, j, k, u, v, w, x, y, z, IndexedVar\n",
    "from proveit.linear_algebra import ScalarMult, TensorProd, VecAdd, VecSum\n",
    "from proveit.numbers import one, nine, Interval, Mult"
   ]
  },
  {
   "cell_type": "code",
   "execution_count": 9,
   "metadata": {},
   "outputs": [
    {
     "data": {
      "text/html": [
       "<strong id=\"defaults.assumptions\">defaults.assumptions:</strong> <a class=\"ProveItLink\" href=\"../__pv_it/demonstrations/6b1e9e959c68749b80c4916cb5b91a85363389be0/expr.ipynb\"><img src=\"data:image/png;base64,iVBORw0KGgoAAAANSUhEUgAAAl4AAAAaBAMAAACUWU/mAAAAMFBMVEX///9UVFQiIiKIiIjMzMx2\n",
       "dnYQEBDc3NxEREQyMjLu7u5mZmaqqqq6urqYmJgAAAB66f/FAAAAAXRSTlMAQObYZgAAAAlwSFlz\n",
       "AAAOxAAADsQBlSsOGwAABRdJREFUWMPtmF9oHEUcx7+Xu8tudu+uBzHaqIRwbf2TFr0YW7UBiaK1\n",
       "2EpXWyEqhFh9SH2QK6JUBF3rg7FaPRuwUAW3VEOq4MXiv/pQD0VFH+z5YEERs6KIFhuDRmJDWpyd\n",
       "3b3s3s3Mbm4DeclAuN39fb6/33cnM7OzCyxJk/7s7ouOhIOe/OyC6Iin0Jkl6K+YFh+MjoSD2rAh\n",
       "OkILjVtHqfEl6K9EX7IzOhIOugV3RUdooT3W0VFG9I+hlw4MmRxp5pXhs5e9yEsslHq0TWbjSDho\n",
       "3slVjSO+Qpk8+WXeub4b3/5u2MdjO2uCspRNd+zjefBK65urjY8gAhIOcp3ckI+A+Ap1kYWMOf/1\n",
       "RyEnss7Jq3UpNOg3cS14pYzyjnYsHwEJB7lOlGciIL5C3YCqcfKohaJzMsdI8WGLwMK8lFmeahPT\n",
       "EZBwUNXJtr7GEV+hkoEVFW/0+lyuWM2j29fSszVBmkKuyRvfm7sStdL6xI52tE863wASCqpxojyI\n",
       "p8yFI8xCLSa2eZea7zfO93vsLWdSuU+gatBKcfFhf/r0iMGQ1id2tE1G5qGFI6GgOidd+M1YMMIu\n",
       "pOq4xtqMtV1HVwHpkGecbv6qYB+3tHaXfUGSIvHCQeck2fOr9fO4wZAqvSZiBkub2N7tIOtNrEMg\n",
       "sgWfivPgSPcbd5eZTm7tuchBTkDJihHcvFoy+YXIHqydXDtVkOmcaylU8zx24G+3h0uHlBlfUJZ2\n",
       "Xb3KKSmtw0fW70EwpMnUIP4CV+si9wcjKzFREUIYj7eqnVwntGlfIDMlRpSR/jsFbsjSNEygh2GX\n",
       "avGsg5PVfdlJAw/4grI0cNpd0Js0GkSRJd1K0raDq7WRIj4PQjpJDXoHfChTyMzGTK4TuuUsH0NM\n",
       "FyKQDNwrcEPW/JfJrJyybpu0TTnSdDuP/I67Ah4H/vUFyRDdN+kEP7G7PrGTBK9AjdRoztu9yda6\n",
       "yNZAhPhUxVACalHghI4d4qU5L0RIe9MQFJLOYS3QrKNEn5Jjnn5PjLs70jVIz/mCJMUW2RmiQ44X\n",
       "nSmdMKRpcLXu6M0HImTdiAdAdldwnTiziW4bBAgkOwunkHLOGl+lvL3KoMm7L3lvT3X7pc76giSF\n",
       "eptdU/nHudbJlB5DfAo8rYtAC0COQ87ijgAIEwXF4DuxGhmBGyBG8BMZhvxCEp2PpTLaU9byEM97\n",
       "8ozFTVs7jVHTFyQpFP1GMlHIMdmUpK1rPWBJn4asn2Zq7QlCEVpajJDlQhNDY5ULkQTTiT2pLU2W\n",
       "pBIjqTJi/EJIzJAnD+R8ai1dHvBaNc8TyJj7UbLWhA487w/K0jgm5YpylhyTh+MOukCWWdJ3sUnT\n",
       "WFr7wWsh9+ARQIz041Q2XRFDJ2//AD+C6YR2qeVVzabPByCb+9ev5heyZjQZoUrrjt3X0vPD+w33\n",
       "vf1ZDL9ebuqyLt5n+oLklf2/gvzcHHLkPDnwC72qrPwBDOn2L1v7mFo66C1E7XD+vQLk/Y2XDARA\n",
       "b/ekTti9UOeEnlhelbbemQBES+2q8AshM0iWZO/0/W5vzvfq97UomPJK0/3OKwZTWqdtDAkF1TmZ\n",
       "95osBiLCQmoWzRXRZzJNFEyiYeliIqGgJJ36o+WGb8eeyCbn+4T7/MyL1EfQsHQRkXCQ5XUV2hq+\n",
       "HedVx0BC9P07LlQLbcaDqy8OEg6yvH7TW2n4duz2M/m7FMstbLuc8/1+ubE/5ltDMKUtd0TIZr8J\n",
       "nFnuiJDtY+B/ZdJSbgtOdEkAAAAASUVORK5CYII=\n",
       "\" style=\"display:inline;vertical-align:middle;\" /></a><br>"
      ],
      "text/plain": [
       "defaults.assumptions: (a in Real, b in Real, c in Real, u in Real^{3}, v in Real^{3}, w in Real^{3}, x in Real^{3}, y in Real^{3}, z in Real^{3})"
      ]
     },
     "execution_count": 9,
     "metadata": {},
     "output_type": "execute_result"
    }
   ],
   "source": [
    "defaults.assumptions = [InSet(a, Real), InSet(b, Real), InSet(c, Real),\n",
    "                        InSet(u, R3), InSet(v, R3), InSet(w, R3),\n",
    "                        InSet(x, R3), InSet(y, R3), InSet(z, R3)]"
   ]
  },
  {
   "cell_type": "markdown",
   "metadata": {},
   "source": [
    "Some work below on a possible function to check for a factor in a vector expression, the issue being that we might have a vector expression with heterogeneous components such as a VecAdd of a ScalarMult and a VecSum, etc."
   ]
  },
  {
   "cell_type": "code",
   "execution_count": 10,
   "metadata": {},
   "outputs": [],
   "source": [
    "def has_factor(vec, factor):\n",
    "    if vec == factor:\n",
    "        return True\n",
    "    if isinstance(vec, ScalarMult):\n",
    "        vec_simplified = vec.shallow_simplified()\n",
    "        if (vec_simplified.scalar == factor or\n",
    "          (isinstance(vec_simplified.scalar, Mult) and\n",
    "           factor in vec_simplified.scalar.operands)):\n",
    "                return True\n",
    "        else:\n",
    "            return has_factor(vec_simplified.scaled, factor)\n",
    "    if isinstance(vec, TensorProd):\n",
    "        print(\"We have a TensorProd: {}\".format(vec))\n",
    "        return any([has_factor(v, factor) for v in vec.operands])\n",
    "    if isinstance(vec, VecSum):\n",
    "        print(\"We have a VecSum: {}\".format(vec))\n",
    "        return has_factor(vec.summand, factor)\n",
    "    if isinstance(vec, VecAdd):\n",
    "        return all([has_factor(v, factor) for v in vec.operands])"
   ]
  },
  {
   "cell_type": "code",
   "execution_count": 11,
   "metadata": {},
   "outputs": [
    {
     "data": {
      "text/html": [
       "<strong id=\"example_01\">example_01:</strong> <a class=\"ProveItLink\" href=\"../__pv_it/demonstrations/7be2349e7786ce91a7e4a397d09e43f9f26a2b980/expr.ipynb\"><img src=\"data:image/png;base64,iVBORw0KGgoAAAANSUhEUgAAAFMAAAAQBAMAAACYUF7xAAAAMFBMVEX///9ERES6uroQEBAyMjLc\n",
       "3NyYmJgiIiJmZmaqqqp2dnbMzMxUVFSIiIju7u4AAAAd7oVFAAAAAXRSTlMAQObYZgAAAAlwSFlz\n",
       "AAAOxAAADsQBlSsOGwAAAOtJREFUKM9jYEAApgQGNIApAgWcFwiLEKv07Z3XqyagSLxtY+A7gKp0\n",
       "ezUr0C0NvGc5ClAkFkxmYPuAIsLnu3ANAwNbANs/ngRkCe4J7Qw8AihKWR8wrANKMHA4gHgc5eXF\n",
       "5uXlQIv5GGwZmC8giwDBqwcgkvkCmieY/jHs34DqVlYIQz+A7wGKBNCay2ghoAa0i+GhwmEGLlQJ\n",
       "xgMMMqginBMYeBgY5u9rZtBEleA4wPQNVWTjwlvVDAwv7nK2TUCV4Dt14yuqyAJOEwUcccPlQCBi\n",
       "YYljCcPjCQSSCwzUMpxiIBJMu6GATRgA8KBMVSyypb0AAAAASUVORK5CYII=\n",
       "\" style=\"display:inline;vertical-align:middle;\" /></a><br>"
      ],
      "text/plain": [
       "example_01: x + y + z"
      ]
     },
     "execution_count": 11,
     "metadata": {},
     "output_type": "execute_result"
    }
   ],
   "source": [
    "example_01 = VecAdd(x, y, z)"
   ]
  },
  {
   "cell_type": "code",
   "execution_count": 12,
   "metadata": {},
   "outputs": [
    {
     "data": {
      "text/html": [
       "<strong id=\"example_02\">example_02:</strong> <a class=\"ProveItLink\" href=\"../__pv_it/demonstrations/46a10a5540de54ba80c68b0626f85a20a12470a10/expr.ipynb\"><img src=\"data:image/png;base64,iVBORw0KGgoAAAANSUhEUgAAAKkAAAAVBAMAAADP89MSAAAAMFBMVEX///9ERES6uroQEBAyMjLc\n",
       "3NyYmJgiIiJmZmaqqqp2dnbMzMxUVFSIiIju7u4AAAAd7oVFAAAAAXRSTlMAQObYZgAAAAlwSFlz\n",
       "AAAOxAAADsQBlSsOGwAAAlJJREFUOMuNlE9oE0EYxV+yZrvJ/iEIvVncawUxFsRTISePkpsgFnIR\n",
       "6smCh6AiLCgJiOKCf/GgOejBYGUvRRSqAcFDobJUCrU2sKEeorZahAoiFmd2k9nMZBZ2Dkvy3o9v\n",
       "v+/tzACylZOJlVRSgkjXJ5l4eEQx3XRctPJNmWpWReUh0nHR+iKXTwr/rXIaLjt4SV1OzwqcNtTU\n",
       "ems+ELn+4H7/R0leVQl4TomtxQDWisjxdD5hsn1VnrvDHH2cPLr2ELe98b3lcrRGP9aZ+Zk4wM6H\n",
       "18+AQpuvep1ZWqECy3mB7Tqsdsg55rI2x9H0XdljOMgG0bDhNwC1zFc9waxVPEUP39C8DXWHcmpF\n",
       "3TOqHD1GWt+sosF6PYvzwXvil/iqF5lF+ltwYOhuA0aRcjq0sAWtVrtwvFajQyokoFvAJSr/pKaH\n",
       "a2F6Ozw3xSwS2Q2SkIVpKH7EKb7wtWjVo7B+hX07oTQd7iih1ylmOci1PJJGdg9vvYg7UrECMQHr\n",
       "Hw0o3sm7+EH8udEEIsvBaayQqmTsjyHXtd+hwNMZH9YfGOW7gy2w3yjRIdUiz00w65XehGlPItPG\n",
       "gZB7/OYqJnma7owJ3HecQTJ/e6Ws299xQ9xzZpmH6JXUhNbO/g65Xidfd3laJ5NurS8se4Neb/oP\n",
       "ztFkbJ57GVv0FGyR87W0thtzwom9LD9bpwRuzGOW+hmL4fYslGNOuF1m5VXrAqc6sfe184g8n2DT\n",
       "TbycMtLrPFcUlXFRuIIlGdcPspjuXV1RuLdmJ/VE1oxMXB3t3k/g/gMKprXF7Q7TegAAAABJRU5E\n",
       "rkJggg==\n",
       "\" style=\"display:inline;vertical-align:middle;\" /></a><br>"
      ],
      "text/plain": [
       "example_02: x + (a * x) + (x otimes y)"
      ]
     },
     "execution_count": 12,
     "metadata": {},
     "output_type": "execute_result"
    }
   ],
   "source": [
    "example_02 = VecAdd(x, ScalarMult(a, x), TensorProd(x, y))"
   ]
  },
  {
   "cell_type": "code",
   "execution_count": 13,
   "metadata": {},
   "outputs": [
    {
     "data": {
      "text/html": [
       "<strong id=\"example_vec_sum_01\">example_vec_sum_01:</strong> <a class=\"ProveItLink\" href=\"../__pv_it/demonstrations/e32ee2519d7a4ef6ba8f8947292588c454a90c8a0/expr.ipynb\"><img src=\"data:image/png;base64,iVBORw0KGgoAAAANSUhEUgAAAFwAAAA9BAMAAADSaROUAAAAMFBMVEX///9mZmYyMjIiIiJERESY\n",
       "mJgQEBC6urrc3Nzu7u7MzMyqqqpUVFR2dnaIiIgAAAAElYxrAAAAAXRSTlMAQObYZgAAAAlwSFlz\n",
       "AAAOxAAADsQBlSsOGwAAAp1JREFUSMftVU1oE0EU/rYm3ezmx2AteFAbBM8GPIgebA8FKwhGURF6\n",
       "MNdempy8iCUHwYNoU7GlWn9yFMQ2KhY8uRcPHoqhJ/8atwfbok0QS2pabcf5ibuzhbAZvPYdhrcz\n",
       "38x8b9733gLcKhUoWKQUthTgOwvGmgJ8OIdfCvD2rFlTgOsnR3+rxDpRqCugzbyeVIAHUm0FFe7n\n",
       "P2Lb/s8OEdc2/eGviUiQcX05s9pCZRAn/cHuoj+++4/jaj3+8CmScvw9fAw1QfL5GHG1G+Tj92bK\n",
       "stl4esU7Gy41I/KVDWMk7pm83ZR3W57dQbyF1+m6lblyXloJ8nO/rMpzSDveZB7Gorw0wO8gCZm6\n",
       "82H20eFOVlo7yBOa2ZCmNBqpUX379BO0aA5G/AMedsIQTe6zRwgiHpoGDct2B5bwHiN4gNI0gj8w\n",
       "TtfOigPJgAvfQZVwEZfyb2Ah+jiOiFnsQKQHZbo23RDCptzRgAJ2UY+y2gtEDQyi3RYKaPTIpBcO\n",
       "igDiCM0VKDF9DVOC7WUBWch5yUCv4y6F38QihWsJLGCIBftCiGFdblE2jBORNKXyxCwhlr2CgIVT\n",
       "hs06+jlBSdZ51EJ4fSStFxG7yvRWgmbptdAE47uPv/ugp18mYey3n/VTl6XpPs3szHydXQoc4S/t\n",
       "ldgxVyPfMMmLIZrAo3tU8PxFer26OyP18eorOs5irIjnGs0P26sddfXCY81t0e1xzFBSS8A19nXB\n",
       "Xe7noWyt2JfzDZn1eV8xLLR7q0l1xNi5w84rGl1x30bgvuKNd8T/F9L28wC3wxlCVvzbTJfUI2vb\n",
       "vwyPjavBy/+c0YTKNrOaVLom3Ap8yFKBsxLf3Ust1RJclHjrZAK2EpyWuAIZXuIKp7MSF1HMbth+\n",
       "4L+OnsZ0JNGukAAAAABJRU5ErkJggg==\n",
       "\" style=\"display:inline;vertical-align:middle;\" /></a><br>"
      ],
      "text/plain": [
       "example_vec_sum_01: Sum_{i=1}^{9} (x otimes y_{i})"
      ]
     },
     "execution_count": 13,
     "metadata": {},
     "output_type": "execute_result"
    }
   ],
   "source": [
    "example_vec_sum_01 = VecSum(i, TensorProd(x, IndexedVar(y, i)), domain=Interval(one, nine))"
   ]
  },
  {
   "cell_type": "code",
   "execution_count": 14,
   "metadata": {},
   "outputs": [
    {
     "data": {
      "text/html": [
       "<strong id=\"example_03\">example_03:</strong> <a class=\"ProveItLink\" href=\"../__pv_it/demonstrations/137529d7e406faf502829168a5d2cc0b509da0490/expr.ipynb\"><img src=\"data:image/png;base64,iVBORw0KGgoAAAANSUhEUgAAAUEAAAA/BAMAAACMf2cHAAAAMFBMVEX///9ERES6uroQEBAyMjLc\n",
       "3NyYmJgiIiJmZmaqqqp2dnbMzMxUVFSIiIju7u4AAAAd7oVFAAAAAXRSTlMAQObYZgAAAAlwSFlz\n",
       "AAAOxAAADsQBlSsOGwAABaxJREFUaN69WUtsG0UY/m1n7fVrE0DlBIpRpaAiRY54VRyaBAkVJCRi\n",
       "xA2BbCQQj0sMPRgEqKmKEikCxVIiQFCID+VAaIgvCIHUxlIRh4g2phBUaKM4CoGEPhwIIUnTZpl9\n",
       "zcyuZ6rxHmYO3vXs/3/zzc4//2MWQFZTq9Y1OVkSU9CeALntZ/s6A8cENX6USzC4Yd/sQL0mphIo\n",
       "SWW4lLOuyga0pgSX+SGpDN9xbu6F6ZygzmhNIsH4jnN319X+oqBSZEAiw5YKXruPWzOCStENiQzH\n",
       "MatTcLew1sMSGb6K726Hx8XnVZZnhtv4tuMV8WFD8gwxseYvDq1JY1j39zKC/0lj2O/ToO6XxrDd\n",
       "p95IRhbDv/06qZwkgsFrPhWzFVm54T9mXNGpVhVzN12yYt6uGcR0Ozgvd57WxYYO7Epi2Jo3L7Ob\n",
       "uOfFbSHF5LYkhtk2K1fRiVkdEcsdtnhPWJtcEepido5bDjuuEw+sZrgAVH+c5wSSrAwu2Gjcv4KY\n",
       "3ILdtaCTqee4ABSGtskR+IjZ+0vDGpTE5GDEnnFAz4sAUBg6p0DoZe9Ib1L+O4jJQbsd9LSeLREA\n",
       "CuOwG6vDsRG2Jw/b4T/oPB4kz36bmKx55TAe9DmLm9Zd9sMBoDD63DviE8dPcibWba+NY2jEp52s\n",
       "gXbOK4fxoMcZPKZ304A8AILRnmIyHOMwPOhmGMXGEN+DfhZTHjnCkFhT37+0GfIACMYseudXLl6a\n",
       "KLoRh439PjNH9qQtc8LNUEV2rs2f/fZzUGMZ0Aa+hCuDoFWwHIvhkk5tDi4AYAyD4UDyjJp3Ixr8\n",
       "92aoiGPLPO9m2ILsUYWL1SGYg89gBf6C0iiE17AciyGOfDcDWAaMMZKDcCa8m8i5Ed9AU3sQVOwZ\n",
       "HJlRN8MImt8L0F/7HioQ+2oAEvHiECTasBzG0yifMbJONgQPYBIwBmIYB9WyhqFC4b5C4S3rWMCo\n",
       "ECLGetSNh47MtLEyhcKh/YWCsRQhZDdl8zABSb6LtoEGByBUteRoPG2dqtKprIYLYI+F2pTxL1T1\n",
       "7hTEMNQG9RQp+y2Zve53GDIt+4BhBaBMlNGCBXdhuozlyDukGCpUlOACkLFMhumMVmtY5XoV+qmd\n",
       "Zcl80LjKxpnWVTTA03AODYBe9U+A5ZgMkw+Aa5UZAJ0VgoEYLqZOQ8yDeCdiWITvoo63dGSeczMM\n",
       "VEG7NdGFluibeAmSqX0QqMAdRI61UyBN1VRsAK26SzCQHY6fOgr7PIgnDOXo6ypOTWyZYTfDWAWi\n",
       "OytdwSIk7zGygBKoFbN+HOYzjNMJHxtAWc0TDMRwZT46WPQgfo0W5swXz1xwkByZ19wM43nQ3qt+\n",
       "+DK6NRzuZRQWZs5vEDmmP6QTHw5AoEowZovMmBJhV7dK3hP13iRh9AKcNF1WrJfIUVEPCz7mQmQD\n",
       "1C8RDA/DDm/o99RDOU/m8BJ5tjr/Kfo9DktFKvHAmQPOUAJtLkQ2wJhKMNo5RwF7mL1PNtQ53lT8\n",
       "bZhhyZFxhoi7LnIBLs8RjMOckn5RjLfW5ul4/3yKOb8ROycIE1cTLvIBKIweXpnAqmaTjdN5FsTk\n",
       "FnINrmaUD0BjrMs6WLISGoW4mpUtIUVlUxLDdMXtapRjdIpzs+OU67KOD63kpO8Rsz16SNc9JRWv\n",
       "hW9IYhgxz1JV+txG7FBL3ZHEUPX72aFF1jFx2O9pb2teEkNly6fidEnWGex+n3oL0j6oTNX86d0m\n",
       "iyBkLU+43KSadl0awxbLIU46///oFdthO9IYht3uJj4vtkdb8tIYap6PAVGxobM5aQzhqPHTWWmS\n",
       "4ZQ8gkZ1C0YRd+QW1HKCDLUbEhkmu5DfXs039w7VvESGKL8Hq4hrgmE2JZNhGmXNqIhrapV/kEnQ\n",
       "LFPH1KbeYbhbKkPjqMUo4qxM4vg1ge96T5XlMvyz6fEOyiUISrMMNWuf/A/eU/7BpUupMgAAAABJ\n",
       "RU5ErkJggg==\n",
       "\" style=\"display:inline;vertical-align:middle;\" /></a><br>"
      ],
      "text/plain": [
       "example_03: x + (a * x) + (x otimes y) + (Sum_{i=1}^{9} (x otimes y_{i}))"
      ]
     },
     "execution_count": 14,
     "metadata": {},
     "output_type": "execute_result"
    }
   ],
   "source": [
    "example_03 = VecAdd(x, ScalarMult(a, x), TensorProd(x, y), example_vec_sum_01)"
   ]
  },
  {
   "cell_type": "code",
   "execution_count": 15,
   "metadata": {},
   "outputs": [
    {
     "name": "stdout",
     "output_type": "stream",
     "text": [
      "We have a TensorProd: x otimes y\n",
      "We have a VecSum: Sum_{i=1}^{9} (x otimes y_{i})\n",
      "We have a TensorProd: x otimes y_{i}\n"
     ]
    },
    {
     "data": {
      "text/plain": [
       "True"
      ]
     },
     "execution_count": 15,
     "metadata": {},
     "output_type": "execute_result"
    }
   ],
   "source": [
    "has_factor(example_03, x)"
   ]
  },
  {
   "cell_type": "code",
   "execution_count": 16,
   "metadata": {},
   "outputs": [
    {
     "data": {
      "text/html": [
       "<strong id=\"example_04\">example_04:</strong> <a class=\"ProveItLink\" href=\"../__pv_it/demonstrations/cf976e5ea5f4e9577fd9af3711c2fb934f1e91020/expr.ipynb\"><img src=\"data:image/png;base64,iVBORw0KGgoAAAANSUhEUgAAAWkAAAA/BAMAAADQ9SQjAAAAMFBMVEX///9ERES6uroQEBAyMjLc\n",
       "3NyYmJgiIiJmZmaqqqp2dnbMzMxUVFSIiIju7u4AAAAd7oVFAAAAAXRSTlMAQObYZgAAAAlwSFlz\n",
       "AAAOxAAADsQBlSsOGwAABjVJREFUaN7FWV1oXEUUPpvsz92/u9FSn5SsFCIVwgb/ig9NIkgVFLPi\n",
       "myhZQfHnJVf7sIpKUyoJFCUXElS0mn2oiLEx+yKi0GahIjRYs1ZTqm3IhhhN7M9G05ikafc6c39m\n",
       "5v41s/syA7N79+ycb75758w5Z84FENmksvGdHC/wKchPgPj2q/k9BUc4NX4WT7ppzbzYgmqFTyVQ\n",
       "EM56IWd8h9YgleY0kQeFs37HurgHJnOcOsMVwaTjW9bVnVf6VE6lSL9g1sESWfePU1lOpeiaYNaj\n",
       "hOkJuItb6yHBrF8lV7fBY/z3WhRr1pvksu0VfirNYg07sdJYPF0Ryrra2ENr+k8o674GDfQ+oaxb\n",
       "G9Qbyopk/U+jDjMnkHTTtQYVe0sic+t/9fioMa3M5/o6RMbzmh6gNTMZWWw/qfHRCdQEsk4p+tf0\n",
       "OpG8uMmlmNwUyLq3xcjhNGqmB/nypw2/f7LbClAub3YPMY9w1AgycY1GDSnrC8DI437OJ6luJ8BO\n",
       "oGx0R/vN02G4x82ZojmNPpGcLwCDIa/7DPjILZB3KE7hWbPb18/7YHfWHSzMBxHQFB4ABkPzOZx1\n",
       "ewiCrrQhWDG6rf3h4zFcB6dWM6DLXRs8AAzGATtWm2VfzuiDBSmXkYT7ja4vn6UyQP//fWy8wo61\n",
       "zQE9lmFkNBuyDwCD0WPfZJ9Yftzl2DG4+5jZaXa8rpbhUp97vALyGdtYdg7osvBiWicL6gdAMVrT\n",
       "nqxHnPSw4HP3ku0zO8M6SowrvhN9zKfZsTbW1Dp7rrJm7QdAMabR2ly+cHFMtSMexn5maobueyx4\n",
       "fPYU+W3qHAOjM6wltJfk2Z+++wKkWBbk/q/g8gDIJTLOi/WCxmxAXwA6F2bdnzwtKXZEfE+7skzk\n",
       "RAL5aqVK7MnUeR6MzrAOIvuW4EJ5EGbgM1iCv6EwDOEVMs6LNYnqNwNYpHMN5SCcDdcSOTviG4jk\n",
       "AyBRj4QE0Ro0Ww/f0hkGozOsI+g5vAB9lR+gBLGv+yERVwch0ULGkTlkxn8NrdI94wcwTudCrOMg\n",
       "GZY0mM/fm8+/ZZSC8Oksgtet2m0JuiFVMH9bOpNml/L5/XvyebyMzcgOi3pRCQ1+F201Gfbqtzvp\n",
       "mENeZSozTLbnC2DOhdoE/kUeIXkOiGRzC1TTpNSDBOgeMiop/Rg6u8zOPOtmfffsxVYEobEiWuym\n",
       "GkwWyTj6rBnWISba+QLQuXTWmaxccVlItQx9wFoIctdDdB0NnQ/A6A4LwbXSK2jSp+EMmhQtyy90\n",
       "nCfr5P1gsxAPgPYSxUCs59MnIeZAvAOxVuH7KNl9SJAqIlM3m6XznNkZ1oEyyLcmOtDyfhsvQDK9\n",
       "GwIluJ2O89qNkGHOvd4AcrlGMZBdj544BLsdiMewcvR1iUAhQSIXICHd0jlsdoZ1rATRraWOJhWS\n",
       "d+NMqABSSa8FHPZnHWcTZm+A0LJCMRDrpdnogOpA/AYt4OkvnzlPoLBgioZaS+c1szOs4wrI75U/\n",
       "fBld4iBxCYW3qXNrdJynv2YTQh+AQJliTKuesTHirFREPEsXIcXotoj+Jk0bzsNx3aXGuuk4JqKT\n",
       "gY/aUL0BqhcphoN1mzPVAT8ByamsRItkTy/R/5dnP0WfR2FBZRIykj2RzC3QYkP1BhiRKEarT/ln\n",
       "57YC3J40u/0s6jz1vA1TXuPo3IPUNam+AJdmKMYBnzLO/LYC61ZctyO3OATvn0t73vaQmReFqdsL\n",
       "q/4ADEaX3xGtvJ0Ae9ms0R3tWc8jnXvcXM7l9ob9AViMVZHFSSPRC1G3t7TBpRhaF8g6U7K7vdAR\n",
       "NvW7WantusjytZG09Tyst0f2a5qmcCmGbwhkHdFr/hJb5+MrlkpbAllLjb6CC4p8xRFu9E1FShHI\n",
       "OrTRoOJkQSBr2NOg3pzQF44Tlcb0dogkDb2Gp16sU02+LpR10HDY49bvP7v5dvGWUNZhu+uLz/L5\n",
       "hqAilLXseAkW5aPTmxPKGg7hj/ZSnawnxJLG1QvAh++Dt6CW42Qt3xDMOtmBYs2yUt+zlhTBrNHZ\n",
       "CozDdx2se9OiWWfQ6QQdvuuykB9Fk9ZLDiNSXc863CmcNa7E4cO3kU0dvcbxHv2ponjWf9XNYZ94\n",
       "0hCql7Vs7MX/AZR7JcwtamzkAAAAAElFTkSuQmCC\n",
       "\" style=\"display:inline;vertical-align:middle;\" /></a><br>"
      ],
      "text/plain": [
       "example_04: x + (a * (b * x)) + (x otimes y) + (Sum_{i=1}^{9} (x otimes y_{i}))"
      ]
     },
     "execution_count": 16,
     "metadata": {},
     "output_type": "execute_result"
    }
   ],
   "source": [
    "# containing a nested ScalarMult\n",
    "example_04 = VecAdd(x, ScalarMult(a, ScalarMult(b, x)), TensorProd(x, y), example_vec_sum_01)"
   ]
  },
  {
   "cell_type": "code",
   "execution_count": 17,
   "metadata": {},
   "outputs": [
    {
     "name": "stdout",
     "output_type": "stream",
     "text": [
      "We have a TensorProd: x otimes y\n",
      "We have a VecSum: Sum_{i=1}^{9} (x otimes y_{i})\n",
      "We have a TensorProd: x otimes y_{i}\n"
     ]
    },
    {
     "data": {
      "text/plain": [
       "True"
      ]
     },
     "execution_count": 17,
     "metadata": {},
     "output_type": "execute_result"
    }
   ],
   "source": [
    "has_factor(example_04, x)"
   ]
  },
  {
   "cell_type": "markdown",
   "metadata": {},
   "source": [
    "<div style=\"background:darkgreen; color:white; padding: 5px 5px 5px 10px\">END Testing</div>"
   ]
  },
  {
   "cell_type": "code",
   "execution_count": 18,
   "metadata": {},
   "outputs": [],
   "source": [
    "%end demonstrations"
   ]
  }
 ],
 "metadata": {
  "kernelspec": {
   "display_name": "Python 3",
   "language": "python",
   "name": "python3"
  },
  "language_info": {
   "codemirror_mode": {
    "name": "ipython",
    "version": 3
   },
   "file_extension": ".py",
   "mimetype": "text/x-python",
   "name": "python",
   "nbconvert_exporter": "python",
   "pygments_lexer": "ipython3",
   "version": "3.7.3"
  }
 },
 "nbformat": 4,
 "nbformat_minor": 1
}
