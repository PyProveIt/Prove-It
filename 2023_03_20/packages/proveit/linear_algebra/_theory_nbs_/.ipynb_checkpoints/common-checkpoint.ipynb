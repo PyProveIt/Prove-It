{
 "cells": [
  {
   "cell_type": "markdown",
   "metadata": {},
   "source": [
    "Common expressions for the theory of <a class=\"ProveItLink\" href=\"theory.ipynb\">proveit.linear_algebra</a>\n",
    "========"
   ]
  },
  {
   "cell_type": "code",
   "execution_count": 1,
   "metadata": {},
   "outputs": [],
   "source": [
    "import proveit\n",
    "# Prepare this notebook for defining the common expressions of a theory:\n",
    "%common_expressions_notebook # Keep this at the top following 'import proveit'.\n",
    "\n",
    "from proveit import ExprRange, IndexedVar\n",
    "from proveit import a, b, i, k, n, x, y, U, V, W\n",
    "from proveit.core_expr_types import a_k, x_k\n",
    "from proveit.logic import Set, Difference\n",
    "from proveit.numbers import one\n",
    "from proveit.linear_algebra import VecAdd, VecZero, ScalarMult"
   ]
  },
  {
   "cell_type": "code",
   "execution_count": 2,
   "metadata": {},
   "outputs": [
    {
     "name": "stdout",
     "output_type": "stream",
     "text": [
      "Defining common sub-expressions for theory 'proveit.linear_algebra'\n",
      "Subsequent end-of-cell assignments will define common sub-expressions\n",
      "%end_common will finalize the definitions\n"
     ]
    }
   ],
   "source": [
    "%begin common"
   ]
  },
  {
   "cell_type": "markdown",
   "metadata": {},
   "source": [
    "A binary linear combination:"
   ]
  },
  {
   "cell_type": "code",
   "execution_count": 3,
   "metadata": {},
   "outputs": [
    {
     "data": {
      "text/html": [
       "<strong id=\"binary_lin_comb_ax_by\">binary_lin_comb_ax_by:</strong> <a class=\"ProveItLink\" href=\"../__pv_it/common/b36242db59fd76d999530a711954fa0f778275cd0/common_expr.ipynb\"><img src=\"data:image/png;base64,iVBORw0KGgoAAAANSUhEUgAAAH4AAAAVBAMAAAByPkciAAAAMFBMVEX////MzMxUVFRERES6uroi\n",
       "IiIQEBCYmJhmZmYyMjLu7u52dnaqqqqIiIjc3NwAAACW8nlqAAAAAXRSTlMAQObYZgAAAAlwSFlz\n",
       "AAAOxAAADsQBlSsOGwAAAe5JREFUOMuNlDFIAlEYx/+mnud5iktLi05FiCBNLYWTU1BBhlBBQxIE\n",
       "QdBSUy0l4dJWNFlC1BBaU9HiUhENmUM5VEjNgU2RSfS98+7s3b2gB8fjvvf7v+9/3/feAajBPgL/\n",
       "D/lLAr2rbAs9/kHdQDQerAG1iHxaQCmbQr03Zwkc0rMtoOQFod6zqls0ljP0NAWUBPGY020bhZim\n",
       "vRoC6voP/RavV+kzfSMCKsv6EHlu1/uosntOLTnh9XKRvjZaMXt1lIESZhTLk6g529ZW/VGZEi3z\n",
       "ei/VobCjfBtU8RKeOqMmqQWzkE1rnpqn0UHwJa93U+bbHOZ1ylFaQ0eMUTPkrQ432UOBtdIBWeto\n",
       "iJlOJsfTyST5hBQHNoAvyvZJrwrtJJUZRXophkKc5Wj1TNJSJvj8TD8BF+tgSutrA6Ego8h/oYyV\n",
       "XzUdril0eC7s/puQzTKRyXswaoD0JfSqxi3Kx7vho3mR1ztpfse+edicYfRp1AlbU1OysXDbtY4h\n",
       "mrO83kdF6EG/aVIOuz40qpOKET1+uTMWDp7UDOvyGK93UIP2TttnXYlUvzXKHRQev8CI5fyOWgnf\n",
       "pkYZF8UyjGtl3p8lfv0M+6UWNSjUv1oDTv43NYWITuWFetuuSox7varGdSpQFsj99p/im5D6AZgB\n",
       "gHtzXtZjAAAAAElFTkSuQmCC\n",
       "\" style=\"display:inline;vertical-align:middle;\" /></a><br>"
      ],
      "text/plain": [
       "<IPython.core.display.HTML object>"
      ]
     },
     "metadata": {},
     "output_type": "display_data"
    }
   ],
   "source": [
    "binary_lin_comb_ax_by = VecAdd(ScalarMult(a, x), ScalarMult(b, y))"
   ]
  },
  {
   "cell_type": "markdown",
   "metadata": {},
   "source": [
    "A general linear combination:"
   ]
  },
  {
   "cell_type": "code",
   "execution_count": 4,
   "metadata": {},
   "outputs": [
    {
     "data": {
      "text/html": [
       "<strong id=\"lin_comb_axn\">lin_comb_axn:</strong> <a class=\"ProveItLink\" href=\"../__pv_it/common/e4c52b5bbc528977a8b120ace2be632ef4ed7eeb0/common_expr.ipynb\"><img src=\"data:image/png;base64,iVBORw0KGgoAAAANSUhEUgAAAT4AAAAVBAMAAAAtCp9CAAAAMFBMVEX////MzMxUVFRERES6uroi\n",
       "IiIQEBCYmJhmZmYyMjLu7u52dnaqqqqIiIjc3NwAAACW8nlqAAAAAXRSTlMAQObYZgAAAAlwSFlz\n",
       "AAAOxAAADsQBlSsOGwAAAw9JREFUSMedl01oE0EUx18+mmy3SYwHQZTanBQrgR68WntKL4KtdCWo\n",
       "h4hfUFALvVgRm0usUsTcejRa0KpIasGTFuIhRRF1LYhKrYTmZilG6MWi1vna2c1bdzfrHDbLb97/\n",
       "vTczb2YnAFADl5b4B/Mt+F9b1h+vuJmEdRvyLXBsXzz6ma/X7jYfbcS3wKnFZr0siC+16G7SXkLA\n",
       "t8CxPfC0IL6UEXeTaF689Itf3wLbqhkOJjzzI74iXjbD4veN+PUtsC2rUaE57ykehldeJlMonG+B\n",
       "U36xond+UzBJ9/G+r827Tl3u3vlcvM+hcL4FTvkpdHuszK+h7seLd57JE2KOjTZTC2002SiwqBfE\n",
       "+xgK51vglF87qcPwBTiI9lM+nlYGQPo6QQZ/DghRx0ybqzBe2iPIAgonBY/mupGAk4UW82sjs3Rv\n",
       "BApoS9SiG0G5BRfgNBl8A9pmofMDI2VaFUm4QZ6cdNFHQdPOatoR+ioFee7aIuAEC5onWtOOntG0\n",
       "FN1ofQC3AI6bRfKTPAKgWOqyi4aL9ECZ2Fb5qPjxcJ4+GMmg6ZCCdfiebBZwkmlx/mh+p0BdN3uy\n",
       "nFtKO0OXq6zDuJGNcUb9gYeCVO3rywWXeX4WASfV1tdX/Q3RBkQnOj9Z+g/X1JKBqnCAhKvA3ljN\n",
       "kp+6P5iDWRFpFIUzBfAUCxgZbTG/kA7qLwgW397PjETknWO6bzd0gIFG6WkQ0mNZxTp/sR8zuXBF\n",
       "kEkUzhQEjmEBI0jAqooWKXux5NeRooOt5vPfPsMWuYnf7bgGh8BAk7CNCNNPVt5b81Nv6i+vGEs7\n",
       "hPIzBfUSFjCCBVmjSLPN+QXIKXJ3aVc6CWlZswAzy7EJMlKBhqBN1lDVthKUJAZQOClI5BPoJsiI\n",
       "TeD4fRs0yEm4HkBGHBFf8nPukJ+8DvTj739963Z0tDJiEzjeDy4Zw2rA4As0Uo6or16BVm/PI0eM\n",
       "1G3+DcHFzU3Uw0i95ftfSEx/OAVL6FIkEPU17e6k10Z8C5ya2uNlQX0lXC/kcfufDd8Cx7bm0U98\n",
       "/QWbABK9lanKsQAAAABJRU5ErkJggg==\n",
       "\" style=\"display:inline;vertical-align:middle;\" /></a><br>"
      ],
      "text/plain": [
       "<IPython.core.display.HTML object>"
      ]
     },
     "metadata": {},
     "output_type": "display_data"
    }
   ],
   "source": [
    "lin_comb_axn = VecAdd(ExprRange(k, ScalarMult(a_k, x_k), one, n))"
   ]
  },
  {
   "cell_type": "code",
   "execution_count": 5,
   "metadata": {},
   "outputs": [
    {
     "name": "stdout",
     "output_type": "stream",
     "text": [
      "These common expressions may now be imported from the theory package: proveit.linear_algebra\n"
     ]
    }
   ],
   "source": [
    "%end common"
   ]
  }
 ],
 "metadata": {
  "kernelspec": {
   "display_name": "Python 3",
   "language": "python",
   "name": "python3"
  },
  "language_info": {
   "codemirror_mode": {
    "name": "ipython",
    "version": 3
   },
   "file_extension": ".py",
   "mimetype": "text/x-python",
   "name": "python",
   "nbconvert_exporter": "python",
   "pygments_lexer": "ipython3",
   "version": "3.7.3"
  }
 },
 "nbformat": 4,
 "nbformat_minor": 1
}
