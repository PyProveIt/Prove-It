{
 "cells": [
  {
   "cell_type": "markdown",
   "metadata": {},
   "source": [
    "Proof of <a class=\"ProveItLink\" href=\"../../../../_theory_nbs_/theory.ipynb\">proveit</a>.<a class=\"ProveItLink\" href=\"../../theory.ipynb\">linear_algebra</a>.<a class=\"ProveItLink\" href=\"../../theorems.ipynb#complex_set_is_vec_space\">`complex_set_is_vec_space`</a> theorem\n",
    "========"
   ]
  },
  {
   "cell_type": "code",
   "execution_count": 1,
   "metadata": {},
   "outputs": [],
   "source": [
    "import proveit\n",
    "theory = proveit.Theory() # the theorem's theory"
   ]
  },
  {
   "cell_type": "code",
   "execution_count": 2,
   "metadata": {},
   "outputs": [
    {
     "data": {
      "text/html": [
       "Under these <a href=\"presumptions.txt\">presumptions</a>, we begin our proof of<br><strong id=\"complex_set_is_vec_space\">complex_set_is_vec_space:</strong> <a class=\"ProveItLink\" href=\"../../../__pv_it/theorems/f120b3bbfb00add7e52ad577a9f3618a50b0017b0/expr.ipynb\"><img src=\"data:image/png;base64,iVBORw0KGgoAAAANSUhEUgAAAKUAAAAdBAMAAAA5nLHxAAAAMFBMVEX///+qqqq6urpmZmaYmJgQ\n",
       "EBBUVFTMzMzc3NyIiIgyMjIiIiJERER2dnbu7u4AAADcB0J/AAAAAXRSTlMAQObYZgAAAAlwSFlz\n",
       "AAAOxAAADsQBlSsOGwAAAudJREFUSMftlV9IU3EUx7/3Or3b7rzbiw8W4X1RKBAXSjjBHDgKo8Ak\n",
       "y5dw0R/qbT1ISMguiBUJ6UPEjJYTywchqQSjpBhFYAnRP0IIdWT0pJiYZH9knZ/X/X4btIF0H/s9\n",
       "nXPP+X1+v9/5nrMB1iwj01iYHI50/CPS4Ulxtq+7J/1a3bOMjP3JMaB75RX/MFe5My8ncxvnOPzk\n",
       "+soBWyYTdSxwn7vaA0iPciG1mOCMAIqXXed4Zk4P5cDL3UIy9+Vi5vkFpx4oSMTJ/mzGboyPMxpc\n",
       "q3Smzrc4X9OnXMz8NE5+Ai67uM+OmxuGtExJYourhY7IxdwCwXH6cUF5nYrYR3hSM9AOdEa90Gqn\n",
       "PVLyLTvxaP0uqnNDdIZEm34Du+8dlKt97GG1EJzCIDpkP38ibzLMerAbSguuo8sjH0F/8idVolnX\n",
       "RiG1oAb2gygNtRmO2Dxwl9JvQXBsMXTKvZyZIVIQqhduzzCjaHtavwFDQIlOXoXhjKHIGAWWShNg\n",
       "2+9BcKRGqgN/e9s4rbiJXyWJwn44Z9bMmNIKDAKLVLRPs8Yi7VHolDvq7wiLNkFwlK9wJeIp5ry4\n",
       "p7RGEpVUBQLnfsDUp0JnTHccc8dKjHAv0zEQ2Kt9THo3mCmO3Ah5va9k5qlpSjaTRGEaOG0ZZh+5\n",
       "Q+Y9pSaEDXZdZYm+XoHtu/l2zpGowL4ysmvWp7Q3bZKeUKcFAX2YslQSqMesZ8jtRcXFyyS25zAh\n",
       "ioETlP0CgmOj+zpeVmtbzd4aSBOJeEoTCo0uP6bUAWgk7W1Dewxi9p+9dIgibTqmihKYoOwPEJw8\n",
       "VteF57+qTdCXpwneA2yKOn1T0Cr7jAK59hT5Qw3XdChnihceYs4Xgb0yapT3RVnieQiOqmfOQ/mk\n",
       "OZt/X4NZI2pI2N2b+pHMzrSJ+UbVpphj2UMT3LLHN4MsWzmdNSZa22VY9G8EO2/DCP4vvtoPWI5U\n",
       "gi7Lma6Q9U9XE5rlTPl9wArMH7dBzQl37GV8AAAAAElFTkSuQmCC\n",
       "\" style=\"display:inline;vertical-align:middle;\" /></a><br>(see <a class=\"ProveItLink\" href=\"../../../__pv_it/theorems/c4ce86256302c00e7e44b3abc557866fac34a3560/dependencies.ipynb\">dependencies</a>)<br>"
      ],
      "text/plain": [
       "complex_set_is_vec_space: Complex in_c VecSpaces(Complex)"
      ]
     },
     "execution_count": 2,
     "metadata": {},
     "output_type": "execute_result"
    }
   ],
   "source": [
    "%proving complex_set_is_vec_space"
   ]
  },
  {
   "cell_type": "code",
   "execution_count": null,
   "metadata": {},
   "outputs": [],
   "source": []
  }
 ],
 "metadata": {
  "kernelspec": {
   "display_name": "Python 3",
   "language": "python",
   "name": "python3"
  },
  "language_info": {
   "codemirror_mode": {
    "name": "ipython",
    "version": 3
   },
   "file_extension": ".py",
   "mimetype": "text/x-python",
   "name": "python",
   "nbconvert_exporter": "python",
   "pygments_lexer": "ipython3",
   "version": "3.7.3"
  }
 },
 "nbformat": 4,
 "nbformat_minor": 1
}
