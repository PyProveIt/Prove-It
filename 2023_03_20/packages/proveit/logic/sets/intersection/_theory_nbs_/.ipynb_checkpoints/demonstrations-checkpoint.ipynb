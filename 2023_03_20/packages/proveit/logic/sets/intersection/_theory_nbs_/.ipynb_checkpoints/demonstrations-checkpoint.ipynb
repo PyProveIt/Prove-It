{
 "cells": [
  {
   "cell_type": "markdown",
   "metadata": {},
   "source": [
    "Demonstrations for the theory of <a class=\"ProveItLink\" href=\"theory.ipynb\">proveit.logic.sets.intersection</a>\n",
    "========"
   ]
  },
  {
   "cell_type": "code",
   "execution_count": 1,
   "metadata": {},
   "outputs": [],
   "source": [
    "import proveit\n",
    "from proveit import a, b, c, d, e, f, A, B, C, D, S, m, x, y, InstantiationFailure, ProofFailure\n",
    "from proveit.logic import And, Equals, Forall, InSet, Intersect, NotInSet, Or, Set, SubsetEq\n",
    "from proveit.core_expr_types import A_1_to_m\n",
    "from proveit.logic.sets import x_in_every_A, x_notin_some_A\n",
    "%begin demonstrations"
   ]
  },
  {
   "cell_type": "markdown",
   "metadata": {},
   "source": [
    "# Intersection $\\cap$"
   ]
  },
  {
   "cell_type": "markdown",
   "metadata": {},
   "source": [
    "## Introduction <a id='introduction'></a>"
   ]
  },
  {
   "cell_type": "markdown",
   "metadata": {},
   "source": [
    "The intersection of sets $A$ and $B$, denoted in the usual way by $A \\cap B$, is represented in Prove-It with the Intersect class:"
   ]
  },
  {
   "cell_type": "code",
   "execution_count": 2,
   "metadata": {},
   "outputs": [
    {
     "data": {
      "text/html": [
       "<a class=\"ProveItLink\" href=\"../__pv_it/demonstrations/311d5222f5895960613602e71ee2a347cff3b9920/expr.ipynb\"><img src=\"data:image/png;base64,iVBORw0KGgoAAAANSUhEUgAAADcAAAAPBAMAAACy3Eq1AAAAMFBMVEX///8QEBAiIiLu7u5ERES6\n",
       "urqYmJiIiIjMzMx2dnZUVFRmZmaqqqoyMjLc3NwAAABb1yYoAAAAAXRSTlMAQObYZgAAAAlwSFlz\n",
       "AAAOxAAADsQBlSsOGwAAAO9JREFUGNNjYACBtwx4wH00Ppv/r1VrPSBsnv8QOuvKVqgsowMDw/oG\n",
       "MJN7/QMQ1VTH3H0ZIvm+gIEhfgOYOW8+SBEHSOKtAVgkHyiQXwBi8RXUHwBSXCAVbGARhvVAfBFs\n",
       "HDfD+QQgxQRic0DMEmFgsNIAs2IY+ifAJPkWgJV8Ka+6BrF9A8P7BaiS7P8YGA4mgFneu9c7oEqy\n",
       "CDAwcP4AscwZGPgVUCX5gSTbd4ipDEwCqJL9QCO5vgIZrEAG7wdUyXqgL/ovABkPQXb8Q5W8CNQj\n",
       "CwwOk/+XGXj8/wL9wgISZgb5c8n/VauuAMMFAHSXQjjQ3TVrAAAAAElFTkSuQmCC\n",
       "\" style=\"display:inline;vertical-align:middle;\" /></a>"
      ],
      "text/plain": [
       "A intersect B"
      ]
     },
     "metadata": {},
     "output_type": "display_data"
    }
   ],
   "source": [
    "Intersect(A, B)"
   ]
  },
  {
   "cell_type": "markdown",
   "metadata": {},
   "source": [
    "and membership (or non-membership) in such an intersection is captured with the IntersectMembership (or IntersectNonmembership) class, typically created using the `membership_object()` or `nonmembership_object()` methods in the Intersect class:"
   ]
  },
  {
   "cell_type": "code",
   "execution_count": 3,
   "metadata": {},
   "outputs": [
    {
     "data": {
      "text/html": [
       "<a class=\"ProveItLink\" href=\"../__pv_it/demonstrations/7b018a17df9c143ed9a9241e0e72bff72e52d00a0/expr.ipynb\"><img src=\"data:image/png;base64,iVBORw0KGgoAAAANSUhEUgAAAGsAAAAVBAMAAACzuQ2OAAAAMFBMVEX///9ERES6uroQEBAyMjLc\n",
       "3NyYmJgiIiJmZmaqqqp2dnbMzMxUVFSIiIju7u4AAAAd7oVFAAAAAXRSTlMAQObYZgAAAAlwSFlz\n",
       "AAAOxAAADsQBlSsOGwAAAdRJREFUOMt9lD1Iw1AQx/+tbZqaNAZE1EEsODmoVVDXOuimFiw4qpuD\n",
       "YAWhuBUFEacOTi7q4CKC3XTSioJLpV3cLNpNEKGDiuBHvXuvDUaSPLh7793d7969eyGA40jAY7g6\n",
       "I1kxJZ29fW7Yrpym/5kXaoXCWA6ReWfKiIspXJPbpbH1umMQ0D+BKWdMlenUorjF6Z1xJgOD34D/\n",
       "A1i036g9vSoWTXJ/eJIjrTGSfGSDQicphDY9/qH8k43djsxdeuDO6MwqJbboVSAwTELVvNw/H4nG\n",
       "Ja0c27JG7HGxIV5rGVGFCeOGsjTngUzkVk2xcdw6d0LoXlzsN7BgnvVFV/maMylxKAnlRxctiFvY\n",
       "mtAZzOXt2EMC4RFucQwaVBmvjabT6RWxHBIN6tgqmnaslYTbpFW54pJ8LNM6TWAvQEvKjn2RLFO0\n",
       "P0aLgYQhmpGyF0lNCMVsmPZOqhilIlOoRK/QLILLFtbFz0H3DVRtWOSN0FduiYm98w3qGY9AtoEd\n",
       "k8yQ+N5sWIAO7+HHV/fxVA5vynjjsr+OnQKV2hTC3a/0Aj7ho5L17q/CdSfvQtG/H5f/oP5xhXLw\n",
       "HLPOZiXjjW262Ns8qaDp4qh4Yj63v0Kw5IXdAb8FQGwyw2XNHAAAAABJRU5ErkJggg==\n",
       "\" style=\"display:inline;vertical-align:middle;\" /></a>"
      ],
      "text/plain": [
       "x in (A intersect B)"
      ]
     },
     "metadata": {},
     "output_type": "display_data"
    }
   ],
   "source": [
    "Intersect(A, B).membership_object(x).expr"
   ]
  },
  {
   "cell_type": "code",
   "execution_count": 4,
   "metadata": {},
   "outputs": [
    {
     "data": {
      "text/html": [
       "<a class=\"ProveItLink\" href=\"../__pv_it/demonstrations/bf4337d3d0721636d1a8470bc05d6169cd5463540/expr.ipynb\"><img src=\"data:image/png;base64,iVBORw0KGgoAAAANSUhEUgAAAGoAAAAVCAMAAACZi4uxAAAARVBMVEX///8/Pz9vb28YGBgJCQkd\n",
       "HR0NDQ0WFhbc3NwyMjK6urpEREQiIiLMzMwQEBCqqqp2dnZUVFSYmJhmZmaIiIju7u4AAADoBDxy\n",
       "AAAAAXRSTlMAQObYZgAAAAlwSFlzAAAOxAAADsQBlSsOGwAAAeNJREFUSMelVdmCwyAIdG+NJ4r+\n",
       "/6euGjWYpHYPHtpolIFhIIw9Nr5c/saeXhWRrtDSu+JXUBuu32ugK+umKNIT516mBNmE1DVOvzwd\n",
       "NrKIUxo2TVA+e5xOFzOy/kHSV4bOpibcKawA6aBfK+Qs6jB742knbUuhRhMeoKBU6uuTJmLoa8fd\n",
       "HmtF6hB8wvLthG+Q5jatTWDeB00Zo7AcGaYhkuOcp8WHRrEwe/4i0xKxkhPhUFe8FCdQUYRSLH/l\n",
       "WYdLqSKoFonL/h2zpiY61MUvIdaYRtI5IZ3cFYoTyeokERGOe14wbVkop0EOtzdNpeyUVC46rKFw\n",
       "1401HSvnkz2akoDpWWijsn28KyUJHRuRTAhZgXINJZuOhn50qnKM5alXN1Ynzs5NMqDiHlJSa6ie\n",
       "dRcg2wp2KIyhmftJnXrMUvrKhllC6S4bSC1IW85J6D+NoRzHduo42end/Hky3UK1UmVIMSZVbf1C\n",
       "IpGYsHNTNalWbz0ZOcbFLZQwjbWhrtouERwGMmjyhnw79bZWexlTqndteWhyP8QTOxUwZu1RcdWr\n",
       "7eaPwutLnkyK7inN/mVcNZRo7OJLtRyXP7Q6kVSuOLg5BHk9K/m/kqoercfzt+bUVKTd/moPA4Xb\n",
       "wPDvSFiQvgF1wBmd34OjlwAAAABJRU5ErkJggg==\n",
       "\" style=\"display:inline;vertical-align:middle;\" /></a>"
      ],
      "text/plain": [
       "y not-in (A intersect B)"
      ]
     },
     "metadata": {},
     "output_type": "display_data"
    }
   ],
   "source": [
    "Intersect(A, B).nonmembership_object(y).expr"
   ]
  },
  {
   "cell_type": "markdown",
   "metadata": {},
   "source": [
    "## Demonstrations <a id='further_demonstrations'></a>"
   ]
  },
  {
   "cell_type": "markdown",
   "metadata": {},
   "source": [
    "A number of basic identities and relationships can be automatically proven."
   ]
  },
  {
   "cell_type": "code",
   "execution_count": 5,
   "metadata": {},
   "outputs": [
    {
     "data": {
      "text/html": [
       "<span style=\"font-size:20px;\"> <a class=\"ProveItLink\" href=\"../__pv_it/demonstrations/27b4b7dcee7df738517bc24b838d21a50d0c4f870/proof.ipynb\" style=\"text-decoration: none\">&nbsp;&#x22A2;&nbsp;&nbsp;</a><a class=\"ProveItLink\" href=\"../__pv_it/demonstrations/e15c6e54d29b9b950447410efecb3e360ca113140/expr.ipynb\"><img src=\"data:image/png;base64,iVBORw0KGgoAAAANSUhEUgAAAGoAAAAVBAMAAABce2awAAAAMFBMVEX///8iIiIQEBDc3NxUVFTM\n",
       "zMwyMjLu7u6IiIhERES6urqYmJh2dnZmZmaqqqoAAACoC7eKAAAAAXRSTlMAQObYZgAAAAlwSFlz\n",
       "AAAOxAAADsQBlSsOGwAAAaVJREFUOMt9kz9Iw1AQxr+atjGNiQ3SRRzcXDuI6KSgk6BUUDexm6hL\n",
       "hyI6WehUBFFc3FrEwUGwgwgKYgfdHCo4aYt/dkFEEVSM917ie6k2eaXX9+533/Xu8gI0Xwp8VwBa\n",
       "90exHLNm/VIv/SFmpTl4qlVOsMZ221CLjq9gWVaC75YawOH8jROg5bDyjGgGMKrAEfdN50XOW3jA\n",
       "RF6dmePuOqCnoRNoTwF7zKV2yEq6IUGEKfoyzP3mdNUDHJSBKeYKyx7MNCQIkxo6G0Hsk3LQaRFY\n",
       "/Uo5oVH5VwYbxi8IMROpsmrsC+45pyy2Pcz3k1IVLUMCrlKGmD2zX5Nwul0uvvDQXqkK3UMCj0ot\n",
       "2KzjRx50VxLUWS1uixx4VFT7B5lZ6KwDntooN6gEkCoKUL/pdwdZsoN8rFhoqFAAoVLpq7zT4YE+\n",
       "QM2JzY5mIO6ABEJlxt3pHuOqgja3ZuxvujeKeQQQKqOLD50lq+5ej/+71hHKKoDGp0fPy4iNjfAJ\n",
       "dPq8DQkELCXuA06DVJ5h08GyxJuiJQNUA35A3QhQbfmSfn9RaxI/7shtO9COxFEAAAAASUVORK5C\n",
       "YII=\n",
       "\" style=\"display:inline;vertical-align:middle;\" /></a></span>"
      ],
      "text/plain": [
       "|- S subset_eq (S intersect S)"
      ]
     },
     "metadata": {},
     "output_type": "display_data"
    }
   ],
   "source": [
    "SubsetEq(S, Intersect(S, S)).conclude()"
   ]
  },
  {
   "cell_type": "code",
   "execution_count": 6,
   "metadata": {},
   "outputs": [
    {
     "data": {
      "text/html": [
       "<span style=\"font-size:20px;\"> <a class=\"ProveItLink\" href=\"../__pv_it/demonstrations/27b4b7dcee7df738517bc24b838d21a50d0c4f870/proof.ipynb\" style=\"text-decoration: none\">&nbsp;&#x22A2;&nbsp;&nbsp;</a><a class=\"ProveItLink\" href=\"../__pv_it/demonstrations/e15c6e54d29b9b950447410efecb3e360ca113140/expr.ipynb\"><img src=\"data:image/png;base64,iVBORw0KGgoAAAANSUhEUgAAAGoAAAAVBAMAAABce2awAAAAMFBMVEX///8iIiIQEBDc3NxUVFTM\n",
       "zMwyMjLu7u6IiIhERES6urqYmJh2dnZmZmaqqqoAAACoC7eKAAAAAXRSTlMAQObYZgAAAAlwSFlz\n",
       "AAAOxAAADsQBlSsOGwAAAaVJREFUOMt9kz9Iw1AQxr+atjGNiQ3SRRzcXDuI6KSgk6BUUDexm6hL\n",
       "hyI6WehUBFFc3FrEwUGwgwgKYgfdHCo4aYt/dkFEEVSM917ie6k2eaXX9+533/Xu8gI0Xwp8VwBa\n",
       "90exHLNm/VIv/SFmpTl4qlVOsMZ221CLjq9gWVaC75YawOH8jROg5bDyjGgGMKrAEfdN50XOW3jA\n",
       "RF6dmePuOqCnoRNoTwF7zKV2yEq6IUGEKfoyzP3mdNUDHJSBKeYKyx7MNCQIkxo6G0Hsk3LQaRFY\n",
       "/Uo5oVH5VwYbxi8IMROpsmrsC+45pyy2Pcz3k1IVLUMCrlKGmD2zX5Nwul0uvvDQXqkK3UMCj0ot\n",
       "2KzjRx50VxLUWS1uixx4VFT7B5lZ6KwDntooN6gEkCoKUL/pdwdZsoN8rFhoqFAAoVLpq7zT4YE+\n",
       "QM2JzY5mIO6ABEJlxt3pHuOqgja3ZuxvujeKeQQQKqOLD50lq+5ej/+71hHKKoDGp0fPy4iNjfAJ\n",
       "dPq8DQkELCXuA06DVJ5h08GyxJuiJQNUA35A3QhQbfmSfn9RaxI/7shtO9COxFEAAAAASUVORK5C\n",
       "YII=\n",
       "\" style=\"display:inline;vertical-align:middle;\" /></a></span>"
      ],
      "text/plain": [
       "|- S subset_eq (S intersect S)"
      ]
     },
     "metadata": {},
     "output_type": "display_data"
    }
   ],
   "source": [
    "SubsetEq(S, Intersect(S, S)).prove()"
   ]
  },
  {
   "cell_type": "code",
   "execution_count": 7,
   "metadata": {},
   "outputs": [
    {
     "data": {
      "text/html": [
       "<span style=\"font-size:20px;\"> <a class=\"ProveItLink\" href=\"../__pv_it/demonstrations/c5409a49077421cc1634ca1ef08ad17877ff239a0/proof.ipynb\" style=\"text-decoration: none\">&nbsp;&#x22A2;&nbsp;&nbsp;</a><a class=\"ProveItLink\" href=\"../__pv_it/demonstrations/62753a6fdaeaa87ba38ba0da81a9701d69561fb20/expr.ipynb\"><img src=\"data:image/png;base64,iVBORw0KGgoAAAANSUhEUgAAAJ0AAAAVBAMAAACu6/FQAAAAMFBMVEX///+IiIgiIiIQEBB2dnbu\n",
       "7u5ERETMzMzc3NwyMjK6urpmZmaYmJiqqqpUVFQAAAB6qHgnAAAAAXRSTlMAQObYZgAAAAlwSFlz\n",
       "AAAOxAAADsQBlSsOGwAAAkFJREFUOMuVVD1oFEEUfpfcz97e3mXTiGVc0gqHpLK6QtRGuaQ4C1ET\n",
       "QRAUcthICOiifXIWgRQWJ2hrjnAgGjGXUi0MkiZocV1MxHCgIoi6vp/d2Z1kR/DBN7sz377vzbz3\n",
       "ZgFSzAeDGQmhDHRmE/6TQHsUok+Tjxq1RcOHbu3NQR8DUV475bQzPYyHeEEry0k618Ih70JjIJu6\n",
       "6nle8zDh7N5oi8MM5GYBloBxBx/WdFKvhFFgDR3IHQoP/FSicMy/8LzOyx2A1wBvgVHEtayWl2Ea\n",
       "fgDYLr1M+enEHPpZtCcYaXLmhusMB4MWtXRsI+xfuAM+5J6B2KGVDRpWUOE2ivQEJzxvQtPrUqqC\n",
       "M+GsZSDGaJin4co3DpztC54BXNP0HtLwLvjDBy30DQTrLXBhguATSFYJC2CRz+PRjaa4HedaHgmq\n",
       "9LQSehoR68Hk7FfqmqogX89i3csu3A3dTobV/BmfK4VI6AGso0JhICi7RaldJeGGec395tlLXU8R\n",
       "Ss+hFGKD2FUBtKhKIz2w4mPl8JTWd54V28nzxoTSu4xYxF4pjwngHHVRJrgZuc3Ieqkmt2X/SSqh\n",
       "9N6HlXemBXCfU35pPcr8eXQZ5webfTq6bxqh9FZr3CYchkNV6OM62INQ4Bau25/3D/9LNIKv6EVE\n",
       "5+mrL/Q+1BbIJjbjSzzUNPySjATbvRDSA32oRBfV6Rg8jIRqBNUMpfnuWcVcT3626nlR/nTigNHx\n",
       "9P+UsobJp/EPvbwvSAvlmvbgmvWOCv4CrU6hxgI4ObUAAAAASUVORK5CYII=\n",
       "\" style=\"display:inline;vertical-align:middle;\" /></a></span>"
      ],
      "text/plain": [
       "|- forall_{S} (S subset_eq (S intersect S))"
      ]
     },
     "metadata": {},
     "output_type": "display_data"
    }
   ],
   "source": [
    "Forall(S, SubsetEq(S, Intersect(S, S))).prove()"
   ]
  },
  {
   "cell_type": "code",
   "execution_count": 8,
   "metadata": {},
   "outputs": [
    {
     "data": {
      "text/html": [
       "<span style=\"font-size:20px;\"><a class=\"ProveItLink\" href=\"../__pv_it/demonstrations/3b2cd7b38b2728da1b2835b5a5f75b4d55608a7c0/expr.ipynb\"><img src=\"data:image/png;base64,iVBORw0KGgoAAAANSUhEUgAAAJIAAAAVBAMAAABf4KrdAAAAMFBMVEX///9ERES6uroQEBAyMjLc\n",
       "3NyYmJgiIiJmZmaqqqp2dnbMzMxUVFSIiIju7u4AAAAd7oVFAAAAAXRSTlMAQObYZgAAAAlwSFlz\n",
       "AAAOxAAADsQBlSsOGwAAAiNJREFUOMtjYMAGWBlIBDg13IRIOxBtEtMF7OKcC8AUywc08cT/Z844\n",
       "bkAV47t45hjrAoZr2E16AqHmQ0xiOyKhAJUwZGDg+Y0qdvkeA2d7AgPLA6wmtUGonq8gkrs24HUL\n",
       "RB3rX6A/fqCIPawGEv0BDGwNyAZcLC+HhIwBmOSKAlu/BaiD1Q/iOqAA218UMWeQecpAbIdkkMo9\n",
       "WDBBzIvl/QmiToOIXLAID9C7LKbIYlxgJTuA2I2B4e2d16smMMDtBQIOSIA3cH4DUQUwtQwMzAIM\n",
       "fMc3IIvFg1mvgXgNUAPvWQ4QnyUAZhJLAjhiJ3D/gpsUA5bYL3v3SAKK2Hp47KcwsAWw/eMBSbPA\n",
       "vck+AewyBtY/aCbdD2DgNEMRq4dbP5mBm4EDEiyby4FAAOwJcARf7Oj5iGaSMMgVG5DF7MHioFDf\n",
       "D9IIceFDuJvAJvEBRb+jmQRyY/4FFDeBY2gDNP70A/hAhrKj+o4DiItRTeIGxcB5BWSxfpDvuEC8\n",
       "6QwPFQ5DmLzwwGMEsdSA2B/VJF5gSuX+giIWD1K6DpyTGObva2bQBBvgCTOJ6wAwTYBSp3wAikks\n",
       "QDFlPxSTQAlFC5zYuxhe3OVsA8cVwxshaN7hLmDgk//ygGHify8gDxwJL0DpUv7PmSOSYBVwMYYX\n",
       "MicgGbAIObdoiUNzSzUDyYC1AKtwBukmcSRgFWYMINmkQOzCfAIkmySKQzyWVIN4AxgA7A+V/Ou2\n",
       "IhEAAAAASUVORK5CYII=\n",
       "\" style=\"display:inline;vertical-align:middle;\" /></a> <a class=\"ProveItLink\" href=\"../__pv_it/demonstrations/e10c6cd647ddb145d9b5b322a6ca085ec16beaa10/proof.ipynb\" style=\"text-decoration: none\">&nbsp;&#x22A2;&nbsp;&nbsp;</a><a class=\"ProveItLink\" href=\"../__pv_it/demonstrations/6db0b0ee7baf337674d51fb26a37cf6f7170f5f10/expr.ipynb\"><img src=\"data:image/png;base64,iVBORw0KGgoAAAANSUhEUgAAAPsAAAAVBAMAAAByEoVnAAAAMFBMVEX////MzMxUVFRERES6uroi\n",
       "IiIQEBCYmJhmZmYyMjLu7u52dnaqqqqIiIjc3NwAAACW8nlqAAAAAXRSTlMAQObYZgAAAAlwSFlz\n",
       "AAAOxAAADsQBlSsOGwAAA0dJREFUSMeVlk1IFGEYgN9dXXdnnZ2GooggtO3XINwio0PmnoSyaKTm\n",
       "YAQJFUGHWupSh8hLGRQoBAVL2ZoIdhCWulWkl6Lo4JKQIJkLUeAh/LmUkdr7fj+zM+t8Azuw3988\n",
       "873v9/59CwBFUD/GqpXKaCOA5lslRlWvZwCqC2Vrahp8aPgaJP44NZ+Ur5/ib6JsTUFfW0kmH5ir\n",
       "aD3vj8fHkzuNfCKDo16VdH0FGy3HJ2/Edyr6HEB43qFrhY2eK+gvk6DfzkAWIJZRiY81onOiXVxs\n",
       "h1hT0MYSmv6PpGFQaNntTw+0Y9NThOsANV7XNtkdcvx2xMT2El+/mma9io7O429J0jCxjfedHnzc\n",
       "trlaD8lIrbhbDj56YudJrnSgwjSZ8BGbREIp1qvo8Bz66bKkwVrH3edx1ZFJMaj9R+1G/CID93A0\n",
       "/Ln/NfPWTM5lexgjS78QEdfHehVdk4L4dlPSel5jSRXLu3AjK+FZi9p+1KOe6duV2BNjS30uZY9B\n",
       "HX19A/iLD6xX0XXNUw0Zh9aKOgsCLePCNadijMj8jPbCGWyL0b9hFlNuY3XBbD1272kcqocIO6qK\n",
       "ni6CflHSsBbgNHPZqAvXHPisVETvhPO4OcT4TqELtm2fFGF18G4j+buOudaEBFNZRR+gQ5mChi0A\n",
       "U8wlaRe+AWmbRdAVNsfjhOZoQ+S4OeKp0nmGAdZYPEBZ/sYtId6XXsDfrYKgqTgMSvEOPlA6PTs5\n",
       "KlvdSeYEOFGMM9tabttDhPLmnSw694Xx/ejQb2wa04KmohMbFcZ38IhD95Dxa0kFC5pRr/QONhMm\n",
       "40mF7tLmqJxKQTM0UNCJZVRhUdIkyCCLVxVceMK5EGZp9IpCL0WpMrbpDsY5C1XnQvlJXy+LVIsS\n",
       "X2XyNPSjNbRTa1bQcJOavcASy4U/dqo52qotxxNzPcDQlN7Nd4pvPSrK4koW9JZFzLxTFHnEhkgH\n",
       "fzrcspBsOEQjomE3NZvpE8uNP9sv68TQvl0sKiJpiJieQvayVHR57bM808poaPfM2pps7431w7lT\n",
       "lPeO946pjKY7JeihG+lwIPG9bF4ZXRX03wiMlCcf/Z5ycZXR7tKw+mHKGYUAIlGufmU0/AoS/w3g\n",
       "P8Mt75u81A/6AAAAAElFTkSuQmCC\n",
       "\" style=\"display:inline;vertical-align:middle;\" /></a></span>"
      ],
      "text/plain": [
       "{x in (A intersect B intersect C)} |- (x in A) and (x in B) and (x in C)"
      ]
     },
     "metadata": {},
     "output_type": "display_data"
    }
   ],
   "source": [
    "And(InSet(x, A), InSet(x, B), InSet(x,C)).prove(assumptions=[InSet(x,Intersect(A,B,C))])"
   ]
  },
  {
   "cell_type": "code",
   "execution_count": 9,
   "metadata": {},
   "outputs": [
    {
     "data": {
      "text/html": [
       "<span style=\"font-size:20px;\"><a class=\"ProveItLink\" href=\"../__pv_it/demonstrations/6db0b0ee7baf337674d51fb26a37cf6f7170f5f10/expr.ipynb\"><img src=\"data:image/png;base64,iVBORw0KGgoAAAANSUhEUgAAAPsAAAAVBAMAAAByEoVnAAAAMFBMVEX////MzMxUVFRERES6uroi\n",
       "IiIQEBCYmJhmZmYyMjLu7u52dnaqqqqIiIjc3NwAAACW8nlqAAAAAXRSTlMAQObYZgAAAAlwSFlz\n",
       "AAAOxAAADsQBlSsOGwAAA0dJREFUSMeVlk1IFGEYgN9dXXdnnZ2GooggtO3XINwio0PmnoSyaKTm\n",
       "YAQJFUGHWupSh8hLGRQoBAVL2ZoIdhCWulWkl6Lo4JKQIJkLUeAh/LmUkdr7fj+zM+t8Azuw3988\n",
       "873v9/59CwBFUD/GqpXKaCOA5lslRlWvZwCqC2Vrahp8aPgaJP44NZ+Ur5/ib6JsTUFfW0kmH5ir\n",
       "aD3vj8fHkzuNfCKDo16VdH0FGy3HJ2/Edyr6HEB43qFrhY2eK+gvk6DfzkAWIJZRiY81onOiXVxs\n",
       "h1hT0MYSmv6PpGFQaNntTw+0Y9NThOsANV7XNtkdcvx2xMT2El+/mma9io7O429J0jCxjfedHnzc\n",
       "trlaD8lIrbhbDj56YudJrnSgwjSZ8BGbREIp1qvo8Bz66bKkwVrH3edx1ZFJMaj9R+1G/CID93A0\n",
       "/Ln/NfPWTM5lexgjS78QEdfHehVdk4L4dlPSel5jSRXLu3AjK+FZi9p+1KOe6duV2BNjS30uZY9B\n",
       "HX19A/iLD6xX0XXNUw0Zh9aKOgsCLePCNadijMj8jPbCGWyL0b9hFlNuY3XBbD1272kcqocIO6qK\n",
       "ni6CflHSsBbgNHPZqAvXHPisVETvhPO4OcT4TqELtm2fFGF18G4j+buOudaEBFNZRR+gQ5mChi0A\n",
       "U8wlaRe+AWmbRdAVNsfjhOZoQ+S4OeKp0nmGAdZYPEBZ/sYtId6XXsDfrYKgqTgMSvEOPlA6PTs5\n",
       "KlvdSeYEOFGMM9tabttDhPLmnSw694Xx/ejQb2wa04KmohMbFcZ38IhD95Dxa0kFC5pRr/QONhMm\n",
       "40mF7tLmqJxKQTM0UNCJZVRhUdIkyCCLVxVceMK5EGZp9IpCL0WpMrbpDsY5C1XnQvlJXy+LVIsS\n",
       "X2XyNPSjNbRTa1bQcJOavcASy4U/dqo52qotxxNzPcDQlN7Nd4pvPSrK4koW9JZFzLxTFHnEhkgH\n",
       "fzrcspBsOEQjomE3NZvpE8uNP9sv68TQvl0sKiJpiJieQvayVHR57bM808poaPfM2pps7431w7lT\n",
       "lPeO946pjKY7JeihG+lwIPG9bF4ZXRX03wiMlCcf/Z5ycZXR7tKw+mHKGYUAIlGufmU0/AoS/w3g\n",
       "P8Mt75u81A/6AAAAAElFTkSuQmCC\n",
       "\" style=\"display:inline;vertical-align:middle;\" /></a> <a class=\"ProveItLink\" href=\"../__pv_it/demonstrations/65cef3c255f48355ac1ced6b95ed1d5b2517bf210/proof.ipynb\" style=\"text-decoration: none\">&nbsp;&#x22A2;&nbsp;&nbsp;</a><a class=\"ProveItLink\" href=\"../__pv_it/demonstrations/3b2cd7b38b2728da1b2835b5a5f75b4d55608a7c0/expr.ipynb\"><img src=\"data:image/png;base64,iVBORw0KGgoAAAANSUhEUgAAAJIAAAAVBAMAAABf4KrdAAAAMFBMVEX///9ERES6uroQEBAyMjLc\n",
       "3NyYmJgiIiJmZmaqqqp2dnbMzMxUVFSIiIju7u4AAAAd7oVFAAAAAXRSTlMAQObYZgAAAAlwSFlz\n",
       "AAAOxAAADsQBlSsOGwAAAiNJREFUOMtjYMAGWBlIBDg13IRIOxBtEtMF7OKcC8AUywc08cT/Z844\n",
       "bkAV47t45hjrAoZr2E16AqHmQ0xiOyKhAJUwZGDg+Y0qdvkeA2d7AgPLA6wmtUGonq8gkrs24HUL\n",
       "RB3rX6A/fqCIPawGEv0BDGwNyAZcLC+HhIwBmOSKAlu/BaiD1Q/iOqAA218UMWeQecpAbIdkkMo9\n",
       "WDBBzIvl/QmiToOIXLAID9C7LKbIYlxgJTuA2I2B4e2d16smMMDtBQIOSIA3cH4DUQUwtQwMzAIM\n",
       "fMc3IIvFg1mvgXgNUAPvWQ4QnyUAZhJLAjhiJ3D/gpsUA5bYL3v3SAKK2Hp47KcwsAWw/eMBSbPA\n",
       "vck+AewyBtY/aCbdD2DgNEMRq4dbP5mBm4EDEiyby4FAAOwJcARf7Oj5iGaSMMgVG5DF7MHioFDf\n",
       "D9IIceFDuJvAJvEBRb+jmQRyY/4FFDeBY2gDNP70A/hAhrKj+o4DiItRTeIGxcB5BWSxfpDvuEC8\n",
       "6QwPFQ5DmLzwwGMEsdSA2B/VJF5gSuX+giIWD1K6DpyTGObva2bQBBvgCTOJ6wAwTYBSp3wAikks\n",
       "QDFlPxSTQAlFC5zYuxhe3OVsA8cVwxshaN7hLmDgk//ygGHify8gDxwJL0DpUv7PmSOSYBVwMYYX\n",
       "MicgGbAIObdoiUNzSzUDyYC1AKtwBukmcSRgFWYMINmkQOzCfAIkmySKQzyWVIN4AxgA7A+V/Ou2\n",
       "IhEAAAAASUVORK5CYII=\n",
       "\" style=\"display:inline;vertical-align:middle;\" /></a></span>"
      ],
      "text/plain": [
       "{(x in A) and (x in B) and (x in C)} |- x in (A intersect B intersect C)"
      ]
     },
     "metadata": {},
     "output_type": "display_data"
    }
   ],
   "source": [
    "InSet(x,Intersect(A,B,C)).prove(assumptions=[And(InSet(x, A), InSet(x, B), InSet(x,C))])"
   ]
  },
  {
   "cell_type": "markdown",
   "metadata": {},
   "source": [
    "## Miscellaneous Testing\n",
    "<font size=3>The material below was developed to test various intersection-related methods. Some of this material could be integrated into the `_demonstrations_` page eventually and/or deleted as development continues.</font>"
   ]
  },
  {
   "cell_type": "markdown",
   "metadata": {},
   "source": [
    "### Some Example `Sets` For Testing"
   ]
  },
  {
   "cell_type": "code",
   "execution_count": 10,
   "metadata": {},
   "outputs": [
    {
     "data": {
      "text/html": [
       "<strong id=\"set_123\">set_123:</strong> <a class=\"ProveItLink\" href=\"../__pv_it/demonstrations/b525e1a908ac39fd855a42ae46345dbfae68e6350/expr.ipynb\"><img src=\"data:image/png;base64,iVBORw0KGgoAAAANSUhEUgAAAEMAAAAVBAMAAADvM06qAAAAMFBMVEX///9ERETMzMxUVFSYmJgQ\n",
       "EBDc3NxmZmYiIiJ2dnaqqqoyMjKIiIi6urru7u4AAAB85a56AAAAAXRSTlMAQObYZgAAAAlwSFlz\n",
       "AAAOxAAADsQBlSsOGwAAATBJREFUKM9jYGDgu8uAC7Atg9Cn7+FUwqAsByK5/gEJpj6YvvKNChBW\n",
       "5nRZICkMYnI2MDA8rv4HVZLIwPkXzOArYFi/gIFhBkwJAw9MiRkDQyiYwfOL4f0GrEriHzDYJ4AY\n",
       "vLEM/NiVWDAw2EMdw7DeAasSIOiH0rwtDFAl7BtQlTD9gdKHjYDkURAz1QFVCYcBjAXyUT4QJ+9l\n",
       "QFVSCGexAgX5rBcwMBU+QFHCAjWESYGB8RfQpSATGA1QlKxkYAN7mv8fWMn6B8g+4gNrnsDA8wDE\n",
       "YjUAWzQV7mnObwzgwGTIKC+vALNYHFDDhdn0twkDBygq+////w1hXS+XZUAOOjBYx4DJQlMygQGT\n",
       "BVbCEwDl8R1gwGAxVIMT0S8ojwcujmDxhYCpdCvcaXcyMPwBuxlX82KGivkAAAAASUVORK5CYII=\n",
       "\" style=\"display:inline;vertical-align:middle;\" /></a><br>"
      ],
      "text/plain": [
       "<IPython.core.display.HTML object>"
      ]
     },
     "metadata": {},
     "output_type": "display_data"
    },
    {
     "data": {
      "text/html": [
       "<strong id=\"set_12345\">set_12345:</strong> <a class=\"ProveItLink\" href=\"../__pv_it/demonstrations/12dc3bbdd186bc7f3c4f78b4ed0f0166715fdfe40/expr.ipynb\"><img src=\"data:image/png;base64,iVBORw0KGgoAAAANSUhEUgAAAGsAAAAVBAMAAACzuQ2OAAAAMFBMVEX///9ERETMzMxUVFSYmJgQ\n",
       "EBDc3NxmZmYiIiJ2dnaqqqoyMjKIiIi6urru7u4AAAB85a56AAAAAXRSTlMAQObYZgAAAAlwSFlz\n",
       "AAAOxAAADsQBlSsOGwAAAbtJREFUOMuVlM1LAkEYh39+pK5sS9DdpIIuHSQt+gI99AcE1Vmjwg6B\n",
       "SQcDIYQIOuVCBHWJPQVdyugYQRcP0SEhgi7FQocuQR9URJY2MzuzuiGac5h5dtxn5/V9310Ayi2a\n",
       "Ga49Y724+7fihxJDl4+it0Qm+4Z4VurIz2knWRC39/A1erKuA+0UpQxwny7xH6Yh/Rj0AO+X0Fb5\n",
       "uva5S+ZtoUEW2gAwZdClphT5piy0AJtraFEd4Rij6wKE1n3cSBsEwvzPwfvGQW2okZEVcBPhMcaE\n",
       "FjrvE5o7Z9Xs3xx6g/zYWQjNhwTJbp7iXMSqeQKCRCZVUwNsJLaEBsycwqolK+GS/JDhjFVp7g/S\n",
       "ViMa7EndojnFYZ1Ah0ZhAUKz5eB+JdmgJ9kCFm0fLqMAZZ1rV8Hg+xDbasnA8Qwc6tWZVFhCVMg6\n",
       "owkapGI8izC7lZhtwJZZAImE/ERTOp9KLRs0RuvGCHgB6xjXIvJ6Vd0c/cUQPLSds+Vy0aDWFGll\n",
       "RkiWR0F7GPGlFUu52ThAHfLq5t4fTUUdkmDV5HF+pZyhDj1WtDR7HcVbJZv7tcj0oUyyJT7c3Ldk\n",
       "k1TzF7kehGaj+EznAAAAAElFTkSuQmCC\n",
       "\" style=\"display:inline;vertical-align:middle;\" /></a><br>"
      ],
      "text/plain": [
       "<IPython.core.display.HTML object>"
      ]
     },
     "metadata": {},
     "output_type": "display_data"
    },
    {
     "data": {
      "text/html": [
       "<strong id=\"set_1234567\">set_1234567:</strong> <a class=\"ProveItLink\" href=\"../__pv_it/demonstrations/8184586d12c4f1c673080ccd41f7c4b8fabdb56c0/expr.ipynb\"><img src=\"data:image/png;base64,iVBORw0KGgoAAAANSUhEUgAAAJIAAAAVBAMAAABf4KrdAAAAMFBMVEX///9ERETMzMxUVFSYmJgQ\n",
       "EBDc3NxmZmYiIiJ2dnaqqqoyMjKIiIi6urru7u4AAAB85a56AAAAAXRSTlMAQObYZgAAAAlwSFlz\n",
       "AAAOxAAADsQBlSsOGwAAAkdJREFUOMullD9oE1Ecx7+5Jne5NJ5ZXWxwcnA4G1ERJBmkS5dAcTUp\n",
       "WuKfwQaHc1FuKTjZcwyK3upiY+vkH8yiKA7NIrioB1JchBQVEaue7/3ee/dyIQShD3Lvy8v3Pne/\n",
       "fwfAeY/drotN2t58+O87ynCaI0fnInYxDvNr4S8/OBiJP0zvYVmqTruv7May2BtPbkgfOh3hW4vj\n",
       "uI6My6TtswCPPZeORdh/hPqMwi9FyrtiX/l5V55c6k/5JG553tWQIOKCTUk6CpwWajN0dhTplSS5\n",
       "SVBPkSmRCIAWxpEaEaoiFW/7UCRjfpQkUsJXSKdjSMeBalnZv0thT4+SMnWdc7s8lsTWqhLvalK8\n",
       "VKQjr2eFyK3fuaZsiwpiddMk47cUhyqqijVF2o/Lop57HyEXSt9J9ivyd1yqpUl5nQxZOxvTOixR\n",
       "scE2rDPyORxiMuvZZ0iT2joDDXE4N0SyfgiSj6zsFpti+vQYRjtKkbLqpgPADAVg9hQp04X1VUTX\n",
       "RVbWI0/dcJtFTe2pSfdhii6II0naU6lUFwLKs4+pbRWkeqeBq7pC144mKEAxcvjJAo/OkaVy4VDC\n",
       "kCuRrcDyVCeFj3yS7HpCutcEtfR51vwY8NBP8X4ixYIpkTKX8SISnb8PW3IG1gIM91OlsVEDn87V\n",
       "ON5B/iYPymMTTArWzLceqdaV6yAbbG9WqqUwRRJVT+r3ABOUtmk1QrKTu4JJStuGlK/ak9YXJZze\n",
       "JJXYhhQNipl8hRJvEZNUb4zaokFpndj1d/wCQ/wDuEO3Mp7i0w4AAAAASUVORK5CYII=\n",
       "\" style=\"display:inline;vertical-align:middle;\" /></a><br>"
      ],
      "text/plain": [
       "<IPython.core.display.HTML object>"
      ]
     },
     "metadata": {},
     "output_type": "display_data"
    }
   ],
   "source": [
    "from proveit.numbers import one, two, three, four, five, six, seven\n",
    "# define some enumerated Sets for use in testing, containing literals\n",
    "set_123, set_12345, set_1234567 = (\n",
    "        Set(one, two , three),\n",
    "        Set(one, two , three, four, five),\n",
    "        Set(one, two , three, four, five, six, seven))"
   ]
  },
  {
   "cell_type": "code",
   "execution_count": 11,
   "metadata": {},
   "outputs": [
    {
     "data": {
      "text/html": [
       "<strong id=\"set_abc\">set_abc:</strong> <a class=\"ProveItLink\" href=\"../__pv_it/demonstrations/dd6841aef2ed57ddc63411fd25626b38833823b50/expr.ipynb\"><img src=\"data:image/png;base64,iVBORw0KGgoAAAANSUhEUgAAAEEAAAAVBAMAAADrxp6XAAAAMFBMVEX///9ERETMzMxUVFSYmJgQ\n",
       "EBDc3NxmZmYiIiJ2dnaqqqoyMjKIiIi6urru7u4AAAB85a56AAAAAXRSTlMAQObYZgAAAAlwSFlz\n",
       "AAAOxAAADsQBlSsOGwAAASZJREFUKM9jYGDgu8uAA7Atg9Cn7+FSwaAsByK5/iGLPYxAUSIMIjgb\n",
       "UMS2o/BmYFHxi5AK3n+EVKCZiFCRPCcHIsRtc3gBVO0ZJ6gK9g1As8MY5B+Axd/v4/sGCYsuhkIG\n",
       "hqMgZqoDA8NTB4YKiM71DxhiwAyOCSBGPtDA5L1Abj0DQydERTUDw08wox5sJp/1AgamQiAzkIHv\n",
       "L0RFJwMvxL+BEMeA9DMaMPD9YWD5AAsOdrB/gUJQS8F+4fvFwLxhGQOI9wnkJhDjC9D9DAxTYb6V\n",
       "YVhRUMD3G8gzYRBnADOAHpmEFB6PT6rZKDB0APU+ng70GojBOcXnAUaYcj1AZ6Cr4MRgQFTwBMC4\n",
       "bzAYoOABBi88vg9gMPhCwFS6Fc50OhkY6ADYKFVebW/9jQAAAABJRU5ErkJggg==\n",
       "\" style=\"display:inline;vertical-align:middle;\" /></a><br>"
      ],
      "text/plain": [
       "<IPython.core.display.HTML object>"
      ]
     },
     "metadata": {},
     "output_type": "display_data"
    },
    {
     "data": {
      "text/html": [
       "<strong id=\"set_abcde\">set_abcde:</strong> <a class=\"ProveItLink\" href=\"../__pv_it/demonstrations/79184629a2e14906fcd14d7156a50559efda0ab70/expr.ipynb\"><img src=\"data:image/png;base64,iVBORw0KGgoAAAANSUhEUgAAAGkAAAAVBAMAAAC3TN2zAAAAMFBMVEX///9ERETMzMxUVFSYmJgQ\n",
       "EBDc3NxmZmYiIiJ2dnaqqqoyMjKIiIi6urru7u4AAAB85a56AAAAAXRSTlMAQObYZgAAAAlwSFlz\n",
       "AAAOxAAADsQBlSsOGwAAAY5JREFUOMtjYGDgu8tAAmBbBqFP3yNFF4OyHIjk+ocsxifagKmQaWsB\n",
       "Ek8YRHCiKuMuwGI+/wIkzgwsulAUwMD9BwR0oShAUYhP1wxsIbAduy42y2MHIGKbz1hBZeccUYCE\n",
       "teWhX9CgmnP8AVQX+wYgcTWBERKUfL8fvE8AszIWsAuAGXA5hhsKTBMYGI6CmKkOQLUhDOwQhwLj\n",
       "gRViayeUAZLbALH0CwPPBQaGfGB4Je8F2feBgWMCA9RmfjCLHRaNCDnGP2fmgoyxXsDAVAh0KqsA\n",
       "w/sLYBmggvvgsGcVgOpCyPEbgClOkD2MQPb7Awz+8OiqB4f9e2joIMtBhNY/gIbh+wUM1lwJfCAZ\n",
       "BaA/wAygdy+AGAg5kEOB7pgKC3nGA1zt7AzvgZ5mdmAsADOAAcipAGIg5Fg2MDxPQIovPptJyYcY\n",
       "OPqALMsSBjCDYabLOYgIXI7hpMsBLGljHW4GEgtd1wTcDCQWWBdPADxvHcDJQGIxVINj/BeMy4Ob\n",
       "gcQChjEIpFuRVG5MBgY+AJsYfaNN5DH7AAAAAElFTkSuQmCC\n",
       "\" style=\"display:inline;vertical-align:middle;\" /></a><br>"
      ],
      "text/plain": [
       "<IPython.core.display.HTML object>"
      ]
     },
     "metadata": {},
     "output_type": "display_data"
    }
   ],
   "source": [
    "# define some enumerated Sets for use in testing, containing variables\n",
    "set_abc, set_abcde = (\n",
    "        Set(a, b, c),\n",
    "        Set(a, b, c, d, e))"
   ]
  },
  {
   "cell_type": "markdown",
   "metadata": {},
   "source": [
    "### Testing the `Intersect` class methods\n",
    "<br/>\n",
    "The `Intersect` class currently has just the following two class methods:<br/>\n",
    "    <div style=\"width: 75%; border: 1px solid green; padding: 5px; margin: 20px; background-color: gainsboro; font-family:courier\">membership_object(self, element)<br/>\n",
    "    nonmembership_object(self, element)</div>\n",
    "</font>"
   ]
  },
  {
   "cell_type": "markdown",
   "metadata": {},
   "source": [
    "Define a few example Intersect and IntersectMembership objects"
   ]
  },
  {
   "cell_type": "code",
   "execution_count": 12,
   "metadata": {},
   "outputs": [
    {
     "data": {
      "text/html": [
       "<a class=\"ProveItLink\" href=\"../__pv_it/demonstrations/c4dcb5c9863449c3303741a05c7a3b82e8310e830/expr.ipynb\"><img src=\"data:image/png;base64,iVBORw0KGgoAAAANSUhEUgAAAPcAAAAVBAMAAABoLmXpAAAAMFBMVEX///+YmJjMzMzc3NyIiIhU\n",
       "VFR2dna6urqqqqpmZmYyMjIiIiIQEBBERETu7u4AAAD7tRWPAAAAAXRSTlMAQObYZgAAAAlwSFlz\n",
       "AAAOxAAADsQBlSsOGwAAA39JREFUSMeVVk1IVFEUPs7T+Z83Q7ixTUIUKEGzaKIo8JGTRVhYiMhA\n",
       "MEouyhYuoiCiGXAZlBJtDHM2oW0GkZBiIJTaRAizKEKKHKIpimSsrMSFdM69775373tvAg/cN9+7\n",
       "95zvu3/nvAHwMA2bfg3qmDbq7vsyAtuwQ0l8JOsMnsR26mbd2D0fnD2N05XtiPvOo/sVWuH7WedY\n",
       "MIttS+5ZfaU4vHFG3JG1PRjR2l9KL7EenHACQXjM6fcNm18leKS8DfOfhszyiNJhmpuRbEPCjL2I\n",
       "LZ53uo27xTc8xH2Pkx8nKh7ibka0wJZTvAVbTmzZ6VKpwMCCS1yJFFrtGKgVPcRzXhdAIWQv0Yod\n",
       "eP2MOPKCS9yxDzzkHD2aPcSHvXZdOQvGF8ZDf5juZwlUFCOhrBhOXThgRvYeN7fSn94h2NmE2iw5\n",
       "ra/T4D4mo/AGxrTfJPicfmCy+3tA36zUKOXCVt7RjCCEyw88hxW+g7Wi/ovn+BOYBOi2xVMMTmC7\n",
       "kYzxwxGMwhtkpsAc7MWbTifbUKCcitKMw9aeRGiOR3EG3xNw30qlF3wsS6Ajr4priyi5CCF+OIJR\n",
       "eANjmuBMHQk4gQF0gYMLtMQ47fO+ElqZxqOYP6lpBFMA8yBW9oeBKTZ/PZOXxbUMRoTWSAv4psWz\n",
       "krfCtJLuovSszmC2sIgcUa1aKydx3yTGLYH+l3fNQ4An2xI/yml15W1Y8qJlqI2I9ebykjfITL/5\n",
       "zyV0DSxQUrIJRtRtxxqkr0PDmkjzEDtP7LILmnTmWPJqBuyy0tzcoHVR82ymdXEy+JiFeCueFpVn\n",
       "w6p9Br/t+gY0FUaBeH7SqRH4gRMGuOy8cHjba3nIBJM6iRMjAe6NYRIT7n4Q2dmFK0NTIsYzcMZK\n",
       "wh4z1V7DrbExfRPfzsIyMICXd1BJNUs8ZgSfhqCGScIYCTBvFmYz7QT9rplqmNJ63zjXrL41r4dv\n",
       "1hSvdu3ubYUSdlcv4uUn4B9otuoSu51fhbjeO5g6BpFnwBkJcG8WbzE1DjSLKhKRP8NX35nldU6p\n",
       "acGKE7hLmN1x2wXsMBsx9iOen9sWRdzvAv8Tz7qAHeZXy+u4p3gsadYgZp9cQBQM27qtb7nhBFKY\n",
       "jah+amVPcb1s1iBmhgvw9JCtQ3xEG8EJ7DAJYe6wJXoZfU4O99f9Dzfk+l5r9/Lb+Rt1kLg7Af4B\n",
       "RF8S4kh2phMAAAAASUVORK5CYII=\n",
       "\" style=\"display:inline;vertical-align:middle;\" /></a>"
      ],
      "text/plain": [
       "b in ({a, b, c} intersect {a, b, c, d, e})"
      ]
     },
     "metadata": {},
     "output_type": "display_data"
    }
   ],
   "source": [
    "Intersect(set_abc, set_abcde).membership_object(b).expr"
   ]
  },
  {
   "cell_type": "code",
   "execution_count": 13,
   "metadata": {},
   "outputs": [
    {
     "data": {
      "text/html": [
       "<a class=\"ProveItLink\" href=\"../__pv_it/demonstrations/5a9f3f0f4358fa27b9a0db17a5da7c24029877bd0/expr.ipynb\"><img src=\"data:image/png;base64,iVBORw0KGgoAAAANSUhEUgAAAPkAAAAVCAMAAACzF7hbAAAAP1BMVEX///9jY2MJCQkdHR0NDQ0W\n",
       "FhaYmJhERESIiIhUVFTc3NwiIiJ2dnbu7u66urqqqqpmZmYQEBAyMjLMzMwAAAAry7kzAAAAAXRS\n",
       "TlMAQObYZgAAAAlwSFlzAAAOxAAADsQBlSsOGwAAAxVJREFUWMOdWFmCpCAMZbpnIKyyeP+zDipK\n",
       "2BT1o7sqxXtZSEiQkPEjBt+1MeTtIxYxs+wL9XsTHk3xuvgKS/rvjX6vN3D2jPpG/doEA1jqnW0W\n",
       "Fl8Xlf6vQ+M0c3KsmPEn0z5Tl3a3rtQmAMXSdamW2SLxtE8f1J0F3o5/q4CUe1aq+E5dPY0rjQKc\n",
       "zqaJd2mGpTPmDXXWwCBBEB1sUVGfqcvHDFPnUkDtSCsw+e+v9EjiZswb66yA4fRYYNc/U5PJ1Mm/\n",
       "ON1NJuNBEx6KEvQz5t1uGv4xk1OYgys5nezjusgkfk9hwRUElEz7PmhfJrtq0BtMQKmTA/AqKxUA\n",
       "DbXt+WPo5d0kdeYmCBiqutBxldWV52o764yL/Y2hZPKi2osrRnsMUkgaWNSxxpjpFbdLIaMZlu0V\n",
       "5HqeC3Tiv6PG3GQIJEbG2IRj47IJNKrSjiKlu5edZi7POAp3xCDBZNuVHI6ZVJdEoL3oev6SGnMT\n",
       "DCyyVaybDAwpTVhiDOx6saT8c1LK35/4B4XTJSj3qRE1sEvnimQWx19zv4w9f0tdcg+BbAUAZWoT\n",
       "Qlzq2J5MBg0NWx1UJZU8j2WZ5qAGduo0uMwczkXlzd2ev6QuuYfAtZifLhOMiwu3dKFr1cjrk/TK\n",
       "9jQHdWCp5eKtOFZ1JrR+nb+hLrnJGAjdIXGRcfnGyT3JVwoAYurGwKA8gAvYSbeGs9YuyVG5e6DV\n",
       "4wn3ihpx69PzDjDl/rFx2QTKDp8WaQny1S9lMz+7AO4MCBbP3dSloy3MEiQ5Tl5109VazyepM/cl\n",
       "6gG3Q5xoK6qutnVpzUEFwSHgo+invjMFWZmHYVLqJFNpyD0lRClKQTezSC5R3fbzSerMnRe1QALb\n",
       "qmaSkYPbMP2jWDzbcXuQ4WaYWvSzZGIK+0zdEXVleVSSczfzYsbvmacmJB89n6MmkzJZ37/qtxes\n",
       "d7dNJyAexc6MhWdJPWF0X0x8pO5p68kuE7oOkk4zz22+GsVOi8mzJJ3M9++LPlL3nOzJLhPY6H1U\n",
       "/+XJeYUQlk9flTNYzYA+Ub83ATbH/wNdiDCQ6NfbTgAAAABJRU5ErkJggg==\n",
       "\" style=\"display:inline;vertical-align:middle;\" /></a>"
      ],
      "text/plain": [
       "d not-in ({a, b, c} intersect {a, b, c, d, e})"
      ]
     },
     "metadata": {},
     "output_type": "display_data"
    }
   ],
   "source": [
    "Intersect(set_abc, set_abcde).nonmembership_object(d).expr"
   ]
  },
  {
   "cell_type": "code",
   "execution_count": 14,
   "metadata": {},
   "outputs": [
    {
     "data": {
      "text/html": [
       "<span style=\"font-size:20px;\"> <a class=\"ProveItLink\" href=\"../__pv_it/demonstrations/c62a20dfc78b74dd9783eb26e790a626cf3ce3aa0/proof.ipynb\" style=\"text-decoration: none\">&nbsp;&#x22A2;&nbsp;&nbsp;</a><a class=\"ProveItLink\" href=\"../__pv_it/demonstrations/1188e50ebd84fba7a6ac8c077a7897083df1f7f30/expr.ipynb\"><img src=\"data:image/png;base64,iVBORw0KGgoAAAANSUhEUgAAAlIAAAAVCAMAAAC6w/C8AAAARVBMVEX///8/Pz9vb28YGBgJCQkd\n",
       "HR0NDQ0WFhbMzMxUVFRERES6uroiIiIQEBCYmJhmZmYyMjLu7u52dnaqqqqIiIjc3NwAAACb3p1w\n",
       "AAAAAXRSTlMAQObYZgAAAAlwSFlzAAAOxAAADsQBlSsOGwAABTNJREFUaN7NWtmCrCoM9O6ALCLL\n",
       "/3/q1VGQCAYY6TOHF7tn0pVUJUBQp2kbbsKGQ7/+5HCdIbk2Du4b/2m1cdOPgLvpk5HnibAGxVp0\n",
       "+g0Yu+VHS2q28FoZMfQuwinRBkf92Hc2nwBvUej7kWeJMCsKRWj6DRovvhKmZN7TbSyMVCy1ZZud\n",
       "nBwWjd3gNjPG6DEfrJzAFR0x9C7CkGjVURf2TZ2x4FDSukJd4HgidGWlUXMaJTA2HpSU3LQB1vsQ\n",
       "7OtCPUHtrLD7LDCKSxTOHwFIb8DUwabQPfQuwneilyMaPxH7oE8dG6ozFhxKmig0JHIsEapSvxwA\n",
       "A2NF/bXDEm7dpImC2XX+iHr2CrHTjJ8VpwJiGY6ccJMSB6MTNVwxTWSRQ4XwnejlSMZ0JCtwJ/ZN\n",
       "nZHgd0kThUZEjiZCYPsM5//9m5YvMF7deq09JOTegSKQp4UMIRTtFhE+zwKFs8Hh7A8Jwg9FdZkS\n",
       "RQ41whnRyxEvNJSd2Hd1BoJnkiYKDYgcS4R5XPDmZV84adoEAWNnN+DY0l12Mm0FqQ8M3bPdesEQ\n",
       "hcIxH+f3sfUv5+Raqn3IUuJQI5wTvRyt55+UKevTgH1XZxx4Lmmi0IDIsUSoNfRylmqyruY65Ohs\n",
       "i1VpC6f2HkPmCyNRWbOgaViFS3bOX3/UBIXzLC68R7u4nl3jSmv73nr70EQ4J3o5CnOc505ase/q\n",
       "DAMvSJooNCByLBGhujbdLLWTim4Wl60RYC2YzY635iXlaLrlMrsFmfyuYLd6i2zdEM7GLePwLE+u\n",
       "8uKseDJoFnoX4Zxo4uiYudbm+jRiZ+oMAy9ImmCPiBxJBD/qUbr9v3qikd5SOEpxA+buNhkoXgP2\n",
       "aGuNkIgd966xpOIOvm0ZxwnEnD2AEZVVKobeRTgnmjg6ztVcZ05asTN1hoEXJE0VGhA5kghx/GW3\n",
       "UOnqRsQ+yf/5m3OWLNRz0rMptR2EGF4DTIRZQ57tRHIrQuNw0dKHNt7D63N3PsMPbYRzoqmjfQYb\n",
       "lTtpxc7UGQZekBQo9DpyLBFJlQgLDqFpI5eVlD5sry27XANhcscDX3mVuqYSweFYXG4lPCHOorOk\n",
       "2gjnRFNH+93BxRX1acLO1BkGXpAUKPQ6ciwR114274ulhsdY/rB7TGeFc4GWFAkOw/JYtFPXKr1W\n",
       "4E62WgRKhsPrYy913/jaCOdEDQfbM2FlfVqwc3WGgRckBdivI8cSwexRjPNERZrTr+Ztvt1BZKGA\n",
       "Z3l/IlOsgbNZ2EJYEDsXl7BVV+DOGceW65kGvD6OGHoX4ZwocGQlnXMnrdi5OsPAC5JChd5GjiXi\n",
       "OPwZT/R+H3ROVrjFZHcjwknRibinOqwGFnEuhgtaK+cRfV413p6feZ25yg6/aq2UVDxDdxHOiQJH\n",
       "mi8FJ43YBXXGgeeSQoVeRo4mgnwlT6utGo2S6Z6pKfvr1uifxsz7LxXM/uGEuuaADn5ofCqawBbs\n",
       "9o+MUvAU6RmOMZU0AXyG18dBOOTQQrhEFDpSpqRPk5gldYaBFyS9KfQ+8udE8Od3BP78g23tSFrO\n",
       "vPZCwS8ejsMrdheB1DnkhJ8c1px8B/uj4DWF3kUOE4E8cc3v0TQ8nv2lIzzsVPW3W2LoXYSfHNac\n",
       "fAf7o+A1hd5FfksEe3pfzxVaXuZ+q0WKPUf6HHoX4U6LF9gfBa9bvIn8ngj99JO18JqfZr9TSQUZ\n",
       "mgo9ht5FuHNGvcD+KHhdoTeRZ4lwD2+RFp/EOvv7VJR18FqbSnb6BuGSwxYnvdgfBW9R6PuRw0T8\n",
       "DzbIf/3QTkOmAAAAAElFTkSuQmCC\n",
       "\" style=\"display:inline;vertical-align:middle;\" /></a></span>"
      ],
      "text/plain": [
       "|- (x not-in (A intersect B intersect C intersect D)) = ((x not-in A) or (x not-in B) or (x not-in C) or (x not-in D))"
      ]
     },
     "metadata": {},
     "output_type": "display_data"
    }
   ],
   "source": [
    "Intersect(A,B,C,D).nonmembership_object(x).definition()"
   ]
  },
  {
   "cell_type": "code",
   "execution_count": 15,
   "metadata": {},
   "outputs": [
    {
     "data": {
      "text/html": [
       "<span style=\"font-size:20px;\"><a class=\"ProveItLink\" href=\"../__pv_it/demonstrations/0c22a92cdd548e44c5c89e2ecfeef00bef6240e00/expr.ipynb\"><img src=\"data:image/png;base64,iVBORw0KGgoAAAANSUhEUgAAAPsAAAAVCAMAAAC34mhmAAAAP1BMVEX///9jY2MJCQkdHR0NDQ0W\n",
       "FhbMzMxUVFRERES6uroiIiIQEBCYmJhmZmYyMjLu7u52dnaqqqqIiIjc3NwAAACGmE1UAAAAAXRS\n",
       "TlMAQObYZgAAAAlwSFlzAAAOxAAADsQBlSsOGwAAAtdJREFUWMO1mFm2oyAQQOn3uplLxv2vtVFk\n",
       "EtSQGD+iJ+KlqBkQCpdDV5d769VrQz5jPwC35hKxqMG3y3Zj9k66N9j7dc9+AG70JQGTEdbvs8tr\n",
       "6ebYknpPwrVQ/AJ7WnBlaYBL5HSCq+V6BmCDWb3vdEvyE84Wm2YLGlket3Z7Am6FXSkGuExwuFEv\n",
       "H2GJ3yNGQjZaFmqzWhw3yXY+QpiHhv0AXFG+fwmb7BtcXAUU5f/+8k6/2mmfRBDqOJcr42fZcsfK\n",
       "qIPC/hy+ZBgTSXBz7jlsCU5CcJ/oLLI+pZkla1/vf0HOQNNs4pOgrmV/DNdZYIQhCQ46JQJLFNba\n",
       "VLlcjYMK1oBPYmlyyP2Vr02zY7grsrtnYV/Ae/oA7nz5UGV40m1YkCUWQRmzuCbQilbDJNinmWWZ\n",
       "I2rali9m2dhTGxaSzV2xz+E9fQDXvltHgPOoLunWKAueUtxsOamRsOkxmcSIQ1HhVZBOsm3MoEbI\n",
       "jn0KH9AHcO67RifARawEq1ahcRMsOOe/P+GHHtIIQMjzNNsKNdY0ULnwJJuKZCXcsc/gPX0EFxVJ\n",
       "ZcFFqYLCtkWhSjF1g7Ddcvww0TYbi+vFe5WdnEmmUifQS/CWPoLzsnaDs+A8D2KrX6i2rPChx68v\n",
       "kliGNyUV14acZOOUQIlnPfscfqQP4FB8XhfBqY26YoiI6k3MKwy6RCfbpjb0oXU8SFI3U5PsPdyD\n",
       "DpYBewwf0Qdwl3OdVkXwWEeMxwpEzOElwkxXgF0yN02KhLqpVm2vMscOVX13xpSnGvYYPqQP4HtR\n",
       "ZnnpKxxv3qEgKMuAbKJEkR+m2jD1fpPLrA9RMN50zdAAZtiI5I1MHtiyh/AhvYev48JGpm7xVzjH\n",
       "p/2R/KNpSJdXewbHL1vqL7KfgEt4ZwP82obim+xH4PTsfMPR+4OTmyHfZD8BV2cjtblF0JuTpW+y\n",
       "H4G7k9Mhcn9odHuo9k32p/D/ibQxYW6tjFQAAAAASUVORK5CYII=\n",
       "\" style=\"display:inline;vertical-align:middle;\" /></a> <a class=\"ProveItLink\" href=\"../__pv_it/demonstrations/b1f4296e2b392ae05f7dbb938768639e5f1a60be0/proof.ipynb\" style=\"text-decoration: none\">&nbsp;&#x22A2;&nbsp;&nbsp;</a><a class=\"ProveItLink\" href=\"../__pv_it/demonstrations/4913bc1e100e84fdd0da075aa7c69441e86ded820/expr.ipynb\"><img src=\"data:image/png;base64,iVBORw0KGgoAAAANSUhEUgAAAJIAAAAVCAMAAACaEEfcAAAARVBMVEX///8/Pz9vb28YGBgJCQkd\n",
       "HR0NDQ0WFhZERES6uroQEBAyMjLc3NyYmJgiIiJmZmaqqqp2dnbMzMxUVFSIiIju7u4AAAAQwmFf\n",
       "AAAAAXRSTlMAQObYZgAAAAlwSFlzAAAOxAAADsQBlSsOGwAAAjVJREFUSMe9VseC3SAMZLObLL3D\n",
       "/39qwKYIU14OeauL24BGo4IROhg/Pr7BXntgAT55DRezd1Ai/gXAOvikzcA2vlgscIwuGcP2DAwe\n",
       "J5hAPO/vxRmsCFw5yKLjQEkkzwM6G8XXxUV7wnnqcy60kmJOzGRy4DfwVy72vFvpOQpWjdvxeGeB\n",
       "RLXHBSwLYXVvKNSOjcdSfv+BwlD42XDTY7fVBR84iYIQhdoSx2i9JcUBXctEWBbTwSLQkB73yMdW\n",
       "7B0nYHW6WL3yLc70XWyRh4mrvrwL1hjduylMxaNgcatcTGLOr1VTKQVXM7PA8djfhQIz7nbgnUeq\n",
       "fWZ8CvkmX0VM5G00MyUOWtRG7FOsYN2MM3FuepGUEDznOyDXFrPFUJJ6ECkF6M6U/F2umoo9TsZ5\n",
       "NupUU1kwBZNkqUz2+0tKDNJAQOkrlToOnylhWpWwWxwFkyQ0dcs3KGC4nBk9DhnSR9t16WWwplRV\n",
       "bA23VKmLY8fOI1nAEAYf8jGjNExbfkGPlGwtfxfJFqd64lplapk0IchR+BL5FBd5jCxcYyXieaIs\n",
       "KZVSStTYHsebgib0gyh1sw2K3m3U6luPQ6n2Zt6lioNbhEtKrOhPWThQL6OEdEZ52gSVRNFKwNIJ\n",
       "Dn8+hqiVd5nFePnQ+abo2psgVGldO3PBtgtcuktn7nDqSbI5UH59pBNFwj6UFv2Ecflvf0rn8/C/\n",
       "mtr9nXA8v8P8J0TCuy+PoQTG1ZttH7dbRuDfzshnRn8BE6chUYR810EAAAAASUVORK5CYII=\n",
       "\" style=\"display:inline;vertical-align:middle;\" /></a></span>"
      ],
      "text/plain": [
       "{(x not-in A) or (x not-in B) or (x not-in C)} |- x not-in (A intersect B intersect C)"
      ]
     },
     "metadata": {},
     "output_type": "display_data"
    }
   ],
   "source": [
    "Intersect(A,B,C).nonmembership_object(x).conclude(\n",
    "        assumptions=[Or(NotInSet(x,A), NotInSet(x,B),NotInSet(x,C))])"
   ]
  },
  {
   "cell_type": "markdown",
   "metadata": {},
   "source": [
    "### Testing the `IntersectMembership` class methods\n",
    "<br/>\n",
    "The `IntersectMembership` class currently has the following class methods:<br/>\n",
    "    <div style=\"width: 75%; border: 1px solid green; padding: 5px; margin: 20px; background-color: gainsboro; font-family:courier\">definition(self, **defaults_config)<br/>\n",
    "    unfold(self, **defaults_config)<br/>\n",
    "    conclude(self, **defaults_config)</div>\n",
    "</font>"
   ]
  },
  {
   "cell_type": "markdown",
   "metadata": {},
   "source": [
    "A few IntersectMembership objects for convenience:"
   ]
  },
  {
   "cell_type": "code",
   "execution_count": 16,
   "metadata": {},
   "outputs": [
    {
     "data": {
      "text/html": [
       "<a class=\"ProveItLink\" href=\"../__pv_it/demonstrations/c4dcb5c9863449c3303741a05c7a3b82e8310e830/expr.ipynb\"><img src=\"data:image/png;base64,iVBORw0KGgoAAAANSUhEUgAAAPcAAAAVBAMAAABoLmXpAAAAMFBMVEX///+YmJjMzMzc3NyIiIhU\n",
       "VFR2dna6urqqqqpmZmYyMjIiIiIQEBBERETu7u4AAAD7tRWPAAAAAXRSTlMAQObYZgAAAAlwSFlz\n",
       "AAAOxAAADsQBlSsOGwAAA39JREFUSMeVVk1IVFEUPs7T+Z83Q7ixTUIUKEGzaKIo8JGTRVhYiMhA\n",
       "MEouyhYuoiCiGXAZlBJtDHM2oW0GkZBiIJTaRAizKEKKHKIpimSsrMSFdM69775373tvAg/cN9+7\n",
       "95zvu3/nvAHwMA2bfg3qmDbq7vsyAtuwQ0l8JOsMnsR26mbd2D0fnD2N05XtiPvOo/sVWuH7WedY\n",
       "MIttS+5ZfaU4vHFG3JG1PRjR2l9KL7EenHACQXjM6fcNm18leKS8DfOfhszyiNJhmpuRbEPCjL2I\n",
       "LZ53uo27xTc8xH2Pkx8nKh7ibka0wJZTvAVbTmzZ6VKpwMCCS1yJFFrtGKgVPcRzXhdAIWQv0Yod\n",
       "eP2MOPKCS9yxDzzkHD2aPcSHvXZdOQvGF8ZDf5juZwlUFCOhrBhOXThgRvYeN7fSn94h2NmE2iw5\n",
       "ra/T4D4mo/AGxrTfJPicfmCy+3tA36zUKOXCVt7RjCCEyw88hxW+g7Wi/ovn+BOYBOi2xVMMTmC7\n",
       "kYzxwxGMwhtkpsAc7MWbTifbUKCcitKMw9aeRGiOR3EG3xNw30qlF3wsS6Ajr4priyi5CCF+OIJR\n",
       "eANjmuBMHQk4gQF0gYMLtMQ47fO+ElqZxqOYP6lpBFMA8yBW9oeBKTZ/PZOXxbUMRoTWSAv4psWz\n",
       "krfCtJLuovSszmC2sIgcUa1aKydx3yTGLYH+l3fNQ4An2xI/yml15W1Y8qJlqI2I9ebykjfITL/5\n",
       "zyV0DSxQUrIJRtRtxxqkr0PDmkjzEDtP7LILmnTmWPJqBuyy0tzcoHVR82ymdXEy+JiFeCueFpVn\n",
       "w6p9Br/t+gY0FUaBeH7SqRH4gRMGuOy8cHjba3nIBJM6iRMjAe6NYRIT7n4Q2dmFK0NTIsYzcMZK\n",
       "wh4z1V7DrbExfRPfzsIyMICXd1BJNUs8ZgSfhqCGScIYCTBvFmYz7QT9rplqmNJ63zjXrL41r4dv\n",
       "1hSvdu3ubYUSdlcv4uUn4B9otuoSu51fhbjeO5g6BpFnwBkJcG8WbzE1DjSLKhKRP8NX35nldU6p\n",
       "acGKE7hLmN1x2wXsMBsx9iOen9sWRdzvAv8Tz7qAHeZXy+u4p3gsadYgZp9cQBQM27qtb7nhBFKY\n",
       "jah+amVPcb1s1iBmhgvw9JCtQ3xEG8EJ7DAJYe6wJXoZfU4O99f9Dzfk+l5r9/Lb+Rt1kLg7Af4B\n",
       "RF8S4kh2phMAAAAASUVORK5CYII=\n",
       "\" style=\"display:inline;vertical-align:middle;\" /></a>"
      ],
      "text/plain": [
       "b in ({a, b, c} intersect {a, b, c, d, e})"
      ]
     },
     "metadata": {},
     "output_type": "display_data"
    }
   ],
   "source": [
    "# an IntersectMembership object that is clearly True\n",
    "intersect_mem_01 = Intersect(set_abc, set_abcde).membership_object(b)\n",
    "intersect_mem_01.expr"
   ]
  },
  {
   "cell_type": "code",
   "execution_count": 17,
   "metadata": {},
   "outputs": [
    {
     "data": {
      "text/html": [
       "<a class=\"ProveItLink\" href=\"../__pv_it/demonstrations/01e167e2adbf38083904a933f77a8e762761ef6d0/expr.ipynb\"><img src=\"data:image/png;base64,iVBORw0KGgoAAAANSUhEUgAAAP0AAAAVBAMAAAB/DPUgAAAAMFBMVEX///+qqqru7u5EREQQEBC6\n",
       "urrc3Nx2dnYyMjKYmJiIiIhUVFQiIiJmZmbMzMwAAABQcPw9AAAAAXRSTlMAQObYZgAAAAlwSFlz\n",
       "AAAOxAAADsQBlSsOGwAAA3ZJREFUSMd9VktoE1EUvZkkk38aXFh3HRA3gjYU6sJfu7CLUiFBXPmB\n",
       "AcFvS4MKLqo0VCpqF2YlfhCClAoqtCBoNdrGz8JPpMUurNRAdv6qtlVL/dD45r7PZOYl82BmDu+d\n",
       "ew5z3313BqDa0Mm1Jgm1hrpSnnOg11TQa6wGY+Tq12qHf2mSQpzo1lECRacKu+jEVzujnlwNht4s\n",
       "F+2a3srQgVPN5L7JHmKhq8XTJYZOTIm8RCfpM3G2oFGFYAYnXtm0lDS5nSTPRxe4YBx6qY4yCQ0x\n",
       "XDVGYHQLk7fQ94HvF0XrwDXPZcMj9Pns31FgCn2YOrt/JMPXh5lgSAdPK83zPDSmuX/0pb5+WuP+\n",
       "Jv0uwDaKhmPKEpe9zfxHzIBrxu3TANvCzYXnCDySoGcBQouIvG1QJ/w/kmW1T/ZPaDBOa2tnErh/\n",
       "9JLs7zECUtTfe55v9ipJMJSH0LLY6gz3HzNuV2T/hwDjrADA9ZsBn1/29xOpoE79D4oCfisJGrs3\n",
       "x4D3BV+FvFm9dvoEB3syDAxx//s3xniAj0wdAup/RsSeM27TNsHvWZbGW0b0oOl/BKrQo38Y+Jzj\n",
       "JyHD/ZugO8kUAmQrU8w/LaweG/R2m79ZpEb9d8es/nY6r3UQ9e8Dv5hz55mCqxUCOvWPbi8UCk9x\n",
       "uY3ojSatgpG48CfFCMporNJfok+ZpylBJy9W+EcWmUJ0Dg4D9VdMgzZjV5usgld5YkvgJm/k67e+\n",
       "v40e4FbfAFowVWqW+7vTEFlmCt5W2J3L/bwnxET+aYcTgq4U7EdQt4D+2O4q999KrweVnr+yxvy9\n",
       "udx4RwrTR87SHFNwoUIHUm8K/42WgkbNDwDXEXlGMP/H7fVnoUdTENQUJp2gCEMVLATwxJlCAJP+\n",
       "A5f9Me7fIwR7dcD+pb4uFvOIApmK82/35/TOYvE9tkm4bJz/RlradXFE6iQMaiwgYmRkqvwAC+DO\n",
       "DuY/ywVziYEMGB+LcLlcTiOCvcVmcf7jtMVL9IlyeQnCT4y0F8n3BxFEWv5mEXXNvOEK4cqPtvcY\n",
       "67/hknAw9kiTkbkqTZikFeCEMKCz6gc6MFkp6AMZOfibpJQjwoB31f8QNogOR8ZakBFtd5VDpitZ\n",
       "J4QKary6/2rgHY4MM8RESrs9RKYHwQmhgrvGDxhpFqDOxGr/vfVIa070mgpDAP8B4uQMcEGtV9QA\n",
       "AAAASUVORK5CYII=\n",
       "\" style=\"display:inline;vertical-align:middle;\" /></a>"
      ],
      "text/plain": [
       "4 in ({1, 2, 3} intersect {1, 2, 3, 4, 5})"
      ]
     },
     "metadata": {},
     "output_type": "display_data"
    }
   ],
   "source": [
    "# an IntersectMembership object that is clearly False\n",
    "intersect_mem_02 = Intersect(set_123, set_12345).membership_object(four)\n",
    "intersect_mem_02.expr"
   ]
  },
  {
   "cell_type": "code",
   "execution_count": 18,
   "metadata": {},
   "outputs": [
    {
     "data": {
      "text/html": [
       "<a class=\"ProveItLink\" href=\"../__pv_it/demonstrations/62533179b3eb6b315833dc28419bc821a5a005ac0/expr.ipynb\"><img src=\"data:image/png;base64,iVBORw0KGgoAAAANSUhEUgAAAPsAAAAVBAMAAAByEoVnAAAAMFBMVEX///9UVFQyMjK6urru7u4Q\n",
       "EBBERERmZmaqqqoiIiLc3NzMzMyYmJiIiIh2dnYAAABC1PP/AAAAAXRSTlMAQObYZgAAAAlwSFlz\n",
       "AAAOxAAADsQBlSsOGwAAA4tJREFUSMeNlk1IVFEUx884b77ezDxnhDIocEIXBkESRLQonkQFhagY\n",
       "QSA4piAWoc2i2UQN4apFThDUQMm0MlvYFERIVFObIBQm0KAI1CDCRWrmQiqYzv18H/cpXXhvDvf+\n",
       "7/ndd+655w6ARyvic7QFNmv6DbVvC7lXe1jkGI8Wz+HTaG4++Um/MmUrubNFAU5CdDvqD3sLbuIz\n",
       "StxFb/Oe8cwFbk1+78N3r3sKlU+Zbrm+fFlGJTrMfgNre9BtMIFrLnvRtRS+lvBpzaxzL2lYYW60\n",
       "YRjNsVFssboB7h07tPp9plt+AsIbwm0kwX97xlBn5NFs8sKHyhwPcY73FSHQwYK8Ae0pgY/eL57K\n",
       "mAIPMG+65fM5bU24/cTxPvqm+Hd27MdCIUWjA258YB18v6nl74JaiX+KOL1JxVvyAy0g8NG3Kj5g\n",
       "S5j9s9y4ruB9efD9kdtcFvid5DXj8fU2efgvN4waFV9D4vzjSwnkZ2C7quDJjq1yw39PjALxAM9V\n",
       "vF1+SKTXZ4mfWSxxvIFdE7lQmqxEnsK95JVx4V9XeAw/kG+es/APQMpteCF/mSzxdCwLfNDUf6Fr\n",
       "khwx3McxCBBtjZx6l6i7Xfhb1hnDzH+cc+KZ3IaXcpH5Bgg8tkGcQfrDHRDiiGcFbCQM0IWDdS1O\n",
       "PA2QTCzQ6nJ2PJdbeJu8h3W+t+OvYaRbmzGUqxDgyuNysIvsaL8T/0bkbwmCuG6j0fn1TG7hhfwF\n",
       "wBANlF6R+HOIxx35iiv2d0A736WII/isrkl8eAEeUaN2neJpkbPvfa8DL+VVk+P9yWRD5wLtOwvQ\n",
       "gBLiOpyHWkxNErp4ReAvOjJfI8YrgFkgzgMJGvxv7tSTmW865J0k+BrftATzhYs4g/GjqZcm22TQ\n",
       "7GwW+EXpz8DiQYqcfiebzdP6FSvbzr0bv1IEKrLk0+Tct6dY4NLMGof4aX7wQriU5WlWb1r7eOym\n",
       "hD/ftrVdEMH7IVKtVlNQIOMHs33y3KdZWRfyZM/uMhVZcn8Wr5wIvbhCQz8r1NKz9aLmR+y39JFB\n",
       "VnQjJQkgbUSeIetcLbnviSVVZFkjqi+Gn/C6cmLDDsCCnAH/gbdEhurBZlH8Fc/7/rysa+SKlSnZ\n",
       "Ziky7ilzqqhN9WBZEErRi9mrkRLA6hrJftltzdW63VOkvKLKLQ+WBccwgYPe/7awRoB+Kbf5f71F\n",
       "ZWwruVeb3EFuIYB/k3EUKiH8mOUAAAAASUVORK5CYII=\n",
       "\" style=\"display:inline;vertical-align:middle;\" /></a>"
      ],
      "text/plain": [
       "c in ({1, 2, 3} intersect {1, 2, 3, 4, 5})"
      ]
     },
     "metadata": {},
     "output_type": "display_data"
    }
   ],
   "source": [
    "# an IntersectMembership object that is not clearly True or False\n",
    "intersect_mem_03 = Intersect(set_123, set_12345).membership_object(c)\n",
    "intersect_mem_03.expr"
   ]
  },
  {
   "cell_type": "markdown",
   "metadata": {},
   "source": [
    "### `IntersectMembership.definition()`"
   ]
  },
  {
   "cell_type": "code",
   "execution_count": 19,
   "metadata": {},
   "outputs": [
    {
     "data": {
      "text/html": [
       "<span style=\"font-size:20px;\"> <a class=\"ProveItLink\" href=\"../__pv_it/demonstrations/48d501498405cce2417634846e46b20208ad58d10/proof.ipynb\" style=\"text-decoration: none\">&nbsp;&#x22A2;&nbsp;&nbsp;</a><a class=\"ProveItLink\" href=\"../__pv_it/demonstrations/a0904ed4f6cfde806aa7a59b8b289c9c0eb64add0/expr.ipynb\"><img src=\"data:image/png;base64,iVBORw0KGgoAAAANSUhEUgAAATcAAAAuBAMAAAC/okPmAAAAMFBMVEX////MzMxUVFRERES6uroi\n",
       "IiIQEBCYmJhmZmYyMjLu7u52dnaqqqqIiIjc3NwAAACW8nlqAAAAAXRSTlMAQObYZgAAAAlwSFlz\n",
       "AAAOxAAADsQBlSsOGwAABY9JREFUWMPtmF1oXFUQxyfd7Gb37mazVCotoqYoSGwDUVSKkDYPIqiU\n",
       "bIWA1AiBRuqLEp+sD8FgKSEW7CKBltCHNbGiSNltYK0igX3xoRbq+kGKrRuWhYigkiiCtKbizDnn\n",
       "fp+55y71wYcOTDL35J7/nXs+5txfAKAFGsujW08BY/kr4bYPRqAD+5WeajtvvXVd64/oPzzLdtr+\n",
       "ZEhmvtxJcl0P4O0HQTpvl8F6ohhszFXRb3pbll723fBosMfX3tw0imi7XvFcJPrxhaaks2aVADIz\n",
       "wdaP0bP+B5zxXdXkr56BfSO+BmVhRbItTyzUF5RzlsbM+0IzOxtObkuTXNdLrffnyprk+nRrpftm\n",
       "MLljyjlLoY/aU/Ld2FhJBBOh5HzKdi67sGN+QZPcqG4B+gTFRaosnbNLHuFnrtlLrhRKLjCOsstu\n",
       "+jGtSa6me5RvroVeZko6ZyfR32vuFQXCmf501e7eXvlNKQ9+q6Yq23zdfrpIeKeTTn7PWkPeoxTR\n",
       "Vq4WZNBeuV8JfNJ8R6ln+6Vzdhr3xI1yhcpNxqk54m3SOHzdr8EBOeyVBesfWePG4TjAqptcW4Rz\n",
       "6E+3EnLybUWA9Xp6SC4LR6n7ENyDu5RWTk9JOsCJMbLnA8mNi5qRojfOOI1JesefMMMPp+CEUype\n",
       "lX+rUrBR9yeXP4opHYW0nHxbEeBFO0ClOam0MQXfYwfaYLkJ6ZxNiiHqo3m8m5IX75nC+tCex+AU\n",
       "ydsj87cITon3twbq3uTyA9gjvUmZA7iKkHa2kat0oHmdys/iWdztm9IjkkPFUXrUkruFsXfXcczi\n",
       "CFh/ghqCbllMjsiFN+8fuZ14ZKSGoDJij65QpCZlrtIf8tfneGv3hHTOxkVREsOR9E8r1nDrFvRs\n",
       "2mVOjgI2uQeCZ83hkVFpwFtOmZMDXGnYtd5VumXPPP4oSufW3DBKFXC10PHYcM6Whtyt1hZsK10B\n",
       "es7vtGoo+AtfFuDT4IbA3Vqpw0CuZYFSFAGu2xEKPEo4uzlUFxtiSDpnywDbphKyAp11ilC/KiXD\n",
       "8OXMjHUDrx6CfSAC3KoXfKXESS7RyL2QhkpJKVKAWzVboMCj9CZY76pSQiUrXeWT24FvtWdWxouP\n",
       "qWrdVVTJLV6/b7AAY9i8+BkOAgXZi9NlOznx0h/ZyVmDF9rfQPKwUqQAvnjjmgxcpd6L03YVTY5I\n",
       "5yxZ8Fw897g6vg75zoRcORiEjwC34Ss+8AgI9XXlnPVovx+O+ZLLhoKo5Kp84BEQ6rPKWduva0y0\n",
       "VA0Xdj4U2AXVtVXnG6zBBl4BOn/yQ9J5W9J+5Q2pGi6sEQrk9vbahv2R1Ats4BGgvS+GIBH5nZ5v\n",
       "6FrpuP95L9tnOfS9ln+73sln+i+kvab8jt2x/5GxaGuC6pZW6j+lbYJqPViboPpgLD6/Ldq+zIK1\n",
       "CapDPKyV8dF2UMZA2wTVerA2Q7UComw9is8DB92ZTmiboFoP1maoVjx8rhTF5zWIkDHQdooFazNU\n",
       "Kx6++mAUn9cgQsZA25c4sI4B1YqHi3dF8HkguWyxE9o+yYF1DKiWPJyrKuDVy9QgQsZA26c5sI4B\n",
       "1ZKHM63cDM/n4uOKlTHQ9jgH1jGgWvLwdoDDPJ8TbfMyBtqe5MA6BlRLHt4N0GT5XNA2L2Og7UkO\n",
       "rGNAteBhqm7neD4n2uZlDLQ9zoF1DKgWPEwlOF1n+ZzOEl7GQNvDHFjHgGrBw5RHvsTyuWBGTqZs\n",
       "oO1lDqxjQLXgYfG/w0dYPhd3MjIiiKLtHRxYx4BqwcMPU3Qvy+fiTk5GtETQNkG1HqzNUL0eh89r\n",
       "wMu4enraJqjWg7UZqmfj8HkNeJmsibb3c2BthOoQD2tlVoGXOW+i7SUOrI1QHeJhrYxD2xqZhom2\n",
       "Car1YG2C6rVYfH4btP0vnHWE+PX03QoAAAAASUVORK5CYII=\n",
       "\" style=\"display:inline;vertical-align:middle;\" /></a></span>"
      ],
      "text/plain": [
       "|- (b in ({a, b, c} intersect {a, b, c, d, e})) =  \\\\ ((b in {a, b, c}) and (b in {a, b, c, d, e}))"
      ]
     },
     "metadata": {},
     "output_type": "display_data"
    }
   ],
   "source": [
    "# definition() returns an equality defining the intersection membership\n",
    "intersect_mem_01.definition()"
   ]
  },
  {
   "cell_type": "code",
   "execution_count": 20,
   "metadata": {},
   "outputs": [
    {
     "data": {
      "text/html": [
       "<span style=\"font-size:20px;\"> <a class=\"ProveItLink\" href=\"../__pv_it/demonstrations/e09457cc36aa1aebd3838eff5d9ea4656ce7ea9e0/proof.ipynb\" style=\"text-decoration: none\">&nbsp;&#x22A2;&nbsp;&nbsp;</a><a class=\"ProveItLink\" href=\"../__pv_it/demonstrations/b258a11c45626b2f22160efc3faeaea0f239a65f0/expr.ipynb\"><img src=\"data:image/png;base64,iVBORw0KGgoAAAANSUhEUgAAAT8AAAAuBAMAAACsdQMSAAAAMFBMVEX////MzMxUVFRERES6uroi\n",
       "IiIQEBCYmJhmZmYyMjLu7u52dnaqqqqIiIjc3NwAAACW8nlqAAAAAXRSTlMAQObYZgAAAAlwSFlz\n",
       "AAAOxAAADsQBlSsOGwAABepJREFUWMPtmF1oHFUUx89mv3d2J2slWhFxs1Vr/Mq2pCCBtkFUtFJY\n",
       "KutHiTSEaB+z+KI+KEtD6ca+LDVQDH6MrQVfSpdIRPSh+9oG7KIYsWI6VKIR0aR+khC7zv2aO/fO\n",
       "3NmZNx964NzcnD33zH/mzp2Z3wUAE7wMRT8cAZXpX7hjPunKCiaoBNiWa6miuRlDPWzLsGuIX7po\n",
       "eciYpMJ+6j62gJqtXtFL6ICRgzSyMr2D9n75dMhqd8pDcHqfIafrn0/ZVzZSI38n364YpEKuSlxt\n",
       "mQZqD3hF5y0/Nb1Bj1OC8+RAmRpcapFfLUsOPEyPbwUy975vyOkfQXaTlY0XyN9n/vqM1odZ6kpL\n",
       "Ifm5A15RXCBHBfaYkBgjU7kJ5xpMYOQF84NpgwkEuGLI6VdamXVW9msqsMAHvEpdaQnU3HqC3ka7\n",
       "Ks/zqCAwsQE913EvNgG9tsDbLEH6rFsgT398BJjAyGtugQmDuNIuoKZJBMbeNZxR8QqWoeeafbtV\n",
       "mcB+1LzucQUd6dl/aEdLuwWmq8SVdhyJMInAnw1nVBSI7qA12ok9y36FMl9igkBn+mPs+EtM4Pbv\n",
       "+tkArUBcaSct/wmIwPeEKExLAu9s05n6EpVf5AKvgp3uEMjS7yjm6cKpMoHDsDpCKyQbxAGOVpDJ\n",
       "qwFG0QxTgQ0hqh+WBPKxaBWvtkSBJN0h0E5nq1iDtH2pomVaITtGXGkT1gmYRGDkResMnmZRfWBE\n",
       "FJgq8ZVlBTMDLadAms4FOtInSfANh8DUdVohskbcT+CvQARmSs4obB0WBb7M1mIeotY10WbEK0jS\n",
       "uUCWfhPAXnyx9TYTGG1A6hqtEBsjrjRrMh8pFv++3z6aPcXkXWELzDbhN9zp3cAC8YvDeQ/uFATa\n",
       "6R2DCowVi4PjTTwB1hJfoxWyZeLKe3A3bsdx+70YtVdxBnVuB7gMqGSigKf4E3mR2KvYENLH0RRn\n",
       "6K1RwLU0q1eiFZIl4kqbw+0fuE23hCh5DFg3C3px6M/V62X8TkhWHc9BWeB5E3AST38FPQfPkfXX\n",
       "WyK1arBo0AGpJnGl9aFmqvMgvgm37XNGUYGee9a3Q9z6YIh3Op0GoHc8PFEfsp+DJfK6ZenFyRNV\n",
       "nMTTY3XrYyGOPzlSe39v497KkTdZhfgIcaXF845/Yh/TVx2Oztvxi/YTgz9F5uVK8+4k3rvorkUG\n",
       "LFNXWrKmjHIJ9hRoEEAgT9LcFRw9POAYdbXtUUYX7Y+vNuud5RnT8pBFd9JZdwXewxWszzLsPnZa\n",
       "GV1layZnh3n1zGF5iJ3edqfzCjmxQtQk7scGbVVUP9JSj5pz/eaXrqywRP2G3bD/s6nZuSu4m57F\n",
       "3OT4aChBEtJjRPeG967gvj/YLsC3+wKL80D6BSW8dwd3F3J7FsriLzaG9Hr9rXwYpEeI7g3vQcCd\n",
       "IrfW8tsF0MpOpP8BtD8hBNIjRPeG9yDgTpH7TMNvF0ArOz9lHwJ4CUIgfUKGd/iqUmlAQHCnyP3N\n",
       "XX67AKJAC1AGzRBIf0GCd3jysvcV9AR3itzlm/12AUSBdwMM5kMg/XEJ3vVZ7yn2BneC3Nlm2vTZ\n",
       "BRAFWnYIQiD9SQne06b4QeUP7gS502a25rMLkGqIAiP/QgikH5XgPc2flwHAnSD3FoCDPrsAP1ZF\n",
       "gfFCGKSfEOEdbkHsV4KA4E6Qu58BoecuwNUZEAVOQRiknxDh3fH9GgTcMXKjp98Z9S5AZMoQBCYL\n",
       "oZB+VIL3OD+9AOCOkRs9plMt9S5AtCAIXADdDIH0uyV4z7Xdq1gN7hi50TnpDfUuAF/F+N3ZhBwB\n",
       "+WBIPyfBO7wjCvQHd4zceP9yh3oXgAhkSL9crx8lIB8M6fskeIdTQ4ZDYBdwx8h9H35kqHcBsEAb\n",
       "6Q91OusE5IMhPUJ0Ad7hqV3OV50/uC8H2QXQysFA3hvpEaJ7w3sQcD8WZBeAC/QHeQXS71HCe3dw\n",
       "dyG3Z6HcWCCQVyH9aSW8dwd3F3J7FtI3A4G8CukxonvDe1dwXwq2C7DyQDgmcSL9f7bpnuk1dmez\n",
       "AAAAAElFTkSuQmCC\n",
       "\" style=\"display:inline;vertical-align:middle;\" /></a></span>"
      ],
      "text/plain": [
       "|- (4 in ({1, 2, 3} intersect {1, 2, 3, 4, 5})) =  \\\\ ((4 in {1, 2, 3}) and (4 in {1, 2, 3, 4, 5}))"
      ]
     },
     "metadata": {},
     "output_type": "display_data"
    }
   ],
   "source": [
    "# notice the definition() returns an equality, regardless of the truth\n",
    "# of the underlying membership claim --- 4 is clearly not in the intersection\n",
    "intersect_mem_02.definition()"
   ]
  },
  {
   "cell_type": "markdown",
   "metadata": {},
   "source": [
    "### `IntersectMembership.unfold()`"
   ]
  },
  {
   "cell_type": "code",
   "execution_count": 21,
   "metadata": {},
   "outputs": [
    {
     "data": {
      "text/html": [
       "<a class=\"ProveItLink\" href=\"../__pv_it/demonstrations/c4dcb5c9863449c3303741a05c7a3b82e8310e830/expr.ipynb\"><img src=\"data:image/png;base64,iVBORw0KGgoAAAANSUhEUgAAAPcAAAAVBAMAAABoLmXpAAAAMFBMVEX///+YmJjMzMzc3NyIiIhU\n",
       "VFR2dna6urqqqqpmZmYyMjIiIiIQEBBERETu7u4AAAD7tRWPAAAAAXRSTlMAQObYZgAAAAlwSFlz\n",
       "AAAOxAAADsQBlSsOGwAAA39JREFUSMeVVk1IVFEUPs7T+Z83Q7ixTUIUKEGzaKIo8JGTRVhYiMhA\n",
       "MEouyhYuoiCiGXAZlBJtDHM2oW0GkZBiIJTaRAizKEKKHKIpimSsrMSFdM69775373tvAg/cN9+7\n",
       "95zvu3/nvAHwMA2bfg3qmDbq7vsyAtuwQ0l8JOsMnsR26mbd2D0fnD2N05XtiPvOo/sVWuH7WedY\n",
       "MIttS+5ZfaU4vHFG3JG1PRjR2l9KL7EenHACQXjM6fcNm18leKS8DfOfhszyiNJhmpuRbEPCjL2I\n",
       "LZ53uo27xTc8xH2Pkx8nKh7ibka0wJZTvAVbTmzZ6VKpwMCCS1yJFFrtGKgVPcRzXhdAIWQv0Yod\n",
       "eP2MOPKCS9yxDzzkHD2aPcSHvXZdOQvGF8ZDf5juZwlUFCOhrBhOXThgRvYeN7fSn94h2NmE2iw5\n",
       "ra/T4D4mo/AGxrTfJPicfmCy+3tA36zUKOXCVt7RjCCEyw88hxW+g7Wi/ovn+BOYBOi2xVMMTmC7\n",
       "kYzxwxGMwhtkpsAc7MWbTifbUKCcitKMw9aeRGiOR3EG3xNw30qlF3wsS6Ajr4priyi5CCF+OIJR\n",
       "eANjmuBMHQk4gQF0gYMLtMQ47fO+ElqZxqOYP6lpBFMA8yBW9oeBKTZ/PZOXxbUMRoTWSAv4psWz\n",
       "krfCtJLuovSszmC2sIgcUa1aKydx3yTGLYH+l3fNQ4An2xI/yml15W1Y8qJlqI2I9ebykjfITL/5\n",
       "zyV0DSxQUrIJRtRtxxqkr0PDmkjzEDtP7LILmnTmWPJqBuyy0tzcoHVR82ymdXEy+JiFeCueFpVn\n",
       "w6p9Br/t+gY0FUaBeH7SqRH4gRMGuOy8cHjba3nIBJM6iRMjAe6NYRIT7n4Q2dmFK0NTIsYzcMZK\n",
       "wh4z1V7DrbExfRPfzsIyMICXd1BJNUs8ZgSfhqCGScIYCTBvFmYz7QT9rplqmNJ63zjXrL41r4dv\n",
       "1hSvdu3ubYUSdlcv4uUn4B9otuoSu51fhbjeO5g6BpFnwBkJcG8WbzE1DjSLKhKRP8NX35nldU6p\n",
       "acGKE7hLmN1x2wXsMBsx9iOen9sWRdzvAv8Tz7qAHeZXy+u4p3gsadYgZp9cQBQM27qtb7nhBFKY\n",
       "jah+amVPcb1s1iBmhgvw9JCtQ3xEG8EJ7DAJYe6wJXoZfU4O99f9Dzfk+l5r9/Lb+Rt1kLg7Af4B\n",
       "RF8S4kh2phMAAAAASUVORK5CYII=\n",
       "\" style=\"display:inline;vertical-align:middle;\" /></a>"
      ],
      "text/plain": [
       "b in ({a, b, c} intersect {a, b, c, d, e})"
      ]
     },
     "metadata": {},
     "output_type": "display_data"
    },
    {
     "data": {
      "text/html": [
       "<span style=\"font-size:20px;\"> <a class=\"ProveItLink\" href=\"../__pv_it/demonstrations/286ff33092486f8d7c38c27c8c3f5f54b7c0bb030/proof.ipynb\" style=\"text-decoration: none\">&nbsp;&#x22A2;&nbsp;&nbsp;</a><a class=\"ProveItLink\" href=\"../__pv_it/demonstrations/aab4245772a666a88884c08dcf870715dd1d483e0/expr.ipynb\"><img src=\"data:image/png;base64,iVBORw0KGgoAAAANSUhEUgAAAScAAAAVBAMAAAD2sTVgAAAAMFBMVEX////MzMxUVFRERES6uroi\n",
       "IiIQEBCYmJhmZmYyMjLu7u52dnaqqqqIiIjc3NwAAACW8nlqAAAAAXRSTlMAQObYZgAAAAlwSFlz\n",
       "AAAOxAAADsQBlSsOGwAAA3hJREFUSMeVlk9IlEEUwJ+6q7vfrqsURRGVURCWgklFCKaHLhWhHfaS\n",
       "HhY07FJstzoISxJiQS4hFOLhY80uIZqwWYdgLx0isKXCKNmQoAgq1iIIbY3evDe73873zfeFc5jv\n",
       "zbyZ33vz5735AGAZNMU4AS4lsiBq5yQt5l4nbKB8Wy5yajM6/btTrlM3tWF1xt6rxdSOmRtxqmKv\n",
       "KckvwDjabVeH18pbk+cVZaswF7fN0GJemh4YLtsvlDWqGphsJAGCCfvQkMq/q7TSohqXA+UG6TFp\n",
       "8MDIUrCbRXIAHavL/MepgtPUFZankvzVY9LggeHiW7ObRXI1frqKu/w6Gk1qnFImSlPVPOftPu7T\n",
       "Y9LggdEsnxpIfl429+R7/U7Z9o2GB/lSdW/mPj0m7bX9XJQzpxFIvomf27kmCvZxVfvx6Xc5sfmV\n",
       "PJlQ7rI0FWqggJgNcirQY2ikG4Z1u2XXg9wNaRbJd/CSrpozAh20Uk0At993CTr4QGbGjb+co3ph\n",
       "CGBRiDV0QMHlMK9UjxkBD4yi852FHRh5MSb3UvxXZwXN2sfPeDj343C9FNkXSfDPCiEvFheOUc4C\n",
       "OEcaLSYyAB4Y1o2wLh+HNzihwOR+2pa6WWxtjWJpoV0dw2oUoKe04D8kjNKyjEb0qmJFiHsAcqTR\n",
       "YSKNnV4YRdeRWxKDUxNE7ifHu8TiJ63UOoTT+sD4xc0e8HE09/GNEC77YjI7TRWdcmK2tYEHRtH9\n",
       "5M+TTiL3Un4h3/1KajXWoWalmF8CFM3YVcrT4W6ZOgMZeXwaTCt4YBTduvWQILkdafXGAL1U2fLo\n",
       "MwpQmVwAYeaHOHwh/MZ1ADyii94i7UfoxusxGH2uGFPR4SmG0WyMyXMAlfEqDqEJJSW0w7NEwljF\n",
       "1n44BiRgzDyUgR4Q12dQSIdEpcekwRVDgqW7CsYtmRKQvAUdPjjMjNRhs8yp1NKu5nqIYlfqMQaj\n",
       "EELzg6Z0yi/u5QEh7RSVHiNGumGop6SrnR8spkck++vLMurpI45nJmzaBXbqk5qY9RgrozsxFs+S\n",
       "yCySaxLg+SKFHAKbGlYn6DGWUyEPXkg1K8jHdTRKrVSmHQLlu0iLbYYWswjumGmnjh4SIk9q/3lL\n",
       "fxlZh0AxVmX/+9Vi8hl3jBWjloTRyeRIVof70uT6jz4nLH1wdOswkWuZjfwOf21i8j/OzkNGa6P0\n",
       "vQAAAABJRU5ErkJggg==\n",
       "\" style=\"display:inline;vertical-align:middle;\" /></a></span>"
      ],
      "text/plain": [
       "|- (b in {a, b, c}) and (b in {a, b, c, d, e})"
      ]
     },
     "metadata": {},
     "output_type": "display_data"
    }
   ],
   "source": [
    "# Here the unfold() is able to derive that the IntersectMembership object\n",
    "# is in fact True, so no assumptions are needed:\n",
    "display(intersect_mem_01.expr)\n",
    "intersect_mem_01.unfold()"
   ]
  },
  {
   "cell_type": "code",
   "execution_count": 22,
   "metadata": {},
   "outputs": [
    {
     "data": {
      "text/html": [
       "<span style=\"font-size:20px;\"><a class=\"ProveItLink\" href=\"../__pv_it/demonstrations/01e167e2adbf38083904a933f77a8e762761ef6d0/expr.ipynb\"><img src=\"data:image/png;base64,iVBORw0KGgoAAAANSUhEUgAAAP0AAAAVBAMAAAB/DPUgAAAAMFBMVEX///+qqqru7u5EREQQEBC6\n",
       "urrc3Nx2dnYyMjKYmJiIiIhUVFQiIiJmZmbMzMwAAABQcPw9AAAAAXRSTlMAQObYZgAAAAlwSFlz\n",
       "AAAOxAAADsQBlSsOGwAAA3ZJREFUSMd9VktoE1EUvZkkk38aXFh3HRA3gjYU6sJfu7CLUiFBXPmB\n",
       "AcFvS4MKLqo0VCpqF2YlfhCClAoqtCBoNdrGz8JPpMUurNRAdv6qtlVL/dD45r7PZOYl82BmDu+d\n",
       "ew5z3313BqDa0Mm1Jgm1hrpSnnOg11TQa6wGY+Tq12qHf2mSQpzo1lECRacKu+jEVzujnlwNht4s\n",
       "F+2a3srQgVPN5L7JHmKhq8XTJYZOTIm8RCfpM3G2oFGFYAYnXtm0lDS5nSTPRxe4YBx6qY4yCQ0x\n",
       "XDVGYHQLk7fQ94HvF0XrwDXPZcMj9Pns31FgCn2YOrt/JMPXh5lgSAdPK83zPDSmuX/0pb5+WuP+\n",
       "Jv0uwDaKhmPKEpe9zfxHzIBrxu3TANvCzYXnCDySoGcBQouIvG1QJ/w/kmW1T/ZPaDBOa2tnErh/\n",
       "9JLs7zECUtTfe55v9ipJMJSH0LLY6gz3HzNuV2T/hwDjrADA9ZsBn1/29xOpoE79D4oCfisJGrs3\n",
       "x4D3BV+FvFm9dvoEB3syDAxx//s3xniAj0wdAup/RsSeM27TNsHvWZbGW0b0oOl/BKrQo38Y+Jzj\n",
       "JyHD/ZugO8kUAmQrU8w/LaweG/R2m79ZpEb9d8es/nY6r3UQ9e8Dv5hz55mCqxUCOvWPbi8UCk9x\n",
       "uY3ojSatgpG48CfFCMporNJfok+ZpylBJy9W+EcWmUJ0Dg4D9VdMgzZjV5usgld5YkvgJm/k67e+\n",
       "v40e4FbfAFowVWqW+7vTEFlmCt5W2J3L/bwnxET+aYcTgq4U7EdQt4D+2O4q999KrweVnr+yxvy9\n",
       "udx4RwrTR87SHFNwoUIHUm8K/42WgkbNDwDXEXlGMP/H7fVnoUdTENQUJp2gCEMVLATwxJlCAJP+\n",
       "A5f9Me7fIwR7dcD+pb4uFvOIApmK82/35/TOYvE9tkm4bJz/RlradXFE6iQMaiwgYmRkqvwAC+DO\n",
       "DuY/ywVziYEMGB+LcLlcTiOCvcVmcf7jtMVL9IlyeQnCT4y0F8n3BxFEWv5mEXXNvOEK4cqPtvcY\n",
       "67/hknAw9kiTkbkqTZikFeCEMKCz6gc6MFkp6AMZOfibpJQjwoB31f8QNogOR8ZakBFtd5VDpitZ\n",
       "J4QKary6/2rgHY4MM8RESrs9RKYHwQmhgrvGDxhpFqDOxGr/vfVIa070mgpDAP8B4uQMcEGtV9QA\n",
       "AAAASUVORK5CYII=\n",
       "\" style=\"display:inline;vertical-align:middle;\" /></a> <a class=\"ProveItLink\" href=\"../__pv_it/demonstrations/71f77c707f1613bd5ec2fcb40db238f8fbbf91150/proof.ipynb\" style=\"text-decoration: none\">&nbsp;&#x22A2;&nbsp;&nbsp;</a><a class=\"ProveItLink\" href=\"../__pv_it/demonstrations/0245c479438c32c889257fdcbef2e2283599c0b20/expr.ipynb\"><img src=\"data:image/png;base64,iVBORw0KGgoAAAANSUhEUgAAAS8AAAAVBAMAAADlZnWUAAAAMFBMVEX////MzMxUVFRERES6uroi\n",
       "IiIQEBCYmJhmZmYyMjLu7u52dnaqqqqIiIjc3NwAAACW8nlqAAAAAXRSTlMAQObYZgAAAAlwSFlz\n",
       "AAAOxAAADsQBlSsOGwAABBhJREFUSMeVlkloU0EYx780S5OX5DVWqoKINe5ro9RLQS2i4oIQlLgh\n",
       "WMTlmOBFPSjFIqZ6eaggisvDBbyIQVFED+aqggbFipVqUNSKaN2lpRpnX/KmogN582Vmvt/7z3zz\n",
       "zTwAKIOpnG+FoYp9Hz+9bkaQtQj+pyjseNE0IH7UHdq7vgU9VnpcjKCny/9ZVAKsssK+hx+jqgc9\n",
       "wLp8G9i/3s7ZzHp/oxk952AduSoXIyg2gJ8NbJZ2/kiCWbc6REh87bTOHs+4km05uG1VtbBr6He2\n",
       "c4BRUnCbYqx2eFCkvXCCdkbZQplB0TTqmXKGCXsF0W/UugixQT4m2EjrNd9vgmSH8cTjRmEQZ8Jq\n",
       "yhBqo+EahMsO691FOy84tDaDsDCAF0zYLIBt1HpRtPr5mMdMWKN8M2KHcD3yMBvzKJNxvMJCA1Dz\n",
       "m1iBLVDHhYXo255MYINUUHxuZr1BWNaFJpoiS1qBC/Pt9gpD7Du4LjDesm7ziqWh5rPYfTnWG6Gb\n",
       "LD2ctqugwCnXuGITAZoSfPf95EMiXmGIfQgLKFOefcIcSrwPPjEjsJb3RgkoVojQNVBB71xzKFHZ\n",
       "xI3FPHmec2GTn41T2MdQ9RYoLyJPos4qYWNLbN0fYucubNY61CdGk0oFnRZ+YUcX5vvFjDFJnp85\n",
       "LqwF+loleyMOABcmz7ntVcLkpsZZ2YczMUbyoR6AHioqyBGj3+R0YTwDQWRlFCKizZ+W7C1IXpnx\n",
       "RmRQSWFdU1t1YeGUeBXKBLCmIm8fiS5awB7SroB8WxFnNbZeHgVdWIdM2Cxt3KsIC/+WbMT7AEzY\n",
       "OeE0qkUXtoNHIgF+NNMofl+gjZ1eF7gwDrLENHwdriaslmsYBrCAHIB2iQvzOxD+LNkoAguTyR/T\n",
       "yTrL6czRhMUK8JEYdQNEGLkXYml2vIaLLJQClBYcf6Mm7B7YdB9XXCYskEw2bS6QUKDc/yTZ88i4\n",
       "zfT0KXmz0sLGaIBuwA6hRhLK62T2KTYXm2wpFdRjOGDJHVeAuGuxcVlqEahFNhuEUpJ9hfR9pUNO\n",
       "6sKiKOT4oLfX5fNpclLX5uQ5Fsbz3IMtcpGqoEhRF3a7DMT9dT6/nxBhJz7HLtMkqUvRt7RDlyvZ\n",
       "DWRLVmaSIWebXUVYzaT+yRBEOResVCoO4BsWluabuewgTpBpJPXJRa2ArPHLVWHJ7OEccd9UqfQT\n",
       "IgTy6BInFoQXfCkRq3ffQYUdTKhX24q56pVEyl2R366+nq/1W1EDBa5qV5Lufhf+ZnF2bbvx20gK\n",
       "K4ioVPUe0D3MICks6iUaLcGebxTWJb5ARUJcAu1esFNVLkZQvM3jLokmS7LPGYX18e0bF03S18L3\n",
       "gr/6S9oIsgc97pJosiTbLhmB+4pDf5dfwX3PPc1GUO+M//vm5+w/n5JLFme2G/UAAAAASUVORK5C\n",
       "YII=\n",
       "\" style=\"display:inline;vertical-align:middle;\" /></a></span>"
      ],
      "text/plain": [
       "{4 in ({1, 2, 3} intersect {1, 2, 3, 4, 5})} |- (4 in {1, 2, 3}) and (4 in {1, 2, 3, 4, 5})"
      ]
     },
     "metadata": {},
     "output_type": "display_data"
    }
   ],
   "source": [
    "# In the case of the False intersect_mem_02, we must\n",
    "# include the IntersectMembership as an assumption to produce the unfolding:\n",
    "intersect_mem_02.unfold(assumptions=[intersect_mem_02.expr])"
   ]
  },
  {
   "cell_type": "code",
   "execution_count": 23,
   "metadata": {},
   "outputs": [
    {
     "data": {
      "text/html": [
       "<span style=\"font-size:20px;\"><a class=\"ProveItLink\" href=\"../__pv_it/demonstrations/62533179b3eb6b315833dc28419bc821a5a005ac0/expr.ipynb\"><img src=\"data:image/png;base64,iVBORw0KGgoAAAANSUhEUgAAAPsAAAAVBAMAAAByEoVnAAAAMFBMVEX///9UVFQyMjK6urru7u4Q\n",
       "EBBERERmZmaqqqoiIiLc3NzMzMyYmJiIiIh2dnYAAABC1PP/AAAAAXRSTlMAQObYZgAAAAlwSFlz\n",
       "AAAOxAAADsQBlSsOGwAAA4tJREFUSMeNlk1IVFEUx884b77ezDxnhDIocEIXBkESRLQonkQFhagY\n",
       "QSA4piAWoc2i2UQN4apFThDUQMm0MlvYFERIVFObIBQm0KAI1CDCRWrmQiqYzv18H/cpXXhvDvf+\n",
       "7/ndd+655w6ARyvic7QFNmv6DbVvC7lXe1jkGI8Wz+HTaG4++Um/MmUrubNFAU5CdDvqD3sLbuIz\n",
       "StxFb/Oe8cwFbk1+78N3r3sKlU+Zbrm+fFlGJTrMfgNre9BtMIFrLnvRtRS+lvBpzaxzL2lYYW60\n",
       "YRjNsVFssboB7h07tPp9plt+AsIbwm0kwX97xlBn5NFs8sKHyhwPcY73FSHQwYK8Ae0pgY/eL57K\n",
       "mAIPMG+65fM5bU24/cTxPvqm+Hd27MdCIUWjA258YB18v6nl74JaiX+KOL1JxVvyAy0g8NG3Kj5g\n",
       "S5j9s9y4ruB9efD9kdtcFvid5DXj8fU2efgvN4waFV9D4vzjSwnkZ2C7quDJjq1yw39PjALxAM9V\n",
       "vF1+SKTXZ4mfWSxxvIFdE7lQmqxEnsK95JVx4V9XeAw/kG+es/APQMpteCF/mSzxdCwLfNDUf6Fr\n",
       "khwx3McxCBBtjZx6l6i7Xfhb1hnDzH+cc+KZ3IaXcpH5Bgg8tkGcQfrDHRDiiGcFbCQM0IWDdS1O\n",
       "PA2QTCzQ6nJ2PJdbeJu8h3W+t+OvYaRbmzGUqxDgyuNysIvsaL8T/0bkbwmCuG6j0fn1TG7hhfwF\n",
       "wBANlF6R+HOIxx35iiv2d0A736WII/isrkl8eAEeUaN2neJpkbPvfa8DL+VVk+P9yWRD5wLtOwvQ\n",
       "gBLiOpyHWkxNErp4ReAvOjJfI8YrgFkgzgMJGvxv7tSTmW865J0k+BrftATzhYs4g/GjqZcm22TQ\n",
       "7GwW+EXpz8DiQYqcfiebzdP6FSvbzr0bv1IEKrLk0+Tct6dY4NLMGof4aX7wQriU5WlWb1r7eOym\n",
       "hD/ftrVdEMH7IVKtVlNQIOMHs33y3KdZWRfyZM/uMhVZcn8Wr5wIvbhCQz8r1NKz9aLmR+y39JFB\n",
       "VnQjJQkgbUSeIetcLbnviSVVZFkjqi+Gn/C6cmLDDsCCnAH/gbdEhurBZlH8Fc/7/rysa+SKlSnZ\n",
       "Ziky7ilzqqhN9WBZEErRi9mrkRLA6hrJftltzdW63VOkvKLKLQ+WBccwgYPe/7awRoB+Kbf5f71F\n",
       "ZWwruVeb3EFuIYB/k3EUKiH8mOUAAAAASUVORK5CYII=\n",
       "\" style=\"display:inline;vertical-align:middle;\" /></a> <a class=\"ProveItLink\" href=\"../__pv_it/demonstrations/8c878b30ddaa2ce04cfd49abf63453557f4f615d0/proof.ipynb\" style=\"text-decoration: none\">&nbsp;&#x22A2;&nbsp;&nbsp;</a><a class=\"ProveItLink\" href=\"../__pv_it/demonstrations/6a0400e9dc0e17d7669b5a87a0ad35cbabbf1a470/expr.ipynb\"><img src=\"data:image/png;base64,iVBORw0KGgoAAAANSUhEUgAAASwAAAAVBAMAAAAOUc6XAAAAMFBMVEX////MzMxUVFRERES6uroi\n",
       "IiIQEBCYmJhmZmYyMjLu7u52dnaqqqqIiIjc3NwAAACW8nlqAAAAAXRSTlMAQObYZgAAAAlwSFlz\n",
       "AAAOxAAADsQBlSsOGwAAA+RJREFUSMeVll9IFEEcx393eufd3t0qhhFEZBqlEXiKPiRUPkV/CI7q\n",
       "6I89SCmBLx71UD4Y0kuKDx1hBGK1WPZWilEUEd5LQQV5FCkI2kEIhpEVvSiS/X4zs7uze7OGAzf7\n",
       "u535feY785v5zQJADhTlQRN4Ff0D1fle6+WoyneC6GTFMormWL/h7VvaiNXRPJd1c5zFB/AYfJXY\n",
       "vzCLf9+r+kwQzXdG/JvvrRXWwvN6rOtowJTLxZtTZnhwuJxu/gwu3cLxCsrRnALQ0ircU/wN9S6L\n",
       "qMVhnMdC64aJDG+FAd4YEYvkydGq7hkeHFYC5eLZ0Yz9Igk0wwaEUl6yICZk+XMQbOExWYGRtGi9\n",
       "whuHhZw1OF8MDw4rn4UsP58lySrqhqBM+ZRMpvNlBZfB/5dZha1QbMoK8sGmtotO8o5qSJ5WyMrj\n",
       "sBh25suCdngr4Q5Nq1crAf5f1m5JidYwX57EBv5e4hTeMdSr5eYwHWGFrNvQR49XUyUU+wF1ECnw\n",
       "P80hT5qtEYaLjoZ5YpA43wx1EPM4VGYtWV1jJaasMRQGMJcJxWn+dubpdcnamhVL/nEb1pNkFrEo\n",
       "hHNRfpIkzl1wciRZTg4tRcqUVWDof3BMtvk64SzWzRCk7mE7Y15wyTpmH3k8QYt0iqIMUArA04jE\n",
       "Sbs4kiwnh9YcTFlYGtBjhYw30IqHSAy/MYmFpqtXNzllsUWw9i1o1cj0sXjgpGfYe5vja0PMcbA5\n",
       "tiwXB8tVWdYNDNfQIC0q4YKi832rfVOjU9ZFM/WVQAFOJ9JPu6NFZKthU5bgaHEXx5bl4qDwrCVr\n",
       "D8rCzfWCZnKAFn9EBDxg74k6h6zoKPxgRvEyw7HcHU2IZBrKiCCanISLY8lyc3BuFRU150bZuzaA\n",
       "GuzCxnwNe7ETnlXSGMvmn0SNjM0A00DsYDlb/Gdsy8fFTHS2lyTOjCKdGgoOV4s2GwTFncd5sh17\n",
       "Cc8iRTxCBxsGnbgI5j5Kxvqpnp6EtkRSUnbeCtEku8iq5Wfa4oQzTs54Dpi3i8MsnEycZ/x5iLWb\n",
       "CaIPyrB+eZnn0aF6Q8L5dyzthACes8Dq6moaktR2sKfeHCxAC7OLrC1USRyt8rAsq6LjZop5uznM\n",
       "Cu3/naVBQO+pMu9EOAGBEinNH2mQLx9W3plG1JUk55y3n8wpfOK4fJzeKssahMvSE3Qtel2xIEIu\n",
       "HFyt150e/+HY3ipr1CmLrv19KtykaWjWMXjkzN163OWyNsf2Vlj2IBCiaH11ZCupLJq7Nma9sl01\n",
       "yt0F7m/ktTlZBcey7EHgYUrMUM+qvtevZby/5ceobTbv9Xo5qrKwm1Tm4B+OSEN6DzyuEAAAAABJ\n",
       "RU5ErkJggg==\n",
       "\" style=\"display:inline;vertical-align:middle;\" /></a></span>"
      ],
      "text/plain": [
       "{c in ({1, 2, 3} intersect {1, 2, 3, 4, 5})} |- (c in {1, 2, 3}) and (c in {1, 2, 3, 4, 5})"
      ]
     },
     "metadata": {},
     "output_type": "display_data"
    }
   ],
   "source": [
    "# In the case of the intersect_mem_03 of unknown verity, we must\n",
    "# include some ssumptions to produce the unfolding:\n",
    "intersect_mem_03.unfold(assumptions=[intersect_mem_03.expr])"
   ]
  },
  {
   "cell_type": "code",
   "execution_count": 24,
   "metadata": {},
   "outputs": [
    {
     "data": {
      "text/html": [
       "<span style=\"font-size:20px;\"><a class=\"ProveItLink\" href=\"../__pv_it/demonstrations/b626ce183f9460e2361ba896299be33d4a7b89190/expr.ipynb\"><img src=\"data:image/png;base64,iVBORw0KGgoAAAANSUhEUgAAAC8AAAAOBAMAAABN+VgMAAAAMFBMVEX///8yMjJUVFS6urru7u4Q\n",
       "EBBERERmZmaqqqoiIiLc3NzMzMyYmJiIiIh2dnYAAACZiqmYAAAAAXRSTlMAQObYZgAAAAlwSFlz\n",
       "AAAOxAAADsQBlSsOGwAAAIpJREFUGNNjYMAEXOViGxiwgWUMfJ+xSmgxMIRilYh3YNBfgE1Ck4FB\n",
       "H2TJ2zuYVs0H4pUN7AlAqnImCEyCiHP/BRLzGFgvoGvgVGBgYP+CxZYyIGZNwBTnAWpg8Ieag2xH\n",
       "HwPXAgb+AwwMBqgauB8w8DowAJ3Eh+bcleXllUDq3Zkr6J74//8jAwCCvCUhvDF/gQAAAABJRU5E\n",
       "rkJggg==\n",
       "\" style=\"display:inline;vertical-align:middle;\" /></a> <a class=\"ProveItLink\" href=\"../__pv_it/demonstrations/7433502272a805cc09edb9185e1365870423a7330/proof.ipynb\" style=\"text-decoration: none\">&nbsp;&#x22A2;&nbsp;&nbsp;</a><a class=\"ProveItLink\" href=\"../__pv_it/demonstrations/6a0400e9dc0e17d7669b5a87a0ad35cbabbf1a470/expr.ipynb\"><img src=\"data:image/png;base64,iVBORw0KGgoAAAANSUhEUgAAASwAAAAVBAMAAAAOUc6XAAAAMFBMVEX////MzMxUVFRERES6uroi\n",
       "IiIQEBCYmJhmZmYyMjLu7u52dnaqqqqIiIjc3NwAAACW8nlqAAAAAXRSTlMAQObYZgAAAAlwSFlz\n",
       "AAAOxAAADsQBlSsOGwAAA+RJREFUSMeVll9IFEEcx393eufd3t0qhhFEZBqlEXiKPiRUPkV/CI7q\n",
       "6I89SCmBLx71UD4Y0kuKDx1hBGK1WPZWilEUEd5LQQV5FCkI2kEIhpEVvSiS/X4zs7uze7OGAzf7\n",
       "u535feY785v5zQJADhTlQRN4Ff0D1fle6+WoyneC6GTFMormWL/h7VvaiNXRPJd1c5zFB/AYfJXY\n",
       "vzCLf9+r+kwQzXdG/JvvrRXWwvN6rOtowJTLxZtTZnhwuJxu/gwu3cLxCsrRnALQ0ircU/wN9S6L\n",
       "qMVhnMdC64aJDG+FAd4YEYvkydGq7hkeHFYC5eLZ0Yz9Igk0wwaEUl6yICZk+XMQbOExWYGRtGi9\n",
       "whuHhZw1OF8MDw4rn4UsP58lySrqhqBM+ZRMpvNlBZfB/5dZha1QbMoK8sGmtotO8o5qSJ5WyMrj\n",
       "sBh25suCdngr4Q5Nq1crAf5f1m5JidYwX57EBv5e4hTeMdSr5eYwHWGFrNvQR49XUyUU+wF1ECnw\n",
       "P80hT5qtEYaLjoZ5YpA43wx1EPM4VGYtWV1jJaasMRQGMJcJxWn+dubpdcnamhVL/nEb1pNkFrEo\n",
       "hHNRfpIkzl1wciRZTg4tRcqUVWDof3BMtvk64SzWzRCk7mE7Y15wyTpmH3k8QYt0iqIMUArA04jE\n",
       "Sbs4kiwnh9YcTFlYGtBjhYw30IqHSAy/MYmFpqtXNzllsUWw9i1o1cj0sXjgpGfYe5vja0PMcbA5\n",
       "tiwXB8tVWdYNDNfQIC0q4YKi832rfVOjU9ZFM/WVQAFOJ9JPu6NFZKthU5bgaHEXx5bl4qDwrCVr\n",
       "D8rCzfWCZnKAFn9EBDxg74k6h6zoKPxgRvEyw7HcHU2IZBrKiCCanISLY8lyc3BuFRU150bZuzaA\n",
       "GuzCxnwNe7ETnlXSGMvmn0SNjM0A00DsYDlb/Gdsy8fFTHS2lyTOjCKdGgoOV4s2GwTFncd5sh17\n",
       "Cc8iRTxCBxsGnbgI5j5Kxvqpnp6EtkRSUnbeCtEku8iq5Wfa4oQzTs54Dpi3i8MsnEycZ/x5iLWb\n",
       "CaIPyrB+eZnn0aF6Q8L5dyzthACes8Dq6moaktR2sKfeHCxAC7OLrC1USRyt8rAsq6LjZop5uznM\n",
       "Cu3/naVBQO+pMu9EOAGBEinNH2mQLx9W3plG1JUk55y3n8wpfOK4fJzeKssahMvSE3Qtel2xIEIu\n",
       "HFyt150e/+HY3ipr1CmLrv19KtykaWjWMXjkzN163OWyNsf2Vlj2IBCiaH11ZCupLJq7Nma9sl01\n",
       "yt0F7m/ktTlZBcey7EHgYUrMUM+qvtevZby/5ceobTbv9Xo5qrKwm1Tm4B+OSEN6DzyuEAAAAABJ\n",
       "RU5ErkJggg==\n",
       "\" style=\"display:inline;vertical-align:middle;\" /></a></span>"
      ],
      "text/plain": [
       "{c = 2} |- (c in {1, 2, 3}) and (c in {1, 2, 3, 4, 5})"
      ]
     },
     "metadata": {},
     "output_type": "display_data"
    }
   ],
   "source": [
    "# In the case of the intersect_mem_03 of unknown verity, we must\n",
    "# include some assumptions to produce the unfolding:\n",
    "intersect_mem_03.unfold(assumptions=[Equals(c, two)])"
   ]
  },
  {
   "cell_type": "markdown",
   "metadata": {},
   "source": [
    "### `IntersectMembership.conclude()`"
   ]
  },
  {
   "cell_type": "code",
   "execution_count": 25,
   "metadata": {},
   "outputs": [
    {
     "data": {
      "text/html": [
       "<a class=\"ProveItLink\" href=\"../__pv_it/demonstrations/c4dcb5c9863449c3303741a05c7a3b82e8310e830/expr.ipynb\"><img src=\"data:image/png;base64,iVBORw0KGgoAAAANSUhEUgAAAPcAAAAVBAMAAABoLmXpAAAAMFBMVEX///+YmJjMzMzc3NyIiIhU\n",
       "VFR2dna6urqqqqpmZmYyMjIiIiIQEBBERETu7u4AAAD7tRWPAAAAAXRSTlMAQObYZgAAAAlwSFlz\n",
       "AAAOxAAADsQBlSsOGwAAA39JREFUSMeVVk1IVFEUPs7T+Z83Q7ixTUIUKEGzaKIo8JGTRVhYiMhA\n",
       "MEouyhYuoiCiGXAZlBJtDHM2oW0GkZBiIJTaRAizKEKKHKIpimSsrMSFdM69775373tvAg/cN9+7\n",
       "95zvu3/nvAHwMA2bfg3qmDbq7vsyAtuwQ0l8JOsMnsR26mbd2D0fnD2N05XtiPvOo/sVWuH7WedY\n",
       "MIttS+5ZfaU4vHFG3JG1PRjR2l9KL7EenHACQXjM6fcNm18leKS8DfOfhszyiNJhmpuRbEPCjL2I\n",
       "LZ53uo27xTc8xH2Pkx8nKh7ibka0wJZTvAVbTmzZ6VKpwMCCS1yJFFrtGKgVPcRzXhdAIWQv0Yod\n",
       "eP2MOPKCS9yxDzzkHD2aPcSHvXZdOQvGF8ZDf5juZwlUFCOhrBhOXThgRvYeN7fSn94h2NmE2iw5\n",
       "ra/T4D4mo/AGxrTfJPicfmCy+3tA36zUKOXCVt7RjCCEyw88hxW+g7Wi/ovn+BOYBOi2xVMMTmC7\n",
       "kYzxwxGMwhtkpsAc7MWbTifbUKCcitKMw9aeRGiOR3EG3xNw30qlF3wsS6Ajr4priyi5CCF+OIJR\n",
       "eANjmuBMHQk4gQF0gYMLtMQ47fO+ElqZxqOYP6lpBFMA8yBW9oeBKTZ/PZOXxbUMRoTWSAv4psWz\n",
       "krfCtJLuovSszmC2sIgcUa1aKydx3yTGLYH+l3fNQ4An2xI/yml15W1Y8qJlqI2I9ebykjfITL/5\n",
       "zyV0DSxQUrIJRtRtxxqkr0PDmkjzEDtP7LILmnTmWPJqBuyy0tzcoHVR82ymdXEy+JiFeCueFpVn\n",
       "w6p9Br/t+gY0FUaBeH7SqRH4gRMGuOy8cHjba3nIBJM6iRMjAe6NYRIT7n4Q2dmFK0NTIsYzcMZK\n",
       "wh4z1V7DrbExfRPfzsIyMICXd1BJNUs8ZgSfhqCGScIYCTBvFmYz7QT9rplqmNJ63zjXrL41r4dv\n",
       "1hSvdu3ubYUSdlcv4uUn4B9otuoSu51fhbjeO5g6BpFnwBkJcG8WbzE1DjSLKhKRP8NX35nldU6p\n",
       "acGKE7hLmN1x2wXsMBsx9iOen9sWRdzvAv8Tz7qAHeZXy+u4p3gsadYgZp9cQBQM27qtb7nhBFKY\n",
       "jah+amVPcb1s1iBmhgvw9JCtQ3xEG8EJ7DAJYe6wJXoZfU4O99f9Dzfk+l5r9/Lb+Rt1kLg7Af4B\n",
       "RF8S4kh2phMAAAAASUVORK5CYII=\n",
       "\" style=\"display:inline;vertical-align:middle;\" /></a>"
      ],
      "text/plain": [
       "b in ({a, b, c} intersect {a, b, c, d, e})"
      ]
     },
     "metadata": {},
     "output_type": "display_data"
    }
   ],
   "source": [
    "intersect_mem_01.expr"
   ]
  },
  {
   "cell_type": "code",
   "execution_count": 26,
   "metadata": {},
   "outputs": [
    {
     "data": {
      "text/html": [
       "<span style=\"font-size:20px;\"> <a class=\"ProveItLink\" href=\"../__pv_it/demonstrations/82d4cca64c740756e2f42501ccb1ae9a73fa5c2e0/proof.ipynb\" style=\"text-decoration: none\">&nbsp;&#x22A2;&nbsp;&nbsp;</a><a class=\"ProveItLink\" href=\"../__pv_it/demonstrations/c4dcb5c9863449c3303741a05c7a3b82e8310e830/expr.ipynb\"><img src=\"data:image/png;base64,iVBORw0KGgoAAAANSUhEUgAAAPcAAAAVBAMAAABoLmXpAAAAMFBMVEX///+YmJjMzMzc3NyIiIhU\n",
       "VFR2dna6urqqqqpmZmYyMjIiIiIQEBBERETu7u4AAAD7tRWPAAAAAXRSTlMAQObYZgAAAAlwSFlz\n",
       "AAAOxAAADsQBlSsOGwAAA39JREFUSMeVVk1IVFEUPs7T+Z83Q7ixTUIUKEGzaKIo8JGTRVhYiMhA\n",
       "MEouyhYuoiCiGXAZlBJtDHM2oW0GkZBiIJTaRAizKEKKHKIpimSsrMSFdM69775373tvAg/cN9+7\n",
       "95zvu3/nvAHwMA2bfg3qmDbq7vsyAtuwQ0l8JOsMnsR26mbd2D0fnD2N05XtiPvOo/sVWuH7WedY\n",
       "MIttS+5ZfaU4vHFG3JG1PRjR2l9KL7EenHACQXjM6fcNm18leKS8DfOfhszyiNJhmpuRbEPCjL2I\n",
       "LZ53uo27xTc8xH2Pkx8nKh7ibka0wJZTvAVbTmzZ6VKpwMCCS1yJFFrtGKgVPcRzXhdAIWQv0Yod\n",
       "eP2MOPKCS9yxDzzkHD2aPcSHvXZdOQvGF8ZDf5juZwlUFCOhrBhOXThgRvYeN7fSn94h2NmE2iw5\n",
       "ra/T4D4mo/AGxrTfJPicfmCy+3tA36zUKOXCVt7RjCCEyw88hxW+g7Wi/ovn+BOYBOi2xVMMTmC7\n",
       "kYzxwxGMwhtkpsAc7MWbTifbUKCcitKMw9aeRGiOR3EG3xNw30qlF3wsS6Ajr4priyi5CCF+OIJR\n",
       "eANjmuBMHQk4gQF0gYMLtMQ47fO+ElqZxqOYP6lpBFMA8yBW9oeBKTZ/PZOXxbUMRoTWSAv4psWz\n",
       "krfCtJLuovSszmC2sIgcUa1aKydx3yTGLYH+l3fNQ4An2xI/yml15W1Y8qJlqI2I9ebykjfITL/5\n",
       "zyV0DSxQUrIJRtRtxxqkr0PDmkjzEDtP7LILmnTmWPJqBuyy0tzcoHVR82ymdXEy+JiFeCueFpVn\n",
       "w6p9Br/t+gY0FUaBeH7SqRH4gRMGuOy8cHjba3nIBJM6iRMjAe6NYRIT7n4Q2dmFK0NTIsYzcMZK\n",
       "wh4z1V7DrbExfRPfzsIyMICXd1BJNUs8ZgSfhqCGScIYCTBvFmYz7QT9rplqmNJ63zjXrL41r4dv\n",
       "1hSvdu3ubYUSdlcv4uUn4B9otuoSu51fhbjeO5g6BpFnwBkJcG8WbzE1DjSLKhKRP8NX35nldU6p\n",
       "acGKE7hLmN1x2wXsMBsx9iOen9sWRdzvAv8Tz7qAHeZXy+u4p3gsadYgZp9cQBQM27qtb7nhBFKY\n",
       "jah+amVPcb1s1iBmhgvw9JCtQ3xEG8EJ7DAJYe6wJXoZfU4O99f9Dzfk+l5r9/Lb+Rt1kLg7Af4B\n",
       "RF8S4kh2phMAAAAASUVORK5CYII=\n",
       "\" style=\"display:inline;vertical-align:middle;\" /></a></span>"
      ],
      "text/plain": [
       "|- b in ({a, b, c} intersect {a, b, c, d, e})"
      ]
     },
     "metadata": {},
     "output_type": "display_data"
    }
   ],
   "source": [
    "intersect_mem_01.conclude(assumptions=[InSet(b, set_abc), InSet(b, set_abcde)])"
   ]
  },
  {
   "cell_type": "code",
   "execution_count": 27,
   "metadata": {},
   "outputs": [
    {
     "data": {
      "text/html": [
       "<a class=\"ProveItLink\" href=\"../__pv_it/demonstrations/01e167e2adbf38083904a933f77a8e762761ef6d0/expr.ipynb\"><img src=\"data:image/png;base64,iVBORw0KGgoAAAANSUhEUgAAAP0AAAAVBAMAAAB/DPUgAAAAMFBMVEX///+qqqru7u5EREQQEBC6\n",
       "urrc3Nx2dnYyMjKYmJiIiIhUVFQiIiJmZmbMzMwAAABQcPw9AAAAAXRSTlMAQObYZgAAAAlwSFlz\n",
       "AAAOxAAADsQBlSsOGwAAA3ZJREFUSMd9VktoE1EUvZkkk38aXFh3HRA3gjYU6sJfu7CLUiFBXPmB\n",
       "AcFvS4MKLqo0VCpqF2YlfhCClAoqtCBoNdrGz8JPpMUurNRAdv6qtlVL/dD45r7PZOYl82BmDu+d\n",
       "ew5z3313BqDa0Mm1Jgm1hrpSnnOg11TQa6wGY+Tq12qHf2mSQpzo1lECRacKu+jEVzujnlwNht4s\n",
       "F+2a3srQgVPN5L7JHmKhq8XTJYZOTIm8RCfpM3G2oFGFYAYnXtm0lDS5nSTPRxe4YBx6qY4yCQ0x\n",
       "XDVGYHQLk7fQ94HvF0XrwDXPZcMj9Pns31FgCn2YOrt/JMPXh5lgSAdPK83zPDSmuX/0pb5+WuP+\n",
       "Jv0uwDaKhmPKEpe9zfxHzIBrxu3TANvCzYXnCDySoGcBQouIvG1QJ/w/kmW1T/ZPaDBOa2tnErh/\n",
       "9JLs7zECUtTfe55v9ipJMJSH0LLY6gz3HzNuV2T/hwDjrADA9ZsBn1/29xOpoE79D4oCfisJGrs3\n",
       "x4D3BV+FvFm9dvoEB3syDAxx//s3xniAj0wdAup/RsSeM27TNsHvWZbGW0b0oOl/BKrQo38Y+Jzj\n",
       "JyHD/ZugO8kUAmQrU8w/LaweG/R2m79ZpEb9d8es/nY6r3UQ9e8Dv5hz55mCqxUCOvWPbi8UCk9x\n",
       "uY3ojSatgpG48CfFCMporNJfok+ZpylBJy9W+EcWmUJ0Dg4D9VdMgzZjV5usgld5YkvgJm/k67e+\n",
       "v40e4FbfAFowVWqW+7vTEFlmCt5W2J3L/bwnxET+aYcTgq4U7EdQt4D+2O4q999KrweVnr+yxvy9\n",
       "udx4RwrTR87SHFNwoUIHUm8K/42WgkbNDwDXEXlGMP/H7fVnoUdTENQUJp2gCEMVLATwxJlCAJP+\n",
       "A5f9Me7fIwR7dcD+pb4uFvOIApmK82/35/TOYvE9tkm4bJz/RlradXFE6iQMaiwgYmRkqvwAC+DO\n",
       "DuY/ywVziYEMGB+LcLlcTiOCvcVmcf7jtMVL9IlyeQnCT4y0F8n3BxFEWv5mEXXNvOEK4cqPtvcY\n",
       "67/hknAw9kiTkbkqTZikFeCEMKCz6gc6MFkp6AMZOfibpJQjwoB31f8QNogOR8ZakBFtd5VDpitZ\n",
       "J4QKary6/2rgHY4MM8RESrs9RKYHwQmhgrvGDxhpFqDOxGr/vfVIa070mgpDAP8B4uQMcEGtV9QA\n",
       "AAAASUVORK5CYII=\n",
       "\" style=\"display:inline;vertical-align:middle;\" /></a>"
      ],
      "text/plain": [
       "4 in ({1, 2, 3} intersect {1, 2, 3, 4, 5})"
      ]
     },
     "metadata": {},
     "output_type": "display_data"
    }
   ],
   "source": [
    "# Recall the False IntersectMembership object:\n",
    "intersect_mem_02.expr"
   ]
  },
  {
   "cell_type": "code",
   "execution_count": 28,
   "metadata": {},
   "outputs": [
    {
     "name": "stdout",
     "output_type": "stream",
     "text": [
      "ProofFailure (InstantiationFailure): Proof step failed:\n",
      "Attempting to instantiate |- forall_{m in NaturalPos} [forall_{x, A_{1}, A_{2}, ..., A_{m} | (x in A_{1}), (x in A_{2}), ..., (x in A_{m})} (x in (A_{1} intersect  A_{2} intersect  ... intersect  A_{m}))] with {m: 2, x: 4, A: ({1, 2, 3}, {1, 2, 3, 4, 5})}:\n",
      "Unsatisfied condition: 4 in {1, 2, 3}. For debugging purposes, this is accessible via Instantiation.unsatisfied_condition with applicable assumptions in Instantiation.condition_assumptions.\n"
     ]
    }
   ],
   "source": [
    "# We should not be able to conclude() such a False IntersectMembership object:\n",
    "try:\n",
    "    intersect_mem_02.conclude()\n",
    "    assert False, \"Expecting a ProofFailure (InstantiationFailure); should not get this far!\"\n",
    "except InstantiationFailure as the_error:\n",
    "    print(\"ProofFailure (InstantiationFailure): {}\".format(the_error))"
   ]
  },
  {
   "cell_type": "code",
   "execution_count": 29,
   "metadata": {},
   "outputs": [
    {
     "data": {
      "text/html": [
       "<a class=\"ProveItLink\" href=\"../__pv_it/demonstrations/62533179b3eb6b315833dc28419bc821a5a005ac0/expr.ipynb\"><img src=\"data:image/png;base64,iVBORw0KGgoAAAANSUhEUgAAAPsAAAAVBAMAAAByEoVnAAAAMFBMVEX///9UVFQyMjK6urru7u4Q\n",
       "EBBERERmZmaqqqoiIiLc3NzMzMyYmJiIiIh2dnYAAABC1PP/AAAAAXRSTlMAQObYZgAAAAlwSFlz\n",
       "AAAOxAAADsQBlSsOGwAAA4tJREFUSMeNlk1IVFEUx884b77ezDxnhDIocEIXBkESRLQonkQFhagY\n",
       "QSA4piAWoc2i2UQN4apFThDUQMm0MlvYFERIVFObIBQm0KAI1CDCRWrmQiqYzv18H/cpXXhvDvf+\n",
       "7/ndd+655w6ARyvic7QFNmv6DbVvC7lXe1jkGI8Wz+HTaG4++Um/MmUrubNFAU5CdDvqD3sLbuIz\n",
       "StxFb/Oe8cwFbk1+78N3r3sKlU+Zbrm+fFlGJTrMfgNre9BtMIFrLnvRtRS+lvBpzaxzL2lYYW60\n",
       "YRjNsVFssboB7h07tPp9plt+AsIbwm0kwX97xlBn5NFs8sKHyhwPcY73FSHQwYK8Ae0pgY/eL57K\n",
       "mAIPMG+65fM5bU24/cTxPvqm+Hd27MdCIUWjA258YB18v6nl74JaiX+KOL1JxVvyAy0g8NG3Kj5g\n",
       "S5j9s9y4ruB9efD9kdtcFvid5DXj8fU2efgvN4waFV9D4vzjSwnkZ2C7quDJjq1yw39PjALxAM9V\n",
       "vF1+SKTXZ4mfWSxxvIFdE7lQmqxEnsK95JVx4V9XeAw/kG+es/APQMpteCF/mSzxdCwLfNDUf6Fr\n",
       "khwx3McxCBBtjZx6l6i7Xfhb1hnDzH+cc+KZ3IaXcpH5Bgg8tkGcQfrDHRDiiGcFbCQM0IWDdS1O\n",
       "PA2QTCzQ6nJ2PJdbeJu8h3W+t+OvYaRbmzGUqxDgyuNysIvsaL8T/0bkbwmCuG6j0fn1TG7hhfwF\n",
       "wBANlF6R+HOIxx35iiv2d0A736WII/isrkl8eAEeUaN2neJpkbPvfa8DL+VVk+P9yWRD5wLtOwvQ\n",
       "gBLiOpyHWkxNErp4ReAvOjJfI8YrgFkgzgMJGvxv7tSTmW865J0k+BrftATzhYs4g/GjqZcm22TQ\n",
       "7GwW+EXpz8DiQYqcfiebzdP6FSvbzr0bv1IEKrLk0+Tct6dY4NLMGof4aX7wQriU5WlWb1r7eOym\n",
       "hD/ftrVdEMH7IVKtVlNQIOMHs33y3KdZWRfyZM/uMhVZcn8Wr5wIvbhCQz8r1NKz9aLmR+y39JFB\n",
       "VnQjJQkgbUSeIetcLbnviSVVZFkjqi+Gn/C6cmLDDsCCnAH/gbdEhurBZlH8Fc/7/rysa+SKlSnZ\n",
       "Ziky7ilzqqhN9WBZEErRi9mrkRLA6hrJftltzdW63VOkvKLKLQ+WBccwgYPe/7awRoB+Kbf5f71F\n",
       "ZWwruVeb3EFuIYB/k3EUKiH8mOUAAAAASUVORK5CYII=\n",
       "\" style=\"display:inline;vertical-align:middle;\" /></a>"
      ],
      "text/plain": [
       "c in ({1, 2, 3} intersect {1, 2, 3, 4, 5})"
      ]
     },
     "metadata": {},
     "output_type": "display_data"
    }
   ],
   "source": [
    "# Recall this IntersectMembership object of unknown verity (where 'c' is an unassigned variable):\n",
    "intersect_mem_03.expr"
   ]
  },
  {
   "cell_type": "code",
   "execution_count": 30,
   "metadata": {},
   "outputs": [
    {
     "name": "stdout",
     "output_type": "stream",
     "text": [
      "ProofFailure (InstantiationFailure): Proof step failed:\n",
      "Attempting to instantiate |- forall_{m in NaturalPos} [forall_{x, A_{1}, A_{2}, ..., A_{m} | (x in A_{1}), (x in A_{2}), ..., (x in A_{m})} (x in (A_{1} intersect  A_{2} intersect  ... intersect  A_{m}))] with {m: 2, x: c, A: ({1, 2, 3}, {1, 2, 3, 4, 5})}:\n",
      "Unsatisfied condition: c in {1, 2, 3}. For debugging purposes, this is accessible via Instantiation.unsatisfied_condition with applicable assumptions in Instantiation.condition_assumptions.\n"
     ]
    }
   ],
   "source": [
    "# We should not be able to conclude() such an IntersectMembership object:\n",
    "try:\n",
    "    intersect_mem_03.conclude()\n",
    "    assert False, \"Expecting a ProofFailure (InstantiationFailure); should not get this far!\"\n",
    "except InstantiationFailure as the_error:\n",
    "    print(\"ProofFailure (InstantiationFailure): {}\".format(the_error))"
   ]
  },
  {
   "cell_type": "code",
   "execution_count": 31,
   "metadata": {},
   "outputs": [
    {
     "data": {
      "text/html": [
       "<span style=\"font-size:20px;\"><a class=\"ProveItLink\" href=\"../__pv_it/demonstrations/526a7134e8ade6a248637ee37a1968395a2a30770/expr.ipynb\"><img src=\"data:image/png;base64,iVBORw0KGgoAAAANSUhEUgAAAC8AAAAOBAMAAABN+VgMAAAAMFBMVEX///8yMjJUVFS6urru7u4Q\n",
       "EBBERERmZmaqqqoiIiLc3NzMzMyYmJiIiIh2dnYAAACZiqmYAAAAAXRSTlMAQObYZgAAAAlwSFlz\n",
       "AAAOxAAADsQBlSsOGwAAAINJREFUGNNjYMAEXO/KDBiwAXcGjh9YJe43sHzEKmFqwIBdgoGB4w+I\n",
       "fHtnA7qE5QEgsbKBPQFIVc4EgUlg8b1KIKXzGFgvYBgFdBX7F2yWxDswsCZgiO5mYMhvYPCHmoNk\n",
       "x38HkAQ/0AFoARAENgroJD40556B+OPdmStodjCXAwMRAGT4KDHvAqe/AAAAAElFTkSuQmCC\n",
       "\" style=\"display:inline;vertical-align:middle;\" /></a> <a class=\"ProveItLink\" href=\"../__pv_it/demonstrations/e8e945306e2450e3bc7b3559bb36ce570692a7370/proof.ipynb\" style=\"text-decoration: none\">&nbsp;&#x22A2;&nbsp;&nbsp;</a><a class=\"ProveItLink\" href=\"../__pv_it/demonstrations/62533179b3eb6b315833dc28419bc821a5a005ac0/expr.ipynb\"><img src=\"data:image/png;base64,iVBORw0KGgoAAAANSUhEUgAAAPsAAAAVBAMAAAByEoVnAAAAMFBMVEX///9UVFQyMjK6urru7u4Q\n",
       "EBBERERmZmaqqqoiIiLc3NzMzMyYmJiIiIh2dnYAAABC1PP/AAAAAXRSTlMAQObYZgAAAAlwSFlz\n",
       "AAAOxAAADsQBlSsOGwAAA4tJREFUSMeNlk1IVFEUx884b77ezDxnhDIocEIXBkESRLQonkQFhagY\n",
       "QSA4piAWoc2i2UQN4apFThDUQMm0MlvYFERIVFObIBQm0KAI1CDCRWrmQiqYzv18H/cpXXhvDvf+\n",
       "7/ndd+655w6ARyvic7QFNmv6DbVvC7lXe1jkGI8Wz+HTaG4++Um/MmUrubNFAU5CdDvqD3sLbuIz\n",
       "StxFb/Oe8cwFbk1+78N3r3sKlU+Zbrm+fFlGJTrMfgNre9BtMIFrLnvRtRS+lvBpzaxzL2lYYW60\n",
       "YRjNsVFssboB7h07tPp9plt+AsIbwm0kwX97xlBn5NFs8sKHyhwPcY73FSHQwYK8Ae0pgY/eL57K\n",
       "mAIPMG+65fM5bU24/cTxPvqm+Hd27MdCIUWjA258YB18v6nl74JaiX+KOL1JxVvyAy0g8NG3Kj5g\n",
       "S5j9s9y4ruB9efD9kdtcFvid5DXj8fU2efgvN4waFV9D4vzjSwnkZ2C7quDJjq1yw39PjALxAM9V\n",
       "vF1+SKTXZ4mfWSxxvIFdE7lQmqxEnsK95JVx4V9XeAw/kG+es/APQMpteCF/mSzxdCwLfNDUf6Fr\n",
       "khwx3McxCBBtjZx6l6i7Xfhb1hnDzH+cc+KZ3IaXcpH5Bgg8tkGcQfrDHRDiiGcFbCQM0IWDdS1O\n",
       "PA2QTCzQ6nJ2PJdbeJu8h3W+t+OvYaRbmzGUqxDgyuNysIvsaL8T/0bkbwmCuG6j0fn1TG7hhfwF\n",
       "wBANlF6R+HOIxx35iiv2d0A736WII/isrkl8eAEeUaN2neJpkbPvfa8DL+VVk+P9yWRD5wLtOwvQ\n",
       "gBLiOpyHWkxNErp4ReAvOjJfI8YrgFkgzgMJGvxv7tSTmW865J0k+BrftATzhYs4g/GjqZcm22TQ\n",
       "7GwW+EXpz8DiQYqcfiebzdP6FSvbzr0bv1IEKrLk0+Tct6dY4NLMGof4aX7wQriU5WlWb1r7eOym\n",
       "hD/ftrVdEMH7IVKtVlNQIOMHs33y3KdZWRfyZM/uMhVZcn8Wr5wIvbhCQz8r1NKz9aLmR+y39JFB\n",
       "VnQjJQkgbUSeIetcLbnviSVVZFkjqi+Gn/C6cmLDDsCCnAH/gbdEhurBZlH8Fc/7/rysa+SKlSnZ\n",
       "Ziky7ilzqqhN9WBZEErRi9mrkRLA6hrJftltzdW63VOkvKLKLQ+WBccwgYPe/7awRoB+Kbf5f71F\n",
       "ZWwruVeb3EFuIYB/k3EUKiH8mOUAAAAASUVORK5CYII=\n",
       "\" style=\"display:inline;vertical-align:middle;\" /></a></span>"
      ],
      "text/plain": [
       "{c = 3} |- c in ({1, 2, 3} intersect {1, 2, 3, 4, 5})"
      ]
     },
     "metadata": {},
     "output_type": "display_data"
    }
   ],
   "source": [
    "# But if we supply some extra information about 'c', we can conclude:\n",
    "intersect_mem_03.conclude(assumptions=[Equals(c, three)])"
   ]
  },
  {
   "cell_type": "markdown",
   "metadata": {},
   "source": [
    "### Testing the `IntersectNonmembership` class methods\n",
    "<br/>\n",
    "The `IntersectNonmembership` class currently has the following class methods:<br/>\n",
    "    <div style=\"width: 75%; border: 1px solid green; padding: 5px; margin: 20px; background-color: gainsboro; font-family:courier\">definition(self, **defaults_config)<br/>\n",
    "    conclude(self, **defaults_config)</div>\n",
    "</font>"
   ]
  },
  {
   "cell_type": "markdown",
   "metadata": {},
   "source": [
    "A few IntersectNonmembership objects for convenience:"
   ]
  },
  {
   "cell_type": "code",
   "execution_count": 32,
   "metadata": {},
   "outputs": [
    {
     "data": {
      "text/html": [
       "<a class=\"ProveItLink\" href=\"../__pv_it/demonstrations/c5dd3638fb9c35cef736a3461ad67f4b06c4d1c30/expr.ipynb\"><img src=\"data:image/png;base64,iVBORw0KGgoAAAANSUhEUgAAAP0AAAAVCAMAAAC6/BghAAAARVBMVEX///8/Pz9vb28YGBgJCQkd\n",
       "HR0NDQ0WFhaqqqru7u5EREQQEBC6urrc3Nx2dnYyMjKYmJiIiIhUVFQiIiJmZmbMzMwAAABdXBgn\n",
       "AAAAAXRSTlMAQObYZgAAAAlwSFlzAAAOxAAADsQBlSsOGwAAA01JREFUWMOtWNm2pCAMZNYrIPvy\n",
       "/586iKghRvD2GV66RahUQRKCjD03RT/ydWUfNLWoN8M+RP82hykZw+GTW9qvWflHppMX84kfow8t\n",
       "12VVHYfVgfeRYgufFt1+88EuBcxTxWhEQn1aR9G2U/gZzwH6DLyj3suR2ZjQ8E4Ozp7vA8ErQlhu\n",
       "2h8d9mcfTcb8xPY+d2x4rJoWOPdo1hsRe+7P6FNw2JCcIHPQnCEOp2s7Sn1HNVqGZzus3tdYkrLz\n",
       "5I0bz+auPgWnGE+xi69n9Ck47EdyPGnBNgdJ1vTDnQjh6y9ElXN+xcG2Dp9hQlnltluE+nSoVlD+\n",
       "M/oUHEBjObR6JncLmnXDV+NKv4cxtpgX6n195XO6R7O9qb/grXu19zNwAMLeqTd1YvFAOHzfDN6t\n",
       "aNQv1LeAybhnDfZmGcQVTFEz9AH45bjqpt46faw24KC3UapMh8ONwjtyLFNdBzPml7JDHc4flp2k\n",
       "1Ctge4I+Aj/hkJwtzxco1RIm4GBNdRSknjjsw5FXlbST3fHUObZPVyA9k+pn6CPwy+9v6vclCJjD\n",
       "UhbCqn54kqG0P79DECDnrI2oWdmQXxRUNMg2lHuzPKufoo/B24aqB/WxJcyLQ8pMVV8Cw3k1ofsF\n",
       "bepLjF71GsXPYrOp+qU4DvxLHrX3E/QJ+A6G5WwDzK4+IQ6rZKvfWpZed7wCcrnTwFWvEfxqQajg\n",
       "oZTroEZwATPouB+hT8CbopucsnXtuEDVJFsODhIwcGX5VlT5CveclS+WqZrcjsuzbwduzqmnWW+A\n",
       "PgZHxYGHU/eFkHvYAA72CKQMI6rEBU6k2t/56T2QrlpLhbi1APusfTjvZ+ox+hgcFXxVzjU11lzP\n",
       "MYd2jEeRs7/OEu7FL+R2KWB+3pe7g9/MH/eHchjXZmBf8aJ4XkSgetFX61P0CXgAl6JDztlXLkg+\n",
       "3up8Fh7u0j9/lFI3wOUM6V4rnfFD5H6qj5o7H0EgvTVI9V0WVHh1s4dXAoqfpmSw/6Ves48N6qGF\n",
       "aB8+gRDnqlD3eq15riO+0DgKN5rpx4036G8NkiRODko87cBCQLXB6nadpmyQ4rm0009Pb9DfGnRD\n",
       "DuLp2xb5CUa5I4X45aNvavrNvE/Rv83BbeL/AUNaPQXlXgw9AAAAAElFTkSuQmCC\n",
       "\" style=\"display:inline;vertical-align:middle;\" /></a>"
      ],
      "text/plain": [
       "4 not-in ({1, 2, 3} intersect {1, 2, 3, 4, 5})"
      ]
     },
     "metadata": {},
     "output_type": "display_data"
    }
   ],
   "source": [
    "# an IntersectNonmembership object that is True\n",
    "intersect_nonmem_00 = Intersect(set_123, set_12345).nonmembership_object(four)\n",
    "intersect_nonmem_00.expr"
   ]
  },
  {
   "cell_type": "code",
   "execution_count": 33,
   "metadata": {},
   "outputs": [
    {
     "data": {
      "text/html": [
       "<a class=\"ProveItLink\" href=\"../__pv_it/demonstrations/0b68cc1086b1a430e0b9b4538b3af1b7c742bbd10/expr.ipynb\"><img src=\"data:image/png;base64,iVBORw0KGgoAAAANSUhEUgAAAPkAAAAVCAMAAACzF7hbAAAAP1BMVEX///9jY2MJCQkdHR0NDQ0W\n",
       "FhYyMjLc3NyIiIiYmJgiIiJERES6urqqqqoQEBDMzMxUVFTu7u52dnZmZmYAAADlp+XQAAAAAXRS\n",
       "TlMAQObYZgAAAAlwSFlzAAAOxAAADsQBlSsOGwAAAx1JREFUWMOlWFmCpCAMZbpnIOwEvP9ZR1GR\n",
       "VS3Kj24rkuQlZANCxg8b/ESlyKcP0+zNshnRn0N4hEIx/wX6fKEKP9drnXzmmhP9MQQFGTV4j83C\n",
       "/Jf258syBIfSiLFi6Z6gTYsucVMTHiAATyTvrNHVspAHHtK09A4BDeNvFSN3VAZ1t+K96OpZ9BOE\n",
       "K5yNVk0wFjACfwVvqLNmtAIYQRuKjJoWXT5qGDpJAQ+jtSDFv7+CXgTzCt5YZ8VoT4tZbvq0aPIy\n",
       "dK4vBrtrFQUkzuYZSF/Bu920/OMlnAP5XvTbvLiEUL5nnBEuWx33AWkR7L7lZs4Dg1KnA3BVVHoA\n",
       "bmvs16sN5HvRF/SV0VZ5geuygJXl/qh1S6GFsmovThftTjhcosy6TBYxiMvqM1zydsnECiPImEGm\n",
       "ZznLKv606BSsLSNRYnWO3XfugsB3VWwpPEfbZi6SG5nZnYDxfxBtVzK5z4RPFJbtRdfyedGne3bG\n",
       "IlrZstFAkRKCNofYoh8aIcTvz/rn8qdRJ056vIUlaa/2bMloIfc/OqrHln8leswoFwDwqoZgl071\n",
       "wM1gX+bKafmalkf3MzLGYNGQo06Vp5nJg9FTdbfn34gmQ8almJ8SBGV605Wom3ke7cdijKWBL23L\n",
       "zfcC8wKST2j9PJ8WnZNqRugOiXpHYEohAERVjUFCVYAxQnGUbMeAU9xWLvZcS5Q9c6Oj/WOFmxSN\n",
       "yfIO4xH7+85dELjc8746IFHtbNU/XN16Nl9oEUiIdffo0isYGUhG2Uuvv+lqreWfik6ULmMs4hhY\n",
       "ldZ7my4LXKwDP9WZyYoaHjrwljnYjBICD5o/ptyTQrznHLCpJleOYtvPPxWdKD1GAtuyZpIRcbND\n",
       "c4jif7xca3vWHoS9G6Y0PlNeTGGzonVvsO0Rr1FpfdGOUH1/Mi9G/C48/4IyabmfU9YnJgVb/AhZ\n",
       "zqnRI7JztD3Hp3wUOyMWnin1hNG9mJgT3VPWJ54QooEcQnM543XvaiANRc3XVklHLRr+eF80Jxq6\n",
       "XiQ3EOToPqp7eZJOECy410fli9u/YZoS/TkE2Az/D85JMcdbuUdPAAAAAElFTkSuQmCC\n",
       "\" style=\"display:inline;vertical-align:middle;\" /></a>"
      ],
      "text/plain": [
       "f not-in ({a, b, c} intersect {a, b, c, d, e})"
      ]
     },
     "metadata": {},
     "output_type": "display_data"
    }
   ],
   "source": [
    "# an IntersectNonmembership object that is (possibly) true\n",
    "intersect_nonmem_01 = Intersect(set_abc, set_abcde).nonmembership_object(f)\n",
    "intersect_nonmem_01.expr"
   ]
  },
  {
   "cell_type": "code",
   "execution_count": 34,
   "metadata": {},
   "outputs": [
    {
     "data": {
      "text/html": [
       "<a class=\"ProveItLink\" href=\"../__pv_it/demonstrations/5ad66df7b9d964e336b836c4a998dba0722217560/expr.ipynb\"><img src=\"data:image/png;base64,iVBORw0KGgoAAAANSUhEUgAAAPwAAAAVCAMAAABVPnMfAAAARVBMVEX///8/Pz9vb28YGBgJCQkd\n",
       "HR0NDQ0WFhaqqqqYmJiIiIgiIiLu7u4QEBBUVFS6urp2dnbMzMxEREQyMjJmZmbc3NwAAAD+Oi4s\n",
       "AAAAAXRSTlMAQObYZgAAAAlwSFlzAAAOxAAADsQBlSsOGwAAAzpJREFUWMOtmFmSpSAQRemxZJR5\n",
       "/0ttUZQEUqBeNB/1SkJO3pvMEvJaAv4o9p18UMIWVl77kP5tDTMxTsAntuVft4uPIhtl5w0/pg8j\n",
       "n1kNlYadXTnw3lmDiYVPm86/8RZneCsTIwWtvc2dadVM5oA+g1fSffUoo3M88x4NjCaAPf7o2CM8\n",
       "rBIu/6P59ay8i608hCT8aWmDbe9ClbO+jvtOn8Jh4XWWuYxcC9JoSANbnaNfyp5QZYKStjFrzWMk\n",
       "lqSJ6HrzhrNAhPHV5HqnT+GwvjGv0AjUpzGRoqgIVwBmOf/6C6FyLg8l7TL1FWLe3KYDdP9On8IB\n",
       "mroV80QKos4nFct02h1LIwLOr80tmO9Jz0ymnfmCp2yp52dwACFr5t3dkMcyu86uEFU+vV4w35Hu\n",
       "ZHLaBQaTCq5OM/oAXoZt6MxTpu9kAw06v2ViSb8LbX+AJBHvxvIg6apg6g7MJGY+AKUT+gj+4A6p\n",
       "jfm0vYW8VgIN1PXLo0M2eX6vqEHSSd8obAO7mgewMKPmZ/QRvAz6zvyVAd5q2K48eAuSKflR/vzm\n",
       "HFTKPet0OxnKg6R2tUpbmNvezU/pY3juzvBi3ue1smgw8dpw4eZ5RtB1OrP5Y36WUxomj7ZRzTko\n",
       "7b3RF3dYz0/oE/gFO+dFbd66y7xpNOzyPryFUMnizXh7+OWUhshrSGkfOl/K+jbQAp/zI/oEng2p\n",
       "VKJUGvRc3iiaMyTZjnpzvsdKzo/k7b6ZMOx9PS4iC+mpkwqMTD1d8Ab0Mbw5FCjY9MqDvOYM0EAt\n",
       "CdynArr6mBPtEqpVL09fk6icsAqp1FH6ss/PzLf0Mbw55kVbNfXnKi9aDcf+zeNZQGOh7K9mzBne\n",
       "ylPquC6oFP2+MkDSU3eMIf/cPaB5W5/Qp/QJnIN7kLcxKgbqjjuR8t3ZnnD88vzzx3G+5TCZ3PQn\n",
       "pGfuIKs+Voe1nb+BkFYDYnUlQuArN/n7FvAmT2MuyP8yr8nHAfUwgqf4Bw9kP7WhP6XlYcuQ7zEM\n",
       "43o3/ZaxQl8NiIp4NAT7kv8NIeV3Q3d9xkKg3oWk0+9MK/TVgGyowb58yEI/uAR2rx5q++j7mV5p\n",
       "9yn92xpY8v4POvU8svPlcisAAAAASUVORK5CYII=\n",
       "\" style=\"display:inline;vertical-align:middle;\" /></a>"
      ],
      "text/plain": [
       "2 not-in ({1, 2, 3} intersect {1, 2, 3, 4, 5})"
      ]
     },
     "metadata": {},
     "output_type": "display_data"
    }
   ],
   "source": [
    "# an IntersectMembership object that is clearly False\n",
    "intersect_nonmem_02 = Intersect(set_123, set_12345).nonmembership_object(two)\n",
    "intersect_nonmem_02.expr"
   ]
  },
  {
   "cell_type": "code",
   "execution_count": 35,
   "metadata": {},
   "outputs": [
    {
     "data": {
      "text/html": [
       "<a class=\"ProveItLink\" href=\"../__pv_it/demonstrations/6351f2f1f364e02a8adad4db14259f54096629ce0/expr.ipynb\"><img src=\"data:image/png;base64,iVBORw0KGgoAAAANSUhEUgAAAPsAAAAVCAMAAAC34mhmAAAAP1BMVEX///9jY2MJCQkdHR0NDQ0W\n",
       "FhZUVFQyMjK6urru7u4QEBBERERmZmaqqqoiIiLc3NzMzMyYmJiIiIh2dnYAAABSvsfBAAAAAXRS\n",
       "TlMAQObYZgAAAAlwSFlzAAAOxAAADsQBlSsOGwAAA2FJREFUWMOdWFmipCAMdDaQRfb7n3UEUUKI\n",
       "ypOP7paGSlWAJLgsd83Sj2Jdlw/NbnZm2Ef0H5N4IcMFfApb/ear+GTXMfU+8TP6s+niVQtJrOGZ\n",
       "K3zaYv1OFzdnEE2rNVcO9cWoVV1Kxd5INvQBnEKH4B113T/LxLmpgCeJ4B94aAgqeP0RTe1gmqee\n",
       "nlX5/9RxEboo2rq5tXnGle6Z1xEEOIXegcNmkJONTCaKXgDa1mhC5wiPtGfPIXqsnCEpuz2cmYnE\n",
       "R+3OBLsIpzsKbQQGp9A7cNiPtTPKhNc3x06Zf38NAJXLu3ZZnlmCYWSVeaEI7e7UbKH4B+0EegcO\n",
       "oD2f0b5IauFXHsTC4NHa+IR2Vv5iyY2n2A/aG7wPc+t+g36CA5BlTjuvrELwF2hZCdF5U8cJ7fWo\n",
       "pMGVxg9zwYmCgelB+w36Bd5o2VG7D/F0djMR8yhr9nOj1eUPi1bjclH2An/W7hJKHi6w02yQlHYL\n",
       "iDZ0WjtGB+AX3E4Va895zdYw2Uj4bMzkVZUXKh+joDljqZX+WbthVOY6plsQkkntAP1mU7Fb8Lbj\n",
       "R+2HAwwise1e0L0ZJ40xf37vH6oFmrXS5OvyqL3tnjFO5dzFt3vtHTqpnUSX3Uhv77TrGiYvEm4/\n",
       "P7JHFCWR9s6s2vezCWozgp7HRl3ZkepM8E0cte4QndKO0XvwA6zsXqRd8UO760msck+QYUzsBnVd\n",
       "8KA2G+mV4s/CHJfKmEoP1IQ3572hE9oH9A686mG5JckiXLmaIlDpuO3dNUlcSxLCsqK8r8JDnG9F\n",
       "bjEYBOiSDGzL+BrrxjjfPDCiA3BUabBu6uGHur0bCa/OUxRbvOQbDp6REdrjcYCuwsoanZuBtZb3\n",
       "N/n9TTsGp9AbOCrukuqn6hLfBTJREneM3gfgOcF+o9uUMwM7xvYbAsvWz1uCSaVx0LXvpp3ved2A\n",
       "2lVflSP0EZxEb+AGXH20SokF2Ldfg5jG9fxiyNuy/xXVHueBL40b170dRDHTRc99HUEhTRp8JmHN\n",
       "xM29K/wp/nGq66N2CmnS4DMJTV5iLZFGlR1rs3PThpmuvia8e3UhZ5AmDT6TsIr2/kYA1aF2vC4T\n",
       "JkirQvrXd0oDOoU0afCZhKLfWpGvV2w44wbbPr0qizPzvqL/mETI0v8DAOwzjLxBZJ8AAAAASUVO\n",
       "RK5CYII=\n",
       "\" style=\"display:inline;vertical-align:middle;\" /></a>"
      ],
      "text/plain": [
       "c not-in ({1, 2, 3} intersect {1, 2, 3, 4, 5})"
      ]
     },
     "metadata": {},
     "output_type": "display_data"
    }
   ],
   "source": [
    "# an IntersectMembership object that is not clearly True or False\n",
    "intersect_nonmem_03 = Intersect(set_123, set_12345).nonmembership_object(c)\n",
    "intersect_nonmem_03.expr"
   ]
  },
  {
   "cell_type": "markdown",
   "metadata": {},
   "source": [
    "### `IntersectMembership.definition()`"
   ]
  },
  {
   "cell_type": "code",
   "execution_count": 36,
   "metadata": {},
   "outputs": [
    {
     "data": {
      "text/html": [
       "<span style=\"font-size:20px;\"> <a class=\"ProveItLink\" href=\"../__pv_it/demonstrations/827696993ab0d8cc2daa3c3578b5617b845c5d200/proof.ipynb\" style=\"text-decoration: none\">&nbsp;&#x22A2;&nbsp;&nbsp;</a><a class=\"ProveItLink\" href=\"../__pv_it/demonstrations/61a04b6b026ffd90b98ee4ccd1fef78366a5301e0/expr.ipynb\"><img src=\"data:image/png;base64,iVBORw0KGgoAAAANSUhEUgAAAmkAAAAVCAMAAAAq0IlzAAAAP1BMVEX///9jY2MJCQkdHR0NDQ0W\n",
       "FhbMzMxUVFRERES6uroiIiIQEBCYmJhmZmYyMjLu7u52dnaqqqqIiIjc3NwAAACGmE1UAAAAAXRS\n",
       "TlMAQObYZgAAAAlwSFlzAAAOxAAADsQBlSsOGwAABbRJREFUaN69WuuarCgMZOfsiqKAiu//rOsN\n",
       "SSBIkPMNP4ZpOhSVSkDAFmIvTuSLy3y2wyDqi1scx+wb+AcSLuNlUY4KyT46Q7AUFXF6++635E3E\n",
       "WpeXfsaij952NYP9QqOTfbnfV/DC0KfIDpEYVlwXmS3Vkn12JmXJIMaK4W/JG6u7zI+xJtxFH73t\n",
       "snmunYpZO61N3+Gmedb9PY96WeIcwFN0AhyhQ+qRN+NmjLrxHhLrhOsCs7lashZnEpZFYqwYfo9d\n",
       "rbxYXWseY5UmgUZjPLazuj5LbbZYvv74foP9rD4dXGDXp0zS9HgUb0GgE+AYHZTYGzVuarYiIuHn\n",
       "u2FMc+9+jWQtzqQs9yJD5q5JXBiEWmJXLS9SVz/zZSVY4rR4bIMGa8xWnk/lcYTL9UHUbobItE6t\n",
       "TthOw0ADixidAMfooDn2RgpqiEnj+q1492ska3EmZXn8++RXWHxqCLXErlpepO4D200Gd1579d+/\n",
       "Co4xMtiOZ4PcwDZ0GI9ZQmVa5zPMgVR7CQ4BjtFF1ptMponR4vqljLEMDMlanCFYgsRxJo0Lg1BL\n",
       "7OrlBeouD8YsUOfBrFZI9MwGti/z4vxKbl2y+5rSTAv4Yaq+LgMZ8AddZLzJZ5qZcP2yGTKJDEXJ\n",
       "mpwhWB6t95NML0RcyoRaYlcvL1BX+73k/hSDnc9FxuJUfmzf2N4Tb4saBjWJNNMUtcF8CU4GPKAL\n",
       "2ptTimmdvepgiFni+uXhOUcyMCRrcoZgCdYylcaFQ6gldvXyAnV90rm9hp2NwwsNnljavLPtNtyz\n",
       "W6VnsY5kprkwdgCn0WNwiC5ob85tzQ7l7t0uIDEZXB8EFCgyu/pxJGtyhmAZHgTrmhBjEWqJXb28\n",
       "QF21+OUwYkkcyLytcONUmKiSuLu4ejt4jqEyDYDT6AR4fDqKvQl6qJjEMuI6X7z7NZI1OUOwDLcW\n",
       "4IaihlBT7OrlBeqOVxZODnfuxn06//nZ//RgwzjcSWGGd/l0T+2nb0srzZLPNAROopPgDzrpDeh8\n",
       "73YDiW7D9cuBYEA1Q7JWZ1KWz1q16IQYJ4aNsauWF6h7sXTnggk62x7sPWOpOx0u+im2U0SiOxff\n",
       "3t8SAV+JNQ2CU+gxeIROenMamEuKLiIxjLjmZhpLskZnUpbPPa1xMTFeDNtiVy0vUPdaeQd5lG2U\n",
       "M8wBlXl8wIt+gu15Ye2AEttpc7NdYAdynwbeIqToCThGF7Q3Rzjuc1V8c78oXOf3afjpyZOsyRmC\n",
       "pR+p65O4MAm1xK5eXqBuD7Z/I0jTfcM5xJeZwTY9vwTO3UlgtaHtwr1X4Ll4IiCOazYPDtGRcFe7\n",
       "hXuLvfGKECAx9bjOF+9+jWQNzpAs/dsdOZBxYRD6HrvoNpAlL1AXHu436I5Z4hMHsAXH2OvJHG6R\n",
       "ndJHUaBtmnL3aaVMi9EJcICOr7JPbwAvfR6KbDxEcneRLdR9SEmy787QLO/nYnQXW0Poc+yiFwU8\n",
       "eYG6XWjst02G2WHlT/zKP9h6KCnHzciDjH+5KtR2FgPbhp2+f0uLMi3IYon7tBSdAgfooe3xJjQ5\n",
       "raVO3nsKNeA6X7z7NZI1OEOyFPGtbTWh77ED6rLlheqqLiPs9M/c7/sUmMiP7Zw+/hfiHEO1EV0Z\n",
       "FgQSc0DKDAzhFK5frzm6SAaGZA3OECwLxDiEGmLHDXEYAqmbfbVM/LrhsSXYUg+fWfytTJvF1wHn\n",
       "9yHSt+b5UnwbT0jW4AzBskCMQ6ghdtwQhyGwuj39c01H7ZC97ZpcCVji13pUG7w0z5QUnEJiDkhy\n",
       "CCS8l64XjOLdr5DsuzMEyyIxTgw/x44d4od4pK6l3ZipX3F6W5f8YIkakWqzY3HxSMEpJOaApBKB\n",
       "RCF3Mu5XSPbdGYJlkRgnhp9jxw1xIB6r60hz+oWzt3VaLqK+uJnT7SP4BxKrw3Wx61ot2VdnCJYM\n",
       "YqwY/pa8SN3/AZcNftrXBYiaAAAAAElFTkSuQmCC\n",
       "\" style=\"display:inline;vertical-align:middle;\" /></a></span>"
      ],
      "text/plain": [
       "|- (4 not-in ({1, 2, 3} intersect {1, 2, 3, 4, 5})) = ((4 not-in {1, 2, 3}) or (4 not-in {1, 2, 3, 4, 5}))"
      ]
     },
     "metadata": {},
     "output_type": "display_data"
    }
   ],
   "source": [
    "# definition() returns an equality defining the intersection membership\n",
    "intersect_nonmem_00.definition()"
   ]
  },
  {
   "cell_type": "code",
   "execution_count": 37,
   "metadata": {},
   "outputs": [
    {
     "data": {
      "text/html": [
       "<span style=\"font-size:20px;\"> <a class=\"ProveItLink\" href=\"../__pv_it/demonstrations/ad2d9adfe51bd4cde988444e481d28d5cdce8dc20/proof.ipynb\" style=\"text-decoration: none\">&nbsp;&#x22A2;&nbsp;&nbsp;</a><a class=\"ProveItLink\" href=\"../__pv_it/demonstrations/1a912a74584f24c54ee6a9def5017ae473bf4f780/expr.ipynb\"><img src=\"data:image/png;base64,iVBORw0KGgoAAAANSUhEUgAAAmYAAAAVCAMAAADb29L+AAAAP1BMVEX///9jY2MJCQkdHR0NDQ0W\n",
       "FhbMzMxUVFRERES6uroiIiIQEBCYmJhmZmYyMjLu7u52dnaqqqqIiIjc3NwAAACGmE1UAAAAAXRS\n",
       "TlMAQObYZgAAAAlwSFlzAAAOxAAADsQBlSsOGwAABXxJREFUaN61mlmipCAMRe1JFGUQ3P9a21KB\n",
       "BBAC1uOj6Ucx3Bzm4DAcwQ6lYB/+VvM8tAa7WUq2nqrbJdgHA6skmnh12QI42QZhtF9/kG5Gt08w\n",
       "W7GoVOhPl9vIWbXrGNlUL9VXdbOE2QworsraOnh12hI4EdQ1duBP0k11u3jTIZfQWiUF0Z8u97Y/\n",
       "alXTwp+FTKwmtbtqrFsuoiLBrDiuyNIdvAq2UDlV1TV24DfoEuBGdJUMWTQbl3hmCLTC+ty6JEiK\n",
       "59+igiuTE26iv+oo7FtNgpvnkjC9neVtvIq2EDkFdcz/bzRpl5AEfYtuHS6mK8BkWbY52dOwKp+7\n",
       "qHbfiMNs5MYOahSon7urxmF+nLa+gVXguBSc5W28ysOMximoW/3gmsa0S0iCvkSXABfTXQplzcT/\n",
       "/eVgtoTcJbVzYadABUc3vCwcZ91VU3mGXxaF40JYYgIkXsVOpXIK6lyalZkuIQn6El0KXEh3k49l\n",
       "Z2nUwEa0sUuK2iJb+GOofDW04pp6NCttAGBdX3FcOADJmACFFx1F6cegTt+rjdgyXUIS9CW6FLiQ\n",
       "rtDhlLRwBkqfK4ySeOfQSW2WaWPxbUgyY1i0/Gpj1jE2Jfx3FBmhrVUH6UfBMdoA1JFNqIiEZjgu\n",
       "7Jk6JkDhBZp6wSmoc6sYz3UJSdB7umS4kC6cxztqVNpolUHzStzy5+XINqHFVu2HfWqH7hrLD1li\n",
       "OtfxJTfMLOjn7qr9LE4LDjM/WI1XlwQJq8Txp3UOAhtK616dl7flFSeg7lqbjMl1CUnQa7p0uJAu\n",
       "D8PS7mjUyswdzOe2y2WdOmPB0yvzAu3j2qdYMBGyw6y/akfrKoimsd0/aWYesIRtwfFzcJa38XK2\n",
       "vOME1F3eCa4yXUIS9JpuA1xId5lBK8g1shyz+c/v4x8wlu/clsm7mNi9mGi+7NCbAwe/YnJ7Hmav\n",
       "qn4uOO3GGD3HEsbb5HGv3gBmHFN4BVvecYLqPkvUJjLCSB34nm4DXEgXqMQHQDWBI2ds0yjue/My\n",
       "nYstcs2cGma4ey9w1dWefXY1e1P18FhwR4cvL2FecNw0zOq8vC3vOEF1H1+stPlhRujA13Qb4EK6\n",
       "YM2N/PM89bmA3FdmdZ4G1j11vsB5oOCZAXqh82ez7qphUlzQZB3hG8fx89kss2kSeLk87zhtHDUz\n",
       "TvkuIQl6SbcFLqQ7hSwLrvM4Z87xtTXkvmaOOpUxOXyeTF31nxPCtYX7lOs8cI5yXb0CdFatPIlM\n",
       "wXuVv7okSFgnHD8HZ3kbL7fAvOOE1JmVzfkuIQl6SbcFLqQLLst79HAvt9jnAnLf/D5GblwM4ryn\n",
       "3LehQ9skBpByXVV0waGRDrPWqn1KtuB56VHCRptL6qZ4dAclrg8KL9/UK05IncLe1lZBb+k2wIV0\n",
       "R54/QJ5nud/xW37I7aYpM3q0zHzM4fcFSDF9P4C4lEHrdTWJX2UIs1SlfrPWqn1KruBgPtmSMwyf\n",
       "cfwcnOVtvHxTrzhhdWJ76BKSoLd0G+AiutwNeJG4KNdfejoOKHD2+Nw5h/Gm6ikET3Nv1VvupSSX\n",
       "GDyUHMdFj8YYESDxylrbyKmirk3QV+kW4WK61wPnxgaZPJtmPlzwz7g5tZqQ0jnMdF9j+UTfQO45\n",
       "/CngZ3Yqr6y1jZwq6toEfZVuEW5Ed/rsqXxKXiUGmzsXT/dl2qQuAGXqKbFnLxc6q841lk90EpyB\n",
       "dhoIwVnexCtjSyunqrq2Dvwi3SLcmO7pX1mNSL701bmvQpQrnH4zkjaak7ZUV47OqrNfmWaHnpOA\n",
       "Bk41OMubeGVsaeVUVdfWgV+kW4Sb0LUPnwHnn5NdbisY+dOvUFhTCnVV3S7BWBxXS5oOXn22AE4E\n",
       "dY0d+IN0M7rP+D8QyXpoYxS4qAAAAABJRU5ErkJggg==\n",
       "\" style=\"display:inline;vertical-align:middle;\" /></a></span>"
      ],
      "text/plain": [
       "|- (f not-in ({a, b, c} intersect {a, b, c, d, e})) = ((f not-in {a, b, c}) or (f not-in {a, b, c, d, e}))"
      ]
     },
     "metadata": {},
     "output_type": "display_data"
    }
   ],
   "source": [
    "# definition() returns an equality defining the intersection membership\n",
    "intersect_nonmem_01.definition()"
   ]
  },
  {
   "cell_type": "code",
   "execution_count": 38,
   "metadata": {},
   "outputs": [
    {
     "data": {
      "text/html": [
       "<span style=\"font-size:20px;\"> <a class=\"ProveItLink\" href=\"../__pv_it/demonstrations/8658aea34685699b30ad77024ebc78351c3535480/proof.ipynb\" style=\"text-decoration: none\">&nbsp;&#x22A2;&nbsp;&nbsp;</a><a class=\"ProveItLink\" href=\"../__pv_it/demonstrations/b8fd903cf44c7bd410a2bf29cd8db0becf9c565e0/expr.ipynb\"><img src=\"data:image/png;base64,iVBORw0KGgoAAAANSUhEUgAAAmkAAAAVCAMAAAAq0IlzAAAAP1BMVEX///9jY2MJCQkdHR0NDQ0W\n",
       "FhbMzMxUVFRERES6uroiIiIQEBCYmJhmZmYyMjLu7u52dnaqqqqIiIjc3NwAAACGmE1UAAAAAXRS\n",
       "TlMAQObYZgAAAAlwSFlzAAAOxAAADsQBlSsOGwAABbRJREFUaN69WuuarCgMZOfsCoKAgu//rOsN\n",
       "SSAKyPmGH800g0WlEm6xGduKZ8/FP3y348jai198Tbdv4B9I+Acri3I0SPbRGIIla/DT2/9+S95M\n",
       "LLe8PGcs+hr6OjPaLzQGLsrPfQUvDH2I7BGJ0eG6yGxpluyzMTnLCmJVPvwteVN1l/mIO62NGAhz\n",
       "0dez71avgesgU9YEkp9nLa55JHiJcwTP0SmaEB1S1/i7Wo2RF95Nwk24LjCbmyXrMSZjWSBW6cPv\n",
       "vmuVF6trzYEnto95zRA1ajn77j3l+Z1rs6by5UhWHwYu8NG7TNwIPEroQaBTNBE6KDIJaalWOVuW\n",
       "kAjz3VRM82B+i2Q9xuQst8Jj5DpMrI5Qj++a5UXq6iPe+LGXKpXhYc4TSz3lUrYEktuJ2tUQkTZI\n",
       "55kdNHQ06JGiUzQROmhOpeCMGmLSuH4rwfwWyXqMyVnuf97xFRefFkI9vmuWF6mrrrVvH5Sv8PDo\n",
       "hPzvXwnHUBVsCaRR7bOEirQhRJgHofbiHIomQo/Ik6mKNKYsrl+KQnWdZD3GECxB4HiTEKsj1OO7\n",
       "dnmBusuJwY//8TXu0aNxlnG0Zy+mZl5kSOF4MOWRFvHjVH1dBh7Ab/QIwiojzUy4fjkMGVRXSdZl\n",
       "DMFyb712Mr0kxOoI9fiuXV6grp7hOrvGLXtfZCwO5dj3hW2GdBktJ5ZHmqQOmC/OeQCP6PeDPpdi\n",
       "cnNQHQwxc1y/bJ5zKkNZsi5jCJZgLZOEXyoI9fiuXV6gLpzKwxoXFuPxQoMnljbvbCHSeXjlgYVT\n",
       "ZKT5SDyC0+gpOEQPaBvTVIr96u2v0y4gMRlc7wQkKPx19StJ1mUMwTJuBM5RC16ZUI/v2uUF6sqF\n",
       "vk4Y4kJ29/VqKkxUTuQuzqc9vMdQkQbAaXQCPL0d7ZPcUIuUkCmJReH6uQTzWyTrMoZgGbMWIEPR\n",
       "QqjLd+3yAnVVvNJqAaxR23T+87N9gMarr+dmfJcPIiXHzf16bZbnSEPgJDoJfqOfM8g/SaGv024k\n",
       "May4frkQjLguS9ZrTM7yXqsWnROr8GGn75rlBepGlhN81Apw9kwtGnRM9FNsp4TEcCy+ImSJgK3E\n",
       "mgbBKfQUPEE/sI7lP5FCmFOKISExKly3RFpRsk5jcpZ3ntZ4KtLKPuzzXbO8QN175T3SzN7DGJAP\n",
       "2wdM9BNsE6Ttjnz0udgu8AHynAbeIuToGThGP83ie1kVhydldd2r0sz9InH9fE7Lds8KybqMIViG\n",
       "kQZB+aWGUI/v2uUF6orr+Dccj7kY746NaTJTuOf7S+QckUKb4mAFnos3AuK6Zp/BIToS7my38Gyx\n",
       "NZ4eAiQmgevnEsxvkazDGJJleLvDR4JYFaHvvkuygVXyAnWva6iXei9gBpglvXGAqza4xp47c8wi\n",
       "R6S7bZqe8mmlSEvRCXCAjlPZq8C89HEpsukQZO6CLEk+pEqy78bQLK99McnFthD67LvkRUGdvEDd\n",
       "QV45lKMALMt/0lf+g0zZcq5Ww3cy4eUqRLrbxo1+eEuLIi3OVEvk03J0Chygx7btYLuu3MEmrzXX\n",
       "2XtPJkdcP5dgfotkHcaQLFmatW0m9N13QN1qeaG6cngQdvpnFts5BQby3XfOt/+FuMdQbcSjFT0I\n",
       "pMoBqW5gCC9x/ZrmGBIZKiTrMIZgWSBWQ6jDd7UujkMgdR9fLRO/brj7EmypzWdmfyvSZvZ1wPl9\n",
       "CPzW/L0U38YTknUYQ7AsEKsh1OG7WhfHIbC6gv65pqdOyKGvy1IClvi1HtUGk+YPJQenkCoHJDlE\n",
       "EsFKL1hFCeY3SPbdGIJlkViNDz/7rtrFN/FEXUubMVO/4gx9ffaDJWpEqs2q4uKRg1NIlQOSSkQS\n",
       "hdh5ML9Bsu/GECyLxGp8+Nl3tS6OxFN1PdmdfuEc+nrNF9Ze/Fzz2EfwDyScx3XxUdcs2VdjCJYV\n",
       "xKp8+FvyInX/B8kvgUQNFKFPAAAAAElFTkSuQmCC\n",
       "\" style=\"display:inline;vertical-align:middle;\" /></a></span>"
      ],
      "text/plain": [
       "|- (2 not-in ({1, 2, 3} intersect {1, 2, 3, 4, 5})) = ((2 not-in {1, 2, 3}) or (2 not-in {1, 2, 3, 4, 5}))"
      ]
     },
     "metadata": {},
     "output_type": "display_data"
    }
   ],
   "source": [
    "# notice the definition() returns an equality, regardless of the truth\n",
    "# of the underlying membership claim --- 2 is clearly in the intersection\n",
    "intersect_nonmem_02.definition()"
   ]
  },
  {
   "cell_type": "markdown",
   "metadata": {},
   "source": [
    "### `IntersectNonmembership.conclude()`"
   ]
  },
  {
   "cell_type": "code",
   "execution_count": 39,
   "metadata": {},
   "outputs": [
    {
     "data": {
      "text/html": [
       "<a class=\"ProveItLink\" href=\"../__pv_it/demonstrations/c5dd3638fb9c35cef736a3461ad67f4b06c4d1c30/expr.ipynb\"><img src=\"data:image/png;base64,iVBORw0KGgoAAAANSUhEUgAAAP0AAAAVCAMAAAC6/BghAAAARVBMVEX///8/Pz9vb28YGBgJCQkd\n",
       "HR0NDQ0WFhaqqqru7u5EREQQEBC6urrc3Nx2dnYyMjKYmJiIiIhUVFQiIiJmZmbMzMwAAABdXBgn\n",
       "AAAAAXRSTlMAQObYZgAAAAlwSFlzAAAOxAAADsQBlSsOGwAAA01JREFUWMOtWNm2pCAMZNYrIPvy\n",
       "/586iKghRvD2GV66RahUQRKCjD03RT/ydWUfNLWoN8M+RP82hykZw+GTW9qvWflHppMX84kfow8t\n",
       "12VVHYfVgfeRYgufFt1+88EuBcxTxWhEQn1aR9G2U/gZzwH6DLyj3suR2ZjQ8E4Ozp7vA8ErQlhu\n",
       "2h8d9mcfTcb8xPY+d2x4rJoWOPdo1hsRe+7P6FNw2JCcIHPQnCEOp2s7Sn1HNVqGZzus3tdYkrLz\n",
       "5I0bz+auPgWnGE+xi69n9Ck47EdyPGnBNgdJ1vTDnQjh6y9ElXN+xcG2Dp9hQlnltluE+nSoVlD+\n",
       "M/oUHEBjObR6JncLmnXDV+NKv4cxtpgX6n195XO6R7O9qb/grXu19zNwAMLeqTd1YvFAOHzfDN6t\n",
       "aNQv1LeAybhnDfZmGcQVTFEz9AH45bjqpt46faw24KC3UapMh8ONwjtyLFNdBzPml7JDHc4flp2k\n",
       "1Ctge4I+Aj/hkJwtzxco1RIm4GBNdRSknjjsw5FXlbST3fHUObZPVyA9k+pn6CPwy+9v6vclCJjD\n",
       "UhbCqn54kqG0P79DECDnrI2oWdmQXxRUNMg2lHuzPKufoo/B24aqB/WxJcyLQ8pMVV8Cw3k1ofsF\n",
       "bepLjF71GsXPYrOp+qU4DvxLHrX3E/QJ+A6G5WwDzK4+IQ6rZKvfWpZed7wCcrnTwFWvEfxqQajg\n",
       "oZTroEZwATPouB+hT8CbopucsnXtuEDVJFsODhIwcGX5VlT5CveclS+WqZrcjsuzbwduzqmnWW+A\n",
       "PgZHxYGHU/eFkHvYAA72CKQMI6rEBU6k2t/56T2QrlpLhbi1APusfTjvZ+ox+hgcFXxVzjU11lzP\n",
       "MYd2jEeRs7/OEu7FL+R2KWB+3pe7g9/MH/eHchjXZmBf8aJ4XkSgetFX61P0CXgAl6JDztlXLkg+\n",
       "3up8Fh7u0j9/lFI3wOUM6V4rnfFD5H6qj5o7H0EgvTVI9V0WVHh1s4dXAoqfpmSw/6Ves48N6qGF\n",
       "aB8+gRDnqlD3eq15riO+0DgKN5rpx4036G8NkiRODko87cBCQLXB6nadpmyQ4rm0009Pb9DfGnRD\n",
       "DuLp2xb5CUa5I4X45aNvavrNvE/Rv83BbeL/AUNaPQXlXgw9AAAAAElFTkSuQmCC\n",
       "\" style=\"display:inline;vertical-align:middle;\" /></a>"
      ],
      "text/plain": [
       "4 not-in ({1, 2, 3} intersect {1, 2, 3, 4, 5})"
      ]
     },
     "metadata": {},
     "output_type": "display_data"
    }
   ],
   "source": [
    "# Recall our true nonmembership object\n",
    "intersect_nonmem_00.expr"
   ]
  },
  {
   "cell_type": "code",
   "execution_count": 40,
   "metadata": {},
   "outputs": [
    {
     "data": {
      "text/html": [
       "<span style=\"font-size:20px;\"> <a class=\"ProveItLink\" href=\"../__pv_it/demonstrations/a5297a0c189439a98d646fe7b14c51d5892530bc0/proof.ipynb\" style=\"text-decoration: none\">&nbsp;&#x22A2;&nbsp;&nbsp;</a><a class=\"ProveItLink\" href=\"../__pv_it/demonstrations/c5dd3638fb9c35cef736a3461ad67f4b06c4d1c30/expr.ipynb\"><img src=\"data:image/png;base64,iVBORw0KGgoAAAANSUhEUgAAAP0AAAAVCAMAAAC6/BghAAAARVBMVEX///8/Pz9vb28YGBgJCQkd\n",
       "HR0NDQ0WFhaqqqru7u5EREQQEBC6urrc3Nx2dnYyMjKYmJiIiIhUVFQiIiJmZmbMzMwAAABdXBgn\n",
       "AAAAAXRSTlMAQObYZgAAAAlwSFlzAAAOxAAADsQBlSsOGwAAA01JREFUWMOtWNm2pCAMZNYrIPvy\n",
       "/586iKghRvD2GV66RahUQRKCjD03RT/ydWUfNLWoN8M+RP82hykZw+GTW9qvWflHppMX84kfow8t\n",
       "12VVHYfVgfeRYgufFt1+88EuBcxTxWhEQn1aR9G2U/gZzwH6DLyj3suR2ZjQ8E4Ozp7vA8ErQlhu\n",
       "2h8d9mcfTcb8xPY+d2x4rJoWOPdo1hsRe+7P6FNw2JCcIHPQnCEOp2s7Sn1HNVqGZzus3tdYkrLz\n",
       "5I0bz+auPgWnGE+xi69n9Ck47EdyPGnBNgdJ1vTDnQjh6y9ElXN+xcG2Dp9hQlnltluE+nSoVlD+\n",
       "M/oUHEBjObR6JncLmnXDV+NKv4cxtpgX6n195XO6R7O9qb/grXu19zNwAMLeqTd1YvFAOHzfDN6t\n",
       "aNQv1LeAybhnDfZmGcQVTFEz9AH45bjqpt46faw24KC3UapMh8ONwjtyLFNdBzPml7JDHc4flp2k\n",
       "1Ctge4I+Aj/hkJwtzxco1RIm4GBNdRSknjjsw5FXlbST3fHUObZPVyA9k+pn6CPwy+9v6vclCJjD\n",
       "UhbCqn54kqG0P79DECDnrI2oWdmQXxRUNMg2lHuzPKufoo/B24aqB/WxJcyLQ8pMVV8Cw3k1ofsF\n",
       "bepLjF71GsXPYrOp+qU4DvxLHrX3E/QJ+A6G5WwDzK4+IQ6rZKvfWpZed7wCcrnTwFWvEfxqQajg\n",
       "oZTroEZwATPouB+hT8CbopucsnXtuEDVJFsODhIwcGX5VlT5CveclS+WqZrcjsuzbwduzqmnWW+A\n",
       "PgZHxYGHU/eFkHvYAA72CKQMI6rEBU6k2t/56T2QrlpLhbi1APusfTjvZ+ox+hgcFXxVzjU11lzP\n",
       "MYd2jEeRs7/OEu7FL+R2KWB+3pe7g9/MH/eHchjXZmBf8aJ4XkSgetFX61P0CXgAl6JDztlXLkg+\n",
       "3up8Fh7u0j9/lFI3wOUM6V4rnfFD5H6qj5o7H0EgvTVI9V0WVHh1s4dXAoqfpmSw/6Ves48N6qGF\n",
       "aB8+gRDnqlD3eq15riO+0DgKN5rpx4036G8NkiRODko87cBCQLXB6nadpmyQ4rm0009Pb9DfGnRD\n",
       "DuLp2xb5CUa5I4X45aNvavrNvE/Rv83BbeL/AUNaPQXlXgw9AAAAAElFTkSuQmCC\n",
       "\" style=\"display:inline;vertical-align:middle;\" /></a></span>"
      ],
      "text/plain": [
       "|- 4 not-in ({1, 2, 3} intersect {1, 2, 3, 4, 5})"
      ]
     },
     "metadata": {},
     "output_type": "display_data"
    }
   ],
   "source": [
    "# we do not need explicit assumptions to conclude:\n",
    "intersect_nonmem_00.conclude()"
   ]
  },
  {
   "cell_type": "code",
   "execution_count": 41,
   "metadata": {},
   "outputs": [
    {
     "data": {
      "text/html": [
       "<a class=\"ProveItLink\" href=\"../__pv_it/demonstrations/0b68cc1086b1a430e0b9b4538b3af1b7c742bbd10/expr.ipynb\"><img src=\"data:image/png;base64,iVBORw0KGgoAAAANSUhEUgAAAPkAAAAVCAMAAACzF7hbAAAAP1BMVEX///9jY2MJCQkdHR0NDQ0W\n",
       "FhYyMjLc3NyIiIiYmJgiIiJERES6urqqqqoQEBDMzMxUVFTu7u52dnZmZmYAAADlp+XQAAAAAXRS\n",
       "TlMAQObYZgAAAAlwSFlzAAAOxAAADsQBlSsOGwAAAx1JREFUWMOlWFmCpCAMZbpnIOwEvP9ZR1GR\n",
       "VS3Kj24rkuQlZANCxg8b/ESlyKcP0+zNshnRn0N4hEIx/wX6fKEKP9drnXzmmhP9MQQFGTV4j83C\n",
       "/Jf258syBIfSiLFi6Z6gTYsucVMTHiAATyTvrNHVspAHHtK09A4BDeNvFSN3VAZ1t+K96OpZ9BOE\n",
       "K5yNVk0wFjACfwVvqLNmtAIYQRuKjJoWXT5qGDpJAQ+jtSDFv7+CXgTzCt5YZ8VoT4tZbvq0aPIy\n",
       "dK4vBrtrFQUkzuYZSF/Bu920/OMlnAP5XvTbvLiEUL5nnBEuWx33AWkR7L7lZs4Dg1KnA3BVVHoA\n",
       "bmvs16sN5HvRF/SV0VZ5geuygJXl/qh1S6GFsmovThftTjhcosy6TBYxiMvqM1zydsnECiPImEGm\n",
       "ZznLKv606BSsLSNRYnWO3XfugsB3VWwpPEfbZi6SG5nZnYDxfxBtVzK5z4RPFJbtRdfyedGne3bG\n",
       "IlrZstFAkRKCNofYoh8aIcTvz/rn8qdRJ056vIUlaa/2bMloIfc/OqrHln8leswoFwDwqoZgl071\n",
       "wM1gX+bKafmalkf3MzLGYNGQo06Vp5nJg9FTdbfn34gmQ8almJ8SBGV605Wom3ke7cdijKWBL23L\n",
       "zfcC8wKST2j9PJ8WnZNqRugOiXpHYEohAERVjUFCVYAxQnGUbMeAU9xWLvZcS5Q9c6Oj/WOFmxSN\n",
       "yfIO4xH7+85dELjc8746IFHtbNU/XN16Nl9oEUiIdffo0isYGUhG2Uuvv+lqreWfik6ULmMs4hhY\n",
       "ldZ7my4LXKwDP9WZyYoaHjrwljnYjBICD5o/ptyTQrznHLCpJleOYtvPPxWdKD1GAtuyZpIRcbND\n",
       "c4jif7xca3vWHoS9G6Y0PlNeTGGzonVvsO0Rr1FpfdGOUH1/Mi9G/C48/4IyabmfU9YnJgVb/AhZ\n",
       "zqnRI7JztD3Hp3wUOyMWnin1hNG9mJgT3VPWJ54QooEcQnM543XvaiANRc3XVklHLRr+eF80Jxq6\n",
       "XiQ3EOToPqp7eZJOECy410fli9u/YZoS/TkE2Az/D85JMcdbuUdPAAAAAElFTkSuQmCC\n",
       "\" style=\"display:inline;vertical-align:middle;\" /></a>"
      ],
      "text/plain": [
       "f not-in ({a, b, c} intersect {a, b, c, d, e})"
      ]
     },
     "metadata": {},
     "output_type": "display_data"
    }
   ],
   "source": [
    "# Recall our (potentially) true nonmembership object\n",
    "intersect_nonmem_01.expr"
   ]
  },
  {
   "cell_type": "code",
   "execution_count": 42,
   "metadata": {},
   "outputs": [
    {
     "data": {
      "text/html": [
       "<span style=\"font-size:20px;\"><a class=\"ProveItLink\" href=\"../__pv_it/demonstrations/8e1c697c026d48c494b49f0af93dae5c98584f430/expr.ipynb\"><img src=\"data:image/png;base64,iVBORw0KGgoAAAANSUhEUgAAAS4AAAAVCAMAAADPVPOrAAAAP1BMVEX///9jY2MJCQkdHR0NDQ0W\n",
       "FhbMzMxUVFRERES6uroiIiIQEBCYmJhmZmYyMjLu7u52dnaqqqqIiIjc3NwAAACGmE1UAAAAAXRS\n",
       "TlMAQObYZgAAAAlwSFlzAAAOxAAADsQBlSsOGwAAA1lJREFUWMO9mNl2piAMgGk7lU123v9ZB1Eh\n",
       "QVD/c2bgogsY8pGEECAktUDuWjtqOCeftuDCaLo3Kv890OfgRat3txLaoH+95uZztQtlhxT3jx/P\n",
       "APoY/OR2tg4qa83le/Svi0M2w6QY62XnPH59IJwEhCfVUj2A79xG1xFLF9l6VuFIt3cAWo3HqmCN\n",
       "Dlr+WmrMzQJqWnRP4JlbAWdLx1nrK0He00X3xlxrWcNajMSWao5JQLjxYZAWBZlb3oh4Jn7/CP2W\n",
       "bqwSC0rTLj0AHbOA3lq9jiRup4ciXHtD6PLembeOBoO6xI89vK9qFEwDerttQRZZUy4tO4NKQYFQ\n",
       "2Paq0SPhQK0P+JTT1HvahL/1fl0adEtJE1UCJvdJQHXeJLg029akz5RpzJW4NcgUESnTAWWXczUH\n",
       "LpdpmKFgNzGtx0RYFgWRKBTL+6husrUueY8VD7RMAyoxexUkXCSuZXdcBU/colo1RGR13alxSJD7\n",
       "akz+rcT1SJdwPcKWnlD952RTFQigZRrQadNdEAVtiFuf5wSDJ27JweyoEpFCiJ/v9IOBsNXH5yoW\n",
       "5Y2fI6yaoM8M1YfeJeKQcTBvzAMaC7Lovbe8BU/cgA4nRsNAKi7I6jjXJcvBjkqgrJLDJCBh1Ntz\n",
       "ZSn8cU2qQ99c/xmIDAUjqoQLeOIGsc/opb4RgxrX5KyyxmuRA/1nYO4B1bcTSM2C1jANCHa1gr57\n",
       "bUjcrI5IPFfKv1wNjlWTSagm2w30nG3LNHsmKD17XsnOsSDVQ/v4lSLPTgIyxVwdwWNr7o6r4Ikb\n",
       "HOqxudhr19Y4dYNsi3JCEZXPn+OUSyxMEdCzH0G2LSQUTBQGV52TgEpPVzAf3UaFJiUk7kX0E2tO\n",
       "cd/Xu/4hbKi3S6B+wxfHwWaoPS4wZw+xdl19W74QgcygcDqaBFR6eoLEb59dMujGLU6HKdqSrF+W\n",
       "pYPo8c7hzHMPEAz3tfYkINe7H/U6ax0syoXXpYLVPTwsDensix4Y0/cvOJOAbPfCc3cJ2rnZtkUF\n",
       "u9wuSGC9pzt5fVbyzz2gEOxOi5L9DKAeYr/zBD+053pm9ery4mt7rx/h+iZy1dHRauQKrXHXpgB1\n",
       "33S7JjzBT+4weA6m/ddrRV8/IlUhW4T882P9BKDPwTP3X7nzPcjQpGykAAAAAElFTkSuQmCC\n",
       "\" style=\"display:inline;vertical-align:middle;\" /></a> <a class=\"ProveItLink\" href=\"../__pv_it/demonstrations/a72a156b37e443bdea9cb38caa22e2b02684aead0/proof.ipynb\" style=\"text-decoration: none\">&nbsp;&#x22A2;&nbsp;&nbsp;</a><a class=\"ProveItLink\" href=\"../__pv_it/demonstrations/0b68cc1086b1a430e0b9b4538b3af1b7c742bbd10/expr.ipynb\"><img src=\"data:image/png;base64,iVBORw0KGgoAAAANSUhEUgAAAPkAAAAVCAMAAACzF7hbAAAAP1BMVEX///9jY2MJCQkdHR0NDQ0W\n",
       "FhYyMjLc3NyIiIiYmJgiIiJERES6urqqqqoQEBDMzMxUVFTu7u52dnZmZmYAAADlp+XQAAAAAXRS\n",
       "TlMAQObYZgAAAAlwSFlzAAAOxAAADsQBlSsOGwAAAx1JREFUWMOlWFmCpCAMZbpnIOwEvP9ZR1GR\n",
       "VS3Kj24rkuQlZANCxg8b/ESlyKcP0+zNshnRn0N4hEIx/wX6fKEKP9drnXzmmhP9MQQFGTV4j83C\n",
       "/Jf258syBIfSiLFi6Z6gTYsucVMTHiAATyTvrNHVspAHHtK09A4BDeNvFSN3VAZ1t+K96OpZ9BOE\n",
       "K5yNVk0wFjACfwVvqLNmtAIYQRuKjJoWXT5qGDpJAQ+jtSDFv7+CXgTzCt5YZ8VoT4tZbvq0aPIy\n",
       "dK4vBrtrFQUkzuYZSF/Bu920/OMlnAP5XvTbvLiEUL5nnBEuWx33AWkR7L7lZs4Dg1KnA3BVVHoA\n",
       "bmvs16sN5HvRF/SV0VZ5geuygJXl/qh1S6GFsmovThftTjhcosy6TBYxiMvqM1zydsnECiPImEGm\n",
       "ZznLKv606BSsLSNRYnWO3XfugsB3VWwpPEfbZi6SG5nZnYDxfxBtVzK5z4RPFJbtRdfyedGne3bG\n",
       "IlrZstFAkRKCNofYoh8aIcTvz/rn8qdRJ056vIUlaa/2bMloIfc/OqrHln8leswoFwDwqoZgl071\n",
       "wM1gX+bKafmalkf3MzLGYNGQo06Vp5nJg9FTdbfn34gmQ8almJ8SBGV605Wom3ke7cdijKWBL23L\n",
       "zfcC8wKST2j9PJ8WnZNqRugOiXpHYEohAERVjUFCVYAxQnGUbMeAU9xWLvZcS5Q9c6Oj/WOFmxSN\n",
       "yfIO4xH7+85dELjc8746IFHtbNU/XN16Nl9oEUiIdffo0isYGUhG2Uuvv+lqreWfik6ULmMs4hhY\n",
       "ldZ7my4LXKwDP9WZyYoaHjrwljnYjBICD5o/ptyTQrznHLCpJleOYtvPPxWdKD1GAtuyZpIRcbND\n",
       "c4jif7xca3vWHoS9G6Y0PlNeTGGzonVvsO0Rr1FpfdGOUH1/Mi9G/C48/4IyabmfU9YnJgVb/AhZ\n",
       "zqnRI7JztD3Hp3wUOyMWnin1hNG9mJgT3VPWJ54QooEcQnM543XvaiANRc3XVklHLRr+eF80Jxq6\n",
       "XiQ3EOToPqp7eZJOECy410fli9u/YZoS/TkE2Az/D85JMcdbuUdPAAAAAElFTkSuQmCC\n",
       "\" style=\"display:inline;vertical-align:middle;\" /></a></span>"
      ],
      "text/plain": [
       "{(f not-in {a, b, c}) or (f not-in {a, b, c, d, e})} |- f not-in ({a, b, c} intersect {a, b, c, d, e})"
      ]
     },
     "metadata": {},
     "output_type": "display_data"
    }
   ],
   "source": [
    "# because the nonmembership claim is ambiguous, we need some assumptions to conclude:\n",
    "intersect_nonmem_01.conclude(assumptions=[Or(NotInSet(f, set_abc), NotInSet(f, set_abcde))])"
   ]
  },
  {
   "cell_type": "code",
   "execution_count": 43,
   "metadata": {},
   "outputs": [
    {
     "data": {
      "text/html": [
       "<a class=\"ProveItLink\" href=\"../__pv_it/demonstrations/5ad66df7b9d964e336b836c4a998dba0722217560/expr.ipynb\"><img src=\"data:image/png;base64,iVBORw0KGgoAAAANSUhEUgAAAPwAAAAVCAMAAABVPnMfAAAARVBMVEX///8/Pz9vb28YGBgJCQkd\n",
       "HR0NDQ0WFhaqqqqYmJiIiIgiIiLu7u4QEBBUVFS6urp2dnbMzMxEREQyMjJmZmbc3NwAAAD+Oi4s\n",
       "AAAAAXRSTlMAQObYZgAAAAlwSFlzAAAOxAAADsQBlSsOGwAAAzpJREFUWMOtmFmSpSAQRemxZJR5\n",
       "/0ttUZQEUqBeNB/1SkJO3pvMEvJaAv4o9p18UMIWVl77kP5tDTMxTsAntuVft4uPIhtl5w0/pg8j\n",
       "n1kNlYadXTnw3lmDiYVPm86/8RZneCsTIwWtvc2dadVM5oA+g1fSffUoo3M88x4NjCaAPf7o2CM8\n",
       "rBIu/6P59ay8i608hCT8aWmDbe9ClbO+jvtOn8Jh4XWWuYxcC9JoSANbnaNfyp5QZYKStjFrzWMk\n",
       "lqSJ6HrzhrNAhPHV5HqnT+GwvjGv0AjUpzGRoqgIVwBmOf/6C6FyLg8l7TL1FWLe3KYDdP9On8IB\n",
       "mroV80QKos4nFct02h1LIwLOr80tmO9Jz0ymnfmCp2yp52dwACFr5t3dkMcyu86uEFU+vV4w35Hu\n",
       "ZHLaBQaTCq5OM/oAXoZt6MxTpu9kAw06v2ViSb8LbX+AJBHvxvIg6apg6g7MJGY+AKUT+gj+4A6p\n",
       "jfm0vYW8VgIN1PXLo0M2eX6vqEHSSd8obAO7mgewMKPmZ/QRvAz6zvyVAd5q2K48eAuSKflR/vzm\n",
       "HFTKPet0OxnKg6R2tUpbmNvezU/pY3juzvBi3ue1smgw8dpw4eZ5RtB1OrP5Y36WUxomj7ZRzTko\n",
       "7b3RF3dYz0/oE/gFO+dFbd66y7xpNOzyPryFUMnizXh7+OWUhshrSGkfOl/K+jbQAp/zI/oEng2p\n",
       "VKJUGvRc3iiaMyTZjnpzvsdKzo/k7b6ZMOx9PS4iC+mpkwqMTD1d8Ab0Mbw5FCjY9MqDvOYM0EAt\n",
       "CdynArr6mBPtEqpVL09fk6icsAqp1FH6ss/PzLf0Mbw55kVbNfXnKi9aDcf+zeNZQGOh7K9mzBne\n",
       "ylPquC6oFP2+MkDSU3eMIf/cPaB5W5/Qp/QJnIN7kLcxKgbqjjuR8t3ZnnD88vzzx3G+5TCZ3PQn\n",
       "pGfuIKs+Voe1nb+BkFYDYnUlQuArN/n7FvAmT2MuyP8yr8nHAfUwgqf4Bw9kP7WhP6XlYcuQ7zEM\n",
       "43o3/ZaxQl8NiIp4NAT7kv8NIeV3Q3d9xkKg3oWk0+9MK/TVgGyowb58yEI/uAR2rx5q++j7mV5p\n",
       "9yn92xpY8v4POvU8svPlcisAAAAASUVORK5CYII=\n",
       "\" style=\"display:inline;vertical-align:middle;\" /></a>"
      ],
      "text/plain": [
       "2 not-in ({1, 2, 3} intersect {1, 2, 3, 4, 5})"
      ]
     },
     "metadata": {},
     "output_type": "display_data"
    }
   ],
   "source": [
    "# Recall the False IntersectNonmembership object:\n",
    "intersect_nonmem_02.expr"
   ]
  },
  {
   "cell_type": "code",
   "execution_count": 44,
   "metadata": {},
   "outputs": [
    {
     "name": "stdout",
     "output_type": "stream",
     "text": [
      "ProofFailure (InstantiationFailure): Proof step failed:\n",
      "Attempting to instantiate |- forall_{m in NaturalPos} [forall_{x, A_{1}, A_{2}, ..., A_{m} | (x not-in A_{1}) or  (x not-in A_{2}) or  ... or  (x not-in A_{m})} (x not-in (A_{1} intersect  A_{2} intersect  ... intersect  A_{m}))] with {m: 2, x: 2, A: ({1, 2, 3}, {1, 2, 3, 4, 5})}:\n",
      "Unsatisfied condition: (2 not-in {1, 2, 3}) or (2 not-in {1, 2, 3, 4, 5}). For debugging purposes, this is accessible via Instantiation.unsatisfied_condition with applicable assumptions in Instantiation.condition_assumptions.\n"
     ]
    }
   ],
   "source": [
    "# We should not be able to conclude() such a False IntersectNonmembership object:\n",
    "try:\n",
    "    intersect_nonmem_02.conclude()\n",
    "    assert False, \"Expecting a ProofFailure (InstantiationFailure); should not get this far!\"\n",
    "except InstantiationFailure as the_error:\n",
    "    print(\"ProofFailure (InstantiationFailure): {}\".format(the_error))"
   ]
  },
  {
   "cell_type": "code",
   "execution_count": 45,
   "metadata": {},
   "outputs": [
    {
     "data": {
      "text/html": [
       "<a class=\"ProveItLink\" href=\"../__pv_it/demonstrations/6351f2f1f364e02a8adad4db14259f54096629ce0/expr.ipynb\"><img src=\"data:image/png;base64,iVBORw0KGgoAAAANSUhEUgAAAPsAAAAVCAMAAAC34mhmAAAAP1BMVEX///9jY2MJCQkdHR0NDQ0W\n",
       "FhZUVFQyMjK6urru7u4QEBBERERmZmaqqqoiIiLc3NzMzMyYmJiIiIh2dnYAAABSvsfBAAAAAXRS\n",
       "TlMAQObYZgAAAAlwSFlzAAAOxAAADsQBlSsOGwAAA2FJREFUWMOdWFmipCAMdDaQRfb7n3UEUUKI\n",
       "ypOP7paGSlWAJLgsd83Sj2Jdlw/NbnZm2Ef0H5N4IcMFfApb/ear+GTXMfU+8TP6s+niVQtJrOGZ\n",
       "K3zaYv1OFzdnEE2rNVcO9cWoVV1Kxd5INvQBnEKH4B113T/LxLmpgCeJ4B94aAgqeP0RTe1gmqee\n",
       "nlX5/9RxEboo2rq5tXnGle6Z1xEEOIXegcNmkJONTCaKXgDa1mhC5wiPtGfPIXqsnCEpuz2cmYnE\n",
       "R+3OBLsIpzsKbQQGp9A7cNiPtTPKhNc3x06Zf38NAJXLu3ZZnlmCYWSVeaEI7e7UbKH4B+0EegcO\n",
       "oD2f0b5IauFXHsTC4NHa+IR2Vv5iyY2n2A/aG7wPc+t+g36CA5BlTjuvrELwF2hZCdF5U8cJ7fWo\n",
       "pMGVxg9zwYmCgelB+w36Bd5o2VG7D/F0djMR8yhr9nOj1eUPi1bjclH2An/W7hJKHi6w02yQlHYL\n",
       "iDZ0WjtGB+AX3E4Va895zdYw2Uj4bMzkVZUXKh+joDljqZX+WbthVOY6plsQkkntAP1mU7Fb8Lbj\n",
       "R+2HAwwise1e0L0ZJ40xf37vH6oFmrXS5OvyqL3tnjFO5dzFt3vtHTqpnUSX3Uhv77TrGiYvEm4/\n",
       "P7JHFCWR9s6s2vezCWozgp7HRl3ZkepM8E0cte4QndKO0XvwA6zsXqRd8UO760msck+QYUzsBnVd\n",
       "8KA2G+mV4s/CHJfKmEoP1IQ3572hE9oH9A686mG5JckiXLmaIlDpuO3dNUlcSxLCsqK8r8JDnG9F\n",
       "bjEYBOiSDGzL+BrrxjjfPDCiA3BUabBu6uGHur0bCa/OUxRbvOQbDp6REdrjcYCuwsoanZuBtZb3\n",
       "N/n9TTsGp9AbOCrukuqn6hLfBTJREneM3gfgOcF+o9uUMwM7xvYbAsvWz1uCSaVx0LXvpp3ved2A\n",
       "2lVflSP0EZxEb+AGXH20SokF2Ldfg5jG9fxiyNuy/xXVHueBL40b170dRDHTRc99HUEhTRp8JmHN\n",
       "xM29K/wp/nGq66N2CmnS4DMJTV5iLZFGlR1rs3PThpmuvia8e3UhZ5AmDT6TsIr2/kYA1aF2vC4T\n",
       "JkirQvrXd0oDOoU0afCZhKLfWpGvV2w44wbbPr0qizPzvqL/mETI0v8DAOwzjLxBZJ8AAAAASUVO\n",
       "RK5CYII=\n",
       "\" style=\"display:inline;vertical-align:middle;\" /></a>"
      ],
      "text/plain": [
       "c not-in ({1, 2, 3} intersect {1, 2, 3, 4, 5})"
      ]
     },
     "metadata": {},
     "output_type": "display_data"
    }
   ],
   "source": [
    "# Recall this IntersectNonmembership object of unknown verity (where 'c' is an unassigned variable):\n",
    "intersect_nonmem_03.expr"
   ]
  },
  {
   "cell_type": "code",
   "execution_count": 46,
   "metadata": {},
   "outputs": [
    {
     "name": "stdout",
     "output_type": "stream",
     "text": [
      "ProofFailure (InstantiationFailure): Proof step failed:\n",
      "Attempting to instantiate |- forall_{m in NaturalPos} [forall_{x, A_{1}, A_{2}, ..., A_{m} | (x not-in A_{1}) or  (x not-in A_{2}) or  ... or  (x not-in A_{m})} (x not-in (A_{1} intersect  A_{2} intersect  ... intersect  A_{m}))] with {m: 2, x: c, A: ({1, 2, 3}, {1, 2, 3, 4, 5})}:\n",
      "Unsatisfied condition: (c not-in {1, 2, 3}) or (c not-in {1, 2, 3, 4, 5}). For debugging purposes, this is accessible via Instantiation.unsatisfied_condition with applicable assumptions in Instantiation.condition_assumptions.\n"
     ]
    }
   ],
   "source": [
    "# We should not be able to conclude() such an IntersectNonmembership object:\n",
    "try:\n",
    "    intersect_nonmem_03.conclude()\n",
    "    assert False, \"Expecting a ProofFailure (InstantiationFailure); should not get this far!\"\n",
    "except InstantiationFailure as the_error:\n",
    "    print(\"ProofFailure (InstantiationFailure): {}\".format(the_error))"
   ]
  },
  {
   "cell_type": "code",
   "execution_count": 47,
   "metadata": {},
   "outputs": [
    {
     "data": {
      "text/html": [
       "<span style=\"font-size:20px;\"><a class=\"ProveItLink\" href=\"../__pv_it/demonstrations/571e8de982b54f3e33967257ad8dc83039497b7c0/expr.ipynb\"><img src=\"data:image/png;base64,iVBORw0KGgoAAAANSUhEUgAAAC8AAAAOBAMAAABN+VgMAAAAMFBMVEX///8yMjJUVFS6urru7u4Q\n",
       "EBBERERmZmaqqqoiIiLc3NzMzMyYmJiIiIh2dnYAAACZiqmYAAAAAXRSTlMAQObYZgAAAAlwSFlz\n",
       "AAAOxAAADsQBlSsOGwAAAHtJREFUGNNjYMAGuAsYsANOBRwSN3FIcB/EIcHHCJZ4e2cDmsQtsMTK\n",
       "BvYEIFU5EwQmgcS5DoAl5jGwXkAziQEkwf4Fw4pTYAnWBHRxrgtgCX+oOQg7mJWU9IMeMPAfYGAw\n",
       "QNfECrIjgYEP3bkM/CDz3525gi7Onv/pAgB5YB/l1ov0TAAAAABJRU5ErkJggg==\n",
       "\" style=\"display:inline;vertical-align:middle;\" /></a> <a class=\"ProveItLink\" href=\"../__pv_it/demonstrations/2d00bc4d45e5a5c7ad1ca2579d98af8360180e950/proof.ipynb\" style=\"text-decoration: none\">&nbsp;&#x22A2;&nbsp;&nbsp;</a><a class=\"ProveItLink\" href=\"../__pv_it/demonstrations/6351f2f1f364e02a8adad4db14259f54096629ce0/expr.ipynb\"><img src=\"data:image/png;base64,iVBORw0KGgoAAAANSUhEUgAAAPsAAAAVCAMAAAC34mhmAAAAP1BMVEX///9jY2MJCQkdHR0NDQ0W\n",
       "FhZUVFQyMjK6urru7u4QEBBERERmZmaqqqoiIiLc3NzMzMyYmJiIiIh2dnYAAABSvsfBAAAAAXRS\n",
       "TlMAQObYZgAAAAlwSFlzAAAOxAAADsQBlSsOGwAAA2FJREFUWMOdWFmipCAMdDaQRfb7n3UEUUKI\n",
       "ypOP7paGSlWAJLgsd83Sj2Jdlw/NbnZm2Ef0H5N4IcMFfApb/ear+GTXMfU+8TP6s+niVQtJrOGZ\n",
       "K3zaYv1OFzdnEE2rNVcO9cWoVV1Kxd5INvQBnEKH4B113T/LxLmpgCeJ4B94aAgqeP0RTe1gmqee\n",
       "nlX5/9RxEboo2rq5tXnGle6Z1xEEOIXegcNmkJONTCaKXgDa1mhC5wiPtGfPIXqsnCEpuz2cmYnE\n",
       "R+3OBLsIpzsKbQQGp9A7cNiPtTPKhNc3x06Zf38NAJXLu3ZZnlmCYWSVeaEI7e7UbKH4B+0EegcO\n",
       "oD2f0b5IauFXHsTC4NHa+IR2Vv5iyY2n2A/aG7wPc+t+g36CA5BlTjuvrELwF2hZCdF5U8cJ7fWo\n",
       "pMGVxg9zwYmCgelB+w36Bd5o2VG7D/F0djMR8yhr9nOj1eUPi1bjclH2An/W7hJKHi6w02yQlHYL\n",
       "iDZ0WjtGB+AX3E4Va895zdYw2Uj4bMzkVZUXKh+joDljqZX+WbthVOY6plsQkkntAP1mU7Fb8Lbj\n",
       "R+2HAwwise1e0L0ZJ40xf37vH6oFmrXS5OvyqL3tnjFO5dzFt3vtHTqpnUSX3Uhv77TrGiYvEm4/\n",
       "P7JHFCWR9s6s2vezCWozgp7HRl3ZkepM8E0cte4QndKO0XvwA6zsXqRd8UO760msck+QYUzsBnVd\n",
       "8KA2G+mV4s/CHJfKmEoP1IQ3572hE9oH9A686mG5JckiXLmaIlDpuO3dNUlcSxLCsqK8r8JDnG9F\n",
       "bjEYBOiSDGzL+BrrxjjfPDCiA3BUabBu6uGHur0bCa/OUxRbvOQbDp6REdrjcYCuwsoanZuBtZb3\n",
       "N/n9TTsGp9AbOCrukuqn6hLfBTJREneM3gfgOcF+o9uUMwM7xvYbAsvWz1uCSaVx0LXvpp3ved2A\n",
       "2lVflSP0EZxEb+AGXH20SokF2Ldfg5jG9fxiyNuy/xXVHueBL40b170dRDHTRc99HUEhTRp8JmHN\n",
       "xM29K/wp/nGq66N2CmnS4DMJTV5iLZFGlR1rs3PThpmuvia8e3UhZ5AmDT6TsIr2/kYA1aF2vC4T\n",
       "JkirQvrXd0oDOoU0afCZhKLfWpGvV2w44wbbPr0qizPzvqL/mETI0v8DAOwzjLxBZJ8AAAAASUVO\n",
       "RK5CYII=\n",
       "\" style=\"display:inline;vertical-align:middle;\" /></a></span>"
      ],
      "text/plain": [
       "{c = 4} |- c not-in ({1, 2, 3} intersect {1, 2, 3, 4, 5})"
      ]
     },
     "metadata": {},
     "output_type": "display_data"
    }
   ],
   "source": [
    "# But if we supply some extra information about 'c', we can conclude:\n",
    "intersect_nonmem_03.expr.prove(assumptions=[Equals(c, four)],\n",
    "                               simplify_with_known_evaluations=True)"
   ]
  },
  {
   "cell_type": "code",
   "execution_count": 48,
   "metadata": {},
   "outputs": [],
   "source": [
    "%end demonstrations"
   ]
  },
  {
   "cell_type": "code",
   "execution_count": null,
   "metadata": {},
   "outputs": [],
   "source": []
  }
 ],
 "metadata": {
  "kernelspec": {
   "display_name": "Python 3",
   "language": "python",
   "name": "python3"
  },
  "language_info": {
   "codemirror_mode": {
    "name": "ipython",
    "version": 3
   },
   "file_extension": ".py",
   "mimetype": "text/x-python",
   "name": "python",
   "nbconvert_exporter": "python",
   "pygments_lexer": "ipython3",
   "version": "3.7.3"
  }
 },
 "nbformat": 4,
 "nbformat_minor": 1
}
