{
 "cells": [
  {
   "cell_type": "markdown",
   "metadata": {},
   "source": [
    "Proof of <a class=\"ProveItLink\" href=\"../../../../../../_theory_nbs_/theory.ipynb\">proveit</a>.<a class=\"ProveItLink\" href=\"../../../../../_theory_nbs_/theory.ipynb\">logic</a>.<a class=\"ProveItLink\" href=\"../../../../_theory_nbs_/theory.ipynb\">sets</a>.<a class=\"ProveItLink\" href=\"../../theory.ipynb\">equivalence</a>.<a class=\"ProveItLink\" href=\"../../theorems.ipynb#set_equiv_is_bool\">set_equiv_is_bool</a> theorem\n",
    "========"
   ]
  },
  {
   "cell_type": "code",
   "execution_count": 1,
   "metadata": {},
   "outputs": [],
   "source": [
    "import proveit\n",
    "from proveit import A, B\n",
    "from proveit.logic import Boolean, InSet\n",
    "from proveit.logic.sets.equivalence  import set_equiv_def\n",
    "theory = proveit.Theory() # the theorem's theory"
   ]
  },
  {
   "cell_type": "code",
   "execution_count": 2,
   "metadata": {},
   "outputs": [
    {
     "data": {
      "text/html": [
       "Under these <a href=\"presumptions.txt\">presumptions</a>, we begin our proof of<br><strong id=\"set_equiv_is_bool\">set_equiv_is_bool:</strong> <a class=\"ProveItLink\" href=\"../../../__pv_it/theorems/d2f3e5ece81f5879765aa93c2ae934934d58acf80/expr.ipynb\"><img src=\"data:image/png;base64,iVBORw0KGgoAAAANSUhEUgAAALcAAAAWBAMAAABwABDnAAAAMFBMVEX///+IiIgiIiIQEBB2dnbu\n",
       "7u5ERETMzMzc3NwyMjK6urpmZmaYmJiqqqpUVFQAAAB6qHgnAAAAAXRSTlMAQObYZgAAAAlwSFlz\n",
       "AAAOxAAADsQBlSsOGwAAAvpJREFUOMutVU1IVFEU/mZ8b3TGmXHsh1pIygSViWHSDwXWLCTaZFML\n",
       "lzIF/dHCoUWboJGEQIg0xIoQM0rcFEmI0Q80uQjMhVO2CYKCwqjAmehPi7Jzz73v6VznvTYdOO/d\n",
       "n3O/e893v3ce4Gptyl2sxGWpq3ky0sk6nGICEW3N6mOz9R+Ba9R+IwZeOSx8oZzsKj/Nt7ViPbeD\n",
       "rX+mPxwBKrRFvkCko6UfnjRwX/QvF8Y2u6STheb45V0xGgPCcrooAWST8Md18LTRRlM9wGlBW6Iw\n",
       "eGlaumhmmcMKmH3AKTndSYTcHkJwaBF4MEOEjIP3NTKFwYuUk+3em4QkMXwpsE6OTdDQBG2wWZF9\n",
       "MFptg1O+RXEE6WR+B8pfKqfcIpV8AOIElV/65XSWvJsS6pUXeyFunzx8jgL9hFwfjW5yAB9WTqzg\n",
       "ddoetjjeArSspXeTlFPcpmX5knf0NijNu8ChvDXz1gvrWLeQiumzxd/LV/HsGPJE4QtU76whsCBR\n",
       "cx4lLEdzK0+d/NU4klRhtcqBIXRy0J2osA2S4xlgUuQzyd2uBRfqeUpSCdVRO24wh8Zvqd4qeOpU\n",
       "2Hbl8Bx/kF2kKB+FGT+okeI8iN7oGgWOxA0aydEGEXmfgxv5FSZt5XTwfUBZlQ5eRrkEP1PjOiee\n",
       "WHByJHx0w+KMXY95LNIn5ZfB/rROCynZW6eDpygs/JMaz7lblQdOBw6JkT09nDnuyS+jYvy9FXZA\n",
       "eUDINadzXkkqTAmmn3C3PA/8GWUlcmnnqxrEUp4ahfnJCmtS3i6WzOgn76Zdt8VttfozNnjMWEa5\n",
       "lgp9hVkcw41Z1iIhd6qPBCekN8/1INQ6q2lxam56+iIDrpeFaGpAiqj7MFdFePvtQkmYvEkD1QtL\n",
       "it6k9H8UdMV2YJf8/C07Y7du0u1nzBhKvsGssQZFSdLLUuHyVsge2gE7YD66UtyAsa+NI/Nl7Khy\n",
       "VzvrkJD+YYS0frNyV3PY3af/5wb03SPSXX+FDj/LlfpAGv/V/gJ0LLgQi4qingAAAABJRU5ErkJg\n",
       "gg==\n",
       "\" style=\"display:inline;vertical-align:middle;\" /></a><br>(see <a class=\"ProveItLink\" href=\"../../../__pv_it/theorems/3255a2dbdaefc59865f49333a7630cb4a3baffb70/dependencies.ipynb\">dependencies</a>)<br>"
      ],
      "text/plain": [
       "<IPython.core.display.HTML object>"
      ]
     },
     "metadata": {},
     "output_type": "display_data"
    }
   ],
   "source": [
    "%proving set_equiv_is_bool"
   ]
  },
  {
   "cell_type": "code",
   "execution_count": 3,
   "metadata": {},
   "outputs": [
    {
     "data": {
      "text/html": [
       "<span style=\"font-size:20px;\"> <a class=\"ProveItLink\" href=\"../../axioms.ipynb#set_equiv_def\" style=\"text-decoration: none\">&nbsp;&#x22A2;&nbsp;&nbsp;</a><a class=\"ProveItLink\" href=\"../../../__pv_it/axioms/a526f1ab8a886b46cea1848b9b6f2e135fcc6d080/expr.ipynb\"><img src=\"data:image/png;base64,iVBORw0KGgoAAAANSUhEUgAAAY4AAAAWBAMAAAAlaGbVAAAAMFBMVEX///+IiIgiIiIQEBB2dnbu\n",
       "7u5ERETMzMzc3NwyMjK6urpmZmaYmJiqqqpUVFQAAAB6qHgnAAAAAXRSTlMAQObYZgAAAAlwSFlz\n",
       "AAAOxAAADsQBlSsOGwAABQNJREFUWMPVV2toHFUUPpPd2dfsbnYrasCYLlMwPlBW8RlsyY8gOFBd\n",
       "BStSKNtKsRQki1X/CGajUvBPs1KrIrZG2lIEpdsa6qvUtT+KJUpWK0JRaLRYKUoStW1aq63nnnNn\n",
       "d2bu3Unwnwc+zt2zd757zz2PuQMQJgmJMKkqFsOu/Aeq6iJtQcIl/QtuEa6VwCdqnea8o1ii46FU\n",
       "uj3VdDxgNEP2lsoxwCE1LWw/6KdmBhkoyTlS5smbBT+Nj1yemXmtAkZD9SNLTzf0VBoR7CoPfKud\n",
       "nB6+NHP6CYBeYDikPhF/vaGnf0wC5QT70XX1YdxMlm134mgeYJvqhyUikqzqqTRC7AqP2SEHImWA\n",
       "2QokS0BwSD0vwlrWP3BQAuXQeVK9YO4AeI6T4XcM7EWASdWPuIjy5g5UGiF2hcdq6GePYRrtrUO6\n",
       "DgSHlPAo2iEPixI446V50ri/7Oup6zm+aEqjL5GSWh/ibFfqqVy5yrbd82Z2hSfiL5Z19g08msI2\n",
       "MoW+3AEEh1QanU52KI8aA2XU+Ie0yPClf3IdZzEZkncjGqofX6Kq6amkvHtle8zsCs9xX1m/0nJz\n",
       "FrEVk/YtIDisbrPt2/V+WIMMlHrm77a91EpT8yc8mui06kfEtpcNaqjM/M9PU5wS3mpgdoVnAvFQ\n",
       "36NDlC0vt6OFdbmmH/UDDIfVhwDrvdvzdJGGe0ipZvyM4ubI2vxp8W+aznm/LeQW6YdVgVhJQ2VB\n",
       "X24/BJqAZCcei2hsckmcd9340Sr4W1H8XL5P/AVHGQ6rLZCgp8y7aNazF4cOyNdYV5Mhlk9cgsBu\n",
       "YWkVMveKnCmq8UDKLV6TS/UFTJV+Iz+8wWJ2hQdbfLqaPpulo2wnpYFN4ZiwHWM4rGIlfm9FuQLS\n",
       "BTAkYWScgTX56aFzSjweRzyILsfnNO/B9UTfLllJVYGP2bBJnIdsk5Jd4RlAG1jsQBzT376OhjHc\n",
       "XlQ0hhGGwyqT47PZcytXLza0uYAfJjaHPxQ/xBmKtpHSxAO+9pW550h4FVjleU1IdoVngJ7M8aT2\n",
       "q6F7mvsk7GQ4clj7nP7O7eAVm/BwI5BXFmJZ0I24qM1Z3FumoNYHJNO4vnHN6EcBqtR5eIQM3rRi\n",
       "duLx1oe4OsDeqkmFVmjXJW4v+xcOvmE4criSWochIz7WO/mLfCCWY8B7iLeD9SHSNH5BZGJZE4/o\n",
       "cVy9J1ve7qMyN2aL1LvByLWmu+wKz1oM2/hJiNKPfMuMdQkjItpHGI4cvkjO74EraNZhMH919zPN\n",
       "SIiADwfvnkm07twGrdbs9yOxAgeNWK7io8rMry6m+KW7vXVHdNkVHmymJ575AN7n5Vrv6q0Y1XtK\n",
       "si9PsB9imKW1JoZmKX7oxJi8r8YLBHP4Qgm+u/yqf5GsuK09SSkyrrvvUlC7Xeddqn25779iy5qN\n",
       "3Jfb7ArPUwCr85mD7IB5ajdbT4nrKdluZDhyyM0Mt0/+LMeUdD8f+iXC5YXO9/ZNrS8IlWrXOrsW\n",
       "ztPl+4xJ3efeS9xAFhgOq1aSdjfNQUicBfMm1zipu71pb5NaPxLF+6G+eCqFJ10PnS+ukQKO50Zp\n",
       "rQDzszfjy+HomaEDrUyMVRnh34zljvHYtytfWjSV5tK9IXThzRJO4GotWl/gA6Dsa9x6UXen+x5c\n",
       "mErj5arQhTdIOKrDuwO/RyXCpEf9rtV9ny9I1aMJUS5kvlFlLBkg5ZMG/F/lXyLvYzOjsAy1AAAA\n",
       "AElFTkSuQmCC\n",
       "\" style=\"display:inline;vertical-align:middle;\" /></a></span>"
      ],
      "text/plain": [
       "|- forall_{A, B} ((A equiv B) = [forall_{x} ((x in A) = (x in B))])"
      ]
     },
     "metadata": {},
     "output_type": "display_data"
    }
   ],
   "source": [
    "set_equiv_def"
   ]
  },
  {
   "cell_type": "code",
   "execution_count": 4,
   "metadata": {},
   "outputs": [
    {
     "data": {
      "text/html": [
       "<strong id=\"set_equiv_def_inst\">set_equiv_def_inst:</strong> <span style=\"font-size:20px;\"> <a class=\"ProveItLink\" href=\"../../../__pv_it/_proof_set_equiv_is_bool/08df7e0e4bfa53899b28c04f86c85ae4ff70efb40/proof.ipynb\" style=\"text-decoration: none\">&nbsp;&#x22A2;&nbsp;&nbsp;</a><a class=\"ProveItLink\" href=\"../../../__pv_it/axioms/a1911f75c42a7792e0aa461152b75a94730f395f0/expr.ipynb\"><img src=\"data:image/png;base64,iVBORw0KGgoAAAANSUhEUgAAAUcAAAAVBAMAAAAnVjEQAAAAMFBMVEX////MzMxUVFRERES6uroi\n",
       "IiIQEBCYmJhmZmYyMjLu7u52dnaqqqqIiIjc3NwAAACW8nlqAAAAAXRSTlMAQObYZgAAAAlwSFlz\n",
       "AAAOxAAADsQBlSsOGwAABAhJREFUSMeNl0loE1EYx7+kaSeZzMQgqKCHhopKBWkOVURs7cWCG8Zl\n",
       "BFEhoCIoSsGLgksFtYooAQ9CcYn2ooIgLifXixseDC4oYjUoFnoQay8uYOv3fe9NMjPvZeKD/ywv\n",
       "b37f/+0vAFCG0JRSs96s0pQrQzgq9Z95QaDtpPHykLOGa5WNlZSsW5pihJEoTRrWcuBDmMkVUsku\n",
       "gOci64K4XdpKgQRv93hLy+k0vNWYzNDtiTfvOVRQmkR0lWNd1xaWce0eYKFJsyDKj4sCm6ZswGtG\n",
       "vGwGiP6ARFE1eZhu5z1ZhJEoTWK6yrlSo7iIC/3AQpPxHs6Pt/F4QudXMhDpFSPmL3bSLzB6VZMT\n",
       "6eesJ4swEqVJTFc5fTVGr4gLe4CFJpvED/cfpOkWRbWmF4sJYGBtDPxgu2qSWiXpHYFNUp5BOtdZ\n",
       "7z4LusLJ+95eOU7BF7epyEKTz4T50icOmST6+BbxVXQE+2gXwBnVpIGNlvBmPZOqzrdz1d6V9CDH\n",
       "8g2PJe/dJzduooeFJk+I/oAX1b4y3dbJgjkDm+CGZnZvdZwd3qwTUtdeXrzD1R32jEBJD3LiOG/M\n",
       "wdnT7nJF+qu9IuMmMyw0Kaq3HJrVmdbcMdhK8L1MdDhlpMlDAAu8Zc9I9dpz4rngrJJ05hxhzGp6\n",
       "pJaKw8vSEX4pK3GNAgtNbuT8XvieCVqBT2WwtuH9saYlP0Mq483aKGSUjT9R7hNvV0p6kNOITX4A\n",
       "DhZnsclqvhvXyrPQJI8/e/6xtqzSkvNQNOKbNSYbirTGVtMWoQjEhbsIjgdnjZxCkh7kNCEhDcfF\n",
       "y2RqnKwvbmSE5Zq8BjAhp5gcRR3Edb1bY9Iq+eaNaxIji43A9NTZpXdrTALsFC8DatxYnuV2N65g\n",
       "jfmglchPvLQh6JFmTEJhP14GT70r+7obYGXZ5CmT8/a2oD8KjEnqboiNwVV+UeNaORaa7KCCNNdH\n",
       "glbsMfzgN21Tur37Ls5Guzw9IRfLDqGBrpm8jKH/6mLk0oOchhKY7dE88JS1K1t7Ja6RZaFJWheG\n",
       "6IuxoJUE1r67Xy4tiskhrIgBHRGZdUPoxdSjOJf568pSX6EHObi8WD8u52Oi5FklLi1RKDQ5Cas/\n",
       "3g/Wot+BNSi6aLSldSE9rdWZjPIOVanZJKHLg1afiGlOXyoHW4Ue5ERyYJ4sPd0njzbtxUDcxi4W\n",
       "mmxMQ52UytU8qkXy7omQMH5U7GZ1W6zB8R9Ll811/CeUr0JoUt32ldNBTy2TQ8lCXD4Spg5K5ewJ\n",
       "D9wnRGtdZz2TX2oeeuOv71U23E6oh1I5DaF/CuiURSKTA/VMdv7XyXwA6qFUjpkNK09VIJHJVCnc\n",
       "o61W97bmPw5hQlEaDnwLC/xRyF7X9Q/eoyt06lwoWAAAAABJRU5ErkJggg==\n",
       "\" style=\"display:inline;vertical-align:middle;\" /></a></span><br>"
      ],
      "text/plain": [
       "<IPython.core.display.HTML object>"
      ]
     },
     "metadata": {},
     "output_type": "display_data"
    }
   ],
   "source": [
    "set_equiv_def_inst = set_equiv_def.instantiate()"
   ]
  },
  {
   "cell_type": "code",
   "execution_count": 14,
   "metadata": {},
   "outputs": [
    {
     "data": {
      "text/html": [
       "<strong id=\"set_equiv_in_bool_as_defined\">set_equiv_in_bool_as_defined:</strong> <span style=\"font-size:20px;\"> <a class=\"ProveItLink\" href=\"../../../__pv_it/_proof_set_equiv_is_bool/e7e9a4210c1cd1f10f048132b769b1b7fe8b9c9d0/proof.ipynb\" style=\"text-decoration: none\">&nbsp;&#x22A2;&nbsp;&nbsp;</a><a class=\"ProveItLink\" href=\"../../../__pv_it/_proof_set_equiv_is_bool/89c07f8c7d3b93211e5e04f73c258d3456cff7040/expr.ipynb\"><img src=\"data:image/png;base64,iVBORw0KGgoAAAANSUhEUgAAAQcAAAAVBAMAAAC57DawAAAAMFBMVEX///8QEBDu7u5ERETc3Nwy\n",
       "MjJmZmaYmJiqqqpUVFS6urp2dnbMzMwiIiKIiIgAAABIjShRAAAAAXRSTlMAQObYZgAAAAlwSFlz\n",
       "AAAOxAAADsQBlSsOGwAAA4FJREFUSMeFVltIVFEU3TNz5+k4DRhEQTEk+RVyiz4iyBmIPiKUcQoK\n",
       "grSoREIZKEzoQyHsJ0h7SBg9LAgDyYQemFFN/UY0EkGCAwPZww8nKa0kH+1995k793HG2bAcz957\n",
       "3bPO3ueec2F6AuwWEyhmspgCJQiIUCYlDY9KfKFOhtSUOMCQxP99JRFDAmX9Jvd0RUP9OLpG/TTy\n",
       "JY2xCwJSc8+gwqTN7RuWZp9a7uvbl9IIBIsIUIeUxHUU4SG/21hgZ5wht24UAQmbe1OR9AoA/wIT\n",
       "EhIRA/DYhSKCPTjYZYx4kgy5Nc/inzabu6lI85YAAr+Z0CYV0e6nPUEiR4wRh4Bhk+zMfBT/lu1d\n",
       "oHDEOltYnu/FbO8SExBChB4nEW4ScQYHpuJ3CegWOFyYsy70l9pnLZQvLs/3Y/Pcq5mAYBGFOIq4\n",
       "epZEODKZMdOuOilQPbX5ufaO7Dasu9H3h+rRYxHhwSc4c5ffjljyHSo4b6aYgGARhbg6VD0+TCI8\n",
       "KXCZqntAoDF0y5Mmx37DIjuD/6jK2sJbMmTjIErjgalsiyX/fU2uNykICBZRiKsP6hePkgilB/aY\n",
       "VvWJ4Y15f/q1shtK7QFlnqoftlSiHEt2Gjoi1yz5P2LgWyMICBYRN27Mb/cidFhttZxY6xhB8HB2\n",
       "cD2u9wPHPp9o/kWuGYsIBz49Bcdt+VsQr1JMQGgiDHEU4QoM0/wXzfsyLwKfnOVzQy0cIehZpK6E\n",
       "JSIANljzgcrWkWVCQFTCECcRoJIItxezQl/rjpnbAfAw5tQ2S9rQDYAxqm7asieoHRCYhY3m/CDt\n",
       "4tv9TEBwO9JmEXESUdaFU0361YMiUsOo7L8EZZojp5MGEA20z1RLJVxZcO7wh2HYnB/Cky04JwgI\n",
       "FpEzifBlSYSyFodJVzZ/wz1jdL85Avf5ushfZgp1IRrjN9Jk+Pr5FqrCgU5TPriRcCchXmEEiyjE\n",
       "1UF4+ZRv0Rs0XqVfH+8YVTlfE2c7r9zl3+hcBM4tH8LqW45fCKbB2Zo9327KB390vq93u9aufg0s\n",
       "Qo9/qYjyLZp/zGv9K6E8xTCcDo/0Y5ut1nZJTKyYrxFq9bvDGh/NF/oJNAqXt5GxgtmvqzYoSWiy\n",
       "X2CWj5rWwZx+bG4TKGqKanO5YqUIhBIijFYpUNQkMzrVUgRCEREvJN+YSpZR1CYlvjooQUCExqQi\n",
       "/gMI8g+l0q48hAAAAABJRU5ErkJggg==\n",
       "\" style=\"display:inline;vertical-align:middle;\" /></a></span><br>"
      ],
      "text/plain": [
       "<IPython.core.display.HTML object>"
      ]
     },
     "metadata": {},
     "output_type": "display_data"
    }
   ],
   "source": [
    "set_equiv_in_bool_as_defined = set_equiv_def_inst.rhs.deduce_in_bool()"
   ]
  },
  {
   "cell_type": "code",
   "execution_count": 15,
   "metadata": {},
   "outputs": [
    {
     "data": {
      "text/html": [
       "<span style=\"font-size:20px;\"> <a class=\"ProveItLink\" href=\"../../../__pv_it/_proof_set_equiv_is_bool/c554b44fc9103b50c221ecc30a5631125d0da0560/proof.ipynb\" style=\"text-decoration: none\">&nbsp;&#x22A2;&nbsp;&nbsp;</a><a class=\"ProveItLink\" href=\"../../../__pv_it/theorems/0ff36c1bb5bf87a69f2036bdae82b30e66a78ab20/expr.ipynb\"><img src=\"data:image/png;base64,iVBORw0KGgoAAAANSUhEUgAAAHEAAAAVBAMAAACDNRyvAAAAMFBMVEX////MzMxUVFRERES6uroi\n",
       "IiIQEBCYmJhmZmYyMjLu7u52dnaqqqqIiIjc3NwAAACW8nlqAAAAAXRSTlMAQObYZgAAAAlwSFlz\n",
       "AAAOxAAADsQBlSsOGwAAAfBJREFUOMtjYGB4wIAX8OGU4T0Apl7ikme5gCZwNXn+tCAHIOM0hD8f\n",
       "THKpxYAMA7PZ7T8paRoyMFxHN8vAl2+WClDtBDCP5z+YYr1YuoGBgQmigs2AgUFfgIFzAbpOd4Z9\n",
       "zAwMHAVgHoc+2LvXGbgmMTBIQFS8B7rTv4GBvQFTZw3QcDYIb99+ARClALRwIkscRKweKFQP1J0F\n",
       "DRDT0Ei4Tk4GhpOQALxwHxxQQKcy3P/mAFGqD8TTgE6ZDgmpuQsQdupVMzB0QxzLcL4A7hqYimQG\n",
       "hkWBQHoTJPAXIEJobdAGmIE+DPIb0IOQ8fPdS2DZSjB3HsKfrtO+djEwxIA5DQzvFUB0aygIBEH8\n",
       "9Y+B4RjIJcfA3AnIIXTdcwFDCliRRYe+AbqdzAkMDNwfgQx5sAtSgUYGw3Qys2yA6FzLwMAfgK6T\n",
       "H+gK9r9Ahhs4jRgg28nMYABxLTDGWBPQdcoDXcr0Bcg4CuYGoOqcwGALCnCgGs4P6P68D4wQeZDv\n",
       "isHcuyg6eS6Ag/wZyFf/0O2cBjQyExQVkIjjPADX6c2wdwcDgygDw+L/sxh47H+iRYvyfyWlyWDV\n",
       "IZDMoOwFkbiZbA/OK6wCDAQAH9SHLJuhqQ8KMNIzBuAowCFhR0jnY1wSiwnpxGk03wX8GnlxlFMA\n",
       "GT52WHH9QWYAAAAASUVORK5CYII=\n",
       "\" style=\"display:inline;vertical-align:middle;\" /></a></span>"
      ],
      "text/plain": [
       "|- (A equiv B) in BOOLEAN"
      ]
     },
     "metadata": {},
     "output_type": "display_data"
    },
    {
     "name": "stdout",
     "output_type": "stream",
     "text": [
      "set_equiv_is_bool is now readily provable.  Simply execute \"%qed\".\n"
     ]
    }
   ],
   "source": [
    "set_equiv_def_inst.sub_left_side_into(set_equiv_in_bool_as_defined)"
   ]
  },
  {
   "cell_type": "code",
   "execution_count": 16,
   "metadata": {},
   "outputs": [
    {
     "name": "stdout",
     "output_type": "stream",
     "text": [
      "proveit.logic.sets.equivalence.set_equiv_is_bool has been proven.\n"
     ]
    },
    {
     "data": {
      "text/html": [
       "<table><tr><th>&nbsp;</th><th>step type</th><th>requirements</th><th>statement</th></tr>\n",
       "<tr><td><a name=\"0x308413e35d51042b_step0\">0</a></td><td>generalization</td><td><a href=\"#0x308413e35d51042b_step1\">1</a></td><td><span style=\"font-size:20px;\"> <a class=\"ProveItLink\" href=\"../../../__pv_it/_proof_set_equiv_is_bool/c2a2c61e4e4d065ee2df6f45da7f50501e4ee44f0/proof.ipynb\" style=\"text-decoration: none\">&nbsp;&#x22A2;&nbsp;&nbsp;</a><a class=\"ProveItLink\" href=\"../../../__pv_it/theorems/d2f3e5ece81f5879765aa93c2ae934934d58acf80/expr.ipynb\"><img src=\"data:image/png;base64,iVBORw0KGgoAAAANSUhEUgAAALcAAAAWBAMAAABwABDnAAAAMFBMVEX///+IiIgiIiIQEBB2dnbu\n",
       "7u5ERETMzMzc3NwyMjK6urpmZmaYmJiqqqpUVFQAAAB6qHgnAAAAAXRSTlMAQObYZgAAAAlwSFlz\n",
       "AAAOxAAADsQBlSsOGwAAAvpJREFUOMutVU1IVFEU/mZ8b3TGmXHsh1pIygSViWHSDwXWLCTaZFML\n",
       "lzIF/dHCoUWboJGEQIg0xIoQM0rcFEmI0Q80uQjMhVO2CYKCwqjAmehPi7Jzz73v6VznvTYdOO/d\n",
       "n3O/e893v3ce4Gptyl2sxGWpq3ky0sk6nGICEW3N6mOz9R+Ba9R+IwZeOSx8oZzsKj/Nt7ViPbeD\n",
       "rX+mPxwBKrRFvkCko6UfnjRwX/QvF8Y2u6STheb45V0xGgPCcrooAWST8Md18LTRRlM9wGlBW6Iw\n",
       "eGlaumhmmcMKmH3AKTndSYTcHkJwaBF4MEOEjIP3NTKFwYuUk+3em4QkMXwpsE6OTdDQBG2wWZF9\n",
       "MFptg1O+RXEE6WR+B8pfKqfcIpV8AOIElV/65XSWvJsS6pUXeyFunzx8jgL9hFwfjW5yAB9WTqzg\n",
       "ddoetjjeArSspXeTlFPcpmX5knf0NijNu8ChvDXz1gvrWLeQiumzxd/LV/HsGPJE4QtU76whsCBR\n",
       "cx4lLEdzK0+d/NU4klRhtcqBIXRy0J2osA2S4xlgUuQzyd2uBRfqeUpSCdVRO24wh8Zvqd4qeOpU\n",
       "2Hbl8Bx/kF2kKB+FGT+okeI8iN7oGgWOxA0aydEGEXmfgxv5FSZt5XTwfUBZlQ5eRrkEP1PjOiee\n",
       "WHByJHx0w+KMXY95LNIn5ZfB/rROCynZW6eDpygs/JMaz7lblQdOBw6JkT09nDnuyS+jYvy9FXZA\n",
       "eUDINadzXkkqTAmmn3C3PA/8GWUlcmnnqxrEUp4ahfnJCmtS3i6WzOgn76Zdt8VttfozNnjMWEa5\n",
       "lgp9hVkcw41Z1iIhd6qPBCekN8/1INQ6q2lxam56+iIDrpeFaGpAiqj7MFdFePvtQkmYvEkD1QtL\n",
       "it6k9H8UdMV2YJf8/C07Y7du0u1nzBhKvsGssQZFSdLLUuHyVsge2gE7YD66UtyAsa+NI/Nl7Khy\n",
       "VzvrkJD+YYS0frNyV3PY3af/5wb03SPSXX+FDj/LlfpAGv/V/gJ0LLgQi4qingAAAABJRU5ErkJg\n",
       "gg==\n",
       "\" style=\"display:inline;vertical-align:middle;\" /></a></span></td></tr>\n",
       "<tr><td><a name=\"0x308413e35d51042b_step1\">1</a></td><td>instantiation</td><td><a href=\"#0x308413e35d51042b_step2\">2</a>, <a href=\"#0x308413e35d51042b_step3\">3</a>, <a href=\"#0x308413e35d51042b_step4\">4</a></td><td><span style=\"font-size:20px;\"> <a class=\"ProveItLink\" href=\"../../../__pv_it/_proof_set_equiv_is_bool/c554b44fc9103b50c221ecc30a5631125d0da0560/proof.ipynb\" style=\"text-decoration: none\">&nbsp;&#x22A2;&nbsp;&nbsp;</a><a class=\"ProveItLink\" href=\"../../../__pv_it/theorems/0ff36c1bb5bf87a69f2036bdae82b30e66a78ab20/expr.ipynb\"><img src=\"data:image/png;base64,iVBORw0KGgoAAAANSUhEUgAAAHEAAAAVBAMAAACDNRyvAAAAMFBMVEX////MzMxUVFRERES6uroi\n",
       "IiIQEBCYmJhmZmYyMjLu7u52dnaqqqqIiIjc3NwAAACW8nlqAAAAAXRSTlMAQObYZgAAAAlwSFlz\n",
       "AAAOxAAADsQBlSsOGwAAAfBJREFUOMtjYGB4wIAX8OGU4T0Apl7ikme5gCZwNXn+tCAHIOM0hD8f\n",
       "THKpxYAMA7PZ7T8paRoyMFxHN8vAl2+WClDtBDCP5z+YYr1YuoGBgQmigs2AgUFfgIFzAbpOd4Z9\n",
       "zAwMHAVgHoc+2LvXGbgmMTBIQFS8B7rTv4GBvQFTZw3QcDYIb99+ARClALRwIkscRKweKFQP1J0F\n",
       "DRDT0Ei4Tk4GhpOQALxwHxxQQKcy3P/mAFGqD8TTgE6ZDgmpuQsQdupVMzB0QxzLcL4A7hqYimQG\n",
       "hkWBQHoTJPAXIEJobdAGmIE+DPIb0IOQ8fPdS2DZSjB3HsKfrtO+djEwxIA5DQzvFUB0aygIBEH8\n",
       "9Y+B4RjIJcfA3AnIIXTdcwFDCliRRYe+AbqdzAkMDNwfgQx5sAtSgUYGw3Qys2yA6FzLwMAfgK6T\n",
       "H+gK9r9Ahhs4jRgg28nMYABxLTDGWBPQdcoDXcr0Bcg4CuYGoOqcwGALCnCgGs4P6P68D4wQeZDv\n",
       "isHcuyg6eS6Ag/wZyFf/0O2cBjQyExQVkIjjPADX6c2wdwcDgygDw+L/sxh47H+iRYvyfyWlyWDV\n",
       "IZDMoOwFkbiZbA/OK6wCDAQAH9SHLJuhqQ8KMNIzBuAowCFhR0jnY1wSiwnpxGk03wX8GnlxlFMA\n",
       "GT52WHH9QWYAAAAASUVORK5CYII=\n",
       "\" style=\"display:inline;vertical-align:middle;\" /></a></span></td></tr>\n",
       "<tr><td>&nbsp;</td><td colspan=4 style=\"text-align:left\"><span style=\"font-size:20px;\"><a class=\"ProveItLink\" href=\"../../../__pv_it/_proof_set_equiv_is_bool/f307345efa93fdd6c2df141d735449c4534792f70/expr.ipynb\"><img src=\"data:image/png;base64,iVBORw0KGgoAAAANSUhEUgAAADsAAAAVBAMAAAAKrYvGAAAAMFBMVEX///+6urqYmJgiIiLc3Nx2\n",
       "dnaqqqrMzMwQEBDu7u5mZmYyMjJUVFRERESIiIgAAAAee7pSAAAAAXRSTlMAQObYZgAAAAlwSFlz\n",
       "AAAOxAAADsQBlSsOGwAAAR1JREFUKM9jYEAGDnh4DAx8CShcOTD59v+ds7smgFipaKoVwNRvBgbe\n",
       "TiDNuQHNtJ0ggv0fAwMbEDNwKaBJa4HN+A7EX4EMDjRZBg6QlbwfgBiohCEbXZobZBz/BQaG+gdA\n",
       "xlKEBMvRJ0AR1gMMYClXM5DYJoS0hAPvTwYGJpBb3x8NVQSLmcFlOZsYuAyADm4Asu/DBBvh0lwf\n",
       "GJgDgH76APE2ujTHBYb5AgwMjEDd7F9hggjD5z9g0AdSbEAL+D7CBO8hpBMYTrM5MDAB/cT9ASYY\n",
       "A5fmfcBmxQV0QgAD1/2/D6CCxUCb7gLBFQbOc+E+zxkYmAWQA4m5AC3UnFF4TAvQpBehcq+gclku\n",
       "oPLnonJ50VITywMU7hMGBgCRA0HPkLXvDgAAAABJRU5ErkJggg==\n",
       "\" style=\"display:inline;vertical-align:middle;\" /></a> : <a class=\"ProveItLink\" href=\"../../../__pv_it/_proof_set_equiv_is_bool/fc409320084c485881d7fc8a0b526cf342c582090/expr.ipynb\"><img src=\"data:image/png;base64,iVBORw0KGgoAAAANSUhEUgAAAD4AAAAQBAMAAAC8SdExAAAAMFBMVEX///8yMjKqqqoiIiJmZmaY\n",
       "mJju7u4QEBC6urqIiIh2dnZUVFTc3NxERETMzMwAAAAY8qdrAAAAAXRSTlMAQObYZgAAAAlwSFlz\n",
       "AAAOxAAADsQBlSsOGwAAAMxJREFUGNNjYMABOM0vfizewYAb8HJMOJjdgE8+gOvABbzyrAobMMXn\n",
       "GhsLwOUFMKQbpyH0cx9dABc/vfIkiOIRQ5g/bfIuuDRHDcP9BCDNeAAhb1hvkgDjpQcwOINoRmT3\n",
       "cUbATfNnYLAC0c+NgeACVJ7hQhdMvpaB7QeIzkXWz3CBF8ph+8nA+gHEYEaVh1nH9omBW0AHFOwT\n",
       "UOQ1YbybDMoODiCGEEJ+AdcsB4a3d4HgAEP2rDc7H4CEs29A/MQpfhd7/HVdNkYKVQD4kjfiMSG9\n",
       "pwAAAABJRU5ErkJggg==\n",
       "\" style=\"display:inline;vertical-align:middle;\" /></a>, <a class=\"ProveItLink\" href=\"../../../../../../__pv_it/common/a0d9d672aa5e272d907247690c152cc2c6daafb70/expr.ipynb\"><img src=\"data:image/png;base64,iVBORw0KGgoAAAANSUhEUgAAAAsAAAAJBAMAAAAWSsseAAAAMFBMVEX///9ERES6uroQEBAyMjLc\n",
       "3NyYmJgiIiJmZmaqqqp2dnbMzMxUVFSIiIju7u4AAAAd7oVFAAAAAXRSTlMAQObYZgAAAAlwSFlz\n",
       "AAAOxAAADsQBlSsOGwAAAENJREFUCNdjYHh75/WqCQwMDbxnOQoY2ALY/vEkMHAzcDgwgADzBTCl\n",
       "H8D3gOGhwmEGLgaG+fuaGTQZGF7c5WybwAAAJTwQ1a2DuB8AAAAASUVORK5CYII=\n",
       "\" style=\"display:inline;vertical-align:middle;\" /></a> : <a class=\"ProveItLink\" href=\"../../../__pv_it/theorems/2ee8dc2018014830ed832e2e3d65a4df89f102480/expr.ipynb\"><img src=\"data:image/png;base64,iVBORw0KGgoAAAANSUhEUgAAADsAAAAPBAMAAACo4Ko7AAAAMFBMVEX///8QEBAiIiLu7u5ERES6\n",
       "urqYmJiIiIjMzMx2dnZUVFRmZmaqqqoyMjLc3NwAAABb1yYoAAAAAXRSTlMAQObYZgAAAAlwSFlz\n",
       "AAAOxAAADsQBlSsOGwAAAPpJREFUGNNjYACBtwx4wX0wybxQB0iyg9ls/r9WrfWAyPL8B1NMFUkT\n",
       "GBi4IGKMDgwM6xvATO71D0BUGQPzLQaGboj0+wIGhvgNYOa8+WBlC4Bab7DqQaTzgUL5BSAWX0H9\n",
       "ARANNJmh/mMARHo9EF8EG8rNcD4B7koDKC3CwGClAWbFMPRPQPcLx5fyqmsQ5gaG9wtA9CYlENAC\n",
       "i7H/Y2A4CDaT3Xv3egd03SwCDAycP0AscwYGfgV0aX6geWzfIWYzMAmgS/cDDeb6CmSwAhm8H9Dt\n",
       "rgf6qf8CkPEQZNM/dN0XgfpkgZ40+X+Zgcf/L5rPlvxfteoKMKwAotBAF+FrKrQAAAAASUVORK5C\n",
       "YII=\n",
       "\" style=\"display:inline;vertical-align:middle;\" /></a>, <a class=\"ProveItLink\" href=\"../../../../../../__pv_it/common/ff7dba4ef0bbe791ab573bf2d9c220a304399ac80/expr.ipynb\"><img src=\"data:image/png;base64,iVBORw0KGgoAAAANSUhEUgAAAAsAAAANBAMAAACN24kIAAAAMFBMVEX////c3NwyMjK6urpEREQi\n",
       "IiLMzMwQEBCqqqp2dnZUVFSYmJhmZmaIiIju7u4AAADlKNhoAAAAAXRSTlMAQObYZgAAAAlwSFlz\n",
       "AAAOxAAADsQBlSsOGwAAAFhJREFUCNdj4LuzgeEVAwMnRwHDfgaGDJ4AhiUMDA/YLzDUMjAw2D9g\n",
       "+wakDjHwFgApLwaWBUDqFIP9BiD1au55AQYQmATEnAp8FUCK9QLXBCDFsfcwkAQA5QkUAIef7yAA\n",
       "AAAASUVORK5CYII=\n",
       "\" style=\"display:inline;vertical-align:middle;\" /></a> : <a class=\"ProveItLink\" href=\"../../../__pv_it/axioms/24808a060d5765eabdffd0b8f7717d720b4d994d0/expr.ipynb\"><img src=\"data:image/png;base64,iVBORw0KGgoAAAANSUhEUgAAANUAAAAVBAMAAAAjhrYEAAAAMFBMVEX///+IiIgiIiIQEBB2dnbu\n",
       "7u5ERETMzMzc3NwyMjK6urpmZmaYmJiqqqpUVFQAAAB6qHgnAAAAAXRSTlMAQObYZgAAAAlwSFlz\n",
       "AAAOxAAADsQBlSsOGwAAAvhJREFUSMeNVU1oE0EU/pImzeZnY3JQRK0Ne1AUlCgqIh70Il6q8WBB\n",
       "BGkqQqlIi3o20YLgRddDxINipXrwINQi+HuoF1GKtKgXUbAIFgqSxlNTlNb3djabmUl2ceCbTN58\n",
       "M2/me2/eAq2tTDDg34z/tCkbltvOhGao6/Jbdw1IZFrNXUG+7ruY5T/f5JnPBPOA37p7hA0tVh/+\n",
       "25Vq9dYwQpNw8JJtt6X5qE3dCT9X5gp18YJu9uPvAdKLQAUOLrHYfdJ0kg6A136+kgskfGpcN/vw\n",
       "jd+k+B9gCg74jJEZab6Du7wSwH5rS2N8+Ogw9bv1TRU+1liW7QxSdKcU+esoOEjRNeIy8QsrZUuG\n",
       "xM2mZEamm891R1dW5uPR6sYoXaPN9xImBXZa1i6Z+ZSVolBHsz8v9jiZJ0Unie8s8RFdWZlvVJoa\n",
       "9SH6g4SIzAo8A87I6/jMfIYkNmYm9MR5jBJn3HseT1jctkPnx5tPqVTMzvPZUrbAdRizsq9thDAJ\n",
       "9Q7ThV9skPUZxw0mf9LupfCliHSXYe5njfMCnYXIqLxuH9+dLMN44fyPkcjWJjdLzr5a4Jwtab5k\n",
       "Pi7wdUVmnyZwMsVqAmZGSQ3PF7BDvDfpQRwDVuXod6yNrwYfvU37MmGaqkwiLwD7DXXZ5+vLqoZI\n",
       "1HGcDTlZQoR5yUctXgo/7NFjf6lboHOYOQH0UN6EynNx95EVCZ0ZRAfTeTiVJ9vMfk7dGtce7V4K\n",
       "P+SVy1Cd/C1xbvQJYISinUIx5hI4nyk/zcWT+YTjPu699BHetu6+C7kpfNxtmOOkwVjFfRMMpLkS\n",
       "oN4gnOfL5xB9kvn6QQRs7qEbiJUKzKElWrNV86XwcWpQvMj00HJ1/pwj66iAy843vkBhdr1Z3ilx\n",
       "qFmjRPXI6TVK4eNBv6UUElxxIdSJ2El36BTWqaDPkSjPSgvmO6XZK8/JdQe9IjbAUSkHLb3aYgnm\n",
       "83dE+ZZ4rVd7VK1toMUSzOeTtD+NwTl7OWBpqM2yID7WCvwDMVG0gfvUpAEAAAAASUVORK5CYII=\n",
       "\" style=\"display:inline;vertical-align:middle;\" /></a></span></td></tr><tr><td><a name=\"0x308413e35d51042b_step2\">2</a></td><td>theorem</td><td></td><td><span style=\"font-size:20px;\"> <a class=\"ProveItLink\" href=\"../../../../../equality/_theory_nbs_/proofs/sub_left_side_into/thm_proof.ipynb\" style=\"text-decoration: none\">&nbsp;&#x22A2;&nbsp;&nbsp;</a><a class=\"ProveItLink\" href=\"../../../../../equality/__pv_it/theorems/fa7b338ac0e02abe373a31648947826ee50d3a400/expr.ipynb\"><img src=\"data:image/png;base64,iVBORw0KGgoAAAANSUhEUgAAAMIAAAAXBAMAAACrPI2eAAAAMFBMVEX///+IiIgiIiIQEBB2dnbu\n",
       "7u5ERETMzMzc3NwyMjK6urpmZmaYmJiqqqpUVFQAAAB6qHgnAAAAAXRSTlMAQObYZgAAAAlwSFlz\n",
       "AAAOxAAADsQBlSsOGwAAArNJREFUSMe1VktoE1EUPZPvNDMZJyBF8Dd0KShV7EYsBGkXIkrcVEGU\n",
       "caFUKKYobu2I4rLNRhBUqFhdKYlYsEiRqCDoKvgBBcEURYRCqZD4Xeh9v8mLYUAkvfDm3nc4752X\n",
       "++59BFgZC4QzsVJm1ITPuECdBe+6s2/v75OfrhRY9EpB64AHzF/u0tF/AKkB8smSQnoKOMuy5XdH\n",
       "IP0FyNKAVVWQXWEiSNS6lP1vNBoUxFvYAGyS6+lSklLLNEgFb1vYVWBbX9/2LimsomxPUPVglsb+\n",
       "DQeGKDf7gPvAsaglVtvsjUhFtALtfmGzPDgqxoLlAc+ASZhUsZni7MPPnT9buFu/9iwFsKfFrBKp\n",
       "sPHj0HMekIwd2E2HbuAl7VJIsKWPgV1RCraHhIcjEpyJVCiqYAfVFSxeshNUXi6/6EU6QpSCU4Gx\n",
       "LDpHlHh0O4QKVFDsRnCDRukRiwaBLZTktefmaHK9LnpdKsRriNXhSZzXtiRCIyPdUAr8MspBks7y\n",
       "gqK9l1jTNTFJCV7j+NeoJd1mul9TmCqYizBLEs+yi2BE6zjZWEiG8VMpHAVGpj8gQeFTGufZCeyt\n",
       "udfkqil3nOQOe4avKTzJrS8g40s844dE/nwqMnqWlQKV6Psz93BHFq7DqE5dljR/dp2842oKS+yT\n",
       "rUs87beIOtkqfnUldAo4lMvOs3RuUrS4fElO85c9Nh0f1xR28iz7EudZYkSRpZCsWSwETE9FU7Rx\n",
       "Mm/270YlmSdGWasl8zt3HgRuuJIYblf+u6jssGfCN9AoDtMpB3F3Jlcgl50/oSn0Nnh9jkLgqUAS\n",
       "5VpF1m1UBRfb8axyBzGm90PYaRwfCYnCFFm3kQ4pYTeVW8iUOhWsQOBzIVGYIutmyjs3gna8qtzt\n",
       "1ehUwDDH2fNU1WFF/i9r/6uQ1L7/bn8AGCmqIacF6W0AAAAASUVORK5CYII=\n",
       "\" style=\"display:inline;vertical-align:middle;\" /></a></span></td></tr>\n",
       "<tr><td>&nbsp;</td><td colspan=4 style-\"text-align:left\"><a class=\"ProveItLink\" href=\"../../../../../equality/_theory_nbs_/proofs/sub_left_side_into/thm_proof.ipynb\">proveit.logic.equality.sub_left_side_into</a></td></tr><tr><td><a name=\"0x308413e35d51042b_step3\">3</a></td><td>instantiation</td><td><a href=\"#0x308413e35d51042b_step5\">5</a>, <a href=\"#0x308413e35d51042b_step6\">6</a></td><td><span style=\"font-size:20px;\"> <a class=\"ProveItLink\" href=\"../../../__pv_it/_proof_set_equiv_is_bool/e7e9a4210c1cd1f10f048132b769b1b7fe8b9c9d0/proof.ipynb\" style=\"text-decoration: none\">&nbsp;&#x22A2;&nbsp;&nbsp;</a><a class=\"ProveItLink\" href=\"../../../__pv_it/_proof_set_equiv_is_bool/89c07f8c7d3b93211e5e04f73c258d3456cff7040/expr.ipynb\"><img src=\"data:image/png;base64,iVBORw0KGgoAAAANSUhEUgAAAQcAAAAVBAMAAAC57DawAAAAMFBMVEX///8QEBDu7u5ERETc3Nwy\n",
       "MjJmZmaYmJiqqqpUVFS6urp2dnbMzMwiIiKIiIgAAABIjShRAAAAAXRSTlMAQObYZgAAAAlwSFlz\n",
       "AAAOxAAADsQBlSsOGwAAA4FJREFUSMeFVltIVFEU3TNz5+k4DRhEQTEk+RVyiz4iyBmIPiKUcQoK\n",
       "grSoREIZKEzoQyHsJ0h7SBg9LAgDyYQemFFN/UY0EkGCAwPZww8nKa0kH+1995k793HG2bAcz957\n",
       "3bPO3ueec2F6AuwWEyhmspgCJQiIUCYlDY9KfKFOhtSUOMCQxP99JRFDAmX9Jvd0RUP9OLpG/TTy\n",
       "JY2xCwJSc8+gwqTN7RuWZp9a7uvbl9IIBIsIUIeUxHUU4SG/21hgZ5wht24UAQmbe1OR9AoA/wIT\n",
       "EhIRA/DYhSKCPTjYZYx4kgy5Nc/inzabu6lI85YAAr+Z0CYV0e6nPUEiR4wRh4Bhk+zMfBT/lu1d\n",
       "oHDEOltYnu/FbO8SExBChB4nEW4ScQYHpuJ3CegWOFyYsy70l9pnLZQvLs/3Y/Pcq5mAYBGFOIq4\n",
       "epZEODKZMdOuOilQPbX5ufaO7Dasu9H3h+rRYxHhwSc4c5ffjljyHSo4b6aYgGARhbg6VD0+TCI8\n",
       "KXCZqntAoDF0y5Mmx37DIjuD/6jK2sJbMmTjIErjgalsiyX/fU2uNykICBZRiKsP6hePkgilB/aY\n",
       "VvWJ4Y15f/q1shtK7QFlnqoftlSiHEt2Gjoi1yz5P2LgWyMICBYRN27Mb/cidFhttZxY6xhB8HB2\n",
       "cD2u9wPHPp9o/kWuGYsIBz49Bcdt+VsQr1JMQGgiDHEU4QoM0/wXzfsyLwKfnOVzQy0cIehZpK6E\n",
       "JSIANljzgcrWkWVCQFTCECcRoJIItxezQl/rjpnbAfAw5tQ2S9rQDYAxqm7asieoHRCYhY3m/CDt\n",
       "4tv9TEBwO9JmEXESUdaFU0361YMiUsOo7L8EZZojp5MGEA20z1RLJVxZcO7wh2HYnB/Cky04JwgI\n",
       "FpEzifBlSYSyFodJVzZ/wz1jdL85Avf5ushfZgp1IRrjN9Jk+Pr5FqrCgU5TPriRcCchXmEEiyjE\n",
       "1UF4+ZRv0Rs0XqVfH+8YVTlfE2c7r9zl3+hcBM4tH8LqW45fCKbB2Zo9327KB390vq93u9aufg0s\n",
       "Qo9/qYjyLZp/zGv9K6E8xTCcDo/0Y5ut1nZJTKyYrxFq9bvDGh/NF/oJNAqXt5GxgtmvqzYoSWiy\n",
       "X2CWj5rWwZx+bG4TKGqKanO5YqUIhBIijFYpUNQkMzrVUgRCEREvJN+YSpZR1CYlvjooQUCExqQi\n",
       "/gMI8g+l0q48hAAAAABJRU5ErkJggg==\n",
       "\" style=\"display:inline;vertical-align:middle;\" /></a></span></td></tr>\n",
       "<tr><td>&nbsp;</td><td colspan=4 style=\"text-align:left\"><span style=\"font-size:20px;\"><a class=\"ProveItLink\" href=\"../../../../../../__pv_it/common/8968bb04eb3f7dfa02353397ce929b025bbd79c20/expr.ipynb\"><img src=\"data:image/png;base64,iVBORw0KGgoAAAANSUhEUgAAAAwAAAAJBAMAAAD0ltBnAAAALVBMVEX///8QEBCYmJgyMjKqqqrM\n",
       "zMwiIiJERER2dnbc3Nzu7u5UVFSIiIi6uroAAAAOXe2hAAAAAXRSTlMAQObYZgAAAAlwSFlzAAAO\n",
       "xAAADsQBlSsOGwAAAEVJREFUCNdj4D29sqeGgYGDfQ/DugkMd9kKGOYFMCxYd4HBbwEDgx8Dw2YG\n",
       "MH7ExcAgwcDyioOB8ykDj4EqA28CA9cmBwBIPxBGQWFjwAAAAABJRU5ErkJggg==\n",
       "\" style=\"display:inline;vertical-align:middle;\" /></a> : <a class=\"ProveItLink\" href=\"../../../../../../numbers/numerals/__pv_it/common/682157d4892d216d9e5626ed533aff9b56b9506e0/expr.ipynb\"><img src=\"data:image/png;base64,iVBORw0KGgoAAAANSUhEUgAAAAgAAAAOBAMAAADgeEClAAAAJ1BMVEX///+YmJgQEBDc3Nx2dnaI\n",
       "iIgyMjJmZmZUVFTu7u4iIiLMzMwAAADHsjQhAAAAAXRSTlMAQObYZgAAAAlwSFlzAAAOxAAADsQB\n",
       "lSsOGwAAAB9JREFUCNdjYOBeycAwo+wkAwMDK8kEy2EGBo6mY40AwiwNMNzp/EYAAAAASUVORK5C\n",
       "YII=\n",
       "\" style=\"display:inline;vertical-align:middle;\" /></a>, <a class=\"ProveItLink\" href=\"../../../../../../__pv_it/common/32fc7f13c9e7e89074583aa5bfc208d125f839970/expr.ipynb\"><img src=\"data:image/png;base64,iVBORw0KGgoAAAANSUhEUgAAAC4AAAAVBAMAAADLKsFqAAAAMFBMVEX///+6urqYmJgiIiLc3Nx2\n",
       "dnaqqqrMzMwQEBDu7u5mZmYyMjJUVFRERESIiIgAAAAee7pSAAAAAXRSTlMAQObYZgAAAAlwSFlz\n",
       "AAAOxAAADsQBlSsOGwAAAQZJREFUGNNjYEAGDhCKhQEV8CVAaMYHIPLt/ztnd00AsVJhCh6Byd8M\n",
       "DLydQJpzA0ycG6SM/R8DAxsQM3ApwMSZFoBM/Q7EX4EMDoRNIO28H4AYKMeQjRDfBMT8FxgY6kEu\n",
       "WArE895MDwW6KoYBLOZqBlO0gO8clwEDgzaQ+f5oqCJYM1CSyYHpJw/Q+gwg9z7M0Eag2xi4wI6t\n",
       "hzgfLg50FNivEkAlX2HiYEvkHTiBnkoGOv0jTPweA8NcgRMMrECmLtDPH2DiQMflV65gEAM7mev+\n",
       "3wdQ8WIGhlnv2BaBAtUQOZiZC2AsFgNkcXBogQEiBMHgCozhixpfczEUQI2FuoDPgQEA2ds73nN/\n",
       "kJoAAAAASUVORK5CYII=\n",
       "\" style=\"display:inline;vertical-align:middle;\" /></a> : <a class=\"ProveItLink\" href=\"../../../__pv_it/axioms/c7c162b4030d4320598a90ea47f24ae500959d720/expr.ipynb\"><img src=\"data:image/png;base64,iVBORw0KGgoAAAANSUhEUgAAAKMAAAAVBAMAAADY0UPbAAAAMFBMVEX////MzMxUVFRERES6uroi\n",
       "IiIQEBCYmJhmZmYyMjLu7u52dnaqqqqIiIjc3NwAAACW8nlqAAAAAXRSTlMAQObYZgAAAAlwSFlz\n",
       "AAAOxAAADsQBlSsOGwAAAopJREFUOMuNVU1oE0EU/pLmd7sbc9GDHloiKhUke2jFg7U5FfzD+JOD\n",
       "4CGgIgiVgJcKYnOpVUQoeBCCP1EvVSiIHhX1oigeutSDIMYGRKEHMe1FK9j43kyT3Z39wYGdzHvz\n",
       "5pv3vvfeBEATwSPzn7ruEGDGq6DtRSBmedWfwyAP8vQ+cPsufR89Wv2xr/H5di53IwujAmjTQYh6\n",
       "m6Z0XVU/DDA/CUSXgBqQqgRBpvJETLKqqqcCWP9LNP0GxoGEa8MYKh3vrF+8zNJ8Vj1bdkkfSiUZ\n",
       "ZpI8TBJsoo53ToPYbTvOjLXAibup0uEiau+nziraIpbO0VfBNRJn5+89E3lfdDCXwhxz8kSlg7Kj\n",
       "NbZvei6urXX1CRPaFgqrt194UTV2pIqsv+M4ewB9nNsLvJ4s8TjCS/KCbpu3JoVg13TfcGOAXUhO\n",
       "4wTNzeSfqMiSM6gqfvbTzxvFyziFcwkT9W0C0tYvNKGfYWLKOAVEkJJYkdPky9G1RO26kjf5dgUy\n",
       "UQCyuCqFDey8KZY76eN8RloMSXaySTTTPjoLrGMyRn0ggTEpPLD1y/RNEEyszIEDh5qaSEzRGTfi\n",
       "XC+vFS45cMRW8UgIXfPIL5rydJ1exDDdVdiKXrHRsMuJuE23uNEUL3ssaIPRMkRbGt0nwFgl2BVO\n",
       "j8lFMrfxMuVX0N19Qr7zaTITReYcVCT60kw5Ji1vddRpimi0JotsPTDT0KekhbZ53xpJ7Rr0kRVy\n",
       "5ZgCGSlCu269vSil+4OykqMjy7mB3YKLAuJZV/s8tRtS9lBRbcjDLmn/UMn97nzzexfczeJ5VcZD\n",
       "7cWrsifU4qtH0xP2L4CM6a4tn+G90Fm88L8wY4VYGD4u/QiD/AL8AwwKlAyKNdJ4AAAAAElFTkSu\n",
       "QmCC\n",
       "\" style=\"display:inline;vertical-align:middle;\" /></a>, <a class=\"ProveItLink\" href=\"../../../../../../__pv_it/common/a0d9d672aa5e272d907247690c152cc2c6daafb70/expr.ipynb\"><img src=\"data:image/png;base64,iVBORw0KGgoAAAANSUhEUgAAAAsAAAAJBAMAAAAWSsseAAAAMFBMVEX///9ERES6uroQEBAyMjLc\n",
       "3NyYmJgiIiJmZmaqqqp2dnbMzMxUVFSIiIju7u4AAAAd7oVFAAAAAXRSTlMAQObYZgAAAAlwSFlz\n",
       "AAAOxAAADsQBlSsOGwAAAENJREFUCNdjYHh75/WqCQwMDbxnOQoY2ALY/vEkMHAzcDgwgADzBTCl\n",
       "H8D3gOGhwmEGLgaG+fuaGTQZGF7c5WybwAAAJTwQ1a2DuB8AAAAASUVORK5CYII=\n",
       "\" style=\"display:inline;vertical-align:middle;\" /></a> : <a class=\"ProveItLink\" href=\"../../../../../../__pv_it/common/eacfeccc0521684fcb20fe8f5180ac50fca471f20/expr.ipynb\"><img src=\"data:image/png;base64,iVBORw0KGgoAAAANSUhEUgAAABgAAAAVBAMAAACuxzMVAAAAMFBMVEX////MzMxUVFRERES6uroi\n",
       "IiIQEBCYmJhmZmYyMjLu7u52dnaqqqqIiIjc3NwAAACW8nlqAAAAAXRSTlMAQObYZgAAAAlwSFlz\n",
       "AAAOxAAADsQBlSsOGwAAALhJREFUGNNjYGB4wAAGfCCC9wCEw3IBSJxmgILrDAxcE2AczgUMHAUw\n",
       "DnsDAxsDHGQxnERwpjN0A8m1lxbuBpq5CchlYGjg1eUIYGCoZIgB6nzA/osJaM4xhhQGBkYGDrD5\n",
       "8iAOAwMbyHYGN5AyBgb/B1wLGBiOMtgyMCx2UGPgBgoVA81jOC/VxuAD5HQziDIwrLjL0w5yeggD\n",
       "qwDMAXwBIOdBAcjJdjDOYyBeDOOARPkuQNi8DxgAz0wljM0iLrAAAAAASUVORK5CYII=\n",
       "\" style=\"display:inline;vertical-align:middle;\" /></a></span></td></tr><tr><td><a name=\"0x308413e35d51042b_step4\">4</a></td><td>instantiation</td><td><a href=\"#0x308413e35d51042b_step7\">7</a></td><td><span style=\"font-size:20px;\"> <a class=\"ProveItLink\" href=\"../../../__pv_it/_proof_set_equiv_is_bool/08df7e0e4bfa53899b28c04f86c85ae4ff70efb40/proof.ipynb\" style=\"text-decoration: none\">&nbsp;&#x22A2;&nbsp;&nbsp;</a><a class=\"ProveItLink\" href=\"../../../__pv_it/axioms/a1911f75c42a7792e0aa461152b75a94730f395f0/expr.ipynb\"><img src=\"data:image/png;base64,iVBORw0KGgoAAAANSUhEUgAAAUcAAAAVBAMAAAAnVjEQAAAAMFBMVEX////MzMxUVFRERES6uroi\n",
       "IiIQEBCYmJhmZmYyMjLu7u52dnaqqqqIiIjc3NwAAACW8nlqAAAAAXRSTlMAQObYZgAAAAlwSFlz\n",
       "AAAOxAAADsQBlSsOGwAABAhJREFUSMeNl0loE1EYx7+kaSeZzMQgqKCHhopKBWkOVURs7cWCG8Zl\n",
       "BFEhoCIoSsGLgksFtYooAQ9CcYn2ooIgLifXixseDC4oYjUoFnoQay8uYOv3fe9NMjPvZeKD/ywv\n",
       "b37f/+0vAFCG0JRSs96s0pQrQzgq9Z95QaDtpPHykLOGa5WNlZSsW5pihJEoTRrWcuBDmMkVUsku\n",
       "gOci64K4XdpKgQRv93hLy+k0vNWYzNDtiTfvOVRQmkR0lWNd1xaWce0eYKFJsyDKj4sCm6ZswGtG\n",
       "vGwGiP6ARFE1eZhu5z1ZhJEoTWK6yrlSo7iIC/3AQpPxHs6Pt/F4QudXMhDpFSPmL3bSLzB6VZMT\n",
       "6eesJ4swEqVJTFc5fTVGr4gLe4CFJpvED/cfpOkWRbWmF4sJYGBtDPxgu2qSWiXpHYFNUp5BOtdZ\n",
       "7z4LusLJ+95eOU7BF7epyEKTz4T50icOmST6+BbxVXQE+2gXwBnVpIGNlvBmPZOqzrdz1d6V9CDH\n",
       "8g2PJe/dJzduooeFJk+I/oAX1b4y3dbJgjkDm+CGZnZvdZwd3qwTUtdeXrzD1R32jEBJD3LiOG/M\n",
       "wdnT7nJF+qu9IuMmMyw0Kaq3HJrVmdbcMdhK8L1MdDhlpMlDAAu8Zc9I9dpz4rngrJJ05hxhzGp6\n",
       "pJaKw8vSEX4pK3GNAgtNbuT8XvieCVqBT2WwtuH9saYlP0Mq483aKGSUjT9R7hNvV0p6kNOITX4A\n",
       "DhZnsclqvhvXyrPQJI8/e/6xtqzSkvNQNOKbNSYbirTGVtMWoQjEhbsIjgdnjZxCkh7kNCEhDcfF\n",
       "y2RqnKwvbmSE5Zq8BjAhp5gcRR3Edb1bY9Iq+eaNaxIji43A9NTZpXdrTALsFC8DatxYnuV2N65g\n",
       "jfmglchPvLQh6JFmTEJhP14GT70r+7obYGXZ5CmT8/a2oD8KjEnqboiNwVV+UeNaORaa7KCCNNdH\n",
       "glbsMfzgN21Tur37Ls5Guzw9IRfLDqGBrpm8jKH/6mLk0oOchhKY7dE88JS1K1t7Ja6RZaFJWheG\n",
       "6IuxoJUE1r67Xy4tiskhrIgBHRGZdUPoxdSjOJf568pSX6EHObi8WD8u52Oi5FklLi1RKDQ5Cas/\n",
       "3g/Wot+BNSi6aLSldSE9rdWZjPIOVanZJKHLg1afiGlOXyoHW4Ue5ERyYJ4sPd0njzbtxUDcxi4W\n",
       "mmxMQ52UytU8qkXy7omQMH5U7GZ1W6zB8R9Ll811/CeUr0JoUt32ldNBTy2TQ8lCXD4Spg5K5ewJ\n",
       "D9wnRGtdZz2TX2oeeuOv71U23E6oh1I5DaF/CuiURSKTA/VMdv7XyXwA6qFUjpkNK09VIJHJVCnc\n",
       "o61W97bmPw5hQlEaDnwLC/xRyF7X9Q/eoyt06lwoWAAAAABJRU5ErkJggg==\n",
       "\" style=\"display:inline;vertical-align:middle;\" /></a></span></td></tr>\n",
       "<tr><td>&nbsp;</td><td colspan=4 style=\"text-align:left\"><span style=\"font-size:20px;\"><a class=\"ProveItLink\" href=\"../../../../../../__pv_it/common/09585084922504426caf1db2ff588a23a0932a960/expr.ipynb\"><img src=\"data:image/png;base64,iVBORw0KGgoAAAANSUhEUgAAAA8AAAAPBAMAAADJ+Ih5AAAAMFBMVEX///8QEBAiIiLu7u5ERES6\n",
       "urqYmJiIiIjMzMx2dnZUVFRmZmaqqqoyMjLc3NwAAABb1yYoAAAAAXRSTlMAQObYZgAAAAlwSFlz\n",
       "AAAOxAAADsQBlSsOGwAAAF9JREFUCNdjYACBtwxQcB9K8/yHMrjXP4Aw5s1vANN8BfUHIDIM5xPA\n",
       "jBiG/glgxgaG9wtANLv37vUOIIY5AwO/AkSGgUkASLMCdfB+ADIeAjHLPwYGk/+XGXj8/04AADnq\n",
       "Fzds8Dk2AAAAAElFTkSuQmCC\n",
       "\" style=\"display:inline;vertical-align:middle;\" /></a> : <a class=\"ProveItLink\" href=\"../../../../../../__pv_it/common/09585084922504426caf1db2ff588a23a0932a960/expr.ipynb\"><img src=\"data:image/png;base64,iVBORw0KGgoAAAANSUhEUgAAAA8AAAAPBAMAAADJ+Ih5AAAAMFBMVEX///8QEBAiIiLu7u5ERES6\n",
       "urqYmJiIiIjMzMx2dnZUVFRmZmaqqqoyMjLc3NwAAABb1yYoAAAAAXRSTlMAQObYZgAAAAlwSFlz\n",
       "AAAOxAAADsQBlSsOGwAAAF9JREFUCNdjYACBtwxQcB9K8/yHMrjXP4Aw5s1vANN8BfUHIDIM5xPA\n",
       "jBiG/glgxgaG9wtANLv37vUOIIY5AwO/AkSGgUkASLMCdfB+ADIeAjHLPwYGk/+XGXj8/04AADnq\n",
       "Fzds8Dk2AAAAAElFTkSuQmCC\n",
       "\" style=\"display:inline;vertical-align:middle;\" /></a>, <a class=\"ProveItLink\" href=\"../../../../../../__pv_it/common/a9162d1c3cc0470c02e5daf414500903a7a419230/expr.ipynb\"><img src=\"data:image/png;base64,iVBORw0KGgoAAAANSUhEUgAAABAAAAAOBAMAAADUAYG5AAAAMFBMVEX///92dnaqqqoiIiLu7u5m\n",
       "Zma6urqIiIjc3NwQEBDMzMwyMjJUVFRERESYmJgAAAAeMT9/AAAAAXRSTlMAQObYZgAAAAlwSFlz\n",
       "AAAOxAAADsQBlSsOGwAAAHJJREFUCNdjYGB4+//Mmb0LGIBgLgMDzy8gzfGdgYHtK5DBB+TxATkM\n",
       "PB8YGLhnABmcFxhYDoMUr79efvoBSFN9AwPTPBDjJhDLg6T+APH7AgYGrn9AxvkEBgb2H0DObyCH\n",
       "ewIDQ+YWoHH3/5w5fYmBAQBWoiHo17XzsQAAAABJRU5ErkJggg==\n",
       "\" style=\"display:inline;vertical-align:middle;\" /></a> : <a class=\"ProveItLink\" href=\"../../../../../../__pv_it/common/a9162d1c3cc0470c02e5daf414500903a7a419230/expr.ipynb\"><img src=\"data:image/png;base64,iVBORw0KGgoAAAANSUhEUgAAABAAAAAOBAMAAADUAYG5AAAAMFBMVEX///92dnaqqqoiIiLu7u5m\n",
       "Zma6urqIiIjc3NwQEBDMzMwyMjJUVFRERESYmJgAAAAeMT9/AAAAAXRSTlMAQObYZgAAAAlwSFlz\n",
       "AAAOxAAADsQBlSsOGwAAAHJJREFUCNdjYGB4+//Mmb0LGIBgLgMDzy8gzfGdgYHtK5DBB+TxATkM\n",
       "PB8YGLhnABmcFxhYDoMUr79efvoBSFN9AwPTPBDjJhDLg6T+APH7AgYGrn9AxvkEBgb2H0DObyCH\n",
       "ewIDQ+YWoHH3/5w5fYmBAQBWoiHo17XzsQAAAABJRU5ErkJggg==\n",
       "\" style=\"display:inline;vertical-align:middle;\" /></a></span></td></tr><tr><td><a name=\"0x308413e35d51042b_step5\">5</a></td><td>axiom</td><td></td><td><span style=\"font-size:20px;\"> <a class=\"ProveItLink\" href=\"../../../../../booleans/quantification/universality/_theory_nbs_/axioms.ipynb#forall_in_bool\" style=\"text-decoration: none\">&nbsp;&#x22A2;&nbsp;&nbsp;</a><a class=\"ProveItLink\" href=\"../../../../../booleans/quantification/universality/__pv_it/axioms/1b39e2c22b081dc382c4103afab9326d41f53ed00/expr.ipynb\"><img src=\"data:image/png;base64,iVBORw0KGgoAAAANSUhEUgAAAbcAAAAWBAMAAACxjs8nAAAAMFBMVEX///+IiIgiIiIQEBB2dnbu\n",
       "7u5ERETMzMzc3NwyMjK6urpmZmaYmJiqqqpUVFQAAAB6qHgnAAAAAXRSTlMAQObYZgAAAAlwSFlz\n",
       "AAAOxAAADsQBlSsOGwAABVpJREFUWMO9WH1oW1UUP0nfy3vJe0lfihZmu1oy6phlo8o2x5iSSRm6\n",
       "OXmFOZFNzQRrKWjTTfGvaca0OIQtMiaCwqLbBGHT+DGmtn9EJn6sDlOtlKloh1pFpUTpbNU/6jn3\n",
       "fd33kWQS8UDeOx85J+d3z73n3huAuhRKZYPUOWhZDg2S3LB3lRzkqml7SCgEQi7D5kaxwdKGvGMa\n",
       "PjxJtKw9enhVgZkw72lSfV0bXIJe8ZJLO0lx6zsHUeviQzPP6xQy3djYtPvBQeZF+cjPzITg3iXN\n",
       "c7XBKVS7aI5XinmKW985kP4EiKzB910NFj6qB4A7CbdEmAnBPUYzNFMbnEQVGnEplRLFre8cRNJv\n",
       "WDT8wFiD4NRiILjzCWZCcIReKNdZc0fwtdWlbGIzor5z4HKdx88cMj2Nrtk1NrjQfakVNrgoM2He\n",
       "KpYgWq+hfIKvvEt5gYGr7xxEkQp+EGA83yi4FyxwsWd0p3I/vc9M1AivT6VW1wPXlEotcy/+t4y1\n",
       "XNc5iJpxIj+O7UyhkH0dd/ZytfeIfhKTPzxsT6LbLXAHdKeh9K1KMxOBOwNwf0CQNA9OyUJE944Z\n",
       "xa3iXJsQ2BMrqR9Q/y2GLiqdjs0j+kmBDu0NS/jYAuc0tcxLh38/zUwE7iDI0wFBijw4/MZB5F7+\n",
       "e8us2TNXGuCqONemq7/vPUfvMJZIzamXEiXYac5QQxR7Z/Vqzh/Bp/qvlvC5BS7PN5T2V3QyEbiI\n",
       "7tql5e7NcHbaAw7LQ0HUThDMYV1vgPM4Xx4NWU0JXSVQMDEpaYY1RAWqVy8L73BzwAQn4fJIXWOB\n",
       "i8TSZKLM4prTEoZnBuEbQVd0L7gJNjaJIoQqLnC887/Z5mxw+KRzRtwGQ2JzQZ6v7n6dwx4zwYkZ\n",
       "vnIRyJCJDXv+PXs+n6EDh1YUYMto92iBAxdVKYWmMoSnXdPScE6+3Wbt8BzrkFspzZlMmHWO13Ki\n",
       "zoEjUdVrgIstwB0w/mGSRv8za1p2usHlycTAbcVdTB0bbjOOMzD15T7Bu+ZAuECL4JAu/2Iqd5ng\n",
       "yDmUm4maHY5juX3NrQz9ZW0JOGDbC9+BYFROBFuk2S/6cWEO4mCiB9LiuQ2wDhUfWOCSLnBxjUwM\n",
       "3H4sxs5jpaacUdwp4e7jPnDyTcSdTS7VnSbM4pKzCrskkFnXZOypNvc6ZEru0FSxAqPvt4+8CacM\n",
       "cPfmbRF260wUaQazhyXF53f0xMpyXx4uGRuSAc4ZvMxx2LiFmRi4BF4NnlwCzXqMHY2noNjqAwc/\n",
       "EjfrZLjbBJdg94oFgL1dhgHZHrHiGfIFvpcP/aGZ8xMR7UjGx8oGuHCXLdJIkQjdYD7ClE9KB/F1\n",
       "7avz+LNajI4311rgxJkTRswla4foVkAmp9VdxBWoPtvf/yCC2xb17nMmbXBSDGe5Y53Ug/enLpvN\n",
       "SZ5zFSnHT076pplzF2Nr7gtbfBqe4kX7W/YG0ZRVilmQO+0kYpvM45fV9Du5vG+AUUlKG5WLTQTf\n",
       "5+SF4DPrfiGvMHDbTDZSADGNEnuYyolM2JfsuBucPZ7yA4+e5ofXzsTmDkF4b9Y8vQfv9SUu7wos\n",
       "nzIOG7i/dgSDa53jttYBJ65y1cYrGbg9ZYPFpivdCHty0jp8mMpE9oD/kGn1UPnWOQ1Eza7L4mKF\n",
       "E52zmc29CqHbjItKFXAjXN6xabiiBCM416QVOUhcxk18uzcuTUtjWQs65hW3DYYyDO0nfOdE120p\n",
       "5Omx/t/0wh2oDm7Al7e4qX8w4OAc+GeErMHN/P8Xw6vLEDMqe3QRJ5mNxFTeA5MlX5B9Dd0JQlj4\n",
       "lvXVTKFlBfgvSeX4UpDyf6Z/AKLXae2tC479AAAAAElFTkSuQmCC\n",
       "\" style=\"display:inline;vertical-align:middle;\" /></a></span></td></tr>\n",
       "<tr><td>&nbsp;</td><td colspan=4 style-\"text-align:left\"><a class=\"ProveItLink\" href=\"../../../../../booleans/quantification/universality/_theory_nbs_/axioms.ipynb#forall_in_bool\">proveit.logic.booleans.quantification.universality.forall_in_bool</a></td></tr><tr><td><a name=\"0x308413e35d51042b_step6\">6</a></td><td>conjecture</td><td></td><td><span style=\"font-size:20px;\"> <a class=\"ProveItLink\" href=\"../../../../../../numbers/numerals/decimals/_theory_nbs_/proofs/posnat1/thm_proof.ipynb\" style=\"text-decoration: none\">&nbsp;&#x22A2;&nbsp;&nbsp;</a><a class=\"ProveItLink\" href=\"../../../../../../numbers/numerals/decimals/__pv_it/theorems/bc756b88629195b95a8093862c53b2b7873d42670/expr.ipynb\"><img src=\"data:image/png;base64,iVBORw0KGgoAAAANSUhEUgAAAD4AAAATBAMAAAA63aOfAAAAMFBMVEX///+qqqq6urpERESYmJgQ\n",
       "EBDc3Nx2dnaIiIgyMjJmZmZUVFTu7u4iIiLMzMwAAAAz/ewvAAAAAXRSTlMAQObYZgAAAAlwSFlz\n",
       "AAAOxAAADsQBlSsOGwAAAM9JREFUKM9jYMADFjDgBwbkyPPcN57DwB4fBJPnu4OmgFlAm4HhPEz/\n",
       "6ZV/0OS5r7E7MLAycBkbBxubMDBwYMgLM0xj4IXbD5fnsL17Eyyf0pCJRZ5pxgGo/oR9HAWY8pkH\n",
       "YOYnMDMYYcpPg9ufwLfg7Fl4+MHkJyDkGRwZTeHOhcrzxd69e/cyVJ77wFZ0eR4DJP08G86iyzNc\n",
       "QJJneMGMId8BD98HQMHHcHn2bxCaU4ABibESbtrWn1sgDtisA3Ho/GAgeRIzYpmKIeGLAgCu9Tlj\n",
       "8FFYswAAAABJRU5ErkJggg==\n",
       "\" style=\"display:inline;vertical-align:middle;\" /></a></span></td></tr>\n",
       "<tr><td>&nbsp;</td><td colspan=4 style-\"text-align:left\"><a class=\"ProveItLink\" href=\"../../../../../../numbers/numerals/decimals/_theory_nbs_/proofs/posnat1/thm_proof.ipynb\">proveit.numbers.numerals.decimals.posnat1</a></td></tr><tr><td><a name=\"0x308413e35d51042b_step7\">7</a></td><td>axiom</td><td></td><td><span style=\"font-size:20px;\"> <a class=\"ProveItLink\" href=\"../../axioms.ipynb#set_equiv_def\" style=\"text-decoration: none\">&nbsp;&#x22A2;&nbsp;&nbsp;</a><a class=\"ProveItLink\" href=\"../../../__pv_it/axioms/a526f1ab8a886b46cea1848b9b6f2e135fcc6d080/expr.ipynb\"><img src=\"data:image/png;base64,iVBORw0KGgoAAAANSUhEUgAAAY4AAAAWBAMAAAAlaGbVAAAAMFBMVEX///+IiIgiIiIQEBB2dnbu\n",
       "7u5ERETMzMzc3NwyMjK6urpmZmaYmJiqqqpUVFQAAAB6qHgnAAAAAXRSTlMAQObYZgAAAAlwSFlz\n",
       "AAAOxAAADsQBlSsOGwAABQNJREFUWMPVV2toHFUUPpPd2dfsbnYrasCYLlMwPlBW8RlsyY8gOFBd\n",
       "BStSKNtKsRQki1X/CGajUvBPs1KrIrZG2lIEpdsa6qvUtT+KJUpWK0JRaLRYKUoStW1aq63nnnNn\n",
       "d2bu3Unwnwc+zt2zd757zz2PuQMQJgmJMKkqFsOu/Aeq6iJtQcIl/QtuEa6VwCdqnea8o1ii46FU\n",
       "uj3VdDxgNEP2lsoxwCE1LWw/6KdmBhkoyTlS5smbBT+Nj1yemXmtAkZD9SNLTzf0VBoR7CoPfKud\n",
       "nB6+NHP6CYBeYDikPhF/vaGnf0wC5QT70XX1YdxMlm134mgeYJvqhyUikqzqqTRC7AqP2SEHImWA\n",
       "2QokS0BwSD0vwlrWP3BQAuXQeVK9YO4AeI6T4XcM7EWASdWPuIjy5g5UGiF2hcdq6GePYRrtrUO6\n",
       "DgSHlPAo2iEPixI446V50ri/7Oup6zm+aEqjL5GSWh/ibFfqqVy5yrbd82Z2hSfiL5Z19g08msI2\n",
       "MoW+3AEEh1QanU52KI8aA2XU+Ie0yPClf3IdZzEZkncjGqofX6Kq6amkvHtle8zsCs9xX1m/0nJz\n",
       "FrEVk/YtIDisbrPt2/V+WIMMlHrm77a91EpT8yc8mui06kfEtpcNaqjM/M9PU5wS3mpgdoVnAvFQ\n",
       "36NDlC0vt6OFdbmmH/UDDIfVhwDrvdvzdJGGe0ipZvyM4ubI2vxp8W+aznm/LeQW6YdVgVhJQ2VB\n",
       "X24/BJqAZCcei2hsckmcd9340Sr4W1H8XL5P/AVHGQ6rLZCgp8y7aNazF4cOyNdYV5Mhlk9cgsBu\n",
       "YWkVMveKnCmq8UDKLV6TS/UFTJV+Iz+8wWJ2hQdbfLqaPpulo2wnpYFN4ZiwHWM4rGIlfm9FuQLS\n",
       "BTAkYWScgTX56aFzSjweRzyILsfnNO/B9UTfLllJVYGP2bBJnIdsk5Jd4RlAG1jsQBzT376OhjHc\n",
       "XlQ0hhGGwyqT47PZcytXLza0uYAfJjaHPxQ/xBmKtpHSxAO+9pW550h4FVjleU1IdoVngJ7M8aT2\n",
       "q6F7mvsk7GQ4clj7nP7O7eAVm/BwI5BXFmJZ0I24qM1Z3FumoNYHJNO4vnHN6EcBqtR5eIQM3rRi\n",
       "duLx1oe4OsDeqkmFVmjXJW4v+xcOvmE4criSWochIz7WO/mLfCCWY8B7iLeD9SHSNH5BZGJZE4/o\n",
       "cVy9J1ve7qMyN2aL1LvByLWmu+wKz1oM2/hJiNKPfMuMdQkjItpHGI4cvkjO74EraNZhMH919zPN\n",
       "SIiADwfvnkm07twGrdbs9yOxAgeNWK7io8rMry6m+KW7vXVHdNkVHmymJ575AN7n5Vrv6q0Y1XtK\n",
       "si9PsB9imKW1JoZmKX7oxJi8r8YLBHP4Qgm+u/yqf5GsuK09SSkyrrvvUlC7Xeddqn25779iy5qN\n",
       "3Jfb7ArPUwCr85mD7IB5ajdbT4nrKdluZDhyyM0Mt0/+LMeUdD8f+iXC5YXO9/ZNrS8IlWrXOrsW\n",
       "ztPl+4xJ3efeS9xAFhgOq1aSdjfNQUicBfMm1zipu71pb5NaPxLF+6G+eCqFJ10PnS+ukQKO50Zp\n",
       "rQDzszfjy+HomaEDrUyMVRnh34zljvHYtytfWjSV5tK9IXThzRJO4GotWl/gA6Dsa9x6UXen+x5c\n",
       "mErj5arQhTdIOKrDuwO/RyXCpEf9rtV9ny9I1aMJUS5kvlFlLBkg5ZMG/F/lXyLvYzOjsAy1AAAA\n",
       "AElFTkSuQmCC\n",
       "\" style=\"display:inline;vertical-align:middle;\" /></a></span></td></tr>\n",
       "<tr><td>&nbsp;</td><td colspan=4 style-\"text-align:left\"><a class=\"ProveItLink\" href=\"../../axioms.ipynb#set_equiv_def\">proveit.logic.sets.equivalence.set_equiv_def</a></td></tr></table>"
      ],
      "text/plain": [
       "\tstep type\trequirements\tstatement\n",
       "0\tgeneralization\t1\t|- forall_{A, B} ((A equiv B) in BOOLEAN)\n",
       "1\tinstantiation\t2, 3, 4\t|- (A equiv B) in BOOLEAN\n",
       "\tP(_a) : _a in BOOLEAN, x : A equiv B, y : forall_{x} ((x in A) = (x in B))\n",
       "2\ttheorem\t\t|- forall_{P, x, y | P(y), x = y} P(x)\n",
       "\tproveit.logic.equality.sub_left_side_into\n",
       "3\tinstantiation\t5, 6\t|- [forall_{x} ((x in A) = (x in B))] in BOOLEAN\n",
       "\tn : 1, P(x) : (x in A) = (x in B), x : (x)\n",
       "4\tinstantiation\t7\t|- (A equiv B) = [forall_{x} ((x in A) = (x in B))]\n",
       "\tA : A, B : B\n",
       "5\taxiom\t\t|- forall_{n in NaturalPos} [forall_{P} ([forall_{x_{1}, x_{2}, ..., x_{n}} P(x_{1}, x_{2}, ..., x_{n})] in BOOLEAN)]\n",
       "\tproveit.logic.booleans.quantification.universality.forall_in_bool\n",
       "6\tconjecture\t\t|- 1 in NaturalPos\n",
       "\tproveit.numbers.numerals.decimals.posnat1\n",
       "7\taxiom\t\t|- forall_{A, B} ((A equiv B) = [forall_{x} ((x in A) = (x in B))])\n",
       "\tproveit.logic.sets.equivalence.set_equiv_def"
      ]
     },
     "execution_count": 16,
     "metadata": {},
     "output_type": "execute_result"
    }
   ],
   "source": [
    "%qed"
   ]
  },
  {
   "cell_type": "code",
   "execution_count": null,
   "metadata": {},
   "outputs": [],
   "source": []
  }
 ],
 "metadata": {
  "kernelspec": {
   "display_name": "Python 3",
   "language": "python",
   "name": "python3"
  },
  "language_info": {
   "codemirror_mode": {
    "name": "ipython",
    "version": 3
   },
   "file_extension": ".py",
   "mimetype": "text/x-python",
   "name": "python",
   "nbconvert_exporter": "python",
   "pygments_lexer": "ipython3",
   "version": "3.7.3"
  }
 },
 "nbformat": 4,
 "nbformat_minor": 1
}
