{
 "cells": [
  {
   "cell_type": "markdown",
   "metadata": {},
   "source": [
    "Proof of <a class=\"ProveItLink\" href=\"../../../../../../_theory_nbs_/theory.ipynb\">proveit</a>.<a class=\"ProveItLink\" href=\"../../../../../_theory_nbs_/theory.ipynb\">logic</a>.<a class=\"ProveItLink\" href=\"../../../../_theory_nbs_/theory.ipynb\">sets</a>.<a class=\"ProveItLink\" href=\"../../theory.ipynb\">equivalence</a>.<a class=\"ProveItLink\" href=\"../../theorems.ipynb#set_equiv_reversal\">set_equiv_reversal</a> theorem\n",
    "========"
   ]
  },
  {
   "cell_type": "code",
   "execution_count": 1,
   "metadata": {},
   "outputs": [],
   "source": [
    "import proveit\n",
    "from proveit import defaults\n",
    "from proveit import A, B, x\n",
    "from proveit.logic import And\n",
    "from proveit.logic.sets import SetEquiv, SubsetEq\n",
    "from proveit.logic.sets.equivalence  import set_equiv_def\n",
    "theory = proveit.Theory() # the theorem's theory"
   ]
  },
  {
   "cell_type": "code",
   "execution_count": 2,
   "metadata": {},
   "outputs": [
    {
     "data": {
      "text/html": [
       "Under these <a href=\"presumptions.txt\">presumptions</a>, we begin our proof of<br><strong id=\"set_equiv_reversal\">set_equiv_reversal:</strong> <a class=\"ProveItLink\" href=\"../../../__pv_it/theorems/4b0ed3a7ddd516817b2fb676c4846fbe2c0cbcde0/expr.ipynb\"><img src=\"data:image/png;base64,iVBORw0KGgoAAAANSUhEUgAAALoAAAAXBAMAAABOokjyAAAAMFBMVEX///+IiIgiIiIQEBB2dnbu\n",
       "7u5ERETMzMzc3NwyMjK6urpmZmaYmJiqqqpUVFQAAAB6qHgnAAAAAXRSTlMAQObYZgAAAAlwSFlz\n",
       "AAAOxAAADsQBlSsOGwAAAsdJREFUSMetVU1oE1EQ/tLuJptkG1e8VhuDUFAPtfhDhUgOOQjFNlYQ\n",
       "aqH0oLagkoDgSUykIHgxgVIRKTYo0otiwFDxB409CKFCgz0qmJOlFBILVq1S48zLbtgm0qVbH7zZ\n",
       "2TdvvjfzzbxdwPZQtmjfeOzcyHgT8GhAkfVPNsBbQoAa/VNaHBavg50FkpphnaTZCrxg/Y4N9H4W\n",
       "zUNAOcba7qt7oMfKR1dIuCO4xgwN2UB/xSJJwT7JkOLIob8IV0Y3essJyizDB0Aq2EDvYDFHcc8x\n",
       "HT6ai7H7Cd14vJcTOgQ1RynYoT3FskxzjCEljr9y1GgXrY0DngA6A4GDNtC9IZaHqZzttTW5ZsRn\n",
       "Cho9wDPgnFiK1Lk3+KwbbnZ3fd++a+IfxseI8+F54BYUUWn5iDBc+R2eFk3gNLaeihmaK5rtHtb1\n",
       "Jk7d8ROYz4lYAmLoPZNBkrV5QolIaV6R1oRB9cPRsQ69twCpi7AIZQbYoa82s5OTdko/GkJ3XHhZ\n",
       "5jaMU3m0alGnDoiHLwP1qxndc1nDxzNnAcp1iTrEjL6NIlSXG9BPksVPzwc0U2/Fknav6lVAX86M\n",
       "7nAXKVPvwgDBBSHvNzMTp52+Xw3o1PVNnP8HmifGBQieC0uydXYBZnTNm2JS8pSasvz+tVEEJ3d5\n",
       "GzVjPFXPu4ebnPN/R3NULE3pjM5AXjKje2JUBu95Ghe5JoPGbZTYa4zsXZH60EfZm+qNLDMtwsmG\n",
       "y2IbQSfTJnRvuGfFcKOaKAYPLiL2S6VUut1wz09XxtESXaUy7a2VmUDFKUH6cJg7UoNSawqqiaf2\n",
       "0m79A/Ab2iMqc0EOQVmBvM/EDHO4ZjCTjKDPYAaz1tc5ZyjHIL+56woi/y08XTChPy1iYDVd3aRO\n",
       "hrsv1XydCSv0G/WfJpPutPCVLT/bI3XvDzeBjusWdkd9crnNoG9pKP8B4y+uRKwphQbjIgAAAABJ\n",
       "RU5ErkJggg==\n",
       "\" style=\"display:inline;vertical-align:middle;\" /></a><br>(see <a class=\"ProveItLink\" href=\"../../../__pv_it/theorems/0ea7e075e49512267e6c7e4d20676484f13265f20/dependencies.ipynb\">dependencies</a>)<br>"
      ],
      "text/plain": [
       "<IPython.core.display.HTML object>"
      ]
     },
     "metadata": {},
     "output_type": "display_data"
    },
    {
     "name": "stdout",
     "output_type": "stream",
     "text": [
      "set_equiv_reversal is now readily provable.  Simply execute \"%qed\".\n"
     ]
    }
   ],
   "source": [
    "%proving set_equiv_reversal"
   ]
  },
  {
   "cell_type": "markdown",
   "metadata": {},
   "source": [
    "**While this can be proven through automation, this manual proof is shorter and easy to follow.**"
   ]
  },
  {
   "cell_type": "code",
   "execution_count": 3,
   "metadata": {},
   "outputs": [
    {
     "data": {
      "text/html": [
       "<strong id=\"A_equiv_B\">A_equiv_B:</strong> <a class=\"ProveItLink\" href=\"../../../__pv_it/theorems/2ee8dc2018014830ed832e2e3d65a4df89f102480/expr.ipynb\"><img src=\"data:image/png;base64,iVBORw0KGgoAAAANSUhEUgAAADsAAAAPBAMAAACo4Ko7AAAAMFBMVEX///8QEBAiIiLu7u5ERES6\n",
       "urqYmJiIiIjMzMx2dnZUVFRmZmaqqqoyMjLc3NwAAABb1yYoAAAAAXRSTlMAQObYZgAAAAlwSFlz\n",
       "AAAOxAAADsQBlSsOGwAAAPpJREFUGNNjYACBtwx4wX0wybxQB0iyg9ls/r9WrfWAyPL8B1NMFUkT\n",
       "GBi4IGKMDgwM6xvATO71D0BUGQPzLQaGboj0+wIGhvgNYOa8+WBlC4Bab7DqQaTzgUL5BSAWX0H9\n",
       "ARANNJmh/mMARHo9EF8EG8rNcD4B7koDKC3CwGClAWbFMPRPQPcLx5fyqmsQ5gaG9wtA9CYlENAC\n",
       "i7H/Y2A4CDaT3Xv3egd03SwCDAycP0AscwYGfgV0aX6geWzfIWYzMAmgS/cDDeb6CmSwAhm8H9Dt\n",
       "rgf6qf8CkPEQZNM/dN0XgfpkgZ40+X+Zgcf/L5rPlvxfteoKMKwAotBAF+FrKrQAAAAASUVORK5C\n",
       "YII=\n",
       "\" style=\"display:inline;vertical-align:middle;\" /></a><br>"
      ],
      "text/plain": [
       "<IPython.core.display.HTML object>"
      ]
     },
     "metadata": {},
     "output_type": "display_data"
    }
   ],
   "source": [
    "A_equiv_B = set_equiv_reversal.condition"
   ]
  },
  {
   "cell_type": "code",
   "execution_count": 4,
   "metadata": {},
   "outputs": [
    {
     "data": {
      "text/html": [
       "<strong id=\"defaults.assumptions\">defaults.assumptions:</strong> <a class=\"ProveItLink\" href=\"../../../__pv_it/_proof_set_equiv_reversal/91427e895f8e8b4616d7c8b7eb13d40f6d5fa1730/expr.ipynb\"><img src=\"data:image/png;base64,iVBORw0KGgoAAAANSUhEUgAAAEgAAAAVBAMAAAAX07VdAAAAMFBMVEX///8AAAAAAAAAAAAAAAAA\n",
       "AAAAAAAAAAAAAAAAAAAAAAAAAAAAAAAAAAAAAAAAAAAv3aB7AAAAD3RSTlMAInZUiRDNmWbv3US7\n",
       "qzJazP2FAAAACXBIWXMAAA7EAAAOxAGVKw4bAAABZUlEQVQoz4VSO0sDQRD+kpi3MakEQUiwSqOx\n",
       "ECE2xh8gBusINoIBH1cEBKtUFiIkjTZaRNIpimBlZWJjZ1IJgsddJ9icsRDExzkzKxYL5gZ2Z/bb\n",
       "b+e5AFLoKz7e/JNiD/9Himdom1L2puzBhya/EzvS+TLv74AswcuCBFxRsYndApBQ76ItwLIRKiJc\n",
       "FSBsSWpZBNeBJ0VKU6BrAxEDUQXMLdisuuRmI36ssBpBNSLuY1qVkMlJ/hQLufcLRbJolSnAKioq\n",
       "Gmarf/UUf/URsHROep5oLJdwCnrtQ59j43K7g6YABtJd1tsnLGeC+XtAnv3ncSjn2y2rpXsarAMD\n",
       "32Q4irQIJBs6KUm+I69kXKlwBrWxrpMcCpX4IGMGNzweOoZe9JxyVL3D89ij+oARzqCneyrT6wNu\n",
       "RwXPQMldQaDzpvXg0TXNNenwKWI2PMTX4PF5CH+BthdplFbJi9SWD9Cf40/hB6voVV8glgiJAAAA\n",
       "AElFTkSuQmCC\n",
       "\" style=\"display:inline;vertical-align:middle;\" /></a><br>"
      ],
      "text/plain": [
       "<IPython.core.display.HTML object>"
      ]
     },
     "metadata": {},
     "output_type": "display_data"
    }
   ],
   "source": [
    "defaults.assumptions = [A_equiv_B]"
   ]
  },
  {
   "cell_type": "code",
   "execution_count": 5,
   "metadata": {},
   "outputs": [
    {
     "data": {
      "text/html": [
       "<strong id=\"unfolded\">unfolded:</strong> <span style=\"font-size:20px;\"><a class=\"ProveItLink\" href=\"../../../__pv_it/theorems/2ee8dc2018014830ed832e2e3d65a4df89f102480/expr.ipynb\"><img src=\"data:image/png;base64,iVBORw0KGgoAAAANSUhEUgAAADsAAAAPBAMAAACo4Ko7AAAAMFBMVEX///8QEBAiIiLu7u5ERES6\n",
       "urqYmJiIiIjMzMx2dnZUVFRmZmaqqqoyMjLc3NwAAABb1yYoAAAAAXRSTlMAQObYZgAAAAlwSFlz\n",
       "AAAOxAAADsQBlSsOGwAAAPpJREFUGNNjYACBtwx4wX0wybxQB0iyg9ls/r9WrfWAyPL8B1NMFUkT\n",
       "GBi4IGKMDgwM6xvATO71D0BUGQPzLQaGboj0+wIGhvgNYOa8+WBlC4Bab7DqQaTzgUL5BSAWX0H9\n",
       "ARANNJmh/mMARHo9EF8EG8rNcD4B7koDKC3CwGClAWbFMPRPQPcLx5fyqmsQ5gaG9wtA9CYlENAC\n",
       "i7H/Y2A4CDaT3Xv3egd03SwCDAycP0AscwYGfgV0aX6geWzfIWYzMAmgS/cDDeb6CmSwAhm8H9Dt\n",
       "rgf6qf8CkPEQZNM/dN0XgfpkgZ40+X+Zgcf/L5rPlvxfteoKMKwAotBAF+FrKrQAAAAASUVORK5C\n",
       "YII=\n",
       "\" style=\"display:inline;vertical-align:middle;\" /></a> <a class=\"ProveItLink\" href=\"../../../__pv_it/_proof_set_equiv_reversal/f43f31a1102e22ca25090d44d0bc6035c11fe6000/proof.ipynb\" style=\"text-decoration: none\">&nbsp;&#x22A2;&nbsp;&nbsp;</a><a class=\"ProveItLink\" href=\"../../../__pv_it/axioms/24808a060d5765eabdffd0b8f7717d720b4d994d0/expr.ipynb\"><img src=\"data:image/png;base64,iVBORw0KGgoAAAANSUhEUgAAANUAAAAVBAMAAAAjhrYEAAAAMFBMVEX///+IiIgiIiIQEBB2dnbu\n",
       "7u5ERETMzMzc3NwyMjK6urpmZmaYmJiqqqpUVFQAAAB6qHgnAAAAAXRSTlMAQObYZgAAAAlwSFlz\n",
       "AAAOxAAADsQBlSsOGwAAAvhJREFUSMeNVU1oE0EU/pImzeZnY3JQRK0Ne1AUlCgqIh70Il6q8WBB\n",
       "BGkqQqlIi3o20YLgRddDxINipXrwINQi+HuoF1GKtKgXUbAIFgqSxlNTlNb3djabmUl2ceCbTN58\n",
       "M2/me2/eAq2tTDDg34z/tCkbltvOhGao6/Jbdw1IZFrNXUG+7ruY5T/f5JnPBPOA37p7hA0tVh/+\n",
       "25Vq9dYwQpNw8JJtt6X5qE3dCT9X5gp18YJu9uPvAdKLQAUOLrHYfdJ0kg6A136+kgskfGpcN/vw\n",
       "jd+k+B9gCg74jJEZab6Du7wSwH5rS2N8+Ogw9bv1TRU+1liW7QxSdKcU+esoOEjRNeIy8QsrZUuG\n",
       "xM2mZEamm891R1dW5uPR6sYoXaPN9xImBXZa1i6Z+ZSVolBHsz8v9jiZJ0Unie8s8RFdWZlvVJoa\n",
       "9SH6g4SIzAo8A87I6/jMfIYkNmYm9MR5jBJn3HseT1jctkPnx5tPqVTMzvPZUrbAdRizsq9thDAJ\n",
       "9Q7ThV9skPUZxw0mf9LupfCliHSXYe5njfMCnYXIqLxuH9+dLMN44fyPkcjWJjdLzr5a4Jwtab5k\n",
       "Pi7wdUVmnyZwMsVqAmZGSQ3PF7BDvDfpQRwDVuXod6yNrwYfvU37MmGaqkwiLwD7DXXZ5+vLqoZI\n",
       "1HGcDTlZQoR5yUctXgo/7NFjf6lboHOYOQH0UN6EynNx95EVCZ0ZRAfTeTiVJ9vMfk7dGtce7V4K\n",
       "P+SVy1Cd/C1xbvQJYISinUIx5hI4nyk/zcWT+YTjPu699BHetu6+C7kpfNxtmOOkwVjFfRMMpLkS\n",
       "oN4gnOfL5xB9kvn6QQRs7qEbiJUKzKElWrNV86XwcWpQvMj00HJ1/pwj66iAy843vkBhdr1Z3ilx\n",
       "qFmjRPXI6TVK4eNBv6UUElxxIdSJ2El36BTWqaDPkSjPSgvmO6XZK8/JdQe9IjbAUSkHLb3aYgnm\n",
       "83dE+ZZ4rVd7VK1toMUSzOeTtD+NwTl7OWBpqM2yID7WCvwDMVG0gfvUpAEAAAAASUVORK5CYII=\n",
       "\" style=\"display:inline;vertical-align:middle;\" /></a></span><br>"
      ],
      "text/plain": [
       "<IPython.core.display.HTML object>"
      ]
     },
     "metadata": {},
     "output_type": "display_data"
    }
   ],
   "source": [
    "unfolded = A_equiv_B.unfold()"
   ]
  },
  {
   "cell_type": "code",
   "execution_count": 6,
   "metadata": {},
   "outputs": [
    {
     "data": {
      "text/html": [
       "<span style=\"font-size:20px;\"><a class=\"ProveItLink\" href=\"../../../__pv_it/theorems/2ee8dc2018014830ed832e2e3d65a4df89f102480/expr.ipynb\"><img src=\"data:image/png;base64,iVBORw0KGgoAAAANSUhEUgAAADsAAAAPBAMAAACo4Ko7AAAAMFBMVEX///8QEBAiIiLu7u5ERES6\n",
       "urqYmJiIiIjMzMx2dnZUVFRmZmaqqqoyMjLc3NwAAABb1yYoAAAAAXRSTlMAQObYZgAAAAlwSFlz\n",
       "AAAOxAAADsQBlSsOGwAAAPpJREFUGNNjYACBtwx4wX0wybxQB0iyg9ls/r9WrfWAyPL8B1NMFUkT\n",
       "GBi4IGKMDgwM6xvATO71D0BUGQPzLQaGboj0+wIGhvgNYOa8+WBlC4Bab7DqQaTzgUL5BSAWX0H9\n",
       "ARANNJmh/mMARHo9EF8EG8rNcD4B7koDKC3CwGClAWbFMPRPQPcLx5fyqmsQ5gaG9wtA9CYlENAC\n",
       "i7H/Y2A4CDaT3Xv3egd03SwCDAycP0AscwYGfgV0aX6geWzfIWYzMAmgS/cDDeb6CmSwAhm8H9Dt\n",
       "rgf6qf8CkPEQZNM/dN0XgfpkgZ40+X+Zgcf/L5rPlvxfteoKMKwAotBAF+FrKrQAAAAASUVORK5C\n",
       "YII=\n",
       "\" style=\"display:inline;vertical-align:middle;\" /></a> <a class=\"ProveItLink\" href=\"../../../__pv_it/_proof_set_equiv_reversal/fdb8de5ac533c3d5c7f8f9fb9a2d50f8b1d8bb3a0/proof.ipynb\" style=\"text-decoration: none\">&nbsp;&#x22A2;&nbsp;&nbsp;</a><a class=\"ProveItLink\" href=\"../../../__pv_it/_proof_set_equiv_reversal/f5aa19780063396276576dae115fab328d01b3880/expr.ipynb\"><img src=\"data:image/png;base64,iVBORw0KGgoAAAANSUhEUgAAANUAAAAVBAMAAAAjhrYEAAAAMFBMVEX///+IiIgiIiIQEBB2dnbu\n",
       "7u5ERETMzMzc3NwyMjK6urpmZmaYmJiqqqpUVFQAAAB6qHgnAAAAAXRSTlMAQObYZgAAAAlwSFlz\n",
       "AAAOxAAADsQBlSsOGwAAAv1JREFUSMeNlUtoFEEQhv99ZR8zs84eBPGRLHtQFIRVVEQ8KIh4iW4O\n",
       "RiSXRBGCIgmiVzMaELzoeoh4CBgJHsX4AF85xEtQRBI0l6CQqCgEJIkHyQYlsap7drenZ2axoJue\n",
       "rvmmqquragC/ODRSaCDOf+5VJRWqj0zStKmRrXshUKBcBzK2ZGb5+bOqnKJhHQjkxlfn52/3IjLm\n",
       "00yFOnaXxkYI5iU/31F0iTJNJ0PAPUB2CRjQ9wUUKNYqTemSYC5zPDsVpcFOj4YE/hcF5A/wTlcY\n",
       "Y2G2jAW6KXNEMGwyrgY7xlPRcxenClvlyqQzmWQvVtK+GEMwABw51kvzbsGY5FFafXGaD66GJHOr\n",
       "9uXsIr28l4Z+jGkEA0jZLXyQQcnsLBR2qW8+5YNTaiRy3y+2ikSqk7FOJL6Sn/FZzRZDbc0nDk1q\n",
       "AAzMsF9HJfMMOKNig5A+GGi2H2uJ09eVm2PU5HMbBSGzVWgk8sXI65n2AH2c0m8lcwMpj5fbaUTJ\n",
       "vzeYKP3kDSWeLQ6s/RzjonYugkzH/J0d0wCM4CZ//aNkmkrxIRXbx7GinV68EM9JCnJhs9SdpsF3\n",
       "nVzUbBGUhFH2AZFzrxY4yfskY9lpBNkCdsjSUQpihcYENYFM0W+LKNsHtAFrOK7DLlN+TVPu+QbH\n",
       "G0NkKjjOG/kamfxL0wL5YeW1+2IID51EyQtQCBFlGx9cppUqOuL8SLtF1kWjyUbibLYI0aly9bqp\n",
       "kL1lzo1O7VwEtQ99QxxeIMMFxfEed5l+8sxEV9LVU3pyflpLHcWMMJ+uVXqaXBwecGvCIwTNXHpC\n",
       "WecF+tnviqwJwWS5sFGp6i9wsPJIPLI/vZfx/3HfreSelfm587yKDmm2COrIWaOTXqB9dQBWzzIZ\n",
       "2aYyyWL1jxVl01s8feBwveVIuap3PQGFA6m8wvTHy4a75D7pb65e8bVmAYULt+YaY6w/uLa67uYg\n",
       "N/rNev8LdShcrgUyHGWtRvwS4El7Q1vdYd6nuCSvNELXhUBhEnEE8w/1GLVxF9Q94AAAAABJRU5E\n",
       "rkJggg==\n",
       "\" style=\"display:inline;vertical-align:middle;\" /></a></span>"
      ],
      "text/plain": [
       "{A equiv B} |- forall_{x} ((x in B) = (x in A))"
      ]
     },
     "metadata": {},
     "output_type": "display_data"
    }
   ],
   "source": [
    "unfolded.instantiate().derive_reversed().generalize(x)"
   ]
  },
  {
   "cell_type": "code",
   "execution_count": null,
   "metadata": {},
   "outputs": [
    {
     "name": "stdout",
     "output_type": "stream",
     "text": [
      "proveit.logic.sets.equivalence.set_equiv_reversal has been proven.\n"
     ]
    }
   ],
   "source": [
    "%qed"
   ]
  },
  {
   "cell_type": "code",
   "execution_count": null,
   "metadata": {},
   "outputs": [],
   "source": []
  }
 ],
 "metadata": {
  "kernelspec": {
   "display_name": "Python 3",
   "language": "python",
   "name": "python3"
  },
  "language_info": {
   "codemirror_mode": {
    "name": "ipython",
    "version": 3
   },
   "file_extension": ".py",
   "mimetype": "text/x-python",
   "name": "python",
   "nbconvert_exporter": "python",
   "pygments_lexer": "ipython3",
   "version": "3.7.3"
  }
 },
 "nbformat": 4,
 "nbformat_minor": 1
}
