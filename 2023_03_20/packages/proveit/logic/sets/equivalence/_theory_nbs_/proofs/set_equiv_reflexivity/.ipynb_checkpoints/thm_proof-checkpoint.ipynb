{
 "cells": [
  {
   "cell_type": "markdown",
   "metadata": {},
   "source": [
    "Proof of <a class=\"ProveItLink\" href=\"../../../../../../_theory_nbs_/theory.ipynb\">proveit</a>.<a class=\"ProveItLink\" href=\"../../../../../_theory_nbs_/theory.ipynb\">logic</a>.<a class=\"ProveItLink\" href=\"../../../../_theory_nbs_/theory.ipynb\">sets</a>.<a class=\"ProveItLink\" href=\"../../theory.ipynb\">equivalence</a>.<a class=\"ProveItLink\" href=\"../../theorems.ipynb#set_equiv_reflexivity\">set_equiv_reflexivity</a> theorem\n",
    "========"
   ]
  },
  {
   "cell_type": "code",
   "execution_count": 1,
   "metadata": {},
   "outputs": [],
   "source": [
    "import proveit\n",
    "from proveit import A, B\n",
    "from proveit.logic import Equals, SubsetEq\n",
    "from proveit.logic.sets.equivalence  import set_equiv_def\n",
    "theory = proveit.Theory() # the theorem's theory"
   ]
  },
  {
   "cell_type": "code",
   "execution_count": 2,
   "metadata": {},
   "outputs": [
    {
     "data": {
      "text/html": [
       "Under these <a href=\"presumptions.txt\">presumptions</a>, we begin our proof of<br><strong id=\"set_equiv_reflexivity\">set_equiv_reflexivity:</strong> <a class=\"ProveItLink\" href=\"../../../__pv_it/theorems/e899271b152f486d849b55561e20ad802e6737ac0/expr.ipynb\"><img src=\"data:image/png;base64,iVBORw0KGgoAAAANSUhEUgAAAGwAAAAVBAMAAABRZRb3AAAAMFBMVEX///+IiIgiIiIQEBB2dnbu\n",
       "7u5ERETMzMzc3NwyMjK6urpmZmaYmJiqqqpUVFQAAAB6qHgnAAAAAXRSTlMAQObYZgAAAAlwSFlz\n",
       "AAAOxAAADsQBlSsOGwAAAdBJREFUOMuFUs8rRFEU/oZ55s0v80pZkTGUsmIiZSELCxuMjbKRjVIW\n",
       "M3+AzJtI2WBhShJiMRtqFlNixNgo2UyUlWJrNZL8KGOcc999k2eGuXXuOe98fee8+50DlDkq/j1/\n",
       "wY0GuloOWwJcGvDA8Z0F8fYL53wSbiKYpVszwW2yBuCY43ULbdxw9watebYVsjqXLHDBEOb4dyYt\n",
       "tBPDnb7zbctg/AGOpMTcOR3wJJkJe9ZC6xC3feGNXS3ZY2RXl9jgSITubngy1NT6NEOKmC0v2Nyx\n",
       "0GuKqDVxi00gGAh0WWhuQ5Gk97OYUooY7qkNhoFDYEqkQhJyMgBX1vFSKv8Bolz0EliGKmRSeiRU\n",
       "lTXqql/CB8SRSiaxwtENUBOy74hH5CWtWnzWp09fS5rZZtI5Vj1KCmiGIonOnzSF5vtcQhsFfH7y\n",
       "e2Sr5yKlbf38STdZSwmNplfF47kmG4qL/jiSWA0v0r7cI8vbXBm5chdk8yKVQJ2k2elb5Zph/Vez\n",
       "eS7Ku5PiPeC5IzWQkxNw+KGEP0K4LaxZWWOFOLzhD5pAe1EjYCUi4zZUOKrfjOgtPnMzryrR3Bkz\n",
       "6INytmFqolegLZbNKpMVaNPl07H/WTYd3339Zt2Pp/w/AAAAAElFTkSuQmCC\n",
       "\" style=\"display:inline;vertical-align:middle;\" /></a><br>(see <a class=\"ProveItLink\" href=\"../../../__pv_it/theorems/f26add3920b8eaa9e5c04a002cbe42c125a673e30/dependencies.ipynb\">dependencies</a>)<br>"
      ],
      "text/plain": [
       "<IPython.core.display.HTML object>"
      ]
     },
     "metadata": {},
     "output_type": "display_data"
    },
    {
     "name": "stdout",
     "output_type": "stream",
     "text": [
      "set_equiv_reflexivity is now readily provable.  Simply execute \"%qed\".\n"
     ]
    }
   ],
   "source": [
    "%proving set_equiv_reflexivity"
   ]
  },
  {
   "cell_type": "code",
   "execution_count": 3,
   "metadata": {},
   "outputs": [
    {
     "name": "stdout",
     "output_type": "stream",
     "text": [
      "proveit.logic.sets.equivalence.set_equiv_reflexivity has been proven.\n"
     ]
    },
    {
     "data": {
      "text/html": [
       "<table><tr><th>&nbsp;</th><th>step type</th><th>requirements</th><th>statement</th></tr>\n",
       "<tr><td><a name=\"0x2755a7c86e71c3e5_step0\">0</a></td><td>generalization</td><td><a href=\"#0x2755a7c86e71c3e5_step1\">1</a></td><td><span style=\"font-size:20px;\"> <a class=\"ProveItLink\" href=\"../../../__pv_it/_proof_set_equiv_reflexivity/18a8ebbd6e7505ba20091fb5f31c705a91ae07550/proof.ipynb\" style=\"text-decoration: none\">&nbsp;&#x22A2;&nbsp;&nbsp;</a><a class=\"ProveItLink\" href=\"../../../__pv_it/theorems/e899271b152f486d849b55561e20ad802e6737ac0/expr.ipynb\"><img src=\"data:image/png;base64,iVBORw0KGgoAAAANSUhEUgAAAGwAAAAVBAMAAABRZRb3AAAAMFBMVEX///+IiIgiIiIQEBB2dnbu\n",
       "7u5ERETMzMzc3NwyMjK6urpmZmaYmJiqqqpUVFQAAAB6qHgnAAAAAXRSTlMAQObYZgAAAAlwSFlz\n",
       "AAAOxAAADsQBlSsOGwAAAdBJREFUOMuFUs8rRFEU/oZ55s0v80pZkTGUsmIiZSELCxuMjbKRjVIW\n",
       "M3+AzJtI2WBhShJiMRtqFlNixNgo2UyUlWJrNZL8KGOcc999k2eGuXXuOe98fee8+50DlDkq/j1/\n",
       "wY0GuloOWwJcGvDA8Z0F8fYL53wSbiKYpVszwW2yBuCY43ULbdxw9watebYVsjqXLHDBEOb4dyYt\n",
       "tBPDnb7zbctg/AGOpMTcOR3wJJkJe9ZC6xC3feGNXS3ZY2RXl9jgSITubngy1NT6NEOKmC0v2Nyx\n",
       "0GuKqDVxi00gGAh0WWhuQ5Gk97OYUooY7qkNhoFDYEqkQhJyMgBX1vFSKv8Bolz0EliGKmRSeiRU\n",
       "lTXqql/CB8SRSiaxwtENUBOy74hH5CWtWnzWp09fS5rZZtI5Vj1KCmiGIonOnzSF5vtcQhsFfH7y\n",
       "e2Sr5yKlbf38STdZSwmNplfF47kmG4qL/jiSWA0v0r7cI8vbXBm5chdk8yKVQJ2k2elb5Zph/Vez\n",
       "eS7Ku5PiPeC5IzWQkxNw+KGEP0K4LaxZWWOFOLzhD5pAe1EjYCUi4zZUOKrfjOgtPnMzryrR3Bkz\n",
       "6INytmFqolegLZbNKpMVaNPl07H/WTYd3339Zt2Pp/w/AAAAAElFTkSuQmCC\n",
       "\" style=\"display:inline;vertical-align:middle;\" /></a></span></td></tr>\n",
       "<tr><td><a name=\"0x2755a7c86e71c3e5_step1\">1</a></td><td>instantiation</td><td><a href=\"#0x2755a7c86e71c3e5_step2\">2</a>, <a href=\"#0x2755a7c86e71c3e5_step3\">3</a></td><td><span style=\"font-size:20px;\"> <a class=\"ProveItLink\" href=\"../../../__pv_it/_proof_set_equiv_reflexivity/e34bc3ce2507efecb32ce536541c44e02a002d210/proof.ipynb\" style=\"text-decoration: none\">&nbsp;&#x22A2;&nbsp;&nbsp;</a><a class=\"ProveItLink\" href=\"../../../__pv_it/theorems/dd8e2a83d0cbc249da7f02652195bc6aef3035680/expr.ipynb\"><img src=\"data:image/png;base64,iVBORw0KGgoAAAANSUhEUgAAADsAAAAPBAMAAACo4Ko7AAAAMFBMVEX///8QEBAiIiLu7u5ERES6\n",
       "urqYmJiIiIjMzMx2dnZUVFRmZmaqqqoyMjLc3NwAAABb1yYoAAAAAXRSTlMAQObYZgAAAAlwSFlz\n",
       "AAAOxAAADsQBlSsOGwAAALJJREFUGNNjYACBtwzYAFz0PoSyEjoAJAvQRBl4/kNo9TZNILkATZSB\n",
       "e/0DEMWewGC7gIFjA6ooA8O8+Q0giguI1zYEQQVhogx8BfUgOxk4QSb8F4XKwkQZuBnOJ8Cdywxj\n",
       "wEVjGPonYHoLLrqB4T3YtdxKYAB1OUyU3Xv3egcMzXBRcwYGfgUMabgo0J9MAhjSMFFWoPt4P6Db\n",
       "DRd9CMQs/9A1w0RN/l9m4PH/i+YzmCgAxp852U9uHEsAAAAASUVORK5CYII=\n",
       "\" style=\"display:inline;vertical-align:middle;\" /></a></span></td></tr>\n",
       "<tr><td>&nbsp;</td><td colspan=4 style=\"text-align:left\"><span style=\"font-size:20px;\"><a class=\"ProveItLink\" href=\"../../../../../../__pv_it/common/09585084922504426caf1db2ff588a23a0932a960/expr.ipynb\"><img src=\"data:image/png;base64,iVBORw0KGgoAAAANSUhEUgAAAA8AAAAPBAMAAADJ+Ih5AAAAMFBMVEX///8QEBAiIiLu7u5ERES6\n",
       "urqYmJiIiIjMzMx2dnZUVFRmZmaqqqoyMjLc3NwAAABb1yYoAAAAAXRSTlMAQObYZgAAAAlwSFlz\n",
       "AAAOxAAADsQBlSsOGwAAAF9JREFUCNdjYACBtwxQcB9K8/yHMrjXP4Aw5s1vANN8BfUHIDIM5xPA\n",
       "jBiG/glgxgaG9wtANLv37vUOIIY5AwO/AkSGgUkASLMCdfB+ADIeAjHLPwYGk/+XGXj8/04AADnq\n",
       "Fzds8Dk2AAAAAElFTkSuQmCC\n",
       "\" style=\"display:inline;vertical-align:middle;\" /></a> : <a class=\"ProveItLink\" href=\"../../../../../../__pv_it/common/09585084922504426caf1db2ff588a23a0932a960/expr.ipynb\"><img src=\"data:image/png;base64,iVBORw0KGgoAAAANSUhEUgAAAA8AAAAPBAMAAADJ+Ih5AAAAMFBMVEX///8QEBAiIiLu7u5ERES6\n",
       "urqYmJiIiIjMzMx2dnZUVFRmZmaqqqoyMjLc3NwAAABb1yYoAAAAAXRSTlMAQObYZgAAAAlwSFlz\n",
       "AAAOxAAADsQBlSsOGwAAAF9JREFUCNdjYACBtwxQcB9K8/yHMrjXP4Aw5s1vANN8BfUHIDIM5xPA\n",
       "jBiG/glgxgaG9wtANLv37vUOIIY5AwO/AkSGgUkASLMCdfB+ADIeAjHLPwYGk/+XGXj8/04AADnq\n",
       "Fzds8Dk2AAAAAElFTkSuQmCC\n",
       "\" style=\"display:inline;vertical-align:middle;\" /></a>, <a class=\"ProveItLink\" href=\"../../../../../../__pv_it/common/a9162d1c3cc0470c02e5daf414500903a7a419230/expr.ipynb\"><img src=\"data:image/png;base64,iVBORw0KGgoAAAANSUhEUgAAABAAAAAOBAMAAADUAYG5AAAAMFBMVEX///92dnaqqqoiIiLu7u5m\n",
       "Zma6urqIiIjc3NwQEBDMzMwyMjJUVFRERESYmJgAAAAeMT9/AAAAAXRSTlMAQObYZgAAAAlwSFlz\n",
       "AAAOxAAADsQBlSsOGwAAAHJJREFUCNdjYGB4+//Mmb0LGIBgLgMDzy8gzfGdgYHtK5DBB+TxATkM\n",
       "PB8YGLhnABmcFxhYDoMUr79efvoBSFN9AwPTPBDjJhDLg6T+APH7AgYGrn9AxvkEBgb2H0DObyCH\n",
       "ewIDQ+YWoHH3/5w5fYmBAQBWoiHo17XzsQAAAABJRU5ErkJggg==\n",
       "\" style=\"display:inline;vertical-align:middle;\" /></a> : <a class=\"ProveItLink\" href=\"../../../../../../__pv_it/common/09585084922504426caf1db2ff588a23a0932a960/expr.ipynb\"><img src=\"data:image/png;base64,iVBORw0KGgoAAAANSUhEUgAAAA8AAAAPBAMAAADJ+Ih5AAAAMFBMVEX///8QEBAiIiLu7u5ERES6\n",
       "urqYmJiIiIjMzMx2dnZUVFRmZmaqqqoyMjLc3NwAAABb1yYoAAAAAXRSTlMAQObYZgAAAAlwSFlz\n",
       "AAAOxAAADsQBlSsOGwAAAF9JREFUCNdjYACBtwxQcB9K8/yHMrjXP4Aw5s1vANN8BfUHIDIM5xPA\n",
       "jBiG/glgxgaG9wtANLv37vUOIIY5AwO/AkSGgUkASLMCdfB+ADIeAjHLPwYGk/+XGXj8/04AADnq\n",
       "Fzds8Dk2AAAAAElFTkSuQmCC\n",
       "\" style=\"display:inline;vertical-align:middle;\" /></a></span></td></tr><tr><td><a name=\"0x2755a7c86e71c3e5_step2\">2</a></td><td>theorem</td><td></td><td><span style=\"font-size:20px;\"> <a class=\"ProveItLink\" href=\"../set_equiv_fold/thm_proof.ipynb\" style=\"text-decoration: none\">&nbsp;&#x22A2;&nbsp;&nbsp;</a><a class=\"ProveItLink\" href=\"../../../__pv_it/theorems/206dd758e7fc3f8531e25faa88c1366cdb879a030/expr.ipynb\"><img src=\"data:image/png;base64,iVBORw0KGgoAAAANSUhEUgAAASMAAAAXBAMAAACykjQRAAAAMFBMVEX///+IiIgiIiIQEBB2dnbu\n",
       "7u5ERETMzMzc3NwyMjK6urpmZmaYmJiqqqpUVFQAAAB6qHgnAAAAAXRSTlMAQObYZgAAAAlwSFlz\n",
       "AAAOxAAADsQBlSsOGwAAA95JREFUSMe9V01oE0EU/lazu0mapCmiFK1aq+DBSxVREZUKVREsLiKC\n",
       "F4mIaylII0pPoqmK4MX2YIsIavy/CEaQtraiUUTQHlwvIihaPFSLUH/wF3/qm5nszDSJRA9mmN2Z\n",
       "vDfv7TfvffN2A5S3BUvoUyh7my6Adf5Jf4auITZ5Vi5E0QY+hN7xYcsCj+5xPr83NjranYSRBfrZ\n",
       "7+PlgrRZDC8EpFl75/hBARYBsS9AF7CPxTFRLkg3xHDzK7tTRDYPwc6IXL4Hwt+BQYqhAwS8ckGq\n",
       "5/fAoS9siNE1kjwrGB0hUYRgTXQQoeSFykYlQet24ydHxiI1tlSoYpTL0BK6CM+CurqF5YJUIdid\n",
       "if6QIjM3TkzAfJkknEStXmA7Fzp55sV2mWJ9XHNgaL+eFJgY8kxBhIAo49kfC9bt31o1wrQRCuRR\n",
       "BDnnzcVc1fa9sSfJJhaPrTMO2wPe9casMvJXJK3rhKuM5mGCJzYb/MXHOt7EiZtJu13Gdk10s5wA\n",
       "dxT4KbzWwqiXkMK0wS3q+UOsi2bPcNM5q/NygVy6a7jFd0XacIOfHf6kKQM3PxdEaRtd6ykWNnEq\n",
       "GhfsvjRf0CyDyDsJCRTGNSqXadZFG0hKq5BMeb+/sFe5YtouHZJJ2/xQAInF7SFpwiwenbe5LH5K\n",
       "WHnYkFWQ7ruuKloTeEdV37SUkYW0UjWklrgzrb0PNZorpm3SE8fSODsfkc0I/5YQR8kHmroEDa9z\n",
       "XUfN4CsoSBYMVbSO8G6khkPeJp+8ZBXNoMellmWvrupY4qSZ0FyRFk9zDixG9Mt0nc7nkkHF0/7G\n",
       "iMNsD3LZJUziVndgvtEgBZJa0brIewRbbe7Xtwr7cWSTrBVPhrOaKya8mFvATniQZaY1/40fIum5\n",
       "Lr9OxDgrrjW+5ZQgJx1pBckceqTsnvMOfOUJdb2cle1DirLNVaYQ6Xbdnb4rpm3z01MLs/Wbg8dj\n",
       "x8YjirX+Gh3ZyXOb1spHB4e2HLiiigDwejvsuzXinLcJ53Z9EHs0K5k4jm03UrY4YcKVnjjMLVlN\n",
       "D8gZJaLSMxsQ/ARznpY4tNGxsRMNGr0PBjorqHRIKxhxRe9g/VqqRLz25lwxbZW/YPBvX8yUwRUw\n",
       "b52wl+P+x8YeT4dkpSCfSXPqFVNXTkZwh7TiS0RrBq6er3JwmMU554ppm/0FVqmvxoKPkqg2t9Q7\n",
       "wUoKvlLJk1Vvo+v6Wd8kV/pF01zttkBpTfkcs9RnUAHmC0UhxW6vE3URfbznNyWqSBXVauL2EpCq\n",
       "8wXZopBUo1dewMkX6i+2VSimffA//0s4BR8M6vMif64kzj89+DcF4gQtq2WQ1QAAAABJRU5ErkJg\n",
       "gg==\n",
       "\" style=\"display:inline;vertical-align:middle;\" /></a></span></td></tr>\n",
       "<tr><td>&nbsp;</td><td colspan=4 style-\"text-align:left\"><a class=\"ProveItLink\" href=\"../set_equiv_fold/thm_proof.ipynb\">proveit.logic.sets.equivalence.set_equiv_fold</a></td></tr><tr><td><a name=\"0x2755a7c86e71c3e5_step3\">3</a></td><td>generalization</td><td><a href=\"#0x2755a7c86e71c3e5_step4\">4</a></td><td><span style=\"font-size:20px;\"> <a class=\"ProveItLink\" href=\"../../../__pv_it/_proof_set_equiv_reflexivity/25c55d3380373530dd59b553ec69a205453aed4c0/proof.ipynb\" style=\"text-decoration: none\">&nbsp;&#x22A2;&nbsp;&nbsp;</a><a class=\"ProveItLink\" href=\"../../../__pv_it/_proof_set_equiv_reflexivity/30abc63d2f98ffb44e041d40f920a71502d03b6d0/expr.ipynb\"><img src=\"data:image/png;base64,iVBORw0KGgoAAAANSUhEUgAAANQAAAAVBAMAAADMRN06AAAAMFBMVEX///+IiIgiIiIQEBB2dnbu\n",
       "7u5ERETMzMzc3NwyMjK6urpmZmaYmJiqqqpUVFQAAAB6qHgnAAAAAXRSTlMAQObYZgAAAAlwSFlz\n",
       "AAAOxAAADsQBlSsOGwAAAtBJREFUSMd9VU1oE1EQnk2zyWZ/4uagiD81RFAUlFX04qmCiJdqejAi\n",
       "vaSCIPaQIHq1WytCLxrBggfBiHhTjFXwp6XEiyhFDCqCKKQi9iS0iNoU1Pjezkvz9u2+Hfh2k5lv\n",
       "3puZN/MWICgug0zCbFoEX5PalQYi3K0CcCtEv1G2zziAbiPm6P/PvPE9Q6ikFkkc9YDa6pM53CTY\n",
       "gHhG/1/nbGoFES5NshVMBNTHZXyrTePLezhPq1LkjEYdES4zLfKYDainZXxjgZysWfNAd4zzJ9PD\n",
       "wB3eidw29jN+cYma8+KKjoQPh46UyXOvB5MkkOKJHxlWRL/aXXlU+UsLIiZtVSR8zd5E07iB2J3L\n",
       "7eHdHjEM9B474GU7zuVQs/7Q3ObEMpGuUDPfzvaLfAOaNKzDiMcAJ3k3FgHUlC9GVugZvZH8SV6m\n",
       "l8RkjspOYGka0GtPij12D0Zob75CXAbNF+QOhOmav9JeoSp8kNo/Wi9HyCpG0n8Jb/LfBT7U4Apd\n",
       "/B0ikY9Xebd9iCQY6JMkFc5tQduaqZnfVLUobNVDVijD0wBfGZ5aoN09grBsX1d0tiL+Ns5ZdxJU\n",
       "ovlB6+iEbAWwS+TDAMAqegi3GSrPySPzZL3rKyDAfVf1DjjL1Q9gMy1gVjgrWkDQW3DUzyf1gxgN\n",
       "6y1DPxl+xZ1PseEaQhSqXyHuKTIrnnfZRWMWhawSNqin0w70+fl6HW8yeMEwRg7OhKEks7PGbJ57\n",
       "SPrHa6/OgGs0wJKLve0T0v3W0qCjN3x8GKNRtLgBStN5hlbHfgYxmLGm0Uedv4Pv0nIePrSvkaJU\n",
       "ha2SWVAf2J9e+/hQaE+AVVomcW0HBJKdzhclVkZw03Swe9F4ciFw1W2N5GtZBKYarxjsJ7sboyR4\n",
       "uc5G8n03uLFu/+qO4RSD/KtaDKgSUV9tuMQQkAKDVELWVYtRDtLgNRshlbUhutEIvuJ6+A+1z635\n",
       "vqCEtQAAAABJRU5ErkJggg==\n",
       "\" style=\"display:inline;vertical-align:middle;\" /></a></span></td></tr>\n",
       "<tr><td><a name=\"0x2755a7c86e71c3e5_step4\">4</a></td><td>instantiation</td><td><a href=\"#0x2755a7c86e71c3e5_step5\">5</a></td><td><span style=\"font-size:20px;\"> <a class=\"ProveItLink\" href=\"../../../__pv_it/_proof_set_equiv_reflexivity/5c762fe523cc7d88a4c66b8c6a50b48419dc73e90/proof.ipynb\" style=\"text-decoration: none\">&nbsp;&#x22A2;&nbsp;&nbsp;</a><a class=\"ProveItLink\" href=\"../../../__pv_it/_proof_set_equiv_reflexivity/13a637fdaab00e95b26e7d9d823a77bb43aede5b0/expr.ipynb\"><img src=\"data:image/png;base64,iVBORw0KGgoAAAANSUhEUgAAAKIAAAAVBAMAAAA3EyjlAAAAMFBMVEX////MzMxUVFRERES6uroi\n",
       "IiIQEBCYmJhmZmYyMjLu7u52dnaqqqqIiIjc3NwAAACW8nlqAAAAAXRSTlMAQObYZgAAAAlwSFlz\n",
       "AAAOxAAADsQBlSsOGwAAAkxJREFUOMt9lE1o1EAUx//bZndjmsS9eNFDBUFBkOag4MXunhREMX5U\n",
       "EDzkoBdBWPBSQXQp1LYUYW9CRV3ppQqFokdFF0RRPGyoBy+uBkShSLFVRKrS7XvJtk0mmRnYmeXN\n",
       "7338Z/IGQAD5yNqzFXy4ZzVlu3XgeIb9oyzcAqD5tL6TAVuWKF01ZTbnZA736fcBMOoyoEURMZUy\n",
       "P5TxZofLaECvyoiRVZqGU+YxGa8P0KkXaygkrNaBoXPdv33fl2kuNERHT8Lj+YsSzZfwNg5odzcD\n",
       "LFr/WYUowaxLeNv/zHd8G5M0z84/eBre+EKsopr5hyvdKWqjizHae3c8E3kdLc7+mGKSs7VPd9l6\n",
       "L5a+mftHSzEsaXSIxyl0i9Yx748KPI6hn7+CqzhPXkHxb0+orh5Paf9kkZ5QY57EXMeNxh6BRw0/\n",
       "WM9rXABy0KOt3EWq5HQEvB8f+cWmJSFioQKUMJHirYPjAw6t/RyRMD+0Gs6Go0GW3yzey4gIXBZ5\n",
       "zAJb+eQOs2rgRGCEZ+zGRANnWbUrnCOrhraKR0meRCPP2V/hEDBd2Y2+0NzeAI50u6roCDX2+jD2\n",
       "93iYS/JaNWpbXKHbRmv7Tbqp8CLXXw2b05WD6GNJDPqczOUZT2smeHzjZNxkk9gGzLTNsWjL2HU0\n",
       "WssrDbzs3CElFSFizoVxy39zLcFjujMFs7xC6c8gX0o0zZPNrgrH11T7nlTytsutrRrpd2FYyfPD\n",
       "M6gCbCdl6lW9+fjCR6ACMtwNR+UwGL4ZCuBThm1RwVsB1gCyi5S82f3uFgAAAABJRU5ErkJggg==\n",
       "\" style=\"display:inline;vertical-align:middle;\" /></a></span></td></tr>\n",
       "<tr><td>&nbsp;</td><td colspan=4 style=\"text-align:left\"><span style=\"font-size:20px;\"><a class=\"ProveItLink\" href=\"../../../../../../__pv_it/common/a0d9d672aa5e272d907247690c152cc2c6daafb70/expr.ipynb\"><img src=\"data:image/png;base64,iVBORw0KGgoAAAANSUhEUgAAAAsAAAAJBAMAAAAWSsseAAAAMFBMVEX///9ERES6uroQEBAyMjLc\n",
       "3NyYmJgiIiJmZmaqqqp2dnbMzMxUVFSIiIju7u4AAAAd7oVFAAAAAXRSTlMAQObYZgAAAAlwSFlz\n",
       "AAAOxAAADsQBlSsOGwAAAENJREFUCNdjYHh75/WqCQwMDbxnOQoY2ALY/vEkMHAzcDgwgADzBTCl\n",
       "H8D3gOGhwmEGLgaG+fuaGTQZGF7c5WybwAAAJTwQ1a2DuB8AAAAASUVORK5CYII=\n",
       "\" style=\"display:inline;vertical-align:middle;\" /></a> : <a class=\"ProveItLink\" href=\"../../../__pv_it/axioms/bffc8f58d953dcb8331468867a32979a833e73840/expr.ipynb\"><img src=\"data:image/png;base64,iVBORw0KGgoAAAANSUhEUgAAADUAAAAQBAMAAABEqSrGAAAAMFBMVEX///9ERES6uroQEBAyMjLc\n",
       "3NyYmJgiIiJmZmaqqqp2dnbMzMxUVFSIiIju7u4AAAAd7oVFAAAAAXRSTlMAQObYZgAAAAlwSFlz\n",
       "AAAOxAAADsQBlSsOGwAAAM9JREFUGNNjYMABQhhwA3/cUpz/cctxnA9A4fOKl5fA2EvXb0CWYvJ9\n",
       "AGezXrg/AUi9vfN61QSwyx4gGckwPwFINfCe5SgA8V2RzNBk2L+AgYEtgO0fD0gNgwOSXAND/AEG\n",
       "Bm4GDoggt3l5eXkh1FUSHecFQAzmC2A+nwBC21sGBn6wPfoBfGBXFCAbycBuwMDwUOEwAxdY4C7C\n",
       "N0D7WT4wMMzf1wx0FQiwTIDJBQMx41cGhhd3OdsggnwH9SBSD//7MXDKf1mAEjALEWEGAgAYMjDu\n",
       "34hqRQAAAABJRU5ErkJggg==\n",
       "\" style=\"display:inline;vertical-align:middle;\" /></a></span></td></tr><tr><td><a name=\"0x2755a7c86e71c3e5_step5\">5</a></td><td>axiom</td><td></td><td><span style=\"font-size:20px;\"> <a class=\"ProveItLink\" href=\"../../../../../equality/_theory_nbs_/axioms.ipynb#equals_reflexivity\" style=\"text-decoration: none\">&nbsp;&#x22A2;&nbsp;&nbsp;</a><a class=\"ProveItLink\" href=\"../../../../../equality/__pv_it/axioms/864f59d0e02493d4a93bdd8b5654226c327952290/expr.ipynb\"><img src=\"data:image/png;base64,iVBORw0KGgoAAAANSUhEUgAAAGIAAAAVBAMAAABPrCZEAAAAMFBMVEX///+IiIgiIiIQEBB2dnbu\n",
       "7u5ERETMzMzc3NwyMjK6urpmZmaYmJiqqqpUVFQAAAB6qHgnAAAAAXRSTlMAQObYZgAAAAlwSFlz\n",
       "AAAOxAAADsQBlSsOGwAAAU5JREFUOMtjYMAEDQw4AQdWUcYLuHVwCTAwPAAx7iCLXmHAA2QYGHaB\n",
       "6BlIYqwT8OngDGCoA7kuAUmM+wA+HTwbQJoYWJBdzsyAF5gy8ACN5EQWuolfxxwGBiMlJRNkoS1A\n",
       "HCgX7oIeYlAxPwaG7QwMqWiGMGxgfMitAPKTEhiAwxMqdpKBoY+B4wGyDl2g9xp4vvKhBQBM7DID\n",
       "A1sAywJkKSsGBnYGbowghonVMzDwCqB4HKQDGGACmH6GiC0G4gkHgYTgDukGuKsYGNY3sAag+QMq\n",
       "dgnI8p0KTEsNzzihgZPIwBC24DEDC5oNMLFjQNwMNIKHIZEdKgUMvvulmxnWoumAiYECn68AJPID\n",
       "JlXEwBAtyLsHPTpgYlrwoDCAJX2mAnxRzqEAZTSzTOBGpDU8AJ5OuaUcRWGCGfh0tGETDMOnA6tx\n",
       "HAK4NTA2MAAA/XFJ7x4UcE0AAAAASUVORK5CYII=\n",
       "\" style=\"display:inline;vertical-align:middle;\" /></a></span></td></tr>\n",
       "<tr><td>&nbsp;</td><td colspan=4 style-\"text-align:left\"><a class=\"ProveItLink\" href=\"../../../../../equality/_theory_nbs_/axioms.ipynb#equals_reflexivity\">proveit.logic.equality.equals_reflexivity</a></td></tr></table>"
      ],
      "text/plain": [
       "\tstep type\trequirements\tstatement\n",
       "0\tgeneralization\t1\t|- forall_{A} (A equiv A)\n",
       "1\tinstantiation\t2, 3\t|- A equiv A\n",
       "\tA : A, B : A\n",
       "2\ttheorem\t\t|- forall_{A, B | forall_{x} ((x in A) = (x in B))} (A equiv B)\n",
       "\tproveit.logic.sets.equivalence.set_equiv_fold\n",
       "3\tgeneralization\t4\t|- forall_{x} ((x in A) = (x in A))\n",
       "4\tinstantiation\t5\t|- (x in A) = (x in A)\n",
       "\tx : x in A\n",
       "5\taxiom\t\t|- forall_{x} (x = x)\n",
       "\tproveit.logic.equality.equals_reflexivity"
      ]
     },
     "execution_count": 3,
     "metadata": {},
     "output_type": "execute_result"
    }
   ],
   "source": [
    "%qed"
   ]
  },
  {
   "cell_type": "code",
   "execution_count": null,
   "metadata": {},
   "outputs": [],
   "source": []
  }
 ],
 "metadata": {
  "kernelspec": {
   "display_name": "Python 3",
   "language": "python",
   "name": "python3"
  },
  "language_info": {
   "codemirror_mode": {
    "name": "ipython",
    "version": 3
   },
   "file_extension": ".py",
   "mimetype": "text/x-python",
   "name": "python",
   "nbconvert_exporter": "python",
   "pygments_lexer": "ipython3",
   "version": "3.7.3"
  }
 },
 "nbformat": 4,
 "nbformat_minor": 1
}
