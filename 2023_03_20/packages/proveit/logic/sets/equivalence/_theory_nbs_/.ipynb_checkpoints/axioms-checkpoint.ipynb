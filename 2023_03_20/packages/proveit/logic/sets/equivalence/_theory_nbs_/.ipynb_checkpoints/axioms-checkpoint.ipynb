{
 "cells": [
  {
   "cell_type": "markdown",
   "metadata": {},
   "source": [
    "Axioms for the theory of <a class=\"ProveItLink\" href=\"theory.ipynb\">proveit.logic.sets.equivalence</a>\n",
    "========"
   ]
  },
  {
   "cell_type": "code",
   "execution_count": 1,
   "metadata": {},
   "outputs": [],
   "source": [
    "import proveit\n",
    "# Prepare this notebook for defining the axioms of a theory:\n",
    "%axioms_notebook # Keep this at the top following 'import proveit'.\n",
    "from proveit import x, A, B, X\n",
    "from proveit.logic import And, Equals, Forall, in_bool, Not, InSet\n",
    "from proveit.logic.sets import SubsetEq, SetEquiv, SetNotEquiv"
   ]
  },
  {
   "cell_type": "code",
   "execution_count": 2,
   "metadata": {},
   "outputs": [
    {
     "name": "stdout",
     "output_type": "stream",
     "text": [
      "Defining axioms for theory 'proveit.logic.sets.equivalence'\n",
      "Subsequent end-of-cell assignments will define axioms\n",
      "%end_axioms will finalize the definitions\n"
     ]
    }
   ],
   "source": [
    "%begin axioms"
   ]
  },
  {
   "cell_type": "markdown",
   "metadata": {},
   "source": [
    "**By definition, two sets are equivalent if they contain the same elements."
   ]
  },
  {
   "cell_type": "code",
   "execution_count": 3,
   "metadata": {},
   "outputs": [
    {
     "data": {
      "text/html": [
       "<strong id=\"set_equiv_def\">set_equiv_def:</strong> <a class=\"ProveItLink\" href=\"../__pv_it/axioms/2a55337181fe9c7698fac5e0cba5948c3e805e0a0/axiom_expr.ipynb\"><img src=\"data:image/png;base64,iVBORw0KGgoAAAANSUhEUgAAAY4AAAAWBAMAAAAlaGbVAAAAMFBMVEX///+IiIgiIiIQEBB2dnbu\n",
       "7u5ERETMzMzc3NwyMjK6urpmZmaYmJiqqqpUVFQAAAB6qHgnAAAAAXRSTlMAQObYZgAAAAlwSFlz\n",
       "AAAOxAAADsQBlSsOGwAABQNJREFUWMPVV2toHFUUPpPd2dfsbnYrasCYLlMwPlBW8RlsyY8gOFBd\n",
       "BStSKNtKsRQki1X/CGajUvBPs1KrIrZG2lIEpdsa6qvUtT+KJUpWK0JRaLRYKUoStW1aq63nnnNn\n",
       "d2bu3Unwnwc+zt2zd757zz2PuQMQJgmJMKkqFsOu/Aeq6iJtQcIl/QtuEa6VwCdqnea8o1ii46FU\n",
       "uj3VdDxgNEP2lsoxwCE1LWw/6KdmBhkoyTlS5smbBT+Nj1yemXmtAkZD9SNLTzf0VBoR7CoPfKud\n",
       "nB6+NHP6CYBeYDikPhF/vaGnf0wC5QT70XX1YdxMlm134mgeYJvqhyUikqzqqTRC7AqP2SEHImWA\n",
       "2QokS0BwSD0vwlrWP3BQAuXQeVK9YO4AeI6T4XcM7EWASdWPuIjy5g5UGiF2hcdq6GePYRrtrUO6\n",
       "DgSHlPAo2iEPixI446V50ri/7Oup6zm+aEqjL5GSWh/ibFfqqVy5yrbd82Z2hSfiL5Z19g08msI2\n",
       "MoW+3AEEh1QanU52KI8aA2XU+Ie0yPClf3IdZzEZkncjGqofX6Kq6amkvHtle8zsCs9xX1m/0nJz\n",
       "FrEVk/YtIDisbrPt2/V+WIMMlHrm77a91EpT8yc8mui06kfEtpcNaqjM/M9PU5wS3mpgdoVnAvFQ\n",
       "36NDlC0vt6OFdbmmH/UDDIfVhwDrvdvzdJGGe0ipZvyM4ubI2vxp8W+aznm/LeQW6YdVgVhJQ2VB\n",
       "X24/BJqAZCcei2hsckmcd9340Sr4W1H8XL5P/AVHGQ6rLZCgp8y7aNazF4cOyNdYV5Mhlk9cgsBu\n",
       "YWkVMveKnCmq8UDKLV6TS/UFTJV+Iz+8wWJ2hQdbfLqaPpulo2wnpYFN4ZiwHWM4rGIlfm9FuQLS\n",
       "BTAkYWScgTX56aFzSjweRzyILsfnNO/B9UTfLllJVYGP2bBJnIdsk5Jd4RlAG1jsQBzT376OhjHc\n",
       "XlQ0hhGGwyqT47PZcytXLza0uYAfJjaHPxQ/xBmKtpHSxAO+9pW550h4FVjleU1IdoVngJ7M8aT2\n",
       "q6F7mvsk7GQ4clj7nP7O7eAVm/BwI5BXFmJZ0I24qM1Z3FumoNYHJNO4vnHN6EcBqtR5eIQM3rRi\n",
       "duLx1oe4OsDeqkmFVmjXJW4v+xcOvmE4criSWochIz7WO/mLfCCWY8B7iLeD9SHSNH5BZGJZE4/o\n",
       "cVy9J1ve7qMyN2aL1LvByLWmu+wKz1oM2/hJiNKPfMuMdQkjItpHGI4cvkjO74EraNZhMH919zPN\n",
       "SIiADwfvnkm07twGrdbs9yOxAgeNWK7io8rMry6m+KW7vXVHdNkVHmymJ575AN7n5Vrv6q0Y1XtK\n",
       "si9PsB9imKW1JoZmKX7oxJi8r8YLBHP4Qgm+u/yqf5GsuK09SSkyrrvvUlC7Xeddqn25779iy5qN\n",
       "3Jfb7ArPUwCr85mD7IB5ajdbT4nrKdluZDhyyM0Mt0/+LMeUdD8f+iXC5YXO9/ZNrS8IlWrXOrsW\n",
       "ztPl+4xJ3efeS9xAFhgOq1aSdjfNQUicBfMm1zipu71pb5NaPxLF+6G+eCqFJ10PnS+ukQKO50Zp\n",
       "rQDzszfjy+HomaEDrUyMVRnh34zljvHYtytfWjSV5tK9IXThzRJO4GotWl/gA6Dsa9x6UXen+x5c\n",
       "mErj5arQhTdIOKrDuwO/RyXCpEf9rtV9ny9I1aMJUS5kvlFlLBkg5ZMG/F/lXyLvYzOjsAy1AAAA\n",
       "AElFTkSuQmCC\n",
       "\" style=\"display:inline;vertical-align:middle;\" /></a><br>"
      ],
      "text/plain": [
       "set_equiv_def: forall_{A, B} ((A equiv B) = [forall_{x} ((x in A) = (x in B))])"
      ]
     },
     "execution_count": 3,
     "metadata": {},
     "output_type": "execute_result"
    }
   ],
   "source": [
    "set_equiv_def = Forall((A, B), Equals(SetEquiv(A, B), Forall(x, Equals(InSet(x, A), InSet(x, B)))))"
   ]
  },
  {
   "cell_type": "markdown",
   "metadata": {},
   "source": [
    "**Define $A \\ncong B$ as $\\lnot (A \\cong B)$:**"
   ]
  },
  {
   "cell_type": "code",
   "execution_count": 4,
   "metadata": {},
   "outputs": [
    {
     "data": {
      "text/html": [
       "<strong id=\"set_not_equiv_def\">set_not_equiv_def:</strong> <a class=\"ProveItLink\" href=\"../__pv_it/axioms/5ca6958939b037764a87173cef0bdb3b7beea5350/axiom_expr.ipynb\"><img src=\"data:image/png;base64,iVBORw0KGgoAAAANSUhEUgAAARkAAAAWBAMAAAAGH/VFAAAAMFBMVEX///+IiIgiIiIQEBB2dnbu\n",
       "7u5ERETMzMzc3NwyMjK6urpmZmaYmJiqqqpUVFQAAAB6qHgnAAAAAXRSTlMAQObYZgAAAAlwSFlz\n",
       "AAAOxAAADsQBlSsOGwAAA+FJREFUSMfFVktIlFEUPqPzOw9nxpEgWlhOYxAYhkVPyXDhokXZ1EJw\n",
       "I4qEQYSDC1eRvQjapGFGRJQl5SZJRIxSbGphhIuGCiEIHFpUEjgm5qPS6Zz7+h/zz8yyA9/cf+69\n",
       "59zvvP77A2SVCwJZxJ1JL+sGmzNynAPgiHOgXMu0xxu011OymXPqzmTggQEJmvicYeNHAZT7ac76\n",
       "2tbnZlsBSuz1pPhr2OCZZ0PjbiLKHZhMzc3dioIjBgovaP62PRmtm4NspvRpGab8JoBkFDwROz0l\n",
       "DXyY4Wy2ntsmQwCwDyCwDNALCufJ2SZ7NoUxDnpMsrR6798AaHXw5S508ekQ+Ibs9JSM82FihaUw\n",
       "Bg0JcHEN9080+AdgChTIM2fcnk2+AMqR41Ea2t9MV/mH6vncO5x6h4z22ukpqWS/zivLNAQQs9GH\n",
       "vGB9OOVDRvkRBR/64clQNp8E0I1gKWP8HeBhy2A5X04ietDwXTs9VTY8axcda4wUxSdVxZcCmDzP\n",
       "AURMx+5weE8GNiMCGHuYYdGn8utZjau0N27Hsc5OT2WNF/GQ/69eVnrdaV8wvs6EjmcAp9hiWjEy\n",
       "p7njg9BZIztKlqhrqXgLW33LTg0zSQCYg+VhXnjjrsU0853NxbO06uvWcR3czIS2n23p+FM7GhXb\n",
       "KwTQNegSfQCBPvlSwbr8QNY+WI+pkOSwWvPiPLbudStnKL0A/kOUzEodBREns+9c46UVAkelsFol\n",
       "AI4zY0nZd4/lmQW4zUm12WllUyXDiKfmM+MbxyaW0mLTgqDmcM3r8Ad5EQ/s4q5jy85b2ZwAKArR\n",
       "w3A4vBAO72SrRQneEtCfk42G9baQxoaiRT3prdQB3a/YWvAeL604nIxZM0URFwHz1ai047bAb3x4\n",
       "b81BhYENy1QhosxKxkV1nUSy/pAOONbLkgHP+SutZOqb3N8s4I2pNzvkKWuYduikkp60ntMs2aAX\n",
       "BdSGT+TVYuRMdedaJQebdMBltjYAG5iF16D9kFbrBC5TlazwuaPqzB6keTBiaWilJ4Xa1k1xbbPe\n",
       "0R6c7e8VLwEJCLAWGqlNshZHKl2ya9o56lO94G9bpb3DZfh64nXzle481jDlVjbtxnyEQGtbjcB0\n",
       "6qZ5U4Au3bMs3H06RLsiCcaqGu8e2eF5UQ6jjb70D5yQdcaksz3XZwtcMoALZrYortWA+xdoO+Qk\n",
       "3YeWO7HD/m41i0lnKiebcQO4xcOgvbzjqoa3i7Wj+h16WkCX1nRjV9OnjDoFub7p6AtCwiR+y/96\n",
       "AV2i2Y826KlbqSkHG6IrYZJHVtpBjqxfqza+m3Qu5mCzyQCTxOD/yj+xCBC3t/w5yQAAAABJRU5E\n",
       "rkJggg==\n",
       "\" style=\"display:inline;vertical-align:middle;\" /></a><br>"
      ],
      "text/plain": [
       "set_not_equiv_def: forall_{A, B} ((A not_equiv B) = [not](A equiv B))"
      ]
     },
     "execution_count": 4,
     "metadata": {},
     "output_type": "execute_result"
    }
   ],
   "source": [
    "set_not_equiv_def = Forall((A, B), Equals(SetNotEquiv(A, B), Not(SetEquiv(A, B))))"
   ]
  },
  {
   "cell_type": "code",
   "execution_count": 5,
   "metadata": {},
   "outputs": [
    {
     "name": "stdout",
     "output_type": "stream",
     "text": [
      "Modifying axiom set_equiv_def in proveit.logic.sets.equivalence theory\n",
      "Modifying axiom set_not_equiv_def in proveit.logic.sets.equivalence theory\n",
      "Removing axiom set_equiv_def from proveit.logic.sets.equivalence theory\n",
      "Removing axiom set_not_equiv_def from proveit.logic.sets.equivalence theory\n",
      "set_equiv_def expression notebook is being updated\n",
      "set_not_equiv_def expression notebook is being updated\n",
      "These axioms may now be imported from the theory package: proveit.logic.sets.equivalence\n"
     ]
    }
   ],
   "source": [
    "%end axioms"
   ]
  }
 ],
 "metadata": {
  "kernelspec": {
   "display_name": "Python 3",
   "language": "python",
   "name": "python3"
  },
  "language_info": {
   "codemirror_mode": {
    "name": "ipython",
    "version": 3
   },
   "file_extension": ".py",
   "mimetype": "text/x-python",
   "name": "python",
   "nbconvert_exporter": "python",
   "pygments_lexer": "ipython3",
   "version": "3.7.3"
  }
 },
 "nbformat": 4,
 "nbformat_minor": 1
}
