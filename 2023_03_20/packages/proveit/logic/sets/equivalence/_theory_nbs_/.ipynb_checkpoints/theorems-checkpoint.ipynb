{
 "cells": [
  {
   "cell_type": "markdown",
   "metadata": {},
   "source": [
    "Theorems (or conjectures) for the theory of <a class=\"ProveItLink\" href=\"theory.ipynb\">proveit.logic.sets.equivalence</a>\n",
    "========"
   ]
  },
  {
   "cell_type": "code",
   "execution_count": 1,
   "metadata": {},
   "outputs": [],
   "source": [
    "import proveit\n",
    "# Prepare this notebook for defining the theorems of a theory:\n",
    "%theorems_notebook # Keep this at the top following 'import proveit'.\n",
    "from proveit import x, A, B, C, P, S, PofA, PofB\n",
    "from proveit.logic import FALSE, Forall, Equals, in_bool, InSet, Not\n",
    "from proveit.logic.sets import SubsetEq\n",
    "from proveit.logic.sets import Set, SetEquiv, SetNotEquiv, Union"
   ]
  },
  {
   "cell_type": "code",
   "execution_count": 2,
   "metadata": {},
   "outputs": [
    {
     "name": "stdout",
     "output_type": "stream",
     "text": [
      "Defining theorems for theory 'proveit.logic.sets.equivalence'\n",
      "Subsequent end-of-cell assignments will define theorems\n",
      "'%end theorems' will finalize the definitions\n"
     ]
    }
   ],
   "source": [
    "%begin theorems"
   ]
  },
  {
   "cell_type": "code",
   "execution_count": 3,
   "metadata": {},
   "outputs": [
    {
     "data": {
      "text/html": [
       "<strong id=\"set_equiv_unfold\"><a class=\"ProveItLink\" href=\"proofs/set_equiv_unfold/thm_proof.ipynb\">set_equiv_unfold</a> (established theorem):<br></strong> <a class=\"ProveItLink\" href=\"../__pv_it/theorems/7539de4e3f7ba49f10ebed8c330644fa8699146b0/theorem_expr.ipynb\"><img src=\"data:image/png;base64,iVBORw0KGgoAAAANSUhEUgAAAVAAAAAXBAMAAACv7AqKAAAAMFBMVEX///+IiIgiIiIQEBB2dnbu\n",
       "7u5ERETMzMzc3NwyMjK6urpmZmaYmJiqqqpUVFQAAAB6qHgnAAAAAXRSTlMAQObYZgAAAAlwSFlz\n",
       "AAAOxAAADsQBlSsOGwAABGpJREFUSMfNV11oFFcUPhN3dmd3djcTS4vQNIbxIaAV1lItCpE87EMb\n",
       "Ma4WIzUQotQqimQxbR/dFSHQF3dBUkrRGtAihRbXGtL6Qzv1QQwqGX9exIIRUSmWrEJjosWm5557\n",
       "Z/fOzxrdJw98mc2Z88397jn3nJ0FqNMUM+t3agK1LPBefg4Cw/y2enVCaDjA+Y5AoH0FEDMCdmy/\n",
       "YBVGIFInTLD//6xHaJJdEpbkS3RwBNsRRLPffSMwON7/3+Rf2zmhmYSeYe5v6hGqs5xG5cJ9IhBo\n",
       "iVkWnvG61WJw+Lw+gHKWCAydsJedgr56hEZYMQZl3zmBQNPLuKd4yee2gsMLWPATJSIwdJLckF3X\n",
       "GR3Cy1rZlxKo2lum6WTsw3Ws+5b7Mlcjfhyjxw1OWM6ExnFH0fqa6TJe5MIlihxV++HNav8aC1k6\n",
       "Dnmfc7NGfBlxMM8Jh5hQeM80369P6DzTXCS3jt7BoTbd+5wyrQ1JN+E2K3KX9zkjiPUtm9K2J34F\n",
       "QG+bIHSR0F8AttEtzznXK8e9llA9C2GZFLU4dGgxfgZPp/0EObapMXq0SUYDh2WspNzRW93xkSdN\n",
       "LZT9MQ4UegA0YqgfUMSX/6ZHaZSHHc7Hlcke6R9Zs70qFHkHZO0NNsdFGM/8TUKlmyUosGWueze8\n",
       "FJslH59KWu54ZQZjLUG4TkLDGT67Q8/5AGsFJeUSus6G0EpcH2nnAd6QBv42xpf6YpgjC6e5Y4Dl\n",
       "jU8UZdfZMvuU8wpdhfsHveiND6OG0LQg5EhowuAbOb6MLkkcCY9kobEBA25t/hQAK/cQO1ESetXV\n",
       "SxWhAPxR0F29tx6gkVX3aIBQZBne+EZMf/yxIBwloVD8g24Z3/HVbNhgyUKV6ATWTX/QgxLaQX1X\n",
       "EhqN4wLK2/t+dZceYjOwkRxy5aGBFeqa94wuZX9O5NWMOz6HGpLPBOEaF7qWek0R9So0X3oAslAD\n",
       "64KsMcyS9vjyb1lJaOgmPn5Bsu8wd4UNgrozmQKaBkrlqz3G+owV6oI3o1swkcN3IeSOh4XYV7mi\n",
       "IFzgQvfTzo6L03ce1Iey0FgWj+zoZ2gWO7+9JUmotho/WGFDiA9NEBLTPakY/wo57Ky7nz1wRkwj\n",
       "l+Houf3FKRwKrng4iCuvzAjCCBeapHVG0mUaNaiyMCwJ1dNdUw4bz6/2TH57otw3OkMl0kpQTxq3\n",
       "rnBP704+vrpnhyDR/xTTvNgrdA9AT1PinO2Kh/uzk5Nfk28xR6VrFdRHgtvxxMjjyQBtutItNsSm\n",
       "fa95A5U3yjaBqh3barr6TWv1Cm3IviieCAwVoT9iZmy1A7QpUJdIpWeH67lT+kIGNpQ8QrXUR+D4\n",
       "LgnUNv8riP81xUdgcITqq0H9/dtIO4z9kx61JaGnJqDnqdAUP5Jes9v34nzyWJPz9RTOc9S2Qb9r\n",
       "B8xFGARwD2ycqdLn8Ku/4at9HLUtQFU3zEXY4Rf6/SsIDfrNtE+g5g+tgHRrxhwEhvmr3H7r5YW+\n",
       "Pqa9XnL+BwD5IaauDK+gAAAAAElFTkSuQmCC\n",
       "\" style=\"display:inline;vertical-align:middle;\" /></a><br>"
      ],
      "text/plain": [
       "<IPython.core.display.HTML object>"
      ]
     },
     "metadata": {},
     "output_type": "display_data"
    }
   ],
   "source": [
    "set_equiv_unfold = Forall(\n",
    "    (A, B), Forall(x, Equals(InSet(x, A), InSet(x, B))),\n",
    "    condition=SetEquiv(A, B))"
   ]
  },
  {
   "cell_type": "code",
   "execution_count": 4,
   "metadata": {},
   "outputs": [
    {
     "data": {
      "text/html": [
       "<strong id=\"set_equiv_fold\"><a class=\"ProveItLink\" href=\"proofs/set_equiv_fold/thm_proof.ipynb\">set_equiv_fold</a> (established theorem):<br></strong> <a class=\"ProveItLink\" href=\"../__pv_it/theorems/b46a6776b7147829fcbedfa19805b895e3f7281b0/theorem_expr.ipynb\"><img src=\"data:image/png;base64,iVBORw0KGgoAAAANSUhEUgAAASMAAAAXBAMAAACykjQRAAAAMFBMVEX///+IiIgiIiIQEBB2dnbu\n",
       "7u5ERETMzMzc3NwyMjK6urpmZmaYmJiqqqpUVFQAAAB6qHgnAAAAAXRSTlMAQObYZgAAAAlwSFlz\n",
       "AAAOxAAADsQBlSsOGwAAA95JREFUSMe9V01oE0EU/lazu0mapCmiFK1aq+DBSxVREZUKVREsLiKC\n",
       "F4mIaylII0pPoqmK4MX2YIsIavy/CEaQtraiUUTQHlwvIihaPFSLUH/wF3/qm5nszDSJRA9mmN2Z\n",
       "vDfv7TfvffN2A5S3BUvoUyh7my6Adf5Jf4auITZ5Vi5E0QY+hN7xYcsCj+5xPr83NjranYSRBfrZ\n",
       "7+PlgrRZDC8EpFl75/hBARYBsS9AF7CPxTFRLkg3xHDzK7tTRDYPwc6IXL4Hwt+BQYqhAwS8ckGq\n",
       "5/fAoS9siNE1kjwrGB0hUYRgTXQQoeSFykYlQet24ydHxiI1tlSoYpTL0BK6CM+CurqF5YJUIdid\n",
       "if6QIjM3TkzAfJkknEStXmA7Fzp55sV2mWJ9XHNgaL+eFJgY8kxBhIAo49kfC9bt31o1wrQRCuRR\n",
       "BDnnzcVc1fa9sSfJJhaPrTMO2wPe9casMvJXJK3rhKuM5mGCJzYb/MXHOt7EiZtJu13Gdk10s5wA\n",
       "dxT4KbzWwqiXkMK0wS3q+UOsi2bPcNM5q/NygVy6a7jFd0XacIOfHf6kKQM3PxdEaRtd6ykWNnEq\n",
       "GhfsvjRf0CyDyDsJCRTGNSqXadZFG0hKq5BMeb+/sFe5YtouHZJJ2/xQAInF7SFpwiwenbe5LH5K\n",
       "WHnYkFWQ7ruuKloTeEdV37SUkYW0UjWklrgzrb0PNZorpm3SE8fSODsfkc0I/5YQR8kHmroEDa9z\n",
       "XUfN4CsoSBYMVbSO8G6khkPeJp+8ZBXNoMellmWvrupY4qSZ0FyRFk9zDixG9Mt0nc7nkkHF0/7G\n",
       "iMNsD3LZJUziVndgvtEgBZJa0brIewRbbe7Xtwr7cWSTrBVPhrOaKya8mFvATniQZaY1/40fIum5\n",
       "Lr9OxDgrrjW+5ZQgJx1pBckceqTsnvMOfOUJdb2cle1DirLNVaYQ6Xbdnb4rpm3z01MLs/Wbg8dj\n",
       "x8YjirX+Gh3ZyXOb1spHB4e2HLiiigDwejvsuzXinLcJ53Z9EHs0K5k4jm03UrY4YcKVnjjMLVlN\n",
       "D8gZJaLSMxsQ/ARznpY4tNGxsRMNGr0PBjorqHRIKxhxRe9g/VqqRLz25lwxbZW/YPBvX8yUwRUw\n",
       "b52wl+P+x8YeT4dkpSCfSXPqFVNXTkZwh7TiS0RrBq6er3JwmMU554ppm/0FVqmvxoKPkqg2t9Q7\n",
       "wUoKvlLJk1Vvo+v6Wd8kV/pF01zttkBpTfkcs9RnUAHmC0UhxW6vE3URfbznNyWqSBXVauL2EpCq\n",
       "8wXZopBUo1dewMkX6i+2VSimffA//0s4BR8M6vMif64kzj89+DcF4gQtq2WQ1QAAAABJRU5ErkJg\n",
       "gg==\n",
       "\" style=\"display:inline;vertical-align:middle;\" /></a><br>"
      ],
      "text/plain": [
       "<IPython.core.display.HTML object>"
      ]
     },
     "metadata": {},
     "output_type": "display_data"
    }
   ],
   "source": [
    "set_equiv_fold = Forall(\n",
    "    (A, B), SetEquiv(A, B),\n",
    "    condition=Forall(x, Equals(InSet(x, A), InSet(x, B))))"
   ]
  },
  {
   "cell_type": "code",
   "execution_count": 5,
   "metadata": {},
   "outputs": [
    {
     "data": {
      "text/html": [
       "<strong id=\"left_membership_via_right\"><a class=\"ProveItLink\" href=\"proofs/left_membership_via_right/thm_proof.ipynb\">left_membership_via_right</a> (conjecture without proof):<br></strong> <a class=\"ProveItLink\" href=\"../__pv_it/theorems/0a42f8b539357e70245cafa38793dbbb6d1b1fc20/theorem_expr.ipynb\"><img src=\"data:image/png;base64,iVBORw0KGgoAAAANSUhEUgAAAPYAAAAXBAMAAADKJK/cAAAAMFBMVEX///8AAAAAAAAAAAAAAAAA\n",
       "AAAAAAAAAAAAAAAAAAAAAAAAAAAAAAAAAAAAAAAAAAAv3aB7AAAAD3RSTlMAq1RmmUTNIjK7EInv\n",
       "3XZ/CtNrAAAACXBIWXMAAA7EAAAOxAGVKw4bAAADLUlEQVRIx7WWX0gUQRzHv94f925PVyEfqhcP\n",
       "6rHoKDF6ME+yPyaVFIT9gS4jAgm8XoJAuuuxDIxI8oLyhAgsDBOjh4u6hCCK4qCCXhbWrIckLaJS\n",
       "CrKZ3+y6c6e35kIDdzvz+85vPrO/+c3sAC6LpiedOyiLaJPv3KIRalmkw/tiwmnAb7DnfVTy5io3\n",
       "bGdPz1AxpYP9xom9lTdPuGE7e94qOqlZ9lea5uxzPPyX3LCdPbcUE3zVccAb5Ww+g1DYDdvZM5vX\n",
       "+qTrMbP64DFP0uec7Y2wCLjKNUdPT0xu7Z+wU9z4wud7jLPxUtdfuMtzJ08fSzV1amXXMPHaJQHr\n",
       "2Jxxj9g7gGtkTRd4W5V0Mfac5wKlNMJHGDN2USNuC3vRzXdALbFPQaHdoj4j7fz3TBOdGkGzs2nn\n",
       "JdDXPNJrsy3PheRyFtiNqE8vI7bUKYoEd1pD7GBaHBOhb6R5c9CyMpvbH7YxgdXrgM822/Lk2LFU\n",
       "S55cxppJbBONizorYkdoVxqrea2b2B5DTKv1FT1KovB+ldnM7tl5YAghVq8C6m225clKI4VKksto\n",
       "VmJIDNivfReoyLHnYWIjtpmsxlHhFMZgRGYzO1v6hgv8KBmF+lo6U8lzavuHuEYessxjDv80blND\n",
       "DjnKeVjXCvYwZaFmBigxXrMcEpvbWbi9J9kRrPzZ0JCU2NxTi68oDYsXk+WgAbWnJAs6WTXDQvv5\n",
       "vuRh3STYnZQwreZS1UGtktlkb0qxEuG50B+V2NzTixsB7LNSxZYr4Zm5mfWLs6fNYnfygafZX7Ng\n",
       "l9BcmzPVaXPNEi0S27KbuaD8kNjCkw1Vy6YWzpMDOai7jdXrRau/R4wxMNsOT99PFoy3gm2GFomk\n",
       "WDMckfbYnN3MBf9M4Tc0kFXQNU9G/tf50HU976BTchKbRa0irA5B+QX1jRRzslsxT6QxGC1gd4Zi\n",
       "PrbbKFUkGTWOp6IvYrN9T6DuOR4YRe3vTFPYZgu72cnbkRm5XHh38H18NAGlt1BGMO7EPgPpvc0v\n",
       "gFQPLuXecieVKrjHqI7f5avz2QeXwF7svnbW6bLHgjL5NN8W+Xf2fy3Kfyf8Bc4H4Ng5snvXAAAA\n",
       "AElFTkSuQmCC\n",
       "\" style=\"display:inline;vertical-align:middle;\" /></a><br>"
      ],
      "text/plain": [
       "<IPython.core.display.HTML object>"
      ]
     },
     "metadata": {},
     "output_type": "display_data"
    }
   ],
   "source": [
    "left_membership_via_right = Forall(\n",
    "    (A, B), Forall(x, InSet(x, A), domain=B), condition=SetEquiv(A, B))"
   ]
  },
  {
   "cell_type": "code",
   "execution_count": 6,
   "metadata": {},
   "outputs": [
    {
     "data": {
      "text/html": [
       "<strong id=\"right_membership_via_left\"><a class=\"ProveItLink\" href=\"proofs/right_membership_via_left/thm_proof.ipynb\">right_membership_via_left</a> (conjecture without proof):<br></strong> <a class=\"ProveItLink\" href=\"../__pv_it/theorems/2cc29f5679fab0b0f4e65530d8a73434ecd26a960/theorem_expr.ipynb\"><img src=\"data:image/png;base64,iVBORw0KGgoAAAANSUhEUgAAAPcAAAAXBAMAAAAl5sTiAAAAMFBMVEX///8AAAAAAAAAAAAAAAAA\n",
       "AAAAAAAAAAAAAAAAAAAAAAAAAAAAAAAAAAAAAAAAAAAv3aB7AAAAD3RSTlMAq1RmmUTNIjK7EInv\n",
       "3XZ/CtNrAAAACXBIWXMAAA7EAAAOxAGVKw4bAAADV0lEQVRIx7VWXUgUURQ+szu7szNr00ohFoQL\n",
       "SY8xlBg9lIJUSmULQUhGbUKEPq2PQun2GEktxj6s/W1gQVGwCQWxD60G/RCJDz300MCUgRRhaqJi\n",
       "UJ177+7MnbUZdcALu3Pnft8937nnnnPvAHhsqp50J0huYGIVBlxaOLYC4YsbeJpZiJD+di/iAnn4\n",
       "NAfcl/vv8N6/lZWdSVA1Kn6ADJ33Ii6StQcTDvh9h/G3AMIiQBcVv0S2J+VFPESC1uOENzlkwh+A\n",
       "wBxAHRUPZvER9bTn6D0MO+EF29s3XY/Tjh9X7UcHKrLEgh+jH/SWcLvxEXfachtw4nupJ0yj3Gv8\n",
       "aTRl3+v6O2/iFbr+KecAiwgoU1uv0MhIXeZ4RQqUbVhj4QgVbwYYpOPZsumljuIkLiZBLptkcnFl\n",
       "aOGzcRTsWXnt9lQVKRB/nIp3g0TLTXlD0ctz+RZa/XKJ/8g6DEyQiuO87jKXTO4GTKM90JDdRMUt\n",
       "ws8E+F6SbSlQcTnLzovwLMuIcVALNvEXUQi/QlsaB7JDZhCelkhXt6SL3GJ4EU7CQfbSr2NjFXWT\n",
       "kNDD0DS14DOYY21jLCMawT/Niwf6Dai9dwMgx4FMfKeZb2KzybXEAZhJeGCtfAZ/DUgKsJVDfD8d\n",
       "Ns6yWVF4rPHiajACjSBWD8U4kIkH/WhG/dp7CCYsrhV2CCzAQ/piaod+4V8NWfI4Ex+muagWY9Q3\n",
       "UVcNvLghxknE68d4kImHd2C+TQqpDiVlcVmTDVDSQgFoNaiGeR0toAPzZHdTTPwC9bYNflB4Hyib\n",
       "efFAEndZzGC7zoFMXBrBjiYbyYBmcYtwBHyLQ4UAy4EOswgQP9XFSpGKCzRDD+draNmg8b4YJy7m\n",
       "nyyZUTPB4q1Gw7AxAf7OTGbAxg2Ng9Jq1O5ib3fTrCSFOzOVVQN0J2LcvaiiWerEKMAZvtQMkBZN\n",
       "cRPkr9R+SIRyy7gfbSXYfku3n4UXeQvHcQVRJQfSEigfuLCTgM6Wwm6B1lSp8AzzcdDiFlud+wHZ\n",
       "xImLI6AcOxcahfrf+ZYoJ34kAkPzJZYFclNb26ey0JMs58oJ18+c1PLPER/Xl9fyJaM8z6TLDlrX\n",
       "a5q4Vi5+cg3iK32C9bqBk5hln8rEtdWLr2+T1l/iH08u41FtZTGlAAAAAElFTkSuQmCC\n",
       "\" style=\"display:inline;vertical-align:middle;\" /></a><br>"
      ],
      "text/plain": [
       "<IPython.core.display.HTML object>"
      ]
     },
     "metadata": {},
     "output_type": "display_data"
    }
   ],
   "source": [
    "right_membership_via_left = Forall(\n",
    "    (A, B), Forall(x, InSet(x, B), domain=A), condition=SetEquiv(A, B))"
   ]
  },
  {
   "cell_type": "code",
   "execution_count": 7,
   "metadata": {},
   "outputs": [
    {
     "data": {
      "text/html": [
       "<strong id=\"set_equiv_reflexivity\"><a class=\"ProveItLink\" href=\"proofs/set_equiv_reflexivity/thm_proof.ipynb\">set_equiv_reflexivity</a> (established theorem):<br></strong> <a class=\"ProveItLink\" href=\"../__pv_it/theorems/f26add3920b8eaa9e5c04a002cbe42c125a673e30/theorem_expr.ipynb\"><img src=\"data:image/png;base64,iVBORw0KGgoAAAANSUhEUgAAAGwAAAAVBAMAAABRZRb3AAAAMFBMVEX///+IiIgiIiIQEBB2dnbu\n",
       "7u5ERETMzMzc3NwyMjK6urpmZmaYmJiqqqpUVFQAAAB6qHgnAAAAAXRSTlMAQObYZgAAAAlwSFlz\n",
       "AAAOxAAADsQBlSsOGwAAAdBJREFUOMuFUs8rRFEU/oZ55s0v80pZkTGUsmIiZSELCxuMjbKRjVIW\n",
       "M3+AzJtI2WBhShJiMRtqFlNixNgo2UyUlWJrNZL8KGOcc999k2eGuXXuOe98fee8+50DlDkq/j1/\n",
       "wY0GuloOWwJcGvDA8Z0F8fYL53wSbiKYpVszwW2yBuCY43ULbdxw9watebYVsjqXLHDBEOb4dyYt\n",
       "tBPDnb7zbctg/AGOpMTcOR3wJJkJe9ZC6xC3feGNXS3ZY2RXl9jgSITubngy1NT6NEOKmC0v2Nyx\n",
       "0GuKqDVxi00gGAh0WWhuQ5Gk97OYUooY7qkNhoFDYEqkQhJyMgBX1vFSKv8Bolz0EliGKmRSeiRU\n",
       "lTXqql/CB8SRSiaxwtENUBOy74hH5CWtWnzWp09fS5rZZtI5Vj1KCmiGIonOnzSF5vtcQhsFfH7y\n",
       "e2Sr5yKlbf38STdZSwmNplfF47kmG4qL/jiSWA0v0r7cI8vbXBm5chdk8yKVQJ2k2elb5Zph/Vez\n",
       "eS7Ku5PiPeC5IzWQkxNw+KGEP0K4LaxZWWOFOLzhD5pAe1EjYCUi4zZUOKrfjOgtPnMzryrR3Bkz\n",
       "6INytmFqolegLZbNKpMVaNPl07H/WTYd3339Zt2Pp/w/AAAAAElFTkSuQmCC\n",
       "\" style=\"display:inline;vertical-align:middle;\" /></a><br>"
      ],
      "text/plain": [
       "<IPython.core.display.HTML object>"
      ]
     },
     "metadata": {},
     "output_type": "display_data"
    }
   ],
   "source": [
    "set_equiv_reflexivity = Forall(A, SetEquiv(A, A))"
   ]
  },
  {
   "cell_type": "code",
   "execution_count": 8,
   "metadata": {},
   "outputs": [
    {
     "data": {
      "text/html": [
       "<strong id=\"set_equiv_reflection\"><a class=\"ProveItLink\" href=\"proofs/set_equiv_reflection/thm_proof.ipynb\">set_equiv_reflection</a> (conjecture without proof):<br></strong> <a class=\"ProveItLink\" href=\"../__pv_it/theorems/976dab1b31891063d5129b6dddb24a69d330ddc30/theorem_expr.ipynb\"><img src=\"data:image/png;base64,iVBORw0KGgoAAAANSUhEUgAAALkAAAAXBAMAAACllfPxAAAAMFBMVEX///8AAAAAAAAAAAAAAAAA\n",
       "AAAAAAAAAAAAAAAAAAAAAAAAAAAAAAAAAAAAAAAAAAAv3aB7AAAAD3RSTlMAq1RmmUTNIjK7EInv\n",
       "3XZ/CtNrAAAACXBIWXMAAA7EAAAOxAGVKw4bAAACsUlEQVRIx61VTWgTQRT+kk2ym02NCZTgRbrg\n",
       "yZMBi+ChNsEfDBUMeCniTzyIGA+tZ7VZ8SQIlp5UxGxBerJQpbccrBVRkUpAD4JGgh5EEG1jjbFF\n",
       "45uZnbjZILFbB3bn5b1937z3fTMTwPNQu8RHsZ7xTqyR+1v8GD0xZmzxAO6f4VNokU+TCwa9q9ze\n",
       "2YzHT5uIJoG97PcpD+hTYtom0N9eei1LBZ4CvgaQBy6y7sY9oO8WU/o7e1OdUzFoKUHWLyC4DPRT\n",
       "ZxYQMTygz/F35FyDTT56EuZRIaRCLoVW6LGgEDshL7QLNceiNb4Iq7/5SIR8RFboMT0EvVCpPPOA\n",
       "HhCipvxfWy7dnnvGoW82aUmSYT9wgzstV7o7qX2wwoheQ1vtCF299TnBogq1dxYql1p/wkOXl0sZ\n",
       "kxlh+fEdU1pacWj2mm1vMEQJ6hKfK3yIPfNlFP6HjDySJmxFspy6mpCkjOhcG/r9P5oPAJ9k+zzp\n",
       "4570j47ab7IkKkkj/v1VIerwcyFJCsqiEz14pdrK6wUGneg6hX52oLNuBikSZFXmdnFf9YTIMjCd\n",
       "dKJHQ7FW3jz0F05mmDZv3OAa07mPFveXybiX5yDYx2OF9/2b4ESvBnLIXKeRpGOyPS1FCLOODtEz\n",
       "4uY9SudLqzOS2SE9z33DNqMD0Hud6EFTyGBrMpmybbbdVBYpuu/CEHmP5OWm9fFyhkp9lk1tIetA\n",
       "D5Tursg80kT9JvsvQy/WLWxtnmkH9xWX4okJTl5W+qIEagpqcdy5I6tQG5IZ0iTYkBmvuh64Cy2L\n",
       "GNxo6DNQV6C/dDATJIVr8qOChWnJDLuj/u2eo/4fQD94UpvHjtVSxnCgH4jhdt3uUBkpzU60csPd\n",
       "/ns6bl6/ww53Sda7Xdsdyx9eAzrGusQ/uB3JtaCva6j/AeM3myqmbBLrqLEAAAAASUVORK5CYII=\n",
       "\" style=\"display:inline;vertical-align:middle;\" /></a><br>"
      ],
      "text/plain": [
       "<IPython.core.display.HTML object>"
      ]
     },
     "metadata": {},
     "output_type": "display_data"
    }
   ],
   "source": [
    "set_equiv_reflection = Forall((A, B), SetEquiv(A, B), condition=Equals(A, B))"
   ]
  },
  {
   "cell_type": "code",
   "execution_count": 9,
   "metadata": {},
   "outputs": [
    {
     "data": {
      "text/html": [
       "<strong id=\"set_equiv_symmetry\"><a class=\"ProveItLink\" href=\"proofs/set_equiv_symmetry/thm_proof.ipynb\">set_equiv_symmetry</a> (conjecture without proof):<br></strong> <a class=\"ProveItLink\" href=\"../__pv_it/theorems/4b40dc81ef7f8eea01ff25cbd7e74196cbb715aa0/theorem_expr.ipynb\"><img src=\"data:image/png;base64,iVBORw0KGgoAAAANSUhEUgAAAPgAAAAWBAMAAAAfsUzKAAAAMFBMVEX///8AAAAAAAAAAAAAAAAA\n",
       "AAAAAAAAAAAAAAAAAAAAAAAAAAAAAAAAAAAAAAAAAAAv3aB7AAAAD3RSTlMAq1RmmUTNIjK7EInv\n",
       "3XZ/CtNrAAAACXBIWXMAAA7EAAAOxAGVKw4bAAADlklEQVRIx71VTWgTQRR++d9umjQFKQpKAoIg\n",
       "Ks2hFHqoTWkVSxGLXopUbRFRY8F4EcTaRPTiQRJEUESa9FLoQalePPTQWPGfShTFgkaiPagg/dHa\n",
       "WqvG92Z2YzI77fbkwOzMvnnf+38zAMsNF30iYM6zAlrxiKyABz7g9AaWYTgJ4MjJcSi+cynYfuA4\n",
       "H/2sl/NYh/CzCWddvrLyaIxI/WNkS0HfcZwTchyAc5ot6toX5APb25IzlVVXwRvkuG1EOyxXPkBQ\n",
       "Zv5jAMsP2rw79wY0i0lLnnSkZDgc1Vy551M9GmPhtPIEgD8GYY47S/FJyJU34bSTka4/GKZZsj8I\n",
       "Az5QQhqD3Y/Zs4VkOByN82yZALUL4DynRTFoB0JQAwxHdruXSGuaTGXRQq9taACzvyq2T6/BOyOU\n",
       "iycyHEo9zWJFYbIccbzmRw0IaMhBeYrhbOiZc4mUU8Q30M6CAXQ+JIHkff6+XtS5KTL7oAwH0Ov9\n",
       "ylYqgKlfbfzMj7M7As4gx41ls0/lyu0Ea9Uypa6L6XS1wADVJOSWDAcQsn77R9PrAounfxyd8HHc\n",
       "DoBrJeeFoZsHEO+brAoardsNcdJTS/udWRrPCzhwBJRFA0JZmHxPEm2dHHcCXKx41Ufs+MLscIvm\n",
       "o4diSm0CUxGw3mNOMRVZrdpDEKXdZkEDw2FYXDMgmAVerMHNaJs1zXFlKTfLh5tnyJYBb1prC6Kz\n",
       "/F7HORIT3fBebvZTn8QFOsPB5+bGBYPnZSjajXWoTHOcNcfrrf0ZWywhsE2LysmFBsNNdhOgIoNr\n",
       "h0y5iuy/DcorfLxtHGkN17mV0XNdHBmAG0Eh7ApVjr9NlIT97SEhW4TgMpwd51uD8jiKtnxHjzMa\n",
       "7naYxRC281tgoma1HiPytU/LlDIn5twR1G7QOjG2hNujXb6lOcfigTgWmy2h4XqYqHb4wo7rQV2l\n",
       "CdH7AZzoX0dY9KKH9Mzr3Vg0COeikCQND2I32vwgVdTFFlZJrcN+1muoOaoFWKHYXEQGeg0uiXIG\n",
       "82GwJudQyiuxnzKgJudSsDF/TDhZQw8UJcVDKgo4fHSizIhRvHv1uh4ntpjZu+vKiJRxMwicKcFh\n",
       "iioC6hC4foL6Uidq17/JsBuunxpT5U3FOPtdUHcdUkahdnG4pfDMlFHOrpgJOmXs5ohZsBISnLX0\n",
       "VyWeQTPlRuvUhAlE6tVe4b+XPV3LC/JK3Ow1Uf5RhgvCfx1/ATaa+Cg0tP60AAAAAElFTkSuQmCC\n",
       "\" style=\"display:inline;vertical-align:middle;\" /></a><br>"
      ],
      "text/plain": [
       "<IPython.core.display.HTML object>"
      ]
     },
     "metadata": {},
     "output_type": "display_data"
    }
   ],
   "source": [
    "set_equiv_symmetry = Forall((A, B), Equals(SetEquiv(B, A), SetEquiv(A, B)))"
   ]
  },
  {
   "cell_type": "code",
   "execution_count": 10,
   "metadata": {},
   "outputs": [
    {
     "data": {
      "text/html": [
       "<strong id=\"set_equiv_reversal\"><a class=\"ProveItLink\" href=\"proofs/set_equiv_reversal/thm_proof.ipynb\">set_equiv_reversal</a> (established theorem):<br></strong> <a class=\"ProveItLink\" href=\"../__pv_it/theorems/0ea7e075e49512267e6c7e4d20676484f13265f20/theorem_expr.ipynb\"><img src=\"data:image/png;base64,iVBORw0KGgoAAAANSUhEUgAAALoAAAAXBAMAAABOokjyAAAAMFBMVEX///+IiIgiIiIQEBB2dnbu\n",
       "7u5ERETMzMzc3NwyMjK6urpmZmaYmJiqqqpUVFQAAAB6qHgnAAAAAXRSTlMAQObYZgAAAAlwSFlz\n",
       "AAAOxAAADsQBlSsOGwAAAsdJREFUSMetVU1oE1EQ/tLuJptkG1e8VhuDUFAPtfhDhUgOOQjFNlYQ\n",
       "aqH0oLagkoDgSUykIHgxgVIRKTYo0otiwFDxB409CKFCgz0qmJOlFBILVq1S48zLbtgm0qVbH7zZ\n",
       "2TdvvjfzzbxdwPZQtmjfeOzcyHgT8GhAkfVPNsBbQoAa/VNaHBavg50FkpphnaTZCrxg/Y4N9H4W\n",
       "zUNAOcba7qt7oMfKR1dIuCO4xgwN2UB/xSJJwT7JkOLIob8IV0Y3essJyizDB0Aq2EDvYDFHcc8x\n",
       "HT6ai7H7Cd14vJcTOgQ1RynYoT3FskxzjCEljr9y1GgXrY0DngA6A4GDNtC9IZaHqZzttTW5ZsRn\n",
       "Cho9wDPgnFiK1Lk3+KwbbnZ3fd++a+IfxseI8+F54BYUUWn5iDBc+R2eFk3gNLaeihmaK5rtHtb1\n",
       "Jk7d8ROYz4lYAmLoPZNBkrV5QolIaV6R1oRB9cPRsQ69twCpi7AIZQbYoa82s5OTdko/GkJ3XHhZ\n",
       "5jaMU3m0alGnDoiHLwP1qxndc1nDxzNnAcp1iTrEjL6NIlSXG9BPksVPzwc0U2/Fknav6lVAX86M\n",
       "7nAXKVPvwgDBBSHvNzMTp52+Xw3o1PVNnP8HmifGBQieC0uydXYBZnTNm2JS8pSasvz+tVEEJ3d5\n",
       "GzVjPFXPu4ebnPN/R3NULE3pjM5AXjKje2JUBu95Ghe5JoPGbZTYa4zsXZH60EfZm+qNLDMtwsmG\n",
       "y2IbQSfTJnRvuGfFcKOaKAYPLiL2S6VUut1wz09XxtESXaUy7a2VmUDFKUH6cJg7UoNSawqqiaf2\n",
       "0m79A/Ab2iMqc0EOQVmBvM/EDHO4ZjCTjKDPYAaz1tc5ZyjHIL+56woi/y08XTChPy1iYDVd3aRO\n",
       "hrsv1XydCSv0G/WfJpPutPCVLT/bI3XvDzeBjusWdkd9crnNoG9pKP8B4y+uRKwphQbjIgAAAABJ\n",
       "RU5ErkJggg==\n",
       "\" style=\"display:inline;vertical-align:middle;\" /></a><br>"
      ],
      "text/plain": [
       "<IPython.core.display.HTML object>"
      ]
     },
     "metadata": {},
     "output_type": "display_data"
    }
   ],
   "source": [
    "set_equiv_reversal = Forall((A, B), SetEquiv(B, A), conditions=[SetEquiv(A, B)])"
   ]
  },
  {
   "cell_type": "code",
   "execution_count": 11,
   "metadata": {},
   "outputs": [
    {
     "data": {
      "text/html": [
       "<strong id=\"set_equiv_transitivity\"><a class=\"ProveItLink\" href=\"proofs/set_equiv_transitivity/thm_proof.ipynb\">set_equiv_transitivity</a> (conjecture without proof):<br></strong> <a class=\"ProveItLink\" href=\"../__pv_it/theorems/02b38bc8950c005be1c1b8d1f624fe6d3d72741b0/theorem_expr.ipynb\"><img src=\"data:image/png;base64,iVBORw0KGgoAAAANSUhEUgAAAPcAAAAXBAMAAAAl5sTiAAAAMFBMVEX///+IiIgiIiIQEBB2dnbu\n",
       "7u5ERETMzMzc3NwyMjK6urpmZmaYmJiqqqpUVFQAAAB6qHgnAAAAAXRSTlMAQObYZgAAAAlwSFlz\n",
       "AAAOxAAADsQBlSsOGwAAA0BJREFUSMe1Vl1IFFEU/kZ3dmdnd7YN0SSsxB4MoswoosLaaH0sh5Si\n",
       "9iXo5ylSkHqJQqvnVjApgsx+zJegxcxIQzffxJeBoBeDpB58MCxKMymrc+/dmbmM6RrsXph7v733\n",
       "zPnO/c65cxfIV9OyrLcgj22dCKFtqfX79Eww8C733EaMD8EvfFA/bqFeEUtqyfQnLaakgQH283bu\n",
       "yY+L4b0gL1gzQsFExFxRMYzeNDqAK0ybk7knfyWGoR98KIPaCVzi+GgldcMtGCNdTMBn5Z58G+99\n",
       "1+f4SMmN3NI3cdxOjHgIFJoIk/TBPKRcFFqrssBHVgAbvnXxePgMiRAk5u0VFTtyTx4S9ZYyfrlz\n",
       "Ju+T5aw/RlGQHC+AM9LaP/zYQP0PcrYtQLcCM96VumgGhEmcG9D4cVN38amLP+P9TRwpU/EGFpDf\n",
       "fq2+yfHgWLnmrK3vq60VqMAScWu/+c/eCta2Mlhlf10MKgu/6ZNygXA5FF4sOp3MU5DJ6yz4dpPT\n",
       "tGQlwMG7hIAHFvyi0FDIfZYMDn337ny/LXOATqERFfXWU82HSAphfjbf0Pq4TK43RzF+4jSvHseK\n",
       "A+P54xh8MHaSt5RErpLCX73kVXzXpJbO4mx7zSejneItC0dYvjQmxGWZXAlOIIXQZKLLtRKAqmLo\n",
       "wgCSpErAkmRn1bLRSz7MZPexAFjlHergrvFSFGPZ2CTfUrltbZNHQ21M8dFqyUoAUjzcHsUHicLP\n",
       "yuoJPfe8OU+yFVYZYfZpu8brrQdF3GwE6hTfUspDrjdRckNnqZ1zrQTIzO6VyNk50piujd7bix2+\n",
       "R6Z9GiO8Wvvin/lZI59Jlq9CFqAlkYfih2cdD7aVC6gxSYwMDpRDbZw38fbPTa/uifNT/I0C+z12\n",
       "4SR5EDXAUwYiFLrSIpFHoc05DmwrF1CbpqfUtqjM+im46iBKzypLjUGbhboZaIC6B1grya5Tuhds\n",
       "gYWVY56Zre+C4uxmbKVXD2m6D+rwnUANRmfi/SR2s4VE32pTIn82gcS87VpYueaZL+DggWK34rL9\n",
       "U1l0lRoOku45/9K3xzK+1WzX9KLoum2gmysh717OeWsW8lLvRNoGYayEPI28Ny1vnv8Cd3za2/MC\n",
       "DXcAAAAASUVORK5CYII=\n",
       "\" style=\"display:inline;vertical-align:middle;\" /></a><br>"
      ],
      "text/plain": [
       "<IPython.core.display.HTML object>"
      ]
     },
     "metadata": {},
     "output_type": "display_data"
    }
   ],
   "source": [
    "set_equiv_transitivity = Forall((A, B, C), SetEquiv(A, C), conditions=[SetEquiv(A, B), SetEquiv(B, C)])"
   ]
  },
  {
   "cell_type": "code",
   "execution_count": 12,
   "metadata": {},
   "outputs": [
    {
     "data": {
      "text/html": [
       "<strong id=\"set_equiv_is_bool\"><a class=\"ProveItLink\" href=\"proofs/set_equiv_is_bool/thm_proof.ipynb\">set_equiv_is_bool</a> (conjecture with conjecture-based proof):<br></strong> <a class=\"ProveItLink\" href=\"../__pv_it/theorems/3255a2dbdaefc59865f49333a7630cb4a3baffb70/theorem_expr.ipynb\"><img src=\"data:image/png;base64,iVBORw0KGgoAAAANSUhEUgAAALcAAAAWBAMAAABwABDnAAAAMFBMVEX///+IiIgiIiIQEBB2dnbu\n",
       "7u5ERETMzMzc3NwyMjK6urpmZmaYmJiqqqpUVFQAAAB6qHgnAAAAAXRSTlMAQObYZgAAAAlwSFlz\n",
       "AAAOxAAADsQBlSsOGwAAAvpJREFUOMutVU1IVFEU/mZ8b3TGmXHsh1pIygSViWHSDwXWLCTaZFML\n",
       "lzIF/dHCoUWboJGEQIg0xIoQM0rcFEmI0Q80uQjMhVO2CYKCwqjAmehPi7Jzz73v6VznvTYdOO/d\n",
       "n3O/e893v3ce4Gptyl2sxGWpq3ky0sk6nGICEW3N6mOz9R+Ba9R+IwZeOSx8oZzsKj/Nt7ViPbeD\n",
       "rX+mPxwBKrRFvkCko6UfnjRwX/QvF8Y2u6STheb45V0xGgPCcrooAWST8Md18LTRRlM9wGlBW6Iw\n",
       "eGlaumhmmcMKmH3AKTndSYTcHkJwaBF4MEOEjIP3NTKFwYuUk+3em4QkMXwpsE6OTdDQBG2wWZF9\n",
       "MFptg1O+RXEE6WR+B8pfKqfcIpV8AOIElV/65XSWvJsS6pUXeyFunzx8jgL9hFwfjW5yAB9WTqzg\n",
       "ddoetjjeArSspXeTlFPcpmX5knf0NijNu8ChvDXz1gvrWLeQiumzxd/LV/HsGPJE4QtU76whsCBR\n",
       "cx4lLEdzK0+d/NU4klRhtcqBIXRy0J2osA2S4xlgUuQzyd2uBRfqeUpSCdVRO24wh8Zvqd4qeOpU\n",
       "2Hbl8Bx/kF2kKB+FGT+okeI8iN7oGgWOxA0aydEGEXmfgxv5FSZt5XTwfUBZlQ5eRrkEP1PjOiee\n",
       "WHByJHx0w+KMXY95LNIn5ZfB/rROCynZW6eDpygs/JMaz7lblQdOBw6JkT09nDnuyS+jYvy9FXZA\n",
       "eUDINadzXkkqTAmmn3C3PA/8GWUlcmnnqxrEUp4ahfnJCmtS3i6WzOgn76Zdt8VttfozNnjMWEa5\n",
       "lgp9hVkcw41Z1iIhd6qPBCekN8/1INQ6q2lxam56+iIDrpeFaGpAiqj7MFdFePvtQkmYvEkD1QtL\n",
       "it6k9H8UdMV2YJf8/C07Y7du0u1nzBhKvsGssQZFSdLLUuHyVsge2gE7YD66UtyAsa+NI/Nl7Khy\n",
       "VzvrkJD+YYS0frNyV3PY3af/5wb03SPSXX+FDj/LlfpAGv/V/gJ0LLgQi4qingAAAABJRU5ErkJg\n",
       "gg==\n",
       "\" style=\"display:inline;vertical-align:middle;\" /></a><br>"
      ],
      "text/plain": [
       "<IPython.core.display.HTML object>"
      ]
     },
     "metadata": {},
     "output_type": "display_data"
    }
   ],
   "source": [
    "set_equiv_is_bool = Forall((A, B), in_bool(SetEquiv(A, B)))"
   ]
  },
  {
   "cell_type": "code",
   "execution_count": 13,
   "metadata": {},
   "outputs": [
    {
     "data": {
      "text/html": [
       "<strong id=\"set_not_equiv_reversal\"><a class=\"ProveItLink\" href=\"proofs/set_not_equiv_reversal/thm_proof.ipynb\">set_not_equiv_reversal</a> (conjecture with conjecture-based proof):<br></strong> <a class=\"ProveItLink\" href=\"../__pv_it/theorems/ef1f57f4989d7d88cb59878642c5c90d7ea0a6e00/theorem_expr.ipynb\"><img src=\"data:image/png;base64,iVBORw0KGgoAAAANSUhEUgAAALoAAAAZBAMAAAB0qCmCAAAAMFBMVEX///+IiIgiIiIQEBB2dnbu\n",
       "7u5ERETMzMzc3NwyMjK6urpmZmaYmJiqqqpUVFQAAAB6qHgnAAAAAXRSTlMAQObYZgAAAAlwSFlz\n",
       "AAAOxAAADsQBlSsOGwAAAwBJREFUSMetVG1IU1EYfqa7u/Nurhv9Cizl/kioILMvCix/DAkkXUZB\n",
       "BCJIM4jYIOhXtYUQ9KcJYkRYDiIkKBok9iW1JARRcOjPgvarDwWXkJVJ2fue++GdS4PbDpxz3r3v\n",
       "znPf93mfcwDHw/uf8bXHprWC1wBFBbJsv3MAXl4P+CO/Zz93LPviltVHswJ4zvZNB+gneSltA3JR\n",
       "i4su69NLtJSFcJm9bQ7Qh3hJUPWPUmzdX1DhiapG0JejMvwp/gDcGQfoNbxMUN4TDClvv9SefCuZ\n",
       "aR5u5oL2wJ+mEpzQLljI0exmtgNxKFsOTCYNitRKTrgXqNW03Q7QffW87gVaq9lwMc+HbptBvKek\n",
       "0QQ8AU47QC/j4/K39Zt77So0xkPE+OOjwHV4sw7QS7h01w9gKm26pq1gCgnGnAI8IbfOVmhF6aYh\n",
       "/RW9lA95qLXu74ZHsZTnOvsixz9i1B5Vb6q0T2wXFoODQsAe87/HdD0/JSIiA40ddvR1lKF/TuSi\n",
       "aTs0TdNZOEqRKtrv0ux6LVzuX2LzV8FVk4fenEGgVpVTxMAwsMHOTIx8gZ+G542NGJQwxiTNIz3C\n",
       "1b9TbIEU/F/s6Mp5FUPHN45cpD7NkLoNt4dVXklijJkXtMoEV1jkjDFCs1MvR72jV5xBS9qO7irL\n",
       "Ig2pfZHsOkjbDbebT3UT1H6jX26ru518mvqNAc42qgv2mQglKsY+wo6u+kRyvHjnxl+aj4pMqX5Y\n",
       "mp29od9zn7ZLM3g/sdSD8sgClbrV4qrfYHQY0owdXYmKNghdUU9aU+aB6hUimi584C2uMBDMiRIJ\n",
       "OpG0ofuCTfNoCEfCYZV74jV7iLF8KLnwJfRZXNFNToii6+jRsytShZcF/cnoiWKqG554HpQnWoB+\n",
       "1bIekEQzUj2885C22Zjh/pNUFfGqJEJosZiR8pOVCy/cGauIg5Be3ZLrMPo1OJixoT/O4tRCsqE9\n",
       "TMz4+4KN55YPX/nHW+GKr3xW7aXaA+Mowri3GnpXMdDTq6ArGRR5eIuA8Qd4TrVQzZi6vQAAAABJ\n",
       "RU5ErkJggg==\n",
       "\" style=\"display:inline;vertical-align:middle;\" /></a><br>"
      ],
      "text/plain": [
       "<IPython.core.display.HTML object>"
      ]
     },
     "metadata": {},
     "output_type": "display_data"
    }
   ],
   "source": [
    "set_not_equiv_reversal = Forall((A, B), SetNotEquiv(B, A), conditions=[SetNotEquiv(A, B)])"
   ]
  },
  {
   "cell_type": "code",
   "execution_count": 14,
   "metadata": {},
   "outputs": [
    {
     "data": {
      "text/html": [
       "<strong id=\"set_not_equiv_is_bool\"><a class=\"ProveItLink\" href=\"proofs/set_not_equiv_is_bool/thm_proof.ipynb\">set_not_equiv_is_bool</a> (conjecture with conjecture-based proof):<br></strong> <a class=\"ProveItLink\" href=\"../__pv_it/theorems/13467abbe8edad748b8383e3ed583af7320279cb0/theorem_expr.ipynb\"><img src=\"data:image/png;base64,iVBORw0KGgoAAAANSUhEUgAAALcAAAAWBAMAAABwABDnAAAAMFBMVEX///+IiIgiIiIQEBB2dnbu\n",
       "7u5ERETMzMzc3NwyMjK6urpmZmaYmJiqqqpUVFQAAAB6qHgnAAAAAXRSTlMAQObYZgAAAAlwSFlz\n",
       "AAAOxAAADsQBlSsOGwAAAxlJREFUOMutVUtIVGEU/ma8dxzHO+PYA1pIyhUKk8KkBwnWLCRalN1a\n",
       "uJSpKI0WDi5cNpIQCJEjgxEhaQ9zkzSIGD2gqUVhLpw0giDIRdgLHIseWtR0/se9M955rDpwuOc/\n",
       "//m//5zzf/f/gYLSLbWAuAssLSiOhFCS3nwxHr9tTfXplfpPwDWy55njTZ6FL6WSDGXlqnX8XfzY\n",
       "BlTYFrk8/t7WYTjiwH02vpwbW40IJfGm0m6ziKIgkAyhxLCDx5VumhoAzrJUgrnBS+NCmZnkPfQM\n",
       "9QNtDjHdRw25E4MWywLXEtSQafB9lURu8CKpJAcOh9in89mrBm+sRfhmyDVDG+yUzT6u11jgVG+R\n",
       "AY0yK8nT8tdSqTZ/JU/gA3D9xNgWMZ0kjVJBg+Jg+w0rc9+FAKEScr2u78gDPiGVuoK3vD2MGdEV\n",
       "WeguoHUzfZvFSRhWW9aveUdfhVpzFzjJnUYW+CDMtMYQDphciUij+Ef5Rj47hVWkcHlq9tUSmEaB\n",
       "F+HmdFR386mu302TIRm2VSoQQ9+8dPqGTUIvA3Osnjk+jGQcqOM5UcVbR7ah8HDlj2BvFRx1MqxB\n",
       "KhxnHiRNRt2yQChM+UlGmNdB7dU3SXAEb5JniTbwi/Mc3S4SI24t2cGPAGVVzBjX9a+6vo3PllEt\n",
       "2hcybvDCgxmZI+iiE2Y5Rh5zn/+qoF8CR+P2thCTnbIczew9whTm+0XGLB9WrQKnhL3Mc2iAV457\n",
       "4s+omH5vhh2T6mF0leU4reOuJBaGWaef8mH5KvAXlAarpYcf1SjW8qknUD+bYc1Se9iSZeE7aIFH\n",
       "adc9hsXWkoQFHlDWUa2lrEYfJ8dEU5JzkZD7TD50Cm1JDcDbscJix6vZufGeL6QWFy9xQPFPqQsj\n",
       "gkTRU/xWhHPYuigJk2/SSPeFSUVnSGiGWETMuCRltz37xe9vyjnLuk2nn1ADcH+HWms62ZVku5a6\n",
       "cl9vueShFbAX6qMrxY2Y+tY0mb7G2qWmpS0b5HyeF8p+1Xpt4xapaQllo7TnBnfZ37kR++5+oQWf\n",
       "wjyP5Qa7I47/Kv8AclHAv5jqb5QAAAAASUVORK5CYII=\n",
       "\" style=\"display:inline;vertical-align:middle;\" /></a><br>"
      ],
      "text/plain": [
       "<IPython.core.display.HTML object>"
      ]
     },
     "metadata": {},
     "output_type": "display_data"
    }
   ],
   "source": [
    "set_not_equiv_is_bool = Forall((A, B), in_bool(SetNotEquiv(A, B)))"
   ]
  },
  {
   "cell_type": "markdown",
   "metadata": {},
   "source": [
    "### Folding and unfolding the definition of $\\ncong$"
   ]
  },
  {
   "cell_type": "code",
   "execution_count": 15,
   "metadata": {},
   "outputs": [
    {
     "data": {
      "text/html": [
       "<strong id=\"unfold_set_not_equiv\"><a class=\"ProveItLink\" href=\"proofs/unfold_set_not_equiv/thm_proof.ipynb\">unfold_set_not_equiv</a> (established theorem):<br></strong> <a class=\"ProveItLink\" href=\"../__pv_it/theorems/c12497feffe4f47ad0c7d06a7398bc84782727520/theorem_expr.ipynb\"><img src=\"data:image/png;base64,iVBORw0KGgoAAAANSUhEUgAAANcAAAAZBAMAAABQsaZCAAAAMFBMVEX///+IiIgiIiIQEBB2dnbu\n",
       "7u5ERETMzMzc3NwyMjK6urpmZmaYmJiqqqpUVFQAAAB6qHgnAAAAAXRSTlMAQObYZgAAAAlwSFlz\n",
       "AAAOxAAADsQBlSsOGwAAAzZJREFUSMe1VU1IVFEU/kZ98/PmpxdBFBTZFLSoYJKokAwXgxtJB6NA\n",
       "AlGkqY3MUNBKSqt1ziIjInIqwk3QQGJ/YpMLIRR6iwiCoKFNiaAWmpmpnXvuG70zMkxP9ML37u+7\n",
       "37nfOfdcYK2lQ2m7/2NtB9ZeHKbS2SkpE4UWP7CQEZ3P9sk+KG1/NVeeKa6aKoQdBreHlyYmbsfh\n",
       "SIPxSozdsc2lqadolNUXSba7fW/2EMARIDALdINxRZy/2TaZN610BmQ1+Jv1TaMxA1dKKvsD0OeB\n",
       "ETA8EaDMtE1WqnZC/C27MSuqAGEs/lDGg4+GfERYGmH4yESPfZd9Ul0mJe10LDCnON1SpZwKkLKe\n",
       "Y4S0REUweNg+WZ8qqYyPlP/vikuzAjRD+xonCzISz4Fz9snuKW0P+083XdOrll1t2TwmZn0JiZtw\n",
       "Z+yTHaQDBUWhQChhl3vhXuSah4Nyz10d8B8XSocknJGyJE9E8uItX5KcUpnNHbRpKf+/9fXgr1XL\n",
       "Wgn1JKNrSsJvyPjQjnJ1eT7cHxcNZ/aHU9zFC1oe66s9X4BMo1v8cxWZOOt7mtFDEki8lZG7IIO1\n",
       "HI5QDlm9iUCF4UqR9kPAlmUZl8lYRiHEnnwulwiZSbLFXy6Bk9080XtIBmsKvimVTL9kYOD09uF2\n",
       "irlxslOOtmTJyGdOkZqeEHryfeaga+6aE0dolsB16UvjvgxWEw1plczhySANrZXyAKqgHZCjdYr9\n",
       "IqbdQo1Yfmb30Oijbut28A0JsE8ceMnzXTtGvkElM7x8ZxOcfEYHpQNxURWrHFpsLoKPS7dyuQKx\n",
       "xYmxNtEqSUpYpdfyxhC0cZVMj7MLOWLJn00y56Ekrmy6r+hNuWYhmxLCkxz7xNSVVMi84boZ1ERj\n",
       "0agh/On+I4d9KWWrkaJkAyvpmlVEFxtbBTxVQ9+AW+TX75Y/9VnrhwvKVs5ir7B4VpSnhYJpk6lV\n",
       "wz0Dbb8io07BQndC5/TXFUFD9kRn1Met2BMlrFmxyHsC2pu7riq8mw73mwrZswzOziVrWqMko68n\n",
       "XNu2bKyhbNZZhGybhZziV61RJ0ax/uVxIbLEBpClC5DpJja2uNd/y39i6crgqPQp9AAAAABJRU5E\n",
       "rkJggg==\n",
       "\" style=\"display:inline;vertical-align:middle;\" /></a><br>"
      ],
      "text/plain": [
       "<IPython.core.display.HTML object>"
      ]
     },
     "metadata": {},
     "output_type": "display_data"
    }
   ],
   "source": [
    "# Proven\n",
    "unfold_set_not_equiv = Forall((A, B), Not(SetEquiv(A, B)), conditions=[SetNotEquiv(A, B)])"
   ]
  },
  {
   "cell_type": "code",
   "execution_count": 16,
   "metadata": {},
   "outputs": [
    {
     "data": {
      "text/html": [
       "<strong id=\"fold_set_not_equiv\"><a class=\"ProveItLink\" href=\"proofs/fold_set_not_equiv/thm_proof.ipynb\">fold_set_not_equiv</a> (established theorem):<br></strong> <a class=\"ProveItLink\" href=\"../__pv_it/theorems/c9a27d8f2b285a52c5301c089f99eefb214b82bb0/theorem_expr.ipynb\"><img src=\"data:image/png;base64,iVBORw0KGgoAAAANSUhEUgAAANEAAAAXBAMAAABnpbd1AAAAMFBMVEX///+IiIgiIiIQEBB2dnbu\n",
       "7u5ERETMzMzc3NwyMjK6urpmZmaYmJiqqqpUVFQAAAB6qHgnAAAAAXRSTlMAQObYZgAAAAlwSFlz\n",
       "AAAOxAAADsQBlSsOGwAAAz9JREFUSMetVktoE0EY/tJmk02yaVME8eAjpIeCilQRpUKlh+ilVpcK\n",
       "ghZKQE28SIJCj7ZVL15MpSoiYquovSguWio+qLEXqRUMCEWoYE5WKfRFH1Zt6z8zmWSzTSiSDuzO\n",
       "P6//++f7v5ldYE2Kusp4G9aqbBJ4HYXG79GTYsbXIoG8dbxyTa7YpRZdGv8ZgS0BvGLtW0UiHRfV\n",
       "NxPSlXRdGgImYrgBXGD4oSKR3oiq/xev3F3XgIhN9MV9wFMDQ7RjHbAni0Sq5m/75Xlen3s/vM9r\n",
       "HBNDn2L0+FCqQyMGXcWmSSih3bbI6x/A/ZNPtoqxCXo62+AimF2BwO4ikTxCEIb3L699zPlCmqc9\n",
       "QHMV7ZeU9wI4zft0y3Jz4wt7KRYAnzRYwJSepHMmozypd+dcxeY7TIPUcRUqV7qylw+1/An2xZjh\n",
       "MPnUutn7aEy2ndHe+kg2lpKkCE1dkj1l3WnDRiL5TIF4KZUO3c677YJkzQ9btRWpmb+PJGGvIae0\n",
       "cABYB3edVDJ3sP51/5xc8EgaDvJlJ6E46QB4fUIQPTtFNAa0SSsSP3Tu8z6MnDgFEMAYCQrskGSR\n",
       "FCJzmjefBQLTgcAObpcTX9oULWbRd7wTrN8Vq5JoTFiR/JwIVwoGPKNN5LcWynagwcwe47JSsi13\n",
       "i1byVfab9sNcNPDQbHgpTtrGoVFYkER+fZ4ORtwg7V2d+thPSRuRFDFtPKanS0Jnlm6hu7WVlmvs\n",
       "crjEBdFDxLMyAGXMhHQwHA773WyaO0b566NmOMGS2Wxks8EkrDJ6ouk7+1AGqZMW1ujpg1DGJdUb\n",
       "nOAyJ5h4d+6eUl4Wiyd4eDYjLQMqUdIipeiHEl3QMbx8neepks6oyNP35fHxm4zbEilGIg9xjlhL\n",
       "15RF5SlniJ8edV72UDLd81n2UJV70DIaz5aLGYtYLk8qdVBnoWyz5MlginBTihYle3EdjcRehZwx\n",
       "lOu2peAdTNTsh/L2trMWgzPBvqRVETgDPE+haSEdq9YVrD8rutOSyP2mRlZ+k61fC6/JNiM9yHvd\n",
       "KaGVFi+xFVMd1s/7wwJInrz/Aabe9lXu4A3WjkQBJBzIt/zDGv2E5PzuKPlm6P/l7x9JiMh+qrbY\n",
       "1gAAAABJRU5ErkJggg==\n",
       "\" style=\"display:inline;vertical-align:middle;\" /></a><br>"
      ],
      "text/plain": [
       "<IPython.core.display.HTML object>"
      ]
     },
     "metadata": {},
     "output_type": "display_data"
    }
   ],
   "source": [
    "# Proven\n",
    "fold_set_not_equiv = Forall((A, B), SetNotEquiv(A, B), conditions=[Not(SetEquiv(A, B))])"
   ]
  },
  {
   "cell_type": "markdown",
   "metadata": {},
   "source": [
    "### Substitution With An Equivalent Set"
   ]
  },
  {
   "cell_type": "code",
   "execution_count": 17,
   "metadata": {},
   "outputs": [],
   "source": [
    "# Not clear what to do here — ambiguous what the resulting forms of\n",
    "# fof_a and fof_b are — could be sets, could be something else …\n",
    "# substitution = Forall((f, A, B), SetEquiv(fof_a, fof_b), conditions=SetEquiv(x, y))"
   ]
  },
  {
   "cell_type": "code",
   "execution_count": 18,
   "metadata": {},
   "outputs": [
    {
     "data": {
      "text/html": [
       "<strong id=\"sub_left_side_into\"><a class=\"ProveItLink\" href=\"proofs/sub_left_side_into/thm_proof.ipynb\">sub_left_side_into</a> (conjecture without proof):<br></strong> <a class=\"ProveItLink\" href=\"../__pv_it/theorems/cf723c0e8f48362cbb3016ff9cf43dd8c0fb95b70/theorem_expr.ipynb\"><img src=\"data:image/png;base64,iVBORw0KGgoAAAANSUhEUgAAANoAAAAXBAMAAACfRUyCAAAAMFBMVEX///+IiIgiIiIQEBB2dnbu\n",
       "7u5ERETMzMzc3NwyMjK6urpmZmaYmJiqqqpUVFQAAAB6qHgnAAAAAXRSTlMAQObYZgAAAAlwSFlz\n",
       "AAAOxAAADsQBlSsOGwAAA0JJREFUSMe1Vl1IFFEU/lZ33HFm1kYCnxQXX4L+0EgiyJBYIZB0sxBK\n",
       "EB/6EfrZBaHH3DCCXlxfhKjIgaxeihZa7BfbCgIzaCmCoKB9iAwEf2BNTcTOvXdm9k64L7FeuHPP\n",
       "nfud++093zl3Ftjgpq5jbVyrEcNVQDOBLLO/FZujau38zxsRMoLN4sUI9WrgGbOvFf1Iy0BZI43H\n",
       "xDS4Ro/yCC6yiPYUmywwTwzU8ULM9dk4YCQZIfyZYrP5FqnnyKgX84PtMXo2wkjTEYseyLI56sQY\n",
       "HBLpaNayA90EdtXV7S462ybSpp9yUBdJouM7HQptwGPgpAcZ8TrqntkXJ1TOC2VdNmK6vIMlRppP\n",
       "H6Cf0U4Ag1CpCrRoavyXcN/Dhwsr4bEYD4rwv7vSOhOHYSEQTbWeBpL2vkdiLoXrAtT+CL9jY4nI\n",
       "iCQSrNI+0W4Rv0XWa+AAX/Gv8sEIwVcvsdHcH0K3QG4GRm2K9gz8e2nPtOQCRO3VUosH4szzWZb2\n",
       "/SSkyZNkmn4QB9xr4ENFEsacxEZz3xyvTkJ+4MXDmtZn4uvxE0Cz5MLLTWI7TEKGaLxNfegVe9ME\n",
       "7OQA85bAZdCRlthoXpJFiCOV7W7V+MqzFCd9qsuSXBDI2WwikhT1Enboj9QPDbMcXcBgUsj/lOMS\n",
       "1ZNTkNgSEXUaKiW0Ov9+nNQJCuFMfYgFcaJBdoHvj1MJJjs/KzJ26LfUB5iARkPlZxFIJgpXR5mW\n",
       "2d5U1kSg9XB1uolJ4/ePFiOl9FPUzkouYm+eBGzvAbbLEj1STBGWRxVZez0Vno3YOiYsiW2GX3dZ\n",
       "ro5KPz3A2fRw24Kbk66LHv1t2jcYhb5zbRjB6DIJu9VBlqbdOkrEbB0fyhWwjzv3cHW0RSeSJtRF\n",
       "l811kdoW+VMXcqwE3Zo4Ctyn9MkozUxHZZsUSXWJDyEmIDqIyWcSiimy6kQy7yK1SfmeSDtXQ7SF\n",
       "nn0ZfT+Ul9cDTZjIhccyEltVjse3F8ZIuPUcex0n1KMsupYte4+8i3xhxvP2lX/WHHBQxsuAUdfq\n",
       "9KIKNUX6mPV6lzTnirxTiE13f+oTL6pgu5T/CsW9K4ZjpAuxocWBWl5U8f80yVe+8l97/QVL3dV+\n",
       "Tq8XSAAAAABJRU5ErkJggg==\n",
       "\" style=\"display:inline;vertical-align:middle;\" /></a><br>"
      ],
      "text/plain": [
       "<IPython.core.display.HTML object>"
      ]
     },
     "metadata": {},
     "output_type": "display_data"
    }
   ],
   "source": [
    "sub_left_side_into = Forall((P, A, B), PofA, conditions=[PofB, SetEquiv(A, B)])"
   ]
  },
  {
   "cell_type": "code",
   "execution_count": 19,
   "metadata": {},
   "outputs": [
    {
     "data": {
      "text/html": [
       "<strong id=\"sub_right_side_into\"><a class=\"ProveItLink\" href=\"proofs/sub_right_side_into/thm_proof.ipynb\">sub_right_side_into</a> (conjecture without proof):<br></strong> <a class=\"ProveItLink\" href=\"../__pv_it/theorems/9657f9d0ae3922414aecf6ec2de378f349a0aa910/theorem_expr.ipynb\"><img src=\"data:image/png;base64,iVBORw0KGgoAAAANSUhEUgAAANkAAAAXBAMAAAB0cveBAAAAMFBMVEX///+IiIgiIiIQEBB2dnbu\n",
       "7u5ERETMzMzc3NwyMjK6urpmZmaYmJiqqqpUVFQAAAB6qHgnAAAAAXRSTlMAQObYZgAAAAlwSFlz\n",
       "AAAOxAAADsQBlSsOGwAAAyxJREFUSMe1VktoE0EY/tJk002ySVME8eAj9OLBB62IolgJNT1VZSnS\n",
       "Y0kRtR4kQdGjDXpvAqUiojaC1ovQHNKoRWqsJ6nQgAoKgjn5oJC2UNvSYus/szPJbGoLQjowmf+b\n",
       "/fb/dv7HboAtHol/WFs2HIWy+YhmkRlfa60RWyhdHmXWR5pGbLX06xIceWCM7d2t9ZEaUsB5E9BS\n",
       "DDmjwEwcg8BNQnq01mp9QeAbTV+eoSRZIxlMAh56Aleh1mp74jTDdCqOpghNBeE0YZC6p+bFEWOT\n",
       "NL5wNENzIAEPSR1qajpcc7UFoH6O1ixHR4DuvRRCqsjnwAUb07Tf6LOhzxbDsRHbGqSkt7H03Odo\n",
       "oXE3MwwqmX7opOmNZcd/cqZ2lC83ViK5ODPcloPhlY5SAkZaMDLCr2Bzp7FsxyXRAauR04yJAxwt\n",
       "AR8oiv5m8ma62IUJoI0zXX/4YoTgaFbUCLtC6JaMx0KC2ace0GXLxTZr1z0rLh/niPy4FulxaNcf\n",
       "5EUyTUXECU9b+BLIwJhV1Ag7Zq3uZAyPiCDZ/tHhMFyWi6lKu1XUGih2BmXRy54+9YZttQIHOSH4\n",
       "kC/OAjrzihrhuiJCkiGbhmxK7Pj1Me5C2y/aLSzUeCT7yE9gmc7F7j4zyBr8N/p5Lhx4yXnJnZM/\n",
       "oKglTX0aekoy/FbimE1BNAaof/W59+Nx0W5podbDEb2P++hOg71EbrNXpdHS+MkKjYj9BLRpVe1t\n",
       "4y4T3qhkeKMVdu4ijTzLbLconiFZOWfZzwDRj1HkfezEAfZAgaK4no3MmCKPybSiVmI//qJk1Edt\n",
       "bJFZfZlbubUesXeV5ve1UukOC3ydPDGceVG7JBIXeRxRO+AEL/KoZPgzNrbIrHexqvHq4gq4VbaS\n",
       "7Ft3DnhGJVTQwiyP2j4lkvoSX0KCAUewzJaRTJrozFSpGerGq8oHqZ1+rxV8J6G9vlffinfzkVxB\n",
       "Uds+zyPWC4sBd6LMlo6HIh1X1r1Veivmui+N/Bb4lT23SpBNjS6FvdnoUhxV/VXwyow/2UjNJ+94\n",
       "obA3G3qwbO6ojrI08hupoV0w0wq7lkO3Ic22/O/4C9AY1PQ9ed2dAAAAAElFTkSuQmCC\n",
       "\" style=\"display:inline;vertical-align:middle;\" /></a><br>"
      ],
      "text/plain": [
       "<IPython.core.display.HTML object>"
      ]
     },
     "metadata": {},
     "output_type": "display_data"
    }
   ],
   "source": [
    "sub_right_side_into = Forall((P, A, B), PofB, conditions=[PofA, SetEquiv(A, B)])"
   ]
  },
  {
   "cell_type": "markdown",
   "metadata": {},
   "source": [
    "### Contradictions\n",
    "**If two sets are both equivalent and not equivalent, there is a contradiction:**"
   ]
  },
  {
   "cell_type": "code",
   "execution_count": 20,
   "metadata": {},
   "outputs": [
    {
     "data": {
      "text/html": [
       "<strong id=\"set_not_equiv_contradiction\"><a class=\"ProveItLink\" href=\"proofs/set_not_equiv_contradiction/thm_proof.ipynb\">set_not_equiv_contradiction</a> (established theorem):<br></strong> <a class=\"ProveItLink\" href=\"../__pv_it/theorems/80dd9758a7cde0965253f54a74e7953b94bf25150/theorem_expr.ipynb\"><img src=\"data:image/png;base64,iVBORw0KGgoAAAANSUhEUgAAAKYAAAAYBAMAAACCZptBAAAAMFBMVEX///+IiIgiIiIQEBB2dnbu\n",
       "7u5ERETMzMzc3NwyMjK6urpmZmaYmJiqqqpUVFQAAAB6qHgnAAAAAXRSTlMAQObYZgAAAAlwSFlz\n",
       "AAAOxAAADsQBlSsOGwAAAgJJREFUOMu1lTtII1EUhv+wuWacidkBqwULmVZZfIFYRFIMNrJrUGwU\n",
       "RHCNjWJgYSuxsTdpBLHQNIvNwg674gvRaCGIgmOtRToFC3dBERXBM3dmMnd8RhkP5J6bf06+y3nM\n",
       "DfAOVrCWo8Bwv6xl1VqmA2MeWMs4faT+YJnlSSBsBsuM5omLYJlo0LSmoJlLwGDQzElIhaCZZclw\n",
       "jm+S/qeKu2GP/pg9x6xQ7RaxZu5+3OiLaX6WG9aVdneR0YX2Ib+67FcdJrKb3IVvuYtWI1TnY3aY\n",
       "CLfQtNGAbAGVnhprUCOGX3WZX6a4m6/nLmYg+k9kyt9VHPZ8AxLAKbDvqWvdn7bHfGqROWG3SJ3l\n",
       "7oOJzrzIDJUXYEA57qWqx8FqPTUPNnADUS0yY7wyIazwb5mq3WOITFXJWmnvUBrS/731tKdadYOo\n",
       "/tG0Rk37XGzYvFOTLbBTkSmnqbxKimzYqnWf4anUg5zdAUe9bwv6GR8mAmZyAlPRv164MVRr6dpT\n",
       "21KjqZQqqPcsRCieQBz4Lc6SCunSDaJay5eieuJXH96lH02WgHQBViPkLlMpb93cM0l0GqAoW4Wc\n",
       "4B3g6kNTWsE2ZiJx7Jzri6bA/FtA75X9niE6p7eP0IzHHbVtgE5SHfVJqxD2ZS9H7ZVyA/wsiVmM\n",
       "ypbCzJfEdKPkV/89SG++7+4AHxqSQnUtZKcAAAAASUVORK5CYII=\n",
       "\" style=\"display:inline;vertical-align:middle;\" /></a><br>"
      ],
      "text/plain": [
       "<IPython.core.display.HTML object>"
      ]
     },
     "metadata": {},
     "output_type": "display_data"
    }
   ],
   "source": [
    "# Proven\n",
    "set_not_equiv_contradiction = Forall((A, B), FALSE, conditions=[SetEquiv(A, B), SetNotEquiv(A, B)]) "
   ]
  },
  {
   "cell_type": "markdown",
   "metadata": {},
   "source": [
    "### Misc Related Theorems"
   ]
  },
  {
   "cell_type": "code",
   "execution_count": 21,
   "metadata": {},
   "outputs": [
    {
     "data": {
      "text/html": [
       "<strong id=\"union_with_elem_redundancy\"><a class=\"ProveItLink\" href=\"proofs/union_with_elem_redundancy/thm_proof.ipynb\">union_with_elem_redundancy</a> (conjecture without proof):<br></strong> <a class=\"ProveItLink\" href=\"../__pv_it/theorems/614c43b6f206d9884816429a227916cfbfe930690/theorem_expr.ipynb\"><img src=\"data:image/png;base64,iVBORw0KGgoAAAANSUhEUgAAAPAAAAAXBAMAAADHOt+bAAAAMFBMVEX///+IiIgiIiIQEBB2dnbu\n",
       "7u5ERETMzMzc3NwyMjK6urpmZmaYmJiqqqpUVFQAAAB6qHgnAAAAAXRSTlMAQObYZgAAAAlwSFlz\n",
       "AAAOxAAADsQBlSsOGwAAA1dJREFUSMe1Vl1IFFEUPubOzu7O7LpL2J9SJj4FwSL5Ij1oST8PyQZh\n",
       "hBT6oIhUbElPhU4YvgQmgVGhIGU9BKHRkpZRaw+BvTT9PBQGbgSSROGLFaFu99x77s7u7Ky1ghfO\n",
       "nTP33O9+595zz5kBWEUzSLKbco8Uzwfsci3ggVW1AlOIQ9t8R2qdLQC+YI4V0JBA5VNexO9JYDpW\n",
       "8yrD4l+w9NNMSoV6ohLdJC84iBme4Mv1fHiVPiHgDkLDPHs24Wgjdq4ya9oeJt4IV7dfqADaIoGY\n",
       "oROPvCkfYi0uBCYAdHSAs/U6EeujPDRxOJYAlesEYgZ0ymXmQ1xIAr8oirmJoQq7AJO56C1xHQlU\n",
       "BTrz3ZtXiD+S+BYB1OjKxAN8FHedrBbXikDMUFlevisv4hiJktwvBmzEh7cerTOJuN66GfQgEDOM\n",
       "AbRkx3EF4gG5k9fJZSOTWMOQjxZ81tjQehyYykITaAoRnoQ1PhyaxNNzZ2VebelGUneSgLIhGc4k\n",
       "7mZx0w19IcCeV/DivOPulPMmWAjEDO6Ia8hKxCB0gY34zGw7wBtQ5+m9mgSX/JNB3HuTdarYNyhz\n",
       "jLnLKSsQ1IVc3owbG7ARa2PYh2UeWsRsV8pSihjTUn3E87aQlwoXenHbzipBaOibZF1ovASPvigu\n",
       "6qggLii5OE7VZ9GqznTUCnPEwytVG3aTHMadGzEU5sAMOvHWXnwkCA2H+hmFMes1+a0/CRbxpkDT\n",
       "oCKKy7afcQluFuJnG9VqcOAu1qB+easbhr7wBNqLAy9tMU6B0NDNRnRoVvmqx58nLOK4Oxj1CUJl\n",
       "elkS1wvRKmS2+AdBeRGVxDPnHsJ9mccxe3wlCA0BjvnNDRHwzafFuMgA/Vpr6ynMwhEJPitE8337\n",
       "QRXv0tUbxSCJG0P+p6Yk3mEnlqCUQQ1jbH0m1W0i7gBD5afJttAjp66LCnFo9srlKcv1QZaGblef\n",
       "BkdAS0DASBF7wgdhVFSXZwBfJQgrv6j+/yTW4it8aISypbYYOkztfOxA2uV6MByKQA9ubmyizvrl\n",
       "aJM3OfsXIWzpjyHtlOzNZrA+Uml5rOxrbc+c1kDicIJLFmx3TveyDL6IE7HD8kEhDu3ydzmnHv+P\n",
       "jFw/T5kGHf6PeC2bZ80Z/gK+XNZ/0KVGegAAAABJRU5ErkJggg==\n",
       "\" style=\"display:inline;vertical-align:middle;\" /></a><br>"
      ],
      "text/plain": [
       "<IPython.core.display.HTML object>"
      ]
     },
     "metadata": {},
     "output_type": "display_data"
    }
   ],
   "source": [
    "union_with_elem_redundancy = Forall((x, S), SetEquiv(Union(S, Set(x)), S), conditions=[InSet(x, S)])"
   ]
  },
  {
   "cell_type": "code",
   "execution_count": 22,
   "metadata": {},
   "outputs": [
    {
     "data": {
      "text/html": [
       "<strong id=\"union_with_subset_redundancy\"><a class=\"ProveItLink\" href=\"proofs/union_with_subset_redundancy/thm_proof.ipynb\">union_with_subset_redundancy</a> (conjecture without proof):<br></strong> <a class=\"ProveItLink\" href=\"../__pv_it/theorems/4a81748c99663101d5b2217b324ca088eaa70e380/theorem_expr.ipynb\"><img src=\"data:image/png;base64,iVBORw0KGgoAAAANSUhEUgAAAOYAAAAXBAMAAADtii40AAAAMFBMVEX///+IiIgiIiIQEBB2dnbu\n",
       "7u5ERETMzMzc3NwyMjK6urpmZmaYmJiqqqpUVFQAAAB6qHgnAAAAAXRSTlMAQObYZgAAAAlwSFlz\n",
       "AAAOxAAADsQBlSsOGwAAAyJJREFUSMe1VU1oE0EU/tJm03Q3SVcET4qxFIqearEIHiSHovVgm6IU\n",
       "ilrrwSAqdKEHD4qNVIRebDwURETjD/TiT9CAaMWmF6F6cNGTqJijIpqCllqxrvNmZpPN2qRZoQ++\n",
       "zMt8b/Z7M+/tLPB/FpSoxnsjVrYNEsvaGKDqFTgi8uS89yoZjgkgPNUZSrvZ6wzrhTvQbrJfmcC7\n",
       "bOwFEU/oz2Wvmv0SOAJliA0B8pWMTMhiP41x7m860wK5MQR09M0RcZbOeNCr5lMJjcnMsrGOl0o8\n",
       "GlohCYR4Ar4c+vNoEMlMsdkUEZSP3/Sq2SbRZAA33JpdPWwWHeRGGD4bN5N8fkFUswOhHDsHz+VM\n",
       "CeA+W33KpRnUN9IerpLvp71aO0T3/AYaDE60Nzdv86qpxQRw+IfBJ5yaGj6yTNBdjFbkYO3mIyMe\n",
       "AUedzxO1R6Z8Qbk15gQQsqxPbs27GKF0Zv9Z9cr6kxTERRF7e80MT1nZLgLsttrHZv2JRCJZCmES\n",
       "pgDQO/TdrZnBODlv+J6buQlCWWe1CSIQ97MXLKxjhBP+pXLNHhPKcVFEOwSoTwuQTafLNX0npgq0\n",
       "eGS5mvwSRFinFqoXPQZMbi3TVId1BETbFUNKmiEqqWlrNnDNXtbNUTbecguyWihLkkjNUNPn5E2o\n",
       "XyvT9DXmcV64xZDS2Q4wf5wagKcV0mUj1NERvnZJKiyj4Lwk9k7whj4pNPC4TFPXUvgg5WWIuFE4\n",
       "aHmWHweFj5G6Su01x5znrnqGo7LXiRjlR3Jomg+TWOvUVA1fG+5IJRlCRc8LPIjxgdlbEwdbyRml\n",
       "lH7auThr2SLfHyIiBn9D1Dk+0VmIOzS1zu55foKOEKpcVCBz79lX+Ynas/kSLeyzJhAeWmT72eLW\n",
       "VL98461uE6opLl0fq4/h0NQRXJBXox3CrVWiygc0uhKh5RFJ7gcdY5NZ0qTisFbLGnaIvfClRJWr\n",
       "KrcSoZ3OdmHY1HZCmb5S0nyYx4HFNNRd7E7gIcUmSsJ+hSrYhRoJ5+el+udNGRSobMdqI9R4zZo4\n",
       "J1HJfMnaiBCW14wkxH276raKGn8BLkvX+/CDDJoAAAAASUVORK5CYII=\n",
       "\" style=\"display:inline;vertical-align:middle;\" /></a><br>"
      ],
      "text/plain": [
       "<IPython.core.display.HTML object>"
      ]
     },
     "metadata": {},
     "output_type": "display_data"
    }
   ],
   "source": [
    "union_with_subset_redundancy = Forall((S, A),\n",
    "                          SetEquiv(Union(S, A), S),\n",
    "                          conditions=[SubsetEq(A, S)])"
   ]
  },
  {
   "cell_type": "code",
   "execution_count": 23,
   "metadata": {},
   "outputs": [
    {
     "name": "stdout",
     "output_type": "stream",
     "text": [
      "Adding theorem set_equiv_reflection to proveit.logic.sets.equivalence theory\n",
      "Adding theorem set_equiv_symmetry to proveit.logic.sets.equivalence theory\n",
      "set_equiv_reflection expression notebook is being updated\n",
      "set_equiv_symmetry expression notebook is being updated\n",
      "These theorems may now be imported from the theory package: proveit.logic.sets.equivalence\n"
     ]
    }
   ],
   "source": [
    "%end theorems"
   ]
  }
 ],
 "metadata": {
  "kernelspec": {
   "display_name": "Python 3",
   "language": "python",
   "name": "python3"
  },
  "language_info": {
   "codemirror_mode": {
    "name": "ipython",
    "version": 3
   },
   "file_extension": ".py",
   "mimetype": "text/x-python",
   "name": "python",
   "nbconvert_exporter": "python",
   "pygments_lexer": "ipython3",
   "version": "3.7.3"
  }
 },
 "nbformat": 4,
 "nbformat_minor": 1
}
