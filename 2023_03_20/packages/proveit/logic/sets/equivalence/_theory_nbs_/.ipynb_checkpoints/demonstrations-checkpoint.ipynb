{
 "cells": [
  {
   "cell_type": "markdown",
   "metadata": {},
   "source": [
    "Demonstrations for the theory of <a class=\"ProveItLink\" href=\"theory.ipynb\">proveit.logic.sets.equivalence</a>\n",
    "========"
   ]
  },
  {
   "cell_type": "code",
   "execution_count": 1,
   "metadata": {},
   "outputs": [],
   "source": [
    "import proveit\n",
    "from proveit import a, b, c, d, e, x, A, B, C\n",
    "from proveit import InstantiationFailure, ProofFailure\n",
    "from proveit.logic import Equals, Forall, InSet, Not, Set, SetEquiv, SetNotEquiv\n",
    "from proveit.numbers import one, two, three, four, five, Real\n",
    "from proveit.logic.sets.equivalence  import set_equiv_def, set_not_equiv_def\n",
    "from proveit.logic.sets.equivalence import (\n",
    "        set_equiv_reflexivity, set_equiv_reversal, set_equiv_transitivity)\n",
    "%begin demonstrations"
   ]
  },
  {
   "cell_type": "markdown",
   "metadata": {},
   "source": [
    "# Set Equivalence $A \\cong B$ and Set Non-Equivalence $A\\not\\cong B$\n",
    "\n",
    "## [Under Construction]"
   ]
  },
  {
   "cell_type": "markdown",
   "metadata": {},
   "source": [
    "<div style=\"line-height:1.4; font-size:14pt\">\n",
    "<a href='#introduction'>Introduction</a><br>\n",
    "<a href='#simple_expressions'>Simple Expressions involving set equivalence</a><br>\n",
    "<a href='#common_attributes'>Common Attributes of a set equivalence</a><br>\n",
    "<a href='#axioms'>Axioms</a><br>\n",
    "<a href='#theorems_and_conjectures'>Theorems & Conjectures</a><br>\n",
    "<a href='#further_demonstrations'>Further Demonstrations</a><br>\n",
    "    <ol>\n",
    "        <li><a href='#demo01'>TBA</a></li>\n",
    "        <li><a href='#demo02'>TBA</a></li>\n",
    "        <li><a href='#demo03'>TBA</a></li>\n",
    "    </ol>\n",
    "<a href='#misc_testing'>Miscellaneous Testing</a><br>\n",
    "</div>"
   ]
  },
  {
   "cell_type": "markdown",
   "metadata": {},
   "source": [
    "## Introduction <a id='introduction'></a>"
   ]
  },
  {
   "cell_type": "markdown",
   "metadata": {},
   "source": [
    "<font size=3>The Set Equivalence class, <font style=\"font-family:courier\">SetEquiv</font>, is intended to capture the membership equivalence of 2 structures A and B. $A \\cong B$, coded in Prove-It by <font style=\"font-family:courier\">SetEquiv(A, B)</font> is a claim that all elements of A are also elements of B and vice-versa, and uses the congruence symbol $\\cong$ to distinguish the <font style=\"font-family:courier\">SetEquiv</font> claim from the stronger claim that $A = B$.</font>"
   ]
  },
  {
   "cell_type": "markdown",
   "metadata": {},
   "source": [
    "## Simple Expressions Set Equivalence<a id='simple_expressions'></a>"
   ]
  },
  {
   "cell_type": "markdown",
   "metadata": {},
   "source": [
    "<font size=3>Set Equivalence expressions are easy to construct …</font>"
   ]
  },
  {
   "cell_type": "markdown",
   "metadata": {},
   "source": [
    "## Common Attributes of Set Equivalence Expressions<a id='common_attributes'></a>"
   ]
  },
  {
   "cell_type": "markdown",
   "metadata": {},
   "source": [
    "<font size=3>Let's look at some simple examples of set equivalence expressions and their common attributes.</font>"
   ]
  },
  {
   "cell_type": "code",
   "execution_count": 2,
   "metadata": {},
   "outputs": [
    {
     "data": {
      "text/html": [
       "<a class=\"ProveItLink\" href=\"../__pv_it/theorems/2ee8dc2018014830ed832e2e3d65a4df89f102480/expr.ipynb\"><img src=\"data:image/png;base64,iVBORw0KGgoAAAANSUhEUgAAADsAAAAPBAMAAACo4Ko7AAAAMFBMVEX///8QEBAiIiLu7u5ERES6\n",
       "urqYmJiIiIjMzMx2dnZUVFRmZmaqqqoyMjLc3NwAAABb1yYoAAAAAXRSTlMAQObYZgAAAAlwSFlz\n",
       "AAAOxAAADsQBlSsOGwAAAPpJREFUGNNjYACBtwx4wX0wybxQB0iyg9ls/r9WrfWAyPL8B1NMFUkT\n",
       "GBi4IGKMDgwM6xvATO71D0BUGQPzLQaGboj0+wIGhvgNYOa8+WBlC4Bab7DqQaTzgUL5BSAWX0H9\n",
       "ARANNJmh/mMARHo9EF8EG8rNcD4B7koDKC3CwGClAWbFMPRPQPcLx5fyqmsQ5gaG9wtA9CYlENAC\n",
       "i7H/Y2A4CDaT3Xv3egd03SwCDAycP0AscwYGfgV0aX6geWzfIWYzMAmgS/cDDeb6CmSwAhm8H9Dt\n",
       "rgf6qf8CkPEQZNM/dN0XgfpkgZ40+X+Zgcf/L5rPlvxfteoKMKwAotBAF+FrKrQAAAAASUVORK5C\n",
       "YII=\n",
       "\" style=\"display:inline;vertical-align:middle;\" /></a>"
      ],
      "text/plain": [
       "A equiv B"
      ]
     },
     "metadata": {},
     "output_type": "display_data"
    }
   ],
   "source": [
    "SetEquiv(A, B)"
   ]
  },
  {
   "cell_type": "markdown",
   "metadata": {},
   "source": [
    "## Axioms <a id='axioms'></a>"
   ]
  },
  {
   "cell_type": "markdown",
   "metadata": {},
   "source": [
    "<font size=3>The axiomatic basis for set equivalence currently consists of two axioms, one defining set equivalence in terms of membership and one defining set non-equivlance (these can be found in the [set equivalence theorems Jupyter Python notebook](axioms.ipynb) ):</font>"
   ]
  },
  {
   "cell_type": "code",
   "execution_count": 3,
   "metadata": {},
   "outputs": [
    {
     "data": {
      "text/html": [
       "<span style=\"font-size:20px;\"> <a class=\"ProveItLink\" href=\"axioms.ipynb#set_equiv_def\" style=\"text-decoration: none\">&nbsp;&#x22A2;&nbsp;&nbsp;</a><a class=\"ProveItLink\" href=\"../__pv_it/axioms/a526f1ab8a886b46cea1848b9b6f2e135fcc6d080/expr.ipynb\"><img src=\"data:image/png;base64,iVBORw0KGgoAAAANSUhEUgAAAY4AAAAWBAMAAAAlaGbVAAAAMFBMVEX///+IiIgiIiIQEBB2dnbu\n",
       "7u5ERETMzMzc3NwyMjK6urpmZmaYmJiqqqpUVFQAAAB6qHgnAAAAAXRSTlMAQObYZgAAAAlwSFlz\n",
       "AAAOxAAADsQBlSsOGwAABQNJREFUWMPVV2toHFUUPpPd2dfsbnYrasCYLlMwPlBW8RlsyY8gOFBd\n",
       "BStSKNtKsRQki1X/CGajUvBPs1KrIrZG2lIEpdsa6qvUtT+KJUpWK0JRaLRYKUoStW1aq63nnnNn\n",
       "d2bu3Unwnwc+zt2zd757zz2PuQMQJgmJMKkqFsOu/Aeq6iJtQcIl/QtuEa6VwCdqnea8o1ii46FU\n",
       "uj3VdDxgNEP2lsoxwCE1LWw/6KdmBhkoyTlS5smbBT+Nj1yemXmtAkZD9SNLTzf0VBoR7CoPfKud\n",
       "nB6+NHP6CYBeYDikPhF/vaGnf0wC5QT70XX1YdxMlm134mgeYJvqhyUikqzqqTRC7AqP2SEHImWA\n",
       "2QokS0BwSD0vwlrWP3BQAuXQeVK9YO4AeI6T4XcM7EWASdWPuIjy5g5UGiF2hcdq6GePYRrtrUO6\n",
       "DgSHlPAo2iEPixI446V50ri/7Oup6zm+aEqjL5GSWh/ibFfqqVy5yrbd82Z2hSfiL5Z19g08msI2\n",
       "MoW+3AEEh1QanU52KI8aA2XU+Ie0yPClf3IdZzEZkncjGqofX6Kq6amkvHtle8zsCs9xX1m/0nJz\n",
       "FrEVk/YtIDisbrPt2/V+WIMMlHrm77a91EpT8yc8mui06kfEtpcNaqjM/M9PU5wS3mpgdoVnAvFQ\n",
       "36NDlC0vt6OFdbmmH/UDDIfVhwDrvdvzdJGGe0ipZvyM4ubI2vxp8W+aznm/LeQW6YdVgVhJQ2VB\n",
       "X24/BJqAZCcei2hsckmcd9340Sr4W1H8XL5P/AVHGQ6rLZCgp8y7aNazF4cOyNdYV5Mhlk9cgsBu\n",
       "YWkVMveKnCmq8UDKLV6TS/UFTJV+Iz+8wWJ2hQdbfLqaPpulo2wnpYFN4ZiwHWM4rGIlfm9FuQLS\n",
       "BTAkYWScgTX56aFzSjweRzyILsfnNO/B9UTfLllJVYGP2bBJnIdsk5Jd4RlAG1jsQBzT376OhjHc\n",
       "XlQ0hhGGwyqT47PZcytXLza0uYAfJjaHPxQ/xBmKtpHSxAO+9pW550h4FVjleU1IdoVngJ7M8aT2\n",
       "q6F7mvsk7GQ4clj7nP7O7eAVm/BwI5BXFmJZ0I24qM1Z3FumoNYHJNO4vnHN6EcBqtR5eIQM3rRi\n",
       "duLx1oe4OsDeqkmFVmjXJW4v+xcOvmE4criSWochIz7WO/mLfCCWY8B7iLeD9SHSNH5BZGJZE4/o\n",
       "cVy9J1ve7qMyN2aL1LvByLWmu+wKz1oM2/hJiNKPfMuMdQkjItpHGI4cvkjO74EraNZhMH919zPN\n",
       "SIiADwfvnkm07twGrdbs9yOxAgeNWK7io8rMry6m+KW7vXVHdNkVHmymJ575AN7n5Vrv6q0Y1XtK\n",
       "si9PsB9imKW1JoZmKX7oxJi8r8YLBHP4Qgm+u/yqf5GsuK09SSkyrrvvUlC7Xeddqn25779iy5qN\n",
       "3Jfb7ArPUwCr85mD7IB5ajdbT4nrKdluZDhyyM0Mt0/+LMeUdD8f+iXC5YXO9/ZNrS8IlWrXOrsW\n",
       "ztPl+4xJ3efeS9xAFhgOq1aSdjfNQUicBfMm1zipu71pb5NaPxLF+6G+eCqFJ10PnS+ukQKO50Zp\n",
       "rQDzszfjy+HomaEDrUyMVRnh34zljvHYtytfWjSV5tK9IXThzRJO4GotWl/gA6Dsa9x6UXen+x5c\n",
       "mErj5arQhTdIOKrDuwO/RyXCpEf9rtV9ny9I1aMJUS5kvlFlLBkg5ZMG/F/lXyLvYzOjsAy1AAAA\n",
       "AElFTkSuQmCC\n",
       "\" style=\"display:inline;vertical-align:middle;\" /></a></span>"
      ],
      "text/plain": [
       "|- forall_{A, B} ((A equiv B) = [forall_{x} ((x in A) = (x in B))])"
      ]
     },
     "metadata": {},
     "output_type": "display_data"
    }
   ],
   "source": [
    "set_equiv_def"
   ]
  },
  {
   "cell_type": "code",
   "execution_count": 4,
   "metadata": {},
   "outputs": [
    {
     "data": {
      "text/html": [
       "<span style=\"font-size:20px;\"> <a class=\"ProveItLink\" href=\"axioms.ipynb#set_not_equiv_def\" style=\"text-decoration: none\">&nbsp;&#x22A2;&nbsp;&nbsp;</a><a class=\"ProveItLink\" href=\"../__pv_it/axioms/9437f7172aa913560deca1c56b1db5fda3c9a51d0/expr.ipynb\"><img src=\"data:image/png;base64,iVBORw0KGgoAAAANSUhEUgAAARkAAAAWBAMAAAAGH/VFAAAAMFBMVEX///+IiIgiIiIQEBB2dnbu\n",
       "7u5ERETMzMzc3NwyMjK6urpmZmaYmJiqqqpUVFQAAAB6qHgnAAAAAXRSTlMAQObYZgAAAAlwSFlz\n",
       "AAAOxAAADsQBlSsOGwAAA+FJREFUSMfFVktIlFEUPqPzOw9nxpEgWlhOYxAYhkVPyXDhokXZ1EJw\n",
       "I4qEQYSDC1eRvQjapGFGRJQl5SZJRIxSbGphhIuGCiEIHFpUEjgm5qPS6Zz7+h/zz8yyA9/cf+69\n",
       "59zvvP77A2SVCwJZxJ1JL+sGmzNynAPgiHOgXMu0xxu011OymXPqzmTggQEJmvicYeNHAZT7ac76\n",
       "2tbnZlsBSuz1pPhr2OCZZ0PjbiLKHZhMzc3dioIjBgovaP62PRmtm4NspvRpGab8JoBkFDwROz0l\n",
       "DXyY4Wy2ntsmQwCwDyCwDNALCufJ2SZ7NoUxDnpMsrR6798AaHXw5S508ekQ+Ibs9JSM82FihaUw\n",
       "Bg0JcHEN9080+AdgChTIM2fcnk2+AMqR41Ea2t9MV/mH6vncO5x6h4z22ukpqWS/zivLNAQQs9GH\n",
       "vGB9OOVDRvkRBR/64clQNp8E0I1gKWP8HeBhy2A5X04ietDwXTs9VTY8axcda4wUxSdVxZcCmDzP\n",
       "AURMx+5weE8GNiMCGHuYYdGn8utZjau0N27Hsc5OT2WNF/GQ/69eVnrdaV8wvs6EjmcAp9hiWjEy\n",
       "p7njg9BZIztKlqhrqXgLW33LTg0zSQCYg+VhXnjjrsU0853NxbO06uvWcR3czIS2n23p+FM7GhXb\n",
       "KwTQNegSfQCBPvlSwbr8QNY+WI+pkOSwWvPiPLbudStnKL0A/kOUzEodBREns+9c46UVAkelsFol\n",
       "AI4zY0nZd4/lmQW4zUm12WllUyXDiKfmM+MbxyaW0mLTgqDmcM3r8Ad5EQ/s4q5jy85b2ZwAKArR\n",
       "w3A4vBAO72SrRQneEtCfk42G9baQxoaiRT3prdQB3a/YWvAeL604nIxZM0URFwHz1ai047bAb3x4\n",
       "b81BhYENy1QhosxKxkV1nUSy/pAOONbLkgHP+SutZOqb3N8s4I2pNzvkKWuYduikkp60ntMs2aAX\n",
       "BdSGT+TVYuRMdedaJQebdMBltjYAG5iF16D9kFbrBC5TlazwuaPqzB6keTBiaWilJ4Xa1k1xbbPe\n",
       "0R6c7e8VLwEJCLAWGqlNshZHKl2ya9o56lO94G9bpb3DZfh64nXzle481jDlVjbtxnyEQGtbjcB0\n",
       "6qZ5U4Au3bMs3H06RLsiCcaqGu8e2eF5UQ6jjb70D5yQdcaksz3XZwtcMoALZrYortWA+xdoO+Qk\n",
       "3YeWO7HD/m41i0lnKiebcQO4xcOgvbzjqoa3i7Wj+h16WkCX1nRjV9OnjDoFub7p6AtCwiR+y/96\n",
       "AV2i2Y826KlbqSkHG6IrYZJHVtpBjqxfqza+m3Qu5mCzyQCTxOD/yj+xCBC3t/w5yQAAAABJRU5E\n",
       "rkJggg==\n",
       "\" style=\"display:inline;vertical-align:middle;\" /></a></span>"
      ],
      "text/plain": [
       "|- forall_{A, B} ((A not_equiv B) = [not](A equiv B))"
      ]
     },
     "metadata": {},
     "output_type": "display_data"
    }
   ],
   "source": [
    "set_not_equiv_def"
   ]
  },
  {
   "cell_type": "markdown",
   "metadata": {},
   "source": [
    "## Theorems & Conjectures<a id='theorems_and_conjectures'></a>"
   ]
  },
  {
   "cell_type": "markdown",
   "metadata": {},
   "source": [
    "<font size=3>The `logic.sets/equivalence` theory already has a number of related theorems and conjectures established, many of which are related to set equivalence being an equivalence relation. Some illustrative examples of the theorems are shown below, and the remainder can be found in the [set equivalence theorems Jupyter Python notebook](theorems.ipynb).</font>"
   ]
  },
  {
   "cell_type": "code",
   "execution_count": 5,
   "metadata": {},
   "outputs": [
    {
     "data": {
      "text/html": [
       "<span style=\"font-size:20px;\"> <a class=\"ProveItLink\" href=\"proofs/set_equiv_reflexivity/thm_proof.ipynb\" style=\"text-decoration: none\">&nbsp;&#x22A2;&nbsp;&nbsp;</a><a class=\"ProveItLink\" href=\"../__pv_it/theorems/e899271b152f486d849b55561e20ad802e6737ac0/expr.ipynb\"><img src=\"data:image/png;base64,iVBORw0KGgoAAAANSUhEUgAAAGwAAAAVBAMAAABRZRb3AAAAMFBMVEX///+IiIgiIiIQEBB2dnbu\n",
       "7u5ERETMzMzc3NwyMjK6urpmZmaYmJiqqqpUVFQAAAB6qHgnAAAAAXRSTlMAQObYZgAAAAlwSFlz\n",
       "AAAOxAAADsQBlSsOGwAAAdBJREFUOMuFUs8rRFEU/oZ55s0v80pZkTGUsmIiZSELCxuMjbKRjVIW\n",
       "M3+AzJtI2WBhShJiMRtqFlNixNgo2UyUlWJrNZL8KGOcc999k2eGuXXuOe98fee8+50DlDkq/j1/\n",
       "wY0GuloOWwJcGvDA8Z0F8fYL53wSbiKYpVszwW2yBuCY43ULbdxw9watebYVsjqXLHDBEOb4dyYt\n",
       "tBPDnb7zbctg/AGOpMTcOR3wJJkJe9ZC6xC3feGNXS3ZY2RXl9jgSITubngy1NT6NEOKmC0v2Nyx\n",
       "0GuKqDVxi00gGAh0WWhuQ5Gk97OYUooY7qkNhoFDYEqkQhJyMgBX1vFSKv8Bolz0EliGKmRSeiRU\n",
       "lTXqql/CB8SRSiaxwtENUBOy74hH5CWtWnzWp09fS5rZZtI5Vj1KCmiGIonOnzSF5vtcQhsFfH7y\n",
       "e2Sr5yKlbf38STdZSwmNplfF47kmG4qL/jiSWA0v0r7cI8vbXBm5chdk8yKVQJ2k2elb5Zph/Vez\n",
       "eS7Ku5PiPeC5IzWQkxNw+KGEP0K4LaxZWWOFOLzhD5pAe1EjYCUi4zZUOKrfjOgtPnMzryrR3Bkz\n",
       "6INytmFqolegLZbNKpMVaNPl07H/WTYd3339Zt2Pp/w/AAAAAElFTkSuQmCC\n",
       "\" style=\"display:inline;vertical-align:middle;\" /></a></span>"
      ],
      "text/plain": [
       "|- forall_{A} (A equiv A)"
      ]
     },
     "metadata": {},
     "output_type": "display_data"
    }
   ],
   "source": [
    "set_equiv_reflexivity"
   ]
  },
  {
   "cell_type": "code",
   "execution_count": 6,
   "metadata": {},
   "outputs": [
    {
     "data": {
      "text/html": [
       "<span style=\"font-size:20px;\"> <a class=\"ProveItLink\" href=\"proofs/set_equiv_reversal/thm_proof.ipynb\" style=\"text-decoration: none\">&nbsp;&#x22A2;&nbsp;&nbsp;</a><a class=\"ProveItLink\" href=\"../__pv_it/theorems/4b0ed3a7ddd516817b2fb676c4846fbe2c0cbcde0/expr.ipynb\"><img src=\"data:image/png;base64,iVBORw0KGgoAAAANSUhEUgAAALoAAAAXBAMAAABOokjyAAAAMFBMVEX///+IiIgiIiIQEBB2dnbu\n",
       "7u5ERETMzMzc3NwyMjK6urpmZmaYmJiqqqpUVFQAAAB6qHgnAAAAAXRSTlMAQObYZgAAAAlwSFlz\n",
       "AAAOxAAADsQBlSsOGwAAAsdJREFUSMetVU1oE1EQ/tLuJptkG1e8VhuDUFAPtfhDhUgOOQjFNlYQ\n",
       "aqH0oLagkoDgSUykIHgxgVIRKTYo0otiwFDxB409CKFCgz0qmJOlFBILVq1S48zLbtgm0qVbH7zZ\n",
       "2TdvvjfzzbxdwPZQtmjfeOzcyHgT8GhAkfVPNsBbQoAa/VNaHBavg50FkpphnaTZCrxg/Y4N9H4W\n",
       "zUNAOcba7qt7oMfKR1dIuCO4xgwN2UB/xSJJwT7JkOLIob8IV0Y3essJyizDB0Aq2EDvYDFHcc8x\n",
       "HT6ai7H7Cd14vJcTOgQ1RynYoT3FskxzjCEljr9y1GgXrY0DngA6A4GDNtC9IZaHqZzttTW5ZsRn\n",
       "Cho9wDPgnFiK1Lk3+KwbbnZ3fd++a+IfxseI8+F54BYUUWn5iDBc+R2eFk3gNLaeihmaK5rtHtb1\n",
       "Jk7d8ROYz4lYAmLoPZNBkrV5QolIaV6R1oRB9cPRsQ69twCpi7AIZQbYoa82s5OTdko/GkJ3XHhZ\n",
       "5jaMU3m0alGnDoiHLwP1qxndc1nDxzNnAcp1iTrEjL6NIlSXG9BPksVPzwc0U2/Fknav6lVAX86M\n",
       "7nAXKVPvwgDBBSHvNzMTp52+Xw3o1PVNnP8HmifGBQieC0uydXYBZnTNm2JS8pSasvz+tVEEJ3d5\n",
       "GzVjPFXPu4ebnPN/R3NULE3pjM5AXjKje2JUBu95Ghe5JoPGbZTYa4zsXZH60EfZm+qNLDMtwsmG\n",
       "y2IbQSfTJnRvuGfFcKOaKAYPLiL2S6VUut1wz09XxtESXaUy7a2VmUDFKUH6cJg7UoNSawqqiaf2\n",
       "0m79A/Ab2iMqc0EOQVmBvM/EDHO4ZjCTjKDPYAaz1tc5ZyjHIL+56woi/y08XTChPy1iYDVd3aRO\n",
       "hrsv1XydCSv0G/WfJpPutPCVLT/bI3XvDzeBjusWdkd9crnNoG9pKP8B4y+uRKwphQbjIgAAAABJ\n",
       "RU5ErkJggg==\n",
       "\" style=\"display:inline;vertical-align:middle;\" /></a></span>"
      ],
      "text/plain": [
       "|- forall_{A, B | A equiv B} (B equiv A)"
      ]
     },
     "metadata": {},
     "output_type": "display_data"
    }
   ],
   "source": [
    "set_equiv_reversal"
   ]
  },
  {
   "cell_type": "code",
   "execution_count": 7,
   "metadata": {},
   "outputs": [
    {
     "data": {
      "text/html": [
       "<span style=\"font-size:20px;\"> <a class=\"ProveItLink\" href=\"proofs/set_equiv_transitivity/thm_proof.ipynb\" style=\"text-decoration: none\">&nbsp;&#x22A2;&nbsp;&nbsp;</a><a class=\"ProveItLink\" href=\"../__pv_it/theorems/42fed0c1798c38009dee2ccdd59829b38fef548a0/expr.ipynb\"><img src=\"data:image/png;base64,iVBORw0KGgoAAAANSUhEUgAAAPcAAAAXBAMAAAAl5sTiAAAAMFBMVEX///+IiIgiIiIQEBB2dnbu\n",
       "7u5ERETMzMzc3NwyMjK6urpmZmaYmJiqqqpUVFQAAAB6qHgnAAAAAXRSTlMAQObYZgAAAAlwSFlz\n",
       "AAAOxAAADsQBlSsOGwAAA0BJREFUSMe1Vl1IFFEU/kZ3dmdnd7YN0SSsxB4MoswoosLaaH0sh5Si\n",
       "9iXo5ylSkHqJQqvnVjApgsx+zJegxcxIQzffxJeBoBeDpB58MCxKMymrc+/dmbmM6RrsXph7v733\n",
       "zPnO/c65cxfIV9OyrLcgj22dCKFtqfX79Eww8C733EaMD8EvfFA/bqFeEUtqyfQnLaakgQH283bu\n",
       "yY+L4b0gL1gzQsFExFxRMYzeNDqAK0ybk7knfyWGoR98KIPaCVzi+GgldcMtGCNdTMBn5Z58G+99\n",
       "1+f4SMmN3NI3cdxOjHgIFJoIk/TBPKRcFFqrssBHVgAbvnXxePgMiRAk5u0VFTtyTx4S9ZYyfrlz\n",
       "Ju+T5aw/RlGQHC+AM9LaP/zYQP0PcrYtQLcCM96VumgGhEmcG9D4cVN38amLP+P9TRwpU/EGFpDf\n",
       "fq2+yfHgWLnmrK3vq60VqMAScWu/+c/eCta2Mlhlf10MKgu/6ZNygXA5FF4sOp3MU5DJ6yz4dpPT\n",
       "tGQlwMG7hIAHFvyi0FDIfZYMDn337ny/LXOATqERFfXWU82HSAphfjbf0Pq4TK43RzF+4jSvHseK\n",
       "A+P54xh8MHaSt5RErpLCX73kVXzXpJbO4mx7zSejneItC0dYvjQmxGWZXAlOIIXQZKLLtRKAqmLo\n",
       "wgCSpErAkmRn1bLRSz7MZPexAFjlHergrvFSFGPZ2CTfUrltbZNHQ21M8dFqyUoAUjzcHsUHicLP\n",
       "yuoJPfe8OU+yFVYZYfZpu8brrQdF3GwE6hTfUspDrjdRckNnqZ1zrQTIzO6VyNk50piujd7bix2+\n",
       "R6Z9GiO8Wvvin/lZI59Jlq9CFqAlkYfih2cdD7aVC6gxSYwMDpRDbZw38fbPTa/uifNT/I0C+z12\n",
       "4SR5EDXAUwYiFLrSIpFHoc05DmwrF1CbpqfUtqjM+im46iBKzypLjUGbhboZaIC6B1grya5Tuhds\n",
       "gYWVY56Zre+C4uxmbKVXD2m6D+rwnUANRmfi/SR2s4VE32pTIn82gcS87VpYueaZL+DggWK34rL9\n",
       "U1l0lRoOku45/9K3xzK+1WzX9KLoum2gmysh717OeWsW8lLvRNoGYayEPI28Ny1vnv8Cd3za2/MC\n",
       "DXcAAAAASUVORK5CYII=\n",
       "\" style=\"display:inline;vertical-align:middle;\" /></a></span>"
      ],
      "text/plain": [
       "|- forall_{A, B, C | A equiv B, B equiv C} (A equiv C)"
      ]
     },
     "metadata": {},
     "output_type": "display_data"
    }
   ],
   "source": [
    "set_equiv_transitivity"
   ]
  },
  {
   "cell_type": "markdown",
   "metadata": {},
   "source": [
    "## Demonstrations <a id='further_demonstrations'></a>"
   ]
  },
  {
   "cell_type": "markdown",
   "metadata": {},
   "source": [
    "<div style=\"width: 90%; border: 3px solid green; padding: 10px; margin: 0px;\"><a id='demo01'></a><font size=4><b>1.</b> TBA.</font></div><br>\n",
    "<font size=3>Under Construction</font>"
   ]
  },
  {
   "cell_type": "markdown",
   "metadata": {},
   "source": [
    "<div style=\"width: 90%; border: 3px solid green; padding: 10px; margin: 0px;\"><a id='demo02'></a><font size=4><b>2.</b> TBA.</font></div><br>\n",
    "<font size=3>Under Construction</font>"
   ]
  },
  {
   "cell_type": "markdown",
   "metadata": {},
   "source": [
    "<div style=\"width: 90%; border: 3px solid green; padding: 10px; margin: 0px;\"><a id='demo03'></a><font size=4><b>3.</b> TBA.</font></div><br>\n",
    "<font size=3>Under construction</font>"
   ]
  },
  {
   "cell_type": "markdown",
   "metadata": {},
   "source": [
    "## Miscellaneous Testing\n",
    "<font size=3>The material below was developed to test various SetEquiv-related methods. Some of this material could be integrated into the `_demonstrations_` page eventually and/or deleted as development continues.</font>"
   ]
  },
  {
   "cell_type": "markdown",
   "metadata": {},
   "source": [
    "### Some Example `Sets` For Testing"
   ]
  },
  {
   "cell_type": "code",
   "execution_count": 8,
   "metadata": {},
   "outputs": [
    {
     "data": {
      "text/html": [
       "<strong id=\"set_12345\">set_12345:</strong> <a class=\"ProveItLink\" href=\"../__pv_it/demonstrations/12dc3bbdd186bc7f3c4f78b4ed0f0166715fdfe40/expr.ipynb\"><img src=\"data:image/png;base64,iVBORw0KGgoAAAANSUhEUgAAAGsAAAAVBAMAAACzuQ2OAAAAMFBMVEX///9ERETMzMxUVFSYmJgQ\n",
       "EBDc3NxmZmYiIiJ2dnaqqqoyMjKIiIi6urru7u4AAAB85a56AAAAAXRSTlMAQObYZgAAAAlwSFlz\n",
       "AAAOxAAADsQBlSsOGwAAAbtJREFUOMuVlM1LAkEYh39+pK5sS9DdpIIuHSQt+gI99AcE1Vmjwg6B\n",
       "SQcDIYQIOuVCBHWJPQVdyugYQRcP0SEhgi7FQocuQR9URJY2MzuzuiGac5h5dtxn5/V9310Ayi2a\n",
       "Ga49Y724+7fihxJDl4+it0Qm+4Z4VurIz2knWRC39/A1erKuA+0UpQxwny7xH6Yh/Rj0AO+X0Fb5\n",
       "uva5S+ZtoUEW2gAwZdClphT5piy0AJtraFEd4Rij6wKE1n3cSBsEwvzPwfvGQW2okZEVcBPhMcaE\n",
       "FjrvE5o7Z9Xs3xx6g/zYWQjNhwTJbp7iXMSqeQKCRCZVUwNsJLaEBsycwqolK+GS/JDhjFVp7g/S\n",
       "ViMa7EndojnFYZ1Ah0ZhAUKz5eB+JdmgJ9kCFm0fLqMAZZ1rV8Hg+xDbasnA8Qwc6tWZVFhCVMg6\n",
       "owkapGI8izC7lZhtwJZZAImE/ERTOp9KLRs0RuvGCHgB6xjXIvJ6Vd0c/cUQPLSds+Vy0aDWFGll\n",
       "RkiWR0F7GPGlFUu52ThAHfLq5t4fTUUdkmDV5HF+pZyhDj1WtDR7HcVbJZv7tcj0oUyyJT7c3Ldk\n",
       "k1TzF7kehGaj+EznAAAAAElFTkSuQmCC\n",
       "\" style=\"display:inline;vertical-align:middle;\" /></a><br>"
      ],
      "text/plain": [
       "<IPython.core.display.HTML object>"
      ]
     },
     "metadata": {},
     "output_type": "display_data"
    },
    {
     "data": {
      "text/html": [
       "<strong id=\"set_abcde\">set_abcde:</strong> <a class=\"ProveItLink\" href=\"../__pv_it/demonstrations/79184629a2e14906fcd14d7156a50559efda0ab70/expr.ipynb\"><img src=\"data:image/png;base64,iVBORw0KGgoAAAANSUhEUgAAAGkAAAAVBAMAAAC3TN2zAAAAMFBMVEX///9ERETMzMxUVFSYmJgQ\n",
       "EBDc3NxmZmYiIiJ2dnaqqqoyMjKIiIi6urru7u4AAAB85a56AAAAAXRSTlMAQObYZgAAAAlwSFlz\n",
       "AAAOxAAADsQBlSsOGwAAAY5JREFUOMtjYGDgu8tAAmBbBqFP3yNFF4OyHIjk+ocsxifagKmQaWsB\n",
       "Ek8YRHCiKuMuwGI+/wIkzgwsulAUwMD9BwR0oShAUYhP1wxsIbAduy42y2MHIGKbz1hBZeccUYCE\n",
       "teWhX9CgmnP8AVQX+wYgcTWBERKUfL8fvE8AszIWsAuAGXA5hhsKTBMYGI6CmKkOQLUhDOwQhwLj\n",
       "gRViayeUAZLbALH0CwPPBQaGfGB4Je8F2feBgWMCA9RmfjCLHRaNCDnGP2fmgoyxXsDAVAh0KqsA\n",
       "w/sLYBmggvvgsGcVgOpCyPEbgClOkD2MQPb7Awz+8OiqB4f9e2joIMtBhNY/gIbh+wUM1lwJfCAZ\n",
       "BaA/wAygdy+AGAg5kEOB7pgKC3nGA1zt7AzvgZ5mdmAsADOAAcipAGIg5Fg2MDxPQIovPptJyYcY\n",
       "OPqALMsSBjCDYabLOYgIXI7hpMsBLGljHW4GEgtd1wTcDCQWWBdPADxvHcDJQGIxVINj/BeMy4Ob\n",
       "gcQChjEIpFuRVG5MBgY+AJsYfaNN5DH7AAAAAElFTkSuQmCC\n",
       "\" style=\"display:inline;vertical-align:middle;\" /></a><br>"
      ],
      "text/plain": [
       "<IPython.core.display.HTML object>"
      ]
     },
     "metadata": {},
     "output_type": "display_data"
    },
    {
     "data": {
      "text/html": [
       "<strong id=\"set_1a2b3c\">set_1a2b3c:</strong> <a class=\"ProveItLink\" href=\"../__pv_it/demonstrations/b16f3959b20de143acc14565857a75d5013c36810/expr.ipynb\"><img src=\"data:image/png;base64,iVBORw0KGgoAAAANSUhEUgAAAH0AAAAVBAMAAACZCfwhAAAAMFBMVEX///9ERETMzMxUVFSYmJgQ\n",
       "EBDc3NxmZmYiIiJ2dnaqqqoyMjKIiIi6urru7u4AAAB85a56AAAAAXRSTlMAQObYZgAAAAlwSFlz\n",
       "AAAOxAAADsQBlSsOGwAAAd9JREFUOMudVEsoRFEY/gyNuWPu2VjYiImShYUixJRJlhbkkYUyklgo\n",
       "ZjXKgiUWTB6hlFlNbDyysPIoWYhio2zoSrJRJCkM4zzH4dbQ3G7n/+53znf+c//vvxcAuURKlzMq\n",
       "4vFVanoU5rHR/cnGYsu2fWjTK9B1u6IWg2f6kmw2GKP0FSr3bPouGB8Sbst4B/ebvmRB6YFTm74C\n",
       "aJVQiU4j5P3f+k4LtQGOzE9JnZ/h//oqoFYUQKzgl/v5L333Un9ifkqELN9BRDIXfgmMkzqpz9zQ\n",
       "9WYb8tVWjpiID7vkRaCSMmmJcwJB4JDBHr+uv/VjSKV3lYq4bqFDnV+W0hVm1AA9VvcOdP0IMK70\n",
       "QRmHgVetqnwZD6QmAkfQ0vVNIMr1DJmebmiKtAVAfkQu40VgudNKNT2JIeNRylbhDEj7M4WDcUvq\n",
       "SUy9mF5/epM3pG9EGYIjDI9F2NwTqwqjmtn5OUVtNIG5b/+WA+C9lYuVwUGO+kKhITwwc8qRIybr\n",
       "mf+coqWZ1v0v69zyY4zmuDkq8nk5morH3+GapJM389QiRpkh+v1wyphtsH70DzfHsqO1JNRvvQE7\n",
       "CiehhN7TqB7vYUNkPwnFGoO2YuKT/p5IIE8yirTw0Fud4v9vhvbCF7ymoB83cJ50AAAAAElFTkSu\n",
       "QmCC\n",
       "\" style=\"display:inline;vertical-align:middle;\" /></a><br>"
      ],
      "text/plain": [
       "<IPython.core.display.HTML object>"
      ]
     },
     "metadata": {},
     "output_type": "display_data"
    },
    {
     "data": {
      "text/html": [
       "<strong id=\"power_set_of_ab\">power_set_of_ab:</strong> <a class=\"ProveItLink\" href=\"../__pv_it/demonstrations/63e9b9807fa59f342e0d268ecf41dd97eb703fbd0/expr.ipynb\"><img src=\"data:image/png;base64,iVBORw0KGgoAAAANSUhEUgAAAL0AAAAVBAMAAADhtvKAAAAAMFBMVEX///8AAAAAAAAAAAAAAAAA\n",
       "AAAAAAAAAAAAAAAAAAAAAAAAAAAAAAAAAAAAAAAAAAAv3aB7AAAAD3RSTlMAEER2zVSJ3Zki72ar\n",
       "MruaaVGaAAAACXBIWXMAAA7EAAAOxAGVKw4bAAACRElEQVQ4y52UwWsTQRTG3xh3m9Q2GeytFLZ6\n",
       "9NIFRVAQQsBbD9uT9NSAQqAo1It6zEHwoNiAKCIBvUpB8h+00KRH6VHBg+JNClZt7857k5l5bzvk\n",
       "kHeYzPy+977dzb63AKAug4mLy7V1YGEpgKQmjX5e9yIwBMmu8tols1RaGr79YClEMQTFNIz5z/os\n",
       "DGFlW5n8wXUDwVHIsJSCUUxTv7bMpr4nIHtuJlNlimfo+MWGpVCitD/flbpIEHJnKv9GMdGfydP5\n",
       "r+iJ/kyezr8DE/3LphP8+3dfRfxXr47O+tcObuT2xGSqrDZxfYrLzVCD9NxH+K0FxTR1orMeVD4I\n",
       "CFd6ddtxXKbKdwO8/A5u3xe+BuniAJ5Jimmmc2dzqJ0KqHaguuUa28tY2W9hypAmUA2dFdFtgEeC\n",
       "Upp5skYbYOm2gMcw03YP7mWsnH+J7/sLjVra8gOI9BOov4JSmvFZMRe8t8zh7HfILOAyVbJRY4No\n",
       "qPoHF45L43lE/b2t+XwjzHLY9e3v5Y1Sq25Shh73jzqFuea6oJjWODR/NqT0ApWDWQHDpIdHLm/G\n",
       "+lOdOPoT7nS7guJ+blDvuqqsOYb1PHlSpSOX4/3/2D3V0vWv+4eC4l4dPPdVMw8d3H/Qv0VHLsf9\n",
       "Ex2b30SLCRzra3Is16Qc90+j34cUYv5t6d+O+LNRoyGGhUChRMMs26lXuYAqlzJVhlFTNMSQB0pF\n",
       "jIZZXhzQXUhY8fdE8rjy7Qj9XhS1+wX70hBFQVCTRr9vRhEYgmSq/A+QoLtebuKXsAAAAABJRU5E\n",
       "rkJggg==\n",
       "\" style=\"display:inline;vertical-align:middle;\" /></a><br>"
      ],
      "text/plain": [
       "<IPython.core.display.HTML object>"
      ]
     },
     "metadata": {},
     "output_type": "display_data"
    },
    {
     "data": {
      "text/html": [
       "<strong id=\"empty_set\">empty_set:</strong> <a class=\"ProveItLink\" href=\"../__pv_it/demonstrations/9851c93be39430440be05789eaf29a51888b46890/expr.ipynb\"><img src=\"data:image/png;base64,iVBORw0KGgoAAAANSUhEUgAAABMAAAAVBAMAAABWJ8jiAAAAMFBMVEX///9ERETMzMxUVFSYmJgQ\n",
       "EBDc3NxmZmYiIiJ2dnaqqqoyMjKIiIi6urru7u4AAAB85a56AAAAAXRSTlMAQObYZgAAAAlwSFlz\n",
       "AAAOxAAADsQBlSsOGwAAAGZJREFUCNdjYGDgu8vAtowBDE7fY2BQlgOxuP6BSGEQwdkAImeQymTf\n",
       "ACKPgohUBxCZv4CBIXkv2B4+6wUMTIUPwDpAIowGIOb6B3ATppJqG08AiKwGEWy/QDaEgC1Kt2Jg\n",
       "mwy0FwBBAx0JAa8oOgAAAABJRU5ErkJggg==\n",
       "\" style=\"display:inline;vertical-align:middle;\" /></a><br>"
      ],
      "text/plain": [
       "<IPython.core.display.HTML object>"
      ]
     },
     "metadata": {},
     "output_type": "display_data"
    }
   ],
   "source": [
    "# some standard enumerated sets\n",
    "from proveit import e\n",
    "set_12345, set_abcde, set_1a2b3c, power_set_of_ab, empty_set = (\n",
    "    Set(one, two, three, four, five),\n",
    "    Set(a, b, c, d, e),\n",
    "    Set(one, a, two, b, three, c),\n",
    "    Set(Set(), Set(a), Set(b), Set(a,b)),\n",
    "    Set())"
   ]
  },
  {
   "cell_type": "code",
   "execution_count": 9,
   "metadata": {},
   "outputs": [
    {
     "data": {
      "text/html": [
       "<strong id=\"set_12131\">set_12131:</strong> <a class=\"ProveItLink\" href=\"../__pv_it/demonstrations/12273982d3cb4bdd24d1c00a53880666d1b7b43e0/expr.ipynb\"><img src=\"data:image/png;base64,iVBORw0KGgoAAAANSUhEUgAAAGsAAAAVBAMAAACzuQ2OAAAAMFBMVEX///9ERETMzMxUVFSYmJgQ\n",
       "EBDc3NxmZmYiIiJ2dnaqqqoyMjKIiIi6urru7u4AAAB85a56AAAAAXRSTlMAQObYZgAAAAlwSFlz\n",
       "AAAOxAAADsQBlSsOGwAAAXRJREFUOMtjYGDgu8tACmBbBqFP3yNJG4OyHIjk+gckmPpgZpVvVIAy\n",
       "4WKZ02VhWjQeAAlhEIuzgYHhcfU/qHgiA+dfCAsuxlfAsH4BhGW+H6RtBkwbAw9MmxkDQyiUCRPj\n",
       "+cXwfgNU7DwObfEPGOwTULXxxjLwE9JmwcBgr4CqDQjWOxDQBgT9DOjaeFsYMLSxb0DVxvQHXRvT\n",
       "YSMUbUdBrFQHVG0cBgyYjlyArC0fyEvei6akkAFTG+s/ZG181gsYmAofoChhMUDXxqTAwPgLWRsn\n",
       "yCZGAxRtKxnY0CKA/x+atvUPkEOSD2z0BAaeB3xwbSAWqwHIkQ8Q2qbCI4DzGwMkKWSUl1dAEwVM\n",
       "jMUBGG98v8Ha5icgxxuz6W8TBg5Q0u3///83hIUQu14OTModIHuM4zc7IEc3GKxjwMPiegAXQ9M2\n",
       "gQEPi5MBVRtPAJTHd4ABD+sNQls1OGPCApcHLo6NBdfPwBcCptKtSCtLJgPTFgBQ0og6QA4sRwAA\n",
       "AABJRU5ErkJggg==\n",
       "\" style=\"display:inline;vertical-align:middle;\" /></a><br>"
      ],
      "text/plain": [
       "<IPython.core.display.HTML object>"
      ]
     },
     "metadata": {},
     "output_type": "display_data"
    },
    {
     "data": {
      "text/html": [
       "<strong id=\"set_1a1b2a\">set_1a1b2a:</strong> <a class=\"ProveItLink\" href=\"../__pv_it/demonstrations/0c8d145a1e7e6368804c6b7f42b2675d2cd7ac440/expr.ipynb\"><img src=\"data:image/png;base64,iVBORw0KGgoAAAANSUhEUgAAAH8AAAAVBAMAAACd/CwcAAAAMFBMVEX///9ERETMzMxUVFSYmJgQ\n",
       "EBDc3NxmZmYiIiJ2dnaqqqoyMjKIiIi6urru7u4AAAB85a56AAAAAXRSTlMAQObYZgAAAAlwSFlz\n",
       "AAAOxAAADsQBlSsOGwAAAbNJREFUOMtjYGDgu8tAHmBbBqFP3yPTAAZlORDJ9Q9EajzAkGbqgzIe\n",
       "RsCsLN+ogKJEGERwNgB9Yb4fw4DH1f9gzO1QOpGB8y+KmhkwAxgYzmO6gAduwC8obcbAEEqOAbww\n",
       "RvwDBvsEMgyAqAACCwYGewVCBiTPyUE3gNvm8AKYln4UZWAD2DcgG8AbxiD/AM2A9/v4vsFi5g+K\n",
       "sqMgdqoDsgFPHRgq0F2w/gFDDJTJYYCiLB/osuS9DMgG1DMwdKIbUM3A8BPKLGRAUcZnvYCBqfAB\n",
       "sgGBDHx/0Q3oZOCFRiQL1AEwZZwg2xkNkAzg+8PA8gHdgF8M7FDmSga2BGRl6x+gxAIQ8f1iYN6w\n",
       "jOEBzAA+EOMTyMsgIaYJDDwPQEJQZQxTEdE4P4GB7zeQlmFYUVAAZjFwAoP+PSiKTBjEIZIZ5eUV\n",
       "ECGwMuR0YBy/2YGhA2jL45NqNgpgFrPpbxMGDlCGejwdGFEgof7//39DhcDKkBMSOF8+wGStwyOE\n",
       "YQAnAyZrAh4hqAE8ATDuGwYMFt8BPELgFAIsJWCZlQEhA2fx4BNi4AsBU+lW5JaJk4EpGQACzJ9u\n",
       "SExzowAAAABJRU5ErkJggg==\n",
       "\" style=\"display:inline;vertical-align:middle;\" /></a><br>"
      ],
      "text/plain": [
       "<IPython.core.display.HTML object>"
      ]
     },
     "metadata": {},
     "output_type": "display_data"
    }
   ],
   "source": [
    "# some non-standard enumerated sets pretending to be multi-sets (but not!)\n",
    "set_12131, set_1a1b2a = (\n",
    "    Set(one, two, one, three, one),\n",
    "    Set(one, a, one, b, two, a))"
   ]
  },
  {
   "cell_type": "markdown",
   "metadata": {},
   "source": [
    "### Testing the `SetEquiv.conclude()` method<br/>\n",
    "\n",
    "The `conclude()` method is a general method with the following format:<br/>\n",
    "\n",
    "<div style=\"width: 50%; border: 1px solid green; padding: 5px; margin: 20px; background-color: gainsboro; font-family:courier\">conclude(**defaults_config)</div>\n",
    "\n",
    "and attempts to conclude the equivalence in various ways: (1) using simple reflexivity (A equiv A); (2) via an evaluation (if one side is an irreducible); or (3) via transitivity."
   ]
  },
  {
   "cell_type": "code",
   "execution_count": 10,
   "metadata": {},
   "outputs": [
    {
     "data": {
      "text/html": [
       "<span style=\"font-size:20px;\"> <a class=\"ProveItLink\" href=\"../__pv_it/demonstrations/321b9d74804aff0870094b5f85721cfa60ea37160/proof.ipynb\" style=\"text-decoration: none\">&nbsp;&#x22A2;&nbsp;&nbsp;</a><a class=\"ProveItLink\" href=\"../__pv_it/demonstrations/06daae90a22dc53524b81248ba3a2045b8e1637e0/expr.ipynb\"><img src=\"data:image/png;base64,iVBORw0KGgoAAAANSUhEUgAAADsAAAAOBAMAAABjvHmeAAAAMFBMVEX///+6uroyMjLMzMwiIiJm\n",
       "ZmaqqqoQEBB2dnbc3NyYmJhUVFRERESIiIju7u4AAABBACUiAAAAAXRSTlMAQObYZgAAAAlwSFlz\n",
       "AAAOxAAADsQBlSsOGwAAAK9JREFUGNNjYGDgu7N7F2cDA5Cx3Q1I8jKAAVz0+j0GtpAFQAbL5SVA\n",
       "PjdEGib6xhnIiZ8AJG4x8GkzMJiCZeGi6g+ADHGQ0AagVmVGT7A0TJTjG4gH1gKy6f53ARATLjrf\n",
       "AcR4zAADD8AkXLT/AgMWABf1nwAXC3EBAW8U0XokIxEALuoPotkM0KThomAfc6DbDRedD3JEH7rd\n",
       "cFG2XwwMEuhWI4k+Pb1VANNnUFEAHUI7URHY1IcAAAAASUVORK5CYII=\n",
       "\" style=\"display:inline;vertical-align:middle;\" /></a></span>"
      ],
      "text/plain": [
       "|- C equiv C"
      ]
     },
     "metadata": {},
     "output_type": "display_data"
    }
   ],
   "source": [
    "SetEquiv(C, C).conclude()"
   ]
  },
  {
   "cell_type": "code",
   "execution_count": 11,
   "metadata": {},
   "outputs": [
    {
     "name": "stdout",
     "output_type": "stream",
     "text": [
      "ProofFailure: Unable to prove {1, 2, 3} equiv {a, b, c}:\n",
      "Unable to automatically conclude by standard means.  To try to prove this via transitive implication relations, try 'conclude_via_transitivity'.\n"
     ]
    }
   ],
   "source": [
    "# As one would expect, we cannot conclude a set-equivalence between \n",
    "# two arbitrary sets\n",
    "try:\n",
    "    SetEquiv(Set(one, two, three), Set(a, b, c)).conclude()\n",
    "    assert False, \"Should not get this far!\"\n",
    "except ProofFailure as the_error:\n",
    "    print(\"ProofFailure: {}\".format(the_error))"
   ]
  },
  {
   "cell_type": "code",
   "execution_count": 12,
   "metadata": {},
   "outputs": [
    {
     "name": "stdout",
     "output_type": "stream",
     "text": [
      "ProofFailure: Unable to prove {1, d, 3} equiv {a, b, c} assuming {a = 1, b = d, c = 3}:\n",
      "Unable to automatically conclude by standard means.  To try to prove this via transitive implication relations, try 'conclude_via_transitivity'.\n"
     ]
    }
   ],
   "source": [
    "# This also doesn't work even with these proper assumptions because\n",
    "# these substitutions are not made automatically.\n",
    "try:\n",
    "    SetEquiv(Set(one, d, three), Set(a, b, c)).conclude(\n",
    "        assumptions=[Equals(a, one), Equals(b, d), Equals(c, three)])\n",
    "    assert False, \"Should not get this far!\"\n",
    "except ProofFailure as the_error:\n",
    "    print(\"ProofFailure: {}\".format(the_error))"
   ]
  },
  {
   "cell_type": "code",
   "execution_count": 13,
   "metadata": {},
   "outputs": [
    {
     "data": {
      "text/html": [
       "<span style=\"font-size:20px;\"><a class=\"ProveItLink\" href=\"../__pv_it/demonstrations/a48af4431b8a321955379e31f3459976bc09db890/expr.ipynb\"><img src=\"data:image/png;base64,iVBORw0KGgoAAAANSUhEUgAAAC8AAAAOBAMAAABN+VgMAAAAMFBMVEX///8AAAAAAAAAAAAAAAAA\n",
       "AAAAAAAAAAAAAAAAAAAAAAAAAAAAAAAAAAAAAAAAAAAv3aB7AAAAD3RSTlMAELvv3c2ZVESJq3Yi\n",
       "MmZ3LnoBAAAACXBIWXMAAA7EAAAOxAGVKw4bAAAAoklEQVQY02NgVHZgQAM8aUEXgBRrArrEIQbO\n",
       "H0CKvwBdYg0DgzGQ6hdAl7AXYFh/gIFhCro4wxIGhvVAS6J2L8eQYvBnYGD8KiAP1MeQ4gICXhBx\n",
       "3t8MDOwfGZg3oGtgWcDAwBbAwD8BXSIJJDmBoR/dwXwLIN7IF0Czo5KB5wAD/wVGOzQNvBMYuAUY\n",
       "uB4woYfJkbS0FKBzV+ZheOL//68MAKvBJSn2+GgqAAAAAElFTkSuQmCC\n",
       "\" style=\"display:inline;vertical-align:middle;\" /></a>, <a class=\"ProveItLink\" href=\"../__pv_it/demonstrations/27c2109b4bcc6da83e759bd610d6c0877c3a03360/expr.ipynb\"><img src=\"data:image/png;base64,iVBORw0KGgoAAAANSUhEUgAAADAAAAAOBAMAAACbXIJpAAAAMFBMVEX///8AAAAAAAAAAAAAAAAA\n",
       "AAAAAAAAAAAAAAAAAAAAAAAAAAAAAAAAAAAAAAAAAAAv3aB7AAAAD3RSTlMAIquJdkTvuxBmmd1U\n",
       "zTKBpmoTAAAACXBIWXMAAA7EAAAOxAGVKw4bAAAAaElEQVQY02NgwAb4dmAVZmha+wO7BAMLeRKM\n",
       "yo4OWCXCBNjBGlfvBoFNcAmOTAauDdh0cH1g4DbAJsFWwNAfgE2i34FhPgM2O/oPMOjyCGDRwe7A\n",
       "s4sL3Sjmj0BXqdgJ+aGJM6n91QQAV4wjtpQsiA4AAAAASUVORK5CYII=\n",
       "\" style=\"display:inline;vertical-align:middle;\" /></a>, <a class=\"ProveItLink\" href=\"../__pv_it/demonstrations/526a7134e8ade6a248637ee37a1968395a2a30770/expr.ipynb\"><img src=\"data:image/png;base64,iVBORw0KGgoAAAANSUhEUgAAAC8AAAAOBAMAAABN+VgMAAAAMFBMVEX///8AAAAAAAAAAAAAAAAA\n",
       "AAAAAAAAAAAAAAAAAAAAAAAAAAAAAAAAAAAAAAAAAAAv3aB7AAAAD3RSTlMAiXZmMiLdVJm77xBE\n",
       "q833A+o+AAAACXBIWXMAAA7EAAAOxAGVKw4bAAAAg0lEQVQY02NgwASsgp0HGLCBHQzs37FK6Bdw\n",
       "/8MqceoAA3YJBgb2zyBSSNkBXeKYAZAIK+CYAKTa0kAgFyzudBekNJGBSwHDKKCrOH5js2T9Bgau\n",
       "CRiiLgwM8wsY9kPNQbLj/waQBD/QAWgBsBZsFNBJjGjONYb4Q9BYG80Ong5gIAIAipwjHGAJiswA\n",
       "AAAASUVORK5CYII=\n",
       "\" style=\"display:inline;vertical-align:middle;\" /></a> <a class=\"ProveItLink\" href=\"../__pv_it/demonstrations/62e36dc5e24f57bb621190188a48c9937b0a2f260/proof.ipynb\" style=\"text-decoration: none\">&nbsp;&#x22A2;&nbsp;&nbsp;</a><a class=\"ProveItLink\" href=\"../__pv_it/demonstrations/3976b7d219879b8bb54791446332d0e34f693bc70/expr.ipynb\"><img src=\"data:image/png;base64,iVBORw0KGgoAAAANSUhEUgAAAKMAAAAVBAMAAADY0UPbAAAAMFBMVEX///8AAAAAAAAAAAAAAAAA\n",
       "AAAAAAAAAAAAAAAAAAAAAAAAAAAAAAAAAAAAAAAAAAAv3aB7AAAAD3RSTlMAEER2zVSJ3Zki72ar\n",
       "MruaaVGaAAAACXBIWXMAAA7EAAAOxAGVKw4bAAACWklEQVQ4y4VVTWgTQRh9s2s3TZO0C94kWPXk\n",
       "saB40IqxJw8q8aL0lICHFn9AD7WIQnMoJKdUEFSkqOhBVKgBD56EQBWxRZqjghfrxYOgMYmgInXm\n",
       "m5/s7uy232Hy5uO9N9/OfJkBwPYgKdKTcdlkgebv351oiU+fY5KbCCR/oM2H3GW9Tu1kS6Jb0+t8\n",
       "/KYKW5nhowsjMLHzcciT+N4lID+vaffg/ZQmFZSKwJRMpw6/LANZaEEgjoVmU4bhast3wFMCbg+j\n",
       "BWN5COw48CHOsreV5XMfazcEcB5ipG/Z5CWecK7GWDrtrSzfAmtqM1FqGEv+1TjyZ1eMZaTmGEse\n",
       "c3r9azCWFH7AZPHsTTnbtjxeVPl9rxR/sBC2zHXU7/h7Ph60G0UInCf4LlcYPcp+y16ZQV3x7zbC\n",
       "lqmmRuLE78sSqrMirkMLdjRQVSQfj6SuLIDgL04gbFk3aIgn2etipEgSLABX5HQe+EVggaoW/Fzd\n",
       "D1lmVJG5FoZ5f3gT0e8mwRKYbF/u7Mg2WpIbKvjDzZDlaaSpiUbaZFnyrb3kAtZB5oduy0HSso7e\n",
       "h8CJM6qhDNcXaKhJH34O1l5yAeshW5ikFvgn9lWAv/zQFJ8sPX5q4s+C27ValVCmEezLaCd+wZlK\n",
       "hXX5bBVfQYCfwcVAX2ZXuqtIiatjbmOjK9He2joSLfMHPi63MMury0/zhQXwzr/wg61OcQo2SrCU\n",
       "MeBHQdSyDBttaulZQPLdB/qyHoOFRNtFwwiw3QKSn9a3k9sX9d+EZzGvgbnOxiyg+HfeJL89F4ox\n",
       "2WQB8f8DUvWl2fbXT90AAAAASUVORK5CYII=\n",
       "\" style=\"display:inline;vertical-align:middle;\" /></a></span>"
      ],
      "text/plain": [
       "{b = 2, a = 1, c = 3} |- {1, 2, 3} equiv {a, b, c}"
      ]
     },
     "metadata": {},
     "output_type": "display_data"
    }
   ],
   "source": [
    "# But evaluations to irreducible values are special in this regard and we can prove the following.\n",
    "SetEquiv(Set(one, two, three), Set(a, b, c)).conclude(\n",
    "        assumptions=[Equals(a, one), Equals(b, two), Equals(c, three)])"
   ]
  },
  {
   "cell_type": "markdown",
   "metadata": {},
   "source": [
    "### Testing the `SetEquiv.conclude_via_reflexivity()` method<br/>\n",
    "\n",
    "The `conclude_via_reflexivity()` method has the following format:<br/>\n",
    "\n",
    "<div style=\"width: 50%; border: 1px solid green; padding: 5px; margin: 20px; background-color: gainsboro; font-family:courier\">conclude_via_reflexivity(**defaults_config)</div>\n",
    "\n",
    "and attempts to prove and return self of the form A equiv A."
   ]
  },
  {
   "cell_type": "code",
   "execution_count": 14,
   "metadata": {},
   "outputs": [
    {
     "data": {
      "text/html": [
       "<span style=\"font-size:20px;\"> <a class=\"ProveItLink\" href=\"../__pv_it/demonstrations/de8c7c2460496af93018e1beaa632f252fabc2720/proof.ipynb\" style=\"text-decoration: none\">&nbsp;&#x22A2;&nbsp;&nbsp;</a><a class=\"ProveItLink\" href=\"../__pv_it/theorems/dd8e2a83d0cbc249da7f02652195bc6aef3035680/expr.ipynb\"><img src=\"data:image/png;base64,iVBORw0KGgoAAAANSUhEUgAAADsAAAAPBAMAAACo4Ko7AAAAMFBMVEX///8QEBAiIiLu7u5ERES6\n",
       "urqYmJiIiIjMzMx2dnZUVFRmZmaqqqoyMjLc3NwAAABb1yYoAAAAAXRSTlMAQObYZgAAAAlwSFlz\n",
       "AAAOxAAADsQBlSsOGwAAALJJREFUGNNjYACBtwzYAFz0PoSyEjoAJAvQRBl4/kNo9TZNILkATZSB\n",
       "e/0DEMWewGC7gIFjA6ooA8O8+Q0giguI1zYEQQVhogx8BfUgOxk4QSb8F4XKwkQZuBnOJ8Cdywxj\n",
       "wEVjGPonYHoLLrqB4T3YtdxKYAB1OUyU3Xv3egcMzXBRcwYGfgUMabgo0J9MAhjSMFFWoPt4P6Db\n",
       "DRd9CMQs/9A1w0RN/l9m4PH/i+YzmCgAxp852U9uHEsAAAAASUVORK5CYII=\n",
       "\" style=\"display:inline;vertical-align:middle;\" /></a></span>"
      ],
      "text/plain": [
       "|- A equiv A"
      ]
     },
     "metadata": {},
     "output_type": "display_data"
    }
   ],
   "source": [
    "# Notice that reflexivity of set equivalence should generally\n",
    "# not require any assumptions\n",
    "SetEquiv(A, A).conclude_via_reflexivity()"
   ]
  },
  {
   "cell_type": "code",
   "execution_count": 15,
   "metadata": {},
   "outputs": [
    {
     "data": {
      "text/html": [
       "<span style=\"font-size:20px;\"> <a class=\"ProveItLink\" href=\"../__pv_it/demonstrations/5897e4229ec5784d8377c59129fca20dbe50307f0/proof.ipynb\" style=\"text-decoration: none\">&nbsp;&#x22A2;&nbsp;&nbsp;</a><a class=\"ProveItLink\" href=\"../__pv_it/demonstrations/dfc10b85f24f63dcaca1a403282e3ec47e8b34dd0/expr.ipynb\"><img src=\"data:image/png;base64,iVBORw0KGgoAAAANSUhEUgAAAKUAAAAVBAMAAADVzzOcAAAAMFBMVEX///9ERETMzMxUVFSYmJgQ\n",
       "EBDc3NxmZmYiIiJ2dnaqqqoyMjKIiIi6urru7u4AAAB85a56AAAAAXRSTlMAQObYZgAAAAlwSFlz\n",
       "AAAOxAAADsQBlSsOGwAAAnRJREFUOMuNVU1oE0EU/pJtNtmQjqFeRRcExZP1oKgttKgHD4IR1JPg\n",
       "SlGrCDanDfTQgGBrD3apCooFcyp6qVFvQmEpVRCl5uJRWSjeCltEPaS1cWZ2drPZ2U07h/l5875v\n",
       "3r73vgQA+Y7EcduIMXYBqPPe+vlHMmf6iCMbuwH272VzfqvDeHO8L3xM9XuhHZ2mcwEyQDXf6OHz\n",
       "bjZp1Q6XIl40Qmdxm1s6awEKZMA1aP/C56eyi2IgU5I5l0HeAQdjOI8Bl7bhzGxB+Stz0gwob3vv\n",
       "x3BedTBkbBNnFcovmZN+OL7+acRwHgeG9FhO9cRH27fm1sVmblnvIHBCz4zM3QnsM/77X04Jzmyd\n",
       "Tt+MVFDNw4J9tJYtolCS2oUBei9jn99l6U1R3mmUgQ9se32YtspFZIOA7on1ATI21CbfV6bY8G4Y\n",
       "4OcwKsF39YvVwhXgbo1+xCJ7ep1ZRBhFsXqBr76PhMkBE+xJMcpineCBk4Ea0mW6zRTh+l152u8A\n",
       "j/t5IyotBrgA4ndljwiT2nhSF4VSXBvnxU3ewg2+ce0YlQlpkU30+JV8BZX3EvHS+toRZXRrGMgb\n",
       "hNkOASu8wrto2hrQSlI+KYA0odTnuVvaQsHhyN+0dMATvzVSdn4yC5cWVJ00zSrZ8PKq6ZFmDHpp\n",
       "D16OjXG3UdOscCTL62yoP8ng7MgScg9p8VqtVh1TLIJnZ1aQxLn66cCgzt1mWq0NjoT2+Jwj62jB\n",
       "3+SdiI4gS6vDbSFRm1YAw444NRnpcbaVQgJ5rnWIJjLagDUZiXEuqWbgHFy0XahgpP+HpuTWRlJF\n",
       "8l/2k8l/Bbfi7roA1EdUmv8B+h6z1hZr4csAAAAASUVORK5CYII=\n",
       "\" style=\"display:inline;vertical-align:middle;\" /></a></span>"
      ],
      "text/plain": [
       "|- {a, 2, c} equiv {a, 2, c}"
      ]
     },
     "metadata": {},
     "output_type": "display_data"
    }
   ],
   "source": [
    "SetEquiv(Set(a, two, c), Set(a, two, c)).conclude_via_reflexivity()"
   ]
  },
  {
   "cell_type": "code",
   "execution_count": 16,
   "metadata": {},
   "outputs": [
    {
     "data": {
      "text/html": [
       "<span style=\"font-size:20px;\"> <a class=\"ProveItLink\" href=\"../__pv_it/demonstrations/64da4546f1b4c2d9361872e0e463bd8ec12444cf0/proof.ipynb\" style=\"text-decoration: none\">&nbsp;&#x22A2;&nbsp;&nbsp;</a><a class=\"ProveItLink\" href=\"../__pv_it/demonstrations/46c24c040f1ff52567a571523e000f66927eb3ca0/expr.ipynb\"><img src=\"data:image/png;base64,iVBORw0KGgoAAAANSUhEUgAAADoAAAAPBAMAAABHIsEFAAAAMFBMVEX///+IiIiqqqpmZmbMzMx2\n",
       "dnbu7u66urpUVFTc3NwiIiJEREQQEBAyMjKYmJgAAAA9S0TaAAAAAXRSTlMAQObYZgAAAAlwSFlz\n",
       "AAAOxAAADsQBlSsOGwAAAO5JREFUGNNjeHt6/63TDxhQAd+d3X/X7AOxNsxgqHidAGKx9SwCkowg\n",
       "JjdnA3vfNpDsVAZulgaQEJfIqwAGBg6IbADDBg+ILPOECyAhOQa2GwwMzjBZS16Y7AaQENAAjivs\n",
       "K+Gy3BBZjjSwyUBjGeT/FMBk2zIgst66E+DOBbsPJMuy6SZIds6tX2JoPgLKnl2/MAGs910uRMhq\n",
       "FQisgMjGPQO7dMNU7rwHmHoDtr2DyLIYbMMi68wNMZnBZDYWWWbPDRDZbMYHGPYGsG2QA8lOZuB7\n",
       "sB1DrwHDO+4CBmAc7WTYfV8BPY5+T+De+wkAPyRYCUhrZe0AAAAASUVORK5CYII=\n",
       "\" style=\"display:inline;vertical-align:middle;\" /></a></span>"
      ],
      "text/plain": [
       "|- Real equiv Real"
      ]
     },
     "metadata": {},
     "output_type": "display_data"
    }
   ],
   "source": [
    "# We can use standard pre-defined sets as well\n",
    "SetEquiv(Real, Real).conclude_via_reflexivity()"
   ]
  },
  {
   "cell_type": "code",
   "execution_count": 17,
   "metadata": {},
   "outputs": [
    {
     "data": {
      "text/html": [
       "<span style=\"font-size:20px;\"> <a class=\"ProveItLink\" href=\"../__pv_it/demonstrations/99bab3b99bb58a81a64ad686fa2d1d101beb82200/proof.ipynb\" style=\"text-decoration: none\">&nbsp;&#x22A2;&nbsp;&nbsp;</a><a class=\"ProveItLink\" href=\"../__pv_it/demonstrations/0d59b9e21d47a5dd19a4e89afcb654f5fe4c0bc60/expr.ipynb\"><img src=\"data:image/png;base64,iVBORw0KGgoAAAANSUhEUgAAAKQAAAAVBAMAAAA6DViiAAAAMFBMVEX///9ERETMzMxUVFSYmJgQ\n",
       "EBDc3NxmZmYiIiJ2dnaqqqoyMjKIiIi6urru7u4AAAB85a56AAAAAXRSTlMAQObYZgAAAAlwSFlz\n",
       "AAAOxAAADsQBlSsOGwAAAopJREFUOMt9VU1oE0EU/pI0v3YngogXa4OCXjzUVg9tc9iDB29WFPGg\n",
       "GAgiFcEUhBY8NKBo60GCIq3oYU/Fkwn2IAiVpVVBFMxF9KJdKeJF2CIqmGr1zc/mZ2c3A5n55ud9\n",
       "782b72UBsI8Ia4mFoNUuBhcKYnj9KfQE9uwKWOxiED3gUJ/Z7Ihge1mh8bk+6rep5UM3qe8VuNPg\n",
       "8ynvRvcm6kBkgGC63OFnS0mRlFC1gHk5Sy0fqQAxgX0GT9T4FZmG2vSdyFpy7G3ArTUpn4MtAvuC\n",
       "KBtqfGuxjWDKVUeOxhlkW5R0ndhj43oApeGl4V0dIZTzLVg1m9MKD+NnPYCybZb50U6ZGH5py/XF\n",
       "NyOe/2udHuC0kRQfXFS5z6+oVOGDqTaTNR51ISIvwDYcV2orujJI/QtdKNzAOIl+6cF9xn7J9f1D\n",
       "OXqCMULniJudQLLsKSRuexcn95dkCFMzvF0VmBt8MTGlDjk47V2cXipBv+ISd7yOVMULIVtRR+IU\n",
       "OBu1fEEKg2lgVk6vAL+9rbMU+NpTRCdojG+FK3NPzKuCJJpDhOtsSSsQbnAM7K+czsKQMtoN9JPl\n",
       "faV318bRpiynRZKym4Ky6mi5JAP2Bz3rniyT8hX+OZxSlBZ/I9fCaKbAOFOO8spBfEBc/C60XJIB\n",
       "ayBWWxAS+M7zysFxcfH0mKKM2JkbSVEtMTNSEqDHbNelX4k78bBU4tWCg9gBAQ536pLlbxeXkbpF\n",
       "aPgyBMD7yT6EUq692pvPYYY/xxw55sCY5H8b/up5pIEwSqUaxw80yooGulOmNSA3hd5l5dh+IGTn\n",
       "by2DbxqQtZhoNM9qgJeV/vVoGtga4M9P7fxI+LfnjhWw2sVgnLb+A//qzgABo9V0AAAAAElFTkSu\n",
       "QmCC\n",
       "\" style=\"display:inline;vertical-align:middle;\" /></a></span>"
      ],
      "text/plain": [
       "|- {a, b, 3} equiv {a, b, 3}"
      ]
     },
     "metadata": {},
     "output_type": "display_data"
    }
   ],
   "source": [
    "# in fact, reflexivity is captured generally in the conclude()\n",
    "# method, allowing Prove-It to prove() reflexive set equivalence claims\n",
    "SetEquiv(Set(a, b, three), Set(a, b, three)).prove()"
   ]
  },
  {
   "cell_type": "code",
   "execution_count": 18,
   "metadata": {},
   "outputs": [
    {
     "name": "stdout",
     "output_type": "stream",
     "text": [
      "AssertionError: Proof step failed:\n",
      "Attempting to instantiate |- forall_{A, B | A = B} (A equiv B) with {A: A, B: B}:\n",
      "Unsatisfied condition: A = B. For debugging purposes, this is accessible via Instantiation.unsatisfied_condition with applicable assumptions in Instantiation.condition_assumptions.\n"
     ]
    }
   ],
   "source": [
    "# If the 'self' object on which we call the conclude_via_reflexivity() method\n",
    "# is not actually reflexive (i.e. the lhs and rhs are not literally the same),\n",
    "# we get an error:\n",
    "try:\n",
    "    SetEquiv(A, B).conclude_via_reflexivity()\n",
    "    assert False, \"Should not make it this far!\"\n",
    "except ProofFailure as the_error:\n",
    "    print(\"AssertionError: {}\".format(the_error))"
   ]
  },
  {
   "cell_type": "code",
   "execution_count": 19,
   "metadata": {},
   "outputs": [
    {
     "data": {
      "text/html": [
       "<span style=\"font-size:20px;\"><a class=\"ProveItLink\" href=\"../__pv_it/theorems/f499420995aa101afb63b56c7e1317b0571a23ed0/expr.ipynb\"><img src=\"data:image/png;base64,iVBORw0KGgoAAAANSUhEUgAAADsAAAAPBAMAAACo4Ko7AAAAMFBMVEX///8AAAAAAAAAAAAAAAAA\n",
       "AAAAAAAAAAAAAAAAAAAAAAAAAAAAAAAAAAAAAAAAAAAv3aB7AAAAD3RSTlMAIs1UmauJMnZmRLsQ\n",
       "3e++988cAAAACXBIWXMAAA7EAAAOxAGVKw4bAAAA0ElEQVQY02NgAAEhBrxAH0OEc//X0KDtEDbz\n",
       "f0wdfBsYGOILwEyWeAEMafkGBob1DmBmYn4BhvR8oND8BhCLsaHfAEM6Hoj1wIayMNhPwJB+zcBw\n",
       "9DqYtZihPgFE+94FgatgMfbfHa2aEIUODPIB6Jo5PjIw2IHN5NjiEr8BXZr7AQMD23cQ6wQDA/8F\n",
       "dGl+oHmcPyBmM/A+QLe7Hmgw6y8ggwvIYPqArrsf6Kd6BSBDDmTTR3RpPaC+RwcYGE7/12Fg3v8p\n",
       "AVU2+n9oqDYwrAC4pDgIOe/RLAAAAABJRU5ErkJggg==\n",
       "\" style=\"display:inline;vertical-align:middle;\" /></a> <a class=\"ProveItLink\" href=\"../__pv_it/demonstrations/8b6fc807039386335f415ba6b6788e581a67ce1c0/proof.ipynb\" style=\"text-decoration: none\">&nbsp;&#x22A2;&nbsp;&nbsp;</a><a class=\"ProveItLink\" href=\"../__pv_it/theorems/2ee8dc2018014830ed832e2e3d65a4df89f102480/expr.ipynb\"><img src=\"data:image/png;base64,iVBORw0KGgoAAAANSUhEUgAAADsAAAAPBAMAAACo4Ko7AAAAMFBMVEX///8QEBAiIiLu7u5ERES6\n",
       "urqYmJiIiIjMzMx2dnZUVFRmZmaqqqoyMjLc3NwAAABb1yYoAAAAAXRSTlMAQObYZgAAAAlwSFlz\n",
       "AAAOxAAADsQBlSsOGwAAAPpJREFUGNNjYACBtwx4wX0wybxQB0iyg9ls/r9WrfWAyPL8B1NMFUkT\n",
       "GBi4IGKMDgwM6xvATO71D0BUGQPzLQaGboj0+wIGhvgNYOa8+WBlC4Bab7DqQaTzgUL5BSAWX0H9\n",
       "ARANNJmh/mMARHo9EF8EG8rNcD4B7koDKC3CwGClAWbFMPRPQPcLx5fyqmsQ5gaG9wtA9CYlENAC\n",
       "i7H/Y2A4CDaT3Xv3egd03SwCDAycP0AscwYGfgV0aX6geWzfIWYzMAmgS/cDDeb6CmSwAhm8H9Dt\n",
       "rgf6qf8CkPEQZNM/dN0XgfpkgZ40+X+Zgcf/L5rPlvxfteoKMKwAotBAF+FrKrQAAAAASUVORK5C\n",
       "YII=\n",
       "\" style=\"display:inline;vertical-align:middle;\" /></a></span>"
      ],
      "text/plain": [
       "{A = B} |- A equiv B"
      ]
     },
     "metadata": {},
     "output_type": "display_data"
    }
   ],
   "source": [
    "SetEquiv(A, B).conclude_via_reflexivity(assumptions=[Equals(A, B)])"
   ]
  },
  {
   "cell_type": "markdown",
   "metadata": {},
   "source": [
    "### Testing the `SetEquiv.conclude_as_folded()` method<br/>\n",
    "\n",
    "The `conclude_as_folded()` method has the following format:<br/>\n",
    "\n",
    "<div style=\"width: 50%; border: 1px solid green; padding: 5px; margin: 20px; background-color: gainsboro; font-family:courier\">conclude_as_folded(**defaults_config)</div>\n",
    "\n",
    "and is described as attempting to conclude `A set_equiv B` from $\\forall_{x} [(x \\in A) = (x \\in B)]$. This is somewhat confusing, since the method is called on the `SetEquiv(A, B)` object itself."
   ]
  },
  {
   "cell_type": "code",
   "execution_count": 20,
   "metadata": {},
   "outputs": [
    {
     "data": {
      "text/html": [
       "<span style=\"font-size:20px;\"><a class=\"ProveItLink\" href=\"../__pv_it/axioms/24808a060d5765eabdffd0b8f7717d720b4d994d0/expr.ipynb\"><img src=\"data:image/png;base64,iVBORw0KGgoAAAANSUhEUgAAANUAAAAVBAMAAAAjhrYEAAAAMFBMVEX///+IiIgiIiIQEBB2dnbu\n",
       "7u5ERETMzMzc3NwyMjK6urpmZmaYmJiqqqpUVFQAAAB6qHgnAAAAAXRSTlMAQObYZgAAAAlwSFlz\n",
       "AAAOxAAADsQBlSsOGwAAAvhJREFUSMeNVU1oE0EU/pImzeZnY3JQRK0Ne1AUlCgqIh70Il6q8WBB\n",
       "BGkqQqlIi3o20YLgRddDxINipXrwINQi+HuoF1GKtKgXUbAIFgqSxlNTlNb3djabmUl2ceCbTN58\n",
       "M2/me2/eAq2tTDDg34z/tCkbltvOhGao6/Jbdw1IZFrNXUG+7ruY5T/f5JnPBPOA37p7hA0tVh/+\n",
       "25Vq9dYwQpNw8JJtt6X5qE3dCT9X5gp18YJu9uPvAdKLQAUOLrHYfdJ0kg6A136+kgskfGpcN/vw\n",
       "jd+k+B9gCg74jJEZab6Du7wSwH5rS2N8+Ogw9bv1TRU+1liW7QxSdKcU+esoOEjRNeIy8QsrZUuG\n",
       "xM2mZEamm891R1dW5uPR6sYoXaPN9xImBXZa1i6Z+ZSVolBHsz8v9jiZJ0Unie8s8RFdWZlvVJoa\n",
       "9SH6g4SIzAo8A87I6/jMfIYkNmYm9MR5jBJn3HseT1jctkPnx5tPqVTMzvPZUrbAdRizsq9thDAJ\n",
       "9Q7ThV9skPUZxw0mf9LupfCliHSXYe5njfMCnYXIqLxuH9+dLMN44fyPkcjWJjdLzr5a4Jwtab5k\n",
       "Pi7wdUVmnyZwMsVqAmZGSQ3PF7BDvDfpQRwDVuXod6yNrwYfvU37MmGaqkwiLwD7DXXZ5+vLqoZI\n",
       "1HGcDTlZQoR5yUctXgo/7NFjf6lboHOYOQH0UN6EynNx95EVCZ0ZRAfTeTiVJ9vMfk7dGtce7V4K\n",
       "P+SVy1Cd/C1xbvQJYISinUIx5hI4nyk/zcWT+YTjPu699BHetu6+C7kpfNxtmOOkwVjFfRMMpLkS\n",
       "oN4gnOfL5xB9kvn6QQRs7qEbiJUKzKElWrNV86XwcWpQvMj00HJ1/pwj66iAy843vkBhdr1Z3ilx\n",
       "qFmjRPXI6TVK4eNBv6UUElxxIdSJ2El36BTWqaDPkSjPSgvmO6XZK8/JdQe9IjbAUSkHLb3aYgnm\n",
       "83dE+ZZ4rVd7VK1toMUSzOeTtD+NwTl7OWBpqM2yID7WCvwDMVG0gfvUpAEAAAAASUVORK5CYII=\n",
       "\" style=\"display:inline;vertical-align:middle;\" /></a> <a class=\"ProveItLink\" href=\"../__pv_it/demonstrations/7ac905d4507d13266b6e508712dfef539e4c30ed0/proof.ipynb\" style=\"text-decoration: none\">&nbsp;&#x22A2;&nbsp;&nbsp;</a><a class=\"ProveItLink\" href=\"../__pv_it/theorems/2ee8dc2018014830ed832e2e3d65a4df89f102480/expr.ipynb\"><img src=\"data:image/png;base64,iVBORw0KGgoAAAANSUhEUgAAADsAAAAPBAMAAACo4Ko7AAAAMFBMVEX///8QEBAiIiLu7u5ERES6\n",
       "urqYmJiIiIjMzMx2dnZUVFRmZmaqqqoyMjLc3NwAAABb1yYoAAAAAXRSTlMAQObYZgAAAAlwSFlz\n",
       "AAAOxAAADsQBlSsOGwAAAPpJREFUGNNjYACBtwx4wX0wybxQB0iyg9ls/r9WrfWAyPL8B1NMFUkT\n",
       "GBi4IGKMDgwM6xvATO71D0BUGQPzLQaGboj0+wIGhvgNYOa8+WBlC4Bab7DqQaTzgUL5BSAWX0H9\n",
       "ARANNJmh/mMARHo9EF8EG8rNcD4B7koDKC3CwGClAWbFMPRPQPcLx5fyqmsQ5gaG9wtA9CYlENAC\n",
       "i7H/Y2A4CDaT3Xv3egd03SwCDAycP0AscwYGfgV0aX6geWzfIWYzMAmgS/cDDeb6CmSwAhm8H9Dt\n",
       "rgf6qf8CkPEQZNM/dN0XgfpkgZ40+X+Zgcf/L5rPlvxfteoKMKwAotBAF+FrKrQAAAAASUVORK5C\n",
       "YII=\n",
       "\" style=\"display:inline;vertical-align:middle;\" /></a></span>"
      ],
      "text/plain": [
       "{forall_{x} ((x in A) = (x in B))} |- A equiv B"
      ]
     },
     "metadata": {},
     "output_type": "display_data"
    }
   ],
   "source": [
    "SetEquiv(A, B).conclude_as_folded(assumptions=[Forall(x, Equals(InSet(x, A), InSet(x, B)))])"
   ]
  },
  {
   "cell_type": "code",
   "execution_count": 21,
   "metadata": {},
   "outputs": [
    {
     "data": {
      "text/html": [
       "<span style=\"font-size:20px;\"><a class=\"ProveItLink\" href=\"../__pv_it/demonstrations/991a84bd4dc7658ad34707795782fd12b92642d80/expr.ipynb\"><img src=\"data:image/png;base64,iVBORw0KGgoAAAANSUhEUgAAAT8AAAAVBAMAAADCyPR8AAAAMFBMVEX///8AAAAAAAAAAAAAAAAA\n",
       "AAAAAAAAAAAAAAAAAAAAAAAAAAAAAAAAAAAAAAAAAAAv3aB7AAAAD3RSTlMAq1RmmUTNIjK7EInv\n",
       "3XZ/CtNrAAAACXBIWXMAAA7EAAAOxAGVKw4bAAAEM0lEQVRIx31Wb4hUVRQ/8+bNv/dmxlVD2Ax5\n",
       "YPTBEkeNoi+5sZsllg1BX2RrR0WEPuRbEUNSmqAPkVjbhyik7AUrqIiz+iGKRZ2QvhjqKCaoDDzR\n",
       "UhYZFwVX9st2zzn3zbx333174Ldz9p17f+/3zj333AsQN1dCY0eqkGS7cEoOEvjiZn0wP1WyirLD\n",
       "0IW2e4ms+X4Ry/h6Po39t3l+qo+A0YdPlofDL0pobBXqOxiI3L3+R3ZykxtEZgtIdSc+Sc9lzEbS\n",
       "+VMr/C9SlSuMN/HBjvDYGkNnZ0TomZ1SYG4MzvGKj4PxCMDGd2RjKU7gsiOKIDsQC37M+IJf1TOz\n",
       "wkgQCPBQaki5UGyS99CxnkjW9IA6J4FLEbjAiQVfZuAn2+FoUSJURD+3r2sEFmchNUPecBUCgXBB\n",
       "VZLApQgc8WICix4hLT4wGw6+ING1zCeePoMtSD0NKupx8MptqsAELkXgmXh6sxXGxXb773Bwo4TV\n",
       "efbAaXywx9MvsbDStHQ+rASvPKUKRK6Tt49OOlEuGp1bek9u+y2dRTJw9k6dg3Yf422AQ2HCbRIm\n",
       "3PbfVXbQekXgt5L+m4V1sXpUkK9Q3bXJ+gK+gfIysxXlMnHvDLsF3szWE6/BTW+/Y44xVbrGGIVc\n",
       "X1jgVYlXYZ23GB/0dmHuvCLwSrdpiF2ce4TeS2oGBVfaTc+mKlGufeJ/6zywbmw6Rf7YW+gQldFk\n",
       "FDw7cjz8JVHnfEFe1ED7BulbUo0KNHu7/7J4+OtWTKoqUHDlOV9hrtHtOH8aShNBPheQZ3JGkSo/\n",
       "zTD8LOgEAlzi7PdUfHkoKnC1/P0K4BdRYr+h/mGNQAjS0+PKb8A9OgYNTo7QOUJFWuQRSJVpMqD2\n",
       "uvjTeeuuG11iyMzAcfwNbbfvIgKNCfiUnDkPBfLZsFKtQeIacS0vyoWHRcOHdd02+B4NaPjdY8Zo\n",
       "MeC0aNdltz8rm+FhhvV9qgmU9Y6mURPZAYAp8v6kJbZpk7ymZlBwHas+BzZEuXCjNhxYYrgWCqyL\n",
       "eiRHlGaVqdJjDNgnviUNh/Ny5imG8XS8mSHNWScq8JwLeHBA7trQUIu8taE+uFEVKLhWff0OvA9R\n",
       "Lhxd8I1rJjREfaYqhQFyRFnbss2YEwxI1XHCTDDzIMPa5D+/hgunf3NY4MLLWyrQFokrzc3N1cjL\n",
       "DOFlgQX+owoUXOMdY9BRuHC0tez30ftQuim8pYNADkyunZJUpSpDFm0zuMqV6oxQ+/8jctRRkXhx\n",
       "j1tvSxWYwBU6SVbEHArul+CuZNdM6eJxHz/yFYE2aLyW9mqQwBUSOBFzKDgowX3o37NTgf+DhMYe\n",
       "BM5JiHvU6/bGJ+m5+NyhZfdVh6jwihW5ZnXtmITGPg9qvHdx7nknKno1ei4+d0hqzCGqgsvQTPUZ\n",
       "utAbTuI9/TM87cuunk9juxfNT3WP8T8nHlOR0Emz1gAAAABJRU5ErkJggg==\n",
       "\" style=\"display:inline;vertical-align:middle;\" /></a> <a class=\"ProveItLink\" href=\"../__pv_it/demonstrations/d5e96527ab1528e1e88401121a3d07831cb9cfe80/proof.ipynb\" style=\"text-decoration: none\">&nbsp;&#x22A2;&nbsp;&nbsp;</a><a class=\"ProveItLink\" href=\"../__pv_it/demonstrations/3976b7d219879b8bb54791446332d0e34f693bc70/expr.ipynb\"><img src=\"data:image/png;base64,iVBORw0KGgoAAAANSUhEUgAAAKMAAAAVBAMAAADY0UPbAAAAMFBMVEX///8AAAAAAAAAAAAAAAAA\n",
       "AAAAAAAAAAAAAAAAAAAAAAAAAAAAAAAAAAAAAAAAAAAv3aB7AAAAD3RSTlMAEER2zVSJ3Zki72ar\n",
       "MruaaVGaAAAACXBIWXMAAA7EAAAOxAGVKw4bAAACWklEQVQ4y4VVTWgTQRh9s2s3TZO0C94kWPXk\n",
       "saB40IqxJw8q8aL0lICHFn9AD7WIQnMoJKdUEFSkqOhBVKgBD56EQBWxRZqjghfrxYOgMYmgInXm\n",
       "m5/s7uy232Hy5uO9N9/OfJkBwPYgKdKTcdlkgebv351oiU+fY5KbCCR/oM2H3GW9Tu1kS6Jb0+t8\n",
       "/KYKW5nhowsjMLHzcciT+N4lID+vaffg/ZQmFZSKwJRMpw6/LANZaEEgjoVmU4bhast3wFMCbg+j\n",
       "BWN5COw48CHOsreV5XMfazcEcB5ipG/Z5CWecK7GWDrtrSzfAmtqM1FqGEv+1TjyZ1eMZaTmGEse\n",
       "c3r9azCWFH7AZPHsTTnbtjxeVPl9rxR/sBC2zHXU7/h7Ph60G0UInCf4LlcYPcp+y16ZQV3x7zbC\n",
       "lqmmRuLE78sSqrMirkMLdjRQVSQfj6SuLIDgL04gbFk3aIgn2etipEgSLABX5HQe+EVggaoW/Fzd\n",
       "D1lmVJG5FoZ5f3gT0e8mwRKYbF/u7Mg2WpIbKvjDzZDlaaSpiUbaZFnyrb3kAtZB5oduy0HSso7e\n",
       "h8CJM6qhDNcXaKhJH34O1l5yAeshW5ikFvgn9lWAv/zQFJ8sPX5q4s+C27ValVCmEezLaCd+wZlK\n",
       "hXX5bBVfQYCfwcVAX2ZXuqtIiatjbmOjK9He2joSLfMHPi63MMury0/zhQXwzr/wg61OcQo2SrCU\n",
       "MeBHQdSyDBttaulZQPLdB/qyHoOFRNtFwwiw3QKSn9a3k9sX9d+EZzGvgbnOxiyg+HfeJL89F4ox\n",
       "2WQB8f8DUvWl2fbXT90AAAAASUVORK5CYII=\n",
       "\" style=\"display:inline;vertical-align:middle;\" /></a></span>"
      ],
      "text/plain": [
       "{forall_{x} ((x in {1, 2, 3}) = (x in {a, b, c}))} |- {1, 2, 3} equiv {a, b, c}"
      ]
     },
     "metadata": {},
     "output_type": "display_data"
    }
   ],
   "source": [
    "SetEquiv(Set(one, two , three), Set(a, b, c)).conclude_as_folded(\n",
    "        assumptions=[Forall(x, Equals(InSet(x, Set(one, two, three)), InSet(x, Set(a, b, c))))])"
   ]
  },
  {
   "cell_type": "code",
   "execution_count": 22,
   "metadata": {},
   "outputs": [
    {
     "data": {
      "text/html": [
       "<span style=\"font-size:20px;\"><a class=\"ProveItLink\" href=\"../__pv_it/demonstrations/a8c95fff12bb5be1270efbf5780f416caab66fdf0/expr.ipynb\"><img src=\"data:image/png;base64,iVBORw0KGgoAAAANSUhEUgAAANMAAAAVBAMAAAAumMZDAAAAMFBMVEX///+IiIgiIiIQEBB2dnbu\n",
       "7u5ERETMzMzc3NwyMjK6urpmZmaYmJiqqqpUVFQAAAB6qHgnAAAAAXRSTlMAQObYZgAAAAlwSFlz\n",
       "AAAOxAAADsQBlSsOGwAAAwlJREFUSMeNVU1oE1EQnvxsNsnuxs1BEX9q2IOioETRHjwpiHhpTQ+N\n",
       "SEW2BaXUQ4t/RxuNFIpQY6HgodKKevCgxirUnx7qpViqWNRLUWhF7EmoCGI81TdvXjZvfxId+Jb3\n",
       "ZuftzHxvZhbALwWBehL/T92/vxeaJwTLIEDS9Ks3B5jONvcON08D3AbCEio/yxYfBYJljGGTT2sc\n",
       "CLK1h+DhTA5CzB3iBepuSu+VEiFYjFX2SOS86uOBxvZViKkslxHguIRE29J7bZoQLNoKY10ve9VT\n",
       "9VxpBRb1HHBghFH5ZiIC0uV1Wdur6yNH+9hzn/ejWddunWWVHFcsjUiOQ2cJJGS7BQFHkjdqfMXN\n",
       "LRjWqJdWF+H319aySrUzAhPThD2WtVc2fCrQ1nTsEM92ULoZDRaR21YvrawqlPS38y08nBGJwIsL\n",
       "jPDoEmES4JR8bFSgHPqiZbw18wD6sdZmcT1hoezCJYasQZM5wTdOD9nF4Z+YoV4iDEF8SXa1k6AX\n",
       "9F8pXh0yOWW4jsYfPFmFWfqv4V3uO3cllcUbXppGlhDLRcflY/sJKmjkQ2UMW1tFgZx5uYLV2u9x\n",
       "FWFf6IPntDmHydrkKnYCo1V/EAzTVRVVV+w8DQVF6oQ2gDVI6p0AVwC7aZOXslLLeDnJLAFKr9gj\n",
       "/WxjwUUgwKOCwgsiI/MHYTzy3nNXSCAkK9DON3JfTQ4ggRkCtLCKCRWWE6K5Ogn58a8Q5Yp0reyx\n",
       "aBkRMOPJKmaC0pPKAh9PIVNylceJpNsEKLKL1qFTFe9bCYsXnrB649fsNHgRv1oRzSALq2Tjd0c2\n",
       "SZa3HFfXWNv2UC8gIIX9D5Xq+7OEjrQxRSeV5XviElZHwOj9w87s8LhSM6A8Nj+9pd3Jnlx1snfD\n",
       "6bF5CLOrDDu1p2arf5xwH0EaF4drg4lmRsY7mLa5dne7LNf4uCJA1ERLmljiLPXPU/dw8E3juYb2\n",
       "U/JA1jYcrA4u6BaoLwM+TazhX9v2/Dwcybt6I0j8gSh2A3OMIziWuEmoK6GAY5cb2K8n/AWWbLql\n",
       "7ptrigAAAABJRU5ErkJggg==\n",
       "\" style=\"display:inline;vertical-align:middle;\" /></a> <a class=\"ProveItLink\" href=\"../__pv_it/demonstrations/1acc30e8a53bfaf39d059f20e9c8ffed17dab57b0/proof.ipynb\" style=\"text-decoration: none\">&nbsp;&#x22A2;&nbsp;&nbsp;</a><a class=\"ProveItLink\" href=\"../__pv_it/demonstrations/91bd03a46f5c443253f7d212b5997bddfbe53e5b0/expr.ipynb\"><img src=\"data:image/png;base64,iVBORw0KGgoAAAANSUhEUgAAADoAAAAPBAMAAABHIsEFAAAAMFBMVEX///8QEBAiIiLu7u5ERES6\n",
       "urqYmJiIiIjMzMx2dnZUVFRmZmaqqqoyMjLc3NwAAABb1yYoAAAAAXRSTlMAQObYZgAAAAlwSFlz\n",
       "AAAOxAAADsQBlSsOGwAAAOlJREFUGNNjYACBtwyogO2iy19FNxjvPphkXqgDJNlBTBa+BazLnCGS\n",
       "PP/BFFNF0gQGBi6I7AQGhy6ILPf6ByCqjIH5FgNDN0x2Hy9Edt78BhC1AKjxBqseXJYFLMlXUH8A\n",
       "RAONZaj/GACTXWwFMZjhfALcuQYMUFkOn3tgZgxD/wQ0L7HwyeqrQxRuYHi/AERvUgIBLYjstOQL\n",
       "YEl2793rHTD0TnBOA7PMGRj4FTBlu1kMIAYzMAlgynL3gQxkBbqX9wOGvROYHcqAjIcgzj8MvRsY\n",
       "0lgCGEz+X2bg8f87AT2Ovjxg8f0DABdSPBwu5CGmAAAAAElFTkSuQmCC\n",
       "\" style=\"display:inline;vertical-align:middle;\" /></a></span>"
      ],
      "text/plain": [
       "{forall_{x} ((x in A) = (x in Real))} |- A equiv Real"
      ]
     },
     "metadata": {},
     "output_type": "display_data"
    }
   ],
   "source": [
    "# We can use standard pre-defined sets as well\n",
    "SetEquiv(A, Real).conclude_as_folded(assumptions=[Forall(x, Equals(InSet(x, A), InSet(x, Real)))])"
   ]
  },
  {
   "cell_type": "code",
   "execution_count": 23,
   "metadata": {},
   "outputs": [
    {
     "name": "stdout",
     "output_type": "stream",
     "text": [
      "InstantiationFailure: Proof step failed:\n",
      "Attempting to instantiate |- forall_{A, B | forall_{x} ((x in A) = (x in B))} (A equiv B) with {A: {1, 2, 3}, B: {a, b, c}}:\n",
      "Unsatisfied condition: forall_{x} ((x in {1, 2, 3}) = (x in {a, b, c})). For debugging purposes, this is accessible via Instantiation.unsatisfied_condition with applicable assumptions in Instantiation.condition_assumptions.\n"
     ]
    }
   ],
   "source": [
    "# We must already know or assume that the membership claims are equal\n",
    "try:\n",
    "    SetEquiv(Set(one, two , three), Set(a, b, c)).conclude_as_folded()\n",
    "    assert False, \"Should not make it this far!\"\n",
    "except InstantiationFailure as the_error:\n",
    "    print(\"InstantiationFailure: {}\".format(the_error))"
   ]
  },
  {
   "cell_type": "markdown",
   "metadata": {},
   "source": [
    "### Testing the `SetEquiv.unfold()` method<br/>\n",
    "\n",
    "The `unfold()` method has the following format:<br/>\n",
    "\n",
    "<div style=\"width: 50%; border: 1px solid green; padding: 5px; margin: 20px; background-color: gainsboro; font-family:courier\">unfold(**defaults_config)</div>\n",
    "\n",
    "and from A set_equiv B attempts to derive $\\forall_{x} [ (x \\in A) = (x \\in B)]$."
   ]
  },
  {
   "cell_type": "code",
   "execution_count": 24,
   "metadata": {},
   "outputs": [
    {
     "data": {
      "text/html": [
       "<span style=\"font-size:20px;\"><a class=\"ProveItLink\" href=\"../__pv_it/theorems/2ee8dc2018014830ed832e2e3d65a4df89f102480/expr.ipynb\"><img src=\"data:image/png;base64,iVBORw0KGgoAAAANSUhEUgAAADsAAAAPBAMAAACo4Ko7AAAAMFBMVEX///8QEBAiIiLu7u5ERES6\n",
       "urqYmJiIiIjMzMx2dnZUVFRmZmaqqqoyMjLc3NwAAABb1yYoAAAAAXRSTlMAQObYZgAAAAlwSFlz\n",
       "AAAOxAAADsQBlSsOGwAAAPpJREFUGNNjYACBtwx4wX0wybxQB0iyg9ls/r9WrfWAyPL8B1NMFUkT\n",
       "GBi4IGKMDgwM6xvATO71D0BUGQPzLQaGboj0+wIGhvgNYOa8+WBlC4Bab7DqQaTzgUL5BSAWX0H9\n",
       "ARANNJmh/mMARHo9EF8EG8rNcD4B7koDKC3CwGClAWbFMPRPQPcLx5fyqmsQ5gaG9wtA9CYlENAC\n",
       "i7H/Y2A4CDaT3Xv3egd03SwCDAycP0AscwYGfgV0aX6geWzfIWYzMAmgS/cDDeb6CmSwAhm8H9Dt\n",
       "rgf6qf8CkPEQZNM/dN0XgfpkgZ40+X+Zgcf/L5rPlvxfteoKMKwAotBAF+FrKrQAAAAASUVORK5C\n",
       "YII=\n",
       "\" style=\"display:inline;vertical-align:middle;\" /></a> <a class=\"ProveItLink\" href=\"../__pv_it/demonstrations/f43f31a1102e22ca25090d44d0bc6035c11fe6000/proof.ipynb\" style=\"text-decoration: none\">&nbsp;&#x22A2;&nbsp;&nbsp;</a><a class=\"ProveItLink\" href=\"../__pv_it/axioms/24808a060d5765eabdffd0b8f7717d720b4d994d0/expr.ipynb\"><img src=\"data:image/png;base64,iVBORw0KGgoAAAANSUhEUgAAANUAAAAVBAMAAAAjhrYEAAAAMFBMVEX///+IiIgiIiIQEBB2dnbu\n",
       "7u5ERETMzMzc3NwyMjK6urpmZmaYmJiqqqpUVFQAAAB6qHgnAAAAAXRSTlMAQObYZgAAAAlwSFlz\n",
       "AAAOxAAADsQBlSsOGwAAAvhJREFUSMeNVU1oE0EU/pImzeZnY3JQRK0Ne1AUlCgqIh70Il6q8WBB\n",
       "BGkqQqlIi3o20YLgRddDxINipXrwINQi+HuoF1GKtKgXUbAIFgqSxlNTlNb3djabmUl2ceCbTN58\n",
       "M2/me2/eAq2tTDDg34z/tCkbltvOhGao6/Jbdw1IZFrNXUG+7ruY5T/f5JnPBPOA37p7hA0tVh/+\n",
       "25Vq9dYwQpNw8JJtt6X5qE3dCT9X5gp18YJu9uPvAdKLQAUOLrHYfdJ0kg6A136+kgskfGpcN/vw\n",
       "jd+k+B9gCg74jJEZab6Du7wSwH5rS2N8+Ogw9bv1TRU+1liW7QxSdKcU+esoOEjRNeIy8QsrZUuG\n",
       "xM2mZEamm891R1dW5uPR6sYoXaPN9xImBXZa1i6Z+ZSVolBHsz8v9jiZJ0Unie8s8RFdWZlvVJoa\n",
       "9SH6g4SIzAo8A87I6/jMfIYkNmYm9MR5jBJn3HseT1jctkPnx5tPqVTMzvPZUrbAdRizsq9thDAJ\n",
       "9Q7ThV9skPUZxw0mf9LupfCliHSXYe5njfMCnYXIqLxuH9+dLMN44fyPkcjWJjdLzr5a4Jwtab5k\n",
       "Pi7wdUVmnyZwMsVqAmZGSQ3PF7BDvDfpQRwDVuXod6yNrwYfvU37MmGaqkwiLwD7DXXZ5+vLqoZI\n",
       "1HGcDTlZQoR5yUctXgo/7NFjf6lboHOYOQH0UN6EynNx95EVCZ0ZRAfTeTiVJ9vMfk7dGtce7V4K\n",
       "P+SVy1Cd/C1xbvQJYISinUIx5hI4nyk/zcWT+YTjPu699BHetu6+C7kpfNxtmOOkwVjFfRMMpLkS\n",
       "oN4gnOfL5xB9kvn6QQRs7qEbiJUKzKElWrNV86XwcWpQvMj00HJ1/pwj66iAy843vkBhdr1Z3ilx\n",
       "qFmjRPXI6TVK4eNBv6UUElxxIdSJ2El36BTWqaDPkSjPSgvmO6XZK8/JdQe9IjbAUSkHLb3aYgnm\n",
       "83dE+ZZ4rVd7VK1toMUSzOeTtD+NwTl7OWBpqM2yID7WCvwDMVG0gfvUpAEAAAAASUVORK5CYII=\n",
       "\" style=\"display:inline;vertical-align:middle;\" /></a></span>"
      ],
      "text/plain": [
       "{A equiv B} |- forall_{x} ((x in A) = (x in B))"
      ]
     },
     "metadata": {},
     "output_type": "display_data"
    }
   ],
   "source": [
    "SetEquiv(A, B).unfold(assumptions=[SetEquiv(A, B)])"
   ]
  },
  {
   "cell_type": "code",
   "execution_count": 25,
   "metadata": {},
   "outputs": [
    {
     "data": {
      "text/html": [
       "<span style=\"font-size:20px;\"><a class=\"ProveItLink\" href=\"../__pv_it/demonstrations/3976b7d219879b8bb54791446332d0e34f693bc70/expr.ipynb\"><img src=\"data:image/png;base64,iVBORw0KGgoAAAANSUhEUgAAAKMAAAAVBAMAAADY0UPbAAAAMFBMVEX///8AAAAAAAAAAAAAAAAA\n",
       "AAAAAAAAAAAAAAAAAAAAAAAAAAAAAAAAAAAAAAAAAAAv3aB7AAAAD3RSTlMAEER2zVSJ3Zki72ar\n",
       "MruaaVGaAAAACXBIWXMAAA7EAAAOxAGVKw4bAAACWklEQVQ4y4VVTWgTQRh9s2s3TZO0C94kWPXk\n",
       "saB40IqxJw8q8aL0lICHFn9AD7WIQnMoJKdUEFSkqOhBVKgBD56EQBWxRZqjghfrxYOgMYmgInXm\n",
       "m5/s7uy232Hy5uO9N9/OfJkBwPYgKdKTcdlkgebv351oiU+fY5KbCCR/oM2H3GW9Tu1kS6Jb0+t8\n",
       "/KYKW5nhowsjMLHzcciT+N4lID+vaffg/ZQmFZSKwJRMpw6/LANZaEEgjoVmU4bhast3wFMCbg+j\n",
       "BWN5COw48CHOsreV5XMfazcEcB5ipG/Z5CWecK7GWDrtrSzfAmtqM1FqGEv+1TjyZ1eMZaTmGEse\n",
       "c3r9azCWFH7AZPHsTTnbtjxeVPl9rxR/sBC2zHXU7/h7Ph60G0UInCf4LlcYPcp+y16ZQV3x7zbC\n",
       "lqmmRuLE78sSqrMirkMLdjRQVSQfj6SuLIDgL04gbFk3aIgn2etipEgSLABX5HQe+EVggaoW/Fzd\n",
       "D1lmVJG5FoZ5f3gT0e8mwRKYbF/u7Mg2WpIbKvjDzZDlaaSpiUbaZFnyrb3kAtZB5oduy0HSso7e\n",
       "h8CJM6qhDNcXaKhJH34O1l5yAeshW5ikFvgn9lWAv/zQFJ8sPX5q4s+C27ValVCmEezLaCd+wZlK\n",
       "hXX5bBVfQYCfwcVAX2ZXuqtIiatjbmOjK9He2joSLfMHPi63MMury0/zhQXwzr/wg61OcQo2SrCU\n",
       "MeBHQdSyDBttaulZQPLdB/qyHoOFRNtFwwiw3QKSn9a3k9sX9d+EZzGvgbnOxiyg+HfeJL89F4ox\n",
       "2WQB8f8DUvWl2fbXT90AAAAASUVORK5CYII=\n",
       "\" style=\"display:inline;vertical-align:middle;\" /></a> <a class=\"ProveItLink\" href=\"../__pv_it/demonstrations/f09ee063e30cd088b5fa5ac80e7e26bf55843eb60/proof.ipynb\" style=\"text-decoration: none\">&nbsp;&#x22A2;&nbsp;&nbsp;</a><a class=\"ProveItLink\" href=\"../__pv_it/demonstrations/991a84bd4dc7658ad34707795782fd12b92642d80/expr.ipynb\"><img src=\"data:image/png;base64,iVBORw0KGgoAAAANSUhEUgAAAT8AAAAVBAMAAADCyPR8AAAAMFBMVEX///8AAAAAAAAAAAAAAAAA\n",
       "AAAAAAAAAAAAAAAAAAAAAAAAAAAAAAAAAAAAAAAAAAAv3aB7AAAAD3RSTlMAq1RmmUTNIjK7EInv\n",
       "3XZ/CtNrAAAACXBIWXMAAA7EAAAOxAGVKw4bAAAEM0lEQVRIx31Wb4hUVRQ/8+bNv/dmxlVD2Ax5\n",
       "YPTBEkeNoi+5sZsllg1BX2RrR0WEPuRbEUNSmqAPkVjbhyik7AUrqIiz+iGKRZ2QvhjqKCaoDDzR\n",
       "UhYZFwVX9st2zzn3zbx333174Ldz9p17f+/3zj333AsQN1dCY0eqkGS7cEoOEvjiZn0wP1WyirLD\n",
       "0IW2e4ms+X4Ry/h6Po39t3l+qo+A0YdPlofDL0pobBXqOxiI3L3+R3ZykxtEZgtIdSc+Sc9lzEbS\n",
       "+VMr/C9SlSuMN/HBjvDYGkNnZ0TomZ1SYG4MzvGKj4PxCMDGd2RjKU7gsiOKIDsQC37M+IJf1TOz\n",
       "wkgQCPBQaki5UGyS99CxnkjW9IA6J4FLEbjAiQVfZuAn2+FoUSJURD+3r2sEFmchNUPecBUCgXBB\n",
       "VZLApQgc8WICix4hLT4wGw6+ING1zCeePoMtSD0NKupx8MptqsAELkXgmXh6sxXGxXb773Bwo4TV\n",
       "efbAaXywx9MvsbDStHQ+rASvPKUKRK6Tt49OOlEuGp1bek9u+y2dRTJw9k6dg3Yf422AQ2HCbRIm\n",
       "3PbfVXbQekXgt5L+m4V1sXpUkK9Q3bXJ+gK+gfIysxXlMnHvDLsF3szWE6/BTW+/Y44xVbrGGIVc\n",
       "X1jgVYlXYZ23GB/0dmHuvCLwSrdpiF2ce4TeS2oGBVfaTc+mKlGufeJ/6zywbmw6Rf7YW+gQldFk\n",
       "FDw7cjz8JVHnfEFe1ED7BulbUo0KNHu7/7J4+OtWTKoqUHDlOV9hrtHtOH8aShNBPheQZ3JGkSo/\n",
       "zTD8LOgEAlzi7PdUfHkoKnC1/P0K4BdRYr+h/mGNQAjS0+PKb8A9OgYNTo7QOUJFWuQRSJVpMqD2\n",
       "uvjTeeuuG11iyMzAcfwNbbfvIgKNCfiUnDkPBfLZsFKtQeIacS0vyoWHRcOHdd02+B4NaPjdY8Zo\n",
       "MeC0aNdltz8rm+FhhvV9qgmU9Y6mURPZAYAp8v6kJbZpk7ymZlBwHas+BzZEuXCjNhxYYrgWCqyL\n",
       "eiRHlGaVqdJjDNgnviUNh/Ny5imG8XS8mSHNWScq8JwLeHBA7trQUIu8taE+uFEVKLhWff0OvA9R\n",
       "Lhxd8I1rJjREfaYqhQFyRFnbss2YEwxI1XHCTDDzIMPa5D+/hgunf3NY4MLLWyrQFokrzc3N1cjL\n",
       "DOFlgQX+owoUXOMdY9BRuHC0tez30ftQuim8pYNADkyunZJUpSpDFm0zuMqV6oxQ+/8jctRRkXhx\n",
       "j1tvSxWYwBU6SVbEHArul+CuZNdM6eJxHz/yFYE2aLyW9mqQwBUSOBFzKDgowX3o37NTgf+DhMYe\n",
       "BM5JiHvU6/bGJ+m5+NyhZfdVh6jwihW5ZnXtmITGPg9qvHdx7nknKno1ei4+d0hqzCGqgsvQTPUZ\n",
       "utAbTuI9/TM87cuunk9juxfNT3WP8T8nHlOR0Emz1gAAAABJRU5ErkJggg==\n",
       "\" style=\"display:inline;vertical-align:middle;\" /></a></span>"
      ],
      "text/plain": [
       "{{1, 2, 3} equiv {a, b, c}} |- forall_{x} ((x in {1, 2, 3}) = (x in {a, b, c}))"
      ]
     },
     "metadata": {},
     "output_type": "display_data"
    }
   ],
   "source": [
    "SetEquiv(Set(one, two , three), Set(a, b, c)).unfold(\n",
    "        assumptions=[SetEquiv(Set(one, two , three), Set(a, b, c))])"
   ]
  },
  {
   "cell_type": "code",
   "execution_count": 26,
   "metadata": {},
   "outputs": [
    {
     "data": {
      "text/html": [
       "<span style=\"font-size:20px;\"><a class=\"ProveItLink\" href=\"../__pv_it/demonstrations/91bd03a46f5c443253f7d212b5997bddfbe53e5b0/expr.ipynb\"><img src=\"data:image/png;base64,iVBORw0KGgoAAAANSUhEUgAAADoAAAAPBAMAAABHIsEFAAAAMFBMVEX///8QEBAiIiLu7u5ERES6\n",
       "urqYmJiIiIjMzMx2dnZUVFRmZmaqqqoyMjLc3NwAAABb1yYoAAAAAXRSTlMAQObYZgAAAAlwSFlz\n",
       "AAAOxAAADsQBlSsOGwAAAOlJREFUGNNjYACBtwyogO2iy19FNxjvPphkXqgDJNlBTBa+BazLnCGS\n",
       "PP/BFFNF0gQGBi6I7AQGhy6ILPf6ByCqjIH5FgNDN0x2Hy9Edt78BhC1AKjxBqseXJYFLMlXUH8A\n",
       "RAONZaj/GACTXWwFMZjhfALcuQYMUFkOn3tgZgxD/wQ0L7HwyeqrQxRuYHi/AERvUgIBLYjstOQL\n",
       "YEl2793rHTD0TnBOA7PMGRj4FTBlu1kMIAYzMAlgynL3gQxkBbqX9wOGvROYHcqAjIcgzj8MvRsY\n",
       "0lgCGEz+X2bg8f87AT2Ovjxg8f0DABdSPBwu5CGmAAAAAElFTkSuQmCC\n",
       "\" style=\"display:inline;vertical-align:middle;\" /></a> <a class=\"ProveItLink\" href=\"../__pv_it/demonstrations/bfa2eea33c0671fbc5657377408025f90fe472a70/proof.ipynb\" style=\"text-decoration: none\">&nbsp;&#x22A2;&nbsp;&nbsp;</a><a class=\"ProveItLink\" href=\"../__pv_it/demonstrations/a8c95fff12bb5be1270efbf5780f416caab66fdf0/expr.ipynb\"><img src=\"data:image/png;base64,iVBORw0KGgoAAAANSUhEUgAAANMAAAAVBAMAAAAumMZDAAAAMFBMVEX///+IiIgiIiIQEBB2dnbu\n",
       "7u5ERETMzMzc3NwyMjK6urpmZmaYmJiqqqpUVFQAAAB6qHgnAAAAAXRSTlMAQObYZgAAAAlwSFlz\n",
       "AAAOxAAADsQBlSsOGwAAAwlJREFUSMeNVU1oE1EQnvxsNsnuxs1BEX9q2IOioETRHjwpiHhpTQ+N\n",
       "SEW2BaXUQ4t/RxuNFIpQY6HgodKKevCgxirUnx7qpViqWNRLUWhF7EmoCGI81TdvXjZvfxId+Jb3\n",
       "ZuftzHxvZhbALwWBehL/T92/vxeaJwTLIEDS9Ks3B5jONvcON08D3AbCEio/yxYfBYJljGGTT2sc\n",
       "CLK1h+DhTA5CzB3iBepuSu+VEiFYjFX2SOS86uOBxvZViKkslxHguIRE29J7bZoQLNoKY10ve9VT\n",
       "9VxpBRb1HHBghFH5ZiIC0uV1Wdur6yNH+9hzn/ejWddunWWVHFcsjUiOQ2cJJGS7BQFHkjdqfMXN\n",
       "LRjWqJdWF+H319aySrUzAhPThD2WtVc2fCrQ1nTsEM92ULoZDRaR21YvrawqlPS38y08nBGJwIsL\n",
       "jPDoEmES4JR8bFSgHPqiZbw18wD6sdZmcT1hoezCJYasQZM5wTdOD9nF4Z+YoV4iDEF8SXa1k6AX\n",
       "9F8pXh0yOWW4jsYfPFmFWfqv4V3uO3cllcUbXppGlhDLRcflY/sJKmjkQ2UMW1tFgZx5uYLV2u9x\n",
       "FWFf6IPntDmHydrkKnYCo1V/EAzTVRVVV+w8DQVF6oQ2gDVI6p0AVwC7aZOXslLLeDnJLAFKr9gj\n",
       "/WxjwUUgwKOCwgsiI/MHYTzy3nNXSCAkK9DON3JfTQ4ggRkCtLCKCRWWE6K5Ogn58a8Q5Yp0reyx\n",
       "aBkRMOPJKmaC0pPKAh9PIVNylceJpNsEKLKL1qFTFe9bCYsXnrB649fsNHgRv1oRzSALq2Tjd0c2\n",
       "SZa3HFfXWNv2UC8gIIX9D5Xq+7OEjrQxRSeV5XviElZHwOj9w87s8LhSM6A8Nj+9pd3Jnlx1snfD\n",
       "6bF5CLOrDDu1p2arf5xwH0EaF4drg4lmRsY7mLa5dne7LNf4uCJA1ERLmljiLPXPU/dw8E3juYb2\n",
       "U/JA1jYcrA4u6BaoLwM+TazhX9v2/Dwcybt6I0j8gSh2A3OMIziWuEmoK6GAY5cb2K8n/AWWbLql\n",
       "7ptrigAAAABJRU5ErkJggg==\n",
       "\" style=\"display:inline;vertical-align:middle;\" /></a></span>"
      ],
      "text/plain": [
       "{A equiv Real} |- forall_{x} ((x in A) = (x in Real))"
      ]
     },
     "metadata": {},
     "output_type": "display_data"
    }
   ],
   "source": [
    "# We can use standard pre-defined sets as well\n",
    "SetEquiv(A, Real).unfold(assumptions=[SetEquiv(A, Real)])"
   ]
  },
  {
   "cell_type": "code",
   "execution_count": 27,
   "metadata": {},
   "outputs": [
    {
     "name": "stdout",
     "output_type": "stream",
     "text": [
      "InstantiationFailure: Proof step failed:\n",
      "Attempting to instantiate |- forall_{A, B | A equiv B} [forall_{x} ((x in A) = (x in B))] with {A: {1, 2, 3}, B: {a, b, c}}:\n",
      "Unsatisfied condition: {1, 2, 3} equiv {a, b, c}. For debugging purposes, this is accessible via Instantiation.unsatisfied_condition with applicable assumptions in Instantiation.condition_assumptions.\n"
     ]
    }
   ],
   "source": [
    "# We must already know or assume that the SetEquiv holds in one direction\n",
    "try:\n",
    "    SetEquiv(Set(one, two , three), Set(a, b, c)).unfold()\n",
    "    assert False, \"Should not make it this far!\"\n",
    "except InstantiationFailure as the_error:\n",
    "    print(\"InstantiationFailure: {}\".format(the_error))"
   ]
  },
  {
   "cell_type": "markdown",
   "metadata": {},
   "source": [
    "### Testing the `SetEquiv.derive_reversed()` method<br/>\n",
    "\n",
    "The `derive_reversed()` method has the following format:<br/>\n",
    "\n",
    "<div style=\"width: 50%; border: 1px solid green; padding: 5px; margin: 20px; background-color: gainsboro; font-family:courier\">derive_reversed(**defaults_config)</div>\n",
    "\n",
    "and from A set_equiv B attempts to derive B set_equiv A. This derivation is also an automatic side-effect."
   ]
  },
  {
   "cell_type": "code",
   "execution_count": 28,
   "metadata": {},
   "outputs": [
    {
     "data": {
      "text/html": [
       "<span style=\"font-size:20px;\"><a class=\"ProveItLink\" href=\"../__pv_it/theorems/2ee8dc2018014830ed832e2e3d65a4df89f102480/expr.ipynb\"><img src=\"data:image/png;base64,iVBORw0KGgoAAAANSUhEUgAAADsAAAAPBAMAAACo4Ko7AAAAMFBMVEX///8QEBAiIiLu7u5ERES6\n",
       "urqYmJiIiIjMzMx2dnZUVFRmZmaqqqoyMjLc3NwAAABb1yYoAAAAAXRSTlMAQObYZgAAAAlwSFlz\n",
       "AAAOxAAADsQBlSsOGwAAAPpJREFUGNNjYACBtwx4wX0wybxQB0iyg9ls/r9WrfWAyPL8B1NMFUkT\n",
       "GBi4IGKMDgwM6xvATO71D0BUGQPzLQaGboj0+wIGhvgNYOa8+WBlC4Bab7DqQaTzgUL5BSAWX0H9\n",
       "ARANNJmh/mMARHo9EF8EG8rNcD4B7koDKC3CwGClAWbFMPRPQPcLx5fyqmsQ5gaG9wtA9CYlENAC\n",
       "i7H/Y2A4CDaT3Xv3egd03SwCDAycP0AscwYGfgV0aX6geWzfIWYzMAmgS/cDDeb6CmSwAhm8H9Dt\n",
       "rgf6qf8CkPEQZNM/dN0XgfpkgZ40+X+Zgcf/L5rPlvxfteoKMKwAotBAF+FrKrQAAAAASUVORK5C\n",
       "YII=\n",
       "\" style=\"display:inline;vertical-align:middle;\" /></a> <a class=\"ProveItLink\" href=\"../__pv_it/demonstrations/f96c31d01988b31a3cb0e7958fe3bb6d8a4c11560/proof.ipynb\" style=\"text-decoration: none\">&nbsp;&#x22A2;&nbsp;&nbsp;</a><a class=\"ProveItLink\" href=\"../__pv_it/theorems/64ce83c197b559a3346c83d03b24881cab5757470/expr.ipynb\"><img src=\"data:image/png;base64,iVBORw0KGgoAAAANSUhEUgAAADsAAAAPBAMAAACo4Ko7AAAAMFBMVEX///92dnaqqqoiIiLu7u5m\n",
       "Zma6urqIiIjc3NwQEBDMzMwyMjJUVFRERESYmJgAAAAeMT9/AAAAAXRSTlMAQObYZgAAAAlwSFlz\n",
       "AAAOxAAADsQBlSsOGwAAAPlJREFUGNNjYMANusHk2/9nzuxdAGL5TFYAkgUw6f0Qai4DA88vEMN8\n",
       "nSGQPACVZfoPpji+MzCwfQUy2B8weB9g4AqASrOebwBRfECdfEAlDDxAfHpBcgNUWkIebCPPBwYG\n",
       "7hlABiPIhP/ToLIcBfUglzBwXmBgObwA5h4WGIOVQf8BiF5/vfz0A0xvJTGsFwDR9Q0MTPPA6o3B\n",
       "AOryAIZ+MOsmEMsvQNfMfjX0/AUQ4w8Qvy9Al3ZnYOA3ANJc/4DE+QR0aaDvmSeATPkBVPIb3W42\n",
       "oGO5gT5m4AaqydyCrrkTiHmBGnnu/zlz+hK6rO//LQxM938LAACg2URXnHbHVwAAAABJRU5ErkJg\n",
       "gg==\n",
       "\" style=\"display:inline;vertical-align:middle;\" /></a></span>"
      ],
      "text/plain": [
       "{A equiv B} |- B equiv A"
      ]
     },
     "metadata": {},
     "output_type": "display_data"
    }
   ],
   "source": [
    "SetEquiv(A, B).derive_reversed(assumptions=[SetEquiv(A, B)])"
   ]
  },
  {
   "cell_type": "code",
   "execution_count": 29,
   "metadata": {},
   "outputs": [
    {
     "data": {
      "text/html": [
       "<span style=\"font-size:20px;\"><a class=\"ProveItLink\" href=\"../__pv_it/demonstrations/3976b7d219879b8bb54791446332d0e34f693bc70/expr.ipynb\"><img src=\"data:image/png;base64,iVBORw0KGgoAAAANSUhEUgAAAKMAAAAVBAMAAADY0UPbAAAAMFBMVEX///8AAAAAAAAAAAAAAAAA\n",
       "AAAAAAAAAAAAAAAAAAAAAAAAAAAAAAAAAAAAAAAAAAAv3aB7AAAAD3RSTlMAEER2zVSJ3Zki72ar\n",
       "MruaaVGaAAAACXBIWXMAAA7EAAAOxAGVKw4bAAACWklEQVQ4y4VVTWgTQRh9s2s3TZO0C94kWPXk\n",
       "saB40IqxJw8q8aL0lICHFn9AD7WIQnMoJKdUEFSkqOhBVKgBD56EQBWxRZqjghfrxYOgMYmgInXm\n",
       "m5/s7uy232Hy5uO9N9/OfJkBwPYgKdKTcdlkgebv351oiU+fY5KbCCR/oM2H3GW9Tu1kS6Jb0+t8\n",
       "/KYKW5nhowsjMLHzcciT+N4lID+vaffg/ZQmFZSKwJRMpw6/LANZaEEgjoVmU4bhast3wFMCbg+j\n",
       "BWN5COw48CHOsreV5XMfazcEcB5ipG/Z5CWecK7GWDrtrSzfAmtqM1FqGEv+1TjyZ1eMZaTmGEse\n",
       "c3r9azCWFH7AZPHsTTnbtjxeVPl9rxR/sBC2zHXU7/h7Ph60G0UInCf4LlcYPcp+y16ZQV3x7zbC\n",
       "lqmmRuLE78sSqrMirkMLdjRQVSQfj6SuLIDgL04gbFk3aIgn2etipEgSLABX5HQe+EVggaoW/Fzd\n",
       "D1lmVJG5FoZ5f3gT0e8mwRKYbF/u7Mg2WpIbKvjDzZDlaaSpiUbaZFnyrb3kAtZB5oduy0HSso7e\n",
       "h8CJM6qhDNcXaKhJH34O1l5yAeshW5ikFvgn9lWAv/zQFJ8sPX5q4s+C27ValVCmEezLaCd+wZlK\n",
       "hXX5bBVfQYCfwcVAX2ZXuqtIiatjbmOjK9He2joSLfMHPi63MMury0/zhQXwzr/wg61OcQo2SrCU\n",
       "MeBHQdSyDBttaulZQPLdB/qyHoOFRNtFwwiw3QKSn9a3k9sX9d+EZzGvgbnOxiyg+HfeJL89F4ox\n",
       "2WQB8f8DUvWl2fbXT90AAAAASUVORK5CYII=\n",
       "\" style=\"display:inline;vertical-align:middle;\" /></a> <a class=\"ProveItLink\" href=\"../__pv_it/demonstrations/84e37c83c7e5140e1efb8746ba1b0e35914e4eff0/proof.ipynb\" style=\"text-decoration: none\">&nbsp;&#x22A2;&nbsp;&nbsp;</a><a class=\"ProveItLink\" href=\"../__pv_it/demonstrations/a5f5882d5b1617365c5326288852b6b9d1db9f200/expr.ipynb\"><img src=\"data:image/png;base64,iVBORw0KGgoAAAANSUhEUgAAAKMAAAAVBAMAAADY0UPbAAAAMFBMVEX///8AAAAAAAAAAAAAAAAA\n",
       "AAAAAAAAAAAAAAAAAAAAAAAAAAAAAAAAAAAAAAAAAAAv3aB7AAAAD3RSTlMAEER2zVSJ3Zki72ar\n",
       "MruaaVGaAAAACXBIWXMAAA7EAAAOxAGVKw4bAAACYUlEQVQ4y4VVTWgTQRT+JjE/m+62QT1JsNWL\n",
       "HiOKB+kh5uRxPUlPCXiwVMWImAp6yCFgDtIWBKlSaKmHIoUS8KoQaLxYhJxEUbCtFw+KjTaCSIkz\n",
       "b2a23Z3ddiC7b96+79s3731vA4CdRMSyxsK8h0dwEODciciQzxumL17M4gBAorvXd3zJF/Jd3nJL\n",
       "Lr/myS4JRue2Cpit/1DWk/FNDUhWfCSXfLtr8nbnU5VfW54rV1d5WOu4JevAaii5ChCg7IVQxps4\n",
       "2oJT23XFFaU9g8yCjOlhuBBKGeuGUNr81+6cmjEpM13YfyVwEUPhlIGcJWVSkPQXEZJlBfaODi41\n",
       "91LOXX0s3YdWR11Ffva1V0sqFkIo+Upt6QPe10/TPN3YC/yU0hi+yORBrLuYAi6YOqkHKL9IIcAZ\n",
       "fQcFeMbTPdbEQ2iJPJcvLwtjnlJOT9KijlvLAcoHniU6LgBzRb6ZBqpeDn/ImKasWdsNzEd7xE+Z\n",
       "Xvee8V4RwJni2BWwX9JdRUzKaEUWtBg894cNP+UrdXc6GOwpwGAL7DcGtrQs0xTNXd6owBwojzJR\n",
       "xlMyhrpESQDecdaDXRiD2O2IugrjH28aMIFgLXc7ThJ4D5yh+EyLDj6hRfQVV2o1ts13a/gGMni7\n",
       "b/pE5JNqkstCDIt1r9GoUPxA06/L3PmPqx1M8rflxrlfGMnrL7ORlPbb7TWk+Kcj1e/3CxSP041N\n",
       "GNOTyAaNyCxpXTaABmXSMPanLJvxqtILenvEMOSo+Jc3UCxvxkuA5X3O8obBlk3KeS3+OIx4DZh9\n",
       "E/lXcsMNcT5ysS/gPw3Lp6oh5QDUAAAAAElFTkSuQmCC\n",
       "\" style=\"display:inline;vertical-align:middle;\" /></a></span>"
      ],
      "text/plain": [
       "{{1, 2, 3} equiv {a, b, c}} |- {a, b, c} equiv {1, 2, 3}"
      ]
     },
     "metadata": {},
     "output_type": "display_data"
    }
   ],
   "source": [
    "SetEquiv(Set(one, two , three), Set(a, b, c)).derive_reversed(\n",
    "        assumptions=[SetEquiv(Set(one, two , three), Set(a, b, c))])"
   ]
  },
  {
   "cell_type": "code",
   "execution_count": 30,
   "metadata": {},
   "outputs": [
    {
     "data": {
      "text/html": [
       "<span style=\"font-size:20px;\"><a class=\"ProveItLink\" href=\"../__pv_it/demonstrations/91bd03a46f5c443253f7d212b5997bddfbe53e5b0/expr.ipynb\"><img src=\"data:image/png;base64,iVBORw0KGgoAAAANSUhEUgAAADoAAAAPBAMAAABHIsEFAAAAMFBMVEX///8QEBAiIiLu7u5ERES6\n",
       "urqYmJiIiIjMzMx2dnZUVFRmZmaqqqoyMjLc3NwAAABb1yYoAAAAAXRSTlMAQObYZgAAAAlwSFlz\n",
       "AAAOxAAADsQBlSsOGwAAAOlJREFUGNNjYACBtwyogO2iy19FNxjvPphkXqgDJNlBTBa+BazLnCGS\n",
       "PP/BFFNF0gQGBi6I7AQGhy6ILPf6ByCqjIH5FgNDN0x2Hy9Edt78BhC1AKjxBqseXJYFLMlXUH8A\n",
       "RAONZaj/GACTXWwFMZjhfALcuQYMUFkOn3tgZgxD/wQ0L7HwyeqrQxRuYHi/AERvUgIBLYjstOQL\n",
       "YEl2793rHTD0TnBOA7PMGRj4FTBlu1kMIAYzMAlgynL3gQxkBbqX9wOGvROYHcqAjIcgzj8MvRsY\n",
       "0lgCGEz+X2bg8f87AT2Ovjxg8f0DABdSPBwu5CGmAAAAAElFTkSuQmCC\n",
       "\" style=\"display:inline;vertical-align:middle;\" /></a> <a class=\"ProveItLink\" href=\"../__pv_it/demonstrations/c68091154b26c3efd73e9856edff52c5033907810/proof.ipynb\" style=\"text-decoration: none\">&nbsp;&#x22A2;&nbsp;&nbsp;</a><a class=\"ProveItLink\" href=\"../__pv_it/demonstrations/e9fce6179d6c243486939a14e05a84f2a4b9b1270/expr.ipynb\"><img src=\"data:image/png;base64,iVBORw0KGgoAAAANSUhEUgAAADkAAAAPBAMAAACsFXoGAAAAMFBMVEX///+IiIiqqqpmZmbMzMx2\n",
       "dnbu7u66urpUVFTc3NwiIiJEREQQEBAyMjKYmJgAAAA9S0TaAAAAAXRSTlMAQObYZgAAAAlwSFlz\n",
       "AAAOxAAADsQBlSsOGwAAAOlJREFUGNNjeHt6/63TDxiwgLkgYsMMhorXCSBWxikFICkAk70Plp3K\n",
       "wM3SAGIt9FsKJBugkkz/obLMEy4AGYwPGHIbGFgMoLLM/RNgshuADA4g7nWomgCVjYx3gMhypIGM\n",
       "YwXp/38cKskpIK8AkfXWhWlgYIMxmBn0QT7ZMOfWLzFM/xQx+AeA9b7LhaheBQZQNxswzG8Ay3Ln\n",
       "YYYG42bj/g1gWRaDbRiyiQwM/AsgrjKZjSEL9DXXAYhsNuMDNHvZgQK8H0Cykxn4HmxH0zoHiLl/\n",
       "MjAA42gnw+77CiiS2f+vMTDt/xsAANbSUTCLC7BnAAAAAElFTkSuQmCC\n",
       "\" style=\"display:inline;vertical-align:middle;\" /></a></span>"
      ],
      "text/plain": [
       "{A equiv Real} |- Real equiv A"
      ]
     },
     "metadata": {},
     "output_type": "display_data"
    }
   ],
   "source": [
    "# We can use standard pre-defined sets as well\n",
    "SetEquiv(A, Real).derive_reversed(assumptions=[SetEquiv(A, Real)])"
   ]
  },
  {
   "cell_type": "code",
   "execution_count": 31,
   "metadata": {},
   "outputs": [
    {
     "name": "stdout",
     "output_type": "stream",
     "text": [
      "InstantiationFailure: Proof step failed:\n",
      "Attempting to instantiate |- forall_{A, B | A equiv B} (B equiv A) with {A: {1, 2, 3}, B: {a, b, c}}:\n",
      "Unsatisfied condition: {1, 2, 3} equiv {a, b, c}. For debugging purposes, this is accessible via Instantiation.unsatisfied_condition with applicable assumptions in Instantiation.condition_assumptions.\n"
     ]
    }
   ],
   "source": [
    "# We must already know or assume that the SetEquiv holds in one direction\n",
    "try:\n",
    "    SetEquiv(Set(one, two , three), Set(a, b, c)).derive_reversed()\n",
    "    assert False, \"Should not make it this far!\"\n",
    "except InstantiationFailure as the_error:\n",
    "    print(\"InstantiationFailure: {}\".format(the_error))"
   ]
  },
  {
   "cell_type": "markdown",
   "metadata": {},
   "source": [
    "### Testing the `SetEquiv.deduce_not_equiv()` method<br/>\n",
    "\n",
    "The `deduce_not_equiv()` method has the following format:<br/>\n",
    "\n",
    "<div style=\"width: 50%; border: 1px solid green; padding: 5px; margin: 20px; background-color: gainsboro; font-family:courier\">deduce_not_equiv(**defaults_config)</div>\n",
    "\n",
    "and attempts to deduce A not_equiv B assuming not(A equiv B), but where self is (A equiv B). This can be a bit confusing …"
   ]
  },
  {
   "cell_type": "code",
   "execution_count": 32,
   "metadata": {},
   "outputs": [
    {
     "data": {
      "text/html": [
       "<span style=\"font-size:20px;\"><a class=\"ProveItLink\" href=\"../__pv_it/axioms/bb2eac1bdd2ce216d9324209ccfd47261e333bcc0/expr.ipynb\"><img src=\"data:image/png;base64,iVBORw0KGgoAAAANSUhEUgAAAFoAAAAVBAMAAAA0iOSIAAAAMFBMVEX////MzMxERES6uroQEBCY\n",
       "mJgyMjLu7u52dnaqqqqIiIhUVFTc3NwiIiJmZmYAAAAM3gM0AAAAAXRSTlMAQObYZgAAAAlwSFlz\n",
       "AAAOxAAADsQBlSsOGwAAAXpJREFUKM9jYECAAwx4AQ8Kj2sCmDqGSzXzAmTeDAiVD6GqfUGaIQqC\n",
       "/u/enSTAsBRJMXsCmOL8D+HeEr0BJDdAOE4MDNwfGdgKEKr5AiDUfrDzuQIYyjYwMD6AuPgX0B3/\n",
       "GFgfIFSzQKiefgEQxQ3E2wRsIR5n/QjEQB3uCNXTIMYsWA/2LAfI/P/OECnuDwwMbD4MDKkI1S8g\n",
       "DmGYH4DwCsxaBQb2vUAruxGqIRotGeQbMMJOXmvVNpAZYQxv7wLBPSDzJljiAcN5cDjw3QUDSJis\n",
       "P8DA6Qqkp0A0nwZisBu59N7tV8AwWwWIQZ6XR1NdxcDAfwFD9W8gjgdGlAlC9U2IQxh4HdAVM34F\n",
       "EvsNGBjmQvjngFgLlBSAfmH7gO5urj9AHd9AKQBhAih4jgAx0x90s9mAtpmkwwMZDGQZGIr+pzNw\n",
       "6n9DC0Ju/d+7t2mCWJcRgrwCDAQAD5L/kdMMdsAXgMTRIaT6EDKniJBqFON4FuBXzHWAAQAYsGHg\n",
       "O6N/dgAAAABJRU5ErkJggg==\n",
       "\" style=\"display:inline;vertical-align:middle;\" /></a> <a class=\"ProveItLink\" href=\"../__pv_it/demonstrations/0e1b1822ce151753ea456085264dd401b0d85ecc0/proof.ipynb\" style=\"text-decoration: none\">&nbsp;&#x22A2;&nbsp;&nbsp;</a><a class=\"ProveItLink\" href=\"../__pv_it/axioms/040e9a1f9b739ee8859835262ddf22eb997ee4790/expr.ipynb\"><img src=\"data:image/png;base64,iVBORw0KGgoAAAANSUhEUgAAADsAAAATBAMAAADc9GjbAAAAMFBMVEX///8QEBAiIiLu7u5ERES6\n",
       "urqYmJiIiIjMzMx2dnZUVFRmZmaqqqoyMjLc3NwAAABb1yYoAAAAAXRSTlMAQObYZgAAAAlwSFlz\n",
       "AAAOxAAADsQBlSsOGwAAAR9JREFUKM9jYACBtwx4wX0Ekw9Csfn/WrXWA8Lm+Y+QhhnE6MDAsL4B\n",
       "zORe/wBEsd6/zsDgwQ6Rfl/AwBC/AcycNx+srCnjiCjPBhOIdD5QKL8AbF1B/QEQvY6BIcgxRhUi\n",
       "vR6IL4IN5WY4nwCiQWov/j0AkRZhYLDSALNiGPonwNx9Acrg+FJedQ3C3MDwfgFUlCsAymD/x8Bw\n",
       "EGwmu/fu9Q5Q0RCY/1gEGBg4f4BY5gwM/AogxiYlpU9KSlpgaX6geWzfIWYzMAlAwwrmBoZ+oMFc\n",
       "X0GBAWTwfoAIMsEDrx7op36QOx+CbPoHEZwGl74I1CdrwMBg8v8yA4//X5CpmxSFlKB2L/m/atWV\n",
       "A2gRB/cWdtCCP9o98Es3YIgAAMetR04fyAbSAAAAAElFTkSuQmCC\n",
       "\" style=\"display:inline;vertical-align:middle;\" /></a></span>"
      ],
      "text/plain": [
       "{[not](A equiv B)} |- A not_equiv B"
      ]
     },
     "metadata": {},
     "output_type": "display_data"
    }
   ],
   "source": [
    "SetEquiv(A, B).deduce_not_equiv(assumptions=[Not(SetEquiv(A, B))])"
   ]
  },
  {
   "cell_type": "code",
   "execution_count": 33,
   "metadata": {},
   "outputs": [
    {
     "data": {
      "text/html": [
       "<span style=\"font-size:20px;\"><a class=\"ProveItLink\" href=\"../__pv_it/demonstrations/9dfbd54a65bdff75fe84c7590e077f0a02e145770/expr.ipynb\"><img src=\"data:image/png;base64,iVBORw0KGgoAAAANSUhEUgAAAMQAAAAVBAMAAADr6lzSAAAAMFBMVEX///8AAAAAAAAAAAAAAAAA\n",
       "AAAAAAAAAAAAAAAAAAAAAAAAAAAAAAAAAAAAAAAAAAAv3aB7AAAAD3RSTlMAmd0iq3ZUiRDNZu9E\n",
       "uzLWhN+VAAAACXBIWXMAAA7EAAAOxAGVKw4bAAAC1klEQVRIx41VP2hTQRj/kvfSvDYxTYpQMkjT\n",
       "oImIQ8SKk5ilQypIh4qiS2gHFYe0IS4K2iEdRKVxE+mQQQcHRSqClBaqq0ulFjoUjX9AcGlBrKlI\n",
       "43ff3b179y4pHtx73933+93v/nzfHYAqOaz3lqFTsSba9XYmEN7SukJFrHPTHSXg27rZtxeB4aOj\n",
       "3p7LWEuMEDsseo4lPwrr5NQGfj/wRnUeJwOcW9IU7s9rGgx/0dN2avgpsxGSTbHSFbjNt8GJQ6nI\n",
       "vVgO/cjiN092WZ/4A63FnN2eOQTqkhESEnYOIi/4dmzDbE2OF6rDnTzE4u0ktg2JnrhqR8AvEWmC\n",
       "/ZOs6CL0uhI21kLjba6NRLRpSMBr1b5qSNgpsHelu1SX44UZpLUIbSTCKVPikWr3GxJYgltyfkf0\n",
       "8RzvKEPXT/BW9/BYUYidey6cFUUitaRPYlPEXGzsLH4vmYHJCNGX8Ikf6uxDh++slYEDAv8U+tJY\n",
       "BtHMMM+CT+Kga7GIOk1TDKSpUEQR4W4d+kCG8Cu++klmEP4adw1hxc21Csu6RGBFRQN2OoWiL4GJ\n",
       "MACQddf0m4wBWhXhNzUJ+LyuSzwW/1gD9mE8huf8+0SEJXD+8mYWojxsl/iBMPw7JZGR+agkuibh\n",
       "OBm9TZIomZcFEpxf0LMl0yJAXOxyU39c3BRY17SIooj5DnABGCySp426Cf6zYARnG+zaBOF22bkw\n",
       "4w8GgcA/U/OpuBJhjAqWzNZgIpFydliK1j15YYT+GozH44QbgfdABobTLYHvV+AvkmGf2RmBIF6F\n",
       "wVarVYM0m9WbxAZ0lKie/zrcIFx1CifCjPCNJ9MCf1SBgw1tkCvS6JrWs9WU8OEUgTktT8LTfaUY\n",
       "k+6lAP8nETYJZXm7yrLqzV/HfUpm9FT2FZXwMyaB4U9p7wnI/GVR5XarZ8tZMCVcgsKNavhVLVXR\n",
       "Z+0vdn67K218exAIH8rBP3kluriRU2DHAAAAAElFTkSuQmCC\n",
       "\" style=\"display:inline;vertical-align:middle;\" /></a> <a class=\"ProveItLink\" href=\"../__pv_it/demonstrations/f12aa2f12f722c98f993082031195cdd578492fb0/proof.ipynb\" style=\"text-decoration: none\">&nbsp;&#x22A2;&nbsp;&nbsp;</a><a class=\"ProveItLink\" href=\"../__pv_it/demonstrations/e9d59e687c6547a5e9b9d1b93e78eaf44c9577650/expr.ipynb\"><img src=\"data:image/png;base64,iVBORw0KGgoAAAANSUhEUgAAAKMAAAAVBAMAAADY0UPbAAAAMFBMVEX///8AAAAAAAAAAAAAAAAA\n",
       "AAAAAAAAAAAAAAAAAAAAAAAAAAAAAAAAAAAAAAAAAAAv3aB7AAAAD3RSTlMAEER2zVSJ3Zki72ar\n",
       "MruaaVGaAAAACXBIWXMAAA7EAAAOxAGVKw4bAAACe0lEQVQ4y4VVQWgTQRR9mzXbpknaBW9SWhVE\n",
       "TxJQPEgPUS/iQdeL0osJeEixCiroggrNoZCcUkFRkaJSD0WFGvBcCFQRLdLcRBDBehGxaEyiiEid\n",
       "+TOzO5vdtQO782b2vTd/5/+dBWBsR1xLjUfNxgsUf++2WEu8/xgx+R+B4Cdb7Ja9oNapHm0KdGti\n",
       "ld2/6jGIjgReG5kPeBLfOg8MTyvaPVg/xNuVUXCAkka/KTou0NrhwKjkMUxl+Qp4TMDsYjTvWSaO\n",
       "HQLWzCjL7kaWT22sXCeTOQz5lm8XT80lyyMRlonWRpYvgRW5mSjUPUsW/M4vOy5GWPbEHGHJ2pRa\n",
       "/yo8yxy7jnQc32T29A3xZNPSmCPN9yxKfn8+aJlty37sDbvv9/Odl4ALEo/wzabR6AHjt3h+CTXJ\n",
       "v1sPWvY1FOIZv++oUWarBFywpY6KJNl4KHRFDjh/9iCCljUPDbBJ47ny3C17EswAl8VwGvhJYIai\n",
       "5vxszQ5YpmWQ2SYGWX1YtCIqrvvLda/RAy5YgCHKlzknRBktiA3l/MFGwPIEUlREQy2yLNhqqaJi\n",
       "MIHRRvq7Kst+0hpttQ9axg2KoQjT5migQS9+xttivWyMLjL5cXD5X76vHPxhSZN8srRY1vjHgtvV\n",
       "aoVQuq7XJTAZqMRPOFkuGx02WsZnEGA5OKfVZeZ1Zxl9/OiYWl/vCLSruurXZeXKvCv3UhwK+94t\n",
       "NeGy6IYn2MIcWJPPbL3UqR1HGJV6S0gXJO1e0GvpJUBDyvJD1CdohYDgmw/UYZ1DCPGyo7bmW3oC\n",
       "bA4BwU+p08n0Rf4/4YkETe0k9o6zXAhI/p0X8f+es07EbLyA+P8AdVWs8x2aB4oAAAAASUVORK5C\n",
       "YII=\n",
       "\" style=\"display:inline;vertical-align:middle;\" /></a></span>"
      ],
      "text/plain": [
       "{[not]({1, 2, 3} equiv {a, b, c})} |- {1, 2, 3} not_equiv {a, b, c}"
      ]
     },
     "metadata": {},
     "output_type": "display_data"
    }
   ],
   "source": [
    "SetEquiv(Set(one, two, three), Set(a, b, c)).deduce_not_equiv(assumptions=[Not(SetEquiv(Set(one, two, three), Set(a, b, c)))])"
   ]
  },
  {
   "cell_type": "code",
   "execution_count": 34,
   "metadata": {},
   "outputs": [
    {
     "name": "stdout",
     "output_type": "stream",
     "text": [
      "InstantiationFailure: Proof step failed assuming {[not]({1, 2, 3} equiv {a, b, c})}:\n",
      "Attempting to instantiate |- forall_{A, B | [not](A equiv B)} (A not_equiv B) with {A: {1, 2, 4}, B: {a, b, c}}:\n",
      "Unsatisfied condition: [not]({1, 2, 4} equiv {a, b, c}). For debugging purposes, this is accessible via Instantiation.unsatisfied_condition with applicable assumptions in Instantiation.condition_assumptions.\n"
     ]
    }
   ],
   "source": [
    "# despite the apparent disconnect between the 'self' SetEquiv, that SetEquiv must\n",
    "# use the same sets being used in the conclusion\n",
    "try:\n",
    "    SetEquiv(Set(one, two, four), Set(a, b, c)).deduce_not_equiv(\n",
    "            assumptions=[Not(SetEquiv(Set(one, two, three), Set(a, b, c)))])\n",
    "    assert False, \"Should not make it this far!\"\n",
    "except InstantiationFailure as the_error:\n",
    "    print(\"InstantiationFailure: {}\".format(the_error))"
   ]
  },
  {
   "cell_type": "markdown",
   "metadata": {},
   "source": [
    "### Testing the `SetEquiv.apply_transitivity()` method<br/>\n",
    "\n",
    "The `apply_transitivity()` method has the following format:<br/>\n",
    "\n",
    "<div style=\"width: 50%; border: 1px solid green; padding: 5px; margin: 20px; background-color: gainsboro; font-family:courier\">apply_transitivity(other, **defaults_config)</div>\n",
    "\n",
    "From A set_equiv B (self) and B set_equiv C (other) attempt to derive and return A set_equiv C.\n",
    "If \"other\" is not a SetEquiv, reverse roles and call 'apply_transitivity' from the \"other\" side."
   ]
  },
  {
   "cell_type": "code",
   "execution_count": 35,
   "metadata": {},
   "outputs": [
    {
     "data": {
      "text/html": [
       "<span style=\"font-size:20px;\"><a class=\"ProveItLink\" href=\"../__pv_it/demonstrations/c40a4b5f67b38a6d260de64993997c96e2a07bcf0/expr.ipynb\"><img src=\"data:image/png;base64,iVBORw0KGgoAAAANSUhEUgAAAKUAAAAVBAMAAADVzzOcAAAAMFBMVEX///9ERETMzMxUVFSYmJgQ\n",
       "EBDc3NxmZmYiIiJ2dnaqqqoyMjKIiIi6urru7u4AAAB85a56AAAAAXRSTlMAQObYZgAAAAlwSFlz\n",
       "AAAOxAAADsQBlSsOGwAAAh5JREFUOMuNlTFMFEEYhR8HnHeXvaWwBi9aSGFxEVEDBVtQWJIAJQFi\n",
       "DFrpVUtCY6IxhkIuIQSs3MqEhkOpiQaksuAaAo1mEwtKGrDg9M6Zf2f+nWVv3Zti9mXy3rczO//O\n",
       "ALB/IKllP7Yb7SDw/WeiBbcG2gymBwpN0WXe6Re5n0qBerbeL/rramrDy6K3oAOhLfu+UlfZQV8H\n",
       "8i+BX0tNNT6P/N+A8gI1D9gIhnN7j6pAN3SAbThF4TIIPPgimRvaAksz7wPTJKxLnG0z8xvsHeA2\n",
       "M9mGQ89uqOxhAnPWx9icFMUZ9IXMspjk5+IbZrINR3WkMR8CY+pLoeYwsyojF3VmmrbCeQpTtBX1\n",
       "LL4GM6n5YKZhw4kTY17bjjIzf9Rz/67oD+LlQgG24c5QyWRS4IkTZebKWsl9f+6RXHwr2ytwwLCp\n",
       "fVdMGXi8iyizwqpXDNqj3pVpBgHDJjcsZMpApuJHmD3q/ZkSusQE8rtXlx4EtA03gRuewaRAVznC\n",
       "3ESWiqSvScyaH/ueFNA2tPwokwK87zbNogrLl6q3TGtfQ+x7ygDbMCnXbofMNS6N/G/Qb4OnrrtI\n",
       "qscx69NsMsA2jMv6JIUPc2Z9dg837iEnz5GVVqsRqGO3H4nM0FZ0xRlCamh2xzFrntoW4iqBmRII\n",
       "LVXE1X+ZiQFrQh/fXxFTWIozOwhk9W9ghanwmphqcz90EFgYSb5eVr02o2mBfymjyrjQikpIAAAA\n",
       "AElFTkSuQmCC\n",
       "\" style=\"display:inline;vertical-align:middle;\" /></a>, <a class=\"ProveItLink\" href=\"../__pv_it/demonstrations/9217be636d639c95b04f55486dc9717db1ddfacb0/expr.ipynb\"><img src=\"data:image/png;base64,iVBORw0KGgoAAAANSUhEUgAAAKMAAAAVBAMAAADY0UPbAAAAMFBMVEX///9ERETMzMxUVFSYmJgQ\n",
       "EBDc3NxmZmYiIiJ2dnaqqqoyMjKIiIi6urru7u4AAAB85a56AAAAAXRSTlMAQObYZgAAAAlwSFlz\n",
       "AAAOxAAADsQBlSsOGwAAAllJREFUOMuFVT1oFEEYfV7C5fa8ncbCRsyhoBYWgfiHBnKIhYWFwR8s\n",
       "hIsE0UIwV92BRQRBkhRm8QcjCG4VtDHRFFbR4E8hCrlGsFFGgtgIEVHBjck53/zsbnZ3LlMsb755\n",
       "7+23M293AbBPsI38VFbVLjD8d5+tlti+NaPYRqD4xVXhXn9S1ve5V2vq5V1cXDbpxvaOi2sJRvDl\n",
       "jMVT8p2rwDk4K6r0DcVAmex/QZaTqlx4edQDOmAEeGaxnDSMfcApVVrw2bJeXYhZvgabBXZGlsF6\n",
       "llWO/kFZ+tBElmWPaPGpez20dFfXszwA9OvNRPFXhqVH89/N0FJ22tZSjAlT/FjJsJSDI7Tc2PfK\n",
       "17P3hxUYun/J8Ltm6Jr7p3W7e8txyzfpRkiw9Jz9UQkZR00C9zS6ueafl10VeoyiGMQtL6tmGqM0\n",
       "rsEIpjnOqih4GnytoKH5Q3OyUou6qPKYJTvkJ5qUgivAXzkb0WSMAGOan6tRsdM0uQ3o9mOWzlzy\n",
       "uaVgDK56mAFTHgBbMfwN5PYIeRWiFl9rOc1Te0mCAF0yRswcgQCdPwyfDjDnocQZLZ2gB2eR5R2k\n",
       "9pIEP2nvaF0kziXAAnTMTGk+MS7W6w0s0dEfoVxKhAeDiRAhCtEebIZ8zcQZ3JRgCx4OD8dyOdFq\n",
       "LaNwg7JQF58NiXqrsxWr5eJdsTYqunNuH+MSLL7d0VdeG3UxHiONLJYqbjwJUpYe0qidpYMk0PzS\n",
       "cXNo80ghCmByhILvSALNz5u3pRSJon/CyYy/gRGEN55P8i8ctP97bvkZVbtA8v8De9HII9sJvYcA\n",
       "AAAASUVORK5CYII=\n",
       "\" style=\"display:inline;vertical-align:middle;\" /></a> <a class=\"ProveItLink\" href=\"../__pv_it/demonstrations/838cdc0373373aa7196062a3dff3e09aaea816930/proof.ipynb\" style=\"text-decoration: none\">&nbsp;&#x22A2;&nbsp;&nbsp;</a><a class=\"ProveItLink\" href=\"../__pv_it/demonstrations/77867491a2a10dde1677b525a64c6207a386cc1a0/expr.ipynb\"><img src=\"data:image/png;base64,iVBORw0KGgoAAAANSUhEUgAAAKMAAAAVBAMAAADY0UPbAAAAMFBMVEX///9ERETMzMxUVFSYmJgQ\n",
       "EBDc3NxmZmYiIiJ2dnaqqqoyMjKIiIi6urru7u4AAAB85a56AAAAAXRSTlMAQObYZgAAAAlwSFlz\n",
       "AAAOxAAADsQBlSsOGwAAAlZJREFUOMuNVU1oE0EYfU3SNKu700MPXqwGBL0GaUVsocFTDx4sqHhQ\n",
       "VIqoIJicEuihQou0PdiglvbgIaeiFxP14KlSrB5EQW+elJXgTaiICiYxdeabn2R3MyXfYfbtx3tv\n",
       "vp35dgYA+wxbJNe7Ze0CzX/3xWqJQwe6JHcRSP6eFh9id/U8hadpiW6sDvNxSBU2usRHF1rw9bzF\n",
       "k/jObaA201KpK3D+SZMcKmVgTaZTryZLQBxagBcWyzXDcLXlMeAsAbeO7aqxfA32HDjStqz3bnnJ\n",
       "x8RlAbyLGGxbZniJz7w7xtJr9W55HJhQi4lK1ljyr8aH3x+NJYl6tOSxrJ7ePIwlhQ9juXd8q6ze\n",
       "3p+UYPrhTc0fqAYtY0313DrKxzfRQoRg+yX7IztkCXlZwDkc9BX/ajZomcpoJHb8liymuCBiDlpQ\n",
       "8XFBsksKfMuiCMmf3kDQMm9QP0+ysXKoSBLMAH/pbVatBmaBRUh+LO8HLBOqyFgafbxTnI3wd5Ng\n",
       "EZ5soymdngITDU38vkzA8jGS1ESDLbKs+JG1FII6BkjBmvq/byLxA4pvdpxRDSW4vkD9GfrwFUTW\n",
       "Ugh+irUT6l98YwRgdcSr64pPlg7fP/Gz4HqhUCSUyHb2ZWcIwQj2gTXkyt8jsB+PcrmOvoyPNkaQ\n",
       "EkfH8s5OQ6JPhWFYLWurfLoFXp3z4JRPoPb28Hi6s9UpniCKLJbySPLDIGJZQhTtZukgDBTfPa03\n",
       "bRMRJBowHEbwHWGg+El9TrltUftOONPlNtACM/FmmH/thP3uuV/ukrULiP8fuEK+PGqjM6MAAAAA\n",
       "SUVORK5CYII=\n",
       "\" style=\"display:inline;vertical-align:middle;\" /></a></span>"
      ],
      "text/plain": [
       "{{1, 2, 3} equiv {2, 3, 1}, {2, 3, 1} equiv {b, c, a}} |- {1, 2, 3} equiv {b, c, a}"
      ]
     },
     "metadata": {},
     "output_type": "display_data"
    }
   ],
   "source": [
    "SetEquiv(Set(one, two, three), Set(two, three, one)).apply_transitivity(\n",
    "    SetEquiv(Set(two, three, one), Set(b, c, a)),\n",
    "    assumptions=[SetEquiv(Set(one, two, three), Set(two, three, one)),\n",
    "                 SetEquiv(Set(two, three, one), Set(b, c, a))])"
   ]
  },
  {
   "cell_type": "code",
   "execution_count": 36,
   "metadata": {},
   "outputs": [
    {
     "data": {
      "text/html": [
       "<span style=\"font-size:20px;\"><a class=\"ProveItLink\" href=\"../__pv_it/theorems/2ee8dc2018014830ed832e2e3d65a4df89f102480/expr.ipynb\"><img src=\"data:image/png;base64,iVBORw0KGgoAAAANSUhEUgAAADsAAAAPBAMAAACo4Ko7AAAAMFBMVEX///8QEBAiIiLu7u5ERES6\n",
       "urqYmJiIiIjMzMx2dnZUVFRmZmaqqqoyMjLc3NwAAABb1yYoAAAAAXRSTlMAQObYZgAAAAlwSFlz\n",
       "AAAOxAAADsQBlSsOGwAAAPpJREFUGNNjYACBtwx4wX0wybxQB0iyg9ls/r9WrfWAyPL8B1NMFUkT\n",
       "GBi4IGKMDgwM6xvATO71D0BUGQPzLQaGboj0+wIGhvgNYOa8+WBlC4Bab7DqQaTzgUL5BSAWX0H9\n",
       "ARANNJmh/mMARHo9EF8EG8rNcD4B7koDKC3CwGClAWbFMPRPQPcLx5fyqmsQ5gaG9wtA9CYlENAC\n",
       "i7H/Y2A4CDaT3Xv3egd03SwCDAycP0AscwYGfgV0aX6geWzfIWYzMAmgS/cDDeb6CmSwAhm8H9Dt\n",
       "rgf6qf8CkPEQZNM/dN0XgfpkgZ40+X+Zgcf/L5rPlvxfteoKMKwAotBAF+FrKrQAAAAASUVORK5C\n",
       "YII=\n",
       "\" style=\"display:inline;vertical-align:middle;\" /></a>, <a class=\"ProveItLink\" href=\"../__pv_it/theorems/c082a1f3e1d4883f429c30ba16e4f7e0dc041aaa0/expr.ipynb\"><img src=\"data:image/png;base64,iVBORw0KGgoAAAANSUhEUgAAAD0AAAAOBAMAAABuognZAAAAMFBMVEX///92dnaqqqoiIiLu7u5m\n",
       "Zma6urqIiIjc3NwQEBDMzMwyMjJUVFRERESYmJgAAAAeMT9/AAAAAXRSTlMAQObYZgAAAAlwSFlz\n",
       "AAAOxAAADsQBlSsOGwAAAPpJREFUGNNjYGB4+//Mmb0LGICA5aQRkGRnAAOW2jPnOARArLkMDDy/\n",
       "QAzmqsdAAR6IfGUJA1PwAyCD4zsDA9tXkFAdA8seBoalYGlfKyAR3wAk+IB6+b6DxA4ANe9iswDL\n",
       "73QAEpkgFs8HBgbuGSAWyLb6nwkgJuMnEAk2ivMCA8vhBQww4AAm+w1ApBeIWH+9/PQDBjQgXwBn\n",
       "1jcwMM0Ds4KNQcAGxLRvgMvfBClfgKZ/PsKuP0D8vgBN3h5EMIF0cf0DEucT0OTBPmcEsdh/ANX8\n",
       "Rre/H2SgCIjFPQEYDlvQ3c8ENDURZD3P/T9nTl9iwACud46C7AQAQGA/+2Bfe2EAAAAASUVORK5C\n",
       "YII=\n",
       "\" style=\"display:inline;vertical-align:middle;\" /></a> <a class=\"ProveItLink\" href=\"../__pv_it/demonstrations/cd01b79a0e08a446ea58c7772df4a0afbb965e3a0/proof.ipynb\" style=\"text-decoration: none\">&nbsp;&#x22A2;&nbsp;&nbsp;</a><a class=\"ProveItLink\" href=\"../__pv_it/theorems/db459a6bb74aff8993cf8b072a18984fcf5a8cf30/expr.ipynb\"><img src=\"data:image/png;base64,iVBORw0KGgoAAAANSUhEUgAAADsAAAAPBAMAAACo4Ko7AAAAMFBMVEX///8QEBAiIiLu7u5ERES6\n",
       "urqYmJiIiIjMzMx2dnZUVFRmZmaqqqoyMjLc3NwAAABb1yYoAAAAAXRSTlMAQObYZgAAAAlwSFlz\n",
       "AAAOxAAADsQBlSsOGwAAAOhJREFUGNNjYACBtwx4wX0wybxQB0iyQ4SYS1Yt45sAZvL8B1NMFUlA\n",
       "PhdEurCYgWdTApjJvf4BiCpjYL7FwNANFjLRABL7wcIM8+Y3gKgFQK03WPXAQhcNgEQgmMlXUH8A\n",
       "RINsqv8YAGJy/gGREIO4Gc4nwF1pACbfK4BICzA7hqF/AppX5hcg2BsY3i8A0ZuUQEALxNR/AJdl\n",
       "99693gFNtzzCInMGBn4FNGl9cHA0QMxmYBJAkwb7mBPEYgW6mvcDmt3vQU6bDGI9BGKWf2i6eb4x\n",
       "MESCrDb5f5mBx/8vus+svVaDwgcA38k2+0P7WL0AAAAASUVORK5CYII=\n",
       "\" style=\"display:inline;vertical-align:middle;\" /></a></span>"
      ],
      "text/plain": [
       "{A equiv B, B equiv C} |- A equiv C"
      ]
     },
     "metadata": {},
     "output_type": "display_data"
    }
   ],
   "source": [
    "SetEquiv(A, B).apply_transitivity(\n",
    "    SetEquiv(B, C), assumptions=[SetEquiv(A, B), SetEquiv(B, C)])"
   ]
  },
  {
   "cell_type": "markdown",
   "metadata": {},
   "source": [
    "### Testing the `SetEquiv.deduce_in_bool()` method<br/>\n",
    "\n",
    "The `deduce_in_bool()` method has the following format:<br/>\n",
    "\n",
    "<div style=\"width: 50%; border: 1px solid green; padding: 5px; margin: 20px; background-color: gainsboro; font-family:courier\">deduce_in_bool(**defaults_config):</div>\n",
    "\n",
    "and attempts to deduce and return that this `SetEquiv` claim is in the `Boolean` set."
   ]
  },
  {
   "cell_type": "code",
   "execution_count": 37,
   "metadata": {},
   "outputs": [
    {
     "data": {
      "text/html": [
       "<span style=\"font-size:20px;\"> <a class=\"ProveItLink\" href=\"../__pv_it/demonstrations/1669a8bee74be3b74460aa3ca3b385c7131b43ca0/proof.ipynb\" style=\"text-decoration: none\">&nbsp;&#x22A2;&nbsp;&nbsp;</a><a class=\"ProveItLink\" href=\"../__pv_it/demonstrations/31ca42e194483478b36334c47a1c6063c2bbdb340/expr.ipynb\"><img src=\"data:image/png;base64,iVBORw0KGgoAAAANSUhEUgAAAN0AAAAVBAMAAAAwUfbwAAAAMFBMVEX////MzMxUVFRERES6uroi\n",
       "IiIQEBCYmJhmZmYyMjLu7u52dnaqqqqIiIjc3NwAAACW8nlqAAAAAXRSTlMAQObYZgAAAAlwSFlz\n",
       "AAAOxAAADsQBlSsOGwAAAtFJREFUSMeFVk1oE0EU/vLbJE22QRAFD40/B3ORtdRLwdpL/UUo0aCi\n",
       "gtCWgheDnkQPwVOilyClgqAN6sVDMVQivWhzURDBFEGLghjwogj+HDxYinH2zexsdmbXHdjdNzvf\n",
       "976ZeW/fLIAOgAdj8GvGa6+3QQTDdzjTYtds3XccG0Y8SEGE6Iry8u3k/FzBmuQrdrUt9kbbxZfq\n",
       "bmF9Wxpm9yHeuTfNZgbuxyKoMGrkxCKsqrMwjxq3dwCpGrOb7LlzXugZJpb5bqXKaLdo1GpnN51m\n",
       "9xzZTQ8YpBOLkFQ3wDyAZxEgURIAfBKIcAfxc3zX1vGoZutlSniYQ6hs62kwSCcWoa+s610NA3Go\n",
       "evE1hP+SFZ3CgNRjWOSz4x1bT4O59XBeRHpP8ZTUSwIvNb3wBMK/7Fm1S7Zev0XuTkGuT4Uperf4\n",
       "XO7UnfXtugLc0PRYi/0URvQEZPwoQJB6GkzRW6T+17qTLwuFhphGVdEbFNkcerOV3d/pKV/1gDl6\n",
       "RLhM/btO/Mbnfl8HzlgZOaPoFaRlJd4PSr5EkRrlJycoMEePCC+oX+vNl9VDdbCAGPkxt17ClCiW\n",
       "FUjlW0oF4QQF5ugRYZBWPs2meMzWi0Qblh42j7j1LopnKIvIOsuUWXU7OUGBOXpE2E/xNnvXF4FJ\n",
       "+8kriNRLN/CdjIE1ctTWa9eQB8zRI8Jz6k+49WrY68pP8rwF+EBWPEcb9QRq/IigwOqOHhEuUf+j\n",
       "Sy+9wtOW9JY7SP2xonOyUpkgq6/U8/25WlODkUVOBIE+NCRl6M0jeLrECqytt+3CzRKKbHqxbrdb\n",
       "IwsHK8Pw01NhZJETTjjOP9jthznj/eQ+Oh9i2V6P6bpu+egFEAwRuehjUc9Eo7oq6f3Qrf/q+RIS\n",
       "JZ/TcbS3gixAt0QxcbVgwme/0/i+XRAgT1O3lZrRScGEUd/fDQY0rrX8f0cWPcYCCZmO9+A/9r4N\n",
       "1M4B184AAAAASUVORK5CYII=\n",
       "\" style=\"display:inline;vertical-align:middle;\" /></a></span>"
      ],
      "text/plain": [
       "|- ({1, 2, 3} equiv {2, 3, 1}) in BOOLEAN"
      ]
     },
     "metadata": {},
     "output_type": "display_data"
    }
   ],
   "source": [
    "SetEquiv(Set(one, two, three), Set(two, three, one)).deduce_in_bool()"
   ]
  },
  {
   "cell_type": "code",
   "execution_count": 38,
   "metadata": {},
   "outputs": [
    {
     "data": {
      "text/html": [
       "<span style=\"font-size:20px;\"> <a class=\"ProveItLink\" href=\"../__pv_it/demonstrations/25d8ccd463574de48502165e6478d6f457dbe8cf0/proof.ipynb\" style=\"text-decoration: none\">&nbsp;&#x22A2;&nbsp;&nbsp;</a><a class=\"ProveItLink\" href=\"../__pv_it/demonstrations/c7a09b66157590ec9dfe571fea9d35cbc1a1087a0/expr.ipynb\"><img src=\"data:image/png;base64,iVBORw0KGgoAAAANSUhEUgAAAMkAAAAVBAMAAAAeFNdiAAAAMFBMVEX////MzMxUVFRERES6uroi\n",
       "IiIQEBCYmJhmZmYyMjLu7u52dnaqqqqIiIjc3NwAAACW8nlqAAAAAXRSTlMAQObYZgAAAAlwSFlz\n",
       "AAAOxAAADsQBlSsOGwAAAxRJREFUSMd9lV1IFFEUx//uruu6H8MWhEKEtgYlfbAFvQilBBYVwWIZ\n",
       "RQWiidCLSz1E1IPoi9rLImIUlYNF1IOwGEYflPtSEEH5klIRDvSQ0YdGWBTSdu6ZOzM7X13Y2TNn\n",
       "zv/+7p1zzh0AGoCbTfAbXzQvr0ugvBQX31kSBfoNq77Py+o8ntkFSUQ1rGwAQtOOuNcdoyMtYkEv\n",
       "6PdKaFYZwvmBrXJ9j/ooIlir34110nqgz8MCVEtB9+VWut9G1qxzOekDypV1QDRH9iT9bxiVFCWN\n",
       "Kf193EZ8GYhldP+JqmN01ZGTfG2RUx1eeih9lc59p/fgSRCIZA3RnIwIaAi3sTVXiP42KYks7tSi\n",
       "rMeiJAyKRa7ocVMuBIAwnJTwHwT+srW7CRaFYlGfbNYsStWQi4JTMm/bW4+alErguYsSyCDwXerj\n",
       "v0xKTIiLJ2HNmPegXGIzdE219rLlPHDRRaFRviiN5qyVFzGisCgJzaCsf7fWmGSCHZ9UK/vjLXkJ\n",
       "H3BQamRFrkklabY2dyULwUcYlAYsULnMCPMcO65beWkeWRoEjouq6nJQjLRyjSnLbEZaefDbYUHe\n",
       "pFC1034XRKE/49tcafZn96qgF63UN9kpkbQZ1U3OsavOPheCCq2EEqFyidYTpoYbuZOWc9CgBEN5\n",
       "QUF1g51yWv6vABpJ+cB1/AjBVxiUYA4RKpfYsChLzl66dC9BpPmNcdtalHge39goqoIS/+POCwl2\n",
       "pVI/N+qlT0W5KM+Dp+zJ2Ck57LDVGINWA2/Zauc3Fmtz5UX2frsuoBoP0+rvCdcZfvDeRolP66XH\n",
       "oikNotWhHOnvz7B1trRfbEOn/JCCHsyo0seNgcqCSdmPx/fpjDREqe6hLMSpV14sFnNshfrFaelL\n",
       "6Stu5jDM9w4avkN6W9Xt0+PedDTymVyeNJcmUqK6Lf+92MLYp8jY0F15wsjB55spisHD+h8lZvfx\n",
       "2es1dkK2rRjjcFuRnFvkIeDz4IPft/AGZNvC/EbZrVse6/MQRLvkkj2HQoFKb8H3i/x5k5fIJVAm\n",
       "xJdd857jH6rU619PUU8dAAAAAElFTkSuQmCC\n",
       "\" style=\"display:inline;vertical-align:middle;\" /></a></span>"
      ],
      "text/plain": [
       "|- ({1, 2, 3} equiv {4, 5}) in BOOLEAN"
      ]
     },
     "metadata": {},
     "output_type": "display_data"
    }
   ],
   "source": [
    "SetEquiv(Set(one, two, three), Set(four, five)).deduce_in_bool()"
   ]
  },
  {
   "cell_type": "code",
   "execution_count": 39,
   "metadata": {},
   "outputs": [
    {
     "data": {
      "text/html": [
       "<span style=\"font-size:20px;\"> <a class=\"ProveItLink\" href=\"../__pv_it/demonstrations/245822dd2c6baa7db22c11826535a7381f814d480/proof.ipynb\" style=\"text-decoration: none\">&nbsp;&#x22A2;&nbsp;&nbsp;</a><a class=\"ProveItLink\" href=\"../__pv_it/demonstrations/9533ee7e3790fb29d3eef58b2ebca7a6de9d3a490/expr.ipynb\"><img src=\"data:image/png;base64,iVBORw0KGgoAAAANSUhEUgAAAN0AAAAVBAMAAAAwUfbwAAAAMFBMVEX////MzMxUVFRERES6uroi\n",
       "IiIQEBCYmJhmZmYyMjLu7u52dnaqqqqIiIjc3NwAAACW8nlqAAAAAXRSTlMAQObYZgAAAAlwSFlz\n",
       "AAAOxAAADsQBlSsOGwAAAz5JREFUSMd9VltIFFEY/va+zo7jFkRBVKY9JFRMUi+C6YtdERZDKiqQ\n",
       "VHrLoZeCeliKaK2HhhADqVwspB6kxTCMMPelhwhSgoyKcgmCwi4GRSRb2zlnzlzPzh7YmW/nfN//\n",
       "nct//hkABQC3W+HXvhTKPa0gUJ7Ta8GvuzpPfgNZX3mgvkxfJQGWN5FLu+fhy+7hwQ46yGfkN0PV\n",
       "K8wQn/q38pE+Ok8YoVrj30gvGRlmGaYCi4aFyW2u2I10RJrHUG1XhjYAkk7wBLlvHOZ+ioppY7Xu\n",
       "QC4CiZTx/OjKw+RqmE84aVIaM3ln6Al6GfL67cLjEBDXTMI89wsWEO1iaD4v/bH8yIDv1iKQNiPa\n",
       "tOoi7umC32nR72wQiMLrF11C8B9DO1th+xEuGpJtBTOiTQv3oEb0ixrhqrd3HrL8qoCngl8wheAP\n",
       "rpR/W34JKi71WBGdNMxogl8VexS+kbXnt+UMcFnwIy2yyEGbZu8f2ypnRJsWPsDBh6mvZm+C7fTn\n",
       "rJ0vYx054BrF/R6/dUYWYk1dkkyqS0z5fhct8GI99z2BFhJljuIYW+Kb9v61Df66BByhGXnc49dh\n",
       "ApqfSpHBeCdrbNSGwKaZ+Tmq4QK5faf/ZDZM3Zkvr/ZkQTZEaWh1+8VVi9VHHo5c91YQQ+CgkeSh\n",
       "7QpAz4zUQAwDdLEDvWSI+02/UDhH/bCqye13kt+XAS1E+VCoXYbApAWSCBlr0A3pJ926Abq2dH6S\n",
       "6pxfCCpbT1YQbD85h28MlLLUT14S96/RSatZ4n7SX8QWzXIlszRLuf10NLvyk1muBt4wdIytZ6JL\n",
       "2D8msGjRWrqeBElFBHVSrR+wfGFTe+fyk2cxbvlNF0DLCZSDmUyKoVPO8wfPCbNpMY2cP4aa8SSd\n",
       "5uHiOXYKrUKn7sPUJKnSpl9d31UNnWSUkVKppDMUztB67eNn07A7Q+o1RSNv125Ocr8I23Wpfq+h\n",
       "eN3dwt4PkaR1fOmiZ0Xk4+cvMHo/8iN5n9cz3mJppzyBMqiSXzmB0XvR5+24A7wg0DYGEcV1UVRR\n",
       "wKqPovr43TILAqy3qRuNaqKookCi1Sfk90GhEKJyLu/7dbCwqZyogkAZp33vy3f+B1Y4BxHsvy9/\n",
       "AAAAAElFTkSuQmCC\n",
       "\" style=\"display:inline;vertical-align:middle;\" /></a></span>"
      ],
      "text/plain": [
       "|- ({1, 2, 3} equiv {2, 3, a}) in BOOLEAN"
      ]
     },
     "metadata": {},
     "output_type": "display_data"
    }
   ],
   "source": [
    "SetEquiv(Set(one, two, three), Set(two, three, a)).deduce_in_bool(assumptions=[Equals(a, one)])"
   ]
  },
  {
   "cell_type": "markdown",
   "metadata": {},
   "source": [
    "### Testing the `SetNotEquiv.derive_reversed()` method<br/>\n",
    "\n",
    "The `derive_reversed()` method has the following format:<br/>\n",
    "\n",
    "<div style=\"width: 50%; border: 1px solid green; padding: 5px; margin: 20px; background-color: gainsboro; font-family:courier\">derive_reversed(**defaults_config)</div>\n",
    "\n",
    "and from A not_equiv B attempts to derive B not_equiv A. This derivation is also an automatic side-effect in the side_effects() method."
   ]
  },
  {
   "cell_type": "code",
   "execution_count": 40,
   "metadata": {},
   "outputs": [
    {
     "data": {
      "text/html": [
       "<span style=\"font-size:20px;\"><a class=\"ProveItLink\" href=\"../__pv_it/axioms/040e9a1f9b739ee8859835262ddf22eb997ee4790/expr.ipynb\"><img src=\"data:image/png;base64,iVBORw0KGgoAAAANSUhEUgAAADsAAAATBAMAAADc9GjbAAAAMFBMVEX///8QEBAiIiLu7u5ERES6\n",
       "urqYmJiIiIjMzMx2dnZUVFRmZmaqqqoyMjLc3NwAAABb1yYoAAAAAXRSTlMAQObYZgAAAAlwSFlz\n",
       "AAAOxAAADsQBlSsOGwAAAR9JREFUKM9jYACBtwx4wX0Ekw9Csfn/WrXWA8Lm+Y+QhhnE6MDAsL4B\n",
       "zORe/wBEsd6/zsDgwQ6Rfl/AwBC/AcycNx+srCnjiCjPBhOIdD5QKL8AbF1B/QEQvY6BIcgxRhUi\n",
       "vR6IL4IN5WY4nwCiQWov/j0AkRZhYLDSALNiGPonwNx9Acrg+FJedQ3C3MDwfgFUlCsAymD/x8Bw\n",
       "EGwmu/fu9Q5Q0RCY/1gEGBg4f4BY5gwM/AogxiYlpU9KSlpgaX6geWzfIWYzMAlAwwrmBoZ+oMFc\n",
       "X0GBAWTwfoAIMsEDrx7op36QOx+CbPoHEZwGl74I1CdrwMBg8v8yA4//X5CpmxSFlKB2L/m/atWV\n",
       "A2gRB/cWdtCCP9o98Es3YIgAAMetR04fyAbSAAAAAElFTkSuQmCC\n",
       "\" style=\"display:inline;vertical-align:middle;\" /></a> <a class=\"ProveItLink\" href=\"../__pv_it/demonstrations/0127ed9cafe9a3850521ccd9f3d822acafb1b9da0/proof.ipynb\" style=\"text-decoration: none\">&nbsp;&#x22A2;&nbsp;&nbsp;</a><a class=\"ProveItLink\" href=\"../__pv_it/theorems/81adfd4b67c4f3bd7b302abb473517e45d0afc400/expr.ipynb\"><img src=\"data:image/png;base64,iVBORw0KGgoAAAANSUhEUgAAADsAAAATBAMAAADc9GjbAAAAMFBMVEX///92dnaqqqoiIiLu7u5m\n",
       "Zma6urqIiIjc3NwQEBDMzMwyMjJUVFRERESYmJgAAAAeMT9/AAAAAXRSTlMAQObYZgAAAAlwSFlz\n",
       "AAAOxAAADsQBlSsOGwAAARtJREFUKM9jYMANusHk2/9nzuxdABdsgLP2Q6i5DAw8v2BiHBtgLKb/\n",
       "EIHvDAxsX0Gs7N8FDLwLCqDSrOfBBvEBdfIBlTBw2S26maDKcgEqLSEPtpHnAwMD9wwQo4GBzXaa\n",
       "cgLUloJ6BRDNeYGB5TBIITsQc8/fBDObQf8BiF5/vfz0A1TPgEASw3oBEF3fwMA0DyZ4DC4dwNB/\n",
       "AETfBGJ5qL/ZYO5iYL8aeh7M+QPE70G+YTU2tjc2NgbrYXBnYOA3AHnnH5A4D3XuQySzGZgngEz5\n",
       "AVTyGypoAJNlAzqW+wPIK0A1mVsggoxwH3QCMS9QI8/9P2dOX4L41HimMdRu3/9bGJju/xZAjcJj\n",
       "DPgA1wW80rwL8OvGEAEA55lMP2aE8Z4AAAAASUVORK5CYII=\n",
       "\" style=\"display:inline;vertical-align:middle;\" /></a></span>"
      ],
      "text/plain": [
       "{A not_equiv B} |- B not_equiv A"
      ]
     },
     "metadata": {},
     "output_type": "display_data"
    }
   ],
   "source": [
    "SetNotEquiv(A, B).derive_reversed(assumptions=[SetNotEquiv(A, B)])"
   ]
  },
  {
   "cell_type": "code",
   "execution_count": 41,
   "metadata": {},
   "outputs": [
    {
     "data": {
      "text/html": [
       "<span style=\"font-size:20px;\"><a class=\"ProveItLink\" href=\"../__pv_it/demonstrations/e9d59e687c6547a5e9b9d1b93e78eaf44c9577650/expr.ipynb\"><img src=\"data:image/png;base64,iVBORw0KGgoAAAANSUhEUgAAAKMAAAAVBAMAAADY0UPbAAAAMFBMVEX///8AAAAAAAAAAAAAAAAA\n",
       "AAAAAAAAAAAAAAAAAAAAAAAAAAAAAAAAAAAAAAAAAAAv3aB7AAAAD3RSTlMAEER2zVSJ3Zki72ar\n",
       "MruaaVGaAAAACXBIWXMAAA7EAAAOxAGVKw4bAAACe0lEQVQ4y4VVQWgTQRR9mzXbpknaBW9SWhVE\n",
       "TxJQPEgPUS/iQdeL0osJeEixCiroggrNoZCcUkFRkaJSD0WFGvBcCFQRLdLcRBDBehGxaEyiiEid\n",
       "+TOzO5vdtQO782b2vTd/5/+dBWBsR1xLjUfNxgsUf++2WEu8/xgx+R+B4Cdb7Ja9oNapHm0KdGti\n",
       "ld2/6jGIjgReG5kPeBLfOg8MTyvaPVg/xNuVUXCAkka/KTou0NrhwKjkMUxl+Qp4TMDsYjTvWSaO\n",
       "HQLWzCjL7kaWT22sXCeTOQz5lm8XT80lyyMRlonWRpYvgRW5mSjUPUsW/M4vOy5GWPbEHGHJ2pRa\n",
       "/yo8yxy7jnQc32T29A3xZNPSmCPN9yxKfn8+aJlty37sDbvv9/Odl4ALEo/wzabR6AHjt3h+CTXJ\n",
       "v1sPWvY1FOIZv++oUWarBFywpY6KJNl4KHRFDjh/9iCCljUPDbBJ47ny3C17EswAl8VwGvhJYIai\n",
       "5vxszQ5YpmWQ2SYGWX1YtCIqrvvLda/RAy5YgCHKlzknRBktiA3l/MFGwPIEUlREQy2yLNhqqaJi\n",
       "MIHRRvq7Kst+0hpttQ9axg2KoQjT5migQS9+xttivWyMLjL5cXD5X76vHPxhSZN8srRY1vjHgtvV\n",
       "aoVQuq7XJTAZqMRPOFkuGx02WsZnEGA5OKfVZeZ1Zxl9/OiYWl/vCLSruurXZeXKvCv3UhwK+94t\n",
       "NeGy6IYn2MIcWJPPbL3UqR1HGJV6S0gXJO1e0GvpJUBDyvJD1CdohYDgmw/UYZ1DCPGyo7bmW3oC\n",
       "bA4BwU+p08n0Rf4/4YkETe0k9o6zXAhI/p0X8f+es07EbLyA+P8AdVWs8x2aB4oAAAAASUVORK5C\n",
       "YII=\n",
       "\" style=\"display:inline;vertical-align:middle;\" /></a> <a class=\"ProveItLink\" href=\"../__pv_it/demonstrations/1f5f0eb16f98aa5fee683e2af89c2fc2b541ff3c0/proof.ipynb\" style=\"text-decoration: none\">&nbsp;&#x22A2;&nbsp;&nbsp;</a><a class=\"ProveItLink\" href=\"../__pv_it/demonstrations/0fb452e04ab103fdc3cb73186046fa01107654530/expr.ipynb\"><img src=\"data:image/png;base64,iVBORw0KGgoAAAANSUhEUgAAAKMAAAAVBAMAAADY0UPbAAAAMFBMVEX///8AAAAAAAAAAAAAAAAA\n",
       "AAAAAAAAAAAAAAAAAAAAAAAAAAAAAAAAAAAAAAAAAAAv3aB7AAAAD3RSTlMAEER2zVSJ3Zki72ar\n",
       "MruaaVGaAAAACXBIWXMAAA7EAAAOxAGVKw4bAAACe0lEQVQ4y4WVP2hTURTGv5uYv81Lg24SbBQH\n",
       "x4jiIB1iQHCMU+2UgENLVYyDfUKlZgiYQdqCIlUKljqIFmpAcFIIbV0sQhZFQTCti4hio4kgUuL9\n",
       "n/dyX+xb3ndPzvd759577g0Acgh9nsioV3RvCrsZjh/sm/Jx04z5swnsYgg0nbEDj1wp3xx6Trzy\n",
       "jGhdkcH58nep7o5vKUOw6IKccY3GHJPKdEPJsqwj0sBlsQ6khHxOGnqQbS/k4VYa8Xq6G/JLZGwO\n",
       "0UWxHm0MZTyRvqYH0pp6+zV1jjRMZLSJ2B9hXMKgN7Kn5jFVi296aSTlUWURsR2VnK86kQvnb4vw\n",
       "nrXhnIQfe6mQfvbD09MwkfQJbasJTqlfw7Rc32P8EK0xdIqIiUSuYgY4qZ13lCj3ID+JJYY1/AbS\n",
       "cJ+Wu7+Km7pFHoqPF5h4kFPOVbXxyz3I61qxHWeGhSwdzAKTuobfXMzyqsm6ZPoakrieciPDDY2k\n",
       "e8UN1gz1roD8FOFJ+EQbrYgFzXKbbd+wbbvG9PtNN/KFfFt1xNvSEK+B/MLAtmrLMM+mIX1U2PPc\n",
       "faA0MlDAPS4GmxzJDXTHSRuxzCjYaIetKxN/6WSBCQUquvuKIQkT74CjPD9a4xOfUE30GSOlEmnR\n",
       "0Qa+gAu63Ze6BzJYdSODtC3YYYlcq1SKPH+g6u7L5IkPa3XY9GvJcRpnInjhWUIhw/YTW60lD8Ve\n",
       "tzYQoldHqNPpZHg+jlS2YJyeQKJX6CpXvW6Ss4bRQAYNofxWwwtZMPPlSi+q4T5DiKNCu6LeNekD\n",
       "RdJmvjBE9HWWNgRZllU6bhJ9oPww8pVh/lXfv5KLOY/grRz+a/gHUSGutZEdStgAAAAASUVORK5C\n",
       "YII=\n",
       "\" style=\"display:inline;vertical-align:middle;\" /></a></span>"
      ],
      "text/plain": [
       "{{1, 2, 3} not_equiv {a, b, c}} |- {a, b, c} not_equiv {1, 2, 3}"
      ]
     },
     "metadata": {},
     "output_type": "display_data"
    }
   ],
   "source": [
    "SetNotEquiv(Set(one, two , three), Set(a, b, c)).derive_reversed(\n",
    "        assumptions=[SetNotEquiv(Set(one, two , three), Set(a, b, c))])"
   ]
  },
  {
   "cell_type": "code",
   "execution_count": 42,
   "metadata": {},
   "outputs": [
    {
     "data": {
      "text/html": [
       "<span style=\"font-size:20px;\"><a class=\"ProveItLink\" href=\"../__pv_it/demonstrations/58dcddaa3f0586712b8202dfe79de39ff71997770/expr.ipynb\"><img src=\"data:image/png;base64,iVBORw0KGgoAAAANSUhEUgAAADoAAAATBAMAAAAzNgPlAAAAMFBMVEX///8QEBAiIiLu7u5ERES6\n",
       "urqYmJiIiIjMzMx2dnZUVFRmZmaqqqoyMjLc3NwAAABb1yYoAAAAAXRSTlMAQObYZgAAAAlwSFlz\n",
       "AAAOxAAADsQBlSsOGwAAARBJREFUKM9jYACBtwyogO2iy19FNxjvPkKCD0yy8C1gXeYMEeH5j5B9\n",
       "C5WdwODQBRHhXv8ARLHev87A4MEOk93HC5GdN78BRDVlHBHl2WACl2WBWFVQfwBEr2NgCHKMUYXJ\n",
       "LraCGMxwPgFEFwDxxb8HoLIcPvfAsjEM/RNgLr7AAHWVrL66AZi5geH9AqgsVwBMdloyRCG79+71\n",
       "DlDZEAaY7ATnNDDLnIGBXwHE2KSk9ElJSQsq281iADGYgUkAGoITEHq5+0AGsgLdy/sBIsjEgJBl\n",
       "digDMh6COP8ggtMQshsY0lgCGEz+X2bg8f8LMnKTopASxF5gHH15wOL7ByXiYP7BDlrwSTJ44JVt\n",
       "QBcAACguQ1N/1ZPGAAAAAElFTkSuQmCC\n",
       "\" style=\"display:inline;vertical-align:middle;\" /></a> <a class=\"ProveItLink\" href=\"../__pv_it/demonstrations/ae0b63db446b1fd28b83a6650c49ba39ef20ad770/proof.ipynb\" style=\"text-decoration: none\">&nbsp;&#x22A2;&nbsp;&nbsp;</a><a class=\"ProveItLink\" href=\"../__pv_it/demonstrations/5c97329577cceffe81118c474f22fba6b52eb5870/expr.ipynb\"><img src=\"data:image/png;base64,iVBORw0KGgoAAAANSUhEUgAAADkAAAATBAMAAADYAbjmAAAAMFBMVEX///+IiIiqqqpmZmbMzMx2\n",
       "dnbu7u66urpUVFTc3NwiIiJEREQQEBAyMjKYmJgAAAA9S0TaAAAAAXRSTlMAQObYZgAAAAlwSFlz\n",
       "AAAOxAAADsQBlSsOGwAAAQ9JREFUKM9jeHt6/63TDxiwgLkgYsMMhorXCXCxCXDWfbDsVAZulgaY\n",
       "EOcFGIvpP1SWeQJYrPavAAO3gwBUlrl/Akx2A5DBss5pT4Ey2waobGS8A0SWIw1kMscEBvbVx7UK\n",
       "oFYIyCtAZL11QYYwAjHv+Uswgxn0QT7ZMOfWLzEUX4BBEYN/AFjvu1y4WDucZcAwvwEsy50HCw12\n",
       "mJMYGDcb928Ay7IYbAPbtGrV+lWrVkG8nsjAwL8A4iqT2VAdT5EMZuA6AJHNZoQavQAmyQ4U4P0A\n",
       "kp3MwPdgO1iMFR4bc4CY+ycDAzCOdjLsvq8AsvfMKqi92f+vMTDt/xuAEmftDHgAywZ8stwOePVi\n",
       "iAAA5VtYnjx2T5sAAAAASUVORK5CYII=\n",
       "\" style=\"display:inline;vertical-align:middle;\" /></a></span>"
      ],
      "text/plain": [
       "{A not_equiv Real} |- Real not_equiv A"
      ]
     },
     "metadata": {},
     "output_type": "display_data"
    }
   ],
   "source": [
    "# We can use standard pre-defined sets as well\n",
    "SetNotEquiv(A, Real).derive_reversed(assumptions=[SetNotEquiv(A, Real)])"
   ]
  },
  {
   "cell_type": "code",
   "execution_count": 43,
   "metadata": {},
   "outputs": [
    {
     "name": "stdout",
     "output_type": "stream",
     "text": [
      "InstantiationFailure: Proof step failed:\n",
      "Attempting to instantiate |- forall_{A, B | A not_equiv B} (B not_equiv A) with {A: {1, 2, 3}, B: {a, b, c}}:\n",
      "Unsatisfied condition: {1, 2, 3} not_equiv {a, b, c}. For debugging purposes, this is accessible via Instantiation.unsatisfied_condition with applicable assumptions in Instantiation.condition_assumptions.\n"
     ]
    }
   ],
   "source": [
    "# We must already know or assume that the SetNotEquiv holds in one direction\n",
    "try:\n",
    "    SetNotEquiv(Set(one, two , three), Set(a, b, c)).derive_reversed()\n",
    "    assert False, \"Should not make it this far!\"\n",
    "except InstantiationFailure as the_error:\n",
    "    print(\"InstantiationFailure: {}\".format(the_error))"
   ]
  },
  {
   "cell_type": "markdown",
   "metadata": {},
   "source": [
    "### Testing the `SetNotEquiv.definition()` method<br/>\n",
    "\n",
    "The `definition()` method has the following format:<br/>\n",
    "\n",
    "<div style=\"width: 50%; border: 1px solid green; padding: 5px; margin: 20px; background-color: gainsboro; font-family:courier\">definition(**defaults_config):</div>\n",
    "\n",
    "and returns (A not_equiv B) = Not(A equiv B) starting with self (A not_equiv B)."
   ]
  },
  {
   "cell_type": "code",
   "execution_count": 44,
   "metadata": {},
   "outputs": [
    {
     "data": {
      "text/html": [
       "<span style=\"font-size:20px;\"> <a class=\"ProveItLink\" href=\"../__pv_it/demonstrations/24edf29d73bd63828f995a7a1e6fbeacb00839ce0/proof.ipynb\" style=\"text-decoration: none\">&nbsp;&#x22A2;&nbsp;&nbsp;</a><a class=\"ProveItLink\" href=\"../__pv_it/axioms/b0bcc8f24b80642a25521f93ec65bd4aafc04ce50/expr.ipynb\"><img src=\"data:image/png;base64,iVBORw0KGgoAAAANSUhEUgAAANEAAAAVBAMAAAAqbRZ+AAAAMFBMVEX////MzMxUVFRERES6uroi\n",
       "IiIQEBCYmJhmZmYyMjLu7u52dnaqqqqIiIjc3NwAAACW8nlqAAAAAXRSTlMAQObYZgAAAAlwSFlz\n",
       "AAAOxAAADsQBlSsOGwAAAuZJREFUSMeFVU1oE1EQnjT/m00akIC3hAiCF5NcxEtNQdRLxVRqT0EC\n",
       "xoOeIiLUU0OhtNBLVahQkQZz8iAUL940UCyUHhr10IuagiiIlNbWKsGfOG9mX/r2bZt98GXezs58\n",
       "M29m9gUANqDnih2k3HAz0GzJPtqg56+HGfqaTp3lw+s9x5s9jOCiBVjl5wVHksH8TvpEDmDd6byq\n",
       "7M1FEuFtEsbxoshEJYhWgGBwLmZn31ceL5AFyMQhXNMDGWr+T1mscST/mzsYuc9GMI9bRKhCylCG\n",
       "SulbeAyQ45RgC+t2qQrBqh7J8uE1xWLiH4l1MO4DHLURjOEWEWDly1dxIRK3lspmtc66cVSNo/FN\n",
       "PVJAfSjRb+Tbd5IpPNA931UbQQCLgljh1jRb1OSTAOdODY2wYQYxh0d9qEdaUdvEldyM/iEpmtb6\n",
       "OWgjCGMJEDNcD1ijiog5m2tbk3UN4Mkwyud6pBm1kjwQVfPXvk421iKIpAic8BAkF+XkyXZ7dj+8\n",
       "pbd3ifEKrZTYq4cMU4a+hue3Y0IlQXCWUOSUYCtlve8blB8N9nhZ8CzrFEUZGGfF3+CaxHbo1STp\n",
       "L9sIzBKhTLrT05msRXNW8nnRICL6nNQjleXxMbsAJfZuemLXcSZJ4NkmkNczgP6CldKeTKkfeYJ/\n",
       "cXPeNZKB/d1zRJIEvhKhyMUDf8m6GWS/IIkH7/uBm9d6n4pKJKpeCDHqiCQJzAJhQPSz0r1NwN81\n",
       "bOGAJ8V43NYpBmQkzNArxvVC9zpT+yQJglmCGOEvoqj8jcOLLt8cpnCjpg01LXXsxQjHRD3yjv8E\n",
       "SSA+BEQCoN6ZBzPfFmWbHL0uUzrWSacf0GCN6BQJdZQLYOTbNVjqPNKsugT+QYI/bnvdnXHlai/o\n",
       "GpvPMLitzwzt/jziNLTdpzw1qs+Ya6QpC2ds2pzT8JNTpfp4Xf6zIZZlQN2mjvemtZbqY2RdIolU\n",
       "KJ1Ys7dh9ICcbT6bLpE+Mv4DshvMbmGpu68AAAAASUVORK5CYII=\n",
       "\" style=\"display:inline;vertical-align:middle;\" /></a></span>"
      ],
      "text/plain": [
       "|- (A not_equiv B) = [not](A equiv B)"
      ]
     },
     "metadata": {},
     "output_type": "display_data"
    }
   ],
   "source": [
    "SetNotEquiv(A, B).definition()"
   ]
  },
  {
   "cell_type": "code",
   "execution_count": 45,
   "metadata": {},
   "outputs": [
    {
     "data": {
      "text/html": [
       "<span style=\"font-size:20px;\"> <a class=\"ProveItLink\" href=\"../__pv_it/demonstrations/6b78ae28d94d45f7fb6a3fb6e3ac6ecccfa8495f0/proof.ipynb\" style=\"text-decoration: none\">&nbsp;&#x22A2;&nbsp;&nbsp;</a><a class=\"ProveItLink\" href=\"../__pv_it/demonstrations/b1ae66fa310c78a8914358ccdbaa616ab92e9fe10/expr.ipynb\"><img src=\"data:image/png;base64,iVBORw0KGgoAAAANSUhEUgAAAaoAAAAVBAMAAADlSrfRAAAAMFBMVEX////MzMxUVFRERES6uroi\n",
       "IiIQEBCYmJhmZmYyMjLu7u52dnaqqqqIiIjc3NwAAACW8nlqAAAAAXRSTlMAQObYZgAAAAlwSFlz\n",
       "AAAOxAAADsQBlSsOGwAABAhJREFUWMOVWE1oE0EU/pImaboxSzwUBJUG/1AQGz14EKw5aEFP9aco\n",
       "UmyRouClQREtXsRSjPQSf8CLYFARPYih4EE82EtF7cF4sSiCwaIo/oMoFTXOzO5MZncmznTgsW83\n",
       "73vfe2/fzM4EQA3AtTyajY813VMTwNX9InuiBs5mzI3WCHA5dXqCyIVyU+vIUs1vRkCsqgFNSDcv\n",
       "iTzfhrnRGgGUllFPEXlCPbRzN+/OrPXreW+EvJKWrFpuM2Ba5Z2S9HkVIr8geXGL5zMaWmdFHy2I\n",
       "BzIDpj1xSuR6h1xXXubWOdz3+usG5v0GUj1S35S8qxnQppTaKUk3N+HZNbzMIPUdKm386VFSgCjT\n",
       "LQCUlkiy4AUJvPKtozUkBpj2asKZbWS1dbaKlkyVZ2UAtJ4MZ8WY+DgN7ph7WQMcgEo7DeccsEBk\n",
       "ZQBQWiIJJcjEL0T/Mq07j4b7yO5F6/MPnRwsAYfCWSXkmwElyKEyOmsqLWmr6NnYPk1WesAhJo/U\n",
       "0vcg+o23/0/hnryR2M7ByTwsARfDWT2Sp1VJCXI50JlRaSvU5Edek5UecJHJmBIkbeavvrKlINzT\n",
       "Cds2dAmwBIyHsxqTu7GiBElGP1RaNnwTG8A4E1bSMyHrDn9dXryEFCM9IJ6/54oFYJhF38tGNvzy\n",
       "2ugcS5aCXiJ/oKcVtbAADDOh66Z7MBTkDtEpZG1xf4vny/hSaAF4EI6pjydJJnScfrreFoJe4lkN\n",
       "7SiDeP5tAA+YDJLbVfmgdTInQiFTElf8tkPMf24F6AhnNchLQmJJEAevLyDoZQR6Wj6sAB1MKNeC\n",
       "DUHrw/51PrCJFPVu3m+mft5MNoBuU1aRkXLAS2tWRyvvHmwA3UxoB2JdwJp89z8zpV6m1t4XnY4T\n",
       "gsACMBmeV31SVqwDvd2D8DIFt6alFcMGMMlkY2BJY4CFwAum7WdvNiWmbWNVsgAcCce0kWdF5lVL\n",
       "NbCkUWykgnTZQZhWnlc2gCNMxkWQ92ugn2i4e4rFHqYdkz8cRCkEs/o/YCyclbzUp7IiSO7lTbE4\n",
       "itsllVZCWQDGmLTzIJcMnSuglxQhXq/XS0yLFemu0Xef7D0gmskGsCscU7s8RXp4kMJLf70+i/he\n",
       "hGiVrAyAXUziGV56NkPKqibcL0PwXf0X4CpBxTPSzXbZsYR9DIUWmkdNAZSWCNuFiiBT0Gi+r0hO\n",
       "k1VTQGAv6y1Z8n73eCDIBrZil1VTAKWl0kX0Z/yXW1C1pH+CaJFqbQbMqOerLnk5q8m7B4F1qgqt\n",
       "fOw0A2Z8uUrkCz+lNmwa2nW/6hHJvxnQpWZ1VT5s5eRNi8CmodDK/wqYAV2+uMTCPTXR9OT8YbXm\n",
       "oRGQ1vzt4Mqn/k/0DL0ac6M1AigtkX8HquWLMMYfdwAAAABJRU5ErkJggg==\n",
       "\" style=\"display:inline;vertical-align:middle;\" /></a></span>"
      ],
      "text/plain": [
       "|- ({1, 2, 3} not_equiv {1, 2, 3}) = [not]({1, 2, 3} equiv {1, 2, 3})"
      ]
     },
     "metadata": {},
     "output_type": "display_data"
    }
   ],
   "source": [
    "# Notice the definition does not depend on the Truth of the SetNotEquiv claim:\n",
    "SetNotEquiv(Set(one, two, three), Set(one, two, three)).definition()"
   ]
  },
  {
   "cell_type": "code",
   "execution_count": 46,
   "metadata": {},
   "outputs": [
    {
     "data": {
      "text/html": [
       "<span style=\"font-size:20px;\"> <a class=\"ProveItLink\" href=\"../__pv_it/demonstrations/b4a94d2084fc6f549e5f046c524b7ddf5a3785050/proof.ipynb\" style=\"text-decoration: none\">&nbsp;&#x22A2;&nbsp;&nbsp;</a><a class=\"ProveItLink\" href=\"../__pv_it/demonstrations/dbd7f84706143d3d249e916dd6d0883081ad34b00/expr.ipynb\"><img src=\"data:image/png;base64,iVBORw0KGgoAAAANSUhEUgAAAaUAAAAVBAMAAAAUQexcAAAAMFBMVEX///8AAAAAAAAAAAAAAAAA\n",
       "AAAAAAAAAAAAAAAAAAAAAAAAAAAAAAAAAAAAAAAAAAAv3aB7AAAAD3RSTlMAInZUiRDNmWbv3US7\n",
       "qzJazP2FAAAACXBIWXMAAA7EAAAOxAGVKw4bAAAFjElEQVRYw4VYa2gcVRQ+s7uTzT6zalEMFreV\n",
       "SvzRdoWkYv9kkWI10HboD0WM7EIpCjGaHyErJeIgYov4WAQhNUpWUmmJjyyCSvRHN4UipaixLfFR\n",
       "axcVCgFtbExQhK7nnvuYO3Nn04GTnDv3PO537rnnnlkAyAHA43Vo91j3hr1tr0DyVthMTpdCsr9s\n",
       "6xRuyYW8XEeB5CVBpIA05LQ3/8dp8916Ckw+lQ/RKWiDu5Du/rS90+zPIQ7WUSD5T4AT9CL1MwNL\n",
       "0sptY98IbsPus/j3azPW/T6Pg2/77DP5HtNtr8ZHi0iroHm1Kk83BbdrHJMgvcC35sdpFg6utOrb\n",
       "tDM1fcjkIy4nu4wvBvD/989K6w3YxzPLHoH+As2qlCnz/wP+5T7pG7HJDiPMdlkbPIIUq+le74DY\n",
       "f5x7FKIrfBaf5LZXEH6G+JgPBHSM6COaPMgp7solbhfWMzlIVHm2rECprAB8tpaHdDMfhmnFwNQ5\n",
       "EsREjuTznFqi9PodwFHObS/YawpAD9jDAFfCMHUVDEyHOSUgiCmxCpm/iEtNQpfClD3x25n6fXYj\n",
       "BFNq1cAEbwUxJfRB1cA05cBlnthzdfAwYUZlnkm9F4bppGNgSjhEOwxMmRpkrkvRflcCwO1LfTi5\n",
       "sx6CKeCMJp8KYtqhH6eygekngMtNOf2PsllkIv/W27rxr6HDJRo1MLEsXpY7cEIps3PaMXXAs2dd\n",
       "2CSqW8e5rSIPYptfF/J7gphG9TwsGpjwmZXMF64fgKMt2/M6vPm8mH+gp8knYwtEFM+xgPWrQi27\n",
       "9Rf8e496f6tkmMJcLi1yrnTQ5slqTcO4kH+Z1j5Dz0Jw41g8IV72e81eE8yvl3DDIlWjcJKC8mqv\n",
       "OSWerN2FeIPLd5aJWKm0JgKYPlIcq3t3qsN4UZY/VLAnIF5Tlf1Nvr9FxpD8/cEVTUuIWD2STOJ2\n",
       "1+81uaBSE2uOxevOIVLh62EKnles7Ake+mOMIflolWgS1RfrfuvxhneyMSj2ogCVEu9JIb7MIMhd\n",
       "+5uYF8gEyV8NYpqU8cClJ1B/4xD4vY57slgw4IkDAQOk4HnFXesiLs73jclnl4mYqyun/dZfk9nQ\n",
       "hDS7KoZEHs3KPGIKiQaURIN0DFI8qu/wvGfyczfClB13fF475Tb9CfAtBuXBYPdFCp5XhHaSYp3g\n",
       "kWbyqSrRtLz5Pet4yd/Eb4BVwqSahpf0VqGUhzfU9cRjZV/zmoydwfM0rWGi3OOdgvLaCxY/Hi2H\n",
       "YfI3DapV8Lzi9cTTopRXTUa0RnTKV/dI6HeALcQlFij3HpZGa3odLRVgMZqz2eg6POaSAtbglJB/\n",
       "NbiiUxITnqd03lf3mGq2CBGHrL1LuRerGueJKXheu5p4tojBY1bn8p0Noj0K074csAscrOOVSo24\n",
       "Tle7n9Cmq2NK56PH49RnwA/wFVfFI7FXyI8GMenFndVcgUl67a5UDnFrR/T7KXgFeV4zbnqEGDz9\n",
       "MVHL2R2BtCQxXZoadmEGQ5ZstVpl4uDzyll1P8Vnjqo8ogbx3N6N2yD5PjueuxEtU4g99KIj5D8I\n",
       "rmhJPxo1iUl5nW211ri1VIX1sG0weV7tC9hgkcKuI1uEfLJOlGzqV3LUMTk1ezHsDu8zFehCNpaU\n",
       "bGqDj31tgafa1643CbzqMxia7OZEzaZaYgxMTs5mG2GYiqbCQLBj5XVN72oP+5YYM63dAFPRdF8T\n",
       "rTGjeb1T2A8mx7sMTGUt0ErBzpsKY/TpYDzzegnL6Z3CftOa6DL8H5VVQ85TYPL4lUQEg6B1Cp5N\n",
       "j7MnxD5p5pVCxFQg+XkT06D+MdVQnYKu6lljldT4VWDFkIv45FmkGIGFFq3nC+1/j9gTMreOAslH\n",
       "Qn5OsPTv+ZvZ9/T59t/uG8Lm1lEg+U2c/geJWJtfs/ArYAAAAABJRU5ErkJggg==\n",
       "\" style=\"display:inline;vertical-align:middle;\" /></a></span>"
      ],
      "text/plain": [
       "|- ({1, 2, 3} not_equiv {a, b, c}) = [not]({1, 2, 3} equiv {a, b, c})"
      ]
     },
     "metadata": {},
     "output_type": "display_data"
    }
   ],
   "source": [
    "# Notice the definition does not depend on the Truth of the SetNotEquiv claim,\n",
    "# nor on any assumptions supplied:\n",
    "SetNotEquiv(Set(one, two, three), Set(a, b, c)).definition(assumptions=[Equals(a, one)])"
   ]
  },
  {
   "cell_type": "markdown",
   "metadata": {},
   "source": [
    "### Testing the `SetNotEquiv.unfold()` method<br/>\n",
    "\n",
    "The `unfold()` method has the following format:<br/>\n",
    "\n",
    "<div style=\"width: 50%; border: 1px solid green; padding: 5px; margin: 20px; background-color: gainsboro; font-family:courier\">unfold(**defaults_config):</div>\n",
    "\n",
    "and attempts to derive and return Not(SetEquiv(A, B)) from known or assumed SetNotEquiv(A, B)."
   ]
  },
  {
   "cell_type": "code",
   "execution_count": 47,
   "metadata": {},
   "outputs": [
    {
     "data": {
      "text/html": [
       "<span style=\"font-size:20px;\"><a class=\"ProveItLink\" href=\"../__pv_it/axioms/040e9a1f9b739ee8859835262ddf22eb997ee4790/expr.ipynb\"><img src=\"data:image/png;base64,iVBORw0KGgoAAAANSUhEUgAAADsAAAATBAMAAADc9GjbAAAAMFBMVEX///8QEBAiIiLu7u5ERES6\n",
       "urqYmJiIiIjMzMx2dnZUVFRmZmaqqqoyMjLc3NwAAABb1yYoAAAAAXRSTlMAQObYZgAAAAlwSFlz\n",
       "AAAOxAAADsQBlSsOGwAAAR9JREFUKM9jYACBtwx4wX0Ekw9Csfn/WrXWA8Lm+Y+QhhnE6MDAsL4B\n",
       "zORe/wBEsd6/zsDgwQ6Rfl/AwBC/AcycNx+srCnjiCjPBhOIdD5QKL8AbF1B/QEQvY6BIcgxRhUi\n",
       "vR6IL4IN5WY4nwCiQWov/j0AkRZhYLDSALNiGPonwNx9Acrg+FJedQ3C3MDwfgFUlCsAymD/x8Bw\n",
       "EGwmu/fu9Q5Q0RCY/1gEGBg4f4BY5gwM/AogxiYlpU9KSlpgaX6geWzfIWYzMAlAwwrmBoZ+oMFc\n",
       "X0GBAWTwfoAIMsEDrx7op36QOx+CbPoHEZwGl74I1CdrwMBg8v8yA4//X5CpmxSFlKB2L/m/atWV\n",
       "A2gRB/cWdtCCP9o98Es3YIgAAMetR04fyAbSAAAAAElFTkSuQmCC\n",
       "\" style=\"display:inline;vertical-align:middle;\" /></a> <a class=\"ProveItLink\" href=\"../__pv_it/demonstrations/deeaabf7ff55b0feac61e6b9a5f14b68e027a47e0/proof.ipynb\" style=\"text-decoration: none\">&nbsp;&#x22A2;&nbsp;&nbsp;</a><a class=\"ProveItLink\" href=\"../__pv_it/axioms/bb2eac1bdd2ce216d9324209ccfd47261e333bcc0/expr.ipynb\"><img src=\"data:image/png;base64,iVBORw0KGgoAAAANSUhEUgAAAFoAAAAVBAMAAAA0iOSIAAAAMFBMVEX////MzMxERES6uroQEBCY\n",
       "mJgyMjLu7u52dnaqqqqIiIhUVFTc3NwiIiJmZmYAAAAM3gM0AAAAAXRSTlMAQObYZgAAAAlwSFlz\n",
       "AAAOxAAADsQBlSsOGwAAAXpJREFUKM9jYECAAwx4AQ8Kj2sCmDqGSzXzAmTeDAiVD6GqfUGaIQqC\n",
       "/u/enSTAsBRJMXsCmOL8D+HeEr0BJDdAOE4MDNwfGdgKEKr5AiDUfrDzuQIYyjYwMD6AuPgX0B3/\n",
       "GFgfIFSzQKiefgEQxQ3E2wRsIR5n/QjEQB3uCNXTIMYsWA/2LAfI/P/OECnuDwwMbD4MDKkI1S8g\n",
       "DmGYH4DwCsxaBQb2vUAruxGqIRotGeQbMMJOXmvVNpAZYQxv7wLBPSDzJljiAcN5cDjw3QUDSJis\n",
       "P8DA6Qqkp0A0nwZisBu59N7tV8AwWwWIQZ6XR1NdxcDAfwFD9W8gjgdGlAlC9U2IQxh4HdAVM34F\n",
       "EvsNGBjmQvjngFgLlBSAfmH7gO5urj9AHd9AKQBhAih4jgAx0x90s9mAtpmkwwMZDGQZGIr+pzNw\n",
       "6n9DC0Ju/d+7t2mCWJcRgrwCDAQAD5L/kdMMdsAXgMTRIaT6EDKniJBqFON4FuBXzHWAAQAYsGHg\n",
       "O6N/dgAAAABJRU5ErkJggg==\n",
       "\" style=\"display:inline;vertical-align:middle;\" /></a></span>"
      ],
      "text/plain": [
       "{A not_equiv B} |- [not](A equiv B)"
      ]
     },
     "metadata": {},
     "output_type": "display_data"
    }
   ],
   "source": [
    "SetNotEquiv(A, B).unfold(assumptions=[SetNotEquiv(A, B)])"
   ]
  },
  {
   "cell_type": "code",
   "execution_count": 48,
   "metadata": {},
   "outputs": [
    {
     "data": {
      "text/html": [
       "<span style=\"font-size:20px;\"><a class=\"ProveItLink\" href=\"../__pv_it/demonstrations/e9d59e687c6547a5e9b9d1b93e78eaf44c9577650/expr.ipynb\"><img src=\"data:image/png;base64,iVBORw0KGgoAAAANSUhEUgAAAKMAAAAVBAMAAADY0UPbAAAAMFBMVEX///8AAAAAAAAAAAAAAAAA\n",
       "AAAAAAAAAAAAAAAAAAAAAAAAAAAAAAAAAAAAAAAAAAAv3aB7AAAAD3RSTlMAEER2zVSJ3Zki72ar\n",
       "MruaaVGaAAAACXBIWXMAAA7EAAAOxAGVKw4bAAACe0lEQVQ4y4VVQWgTQRR9mzXbpknaBW9SWhVE\n",
       "TxJQPEgPUS/iQdeL0osJeEixCiroggrNoZCcUkFRkaJSD0WFGvBcCFQRLdLcRBDBehGxaEyiiEid\n",
       "+TOzO5vdtQO782b2vTd/5/+dBWBsR1xLjUfNxgsUf++2WEu8/xgx+R+B4Cdb7Ja9oNapHm0KdGti\n",
       "ld2/6jGIjgReG5kPeBLfOg8MTyvaPVg/xNuVUXCAkka/KTou0NrhwKjkMUxl+Qp4TMDsYjTvWSaO\n",
       "HQLWzCjL7kaWT22sXCeTOQz5lm8XT80lyyMRlonWRpYvgRW5mSjUPUsW/M4vOy5GWPbEHGHJ2pRa\n",
       "/yo8yxy7jnQc32T29A3xZNPSmCPN9yxKfn8+aJlty37sDbvv9/Odl4ALEo/wzabR6AHjt3h+CTXJ\n",
       "v1sPWvY1FOIZv++oUWarBFywpY6KJNl4KHRFDjh/9iCCljUPDbBJ47ny3C17EswAl8VwGvhJYIai\n",
       "5vxszQ5YpmWQ2SYGWX1YtCIqrvvLda/RAy5YgCHKlzknRBktiA3l/MFGwPIEUlREQy2yLNhqqaJi\n",
       "MIHRRvq7Kst+0hpttQ9axg2KoQjT5migQS9+xttivWyMLjL5cXD5X76vHPxhSZN8srRY1vjHgtvV\n",
       "aoVQuq7XJTAZqMRPOFkuGx02WsZnEGA5OKfVZeZ1Zxl9/OiYWl/vCLSruurXZeXKvCv3UhwK+94t\n",
       "NeGy6IYn2MIcWJPPbL3UqR1HGJV6S0gXJO1e0GvpJUBDyvJD1CdohYDgmw/UYZ1DCPGyo7bmW3oC\n",
       "bA4BwU+p08n0Rf4/4YkETe0k9o6zXAhI/p0X8f+es07EbLyA+P8AdVWs8x2aB4oAAAAASUVORK5C\n",
       "YII=\n",
       "\" style=\"display:inline;vertical-align:middle;\" /></a> <a class=\"ProveItLink\" href=\"../__pv_it/demonstrations/cb87b14c6e7078bdc8fb446883c8e6f44853c7b40/proof.ipynb\" style=\"text-decoration: none\">&nbsp;&#x22A2;&nbsp;&nbsp;</a><a class=\"ProveItLink\" href=\"../__pv_it/demonstrations/9dfbd54a65bdff75fe84c7590e077f0a02e145770/expr.ipynb\"><img src=\"data:image/png;base64,iVBORw0KGgoAAAANSUhEUgAAAMQAAAAVBAMAAADr6lzSAAAAMFBMVEX///8AAAAAAAAAAAAAAAAA\n",
       "AAAAAAAAAAAAAAAAAAAAAAAAAAAAAAAAAAAAAAAAAAAv3aB7AAAAD3RSTlMAmd0iq3ZUiRDNZu9E\n",
       "uzLWhN+VAAAACXBIWXMAAA7EAAAOxAGVKw4bAAAC1klEQVRIx41VP2hTQRj/kvfSvDYxTYpQMkjT\n",
       "oImIQ8SKk5ilQypIh4qiS2gHFYe0IS4K2iEdRKVxE+mQQQcHRSqClBaqq0ulFjoUjX9AcGlBrKlI\n",
       "43ff3b179y4pHtx73933+93v/nzfHYAqOaz3lqFTsSba9XYmEN7SukJFrHPTHSXg27rZtxeB4aOj\n",
       "3p7LWEuMEDsseo4lPwrr5NQGfj/wRnUeJwOcW9IU7s9rGgx/0dN2avgpsxGSTbHSFbjNt8GJQ6nI\n",
       "vVgO/cjiN092WZ/4A63FnN2eOQTqkhESEnYOIi/4dmzDbE2OF6rDnTzE4u0ktg2JnrhqR8AvEWmC\n",
       "/ZOs6CL0uhI21kLjba6NRLRpSMBr1b5qSNgpsHelu1SX44UZpLUIbSTCKVPikWr3GxJYgltyfkf0\n",
       "8RzvKEPXT/BW9/BYUYidey6cFUUitaRPYlPEXGzsLH4vmYHJCNGX8Ikf6uxDh++slYEDAv8U+tJY\n",
       "BtHMMM+CT+Kga7GIOk1TDKSpUEQR4W4d+kCG8Cu++klmEP4adw1hxc21Csu6RGBFRQN2OoWiL4GJ\n",
       "MACQddf0m4wBWhXhNzUJ+LyuSzwW/1gD9mE8huf8+0SEJXD+8mYWojxsl/iBMPw7JZGR+agkuibh\n",
       "OBm9TZIomZcFEpxf0LMl0yJAXOxyU39c3BRY17SIooj5DnABGCySp426Cf6zYARnG+zaBOF22bkw\n",
       "4w8GgcA/U/OpuBJhjAqWzNZgIpFydliK1j15YYT+GozH44QbgfdABobTLYHvV+AvkmGf2RmBIF6F\n",
       "wVarVYM0m9WbxAZ0lKie/zrcIFx1CifCjPCNJ9MCf1SBgw1tkCvS6JrWs9WU8OEUgTktT8LTfaUY\n",
       "k+6lAP8nETYJZXm7yrLqzV/HfUpm9FT2FZXwMyaB4U9p7wnI/GVR5XarZ8tZMCVcgsKNavhVLVXR\n",
       "Z+0vdn67K218exAIH8rBP3kluriRU2DHAAAAAElFTkSuQmCC\n",
       "\" style=\"display:inline;vertical-align:middle;\" /></a></span>"
      ],
      "text/plain": [
       "{{1, 2, 3} not_equiv {a, b, c}} |- [not]({1, 2, 3} equiv {a, b, c})"
      ]
     },
     "metadata": {},
     "output_type": "display_data"
    }
   ],
   "source": [
    "SetNotEquiv(Set(one, two , three), Set(a, b, c)).unfold(\n",
    "        assumptions=[SetNotEquiv(Set(one, two , three), Set(a, b, c))])"
   ]
  },
  {
   "cell_type": "code",
   "execution_count": 49,
   "metadata": {},
   "outputs": [
    {
     "data": {
      "text/html": [
       "<span style=\"font-size:20px;\"><a class=\"ProveItLink\" href=\"../__pv_it/demonstrations/c000ea33f96ac1a6c8b452ff5e1b32274fba8ce00/expr.ipynb\"><img src=\"data:image/png;base64,iVBORw0KGgoAAAANSUhEUgAAADsAAAATBAMAAADc9GjbAAAAMFBMVEX///92dnaqqqoiIiLu7u5m\n",
       "Zma6urqIiIjc3NwQEBDMzMwyMjJUVFRERESYmJgAAAAeMT9/AAAAAXRSTlMAQObYZgAAAAlwSFlz\n",
       "AAAOxAAADsQBlSsOGwAAASZJREFUKM9jYMAKXs+9v3nuAzDz7f8zZ/YugMtwgMkLPQw5bx3AzLkM\n",
       "DDy/4NLdEOlGBl6uA2Dl3xkY2L6CWGz7tzMw3GKHSrM2bACx+IA6+b6DWItf6U5jCvCFS18AsXg+\n",
       "MDBwzwCxTjAwJN9MMoNK87iADee8wMByGOy0AiDe+VsBKr1WuwHEWn+9/PQDuLs3QOgLnZs/l4BZ\n",
       "9Q0MTPNg0jwJUOnGd94Q1k0glof5O5cBJs3rBzHyDxC/B1nLEGxs/NnY2AYizRVwBcTg+gckzkPN\n",
       "5BOA62aI6gUx2H8AlfyGijIzIKR92UGmc09gYMjcAhWVg0u3MvA9uAZ06v0/Z05fgogFW042htgN\n",
       "jLEbDHf3K6DGI8xbOMBavLIMt/BLL0AXAAAvb2EPho2W0wAAAABJRU5ErkJggg==\n",
       "\" style=\"display:inline;vertical-align:middle;\" /></a> <a class=\"ProveItLink\" href=\"../__pv_it/demonstrations/2ec0f2d45b6fa3284bcd326cdc700102852afc3c0/proof.ipynb\" style=\"text-decoration: none\">&nbsp;&#x22A2;&nbsp;&nbsp;</a><a class=\"ProveItLink\" href=\"../__pv_it/demonstrations/702bde6d109a5bec15ff39cdaa3a7620d9ff00740/expr.ipynb\"><img src=\"data:image/png;base64,iVBORw0KGgoAAAANSUhEUgAAAFoAAAAVBAMAAAA0iOSIAAAAMFBMVEX////MzMxERES6uroQEBCY\n",
       "mJgyMjLu7u52dnaqqqqIiIhUVFTc3NwiIiJmZmYAAAAM3gM0AAAAAXRSTlMAQObYZgAAAAlwSFlz\n",
       "AAAOxAAADsQBlSsOGwAAAYtJREFUKM9jYEAAHga8AE16JXZVrClK366oMjAwL0AW5WwAyuj/3r1N\n",
       "EcRj33ITSHKBmEw8G5i3qjMwLEVWXQYiWBQYGPYLABm8C2OBurkhqhsYFKQZGNgKkFQ/BRHngdbZ\n",
       "P2AAGcSezcAgB1P9hg1o8QMk1Q4gIh5objzIgRuABicy34GrZgIy3JGcnQAi9wNxygEgAXQGw/ov\n",
       "BjDV26uBjFSEaj6QPIMTA0P1RbgYxKFA1YyaOUBGN0I1WwCQYPy0anUqehAy8bjdvwXSGMbw9i4Q\n",
       "3AMFwgRQiP1hYJgC0gYRv3sboro1HOzMKRDdp0FhB3IjE9CrHB8xzG5QDwUx5NFU8wODgvUXpmo5\n",
       "JpBLTBCqwS6RB7qC+zOmaj4ZYKwxzIXwz4HEQKG8Hhh48gkY7m5gVwBFexDCBI4NoKAGJh63Agyz\n",
       "HzCEMgEd+gIhxniBgWHT/927kyZgpsFPB5jUfjIwXEYSvchAAPBcQOLEEVLNF4DsvAMEVB9C5rAr\n",
       "EFCtg8I7hV8x1wEGAKkGZlLyDL5uAAAAAElFTkSuQmCC\n",
       "\" style=\"display:inline;vertical-align:middle;\" /></a></span>"
      ],
      "text/plain": [
       "{B not_equiv Real} |- [not](B equiv Real)"
      ]
     },
     "metadata": {},
     "output_type": "display_data"
    }
   ],
   "source": [
    "# We can use standard pre-defined sets as well\n",
    "SetNotEquiv(B, Real).unfold(assumptions=[SetNotEquiv(B, Real)])"
   ]
  },
  {
   "cell_type": "code",
   "execution_count": 50,
   "metadata": {},
   "outputs": [
    {
     "name": "stdout",
     "output_type": "stream",
     "text": [
      "InstantiationFailure: Proof step failed:\n",
      "Attempting to instantiate |- forall_{A, B | A not_equiv B} [not](A equiv B) with {A: {1, 2, 3}, B: {a, b, c}}:\n",
      "Unsatisfied condition: {1, 2, 3} not_equiv {a, b, c}. For debugging purposes, this is accessible via Instantiation.unsatisfied_condition with applicable assumptions in Instantiation.condition_assumptions.\n"
     ]
    }
   ],
   "source": [
    "# We must already know or assume that the SetNotEquiv holds in one direction\n",
    "try:\n",
    "    SetNotEquiv(Set(one, two , three), Set(a, b, c)).unfold()\n",
    "    assert False, \"Should not make it this far!\"\n",
    "except InstantiationFailure as the_error:\n",
    "    print(\"InstantiationFailure: {}\".format(the_error))"
   ]
  },
  {
   "cell_type": "markdown",
   "metadata": {},
   "source": [
    "### Testing the `SetNotEquiv.conclude_as_folded()` method<br/>\n",
    "\n",
    "The `conclude_as_folded()` method has the following format:<br/>\n",
    "\n",
    "<div style=\"width: 50%; border: 1px solid green; padding: 5px; margin: 20px; background-color: gainsboro; font-family:courier\">conclude_as_folded(**defaults_config):</div>\n",
    "\n",
    "and attempts to conclude the NotSetEquiv(A, B) from the known or assumed Not(SetEquiv(A, B))."
   ]
  },
  {
   "cell_type": "code",
   "execution_count": 51,
   "metadata": {},
   "outputs": [
    {
     "data": {
      "text/html": [
       "<span style=\"font-size:20px;\"><a class=\"ProveItLink\" href=\"../__pv_it/axioms/bb2eac1bdd2ce216d9324209ccfd47261e333bcc0/expr.ipynb\"><img src=\"data:image/png;base64,iVBORw0KGgoAAAANSUhEUgAAAFoAAAAVBAMAAAA0iOSIAAAAMFBMVEX////MzMxERES6uroQEBCY\n",
       "mJgyMjLu7u52dnaqqqqIiIhUVFTc3NwiIiJmZmYAAAAM3gM0AAAAAXRSTlMAQObYZgAAAAlwSFlz\n",
       "AAAOxAAADsQBlSsOGwAAAXpJREFUKM9jYECAAwx4AQ8Kj2sCmDqGSzXzAmTeDAiVD6GqfUGaIQqC\n",
       "/u/enSTAsBRJMXsCmOL8D+HeEr0BJDdAOE4MDNwfGdgKEKr5AiDUfrDzuQIYyjYwMD6AuPgX0B3/\n",
       "GFgfIFSzQKiefgEQxQ3E2wRsIR5n/QjEQB3uCNXTIMYsWA/2LAfI/P/OECnuDwwMbD4MDKkI1S8g\n",
       "DmGYH4DwCsxaBQb2vUAruxGqIRotGeQbMMJOXmvVNpAZYQxv7wLBPSDzJljiAcN5cDjw3QUDSJis\n",
       "P8DA6Qqkp0A0nwZisBu59N7tV8AwWwWIQZ6XR1NdxcDAfwFD9W8gjgdGlAlC9U2IQxh4HdAVM34F\n",
       "EvsNGBjmQvjngFgLlBSAfmH7gO5urj9AHd9AKQBhAih4jgAx0x90s9mAtpmkwwMZDGQZGIr+pzNw\n",
       "6n9DC0Ju/d+7t2mCWJcRgrwCDAQAD5L/kdMMdsAXgMTRIaT6EDKniJBqFON4FuBXzHWAAQAYsGHg\n",
       "O6N/dgAAAABJRU5ErkJggg==\n",
       "\" style=\"display:inline;vertical-align:middle;\" /></a> <a class=\"ProveItLink\" href=\"../__pv_it/demonstrations/0e1b1822ce151753ea456085264dd401b0d85ecc0/proof.ipynb\" style=\"text-decoration: none\">&nbsp;&#x22A2;&nbsp;&nbsp;</a><a class=\"ProveItLink\" href=\"../__pv_it/axioms/040e9a1f9b739ee8859835262ddf22eb997ee4790/expr.ipynb\"><img src=\"data:image/png;base64,iVBORw0KGgoAAAANSUhEUgAAADsAAAATBAMAAADc9GjbAAAAMFBMVEX///8QEBAiIiLu7u5ERES6\n",
       "urqYmJiIiIjMzMx2dnZUVFRmZmaqqqoyMjLc3NwAAABb1yYoAAAAAXRSTlMAQObYZgAAAAlwSFlz\n",
       "AAAOxAAADsQBlSsOGwAAAR9JREFUKM9jYACBtwx4wX0Ekw9Csfn/WrXWA8Lm+Y+QhhnE6MDAsL4B\n",
       "zORe/wBEsd6/zsDgwQ6Rfl/AwBC/AcycNx+srCnjiCjPBhOIdD5QKL8AbF1B/QEQvY6BIcgxRhUi\n",
       "vR6IL4IN5WY4nwCiQWov/j0AkRZhYLDSALNiGPonwNx9Acrg+FJedQ3C3MDwfgFUlCsAymD/x8Bw\n",
       "EGwmu/fu9Q5Q0RCY/1gEGBg4f4BY5gwM/AogxiYlpU9KSlpgaX6geWzfIWYzMAlAwwrmBoZ+oMFc\n",
       "X0GBAWTwfoAIMsEDrx7op36QOx+CbPoHEZwGl74I1CdrwMBg8v8yA4//X5CpmxSFlKB2L/m/atWV\n",
       "A2gRB/cWdtCCP9o98Es3YIgAAMetR04fyAbSAAAAAElFTkSuQmCC\n",
       "\" style=\"display:inline;vertical-align:middle;\" /></a></span>"
      ],
      "text/plain": [
       "{[not](A equiv B)} |- A not_equiv B"
      ]
     },
     "metadata": {},
     "output_type": "display_data"
    }
   ],
   "source": [
    "SetNotEquiv(A, B).conclude_as_folded(assumptions=[Not(SetEquiv(A, B))])"
   ]
  },
  {
   "cell_type": "code",
   "execution_count": 52,
   "metadata": {},
   "outputs": [
    {
     "data": {
      "text/html": [
       "<span style=\"font-size:20px;\"><a class=\"ProveItLink\" href=\"../__pv_it/demonstrations/e68a811477cb36a134bec86b9c5d191aef42f85d0/expr.ipynb\"><img src=\"data:image/png;base64,iVBORw0KGgoAAAANSUhEUgAAAMcAAAAVBAMAAAAA3efRAAAAMFBMVEX////MzMxERES6uroQEBCY\n",
       "mJgyMjLu7u52dnaqqqqIiIhUVFTc3NwiIiJmZmYAAAAM3gM0AAAAAXRSTlMAQObYZgAAAAlwSFlz\n",
       "AAAOxAAADsQBlSsOGwAAAtZJREFUSMd9VUFoE0EUfWkSN2k2aTwIolYjHgqt0Bw8CZVi8aTSvXgS\n",
       "JFBExINBi4cGtAcRscTmJB6UehAUFBo9BLQgOVarNRfBKi1BMAjSWBENESH+mZ3Zmc0kGZjZt3/e\n",
       "n/d35v9ZQLUy9ctpdGuvy52sPRzse3JV1foL1KeyXX0CzzvM9XLA7iEaDvtMd6kvMJdB6bda2y9i\n",
       "uvmFAu4rum+5kxQOHnDMHDwalm8f8C05wsJwNIOVoSFPz1cXhYidwry7GVcRbQKRimv/tOMjja5i\n",
       "XqdZVSwUdJE8G85phoQjrYtCJFZGaJyjxYL1xxOh0K4UEajKZRStv4lrGUPkjGYIoV0k1EDsH0eH\n",
       "0lAiMeql5FhZLqNowQkMmCIh7dTuGCKxCmI/xWz0tycSYTG3JrxldBoWHENkm2b6ZohQi28JMOao\n",
       "M+Hbry+jaMEPAqzceiNnI0XldpYNtTaRfW4OYddSksIfN7O05qMFnjwTYicwSqs8ZDicweY6tQ3C\n",
       "ayyfjrWJfJaAZZfddDNknTcen+ugaDK7ph1s0uM9e4uK2Fao0ybbpbRfJJHyvCfJmDvfXtOug0aj\n",
       "LGDtB8DS3CqRSmDLJ4K9Q36R0+K5HRgl+g3jCnEdJC2QRJ/7tUdh/WLHMcW2TvuSNVmiSiQ6i7cc\n",
       "tLJMJNowz2REpw00hIj1F+EteYFERb6sUh/2ZRfX2Qk84ug4367IuHEm3MGjhYpsuwhZTcQydD1e\n",
       "5wevNhNznsh8GazAYW/U6xWOTul1grZKULSwQ3XC0TDuV6tiucSsog9KkaXJCw7WKZ54q9XKcBSs\n",
       "swuyi4ii4UidLkiGco/3vEwKkbh2kvGkV1tsI7Mm6iLS3cGdfafRw1XdJ4IOqJdIJwd39qvOPwhR\n",
       "oqzNwESJjCnS04HfB3ZK51+SJQrvl+RH044p0tPBYvdBn+//a9Os/b3Q9We6/KLTf7yHgz3H5p4C\n",
       "/wHnse2ctbOcygAAAABJRU5ErkJggg==\n",
       "\" style=\"display:inline;vertical-align:middle;\" /></a> <a class=\"ProveItLink\" href=\"../__pv_it/demonstrations/6679a0136aa72c41de4d9f0b0643b3af9b706dff0/proof.ipynb\" style=\"text-decoration: none\">&nbsp;&#x22A2;&nbsp;&nbsp;</a><a class=\"ProveItLink\" href=\"../__pv_it/demonstrations/cde4aa29e3b41bdda9067e5dce1d3f4bbcc5d5b90/expr.ipynb\"><img src=\"data:image/png;base64,iVBORw0KGgoAAAANSUhEUgAAAKcAAAAVBAMAAADROuOhAAAAMFBMVEX///9ERETMzMxUVFSYmJgQ\n",
       "EBDc3NxmZmYiIiJ2dnaqqqoyMjKIiIi6urru7u4AAAB85a56AAAAAXRSTlMAQObYZgAAAAlwSFlz\n",
       "AAAOxAAADsQBlSsOGwAAAoRJREFUOMuFVc9rE0EU/sy2290lLiXiTWxUkAqCSkFFhQb1D6j4Ay/S\n",
       "SNH6C0xOG+jBgIjrQRtQQVFovIheNCJeRGkuHkSw8SAUQVkpxYugiIg0tevMm9nZWZusDzIzO/N9\n",
       "37yZ994EgPsRXe1MscNkGsG8L/o3n7pjMtuC5ZNpBGxYy1tnibeDkmx6T/JydLvcAlZs1bwQHRHG\n",
       "J3I6TLNVvLGr7EA7pqXocdh/xOgLnAWxGtlZ0fEpsx9TLQ2m2a0IA8xI0e3AYTGaqbttJbpy+gWQ\n",
       "yypRo4jeEQ2WLjoaYFgE530Lsejg3nvHnNJnJdq7BOOXBksX3QkMy0uF81OJsgPMrv5wNfa0CuOH\n",
       "BksXZTYZDWYLSrTJfs/adcQEWN81GNnY3XORaF8jKZpZlIPNQ8zl7IiKfUMOBAFbmhqM7v0IBpjK\n",
       "Kz4+UUiKWiqJeFhNFVojyhxBwEUdxm2+gArrzrPzjL1EUrQcXw+LGuaey4930SEFoa8/AWN2AbjC\n",
       "6213HZlykBDtiRxdDwywTe+QgxXf/+375Jwk7EvCmB2Ay1Pc5puKmlGiD2GKlAoDjhb1xjerRY4R\n",
       "wanhpAbjHi6ih8fucZCIPv/K1JANXD5zkM5lR4Gy1GmJsAl4SwSCcYK7AKPBnpObcYZMFUGVccrz\n",
       "KvjG47tfz1PgRkLUvOx5VSIQjAhr8KBU0vN0aPRpAT7beTIM27Cu8Qzx+EshRSuXjvryTmnKCsOw\n",
       "QQSCEWHu9cY9+UTyU26oDHiUPKueUP8j/Ctqq4XaMoV16CDaiSBE45r5qp72poLI8kEuZqUTMEHl\n",
       "p2pGrWRjyLws7Lz2VqcS3EPUje/q/udwutNaGsG8zpL2L8m/2FkXSOfUAAAAAElFTkSuQmCC\n",
       "\" style=\"display:inline;vertical-align:middle;\" /></a></span>"
      ],
      "text/plain": [
       "{[not]({1, 2, 3} equiv {2, 3, a})} |- {1, 2, 3} not_equiv {2, 3, a}"
      ]
     },
     "metadata": {},
     "output_type": "display_data"
    }
   ],
   "source": [
    "SetNotEquiv(Set(one, two, three), Set(two, three, a)).conclude_as_folded(\n",
    "        assumptions=[Not(SetEquiv(Set(one, two, three), Set(two, three, a)))])"
   ]
  },
  {
   "cell_type": "markdown",
   "metadata": {},
   "source": [
    "### Testing the `SetNotEquiv.derive_contradiction()` method<br/>\n",
    "\n",
    "The `derive_contradiction()` method has the following format:<br/>\n",
    "\n",
    "<div style=\"width: 50%; border: 1px solid green; padding: 5px; margin: 20px; background-color: gainsboro; font-family:courier\">derive_contradiction(**defaults_config):</div>\n",
    "\n",
    "and from A not_equiv B, and assuming (A equiv B), derives and returns FALSE."
   ]
  },
  {
   "cell_type": "code",
   "execution_count": 53,
   "metadata": {},
   "outputs": [
    {
     "data": {
      "text/html": [
       "<span style=\"font-size:20px;\"><a class=\"ProveItLink\" href=\"../__pv_it/theorems/2ee8dc2018014830ed832e2e3d65a4df89f102480/expr.ipynb\"><img src=\"data:image/png;base64,iVBORw0KGgoAAAANSUhEUgAAADsAAAAPBAMAAACo4Ko7AAAAMFBMVEX///8QEBAiIiLu7u5ERES6\n",
       "urqYmJiIiIjMzMx2dnZUVFRmZmaqqqoyMjLc3NwAAABb1yYoAAAAAXRSTlMAQObYZgAAAAlwSFlz\n",
       "AAAOxAAADsQBlSsOGwAAAPpJREFUGNNjYACBtwx4wX0wybxQB0iyg9ls/r9WrfWAyPL8B1NMFUkT\n",
       "GBi4IGKMDgwM6xvATO71D0BUGQPzLQaGboj0+wIGhvgNYOa8+WBlC4Bab7DqQaTzgUL5BSAWX0H9\n",
       "ARANNJmh/mMARHo9EF8EG8rNcD4B7koDKC3CwGClAWbFMPRPQPcLx5fyqmsQ5gaG9wtA9CYlENAC\n",
       "i7H/Y2A4CDaT3Xv3egd03SwCDAycP0AscwYGfgV0aX6geWzfIWYzMAmgS/cDDeb6CmSwAhm8H9Dt\n",
       "rgf6qf8CkPEQZNM/dN0XgfpkgZ40+X+Zgcf/L5rPlvxfteoKMKwAotBAF+FrKrQAAAAASUVORK5C\n",
       "YII=\n",
       "\" style=\"display:inline;vertical-align:middle;\" /></a>, <a class=\"ProveItLink\" href=\"../__pv_it/axioms/040e9a1f9b739ee8859835262ddf22eb997ee4790/expr.ipynb\"><img src=\"data:image/png;base64,iVBORw0KGgoAAAANSUhEUgAAADsAAAATBAMAAADc9GjbAAAAMFBMVEX///8QEBAiIiLu7u5ERES6\n",
       "urqYmJiIiIjMzMx2dnZUVFRmZmaqqqoyMjLc3NwAAABb1yYoAAAAAXRSTlMAQObYZgAAAAlwSFlz\n",
       "AAAOxAAADsQBlSsOGwAAAR9JREFUKM9jYACBtwx4wX0Ekw9Csfn/WrXWA8Lm+Y+QhhnE6MDAsL4B\n",
       "zORe/wBEsd6/zsDgwQ6Rfl/AwBC/AcycNx+srCnjiCjPBhOIdD5QKL8AbF1B/QEQvY6BIcgxRhUi\n",
       "vR6IL4IN5WY4nwCiQWov/j0AkRZhYLDSALNiGPonwNx9Acrg+FJedQ3C3MDwfgFUlCsAymD/x8Bw\n",
       "EGwmu/fu9Q5Q0RCY/1gEGBg4f4BY5gwM/AogxiYlpU9KSlpgaX6geWzfIWYzMAlAwwrmBoZ+oMFc\n",
       "X0GBAWTwfoAIMsEDrx7op36QOx+CbPoHEZwGl74I1CdrwMBg8v8yA4//X5CpmxSFlKB2L/m/atWV\n",
       "A2gRB/cWdtCCP9o98Es3YIgAAMetR04fyAbSAAAAAElFTkSuQmCC\n",
       "\" style=\"display:inline;vertical-align:middle;\" /></a> <a class=\"ProveItLink\" href=\"../__pv_it/demonstrations/293f4ee644340aae4882fb9f6830dc07366900760/proof.ipynb\" style=\"text-decoration: none\">&nbsp;&#x22A2;&nbsp;&nbsp;</a><a class=\"ProveItLink\" href=\"../../../booleans/__pv_it/common/e0f123f2e4f322e1eba7f861749cda9fd9d99a120/expr.ipynb\"><img src=\"data:image/png;base64,iVBORw0KGgoAAAANSUhEUgAAAA4AAAAPBAMAAAAmOuNHAAAAHlBMVEX///9UVFQQEBAiIiJmZmaI\n",
       "iIiqqqqYmJi6uroAAAAAFVhYAAAAAXRSTlMAQObYZgAAAAlwSFlzAAAOxAAADsQBlSsOGwAAABhJ\n",
       "REFUCNdjYECAdiidSkva2dhYydjYEABIWQamWbU+1AAAAABJRU5ErkJggg==\n",
       "\" style=\"display:inline;vertical-align:middle;\" /></a></span>"
      ],
      "text/plain": [
       "{A equiv B, A not_equiv B} |- FALSE"
      ]
     },
     "metadata": {},
     "output_type": "display_data"
    }
   ],
   "source": [
    "SetNotEquiv(A, B).derive_contradiction(assumptions=[SetEquiv(A, B), SetNotEquiv(A, B)])"
   ]
  },
  {
   "cell_type": "code",
   "execution_count": 54,
   "metadata": {},
   "outputs": [
    {
     "data": {
      "text/html": [
       "<span style=\"font-size:20px;\"><a class=\"ProveItLink\" href=\"../__pv_it/demonstrations/7f41b9f6928666b7a0801aae2f08374326b7fe5e0/expr.ipynb\"><img src=\"data:image/png;base64,iVBORw0KGgoAAAANSUhEUgAAAKcAAAAVBAMAAADROuOhAAAAMFBMVEX///9ERETMzMxUVFSYmJgQ\n",
       "EBDc3NxmZmYiIiJ2dnaqqqoyMjKIiIi6urru7u4AAAB85a56AAAAAXRSTlMAQObYZgAAAAlwSFlz\n",
       "AAAOxAAADsQBlSsOGwAAAmJJREFUOMuNVU1o1EAYfW7adLNsQ9Gr2FLBHxCsFH+wQgN68LhS9doV\n",
       "0aoIdk9Z6MGFglYPNlAKFYXuSfRi1/YmiEX0IILNRfCiBErxIiiiHtradL6ZZDKzuwm+w+TbzHtv\n",
       "vp35vgkA+wtScaPc5mWWwHwinh++pnNyR4LWl1kC7N1DY2GLxgOR2HRf9EXRw4oP7BgQyR29z8Yi\n",
       "pGBsYqdKU7CLBqvGNMdfR6aXYP0T0TcU1sUsQ/7NWQ8wEAvMHsz7Ck3BXMwBViLTY8AFEa3U7Q1p\n",
       "+hb2ErBfmhpldJYUWrbpaIBhcTiffCSmbBOMxe470rRzC8ZfhZZtegIYjjYVhd/S1CPKHz/JtAbj\n",
       "l0LLNmWYjoPPjjTliCjxNv9UaByXH9+MTbsaumluMwoODbKUi6WWohECHF5WaITui+hlLu8ovuLo\n",
       "pvmBOKJjNcXRVqcIk0gEmFRphDUHVfa4VWc5v4JuWklyYqeG1ZdNiUaCrh6NxnAbuEclPVRHrhJo\n",
       "ph1xov1AL1v0kd/cZEJwWqcxnINNJW7RoqJnpOkzmKKkwoDYot80cEHBw1WFRhluooPObiHQTp9+\n",
       "5TwUA5vejPD/ZZVa9pQLDgIfuYDTSGCvw2iw62Q2qZD5MnhnXHPdKn7Q+Z5R61QFb9O7rlvjAk7j\n",
       "gt14Oj6u1ung6JKDKbbydBhuIP+AKsSlmyLFNB+GYYMLOI0LVt/vO9WnFT+vDVkBzzWHNqbpgmZT\n",
       "S054/2faTiBMk575Lq/25eb2UZEtwAS/ZeV1KGeKCWXNaf1iZArs8/wxdjL943C93VyWwJxhRbsN\n",
       "87zSnoulmVsAAAAASUVORK5CYII=\n",
       "\" style=\"display:inline;vertical-align:middle;\" /></a>, <a class=\"ProveItLink\" href=\"../__pv_it/demonstrations/cde4aa29e3b41bdda9067e5dce1d3f4bbcc5d5b90/expr.ipynb\"><img src=\"data:image/png;base64,iVBORw0KGgoAAAANSUhEUgAAAKcAAAAVBAMAAADROuOhAAAAMFBMVEX///9ERETMzMxUVFSYmJgQ\n",
       "EBDc3NxmZmYiIiJ2dnaqqqoyMjKIiIi6urru7u4AAAB85a56AAAAAXRSTlMAQObYZgAAAAlwSFlz\n",
       "AAAOxAAADsQBlSsOGwAAAoRJREFUOMuFVc9rE0EU/sy2290lLiXiTWxUkAqCSkFFhQb1D6j4Ay/S\n",
       "SNH6C0xOG+jBgIjrQRtQQVFovIheNCJeRGkuHkSw8SAUQVkpxYugiIg0tevMm9nZWZusDzIzO/N9\n",
       "37yZ994EgPsRXe1MscNkGsG8L/o3n7pjMtuC5ZNpBGxYy1tnibeDkmx6T/JydLvcAlZs1bwQHRHG\n",
       "J3I6TLNVvLGr7EA7pqXocdh/xOgLnAWxGtlZ0fEpsx9TLQ2m2a0IA8xI0e3AYTGaqbttJbpy+gWQ\n",
       "yypRo4jeEQ2WLjoaYFgE530Lsejg3nvHnNJnJdq7BOOXBksX3QkMy0uF81OJsgPMrv5wNfa0CuOH\n",
       "BksXZTYZDWYLSrTJfs/adcQEWN81GNnY3XORaF8jKZpZlIPNQ8zl7IiKfUMOBAFbmhqM7v0IBpjK\n",
       "Kz4+UUiKWiqJeFhNFVojyhxBwEUdxm2+gArrzrPzjL1EUrQcXw+LGuaey4930SEFoa8/AWN2AbjC\n",
       "6213HZlykBDtiRxdDwywTe+QgxXf/+375Jwk7EvCmB2Ay1Pc5puKmlGiD2GKlAoDjhb1xjerRY4R\n",
       "wanhpAbjHi6ih8fucZCIPv/K1JANXD5zkM5lR4Gy1GmJsAl4SwSCcYK7AKPBnpObcYZMFUGVccrz\n",
       "KvjG47tfz1PgRkLUvOx5VSIQjAhr8KBU0vN0aPRpAT7beTIM27Cu8Qzx+EshRSuXjvryTmnKCsOw\n",
       "QQSCEWHu9cY9+UTyU26oDHiUPKueUP8j/Ctqq4XaMoV16CDaiSBE45r5qp72poLI8kEuZqUTMEHl\n",
       "p2pGrWRjyLws7Lz2VqcS3EPUje/q/udwutNaGsG8zpL2L8m/2FkXSOfUAAAAAElFTkSuQmCC\n",
       "\" style=\"display:inline;vertical-align:middle;\" /></a> <a class=\"ProveItLink\" href=\"../__pv_it/demonstrations/99510f4d5bed097f15e1a9d09202fda8ad03e4310/proof.ipynb\" style=\"text-decoration: none\">&nbsp;&#x22A2;&nbsp;&nbsp;</a><a class=\"ProveItLink\" href=\"../../../booleans/__pv_it/common/e0f123f2e4f322e1eba7f861749cda9fd9d99a120/expr.ipynb\"><img src=\"data:image/png;base64,iVBORw0KGgoAAAANSUhEUgAAAA4AAAAPBAMAAAAmOuNHAAAAHlBMVEX///9UVFQQEBAiIiJmZmaI\n",
       "iIiqqqqYmJi6uroAAAAAFVhYAAAAAXRSTlMAQObYZgAAAAlwSFlzAAAOxAAADsQBlSsOGwAAABhJ\n",
       "REFUCNdjYECAdiidSkva2dhYydjYEABIWQamWbU+1AAAAABJRU5ErkJggg==\n",
       "\" style=\"display:inline;vertical-align:middle;\" /></a></span>"
      ],
      "text/plain": [
       "{{1, 2, 3} equiv {2, 3, a}, {1, 2, 3} not_equiv {2, 3, a}} |- FALSE"
      ]
     },
     "metadata": {},
     "output_type": "display_data"
    }
   ],
   "source": [
    "SetNotEquiv(Set(one, two, three), Set(two, three, a)).derive_contradiction(\n",
    "        assumptions=[SetNotEquiv(Set(one, two, three), Set(two, three, a)),\n",
    "                     SetEquiv(Set(one, two, three), Set(two, three, a))])"
   ]
  },
  {
   "cell_type": "markdown",
   "metadata": {},
   "source": [
    "### Testing the `SetNotEquiv.deduce_in_bool()` method<br/>\n",
    "\n",
    "The `deduce_in_bool()` method has the following format:<br/>\n",
    "\n",
    "<div style=\"width: 50%; border: 1px solid green; padding: 5px; margin: 20px; background-color: gainsboro; font-family:courier\">deduce_in_bool(**defaults_config):</div>\n",
    "\n",
    "and attempts to deduce and return that this `SetNotEquiv` claim is in the `Boolean` set."
   ]
  },
  {
   "cell_type": "code",
   "execution_count": 55,
   "metadata": {},
   "outputs": [
    {
     "data": {
      "text/html": [
       "<span style=\"font-size:20px;\"> <a class=\"ProveItLink\" href=\"../__pv_it/demonstrations/0f5d3aeadc543d2b3e9c6b5de845413a331fd8480/proof.ipynb\" style=\"text-decoration: none\">&nbsp;&#x22A2;&nbsp;&nbsp;</a><a class=\"ProveItLink\" href=\"../__pv_it/demonstrations/1f52b6341fb998b878eec8838aadb282d5cb4b480/expr.ipynb\"><img src=\"data:image/png;base64,iVBORw0KGgoAAAANSUhEUgAAAN0AAAAVBAMAAAAwUfbwAAAAMFBMVEX////MzMxUVFRERES6uroi\n",
       "IiIQEBCYmJhmZmYyMjLu7u52dnaqqqqIiIjc3NwAAACW8nlqAAAAAXRSTlMAQObYZgAAAAlwSFlz\n",
       "AAAOxAAADsQBlSsOGwAAAu5JREFUSMeFVktoE1EUPUkmaZI2aRAEQaFVs7AbGUt1UbBm46eKUFKH\n",
       "KggKbS24adCV1EVx1egmSKkgagO6LZZKpBttNhVFMEHQoiAG3FgEPwsXLcX65s77TN7MkIGZue/d\n",
       "c+55nzv3DYAGgCc5BF3pd369rQjpQHeqyu7ZcqAfO/p9SK0IRl3r/DA6P5e3B/mW3TWbvVOE+F48\n",
       "xK0fy33s2euiNZyXTdBhdFEQm7Cmj8I8m76fBZIlZlfY+8A810ubWHFWKzmNWpW8cq1KzrviA4MM\n",
       "YhMS+gKYJ/EyAsQLHICvHBFuIHbZWbUtPC1JvcGNOiKZutDzwCCD2IS2aa/ezTAQg64X20T4H1nG\n",
       "GDqlXmhkz5Hc66Qp9DywZj1c5Tt92Log9RLAG49eeAjhP2JUtYLQY/MxhsdWc3J+OkzTu+eM5WFZ\n",
       "ze/gFHDHo8eu6G9uGCPCi5S9KZMP5P55YJreErXXyypfFvKLfBhFTa+LZ3Po/V72/Cj714VR9IEp\n",
       "PSLcoPYjtX/H5/7eBi7aWTeh6eWlZSfer6poZUWaTvjAlB4RXlG75M6XtcEyxhi7J9esFzclimUF\n",
       "kj08msH7OUGDKT0idNHMxy3LGhZ6EWPR1sOu/ma9a/wdyiCyBbTPUnTLusTI3ZAEDab0iHCCPkjT\n",
       "Pb8ITFpPp4JIvY5F/CSjc5MC1YRjSpJ7fWBKjwir1B5q1ivhaFN+UuTdwGeyYt20UM8FRZErXlhZ\n",
       "6RHhOrW/NOl11J20Jb2VBpIb9u6cn5kZIqut4Pr+2DIV3HoajCwKwgn0oSEhc808gxfLrMAKvX2T\n",
       "dwuw2PCi29vbJbJwaqZPfmxx64ol9s/u0mFkURCHcM6pqPtPO3KfRo/R+RDNwFWRO8peS3qz8HQF\n",
       "E9J88Y1nvJ7xi+qqpLfDawlvyPTRCyTECwGn44C7gizAa/Fiws4G1dWa8C3oNH4MVwVRp7KykhN8\n",
       "fi5Sa8JA4O8GA6ZvVYN/R5Z8fC0JqYa/8z/ZKBLPBuyEkAAAAABJRU5ErkJggg==\n",
       "\" style=\"display:inline;vertical-align:middle;\" /></a></span>"
      ],
      "text/plain": [
       "|- ({1, 2, 3} not_equiv {2, 3, 1}) in BOOLEAN"
      ]
     },
     "metadata": {},
     "output_type": "display_data"
    }
   ],
   "source": [
    "SetNotEquiv(Set(one, two, three), Set(two, three, one)).deduce_in_bool()"
   ]
  },
  {
   "cell_type": "code",
   "execution_count": 56,
   "metadata": {},
   "outputs": [
    {
     "data": {
      "text/html": [
       "<span style=\"font-size:20px;\"> <a class=\"ProveItLink\" href=\"../__pv_it/demonstrations/94e7fe539b91926c204a1366eceba028b43b48520/proof.ipynb\" style=\"text-decoration: none\">&nbsp;&#x22A2;&nbsp;&nbsp;</a><a class=\"ProveItLink\" href=\"../__pv_it/demonstrations/89abfa24185ec487230342fe8ccff0fbf4d37b010/expr.ipynb\"><img src=\"data:image/png;base64,iVBORw0KGgoAAAANSUhEUgAAAMkAAAAVBAMAAAAeFNdiAAAAMFBMVEX////MzMxUVFRERES6uroi\n",
       "IiIQEBCYmJhmZmYyMjLu7u52dnaqqqqIiIjc3NwAAACW8nlqAAAAAXRSTlMAQObYZgAAAAlwSFlz\n",
       "AAAOxAAADsQBlSsOGwAAAzdJREFUSMd1lVtIVEEYx/97UY9ndw9bEAkV2iqUdOEU1INQLoGFRbBo\n",
       "pwsEiVpCL7vUQ4Q9iL6ovSwiRlG5VEQvwmIYXSj3xSiC2peUivBADyldNMJCkbaZOTPn7LnswNnz\n",
       "7XfmP7+Z+b5vBoAO4F4cpdp33cvrEihv6U/JUSI58gxnSn731Xp8swuikHWsbQCCeUe/9x2jIy10\n",
       "Qm/I845q1gnh3MAuPr9nfaRHoKZIxhfGBKjizuR1jfzfTawZ53TUo8qNOkBOE3uCvLeOcoqiYtLY\n",
       "jwcIrwKhRNG+pI33BPtt4d7jS0+5r9K5bvUQXgQAKSVEs7yHX0d5G7Nmc/KyRWleziMQzVuUiKDU\n",
       "mL6KHjflih8oh5NSvgL/P2YdjMOi+E5s3Bt/JasWZf2Qi4LzPG57tFMmpRJ47aL4E/D/4vrwX5NC\n",
       "lhhs7ZyKWyNmPSjXmBm8lbHWsrMbuOqikFa2yI2mlEmJ0G1P3rTiEtEFZcunzWKQceaYz1jRH2vJ\n",
       "cviAg1LNM3JTLEpGazP988Kggq8QlAYskCVOU/Myc9y24tI0sjQInKaZ0+WgiLCyHFNWTX+dSDUq\n",
       "yJoUku1kvQuk8PCS/U0XR3+mOYNOoqmP2ymSavZKEucdvk0Icj8TVOhFFImki1xPMNUsUc5qmtYq\n",
       "KIFgllJQ1WCnXODvNUAjUT5hk5A07QwRs0hTwQ8ISiANiaRLaJimJXXIavFaAlDZjrGytSjhLH4y\n",
       "o5ChlPCKkHSbYiI4EIv92WakPknKRX4eTDFPwk5JY58txxhoA/CRWe1sx0Jm9C2xUfvthiBEQGT2\n",
       "j6jrIvvw2UYJ543UY6JJHbTUoZzs708w61JxvRAj5aD85oIeTGe4jxUGKnMm5QiePyZnpBDFkkMp\n",
       "0FOvrFAopJkV7KenJadI2jlNxMUYsa+wg3XDXO+g8B1jn+XawwbkQ0cjO5PLoubUaEgybstcSx0c\n",
       "a7F1Yz6F9w0+5CcMb+x8M0UheFhc6VM9KCG7T0qVuKX2g5ctbWNwWxKvsUDUEnkI2HnwpdRdeBe8\n",
       "bGmz7jrLus/n5ysSeQjkLj5lz6aQjkpvruSN/G27l8glUMbpza57j/Ef4BDwWg7VHcIAAAAASUVO\n",
       "RK5CYII=\n",
       "\" style=\"display:inline;vertical-align:middle;\" /></a></span>"
      ],
      "text/plain": [
       "|- ({1, 2, 3} not_equiv {4, 5}) in BOOLEAN"
      ]
     },
     "metadata": {},
     "output_type": "display_data"
    }
   ],
   "source": [
    "SetNotEquiv(Set(one, two, three), Set(four, five)).deduce_in_bool()"
   ]
  },
  {
   "cell_type": "code",
   "execution_count": 57,
   "metadata": {},
   "outputs": [
    {
     "data": {
      "text/html": [
       "<span style=\"font-size:20px;\"> <a class=\"ProveItLink\" href=\"../__pv_it/demonstrations/662be4f07ab9c44c6929360219c070a274ea23210/proof.ipynb\" style=\"text-decoration: none\">&nbsp;&#x22A2;&nbsp;&nbsp;</a><a class=\"ProveItLink\" href=\"../__pv_it/demonstrations/83dcf81b5699b5dae98454d0b53e45f39020edc40/expr.ipynb\"><img src=\"data:image/png;base64,iVBORw0KGgoAAAANSUhEUgAAAN0AAAAVBAMAAAAwUfbwAAAAMFBMVEX////MzMxUVFRERES6uroi\n",
       "IiIQEBCYmJhmZmYyMjLu7u52dnaqqqqIiIjc3NwAAACW8nlqAAAAAXRSTlMAQObYZgAAAAlwSFlz\n",
       "AAAOxAAADsQBlSsOGwAAA11JREFUSMd9lltIVEEYx/9n757dPW5BEHQz8yGh4hTVg2Dui5WFsCgH\n",
       "i4IkLd9y6aXAHpYiWuuhJcRALBcL6UVaDMMIc1+EIsglqKgolyBI7GJQhLK1zcyZOZe9Dew53858\n",
       "/+83l2++XQBZAHfDKNe+Zkv1VhAoL+gzW244mCafgWRZubSlxFglAVY3kEdrQeerrpHBNjrJ5+Qz\n",
       "R9VrRIgv/Tv5TB9fIh7OGouMT5sKDDcsTu22xd5FZxQtAKqtylAdICeIPUneW0c4T1Exo+/WPQRy\n",
       "gD9i2auE/p60uskxzKWtoSfpY6iQdwBPnIAvKhzmOc+RhaeTWfNpednktSxn4AxlRETTLZjD/UQR\n",
       "73wx74ID8KCQ51mB4x+z9odh8qSO9XvDT2VVRDTdXN2oLuZ59HDBPdpRg1cFPCviOSJw/OTKwB+D\n",
       "R9bjau+eDRvrs7hhLlrEq2JdrltJc307+oBrRTzS3EvcaI4avCCN0TtsiWi6uTq48Wn6mxj1szRb\n",
       "SJr5Mt6WAm5Su7+At0k/JWyoDRFQp9G/IIx+m5v0cjPnnkETifKa2l62xbfN82se/H0VOE6zrqeA\n",
       "1yYMmp9KzuivE2naY3cT+TkWxWXy+kG/Bdg0E9Z8edOSRDdR14ftPJ9qePWSztFhsW28nwssbiR5\n",
       "aLsOHKMXpJ4AJbrZ0ilN09oFz+lKUR7WNth5Z/l7FdBElI/06Jp2gojZqegC4SaF4NT3oAvyL3p0\n",
       "A3RydH2yal2fEyrbT1YQTF4ghe/MyCcpL7AiJH22CmK4Va9wnvwX3iVRrgIszSJ2XgKNtvxkyHXA\n",
       "O2adZPvpN/IlYst4w81TQ/eTWHIOjgSp1g9ZvrClfbDxAhlMGLyZLGg5gXIkHo8w65z1/hEjauWZ\n",
       "bt4ouX/MasRsLMbD+VLsFhqFTj2M6SlSpQWvtvdGFBqZpTufzyeY5YrTes15Pu20Js6PCkw3HIyT\n",
       "ek2t0fcbt4c4z81OXd5ySMe97Wpivw/ukHF96aYniy1jfXUFFaScQB/9zHP6Aa9nvHljVrkfJSzO\n",
       "k9QSvFICffRKmV/HfeAFgbZxFFs+fmedIVNUUcCqj6KW4d0RBYG2jNFtWmM8TSSLqKJAptXHWe4P\n",
       "hUIclYvpsv8OFreVElUQKBN07GPpwf84ogwM1po0SgAAAABJRU5ErkJggg==\n",
       "\" style=\"display:inline;vertical-align:middle;\" /></a></span>"
      ],
      "text/plain": [
       "|- ({1, 2, 3} not_equiv {2, 3, a}) in BOOLEAN"
      ]
     },
     "metadata": {},
     "output_type": "display_data"
    }
   ],
   "source": [
    "SetNotEquiv(Set(one, two, three), Set(two, three, a)).deduce_in_bool(assumptions=[Equals(a, one)])"
   ]
  },
  {
   "cell_type": "code",
   "execution_count": 58,
   "metadata": {},
   "outputs": [],
   "source": [
    "%end demonstrations"
   ]
  },
  {
   "cell_type": "code",
   "execution_count": null,
   "metadata": {},
   "outputs": [],
   "source": []
  }
 ],
 "metadata": {
  "kernelspec": {
   "display_name": "Python 3",
   "language": "python",
   "name": "python3"
  },
  "language_info": {
   "codemirror_mode": {
    "name": "ipython",
    "version": 3
   },
   "file_extension": ".py",
   "mimetype": "text/x-python",
   "name": "python",
   "nbconvert_exporter": "python",
   "pygments_lexer": "ipython3",
   "version": "3.7.3"
  }
 },
 "nbformat": 4,
 "nbformat_minor": 1
}
