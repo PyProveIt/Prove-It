{
 "cells": [
  {
   "cell_type": "markdown",
   "metadata": {},
   "source": [
    "Proof of <a class=\"ProveItLink\" href=\"../../../../../../_theory_nbs_/theory.ipynb\">proveit</a>.<a class=\"ProveItLink\" href=\"../../../../../_theory_nbs_/theory.ipynb\">logic</a>.<a class=\"ProveItLink\" href=\"../../../../_theory_nbs_/theory.ipynb\">sets</a>.<a class=\"ProveItLink\" href=\"../../theory.ipynb\">inclusion</a>.<a class=\"ProveItLink\" href=\"../../theorems.ipynb#subset_eq_via_equality\">subset_eq_via_equality</a> theorem\n",
    "========\n",
    "*** see <a href=\"../__pv_it/25e91905b7f122ed31887b2ec5caefd3bc7bd0470/dependencies.ipynb\" class=\"ProveItLink\">dependencies</a> ***"
   ]
  },
  {
   "cell_type": "code",
   "execution_count": 1,
   "metadata": {},
   "outputs": [
    {
     "data": {
      "text/html": [
       "Under these <a href=\"presumptions.txt\">presumptions</a>, we begin our proof of<br><strong id=\"subset_eq_via_equality\">subset_eq_via_equality:</strong> <a class=\"ProveItLink\" href=\"../../../__pv_it/theorems/94d9332fa83c3a71b248b948e614aff0da89e8d20/expr.ipynb\"><img src=\"data:image/png;base64,iVBORw0KGgoAAAANSUhEUgAAALkAAAAXBAMAAACllfPxAAAAMFBMVEX///+IiIgiIiIQEBB2dnbu\n",
       "7u5ERETMzMzc3NwyMjK6urpmZmaYmJiqqqpUVFQAAAB6qHgnAAAAAXRSTlMAQObYZgAAAAlwSFlz\n",
       "AAAOxAAADsQBlSsOGwAAArlJREFUSMetVU1oE0EU/tZmf7LdxIggHhTDevCghyqiHqz0ELwUdakn\n",
       "EaQq6qkkUPCorXq2EayIBxuR0otg0BLxhxh7EKRC9+RJMHiRWkirtMZa2/pmZieZRiV268Dueztv\n",
       "37fzvu/NLBB6WE3ifVjL2Cq+kf1b/B5dZea8DwEe6+AmOvNb5PVypXIrA60EPGPPt0OgnxDmQ4Cu\n",
       "nXFdNyP8fUC8CgwCl1h13SHQXwhT/M6NeaNOs/UFsBeAcarMAyJ+CPQ2fo9cq3LbpWjo0JRDX2jx\n",
       "4BA70TC0CzX7tUVuPyuhOJEVPUAXQe9x3b0h0FuFqPnYT27Vzmnphv6RJIhQxzwBzvFJryFdOvof\n",
       "0dnCiF7fnOW0l5XQ5dMbJlnUoU9eh8VD+n4euriQKnDpDfny8Yz0zPRo54XAX+eLJVhLXEgVfVsf\n",
       "YgcZeSSN4UVyXB9BoJOE1rYC/Vhd8zFgoyyfJ216XvzGH5MK+lmWREsyif9YQog6sltIkoczo6Lb\n",
       "vYla3hQwoaLrFPqq9icfrJoJithsldlXfC5xV2T56Cqp6Fq0XnU79F0qM0yb7UKGXO0lk+k8Tc8x\n",
       "VtCRQQ6Cpzw2sGX8E1T0RGsWhfM0SrRN3halCAar6AFdQ0L6yrBE12h/mfOMZLZJr/K1jQSMjkGf\n",
       "UtHtjJAh0ORUPvBZu1kskhb7yD4sT4Iozd4flE0b53OjqWkvoHYgp6C3po7O1bZJHtYPWX8Senre\n",
       "w7vlmytbNZ5eqkz2cPJqbGkEmhHU4qHakQlYVckMaWJXZcaOphvuSs0jBtf7egesOeg7FWZsUnhR\n",
       "vjTgoUsyw86ofzvnqP5D0F/eMdvxZjZV8BX0x2WcnA8qdIZSnT21XGPFv+eR69ZP4OCobDx5Y4pv\n",
       "NFmZ3uzYNhp/fcOrQEd/k/jmxonSatDXNKz/gPELaVSnIAOYlmEAAAAASUVORK5CYII=\n",
       "\" style=\"display:inline;vertical-align:middle;\" /></a><br>(see <a class=\"ProveItLink\" href=\"../../../__pv_it/theorems/396df5701eb5290e07500585ea550ae38bac50ce0/dependencies.ipynb\">dependencies</a>)<br>"
      ],
      "text/plain": [
       "subset_eq_via_equality: forall_{A, B | A = B} (A subset_eq B)"
      ]
     },
     "execution_count": 1,
     "metadata": {},
     "output_type": "execute_result"
    }
   ],
   "source": [
    "import proveit\n",
    "from proveit import defaults\n",
    "from proveit import x, y, A, B, C, Px\n",
    "from proveit.logic import And, Equals, Forall, Implies, SubsetEq\n",
    "from proveit.logic.equality import sub_right_side_into\n",
    "from proveit.logic.sets.inclusion  import subset_eq_def\n",
    "from proveit.logic.sets.inclusion import subset_eq_reflexive\n",
    "%proving subset_eq_via_equality"
   ]
  },
  {
   "cell_type": "code",
   "execution_count": 2,
   "metadata": {},
   "outputs": [
    {
     "data": {
      "text/html": [
       "<span style=\"font-size:20px;\"> <a class=\"ProveItLink\" href=\"../subset_eq_reflexive/thm_proof.ipynb\" style=\"text-decoration: none\">&nbsp;&#x22A2;&nbsp;&nbsp;</a><a class=\"ProveItLink\" href=\"../../../__pv_it/theorems/2a19e3d591ef9bab71b0a9af46e46881e197d3430/expr.ipynb\"><img src=\"data:image/png;base64,iVBORw0KGgoAAAANSUhEUgAAAGwAAAAVBAMAAABRZRb3AAAAMFBMVEX///+IiIgiIiIQEBB2dnbu\n",
       "7u5ERETMzMzc3NwyMjK6urpmZmaYmJiqqqpUVFQAAAB6qHgnAAAAAXRSTlMAQObYZgAAAAlwSFlz\n",
       "AAAOxAAADsQBlSsOGwAAAc5JREFUOMuFU80rRFEU/w3zzDPPMKWsiJ6FskJkJwvJBsNC2UkpZTH+\n",
       "Ah+RsvFRlCSUZENNUvIRY6NkM1FWirWFkeSjMO459z7dW485dd+59/76nXPP75wH+JiNf+0vuEyi\n",
       "c37YNBCOAve0vzWQSDO7/Cc/2ppYpcAh7ZcMpFe6O0UL9LuuO+yFzFDAGEboOX0G7Vi6k3d2ofkx\n",
       "DXPS4lSQICaCKYNWw9/g5Bv7bp2Ftk7K24CCpEhqlialGA98sX8wRIyWU4oVoM516w2aIxVJRD7Z\n",
       "G3o6uBNp0AHsAwN8FVNQPgEIp0IvXNq9TtvBKAW9AGZgM2I1KignJePa3/wsg5bALJ2vgbxYcJ0l\n",
       "+FJQLh9Ljk5e+VihsQJDR2lSfVQoEJWKbNXqNEtMwrPeDrYuoIjCbFDNZ3wVXdUf6YhVKUtd19+I\n",
       "HGrPlVjti5wfBwrLE4mwreZI5H3c9FjhpBq5c7EmuOgtFCswKM42xYzLRodbveGaoKA0O3tiFfLV\n",
       "XktadSBUASv+EcNNZsGc4p7MIiLxD9GB6l+NgFlvXKuQxexfdUUtRd5kXmajOUlv0wTrdNnTxBje\n",
       "XdfVfhy2Kd9gVl+WbIP+1+P/swJj+AFUbWZc/NlSuAAAAABJRU5ErkJggg==\n",
       "\" style=\"display:inline;vertical-align:middle;\" /></a></span>"
      ],
      "text/plain": [
       "|- forall_{A} (A subset_eq A)"
      ]
     },
     "execution_count": 2,
     "metadata": {},
     "output_type": "execute_result"
    }
   ],
   "source": [
    "subset_eq_reflexive"
   ]
  },
  {
   "cell_type": "code",
   "execution_count": 3,
   "metadata": {},
   "outputs": [
    {
     "data": {
      "text/html": [
       "<strong id=\"subset_eq_reflexive_spec\">subset_eq_reflexive_spec:</strong> <span style=\"font-size:20px;\"> <a class=\"ProveItLink\" href=\"../../../__pv_it/_proof_subset_eq_via_equality/e20775b34f6550e4b59a6d766b380de2a9afe38c0/proof.ipynb\" style=\"text-decoration: none\">&nbsp;&#x22A2;&nbsp;&nbsp;</a><a class=\"ProveItLink\" href=\"../../../__pv_it/theorems/f42de4bb2ce292c235d88b89922dd44fadcc6ded0/expr.ipynb\"><img src=\"data:image/png;base64,iVBORw0KGgoAAAANSUhEUgAAADsAAAASBAMAAAAXqLt+AAAAMFBMVEX///8QEBAiIiLu7u5ERES6\n",
       "urqYmJiIiIjMzMx2dnZUVFRmZmaqqqoyMjLc3NwAAABb1yYoAAAAAXRSTlMAQObYZgAAAAlwSFlz\n",
       "AAAOxAAADsQBlSsOGwAAALhJREFUKM9jYACBtwzYAFz0PlZpmCjPfyiD3UlJSakBXZR7/QMwzXH9\n",
       "AZJmmCjDvPkQHUbIsnBRvoL6A2DGUmRZuCg3w/kEMOMCsjRcNIahfwLY6gXI0jBRhg0M78ESfCjS\n",
       "MFF2793rHcAiCkiycFFzBgZ+iMQ2JGm46AYGBiYBsBBvALLZEFFWoPt4P4CFmFcFw2Thog+BmOUf\n",
       "VHAKLFBhoib/LzPw+P+dgBob2EUpApuUlJAiFAQAw/Q6xpbqokIAAAAASUVORK5CYII=\n",
       "\" style=\"display:inline;vertical-align:middle;\" /></a></span><br>"
      ],
      "text/plain": [
       "subset_eq_reflexive_spec: |- A subset_eq A"
      ]
     },
     "execution_count": 3,
     "metadata": {},
     "output_type": "execute_result"
    }
   ],
   "source": [
    "subset_eq_reflexive_spec = subset_eq_reflexive.instantiate()"
   ]
  },
  {
   "cell_type": "code",
   "execution_count": 4,
   "metadata": {},
   "outputs": [
    {
     "data": {
      "text/html": [
       "<span style=\"font-size:20px;\"> <a class=\"ProveItLink\" href=\"../../../../../equality/_theory_nbs_/proofs/sub_right_side_into/thm_proof.ipynb\" style=\"text-decoration: none\">&nbsp;&#x22A2;&nbsp;&nbsp;</a><a class=\"ProveItLink\" href=\"../../../../../equality/__pv_it/theorems/6f117f8e22b1de06fedba415f5137beb876c1d570/expr.ipynb\"><img src=\"data:image/png;base64,iVBORw0KGgoAAAANSUhEUgAAAMEAAAAXBAMAAABACzadAAAAMFBMVEX///+IiIgiIiIQEBB2dnbu\n",
       "7u5ERETMzMzc3NwyMjK6urpmZmaYmJiqqqpUVFQAAAB6qHgnAAAAAXRSTlMAQObYZgAAAAlwSFlz\n",
       "AAAOxAAADsQBlSsOGwAAArlJREFUSMe1VkFoE0EUfWmSzWY3m2wOSjFgSy+CoKQiCIKQFnsoqKwg\n",
       "PYYEUerFBHvWRovXupeCB8UIvXhqhVpjkbrx4MWDQRQUBStIEQSpB6sn9c/szGbSNCK4/fDnT/9/\n",
       "O2/m/z+TAjsjtQ6zAxJp+fYu6RqbvA9p3crm1wsP2OyV9HjACpvcDGnrGRc46wBxV3rmgCtk9FJI\n",
       "DNM28IHU9KTnOZAkylgrJIaBKmkBiAaeqIMU0SXDKnCFKbG8DTxJWv7Q0NDhsBg2gcQ3sktUipyH\n",
       "IqWHOukhcK7nJ4vqH2/89uhNQKvroyzjt2hpK48XQIpqPgudeIzK0urn7m/8FvCDqfo2rJ3d+uv4\n",
       "CQ46AFw2B7EOEA80J8a8T4HRXgx+sCh88z0ZtA0xOQo4URvDdCxyWTYv9Bfqgp4MPLgii+f87TpI\n",
       "Biw4iR90fDoD3CZzHgMOksk2cvSWGHuRVhl4cJDSkLvaEL3tA3kOJRjTBcFAWcIjRGh1i77CyTl2\n",
       "6b5jlhIcqa0naYHTGWdKYeBBnTbYny7dhsUKwYHL50m8AIwBUSmUSS9Co/qm2Aoz7GlKDWdfM4Ny\n",
       "gsz1l9itMPCgQXNPs6t8IoFQwbgj03WKdBULdBdMdqx0lQ1rIviTj5/wUWHgQYsNGcpMoqQAVfDy\n",
       "77LwXCItjjwhcF89uN3iJUnkdWb244jCwIN84Sl68XmWONDPUgBuSx/bNMZJrwW+G6xsZzATc00y\n",
       "2GdsKAw8SJXW8+N0GyK2BAqR4LakFhFz49QfeNx+2cfYDlvmnpFdZPDumdtm8IOYBO7PZx1oNQkU\n",
       "IsGKTKLPThe2ebXFG9uK1zRP7daOmzbRBnIJwIpMwGqy+6Nt+Rk1HGHS9j10MZgC3QiAvgRgRXTb\n",
       "t/1b0yeN0Sx0M2DMj9YDoNiXBP/PvwwiHcr47/IHTs2vDywJuR0AAAAASUVORK5CYII=\n",
       "\" style=\"display:inline;vertical-align:middle;\" /></a></span>"
      ],
      "text/plain": [
       "|- forall_{P, x, y | P(x), x = y} P(y)"
      ]
     },
     "execution_count": 4,
     "metadata": {},
     "output_type": "execute_result"
    }
   ],
   "source": [
    "sub_right_side_into"
   ]
  },
  {
   "cell_type": "code",
   "execution_count": 5,
   "metadata": {},
   "outputs": [
    {
     "data": {
      "text/html": [
       "<span style=\"font-size:20px;\"><a class=\"ProveItLink\" href=\"../../../__pv_it/theorems/f499420995aa101afb63b56c7e1317b0571a23ed0/expr.ipynb\"><img src=\"data:image/png;base64,iVBORw0KGgoAAAANSUhEUgAAADsAAAAPBAMAAACo4Ko7AAAAMFBMVEX///8QEBAiIiLu7u5ERES6\n",
       "urqYmJiIiIjMzMx2dnZUVFRmZmaqqqoyMjLc3NwAAABb1yYoAAAAAXRSTlMAQObYZgAAAAlwSFlz\n",
       "AAAOxAAADsQBlSsOGwAAANJJREFUGNNjYACBtwx4wX0METb/X6vWekDYPP8xdTA6MDCsbwAzudc/\n",
       "wJB+X8DAEL8BzJw3vwFDOh8olF8AYvEV1B/AkF4PxBfBhnIznE/AkBZhYLDSALNiGPongOhNSiCg\n",
       "BRbj+FJedQ2icAPD+wXomtn/MTAcBJvJ7r17vQO6NIsAAwPnDxDLnIGBXwFdmh9oHtt3iNkMTALo\n",
       "dvcDDeb6CmSwAhm8H9B11wP91H8ByHgIsukfuvRFoD5ZAwYGk/+XGXj8/05AlV3yf9WqK8CwAgDG\n",
       "Sze3IEjZSAAAAABJRU5ErkJggg==\n",
       "\" style=\"display:inline;vertical-align:middle;\" /></a> <a class=\"ProveItLink\" href=\"../../../__pv_it/_proof_subset_eq_via_equality/0dab7dcc4fb7b4dad262ee38cc0ce6793fb7ebd70/proof.ipynb\" style=\"text-decoration: none\">&nbsp;&#x22A2;&nbsp;&nbsp;</a><a class=\"ProveItLink\" href=\"../../../__pv_it/axioms/db7a164f644801bfd111812bb9a6a278f180c2b50/expr.ipynb\"><img src=\"data:image/png;base64,iVBORw0KGgoAAAANSUhEUgAAADsAAAASBAMAAAAXqLt+AAAAMFBMVEX///8QEBAiIiLu7u5ERES6\n",
       "urqYmJiIiIjMzMx2dnZUVFRmZmaqqqoyMjLc3NwAAABb1yYoAAAAAXRSTlMAQObYZgAAAAlwSFlz\n",
       "AAAOxAAADsQBlSsOGwAAAP5JREFUKM9jYACBtwx4wX0METb/X6vWekDYPP+hgiVKSkoaECajAwPD\n",
       "+gYwk3v9AzDdW4fQ/r6AgSF+A5g5bz5YGbMekun5QKH8AhCLr6D+AIjmCkCSXg/EF8GGcjOcTwDR\n",
       "vMhuE2FgsII4I4ahfwKI7kKS5fhSXnUNwtzA8H4BiH6FJM3+j4HhINhMdu/d6x1ADCYkaRYBBgbO\n",
       "HyCWOQMDvwLYDQkIaX6geWzfIWYzMAmAxa4ipPuBSrm+AhmsQAbvB7CY1VIDmHQ90E/9F4CMhyCb\n",
       "/kEEI51ggXoRqE8WqNjk/2UGHv+/E1BjZMn/VauuHGCgIuBWUkJEKAQAAKfCPPnSFvDNAAAAAElF\n",
       "TkSuQmCC\n",
       "\" style=\"display:inline;vertical-align:middle;\" /></a></span>"
      ],
      "text/plain": [
       "{A = B} |- A subset_eq B"
      ]
     },
     "execution_count": 5,
     "metadata": {},
     "output_type": "execute_result"
    }
   ],
   "source": [
    "sub_right_side_into.instantiate({Px:SubsetEq(A, x), x:A, y:B}, assumptions=[Equals(A, B)])"
   ]
  },
  {
   "cell_type": "code",
   "execution_count": 6,
   "metadata": {},
   "outputs": [
    {
     "name": "stdout",
     "output_type": "stream",
     "text": [
      "proveit.logic.sets.inclusion.subset_eq_via_equality has been proven.\n"
     ]
    },
    {
     "data": {
      "text/html": [
       "<table><tr><th>&nbsp;</th><th>step type</th><th>requirements</th><th>statement</th></tr>\n",
       "<tr><td><a name=\"-0x5cecc9d9722d3b3f_step0\">0</a></td><td>generalization</td><td><a href=\"#-0x5cecc9d9722d3b3f_step1\">1</a></td><td><span style=\"font-size:20px;\"> <a class=\"ProveItLink\" href=\"../../../__pv_it/_proof_subset_eq_via_equality/30eae53a88d6cb104be5b71bf52b96dce9d781520/proof.ipynb\" style=\"text-decoration: none\">&nbsp;&#x22A2;&nbsp;&nbsp;</a><a class=\"ProveItLink\" href=\"../../../__pv_it/theorems/94d9332fa83c3a71b248b948e614aff0da89e8d20/expr.ipynb\"><img src=\"data:image/png;base64,iVBORw0KGgoAAAANSUhEUgAAALkAAAAXBAMAAACllfPxAAAAMFBMVEX///+IiIgiIiIQEBB2dnbu\n",
       "7u5ERETMzMzc3NwyMjK6urpmZmaYmJiqqqpUVFQAAAB6qHgnAAAAAXRSTlMAQObYZgAAAAlwSFlz\n",
       "AAAOxAAADsQBlSsOGwAAArlJREFUSMetVU1oE0EU/tZmf7LdxIggHhTDevCghyqiHqz0ELwUdakn\n",
       "EaQq6qkkUPCorXq2EayIBxuR0otg0BLxhxh7EKRC9+RJMHiRWkirtMZa2/pmZieZRiV268Dueztv\n",
       "37fzvu/NLBB6WE3ifVjL2Cq+kf1b/B5dZea8DwEe6+AmOvNb5PVypXIrA60EPGPPt0OgnxDmQ4Cu\n",
       "nXFdNyP8fUC8CgwCl1h13SHQXwhT/M6NeaNOs/UFsBeAcarMAyJ+CPQ2fo9cq3LbpWjo0JRDX2jx\n",
       "4BA70TC0CzX7tUVuPyuhOJEVPUAXQe9x3b0h0FuFqPnYT27Vzmnphv6RJIhQxzwBzvFJryFdOvof\n",
       "0dnCiF7fnOW0l5XQ5dMbJlnUoU9eh8VD+n4euriQKnDpDfny8Yz0zPRo54XAX+eLJVhLXEgVfVsf\n",
       "YgcZeSSN4UVyXB9BoJOE1rYC/Vhd8zFgoyyfJ216XvzGH5MK+lmWREsyif9YQog6sltIkoczo6Lb\n",
       "vYla3hQwoaLrFPqq9icfrJoJithsldlXfC5xV2T56Cqp6Fq0XnU79F0qM0yb7UKGXO0lk+k8Tc8x\n",
       "VtCRQQ6Cpzw2sGX8E1T0RGsWhfM0SrRN3halCAar6AFdQ0L6yrBE12h/mfOMZLZJr/K1jQSMjkGf\n",
       "UtHtjJAh0ORUPvBZu1kskhb7yD4sT4Iozd4flE0b53OjqWkvoHYgp6C3po7O1bZJHtYPWX8Senre\n",
       "w7vlmytbNZ5eqkz2cPJqbGkEmhHU4qHakQlYVckMaWJXZcaOphvuSs0jBtf7egesOeg7FWZsUnhR\n",
       "vjTgoUsyw86ofzvnqP5D0F/eMdvxZjZV8BX0x2WcnA8qdIZSnT21XGPFv+eR69ZP4OCobDx5Y4pv\n",
       "NFmZ3uzYNhp/fcOrQEd/k/jmxonSatDXNKz/gPELaVSnIAOYlmEAAAAASUVORK5CYII=\n",
       "\" style=\"display:inline;vertical-align:middle;\" /></a></span></td></tr>\n",
       "<tr><td><a name=\"-0x5cecc9d9722d3b3f_step1\">1</a></td><td>instantiation</td><td><a href=\"#-0x5cecc9d9722d3b3f_step2\">2</a>, <a href=\"#-0x5cecc9d9722d3b3f_step3\">3</a>, <a href=\"#-0x5cecc9d9722d3b3f_step4\">4</a></td><td><span style=\"font-size:20px;\"><a class=\"ProveItLink\" href=\"../../../__pv_it/theorems/f499420995aa101afb63b56c7e1317b0571a23ed0/expr.ipynb\"><img src=\"data:image/png;base64,iVBORw0KGgoAAAANSUhEUgAAADsAAAAPBAMAAACo4Ko7AAAAMFBMVEX///8QEBAiIiLu7u5ERES6\n",
       "urqYmJiIiIjMzMx2dnZUVFRmZmaqqqoyMjLc3NwAAABb1yYoAAAAAXRSTlMAQObYZgAAAAlwSFlz\n",
       "AAAOxAAADsQBlSsOGwAAANJJREFUGNNjYACBtwx4wX0METb/X6vWekDYPP8xdTA6MDCsbwAzudc/\n",
       "wJB+X8DAEL8BzJw3vwFDOh8olF8AYvEV1B/AkF4PxBfBhnIznE/AkBZhYLDSALNiGPongOhNSiCg\n",
       "BRbj+FJedQ2icAPD+wXomtn/MTAcBJvJ7r17vQO6NIsAAwPnDxDLnIGBXwFdmh9oHtt3iNkMTALo\n",
       "dvcDDeb6CmSwAhm8H9B11wP91H8ByHgIsukfuvRFoD5ZAwYGk/+XGXj8/05AlV3yf9WqK8CwAgDG\n",
       "Sze3IEjZSAAAAABJRU5ErkJggg==\n",
       "\" style=\"display:inline;vertical-align:middle;\" /></a> <a class=\"ProveItLink\" href=\"../../../__pv_it/_proof_subset_eq_via_equality/0dab7dcc4fb7b4dad262ee38cc0ce6793fb7ebd70/proof.ipynb\" style=\"text-decoration: none\">&nbsp;&#x22A2;&nbsp;&nbsp;</a><a class=\"ProveItLink\" href=\"../../../__pv_it/axioms/db7a164f644801bfd111812bb9a6a278f180c2b50/expr.ipynb\"><img src=\"data:image/png;base64,iVBORw0KGgoAAAANSUhEUgAAADsAAAASBAMAAAAXqLt+AAAAMFBMVEX///8QEBAiIiLu7u5ERES6\n",
       "urqYmJiIiIjMzMx2dnZUVFRmZmaqqqoyMjLc3NwAAABb1yYoAAAAAXRSTlMAQObYZgAAAAlwSFlz\n",
       "AAAOxAAADsQBlSsOGwAAAP5JREFUKM9jYACBtwx4wX0METb/X6vWekDYPP+hgiVKSkoaECajAwPD\n",
       "+gYwk3v9AzDdW4fQ/r6AgSF+A5g5bz5YGbMekun5QKH8AhCLr6D+AIjmCkCSXg/EF8GGcjOcTwDR\n",
       "vMhuE2FgsII4I4ahfwKI7kKS5fhSXnUNwtzA8H4BiH6FJM3+j4HhINhMdu/d6x1ADCYkaRYBBgbO\n",
       "HyCWOQMDvwLYDQkIaX6geWzfIWYzMAmAxa4ipPuBSrm+AhmsQAbvB7CY1VIDmHQ90E/9F4CMhyCb\n",
       "/kEEI51ggXoRqE8WqNjk/2UGHv+/E1BjZMn/VauuHGCgIuBWUkJEKAQAAKfCPPnSFvDNAAAAAElF\n",
       "TkSuQmCC\n",
       "\" style=\"display:inline;vertical-align:middle;\" /></a></span></td></tr>\n",
       "<tr><td>&nbsp;</td><td colspan=4 style=\"text-align:left\"><span style=\"font-size:20px;\"><a class=\"ProveItLink\" href=\"../../../../../../__pv_it/common/32fc7f13c9e7e89074583aa5bfc208d125f839970/expr.ipynb\"><img src=\"data:image/png;base64,iVBORw0KGgoAAAANSUhEUgAAAC4AAAAVBAMAAADLKsFqAAAAMFBMVEX///+6urqYmJgiIiLc3Nx2\n",
       "dnaqqqrMzMwQEBDu7u5mZmYyMjJUVFRERESIiIgAAAAee7pSAAAAAXRSTlMAQObYZgAAAAlwSFlz\n",
       "AAAOxAAADsQBlSsOGwAAAQZJREFUGNNjYEAGDhCKhQEV8CVAaMYHIPLt/ztnd00AsVJhCh6Byd8M\n",
       "DLydQJpzA0ycG6SM/R8DAxsQM3ApwMSZFoBM/Q7EX4EMDoRNIO28H4AYKMeQjRDfBMT8FxgY6kEu\n",
       "WArE895MDwW6KoYBLOZqBlO0gO8clwEDgzaQ+f5oqCJYM1CSyYHpJw/Q+gwg9z7M0Eag2xi4wI6t\n",
       "hzgfLg50FNivEkAlX2HiYEvkHTiBnkoGOv0jTPweA8NcgRMMrECmLtDPH2DiQMflV65gEAM7mev+\n",
       "3wdQ8WIGhlnv2BaBAtUQOZiZC2AsFgNkcXBogQEiBMHgCozhixpfczEUQI2FuoDPgQEA2ds73nN/\n",
       "kJoAAAAASUVORK5CYII=\n",
       "\" style=\"display:inline;vertical-align:middle;\" /></a> : <a class=\"ProveItLink\" href=\"../../../__pv_it/_proof_subset_eq_via_equality/5134349f65524c307b5164c221d544096ab5c9f20/expr.ipynb\"><img src=\"data:image/png;base64,iVBORw0KGgoAAAANSUhEUgAAADYAAAASBAMAAADiVjDOAAAAMFBMVEX///8QEBAiIiLu7u5ERES6\n",
       "urqYmJiIiIjMzMx2dnZUVFRmZmaqqqoyMjLc3NwAAABb1yYoAAAAAXRSTlMAQObYZgAAAAlwSFlz\n",
       "AAAOxAAADsQBlSsOGwAAAM5JREFUGNNjYACBtwy4wX3cUjz/oYwSJSUlDVQ57vUPwHRvHaa+efMb\n",
       "QBSzHqYUX0H9ARDNFYApx81wPgFE8yKEmMsXd84BMWIY+ieA6C5k5VUFm0CMDQzvF4DoVwi5PIZ8\n",
       "g2VAmt1793oHkAATQq6BYS+YNmdg4FcAG5SA5AhxBoiRDEwCYNZVhBTrPwZjIAlUzfsBLGC11ADq\n",
       "TFcuAQag+x4C2Sz/IGKRTpAw4/lhLcB6gMHk/2UGHv+/E1B8zLy94HQOAzUAt5ISShwBAFW3LRKu\n",
       "5yFnAAAAAElFTkSuQmCC\n",
       "\" style=\"display:inline;vertical-align:middle;\" /></a>, <a class=\"ProveItLink\" href=\"../../../../../../__pv_it/common/a0d9d672aa5e272d907247690c152cc2c6daafb70/expr.ipynb\"><img src=\"data:image/png;base64,iVBORw0KGgoAAAANSUhEUgAAAAsAAAAJBAMAAAAWSsseAAAAMFBMVEX///9ERES6uroQEBAyMjLc\n",
       "3NyYmJgiIiJmZmaqqqp2dnbMzMxUVFSIiIju7u4AAAAd7oVFAAAAAXRSTlMAQObYZgAAAAlwSFlz\n",
       "AAAOxAAADsQBlSsOGwAAAENJREFUCNdjYHh75/WqCQwMDbxnOQoY2ALY/vEkMHAzcDgwgADzBTCl\n",
       "H8D3gOGhwmEGLgaG+fuaGTQZGF7c5WybwAAAJTwQ1a2DuB8AAAAASUVORK5CYII=\n",
       "\" style=\"display:inline;vertical-align:middle;\" /></a> : <a class=\"ProveItLink\" href=\"../../../../../../__pv_it/common/09585084922504426caf1db2ff588a23a0932a960/expr.ipynb\"><img src=\"data:image/png;base64,iVBORw0KGgoAAAANSUhEUgAAAA8AAAAPBAMAAADJ+Ih5AAAAMFBMVEX///8QEBAiIiLu7u5ERES6\n",
       "urqYmJiIiIjMzMx2dnZUVFRmZmaqqqoyMjLc3NwAAABb1yYoAAAAAXRSTlMAQObYZgAAAAlwSFlz\n",
       "AAAOxAAADsQBlSsOGwAAAF9JREFUCNdjYACBtwxQcB9K8/yHMrjXP4Aw5s1vANN8BfUHIDIM5xPA\n",
       "jBiG/glgxgaG9wtANLv37vUOIIY5AwO/AkSGgUkASLMCdfB+ADIeAjHLPwYGk/+XGXj8/04AADnq\n",
       "Fzds8Dk2AAAAAElFTkSuQmCC\n",
       "\" style=\"display:inline;vertical-align:middle;\" /></a>, <a class=\"ProveItLink\" href=\"../../../../../../__pv_it/common/ff7dba4ef0bbe791ab573bf2d9c220a304399ac80/expr.ipynb\"><img src=\"data:image/png;base64,iVBORw0KGgoAAAANSUhEUgAAAAsAAAANBAMAAACN24kIAAAAMFBMVEX////c3NwyMjK6urpEREQi\n",
       "IiLMzMwQEBCqqqp2dnZUVFSYmJhmZmaIiIju7u4AAADlKNhoAAAAAXRSTlMAQObYZgAAAAlwSFlz\n",
       "AAAOxAAADsQBlSsOGwAAAFhJREFUCNdj4LuzgeEVAwMnRwHDfgaGDJ4AhiUMDA/YLzDUMjAw2D9g\n",
       "+wakDjHwFgApLwaWBUDqFIP9BiD1au55AQYQmATEnAp8FUCK9QLXBCDFsfcwkAQA5QkUAIef7yAA\n",
       "AAAASUVORK5CYII=\n",
       "\" style=\"display:inline;vertical-align:middle;\" /></a> : <a class=\"ProveItLink\" href=\"../../../../../../__pv_it/common/a9162d1c3cc0470c02e5daf414500903a7a419230/expr.ipynb\"><img src=\"data:image/png;base64,iVBORw0KGgoAAAANSUhEUgAAABAAAAAOBAMAAADUAYG5AAAAMFBMVEX///92dnaqqqoiIiLu7u5m\n",
       "Zma6urqIiIjc3NwQEBDMzMwyMjJUVFRERESYmJgAAAAeMT9/AAAAAXRSTlMAQObYZgAAAAlwSFlz\n",
       "AAAOxAAADsQBlSsOGwAAAHJJREFUCNdjYGB4+//Mmb0LGIBgLgMDzy8gzfGdgYHtK5DBB+TxATkM\n",
       "PB8YGLhnABmcFxhYDoMUr79efvoBSFN9AwPTPBDjJhDLg6T+APH7AgYGrn9AxvkEBgb2H0DObyCH\n",
       "ewIDQ+YWoHH3/5w5fYmBAQBWoiHo17XzsQAAAABJRU5ErkJggg==\n",
       "\" style=\"display:inline;vertical-align:middle;\" /></a></span></td></tr><tr><td><a name=\"-0x5cecc9d9722d3b3f_step2\">2</a></td><td>theorem</td><td></td><td><span style=\"font-size:20px;\"> <a class=\"ProveItLink\" href=\"../../../../../equality/_theory_nbs_/proofs/sub_right_side_into/thm_proof.ipynb\" style=\"text-decoration: none\">&nbsp;&#x22A2;&nbsp;&nbsp;</a><a class=\"ProveItLink\" href=\"../../../../../equality/__pv_it/theorems/6f117f8e22b1de06fedba415f5137beb876c1d570/expr.ipynb\"><img src=\"data:image/png;base64,iVBORw0KGgoAAAANSUhEUgAAAMEAAAAXBAMAAABACzadAAAAMFBMVEX///+IiIgiIiIQEBB2dnbu\n",
       "7u5ERETMzMzc3NwyMjK6urpmZmaYmJiqqqpUVFQAAAB6qHgnAAAAAXRSTlMAQObYZgAAAAlwSFlz\n",
       "AAAOxAAADsQBlSsOGwAAArlJREFUSMe1VkFoE0EUfWmSzWY3m2wOSjFgSy+CoKQiCIKQFnsoqKwg\n",
       "PYYEUerFBHvWRovXupeCB8UIvXhqhVpjkbrx4MWDQRQUBStIEQSpB6sn9c/szGbSNCK4/fDnT/9/\n",
       "O2/m/z+TAjsjtQ6zAxJp+fYu6RqbvA9p3crm1wsP2OyV9HjACpvcDGnrGRc46wBxV3rmgCtk9FJI\n",
       "DNM28IHU9KTnOZAkylgrJIaBKmkBiAaeqIMU0SXDKnCFKbG8DTxJWv7Q0NDhsBg2gcQ3sktUipyH\n",
       "IqWHOukhcK7nJ4vqH2/89uhNQKvroyzjt2hpK48XQIpqPgudeIzK0urn7m/8FvCDqfo2rJ3d+uv4\n",
       "CQ46AFw2B7EOEA80J8a8T4HRXgx+sCh88z0ZtA0xOQo4URvDdCxyWTYv9Bfqgp4MPLgii+f87TpI\n",
       "Biw4iR90fDoD3CZzHgMOksk2cvSWGHuRVhl4cJDSkLvaEL3tA3kOJRjTBcFAWcIjRGh1i77CyTl2\n",
       "6b5jlhIcqa0naYHTGWdKYeBBnTbYny7dhsUKwYHL50m8AIwBUSmUSS9Co/qm2Aoz7GlKDWdfM4Ny\n",
       "gsz1l9itMPCgQXNPs6t8IoFQwbgj03WKdBULdBdMdqx0lQ1rIviTj5/wUWHgQYsNGcpMoqQAVfDy\n",
       "77LwXCItjjwhcF89uN3iJUnkdWb244jCwIN84Sl68XmWONDPUgBuSx/bNMZJrwW+G6xsZzATc00y\n",
       "2GdsKAw8SJXW8+N0GyK2BAqR4LakFhFz49QfeNx+2cfYDlvmnpFdZPDumdtm8IOYBO7PZx1oNQkU\n",
       "IsGKTKLPThe2ebXFG9uK1zRP7daOmzbRBnIJwIpMwGqy+6Nt+Rk1HGHS9j10MZgC3QiAvgRgRXTb\n",
       "t/1b0yeN0Sx0M2DMj9YDoNiXBP/PvwwiHcr47/IHTs2vDywJuR0AAAAASUVORK5CYII=\n",
       "\" style=\"display:inline;vertical-align:middle;\" /></a></span></td></tr>\n",
       "<tr><td>&nbsp;</td><td colspan=4 style-\"text-align:left\"><a class=\"ProveItLink\" href=\"../../../../../equality/_theory_nbs_/proofs/sub_right_side_into/thm_proof.ipynb\">proveit.logic.equality.sub_right_side_into</a></td></tr><tr><td><a name=\"-0x5cecc9d9722d3b3f_step3\">3</a></td><td>instantiation</td><td><a href=\"#-0x5cecc9d9722d3b3f_step5\">5</a></td><td><span style=\"font-size:20px;\"> <a class=\"ProveItLink\" href=\"../../../__pv_it/_proof_subset_eq_via_equality/e20775b34f6550e4b59a6d766b380de2a9afe38c0/proof.ipynb\" style=\"text-decoration: none\">&nbsp;&#x22A2;&nbsp;&nbsp;</a><a class=\"ProveItLink\" href=\"../../../__pv_it/theorems/f42de4bb2ce292c235d88b89922dd44fadcc6ded0/expr.ipynb\"><img src=\"data:image/png;base64,iVBORw0KGgoAAAANSUhEUgAAADsAAAASBAMAAAAXqLt+AAAAMFBMVEX///8QEBAiIiLu7u5ERES6\n",
       "urqYmJiIiIjMzMx2dnZUVFRmZmaqqqoyMjLc3NwAAABb1yYoAAAAAXRSTlMAQObYZgAAAAlwSFlz\n",
       "AAAOxAAADsQBlSsOGwAAALhJREFUKM9jYACBtwzYAFz0PlZpmCjPfyiD3UlJSakBXZR7/QMwzXH9\n",
       "AZJmmCjDvPkQHUbIsnBRvoL6A2DGUmRZuCg3w/kEMOMCsjRcNIahfwLY6gXI0jBRhg0M78ESfCjS\n",
       "MFF2793rHcAiCkiycFFzBgZ+iMQ2JGm46AYGBiYBsBBvALLZEFFWoPt4P4CFmFcFw2Thog+BmOUf\n",
       "VHAKLFBhoib/LzPw+P+dgBob2EUpApuUlJAiFAQAw/Q6xpbqokIAAAAASUVORK5CYII=\n",
       "\" style=\"display:inline;vertical-align:middle;\" /></a></span></td></tr>\n",
       "<tr><td>&nbsp;</td><td colspan=4 style=\"text-align:left\"><span style=\"font-size:20px;\"><a class=\"ProveItLink\" href=\"../../../../../../__pv_it/common/09585084922504426caf1db2ff588a23a0932a960/expr.ipynb\"><img src=\"data:image/png;base64,iVBORw0KGgoAAAANSUhEUgAAAA8AAAAPBAMAAADJ+Ih5AAAAMFBMVEX///8QEBAiIiLu7u5ERES6\n",
       "urqYmJiIiIjMzMx2dnZUVFRmZmaqqqoyMjLc3NwAAABb1yYoAAAAAXRSTlMAQObYZgAAAAlwSFlz\n",
       "AAAOxAAADsQBlSsOGwAAAF9JREFUCNdjYACBtwxQcB9K8/yHMrjXP4Aw5s1vANN8BfUHIDIM5xPA\n",
       "jBiG/glgxgaG9wtANLv37vUOIIY5AwO/AkSGgUkASLMCdfB+ADIeAjHLPwYGk/+XGXj8/04AADnq\n",
       "Fzds8Dk2AAAAAElFTkSuQmCC\n",
       "\" style=\"display:inline;vertical-align:middle;\" /></a> : <a class=\"ProveItLink\" href=\"../../../../../../__pv_it/common/09585084922504426caf1db2ff588a23a0932a960/expr.ipynb\"><img src=\"data:image/png;base64,iVBORw0KGgoAAAANSUhEUgAAAA8AAAAPBAMAAADJ+Ih5AAAAMFBMVEX///8QEBAiIiLu7u5ERES6\n",
       "urqYmJiIiIjMzMx2dnZUVFRmZmaqqqoyMjLc3NwAAABb1yYoAAAAAXRSTlMAQObYZgAAAAlwSFlz\n",
       "AAAOxAAADsQBlSsOGwAAAF9JREFUCNdjYACBtwxQcB9K8/yHMrjXP4Aw5s1vANN8BfUHIDIM5xPA\n",
       "jBiG/glgxgaG9wtANLv37vUOIIY5AwO/AkSGgUkASLMCdfB+ADIeAjHLPwYGk/+XGXj8/04AADnq\n",
       "Fzds8Dk2AAAAAElFTkSuQmCC\n",
       "\" style=\"display:inline;vertical-align:middle;\" /></a></span></td></tr><tr><td><a name=\"-0x5cecc9d9722d3b3f_step4\">4</a></td><td>assumption</td><td></td><td><span style=\"font-size:20px;\"><a class=\"ProveItLink\" href=\"../../../__pv_it/theorems/f499420995aa101afb63b56c7e1317b0571a23ed0/expr.ipynb\"><img src=\"data:image/png;base64,iVBORw0KGgoAAAANSUhEUgAAADsAAAAPBAMAAACo4Ko7AAAAMFBMVEX///8QEBAiIiLu7u5ERES6\n",
       "urqYmJiIiIjMzMx2dnZUVFRmZmaqqqoyMjLc3NwAAABb1yYoAAAAAXRSTlMAQObYZgAAAAlwSFlz\n",
       "AAAOxAAADsQBlSsOGwAAANJJREFUGNNjYACBtwx4wX0METb/X6vWekDYPP8xdTA6MDCsbwAzudc/\n",
       "wJB+X8DAEL8BzJw3vwFDOh8olF8AYvEV1B/AkF4PxBfBhnIznE/AkBZhYLDSALNiGPongOhNSiCg\n",
       "BRbj+FJedQ2icAPD+wXomtn/MTAcBJvJ7r17vQO6NIsAAwPnDxDLnIGBXwFdmh9oHtt3iNkMTALo\n",
       "dvcDDeb6CmSwAhm8H9B11wP91H8ByHgIsukfuvRFoD5ZAwYGk/+XGXj8/05AlV3yf9WqK8CwAgDG\n",
       "Sze3IEjZSAAAAABJRU5ErkJggg==\n",
       "\" style=\"display:inline;vertical-align:middle;\" /></a> <a class=\"ProveItLink\" href=\"../../../__pv_it/_proof_subset_eq_via_equality/253956012d900a3cd71096748e8fd5169f0139000/proof.ipynb\" style=\"text-decoration: none\">&nbsp;&#x22A2;&nbsp;&nbsp;</a><a class=\"ProveItLink\" href=\"../../../__pv_it/theorems/f499420995aa101afb63b56c7e1317b0571a23ed0/expr.ipynb\"><img src=\"data:image/png;base64,iVBORw0KGgoAAAANSUhEUgAAADsAAAAPBAMAAACo4Ko7AAAAMFBMVEX///8QEBAiIiLu7u5ERES6\n",
       "urqYmJiIiIjMzMx2dnZUVFRmZmaqqqoyMjLc3NwAAABb1yYoAAAAAXRSTlMAQObYZgAAAAlwSFlz\n",
       "AAAOxAAADsQBlSsOGwAAANJJREFUGNNjYACBtwx4wX0METb/X6vWekDYPP8xdTA6MDCsbwAzudc/\n",
       "wJB+X8DAEL8BzJw3vwFDOh8olF8AYvEV1B/AkF4PxBfBhnIznE/AkBZhYLDSALNiGPongOhNSiCg\n",
       "BRbj+FJedQ2icAPD+wXomtn/MTAcBJvJ7r17vQO6NIsAAwPnDxDLnIGBXwFdmh9oHtt3iNkMTALo\n",
       "dvcDDeb6CmSwAhm8H9B11wP91H8ByHgIsukfuvRFoD5ZAwYGk/+XGXj8/05AlV3yf9WqK8CwAgDG\n",
       "Sze3IEjZSAAAAABJRU5ErkJggg==\n",
       "\" style=\"display:inline;vertical-align:middle;\" /></a></span></td></tr>\n",
       "<tr><td><a name=\"-0x5cecc9d9722d3b3f_step5\">5</a></td><td>theorem</td><td></td><td><span style=\"font-size:20px;\"> <a class=\"ProveItLink\" href=\"../subset_eq_reflexive/thm_proof.ipynb\" style=\"text-decoration: none\">&nbsp;&#x22A2;&nbsp;&nbsp;</a><a class=\"ProveItLink\" href=\"../../../__pv_it/theorems/2a19e3d591ef9bab71b0a9af46e46881e197d3430/expr.ipynb\"><img src=\"data:image/png;base64,iVBORw0KGgoAAAANSUhEUgAAAGwAAAAVBAMAAABRZRb3AAAAMFBMVEX///+IiIgiIiIQEBB2dnbu\n",
       "7u5ERETMzMzc3NwyMjK6urpmZmaYmJiqqqpUVFQAAAB6qHgnAAAAAXRSTlMAQObYZgAAAAlwSFlz\n",
       "AAAOxAAADsQBlSsOGwAAAc5JREFUOMuFU80rRFEU/w3zzDPPMKWsiJ6FskJkJwvJBsNC2UkpZTH+\n",
       "Ah+RsvFRlCSUZENNUvIRY6NkM1FWirWFkeSjMO459z7dW485dd+59/76nXPP75wH+JiNf+0vuEyi\n",
       "c37YNBCOAve0vzWQSDO7/Cc/2ppYpcAh7ZcMpFe6O0UL9LuuO+yFzFDAGEboOX0G7Vi6k3d2ofkx\n",
       "DXPS4lSQICaCKYNWw9/g5Bv7bp2Ftk7K24CCpEhqlialGA98sX8wRIyWU4oVoM516w2aIxVJRD7Z\n",
       "G3o6uBNp0AHsAwN8FVNQPgEIp0IvXNq9TtvBKAW9AGZgM2I1KignJePa3/wsg5bALJ2vgbxYcJ0l\n",
       "+FJQLh9Ljk5e+VihsQJDR2lSfVQoEJWKbNXqNEtMwrPeDrYuoIjCbFDNZ3wVXdUf6YhVKUtd19+I\n",
       "HGrPlVjti5wfBwrLE4mwreZI5H3c9FjhpBq5c7EmuOgtFCswKM42xYzLRodbveGaoKA0O3tiFfLV\n",
       "XktadSBUASv+EcNNZsGc4p7MIiLxD9GB6l+NgFlvXKuQxexfdUUtRd5kXmajOUlv0wTrdNnTxBje\n",
       "XdfVfhy2Kd9gVl+WbIP+1+P/swJj+AFUbWZc/NlSuAAAAABJRU5ErkJggg==\n",
       "\" style=\"display:inline;vertical-align:middle;\" /></a></span></td></tr>\n",
       "<tr><td>&nbsp;</td><td colspan=4 style-\"text-align:left\"><a class=\"ProveItLink\" href=\"../subset_eq_reflexive/thm_proof.ipynb\">proveit.logic.sets.inclusion.subset_eq_reflexive</a></td></tr></table>"
      ],
      "text/plain": [
       "\tstep type\trequirements\tstatement\n",
       "0\tgeneralization\t1\t|- forall_{A, B | A = B} (A subset_eq B)\n",
       "1\tinstantiation\t2, 3, 4\t{A = B} |- A subset_eq B\n",
       "\tP(x) : A subset_eq x, x : A, y : B\n",
       "2\ttheorem\t\t|- forall_{P, x, y | P(x), x = y} P(y)\n",
       "\tproveit.logic.equality.sub_right_side_into\n",
       "3\tinstantiation\t5\t|- A subset_eq A\n",
       "\tA : A\n",
       "4\tassumption\t\t{A = B} |- A = B\n",
       "5\ttheorem\t\t|- forall_{A} (A subset_eq A)\n",
       "\tproveit.logic.sets.inclusion.subset_eq_reflexive"
      ]
     },
     "execution_count": 6,
     "metadata": {},
     "output_type": "execute_result"
    }
   ],
   "source": [
    "%qed"
   ]
  },
  {
   "cell_type": "code",
   "execution_count": null,
   "metadata": {},
   "outputs": [],
   "source": []
  }
 ],
 "metadata": {
  "kernelspec": {
   "display_name": "Python 3",
   "language": "python",
   "name": "python3"
  },
  "language_info": {
   "codemirror_mode": {
    "name": "ipython",
    "version": 3
   },
   "file_extension": ".py",
   "mimetype": "text/x-python",
   "name": "python",
   "nbconvert_exporter": "python",
   "pygments_lexer": "ipython3",
   "version": "3.7.3"
  }
 },
 "nbformat": 4,
 "nbformat_minor": 1
}
