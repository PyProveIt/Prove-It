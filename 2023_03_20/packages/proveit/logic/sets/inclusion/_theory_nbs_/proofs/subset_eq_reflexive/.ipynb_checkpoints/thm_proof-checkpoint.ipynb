{
 "cells": [
  {
   "cell_type": "markdown",
   "metadata": {},
   "source": [
    "Proof of <a class=\"ProveItLink\" href=\"../../../../../../_theory_nbs_/theory.ipynb\">proveit</a>.<a class=\"ProveItLink\" href=\"../../../../../_theory_nbs_/theory.ipynb\">logic</a>.<a class=\"ProveItLink\" href=\"../../../../_theory_nbs_/theory.ipynb\">sets</a>.<a class=\"ProveItLink\" href=\"../../theory.ipynb\">inclusion</a>.<a class=\"ProveItLink\" href=\"../../theorems.ipynb#subset_eq_reflexive\">subset_eq_reflexive</a> theorem\n",
    "========"
   ]
  },
  {
   "cell_type": "code",
   "execution_count": 1,
   "metadata": {},
   "outputs": [],
   "source": [
    "import proveit\n",
    "from proveit import A, B, x\n",
    "from proveit.logic.sets.inclusion import fold_subset_eq\n",
    "theory = proveit.Theory() # the theorem's theory"
   ]
  },
  {
   "cell_type": "code",
   "execution_count": 2,
   "metadata": {},
   "outputs": [
    {
     "data": {
      "text/html": [
       "Under these <a href=\"presumptions.txt\">presumptions</a>, we begin our proof of<br><strong id=\"subset_eq_reflexive\">subset_eq_reflexive:</strong> <a class=\"ProveItLink\" href=\"../../../__pv_it/theorems/2a19e3d591ef9bab71b0a9af46e46881e197d3430/expr.ipynb\"><img src=\"data:image/png;base64,iVBORw0KGgoAAAANSUhEUgAAAGwAAAAVBAMAAABRZRb3AAAAMFBMVEX///+IiIgiIiIQEBB2dnbu\n",
       "7u5ERETMzMzc3NwyMjK6urpmZmaYmJiqqqpUVFQAAAB6qHgnAAAAAXRSTlMAQObYZgAAAAlwSFlz\n",
       "AAAOxAAADsQBlSsOGwAAAc5JREFUOMuFU80rRFEU/w3zzDPPMKWsiJ6FskJkJwvJBsNC2UkpZTH+\n",
       "Ah+RsvFRlCSUZENNUvIRY6NkM1FWirWFkeSjMO459z7dW485dd+59/76nXPP75wH+JiNf+0vuEyi\n",
       "c37YNBCOAve0vzWQSDO7/Cc/2ppYpcAh7ZcMpFe6O0UL9LuuO+yFzFDAGEboOX0G7Vi6k3d2ofkx\n",
       "DXPS4lSQICaCKYNWw9/g5Bv7bp2Ftk7K24CCpEhqlialGA98sX8wRIyWU4oVoM516w2aIxVJRD7Z\n",
       "G3o6uBNp0AHsAwN8FVNQPgEIp0IvXNq9TtvBKAW9AGZgM2I1KignJePa3/wsg5bALJ2vgbxYcJ0l\n",
       "+FJQLh9Ljk5e+VihsQJDR2lSfVQoEJWKbNXqNEtMwrPeDrYuoIjCbFDNZ3wVXdUf6YhVKUtd19+I\n",
       "HGrPlVjti5wfBwrLE4mwreZI5H3c9FjhpBq5c7EmuOgtFCswKM42xYzLRodbveGaoKA0O3tiFfLV\n",
       "XktadSBUASv+EcNNZsGc4p7MIiLxD9GB6l+NgFlvXKuQxexfdUUtRd5kXmajOUlv0wTrdNnTxBje\n",
       "XdfVfhy2Kd9gVl+WbIP+1+P/swJj+AFUbWZc/NlSuAAAAABJRU5ErkJggg==\n",
       "\" style=\"display:inline;vertical-align:middle;\" /></a><br>(see <a class=\"ProveItLink\" href=\"../../../__pv_it/theorems/e353e99c6089a9fdc628ee637e185c788ed840990/dependencies.ipynb\">dependencies</a>)<br>"
      ],
      "text/plain": [
       "<IPython.core.display.HTML object>"
      ]
     },
     "metadata": {},
     "output_type": "display_data"
    },
    {
     "name": "stdout",
     "output_type": "stream",
     "text": [
      "subset_eq_reflexive is now readily provable.  Simply execute \"%qed\".\n"
     ]
    }
   ],
   "source": [
    "%proving subset_eq_reflexive"
   ]
  },
  {
   "cell_type": "code",
   "execution_count": 3,
   "metadata": {},
   "outputs": [
    {
     "name": "stdout",
     "output_type": "stream",
     "text": [
      "proveit.logic.sets.inclusion.subset_eq_reflexive has been proven.\n"
     ]
    },
    {
     "data": {
      "text/html": [
       "<table><tr><th>&nbsp;</th><th>step type</th><th>requirements</th><th>statement</th></tr>\n",
       "<tr><td><a name=\"-0x3265d6d571f01450_step0\">0</a></td><td>generalization</td><td><a href=\"#-0x3265d6d571f01450_step1\">1</a></td><td><span style=\"font-size:20px;\"> <a class=\"ProveItLink\" href=\"../../../__pv_it/_proof_subset_eq_reflexive/6567475e832972c404b550814152e07c7d345cc00/proof.ipynb\" style=\"text-decoration: none\">&nbsp;&#x22A2;&nbsp;&nbsp;</a><a class=\"ProveItLink\" href=\"../../../__pv_it/theorems/2a19e3d591ef9bab71b0a9af46e46881e197d3430/expr.ipynb\"><img src=\"data:image/png;base64,iVBORw0KGgoAAAANSUhEUgAAAGwAAAAVBAMAAABRZRb3AAAAMFBMVEX///+IiIgiIiIQEBB2dnbu\n",
       "7u5ERETMzMzc3NwyMjK6urpmZmaYmJiqqqpUVFQAAAB6qHgnAAAAAXRSTlMAQObYZgAAAAlwSFlz\n",
       "AAAOxAAADsQBlSsOGwAAAc5JREFUOMuFU80rRFEU/w3zzDPPMKWsiJ6FskJkJwvJBsNC2UkpZTH+\n",
       "Ah+RsvFRlCSUZENNUvIRY6NkM1FWirWFkeSjMO459z7dW485dd+59/76nXPP75wH+JiNf+0vuEyi\n",
       "c37YNBCOAve0vzWQSDO7/Cc/2ppYpcAh7ZcMpFe6O0UL9LuuO+yFzFDAGEboOX0G7Vi6k3d2ofkx\n",
       "DXPS4lSQICaCKYNWw9/g5Bv7bp2Ftk7K24CCpEhqlialGA98sX8wRIyWU4oVoM516w2aIxVJRD7Z\n",
       "G3o6uBNp0AHsAwN8FVNQPgEIp0IvXNq9TtvBKAW9AGZgM2I1KignJePa3/wsg5bALJ2vgbxYcJ0l\n",
       "+FJQLh9Ljk5e+VihsQJDR2lSfVQoEJWKbNXqNEtMwrPeDrYuoIjCbFDNZ3wVXdUf6YhVKUtd19+I\n",
       "HGrPlVjti5wfBwrLE4mwreZI5H3c9FjhpBq5c7EmuOgtFCswKM42xYzLRodbveGaoKA0O3tiFfLV\n",
       "XktadSBUASv+EcNNZsGc4p7MIiLxD9GB6l+NgFlvXKuQxexfdUUtRd5kXmajOUlv0wTrdNnTxBje\n",
       "XdfVfhy2Kd9gVl+WbIP+1+P/swJj+AFUbWZc/NlSuAAAAABJRU5ErkJggg==\n",
       "\" style=\"display:inline;vertical-align:middle;\" /></a></span></td></tr>\n",
       "<tr><td><a name=\"-0x3265d6d571f01450_step1\">1</a></td><td>instantiation</td><td><a href=\"#-0x3265d6d571f01450_step2\">2</a>, <a href=\"#-0x3265d6d571f01450_step3\">3</a></td><td><span style=\"font-size:20px;\"> <a class=\"ProveItLink\" href=\"../../../__pv_it/_proof_subset_eq_reflexive/c881cbbda1fcb667918f0825cd6fff0ffd3582bb0/proof.ipynb\" style=\"text-decoration: none\">&nbsp;&#x22A2;&nbsp;&nbsp;</a><a class=\"ProveItLink\" href=\"../../../__pv_it/theorems/f42de4bb2ce292c235d88b89922dd44fadcc6ded0/expr.ipynb\"><img src=\"data:image/png;base64,iVBORw0KGgoAAAANSUhEUgAAADsAAAASBAMAAAAXqLt+AAAAMFBMVEX///8QEBAiIiLu7u5ERES6\n",
       "urqYmJiIiIjMzMx2dnZUVFRmZmaqqqoyMjLc3NwAAABb1yYoAAAAAXRSTlMAQObYZgAAAAlwSFlz\n",
       "AAAOxAAADsQBlSsOGwAAALhJREFUKM9jYACBtwzYAFz0PlZpmCjPfyiD3UlJSakBXZR7/QMwzXH9\n",
       "AZJmmCjDvPkQHUbIsnBRvoL6A2DGUmRZuCg3w/kEMOMCsjRcNIahfwLY6gXI0jBRhg0M78ESfCjS\n",
       "MFF2793rHcAiCkiycFFzBgZ+iMQ2JGm46AYGBiYBsBBvALLZEFFWoPt4P4CFmFcFw2Thog+BmOUf\n",
       "VHAKLFBhoib/LzPw+P+dgBob2EUpApuUlJAiFAQAw/Q6xpbqokIAAAAASUVORK5CYII=\n",
       "\" style=\"display:inline;vertical-align:middle;\" /></a></span></td></tr>\n",
       "<tr><td>&nbsp;</td><td colspan=4 style=\"text-align:left\"><span style=\"font-size:20px;\"><a class=\"ProveItLink\" href=\"../../../../../../__pv_it/common/09585084922504426caf1db2ff588a23a0932a960/expr.ipynb\"><img src=\"data:image/png;base64,iVBORw0KGgoAAAANSUhEUgAAAA8AAAAPBAMAAADJ+Ih5AAAAMFBMVEX///8QEBAiIiLu7u5ERES6\n",
       "urqYmJiIiIjMzMx2dnZUVFRmZmaqqqoyMjLc3NwAAABb1yYoAAAAAXRSTlMAQObYZgAAAAlwSFlz\n",
       "AAAOxAAADsQBlSsOGwAAAF9JREFUCNdjYACBtwxQcB9K8/yHMrjXP4Aw5s1vANN8BfUHIDIM5xPA\n",
       "jBiG/glgxgaG9wtANLv37vUOIIY5AwO/AkSGgUkASLMCdfB+ADIeAjHLPwYGk/+XGXj8/04AADnq\n",
       "Fzds8Dk2AAAAAElFTkSuQmCC\n",
       "\" style=\"display:inline;vertical-align:middle;\" /></a> : <a class=\"ProveItLink\" href=\"../../../../../../__pv_it/common/09585084922504426caf1db2ff588a23a0932a960/expr.ipynb\"><img src=\"data:image/png;base64,iVBORw0KGgoAAAANSUhEUgAAAA8AAAAPBAMAAADJ+Ih5AAAAMFBMVEX///8QEBAiIiLu7u5ERES6\n",
       "urqYmJiIiIjMzMx2dnZUVFRmZmaqqqoyMjLc3NwAAABb1yYoAAAAAXRSTlMAQObYZgAAAAlwSFlz\n",
       "AAAOxAAADsQBlSsOGwAAAF9JREFUCNdjYACBtwxQcB9K8/yHMrjXP4Aw5s1vANN8BfUHIDIM5xPA\n",
       "jBiG/glgxgaG9wtANLv37vUOIIY5AwO/AkSGgUkASLMCdfB+ADIeAjHLPwYGk/+XGXj8/04AADnq\n",
       "Fzds8Dk2AAAAAElFTkSuQmCC\n",
       "\" style=\"display:inline;vertical-align:middle;\" /></a>, <a class=\"ProveItLink\" href=\"../../../../../../__pv_it/common/a9162d1c3cc0470c02e5daf414500903a7a419230/expr.ipynb\"><img src=\"data:image/png;base64,iVBORw0KGgoAAAANSUhEUgAAABAAAAAOBAMAAADUAYG5AAAAMFBMVEX///92dnaqqqoiIiLu7u5m\n",
       "Zma6urqIiIjc3NwQEBDMzMwyMjJUVFRERESYmJgAAAAeMT9/AAAAAXRSTlMAQObYZgAAAAlwSFlz\n",
       "AAAOxAAADsQBlSsOGwAAAHJJREFUCNdjYGB4+//Mmb0LGIBgLgMDzy8gzfGdgYHtK5DBB+TxATkM\n",
       "PB8YGLhnABmcFxhYDoMUr79efvoBSFN9AwPTPBDjJhDLg6T+APH7AgYGrn9AxvkEBgb2H0DObyCH\n",
       "ewIDQ+YWoHH3/5w5fYmBAQBWoiHo17XzsQAAAABJRU5ErkJggg==\n",
       "\" style=\"display:inline;vertical-align:middle;\" /></a> : <a class=\"ProveItLink\" href=\"../../../../../../__pv_it/common/09585084922504426caf1db2ff588a23a0932a960/expr.ipynb\"><img src=\"data:image/png;base64,iVBORw0KGgoAAAANSUhEUgAAAA8AAAAPBAMAAADJ+Ih5AAAAMFBMVEX///8QEBAiIiLu7u5ERES6\n",
       "urqYmJiIiIjMzMx2dnZUVFRmZmaqqqoyMjLc3NwAAABb1yYoAAAAAXRSTlMAQObYZgAAAAlwSFlz\n",
       "AAAOxAAADsQBlSsOGwAAAF9JREFUCNdjYACBtwxQcB9K8/yHMrjXP4Aw5s1vANN8BfUHIDIM5xPA\n",
       "jBiG/glgxgaG9wtANLv37vUOIIY5AwO/AkSGgUkASLMCdfB+ADIeAjHLPwYGk/+XGXj8/04AADnq\n",
       "Fzds8Dk2AAAAAElFTkSuQmCC\n",
       "\" style=\"display:inline;vertical-align:middle;\" /></a>, <a class=\"ProveItLink\" href=\"../../../../../../__pv_it/common/a0d9d672aa5e272d907247690c152cc2c6daafb70/expr.ipynb\"><img src=\"data:image/png;base64,iVBORw0KGgoAAAANSUhEUgAAAAsAAAAJBAMAAAAWSsseAAAAMFBMVEX///9ERES6uroQEBAyMjLc\n",
       "3NyYmJgiIiJmZmaqqqp2dnbMzMxUVFSIiIju7u4AAAAd7oVFAAAAAXRSTlMAQObYZgAAAAlwSFlz\n",
       "AAAOxAAADsQBlSsOGwAAAENJREFUCNdjYHh75/WqCQwMDbxnOQoY2ALY/vEkMHAzcDgwgADzBTCl\n",
       "H8D3gOGhwmEGLgaG+fuaGTQZGF7c5WybwAAAJTwQ1a2DuB8AAAAASUVORK5CYII=\n",
       "\" style=\"display:inline;vertical-align:middle;\" /></a> : <a class=\"ProveItLink\" href=\"../../../__pv_it/_proof_subset_eq_reflexive/006c465e50948aa2b52285e2de47974f741255cc0/expr.ipynb\"><img src=\"data:image/png;base64,iVBORw0KGgoAAAANSUhEUgAAABgAAAAJBAMAAADa0/H1AAAAMFBMVEX///8yMjKqqqoiIiJmZmaY\n",
       "mJju7u4QEBC6urqIiIh2dnZUVFTc3NxERETMzMwAAAAY8qdrAAAAAXRSTlMAQObYZgAAAAlwSFlz\n",
       "AAAOxAAADsQBlSsOGwAAAElJREFUCNdjYICC0ytPwpgMHDUM9xNgnPQABme4jD8DgxWcU8vA9gPG\n",
       "ZvvJwPoBzvnEwC2gA+PdZFB2cGB4excIDjBkz3qz8wEAJxQUWRMzkfwAAAAASUVORK5CYII=\n",
       "\" style=\"display:inline;vertical-align:middle;\" /></a></span></td></tr><tr><td><a name=\"-0x3265d6d571f01450_step2\">2</a></td><td>theorem</td><td></td><td><span style=\"font-size:20px;\"> <a class=\"ProveItLink\" href=\"../fold_subset_eq/thm_proof.ipynb\" style=\"text-decoration: none\">&nbsp;&#x22A2;&nbsp;&nbsp;</a><a class=\"ProveItLink\" href=\"../../../__pv_it/theorems/104bbd8a360019a8dc7f0e04015813f9e7ec5e9f0/expr.ipynb\"><img src=\"data:image/png;base64,iVBORw0KGgoAAAANSUhEUgAAAO8AAAAXBAMAAAARnwX+AAAAMFBMVEX///+IiIgiIiIQEBB2dnbu\n",
       "7u5ERETMzMzc3NwyMjK6urpmZmaYmJiqqqpUVFQAAAB6qHgnAAAAAXRSTlMAQObYZgAAAAlwSFlz\n",
       "AAAOxAAADsQBlSsOGwAAA3lJREFUSMe1Vl1IFFEUPuPO7Mz+ukskVmayPRjVg0UUBcYGCxEmDBJB\n",
       "D20WuAYROw8h9JCuGUEvKlgREmlQ+RK4D2LWho3Sixk0EfRSlE/2I7gapvannXvv/Lmurg/rwJ17\n",
       "z/377v3Od84MwHo8Uo7xBKzTs5XBt680fh/LGGl8zC+uL0wr19SyEW98YfJbPXAqwDNi38kv8ClW\n",
       "fTaAi0KhUDlrOmoB0grcAmgknNTmF/g5qwbnWX252BpqCwD0JmEU+ZABeC2/wBX0zV+bo7Wwwzb0\n",
       "RsESAIcMXqTblWcXM1E1c/9o7e+2jaWxdCTAhah7Q6F9+QX2MG0lfX+Zxuxj+wGi6G4eNf0EoI72\n",
       "yRnLV7/V8lAMGA1yHQC3Js5Qs9E2R5wNlt4l6kZSWkGiISUcoEMNfyL9Cmk4qZ/kFU7wym6I8b6q\n",
       "emtegcYOLi1Qs9U2k0O9vcNz+VAGTpmnTuCZR7xlwFWYwG68RjQLrjBmYJbGcPUwwAZwh/U+B92v\n",
       "KDU4y85hW+fErXnUnIiR5gswJ/TsYVJIgnfKBAak5Gg2NxqCSVF2JlCqQILTAhbwyD/YXNVaV4gH\n",
       "9k7jhcjd2oeYi+6xVRrUqBbwSCyWLcjJLYIDWxIc27QShN0A1XaqCfHbmd1prWvC+f7feNsyNKrp\n",
       "STl4yiK8ZPQLWMBO4LIF+Q1ckBh3aSdZUp5+PYg3/2DwSWT2GEsXs6PfTd1uQ002IYtecpsW6q8e\n",
       "9BJ5hkGYsAHzytIgr2LVI1wLZ0W6PdVFNEk72RrcUCJcxnXpPzhnpMwOZPmgrEecn7qpL5KWdXe1\n",
       "dVvAwthbPb2nUkRsx5j1ibzmqSdiGtGFhPw1GIIrAyH+S4b3izcziBpfnJy8TRgsMJMKh3gKcxf0\n",
       "WuEE8LUOxJclSV1ip8+wXoIhVkhwydCFe86iGspz5pirZgs5K9SEMEg/QdhloxoaUOVibVhiKlId\n",
       "iiGuFr7dg7FIdSFDDVIdNDYbXetnBDk/DMKLTrESRmYi/Zod2Il+4gLgvkCo9gU3qUavZ/ORjSDV\n",
       "Ey90RaouYn3ejNYlac0TClmfRf0PJTNSfPZYt9KNU1EFmh2uAJ+kXWayOBGLGe4SzN2EXJ9ZZ2bC\n",
       "fZgV2D90XKF/M9whuL6T9Q1kSSrWbs05gIszO9SswIyMVJ/d5OXV0/f6/SnKa+hZ7fkPsDXLAsFW\n",
       "EgsAAAAASUVORK5CYII=\n",
       "\" style=\"display:inline;vertical-align:middle;\" /></a></span></td></tr>\n",
       "<tr><td>&nbsp;</td><td colspan=4 style-\"text-align:left\"><a class=\"ProveItLink\" href=\"../fold_subset_eq/thm_proof.ipynb\">proveit.logic.sets.inclusion.fold_subset_eq</a></td></tr><tr><td><a name=\"-0x3265d6d571f01450_step3\">3</a></td><td>generalization</td><td><a href=\"#-0x3265d6d571f01450_step4\">4</a></td><td><span style=\"font-size:20px;\"> <a class=\"ProveItLink\" href=\"../../../__pv_it/_proof_subset_eq_reflexive/60ee06ef6d87721d03ee40c3572c43472289e3490/proof.ipynb\" style=\"text-decoration: none\">&nbsp;&#x22A2;&nbsp;&nbsp;</a><a class=\"ProveItLink\" href=\"../../../__pv_it/_proof_subset_eq_reflexive/1f0080cabb371163db65560f368d770b82a4aec50/expr.ipynb\"><img src=\"data:image/png;base64,iVBORw0KGgoAAAANSUhEUgAAAJQAAAAVBAMAAABS/tqaAAAAMFBMVEX///+IiIgiIiIQEBB2dnbu\n",
       "7u5ERETMzMzc3NwyMjK6urpmZmaYmJiqqqpUVFQAAAB6qHgnAAAAAXRSTlMAQObYZgAAAAlwSFlz\n",
       "AAAOxAAADsQBlSsOGwAAAhZJREFUOMtjYCAGNBBUwcFAHGC8gF++k4GBS4CB4QGIfQe/0isErJoP\n",
       "xDIMDLtA7Bl4VbJOwG8S738gwRnAUAfyaAJepdwH8BvF/R4YljwbQKYxsOAPC2ZswZekpAlje/gX\n",
       "AElTBh6glZz4bb2JKcQ1MQAReQLyIKfMYWAwUlIywW/UFqQ4fyIhAI6zACT/MdwHhYAfA8N2BoZU\n",
       "rCbAVc9BiC1uYPuKHk9rGeodgNRJBoY+Bo4HWOPNHMbSRYjZMHArgBjIcbqBoR9kwGUGBrYAlgUo\n",
       "ZrDLpYEEWP7CBKwQfvnAwARyATswVJTUoBGQvfs9KAXUA1OFAFqo7y4AU8sNMY1iTmCIB1nDipR6\n",
       "AhkY+EEuXQxy7EG4cMhBDwZGaCoSmIfpwXgBhvNghgKy/xiYDID0JSD2nQoPCg32HwxhUHcz7IQJ\n",
       "JyKMusDwkheUtwURyQKUmD4AGceAuBke6twb2A0Y1kDYyxmEYcJ+cH1sArza3CAGJzxRN4OEf0CT\n",
       "DF8BPCgWMD5gOJmWlgZUuMXlPSw1FAHDGSiYlsHA+tC9Txzs/mdLIXJh/6cy8Ob/BMaFFkqAxzew\n",
       "HQ0ogfqPoR9mBVMBluTuhsg4kMSrgJrZGurXBLCBHQP0Jj/ME8CcShjA8zzH7t27dzFw7bnow8CR\n",
       "DpKwY2DdPwumLIMIo9qwCYakpaGmWVik4gUZxBXIHAKEy+wGBgDJhnCkrUMBhQAAAABJRU5ErkJg\n",
       "gg==\n",
       "\" style=\"display:inline;vertical-align:middle;\" /></a></span></td></tr>\n",
       "<tr><td><a name=\"-0x3265d6d571f01450_step4\">4</a></td><td>assumption</td><td></td><td><span style=\"font-size:20px;\"><a class=\"ProveItLink\" href=\"../../../__pv_it/_proof_subset_eq_reflexive/938c32b81c5d2d434d8f3268e5f1acaf94d25eca0/expr.ipynb\"><img src=\"data:image/png;base64,iVBORw0KGgoAAAANSUhEUgAAAEAAAAAQBAMAAABUyWQaAAAAMFBMVEX///8yMjKqqqoiIiJmZmaY\n",
       "mJju7u4QEBC6urqIiIh2dnZUVFTc3NxERETMzMwAAAAY8qdrAAAAAXRSTlMAQObYZgAAAAlwSFlz\n",
       "AAAOxAAADsQBlSsOGwAAAM1JREFUKM9jYMAHeAQY8APGDwQU6BNS4P0Hi+BcY2OYzVyn/mHKN05D\n",
       "sE9yfkJwTq88CXa3GJJiB6avcDZHDcP9BJC7DyDkORT4fsE56QEMzmCPIRnAwsDzG87xZ2CwAtHP\n",
       "jYHgAtS5Lt5/4QpqGdh+gOhchAFsExgYPsM5PxlYwYHCjGwDA4M5XMEnBm4BHSCDcwJcQSsQy8N5\n",
       "NxmUHRxADCF4RBUAifsHGN7eBYIDDNmz3ux8ABLPvpEAMfP+xwQG3f9SmEHZddkYOZIBOiUy64i9\n",
       "/nQAAAAASUVORK5CYII=\n",
       "\" style=\"display:inline;vertical-align:middle;\" /></a> <a class=\"ProveItLink\" href=\"../../../__pv_it/_proof_subset_eq_reflexive/2e04950293e83483d46f82585cc6a3f9b7a817df0/proof.ipynb\" style=\"text-decoration: none\">&nbsp;&#x22A2;&nbsp;&nbsp;</a><a class=\"ProveItLink\" href=\"../../../__pv_it/_proof_subset_eq_reflexive/938c32b81c5d2d434d8f3268e5f1acaf94d25eca0/expr.ipynb\"><img src=\"data:image/png;base64,iVBORw0KGgoAAAANSUhEUgAAAEAAAAAQBAMAAABUyWQaAAAAMFBMVEX///8yMjKqqqoiIiJmZmaY\n",
       "mJju7u4QEBC6urqIiIh2dnZUVFTc3NxERETMzMwAAAAY8qdrAAAAAXRSTlMAQObYZgAAAAlwSFlz\n",
       "AAAOxAAADsQBlSsOGwAAAM1JREFUKM9jYMAHeAQY8APGDwQU6BNS4P0Hi+BcY2OYzVyn/mHKN05D\n",
       "sE9yfkJwTq88CXa3GJJiB6avcDZHDcP9BJC7DyDkORT4fsE56QEMzmCPIRnAwsDzG87xZ2CwAtHP\n",
       "jYHgAtS5Lt5/4QpqGdh+gOhchAFsExgYPsM5PxlYwYHCjGwDA4M5XMEnBm4BHSCDcwJcQSsQy8N5\n",
       "NxmUHRxADCF4RBUAifsHGN7eBYIDDNmz3ux8ABLPvpEAMfP+xwQG3f9SmEHZddkYOZIBOiUy64i9\n",
       "/nQAAAAASUVORK5CYII=\n",
       "\" style=\"display:inline;vertical-align:middle;\" /></a></span></td></tr>\n",
       "</table>"
      ],
      "text/plain": [
       "\tstep type\trequirements\tstatement\n",
       "0\tgeneralization\t1\t|- forall_{A} (A subset_eq A)\n",
       "1\tinstantiation\t2, 3\t|- A subset_eq A\n",
       "\tA : A, B : A, x : _a\n",
       "2\ttheorem\t\t|- forall_{A, B | forall_{x in A} (x in B)} (A subset_eq B)\n",
       "\tproveit.logic.sets.inclusion.fold_subset_eq\n",
       "3\tgeneralization\t4\t|- forall_{_a in A} (_a in A)\n",
       "4\tassumption\t\t{_a in A} |- _a in A"
      ]
     },
     "execution_count": 3,
     "metadata": {},
     "output_type": "execute_result"
    }
   ],
   "source": [
    "%qed"
   ]
  },
  {
   "cell_type": "code",
   "execution_count": null,
   "metadata": {},
   "outputs": [],
   "source": []
  }
 ],
 "metadata": {
  "kernelspec": {
   "display_name": "Python 3",
   "language": "python",
   "name": "python3"
  },
  "language_info": {
   "codemirror_mode": {
    "name": "ipython",
    "version": 3
   },
   "file_extension": ".py",
   "mimetype": "text/x-python",
   "name": "python",
   "nbconvert_exporter": "python",
   "pygments_lexer": "ipython3",
   "version": "3.7.3"
  }
 },
 "nbformat": 4,
 "nbformat_minor": 1
}
