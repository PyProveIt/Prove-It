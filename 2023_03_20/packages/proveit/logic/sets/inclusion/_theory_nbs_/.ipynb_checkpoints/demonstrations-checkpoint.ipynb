{
 "cells": [
  {
   "cell_type": "markdown",
   "metadata": {},
   "source": [
    "Demonstrations for the theory of <a class=\"ProveItLink\" href=\"theory.ipynb\">proveit.logic.sets.inclusion</a>\n",
    "========"
   ]
  },
  {
   "cell_type": "code",
   "execution_count": 1,
   "metadata": {
    "scrolled": true
   },
   "outputs": [],
   "source": [
    "import proveit\n",
    "from proveit import free_vars, InstantiationFailure, ProofFailure, used_vars\n",
    "from proveit import a, b, c, d, e, f, x, y, A, B, C, D, E, F, X, Y, Px\n",
    "from proveit.logic import (Equals, Forall, Exists, Implies, InSet, Not,\n",
    "                           NotEquals, NotInSet, Set)\n",
    "from proveit.logic import (Intersect, SetEquiv, NotProperSubset,\n",
    "                           SubsetEq, NotSubsetEq, not_superset_eq,\n",
    "                           ProperSubset, proper_superset, not_proper_superset,\n",
    "                           SubsetProper, StrictSubset, superset_eq)\n",
    "from proveit.numbers import zero, one, two, three, four, five\n",
    "from proveit.numbers import (Integer, Natural, NaturalPos, Real,\n",
    "                            RealNeg, RealPos)\n",
    "from proveit.numbers.number_sets.real_numbers import int_within_real\n",
    "from proveit.logic.sets.inclusion  import (\n",
    "        subset_eq_def, proper_subset_def, not_proper_subset_def, unfold_not_subset_eq)\n",
    "from proveit.logic.sets.inclusion import fold_not_subset_eq, fold_subset_eq\n",
    "%begin demonstrations"
   ]
  },
  {
   "cell_type": "markdown",
   "metadata": {},
   "source": [
    "# Inclusion $\\in$, $\\subset$, $\\subseteq$, $\\supset$, $\\supseteq$"
   ]
  },
  {
   "cell_type": "markdown",
   "metadata": {},
   "source": [
    "<div style=\"line-height:1.4; font-size:14pt\">\n",
    "\n",
    "<a href='#introduction'>Introduction</a><br>\n",
    "<a href='#simple_expressions'>Simple Expressions involving Membership $(\\in)$, Subsets $(\\subset, \\subseteq)$, and Supersets $(\\supset, \\supseteq )$</a><br>\n",
    "<a href='#common_attributes'>Common Attributes of the Subset $(\\subseteq)$ Expression</a><br>\n",
    "<a href='#axioms'>Axioms</a><br>\n",
    "<a href='#theorems_and_conjectures'>Theorems & Conjectures</a><br>\n",
    "<a href='#further_demonstrations'>Further Demonstrations</a><br>\n",
    "    <ol>\n",
    "        <li><a href='#demo01'>$(x\\in A)\\wedge(A\\subset B)\\Rightarrow (x\\in B)$</a></li>\n",
    "        <li><a href='#demo02'>$\\forall_{x\\in A}(x\\in B) \\Rightarrow (A \\subseteq B)$</a></li>\n",
    "        <li><a href='#demo03'>$(x\\in B)\\wedge(A\\supset B)\\Rightarrow (x\\in A)$</a></li>\n",
    "        <li><a href='#demo04'>$\\forall_{x\\in Y}(x\\in X) \\Rightarrow (X \\supseteq Y)$</a></li>\n",
    "        <li><a href='#demo05'>Folding and Unfolding the Definitions of $\\not\\subseteq$ and $\\not\\supseteq$</a>\n",
    "        <li><a href='#demo06'>Containment Reversals (such as $A \\subset B \\Rightarrow B \\supset A$)</a></li>\n",
    "        <li><a href='#demo07'>Deducing $\\{1, 3\\} \\subset \\{1, 2, 3, 4, 5\\}$</a></li>\n",
    "        <li><a href='#demo08'>Manually Proving $\\{1, 3, 5\\} \\subseteq \\{1, 2, 3, 4, 5\\}$</a></li>\n",
    "        <li><a href='#demo09'>Deducing quantification via inclusion</a></li>    \n",
    "    </ol>\n",
    "<a href='#miscellaneous_testing'>Miscellaneous Testing</a><br>\n",
    "</div>\n"
   ]
  },
  {
   "cell_type": "markdown",
   "metadata": {},
   "source": [
    "## Introduction <a id='introduction'></a>"
   ]
  },
  {
   "cell_type": "markdown",
   "metadata": {},
   "source": [
    "<font size=3>Set membership (*e.g.*, $x \\in S$), subset ($A \\subset B$), and superset ($B \\supset A$) concepts are often critical in proofs, either as goals in themselves or as conditions or assumptions appearing in a proof. This ``_demonstrations_`` notebook explores subset ($\\subset$, $\\subseteq$), and superset ($\\supset$, $\\supseteq$) expressions and related methods. (Set membership ($\\in$) itself is explored more thoroughly in its own ``_demonstrations_`` notebook in the ``proveit.logic.sets.membership`` theory.)</font>"
   ]
  },
  {
   "cell_type": "markdown",
   "metadata": {},
   "source": [
    "## Simple Expressions Involving Membership ($\\in$), Subsets ($\\subset$, $\\subseteq$), and Supersets ($\\supset$, $\\supseteq$) <a id='simple_expressions'></a>"
   ]
  },
  {
   "cell_type": "markdown",
   "metadata": {},
   "source": [
    "<font size=3>It is straightforward to construct membership, subset, and superset expressions. Here are some basic examples of such expressions:</font>"
   ]
  },
  {
   "cell_type": "code",
   "execution_count": 2,
   "metadata": {},
   "outputs": [
    {
     "data": {
      "text/html": [
       "<a class=\"ProveItLink\" href=\"../__pv_it/theorems/bffc8f58d953dcb8331468867a32979a833e73840/expr.ipynb\"><img src=\"data:image/png;base64,iVBORw0KGgoAAAANSUhEUgAAADUAAAAQBAMAAABEqSrGAAAAMFBMVEX///9ERES6uroQEBAyMjLc\n",
       "3NyYmJgiIiJmZmaqqqp2dnbMzMxUVFSIiIju7u4AAAAd7oVFAAAAAXRSTlMAQObYZgAAAAlwSFlz\n",
       "AAAOxAAADsQBlSsOGwAAAM9JREFUGNNjYMABQhhwA3/cUpz/cctxnA9A4fOKl5fA2EvXb0CWYvJ9\n",
       "AGezXrg/AUi9vfN61QSwyx4gGckwPwFINfCe5SgA8V2RzNBk2L+AgYEtgO0fD0gNgwOSXAND/AEG\n",
       "Bm4GDoggt3l5eXkh1FUSHecFQAzmC2A+nwBC21sGBn6wPfoBfGBXFCAbycBuwMDwUOEwAxdY4C7C\n",
       "N0D7WT4wMMzf1wx0FQiwTIDJBQMx41cGhhd3OdsggnwH9SBSD//7MXDKf1mAEjALEWEGAgAYMjDu\n",
       "34hqRQAAAABJRU5ErkJggg==\n",
       "\" style=\"display:inline;vertical-align:middle;\" /></a>"
      ],
      "text/plain": [
       "x in A"
      ]
     },
     "metadata": {},
     "output_type": "display_data"
    }
   ],
   "source": [
    "# a simple set membership claim\n",
    "InSet(x, A)"
   ]
  },
  {
   "cell_type": "code",
   "execution_count": 3,
   "metadata": {},
   "outputs": [
    {
     "data": {
      "text/html": [
       "<strong id=\"example_1\">example_1:</strong> <a class=\"ProveItLink\" href=\"../__pv_it/theorems/4fcb3ae92330d8963f99abe44b7ac51675d7edc40/expr.ipynb\"><img src=\"data:image/png;base64,iVBORw0KGgoAAAANSUhEUgAAADsAAAAQBAMAAABaYBp1AAAAMFBMVEX///8QEBAiIiLu7u5ERES6\n",
       "urqYmJiIiIjMzMx2dnZUVFRmZmaqqqoyMjLc3NwAAABb1yYoAAAAAXRSTlMAQObYZgAAAAlwSFlz\n",
       "AAAOxAAADsQBlSsOGwAAAPlJREFUGNNjYACBtwx4wX0METb/X6vWekDYPP8xdTA6MDCsbwAzudc/\n",
       "wJB+X8DAEL8BzJw3H6KMoURJSUkDwswHCuUXgFh8BfUHwEK98xC61wPxRbCh3AznE0A0sx6S4SIM\n",
       "DFYQg2IY+ieAaK4AhCzHl/KqaxDmBob3C0A0L5Jm9n8MDAfBZrJ7717vAGJ0IUmzCDAwcP4AscwZ\n",
       "GPgVQIxXSNL8QPPYvkPMZmASADGYkKT7gQZzfQUyWIEM3g9gHyQgpOuBfuq/AGQ8BNn0Dyx2FSF9\n",
       "EahP1oCBweT/ZQYe/79gn5ksNYDKLvm/atWVA+gBHekED1QIAABk7Tw2U7mlYQAAAABJRU5ErkJg\n",
       "gg==\n",
       "\" style=\"display:inline;vertical-align:middle;\" /></a><br>"
      ],
      "text/plain": [
       "<IPython.core.display.HTML object>"
      ]
     },
     "metadata": {},
     "output_type": "display_data"
    },
    {
     "data": {
      "text/html": [
       "<strong id=\"example_2\">example_2:</strong> <a class=\"ProveItLink\" href=\"../__pv_it/theorems/4fcb3ae92330d8963f99abe44b7ac51675d7edc40/expr.ipynb\"><img src=\"data:image/png;base64,iVBORw0KGgoAAAANSUhEUgAAADsAAAAQBAMAAABaYBp1AAAAMFBMVEX///8QEBAiIiLu7u5ERES6\n",
       "urqYmJiIiIjMzMx2dnZUVFRmZmaqqqoyMjLc3NwAAABb1yYoAAAAAXRSTlMAQObYZgAAAAlwSFlz\n",
       "AAAOxAAADsQBlSsOGwAAAPlJREFUGNNjYACBtwx4wX0METb/X6vWekDYPP8xdTA6MDCsbwAzudc/\n",
       "wJB+X8DAEL8BzJw3H6KMoURJSUkDwswHCuUXgFh8BfUHwEK98xC61wPxRbCh3AznE0A0sx6S4SIM\n",
       "DFYQg2IY+ieAaK4AhCzHl/KqaxDmBob3C0A0L5Jm9n8MDAfBZrJ7717vAGJ0IUmzCDAwcP4AscwZ\n",
       "GPgVQIxXSNL8QPPYvkPMZmASADGYkKT7gQZzfQUyWIEM3g9gHyQgpOuBfuq/AGQ8BNn0Dyx2FSF9\n",
       "EahP1oCBweT/ZQYe/79gn5ksNYDKLvm/atWVA+gBHekED1QIAABk7Tw2U7mlYQAAAABJRU5ErkJg\n",
       "gg==\n",
       "\" style=\"display:inline;vertical-align:middle;\" /></a><br>"
      ],
      "text/plain": [
       "<IPython.core.display.HTML object>"
      ]
     },
     "metadata": {},
     "output_type": "display_data"
    },
    {
     "data": {
      "text/html": [
       "<strong id=\"example_3\">example_3:</strong> <a class=\"ProveItLink\" href=\"../__pv_it/theorems/4fcb3ae92330d8963f99abe44b7ac51675d7edc40/expr.ipynb\"><img src=\"data:image/png;base64,iVBORw0KGgoAAAANSUhEUgAAADsAAAAQBAMAAABaYBp1AAAAMFBMVEX///8QEBAiIiLu7u5ERES6\n",
       "urqYmJiIiIjMzMx2dnZUVFRmZmaqqqoyMjLc3NwAAABb1yYoAAAAAXRSTlMAQObYZgAAAAlwSFlz\n",
       "AAAOxAAADsQBlSsOGwAAAPlJREFUGNNjYACBtwx4wX0METb/X6vWekDYPP8xdTA6MDCsbwAzudc/\n",
       "wJB+X8DAEL8BzJw3H6KMoURJSUkDwswHCuUXgFh8BfUHwEK98xC61wPxRbCh3AznE0A0sx6S4SIM\n",
       "DFYQg2IY+ieAaK4AhCzHl/KqaxDmBob3C0A0L5Jm9n8MDAfBZrJ7717vAGJ0IUmzCDAwcP4AscwZ\n",
       "GPgVQIxXSNL8QPPYvkPMZmASADGYkKT7gQZzfQUyWIEM3g9gHyQgpOuBfuq/AGQ8BNn0Dyx2FSF9\n",
       "EahP1oCBweT/ZQYe/79gn5ksNYDKLvm/atWVA+gBHekED1QIAABk7Tw2U7mlYQAAAABJRU5ErkJg\n",
       "gg==\n",
       "\" style=\"display:inline;vertical-align:middle;\" /></a><br>"
      ],
      "text/plain": [
       "<IPython.core.display.HTML object>"
      ]
     },
     "metadata": {},
     "output_type": "display_data"
    }
   ],
   "source": [
    "# proper subset claims, 3 different options\n",
    "example_1, example_2, example_3 = ProperSubset(A, B), SubsetProper(A, B), StrictSubset(A, B)"
   ]
  },
  {
   "cell_type": "code",
   "execution_count": 4,
   "metadata": {},
   "outputs": [
    {
     "data": {
      "text/html": [
       "<a class=\"ProveItLink\" href=\"../__pv_it/demonstrations/69fea0c7aad0c274f4161c950341b20248c2451a0/expr.ipynb\"><img src=\"data:image/png;base64,iVBORw0KGgoAAAANSUhEUgAAAD0AAAARBAMAAACcIrmXAAAAMFBMVEX///92dnaqqqoiIiLu7u5m\n",
       "Zma6urqIiIjc3NwQEBDMzMwyMjJUVFRERESYmJgAAAAeMT9/AAAAAXRSTlMAQObYZgAAAAlwSFlz\n",
       "AAAOxAAADsQBlSsOGwAAAPpJREFUKM9jYGB4+//Mmb0LGNABS+2ZcxwCINZcBgaeXxDBWmNjYysI\n",
       "s7KEgSn4AZDB8Z2Bge0rWGx1BVy7L0hZfAOQ4APq5fsONtICYfxOByCRCWLxfGBg4J4BZiXApRk/\n",
       "gcilIILzAgPLYbD7uBHa+w1ApBeIWH+9/PQDsOAahLx8AZxZ38DANA/M6kHI2zfAmTdBysHmMyPk\n",
       "54NJkBsZ/gDxe7BxrA8Q+kEEE0gX1z8gcR7i8m1webDPGUEs9h9ANb8hoj7HHGDuBxkoAvbUBGA4\n",
       "bIEKJ16Ghi8T0NREkGKe+3/OnL6EETsMrneOJjBQGbAaGyPiFwIAVjg+7m3lgV8AAAAASUVORK5C\n",
       "YII=\n",
       "\" style=\"display:inline;vertical-align:middle;\" /></a>"
      ],
      "text/plain": [
       "B subset_eq C"
      ]
     },
     "metadata": {},
     "output_type": "display_data"
    }
   ],
   "source": [
    "# improper subset\n",
    "SubsetEq(B, C)"
   ]
  },
  {
   "cell_type": "code",
   "execution_count": 5,
   "metadata": {},
   "outputs": [
    {
     "data": {
      "text/html": [
       "<a class=\"ProveItLink\" href=\"../__pv_it/demonstrations/6aac73c403c520e970d041ae62cba0e431ae9bdd0/expr.ipynb\"><img src=\"data:image/png;base64,iVBORw0KGgoAAAANSUhEUgAAADsAAAAPBAMAAACo4Ko7AAAAMFBMVEX///+6uroyMjLMzMwiIiJm\n",
       "ZmaqqqoQEBB2dnbc3NyYmJhUVFRERESIiIju7u4AAABBACUiAAAAAXRSTlMAQObYZgAAAAlwSFlz\n",
       "AAAOxAAADsQBlSsOGwAAAPVJREFUGNNjYGDgu7N7F2cDAyrgOv9796bDINb1ewxsIQvQpBnYDzAw\n",
       "7DdgYHjjDOTET0CXnn+BgUE+gIFB/QGQIw4SeeLi4nIWJr0eqHP9BQaObyCOKUx0rjOUsR+I1Scw\n",
       "zHcAcR7DDX0CtaaGgeE1UGn/BVQ7mQ9AqD93b2sBaX90R+mBSd6fDAzpQO/Ug3kPENKNYJKngIGB\n",
       "4zNQN4jDZoCQDgST/BuAQfMX6mMOJMMVwKQ90GDujxDvM/QhZNk2gKn7QF32QJVsvxgYJJCsNoGw\n",
       "1RkYGItAzKentwrAJflET4LpPf9379ZJQPUSMFCdwlCFACzYQNv2Y0DJAAAAAElFTkSuQmCC\n",
       "\" style=\"display:inline;vertical-align:middle;\" /></a>"
      ],
      "text/plain": [
       "C proper_superset B"
      ]
     },
     "metadata": {},
     "output_type": "display_data"
    }
   ],
   "source": [
    "# proper superset (a style variant of a ProperSubset)\n",
    "proper_superset(C, B)"
   ]
  },
  {
   "cell_type": "code",
   "execution_count": 6,
   "metadata": {},
   "outputs": [
    {
     "data": {
      "text/html": [
       "<a class=\"ProveItLink\" href=\"../__pv_it/demonstrations/aec170c846f756ed1ddd490860aa74b0645924170/expr.ipynb\"><img src=\"data:image/png;base64,iVBORw0KGgoAAAANSUhEUgAAADsAAAARBAMAAACRPMnQAAAAMFBMVEX///+6uroyMjLMzMwiIiJm\n",
       "ZmaqqqoQEBB2dnbc3NyYmJhUVFRERESIiIju7u4AAABBACUiAAAAAXRSTlMAQObYZgAAAAlwSFlz\n",
       "AAAOxAAADsQBlSsOGwAAAP1JREFUKM9jYGDgu7N7F2cDAyrgOv9796bDINb1ewxsIQuAjCcuLi5n\n",
       "YfLsBxgY9hswMLxxBnLiJ0BF5ypDGfMvMDDIBzAwqD8AcsThpj6CKlwP1Ln+AgPHNxDHFC7NrACh\n",
       "9wOx+gSG+Q4gzmOEozQhVA0Dw2ugtf0X0NzcBjHkz93bWkDafwKadCCY5P3JwJAO9E49mPcAIQ2x\n",
       "m6eAgYHjM1A3iMNmAJdl2wCm+IEU11+ojzkQmk0gBtkDDeb+CPE+Qx9Mkk/0JIRxH6jLHmgP2y8G\n",
       "BgmIDmCgOoVB1akzMDAWgYSfnt4qwIAO9vzfvVsngYGKABShLi4bkIUAqiRDAfiBgIMAAAAASUVO\n",
       "RK5CYII=\n",
       "\" style=\"display:inline;vertical-align:middle;\" /></a>"
      ],
      "text/plain": [
       "C superset_eq B"
      ]
     },
     "metadata": {},
     "output_type": "display_data"
    }
   ],
   "source": [
    "# improper superset (a style variant of SubsetEq)\n",
    "superset_eq(C, B)"
   ]
  },
  {
   "cell_type": "code",
   "execution_count": 7,
   "metadata": {},
   "outputs": [
    {
     "data": {
      "text/html": [
       "<a class=\"ProveItLink\" href=\"../__pv_it/demonstrations/8fdaa3540119ac4adf80a7cbf5315e046c4bf7700/expr.ipynb\"><img src=\"data:image/png;base64,iVBORw0KGgoAAAANSUhEUgAAAD0AAAAUCAMAAAAJH8UlAAAAPFBMVEX///9WVlaurq4dHR0JCQki\n",
       "IiLu7u52dna6uroQEBBmZmbMzMyqqqqYmJgyMjLc3NxUVFRERESIiIgAAAAHNGa4AAAAAXRSTlMA\n",
       "QObYZgAAAAlwSFlzAAAOxAAADsQBlSsOGwAAARNJREFUOMulU9tyxCAIpd2imItC+P9/XbVqEnW6\n",
       "O11fkpED5xIC8Pos5s/yIarCLMJhUl2lAzsXwSzoakF9fuy6jd2ydhcFHOeU8XoUkW6k5u6C1P6+\n",
       "mKVM0bVW9ptIRPx5IN7YrVLpLpSipRLq3ETqbYyBemrwGZw6y1Ct/ldtYIM5Qj8EmcF0amy2Y2yN\n",
       "m7O+kZoUY+B6Dm22gaunSApzapvAAS/fRJsqd4+aFpjbThJNZ3s/Iw88py7g0CJvto27rFXSto3U\n",
       "1DI6zN22+Ot2Rxl+3HBbwYGvToDwzuRpQg1YMiKX843pa1p6WTqPRtx3x23YZzCLU//iz9y+bFpV\n",
       "7Db1zeMN/P/s9oNmwE+o4Q2zT5eqDJmZ09LBAAAAAElFTkSuQmCC\n",
       "\" style=\"display:inline;vertical-align:middle;\" /></a>"
      ],
      "text/plain": [
       "D not_proper_subset E"
      ]
     },
     "metadata": {},
     "output_type": "display_data"
    }
   ],
   "source": [
    "# not a proper subset\n",
    "NotProperSubset(D, E)"
   ]
  },
  {
   "cell_type": "code",
   "execution_count": 8,
   "metadata": {},
   "outputs": [
    {
     "data": {
      "text/html": [
       "<a class=\"ProveItLink\" href=\"../__pv_it/demonstrations/a0f13d58537786d897ad1731dc373cd29e44608b0/expr.ipynb\"><img src=\"data:image/png;base64,iVBORw0KGgoAAAANSUhEUgAAAD0AAAAYBAMAAAC7LehfAAAAMFBMVEX///8iIiLu7u52dna6uroQ\n",
       "EBBmZmbMzMyqqqqYmJgyMjLc3NxUVFRERESIiIgAAACK51z6AAAAAXRSTlMAQObYZgAAAAlwSFlz\n",
       "AAAOxAAADsQBlSsOGwAAATdJREFUKM9jYEAH7Az4ASMB+XnoAm//3zl7ZwOcKwSh+K7GnjkregHE\n",
       "/MXAwPkDqlZQNFAcwuRfAFQEkmf/ByRSwWJVrxl4CqDm+BswMDAlgEz6DuJNABJM0gwMWjB77B2A\n",
       "Ag+ADN4PQGI/UDUDD1DIAia/noHhAQPIMH6QJfUHgAQXEAvA5P8ysEwAM+pBhswH6a8BOtQAKs3y\n",
       "8cx9iKfegww5DzSaYQ/QCAWoPPN3ho0Q1n0Q8RUadDUw47k+MDAzMEEsAhr7E8Ria2A4DpMHuoqb\n",
       "QQ/mfVVwQDGJMC2AyfuDXPUI5v1bEEGtYxPg3ge6ivsAxCIGxwSYroWCgpDwlQdiV6Cjee7/OXM3\n",
       "G6arGUoznfp/5szVXxiRuxp/3LNfwCvNJi8oCLOfrLQ1mYD8IgLyGzBEAI5GTA10z3guAAAAAElF\n",
       "TkSuQmCC\n",
       "\" style=\"display:inline;vertical-align:middle;\" /></a>"
      ],
      "text/plain": [
       "D not_subset_eq E"
      ]
     },
     "metadata": {},
     "output_type": "display_data"
    }
   ],
   "source": [
    "# not a subset\n",
    "NotSubsetEq(D, E)"
   ]
  },
  {
   "cell_type": "code",
   "execution_count": 9,
   "metadata": {},
   "outputs": [
    {
     "data": {
      "text/html": [
       "<a class=\"ProveItLink\" href=\"../__pv_it/demonstrations/e52de372fb32766c585062787a5f78c7cee0c8dc0/expr.ipynb\"><img src=\"data:image/png;base64,iVBORw0KGgoAAAANSUhEUgAAAD0AAAAUCAMAAAAJH8UlAAAAP1BMVEX///8PDw8WFhYsLCyhoaEk\n",
       "JCQiIiLu7u52dna6uroQEBBmZmbMzMyqqqqYmJgyMjLc3NxUVFRERESIiIgAAACn5J2HAAAAAXRS\n",
       "TlMAQObYZgAAAAlwSFlzAAAOxAAADsQBlSsOGwAAARZJREFUOMulk+uSgyAMhbPb3UQugol5/2ct\n",
       "IniJTjvT8qN1yCEn3xEB3q9AL8uzqAqzCE831ShG7H0Rs6DvBc31L+l4PS3RbDRx6dPa69yG9Fdr\n",
       "NhtOh/WBQuuisVdS0xCuS/4tzaCuSZqlaKtMve+2/h5oJs9VvJxsBe38Ue2ceSI8u1exSztaxy6x\n",
       "GW/HNnSnWALXveOGDdyZduvlh07YRTzh4Z3oNpXJ3NVYB3fBXkYkg5003VhDcBYbpi3yDZv8+VrB\n",
       "uL7RfMLuGc10xpZsA6+CkS12decjCTgMcGcd8RgatoycrzglfV0uvYTLJ1KsyQXZ94lzFbN4za++\n",
       "u3JTf38Qcxjhs5UJPl9p+OIw4DfWEN9LnqJRDXMo24uuAAAAAElFTkSuQmCC\n",
       "\" style=\"display:inline;vertical-align:middle;\" /></a>"
      ],
      "text/plain": [
       "D not_proper_subset E"
      ]
     },
     "metadata": {},
     "output_type": "display_data"
    }
   ],
   "source": [
    "# not a proper superset (a style variant of NotProperSubset)\n",
    "not_proper_superset(D, E)"
   ]
  },
  {
   "cell_type": "code",
   "execution_count": 10,
   "metadata": {},
   "outputs": [
    {
     "data": {
      "text/html": [
       "<a class=\"ProveItLink\" href=\"../__pv_it/demonstrations/63cf639cac3b946596f0224fe8a3eff6878833000/expr.ipynb\"><img src=\"data:image/png;base64,iVBORw0KGgoAAAANSUhEUgAAAD0AAAAYBAMAAAC7LehfAAAAMFBMVEX///8iIiLu7u52dna6uroQ\n",
       "EBBmZmbMzMyqqqqYmJgyMjLc3NxUVFRERESIiIgAAACK51z6AAAAAXRSTlMAQObYZgAAAAlwSFlz\n",
       "AAAOxAAADsQBlSsOGwAAATVJREFUKM9jYEAH7Az4ASMB+XnoAm//3zl7ZwOcuwhC8V2NPXNW9AKI\n",
       "+YuBgfMHiKEoKCi4LAGqjn8BUBFInv0fkEiFaVcUgTL8DRgYmECK+b6DeBOgwru0CiAMeweg/AMg\n",
       "g/cDkNhvAJW34L4AYaxnYHjAAFLLDxKoPwCVF2C4DWH8ZWCBmFkPMmQ+VD+nAYMFmMHy8cx9iKfe\n",
       "gww57wCR51JgyAAzmL8zbIQI3QcRX6HG1zAwSEMUfmBgZmCCWAQ09idU/jgDB8R9QFdxM+jBvK8K\n",
       "dTTTAoZCBYj3Qa56BPP+Lah25knFUOfbA13FfQBiEYMjJFAVBeWlMqAq5YHYFehonvt/ztzNhoVu\n",
       "M5RmOvX/zJmrvzAidzX+uGe/gFdaUR4YwYIHyE9bkwnILyIgvwFDBAB+Kk5dAwf71AAAAABJRU5E\n",
       "rkJggg==\n",
       "\" style=\"display:inline;vertical-align:middle;\" /></a>"
      ],
      "text/plain": [
       "D not_superset_eq E"
      ]
     },
     "metadata": {},
     "output_type": "display_data"
    }
   ],
   "source": [
    "# not a superset (a style variant of NotSubsetEq)\n",
    "not_superset_eq(D, E)"
   ]
  },
  {
   "cell_type": "markdown",
   "metadata": {},
   "source": [
    "<font size=3>At the time of this writing, portions of Prove-It code might still have the more ambiguous `Subset` notation or terminology, but in general we will use `SubsetEq()` to form general or “improper” subset expressions (*e.g.*, $A \\subseteq$ B) and `ProperSubset()` or `SubsetProper()` to form “proper” or “strict” subset expressions (such as $A \\subset$ B), with similar notation used for the negations.</font>"
   ]
  },
  {
   "cell_type": "markdown",
   "metadata": {},
   "source": [
    "## Common Attributes of a Subset expression <a id='common_attributes'></a>"
   ]
  },
  {
   "cell_type": "markdown",
   "metadata": {},
   "source": [
    "<font size=3>Let's define a simple example subset expression, $(A \\cap B) \\subseteq B$, and look at some of its attributes. (The results should be similar for proper subset ($\\subset$) and the various supersets ($\\supset$, $\\supseteq$) and their negations.)</font>"
   ]
  },
  {
   "cell_type": "code",
   "execution_count": 11,
   "metadata": {},
   "outputs": [
    {
     "data": {
      "text/html": [
       "<strong id=\"A_intersect_B_subset_of_B\">A_intersect_B_subset_of_B:</strong> <a class=\"ProveItLink\" href=\"../__pv_it/demonstrations/ed562fb20a2183c664b39b8792a3e3613eaf09cf0/expr.ipynb\"><img src=\"data:image/png;base64,iVBORw0KGgoAAAANSUhEUgAAAHEAAAAVBAMAAACDNRyvAAAAMFBMVEX////MzMxUVFRERES6uroi\n",
       "IiIQEBCYmJhmZmYyMjLu7u52dnaqqqqIiIjc3NwAAACW8nlqAAAAAXRSTlMAQObYZgAAAAlwSFlz\n",
       "AAAOxAAADsQBlSsOGwAAAfNJREFUOMt9lL9LI1EQx7+7+bGbGGM4EM4qIWphlVicWOhpdc2dqMV2\n",
       "IoIHYiOijZ0pBAWbA0XBRtH6QO4PuLtKEAuXszYGQcHK+AM8C40z83bJrpr34O2+eTOfefO+zC6A\n",
       "CjRD52z+K6+r971DGvJIvbZfbc/X8vm1DJpn3wDWwG2+qxtI/hAzVVPbc2tLXsAkYN4AW5554jjO\n",
       "qFrGi0AhA1sltQtyo9Zy8qOKTT8B0f/AgopuK9cPvXaB4RLiyvr9J0NPg6mrHamJzrOIjouVHA+U\n",
       "u0ihiy4O1QnuGQtlMm65vGNWgcQMTanJHAyQBZobFayqYnHMETFeGyXvMslOStSUYysRlIgU2KUr\n",
       "b4rxDdl9n0xLbLb/tIuTWaLghwBo3J3+Y2pMrBKuc2HyrILUFIs+wdZ5sAGegQNK+l2M3pVCMUz2\n",
       "0GTVjCp8hzcilKvpxiN/Ai0jYfIWIiCicqYdaIiWnFJ9TBWL2ESINB5YRFI0NSLh63UyS1nMe6Cf\n",
       "1lFaJ6ohki9jPLJCRQnf7djxSVIAWdLtF60vufrnEJmgEr5wX9j7Kv7rJ7/7NuioacrTCuzVtpAa\n",
       "eKSQiPQL1W5yV/eJNoOvGr6dPwVum1gG2nHR0GOV9ORyY9dnLZhWAtmOU//K/LGnJSOa30na1ZHl\n",
       "hp4XWilwobI3YgMAAAAASUVORK5CYII=\n",
       "\" style=\"display:inline;vertical-align:middle;\" /></a><br>"
      ],
      "text/plain": [
       "<IPython.core.display.HTML object>"
      ]
     },
     "metadata": {},
     "output_type": "display_data"
    }
   ],
   "source": [
    "# define a subset expression\n",
    "A_intersect_B_subset_of_B = SubsetEq(Intersect(A, B), B)"
   ]
  },
  {
   "cell_type": "markdown",
   "metadata": {},
   "source": [
    "<font size=3>We can look at the construction of such an expression by calling <font style=\"font-family:courier\">expr_info()</font> to see the tabular representation of the expression's underlying directed acyclic graph (DAG) representation:</font>"
   ]
  },
  {
   "cell_type": "code",
   "execution_count": 12,
   "metadata": {},
   "outputs": [
    {
     "data": {
      "text/html": [
       "<table><tr><th>&nbsp;</th><th>core type</th><th>sub-expressions</th><th>expression</th></tr>\n",
       "<tr><td>0</td><td>Operation</td><td>operator:&nbsp;1<br>operands:&nbsp;2<br></td><td><a class=\"ProveItLink\" href=\"../__pv_it/demonstrations/ed562fb20a2183c664b39b8792a3e3613eaf09cf0/expr.ipynb\"><img src=\"data:image/png;base64,iVBORw0KGgoAAAANSUhEUgAAAHEAAAAVBAMAAACDNRyvAAAAMFBMVEX////MzMxUVFRERES6uroi\n",
       "IiIQEBCYmJhmZmYyMjLu7u52dnaqqqqIiIjc3NwAAACW8nlqAAAAAXRSTlMAQObYZgAAAAlwSFlz\n",
       "AAAOxAAADsQBlSsOGwAAAfNJREFUOMt9lL9LI1EQx7+7+bGbGGM4EM4qIWphlVicWOhpdc2dqMV2\n",
       "IoIHYiOijZ0pBAWbA0XBRtH6QO4PuLtKEAuXszYGQcHK+AM8C40z83bJrpr34O2+eTOfefO+zC6A\n",
       "CjRD52z+K6+r971DGvJIvbZfbc/X8vm1DJpn3wDWwG2+qxtI/hAzVVPbc2tLXsAkYN4AW5554jjO\n",
       "qFrGi0AhA1sltQtyo9Zy8qOKTT8B0f/AgopuK9cPvXaB4RLiyvr9J0NPg6mrHamJzrOIjouVHA+U\n",
       "u0ihiy4O1QnuGQtlMm65vGNWgcQMTanJHAyQBZobFayqYnHMETFeGyXvMslOStSUYysRlIgU2KUr\n",
       "b4rxDdl9n0xLbLb/tIuTWaLghwBo3J3+Y2pMrBKuc2HyrILUFIs+wdZ5sAGegQNK+l2M3pVCMUz2\n",
       "0GTVjCp8hzcilKvpxiN/Ai0jYfIWIiCicqYdaIiWnFJ9TBWL2ESINB5YRFI0NSLh63UyS1nMe6Cf\n",
       "1lFaJ6ohki9jPLJCRQnf7djxSVIAWdLtF60vufrnEJmgEr5wX9j7Kv7rJ7/7NuioacrTCuzVtpAa\n",
       "eKSQiPQL1W5yV/eJNoOvGr6dPwVum1gG2nHR0GOV9ORyY9dnLZhWAtmOU//K/LGnJSOa30na1ZHl\n",
       "hp4XWilwobI3YgMAAAAASUVORK5CYII=\n",
       "\" style=\"display:inline;vertical-align:middle;\" /></a></td></tr>\n",
       "<tr><td>1</td><td>Literal</td><td></td><td><a class=\"ProveItLink\" href=\"../__pv_it/common/af21bfd7d93759eac7fe399a50aaac31ae45d8cf0/expr.ipynb\"><img src=\"data:image/png;base64,iVBORw0KGgoAAAANSUhEUgAAAA4AAAAQBAMAAADUulMJAAAAKlBMVEX///92dnaYmJhmZma6urpU\n",
       "VFTu7u7c3NwyMjLMzMwiIiJERESIiIgAAADHdXEMAAAAAXRSTlMAQObYZgAAAAlwSFlzAAAOxAAA\n",
       "DsQBlSsOGwAAAEFJREFUCNdjYGA4vWrVqpUMDDOOM4AA23IwxcDqAKE5IBTDVChdCqW5oDSzApTR\n",
       "AqVTQxIgDMddYHNxAOZVILASANcCD5alumPsAAAAAElFTkSuQmCC\n",
       "\" style=\"display:inline;vertical-align:middle;\" /></a></td></tr>\n",
       "<tr><td>2</td><td>ExprTuple</td><td>3, 7</td><td><a class=\"ProveItLink\" href=\"../__pv_it/demonstrations/a1eb5b7432e7fbeba48c34005caa97e4be5930430/expr.ipynb\"><img src=\"data:image/png;base64,iVBORw0KGgoAAAANSUhEUgAAAF0AAAAVBAMAAADWVP/xAAAAMFBMVEX////MzMxUVFRERES6uroi\n",
       "IiIQEBCYmJhmZmYyMjLu7u52dnaqqqqIiIjc3NwAAACW8nlqAAAAAXRSTlMAQObYZgAAAAlwSFlz\n",
       "AAAOxAAADsQBlSsOGwAAAYpJREFUKM+Nk7tOAkEUhn8u68K6CzQkdhCsrMDORvEBNGJrLDbRxm5j\n",
       "ZQeFiSY2JCSQ0EikNhIfQK1M1EJiL9BoQgVeGgvBM7dkx2LDJjOZ78w3M2cuC2CAWT9uOne8PZzB\n",
       "32TVk2if/+szi5+5pWUdHA+wqjxiT0XPYe1YOnMFIJ/SoQnEPB6I5Xly6Z610BTKqAtsVaDBEY0U\n",
       "gZtbNlWIucMWj5QpUO5KX8JcCw+cE90+23aYDTKFlKdSV2cnIe7hTKSDZ5aXwdohkcQecLGtdi9h\n",
       "PosG5w1kOspPZPmor9eXhtIVmFXs8kAFo6zuOxPg3pO+AtvFPueV03xB9yMuLf8hfQWhsfAvgWRJ\n",
       "95NUm7/SVxB1RT60Q8PV/QwtH/6WvgK7hFXCKGF8rPt9OspMFRZ8ALOAa8J3luJE9+s0zUELV1Uf\n",
       "INZBGmhPm7CLP3SgEdZpsfNfnOZyNbpCY8cHMNZhpILf8KMf3iilSrDf8cMJlbVA3er6IMHuqB3o\n",
       "O36IDPjTnPn/7QF/6iRsmE8NWm4AAAAASUVORK5CYII=\n",
       "\" style=\"display:inline;vertical-align:middle;\" /></a></td></tr>\n",
       "<tr><td>3</td><td>Operation</td><td>operator:&nbsp;4<br>operands:&nbsp;5<br></td><td><a class=\"ProveItLink\" href=\"../__pv_it/demonstrations/74c69cf9fd60720513cbff8d3601d50aaf150cf50/expr.ipynb\"><img src=\"data:image/png;base64,iVBORw0KGgoAAAANSUhEUgAAADcAAAAPBAMAAACy3Eq1AAAAMFBMVEX///8QEBAiIiLu7u5ERES6\n",
       "urqYmJiIiIjMzMx2dnZUVFRmZmaqqqoyMjLc3NwAAABb1yYoAAAAAXRSTlMAQObYZgAAAAlwSFlz\n",
       "AAAOxAAADsQBlSsOGwAAAO9JREFUGNNjYACBtwx4wH00Ppv/r1VrPSBsnv8QOuvKVqgsowMDw/oG\n",
       "MJN7/QMQ1VTH3H0ZIvm+gIEhfgOYOW8+SBEHSOKtAVgkHyiQXwBi8RXUHwBSXCAVbGARhvVAfBFs\n",
       "HDfD+QQgxQRic0DMEmFgsNIAs2IY+ifAJPkWgJV8Ka+6BrF9A8P7BaiS7P8YGA4mgFneu9c7oEqy\n",
       "CDAwcP4AscwZGPgVUCX5gSTbd4ipDEwCqJL9QCO5vgIZrEAG7wdUyXqgL/ovABkPQXb8Q5W8CNQj\n",
       "CwwOk/+XGXj8/wL9wgISZgb5c8n/VauuAMMFAHSXQjjQ3TVrAAAAAElFTkSuQmCC\n",
       "\" style=\"display:inline;vertical-align:middle;\" /></a></td></tr>\n",
       "<tr><td>4</td><td>Literal</td><td></td><td><a class=\"ProveItLink\" href=\"../../intersection/__pv_it/common/718e30c398d699c56b1af99739a377f200f9d3cd0/expr.ipynb\"><img src=\"data:image/png;base64,iVBORw0KGgoAAAANSUhEUgAAAAwAAAANBAMAAABvB5JxAAAAJ1BMVEX////u7u7c3NyIiIgiIiLM\n",
       "zMy6urpmZmZEREQyMjJUVFSYmJgAAACGMhwfAAAAAXRSTlMAQObYZgAAAAlwSFlzAAAOxAAADsQB\n",
       "lSsOGwAAADBJREFUCNdjYOBe2Z7AwMDqrCBaKcAQKcDAwDSRYSkDEGxmcABR4RBKiwSqAUSJAwAC\n",
       "YQkKpj54NAAAAABJRU5ErkJggg==\n",
       "\" style=\"display:inline;vertical-align:middle;\" /></a></td></tr>\n",
       "<tr><td>5</td><td>ExprTuple</td><td>6, 7</td><td><a class=\"ProveItLink\" href=\"../__pv_it/theorems/e791ee87807ed43d7ac6262f8f70c4ffc8f24c940/expr.ipynb\"><img src=\"data:image/png;base64,iVBORw0KGgoAAAANSUhEUgAAADUAAAAVBAMAAAAUZLt1AAAAMFBMVEX////MzMxUVFRERES6uroi\n",
       "IiIQEBCYmJhmZmYyMjLu7u52dnaqqqqIiIjc3NwAAACW8nlqAAAAAXRSTlMAQObYZgAAAAlwSFlz\n",
       "AAAOxAAADsQBlSsOGwAAAUpJREFUKM9tkj1PwlAUhh/lo3wUYXGG4ORU3FwUf4BGHNwcmujixuhG\n",
       "N01cSEwwYZHITEL8AcpkYhxs3BUWTZzAj4VB8PS2pY2hyW3O+z7nvje9p8CAeY9yMz1Vf/xjO87r\n",
       "0a2vfFMrfxVX18hUIVVXjj6d7YiXwMjRhERVGQljduzQhl2LE+lyjdu7nM9qUtVs4i0elF6y+z2f\n",
       "GbIaA5JVzt1Inqo+O4TrPUgXuFR6m3zXQwvfL8+OqdU5UIbFsOCxzATuJUQ3OVJ6/cwoeSxiSt6n\n",
       "7B+5rAPZiseyEqD9QtR0My2ImR7LS97ij2RW2BAZFZkcQcthfbmEvFyWVuJG5LtzzITU2GEN6T2W\n",
       "rkSXZWhPm+jlcZd9sVamxeKFcw+xLWK5YC56KzSkN4m1ApkOD/BU1mYgOyG05HxvO9B2iEUGagRz\n",
       "/5dX+AMztUqyA63XggAAAABJRU5ErkJggg==\n",
       "\" style=\"display:inline;vertical-align:middle;\" /></a></td></tr>\n",
       "<tr><td>6</td><td>Variable</td><td></td><td><a class=\"ProveItLink\" href=\"../../../../__pv_it/common/09585084922504426caf1db2ff588a23a0932a960/expr.ipynb\"><img src=\"data:image/png;base64,iVBORw0KGgoAAAANSUhEUgAAAA8AAAAPBAMAAADJ+Ih5AAAAMFBMVEX///8QEBAiIiLu7u5ERES6\n",
       "urqYmJiIiIjMzMx2dnZUVFRmZmaqqqoyMjLc3NwAAABb1yYoAAAAAXRSTlMAQObYZgAAAAlwSFlz\n",
       "AAAOxAAADsQBlSsOGwAAAF9JREFUCNdjYACBtwxQcB9K8/yHMrjXP4Aw5s1vANN8BfUHIDIM5xPA\n",
       "jBiG/glgxgaG9wtANLv37vUOIIY5AwO/AkSGgUkASLMCdfB+ADIeAjHLPwYGk/+XGXj8/04AADnq\n",
       "Fzds8Dk2AAAAAElFTkSuQmCC\n",
       "\" style=\"display:inline;vertical-align:middle;\" /></a></td></tr>\n",
       "<tr><td>7</td><td>Variable</td><td></td><td><a class=\"ProveItLink\" href=\"../../../../__pv_it/common/a9162d1c3cc0470c02e5daf414500903a7a419230/expr.ipynb\"><img src=\"data:image/png;base64,iVBORw0KGgoAAAANSUhEUgAAABAAAAAOBAMAAADUAYG5AAAAMFBMVEX///92dnaqqqoiIiLu7u5m\n",
       "Zma6urqIiIjc3NwQEBDMzMwyMjJUVFRERESYmJgAAAAeMT9/AAAAAXRSTlMAQObYZgAAAAlwSFlz\n",
       "AAAOxAAADsQBlSsOGwAAAHJJREFUCNdjYGB4+//Mmb0LGIBgLgMDzy8gzfGdgYHtK5DBB+TxATkM\n",
       "PB8YGLhnABmcFxhYDoMUr79efvoBSFN9AwPTPBDjJhDLg6T+APH7AgYGrn9AxvkEBgb2H0DObyCH\n",
       "ewIDQ+YWoHH3/5w5fYmBAQBWoiHo17XzsQAAAABJRU5ErkJggg==\n",
       "\" style=\"display:inline;vertical-align:middle;\" /></a></td></tr>\n",
       "</table>\n"
      ],
      "text/plain": [
       "0. (A intersect B) subset_eq B\n",
       "   core type: Operation\n",
       "   operator: 1\n",
       "   operands: 2\n",
       "1. subset_eq\n",
       "   core type: Literal\n",
       "   sub-expressions: \n",
       "2. (A intersect B, B)\n",
       "   core type: ExprTuple\n",
       "   sub-expressions: 3, 7\n",
       "3. A intersect B\n",
       "   core type: Operation\n",
       "   operator: 4\n",
       "   operands: 5\n",
       "4. intersect\n",
       "   core type: Literal\n",
       "   sub-expressions: \n",
       "5. (A, B)\n",
       "   core type: ExprTuple\n",
       "   sub-expressions: 6, 7\n",
       "6. A\n",
       "   core type: Variable\n",
       "   sub-expressions: \n",
       "7. B\n",
       "   core type: Variable\n",
       "   sub-expressions: "
      ]
     },
     "metadata": {},
     "output_type": "display_data"
    }
   ],
   "source": [
    "A_intersect_B_subset_of_B.expr_info()"
   ]
  },
  {
   "cell_type": "markdown",
   "metadata": {},
   "source": [
    "<font size=3>We can access the left-hand and right-hand sides of such expressions, as well as the specific operator:</font>"
   ]
  },
  {
   "cell_type": "code",
   "execution_count": 13,
   "metadata": {},
   "outputs": [
    {
     "data": {
      "text/html": [
       "<a class=\"ProveItLink\" href=\"../__pv_it/demonstrations/74c69cf9fd60720513cbff8d3601d50aaf150cf50/expr.ipynb\"><img src=\"data:image/png;base64,iVBORw0KGgoAAAANSUhEUgAAADcAAAAPBAMAAACy3Eq1AAAAMFBMVEX///8QEBAiIiLu7u5ERES6\n",
       "urqYmJiIiIjMzMx2dnZUVFRmZmaqqqoyMjLc3NwAAABb1yYoAAAAAXRSTlMAQObYZgAAAAlwSFlz\n",
       "AAAOxAAADsQBlSsOGwAAAO9JREFUGNNjYACBtwx4wH00Ppv/r1VrPSBsnv8QOuvKVqgsowMDw/oG\n",
       "MJN7/QMQ1VTH3H0ZIvm+gIEhfgOYOW8+SBEHSOKtAVgkHyiQXwBi8RXUHwBSXCAVbGARhvVAfBFs\n",
       "HDfD+QQgxQRic0DMEmFgsNIAs2IY+ifAJPkWgJV8Ka+6BrF9A8P7BaiS7P8YGA4mgFneu9c7oEqy\n",
       "CDAwcP4AscwZGPgVUCX5gSTbd4ipDEwCqJL9QCO5vgIZrEAG7wdUyXqgL/ovABkPQXb8Q5W8CNQj\n",
       "CwwOk/+XGXj8/wL9wgISZgb5c8n/VauuAMMFAHSXQjjQ3TVrAAAAAElFTkSuQmCC\n",
       "\" style=\"display:inline;vertical-align:middle;\" /></a>"
      ],
      "text/plain": [
       "A intersect B"
      ]
     },
     "metadata": {},
     "output_type": "display_data"
    }
   ],
   "source": [
    "A_intersect_B_subset_of_B.lhs"
   ]
  },
  {
   "cell_type": "code",
   "execution_count": 14,
   "metadata": {},
   "outputs": [
    {
     "data": {
      "text/html": [
       "<a class=\"ProveItLink\" href=\"../../../../__pv_it/common/a9162d1c3cc0470c02e5daf414500903a7a419230/expr.ipynb\"><img src=\"data:image/png;base64,iVBORw0KGgoAAAANSUhEUgAAABAAAAAOBAMAAADUAYG5AAAAMFBMVEX///92dnaqqqoiIiLu7u5m\n",
       "Zma6urqIiIjc3NwQEBDMzMwyMjJUVFRERESYmJgAAAAeMT9/AAAAAXRSTlMAQObYZgAAAAlwSFlz\n",
       "AAAOxAAADsQBlSsOGwAAAHJJREFUCNdjYGB4+//Mmb0LGIBgLgMDzy8gzfGdgYHtK5DBB+TxATkM\n",
       "PB8YGLhnABmcFxhYDoMUr79efvoBSFN9AwPTPBDjJhDLg6T+APH7AgYGrn9AxvkEBgb2H0DObyCH\n",
       "ewIDQ+YWoHH3/5w5fYmBAQBWoiHo17XzsQAAAABJRU5ErkJggg==\n",
       "\" style=\"display:inline;vertical-align:middle;\" /></a>"
      ],
      "text/plain": [
       "B"
      ]
     },
     "metadata": {},
     "output_type": "display_data"
    }
   ],
   "source": [
    "A_intersect_B_subset_of_B.rhs"
   ]
  },
  {
   "cell_type": "code",
   "execution_count": 15,
   "metadata": {},
   "outputs": [
    {
     "data": {
      "text/html": [
       "<a class=\"ProveItLink\" href=\"../__pv_it/common/af21bfd7d93759eac7fe399a50aaac31ae45d8cf0/expr.ipynb\"><img src=\"data:image/png;base64,iVBORw0KGgoAAAANSUhEUgAAAA4AAAAQBAMAAADUulMJAAAAKlBMVEX///92dnaYmJhmZma6urpU\n",
       "VFTu7u7c3NwyMjLMzMwiIiJERESIiIgAAADHdXEMAAAAAXRSTlMAQObYZgAAAAlwSFlzAAAOxAAA\n",
       "DsQBlSsOGwAAAEFJREFUCNdjYGA4vWrVqpUMDDOOM4AA23IwxcDqAKE5IBTDVChdCqW5oDSzApTR\n",
       "AqVTQxIgDMddYHNxAOZVILASANcCD5alumPsAAAAAElFTkSuQmCC\n",
       "\" style=\"display:inline;vertical-align:middle;\" /></a>"
      ],
      "text/plain": [
       "subset_eq"
      ]
     },
     "metadata": {},
     "output_type": "display_data"
    }
   ],
   "source": [
    "A_intersect_B_subset_of_B.operator"
   ]
  },
  {
   "cell_type": "markdown",
   "metadata": {},
   "source": [
    "<font size=3>We can get both sides of the expression simultaneously (the operands of the $\\subseteq$ operator) as a tuple of expressions. We can also get a list of the variables and a separate list of the *free* variables in the expression (of course, in this expression, all the variables are also free variables):</font>"
   ]
  },
  {
   "cell_type": "code",
   "execution_count": 16,
   "metadata": {},
   "outputs": [
    {
     "data": {
      "text/html": [
       "<a class=\"ProveItLink\" href=\"../__pv_it/demonstrations/a1eb5b7432e7fbeba48c34005caa97e4be5930430/expr.ipynb\"><img src=\"data:image/png;base64,iVBORw0KGgoAAAANSUhEUgAAAF0AAAAVBAMAAADWVP/xAAAAMFBMVEX////MzMxUVFRERES6uroi\n",
       "IiIQEBCYmJhmZmYyMjLu7u52dnaqqqqIiIjc3NwAAACW8nlqAAAAAXRSTlMAQObYZgAAAAlwSFlz\n",
       "AAAOxAAADsQBlSsOGwAAAYpJREFUKM+Nk7tOAkEUhn8u68K6CzQkdhCsrMDORvEBNGJrLDbRxm5j\n",
       "ZQeFiSY2JCSQ0EikNhIfQK1M1EJiL9BoQgVeGgvBM7dkx2LDJjOZ78w3M2cuC2CAWT9uOne8PZzB\n",
       "32TVk2if/+szi5+5pWUdHA+wqjxiT0XPYe1YOnMFIJ/SoQnEPB6I5Xly6Z610BTKqAtsVaDBEY0U\n",
       "gZtbNlWIucMWj5QpUO5KX8JcCw+cE90+23aYDTKFlKdSV2cnIe7hTKSDZ5aXwdohkcQecLGtdi9h\n",
       "PosG5w1kOspPZPmor9eXhtIVmFXs8kAFo6zuOxPg3pO+AtvFPueV03xB9yMuLf8hfQWhsfAvgWRJ\n",
       "95NUm7/SVxB1RT60Q8PV/QwtH/6WvgK7hFXCKGF8rPt9OspMFRZ8ALOAa8J3luJE9+s0zUELV1Uf\n",
       "INZBGmhPm7CLP3SgEdZpsfNfnOZyNbpCY8cHMNZhpILf8KMf3iilSrDf8cMJlbVA3er6IMHuqB3o\n",
       "O36IDPjTnPn/7QF/6iRsmE8NWm4AAAAASUVORK5CYII=\n",
       "\" style=\"display:inline;vertical-align:middle;\" /></a>"
      ],
      "text/plain": [
       "(A intersect B, B)"
      ]
     },
     "metadata": {},
     "output_type": "display_data"
    }
   ],
   "source": [
    "A_intersect_B_subset_of_B.operands"
   ]
  },
  {
   "cell_type": "code",
   "execution_count": 17,
   "metadata": {},
   "outputs": [
    {
     "data": {
      "text/html": [
       "<a class=\"ProveItLink\" href=\"../__pv_it/theorems/e791ee87807ed43d7ac6262f8f70c4ffc8f24c940/expr.ipynb\"><img src=\"data:image/png;base64,iVBORw0KGgoAAAANSUhEUgAAADUAAAAVBAMAAAAUZLt1AAAAMFBMVEX////MzMxUVFRERES6uroi\n",
       "IiIQEBCYmJhmZmYyMjLu7u52dnaqqqqIiIjc3NwAAACW8nlqAAAAAXRSTlMAQObYZgAAAAlwSFlz\n",
       "AAAOxAAADsQBlSsOGwAAAUpJREFUKM9tkj1PwlAUhh/lo3wUYXGG4ORU3FwUf4BGHNwcmujixuhG\n",
       "N01cSEwwYZHITEL8AcpkYhxs3BUWTZzAj4VB8PS2pY2hyW3O+z7nvje9p8CAeY9yMz1Vf/xjO87r\n",
       "0a2vfFMrfxVX18hUIVVXjj6d7YiXwMjRhERVGQljduzQhl2LE+lyjdu7nM9qUtVs4i0elF6y+z2f\n",
       "GbIaA5JVzt1Inqo+O4TrPUgXuFR6m3zXQwvfL8+OqdU5UIbFsOCxzATuJUQ3OVJ6/cwoeSxiSt6n\n",
       "7B+5rAPZiseyEqD9QtR0My2ImR7LS97ij2RW2BAZFZkcQcthfbmEvFyWVuJG5LtzzITU2GEN6T2W\n",
       "rkSXZWhPm+jlcZd9sVamxeKFcw+xLWK5YC56KzSkN4m1ApkOD/BU1mYgOyG05HxvO9B2iEUGagRz\n",
       "/5dX+AMztUqyA63XggAAAABJRU5ErkJggg==\n",
       "\" style=\"display:inline;vertical-align:middle;\" /></a>"
      ],
      "text/plain": [
       "(A, B)"
      ]
     },
     "metadata": {},
     "output_type": "display_data"
    }
   ],
   "source": [
    "used_vars(A_intersect_B_subset_of_B)"
   ]
  },
  {
   "cell_type": "code",
   "execution_count": 18,
   "metadata": {},
   "outputs": [
    {
     "data": {
      "text/html": [
       "<a class=\"ProveItLink\" href=\"../__pv_it/theorems/e791ee87807ed43d7ac6262f8f70c4ffc8f24c940/expr.ipynb\"><img src=\"data:image/png;base64,iVBORw0KGgoAAAANSUhEUgAAADUAAAAVBAMAAAAUZLt1AAAAMFBMVEX////MzMxUVFRERES6uroi\n",
       "IiIQEBCYmJhmZmYyMjLu7u52dnaqqqqIiIjc3NwAAACW8nlqAAAAAXRSTlMAQObYZgAAAAlwSFlz\n",
       "AAAOxAAADsQBlSsOGwAAAUpJREFUKM9tkj1PwlAUhh/lo3wUYXGG4ORU3FwUf4BGHNwcmujixuhG\n",
       "N01cSEwwYZHITEL8AcpkYhxs3BUWTZzAj4VB8PS2pY2hyW3O+z7nvje9p8CAeY9yMz1Vf/xjO87r\n",
       "0a2vfFMrfxVX18hUIVVXjj6d7YiXwMjRhERVGQljduzQhl2LE+lyjdu7nM9qUtVs4i0elF6y+z2f\n",
       "GbIaA5JVzt1Inqo+O4TrPUgXuFR6m3zXQwvfL8+OqdU5UIbFsOCxzATuJUQ3OVJ6/cwoeSxiSt6n\n",
       "7B+5rAPZiseyEqD9QtR0My2ImR7LS97ij2RW2BAZFZkcQcthfbmEvFyWVuJG5LtzzITU2GEN6T2W\n",
       "rkSXZWhPm+jlcZd9sVamxeKFcw+xLWK5YC56KzSkN4m1ApkOD/BU1mYgOyG05HxvO9B2iEUGagRz\n",
       "/5dX+AMztUqyA63XggAAAABJRU5ErkJggg==\n",
       "\" style=\"display:inline;vertical-align:middle;\" /></a>"
      ],
      "text/plain": [
       "(A, B)"
      ]
     },
     "metadata": {},
     "output_type": "display_data"
    }
   ],
   "source": [
    "free_vars(A_intersect_B_subset_of_B)"
   ]
  },
  {
   "cell_type": "markdown",
   "metadata": {},
   "source": [
    "<font size=3>By the way, notice that our expression $(A \\cap B) \\subseteq B$ is always true, and Prove-It can automatically prove this:</font>"
   ]
  },
  {
   "cell_type": "code",
   "execution_count": 19,
   "metadata": {},
   "outputs": [
    {
     "data": {
      "text/html": [
       "<a class=\"ProveItLink\" href=\"../__pv_it/demonstrations/ed562fb20a2183c664b39b8792a3e3613eaf09cf0/expr.ipynb\"><img src=\"data:image/png;base64,iVBORw0KGgoAAAANSUhEUgAAAHEAAAAVBAMAAACDNRyvAAAAMFBMVEX////MzMxUVFRERES6uroi\n",
       "IiIQEBCYmJhmZmYyMjLu7u52dnaqqqqIiIjc3NwAAACW8nlqAAAAAXRSTlMAQObYZgAAAAlwSFlz\n",
       "AAAOxAAADsQBlSsOGwAAAfNJREFUOMt9lL9LI1EQx7+7+bGbGGM4EM4qIWphlVicWOhpdc2dqMV2\n",
       "IoIHYiOijZ0pBAWbA0XBRtH6QO4PuLtKEAuXszYGQcHK+AM8C40z83bJrpr34O2+eTOfefO+zC6A\n",
       "CjRD52z+K6+r971DGvJIvbZfbc/X8vm1DJpn3wDWwG2+qxtI/hAzVVPbc2tLXsAkYN4AW5554jjO\n",
       "qFrGi0AhA1sltQtyo9Zy8qOKTT8B0f/AgopuK9cPvXaB4RLiyvr9J0NPg6mrHamJzrOIjouVHA+U\n",
       "u0ihiy4O1QnuGQtlMm65vGNWgcQMTanJHAyQBZobFayqYnHMETFeGyXvMslOStSUYysRlIgU2KUr\n",
       "b4rxDdl9n0xLbLb/tIuTWaLghwBo3J3+Y2pMrBKuc2HyrILUFIs+wdZ5sAGegQNK+l2M3pVCMUz2\n",
       "0GTVjCp8hzcilKvpxiN/Ai0jYfIWIiCicqYdaIiWnFJ9TBWL2ESINB5YRFI0NSLh63UyS1nMe6Cf\n",
       "1lFaJ6ohki9jPLJCRQnf7djxSVIAWdLtF60vufrnEJmgEr5wX9j7Kv7rJ7/7NuioacrTCuzVtpAa\n",
       "eKSQiPQL1W5yV/eJNoOvGr6dPwVum1gG2nHR0GOV9ORyY9dnLZhWAtmOU//K/LGnJSOa30na1ZHl\n",
       "hp4XWilwobI3YgMAAAAASUVORK5CYII=\n",
       "\" style=\"display:inline;vertical-align:middle;\" /></a>"
      ],
      "text/plain": [
       "(A intersect B) subset_eq B"
      ]
     },
     "metadata": {},
     "output_type": "display_data"
    }
   ],
   "source": [
    "A_intersect_B_subset_of_B"
   ]
  },
  {
   "cell_type": "code",
   "execution_count": 20,
   "metadata": {},
   "outputs": [
    {
     "data": {
      "text/html": [
       "<strong id=\"A_intersect_B_subset_of_B_judgment\">A_intersect_B_subset_of_B_judgment:</strong> <span style=\"font-size:20px;\"> <a class=\"ProveItLink\" href=\"../__pv_it/demonstrations/a4462fc899408449561ce23096b72ff204de63ac0/proof.ipynb\" style=\"text-decoration: none\">&nbsp;&#x22A2;&nbsp;&nbsp;</a><a class=\"ProveItLink\" href=\"../__pv_it/demonstrations/ed562fb20a2183c664b39b8792a3e3613eaf09cf0/expr.ipynb\"><img src=\"data:image/png;base64,iVBORw0KGgoAAAANSUhEUgAAAHEAAAAVBAMAAACDNRyvAAAAMFBMVEX////MzMxUVFRERES6uroi\n",
       "IiIQEBCYmJhmZmYyMjLu7u52dnaqqqqIiIjc3NwAAACW8nlqAAAAAXRSTlMAQObYZgAAAAlwSFlz\n",
       "AAAOxAAADsQBlSsOGwAAAfNJREFUOMt9lL9LI1EQx7+7+bGbGGM4EM4qIWphlVicWOhpdc2dqMV2\n",
       "IoIHYiOijZ0pBAWbA0XBRtH6QO4PuLtKEAuXszYGQcHK+AM8C40z83bJrpr34O2+eTOfefO+zC6A\n",
       "CjRD52z+K6+r971DGvJIvbZfbc/X8vm1DJpn3wDWwG2+qxtI/hAzVVPbc2tLXsAkYN4AW5554jjO\n",
       "qFrGi0AhA1sltQtyo9Zy8qOKTT8B0f/AgopuK9cPvXaB4RLiyvr9J0NPg6mrHamJzrOIjouVHA+U\n",
       "u0ihiy4O1QnuGQtlMm65vGNWgcQMTanJHAyQBZobFayqYnHMETFeGyXvMslOStSUYysRlIgU2KUr\n",
       "b4rxDdl9n0xLbLb/tIuTWaLghwBo3J3+Y2pMrBKuc2HyrILUFIs+wdZ5sAGegQNK+l2M3pVCMUz2\n",
       "0GTVjCp8hzcilKvpxiN/Ai0jYfIWIiCicqYdaIiWnFJ9TBWL2ESINB5YRFI0NSLh63UyS1nMe6Cf\n",
       "1lFaJ6ohki9jPLJCRQnf7djxSVIAWdLtF60vufrnEJmgEr5wX9j7Kv7rJ7/7NuioacrTCuzVtpAa\n",
       "eKSQiPQL1W5yV/eJNoOvGr6dPwVum1gG2nHR0GOV9ORyY9dnLZhWAtmOU//K/LGnJSOa30na1ZHl\n",
       "hp4XWilwobI3YgMAAAAASUVORK5CYII=\n",
       "\" style=\"display:inline;vertical-align:middle;\" /></a></span><br>"
      ],
      "text/plain": [
       "<IPython.core.display.HTML object>"
      ]
     },
     "metadata": {},
     "output_type": "display_data"
    }
   ],
   "source": [
    "A_intersect_B_subset_of_B_judgment = A_intersect_B_subset_of_B.prove()"
   ]
  },
  {
   "cell_type": "markdown",
   "metadata": {},
   "source": [
    "<font size=3>A peek at the proof shows that Prove-It has applied the ``fold_subset_eq`` theorem:<br>\n",
    "> $\\forall_{A,B} \\left([\\forall_{x\\in A}(x\\in B)] \\implies (A \\subseteq B)\\right)$<br>\n",
    "    \n",
    "by using a suitable instantiation to get something like this:<br>\n",
    "> $[\\forall_{x\\in A\\cap B}(x\\in B)] \\implies ((A\\cap B) \\subseteq B)$<br>\n",
    "\n",
    "See Line 3 in the proof below for the ``fold_subset_eq`` theorem, then Line 1 for the instantiation step.</font>"
   ]
  },
  {
   "cell_type": "code",
   "execution_count": 21,
   "metadata": {},
   "outputs": [
    {
     "data": {
      "text/html": [
       "<table><tr><th>&nbsp;</th><th>step type</th><th>requirements</th><th>statement</th></tr>\n",
       "<tr><td><a name=\"-0x7ae1a3013d06deba_step0\">0</a></td><td>instantiation</td><td><a href=\"#-0x7ae1a3013d06deba_step1\">1</a>, <a href=\"#-0x7ae1a3013d06deba_step2\">2</a></td><td><span style=\"font-size:20px;\"> <a class=\"ProveItLink\" href=\"../__pv_it/demonstrations/a4462fc899408449561ce23096b72ff204de63ac0/proof.ipynb\" style=\"text-decoration: none\">&nbsp;&#x22A2;&nbsp;&nbsp;</a><a class=\"ProveItLink\" href=\"../__pv_it/demonstrations/ed562fb20a2183c664b39b8792a3e3613eaf09cf0/expr.ipynb\"><img src=\"data:image/png;base64,iVBORw0KGgoAAAANSUhEUgAAAHEAAAAVBAMAAACDNRyvAAAAMFBMVEX////MzMxUVFRERES6uroi\n",
       "IiIQEBCYmJhmZmYyMjLu7u52dnaqqqqIiIjc3NwAAACW8nlqAAAAAXRSTlMAQObYZgAAAAlwSFlz\n",
       "AAAOxAAADsQBlSsOGwAAAfNJREFUOMt9lL9LI1EQx7+7+bGbGGM4EM4qIWphlVicWOhpdc2dqMV2\n",
       "IoIHYiOijZ0pBAWbA0XBRtH6QO4PuLtKEAuXszYGQcHK+AM8C40z83bJrpr34O2+eTOfefO+zC6A\n",
       "CjRD52z+K6+r971DGvJIvbZfbc/X8vm1DJpn3wDWwG2+qxtI/hAzVVPbc2tLXsAkYN4AW5554jjO\n",
       "qFrGi0AhA1sltQtyo9Zy8qOKTT8B0f/AgopuK9cPvXaB4RLiyvr9J0NPg6mrHamJzrOIjouVHA+U\n",
       "u0ihiy4O1QnuGQtlMm65vGNWgcQMTanJHAyQBZobFayqYnHMETFeGyXvMslOStSUYysRlIgU2KUr\n",
       "b4rxDdl9n0xLbLb/tIuTWaLghwBo3J3+Y2pMrBKuc2HyrILUFIs+wdZ5sAGegQNK+l2M3pVCMUz2\n",
       "0GTVjCp8hzcilKvpxiN/Ai0jYfIWIiCicqYdaIiWnFJ9TBWL2ESINB5YRFI0NSLh63UyS1nMe6Cf\n",
       "1lFaJ6ohki9jPLJCRQnf7djxSVIAWdLtF60vufrnEJmgEr5wX9j7Kv7rJ7/7NuioacrTCuzVtpAa\n",
       "eKSQiPQL1W5yV/eJNoOvGr6dPwVum1gG2nHR0GOV9ORyY9dnLZhWAtmOU//K/LGnJSOa30na1ZHl\n",
       "hp4XWilwobI3YgMAAAAASUVORK5CYII=\n",
       "\" style=\"display:inline;vertical-align:middle;\" /></a></span></td></tr>\n",
       "<tr><td>&nbsp;</td><td colspan=4 style=\"text-align:left\"><span style=\"font-size:20px;\"><a class=\"ProveItLink\" href=\"../../../../__pv_it/common/09585084922504426caf1db2ff588a23a0932a960/expr.ipynb\"><img src=\"data:image/png;base64,iVBORw0KGgoAAAANSUhEUgAAAA8AAAAPBAMAAADJ+Ih5AAAAMFBMVEX///8QEBAiIiLu7u5ERES6\n",
       "urqYmJiIiIjMzMx2dnZUVFRmZmaqqqoyMjLc3NwAAABb1yYoAAAAAXRSTlMAQObYZgAAAAlwSFlz\n",
       "AAAOxAAADsQBlSsOGwAAAF9JREFUCNdjYACBtwxQcB9K8/yHMrjXP4Aw5s1vANN8BfUHIDIM5xPA\n",
       "jBiG/glgxgaG9wtANLv37vUOIIY5AwO/AkSGgUkASLMCdfB+ADIeAjHLPwYGk/+XGXj8/04AADnq\n",
       "Fzds8Dk2AAAAAElFTkSuQmCC\n",
       "\" style=\"display:inline;vertical-align:middle;\" /></a> : <a class=\"ProveItLink\" href=\"../__pv_it/demonstrations/74c69cf9fd60720513cbff8d3601d50aaf150cf50/expr.ipynb\"><img src=\"data:image/png;base64,iVBORw0KGgoAAAANSUhEUgAAADcAAAAPBAMAAACy3Eq1AAAAMFBMVEX///8QEBAiIiLu7u5ERES6\n",
       "urqYmJiIiIjMzMx2dnZUVFRmZmaqqqoyMjLc3NwAAABb1yYoAAAAAXRSTlMAQObYZgAAAAlwSFlz\n",
       "AAAOxAAADsQBlSsOGwAAAO9JREFUGNNjYACBtwx4wH00Ppv/r1VrPSBsnv8QOuvKVqgsowMDw/oG\n",
       "MJN7/QMQ1VTH3H0ZIvm+gIEhfgOYOW8+SBEHSOKtAVgkHyiQXwBi8RXUHwBSXCAVbGARhvVAfBFs\n",
       "HDfD+QQgxQRic0DMEmFgsNIAs2IY+ifAJPkWgJV8Ka+6BrF9A8P7BaiS7P8YGA4mgFneu9c7oEqy\n",
       "CDAwcP4AscwZGPgVUCX5gSTbd4ipDEwCqJL9QCO5vgIZrEAG7wdUyXqgL/ovABkPQXb8Q5W8CNQj\n",
       "CwwOk/+XGXj8/wL9wgISZgb5c8n/VauuAMMFAHSXQjjQ3TVrAAAAAElFTkSuQmCC\n",
       "\" style=\"display:inline;vertical-align:middle;\" /></a>, <a class=\"ProveItLink\" href=\"../../../../__pv_it/common/a9162d1c3cc0470c02e5daf414500903a7a419230/expr.ipynb\"><img src=\"data:image/png;base64,iVBORw0KGgoAAAANSUhEUgAAABAAAAAOBAMAAADUAYG5AAAAMFBMVEX///92dnaqqqoiIiLu7u5m\n",
       "Zma6urqIiIjc3NwQEBDMzMwyMjJUVFRERESYmJgAAAAeMT9/AAAAAXRSTlMAQObYZgAAAAlwSFlz\n",
       "AAAOxAAADsQBlSsOGwAAAHJJREFUCNdjYGB4+//Mmb0LGIBgLgMDzy8gzfGdgYHtK5DBB+TxATkM\n",
       "PB8YGLhnABmcFxhYDoMUr79efvoBSFN9AwPTPBDjJhDLg6T+APH7AgYGrn9AxvkEBgb2H0DObyCH\n",
       "ewIDQ+YWoHH3/5w5fYmBAQBWoiHo17XzsQAAAABJRU5ErkJggg==\n",
       "\" style=\"display:inline;vertical-align:middle;\" /></a> : <a class=\"ProveItLink\" href=\"../../../../__pv_it/common/a9162d1c3cc0470c02e5daf414500903a7a419230/expr.ipynb\"><img src=\"data:image/png;base64,iVBORw0KGgoAAAANSUhEUgAAABAAAAAOBAMAAADUAYG5AAAAMFBMVEX///92dnaqqqoiIiLu7u5m\n",
       "Zma6urqIiIjc3NwQEBDMzMwyMjJUVFRERESYmJgAAAAeMT9/AAAAAXRSTlMAQObYZgAAAAlwSFlz\n",
       "AAAOxAAADsQBlSsOGwAAAHJJREFUCNdjYGB4+//Mmb0LGIBgLgMDzy8gzfGdgYHtK5DBB+TxATkM\n",
       "PB8YGLhnABmcFxhYDoMUr79efvoBSFN9AwPTPBDjJhDLg6T+APH7AgYGrn9AxvkEBgb2H0DObyCH\n",
       "ewIDQ+YWoHH3/5w5fYmBAQBWoiHo17XzsQAAAABJRU5ErkJggg==\n",
       "\" style=\"display:inline;vertical-align:middle;\" /></a>, <a class=\"ProveItLink\" href=\"../../../../__pv_it/common/a0d9d672aa5e272d907247690c152cc2c6daafb70/expr.ipynb\"><img src=\"data:image/png;base64,iVBORw0KGgoAAAANSUhEUgAAAAsAAAAJBAMAAAAWSsseAAAAMFBMVEX///9ERES6uroQEBAyMjLc\n",
       "3NyYmJgiIiJmZmaqqqp2dnbMzMxUVFSIiIju7u4AAAAd7oVFAAAAAXRSTlMAQObYZgAAAAlwSFlz\n",
       "AAAOxAAADsQBlSsOGwAAAENJREFUCNdjYHh75/WqCQwMDbxnOQoY2ALY/vEkMHAzcDgwgADzBTCl\n",
       "H8D3gOGhwmEGLgaG+fuaGTQZGF7c5WybwAAAJTwQ1a2DuB8AAAAASUVORK5CYII=\n",
       "\" style=\"display:inline;vertical-align:middle;\" /></a> : <a class=\"ProveItLink\" href=\"../../../../core_expr_types/__pv_it/common/006c465e50948aa2b52285e2de47974f741255cc0/expr.ipynb\"><img src=\"data:image/png;base64,iVBORw0KGgoAAAANSUhEUgAAABgAAAAJBAMAAADa0/H1AAAAMFBMVEX///8yMjKqqqoiIiJmZmaY\n",
       "mJju7u4QEBC6urqIiIh2dnZUVFTc3NxERETMzMwAAAAY8qdrAAAAAXRSTlMAQObYZgAAAAlwSFlz\n",
       "AAAOxAAADsQBlSsOGwAAAElJREFUCNdjYICC0ytPwpgMHDUM9xNgnPQABme4jD8DgxWcU8vA9gPG\n",
       "ZvvJwPoBzvnEwC2gA+PdZFB2cGB4excIDjBkz3qz8wEAJxQUWRMzkfwAAAAASUVORK5CYII=\n",
       "\" style=\"display:inline;vertical-align:middle;\" /></a></span></td></tr><tr><td><a name=\"-0x7ae1a3013d06deba_step1\">1</a></td><td>conjecture</td><td></td><td><span style=\"font-size:20px;\"> <a class=\"ProveItLink\" href=\"proofs/fold_subset_eq/thm_proof.ipynb\" style=\"text-decoration: none\">&nbsp;&#x22A2;&nbsp;&nbsp;</a><a class=\"ProveItLink\" href=\"../__pv_it/theorems/104bbd8a360019a8dc7f0e04015813f9e7ec5e9f0/expr.ipynb\"><img src=\"data:image/png;base64,iVBORw0KGgoAAAANSUhEUgAAAO8AAAAXBAMAAAARnwX+AAAAMFBMVEX///+IiIgiIiIQEBB2dnbu\n",
       "7u5ERETMzMzc3NwyMjK6urpmZmaYmJiqqqpUVFQAAAB6qHgnAAAAAXRSTlMAQObYZgAAAAlwSFlz\n",
       "AAAOxAAADsQBlSsOGwAAA3lJREFUSMe1Vl1IFFEUPuPO7Mz+ukskVmayPRjVg0UUBcYGCxEmDBJB\n",
       "D20WuAYROw8h9JCuGUEvKlgREmlQ+RK4D2LWho3Sixk0EfRSlE/2I7gapvannXvv/Lmurg/rwJ17\n",
       "z/377v3Od84MwHo8Uo7xBKzTs5XBt680fh/LGGl8zC+uL0wr19SyEW98YfJbPXAqwDNi38kv8ClW\n",
       "fTaAi0KhUDlrOmoB0grcAmgknNTmF/g5qwbnWX252BpqCwD0JmEU+ZABeC2/wBX0zV+bo7Wwwzb0\n",
       "RsESAIcMXqTblWcXM1E1c/9o7e+2jaWxdCTAhah7Q6F9+QX2MG0lfX+Zxuxj+wGi6G4eNf0EoI72\n",
       "yRnLV7/V8lAMGA1yHQC3Js5Qs9E2R5wNlt4l6kZSWkGiISUcoEMNfyL9Cmk4qZ/kFU7wym6I8b6q\n",
       "emtegcYOLi1Qs9U2k0O9vcNz+VAGTpmnTuCZR7xlwFWYwG68RjQLrjBmYJbGcPUwwAZwh/U+B92v\n",
       "KDU4y85hW+fErXnUnIiR5gswJ/TsYVJIgnfKBAak5Gg2NxqCSVF2JlCqQILTAhbwyD/YXNVaV4gH\n",
       "9k7jhcjd2oeYi+6xVRrUqBbwSCyWLcjJLYIDWxIc27QShN0A1XaqCfHbmd1prWvC+f7feNsyNKrp\n",
       "STl4yiK8ZPQLWMBO4LIF+Q1ckBh3aSdZUp5+PYg3/2DwSWT2GEsXs6PfTd1uQ002IYtecpsW6q8e\n",
       "9BJ5hkGYsAHzytIgr2LVI1wLZ0W6PdVFNEk72RrcUCJcxnXpPzhnpMwOZPmgrEecn7qpL5KWdXe1\n",
       "dVvAwthbPb2nUkRsx5j1ibzmqSdiGtGFhPw1GIIrAyH+S4b3izcziBpfnJy8TRgsMJMKh3gKcxf0\n",
       "WuEE8LUOxJclSV1ip8+wXoIhVkhwydCFe86iGspz5pirZgs5K9SEMEg/QdhloxoaUOVibVhiKlId\n",
       "iiGuFr7dg7FIdSFDDVIdNDYbXetnBDk/DMKLTrESRmYi/Zod2Il+4gLgvkCo9gU3qUavZ/ORjSDV\n",
       "Ey90RaouYn3ejNYlac0TClmfRf0PJTNSfPZYt9KNU1EFmh2uAJ+kXWayOBGLGe4SzN2EXJ9ZZ2bC\n",
       "fZgV2D90XKF/M9whuL6T9Q1kSSrWbs05gIszO9SswIyMVJ/d5OXV0/f6/SnKa+hZ7fkPsDXLAsFW\n",
       "EgsAAAAASUVORK5CYII=\n",
       "\" style=\"display:inline;vertical-align:middle;\" /></a></span></td></tr>\n",
       "<tr><td>&nbsp;</td><td colspan=4 style-\"text-align:left\"><a class=\"ProveItLink\" href=\"proofs/fold_subset_eq/thm_proof.ipynb\">proveit.logic.sets.inclusion.fold_subset_eq</a></td></tr><tr><td><a name=\"-0x7ae1a3013d06deba_step2\">2</a></td><td>generalization</td><td><a href=\"#-0x7ae1a3013d06deba_step3\">3</a></td><td><span style=\"font-size:20px;\"> <a class=\"ProveItLink\" href=\"../__pv_it/demonstrations/ac6d8c43c735b1ac0daa16b5364418700e4a6ed00/proof.ipynb\" style=\"text-decoration: none\">&nbsp;&#x22A2;&nbsp;&nbsp;</a><a class=\"ProveItLink\" href=\"../__pv_it/demonstrations/bcf3064cb8dd15dc40c29a2cd40eb4334a6d8a210/expr.ipynb\"><img src=\"data:image/png;base64,iVBORw0KGgoAAAANSUhEUgAAAK0AAAAVBAMAAADGGHNoAAAAMFBMVEX///8AAAAAAAAAAAAAAAAA\n",
       "AAAAAAAAAAAAAAAAAAAAAAAAAAAAAAAAAAAAAAAAAAAv3aB7AAAAD3RSTlMAq1RmmUTNIjK7EInv\n",
       "3XZ/CtNrAAAACXBIWXMAAA7EAAAOxAGVKw4bAAACgUlEQVQ4y62VT2jTcBTHv23SpknbrAWZimAL\n",
       "ghdFehg7CG7FdeLYwcJABopORcSxQwcelcajqHQeZIugZscxpP45KPRSFUURZchAL4EMD1MRraJM\n",
       "J6jvl792jV0Uf/AjL+/38skv3/feL8DfjtJ/CWkZcnb1mAM0U8zYFJy7pd0id/VjunMKcg7oZ/fH\n",
       "AmOlkbbLiQkgo2AUOE13wkRgLp9ru1w2gIN5dAFRDYhnA3MTfs43um5/Rq9C00BCA0cbiAaXd7OP\n",
       "b+9b18zQHCshStCnuv4kOHfQM4UNi4Z5HfV8j4HplyQAVcNu4JIvQvNzHvHM/SVxmV2jXrnGvr1f\n",
       "YBEcyTIOIeWb+UeOdeZzbUCx7efe+n3wcyb3t+JeAraSBuE6IGrxYhMwtqAyR/wTcEK9QEBuDnLd\n",
       "XnzgVUYDyevMOKfTsCpKpLD4V0I0iG2sSFvB2tvwM0TWQtoJhPLgGi1cKtWquaEZ79EO+nLuBxBh\n",
       "2xjpcf2zPbfNZmHDOIQQXWgmsriWa9GhaqDXNJIet0JhoS+0VybQTTef0ovYkvN6GbsgWtzyq651\n",
       "TsgVj5tFZ5ilTDZc3we6r1DOOCbLSTdtfD5Wx5BlD+Odw90BaY0TcsNliEZ4njetw65vjCR4SHXE\n",
       "M+FDiitZUU6hW1VV6r/BWkazuQQtO6k9T0mhAHUS0sY7469N3/RFuyTX/0ynj7PeTTZXQrUkbtfO\n",
       "2jKgrNjce9TzzruTik9J7rusNx9Hp1Y0f6kypInmy0mNjqzFFZYhzbsnYT5IV/a5PVkoFPoR6dt2\n",
       "C8IUU/oupD1HmXw8ur/XBryDaTIA1v98nFXV4p+fmQnAFf/hRyQYq8csAr8AnpiQq31B/0sAAAAA\n",
       "SUVORK5CYII=\n",
       "\" style=\"display:inline;vertical-align:middle;\" /></a></span></td></tr>\n",
       "<tr><td><a name=\"-0x7ae1a3013d06deba_step3\">3</a></td><td>instantiation</td><td><a href=\"#-0x7ae1a3013d06deba_step4\">4</a>, <a href=\"#-0x7ae1a3013d06deba_step5\">5</a></td><td><span style=\"font-size:20px;\"><a class=\"ProveItLink\" href=\"../__pv_it/demonstrations/a9aac2a8e4b9633efbdcea973f6d6748c8a5419a0/expr.ipynb\"><img src=\"data:image/png;base64,iVBORw0KGgoAAAANSUhEUgAAAHcAAAAVBAMAAACOK2zoAAAAMFBMVEX///8AAAAAAAAAAAAAAAAA\n",
       "AAAAAAAAAAAAAAAAAAAAAAAAAAAAAAAAAAAAAAAAAAAv3aB7AAAAD3RSTlMAMrsiq4l2RO8QZpnd\n",
       "VM2humBGAAAACXBIWXMAAA7EAAAOxAGVKw4bAAAB1klEQVQ4y2NgwA2YGfABA7yyDLkQIx5gly3D\n",
       "q5c3AEzxfUATX/TfxeWRAAPbAnya50Go+xDNXH7aBVCJJgYGlo8MDC/xad4FobZ8BpGMxwwm7psA\n",
       "8cc3Bgb23wwMq7HoSTpzBuLLBjDJavoRRMkBNTJD7OICCnABDeCYgKG3LhPmZYgRZmx/QZQjiFgG\n",
       "FmEB+oOvGYgRnjYJMwO7Ce4Tbkh4beD9BaIOgAhpsAiHAgOnjwDQTQ4wpezNDPogZ/DBow9iMPsF\n",
       "xq9wzSZgCXm1ND+QHBc8DmcsYNgD1gJ3Cs8FsP0MzF/QNOcbMPB2gfzVAFO6n4HhKIiWOAMECmDX\n",
       "gWMmafeWT2iaNYA4HuhsRngCaGLg/A6iJ8FtBmvmTGBg+IOmGeSS9UBxdpjNnN8YuMAG8aA6mxuI\n",
       "T6BqZgQFoD/QZN4DMM1/GVgeXAYy2BJgmplArCogfo+qmQ2YaBj/gQJMAaZUjeHOhg0gxluYCCgm\n",
       "mEEu0zdA0cwHFKt4CYlLISUgMGCYkirsJgCSm6IOTTiMBxg49f9NYLj0/ymQB7ZlNiiJ6H9x8dMF\n",
       "+6sAM3mW6kCT50H8GZbBBp/kagKad+GTZMJfVjAr4JPlxCtLyGwzvLLJDAwAcbhxyYgRMBEAAAAA\n",
       "SUVORK5CYII=\n",
       "\" style=\"display:inline;vertical-align:middle;\" /></a> <a class=\"ProveItLink\" href=\"../__pv_it/demonstrations/4e2886a1d9f8a655c98885c053d893d182aa174b0/proof.ipynb\" style=\"text-decoration: none\">&nbsp;&#x22A2;&nbsp;&nbsp;</a><a class=\"ProveItLink\" href=\"../__pv_it/demonstrations/385a2f2d7fdad4a9aa50fc848f9c2f0c0b5908fd0/expr.ipynb\"><img src=\"data:image/png;base64,iVBORw0KGgoAAAANSUhEUgAAAEEAAAAPBAMAAABJi79qAAAAMFBMVEX///8AAAAAAAAAAAAAAAAA\n",
       "AAAAAAAAAAAAAAAAAAAAAAAAAAAAAAAAAAAAAAAAAAAv3aB7AAAAD3RSTlMAMrsiq4l2RO8QZpnd\n",
       "VM2humBGAAAACXBIWXMAAA7EAAAOxAGVKw4bAAAA5UlEQVQY02NgwAm49L+4+Cky4AMcCgwM/gL4\n",
       "VNgnMDDUb8AUZ9M5cw7CWg/Uvz4BQwH7swkwpj8QvzCAy5iEmYFpO7gChiYGhikHEVqbGfTBco/h\n",
       "Qoyf0lJeIQyfsYBhD5jxAOGgzwwMNxbAufsZGI6CNfacOXPmEFiIqYGBgfUjkp2c30E0pwJciN8B\n",
       "GGrfYDzObwxcH8CsA3AV8kAbWL7DVfxlYHlwGcRKg6vIB3pUHuEsNYY7G8DBx3cBJvQC6MM+oP+E\n",
       "lIDAgGFKqrAbOAo4nSohCpz+u7g8uoAtNtiDYKEOAQAa7Ti5ks3T8AAAAABJRU5ErkJggg==\n",
       "\" style=\"display:inline;vertical-align:middle;\" /></a></span></td></tr>\n",
       "<tr><td>&nbsp;</td><td colspan=4 style=\"text-align:left\"><span style=\"font-size:20px;\"><a class=\"ProveItLink\" href=\"../../../../__pv_it/common/09585084922504426caf1db2ff588a23a0932a960/expr.ipynb\"><img src=\"data:image/png;base64,iVBORw0KGgoAAAANSUhEUgAAAA8AAAAPBAMAAADJ+Ih5AAAAMFBMVEX///8QEBAiIiLu7u5ERES6\n",
       "urqYmJiIiIjMzMx2dnZUVFRmZmaqqqoyMjLc3NwAAABb1yYoAAAAAXRSTlMAQObYZgAAAAlwSFlz\n",
       "AAAOxAAADsQBlSsOGwAAAF9JREFUCNdjYACBtwxQcB9K8/yHMrjXP4Aw5s1vANN8BfUHIDIM5xPA\n",
       "jBiG/glgxgaG9wtANLv37vUOIIY5AwO/AkSGgUkASLMCdfB+ADIeAjHLPwYGk/+XGXj8/04AADnq\n",
       "Fzds8Dk2AAAAAElFTkSuQmCC\n",
       "\" style=\"display:inline;vertical-align:middle;\" /></a> : <a class=\"ProveItLink\" href=\"../__pv_it/demonstrations/4527b4e5b2bda984a0f6320fd23dce0676cc25150/expr.ipynb\"><img src=\"data:image/png;base64,iVBORw0KGgoAAAANSUhEUgAAAEAAAAAQBAMAAABUyWQaAAAAMFBMVEX///8AAAAAAAAAAAAAAAAA\n",
       "AAAAAAAAAAAAAAAAAAAAAAAAAAAAAAAAAAAAAAAAAAAv3aB7AAAAD3RSTlMAMrsiq4l2RO8QZpnd\n",
       "VM2humBGAAAACXBIWXMAAA7EAAAOxAGVKw4bAAAAzklEQVQoz2NgwAeYHzDgB3wfCCi4T0jBls9Y\n",
       "BJPOnIHZzGr6EVO+LhPBNmP7i+CYhJmB3f0SSfEG3l9wNnszg/4EkLsNEPLsFxi/wjkzFjDsAXsM\n",
       "yQBuBuYvcM5+BoajIFriDBAoQJ27e8snuIImBs7vIHoSwgDOBAaGP3DONwYucKDwINvAwHACruAv\n",
       "A8uDy0AGWwJcQRUQv4fz1BjubNgAYryFR1QDkNA3YBBSAgIDhimpwm4CIPEp6hMgZur/m8Bw6f9T\n",
       "zKAs1TmDHMkAr4g2NZ6TzgEAAAAASUVORK5CYII=\n",
       "\" style=\"display:inline;vertical-align:middle;\" /></a>, <a class=\"ProveItLink\" href=\"../../../../__pv_it/common/a9162d1c3cc0470c02e5daf414500903a7a419230/expr.ipynb\"><img src=\"data:image/png;base64,iVBORw0KGgoAAAANSUhEUgAAABAAAAAOBAMAAADUAYG5AAAAMFBMVEX///92dnaqqqoiIiLu7u5m\n",
       "Zma6urqIiIjc3NwQEBDMzMwyMjJUVFRERESYmJgAAAAeMT9/AAAAAXRSTlMAQObYZgAAAAlwSFlz\n",
       "AAAOxAAADsQBlSsOGwAAAHJJREFUCNdjYGB4+//Mmb0LGIBgLgMDzy8gzfGdgYHtK5DBB+TxATkM\n",
       "PB8YGLhnABmcFxhYDoMUr79efvoBSFN9AwPTPBDjJhDLg6T+APH7AgYGrn9AxvkEBgb2H0DObyCH\n",
       "ewIDQ+YWoHH3/5w5fYmBAQBWoiHo17XzsQAAAABJRU5ErkJggg==\n",
       "\" style=\"display:inline;vertical-align:middle;\" /></a> : <a class=\"ProveItLink\" href=\"../__pv_it/demonstrations/385a2f2d7fdad4a9aa50fc848f9c2f0c0b5908fd0/expr.ipynb\"><img src=\"data:image/png;base64,iVBORw0KGgoAAAANSUhEUgAAAEEAAAAPBAMAAABJi79qAAAAMFBMVEX///8AAAAAAAAAAAAAAAAA\n",
       "AAAAAAAAAAAAAAAAAAAAAAAAAAAAAAAAAAAAAAAAAAAv3aB7AAAAD3RSTlMAMrsiq4l2RO8QZpnd\n",
       "VM2humBGAAAACXBIWXMAAA7EAAAOxAGVKw4bAAAA5UlEQVQY02NgwAm49L+4+Cky4AMcCgwM/gL4\n",
       "VNgnMDDUb8AUZ9M5cw7CWg/Uvz4BQwH7swkwpj8QvzCAy5iEmYFpO7gChiYGhikHEVqbGfTBco/h\n",
       "Qoyf0lJeIQyfsYBhD5jxAOGgzwwMNxbAufsZGI6CNfacOXPmEFiIqYGBgfUjkp2c30E0pwJciN8B\n",
       "GGrfYDzObwxcH8CsA3AV8kAbWL7DVfxlYHlwGcRKg6vIB3pUHuEsNYY7G8DBx3cBJvQC6MM+oP+E\n",
       "lIDAgGFKqrAbOAo4nSohCpz+u7g8uoAtNtiDYKEOAQAa7Ti5ks3T8AAAAABJRU5ErkJggg==\n",
       "\" style=\"display:inline;vertical-align:middle;\" /></a></span></td></tr><tr><td><a name=\"-0x7ae1a3013d06deba_step4\">4</a></td><td>theorem</td><td></td><td><span style=\"font-size:20px;\"> <a class=\"ProveItLink\" href=\"../../../booleans/conjunction/_theory_nbs_/proofs/right_from_and/thm_proof.ipynb\" style=\"text-decoration: none\">&nbsp;&#x22A2;&nbsp;&nbsp;</a><a class=\"ProveItLink\" href=\"../../../booleans/conjunction/__pv_it/theorems/53f934d959ef00a2d007db63433e676c9774b52c0/expr.ipynb\"><img src=\"data:image/png;base64,iVBORw0KGgoAAAANSUhEUgAAAHMAAAAVBAMAAACHwMySAAAAMFBMVEX///+IiIgiIiIQEBB2dnbu\n",
       "7u5ERETMzMzc3NwyMjK6urpmZmaYmJiqqqpUVFQAAAB6qHgnAAAAAXRSTlMAQObYZgAAAAlwSFlz\n",
       "AAAOxAAADsQBlSsOGwAAAXtJREFUOMuVk79Lw0AUx7/BpE1tWiOuotLFwUVFFIeKQ1ch+AdIF3G0\n",
       "k6MV3G1BFBGRLqVLwQ5S0cXoJg4GXB2cFBESBX+h+OPdRfFMDOUeHO97n3ffcHkvwSUoLiATxvyH\n",
       "ezMHHLDNhpQVbXnAK2CRpJ6Xs5ZMYKeBhAWojpz1rEDLhGEDCTknPFqrS8BwJjMiaR0FZvop7wGz\n",
       "HFh/68kfYQWd8afOni0mVqDzAWljnC+85ZoFJmLfB4McUF6Ac5sdsdQKA+q7P7Q+KIOiNcipQll9\n",
       "JpEy/S7VhnhKN2DcidYgBzrolsY9U+UjDsxtf9wOpm3RGuRAkXL6lampNf4C2PfH3X16DcEa4kAv\n",
       "zaVYZmqZd6mGLs6Pod2K1hCnkQLt47zvad643ZzHd1QvVQRriOPq03XXhe9PoQp/RJY+T2E4YR6K\n",
       "OjXO0SahP0IbEC4c5sFITkA73IxncfKQazq/1n94RKQEHYvgEVGNsFZbW+0Iqy33Z+mtDnwBDMxs\n",
       "w5dQkiYAAAAASUVORK5CYII=\n",
       "\" style=\"display:inline;vertical-align:middle;\" /></a></span></td></tr>\n",
       "<tr><td>&nbsp;</td><td colspan=4 style-\"text-align:left\"><a class=\"ProveItLink\" href=\"../../../booleans/conjunction/_theory_nbs_/proofs/right_from_and/thm_proof.ipynb\">proveit.logic.booleans.conjunction.right_from_and</a></td></tr><tr><td><a name=\"-0x7ae1a3013d06deba_step5\">5</a></td><td>instantiation</td><td><a href=\"#-0x7ae1a3013d06deba_step6\">6</a>, <a href=\"#-0x7ae1a3013d06deba_step7\">7</a>, <a href=\"#-0x7ae1a3013d06deba_step8\">8</a>, <a href=\"#-0x7ae1a3013d06deba_step9\">9</a></td><td><span style=\"font-size:20px;\"><a class=\"ProveItLink\" href=\"../__pv_it/demonstrations/a9aac2a8e4b9633efbdcea973f6d6748c8a5419a0/expr.ipynb\"><img src=\"data:image/png;base64,iVBORw0KGgoAAAANSUhEUgAAAHcAAAAVBAMAAACOK2zoAAAAMFBMVEX///8AAAAAAAAAAAAAAAAA\n",
       "AAAAAAAAAAAAAAAAAAAAAAAAAAAAAAAAAAAAAAAAAAAv3aB7AAAAD3RSTlMAMrsiq4l2RO8QZpnd\n",
       "VM2humBGAAAACXBIWXMAAA7EAAAOxAGVKw4bAAAB1klEQVQ4y2NgwA2YGfABA7yyDLkQIx5gly3D\n",
       "q5c3AEzxfUATX/TfxeWRAAPbAnya50Go+xDNXH7aBVCJJgYGlo8MDC/xad4FobZ8BpGMxwwm7psA\n",
       "8cc3Bgb23wwMq7HoSTpzBuLLBjDJavoRRMkBNTJD7OICCnABDeCYgKG3LhPmZYgRZmx/QZQjiFgG\n",
       "FmEB+oOvGYgRnjYJMwO7Ce4Tbkh4beD9BaIOgAhpsAiHAgOnjwDQTQ4wpezNDPogZ/DBow9iMPsF\n",
       "xq9wzSZgCXm1ND+QHBc8DmcsYNgD1gJ3Cs8FsP0MzF/QNOcbMPB2gfzVAFO6n4HhKIiWOAMECmDX\n",
       "gWMmafeWT2iaNYA4HuhsRngCaGLg/A6iJ8FtBmvmTGBg+IOmGeSS9UBxdpjNnN8YuMAG8aA6mxuI\n",
       "T6BqZgQFoD/QZN4DMM1/GVgeXAYy2BJgmplArCogfo+qmQ2YaBj/gQJMAaZUjeHOhg0gxluYCCgm\n",
       "mEEu0zdA0cwHFKt4CYlLISUgMGCYkirsJgCSm6IOTTiMBxg49f9NYLj0/ymQB7ZlNiiJ6H9x8dMF\n",
       "+6sAM3mW6kCT50H8GZbBBp/kagKad+GTZMJfVjAr4JPlxCtLyGwzvLLJDAwAcbhxyYgRMBEAAAAA\n",
       "SUVORK5CYII=\n",
       "\" style=\"display:inline;vertical-align:middle;\" /></a> <a class=\"ProveItLink\" href=\"../__pv_it/demonstrations/0d4c84d043731da3bc4ef92bf2467b3cf35531910/proof.ipynb\" style=\"text-decoration: none\">&nbsp;&#x22A2;&nbsp;&nbsp;</a><a class=\"ProveItLink\" href=\"../__pv_it/demonstrations/a3e81223bbaf6759bf020f0bb5b020cf06e4f6720/expr.ipynb\"><img src=\"data:image/png;base64,iVBORw0KGgoAAAANSUhEUgAAALgAAAAVBAMAAAAHnznEAAAAMFBMVEX///8AAAAAAAAAAAAAAAAA\n",
       "AAAAAAAAAAAAAAAAAAAAAAAAAAAAAAAAAAAAAAAAAAAv3aB7AAAAD3RSTlMAInZUiRDNmWbv3US7\n",
       "qzJazP2FAAAACXBIWXMAAA7EAAAOxAGVKw4bAAACoklEQVQ4y42UTWgTURDHp0k3H9tNuvQQECxd\n",
       "q4IHbSsUxV78uloNHgQhoalSaEEwUEHxYk71okQPitgeAorCVkrBD+jJtBehiglFempIPCpCakUv\n",
       "VePM7Gbfdl12d2H37Zud3+y8+b95AKCC39URwOLuEhrydkoBdGlO417/4AwN+zhdxfuAwxY+4QHE\n",
       "Kn9q6x8ZknLescMtfETSxuS0abzgicTLAPUGQdGCd/BoHTWJ5fldemYab3gifViQt3mC4i5fQ6t6\n",
       "OwycPNfA5wPDfnfRMN5zgQ7qulmEIhJFjaAjLlJcSgvNtUESfJIncrJslMqllG/2W691vKdUgq7Z\n",
       "Ns+nPbwtUmlbVeA41W2UJ8Mwbhhtevae6mF2QpjmALILDE0K45Kq/KRx3JbQS2hSpBkwPhzlMSJ0\n",
       "6roPFcolIrol+bv/EEedgSeWUXoE0RK92Bedh74qDseYqoLMi5JFa1wswE3+n02x7+hfYGhWVGAT\n",
       "ZMoy+VjX9Rem47vrdapzkyaJBoS4bvFFC7oF8JTGL8johiIKyt35l6FZ+/YcI0oqiyzOA3TTapbM\n",
       "3S2VHMHnQNqmMSOYblxqbIshUZYxDYr8UrJXBWTadyPtFpreWRZpC2KbbBJME0uS2GZoRQQfgvUw\n",
       "6dIv5EK/CMF32j9N8cKts0b6AYncYaqfOH4GMUYzx9CoZVS08PMoi2MltovMqA9v2BjxCrVUZ9WC\n",
       "VmAkz+172TJNYVIP0wx9RQU/4LUM0trZ3gFOZ+O14ZZpTUC48gtVnic9CUjSH5K4hm8EqZDd93mN\n",
       "/gfZ92Z3bLRqtSuc3jzIDZcWPSPa32iv0k6HBZf2f7Wq55yQeSb5nF6O0+02BISWA/jtdswVNSCU\n",
       "CeDnTMDeCp5Qh+brFvov0R4IAv0D4oabrQi7k2kAAAAASUVORK5CYII=\n",
       "\" style=\"display:inline;vertical-align:middle;\" /></a></span></td></tr>\n",
       "<tr><td>&nbsp;</td><td colspan=4 style=\"text-align:left\"><span style=\"font-size:20px;\"><a class=\"ProveItLink\" href=\"../../../../__pv_it/common/674a03b9c3ca221b3aabd5636837b31528ff33830/expr.ipynb\"><img src=\"data:image/png;base64,iVBORw0KGgoAAAANSUhEUgAAABIAAAAJBAMAAADN8WE8AAAAMFBMVEX///8yMjJmZmYiIiIQEBCq\n",
       "qqqYmJjMzMxERER2dnbc3Nzu7u5UVFSIiIi6uroAAACibcT0AAAAAXRSTlMAQObYZgAAAAlwSFlz\n",
       "AAAOxAAADsQBlSsOGwAAAF9JREFUCNdj4Luza24v+8w+BgZOjrMM+/MYQhgY3jE3MKy/wJDPwLBh\n",
       "/wOG+A0MigwMDPEMIMoTyDrIwGDJwPeLG8Tj/sfAI7CMges7A9sHBo4JExj4DBh4FRj4dBcAAHmM\n",
       "Fol5FJjkAAAAAElFTkSuQmCC\n",
       "\" style=\"display:inline;vertical-align:middle;\" /></a> : <a class=\"ProveItLink\" href=\"../../../../numbers/numerals/__pv_it/common/af4aab8a07465db063742696e006d04670f30cf10/expr.ipynb\"><img src=\"data:image/png;base64,iVBORw0KGgoAAAANSUhEUgAAAAkAAAAOBAMAAAAPuiubAAAAMFBMVEX///+qqqqYmJiIiIgiIiLu\n",
       "7u4QEBBUVFS6urp2dnbMzMxEREQyMjJmZmbc3NwAAADzFso2AAAAAXRSTlMAQObYZgAAAAlwSFlz\n",
       "AAAOxAAADsQBlSsOGwAAAE9JREFUCNdj4Lt7egEDw2sGzh8MDHUMDGkMDPkBDPUPGEoYGOqBEgwM\n",
       "/iCC6zOIZCkAkbdBBBOYKcnA94CBawIDcwDDk7t3rwAV////hwEAK9UUlDYDfx8AAAAASUVORK5C\n",
       "YII=\n",
       "\" style=\"display:inline;vertical-align:middle;\" /></a>, <a class=\"ProveItLink\" href=\"../../../../__pv_it/common/a0d9d672aa5e272d907247690c152cc2c6daafb70/expr.ipynb\"><img src=\"data:image/png;base64,iVBORw0KGgoAAAANSUhEUgAAAAsAAAAJBAMAAAAWSsseAAAAMFBMVEX///9ERES6uroQEBAyMjLc\n",
       "3NyYmJgiIiJmZmaqqqp2dnbMzMxUVFSIiIju7u4AAAAd7oVFAAAAAXRSTlMAQObYZgAAAAlwSFlz\n",
       "AAAOxAAADsQBlSsOGwAAAENJREFUCNdjYHh75/WqCQwMDbxnOQoY2ALY/vEkMHAzcDgwgADzBTCl\n",
       "H8D3gOGhwmEGLgaG+fuaGTQZGF7c5WybwAAAJTwQ1a2DuB8AAAAASUVORK5CYII=\n",
       "\" style=\"display:inline;vertical-align:middle;\" /></a> : <a class=\"ProveItLink\" href=\"../../../../core_expr_types/__pv_it/common/006c465e50948aa2b52285e2de47974f741255cc0/expr.ipynb\"><img src=\"data:image/png;base64,iVBORw0KGgoAAAANSUhEUgAAABgAAAAJBAMAAADa0/H1AAAAMFBMVEX///8yMjKqqqoiIiJmZmaY\n",
       "mJju7u4QEBC6urqIiIh2dnZUVFTc3NxERETMzMwAAAAY8qdrAAAAAXRSTlMAQObYZgAAAAlwSFlz\n",
       "AAAOxAAADsQBlSsOGwAAAElJREFUCNdjYICC0ytPwpgMHDUM9xNgnPQABme4jD8DgxWcU8vA9gPG\n",
       "ZvvJwPoBzvnEwC2gA+PdZFB2cGB4excIDjBkz3qz8wEAJxQUWRMzkfwAAAAASUVORK5CYII=\n",
       "\" style=\"display:inline;vertical-align:middle;\" /></a>, <a class=\"ProveItLink\" href=\"../../../../__pv_it/common/09585084922504426caf1db2ff588a23a0932a960/expr.ipynb\"><img src=\"data:image/png;base64,iVBORw0KGgoAAAANSUhEUgAAAA8AAAAPBAMAAADJ+Ih5AAAAMFBMVEX///8QEBAiIiLu7u5ERES6\n",
       "urqYmJiIiIjMzMx2dnZUVFRmZmaqqqoyMjLc3NwAAABb1yYoAAAAAXRSTlMAQObYZgAAAAlwSFlz\n",
       "AAAOxAAADsQBlSsOGwAAAF9JREFUCNdjYACBtwxQcB9K8/yHMrjXP4Aw5s1vANN8BfUHIDIM5xPA\n",
       "jBiG/glgxgaG9wtANLv37vUOIIY5AwO/AkSGgUkASLMCdfB+ADIeAjHLPwYGk/+XGXj8/04AADnq\n",
       "Fzds8Dk2AAAAAElFTkSuQmCC\n",
       "\" style=\"display:inline;vertical-align:middle;\" /></a> : <a class=\"ProveItLink\" href=\"../__pv_it/theorems/e791ee87807ed43d7ac6262f8f70c4ffc8f24c940/expr.ipynb\"><img src=\"data:image/png;base64,iVBORw0KGgoAAAANSUhEUgAAADUAAAAVBAMAAAAUZLt1AAAAMFBMVEX////MzMxUVFRERES6uroi\n",
       "IiIQEBCYmJhmZmYyMjLu7u52dnaqqqqIiIjc3NwAAACW8nlqAAAAAXRSTlMAQObYZgAAAAlwSFlz\n",
       "AAAOxAAADsQBlSsOGwAAAUpJREFUKM9tkj1PwlAUhh/lo3wUYXGG4ORU3FwUf4BGHNwcmujixuhG\n",
       "N01cSEwwYZHITEL8AcpkYhxs3BUWTZzAj4VB8PS2pY2hyW3O+z7nvje9p8CAeY9yMz1Vf/xjO87r\n",
       "0a2vfFMrfxVX18hUIVVXjj6d7YiXwMjRhERVGQljduzQhl2LE+lyjdu7nM9qUtVs4i0elF6y+z2f\n",
       "GbIaA5JVzt1Inqo+O4TrPUgXuFR6m3zXQwvfL8+OqdU5UIbFsOCxzATuJUQ3OVJ6/cwoeSxiSt6n\n",
       "7B+5rAPZiseyEqD9QtR0My2ImR7LS97ij2RW2BAZFZkcQcthfbmEvFyWVuJG5LtzzITU2GEN6T2W\n",
       "rkSXZWhPm+jlcZd9sVamxeKFcw+xLWK5YC56KzSkN4m1ApkOD/BU1mYgOyG05HxvO9B2iEUGagRz\n",
       "/5dX+AMztUqyA63XggAAAABJRU5ErkJggg==\n",
       "\" style=\"display:inline;vertical-align:middle;\" /></a></span></td></tr><tr><td><a name=\"-0x7ae1a3013d06deba_step6\">6</a></td><td>conjecture</td><td></td><td><span style=\"font-size:20px;\"> <a class=\"ProveItLink\" href=\"../../intersection/_theory_nbs_/proofs/membership_unfolding/thm_proof.ipynb\" style=\"text-decoration: none\">&nbsp;&#x22A2;&nbsp;&nbsp;</a><a class=\"ProveItLink\" href=\"../../intersection/__pv_it/theorems/60e7cdc63e38288d2864b41329640b03255070960/expr.ipynb\"><img src=\"data:image/png;base64,iVBORw0KGgoAAAANSUhEUgAAAt8AAAAZBAMAAAAbCl93AAAAMFBMVEX///+IiIgiIiIQEBB2dnbu\n",
       "7u5ERETMzMzc3NwyMjK6urpmZmaYmJiqqqpUVFQAAAB6qHgnAAAAAXRSTlMAQObYZgAAAAlwSFlz\n",
       "AAAOxAAADsQBlSsOGwAAB6lJREFUaN7tWn1sFEUUf3e9vdve7rZXCA1KrZcjhIgxOQwEQ5TUpPiV\n",
       "AAcihmDwNOFKapSFIv6FXAEbDQltjDXEgJwBRROqB5TwUcDjnyoU9SiNCULkqkGNMdIYEZqIdT53\n",
       "Z/d2b69IYjG+ZObm7cx7b/a3b96bmRagDPoulob/6RbQuFi+rHEdY/gdZFylyxnk8cRG6VFNoIwx\n",
       "ZJyau+0BvwsVn5vfyGzm4YiTmCO9wX7fG80EShpn9skcEOAF/OCiF+BV+EfLjT28tQZUDbj1Vg6x\n",
       "Rp2TmCPtZL++3CgmUNo4s19HAT+K+W1egCsZrGEMRvKlqEiuK/ASf+fKBP2dJ4g54zfCW51gFbFR\n",
       "IO+hyTTO7OOCAH8VO3/SC/AQXghtYzCiHENFcXXGE9dZQ82SH+keQcyRlCvcq/rAKmKjRR0emkzj\n",
       "zD4pOYJ7IO8Zwzvdv/W/SnFUKixPamMx7vGBzdf405k0TnyZMcUcRR5boLNWRcIqYqO6nz00CcaZ\n",
       "/ZkEcJw3K72T5pmxmTs1PKfz4pOPJpjtVt8N3txOan8oaYo5iciRu7nzVeYsInaKriutSTTO7G+n\n",
       "u5T7Y7EZ3oBXxGKTG8Ye4AqeUzcqC+ufbsRQyZ1Cb1b7kzfnk3qAZSssJtVcXkvWrCiiwCUenwIF\n",
       "i0hRrqQZjUzAyzizP58CfghghTfgig7BxNgDnLgh9p6sb1CJ2hJ7OB/6nbdPAd0cXDDEFKiP7Aeb\n",
       "SBds4G6ldlhE7IbTWtaYgJdxZv8UBXwryAXnPCwCjsZsFTslV8YkywdSinwkXTTGVZO908cbfuxY\n",
       "96EXSatXq/C7V1pMyn/x9jlcodTvT3Cxz+GrxC9gE8lCOwdDi1tEbIT2GlO4Jk/jzP45CngwEbCl\n",
       "hY3dGXWOCBH+1ivgCXHMk7obY+IzS+SC9u7TxWPcNBV3Znlmw1OfjXABhTpkSwwRi7q1PSf+QCaI\n",
       "c2/AVZUOvggX0+EI2EV8L/RcSYLU+CvCODRkEbHRjwA1XFMJ4wZtoAUDrkXEDxOqT2W0wlw4aAf8\n",
       "rDVnLsi7MeYKueEG+OofmkEqiGO2pF7SRU2cd+xEtNsGOGpRWJYIHxw9+Q0ZG4eZXWzPLEUNMZgO\n",
       "dpGFANVR9OI4QITjFhGbMyEwFpmaXI0btIsWcrTvOCl09KBX004q0GAHvFIVP3S4JeLCmLRnugvg\n",
       "yiFcZYQx4Z9AOi5o4rxjp3iQ4SEF4JO0hJ/5rUFsMir9wCucI48bYuHr8BRYRdDC8cehOiOjHZ0W\n",
       "tYgUH3uUPNdUwjinfloI4PNQblWPra739er0QKut/zDSEOjZ33NUADxwHqn0TWo9TNdepRD3LYxJ\n",
       "kXeLAScK6szXZGOqWOGaOO/YKZ7zgvgbPId8K/M9zTnC+t/LDuoE616yleN3JUhMaq6KQ4NVJJwj\n",
       "B3I1gQFXkxYRK/n5XQmeQAnjfZ/VFOqamP1eBvgm9B7P7MpVFHwFuig0fe43RR4uo6gOE6uSOyhQ\n",
       "ihBgLIyQ2I4UA44VSEnjkoiPCTJMuaagCLi9k0wxK+zd0Hbr0ssH0A4D0w5jS41Dwqo0AxxvHcka\n",
       "DepUTLu2LB7OW0U24X58PgxE2YbPEJGGUePZDl6RoNDEJuBuXDr9IMyBema/mwGO8gK8dgdU68jE\n",
       "Xgq44kvaAcdpAnLBCImmYd0XB5ntJgnTNcl+INsD44sBxwrCZKf7gTGmLcExNTQ5AU46DV9kqSmE\n",
       "PXANwLIa7RhFb3kzjTbSquEEfD3yFgN8GlaCe0IRKibti1z4AiwiS0Y6QVs1jIBegx74MxaRe7Ff\n",
       "Z3l1maQiNgF34/LCDrhGwJ5Gi3k9OwgtOB6dSqVSeU2XGjqKACdUTXeaSuP8q7B+CphMXBqyAd7d\n",
       "eCVRHMORAvXtVOpF+JaPCfUbgBuanAAnnUZu58e/qRgCy9Zm9/Mx64LDgMu2xDcVSokQV9pY3kmg\n",
       "tKaqSCiOcwy2j4sJ+CyohfYQrKUeDl0R2z6cUQu9mI8AjnIMcMKkQ3F7RIF2XT1+5uiALgKOFIRI\n",
       "5FzHx+B9LsPU0OQEOOnsu9jX9agQUsgVk5otCUm/w/1WX0mJLfB6qVupUWiq0H1JeUgn9nExAJeH\n",
       "kI/3KvQ0qWbAV3D6A4QcfxyyUgNJLjcI4CYTzMBizLIKB6fqvFYLs9mFcdBQQA+2fmBjTMBNTZRn\n",
       "qsTOs8mKzICYnoLYAVZ6Am6/6AyWummWm1456HmDWpYmaEc+riazxH4bCICHC+gMu3UCsoVj4jYA\n",
       "R8Bh3+6aROghOFCAZcMZDLjJoK1eSz70ALSkcZVX5oD06TvQJHUoecHDsQJo0+lE2RgEuEI2UqYm\n",
       "ylNVabEzqC8luzTjNUkGXlLqnTfvfLj4k0il4KwYGRnyALJMTfAxOu7LgwlifyU4/YltcSqVcbpL\n",
       "Ec/kvDFFYAIJ5HPmwYS3olqDX7Xvw6VHUs0QNq7CbEdnosmN/DAA0ZwIcSu54/NAxVeEXqsXkBPL\n",
       "vc5pLWMMtk/mcFN/03yfnxdn5E1m50gUwgZyvCUVfJmqic5H+8M8/4233rNjTa60HO6EwbQpfLvR\n",
       "TQGec2NUh5b7XUrgH1w+qpn/NuBv3oL/S5FLXyaOjqTbFO9xk3N/A/FDPdPq9MsOAAAAAElFTkSu\n",
       "QmCC\n",
       "\" style=\"display:inline;vertical-align:middle;\" /></a></span></td></tr>\n",
       "<tr><td>&nbsp;</td><td colspan=4 style-\"text-align:left\"><a class=\"ProveItLink\" href=\"../../intersection/_theory_nbs_/proofs/membership_unfolding/thm_proof.ipynb\">proveit.logic.sets.intersection.membership_unfolding</a></td></tr><tr><td><a name=\"-0x7ae1a3013d06deba_step7\">7</a></td><td>conjecture</td><td></td><td><span style=\"font-size:20px;\"> <a class=\"ProveItLink\" href=\"../../../../numbers/numerals/decimals/_theory_nbs_/proofs/posnat2/thm_proof.ipynb\" style=\"text-decoration: none\">&nbsp;&#x22A2;&nbsp;&nbsp;</a><a class=\"ProveItLink\" href=\"../../../../numbers/numerals/decimals/__pv_it/theorems/aa5f8ea7aa8d661558ddef72abb6b4f0fac781ac0/expr.ipynb\"><img src=\"data:image/png;base64,iVBORw0KGgoAAAANSUhEUgAAAD4AAAATBAMAAAA63aOfAAAAMFBMVEX///+qqqqYmJiIiIgiIiLu\n",
       "7u4QEBBUVFS6urp2dnbMzMxEREQyMjJmZmbc3NwAAADzFso2AAAAAXRSTlMAQObYZgAAAAlwSFlz\n",
       "AAAOxAAADsQBlSsOGwAAAPpJREFUKM9jYMADLjDgBxvIkWf1332UgTM/AyrPd/f0AlQF3ALtDAzx\n",
       "MP2vGTh/oMqz+3EqMLAx8O7enb17E0MdA0Mamrw0wzkGFpj+/ACG+gdgceYtLj5g+UcGbxDyJQwM\n",
       "9WAHcBwOgOp/UMU8gQXJ/f5g8k0AzPwH3Aw7kOS5PoOpc3D7H3BdCAlBhB9LAZg6gJBnUGTchnDv\n",
       "bYgpKS4uLt5QefaAMrg0E0Q76wYk/awFIXB5SQY+sP8ckOQZFnPDeFwTGJjBLjeGhy/Qu8yrYbwn\n",
       "d+9eATN4BKAiYMYdmLz///9/IA6oboUYeD4bSMZgRizHbEj4ogAAs21BKpwaNLcAAAAASUVORK5C\n",
       "YII=\n",
       "\" style=\"display:inline;vertical-align:middle;\" /></a></span></td></tr>\n",
       "<tr><td>&nbsp;</td><td colspan=4 style-\"text-align:left\"><a class=\"ProveItLink\" href=\"../../../../numbers/numerals/decimals/_theory_nbs_/proofs/posnat2/thm_proof.ipynb\">proveit.numbers.numerals.decimals.posnat2</a></td></tr><tr><td><a name=\"-0x7ae1a3013d06deba_step8\">8</a></td><td>instantiation</td><td><a href=\"#-0x7ae1a3013d06deba_step10\">10</a></td><td><span style=\"font-size:20px;\"> <a class=\"ProveItLink\" href=\"../__pv_it/demonstrations/77ca72ce515a404a1ff911f88acc33f4f3c0f2f90/proof.ipynb\" style=\"text-decoration: none\">&nbsp;&#x22A2;&nbsp;&nbsp;</a><a class=\"ProveItLink\" href=\"../__pv_it/demonstrations/b6d11cd8c573cf99c58ff3a865774ee50079599f0/expr.ipynb\"><img src=\"data:image/png;base64,iVBORw0KGgoAAAANSUhEUgAAAMoAAAAVBAMAAAD1I2xhAAAAMFBMVEX///8AAAAAAAAAAAAAAAAA\n",
       "AAAAAAAAAAAAAAAAAAAAAAAAAAAAAAAAAAAAAAAAAAAv3aB7AAAAD3RSTlMAIolEdjJUEM2ZZu/d\n",
       "u6v6CvZmAAAACXBIWXMAAA7EAAAOxAGVKw4bAAACeklEQVRIx52Vv2sUQRTH3+b2x/3YLKvYCAqB\n",
       "9OYKK9NE8BQEMfgPJJ2FildYWGmwCQhisMqlCFd6hbpWgiAcSJBgkBXUxuJSBpUzijGnaNb33tzs\n",
       "TPZ2NuDAzM3Ovu985r159xZCoGZBbgu1cWTZoNGbJe0n+fesWFzIWJ3kcTIr1jWFrTQztGeFO8FP\n",
       "5W35+lHS79+bBbttppDGeWUmHF1+D3Bep9wUL66nFHgBEOwALJopqLm1vGsOVgxTdSg3NcqKeLP6\n",
       "LbX5ge7+AuiYKaSxzZQghFoE1SWNEvGLscM70qaKsyqSak0jJSqm1HYhwEM/UxRX3PoR+2d6Eoxd\n",
       "+Sn2tonCmiJfuhzyu4pSEZe/5P5OTxKD92UW3ds0UVhTQMHm41FPKAqfGErzzndpMPfuzBYtVhck\n",
       "pbLBbVNSWFNMmcM8fqgo/jzvA9aeNLgYgvuc4hKZfGFNMeUN9iuKUqvT/EJr9a80+Ih9CiPmbJso\n",
       "rCmkVGLyJ0Px0L8/0oKceoILpej/KY9pmM5ErIL99dDAoTT4ivu4XdO9HBgxrA2HAK4qyjiVm1PY\n",
       "76NLtGxjpjsDuv3Y5AtriOKNAvgPfwngHJYqRaF8tSg2vRBuU1aV8WF6UeZrLoVzfAxPwwIavIE+\n",
       "sdZbLQzEA0VxuuD1Bk24ltwBHwtg0Nvrb33glK+bKKiB4PPgEwvAp0qyLicb6IyfJAkSX2oVZk3b\n",
       "4rK+3zFzHVvLFYgraab1sKtROprJhG6/YqZ0cgWiIKpsbmuUcfU59Gb2l28jRWr2CUS7kc6O698X\n",
       "L07Xbd1c7JRPkRp7NMcU9+3QviHKcX7On+axkV0u1OjNFv42/gG0baQ9ZCukXQAAAABJRU5ErkJg\n",
       "gg==\n",
       "\" style=\"display:inline;vertical-align:middle;\" /></a></span></td></tr>\n",
       "<tr><td>&nbsp;</td><td colspan=4 style=\"text-align:left\"><span style=\"font-size:20px;\"><a class=\"ProveItLink\" href=\"../../../../__pv_it/common/c06c606ec12678c58933ac85412ecadc2ae28be60/expr.ipynb\"><img src=\"data:image/png;base64,iVBORw0KGgoAAAANSUhEUgAAAAsAAAAJBAMAAAAWSsseAAAAMFBMVEX////MzMwyMjKqqqoiIiJm\n",
       "ZmaYmJju7u5EREQQEBC6urqIiIh2dnZUVFTc3NwAAAAqL9KcAAAAAXRSTlMAQObYZgAAAAlwSFlz\n",
       "AAAOxAAADsQBlSsOGwAAAEdJREFUCNdjYOC7s28DAwPDygcc3xkY2KcxsDowMLB+YGA5wMDA2cBQ\n",
       "v4CBoX4DQz5QRb0BwyXmBwwcG5hdWYEqbx98u5EBABisEWzRR9jxAAAAAElFTkSuQmCC\n",
       "\" style=\"display:inline;vertical-align:middle;\" /></a> : <a class=\"ProveItLink\" href=\"../../../../__pv_it/common/09585084922504426caf1db2ff588a23a0932a960/expr.ipynb\"><img src=\"data:image/png;base64,iVBORw0KGgoAAAANSUhEUgAAAA8AAAAPBAMAAADJ+Ih5AAAAMFBMVEX///8QEBAiIiLu7u5ERES6\n",
       "urqYmJiIiIjMzMx2dnZUVFRmZmaqqqoyMjLc3NwAAABb1yYoAAAAAXRSTlMAQObYZgAAAAlwSFlz\n",
       "AAAOxAAADsQBlSsOGwAAAF9JREFUCNdjYACBtwxQcB9K8/yHMrjXP4Aw5s1vANN8BfUHIDIM5xPA\n",
       "jBiG/glgxgaG9wtANLv37vUOIIY5AwO/AkSGgUkASLMCdfB+ADIeAjHLPwYGk/+XGXj8/04AADnq\n",
       "Fzds8Dk2AAAAAElFTkSuQmCC\n",
       "\" style=\"display:inline;vertical-align:middle;\" /></a>, <a class=\"ProveItLink\" href=\"../../../../__pv_it/common/195236b98c6c564a75b5dbada74b173bc52d5c3e0/expr.ipynb\"><img src=\"data:image/png;base64,iVBORw0KGgoAAAANSUhEUgAAAAkAAAAOBAMAAAAPuiubAAAAMFBMVEX///+YmJjMzMzc3NyIiIhU\n",
       "VFR2dna6urqqqqpmZmYyMjIiIiIQEBBERETu7u4AAAD7tRWPAAAAAXRSTlMAQObYZgAAAAlwSFlz\n",
       "AAAOxAAADsQBlSsOGwAAAFBJREFUCNdj4LuzgQEIuCaASP4GEFn/AERmgwiGpS4RDAx8vx68N2Dg\n",
       "+MfA48DAuYCBP4GBO4GhvgGkfP4DBn4FvoMMDKwCvEAj+MImMjAAAMxHEV3T4g9SAAAAAElFTkSu\n",
       "QmCC\n",
       "\" style=\"display:inline;vertical-align:middle;\" /></a> : <a class=\"ProveItLink\" href=\"../../../../__pv_it/common/a9162d1c3cc0470c02e5daf414500903a7a419230/expr.ipynb\"><img src=\"data:image/png;base64,iVBORw0KGgoAAAANSUhEUgAAABAAAAAOBAMAAADUAYG5AAAAMFBMVEX///92dnaqqqoiIiLu7u5m\n",
       "Zma6urqIiIjc3NwQEBDMzMwyMjJUVFRERESYmJgAAAAeMT9/AAAAAXRSTlMAQObYZgAAAAlwSFlz\n",
       "AAAOxAAADsQBlSsOGwAAAHJJREFUCNdjYGB4+//Mmb0LGIBgLgMDzy8gzfGdgYHtK5DBB+TxATkM\n",
       "PB8YGLhnABmcFxhYDoMUr79efvoBSFN9AwPTPBDjJhDLg6T+APH7AgYGrn9AxvkEBgb2H0DObyCH\n",
       "ewIDQ+YWoHH3/5w5fYmBAQBWoiHo17XzsQAAAABJRU5ErkJggg==\n",
       "\" style=\"display:inline;vertical-align:middle;\" /></a></span></td></tr><tr><td><a name=\"-0x7ae1a3013d06deba_step9\">9</a></td><td>assumption</td><td></td><td><span style=\"font-size:20px;\"><a class=\"ProveItLink\" href=\"../__pv_it/demonstrations/a9aac2a8e4b9633efbdcea973f6d6748c8a5419a0/expr.ipynb\"><img src=\"data:image/png;base64,iVBORw0KGgoAAAANSUhEUgAAAHcAAAAVBAMAAACOK2zoAAAAMFBMVEX///8AAAAAAAAAAAAAAAAA\n",
       "AAAAAAAAAAAAAAAAAAAAAAAAAAAAAAAAAAAAAAAAAAAv3aB7AAAAD3RSTlMAMrsiq4l2RO8QZpnd\n",
       "VM2humBGAAAACXBIWXMAAA7EAAAOxAGVKw4bAAAB1klEQVQ4y2NgwA2YGfABA7yyDLkQIx5gly3D\n",
       "q5c3AEzxfUATX/TfxeWRAAPbAnya50Go+xDNXH7aBVCJJgYGlo8MDC/xad4FobZ8BpGMxwwm7psA\n",
       "8cc3Bgb23wwMq7HoSTpzBuLLBjDJavoRRMkBNTJD7OICCnABDeCYgKG3LhPmZYgRZmx/QZQjiFgG\n",
       "FmEB+oOvGYgRnjYJMwO7Ce4Tbkh4beD9BaIOgAhpsAiHAgOnjwDQTQ4wpezNDPogZ/DBow9iMPsF\n",
       "xq9wzSZgCXm1ND+QHBc8DmcsYNgD1gJ3Cs8FsP0MzF/QNOcbMPB2gfzVAFO6n4HhKIiWOAMECmDX\n",
       "gWMmafeWT2iaNYA4HuhsRngCaGLg/A6iJ8FtBmvmTGBg+IOmGeSS9UBxdpjNnN8YuMAG8aA6mxuI\n",
       "T6BqZgQFoD/QZN4DMM1/GVgeXAYy2BJgmplArCogfo+qmQ2YaBj/gQJMAaZUjeHOhg0gxluYCCgm\n",
       "mEEu0zdA0cwHFKt4CYlLISUgMGCYkirsJgCSm6IOTTiMBxg49f9NYLj0/ymQB7ZlNiiJ6H9x8dMF\n",
       "+6sAM3mW6kCT50H8GZbBBp/kagKad+GTZMJfVjAr4JPlxCtLyGwzvLLJDAwAcbhxyYgRMBEAAAAA\n",
       "SUVORK5CYII=\n",
       "\" style=\"display:inline;vertical-align:middle;\" /></a> <a class=\"ProveItLink\" href=\"../__pv_it/demonstrations/b29023c40c45d21d76ad18a8d3ddaf7c09e9a1eb0/proof.ipynb\" style=\"text-decoration: none\">&nbsp;&#x22A2;&nbsp;&nbsp;</a><a class=\"ProveItLink\" href=\"../__pv_it/demonstrations/a9aac2a8e4b9633efbdcea973f6d6748c8a5419a0/expr.ipynb\"><img src=\"data:image/png;base64,iVBORw0KGgoAAAANSUhEUgAAAHcAAAAVBAMAAACOK2zoAAAAMFBMVEX///8AAAAAAAAAAAAAAAAA\n",
       "AAAAAAAAAAAAAAAAAAAAAAAAAAAAAAAAAAAAAAAAAAAv3aB7AAAAD3RSTlMAMrsiq4l2RO8QZpnd\n",
       "VM2humBGAAAACXBIWXMAAA7EAAAOxAGVKw4bAAAB1klEQVQ4y2NgwA2YGfABA7yyDLkQIx5gly3D\n",
       "q5c3AEzxfUATX/TfxeWRAAPbAnya50Go+xDNXH7aBVCJJgYGlo8MDC/xad4FobZ8BpGMxwwm7psA\n",
       "8cc3Bgb23wwMq7HoSTpzBuLLBjDJavoRRMkBNTJD7OICCnABDeCYgKG3LhPmZYgRZmx/QZQjiFgG\n",
       "FmEB+oOvGYgRnjYJMwO7Ce4Tbkh4beD9BaIOgAhpsAiHAgOnjwDQTQ4wpezNDPogZ/DBow9iMPsF\n",
       "xq9wzSZgCXm1ND+QHBc8DmcsYNgD1gJ3Cs8FsP0MzF/QNOcbMPB2gfzVAFO6n4HhKIiWOAMECmDX\n",
       "gWMmafeWT2iaNYA4HuhsRngCaGLg/A6iJ8FtBmvmTGBg+IOmGeSS9UBxdpjNnN8YuMAG8aA6mxuI\n",
       "T6BqZgQFoD/QZN4DMM1/GVgeXAYy2BJgmplArCogfo+qmQ2YaBj/gQJMAaZUjeHOhg0gxluYCCgm\n",
       "mEEu0zdA0cwHFKt4CYlLISUgMGCYkirsJgCSm6IOTTiMBxg49f9NYLj0/ymQB7ZlNiiJ6H9x8dMF\n",
       "+6sAM3mW6kCT50H8GZbBBp/kagKad+GTZMJfVjAr4JPlxCtLyGwzvLLJDAwAcbhxyYgRMBEAAAAA\n",
       "SUVORK5CYII=\n",
       "\" style=\"display:inline;vertical-align:middle;\" /></a></span></td></tr>\n",
       "<tr><td><a name=\"-0x7ae1a3013d06deba_step10\">10</a></td><td>conjecture</td><td></td><td><span style=\"font-size:20px;\"> <a class=\"ProveItLink\" href=\"../../../../numbers/numerals/decimals/_theory_nbs_/proofs/tuple_len_2_typical_eq/thm_proof.ipynb\" style=\"text-decoration: none\">&nbsp;&#x22A2;&nbsp;&nbsp;</a><a class=\"ProveItLink\" href=\"../../../../numbers/numerals/decimals/__pv_it/theorems/10b037baccf1e1ebd13cf393d16f9c41951216fd0/expr.ipynb\"><img src=\"data:image/png;base64,iVBORw0KGgoAAAANSUhEUgAAAPsAAAAWBAMAAAD0hvfJAAAAMFBMVEX///+IiIgiIiIQEBB2dnbu\n",
       "7u5ERETMzMzc3NwyMjK6urpmZmaYmJiqqqpUVFQAAAB6qHgnAAAAAXRSTlMAQObYZgAAAAlwSFlz\n",
       "AAAOxAAADsQBlSsOGwAAAztJREFUSMe9lkFoE0EUhl92s7tpNpuuB2kPKiFQFIsSRBHEQ/CiFI0r\n",
       "lIIXExGxx6Ce7VpBBKHkongoEulVaARBagOmBwtS0Kj1UPAQMRdBoR6K7anOm523SXYzWfDgCxl+\n",
       "3r79v5nZnZkFkIXLfkIEL/TLikQCIiNBrTugKNaECRK98Yy3E8EbvMT+aHzSxjZe5UYt1F/DRetk\n",
       "uN6V1K5lWH8acryVBzDG5OiHSzcA9gk8Gr1G/SRUp1WEIYpODNVY80iOvwxwZWlLPu8luFiFIcfD\n",
       "o9EdLxsMsyEMzUZ3ehifxJocX8enJcenXVBzkKoJPDPCrsSboUKVDNWe9CJ2XHWk+NxgvLoF6W2A\n",
       "EwLPjFJsdEPhwg0y3OhJn+FPoCHDW5WI0Wcg/QdgXuDR6Fg2ezxc+JIIKBLtUdtLP93zi93ZkuHN\n",
       "/GA8C2UToCDwaPQK4Hq4ap4IKBZc3bPUdpyiC6kKXTSzPFqE5/MyGD/DBvJO4NFoDhItumY8JnWE\n",
       "CExop8HM8Ky1BaoNVk42eqUZiT/K/p8FHo10B5WINolTRGDC3AQl762HCgznwdiU4dVqFN7ERTYj\n",
       "8Ghk2V1v3sl+eLUERa+HrBeLTUjm/h3/HpsFgedGlRXWTK6cw8n/fcAJT37Rhg/+sn/jgJWRPfvI\n",
       "yWe74gOATzT5aHSBbT7aIWMb7xyL1by6q0RgotiEH5arIb7M3gNIlWSj122B18JkPq7bAHsBVunV\n",
       "Q6N7rPNmzcCJ0BspsccWiFBAU2vchCK7km7oNbG8+uL5koyzgWAxb7SdbpEYX17OeIsZ8dwoXcaH\n",
       "FsM71bIpVsFNIjChfTs7NwIKO0m0Nu6qSlWGN5h3+vvOT14MCs7kOIksG76yu7vLunJY4BV654uu\n",
       "/pZdHgZV7L9KWRBQePGFxKx8zz8YKu48dsc/eDICP+tvxu7Mc2cSFGdVJPBYmCDhRZ5EXY5fCxX7\n",
       "Ee85zji+7n8C1D+eh1tN44VNmWkiTNMRbHdOTSledwPFnbjkq/vivA8etN0H3xQRpujzh654iP54\n",
       "rRQo7kSnQ9MCr/d+bSWd7i8DG0ZI9MYob0eC9l7ibvTHVoxTY2Vh5EcK/nv8BVY2zeEbkrzUAAAA\n",
       "AElFTkSuQmCC\n",
       "\" style=\"display:inline;vertical-align:middle;\" /></a></span></td></tr>\n",
       "<tr><td>&nbsp;</td><td colspan=4 style-\"text-align:left\"><a class=\"ProveItLink\" href=\"../../../../numbers/numerals/decimals/_theory_nbs_/proofs/tuple_len_2_typical_eq/thm_proof.ipynb\">proveit.numbers.numerals.decimals.tuple_len_2_typical_eq</a></td></tr></table>"
      ],
      "text/plain": [
       "\tstep type\trequirements\tstatement\n",
       "0\tinstantiation\t1, 2\t|- (A intersect B) subset_eq B\n",
       "\tA : A intersect B, B : B, x : _a\n",
       "1\tconjecture\t\t|- forall_{A, B | forall_{x in A} (x in B)} (A subset_eq B)\n",
       "\tproveit.logic.sets.inclusion.fold_subset_eq\n",
       "2\tgeneralization\t3\t|- forall_{_a in A intersect B} (_a in B)\n",
       "3\tinstantiation\t4, 5\t{_a in (A intersect B)} |- _a in B\n",
       "\tA : _a in A, B : _a in B\n",
       "4\ttheorem\t\t|- forall_{A, B | A, B} B\n",
       "\tproveit.logic.booleans.conjunction.right_from_and\n",
       "5\tinstantiation\t6, 7, 8, 9\t{_a in (A intersect B)} |- (_a in A) and (_a in B)\n",
       "\tm : 2, x : _a, A : (A, B)\n",
       "6\tconjecture\t\t|- forall_{m in NaturalPos} [forall_{x, A_{1}, A_{2}, ..., A_{m} | x in (A_{1} intersect  A_{2} intersect  ... intersect  A_{m})} ((x in A_{1}) and  (x in A_{2}) and  ... and  (x in A_{m}))]\n",
       "\tproveit.logic.sets.intersection.membership_unfolding\n",
       "7\tconjecture\t\t|- 2 in NaturalPos\n",
       "\tproveit.numbers.numerals.decimals.posnat2\n",
       "8\tinstantiation\t10\t|- |(A, B)| = |(1, ..., 2)|\n",
       "\ta : A, b : B\n",
       "9\tassumption\t\t{_a in (A intersect B)} |- _a in (A intersect B)\n",
       "10\tconjecture\t\t|- forall_{a, b} (|(a, b)| = |(1, ..., 2)|)\n",
       "\tproveit.numbers.numerals.decimals.tuple_len_2_typical_eq"
      ]
     },
     "metadata": {},
     "output_type": "display_data"
    }
   ],
   "source": [
    "A_intersect_B_subset_of_B_judgment.proof()"
   ]
  },
  {
   "cell_type": "markdown",
   "metadata": {},
   "source": [
    "<font size=3>And we can ``unfold()`` the subset expression to produce an equivalent judgment in terms of set memberships. Notice here that the ``unfold()`` process *automatically* produces a Known Truth instead of just another expression (and it would have done this even if we had not previously proven the expression to be true):</font>"
   ]
  },
  {
   "cell_type": "code",
   "execution_count": 22,
   "metadata": {},
   "outputs": [
    {
     "data": {
      "text/html": [
       "<a class=\"ProveItLink\" href=\"../__pv_it/demonstrations/ed562fb20a2183c664b39b8792a3e3613eaf09cf0/expr.ipynb\"><img src=\"data:image/png;base64,iVBORw0KGgoAAAANSUhEUgAAAHEAAAAVBAMAAACDNRyvAAAAMFBMVEX////MzMxUVFRERES6uroi\n",
       "IiIQEBCYmJhmZmYyMjLu7u52dnaqqqqIiIjc3NwAAACW8nlqAAAAAXRSTlMAQObYZgAAAAlwSFlz\n",
       "AAAOxAAADsQBlSsOGwAAAfNJREFUOMt9lL9LI1EQx7+7+bGbGGM4EM4qIWphlVicWOhpdc2dqMV2\n",
       "IoIHYiOijZ0pBAWbA0XBRtH6QO4PuLtKEAuXszYGQcHK+AM8C40z83bJrpr34O2+eTOfefO+zC6A\n",
       "CjRD52z+K6+r971DGvJIvbZfbc/X8vm1DJpn3wDWwG2+qxtI/hAzVVPbc2tLXsAkYN4AW5554jjO\n",
       "qFrGi0AhA1sltQtyo9Zy8qOKTT8B0f/AgopuK9cPvXaB4RLiyvr9J0NPg6mrHamJzrOIjouVHA+U\n",
       "u0ihiy4O1QnuGQtlMm65vGNWgcQMTanJHAyQBZobFayqYnHMETFeGyXvMslOStSUYysRlIgU2KUr\n",
       "b4rxDdl9n0xLbLb/tIuTWaLghwBo3J3+Y2pMrBKuc2HyrILUFIs+wdZ5sAGegQNK+l2M3pVCMUz2\n",
       "0GTVjCp8hzcilKvpxiN/Ai0jYfIWIiCicqYdaIiWnFJ9TBWL2ESINB5YRFI0NSLh63UyS1nMe6Cf\n",
       "1lFaJ6ohki9jPLJCRQnf7djxSVIAWdLtF60vufrnEJmgEr5wX9j7Kv7rJ7/7NuioacrTCuzVtpAa\n",
       "eKSQiPQL1W5yV/eJNoOvGr6dPwVum1gG2nHR0GOV9ORyY9dnLZhWAtmOU//K/LGnJSOa30na1ZHl\n",
       "hp4XWilwobI3YgMAAAAASUVORK5CYII=\n",
       "\" style=\"display:inline;vertical-align:middle;\" /></a>"
      ],
      "text/plain": [
       "(A intersect B) subset_eq B"
      ]
     },
     "metadata": {},
     "output_type": "display_data"
    }
   ],
   "source": [
    "# the original expression\n",
    "A_intersect_B_subset_of_B"
   ]
  },
  {
   "cell_type": "code",
   "execution_count": 23,
   "metadata": {},
   "outputs": [
    {
     "data": {
      "text/html": [
       "<span style=\"font-size:20px;\"> <a class=\"ProveItLink\" href=\"../__pv_it/demonstrations/ac6d8c43c735b1ac0daa16b5364418700e4a6ed00/proof.ipynb\" style=\"text-decoration: none\">&nbsp;&#x22A2;&nbsp;&nbsp;</a><a class=\"ProveItLink\" href=\"../__pv_it/demonstrations/8ec39fc225632e35a99fde5b1caac47f75f230370/expr.ipynb\"><img src=\"data:image/png;base64,iVBORw0KGgoAAAANSUhEUgAAAJUAAAAVBAMAAAC9PLGkAAAAMFBMVEX///8AAAAAAAAAAAAAAAAA\n",
       "AAAAAAAAAAAAAAAAAAAAAAAAAAAAAAAAAAAAAAAAAAAv3aB7AAAAD3RSTlMAq1RmmUTNIjK7EInv\n",
       "3XZ/CtNrAAAACXBIWXMAAA7EAAAOxAGVKw4bAAACZklEQVQ4y5VUz2sTQRT+NrvJZidxbVDqD5AG\n",
       "9A8IEioetOLvImpAkIKiURAxpwgeq1mPUsEqFFzRuoIIKoL0GtCoBxWx5ODBy8LWH4hFYqulLRXU\n",
       "Nzu7m6Q0y3Zghvdm3nwz3/feDBC9qWGLZSyrfQpbPEG9ixsbo0DFni45vfVfJnPOgJ4D9nD/bBSs\n",
       "Bx3m3wLSPFACLnMhhqNg7eqg4l8gPgPkgYQFpLJRsGpt3nfbLrqGTHeSCS9tQSaeiUhyFVu9o5O+\n",
       "JU0RwGvqBPTett9FwVJIetZYPzTmEisF8+lhsA0GkaMs7gduLdpmLYXFz1Uw4Rx0nWY5XRttdOc4\n",
       "V7r3eahd7bvYG9+6MlPtNzx7BYm6BX3WKherGf2zjNgrrgHpqVmpgjednDC5mfoFXDCvE4hch+5L\n",
       "nqYlA3uFc9WmJrJ/m/pzik2SbjEnOGS3uMPAOOJrwHaSrjsgT7VgAePCedi81zT1Pofqgh9a3E5D\n",
       "Y9+XMi9d3pxTkHiCaH8WT3ItHBGfwyPXCaCSv2nooXNidTLGKCd6eV0i6x2mExFNYFU+59f6mzQH\n",
       "bESqwX1JuuNP63OEN8u155QHSXoZo0kcEasD+OFjbQNb7W+inMfm79fioq5PB+klasdLXs1AclUi\n",
       "+F7TNCnyQLXH8rAIqBIkpg52yNm0WXj3RkThSHenM903XNqFgHZNxZBHERXDw3oJnPRrAh/bCufY\n",
       "HbvtIeCibwymigpVBzeJ6cqswFIXwD4EwfmIT1/5+mwS6k1uvQA7fEbhFnr/VPubz14L/ToX/zWP\n",
       "TbPQOZqF/kza8j7pS2GL34D/0YeLdPMZfzsAAAAASUVORK5CYII=\n",
       "\" style=\"display:inline;vertical-align:middle;\" /></a></span>"
      ],
      "text/plain": [
       "|- forall_{x in A intersect B} (x in B)"
      ]
     },
     "metadata": {},
     "output_type": "display_data"
    }
   ],
   "source": [
    "# unfold to express in terms of set memberships\n",
    "A_intersect_B_subset_of_B.unfold()"
   ]
  },
  {
   "cell_type": "code",
   "execution_count": 24,
   "metadata": {},
   "outputs": [
    {
     "data": {
      "text/html": [
       "<span style=\"font-size:20px;\"> <a class=\"ProveItLink\" href=\"../__pv_it/demonstrations/ac6d8c43c735b1ac0daa16b5364418700e4a6ed00/proof.ipynb\" style=\"text-decoration: none\">&nbsp;&#x22A2;&nbsp;&nbsp;</a><a class=\"ProveItLink\" href=\"../__pv_it/demonstrations/b2fbc4341769aa86c5c7c233d45a1188157ebe800/expr.ipynb\"><img src=\"data:image/png;base64,iVBORw0KGgoAAAANSUhEUgAAAJMAAAAWBAMAAAA2trNNAAAAMFBMVEX///8AAAAAAAAAAAAAAAAA\n",
       "AAAAAAAAAAAAAAAAAAAAAAAAAAAAAAAAAAAAAAAAAAAv3aB7AAAAD3RSTlMAq1RmmUTNIjK7EInv\n",
       "3XZ/CtNrAAAACXBIWXMAAA7EAAAOxAGVKw4bAAACgklEQVQ4y6VUTWgTURD+djfJZjfJtgGpimgD\n",
       "ihcRciiFHkzrT8XSQwtCKSg2KiL2FMGTKInexIqtILqidXMsokQPXgJaK2JFLEEUvCxsUZCKaPqD\n",
       "FgV13u6+XVuTuuiDSb558+Z7M/NmFgi+cv9o+3NpqRWMB0gaGdgYhGpLzd22n8nksQK0NNDJ9KMB\n",
       "mNRs7f1ngLAIDAJnSJOHA1CF0jW35R9AeAFoASIGEEsFoIov0WZM04lSoogkoosbkOiySJBSbf5d\n",
       "6fvAkVAl/6ckxPPCNJ8Hoeqmcr1Lo2hnNegHOwx1fYEyo/fbA1xb5mXUojpMx8VxtDMc8dvo4uin\n",
       "JlZFifI9Drlx2VtNcnRuodxVcPFL4GyogrU2lX/4cw7iY/qnW6AYsV53OzqtMxibA07oI8QhVaCN\n",
       "u8YnFG3cwhTDQyYt59mvkzyko1GqmWh5d+xyIuifQng11B1U0w5IVZ8KA0Z0keExP6pZknaLGoJd\n",
       "mc0QmIZgdyxb1kFSwCSewu20nyB2u0EmPKboPP00Uy5ihcA9eo47DcYQv0sjD8Whyr9tWcOdRklG\n",
       "oNh11SxvML8S3RdWdpbvKbKe3IoZ7HWs/fjIqbZBXcWd7pJsx4AT5CG+G6Eo97PWCJWYC6vQOmxA\n",
       "q67r1Pfd5WbDpSKePH+TCyTFBz1OGxQvOw0j3JxNNl2yc+bn8BqTOO/mh3zBpZqgSvNmSNjgvqvt\n",
       "u2EuHe/THnoTrlJbMERpNqQcKvkb1Ff8hNSBWFadqDcMOz20qS0L+SrL+RHUniMhhtD6vdzlT/oV\n",
       "JCyhVIfJ/7ioOYXqeUvXe+sP4RjETGc9o+KNkmD1/XWeZWsF43sPhTMl/O/6BRn2kHdm0F6iAAAA\n",
       "AElFTkSuQmCC\n",
       "\" style=\"display:inline;vertical-align:middle;\" /></a></span>"
      ],
      "text/plain": [
       "|- forall_{y in A intersect B} (y in B)"
      ]
     },
     "metadata": {},
     "output_type": "display_data"
    }
   ],
   "source": [
    "# unfold to  express in terms of set memberships\n",
    "# and simultaneously change the instance variable\n",
    "A_intersect_B_subset_of_B.unfold(elem_instance_var=y)"
   ]
  },
  {
   "cell_type": "markdown",
   "metadata": {},
   "source": [
    "## Axioms <a id='axioms'></a>"
   ]
  },
  {
   "cell_type": "markdown",
   "metadata": {},
   "source": [
    "<font size=3>The ``axioms`` for containment establish the basic definitions of subset ($\\subseteq$), proper subset ($\\subset$), proper superset ($\\supset$), *etc.* A few of the axioms are shown below as illustrations (the rest can be accessed on the [containment axioms](./_axioms_.ipynb) page.)</font>"
   ]
  },
  {
   "cell_type": "code",
   "execution_count": 25,
   "metadata": {},
   "outputs": [
    {
     "data": {
      "text/html": [
       "<span style=\"font-size:20px;\"> <a class=\"ProveItLink\" href=\"axioms.ipynb#subset_eq_def\" style=\"text-decoration: none\">&nbsp;&#x22A2;&nbsp;&nbsp;</a><a class=\"ProveItLink\" href=\"../__pv_it/axioms/0a73f44893619de306ad70c8de110c34b161d8b90/expr.ipynb\"><img src=\"data:image/png;base64,iVBORw0KGgoAAAANSUhEUgAAATUAAAAWBAMAAABTfhYbAAAAMFBMVEX///+IiIgiIiIQEBB2dnbu\n",
       "7u5ERETMzMzc3NwyMjK6urpmZmaYmJiqqqpUVFQAAAB6qHgnAAAAAXRSTlMAQObYZgAAAAlwSFlz\n",
       "AAAOxAAADsQBlSsOGwAABENJREFUSMfNV11oFEkQrtns7P9uJspJwL9lffBQhFXUQ0EJEuQMGFfF\n",
       "gATCnmCUiLiaQ/DFRIXAvSQLEjnkPHOoiKAYf/AfXH0QJR7JGV+Cgvui4g9ZBTXxRGN1dffszvTM\n",
       "hHu7htqaqe75+uuq7upaAM/WKcSjhVTTlLn/+RPrlAgwyawA2hAXbL+5jYkYiqlhEtiZXp1/cQSm\n",
       "iuzxqcu4x0KwHVc6Y7u+jb7aBjBD5ZZgv/GCC2q8ztEs8LQCcWPqBjP/7gyi57kwvAlhm5ZKpUTI\n",
       "qrIApRyEMwq3aB/+ht3CstnFLvB6uedR7WfxzzoPjha4sMcSn2lfbbm7B6N5vh9i/Qq3IItGl1vU\n",
       "brnYBd4A54aKrdo/5LIQIdh+XpcjT/5Y0T2IpkHEW6LuN7b2tW7c0pY3DETegleVIW6oYuiXsAvI\n",
       "iBD0rDGb+Cf6KrpLKIfRnX+o3B7ib95tu1k6zvxgxwsXiBtTi1KpxS4ol4VgSOEZxdayiqUALWzr\n",
       "NarcqlKpOXUuqFHs0Gue/0p+DfUqeP4icWPqKsBW6lK2NDmEO+UcdNBU+yt6g59qZlHvA5oxRa3I\n",
       "uUVzELDh6fKBOSQKs4yLYD0wEi+WJ25MdUOIAPWfaMTeL/VXcmL0AiEA/dBDg7ork984wDDz5rDq\n",
       "N4Tsthk3SlQf7o77MJh5awuExIuniRtTgYyfNpH/K88ySdDkZl0uBLQdN0t0ln0VkwVwmH8MHzoc\n",
       "cu/WcgLe/aKNqXXywFXhdDm4zl/ambOzFrzgO0JgKm5w7qcXkkpgUnhn57YeoDops4ps1ejJ2Ht8\n",
       "OOHA7R/zKESv8uuj3ajgBsBngyYVL8L9xhTk71CX8Sf/cgg2FOwxxQzm4848WsbqwGGJf/Hhkbrf\n",
       "IBxDKtr0A9fktaGFixUxhcg4bLIFQuLFkzymzBlr6ahowss9MwZeytG/CImwPMOd2fLa3OKzcRt3\n",
       "MO/cc/CbfwTH1Sayx3SR142odGTAAL0tkQY6XFr5NpZ4sSw/C+zDQ7Sg0zCVRtwF/Y0c3SjkEEMc\n",
       "57aTW+SddRhJL8uYacbKLbQSdSFg5CI8CJGcuYsxOcTHmtMRvv+OmV9JPJZjGriCBB2gy/Ul8ggS\n",
       "65EJdg+XpoleiO/6bMtXLyZGR48Q/jynOoScX90JsSOtrTtxpvrGjzJXJEG/YDz5m7+1tGVseL4+\n",
       "QvCZaV5DSsRxBd5p5mnPcZmkGku61kjt0BnkSzIgNCat1uoOA2G9QQ5yhIOm4Swuckivg9BH0Oeb\n",
       "VUs/ONzkThWBI7dQeg2eIkrsLLJfZfeAN94tjmBWBNGVoN8+GlwBDz7UXynf/NuFlHnQYbQuvMu1\n",
       "trxwsiYDXczxl4rQ/FkGKeBZ01JR1KDWRnHbe5M1Azm37d51r766tc12e2W94Ih5g7qAU/Y1GFw8\n",
       "63bVC6sm+b9wwKuTFYhTlkOt3V6A/1P7Du4ZFdZz9LI9AAAAAElFTkSuQmCC\n",
       "\" style=\"display:inline;vertical-align:middle;\" /></a></span>"
      ],
      "text/plain": [
       "|- forall_{A, B} ((A subset_eq B) = [forall_{x in A} (x in B)])"
      ]
     },
     "metadata": {},
     "output_type": "display_data"
    }
   ],
   "source": [
    "# def of (non-proper) subset\n",
    "subset_eq_def"
   ]
  },
  {
   "cell_type": "code",
   "execution_count": 26,
   "metadata": {},
   "outputs": [
    {
     "data": {
      "text/html": [
       "<span style=\"font-size:20px;\"> <a class=\"ProveItLink\" href=\"axioms.ipynb#proper_subset_def\" style=\"text-decoration: none\">&nbsp;&#x22A2;&nbsp;&nbsp;</a><a class=\"ProveItLink\" href=\"../__pv_it/axioms/62d68349fdc6e5e10115b34eb80d97b83bd304d20/expr.ipynb\"><img src=\"data:image/png;base64,iVBORw0KGgoAAAANSUhEUgAAAWsAAAAWBAMAAAD0o6DgAAAAMFBMVEX///+IiIgiIiIQEBB2dnbu\n",
       "7u5ERETMzMzc3NwyMjK6urpmZmaYmJiqqqpUVFQAAAB6qHgnAAAAAXRSTlMAQObYZgAAAAlwSFlz\n",
       "AAAOxAAADsQBlSsOGwAABApJREFUSMfVV0toU0EUvYl5+bRJmiIUF1VDRCt+MP5RULPowo0auyi4\n",
       "kapIBRetLgpd2I+K4MYGtCLip6IigmIXovhBo4ggXRhUBFFoN1qs0FSptVXbeufz3sybeS8ppRsv\n",
       "nLzk3Tnz7py5c98NQEFr4yhgwRnjBWFqwRSZGMCTY0A76TamJDZTvLmFFpkBuAICfeTmJ5fB7zjQ\n",
       "LmvOcMPE4Nd6gMoZ4kVSwicLTC00hEJkBR6Sm+ecozYyDGTOSd09qw4g3wih9FR4FYlEosqR52Pb\n",
       "Arskn6Qxs14MGzoFWoi3zjns0iwD+ZrXM6oDt/lON4S7p8BrnuPKq+GxPZZ8aDfHYuBvNDPpySh+\n",
       "9AiQNZvr1eTkQNu6o1FT7TXeeo3zri3OMxZLboVXOcCuSdkHgWVH9nV9NLigvuO/yJxpC2FUJeSS\n",
       "2h84cD9i89nSmrcKdx5xGsW8UJwX7QJXXryJpVNG9kG0DUoWbXzDee2ecZLgWYFVicQal7DvcuBe\n",
       "Q29WU20dwG4i/PbiPJswdl4kFaJ5VJqSfeAhrC0XOaU78pdo3idwH2A/dWkni8rBJLkNrSlVtcBI\n",
       "+TzqfUWfmqDW58xrATcehNoiNJeJhMJnL54lucAwqUEZgVMQpM8y1tMRTX+q75kneTkHrhY6+lTV\n",
       "PHhK3pJnvVWXq/NOufNwRQvJ1ZuTfdQGrDMOwQmyMUkBf9pHJfSNs6oaB0+Sj97IAZ6Dj/J1qmp+\n",
       "HOYjJ6VVDVvned15/QDl9Bx3yT6qsVXgKh49GSF7MSQQiTEJb6yklyhWpiH18TsByuKqamWoY/g7\n",
       "frnqGrbFK8268Uh9r7HCtnwk6VaYSWdgaflB1pEUgMwzOlvsEiteOajJqpuNyedNqqq14rDob/zy\n",
       "Rs1tnQfn3Xik+JbmzCSxfMReiBwBWECSJC4A2zrZyX3A3gWVPf3m8D0cJVn2drWrNh8LQCupWi9V\n",
       "tXUe7B5IO/O85svQH5N9tDKajFu8SQjXCcAxqtANmE2HPAfjmzl8O8cxMuuoqtppjGtD2qp1kjnw\n",
       "4Npe8zVl59GtrufVTfjIDVOiINmwhjZWI01AlBaOu9V5Ohxj7jCr3GGG2slOiDSM0UpWa6n2ZXJw\n",
       "8Cx9lyxRw3bgCVN4n8nHIXLe4rIPk241TzqjYSwN7yfP4M50CfCqhNHS8DdhT2AWQG8jg2xCNavf\n",
       "iathO/EcelGFV6X4BzTGUQlW+pTljBQEf4Kx1Goxu8GhUXJqnJTWdFq8HvvPgN7fPZbAptgMxtPz\n",
       "gU3warj6nmisDnAUtBP6LY3H6kxVQZ7f3mP6te0ijaoJe6eu/K7lKGgO65oWz7BHE9AIZF0mbHZd\n",
       "XV+MoeAfN4e/dtPjtRdZ5xwJNsvCf2L/AKZgY1NNz52HAAAAAElFTkSuQmCC\n",
       "\" style=\"display:inline;vertical-align:middle;\" /></a></span>"
      ],
      "text/plain": [
       "|- forall_{A, B} ((A proper_subset B) = ((A subset_eq B) and (B not_equiv A)))"
      ]
     },
     "metadata": {},
     "output_type": "display_data"
    }
   ],
   "source": [
    "# def of (proper) subset\n",
    "proper_subset_def"
   ]
  },
  {
   "cell_type": "code",
   "execution_count": 27,
   "metadata": {},
   "outputs": [
    {
     "data": {
      "text/html": [
       "<span style=\"font-size:20px;\"> <a class=\"ProveItLink\" href=\"axioms.ipynb#not_proper_subset_def\" style=\"text-decoration: none\">&nbsp;&#x22A2;&nbsp;&nbsp;</a><a class=\"ProveItLink\" href=\"../__pv_it/axioms/7d2ab8ca139d19ea56c6739c6bcb2fc80d1d3ffc0/expr.ipynb\"><img src=\"data:image/png;base64,iVBORw0KGgoAAAANSUhEUgAAARkAAAAWCAMAAADD7xhEAAAAPFBMVEX///9WVlaurq4dHR0JCQmI\n",
       "iIgiIiIQEBB2dnbu7u5ERETMzMzc3NwyMjK6urpmZmaYmJiqqqpUVFQAAAD3e0JlAAAAAXRSTlMA\n",
       "QObYZgAAAAlwSFlzAAAOxAAADsQBlSsOGwAAAzZJREFUWMPlWMmC2yAMdTtlN/v//2ttMAkCZHCT\n",
       "W3WYlww2emgn2/aB7A1+uM2/P/glAl86z7YRDzHvqofPWoHvY8gzffcLCIE7KQQghte6d8/28xxi\n",
       "Fh1HzyoJvjoZYzhES5VO5p7omyyMCTSCEABozWvLZ0EkNMSLZRwSywQqYdlUIaYFLdb1TRYQAp2M\n",
       "CdSoStDs8lnIWAfx+hbiwMAqtJkdc+CaaJML7bq+ycKYQF9axgQAFjNx/8wyrMG8yc4jDA8iKaV/\n",
       "figF/3bXU+4iyMSyvvsFhMApSwRqdJfJHxYuryFmT5CNxNrCSvPDg6YNmSOIL6UsO1i7VX33CwiB\n",
       "XjACAFmyKOMPk4lDzF/OPK8OKeg+rmA5y0UojuRhVd/9AkIAKzM9AYA2LcoqnhfqYWfklLSHt1Ss\n",
       "mIZU3vuQUVESQsL7Xfd2vKWVhE4fSuSGwKDwYQQA7qH8KYZhqu630XJuu+ZCPcTLY0dpq3bSSNMj\n",
       "uUp6Vph5NvPEpaeym10mMJiAMAIQz3DhlXE5yFRH01YtdWYgplpn7dEaZNOSTN94JCuaVPHhtAC3\n",
       "3i++nBMYTREYAYieAOMaxeqhNOS2FqeWEfmtSBvygzmpuLV0hs2wL1gGIzAQlECDenOVLcim6w2Z\n",
       "T5XMTbOpRHd1yJOjt4Msd6VDXMfydFZnqEcsMyUwLDMYgQa5r4bQw0ZWg5HIORtUF48E4mZcP52f\n",
       "Q9hgvr2y/CCoX9P6LGZke7na7SIBvMwMCDS4s1DlEiwqqcyI0Dm+bXN7eUfWM6g2g5A5hogrYl9W\n",
       "s9OZAe3rMwLDfoYSaLEKiaMR8RBFU2b22GpQtEZx3NCSFn9+eB9TSPa7jZnwus29E4SamWUUvV3A\n",
       "CQTzhECLdZFJdlCwzBzXiy6dyoxE1e3o+ovLwXDeZgadD1DoBvcENvOEQIvVNjkvz7YteDaSSAW4\n",
       "z4n2EobMYStTI35bHOhbX/jgetwRsqngCBuP9FRntDgd+TnnjW6bcoc4ZL1051i75qN65Me/wRUC\n",
       "LaKZMPnBREIcRrr46MxDfesLy9I6eULIzE61E4ij8rj0K+aiz1E9O/nMMIVAi2gmbP+1/AXr8y6K\n",
       "trRikAAAAABJRU5ErkJggg==\n",
       "\" style=\"display:inline;vertical-align:middle;\" /></a></span>"
      ],
      "text/plain": [
       "|- forall_{A, B} ((A not_proper_subset B) = [not](A proper_subset B))"
      ]
     },
     "metadata": {},
     "output_type": "display_data"
    }
   ],
   "source": [
    "# negation of (proper) subset\n",
    "not_proper_subset_def"
   ]
  },
  {
   "cell_type": "markdown",
   "metadata": {},
   "source": [
    "## Theorems & Conjectures<a id='theorems_and_conjectures'></a>"
   ]
  },
  {
   "cell_type": "markdown",
   "metadata": {},
   "source": [
    "<font size=3>The `logic.sets.inclusion` theory already has a substantial number of related theorems and conjectures established, covering a wide range of containment-related concepts, most of which would typically be used implicitly behind-the-scenes when utilizing the various related containment class methods instead of being used directly and explicitly in theorem form. The theorems and conjectures cover topics such as transitivity of containment relations, folding/unfolding of containment definitions, relaxation of strict containments, and containment claims being in the Boolean set. Some illustrative examples of the theorems are shown below, and the remainder can be found in the [containment theorems notebook](./\\_theorems\\_.ipynb).</font>"
   ]
  },
  {
   "cell_type": "code",
   "execution_count": 28,
   "metadata": {},
   "outputs": [],
   "source": [
    "from proveit.logic.sets.inclusion import (\n",
    "        unfold_subset_eq, fold_subset_eq, subset_eq_reflexive,\n",
    "        relax_proper_subset, transitivity_subset_eq_subset_eq, proper_subset_is_bool)"
   ]
  },
  {
   "cell_type": "code",
   "execution_count": 29,
   "metadata": {},
   "outputs": [
    {
     "data": {
      "text/html": [
       "<span style=\"font-size:20px;\"> <a class=\"ProveItLink\" href=\"proofs/unfold_subset_eq/thm_proof.ipynb\" style=\"text-decoration: none\">&nbsp;&#x22A2;&nbsp;&nbsp;</a><a class=\"ProveItLink\" href=\"../__pv_it/theorems/ffb57c6ecaa9512f7208b5cea9aeeaa8cfa4a4e50/expr.ipynb\"><img src=\"data:image/png;base64,iVBORw0KGgoAAAANSUhEUgAAAPcAAAAXBAMAAAAl5sTiAAAAMFBMVEX///+IiIgiIiIQEBB2dnbu\n",
       "7u5ERETMzMzc3NwyMjK6urpmZmaYmJiqqqpUVFQAAAB6qHgnAAAAAXRSTlMAQObYZgAAAAlwSFlz\n",
       "AAAOxAAADsQBlSsOGwAAA3lJREFUSMe9ll9IFEEYwL/N27u9vb11JQohK1kfeqiHK6J6SLmHQyix\n",
       "FqUgBLkKLxDEDaPHOit81HtRIrAuMiQIOku0QuryIQoNr8eo4AgqxFCD5DTL+nZm93bubM88qIG7\n",
       "nZ3v2/nNfP9mAIpsnKoXVhAKCaN/MUGB5oqvobC1kPAmnSFt9N8VA5eNhz/pIPcH/zj8/NfsbJ8O\n",
       "XJLAHxtDV4uB+4y9e6MO8hMO4/sA5AxAL4FfMNwTLgbuMYzW5SQfc4iErwDiMsAEgXs1fKSK8jmu\n",
       "Huqd5IGct82qGiMdCXct4QJKNGMGCa3vLS7gJvERc3J5juDOJqsnzyPuAP6SJGT3qOre4uAlqloV\n",
       "dBD7UMCXfTxHLCP0ZsdLwsB/wBxzpQl8FKCFjGt5n1sd3gnu08Gd91FWF3eGM2xT7kNuVF48WTZt\n",
       "JIgUI/BuEEi68fuJ9PxyaIRkv9vSbzQWGolEouBpH647Y8Pxu+68JTVahWMDhtELmNK+ELitsD0K\n",
       "/oOGWwIE7tZovXD9pBFRCVwgB340BXwr7Y4DbGSKTAsctpTOfmo1dU3zoliHR/SlQ8VGM+q0oYQr\n",
       "9MyTGfwKXdjgbhoRCZDmWbjYoYDbtNsMwBQDf52NN99oVteGA9Ap4bi98xX8TaGSSHcOsWdkWLlO\n",
       "v0pBQ5KFc940XDH71cDvYuBeCafhtnQ+hApb1zY7iItwjLxk2Z4f+DdnbLmSwutJLHKmjXoqJj4D\n",
       "C1d8MXhvVYjJJzoDd73BeCuXw/182Nalza2gr+QAkGzglOxxtIgLWDK8G6bwy2S1g6Y3x4GfYeGi\n",
       "jiFwF6x4aE4wcKEGO0m3ootJW9cUp8GfaQqINAb6s0mA8lu9NBUJXCabGQ7NaaZbe+IM3Bc6sgDN\n",
       "YMWD8J091YiNSqMg9UUibaauad9K4IeUt6/oW3MrTUm5fWV2uo14Is6cixwydepWuMemmgJCxqq/\n",
       "GA9iZtWR2gFRT9DWNduOnBQcOKXm1sJL7Axo2NIUHwRhAfidjNkNg2IODpP19GjQkMiDC4FDkKBl\n",
       "ytSlbaJwgRxj4L4a4J9e81TDy2+hkRQDf5CGpqU4iLVYZKQbobq2VZeJoYEyDbp0W9eMuGjBa054\n",
       "9XXEz/Td67nJ8LWR1rxCW/CYNpaWD7+9DvhaV7DOQsJyjLKqPHjSAS5HSG3/f03494jf+P/jjSgp\n",
       "bc4AAAAASUVORK5CYII=\n",
       "\" style=\"display:inline;vertical-align:middle;\" /></a></span>"
      ],
      "text/plain": [
       "|- forall_{A, B | A subset_eq B} [forall_{x in A} (x in B)]"
      ]
     },
     "metadata": {},
     "output_type": "display_data"
    }
   ],
   "source": [
    "# if A is a (non-strict) subset of B, then\n",
    "# every element of A is also an element of B\n",
    "unfold_subset_eq"
   ]
  },
  {
   "cell_type": "code",
   "execution_count": 30,
   "metadata": {},
   "outputs": [
    {
     "data": {
      "text/html": [
       "<span style=\"font-size:20px;\"> <a class=\"ProveItLink\" href=\"proofs/fold_subset_eq/thm_proof.ipynb\" style=\"text-decoration: none\">&nbsp;&#x22A2;&nbsp;&nbsp;</a><a class=\"ProveItLink\" href=\"../__pv_it/theorems/104bbd8a360019a8dc7f0e04015813f9e7ec5e9f0/expr.ipynb\"><img src=\"data:image/png;base64,iVBORw0KGgoAAAANSUhEUgAAAO8AAAAXBAMAAAARnwX+AAAAMFBMVEX///+IiIgiIiIQEBB2dnbu\n",
       "7u5ERETMzMzc3NwyMjK6urpmZmaYmJiqqqpUVFQAAAB6qHgnAAAAAXRSTlMAQObYZgAAAAlwSFlz\n",
       "AAAOxAAADsQBlSsOGwAAA3lJREFUSMe1Vl1IFFEUPuPO7Mz+ukskVmayPRjVg0UUBcYGCxEmDBJB\n",
       "D20WuAYROw8h9JCuGUEvKlgREmlQ+RK4D2LWho3Sixk0EfRSlE/2I7gapvannXvv/Lmurg/rwJ17\n",
       "z/377v3Od84MwHo8Uo7xBKzTs5XBt680fh/LGGl8zC+uL0wr19SyEW98YfJbPXAqwDNi38kv8ClW\n",
       "fTaAi0KhUDlrOmoB0grcAmgknNTmF/g5qwbnWX252BpqCwD0JmEU+ZABeC2/wBX0zV+bo7Wwwzb0\n",
       "RsESAIcMXqTblWcXM1E1c/9o7e+2jaWxdCTAhah7Q6F9+QX2MG0lfX+Zxuxj+wGi6G4eNf0EoI72\n",
       "yRnLV7/V8lAMGA1yHQC3Js5Qs9E2R5wNlt4l6kZSWkGiISUcoEMNfyL9Cmk4qZ/kFU7wym6I8b6q\n",
       "emtegcYOLi1Qs9U2k0O9vcNz+VAGTpmnTuCZR7xlwFWYwG68RjQLrjBmYJbGcPUwwAZwh/U+B92v\n",
       "KDU4y85hW+fErXnUnIiR5gswJ/TsYVJIgnfKBAak5Gg2NxqCSVF2JlCqQILTAhbwyD/YXNVaV4gH\n",
       "9k7jhcjd2oeYi+6xVRrUqBbwSCyWLcjJLYIDWxIc27QShN0A1XaqCfHbmd1prWvC+f7feNsyNKrp\n",
       "STl4yiK8ZPQLWMBO4LIF+Q1ckBh3aSdZUp5+PYg3/2DwSWT2GEsXs6PfTd1uQ002IYtecpsW6q8e\n",
       "9BJ5hkGYsAHzytIgr2LVI1wLZ0W6PdVFNEk72RrcUCJcxnXpPzhnpMwOZPmgrEecn7qpL5KWdXe1\n",
       "dVvAwthbPb2nUkRsx5j1ibzmqSdiGtGFhPw1GIIrAyH+S4b3izcziBpfnJy8TRgsMJMKh3gKcxf0\n",
       "WuEE8LUOxJclSV1ip8+wXoIhVkhwydCFe86iGspz5pirZgs5K9SEMEg/QdhloxoaUOVibVhiKlId\n",
       "iiGuFr7dg7FIdSFDDVIdNDYbXetnBDk/DMKLTrESRmYi/Zod2Il+4gLgvkCo9gU3qUavZ/ORjSDV\n",
       "Ey90RaouYn3ejNYlac0TClmfRf0PJTNSfPZYt9KNU1EFmh2uAJ+kXWayOBGLGe4SzN2EXJ9ZZ2bC\n",
       "fZgV2D90XKF/M9whuL6T9Q1kSSrWbs05gIszO9SswIyMVJ/d5OXV0/f6/SnKa+hZ7fkPsDXLAsFW\n",
       "EgsAAAAASUVORK5CYII=\n",
       "\" style=\"display:inline;vertical-align:middle;\" /></a></span>"
      ],
      "text/plain": [
       "|- forall_{A, B | forall_{x in A} (x in B)} (A subset_eq B)"
      ]
     },
     "metadata": {},
     "output_type": "display_data"
    }
   ],
   "source": [
    "# if every element of A is also an element of B,\n",
    "# then A is a (non-strict) subset of B\n",
    "fold_subset_eq"
   ]
  },
  {
   "cell_type": "code",
   "execution_count": 31,
   "metadata": {},
   "outputs": [
    {
     "data": {
      "text/html": [
       "<span style=\"font-size:20px;\"> <a class=\"ProveItLink\" href=\"proofs/subset_eq_reflexive/thm_proof.ipynb\" style=\"text-decoration: none\">&nbsp;&#x22A2;&nbsp;&nbsp;</a><a class=\"ProveItLink\" href=\"../__pv_it/theorems/2a19e3d591ef9bab71b0a9af46e46881e197d3430/expr.ipynb\"><img src=\"data:image/png;base64,iVBORw0KGgoAAAANSUhEUgAAAGwAAAAVBAMAAABRZRb3AAAAMFBMVEX///+IiIgiIiIQEBB2dnbu\n",
       "7u5ERETMzMzc3NwyMjK6urpmZmaYmJiqqqpUVFQAAAB6qHgnAAAAAXRSTlMAQObYZgAAAAlwSFlz\n",
       "AAAOxAAADsQBlSsOGwAAAc5JREFUOMuFU80rRFEU/w3zzDPPMKWsiJ6FskJkJwvJBsNC2UkpZTH+\n",
       "Ah+RsvFRlCSUZENNUvIRY6NkM1FWirWFkeSjMO459z7dW485dd+59/76nXPP75wH+JiNf+0vuEyi\n",
       "c37YNBCOAve0vzWQSDO7/Cc/2ppYpcAh7ZcMpFe6O0UL9LuuO+yFzFDAGEboOX0G7Vi6k3d2ofkx\n",
       "DXPS4lSQICaCKYNWw9/g5Bv7bp2Ftk7K24CCpEhqlialGA98sX8wRIyWU4oVoM516w2aIxVJRD7Z\n",
       "G3o6uBNp0AHsAwN8FVNQPgEIp0IvXNq9TtvBKAW9AGZgM2I1KignJePa3/wsg5bALJ2vgbxYcJ0l\n",
       "+FJQLh9Ljk5e+VihsQJDR2lSfVQoEJWKbNXqNEtMwrPeDrYuoIjCbFDNZ3wVXdUf6YhVKUtd19+I\n",
       "HGrPlVjti5wfBwrLE4mwreZI5H3c9FjhpBq5c7EmuOgtFCswKM42xYzLRodbveGaoKA0O3tiFfLV\n",
       "XktadSBUASv+EcNNZsGc4p7MIiLxD9GB6l+NgFlvXKuQxexfdUUtRd5kXmajOUlv0wTrdNnTxBje\n",
       "XdfVfhy2Kd9gVl+WbIP+1+P/swJj+AFUbWZc/NlSuAAAAABJRU5ErkJggg==\n",
       "\" style=\"display:inline;vertical-align:middle;\" /></a></span>"
      ],
      "text/plain": [
       "|- forall_{A} (A subset_eq A)"
      ]
     },
     "metadata": {},
     "output_type": "display_data"
    }
   ],
   "source": [
    "# a set is always a (non-strict) subset of itself\n",
    "subset_eq_reflexive"
   ]
  },
  {
   "cell_type": "code",
   "execution_count": 32,
   "metadata": {},
   "outputs": [
    {
     "data": {
      "text/html": [
       "<span style=\"font-size:20px;\"> <a class=\"ProveItLink\" href=\"proofs/relax_proper_subset/thm_proof.ipynb\" style=\"text-decoration: none\">&nbsp;&#x22A2;&nbsp;&nbsp;</a><a class=\"ProveItLink\" href=\"../__pv_it/theorems/902afb1e6249d7c2feb1149d34fff9880d2b647b0/expr.ipynb\"><img src=\"data:image/png;base64,iVBORw0KGgoAAAANSUhEUgAAALkAAAAXBAMAAACllfPxAAAAMFBMVEX///+IiIgiIiIQEBB2dnbu\n",
       "7u5ERETMzMzc3NwyMjK6urpmZmaYmJiqqqpUVFQAAAB6qHgnAAAAAXRSTlMAQObYZgAAAAlwSFlz\n",
       "AAAOxAAADsQBlSsOGwAAAs5JREFUSMetVU9IVEEY/23uvPd29+22EYiHInkdDOpgEdUhw8PeJHvY\n",
       "KQKxIjvJLghBF9PyrB4ywkNuVHgRWkiM/mCbhyAM3FOnIukSJqiFtm2m9s3Mm91xU7aeDczON/Pt\n",
       "/Ga+3+/75gG+m1XB343ttL3yjIGt/Peoz3DjvQ/waKMYQot/eF6vz8/fTiGQBZ7x+R0f6Ofk8FGh\n",
       "VzuOUyfNY0AsDwwCXTy6Nh/oL+Qw8UOO12pKgnwFwivAFEXmAsGcD/R68RvszYuRHSh5bFqy6YQq\n",
       "FzaxE/JDu1SzJ7Aqxli65IoRWaET1An6iOMc9YEekaJmor+kuJqrqg3sU4rioox5AlwWi27ZdmWw\n",
       "TdH5xYjenLkkpl2a6/qFXbPca1N4fbBEVrLjwnV1JTGe4oah/nw2pSwzOdZ0xbN35OQVrDUx7dPQ\n",
       "93UjepKTR9IYblBwFpQE2rUI1G9AP0M4ZnN7O9XeJLBbhS82VT+f+C4P09Av8U10JZP4j8YlZyOH\n",
       "pSQZ2Is6ergzDozJ+88B0zo6I9c3yWO2hM6jmSZPmN9y4JVYi9+Vu3JoyerogdBMMWUbwA7pzHBt\n",
       "9sv5UBHc5Dov0OHRWjJODwoQPBW+/j1Tn6GjxyMDaFVl8nZCiWDQ5TBKfVjOW7+orAhQfZkFTjIv\n",
       "0ptC1BGP0UmwOR09nCIZRqE0ac14GDzdLB560nsLH1z0XoIQrd4fVEkbE9cZSyy4HrX9aQ09kmhe\n",
       "xgcoTayfKv5asGTBxbv1WxtTNZZcm5/tEOQVKyxAoClJLR7pGRmHlUcvlCbhvNpRV7HgbhQtin1n\n",
       "jjXCWgY7qDETJoVXYcjo+120KGb4G/V37xzFfwrs5ZDZgDdLifGchv54BucLaSZqyB5ONHUU9xob\n",
       "vj0Rxym9wF4OlL+8Uc02dEewXVST3lilZ9so//Q93Ap9s9ZTwV9TvpD9F/RtNes/YPwG93ulpdJe\n",
       "OR0AAAAASUVORK5CYII=\n",
       "\" style=\"display:inline;vertical-align:middle;\" /></a></span>"
      ],
      "text/plain": [
       "|- forall_{A, B | A proper_subset B} (A subset_eq B)"
      ]
     },
     "metadata": {},
     "output_type": "display_data"
    }
   ],
   "source": [
    "# we can \"relax\" a strict subset claim into an improper subset claim\n",
    "relax_proper_subset"
   ]
  },
  {
   "cell_type": "code",
   "execution_count": 33,
   "metadata": {},
   "outputs": [
    {
     "data": {
      "text/html": [
       "<span style=\"font-size:20px;\"> <a class=\"ProveItLink\" href=\"proofs/transitivity_subset_eq_subset_eq/thm_proof.ipynb\" style=\"text-decoration: none\">&nbsp;&#x22A2;&nbsp;&nbsp;</a><a class=\"ProveItLink\" href=\"../__pv_it/theorems/e70e46ebdd31dc39d657197e3671c8ad1a4d81170/expr.ipynb\"><img src=\"data:image/png;base64,iVBORw0KGgoAAAANSUhEUgAAAPcAAAAXBAMAAAAl5sTiAAAAMFBMVEX///+IiIgiIiIQEBB2dnbu\n",
       "7u5ERETMzMzc3NwyMjK6urpmZmaYmJiqqqpUVFQAAAB6qHgnAAAAAXRSTlMAQObYZgAAAAlwSFlz\n",
       "AAAOxAAADsQBlSsOGwAAA2tJREFUSMe9Vl1IVEEU/lb37l7v7t02QpGoWLYHg4p+KILCMljrQcyL\n",
       "iRGCRNEmQbkgBBHJWj67QgnhQ26l+CK01GKUoeZbGHQh6KUi6aGgDftBM/s/M3P/2tK1WLswd87M\n",
       "OXe+M+d8c+YCi/XIOfRxLOKzUrjQOZf+CrUJJjzNP7Zawbuid7+rpJLJN3KFaxS4w4aX8g9+UHTP\n",
       "TfCScDhcJsRlxVBvjKILaGWxOZR/8LuiG/4k+tOllqae+TASxzjFRQPcev7BN/K3u31GRHqNrblA\n",
       "iLgGFGrwU+iLFiHlgmhtrm+8DyQtjZvPnCFUQt4cDm/JP7hP8C2lfhW8szWJEHsfIC+I67eAo3xW\n",
       "m2sdi6V/Ac62BSi6d4oPW21NTdAQ/BScDsj8uEnb+NSpL5HBGJdcmUgdc8hjfraf5t3RaDQOb3O6\n",
       "6pjTfE802kSjVenKSmFboAu/5e982GGDbzCri0q08GjupJ0L+ENwcbIo64EjcILX6JCOC3GMDozD\n",
       "vF6k9KoOjyAaCvlMydDwR+GLDb7LDLOXTqEaFAnp3ySokYKfn81HpH/iBFdagvAYbmeAhw7zJrGV\n",
       "rdRSDnCJIvxBpG7U3jk3pWgpzM/Oe3wyeFl8paOWWcosEGed4K6iCbQbcjmkdba5LNiVoFB7dUfY\n",
       "GVtWi3G3BT7C/HczBxjzqrv40rgtVlgx/opvKWRam+BBXyeeGZfG+wfDMdtcFYgvHITzMFoNUOsR\n",
       "48bXJp8TTMOY4Wel7TznW7+RxDFIGb6lVBa4EqPkDsDMdGPKNldEUHc4wNk5kllcm41E9R42yis7\n",
       "fL2aeRoDfA/pyFvNyGaC5auQOag7wH2RfdNohJlp+TMsc4m7D0Ya1QD3hiA1z2p4/ONi9ilsOJnh\n",
       "bCywCo+LFomJbOI6EwK0oCvuAA9CnjELMWVamYFtXs3lSWpWCS/LWQrOWRLFc4kuVUCehrQWqIO0\n",
       "HVjuCDsLLXEwzT1MaKhNwTb37eV1IAmXtZvxhV499PVOSCPd3nLcn4oM0u5adDSkl2oO8JsTaJhN\n",
       "QqFyEvf3RKpOUGgtc/SyIiMN7S62GffLn4ovHLavVIO02VepakmOe84z9+0xz76kXNe0J/s/qs8U\n",
       "FG0h4H3zLd6WA7w0e8KqQ378GTwQ5bU92/xlVNT2//8b+u/PT1AG1cZKLwFYAAAAAElFTkSuQmCC\n",
       "\" style=\"display:inline;vertical-align:middle;\" /></a></span>"
      ],
      "text/plain": [
       "|- forall_{A, B, C | A subset_eq B, B subset_eq C} (A subset_eq C)"
      ]
     },
     "metadata": {},
     "output_type": "display_data"
    }
   ],
   "source": [
    "# the subset relation is transitive\n",
    "transitivity_subset_eq_subset_eq"
   ]
  },
  {
   "cell_type": "code",
   "execution_count": 34,
   "metadata": {},
   "outputs": [
    {
     "data": {
      "text/html": [
       "<span style=\"font-size:20px;\"> <a class=\"ProveItLink\" href=\"proofs/proper_subset_is_bool/thm_proof.ipynb\" style=\"text-decoration: none\">&nbsp;&#x22A2;&nbsp;&nbsp;</a><a class=\"ProveItLink\" href=\"../__pv_it/theorems/3436b4d16735048d09368992c30276edd06afedb0/expr.ipynb\"><img src=\"data:image/png;base64,iVBORw0KGgoAAAANSUhEUgAAALcAAAAWBAMAAABwABDnAAAAMFBMVEX///+IiIgiIiIQEBB2dnbu\n",
       "7u5ERETMzMzc3NwyMjK6urpmZmaYmJiqqqpUVFQAAAB6qHgnAAAAAXRSTlMAQObYZgAAAAlwSFlz\n",
       "AAAOxAAADsQBlSsOGwAAAvlJREFUOMutVU1oE1EQnk120zRN0q1/eCi2rKDWItTiDwrVHIr0Yl09\n",
       "9FhiwT88NHgQvDTFglCQphIiUopWbOlFMYdS8QeMHoTaQ1frRRD0IBUrJBH8aRWN8+a93Ww32T05\n",
       "MOy8mbffm5n37SyApwwK9ZCgx6ueIhlcUYbd9oRUxztbz622LwPcRvsDc7xzefGNUJRbFcFw/9/8\n",
       "5zMAjQ5/IKQO906AlAN4xNY3qmMro1xRIqXKsD8OUEhAre4Ez8mDGMoADLC2xauD1+W4MrNQ2cMU\n",
       "NuR+FsLZCvCwgQ2ZBzpXNqqD+4WidB1LcGOTpmnbubmArgU8YK9odp/WYoFjvX4dwphZrUvL3wrF\n",
       "2tQmnsClrnK4gJrGgsb5xV7TrcyjV2OIisjtmrbHBXxGKHYF3lN7lB228D6AXlZEN6eTbrVl47qP\n",
       "+JSxNQ8ATpFTrwAfBzOte5CMsWd0ohyt+dGwhaJzsIYUgVDL4VYEC2NrRiBIdFT2U+ji785Z0V7Y\n",
       "JRQgCynaZG+gtAKwyOpZpOWo7UKll0iVSBvaukzpyH84e5tBahPbDgoF6fzjAjFqwM4K3Cb/RCNJ\n",
       "dWB7tW0CHOKT6CniASpPZ3o3PaLIraIT/DhAfTMzRmzg9VhL+Csad6jwuC1ziAfwhlmOo8/Ip97k\n",
       "9DPgRM7ZFmSyj8rx2cCTuC36C43XtGxeA44JR5jnaIYqh4f8y2ic/2RuOyk0xOhaND8rU5qQhUnW\n",
       "6Re0bFgD/gqrYrUM0VVNw3oKPQfli7mtW+gQe2WFXGNl8DSeekC32FprWOAxeQPWWsf4FSVyzHQW\n",
       "iIuInDL5doFrTykDkf5V4mLPssnYpVI+f50Ad/JBtDTFSZQ+TVMRfBZtJcSkQzpwXphU9CW42mWy\n",
       "z/r8zYEuuh06wj9/Uy5b1l28fUOJQfA7KK3WUM1CxViqPt6qyRNrwyFQno7VdMDct87Z8hg7K9RT\n",
       "rrj8oZyjNuJY9wj1FJfTA84ZPeU8XeXq+St0+Vludjpy8F/lH/EntUbHuKZbAAAAAElFTkSuQmCC\n",
       "\" style=\"display:inline;vertical-align:middle;\" /></a></span>"
      ],
      "text/plain": [
       "|- forall_{A, B} ((A proper_subset B) in BOOLEAN)"
      ]
     },
     "metadata": {},
     "output_type": "display_data"
    }
   ],
   "source": [
    "# a subset claim is a Boolean value\n",
    "proper_subset_is_bool"
   ]
  },
  {
   "cell_type": "markdown",
   "metadata": {},
   "source": [
    "## Demonstrations <a id='further_demonstrations'></a>"
   ]
  },
  {
   "cell_type": "markdown",
   "metadata": {},
   "source": [
    "<div style=\"width: 90%; border: 5px solid green; padding: 10px; margin: 0px;\"><a id='demo01'></a><font size=4><font size=4><b>1.</b> Some subset relationships among standard numerical sets, deducing some standard memberships, and deriving $\\{x\\in A, A \\subseteq B\\} \\vdash x\\in B$.</font></div><br>\n",
    "<font size=3>We begin with some simple expressions involving well-known numerical sets. Many standard subset and membership relationships involving common numerical sets are available as theorems, with many such theorems automatically imported and utilized. For example:</font>"
   ]
  },
  {
   "cell_type": "code",
   "execution_count": 35,
   "metadata": {},
   "outputs": [
    {
     "data": {
      "text/html": [
       "<span style=\"font-size:20px;\"> <a class=\"ProveItLink\" href=\"../../../../numbers/number_sets/natural_numbers/_theory_nbs_/proofs/nat_pos_within_nat/thm_proof.ipynb\" style=\"text-decoration: none\">&nbsp;&#x22A2;&nbsp;&nbsp;</a><a class=\"ProveItLink\" href=\"../../../../numbers/number_sets/natural_numbers/__pv_it/theorems/39501c3279d7a7bd5d06ac28f4efc5811af704550/expr.ipynb\"><img src=\"data:image/png;base64,iVBORw0KGgoAAAANSUhEUgAAAEcAAAATBAMAAAAwgQ3NAAAAMFBMVEX///9mZmbMzMyIiIiYmJjc\n",
       "3NxUVFSqqqq6uroQEBB2dnYyMjJEREQiIiLu7u4AAAAPqInnAAAAAXRSTlMAQObYZgAAAAlwSFlz\n",
       "AAAOxAAADsQBlSsOGwAAAN5JREFUKM9jYIADRgYiAA+Fit7+Of2AYeXPBmyKEHLHORIY+D5gNwku\n",
       "lxuwhIFhAoPMmZNnzjigKYLKMTCkH+AOYLiA3SS4XKoz6wY0RTZ37969xIAsl8qmYIWqSHspjAWX\n",
       "S2U4wNOArIjvKtxIuFwqgyLfvQtIIc7WgKQIKpfKwFJQMwHJtdwMSIqgcqkMDHlsyIrUkBVB5YCM\n",
       "Z3wXkBSFoSiCyAEZTAYHkBTxoiiCyB0CYiNkRYyIcIfLbQeJb0AO5x1wFkxO+ydQJR+KojcZD6Ch\n",
       "iimHAF1nodECBQBHu1Pct2WRcgAAAABJRU5ErkJggg==\n",
       "\" style=\"display:inline;vertical-align:middle;\" /></a></span>"
      ],
      "text/plain": [
       "|- NaturalPos proper_subset Natural"
      ]
     },
     "metadata": {},
     "output_type": "display_data"
    }
   ],
   "source": [
    "ProperSubset(NaturalPos, Natural).prove()"
   ]
  },
  {
   "cell_type": "code",
   "execution_count": 36,
   "metadata": {},
   "outputs": [
    {
     "data": {
      "text/html": [
       "<span style=\"font-size:20px;\"> <a class=\"ProveItLink\" href=\"../../../../numbers/number_sets/integers/_theory_nbs_/proofs/nat_within_int/thm_proof.ipynb\" style=\"text-decoration: none\">&nbsp;&#x22A2;&nbsp;&nbsp;</a><a class=\"ProveItLink\" href=\"../../../../numbers/number_sets/integers/__pv_it/theorems/1cd0ce5701331e1608ae0251ff814274d551a8fa0/expr.ipynb\"><img src=\"data:image/png;base64,iVBORw0KGgoAAAANSUhEUgAAADkAAAAQBAMAAABelcpIAAAAMFBMVEX///9mZmbMzMyIiIiYmJjc\n",
       "3NxUVFSqqqq6uroQEBB2dnYyMjJEREQiIiLu7u4AAAAPqInnAAAAAXRSTlMAQObYZgAAAAlwSFlz\n",
       "AAAOxAAADsQBlSsOGwAAAP9JREFUGNNjePvn9AOGlT8bGFBA9fzZZ+9MATKOcyQw8H1AlWSwSWLg\n",
       "ZtgAZOQGLGFgmIAmK8jAYMJVAGSkH+AOYLiAJpvKwHfgDZjhzLoBJmtz9+7dSyDGAwZGhSSwLJuC\n",
       "FVRWeylCtxqTAMSQAzwNYFm+q0hmn+N5AJFV5LsHlmVD8hb7AmeoA1gKasBu5kbSCvEPSJYhjw0s\n",
       "q4Yka87VwMAHkX3GBzY5DCHJdyAGaFMAWJbJ4ABIiBchy6YAFH4PZBwCYiOwLKMDXFaRA+ifXCBj\n",
       "O0gc4oQdCP9wP2CIqQGGwE+gPj6I7JuMBxBJjjk7z5z8eQoteLvOQkMSCgB/9keS8E/FTAAAAABJ\n",
       "RU5ErkJggg==\n",
       "\" style=\"display:inline;vertical-align:middle;\" /></a></span>"
      ],
      "text/plain": [
       "|- Natural proper_subset Integer"
      ]
     },
     "metadata": {},
     "output_type": "display_data"
    }
   ],
   "source": [
    "ProperSubset(Natural, Integer).prove()"
   ]
  },
  {
   "cell_type": "code",
   "execution_count": 37,
   "metadata": {},
   "outputs": [
    {
     "data": {
      "text/html": [
       "<span style=\"font-size:20px;\"> <a class=\"ProveItLink\" href=\"../../../../numbers/number_sets/integers/_theory_nbs_/proofs/nat_pos_within_int/thm_proof.ipynb\" style=\"text-decoration: none\">&nbsp;&#x22A2;&nbsp;&nbsp;</a><a class=\"ProveItLink\" href=\"../../../../numbers/number_sets/integers/__pv_it/theorems/eac6d1dbf684bfc5657625c397ae88d8a727c9d60/expr.ipynb\"><img src=\"data:image/png;base64,iVBORw0KGgoAAAANSUhEUgAAAEYAAAATBAMAAADfQ2bzAAAAMFBMVEX///9mZmbMzMyIiIiYmJjc\n",
       "3NxUVFSqqqq6uroQEBB2dnYyMjJEREQiIiLu7u4AAAAPqInnAAAAAXRSTlMAQObYZgAAAAlwSFlz\n",
       "AAAOxAAADsQBlSsOGwAAARtJREFUKM9jYIADRgbCgIciNW//nH7AsPJnAzY17Dt/7rl70oGB4ThH\n",
       "AgPfB6zmMB9TYNjADWTkBixhYJjAIHPm5JkzDqhqGAUYmB2WAxnpB7gDGC5gNYctgOEN3wEgI9WZ\n",
       "dQOqGuazd+/eVQAy+BgYhNhAjFQ2BSsUNUy7AuAmMSUogqhUhgM8Dchq3gYghceDcxA1inz3LiCF\n",
       "cwaSi6pYDCBqWApqJiCJb0BmczNA1DDksSGpYUpACqCCFQwMD8BqnvFdQIizIql5w3oArACImAwO\n",
       "IJmPpD4JGEKgODgEZBshqxFBWCvQCAxIoJ7tIC8hu5O7AeHzfQysxw8waP8EmsGHrIbvWB+U1Xl6\n",
       "zpn5cxZgSy4ca6BxAQUAkCNPARePc+cAAAAASUVORK5CYII=\n",
       "\" style=\"display:inline;vertical-align:middle;\" /></a></span>"
      ],
      "text/plain": [
       "|- NaturalPos proper_subset Integer"
      ]
     },
     "metadata": {},
     "output_type": "display_data"
    }
   ],
   "source": [
    "ProperSubset(NaturalPos, Integer).prove()"
   ]
  },
  {
   "cell_type": "code",
   "execution_count": 38,
   "metadata": {},
   "outputs": [
    {
     "data": {
      "text/html": [
       "<span style=\"font-size:20px;\"> <a class=\"ProveItLink\" href=\"../../../../numbers/numerals/decimals/_theory_nbs_/proofs/nat1/thm_proof.ipynb\" style=\"text-decoration: none\">&nbsp;&#x22A2;&nbsp;&nbsp;</a><a class=\"ProveItLink\" href=\"../../../../numbers/numerals/decimals/__pv_it/theorems/646322292558586ba7863a63fdc6c166bd7a1aad0/expr.ipynb\"><img src=\"data:image/png;base64,iVBORw0KGgoAAAANSUhEUgAAADIAAAAQBAMAAACmdTG/AAAAMFBMVEX///+qqqq6urpERESYmJgQ\n",
       "EBDc3Nx2dnaIiIgyMjJmZmZUVFTu7u4iIiLMzMwAAAAz/ewvAAAAAXRSTlMAQObYZgAAAAlwSFlz\n",
       "AAAOxAAADsQBlSsOGwAAALhJREFUGNNjYEAHPPeN5zCwxwcxMPDdQZNiFtBmYDjPwHB65R80Ge5r\n",
       "7A4MrEAGB4aMMMM0Bl5kmea7dyeAZVIaMlFkNHtgehL2cRQgybDNgZuWwMxghCTDmYCQ4Vtw9iyS\n",
       "DMIFCQyOjKYImad3gcAAKsN9YCtC5jCyHp4NSKbxIsswvGBGyHA0wEPnAZD3GMhg/wYRmAiT4RQA\n",
       "EiuBerf+3AIWOG10AEzzzQ8GkieRw0vdFhI6UAAA1P4101iioN0AAAAASUVORK5CYII=\n",
       "\" style=\"display:inline;vertical-align:middle;\" /></a></span>"
      ],
      "text/plain": [
       "|- 1 in Natural"
      ]
     },
     "metadata": {},
     "output_type": "display_data"
    }
   ],
   "source": [
    "InSet(one, Natural).prove()"
   ]
  },
  {
   "cell_type": "markdown",
   "metadata": {},
   "source": [
    "<font size=3>Given that $1 \\in \\mathbb{N}$ and $\\mathbb{N} \\subset \\mathbb{Z}$, we should be able to show that $1 \\in \\mathbb{Z}$, and Prove-It can do this automatically:</font>"
   ]
  },
  {
   "cell_type": "code",
   "execution_count": 39,
   "metadata": {},
   "outputs": [
    {
     "data": {
      "text/html": [
       "<strong id=\"one_is_an_integer\">one_is_an_integer:</strong> <span style=\"font-size:20px;\"> <a class=\"ProveItLink\" href=\"../__pv_it/demonstrations/1e357e69b42f5b91d5e734917030d30fc71ca6de0/proof.ipynb\" style=\"text-decoration: none\">&nbsp;&#x22A2;&nbsp;&nbsp;</a><a class=\"ProveItLink\" href=\"../__pv_it/demonstrations/226944debb42acc8f970107213512ebcf205a59f0/expr.ipynb\"><img src=\"data:image/png;base64,iVBORw0KGgoAAAANSUhEUgAAADEAAAAQBAMAAABNQoq8AAAAMFBMVEX///8AAAAAAAAAAAAAAAAA\n",
       "AAAAAAAAAAAAAAAAAAAAAAAAAAAAAAAAAAAAAAAAAAAv3aB7AAAAD3RSTlMAMt0Qq5nNdoki72a7\n",
       "RFSRpcO+AAAACXBIWXMAAA7EAAAOxAGVKw4bAAAAwElEQVQY02NgwADP1i87pLMayGBURpOpcWRg\n",
       "Y0hgYDAJ+4wmE8rAUM3xAMhgR5fxZGA+YMOALFOjpJQAog0YWAUckWWuFcN1iTAGIMlwJiPMO8xj\n",
       "gCTDNgEuwdewnQFZBqEF7GaEjJQSEBwAM+s4LjAwI2Rs4FqYD8xhYGCZAJdhgsuwCHgyMNgj9LAX\n",
       "wGREeYFudgIyOH5CBPLgbmYzYJjzBqjX65s3WMDkLNgTDLxrss6c+nUCObxuHIKEDhQAAKWPLl36\n",
       "U6F8AAAAAElFTkSuQmCC\n",
       "\" style=\"display:inline;vertical-align:middle;\" /></a></span><br>"
      ],
      "text/plain": [
       "<IPython.core.display.HTML object>"
      ]
     },
     "metadata": {},
     "output_type": "display_data"
    }
   ],
   "source": [
    "one_is_an_integer = InSet(one, Integer).prove()"
   ]
  },
  {
   "cell_type": "markdown",
   "metadata": {},
   "source": [
    "<font size=3>In the detailed proof of that conclusion, Prove-It instantiates the ``unfold_subset_eq`` theorem<br>\n",
    "> $\\forall_{A,B\\rvert A\\subseteq B} \\left[ \\forall_{x \\in A} (x \\in B) \\right]$\n",
    "    \n",
    "to eliminate both universal quantifiers by instantiating $A$ to $\\mathbb{N^{+}}$, $B$ to $\\mathbb{Z}$, and $x$ to $1$. The theorem appears in Line 1 in the proof below. The ''fold'' and ''unfold'' language often appears in theorems that ''fold'' or ''unfold'' axiomatic definitions, and here in the cases of subsets ($\\subseteq$) and supersets ($\\supseteq$) move between set-containment versus element-membership notation.<br/>\n",
    "Notice also the ``relax_subset`` theorem cited on line 4 and instantiated on line 2, illustrating the use of another containment-related theorem in the proof process.\n",
    "</font>"
   ]
  },
  {
   "cell_type": "code",
   "execution_count": 40,
   "metadata": {},
   "outputs": [
    {
     "data": {
      "text/html": [
       "<table><tr><th>&nbsp;</th><th>step type</th><th>requirements</th><th>statement</th></tr>\n",
       "<tr><td><a name=\"0x7bafadb018588f15_step0\">0</a></td><td>instantiation</td><td><a href=\"#0x7bafadb018588f15_step1\">1</a>, <a href=\"#0x7bafadb018588f15_step2\">2</a>, <a href=\"#0x7bafadb018588f15_step3\">3</a></td><td><span style=\"font-size:20px;\"> <a class=\"ProveItLink\" href=\"../__pv_it/demonstrations/1e357e69b42f5b91d5e734917030d30fc71ca6de0/proof.ipynb\" style=\"text-decoration: none\">&nbsp;&#x22A2;&nbsp;&nbsp;</a><a class=\"ProveItLink\" href=\"../__pv_it/demonstrations/226944debb42acc8f970107213512ebcf205a59f0/expr.ipynb\"><img src=\"data:image/png;base64,iVBORw0KGgoAAAANSUhEUgAAADEAAAAQBAMAAABNQoq8AAAAMFBMVEX///8AAAAAAAAAAAAAAAAA\n",
       "AAAAAAAAAAAAAAAAAAAAAAAAAAAAAAAAAAAAAAAAAAAv3aB7AAAAD3RSTlMAMt0Qq5nNdoki72a7\n",
       "RFSRpcO+AAAACXBIWXMAAA7EAAAOxAGVKw4bAAAAwElEQVQY02NgwADP1i87pLMayGBURpOpcWRg\n",
       "Y0hgYDAJ+4wmE8rAUM3xAMhgR5fxZGA+YMOALFOjpJQAog0YWAUckWWuFcN1iTAGIMlwJiPMO8xj\n",
       "gCTDNgEuwdewnQFZBqEF7GaEjJQSEBwAM+s4LjAwI2Rs4FqYD8xhYGCZAJdhgsuwCHgyMNgj9LAX\n",
       "wGREeYFudgIyOH5CBPLgbmYzYJjzBqjX65s3WMDkLNgTDLxrss6c+nUCObxuHIKEDhQAAKWPLl36\n",
       "U6F8AAAAAElFTkSuQmCC\n",
       "\" style=\"display:inline;vertical-align:middle;\" /></a></span></td></tr>\n",
       "<tr><td>&nbsp;</td><td colspan=4 style=\"text-align:left\"><span style=\"font-size:20px;\"><a class=\"ProveItLink\" href=\"../../../../__pv_it/common/09585084922504426caf1db2ff588a23a0932a960/expr.ipynb\"><img src=\"data:image/png;base64,iVBORw0KGgoAAAANSUhEUgAAAA8AAAAPBAMAAADJ+Ih5AAAAMFBMVEX///8QEBAiIiLu7u5ERES6\n",
       "urqYmJiIiIjMzMx2dnZUVFRmZmaqqqoyMjLc3NwAAABb1yYoAAAAAXRSTlMAQObYZgAAAAlwSFlz\n",
       "AAAOxAAADsQBlSsOGwAAAF9JREFUCNdjYACBtwxQcB9K8/yHMrjXP4Aw5s1vANN8BfUHIDIM5xPA\n",
       "jBiG/glgxgaG9wtANLv37vUOIIY5AwO/AkSGgUkASLMCdfB+ADIeAjHLPwYGk/+XGXj8/04AADnq\n",
       "Fzds8Dk2AAAAAElFTkSuQmCC\n",
       "\" style=\"display:inline;vertical-align:middle;\" /></a> : <a class=\"ProveItLink\" href=\"../../../../numbers/number_sets/natural_numbers/__pv_it/common/6111329435c43892c831c4793de96afbf80bdb3e0/expr.ipynb\"><img src=\"data:image/png;base64,iVBORw0KGgoAAAANSUhEUgAAABsAAAASBAMAAABY9biuAAAAMFBMVEX///9mZmbMzMyIiIiYmJjc\n",
       "3NxUVFSqqqq6uroQEBB2dnYyMjJEREQiIiLu7u4AAAAPqInnAAAAAXRSTlMAQObYZgAAAAlwSFlz\n",
       "AAAOxAAADsQBlSsOGwAAAH9JREFUGNNjYIADRgYUwIOF+/bP6QcMK382wGSPcyQw8H2AK84NWMLA\n",
       "MIFB5szJM2ccGBjSD3AHMFyAy6Y6s25A5rIpWCFzGQ7wNCBzFfnuXYC7KpWBpaBmAtwxqQwMeWwo\n",
       "3Gd8F5C5TAYH4NxDQGyE4G4HGboBxtP+CZThg3EBq00lI5JfX3wAAAAASUVORK5CYII=\n",
       "\" style=\"display:inline;vertical-align:middle;\" /></a>, <a class=\"ProveItLink\" href=\"../../../../__pv_it/common/a9162d1c3cc0470c02e5daf414500903a7a419230/expr.ipynb\"><img src=\"data:image/png;base64,iVBORw0KGgoAAAANSUhEUgAAABAAAAAOBAMAAADUAYG5AAAAMFBMVEX///92dnaqqqoiIiLu7u5m\n",
       "Zma6urqIiIjc3NwQEBDMzMwyMjJUVFRERESYmJgAAAAeMT9/AAAAAXRSTlMAQObYZgAAAAlwSFlz\n",
       "AAAOxAAADsQBlSsOGwAAAHJJREFUCNdjYGB4+//Mmb0LGIBgLgMDzy8gzfGdgYHtK5DBB+TxATkM\n",
       "PB8YGLhnABmcFxhYDoMUr79efvoBSFN9AwPTPBDjJhDLg6T+APH7AgYGrn9AxvkEBgb2H0DObyCH\n",
       "ewIDQ+YWoHH3/5w5fYmBAQBWoiHo17XzsQAAAABJRU5ErkJggg==\n",
       "\" style=\"display:inline;vertical-align:middle;\" /></a> : <a class=\"ProveItLink\" href=\"../../../../numbers/number_sets/integers/__pv_it/common/e6b4e90f9467053e055a4fd2f735c0bb79cb79300/expr.ipynb\"><img src=\"data:image/png;base64,iVBORw0KGgoAAAANSUhEUgAAAA4AAAAPBAMAAAAmOuNHAAAAMFBMVEX///+6urru7u7c3Nx2dnZm\n",
       "ZmbMzMxUVFSIiIiYmJgiIiJEREQQEBAyMjKqqqoAAAB4Cw+YAAAAAXRSTlMAQObYZgAAAAlwSFlz\n",
       "AAAOxAAADsQBlSsOGwAAAHFJREFUCNdj4Lvz5/aqPRMYOLYnMFzgZWBgDWDgmODHwMBuwKDNtIGB\n",
       "gYmBIYw9gQEI2ApSQRQDt8ImMP2EswFMg3QBAccDRwYGBQYGbWagrmIGhjKgCUwfGNgCRIGGLQDq\n",
       "usTAvG8Dg8ze07vPn3YAAOWCGbaz3v97AAAAAElFTkSuQmCC\n",
       "\" style=\"display:inline;vertical-align:middle;\" /></a>, <a class=\"ProveItLink\" href=\"../../../../__pv_it/common/a0d9d672aa5e272d907247690c152cc2c6daafb70/expr.ipynb\"><img src=\"data:image/png;base64,iVBORw0KGgoAAAANSUhEUgAAAAsAAAAJBAMAAAAWSsseAAAAMFBMVEX///9ERES6uroQEBAyMjLc\n",
       "3NyYmJgiIiJmZmaqqqp2dnbMzMxUVFSIiIju7u4AAAAd7oVFAAAAAXRSTlMAQObYZgAAAAlwSFlz\n",
       "AAAOxAAADsQBlSsOGwAAAENJREFUCNdjYHh75/WqCQwMDbxnOQoY2ALY/vEkMHAzcDgwgADzBTCl\n",
       "H8D3gOGhwmEGLgaG+fuaGTQZGF7c5WybwAAAJTwQ1a2DuB8AAAAASUVORK5CYII=\n",
       "\" style=\"display:inline;vertical-align:middle;\" /></a> : <a class=\"ProveItLink\" href=\"../../../../numbers/numerals/__pv_it/common/682157d4892d216d9e5626ed533aff9b56b9506e0/expr.ipynb\"><img src=\"data:image/png;base64,iVBORw0KGgoAAAANSUhEUgAAAAgAAAAOBAMAAADgeEClAAAAJ1BMVEX///+YmJgQEBDc3Nx2dnaI\n",
       "iIgyMjJmZmZUVFTu7u4iIiLMzMwAAADHsjQhAAAAAXRSTlMAQObYZgAAAAlwSFlzAAAOxAAADsQB\n",
       "lSsOGwAAAB9JREFUCNdjYOBeycAwo+wkAwMDK8kEy2EGBo6mY40AwiwNMNzp/EYAAAAASUVORK5C\n",
       "YII=\n",
       "\" style=\"display:inline;vertical-align:middle;\" /></a></span></td></tr><tr><td><a name=\"0x7bafadb018588f15_step1\">1</a></td><td>theorem</td><td></td><td><span style=\"font-size:20px;\"> <a class=\"ProveItLink\" href=\"proofs/superset_membership_from_proper_subset/thm_proof.ipynb\" style=\"text-decoration: none\">&nbsp;&#x22A2;&nbsp;&nbsp;</a><a class=\"ProveItLink\" href=\"../__pv_it/theorems/8c2c4c3c91efdbf0b7e86e4a2d99545aea54db000/expr.ipynb\"><img src=\"data:image/png;base64,iVBORw0KGgoAAAANSUhEUgAAAPcAAAAXBAMAAAAl5sTiAAAAMFBMVEX///+IiIgiIiIQEBB2dnbu\n",
       "7u5ERETMzMzc3NwyMjK6urpmZmaYmJiqqqpUVFQAAAB6qHgnAAAAAXRSTlMAQObYZgAAAAlwSFlz\n",
       "AAAOxAAADsQBlSsOGwAAA3hJREFUSMe1ll9IU1Ecx7/L3e1uu5tXohCykutDD/WwIqqHlD2MoEQb\n",
       "RkEIsgoXDMQbRo81K3zUvSgRWIsMCYJmiVZILR+i0NAeo4IRVIihBsk00zr3nN17z6Z3ysAD2z33\n",
       "/H73fM75/TsHKLLZFLWwglhIGNvABAWaPbGOws5CwntshrTW/1wM3Kc9vCkLuTew5vCbfzMzPSps\n",
       "KQp/oQ3dKgbu0fbuilnIz1qMHwJ8GaCbwq9q7gkXA3dqRuuwko9YRMIvwL0EjFG4K0Qek0X5nKwe\n",
       "dVZyf87bdkWJ045Edi2RBZSEtBkkYn1XcQE3Th5xK5fnCB5u03u+OYI7Qn4pGrIHFOVgcfASRakK\n",
       "WIg9RCCUfbtMLSN2G+MlYQhfSY7Z0xQ+DDTT8VDe53pHsIJ7VDjyPjJ0yc7IDLvkJ8iNymvnyqa0\n",
       "BJHiFN4JkaabcJhKrywFh2j2O3T9U0YxcLYO1l404eS7zrwlGbpbSBi9xUToJ4WbCrtj8B7V3OKn\n",
       "cEeI1Qv7MouIStj8OfCTZB5nfSRClj8KbOWKTDNO6EqXvkd1XWZeIlbxnL20KaSxjLqgKZEVOufo\n",
       "DF6ZLax/P4uIJKQ5Hu5uk4FBtqNpYIKDfzDizTNs6hpwgE2JM+bOV8hvgii52c4Rf02H5Tvsq0k0\n",
       "pHi4zZU2crEawj4O7pLINLYd7c9QYeqaZod7Aafpi8F2/iV/s9qWKxm8jsaiLWujroqxH+DhsieO\n",
       "Jr1CjL9UObj9I4m3cl+4Vwibuqw5ZAhRnx80G2yycRwtkAUsat4NM/gNutr+rDdHIUzzcLdKQuAR\n",
       "9HhoSnJwsYZ0Ug5ZdadM3aw4DW+m0e9mJus1koDI73ezVKRwH93MYHA2lHVrV4KDe4L18/gCPR7E\n",
       "P/ypRm1UGoPUE4m0ZHWz9q2EMCB/es/emqIsJX2tKzNTLdQTCe5ctBGmytyKx3yqyRAzuAk9HtyZ\n",
       "VUdqG2LOgKmbbXtyUrDvvJJbC6/zMxDDlk4KAYjzEPZyZtcMugwHqxJdITQk8+Ci/ziSrEwx3Wwb\n",
       "K1wgRzi4pwbCq9vOarz7HRya5OBP02hcTAi0tEh3g7Utqy4TA31lIXSohq4ecbGC15zw6uuIl+s7\n",
       "copphBYZy5uMcCwSzSu0BY9pbWn58AdW8DVq+3pXsPZCwnISZVV58NTG4ZvbxM1H/Ad8JOFpuPeG\n",
       "lQAAAABJRU5ErkJggg==\n",
       "\" style=\"display:inline;vertical-align:middle;\" /></a></span></td></tr>\n",
       "<tr><td>&nbsp;</td><td colspan=4 style-\"text-align:left\"><a class=\"ProveItLink\" href=\"proofs/superset_membership_from_proper_subset/thm_proof.ipynb\">proveit.logic.sets.inclusion.superset_membership_from_proper_subset</a></td></tr><tr><td><a name=\"0x7bafadb018588f15_step2\">2</a></td><td>conjecture</td><td></td><td><span style=\"font-size:20px;\"> <a class=\"ProveItLink\" href=\"../../../../numbers/number_sets/integers/_theory_nbs_/proofs/nat_pos_within_int/thm_proof.ipynb\" style=\"text-decoration: none\">&nbsp;&#x22A2;&nbsp;&nbsp;</a><a class=\"ProveItLink\" href=\"../../../../numbers/number_sets/integers/__pv_it/theorems/eac6d1dbf684bfc5657625c397ae88d8a727c9d60/expr.ipynb\"><img src=\"data:image/png;base64,iVBORw0KGgoAAAANSUhEUgAAAEYAAAATBAMAAADfQ2bzAAAAMFBMVEX///9mZmbMzMyIiIiYmJjc\n",
       "3NxUVFSqqqq6uroQEBB2dnYyMjJEREQiIiLu7u4AAAAPqInnAAAAAXRSTlMAQObYZgAAAAlwSFlz\n",
       "AAAOxAAADsQBlSsOGwAAARtJREFUKM9jYIADRgbCgIciNW//nH7AsPJnAzY17Dt/7rl70oGB4ThH\n",
       "AgPfB6zmMB9TYNjADWTkBixhYJjAIHPm5JkzDqhqGAUYmB2WAxnpB7gDGC5gNYctgOEN3wEgI9WZ\n",
       "dQOqGuazd+/eVQAy+BgYhNhAjFQ2BSsUNUy7AuAmMSUogqhUhgM8Dchq3gYghceDcxA1inz3LiCF\n",
       "cwaSi6pYDCBqWApqJiCJb0BmczNA1DDksSGpYUpACqCCFQwMD8BqnvFdQIizIql5w3oArACImAwO\n",
       "IJmPpD4JGEKgODgEZBshqxFBWCvQCAxIoJ7tIC8hu5O7AeHzfQysxw8waP8EmsGHrIbvWB+U1Xl6\n",
       "zpn5cxZgSy4ca6BxAQUAkCNPARePc+cAAAAASUVORK5CYII=\n",
       "\" style=\"display:inline;vertical-align:middle;\" /></a></span></td></tr>\n",
       "<tr><td>&nbsp;</td><td colspan=4 style-\"text-align:left\"><a class=\"ProveItLink\" href=\"../../../../numbers/number_sets/integers/_theory_nbs_/proofs/nat_pos_within_int/thm_proof.ipynb\">proveit.numbers.number_sets.integers.nat_pos_within_int</a></td></tr><tr><td><a name=\"0x7bafadb018588f15_step3\">3</a></td><td>conjecture</td><td></td><td><span style=\"font-size:20px;\"> <a class=\"ProveItLink\" href=\"../../../../numbers/numerals/decimals/_theory_nbs_/proofs/posnat1/thm_proof.ipynb\" style=\"text-decoration: none\">&nbsp;&#x22A2;&nbsp;&nbsp;</a><a class=\"ProveItLink\" href=\"../../../../numbers/numerals/decimals/__pv_it/theorems/bc756b88629195b95a8093862c53b2b7873d42670/expr.ipynb\"><img src=\"data:image/png;base64,iVBORw0KGgoAAAANSUhEUgAAAD4AAAATBAMAAAA63aOfAAAAMFBMVEX///+qqqq6urpERESYmJgQ\n",
       "EBDc3Nx2dnaIiIgyMjJmZmZUVFTu7u4iIiLMzMwAAAAz/ewvAAAAAXRSTlMAQObYZgAAAAlwSFlz\n",
       "AAAOxAAADsQBlSsOGwAAAM9JREFUKM9jYMADFjDgBwbkyPPcN57DwB4fBJPnu4OmgFlAm4HhPEz/\n",
       "6ZV/0OS5r7E7MLAycBkbBxubMDBwYMgLM0xj4IXbD5fnsL17Eyyf0pCJRZ5pxgGo/oR9HAWY8pkH\n",
       "YOYnMDMYYcpPg9ufwLfg7Fl4+MHkJyDkGRwZTeHOhcrzxd69e/cyVJ77wFZ0eR4DJP08G86iyzNc\n",
       "QJJneMGMId8BD98HQMHHcHn2bxCaU4ABibESbtrWn1sgDtisA3Ho/GAgeRIzYpmKIeGLAgCu9Tlj\n",
       "8FFYswAAAABJRU5ErkJggg==\n",
       "\" style=\"display:inline;vertical-align:middle;\" /></a></span></td></tr>\n",
       "<tr><td>&nbsp;</td><td colspan=4 style-\"text-align:left\"><a class=\"ProveItLink\" href=\"../../../../numbers/numerals/decimals/_theory_nbs_/proofs/posnat1/thm_proof.ipynb\">proveit.numbers.numerals.decimals.posnat1</a></td></tr></table>"
      ],
      "text/plain": [
       "\tstep type\trequirements\tstatement\n",
       "0\tinstantiation\t1, 2, 3\t|- 1 in Integer\n",
       "\tA : NaturalPos, B : Integer, x : 1\n",
       "1\ttheorem\t\t|- forall_{A, B | A proper_subset B} [forall_{x in A} (x in B)]\n",
       "\tproveit.logic.sets.inclusion.superset_membership_from_proper_subset\n",
       "2\tconjecture\t\t|- NaturalPos proper_subset Integer\n",
       "\tproveit.numbers.number_sets.integers.nat_pos_within_int\n",
       "3\tconjecture\t\t|- 1 in NaturalPos\n",
       "\tproveit.numbers.numerals.decimals.posnat1"
      ]
     },
     "metadata": {},
     "output_type": "display_data"
    }
   ],
   "source": [
    "one_is_an_integer.proof()"
   ]
  },
  {
   "cell_type": "markdown",
   "metadata": {},
   "source": [
    "<font size=3>As an exercise, we can obtain the result more generally for arbitrary sets $X$ and $Y$ any time we assume $X \\subseteq Y$ and $x \\in X$:\n",
    "</font>"
   ]
  },
  {
   "cell_type": "code",
   "execution_count": 41,
   "metadata": {},
   "outputs": [
    {
     "data": {
      "text/html": [
       "<strong id=\"x_in_x\">x_in_x:</strong> <a class=\"ProveItLink\" href=\"../__pv_it/demonstrations/720b39d5ad9fe4b7c0ee2e3ece48cef19dcc3e670/expr.ipynb\"><img src=\"data:image/png;base64,iVBORw0KGgoAAAANSUhEUgAAADcAAAAPBAMAAACy3Eq1AAAAMFBMVEX///8AAAAAAAAAAAAAAAAA\n",
       "AAAAAAAAAAAAAAAAAAAAAAAAAAAAAAAAAAAAAAAAAAAv3aB7AAAAD3RSTlMAEHarMolUmd1mIs3v\n",
       "RLtmgJDEAAAACXBIWXMAAA7EAAAOxAGVKw4bAAAAzElEQVQY02NgwAI43/9RYOw/ncCAFTB/Y2DI\n",
       "W4BdjoHlHwNXAaqQXkfHBihz/wJhVLnbigj2/EIDMC2kLBIKspprI5JCns8CYLqAyYi9AUhzIzuA\n",
       "9RPE2Qs4PzJPAEmiOPcHxGEM7BBX+HQAwQOoZJX9Baj5CmBKDkkju4M/VNn9BYwg2zmQJEMYOH6B\n",
       "NVywYWAFMZgU4HJMFxg4v4IY+Y41DNfAQttgcoxPgcR/kGniSmyVkBAWfgvxG8ubPw4M3v/bUYPo\n",
       "6gt48EEAABJFMObRtWqxAAAAAElFTkSuQmCC\n",
       "\" style=\"display:inline;vertical-align:middle;\" /></a><br>"
      ],
      "text/plain": [
       "<IPython.core.display.HTML object>"
      ]
     },
     "metadata": {},
     "output_type": "display_data"
    },
    {
     "data": {
      "text/html": [
       "<strong id=\"x_subset_eq_ofy\">x_subset_eq_ofy:</strong> <a class=\"ProveItLink\" href=\"../__pv_it/demonstrations/e17c93fe3a5fc3cbb99b3a7296aa770abe8ad4750/expr.ipynb\"><img src=\"data:image/png;base64,iVBORw0KGgoAAAANSUhEUgAAAD8AAAARBAMAAACY12mqAAAAMFBMVEX///8AAAAAAAAAAAAAAAAA\n",
       "AAAAAAAAAAAAAAAAAAAAAAAAAAAAAAAAAAAAAAAAAAAv3aB7AAAAD3RSTlMAZrvvdhDdzVSrIjKZ\n",
       "iUQw4UTKAAAACXBIWXMAAA7EAAAOxAGVKw4bAAAA5ElEQVQoz2NgYBD6b8IQ9rmCAQWwTvs8i4Gh\n",
       "+bMDiDO/gYFDCyrhlJaWlg1i8H0HEkwCYMH9CgxroPLbveBm5C9gYPCDMNl/sU6AGpyFsMT/AgNH\n",
       "A4TJ+CcSKsj5AKEg3oDhCYxtPxXKYEdyJtM/rgsw9n0HKGMnkgKOnzFw9vwEKGMlsk/tJ8BYPCv/\n",
       "QVlsyAr0A2Cs09yfYEoFkBSYwxi8G8B+BoM6hDzXXxgLGBryMPdGzoObywizNwgoyf8VJvxWDRrU\n",
       "DEwfICKb7K0ZuOu/HWBAAzz6Px0YaAB40tJg0Q0DALLYNrIbQ5TzAAAAAElFTkSuQmCC\n",
       "\" style=\"display:inline;vertical-align:middle;\" /></a><br>"
      ],
      "text/plain": [
       "<IPython.core.display.HTML object>"
      ]
     },
     "metadata": {},
     "output_type": "display_data"
    },
    {
     "data": {
      "text/html": [
       "<strong id=\"x_in_y\">x_in_y:</strong> <a class=\"ProveItLink\" href=\"../__pv_it/demonstrations/1f98648779e9a80c9b1940db125e257ce913c8980/expr.ipynb\"><img src=\"data:image/png;base64,iVBORw0KGgoAAAANSUhEUgAAADUAAAAPBAMAAAC2KZqIAAAAMFBMVEX///8AAAAAAAAAAAAAAAAA\n",
       "AAAAAAAAAAAAAAAAAAAAAAAAAAAAAAAAAAAAAAAAAAAv3aB7AAAAD3RSTlMAEHarMolUmd1mIs3v\n",
       "RLtmgJDEAAAACXBIWXMAAA7EAAAOxAGVKw4bAAAAwklEQVQY02NgwACMFn+sGBhy/igwYAG8v4EE\n",
       "3wQGrKB/AQODLqqQXkfHBjBDP4CBLQFF6rYijCV/gOESmCGkLBIKUsS1Ea6K7y9XAJhRwGTE3gCk\n",
       "uRfA5dg+i4NpzgWcH5lBbuJGMv68AZhiYWCHOMCnAwgeQOTeC0AV8UA8KYek7zSMcX8BI0gZB0KK\n",
       "6yuElrtgw8AKYjAhwojzL4TOd6xhuAZmbUP44QOEFldiq4SEgfBbqAvY33/GCOerL6BhBgUAY9wq\n",
       "o7fey4gAAAAASUVORK5CYII=\n",
       "\" style=\"display:inline;vertical-align:middle;\" /></a><br>"
      ],
      "text/plain": [
       "<IPython.core.display.HTML object>"
      ]
     },
     "metadata": {},
     "output_type": "display_data"
    }
   ],
   "source": [
    "# Define some conditions\n",
    "x_in_x, x_subset_eq_ofy, x_in_y = InSet(x, X), SubsetEq(X, Y), InSet(x, Y)"
   ]
  },
  {
   "cell_type": "code",
   "execution_count": 42,
   "metadata": {},
   "outputs": [
    {
     "data": {
      "text/html": [
       "<strong id=\"demo_01_assumptions\">demo_01_assumptions:</strong> <a class=\"ProveItLink\" href=\"../__pv_it/demonstrations/dc4d8f6a92b6c24147c7861c835ea16d151116210/expr.ipynb\"><img src=\"data:image/png;base64,iVBORw0KGgoAAAANSUhEUgAAAIsAAAAVBAMAAACEWwD/AAAAMFBMVEX///8AAAAAAAAAAAAAAAAA\n",
       "AAAAAAAAAAAAAAAAAAAAAAAAAAAAAAAAAAAAAAAAAAAv3aB7AAAAD3RSTlMAInZUiRDNmWbv3US7\n",
       "qzJazP2FAAAACXBIWXMAAA7EAAAOxAGVKw4bAAACNklEQVQ4y2NgYBBgoBCADWAyoNSYTSDCBKsU\n",
       "x/mfCqzrp0Gt6Pk/iSHqZzKqEtZbPy8yMFj+VGBqAHISsFvB+5mBwQbu3/sGDMwHoWydVatWrQMx\n",
       "uL8BCR6gGakMDOwN2I3h+8PAWADnvT/AIA5lPlOEi64HWqMNpNsZGDhRNDOdWrUMyswXiEWIs31k\n",
       "vQD1ykKEqL4DAzPI25wBDGbIpnAnBcDZ/aUXkILqO8xM3g0I0fgJkOBla2AoAVJBunEu4MAUQ5jC\n",
       "wPkXicMw/yrMXUiCPL8ZHUA0ywWGDCBVwHSJfQGIn4ikhuUTsjv9FaCMt0iCzH/DIW5NYFgMJAU4\n",
       "vvKCQxo51nh/IRtzfwGUIYssOh/ib+YJDLOBkcLADtHPNwsYl2ugSgrvI4UCu+xvKIsL2ZjzEH/z\n",
       "fQAZAwwHiJNZDyBpfPAeiVcHjH+oOHICmQaNmQkgTzEw7BdgBZu7AKHCj4HrIyKcHoDTCBhkI9Qw\n",
       "foGG0QKGQwwMMRtuMrCA+UqIBLSBgQOkiBXMA6axfgeoTOxteAxyQH3KcYDBl4HB/mklw2ZIbMKy\n",
       "KesRIPEfqD4eFGoxQCP4v8I0bzkFzQwMPB+gHnVgeMXAEK7EXAHRz3pnKyTMTv58wPDs/3JgiC5l\n",
       "YHgzfx4DX/6vAvT8wn7+LyRMuTYwcD1AScY+8MwABaZElBRSQH8V4FfiQIQxFUB8EK8KVgV0n6xa\n",
       "BSso4BEGShkxeI1hIsIxPKC0wKhAaSEKLIAAJ/qGGeAvDB8AAAAASUVORK5CYII=\n",
       "\" style=\"display:inline;vertical-align:middle;\" /></a><br>"
      ],
      "text/plain": [
       "<IPython.core.display.HTML object>"
      ]
     },
     "metadata": {},
     "output_type": "display_data"
    }
   ],
   "source": [
    "# bundle the first 2 conditions into a list of assumptions\n",
    "demo_01_assumptions = [x_in_x, x_subset_eq_ofy]"
   ]
  },
  {
   "cell_type": "code",
   "execution_count": 43,
   "metadata": {},
   "outputs": [
    {
     "data": {
      "text/html": [
       "<strong id=\"x_in_y_k_t\">x_in_y_k_t:</strong> <span style=\"font-size:20px;\"><a class=\"ProveItLink\" href=\"../__pv_it/demonstrations/e17c93fe3a5fc3cbb99b3a7296aa770abe8ad4750/expr.ipynb\"><img src=\"data:image/png;base64,iVBORw0KGgoAAAANSUhEUgAAAD8AAAARBAMAAACY12mqAAAAMFBMVEX///8AAAAAAAAAAAAAAAAA\n",
       "AAAAAAAAAAAAAAAAAAAAAAAAAAAAAAAAAAAAAAAAAAAv3aB7AAAAD3RSTlMAZrvvdhDdzVSrIjKZ\n",
       "iUQw4UTKAAAACXBIWXMAAA7EAAAOxAGVKw4bAAAA5ElEQVQoz2NgYBD6b8IQ9rmCAQWwTvs8i4Gh\n",
       "+bMDiDO/gYFDCyrhlJaWlg1i8H0HEkwCYMH9CgxroPLbveBm5C9gYPCDMNl/sU6AGpyFsMT/AgNH\n",
       "A4TJ+CcSKsj5AKEg3oDhCYxtPxXKYEdyJtM/rgsw9n0HKGMnkgKOnzFw9vwEKGMlsk/tJ8BYPCv/\n",
       "QVlsyAr0A2Cs09yfYEoFkBSYwxi8G8B+BoM6hDzXXxgLGBryMPdGzoObywizNwgoyf8VJvxWDRrU\n",
       "DEwfICKb7K0ZuOu/HWBAAzz6Px0YaAB40tJg0Q0DALLYNrIbQ5TzAAAAAElFTkSuQmCC\n",
       "\" style=\"display:inline;vertical-align:middle;\" /></a>, <a class=\"ProveItLink\" href=\"../__pv_it/demonstrations/720b39d5ad9fe4b7c0ee2e3ece48cef19dcc3e670/expr.ipynb\"><img src=\"data:image/png;base64,iVBORw0KGgoAAAANSUhEUgAAADcAAAAPBAMAAACy3Eq1AAAAMFBMVEX///8AAAAAAAAAAAAAAAAA\n",
       "AAAAAAAAAAAAAAAAAAAAAAAAAAAAAAAAAAAAAAAAAAAv3aB7AAAAD3RSTlMAEHarMolUmd1mIs3v\n",
       "RLtmgJDEAAAACXBIWXMAAA7EAAAOxAGVKw4bAAAAzElEQVQY02NgwAI43/9RYOw/ncCAFTB/Y2DI\n",
       "W4BdjoHlHwNXAaqQXkfHBihz/wJhVLnbigj2/EIDMC2kLBIKspprI5JCns8CYLqAyYi9AUhzIzuA\n",
       "9RPE2Qs4PzJPAEmiOPcHxGEM7BBX+HQAwQOoZJX9Baj5CmBKDkkju4M/VNn9BYwg2zmQJEMYOH6B\n",
       "NVywYWAFMZgU4HJMFxg4v4IY+Y41DNfAQttgcoxPgcR/kGniSmyVkBAWfgvxG8ubPw4M3v/bUYPo\n",
       "6gt48EEAABJFMObRtWqxAAAAAElFTkSuQmCC\n",
       "\" style=\"display:inline;vertical-align:middle;\" /></a> <a class=\"ProveItLink\" href=\"../__pv_it/demonstrations/0502e901d97ba8374e0bc91906c24c3cd0e0ab450/proof.ipynb\" style=\"text-decoration: none\">&nbsp;&#x22A2;&nbsp;&nbsp;</a><a class=\"ProveItLink\" href=\"../__pv_it/demonstrations/1f98648779e9a80c9b1940db125e257ce913c8980/expr.ipynb\"><img src=\"data:image/png;base64,iVBORw0KGgoAAAANSUhEUgAAADUAAAAPBAMAAAC2KZqIAAAAMFBMVEX///8AAAAAAAAAAAAAAAAA\n",
       "AAAAAAAAAAAAAAAAAAAAAAAAAAAAAAAAAAAAAAAAAAAv3aB7AAAAD3RSTlMAEHarMolUmd1mIs3v\n",
       "RLtmgJDEAAAACXBIWXMAAA7EAAAOxAGVKw4bAAAAwklEQVQY02NgwACMFn+sGBhy/igwYAG8v4EE\n",
       "3wQGrKB/AQODLqqQXkfHBjBDP4CBLQFF6rYijCV/gOESmCGkLBIKUsS1Ea6K7y9XAJhRwGTE3gCk\n",
       "uRfA5dg+i4NpzgWcH5lBbuJGMv68AZhiYWCHOMCnAwgeQOTeC0AV8UA8KYek7zSMcX8BI0gZB0KK\n",
       "6yuElrtgw8AKYjAhwojzL4TOd6xhuAZmbUP44QOEFldiq4SEgfBbqAvY33/GCOerL6BhBgUAY9wq\n",
       "o7fey4gAAAAASUVORK5CYII=\n",
       "\" style=\"display:inline;vertical-align:middle;\" /></a></span><br>"
      ],
      "text/plain": [
       "<IPython.core.display.HTML object>"
      ]
     },
     "metadata": {},
     "output_type": "display_data"
    }
   ],
   "source": [
    "# prove set membership based on the assumptions\n",
    "x_in_y_k_t = x_in_y.prove(assumptions=demo_01_assumptions)"
   ]
  },
  {
   "cell_type": "markdown",
   "metadata": {},
   "source": [
    "<font size=3>As an extra step, we can also re-express that result in terms of implications:\n",
    "</font>"
   ]
  },
  {
   "cell_type": "code",
   "execution_count": 44,
   "metadata": {},
   "outputs": [
    {
     "data": {
      "text/html": [
       "<span style=\"font-size:20px;\"><a class=\"ProveItLink\" href=\"../__pv_it/demonstrations/720b39d5ad9fe4b7c0ee2e3ece48cef19dcc3e670/expr.ipynb\"><img src=\"data:image/png;base64,iVBORw0KGgoAAAANSUhEUgAAADcAAAAPBAMAAACy3Eq1AAAAMFBMVEX///8AAAAAAAAAAAAAAAAA\n",
       "AAAAAAAAAAAAAAAAAAAAAAAAAAAAAAAAAAAAAAAAAAAv3aB7AAAAD3RSTlMAEHarMolUmd1mIs3v\n",
       "RLtmgJDEAAAACXBIWXMAAA7EAAAOxAGVKw4bAAAAzElEQVQY02NgwAI43/9RYOw/ncCAFTB/Y2DI\n",
       "W4BdjoHlHwNXAaqQXkfHBihz/wJhVLnbigj2/EIDMC2kLBIKspprI5JCns8CYLqAyYi9AUhzIzuA\n",
       "9RPE2Qs4PzJPAEmiOPcHxGEM7BBX+HQAwQOoZJX9Baj5CmBKDkkju4M/VNn9BYwg2zmQJEMYOH6B\n",
       "NVywYWAFMZgU4HJMFxg4v4IY+Y41DNfAQttgcoxPgcR/kGniSmyVkBAWfgvxG8ubPw4M3v/bUYPo\n",
       "6gt48EEAABJFMObRtWqxAAAAAElFTkSuQmCC\n",
       "\" style=\"display:inline;vertical-align:middle;\" /></a> <a class=\"ProveItLink\" href=\"../__pv_it/demonstrations/9c2cff6e372b574608f9171684f020ceb5f80e8e0/proof.ipynb\" style=\"text-decoration: none\">&nbsp;&#x22A2;&nbsp;&nbsp;</a><a class=\"ProveItLink\" href=\"../__pv_it/demonstrations/79df4b6d90a3b978f46a719ca6c05835ab62ce400/expr.ipynb\"><img src=\"data:image/png;base64,iVBORw0KGgoAAAANSUhEUgAAALEAAAAVBAMAAAD7ihIOAAAAMFBMVEX///8AAAAAAAAAAAAAAAAA\n",
       "AAAAAAAAAAAAAAAAAAAAAAAAAAAAAAAAAAAAAAAAAAAv3aB7AAAAD3RSTlMAInZUiRDNmWbv3US7\n",
       "qzJazP2FAAAACXBIWXMAAA7EAAAOxAGVKw4bAAAChUlEQVQ4y4VVTWgTURCezSbd3WQbg4iCUNwq\n",
       "nlQMKAVPjeBVDB4sSKIRERQP5uChikgOQi9CSw9eRBPxtocmqHgS3HoSPSQWelAPzUVBUWyhUWIM\n",
       "7fuZt/s2PHwP9u3bmfkmM9/MvABADjRLbWBoIYm8zvMzpfSAFnKcPPe3FuF8/3JcW24+yoFZX4RE\n",
       "TYE1Cwph6lP/A8CJvkchqQoVreXBXEb1Yd/3l+jhNVW9Jc8VhZNzylgzv8nm1hjEYgH9CmAPKr9O\n",
       "CrP0BuGqRQ5zCh+zahqahOFDHOIwwdhGqoMJPQmtEpsAx+jBKYYyVxwXYg5Jnix3OFoAM88hU0xg\n",
       "/ymjzXgrYq0PGY/9bkR0NkCaK7LjlwfF6eICrx6B3OSS+iqqxiRAu7WLvZOdSHaPvyxawLNHLpyi\n",
       "ARpRIdyBUUDIVS4546Hqp+R5erXKM2IB3vbpanIRS6OaWLEa9CPqeHM4IyBPuWStgaoJybMzRHOZ\n",
       "1CnW/2my2zm7N14bybPeEZCHPLmJgWgIycrtIbnrcs9eo5VwyJYFi7P9jSaDBWgXBYR7vpv9h0BL\n",
       "GgsHy5SRY959EtAz2TmHJUn9IIQwNpJd1ohsXY+s9uGcmY2IZ/8SCDbILOVSxXiexmYIeUPfpLfn\n",
       "xbSWP4fdO48daAcR9BUSRaIttT5CkjW+F6rtQQg5TbMhXnf0hPLFO5xuaIPUYhgTEkQbcfrLLXjO\n",
       "vqIbx10PId8BftQfQ/bG3+ropN7ZWsGqRtPjdrGohKCZ/eYsvyjL7zFPqz30BCTdBe3aq7iVl2IW\n",
       "JM/KKMSu6j2rbp85PWQ5LrJYA8QiMgIF1P3vXxGDlLQhK52kAi3E8HSeJ5XSnRrINgw/nq9pcmjt\n",
       "AAAAAElFTkSuQmCC\n",
       "\" style=\"display:inline;vertical-align:middle;\" /></a></span>"
      ],
      "text/plain": [
       "{x in X} |- (X subset_eq Y) => (x in Y)"
      ]
     },
     "metadata": {},
     "output_type": "display_data"
    }
   ],
   "source": [
    "x_in_y_k_t.as_implication(hypothesis=SubsetEq(X, Y))"
   ]
  },
  {
   "cell_type": "code",
   "execution_count": 45,
   "metadata": {},
   "outputs": [
    {
     "data": {
      "text/html": [
       "<span style=\"font-size:20px;\"><a class=\"ProveItLink\" href=\"../__pv_it/demonstrations/e17c93fe3a5fc3cbb99b3a7296aa770abe8ad4750/expr.ipynb\"><img src=\"data:image/png;base64,iVBORw0KGgoAAAANSUhEUgAAAD8AAAARBAMAAACY12mqAAAAMFBMVEX///8AAAAAAAAAAAAAAAAA\n",
       "AAAAAAAAAAAAAAAAAAAAAAAAAAAAAAAAAAAAAAAAAAAv3aB7AAAAD3RSTlMAZrvvdhDdzVSrIjKZ\n",
       "iUQw4UTKAAAACXBIWXMAAA7EAAAOxAGVKw4bAAAA5ElEQVQoz2NgYBD6b8IQ9rmCAQWwTvs8i4Gh\n",
       "+bMDiDO/gYFDCyrhlJaWlg1i8H0HEkwCYMH9CgxroPLbveBm5C9gYPCDMNl/sU6AGpyFsMT/AgNH\n",
       "A4TJ+CcSKsj5AKEg3oDhCYxtPxXKYEdyJtM/rgsw9n0HKGMnkgKOnzFw9vwEKGMlsk/tJ8BYPCv/\n",
       "QVlsyAr0A2Cs09yfYEoFkBSYwxi8G8B+BoM6hDzXXxgLGBryMPdGzoObywizNwgoyf8VJvxWDRrU\n",
       "DEwfICKb7K0ZuOu/HWBAAzz6Px0YaAB40tJg0Q0DALLYNrIbQ5TzAAAAAElFTkSuQmCC\n",
       "\" style=\"display:inline;vertical-align:middle;\" /></a> <a class=\"ProveItLink\" href=\"../__pv_it/demonstrations/2a176df03c28b8680478efcb5f9c6b910a8c04c40/proof.ipynb\" style=\"text-decoration: none\">&nbsp;&#x22A2;&nbsp;&nbsp;</a><a class=\"ProveItLink\" href=\"../__pv_it/demonstrations/e86bbfeb90aa7faa74fba0baf2be81fb02420ca80/expr.ipynb\"><img src=\"data:image/png;base64,iVBORw0KGgoAAAANSUhEUgAAAKsAAAAVBAMAAADLBgMvAAAAMFBMVEX///8AAAAAAAAAAAAAAAAA\n",
       "AAAAAAAAAAAAAAAAAAAAAAAAAAAAAAAAAAAAAAAAAAAv3aB7AAAAD3RSTlMAInZUiRDNmWbv3US7\n",
       "qzJazP2FAAAACXBIWXMAAA7EAAAOxAGVKw4bAAACSUlEQVQ4y4WUTWgTURCAZ3eb/xgXKRUEca14\n",
       "UiFQsccWelXMRYWSQGsUvFlERIpISw+9FBJybLEJBHJYxC6iXt0KQmnBhkKgB6E5eFEEDVhKtVrf\n",
       "/3tbXnffZd6bmW92Zt7sAwAbwpbeakQiZj407Gut9kIkclVvWziswfh+GcwZjdEa1ShLKy9ssOo1\n",
       "gsQmjvnmTh6sVSTva2y3tcR7HGqNIomZY8L+8OE0lvMa21Mtke6hlnoUSQUs5rrbYtt4L9bGMlUQ\n",
       "1o98Uw1Al12XlGz+AhhiyDXVIXNXxkjulWh4Wc533tpA495dZJvYPmQchjzG58HOlzF8Higo7vUO\n",
       "EX1t+SV2U4lRhTFk8ze9fo48wG5wxZnG50k1i5sOjYVTS7hk7YEoQDBxOdkjnSmONJGYhUphG58D\n",
       "xe00aMVKI60yvZu8wsSlOfUXOLKERBeekGNuEWX0kvkkzv6hyp/qZC0R3JMMfMVl+GSb3QWOED+o\n",
       "0Z77SoTnuQN6jUq2xj2bh+UMFJVsWbUIaRLZg1tYNqRLXxdWSAyrIXvbskUTBJOWzDl2pQj5gJLc\n",
       "OFEFohmULpcAKkSXlCVk2DbrKIzpCHvFYxPjww0U/N+daoY8OHHx7BQRcnKXTxNbA7yStsJAWQ4Y\n",
       "iAH8hrJ95AzP0eZ+fssGv74MuYe/8bykPYF9YjLXUBgobbBpf3a4xf5iD9LdwG92Xfy8fJ3RvL2v\n",
       "Ah5v1t2Jo0hyCsKX7lmZj0ZWw10MX6PM2pFIMTysNkLMj0QMJzTsea32VATyH5t8lipwwR7mAAAA\n",
       "AElFTkSuQmCC\n",
       "\" style=\"display:inline;vertical-align:middle;\" /></a></span>"
      ],
      "text/plain": [
       "{X subset_eq Y} |- (x in X) => (x in Y)"
      ]
     },
     "metadata": {},
     "output_type": "display_data"
    }
   ],
   "source": [
    "x_in_y_k_t.as_implication(hypothesis=InSet(x, X))"
   ]
  },
  {
   "cell_type": "markdown",
   "metadata": {},
   "source": [
    "<div style=\"width: 90%; border: 5px solid green; padding: 10px; margin: 0px;\"><a id='demo02'></a><font size=4><font size=4><b>2.</b> $\\forall_{x\\in A}(x\\in B) \\Rightarrow (A \\subseteq B)$.</font></div><br>\n",
    "<font size=\"3\">When we know that $x$ is in $B$ whenever $x$ is in $A$, we have $A \\subseteq B$. That is a theorem in Prove-It that can be instantiated to prove a subset relationship for two arbitrary sets given the right conditions:</font>"
   ]
  },
  {
   "cell_type": "code",
   "execution_count": 46,
   "metadata": {},
   "outputs": [
    {
     "data": {
      "text/html": [
       "<strong id=\"CSubsetOfD\">CSubsetOfD:</strong> <a class=\"ProveItLink\" href=\"../__pv_it/demonstrations/231d94510161d944f82d6a9a3139e5887cc55df80/expr.ipynb\"><img src=\"data:image/png;base64,iVBORw0KGgoAAAANSUhEUgAAADwAAAARBAMAAABz4NKpAAAAMFBMVEX///+6uroyMjLMzMwiIiJm\n",
       "ZmaqqqoQEBB2dnbc3NyYmJhUVFRERESIiIju7u4AAABBACUiAAAAAXRSTlMAQObYZgAAAAlwSFlz\n",
       "AAAOxAAADsQBlSsOGwAAAPhJREFUKM9jYGDgu7N7F2cDAyrgPf9n95mdINb1ewxsIQvAgndcXFyc\n",
       "IfL8CgwM6xMYGN6A+PETQEJGNxHa7S8wMLAWMDCoPwByxEEifJ5Ipt83YGBg/MXA8Q3EMQUR3AJI\n",
       "0ueBmPMHw3wHEOcxiGBCdtsfIGb+zdB/AS5ijSTL/BdIcP1g8J8AF5qN7LHPINs+MtSDeSDnMbAg\n",
       "SfN8AHmugMEfxGEzAJGsCxDS/AeAxPoFEB9zQMQUUb3NV8PAMB/ktD6I2OuND5C9zQMMOLZfDAwS\n",
       "MFGJI7BA1QcGiiuI8fT0VgEGdLDn/+49RycwUBGwurggIhQCAGZWPiqohjWHAAAAAElFTkSuQmCC\n",
       "\" style=\"display:inline;vertical-align:middle;\" /></a><br>"
      ],
      "text/plain": [
       "<IPython.core.display.HTML object>"
      ]
     },
     "metadata": {},
     "output_type": "display_data"
    }
   ],
   "source": [
    "# define our conclusion\n",
    "CSubsetOfD = SubsetEq(C, D)"
   ]
  },
  {
   "cell_type": "code",
   "execution_count": 47,
   "metadata": {},
   "outputs": [
    {
     "data": {
      "text/html": [
       "<strong id=\"demo_02_assumptions\">demo_02_assumptions:</strong> <a class=\"ProveItLink\" href=\"../__pv_it/demonstrations/d36c8eca9b5ac26f23cfe97a79df1a2d15599cf80/expr.ipynb\"><img src=\"data:image/png;base64,iVBORw0KGgoAAAANSUhEUgAAAIwAAAAVBAMAAABmhxuGAAAAMFBMVEX///8AAAAAAAAAAAAAAAAA\n",
       "AAAAAAAAAAAAAAAAAAAAAAAAAAAAAAAAAAAAAAAAAAAv3aB7AAAAD3RSTlMAInZUiRDNmWbv3US7\n",
       "qzJazP2FAAAACXBIWXMAAA7EAAAOxAGVKw4bAAACYklEQVQ4y4VUS2gTURQ9k8/MpGnirISKYgyI\n",
       "Qi1mUap1Y9AuFYIUihAkCoLLFAq2CBJc6EawC93oJiC4iC4GRVA32oKCMrXBjQgRC+pGkPhBUVDr\n",
       "uW8+yUhmfDB37rv3zXnvnnPfALAQP6z/JTVxEqV4lPj8bT7ZAs042jLfG7VwfHB41/pKZ8VCokF/\n",
       "J5Cu4YyEj0egMD94fAfMr8BJunoFRgMfpb5HEauNxuB4/gvNAnCBL7OOjAJDKoqBTJioZ60bnveH\n",
       "5mEDGX6MK5ggGDfUo6iZ6J9kT1R8d/gTzdYydDntKczRXm21LkfBSP7I2LEpddqNAQo2CAvdNlIi\n",
       "0GECAWeBx1Ewkq8nXhjNf3ToisqXyjBFgvO4TrsFWjtMwcupaW9j5k3L/JZTTPeptnuN5o2N5CLf\n",
       "k7gmdVZSti/AmGMjy2+fegHm8zDc7/OsvnXLja+K+cmYcNRVMMlCwPBp2WSSJ9nTg6FcBbeH+rri\n",
       "lwj9g6zLae6rolA7R1Oc3WGpptTYVXiLoCgKa6VVjc1w2xwlbFJi+7AswYPsxYTV0UtVmeWafTQx\n",
       "X7VfIaUmxR570jZP5ERywovUimOEDJtYzuOeKqHeB8P8/vcLuKMmetCkOil5IOuMsuqKD2p/YQSf\n",
       "qZzjOCXFhP8B8zPF5Lw7TXfuutHc6u/Xzqx4QyLOTQytBeUuanin1rSlRC/ay6s2PuRfBn9sEjKb\n",
       "cq3cMZKqGZRe9qQ6o/4ysx7/O5r3ru+Sf5VHD2yH9lzcmblir+uXYlHUn2Ezn2ooPO04dnhhNRZm\n",
       "2PJ20grxp47Pb4Pi8S8o5Yg8APpRggAAAABJRU5ErkJggg==\n",
       "\" style=\"display:inline;vertical-align:middle;\" /></a><br>"
      ],
      "text/plain": [
       "<IPython.core.display.HTML object>"
      ]
     },
     "metadata": {},
     "output_type": "display_data"
    }
   ],
   "source": [
    "# define our assumption (or perhaps this would be proven elsewhere first)\n",
    "demo_02_assumptions = [Forall(x, InSet(x,D), domain=C)]"
   ]
  },
  {
   "cell_type": "code",
   "execution_count": 48,
   "metadata": {},
   "outputs": [
    {
     "data": {
      "text/html": [
       "<span style=\"font-size:20px;\"><a class=\"ProveItLink\" href=\"../__pv_it/demonstrations/0cf2df6216fa99c7072e364be6ba4e0b270f05f50/expr.ipynb\"><img src=\"data:image/png;base64,iVBORw0KGgoAAAANSUhEUgAAAH0AAAAVBAMAAACZCfwhAAAAMFBMVEX///+IiIgiIiIQEBB2dnbu\n",
       "7u5ERETMzMzc3NwyMjK6urpmZmaYmJiqqqpUVFQAAAB6qHgnAAAAAXRSTlMAQObYZgAAAAlwSFlz\n",
       "AAAOxAAADsQBlSsOGwAAAhdJREFUOMudVDtoFFEUPZvMZmcys+tuoUiEuGwhWAiLpEq1QrCLrBjW\n",
       "Io0xOIlNEkRLzZBUNjEWgoXFGLBTXEjAoCnWUixc0EYUsiJsI5iE4A/8nftmZ3YmZEbwwbvcz7vz\n",
       "7jn3vgGSl/PfQbVSzaTofe6WKO/jTrzZ333oz0x7xkGqATwV+25Meno5JvADsH4Bd4AbtPQLMcfM\n",
       "xv7+zA7FKvASMKqAFoeyN0rGxdLxjvaN4nEDvVVYvMKIg/82bPTfrvpq3zbFrQoMJp8slYbi8te4\n",
       "zw6eH1H13QzScUAAz7egkf0nwKW4/Hvc9dQHs7iH5Pk8xasKLPK7BL0VhflpZKxz1QnS7FhfcorG\n",
       "UC+OzlFsuciWiaWquT6tg7aLfiZNdhzD9MH0EjMEWjrm+WdF7NJHHrL5gL5n8tnXvPtdN59NyHuz\n",
       "EGryV27rJyktS13PKQrrRxwZJ+gcC1xHUD/75KQVnGK0/ef4vaz4RjlFKadtNGsSyxVDVEwANfcj\n",
       "NGUUugxJ+y9LDVLTIumzMJHBQ1VtPZR/Bti8topHyjCCKTMIe0XOmRW5UVDjO/DCtu2mQuufvAKM\n",
       "F7IbnpluP/C8udnfn+110XrcAFJZx1UVbAmajrdnLjKAp/359deCryxqyyY7KbeQ8wHfbdWTfw8b\n",
       "wUMbOHUQ+pSo42uF7qBOJ6bvfbdjtu1GPbXE/L5//sD0fFL0MPAX+3NyhvQkpG4AAAAASUVORK5C\n",
       "YII=\n",
       "\" style=\"display:inline;vertical-align:middle;\" /></a> <a class=\"ProveItLink\" href=\"../__pv_it/demonstrations/977da2c66bd77b45beb7b46df97adee2b17016bc0/proof.ipynb\" style=\"text-decoration: none\">&nbsp;&#x22A2;&nbsp;&nbsp;</a><a class=\"ProveItLink\" href=\"../__pv_it/demonstrations/231d94510161d944f82d6a9a3139e5887cc55df80/expr.ipynb\"><img src=\"data:image/png;base64,iVBORw0KGgoAAAANSUhEUgAAADwAAAARBAMAAABz4NKpAAAAMFBMVEX///+6uroyMjLMzMwiIiJm\n",
       "ZmaqqqoQEBB2dnbc3NyYmJhUVFRERESIiIju7u4AAABBACUiAAAAAXRSTlMAQObYZgAAAAlwSFlz\n",
       "AAAOxAAADsQBlSsOGwAAAPhJREFUKM9jYGDgu7N7F2cDAyrgPf9n95mdINb1ewxsIQvAgndcXFyc\n",
       "IfL8CgwM6xMYGN6A+PETQEJGNxHa7S8wMLAWMDCoPwByxEEifJ5Ipt83YGBg/MXA8Q3EMQUR3AJI\n",
       "0ueBmPMHw3wHEOcxiGBCdtsfIGb+zdB/AS5ijSTL/BdIcP1g8J8AF5qN7LHPINs+MtSDeSDnMbAg\n",
       "SfN8AHmugMEfxGEzAJGsCxDS/AeAxPoFEB9zQMQUUb3NV8PAMB/ktD6I2OuND5C9zQMMOLZfDAwS\n",
       "MFGJI7BA1QcGiiuI8fT0VgEGdLDn/+49RycwUBGwurggIhQCAGZWPiqohjWHAAAAAElFTkSuQmCC\n",
       "\" style=\"display:inline;vertical-align:middle;\" /></a></span>"
      ],
      "text/plain": [
       "{forall_{x in C} (x in D)} |- C subset_eq D"
      ]
     },
     "metadata": {},
     "output_type": "display_data"
    }
   ],
   "source": [
    "# prove the conclusion from the assumptions\n",
    "CSubsetOfD.prove(assumptions=demo_02_assumptions)"
   ]
  },
  {
   "cell_type": "markdown",
   "metadata": {},
   "source": [
    "<font size=4>And we can re-express that judgment as a logical implication:</font>"
   ]
  },
  {
   "cell_type": "code",
   "execution_count": 49,
   "metadata": {},
   "outputs": [
    {
     "data": {
      "text/html": [
       "<span style=\"font-size:20px;\"> <a class=\"ProveItLink\" href=\"../__pv_it/demonstrations/9d1b80db367ccc74aa42786cee7e7e3acef5480c0/proof.ipynb\" style=\"text-decoration: none\">&nbsp;&#x22A2;&nbsp;&nbsp;</a><a class=\"ProveItLink\" href=\"../__pv_it/demonstrations/2bbcdb2396f0ca88f5cb45b8a4a6524bd71ce9370/expr.ipynb\"><img src=\"data:image/png;base64,iVBORw0KGgoAAAANSUhEUgAAAPUAAAAVBAMAAABs27XUAAAAMFBMVEX///8AAAAAAAAAAAAAAAAA\n",
       "AAAAAAAAAAAAAAAAAAAAAAAAAAAAAAAAAAAAAAAAAAAv3aB7AAAAD3RSTlMAdt0yiUSrVGaZzSK7\n",
       "EO91eSXLAAAACXBIWXMAAA7EAAAOxAGVKw4bAAADU0lEQVRIx42WTWgTQRSAX7L52WS7MRFaERXL\n",
       "elCKaBHRkzRKowcVUy96UEwPBoSiBT3YHuwKXurFoC1EKiW9CaKsIh56qG2FHjTaqL1UilTRo9Aq\n",
       "qFj/3pvdbGbibNaFHXbezJtv5v3NwupN0PixfAYDRrtkQIP/WDbjMyfQ22i0C99QVjKwxo/dxdg5\n",
       "+rzoNeeCXLz+z0zPjAUBU86Opql9OZM3HzbQzMAwSe54oPWSx8APAPUbwF05+w0z2bsK9G2xrTdt\n",
       "GFXf1DQzsIvcM+mBiJlyubKMzSjAoJxdpG1PIyy2wmaPWTLNDMQrqO/l1YTo/Gmjzfn6gs0pExIV\n",
       "nt1UcT4W8Y1/wiZMX/CKC1hOMwMqHi3u5e5+vhMeq7iUJWwepyFu8mzFMV+UPHWEzqMUqH+aW4TT\n",
       "xDh/bxgfvNhDFDItrzuZXcZdNKwiSkcOQjnB5lccT2GoaZ9ZvDAn80HDaSL7BsBzL/ZtfAuB7lhr\n",
       "XUB2JLG5lga15LCvG/RsZ8ekM0FouWaOHEg1kf0ItJzo1jOdc84RN2NQWuqviFm3/Y10nnNZiC6K\n",
       "sdbPDBTENrhSKzT88pxmhiLEVVdaylkII/CFI/iIMojZUAWdY2y15bPU/EbZksjW71EvgU1iifWZ\n",
       "tJWbwWkiO5p0Q+0mbeoSnrmvxsZlkva6XCL+xFf9zuJYYI8fBIcdZOzzbspJNKmmli5jkxpZa1Gx\n",
       "AQ0TH3aDa3PMCEuviNtnSfoW9xJtFfxt2CFBNrczO237PyvVJPYBrDEBqyfeu0CjEd5CUwAL2bMQ\n",
       "Yp2UmKRP6QSTwrlPOHmEhtIIErLDRs+flGkSewJjQYUpBY4zgxU49n6AgT2jcMzevluB4mjQowU7\n",
       "mzi25kRjiIJrwITw4WplOFStqbwmsSNMija6Wi6Xe5l3q5QdAPOpaNHu6j3O9iOzX/PlEWbdrFDX\n",
       "nJKtkOn0W/nhf3JW0HTvUGVRg51sOEcecKRB4XLG7beJaz0Q6rl7a/v9FNiaVfZEqBSz67GOsd1c\n",
       "naEWGq9QlN8lg/7sYo0da967AbQn9Dk/lKoVz2cNF6D7T8ZuEv927CRor9cU/1vmyuW6lRYasokh\n",
       "Y+uTfscmzX0+rtGSjUbXYWhsk/0z3fdjo+ZfV8bh+8Ia9UcAAAAASUVORK5CYII=\n",
       "\" style=\"display:inline;vertical-align:middle;\" /></a></span>"
      ],
      "text/plain": [
       "|- [forall_{x in C} (x in D)] => (C subset_eq D)"
      ]
     },
     "metadata": {},
     "output_type": "display_data"
    }
   ],
   "source": [
    "CSubsetOfD.prove(assumptions=demo_02_assumptions).as_implication(*demo_02_assumptions)"
   ]
  },
  {
   "cell_type": "markdown",
   "metadata": {},
   "source": [
    "<font size=3>Or we could have proven the implication form directly (shown here with new set variables $E$ and $F$ so as not to simply derive from the previous result):</font>"
   ]
  },
  {
   "cell_type": "code",
   "execution_count": 50,
   "metadata": {},
   "outputs": [
    {
     "data": {
      "text/html": [
       "<strong id=\"an_implication\">an_implication:</strong> <a class=\"ProveItLink\" href=\"../__pv_it/demonstrations/d1a27c215d29fd3e34ec24aa10a3f68ffccb2fd10/expr.ipynb\"><img src=\"data:image/png;base64,iVBORw0KGgoAAAANSUhEUgAAAPMAAAAVBAMAAABhxcWTAAAAMFBMVEX///8AAAAAAAAAAAAAAAAA\n",
       "AAAAAAAAAAAAAAAAAAAAAAAAAAAAAAAAAAAAAAAAAAAv3aB7AAAAD3RSTlMAdt0yiUSrVGaZzSK7\n",
       "EO91eSXLAAAACXBIWXMAAA7EAAAOxAGVKw4bAAADi0lEQVRIx4VWX0hTURj/7rbr/l6bQlakNRYV\n",
       "WMQIkYhAC1OEwgU99FKOoBG0YEQP/YFYDxFakJWB1cuCIiFiqwcfJGQa+dKaCyJRDFYk9GBmaIZp\n",
       "1Pede+6/ubt7Yefv953fOb/f950zqN4C5T+vxVzpBdIWq9L8QQsbWFdmTvSbrCDELVY9whwj1Lxg\n",
       "ZuNsLjlcOzsazX2D9SbQ57nJyMyqTeVmorHZhJAgx3s08swMetJk/A/++sGTLwktJRWTWr7TYDDI\n",
       "hVmDc54EPCfHRhItYwbdV3rYvoDFNXD1lIR2J0gNMplg/b0btbkmpNEVhi5ypJ07TLUpGNgaCdbz\n",
       "1i8sLgN8N0C/43UlFQ4yec9I2KFbY3MYVUxDZR4dXbhFj6nUSX1UPcorTd8c2CFOnOuh9/H6EhWe\n",
       "ORDQCL+KsG6RMYCQk3GOjl+Cwa9m0G6kR6o629BGnUEVmRTbQ3WrAdrFY7KXmWTgmNz1GIPETnI4\n",
       "IuR4V2Nq1YebAzfU+O8UxWJTs5f1ujm0O8i+JXm2n4rObbFludtoDJJBSmpXkhwHwBsxZGuutyXH\n",
       "7wQbknoDbuVPU0dHfsfoSRYFV4xh5nzKqu3MJOQNyKMDOgvHSnQXsyyQoy/vUMSw12SxuQnl4dxW\n",
       "YjcED+RJVCa4Ux5P5aGHnb4owienqWRFCqAZ2DI2PY1/kUVabI4cnX5VjPshKkdxc6BBA3yWszWj\n",
       "V0xiSXHCCO19nFahV/C6lPxqrmlBMs6oZaeG5FUsqh5uSAuyzW+ok0AjHMRl+ESdgKbJAm+cM2pd\n",
       "n1YJF39SDsrkPdGgO3kkOgPMsQ2vFiEd88SnZGKX2lVVfX6Q3lQUgDlUaYrN88ZNw6lFzsuwYsJV\n",
       "/nhKzY2OEE+GDHMcwihzwbCdJ4NQsKsXN+aAc36iIDJ2PerFgzmrppEOepDXrcQXmojTfODoiHKR\n",
       "prSsJccKthPMhO5sNhsHX0QKjStxFwDptv/idVns2HF+irHFM3JrqwH6Na93o0lqMRr7kSy+3GP/\n",
       "orImtrDmaC94oUGOBFT8sDJseI3FQ8pFqoRVwACtvNK2kNVTDC81xyFH0o1pxhImDaKa6F1lF3An\n",
       "Sj4frh5L6D7N0b12fx14iTEh1dI+pm7bV/b/xiuT9/qtcYMs+g380VNpdPyQzYaL1MmUg35rAj1l\n",
       "dWg60QGr/2YvyswJuED1dKk/bX6LVfEB/w/2TNnAtJkIxgAAAABJRU5ErkJggg==\n",
       "\" style=\"display:inline;vertical-align:middle;\" /></a><br>"
      ],
      "text/plain": [
       "<IPython.core.display.HTML object>"
      ]
     },
     "metadata": {},
     "output_type": "display_data"
    }
   ],
   "source": [
    "an_implication = Implies(Forall(x, InSet(x,F), domain=E),SubsetEq(E,F))"
   ]
  },
  {
   "cell_type": "code",
   "execution_count": 51,
   "metadata": {},
   "outputs": [
    {
     "data": {
      "text/plain": [
       "False"
      ]
     },
     "metadata": {},
     "output_type": "display_data"
    }
   ],
   "source": [
    "from proveit import defaults\n",
    "defaults.assumptions = an_implication.antecedent.conditions\n",
    "an_implication.antecedent.instance_expr.readily_provable()"
   ]
  },
  {
   "cell_type": "code",
   "execution_count": 52,
   "metadata": {},
   "outputs": [
    {
     "data": {
      "text/html": [
       "<span style=\"font-size:20px;\"> <a class=\"ProveItLink\" href=\"../__pv_it/demonstrations/7335364644bc3d1f9a82018c0e7c7612743ad15f0/proof.ipynb\" style=\"text-decoration: none\">&nbsp;&#x22A2;&nbsp;&nbsp;</a><a class=\"ProveItLink\" href=\"../__pv_it/demonstrations/d1a27c215d29fd3e34ec24aa10a3f68ffccb2fd10/expr.ipynb\"><img src=\"data:image/png;base64,iVBORw0KGgoAAAANSUhEUgAAAPMAAAAVBAMAAABhxcWTAAAAMFBMVEX///8AAAAAAAAAAAAAAAAA\n",
       "AAAAAAAAAAAAAAAAAAAAAAAAAAAAAAAAAAAAAAAAAAAv3aB7AAAAD3RSTlMAdt0yiUSrVGaZzSK7\n",
       "EO91eSXLAAAACXBIWXMAAA7EAAAOxAGVKw4bAAADi0lEQVRIx4VWX0hTURj/7rbr/l6bQlakNRYV\n",
       "WMQIkYhAC1OEwgU99FKOoBG0YEQP/YFYDxFakJWB1cuCIiFiqwcfJGQa+dKaCyJRDFYk9GBmaIZp\n",
       "1Pede+6/ubt7Yefv953fOb/f950zqN4C5T+vxVzpBdIWq9L8QQsbWFdmTvSbrCDELVY9whwj1Lxg\n",
       "ZuNsLjlcOzsazX2D9SbQ57nJyMyqTeVmorHZhJAgx3s08swMetJk/A/++sGTLwktJRWTWr7TYDDI\n",
       "hVmDc54EPCfHRhItYwbdV3rYvoDFNXD1lIR2J0gNMplg/b0btbkmpNEVhi5ypJ07TLUpGNgaCdbz\n",
       "1i8sLgN8N0C/43UlFQ4yec9I2KFbY3MYVUxDZR4dXbhFj6nUSX1UPcorTd8c2CFOnOuh9/H6EhWe\n",
       "ORDQCL+KsG6RMYCQk3GOjl+Cwa9m0G6kR6o629BGnUEVmRTbQ3WrAdrFY7KXmWTgmNz1GIPETnI4\n",
       "IuR4V2Nq1YebAzfU+O8UxWJTs5f1ujm0O8i+JXm2n4rObbFludtoDJJBSmpXkhwHwBsxZGuutyXH\n",
       "7wQbknoDbuVPU0dHfsfoSRYFV4xh5nzKqu3MJOQNyKMDOgvHSnQXsyyQoy/vUMSw12SxuQnl4dxW\n",
       "YjcED+RJVCa4Ux5P5aGHnb4owienqWRFCqAZ2DI2PY1/kUVabI4cnX5VjPshKkdxc6BBA3yWszWj\n",
       "V0xiSXHCCO19nFahV/C6lPxqrmlBMs6oZaeG5FUsqh5uSAuyzW+ok0AjHMRl+ESdgKbJAm+cM2pd\n",
       "n1YJF39SDsrkPdGgO3kkOgPMsQ2vFiEd88SnZGKX2lVVfX6Q3lQUgDlUaYrN88ZNw6lFzsuwYsJV\n",
       "/nhKzY2OEE+GDHMcwihzwbCdJ4NQsKsXN+aAc36iIDJ2PerFgzmrppEOepDXrcQXmojTfODoiHKR\n",
       "prSsJccKthPMhO5sNhsHX0QKjStxFwDptv/idVns2HF+irHFM3JrqwH6Na93o0lqMRr7kSy+3GP/\n",
       "orImtrDmaC94oUGOBFT8sDJseI3FQ8pFqoRVwACtvNK2kNVTDC81xyFH0o1pxhImDaKa6F1lF3An\n",
       "Sj4frh5L6D7N0b12fx14iTEh1dI+pm7bV/b/xiuT9/qtcYMs+g380VNpdPyQzYaL1MmUg35rAj1l\n",
       "dWg60QGr/2YvyswJuED1dKk/bX6LVfEB/w/2TNnAtJkIxgAAAABJRU5ErkJggg==\n",
       "\" style=\"display:inline;vertical-align:middle;\" /></a></span>"
      ],
      "text/plain": [
       "|- [forall_{x in E} (x in F)] => (E subset_eq F)"
      ]
     },
     "metadata": {},
     "output_type": "display_data"
    }
   ],
   "source": [
    "an_implication.prove()"
   ]
  },
  {
   "cell_type": "markdown",
   "metadata": {},
   "source": [
    "<div style=\"width: 90%; border: 5px solid green; padding: 10px; margin: 0px;\"><a id='demo03'></a><font size=4><b>3.</b> $(x\\in B) \\wedge (A \\supset B) \\Rightarrow (x \\in A)$.</font></div><br>\n",
    "<font size=3>This is a variant of <a href='#demo01'>Demo (1)</a> above. When we know that $x$ is in $B$ and $A$ contains $B$, then $x$ must also be in $A$.<br>\n",
    "Let's define some useful expressions, let Prove-It prove the implication, then look at the proof:</font>"
   ]
  },
  {
   "cell_type": "code",
   "execution_count": 53,
   "metadata": {},
   "outputs": [
    {
     "data": {
      "text/html": [
       "<strong id=\"x_in_a\">x_in_a:</strong> <a class=\"ProveItLink\" href=\"../__pv_it/theorems/bffc8f58d953dcb8331468867a32979a833e73840/expr.ipynb\"><img src=\"data:image/png;base64,iVBORw0KGgoAAAANSUhEUgAAADUAAAAQBAMAAABEqSrGAAAAMFBMVEX///9ERES6uroQEBAyMjLc\n",
       "3NyYmJgiIiJmZmaqqqp2dnbMzMxUVFSIiIju7u4AAAAd7oVFAAAAAXRSTlMAQObYZgAAAAlwSFlz\n",
       "AAAOxAAADsQBlSsOGwAAAM9JREFUGNNjYMABQhhwA3/cUpz/cctxnA9A4fOKl5fA2EvXb0CWYvJ9\n",
       "AGezXrg/AUi9vfN61QSwyx4gGckwPwFINfCe5SgA8V2RzNBk2L+AgYEtgO0fD0gNgwOSXAND/AEG\n",
       "Bm4GDoggt3l5eXkh1FUSHecFQAzmC2A+nwBC21sGBn6wPfoBfGBXFCAbycBuwMDwUOEwAxdY4C7C\n",
       "N0D7WT4wMMzf1wx0FQiwTIDJBQMx41cGhhd3OdsggnwH9SBSD//7MXDKf1mAEjALEWEGAgAYMjDu\n",
       "34hqRQAAAABJRU5ErkJggg==\n",
       "\" style=\"display:inline;vertical-align:middle;\" /></a><br>"
      ],
      "text/plain": [
       "<IPython.core.display.HTML object>"
      ]
     },
     "metadata": {},
     "output_type": "display_data"
    },
    {
     "data": {
      "text/html": [
       "<strong id=\"x_in_b\">x_in_b:</strong> <a class=\"ProveItLink\" href=\"../__pv_it/theorems/fd887bd5ac8499adb0944f106e649fd3447c9f0d0/expr.ipynb\"><img src=\"data:image/png;base64,iVBORw0KGgoAAAANSUhEUgAAADUAAAAPBAMAAAC2KZqIAAAAMFBMVEX///9ERES6uroQEBAyMjLc\n",
       "3NyYmJgiIiJmZmaqqqp2dnbMzMxUVFSIiIju7u4AAAAd7oVFAAAAAXRSTlMAQObYZgAAAAlwSFlz\n",
       "AAAOxAAADsQBlSsOGwAAAN1JREFUGNNjYMAC2OT/nDkizYAdMAswMJzfgF0u/gIDg34DssjF8nIH\n",
       "CCsfqCf/ApKUyj048zwQOwcwMLy983rVBCCb1Q+hzJCB4U01kG7gPctRAKRZAuBS3B/v3nEDuTeA\n",
       "7R9PAkgOoY33KwPDZKAYNwMHxAGby4FAAMxkNGBg4PoN9gzEQQ8R+vgPAM37C2LpB/A9AFLsCLn9\n",
       "QPN4PgGVKxxm4AJbgvDPfaCz9gNtmr+vmUETLOIJl3NmYGAyAZr14i5n2wSwyBuhBxCpg//PnHGc\n",
       "gBqKWuKwMIMAAFZmOV1xbntqAAAAAElFTkSuQmCC\n",
       "\" style=\"display:inline;vertical-align:middle;\" /></a><br>"
      ],
      "text/plain": [
       "<IPython.core.display.HTML object>"
      ]
     },
     "metadata": {},
     "output_type": "display_data"
    },
    {
     "data": {
      "text/html": [
       "<strong id=\"ASupersetOfB\">ASupersetOfB:</strong> <a class=\"ProveItLink\" href=\"../__pv_it/demonstrations/99a73bbf94d51cc48a696001ab61cd94dabdccab0/expr.ipynb\"><img src=\"data:image/png;base64,iVBORw0KGgoAAAANSUhEUgAAADsAAAAQBAMAAABaYBp1AAAAMFBMVEX///8QEBAiIiLu7u5ERES6\n",
       "urqYmJiIiIjMzMx2dnZUVFRmZmaqqqoyMjLc3NwAAABb1yYoAAAAAXRSTlMAQObYZgAAAAlwSFlz\n",
       "AAAOxAAADsQBlSsOGwAAAPRJREFUGNNjYACBtwx4wX0METb/X6vWekDYPP8xdTA6MDCsbwAzudc/\n",
       "wJB+X8DAEL8BzJw3H6zMSElJyR0mnQ8Uyi8AsfgK6g/ARJ9rQBnrgfgi2FBuhvMJcEONoPaIMDBY\n",
       "QZTGMPRPgEtzOECoL+VV1yAiGxjeL0C46TKYZP/HwHAQbCa79+71DgjpqWCSRYCBgfMHiGXOwMCv\n",
       "gJDeCib5geaxfYeYzcAkgJC+ACb7gQZzfQUyWIEM3g9wWR6IM+qBHugHqXwIsukfXLrJAExdBOqT\n",
       "BTJN/l9m4PH/C/UZc7QfmF7yf9WqKwdQgxkYqLp7UIUA9WQ+SWPt8M0AAAAASUVORK5CYII=\n",
       "\" style=\"display:inline;vertical-align:middle;\" /></a><br>"
      ],
      "text/plain": [
       "<IPython.core.display.HTML object>"
      ]
     },
     "metadata": {},
     "output_type": "display_data"
    }
   ],
   "source": [
    "# define some expressions\n",
    "x_in_a, x_in_b, ASupersetOfB = InSet(x, A), InSet(x, B), proper_superset(A, B)"
   ]
  },
  {
   "cell_type": "code",
   "execution_count": 54,
   "metadata": {},
   "outputs": [
    {
     "data": {
      "text/html": [
       "<strong id=\"x_in_a_kt\">x_in_a_kt:</strong> <span style=\"font-size:20px;\"><a class=\"ProveItLink\" href=\"../__pv_it/demonstrations/99a73bbf94d51cc48a696001ab61cd94dabdccab0/expr.ipynb\"><img src=\"data:image/png;base64,iVBORw0KGgoAAAANSUhEUgAAADsAAAAQBAMAAABaYBp1AAAAMFBMVEX///8QEBAiIiLu7u5ERES6\n",
       "urqYmJiIiIjMzMx2dnZUVFRmZmaqqqoyMjLc3NwAAABb1yYoAAAAAXRSTlMAQObYZgAAAAlwSFlz\n",
       "AAAOxAAADsQBlSsOGwAAAPRJREFUGNNjYACBtwx4wX0METb/X6vWekDYPP8xdTA6MDCsbwAzudc/\n",
       "wJB+X8DAEL8BzJw3H6zMSElJyR0mnQ8Uyi8AsfgK6g/ARJ9rQBnrgfgi2FBuhvMJcEONoPaIMDBY\n",
       "QZTGMPRPgEtzOECoL+VV1yAiGxjeL0C46TKYZP/HwHAQbCa79+71DgjpqWCSRYCBgfMHiGXOwMCv\n",
       "gJDeCib5geaxfYeYzcAkgJC+ACb7gQZzfQUyWIEM3g9wWR6IM+qBHugHqXwIsukfXLrJAExdBOqT\n",
       "BTJN/l9m4PH/C/UZc7QfmF7yf9WqKwdQgxkYqLp7UIUA9WQ+SWPt8M0AAAAASUVORK5CYII=\n",
       "\" style=\"display:inline;vertical-align:middle;\" /></a>, <a class=\"ProveItLink\" href=\"../__pv_it/theorems/fd887bd5ac8499adb0944f106e649fd3447c9f0d0/expr.ipynb\"><img src=\"data:image/png;base64,iVBORw0KGgoAAAANSUhEUgAAADUAAAAPBAMAAAC2KZqIAAAAMFBMVEX///9ERES6uroQEBAyMjLc\n",
       "3NyYmJgiIiJmZmaqqqp2dnbMzMxUVFSIiIju7u4AAAAd7oVFAAAAAXRSTlMAQObYZgAAAAlwSFlz\n",
       "AAAOxAAADsQBlSsOGwAAAN1JREFUGNNjYMAC2OT/nDkizYAdMAswMJzfgF0u/gIDg34DssjF8nIH\n",
       "CCsfqCf/ApKUyj048zwQOwcwMLy983rVBCCb1Q+hzJCB4U01kG7gPctRAKRZAuBS3B/v3nEDuTeA\n",
       "7R9PAkgOoY33KwPDZKAYNwMHxAGby4FAAMxkNGBg4PoN9gzEQQ8R+vgPAM37C2LpB/A9AFLsCLn9\n",
       "QPN4PgGVKxxm4AJbgvDPfaCz9gNtmr+vmUETLOIJl3NmYGAyAZr14i5n2wSwyBuhBxCpg//PnHGc\n",
       "gBqKWuKwMIMAAFZmOV1xbntqAAAAAElFTkSuQmCC\n",
       "\" style=\"display:inline;vertical-align:middle;\" /></a> <a class=\"ProveItLink\" href=\"../__pv_it/demonstrations/71ca519f3123937062eb74cc5e4cebcb042be55d0/proof.ipynb\" style=\"text-decoration: none\">&nbsp;&#x22A2;&nbsp;&nbsp;</a><a class=\"ProveItLink\" href=\"../__pv_it/theorems/bffc8f58d953dcb8331468867a32979a833e73840/expr.ipynb\"><img src=\"data:image/png;base64,iVBORw0KGgoAAAANSUhEUgAAADUAAAAQBAMAAABEqSrGAAAAMFBMVEX///9ERES6uroQEBAyMjLc\n",
       "3NyYmJgiIiJmZmaqqqp2dnbMzMxUVFSIiIju7u4AAAAd7oVFAAAAAXRSTlMAQObYZgAAAAlwSFlz\n",
       "AAAOxAAADsQBlSsOGwAAAM9JREFUGNNjYMABQhhwA3/cUpz/cctxnA9A4fOKl5fA2EvXb0CWYvJ9\n",
       "AGezXrg/AUi9vfN61QSwyx4gGckwPwFINfCe5SgA8V2RzNBk2L+AgYEtgO0fD0gNgwOSXAND/AEG\n",
       "Bm4GDoggt3l5eXkh1FUSHecFQAzmC2A+nwBC21sGBn6wPfoBfGBXFCAbycBuwMDwUOEwAxdY4C7C\n",
       "N0D7WT4wMMzf1wx0FQiwTIDJBQMx41cGhhd3OdsggnwH9SBSD//7MXDKf1mAEjALEWEGAgAYMjDu\n",
       "34hqRQAAAABJRU5ErkJggg==\n",
       "\" style=\"display:inline;vertical-align:middle;\" /></a></span><br>"
      ],
      "text/plain": [
       "<IPython.core.display.HTML object>"
      ]
     },
     "metadata": {},
     "output_type": "display_data"
    }
   ],
   "source": [
    "# establish the Known Truth\n",
    "x_in_a_kt = x_in_a.prove(assumptions=[x_in_b, ASupersetOfB])"
   ]
  },
  {
   "cell_type": "markdown",
   "metadata": {},
   "source": [
    "<a id='demo03'></a><font size=3>In the proof, we see the relaxation theorem taking $A \\supset B$ to $A \\supseteq B$, and then the reversal theorem taking $A \\supseteq B$ to $B \\subseteq A$, then proceeding as it would for the example in <a href='#demo01'>Demo (1)</a> earlier:</font>"
   ]
  },
  {
   "cell_type": "code",
   "execution_count": 55,
   "metadata": {},
   "outputs": [
    {
     "data": {
      "text/html": [
       "<table><tr><th>&nbsp;</th><th>step type</th><th>requirements</th><th>statement</th></tr>\n",
       "<tr><td><a name=\"0x668411d7b7045cc1_step0\">0</a></td><td>instantiation</td><td><a href=\"#0x668411d7b7045cc1_step1\">1</a>, <a href=\"#0x668411d7b7045cc1_step2\">2</a>, <a href=\"#0x668411d7b7045cc1_step3\">3</a></td><td><span style=\"font-size:20px;\"><a class=\"ProveItLink\" href=\"../__pv_it/demonstrations/99a73bbf94d51cc48a696001ab61cd94dabdccab0/expr.ipynb\"><img src=\"data:image/png;base64,iVBORw0KGgoAAAANSUhEUgAAADsAAAAQBAMAAABaYBp1AAAAMFBMVEX///8QEBAiIiLu7u5ERES6\n",
       "urqYmJiIiIjMzMx2dnZUVFRmZmaqqqoyMjLc3NwAAABb1yYoAAAAAXRSTlMAQObYZgAAAAlwSFlz\n",
       "AAAOxAAADsQBlSsOGwAAAPRJREFUGNNjYACBtwx4wX0METb/X6vWekDYPP8xdTA6MDCsbwAzudc/\n",
       "wJB+X8DAEL8BzJw3H6zMSElJyR0mnQ8Uyi8AsfgK6g/ARJ9rQBnrgfgi2FBuhvMJcEONoPaIMDBY\n",
       "QZTGMPRPgEtzOECoL+VV1yAiGxjeL0C46TKYZP/HwHAQbCa79+71DgjpqWCSRYCBgfMHiGXOwMCv\n",
       "gJDeCib5geaxfYeYzcAkgJC+ACb7gQZzfQUyWIEM3g9wWR6IM+qBHugHqXwIsukfXLrJAExdBOqT\n",
       "BTJN/l9m4PH/C/UZc7QfmF7yf9WqKwdQgxkYqLp7UIUA9WQ+SWPt8M0AAAAASUVORK5CYII=\n",
       "\" style=\"display:inline;vertical-align:middle;\" /></a>, <a class=\"ProveItLink\" href=\"../__pv_it/theorems/fd887bd5ac8499adb0944f106e649fd3447c9f0d0/expr.ipynb\"><img src=\"data:image/png;base64,iVBORw0KGgoAAAANSUhEUgAAADUAAAAPBAMAAAC2KZqIAAAAMFBMVEX///9ERES6uroQEBAyMjLc\n",
       "3NyYmJgiIiJmZmaqqqp2dnbMzMxUVFSIiIju7u4AAAAd7oVFAAAAAXRSTlMAQObYZgAAAAlwSFlz\n",
       "AAAOxAAADsQBlSsOGwAAAN1JREFUGNNjYMAC2OT/nDkizYAdMAswMJzfgF0u/gIDg34DssjF8nIH\n",
       "CCsfqCf/ApKUyj048zwQOwcwMLy983rVBCCb1Q+hzJCB4U01kG7gPctRAKRZAuBS3B/v3nEDuTeA\n",
       "7R9PAkgOoY33KwPDZKAYNwMHxAGby4FAAMxkNGBg4PoN9gzEQQ8R+vgPAM37C2LpB/A9AFLsCLn9\n",
       "QPN4PgGVKxxm4AJbgvDPfaCz9gNtmr+vmUETLOIJl3NmYGAyAZr14i5n2wSwyBuhBxCpg//PnHGc\n",
       "gBqKWuKwMIMAAFZmOV1xbntqAAAAAElFTkSuQmCC\n",
       "\" style=\"display:inline;vertical-align:middle;\" /></a> <a class=\"ProveItLink\" href=\"../__pv_it/demonstrations/71ca519f3123937062eb74cc5e4cebcb042be55d0/proof.ipynb\" style=\"text-decoration: none\">&nbsp;&#x22A2;&nbsp;&nbsp;</a><a class=\"ProveItLink\" href=\"../__pv_it/theorems/bffc8f58d953dcb8331468867a32979a833e73840/expr.ipynb\"><img src=\"data:image/png;base64,iVBORw0KGgoAAAANSUhEUgAAADUAAAAQBAMAAABEqSrGAAAAMFBMVEX///9ERES6uroQEBAyMjLc\n",
       "3NyYmJgiIiJmZmaqqqp2dnbMzMxUVFSIiIju7u4AAAAd7oVFAAAAAXRSTlMAQObYZgAAAAlwSFlz\n",
       "AAAOxAAADsQBlSsOGwAAAM9JREFUGNNjYMABQhhwA3/cUpz/cctxnA9A4fOKl5fA2EvXb0CWYvJ9\n",
       "AGezXrg/AUi9vfN61QSwyx4gGckwPwFINfCe5SgA8V2RzNBk2L+AgYEtgO0fD0gNgwOSXAND/AEG\n",
       "Bm4GDoggt3l5eXkh1FUSHecFQAzmC2A+nwBC21sGBn6wPfoBfGBXFCAbycBuwMDwUOEwAxdY4C7C\n",
       "N0D7WT4wMMzf1wx0FQiwTIDJBQMx41cGhhd3OdsggnwH9SBSD//7MXDKf1mAEjALEWEGAgAYMjDu\n",
       "34hqRQAAAABJRU5ErkJggg==\n",
       "\" style=\"display:inline;vertical-align:middle;\" /></a></span></td></tr>\n",
       "<tr><td>&nbsp;</td><td colspan=4 style=\"text-align:left\"><span style=\"font-size:20px;\"><a class=\"ProveItLink\" href=\"../../../../__pv_it/common/09585084922504426caf1db2ff588a23a0932a960/expr.ipynb\"><img src=\"data:image/png;base64,iVBORw0KGgoAAAANSUhEUgAAAA8AAAAPBAMAAADJ+Ih5AAAAMFBMVEX///8QEBAiIiLu7u5ERES6\n",
       "urqYmJiIiIjMzMx2dnZUVFRmZmaqqqoyMjLc3NwAAABb1yYoAAAAAXRSTlMAQObYZgAAAAlwSFlz\n",
       "AAAOxAAADsQBlSsOGwAAAF9JREFUCNdjYACBtwxQcB9K8/yHMrjXP4Aw5s1vANN8BfUHIDIM5xPA\n",
       "jBiG/glgxgaG9wtANLv37vUOIIY5AwO/AkSGgUkASLMCdfB+ADIeAjHLPwYGk/+XGXj8/04AADnq\n",
       "Fzds8Dk2AAAAAElFTkSuQmCC\n",
       "\" style=\"display:inline;vertical-align:middle;\" /></a> : <a class=\"ProveItLink\" href=\"../../../../__pv_it/common/a9162d1c3cc0470c02e5daf414500903a7a419230/expr.ipynb\"><img src=\"data:image/png;base64,iVBORw0KGgoAAAANSUhEUgAAABAAAAAOBAMAAADUAYG5AAAAMFBMVEX///92dnaqqqoiIiLu7u5m\n",
       "Zma6urqIiIjc3NwQEBDMzMwyMjJUVFRERESYmJgAAAAeMT9/AAAAAXRSTlMAQObYZgAAAAlwSFlz\n",
       "AAAOxAAADsQBlSsOGwAAAHJJREFUCNdjYGB4+//Mmb0LGIBgLgMDzy8gzfGdgYHtK5DBB+TxATkM\n",
       "PB8YGLhnABmcFxhYDoMUr79efvoBSFN9AwPTPBDjJhDLg6T+APH7AgYGrn9AxvkEBgb2H0DObyCH\n",
       "ewIDQ+YWoHH3/5w5fYmBAQBWoiHo17XzsQAAAABJRU5ErkJggg==\n",
       "\" style=\"display:inline;vertical-align:middle;\" /></a>, <a class=\"ProveItLink\" href=\"../../../../__pv_it/common/a9162d1c3cc0470c02e5daf414500903a7a419230/expr.ipynb\"><img src=\"data:image/png;base64,iVBORw0KGgoAAAANSUhEUgAAABAAAAAOBAMAAADUAYG5AAAAMFBMVEX///92dnaqqqoiIiLu7u5m\n",
       "Zma6urqIiIjc3NwQEBDMzMwyMjJUVFRERESYmJgAAAAeMT9/AAAAAXRSTlMAQObYZgAAAAlwSFlz\n",
       "AAAOxAAADsQBlSsOGwAAAHJJREFUCNdjYGB4+//Mmb0LGIBgLgMDzy8gzfGdgYHtK5DBB+TxATkM\n",
       "PB8YGLhnABmcFxhYDoMUr79efvoBSFN9AwPTPBDjJhDLg6T+APH7AgYGrn9AxvkEBgb2H0DObyCH\n",
       "ewIDQ+YWoHH3/5w5fYmBAQBWoiHo17XzsQAAAABJRU5ErkJggg==\n",
       "\" style=\"display:inline;vertical-align:middle;\" /></a> : <a class=\"ProveItLink\" href=\"../../../../__pv_it/common/09585084922504426caf1db2ff588a23a0932a960/expr.ipynb\"><img src=\"data:image/png;base64,iVBORw0KGgoAAAANSUhEUgAAAA8AAAAPBAMAAADJ+Ih5AAAAMFBMVEX///8QEBAiIiLu7u5ERES6\n",
       "urqYmJiIiIjMzMx2dnZUVFRmZmaqqqoyMjLc3NwAAABb1yYoAAAAAXRSTlMAQObYZgAAAAlwSFlz\n",
       "AAAOxAAADsQBlSsOGwAAAF9JREFUCNdjYACBtwxQcB9K8/yHMrjXP4Aw5s1vANN8BfUHIDIM5xPA\n",
       "jBiG/glgxgaG9wtANLv37vUOIIY5AwO/AkSGgUkASLMCdfB+ADIeAjHLPwYGk/+XGXj8/04AADnq\n",
       "Fzds8Dk2AAAAAElFTkSuQmCC\n",
       "\" style=\"display:inline;vertical-align:middle;\" /></a>, <a class=\"ProveItLink\" href=\"../../../../__pv_it/common/a0d9d672aa5e272d907247690c152cc2c6daafb70/expr.ipynb\"><img src=\"data:image/png;base64,iVBORw0KGgoAAAANSUhEUgAAAAsAAAAJBAMAAAAWSsseAAAAMFBMVEX///9ERES6uroQEBAyMjLc\n",
       "3NyYmJgiIiJmZmaqqqp2dnbMzMxUVFSIiIju7u4AAAAd7oVFAAAAAXRSTlMAQObYZgAAAAlwSFlz\n",
       "AAAOxAAADsQBlSsOGwAAAENJREFUCNdjYHh75/WqCQwMDbxnOQoY2ALY/vEkMHAzcDgwgADzBTCl\n",
       "H8D3gOGhwmEGLgaG+fuaGTQZGF7c5WybwAAAJTwQ1a2DuB8AAAAASUVORK5CYII=\n",
       "\" style=\"display:inline;vertical-align:middle;\" /></a> : <a class=\"ProveItLink\" href=\"../../../../__pv_it/common/a0d9d672aa5e272d907247690c152cc2c6daafb70/expr.ipynb\"><img src=\"data:image/png;base64,iVBORw0KGgoAAAANSUhEUgAAAAsAAAAJBAMAAAAWSsseAAAAMFBMVEX///9ERES6uroQEBAyMjLc\n",
       "3NyYmJgiIiJmZmaqqqp2dnbMzMxUVFSIiIju7u4AAAAd7oVFAAAAAXRSTlMAQObYZgAAAAlwSFlz\n",
       "AAAOxAAADsQBlSsOGwAAAENJREFUCNdjYHh75/WqCQwMDbxnOQoY2ALY/vEkMHAzcDgwgADzBTCl\n",
       "H8D3gOGhwmEGLgaG+fuaGTQZGF7c5WybwAAAJTwQ1a2DuB8AAAAASUVORK5CYII=\n",
       "\" style=\"display:inline;vertical-align:middle;\" /></a></span></td></tr><tr><td><a name=\"0x668411d7b7045cc1_step1\">1</a></td><td>theorem</td><td></td><td><span style=\"font-size:20px;\"> <a class=\"ProveItLink\" href=\"proofs/unfold_subset_eq/thm_proof.ipynb\" style=\"text-decoration: none\">&nbsp;&#x22A2;&nbsp;&nbsp;</a><a class=\"ProveItLink\" href=\"../__pv_it/theorems/ffb57c6ecaa9512f7208b5cea9aeeaa8cfa4a4e50/expr.ipynb\"><img src=\"data:image/png;base64,iVBORw0KGgoAAAANSUhEUgAAAPcAAAAXBAMAAAAl5sTiAAAAMFBMVEX///+IiIgiIiIQEBB2dnbu\n",
       "7u5ERETMzMzc3NwyMjK6urpmZmaYmJiqqqpUVFQAAAB6qHgnAAAAAXRSTlMAQObYZgAAAAlwSFlz\n",
       "AAAOxAAADsQBlSsOGwAAA3lJREFUSMe9ll9IFEEYwL/N27u9vb11JQohK1kfeqiHK6J6SLmHQyix\n",
       "FqUgBLkKLxDEDaPHOit81HtRIrAuMiQIOku0QuryIQoNr8eo4AgqxFCD5DTL+nZm93bubM88qIG7\n",
       "nZ3v2/nNfP9mAIpsnKoXVhAKCaN/MUGB5oqvobC1kPAmnSFt9N8VA5eNhz/pIPcH/zj8/NfsbJ8O\n",
       "XJLAHxtDV4uB+4y9e6MO8hMO4/sA5AxAL4FfMNwTLgbuMYzW5SQfc4iErwDiMsAEgXs1fKSK8jmu\n",
       "Huqd5IGct82qGiMdCXct4QJKNGMGCa3vLS7gJvERc3J5juDOJqsnzyPuAP6SJGT3qOre4uAlqloV\n",
       "dBD7UMCXfTxHLCP0ZsdLwsB/wBxzpQl8FKCFjGt5n1sd3gnu08Gd91FWF3eGM2xT7kNuVF48WTZt\n",
       "JIgUI/BuEEi68fuJ9PxyaIRkv9vSbzQWGolEouBpH647Y8Pxu+68JTVahWMDhtELmNK+ELitsD0K\n",
       "/oOGWwIE7tZovXD9pBFRCVwgB340BXwr7Y4DbGSKTAsctpTOfmo1dU3zoliHR/SlQ8VGM+q0oYQr\n",
       "9MyTGfwKXdjgbhoRCZDmWbjYoYDbtNsMwBQDf52NN99oVteGA9Ap4bi98xX8TaGSSHcOsWdkWLlO\n",
       "v0pBQ5KFc940XDH71cDvYuBeCafhtnQ+hApb1zY7iItwjLxk2Z4f+DdnbLmSwutJLHKmjXoqJj4D\n",
       "C1d8MXhvVYjJJzoDd73BeCuXw/182Nalza2gr+QAkGzglOxxtIgLWDK8G6bwy2S1g6Y3x4GfYeGi\n",
       "jiFwF6x4aE4wcKEGO0m3ootJW9cUp8GfaQqINAb6s0mA8lu9NBUJXCabGQ7NaaZbe+IM3Bc6sgDN\n",
       "YMWD8J091YiNSqMg9UUibaauad9K4IeUt6/oW3MrTUm5fWV2uo14Is6cixwydepWuMemmgJCxqq/\n",
       "GA9iZtWR2gFRT9DWNduOnBQcOKXm1sJL7Axo2NIUHwRhAfidjNkNg2IODpP19GjQkMiDC4FDkKBl\n",
       "ytSlbaJwgRxj4L4a4J9e81TDy2+hkRQDf5CGpqU4iLVYZKQbobq2VZeJoYEyDbp0W9eMuGjBa054\n",
       "9XXEz/Td67nJ8LWR1rxCW/CYNpaWD7+9DvhaV7DOQsJyjLKqPHjSAS5HSG3/f03494jf+P/jjSgp\n",
       "bc4AAAAASUVORK5CYII=\n",
       "\" style=\"display:inline;vertical-align:middle;\" /></a></span></td></tr>\n",
       "<tr><td>&nbsp;</td><td colspan=4 style-\"text-align:left\"><a class=\"ProveItLink\" href=\"proofs/unfold_subset_eq/thm_proof.ipynb\">proveit.logic.sets.inclusion.unfold_subset_eq</a></td></tr><tr><td><a name=\"0x668411d7b7045cc1_step2\">2</a></td><td>instantiation</td><td><a href=\"#0x668411d7b7045cc1_step4\">4</a>, <a href=\"#0x668411d7b7045cc1_step5\">5</a></td><td><span style=\"font-size:20px;\"><a class=\"ProveItLink\" href=\"../__pv_it/demonstrations/99a73bbf94d51cc48a696001ab61cd94dabdccab0/expr.ipynb\"><img src=\"data:image/png;base64,iVBORw0KGgoAAAANSUhEUgAAADsAAAAQBAMAAABaYBp1AAAAMFBMVEX///8QEBAiIiLu7u5ERES6\n",
       "urqYmJiIiIjMzMx2dnZUVFRmZmaqqqoyMjLc3NwAAABb1yYoAAAAAXRSTlMAQObYZgAAAAlwSFlz\n",
       "AAAOxAAADsQBlSsOGwAAAPRJREFUGNNjYACBtwx4wX0METb/X6vWekDYPP8xdTA6MDCsbwAzudc/\n",
       "wJB+X8DAEL8BzJw3H6zMSElJyR0mnQ8Uyi8AsfgK6g/ARJ9rQBnrgfgi2FBuhvMJcEONoPaIMDBY\n",
       "QZTGMPRPgEtzOECoL+VV1yAiGxjeL0C46TKYZP/HwHAQbCa79+71DgjpqWCSRYCBgfMHiGXOwMCv\n",
       "gJDeCib5geaxfYeYzcAkgJC+ACb7gQZzfQUyWIEM3g9wWR6IM+qBHugHqXwIsukfXLrJAExdBOqT\n",
       "BTJN/l9m4PH/C/UZc7QfmF7yf9WqKwdQgxkYqLp7UIUA9WQ+SWPt8M0AAAAASUVORK5CYII=\n",
       "\" style=\"display:inline;vertical-align:middle;\" /></a> <a class=\"ProveItLink\" href=\"../__pv_it/demonstrations/40e4ac6d0541fb9184d752316ac96d7eb80828b30/proof.ipynb\" style=\"text-decoration: none\">&nbsp;&#x22A2;&nbsp;&nbsp;</a><a class=\"ProveItLink\" href=\"../__pv_it/demonstrations/ef30b59e5d361aec67721f56de6d475e89d7cb740/expr.ipynb\"><img src=\"data:image/png;base64,iVBORw0KGgoAAAANSUhEUgAAADsAAAASBAMAAAAXqLt+AAAAMFBMVEX///92dnaqqqoiIiLu7u5m\n",
       "Zma6urqIiIjc3NwQEBDMzMwyMjJUVFRERESYmJgAAAAeMT9/AAAAAXRSTlMAQObYZgAAAAlwSFlz\n",
       "AAAOxAAADsQBlSsOGwAAAPdJREFUKM9jYMANusHk2/9nzuxdgEV6P4Say8DA8wvMYr9sbGwMU8n0\n",
       "H0xxfGdgYPsKYnFtb0DSzHoezOMD6uT7DmI5I8sySMiDzeH5wMDAPQPEOoYsy1FQrwCiOS8wsBwG\n",
       "K9yALM3KoP8ARK+/Xn4azOA6gCydxLBeAETXNzAwzQMbhyIdwNAP5t8EYogrDJBk2a+Gnr8AYvwB\n",
       "4vcFIFYckrQ7AwM/SDnXPyBxPgEkxJ2AbDYD8wSQKT+ASn6DhVjOpMBk2YCO5f4A0gJUk7kFKigL\n",
       "C9ROIOYFauS5/+fM6UvoseH7fwsD0/3fAgzUA8HGxkgRCgIAMkxDd13jCOwAAAAASUVORK5CYII=\n",
       "\" style=\"display:inline;vertical-align:middle;\" /></a></span></td></tr>\n",
       "<tr><td>&nbsp;</td><td colspan=4 style=\"text-align:left\"><span style=\"font-size:20px;\"><a class=\"ProveItLink\" href=\"../../../../__pv_it/common/09585084922504426caf1db2ff588a23a0932a960/expr.ipynb\"><img src=\"data:image/png;base64,iVBORw0KGgoAAAANSUhEUgAAAA8AAAAPBAMAAADJ+Ih5AAAAMFBMVEX///8QEBAiIiLu7u5ERES6\n",
       "urqYmJiIiIjMzMx2dnZUVFRmZmaqqqoyMjLc3NwAAABb1yYoAAAAAXRSTlMAQObYZgAAAAlwSFlz\n",
       "AAAOxAAADsQBlSsOGwAAAF9JREFUCNdjYACBtwxQcB9K8/yHMrjXP4Aw5s1vANN8BfUHIDIM5xPA\n",
       "jBiG/glgxgaG9wtANLv37vUOIIY5AwO/AkSGgUkASLMCdfB+ADIeAjHLPwYGk/+XGXj8/04AADnq\n",
       "Fzds8Dk2AAAAAElFTkSuQmCC\n",
       "\" style=\"display:inline;vertical-align:middle;\" /></a> : <a class=\"ProveItLink\" href=\"../../../../__pv_it/common/a9162d1c3cc0470c02e5daf414500903a7a419230/expr.ipynb\"><img src=\"data:image/png;base64,iVBORw0KGgoAAAANSUhEUgAAABAAAAAOBAMAAADUAYG5AAAAMFBMVEX///92dnaqqqoiIiLu7u5m\n",
       "Zma6urqIiIjc3NwQEBDMzMwyMjJUVFRERESYmJgAAAAeMT9/AAAAAXRSTlMAQObYZgAAAAlwSFlz\n",
       "AAAOxAAADsQBlSsOGwAAAHJJREFUCNdjYGB4+//Mmb0LGIBgLgMDzy8gzfGdgYHtK5DBB+TxATkM\n",
       "PB8YGLhnABmcFxhYDoMUr79efvoBSFN9AwPTPBDjJhDLg6T+APH7AgYGrn9AxvkEBgb2H0DObyCH\n",
       "ewIDQ+YWoHH3/5w5fYmBAQBWoiHo17XzsQAAAABJRU5ErkJggg==\n",
       "\" style=\"display:inline;vertical-align:middle;\" /></a>, <a class=\"ProveItLink\" href=\"../../../../__pv_it/common/a9162d1c3cc0470c02e5daf414500903a7a419230/expr.ipynb\"><img src=\"data:image/png;base64,iVBORw0KGgoAAAANSUhEUgAAABAAAAAOBAMAAADUAYG5AAAAMFBMVEX///92dnaqqqoiIiLu7u5m\n",
       "Zma6urqIiIjc3NwQEBDMzMwyMjJUVFRERESYmJgAAAAeMT9/AAAAAXRSTlMAQObYZgAAAAlwSFlz\n",
       "AAAOxAAADsQBlSsOGwAAAHJJREFUCNdjYGB4+//Mmb0LGIBgLgMDzy8gzfGdgYHtK5DBB+TxATkM\n",
       "PB8YGLhnABmcFxhYDoMUr79efvoBSFN9AwPTPBDjJhDLg6T+APH7AgYGrn9AxvkEBgb2H0DObyCH\n",
       "ewIDQ+YWoHH3/5w5fYmBAQBWoiHo17XzsQAAAABJRU5ErkJggg==\n",
       "\" style=\"display:inline;vertical-align:middle;\" /></a> : <a class=\"ProveItLink\" href=\"../../../../__pv_it/common/09585084922504426caf1db2ff588a23a0932a960/expr.ipynb\"><img src=\"data:image/png;base64,iVBORw0KGgoAAAANSUhEUgAAAA8AAAAPBAMAAADJ+Ih5AAAAMFBMVEX///8QEBAiIiLu7u5ERES6\n",
       "urqYmJiIiIjMzMx2dnZUVFRmZmaqqqoyMjLc3NwAAABb1yYoAAAAAXRSTlMAQObYZgAAAAlwSFlz\n",
       "AAAOxAAADsQBlSsOGwAAAF9JREFUCNdjYACBtwxQcB9K8/yHMrjXP4Aw5s1vANN8BfUHIDIM5xPA\n",
       "jBiG/glgxgaG9wtANLv37vUOIIY5AwO/AkSGgUkASLMCdfB+ADIeAjHLPwYGk/+XGXj8/04AADnq\n",
       "Fzds8Dk2AAAAAElFTkSuQmCC\n",
       "\" style=\"display:inline;vertical-align:middle;\" /></a></span></td></tr><tr><td><a name=\"0x668411d7b7045cc1_step3\">3</a></td><td>assumption</td><td></td><td><span style=\"font-size:20px;\"><a class=\"ProveItLink\" href=\"../__pv_it/theorems/fd887bd5ac8499adb0944f106e649fd3447c9f0d0/expr.ipynb\"><img src=\"data:image/png;base64,iVBORw0KGgoAAAANSUhEUgAAADUAAAAPBAMAAAC2KZqIAAAAMFBMVEX///9ERES6uroQEBAyMjLc\n",
       "3NyYmJgiIiJmZmaqqqp2dnbMzMxUVFSIiIju7u4AAAAd7oVFAAAAAXRSTlMAQObYZgAAAAlwSFlz\n",
       "AAAOxAAADsQBlSsOGwAAAN1JREFUGNNjYMAC2OT/nDkizYAdMAswMJzfgF0u/gIDg34DssjF8nIH\n",
       "CCsfqCf/ApKUyj048zwQOwcwMLy983rVBCCb1Q+hzJCB4U01kG7gPctRAKRZAuBS3B/v3nEDuTeA\n",
       "7R9PAkgOoY33KwPDZKAYNwMHxAGby4FAAMxkNGBg4PoN9gzEQQ8R+vgPAM37C2LpB/A9AFLsCLn9\n",
       "QPN4PgGVKxxm4AJbgvDPfaCz9gNtmr+vmUETLOIJl3NmYGAyAZr14i5n2wSwyBuhBxCpg//PnHGc\n",
       "gBqKWuKwMIMAAFZmOV1xbntqAAAAAElFTkSuQmCC\n",
       "\" style=\"display:inline;vertical-align:middle;\" /></a> <a class=\"ProveItLink\" href=\"../__pv_it/demonstrations/d3401f85ae5ee215ed560d73f2fab5f4c1b6a8550/proof.ipynb\" style=\"text-decoration: none\">&nbsp;&#x22A2;&nbsp;&nbsp;</a><a class=\"ProveItLink\" href=\"../__pv_it/theorems/fd887bd5ac8499adb0944f106e649fd3447c9f0d0/expr.ipynb\"><img src=\"data:image/png;base64,iVBORw0KGgoAAAANSUhEUgAAADUAAAAPBAMAAAC2KZqIAAAAMFBMVEX///9ERES6uroQEBAyMjLc\n",
       "3NyYmJgiIiJmZmaqqqp2dnbMzMxUVFSIiIju7u4AAAAd7oVFAAAAAXRSTlMAQObYZgAAAAlwSFlz\n",
       "AAAOxAAADsQBlSsOGwAAAN1JREFUGNNjYMAC2OT/nDkizYAdMAswMJzfgF0u/gIDg34DssjF8nIH\n",
       "CCsfqCf/ApKUyj048zwQOwcwMLy983rVBCCb1Q+hzJCB4U01kG7gPctRAKRZAuBS3B/v3nEDuTeA\n",
       "7R9PAkgOoY33KwPDZKAYNwMHxAGby4FAAMxkNGBg4PoN9gzEQQ8R+vgPAM37C2LpB/A9AFLsCLn9\n",
       "QPN4PgGVKxxm4AJbgvDPfaCz9gNtmr+vmUETLOIJl3NmYGAyAZr14i5n2wSwyBuhBxCpg//PnHGc\n",
       "gBqKWuKwMIMAAFZmOV1xbntqAAAAAElFTkSuQmCC\n",
       "\" style=\"display:inline;vertical-align:middle;\" /></a></span></td></tr>\n",
       "<tr><td><a name=\"0x668411d7b7045cc1_step4\">4</a></td><td>conjecture</td><td></td><td><span style=\"font-size:20px;\"> <a class=\"ProveItLink\" href=\"proofs/relax_proper_subset/thm_proof.ipynb\" style=\"text-decoration: none\">&nbsp;&#x22A2;&nbsp;&nbsp;</a><a class=\"ProveItLink\" href=\"../__pv_it/theorems/902afb1e6249d7c2feb1149d34fff9880d2b647b0/expr.ipynb\"><img src=\"data:image/png;base64,iVBORw0KGgoAAAANSUhEUgAAALkAAAAXBAMAAACllfPxAAAAMFBMVEX///+IiIgiIiIQEBB2dnbu\n",
       "7u5ERETMzMzc3NwyMjK6urpmZmaYmJiqqqpUVFQAAAB6qHgnAAAAAXRSTlMAQObYZgAAAAlwSFlz\n",
       "AAAOxAAADsQBlSsOGwAAAs5JREFUSMetVU9IVEEY/23uvPd29+22EYiHInkdDOpgEdUhw8PeJHvY\n",
       "KQKxIjvJLghBF9PyrB4ywkNuVHgRWkiM/mCbhyAM3FOnIukSJqiFtm2m9s3Mm91xU7aeDczON/Pt\n",
       "/Ga+3+/75gG+m1XB343ttL3yjIGt/Peoz3DjvQ/waKMYQot/eF6vz8/fTiGQBZ7x+R0f6Ofk8FGh\n",
       "VzuOUyfNY0AsDwwCXTy6Nh/oL+Qw8UOO12pKgnwFwivAFEXmAsGcD/R68RvszYuRHSh5bFqy6YQq\n",
       "FzaxE/JDu1SzJ7Aqxli65IoRWaET1An6iOMc9YEekaJmor+kuJqrqg3sU4rioox5AlwWi27ZdmWw\n",
       "TdH5xYjenLkkpl2a6/qFXbPca1N4fbBEVrLjwnV1JTGe4oah/nw2pSwzOdZ0xbN35OQVrDUx7dPQ\n",
       "93UjepKTR9IYblBwFpQE2rUI1G9AP0M4ZnN7O9XeJLBbhS82VT+f+C4P09Av8U10JZP4j8YlZyOH\n",
       "pSQZ2Is6ergzDozJ+88B0zo6I9c3yWO2hM6jmSZPmN9y4JVYi9+Vu3JoyerogdBMMWUbwA7pzHBt\n",
       "9sv5UBHc5Dov0OHRWjJODwoQPBW+/j1Tn6GjxyMDaFVl8nZCiWDQ5TBKfVjOW7+orAhQfZkFTjIv\n",
       "0ptC1BGP0UmwOR09nCIZRqE0ac14GDzdLB560nsLH1z0XoIQrd4fVEkbE9cZSyy4HrX9aQ09kmhe\n",
       "xgcoTayfKv5asGTBxbv1WxtTNZZcm5/tEOQVKyxAoClJLR7pGRmHlUcvlCbhvNpRV7HgbhQtin1n\n",
       "jjXCWgY7qDETJoVXYcjo+120KGb4G/V37xzFfwrs5ZDZgDdLifGchv54BucLaSZqyB5ONHUU9xob\n",
       "vj0Rxym9wF4OlL+8Uc02dEewXVST3lilZ9so//Q93Ap9s9ZTwV9TvpD9F/RtNes/YPwG93ulpdJe\n",
       "OR0AAAAASUVORK5CYII=\n",
       "\" style=\"display:inline;vertical-align:middle;\" /></a></span></td></tr>\n",
       "<tr><td>&nbsp;</td><td colspan=4 style-\"text-align:left\"><a class=\"ProveItLink\" href=\"proofs/relax_proper_subset/thm_proof.ipynb\">proveit.logic.sets.inclusion.relax_proper_subset</a></td></tr><tr><td><a name=\"0x668411d7b7045cc1_step5\">5</a></td><td>assumption</td><td></td><td><span style=\"font-size:20px;\"><a class=\"ProveItLink\" href=\"../__pv_it/demonstrations/99a73bbf94d51cc48a696001ab61cd94dabdccab0/expr.ipynb\"><img src=\"data:image/png;base64,iVBORw0KGgoAAAANSUhEUgAAADsAAAAQBAMAAABaYBp1AAAAMFBMVEX///8QEBAiIiLu7u5ERES6\n",
       "urqYmJiIiIjMzMx2dnZUVFRmZmaqqqoyMjLc3NwAAABb1yYoAAAAAXRSTlMAQObYZgAAAAlwSFlz\n",
       "AAAOxAAADsQBlSsOGwAAAPRJREFUGNNjYACBtwx4wX0METb/X6vWekDYPP8xdTA6MDCsbwAzudc/\n",
       "wJB+X8DAEL8BzJw3H6zMSElJyR0mnQ8Uyi8AsfgK6g/ARJ9rQBnrgfgi2FBuhvMJcEONoPaIMDBY\n",
       "QZTGMPRPgEtzOECoL+VV1yAiGxjeL0C46TKYZP/HwHAQbCa79+71DgjpqWCSRYCBgfMHiGXOwMCv\n",
       "gJDeCib5geaxfYeYzcAkgJC+ACb7gQZzfQUyWIEM3g9wWR6IM+qBHugHqXwIsukfXLrJAExdBOqT\n",
       "BTJN/l9m4PH/C/UZc7QfmF7yf9WqKwdQgxkYqLp7UIUA9WQ+SWPt8M0AAAAASUVORK5CYII=\n",
       "\" style=\"display:inline;vertical-align:middle;\" /></a> <a class=\"ProveItLink\" href=\"../__pv_it/demonstrations/6a40872442e1a742e93afabc25fcd862ea4a7d350/proof.ipynb\" style=\"text-decoration: none\">&nbsp;&#x22A2;&nbsp;&nbsp;</a><a class=\"ProveItLink\" href=\"../__pv_it/demonstrations/99a73bbf94d51cc48a696001ab61cd94dabdccab0/expr.ipynb\"><img src=\"data:image/png;base64,iVBORw0KGgoAAAANSUhEUgAAADsAAAAQBAMAAABaYBp1AAAAMFBMVEX///8QEBAiIiLu7u5ERES6\n",
       "urqYmJiIiIjMzMx2dnZUVFRmZmaqqqoyMjLc3NwAAABb1yYoAAAAAXRSTlMAQObYZgAAAAlwSFlz\n",
       "AAAOxAAADsQBlSsOGwAAAPRJREFUGNNjYACBtwx4wX0METb/X6vWekDYPP8xdTA6MDCsbwAzudc/\n",
       "wJB+X8DAEL8BzJw3H6zMSElJyR0mnQ8Uyi8AsfgK6g/ARJ9rQBnrgfgi2FBuhvMJcEONoPaIMDBY\n",
       "QZTGMPRPgEtzOECoL+VV1yAiGxjeL0C46TKYZP/HwHAQbCa79+71DgjpqWCSRYCBgfMHiGXOwMCv\n",
       "gJDeCib5geaxfYeYzcAkgJC+ACb7gQZzfQUyWIEM3g9wWR6IM+qBHugHqXwIsukfXLrJAExdBOqT\n",
       "BTJN/l9m4PH/C/UZc7QfmF7yf9WqKwdQgxkYqLp7UIUA9WQ+SWPt8M0AAAAASUVORK5CYII=\n",
       "\" style=\"display:inline;vertical-align:middle;\" /></a></span></td></tr>\n",
       "</table>"
      ],
      "text/plain": [
       "\tstep type\trequirements\tstatement\n",
       "0\tinstantiation\t1, 2, 3\t{A proper_superset B, x in B} |- x in A\n",
       "\tA : B, B : A, x : x\n",
       "1\ttheorem\t\t|- forall_{A, B | A subset_eq B} [forall_{x in A} (x in B)]\n",
       "\tproveit.logic.sets.inclusion.unfold_subset_eq\n",
       "2\tinstantiation\t4, 5\t{A proper_superset B} |- B subset_eq A\n",
       "\tA : B, B : A\n",
       "3\tassumption\t\t{x in B} |- x in B\n",
       "4\tconjecture\t\t|- forall_{A, B | A proper_subset B} (A subset_eq B)\n",
       "\tproveit.logic.sets.inclusion.relax_proper_subset\n",
       "5\tassumption\t\t{A proper_superset B} |- A proper_superset B"
      ]
     },
     "metadata": {},
     "output_type": "display_data"
    }
   ],
   "source": [
    "# take a look at the proof:\n",
    "x_in_a_kt.proof()"
   ]
  },
  {
   "cell_type": "markdown",
   "metadata": {},
   "source": [
    "<font size=3>As in <a href=\"#demo01\">Demo 1</a>, we can re-express our judgment as a logical implication:</font>"
   ]
  },
  {
   "cell_type": "code",
   "execution_count": 56,
   "metadata": {},
   "outputs": [
    {
     "data": {
      "text/html": [
       "<span style=\"font-size:20px;\"><a class=\"ProveItLink\" href=\"../__pv_it/demonstrations/99a73bbf94d51cc48a696001ab61cd94dabdccab0/expr.ipynb\"><img src=\"data:image/png;base64,iVBORw0KGgoAAAANSUhEUgAAADsAAAAQBAMAAABaYBp1AAAAMFBMVEX///8QEBAiIiLu7u5ERES6\n",
       "urqYmJiIiIjMzMx2dnZUVFRmZmaqqqoyMjLc3NwAAABb1yYoAAAAAXRSTlMAQObYZgAAAAlwSFlz\n",
       "AAAOxAAADsQBlSsOGwAAAPRJREFUGNNjYACBtwx4wX0METb/X6vWekDYPP8xdTA6MDCsbwAzudc/\n",
       "wJB+X8DAEL8BzJw3H6zMSElJyR0mnQ8Uyi8AsfgK6g/ARJ9rQBnrgfgi2FBuhvMJcEONoPaIMDBY\n",
       "QZTGMPRPgEtzOECoL+VV1yAiGxjeL0C46TKYZP/HwHAQbCa79+71DgjpqWCSRYCBgfMHiGXOwMCv\n",
       "gJDeCib5geaxfYeYzcAkgJC+ACb7gQZzfQUyWIEM3g9wWR6IM+qBHugHqXwIsukfXLrJAExdBOqT\n",
       "BTJN/l9m4PH/C/UZc7QfmF7yf9WqKwdQgxkYqLp7UIUA9WQ+SWPt8M0AAAAASUVORK5CYII=\n",
       "\" style=\"display:inline;vertical-align:middle;\" /></a>, <a class=\"ProveItLink\" href=\"../__pv_it/theorems/fd887bd5ac8499adb0944f106e649fd3447c9f0d0/expr.ipynb\"><img src=\"data:image/png;base64,iVBORw0KGgoAAAANSUhEUgAAADUAAAAPBAMAAAC2KZqIAAAAMFBMVEX///9ERES6uroQEBAyMjLc\n",
       "3NyYmJgiIiJmZmaqqqp2dnbMzMxUVFSIiIju7u4AAAAd7oVFAAAAAXRSTlMAQObYZgAAAAlwSFlz\n",
       "AAAOxAAADsQBlSsOGwAAAN1JREFUGNNjYMAC2OT/nDkizYAdMAswMJzfgF0u/gIDg34DssjF8nIH\n",
       "CCsfqCf/ApKUyj048zwQOwcwMLy983rVBCCb1Q+hzJCB4U01kG7gPctRAKRZAuBS3B/v3nEDuTeA\n",
       "7R9PAkgOoY33KwPDZKAYNwMHxAGby4FAAMxkNGBg4PoN9gzEQQ8R+vgPAM37C2LpB/A9AFLsCLn9\n",
       "QPN4PgGVKxxm4AJbgvDPfaCz9gNtmr+vmUETLOIJl3NmYGAyAZr14i5n2wSwyBuhBxCpg//PnHGc\n",
       "gBqKWuKwMIMAAFZmOV1xbntqAAAAAElFTkSuQmCC\n",
       "\" style=\"display:inline;vertical-align:middle;\" /></a> <a class=\"ProveItLink\" href=\"../__pv_it/demonstrations/71ca519f3123937062eb74cc5e4cebcb042be55d0/proof.ipynb\" style=\"text-decoration: none\">&nbsp;&#x22A2;&nbsp;&nbsp;</a><a class=\"ProveItLink\" href=\"../__pv_it/theorems/bffc8f58d953dcb8331468867a32979a833e73840/expr.ipynb\"><img src=\"data:image/png;base64,iVBORw0KGgoAAAANSUhEUgAAADUAAAAQBAMAAABEqSrGAAAAMFBMVEX///9ERES6uroQEBAyMjLc\n",
       "3NyYmJgiIiJmZmaqqqp2dnbMzMxUVFSIiIju7u4AAAAd7oVFAAAAAXRSTlMAQObYZgAAAAlwSFlz\n",
       "AAAOxAAADsQBlSsOGwAAAM9JREFUGNNjYMABQhhwA3/cUpz/cctxnA9A4fOKl5fA2EvXb0CWYvJ9\n",
       "AGezXrg/AUi9vfN61QSwyx4gGckwPwFINfCe5SgA8V2RzNBk2L+AgYEtgO0fD0gNgwOSXAND/AEG\n",
       "Bm4GDoggt3l5eXkh1FUSHecFQAzmC2A+nwBC21sGBn6wPfoBfGBXFCAbycBuwMDwUOEwAxdY4C7C\n",
       "N0D7WT4wMMzf1wx0FQiwTIDJBQMx41cGhhd3OdsggnwH9SBSD//7MXDKf1mAEjALEWEGAgAYMjDu\n",
       "34hqRQAAAABJRU5ErkJggg==\n",
       "\" style=\"display:inline;vertical-align:middle;\" /></a></span>"
      ],
      "text/plain": [
       "{A proper_superset B, x in B} |- x in A"
      ]
     },
     "metadata": {},
     "output_type": "display_data"
    }
   ],
   "source": [
    "# our judgment\n",
    "x_in_a_kt"
   ]
  },
  {
   "cell_type": "code",
   "execution_count": 57,
   "metadata": {},
   "outputs": [
    {
     "data": {
      "text/html": [
       "<span style=\"font-size:20px;\"><a class=\"ProveItLink\" href=\"../__pv_it/demonstrations/99a73bbf94d51cc48a696001ab61cd94dabdccab0/expr.ipynb\"><img src=\"data:image/png;base64,iVBORw0KGgoAAAANSUhEUgAAADsAAAAQBAMAAABaYBp1AAAAMFBMVEX///8QEBAiIiLu7u5ERES6\n",
       "urqYmJiIiIjMzMx2dnZUVFRmZmaqqqoyMjLc3NwAAABb1yYoAAAAAXRSTlMAQObYZgAAAAlwSFlz\n",
       "AAAOxAAADsQBlSsOGwAAAPRJREFUGNNjYACBtwx4wX0METb/X6vWekDYPP8xdTA6MDCsbwAzudc/\n",
       "wJB+X8DAEL8BzJw3H6zMSElJyR0mnQ8Uyi8AsfgK6g/ARJ9rQBnrgfgi2FBuhvMJcEONoPaIMDBY\n",
       "QZTGMPRPgEtzOECoL+VV1yAiGxjeL0C46TKYZP/HwHAQbCa79+71DgjpqWCSRYCBgfMHiGXOwMCv\n",
       "gJDeCib5geaxfYeYzcAkgJC+ACb7gQZzfQUyWIEM3g9wWR6IM+qBHugHqXwIsukfXLrJAExdBOqT\n",
       "BTJN/l9m4PH/C/UZc7QfmF7yf9WqKwdQgxkYqLp7UIUA9WQ+SWPt8M0AAAAASUVORK5CYII=\n",
       "\" style=\"display:inline;vertical-align:middle;\" /></a> <a class=\"ProveItLink\" href=\"../__pv_it/demonstrations/bfedce44fcae4bc6157ca24620c52a69d260d68e0/proof.ipynb\" style=\"text-decoration: none\">&nbsp;&#x22A2;&nbsp;&nbsp;</a><a class=\"ProveItLink\" href=\"../__pv_it/demonstrations/f654b6b1f6e1830f63d8d1768aa24abba0cf9cb50/expr.ipynb\"><img src=\"data:image/png;base64,iVBORw0KGgoAAAANSUhEUgAAAKgAAAAVBAMAAAAgMbgsAAAAMFBMVEX///8AAAAAAAAAAAAAAAAA\n",
       "AAAAAAAAAAAAAAAAAAAAAAAAAAAAAAAAAAAAAAAAAAAv3aB7AAAAD3RSTlMAInZUiRDNmWbv3US7\n",
       "qzJazP2FAAAACXBIWXMAAA7EAAAOxAGVKw4bAAACT0lEQVQ4y42VTWgTQRTH/9l089E0dU+FgtAl\n",
       "p15CeyhKvTSiR8VQ0F6itFUhBcEgUj9OFcGT0CDowXoIFHpoiwjiwVOjIIKFthQqCg3JoV5EiBHU\n",
       "g7bxzdvt7k4ym3VgZ4b3f7/N+9iZADDgP0JqcyCiDXfwSJgqqz/SZyMjSjW2uV/5uAEMqsQR3yCu\n",
       "gxF9Ui3Hy0C1hki2XfJDgHCTJkKic2p9gLJYKyBWaJf8EFKqVG1C4nK1PiwvWbv5Gj304seu+O4w\n",
       "CR8EOHmOKEKOSX2ZdrKt0jNDv5t31W/26ocgZA6JFuZxk+bx9KXT3NA+1+EZcPE5rWc9zctYq0D0\n",
       "1M7eqRYEUYzNMSIiKWjb0ZKwTjl6799UmoN8wN7LPH5bWp75tHlXRoCXqGcYWaQIjNjPJBffbavW\n",
       "AEaFbdTb3Mu8EIJ7mM9+khEKDgNbjCxQVIhaUu9TCmeVtz1FoOuANnVvAS8siFlMNcy2ItDe36qW\n",
       "GWG3uHVw9LKDH6GfjP2gzWvvCbxiHL4UeNSKYJywEiMiF6wZOte75DjUKfXkH9qc8NR0yXDSR6KB\n",
       "8zJC2aO7yMhbIPfiM7rYnHIchoivi6I89Hw9dlSE6OvJIjIykqA4It8ZoU9m7MsdapwYEeemmCGn\n",
       "J1n7+3FvCx6EhA8miolhGekXrWgw8hWYSIVvW5K++8py2G1WKtfYtuK+dMNeCdFvmMfvy0iueRXh\n",
       "zV8ZgXTXpPNxxj1zVm9K7bdoMKK6MQIuj/9A3nT0OKoyBiO5jh5KPhgJmR0cNOW/URDyDxaml6vw\n",
       "a+IlAAAAAElFTkSuQmCC\n",
       "\" style=\"display:inline;vertical-align:middle;\" /></a></span>"
      ],
      "text/plain": [
       "{A proper_superset B} |- (x in B) => (x in A)"
      ]
     },
     "metadata": {},
     "output_type": "display_data"
    }
   ],
   "source": [
    "# one option for the implication\n",
    "x_in_a_kt.as_implication(hypothesis=x_in_b)"
   ]
  },
  {
   "cell_type": "code",
   "execution_count": 58,
   "metadata": {},
   "outputs": [
    {
     "data": {
      "text/html": [
       "<span style=\"font-size:20px;\"><a class=\"ProveItLink\" href=\"../__pv_it/theorems/fd887bd5ac8499adb0944f106e649fd3447c9f0d0/expr.ipynb\"><img src=\"data:image/png;base64,iVBORw0KGgoAAAANSUhEUgAAADUAAAAPBAMAAAC2KZqIAAAAMFBMVEX///9ERES6uroQEBAyMjLc\n",
       "3NyYmJgiIiJmZmaqqqp2dnbMzMxUVFSIiIju7u4AAAAd7oVFAAAAAXRSTlMAQObYZgAAAAlwSFlz\n",
       "AAAOxAAADsQBlSsOGwAAAN1JREFUGNNjYMAC2OT/nDkizYAdMAswMJzfgF0u/gIDg34DssjF8nIH\n",
       "CCsfqCf/ApKUyj048zwQOwcwMLy983rVBCCb1Q+hzJCB4U01kG7gPctRAKRZAuBS3B/v3nEDuTeA\n",
       "7R9PAkgOoY33KwPDZKAYNwMHxAGby4FAAMxkNGBg4PoN9gzEQQ8R+vgPAM37C2LpB/A9AFLsCLn9\n",
       "QPN4PgGVKxxm4AJbgvDPfaCz9gNtmr+vmUETLOIJl3NmYGAyAZr14i5n2wSwyBuhBxCpg//PnHGc\n",
       "gBqKWuKwMIMAAFZmOV1xbntqAAAAAElFTkSuQmCC\n",
       "\" style=\"display:inline;vertical-align:middle;\" /></a> <a class=\"ProveItLink\" href=\"../__pv_it/demonstrations/b01f6054acb6c2c80692c41b0b89c0a052b00ef10/proof.ipynb\" style=\"text-decoration: none\">&nbsp;&#x22A2;&nbsp;&nbsp;</a><a class=\"ProveItLink\" href=\"../__pv_it/demonstrations/c9a9c26a2816d0504c242e6e1ad73609bff5b3710/expr.ipynb\"><img src=\"data:image/png;base64,iVBORw0KGgoAAAANSUhEUgAAAK4AAAAVBAMAAAAtL8hrAAAAMFBMVEX///8AAAAAAAAAAAAAAAAA\n",
       "AAAAAAAAAAAAAAAAAAAAAAAAAAAAAAAAAAAAAAAAAAAv3aB7AAAAD3RSTlMAInZUiRDNmWbv3US7\n",
       "qzJazP2FAAAACXBIWXMAAA7EAAAOxAGVKw4bAAACcUlEQVQ4y4VVTWgTQRT+2pg0bawNHgqC0CUn\n",
       "L6UeSiW9tOJRi0FQoUTwr5CCYNCioBeL0FMhQagH9RAQctiKFxHpyUQQQaH1onhoSA6eirDGgx7U\n",
       "xjdvZncm7jQ7kH3z5s33zcz33kwApNGz9dmH01GQ/qPcH91rUsqxjSqUpY0qyKR0r4cmJLf+Nj5v\n",
       "Akds6Mk9NyuICBK/yF6sE54xWAOaLSRy4ZBCWRoTEWTgHrsDzbBgY3Sc10Uki2G0QlkaExFkULrH\n",
       "T7eEmXdd940/pURDJeJe06i3/lG6xX7vVv2+JFrDlMygMxEk4uBz1WnSb5FWL2iGb8pOdWX2slZK\n",
       "ERWwJHePGX2yeSXJE+CCWGPOyOWstAIVz3z6eoIrwEiAIppTm3kBbzaIHahJ8yczztEVBrjcfskp\n",
       "BaYYd+4I55Kxd0W0gqfsFjH2UQcXpGptICsWz5rpvsJGoJZRyn0RjlkbiiiLx0zx7nazpoMn+bu/\n",
       "DOzbpY5ninmOAeLTwi15rkd0jmcqg4rIk7xngJGKxt7l7wgtnPxBnQ3zil5N+7zAA1nLxo58og2p\n",
       "A1XoUFlH5cE80mD4N3WmDX2r6UAHpNo4K2zFlEESTUNUa4oYEt+1hlLqCaLwxBKrRkmpvREq/mG4\n",
       "DE52Rod9olUuokNCzXYQ3ZF1s0jzHuZUUelHhRuhYrvnyyku+kRQ+gHREnaAfGcBsa2fqtDir+ps\n",
       "tzuNxjVGrGveTX9pmnfDOXZfIrZfylFNtI6hlpltusfVm/+/ppXwq9uNSp3S99iH2F6V6DcmAiUg\n",
       "9Sjew7bBeiQkH8VrpchHQvqc3rT91n+yniiC/APFaKANmbXKTwAAAABJRU5ErkJggg==\n",
       "\" style=\"display:inline;vertical-align:middle;\" /></a></span>"
      ],
      "text/plain": [
       "{x in B} |- (A proper_superset B) => (x in A)"
      ]
     },
     "metadata": {},
     "output_type": "display_data"
    }
   ],
   "source": [
    "# another option for the implication\n",
    "x_in_a_kt.as_implication(hypothesis=ASupersetOfB)"
   ]
  },
  {
   "cell_type": "markdown",
   "metadata": {},
   "source": [
    "<div style=\"width: 90%; border: 5px solid green; padding: 10px; margin: 0px;\"><a id='demo04'></a><font size=4><b>4.</b> $\\forall_{x\\in Y}(x\\in X) \\Rightarrow (X \\supseteq Y)$</font>.</div><br>\n",
    "<font size=3>When we know that $x$ is in $X$ whenever $x$ is in $Y$, we have $Y \\subseteq X$ (<i>i.e.</i>, $X$ contains $Y$ or $Y$ is a subset of $X$). That is a theorem in Prove-It that can be instantiated to prove a containment or superset relationship for two arbitrary sets given the right conditions:</font>"
   ]
  },
  {
   "cell_type": "code",
   "execution_count": 59,
   "metadata": {},
   "outputs": [
    {
     "data": {
      "text/html": [
       "<span style=\"font-size:20px;\"> <a class=\"ProveItLink\" href=\"proofs/fold_subset_eq/thm_proof.ipynb\" style=\"text-decoration: none\">&nbsp;&#x22A2;&nbsp;&nbsp;</a><a class=\"ProveItLink\" href=\"../__pv_it/theorems/104bbd8a360019a8dc7f0e04015813f9e7ec5e9f0/expr.ipynb\"><img src=\"data:image/png;base64,iVBORw0KGgoAAAANSUhEUgAAAO8AAAAXBAMAAAARnwX+AAAAMFBMVEX///+IiIgiIiIQEBB2dnbu\n",
       "7u5ERETMzMzc3NwyMjK6urpmZmaYmJiqqqpUVFQAAAB6qHgnAAAAAXRSTlMAQObYZgAAAAlwSFlz\n",
       "AAAOxAAADsQBlSsOGwAAA3lJREFUSMe1Vl1IFFEUPuPO7Mz+ukskVmayPRjVg0UUBcYGCxEmDBJB\n",
       "D20WuAYROw8h9JCuGUEvKlgREmlQ+RK4D2LWho3Sixk0EfRSlE/2I7gapvannXvv/Lmurg/rwJ17\n",
       "z/377v3Od84MwHo8Uo7xBKzTs5XBt680fh/LGGl8zC+uL0wr19SyEW98YfJbPXAqwDNi38kv8ClW\n",
       "fTaAi0KhUDlrOmoB0grcAmgknNTmF/g5qwbnWX252BpqCwD0JmEU+ZABeC2/wBX0zV+bo7Wwwzb0\n",
       "RsESAIcMXqTblWcXM1E1c/9o7e+2jaWxdCTAhah7Q6F9+QX2MG0lfX+Zxuxj+wGi6G4eNf0EoI72\n",
       "yRnLV7/V8lAMGA1yHQC3Js5Qs9E2R5wNlt4l6kZSWkGiISUcoEMNfyL9Cmk4qZ/kFU7wym6I8b6q\n",
       "emtegcYOLi1Qs9U2k0O9vcNz+VAGTpmnTuCZR7xlwFWYwG68RjQLrjBmYJbGcPUwwAZwh/U+B92v\n",
       "KDU4y85hW+fErXnUnIiR5gswJ/TsYVJIgnfKBAak5Gg2NxqCSVF2JlCqQILTAhbwyD/YXNVaV4gH\n",
       "9k7jhcjd2oeYi+6xVRrUqBbwSCyWLcjJLYIDWxIc27QShN0A1XaqCfHbmd1prWvC+f7feNsyNKrp\n",
       "STl4yiK8ZPQLWMBO4LIF+Q1ckBh3aSdZUp5+PYg3/2DwSWT2GEsXs6PfTd1uQ002IYtecpsW6q8e\n",
       "9BJ5hkGYsAHzytIgr2LVI1wLZ0W6PdVFNEk72RrcUCJcxnXpPzhnpMwOZPmgrEecn7qpL5KWdXe1\n",
       "dVvAwthbPb2nUkRsx5j1ibzmqSdiGtGFhPw1GIIrAyH+S4b3izcziBpfnJy8TRgsMJMKh3gKcxf0\n",
       "WuEE8LUOxJclSV1ip8+wXoIhVkhwydCFe86iGspz5pirZgs5K9SEMEg/QdhloxoaUOVibVhiKlId\n",
       "iiGuFr7dg7FIdSFDDVIdNDYbXetnBDk/DMKLTrESRmYi/Zod2Il+4gLgvkCo9gU3qUavZ/ORjSDV\n",
       "Ey90RaouYn3ejNYlac0TClmfRf0PJTNSfPZYt9KNU1EFmh2uAJ+kXWayOBGLGe4SzN2EXJ9ZZ2bC\n",
       "fZgV2D90XKF/M9whuL6T9Q1kSSrWbs05gIszO9SswIyMVJ/d5OXV0/f6/SnKa+hZ7fkPsDXLAsFW\n",
       "EgsAAAAASUVORK5CYII=\n",
       "\" style=\"display:inline;vertical-align:middle;\" /></a></span>"
      ],
      "text/plain": [
       "|- forall_{A, B | forall_{x in A} (x in B)} (A subset_eq B)"
      ]
     },
     "metadata": {},
     "output_type": "display_data"
    }
   ],
   "source": [
    "# our fold_supset_eq theorem\n",
    "fold_subset_eq"
   ]
  },
  {
   "cell_type": "code",
   "execution_count": 60,
   "metadata": {},
   "outputs": [
    {
     "data": {
      "text/html": [
       "<a class=\"ProveItLink\" href=\"../__pv_it/demonstrations/ac1b34064545d026e8debfe9a455e76c4a888f500/expr.ipynb\"><img src=\"data:image/png;base64,iVBORw0KGgoAAAANSUhEUgAAAHwAAAAVBAMAAAB2y5cfAAAAMFBMVEX///8AAAAAAAAAAAAAAAAA\n",
       "AAAAAAAAAAAAAAAAAAAAAAAAAAAAAAAAAAAAAAAAAAAv3aB7AAAAD3RSTlMAq1RmmUTNIjK7EInv\n",
       "3XZ/CtNrAAAACXBIWXMAAA7EAAAOxAGVKw4bAAAB/UlEQVQ4y4VUXSglURz/uTPuXHeY9Sblq5QX\n",
       "xJPaF6llKVtulNSKi6Q8jUel9nr1kX0Ro5arPNCWr1clHmwbLVIeJyM8kHyV3cLD/s/MOddc3Rmn\n",
       "zpzf+Z3/9/+cAfyH7nOm4L2hFfkcpltANgPFXhKlKbhw/ksOUPZi4QyoY0yfh3Y4mtLrX/pkVALB\n",
       "OIZZEt891OXKlPQJVeSCVqmGWYDqlWFm0u7SNJ1oblcRsFV2IbEgvFIvcW9arwRa2UKHDXqAP6a5\n",
       "56XeSHP5dHGDuVL6E3TGo7JqgzWgAZh5oxUXgKyjRiuQD2kNvl6BwP2CA6qAASjZb+r9W6AjKo8u\n",
       "PaWxCrozPOAaZRRJXI1wNnRqMKg+CLEd4iA79RozafAWzfH4JigSK2G3NmYvbfsudSq/ZeMll/df\n",
       "fG2nGa2mz039ua7xLltdruCBTj3MnGW5LvszB+U016mkmp4bLOL2NXwWcrPkNJIH1aathLr0yMFH\n",
       "mkNUBwmzIbQ4XBuuhRw1pmLkC5rtTfdr4+5cjU2zM/5HbTAMgzrcuFEoOjcOLNwEPjmXcn6S0/Lc\n",
       "PY/kWBgMbSkY5bHjW4yzWTF3Q7/+MJOfkHLIwZAalamFDFIKH8QboDfhNxIvSr7YvIIyzdA2wk29\n",
       "QmDKV30wefvTMCLJzJKv+tR7PyvF8vuT6fgP0a1x9L73CZAAAAAASUVORK5CYII=\n",
       "\" style=\"display:inline;vertical-align:middle;\" /></a>"
      ],
      "text/plain": [
       "forall_{x in A} (x in Y)"
      ]
     },
     "metadata": {},
     "output_type": "display_data"
    }
   ],
   "source": [
    "Forall(x, InSet(x, Y), domain=A)"
   ]
  },
  {
   "cell_type": "code",
   "execution_count": 61,
   "metadata": {},
   "outputs": [
    {
     "data": {
      "text/html": [
       "<strong id=\"fold_subset_eq_inst\">fold_subset_eq_inst:</strong> <span style=\"font-size:20px;\"><a class=\"ProveItLink\" href=\"../__pv_it/demonstrations/d1dd239b56b9f372f6db0a857e00ddc47ae9f91e0/expr.ipynb\"><img src=\"data:image/png;base64,iVBORw0KGgoAAAANSUhEUgAAAH8AAAAVBAMAAACd/CwcAAAAMFBMVEX///8AAAAAAAAAAAAAAAAA\n",
       "AAAAAAAAAAAAAAAAAAAAAAAAAAAAAAAAAAAAAAAAAAAv3aB7AAAAD3RSTlMAq1RmmUTNIjK7EInv\n",
       "3XZ/CtNrAAAACXBIWXMAAA7EAAAOxAGVKw4bAAACDklEQVQ4y4VUz0sUURz/uDO7Mzuj04KnvLRQ\n",
       "f4CEGV0yMM0OxYLQJYjBi+ClFTqabMdQaC9SIxojSGAiiX9A7qFD4M9jl6lRlMiDeFDWyl/f997u\n",
       "+CZ6sw9m3vfX+3x/vgckLyNRW0TDtZ2ofUZfjhHXVRapxf+K75yvY+FkAE470MMEgyqADwr5tTxS\n",
       "b2kfAl6xRMsqgG6F/E0ZL9jeAWR8wM6rACox7lcQuILKVC2ee7MPjdLIKEvgytyTvYjUDmcEEJ1e\n",
       "C4IVFYBONbT228aWeEeHJM1GG99siqMPmFQBMAc6tsJHnJG7vhyKSCjEYRg5SWOvhnC+1GxbqDi3\n",
       "0eW3coBYGzZFjlSkrG8XalJzyytg2YdTqgmaSVNCr2DGA1q1funDR+LEAYGEEfR9dvDTIjmVAIB1\n",
       "wcxJAfSZv/meZm1y79Jv/8FOkc0VgR9o9QB4CkhX8ZEzUp4l/OBZplgmS1Rdp3g1kxcujLNbkWE2\n",
       "hDXRVAEfaCeM5LtAF5dpLKURqqGG9yb6hXaqcOkph9TxbCUtBm2gLp6jw1f+1PuMJh5xFej0PI9M\n",
       "H16Gam7CehzeuCm4mQmf7683vsJ8fnqPpRU5MysGxgT5XSrWt9hYPJ0O3PigvKwTI7arU0MZaR1L\n",
       "Bh0Nnovosum7n/dgvON3/a80cdnkN+ffazzveYW4xConAmQbv2mjidqfwAWRAno5FnbEWgAAAABJ\n",
       "RU5ErkJggg==\n",
       "\" style=\"display:inline;vertical-align:middle;\" /></a> <a class=\"ProveItLink\" href=\"../__pv_it/demonstrations/48870e67c4eb5273a86676cc9f2afb80981ae0d00/proof.ipynb\" style=\"text-decoration: none\">&nbsp;&#x22A2;&nbsp;&nbsp;</a><a class=\"ProveItLink\" href=\"../__pv_it/demonstrations/747b0e3646756e91d4923ab4f5f41bd5f6b0df290/expr.ipynb\"><img src=\"data:image/png;base64,iVBORw0KGgoAAAANSUhEUgAAAD4AAAARBAMAAAB3FQKUAAAAMFBMVEX///8AAAAAAAAAAAAAAAAA\n",
       "AAAAAAAAAAAAAAAAAAAAAAAAAAAAAAAAAAAAAAAAAAAv3aB7AAAAD3RSTlMAEKvd7yJUdkTNu2aJ\n",
       "mTIv55t8AAAACXBIWXMAAA7EAAAOxAGVKw4bAAAA3UlEQVQoz2MQsncKYGDzd2dAA7v+uzMIf5nG\n",
       "wNA/AchbDRWtMjY2toMw9RMY2JYCaeavDAzsDRCxl6UIA94vYIgF0ex/GBjSIEKMpkgWcH5lVAAL\n",
       "fmHgKIAIMTUgyXP/FYIw1jfEwLSguNBfEULnK16AijxCkT8PNZXlE0wkCEVe3wBCc32EiTAjS/MG\n",
       "/YDqnwAX2oAkf4/vF4QRfwAuNgMhzfOAwT4AzNqP8JWQhgCMWQGUgGhcj2Roz2Jo+EoB5fjBDrv1\n",
       "X50BA7zy92Pgm//5AgNVAa+xMSJ+IQAA8TwzCf6SJYIAAAAASUVORK5CYII=\n",
       "\" style=\"display:inline;vertical-align:middle;\" /></a></span><br>"
      ],
      "text/plain": [
       "<IPython.core.display.HTML object>"
      ]
     },
     "metadata": {},
     "output_type": "display_data"
    }
   ],
   "source": [
    "# instantiate the fold_supset_eq theorem\n",
    "fold_subset_eq_inst = fold_subset_eq.instantiate({A:Y, B:X}, assumptions=[Forall(x, InSet(x, X), domain=Y)])"
   ]
  },
  {
   "cell_type": "code",
   "execution_count": 62,
   "metadata": {},
   "outputs": [
    {
     "data": {
      "text/html": [
       "<strong id=\"fold_subset_eq_inst_rev\">fold_subset_eq_inst_rev:</strong> <span style=\"font-size:20px;\"><a class=\"ProveItLink\" href=\"../__pv_it/demonstrations/d1dd239b56b9f372f6db0a857e00ddc47ae9f91e0/expr.ipynb\"><img src=\"data:image/png;base64,iVBORw0KGgoAAAANSUhEUgAAAH8AAAAVBAMAAACd/CwcAAAAMFBMVEX///8AAAAAAAAAAAAAAAAA\n",
       "AAAAAAAAAAAAAAAAAAAAAAAAAAAAAAAAAAAAAAAAAAAv3aB7AAAAD3RSTlMAq1RmmUTNIjK7EInv\n",
       "3XZ/CtNrAAAACXBIWXMAAA7EAAAOxAGVKw4bAAACDklEQVQ4y4VUz0sUURz/uDO7Mzuj04KnvLRQ\n",
       "f4CEGV0yMM0OxYLQJYjBi+ClFTqabMdQaC9SIxojSGAiiX9A7qFD4M9jl6lRlMiDeFDWyl/f997u\n",
       "+CZ6sw9m3vfX+3x/vgckLyNRW0TDtZ2ofUZfjhHXVRapxf+K75yvY+FkAE470MMEgyqADwr5tTxS\n",
       "b2kfAl6xRMsqgG6F/E0ZL9jeAWR8wM6rACox7lcQuILKVC2ee7MPjdLIKEvgytyTvYjUDmcEEJ1e\n",
       "C4IVFYBONbT228aWeEeHJM1GG99siqMPmFQBMAc6tsJHnJG7vhyKSCjEYRg5SWOvhnC+1GxbqDi3\n",
       "0eW3coBYGzZFjlSkrG8XalJzyytg2YdTqgmaSVNCr2DGA1q1funDR+LEAYGEEfR9dvDTIjmVAIB1\n",
       "wcxJAfSZv/meZm1y79Jv/8FOkc0VgR9o9QB4CkhX8ZEzUp4l/OBZplgmS1Rdp3g1kxcujLNbkWE2\n",
       "hDXRVAEfaCeM5LtAF5dpLKURqqGG9yb6hXaqcOkph9TxbCUtBm2gLp6jw1f+1PuMJh5xFej0PI9M\n",
       "H16Gam7CehzeuCm4mQmf7683vsJ8fnqPpRU5MysGxgT5XSrWt9hYPJ0O3PigvKwTI7arU0MZaR1L\n",
       "Bh0Nnovosum7n/dgvON3/a80cdnkN+ffazzveYW4xConAmQbv2mjidqfwAWRAno5FnbEWgAAAABJ\n",
       "RU5ErkJggg==\n",
       "\" style=\"display:inline;vertical-align:middle;\" /></a> <a class=\"ProveItLink\" href=\"../__pv_it/demonstrations/48870e67c4eb5273a86676cc9f2afb80981ae0d00/proof.ipynb\" style=\"text-decoration: none\">&nbsp;&#x22A2;&nbsp;&nbsp;</a><a class=\"ProveItLink\" href=\"../__pv_it/demonstrations/bc2d267e41b28001a046a41e29d1662db0f662110/expr.ipynb\"><img src=\"data:image/png;base64,iVBORw0KGgoAAAANSUhEUgAAAD8AAAARBAMAAACY12mqAAAAMFBMVEX///8AAAAAAAAAAAAAAAAA\n",
       "AAAAAAAAAAAAAAAAAAAAAAAAAAAAAAAAAAAAAAAAAAAv3aB7AAAAD3RSTlMAZrvvdhDdzVSrIjKZ\n",
       "iUQw4UTKAAAACXBIWXMAAA7EAAAOxAGVKw4bAAAA5klEQVQoz2NgYBD6b8IQ9rmCAQWwTvs8i4Gh\n",
       "+bMDiDO/gYFDCywclpaWpgJRwfcdSDAJgNn7FRjWIPQuqYbQ+QsYGPwgTPZfrBOQTA9fAKb8LzBw\n",
       "NEBEGP9EIlvPXQCm4g0YnsCE7KeiOLAKTDL947oAE7nvgKLgBpjk+BkDF5mfgKLgHNRcuMN4Vv5D\n",
       "UQBxA4N+AEzgNPcnZHkOqE5zmADvBrCf4WAbRCfXX5gAMDTkLyDC+I0W1PMwe4OAkvxfGWBBnX4C\n",
       "Ks70AUJvsrdm4K7/doABDfDo/3RgoAEARXdaGnLMMQAA9Mo5Jqao4VsAAAAASUVORK5CYII=\n",
       "\" style=\"display:inline;vertical-align:middle;\" /></a></span><br>"
      ],
      "text/plain": [
       "<IPython.core.display.HTML object>"
      ]
     },
     "metadata": {},
     "output_type": "display_data"
    }
   ],
   "source": [
    "fold_subset_eq_inst_rev = fold_subset_eq_inst.with_styles(direction='reversed')"
   ]
  },
  {
   "cell_type": "code",
   "execution_count": 63,
   "metadata": {},
   "outputs": [
    {
     "data": {
      "text/html": [
       "<span style=\"font-size:20px;\"> <a class=\"ProveItLink\" href=\"../__pv_it/demonstrations/0eaa8b4fcd1490bbf40d56164b470fb4f072758d0/proof.ipynb\" style=\"text-decoration: none\">&nbsp;&#x22A2;&nbsp;&nbsp;</a><a class=\"ProveItLink\" href=\"../__pv_it/demonstrations/b0b0e8f2a1ba653d3fd319c81a92b7e8bae10dae0/expr.ipynb\"><img src=\"data:image/png;base64,iVBORw0KGgoAAAANSUhEUgAAAPgAAAAVBAMAAACZJT5kAAAAMFBMVEX///8AAAAAAAAAAAAAAAAA\n",
       "AAAAAAAAAAAAAAAAAAAAAAAAAAAAAAAAAAAAAAAAAAAv3aB7AAAAD3RSTlMAdt0yiUSrVGaZzSK7\n",
       "EO91eSXLAAAACXBIWXMAAA7EAAAOxAGVKw4bAAADa0lEQVRIx5WWX0hTURzHf7q53evdzWkURlBj\n",
       "EZFELh+jclS3oKQWBNFDtuoxS5OeJEzoJUJwYVEg/aPAoMLri5AIrT/SwzSXQaAM1GI9CGGJGmbO\n",
       "fufP/XPW7kYHdu8595zP73t+v3PO7wwqNkH+oufrVPCX24JewCxFtQJjipry9Zb4HUzkxwxU85Ca\n",
       "t81pzOXcn9tXpmA00w2VDuIEk0YyfrV6WpyGejZzHqA14yeoJkfwU6lTlNSHDh2NTeBNIJjMKc4w\n",
       "zy+AK9TyaDAYfM09/o0PXxtFNVcUGwNOjstOIamNw0viXSynOMNcf0CJmd96H7N3NU5nDUM1eIGV\n",
       "g07iq8SVfBOs4tXSJZXMGr4L4sMi1qN/ttHjLLwbw+BtYqgG1/HtFFxoEfbIo6RZlxaZ3aeC+C4R\n",
       "67gXteEupjIxCcc4qsGqYHB72En8Fv4+rv20n061P2nrmblAXwcEcSlsYSQAC3YCntGnb14Jc1QD\n",
       "OQS+pJM4OgaxojNywIJ5OeqnrxtcXA7SsmhhWNw/BWNscb0LY8BRDZQo9NmHHJkC2NDFG1vQG11a\n",
       "9tANJCxOI50PtIobztttYHS7zwrit3nM+Fq0EnLYwnc0DIJ7GWC18SGNSwUyU3V9Qde2Gfu5b57t\n",
       "+qzdPp7mGCldjRF7H5/8CI9zLSEvmS7JneSMzqGzNnFcOhZhNW4z1InniJR6UVx5olvicqjWjni5\n",
       "x9O8XU/IUgmNF63r7aL5CuABXDMBGr/TukonG7AMuUP0vAI0i2tepdvCvg+Kl2ziNcxjZY63mwnp\n",
       "bsGv6z3xbu7aq0orWJiWUpGL4KaNcssQZokOumfbBc9L4iaG/kRAmrOS3skEPxHzRoompPINa20+\n",
       "f6iEpTNf2rKGJ+nq7vtwgiUWM02nULhsmR8qm3i/hYH6Dh8rzFtMr1V3eJ/vh3mMCXmOVMt0kJ4P\n",
       "Db3HCNoWqgZgrNx7l6mqDad4Lpn5Cq6eWZI6Nwviby3M9SETgp0rW//JvCMLbAshapJ7QHexw1/s\n",
       "t4YWh4QUV2emV2ODBQRxPSfmcKEHDFKZPAQxnponbKQUy2+B3CA5LpZCGEcN8ubx8iQMhOg1fNg2\n",
       "JJHfwoDDfZ6FjdKjEM1GBVKtGxrMspLKL55wEE8V9hzRvQX+wyn+vH+ycJEr0v+NcfQvgrbYfJf4\n",
       "/msAAAAASUVORK5CYII=\n",
       "\" style=\"display:inline;vertical-align:middle;\" /></a></span>"
      ],
      "text/plain": [
       "|- [forall_{x in Y} (x in X)] => (X superset_eq Y)"
      ]
     },
     "metadata": {},
     "output_type": "display_data"
    }
   ],
   "source": [
    "fold_subset_eq_inst_rev.as_implication(hypothesis=Forall(x, InSet(x, X), domain=Y))"
   ]
  },
  {
   "cell_type": "markdown",
   "metadata": {},
   "source": [
    "Alternatively we can prove the rhs of the implication given the antecedent as an assumption."
   ]
  },
  {
   "cell_type": "code",
   "execution_count": 64,
   "metadata": {},
   "outputs": [
    {
     "data": {
      "text/html": [
       "<strong id=\"XSupersetOfY\">XSupersetOfY:</strong> <a class=\"ProveItLink\" href=\"../__pv_it/demonstrations/bc2d267e41b28001a046a41e29d1662db0f662110/expr.ipynb\"><img src=\"data:image/png;base64,iVBORw0KGgoAAAANSUhEUgAAAD8AAAARBAMAAACY12mqAAAAMFBMVEX///8AAAAAAAAAAAAAAAAA\n",
       "AAAAAAAAAAAAAAAAAAAAAAAAAAAAAAAAAAAAAAAAAAAv3aB7AAAAD3RSTlMAZrvvdhDdzVSrIjKZ\n",
       "iUQw4UTKAAAACXBIWXMAAA7EAAAOxAGVKw4bAAAA5klEQVQoz2NgYBD6b8IQ9rmCAQWwTvs8i4Gh\n",
       "+bMDiDO/gYFDCywclpaWpgJRwfcdSDAJgNn7FRjWIPQuqYbQ+QsYGPwgTPZfrBOQTA9fAKb8LzBw\n",
       "NEBEGP9EIlvPXQCm4g0YnsCE7KeiOLAKTDL947oAE7nvgKLgBpjk+BkDF5mfgKLgHNRcuMN4Vv5D\n",
       "UQBxA4N+AEzgNPcnZHkOqE5zmADvBrCf4WAbRCfXX5gAMDTkLyDC+I0W1PMwe4OAkvxfGWBBnX4C\n",
       "Ks70AUJvsrdm4K7/doABDfDo/3RgoAEARXdaGnLMMQAA9Mo5Jqao4VsAAAAASUVORK5CYII=\n",
       "\" style=\"display:inline;vertical-align:middle;\" /></a><br>"
      ],
      "text/plain": [
       "<IPython.core.display.HTML object>"
      ]
     },
     "metadata": {},
     "output_type": "display_data"
    }
   ],
   "source": [
    "# peel off our desired conclusion:\n",
    "XSupersetOfY = fold_subset_eq_inst.expr.with_styles(direction='reversed')"
   ]
  },
  {
   "cell_type": "code",
   "execution_count": 65,
   "metadata": {},
   "outputs": [
    {
     "data": {
      "text/html": [
       "<strong id=\"XSupersetOfY_jdgmt\">XSupersetOfY_jdgmt:</strong> <span style=\"font-size:20px;\"> <a class=\"ProveItLink\" href=\"../__pv_it/demonstrations/0eaa8b4fcd1490bbf40d56164b470fb4f072758d0/proof.ipynb\" style=\"text-decoration: none\">&nbsp;&#x22A2;&nbsp;&nbsp;</a><a class=\"ProveItLink\" href=\"../__pv_it/demonstrations/b0b0e8f2a1ba653d3fd319c81a92b7e8bae10dae0/expr.ipynb\"><img src=\"data:image/png;base64,iVBORw0KGgoAAAANSUhEUgAAAPgAAAAVBAMAAACZJT5kAAAAMFBMVEX///8AAAAAAAAAAAAAAAAA\n",
       "AAAAAAAAAAAAAAAAAAAAAAAAAAAAAAAAAAAAAAAAAAAv3aB7AAAAD3RSTlMAdt0yiUSrVGaZzSK7\n",
       "EO91eSXLAAAACXBIWXMAAA7EAAAOxAGVKw4bAAADa0lEQVRIx5WWX0hTURzHf7q53evdzWkURlBj\n",
       "EZFELh+jclS3oKQWBNFDtuoxS5OeJEzoJUJwYVEg/aPAoMLri5AIrT/SwzSXQaAM1GI9CGGJGmbO\n",
       "fufP/XPW7kYHdu8595zP73t+v3PO7wwqNkH+oufrVPCX24JewCxFtQJjipry9Zb4HUzkxwxU85Ca\n",
       "t81pzOXcn9tXpmA00w2VDuIEk0YyfrV6WpyGejZzHqA14yeoJkfwU6lTlNSHDh2NTeBNIJjMKc4w\n",
       "zy+AK9TyaDAYfM09/o0PXxtFNVcUGwNOjstOIamNw0viXSynOMNcf0CJmd96H7N3NU5nDUM1eIGV\n",
       "g07iq8SVfBOs4tXSJZXMGr4L4sMi1qN/ttHjLLwbw+BtYqgG1/HtFFxoEfbIo6RZlxaZ3aeC+C4R\n",
       "67gXteEupjIxCcc4qsGqYHB72En8Fv4+rv20n061P2nrmblAXwcEcSlsYSQAC3YCntGnb14Jc1QD\n",
       "OQS+pJM4OgaxojNywIJ5OeqnrxtcXA7SsmhhWNw/BWNscb0LY8BRDZQo9NmHHJkC2NDFG1vQG11a\n",
       "9tANJCxOI50PtIobztttYHS7zwrit3nM+Fq0EnLYwnc0DIJ7GWC18SGNSwUyU3V9Qde2Gfu5b57t\n",
       "+qzdPp7mGCldjRF7H5/8CI9zLSEvmS7JneSMzqGzNnFcOhZhNW4z1InniJR6UVx5olvicqjWjni5\n",
       "x9O8XU/IUgmNF63r7aL5CuABXDMBGr/TukonG7AMuUP0vAI0i2tepdvCvg+Kl2ziNcxjZY63mwnp\n",
       "bsGv6z3xbu7aq0orWJiWUpGL4KaNcssQZokOumfbBc9L4iaG/kRAmrOS3skEPxHzRoompPINa20+\n",
       "f6iEpTNf2rKGJ+nq7vtwgiUWM02nULhsmR8qm3i/hYH6Dh8rzFtMr1V3eJ/vh3mMCXmOVMt0kJ4P\n",
       "Db3HCNoWqgZgrNx7l6mqDad4Lpn5Cq6eWZI6Nwviby3M9SETgp0rW//JvCMLbAshapJ7QHexw1/s\n",
       "t4YWh4QUV2emV2ODBQRxPSfmcKEHDFKZPAQxnponbKQUy2+B3CA5LpZCGEcN8ubx8iQMhOg1fNg2\n",
       "JJHfwoDDfZ6FjdKjEM1GBVKtGxrMspLKL55wEE8V9hzRvQX+wyn+vH+ycJEr0v+NcfQvgrbYfJf4\n",
       "/msAAAAASUVORK5CYII=\n",
       "\" style=\"display:inline;vertical-align:middle;\" /></a></span><br>"
      ],
      "text/plain": [
       "<IPython.core.display.HTML object>"
      ]
     },
     "metadata": {},
     "output_type": "display_data"
    }
   ],
   "source": [
    "# prove our conclusion based on the antecedent\n",
    "XSupersetOfY_jdgmt = XSupersetOfY.prove(\n",
    "    assumptions=[Forall(x, InSet(x, X), domain=Y)]).as_implication(\n",
    "    hypothesis=Forall(x, InSet(x, X), domain=Y))"
   ]
  },
  {
   "cell_type": "markdown",
   "metadata": {},
   "source": [
    "We can also achieve the same thing quite directly (here using $C$ and $D$ to keep it analogous but distinct from our earlier work above):"
   ]
  },
  {
   "cell_type": "code",
   "execution_count": 66,
   "metadata": {},
   "outputs": [
    {
     "data": {
      "text/html": [
       "<span style=\"font-size:20px;\"> <a class=\"ProveItLink\" href=\"../__pv_it/demonstrations/439ac47b4340b9b081e50234712911881f942bc60/proof.ipynb\" style=\"text-decoration: none\">&nbsp;&#x22A2;&nbsp;&nbsp;</a><a class=\"ProveItLink\" href=\"../__pv_it/demonstrations/12e5d1ccf76bf6060b83a9b1ff224ca4e9690b220/expr.ipynb\"><img src=\"data:image/png;base64,iVBORw0KGgoAAAANSUhEUgAAAPUAAAAVBAMAAABs27XUAAAAMFBMVEX///8AAAAAAAAAAAAAAAAA\n",
       "AAAAAAAAAAAAAAAAAAAAAAAAAAAAAAAAAAAAAAAAAAAv3aB7AAAAD3RSTlMAdt0yiUSrVGaZzSK7\n",
       "EO91eSXLAAAACXBIWXMAAA7EAAAOxAGVKw4bAAADcklEQVRIx41WS0hUYRQ+d2Z0HndGxyAj0hpu\n",
       "i6hFhkTQorRwEoloBKEHUdNGkiRm0SLcNEUb2yimNCHURIuCUK8tWrTQsSgIJ5w0AmMWQxRtgozs\n",
       "ASl1zv+4D7sztx/unf9xvvPNef4X1m0Fl6FXPlO0XQ4H6v9ojbsJKakKh534+BIOBxvc1HYy7iRN\n",
       "L5UVuui8HWnoPqe2Kmlnbn+rIbLWlLmV7vx5/E0T9whtPSxHHck6729uBP9QGsacud9ZRADmNU2b\n",
       "kUe1qHAAfTlG3HsoPLly3MG043aR0uSODv3O3BmLCB+T98SkJYpKS0DIOIQKiC8b1BrbqkHTuB/G\n",
       "EQSn8bhg5Q4XxKRkEZGuEP9iC6Zm1S+GjEMALQuVDXefdXGyUUx8P+m9F4FpK7dXuM+ftYjIMxG8\n",
       "OXLzMkNinr/XtA9luYfxeV2/0EaOUcfk7nSM3gvIkLT5/JoIVKtFRA6RUiv0P34wJHLfAHhVlvsB\n",
       "PoPK2SBpChmlfjQqJoGs4B7SaDQNsl20yRSRo52b/5VQywyJ3I9BTVqFquaGO57JxTaU0gOr1ZRy\n",
       "ZmSa5L/wl+y51scSx5OyiMgxwmvsG76qvzNknDLEgHvr8zi9CjAlkR9xE4I8VvvJNBbSL2yNyeRd\n",
       "snNHxmlVk7CIyMF1hJeozkoMidz+qGHQLdYfezBiOZMbdXH/FU27mc2UsWvsfnIYBLchIj3EfVtL\n",
       "igfSDEk9NXsFX3WjG3WFF/MndE3J9DnAGT1CBngMRaxsfaQxZou3xhOKfG6IiNFcMMo78pkjibsd\n",
       "81fRe0Mpbpi6inbHBAT7UTFxgStRjPSZptkRypqcze5Tos6jFhEeixOzZnmHsxxJ3FPojgDMeOE4\n",
       "z13k9cjsOwRwed9tOMYW9w0HYnPoKvBqsnCrooaxfkwR1lN33BQiE+jt7aIOibuaReU3wPV8Pp+C\n",
       "aiyUFplrzQCLdf4M73tvn8vcWXzRwyg9CVtfE+H1xiwittH7p7v3pS6Qxh3qLamwm7dRjPpdue2x\n",
       "3c5dTzX73fLI1s+NW9v1o4AhJfeULxsU/Xhah6IR2cBgRQ0Z57uk3507Y3IH1x9oBJVaijLR1jFq\n",
       "ysxWUkD3nxN32NZY5lkJJP9B2r9b3uTzazUVK3EThxN3JOdmNiEPuoVGjVY43IRu2un0zTTpxo3I\n",
       "vxmr3SCp/+hRAAAAAElFTkSuQmCC\n",
       "\" style=\"display:inline;vertical-align:middle;\" /></a></span>"
      ],
      "text/plain": [
       "|- [forall_{x in D} (x in C)] => (C superset_eq D)"
      ]
     },
     "metadata": {},
     "output_type": "display_data"
    }
   ],
   "source": [
    "superset_eq(C, D).prove(\n",
    "    assumptions=[Forall(x, InSet(x, C), domain=D)]).as_implication(\n",
    "    hypothesis=Forall(x, InSet(x, C), domain=D))"
   ]
  },
  {
   "cell_type": "markdown",
   "metadata": {},
   "source": [
    "<div style=\"width: 90%; border: 5px solid green; padding: 10px; margin: 0px;\"><a id='demo05'></a><font size = 4><b>5.</b> Folding and Unfolding the Definitions of $\\not\\subseteq$ and $\\not\\supseteq$</font>.</font></div><br/>\n",
    "<font size=3>$\\not\\subseteq$ is axiomatically defined by $\\forall_{A, B} (A\\not\\subseteq B) = \\neg(A \\subseteq B)$, and we have theorems to automatically fold and unfold the definition, allowing us to express and use the definition in a variety of ways. For example, we can automatically derive the statements that $\\{C\\not\\subseteq D\\} \\vdash \\neg(C\\subseteq D)$, and $\\{\\neg(C\\subseteq D)\\} \\vdash C\\not\\subseteq D$</font>"
   ]
  },
  {
   "cell_type": "code",
   "execution_count": 67,
   "metadata": {},
   "outputs": [],
   "source": [
    "# temp_expr = NotSubsetEq(C, D)"
   ]
  },
  {
   "cell_type": "code",
   "execution_count": 68,
   "metadata": {},
   "outputs": [],
   "source": [
    "# unfold_not_subset_eq"
   ]
  },
  {
   "cell_type": "code",
   "execution_count": 69,
   "metadata": {},
   "outputs": [],
   "source": [
    "# unfold_not_subset_eq.instantiate({A: C, B: D}, assumptions=[NotSubsetEq(C, D)], auto_simplify=False)"
   ]
  },
  {
   "cell_type": "code",
   "execution_count": 70,
   "metadata": {},
   "outputs": [
    {
     "data": {
      "text/html": [
       "<span style=\"font-size:20px;\"><a class=\"ProveItLink\" href=\"../__pv_it/demonstrations/a1400d6dd5506b700bd9bbdfb3fb3b20312e96790/expr.ipynb\"><img src=\"data:image/png;base64,iVBORw0KGgoAAAANSUhEUgAAADwAAAAYBAMAAABU74NhAAAAMFBMVEX///8AAAAAAAAAAAAAAAAA\n",
       "AAAAAAAAAAAAAAAAAAAAAAAAAAAAAAAAAAAAAAAAAAAv3aB7AAAAD3RSTlMAEHa7q2Yiie9Umd0y\n",
       "zUTye3nKAAAACXBIWXMAAA7EAAAOxAGVKw4bAAABMUlEQVQoz2NgQAM8DHgBN37pIHQBRmUXV7YC\n",
       "GG8jhGKy/+xi7AZiaSgycK4OAAsq797RvQciz3+BgSF+AgODMIi/PgEkdFaNgeUA1JTzCgwMXA0M\n",
       "DDcEgJwXYFu2MTDIwizRB6rj+8rA/hPEOQUiWB4wMFTCpO2BmO07Q/4GEEcGRPAC8QaY9GdQGHxh\n",
       "qFeAe+EIAwMrzAc8n4AE63eG/Qlw6RSgAQJQNtMfkG3/GPrBPAFogB2BKWX+APJcA8N+EIcT7B2u\n",
       "CQw+MGl+AyARHwDxMTsk+PYxXmBA8jZjMwNDPshphRAxWa8AZG8zAxVzfmVgeA5z0Pvbu3dDAvU+\n",
       "MFB2gRhSJl4PYHqmwxjO/12crRLQI+8a3rjmMcAny7V/926Y3WQkpHD80hfxS2P4hAEA5eZEiTd/\n",
       "HBwAAAAASUVORK5CYII=\n",
       "\" style=\"display:inline;vertical-align:middle;\" /></a> <a class=\"ProveItLink\" href=\"../__pv_it/demonstrations/2a07355cce5ec8ae6fc1f2a764610a182e32266d0/proof.ipynb\" style=\"text-decoration: none\">&nbsp;&#x22A2;&nbsp;&nbsp;</a><a class=\"ProveItLink\" href=\"../__pv_it/demonstrations/37d1294881394e5a98c81b17170a52fd3fee3d780/expr.ipynb\"><img src=\"data:image/png;base64,iVBORw0KGgoAAAANSUhEUgAAAFwAAAAVBAMAAAA5lpTPAAAAMFBMVEX///8AAAAAAAAAAAAAAAAA\n",
       "AAAAAAAAAAAAAAAAAAAAAAAAAAAAAAAAAAAAAAAAAAAv3aB7AAAAD3RSTlMAmd0iq3ZUiRDNZu9E\n",
       "uzLWhN+VAAAACXBIWXMAAA7EAAAOxAGVKw4bAAABd0lEQVQoz2NgQAADBvyAGYXHmkBAOU8AMi8d\n",
       "RLRecVlgjq4u9v8V3ytAu6OQxDgmgGzY2sCQqAVVpKSkpAdh/mRg4PrGwMDZgFDOuACo5dIDIOMz\n",
       "mP8yGC7F9xVISAO1CCCUcwMx5w6QEzeALVNG8tU/IHEeaNwOhFgmENeDfMsHNoPlAEKK9wOQsC9g\n",
       "YJiFEBMHhtQnsLkPQCQnkrf4LwCJ9w4MDCUIMaBO9q8I7hMk5e9BIbgeaPpKBiGg/5UUgVw1Bgam\n",
       "zwglJkjK40H2+QNdl42Q2wP07QewY8BCTEjK74OI3yBrUJQzgZXnwcMVBv4CMdcvIHEaoVwNFuIF\n",
       "ELE5qMHeDfJuEkTAEIivAkMGJM4OjboWnwbkYL8JYq1F2AgKpPwFDDwVMIHjl6CJgBPoxkMC0MCG\n",
       "gUcgX8q6yGAkRJb7X1zuCoOZOghRpgcMhACzAoKNnH5wAOTQYriMKgWKPlgChgJbZE4vQdNRDGQO\n",
       "IKCa1YABAIt/UWRoGbqGAAAAAElFTkSuQmCC\n",
       "\" style=\"display:inline;vertical-align:middle;\" /></a></span>"
      ],
      "text/plain": [
       "{C not_subset_eq D} |- [not](C subset_eq D)"
      ]
     },
     "metadata": {},
     "output_type": "display_data"
    }
   ],
   "source": [
    "# unfold the definition to produce a new judgment\n",
    "NotSubsetEq(C, D).unfold(assumptions=[NotSubsetEq(C, D)])"
   ]
  },
  {
   "cell_type": "code",
   "execution_count": 71,
   "metadata": {},
   "outputs": [
    {
     "data": {
      "text/html": [
       "<strong id=\"NotSubsetEqKT\">NotSubsetEqKT:</strong> <span style=\"font-size:20px;\"><a class=\"ProveItLink\" href=\"../__pv_it/demonstrations/37d1294881394e5a98c81b17170a52fd3fee3d780/expr.ipynb\"><img src=\"data:image/png;base64,iVBORw0KGgoAAAANSUhEUgAAAFwAAAAVBAMAAAA5lpTPAAAAMFBMVEX///8AAAAAAAAAAAAAAAAA\n",
       "AAAAAAAAAAAAAAAAAAAAAAAAAAAAAAAAAAAAAAAAAAAv3aB7AAAAD3RSTlMAmd0iq3ZUiRDNZu9E\n",
       "uzLWhN+VAAAACXBIWXMAAA7EAAAOxAGVKw4bAAABd0lEQVQoz2NgQAADBvyAGYXHmkBAOU8AMi8d\n",
       "RLRecVlgjq4u9v8V3ytAu6OQxDgmgGzY2sCQqAVVpKSkpAdh/mRg4PrGwMDZgFDOuACo5dIDIOMz\n",
       "mP8yGC7F9xVISAO1CCCUcwMx5w6QEzeALVNG8tU/IHEeaNwOhFgmENeDfMsHNoPlAEKK9wOQsC9g\n",
       "YJiFEBMHhtQnsLkPQCQnkrf4LwCJ9w4MDCUIMaBO9q8I7hMk5e9BIbgeaPpKBiGg/5UUgVw1Bgam\n",
       "zwglJkjK40H2+QNdl42Q2wP07QewY8BCTEjK74OI3yBrUJQzgZXnwcMVBv4CMdcvIHEaoVwNFuIF\n",
       "ELE5qMHeDfJuEkTAEIivAkMGJM4OjboWnwbkYL8JYq1F2AgKpPwFDDwVMIHjl6CJgBPoxkMC0MCG\n",
       "gUcgX8q6yGAkRJb7X1zuCoOZOghRpgcMhACzAoKNnH5wAOTQYriMKgWKPlgChgJbZE4vQdNRDGQO\n",
       "IKCa1YABAIt/UWRoGbqGAAAAAElFTkSuQmCC\n",
       "\" style=\"display:inline;vertical-align:middle;\" /></a> <a class=\"ProveItLink\" href=\"../__pv_it/demonstrations/8fd1504bc80c585d8ca0c744b2d34a884c25e50c0/proof.ipynb\" style=\"text-decoration: none\">&nbsp;&#x22A2;&nbsp;&nbsp;</a><a class=\"ProveItLink\" href=\"../__pv_it/demonstrations/a1400d6dd5506b700bd9bbdfb3fb3b20312e96790/expr.ipynb\"><img src=\"data:image/png;base64,iVBORw0KGgoAAAANSUhEUgAAADwAAAAYBAMAAABU74NhAAAAMFBMVEX///8AAAAAAAAAAAAAAAAA\n",
       "AAAAAAAAAAAAAAAAAAAAAAAAAAAAAAAAAAAAAAAAAAAv3aB7AAAAD3RSTlMAEHa7q2Yiie9Umd0y\n",
       "zUTye3nKAAAACXBIWXMAAA7EAAAOxAGVKw4bAAABMUlEQVQoz2NgQAM8DHgBN37pIHQBRmUXV7YC\n",
       "GG8jhGKy/+xi7AZiaSgycK4OAAsq797RvQciz3+BgSF+AgODMIi/PgEkdFaNgeUA1JTzCgwMXA0M\n",
       "DDcEgJwXYFu2MTDIwizRB6rj+8rA/hPEOQUiWB4wMFTCpO2BmO07Q/4GEEcGRPAC8QaY9GdQGHxh\n",
       "qFeAe+EIAwMrzAc8n4AE63eG/Qlw6RSgAQJQNtMfkG3/GPrBPAFogB2BKWX+APJcA8N+EIcT7B2u\n",
       "CQw+MGl+AyARHwDxMTsk+PYxXmBA8jZjMwNDPshphRAxWa8AZG8zAxVzfmVgeA5z0Pvbu3dDAvU+\n",
       "MFB2gRhSJl4PYHqmwxjO/12crRLQI+8a3rjmMcAny7V/926Y3WQkpHD80hfxS2P4hAEA5eZEiTd/\n",
       "HBwAAAAASUVORK5CYII=\n",
       "\" style=\"display:inline;vertical-align:middle;\" /></a></span><br>"
      ],
      "text/plain": [
       "<IPython.core.display.HTML object>"
      ]
     },
     "metadata": {},
     "output_type": "display_data"
    }
   ],
   "source": [
    "# or automatically fold the definition when deriving the alternative judgment\n",
    "NotSubsetEqKT = NotSubsetEq(C, D).prove(assumptions=[Not(SubsetEq(C, D))])"
   ]
  },
  {
   "cell_type": "markdown",
   "metadata": {},
   "source": [
    "<font size=3>In the proof for that second derivation, we see the use of the ``fold_not_subset_eq`` theorem, which we can manually invoke and instantiate to accomplish the same thing:</font>"
   ]
  },
  {
   "cell_type": "code",
   "execution_count": 72,
   "metadata": {},
   "outputs": [
    {
     "data": {
      "text/html": [
       "<span style=\"font-size:20px;\"> <a class=\"ProveItLink\" href=\"proofs/fold_not_subset_eq/thm_proof.ipynb\" style=\"text-decoration: none\">&nbsp;&#x22A2;&nbsp;&nbsp;</a><a class=\"ProveItLink\" href=\"../__pv_it/theorems/b540f1826ea1153ce57888078add8db2027481ea0/expr.ipynb\"><img src=\"data:image/png;base64,iVBORw0KGgoAAAANSUhEUgAAANEAAAAYBAMAAACW8wWgAAAAMFBMVEX///+IiIgiIiIQEBB2dnbu\n",
       "7u5ERETMzMzc3NwyMjK6urpmZmaYmJiqqqpUVFQAAAB6qHgnAAAAAXRSTlMAQObYZgAAAAlwSFlz\n",
       "AAAOxAAADsQBlSsOGwAAA09JREFUSMe1VktoE0EY/tJm89hs0i1C6cFHSJGKCtYiiodKD9FLqS71\n",
       "JELJxVQESUAoeGlT7bkt1oqI2AhqL4UGLBUf1ChetEIXFBFUzKkihT6kD+uj9Z+ZnSbZJKfYhd2Z\n",
       "+Wf/+f75/m/+XWCLLvcWrespsFTkjRL/DWmHwBvIWl7kzd+lO8M6n8sE8jfzxruQNe0WjRZbn/ve\n",
       "AUcaeMLGN8tEOiOarxKpJlTXWC+6lRFgPo4hoIvtOlIm0jPRTP4U7eVaBOLWVL8OjKUwRTs2AKdZ\n",
       "JlIDfzp7V3mr7NncJTBNkNM6Kg1oxKC33DQJJfQ4/vI2kARa5dw83YMJeAmmMRQ6VCaSTwgi5f8j\n",
       "hEF3UM4dBtopZU5S3iPgHLcZNvfcwUfOig1Alx0WMKCa7iU+pNRrzfIAr1TvvM00SNvug4crXTnC\n",
       "pzp/hyd4Nl05a2pJ9jxNdmc0Gk3AHRtv6cjGUmGK0DzrfNgnss8vB4nkHQXip1S6DCdfxylI1oJw\n",
       "NNiR2vnzlAnlgjC8BLZBlYFX8gVqnk6uyPLQJT1dtJaThOKmA+DXhSBGDop0pqAt2JH4oVMv6XBZ\n",
       "ZWWWBAV2SLJICpH5Q/Bu4pv0rCK+tEVyZtEPiMKh3xFeJtrSdiSeX4c3g17L0ARlf1ZgnD3GZZ1Q\n",
       "+V5lsyx101qBX7QftkQrD82Bx+KkbZ8SAeUgiXqm+wbwxTIsvp2kpH2SFDFtjNI9bJWM2bR03UUk\n",
       "dJO7xorDVS6IESJeZECZzUE6QQoIquw1NU75G4VMZnsKeGAtxyTsYfTELHLHroVCohoNkuNRwzoI\n",
       "onCMh+cNKwP9yfw9ZfwsFl/45LIlDZZMD1HSKaUchBJbM/Bh47owvJeuMxtzczcYtxVJaXIQQFxk\n",
       "AGM2lWfcEX56PKuyblEy1dUse6i3nbTCin1ls0e0VJlKMzzLUPbZ8pRiilCJejoH4zyKfgNtxF61\n",
       "fGPK9r2NlKrBRM0xKM9vuZvweik8YdoVgfPAwwzOriWhUuIS2nC45aIwW5LI+6b6DoRCMk9SU3Zs\n",
       "f04/F+le0XKnRAp7Rb7shaHQdb8Ekq/of0COtSdv4lXBq7V2Q7oEEo5bbSDK65643pSq7UNl/O4o\n",
       "xd4wSrkWZeAfQN/DWm4JXU8AAAAASUVORK5CYII=\n",
       "\" style=\"display:inline;vertical-align:middle;\" /></a></span>"
      ],
      "text/plain": [
       "|- forall_{A, B | [not](A subset_eq B)} (A not_subset_eq B)"
      ]
     },
     "metadata": {},
     "output_type": "display_data"
    }
   ],
   "source": [
    "# the theorem\n",
    "fold_not_subset_eq"
   ]
  },
  {
   "cell_type": "code",
   "execution_count": 73,
   "metadata": {},
   "outputs": [
    {
     "data": {
      "text/html": [
       "<strong id=\"fold_not_subset_eq_spec\">fold_not_subset_eq_spec:</strong> <span style=\"font-size:20px;\"><a class=\"ProveItLink\" href=\"../__pv_it/demonstrations/37d1294881394e5a98c81b17170a52fd3fee3d780/expr.ipynb\"><img src=\"data:image/png;base64,iVBORw0KGgoAAAANSUhEUgAAAFwAAAAVBAMAAAA5lpTPAAAAMFBMVEX///8AAAAAAAAAAAAAAAAA\n",
       "AAAAAAAAAAAAAAAAAAAAAAAAAAAAAAAAAAAAAAAAAAAv3aB7AAAAD3RSTlMAmd0iq3ZUiRDNZu9E\n",
       "uzLWhN+VAAAACXBIWXMAAA7EAAAOxAGVKw4bAAABd0lEQVQoz2NgQAADBvyAGYXHmkBAOU8AMi8d\n",
       "RLRecVlgjq4u9v8V3ytAu6OQxDgmgGzY2sCQqAVVpKSkpAdh/mRg4PrGwMDZgFDOuACo5dIDIOMz\n",
       "mP8yGC7F9xVISAO1CCCUcwMx5w6QEzeALVNG8tU/IHEeaNwOhFgmENeDfMsHNoPlAEKK9wOQsC9g\n",
       "YJiFEBMHhtQnsLkPQCQnkrf4LwCJ9w4MDCUIMaBO9q8I7hMk5e9BIbgeaPpKBiGg/5UUgVw1Bgam\n",
       "zwglJkjK40H2+QNdl42Q2wP07QewY8BCTEjK74OI3yBrUJQzgZXnwcMVBv4CMdcvIHEaoVwNFuIF\n",
       "ELE5qMHeDfJuEkTAEIivAkMGJM4OjboWnwbkYL8JYq1F2AgKpPwFDDwVMIHjl6CJgBPoxkMC0MCG\n",
       "gUcgX8q6yGAkRJb7X1zuCoOZOghRpgcMhACzAoKNnH5wAOTQYriMKgWKPlgChgJbZE4vQdNRDGQO\n",
       "IKCa1YABAIt/UWRoGbqGAAAAAElFTkSuQmCC\n",
       "\" style=\"display:inline;vertical-align:middle;\" /></a> <a class=\"ProveItLink\" href=\"../__pv_it/demonstrations/8fd1504bc80c585d8ca0c744b2d34a884c25e50c0/proof.ipynb\" style=\"text-decoration: none\">&nbsp;&#x22A2;&nbsp;&nbsp;</a><a class=\"ProveItLink\" href=\"../__pv_it/demonstrations/a1400d6dd5506b700bd9bbdfb3fb3b20312e96790/expr.ipynb\"><img src=\"data:image/png;base64,iVBORw0KGgoAAAANSUhEUgAAADwAAAAYBAMAAABU74NhAAAAMFBMVEX///8AAAAAAAAAAAAAAAAA\n",
       "AAAAAAAAAAAAAAAAAAAAAAAAAAAAAAAAAAAAAAAAAAAv3aB7AAAAD3RSTlMAEHa7q2Yiie9Umd0y\n",
       "zUTye3nKAAAACXBIWXMAAA7EAAAOxAGVKw4bAAABMUlEQVQoz2NgQAM8DHgBN37pIHQBRmUXV7YC\n",
       "GG8jhGKy/+xi7AZiaSgycK4OAAsq797RvQciz3+BgSF+AgODMIi/PgEkdFaNgeUA1JTzCgwMXA0M\n",
       "DDcEgJwXYFu2MTDIwizRB6rj+8rA/hPEOQUiWB4wMFTCpO2BmO07Q/4GEEcGRPAC8QaY9GdQGHxh\n",
       "qFeAe+EIAwMrzAc8n4AE63eG/Qlw6RSgAQJQNtMfkG3/GPrBPAFogB2BKWX+APJcA8N+EIcT7B2u\n",
       "CQw+MGl+AyARHwDxMTsk+PYxXmBA8jZjMwNDPshphRAxWa8AZG8zAxVzfmVgeA5z0Pvbu3dDAvU+\n",
       "MFB2gRhSJl4PYHqmwxjO/12crRLQI+8a3rjmMcAny7V/926Y3WQkpHD80hfxS2P4hAEA5eZEiTd/\n",
       "HBwAAAAASUVORK5CYII=\n",
       "\" style=\"display:inline;vertical-align:middle;\" /></a></span><br>"
      ],
      "text/plain": [
       "<IPython.core.display.HTML object>"
      ]
     },
     "metadata": {},
     "output_type": "display_data"
    }
   ],
   "source": [
    "# instantiation\n",
    "fold_not_subset_eq_spec = fold_not_subset_eq.instantiate({A:C, B:D}, assumptions=[Not(SubsetEq(C, D))])"
   ]
  },
  {
   "cell_type": "markdown",
   "metadata": {},
   "source": [
    "<font size=3>We can look at the proof resulting from the earlier automated ``prove()`` approach and see the same steps reflected in the automation:</font>"
   ]
  },
  {
   "cell_type": "code",
   "execution_count": 74,
   "metadata": {},
   "outputs": [
    {
     "data": {
      "text/html": [
       "<table><tr><th>&nbsp;</th><th>step type</th><th>requirements</th><th>statement</th></tr>\n",
       "<tr><td><a name=\"0x7598cd5e97129a06_step0\">0</a></td><td>instantiation</td><td><a href=\"#0x7598cd5e97129a06_step1\">1</a>, <a href=\"#0x7598cd5e97129a06_step2\">2</a></td><td><span style=\"font-size:20px;\"><a class=\"ProveItLink\" href=\"../__pv_it/demonstrations/37d1294881394e5a98c81b17170a52fd3fee3d780/expr.ipynb\"><img src=\"data:image/png;base64,iVBORw0KGgoAAAANSUhEUgAAAFwAAAAVBAMAAAA5lpTPAAAAMFBMVEX///8AAAAAAAAAAAAAAAAA\n",
       "AAAAAAAAAAAAAAAAAAAAAAAAAAAAAAAAAAAAAAAAAAAv3aB7AAAAD3RSTlMAmd0iq3ZUiRDNZu9E\n",
       "uzLWhN+VAAAACXBIWXMAAA7EAAAOxAGVKw4bAAABd0lEQVQoz2NgQAADBvyAGYXHmkBAOU8AMi8d\n",
       "RLRecVlgjq4u9v8V3ytAu6OQxDgmgGzY2sCQqAVVpKSkpAdh/mRg4PrGwMDZgFDOuACo5dIDIOMz\n",
       "mP8yGC7F9xVISAO1CCCUcwMx5w6QEzeALVNG8tU/IHEeaNwOhFgmENeDfMsHNoPlAEKK9wOQsC9g\n",
       "YJiFEBMHhtQnsLkPQCQnkrf4LwCJ9w4MDCUIMaBO9q8I7hMk5e9BIbgeaPpKBiGg/5UUgVw1Bgam\n",
       "zwglJkjK40H2+QNdl42Q2wP07QewY8BCTEjK74OI3yBrUJQzgZXnwcMVBv4CMdcvIHEaoVwNFuIF\n",
       "ELE5qMHeDfJuEkTAEIivAkMGJM4OjboWnwbkYL8JYq1F2AgKpPwFDDwVMIHjl6CJgBPoxkMC0MCG\n",
       "gUcgX8q6yGAkRJb7X1zuCoOZOghRpgcMhACzAoKNnH5wAOTQYriMKgWKPlgChgJbZE4vQdNRDGQO\n",
       "IKCa1YABAIt/UWRoGbqGAAAAAElFTkSuQmCC\n",
       "\" style=\"display:inline;vertical-align:middle;\" /></a> <a class=\"ProveItLink\" href=\"../__pv_it/demonstrations/8fd1504bc80c585d8ca0c744b2d34a884c25e50c0/proof.ipynb\" style=\"text-decoration: none\">&nbsp;&#x22A2;&nbsp;&nbsp;</a><a class=\"ProveItLink\" href=\"../__pv_it/demonstrations/a1400d6dd5506b700bd9bbdfb3fb3b20312e96790/expr.ipynb\"><img src=\"data:image/png;base64,iVBORw0KGgoAAAANSUhEUgAAADwAAAAYBAMAAABU74NhAAAAMFBMVEX///8AAAAAAAAAAAAAAAAA\n",
       "AAAAAAAAAAAAAAAAAAAAAAAAAAAAAAAAAAAAAAAAAAAv3aB7AAAAD3RSTlMAEHa7q2Yiie9Umd0y\n",
       "zUTye3nKAAAACXBIWXMAAA7EAAAOxAGVKw4bAAABMUlEQVQoz2NgQAM8DHgBN37pIHQBRmUXV7YC\n",
       "GG8jhGKy/+xi7AZiaSgycK4OAAsq797RvQciz3+BgSF+AgODMIi/PgEkdFaNgeUA1JTzCgwMXA0M\n",
       "DDcEgJwXYFu2MTDIwizRB6rj+8rA/hPEOQUiWB4wMFTCpO2BmO07Q/4GEEcGRPAC8QaY9GdQGHxh\n",
       "qFeAe+EIAwMrzAc8n4AE63eG/Qlw6RSgAQJQNtMfkG3/GPrBPAFogB2BKWX+APJcA8N+EIcT7B2u\n",
       "CQw+MGl+AyARHwDxMTsk+PYxXmBA8jZjMwNDPshphRAxWa8AZG8zAxVzfmVgeA5z0Pvbu3dDAvU+\n",
       "MFB2gRhSJl4PYHqmwxjO/12crRLQI+8a3rjmMcAny7V/926Y3WQkpHD80hfxS2P4hAEA5eZEiTd/\n",
       "HBwAAAAASUVORK5CYII=\n",
       "\" style=\"display:inline;vertical-align:middle;\" /></a></span></td></tr>\n",
       "<tr><td>&nbsp;</td><td colspan=4 style=\"text-align:left\"><span style=\"font-size:20px;\"><a class=\"ProveItLink\" href=\"../../../../__pv_it/common/09585084922504426caf1db2ff588a23a0932a960/expr.ipynb\"><img src=\"data:image/png;base64,iVBORw0KGgoAAAANSUhEUgAAAA8AAAAPBAMAAADJ+Ih5AAAAMFBMVEX///8QEBAiIiLu7u5ERES6\n",
       "urqYmJiIiIjMzMx2dnZUVFRmZmaqqqoyMjLc3NwAAABb1yYoAAAAAXRSTlMAQObYZgAAAAlwSFlz\n",
       "AAAOxAAADsQBlSsOGwAAAF9JREFUCNdjYACBtwxQcB9K8/yHMrjXP4Aw5s1vANN8BfUHIDIM5xPA\n",
       "jBiG/glgxgaG9wtANLv37vUOIIY5AwO/AkSGgUkASLMCdfB+ADIeAjHLPwYGk/+XGXj8/04AADnq\n",
       "Fzds8Dk2AAAAAElFTkSuQmCC\n",
       "\" style=\"display:inline;vertical-align:middle;\" /></a> : <a class=\"ProveItLink\" href=\"../../../../__pv_it/common/9fba9f29e823606ff4fdf2f1c6d5d08d906e850a0/expr.ipynb\"><img src=\"data:image/png;base64,iVBORw0KGgoAAAANSUhEUgAAAA8AAAAOBAMAAAACpFvcAAAAMFBMVEX///+6uroyMjLMzMwiIiJm\n",
       "ZmaqqqoQEBB2dnbc3NyYmJhUVFRERESIiIju7u4AAABBACUiAAAAAXRSTlMAQObYZgAAAAlwSFlz\n",
       "AAAOxAAADsQBlSsOGwAAAGVJREFUCNdjYGDgu7N7F2cDAwPD9XsMbCELGBjeOAM58RMYGNQfABni\n",
       "DAwc34A0gykDw3wHEOMxA0P/BQYI8J8AZdSDSaAGfxDNZgAxgYEDiOeDFPeBRH8xMEiAzGR4enqr\n",
       "AJACACwBF0zzC0cUAAAAAElFTkSuQmCC\n",
       "\" style=\"display:inline;vertical-align:middle;\" /></a>, <a class=\"ProveItLink\" href=\"../../../../__pv_it/common/a9162d1c3cc0470c02e5daf414500903a7a419230/expr.ipynb\"><img src=\"data:image/png;base64,iVBORw0KGgoAAAANSUhEUgAAABAAAAAOBAMAAADUAYG5AAAAMFBMVEX///92dnaqqqoiIiLu7u5m\n",
       "Zma6urqIiIjc3NwQEBDMzMwyMjJUVFRERESYmJgAAAAeMT9/AAAAAXRSTlMAQObYZgAAAAlwSFlz\n",
       "AAAOxAAADsQBlSsOGwAAAHJJREFUCNdjYGB4+//Mmb0LGIBgLgMDzy8gzfGdgYHtK5DBB+TxATkM\n",
       "PB8YGLhnABmcFxhYDoMUr79efvoBSFN9AwPTPBDjJhDLg6T+APH7AgYGrn9AxvkEBgb2H0DObyCH\n",
       "ewIDQ+YWoHH3/5w5fYmBAQBWoiHo17XzsQAAAABJRU5ErkJggg==\n",
       "\" style=\"display:inline;vertical-align:middle;\" /></a> : <a class=\"ProveItLink\" href=\"../../../../__pv_it/common/8d36d28f3636cdaa66f8b7d56eb3bbf0b50f70200/expr.ipynb\"><img src=\"data:image/png;base64,iVBORw0KGgoAAAANSUhEUgAAABEAAAAOBAMAAAA7w+qHAAAAMFBMVEX///8iIiLu7u52dna6uroQ\n",
       "EBBmZmbMzMyqqqqYmJgyMjLc3NxUVFRERESIiIgAAACK51z6AAAAAXRSTlMAQObYZgAAAAlwSFlz\n",
       "AAAOxAAADsQBlSsOGwAAAGhJREFUCNdjYGB4+//O2TsbGEDgFwMD5w8Qg/0fkEgFsfi+Awn/CUCC\n",
       "9wOQ2G8AJPgvAIn6AyDiAZCYDxJ7XwAkzjsAifsgbV9BxF8g5vwJM071Asy4WyBJLqBxjglABs/9\n",
       "P2fuZgMZABbOIFPVVgQmAAAAAElFTkSuQmCC\n",
       "\" style=\"display:inline;vertical-align:middle;\" /></a></span></td></tr><tr><td><a name=\"0x7598cd5e97129a06_step1\">1</a></td><td>conjecture</td><td></td><td><span style=\"font-size:20px;\"> <a class=\"ProveItLink\" href=\"proofs/fold_not_subset_eq/thm_proof.ipynb\" style=\"text-decoration: none\">&nbsp;&#x22A2;&nbsp;&nbsp;</a><a class=\"ProveItLink\" href=\"../__pv_it/theorems/b540f1826ea1153ce57888078add8db2027481ea0/expr.ipynb\"><img src=\"data:image/png;base64,iVBORw0KGgoAAAANSUhEUgAAANEAAAAYBAMAAACW8wWgAAAAMFBMVEX///+IiIgiIiIQEBB2dnbu\n",
       "7u5ERETMzMzc3NwyMjK6urpmZmaYmJiqqqpUVFQAAAB6qHgnAAAAAXRSTlMAQObYZgAAAAlwSFlz\n",
       "AAAOxAAADsQBlSsOGwAAA09JREFUSMe1VktoE0EY/tJm89hs0i1C6cFHSJGKCtYiiodKD9FLqS71\n",
       "JELJxVQESUAoeGlT7bkt1oqI2AhqL4UGLBUf1ChetEIXFBFUzKkihT6kD+uj9Z+ZnSbZJKfYhd2Z\n",
       "+Wf/+f75/m/+XWCLLvcWrespsFTkjRL/DWmHwBvIWl7kzd+lO8M6n8sE8jfzxruQNe0WjRZbn/ve\n",
       "AUcaeMLGN8tEOiOarxKpJlTXWC+6lRFgPo4hoIvtOlIm0jPRTP4U7eVaBOLWVL8OjKUwRTs2AKdZ\n",
       "JlIDfzp7V3mr7NncJTBNkNM6Kg1oxKC33DQJJfQ4/vI2kARa5dw83YMJeAmmMRQ6VCaSTwgi5f8j\n",
       "hEF3UM4dBtopZU5S3iPgHLcZNvfcwUfOig1Alx0WMKCa7iU+pNRrzfIAr1TvvM00SNvug4crXTnC\n",
       "pzp/hyd4Nl05a2pJ9jxNdmc0Gk3AHRtv6cjGUmGK0DzrfNgnss8vB4nkHQXip1S6DCdfxylI1oJw\n",
       "NNiR2vnzlAnlgjC8BLZBlYFX8gVqnk6uyPLQJT1dtJaThOKmA+DXhSBGDop0pqAt2JH4oVMv6XBZ\n",
       "ZWWWBAV2SLJICpH5Q/Bu4pv0rCK+tEVyZtEPiMKh3xFeJtrSdiSeX4c3g17L0ARlf1ZgnD3GZZ1Q\n",
       "+V5lsyx101qBX7QftkQrD82Bx+KkbZ8SAeUgiXqm+wbwxTIsvp2kpH2SFDFtjNI9bJWM2bR03UUk\n",
       "dJO7xorDVS6IESJeZECZzUE6QQoIquw1NU75G4VMZnsKeGAtxyTsYfTELHLHroVCohoNkuNRwzoI\n",
       "onCMh+cNKwP9yfw9ZfwsFl/45LIlDZZMD1HSKaUchBJbM/Bh47owvJeuMxtzczcYtxVJaXIQQFxk\n",
       "AGM2lWfcEX56PKuyblEy1dUse6i3nbTCin1ls0e0VJlKMzzLUPbZ8pRiilCJejoH4zyKfgNtxF61\n",
       "fGPK9r2NlKrBRM0xKM9vuZvweik8YdoVgfPAwwzOriWhUuIS2nC45aIwW5LI+6b6DoRCMk9SU3Zs\n",
       "f04/F+le0XKnRAp7Rb7shaHQdb8Ekq/of0COtSdv4lXBq7V2Q7oEEo5bbSDK65643pSq7UNl/O4o\n",
       "xd4wSrkWZeAfQN/DWm4JXU8AAAAASUVORK5CYII=\n",
       "\" style=\"display:inline;vertical-align:middle;\" /></a></span></td></tr>\n",
       "<tr><td>&nbsp;</td><td colspan=4 style-\"text-align:left\"><a class=\"ProveItLink\" href=\"proofs/fold_not_subset_eq/thm_proof.ipynb\">proveit.logic.sets.inclusion.fold_not_subset_eq</a></td></tr><tr><td><a name=\"0x7598cd5e97129a06_step2\">2</a></td><td>assumption</td><td></td><td><span style=\"font-size:20px;\"><a class=\"ProveItLink\" href=\"../__pv_it/demonstrations/37d1294881394e5a98c81b17170a52fd3fee3d780/expr.ipynb\"><img src=\"data:image/png;base64,iVBORw0KGgoAAAANSUhEUgAAAFwAAAAVBAMAAAA5lpTPAAAAMFBMVEX///8AAAAAAAAAAAAAAAAA\n",
       "AAAAAAAAAAAAAAAAAAAAAAAAAAAAAAAAAAAAAAAAAAAv3aB7AAAAD3RSTlMAmd0iq3ZUiRDNZu9E\n",
       "uzLWhN+VAAAACXBIWXMAAA7EAAAOxAGVKw4bAAABd0lEQVQoz2NgQAADBvyAGYXHmkBAOU8AMi8d\n",
       "RLRecVlgjq4u9v8V3ytAu6OQxDgmgGzY2sCQqAVVpKSkpAdh/mRg4PrGwMDZgFDOuACo5dIDIOMz\n",
       "mP8yGC7F9xVISAO1CCCUcwMx5w6QEzeALVNG8tU/IHEeaNwOhFgmENeDfMsHNoPlAEKK9wOQsC9g\n",
       "YJiFEBMHhtQnsLkPQCQnkrf4LwCJ9w4MDCUIMaBO9q8I7hMk5e9BIbgeaPpKBiGg/5UUgVw1Bgam\n",
       "zwglJkjK40H2+QNdl42Q2wP07QewY8BCTEjK74OI3yBrUJQzgZXnwcMVBv4CMdcvIHEaoVwNFuIF\n",
       "ELE5qMHeDfJuEkTAEIivAkMGJM4OjboWnwbkYL8JYq1F2AgKpPwFDDwVMIHjl6CJgBPoxkMC0MCG\n",
       "gUcgX8q6yGAkRJb7X1zuCoOZOghRpgcMhACzAoKNnH5wAOTQYriMKgWKPlgChgJbZE4vQdNRDGQO\n",
       "IKCa1YABAIt/UWRoGbqGAAAAAElFTkSuQmCC\n",
       "\" style=\"display:inline;vertical-align:middle;\" /></a> <a class=\"ProveItLink\" href=\"../__pv_it/demonstrations/4bd37ac20507babaa3bd7f10d712cc317fbd5dc30/proof.ipynb\" style=\"text-decoration: none\">&nbsp;&#x22A2;&nbsp;&nbsp;</a><a class=\"ProveItLink\" href=\"../__pv_it/demonstrations/37d1294881394e5a98c81b17170a52fd3fee3d780/expr.ipynb\"><img src=\"data:image/png;base64,iVBORw0KGgoAAAANSUhEUgAAAFwAAAAVBAMAAAA5lpTPAAAAMFBMVEX///8AAAAAAAAAAAAAAAAA\n",
       "AAAAAAAAAAAAAAAAAAAAAAAAAAAAAAAAAAAAAAAAAAAv3aB7AAAAD3RSTlMAmd0iq3ZUiRDNZu9E\n",
       "uzLWhN+VAAAACXBIWXMAAA7EAAAOxAGVKw4bAAABd0lEQVQoz2NgQAADBvyAGYXHmkBAOU8AMi8d\n",
       "RLRecVlgjq4u9v8V3ytAu6OQxDgmgGzY2sCQqAVVpKSkpAdh/mRg4PrGwMDZgFDOuACo5dIDIOMz\n",
       "mP8yGC7F9xVISAO1CCCUcwMx5w6QEzeALVNG8tU/IHEeaNwOhFgmENeDfMsHNoPlAEKK9wOQsC9g\n",
       "YJiFEBMHhtQnsLkPQCQnkrf4LwCJ9w4MDCUIMaBO9q8I7hMk5e9BIbgeaPpKBiGg/5UUgVw1Bgam\n",
       "zwglJkjK40H2+QNdl42Q2wP07QewY8BCTEjK74OI3yBrUJQzgZXnwcMVBv4CMdcvIHEaoVwNFuIF\n",
       "ELE5qMHeDfJuEkTAEIivAkMGJM4OjboWnwbkYL8JYq1F2AgKpPwFDDwVMIHjl6CJgBPoxkMC0MCG\n",
       "gUcgX8q6yGAkRJb7X1zuCoOZOghRpgcMhACzAoKNnH5wAOTQYriMKgWKPlgChgJbZE4vQdNRDGQO\n",
       "IKCa1YABAIt/UWRoGbqGAAAAAElFTkSuQmCC\n",
       "\" style=\"display:inline;vertical-align:middle;\" /></a></span></td></tr>\n",
       "</table>"
      ],
      "text/plain": [
       "\tstep type\trequirements\tstatement\n",
       "0\tinstantiation\t1, 2\t{[not](C subset_eq D)} |- C not_subset_eq D\n",
       "\tA : C, B : D\n",
       "1\tconjecture\t\t|- forall_{A, B | [not](A subset_eq B)} (A not_subset_eq B)\n",
       "\tproveit.logic.sets.inclusion.fold_not_subset_eq\n",
       "2\tassumption\t\t{[not](C subset_eq D)} |- [not](C subset_eq D)"
      ]
     },
     "metadata": {},
     "output_type": "display_data"
    }
   ],
   "source": [
    "NotSubsetEqKT.proof()"
   ]
  },
  {
   "cell_type": "markdown",
   "metadata": {},
   "source": [
    "<font size=3>And of course we have similar fold and unfold theorems for the negated superset or negated containment relation $\\not\\supseteq$. For example:</font>"
   ]
  },
  {
   "cell_type": "code",
   "execution_count": 75,
   "metadata": {},
   "outputs": [
    {
     "data": {
      "text/html": [
       "<span style=\"font-size:20px;\"><a class=\"ProveItLink\" href=\"../__pv_it/demonstrations/5dc289aac46b84625edbefe5581e9238bf54e15d0/expr.ipynb\"><img src=\"data:image/png;base64,iVBORw0KGgoAAAANSUhEUgAAADwAAAAYBAMAAABU74NhAAAAMFBMVEX///8AAAAAAAAAAAAAAAAA\n",
       "AAAAAAAAAAAAAAAAAAAAAAAAAAAAAAAAAAAAAAAAAAAv3aB7AAAAD3RSTlMAEHa7q2Yiie9Umd0y\n",
       "zUTye3nKAAAACXBIWXMAAA7EAAAOxAGVKw4bAAABLklEQVQoz2NgQAM8DHgBN37pIHQBRmUXV7YC\n",
       "GO8ihGKy/+xi7AZiaSgycK4OADKkd+/efWsBVBn/BQaG+AkMDMJ7gJz1CVBR6X1QxnkFBgauBgaG\n",
       "GwJAzguY2bmyByAMfSDN95WB/SeIcwomXclmAGHYAzHbd4b8DSCODEx6A4MZhPEZFAZfGOoVkH3B\n",
       "WsBQCQmdTyDed4b9CcjSvAIMKyEe+wMkWP4x9IN5AlDpIwwM28AM5g8gzzUw7AdxOKHOZfBh4IQ4\n",
       "jR9ExQdAfMwOC8ALDKcF4N5mbGZgyAc5rRAqzR543AzhbWZgwHF+ZWB4DtEhvXv/3pVQhfeBgbIL\n",
       "xJAy8XoAc/h0GMP5v4uzVQJ65F3DG9c8BvhkpfcDY3S3A7kJKRy/9EX80hg+YQAARqVEN7+1J/UA\n",
       "AAAASUVORK5CYII=\n",
       "\" style=\"display:inline;vertical-align:middle;\" /></a> <a class=\"ProveItLink\" href=\"../__pv_it/demonstrations/facd67d5e710776931b62919882d3cb78090f0310/proof.ipynb\" style=\"text-decoration: none\">&nbsp;&#x22A2;&nbsp;&nbsp;</a><a class=\"ProveItLink\" href=\"../__pv_it/demonstrations/0c790eb185483844b5ec2414415a9744d59ced260/expr.ipynb\"><img src=\"data:image/png;base64,iVBORw0KGgoAAAANSUhEUgAAAFwAAAAVBAMAAAA5lpTPAAAAMFBMVEX///8AAAAAAAAAAAAAAAAA\n",
       "AAAAAAAAAAAAAAAAAAAAAAAAAAAAAAAAAAAAAAAAAAAv3aB7AAAAD3RSTlMAmd0iq3ZUiRDNZu9E\n",
       "uzLWhN+VAAAACXBIWXMAAA7EAAAOxAGVKw4bAAABgElEQVQoz2NgQAADBvyAGYXHmkBAOU8AMi8d\n",
       "RLRecVlgjq4u9v8V3ytAu6OQxDgmgGzY2sCQqAXiNikpKV2Fyf1kYOD6xsDA2YBQzrgAqOXSAyDj\n",
       "M0zIdB6E5vsKJKSBWgQQyrmBmHMHyIkb4GKdEN+z/gMS54HG7UAozwTiepBv+RBm8E0AU7wfgIR9\n",
       "AQPDLIRycWBIfQJ74gFCcDKY5L8AJN47MDCUIGSAOtm/oodJGZh8DwrB9UDTVzIIAUNASRHIVWNg\n",
       "YPqMrlwGTMaD7PM/wMCQDRE1AeI9QN9+ADsGSTnE7fdBxG+QNSjKmcDK8xCq2RzA1F8g5voFJE4j\n",
       "lKvBQrwAofxRAzzYu0HeTYIIGwIxMAqZQeLs8KjjOHgZEew3Qay1CJNAgZS/gIGnAsIFJgJNMQiT\n",
       "E+jGQwLQwIZbDDJP1kUGIyGy3P/iclcYzNRBiDI9YCAEmBUQbOT0gwOAUiEcXEaRAiVgJSUHFDFb\n",
       "ZE4vQdNRDGQOIKCa1YABADBNUwVIB4n7AAAAAElFTkSuQmCC\n",
       "\" style=\"display:inline;vertical-align:middle;\" /></a></span>"
      ],
      "text/plain": [
       "{C not_superset_eq D} |- [not](C superset_eq D)"
      ]
     },
     "metadata": {},
     "output_type": "display_data"
    }
   ],
   "source": [
    "# unfold the definition to produce a new judgment\n",
    "not_superset_eq(C, D).unfold(assumptions=[not_superset_eq(C, D)])"
   ]
  },
  {
   "cell_type": "code",
   "execution_count": 76,
   "metadata": {},
   "outputs": [
    {
     "data": {
      "text/html": [
       "<strong id=\"NotSupersetEqKT\">NotSupersetEqKT:</strong> <span style=\"font-size:20px;\"><a class=\"ProveItLink\" href=\"../__pv_it/demonstrations/0c790eb185483844b5ec2414415a9744d59ced260/expr.ipynb\"><img src=\"data:image/png;base64,iVBORw0KGgoAAAANSUhEUgAAAFwAAAAVBAMAAAA5lpTPAAAAMFBMVEX///8AAAAAAAAAAAAAAAAA\n",
       "AAAAAAAAAAAAAAAAAAAAAAAAAAAAAAAAAAAAAAAAAAAv3aB7AAAAD3RSTlMAmd0iq3ZUiRDNZu9E\n",
       "uzLWhN+VAAAACXBIWXMAAA7EAAAOxAGVKw4bAAABgElEQVQoz2NgQAADBvyAGYXHmkBAOU8AMi8d\n",
       "RLRecVlgjq4u9v8V3ytAu6OQxDgmgGzY2sCQqAXiNikpKV2Fyf1kYOD6xsDA2YBQzrgAqOXSAyDj\n",
       "M0zIdB6E5vsKJKSBWgQQyrmBmHMHyIkb4GKdEN+z/gMS54HG7UAozwTiepBv+RBm8E0AU7wfgIR9\n",
       "AQPDLIRycWBIfQJ74gFCcDKY5L8AJN47MDCUIGSAOtm/oodJGZh8DwrB9UDTVzIIAUNASRHIVWNg\n",
       "YPqMrlwGTMaD7PM/wMCQDRE1AeI9QN9+ADsGSTnE7fdBxG+QNSjKmcDK8xCq2RzA1F8g5voFJE4j\n",
       "lKvBQrwAofxRAzzYu0HeTYIIGwIxMAqZQeLs8KjjOHgZEew3Qay1CJNAgZS/gIGnAsIFJgJNMQiT\n",
       "E+jGQwLQwIZbDDJP1kUGIyGy3P/iclcYzNRBiDI9YCAEmBUQbOT0gwOAUiEcXEaRAiVgJSUHFDFb\n",
       "ZE4vQdNRDGQOIKCa1YABADBNUwVIB4n7AAAAAElFTkSuQmCC\n",
       "\" style=\"display:inline;vertical-align:middle;\" /></a> <a class=\"ProveItLink\" href=\"../__pv_it/demonstrations/c55377a92c0fab7e87c40a53d84dfb203c777c4c0/proof.ipynb\" style=\"text-decoration: none\">&nbsp;&#x22A2;&nbsp;&nbsp;</a><a class=\"ProveItLink\" href=\"../__pv_it/demonstrations/5dc289aac46b84625edbefe5581e9238bf54e15d0/expr.ipynb\"><img src=\"data:image/png;base64,iVBORw0KGgoAAAANSUhEUgAAADwAAAAYBAMAAABU74NhAAAAMFBMVEX///8AAAAAAAAAAAAAAAAA\n",
       "AAAAAAAAAAAAAAAAAAAAAAAAAAAAAAAAAAAAAAAAAAAv3aB7AAAAD3RSTlMAEHa7q2Yiie9Umd0y\n",
       "zUTye3nKAAAACXBIWXMAAA7EAAAOxAGVKw4bAAABLklEQVQoz2NgQAM8DHgBN37pIHQBRmUXV7YC\n",
       "GO8ihGKy/+xi7AZiaSgycK4OADKkd+/efWsBVBn/BQaG+AkMDMJ7gJz1CVBR6X1QxnkFBgauBgaG\n",
       "GwJAzguY2bmyByAMfSDN95WB/SeIcwomXclmAGHYAzHbd4b8DSCODEx6A4MZhPEZFAZfGOoVkH3B\n",
       "WsBQCQmdTyDed4b9CcjSvAIMKyEe+wMkWP4x9IN5AlDpIwwM28AM5g8gzzUw7AdxOKHOZfBh4IQ4\n",
       "jR9ExQdAfMwOC8ALDKcF4N5mbGZgyAc5rRAqzR543AzhbWZgwHF+ZWB4DtEhvXv/3pVQhfeBgbIL\n",
       "xJAy8XoAc/h0GMP5v4uzVQJ65F3DG9c8BvhkpfcDY3S3A7kJKRy/9EX80hg+YQAARqVEN7+1J/UA\n",
       "AAAASUVORK5CYII=\n",
       "\" style=\"display:inline;vertical-align:middle;\" /></a></span><br>"
      ],
      "text/plain": [
       "<IPython.core.display.HTML object>"
      ]
     },
     "metadata": {},
     "output_type": "display_data"
    }
   ],
   "source": [
    "# or automatically fold the definition when deriving the alternative judgment\n",
    "NotSupersetEqKT = not_superset_eq(C, D).prove(assumptions=[Not(superset_eq(C, D))])"
   ]
  },
  {
   "cell_type": "markdown",
   "metadata": {},
   "source": [
    "<div style=\"width: 90%; border: 5px solid green; padding: 10px; margin: 0px;\"><a id='demo06'></a><font size=4><b>6.</b> Containment Reversals (such as $A \\subset B \\Rightarrow B \\supset A$).</font></div><br/>\n",
    "<font size=3>Reversals are actually simply style variants so it is easy to go back and forth between these.\n",
    "</font>"
   ]
  },
  {
   "cell_type": "markdown",
   "metadata": {},
   "source": [
    "<font size=3>We have a theorem, ``int_within_real``, that the integer numbers are a proper subset of the real numbers: $\\mathbb{Z} \\subset \\mathbb{R}$:\n",
    "</font>"
   ]
  },
  {
   "cell_type": "code",
   "execution_count": 77,
   "metadata": {},
   "outputs": [
    {
     "data": {
      "text/html": [
       "<span style=\"font-size:20px;\"> <a class=\"ProveItLink\" href=\"../../../../numbers/number_sets/real_numbers/_theory_nbs_/proofs/int_within_real/thm_proof.ipynb\" style=\"text-decoration: none\">&nbsp;&#x22A2;&nbsp;&nbsp;</a><a class=\"ProveItLink\" href=\"../../../../numbers/number_sets/real_numbers/__pv_it/theorems/d911ac0099c6d24e83b098bda39304689414ae990/expr.ipynb\"><img src=\"data:image/png;base64,iVBORw0KGgoAAAANSUhEUgAAADkAAAAQBAMAAABelcpIAAAAMFBMVEX///+6urru7u7c3Nx2dnZm\n",
       "ZmbMzMxUVFSIiIiYmJgiIiJEREQQEBAyMjKqqqoAAAB4Cw+YAAAAAXRSTlMAQObYZgAAAAlwSFlz\n",
       "AAAOxAAADsQBlSsOGwAAAPdJREFUGNNj4Lvz5/aqPRMYUMDc0/tvnQaJcWxPYLjAy4AGNpgziM9W\n",
       "YGBgDWDgmOCHIWvCwM1WwMDAbsCgzbQBiyyrwQUGBiYGhjD2BIgYx65Vq1YlwGXBetgKUiGSbFcM\n",
       "kPSyKxWAWNwKmyBCWgbIJme/BXOfcDZAhAqR7LW59asJzIL75wKyq2bqQpzywJGBQQFsP7IstyY4\n",
       "hLSZgW4rBjKYUWTZAsCuKQP6mOkDiLUAxb9h1iDzAkSBQQKWiESR1eaYAPLPJQbmfWCP8wogZE0Z\n",
       "OCdsZGCQ2Xt69/nTDiAhpu1CiDjazLD7/gOU0GX0hoUkFAAAgENHIzesBvIAAAAASUVORK5CYII=\n",
       "\" style=\"display:inline;vertical-align:middle;\" /></a></span>"
      ],
      "text/plain": [
       "|- Integer proper_subset Real"
      ]
     },
     "metadata": {},
     "output_type": "display_data"
    }
   ],
   "source": [
    "int_within_real"
   ]
  },
  {
   "cell_type": "markdown",
   "metadata": {},
   "source": [
    "<font size=3>We can create the equivalent superset expression, $\\mathbb{R} \\supset \\mathbb{Z}$, and its proof is the same as that of $\\mathbb{Z} \\supset \\mathbb{R}$ because Prove-It regards these as the same expression but presented with a different <em>style</em>.\n",
    "</font>"
   ]
  },
  {
   "cell_type": "code",
   "execution_count": 78,
   "metadata": {},
   "outputs": [
    {
     "data": {
      "text/html": [
       "<strong id=\"reals_contain_integer_kt\">reals_contain_integer_kt:</strong> <span style=\"font-size:20px;\"> <a class=\"ProveItLink\" href=\"../../../../numbers/number_sets/real_numbers/_theory_nbs_/proofs/int_within_real/thm_proof.ipynb\" style=\"text-decoration: none\">&nbsp;&#x22A2;&nbsp;&nbsp;</a><a class=\"ProveItLink\" href=\"../__pv_it/demonstrations/428c137164f57ed3624cad17bb49eb14c0d9b8240/expr.ipynb\"><img src=\"data:image/png;base64,iVBORw0KGgoAAAANSUhEUgAAADkAAAAQBAMAAABelcpIAAAAMFBMVEX///8AAAAAAAAAAAAAAAAA\n",
       "AAAAAAAAAAAAAAAAAAAAAAAAAAAAAAAAAAAAAAAAAAAv3aB7AAAAD3RSTlMAZs3vu90iq0QQiTKZ\n",
       "VHZ+Ip2vAAAACXBIWXMAAA7EAAAOxAGVKw4bAAAA+0lEQVQY02MQMvFXNRFgQAOX7I1cQwyBDId0\n",
       "hnaRCWiyT6oZmBgUQLJZDCzcBWiyZxgYHnJdgMjyJCigyZYxcDpMYYDJOoBYU0NDQ/0gshMYeDZU\n",
       "Q2XZZ8JNzouGMrZzH4DKbrmUADdzKpTpyQJ2qUOy6teXCBu5wZYw8C6QY4DoFZyE7CBNMAnxD0iW\n",
       "ZSJyaKwAk2+5Ghg4wbLcBzyRZE+ACE6HFAYG9gSwq06nIMmCTWTfUMbAMB/i5il8CKN5wZ7bwwH0\n",
       "TylINoeBUcADLrsV7BFPpgkMKVcYGIBx5Mbgon8BIsfZ4waiOEyUXZw/e6EELjAkg86iiAAAQm85\n",
       "0dNUJc8AAAAASUVORK5CYII=\n",
       "\" style=\"display:inline;vertical-align:middle;\" /></a></span><br>"
      ],
      "text/plain": [
       "<IPython.core.display.HTML object>"
      ]
     },
     "metadata": {},
     "output_type": "display_data"
    }
   ],
   "source": [
    "reals_contain_integer_kt = proper_superset(Real, Integer).prove()"
   ]
  },
  {
   "cell_type": "code",
   "execution_count": 79,
   "metadata": {},
   "outputs": [
    {
     "data": {
      "text/html": [
       "<table><tr><th>&nbsp;</th><th>step type</th><th>requirements</th><th>statement</th></tr>\n",
       "<tr><td><a name=\"-0x4e9999a358a6b9_step0\">0</a></td><td>conjecture</td><td></td><td><span style=\"font-size:20px;\"> <a class=\"ProveItLink\" href=\"../../../../numbers/number_sets/real_numbers/_theory_nbs_/proofs/int_within_real/thm_proof.ipynb\" style=\"text-decoration: none\">&nbsp;&#x22A2;&nbsp;&nbsp;</a><a class=\"ProveItLink\" href=\"../../../../numbers/number_sets/real_numbers/__pv_it/theorems/d911ac0099c6d24e83b098bda39304689414ae990/expr.ipynb\"><img src=\"data:image/png;base64,iVBORw0KGgoAAAANSUhEUgAAADkAAAAQBAMAAABelcpIAAAAMFBMVEX///+6urru7u7c3Nx2dnZm\n",
       "ZmbMzMxUVFSIiIiYmJgiIiJEREQQEBAyMjKqqqoAAAB4Cw+YAAAAAXRSTlMAQObYZgAAAAlwSFlz\n",
       "AAAOxAAADsQBlSsOGwAAAPdJREFUGNNj4Lvz5/aqPRMYUMDc0/tvnQaJcWxPYLjAy4AGNpgziM9W\n",
       "YGBgDWDgmOCHIWvCwM1WwMDAbsCgzbQBiyyrwQUGBiYGhjD2BIgYx65Vq1YlwGXBetgKUiGSbFcM\n",
       "kPSyKxWAWNwKmyBCWgbIJme/BXOfcDZAhAqR7LW59asJzIL75wKyq2bqQpzywJGBQQFsP7IstyY4\n",
       "hLSZgW4rBjKYUWTZAsCuKQP6mOkDiLUAxb9h1iDzAkSBQQKWiESR1eaYAPLPJQbmfWCP8wogZE0Z\n",
       "OCdsZGCQ2Xt69/nTDiAhpu1CiDjazLD7/gOU0GX0hoUkFAAAgENHIzesBvIAAAAASUVORK5CYII=\n",
       "\" style=\"display:inline;vertical-align:middle;\" /></a></span></td></tr>\n",
       "<tr><td>&nbsp;</td><td colspan=4 style-\"text-align:left\"><a class=\"ProveItLink\" href=\"../../../../numbers/number_sets/real_numbers/_theory_nbs_/proofs/int_within_real/thm_proof.ipynb\">proveit.numbers.number_sets.real_numbers.int_within_real</a></td></tr></table>"
      ],
      "text/plain": [
       "proveit.numbers.number_sets.real_numbers.int_within_real"
      ]
     },
     "metadata": {},
     "output_type": "display_data"
    }
   ],
   "source": [
    "reals_contain_integer_kt.proof()"
   ]
  },
  {
   "cell_type": "markdown",
   "metadata": {},
   "source": [
    "<div style=\"width: 90%; border: 5px solid green; padding: 10px; margin: 0px;\"><a id='demo07'></a><font size=4><b>7.</b> Deducing $\\{1, 3\\} \\subset \\{1, 2, 3, 4, 5\\}$</font></div><br/>\n",
    "<font size=3>For a variety of finite enumerated sets, represented by the <span style=\"font-family:courier;\">Set</span> class in the <span style=\"font-family:courier;\">set_theory/enumeration</span> package, membership and containment claims can be proven with just a little effort. For example, we can define two enumerated Sets as shown below:\n",
    "</font>"
   ]
  },
  {
   "cell_type": "code",
   "execution_count": 80,
   "metadata": {},
   "outputs": [
    {
     "data": {
      "text/html": [
       "<strong id=\"set_13\">set_13:</strong> <a class=\"ProveItLink\" href=\"../__pv_it/demonstrations/3f79a4677e328d739f84461e4954de52d087969a0/expr.ipynb\"><img src=\"data:image/png;base64,iVBORw0KGgoAAAANSUhEUgAAADAAAAAVBAMAAADyTXAxAAAAMFBMVEX///9ERETMzMxUVFSYmJgQ\n",
       "EBDc3NxmZmYiIiJ2dnaqqqoyMjKIiIi6urru7u4AAAB85a56AAAAAXRSTlMAQObYZgAAAAlwSFlz\n",
       "AAAOxAAADsQBlSsOGwAAANpJREFUKM9jYGDgu8uABrISwNTpe+gSTIYPgCTXPxBb4wFEjG1m4QUG\n",
       "BkYDIJOzAWia+X6oxHMGrl8QMQjBcB4qcX4B32+sElcvMGCXANr5BYfEDQeoGPsGFAkdYwUGBp4A\n",
       "ICvVAc0ooKvYgDh5LwOqBEM8kPl4FwNT4QNkCSUGBvkFDAyzYb6ES/x/AJIAhwbCVSC5YLBRnAFw\n",
       "ifkJDCAvM7ig+cM4frMDQwdQC285KBCRPAh2KNxlaBKcDCgSYF+CwRu4BDg0QL6EgANwiafg0Ei3\n",
       "Qo/aTKAIACEOUCDb/j0xAAAAAElFTkSuQmCC\n",
       "\" style=\"display:inline;vertical-align:middle;\" /></a><br>"
      ],
      "text/plain": [
       "<IPython.core.display.HTML object>"
      ]
     },
     "metadata": {},
     "output_type": "display_data"
    },
    {
     "data": {
      "text/html": [
       "<strong id=\"set_12345\">set_12345:</strong> <a class=\"ProveItLink\" href=\"../__pv_it/demonstrations/12dc3bbdd186bc7f3c4f78b4ed0f0166715fdfe40/expr.ipynb\"><img src=\"data:image/png;base64,iVBORw0KGgoAAAANSUhEUgAAAGsAAAAVBAMAAACzuQ2OAAAAMFBMVEX///9ERETMzMxUVFSYmJgQ\n",
       "EBDc3NxmZmYiIiJ2dnaqqqoyMjKIiIi6urru7u4AAAB85a56AAAAAXRSTlMAQObYZgAAAAlwSFlz\n",
       "AAAOxAAADsQBlSsOGwAAAbtJREFUOMuVlM1LAkEYh39+pK5sS9DdpIIuHSQt+gI99AcE1Vmjwg6B\n",
       "SQcDIYQIOuVCBHWJPQVdyugYQRcP0SEhgi7FQocuQR9URJY2MzuzuiGac5h5dtxn5/V9310Ayi2a\n",
       "Ga49Y724+7fihxJDl4+it0Qm+4Z4VurIz2knWRC39/A1erKuA+0UpQxwny7xH6Yh/Rj0AO+X0Fb5\n",
       "uva5S+ZtoUEW2gAwZdClphT5piy0AJtraFEd4Rij6wKE1n3cSBsEwvzPwfvGQW2okZEVcBPhMcaE\n",
       "FjrvE5o7Z9Xs3xx6g/zYWQjNhwTJbp7iXMSqeQKCRCZVUwNsJLaEBsycwqolK+GS/JDhjFVp7g/S\n",
       "ViMa7EndojnFYZ1Ah0ZhAUKz5eB+JdmgJ9kCFm0fLqMAZZ1rV8Hg+xDbasnA8Qwc6tWZVFhCVMg6\n",
       "owkapGI8izC7lZhtwJZZAImE/ERTOp9KLRs0RuvGCHgB6xjXIvJ6Vd0c/cUQPLSds+Vy0aDWFGll\n",
       "RkiWR0F7GPGlFUu52ThAHfLq5t4fTUUdkmDV5HF+pZyhDj1WtDR7HcVbJZv7tcj0oUyyJT7c3Ldk\n",
       "k1TzF7kehGaj+EznAAAAAElFTkSuQmCC\n",
       "\" style=\"display:inline;vertical-align:middle;\" /></a><br>"
      ],
      "text/plain": [
       "<IPython.core.display.HTML object>"
      ]
     },
     "metadata": {},
     "output_type": "display_data"
    }
   ],
   "source": [
    "set_13, set_12345 = Set(one, three), Set(one, two, three, four, five)"
   ]
  },
  {
   "cell_type": "markdown",
   "metadata": {},
   "source": [
    "<font size=3>and define the proper subset relationship between them:\n",
    "</font>"
   ]
  },
  {
   "cell_type": "code",
   "execution_count": 81,
   "metadata": {},
   "outputs": [
    {
     "data": {
      "text/html": [
       "<strong id=\"set_13_properSubset_set_12345\">set_13_properSubset_set_12345:</strong> <a class=\"ProveItLink\" href=\"../__pv_it/demonstrations/692dac88f3a22de2b3af36210caf72a296d902df0/expr.ipynb\"><img src=\"data:image/png;base64,iVBORw0KGgoAAAANSUhEUgAAALkAAAAVBAMAAADoXVL6AAAAMFBMVEX///9ERETMzMxUVFSYmJgQ\n",
       "EBDc3NxmZmYiIiJ2dnaqqqoyMjKIiIi6urru7u4AAAB85a56AAAAAXRSTlMAQObYZgAAAAlwSFlz\n",
       "AAAOxAAADsQBlSsOGwAAAotJREFUOMuVlc9rE1EQx79N6iZb4yJ48VSDFRT0EE39FZXm4B8gVM9Z\n",
       "qRIVoQYPEQpSWpScbEAURdCcBC+10ptS1EMP4sGACHpQVop4KfgDFTHa+N683X2z+zb+mEN2eDPf\n",
       "z77Mm3kLwHmNmJ1yYZqZ9kezbqvn0zfxSGq7Z6abaT0tD8fF0KB0B1Yk71Lwyuu1NtBXMBSUhi3+\n",
       "a636vTwXKNvsPysPGiJvnXTtSWBpYsUPvMfAD7UWM7nk7H7o04/C/sUFyqb954XvN8XvtUCGXEB/\n",
       "1nI6Peki7NN3AUe4gCwX0NU/T6C/aIPTHzcajakEesXDiMsEZJvm/0YXBf6i6Vuv9tj7HmAkzwRk\n",
       "zX+gvyyHdOdir8oIm+ECKowb0Ief7AjombkIfVtR7Cl3iPx0W9MpjdFTP7lA2jEE9EGMC+WidI+X\n",
       "Y5URLWCpNljNTpXSGD1b4AIqTEgXLS3+6XgLGFtAlC5PDEv3pTekF1Uao9eiAqDfZfTMN1HXfS2k\n",
       "ah6nbwQ2iHfeoJqMsfGlNE3vL0QFwGkE9L45ZD6Lk5IborkM6V1PJqvBRJZVRo1vSL8Dy2UCYc+L\n",
       "xa97aWnVJNIfgbse7xlHRkbpj9rqVDPlpJ6RolQTOU8LHJUzqoK2eMFa4Eoos0WdPsiuOBjp94U4\n",
       "/ZYLGs0T9fo5JiAP+KSC1hkseqzf0zs7w8jKm2xNXV5KAf3tAS9CL1bmy5A31Ey322EC8lDr7qcg\n",
       "qmfPR6aJbDa2UWGv1kdvAupAzxTMmsE4vWnSkbBkwxQ0zaCi+3MpTvVRbDAjFqZhGYZAe8taMUHX\n",
       "f3A953TgXdn8koW3eEjSAu3pHTqH6VEtxUknSwmfs2rp/76rl8UU/AZKwN+m4rMXVwAAAABJRU5E\n",
       "rkJggg==\n",
       "\" style=\"display:inline;vertical-align:middle;\" /></a><br>"
      ],
      "text/plain": [
       "<IPython.core.display.HTML object>"
      ]
     },
     "metadata": {},
     "output_type": "display_data"
    }
   ],
   "source": [
    "set_13_properSubset_set_12345 = ProperSubset(set_13, set_12345)"
   ]
  },
  {
   "cell_type": "code",
   "execution_count": 82,
   "metadata": {},
   "outputs": [
    {
     "data": {
      "text/html": [
       "<span style=\"font-size:20px;\"> <a class=\"ProveItLink\" href=\"../__pv_it/demonstrations/5cc73714721d86f797cfb39f15b25e5cf7ee94e90/proof.ipynb\" style=\"text-decoration: none\">&nbsp;&#x22A2;&nbsp;&nbsp;</a><a class=\"ProveItLink\" href=\"../__pv_it/demonstrations/692dac88f3a22de2b3af36210caf72a296d902df0/expr.ipynb\"><img src=\"data:image/png;base64,iVBORw0KGgoAAAANSUhEUgAAALkAAAAVBAMAAADoXVL6AAAAMFBMVEX///9ERETMzMxUVFSYmJgQ\n",
       "EBDc3NxmZmYiIiJ2dnaqqqoyMjKIiIi6urru7u4AAAB85a56AAAAAXRSTlMAQObYZgAAAAlwSFlz\n",
       "AAAOxAAADsQBlSsOGwAAAotJREFUOMuVlc9rE1EQx79N6iZb4yJ48VSDFRT0EE39FZXm4B8gVM9Z\n",
       "qRIVoQYPEQpSWpScbEAURdCcBC+10ptS1EMP4sGACHpQVop4KfgDFTHa+N683X2z+zb+mEN2eDPf\n",
       "z77Mm3kLwHmNmJ1yYZqZ9kezbqvn0zfxSGq7Z6abaT0tD8fF0KB0B1Yk71Lwyuu1NtBXMBSUhi3+\n",
       "a636vTwXKNvsPysPGiJvnXTtSWBpYsUPvMfAD7UWM7nk7H7o04/C/sUFyqb954XvN8XvtUCGXEB/\n",
       "1nI6Peki7NN3AUe4gCwX0NU/T6C/aIPTHzcajakEesXDiMsEZJvm/0YXBf6i6Vuv9tj7HmAkzwRk\n",
       "zX+gvyyHdOdir8oIm+ECKowb0Ief7AjombkIfVtR7Cl3iPx0W9MpjdFTP7lA2jEE9EGMC+WidI+X\n",
       "Y5URLWCpNljNTpXSGD1b4AIqTEgXLS3+6XgLGFtAlC5PDEv3pTekF1Uao9eiAqDfZfTMN1HXfS2k\n",
       "ah6nbwQ2iHfeoJqMsfGlNE3vL0QFwGkE9L45ZD6Lk5IborkM6V1PJqvBRJZVRo1vSL8Dy2UCYc+L\n",
       "xa97aWnVJNIfgbse7xlHRkbpj9rqVDPlpJ6RolQTOU8LHJUzqoK2eMFa4Eoos0WdPsiuOBjp94U4\n",
       "/ZYLGs0T9fo5JiAP+KSC1hkseqzf0zs7w8jKm2xNXV5KAf3tAS9CL1bmy5A31Ey322EC8lDr7qcg\n",
       "qmfPR6aJbDa2UWGv1kdvAupAzxTMmsE4vWnSkbBkwxQ0zaCi+3MpTvVRbDAjFqZhGYZAe8taMUHX\n",
       "f3A953TgXdn8koW3eEjSAu3pHTqH6VEtxUknSwmfs2rp/76rl8UU/AZKwN+m4rMXVwAAAABJRU5E\n",
       "rkJggg==\n",
       "\" style=\"display:inline;vertical-align:middle;\" /></a></span>"
      ],
      "text/plain": [
       "|- {1, 3} proper_subset {1, 2, 3, 4, 5}"
      ]
     },
     "metadata": {},
     "output_type": "display_data"
    }
   ],
   "source": [
    "set_13_properSubset_set_12345.prove()"
   ]
  },
  {
   "cell_type": "markdown",
   "metadata": {},
   "source": [
    "<font size=3>But the enumerated Set class has some special machinery to help us out:\n",
    "</font>"
   ]
  },
  {
   "cell_type": "code",
   "execution_count": 83,
   "metadata": {},
   "outputs": [
    {
     "data": {
      "text/html": [
       "<span style=\"font-size:20px;\"> <a class=\"ProveItLink\" href=\"../__pv_it/demonstrations/dbb3efd26f54057112808dd7fed990c0e875f53a0/proof.ipynb\" style=\"text-decoration: none\">&nbsp;&#x22A2;&nbsp;&nbsp;</a><a class=\"ProveItLink\" href=\"../__pv_it/demonstrations/e97fabdb15331728f6c57e688417db9971cccee00/expr.ipynb\"><img src=\"data:image/png;base64,iVBORw0KGgoAAAANSUhEUgAAAFQAAAAVCAMAAADvsTk6AAAAP1BMVEX///9jY2MJCQkdHR0NDQ0W\n",
       "FhaqqqqYmJiIiIgiIiLu7u4QEBBUVFS6urp2dnbMzMxEREQyMjJmZmbc3NwAAADjfP4IAAAAAXRS\n",
       "TlMAQObYZgAAAAlwSFlzAAAOxAAADsQBlSsOGwAAAXlJREFUOMuVlem6xBAMhp0NIZbg/q/1lOqM\n",
       "dTrjhz488cryRRnbjtgvlTHsZkQe70xItStJRt2dYA79aRRDIO9WBu2KpwfSwUCP1gZfw/DlVPTH\n",
       "ZNMcWui2LNQkYKDUQ1Uol/LGDksatJ6gwFbQnIgBKjNPJWrsdDHB1KVYevj7BXoPanSOqYPiOacm\n",
       "q4akYuje9bTmXIx2DFKT91x2RewTqAEx2bkkGynlTAg5lI1eQJ3EKzD5LA608qFZpCxqcRf+Wf1Y\n",
       "v4cbvr1WA8DP9zE9diOSYa+hteBZc1SwopO5KsLlfXzBqy3Ulcj9JdTzfm6zM7ETKIyOeNxCU1lX\n",
       "aO08Z4tl44lkJozQRfWvExqb8G0pVISQR+sacXQvoPZslKuHmBCTTiGV0cpS4ff0Ij2giDoRZgJc\n",
       "D4s5nLoeFAu7F0x8WX9Uf9OmTxktVLCHknrL2LIPoNHPe3J+xpRcnA20gQ4iHTrlec/iqGo6rx+4\n",
       "dD8gv/1H2dPmHx2CEuwAg/9jAAAAAElFTkSuQmCC\n",
       "\" style=\"display:inline;vertical-align:middle;\" /></a></span>"
      ],
      "text/plain": [
       "|- 2 not-in {1, 3}"
      ]
     },
     "metadata": {},
     "output_type": "display_data"
    }
   ],
   "source": [
    "NotInSet(two, set_13).prove()"
   ]
  },
  {
   "cell_type": "code",
   "execution_count": 84,
   "metadata": {},
   "outputs": [
    {
     "data": {
      "text/html": [
       "<span style=\"font-size:20px;\"> <a class=\"ProveItLink\" href=\"../__pv_it/demonstrations/5cc73714721d86f797cfb39f15b25e5cf7ee94e90/proof.ipynb\" style=\"text-decoration: none\">&nbsp;&#x22A2;&nbsp;&nbsp;</a><a class=\"ProveItLink\" href=\"../__pv_it/demonstrations/692dac88f3a22de2b3af36210caf72a296d902df0/expr.ipynb\"><img src=\"data:image/png;base64,iVBORw0KGgoAAAANSUhEUgAAALkAAAAVBAMAAADoXVL6AAAAMFBMVEX///9ERETMzMxUVFSYmJgQ\n",
       "EBDc3NxmZmYiIiJ2dnaqqqoyMjKIiIi6urru7u4AAAB85a56AAAAAXRSTlMAQObYZgAAAAlwSFlz\n",
       "AAAOxAAADsQBlSsOGwAAAotJREFUOMuVlc9rE1EQx79N6iZb4yJ48VSDFRT0EE39FZXm4B8gVM9Z\n",
       "qRIVoQYPEQpSWpScbEAURdCcBC+10ptS1EMP4sGACHpQVop4KfgDFTHa+N683X2z+zb+mEN2eDPf\n",
       "z77Mm3kLwHmNmJ1yYZqZ9kezbqvn0zfxSGq7Z6abaT0tD8fF0KB0B1Yk71Lwyuu1NtBXMBSUhi3+\n",
       "a636vTwXKNvsPysPGiJvnXTtSWBpYsUPvMfAD7UWM7nk7H7o04/C/sUFyqb954XvN8XvtUCGXEB/\n",
       "1nI6Peki7NN3AUe4gCwX0NU/T6C/aIPTHzcajakEesXDiMsEZJvm/0YXBf6i6Vuv9tj7HmAkzwRk\n",
       "zX+gvyyHdOdir8oIm+ECKowb0Ief7AjombkIfVtR7Cl3iPx0W9MpjdFTP7lA2jEE9EGMC+WidI+X\n",
       "Y5URLWCpNljNTpXSGD1b4AIqTEgXLS3+6XgLGFtAlC5PDEv3pTekF1Uao9eiAqDfZfTMN1HXfS2k\n",
       "ah6nbwQ2iHfeoJqMsfGlNE3vL0QFwGkE9L45ZD6Lk5IborkM6V1PJqvBRJZVRo1vSL8Dy2UCYc+L\n",
       "xa97aWnVJNIfgbse7xlHRkbpj9rqVDPlpJ6RolQTOU8LHJUzqoK2eMFa4Eoos0WdPsiuOBjp94U4\n",
       "/ZYLGs0T9fo5JiAP+KSC1hkseqzf0zs7w8jKm2xNXV5KAf3tAS9CL1bmy5A31Ey322EC8lDr7qcg\n",
       "qmfPR6aJbDa2UWGv1kdvAupAzxTMmsE4vWnSkbBkwxQ0zaCi+3MpTvVRbDAjFqZhGYZAe8taMUHX\n",
       "f3A953TgXdn8koW3eEjSAu3pHTqH6VEtxUknSwmfs2rp/76rl8UU/AZKwN+m4rMXVwAAAABJRU5E\n",
       "rkJggg==\n",
       "\" style=\"display:inline;vertical-align:middle;\" /></a></span>"
      ],
      "text/plain": [
       "|- {1, 3} proper_subset {1, 2, 3, 4, 5}"
      ]
     },
     "metadata": {},
     "output_type": "display_data"
    }
   ],
   "source": [
    "set_12345.deduce_enum_proper_subset(subset=set_13)"
   ]
  },
  {
   "cell_type": "markdown",
   "metadata": {},
   "source": [
    "<font size=3>And a membership claim such as $2\\in\\{1, 2, 3, 4, 5\\}$ can be proven automatically:\n",
    "</font>"
   ]
  },
  {
   "cell_type": "code",
   "execution_count": 85,
   "metadata": {},
   "outputs": [
    {
     "data": {
      "text/html": [
       "<span style=\"font-size:20px;\"> <a class=\"ProveItLink\" href=\"../__pv_it/demonstrations/d24700c9b68dc2088a4884ef5f35193ca9a6af5f0/proof.ipynb\" style=\"text-decoration: none\">&nbsp;&#x22A2;&nbsp;&nbsp;</a><a class=\"ProveItLink\" href=\"../__pv_it/demonstrations/4327e79b9953d46295f7ab0f43eaab9c28f147f20/expr.ipynb\"><img src=\"data:image/png;base64,iVBORw0KGgoAAAANSUhEUgAAAI8AAAAVBAMAAACNsKCFAAAAMFBMVEX///+qqqqYmJiIiIgiIiLu\n",
       "7u4QEBBUVFS6urp2dnbMzMxEREQyMjJmZmbc3NwAAADzFso2AAAAAXRSTlMAQObYZgAAAAlwSFlz\n",
       "AAAOxAAADsQBlSsOGwAAAiZJREFUOMuVlL9PFEEUx7/c3gJ7xx00FjZyfwKNGIIFMYuUbEJBYaGx\n",
       "EDtOMBKJERujJJpc4Y+K5EIhFQmFBMqzMJpoQYGxOC7ZqNEQQ/CiRwgSzjdvfuzt7W4iL7nZ7858\n",
       "7zPvzcwOEBP2Y5wm8ueSRi4+/G9IGbaPlXWBq30otw12NKjJjOr5jGF3adN4VtVz+qPrARukfsI5\n",
       "bAM5I8DkTkO9GYO9hf4+7RlTz8t/nlP7jH73gRsxIFgaZAxWHVcrqtPSoCK3AjTtYcHnt2HXrcSA\n",
       "jKH7Jno1aPldBHQbWOA1eHI+PiNjoOgvKFGKgijGeU3fJpSmDSKnS7oyX4NmhuYNKPNbtD2++V+u\n",
       "EgZJAz0vzKueL9Cgdew/AAZZpzm9niCB74UwSBq4NLVrJQMCspT/PvdX+f2VS7Em1I/3CIOqRnXK\n",
       "zpTfAsqd0Mm4R6SUnO9KUEnVC4GUAZkysnVWX6FB2QpyR7SqYu6zyIvlSQelZYshkDKgt6FBj+bm\n",
       "Du7KFEfQ9YtKpqkzJVicwUB012xORBiE6iyK0jzpmQIrh7ppPV6Q/FarbfPQmzDIodL5ILNBqFSB\n",
       "zpF9LD1/wSq/hUFPbv94synHJje9FlDXneMZpEe1gdXTGn20LruqzVmp9j5/Cg6kisXXrZ8IxxlE\n",
       "VIcXVW2gcGnqvESUg6hKAlnX9E1pNiBQE4gq7CRcnXVNDNhGDcQo+3rC/bl363R39ks61/8A6Mad\n",
       "3h0GcFcAAAAASUVORK5CYII=\n",
       "\" style=\"display:inline;vertical-align:middle;\" /></a></span>"
      ],
      "text/plain": [
       "|- 2 in {1, 2, 3, 4, 5}"
      ]
     },
     "metadata": {},
     "output_type": "display_data"
    }
   ],
   "source": [
    "InSet(two, set_12345).prove()"
   ]
  },
  {
   "cell_type": "markdown",
   "metadata": {},
   "source": [
    "<font size=3>Enumerated Sets and related axioms, theorems, conjectures, and methods are discussed in much more detail in the set_theory/enumeration theory and the [enumeration demonstrations page](../enumeration/\\_demonstrations\\_.ipynb) page.\n",
    "</font>"
   ]
  },
  {
   "cell_type": "markdown",
   "metadata": {},
   "source": [
    "<div style=\"width: 90%; border: 5px solid green; padding: 10px; margin: 0px;\"><a id='demo08'></a><font size=4><b>8.</b> Manually Proving $\\{1, 3, 5\\} \\subseteq \\{1, 2, 3, 4, 5\\}$</font></div><br/>\n",
    "<font size=3><p>Although the enumerated <span style=\"font-family:courier;\">Set</span> class has machinery to make subset deductions fairly easy (as seen above in <a href=\"#demo07\">Demo 7</a>), it can be a useful exercise to consider a more manual approach. So let's consider a possible alternative effort to prove that $\\{1, 3, 5\\} \\subseteq \\{1, 2, 3, 4, 5\\}$.</p></font>"
   ]
  },
  {
   "cell_type": "markdown",
   "metadata": {},
   "source": [
    "<font size=3>We begin by defining our enumerated Sets and the subset relationship:</font>"
   ]
  },
  {
   "cell_type": "code",
   "execution_count": 86,
   "metadata": {},
   "outputs": [
    {
     "data": {
      "text/html": [
       "<strong id=\"set_135\">set_135:</strong> <a class=\"ProveItLink\" href=\"../__pv_it/demonstrations/3b5beeb0fe060f6a7e88b8e3a253a758055f1c950/expr.ipynb\"><img src=\"data:image/png;base64,iVBORw0KGgoAAAANSUhEUgAAAEMAAAAVBAMAAADvM06qAAAAMFBMVEX///9ERETMzMxUVFSYmJgQ\n",
       "EBDc3NxmZmYiIiJ2dnaqqqoyMjKIiIi6urru7u4AAAB85a56AAAAAXRSTlMAQObYZgAAAAlwSFlz\n",
       "AAAOxAAADsQBlSsOGwAAATFJREFUKM9jYGDgu8uAC7Atg9Cn72GVVmDgS2BQlgMxuf4BCaY+mL6Z\n",
       "hRcgrPjdHQ8YGIRBTM4GBobH1f+gSp4zcP2CsFp/zAOSM2BKGHhgSs4v4PsNYRmASSxKrl5gIKQE\n",
       "6LYvBJXccIDQJieNYErYN6Ao0TFWgDDkGPKBfjsKYqY6oFn0C8ZiBJqfv4CBIXkvA6oShvgHUAb7\n",
       "N2DQWy9gYCp8gKxEiYFBfgHYiA0M7J+ALgWZwGiArOT/A6gS1gYG5g8MDOsfIPuIDyQTDLIIxOIE\n",
       "qhJgYJgK9zQn0Nr3IK+5gMIFxGIrYDj6AClcmE1/mzBwgKKStxwYjWBWenEdStCBwToGTBaakgkM\n",
       "mCywEp4AKI/vAAMGi6EanIhgockDF0ew+ELAVLoV7rQ7GRhGAJSfW8CNT0xEAAAAAElFTkSuQmCC\n",
       "\" style=\"display:inline;vertical-align:middle;\" /></a><br>"
      ],
      "text/plain": [
       "<IPython.core.display.HTML object>"
      ]
     },
     "metadata": {},
     "output_type": "display_data"
    },
    {
     "data": {
      "text/html": [
       "<strong id=\"set_12345\">set_12345:</strong> <a class=\"ProveItLink\" href=\"../__pv_it/demonstrations/12dc3bbdd186bc7f3c4f78b4ed0f0166715fdfe40/expr.ipynb\"><img src=\"data:image/png;base64,iVBORw0KGgoAAAANSUhEUgAAAGsAAAAVBAMAAACzuQ2OAAAAMFBMVEX///9ERETMzMxUVFSYmJgQ\n",
       "EBDc3NxmZmYiIiJ2dnaqqqoyMjKIiIi6urru7u4AAAB85a56AAAAAXRSTlMAQObYZgAAAAlwSFlz\n",
       "AAAOxAAADsQBlSsOGwAAAbtJREFUOMuVlM1LAkEYh39+pK5sS9DdpIIuHSQt+gI99AcE1Vmjwg6B\n",
       "SQcDIYQIOuVCBHWJPQVdyugYQRcP0SEhgi7FQocuQR9URJY2MzuzuiGac5h5dtxn5/V9310Ayi2a\n",
       "Ga49Y724+7fihxJDl4+it0Qm+4Z4VurIz2knWRC39/A1erKuA+0UpQxwny7xH6Yh/Rj0AO+X0Fb5\n",
       "uva5S+ZtoUEW2gAwZdClphT5piy0AJtraFEd4Rij6wKE1n3cSBsEwvzPwfvGQW2okZEVcBPhMcaE\n",
       "FjrvE5o7Z9Xs3xx6g/zYWQjNhwTJbp7iXMSqeQKCRCZVUwNsJLaEBsycwqolK+GS/JDhjFVp7g/S\n",
       "ViMa7EndojnFYZ1Ah0ZhAUKz5eB+JdmgJ9kCFm0fLqMAZZ1rV8Hg+xDbasnA8Qwc6tWZVFhCVMg6\n",
       "owkapGI8izC7lZhtwJZZAImE/ERTOp9KLRs0RuvGCHgB6xjXIvJ6Vd0c/cUQPLSds+Vy0aDWFGll\n",
       "RkiWR0F7GPGlFUu52ThAHfLq5t4fTUUdkmDV5HF+pZyhDj1WtDR7HcVbJZv7tcj0oUyyJT7c3Ldk\n",
       "k1TzF7kehGaj+EznAAAAAElFTkSuQmCC\n",
       "\" style=\"display:inline;vertical-align:middle;\" /></a><br>"
      ],
      "text/plain": [
       "<IPython.core.display.HTML object>"
      ]
     },
     "metadata": {},
     "output_type": "display_data"
    }
   ],
   "source": [
    "set_135, set_12345 = Set(one, three, five), Set(one, two, three, four, five)"
   ]
  },
  {
   "cell_type": "code",
   "execution_count": 87,
   "metadata": {},
   "outputs": [
    {
     "data": {
      "text/html": [
       "<strong id=\"demo_08_subset\">demo_08_subset:</strong> <a class=\"ProveItLink\" href=\"../__pv_it/demonstrations/9e55cc0ebbe350ffa92629dd4d21bd502edffc4d0/expr.ipynb\"><img src=\"data:image/png;base64,iVBORw0KGgoAAAANSUhEUgAAAM0AAAAVBAMAAAAX/3cYAAAAMFBMVEX///9ERETMzMxUVFSYmJgQ\n",
       "EBDc3NxmZmYiIiJ2dnaqqqoyMjKIiIi6urru7u4AAAB85a56AAAAAXRSTlMAQObYZgAAAAlwSFlz\n",
       "AAAOxAAADsQBlSsOGwAAAqFJREFUSMeNlk1oE0EYht8kNX+ui+ClINRgBQ96iKb1X5qDRw+KCp7M\n",
       "ikpUCjX0sEJBi6KsFxsogiJIToIXrXgRpaCHCuLBgAh6UBaCehH8QUWMNn4zszuzO7sbnUPmzU6e\n",
       "eWe/+b6ZADDfILGdtGIe9gNiWvam6J+9jR1OA++R3uBGRxKAuFaCaWF4iMniIpv0sm9+rdEWakn3\n",
       "Pj1MlSOsBth3SzoKrPX62kOHFrqCycI00Jla9AY+oPhLqHztkitGeXvsOM45RIHDKPzRUeC811/4\n",
       "eYM+r/oYDB973jK7QmXkpKyteyLfJwxsAg7oKAzfR0QjxudlG3E+5kUk+NRcjFkaijX3/uVD4f8W\n",
       "45NpJ/lsAcZKGormf/i8qno+u2dL0mcpknyozeioYfk+I083+j65uRC2vuKtLuVmaYONPfzLcMBH\n",
       "A5D+raNH4fsMYYIiscDksaoWN5k0GKRkFd+OBHx0IF/W0ab0oeXS20+0aIZ5aGGoydI8SxvcecDn\n",
       "UsMRoKGjA1bAJ/eDsmh7C+mGG8RWA6taXK0kH4rDdZ4BuaoKUxjAQFlHx+H7pOaQ+0o7ypbGK15i\n",
       "Pdf3OUiJ5BU/tXm16DCAW8haYfRFpfJ9qzhTppH5DNxxg+ljspF97OVNEWTspVGRB+jsdCP5xn+W\n",
       "bsJwNZRrPjdZLQeuSKxAUfzE8mgXKwKu6jAOBc6d14PBc0cBx237tI4CX8DPhuwpLLiB+smMdkeQ\n",
       "Z0fjMpsOQ66y9ubg+RauHwXM9HpdHUWjtwPsAEV98kyoTnm7jahK8EkGpCqqG0XzaSKq+vrEAVIV\n",
       "EPbxKp629REiShQ/dY4j74W+gFIflc8Uv578+jfkc6Xwrhq9h/sBSqm1mvt5V9+WfO+eiBvrB8T9\n",
       "P5ilqvoLJa3sunNm2oQAAAAASUVORK5CYII=\n",
       "\" style=\"display:inline;vertical-align:middle;\" /></a><br>"
      ],
      "text/plain": [
       "<IPython.core.display.HTML object>"
      ]
     },
     "metadata": {},
     "output_type": "display_data"
    }
   ],
   "source": [
    "demo_08_subset = SubsetEq(set_135, set_12345)"
   ]
  },
  {
   "cell_type": "markdown",
   "metadata": {},
   "source": [
    "<font size=3>It turns out that Prove-It can automatically prove that subset relationship for us. We can just call the following, which we've temporarily left commented-out for pedagogical purposes so its proof doesn't interfere with our looking at an alternative manual approach further below:</font>"
   ]
  },
  {
   "cell_type": "code",
   "execution_count": 88,
   "metadata": {},
   "outputs": [],
   "source": [
    "# demo_08_subset.prove()"
   ]
  },
  {
   "cell_type": "markdown",
   "metadata": {},
   "source": [
    "<font size=3>Instead of allowing the automation to do it for us, and instead of utilizing the direct <span style=\"font-family:courier\">Set.deduce_enum_subset_eq()</span> method, consider the <span style=\"font-family:courier\">subset_eq_def</span> axiom, which provides a definition of what it means to say that one set is a (non-strict) subset of another:</font>"
   ]
  },
  {
   "cell_type": "code",
   "execution_count": 89,
   "metadata": {},
   "outputs": [
    {
     "data": {
      "text/html": [
       "<span style=\"font-size:20px;\"> <a class=\"ProveItLink\" href=\"axioms.ipynb#subset_eq_def\" style=\"text-decoration: none\">&nbsp;&#x22A2;&nbsp;&nbsp;</a><a class=\"ProveItLink\" href=\"../__pv_it/axioms/0a73f44893619de306ad70c8de110c34b161d8b90/expr.ipynb\"><img src=\"data:image/png;base64,iVBORw0KGgoAAAANSUhEUgAAATUAAAAWBAMAAABTfhYbAAAAMFBMVEX///+IiIgiIiIQEBB2dnbu\n",
       "7u5ERETMzMzc3NwyMjK6urpmZmaYmJiqqqpUVFQAAAB6qHgnAAAAAXRSTlMAQObYZgAAAAlwSFlz\n",
       "AAAOxAAADsQBlSsOGwAABENJREFUSMfNV11oFEkQrtns7P9uJspJwL9lffBQhFXUQ0EJEuQMGFfF\n",
       "gATCnmCUiLiaQ/DFRIXAvSQLEjnkPHOoiKAYf/AfXH0QJR7JGV+Cgvui4g9ZBTXxRGN1dffszvTM\n",
       "hHu7htqaqe75+uuq7upaAM/WKcSjhVTTlLn/+RPrlAgwyawA2hAXbL+5jYkYiqlhEtiZXp1/cQSm\n",
       "iuzxqcu4x0KwHVc6Y7u+jb7aBjBD5ZZgv/GCC2q8ztEs8LQCcWPqBjP/7gyi57kwvAlhm5ZKpUTI\n",
       "qrIApRyEMwq3aB/+ht3CstnFLvB6uedR7WfxzzoPjha4sMcSn2lfbbm7B6N5vh9i/Qq3IItGl1vU\n",
       "brnYBd4A54aKrdo/5LIQIdh+XpcjT/5Y0T2IpkHEW6LuN7b2tW7c0pY3DETegleVIW6oYuiXsAvI\n",
       "iBD0rDGb+Cf6KrpLKIfRnX+o3B7ib95tu1k6zvxgxwsXiBtTi1KpxS4ol4VgSOEZxdayiqUALWzr\n",
       "NarcqlKpOXUuqFHs0Gue/0p+DfUqeP4icWPqKsBW6lK2NDmEO+UcdNBU+yt6g59qZlHvA5oxRa3I\n",
       "uUVzELDh6fKBOSQKs4yLYD0wEi+WJ25MdUOIAPWfaMTeL/VXcmL0AiEA/dBDg7ork984wDDz5rDq\n",
       "N4Tsthk3SlQf7o77MJh5awuExIuniRtTgYyfNpH/K88ySdDkZl0uBLQdN0t0ln0VkwVwmH8MHzoc\n",
       "cu/WcgLe/aKNqXXywFXhdDm4zl/ambOzFrzgO0JgKm5w7qcXkkpgUnhn57YeoDops4ps1ejJ2Ht8\n",
       "OOHA7R/zKESv8uuj3ajgBsBngyYVL8L9xhTk71CX8Sf/cgg2FOwxxQzm4848WsbqwGGJf/Hhkbrf\n",
       "IBxDKtr0A9fktaGFixUxhcg4bLIFQuLFkzymzBlr6ahowss9MwZeytG/CImwPMOd2fLa3OKzcRt3\n",
       "MO/cc/CbfwTH1Sayx3SR142odGTAAL0tkQY6XFr5NpZ4sSw/C+zDQ7Sg0zCVRtwF/Y0c3SjkEEMc\n",
       "57aTW+SddRhJL8uYacbKLbQSdSFg5CI8CJGcuYsxOcTHmtMRvv+OmV9JPJZjGriCBB2gy/Ul8ggS\n",
       "65EJdg+XpoleiO/6bMtXLyZGR48Q/jynOoScX90JsSOtrTtxpvrGjzJXJEG/YDz5m7+1tGVseL4+\n",
       "QvCZaV5DSsRxBd5p5mnPcZmkGku61kjt0BnkSzIgNCat1uoOA2G9QQ5yhIOm4Swuckivg9BH0Oeb\n",
       "VUs/ONzkThWBI7dQeg2eIkrsLLJfZfeAN94tjmBWBNGVoN8+GlwBDz7UXynf/NuFlHnQYbQuvMu1\n",
       "trxwsiYDXczxl4rQ/FkGKeBZ01JR1KDWRnHbe5M1Azm37d51r766tc12e2W94Ih5g7qAU/Y1GFw8\n",
       "63bVC6sm+b9wwKuTFYhTlkOt3V6A/1P7Du4ZFdZz9LI9AAAAAElFTkSuQmCC\n",
       "\" style=\"display:inline;vertical-align:middle;\" /></a></span>"
      ],
      "text/plain": [
       "|- forall_{A, B} ((A subset_eq B) = [forall_{x in A} (x in B)])"
      ]
     },
     "metadata": {},
     "output_type": "display_data"
    }
   ],
   "source": [
    "from proveit.logic.sets.inclusion  import subset_eq_def\n",
    "subset_eq_def"
   ]
  },
  {
   "cell_type": "markdown",
   "metadata": {},
   "source": [
    "<font size=3>We can instantiate the <span style=\"font-family:courier\">subset_eq_def</span> axiom for our particular case:</font>"
   ]
  },
  {
   "cell_type": "code",
   "execution_count": 90,
   "metadata": {},
   "outputs": [
    {
     "data": {
      "text/html": [
       "<strong id=\"subset_eq_def_specialized\">subset_eq_def_specialized:</strong> <span style=\"font-size:20px;\"> <a class=\"ProveItLink\" href=\"../__pv_it/demonstrations/0e7d03c74f09ded78edf02b64917ff1751f1f06c0/proof.ipynb\" style=\"text-decoration: none\">&nbsp;&#x22A2;&nbsp;&nbsp;</a><a class=\"ProveItLink\" href=\"../__pv_it/demonstrations/03208abcbc04a89f3a7f23d0a9ce69cd020671360/expr.ipynb\"><img src=\"data:image/png;base64,iVBORw0KGgoAAAANSUhEUgAAAgkAAAAZBAMAAABJBaB5AAAAMFBMVEX////MzMxUVFRERES6uroi\n",
       "IiIQEBCYmJhmZmYyMjLu7u52dnaqqqqIiIjc3NwAAACW8nlqAAAAAXRSTlMAQObYZgAAAAlwSFlz\n",
       "AAAOxAAADsQBlSsOGwAABlBJREFUWMPNWW9sFEUUf3tt76573eVCIqLGcBQBiUXA0g+SQIrBqkhi\n",
       "Qzg0akKjRZJq0ot8IkJSqci1JHpRCJGArlQJCUEuNRr/NfYLGGximyqgJSQnxNpYtRBF06Za33v7\n",
       "b3Z39tJLIHWSdmd35838fr95783MHsDMloXpwgwjgHPp3pmGkIOZL7EM/qPJeK8+tI3+jexpEQNZ\n",
       "+ZUG0W+UCnL3UdeV1Anz0m0VNPQHbb8hbZkEtQCzVwVfhBlIigLwASgLsH35wI1RQZN78A/rp92D\n",
       "w4shkQp9eO0nTsqTVpvRT1Zatda30vjmvmA3XoORjhUBU4C55iU6fgDblaWwekGmAr2Ar0pRoU/6\n",
       "tGpChKRn30yGQhJ4XTBVUGk2PsK/ox0Tlme1Qb+l9ubrn1lveQ7q0um02bfHQF8OX9b7TQE2mpeK\n",
       "1qdwxEQjVisNiQqv0OXtEkRQ5f5DIziQ4Aok/gyFJPAiSKhCPGPz1KwetEk4ZQ2UciiTzkfcePQY\n",
       "RAoQbfKbgmYNGXEwQqxNosJsU8fpF0YsV8GBBPcCPBcKSeBFkFCFaIBUeTPMkqnwvpCUPAbRCYj8\n",
       "6zeFW98IqAAtEhVoNhKlrFVRz9236XROokKrAcsKYZBEXi2swtkAKQr7jESFuyBEhUgjRK75TSEv\n",
       "UeGgRAXKTZWlpIWz4s0jQ3JfWAiwLBkGSeR1kFXYJ1Gh/HGrsvjifFeFXJgKFPxX/aZawVZhV3fS\n",
       "VqFbtkZsTaefL0UFQnxy8N3PyX/0QyERgWVLKCSRVzerwNPT4SGlDM63aqtgDNPeefNpSkDS4VNh\n",
       "3oDf9GewhiwzdMxTGieOHRzXaS4pW4WXaRyxvCQJ/Ds6nSohbtOWxjnfulEaz3khKf+EQhJ57WAV\n",
       "niZFt/kjwonTMhxrjO90QYWAwcaAad4ZEqAOLSapckbmC5c9XSNsFExlvfSdg+TVo+t2im6EiGOF\n",
       "2ESEtBJCaTjjc89UMUgOrzOsQjMOtqTeRyrqVOOY9tQl3E2jK4LfIL7cbxorCEO+jjN29DC5jEyF\n",
       "MiNR73hhbT1U4bM7z3Ew5dmFGq7nxWzQTDuxuBmfc8irePDL+30c2otCcnjNs1WAuavEHpQklE2a\n",
       "guUgjmkvwQPAXhe71wDgRfCb/gb2kPejCjijnxLTBpkKVQPOjGZp6kkFOG12x8G+1psTm5mZGYJd\n",
       "rge1Gx5IsVQ4JJFXgxMR5u7Q7mHWhG0XxeR/1dooovcJRwePAVTl4Xef6QPV1X/dw7WtmK2tnZ3J\n",
       "zZ8XILcL/1167fuCxgnBVQHdmp6s3WCIKjDixwoqoapwIfHu1FWhD/RCGCSR12lWYbUn5avUJkU+\n",
       "RC0SeIPu9rG1Z6teH1wjVE5dAENs4JpieQa4ht78LHbF2XG79BzxxSHK3wsqe82ZjbkqaEcY/i81\n",
       "AA86Joi4q34RgcMGA8E1giEpedAMNQSSyGs7q9DtkEpgqNA2Cx/2Z9Rxiv82OG+4O+jyDz07aMdA\n",
       "fyKbbWQD1xTLH8C1EdBa7JVyn1SFYZzFGKxW4CF+dFvS9YUukyUGb6WzMUDE/be/Chv45rBXBRsS\n",
       "/JTN7vGxcSGJvPZxk1tsUpFF44uhgk4jD2fx/EHHDRjZ3SmcI3z7BcegYmpqKmcauKbQPrWUa3r2\n",
       "bvscAZukKkRYWcS/o7a2tlepNlwVFNqN9cIpzJlHbBNEfPxS1V4z8R9daQgquBy2TE2N+9k4kERe\n",
       "m1iFiqSH59fOEc3wun9QhVADWY1V0BvDT9ZKk06RRV6dslU4ltT/xss1GCvAsLsEJsUOHq0Td9Be\n",
       "SMXBMQmChCrwCccllXdgw/RUkBhIa43yc5CtwnAiF8c1U8yOJ6DCiLWoeeiEQTE7Ss5kXhXy0wPH\n",
       "JAgS7eHXgL07pAzoZJuTvo0iwB5O7eZEFDWQ1Xh9vxL+lSX+Xc8Q6CtsFUbf6YE5vUrPYEF5AU5c\n",
       "9OwXGLHk20tTAFJxcMzrivWVhRLzmL1X1JwmbvJVtwWHLGogqx3LyOF7vxWcqLV2TVzMMaoCZ6gu\n",
       "+Re0yQCk4uCY1xpLBR2f67vDj7Z6t+RdMQNZGa3h08y0vriVW65dbkbw+oAK+oB0jJGa0r47Ei+G\n",
       "FMv8H79BW6tBzLyYEJXDN/kb9IyWA5LfIxSJn/14E3+P2Jz5D8k+Lre0E6/sAAAAAElFTkSuQmCC\n",
       "\" style=\"display:inline;vertical-align:middle;\" /></a></span><br>"
      ],
      "text/plain": [
       "<IPython.core.display.HTML object>"
      ]
     },
     "metadata": {},
     "output_type": "display_data"
    }
   ],
   "source": [
    "subset_eq_def_specialized = subset_eq_def.instantiate(\n",
    "        {A:set_135, B:set_12345})"
   ]
  },
  {
   "cell_type": "markdown",
   "metadata": {},
   "source": [
    "<font size=3>If we can prove the rhs of that instantiated form, we can use the equality to conclude the lhs. To get there, we consider the <span style=\"font-family:courier;\">equivalence()</span> method for set membership, which unfolds a set membership claim into a disjunction of equalities, like this:</font>"
   ]
  },
  {
   "cell_type": "code",
   "execution_count": 91,
   "metadata": {},
   "outputs": [
    {
     "data": {
      "text/html": [
       "<strong id=\"InSmallerSetDef\">InSmallerSetDef:</strong> <span style=\"font-size:20px;\"> <a class=\"ProveItLink\" href=\"../__pv_it/demonstrations/2d2d086f6ab808007797d6252ef39bda401911a90/proof.ipynb\" style=\"text-decoration: none\">&nbsp;&#x22A2;&nbsp;&nbsp;</a><a class=\"ProveItLink\" href=\"../__pv_it/demonstrations/1cb67043bd192a5edc32c1429d772c4896f6286b0/expr.ipynb\"><img src=\"data:image/png;base64,iVBORw0KGgoAAAANSUhEUgAAAQEAAAAuBAMAAADaT7GZAAAAMFBMVEX////MzMxUVFRERES6uroi\n",
       "IiIQEBCYmJhmZmYyMjLu7u52dnaqqqqIiIjc3NwAAACW8nlqAAAAAXRSTlMAQObYZgAAAAlwSFlz\n",
       "AAAOxAAADsQBlSsOGwAABQBJREFUWMPtWE2IHEUUfj2/vbM9nVFZECU4m0gSg+IqycFAdC4uIgbH\n",
       "nzUYcxg0QQjIDnowgtEhEnc1ERdRxKCxdVVWIbokCGqEzCUS8bDLHpKDrmkIgSxRkoAiWUL0vVdd\n",
       "3T1TVT0b6WMezMzrmn5ff1X1qup9DQA+aO2zGpjsDwpxIS0rt/XN73q6Zgvga7BW4n+52bQY/KJv\n",
       "niECA5LFue/WCadw6b0tANkquidTIlCa0Ld/i3+t+ThgUGrBjBiq/OhT2NZfR7fPS4eB3TQyADgV\n",
       "PKR8Gb4RTDP8zQyKrXQYFDpnf/3IkxoGuW2wTGEAO9Jh8HP8IveRpx0DyoumwuD9dBjspWmeX3vz\n",
       "j3Sx4IGBQW6z+M3sOlSRDA6lw4A6YsPc7B66OBC1v9HBwJobFE7Wc//CyWqQ/xLn0Qhb9f8z2Iqf\n",
       "V+BVbzVdROvCfbZ7FsJtYz3+e5mcn9IZg234qYgeg7Ude/MYE7it1sWgsCi9t3FH/PRDdG5JjwHA\n",
       "c2LZD4XNN26IM7AqkOVuwz3IABPheyI4nA6DrZxnV+Ar+q1H7XfHGSxblAy2A9wJ4PCAHEsnDzZi\n",
       "19dlGjBNF/OaHYlIFKo0C+Thbc/gWuBMfCGdMcAl5VycauQ40franQyO+lC6RNtfE/cD9s5CeYdc\n",
       "jXvTYTCAY/DW7PGXRSKsfDDOYMXoO00Yoa4/MI4nE3nu+Bp5LsDj6TDIVzo2xcMduzKZ46keM3Dr\n",
       "6TAwnS8hg37QePWEM+2q7V598wnpHATVs2nrOp1WhTKpbz4vkzIqhSLvi6aZ+tWbq6+23N1tY8i5\n",
       "2+kg9+GaXbM0LVl+uPoAM1TP8Pg/fqhYfjPeqAqTsnmRbFJa9MAVKPkMvEkqFmfacGh4GmGilzju\n",
       "kddqUO7eJg3Aox/gGUPAFMCK5Uu9mGHFIoTJWvpaniBxpsDBCmI/V7MUYfHY6YHhib9/CID3B7v7\n",
       "mGFUqT4QB8cu+rorQeKcatPpvZOPGnp4lk88A3A1PJF2BoqlkcBACJM8DfSEKnFCG64BMih4stRa\n",
       "gARgUVERMAaQYnEmkhiwMOnH9LPbisTpmPN/cGR5gEh77IME4GooFDCACh17OqZaFAYsTKj/+VDi\n",
       "HJz75IiyIu7Hp/cz9oIsOU3Aq38dDIAxICASqpaOypMZsDCBQVlFUkCrfIdNj9jD9z7K7ctX4MwX\n",
       "udOZCpQ5EU3AG+B8TQBjANXK+XZMtShjIITJ9QBbZHFd9IuLGSUhaS04PPFWFfKcEEZgyNYFMAaQ\n",
       "XijUItWiMhDCpM93WlJgWKJEUVa5B9YFEOrvuJA5JmCwrwhgDJAMpGpRGQwHe0ufH0mcgrJTXgdw\n",
       "XxtyjWDTOhAy0ABnJ8C+KIAxQM6CVC1qHhwTYfUbYhLnYb/kdebBvx4xcET1mreE+jIAF+qQuSCA\n",
       "MWAjcZqNqRZlDAJhcvLWUOJM1lbFylZhT/MsFMWTy8+LF3EGYIwtDAlgDAiWRKRa4nbUj4TJ5xOh\n",
       "xJm56XV4qOvWF3k/sMWzSkHJbwB2W3DCA7kRDFA61GOqJWasWKQwsduhxJmad8a62ebG8WSCfPAS\n",
       "cl+geA3AZ3e/GSgeDGDF8khSJVtPkjhddqbruifwmeh8WPLLtsRXaN0nUU/gsaDszyZU3qeXKHG4\n",
       "W0Pd664HMAdMdr666K2pJs33Kg/sBcwBrFj+NL929pcocch+V1p6AGPAfzSxdeuO0YwkAAAAAElF\n",
       "TkSuQmCC\n",
       "\" style=\"display:inline;vertical-align:middle;\" /></a></span><br>"
      ],
      "text/plain": [
       "<IPython.core.display.HTML object>"
      ]
     },
     "metadata": {},
     "output_type": "display_data"
    }
   ],
   "source": [
    "InSmallerSetDef = InSet(x, set_135).definition()"
   ]
  },
  {
   "cell_type": "code",
   "execution_count": 92,
   "metadata": {},
   "outputs": [],
   "source": [
    "# replaced by the definition() method above\n",
    "# InSmallerSetDef = InSet(x, set_135).equivalence()"
   ]
  },
  {
   "cell_type": "code",
   "execution_count": 93,
   "metadata": {},
   "outputs": [
    {
     "data": {
      "text/html": [
       "<strong id=\"InLargerSetDef\">InLargerSetDef:</strong> <span style=\"font-size:20px;\"> <a class=\"ProveItLink\" href=\"../__pv_it/demonstrations/b6190c8f8ed38bb485f4147a7a20f5585a5fa1da0/proof.ipynb\" style=\"text-decoration: none\">&nbsp;&#x22A2;&nbsp;&nbsp;</a><a class=\"ProveItLink\" href=\"../__pv_it/demonstrations/605ea6c1ccb7d1f935b223d72c7622a8d6ad81440/expr.ipynb\"><img src=\"data:image/png;base64,iVBORw0KGgoAAAANSUhEUgAAAbMAAAAuBAMAAABQTOqdAAAAMFBMVEX////MzMxUVFRERES6uroi\n",
       "IiIQEBCYmJhmZmYyMjLu7u52dnaqqqqIiIjc3NwAAACW8nlqAAAAAXRSTlMAQObYZgAAAAlwSFlz\n",
       "AAAOxAAADsQBlSsOGwAABilJREFUaN7tmW1oHEUYx597zd3mbnNWAmKRXuJLX0BzlvaDgbb3xSKi\n",
       "eL7Elxgw1FShIDnqB1Ow9WiJuWrFoJVgwboShSpUj4gitpD7orQGzBEwBTXtQgkkiCaViiTEnjPP\n",
       "zNze3s6u0w9tFuzA3M5Onvnf/nd2np37BQBMkJaPs3AVRf+Rfprgq5Isy7uPGqoKKdBMWNNJWg/7\n",
       "y9qEvHuSOmsV9uYO38tn59Sh2mwGCuzY/34XidtM70feT860YXn/V+RPGz7k1vQMjDNHJyCxIkIi\n",
       "aXZ88q9v2QCAY36yFsu7WgO4wK0FTYj2YutCWVsSIT9xa2lrwICfrEXtK2xr1zMSa9FlCF7B1s4s\n",
       "CGuBfU5rUcNH1s7Wn4Q/MOSzloPgJf6HxN+80Rx3Wov7abG9SerJqY9OYZ6cN+QPJF1Yi7xxv7j6\n",
       "88La+l/axIDmtI+sjZBaSN4dy9GT41b/4QZr6yrseFt7iqeWvLDWCQskx0zTZhMmpcEuWh5bbWs9\n",
       "5HrMpuUgzoWVLfUXG6zVLlRkyGaI16YoRG7MAp33RK+PZq2P5AOIMU+B3eRmP47ONmbt1mKZ2oh+\n",
       "1nmgzlqM5BhtI/EWWPSXNZLY2NOmWdd/S6fd2l5+vAlgBy5LvSKshYYhRnJM81Gah/w0az304xFT\n",
       "QxM5q3+zzVqiBH9go2pwa+H29o5dJbwvJH0u8u1LIuejtbYNYDR7F1k5tMxIXtnobi3Az9jaRR9I\n",
       "jb/t0qDhooMome6vMY1kfDRrY+R+3/o6PIQn8bLd2rgJuPnQny4Wc9h6hb7XvmBLsyWDLb0A0wYf\n",
       "ECv5yFor2RfOJIaYJ+32B+uttfe/kwe69Y1Uq9VhbIWLZHsc6UYbO/6sYGvu4BviXkSyPrIWSdm2\n",
       "I1/aNlq4zAxn6wdwtnDArJ/2kE0Fj+0xe385WyVJCwcM+er32nZ597RonARHS6s4W7h90TO+sjYq\n",
       "714QGcW6+ForCc6WRrcvIX8RBL0i7z5YviqVMRp+Hm6UG+VG+T8WE7zYqC4f4C71n8OvtbBliCLW\n",
       "pHs2DDsSqEewE7H+en2FAwCfYzAOmABXzIqI9VxjpzxYL76bciLWhHy7/Ns3W5SFEeWqCkeX3uvG\n",
       "YFopYnXBrAyxxnHnuAm5CPbKgy9C82WOWIN0RAAn5VO5cAEmy6rCDOWqCUOk/1mDBR9jiNUNs+Lv\n",
       "NbbJ3E8/EI67BN8D8AJHrE30y0Mp9z1lcoX+GlIUZihXTRiC+DnAKkWsUfCwBnvwdtBnDm+rS3C/\n",
       "AR0mR6z0p/Y89sp5QrgPWoZVhRnKVRPm1mgwqRSxnvW0NoK7frLEY7jMXYLvBOhIccR6mtQjuCLc\n",
       "njGYzKsKM5SrKMys0WBSKWKlVZvZtPa01NoY8BsbwT4bk7WV5wRinReYhf7olgqHn1IXRpSrKBzc\n",
       "P5ZiwaSO8HmJwVRlkB4R2XSlLWv7sNkmyEk9k7XxncA/ArEGSa6siNsnEw5MtSkLM5TrIVwfHDL0\n",
       "yyyY1B5OtQ7Aa8Z66ax9j801AN0CgVlMtjGRMcQaSEME10ak7CJMM6SiMEO5ysKwlQWT2sdZZIqh\n",
       "cIm1dez5NRMFAS5rTNZWDkENsR6HM2w9Z12E6f9+FIUZylUWhrdNDCZVWAN4ycXaTv6OjJviCmpM\n",
       "1kYi6KPGEesE/+9BNCsVDqQgtKIozFGumjDcR6ylMJhU8UBC+Ap8Jl1r37FRuZudTLZ+rU2AbnLE\n",
       "CpEAIwn0uZEItyyjNSVhjnI9hOuvYjfJ0wz0krqNYVZtS7AXStJZe5m1z90hYbJ1M1GCpCEQa3Iv\n",
       "g3ahilQ4msYHUk0YwxWF6fnzLJjUMZaFE5dO9IYd+Xzc5EmZlE+GJUzWKrPF4mANsWqc+JEMLBNu\n",
       "yuN7TU0YUa6iMMxBcg8LJrWVYVbtrcqZVxs1EbHCE+wkVpYw2bqXWrW6ZCHWI3wqc3LhB4pke6wo\n",
       "jChXVVgvbjDYVZBKEasdszZG57yYbOPcNZw/uhrCGDzLdr9umBVku1bP4MZd68BqCGPwEEes2z3i\n",
       "LioyWZAhVi8wec2EaTAOGHXHrPIv9Ah2fKGWWQVhGowDKGJ1wayYbk1FJgtSxPr79RfGYFL/BQLD\n",
       "JmZGZNOmAAAAAElFTkSuQmCC\n",
       "\" style=\"display:inline;vertical-align:middle;\" /></a></span><br>"
      ],
      "text/plain": [
       "<IPython.core.display.HTML object>"
      ]
     },
     "metadata": {},
     "output_type": "display_data"
    }
   ],
   "source": [
    "InLargerSetDef = InSet(x, set_12345).definition()"
   ]
  },
  {
   "cell_type": "code",
   "execution_count": 94,
   "metadata": {},
   "outputs": [],
   "source": [
    "# replaced by the definition() method above\n",
    "# InLargerSetDef = InSet(x, set_12345).equivalence()"
   ]
  },
  {
   "cell_type": "markdown",
   "metadata": {},
   "source": [
    "<font size=3>We can show that the smaller disjunction $((x=1)\\lor (x=3)\\lor (x=5))$ logically implies the larger disjunction $((x=1)\\lor (x=2)\\lor (x=3)\\lor (x=4)\\lor (x=5))$, and thus that membership in $\\{1, 3, 5\\}$ implies membership in $\\{1, 2, 3, 4, 5\\}$. To get there, we proceed as follows:</font>"
   ]
  },
  {
   "cell_type": "code",
   "execution_count": 95,
   "metadata": {},
   "outputs": [
    {
     "data": {
      "text/html": [
       "<a class=\"ProveItLink\" href=\"../__pv_it/demonstrations/c10828eeae1d094b8a83c4d892e47cc56de3d2040/expr.ipynb\"><img src=\"data:image/png;base64,iVBORw0KGgoAAAANSUhEUgAAAO8AAAAVBAMAAABcV6T1AAAAMFBMVEX////MzMxUVFRERES6uroi\n",
       "IiIQEBCYmJhmZmYyMjLu7u52dnaqqqqIiIjc3NwAAACW8nlqAAAAAXRSTlMAQObYZgAAAAlwSFlz\n",
       "AAAOxAAADsQBlSsOGwAAAt9JREFUSMeNlk1oE0EUx//ZfG022XRRvChiBKlSECPUgwelJ/GgGMUi\n",
       "1h4C1ktBDPVSwWovtS1VzEUEDyVahCr4QU+CPeSitHjIkksvVgIiKCIoeGkoxTdvtkpnZzYOZPbN\n",
       "mze/N2/efARAC6YS7skbbfP/M3xLj1s39p8OaT4abRO+qtGDY8BLCf6gB8UGaGhFUeZea22/v+kF\n",
       "VlStHpxaezDAYKeq7X8y3ab6kRCtmpgHB/RMa+uMo1FHRpihR1S7WasHJ69dqjHYrugjdoXjUSGl\n",
       "hc+4J8RJvek6XlWRHhfymKgOi8oAtrgmcAoRjlMcRYl+31hZ1qd3CF0U3jAHJPYZx2oAS8cEXo5y\n",
       "nOFZL9LvLqe4atpaDTJ8KIQs7Sibd9VylGMCz9DnRfPx27rOcbaAINoSrx7tLWe1Z9diKOYLVC0g\n",
       "iDbJOgPYGlvwGCzmOe4etAV5ol+Uc/8cpzlEy4PrB/OEjaY/ISbBtv08s1hzL9U3eBxJqywYwPFa\n",
       "/jeDB6lupdtWRRdxjpMaKyDJyU7S7G/hdm1/eKmp5z1L24ABFkxg4AiDh8SZtqv6HMd+sjyLJbkl\n",
       "+gAP07rTSdZ7ZPZaOd7eRjBwvyXAQzzO1ztOlIOrYPavY+Bq6K7xEF8HTgR3TKa16VgHPkqOPQEe\n",
       "FK0zLaemy3GuJA99rIjNpUZiA8+35rirzY7fSXJpOzaXWge+Ahxi8DFgrq8bWW3EaenQHeFQEffh\n",
       "9FplKBdnqsBLfV22VvbJrwFMYy8zmA5BY+cdnFIdZzeC8yNuv4uBroDcr/lyQjkh6Qqf4xnZehqk\n",
       "1QD+CneYwTuA+dXcpHqMre412rtJGam8PiiZJTj3/KWb6iRPTtEjgfOyYQcoAzg/daDG4KQHc/mi\n",
       "tM9G2OZLymvQASzvdkNRH4XRCFv1UegIPh4RRFFRxM1/KvBZVXQCz5n7Q36cotk45KcTOO8b+z+F\n",
       "ND+Mtm5oMaLBfwBDfsfV7v8U2AAAAABJRU5ErkJggg==\n",
       "\" style=\"display:inline;vertical-align:middle;\" /></a>"
      ],
      "text/plain": [
       "(x = 1) or (x = 3) or (x = 5)"
      ]
     },
     "metadata": {},
     "output_type": "display_data"
    },
    {
     "data": {
      "text/html": [
       "<a class=\"ProveItLink\" href=\"../__pv_it/demonstrations/7520cb63f3995b4a04755469663bd0049d3d5d8a0/expr.ipynb\"><img src=\"data:image/png;base64,iVBORw0KGgoAAAANSUhEUgAAAaMAAAAVBAMAAAAZX5wbAAAAMFBMVEX////MzMxUVFRERES6uroi\n",
       "IiIQEBCYmJhmZmYyMjLu7u52dnaqqqqIiIjc3NwAAACW8nlqAAAAAXRSTlMAQObYZgAAAAlwSFlz\n",
       "AAAOxAAADsQBlSsOGwAAA5dJREFUWMPFl09IFFEcx7/7f1d3x6XwUkSr9EeE0sAOHSpP0aFoiyIy\n",
       "QSnrIIRLXRTShDA3KpIigg42IYEF1eIpSMhLYXhwEcJL2oAIRQQVXhTLfu83Y8nMe8PrkA7s7G/e\n",
       "fObz9vfm997MArCg2gxvkxq2dC7/32IbTo0oz4eL7hYf+LCn5cPqigPAcxseU5jKTWDS3SiHjfzd\n",
       "NFI5V2uyIIW/vKzTFtPv7NYWR+fvNTBc0ic9X1L1kFJKmCKuFrtN3CqHZ1A6BzwQYVBcEeCb8EQu\n",
       "7sb4iK4YiGR0xYi0nTYZjucUso90PtYtok6x2yV2CngncB5oF2FMdBpKi7BXyqYW8aJPVwy8z+iK\n",
       "EeQ9wVH4pIRWTl/UFg+jAm4zUWMhyiOfpc9nbm2WT6MWlPXpihHooJT0xE5KBL/zTem+iEpp6sZ5\n",
       "+irgrUBNGgke6WH63OSKV9USxnO6YpQmKCVNsZ0SwTdEJU9VbxyWpjQEZyAj3CbgZxOPXnmXpybq\n",
       "PgNnILNcSwWFOHxSXzwtUtIUBzuH0gyL4Ypjotgjvk/wlvmbUgeHFcAUBwLuTu2IC3UPs8ecAvlJ\n",
       "1c6jF6S1r+gMl1QcmKjQFhs5kZKPeCUcMo05hhvpoAtXzO3Su/SWw3VAAwcEx6zYQjAnW5iSXOOB\n",
       "DCJc+5ERhViseJriUiT+RYzdDLdQlMZ1xVzabNenleQVSsABxCW1fFX0+Y3Dfoza87ReIUZ0QVfc\n",
       "xSlpi3HbEnALxxcUKR1wnm0Ja7lnUnoe/YiJkgo3Ow/N/j89S8SBNEKLmmKjyCnpibGHUkoLuJFn\n",
       "7C88lc6lNzadXY/l+gCOWCWmay6NwbCQzNo1GKjFcn1IxGULnJKWOFxZWXOm4Cde+SvO0boLAe+l\n",
       "5aMu2IyC9C5dsuPJLfY3wQP126jEXSNfQMpEzO4xdZFHEaGiVBzNcOHpiRnXFIvjswzTapr8Ptgc\n",
       "9qzLry1ncaXtsVPlBI9vuIZDLnQ2n++xF1fxRDjlTO2MVBzL8XNJT0w3tVZXjE9ItTJcTuyt4uhl\n",
       "t6uy7Q71fNw+iDuXEzw4lex1y5qWluapIOxBtJ+HdOuycvHBPL22aooR3/+jqCs28lUm/4pIWv3n\n",
       "A0bWtVb7wbOu46NrIRaw/QKp2Nxvk76w+22yfS3EDO/zOT/jbvCBjVpXQ8haAzHDAz4peTrygT0d\n",
       "ldSugZhho6g8n/IMhw887Wn5uvpiAf8Gqe9UkqcfyBMAAAAASUVORK5CYII=\n",
       "\" style=\"display:inline;vertical-align:middle;\" /></a>"
      ],
      "text/plain": [
       "(x = 1) or (x = 2) or (x = 3) or (x = 4) or (x = 5)"
      ]
     },
     "metadata": {},
     "output_type": "display_data"
    }
   ],
   "source": [
    "# notice we can grab the disjunction expressions from the equivalence expressions above:\n",
    "display(InSmallerSetDef.rhs)\n",
    "display(InLargerSetDef.rhs)"
   ]
  },
  {
   "cell_type": "markdown",
   "metadata": {},
   "source": [
    "<font size=3>We use the Or.conclude_via_some method to show that the smaller conjunction allows the derivation of the larger conjunction:</font>"
   ]
  },
  {
   "cell_type": "code",
   "execution_count": 96,
   "metadata": {},
   "outputs": [
    {
     "data": {
      "text/html": [
       "<strong id=\"small_disj_gives_larger_disj\">small_disj_gives_larger_disj:</strong> <span style=\"font-size:20px;\"><a class=\"ProveItLink\" href=\"../__pv_it/demonstrations/c10828eeae1d094b8a83c4d892e47cc56de3d2040/expr.ipynb\"><img src=\"data:image/png;base64,iVBORw0KGgoAAAANSUhEUgAAAO8AAAAVBAMAAABcV6T1AAAAMFBMVEX////MzMxUVFRERES6uroi\n",
       "IiIQEBCYmJhmZmYyMjLu7u52dnaqqqqIiIjc3NwAAACW8nlqAAAAAXRSTlMAQObYZgAAAAlwSFlz\n",
       "AAAOxAAADsQBlSsOGwAAAt9JREFUSMeNlk1oE0EUx//ZfG022XRRvChiBKlSECPUgwelJ/GgGMUi\n",
       "1h4C1ktBDPVSwWovtS1VzEUEDyVahCr4QU+CPeSitHjIkksvVgIiKCIoeGkoxTdvtkpnZzYOZPbN\n",
       "mze/N2/efARAC6YS7skbbfP/M3xLj1s39p8OaT4abRO+qtGDY8BLCf6gB8UGaGhFUeZea22/v+kF\n",
       "VlStHpxaezDAYKeq7X8y3ab6kRCtmpgHB/RMa+uMo1FHRpihR1S7WasHJ69dqjHYrugjdoXjUSGl\n",
       "hc+4J8RJvek6XlWRHhfymKgOi8oAtrgmcAoRjlMcRYl+31hZ1qd3CF0U3jAHJPYZx2oAS8cEXo5y\n",
       "nOFZL9LvLqe4atpaDTJ8KIQs7Sibd9VylGMCz9DnRfPx27rOcbaAINoSrx7tLWe1Z9diKOYLVC0g\n",
       "iDbJOgPYGlvwGCzmOe4etAV5ol+Uc/8cpzlEy4PrB/OEjaY/ISbBtv08s1hzL9U3eBxJqywYwPFa\n",
       "/jeDB6lupdtWRRdxjpMaKyDJyU7S7G/hdm1/eKmp5z1L24ABFkxg4AiDh8SZtqv6HMd+sjyLJbkl\n",
       "+gAP07rTSdZ7ZPZaOd7eRjBwvyXAQzzO1ztOlIOrYPavY+Bq6K7xEF8HTgR3TKa16VgHPkqOPQEe\n",
       "FK0zLaemy3GuJA99rIjNpUZiA8+35rirzY7fSXJpOzaXWge+Ahxi8DFgrq8bWW3EaenQHeFQEffh\n",
       "9FplKBdnqsBLfV22VvbJrwFMYy8zmA5BY+cdnFIdZzeC8yNuv4uBroDcr/lyQjkh6Qqf4xnZehqk\n",
       "1QD+CneYwTuA+dXcpHqMre412rtJGam8PiiZJTj3/KWb6iRPTtEjgfOyYQcoAzg/daDG4KQHc/mi\n",
       "tM9G2OZLymvQASzvdkNRH4XRCFv1UegIPh4RRFFRxM1/KvBZVXQCz5n7Q36cotk45KcTOO8b+z+F\n",
       "ND+Mtm5oMaLBfwBDfsfV7v8U2AAAAABJRU5ErkJggg==\n",
       "\" style=\"display:inline;vertical-align:middle;\" /></a> <a class=\"ProveItLink\" href=\"../__pv_it/demonstrations/63b9d41b49b0d2d2609c62b0d857c3fce7bfa43d0/proof.ipynb\" style=\"text-decoration: none\">&nbsp;&#x22A2;&nbsp;&nbsp;</a><a class=\"ProveItLink\" href=\"../__pv_it/demonstrations/7520cb63f3995b4a04755469663bd0049d3d5d8a0/expr.ipynb\"><img src=\"data:image/png;base64,iVBORw0KGgoAAAANSUhEUgAAAaMAAAAVBAMAAAAZX5wbAAAAMFBMVEX////MzMxUVFRERES6uroi\n",
       "IiIQEBCYmJhmZmYyMjLu7u52dnaqqqqIiIjc3NwAAACW8nlqAAAAAXRSTlMAQObYZgAAAAlwSFlz\n",
       "AAAOxAAADsQBlSsOGwAAA5dJREFUWMPFl09IFFEcx7/7f1d3x6XwUkSr9EeE0sAOHSpP0aFoiyIy\n",
       "QSnrIIRLXRTShDA3KpIigg42IYEF1eIpSMhLYXhwEcJL2oAIRQQVXhTLfu83Y8nMe8PrkA7s7G/e\n",
       "fObz9vfm997MArCg2gxvkxq2dC7/32IbTo0oz4eL7hYf+LCn5cPqigPAcxseU5jKTWDS3SiHjfzd\n",
       "NFI5V2uyIIW/vKzTFtPv7NYWR+fvNTBc0ic9X1L1kFJKmCKuFrtN3CqHZ1A6BzwQYVBcEeCb8EQu\n",
       "7sb4iK4YiGR0xYi0nTYZjucUso90PtYtok6x2yV2CngncB5oF2FMdBpKi7BXyqYW8aJPVwy8z+iK\n",
       "EeQ9wVH4pIRWTl/UFg+jAm4zUWMhyiOfpc9nbm2WT6MWlPXpihHooJT0xE5KBL/zTem+iEpp6sZ5\n",
       "+irgrUBNGgke6WH63OSKV9USxnO6YpQmKCVNsZ0SwTdEJU9VbxyWpjQEZyAj3CbgZxOPXnmXpybq\n",
       "PgNnILNcSwWFOHxSXzwtUtIUBzuH0gyL4Ypjotgjvk/wlvmbUgeHFcAUBwLuTu2IC3UPs8ecAvlJ\n",
       "1c6jF6S1r+gMl1QcmKjQFhs5kZKPeCUcMo05hhvpoAtXzO3Su/SWw3VAAwcEx6zYQjAnW5iSXOOB\n",
       "DCJc+5ERhViseJriUiT+RYzdDLdQlMZ1xVzabNenleQVSsABxCW1fFX0+Y3Dfoza87ReIUZ0QVfc\n",
       "xSlpi3HbEnALxxcUKR1wnm0Ja7lnUnoe/YiJkgo3Ow/N/j89S8SBNEKLmmKjyCnpibGHUkoLuJFn\n",
       "7C88lc6lNzadXY/l+gCOWCWmay6NwbCQzNo1GKjFcn1IxGULnJKWOFxZWXOm4Cde+SvO0boLAe+l\n",
       "5aMu2IyC9C5dsuPJLfY3wQP126jEXSNfQMpEzO4xdZFHEaGiVBzNcOHpiRnXFIvjswzTapr8Ptgc\n",
       "9qzLry1ncaXtsVPlBI9vuIZDLnQ2n++xF1fxRDjlTO2MVBzL8XNJT0w3tVZXjE9ItTJcTuyt4uhl\n",
       "t6uy7Q71fNw+iDuXEzw4lex1y5qWluapIOxBtJ+HdOuycvHBPL22aooR3/+jqCs28lUm/4pIWv3n\n",
       "A0bWtVb7wbOu46NrIRaw/QKp2Nxvk76w+22yfS3EDO/zOT/jbvCBjVpXQ8haAzHDAz4peTrygT0d\n",
       "ldSugZhho6g8n/IMhw887Wn5uvpiAf8Gqe9UkqcfyBMAAAAASUVORK5CYII=\n",
       "\" style=\"display:inline;vertical-align:middle;\" /></a></span><br>"
      ],
      "text/plain": [
       "<IPython.core.display.HTML object>"
      ]
     },
     "metadata": {},
     "output_type": "display_data"
    }
   ],
   "source": [
    "small_disj_gives_larger_disj = InLargerSetDef.rhs.conclude_via_some(\n",
    "        InSmallerSetDef.rhs, assumptions=[InSmallerSetDef.rhs])"
   ]
  },
  {
   "cell_type": "markdown",
   "metadata": {},
   "source": [
    "<font size=3>Then re-express that judgment as an implication:</font>"
   ]
  },
  {
   "cell_type": "code",
   "execution_count": 97,
   "metadata": {},
   "outputs": [
    {
     "data": {
      "text/html": [
       "<strong id=\"small_disj_implies_larger_disj\">small_disj_implies_larger_disj:</strong> <span style=\"font-size:20px;\"> <a class=\"ProveItLink\" href=\"../__pv_it/demonstrations/944abf7bd01b081396ff5b4ac71af7293c36be800/proof.ipynb\" style=\"text-decoration: none\">&nbsp;&#x22A2;&nbsp;&nbsp;</a><a class=\"ProveItLink\" href=\"../__pv_it/demonstrations/506d24f519f88923d2a4bd25a708b71cf0fa5d700/expr.ipynb\"><img src=\"data:image/png;base64,iVBORw0KGgoAAAANSUhEUgAAAtcAAAAVBAMAAAB/H9/4AAAAMFBMVEX////MzMxUVFRERES6uroi\n",
       "IiIQEBCYmJhmZmYyMjLu7u52dnaqqqqIiIjc3NwAAACW8nlqAAAAAXRSTlMAQObYZgAAAAlwSFlz\n",
       "AAAOxAAADsQBlSsOGwAABXJJREFUWMO1WVtoHFUY/naTvV+6KH1RpGvQthQ0KcQHBWuegg+KqzRK\n",
       "o9BQow8ByWJfUrB1UWJTq7goUrxQR4PQCmrIk2jBvLQ09CFLQPOgqQMh0CBiKxVMqKn/uczuXM45\n",
       "M7u4B/7JzJnv//5v/3OZfyYAbAhTt+CdohZbjOLuBhf1Me3/J0rX5LdD3PpBhQVhmvZkoOdXLba3\n",
       "4e/REJeQtRk46BBBUeQoXZPfDnEM+IaDucMVaSrgKMWr+jrzc0rs798NAiv+Xg3x5EcjFgevqO4a\n",
       "FGGnFTlKceaDUnfkI1aLTJzc/HCUg5ll68IU7YtTW3T8mJ3GLRaCj/x5JTZbw9ICMpYXrCHGs39/\n",
       "Dw4WDj4qvaLs3s+aTvvY4R7oo6whd7MT+aHEQKIclRiJyectASZLV4Up1zNL9hQ7SzG+nhI7PamG\n",
       "3sK3daRqXrCOuMxhNUgHbzMpwm+W43ScHfZDH+VB4OVO5IcSAz+VoxIjzo9TwpIQpk12kg93hWyD\n",
       "d46p97tx7KB5MAEPWEfMk83BE63OR5yFZ3DkyRZOCbZT1A1RJi302x3IDyVG7Fg5al5kshmYbJFO\n",
       "F03JzvDhvUD2Dt+adEsLSwQ8Aw940ZjsM3AceLtT/jUpEsnmTjl6eKUXDFHuB/pLHcgPJUYuU46c\n",
       "F5FsBiY7TafMvl7+/IcFVbJzPDMbchSRpudAdnXf3RcCk+M5OszDA9YR7/nlXgmeb3Wm5BPGUaSM\n",
       "wpPNndjkS8AUBTjcifxw4qss2RGJ48fnSwJM5kyvWuGBNPOaHmHtmVayU3zI4vRgbzhjlMZyYxpe\n",
       "cGyZ5e8YPGA3cZpjR8pix/hzSIC5g7z1DzwT3onidhTJFlEo3ipgkI/Yv0b5bmK3fCWxC1yssmRH\n",
       "zEuPVbwpwGQvUAdZyk5txauqmZ3nm1GsjATfpBI0zCfwurUnuA7pziV4wDpi0lAR4Evu4ulTSCdu\n",
       "yig82cLpDmAUxiisaOhAfhhxDpl2iPGQAJON09U4q73TdfWeHbvOz8/istjqh9g7ySlVRUnoXfCA\n",
       "dcQ0CbYFeJe78/y4dOKmjMKTLZwydr5mjvJmZ/LDiE/wZEcmxns2B5M5Pw3JhjrZvWOyvj/bJAVe\n",
       "CTygS+i5BQzDA9YQ99SRviHAw+63kE9sd7IVUWSyh+VbRMY2RUGq3Jn8EOJigyc7GjEepmSXOJjM\n",
       "WbR4ys5aqj07XxFLMjYAZ7mgdxtfefemHVtc7UV4wG5i16aXrCB+XYAvuvbsQ7ZnG3GiBPdsGaUi\n",
       "6xed/Cso2ib5LmKvfBVxC9zb19d/ZC5iXvAS1UQiiWSPUgfZ7NBu2otUMzslyAqvDolZ2UB2MD4G\n",
       "38tpsszX4VF4wBpiuk4OCPBRVz0gAjmKVFFksqXTyn0wRYnNoWB1JD+EmMMjErPrFwWYTNZfS3e9\n",
       "hScC9eS2rGlYIXZI9pWRv3FurNdXDqWqvFA9DQ9YQ1ys4WerVePJtoGmEzNVFOBHu+X0Zd0YZX1m\n",
       "Zroz+SHEtBAGohLjGgoTAky2k33dAc6t5k/6cfHdm/RsTYiRE6U7zZcKsu82Lr/mj//4zCAdD8ID\n",
       "1hDj2htvS/DBVud+NJ2YKaP0Tb5fbTqlF4xRDt++vdmZ/BBipB/7qxGVuDiz1xIqyBJUcidK+k+x\n",
       "WPddP23AFiu+2qsUAnY72C6nUMfIUbomvx1iDl7Xfw5qNv8HlikD1v/lxkis++AUqqitKF2T3w4x\n",
       "BzM7IE032gP+uk3/3wus+TsMxBy8prpxIIJj1Chdk98WMQNzh1lpmhbgyA7owQFxBmJ9TmcjOEaN\n",
       "0jX5bREzMHegGp2bpl0N9PyhxRYCg2sgZuCCcjaEKGorStfkt0PMwWT/AQPvVuChyHvWAAAAAElF\n",
       "TkSuQmCC\n",
       "\" style=\"display:inline;vertical-align:middle;\" /></a></span><br>"
      ],
      "text/plain": [
       "<IPython.core.display.HTML object>"
      ]
     },
     "metadata": {},
     "output_type": "display_data"
    }
   ],
   "source": [
    "small_disj_implies_larger_disj = small_disj_gives_larger_disj.as_implication(\n",
    "        hypothesis=InSmallerSetDef.rhs)"
   ]
  },
  {
   "cell_type": "markdown",
   "metadata": {},
   "source": [
    "<font size=3>Now we use our earlier equivalence definitions to back-substitute:</font>"
   ]
  },
  {
   "cell_type": "code",
   "execution_count": 98,
   "metadata": {},
   "outputs": [
    {
     "data": {
      "text/html": [
       "<strong id=\"small_membership_implies_larger_disj\">small_membership_implies_larger_disj:</strong> <span style=\"font-size:20px;\"> <a class=\"ProveItLink\" href=\"../__pv_it/demonstrations/49335915575cb07425e06ea957095de8c8ab1d400/proof.ipynb\" style=\"text-decoration: none\">&nbsp;&#x22A2;&nbsp;&nbsp;</a><a class=\"ProveItLink\" href=\"../__pv_it/demonstrations/0a5bdf11754e0b2d18167e1a40ab1d47565374da0/expr.ipynb\"><img src=\"data:image/png;base64,iVBORw0KGgoAAAANSUhEUgAAAk8AAAAVBAMAAACtYxflAAAAMFBMVEX////MzMxUVFRERES6uroi\n",
       "IiIQEBCYmJhmZmYyMjLu7u52dnaqqqqIiIjc3NwAAACW8nlqAAAAAXRSTlMAQObYZgAAAAlwSFlz\n",
       "AAAOxAAADsQBlSsOGwAABWNJREFUWMPFWFtonFUQns3er12UgijimnqpRU0q7YOF1jwVEYvrJUgv\n",
       "YNBUoSBZ9CUFW4MSG0nF4IWCl7oalVaoLhFBaaH7UmnJQ5aA5sXUH0rAUMULPthQrTNzzn+fsxwf\n",
       "bA7Mn5P/zHwz8505l38BwAGxfTwApvYzmVTkMQeMiLKRWdmxMf+/gf2Eym1xvPxWU3qdAPgcEutw\n",
       "LNURzdpGRGpxoy7KO2Jvfri6wJzsDtdgVgabI57WumRd/HqT6mQuvb0LIFnD7oJkNmtGZLQFyUAo\n",
       "kIk3q1BuRN6WWqIyB2cJjNmPWQNzsqRMUpiS8b7CofUfaKIKYzCnJig9shvfFevYzQslR2gGRIWm\n",
       "jDbQ40bXQGgXoPgnwDvU7SGLBBfMcRmYg7MExgxqtsA6WVJGyTWMRAH8qLkoX4YvlOMefjJR2bG4\n",
       "FaGZEBlNGR2gx0bXQGh3AzwNMErdLKWSrFL3kLxJcHCWwADf1WyBdbKjSjJhp5sHdwpEpYZhTYwo\n",
       "2OfbbXGLFaKIEaKUUZpW1xSYlUea0OdAht2Tr2V+OyRvTyo4O2BI7Eei7IB1sqSMci7k8/2mWFG0\n",
       "ZzViRB3xDa/Vf89pMRPFRkVcx7k2mJVvBeirQp59nkI5zDuJaTVxcHbAUMwjUZbAKllSRpnE7on5\n",
       "D08y+nITDESlHte2B2aqLlEzPmRW74aTWgqLG244JRLFRjTpac/Acx9qT6CbGuhJZ3+5lgGYg7ME\n",
       "Pk9EWQLrZJUBTcRY+a4cWxz1lV4NEZWYv1l1ks0K7rJlrtX97GSQ219q+IiWHMx3xv3Rmk8UGwGi\n",
       "LXoGrvtx1n1Ee/wb6eeZ7sHzr+NOrQSsgrMDrjSIqC7AQWWVLCmj7MGnk13p4WL0S7DyTHTpeVOz\n",
       "GUcvU+fb4AH7Hv/Zo+UgvNi8XawoZXQNwC7XwHcfPZxKPB+JGqQ5jnTbAMzB2QEXIf9fgClZUkYZ\n",
       "pntVTjGU2ItcPso83TEQISqz4vZex3vqR8TLTUHE48P0HNZSVRUpEKWM8k5JnZlB96H2MsXzG6g6\n",
       "P6tCGDAAc3B2wAeZKGtgSpaUUTi/jLrXFvo9heu2BIlKVCHJRQT3oi2u22+Ix+3BG+K7TpAogGcN\n",
       "RG3XN7y84+bjuQ+2LC2q1JC+Oh718hGAdXBWwJUOE2UHrJMlZRRaKPCQU/AOTN3uCRK1ZsUlai8e\n",
       "RxgOl9eZwB610wktPUj9A5+Je9QZhVjX52TQfXCPmoWKAyUVTzqhJpBWiACsg7MCTvX29j3Z6gYc\n",
       "jEInW2fZCjA9cBuuXWqLwoWTPGVqVN3Uw/PhKVzpPCPPB84dXYtblRQ29QxBS6wobbRwi2fguw9U\n",
       "SQvKTcgq1PJz6vs82RGBVXCWwKxuCayTJWUUPFXnrn8FHlQrvB0m6rQDhUu0EBp4VeHeT1De514P\n",
       "Jn3IZf13Rknp92NDqdiJf9rxjT6Z8gx8935bmpgYV8c27Qj6DoxntATMwdkCYwH22wLrZEkZZS3A\n",
       "scXSIaVTWPdAkKjekTcaMEh1cP8EfndSrzKx3v3Wg8d8yI3ud6+Swmudsy9EI2Q01yjX9gx894FL\n",
       "1JUrOC1p/UvPYV1mdRmYg7MEhtx9f3RsgVWypIySroaubl+GPmF4e2zGe0xUpR7/hYfQwohR3/XI\n",
       "LaCb8lLk/4dXA5iVl+RP2xBRRRB6dcNnJ6GZEEH6Vu2qHP1WHV0NYFYm2SYPf+92TkC8x/eTC5LZ\n",
       "NjOi/v1EMDAVSX/kRdJZBWBSZoNpefxXd3X7VxG/92nDFMm0GVEOv4tyLPxC/yoAkzIbVDoykS+Z\n",
       "f0q9eCedreIsEJoBEUSjLsrnY29+ufrArIzyL7evBIgEKHPYAAAAAElFTkSuQmCC\n",
       "\" style=\"display:inline;vertical-align:middle;\" /></a></span><br>"
      ],
      "text/plain": [
       "<IPython.core.display.HTML object>"
      ]
     },
     "metadata": {},
     "output_type": "display_data"
    }
   ],
   "source": [
    "small_membership_implies_larger_disj = InSmallerSetDef.sub_left_side_into(small_disj_implies_larger_disj)"
   ]
  },
  {
   "cell_type": "code",
   "execution_count": 99,
   "metadata": {},
   "outputs": [
    {
     "data": {
      "text/html": [
       "<span style=\"font-size:20px;\"> <a class=\"ProveItLink\" href=\"../__pv_it/demonstrations/b9fcc597a831efde28dc178ea3a9ca3803578c400/proof.ipynb\" style=\"text-decoration: none\">&nbsp;&#x22A2;&nbsp;&nbsp;</a><a class=\"ProveItLink\" href=\"../__pv_it/demonstrations/dadc85db01944ea22eb7cf6ef04d1266ae3761bb0/expr.ipynb\"><img src=\"data:image/png;base64,iVBORw0KGgoAAAANSUhEUgAAATsAAAAVBAMAAADLI1QGAAAAMFBMVEX////MzMxUVFRERES6uroi\n",
       "IiIQEBCYmJhmZmYyMjLu7u52dnaqqqqIiIjc3NwAAACW8nlqAAAAAXRSTlMAQObYZgAAAAlwSFlz\n",
       "AAAOxAAADsQBlSsOGwAAA9dJREFUSMedV12ITFEc/83nzt6ZuTtIiWSs8lFkiQdb2BeSyITF4mFj\n",
       "pbzsxAMeaKIYPNhE8j0+Eg/YVuTjwb5QKLspqwi3pFZklwibrP/533Pm3nHP5JpTe89v7zn/3/md\n",
       "c/4fdwBY0LYLDSjXPgoTUz/2/2yaZj4pUiU7tTOShwu61wHgKgLjaCzcrTX7LzZdS8GwMLSe0GLx\n",
       "72P9rC7BN1yRfrg1wwbRn0dWA6E0wec6M19svfumyVO6u7t4qoGc3bcea6R508WesoDRpie8QUMT\n",
       "z0hCI4cu+1girWvoXTxDsFpzIL7YzDrcs1VdQuKXmhJJ2/2Kb3dsA+A4EMuWJQTeSMLkL1yzFw7y\n",
       "k+VV5bxWvtiCFqLNjN50Gj/VlGdSXtox2Ea3VeojMxubNIThFtR45GGTY1cve19s0QEEfzOa3wAl\n",
       "L7DdKy9awEM3X/hUQbtf4T1Zj7yjjuEw2ftiC2YQ/CwHEt8liFd75VVncYC6K0/P3mXXel9AGXnh\n",
       "lZJ6R0dKyetwlFS1271PNkT6JZinvOG1kjfh5VhlEE/zEeSSU2K84GlnwX0lhIGnY20QKphf6dbY\n",
       "dbaztzVy+2EP+2MDxsisNLo2JcMlq+TVo4/ipoc33Ya19LSqBoK8CyfuzI1/X24xoc2kUY63B66L\n",
       "TJzkzi/b0qKdjNw4lDw6Atpcn1gu0YwWkWpjNlNgA53DMuab1PAXIfmzbAcpm58Tasa4He1yi3j6\n",
       "ZIvVFe1a7Zc7XfJiFDfGJNIX6AezRu2zNhyrEfVuwkAKIXubs0ge3cdtsd58dxk6YUl5/2YDNst+\n",
       "CDCXb8XsVvJCbYhR3MQPC4dvFtcBLLEMNs046013E9YMKHkbgKl06nyU912+12Spy/03GxLt+MRg\n",
       "sCDlhWtrp67j8IpSWPfLMpPIYDZwvmE83b1orzSJVMyLpsXlCkQU62lvHBpbXDlEnpQvNowCXjBa\n",
       "Jy7XkN6ThsFOiCiR3eTQqBPZoWvkHiziKdWdpYT3LHBar8pS3mPUi+QmlVgOOMu/l70vNnNVPp9h\n",
       "tFXkPVmPauoYmTn0FKRBrB3DqfK9Suy1mYxxC92Eta2HshAFGgvy9EkgkJmfqGouljvyZIn3xxYZ\n",
       "HBxsYxTO0ydBZDVLmfulm1Hvrv1qPxEaTJUk+uslZYgdpeBFLM/MeL/yKmJ7BC9ig3f6wl5CGIcG\n",
       "ZcqU/4rY2jWIDfbS3xw9YY8CV+BFnNne6swqYDO6vYjLjCni7byesE/5tWPioIvZckoqYEvCiwxR\n",
       "ZkKWnRG1n/u7Ost+b3+YLLi0vyoqYNNN7xDTXwN/AOkbUVY+bMUUAAAAAElFTkSuQmCC\n",
       "\" style=\"display:inline;vertical-align:middle;\" /></a></span>"
      ],
      "text/plain": [
       "|- (x in {1, 3, 5}) => (x in {1, 2, 3, 4, 5})"
      ]
     },
     "metadata": {},
     "output_type": "display_data"
    }
   ],
   "source": [
    "InLargerSetDef.sub_left_side_into(small_membership_implies_larger_disj)"
   ]
  },
  {
   "cell_type": "markdown",
   "metadata": {},
   "source": [
    "<font size=3>This gives Prove-It all it needs to prove the rhs of our earlier instantiated axiom, $\\forall_{x\\in\\{1, 3, 5\\} } (x\\in\\{1, 2, 3, 4, 5\\})$:</font>"
   ]
  },
  {
   "cell_type": "code",
   "execution_count": 100,
   "metadata": {},
   "outputs": [
    {
     "data": {
      "text/html": [
       "<strong id=\"subset_eq_def_specialized_rhs_kt\">subset_eq_def_specialized_rhs_kt:</strong> <span style=\"font-size:20px;\"> <a class=\"ProveItLink\" href=\"../__pv_it/demonstrations/bba943dbc58b9eb9dba44269b745e04a737396540/proof.ipynb\" style=\"text-decoration: none\">&nbsp;&#x22A2;&nbsp;&nbsp;</a><a class=\"ProveItLink\" href=\"../__pv_it/demonstrations/04931cfd35f77a3858c4d6237ffd3ccc3fe855a00/expr.ipynb\"><img src=\"data:image/png;base64,iVBORw0KGgoAAAANSUhEUgAAAQAAAAAXBAMAAAAW+IzCAAAAMFBMVEX///+IiIgiIiIQEBB2dnbu\n",
       "7u5ERETMzMzc3NwyMjK6urpmZmaYmJiqqqpUVFQAAAB6qHgnAAAAAXRSTlMAQObYZgAAAAlwSFlz\n",
       "AAAOxAAADsQBlSsOGwAAA/ZJREFUSMe1Vl1oFFcU/ja7szM7s9lMKinV1rAsCQVbJIqxULTG0pdU\n",
       "1BHTorWkGnDVPOhCAhKFupIiBW3dCIVSKgRqH0rzkEqhpit2Q0USSu2q5KG0kIVWa6nGPjQkEdL0\n",
       "3J+Z2cmMbYbihdl77r3nnvPd87tA6KEFb78xGErKe/lHi/qPsTJwN/KRtVQBKrAL6h3i102gwrZ+\n",
       "DqG/ti1we5LpV5vl6vTIAUm9s6XbUTws5ujcOeKLM83PAF+zrQ9DANgdvP0yfZ0j09JLe7FdeEQZ\n",
       "xmRZstRU5LypidDG0kQmLLwt+Jc+Lj8aACISQCqPaIvwzDzeKkiWJySAFP/lAJLDDANi5RAAWjyr\n",
       "JzOZgh9AdBqpWU7pL6JOAlDH/QDQimSJDBEmBArVq88agi2QRmrGiY6SmGOJAAAfA2szmXUhABgU\n",
       "g0r97d6t3NcfBLuAOfpPSejPS+IpB8DotpwNYBvwFbDfo+JqyZ84W5wcS9CpgUbzIl/kHZaRRQBO\n",
       "mPJq428yMEs2gLilPSRe7stx4H1oFY8yOniT2/nMDXZXe3WojJjDUkPxMoYfrHscgFudNiwCsNpN\n",
       "UBFhMSRcPV10Y54RtxiemF3D1MbsIHOyWs/N8yuWMRNuaqr2fJSYc+K9QE+GBksh7fdBLwDDTayo\n",
       "2ByrBvANma7zPDMUyTaddxRzMspqOYCj3LF6DosBAGvE4nVH4vH9XgDX7TflEOdP1UwHwCECQELb\n",
       "maRP6CuM0k/9pafzkRI8AAAWP/qxiWoAzAXQZ/EaX7ieO+wBQOXyXU7UTUsA+tTUg5dEEV0LPCAW\n",
       "znuTvq0UypH8nURZvCfpAljOAkm/21mGnrYVxU0o3akWcFkR058FCiN6gQawwI1WmAtECBPND+nq\n",
       "eooJHoTX6OsnyySxT8UQZ+vLOQCUfcKMlFEDdhpQONbO7GnRRWSd9wKIUfVhhU97rlhMK3PsOSWq\n",
       "A5wia+wVVfE0Iq12Gn7J0pI5GXR1PJvNltUpy3XBCQYGCiXNj/Zb1TSUL8yfvherzm6rCkDql7l7\n",
       "qKFGU7OwsFBAhp19XqRmxCnjyN8mO4RW/MPuBVjlJp/G7MbMWJEAlBdwlqKiLqfNQnML8LOeCnGh\n",
       "q7oU8zHhFE3LTzmHAoBmu7Y/VjAoIauCUGlDM761OmBYBKmqAH/3L80I0sVSBfxUmxeAYRc9Y8Xm\n",
       "BmgHJACt/S9T3Yje+rvoKSubX/F0gHg+EMAym1CcwNwBH+UewmAiT3mFdGRFIRJmE1N5cQtSgnv3\n",
       "WbujRpwt00+5h9jJHn8wQJKdcZ+KleXrgSeD/yleCdPT6Z/SfYYn0JoDYhLeSYpFXzjp/2+ofmVa\n",
       "7rFp+we8kPHy9U4EYwAAAABJRU5ErkJggg==\n",
       "\" style=\"display:inline;vertical-align:middle;\" /></a></span><br>"
      ],
      "text/plain": [
       "<IPython.core.display.HTML object>"
      ]
     },
     "metadata": {},
     "output_type": "display_data"
    }
   ],
   "source": [
    "subset_eq_def_specialized_rhs_kt = subset_eq_def_specialized.rhs.prove()"
   ]
  },
  {
   "cell_type": "markdown",
   "metadata": {},
   "source": [
    "<font size=3>And finally we can substitute in for that universally quantified expression our desired subset expression:</font>"
   ]
  },
  {
   "cell_type": "code",
   "execution_count": 101,
   "metadata": {},
   "outputs": [
    {
     "data": {
      "text/html": [
       "<span style=\"font-size:20px;\"> <a class=\"ProveItLink\" href=\"../__pv_it/demonstrations/2483753bd72a8e94e7b8d89151c4479a5c35d2120/proof.ipynb\" style=\"text-decoration: none\">&nbsp;&#x22A2;&nbsp;&nbsp;</a><a class=\"ProveItLink\" href=\"../__pv_it/demonstrations/9e55cc0ebbe350ffa92629dd4d21bd502edffc4d0/expr.ipynb\"><img src=\"data:image/png;base64,iVBORw0KGgoAAAANSUhEUgAAAM0AAAAVBAMAAAAX/3cYAAAAMFBMVEX///9ERETMzMxUVFSYmJgQ\n",
       "EBDc3NxmZmYiIiJ2dnaqqqoyMjKIiIi6urru7u4AAAB85a56AAAAAXRSTlMAQObYZgAAAAlwSFlz\n",
       "AAAOxAAADsQBlSsOGwAAAqFJREFUSMeNlk1oE0EYht8kNX+ui+ClINRgBQ96iKb1X5qDRw+KCp7M\n",
       "ikpUCjX0sEJBi6KsFxsogiJIToIXrXgRpaCHCuLBgAh6UBaCehH8QUWMNn4zszuzO7sbnUPmzU6e\n",
       "eWe/+b6ZADDfILGdtGIe9gNiWvam6J+9jR1OA++R3uBGRxKAuFaCaWF4iMniIpv0sm9+rdEWakn3\n",
       "Pj1MlSOsBth3SzoKrPX62kOHFrqCycI00Jla9AY+oPhLqHztkitGeXvsOM45RIHDKPzRUeC811/4\n",
       "eYM+r/oYDB973jK7QmXkpKyteyLfJwxsAg7oKAzfR0QjxudlG3E+5kUk+NRcjFkaijX3/uVD4f8W\n",
       "45NpJ/lsAcZKGormf/i8qno+u2dL0mcpknyozeioYfk+I083+j65uRC2vuKtLuVmaYONPfzLcMBH\n",
       "A5D+raNH4fsMYYIiscDksaoWN5k0GKRkFd+OBHx0IF/W0ab0oeXS20+0aIZ5aGGoydI8SxvcecDn\n",
       "UsMRoKGjA1bAJ/eDsmh7C+mGG8RWA6taXK0kH4rDdZ4BuaoKUxjAQFlHx+H7pOaQ+0o7ypbGK15i\n",
       "Pdf3OUiJ5BU/tXm16DCAW8haYfRFpfJ9qzhTppH5DNxxg+ljspF97OVNEWTspVGRB+jsdCP5xn+W\n",
       "bsJwNZRrPjdZLQeuSKxAUfzE8mgXKwKu6jAOBc6d14PBc0cBx237tI4CX8DPhuwpLLiB+smMdkeQ\n",
       "Z0fjMpsOQ66y9ubg+RauHwXM9HpdHUWjtwPsAEV98kyoTnm7jahK8EkGpCqqG0XzaSKq+vrEAVIV\n",
       "EPbxKp629REiShQ/dY4j74W+gFIflc8Uv578+jfkc6Xwrhq9h/sBSqm1mvt5V9+WfO+eiBvrB8T9\n",
       "P5ilqvoLJa3sunNm2oQAAAAASUVORK5CYII=\n",
       "\" style=\"display:inline;vertical-align:middle;\" /></a></span>"
      ],
      "text/plain": [
       "|- {1, 3, 5} subset_eq {1, 2, 3, 4, 5}"
      ]
     },
     "metadata": {},
     "output_type": "display_data"
    }
   ],
   "source": [
    "subset_eq_def_specialized.sub_left_side_into(subset_eq_def_specialized_rhs_kt)"
   ]
  },
  {
   "cell_type": "markdown",
   "metadata": {},
   "source": [
    "<font size=3><i>Et voila!</i> Although a bit effortful, and although Prove-It can accomplish the same deduction automatically in this case, the exercise is useful in illustrating a number of common steps and strategies, including an interplay between manual steps and automation, the instantiation of axioms and theorems, and the use of substitutions (in this case via `sub_left_side_into()`) between established judgments.</font>"
   ]
  },
  {
   "cell_type": "markdown",
   "metadata": {},
   "source": [
    "## Miscellaneous Testing\n",
    "<font size=3>The material below was developed to test various containment-related methods. Some of this material could be integrated into the `_demonstrations_` page eventually and/or deleted as development continues.</font>"
   ]
  },
  {
   "cell_type": "markdown",
   "metadata": {},
   "source": [
    "### Some Example `Sets` For Testing"
   ]
  },
  {
   "cell_type": "code",
   "execution_count": 102,
   "metadata": {},
   "outputs": [
    {
     "data": {
      "text/html": [
       "<strong id=\"set_123\">set_123:</strong> <a class=\"ProveItLink\" href=\"../__pv_it/demonstrations/b525e1a908ac39fd855a42ae46345dbfae68e6350/expr.ipynb\"><img src=\"data:image/png;base64,iVBORw0KGgoAAAANSUhEUgAAAEMAAAAVBAMAAADvM06qAAAAMFBMVEX///9ERETMzMxUVFSYmJgQ\n",
       "EBDc3NxmZmYiIiJ2dnaqqqoyMjKIiIi6urru7u4AAAB85a56AAAAAXRSTlMAQObYZgAAAAlwSFlz\n",
       "AAAOxAAADsQBlSsOGwAAATBJREFUKM9jYGDgu8uAC7Atg9Cn7+FUwqAsByK5/gEJpj6YvvKNChBW\n",
       "5nRZICkMYnI2MDA8rv4HVZLIwPkXzOArYFi/gIFhBkwJAw9MiRkDQyiYwfOL4f0GrEriHzDYJ4AY\n",
       "vLEM/NiVWDAw2EMdw7DeAasSIOiH0rwtDFAl7BtQlTD9gdKHjYDkURAz1QFVCYcBjAXyUT4QJ+9l\n",
       "QFVSCGexAgX5rBcwMBU+QFHCAjWESYGB8RfQpSATGA1QlKxkYAN7mv8fWMn6B8g+4gNrnsDA8wDE\n",
       "YjUAWzQV7mnObwzgwGTIKC+vALNYHFDDhdn0twkDBygq+////w1hXS+XZUAOOjBYx4DJQlMygQGT\n",
       "BVbCEwDl8R1gwGAxVIMT0S8ojwcujmDxhYCpdCvcaXcyMPwBuxlX82KGivkAAAAASUVORK5CYII=\n",
       "\" style=\"display:inline;vertical-align:middle;\" /></a><br>"
      ],
      "text/plain": [
       "<IPython.core.display.HTML object>"
      ]
     },
     "metadata": {},
     "output_type": "display_data"
    },
    {
     "data": {
      "text/html": [
       "<strong id=\"set_12345\">set_12345:</strong> <a class=\"ProveItLink\" href=\"../__pv_it/demonstrations/12dc3bbdd186bc7f3c4f78b4ed0f0166715fdfe40/expr.ipynb\"><img src=\"data:image/png;base64,iVBORw0KGgoAAAANSUhEUgAAAGsAAAAVBAMAAACzuQ2OAAAAMFBMVEX///9ERETMzMxUVFSYmJgQ\n",
       "EBDc3NxmZmYiIiJ2dnaqqqoyMjKIiIi6urru7u4AAAB85a56AAAAAXRSTlMAQObYZgAAAAlwSFlz\n",
       "AAAOxAAADsQBlSsOGwAAAbtJREFUOMuVlM1LAkEYh39+pK5sS9DdpIIuHSQt+gI99AcE1Vmjwg6B\n",
       "SQcDIYQIOuVCBHWJPQVdyugYQRcP0SEhgi7FQocuQR9URJY2MzuzuiGac5h5dtxn5/V9310Ayi2a\n",
       "Ga49Y724+7fihxJDl4+it0Qm+4Z4VurIz2knWRC39/A1erKuA+0UpQxwny7xH6Yh/Rj0AO+X0Fb5\n",
       "uva5S+ZtoUEW2gAwZdClphT5piy0AJtraFEd4Rij6wKE1n3cSBsEwvzPwfvGQW2okZEVcBPhMcaE\n",
       "FjrvE5o7Z9Xs3xx6g/zYWQjNhwTJbp7iXMSqeQKCRCZVUwNsJLaEBsycwqolK+GS/JDhjFVp7g/S\n",
       "ViMa7EndojnFYZ1Ah0ZhAUKz5eB+JdmgJ9kCFm0fLqMAZZ1rV8Hg+xDbasnA8Qwc6tWZVFhCVMg6\n",
       "owkapGI8izC7lZhtwJZZAImE/ERTOp9KLRs0RuvGCHgB6xjXIvJ6Vd0c/cUQPLSds+Vy0aDWFGll\n",
       "RkiWR0F7GPGlFUu52ThAHfLq5t4fTUUdkmDV5HF+pZyhDj1WtDR7HcVbJZv7tcj0oUyyJT7c3Ldk\n",
       "k1TzF7kehGaj+EznAAAAAElFTkSuQmCC\n",
       "\" style=\"display:inline;vertical-align:middle;\" /></a><br>"
      ],
      "text/plain": [
       "<IPython.core.display.HTML object>"
      ]
     },
     "metadata": {},
     "output_type": "display_data"
    },
    {
     "data": {
      "text/html": [
       "<strong id=\"set_1234567\">set_1234567:</strong> <a class=\"ProveItLink\" href=\"../__pv_it/demonstrations/8184586d12c4f1c673080ccd41f7c4b8fabdb56c0/expr.ipynb\"><img src=\"data:image/png;base64,iVBORw0KGgoAAAANSUhEUgAAAJIAAAAVBAMAAABf4KrdAAAAMFBMVEX///9ERETMzMxUVFSYmJgQ\n",
       "EBDc3NxmZmYiIiJ2dnaqqqoyMjKIiIi6urru7u4AAAB85a56AAAAAXRSTlMAQObYZgAAAAlwSFlz\n",
       "AAAOxAAADsQBlSsOGwAAAkdJREFUOMullD9oE1Ecx7+5Jne5NJ5ZXWxwcnA4G1ERJBmkS5dAcTUp\n",
       "WuKfwQaHc1FuKTjZcwyK3upiY+vkH8yiKA7NIrioB1JchBQVEaue7/3ee/dyIQShD3Lvy8v3Pne/\n",
       "fwfAeY/drotN2t58+O87ynCaI0fnInYxDvNr4S8/OBiJP0zvYVmqTruv7May2BtPbkgfOh3hW4vj\n",
       "uI6My6TtswCPPZeORdh/hPqMwi9FyrtiX/l5V55c6k/5JG553tWQIOKCTUk6CpwWajN0dhTplSS5\n",
       "SVBPkSmRCIAWxpEaEaoiFW/7UCRjfpQkUsJXSKdjSMeBalnZv0thT4+SMnWdc7s8lsTWqhLvalK8\n",
       "VKQjr2eFyK3fuaZsiwpiddMk47cUhyqqijVF2o/Lop57HyEXSt9J9ivyd1yqpUl5nQxZOxvTOixR\n",
       "scE2rDPyORxiMuvZZ0iT2joDDXE4N0SyfgiSj6zsFpti+vQYRjtKkbLqpgPADAVg9hQp04X1VUTX\n",
       "RVbWI0/dcJtFTe2pSfdhii6II0naU6lUFwLKs4+pbRWkeqeBq7pC144mKEAxcvjJAo/OkaVy4VDC\n",
       "kCuRrcDyVCeFj3yS7HpCutcEtfR51vwY8NBP8X4ixYIpkTKX8SISnb8PW3IG1gIM91OlsVEDn87V\n",
       "ON5B/iYPymMTTArWzLceqdaV6yAbbG9WqqUwRRJVT+r3ABOUtmk1QrKTu4JJStuGlK/ak9YXJZze\n",
       "JJXYhhQNipl8hRJvEZNUb4zaokFpndj1d/wCQ/wDuEO3Mp7i0w4AAAAASUVORK5CYII=\n",
       "\" style=\"display:inline;vertical-align:middle;\" /></a><br>"
      ],
      "text/plain": [
       "<IPython.core.display.HTML object>"
      ]
     },
     "metadata": {},
     "output_type": "display_data"
    }
   ],
   "source": [
    "from proveit.numbers import one, two, three, four, five, six, seven\n",
    "# define some enumerated Sets for use in testing, containing literals\n",
    "set_123, set_12345, set_1234567 = (\n",
    "        Set(one, two , three),\n",
    "        Set(one, two , three, four, five),\n",
    "        Set(one, two , three, four, five, six, seven))"
   ]
  },
  {
   "cell_type": "code",
   "execution_count": 103,
   "metadata": {},
   "outputs": [
    {
     "data": {
      "text/html": [
       "<strong id=\"set_abc\">set_abc:</strong> <a class=\"ProveItLink\" href=\"../__pv_it/demonstrations/7f0d988eadd8e0bfebdd323ed6af87a20c37d2cd0/expr.ipynb\"><img src=\"data:image/png;base64,iVBORw0KGgoAAAANSUhEUgAAAEEAAAAVBAMAAADrxp6XAAAAMFBMVEX///8AAAAAAAAAAAAAAAAA\n",
       "AAAAAAAAAAAAAAAAAAAAAAAAAAAAAAAAAAAAAAAAAAAv3aB7AAAAD3RSTlMAEER2zVSJ3Zki72ar\n",
       "MruaaVGaAAAACXBIWXMAAA7EAAAOxAGVKw4bAAABJklEQVQoz2NgYGBUYsABOCMhtIkiLhUMdx6C\n",
       "SNaPyGJyy1GUvAERbAUoYh4ovHQsKr4SUsH0kZAKNBMRKuYkT4YIsRy2CYCqNd4LVcHhADR7JcN7\n",
       "AbC4vCPjT0hYlDL0MTBYgZizNjAwSG1gaIfojBdgWAxmsCeAGPOBBs5xAnL7GRjKICpaGBi+gRn9\n",
       "YDMZjwQw8PYBmesYGD9BVJQxMEH8uw7iGJB+vgMMjJ8ZuD/AgoMD7F+gENRSsF8YvzLwOEQygHh/\n",
       "QW4CMX4D3c/AkAXz7WOG8IYGxi9A3mmGFwxgBtAjuUjhIWN28/AFhnKgXpkMoNdADLbszQIYYcoq\n",
       "gM5AV8GGwYCoYF4A4wpjMEDBAwxeeHwbYDAYV4OpGUdxptMcYKADAC/PRZ++VkhWAAAAAElFTkSu\n",
       "QmCC\n",
       "\" style=\"display:inline;vertical-align:middle;\" /></a><br>"
      ],
      "text/plain": [
       "<IPython.core.display.HTML object>"
      ]
     },
     "metadata": {},
     "output_type": "display_data"
    },
    {
     "data": {
      "text/html": [
       "<strong id=\"set_abcde\">set_abcde:</strong> <a class=\"ProveItLink\" href=\"../__pv_it/demonstrations/68da35830ca2ee4a13aa6212e5dbb2b8f91fa56f0/expr.ipynb\"><img src=\"data:image/png;base64,iVBORw0KGgoAAAANSUhEUgAAAGkAAAAVBAMAAAC3TN2zAAAAMFBMVEX///9ERETMzMxUVFSYmJgQ\n",
       "EBDc3NxmZmYiIiJ2dnaqqqoyMjKIiIi6urru7u4AAAB85a56AAAAAXRSTlMAQObYZgAAAAlwSFlz\n",
       "AAAOxAAADsQBlSsOGwAAAY5JREFUOMtjYGDgu8tAAmBbBqFP3yNFF4OyHIjk+ocsxifagKmQaWsB\n",
       "Ek8YRHCiKuMuwGI+/wIkzgwsulAUwMD9BwR0oShAUYhP1wxsIbAduy42y2MHIGKbz1hBZeccUYCE\n",
       "teWhX9CgmnP8AVQX+wYgcTWBERKUfL8fvE8AszIWsAuAGXA5hhsKTBMYGI6CmKkOQLUhDOwQhwLj\n",
       "gRViayeUAZLbALH0CwPPBQaGfGB4Je8F2feBgWMCA9RmfjCLHRaNCDnGP2fmgoyxXsDAVAh0KqsA\n",
       "w/sLYBmggvvgsGcVgOpCyPEbgClOkD2MQPb7Awz+8OiqB4f9e2joIMtBhNY/gIbh+wUM1lwJfCAZ\n",
       "BaA/wAygdy+AGAg5kEOB7pgKC3nGA1zt7AzvgZ5mdmAsADOAAcipAGIg5Fg2MDxPQIovPptJyYcY\n",
       "OPqALMsSBjCDYabLOYgIXI7hpMsBLGljHW4GEgtd1wTcDCQWWBdPADxvHcDJQGIxVINj/BeMy4Ob\n",
       "gcQChjEIpFuRVG5MBgY+AJsYfaNN5DH7AAAAAElFTkSuQmCC\n",
       "\" style=\"display:inline;vertical-align:middle;\" /></a><br>"
      ],
      "text/plain": [
       "<IPython.core.display.HTML object>"
      ]
     },
     "metadata": {},
     "output_type": "display_data"
    }
   ],
   "source": [
    "from proveit import a, b, c, d, e\n",
    "# define some enumerated Sets for use in testing, containing variables\n",
    "set_abc, set_abcde = (\n",
    "        Set(a, b, c),\n",
    "        Set(a, b, c, d, e))"
   ]
  },
  {
   "cell_type": "code",
   "execution_count": 104,
   "metadata": {},
   "outputs": [
    {
     "data": {
      "text/html": [
       "<a class=\"ProveItLink\" href=\"../__pv_it/demonstrations/ca44b1f54bb27370b6bdf4406049f49d087da4220/expr.ipynb\"><img src=\"data:image/png;base64,iVBORw0KGgoAAAANSUhEUgAAAHIAAAAZBAMAAAAfwGfXAAAAMFBMVEX///8AAAAAAAAAAAAAAAAA\n",
       "AAAAAAAAAAAAAAAAAAAAAAAAAAAAAAAAAAAAAAAAAAAv3aB7AAAAD3RSTlMAZkRUmRDNuyLviTJ2\n",
       "3asqG0tJAAAACXBIWXMAAA7EAAAOxAGVKw4bAAACE0lEQVQ4y51UMWsUQRT+7nJze8le1tUiNkHu\n",
       "F8RrkrRXRFLYrIWmineQyiJmosQ1CeIWgWAK2TRe6VnaXRG00xMRiRK5wqDlgUQPQkACoocIvpnb\n",
       "nb3ZXUjIg5359pv59r2d994AuIATLRcnKmIYqpysNOLEphhu4AzKTIuGZWDq6ZMHX7YlNf/7noPn\n",
       "vZKOlXKs/nCxbhPYBwo+8P4QedT6a3ezHbCfMRz55I8xcdEBPtHPN4AZ4M1Iub905D0DfA3Puquu\n",
       "awfKLRhmB6g6OEfBdMH4XPDRbzzvoR3DAz63kPMovLyN1+TaQa55GCx1xwu1UKlwTMkpVI49Sbwy\n",
       "w9x0reYHpQyxprSuU7RFH98lsWI4oRLcKLVjWFO+nPKA7C+4shoa41DKHbbfjuGohvijxX/vaDb/\n",
       "4rZ4VzkRuzPlaT+Jlc/zsnQKx/gs5rcjJbBwNw4sP4mV0rgmEsSOpU/GqQ4tL9x9k6loI6yUZmVF\n",
       "+OxHazVpT1XtNls8iaMTuirK3fyDHzTtZCknR/141+n5yDUcGAuUc0Vbnu2uyEneweY0quKYFsRR\n",
       "1jQcmKT4BjL2HWoWH5cdZOu33NXeGkapAV70yAeraTgwQVGv3Ie7VEaug+FS9BOTSMcpFNWt6JXQ\n",
       "BqCGUyjqFTPKF2shFadRl0QrqbfiwEox6VKjvp7yHkLqPTTUOINS3n2nuW8TdgX4D3a8qEluY/kz\n",
       "AAAAAElFTkSuQmCC\n",
       "\" style=\"display:inline;vertical-align:middle;\" /></a>"
      ],
      "text/plain": [
       "(Integer, Natural, NaturalPos, Real)"
      ]
     },
     "metadata": {},
     "output_type": "display_data"
    }
   ],
   "source": [
    "# recall some other basic sets already defined:\n",
    "Integer, Natural, NaturalPos, Real"
   ]
  },
  {
   "cell_type": "markdown",
   "metadata": {},
   "source": [
    "### Testing the `ProperSubset` class methods\n",
    "<br/>\n",
    "<font size =3>The <span style=\"font-family=courier\">ProperSubset</span> class has the following class methods:<br/>\n",
    "    <div style=\"width: 75%; border: 1px solid green; padding: 5px; margin: 20px; background-color: gainsboro; font-family:courier\">conclude(self, **defaults_config)<br/>\n",
    "    unfold(self, **defaults_config)<br/>\n",
    "    derive_relaxed(self, **defaults_config)<br/>\n",
    "    derive_superset_membership(self, element, **defaults_config)<br/>\n",
    "    apply_transitivity(self, other, **defaults_config)<br/>\n",
    "    deduce_in_bool(self, **defaults_config)</div>\n",
    "</font>"
   ]
  },
  {
   "cell_type": "code",
   "execution_count": 105,
   "metadata": {},
   "outputs": [
    {
     "data": {
      "text/html": [
       "<strong id=\"set_123_properSubset_set_12345\">set_123_properSubset_set_12345:</strong> <a class=\"ProveItLink\" href=\"../__pv_it/demonstrations/ee90910fe7d76c129872bb3036d8faf47d66bf0e0/expr.ipynb\"><img src=\"data:image/png;base64,iVBORw0KGgoAAAANSUhEUgAAAM0AAAAVBAMAAAAX/3cYAAAAMFBMVEX///9ERETMzMxUVFSYmJgQ\n",
       "EBDc3NxmZmYiIiJ2dnaqqqoyMjKIiIi6urru7u4AAAB85a56AAAAAXRSTlMAQObYZgAAAAlwSFlz\n",
       "AAAOxAAADsQBlSsOGwAAAmxJREFUSMeFls1rE0EYxp8mNcnGdRG8eKrBCh70oKYWP2kO/gGCem6k\n",
       "SlWEGjxEKEhRKjnZgCiKIDkVetGKN6Wghx7EgwER9KCsFPEi+IEtYrRx5p2dnZ3dndn3kH2Y2d88\n",
       "s++8MxMA3gcY40I9pdEGpERhXjxffTS/k9vrJxttQCwq8OoYHuKyvM7HuynNm48rgbrX6AIDexKs\n",
       "HRCxM3iOP2uxiW7h0pkBVqbXg47TcP4J9QXlP6I3FnZAxPXgOfv7Afu9KzG4EhsFTgn1uuP1jD5m\n",
       "gMKVPiIbKT7jPsbE2r/tIurzotVqXUM2QLHjSZbPAWCsIhfil/LZdcfwPXGAop3pw2JOine10Me7\n",
       "YcpbHKC01aXPyMt90qe4qGO5v4HYXWXzdI+TznfVsHaAxxlInyFMMXKZy7M1HSuFlczLpyBKaGOk\n",
       "DuwApS30YRuDff1UB5hYgo411IhsjbHylKth1ZgFAIP1iE9xjWX9cAe5hq9hg3J224FtbB73KWMT\n",
       "kSMiAwAuQvoMLKL4k60onxrteIUtoCDKtO9zrCw6SpG82QEWb6rV1YPUtGEG+e/AIz9aPh7Ntg3X\n",
       "J3WC0uCIOijWUuotDfDEO0zT2MxqM3A7xByWxW+8js41m1eEOqbtn6WYjwkgBfwAnQ2FS1j2I/sn\n",
       "v783ghI/Guf6/Z5Qm5r8WJQ+n476UR8jQAqN/hHwAxSTl69q+5TiIZIq7H2/VTt3jECoyupGifm0\n",
       "kVSmc9QIhMqB7hPseLasz5FQYvPrYQWU+qqIabqe5KXhqpHUK59ryXvYBiil5uqdpMfkIfO9ez6t\n",
       "zwak/T+4xXbVf+f76978wdeDAAAAAElFTkSuQmCC\n",
       "\" style=\"display:inline;vertical-align:middle;\" /></a><br>"
      ],
      "text/plain": [
       "<IPython.core.display.HTML object>"
      ]
     },
     "metadata": {},
     "output_type": "display_data"
    },
    {
     "data": {
      "text/html": [
       "<strong id=\"set_12345_properSubset_set_1234567\">set_12345_properSubset_set_1234567:</strong> <a class=\"ProveItLink\" href=\"../__pv_it/demonstrations/4141736858019cec0780b186fc7daf76ced125820/expr.ipynb\"><img src=\"data:image/png;base64,iVBORw0KGgoAAAANSUhEUgAAARsAAAAVBAMAAACEflfWAAAAMFBMVEX///9ERETMzMxUVFSYmJgQ\n",
       "EBDc3NxmZmYiIiJ2dnaqqqoyMjKIiIi6urru7u4AAAB85a56AAAAAXRSTlMAQObYZgAAAAlwSFlz\n",
       "AAAOxAAADsQBlSsOGwAAA71JREFUSMellktoE0EYx/95bbppsg32oCLWgEL1ZGnqW2lA8KJIpRVE\n",
       "0EZ8VFFoi8IKRY2oGD3YaClaFJuT4MVG60FRMSAVRdCAB09KQBQPSuujPlpNnJ3HZl8pKd3D7j+z\n",
       "M//vN7PffBMAyltM55JuOLV+yWGGl/B98a7iIREocSyss78IPspX6uEGPlpJNmt35hsoaH0uiDfq\n",
       "7QhTBy7P1/vX82f7gyQJW2uPMaTRLBZIHT2zYDNxd7Gnb/KeCDYwwGIFisXiOPeVE8D7ngLvsQvy\n",
       "PyqULgylhdUp/jzz+zq5X7HjkCZlxWOOI4UxmLOZVDXwZ/s53u9gzpOgQp6tque5r4aDoMBZDmxl\n",
       "yz+B0Yz4FAKnQcR2wAFe8TCeOHwtNpNnHMejD3oIV5jhkCl0OeK059Ec10RoB2qE06JhR5zgnGQy\n",
       "GbHj+Arw/ITFxL3RihMo6Iq1OuCsBJojIiFiXKQccdz342VWJwHPN1hM5GorjqvFsLyXnHHI1cuf\n",
       "odNiFeICp+l5YwnnU7zMx9ISZMxq8lTH2dTH5uu7c+2YvrfCwsSfMeO4//Lnk0besgcCpw6dJEdH\n",
       "2I91hsn1WHCWZi0mUkzguPIS2yw1d+ETee7RUp/67o2ZccQOgL4pUjoOMSNr2cnaM4bC0WbBOQWL\n",
       "iYxq3Rdz6H10DP6dvGWvdtN8dz+CGadbVz7W6I0bcPwkR5U1Wgh3yV5akzPj+MNWkw1GnBP0M48m\n",
       "4P3HW67SskB83d15E46Xj3JH4Jqg6hAEjisDP8lRmc5AKtmjvs6Msx4WEymr48wjODR5yJ7z/uAd\n",
       "T9IV1HxdDSacm5Aoe01B4LyORsdXsZmSLTPGSzCQMOROrQknkMI+mExC0Whza4q2bSN7V3x3sTrK\n",
       "d7206ztLofNJIZjXlK9BW2ceoBVUkXLlI5+hnzUecSqDdMAS4CVVRhOiFZaJ2EJVgOROC3sZ+qXd\n",
       "+/WNLpOUoPVzv6oepcobIyVDmWTRvoIqUjpH8vpGr85ZcAbjvNtZVU1QZTSpCbMIHQjuZGouPqTZ\n",
       "y8AfGOuOZ9lkE6q0k623WJxk6o1KTr8khe8urmWq4/DxUt1Rat+ZcKLtwzHarYqciBk2oGTiX/A9\n",
       "S30ldUWeRZDVRv5S2m7CYdct2FQgb1f6IRG6aD4kyg0oqSkjWHFSsCkZdlX2CC03QEZFEZhJUBwd\n",
       "ShY29Rl2xUqw+RqZasBnVBSB+UoT4mgq/bfTVdZBKW12nM70FAOyqCgC9+1YPb3/tH1ph8bD6Rn/\n",
       "V9Z8/wMR7D2UIG/wCQAAAABJRU5ErkJggg==\n",
       "\" style=\"display:inline;vertical-align:middle;\" /></a><br>"
      ],
      "text/plain": [
       "<IPython.core.display.HTML object>"
      ]
     },
     "metadata": {},
     "output_type": "display_data"
    }
   ],
   "source": [
    "# define a few proper subset relations for testing\n",
    "set_123_properSubset_set_12345, set_12345_properSubset_set_1234567 = (\n",
    "        ProperSubset(set_123, set_12345),\n",
    "        ProperSubset(set_12345, set_1234567))"
   ]
  },
  {
   "cell_type": "code",
   "execution_count": 106,
   "metadata": {},
   "outputs": [
    {
     "data": {
      "text/html": [
       "<strong id=\"set_abc_properSubset_set_abcde\">set_abc_properSubset_set_abcde:</strong> <a class=\"ProveItLink\" href=\"../__pv_it/demonstrations/ba18b62fdf1ea68f92ca8b0478b07e850d821cd80/expr.ipynb\"><img src=\"data:image/png;base64,iVBORw0KGgoAAAANSUhEUgAAAMkAAAAVBAMAAAAeFNdiAAAAMFBMVEX///8AAAAAAAAAAAAAAAAA\n",
       "AAAAAAAAAAAAAAAAAAAAAAAAAAAAAAAAAAAAAAAAAAAv3aB7AAAAD3RSTlMAEER2zVSJ3Zki72ar\n",
       "MruaaVGaAAAACXBIWXMAAA7EAAAOxAGVKw4bAAACdElEQVRIx42VTWgTQRiG37XNZpMmmwEvIsVt\n",
       "PSh46Uql+EMlBAQRD/EkPRmMGBSF9mL0IOQgeBBsQPxBAnoVQXLvQbFtjpKDF8FDiwdBBKttTl6c\n",
       "v92d3Z2dOIfdd2ee+b6Z2ffbBWAdRlZ72tV0GnhNKyyJ+4nZTKT8iaQ7Dbyufd1m19zv2EJ/LKuP\n",
       "7ofULCMvF3ehozz9ZBc7jk2qQHJwLC9bpa48tDSzYsB/ZInzss2RMVliQDR4tt1u38dYXg1sytLS\n",
       "Lvzzjay9tHRv/Lw+S2Fwyhd9F+c35WjzzDAIad1LJO41n0DHc+8OFkfSGs2TRGZxqvRyrOsK61h7\n",
       "xBNF8rzubGHiNdelmSgL4/e9wS+i46HGwtFhuQGcZvJln7Jv4SwHPi2KXd1hoiBWNakcAOMP9vEQ\n",
       "Oh4iVlVs6i8m6PJeUX/0amx9O8g3gpVWuHLEeqbP8cqKknB+lQXV8mosd3f+Kku7UUf5Md16cQue\n",
       "OBQKzHFvFsX2r/HunlJxjH8H6w+0vBqrIkrarsny9ny8D+2/yk/c85VCz8c/B9Yupna0PGKxRNcV\n",
       "Ij3j1bGR61psZEjPlQt6/DOwxdt3+jGPWSOUqksgKZ6JKBY7OLrPm4EzXT9314FHX1qp73a4oIax\n",
       "QyejFnfyN1zudKw9JHkmolhTVRzoKvVird/uLSK/QtXgEbjA9bXjUQke+kjULNMLX9aHaJMkzyOE\n",
       "sbCw5mtq/1JKhINHvqe/MDmSPVFRySyNlDB+LW3DREXxLLK8mbH9pAjqS20Rv98wMVJ4wCt0FM5P\n",
       "CVbkqV9syPuGiZGiHmTtxWbm3/SZbsjA6/77t6iZ/wE7L6tHDNDrTwAAAABJRU5ErkJggg==\n",
       "\" style=\"display:inline;vertical-align:middle;\" /></a><br>"
      ],
      "text/plain": [
       "<IPython.core.display.HTML object>"
      ]
     },
     "metadata": {},
     "output_type": "display_data"
    }
   ],
   "source": [
    "# define a few proper subset relations for testing\n",
    "set_abc_properSubset_set_abcde = ProperSubset(set_abc, set_abcde)"
   ]
  },
  {
   "cell_type": "markdown",
   "metadata": {},
   "source": [
    "### `ProperSubset.reversed()`"
   ]
  },
  {
   "cell_type": "code",
   "execution_count": 107,
   "metadata": {},
   "outputs": [
    {
     "data": {
      "text/html": [
       "<a class=\"ProveItLink\" href=\"../__pv_it/demonstrations/874af77f449522198e31057608ddda74d60023480/expr.ipynb\"><img src=\"data:image/png;base64,iVBORw0KGgoAAAANSUhEUgAAAM0AAAAVBAMAAAAX/3cYAAAAMFBMVEX///9ERETMzMxUVFSYmJgQ\n",
       "EBDc3NxmZmYiIiJ2dnaqqqoyMjKIiIi6urru7u4AAAB85a56AAAAAXRSTlMAQObYZgAAAAlwSFlz\n",
       "AAAOxAAADsQBlSsOGwAAAs1JREFUSMeVlstrE1EUxr+8JpmYTItdN8YHFEEwmCpqhQb0DyhYl5IR\n",
       "H1EQ2tDFCAGJ1EdWNiBF3eiAILixkS5cSCAgAUXQgIhulAEXbixWUSmJZrxzHzOZZDq1d5H5mLnf\n",
       "+d0599wzAaB8xGaG9NDr7kprQ8OrT//NSENRsTM1+CBRN9Z3MUO8S36CNwVce5Lm6m7RXuMYv+af\n",
       "VUi8kcFQS0ZvkEJpK1cXbo+CG+Qy8LnU5Q9OQf7L1BfE2yLMPL9eW7tHfu8McqxbdhBpGPfZEpVZ\n",
       "LOncYHGQEJwDwAmm3uhKR2RFcDJ2UA+OHSSkIjLFjG18q3ly8gYmVaretSA4u5Y9OEqlUrnS8OJE\n",
       "ugj9pip5EkPenIPAJN8gxH9yUV1e532kF2mv9ykj9MPeuZwnh4wFIT7keNpUwRl/uc+dN+W6B4eM\n",
       "2CoXyaviabTmnhL8w8WeLF/sGQhOCjNkg5s9G7OdXUp9nL08ocHn1sKo4WyubykZoUS9VW0OECBv\n",
       "P6M7nC303EjTfZx5p+J1Zjhd75tSdILkaZCw2sOJkg1WJhyQbBWwNNFyB4kO2xNIUVBDsGi4poTF\n",
       "6+wAttF4FyE4gRqiZIPlurOUKCWMpdyco2IP0gi0uSGQcU15BInVtWlwztts9tchtjZSSKv88Iu8\n",
       "scuIixOv4hwVQ13KoQa73hS6gioSBlXHrbwpzEg0nUpQJCOLPXXwoK/eqGE38JoaIhmat0W7rmWS\n",
       "duvk4rymXWLqmHV+qAK+g/YGaRZNw1XXoqWxE8KDSDc0rUwN4Zz7/IT2d8YRszwLptlhKqmRPkoV\n",
       "iuYRWA0UhbnLrvOzUlQdjh0kZppmjRnea6PoPad0PIaPihvuZkb7zlPddcvX4HCq8FFyX9P06KP+\n",
       "hsSU6CEN+Kivjq00yGlubJDEVybhfB09VMPpadODHLtF+BgKhzf3/+CW7nFzTvc3/AP4uu02fik2\n",
       "9QAAAABJRU5ErkJggg==\n",
       "\" style=\"display:inline;vertical-align:middle;\" /></a>"
      ],
      "text/plain": [
       "{1, 2, 3, 4, 5} proper_superset {1, 2, 3}"
      ]
     },
     "metadata": {},
     "output_type": "display_data"
    }
   ],
   "source": [
    "# if A is a proper subset of B, then B is a proper superset of A\n",
    "set_12345.deduce_enum_proper_subset(subset=set_123)\n",
    "set_123_properSubset_set_12345.reversed()"
   ]
  },
  {
   "cell_type": "code",
   "execution_count": 108,
   "metadata": {},
   "outputs": [
    {
     "data": {
      "text/html": [
       "<a class=\"ProveItLink\" href=\"../__pv_it/demonstrations/4b336ad28a14eac64086ec1b3d4c5d568653ce810/expr.ipynb\"><img src=\"data:image/png;base64,iVBORw0KGgoAAAANSUhEUgAAAMkAAAAVBAMAAAAeFNdiAAAAMFBMVEX///8AAAAAAAAAAAAAAAAA\n",
       "AAAAAAAAAAAAAAAAAAAAAAAAAAAAAAAAAAAAAAAAAAAv3aB7AAAAD3RSTlMAEER2zVSJ3Zki72ar\n",
       "MruaaVGaAAAACXBIWXMAAA7EAAAOxAGVKw4bAAAChElEQVRIx5VVPYgTQRR+c0n2dqPZLGcjIm60\n",
       "EWyyEvHn9CCmCmKxloJg8MCIenAWGm0khZ0St1PkQMHC4kAClocoXC6NTUoLkVwnYuFxKsgh+GZm\n",
       "Mz+Z3QuZIvlm3jfvb957CwDkCEyxnMtJp3OlSfwTh6exAl82zbNMzZvAz22pZ+T7skksXGgrux8m\n",
       "4apm5NAbTcj4lq42207wpxgqm6YpHzuqm8IxK5rC0Sp7U1n5PdFKOSnDTXNDWq3WwyDRyszWRCvN\n",
       "pBesJzOcU4OkS0ka2ZnTPxP7dbGyEUsXz3IdTn8hTgFZPO1pKskDqUiqyK6fi9NuVd7HfLuKP8ci\n",
       "l4dJfnl+xNCz0B4yIGRwdFBoAMwrfn7lf480mn+e/OX+3YVOzH/RRd2rYPMwsa7z3KV7MaCyKr+0\n",
       "AxnsvpdKfWTZKzqrqgpa168ZmG1QQPkrNRrPT3oSR1ZkyB49oZS525Vr1GxPmrFozzu9kkqjkf1h\n",
       "4CnzgfILHYT5IfilkfkyU5IfxoqkrPiRa67JWGwm+byp0jALM/wh30q+i3f9AD6IduEe+KMqVWSB\n",
       "0ehZ0d6Shu3CE0G2JZ/WmB9CLxcRqmmACWYAn6tEgZTRjGCcN5XXvyJqTNLgHxzoAlW9g70T86kV\n",
       "N8jdt8HHR97bddsMYIFZAwqkbE8V9kdaJRfuCCuSBp/gG9YqAiywJaVfyPrSygLM4h3SfwwMwPW1\n",
       "4/xEyODkWqC14FwnElYU2sEbmIcWBmPdeueZvX8pHShITph6aIwDQct5aROmkQ4UtOu0FDRLF2Ze\n",
       "iXkRpAIFsUYfW/MmbZ/Od8SczqQDBWENGkuMA0kLxvjPN6b67t9O+AA5T8Jd+f8Bd0mlbPzrUVAA\n",
       "AAAASUVORK5CYII=\n",
       "\" style=\"display:inline;vertical-align:middle;\" /></a>"
      ],
      "text/plain": [
       "{a, b, c, d, e} proper_superset {a, b, c}"
      ]
     },
     "metadata": {},
     "output_type": "display_data"
    }
   ],
   "source": [
    "set_abcde.deduce_enum_proper_subset(subset=set_abc, assumptions=[NotInSet(d, set_abc)])\n",
    "set_abc_properSubset_set_abcde.reversed()"
   ]
  },
  {
   "cell_type": "markdown",
   "metadata": {},
   "source": [
    "### `ProperSubset.derive_relaxed()`"
   ]
  },
  {
   "cell_type": "code",
   "execution_count": 109,
   "metadata": {},
   "outputs": [
    {
     "data": {
      "text/html": [
       "<span style=\"font-size:20px;\"> <a class=\"ProveItLink\" href=\"../__pv_it/demonstrations/087544b9b1a4fa6090966b65858bd4bf48c638ff0/proof.ipynb\" style=\"text-decoration: none\">&nbsp;&#x22A2;&nbsp;&nbsp;</a><a class=\"ProveItLink\" href=\"../__pv_it/demonstrations/d5e8e0d14b45cdfeb36a8e586d1c24754eda99e50/expr.ipynb\"><img src=\"data:image/png;base64,iVBORw0KGgoAAAANSUhEUgAAAM0AAAAVBAMAAAAX/3cYAAAAMFBMVEX///9ERETMzMxUVFSYmJgQ\n",
       "EBDc3NxmZmYiIiJ2dnaqqqoyMjKIiIi6urru7u4AAAB85a56AAAAAXRSTlMAQObYZgAAAAlwSFlz\n",
       "AAAOxAAADsQBlSsOGwAAAnBJREFUSMeFls1rE0EYxp8mNenGdRG8eKrBCh70oKZKW5Xm4B8gqOdG\n",
       "VKoi1OAhQkGKYtmTDYigCJKT4EUr3pSCHiqIBwMi6EFZCOJF8AMVMdo4887OzH7N7HvIPMzub57Z\n",
       "mfedCQDvPYxxtpHRaQMyonRXtC8/mN8p7A7SnTYgEVV4DYyNcllZ4+Ndk+ath9VQ3Wp2gaFdKdYO\n",
       "iNgetjNPfDbRTVw6C0Bvfi18cBzOP6E+ofJHPKV45vv+ZeQDIq6E7dXfd9jvTYnBldg+4JhQrzpe\n",
       "X/vseK6+xw5QuNJHrEaGz0yAabH3b7rQPt4iDD5JgGLbozyfCWC6Kjfih/Ipdk0+SYCinevDYkmK\n",
       "t3Xlsx4mnyRAy9aQPuMv9kif8nIcK/wNxc4am6d7mPRYxMcO8DgJ6TOKObYSq1yeqsexEZXJPH1K\n",
       "IoVORHzsAC2b8mGFwb5+rsNGWEEca+oR2R6j95jG0p15ADDciPiUf7Es2t9BoRnEsGE5u63AFjaP\n",
       "25QB5bpephwAOAfpM7SM8ne2o3xqVPEau4eSSNNBwLFK+GBFT9oOsHhdq/2cpK51Cyh+BR4E0fTx\n",
       "aLZtuAGpI7QMjsgD9A4GqXzLAjzxDtM0NrPaCNxQmMNW8QvPo9Ot1kWhDkXrB3i3OXruGAFSwDfQ\n",
       "2VA6j9UgUj/Fvf1xjPCjcWkw6Au1ocWPReUTrx8jQArNwQHwAxSzFy7F6pTiPtLK4GMGlKroGyXh\n",
       "00ZaWX2yAKUcxH3Cimfb+hQpJYqfNb6v7gUroNVn7TNP15O8NFzVrxU+1tP3sA3QSs/VO0rN7JT5\n",
       "3j2T9cwGZP0/uM6q6j+Z2u9BjLs7ggAAAABJRU5ErkJggg==\n",
       "\" style=\"display:inline;vertical-align:middle;\" /></a></span>"
      ],
      "text/plain": [
       "|- {1, 2, 3} subset_eq {1, 2, 3, 4, 5}"
      ]
     },
     "metadata": {},
     "output_type": "display_data"
    }
   ],
   "source": [
    "set_123_properSubset_set_12345.derive_relaxed()"
   ]
  },
  {
   "cell_type": "code",
   "execution_count": 110,
   "metadata": {},
   "outputs": [
    {
     "data": {
      "text/html": [
       "<span style=\"font-size:20px;\"><a class=\"ProveItLink\" href=\"../__pv_it/demonstrations/f8fed1b1241f0a11bbb9ab2225bbcc2e1f143d0b0/expr.ipynb\"><img src=\"data:image/png;base64,iVBORw0KGgoAAAANSUhEUgAAAGYAAAAVCAMAAACDt2s/AAAAP1BMVEX///8AAAAAAAAAAAAAAAAA\n",
       "AAAAAAAAAAAAAAAAAAAAAAAAAAAAAAAAAAAAAAAAAAAAAAAAAAAAAAAAAAAAAADFBd4eAAAAFHRS\n",
       "TlMAMs3vmVREEIndIqt2u2bp8+P3nSoBZCQAAAAJcEhZcwAADsQAAA7EAZUrDhsAAAGgSURBVEjH\n",
       "lVZZsoQgDGSTEAi+jfuf9aG4BAR1+JgqQpOmoRNHiOHwzRysFZ8OP/kniIJqSsrCxzRChsh3SaVN\n",
       "C6imUxqSQNQ4Jop1njTVy6a+Iod3ws14rd5o29OieE/THnG8sZpRxK9vVG9pbIK3NEy3VQQiyPdq\n",
       "bpUeiz44kqduv1gM1B3aU/00gSg09+aIZsk3Wp29HU/darH6TA2NUX304rSUDwaJV4jHzGri+gC6\n",
       "gPTMsiw0naIRfkUdaLx6XfODoTsivtyTSUe81ItGxJ/f/BNPkqA2e7foU2hiMcPVQlCZSMdVtz2L\n",
       "bbnQ5qal2Yq5RR+klptaR/5KyxEhLdLmVBcMDor5it6rhgsoqOpKYQUFJY4mRySsGfiyQu95k9zf\n",
       "7IiUh1w1u2KBmJknNOLMrKa2aE5fMnQ2WFkKOWk0gkWKxxw3NARy0geS7M1+r824g0aELeZMOf4e\n",
       "Ec7NM8FD7c5/LmanPTabCZ4jNzQK3jUU9yIypvGxE9yKufrO0HOkKvyGv9fW/bXZX3N2WGBrH9cR\n",
       "+hpNmD7/L+DKpn/k6g6GrNrkbwAAAABJRU5ErkJggg==\n",
       "\" style=\"display:inline;vertical-align:middle;\" /></a> <a class=\"ProveItLink\" href=\"../__pv_it/demonstrations/6f58a85e93c846eb4709c19a0059e8cdc6c0e83f0/proof.ipynb\" style=\"text-decoration: none\">&nbsp;&#x22A2;&nbsp;&nbsp;</a><a class=\"ProveItLink\" href=\"../__pv_it/demonstrations/8632c4bb10e0b03718a4b1c6d70652d414a041070/expr.ipynb\"><img src=\"data:image/png;base64,iVBORw0KGgoAAAANSUhEUgAAAMkAAAAVBAMAAAAeFNdiAAAAMFBMVEX///8AAAAAAAAAAAAAAAAA\n",
       "AAAAAAAAAAAAAAAAAAAAAAAAAAAAAAAAAAAAAAAAAAAv3aB7AAAAD3RSTlMAEER2zVSJ3Zki72ar\n",
       "MruaaVGaAAAACXBIWXMAAA7EAAAOxAGVKw4bAAACeUlEQVRIx4VVPWgUQRh96+X29i53ewM2Igcb\n",
       "LRRsbiUSjBI5DgQRi7OSVB6eGBCF2LixEK4QUgTMgfiDHGgrglyfQjHJlbKFjWARsRBEMJpcZeP8\n",
       "7e7s7uxmitk3M2++Nz/vmwVgHEdWeTrQdObwNaW8KL5njmVSap9IujOHrytfv7G6+Ce20J/LatP+\n",
       "kJqVy5eLu9xXWr9YZcZpUyohGrzged5DHMiXpd5RGkuaWTFCOPh5Pi2s48vSJAeoxAjBoPEAWSpN\n",
       "zc2JwHkqMUIwWJ3JVFnS3fglvUp5PO+Kviuz23K0d94PQk4lhYe9J9DxuXfHCxNpjd5ZIlWsFq1O\n",
       "DWxhHWOfOCJJnnesHRReCzcqKox/6A1+Ex0faiyc9Gtd4ByDL0eU+xbWcuDTitjVfQbKYlVDRYXx\n",
       "j46wCh0fIlZLbOofCvSoX1F/DNtsfbsodYOV1jmyxHoaF1ldikQ4f50F1fLVWPbe7A0mu9VB7THd\n",
       "emUHjrhgSmhyb1bE9m/ybmsUZRzjv4PxF1q+GqsuUtpsy/R2XLwP7b/OT9xx1URvx54DYw/Tu1o+\n",
       "YrFE13UiPeN0sFUcGGzEp+fKAV3+DExx+2h8JIrHjAmqrUWQFJ+BKBY7OLrP24Ezbbe4YsGhl1Yd\n",
       "2X0OqGFMP0qOEz/UF+Y7rvX7xj6SfAaiWNMtHBko+WJs3h0uoHSPovEaOMCtjdOpFAz4jbkvmz48\n",
       "kuTzCGEszG24mty/mgIZKtLFJHuigpIq3RTIVTFzJiqIq8j0ZsZ2kyDIL8vzwpc/4h/OmRghPOIZ\n",
       "OgmahRRgSZ76xYZ8N2dihKgHWXmxnfk3faYbyuHr/vt3qJn/A80dre0fMKr3AAAAAElFTkSuQmCC\n",
       "\" style=\"display:inline;vertical-align:middle;\" /></a></span>"
      ],
      "text/plain": [
       "{d not-in {a, b, c}} |- {a, b, c} subset_eq {a, b, c, d, e}"
      ]
     },
     "metadata": {},
     "output_type": "display_data"
    }
   ],
   "source": [
    "set_abc_properSubset_set_abcde.derive_relaxed(assumptions=[NotInSet(d, set_abc)])"
   ]
  },
  {
   "cell_type": "code",
   "execution_count": 111,
   "metadata": {},
   "outputs": [
    {
     "name": "stdout",
     "output_type": "stream",
     "text": [
      "ProofFailure: Proof step failed assuming {x in E}:\n",
      "Attempting to instantiate |- forall_{A, B | A proper_subset B} (A subset_eq B) with {A: {a, b}, B: {a, b, c}}:\n",
      "Unsatisfied condition: {a, b} proper_subset {a, b, c}. For debugging purposes, this is accessible via Instantiation.unsatisfied_condition with applicable assumptions in Instantiation.condition_assumptions.\n"
     ]
    }
   ],
   "source": [
    "# derive_relaxed() method only works for actual proper subsets.\n",
    "# If the proper subset is not true or not provably true, derive_relaxed() will fail:\n",
    "try:\n",
    "    ProperSubset(Set(a, b), Set(a, b, c)).derive_relaxed()\n",
    "    assert False, \"Expecting a ProofFailure. Should not make it to this point.\"\n",
    "except ProofFailure as the_error:\n",
    "    print(\"ProofFailure: {}\".format(the_error))"
   ]
  },
  {
   "cell_type": "code",
   "execution_count": 112,
   "metadata": {},
   "outputs": [
    {
     "data": {
      "text/html": [
       "<span style=\"font-size:20px;\"><a class=\"ProveItLink\" href=\"../__pv_it/demonstrations/fa0a846011867e5599da7cc35faed452ab2998dc0/expr.ipynb\"><img src=\"data:image/png;base64,iVBORw0KGgoAAAANSUhEUgAAAFMAAAAVCAMAAAANbSJDAAAARVBMVEX///8/Pz9vb28YGBgJCQkd\n",
       "HR0NDQ0WFhZUVFQyMjK6urru7u4QEBBERERmZmaqqqoiIiLc3NzMzMyYmJiIiIh2dnYAAABP+Bfl\n",
       "AAAAAXRSTlMAQObYZgAAAAlwSFlzAAAOxAAADsQBlSsOGwAAAXNJREFUOMuNVduihCAI9NxRvCb6\n",
       "/596XC9blmY+7GYMg8JAjM2W67coBFssZ9wCwfG4Iy5wxck2UHhvP+5MnINRSdueFdxx6u6qwd5e\n",
       "ST/D9cZ7bDRLHClr/375Y06xJ2aCE5wSBLbn5zwY98dA5BuHy/VGPnFzEMjRKZ1ABKbDOZv2WjVA\n",
       "1pg/uekaQ8hkVr0IMKZjYMx+JGs1QvqRjYQPxMmc9MU9/+s+EUVnhcCVcuku6iZtWj/f1qqdEXgV\n",
       "lo7vQ5zvEMtLBJ5YpeoFnNNiev3r2h8Zi7Hv0hxCVD2FV3iMdNXlpcqlPwrWx4E6621rv8WSqhab\n",
       "kpvQY7lgdgfOXsPinbG4tUQnXKlRqXh46zHl4yTOXSMqBTRWM52rXW2Q6JTuNReC97TXCUF94YQT\n",
       "gcLmgF4xrcXmELRf9cbnR2pOu+xNg7ctdTc5p9jAnnM6NRgr8jo2aTQh+WQkmEGceHk5omzlv6zh\n",
       "qHYazPJ7FArmH+sNFCWMPyhpAAAAAElFTkSuQmCC\n",
       "\" style=\"display:inline;vertical-align:middle;\" /></a> <a class=\"ProveItLink\" href=\"../__pv_it/demonstrations/1c643d26b2ee44563f87a5a00d516a1485f41f060/proof.ipynb\" style=\"text-decoration: none\">&nbsp;&#x22A2;&nbsp;&nbsp;</a><a class=\"ProveItLink\" href=\"../__pv_it/demonstrations/c3af179c0f87697645fc5ba2f5d76d76de323f7b0/expr.ipynb\"><img src=\"data:image/png;base64,iVBORw0KGgoAAAANSUhEUgAAAI8AAAAVBAMAAACNsKCFAAAAMFBMVEX///8AAAAAAAAAAAAAAAAA\n",
       "AAAAAAAAAAAAAAAAAAAAAAAAAAAAAAAAAAAAAAAAAAAv3aB7AAAAD3RSTlMAEER2zVSJ3Zki72ar\n",
       "MruaaVGaAAAACXBIWXMAAA7EAAAOxAGVKw4bAAABzklEQVQ4y2NgYGBUYkAFnJEMWICQAgMOAFNv\n",
       "ooguc+chpmpmJwFcBkHVs35EFpNbDiLfYCqOF8BUBgdg9WwFKGIeICId0yA0IQ9MSTSDvhJn0FdC\n",
       "BjF9RNFlV15eXovFIKaPhAyC8GC6rmTicBGaNxAGzUmeDBFiOWwTANfFWImmFk0ZWLvxXqgkhwPQ\n",
       "pSsZ3kNiRd6R8ScDgxVEEQ9S0mlhwFQGSkOlDH1Q9bM2MDBIbWBoh8fyYgaG+RDrWJAS3WoGTGVA\n",
       "wJ4AUz/HCcjtZ2Aog1v8DeinI2CT7iDMOaKARRlICOxCkHrePiBzHQPjJ4iKMgYmYMyyOYE5cxAu\n",
       "ugFKvOjKwELggAKp5zvAwPiZgfsDLH1wfIQnY3bUxIuhDCwET/bAWGP8ysDjEMkA4v0FBQRDFkQ5\n",
       "xwaUWENXBmL8BkYBVD0o+h8zhDc0MH4B8k4zvEBKNE6o0Y+qDMwARlkuUjqSMbt5+AJDOdAKmYwN\n",
       "SAbJHRJANghNGYjBlr1ZACNlswpgJGO155hZBK4MTT3CIDZcORRViA2HeuYFMK4wSjJGA1YMGMrQ\n",
       "1HPCSwQDGINxNaZB0MSOrAxd/Yyj6GVwTgCWgrknAGeZDVIPAMLRiaXjJmvOAAAAAElFTkSuQmCC\n",
       "\" style=\"display:inline;vertical-align:middle;\" /></a></span>"
      ],
      "text/plain": [
       "{c not-in {a, b}} |- {a, b} proper_subset {a, b, c}"
      ]
     },
     "metadata": {},
     "output_type": "display_data"
    }
   ],
   "source": [
    "# But if we first establish the proper subset as a judgment\n",
    "# (with the appropriate assumptions) …\n",
    "Set(a, b, c).deduce_enum_proper_subset(subset=Set(a, b), assumptions=[NotInSet(c, Set(a, b))])"
   ]
  },
  {
   "cell_type": "code",
   "execution_count": 113,
   "metadata": {},
   "outputs": [
    {
     "data": {
      "text/html": [
       "<span style=\"font-size:20px;\"><a class=\"ProveItLink\" href=\"../__pv_it/demonstrations/fa0a846011867e5599da7cc35faed452ab2998dc0/expr.ipynb\"><img src=\"data:image/png;base64,iVBORw0KGgoAAAANSUhEUgAAAFMAAAAVCAMAAAANbSJDAAAARVBMVEX///8/Pz9vb28YGBgJCQkd\n",
       "HR0NDQ0WFhZUVFQyMjK6urru7u4QEBBERERmZmaqqqoiIiLc3NzMzMyYmJiIiIh2dnYAAABP+Bfl\n",
       "AAAAAXRSTlMAQObYZgAAAAlwSFlzAAAOxAAADsQBlSsOGwAAAXNJREFUOMuNVduihCAI9NxRvCb6\n",
       "/596XC9blmY+7GYMg8JAjM2W67coBFssZ9wCwfG4Iy5wxck2UHhvP+5MnINRSdueFdxx6u6qwd5e\n",
       "ST/D9cZ7bDRLHClr/375Y06xJ2aCE5wSBLbn5zwY98dA5BuHy/VGPnFzEMjRKZ1ABKbDOZv2WjVA\n",
       "1pg/uekaQ8hkVr0IMKZjYMx+JGs1QvqRjYQPxMmc9MU9/+s+EUVnhcCVcuku6iZtWj/f1qqdEXgV\n",
       "lo7vQ5zvEMtLBJ5YpeoFnNNiev3r2h8Zi7Hv0hxCVD2FV3iMdNXlpcqlPwrWx4E6621rv8WSqhab\n",
       "kpvQY7lgdgfOXsPinbG4tUQnXKlRqXh46zHl4yTOXSMqBTRWM52rXW2Q6JTuNReC97TXCUF94YQT\n",
       "gcLmgF4xrcXmELRf9cbnR2pOu+xNg7ctdTc5p9jAnnM6NRgr8jo2aTQh+WQkmEGceHk5omzlv6zh\n",
       "qHYazPJ7FArmH+sNFCWMPyhpAAAAAElFTkSuQmCC\n",
       "\" style=\"display:inline;vertical-align:middle;\" /></a> <a class=\"ProveItLink\" href=\"../__pv_it/demonstrations/1fc487377d9eff1bdda3029bc956bca71c56c6610/proof.ipynb\" style=\"text-decoration: none\">&nbsp;&#x22A2;&nbsp;&nbsp;</a><a class=\"ProveItLink\" href=\"../__pv_it/demonstrations/4ae3ba46e0890f3ad191cc23f7a40e540c28d26a0/expr.ipynb\"><img src=\"data:image/png;base64,iVBORw0KGgoAAAANSUhEUgAAAI8AAAAVBAMAAACNsKCFAAAAMFBMVEX///8AAAAAAAAAAAAAAAAA\n",
       "AAAAAAAAAAAAAAAAAAAAAAAAAAAAAAAAAAAAAAAAAAAv3aB7AAAAD3RSTlMAEER2zVSJ3Zki72ar\n",
       "MruaaVGaAAAACXBIWXMAAA7EAAAOxAGVKw4bAAAB10lEQVQ4y42UP0jDQBTGv/RP2mKVoJsUrQ7O\n",
       "giIoIrWTYzfppOBQ8Q+42OAgdBBcpA4uIgUFB5GCFJwFsXVycXBQcBEHHQSNWkFE8O6SXC93jfqG\n",
       "cO/ld99d8r47AFovvBHLokm0J+ETLj/YI7+5vVPpYNrwE3L4sCXWug7o80mFpwwV48F4fclTm6CP\n",
       "nJuNmaa5Ck9JwHjkmgjVxVlXw15Wwn4TCljCLG0FPkIB6y8hO3NmxZN+QtJnNIRKM1t2KVQdzfBZ\n",
       "IZmVMDZ94MR5GU2RnR7i2e5K97j2CYw4bRWE1qBi1EPLKDr8TgXorGCdd3kf2LWXKwmmK0PFSESm\n",
       "Xb6UJukmkOcLf5C/XGNKkYZOLdkEoyW2Q8q3FsnwCNqrTeQRIJ3V0yyJVrjSNTWvjLES+1GUbzuF\n",
       "9oaWF9cfUath47THvArGStz2pGtaHfFUFjT7pj8Cc87sxJkhdE3G6OCLtMDhafvvMVkoaO8ku8Cj\n",
       "aJq+B/GIeDE2IC1bFHyUGLqpXsIkSyRmK+p5cIUkjA70+WNDcXbY8DlY3hLHJL4hpONfQroPH9xz\n",
       "0w6PjWn7TZNfIyNQMImP8Ruh3x1oZXVHjtlFTOa3z+U7eCHT5GLeyPje2ZT/AZS/jEsMZPdaAAAA\n",
       "AElFTkSuQmCC\n",
       "\" style=\"display:inline;vertical-align:middle;\" /></a></span>"
      ],
      "text/plain": [
       "{c not-in {a, b}} |- {a, b} subset_eq {a, b, c}"
      ]
     },
     "metadata": {},
     "output_type": "display_data"
    }
   ],
   "source": [
    "# then we can relax as expected:\n",
    "ProperSubset(Set(a, b), Set(a, b, c)).derive_relaxed(assumptions=[NotInSet(c, Set(a, b))])"
   ]
  },
  {
   "cell_type": "markdown",
   "metadata": {},
   "source": [
    "### `ProperSubset.apply_transitivity()`"
   ]
  },
  {
   "cell_type": "code",
   "execution_count": 114,
   "metadata": {},
   "outputs": [
    {
     "data": {
      "text/html": [
       "<span style=\"font-size:20px;\"> <a class=\"ProveItLink\" href=\"../__pv_it/demonstrations/de37970de4bf8d89220a91aca5ea985ca8c000200/proof.ipynb\" style=\"text-decoration: none\">&nbsp;&#x22A2;&nbsp;&nbsp;</a><a class=\"ProveItLink\" href=\"../__pv_it/demonstrations/ee90910fe7d76c129872bb3036d8faf47d66bf0e0/expr.ipynb\"><img src=\"data:image/png;base64,iVBORw0KGgoAAAANSUhEUgAAAM0AAAAVBAMAAAAX/3cYAAAAMFBMVEX///9ERETMzMxUVFSYmJgQ\n",
       "EBDc3NxmZmYiIiJ2dnaqqqoyMjKIiIi6urru7u4AAAB85a56AAAAAXRSTlMAQObYZgAAAAlwSFlz\n",
       "AAAOxAAADsQBlSsOGwAAAmxJREFUSMeFls1rE0EYxp8mNcnGdRG8eKrBCh70oKYWP2kO/gGCem6k\n",
       "SlWEGjxEKEhRKjnZgCiKIDkVetGKN6Wghx7EgwER9KCsFPEi+IEtYrRx5p2dnZ3dndn3kH2Y2d88\n",
       "s++8MxMA3gcY40I9pdEGpERhXjxffTS/k9vrJxttQCwq8OoYHuKyvM7HuynNm48rgbrX6AIDexKs\n",
       "HRCxM3iOP2uxiW7h0pkBVqbXg47TcP4J9QXlP6I3FnZAxPXgOfv7Afu9KzG4EhsFTgn1uuP1jD5m\n",
       "gMKVPiIbKT7jPsbE2r/tIurzotVqXUM2QLHjSZbPAWCsIhfil/LZdcfwPXGAop3pw2JOine10Me7\n",
       "YcpbHKC01aXPyMt90qe4qGO5v4HYXWXzdI+TznfVsHaAxxlInyFMMXKZy7M1HSuFlczLpyBKaGOk\n",
       "DuwApS30YRuDff1UB5hYgo411IhsjbHylKth1ZgFAIP1iE9xjWX9cAe5hq9hg3J224FtbB73KWMT\n",
       "kSMiAwAuQvoMLKL4k60onxrteIUtoCDKtO9zrCw6SpG82QEWb6rV1YPUtGEG+e/AIz9aPh7Ntg3X\n",
       "J3WC0uCIOijWUuotDfDEO0zT2MxqM3A7xByWxW+8js41m1eEOqbtn6WYjwkgBfwAnQ2FS1j2I/sn\n",
       "v783ghI/Guf6/Z5Qm5r8WJQ+n476UR8jQAqN/hHwAxSTl69q+5TiIZIq7H2/VTt3jECoyupGifm0\n",
       "kVSmc9QIhMqB7hPseLasz5FQYvPrYQWU+qqIabqe5KXhqpHUK59ryXvYBiil5uqdpMfkIfO9ez6t\n",
       "zwak/T+4xXbVf+f76978wdeDAAAAAElFTkSuQmCC\n",
       "\" style=\"display:inline;vertical-align:middle;\" /></a></span>"
      ],
      "text/plain": [
       "|- {1, 2, 3} proper_subset {1, 2, 3, 4, 5}"
      ]
     },
     "metadata": {},
     "output_type": "display_data"
    }
   ],
   "source": [
    "# establish a proper subset judgement:\n",
    "set_12345.deduce_enum_proper_subset(subset=set_123)"
   ]
  },
  {
   "cell_type": "code",
   "execution_count": 115,
   "metadata": {},
   "outputs": [
    {
     "data": {
      "text/html": [
       "<span style=\"font-size:20px;\"> <a class=\"ProveItLink\" href=\"../__pv_it/demonstrations/6931b6bdb8eaacf45840416505ea8808f2eb4da70/proof.ipynb\" style=\"text-decoration: none\">&nbsp;&#x22A2;&nbsp;&nbsp;</a><a class=\"ProveItLink\" href=\"../__pv_it/demonstrations/4141736858019cec0780b186fc7daf76ced125820/expr.ipynb\"><img src=\"data:image/png;base64,iVBORw0KGgoAAAANSUhEUgAAARsAAAAVBAMAAACEflfWAAAAMFBMVEX///9ERETMzMxUVFSYmJgQ\n",
       "EBDc3NxmZmYiIiJ2dnaqqqoyMjKIiIi6urru7u4AAAB85a56AAAAAXRSTlMAQObYZgAAAAlwSFlz\n",
       "AAAOxAAADsQBlSsOGwAAA71JREFUSMellktoE0EYx/95bbppsg32oCLWgEL1ZGnqW2lA8KJIpRVE\n",
       "0EZ8VFFoi8IKRY2oGD3YaClaFJuT4MVG60FRMSAVRdCAB09KQBQPSuujPlpNnJ3HZl8pKd3D7j+z\n",
       "M//vN7PffBMAyltM55JuOLV+yWGGl/B98a7iIREocSyss78IPspX6uEGPlpJNmt35hsoaH0uiDfq\n",
       "7QhTBy7P1/vX82f7gyQJW2uPMaTRLBZIHT2zYDNxd7Gnb/KeCDYwwGIFisXiOPeVE8D7ngLvsQvy\n",
       "PyqULgylhdUp/jzz+zq5X7HjkCZlxWOOI4UxmLOZVDXwZ/s53u9gzpOgQp6tque5r4aDoMBZDmxl\n",
       "yz+B0Yz4FAKnQcR2wAFe8TCeOHwtNpNnHMejD3oIV5jhkCl0OeK059Ec10RoB2qE06JhR5zgnGQy\n",
       "GbHj+Arw/ITFxL3RihMo6Iq1OuCsBJojIiFiXKQccdz342VWJwHPN1hM5GorjqvFsLyXnHHI1cuf\n",
       "odNiFeICp+l5YwnnU7zMx9ISZMxq8lTH2dTH5uu7c+2YvrfCwsSfMeO4//Lnk0besgcCpw6dJEdH\n",
       "2I91hsn1WHCWZi0mUkzguPIS2yw1d+ETee7RUp/67o2ZccQOgL4pUjoOMSNr2cnaM4bC0WbBOQWL\n",
       "iYxq3Rdz6H10DP6dvGWvdtN8dz+CGadbVz7W6I0bcPwkR5U1Wgh3yV5akzPj+MNWkw1GnBP0M48m\n",
       "4P3HW67SskB83d15E46Xj3JH4Jqg6hAEjisDP8lRmc5AKtmjvs6Msx4WEymr48wjODR5yJ7z/uAd\n",
       "T9IV1HxdDSacm5Aoe01B4LyORsdXsZmSLTPGSzCQMOROrQknkMI+mExC0Whza4q2bSN7V3x3sTrK\n",
       "d7206ztLofNJIZjXlK9BW2ceoBVUkXLlI5+hnzUecSqDdMAS4CVVRhOiFZaJ2EJVgOROC3sZ+qXd\n",
       "+/WNLpOUoPVzv6oepcobIyVDmWTRvoIqUjpH8vpGr85ZcAbjvNtZVU1QZTSpCbMIHQjuZGouPqTZ\n",
       "y8AfGOuOZ9lkE6q0k623WJxk6o1KTr8khe8urmWq4/DxUt1Rat+ZcKLtwzHarYqciBk2oGTiX/A9\n",
       "S30ldUWeRZDVRv5S2m7CYdct2FQgb1f6IRG6aD4kyg0oqSkjWHFSsCkZdlX2CC03QEZFEZhJUBwd\n",
       "ShY29Rl2xUqw+RqZasBnVBSB+UoT4mgq/bfTVdZBKW12nM70FAOyqCgC9+1YPb3/tH1ph8bD6Rn/\n",
       "V9Z8/wMR7D2UIG/wCQAAAABJRU5ErkJggg==\n",
       "\" style=\"display:inline;vertical-align:middle;\" /></a></span>"
      ],
      "text/plain": [
       "|- {1, 2, 3, 4, 5} proper_subset {1, 2, 3, 4, 5, 6, 7}"
      ]
     },
     "metadata": {},
     "output_type": "display_data"
    }
   ],
   "source": [
    "# establish a related proper subset judgement:\n",
    "set_1234567.deduce_enum_proper_subset(subset=set_12345)"
   ]
  },
  {
   "cell_type": "code",
   "execution_count": 116,
   "metadata": {},
   "outputs": [
    {
     "data": {
      "text/html": [
       "<span style=\"font-size:20px;\"> <a class=\"ProveItLink\" href=\"../__pv_it/demonstrations/061c3ebcd76d9d81941f4540deea243f25f2c73b0/proof.ipynb\" style=\"text-decoration: none\">&nbsp;&#x22A2;&nbsp;&nbsp;</a><a class=\"ProveItLink\" href=\"../__pv_it/demonstrations/df172b3731a602391e1e39338c0c8e4bc294625b0/expr.ipynb\"><img src=\"data:image/png;base64,iVBORw0KGgoAAAANSUhEUgAAAPQAAAAVBAMAAACDGd7qAAAAMFBMVEX///9ERETMzMxUVFSYmJgQ\n",
       "EBDc3NxmZmYiIiJ2dnaqqqoyMjKIiIi6urru7u4AAAB85a56AAAAAXRSTlMAQObYZgAAAAlwSFlz\n",
       "AAAOxAAADsQBlSsOGwAAAuJJREFUSMeNVj1oU1EU/tImeXlJfGbUxQZdBB1iIypCaQZxcQkUV9NS\n",
       "S/wZbHCIixIEJZONi1AqmtXFxp9JLcZBURyaRdBBfSLFRWhREbFqvPeee99f7nvtWfJxc77vu+/c\n",
       "c897AKz3CI0zk5rFKMImQ+q+/hCeMrTPHlyMIgQiDyu4+ZO2o5v+xxd2S4tk/V5eovlaD4gVBuSi\n",
       "CXLLs/RbedxUe5+fp7zFfr9fJl2zwUp48KnMmIL5l9AXpH/Tv4GIJlCk5I6v/LolV872hknqer1+\n",
       "oU26JL4slQ4Axwktt631UOtwAsVLae3W7AliOQFaQBU664qNcTqdNz14rZ81m83LGusggep9LGhN\n",
       "p8SjLVY11oeA8bxK/+Fa77kR8tRBAqVkgtaxsqdsea01izkF3pYca+tqWMGDBBEvlPX+V6MEEvdv\n",
       "XlRpU0rE6PiVhv5IsLfIdpel3Q73XOtoguj1krLegXPE3PoQibbMG4PUnSn5lVLu+bCGTVLTZjxt\n",
       "Fk0QdUHGrTSVbXUNxgm5Me7KdaeX4FequSashfD5EUe73MWNCCyOeqyNn2TdQFxeQlNUjekO1Wyf\n",
       "UlyRdgIjrEQLomDTngG3AYE9UVdZxzowvlHBO4jLJkyJS7bgzCtH6Q6SdFf6NleSlyLlKXg0gcWW\n",
       "YnF8oiWaq4HhNVV39dSrBXXZ3IYVw7WFrG3xlQlRP5PazCjpOlxDsGRDF2CJQ0ciJ9LS7KzLAuEj\n",
       "H7JCl5RuT0LMolNszGGVn8YR371eClqHEARi9c0JlJzFc5tm3HasyGm32IL3XhcrD0rgk36u319H\n",
       "6hovW52/DZT1pzHbZx1GEAjGyPeuQNXzlyDSYNZHJZpp+6zpbjjqdwOPyOLdNv8gDSNokJuW9u/f\n",
       "VTIdVmvQGpolHUGD3DTTL5J1putX5zOkGxhdvogk6JCT5kFCN+m8ZJ3crOuzUhqwjiToUFeDSLd6\n",
       "OPwD57TuvyjCJoPr/gd8mSbeD+KIOAAAAABJRU5ErkJggg==\n",
       "\" style=\"display:inline;vertical-align:middle;\" /></a></span>"
      ],
      "text/plain": [
       "|- {1, 2, 3} proper_subset {1, 2, 3, 4, 5, 6, 7}"
      ]
     },
     "metadata": {},
     "output_type": "display_data"
    }
   ],
   "source": [
    "# use transitivity to go from first set to 3rd set:\n",
    "set_123_properSubset_set_12345.apply_transitivity(set_12345_properSubset_set_1234567)"
   ]
  },
  {
   "cell_type": "code",
   "execution_count": 117,
   "metadata": {},
   "outputs": [
    {
     "data": {
      "text/html": [
       "<strong id=\"A_properSubset_B\">A_properSubset_B:</strong> <a class=\"ProveItLink\" href=\"../__pv_it/theorems/4fcb3ae92330d8963f99abe44b7ac51675d7edc40/expr.ipynb\"><img src=\"data:image/png;base64,iVBORw0KGgoAAAANSUhEUgAAADsAAAAQBAMAAABaYBp1AAAAMFBMVEX///8QEBAiIiLu7u5ERES6\n",
       "urqYmJiIiIjMzMx2dnZUVFRmZmaqqqoyMjLc3NwAAABb1yYoAAAAAXRSTlMAQObYZgAAAAlwSFlz\n",
       "AAAOxAAADsQBlSsOGwAAAPlJREFUGNNjYACBtwx4wX0METb/X6vWekDYPP8xdTA6MDCsbwAzudc/\n",
       "wJB+X8DAEL8BzJw3H6KMoURJSUkDwswHCuUXgFh8BfUHwEK98xC61wPxRbCh3AznE0A0sx6S4SIM\n",
       "DFYQg2IY+ieAaK4AhCzHl/KqaxDmBob3C0A0L5Jm9n8MDAfBZrJ7717vAGJ0IUmzCDAwcP4AscwZ\n",
       "GPgVQIxXSNL8QPPYvkPMZmASADGYkKT7gQZzfQUyWIEM3g9gHyQgpOuBfuq/AGQ8BNn0Dyx2FSF9\n",
       "EahP1oCBweT/ZQYe/79gn5ksNYDKLvm/atWVA+gBHekED1QIAABk7Tw2U7mlYQAAAABJRU5ErkJg\n",
       "gg==\n",
       "\" style=\"display:inline;vertical-align:middle;\" /></a><br>"
      ],
      "text/plain": [
       "<IPython.core.display.HTML object>"
      ]
     },
     "metadata": {},
     "output_type": "display_data"
    },
    {
     "data": {
      "text/html": [
       "<strong id=\"B_subset_eq_C\">B_subset_eq_C:</strong> <a class=\"ProveItLink\" href=\"../__pv_it/demonstrations/69fea0c7aad0c274f4161c950341b20248c2451a0/expr.ipynb\"><img src=\"data:image/png;base64,iVBORw0KGgoAAAANSUhEUgAAAD0AAAARBAMAAACcIrmXAAAAMFBMVEX///92dnaqqqoiIiLu7u5m\n",
       "Zma6urqIiIjc3NwQEBDMzMwyMjJUVFRERESYmJgAAAAeMT9/AAAAAXRSTlMAQObYZgAAAAlwSFlz\n",
       "AAAOxAAADsQBlSsOGwAAAPpJREFUKM9jYGB4+//Mmb0LGNABS+2ZcxwCINZcBgaeXxDBWmNjYysI\n",
       "s7KEgSn4AZDB8Z2Bge0rWGx1BVy7L0hZfAOQ4APq5fsONtICYfxOByCRCWLxfGBg4J4BZiXApRk/\n",
       "gcilIILzAgPLYbD7uBHa+w1ApBeIWH+9/PQDsOAahLx8AZxZ38DANA/M6kHI2zfAmTdBysHmMyPk\n",
       "54NJkBsZ/gDxe7BxrA8Q+kEEE0gX1z8gcR7i8m1webDPGUEs9h9ANb8hoj7HHGDuBxkoAvbUBGA4\n",
       "bIEKJ16Ghi8T0NREkGKe+3/OnL6EETsMrneOJjBQGbAaGyPiFwIAVjg+7m3lgV8AAAAASUVORK5C\n",
       "YII=\n",
       "\" style=\"display:inline;vertical-align:middle;\" /></a><br>"
      ],
      "text/plain": [
       "<IPython.core.display.HTML object>"
      ]
     },
     "metadata": {},
     "output_type": "display_data"
    },
    {
     "data": {
      "text/html": [
       "<strong id=\"B_equiv_D\">B_equiv_D:</strong> <a class=\"ProveItLink\" href=\"../__pv_it/demonstrations/470045fb4f911c186e45c113df4492d20d9e682a0/expr.ipynb\"><img src=\"data:image/png;base64,iVBORw0KGgoAAAANSUhEUgAAAD0AAAAOBAMAAABuognZAAAAMFBMVEX///92dnaqqqoiIiLu7u5m\n",
       "Zma6urqIiIjc3NwQEBDMzMwyMjJUVFRERESYmJgAAAAeMT9/AAAAAXRSTlMAQObYZgAAAAlwSFlz\n",
       "AAAOxAAADsQBlSsOGwAAAQFJREFUGNNjYGB4+//Mmb0LGIDAZ7ICkCwAMRlq/985e6cBzJzLwMDz\n",
       "C8QwX2cIJA+ABRl+MzDwfQIxOL4zMLB9BTLYHzB4H2DgCgBLcwFFGSJBLD6gXj4QjweITy9IhhjK\n",
       "DjIx/wFI+AMDA/cMIIMRJPx/GsR4XqAoQ78AkOC8wMByeAEDFLBAaf4LQGI9yC3rr5effsCADtaD\n",
       "vPEepL++gYFpHkiI1RgMIO6vB5l4PgFI3ARi+QXo+u+DiJ8g4g/IoAJ0+b8gn/0DefQfzCBkAPa+\n",
       "J8iN7D+AvN/o9oO9fxvE4p7AwJC5Bd14bqD3k0EhyXP/z5nTl9ClQaJ3I4AMAC3QT0sdvo1UAAAA\n",
       "AElFTkSuQmCC\n",
       "\" style=\"display:inline;vertical-align:middle;\" /></a><br>"
      ],
      "text/plain": [
       "<IPython.core.display.HTML object>"
      ]
     },
     "metadata": {},
     "output_type": "display_data"
    },
    {
     "data": {
      "text/html": [
       "<strong id=\"C_superset_eq_B\">C_superset_eq_B:</strong> <a class=\"ProveItLink\" href=\"../__pv_it/demonstrations/aec170c846f756ed1ddd490860aa74b0645924170/expr.ipynb\"><img src=\"data:image/png;base64,iVBORw0KGgoAAAANSUhEUgAAADsAAAARBAMAAACRPMnQAAAAMFBMVEX///+6uroyMjLMzMwiIiJm\n",
       "ZmaqqqoQEBB2dnbc3NyYmJhUVFRERESIiIju7u4AAABBACUiAAAAAXRSTlMAQObYZgAAAAlwSFlz\n",
       "AAAOxAAADsQBlSsOGwAAAP1JREFUKM9jYGDgu7N7F2cDAyrgOv9796bDINb1ewxsIQuAjCcuLi5n\n",
       "YfLsBxgY9hswMLxxBnLiJ0BF5ypDGfMvMDDIBzAwqD8AcsThpj6CKlwP1Ln+AgPHNxDHFC7NrACh\n",
       "9wOx+gSG+Q4gzmOEozQhVA0Dw2ugtf0X0NzcBjHkz93bWkDafwKadCCY5P3JwJAO9E49mPcAIQ2x\n",
       "m6eAgYHjM1A3iMNmAJdl2wCm+IEU11+ojzkQmk0gBtkDDeb+CPE+Qx9Mkk/0JIRxH6jLHmgP2y8G\n",
       "BgmIDmCgOoVB1akzMDAWgYSfnt4qwIAO9vzfvVsngYGKABShLi4bkIUAqiRDAfiBgIMAAAAASUVO\n",
       "RK5CYII=\n",
       "\" style=\"display:inline;vertical-align:middle;\" /></a><br>"
      ],
      "text/plain": [
       "<IPython.core.display.HTML object>"
      ]
     },
     "metadata": {},
     "output_type": "display_data"
    },
    {
     "data": {
      "text/html": [
       "<strong id=\"F_superset_B\">F_superset_B:</strong> <a class=\"ProveItLink\" href=\"../__pv_it/demonstrations/a42da12a41e2b06a05b7faa76be2a0d005cc7cbb0/expr.ipynb\"><img src=\"data:image/png;base64,iVBORw0KGgoAAAANSUhEUgAAADwAAAAPBAMAAABKPLFCAAAAMFBMVEX///9mZmbu7u4iIiLc3Nyq\n",
       "qqq6urp2dnbMzMwyMjKYmJhUVFQQEBBERESIiIgAAAAXoWMmAAAAAXRSTlMAQObYZgAAAAlwSFlz\n",
       "AAAOxAAADsQBlSsOGwAAAPVJREFUGNNjYGB4e+b27junGNDA2v+7d89tALF+AvEsdGmGswwM3D+A\n",
       "NMd3ILEMXZblHwMD20cgg+8bkAgBYiZjY2PbB1BpLqBOLqASBt4PDBwMATBNjxsgDO4PDAycR4AM\n",
       "/gkMXQhDmUwgNM8FBqbNIKX9BSxTkCzthVD9997tXABi1N/efABJmlMBTL13YGAF+3a+AoMAkjR7\n",
       "Api6A9LYAPY2UwCSNCNE+jcQrwd6g+07qoc5wSTHLyCxH6iS/QeqdDSY5PsCVAIKTs4PKLIcRhAz\n",
       "gK7NmcTAoH3/9xYkWTVZB3Cg3P+9e+dVVGNBgToxAEUIAKS2QbtsK6yxAAAAAElFTkSuQmCC\n",
       "\" style=\"display:inline;vertical-align:middle;\" /></a><br>"
      ],
      "text/plain": [
       "<IPython.core.display.HTML object>"
      ]
     },
     "metadata": {},
     "output_type": "display_data"
    }
   ],
   "source": [
    "# This process can work more generally.\n",
    "# First define some set relations for convenience:\n",
    "A_properSubset_B, B_subset_eq_C, B_equiv_D, C_superset_eq_B, F_superset_B = (\n",
    "    ProperSubset(A, B), SubsetEq(B, C), SetEquiv(B, D),\n",
    "    superset_eq(C, B), proper_superset(F, B))"
   ]
  },
  {
   "cell_type": "code",
   "execution_count": 118,
   "metadata": {},
   "outputs": [
    {
     "data": {
      "text/html": [
       "<span style=\"font-size:20px;\"><a class=\"ProveItLink\" href=\"../__pv_it/theorems/4fcb3ae92330d8963f99abe44b7ac51675d7edc40/expr.ipynb\"><img src=\"data:image/png;base64,iVBORw0KGgoAAAANSUhEUgAAADsAAAAQBAMAAABaYBp1AAAAMFBMVEX///8QEBAiIiLu7u5ERES6\n",
       "urqYmJiIiIjMzMx2dnZUVFRmZmaqqqoyMjLc3NwAAABb1yYoAAAAAXRSTlMAQObYZgAAAAlwSFlz\n",
       "AAAOxAAADsQBlSsOGwAAAPlJREFUGNNjYACBtwx4wX0METb/X6vWekDYPP8xdTA6MDCsbwAzudc/\n",
       "wJB+X8DAEL8BzJw3H6KMoURJSUkDwswHCuUXgFh8BfUHwEK98xC61wPxRbCh3AznE0A0sx6S4SIM\n",
       "DFYQg2IY+ieAaK4AhCzHl/KqaxDmBob3C0A0L5Jm9n8MDAfBZrJ7717vAGJ0IUmzCDAwcP4AscwZ\n",
       "GPgVQIxXSNL8QPPYvkPMZmASADGYkKT7gQZzfQUyWIEM3g9gHyQgpOuBfuq/AGQ8BNn0Dyx2FSF9\n",
       "EahP1oCBweT/ZQYe/79gn5ksNYDKLvm/atWVA+gBHekED1QIAABk7Tw2U7mlYQAAAABJRU5ErkJg\n",
       "gg==\n",
       "\" style=\"display:inline;vertical-align:middle;\" /></a>, <a class=\"ProveItLink\" href=\"../__pv_it/demonstrations/69fea0c7aad0c274f4161c950341b20248c2451a0/expr.ipynb\"><img src=\"data:image/png;base64,iVBORw0KGgoAAAANSUhEUgAAAD0AAAARBAMAAACcIrmXAAAAMFBMVEX///92dnaqqqoiIiLu7u5m\n",
       "Zma6urqIiIjc3NwQEBDMzMwyMjJUVFRERESYmJgAAAAeMT9/AAAAAXRSTlMAQObYZgAAAAlwSFlz\n",
       "AAAOxAAADsQBlSsOGwAAAPpJREFUKM9jYGB4+//Mmb0LGNABS+2ZcxwCINZcBgaeXxDBWmNjYysI\n",
       "s7KEgSn4AZDB8Z2Bge0rWGx1BVy7L0hZfAOQ4APq5fsONtICYfxOByCRCWLxfGBg4J4BZiXApRk/\n",
       "gcilIILzAgPLYbD7uBHa+w1ApBeIWH+9/PQDsOAahLx8AZxZ38DANA/M6kHI2zfAmTdBysHmMyPk\n",
       "54NJkBsZ/gDxe7BxrA8Q+kEEE0gX1z8gcR7i8m1webDPGUEs9h9ANb8hoj7HHGDuBxkoAvbUBGA4\n",
       "bIEKJ16Ghi8T0NREkGKe+3/OnL6EETsMrneOJjBQGbAaGyPiFwIAVjg+7m3lgV8AAAAASUVORK5C\n",
       "YII=\n",
       "\" style=\"display:inline;vertical-align:middle;\" /></a> <a class=\"ProveItLink\" href=\"../__pv_it/demonstrations/8471081eb045d5cdf377cc30e183649271d4579b0/proof.ipynb\" style=\"text-decoration: none\">&nbsp;&#x22A2;&nbsp;&nbsp;</a><a class=\"ProveItLink\" href=\"../__pv_it/theorems/192252a0bcd5ae381af257c8ce0c9b9ff70c659a0/expr.ipynb\"><img src=\"data:image/png;base64,iVBORw0KGgoAAAANSUhEUgAAADsAAAAQBAMAAABaYBp1AAAAMFBMVEX///8QEBAiIiLu7u5ERES6\n",
       "urqYmJiIiIjMzMx2dnZUVFRmZmaqqqoyMjLc3NwAAABb1yYoAAAAAXRSTlMAQObYZgAAAAlwSFlz\n",
       "AAAOxAAADsQBlSsOGwAAAOVJREFUGNNjYACBtwx4wX1MIeaSVcv4JoCZPP8xpQuLGXg2JYCZ3Osf\n",
       "oMuaaACJ/RDhefMbIIIlSkpKGmDWRQMgEQhm8hXUHwAzeufBNHP+AZHdELMZzoMtYdaDm/1eAURa\n",
       "gNkxDP1gJ3IFwKXnFyCcsYHh/QIQzYsQ0ke4ld1793oHEKMLIS0PJkHOYzBnYOAHW/UKSTc4OBog\n",
       "ZjMwCYAYTAhpsI85QSxWoKt5P4B9kIBwOchpk0Gsh0DM8g8seBUuzfONgSESZLXJ/8sMPP5/wT4z\n",
       "WWoAk7f2Wh2AEQ+RTrBAhQIAh3MzGrzHx3kAAAAASUVORK5CYII=\n",
       "\" style=\"display:inline;vertical-align:middle;\" /></a></span>"
      ],
      "text/plain": [
       "{A proper_subset B, B subset_eq C} |- A proper_subset C"
      ]
     },
     "metadata": {},
     "output_type": "display_data"
    }
   ],
   "source": [
    "A_properSubset_B.apply_transitivity(\n",
    "    B_subset_eq_C, assumptions=[ProperSubset(A, B), SubsetEq(B, C)])"
   ]
  },
  {
   "cell_type": "code",
   "execution_count": 119,
   "metadata": {},
   "outputs": [
    {
     "data": {
      "text/html": [
       "<span style=\"font-size:20px;\"><a class=\"ProveItLink\" href=\"../__pv_it/theorems/4fcb3ae92330d8963f99abe44b7ac51675d7edc40/expr.ipynb\"><img src=\"data:image/png;base64,iVBORw0KGgoAAAANSUhEUgAAADsAAAAQBAMAAABaYBp1AAAAMFBMVEX///8QEBAiIiLu7u5ERES6\n",
       "urqYmJiIiIjMzMx2dnZUVFRmZmaqqqoyMjLc3NwAAABb1yYoAAAAAXRSTlMAQObYZgAAAAlwSFlz\n",
       "AAAOxAAADsQBlSsOGwAAAPlJREFUGNNjYACBtwx4wX0METb/X6vWekDYPP8xdTA6MDCsbwAzudc/\n",
       "wJB+X8DAEL8BzJw3H6KMoURJSUkDwswHCuUXgFh8BfUHwEK98xC61wPxRbCh3AznE0A0sx6S4SIM\n",
       "DFYQg2IY+ieAaK4AhCzHl/KqaxDmBob3C0A0L5Jm9n8MDAfBZrJ7717vAGJ0IUmzCDAwcP4AscwZ\n",
       "GPgVQIxXSNL8QPPYvkPMZmASADGYkKT7gQZzfQUyWIEM3g9gHyQgpOuBfuq/AGQ8BNn0Dyx2FSF9\n",
       "EahP1oCBweT/ZQYe/79gn5ksNYDKLvm/atWVA+gBHekED1QIAABk7Tw2U7mlYQAAAABJRU5ErkJg\n",
       "gg==\n",
       "\" style=\"display:inline;vertical-align:middle;\" /></a>, <a class=\"ProveItLink\" href=\"../__pv_it/demonstrations/470045fb4f911c186e45c113df4492d20d9e682a0/expr.ipynb\"><img src=\"data:image/png;base64,iVBORw0KGgoAAAANSUhEUgAAAD0AAAAOBAMAAABuognZAAAAMFBMVEX///92dnaqqqoiIiLu7u5m\n",
       "Zma6urqIiIjc3NwQEBDMzMwyMjJUVFRERESYmJgAAAAeMT9/AAAAAXRSTlMAQObYZgAAAAlwSFlz\n",
       "AAAOxAAADsQBlSsOGwAAAQFJREFUGNNjYGB4+//Mmb0LGIDAZ7ICkCwAMRlq/985e6cBzJzLwMDz\n",
       "C8QwX2cIJA+ABRl+MzDwfQIxOL4zMLB9BTLYHzB4H2DgCgBLcwFFGSJBLD6gXj4QjweITy9IhhjK\n",
       "DjIx/wFI+AMDA/cMIIMRJPx/GsR4XqAoQ78AkOC8wMByeAEDFLBAaf4LQGI9yC3rr5effsCADtaD\n",
       "vPEepL++gYFpHkiI1RgMIO6vB5l4PgFI3ARi+QXo+u+DiJ8g4g/IoAJ0+b8gn/0DefQfzCBkAPa+\n",
       "J8iN7D+AvN/o9oO9fxvE4p7AwJC5Bd14bqD3k0EhyXP/z5nTl9ClQaJ3I4AMAC3QT0sdvo1UAAAA\n",
       "AElFTkSuQmCC\n",
       "\" style=\"display:inline;vertical-align:middle;\" /></a> <a class=\"ProveItLink\" href=\"../__pv_it/demonstrations/f063f0c701a0de4b674fe1965c3dd1988a3ce43b0/proof.ipynb\" style=\"text-decoration: none\">&nbsp;&#x22A2;&nbsp;&nbsp;</a><a class=\"ProveItLink\" href=\"../__pv_it/demonstrations/19bdef780f3ecf7ec46a2b32570b3b3a8fc3df2c0/expr.ipynb\"><img src=\"data:image/png;base64,iVBORw0KGgoAAAANSUhEUgAAADwAAAAQBAMAAAC4vAEMAAAAMFBMVEX///8QEBAiIiLu7u5ERES6\n",
       "urqYmJiIiIjMzMx2dnZUVFRmZmaqqqoyMjLc3NwAAABb1yYoAAAAAXRSTlMAQObYZgAAAAlwSFlz\n",
       "AAAOxAAADsQBlSsOGwAAAOdJREFUGNNjYACBtwx4wX0MEXb/L6tc1kHYPP8xdfBfYGDIPwBmcq9/\n",
       "gCHdXwAUFwAz581vgBrppKSkBGHXAynWbyAWX0E9xBSOmwhT/EESP8FmM5xPAAsZIdnxBaT8F4gV\n",
       "w9A/ASy0FCHL8R1IsIF1b2B4vwAsdgHJYz+ABNdXEMt793oHsI4FCGmWDyDPgVxuDqQVwE5EkuYH\n",
       "achPAJvNwATxoAKqt5lFgAxWoBLeD2CxbQhpkLdZQG55CLLpH1iMNwA5Fli1gbTJ/8sMPP5/wT5j\n",
       "9gqGyi75v2qJN0ZIs06BByoEAADQxDrrPSWZ5AAAAABJRU5ErkJggg==\n",
       "\" style=\"display:inline;vertical-align:middle;\" /></a></span>"
      ],
      "text/plain": [
       "{A proper_subset B, B equiv D} |- A proper_subset D"
      ]
     },
     "metadata": {},
     "output_type": "display_data"
    }
   ],
   "source": [
    "# transitivity when other relation is an equality\n",
    "A_properSubset_B.apply_transitivity(\n",
    "        B_equiv_D, assumptions=[A_properSubset_B, B_equiv_D])"
   ]
  },
  {
   "cell_type": "code",
   "execution_count": 120,
   "metadata": {},
   "outputs": [
    {
     "data": {
      "text/html": [
       "<span style=\"font-size:20px;\"><a class=\"ProveItLink\" href=\"../__pv_it/theorems/4fcb3ae92330d8963f99abe44b7ac51675d7edc40/expr.ipynb\"><img src=\"data:image/png;base64,iVBORw0KGgoAAAANSUhEUgAAADsAAAAQBAMAAABaYBp1AAAAMFBMVEX///8QEBAiIiLu7u5ERES6\n",
       "urqYmJiIiIjMzMx2dnZUVFRmZmaqqqoyMjLc3NwAAABb1yYoAAAAAXRSTlMAQObYZgAAAAlwSFlz\n",
       "AAAOxAAADsQBlSsOGwAAAPlJREFUGNNjYACBtwx4wX0METb/X6vWekDYPP8xdTA6MDCsbwAzudc/\n",
       "wJB+X8DAEL8BzJw3H6KMoURJSUkDwswHCuUXgFh8BfUHwEK98xC61wPxRbCh3AznE0A0sx6S4SIM\n",
       "DFYQg2IY+ieAaK4AhCzHl/KqaxDmBob3C0A0L5Jm9n8MDAfBZrJ7717vAGJ0IUmzCDAwcP4AscwZ\n",
       "GPgVQIxXSNL8QPPYvkPMZmASADGYkKT7gQZzfQUyWIEM3g9gHyQgpOuBfuq/AGQ8BNn0Dyx2FSF9\n",
       "EahP1oCBweT/ZQYe/79gn5ksNYDKLvm/atWVA+gBHekED1QIAABk7Tw2U7mlYQAAAABJRU5ErkJg\n",
       "gg==\n",
       "\" style=\"display:inline;vertical-align:middle;\" /></a>, <a class=\"ProveItLink\" href=\"../__pv_it/demonstrations/aec170c846f756ed1ddd490860aa74b0645924170/expr.ipynb\"><img src=\"data:image/png;base64,iVBORw0KGgoAAAANSUhEUgAAADsAAAARBAMAAACRPMnQAAAAMFBMVEX///+6uroyMjLMzMwiIiJm\n",
       "ZmaqqqoQEBB2dnbc3NyYmJhUVFRERESIiIju7u4AAABBACUiAAAAAXRSTlMAQObYZgAAAAlwSFlz\n",
       "AAAOxAAADsQBlSsOGwAAAP1JREFUKM9jYGDgu7N7F2cDAyrgOv9796bDINb1ewxsIQuAjCcuLi5n\n",
       "YfLsBxgY9hswMLxxBnLiJ0BF5ypDGfMvMDDIBzAwqD8AcsThpj6CKlwP1Ln+AgPHNxDHFC7NrACh\n",
       "9wOx+gSG+Q4gzmOEozQhVA0Dw2ugtf0X0NzcBjHkz93bWkDafwKadCCY5P3JwJAO9E49mPcAIQ2x\n",
       "m6eAgYHjM1A3iMNmAJdl2wCm+IEU11+ojzkQmk0gBtkDDeb+CPE+Qx9Mkk/0JIRxH6jLHmgP2y8G\n",
       "BgmIDmCgOoVB1akzMDAWgYSfnt4qwIAO9vzfvVsngYGKABShLi4bkIUAqiRDAfiBgIMAAAAASUVO\n",
       "RK5CYII=\n",
       "\" style=\"display:inline;vertical-align:middle;\" /></a> <a class=\"ProveItLink\" href=\"../__pv_it/demonstrations/8471081eb045d5cdf377cc30e183649271d4579b0/proof.ipynb\" style=\"text-decoration: none\">&nbsp;&#x22A2;&nbsp;&nbsp;</a><a class=\"ProveItLink\" href=\"../__pv_it/theorems/192252a0bcd5ae381af257c8ce0c9b9ff70c659a0/expr.ipynb\"><img src=\"data:image/png;base64,iVBORw0KGgoAAAANSUhEUgAAADsAAAAQBAMAAABaYBp1AAAAMFBMVEX///8QEBAiIiLu7u5ERES6\n",
       "urqYmJiIiIjMzMx2dnZUVFRmZmaqqqoyMjLc3NwAAABb1yYoAAAAAXRSTlMAQObYZgAAAAlwSFlz\n",
       "AAAOxAAADsQBlSsOGwAAAOVJREFUGNNjYACBtwx4wX1MIeaSVcv4JoCZPP8xpQuLGXg2JYCZ3Osf\n",
       "oMuaaACJ/RDhefMbIIIlSkpKGmDWRQMgEQhm8hXUHwAzeufBNHP+AZHdELMZzoMtYdaDm/1eAURa\n",
       "gNkxDP1gJ3IFwKXnFyCcsYHh/QIQzYsQ0ke4ld1793oHEKMLIS0PJkHOYzBnYOAHW/UKSTc4OBog\n",
       "ZjMwCYAYTAhpsI85QSxWoKt5P4B9kIBwOchpk0Gsh0DM8g8seBUuzfONgSESZLXJ/8sMPP5/wT4z\n",
       "WWoAk7f2Wh2AEQ+RTrBAhQIAh3MzGrzHx3kAAAAASUVORK5CYII=\n",
       "\" style=\"display:inline;vertical-align:middle;\" /></a></span>"
      ],
      "text/plain": [
       "{A proper_subset B, C superset_eq B} |- A proper_subset C"
      ]
     },
     "metadata": {},
     "output_type": "display_data"
    }
   ],
   "source": [
    "# transitivity when other relation is a SupersetEq\n",
    "# ProperSubset(A, B) and SupersetEq(C, B)?\n",
    "A_properSubset_B.apply_transitivity(\n",
    "        C_superset_eq_B, assumptions=[A_properSubset_B, C_superset_eq_B])"
   ]
  },
  {
   "cell_type": "code",
   "execution_count": 121,
   "metadata": {},
   "outputs": [
    {
     "data": {
      "text/html": [
       "<span style=\"font-size:20px;\"><a class=\"ProveItLink\" href=\"../__pv_it/theorems/4fcb3ae92330d8963f99abe44b7ac51675d7edc40/expr.ipynb\"><img src=\"data:image/png;base64,iVBORw0KGgoAAAANSUhEUgAAADsAAAAQBAMAAABaYBp1AAAAMFBMVEX///8QEBAiIiLu7u5ERES6\n",
       "urqYmJiIiIjMzMx2dnZUVFRmZmaqqqoyMjLc3NwAAABb1yYoAAAAAXRSTlMAQObYZgAAAAlwSFlz\n",
       "AAAOxAAADsQBlSsOGwAAAPlJREFUGNNjYACBtwx4wX0METb/X6vWekDYPP8xdTA6MDCsbwAzudc/\n",
       "wJB+X8DAEL8BzJw3H6KMoURJSUkDwswHCuUXgFh8BfUHwEK98xC61wPxRbCh3AznE0A0sx6S4SIM\n",
       "DFYQg2IY+ieAaK4AhCzHl/KqaxDmBob3C0A0L5Jm9n8MDAfBZrJ7717vAGJ0IUmzCDAwcP4AscwZ\n",
       "GPgVQIxXSNL8QPPYvkPMZmASADGYkKT7gQZzfQUyWIEM3g9gHyQgpOuBfuq/AGQ8BNn0Dyx2FSF9\n",
       "EahP1oCBweT/ZQYe/79gn5ksNYDKLvm/atWVA+gBHekED1QIAABk7Tw2U7mlYQAAAABJRU5ErkJg\n",
       "gg==\n",
       "\" style=\"display:inline;vertical-align:middle;\" /></a>, <a class=\"ProveItLink\" href=\"../__pv_it/demonstrations/a42da12a41e2b06a05b7faa76be2a0d005cc7cbb0/expr.ipynb\"><img src=\"data:image/png;base64,iVBORw0KGgoAAAANSUhEUgAAADwAAAAPBAMAAABKPLFCAAAAMFBMVEX///9mZmbu7u4iIiLc3Nyq\n",
       "qqq6urp2dnbMzMwyMjKYmJhUVFQQEBBERESIiIgAAAAXoWMmAAAAAXRSTlMAQObYZgAAAAlwSFlz\n",
       "AAAOxAAADsQBlSsOGwAAAPVJREFUGNNjYGB4e+b27junGNDA2v+7d89tALF+AvEsdGmGswwM3D+A\n",
       "NMd3ILEMXZblHwMD20cgg+8bkAgBYiZjY2PbB1BpLqBOLqASBt4PDBwMATBNjxsgDO4PDAycR4AM\n",
       "/gkMXQhDmUwgNM8FBqbNIKX9BSxTkCzthVD9997tXABi1N/efABJmlMBTL13YGAF+3a+AoMAkjR7\n",
       "Api6A9LYAPY2UwCSNCNE+jcQrwd6g+07qoc5wSTHLyCxH6iS/QeqdDSY5PsCVAIKTs4PKLIcRhAz\n",
       "gK7NmcTAoH3/9xYkWTVZB3Cg3P+9e+dVVGNBgToxAEUIAKS2QbtsK6yxAAAAAElFTkSuQmCC\n",
       "\" style=\"display:inline;vertical-align:middle;\" /></a> <a class=\"ProveItLink\" href=\"../__pv_it/demonstrations/965a12772c0e42c5bdf880d6e89735365e86ded90/proof.ipynb\" style=\"text-decoration: none\">&nbsp;&#x22A2;&nbsp;&nbsp;</a><a class=\"ProveItLink\" href=\"../__pv_it/demonstrations/9d9f54c6117274b9381212f593be9e374f925b600/expr.ipynb\"><img src=\"data:image/png;base64,iVBORw0KGgoAAAANSUhEUgAAADsAAAAQBAMAAABaYBp1AAAAMFBMVEX///8QEBAiIiLu7u5ERES6\n",
       "urqYmJiIiIjMzMx2dnZUVFRmZmaqqqoyMjLc3NwAAABb1yYoAAAAAXRSTlMAQObYZgAAAAlwSFlz\n",
       "AAAOxAAADsQBlSsOGwAAAOBJREFUGNNjYACBtwx4wX0MEXZHkVVLBBPAbJ7/mDr4LzAw8EKkudc/\n",
       "wJDun8DAwBYAZs6b3wARK1FSUtKAMOuBUjxgXXwF9QfAQr3zELr9GRgaeCBmM5wHW8Ksh2T4XwYO\n",
       "iM0MMWCLGBi4AhCyHD8Z3kIdtIHh/QIQzYukmfPLKkWoF713r3cAMbqQpHk/A+0EA3OgJxVAjFeo\n",
       "3raBmc3AJABiMCFJx0+AMliBDuT9APZBAkIaFhIMD4GY5R+YeRUzFkz+X2bg8f8LNstkqQFEkHnJ\n",
       "/1WY4cwQ6QQPVAgAAHPJNHJxrrPuAAAAAElFTkSuQmCC\n",
       "\" style=\"display:inline;vertical-align:middle;\" /></a></span>"
      ],
      "text/plain": [
       "{A proper_subset B, F proper_superset B} |- A proper_subset F"
      ]
     },
     "metadata": {},
     "output_type": "display_data"
    }
   ],
   "source": [
    "# transitivity when other relation is a Superse\n",
    "# SubsetEq(A, B) and ProperSuperset(F, B)?\n",
    "A_properSubset_B.apply_transitivity(\n",
    "        F_superset_B, assumptions=[A_properSubset_B, F_superset_B])"
   ]
  },
  {
   "cell_type": "markdown",
   "metadata": {},
   "source": [
    "### `ProperSubset.deduce_in_bool()`"
   ]
  },
  {
   "cell_type": "code",
   "execution_count": 122,
   "metadata": {},
   "outputs": [
    {
     "data": {
      "text/html": [
       "<span style=\"font-size:20px;\"> <a class=\"ProveItLink\" href=\"../__pv_it/demonstrations/0f4653bd731ec14242cc23f3a8b33f6503e9c1eb0/proof.ipynb\" style=\"text-decoration: none\">&nbsp;&#x22A2;&nbsp;&nbsp;</a><a class=\"ProveItLink\" href=\"../__pv_it/theorems/cba090943923d4ad732eb674af9c6508629f560b0/expr.ipynb\"><img src=\"data:image/png;base64,iVBORw0KGgoAAAANSUhEUgAAAHEAAAAVBAMAAACDNRyvAAAAMFBMVEX////MzMxUVFRERES6uroi\n",
       "IiIQEBCYmJhmZmYyMjLu7u52dnaqqqqIiIjc3NwAAACW8nlqAAAAAXRSTlMAQObYZgAAAAlwSFlz\n",
       "AAAOxAAADsQBlSsOGwAAAe1JREFUOMtjYGB4wIAX8OGU4T0Apl7ikme5gCZwNXn+tCAHIOM0hD8f\n",
       "Qwu7/SclTUMGhuvoEga+fLNUGBi4JoB5PP8xbWMzYGDQF2DgXICu051hHzMDA0cBmMehj+nd90B3\n",
       "+jcwsDdg6qxhAhoM4e3bLwBhXA4NDQ2EMOuBQvVA3VnQADENjYTr5GRgOAkJwAv3IQEluQ9htj4Q\n",
       "TwM6ZTokpOYuQNipV83A0A1xLMN5sKu54pBclczAsAhk/SZI4C9AhNDaoA0wA30Y5DeAaCYHhEbG\n",
       "z3cvgWUrwdx5CH+6TvvaxcAQA+Y0MLxXANGcyBH9j4HhGMglx8DcCcghdN1zAUMKWJFFh74BiCGE\n",
       "pJM5gYGB+yOQIQ92QSow6IJhOplZNkB0rmVg4A8AMR4h6eQHuoL9L5DhBg4BA2Q7mRkMIK4Fxhhr\n",
       "AojBiqRTHuhSpi9AxlEwNwBV5wQGW1CAA9VwfgCHcQFC531ghMiDfFcM5t5F0clzARzkz0C++gcW\n",
       "nYLQOQ1oZCYoKiARx3kArtObYe8OBgZRBobF/2cx8Nj/BEfLYhVYtCn/V1KaDFYdAuZzKXtBJG4m\n",
       "24PzCqsAaqL0NoWnPlgGhfqQZTM09cHyUgMDAYDsdxRgR0jnY1wSiwnpxGk03wX8GnlxlFMAgGNx\n",
       "UUNOZ5gAAAAASUVORK5CYII=\n",
       "\" style=\"display:inline;vertical-align:middle;\" /></a></span>"
      ],
      "text/plain": [
       "|- (A proper_subset B) in BOOLEAN"
      ]
     },
     "metadata": {},
     "output_type": "display_data"
    }
   ],
   "source": [
    "# Proper subset claims are Boolean values\n",
    "A_properSubset_B.deduce_in_bool()"
   ]
  },
  {
   "cell_type": "code",
   "execution_count": 123,
   "metadata": {},
   "outputs": [
    {
     "data": {
      "text/html": [
       "<span style=\"font-size:20px;\"> <a class=\"ProveItLink\" href=\"../__pv_it/demonstrations/cfd37766bb8d223ed486e4f2f1e2dc4f8e7331c40/proof.ipynb\" style=\"text-decoration: none\">&nbsp;&#x22A2;&nbsp;&nbsp;</a><a class=\"ProveItLink\" href=\"../__pv_it/demonstrations/7f59bfdfd2affc78fb26c4e92a51b687d78329cb0/expr.ipynb\"><img src=\"data:image/png;base64,iVBORw0KGgoAAAANSUhEUgAAAP8AAAAVBAMAAAB7+SUdAAAAMFBMVEX///8AAAAAAAAAAAAAAAAA\n",
       "AAAAAAAAAAAAAAAAAAAAAAAAAAAAAAAAAAAAAAAAAAAv3aB7AAAAD3RSTlMAInZUiRDNmWbv3US7\n",
       "qzJazP2FAAAACXBIWXMAAA7EAAAOxAGVKw4bAAADNklEQVRIx5VWTUhUURT+5vc5znN8UBRF0kvK\n",
       "rIVMkEFtmiSKpoxHm6iMmf4okciFRYsioQgXQW4CKRcDlYElSGSkLXwFLQqkH8WNLmYXBFEURbTq\n",
       "/r13398d8sEbvrnnO+d+995zzrsADADHxqF4lhkRg6mXWMIT20J/lOZ4nrw9lsqcW4wwtUwsRQC+\n",
       "vgGyZmBw8/CF7jG67q3k3emdJPW24iXqH0IBE7+g5gvd3b2efzPkbQ1S7KexMwvEvUxw0WdJe32R\n",
       "DIcPDPn54mnMe/7Q+OngTtovsEsHtP6QAJ/vfwjw88UzbQUE1PWGBVxvADIICfD5ytni70ZHR6sR\n",
       "AqajEqgY+nPHDTPiCkgD28ICipHLzZ02FDtQjEq8syHGOQazJy25Ax9vAH0OITa3TiTq+eZZwelo\n",
       "rbqzHTX8mlR8VnhzbT9FhnZstISATjawwpJJeGisIHRdIu+kofPkTv22Snyy1XnNRnyQ8xfkgrRy\n",
       "DT68NkxVc2SSTRTeZAMnZA5Mdf+9CNyngodImCFoFafIMnxtDyiIibWUpYBV/TX44DZOj/1BnNT6\n",
       "Wpqm2wNhyBG0Prdwj7DmCUf7jvqCs75GhjS+iuOnWArIdtDUg1p8r03/0byfKponCr6xMHdJJj9x\n",
       "BOjZAhWAz6RTZWyUeD8mvtOssDJ8P/ew4ZgUkLti1eJ7bY3cK0klT7LNsb07oMNmR0A7VcnEbbes\n",
       "r7FMKZnetlfxN0clHz4bH2KddkcgDBNQxmtRBaU85hNGijpVyRkyQI56HEmRhJf9laniUyBt9CTI\n",
       "7uyjXreYb7NPQMLkxUEE6GbikYYSyZGGfr2XAZLSSVmG6XGfABWfAmmrK+OwIcqwj4dx26b9DB17\n",
       "gS9CQOrTwaY21D8kaI4slgLsHtggu05qZsIrQMVnI64N6wdMpxE95mEWRZiW4ffsa1hf9fWy9hBw\n",
       "2172QEQrblcDD2KNruKGGfF2SfaNkAIKIVD7Y1RQAw+i8dlXL+p5BdGp2AaZQeC0FN8dZlDNl44S\n",
       "sU67RnVd6YLoVCw0ggBHwsqd5hjFl44SkSrhC42+sRGhsat5lXn5bMTgytkl3Qk76a3PiDb+A7/s\n",
       "7/wI3kqAAAAAAElFTkSuQmCC\n",
       "\" style=\"display:inline;vertical-align:middle;\" /></a></span>"
      ],
      "text/plain": [
       "|- ({a, b, c} proper_subset {a, b, c, d, e}) in BOOLEAN"
      ]
     },
     "metadata": {},
     "output_type": "display_data"
    }
   ],
   "source": [
    "# Proper subset claims are Boolean values\n",
    "set_abc_properSubset_set_abcde.deduce_in_bool()"
   ]
  },
  {
   "cell_type": "code",
   "execution_count": 124,
   "metadata": {},
   "outputs": [
    {
     "data": {
      "text/html": [
       "<span style=\"font-size:20px;\"> <a class=\"ProveItLink\" href=\"../__pv_it/demonstrations/31f65159c0af9db8be361214e02e6fa2fbbb61d60/proof.ipynb\" style=\"text-decoration: none\">&nbsp;&#x22A2;&nbsp;&nbsp;</a><a class=\"ProveItLink\" href=\"../__pv_it/demonstrations/ad298fa812339e221c5c0f671b3b3cdd8fc93f590/expr.ipynb\"><img src=\"data:image/png;base64,iVBORw0KGgoAAAANSUhEUgAAAP8AAAAVBAMAAAB7+SUdAAAAMFBMVEX///8AAAAAAAAAAAAAAAAA\n",
       "AAAAAAAAAAAAAAAAAAAAAAAAAAAAAAAAAAAAAAAAAAAv3aB7AAAAD3RSTlMAInZUiRDNmWbv3US7\n",
       "qzJazP2FAAAACXBIWXMAAA7EAAAOxAGVKw4bAAADl0lEQVRIx5VWXUgUURQ+6+7suO6aS0UPkbgt\n",
       "FloUK1SQL21LpEnKIL1Yym4/UiLRBiYRRYtF9BD9QbSYD4JmsGUsUVG9OAURBWKpSKAPG0RBEJqb\n",
       "EkXRuT/zPxPtwOg3e79z7nfPPfebAYAgAOzLQgHXsqDNj84pXDXkj2O2ogjenVIhApbMWOn/SvH1\n",
       "JYA/ZPpxXd+xjmEiehPe2/TBwut+mySfbuoeAm8t44YU0NprGBzFu8ocIT9wtU/jdAnEDYYRb9Ju\n",
       "GXkd9lglGlPAYcug11wh+QlsDwCIKUt0WcRmfv9CQQLylsHipFXAuVIAnzV6xG43DXMqD0VvMplM\n",
       "zkaAQS4fvKHGDKkCvABbrNENdjtg2BcuYMmhoEOQqUR08AiTdkDSKvDuPECXQnBNruaNejQ8wTmx\n",
       "KrY8KI/N8n3ZEz6h5t8bNM1RHlvK5Y5v4HxP+DIfbKTPKyStCZuHo1xXN95PgwFWN2FRirPMKyOi\n",
       "zGRfgzEW6L8PH7GMV+nDtG6R3QZavF34xjxgAE4DVBN4gf6wX+uBZx0/cTEDhJXGadMgsnW5F8DH\n",
       "ajGogJYUnQCvihSsxwDWYwmd2aQZ7ZR6KK9TUBIloIKUY6spBreg6rEEtzB4Cv1AnCNkcokJKKNI\n",
       "VDvpLBFDr7FwJTGPtoOkBTQ3oCl0NJT7nUXSighTqGCWtk0vtu09RUDAHyUC4DM6lU+GeFYRPUI3\n",
       "0Ccr+ftA+MXQb/ZvJ6G6dHZEUuhog+DP80jaCJ1kj6kUWV+BAMh0C4hTxUNwRbUBpjuuuKcwD8Vz\n",
       "DM4ru0SufqPZ6Wh5Xj5hXrPJWlMMFZCAF7yF4xGYcgcFIiCH/UABelSWACEPpYkakOjSwI0rYk14\n",
       "0njSdLQ/pB8I+IGtCbCLMC5RXtggwB1ihwOjAyH3HRHi2COlqUCSAjwCnhwBqLI2mRQWaSsLx9Vj\n",
       "6M0aj6FGew+vgAI8Ak38GHaxGNVm5YcQqwP4osgfbyrfCCW3EU3iygiAHRfXMNBW+WE8BxlcUlF9\n",
       "j+YzwugjgwCN1laH1SPAU98jcQF3WcwMj1nbN0bfhiU5g41tdgbglsxG599tY8UqTeNTo9NihvQu\n",
       "Sd8RWnTUGYDn/15GHiufDNK3nt31HLhT0QKFHAFAs4rEhCVNtZXWbLDJVU6fK63AnYq+qsARAGhS\n",
       "WqyrUVNoNBUIab5Q+y825LnORAr5JFs+YZPGOYWrkXz1Be0H/wKHlflcmZRVUwAAAABJRU5ErkJg\n",
       "gg==\n",
       "\" style=\"display:inline;vertical-align:middle;\" /></a></span>"
      ],
      "text/plain": [
       "|- ({a, b, c, d, e} proper_subset {a, b, c}) in BOOLEAN"
      ]
     },
     "metadata": {},
     "output_type": "display_data"
    }
   ],
   "source": [
    "# False (or unknown verity) proper subset claims are also Boolean values\n",
    "ProperSubset(Set(a, b, c, d, e), Set(a, b, c)).deduce_in_bool()"
   ]
  },
  {
   "cell_type": "markdown",
   "metadata": {},
   "source": [
    "### Testing the `SubsetEq` class methods\n",
    "<br/>\n",
    "<font size =3>The <span style=\"font-family=courier\">SubsetEq</span> class has the following class methods:<br/>\n",
    "    <div style=\"width: 50%; border: 1px solid green; padding: 5px; margin: 20px; background-color: gainsboro; font-family:courier;\">\n",
    "    <ul>\n",
    "    <li>reversed(self)</li>\n",
    "    <li>conclude(self, assumptions=USE_DEFAULTS)</li>\n",
    "    <li>conclude_via_equality(self, assumptions)</li>\n",
    "    <li>unfold(self, elem_instance_var=x, assumptions=USE_DEFAULTS)</li>\n",
    "    <li>derive_superset_membership(self, element, assumptions=USE_DEFAULTS)</li>\n",
    "    <li>conclude_as_folded(self, elem_instance_var=x, assumptions=USE_DEFAULTS)</li>\n",
    "    <li>apply_transitivity(self, other, assumptions=USE_DEFAULTS)</li>\n",
    "    <li>deduce_in_bool(self, assumptions=USE_DEFAULTS)</li>\n",
    "    </ul>\n",
    "    </div>\n",
    "</font>"
   ]
  },
  {
   "cell_type": "markdown",
   "metadata": {},
   "source": [
    "### `SubsetEq.conclude()`"
   ]
  },
  {
   "cell_type": "code",
   "execution_count": 125,
   "metadata": {},
   "outputs": [
    {
     "data": {
      "text/html": [
       "<span style=\"font-size:20px;\"> <a class=\"ProveItLink\" href=\"../__pv_it/demonstrations/f4adfe8185a3d80858d923c03b65cd3db11cfba80/proof.ipynb\" style=\"text-decoration: none\">&nbsp;&#x22A2;&nbsp;&nbsp;</a><a class=\"ProveItLink\" href=\"../__pv_it/demonstrations/e3e8e484e1bad6e7384613b4d2f9910ade828abb0/expr.ipynb\"><img src=\"data:image/png;base64,iVBORw0KGgoAAAANSUhEUgAAAKUAAAAVBAMAAADVzzOcAAAAMFBMVEX///9ERETMzMxUVFSYmJgQ\n",
       "EBDc3NxmZmYiIiJ2dnaqqqoyMjKIiIi6urru7u4AAAB85a56AAAAAXRSTlMAQObYZgAAAAlwSFlz\n",
       "AAAOxAAADsQBlSsOGwAAAapJREFUOMtjYGDgu8uAC7AtwyZKhIbT93AqYVCWwyJIWAPXPyDB1Aez\n",
       "qHyjAkxeHYiFMbURoYGzgYHhcfU/qHAiA+dfmJJmIJ4B4xzs6OhoYiBSA0gJAw9MiRkDQyiUyYNs\n",
       "pvYxuDuJ0ICqJP4Bg30ChKmyGWEmXxsDDjOxakBVYsHAYA8NnwlIZjJfwGUmVg2oSoCgH+qTBCQz\n",
       "uRlwmYlVA/sGVCVMfyB0CgNIyVFoEkEykwgNqQ6oSjgMoD4BK8lfAOYkI5lJWEPyXgZUJYUQiiUB\n",
       "rITPGmwoB8JIIjQwFT5AUcICtTWHAayEcy/Evw4IrxKhgdEARclKBjZw0rhsbPzVkoFh/QOI8F6E\n",
       "Q4nQAI9GPrArJjDwPOCDqA4G4qlQnY9tH2DEO24NYCWc3xgY3oPiM6O8vALCYmD4iJw3b0og500C\n",
       "GkBKmE1/mzBwgIqF/v//f0NYDIX/bZDMRE2fBDSArQWDdQyYLBxmEtCAUDKBAZOF10ycGngCYMX3\n",
       "AQYMFkM1NO90dMDLOiI0sP2CFVVwcQSLLwRL/UCEhnQr3NXL5AVYRAlpAACGP7YjlJVYmwAAAABJ\n",
       "RU5ErkJggg==\n",
       "\" style=\"display:inline;vertical-align:middle;\" /></a></span>"
      ],
      "text/plain": [
       "|- {1, 2, 4} subset_eq {1, 2, 4}"
      ]
     },
     "metadata": {},
     "output_type": "display_data"
    }
   ],
   "source": [
    "# Very simple subset relations can be automatically concluded\n",
    "SubsetEq(Set(one, two, four), Set(one, two, four)).conclude()"
   ]
  },
  {
   "cell_type": "code",
   "execution_count": 126,
   "metadata": {},
   "outputs": [
    {
     "data": {
      "text/html": [
       "<span style=\"font-size:20px;\"> <a class=\"ProveItLink\" href=\"../__pv_it/demonstrations/e20775b34f6550e4b59a6d766b380de2a9afe38c0/proof.ipynb\" style=\"text-decoration: none\">&nbsp;&#x22A2;&nbsp;&nbsp;</a><a class=\"ProveItLink\" href=\"../__pv_it/theorems/f42de4bb2ce292c235d88b89922dd44fadcc6ded0/expr.ipynb\"><img src=\"data:image/png;base64,iVBORw0KGgoAAAANSUhEUgAAADsAAAASBAMAAAAXqLt+AAAAMFBMVEX///8QEBAiIiLu7u5ERES6\n",
       "urqYmJiIiIjMzMx2dnZUVFRmZmaqqqoyMjLc3NwAAABb1yYoAAAAAXRSTlMAQObYZgAAAAlwSFlz\n",
       "AAAOxAAADsQBlSsOGwAAALhJREFUKM9jYACBtwzYAFz0PlZpmCjPfyiD3UlJSakBXZR7/QMwzXH9\n",
       "AZJmmCjDvPkQHUbIsnBRvoL6A2DGUmRZuCg3w/kEMOMCsjRcNIahfwLY6gXI0jBRhg0M78ESfCjS\n",
       "MFF2793rHcAiCkiycFFzBgZ+iMQ2JGm46AYGBiYBsBBvALLZEFFWoPt4P4CFmFcFw2Thog+BmOUf\n",
       "VHAKLFBhoib/LzPw+P+dgBob2EUpApuUlJAiFAQAw/Q6xpbqokIAAAAASUVORK5CYII=\n",
       "\" style=\"display:inline;vertical-align:middle;\" /></a></span>"
      ],
      "text/plain": [
       "|- A subset_eq A"
      ]
     },
     "metadata": {},
     "output_type": "display_data"
    }
   ],
   "source": [
    "# Very simple subset relations can be automatically concluded\n",
    "SubsetEq(A, A).conclude()"
   ]
  },
  {
   "cell_type": "code",
   "execution_count": 127,
   "metadata": {},
   "outputs": [
    {
     "data": {
      "text/html": [
       "<span style=\"font-size:20px;\"> <a class=\"ProveItLink\" href=\"../__pv_it/demonstrations/04c45929a6415a308cc24d38dbdb86611726cde70/proof.ipynb\" style=\"text-decoration: none\">&nbsp;&#x22A2;&nbsp;&nbsp;</a><a class=\"ProveItLink\" href=\"../__pv_it/demonstrations/6c15fed39da9911451fc189371d22c5a706c7c450/expr.ipynb\"><img src=\"data:image/png;base64,iVBORw0KGgoAAAANSUhEUgAAAM0AAAAVBAMAAAAX/3cYAAAAMFBMVEX///9ERETMzMxUVFSYmJgQ\n",
       "EBDc3NxmZmYiIiJ2dnaqqqoyMjKIiIi6urru7u4AAAB85a56AAAAAXRSTlMAQObYZgAAAAlwSFlz\n",
       "AAAOxAAADsQBlSsOGwAAAplJREFUSMeFlk1oE0EYht8m7SabbteCF09tsYIHPVRTi79kD+LFi1A9\n",
       "N6JSFaENHiIUpFSUPdmACIogOQletOJNKcRDi+LBgAh6UBaCeBH8FzG2cX53ZrM72zlkvuzuM8/s\n",
       "5PtmAsB9D2M7X064mAYkNOse719+MD+T2RXEL6YBXW0EbhmjQzQsrNPxrkt59dFIKJkFesZirAmw\n",
       "blea8pntop966pOJbqahPQ+05tbFjZOw1+TD+TF+l7Vnvu8vIA34hMJfiV4R/dU/d8nnLYnBkdgE\n",
       "cEI+/Fzz7FgN38cEvKq7bXHRkR6+GgmeqQAl8dtnjiqPew0GjwLeNCE92x5v5NkLlMR62/3Kk22a\n",
       "PBqAwk8R1Db0kLYo+lXN0w+TRwPw1hPLVpae8Re7pSe3FMUy/0T6eNTjHGNfRjWPCcDOonix05Ce\n",
       "IcyQlVih4RkviuVFJtugHoun0CnNYwIQ5lst9JDCIG8/UycjLCOKVUR/hHnQesLGUhojwJOCtN6y\n",
       "5sn9Jll0oI5MJYhgvWJ2VoN77rAMyHlqmQwAtgLDdRpcgPT0LCH3nSwNnRqreIXdh8XSdKBYLE3W\n",
       "ePGTtqwmbQDQCYTndbH4ax+71DeP7FfgYaCnj8tmW4MTuHyEPppvPA/QOhTE8q0LmKTrJlASs7HJ\n",
       "IIPAzRCzySp+oXl0tlq9xCNg06C277zbou87ScBhWj8C/Qa2N1izWAm0+snuaY8jT7fGxU6nzSPk\n",
       "hn80lCdaP0nAQJXsoxytdA6CbqCYvng5UqesPUA8MnjMQBgV1InS5akhHqV6koAwshH1iIonP2sD\n",
       "sYgXP+l8PzwXUgEVfVaeOVYo8tBwwusqwkcvfg6nASpSc3WPs256v/ncPZd0Lw1I+n9wg1TVf50r\n",
       "4ttWRGyRAAAAAElFTkSuQmCC\n",
       "\" style=\"display:inline;vertical-align:middle;\" /></a></span>"
      ],
      "text/plain": [
       "|- {1, 2, 4} subset_eq {1, 2, 3, 4, 5}"
      ]
     },
     "metadata": {},
     "output_type": "display_data"
    }
   ],
   "source": [
    "SubsetEq(Set(one, two, four), Set(one, two, three, four, five)).conclude_as_folded()"
   ]
  },
  {
   "cell_type": "code",
   "execution_count": 128,
   "metadata": {},
   "outputs": [
    {
     "data": {
      "text/html": [
       "<span style=\"font-size:20px;\"> <a class=\"ProveItLink\" href=\"../__pv_it/demonstrations/04c45929a6415a308cc24d38dbdb86611726cde70/proof.ipynb\" style=\"text-decoration: none\">&nbsp;&#x22A2;&nbsp;&nbsp;</a><a class=\"ProveItLink\" href=\"../__pv_it/demonstrations/6c15fed39da9911451fc189371d22c5a706c7c450/expr.ipynb\"><img src=\"data:image/png;base64,iVBORw0KGgoAAAANSUhEUgAAAM0AAAAVBAMAAAAX/3cYAAAAMFBMVEX///9ERETMzMxUVFSYmJgQ\n",
       "EBDc3NxmZmYiIiJ2dnaqqqoyMjKIiIi6urru7u4AAAB85a56AAAAAXRSTlMAQObYZgAAAAlwSFlz\n",
       "AAAOxAAADsQBlSsOGwAAAplJREFUSMeFlk1oE0EYht8m7SabbteCF09tsYIHPVRTi79kD+LFi1A9\n",
       "N6JSFaENHiIUpFSUPdmACIogOQletOJNKcRDi+LBgAh6UBaCeBH8FzG2cX53ZrM72zlkvuzuM8/s\n",
       "5PtmAsB9D2M7X064mAYkNOse719+MD+T2RXEL6YBXW0EbhmjQzQsrNPxrkt59dFIKJkFesZirAmw\n",
       "blea8pntop966pOJbqahPQ+05tbFjZOw1+TD+TF+l7Vnvu8vIA34hMJfiV4R/dU/d8nnLYnBkdgE\n",
       "cEI+/Fzz7FgN38cEvKq7bXHRkR6+GgmeqQAl8dtnjiqPew0GjwLeNCE92x5v5NkLlMR62/3Kk22a\n",
       "PBqAwk8R1Db0kLYo+lXN0w+TRwPw1hPLVpae8Re7pSe3FMUy/0T6eNTjHGNfRjWPCcDOonix05Ce\n",
       "IcyQlVih4RkviuVFJtugHoun0CnNYwIQ5lst9JDCIG8/UycjLCOKVUR/hHnQesLGUhojwJOCtN6y\n",
       "5sn9Jll0oI5MJYhgvWJ2VoN77rAMyHlqmQwAtgLDdRpcgPT0LCH3nSwNnRqreIXdh8XSdKBYLE3W\n",
       "ePGTtqwmbQDQCYTndbH4ax+71DeP7FfgYaCnj8tmW4MTuHyEPppvPA/QOhTE8q0LmKTrJlASs7HJ\n",
       "IIPAzRCzySp+oXl0tlq9xCNg06C277zbou87ScBhWj8C/Qa2N1izWAm0+snuaY8jT7fGxU6nzSPk\n",
       "hn80lCdaP0nAQJXsoxytdA6CbqCYvng5UqesPUA8MnjMQBgV1InS5akhHqV6koAwshH1iIonP2sD\n",
       "sYgXP+l8PzwXUgEVfVaeOVYo8tBwwusqwkcvfg6nASpSc3WPs256v/ncPZd0Lw1I+n9wg1TVf50r\n",
       "4ttWRGyRAAAAAElFTkSuQmCC\n",
       "\" style=\"display:inline;vertical-align:middle;\" /></a></span>"
      ],
      "text/plain": [
       "|- {1, 2, 4} subset_eq {1, 2, 3, 4, 5}"
      ]
     },
     "metadata": {},
     "output_type": "display_data"
    }
   ],
   "source": [
    "# Simple subset relation between two enumerated sets\n",
    "SubsetEq(Set(one, two, four), Set(one, two, three, four, five)).conclude()"
   ]
  },
  {
   "cell_type": "code",
   "execution_count": 129,
   "metadata": {},
   "outputs": [
    {
     "data": {
      "text/html": [
       "<span style=\"font-size:20px;\"> <a class=\"ProveItLink\" href=\"../__pv_it/demonstrations/ad9cafa1ad07d354f04b8e704f1507d7df29891b0/proof.ipynb\" style=\"text-decoration: none\">&nbsp;&#x22A2;&nbsp;&nbsp;</a><a class=\"ProveItLink\" href=\"../__pv_it/demonstrations/d403919d885b3af7c9b2f368890eeebb7a720c690/expr.ipynb\"><img src=\"data:image/png;base64,iVBORw0KGgoAAAANSUhEUgAAAMkAAAAVBAMAAAAeFNdiAAAAMFBMVEX///9ERETMzMxUVFSYmJgQ\n",
       "EBDc3NxmZmYiIiJ2dnaqqqoyMjKIiIi6urru7u4AAAB85a56AAAAAXRSTlMAQObYZgAAAAlwSFlz\n",
       "AAAOxAAADsQBlSsOGwAAAtBJREFUSMeFVU1oE0EUfknabDdpN4UiehBdEL14UdBD2whBeiyoICLi\n",
       "IRDEHwQTEBE8+Ae69SChVWwxwoIgnjTgQRAi61+lGKQeBD1oV4J4sJAiRTC2xfdmZv934hwm3775\n",
       "3rw37y8AoH0B2TpVjBF24ces9AP+++6rlJLcaUeFXfhxa8sm2jNrfj/XXQpQEjsiWoKvzNiSa78d\n",
       "Dn4P0aYG7s2WAwz38IVhGFf8oqmtpsz7p8HP6aiVnBlrZftsWHTkg+wt0PmvlQU7zop2LSwaWJMm\n",
       "InwUY2Ua4qyk5sOioFZ8lKNWaq91JnrSHBEVODxruRrZ8CU9u6+KBGq1t+L5anMvJ+dfibCXaqcd\n",
       "K0odtxOmMsh0/tpt3iMfiwl8ef9+Xo0+K4wPOUt8ftKTVe7WDagw0H6u/eahOwSb0YM3hI8VcJuA\n",
       "XkuUKQfaQVDQ6TTPZMlnhfHhjC6evAz9PJx9VTjKwGNbgO8FOE9UfFmpQf6teY7mmGvKEqkBtJ6x\n",
       "GzwjjI9XOQ210rzH0UWnbi4A/OES8h4dHjUhWcHT3kHBwJsXWFBR0iYf7zJHlYI3Diq2v0pybtse\n",
       "cMAEDHSERFulfDVEe7ctr124TyjZ5xsMjfA4GHIUHE1txWsXHhqU9CzxCPKayaGv8xop6ZgQAm0T\n",
       "RjNFUHn2obXHDhYqRd7mjweToWVMNwO/KCEItA6k6jgrbztaWGCq3sbiSRUSZSCQsDLXFV/tf94Q\n",
       "mDDpVapHKuk6/CgyhAU2ycAuWM/PNsLDctnfLzNj76HvJmoOnwUO8pOll7HNx0QZCoVBns+NWRyp\n",
       "t8ZtBlp3ClzSmtuW1yO9/ygCpFYUSk7GjaKLoiBipRoBMiv3s1SIqieTA2FFtDcGyQoDp9FBMQx3\n",
       "8hP/8k9Ciy5tUQ5Y/7jtjeoQBqx9I3+xyB8/R8hzxpIDmiK0jo9Ix+vJuKMu/Lj//SkM7j+sLeEI\n",
       "TYypNAAAAABJRU5ErkJggg==\n",
       "\" style=\"display:inline;vertical-align:middle;\" /></a></span>"
      ],
      "text/plain": [
       "|- {c, b, a} subset_eq {f, e, c, b, a}"
      ]
     },
     "metadata": {},
     "output_type": "display_data"
    }
   ],
   "source": [
    "# Simple subset relation between two enumerated sets\n",
    "SubsetEq(Set(c, b, a), Set(f, e, c, b, a)).conclude()"
   ]
  },
  {
   "cell_type": "code",
   "execution_count": 130,
   "metadata": {},
   "outputs": [
    {
     "data": {
      "text/html": [
       "<span style=\"font-size:20px;\"><a class=\"ProveItLink\" href=\"../__pv_it/demonstrations/58c1f0e98efec018c8b1cf18b396263d9a5a03cd0/expr.ipynb\"><img src=\"data:image/png;base64,iVBORw0KGgoAAAANSUhEUgAAAH4AAAAVBAMAAAByPkciAAAAMFBMVEX///9ERETMzMxUVFSYmJgQ\n",
       "EBDc3NxmZmYiIiJ2dnaqqqoyMjKIiIi6urru7u4AAAB85a56AAAAAXRSTlMAQObYZgAAAAlwSFlz\n",
       "AAAOxAAADsQBlSsOGwAAAapJREFUOMuNlDtLw1AUx/99WJsabyc3wUzOCipahOYjVFBXI0V84NCC\n",
       "0IJDBZe62IyCDp1EF6m4CUJX0cEvoA2UbkKdHPqw5t68evOAnCHce+7vR07vOQ0A8glXHCnwRiD2\n",
       "9uU+iC5qXj8IS/3R5aWZS5QeJSCy4NEZ5hQzcwYTE/RV+9Q63YUwNHKucKWmClaOPUTLXwG2wvjp\n",
       "ur+/oyGrhPBbmr+/CmSlEP4V/H09asH152+Oze3Te8bMTTZ4PzrQtzm2LFdpnLM1xaa3MWd0lvS1\n",
       "rmJgezLvJ/WmJHqe91OsI6Nsd3OiybD8C3i/SB/tZ5fOsApwAauatMqwaFHj/DgbnesP96xRbANk\n",
       "aBapolU3MDZEjn+PhGIN2/jv1zEyQPzHbn9FMzD7/gl7jwpRg5Dzu3/SQ6xxC1pvWiKbMDCjib9A\n",
       "lzbioFQqB/ZvFneFAunru5gcKYz1P7bcX0KS/odqo1E/0G+/zq9LqOoFkLUTbn5YPAQNG59KaVzO\n",
       "OVDD+QKfE627Ik37gM0kHzaGbx6zZ0104I7s8Z2RbLqw/YybPcz4fP/8sX+XwI7SW1O9RgAAAABJ\n",
       "RU5ErkJggg==\n",
       "\" style=\"display:inline;vertical-align:middle;\" /></a> <a class=\"ProveItLink\" href=\"../__pv_it/demonstrations/e8cf3480de29b3f3b6326d63a77de98ed44adb8a0/proof.ipynb\" style=\"text-decoration: none\">&nbsp;&#x22A2;&nbsp;&nbsp;</a><a class=\"ProveItLink\" href=\"../__pv_it/demonstrations/bf1918c2cc16c04a21efbf25b0287ced4ddce0b90/expr.ipynb\"><img src=\"data:image/png;base64,iVBORw0KGgoAAAANSUhEUgAAAH4AAAAVBAMAAAByPkciAAAAMFBMVEX///9ERETMzMxUVFSYmJgQ\n",
       "EBDc3NxmZmYiIiJ2dnaqqqoyMjKIiIi6urru7u4AAAB85a56AAAAAXRSTlMAQObYZgAAAAlwSFlz\n",
       "AAAOxAAADsQBlSsOGwAAAddJREFUOMuNlL9Lw0AUx79ttVpbr5PgIFgQXFwUVLQo5k9QUFcrRfyB\n",
       "QwtCCw6Kg8TFdhR0cBJdRHEThLoIooOrg/aguAk6OVhrzd0ll1x+gG9IXt59vr2Xe98UAHmBK9Yy\n",
       "8EYg9vDqXggPUa8+COv4Zem+WYsWLlNAaNAj55jdTNc2TCxmZLVNa3URsYao8bjVdX2HZ7IkIp6z\n",
       "avySsPSjwJwND9xJgUufPPbXL1BMZSyY7CJIX6X++jFgKmXBkadA/QH89UaUJByHS589Wjcfrx7T\n",
       "Zq3tQtWHf4zHaZ72OfQM65xHr5gsqdOPjMCWNFXfbgwl+s3TrEPPsDcNRTnN1grHsjdQ9Xl2qV3z\n",
       "n7LlHNsC9mQ3yTLHwnmq6Fu4dQ75ybVp9lsxbAakYTZZRvVYYNxEtv4M0Yw0243dgIGRH7R8yvFv\n",
       "UYHJ8yd8nzISFDFxfqhNUsf5k29ELk7ASskUmYXAxBC/gA82iJVCoegY9nO30789OM3lSJ05Qwvl\n",
       "HPOPjNSH0c6+oVKzWfeYxdLX7vsnUtCNBsj4huIfHudBZlNLHVSp2Qvl/+ljas30mtFTRTEbu+m6\n",
       "/H4lhncVM71mEPZmb5pnf4mh4sKW0252Ne3z/+eP/QHxd5YQ0FGn7wAAAABJRU5ErkJggg==\n",
       "\" style=\"display:inline;vertical-align:middle;\" /></a></span>"
      ],
      "text/plain": [
       "{{1, 2} = {a, b}} |- {1, 2} subset_eq {a, b}"
      ]
     },
     "metadata": {},
     "output_type": "display_data"
    }
   ],
   "source": [
    "SubsetEq(Set(one, two), Set(a, b)).conclude(\n",
    "        assumptions=[Equals(Set(one, two), Set(a, b))])"
   ]
  },
  {
   "cell_type": "code",
   "execution_count": 131,
   "metadata": {},
   "outputs": [
    {
     "data": {
      "text/html": [
       "<span style=\"font-size:20px;\"><a class=\"ProveItLink\" href=\"../__pv_it/demonstrations/9dc5596bbceff0ac89ba854f6396b961a31ef1830/expr.ipynb\"><img src=\"data:image/png;base64,iVBORw0KGgoAAAANSUhEUgAAAC4AAAAOBAMAAACiOzMyAAAAMFBMVEX///+YmJjMzMzc3NyIiIhU\n",
       "VFR2dna6urqqqqpmZmYyMjIiIiIQEBBERETu7u4AAAD7tRWPAAAAAXRSTlMAQObYZgAAAAlwSFlz\n",
       "AAAOxAAADsQBlSsOGwAAAHNJREFUGNNj4LuzgQEdMO0DElwT0IWfzvoHJPkbMNSzgMTrH2AXz2bA\n",
       "Lr7UJQKbON+vB+8NgOzZu0FgK1yc4x8DjwMW9ZwLGPgTsIhzJzDUN2ARBzp//gMs5vMr8B3E5h5W\n",
       "AV6MgGD7DHRn2ER0YdaYX4EAA+UrQZYQlc0AAAAASUVORK5CYII=\n",
       "\" style=\"display:inline;vertical-align:middle;\" /></a>, <a class=\"ProveItLink\" href=\"../__pv_it/demonstrations/db6adddf22e63f824dbf5e4d2b05d9b6ef9ac8490/expr.ipynb\"><img src=\"data:image/png;base64,iVBORw0KGgoAAAANSUhEUgAAADEAAAAOBAMAAAB0nulXAAAAMFBMVEX////MzMwyMjKqqqoiIiJm\n",
       "ZmaYmJju7u5EREQQEBC6urqIiIh2dnZUVFTc3NwAAAAqL9KcAAAAAXRSTlMAQObYZgAAAAlwSFlz\n",
       "AAAOxAAADsQBlSsOGwAAAJpJREFUGNNjYMAC+EI1BBiwghcMPL+wy9xjYJiJXWZ+AcP9B1hlrjAw\n",
       "3AdaxHdn3wZMSX8gXvmA4zuIHeICAr4QCcbfDAzs0xhYHTC0sFxgYGD9wMByAEMmAog5GxjqF6BL\n",
       "sAG1MNRvYMhnQLfHhoHvAUO9AcMlZjTHMx5g4C5g4NjA7MqKZtiT0NAQoNtuH3y7Ed0z//9/YgAA\n",
       "2Woouym+QH8AAAAASUVORK5CYII=\n",
       "\" style=\"display:inline;vertical-align:middle;\" /></a> <a class=\"ProveItLink\" href=\"../__pv_it/demonstrations/bf15b77edf0caef95847cbdf90cd278f4f7ec3540/proof.ipynb\" style=\"text-decoration: none\">&nbsp;&#x22A2;&nbsp;&nbsp;</a><a class=\"ProveItLink\" href=\"../__pv_it/demonstrations/bf1918c2cc16c04a21efbf25b0287ced4ddce0b90/expr.ipynb\"><img src=\"data:image/png;base64,iVBORw0KGgoAAAANSUhEUgAAAH4AAAAVBAMAAAByPkciAAAAMFBMVEX///9ERETMzMxUVFSYmJgQ\n",
       "EBDc3NxmZmYiIiJ2dnaqqqoyMjKIiIi6urru7u4AAAB85a56AAAAAXRSTlMAQObYZgAAAAlwSFlz\n",
       "AAAOxAAADsQBlSsOGwAAAddJREFUOMuNlL9Lw0AUx79ttVpbr5PgIFgQXFwUVLQo5k9QUFcrRfyB\n",
       "QwtCCw6Kg8TFdhR0cBJdRHEThLoIooOrg/aguAk6OVhrzd0ll1x+gG9IXt59vr2Xe98UAHmBK9Yy\n",
       "8EYg9vDqXggPUa8+COv4Zem+WYsWLlNAaNAj55jdTNc2TCxmZLVNa3URsYao8bjVdX2HZ7IkIp6z\n",
       "avySsPSjwJwND9xJgUufPPbXL1BMZSyY7CJIX6X++jFgKmXBkadA/QH89UaUJByHS589Wjcfrx7T\n",
       "Zq3tQtWHf4zHaZ72OfQM65xHr5gsqdOPjMCWNFXfbgwl+s3TrEPPsDcNRTnN1grHsjdQ9Xl2qV3z\n",
       "n7LlHNsC9mQ3yTLHwnmq6Fu4dQ75ybVp9lsxbAakYTZZRvVYYNxEtv4M0Yw0243dgIGRH7R8yvFv\n",
       "UYHJ8yd8nzISFDFxfqhNUsf5k29ELk7ASskUmYXAxBC/gA82iJVCoegY9nO30789OM3lSJ05Qwvl\n",
       "HPOPjNSH0c6+oVKzWfeYxdLX7vsnUtCNBsj4huIfHudBZlNLHVSp2Qvl/+ljas30mtFTRTEbu+m6\n",
       "/H4lhncVM71mEPZmb5pnf4mh4sKW0252Ne3z/+eP/QHxd5YQ0FGn7wAAAABJRU5ErkJggg==\n",
       "\" style=\"display:inline;vertical-align:middle;\" /></a></span>"
      ],
      "text/plain": [
       "{b = 1, a = 2} |- {1, 2} subset_eq {a, b}"
      ]
     },
     "metadata": {},
     "output_type": "display_data"
    }
   ],
   "source": [
    "# The example above works even if the order of elements\n",
    "# is different for the two sets of values\n",
    "SubsetEq(Set(one, two), Set(a, b)).conclude(\n",
    "        assumptions=[Equals(a, two), Equals(b, one)])"
   ]
  },
  {
   "cell_type": "code",
   "execution_count": 132,
   "metadata": {},
   "outputs": [],
   "source": [
    "# Some issue here involving SetOfAll sets;\n",
    "# the set_of_all.py and sets/comprehension package must be updated\n",
    "# from proveit.logic import NotEquals, SetOfAll\n",
    "# non_zero_ints = SetOfAll(x, x, conditions=[NotEquals(x, zero)], domain=Integer)"
   ]
  },
  {
   "cell_type": "code",
   "execution_count": 133,
   "metadata": {},
   "outputs": [],
   "source": [
    "# Some issue here involving SetOfAll sets;\n",
    "# the set_of_all.py and sets/comprehension package must be updated\n",
    "# SubsetEq(non_zero_ints, Integer).conclude()"
   ]
  },
  {
   "cell_type": "markdown",
   "metadata": {},
   "source": [
    "### `SubsetEq.conclude_via_equality()`"
   ]
  },
  {
   "cell_type": "code",
   "execution_count": 134,
   "metadata": {},
   "outputs": [
    {
     "data": {
      "text/html": [
       "<span style=\"font-size:20px;\"><a class=\"ProveItLink\" href=\"../__pv_it/theorems/f499420995aa101afb63b56c7e1317b0571a23ed0/expr.ipynb\"><img src=\"data:image/png;base64,iVBORw0KGgoAAAANSUhEUgAAADsAAAAPBAMAAACo4Ko7AAAAMFBMVEX///8QEBAiIiLu7u5ERES6\n",
       "urqYmJiIiIjMzMx2dnZUVFRmZmaqqqoyMjLc3NwAAABb1yYoAAAAAXRSTlMAQObYZgAAAAlwSFlz\n",
       "AAAOxAAADsQBlSsOGwAAANJJREFUGNNjYACBtwx4wX0METb/X6vWekDYPP8xdTA6MDCsbwAzudc/\n",
       "wJB+X8DAEL8BzJw3vwFDOh8olF8AYvEV1B/AkF4PxBfBhnIznE/AkBZhYLDSALNiGPongOhNSiCg\n",
       "BRbj+FJedQ2icAPD+wXomtn/MTAcBJvJ7r17vQO6NIsAAwPnDxDLnIGBXwFdmh9oHtt3iNkMTALo\n",
       "dvcDDeb6CmSwAhm8H9B11wP91H8ByHgIsukfuvRFoD5ZAwYGk/+XGXj8/05AlV3yf9WqK8CwAgDG\n",
       "Sze3IEjZSAAAAABJRU5ErkJggg==\n",
       "\" style=\"display:inline;vertical-align:middle;\" /></a> <a class=\"ProveItLink\" href=\"../__pv_it/demonstrations/813f005daece5b7845eacd1fc65f28c224dba93d0/proof.ipynb\" style=\"text-decoration: none\">&nbsp;&#x22A2;&nbsp;&nbsp;</a><a class=\"ProveItLink\" href=\"../__pv_it/theorems/db7a164f644801bfd111812bb9a6a278f180c2b50/expr.ipynb\"><img src=\"data:image/png;base64,iVBORw0KGgoAAAANSUhEUgAAADsAAAASBAMAAAAXqLt+AAAAMFBMVEX///8QEBAiIiLu7u5ERES6\n",
       "urqYmJiIiIjMzMx2dnZUVFRmZmaqqqoyMjLc3NwAAABb1yYoAAAAAXRSTlMAQObYZgAAAAlwSFlz\n",
       "AAAOxAAADsQBlSsOGwAAAP5JREFUKM9jYACBtwx4wX0METb/X6vWekDYPP+hgiVKSkoaECajAwPD\n",
       "+gYwk3v9AzDdW4fQ/r6AgSF+A5g5bz5YGbMekun5QKH8AhCLr6D+AIjmCkCSXg/EF8GGcjOcTwDR\n",
       "vMhuE2FgsII4I4ahfwKI7kKS5fhSXnUNwtzA8H4BiH6FJM3+j4HhINhMdu/d6x1ADCYkaRYBBgbO\n",
       "HyCWOQMDvwLYDQkIaX6geWzfIWYzMAmAxa4ipPuBSrm+AhmsQAbvB7CY1VIDmHQ90E/9F4CMhyCb\n",
       "/kEEI51ggXoRqE8WqNjk/2UGHv+/E1BjZMn/VauuHGCgIuBWUkJEKAQAAKfCPPnSFvDNAAAAAElF\n",
       "TkSuQmCC\n",
       "\" style=\"display:inline;vertical-align:middle;\" /></a></span>"
      ],
      "text/plain": [
       "{A = B} |- A subset_eq B"
      ]
     },
     "metadata": {},
     "output_type": "display_data"
    }
   ],
   "source": [
    "SubsetEq(A, B).conclude_via_equality(assumptions=[Equals(A, B)])"
   ]
  },
  {
   "cell_type": "markdown",
   "metadata": {},
   "source": [
    "#### The ability to prove the following using 'simplify_with_known_evaluations' was lost when implementing `readily_provable`\n",
    "\n",
    "Issue #296 (Equivalence classes with canonical forms) is perhaps the proper way to get these working again, and 'simplify_with_known_evaluations' would not be needed."
   ]
  },
  {
   "cell_type": "code",
   "execution_count": 135,
   "metadata": {},
   "outputs": [],
   "source": [
    "# SubsetEq(Set(one, two), Set(a, b)).conclude_via_equality(\n",
    "#         assumptions=[Equals(a, one), Equals(b, two)],\n",
    "#         simplify_with_known_evaluations=True)"
   ]
  },
  {
   "cell_type": "code",
   "execution_count": 136,
   "metadata": {},
   "outputs": [],
   "source": [
    "# SubsetEq(Set(one, two), Set(a, b)).conclude_via_equality(\n",
    "#         assumptions=[Equals(a, two), Equals(b, one)],\n",
    "#         simplify_with_known_evaluations=True)"
   ]
  },
  {
   "cell_type": "markdown",
   "metadata": {},
   "source": [
    "### `SubsetEq.conclude_via_equivalence()`"
   ]
  },
  {
   "cell_type": "code",
   "execution_count": 137,
   "metadata": {},
   "outputs": [
    {
     "data": {
      "text/html": [
       "<span style=\"font-size:20px;\"> <a class=\"ProveItLink\" href=\"../__pv_it/demonstrations/7137cb7e16310b5a8a68ecf16a1069890294f3600/proof.ipynb\" style=\"text-decoration: none\">&nbsp;&#x22A2;&nbsp;&nbsp;</a><a class=\"ProveItLink\" href=\"../__pv_it/demonstrations/361f8c409c23af1dda379a8b337d4d63ba76f7000/expr.ipynb\"><img src=\"data:image/png;base64,iVBORw0KGgoAAAANSUhEUgAAAD0AAAARBAMAAACcIrmXAAAAMFBMVEX///92dnaqqqoiIiLu7u5m\n",
       "Zma6urqIiIjc3NwQEBDMzMwyMjJUVFRERESYmJgAAAAeMT9/AAAAAXRSTlMAQObYZgAAAAlwSFlz\n",
       "AAAOxAAADsQBlSsOGwAAAQJJREFUKM9jYGB4+//Mmb0LGNAA3/0/Z07fAjPnMjDw/IKI1hobG1tB\n",
       "mJwXGBjOg7RxfGdgYPsKFltdgTCgv4CBIT8AZBJQL993kBCLBZIF74F63wPVMPB8YGDgngES4klA\n",
       "kj8PxDsbIBaxHAa7jxvZgUBX+YCdsv56+ekHYKE1SNJcf8tr9oFZ9Q0MTPPArB4kefYfDAyaYG03\n",
       "gVgebD4zkjzvBAYGRrCv/zBAHcrA+gAhz38A6iuufyDHQly+DSG/HqiW5xvUIq7fEEGfYw4weaCr\n",
       "GNZvAHkKaFHmFqho4mVY+O4EBupsoGoeUDxcQo8dhrOgSFNgoC5gNTZGxC8EAACGAE23KytV6AAA\n",
       "AABJRU5ErkJggg==\n",
       "\" style=\"display:inline;vertical-align:middle;\" /></a></span>"
      ],
      "text/plain": [
       "|- B subset_eq B"
      ]
     },
     "metadata": {},
     "output_type": "display_data"
    }
   ],
   "source": [
    "SubsetEq(B, B).conclude_via_equivalence()"
   ]
  },
  {
   "cell_type": "code",
   "execution_count": 138,
   "metadata": {},
   "outputs": [
    {
     "data": {
      "text/html": [
       "<span style=\"font-size:20px;\"> <a class=\"ProveItLink\" href=\"../__pv_it/demonstrations/42a0b2cac3b9bf32aa5c6cd926ae28e5af24d9070/proof.ipynb\" style=\"text-decoration: none\">&nbsp;&#x22A2;&nbsp;&nbsp;</a><a class=\"ProveItLink\" href=\"../__pv_it/demonstrations/8862f16ae6f700ddc09856db1876468cf27a14060/expr.ipynb\"><img src=\"data:image/png;base64,iVBORw0KGgoAAAANSUhEUgAAAKQAAAAVBAMAAAA6DViiAAAAMFBMVEX///9ERETMzMxUVFSYmJgQ\n",
       "EBDc3NxmZmYiIiJ2dnaqqqoyMjKIiIi6urru7u4AAAB85a56AAAAAXRSTlMAQObYZgAAAAlwSFlz\n",
       "AAAOxAAADsQBlSsOGwAAAsRJREFUOMuNVc9rE0EYfck2m2yabIJF9CAaEBTx0Ioitok04B9ghfrj\n",
       "IBgJ/rw0RSGFHhrw0PVioyIWFNyT6EUjIgUxEio9iCK9eLRZKYKHyoYeBNOaODM7O7NJuuAcMjvf\n",
       "997bb998MwGgf4PfUJ9uFf217Eu4nmPTpxVfBPbu7o3FqpYvPniI5qIt4Ps5t6ziq5TIHzwLDPTS\n",
       "XlrQt5f44sr0Nqn3poDAEHnQaHaBRy9C+yvJTWDeLW2nYRjO22iov8BLSOKJtCFhOmrsp8mDR4HT\n",
       "AhFvCcngu5wIzztkNpQcQmMiU7ekJCWzccHCqCDTDJf8KRVZqM7tDLWg/PZmhKTmWnMMGBVm0q/j\n",
       "ksfRKen6oZSgrIvMgkeyP/PBdONzfM4/HjQFt9Il+frziLuMNLitw4tNLhkmcPu97pYf3ORGnsEe\n",
       "8nVLTnDIIzlNWnnDsl0rBmvO/DUXIPbFqLOXsqwvzrsv5ewfWcrFBKte9Uiq46zxQlwJt5xJH2fF\n",
       "qaTSfNV58R+OmOTzDHCbItNMsyQV08vsyxJlZx1O8rmBCA2tvkVw0qLkOG+jPreeU9Bph2pVtrop\n",
       "q9xPDhQh17n5J3g4lIRNO/QR+aH93kSYt9FzqMwkfRN9DeeosM33HOsB1pYzTiJaxmX2YNdwkp9F\n",
       "tkfr1DqKCZYRs3Qq2YRSIZfGA+7U4RXvjidSxDoKwwHgC2PaJtLRHLQxLnkEO8guksXVYnEKNm2Z\n",
       "XXhWkH2J+F3vgVSygQKDqbPFYokxA7XobNjTl6sPybYb5GVz7fYGIneozR/3ZVJSsrMv9WFiLoVF\n",
       "2u12hTH1zL38okfSsUXcWS86+7pXsgsmmV2SmoiX/09SwCTTUYu5N8maG9ZrHUeFjinDEF4u9cDW\n",
       "JJ62O+t3NgQiJhFkY3vGhNkN85RAOodezCP+/z33zS2CN0xfwjWi9Q9o/M5KD5RjbgAAAABJRU5E\n",
       "rkJggg==\n",
       "\" style=\"display:inline;vertical-align:middle;\" /></a></span>"
      ],
      "text/plain": [
       "|- {b, 2, d} subset_eq {b, 2, d}"
      ]
     },
     "metadata": {},
     "output_type": "display_data"
    }
   ],
   "source": [
    "SubsetEq(Set(b, two, d), Set(b, two, d)).conclude_via_equivalence()"
   ]
  },
  {
   "cell_type": "code",
   "execution_count": 139,
   "metadata": {},
   "outputs": [
    {
     "data": {
      "text/html": [
       "<span style=\"font-size:20px;\"><a class=\"ProveItLink\" href=\"../../equivalence/__pv_it/theorems/2ee8dc2018014830ed832e2e3d65a4df89f102480/expr.ipynb\"><img src=\"data:image/png;base64,iVBORw0KGgoAAAANSUhEUgAAADsAAAAPBAMAAACo4Ko7AAAAMFBMVEX///8QEBAiIiLu7u5ERES6\n",
       "urqYmJiIiIjMzMx2dnZUVFRmZmaqqqoyMjLc3NwAAABb1yYoAAAAAXRSTlMAQObYZgAAAAlwSFlz\n",
       "AAAOxAAADsQBlSsOGwAAAPpJREFUGNNjYACBtwx4wX0wybxQB0iyg9ls/r9WrfWAyPL8B1NMFUkT\n",
       "GBi4IGKMDgwM6xvATO71D0BUGQPzLQaGboj0+wIGhvgNYOa8+WBlC4Bab7DqQaTzgUL5BSAWX0H9\n",
       "ARANNJmh/mMARHo9EF8EG8rNcD4B7koDKC3CwGClAWbFMPRPQPcLx5fyqmsQ5gaG9wtA9CYlENAC\n",
       "i7H/Y2A4CDaT3Xv3egd03SwCDAycP0AscwYGfgV0aX6geWzfIWYzMAmgS/cDDeb6CmSwAhm8H9Dt\n",
       "rgf6qf8CkPEQZNM/dN0XgfpkgZ40+X+Zgcf/L5rPlvxfteoKMKwAotBAF+FrKrQAAAAASUVORK5C\n",
       "YII=\n",
       "\" style=\"display:inline;vertical-align:middle;\" /></a> <a class=\"ProveItLink\" href=\"../__pv_it/demonstrations/0125337609ee7d6ced3f81bd9933b6fcae5401060/proof.ipynb\" style=\"text-decoration: none\">&nbsp;&#x22A2;&nbsp;&nbsp;</a><a class=\"ProveItLink\" href=\"../__pv_it/theorems/db7a164f644801bfd111812bb9a6a278f180c2b50/expr.ipynb\"><img src=\"data:image/png;base64,iVBORw0KGgoAAAANSUhEUgAAADsAAAASBAMAAAAXqLt+AAAAMFBMVEX///8QEBAiIiLu7u5ERES6\n",
       "urqYmJiIiIjMzMx2dnZUVFRmZmaqqqoyMjLc3NwAAABb1yYoAAAAAXRSTlMAQObYZgAAAAlwSFlz\n",
       "AAAOxAAADsQBlSsOGwAAAP5JREFUKM9jYACBtwx4wX0METb/X6vWekDYPP+hgiVKSkoaECajAwPD\n",
       "+gYwk3v9AzDdW4fQ/r6AgSF+A5g5bz5YGbMekun5QKH8AhCLr6D+AIjmCkCSXg/EF8GGcjOcTwDR\n",
       "vMhuE2FgsII4I4ahfwKI7kKS5fhSXnUNwtzA8H4BiH6FJM3+j4HhINhMdu/d6x1ADCYkaRYBBgbO\n",
       "HyCWOQMDvwLYDQkIaX6geWzfIWYzMAmAxa4ipPuBSrm+AhmsQAbvB7CY1VIDmHQ90E/9F4CMhyCb\n",
       "/kEEI51ggXoRqE8WqNjk/2UGHv+/E1BjZMn/VauuHGCgIuBWUkJEKAQAAKfCPPnSFvDNAAAAAElF\n",
       "TkSuQmCC\n",
       "\" style=\"display:inline;vertical-align:middle;\" /></a></span>"
      ],
      "text/plain": [
       "{A equiv B} |- A subset_eq B"
      ]
     },
     "metadata": {},
     "output_type": "display_data"
    }
   ],
   "source": [
    "SubsetEq(A, B).conclude_via_equivalence(assumptions=[SetEquiv(A, B)])"
   ]
  },
  {
   "cell_type": "code",
   "execution_count": 140,
   "metadata": {},
   "outputs": [],
   "source": [
    "# SubsetEq(Set(one, two), Set(a, b)).conclude_via_equivalence(\n",
    "#         assumptions=[Equals(a, one), Equals(b, two)],\n",
    "#         simplify_with_known_evaluations=True)"
   ]
  },
  {
   "cell_type": "code",
   "execution_count": 141,
   "metadata": {},
   "outputs": [
    {
     "data": {
      "text/html": [
       "<span style=\"font-size:20px;\"><a class=\"ProveItLink\" href=\"../__pv_it/demonstrations/874ef26eb324929868501f055cc1e68d3f93ea810/expr.ipynb\"><img src=\"data:image/png;base64,iVBORw0KGgoAAAANSUhEUgAAAH4AAAAVBAMAAAByPkciAAAAMFBMVEX///9ERETMzMxUVFSYmJgQ\n",
       "EBDc3NxmZmYiIiJ2dnaqqqoyMjKIiIi6urru7u4AAAB85a56AAAAAXRSTlMAQObYZgAAAAlwSFlz\n",
       "AAAOxAAADsQBlSsOGwAAAdRJREFUOMuNlLtLA0EQxr/kNCYaN5WdYCptFVQ0CKa0VFBbI0F8YBFB\n",
       "SMBCQRC10CsFLaxEG/HRCUIQG1Ew/4DmIKQTtNEi8bU3t3tx7zbgFMvc7O+7nbtv7gCwJ3hiIQV/\n",
       "1MXun70bwR7Lr6+HNX/b6Y6ohbLncSDQ7RzZt83XKOWE1ZppW4PAIjwrrcjdaUS+nBqP8M2ICRiU\n",
       "i5KMloys0RKV+n5gwoVvwS6BLp0+dqjXT1kYTkmYt2dctG7o9EVLrx8AhuMS5s3j8b2g0+9Br+ex\n",
       "q8LCCiqlDxZF9fIhIWpNZ6o++MkvR3322VjrJDqc27Gq9ZpysJmkqg/zpw5VKM1t2rFOuY2Vk8hB\n",
       "utmYJyx9DVW/ZC+lK8/xhK0CW243MZOw4JKl6BtodPYL3lmzsTGwL9GkieKhg9EQ1fQnCKU8w0bB\n",
       "MfaJhjfX/lXLwdz3z+gcE1ELkVHf83OMVWCcHZEhsTgbh4M5Jn4Ar7YRc9lszme29K8dx5kMq/Ir\n",
       "IxnI/PHf6Kv2Imx/Q7s/P9W6+tJd51Acm7wBNriszA/FqQJr9MI7S6nVNsz/6SNqzZ01lleGzRO1\n",
       "kXxRMTFr8j9BUU769C6GvAebTXjZ+YTm/6fHfgHQj5h4u+og7gAAAABJRU5ErkJggg==\n",
       "\" style=\"display:inline;vertical-align:middle;\" /></a> <a class=\"ProveItLink\" href=\"../__pv_it/demonstrations/f4d23f3192230fa72b7d458b54a8943c0dd5bfef0/proof.ipynb\" style=\"text-decoration: none\">&nbsp;&#x22A2;&nbsp;&nbsp;</a><a class=\"ProveItLink\" href=\"../__pv_it/demonstrations/bf1918c2cc16c04a21efbf25b0287ced4ddce0b90/expr.ipynb\"><img src=\"data:image/png;base64,iVBORw0KGgoAAAANSUhEUgAAAH4AAAAVBAMAAAByPkciAAAAMFBMVEX///9ERETMzMxUVFSYmJgQ\n",
       "EBDc3NxmZmYiIiJ2dnaqqqoyMjKIiIi6urru7u4AAAB85a56AAAAAXRSTlMAQObYZgAAAAlwSFlz\n",
       "AAAOxAAADsQBlSsOGwAAAddJREFUOMuNlL9Lw0AUx79ttVpbr5PgIFgQXFwUVLQo5k9QUFcrRfyB\n",
       "QwtCCw6Kg8TFdhR0cBJdRHEThLoIooOrg/aguAk6OVhrzd0ll1x+gG9IXt59vr2Xe98UAHmBK9Yy\n",
       "8EYg9vDqXggPUa8+COv4Zem+WYsWLlNAaNAj55jdTNc2TCxmZLVNa3URsYao8bjVdX2HZ7IkIp6z\n",
       "avySsPSjwJwND9xJgUufPPbXL1BMZSyY7CJIX6X++jFgKmXBkadA/QH89UaUJByHS589Wjcfrx7T\n",
       "Zq3tQtWHf4zHaZ72OfQM65xHr5gsqdOPjMCWNFXfbgwl+s3TrEPPsDcNRTnN1grHsjdQ9Xl2qV3z\n",
       "n7LlHNsC9mQ3yTLHwnmq6Fu4dQ75ybVp9lsxbAakYTZZRvVYYNxEtv4M0Yw0243dgIGRH7R8yvFv\n",
       "UYHJ8yd8nzISFDFxfqhNUsf5k29ELk7ASskUmYXAxBC/gA82iJVCoegY9nO30789OM3lSJ05Qwvl\n",
       "HPOPjNSH0c6+oVKzWfeYxdLX7vsnUtCNBsj4huIfHudBZlNLHVSp2Qvl/+ljas30mtFTRTEbu+m6\n",
       "/H4lhncVM71mEPZmb5pnf4mh4sKW0252Ne3z/+eP/QHxd5YQ0FGn7wAAAABJRU5ErkJggg==\n",
       "\" style=\"display:inline;vertical-align:middle;\" /></a></span>"
      ],
      "text/plain": [
       "{{1, 2} equiv {a, b}} |- {1, 2} subset_eq {a, b}"
      ]
     },
     "metadata": {},
     "output_type": "display_data"
    }
   ],
   "source": [
    "SubsetEq(Set(one, two), Set(a, b)).conclude_via_equivalence(\n",
    "        assumptions=[SetEquiv(Set(one, two), Set(a, b))])"
   ]
  },
  {
   "cell_type": "markdown",
   "metadata": {},
   "source": [
    "### `SubsetEq.conclude_as_folded()`"
   ]
  },
  {
   "cell_type": "code",
   "execution_count": 142,
   "metadata": {},
   "outputs": [
    {
     "data": {
      "text/html": [
       "<span style=\"font-size:20px;\"><a class=\"ProveItLink\" href=\"../__pv_it/demonstrations/68dc400961a5a18d2ed303e74f8d3241f93dee670/expr.ipynb\"><img src=\"data:image/png;base64,iVBORw0KGgoAAAANSUhEUgAAAMoAAAAXBAMAAAC4681qAAAAMFBMVEX///+IiIgiIiIQEBB2dnbu\n",
       "7u5ERETMzMzc3NwyMjK6urpmZmaYmJiqqqpUVFQAAAB6qHgnAAAAAXRSTlMAQObYZgAAAAlwSFlz\n",
       "AAAOxAAADsQBlSsOGwAAA09JREFUSMe1Vk1oE1EQ/tJku8nmp1tqxVoNJVQET7FYFfRgvUlpWbEW\n",
       "VOiPYJQKGmwPimAikXpS46EiaiGoF8FDKoq/aAqlWEQa6kVRMAVbEKpYMLSKBee93U3e6qbkoA/e\n",
       "MjO7b755M99MApS/3Pbm/amSJy7ESx8rtdbaWh3XtJIn5Fl6p6hAjmkfygHx77A1fyRHnU1F/dQ2\n",
       "4WUlc78GeMKUq+Wg7LM372SP64JhSZBdDfTwaDjDMtdTDsqzZVAEz0r+TxRfmgHBlS0HJWzRVoZC\n",
       "yQKK6Jk7tirN8GXoSmWVJSlqd2rFu4iePem/UG4ATaHQpnJQvFR8qXpmoI2TesiSMc900EjHxZaY\n",
       "IflbVmUMlHbgIXDI4m4sIygDDwoxktmLoHqPK/HCF49pdw9Ji3pRtuK4QexdSPTAwdM8Qehw5ywc\n",
       "D0O+UlTbTaGCYnyJSW2OoxRbdbvO5o1c25PhqOwqeVSpcHNavCFKay6zeeVgJMXz/6mI8s4UnPRV\n",
       "1PTRH6LFmOn+nNLv853bXwCNxuc5xOjCXcMkxwhULQT2NGpUeUsJFBgho7Pw/jRLdyMUncubIf3U\n",
       "7VSeGpY3duoW7eQoPaof1ccdGYNL8nyQJddXPSqgsIxBWcRerhTDOMbbxcu5LM3D9003T8bZGz83\n",
       "T9FuI7444rOerB6gLwnHOgejYz377mZhWKiQ+gJh8DnjUC0cW2AFocCkJQSSb5mESUi/iMm8+uO0\n",
       "E1R8H3pl3NXnUBSVGYKCO8+I7jEbw5WDf+FAWNGJOmxBmcNRSD9I6MVUOs2l7nggb/bLfdoBVg0Q\n",
       "EycikUhW/qrBGfXm+KXI6L9sUqMB0oj6/rWudfVpAkpXKyU7RJauFSeno1xSplsbTJQNRf66MaBP\n",
       "8hyq4KSIXWkiNRKFoNdbuur2QWHC6NzVrBIbAhzFbU6GhCvpJU4b1a/QxtEBfy6QE6qPV8tMS55S\n",
       "CJI8g1jUQPGabe5d3VIL92GTYyMq+rMYqVNFlMq4LUqNKeyGIAWaJZZqL7vvoPVAR8ToSrYoZ86o\n",
       "iCLZ/z5cMgd6kXYqL0tKnwXAEZtTip5FRTuBOrErgbP2/wael/7dOPeFFdo2BzqpfBgco0kpD+P/\n",
       "LFmM7fw/cfkbbIXLkrZMeRIAAAAASUVORK5CYII=\n",
       "\" style=\"display:inline;vertical-align:middle;\" /></a> <a class=\"ProveItLink\" href=\"../__pv_it/demonstrations/27632264891acdc14a618074ca8083d27acacfbe0/proof.ipynb\" style=\"text-decoration: none\">&nbsp;&#x22A2;&nbsp;&nbsp;</a><a class=\"ProveItLink\" href=\"../__pv_it/demonstrations/11009a31484c725c914625d5cbbc5d96e0ce59ae0/expr.ipynb\"><img src=\"data:image/png;base64,iVBORw0KGgoAAAANSUhEUgAAAJEAAAAVBAMAAAC01xHeAAAAMFBMVEX///9ERETMzMxUVFSYmJgQ\n",
       "EBDc3NxmZmYiIiJ2dnaqqqoyMjKIiIi6urru7u4AAAB85a56AAAAAXRSTlMAQObYZgAAAAlwSFlz\n",
       "AAAOxAAADsQBlSsOGwAAAlhJREFUOMuFVDFrFEEU/nKbXHK53JwgooXoQcAmxaXQwnjq/oMYDGoh\n",
       "cnAGS0+wEERyWMimkYBIAqZIFbQxBxZpPFkRA8EUASsLzcphpbAhyIFnPHzzZnd29nbFKZY3b77v\n",
       "m5n3vh0A4jPiI7uGlJGAJQkfvvSvjJ9IgSdh/YTRHu13pBFbOZwES9jXa9F84mqCkJMi+XqMthwG\n",
       "bx3HeQgN2zAw3QSBIcXVVKWJTZ1imMEu9NKVdr00JfEIMSWTnWukKy0jTcnaiTNNdrwekdKr7akg\n",
       "92L7plbKI66Ur7wLqlBbKQfR6MqmHRCGm3SN355fVYRmdgZ4HzTXUJIw/43oqCJdwcmgHs8wdygg\n",
       "zNnc4iGXF9Y9HAC31YY1Q0nCaPE6T77ZuK/NUXQVodZSGxYXeeUyMrStOMdSI5EQw4j9i2fzwILK\n",
       "D02iXFWEzB065sgidpmb6WLsEt2xpW5kayWGLaCgfDAD8UflqVzyZkwYmGQ7zfO9Bzs8Xw+K0IoO\n",
       "JdNdDLMPxAEG91R6usr+ZoJsSrEkZiGk0h58OsjTgN4+75m925cFoozowmquyQjTED8RECTEsgfq\n",
       "8GUTO7joGfb6dMz8W07jKLWZJsfxvF7nyK9aPdNP4uxdKtZjmn3cupc0aghrL9F5HdqpvXWqUuKo\n",
       "UFlqxJzJ4yV/N/6tpPquL6wiNnufEvlg3Mvs/0cpF6WopRdQLoUE2XX1v5LDznjfXWUcdoHj6FdF\n",
       "w35oJYqsG+I1QkI2fCrGuEwPpOZsygsbwlydcrlMOxHh1lQ/6clqygubgPUR/gJMybm2zXTn5AAA\n",
       "AABJRU5ErkJggg==\n",
       "\" style=\"display:inline;vertical-align:middle;\" /></a></span>"
      ],
      "text/plain": [
       "{forall_{x in {b, g}} (x in {b, d, g})} |- {b, g} subset_eq {b, d, g}"
      ]
     },
     "metadata": {},
     "output_type": "display_data"
    }
   ],
   "source": [
    "from proveit import g\n",
    "SubsetEq(Set(b, g), Set(b, d, g)).conclude_as_folded(\n",
    "        assumptions=[Forall(x, InSet(x, Set(b, d, g)), domain=Set(b, g))])"
   ]
  },
  {
   "cell_type": "code",
   "execution_count": 143,
   "metadata": {},
   "outputs": [
    {
     "data": {
      "text/html": [
       "<span style=\"font-size:20px;\"><a class=\"ProveItLink\" href=\"../__pv_it/demonstrations/0cf2df6216fa99c7072e364be6ba4e0b270f05f50/expr.ipynb\"><img src=\"data:image/png;base64,iVBORw0KGgoAAAANSUhEUgAAAH0AAAAVBAMAAACZCfwhAAAAMFBMVEX///+IiIgiIiIQEBB2dnbu\n",
       "7u5ERETMzMzc3NwyMjK6urpmZmaYmJiqqqpUVFQAAAB6qHgnAAAAAXRSTlMAQObYZgAAAAlwSFlz\n",
       "AAAOxAAADsQBlSsOGwAAAhdJREFUOMudVDtoFFEUPZvMZmcys+tuoUiEuGwhWAiLpEq1QrCLrBjW\n",
       "Io0xOIlNEkRLzZBUNjEWgoXFGLBTXEjAoCnWUixc0EYUsiJsI5iE4A/8nftmZ3YmZEbwwbvcz7vz\n",
       "7jn3vgGSl/PfQbVSzaTofe6WKO/jTrzZ333oz0x7xkGqATwV+25Meno5JvADsH4Bd4AbtPQLMcfM\n",
       "xv7+zA7FKvASMKqAFoeyN0rGxdLxjvaN4nEDvVVYvMKIg/82bPTfrvpq3zbFrQoMJp8slYbi8te4\n",
       "zw6eH1H13QzScUAAz7egkf0nwKW4/Hvc9dQHs7iH5Pk8xasKLPK7BL0VhflpZKxz1QnS7FhfcorG\n",
       "UC+OzlFsuciWiaWquT6tg7aLfiZNdhzD9MH0EjMEWjrm+WdF7NJHHrL5gL5n8tnXvPtdN59NyHuz\n",
       "EGryV27rJyktS13PKQrrRxwZJ+gcC1xHUD/75KQVnGK0/ef4vaz4RjlFKadtNGsSyxVDVEwANfcj\n",
       "NGUUugxJ+y9LDVLTIumzMJHBQ1VtPZR/Bti8topHyjCCKTMIe0XOmRW5UVDjO/DCtu2mQuufvAKM\n",
       "F7IbnpluP/C8udnfn+110XrcAFJZx1UVbAmajrdnLjKAp/359deCryxqyyY7KbeQ8wHfbdWTfw8b\n",
       "wUMbOHUQ+pSo42uF7qBOJ6bvfbdjtu1GPbXE/L5//sD0fFL0MPAX+3NyhvQkpG4AAAAASUVORK5C\n",
       "YII=\n",
       "\" style=\"display:inline;vertical-align:middle;\" /></a> <a class=\"ProveItLink\" href=\"../__pv_it/demonstrations/977da2c66bd77b45beb7b46df97adee2b17016bc0/proof.ipynb\" style=\"text-decoration: none\">&nbsp;&#x22A2;&nbsp;&nbsp;</a><a class=\"ProveItLink\" href=\"../__pv_it/demonstrations/231d94510161d944f82d6a9a3139e5887cc55df80/expr.ipynb\"><img src=\"data:image/png;base64,iVBORw0KGgoAAAANSUhEUgAAADwAAAARBAMAAABz4NKpAAAAMFBMVEX///+6uroyMjLMzMwiIiJm\n",
       "ZmaqqqoQEBB2dnbc3NyYmJhUVFRERESIiIju7u4AAABBACUiAAAAAXRSTlMAQObYZgAAAAlwSFlz\n",
       "AAAOxAAADsQBlSsOGwAAAPhJREFUKM9jYGDgu7N7F2cDAyrgPf9n95mdINb1ewxsIQvAgndcXFyc\n",
       "IfL8CgwM6xMYGN6A+PETQEJGNxHa7S8wMLAWMDCoPwByxEEifJ5Ipt83YGBg/MXA8Q3EMQUR3AJI\n",
       "0ueBmPMHw3wHEOcxiGBCdtsfIGb+zdB/AS5ijSTL/BdIcP1g8J8AF5qN7LHPINs+MtSDeSDnMbAg\n",
       "SfN8AHmugMEfxGEzAJGsCxDS/AeAxPoFEB9zQMQUUb3NV8PAMB/ktD6I2OuND5C9zQMMOLZfDAwS\n",
       "MFGJI7BA1QcGiiuI8fT0VgEGdLDn/+49RycwUBGwurggIhQCAGZWPiqohjWHAAAAAElFTkSuQmCC\n",
       "\" style=\"display:inline;vertical-align:middle;\" /></a></span>"
      ],
      "text/plain": [
       "{forall_{x in C} (x in D)} |- C subset_eq D"
      ]
     },
     "metadata": {},
     "output_type": "display_data"
    }
   ],
   "source": [
    "SubsetEq(C, D).conclude_as_folded(\n",
    "        assumptions=[Forall(x, InSet(x, D), domain=C)])"
   ]
  },
  {
   "cell_type": "code",
   "execution_count": 144,
   "metadata": {},
   "outputs": [
    {
     "data": {
      "text/html": [
       "<span style=\"font-size:20px;\"><a class=\"ProveItLink\" href=\"../__pv_it/demonstrations/68dc400961a5a18d2ed303e74f8d3241f93dee670/expr.ipynb\"><img src=\"data:image/png;base64,iVBORw0KGgoAAAANSUhEUgAAAMoAAAAXBAMAAAC4681qAAAAMFBMVEX///+IiIgiIiIQEBB2dnbu\n",
       "7u5ERETMzMzc3NwyMjK6urpmZmaYmJiqqqpUVFQAAAB6qHgnAAAAAXRSTlMAQObYZgAAAAlwSFlz\n",
       "AAAOxAAADsQBlSsOGwAAA09JREFUSMe1Vk1oE1EQ/tJku8nmp1tqxVoNJVQET7FYFfRgvUlpWbEW\n",
       "VOiPYJQKGmwPimAikXpS46EiaiGoF8FDKoq/aAqlWEQa6kVRMAVbEKpYMLSKBee93U3e6qbkoA/e\n",
       "MjO7b755M99MApS/3Pbm/amSJy7ESx8rtdbaWh3XtJIn5Fl6p6hAjmkfygHx77A1fyRHnU1F/dQ2\n",
       "4WUlc78GeMKUq+Wg7LM372SP64JhSZBdDfTwaDjDMtdTDsqzZVAEz0r+TxRfmgHBlS0HJWzRVoZC\n",
       "yQKK6Jk7tirN8GXoSmWVJSlqd2rFu4iePem/UG4ATaHQpnJQvFR8qXpmoI2TesiSMc900EjHxZaY\n",
       "IflbVmUMlHbgIXDI4m4sIygDDwoxktmLoHqPK/HCF49pdw9Ji3pRtuK4QexdSPTAwdM8Qehw5ywc\n",
       "D0O+UlTbTaGCYnyJSW2OoxRbdbvO5o1c25PhqOwqeVSpcHNavCFKay6zeeVgJMXz/6mI8s4UnPRV\n",
       "1PTRH6LFmOn+nNLv853bXwCNxuc5xOjCXcMkxwhULQT2NGpUeUsJFBgho7Pw/jRLdyMUncubIf3U\n",
       "7VSeGpY3duoW7eQoPaof1ccdGYNL8nyQJddXPSqgsIxBWcRerhTDOMbbxcu5LM3D9003T8bZGz83\n",
       "T9FuI7444rOerB6gLwnHOgejYz377mZhWKiQ+gJh8DnjUC0cW2AFocCkJQSSb5mESUi/iMm8+uO0\n",
       "E1R8H3pl3NXnUBSVGYKCO8+I7jEbw5WDf+FAWNGJOmxBmcNRSD9I6MVUOs2l7nggb/bLfdoBVg0Q\n",
       "EycikUhW/qrBGfXm+KXI6L9sUqMB0oj6/rWudfVpAkpXKyU7RJauFSeno1xSplsbTJQNRf66MaBP\n",
       "8hyq4KSIXWkiNRKFoNdbuur2QWHC6NzVrBIbAhzFbU6GhCvpJU4b1a/QxtEBfy6QE6qPV8tMS55S\n",
       "CJI8g1jUQPGabe5d3VIL92GTYyMq+rMYqVNFlMq4LUqNKeyGIAWaJZZqL7vvoPVAR8ToSrYoZ86o\n",
       "iCLZ/z5cMgd6kXYqL0tKnwXAEZtTip5FRTuBOrErgbP2/wael/7dOPeFFdo2BzqpfBgco0kpD+P/\n",
       "LFmM7fw/cfkbbIXLkrZMeRIAAAAASUVORK5CYII=\n",
       "\" style=\"display:inline;vertical-align:middle;\" /></a> <a class=\"ProveItLink\" href=\"../__pv_it/demonstrations/27632264891acdc14a618074ca8083d27acacfbe0/proof.ipynb\" style=\"text-decoration: none\">&nbsp;&#x22A2;&nbsp;&nbsp;</a><a class=\"ProveItLink\" href=\"../__pv_it/demonstrations/11009a31484c725c914625d5cbbc5d96e0ce59ae0/expr.ipynb\"><img src=\"data:image/png;base64,iVBORw0KGgoAAAANSUhEUgAAAJEAAAAVBAMAAAC01xHeAAAAMFBMVEX///9ERETMzMxUVFSYmJgQ\n",
       "EBDc3NxmZmYiIiJ2dnaqqqoyMjKIiIi6urru7u4AAAB85a56AAAAAXRSTlMAQObYZgAAAAlwSFlz\n",
       "AAAOxAAADsQBlSsOGwAAAlhJREFUOMuFVDFrFEEU/nKbXHK53JwgooXoQcAmxaXQwnjq/oMYDGoh\n",
       "cnAGS0+wEERyWMimkYBIAqZIFbQxBxZpPFkRA8EUASsLzcphpbAhyIFnPHzzZnd29nbFKZY3b77v\n",
       "m5n3vh0A4jPiI7uGlJGAJQkfvvSvjJ9IgSdh/YTRHu13pBFbOZwES9jXa9F84mqCkJMi+XqMthwG\n",
       "bx3HeQgN2zAw3QSBIcXVVKWJTZ1imMEu9NKVdr00JfEIMSWTnWukKy0jTcnaiTNNdrwekdKr7akg\n",
       "92L7plbKI66Ur7wLqlBbKQfR6MqmHRCGm3SN355fVYRmdgZ4HzTXUJIw/43oqCJdwcmgHs8wdygg\n",
       "zNnc4iGXF9Y9HAC31YY1Q0nCaPE6T77ZuK/NUXQVodZSGxYXeeUyMrStOMdSI5EQw4j9i2fzwILK\n",
       "D02iXFWEzB065sgidpmb6WLsEt2xpW5kayWGLaCgfDAD8UflqVzyZkwYmGQ7zfO9Bzs8Xw+K0IoO\n",
       "JdNdDLMPxAEG91R6usr+ZoJsSrEkZiGk0h58OsjTgN4+75m925cFoozowmquyQjTED8RECTEsgfq\n",
       "8GUTO7joGfb6dMz8W07jKLWZJsfxvF7nyK9aPdNP4uxdKtZjmn3cupc0aghrL9F5HdqpvXWqUuKo\n",
       "UFlqxJzJ4yV/N/6tpPquL6wiNnufEvlg3Mvs/0cpF6WopRdQLoUE2XX1v5LDznjfXWUcdoHj6FdF\n",
       "w35oJYqsG+I1QkI2fCrGuEwPpOZsygsbwlydcrlMOxHh1lQ/6clqygubgPUR/gJMybm2zXTn5AAA\n",
       "AABJRU5ErkJggg==\n",
       "\" style=\"display:inline;vertical-align:middle;\" /></a></span>"
      ],
      "text/plain": [
       "{forall_{x in {b, g}} (x in {b, d, g})} |- {b, g} subset_eq {b, d, g}"
      ]
     },
     "metadata": {},
     "output_type": "display_data"
    }
   ],
   "source": [
    "SubsetEq(Set(b, g), Set(b, d, g)).conclude_as_folded(\n",
    "        assumptions=[Forall(x, InSet(x, Set(b, d, g)), domain=Set(b, g))])"
   ]
  },
  {
   "cell_type": "code",
   "execution_count": 145,
   "metadata": {},
   "outputs": [
    {
     "data": {
      "text/html": [
       "<span style=\"font-size:20px;\"><a class=\"ProveItLink\" href=\"../../equivalence/__pv_it/theorems/6267a1e3378d398a2db01b9420ffee1006dce6060/expr.ipynb\"><img src=\"data:image/png;base64,iVBORw0KGgoAAAANSUhEUgAAAHwAAAAVBAMAAAB2y5cfAAAAMFBMVEX///8AAAAAAAAAAAAAAAAA\n",
       "AAAAAAAAAAAAAAAAAAAAAAAAAAAAAAAAAAAAAAAAAAAv3aB7AAAAD3RSTlMAq1RmmUTNIjK7EInv\n",
       "3XZ/CtNrAAAACXBIWXMAAA7EAAAOxAGVKw4bAAACEklEQVQ4y51UTUhUURT+Zt68ec4bHQd0YxsH\n",
       "apk0ZCgu1BG1BCmkduJCcBG4yOdGCIYc1y4UUfQJ5RNEsChShIighpZFMhBGLgae/Wwipjb+rLJz\n",
       "3s/MVbhP8MG975x7zrn3u993uEDwp10w5n3fZIEJQLWBJNuXZUnhl7LIGI3vQC/b92VJ69J9T2iK\n",
       "WpjiS8zKsrplgUijASgZ3gHxlCwrLzqJx8Uvvv3qXY7mD1DSBEIKcVhw1AdWhXT7Dx85AnwqFj9K\n",
       "IRJzeunS9JbDtSUEcI2OxSbQByzLyqNpzty3b5/l9y5mWJMWYBxaUiypWunfXvLsGkLYik6rjh3x\n",
       "IhlMctFVIGbFB/zKfZPMduC3t1BNbg433SDdsrjnkTjf08hqzRA9dpm5HmYT9UCnUA7sOLYuqPsC\n",
       "qC3Qf4hBddBUuvXDSKSd2HvonwXwUI/wlJ2CiB01rGkTja1RQmM0RFMbrib/mrtyXlrMhr4QysNp\n",
       "3VJFQhb7LxltNLJEgoInVbjnxJQCVjNeXjyJ8PFaXnXaKlpurizvfERTP42QcxZ5LaZpphDKQDvw\n",
       "uSxAv2Nfue5evmHQXd04GUV45ZAg7ZblymuYdulKQT32l7+KkqqvK03r3tOnIxsfjpCEbE5aeO6D\n",
       "x43AxyCS9o2fb39B425Rxt5sz5UTYkZQ+cPT7jPTHDi9os8GlS+e+1g9CoglDPwHEcJ11gs/ZAwA\n",
       "AAAASUVORK5CYII=\n",
       "\" style=\"display:inline;vertical-align:middle;\" /></a> <a class=\"ProveItLink\" href=\"../__pv_it/demonstrations/398ff42abf11344abf0d6829206f4c7899ee68cb0/proof.ipynb\" style=\"text-decoration: none\">&nbsp;&#x22A2;&nbsp;&nbsp;</a><a class=\"ProveItLink\" href=\"../__pv_it/demonstrations/ef30b59e5d361aec67721f56de6d475e89d7cb740/expr.ipynb\"><img src=\"data:image/png;base64,iVBORw0KGgoAAAANSUhEUgAAADsAAAASBAMAAAAXqLt+AAAAMFBMVEX///92dnaqqqoiIiLu7u5m\n",
       "Zma6urqIiIjc3NwQEBDMzMwyMjJUVFRERESYmJgAAAAeMT9/AAAAAXRSTlMAQObYZgAAAAlwSFlz\n",
       "AAAOxAAADsQBlSsOGwAAAPdJREFUKM9jYMANusHk2/9nzuxdgEV6P4Say8DA8wvMYr9sbGwMU8n0\n",
       "H0xxfGdgYPsKYnFtb0DSzHoezOMD6uT7DmI5I8sySMiDzeH5wMDAPQPEOoYsy1FQrwCiOS8wsBwG\n",
       "K9yALM3KoP8ARK+/Xn4azOA6gCydxLBeAETXNzAwzQMbhyIdwNAP5t8EYogrDJBk2a+Gnr8AYvwB\n",
       "4vcFIFYckrQ7AwM/SDnXPyBxPgEkxJ2AbDYD8wSQKT+ASn6DhVjOpMBk2YCO5f4A0gJUk7kFKigL\n",
       "C9ROIOYFauS5/+fM6UvoseH7fwsD0/3fAgzUA8HGxkgRCgIAMkxDd13jCOwAAAAASUVORK5CYII=\n",
       "\" style=\"display:inline;vertical-align:middle;\" /></a></span>"
      ],
      "text/plain": [
       "{forall_{x in B} (x in A)} |- B subset_eq A"
      ]
     },
     "metadata": {},
     "output_type": "display_data"
    }
   ],
   "source": [
    "SubsetEq(B, A).conclude_as_folded(\n",
    "        assumptions=[Forall(x, InSet(x, A), domain=B)])"
   ]
  },
  {
   "cell_type": "markdown",
   "metadata": {},
   "source": [
    "### `SubsetEq.unfold()`"
   ]
  },
  {
   "cell_type": "code",
   "execution_count": 146,
   "metadata": {},
   "outputs": [
    {
     "data": {
      "text/html": [
       "<span style=\"font-size:20px;\"> <a class=\"ProveItLink\" href=\"../__pv_it/demonstrations/fdbdd334045f3a043b226b27b6eb14b4daff63680/proof.ipynb\" style=\"text-decoration: none\">&nbsp;&#x22A2;&nbsp;&nbsp;</a><a class=\"ProveItLink\" href=\"../__pv_it/demonstrations/31f736ba61cfc7f96d46bc281d483d36cc6558cc0/expr.ipynb\"><img src=\"data:image/png;base64,iVBORw0KGgoAAAANSUhEUgAAAQAAAAAXBAMAAAAW+IzCAAAAMFBMVEX///+IiIgiIiIQEBB2dnbu\n",
       "7u5ERETMzMzc3NwyMjK6urpmZmaYmJiqqqpUVFQAAAB6qHgnAAAAAXRSTlMAQObYZgAAAAlwSFlz\n",
       "AAAOxAAADsQBlSsOGwAAA/FJREFUSMe1ll1oFFcUx//7MTuzH9lMKhHpx7IslkJbJIrxQdTEvklI\n",
       "nGIqWktqBTdtHuyAAQmCrkSCEGw2hUIpDQRaH6Q+bEuhTbfoCloMRV0sfRALWSimlGrsQ4NGjOu5\n",
       "HzOzk5nUDOLA7Jx777n3/O455567QOBH8+9+dzLQKqcLyy/1lOcV397QF8ZKF1CBPVBnST+hAzXW\n",
       "9UcA+02dvt0zzL76qmyNTvVL6WTXgG24JL6RhU9JL8Ysvwz8xLo+DwCw17/7LXr7puZllPZjp4iI\n",
       "UsJMVaqEa/LbsZZoo1kS4waOCf2VPz8vD4CQBEgXEGkTkVnE+0Wp8oIESPNfDpAqMQZEqwEA2lyt\n",
       "1blc0QsQmUf6AZcSm9EsAdRpLwDakaqQI4KkQLGxdbbV3wNZpO/b2VER32jcB+BLYEMutzEAQJJy\n",
       "UGm5PdjNY/2ZfwhYoP+VQuJNKayxAS72mBZAD/ADcNBl4lLFe3C67DMWp9EkMvp3vFGwVaaWABzX\n",
       "5dTMXzIxKxZAzNAeki6P5TTwCbSayxgNvMf93Ntzm028mjERtVXClC9XcN24wwGc6rRlCcA654CK\n",
       "DIsi7tg5QDMWmfAb44laNUzN5CdZkNUW7p4S2DbTncTqRD5CyqbYL3A4Rw87Qtrfk26ApHOwIqLz\n",
       "SiPABXJd3wRzFGWVbu+jbMosa+IADzFGHapJ0XIDAOtFY7e94tGDboBr1p5MxPhWNd0G+IgAaOEd\n",
       "bKWv6C1epJ+WH18qhCpwAVzmAOT1SgMACwESD/AObziRO+QCoHJ5igvN8xIgMTd3b5soohuAe6TC\n",
       "dW/Q202pHCrMxqtiPykbwErtcZqetQzFdCgD6TbwtUK69xQoTBgEWsESN1JjIRApTDIfpKmbKCd4\n",
       "Ev5C7zB5JoUPVJzjakOmDSBL+24yM24dA0rHpvv72hIisybcAFGqPqzwaW+Uy1llgW2nQnWAS+SN\n",
       "/aIqjiLUbh3D71mWcT/T1Ol8Pl9V5wwbYERYVamm3LT2qmahfKvfuipafQNGA0D6z4U7CBN1uF6v\n",
       "F5FjY9+U6TLiUvLjxzobhFb+x7oL8Lpz+DTmN+bGmgWglTRK1l2m9giaU4Bfc1WIrw80lmL+/G4X\n",
       "TcMr2YMCQLNCOxwtJulANiSh0omRI0eNXoSNVHtjAf71fy4jyBBLE/BKnW6ApFX0ki9ub4XWLwG0\n",
       "Hf/p6lZ01Os4XFW3ZwqNALGCL8AqS1DsxHwbHskZRJItOeJepDcvCpFwm/hUl15Biv/dPWbdqCG7\n",
       "S/dKziB2sc1/6LOSdeLOiJbhuQNP+P9TPB/kTqd/SncZj683x8VHRCclGkPBVn+2R/Ua08znZu0J\n",
       "yVXyUgKbGfEAAAAASUVORK5CYII=\n",
       "\" style=\"display:inline;vertical-align:middle;\" /></a></span>"
      ],
      "text/plain": [
       "|- forall_{x in {1, 2, 3}} (x in {1, 2, 3, 4, 5})"
      ]
     },
     "metadata": {},
     "output_type": "display_data"
    }
   ],
   "source": [
    "SubsetEq(set_123, set_12345).unfold()"
   ]
  },
  {
   "cell_type": "code",
   "execution_count": 147,
   "metadata": {},
   "outputs": [
    {
     "data": {
      "text/html": [
       "<span style=\"font-size:20px;\"> <a class=\"ProveItLink\" href=\"../__pv_it/demonstrations/7fe94fdb943f35ab46526ede0588d22b6e1677400/proof.ipynb\" style=\"text-decoration: none\">&nbsp;&#x22A2;&nbsp;&nbsp;</a><a class=\"ProveItLink\" href=\"../__pv_it/demonstrations/05b52f67fb0318c12bb76959cbdba4c96d63155b0/expr.ipynb\"><img src=\"data:image/png;base64,iVBORw0KGgoAAAANSUhEUgAAAOoAAAAXBAMAAAD3ts66AAAAMFBMVEX///+IiIgiIiIQEBB2dnbu\n",
       "7u5ERETMzMzc3NwyMjK6urpmZmaYmJiqqqpUVFQAAAB6qHgnAAAAAXRSTlMAQObYZgAAAAlwSFlz\n",
       "AAAOxAAADsQBlSsOGwAAA3FJREFUSMetll1IFFEUx8+6MzuzM7s6W0iRJrJkny8WRS8Ja0QlZQxk\n",
       "QR+4W9EWEbGQLyLklBH0kK0PQUTFgvgmuEVQltgKFUmFU+FDFLSRCoKFD0n6EHTunZ2dz1onGpid\n",
       "c4937m/uOf9zrgCeL97dfThT+tVryp/fL3GtdPX6bsmlX+WmcJIgAeTJ6JMHaDjm6v5shXJ12pM9\n",
       "UWt2BwiuGuAxGdz0QD3k7t5uGbUOzhWsYNbsZ8g3BGW4QCKd8EAdWgwVfDq1QnVQQ1kCBkb1QK23\n",
       "LH48uu7v1AHZQYUtEMrhlr2kNW0aCD1yqb1a/Rr1NsCmaHSzB6qIYmIjk23NZHBVtkSYn1gu2al3\n",
       "I98KVmN1qkDdB/AQ4KRl3Wc5p+L3FJcP4l9FqJHu21Q4iHevEpizUdkFOa5Q65IqJsBH8zMK0A18\n",
       "3kIwEneURrMdtcYUp5ShBl7CmDxDBka0+W1I2AZirY0angO/tv9VxOB/EfM9lpDM6F2Fq0lmTInj\n",
       "InSN8pg5m36cnKI7wwmYnehqCp1GtzgLZTEbVUxDBfWJmqP1Dv504oJSUUxPUla5hCnVn7JTATZq\n",
       "4TMqrgOz5E9APGOj4mcM0Arxa3ObyIReEqYR/Ik8qlJ8OV2kLSO7DWpnZNJEJREGYR4OkIGp75wD\n",
       "iEswZtcwlutTqom4VAg4Xu/wbr6Bk5SpoHqQzgulgV3LzRvUJXIVCMX1AxKwZ8rrgYYtYukScRWm\n",
       "wwpbpBKrIoXZpgZuKQMMFc0LvLtQKSE4xkE/nd+eAjGrSUqjniWaKxYm6ir880i9QMMWVM3UgBTe\n",
       "IEKchoXBzyZWeS6QpQYKmNEr5wFRC8km4KzRZDKpct9lzJ0vb1C3wjDAB70QuVpg70kf32iJneoz\n",
       "Udkvu7qXQRnp++VfF2aoxU5gB6WuHa8r9S6x3qgXHtq02OQhrgSey0XqLDQAb5TTGnOZCTudHXHc\n",
       "aY1behOvp6uLSYtYQwU1+ZXOfrmFUtkY1IUSZmG/KtX9Y04rZqGKehsSVzRWAn+qQBWG3u6F8yrf\n",
       "9EPiGqAjYimngOJKXaobrOSwDJdI1rlifbMlae4SmlLC9p7Puh+L13Vh+YwTwGHAfrLN0y6v60Ui\n",
       "aKrtc5w0F93/mxpexHF5mZwEPtdg9WiPkPbQctDu5QT+p4tzEvjU/0X8BhaozKQB2V40AAAAAElF\n",
       "TkSuQmCC\n",
       "\" style=\"display:inline;vertical-align:middle;\" /></a></span>"
      ],
      "text/plain": [
       "|- forall_{x in {a, 1, b}} (x in {a, 1, b, c})"
      ]
     },
     "metadata": {},
     "output_type": "display_data"
    }
   ],
   "source": [
    "# Works, but often have to explicitly pre-establish that\n",
    "# the subset_eq relationship is actually true\n",
    "Set(a, one, b, c).deduce_enum_subset_eq(subset=Set(a, one, b))\n",
    "SubsetEq(Set(a, one, b), Set(a, one, b, c)).unfold()"
   ]
  },
  {
   "cell_type": "code",
   "execution_count": 148,
   "metadata": {},
   "outputs": [
    {
     "data": {
      "text/html": [
       "<span style=\"font-size:20px;\"> <a class=\"ProveItLink\" href=\"../__pv_it/demonstrations/69d09174e516dcc07b5f8bc824a30fe2cfca12e70/proof.ipynb\" style=\"text-decoration: none\">&nbsp;&#x22A2;&nbsp;&nbsp;</a><a class=\"ProveItLink\" href=\"../__pv_it/demonstrations/9ac050298e0bf32c25f7b3211c52490d61ea8f080/expr.ipynb\"><img src=\"data:image/png;base64,iVBORw0KGgoAAAANSUhEUgAAAO0AAAAXBAMAAAAVatXDAAAAMFBMVEX///+IiIgiIiIQEBB2dnbu\n",
       "7u5ERETMzMzc3NwyMjK6urpmZmaYmJiqqqpUVFQAAAB6qHgnAAAAAXRSTlMAQObYZgAAAAlwSFlz\n",
       "AAAOxAAADsQBlSsOGwAAA5ZJREFUSMe1lk9IFFEYwL9dd5zZ3Zl1NQxLWGShW4JEHZKMtYQOkkwk\n",
       "dghMDbfwUFvaoUssKXQIbD0IIUlb5KE/0oL9MyU26JBEtUSBQbBbQhGURbSUlNX3vZl5M7s7mgv1\n",
       "YN587+/vff/eDEDxJWrbK1xZwVJpdukN/lYcKdvuNWMrWXyiG6sL+GSo9aoY7nPbXiWLlatph94U\n",
       "1/ERMaG9B5p7sD5EJ08C3KWus0VghZhtt6sGrTgCb7RW+2SWjzgz2roEpNFS20geRsXJ6h1FcL3J\n",
       "JbluP4QNZ5jcCo3rWIR9MZ37COequCZVBLckp7U6GIxxblo1g4BzxRmN66mHMoNbooKMx3cX496X\n",
       "1sblSqu++8GG63JnDDGd1LluFDYEgxuL4d7AZ1dgTxPZSBrOsfPmvup4AbeKcz3rQee6sOs2QHfO\n",
       "xg9sHNh3k4vn8Ek4Xntr6NxmJnrRhgtJaMjnSkmDKwbeYb2KRBknD4KUsSLEOoy9GbbkcSDCunBW\n",
       "Cx+vxWVROeuj01kc1J8E4TfAhJrHdYHFzmijM2QnBRmlqsswjhgIx0FBypEKavpCjjq2x2erV+tx\n",
       "HtMOS28QC0uGwRE87ReAp/E87kMLtwQ7hfcIFnFHxc9PPUXqEReesWNEyGkA4/lc3MHP5DbTSrdQ\n",
       "0QXkJnO5kt/gihEoXUT9R8jTpE/sPlbld6qjDrbG5GLKU49QmcOtpep6VCCDOk07l+LuXYX6eubn\n",
       "P20NkVSWZVyWawrpsxOD0hF9605pp5dNrmOI1QJyL3JAJ6oZn0O/0ZA/J57T6F8QOFfQrZthEr7I\n",
       "ztsZg3zTjyeVoVOEa2za8YipbxvtO0tcN09UjLD0sQkYZ43RHG5pSGhglxI2v4MuQVkHk/Ci4Pnr\n",
       "JQv4WNDivJlwOJwS51WTK36jRCCuMmQAjgLsLVemtSuuvUe1cKH5XgSc9EXwzS180CTwHv7lZ9LV\n",
       "qR4jf51xM3sk6NMslDG4uyPSTxxpav6agn7zmo9Ys+5Sl+We1MoLWE5i3JM8+1wxL2aUNa5awanK\n",
       "mwS0iJS1xpWcWPK7oJUQLCcx7jS/bdY2VoJ0wOAOnG+E3pTYGIiKeAE9+ZGy3soH7f8G6ozvJI81\n",
       "Owkmbb5/rWH93mBF86BS8DVos/+DWTQOYB7FRhK2UM7Z/eh4dIN5tIgZK+BKflvw6Y8r+b9qIW2q\n",
       "bMf0yJW1l3b/iKPw34to8xdw6l9D/gD6iOz5zs/o/AAAAABJRU5ErkJggg==\n",
       "\" style=\"display:inline;vertical-align:middle;\" /></a></span>"
      ],
      "text/plain": [
       "|- forall_{x in {1, 3, 4}} (x in {6, 1, 4, 3})"
      ]
     },
     "metadata": {},
     "output_type": "display_data"
    }
   ],
   "source": [
    "SubsetEq(Set(one, three, four), Set(six, one, four, three)).unfold()"
   ]
  },
  {
   "cell_type": "code",
   "execution_count": 149,
   "metadata": {},
   "outputs": [
    {
     "data": {
      "text/html": [
       "<span style=\"font-size:20px;\"> <a class=\"ProveItLink\" href=\"../__pv_it/demonstrations/b98820fd69a8511dd0c3c133d97e6962f2a9ab700/proof.ipynb\" style=\"text-decoration: none\">&nbsp;&#x22A2;&nbsp;&nbsp;</a><a class=\"ProveItLink\" href=\"../__pv_it/demonstrations/11a8933c273b3a352d1c7d602a37a5f5b954f7720/expr.ipynb\"><img src=\"data:image/png;base64,iVBORw0KGgoAAAANSUhEUgAAAOsAAAAXBAMAAAAYdKWEAAAAMFBMVEX///+IiIgiIiIQEBB2dnbu\n",
       "7u5ERETMzMzc3NwyMjK6urpmZmaYmJiqqqpUVFQAAAB6qHgnAAAAAXRSTlMAQObYZgAAAAlwSFlz\n",
       "AAAOxAAADsQBlSsOGwAAA5FJREFUSMe1ll1oE0EQx/+X5HL5bqpVRLFIUHxs/UCLKKa+CSrnJ6hQ\n",
       "vzBCEY20D4qg0Yo+WeNDiwjVKvogCsaCnxGNoKJIMRQFRcGqtShUax/EtlDq7N7tXe5yaCO6kL3Z\n",
       "ye79Zmdndg4oufmc1Rvax7D2eIq6FP6mTXXUSqfVMaxVemnWORK62ehtCdRw3FH9zkpVZmhPeds0\n",
       "4aRsaxLwEk/KAXeY6lQJ2PXO6iWWUd3tH7rkz+jCUXiGAQ+zogU4wAzZXAL27liwkAS2LK8Ln4E5\n",
       "OvYZWUPO8eRLwFZbRhNjsfRvsVeF8xer6E9pWLeKEDnaX8rRpgtHlyb8abeG/gPQn9SwfmLOjsXm\n",
       "loANUkTJ5Z8al/MwabE6ubn2kB17pvyrMadKd7KH4uomsN3y4oe5YljjdSExS4OojHbwgZmCt+kX\n",
       "qMFu1YqVh9RNYpIyQHp2RiHyWDN83ZbQNw9PfsoVrdStEDoXxcETPFf7ONa8QxZStzqHDttuwz/g\n",
       "joqlxPGNMCUhvKpH3C9KZaK98PD2jOOPHvq9Fjo3TU7yvVFriFFjaeD7wt5xH5huwwbTKBOJfoOn\n",
       "VhtxvhM6aticTdpipov38+1YYJY2WGfM3M8Oah7kYRvWFcdVPU9C3KlLaX2AOTT9gLryW1NSUk6E\n",
       "qrysImVglYFK1cQyJyMwiLV8YFq4i1YNIPTdhqW0va8f9wv4UszphGBxtZzCUUr1+vOa7ey8V6UO\n",
       "mlhphpTBefF6bxRyfaQa3HNStDCS5RFE0q+gCqzMsEl5IRegxCGp8PCQYufSRJsPYYuCK3z9PvJ0\n",
       "Fg2mk705ssQvEpSCP/xzY3VA81ybJYG2oCuTkYf4tEFgE20gkvNmuIDD2WyHnkAsCRFhJwqa9jSR\n",
       "SOSVb2TtAlSaWHcySKiTIuymQb4WfdOp3731agG2rmLv+yRipIp8HOqDi8qB3EOXKRNQNTo6pGNd\n",
       "7Wba+NConUo35EHsXGtgy+DOo8nY1kxLQl/YWnQ5ho1a9LJI0LCHxajJkw5SKomQqlGGH8lxjl0D\n",
       "l/q4IJLZPf77UuAxpHiRoGGNahKcXDsBvh0Ce7mzIqcswpGztWjIK9eihViv88fBeENaadw2UbvA\n",
       "87io4K1JFF4XYe2hxY6JlZ2r5AmjihkMqUjgF5mz4QHxOXBRG6o2LA45f2HdG0v1PMLqwiTHv0TM\n",
       "ahUhpEVcG/53UxzMPvaPGb8AYRXjfN+bbp0AAAAASUVORK5CYII=\n",
       "\" style=\"display:inline;vertical-align:middle;\" /></a></span>"
      ],
      "text/plain": [
       "|- forall_{x in {a, 1, b}} (x in {a, 1, b, 2})"
      ]
     },
     "metadata": {},
     "output_type": "display_data"
    }
   ],
   "source": [
    "SubsetEq(Set(a, one, b), Set(a, one, b, two)).unfold()"
   ]
  },
  {
   "cell_type": "code",
   "execution_count": 150,
   "metadata": {},
   "outputs": [
    {
     "data": {
      "text/html": [
       "<span style=\"font-size:20px;\"> <a class=\"ProveItLink\" href=\"../__pv_it/demonstrations/4302c26126eb2e0179866a31058550bc7b78169c0/proof.ipynb\" style=\"text-decoration: none\">&nbsp;&#x22A2;&nbsp;&nbsp;</a><a class=\"ProveItLink\" href=\"../__pv_it/demonstrations/1b382a237f541333f7951ce80ebb6c9d0c032b4a0/expr.ipynb\"><img src=\"data:image/png;base64,iVBORw0KGgoAAAANSUhEUgAAAOoAAAAXBAMAAAD3ts66AAAAMFBMVEX///+IiIgiIiIQEBB2dnbu\n",
       "7u5ERETMzMzc3NwyMjK6urpmZmaYmJiqqqpUVFQAAAB6qHgnAAAAAXRSTlMAQObYZgAAAAlwSFlz\n",
       "AAAOxAAADsQBlSsOGwAAA3JJREFUSMetll1IFFEUx8+6OzuzM/sxW0iRJrJkny8WRS8Kq0QlZQxk\n",
       "QR+4W9EWEbGQLyLklBH0kK0PQUTFgvgmuEVQltgKFUmFU9FDFLSRCoKFD0n6EHTunZ3PHdOJBmbn\n",
       "3Dv33t/cc/7n3AVwfXHO3Yezi0+9Ji88f5FrtWOv55a0+FR2EgfxIkCBtD67gIbijt1fJGBOVDuA\n",
       "aswtP8FVAjwmjZsuqIecuxvxDuRKulsHZ81NH/mugAQXiKeTLqhDC1MjioPnS6nBHAGDT3FBrbWs\n",
       "eTy2waAOSEuiwjYI5nHLbsKaMTX4Hsm810ZYGvU2wJZYbKsLqoBiYqITbc2kcVWyePhu9HsxucZX\n",
       "iiXUhsp0kboP4CHAScu6z/KlQtyjLx/AtwJUifdtKhzEj5mXEjJt9Mr+WTv1kiIkwUPjMwrQDVzB\n",
       "QjACd5R6sx215tOHlKEGXsKYNE0ahre5OnT+LHjpFpk6EKrt1DXkJfebmO8xhSSfVlXYqlTWFDg2\n",
       "SqeG4+ZoenFwmuyMDMDoxNZS6BR2CxmI0GQWZqAsbqMK6rP1Dv504oKiLqYnaatcQpTqTdupAJup\n",
       "zRgZ14FRQtIAzQZvEhJZG9Wrjm0i/b3ETSP4E31UIXvymkhbRnYb1M7ohIlKPAz8HBwgDVMtOkfT\n",
       "9SmNf0KEMbuGE9T3Idp6h3fzDXwnTwaUg/R1MAPMenbOoC6TKoDX1/eLwJwJ1wL1YNRSJSJpDChD\n",
       "CApMhWRGpxIrglvKgo+K5gXeXaiUIBxjoZ8Oa0+DkFMlpVLPEs3piYm6Cv06UstTVwYUMzWc9+cg\n",
       "kSFfFtokUAvH4/cTCwXs0zLnAVELiSbgy9FUKqWwPySMnadgULfDMMBHLf/YamDuiZ/eqIGd7DNR\n",
       "mXGslmVY7Zmvu7pXUAvC3+anVWvH63KtSmw08oWDNtUlBUjI/ueSTp2BeuCMdFpnTjN+p7ki0usD\n",
       "/MWiVE4LV5cvI2AOFdXklTv7pRZKZeJQE0yahf1q4epPL+MgdLAoVdDKkLCqoRy4U0UqP/R2L5xX\n",
       "uKafIlsPHVFLOvllR+ry4pPRQuFoCWSdK9aZLSlzlVCVErLXfMb5WLxeFJbHqPsO1n6yzdMO07Uk\n",
       "4VXV9pWcNBed/00NL+G4vExOB4+js3rUR1B9qDFod3MC/9PFlhK49P9F/AFuz8yk2lfZKwAAAABJ\n",
       "RU5ErkJggg==\n",
       "\" style=\"display:inline;vertical-align:middle;\" /></a></span>"
      ],
      "text/plain": [
       "|- forall_{x in {a, 1, b}} (x in {b, a, 1, c})"
      ]
     },
     "metadata": {},
     "output_type": "display_data"
    }
   ],
   "source": [
    "SubsetEq(Set(a, one, b), Set(b, a, one, c)).unfold()"
   ]
  },
  {
   "cell_type": "markdown",
   "metadata": {},
   "source": [
    "### `SubsetEq.derive_superset_membership()`"
   ]
  },
  {
   "cell_type": "code",
   "execution_count": 151,
   "metadata": {},
   "outputs": [
    {
     "data": {
      "text/html": [
       "<span style=\"font-size:20px;\"> <a class=\"ProveItLink\" href=\"../__pv_it/demonstrations/d24700c9b68dc2088a4884ef5f35193ca9a6af5f0/proof.ipynb\" style=\"text-decoration: none\">&nbsp;&#x22A2;&nbsp;&nbsp;</a><a class=\"ProveItLink\" href=\"../__pv_it/demonstrations/4327e79b9953d46295f7ab0f43eaab9c28f147f20/expr.ipynb\"><img src=\"data:image/png;base64,iVBORw0KGgoAAAANSUhEUgAAAI8AAAAVBAMAAACNsKCFAAAAMFBMVEX///+qqqqYmJiIiIgiIiLu\n",
       "7u4QEBBUVFS6urp2dnbMzMxEREQyMjJmZmbc3NwAAADzFso2AAAAAXRSTlMAQObYZgAAAAlwSFlz\n",
       "AAAOxAAADsQBlSsOGwAAAiZJREFUOMuVlL9PFEEUx7/c3gJ7xx00FjZyfwKNGIIFMYuUbEJBYaGx\n",
       "EDtOMBKJERujJJpc4Y+K5EIhFQmFBMqzMJpoQYGxOC7ZqNEQQ/CiRwgSzjdvfuzt7W4iL7nZ7858\n",
       "7zPvzcwOEBP2Y5wm8ueSRi4+/G9IGbaPlXWBq30otw12NKjJjOr5jGF3adN4VtVz+qPrARukfsI5\n",
       "bAM5I8DkTkO9GYO9hf4+7RlTz8t/nlP7jH73gRsxIFgaZAxWHVcrqtPSoCK3AjTtYcHnt2HXrcSA\n",
       "jKH7Jno1aPldBHQbWOA1eHI+PiNjoOgvKFGKgijGeU3fJpSmDSKnS7oyX4NmhuYNKPNbtD2++V+u\n",
       "EgZJAz0vzKueL9Cgdew/AAZZpzm9niCB74UwSBq4NLVrJQMCspT/PvdX+f2VS7Em1I/3CIOqRnXK\n",
       "zpTfAsqd0Mm4R6SUnO9KUEnVC4GUAZkysnVWX6FB2QpyR7SqYu6zyIvlSQelZYshkDKgt6FBj+bm\n",
       "Du7KFEfQ9YtKpqkzJVicwUB012xORBiE6iyK0jzpmQIrh7ppPV6Q/FarbfPQmzDIodL5ILNBqFSB\n",
       "zpF9LD1/wSq/hUFPbv94synHJje9FlDXneMZpEe1gdXTGn20LruqzVmp9j5/Cg6kisXXrZ8IxxlE\n",
       "VIcXVW2gcGnqvESUg6hKAlnX9E1pNiBQE4gq7CRcnXVNDNhGDcQo+3rC/bl363R39ks61/8A6Mad\n",
       "3h0GcFcAAAAASUVORK5CYII=\n",
       "\" style=\"display:inline;vertical-align:middle;\" /></a></span>"
      ],
      "text/plain": [
       "|- 2 in {1, 2, 3, 4, 5}"
      ]
     },
     "metadata": {},
     "output_type": "display_data"
    }
   ],
   "source": [
    "# given a known subset_eq relationship, and an element in the\n",
    "# subset, derive the element as being in the superset\n",
    "SubsetEq(set_123, set_12345).derive_superset_membership(two)"
   ]
  },
  {
   "cell_type": "code",
   "execution_count": 152,
   "metadata": {},
   "outputs": [
    {
     "data": {
      "text/html": [
       "<span style=\"font-size:20px;\"> <a class=\"ProveItLink\" href=\"../__pv_it/demonstrations/d76cdf2952bf24ff425afdbea18f64dc3353da980/proof.ipynb\" style=\"text-decoration: none\">&nbsp;&#x22A2;&nbsp;&nbsp;</a><a class=\"ProveItLink\" href=\"../__pv_it/demonstrations/dc8c3e5e608f451ebf7d17d962f254305d4910800/expr.ipynb\"><img src=\"data:image/png;base64,iVBORw0KGgoAAAANSUhEUgAAAHoAAAAVBAMAAAB71edYAAAAMFBMVEX////MzMwyMjKqqqoiIiJm\n",
       "ZmaYmJju7u5EREQQEBC6urqIiIh2dnZUVFTc3NwAAAAqL9KcAAAAAXRSTlMAQObYZgAAAAlwSFlz\n",
       "AAAOxAAADsQBlSsOGwAAAZ9JREFUOMtjYMAGqhYwEASPH+CQ4NYqIKyb8QYORfao4ozuEJq90wFZ\n",
       "mOMCdt1HUHi1Qd+hLKYAZHEeB2J0M3DDdPMb4NbN3eLihF/3+gKcurm0CwjZjSoO1s13Z98GEOdR\n",
       "AYrLYcLIunV3X4ayTm8TgOhe+YADLKuHMDUISRhJN/ungnpIJD8xYG1g4J4AFJrGwAr2gAJcM980\n",
       "JGEk3czfGTgh7vEBMfg+MzCwfmBgOQCK1CkuLi4eYM2XFiCEkXWzKjDwg8VYIQK1ygycDQz1oHTJ\n",
       "3gC3W7SdAS6MrBto3HpwnHFC1B5awFC/gSEfzEYK/14GhDCSbmB0x4ODtn4D1CMM9QYMl5hBYbEb\n",
       "JbVAhNnhukEsfgFgaIAZCQwMCxh4gKHGsYHZlRWcDA2QdUOE68FByfOPAcziTeAIADOAAc4DiTH2\n",
       "2wffbgTHx43lSLohwiyg/MF789M1MIv9ThgDROhM2nb0lMp1AjOlmmOyzInPJQcwWQcI6d4JY7Bv\n",
       "wGAhhFgVsOt+DwtAbkROwWAwVCZg180Xa0C4ZHoDzDEAJ219QpW5QgQAAAAASUVORK5CYII=\n",
       "\" style=\"display:inline;vertical-align:middle;\" /></a></span>"
      ],
      "text/plain": [
       "|- a in {a, 1, b, c}"
      ]
     },
     "metadata": {},
     "output_type": "display_data"
    }
   ],
   "source": [
    "SubsetEq(Set(a, one, b), Set(a, one, b, c)).derive_superset_membership(a)"
   ]
  },
  {
   "cell_type": "code",
   "execution_count": 153,
   "metadata": {},
   "outputs": [
    {
     "data": {
      "text/html": [
       "<span style=\"font-size:20px;\"><a class=\"ProveItLink\" href=\"../__pv_it/demonstrations/05f170b0ab4b4d837332c70384138e18bd2408160/expr.ipynb\"><img src=\"data:image/png;base64,iVBORw0KGgoAAAANSUhEUgAAAGcAAAAVBAMAAACphe0AAAAAMFBMVEX///8AAAAAAAAAAAAAAAAA\n",
       "AAAAAAAAAAAAAAAAAAAAAAAAAAAAAAAAAAAAAAAAAAAv3aB7AAAAD3RSTlMAmYkQqzLvVES73WZ2\n",
       "Is1wFLxSAAAACXBIWXMAAA7EAAAOxAGVKw4bAAABoElEQVQ4y2NgwAaYOxhwAN5aXDIM55pxSoVM\n",
       "htCMSgaoEuyfkXmWWSiSUyCUSlgBqiamBSjchyg8LQiV3mmAV9N3LJo4YI45uWrVAyyaOD5j0QRT\n",
       "0ncYu01o9oI1cbstEQAH5mNUZVd07kB4fD5HoH5mOrMVZhP/AYjcBbgmRqArOXIZ5kO8av+Y+S8k\n",
       "jpYzSDIwHAOz7wdANCFccG0DA4PZBgYpCK/egCEHzOBSADHug62th8iFrQKCCSDWlRdAQp6BYRFE\n",
       "Qo6B4ROYIQ+2mdmvABHwlnCLWCWBspkMzD8g3EUMHJBAz4R47AVSFHMhnMfpwMD8h4H7AyyaGMGB\n",
       "DhSCuhYIIA5m4DmAHHrM3xlYHtQygBR8BfkPxPgNDB4GBjVwmEBdwfAcJcjnMFQJCDD/A/K8GSYy\n",
       "gBnAoFOF+oYd6goGkxkGSJpMDsX6BDCsAgqZKAIDE8Rg0t5jANXE6ACzoGkWRjJiN0BngDWV8BVg\n",
       "5BmEJiYMBljTSjvMjMaTAGPZYDBA0cawRxZLnoZnhgMYDOZsXHn6ojvOMkIF6BsAvzxjBJKGB98A\n",
       "AAAASUVORK5CYII=\n",
       "\" style=\"display:inline;vertical-align:middle;\" /></a> <a class=\"ProveItLink\" href=\"../__pv_it/demonstrations/c948a3166f2980fdc0ee131183d9630e9a9d959a0/proof.ipynb\" style=\"text-decoration: none\">&nbsp;&#x22A2;&nbsp;&nbsp;</a><a class=\"ProveItLink\" href=\"../__pv_it/demonstrations/82acf1bd0edb0a413440e23f8f650fa44ada37ce0/expr.ipynb\"><img src=\"data:image/png;base64,iVBORw0KGgoAAAANSUhEUgAAAHsAAAAVBAMAAACUF4xmAAAAMFBMVEX///8AAAAAAAAAAAAAAAAA\n",
       "AAAAAAAAAAAAAAAAAAAAAAAAAAAAAAAAAAAAAAAAAAAv3aB7AAAAD3RSTlMAmYkQqzLvVES73WZ2\n",
       "Is1wFLxSAAAACXBIWXMAAA7EAAAOxAGVKw4bAAAB00lEQVQ4y2NgwAaYOxgIAt5anFLnmglrZwiZ\n",
       "DKEZlQxQJdg/I/Mss7DojUtkYJgCYaqEFaDKMS1A4T7EZvd3BgYtCCu90wCv9u9YdHN8hmnngDn1\n",
       "5KpVD7Bo5/iMRTtIiRaK4r7D2G1HcwsE8AlAtXO7LREAR8RjVA1XdO5AVfocgYYN05mtEMYVnfgC\n",
       "mO38ByCqLsC1MwL9wJHLMB8SJPaPmf9CYno5gyTEOxC5Y2DO/QCIdoTLrm1gYDDbwCAF4dUbMOSA\n",
       "GVwKUAZQTg6kEeyoeoiqsFVAMAHstBdAQp6BYRFEAqjyE5ghD4sgqByzH0g/NPos4ZazSgLVZTIw\n",
       "/4BwFzFwQKIuE6YAKscEsgaWeLgQjud0YGD+w8D9ARbtjOCoAwpBcwRUrh7sGoh/GHgOIIc883cG\n",
       "lge1DCAFX0F+BTF+AwMNxIDKMaiBwxPqRobnKBE3h6FKQID5H5DnzTCRAcwABrsqmAGWg/qaHepG\n",
       "BpMZBkjaTQ7F+gQwrAIKmSgCIwLEYNLeYwARActBtDM6wCxtmoWRaNkNcDIg2kv4CrAmaCgLNwOi\n",
       "faUdZoLmSYCxbHAzwAmCYY8slnIInkUP4GYwMGfjKocuuhNR1qkAfQ0Ap+p3a0gsvpMAAAAASUVO\n",
       "RK5CYII=\n",
       "\" style=\"display:inline;vertical-align:middle;\" /></a></span>"
      ],
      "text/plain": [
       "{f in {a, b, c}} |- f in {a, b, c, d}"
      ]
     },
     "metadata": {},
     "output_type": "display_data"
    }
   ],
   "source": [
    "# and this works more generally, where we can assume an elem in the subset\n",
    "from proveit import f\n",
    "Set(a, b, c, d).deduce_enum_subset_eq(subset=set_abc)\n",
    "SubsetEq(Set(a, b, c), Set(a, b, c, d)).derive_superset_membership(f, assumptions=[InSet(f, set_abc)])"
   ]
  },
  {
   "cell_type": "markdown",
   "metadata": {},
   "source": [
    "### `SubsetEq.derive_subset_nonmembership()`"
   ]
  },
  {
   "cell_type": "code",
   "execution_count": 154,
   "metadata": {},
   "outputs": [
    {
     "data": {
      "text/html": [
       "<span style=\"font-size:20px;\"> <a class=\"ProveItLink\" href=\"../__pv_it/demonstrations/2bb3be13e32477bc4984810bd83059161bda89f40/proof.ipynb\" style=\"text-decoration: none\">&nbsp;&#x22A2;&nbsp;&nbsp;</a><a class=\"ProveItLink\" href=\"../__pv_it/demonstrations/9aa413c8bbc7decb53a9cd05c0e7b88ddead09610/expr.ipynb\"><img src=\"data:image/png;base64,iVBORw0KGgoAAAANSUhEUgAAAGgAAAAVCAMAAACdfluMAAAAP1BMVEX///9jY2MJCQkdHR0NDQ0W\n",
       "FhaYmJhmZmYQEBDu7u6qqqpERESIiIgiIiJUVFS6uroyMjLc3NzMzMx2dnYAAABOkPcvAAAAAXRS\n",
       "TlMAQObYZgAAAAlwSFlzAAAOxAAADsQBlSsOGwAAAcRJREFUSMedltmWwyAIQJ1NxYWg8v/fOtEx\n",
       "iVszOfWhrQhcQeBUiJcr9FvYNvHGCib8p0LQ7hxt8A5IRLSnYdpXnBXaneFTO/qBGJQiO9iHlJSt\n",
       "KbDVU6BdgH4EqS5TqZ4DKuIeFGw+504dVLmc6WzJZaodQT05XVs3gLA8gtZdojMDmFpbw3PunfU/\n",
       "356egXTZI7ePvukcYA+yesRs5EBgfBxROUKeXtmwbG01xeTaBwm53IDEU1DNNE/39bKzZcp7ba6y\n",
       "zjmQbigNugdFHgyiwyMpruQMuFxF6dOa5iYSQct7kMdZdlRdKN/AJTB5lmfU3vuvz/3jLMSAtIlb\n",
       "kLKrXtVVE5DMURqSjytDaQvT50Fd3b0CyTGeWLJmj0Yq97RDRKWBpva1eAMyKYfdljcXnQqqDWTq\n",
       "G12OnNjUCFpU3TWTUhFDI9LYpC5V33bXg6bqBBmMN6D015pH34vgVV6+EQkp5z7afyjVeQb8nCb1\n",
       "qYyomTB78HW4ei6LGtHeRDv6GKrJv5rs8iPZvepejKDraeCJ6A5E8Eg5PRLdgMKiKdw0EQW4J6J+\n",
       "qgw3MAs4T8KF0yUHmqnSL1yGqdC89Z8h/dn9AuCbF7rSTToxAAAAAElFTkSuQmCC\n",
       "\" style=\"display:inline;vertical-align:middle;\" /></a></span>"
      ],
      "text/plain": [
       "|- 6 not-in {1, 2, 3}"
      ]
     },
     "metadata": {},
     "output_type": "display_data"
    }
   ],
   "source": [
    "# given a known SubsetEq relationship, and an element NOT in the superset,\n",
    "# derive the element as NOT being in the subset\n",
    "SubsetEq(set_123, set_12345).derive_subset_nonmembership(six)"
   ]
  },
  {
   "cell_type": "code",
   "execution_count": 155,
   "metadata": {},
   "outputs": [
    {
     "data": {
      "text/html": [
       "<span style=\"font-size:20px;\"><a class=\"ProveItLink\" href=\"../__pv_it/demonstrations/6bea360928de6ec1d21061661cc139b45a0a1d780/expr.ipynb\"><img src=\"data:image/png;base64,iVBORw0KGgoAAAANSUhEUgAAADEAAAAUCAMAAAATIyWrAAAAPFBMVEX///8NDQ0WFhYLCwsYGBjM\n",
       "zMwyMjKqqqoiIiJmZmaYmJju7u5EREQQEBC6urqIiIh2dnZUVFTc3NwAAADJzR5XAAAAAXRSTlMA\n",
       "QObYZgAAAAlwSFlzAAAOxAAADsQBlSsOGwAAAM5JREFUKM+VU1kSwyAItYuKW1W4/10rZKZjqjWV\n",
       "DzIk8hYwSq3CBbUXOnYFOmeivujoDyB3F3qtKWpXVOSc0poCuyIRe6qEi4ZXT6EqSCYRirVkzEOH\n",
       "mcABCVZqnyJ9BulA4vngXM/OiIFD8nLsLwoBcEIE5duFmyz02E/iRxgGPaHwh8Qg0jx1SKz/fjvc\n",
       "dD4sy0BsHZanZpQ9gZrhRmnRndv72DgsOHXSbQcXCI6DBxRqLhpr1msKIAnzY922bN7yCcVF+G0K\n",
       "2KVQyz/tDRK0CDlZK2LPAAAAAElFTkSuQmCC\n",
       "\" style=\"display:inline;vertical-align:middle;\" /></a>, <a class=\"ProveItLink\" href=\"../__pv_it/demonstrations/5666928a057465708634cf5e7f705c93445e71f60/expr.ipynb\"><img src=\"data:image/png;base64,iVBORw0KGgoAAAANSUhEUgAAAC8AAAAUCAMAAAAqRJTwAAAAPFBMVEX///8NDQ0WFhYLCwsYGBiY\n",
       "mJjMzMzc3NyIiIhUVFR2dna6urqqqqpmZmYyMjIiIiIQEBBERETu7u4AAAAYV9lEAAAAAXRSTlMA\n",
       "QObYZgAAAAlwSFlzAAAOxAAADsQBlSsOGwAAANRJREFUKM+VktkSwyAIRe3ighE3/v9fK6Tp6MQ2\n",
       "lQcm4PXOEaLU98A669aS01RuSldYxFjM/h1xqj+ORc53PW1SUJjaQ1eA5Zwz542mnMV2RRYNEPf8\n",
       "FH/r7RWIBogRIzgHJ6Rozx6JeD4Ua0vHMSaJ54MzjC8i13IQtOz+sJfrGGVGfqSfjBj3fSQvMwpX\n",
       "9voNJ0r8zFT477f9FR1/YFvbbHhGNevR/rQRI7yu9aFJy4gbTvQ2IQdvoYJHrS7sE0nE6Y8WvFqK\n",
       "WJfketE+rdkr8+vwBVXZCUMTWNx6AAAAAElFTkSuQmCC\n",
       "\" style=\"display:inline;vertical-align:middle;\" /></a>, <a class=\"ProveItLink\" href=\"../__pv_it/demonstrations/b16231dbdad24d03b9561cf49f1744f3edfcc6c90/expr.ipynb\"><img src=\"data:image/png;base64,iVBORw0KGgoAAAANSUhEUgAAAC8AAAAUCAMAAAAqRJTwAAAAPFBMVEX///8NDQ0WFhYLCwsYGBgy\n",
       "MjJUVFS6urru7u4QEBBERERmZmaqqqoiIiLc3NzMzMyYmJiIiIh2dnYAAAB6aGVTAAAAAXRSTlMA\n",
       "QObYZgAAAAlwSFlzAAAOxAAADsQBlSsOGwAAAMBJREFUKM+Vk+sOwyAIhd1Fq6VQlfd/1xVME7pZ\n",
       "M/lBQoST70Dr3H1AdDOxr6YgAL/uw377TDJbeRnJB1MEkpzSSJ5MkVi8BKbb9sXKu4CauSHWUvK3\n",
       "F9+RQlYvuB27O5cBqPF+SQ5XR1x0qgpg+UNex4E7Z1mgc76GkNaO2458bnCRryTK/3w0F4Z/E2o6\n",
       "ZDg3gov8D+Iu7a7EE6vafW4/9IQgoVeoNecSx/LIGr57WkWdCD/33edJeZyTd8O/6AP7cgeh9A3v\n",
       "TAAAAABJRU5ErkJggg==\n",
       "\" style=\"display:inline;vertical-align:middle;\" /></a> <a class=\"ProveItLink\" href=\"../__pv_it/demonstrations/43ac19f8f3a143363b7722fabbe047dc62ac3ed70/proof.ipynb\" style=\"text-decoration: none\">&nbsp;&#x22A2;&nbsp;&nbsp;</a><a class=\"ProveItLink\" href=\"../__pv_it/demonstrations/6da576a84987a29a700e9d5dd7a8e5d36adfba9d0/expr.ipynb\"><img src=\"data:image/png;base64,iVBORw0KGgoAAAANSUhEUgAAAGcAAAAVCAMAAABsdQABAAAARVBMVEX///8/Pz9vb28YGBgJCQkd\n",
       "HR0NDQ0WFhaqqqqYmJiIiIgiIiLu7u4QEBBUVFS6urp2dnbMzMxEREQyMjJmZmbc3NwAAAD+Oi4s\n",
       "AAAAAXRSTlMAQObYZgAAAAlwSFlzAAAOxAAADsQBlSsOGwAAAbZJREFUSMelVu166yAIdmfbmVFE\n",
       "I+j9X+oMptVU03SbP9JKgJePF54odXrS8Qreq5+fpNOVCkF/M+ThFzhqxVjtEjPFdabQ33R+hrLa\n",
       "h7cQnb39j+IoxfIIeawJH0TBnoIAMo1REB9NUern3GB+dPwEZyvqiJP10dSJCua+XSZa+/Wf/oLj\n",
       "m2TPpz5z65AnU3Rw/VM+nX5vanNjovAM6MQuYTDJXOIQGoP6EWfNzZKkgsuDK95xvSuv46PbAQdy\n",
       "iRZqM0zrve04TJPhUckt1V5+2V7lU8fASbDpTgmO3Sg4W87nh7VNmJB2krPU14YrnJp+DjvxSZAW\n",
       "PEyY1FQf55D3oXZRiuKvcCQSvycSapR6k6V0mJuBXXWoQfq45Eu+CQJX6b5KVknO3BVNceVZTXkK\n",
       "Yo+ktu0II85dtI0J7D0NwoNkeTtdAqWYuM5xVCxBaMuKhVLtbWVWE2GBiNyb2iyH+n0V3+EEB9CE\n",
       "NaHZ4rC35YnoMm2emwgw8HI54v/eyuKxl3tHwyuiJzgELymHl0TnOClONti40MG8ImqrZAxAT7Dz\n",
       "IJz4nMHcaDcenCbJqH/zfRCq2Td7Mxkc4aDL0AAAAABJRU5ErkJggg==\n",
       "\" style=\"display:inline;vertical-align:middle;\" /></a></span>"
      ],
      "text/plain": [
       "{a != 2, b != 2, c != 2} |- 2 not-in {a, 1, b}"
      ]
     },
     "metadata": {},
     "output_type": "display_data"
    }
   ],
   "source": [
    "SubsetEq(Set(a, one, b), Set(a, one, b, c)).derive_subset_nonmembership(\n",
    "        two, assumptions=[NotEquals(a, two), NotEquals(b, two), NotEquals(c, two)])"
   ]
  },
  {
   "cell_type": "code",
   "execution_count": 156,
   "metadata": {},
   "outputs": [
    {
     "data": {
      "text/html": [
       "<span style=\"font-size:20px;\"><a class=\"ProveItLink\" href=\"../__pv_it/demonstrations/042a752163ff5cc5f135dfdbf596caad049314b60/expr.ipynb\"><img src=\"data:image/png;base64,iVBORw0KGgoAAAANSUhEUgAAAHsAAAAVCAMAAABR52FnAAAAP1BMVEX///8AAAAAAAAAAAAAAAAA\n",
       "AAAAAAAAAAAAAAAAAAAAAAAAAAAAAAAAAAAAAAAAAAAAAAAAAAAAAAAAAAAAAADFBd4eAAAAFHRS\n",
       "TlMAmYkQqzLvVES73WZ2Is3p8+P3nSi1AlMAAAAJcEhZcwAADsQAAA7EAZUrDhsAAAHvSURBVEjH\n",
       "rVbtkqQgDIQQ+Qzs3R7v/6ynwiAE3aGm1h9axqQ7JB1QiOcrsndlrfiNK5r41iep4ZWSVb/CLTZ0\n",
       "PZIEUJPH8GryI7Ny2i+yJi2Pp+uwATdtmJ8cKww/wSe5uuZsOJg21vFlMa4fubNZpLaleh2Y5fUk\n",
       "57/++LTKbfOqEipKB8ZwbSIlcFtfN/jVktfmtICA2mPXsHgIXKUn/IhAkUZEJEJWdiAKQ/pH3Fab\n",
       "0yWbB6h0jF8gLr2ajNX7ZzcUWeU9W5X7qY1+J5GuL2YfR7o55iHBdDPcIupQeM6n9PP46T5bD8xS\n",
       "49KL0bTYYQa19/7v935zXb1SnTiZGzQrSe5schIfi1OYzI1U1EEJrHubrDOo3VnkYfZPRNvPmXZc\n",
       "ZCwOXmtxOA32LNzipE5phDxPd79UlblaWNy1SerRk0hY+TBH6uTBJI7z4BV/yKX0s1mKOGyzDHE7\n",
       "mG5SY+dTMny4r8a4PU/jpZCnvMsn3JmcFJ2lKBy2y9LF9V0epXYK4Xs+sqq7QoItIh3Jea+qDWRZ\n",
       "6MsiAEIgNfhccR23RM4T/oHbdf52TzXqE0sDMyiSeXNyP3LDR5YG5t20e4robtyvrejqDX1iuXaE\n",
       "QHL6g4G7EzHO5+QMu2Jpm9zthfe/WRJXT+k3/2tQgP4DpIAQCu0+ReYAAAAASUVORK5CYII=\n",
       "\" style=\"display:inline;vertical-align:middle;\" /></a> <a class=\"ProveItLink\" href=\"../__pv_it/demonstrations/b9172752f324f6164893be315a0ce3e1878822cd0/proof.ipynb\" style=\"text-decoration: none\">&nbsp;&#x22A2;&nbsp;&nbsp;</a><a class=\"ProveItLink\" href=\"../__pv_it/demonstrations/27687fbb9702f9900205b9ba96a9d6d18d2ef76d0/expr.ipynb\"><img src=\"data:image/png;base64,iVBORw0KGgoAAAANSUhEUgAAAGcAAAAVCAMAAABsdQABAAAAP1BMVEX///8AAAAAAAAAAAAAAAAA\n",
       "AAAAAAAAAAAAAAAAAAAAAAAAAAAAAAAAAAAAAAAAAAAAAAAAAAAAAAAAAAAAAADFBd4eAAAAFHRS\n",
       "TlMAmYkQqzLvVES73WZ2Is3p8+P3nSi1AlMAAAAJcEhZcwAADsQAAA7EAZUrDhsAAAG6SURBVEjH\n",
       "lVbpuoQgCFUgF0Tv5vs/6y1ryqWmxh8znygclgOm1PWK3R6dU5+uaOPtnYTNVpLDj3HURL7W0gA4\n",
       "3Gi2Nl+ioDd8jeQrO0CTsd25brME/C50fX1WKxrrfO8uq+c42T7CcX1OxPPXN6enOC7jI5zOhkuC\n",
       "iqbn8byNdT8MZJiqBMeFaJiurkcCidKWh0SoSx2IhKlzIjdqaaF8kJ4WG7Az87FvEoV59gxz3SmR\n",
       "Z1jtSw3MLsxNjtJJ86howmqz/GseKW9qzxh2SdxJYnPTN4aZf37nH3+gUNpYrvNupgs1VzJdx4uU\n",
       "7EkZcTEPXbYnvfHe+JKoprcKqqu5bXxdqZePnobG4Yu2xlLKkMfuqUPAuuDHIDFtzUWU0xf0xGKT\n",
       "klrm40t/Ke9at12yFrPEAWanQTeHk+2b50iun32yrJUuNFuPaLbqtaokK9Og5XVLg1K433E0b9eR\n",
       "BKZIsphgxk0Geg3gJVEAIQi21dfU2wx/4Ge+3c4di/eSTdGSSvbm5bnEgQeSTZH9MGFU9Cdj6mjr\n",
       "I79yL3l1VxA9vKxwNuXjOPtHoycwuA2Sk0XnT70m+/n3AaxK/2QCDV9h4kJgAAAAAElFTkSuQmCC\n",
       "\" style=\"display:inline;vertical-align:middle;\" /></a></span>"
      ],
      "text/plain": [
       "{f not-in {a, b, c, d}} |- f not-in {a, b, c}"
      ]
     },
     "metadata": {},
     "output_type": "display_data"
    }
   ],
   "source": [
    "# and this works more generally, where we can assume some elem not in the superset\n",
    "# which means it must not be in the subset\n",
    "from proveit import f\n",
    "Set(a, b, c, d).deduce_enum_subset_eq(subset=set_abc)\n",
    "SubsetEq(Set(a, b, c), Set(a, b, c, d)).derive_subset_nonmembership(f, assumptions=[NotInSet(f, Set(a, b, c, d))])"
   ]
  },
  {
   "cell_type": "markdown",
   "metadata": {},
   "source": [
    "### `SubsetEq.apply_transitivity()`"
   ]
  },
  {
   "cell_type": "code",
   "execution_count": 157,
   "metadata": {},
   "outputs": [
    {
     "data": {
      "text/html": [
       "<strong id=\"set_123_subset_eq_set_12345\">set_123_subset_eq_set_12345:</strong> <span style=\"font-size:20px;\"> <a class=\"ProveItLink\" href=\"../__pv_it/demonstrations/13361bbd79dc53ed8132e31902c407efbb3cc19b0/proof.ipynb\" style=\"text-decoration: none\">&nbsp;&#x22A2;&nbsp;&nbsp;</a><a class=\"ProveItLink\" href=\"../__pv_it/demonstrations/d5e8e0d14b45cdfeb36a8e586d1c24754eda99e50/expr.ipynb\"><img src=\"data:image/png;base64,iVBORw0KGgoAAAANSUhEUgAAAM0AAAAVBAMAAAAX/3cYAAAAMFBMVEX///9ERETMzMxUVFSYmJgQ\n",
       "EBDc3NxmZmYiIiJ2dnaqqqoyMjKIiIi6urru7u4AAAB85a56AAAAAXRSTlMAQObYZgAAAAlwSFlz\n",
       "AAAOxAAADsQBlSsOGwAAAnBJREFUSMeFls1rE0EYxp8mNenGdRG8eKrBCh70oKZKW5Xm4B8gqOdG\n",
       "VKoi1OAhQkGKYtmTDYigCJKT4EUr3pSCHiqIBwMi6EFZCOJF8AMVMdo4887OzH7N7HvIPMzub57Z\n",
       "mfedCQDvPYxxtpHRaQMyonRXtC8/mN8p7A7SnTYgEVV4DYyNcllZ4+Ndk+ath9VQ3Wp2gaFdKdYO\n",
       "iNgetjNPfDbRTVw6C0Bvfi18cBzOP6E+ofJHPKV45vv+ZeQDIq6E7dXfd9jvTYnBldg+4JhQrzpe\n",
       "X/vseK6+xw5QuNJHrEaGz0yAabH3b7rQPt4iDD5JgGLbozyfCWC6Kjfih/Ipdk0+SYCinevDYkmK\n",
       "t3Xlsx4mnyRAy9aQPuMv9kif8nIcK/wNxc4am6d7mPRYxMcO8DgJ6TOKObYSq1yeqsexEZXJPH1K\n",
       "IoVORHzsAC2b8mGFwb5+rsNGWEEca+oR2R6j95jG0p15ADDciPiUf7Es2t9BoRnEsGE5u63AFjaP\n",
       "25QB5bpephwAOAfpM7SM8ne2o3xqVPEau4eSSNNBwLFK+GBFT9oOsHhdq/2cpK51Cyh+BR4E0fTx\n",
       "aLZtuAGpI7QMjsgD9A4GqXzLAjzxDtM0NrPaCNxQmMNW8QvPo9Ot1kWhDkXrB3i3OXruGAFSwDfQ\n",
       "2VA6j9UgUj/Fvf1xjPCjcWkw6Au1ocWPReUTrx8jQArNwQHwAxSzFy7F6pTiPtLK4GMGlKroGyXh\n",
       "00ZaWX2yAKUcxH3Cimfb+hQpJYqfNb6v7gUroNVn7TNP15O8NFzVrxU+1tP3sA3QSs/VO0rN7JT5\n",
       "3j2T9cwGZP0/uM6q6j+Z2u9BjLs7ggAAAABJRU5ErkJggg==\n",
       "\" style=\"display:inline;vertical-align:middle;\" /></a></span><br>"
      ],
      "text/plain": [
       "<IPython.core.display.HTML object>"
      ]
     },
     "metadata": {},
     "output_type": "display_data"
    }
   ],
   "source": [
    "# establish a subset_eq judgement:\n",
    "set_123_subset_eq_set_12345 = set_12345.deduce_enum_subset_eq(subset=set_123)"
   ]
  },
  {
   "cell_type": "code",
   "execution_count": 158,
   "metadata": {},
   "outputs": [
    {
     "data": {
      "text/html": [
       "<strong id=\"set_12345_subset_eq_set_1234567\">set_12345_subset_eq_set_1234567:</strong> <span style=\"font-size:20px;\"> <a class=\"ProveItLink\" href=\"../__pv_it/demonstrations/6931b6bdb8eaacf45840416505ea8808f2eb4da70/proof.ipynb\" style=\"text-decoration: none\">&nbsp;&#x22A2;&nbsp;&nbsp;</a><a class=\"ProveItLink\" href=\"../__pv_it/demonstrations/4141736858019cec0780b186fc7daf76ced125820/expr.ipynb\"><img src=\"data:image/png;base64,iVBORw0KGgoAAAANSUhEUgAAARsAAAAVBAMAAACEflfWAAAAMFBMVEX///9ERETMzMxUVFSYmJgQ\n",
       "EBDc3NxmZmYiIiJ2dnaqqqoyMjKIiIi6urru7u4AAAB85a56AAAAAXRSTlMAQObYZgAAAAlwSFlz\n",
       "AAAOxAAADsQBlSsOGwAAA71JREFUSMellktoE0EYx/95bbppsg32oCLWgEL1ZGnqW2lA8KJIpRVE\n",
       "0EZ8VFFoi8IKRY2oGD3YaClaFJuT4MVG60FRMSAVRdCAB09KQBQPSuujPlpNnJ3HZl8pKd3D7j+z\n",
       "M//vN7PffBMAyltM55JuOLV+yWGGl/B98a7iIREocSyss78IPspX6uEGPlpJNmt35hsoaH0uiDfq\n",
       "7QhTBy7P1/vX82f7gyQJW2uPMaTRLBZIHT2zYDNxd7Gnb/KeCDYwwGIFisXiOPeVE8D7ngLvsQvy\n",
       "PyqULgylhdUp/jzz+zq5X7HjkCZlxWOOI4UxmLOZVDXwZ/s53u9gzpOgQp6tque5r4aDoMBZDmxl\n",
       "yz+B0Yz4FAKnQcR2wAFe8TCeOHwtNpNnHMejD3oIV5jhkCl0OeK059Ec10RoB2qE06JhR5zgnGQy\n",
       "GbHj+Arw/ITFxL3RihMo6Iq1OuCsBJojIiFiXKQccdz342VWJwHPN1hM5GorjqvFsLyXnHHI1cuf\n",
       "odNiFeICp+l5YwnnU7zMx9ISZMxq8lTH2dTH5uu7c+2YvrfCwsSfMeO4//Lnk0besgcCpw6dJEdH\n",
       "2I91hsn1WHCWZi0mUkzguPIS2yw1d+ETee7RUp/67o2ZccQOgL4pUjoOMSNr2cnaM4bC0WbBOQWL\n",
       "iYxq3Rdz6H10DP6dvGWvdtN8dz+CGadbVz7W6I0bcPwkR5U1Wgh3yV5akzPj+MNWkw1GnBP0M48m\n",
       "4P3HW67SskB83d15E46Xj3JH4Jqg6hAEjisDP8lRmc5AKtmjvs6Msx4WEymr48wjODR5yJ7z/uAd\n",
       "T9IV1HxdDSacm5Aoe01B4LyORsdXsZmSLTPGSzCQMOROrQknkMI+mExC0Whza4q2bSN7V3x3sTrK\n",
       "d7206ztLofNJIZjXlK9BW2ceoBVUkXLlI5+hnzUecSqDdMAS4CVVRhOiFZaJ2EJVgOROC3sZ+qXd\n",
       "+/WNLpOUoPVzv6oepcobIyVDmWTRvoIqUjpH8vpGr85ZcAbjvNtZVU1QZTSpCbMIHQjuZGouPqTZ\n",
       "y8AfGOuOZ9lkE6q0k623WJxk6o1KTr8khe8urmWq4/DxUt1Rat+ZcKLtwzHarYqciBk2oGTiX/A9\n",
       "S30ldUWeRZDVRv5S2m7CYdct2FQgb1f6IRG6aD4kyg0oqSkjWHFSsCkZdlX2CC03QEZFEZhJUBwd\n",
       "ShY29Rl2xUqw+RqZasBnVBSB+UoT4mgq/bfTVdZBKW12nM70FAOyqCgC9+1YPb3/tH1ph8bD6Rn/\n",
       "V9Z8/wMR7D2UIG/wCQAAAABJRU5ErkJggg==\n",
       "\" style=\"display:inline;vertical-align:middle;\" /></a></span><br>"
      ],
      "text/plain": [
       "<IPython.core.display.HTML object>"
      ]
     },
     "metadata": {},
     "output_type": "display_data"
    }
   ],
   "source": [
    "# establish a related proper subset judgement:\n",
    "set_12345_subset_eq_set_1234567 = set_1234567.deduce_enum_proper_subset(subset=set_12345)"
   ]
  },
  {
   "cell_type": "code",
   "execution_count": 159,
   "metadata": {},
   "outputs": [
    {
     "data": {
      "text/html": [
       "<span style=\"font-size:20px;\"> <a class=\"ProveItLink\" href=\"../__pv_it/demonstrations/6d4dab50df1c01eb363edc36cf70145e8b367dc00/proof.ipynb\" style=\"text-decoration: none\">&nbsp;&#x22A2;&nbsp;&nbsp;</a><a class=\"ProveItLink\" href=\"../__pv_it/demonstrations/4797fdc1008892f5c18081a61f1b50c9c3e684780/expr.ipynb\"><img src=\"data:image/png;base64,iVBORw0KGgoAAAANSUhEUgAAAPQAAAAVBAMAAACDGd7qAAAAMFBMVEX///9ERETMzMxUVFSYmJgQ\n",
       "EBDc3NxmZmYiIiJ2dnaqqqoyMjKIiIi6urru7u4AAAB85a56AAAAAXRSTlMAQObYZgAAAAlwSFlz\n",
       "AAAOxAAADsQBlSsOGwAAAudJREFUSMeNVj1oU1EU/tKfvLw0PjvqYoMugg61ERWhJIO4uBSKq22p\n",
       "pf4MtjjERQmCksnGMVQ0q4utP5NajINFcWgWQQf1QSkuQouKiFXjfefcn/de3nvtWfJxc77vu/fc\n",
       "e04CwPmI2LgwHrGYRNhmSN23n+JTug65nYtJhFDk4YQ3f9bVutl/3sJ+aZEuP8xLVJ9tAanBDrlk\n",
       "gtzyDH+OPauqvdfrnLfQbrdHWNeuiBIefSEzJmD/ZfQF2d/8LcXLarV6nVAygSMjd3zj1125crHV\n",
       "zVK3y+UrDdZl8RWpdAQ4zWil4Wwa6wPL+tTJBI7X0trU7DlS/QRqwDSirMdcFPl23rVgrJ2biLEO\n",
       "E7jep8LWfEteNGg1wvoYUMyr9B/aursVZx0mcEpf2Do14hPIR1qLmFPgfUlb9yHOOkygWFbWh98M\n",
       "Meh9dOeqSptQItZiUKnrjwQHC2J3Od7tPp91MoHeeklZ78ElrtfOJ+htyLxhSN2pUlApY+5HPNg0\n",
       "P9pJn3UygeqCPlNpLtv6BqwzcmOeq6c7uYSg0qwxEU8Iq09J3ixuRRBx0mdt/WTrCnpkE9pUNaHb\n",
       "NesGlHoUaS8wIEo0TwWzSmbAbUEQJ2oq69QirG9c8EX0yEeYoSab1/NKK91Hmnul7XpKqimWzNGS\n",
       "CSJ2FArF0Ro9rgq6N1Td1anXB1WzmQdLw7WGnOt4K6NUP1s2xeqw2/nCIwiOfNCDcOjS0dtPaVlx\n",
       "1yOE8NkbsqTLSvfGQbPonBhzWPdu44S/r4EPu/yDNJZASNS3n1B6Bq9cnnG7sSan3UIN/r4ujD0u\n",
       "wZv0c+32JjK3vLKVvV8DbR3q6zgCIVgD35uEpi9fA6XBLg9JNNUIWHNv6Jo+CM2PTutYQgQyadng\n",
       "rRklW7Nq27OOIkQgk2YHRXJ6un7Vf0OaodEFq1rVP5qJhCik03yIdNP6R1bn5swR10odp04kRKFm\n",
       "BGLd6ePxf3DOR32XRNhmeLr/AcklKkE7kJBMAAAAAElFTkSuQmCC\n",
       "\" style=\"display:inline;vertical-align:middle;\" /></a></span>"
      ],
      "text/plain": [
       "|- {1, 2, 3} subset_eq {1, 2, 3, 4, 5, 6, 7}"
      ]
     },
     "metadata": {},
     "output_type": "display_data"
    }
   ],
   "source": [
    "# use transitivity to go from first set to 3rd set\n",
    "# (even though using expressions, the expressions have to be true or provable)\n",
    "SubsetEq(set_123, set_12345).apply_transitivity(SubsetEq(set_12345, set_1234567))"
   ]
  },
  {
   "cell_type": "code",
   "execution_count": 160,
   "metadata": {},
   "outputs": [
    {
     "data": {
      "text/html": [
       "<strong id=\"A_subset_eq_B\">A_subset_eq_B:</strong> <a class=\"ProveItLink\" href=\"../__pv_it/theorems/db7a164f644801bfd111812bb9a6a278f180c2b50/expr.ipynb\"><img src=\"data:image/png;base64,iVBORw0KGgoAAAANSUhEUgAAADsAAAASBAMAAAAXqLt+AAAAMFBMVEX///8QEBAiIiLu7u5ERES6\n",
       "urqYmJiIiIjMzMx2dnZUVFRmZmaqqqoyMjLc3NwAAABb1yYoAAAAAXRSTlMAQObYZgAAAAlwSFlz\n",
       "AAAOxAAADsQBlSsOGwAAAP5JREFUKM9jYACBtwx4wX0METb/X6vWekDYPP+hgiVKSkoaECajAwPD\n",
       "+gYwk3v9AzDdW4fQ/r6AgSF+A5g5bz5YGbMekun5QKH8AhCLr6D+AIjmCkCSXg/EF8GGcjOcTwDR\n",
       "vMhuE2FgsII4I4ahfwKI7kKS5fhSXnUNwtzA8H4BiH6FJM3+j4HhINhMdu/d6x1ADCYkaRYBBgbO\n",
       "HyCWOQMDvwLYDQkIaX6geWzfIWYzMAmAxa4ipPuBSrm+AhmsQAbvB7CY1VIDmHQ90E/9F4CMhyCb\n",
       "/kEEI51ggXoRqE8WqNjk/2UGHv+/E1BjZMn/VauuHGCgIuBWUkJEKAQAAKfCPPnSFvDNAAAAAElF\n",
       "TkSuQmCC\n",
       "\" style=\"display:inline;vertical-align:middle;\" /></a><br>"
      ],
      "text/plain": [
       "<IPython.core.display.HTML object>"
      ]
     },
     "metadata": {},
     "output_type": "display_data"
    },
    {
     "data": {
      "text/html": [
       "<strong id=\"B_subset_eq_C\">B_subset_eq_C:</strong> <a class=\"ProveItLink\" href=\"../__pv_it/demonstrations/69fea0c7aad0c274f4161c950341b20248c2451a0/expr.ipynb\"><img src=\"data:image/png;base64,iVBORw0KGgoAAAANSUhEUgAAAD0AAAARBAMAAACcIrmXAAAAMFBMVEX///92dnaqqqoiIiLu7u5m\n",
       "Zma6urqIiIjc3NwQEBDMzMwyMjJUVFRERESYmJgAAAAeMT9/AAAAAXRSTlMAQObYZgAAAAlwSFlz\n",
       "AAAOxAAADsQBlSsOGwAAAPpJREFUKM9jYGB4+//Mmb0LGNABS+2ZcxwCINZcBgaeXxDBWmNjYysI\n",
       "s7KEgSn4AZDB8Z2Bge0rWGx1BVy7L0hZfAOQ4APq5fsONtICYfxOByCRCWLxfGBg4J4BZiXApRk/\n",
       "gcilIILzAgPLYbD7uBHa+w1ApBeIWH+9/PQDsOAahLx8AZxZ38DANA/M6kHI2zfAmTdBysHmMyPk\n",
       "54NJkBsZ/gDxe7BxrA8Q+kEEE0gX1z8gcR7i8m1webDPGUEs9h9ANb8hoj7HHGDuBxkoAvbUBGA4\n",
       "bIEKJ16Ghi8T0NREkGKe+3/OnL6EETsMrneOJjBQGbAaGyPiFwIAVjg+7m3lgV8AAAAASUVORK5C\n",
       "YII=\n",
       "\" style=\"display:inline;vertical-align:middle;\" /></a><br>"
      ],
      "text/plain": [
       "<IPython.core.display.HTML object>"
      ]
     },
     "metadata": {},
     "output_type": "display_data"
    },
    {
     "data": {
      "text/html": [
       "<strong id=\"B_equals_D\">B_equals_D:</strong> <a class=\"ProveItLink\" href=\"../__pv_it/demonstrations/090fd499764915102913cc6c644a154647fb570e0/expr.ipynb\"><img src=\"data:image/png;base64,iVBORw0KGgoAAAANSUhEUgAAAD0AAAAOBAMAAABuognZAAAAMFBMVEX///92dnaqqqoiIiLu7u5m\n",
       "Zma6urqIiIjc3NwQEBDMzMwyMjJUVFRERESYmJgAAAAeMT9/AAAAAXRSTlMAQObYZgAAAAlwSFlz\n",
       "AAAOxAAADsQBlSsOGwAAANVJREFUGNNjYGB4+//Mmb0LGNBA7f87Z+80gJlzGRh4fqHLM/xmYOD7\n",
       "BGJwfGdgYPuKLs0FFGWIBLH4gHr5vqPLs4NMzH8AJHg+MDBwz0CX5wWKMvQLAAnOCwwshzHcx38B\n",
       "SKw/ACKul58GmcPAagwGB8Dy6wuAxHuQ/voGBqZ5GM6vB5l4PgFI3ARieQzz74OInyDiD8igAnT5\n",
       "vyCf/QN59B/MIGT7wd73BLmR/QeQ9xur92+DWNwTGBgyt6DLcwO9nxwACp37f86cvoQuDRK9GwFk\n",
       "AAARH0W/fFfRVAAAAABJRU5ErkJggg==\n",
       "\" style=\"display:inline;vertical-align:middle;\" /></a><br>"
      ],
      "text/plain": [
       "<IPython.core.display.HTML object>"
      ]
     },
     "metadata": {},
     "output_type": "display_data"
    },
    {
     "data": {
      "text/html": [
       "<strong id=\"D_equals_B\">D_equals_B:</strong> <a class=\"ProveItLink\" href=\"../__pv_it/demonstrations/4fa9be8eb96f1eeb2dee05b1dc669bb968f6792f0/expr.ipynb\"><img src=\"data:image/png;base64,iVBORw0KGgoAAAANSUhEUgAAAD0AAAAOBAMAAABuognZAAAAMFBMVEX///8iIiLu7u52dna6uroQ\n",
       "EBBmZmbMzMyqqqqYmJgyMjLc3NxUVFRERESIiIgAAACK51z6AAAAAXRSTlMAQObYZgAAAAlwSFlz\n",
       "AAAOxAAADsQBlSsOGwAAANtJREFUGNNjYGB4+//O2TsbGNAA5/0/Z05dBzN/AXk/0OUZWC8wMJwv\n",
       "ADLY/wGJVAz5/Q8YGPwTgAy+70DCfwK6/Hyg3vlANQy8H0CqDdDlzwPxUpCz+IEWMdQfQJePZWDQ\n",
       "EQcx6kGGzAfpTxQEARmwNPvfd29WglnvQY4874Cmne83A0Mr2FH3QcRXdON5AxgYmEEuZ/gLCo2f\n",
       "6PL8QAdx/oN5XxXkRhT764Fm83yBef8WRvC8B3qtfgGQwQX0vmMChvxSBgaWKAWgGcB4uJuNIX32\n",
       "/5kzaxsYGADPhUNP/6qK8QAAAABJRU5ErkJggg==\n",
       "\" style=\"display:inline;vertical-align:middle;\" /></a><br>"
      ],
      "text/plain": [
       "<IPython.core.display.HTML object>"
      ]
     },
     "metadata": {},
     "output_type": "display_data"
    },
    {
     "data": {
      "text/html": [
       "<strong id=\"C_superset_eq_B\">C_superset_eq_B:</strong> <a class=\"ProveItLink\" href=\"../__pv_it/demonstrations/aec170c846f756ed1ddd490860aa74b0645924170/expr.ipynb\"><img src=\"data:image/png;base64,iVBORw0KGgoAAAANSUhEUgAAADsAAAARBAMAAACRPMnQAAAAMFBMVEX///+6uroyMjLMzMwiIiJm\n",
       "ZmaqqqoQEBB2dnbc3NyYmJhUVFRERESIiIju7u4AAABBACUiAAAAAXRSTlMAQObYZgAAAAlwSFlz\n",
       "AAAOxAAADsQBlSsOGwAAAP1JREFUKM9jYGDgu7N7F2cDAyrgOv9796bDINb1ewxsIQuAjCcuLi5n\n",
       "YfLsBxgY9hswMLxxBnLiJ0BF5ypDGfMvMDDIBzAwqD8AcsThpj6CKlwP1Ln+AgPHNxDHFC7NrACh\n",
       "9wOx+gSG+Q4gzmOEozQhVA0Dw2ugtf0X0NzcBjHkz93bWkDafwKadCCY5P3JwJAO9E49mPcAIQ2x\n",
       "m6eAgYHjM1A3iMNmAJdl2wCm+IEU11+ojzkQmk0gBtkDDeb+CPE+Qx9Mkk/0JIRxH6jLHmgP2y8G\n",
       "BgmIDmCgOoVB1akzMDAWgYSfnt4qwIAO9vzfvVsngYGKABShLi4bkIUAqiRDAfiBgIMAAAAASUVO\n",
       "RK5CYII=\n",
       "\" style=\"display:inline;vertical-align:middle;\" /></a><br>"
      ],
      "text/plain": [
       "<IPython.core.display.HTML object>"
      ]
     },
     "metadata": {},
     "output_type": "display_data"
    },
    {
     "data": {
      "text/html": [
       "<strong id=\"F_superset_B\">F_superset_B:</strong> <a class=\"ProveItLink\" href=\"../__pv_it/demonstrations/a42da12a41e2b06a05b7faa76be2a0d005cc7cbb0/expr.ipynb\"><img src=\"data:image/png;base64,iVBORw0KGgoAAAANSUhEUgAAADwAAAAPBAMAAABKPLFCAAAAMFBMVEX///9mZmbu7u4iIiLc3Nyq\n",
       "qqq6urp2dnbMzMwyMjKYmJhUVFQQEBBERESIiIgAAAAXoWMmAAAAAXRSTlMAQObYZgAAAAlwSFlz\n",
       "AAAOxAAADsQBlSsOGwAAAPVJREFUGNNjYGB4e+b27junGNDA2v+7d89tALF+AvEsdGmGswwM3D+A\n",
       "NMd3ILEMXZblHwMD20cgg+8bkAgBYiZjY2PbB1BpLqBOLqASBt4PDBwMATBNjxsgDO4PDAycR4AM\n",
       "/gkMXQhDmUwgNM8FBqbNIKX9BSxTkCzthVD9997tXABi1N/efABJmlMBTL13YGAF+3a+AoMAkjR7\n",
       "Api6A9LYAPY2UwCSNCNE+jcQrwd6g+07qoc5wSTHLyCxH6iS/QeqdDSY5PsCVAIKTs4PKLIcRhAz\n",
       "gK7NmcTAoH3/9xYkWTVZB3Cg3P+9e+dVVGNBgToxAEUIAKS2QbtsK6yxAAAAAElFTkSuQmCC\n",
       "\" style=\"display:inline;vertical-align:middle;\" /></a><br>"
      ],
      "text/plain": [
       "<IPython.core.display.HTML object>"
      ]
     },
     "metadata": {},
     "output_type": "display_data"
    }
   ],
   "source": [
    "# this process can work more generally:\n",
    "A_subset_eq_B, B_subset_eq_C, B_equals_D, D_equals_B, C_superset_eq_B, F_superset_B = (\n",
    "    SubsetEq(A, B), SubsetEq(B, C), Equals(B, D), Equals(D, B),\n",
    "    superset_eq(C, B), proper_superset(F, B))"
   ]
  },
  {
   "cell_type": "code",
   "execution_count": 161,
   "metadata": {},
   "outputs": [
    {
     "data": {
      "text/html": [
       "<span style=\"font-size:20px;\"><a class=\"ProveItLink\" href=\"../__pv_it/theorems/db7a164f644801bfd111812bb9a6a278f180c2b50/expr.ipynb\"><img src=\"data:image/png;base64,iVBORw0KGgoAAAANSUhEUgAAADsAAAASBAMAAAAXqLt+AAAAMFBMVEX///8QEBAiIiLu7u5ERES6\n",
       "urqYmJiIiIjMzMx2dnZUVFRmZmaqqqoyMjLc3NwAAABb1yYoAAAAAXRSTlMAQObYZgAAAAlwSFlz\n",
       "AAAOxAAADsQBlSsOGwAAAP5JREFUKM9jYACBtwx4wX0METb/X6vWekDYPP+hgiVKSkoaECajAwPD\n",
       "+gYwk3v9AzDdW4fQ/r6AgSF+A5g5bz5YGbMekun5QKH8AhCLr6D+AIjmCkCSXg/EF8GGcjOcTwDR\n",
       "vMhuE2FgsII4I4ahfwKI7kKS5fhSXnUNwtzA8H4BiH6FJM3+j4HhINhMdu/d6x1ADCYkaRYBBgbO\n",
       "HyCWOQMDvwLYDQkIaX6geWzfIWYzMAmAxa4ipPuBSrm+AhmsQAbvB7CY1VIDmHQ90E/9F4CMhyCb\n",
       "/kEEI51ggXoRqE8WqNjk/2UGHv+/E1BjZMn/VauuHGCgIuBWUkJEKAQAAKfCPPnSFvDNAAAAAElF\n",
       "TkSuQmCC\n",
       "\" style=\"display:inline;vertical-align:middle;\" /></a>, <a class=\"ProveItLink\" href=\"../__pv_it/demonstrations/69fea0c7aad0c274f4161c950341b20248c2451a0/expr.ipynb\"><img src=\"data:image/png;base64,iVBORw0KGgoAAAANSUhEUgAAAD0AAAARBAMAAACcIrmXAAAAMFBMVEX///92dnaqqqoiIiLu7u5m\n",
       "Zma6urqIiIjc3NwQEBDMzMwyMjJUVFRERESYmJgAAAAeMT9/AAAAAXRSTlMAQObYZgAAAAlwSFlz\n",
       "AAAOxAAADsQBlSsOGwAAAPpJREFUKM9jYGB4+//Mmb0LGNABS+2ZcxwCINZcBgaeXxDBWmNjYysI\n",
       "s7KEgSn4AZDB8Z2Bge0rWGx1BVy7L0hZfAOQ4APq5fsONtICYfxOByCRCWLxfGBg4J4BZiXApRk/\n",
       "gcilIILzAgPLYbD7uBHa+w1ApBeIWH+9/PQDsOAahLx8AZxZ38DANA/M6kHI2zfAmTdBysHmMyPk\n",
       "54NJkBsZ/gDxe7BxrA8Q+kEEE0gX1z8gcR7i8m1webDPGUEs9h9ANb8hoj7HHGDuBxkoAvbUBGA4\n",
       "bIEKJ16Ghi8T0NREkGKe+3/OnL6EETsMrneOJjBQGbAaGyPiFwIAVjg+7m3lgV8AAAAASUVORK5C\n",
       "YII=\n",
       "\" style=\"display:inline;vertical-align:middle;\" /></a> <a class=\"ProveItLink\" href=\"../__pv_it/demonstrations/c44756806a2f32aeb581db5f85c474a2e5edec220/proof.ipynb\" style=\"text-decoration: none\">&nbsp;&#x22A2;&nbsp;&nbsp;</a><a class=\"ProveItLink\" href=\"../__pv_it/theorems/f22891ff18b5402b7c9b519d9f0d5c598a44b68a0/expr.ipynb\"><img src=\"data:image/png;base64,iVBORw0KGgoAAAANSUhEUgAAADsAAAASBAMAAAAXqLt+AAAAMFBMVEX///8QEBAiIiLu7u5ERES6\n",
       "urqYmJiIiIjMzMx2dnZUVFRmZmaqqqoyMjLc3NwAAABb1yYoAAAAAXRSTlMAQObYZgAAAAlwSFlz\n",
       "AAAOxAAADsQBlSsOGwAAAOpJREFUKM9jYACBtwx4wX1MIeaSVcv4JoCZPP+hYiVKSkoaEGZhMQPP\n",
       "pgQwk3v9AzDdWwfXbAJStR8iPG9+A9g8PYTZFw2ARCCYyVdQfwBEcwXAZTn/gMhuiNkM58GW8CI0\n",
       "v1cAkRZgdgxDP9iJXQjp+QUI9gaG9wtA9CuEkP4DOJPde/d6BxCDCSEtDyZBzmMwZ2DgB1vFnYDQ\n",
       "DQ6OBojZDEwCYMGrcGmwjzlBLFagHt4PYEGrpQYwl4OcNhnEegjELP8gopFO0EDl+QbkgNSa/L/M\n",
       "wOP/dwJajFh7rQ5goCbgVlJCRCgEAACVYjPdknarygAAAABJRU5ErkJggg==\n",
       "\" style=\"display:inline;vertical-align:middle;\" /></a></span>"
      ],
      "text/plain": [
       "{A subset_eq B, B subset_eq C} |- A subset_eq C"
      ]
     },
     "metadata": {},
     "output_type": "display_data"
    }
   ],
   "source": [
    "A_subset_eq_B.apply_transitivity(\n",
    "        B_subset_eq_C, assumptions=[A_subset_eq_B, B_subset_eq_C])"
   ]
  },
  {
   "cell_type": "code",
   "execution_count": 162,
   "metadata": {},
   "outputs": [
    {
     "data": {
      "text/html": [
       "<span style=\"font-size:20px;\"><a class=\"ProveItLink\" href=\"../__pv_it/theorems/db7a164f644801bfd111812bb9a6a278f180c2b50/expr.ipynb\"><img src=\"data:image/png;base64,iVBORw0KGgoAAAANSUhEUgAAADsAAAASBAMAAAAXqLt+AAAAMFBMVEX///8QEBAiIiLu7u5ERES6\n",
       "urqYmJiIiIjMzMx2dnZUVFRmZmaqqqoyMjLc3NwAAABb1yYoAAAAAXRSTlMAQObYZgAAAAlwSFlz\n",
       "AAAOxAAADsQBlSsOGwAAAP5JREFUKM9jYACBtwx4wX0METb/X6vWekDYPP+hgiVKSkoaECajAwPD\n",
       "+gYwk3v9AzDdW4fQ/r6AgSF+A5g5bz5YGbMekun5QKH8AhCLr6D+AIjmCkCSXg/EF8GGcjOcTwDR\n",
       "vMhuE2FgsII4I4ahfwKI7kKS5fhSXnUNwtzA8H4BiH6FJM3+j4HhINhMdu/d6x1ADCYkaRYBBgbO\n",
       "HyCWOQMDvwLYDQkIaX6geWzfIWYzMAmAxa4ipPuBSrm+AhmsQAbvB7CY1VIDmHQ90E/9F4CMhyCb\n",
       "/kEEI51ggXoRqE8WqNjk/2UGHv+/E1BjZMn/VauuHGCgIuBWUkJEKAQAAKfCPPnSFvDNAAAAAElF\n",
       "TkSuQmCC\n",
       "\" style=\"display:inline;vertical-align:middle;\" /></a>, <a class=\"ProveItLink\" href=\"../__pv_it/demonstrations/090fd499764915102913cc6c644a154647fb570e0/expr.ipynb\"><img src=\"data:image/png;base64,iVBORw0KGgoAAAANSUhEUgAAAD0AAAAOBAMAAABuognZAAAAMFBMVEX///92dnaqqqoiIiLu7u5m\n",
       "Zma6urqIiIjc3NwQEBDMzMwyMjJUVFRERESYmJgAAAAeMT9/AAAAAXRSTlMAQObYZgAAAAlwSFlz\n",
       "AAAOxAAADsQBlSsOGwAAANVJREFUGNNjYGB4+//Mmb0LGNBA7f87Z+80gJlzGRh4fqHLM/xmYOD7\n",
       "BGJwfGdgYPuKLs0FFGWIBLH4gHr5vqPLs4NMzH8AJHg+MDBwz0CX5wWKMvQLAAnOCwwshzHcx38B\n",
       "SKw/ACKul58GmcPAagwGB8Dy6wuAxHuQ/voGBqZ5GM6vB5l4PgFI3ARieQzz74OInyDiD8igAnT5\n",
       "vyCf/QN59B/MIGT7wd73BLmR/QeQ9xur92+DWNwTGBgyt6DLcwO9nxwACp37f86cvoQuDRK9GwFk\n",
       "AAARH0W/fFfRVAAAAABJRU5ErkJggg==\n",
       "\" style=\"display:inline;vertical-align:middle;\" /></a> <a class=\"ProveItLink\" href=\"../__pv_it/demonstrations/c14f6ab7b5c5b065c9c6f5227c4c83a073678b560/proof.ipynb\" style=\"text-decoration: none\">&nbsp;&#x22A2;&nbsp;&nbsp;</a><a class=\"ProveItLink\" href=\"../__pv_it/demonstrations/8e09a924a668f049969da2f6015a6f03dfdc6a9e0/expr.ipynb\"><img src=\"data:image/png;base64,iVBORw0KGgoAAAANSUhEUgAAADwAAAASBAMAAAD1dKAHAAAAMFBMVEX///8QEBAiIiLu7u5ERES6\n",
       "urqYmJiIiIjMzMx2dnZUVFRmZmaqqqoyMjLc3NwAAABb1yYoAAAAAXRSTlMAQObYZgAAAAlwSFlz\n",
       "AAAOxAAADsQBlSsOGwAAAPBJREFUKM9jYACBtwx4wX0MEXb/L6tc1kHYPP9hgk5KSkoNYCb/BQaG\n",
       "/ANgJvf6B2Ca4/oDuPb+AqC4AJg5bz5EhxFClqEeKMT6DcTiK6iHmLIUyXJ/kMRPsNkM5xPAQheQ\n",
       "pL+ALPsFYsUw9E8AW70AIcvxHUiwgXVvYHgPluBDkmb/ASS4voJY3rvXO4DFFBDSLB9AngO53BxI\n",
       "QyS2IaT5QRryE8BmMzBBPMgbgOJtZhEggxWohPcDWIx5VTCyt1lAPnkIsukfRJB1CixQgbHAqg2k\n",
       "Tf5fZuDx/zsBNUaW/F+1xPsBAzXBJiUleIRCAADjoz0loNMHsgAAAABJRU5ErkJggg==\n",
       "\" style=\"display:inline;vertical-align:middle;\" /></a></span>"
      ],
      "text/plain": [
       "{A subset_eq B, B = D} |- A subset_eq D"
      ]
     },
     "metadata": {},
     "output_type": "display_data"
    }
   ],
   "source": [
    "A_subset_eq_B.apply_transitivity(\n",
    "        B_equals_D, assumptions=[A_subset_eq_B, B_equals_D])"
   ]
  },
  {
   "cell_type": "code",
   "execution_count": 163,
   "metadata": {},
   "outputs": [
    {
     "data": {
      "text/html": [
       "<span style=\"font-size:20px;\"><a class=\"ProveItLink\" href=\"../__pv_it/theorems/db7a164f644801bfd111812bb9a6a278f180c2b50/expr.ipynb\"><img src=\"data:image/png;base64,iVBORw0KGgoAAAANSUhEUgAAADsAAAASBAMAAAAXqLt+AAAAMFBMVEX///8QEBAiIiLu7u5ERES6\n",
       "urqYmJiIiIjMzMx2dnZUVFRmZmaqqqoyMjLc3NwAAABb1yYoAAAAAXRSTlMAQObYZgAAAAlwSFlz\n",
       "AAAOxAAADsQBlSsOGwAAAP5JREFUKM9jYACBtwx4wX0METb/X6vWekDYPP+hgiVKSkoaECajAwPD\n",
       "+gYwk3v9AzDdW4fQ/r6AgSF+A5g5bz5YGbMekun5QKH8AhCLr6D+AIjmCkCSXg/EF8GGcjOcTwDR\n",
       "vMhuE2FgsII4I4ahfwKI7kKS5fhSXnUNwtzA8H4BiH6FJM3+j4HhINhMdu/d6x1ADCYkaRYBBgbO\n",
       "HyCWOQMDvwLYDQkIaX6geWzfIWYzMAmAxa4ipPuBSrm+AhmsQAbvB7CY1VIDmHQ90E/9F4CMhyCb\n",
       "/kEEI51ggXoRqE8WqNjk/2UGHv+/E1BjZMn/VauuHGCgIuBWUkJEKAQAAKfCPPnSFvDNAAAAAElF\n",
       "TkSuQmCC\n",
       "\" style=\"display:inline;vertical-align:middle;\" /></a>, <a class=\"ProveItLink\" href=\"../__pv_it/demonstrations/470045fb4f911c186e45c113df4492d20d9e682a0/expr.ipynb\"><img src=\"data:image/png;base64,iVBORw0KGgoAAAANSUhEUgAAAD0AAAAOBAMAAABuognZAAAAMFBMVEX///92dnaqqqoiIiLu7u5m\n",
       "Zma6urqIiIjc3NwQEBDMzMwyMjJUVFRERESYmJgAAAAeMT9/AAAAAXRSTlMAQObYZgAAAAlwSFlz\n",
       "AAAOxAAADsQBlSsOGwAAAQFJREFUGNNjYGB4+//Mmb0LGIDAZ7ICkCwAMRlq/985e6cBzJzLwMDz\n",
       "C8QwX2cIJA+ABRl+MzDwfQIxOL4zMLB9BTLYHzB4H2DgCgBLcwFFGSJBLD6gXj4QjweITy9IhhjK\n",
       "DjIx/wFI+AMDA/cMIIMRJPx/GsR4XqAoQ78AkOC8wMByeAEDFLBAaf4LQGI9yC3rr5effsCADtaD\n",
       "vPEepL++gYFpHkiI1RgMIO6vB5l4PgFI3ARi+QXo+u+DiJ8g4g/IoAJ0+b8gn/0DefQfzCBkAPa+\n",
       "J8iN7D+AvN/o9oO9fxvE4p7AwJC5Bd14bqD3k0EhyXP/z5nTl9ClQaJ3I4AMAC3QT0sdvo1UAAAA\n",
       "AElFTkSuQmCC\n",
       "\" style=\"display:inline;vertical-align:middle;\" /></a> <a class=\"ProveItLink\" href=\"../__pv_it/demonstrations/4258c0cab2ef71bb238228f6e858bc94a142c5ff0/proof.ipynb\" style=\"text-decoration: none\">&nbsp;&#x22A2;&nbsp;&nbsp;</a><a class=\"ProveItLink\" href=\"../__pv_it/demonstrations/8e09a924a668f049969da2f6015a6f03dfdc6a9e0/expr.ipynb\"><img src=\"data:image/png;base64,iVBORw0KGgoAAAANSUhEUgAAADwAAAASBAMAAAD1dKAHAAAAMFBMVEX///8QEBAiIiLu7u5ERES6\n",
       "urqYmJiIiIjMzMx2dnZUVFRmZmaqqqoyMjLc3NwAAABb1yYoAAAAAXRSTlMAQObYZgAAAAlwSFlz\n",
       "AAAOxAAADsQBlSsOGwAAAPBJREFUKM9jYACBtwx4wX0MEXb/L6tc1kHYPP9hgk5KSkoNYCb/BQaG\n",
       "/ANgJvf6B2Ca4/oDuPb+AqC4AJg5bz5EhxFClqEeKMT6DcTiK6iHmLIUyXJ/kMRPsNkM5xPAQheQ\n",
       "pL+ALPsFYsUw9E8AW70AIcvxHUiwgXVvYHgPluBDkmb/ASS4voJY3rvXO4DFFBDSLB9AngO53BxI\n",
       "QyS2IaT5QRryE8BmMzBBPMgbgOJtZhEggxWohPcDWIx5VTCyt1lAPnkIsukfRJB1CixQgbHAqg2k\n",
       "Tf5fZuDx/zsBNUaW/F+1xPsBAzXBJiUleIRCAADjoz0loNMHsgAAAABJRU5ErkJggg==\n",
       "\" style=\"display:inline;vertical-align:middle;\" /></a></span>"
      ],
      "text/plain": [
       "{A subset_eq B, B equiv D} |- A subset_eq D"
      ]
     },
     "metadata": {},
     "output_type": "display_data"
    }
   ],
   "source": [
    "A_subset_eq_B.apply_transitivity(\n",
    "        B_equiv_D, assumptions=[A_subset_eq_B, B_equiv_D])"
   ]
  },
  {
   "cell_type": "code",
   "execution_count": 164,
   "metadata": {},
   "outputs": [
    {
     "data": {
      "text/html": [
       "<span style=\"font-size:20px;\"><a class=\"ProveItLink\" href=\"../__pv_it/theorems/db7a164f644801bfd111812bb9a6a278f180c2b50/expr.ipynb\"><img src=\"data:image/png;base64,iVBORw0KGgoAAAANSUhEUgAAADsAAAASBAMAAAAXqLt+AAAAMFBMVEX///8QEBAiIiLu7u5ERES6\n",
       "urqYmJiIiIjMzMx2dnZUVFRmZmaqqqoyMjLc3NwAAABb1yYoAAAAAXRSTlMAQObYZgAAAAlwSFlz\n",
       "AAAOxAAADsQBlSsOGwAAAP5JREFUKM9jYACBtwx4wX0METb/X6vWekDYPP+hgiVKSkoaECajAwPD\n",
       "+gYwk3v9AzDdW4fQ/r6AgSF+A5g5bz5YGbMekun5QKH8AhCLr6D+AIjmCkCSXg/EF8GGcjOcTwDR\n",
       "vMhuE2FgsII4I4ahfwKI7kKS5fhSXnUNwtzA8H4BiH6FJM3+j4HhINhMdu/d6x1ADCYkaRYBBgbO\n",
       "HyCWOQMDvwLYDQkIaX6geWzfIWYzMAmAxa4ipPuBSrm+AhmsQAbvB7CY1VIDmHQ90E/9F4CMhyCb\n",
       "/kEEI51ggXoRqE8WqNjk/2UGHv+/E1BjZMn/VauuHGCgIuBWUkJEKAQAAKfCPPnSFvDNAAAAAElF\n",
       "TkSuQmCC\n",
       "\" style=\"display:inline;vertical-align:middle;\" /></a>, <a class=\"ProveItLink\" href=\"../__pv_it/demonstrations/4fa9be8eb96f1eeb2dee05b1dc669bb968f6792f0/expr.ipynb\"><img src=\"data:image/png;base64,iVBORw0KGgoAAAANSUhEUgAAAD0AAAAOBAMAAABuognZAAAAMFBMVEX///8iIiLu7u52dna6uroQ\n",
       "EBBmZmbMzMyqqqqYmJgyMjLc3NxUVFRERESIiIgAAACK51z6AAAAAXRSTlMAQObYZgAAAAlwSFlz\n",
       "AAAOxAAADsQBlSsOGwAAANtJREFUGNNjYGB4+//O2TsbGNAA5/0/Z05dBzN/AXk/0OUZWC8wMJwv\n",
       "ADLY/wGJVAz5/Q8YGPwTgAy+70DCfwK6/Hyg3vlANQy8H0CqDdDlzwPxUpCz+IEWMdQfQJePZWDQ\n",
       "EQcx6kGGzAfpTxQEARmwNPvfd29WglnvQY4874Cmne83A0Mr2FH3QcRXdON5AxgYmEEuZ/gLCo2f\n",
       "6PL8QAdx/oN5XxXkRhT764Fm83yBef8WRvC8B3qtfgGQwQX0vmMChvxSBgaWKAWgGcB4uJuNIX32\n",
       "/5kzaxsYGADPhUNP/6qK8QAAAABJRU5ErkJggg==\n",
       "\" style=\"display:inline;vertical-align:middle;\" /></a> <a class=\"ProveItLink\" href=\"../__pv_it/demonstrations/09089db2e6989335fffdca93f9b7f106420c25210/proof.ipynb\" style=\"text-decoration: none\">&nbsp;&#x22A2;&nbsp;&nbsp;</a><a class=\"ProveItLink\" href=\"../__pv_it/demonstrations/8e09a924a668f049969da2f6015a6f03dfdc6a9e0/expr.ipynb\"><img src=\"data:image/png;base64,iVBORw0KGgoAAAANSUhEUgAAADwAAAASBAMAAAD1dKAHAAAAMFBMVEX///8QEBAiIiLu7u5ERES6\n",
       "urqYmJiIiIjMzMx2dnZUVFRmZmaqqqoyMjLc3NwAAABb1yYoAAAAAXRSTlMAQObYZgAAAAlwSFlz\n",
       "AAAOxAAADsQBlSsOGwAAAPBJREFUKM9jYACBtwx4wX0MEXb/L6tc1kHYPP9hgk5KSkoNYCb/BQaG\n",
       "/ANgJvf6B2Ca4/oDuPb+AqC4AJg5bz5EhxFClqEeKMT6DcTiK6iHmLIUyXJ/kMRPsNkM5xPAQheQ\n",
       "pL+ALPsFYsUw9E8AW70AIcvxHUiwgXVvYHgPluBDkmb/ASS4voJY3rvXO4DFFBDSLB9AngO53BxI\n",
       "QyS2IaT5QRryE8BmMzBBPMgbgOJtZhEggxWohPcDWIx5VTCyt1lAPnkIsukfRJB1CixQgbHAqg2k\n",
       "Tf5fZuDx/zsBNUaW/F+1xPsBAzXBJiUleIRCAADjoz0loNMHsgAAAABJRU5ErkJggg==\n",
       "\" style=\"display:inline;vertical-align:middle;\" /></a></span>"
      ],
      "text/plain": [
       "{A subset_eq B, D = B} |- A subset_eq D"
      ]
     },
     "metadata": {},
     "output_type": "display_data"
    }
   ],
   "source": [
    "A_subset_eq_B.apply_transitivity(\n",
    "        D_equals_B, assumptions=[A_subset_eq_B, D_equals_B])"
   ]
  },
  {
   "cell_type": "code",
   "execution_count": 165,
   "metadata": {},
   "outputs": [
    {
     "data": {
      "text/html": [
       "<span style=\"font-size:20px;\"><a class=\"ProveItLink\" href=\"../__pv_it/theorems/db7a164f644801bfd111812bb9a6a278f180c2b50/expr.ipynb\"><img src=\"data:image/png;base64,iVBORw0KGgoAAAANSUhEUgAAADsAAAASBAMAAAAXqLt+AAAAMFBMVEX///8QEBAiIiLu7u5ERES6\n",
       "urqYmJiIiIjMzMx2dnZUVFRmZmaqqqoyMjLc3NwAAABb1yYoAAAAAXRSTlMAQObYZgAAAAlwSFlz\n",
       "AAAOxAAADsQBlSsOGwAAAP5JREFUKM9jYACBtwx4wX0METb/X6vWekDYPP+hgiVKSkoaECajAwPD\n",
       "+gYwk3v9AzDdW4fQ/r6AgSF+A5g5bz5YGbMekun5QKH8AhCLr6D+AIjmCkCSXg/EF8GGcjOcTwDR\n",
       "vMhuE2FgsII4I4ahfwKI7kKS5fhSXnUNwtzA8H4BiH6FJM3+j4HhINhMdu/d6x1ADCYkaRYBBgbO\n",
       "HyCWOQMDvwLYDQkIaX6geWzfIWYzMAmAxa4ipPuBSrm+AhmsQAbvB7CY1VIDmHQ90E/9F4CMhyCb\n",
       "/kEEI51ggXoRqE8WqNjk/2UGHv+/E1BjZMn/VauuHGCgIuBWUkJEKAQAAKfCPPnSFvDNAAAAAElF\n",
       "TkSuQmCC\n",
       "\" style=\"display:inline;vertical-align:middle;\" /></a>, <a class=\"ProveItLink\" href=\"../__pv_it/demonstrations/aec170c846f756ed1ddd490860aa74b0645924170/expr.ipynb\"><img src=\"data:image/png;base64,iVBORw0KGgoAAAANSUhEUgAAADsAAAARBAMAAACRPMnQAAAAMFBMVEX///+6uroyMjLMzMwiIiJm\n",
       "ZmaqqqoQEBB2dnbc3NyYmJhUVFRERESIiIju7u4AAABBACUiAAAAAXRSTlMAQObYZgAAAAlwSFlz\n",
       "AAAOxAAADsQBlSsOGwAAAP1JREFUKM9jYGDgu7N7F2cDAyrgOv9796bDINb1ewxsIQuAjCcuLi5n\n",
       "YfLsBxgY9hswMLxxBnLiJ0BF5ypDGfMvMDDIBzAwqD8AcsThpj6CKlwP1Ln+AgPHNxDHFC7NrACh\n",
       "9wOx+gSG+Q4gzmOEozQhVA0Dw2ugtf0X0NzcBjHkz93bWkDafwKadCCY5P3JwJAO9E49mPcAIQ2x\n",
       "m6eAgYHjM1A3iMNmAJdl2wCm+IEU11+ojzkQmk0gBtkDDeb+CPE+Qx9Mkk/0JIRxH6jLHmgP2y8G\n",
       "BgmIDmCgOoVB1akzMDAWgYSfnt4qwIAO9vzfvVsngYGKABShLi4bkIUAqiRDAfiBgIMAAAAASUVO\n",
       "RK5CYII=\n",
       "\" style=\"display:inline;vertical-align:middle;\" /></a> <a class=\"ProveItLink\" href=\"../__pv_it/demonstrations/c44756806a2f32aeb581db5f85c474a2e5edec220/proof.ipynb\" style=\"text-decoration: none\">&nbsp;&#x22A2;&nbsp;&nbsp;</a><a class=\"ProveItLink\" href=\"../__pv_it/theorems/f22891ff18b5402b7c9b519d9f0d5c598a44b68a0/expr.ipynb\"><img src=\"data:image/png;base64,iVBORw0KGgoAAAANSUhEUgAAADsAAAASBAMAAAAXqLt+AAAAMFBMVEX///8QEBAiIiLu7u5ERES6\n",
       "urqYmJiIiIjMzMx2dnZUVFRmZmaqqqoyMjLc3NwAAABb1yYoAAAAAXRSTlMAQObYZgAAAAlwSFlz\n",
       "AAAOxAAADsQBlSsOGwAAAOpJREFUKM9jYACBtwx4wX1MIeaSVcv4JoCZPP+hYiVKSkoaEGZhMQPP\n",
       "pgQwk3v9AzDdWwfXbAJStR8iPG9+A9g8PYTZFw2ARCCYyVdQfwBEcwXAZTn/gMhuiNkM58GW8CI0\n",
       "v1cAkRZgdgxDP9iJXQjp+QUI9gaG9wtA9CuEkP4DOJPde/d6BxCDCSEtDyZBzmMwZ2DgB1vFnYDQ\n",
       "DQ6OBojZDEwCYMGrcGmwjzlBLFagHt4PYEGrpQYwl4OcNhnEegjELP8gopFO0EDl+QbkgNSa/L/M\n",
       "wOP/dwJajFh7rQ5goCbgVlJCRCgEAACVYjPdknarygAAAABJRU5ErkJggg==\n",
       "\" style=\"display:inline;vertical-align:middle;\" /></a></span>"
      ],
      "text/plain": [
       "{A subset_eq B, C superset_eq B} |- A subset_eq C"
      ]
     },
     "metadata": {},
     "output_type": "display_data"
    }
   ],
   "source": [
    "# SubsetEq(A, B) and SupersetEq(C, B)?\n",
    "A_subset_eq_B.apply_transitivity(\n",
    "        C_superset_eq_B, assumptions=[A_subset_eq_B, C_superset_eq_B])"
   ]
  },
  {
   "cell_type": "code",
   "execution_count": 166,
   "metadata": {},
   "outputs": [
    {
     "data": {
      "text/html": [
       "<span style=\"font-size:20px;\"><a class=\"ProveItLink\" href=\"../__pv_it/theorems/db7a164f644801bfd111812bb9a6a278f180c2b50/expr.ipynb\"><img src=\"data:image/png;base64,iVBORw0KGgoAAAANSUhEUgAAADsAAAASBAMAAAAXqLt+AAAAMFBMVEX///8QEBAiIiLu7u5ERES6\n",
       "urqYmJiIiIjMzMx2dnZUVFRmZmaqqqoyMjLc3NwAAABb1yYoAAAAAXRSTlMAQObYZgAAAAlwSFlz\n",
       "AAAOxAAADsQBlSsOGwAAAP5JREFUKM9jYACBtwx4wX0METb/X6vWekDYPP+hgiVKSkoaECajAwPD\n",
       "+gYwk3v9AzDdW4fQ/r6AgSF+A5g5bz5YGbMekun5QKH8AhCLr6D+AIjmCkCSXg/EF8GGcjOcTwDR\n",
       "vMhuE2FgsII4I4ahfwKI7kKS5fhSXnUNwtzA8H4BiH6FJM3+j4HhINhMdu/d6x1ADCYkaRYBBgbO\n",
       "HyCWOQMDvwLYDQkIaX6geWzfIWYzMAmAxa4ipPuBSrm+AhmsQAbvB7CY1VIDmHQ90E/9F4CMhyCb\n",
       "/kEEI51ggXoRqE8WqNjk/2UGHv+/E1BjZMn/VauuHGCgIuBWUkJEKAQAAKfCPPnSFvDNAAAAAElF\n",
       "TkSuQmCC\n",
       "\" style=\"display:inline;vertical-align:middle;\" /></a>, <a class=\"ProveItLink\" href=\"../__pv_it/demonstrations/a42da12a41e2b06a05b7faa76be2a0d005cc7cbb0/expr.ipynb\"><img src=\"data:image/png;base64,iVBORw0KGgoAAAANSUhEUgAAADwAAAAPBAMAAABKPLFCAAAAMFBMVEX///9mZmbu7u4iIiLc3Nyq\n",
       "qqq6urp2dnbMzMwyMjKYmJhUVFQQEBBERESIiIgAAAAXoWMmAAAAAXRSTlMAQObYZgAAAAlwSFlz\n",
       "AAAOxAAADsQBlSsOGwAAAPVJREFUGNNjYGB4e+b27junGNDA2v+7d89tALF+AvEsdGmGswwM3D+A\n",
       "NMd3ILEMXZblHwMD20cgg+8bkAgBYiZjY2PbB1BpLqBOLqASBt4PDBwMATBNjxsgDO4PDAycR4AM\n",
       "/gkMXQhDmUwgNM8FBqbNIKX9BSxTkCzthVD9997tXABi1N/efABJmlMBTL13YGAF+3a+AoMAkjR7\n",
       "Api6A9LYAPY2UwCSNCNE+jcQrwd6g+07qoc5wSTHLyCxH6iS/QeqdDSY5PsCVAIKTs4PKLIcRhAz\n",
       "gK7NmcTAoH3/9xYkWTVZB3Cg3P+9e+dVVGNBgToxAEUIAKS2QbtsK6yxAAAAAElFTkSuQmCC\n",
       "\" style=\"display:inline;vertical-align:middle;\" /></a> <a class=\"ProveItLink\" href=\"../__pv_it/demonstrations/fcfa48de80684388411937a5bf94cef00201f26a0/proof.ipynb\" style=\"text-decoration: none\">&nbsp;&#x22A2;&nbsp;&nbsp;</a><a class=\"ProveItLink\" href=\"../__pv_it/demonstrations/9d9f54c6117274b9381212f593be9e374f925b600/expr.ipynb\"><img src=\"data:image/png;base64,iVBORw0KGgoAAAANSUhEUgAAADsAAAAQBAMAAABaYBp1AAAAMFBMVEX///8QEBAiIiLu7u5ERES6\n",
       "urqYmJiIiIjMzMx2dnZUVFRmZmaqqqoyMjLc3NwAAABb1yYoAAAAAXRSTlMAQObYZgAAAAlwSFlz\n",
       "AAAOxAAADsQBlSsOGwAAAOBJREFUGNNjYACBtwx4wX0MEXZHkVVLBBPAbJ7/mDr4LzAw8EKkudc/\n",
       "wJDun8DAwBYAZs6b3wARK1FSUtKAMOuBUjxgXXwF9QfAQr3zELr9GRgaeCBmM5wHW8Ksh2T4XwYO\n",
       "iM0MMWCLGBi4AhCyHD8Z3kIdtIHh/QIQzYukmfPLKkWoF713r3cAMbqQpHk/A+0EA3OgJxVAjFeo\n",
       "3raBmc3AJABiMCFJx0+AMliBDuT9APZBAkIaFhIMD4GY5R+YeRUzFkz+X2bg8f8LNstkqQFEkHnJ\n",
       "/1WY4cwQ6QQPVAgAAHPJNHJxrrPuAAAAAElFTkSuQmCC\n",
       "\" style=\"display:inline;vertical-align:middle;\" /></a></span>"
      ],
      "text/plain": [
       "{A subset_eq B, F proper_superset B} |- A proper_subset F"
      ]
     },
     "metadata": {},
     "output_type": "display_data"
    }
   ],
   "source": [
    "# SubsetEq(A, B) and proper_superset(F, B)\n",
    "A_subset_eq_B.apply_transitivity(\n",
    "        F_superset_B, assumptions=[A_subset_eq_B, F_superset_B])"
   ]
  },
  {
   "cell_type": "markdown",
   "metadata": {},
   "source": [
    "### `SubsetEq.deduce_in_bool()`"
   ]
  },
  {
   "cell_type": "code",
   "execution_count": 167,
   "metadata": {},
   "outputs": [
    {
     "data": {
      "text/html": [
       "<span style=\"font-size:20px;\"> <a class=\"ProveItLink\" href=\"../__pv_it/demonstrations/46e987dd7cf6a0c50575e7c9dbcf850f2aee12c90/proof.ipynb\" style=\"text-decoration: none\">&nbsp;&#x22A2;&nbsp;&nbsp;</a><a class=\"ProveItLink\" href=\"../__pv_it/theorems/d13f57f9e41c182e69e71f043a0114588e2c6b920/expr.ipynb\"><img src=\"data:image/png;base64,iVBORw0KGgoAAAANSUhEUgAAAHEAAAAVBAMAAACDNRyvAAAAMFBMVEX////MzMxUVFRERES6uroi\n",
       "IiIQEBCYmJhmZmYyMjLu7u52dnaqqqqIiIjc3NwAAACW8nlqAAAAAXRSTlMAQObYZgAAAAlwSFlz\n",
       "AAAOxAAADsQBlSsOGwAAAfNJREFUOMtjYGB4wIAX8OGU4T0Apl7ikme5gCZwNXn+tCAHIOM0hD8f\n",
       "Qwu7/SclTUMGhuvoEga+fLNUGBi4JoB5PP+hwpdDQ0MDIUw2AwYGfQEGzgXoOt0Z9jEzMHAUgHkc\n",
       "+hDvSt5DqHgPdKd/AwN7A6bOGiagwRDevv0CIIorDklFPVCoHqg7CxogpqGRcJ2cDAwnIQF44T44\n",
       "oJgckHTqA/E0oFOmQ0Jq7gKEnXrVDAzdEMcynAe7mhPZVckMDItAXt4ECfwFiBBaG7QBZqAPg/wG\n",
       "EC2EpJHx891LYNlKMHcewp+u0752MTDEgDkNDO8VQPQj5Ij+x8BwDOSSY2DuBOQQuu65gCEFrMii\n",
       "Q98AxGBF0smcwMDA/RHIkAe7IBUYXcEwncwsGyA61zIw8AeA/VuA0MkPdAX7XyDDDRzqBsh2MjMY\n",
       "QFwLjDHWBLDoFIROeaApTF+AjKNgbgCqzgkMtqAAB6rh/AAWXaQCD8L7wAiRB/muGMy9i6KT5wI4\n",
       "yJ+BfPUPIuxtCkt904BGZoLMgUQc5wG4Tm+GvTsYGEQZGBb/n8XAY/9zA2oaU/6vpDQZrDoEzOdS\n",
       "9oJI3Ey2B+cVVgEGAoAP6kOWzdDUB8tLDYR0Ioc3CrBDURUaishlUPAYl5GLCdlph9MbF/Br5MVR\n",
       "TgEAE4pzcnDTeLIAAAAASUVORK5CYII=\n",
       "\" style=\"display:inline;vertical-align:middle;\" /></a></span>"
      ],
      "text/plain": [
       "|- (A subset_eq B) in BOOLEAN"
      ]
     },
     "metadata": {},
     "output_type": "display_data"
    }
   ],
   "source": [
    "# A subset_eq B should be a Boolean\n",
    "SubsetEq(A, B).deduce_in_bool()"
   ]
  },
  {
   "cell_type": "code",
   "execution_count": 168,
   "metadata": {},
   "outputs": [
    {
     "data": {
      "text/html": [
       "<span style=\"font-size:20px;\"> <a class=\"ProveItLink\" href=\"../__pv_it/demonstrations/57669879912e3ddf259b9f3e0c5c7181758df3cb0/proof.ipynb\" style=\"text-decoration: none\">&nbsp;&#x22A2;&nbsp;&nbsp;</a><a class=\"ProveItLink\" href=\"../__pv_it/demonstrations/ccc58494aa77c7ed54b9b42c1a225689593cbc070/expr.ipynb\"><img src=\"data:image/png;base64,iVBORw0KGgoAAAANSUhEUgAAAOwAAAAVBAMAAAC3YB/2AAAAMFBMVEX///8AAAAAAAAAAAAAAAAA\n",
       "AAAAAAAAAAAAAAAAAAAAAAAAAAAAAAAAAAAAAAAAAAAv3aB7AAAAD3RSTlMAInZUiRDNmWbv3US7\n",
       "qzJazP2FAAAACXBIWXMAAA7EAAAOxAGVKw4bAAADRklEQVRIx31WT0hUQRj/dvfN7uqu+eggHZJe\n",
       "YlBB8YwK8tLSpZKUR7dK2U0QCwn2IBFSuHToUhQFkZjQgqa0ddhDHTy5ChVFkZhIYMF2KQhC01yC\n",
       "IJr5Zt68N++PA+v+fPP7fb+Z75v59gGADgDnyhAyIm1BT8P5HmUkbDZq0s+AFar++TJAswlfVaYM\n",
       "j/LJq9roMgUH6eeoEqV7VGG+9wdU+ORNMcDz2wOu3O15nk4ZTT1lIDmKO9SpfuU/ezL6tlQqVZVH\n",
       "fMTzQXtd57S45bUtaHoFEgW/7XqQ7ZZe3bcSPhrNANfUBqcl8z7bpDkPdf4wTOG3PatDiO1MUKG1\n",
       "oqDdl7malLY5OOwPoxWDbJchzLYjKMcs8zhxgW+l15K7bdiWgUEpbD62VSgW9om0aS23ZdScxyiy\n",
       "uFOc0kstH8HF57FWTKHsxAdNlkzyrr2LYjGX2Xruwgc+l+0jv/jNG4erAHt4aeddtow/rad5MUjN\n",
       "yuouvhMLlTfwyXmntpOPpiwYZ/QR+udMAYbk9biHoD7DwA7cesRly/hkBBK8GLENqDNcfB6LrQyV\n",
       "R9Rc0SRHb/bBQxplifWcYYAJuZffCIZx92QJfZ2CIz+xylzYSOSgMePiO7FQuYK5GqWX75mwhcpz\n",
       "ZgvfWSMaA/KXiyYgxa/QGC/YAH5dcXbL+HUVyJbtPc6YLr4TC5XTuPSKa7dQSWOSWTsha5Bcta9t\n",
       "AqtGH7laUrysNK6sAXfktRVpWbP7loiFynZQcoW2cZgTJ5OsQ0OuDRjxH6sNA3/o4QA4KWJ9eeE+\n",
       "yVkTlmI6YbZVWmcGON+SsbjyFipaFNsD/Hyzkz4H7fk8qVH0CV4DAnosu5xrmTrlbo5pIzaVgCw9\n",
       "Kg2FdB4B8lGIsYRykOfKlLYZrTUPP2zbntavC1Uo0cX2HKcNkwHtxHUrsBuw7Cx0Ne+H+scULdKy\n",
       "M8D5GAFjceVTnqvPPFfRi+/wF6i+qvSZmOUFIbZiHPIBR8i7SlHmatIVAVu1E0bzgc1tMz6gqTT8\n",
       "qQkYs2A3IjZO+wBefDqGSiVZW8knhhe4hKjcHvIO0G23ExyGD5ARv0byo+AFjpArZ8NeeSgvcs0M\n",
       "fSPqDJjahO9RRvXAuf8+ZuKEmtMzXAAAAABJRU5ErkJggg==\n",
       "\" style=\"display:inline;vertical-align:middle;\" /></a></span>"
      ],
      "text/plain": [
       "|- ({a, b, c} subset_eq {a, b, c, d}) in BOOLEAN"
      ]
     },
     "metadata": {},
     "output_type": "display_data"
    }
   ],
   "source": [
    "SubsetEq(Set(a, b, c), Set(a, b, c, d)).deduce_in_bool()"
   ]
  },
  {
   "cell_type": "code",
   "execution_count": 169,
   "metadata": {},
   "outputs": [
    {
     "data": {
      "text/html": [
       "<span style=\"font-size:20px;\"> <a class=\"ProveItLink\" href=\"../__pv_it/demonstrations/ee19552fde7f6b009716e83f0ea42f6a2c63c96a0/proof.ipynb\" style=\"text-decoration: none\">&nbsp;&#x22A2;&nbsp;&nbsp;</a><a class=\"ProveItLink\" href=\"../__pv_it/demonstrations/68c925d606a737e2335d2bf7e39808609a92cdd90/expr.ipynb\"><img src=\"data:image/png;base64,iVBORw0KGgoAAAANSUhEUgAAAOwAAAAVBAMAAAC3YB/2AAAAMFBMVEX///8AAAAAAAAAAAAAAAAA\n",
       "AAAAAAAAAAAAAAAAAAAAAAAAAAAAAAAAAAAAAAAAAAAv3aB7AAAAD3RSTlMAInZUiRDNmWbv3US7\n",
       "qzJazP2FAAAACXBIWXMAAA7EAAAOxAGVKw4bAAADC0lEQVRIx41WTWgTQRR+SbNJ2qSyeCgeLK6l\n",
       "ggrKVlSwF0Mv/mDL4k1tSSwUK73kUESK0uLBi6IoiKUWDLSmGD3koIfe0oIKolhKKUIV4kVBkFaj\n",
       "RRDEeW9mJ9md2cQHCS/7fd98M29mXhYATAA4V4SGEerSPQ1WEj8UhIZt9hlxGtvCtxcadR0l8hOW\n",
       "j//45ebUGksOss9Rj7Z/SjPG5/sAb9XHdZXI3+0TJBNW20ARjAzLT3qhC7q5V6q08OtCoVCmtK4S\n",
       "wajjt52ImCWITajiisY18UvStgyanpEDlQjGs4pt3F6CZlWMDkpEcpJ21oQAW5+SwHuyQnlpm4HD\n",
       "qhgdlIhmJW0Ngmx9SgKH+YQGHbna1m0pGJV4e89W4bC8zxbDdNziSXvPui09Mr6RQys7La2S+L30\n",
       "u82RRd61d0VM5hLO5w6841h6yPjOb94MXOFz5dgevrVLNbaonDeTorg+JfGv04Pz1b3NP5xzYAZJ\n",
       "k+zrzASMyUtxl5KWlEgYhuPvoKWEamxRaUxCLKdVEv+It0KsyOEbQ/CAaVex04wDzMoV/KRk3K2M\n",
       "wIxV8q1uICljG+iiUxJ/nSo0xa7cU2ELpWdoC1+w/UyD8YeLZyHBL8K0O7zAIiP063J1tahsLkG6\n",
       "qFUSf54mUKpZLZSSVGRsJ8YPiG+4ly9Ge8Ue8XAx0ZKiRU8jSltwG7RK4neDp0JkG4VFcR6NCrRm\n",
       "ugCJf3EvMfnNDhMmAoMTYhYfn9ee5LQNq02mAYqS828Sr8Nje4Cfbzzpi9CdzRqbLHsPr4ASdhj7\n",
       "KCGsekkTp2qbY9JqmotBOuNXCv4or5AtbVORzix8dW0HOj8tl6HA5jpwjDVMTCLHrzn8CWH+TujW\n",
       "abmvfT+0PAK/kvOf8Ap94BUKX3xD/0AtZU+vaXICkyBbEYeUIXgvyckK5Wt01Kqr4khw0sA2pQoQ\n",
       "pL8aTSyA234wTgcnvCWxGCsU5N5KpWGpAuRvD3gH6JftB8MKTrAdKSGVYVAExF8IeuVhtNBV+z/e\n",
       "pXo1pDpK4odNLfYPm3LmgDpwtyYAAAAASUVORK5CYII=\n",
       "\" style=\"display:inline;vertical-align:middle;\" /></a></span>"
      ],
      "text/plain": [
       "|- ({a, b, c, d} subset_eq {a, b, c}) in BOOLEAN"
      ]
     },
     "metadata": {},
     "output_type": "display_data"
    }
   ],
   "source": [
    "# And the SubsetEq claim is Boolean regardless of whether it's True or not\n",
    "SubsetEq(Set(a, b, c, d), Set(a, b, c)).deduce_in_bool()"
   ]
  },
  {
   "cell_type": "markdown",
   "metadata": {},
   "source": [
    "### Testing the `ProperSubset` class methods in the `proper_superset` style\n",
    "<br/>\n",
    "<font size =3>Again, the <span style=\"font-family=courier\">ProperSubset</span> class has the following class methods:<br/>\n",
    "    <div style=\"width: 70%; border: 1px solid green; padding: 5px; margin: 20px; background-color: gainsboro; font-family:courier\">\n",
    "        <ul>\n",
    "            <li>reversed(self)</li>\n",
    "            <li>derive_relaxed(self, assumptions=USE_DEFAULTS)</li>\n",
    "            <li>apply_transitivity(self, other, assumptions=USE_DEFAULTS)</li>\n",
    "            <li>deduce_in_bool(self, assumptions=USE_DEFAULTS)</li>\n",
    "        </ul>\n",
    "    </div>\n",
    "</font>"
   ]
  },
  {
   "cell_type": "code",
   "execution_count": 170,
   "metadata": {},
   "outputs": [
    {
     "data": {
      "text/html": [
       "<strong id=\"set_134_properSuperset_set_13\">set_134_properSuperset_set_13:</strong> <a class=\"ProveItLink\" href=\"../__pv_it/demonstrations/8b9e2aed81da74aa7465bf474c1e8e4693dc9bc40/expr.ipynb\"><img src=\"data:image/png;base64,iVBORw0KGgoAAAANSUhEUgAAAJIAAAAVBAMAAABf4KrdAAAAMFBMVEX///9ERETMzMxUVFSYmJgQ\n",
       "EBDc3NxmZmYiIiJ2dnaqqqoyMjKIiIi6urru7u4AAAB85a56AAAAAXRSTlMAQObYZgAAAAlwSFlz\n",
       "AAAOxAAADsQBlSsOGwAAAbxJREFUOMt1lD9LA0EQxceAMYnJmcpKiFhZWESuEGy8QmxshHyABERE\n",
       "sTCVIAhidSBIWgliPoEIdoKaSgSLpBFtlICIKQQLrSKot7N7+3dui8uy7/1e9nZmDwC8Z0gcmzVi\n",
       "0QWE7f4lOSk123MXXYDbcr9sPi2I9HG9K/VtgKGyE0QBaMvuR/uduxHCO+QGMZIpc9UaFIA27u0I\n",
       "odPyfmLkLjnJBoikhy7ESallldQPw3CCTOIAkRQdw3dMjJp72jqgkjhAJj0FYnJrJUG/RiYxANdG\n",
       "zg1hxp8URQlYUn5Fq3URfygAbWuBtVlRuyywpPRAO+trfFIAs61egSlAlU+XMAleL1XSCXvQQGRL\n",
       "1Xu6MAVQauHLtXlSs6uS9vAdSaAZt6cU/noiqeD7C5WGaGgx8IBIAG2qFEyrsM163DTMaqedeK5s\n",
       "1U4C3MaF0xpgcy+y9vjkfz5WNLtAXDUC0PrJr14EEEbOwk50ITNHWO3SV1tL8h7Htc40Ab0zcfey\n",
       "HGfWJWO35XDXXDIAKykr+Yad5N5gE8A11cUf8kXa0sIb2hgEwG2qiyWfV9hb4CQRgLCtzyd/fTco\n",
       "zQWY7R9DC7qtc7AcpAAAAABJRU5ErkJggg==\n",
       "\" style=\"display:inline;vertical-align:middle;\" /></a><br>"
      ],
      "text/plain": [
       "<IPython.core.display.HTML object>"
      ]
     },
     "metadata": {},
     "output_type": "display_data"
    },
    {
     "data": {
      "text/html": [
       "<strong id=\"set_1346_properSuperset_set_134\">set_1346_properSuperset_set_134:</strong> <a class=\"ProveItLink\" href=\"../__pv_it/demonstrations/d3268a565cdf258b45702f6d22109e4f3bdba9600/expr.ipynb\"><img src=\"data:image/png;base64,iVBORw0KGgoAAAANSUhEUgAAALkAAAAVBAMAAADoXVL6AAAAMFBMVEX///9ERETMzMxUVFSYmJgQ\n",
       "EBDc3NxmZmYiIiJ2dnaqqqoyMjKIiIi6urru7u4AAAB85a56AAAAAXRSTlMAQObYZgAAAAlwSFlz\n",
       "AAAOxAAADsQBlSsOGwAAAmxJREFUOMuNlctrE1EUh39J83Cmk4nQlQtrfEA3LkpjF1oXWfgHFOxW\n",
       "DaiIKGhwkUUQKhXJqgREbMDFgODSBBXcGAhIQXBhQEQ3yoCIG0stqIsWU+9z7pmHSbPIHG7O92Xm\n",
       "3nPOAHA/Y/wn9yRpdWMwFnj7ZQ92HJ2Orzk9fxxgD9lXelX/ZbsW3M+MDtrtEjAVF3R8il59eBAU\n",
       "FYC1DHxtDNXyd9jbOmVFXa8NJljOWtzOlwLUvYmOR9E1bYej7e88d0c/t7a/Qmr/f+0B6mxjs0vR\n",
       "BPuHAbT92HN5tYdGBbfZbN7pJ9kL51DsUjTBzmS/VNBS9tQisYuzeVNKsPNzqFA00f5JpThVZc8+\n",
       "e3Q7ZId7L9FeuAuKil/z3VDK8bK6sUtQ9uILZNlxrZMNPywvjZA9/XoOFBXA5UpkZ1TNtLR98yfy\n",
       "54EbnrFPijrPLUV3xqMoBy72Iim4INBMNbAvI/OXbceC0Vu8J3ILgwialaFCOZCu+TTlCHBIWK4j\n",
       "2JkuMuykrZ65gbzwzkxTe7qElHxshQogNUvtu76yvy+Xf5+UNSPvvUO6flJepqi9ONR2hQogqBmX\n",
       "/3KW74wr81nME2y276woH5BTfRypGQ5kZ/nO+AEqAWG3/kB22hle76rntiD79gC+eaGK1KNFVrRC\n",
       "MxVW77rRt2i9T8zvnMA+zhTqbIqJCLXd02iKp6vPhep9o1Y1doN+rLMpJgCBkm4Sn6eIRbYfHipi\n",
       "Erz0QksjAWNvIRZZkZGVMMVGA86i7u8+YtEPk9yI29fHAzk9zx3zzgmivpktS3F70L4jgCun9vJe\n",
       "ve8lLN7yRgP/ABlm2abnNYsTAAAAAElFTkSuQmCC\n",
       "\" style=\"display:inline;vertical-align:middle;\" /></a><br>"
      ],
      "text/plain": [
       "<IPython.core.display.HTML object>"
      ]
     },
     "metadata": {},
     "output_type": "display_data"
    }
   ],
   "source": [
    "# define a few proper superset relations for testing\n",
    "set_13, set_134, set_1346 = (\n",
    "    Set(one, three), Set(one, three, four), Set(one, three, four, six))\n",
    "set_134_properSuperset_set_13, set_1346_properSuperset_set_134 = (\n",
    "        proper_superset(set_134, set_13), proper_superset(set_1346, set_134))"
   ]
  },
  {
   "cell_type": "code",
   "execution_count": 171,
   "metadata": {},
   "outputs": [
    {
     "data": {
      "text/html": [
       "<strong id=\"set_bcf_properSuperset_set_bc\">set_bcf_properSuperset_set_bc:</strong> <a class=\"ProveItLink\" href=\"../__pv_it/demonstrations/16c6873101af369cb854e6e15e297e61b8cdeab90/expr.ipynb\"><img src=\"data:image/png;base64,iVBORw0KGgoAAAANSUhEUgAAAI8AAAAVBAMAAACNsKCFAAAAMFBMVEX///8AAAAAAAAAAAAAAAAA\n",
       "AAAAAAAAAAAAAAAAAAAAAAAAAAAAAAAAAAAAAAAAAAAv3aB7AAAAD3RSTlMAEER2zVSJ3Zki72ar\n",
       "MruaaVGaAAAACXBIWXMAAA7EAAAOxAGVKw4bAAACJklEQVQ4y3VUPUsrQRS9Y5I1Gz+yaCcPE/0D\n",
       "RhQUtdCAYGER7YQHRgQVfYIWGmzEQmyUaKeIoCBiEZCA5VMQ/OCBCCktREwn8oonfoCI8GbuTGZm\n",
       "nd2B7F5Ozj1z994zAwCkEfyWPeSF1sS9Wa0NvkJwVzSxQNLxZIWeaVFPMx4qKyMAf014mOrUH7og\n",
       "ZFlMI7hkJlg3BwDjJo5QnwmhUDRlJkQGi/5Cbz5CTY6ZgBgXIplMZjGhZZU9+wh5bMwx9YfdVlC4\n",
       "NeMj1N9yKbDRTsE/Ofzj3oEsqKzgeZdohtVyKljhbsp5dWIbiG+mwg8i8YU9OrR97/lrmf5iPeSD\n",
       "1zkHWcHazqMFIrwF86UA7C/23NWmEMRG2jlugX3EytMsYKydJK8qmsbyVBND//B7LpSSxRxtX8R5\n",
       "Ve+IrTslVlXWQd0mTIg8qDTsp5VUFYXxaNwWsfAyboAjkKzqM7QRl44lZBrDuY3lpykbv4nayYs0\n",
       "O+4cLZAcEGZM2rA44X5EzUmt2T/V1L6gLg8s+5N6SrCYUGW+eglidHx0ZFaBBbSBcbePoGpWCV3D\n",
       "Ix01DejIpjUfkatV2ihGHPvdzAMYBrdQTXZDCf2YoKVnaEnW1LGjGxLXgCtY04TYEelL6TbGuTqm\n",
       "s3GltSB01vutIvd5wEw3FNgrHYGEFpQXu6WNvy1p9loJIcsu3QgB0IKKduwIyZlC0uzSKoK1del/\n",
       "Z//yuKfstZQH6z9DOH+aU6a7YQAAAABJRU5ErkJggg==\n",
       "\" style=\"display:inline;vertical-align:middle;\" /></a><br>"
      ],
      "text/plain": [
       "<IPython.core.display.HTML object>"
      ]
     },
     "metadata": {},
     "output_type": "display_data"
    },
    {
     "data": {
      "text/html": [
       "<strong id=\"set_bcdfg_properSuperset_set_bcf\">set_bcdfg_properSuperset_set_bcf:</strong> <a class=\"ProveItLink\" href=\"../__pv_it/demonstrations/e2c5f1606d975275caba57048b6d6504d6d49f300/expr.ipynb\"><img src=\"data:image/png;base64,iVBORw0KGgoAAAANSUhEUgAAAMsAAAAVBAMAAAAa4QdfAAAAMFBMVEX///9ERETMzMxUVFSYmJgQ\n",
       "EBDc3NxmZmYiIiJ2dnaqqqoyMjKIiIi6urru7u4AAAB85a56AAAAAXRSTlMAQObYZgAAAAlwSFlz\n",
       "AAAOxAAADsQBlSsOGwAAArZJREFUSMeVVU1oE0EUflmSTXZttwFBLxIKvXiMYhFtwaIeBS16KOJh\n",
       "oYo/CLX0ohVRvBgVpFTFiD/kJHjQ5iKFQstSFSkWCRTxpI6UQkFhQ5CCsRTnf2d2p8HsYfJl9n3f\n",
       "N/PmvVkA8L5CO88F3zDZQsN+wX4/fmvLxtqFkpOtNHoKZHQ3AH4MmfTeXBLwynNlPlVMhG6qQZlb\n",
       "CXBu4GHaFNJV4cDZfVKZpgT92VSDMssypGmy+S6yk3lV+A8bkwZlSpvODZNNOeGn2qyWSqUdypRR\n",
       "gzKljWGBahbKAObdXLwZTRk1yqDabOl/K87h6btuVof75kUWDg3t5ejl4mldb9WHpIazeFBjUpts\n",
       "FSCc89bYi3OVbJ6Cz35KZmFd7KNqDwJ0HFOqkQVrGvYdGNWY78lwZgBgCsEpNn8bMgHttxOUy3gN\n",
       "DnAY5tnqWc9BQiM3IcQ4cwTvcngWg6sAf9iyxA6ydRLOu6LOwXGwyIKXZyKbZ2TQNa5HBcOYXl8F\n",
       "rFFE9tDJlpjJi0rMQ1iLnbnVZAl7UotsrtEXmsZgvFqcWd7UTbGNMOABGByNt316jUJXrdyqjBAa\n",
       "3nr8wphC3LEBKwNA/nThJNc8YlOBPtf32M6wN0HpOoT4vaOUgFuUq5Yav3EPAZJMgIciZA9sB+8v\n",
       "OZI8ON0hXmIqcG9lIaSLHcFJIghX0gGkF/ROBAkNXGaTFDCm0jfLj/AqS4Ty+PAnyN3Dkv2Tw/MU\n",
       "4U2T8iFoaeGy1p7el23RGUgN58ERxMQoU73TaAJkhbwGDY1Fc9PaZXN3PH4xSA0Gxgw2jhSfUJFb\n",
       "nOGoB1mNFlenpuGAZDIb2dS/ZC4CFeUKVY560c+At3zsSWoQwJi0o5SmluIdoKL0B5+jpQXaJbig\n",
       "Eh/ihEYgmeRCIc/Z/W19pM+bwlto2PfxXfMPGIPszdcVKhgAAAAASUVORK5CYII=\n",
       "\" style=\"display:inline;vertical-align:middle;\" /></a><br>"
      ],
      "text/plain": [
       "<IPython.core.display.HTML object>"
      ]
     },
     "metadata": {},
     "output_type": "display_data"
    }
   ],
   "source": [
    "# define a few proper superset relations for testing\n",
    "from proveit import g\n",
    "set_bc, set_bcf, set_bcdfg = Set(b, c), Set(b, c, f), Set(b, c, d, f, g)\n",
    "set_bcf_properSuperset_set_bc, set_bcdfg_properSuperset_set_bcf = (\n",
    "        proper_superset(set_bcf, set_bc), proper_superset(set_bcdfg, set_bcf))"
   ]
  },
  {
   "cell_type": "code",
   "execution_count": 172,
   "metadata": {},
   "outputs": [
    {
     "data": {
      "text/html": [
       "<strong id=\"set_bc_properSubset_set_bcf\">set_bc_properSubset_set_bcf:</strong> <a class=\"ProveItLink\" href=\"../__pv_it/demonstrations/1e689df2441c7439e840478c2303084dde2fd2610/expr.ipynb\"><img src=\"data:image/png;base64,iVBORw0KGgoAAAANSUhEUgAAAI8AAAAVBAMAAACNsKCFAAAAMFBMVEX///8AAAAAAAAAAAAAAAAA\n",
       "AAAAAAAAAAAAAAAAAAAAAAAAAAAAAAAAAAAAAAAAAAAv3aB7AAAAD3RSTlMAEER2zVSJ3Zki72ar\n",
       "MruaaVGaAAAACXBIWXMAAA7EAAAOxAGVKw4bAAACOElEQVQ4y2NgYGBUYkAFUycwYAIMVQjAGQmh\n",
       "TRTRJHjPCWCqxlCFBO48BJGsH4HWvSpAluA7gKEWpEpuORZDONKAtr4BsdhAZrA0IEuyFWCoBwt5\n",
       "YDEo51YAA0M6XAl/ADEGfcVi0FI9AWSD9AWwGmRXXl5eCxdi+ohpDkQMYVA6AzaDrmSiCGFxKFQM\n",
       "YZCP8VGoTLL1BZgOxkpUDSyHbaAhwGa8F8LgPlXTADOIwwGo5YuAPCTxTA/geMDAvADM5lFAihyg\n",
       "KnlHxp+QhFPK0AcV5zcAkVYgYtYGcORygUUYykAMTkiosiB5AaQqXoBhMZjDngBlMDDMvwAmgS6d\n",
       "4wSxjz8BbDEkPGVcwekMYQ5YVQsDwzcwrx8RNfGQQDgSwMDbJwC2Qh/sfa4HYIkUsKfmICV2kKoy\n",
       "BiaIU9chJCCxxOYETcbAZASxRd4AloxBPkBL7F+hDmb8jBB/A3GXADQ++C8wrmZgBIUdMCgUGNgg\n",
       "gc2xATXW/jJIbWAAafkNTD8MEO9BwioLpoRnA18DgzwwYoBRxgaPfgYnVINOM7wAxi+QA4yyXDCD\n",
       "gfMTA0o6YjzWDfRJIZCXttsQkfLkDgkgGySTAXRiOVCILXuzAJjBwPoB1SAICMTIImrPkbMIpBgQ\n",
       "QGZwHMBmUAKhTAtmMCAxYlgCEAZBkzHQfwbIyRgNwFUJMyAx6kQg7BZweMEKB2a4LqkNmMUpTBXc\n",
       "NhBjcyfECavB1IyjaJqmHcVS7sw4irvMzgF6EABL7YNZvaxtMAAAAABJRU5ErkJggg==\n",
       "\" style=\"display:inline;vertical-align:middle;\" /></a><br>"
      ],
      "text/plain": [
       "<IPython.core.display.HTML object>"
      ]
     },
     "metadata": {},
     "output_type": "display_data"
    },
    {
     "data": {
      "text/html": [
       "<strong id=\"set_bcf_subset_eq_set_bcdfg\">set_bcf_subset_eq_set_bcdfg:</strong> <a class=\"ProveItLink\" href=\"../__pv_it/demonstrations/edc7118c6e9433a3ff7672f720ee7972b1d3e9580/expr.ipynb\"><img src=\"data:image/png;base64,iVBORw0KGgoAAAANSUhEUgAAAMsAAAAVBAMAAAAa4QdfAAAAMFBMVEX///9ERETMzMxUVFSYmJgQ\n",
       "EBDc3NxmZmYiIiJ2dnaqqqoyMjKIiIi6urru7u4AAAB85a56AAAAAXRSTlMAQObYZgAAAAlwSFlz\n",
       "AAAOxAAADsQBlSsOGwAAAttJREFUSMeVVktrU0EUPm2am9w8bgMudCExIOrCRS4+EGyUoC4LtVC0\n",
       "FJFAKbpLSkUUF624ubqQapWmGCQgFDdqdoI0UtAoosj1B1ivFEFQSSlFMNbgzJnHfUbJLIYv5873\n",
       "fTNzzpkWALSP0Gkoi0HRHyZ0MYTG25XOa3am/bFE3erGhmvE2gCfR4O+X74PsMUffmJ1IOw9LVBk\n",
       "wbkT1FBnyPQ0gKXuGwMoiyNsMwwjgxBDQQRoCTC3q+oIl6VNK4AUfpSWNr1LBTcriJBsCzT2wQqy\n",
       "sRc4xicLpM3XgpsVSMANg/+rtJELfF+5zRFPPJAQL3n9PDbx3AtxmZWXLANwfPSQbVPzsGyC+u4Y\n",
       "A+OVLA/1HbzGDWOVV3muESESzefaT/bhfDWS4nKbdGqw1OgOmyvgICg3YJJd1CnYIRLSv8zBPZhI\n",
       "cY2JPNboGfbhOoT5GmWdzkXcoeKwUUbAQYjOcvAlj/44ivxCSK9QR6oxXmcb/MUK3k5ebI3O2gD6\n",
       "2JetDJhOwrQ4wTTdougsUas6ZAtMo3fSoguSrELDKU/dqHX8ccE+zZ40OAjDIjwM2h9XzskgyWoI\n",
       "jR6ddgE/RnNZyvXoouVpyk13UwuCtsmDBPStudqejKECQtSgu16nV0t/9JNEmRo7GDre5Sr7V1yV\n",
       "JgkbJPkUaC0I1RaBbYpmi6Ih0DaEBrU5AFtB+01zkwI108TyLZrO8ydvuR4bSSBldhvBdnhYKiEC\n",
       "hdweomYh1Hb2zeo8OYVBN7Bw4j1Eb9p5LAe3rSSodwYtBKtvducyTAOLh6Jkbn7G9aZhacl36DGd\n",
       "pv5l4ybYTEQRXcbwYXDbqFJolqzSn/3XRvUBRA/iVYZ6j0I2IwiJk3zJd7FWI8mPpmuy5cm4ZBgy\n",
       "Nw3wEiRAdPUbR6Gz2pLUUMSbLms5Qd+l1/gmayP+0xSrXoLdBRQNXuSIpMa0Nc4d7vx3fK4aEJyq\n",
       "dvW/ANX4C3fz6b9H6rqCAAAAAElFTkSuQmCC\n",
       "\" style=\"display:inline;vertical-align:middle;\" /></a><br>"
      ],
      "text/plain": [
       "<IPython.core.display.HTML object>"
      ]
     },
     "metadata": {},
     "output_type": "display_data"
    }
   ],
   "source": [
    "# define a few subset relations for testing (when a reverse is desired)\n",
    "from proveit import g\n",
    "set_bc, set_bcf, set_bcdfg = Set(b, c), Set(b, c, f), Set(b, c, d, f, g)\n",
    "set_bc_properSubset_set_bcf, set_bcf_subset_eq_set_bcdfg = (\n",
    "        ProperSubset(set_bc, set_bcf), SubsetEq(set_bcf, set_bcdfg))"
   ]
  },
  {
   "cell_type": "markdown",
   "metadata": {},
   "source": [
    "### `proper_superset.unfold()`"
   ]
  },
  {
   "cell_type": "code",
   "execution_count": 173,
   "metadata": {},
   "outputs": [
    {
     "data": {
      "text/html": [
       "<span style=\"font-size:20px;\"><a class=\"ProveItLink\" href=\"../__pv_it/demonstrations/bcc625553214e8953d4d379adb2c5f391483f7270/expr.ipynb\"><img src=\"data:image/png;base64,iVBORw0KGgoAAAANSUhEUgAAAJIAAAAVBAMAAABf4KrdAAAAMFBMVEX///9ERETMzMxUVFSYmJgQ\n",
       "EBDc3NxmZmYiIiJ2dnaqqqoyMjKIiIi6urru7u4AAAB85a56AAAAAXRSTlMAQObYZgAAAAlwSFlz\n",
       "AAAOxAAADsQBlSsOGwAAAlxJREFUOMt1VD2IE0EU/jbJJtkkbqKgKAim9CqjB4fYZEGwsTAgNido\n",
       "RPT8KzzkWFEOghYGBF1sJKh4rY0XxUo8SaWCINtZKQtycIWQQ0XEeLfOvJnszGaTKd7svPm+b968\n",
       "eW8B2F8wcVxqjnEmCRL28etkpdT+IOlMEgSssMm/O53q0HtVzFn3BXMZtYQQEeZubpNLq/NAwqwW\n",
       "M5f9dEvu5CX3DKwNuRsf3JWt4KkvDlzBQQkj8wZGRQI/SKUZ4MREpXQTZoNWxR62akrihuJyR6XS\n",
       "6QD15lBprd1u79aUzE2kf9NqORj6yBgNdWJRKrGY61U9piu3tJhaSP+g1XbElMyXjxcl/l1R5fh+\n",
       "/HZrTcVi+Vyn6eTUe1/6cl2g/Armkkigo5RS/4BSQ3trkUpOYGNfj6aBg1kJO+cA/XXkTokDoZT4\n",
       "K2b/arl+S5YT2LgtqjQEFgKCnV1h634LmQ3aOaIpzXPz7bVSesINEVhkIkD7D3DMJ1hqniW/3EXm\n",
       "F12up5Qy9PHIV0qUSyIAh6VvwJQcAePlaQxj2jI9XT/uCcwzZJt6fQAiQVTPBQ/nabWTYiIY1RPL\n",
       "UwOixcwabDrbQymApWW8UFNvNwV8IsIyyxMEjDZ2YXXJHhCwXEGfH37Bda/Hq2BvoLrljuu2iGB4\n",
       "9qzeLZZ7AGhzZG7Pz17+Hi+mMBzoSvbnHaoy82EYdgXh4bWqriSij/4gz2NNJrrl7o24K0YYUbIi\n",
       "vjeqNNrBowTyqSr+Hl2kF0FkQetjDEHAVBVH/JKirToJpTEECZs7NPnve3HcXpLAYf8BIXSqd31v\n",
       "418AAAAASUVORK5CYII=\n",
       "\" style=\"display:inline;vertical-align:middle;\" /></a> <a class=\"ProveItLink\" href=\"../__pv_it/demonstrations/fa139700082e510ee5a376e196af020650dabc9b0/proof.ipynb\" style=\"text-decoration: none\">&nbsp;&#x22A2;&nbsp;&nbsp;</a><a class=\"ProveItLink\" href=\"../__pv_it/demonstrations/c6904d13cce266168a63dac0a4b8f2b39a6326500/expr.ipynb\"><img src=\"data:image/png;base64,iVBORw0KGgoAAAANSUhEUgAAAV0AAAAVBAMAAAAX2iAxAAAAMFBMVEX////MzMxUVFRERES6uroi\n",
       "IiIQEBCYmJhmZmYyMjLu7u52dnaqqqqIiIjc3NwAAACW8nlqAAAAAXRSTlMAQObYZgAAAAlwSFlz\n",
       "AAAOxAAADsQBlSsOGwAAA65JREFUSMetl01oE0EUx1+S5muTTYMgKhWspR6KaGPFHhQlePMgBMvi\n",
       "B0KLlBal0NCT4EFp/UjRQ6yFimgJKIIHaSwoQhWDIFQF25OoB1mQoj2oFauSgsaZeTM7u/mcQAvb\n",
       "2Z35v19e3sfMBgBMALgTh0p/kTflZksMUGaWCFedrufINZ6pSIQ1u0vnyhgw2cES4arTX5Nrjq6H\n",
       "Zh6I1fV8/DK6g/zvKCVSg0jqWpQ/zsxEUaYni4T10c3adC1Nbh7SkI/DFmF3iGchBs/iuEqEhmF0\n",
       "zXMBnfoEoWV8Woy7E1x2gwue4KBMx5l0bXogyQXBedgp8sGJbhN8PXZi5H1UErcD9OHTLfDEuOw0\n",
       "9/Mojur0A/l58ETna9J9QjAna2bdGI6+FXD/c0RAm5T+DmagnSUwvGLNgQ8p+hB2jDLddXhjZ3xW\n",
       "i9WkvxQPndKrLCeSPLh/OPyFDdJfkt92Fm5PjyQGsYC9LvxkZToJdkNX74t4Tfpl8XCy6R3fRXRz\n",
       "zIJ7l5z+Bk1pDdCNgbr69LyYCzXzNsNEKNN1yh68CTXpE3QcJVc+CQOo+wySuIlU1Fubv6EcCAOS\n",
       "xL9saJwAX47L/NgykzDLxrroi+KmGv04baN+UpkFgItYZFkbkfbG95z0N8CiRA1oeDCYU0sQOMVl\n",
       "YZY9VzN4Gasueqvo6mr0XrLeRpzQfgGcZc74TUkM0DLU2qTDQQZsw9yO4NxUAvzLXOZaYtUYBZ21\n",
       "ej30hhh3tyq9l27g9PDIEyJrlq8giUOsBsZlfJ/jjs8OJT8GABrT4P/DZQ0svvcIP8H9VaMHDKOb\n",
       "bPDNNek0Y+zw2CUisL+l5fdW1Iaz8M2xF7mO4diBTRVh3efBCDBZOCFOiyuiHlTpZ6xPqUbfa+2Q\n",
       "pMJAQ4MTAIzSBPAB4JF8DxkxZQe7sqBnqEGYVFgPl/lZUhOie+qhJ6yPqUafFgJPVhuAKWzvn6Dl\n",
       "aSUdSaUS9vP4es5GXEilLqDBHrib47JAlmJp7Xro7qlMJwlPOvytRF9rbXiPh6PgZfkeKWwDg4TA\n",
       "WygU0s7910bsLhTyaBBKbRYQL026m4bPRZ1WpgeMPkPUb1W6Nwp2j16Jm3DG4VwZf4sMcG7BqauD\n",
       "3qpG959zCLLWwQBq/madc5ecOnU6P8Br0/eB7YzRxAsj3Jfmo1b9GgZ/typjwGSRWNEXU6VjuYMC\n",
       "/bb9jNGtdanU+kvjW8aAyTzFP4iU6S5VeoTYRoZzlX9hTZdZKzVA2ccS4SrT/wOF8qSHTDweXgAA\n",
       "AABJRU5ErkJggg==\n",
       "\" style=\"display:inline;vertical-align:middle;\" /></a></span>"
      ],
      "text/plain": [
       "{{6, 4, 2} proper_superset {2, 6}} |- ({6, 4, 2} superset_eq {2, 6}) and ({6, 4, 2} not_equiv {2, 6})"
      ]
     },
     "metadata": {},
     "output_type": "display_data"
    }
   ],
   "source": [
    "# here we feed the (True) superset relation in as an assumption\n",
    "proper_superset(Set(six, four, two), Set(two, six)).unfold(\n",
    "        assumptions=[proper_superset(Set(six, four, two), Set(two, six))],\n",
    "        auto_simplify=False)"
   ]
  },
  {
   "cell_type": "code",
   "execution_count": 174,
   "metadata": {},
   "outputs": [
    {
     "data": {
      "text/html": [
       "<span style=\"font-size:20px;\"> <a class=\"ProveItLink\" href=\"../__pv_it/demonstrations/62810f48af7f6079dd484edaef35f2807e2c78580/proof.ipynb\" style=\"text-decoration: none\">&nbsp;&#x22A2;&nbsp;&nbsp;</a><a class=\"ProveItLink\" href=\"../__pv_it/demonstrations/bcc625553214e8953d4d379adb2c5f391483f7270/expr.ipynb\"><img src=\"data:image/png;base64,iVBORw0KGgoAAAANSUhEUgAAAJIAAAAVBAMAAABf4KrdAAAAMFBMVEX///9ERETMzMxUVFSYmJgQ\n",
       "EBDc3NxmZmYiIiJ2dnaqqqoyMjKIiIi6urru7u4AAAB85a56AAAAAXRSTlMAQObYZgAAAAlwSFlz\n",
       "AAAOxAAADsQBlSsOGwAAAlxJREFUOMt1VD2IE0EU/jbJJtkkbqKgKAim9CqjB4fYZEGwsTAgNido\n",
       "RPT8KzzkWFEOghYGBF1sJKh4rY0XxUo8SaWCINtZKQtycIWQQ0XEeLfOvJnszGaTKd7svPm+b968\n",
       "eW8B2F8wcVxqjnEmCRL28etkpdT+IOlMEgSssMm/O53q0HtVzFn3BXMZtYQQEeZubpNLq/NAwqwW\n",
       "M5f9dEvu5CX3DKwNuRsf3JWt4KkvDlzBQQkj8wZGRQI/SKUZ4MREpXQTZoNWxR62akrihuJyR6XS\n",
       "6QD15lBprd1u79aUzE2kf9NqORj6yBgNdWJRKrGY61U9piu3tJhaSP+g1XbElMyXjxcl/l1R5fh+\n",
       "/HZrTcVi+Vyn6eTUe1/6cl2g/Armkkigo5RS/4BSQ3trkUpOYGNfj6aBg1kJO+cA/XXkTokDoZT4\n",
       "K2b/arl+S5YT2LgtqjQEFgKCnV1h634LmQ3aOaIpzXPz7bVSesINEVhkIkD7D3DMJ1hqniW/3EXm\n",
       "F12up5Qy9PHIV0qUSyIAh6VvwJQcAePlaQxj2jI9XT/uCcwzZJt6fQAiQVTPBQ/nabWTYiIY1RPL\n",
       "UwOixcwabDrbQymApWW8UFNvNwV8IsIyyxMEjDZ2YXXJHhCwXEGfH37Bda/Hq2BvoLrljuu2iGB4\n",
       "9qzeLZZ7AGhzZG7Pz17+Hi+mMBzoSvbnHaoy82EYdgXh4bWqriSij/4gz2NNJrrl7o24K0YYUbIi\n",
       "vjeqNNrBowTyqSr+Hl2kF0FkQetjDEHAVBVH/JKirToJpTEECZs7NPnve3HcXpLAYf8BIXSqd31v\n",
       "418AAAAASUVORK5CYII=\n",
       "\" style=\"display:inline;vertical-align:middle;\" /></a></span>"
      ],
      "text/plain": [
       "|- {6, 4, 2} proper_superset {2, 6}"
      ]
     },
     "metadata": {},
     "output_type": "display_data"
    }
   ],
   "source": [
    "# but we could first manually establish the relation as proven:\n",
    "Set(six, four, two).deduce_as_proper_superset_of(subset=Set(two, six))"
   ]
  },
  {
   "cell_type": "code",
   "execution_count": 175,
   "metadata": {},
   "outputs": [
    {
     "data": {
      "text/html": [
       "<span style=\"font-size:20px;\"> <a class=\"ProveItLink\" href=\"../__pv_it/demonstrations/1bec00fc547bbb91014672272271428e0fa63da60/proof.ipynb\" style=\"text-decoration: none\">&nbsp;&#x22A2;&nbsp;&nbsp;</a><a class=\"ProveItLink\" href=\"../__pv_it/demonstrations/c6904d13cce266168a63dac0a4b8f2b39a6326500/expr.ipynb\"><img src=\"data:image/png;base64,iVBORw0KGgoAAAANSUhEUgAAAV0AAAAVBAMAAAAX2iAxAAAAMFBMVEX////MzMxUVFRERES6uroi\n",
       "IiIQEBCYmJhmZmYyMjLu7u52dnaqqqqIiIjc3NwAAACW8nlqAAAAAXRSTlMAQObYZgAAAAlwSFlz\n",
       "AAAOxAAADsQBlSsOGwAAA65JREFUSMetl01oE0EUx1+S5muTTYMgKhWspR6KaGPFHhQlePMgBMvi\n",
       "B0KLlBal0NCT4EFp/UjRQ6yFimgJKIIHaSwoQhWDIFQF25OoB1mQoj2oFauSgsaZeTM7u/mcQAvb\n",
       "2Z35v19e3sfMBgBMALgTh0p/kTflZksMUGaWCFedrufINZ6pSIQ1u0vnyhgw2cES4arTX5Nrjq6H\n",
       "Zh6I1fV8/DK6g/zvKCVSg0jqWpQ/zsxEUaYni4T10c3adC1Nbh7SkI/DFmF3iGchBs/iuEqEhmF0\n",
       "zXMBnfoEoWV8Woy7E1x2gwue4KBMx5l0bXogyQXBedgp8sGJbhN8PXZi5H1UErcD9OHTLfDEuOw0\n",
       "9/Mojur0A/l58ETna9J9QjAna2bdGI6+FXD/c0RAm5T+DmagnSUwvGLNgQ8p+hB2jDLddXhjZ3xW\n",
       "i9WkvxQPndKrLCeSPLh/OPyFDdJfkt92Fm5PjyQGsYC9LvxkZToJdkNX74t4Tfpl8XCy6R3fRXRz\n",
       "zIJ7l5z+Bk1pDdCNgbr69LyYCzXzNsNEKNN1yh68CTXpE3QcJVc+CQOo+wySuIlU1Fubv6EcCAOS\n",
       "xL9saJwAX47L/NgykzDLxrroi+KmGv04baN+UpkFgItYZFkbkfbG95z0N8CiRA1oeDCYU0sQOMVl\n",
       "YZY9VzN4Gasueqvo6mr0XrLeRpzQfgGcZc74TUkM0DLU2qTDQQZsw9yO4NxUAvzLXOZaYtUYBZ21\n",
       "ej30hhh3tyq9l27g9PDIEyJrlq8giUOsBsZlfJ/jjs8OJT8GABrT4P/DZQ0svvcIP8H9VaMHDKOb\n",
       "bPDNNek0Y+zw2CUisL+l5fdW1Iaz8M2xF7mO4diBTRVh3efBCDBZOCFOiyuiHlTpZ6xPqUbfa+2Q\n",
       "pMJAQ4MTAIzSBPAB4JF8DxkxZQe7sqBnqEGYVFgPl/lZUhOie+qhJ6yPqUafFgJPVhuAKWzvn6Dl\n",
       "aSUdSaUS9vP4es5GXEilLqDBHrib47JAlmJp7Xro7qlMJwlPOvytRF9rbXiPh6PgZfkeKWwDg4TA\n",
       "WygU0s7910bsLhTyaBBKbRYQL026m4bPRZ1WpgeMPkPUb1W6Nwp2j16Jm3DG4VwZf4sMcG7BqauD\n",
       "3qpG959zCLLWwQBq/madc5ecOnU6P8Br0/eB7YzRxAsj3Jfmo1b9GgZ/typjwGSRWNEXU6VjuYMC\n",
       "/bb9jNGtdanU+kvjW8aAyTzFP4iU6S5VeoTYRoZzlX9hTZdZKzVA2ccS4SrT/wOF8qSHTDweXgAA\n",
       "AABJRU5ErkJggg==\n",
       "\" style=\"display:inline;vertical-align:middle;\" /></a></span>"
      ],
      "text/plain": [
       "|- ({6, 4, 2} superset_eq {2, 6}) and ({6, 4, 2} not_equiv {2, 6})"
      ]
     },
     "metadata": {},
     "output_type": "display_data"
    }
   ],
   "source": [
    "# then the unfold can occur without the extra assumption:\n",
    "proper_superset(Set(six, four, two), Set(two, six)).unfold(auto_simplify=False)"
   ]
  },
  {
   "cell_type": "code",
   "execution_count": 176,
   "metadata": {},
   "outputs": [
    {
     "data": {
      "text/html": [
       "<span style=\"font-size:20px;\"><a class=\"ProveItLink\" href=\"../__pv_it/demonstrations/46182ab8b1752d83831535b076358be75233f5cb0/expr.ipynb\"><img src=\"data:image/png;base64,iVBORw0KGgoAAAANSUhEUgAAALgAAAAVBAMAAAAHnznEAAAAMFBMVEX///9ERETMzMxUVFSYmJgQ\n",
       "EBDc3NxmZmYiIiJ2dnaqqqoyMjKIiIi6urru7u4AAAB85a56AAAAAXRSTlMAQObYZgAAAAlwSFlz\n",
       "AAAOxAAADsQBlSsOGwAAAndJREFUOMuNlc1rE0EYxp8kbTbZppNe1EvBnMRjxfrRGmj+AxVUPAhd\n",
       "CeIHPaQgpFikwYspgg1eFFTMSfSikR4EwbooCKJgL+JJuxKEHgpbehBM+jUzO7uzO9tkM4fdN8++\n",
       "v2d3Zt53AoD8QvS4YewhdiMF8PV3D+bxI1ZY7EY6gL4dFO+L4M9FESTLb3JAbCTEKyQOi/eTfRUI\n",
       "IF3xJzRnPeKtuF9GektN4yMokRMf3MkNlNynCpXxzFvifhw434M58N01z9ajzAfdYNLChOGmrVar\n",
       "1eEo8xUrytzTTwITOX/a1J0I80cImBefTKnmA/lPdRdbCDqtGtI8OfbZVM0Xv42Lp1qDLsEFHLQU\n",
       "c3uJ/HMraJPqZ3wVNcRvjMQPI7atmJO2ZRsOcKUA/C1gRv3y1xYuiTBFqyrZ8i3AEr8ykpyDVlHM\n",
       "aYn2mxwovqc/54B51XwW+C/CaV6k76T5U3bhpLaOVE0xpzPK1jgQn6bSWZAt1Xweg+Jj+3j/PF6W\n",
       "5rf54jCyfwj2smJO37ZSdwDaSWQTfeuqeQuaCF8iaQTbscGvrAdtE6fVaqFlPmc5AN1V0kKi8RyW\n",
       "a05YsMF2gknxGjIW0r4N1Ue8arHrOKUbxDNnQDZHd8IBWMowXpRKpM0JWiI2+7JRHACXrpXLM8FS\n",
       "FIcIk2KmfldzADwzHCBRiJV8dd78ciifQ5UyiWPtUaTY4dV8SIuBSQs7O22/Ofm5XzYRyT8ofnSA\n",
       "o5OLBQ6QsZvhDtW9U/VVWJLtf+9WuP07ATIl7eXWwlL3g6sTIFtvzZu4GZKcdgwOSXYEZOt5GRmE\n",
       "JFY66pBkZ+DqeA9/c9f3SupGMmAXOVjeZ9mGm+sAAAAASUVORK5CYII=\n",
       "\" style=\"display:inline;vertical-align:middle;\" /></a> <a class=\"ProveItLink\" href=\"../__pv_it/demonstrations/8c9d9bdc6f8a9faed860ae281bafd28606cc908c0/proof.ipynb\" style=\"text-decoration: none\">&nbsp;&#x22A2;&nbsp;&nbsp;</a><a class=\"ProveItLink\" href=\"../__pv_it/demonstrations/c8287b012ee1d45dbd054d81631d4c34a80e7f460/expr.ipynb\"><img src=\"data:image/png;base64,iVBORw0KGgoAAAANSUhEUgAAAagAAAAVBAMAAADhv2fsAAAAMFBMVEX////MzMxUVFRERES6uroi\n",
       "IiIQEBCYmJhmZmYyMjLu7u52dnaqqqqIiIjc3NwAAACW8nlqAAAAAXRSTlMAQObYZgAAAAlwSFlz\n",
       "AAAOxAAADsQBlSsOGwAABOZJREFUWMONmF+IVFUcx3/z1zt3dmaHRAj6s1st2aYLkw8iwdo8hFQv\n",
       "3sohS6GFLEFIh3opQlr6Qy4GTrKgRNSwtoEPMtOCUVA4LytloGMPSX/UywZh5NYKvuw0uZ7zO79z\n",
       "7r3nHs8ozL3X357v+Xx/Z+/5/c4sAPgA8HkF+v4rnjVF3cftgmI8bFf1A1qsXvUlsNBmn+nGbUDu\n",
       "eNQQ/OUpuyDd0aO/91HZgTariQcaBPyRfc5FB66h/7obPYpcmXqEXTfE5xnoRqd9gR6OvQwkuKAr\n",
       "WjGVAgqVGeiLm2ZVAoXV1LAAunV2Pxl5oR76TApzk/QilOFURQ2brVar4zQi74WlM1PK7VGgeXM0\n",
       "Wb4t7sdjqhDwKJiAGKmLe8RqCIhWcV4GdGqxkXBZMgbJSNKH7ERk2OJHpqSgoJLqSQeraGFmydUH\n",
       "cVUA7IEJ+ORyB1KljiGpAIhWcV4GzIIlqa30kO1C8kZ02HHfmlS6q+bdIyIXRsR9wpJUWsojwMRz\n",
       "d2+sfO+WrUmhVTHvHvjBlpSMJz1IXosOS9StSYk4Co6IiLdabKm6JSkVjwDZry397K75ijWpk4H+\n",
       "CByUkeK6Sx09qcMX10t1Zkmb8NPAxsJ3izojN/ZTmwRzVB9y+Lt1WlJlAAqVDizwn+z7JDAfUiog\n",
       "WhVJzYl1nGKfLX6qqzHc5UaTig4MsWl+Dif1LV4dtvDpvfBYQ2M0P3ZvkOBN4dcfwM2Vq5HKBBQq\n",
       "E/Av+aBZlUBhtTAhgDt55rtZdDc4nsZglTcrl+QZ9vm3HUrqPbz+yTx+UYP39YVjlfdVEpwWPQcA\n",
       "q2+mTSoTUKhMwBFZBDWrEiisFrHQnIZdbOAoe12dJci0NAZb0EGKOXybuqOhrHBPLUyzyyGAHXpS\n",
       "bEH/I8EQBu4DuIgloEIqE1CoDMB0mXLSrUogWZ3hL+kQTwruZJ07W4ZmRWMw6Vaa9TXcQNOhHjqM\n",
       "5eJdNvQlcK/rSe2AdI8EW/D1YGswK5NClQkoVDrQqVZfZK0RgbpVCSSr31QQuJM6f7MDb+vFiNX+\n",
       "Qw15DPgn2s3pEMB6uPs/rFrSk+qB0yXBvGy9Tlu+frzzm4BCZQC+pbiaVQkUVsVJZR7GqaQ02zA6\n",
       "4LuKwacbLLHXF0N3AfwK8FVwCHhisyrCbg+S9bMoQAYKrvGdJgSv40rKQ0GqQ9XPBERVwwAMWoBm\n",
       "VQLRKuQnBHCORqY6A9sdaOJOOeWzasIbRC01iaHi9gMHvPAx6fkPQ/1oHOYnJ1EAeVa8cI61sEk2\n",
       "D2wa+/mFH+fyw6QyAbkKH6JAyNfCSYWVEohWqaQfhDU00h37cuE8ZHiFun/f4RpU2YK569iZhocy\n",
       "Kysr9Vjjk0nN/HbvWAkFyQeX14o5Zr5Wx69t/PIwv9zDd6FHKhMQVfwhAnSqr1TlntKsKiBapaS2\n",
       "QaYUadNnVCFoxEK3SsouKGqnh6ejJ4o4MJhIAUfA4OFM/Ek0dU+cN4ORLfXzeMie1K0ETi2qeCOa\n",
       "VByYj2WQKJuSahnm8AjId7zq3K76SnciHsJuTl895NsgerhN8Ie2DCk/rDIAT4AOTJWCkMFq8IQn\n",
       "FQ48Fu7cBSVWA4MQry+xr9y9foLN+vf/clhlAHZiwERIbrAaPPGKi8Aim6T4Tvs2/mQwZxp0Zb1d\n",
       "UPD18KJd1Qdos/o3n5UBbwINBPIPyp6gvgAAAABJRU5ErkJggg==\n",
       "\" style=\"display:inline;vertical-align:middle;\" /></a></span>"
      ],
      "text/plain": [
       "{{a, 1, b, 2} proper_superset {a, 1, b}} |- ({a, 1, b, 2} superset_eq {a, 1, b}) and ({a, 1, b, 2} not_equiv {a, 1, b})"
      ]
     },
     "metadata": {},
     "output_type": "display_data"
    }
   ],
   "source": [
    "# more generally\n",
    "proper_superset(Set(a, one, b, two), Set(a, one, b)).unfold(\n",
    "        assumptions=[proper_superset(Set(a, one, b, two), Set(a, one, b))],\n",
    "        auto_simplify=False)"
   ]
  },
  {
   "cell_type": "code",
   "execution_count": 177,
   "metadata": {},
   "outputs": [
    {
     "data": {
      "text/html": [
       "<span style=\"font-size:20px;\"><a class=\"ProveItLink\" href=\"../__pv_it/demonstrations/3c6d930ef3ec428dec8b47592d9a6bf2b86984da0/expr.ipynb\"><img src=\"data:image/png;base64,iVBORw0KGgoAAAANSUhEUgAAALcAAAAVBAMAAAD2lGJJAAAAMFBMVEX///9ERETMzMxUVFSYmJgQ\n",
       "EBDc3NxmZmYiIiJ2dnaqqqoyMjKIiIi6urru7u4AAAB85a56AAAAAXRSTlMAQObYZgAAAAlwSFlz\n",
       "AAAOxAAADsQBlSsOGwAAAl5JREFUOMuVlU1oE0EUx/9JTdKNyRgQ9FK0IIjHihXR5pCDdxVEPAgu\n",
       "BPGDgvUmFrF4MUWQooiKFXMqnmzAgyC0Ln6BCJqLeFJWgtBDYYsHwa0GZ+bt7uzOLJs6h9mXl/f/\n",
       "zduZ92YBsK8YPC7YKc4MZXGBnh++bQCe3+uazizlrh1iLveT3j0B5fvJhDs3Zug1Zf4W4sqtYrJm\n",
       "Em964GWY4vOENBmW4upNR2tJ5f001acQ7v8fHJUI7g+EV/tppJVWqzUyAE7KTLjmj/2cvJ4NJ7+C\n",
       "Fw++czT45vrrduCafzOaIK3YCtKcn9ThpJTwUodPn+1cX4N7y+wXWefapRoqR2N1UUOorJ7ATleD\n",
       "k/KtMM80eI0cR2lGgy+6OEXWLAoOivHzXUao/NHAZT1zUl7k2TeXRA5rGJ7T4NPAb0qQRL0XCv5I\n",
       "TFJ5TaytwUnJJtrIX+KwQg1eV4PPokrJFmgTHnYV/KrcHKE8BvZXh5PSWgpaz3NwRK8WP0zZc4x2\n",
       "7IRNy/5g05oOJ+WiG5y518ZE2WYRXPh/iv0Uxha+tV1YsQMtj4XVwnwMdRZkmIRLhFTiblhQOad8\n",
       "owRPJvTYBlvnz3FsJ4OXipUsxeD6Ea4RPJmakmGweIlIhFDG6pzVbzdfYVjcPPtOP2ugxdW9e3x5\n",
       "YeDB4Y/xjmFftqlm6b3fXR+VYUP718cJIZVGhz6N3tvVjVj737xiNK0KixAGfC4iGUb2xWWZCIKr\n",
       "1mPhDYBVw6BGTg6lXDURotoRa71K9IdjGLIA9E+Zb4QpBG96Mc4e2sBn7nxaUIayeId3/z8YHdid\n",
       "Ayv5CgAAAABJRU5ErkJggg==\n",
       "\" style=\"display:inline;vertical-align:middle;\" /></a> <a class=\"ProveItLink\" href=\"../__pv_it/demonstrations/4efc5813bfd245b1fe1633f6eb851912eef45c770/proof.ipynb\" style=\"text-decoration: none\">&nbsp;&#x22A2;&nbsp;&nbsp;</a><a class=\"ProveItLink\" href=\"../__pv_it/demonstrations/3ddec35a8c55f4181dd41d2f4c835a82aa6d64a20/expr.ipynb\"><img src=\"data:image/png;base64,iVBORw0KGgoAAAANSUhEUgAAAaUAAAAVBAMAAAAUQexcAAAAMFBMVEX////MzMxUVFRERES6uroi\n",
       "IiIQEBCYmJhmZmYyMjLu7u52dnaqqqqIiIjc3NwAAACW8nlqAAAAAXRSTlMAQObYZgAAAAlwSFlz\n",
       "AAAOxAAADsQBlSsOGwAAA8BJREFUWMO9mF1IFFEUx89+z979cAmEgoilpBITlh58CKx9CnoIl2To\n",
       "S0hQ8qncegoiWpIQKWgRoYiwwSLoIVaFiqBoCQQrsO1FiNAGoYeoyIcgVjS6H/N5R2fnDuTC7Jw9\n",
       "c/73d++de+65CgAqADzMQ8NPem49r4vyB2lZdbg3gZeq4mtMacyALQecPjdlYBd+dtSh2ATee3x9\n",
       "sAcGTrE76ijY/Pud7XDKZsWqDGVxJ4qcwidPFeChMv7x1BY4MbKiWfGS7QELQ7Isd9dsLu2D9t5X\n",
       "rMoEAd3VPC+1GGEeW4hlAZ5UdDAgpTOaqhsw0p8y6zAAvihWJWVc0vgn2d0H70i9BqFMzTsvCi6M\n",
       "LmWjeUPj7mOiSsqIMlfqIktucV7g+PaO/CzKeee9dWNwfuvPbe5jon7KiLOEigRYp8R5QRXC3f0z\n",
       "ee+8G4Zn6dVPnjG6sE+zEgsX7A3GVaOtdNtijWdQJWUkstrWwN6sOC9FaIP3wDvvNvGM4Ct8Hg4p\n",
       "dgaqKxXW9XQPDAHMW8aUYEufKA+roRWOwZSpXmzGWHaPwyy9++N90w1PvB7SwgD+elSE69y8JVcg\n",
       "ymYkMgnnAH5ZUliia4Eo0QBIBY7BlOlVYvbSpMhChD7zx2vR9yZPvH4c2Er6dwvgNMeQytA0Sa1b\n",
       "VItazUHFKYIopWXSBTtDU07gFRNYpkmRgRTtri9eOKcNyRsPM2ArKdh9gH5zDCztYq32sfU2Zr6n\n",
       "N/SbKKM5qOQ5hqZ8gf1h+p4e4x4WtDEJ8iRZPoNLYtY7r0cr2GgNYsscA2/62oSt8UVcL/1YWanB\n",
       "VX4fYsokaSdZ0CvuTX3tCfMuW48WjXmd2m6CViFYngNFZyASmcFrlxjwB48f4Jl5khxSjX2oUoXW\n",
       "pIoMhqIrIUFzlq6bgp7ovngF6/bemDet75CdMFMqoTp953+xEm9XwWKoRA2yCU1Zz0Z3qiYjVEue\n",
       "kFgYvFaBNkGVbG+VyNqPkVwKkbOHOA8/L1rH1JjXrDMmPu9oz4CMRx3cXd8DEby4UNswUAMSz68o\n",
       "joKnz3j71NJHFrZzcLRIm6BKxoiQtR8kkxkgAxPnSfJZWc8nb7xIxladk0bKvHMYG4yJDzOboIyv\n",
       "doEfXosgL1ayRSYMa9JhuI9p0tkEZQzbBT542qlKgHcQrAX7iXFIrfEGK+Isn2T5GHPNO+LNJkjV\n",
       "gHSOmwVhHstDEOE9AGvBNiJTDoMUcMfHUJphZp/wUQFC/B/v4ryAMC+NfelrVQ//H5heJ8hN+Z0c\n",
       "SBcdiv/O+wd+l+GnI7gqdAAAAABJRU5ErkJggg==\n",
       "\" style=\"display:inline;vertical-align:middle;\" /></a></span>"
      ],
      "text/plain": [
       "{{a, 1, b, c} proper_superset {a, 1, b}} |- ({a, 1, b, c} superset_eq {a, 1, b}) and ({a, 1, b, c} not_equiv {a, 1, b})"
      ]
     },
     "metadata": {},
     "output_type": "display_data"
    }
   ],
   "source": [
    "# more generally\n",
    "proper_superset(Set(a, one, b, c), Set(a, one, b)).unfold(\n",
    "        assumptions=[proper_superset(Set(a, one, b, c), Set(a, one, b))],\n",
    "        auto_simplify=False)"
   ]
  },
  {
   "cell_type": "markdown",
   "metadata": {},
   "source": [
    "### `proper_superset.derive_relaxed()`"
   ]
  },
  {
   "cell_type": "code",
   "execution_count": 178,
   "metadata": {},
   "outputs": [
    {
     "data": {
      "text/html": [
       "<span style=\"font-size:20px;\"><a class=\"ProveItLink\" href=\"../__pv_it/demonstrations/d3268a565cdf258b45702f6d22109e4f3bdba9600/expr.ipynb\"><img src=\"data:image/png;base64,iVBORw0KGgoAAAANSUhEUgAAALkAAAAVBAMAAADoXVL6AAAAMFBMVEX///9ERETMzMxUVFSYmJgQ\n",
       "EBDc3NxmZmYiIiJ2dnaqqqoyMjKIiIi6urru7u4AAAB85a56AAAAAXRSTlMAQObYZgAAAAlwSFlz\n",
       "AAAOxAAADsQBlSsOGwAAAmxJREFUOMuNlctrE1EUh39J83Cmk4nQlQtrfEA3LkpjF1oXWfgHFOxW\n",
       "DaiIKGhwkUUQKhXJqgREbMDFgODSBBXcGAhIQXBhQEQ3yoCIG0stqIsWU+9z7pmHSbPIHG7O92Xm\n",
       "3nPOAHA/Y/wn9yRpdWMwFnj7ZQ92HJ2Orzk9fxxgD9lXelX/ZbsW3M+MDtrtEjAVF3R8il59eBAU\n",
       "FYC1DHxtDNXyd9jbOmVFXa8NJljOWtzOlwLUvYmOR9E1bYej7e88d0c/t7a/Qmr/f+0B6mxjs0vR\n",
       "BPuHAbT92HN5tYdGBbfZbN7pJ9kL51DsUjTBzmS/VNBS9tQisYuzeVNKsPNzqFA00f5JpThVZc8+\n",
       "e3Q7ZId7L9FeuAuKil/z3VDK8bK6sUtQ9uILZNlxrZMNPywvjZA9/XoOFBXA5UpkZ1TNtLR98yfy\n",
       "54EbnrFPijrPLUV3xqMoBy72Iim4INBMNbAvI/OXbceC0Vu8J3ILgwialaFCOZCu+TTlCHBIWK4j\n",
       "2JkuMuykrZ65gbzwzkxTe7qElHxshQogNUvtu76yvy+Xf5+UNSPvvUO6flJepqi9ONR2hQogqBmX\n",
       "/3KW74wr81nME2y276woH5BTfRypGQ5kZ/nO+AEqAWG3/kB22hle76rntiD79gC+eaGK1KNFVrRC\n",
       "MxVW77rRt2i9T8zvnMA+zhTqbIqJCLXd02iKp6vPhep9o1Y1doN+rLMpJgCBkm4Sn6eIRbYfHipi\n",
       "Erz0QksjAWNvIRZZkZGVMMVGA86i7u8+YtEPk9yI29fHAzk9zx3zzgmivpktS3F70L4jgCun9vJe\n",
       "ve8lLN7yRgP/ABlm2abnNYsTAAAAAElFTkSuQmCC\n",
       "\" style=\"display:inline;vertical-align:middle;\" /></a> <a class=\"ProveItLink\" href=\"../__pv_it/demonstrations/03ced071698d970851f36d40b519c698c2e41a2a0/proof.ipynb\" style=\"text-decoration: none\">&nbsp;&#x22A2;&nbsp;&nbsp;</a><a class=\"ProveItLink\" href=\"../__pv_it/demonstrations/7aa9696644e31c6be477b9686006eb55f740329c0/expr.ipynb\"><img src=\"data:image/png;base64,iVBORw0KGgoAAAANSUhEUgAAALkAAAAVBAMAAADoXVL6AAAAMFBMVEX///9ERETMzMxUVFSYmJgQ\n",
       "EBDc3NxmZmYiIiJ2dnaqqqoyMjKIiIi6urru7u4AAAB85a56AAAAAXRSTlMAQObYZgAAAAlwSFlz\n",
       "AAAOxAAADsQBlSsOGwAAAmtJREFUOMuNlb9rE2EYx79J88O7Xi5CJwdrUMFBh9LooHXI4B9QsKsa\n",
       "UBFR0OCQIQiVOtwkAREbcDgQHE1Q0cVAQDp1MCCii3Ig4qLUgjq0mPr+ft/cvfaSIXl47/188v54\n",
       "nucA+J+Q/ik8sY3+GKYC658nsOPQbHLM60dpgDsiX9l78i87DbWeIzLodCrATFLQjUz06sP9MFEG\n",
       "OMvAl9ZIDH+DuyWnrIjfa8MpMmeVxX4QBHcG4gEdUqh/E93QRFelHZ60vw39bblvaX+NzF5pZ/tb\n",
       "r2i7Qr0tbPRM1GJ/P4S0H37Of92RVollvrTYS+dQ7pmoxU5kv0TQFvbMYtyOoxY7vYeaiVrtH8UU\n",
       "ry7s+WePbsfs03WbvXQXJsqeFntjU45VxaFegrCXXyBPrmvNsDv8+lpj9uybeZgoAy7XYicjcqYt\n",
       "7Rs/UTwP3Ai1vciytrAUP5nQRClwsR+bggusRHJ1ZV9G7i+5ygWtn2byhWEMzfNQoBTINiJzykHg\n",
       "ALNchzqZHnLkpp2+XsBjXjKzpj1bQYZvW6AMyMyZ9p1I2N9Vq79P8pzha+/qqpflOWPayyNpFygD\n",
       "VM749MlZejI+n09iOsEl506S8oHuXY16LCMpkJ+jJxMplAPM7vwBr7QzNN9FzW2C1+0+fA3NTvAq\n",
       "NDqBQnM1ku+y0DfNfJ86sX0ce+h+S03SxViExs5pBGx3zflYvht2jX5oki7GAIYa1cQ+T5GI3GhM\n",
       "ZbGnANreRiJyMJn9v4C3KHvTAInou57cUuceBKJ7rqUDBdnPPf3OUdFA98Wl5NpV+e4CXDk1yXv1\n",
       "fmgZvBXuDvwDqLfcbPCgWDAAAAAASUVORK5CYII=\n",
       "\" style=\"display:inline;vertical-align:middle;\" /></a></span>"
      ],
      "text/plain": [
       "{{1, 3, 4, 6} proper_superset {1, 3, 4}} |- {1, 3, 4, 6} superset_eq {1, 3, 4}"
      ]
     },
     "metadata": {},
     "output_type": "display_data"
    }
   ],
   "source": [
    "# Notice that the relaxed relation maintains the superset\n",
    "# notation rather than reverting to the subset notation\n",
    "set_1346_properSuperset_set_134.derive_relaxed(\n",
    "    assumptions=[set_1346_properSuperset_set_134])"
   ]
  },
  {
   "cell_type": "code",
   "execution_count": 179,
   "metadata": {},
   "outputs": [
    {
     "data": {
      "text/html": [
       "<span style=\"font-size:20px;\"><a class=\"ProveItLink\" href=\"../__pv_it/demonstrations/e2c5f1606d975275caba57048b6d6504d6d49f300/expr.ipynb\"><img src=\"data:image/png;base64,iVBORw0KGgoAAAANSUhEUgAAAMsAAAAVBAMAAAAa4QdfAAAAMFBMVEX///9ERETMzMxUVFSYmJgQ\n",
       "EBDc3NxmZmYiIiJ2dnaqqqoyMjKIiIi6urru7u4AAAB85a56AAAAAXRSTlMAQObYZgAAAAlwSFlz\n",
       "AAAOxAAADsQBlSsOGwAAArZJREFUSMeVVU1oE0EUflmSTXZttwFBLxIKvXiMYhFtwaIeBS16KOJh\n",
       "oYo/CLX0ohVRvBgVpFTFiD/kJHjQ5iKFQstSFSkWCRTxpI6UQkFhQ5CCsRTnf2d2p8HsYfJl9n3f\n",
       "N/PmvVkA8L5CO88F3zDZQsN+wX4/fmvLxtqFkpOtNHoKZHQ3AH4MmfTeXBLwynNlPlVMhG6qQZlb\n",
       "CXBu4GHaFNJV4cDZfVKZpgT92VSDMssypGmy+S6yk3lV+A8bkwZlSpvODZNNOeGn2qyWSqUdypRR\n",
       "gzKljWGBahbKAObdXLwZTRk1yqDabOl/K87h6btuVof75kUWDg3t5ejl4mldb9WHpIazeFBjUpts\n",
       "FSCc89bYi3OVbJ6Cz35KZmFd7KNqDwJ0HFOqkQVrGvYdGNWY78lwZgBgCsEpNn8bMgHttxOUy3gN\n",
       "DnAY5tnqWc9BQiM3IcQ4cwTvcngWg6sAf9iyxA6ydRLOu6LOwXGwyIKXZyKbZ2TQNa5HBcOYXl8F\n",
       "rFFE9tDJlpjJi0rMQ1iLnbnVZAl7UotsrtEXmsZgvFqcWd7UTbGNMOABGByNt316jUJXrdyqjBAa\n",
       "3nr8wphC3LEBKwNA/nThJNc8YlOBPtf32M6wN0HpOoT4vaOUgFuUq5Yav3EPAZJMgIciZA9sB+8v\n",
       "OZI8ON0hXmIqcG9lIaSLHcFJIghX0gGkF/ROBAkNXGaTFDCm0jfLj/AqS4Ty+PAnyN3Dkv2Tw/MU\n",
       "4U2T8iFoaeGy1p7el23RGUgN58ERxMQoU73TaAJkhbwGDY1Fc9PaZXN3PH4xSA0Gxgw2jhSfUJFb\n",
       "nOGoB1mNFlenpuGAZDIb2dS/ZC4CFeUKVY560c+At3zsSWoQwJi0o5SmluIdoKL0B5+jpQXaJbig\n",
       "Eh/ihEYgmeRCIc/Z/W19pM+bwlto2PfxXfMPGIPszdcVKhgAAAAASUVORK5CYII=\n",
       "\" style=\"display:inline;vertical-align:middle;\" /></a> <a class=\"ProveItLink\" href=\"../__pv_it/demonstrations/6266d82074441afcae7c32128b360208d4daa2b50/proof.ipynb\" style=\"text-decoration: none\">&nbsp;&#x22A2;&nbsp;&nbsp;</a><a class=\"ProveItLink\" href=\"../__pv_it/demonstrations/fe38e2286f27810236cbef429777ff9f064d16260/expr.ipynb\"><img src=\"data:image/png;base64,iVBORw0KGgoAAAANSUhEUgAAAMsAAAAVBAMAAAAa4QdfAAAAMFBMVEX///9ERETMzMxUVFSYmJgQ\n",
       "EBDc3NxmZmYiIiJ2dnaqqqoyMjKIiIi6urru7u4AAAB85a56AAAAAXRSTlMAQObYZgAAAAlwSFlz\n",
       "AAAOxAAADsQBlSsOGwAAArdJREFUSMeVVU1oE0EYfVnyt7HdBgS9SCj04rGKItqCRT0KWvRQxEOg\n",
       "ij8ItfSiFdFbtwpSqmL8QXISPGiDoIFCZamKFIsEinhSV4ogVNgQpGAsxfnb2dmdbSRz2LzMfu+9\n",
       "mW++bxaA9QXtjPPFmMkWGukn/PfD17ZsjB2uPtlKo6dAn7l14PtQnN7Liz68/FiZT/RqoRtqMOZm\n",
       "Cszr5FGNC+kqC2DuPKFMMwLw07btbepUnAZjlmRIM87mm5+d1LOCbkPHhRfKVJwGY0qbzvU4m5Lm\n",
       "F7XBShEtNRhT2qjMYFQ1P83GqKClRgmqzab+N/45PHrbzetw77yfhYNDewR6ungqovcKuoa5eCDE\n",
       "ZDYZsiDvtbXKX5wtZ/IMfComZBbW/H1U0oNAx1HF5gE0jfQNjIaY7+jj9AAw4+Ikn59EymH9dpxx\n",
       "Oa8hAAkjvLR61lehaWSnfDHBHCG7HJ4j4Arwhy/L30GmTsNFV9QFOAaDLnh5NrBhSwlrXAsKhjOt\n",
       "vjKMUZfuoZMvMZX3KzEPrxY5c6PJE/awFuiwVg1rDEarxZwTTd30t+E5IoCAI9G2T64ymFMqd7sr\n",
       "I3wNay16Ycy4wrGBHwOgf7pIkmsWtSmjL1e0+M6IN0XJOjzy3pQlYH3eEqxaavwmPQRXMoG7fsgu\n",
       "bIX1lx5JHma3RxKecHITGXgs9SMkSRSRStrvqpfNzXElOVKDlNk0A5yp9M3yPbJKm67g/qGPyN4i\n",
       "kv3Tw/MMkU3T8qFoaeESYvswpGHeOexyMcZU7zR2nLJCniOExoK56sY2YQ0OxmJsTMmaUlGud1ag\n",
       "Htdo/MdGapiQTG4jm/qXPFlHRdlCRaDd7oojWl58CGybF6GuQQFnso5SmlqKd0BFyfdFgZYWWM+T\n",
       "gtI+xJqGI5n0QqHjzL62PtLn4sJbaKRvk7vmH53/8VXKGS/hAAAAAElFTkSuQmCC\n",
       "\" style=\"display:inline;vertical-align:middle;\" /></a></span>"
      ],
      "text/plain": [
       "{{b, c, d, f, g} proper_superset {b, c, f}} |- {b, c, d, f, g} superset_eq {b, c, f}"
      ]
     },
     "metadata": {},
     "output_type": "display_data"
    }
   ],
   "source": [
    "# Notice that the relaxed relation maintains the superset\n",
    "# notation rather than reverting to the subset notation\n",
    "set_bcdfg_properSuperset_set_bcf.derive_relaxed(\n",
    "    assumptions=[set_bcdfg_properSuperset_set_bcf])"
   ]
  },
  {
   "cell_type": "markdown",
   "metadata": {},
   "source": [
    "### `proper_superset.derive_superset_membership()`"
   ]
  },
  {
   "cell_type": "code",
   "execution_count": 180,
   "metadata": {},
   "outputs": [
    {
     "data": {
      "text/html": [
       "<span style=\"font-size:20px;\"><a class=\"ProveItLink\" href=\"../__pv_it/demonstrations/34d8a1af3fd83afd4a47a27787ce7e6ae42cea870/expr.ipynb\"><img src=\"data:image/png;base64,iVBORw0KGgoAAAANSUhEUgAAADsAAAAQBAMAAABaYBp1AAAAMFBMVEX///92dnaqqqoiIiLu7u5m\n",
       "Zma6urqIiIjc3NwQEBDMzMwyMjJUVFRERESYmJgAAAAeMT9/AAAAAXRSTlMAQObYZgAAAAlwSFlz\n",
       "AAAOxAAADsQBlSsOGwAAAPVJREFUGNNjYMANusHk2/9nzuxdgEV6P4Say8DA8wtTluk/mOL4zsDA\n",
       "9hVTmvV8A4jiA+rkAyphYDE2NrYtgEtLyINt5PnAwMA9AyrGUQxzBUdBvQKI5rzAwHIY7jQWC5jZ\n",
       "DPoPQPT66+WnHyCsXAulkxjWC4Do+gYGpnkIaW4HCB3A0H8ARN8EYnmEvxkTwBT71dDzF0CMP0D8\n",
       "HuFgVoi0OwMDvwGQ5voHJM4nIAyHmc3APAFkyg+gkt8Iu3XAJBvQsdwfQKqBajK3wGW5TMBUJxDz\n",
       "AjXy3P9z5vQluKxbLDgkff9vYWC6/1sAOZBBgbpVASXcAWiRPkaPDVwVAAAAAElFTkSuQmCC\n",
       "\" style=\"display:inline;vertical-align:middle;\" /></a>, <a class=\"ProveItLink\" href=\"../__pv_it/demonstrations/04e61fc7e2bd2ea2d1eb7a36fe8458865d81df9b0/expr.ipynb\"><img src=\"data:image/png;base64,iVBORw0KGgoAAAANSUhEUgAAADMAAAAQBAMAAABJt1qBAAAAMFBMVEX////MzMwyMjKqqqoiIiJm\n",
       "ZmaYmJju7u5EREQQEBC6urqIiIh2dnZUVFTc3NwAAAAqL9KcAAAAAXRSTlMAQObYZgAAAAlwSFlz\n",
       "AAAOxAAADsQBlSsOGwAAANBJREFUGNNjYMAOHjHgBPo4ZZj/45Rivf8Amcvd4uIEY587L4Akw6Vd\n",
       "AGfzbdhvAKLu7NsAdlMBknkM9glAauUDju8grh6SCYsZ5A8wMLBPY2B1AHEVkKQCGN5fAOr9wMAC\n",
       "VMHAOMXFxcUD6qDW0PsNDAycDQz1C4Bc9gaEpmoGBn6gSfUbGPLBfAdk8xhYJgClDBguMYP8txvh\n",
       "DaDrmD4wMHBsYHZlBQkwGcCkXgIxxz+gHbcPvt0IEmC/sRwiU/FfnYG5/9MB5OA4gQgoEAAApsQx\n",
       "hqDWasMAAAAASUVORK5CYII=\n",
       "\" style=\"display:inline;vertical-align:middle;\" /></a> <a class=\"ProveItLink\" href=\"../__pv_it/demonstrations/6e02b38f54863277d8c4dfbdfc8e9b5ed4a09a990/proof.ipynb\" style=\"text-decoration: none\">&nbsp;&#x22A2;&nbsp;&nbsp;</a><a class=\"ProveItLink\" href=\"../__pv_it/demonstrations/0b0462f740169723cabcf4c07d4b544ec4bb0c3f0/expr.ipynb\"><img src=\"data:image/png;base64,iVBORw0KGgoAAAANSUhEUgAAADQAAAAPBAMAAABZ6/G2AAAAMFBMVEX////MzMwyMjKqqqoiIiJm\n",
       "ZmaYmJju7u5EREQQEBC6urqIiIh2dnZUVFTc3NwAAAAqL9KcAAAAAXRSTlMAQObYZgAAAAlwSFlz\n",
       "AAAOxAAADsQBlSsOGwAAAN1JREFUGNNjYMACMv7fvashwIAVzGBg4P2IVYbvNwMD11dkkR0uLgpg\n",
       "BhtQB9tvJJlF22Es3g8MDEzzgLrv7NsANkUdroizgYH9CtAZKx9wfAfxmR7ApeS7d19KYGBgn8bA\n",
       "6gCWQhi9/wED8zQGBtYPDCwHQHxJFyBoAEt1AvF5AZC59QtA/AqErr9AnL+BoX4DQz6YzwKXYfwG\n",
       "JO4vYKg3YLjEDHIB9waYFPc/oPQnBgaODcyurGARZZgU0wSgu4FeYb998O1GsEhtVwHEw/1/715q\n",
       "Rg26NS3QgIIAAIg/OT5t8ZRgAAAAAElFTkSuQmCC\n",
       "\" style=\"display:inline;vertical-align:middle;\" /></a></span>"
      ],
      "text/plain": [
       "{B proper_superset A, a in A} |- a in B"
      ]
     },
     "metadata": {},
     "output_type": "display_data"
    }
   ],
   "source": [
    "proper_superset(B, A).derive_superset_membership(a, assumptions=[proper_superset(B, A), InSet(a, A)])"
   ]
  },
  {
   "cell_type": "code",
   "execution_count": 181,
   "metadata": {},
   "outputs": [
    {
     "data": {
      "text/html": [
       "<span style=\"font-size:20px;\"> <a class=\"ProveItLink\" href=\"../__pv_it/demonstrations/d24700c9b68dc2088a4884ef5f35193ca9a6af5f0/proof.ipynb\" style=\"text-decoration: none\">&nbsp;&#x22A2;&nbsp;&nbsp;</a><a class=\"ProveItLink\" href=\"../__pv_it/demonstrations/4327e79b9953d46295f7ab0f43eaab9c28f147f20/expr.ipynb\"><img src=\"data:image/png;base64,iVBORw0KGgoAAAANSUhEUgAAAI8AAAAVBAMAAACNsKCFAAAAMFBMVEX///+qqqqYmJiIiIgiIiLu\n",
       "7u4QEBBUVFS6urp2dnbMzMxEREQyMjJmZmbc3NwAAADzFso2AAAAAXRSTlMAQObYZgAAAAlwSFlz\n",
       "AAAOxAAADsQBlSsOGwAAAiZJREFUOMuVlL9PFEEUx7/c3gJ7xx00FjZyfwKNGIIFMYuUbEJBYaGx\n",
       "EDtOMBKJERujJJpc4Y+K5EIhFQmFBMqzMJpoQYGxOC7ZqNEQQ/CiRwgSzjdvfuzt7W4iL7nZ7858\n",
       "7zPvzcwOEBP2Y5wm8ueSRi4+/G9IGbaPlXWBq30otw12NKjJjOr5jGF3adN4VtVz+qPrARukfsI5\n",
       "bAM5I8DkTkO9GYO9hf4+7RlTz8t/nlP7jH73gRsxIFgaZAxWHVcrqtPSoCK3AjTtYcHnt2HXrcSA\n",
       "jKH7Jno1aPldBHQbWOA1eHI+PiNjoOgvKFGKgijGeU3fJpSmDSKnS7oyX4NmhuYNKPNbtD2++V+u\n",
       "EgZJAz0vzKueL9Cgdew/AAZZpzm9niCB74UwSBq4NLVrJQMCspT/PvdX+f2VS7Em1I/3CIOqRnXK\n",
       "zpTfAsqd0Mm4R6SUnO9KUEnVC4GUAZkysnVWX6FB2QpyR7SqYu6zyIvlSQelZYshkDKgt6FBj+bm\n",
       "Du7KFEfQ9YtKpqkzJVicwUB012xORBiE6iyK0jzpmQIrh7ppPV6Q/FarbfPQmzDIodL5ILNBqFSB\n",
       "zpF9LD1/wSq/hUFPbv94synHJje9FlDXneMZpEe1gdXTGn20LruqzVmp9j5/Cg6kisXXrZ8IxxlE\n",
       "VIcXVW2gcGnqvESUg6hKAlnX9E1pNiBQE4gq7CRcnXVNDNhGDcQo+3rC/bl363R39ks61/8A6Mad\n",
       "3h0GcFcAAAAASUVORK5CYII=\n",
       "\" style=\"display:inline;vertical-align:middle;\" /></a></span>"
      ],
      "text/plain": [
       "|- 2 in {1, 2, 3, 4, 5}"
      ]
     },
     "metadata": {},
     "output_type": "display_data"
    }
   ],
   "source": [
    "proper_superset(set_12345, set_123).derive_superset_membership(two)"
   ]
  },
  {
   "cell_type": "markdown",
   "metadata": {},
   "source": [
    "### `proper_superset.apply_transitivity()`"
   ]
  },
  {
   "cell_type": "code",
   "execution_count": 182,
   "metadata": {},
   "outputs": [
    {
     "data": {
      "text/html": [
       "<strong id=\"set_12345_ProperSuperset_set_13\">set_12345_ProperSuperset_set_13:</strong> <span style=\"font-size:20px;\"> <a class=\"ProveItLink\" href=\"../__pv_it/demonstrations/5cc73714721d86f797cfb39f15b25e5cf7ee94e90/proof.ipynb\" style=\"text-decoration: none\">&nbsp;&#x22A2;&nbsp;&nbsp;</a><a class=\"ProveItLink\" href=\"../__pv_it/demonstrations/85e983f68f38bcb847b967e321009790835539840/expr.ipynb\"><img src=\"data:image/png;base64,iVBORw0KGgoAAAANSUhEUgAAALkAAAAVBAMAAADoXVL6AAAAMFBMVEX///9ERETMzMxUVFSYmJgQ\n",
       "EBDc3NxmZmYiIiJ2dnaqqqoyMjKIiIi6urru7u4AAAB85a56AAAAAXRSTlMAQObYZgAAAAlwSFlz\n",
       "AAAOxAAADsQBlSsOGwAAAnlJREFUOMuVlc9rE0EUx79J0023pluhZ0NEoR5DU7VaofkTBOtRsqJS\n",
       "BaENPUQoSEUtOdmAiD3pgiB4sZEcPEgwIAHFgwUPnpQFrxZ/gCKJJs6+mdndyUzAzmHny8v3fXbm\n",
       "5c0sAOcj9jKsx6bo7s4Q29tP/03OwXFxKKv/kGn6gyFuG++xR/KOfGXlWY6rK/cPhM5pMZdeVBll\n",
       "SqdvB/Aj8g08lWz2OvB5rSd+OA/7LwlnBdueTL4p5tu/H7Dnlk5nIef4S0EXqVuSjoykHwPO8r12\n",
       "8LUu9y3peYky0IF3gi5SDfSSjwU3EBPnMCnphxsGulOtVm+0THSRaqDPAQs5WcyiELXGkLVbr3MG\n",
       "ukg10NnYFPPELVkYV9Jn38yolXE2jHRKpVi6rtKTf8T8akZELkLSs1hmfd2OFfwgn9YUOk8l26Wi\n",
       "Sh/Lh9sTPVML6UCC7XTZi+j7iGgtDlbG47YLTaj0cqhGeTDlxujpX6wc8xHeDs6oNb8zQA9SA1uy\n",
       "7Cv0lFh6ModEh9RVSHqijvQPRmxGa08Tdzobp4tUsiXyCv0JLOrIyZ6kvy8Ufp7gK1rHyDdxMGVl\n",
       "+DQVp4tUsoU949B7a8j4gRrNB9sT/jMgZbPwfuBe7F99NNAzfpjKbUS3WTnpaF6uVK6RShVZ0zpd\n",
       "nvwdpKwVtH2lI+X9RKGHLrdRaqzfR452ZzEWODf7/S5XHyrsKqrS4sv9U1wtrV5X+n237Eb0QqlR\n",
       "5DZKjZ0mGk+hqXFfV7Gb4LmnhAy2iF6DpmzoaugtZrJlTstT3YKmvkBX/GCqoz3MZnXkdRJ9aULV\n",
       "MihnUaeHx1ezLZ3c23f1rmcIrnom2z9s79yZnL1mqgAAAABJRU5ErkJggg==\n",
       "\" style=\"display:inline;vertical-align:middle;\" /></a></span><br>"
      ],
      "text/plain": [
       "<IPython.core.display.HTML object>"
      ]
     },
     "metadata": {},
     "output_type": "display_data"
    }
   ],
   "source": [
    "set_12345_ProperSuperset_set_13 = set_12345.deduce_as_proper_superset_of(subset=Set(one, three))"
   ]
  },
  {
   "cell_type": "code",
   "execution_count": 183,
   "metadata": {},
   "outputs": [
    {
     "data": {
      "text/html": [
       "<strong id=\"set_1234567_ProperSuperset_set_12345\">set_1234567_ProperSuperset_set_12345:</strong> <span style=\"font-size:20px;\"> <a class=\"ProveItLink\" href=\"../__pv_it/demonstrations/6931b6bdb8eaacf45840416505ea8808f2eb4da70/proof.ipynb\" style=\"text-decoration: none\">&nbsp;&#x22A2;&nbsp;&nbsp;</a><a class=\"ProveItLink\" href=\"../__pv_it/demonstrations/f9a0e81246ff71ea78fa9b6fc3bb51960fbbd5a70/expr.ipynb\"><img src=\"data:image/png;base64,iVBORw0KGgoAAAANSUhEUgAAARsAAAAVBAMAAACEflfWAAAAMFBMVEX///9ERETMzMxUVFSYmJgQ\n",
       "EBDc3NxmZmYiIiJ2dnaqqqoyMjKIiIi6urru7u4AAAB85a56AAAAAXRSTlMAQObYZgAAAAlwSFlz\n",
       "AAAOxAAADsQBlSsOGwAAA2pJREFUSMellktIVFEcxr8ZdXSm8WpE0aJsqKCCFpNj78JZtE+oNkbM\n",
       "SIkZgg4SE0khPWAgyKkIk6juKmjjGO4KSwiJaKEQYRvrgkQuAisqZKa83fO8r+OQeBZzPs49/9/5\n",
       "zut/BoA2g5WWc2lF4zK5ocesfvvxv0Ni0LwDnzGsn+Auw995udwtDURGFgnvpvCYfRpjqnNwo+y+\n",
       "jdep5zk+bnjoNhMF0zRbEIj7hqBcbDe83NBQZkrNXUPB/cBs3yL/0IbwX7bUPSjoIuwqr68vPOTM\n",
       "Mexj6lY2e0GnEE8hTdrel4aHiy+IFNXceyIMUWFnD3CCimgR8yO8MSrC5BqsGsdqpvJAB5ayA0wa\n",
       "Hi4mda2k5irspAw00+NRewp1ws7WUa+dgjwrOm3lduZyudwGpR3JxfsplNRchR1rC5pjYswkF3mf\n",
       "nbXOZYi5VqfrisqOkxv5qeYq7FhlgNe118SapkVY05tGJk7ueC3PYxvcmzWXVthxcPEhqeZSO9Uj\n",
       "bjvBP7x+1SjuMkRYA7qZi1ISrSLgMIlvse0E6yG5DjuCi52JmJo7QWR70m2nxj4gujito/JrgM5Z\n",
       "M4Hz4goTJ6GiY/deQHIddmyuuFlebrc13ukxuO1kpKpijZVpR1j1b2pnATjKdytMV2H2mW3nAflh\n",
       "XIcdm0vOtYqrHdQRzBguO5V8EsEYAmwWXRBhgRFU/2CbZdnhJ6CG7s39KXu0SzSecm07govNwCZd\n",
       "yQ2TGdCEatt5ghA9inWLws67ROLXfrZc/aj4RtV6e3Xm4zIF88LyA0vU0o7gwjS4HR+XZg95szQ6\n",
       "qTyiBlFVcbJZHHYMVIWt5nqqCtbZYQH41EO+OI5yJO65WYaTS1gppjxc3JVhYWvraBI+a+V8qiqT\n",
       "Vt4R+fM7qAr1YMKgKpDXWnnWLuQ9F50/U6zpUZqFSi6OkLzDE76T68g7FbtLTaghz+iAaZaYms5a\n",
       "Tyh7MTPmIaY6ei/ztsHeGOuGdt1lR5te50iDidRokgbY3Nqs9YSyUDfXkQZpGYZPRYxyatjzQJFH\n",
       "4sZFd9MSAYoRvHby8Kkwyqm8147/CV0qQDECsyMTqjYOn/qKMsruxlOwq9iJWhGgGgF9cCbUqE2S\n",
       "arycsrvhc9L/Z7NYJkA1gnacVh0HVvxfuVOFWCY3dMe6E/8AzoJKaHTiZWkAAAAASUVORK5CYII=\n",
       "\" style=\"display:inline;vertical-align:middle;\" /></a></span><br>"
      ],
      "text/plain": [
       "<IPython.core.display.HTML object>"
      ]
     },
     "metadata": {},
     "output_type": "display_data"
    }
   ],
   "source": [
    "set_1234567_ProperSuperset_set_12345 = set_1234567.deduce_as_proper_superset_of(subset=set_12345)"
   ]
  },
  {
   "cell_type": "code",
   "execution_count": 184,
   "metadata": {},
   "outputs": [
    {
     "data": {
      "text/html": [
       "<span style=\"font-size:20px;\"> <a class=\"ProveItLink\" href=\"../__pv_it/demonstrations/55dbd44a54ccfdbb2450139bd96b1e8f9f9f7c900/proof.ipynb\" style=\"text-decoration: none\">&nbsp;&#x22A2;&nbsp;&nbsp;</a><a class=\"ProveItLink\" href=\"../__pv_it/demonstrations/6751fe8fcc3cbc1591f80e63585b19c6e134a7e30/expr.ipynb\"><img src=\"data:image/png;base64,iVBORw0KGgoAAAANSUhEUgAAAOEAAAAVBAMAAABCnpRGAAAAMFBMVEX///9ERETMzMxUVFSYmJgQ\n",
       "EBDc3NxmZmYiIiJ2dnaqqqoyMjKIiIi6urru7u4AAAB85a56AAAAAXRSTlMAQObYZgAAAAlwSFlz\n",
       "AAAOxAAADsQBlSsOGwAAAyJJREFUSMelVktrE1EU/pImk05Np4WuXLTGB9SFi9qIryrNwh9QqC41\n",
       "KbbUqtCGLiKIEvFBVjYiokXRAUFwY6IVBLVYkILiogER3agDUtxYWkVFWu14nzNzZ6Yi9ELu/Tjn\n",
       "zPnuPfeejwAw3mO142guzDpX8xm0O3x99eG/M6dg+HP3W2SKbrWCwcnJgHFjG50blum8WXi1wv2U\n",
       "QON5Z4/tYs0+Kcks4+M8rmLbdg8iHUHGiuXJi6GrrWRuoVAvksLueCY8fdD/cPQZDYvy47NiPf/r\n",
       "pkDHanVFBi4VCidMlsQ/rnnzGiOomMwGETwjPNuBAxzNmMaSrI9kdE/yFJFmBsrAIFZidPMmFzFf\n",
       "DWXMWujmV/WmBsm4acLPyK+CDpNZBaNRKpXOTIUxNh5EUzjjTqA7JdN+F6AcYIz0uGfRU8oZtRep\n",
       "EEZ6r5lQRjLGJHiXERXJScZtLzs5iD+4cUqG9UGtqnEhlLHxnLQlqqon+luALWmx2X5IxjYM8/fb\n",
       "9BBxUxj30k15zoz1fDmp5I0+p5udpnAgozLWu5cl3mrZYSTl5IeZX0DikKgiJdMWPYxrWC5tv7+q\n",
       "ZIvD5Hd4Eqon736aZcZYzsOY+MkZi4iJLtJZjT499lwsrYPWVfMxxslrM7pMRPOW4onJI24A1rHC\n",
       "HYdkjFSR+MarWkVMvKt61iXXPYqWYLi9zZs3mkKE1EGn5+Ny4TDehca7w7YE4+t0+scuvssi6hZk\n",
       "ceUZ5zuUbqFV5UuLN2/TMmNkOuS+VaaQZSQtg1p6aVUNHt/LnTohbWaogdxjD0P4OEI93pdz2/dW\n",
       "aVi8g1X1itsdt3JgEnOEiBZTB+yj/cgQ8JU7tRFMW1yJ1mJWaFKl7OuO6EUPo8wby/j6MZ2dyICq\n",
       "9JhtL6GeftNYIErOEPL2HubE4OhpcKQXOgUaMFXGuXzOZXTy4m2hFYoCsG5w3tU9BJDrDEMelXtk\n",
       "elVODfMz6o6jHESuMxStpORqGLe5cvHF0ampIHKcoYgLlzqmg2Fch1y5cLInEURT/0SzmSDjsBkI\n",
       "M5gOYXD3qv/nDIWl0EZNv+UysfwFH0MXt/4q5h4AAAAASUVORK5CYII=\n",
       "\" style=\"display:inline;vertical-align:middle;\" /></a></span>"
      ],
      "text/plain": [
       "|- {1, 2, 3, 4, 5, 6, 7} proper_superset {1, 3}"
      ]
     },
     "metadata": {},
     "output_type": "display_data"
    }
   ],
   "source": [
    "# use transitivity to go from largest set to smallest set\n",
    "# (even though using expressions, the expressions have to be true or provable)\n",
    "set_1234567_ProperSuperset_set_12345.apply_transitivity(set_12345_ProperSuperset_set_13.expr)"
   ]
  },
  {
   "cell_type": "code",
   "execution_count": 185,
   "metadata": {},
   "outputs": [
    {
     "data": {
      "text/html": [
       "<strong id=\"A_properSuperset_B\">A_properSuperset_B:</strong> <a class=\"ProveItLink\" href=\"../__pv_it/demonstrations/99a73bbf94d51cc48a696001ab61cd94dabdccab0/expr.ipynb\"><img src=\"data:image/png;base64,iVBORw0KGgoAAAANSUhEUgAAADsAAAAQBAMAAABaYBp1AAAAMFBMVEX///8QEBAiIiLu7u5ERES6\n",
       "urqYmJiIiIjMzMx2dnZUVFRmZmaqqqoyMjLc3NwAAABb1yYoAAAAAXRSTlMAQObYZgAAAAlwSFlz\n",
       "AAAOxAAADsQBlSsOGwAAAPRJREFUGNNjYACBtwx4wX0METb/X6vWekDYPP8xdTA6MDCsbwAzudc/\n",
       "wJB+X8DAEL8BzJw3H6zMSElJyR0mnQ8Uyi8AsfgK6g/ARJ9rQBnrgfgi2FBuhvMJcEONoPaIMDBY\n",
       "QZTGMPRPgEtzOECoL+VV1yAiGxjeL0C46TKYZP/HwHAQbCa79+71DgjpqWCSRYCBgfMHiGXOwMCv\n",
       "gJDeCib5geaxfYeYzcAkgJC+ACb7gQZzfQUyWIEM3g9wWR6IM+qBHugHqXwIsukfXLrJAExdBOqT\n",
       "BTJN/l9m4PH/C/UZc7QfmF7yf9WqKwdQgxkYqLp7UIUA9WQ+SWPt8M0AAAAASUVORK5CYII=\n",
       "\" style=\"display:inline;vertical-align:middle;\" /></a><br>"
      ],
      "text/plain": [
       "<IPython.core.display.HTML object>"
      ]
     },
     "metadata": {},
     "output_type": "display_data"
    },
    {
     "data": {
      "text/html": [
       "<strong id=\"B_properSuperset_C\">B_properSuperset_C:</strong> <a class=\"ProveItLink\" href=\"../__pv_it/demonstrations/8cc4d0d6e5ffac74bb695bcaf6ad45b73d3e0b550/expr.ipynb\"><img src=\"data:image/png;base64,iVBORw0KGgoAAAANSUhEUgAAAD0AAAAPBAMAAACl/tp8AAAAMFBMVEX///92dnaqqqoiIiLu7u5m\n",
       "Zma6urqIiIjc3NwQEBDMzMwyMjJUVFRERESYmJgAAAAeMT9/AAAAAXRSTlMAQObYZgAAAAlwSFlz\n",
       "AAAOxAAADsQBlSsOGwAAAPdJREFUGNNjYGB4+//Mmb0LGNABS+2ZcxwCINZcBgaeXxjylSUMTMEP\n",
       "gAyO7wwMbF/RpX2tgER8A5DgA+rl+w4SczY2Nr4Old/pACQyQSyeDwwM3DNg+tqtwBTjJxC5FERw\n",
       "XmBgOYxwnzPITIZ+AxDpBSLWXy8//QBhMdcFEClfABeob2Bgmofksi0gwr4Bzr8JUo7kfzEQMR/M\n",
       "BLmR4Q8Qv0cYxxAG1g8imEC6uP4BifMJCPkNDDCfM4JY7D+Aan4jpJkOgN0PMlAExOKeAAyHLQj5\n",
       "xWBLmYCmJoJYPPf/nDl9CRErqTcgDNc7RxPQwxwYvtZBqEIA6SY+i6BmS3sAAAAASUVORK5CYII=\n",
       "\" style=\"display:inline;vertical-align:middle;\" /></a><br>"
      ],
      "text/plain": [
       "<IPython.core.display.HTML object>"
      ]
     },
     "metadata": {},
     "output_type": "display_data"
    },
    {
     "data": {
      "text/html": [
       "<strong id=\"B_equals_D\">B_equals_D:</strong> <a class=\"ProveItLink\" href=\"../__pv_it/demonstrations/090fd499764915102913cc6c644a154647fb570e0/expr.ipynb\"><img src=\"data:image/png;base64,iVBORw0KGgoAAAANSUhEUgAAAD0AAAAOBAMAAABuognZAAAAMFBMVEX///92dnaqqqoiIiLu7u5m\n",
       "Zma6urqIiIjc3NwQEBDMzMwyMjJUVFRERESYmJgAAAAeMT9/AAAAAXRSTlMAQObYZgAAAAlwSFlz\n",
       "AAAOxAAADsQBlSsOGwAAANVJREFUGNNjYGB4+//Mmb0LGNBA7f87Z+80gJlzGRh4fqHLM/xmYOD7\n",
       "BGJwfGdgYPuKLs0FFGWIBLH4gHr5vqPLs4NMzH8AJHg+MDBwz0CX5wWKMvQLAAnOCwwshzHcx38B\n",
       "SKw/ACKul58GmcPAagwGB8Dy6wuAxHuQ/voGBqZ5GM6vB5l4PgFI3ARieQzz74OInyDiD8igAnT5\n",
       "vyCf/QN59B/MIGT7wd73BLmR/QeQ9xur92+DWNwTGBgyt6DLcwO9nxwACp37f86cvoQuDRK9GwFk\n",
       "AAARH0W/fFfRVAAAAABJRU5ErkJggg==\n",
       "\" style=\"display:inline;vertical-align:middle;\" /></a><br>"
      ],
      "text/plain": [
       "<IPython.core.display.HTML object>"
      ]
     },
     "metadata": {},
     "output_type": "display_data"
    },
    {
     "data": {
      "text/html": [
       "<strong id=\"C_properSubset_B\">C_properSubset_B:</strong> <a class=\"ProveItLink\" href=\"../__pv_it/demonstrations/eb0d95dcce37567273c35e73201be05ac3b2fcb50/expr.ipynb\"><img src=\"data:image/png;base64,iVBORw0KGgoAAAANSUhEUgAAADsAAAAPBAMAAACo4Ko7AAAAMFBMVEX///+6uroyMjLMzMwiIiJm\n",
       "ZmaqqqoQEBB2dnbc3NyYmJhUVFRERESIiIju7u4AAABBACUiAAAAAXRSTlMAQObYZgAAAAlwSFlz\n",
       "AAAOxAAADsQBlSsOGwAAAPhJREFUGNNjYGDgu7N7F2cDAyrgOv9796bDINb1ewxsIQvQpBnYDzAw\n",
       "7DdgYHjjDOTET0CXnn+BgUE+gIFB/QGQIw4Ru+Pi4uIMYa4H6lx/gYHjG4hjChYy6kTo3g/E6hMY\n",
       "5juAOI9BBJ8nkuE1DAyvgQb1X4CLcAsgZJn/3L2tBaT9EY5iQtLM+5OBIR3onXowD+Q8BmskaZ4C\n",
       "BgaOz0DdIA6bAYicjSTNvwEYNH+hPuYAC7EgSdsDDeb+CPE+Qx9YiBUp6O4DddkrAM39xcAg8QAi\n",
       "poiQVmdgYCwCCT89vRXmoTcboeoY9vzfvVsnAT2gJY7AAxUCAANHPksgSLqAAAAAAElFTkSuQmCC\n",
       "\" style=\"display:inline;vertical-align:middle;\" /></a><br>"
      ],
      "text/plain": [
       "<IPython.core.display.HTML object>"
      ]
     },
     "metadata": {},
     "output_type": "display_data"
    },
    {
     "data": {
      "text/html": [
       "<strong id=\"C_subset_eq_D\">C_subset_eq_D:</strong> <a class=\"ProveItLink\" href=\"../__pv_it/demonstrations/231d94510161d944f82d6a9a3139e5887cc55df80/expr.ipynb\"><img src=\"data:image/png;base64,iVBORw0KGgoAAAANSUhEUgAAADwAAAARBAMAAABz4NKpAAAAMFBMVEX///+6uroyMjLMzMwiIiJm\n",
       "ZmaqqqoQEBB2dnbc3NyYmJhUVFRERESIiIju7u4AAABBACUiAAAAAXRSTlMAQObYZgAAAAlwSFlz\n",
       "AAAOxAAADsQBlSsOGwAAAPhJREFUKM9jYGDgu7N7F2cDAyrgPf9n95mdINb1ewxsIQvAgndcXFyc\n",
       "IfL8CgwM6xMYGN6A+PETQEJGNxHa7S8wMLAWMDCoPwByxEEifJ5Ipt83YGBg/MXA8Q3EMQUR3AJI\n",
       "0ueBmPMHw3wHEOcxiGBCdtsfIGb+zdB/AS5ijSTL/BdIcP1g8J8AF5qN7LHPINs+MtSDeSDnMbAg\n",
       "SfN8AHmugMEfxGEzAJGsCxDS/AeAxPoFEB9zQMQUUb3NV8PAMB/ktD6I2OuND5C9zQMMOLZfDAwS\n",
       "MFGJI7BA1QcGiiuI8fT0VgEGdLDn/+49RycwUBGwurggIhQCAGZWPiqohjWHAAAAAElFTkSuQmCC\n",
       "\" style=\"display:inline;vertical-align:middle;\" /></a><br>"
      ],
      "text/plain": [
       "<IPython.core.display.HTML object>"
      ]
     },
     "metadata": {},
     "output_type": "display_data"
    }
   ],
   "source": [
    "# this process can work more generally:\n",
    "A_properSuperset_B, B_properSuperset_C, B_equals_D, C_properSubset_B, C_subset_eq_D = (\n",
    "    proper_superset(A, B), proper_superset(B, C), Equals(B, D),\n",
    "    ProperSubset(C, B), SubsetEq(C, D))"
   ]
  },
  {
   "cell_type": "code",
   "execution_count": 186,
   "metadata": {},
   "outputs": [
    {
     "data": {
      "text/html": [
       "<span style=\"font-size:20px;\"><a class=\"ProveItLink\" href=\"../__pv_it/demonstrations/8cc4d0d6e5ffac74bb695bcaf6ad45b73d3e0b550/expr.ipynb\"><img src=\"data:image/png;base64,iVBORw0KGgoAAAANSUhEUgAAAD0AAAAPBAMAAACl/tp8AAAAMFBMVEX///92dnaqqqoiIiLu7u5m\n",
       "Zma6urqIiIjc3NwQEBDMzMwyMjJUVFRERESYmJgAAAAeMT9/AAAAAXRSTlMAQObYZgAAAAlwSFlz\n",
       "AAAOxAAADsQBlSsOGwAAAPdJREFUGNNjYGB4+//Mmb0LGNABS+2ZcxwCINZcBgaeXxjylSUMTMEP\n",
       "gAyO7wwMbF/RpX2tgER8A5DgA+rl+w4SczY2Nr4Old/pACQyQSyeDwwM3DNg+tqtwBTjJxC5FERw\n",
       "XmBgOYxwnzPITIZ+AxDpBSLWXy8//QBhMdcFEClfABeob2Bgmofksi0gwr4Bzr8JUo7kfzEQMR/M\n",
       "BLmR4Q8Qv0cYxxAG1g8imEC6uP4BifMJCPkNDDCfM4JY7D+Aan4jpJkOgN0PMlAExOKeAAyHLQj5\n",
       "xWBLmYCmJoJYPPf/nDl9CRErqTcgDNc7RxPQwxwYvtZBqEIA6SY+i6BmS3sAAAAASUVORK5CYII=\n",
       "\" style=\"display:inline;vertical-align:middle;\" /></a>, <a class=\"ProveItLink\" href=\"../__pv_it/demonstrations/99a73bbf94d51cc48a696001ab61cd94dabdccab0/expr.ipynb\"><img src=\"data:image/png;base64,iVBORw0KGgoAAAANSUhEUgAAADsAAAAQBAMAAABaYBp1AAAAMFBMVEX///8QEBAiIiLu7u5ERES6\n",
       "urqYmJiIiIjMzMx2dnZUVFRmZmaqqqoyMjLc3NwAAABb1yYoAAAAAXRSTlMAQObYZgAAAAlwSFlz\n",
       "AAAOxAAADsQBlSsOGwAAAPRJREFUGNNjYACBtwx4wX0METb/X6vWekDYPP8xdTA6MDCsbwAzudc/\n",
       "wJB+X8DAEL8BzJw3H6zMSElJyR0mnQ8Uyi8AsfgK6g/ARJ9rQBnrgfgi2FBuhvMJcEONoPaIMDBY\n",
       "QZTGMPRPgEtzOECoL+VV1yAiGxjeL0C46TKYZP/HwHAQbCa79+71DgjpqWCSRYCBgfMHiGXOwMCv\n",
       "gJDeCib5geaxfYeYzcAkgJC+ACb7gQZzfQUyWIEM3g9wWR6IM+qBHugHqXwIsukfXLrJAExdBOqT\n",
       "BTJN/l9m4PH/C/UZc7QfmF7yf9WqKwdQgxkYqLp7UIUA9WQ+SWPt8M0AAAAASUVORK5CYII=\n",
       "\" style=\"display:inline;vertical-align:middle;\" /></a> <a class=\"ProveItLink\" href=\"../__pv_it/demonstrations/5a006102044d7211c3ed1fde0a16aab5774ae4130/proof.ipynb\" style=\"text-decoration: none\">&nbsp;&#x22A2;&nbsp;&nbsp;</a><a class=\"ProveItLink\" href=\"../__pv_it/demonstrations/6303438384822c701bf07b6fd77e415f2fe2301f0/expr.ipynb\"><img src=\"data:image/png;base64,iVBORw0KGgoAAAANSUhEUgAAADsAAAAQBAMAAABaYBp1AAAAMFBMVEX///8QEBAiIiLu7u5ERES6\n",
       "urqYmJiIiIjMzMx2dnZUVFRmZmaqqqoyMjLc3NwAAABb1yYoAAAAAXRSTlMAQObYZgAAAAlwSFlz\n",
       "AAAOxAAADsQBlSsOGwAAAOdJREFUGNNjYACBtwx4wX1MIeaSVcv4JoCZPP8xpQuLGXg2JYCZ3Osf\n",
       "oMuaaACJ/RDhefMbQJSRkpKSO1T6ogGQCAQz+QrqD8B0PdcAU5x/QGQ3xGyG8wlwU43ABr5XAJEW\n",
       "YJEYhv4JcGkOBxA5vwDhjA0M7xcgeJdBhD7Crezeu9c7IKSnggh5MBPkPAZzBgZ+BYT0VrBucHA0\n",
       "QMxmYBJASF9ggPmYE8RiBbqa9wNclgfsjPcgp00GsR4CMcs/uHQT2EKebwwMkSCWyf/LDDz+f6E+\n",
       "Y472gzCsvVYHoIUzMFB196AKAQAX+TUtq5yB2wAAAABJRU5ErkJggg==\n",
       "\" style=\"display:inline;vertical-align:middle;\" /></a></span>"
      ],
      "text/plain": [
       "{B proper_superset C, A proper_superset B} |- A proper_superset C"
      ]
     },
     "metadata": {},
     "output_type": "display_data"
    }
   ],
   "source": [
    "A_properSuperset_B.apply_transitivity(\n",
    "        B_properSuperset_C, assumptions=[A_properSuperset_B, B_properSuperset_C])"
   ]
  },
  {
   "cell_type": "code",
   "execution_count": 187,
   "metadata": {},
   "outputs": [
    {
     "data": {
      "text/html": [
       "<span style=\"font-size:20px;\"><a class=\"ProveItLink\" href=\"../__pv_it/demonstrations/99a73bbf94d51cc48a696001ab61cd94dabdccab0/expr.ipynb\"><img src=\"data:image/png;base64,iVBORw0KGgoAAAANSUhEUgAAADsAAAAQBAMAAABaYBp1AAAAMFBMVEX///8QEBAiIiLu7u5ERES6\n",
       "urqYmJiIiIjMzMx2dnZUVFRmZmaqqqoyMjLc3NwAAABb1yYoAAAAAXRSTlMAQObYZgAAAAlwSFlz\n",
       "AAAOxAAADsQBlSsOGwAAAPRJREFUGNNjYACBtwx4wX0METb/X6vWekDYPP8xdTA6MDCsbwAzudc/\n",
       "wJB+X8DAEL8BzJw3H6zMSElJyR0mnQ8Uyi8AsfgK6g/ARJ9rQBnrgfgi2FBuhvMJcEONoPaIMDBY\n",
       "QZTGMPRPgEtzOECoL+VV1yAiGxjeL0C46TKYZP/HwHAQbCa79+71DgjpqWCSRYCBgfMHiGXOwMCv\n",
       "gJDeCib5geaxfYeYzcAkgJC+ACb7gQZzfQUyWIEM3g9wWR6IM+qBHugHqXwIsukfXLrJAExdBOqT\n",
       "BTJN/l9m4PH/C/UZc7QfmF7yf9WqKwdQgxkYqLp7UIUA9WQ+SWPt8M0AAAAASUVORK5CYII=\n",
       "\" style=\"display:inline;vertical-align:middle;\" /></a>, <a class=\"ProveItLink\" href=\"../__pv_it/demonstrations/090fd499764915102913cc6c644a154647fb570e0/expr.ipynb\"><img src=\"data:image/png;base64,iVBORw0KGgoAAAANSUhEUgAAAD0AAAAOBAMAAABuognZAAAAMFBMVEX///92dnaqqqoiIiLu7u5m\n",
       "Zma6urqIiIjc3NwQEBDMzMwyMjJUVFRERESYmJgAAAAeMT9/AAAAAXRSTlMAQObYZgAAAAlwSFlz\n",
       "AAAOxAAADsQBlSsOGwAAANVJREFUGNNjYGB4+//Mmb0LGNBA7f87Z+80gJlzGRh4fqHLM/xmYOD7\n",
       "BGJwfGdgYPuKLs0FFGWIBLH4gHr5vqPLs4NMzH8AJHg+MDBwz0CX5wWKMvQLAAnOCwwshzHcx38B\n",
       "SKw/ACKul58GmcPAagwGB8Dy6wuAxHuQ/voGBqZ5GM6vB5l4PgFI3ARieQzz74OInyDiD8igAnT5\n",
       "vyCf/QN59B/MIGT7wd73BLmR/QeQ9xur92+DWNwTGBgyt6DLcwO9nxwACp37f86cvoQuDRK9GwFk\n",
       "AAARH0W/fFfRVAAAAABJRU5ErkJggg==\n",
       "\" style=\"display:inline;vertical-align:middle;\" /></a> <a class=\"ProveItLink\" href=\"../__pv_it/demonstrations/32d78ba569b75a59a4f8ee8e410977323af688b90/proof.ipynb\" style=\"text-decoration: none\">&nbsp;&#x22A2;&nbsp;&nbsp;</a><a class=\"ProveItLink\" href=\"../__pv_it/demonstrations/0fdee347718b09f1e0b5bcb996b1f4a93e11d5130/expr.ipynb\"><img src=\"data:image/png;base64,iVBORw0KGgoAAAANSUhEUgAAADwAAAAQBAMAAAC4vAEMAAAAMFBMVEX///8QEBAiIiLu7u5ERES6\n",
       "urqYmJiIiIjMzMx2dnZUVFRmZmaqqqoyMjLc3NwAAABb1yYoAAAAAXRSTlMAQObYZgAAAAlwSFlz\n",
       "AAAOxAAADsQBlSsOGwAAAOxJREFUGNNjYACBtwx4wX0MEXb/L6tc1kHYPP8xdfBfYGDIPwBmcq9/\n",
       "gCHdXwAUFwAz581vAFHMSkpKKgVQ6XqgEOs3EIuvoP4ATBNfUQOE4Q/i/ASbzXA+AW4osx6E/gLE\n",
       "HL9ArBiG/gkIS1vAJMd3IMEG1r2B4f0ChDSvAdhjP4AE11cQy3v3egeENGcAiGT5APIcyOXmQFoB\n",
       "Ic0NluYHachPAJvNwCSAZDjc28wiQAYrUAnvB4T0Kbi3WYABx/AQZNM/uCyHMiwWWLWBtMn/yww8\n",
       "/n9hPjPdAg7fJf9XLfFGC2lQoN4+gCIEAItROT5hvER2AAAAAElFTkSuQmCC\n",
       "\" style=\"display:inline;vertical-align:middle;\" /></a></span>"
      ],
      "text/plain": [
       "{A proper_superset B, B = D} |- A proper_superset D"
      ]
     },
     "metadata": {},
     "output_type": "display_data"
    }
   ],
   "source": [
    "A_properSuperset_B.apply_transitivity(\n",
    "        B_equals_D, assumptions=[A_properSuperset_B, B_equals_D])"
   ]
  },
  {
   "cell_type": "code",
   "execution_count": 188,
   "metadata": {},
   "outputs": [
    {
     "data": {
      "text/html": [
       "<span style=\"font-size:20px;\"><a class=\"ProveItLink\" href=\"../__pv_it/demonstrations/99a73bbf94d51cc48a696001ab61cd94dabdccab0/expr.ipynb\"><img src=\"data:image/png;base64,iVBORw0KGgoAAAANSUhEUgAAADsAAAAQBAMAAABaYBp1AAAAMFBMVEX///8QEBAiIiLu7u5ERES6\n",
       "urqYmJiIiIjMzMx2dnZUVFRmZmaqqqoyMjLc3NwAAABb1yYoAAAAAXRSTlMAQObYZgAAAAlwSFlz\n",
       "AAAOxAAADsQBlSsOGwAAAPRJREFUGNNjYACBtwx4wX0METb/X6vWekDYPP8xdTA6MDCsbwAzudc/\n",
       "wJB+X8DAEL8BzJw3H6zMSElJyR0mnQ8Uyi8AsfgK6g/ARJ9rQBnrgfgi2FBuhvMJcEONoPaIMDBY\n",
       "QZTGMPRPgEtzOECoL+VV1yAiGxjeL0C46TKYZP/HwHAQbCa79+71DgjpqWCSRYCBgfMHiGXOwMCv\n",
       "gJDeCib5geaxfYeYzcAkgJC+ACb7gQZzfQUyWIEM3g9wWR6IM+qBHugHqXwIsukfXLrJAExdBOqT\n",
       "BTJN/l9m4PH/C/UZc7QfmF7yf9WqKwdQgxkYqLp7UIUA9WQ+SWPt8M0AAAAASUVORK5CYII=\n",
       "\" style=\"display:inline;vertical-align:middle;\" /></a>, <a class=\"ProveItLink\" href=\"../__pv_it/demonstrations/4fa9be8eb96f1eeb2dee05b1dc669bb968f6792f0/expr.ipynb\"><img src=\"data:image/png;base64,iVBORw0KGgoAAAANSUhEUgAAAD0AAAAOBAMAAABuognZAAAAMFBMVEX///8iIiLu7u52dna6uroQ\n",
       "EBBmZmbMzMyqqqqYmJgyMjLc3NxUVFRERESIiIgAAACK51z6AAAAAXRSTlMAQObYZgAAAAlwSFlz\n",
       "AAAOxAAADsQBlSsOGwAAANtJREFUGNNjYGB4+//O2TsbGNAA5/0/Z05dBzN/AXk/0OUZWC8wMJwv\n",
       "ADLY/wGJVAz5/Q8YGPwTgAy+70DCfwK6/Hyg3vlANQy8H0CqDdDlzwPxUpCz+IEWMdQfQJePZWDQ\n",
       "EQcx6kGGzAfpTxQEARmwNPvfd29WglnvQY4874Cmne83A0Mr2FH3QcRXdON5AxgYmEEuZ/gLCo2f\n",
       "6PL8QAdx/oN5XxXkRhT764Fm83yBef8WRvC8B3qtfgGQwQX0vmMChvxSBgaWKAWgGcB4uJuNIX32\n",
       "/5kzaxsYGADPhUNP/6qK8QAAAABJRU5ErkJggg==\n",
       "\" style=\"display:inline;vertical-align:middle;\" /></a> <a class=\"ProveItLink\" href=\"../__pv_it/demonstrations/344558d9b3255dca4697b215d6254e9e5c525b970/proof.ipynb\" style=\"text-decoration: none\">&nbsp;&#x22A2;&nbsp;&nbsp;</a><a class=\"ProveItLink\" href=\"../__pv_it/demonstrations/0fdee347718b09f1e0b5bcb996b1f4a93e11d5130/expr.ipynb\"><img src=\"data:image/png;base64,iVBORw0KGgoAAAANSUhEUgAAADwAAAAQBAMAAAC4vAEMAAAAMFBMVEX///8QEBAiIiLu7u5ERES6\n",
       "urqYmJiIiIjMzMx2dnZUVFRmZmaqqqoyMjLc3NwAAABb1yYoAAAAAXRSTlMAQObYZgAAAAlwSFlz\n",
       "AAAOxAAADsQBlSsOGwAAAOxJREFUGNNjYACBtwx4wX0MEXb/L6tc1kHYPP8xdfBfYGDIPwBmcq9/\n",
       "gCHdXwAUFwAz581vAFHMSkpKKgVQ6XqgEOs3EIuvoP4ATBNfUQOE4Q/i/ASbzXA+AW4osx6E/gLE\n",
       "HL9ArBiG/gkIS1vAJMd3IMEG1r2B4f0ChDSvAdhjP4AE11cQy3v3egeENGcAiGT5APIcyOXmQFoB\n",
       "Ic0NluYHachPAJvNwCSAZDjc28wiQAYrUAnvB4T0Kbi3WYABx/AQZNM/uCyHMiwWWLWBtMn/yww8\n",
       "/n9hPjPdAg7fJf9XLfFGC2lQoN4+gCIEAItROT5hvER2AAAAAElFTkSuQmCC\n",
       "\" style=\"display:inline;vertical-align:middle;\" /></a></span>"
      ],
      "text/plain": [
       "{A proper_superset B, D = B} |- A proper_superset D"
      ]
     },
     "metadata": {},
     "output_type": "display_data"
    }
   ],
   "source": [
    "A_properSuperset_B.apply_transitivity(\n",
    "        D_equals_B, assumptions=[A_properSuperset_B, D_equals_B])"
   ]
  },
  {
   "cell_type": "code",
   "execution_count": 189,
   "metadata": {},
   "outputs": [
    {
     "data": {
      "text/html": [
       "<span style=\"font-size:20px;\"><a class=\"ProveItLink\" href=\"../__pv_it/demonstrations/eb0d95dcce37567273c35e73201be05ac3b2fcb50/expr.ipynb\"><img src=\"data:image/png;base64,iVBORw0KGgoAAAANSUhEUgAAADsAAAAPBAMAAACo4Ko7AAAAMFBMVEX///+6uroyMjLMzMwiIiJm\n",
       "ZmaqqqoQEBB2dnbc3NyYmJhUVFRERESIiIju7u4AAABBACUiAAAAAXRSTlMAQObYZgAAAAlwSFlz\n",
       "AAAOxAAADsQBlSsOGwAAAPhJREFUGNNjYGDgu7N7F2cDAyrgOv9796bDINb1ewxsIQvQpBnYDzAw\n",
       "7DdgYHjjDOTET0CXnn+BgUE+gIFB/QGQIw4Ru+Pi4uIMYa4H6lx/gYHjG4hjChYy6kTo3g/E6hMY\n",
       "5juAOI9BBJ8nkuE1DAyvgQb1X4CLcAsgZJn/3L2tBaT9EY5iQtLM+5OBIR3onXowD+Q8BmskaZ4C\n",
       "BgaOz0DdIA6bAYicjSTNvwEYNH+hPuYAC7EgSdsDDeb+CPE+Qx9YiBUp6O4DddkrAM39xcAg8QAi\n",
       "poiQVmdgYCwCCT89vRXmoTcboeoY9vzfvVsnAT2gJY7AAxUCAANHPksgSLqAAAAAAElFTkSuQmCC\n",
       "\" style=\"display:inline;vertical-align:middle;\" /></a>, <a class=\"ProveItLink\" href=\"../__pv_it/demonstrations/99a73bbf94d51cc48a696001ab61cd94dabdccab0/expr.ipynb\"><img src=\"data:image/png;base64,iVBORw0KGgoAAAANSUhEUgAAADsAAAAQBAMAAABaYBp1AAAAMFBMVEX///8QEBAiIiLu7u5ERES6\n",
       "urqYmJiIiIjMzMx2dnZUVFRmZmaqqqoyMjLc3NwAAABb1yYoAAAAAXRSTlMAQObYZgAAAAlwSFlz\n",
       "AAAOxAAADsQBlSsOGwAAAPRJREFUGNNjYACBtwx4wX0METb/X6vWekDYPP8xdTA6MDCsbwAzudc/\n",
       "wJB+X8DAEL8BzJw3H6zMSElJyR0mnQ8Uyi8AsfgK6g/ARJ9rQBnrgfgi2FBuhvMJcEONoPaIMDBY\n",
       "QZTGMPRPgEtzOECoL+VV1yAiGxjeL0C46TKYZP/HwHAQbCa79+71DgjpqWCSRYCBgfMHiGXOwMCv\n",
       "gJDeCib5geaxfYeYzcAkgJC+ACb7gQZzfQUyWIEM3g9wWR6IM+qBHugHqXwIsukfXLrJAExdBOqT\n",
       "BTJN/l9m4PH/C/UZc7QfmF7yf9WqKwdQgxkYqLp7UIUA9WQ+SWPt8M0AAAAASUVORK5CYII=\n",
       "\" style=\"display:inline;vertical-align:middle;\" /></a> <a class=\"ProveItLink\" href=\"../__pv_it/demonstrations/5a006102044d7211c3ed1fde0a16aab5774ae4130/proof.ipynb\" style=\"text-decoration: none\">&nbsp;&#x22A2;&nbsp;&nbsp;</a><a class=\"ProveItLink\" href=\"../__pv_it/demonstrations/6303438384822c701bf07b6fd77e415f2fe2301f0/expr.ipynb\"><img src=\"data:image/png;base64,iVBORw0KGgoAAAANSUhEUgAAADsAAAAQBAMAAABaYBp1AAAAMFBMVEX///8QEBAiIiLu7u5ERES6\n",
       "urqYmJiIiIjMzMx2dnZUVFRmZmaqqqoyMjLc3NwAAABb1yYoAAAAAXRSTlMAQObYZgAAAAlwSFlz\n",
       "AAAOxAAADsQBlSsOGwAAAOdJREFUGNNjYACBtwx4wX1MIeaSVcv4JoCZPP8xpQuLGXg2JYCZ3Osf\n",
       "oMuaaACJ/RDhefMbQJSRkpKSO1T6ogGQCAQz+QrqD8B0PdcAU5x/QGQ3xGyG8wlwU43ABr5XAJEW\n",
       "YJEYhv4JcGkOBxA5vwDhjA0M7xcgeJdBhD7Crezeu9c7IKSnggh5MBPkPAZzBgZ+BYT0VrBucHA0\n",
       "QMxmYBJASF9ggPmYE8RiBbqa9wNclgfsjPcgp00GsR4CMcs/uHQT2EKebwwMkSCWyf/LDDz+f6E+\n",
       "Y472gzCsvVYHoIUzMFB196AKAQAX+TUtq5yB2wAAAABJRU5ErkJggg==\n",
       "\" style=\"display:inline;vertical-align:middle;\" /></a></span>"
      ],
      "text/plain": [
       "{C proper_subset B, A proper_superset B} |- A proper_superset C"
      ]
     },
     "metadata": {},
     "output_type": "display_data"
    }
   ],
   "source": [
    "# Also works when the 'other' needs reversed\n",
    "A_properSuperset_B.apply_transitivity(\n",
    "        C_properSubset_B, assumptions=[A_properSuperset_B, C_properSubset_B])"
   ]
  },
  {
   "cell_type": "markdown",
   "metadata": {},
   "source": [
    "### `proper_superset.deduce_in_bool()`"
   ]
  },
  {
   "cell_type": "code",
   "execution_count": 190,
   "metadata": {},
   "outputs": [
    {
     "data": {
      "text/html": [
       "<span style=\"font-size:20px;\"> <a class=\"ProveItLink\" href=\"../__pv_it/demonstrations/96111b58b4072f95c2e769a55ad992e5d08023d30/proof.ipynb\" style=\"text-decoration: none\">&nbsp;&#x22A2;&nbsp;&nbsp;</a><a class=\"ProveItLink\" href=\"../__pv_it/demonstrations/ce53bd0692dc4c3390a8b5b4d39c8d6b235a2ac60/expr.ipynb\"><img src=\"data:image/png;base64,iVBORw0KGgoAAAANSUhEUgAAAHEAAAAVBAMAAACDNRyvAAAAMFBMVEX////MzMxUVFRERES6uroi\n",
       "IiIQEBCYmJhmZmYyMjLu7u52dnaqqqqIiIjc3NwAAACW8nlqAAAAAXRSTlMAQObYZgAAAAlwSFlz\n",
       "AAAOxAAADsQBlSsOGwAAAetJREFUOMtjYGB4wIAX8OGU4T0Apl7ikme5gCZwNXn+tCAHIOM0hD8f\n",
       "Qwu7/SclTUMGhuvoEga+fLNUGBi4JoB5PP8xbWMzYGDQF2DgXICu051hHzMDA0cBmMehj+nd90B3\n",
       "+jcwsDdg6qxhAhoM4e3bLwCiloaGhtrCVNQDheqBurOgAWIaGgnXycnAcBISgBfuH4BpeBsIZegD\n",
       "8TSgU6ZDQmruAoSdetUMDN0QxzKcL4C7ZinU4ckMDItApmyCBP4CRAitDdoAM9CHQX4DXCejAYT6\n",
       "fPcSWLYSzJ2H8KfrtK9dDAwxYE4Dw3sFRBDMgvjrHwPDMZBLjoG5E5BD6LrnAoYUsCKLDn0DhM4t\n",
       "YJI5gYGB+yOQIQ92QSow8IJhOplZNkB0rmVg4A9A6GwBk/xAV7D/BTLcQDwuA2Q7mRkMIK4Fxhhr\n",
       "AkInxGHyQJcyfQEyjoK5Aag6JzCAYo8FqIbzA1yGB+Ll+8AglgcZUgzm3kXRyXMBHOTPQL76B5cR\n",
       "hYT/NKCRmSAmJOI44RFu4M2wdwdQGQPD4v+zGHjsf0KjhcvDDkwr/1dSmgxWHQIRV/aCKLiZbA/O\n",
       "K6wCyEkSmPoie9AzKNSHLJuhqQ+WlxoYCACOAhwSdoR0PsYlsZiQTpxG813Ar5EXRzkFAMcxc5kM\n",
       "qlTrAAAAAElFTkSuQmCC\n",
       "\" style=\"display:inline;vertical-align:middle;\" /></a></span>"
      ],
      "text/plain": [
       "|- (A proper_superset B) in BOOLEAN"
      ]
     },
     "metadata": {},
     "output_type": "display_data"
    }
   ],
   "source": [
    "# proper_superset claims are Boolean values\n",
    "proper_superset(A, B).deduce_in_bool()"
   ]
  },
  {
   "cell_type": "code",
   "execution_count": 191,
   "metadata": {},
   "outputs": [
    {
     "data": {
      "text/html": [
       "<span style=\"font-size:20px;\"> <a class=\"ProveItLink\" href=\"../__pv_it/demonstrations/cfd37766bb8d223ed486e4f2f1e2dc4f8e7331c40/proof.ipynb\" style=\"text-decoration: none\">&nbsp;&#x22A2;&nbsp;&nbsp;</a><a class=\"ProveItLink\" href=\"../__pv_it/demonstrations/2c58bfa767d578181d2954984356e2666583cfe10/expr.ipynb\"><img src=\"data:image/png;base64,iVBORw0KGgoAAAANSUhEUgAAAP8AAAAVBAMAAAB7+SUdAAAAMFBMVEX///8AAAAAAAAAAAAAAAAA\n",
       "AAAAAAAAAAAAAAAAAAAAAAAAAAAAAAAAAAAAAAAAAAAv3aB7AAAAD3RSTlMAInZUiRDNmWbv3US7\n",
       "qzJazP2FAAAACXBIWXMAAA7EAAAOxAGVKw4bAAADm0lEQVRIx5VWbUhTURh+1nadc1NHRT8icQ0L\n",
       "NYoJFSREa0SapAzpj6hsFWIi0QKTCKNhEf2IviAS84ehFawMiYrqjyuIKAhLRYL8sSAKotBcShRF\n",
       "52v33Lt7b7QDd3vuPc/7nue873veewF4ATSPIoexzGvy0NqFrYr+WHpbEiBXZzgXAUUzRvq/XHx9\n",
       "Brh9WQ8rBw51jFDRG8m1TWusvBg0cfLxiubG89owr3OBln7d5CtylWdbJO/a2t6R5aIE1+lm8mJm\n",
       "20hrsMMoUe8C7YbJvOwIJR9iuwdwxg3WxQGT9d0LOQlIGybzY0YBJwsBl9F6zCybujX5jZJIJG77\n",
       "TAXo5IrJy6JYXiZuqALygM1G6zqzDOjyItXYKlNmRlkhYpMHuLR9YRmBN6eArgzBNrVa7Oagf1Jw\n",
       "QuXCfUloVuRlj/+Izr9yTbNGSWipkDuxXvAd/nNisp7drwjLImwcCQpd3eR65PXwuCmL4Qg/6CsD\n",
       "ziSXfRHj3NB9Bx9IGC/I3X3hf906WqRN+cYjNIQeoILC0+zBXlkDjzt+ks0MUVYfWbYPTr4v+wJc\n",
       "PBbDGdAUZwuQURrHOmKgqTFe3dQFpR1TD+UlBgqCFJTScGxhD6LaIix/EMZVYjxN+oFzjpLpcEZR\n",
       "zJBTraQTVAwb4/4y2jxa98t003vmQkMjcr9zSyZPmSYKZlkP66eVmxHgcQepAHwincqVRGQ0I3qM\n",
       "JdCVzCwyAOUXR7/5307Zd50MUhca2jDcaWHJRHbSHDMpSW0EPEiyFNBOFfHhvNoGuO5I5ogp88if\n",
       "43A+kyWZArXZaWhpET5lXrbJagYH9QKieCpKOBLAtN2rUAEpUg8MkB41SoGSRmG0CmG2NdjJjjRF\n",
       "uFU9BRraH1oPFPwgpQnsooyzjOfXCbD7+OEg1h6f/aYTEVIjhXFPjAFyBBwpCojK6lhMWWSlrBzW\n",
       "HcOi6/IYStpbPAcD5Ag0iGPYxQOmttnkPYRqgM8Z+RMNJRtQQNwpU0fBAHacWcNBa9n7iRQSZEtL\n",
       "ant1faa5xysFSFprDYkeBY7a3rAQcIunc+Y+N1g7MM7ehgUpXRvbZA1gDxtbcXvA0D5VmuSzRidE\n",
       "u3eLViwGe0dI66A1gOP/XkYOI59Osree2XgC0anYpnyWAGiURy9qcFNhpEk+7WKrrD5XWiA6FXtV\n",
       "wRIAUkqTcTeqC0lTgdInNmr+xUZ4tuOBXD7Jlk+auLF2YaunX31e88m/iLT29pdwXeUAAAAASUVO\n",
       "RK5CYII=\n",
       "\" style=\"display:inline;vertical-align:middle;\" /></a></span>"
      ],
      "text/plain": [
       "|- ({a, b, c, d, e} proper_superset {a, b, c}) in BOOLEAN"
      ]
     },
     "metadata": {},
     "output_type": "display_data"
    }
   ],
   "source": [
    "# superset_eq claims are Boolean values\n",
    "proper_superset(set_abcde, set_abc).deduce_in_bool()"
   ]
  },
  {
   "cell_type": "code",
   "execution_count": 192,
   "metadata": {},
   "outputs": [
    {
     "data": {
      "text/html": [
       "<span style=\"font-size:20px;\"> <a class=\"ProveItLink\" href=\"../__pv_it/demonstrations/107efb6b650490715fd82cd28f406f1cd3ee39830/proof.ipynb\" style=\"text-decoration: none\">&nbsp;&#x22A2;&nbsp;&nbsp;</a><a class=\"ProveItLink\" href=\"../__pv_it/demonstrations/f4399224985ab5f4fdc2550c69ae4c46cb26c2870/expr.ipynb\"><img src=\"data:image/png;base64,iVBORw0KGgoAAAANSUhEUgAAAQEAAAAVBAMAAAC08kb3AAAAMFBMVEX////MzMxUVFRERES6uroi\n",
       "IiIQEBCYmJhmZmYyMjLu7u52dnaqqqqIiIjc3NwAAACW8nlqAAAAAXRSTlMAQObYZgAAAAlwSFlz\n",
       "AAAOxAAADsQBlSsOGwAAA7NJREFUSMeNVl1IVEEUPu6fd+/evW5EUEQZ2kOixhbUQ1D6olEhmrFg\n",
       "P4RkYU+59GJR0ZIPakEuEhZSuZhIELJbIRViLkEPFeQGmaSsLoJQFGVRhKLZzJm5d++vNHB3vrkz\n",
       "59vvzDlz5gJABgD6ysGufc1YvV3BwI4jYzfrT5LnRszWOqfQYm4lAzuOKsPLsYaerlrqyBvyjFK+\n",
       "NQrpp/ZtDMhDLWSFc5OZclQrQNxZY/Gv605rBpTDHzasCFbJ3ZuJeZTgQdJv6eGschBG2B7fB2kR\n",
       "wGfBP6gbeSNWji9qMHJ0GxXshedOACGsEE5zBY4MeOoRTSfF+f9RkJe0EOBaMCo4Z1Zw0QHgAaMC\n",
       "zwI4/iKqLIesAjEUCh1KWSqotkoKnXAceNgy/47QYVWBF+CVSYGjBhw/uKX0R0cljwWsFAxaBUEX\n",
       "GuTwYiK47sSye7D1AsA1kwLS3HMcVIT1zojHs/8pF0/xLelMl/D54XEucWY4n4fmQfoq5/BhSn+O\n",
       "ZTNxoDYBcJPidoOCfE69oYAQ+us1zqxmHTWozDhZqMX5WJwd9tmkEGRJcAbKGJ3rIKznHLk06eFu\n",
       "Ng8qun4TdceoN40GBbUKoGdB1ia1FxdRA7ERBLY70gJ4mOSjCugPM68AvofhPeeQ0JWoNhPH98Xg\n",
       "JJkuKtcr4I7Q1kRe9t7WBJQuRQNhDtwJtjwKeYgENf07qBpsZelJakI5cmhsc07RjFYUOF0JqgDW\n",
       "7tIrOMv7VYSARPOZpgILiKmBJwhxNkGEVGPQParyBhB/MfSTdZTDRfdADGr3wAlBjAJs1ymQEvAN\n",
       "wXKMKpC0B9vLOmIQT8FltRx0oG1cOaziEuTyZF5SAkV+MGg1egVR2K07C0hEMmcC0QmMgk+biS/U\n",
       "sxBPQpGUEamCAMkJBOTklFMgLoIj+hY5SDAkYBy56H5ap0BKwSNVwUgGaAkEua6trQZRs7EeQM4R\n",
       "VYEzJdUJECeJ5Qg7IwhI/vgCFBC/XkYiyHEexOucQ8Bk8aoFNHgAhp+S+0hRUNDUGYYQke1eXl6O\n",
       "InK10ZtJo6CvJaMqEEsfzrwDN5EkFrcCAhhqnmCgd3JjaQA5/E8uKRXJjWkjFu5nHB8byvBudAe0\n",
       "RU2KmZGmKt9Kmqrga3tg5JjlF8ZjXpV5y41oCX1ggVa8mRL2wMjRavP1sIc8H5TBAJiREDUbqQZi\n",
       "yhYYOeSgjYJ7tHApu5u1zqL+sNlINfCDLTByOO0+02SyTr6StP3C+lJiZbSCgR3HlPXcP0aYHwyF\n",
       "lJ9wAAAAAElFTkSuQmCC\n",
       "\" style=\"display:inline;vertical-align:middle;\" /></a></span>"
      ],
      "text/plain": [
       "|- ({1, 2, 3} proper_superset {a, b, c, d, e}) in BOOLEAN"
      ]
     },
     "metadata": {},
     "output_type": "display_data"
    }
   ],
   "source": [
    "# superset_eq claims are Boolean values despite being False\n",
    "proper_superset(set_123, set_abcde).deduce_in_bool()"
   ]
  },
  {
   "cell_type": "markdown",
   "metadata": {},
   "source": [
    "### Testing the `SubsetEq` class methods in the superset\\_eq style\n",
    "<br/>\n",
    "<font size =3>The <span style=\"font-family=courier\">superset_eq</span> class (which is just a style variant of the `SubsetEq` class) has the following class methods:<br/>\n",
    "    <div style=\"width: 75%; border: 1px solid green; padding: 5px; margin: 20px; background-color: gainsboro; font-family:courier\">\n",
    "        <ul>\n",
    "            <li>conclude(self, **defaults_config)</li>\n",
    "            <li>conclude_via_equality(self, **defaults_config)</li>\n",
    "            <li>conclude_via_equivalence(self, **defaults_config)</li>\n",
    "            <li>unfold(self, elem_instance_var=x, **defaults_config)</li>\n",
    "            <li>derive_superset_membership(self, element, **defaults_config)</li>\n",
    "            <li>conclude_as_folded(self, elem_instance_var=x, **defaults_config)</li>\n",
    "            <li>apply_transitivity(self, other, **defaults_config)</li>\n",
    "            <li>deduce_in_bool(self, **defaults_config)</li>\n",
    "        </ul>\n",
    "    </div>\n",
    "</font>"
   ]
  },
  {
   "cell_type": "code",
   "execution_count": 193,
   "metadata": {},
   "outputs": [
    {
     "data": {
      "text/html": [
       "<strong id=\"set_134_superset_eq_set_13\">set_134_superset_eq_set_13:</strong> <a class=\"ProveItLink\" href=\"../__pv_it/demonstrations/67b7974f7b27281da88522ad842e600d742dca530/expr.ipynb\"><img src=\"data:image/png;base64,iVBORw0KGgoAAAANSUhEUgAAAJIAAAAVBAMAAABf4KrdAAAAMFBMVEX///9ERETMzMxUVFSYmJgQ\n",
       "EBDc3NxmZmYiIiJ2dnaqqqoyMjKIiIi6urru7u4AAAB85a56AAAAAXRSTlMAQObYZgAAAAlwSFlz\n",
       "AAAOxAAADsQBlSsOGwAAAcNJREFUOMuNlD9LA0EQxceA0YvJaWUlRKwsLCJXCDZeITY2Qj5AAiKi\n",
       "WJhKEATLA0HSagrzCSQoWAhiKhEskka0UQIiCgoWWkVQb2f29s/dBNziWHbe+93c7rsFAPcBeo71\n",
       "MrOYNEjZzWNvUmq6k1xMGkiW+RHzSelIH1Taqr4J0FdIgDgDypzdsN+ZS1l4gUw3sgwWqBqO1yAI\n",
       "xuQyZ0AZaVuy0Kq73xHpWpPE2DjRpLiBId22ISKlFm0SvJUZEhkYUrgNX9FXDMVIqQZDIgNLuvfl\n",
       "5CpOgjOWJAy4NtCwClPeuDwUX5CySwbpEJ+cAWUrfqxZeXYOCFK6a5B28MkZhGz5AuwClGi6gCR4\n",
       "OtckbIY3hLJUpWMWJgDydfy4JpFqbR1JTClvqEXxVIXfjiTlPG+uWJWBpiFjzRlQpo9C1IqiWZdE\n",
       "/eLs1I67d6PxZCoDyahwVAYM97yIxwcFZ3jE/Fv2tsEkWQYjT17p1IcgfEduK/whB/fxtPOfTTtP\n",
       "Bsk2mMnEHVXHcWzbGFLMECM5Slz9H8mx13SK39XmNpWEAo23ShDQXcUYSKZTrPxZ3cCzn+iJMUjZ\n",
       "6mzv23eNqyUNQvYHmdO/NbMNQRcAAAAASUVORK5CYII=\n",
       "\" style=\"display:inline;vertical-align:middle;\" /></a><br>"
      ],
      "text/plain": [
       "<IPython.core.display.HTML object>"
      ]
     },
     "metadata": {},
     "output_type": "display_data"
    },
    {
     "data": {
      "text/html": [
       "<strong id=\"set_1346_superset_eq_set_134\">set_1346_superset_eq_set_134:</strong> <a class=\"ProveItLink\" href=\"../__pv_it/demonstrations/7aa9696644e31c6be477b9686006eb55f740329c0/expr.ipynb\"><img src=\"data:image/png;base64,iVBORw0KGgoAAAANSUhEUgAAALkAAAAVBAMAAADoXVL6AAAAMFBMVEX///9ERETMzMxUVFSYmJgQ\n",
       "EBDc3NxmZmYiIiJ2dnaqqqoyMjKIiIi6urru7u4AAAB85a56AAAAAXRSTlMAQObYZgAAAAlwSFlz\n",
       "AAAOxAAADsQBlSsOGwAAAmtJREFUOMuNlb9rE2EYx79J88O7Xi5CJwdrUMFBh9LooHXI4B9QsKsa\n",
       "UBFR0OCQIQiVOtwkAREbcDgQHE1Q0cVAQDp1MCCii3Ig4qLUgjq0mPr+ft/cvfaSIXl47/188v54\n",
       "nucA+J+Q/ik8sY3+GKYC658nsOPQbHLM60dpgDsiX9l78i87DbWeIzLodCrATFLQjUz06sP9MFEG\n",
       "OMvAl9ZIDH+DuyWnrIjfa8MpMmeVxX4QBHcG4gEdUqh/E93QRFelHZ60vw39bblvaX+NzF5pZ/tb\n",
       "r2i7Qr0tbPRM1GJ/P4S0H37Of92RVollvrTYS+dQ7pmoxU5kv0TQFvbMYtyOoxY7vYeaiVrtH8UU\n",
       "ry7s+WePbsfs03WbvXQXJsqeFntjU45VxaFegrCXXyBPrmvNsDv8+lpj9uybeZgoAy7XYicjcqYt\n",
       "7Rs/UTwP3Ai1vciytrAUP5nQRClwsR+bggusRHJ1ZV9G7i+5ygWtn2byhWEMzfNQoBTINiJzykHg\n",
       "ALNchzqZHnLkpp2+XsBjXjKzpj1bQYZvW6AMyMyZ9p1I2N9Vq79P8pzha+/qqpflOWPayyNpFygD\n",
       "VM749MlZejI+n09iOsEl506S8oHuXY16LCMpkJ+jJxMplAPM7vwBr7QzNN9FzW2C1+0+fA3NTvAq\n",
       "NDqBQnM1ku+y0DfNfJ86sX0ce+h+S03SxViExs5pBGx3zflYvht2jX5oki7GAIYa1cQ+T5GI3GhM\n",
       "ZbGnANreRiJyMJn9v4C3KHvTAInou57cUuceBKJ7rqUDBdnPPf3OUdFA98Wl5NpV+e4CXDk1yXv1\n",
       "fmgZvBXuDvwDqLfcbPCgWDAAAAAASUVORK5CYII=\n",
       "\" style=\"display:inline;vertical-align:middle;\" /></a><br>"
      ],
      "text/plain": [
       "<IPython.core.display.HTML object>"
      ]
     },
     "metadata": {},
     "output_type": "display_data"
    }
   ],
   "source": [
    "# define a few proper subset relations for testing\n",
    "set_13, set_134, set_1346 = Set(one, three), Set(one, three, four), Set(one, three, four, six)\n",
    "set_134_superset_eq_set_13, set_1346_superset_eq_set_134 = (\n",
    "        superset_eq(set_134, set_13), superset_eq(set_1346, set_134))"
   ]
  },
  {
   "cell_type": "code",
   "execution_count": 194,
   "metadata": {},
   "outputs": [
    {
     "data": {
      "text/html": [
       "<strong id=\"set_bcf_superset_eq_set_bc\">set_bcf_superset_eq_set_bc:</strong> <a class=\"ProveItLink\" href=\"../__pv_it/demonstrations/65d88b05c12be7d461eebcdb4cc3aa33b786d8430/expr.ipynb\"><img src=\"data:image/png;base64,iVBORw0KGgoAAAANSUhEUgAAAI8AAAAVBAMAAACNsKCFAAAAMFBMVEX///8AAAAAAAAAAAAAAAAA\n",
       "AAAAAAAAAAAAAAAAAAAAAAAAAAAAAAAAAAAAAAAAAAAv3aB7AAAAD3RSTlMAEER2zVSJ3Zki72ar\n",
       "MruaaVGaAAAACXBIWXMAAA7EAAAOxAGVKw4bAAACL0lEQVQ4y2NgYGBUYsAFOCOxiQopYFdloojT\n",
       "IIY7DzHFmJ0EsKpi/Qh01KsCLKa0JTIwvMEUjgeaI7ccRQisig1kBksDpga2s0sZGNLBTMby8vI6\n",
       "A6g4WMgDRWk63CD+AEyDuIIewgwCh4TJBSRdX3EYpC+AaRBYDGEQA6MnQhfTRxwGpWMJonQGNIkr\n",
       "CHG2AhwG+RgfhYolW0N9sGf5CTSDWCbAdbEctoEGBpvxXqgqDgegq78IyENUTQ/geADV9xlEWCGH\n",
       "PkRvCxDLOzL+hIRcKUMfVNWsDeAkwAWJlDIYg4HzL4icjxQLHOCEyLkakgQWg8XYE0AMkKo5ThBX\n",
       "8SeA1SICkfUDOISPIExiAZtzRAHiqm9gsX4BmCrePgGwufpgDVwPEB4BhyebE8JFMWDyxkOww5kg\n",
       "CWAdA1wV3wFwMoIYLW8A1wYShyRjKOAtRCTjr1C3M36GJ3awzfwXGFczMIISJjDAFBgh6RFsZhYi\n",
       "q/ZNQMT1XwapDQwg3b+BaQqqCmQQzwa+BgZ5YPQBo4ztAogBDEAFRDoCZRGPAKREc5rhBTCqgQxg\n",
       "lOUipSPGY93AgAI5PW23IYTBEM/AgD2lgoRkMoBOLwc6iS17swByggSDQBRGDz6DIPEqgJmywSAB\n",
       "icF6wJWgQWyoQswLYJnSAInB/tABnowhYVReXgORhid2YbhBYFWcsBKBmQGJwW0BjiPG1Zgugid2\n",
       "eFKBqppxFHeZnYOlnOLsCcCiCgDUe4LdocMxcQAAAABJRU5ErkJggg==\n",
       "\" style=\"display:inline;vertical-align:middle;\" /></a><br>"
      ],
      "text/plain": [
       "<IPython.core.display.HTML object>"
      ]
     },
     "metadata": {},
     "output_type": "display_data"
    },
    {
     "data": {
      "text/html": [
       "<strong id=\"set_bcdfg_superset_eq_set_bcf\">set_bcdfg_superset_eq_set_bcf:</strong> <a class=\"ProveItLink\" href=\"../__pv_it/demonstrations/fe38e2286f27810236cbef429777ff9f064d16260/expr.ipynb\"><img src=\"data:image/png;base64,iVBORw0KGgoAAAANSUhEUgAAAMsAAAAVBAMAAAAa4QdfAAAAMFBMVEX///9ERETMzMxUVFSYmJgQ\n",
       "EBDc3NxmZmYiIiJ2dnaqqqoyMjKIiIi6urru7u4AAAB85a56AAAAAXRSTlMAQObYZgAAAAlwSFlz\n",
       "AAAOxAAADsQBlSsOGwAAArdJREFUSMeVVU1oE0EYfVnyt7HdBgS9SCj04rGKItqCRT0KWvRQxEOg\n",
       "ij8ItfSiFdFbtwpSqmL8QXISPGiDoIFCZamKFIsEinhSV4ogVNgQpGAsxfnb2dmdbSRz2LzMfu+9\n",
       "mW++bxaA9QXtjPPFmMkWGukn/PfD17ZsjB2uPtlKo6dAn7l14PtQnN7Liz68/FiZT/RqoRtqMOZm\n",
       "Cszr5FGNC+kqC2DuPKFMMwLw07btbepUnAZjlmRIM87mm5+d1LOCbkPHhRfKVJwGY0qbzvU4m5Lm\n",
       "F7XBShEtNRhT2qjMYFQ1P83GqKClRgmqzab+N/45PHrbzetw77yfhYNDewR6ungqovcKuoa5eCDE\n",
       "ZDYZsiDvtbXKX5wtZ/IMfComZBbW/H1U0oNAx1HF5gE0jfQNjIaY7+jj9AAw4+Ikn59EymH9dpxx\n",
       "Oa8hAAkjvLR61lehaWSnfDHBHCG7HJ4j4Arwhy/L30GmTsNFV9QFOAaDLnh5NrBhSwlrXAsKhjOt\n",
       "vjKMUZfuoZMvMZX3KzEPrxY5c6PJE/awFuiwVg1rDEarxZwTTd30t+E5IoCAI9G2T64ymFMqd7sr\n",
       "I3wNay16Ycy4wrGBHwOgf7pIkmsWtSmjL1e0+M6IN0XJOjzy3pQlYH3eEqxaavwmPQRXMoG7fsgu\n",
       "bIX1lx5JHma3RxKecHITGXgs9SMkSRSRStrvqpfNzXElOVKDlNk0A5yp9M3yPbJKm67g/qGPyN4i\n",
       "kv3Tw/MMkU3T8qFoaeESYvswpGHeOexyMcZU7zR2nLJCniOExoK56sY2YQ0OxmJsTMmaUlGud1ag\n",
       "Htdo/MdGapiQTG4jm/qXPFlHRdlCRaDd7oojWl58CGybF6GuQQFnso5SmlqKd0BFyfdFgZYWWM+T\n",
       "gtI+xJqGI5n0QqHjzL62PtLn4sJbaKRvk7vmH53/8VXKGS/hAAAAAElFTkSuQmCC\n",
       "\" style=\"display:inline;vertical-align:middle;\" /></a><br>"
      ],
      "text/plain": [
       "<IPython.core.display.HTML object>"
      ]
     },
     "metadata": {},
     "output_type": "display_data"
    }
   ],
   "source": [
    "# define a few proper superset relations for testing\n",
    "from proveit import g\n",
    "set_bc, set_bcf, set_bcdfg = Set(b, c), Set(b, c, f), Set(b, c, d, f, g)\n",
    "set_bcf_superset_eq_set_bc, set_bcdfg_superset_eq_set_bcf = (\n",
    "        superset_eq(set_bcf, set_bc), superset_eq(set_bcdfg, set_bcf))"
   ]
  },
  {
   "cell_type": "markdown",
   "metadata": {},
   "source": [
    "### `superset_eq.conclude()`"
   ]
  },
  {
   "cell_type": "code",
   "execution_count": 195,
   "metadata": {},
   "outputs": [
    {
     "data": {
      "text/html": [
       "<span style=\"font-size:20px;\"> <a class=\"ProveItLink\" href=\"../__pv_it/demonstrations/4c00dc13874b75293a0cd42fd44fb2616100fde20/proof.ipynb\" style=\"text-decoration: none\">&nbsp;&#x22A2;&nbsp;&nbsp;</a><a class=\"ProveItLink\" href=\"../__pv_it/demonstrations/67b7974f7b27281da88522ad842e600d742dca530/expr.ipynb\"><img src=\"data:image/png;base64,iVBORw0KGgoAAAANSUhEUgAAAJIAAAAVBAMAAABf4KrdAAAAMFBMVEX///9ERETMzMxUVFSYmJgQ\n",
       "EBDc3NxmZmYiIiJ2dnaqqqoyMjKIiIi6urru7u4AAAB85a56AAAAAXRSTlMAQObYZgAAAAlwSFlz\n",
       "AAAOxAAADsQBlSsOGwAAAcNJREFUOMuNlD9LA0EQxceA0YvJaWUlRKwsLCJXCDZeITY2Qj5AAiKi\n",
       "WJhKEATLA0HSagrzCSQoWAhiKhEskka0UQIiCgoWWkVQb2f29s/dBNziWHbe+93c7rsFAPcBeo71\n",
       "MrOYNEjZzWNvUmq6k1xMGkiW+RHzSelIH1Taqr4J0FdIgDgDypzdsN+ZS1l4gUw3sgwWqBqO1yAI\n",
       "xuQyZ0AZaVuy0Kq73xHpWpPE2DjRpLiBId22ISKlFm0SvJUZEhkYUrgNX9FXDMVIqQZDIgNLuvfl\n",
       "5CpOgjOWJAy4NtCwClPeuDwUX5CySwbpEJ+cAWUrfqxZeXYOCFK6a5B28MkZhGz5AuwClGi6gCR4\n",
       "OtckbIY3hLJUpWMWJgDydfy4JpFqbR1JTClvqEXxVIXfjiTlPG+uWJWBpiFjzRlQpo9C1IqiWZdE\n",
       "/eLs1I67d6PxZCoDyahwVAYM97yIxwcFZ3jE/Fv2tsEkWQYjT17p1IcgfEduK/whB/fxtPOfTTtP\n",
       "Bsk2mMnEHVXHcWzbGFLMECM5Slz9H8mx13SK39XmNpWEAo23ShDQXcUYSKZTrPxZ3cCzn+iJMUjZ\n",
       "6mzv23eNqyUNQvYHmdO/NbMNQRcAAAAASUVORK5CYII=\n",
       "\" style=\"display:inline;vertical-align:middle;\" /></a></span>"
      ],
      "text/plain": [
       "|- {1, 3, 4} superset_eq {1, 3}"
      ]
     },
     "metadata": {},
     "output_type": "display_data"
    }
   ],
   "source": [
    "set_134_superset_eq_set_13.conclude()"
   ]
  },
  {
   "cell_type": "code",
   "execution_count": 196,
   "metadata": {},
   "outputs": [
    {
     "data": {
      "text/html": [
       "<span style=\"font-size:20px;\"> <a class=\"ProveItLink\" href=\"../__pv_it/demonstrations/c7dd3f8df9de36e5f76bdce1195ed78fa333f21e0/proof.ipynb\" style=\"text-decoration: none\">&nbsp;&#x22A2;&nbsp;&nbsp;</a><a class=\"ProveItLink\" href=\"../__pv_it/demonstrations/65d88b05c12be7d461eebcdb4cc3aa33b786d8430/expr.ipynb\"><img src=\"data:image/png;base64,iVBORw0KGgoAAAANSUhEUgAAAI8AAAAVBAMAAACNsKCFAAAAMFBMVEX///8AAAAAAAAAAAAAAAAA\n",
       "AAAAAAAAAAAAAAAAAAAAAAAAAAAAAAAAAAAAAAAAAAAv3aB7AAAAD3RSTlMAEER2zVSJ3Zki72ar\n",
       "MruaaVGaAAAACXBIWXMAAA7EAAAOxAGVKw4bAAACL0lEQVQ4y2NgYGBUYsAFOCOxiQopYFdloojT\n",
       "IIY7DzHFmJ0EsKpi/Qh01KsCLKa0JTIwvMEUjgeaI7ccRQisig1kBksDpga2s0sZGNLBTMby8vI6\n",
       "A6g4WMgDRWk63CD+AEyDuIIewgwCh4TJBSRdX3EYpC+AaRBYDGEQA6MnQhfTRxwGpWMJonQGNIkr\n",
       "CHG2AhwG+RgfhYolW0N9sGf5CTSDWCbAdbEctoEGBpvxXqgqDgegq78IyENUTQ/geADV9xlEWCGH\n",
       "PkRvCxDLOzL+hIRcKUMfVNWsDeAkwAWJlDIYg4HzL4icjxQLHOCEyLkakgQWg8XYE0AMkKo5ThBX\n",
       "8SeA1SICkfUDOISPIExiAZtzRAHiqm9gsX4BmCrePgGwufpgDVwPEB4BhyebE8JFMWDyxkOww5kg\n",
       "CWAdA1wV3wFwMoIYLW8A1wYShyRjKOAtRCTjr1C3M36GJ3awzfwXGFczMIISJjDAFBgh6RFsZhYi\n",
       "q/ZNQMT1XwapDQwg3b+BaQqqCmQQzwa+BgZ5YPQBo4ztAogBDEAFRDoCZRGPAKREc5rhBTCqgQxg\n",
       "lOUipSPGY93AgAI5PW23IYTBEM/AgD2lgoRkMoBOLwc6iS17swByggSDQBRGDz6DIPEqgJmywSAB\n",
       "icF6wJWgQWyoQswLYJnSAInB/tABnowhYVReXgORhid2YbhBYFWcsBKBmQGJwW0BjiPG1Zgugid2\n",
       "eFKBqppxFHeZnYOlnOLsCcCiCgDUe4LdocMxcQAAAABJRU5ErkJggg==\n",
       "\" style=\"display:inline;vertical-align:middle;\" /></a></span>"
      ],
      "text/plain": [
       "|- {b, c, f} superset_eq {b, c}"
      ]
     },
     "metadata": {},
     "output_type": "display_data"
    }
   ],
   "source": [
    "set_bcf_superset_eq_set_bc.conclude()"
   ]
  },
  {
   "cell_type": "code",
   "execution_count": 197,
   "metadata": {},
   "outputs": [
    {
     "data": {
      "text/html": [
       "<span style=\"font-size:20px;\"><a class=\"ProveItLink\" href=\"../__pv_it/demonstrations/27c2109b4bcc6da83e759bd610d6c0877c3a03360/expr.ipynb\"><img src=\"data:image/png;base64,iVBORw0KGgoAAAANSUhEUgAAADAAAAAOBAMAAACbXIJpAAAAMFBMVEX////MzMwyMjKqqqoiIiJm\n",
       "ZmaYmJju7u5EREQQEBC6urqIiIh2dnZUVFTc3NwAAAAqL9KcAAAAAXRSTlMAQObYZgAAAAlwSFlz\n",
       "AAAOxAAADsQBlSsOGwAAAGlJREFUGNNjYMAGGN2xCjPUBn3HLsHATZ4E3519G7BKrHzAAdYY4gIC\n",
       "vnAJ9mkMrA7YdLB+YGA5gE2Cs4GhfgE2ifoNDPkM2OyoN2C4xPwAiw6ODcyurOhG8fwDuur2wbcb\n",
       "0cR5b366BgA/OCUwSNdLWwAAAABJRU5ErkJggg==\n",
       "\" style=\"display:inline;vertical-align:middle;\" /></a>, <a class=\"ProveItLink\" href=\"../__pv_it/demonstrations/a48af4431b8a321955379e31f3459976bc09db890/expr.ipynb\"><img src=\"data:image/png;base64,iVBORw0KGgoAAAANSUhEUgAAAC8AAAAOBAMAAABN+VgMAAAAMFBMVEX///+YmJjMzMzc3NyIiIhU\n",
       "VFR2dna6urqqqqpmZmYyMjIiIiIQEBBERETu7u4AAAD7tRWPAAAAAXRSTlMAQObYZgAAAAlwSFlz\n",
       "AAAOxAAADsQBlSsOGwAAAKNJREFUGNNj4LuzgQENMM9cqwCkuCagS9gysH0HUvwN6BLBDAxngFT9\n",
       "A3SJ8w8Y4g0YGLLRxRmiGRjigZYsdYnAkGLYz8DA9+vBe6A+htm7QWArRJzpCwMDxz8GHgd0DdwB\n",
       "DAycCxj4E9Al5oIkExjq0R3MGADxxvwHaHa0MTAbMPAr8B1E08CUwMDygIFVgBc9TKxnzpwNdG7Y\n",
       "RAxP/P//iwEAxncs4ffndSUAAAAASUVORK5CYII=\n",
       "\" style=\"display:inline;vertical-align:middle;\" /></a> <a class=\"ProveItLink\" href=\"../__pv_it/demonstrations/19b91f7fad633542fa70e942052343aa4f5de9580/proof.ipynb\" style=\"text-decoration: none\">&nbsp;&#x22A2;&nbsp;&nbsp;</a><a class=\"ProveItLink\" href=\"../__pv_it/demonstrations/1e7a7c0a9212ed82174d3c56ac5a6afb13720e2d0/expr.ipynb\"><img src=\"data:image/png;base64,iVBORw0KGgoAAAANSUhEUgAAAH4AAAAVBAMAAAByPkciAAAAMFBMVEX///9ERETMzMxUVFSYmJgQ\n",
       "EBDc3NxmZmYiIiJ2dnaqqqoyMjKIiIi6urru7u4AAAB85a56AAAAAXRSTlMAQObYZgAAAAlwSFlz\n",
       "AAAOxAAADsQBlSsOGwAAAdRJREFUOMuNlL1Lw0AYxh9brVbrddJJsJM4KqhoEeyfoKCuRkT8wKEF\n",
       "oUWROkYE21HUwUl0kargIAhdRQc3JzVQBEFBJ4d+WJO75C6XXMF3OJL3/T25j/e5ACDP8MSqBn80\n",
       "xO5fvIXAoOHXN8Laf63HPTsXSl/EgKYBn5xiYjFd27CxsPlU2nSq8wjXWM6Md13Xe+yCnXKiI+nk\n",
       "6BBx9CPAjASvXSr10WO1fs7AhCbBH5pK/2qo9aPAREyCAwWVfh9qvRk5D3wt9AtHa3by6iFu51oL\n",
       "sj5QNV8nXfoDOlpY5yx6WWdJxfjSGLaYkPVtZlNCZZd+i44W9pZAhnezpUixhVvI+pQ1lG6Enu6f\n",
       "YllgB85qonmKBVKGpG+m1jl8FMahCYpNgdTsRebxeswwaiKhP0NIk8zWz3ZsYqSK5m/e/qzBMH7+\n",
       "hM6TR8RAmJ8feerm/iFlBAsnsL4XjZFpMIw18Qf4sja6nE5n3P7d3XD5twenySSpmG/BRFPS1f/g\n",
       "cGUIbdYdytXrFZ9ZHH3prm88Bt1cABlbl/xD41yCFXr7QA0pJwr5/+nDco57jRR5obXA76+us3+B\n",
       "sOSnjHGvRcRkbwnf/MKSRQ+2FPeyK3HF/0+N/QFIdJi6nSN6BQAAAABJRU5ErkJggg==\n",
       "\" style=\"display:inline;vertical-align:middle;\" /></a></span>"
      ],
      "text/plain": [
       "{a = 1, b = 2} |- {1, 2} superset_eq {a, b}"
      ]
     },
     "metadata": {},
     "output_type": "display_data"
    }
   ],
   "source": [
    "superset_eq(Set(one, two), Set(a, b)).conclude(\n",
    "        assumptions=[Equals(a, one), Equals(b, two)])"
   ]
  },
  {
   "cell_type": "code",
   "execution_count": 198,
   "metadata": {},
   "outputs": [
    {
     "data": {
      "text/html": [
       "<span style=\"font-size:20px;\"><a class=\"ProveItLink\" href=\"../__pv_it/demonstrations/db6adddf22e63f824dbf5e4d2b05d9b6ef9ac8490/expr.ipynb\"><img src=\"data:image/png;base64,iVBORw0KGgoAAAANSUhEUgAAADEAAAAOBAMAAAB0nulXAAAAMFBMVEX////MzMwyMjKqqqoiIiJm\n",
       "ZmaYmJju7u5EREQQEBC6urqIiIh2dnZUVFTc3NwAAAAqL9KcAAAAAXRSTlMAQObYZgAAAAlwSFlz\n",
       "AAAOxAAADsQBlSsOGwAAAJpJREFUGNNjYMAC+EI1BBiwghcMPL+wy9xjYJiJXWZ+AcP9B1hlrjAw\n",
       "3AdaxHdn3wZMSX8gXvmA4zuIHeICAr4QCcbfDAzs0xhYHTC0sFxgYGD9wMByAEMmAog5GxjqF6BL\n",
       "sAG1MNRvYMhnQLfHhoHvAUO9AcMlZjTHMx5g4C5g4NjA7MqKZtiT0NAQoNtuH3y7Ed0z//9/YgAA\n",
       "2Woouym+QH8AAAAASUVORK5CYII=\n",
       "\" style=\"display:inline;vertical-align:middle;\" /></a>, <a class=\"ProveItLink\" href=\"../__pv_it/demonstrations/9dc5596bbceff0ac89ba854f6396b961a31ef1830/expr.ipynb\"><img src=\"data:image/png;base64,iVBORw0KGgoAAAANSUhEUgAAAC4AAAAOBAMAAACiOzMyAAAAMFBMVEX///+YmJjMzMzc3NyIiIhU\n",
       "VFR2dna6urqqqqpmZmYyMjIiIiIQEBBERETu7u4AAAD7tRWPAAAAAXRSTlMAQObYZgAAAAlwSFlz\n",
       "AAAOxAAADsQBlSsOGwAAAHNJREFUGNNj4LuzgQEdMO0DElwT0IWfzvoHJPkbMNSzgMTrH2AXz2bA\n",
       "Lr7UJQKbON+vB+8NgOzZu0FgK1yc4x8DjwMW9ZwLGPgTsIhzJzDUN2ARBzp//gMs5vMr8B3E5h5W\n",
       "AV6MgGD7DHRn2ER0YdaYX4EAA+UrQZYQlc0AAAAASUVORK5CYII=\n",
       "\" style=\"display:inline;vertical-align:middle;\" /></a> <a class=\"ProveItLink\" href=\"../__pv_it/demonstrations/ca301021c59bb253e2cfa9c9a809b9f7376c45570/proof.ipynb\" style=\"text-decoration: none\">&nbsp;&#x22A2;&nbsp;&nbsp;</a><a class=\"ProveItLink\" href=\"../__pv_it/demonstrations/1e7a7c0a9212ed82174d3c56ac5a6afb13720e2d0/expr.ipynb\"><img src=\"data:image/png;base64,iVBORw0KGgoAAAANSUhEUgAAAH4AAAAVBAMAAAByPkciAAAAMFBMVEX///9ERETMzMxUVFSYmJgQ\n",
       "EBDc3NxmZmYiIiJ2dnaqqqoyMjKIiIi6urru7u4AAAB85a56AAAAAXRSTlMAQObYZgAAAAlwSFlz\n",
       "AAAOxAAADsQBlSsOGwAAAdRJREFUOMuNlL1Lw0AYxh9brVbrddJJsJM4KqhoEeyfoKCuRkT8wKEF\n",
       "oUWROkYE21HUwUl0kargIAhdRQc3JzVQBEFBJ4d+WJO75C6XXMF3OJL3/T25j/e5ACDP8MSqBn80\n",
       "xO5fvIXAoOHXN8Laf63HPTsXSl/EgKYBn5xiYjFd27CxsPlU2nSq8wjXWM6Md13Xe+yCnXKiI+nk\n",
       "6BBx9CPAjASvXSr10WO1fs7AhCbBH5pK/2qo9aPAREyCAwWVfh9qvRk5D3wt9AtHa3by6iFu51oL\n",
       "sj5QNV8nXfoDOlpY5yx6WWdJxfjSGLaYkPVtZlNCZZd+i44W9pZAhnezpUixhVvI+pQ1lG6Enu6f\n",
       "YllgB85qonmKBVKGpG+m1jl8FMahCYpNgdTsRebxeswwaiKhP0NIk8zWz3ZsYqSK5m/e/qzBMH7+\n",
       "hM6TR8RAmJ8feerm/iFlBAsnsL4XjZFpMIw18Qf4sja6nE5n3P7d3XD5twenySSpmG/BRFPS1f/g\n",
       "cGUIbdYdytXrFZ9ZHH3prm88Bt1cABlbl/xD41yCFXr7QA0pJwr5/+nDco57jRR5obXA76+us3+B\n",
       "sOSnjHGvRcRkbwnf/MKSRQ+2FPeyK3HF/0+N/QFIdJi6nSN6BQAAAABJRU5ErkJggg==\n",
       "\" style=\"display:inline;vertical-align:middle;\" /></a></span>"
      ],
      "text/plain": [
       "{a = 2, b = 1} |- {1, 2} superset_eq {a, b}"
      ]
     },
     "metadata": {},
     "output_type": "display_data"
    }
   ],
   "source": [
    "# The example above works even if the set element\n",
    "# values occur in a different order\n",
    "superset_eq(Set(one, two), Set(a, b)).conclude(\n",
    "        assumptions=[Equals(a, two), Equals(b, one)])"
   ]
  },
  {
   "cell_type": "markdown",
   "metadata": {},
   "source": [
    "### `superset_eq.conclude_via_equality()`"
   ]
  },
  {
   "cell_type": "code",
   "execution_count": 199,
   "metadata": {},
   "outputs": [
    {
     "data": {
      "text/html": [
       "<span style=\"font-size:20px;\"><a class=\"ProveItLink\" href=\"../__pv_it/demonstrations/58c1f0e98efec018c8b1cf18b396263d9a5a03cd0/expr.ipynb\"><img src=\"data:image/png;base64,iVBORw0KGgoAAAANSUhEUgAAAH4AAAAVBAMAAAByPkciAAAAMFBMVEX///9ERETMzMxUVFSYmJgQ\n",
       "EBDc3NxmZmYiIiJ2dnaqqqoyMjKIiIi6urru7u4AAAB85a56AAAAAXRSTlMAQObYZgAAAAlwSFlz\n",
       "AAAOxAAADsQBlSsOGwAAAapJREFUOMuNlDtLw1AUx/99WJsabyc3wUzOCipahOYjVFBXI0V84NCC\n",
       "0IJDBZe62IyCDp1EF6m4CUJX0cEvoA2UbkKdHPqw5t68evOAnCHce+7vR07vOQ0A8glXHCnwRiD2\n",
       "9uU+iC5qXj8IS/3R5aWZS5QeJSCy4NEZ5hQzcwYTE/RV+9Q63YUwNHKucKWmClaOPUTLXwG2wvjp\n",
       "ur+/oyGrhPBbmr+/CmSlEP4V/H09asH152+Oze3Te8bMTTZ4PzrQtzm2LFdpnLM1xaa3MWd0lvS1\n",
       "rmJgezLvJ/WmJHqe91OsI6Nsd3OiybD8C3i/SB/tZ5fOsApwAauatMqwaFHj/DgbnesP96xRbANk\n",
       "aBapolU3MDZEjn+PhGIN2/jv1zEyQPzHbn9FMzD7/gl7jwpRg5Dzu3/SQ6xxC1pvWiKbMDCjib9A\n",
       "lzbioFQqB/ZvFneFAunru5gcKYz1P7bcX0KS/odqo1E/0G+/zq9LqOoFkLUTbn5YPAQNG59KaVzO\n",
       "OVDD+QKfE627Ik37gM0kHzaGbx6zZ0104I7s8Z2RbLqw/YybPcz4fP/8sX+XwI7SW1O9RgAAAABJ\n",
       "RU5ErkJggg==\n",
       "\" style=\"display:inline;vertical-align:middle;\" /></a> <a class=\"ProveItLink\" href=\"../__pv_it/demonstrations/ad94fef616e8f8f0f3f22e1889eb37a31ff43d740/proof.ipynb\" style=\"text-decoration: none\">&nbsp;&#x22A2;&nbsp;&nbsp;</a><a class=\"ProveItLink\" href=\"../__pv_it/demonstrations/1e7a7c0a9212ed82174d3c56ac5a6afb13720e2d0/expr.ipynb\"><img src=\"data:image/png;base64,iVBORw0KGgoAAAANSUhEUgAAAH4AAAAVBAMAAAByPkciAAAAMFBMVEX///9ERETMzMxUVFSYmJgQ\n",
       "EBDc3NxmZmYiIiJ2dnaqqqoyMjKIiIi6urru7u4AAAB85a56AAAAAXRSTlMAQObYZgAAAAlwSFlz\n",
       "AAAOxAAADsQBlSsOGwAAAdRJREFUOMuNlL1Lw0AYxh9brVbrddJJsJM4KqhoEeyfoKCuRkT8wKEF\n",
       "oUWROkYE21HUwUl0kargIAhdRQc3JzVQBEFBJ4d+WJO75C6XXMF3OJL3/T25j/e5ACDP8MSqBn80\n",
       "xO5fvIXAoOHXN8Laf63HPTsXSl/EgKYBn5xiYjFd27CxsPlU2nSq8wjXWM6Md13Xe+yCnXKiI+nk\n",
       "6BBx9CPAjASvXSr10WO1fs7AhCbBH5pK/2qo9aPAREyCAwWVfh9qvRk5D3wt9AtHa3by6iFu51oL\n",
       "sj5QNV8nXfoDOlpY5yx6WWdJxfjSGLaYkPVtZlNCZZd+i44W9pZAhnezpUixhVvI+pQ1lG6Enu6f\n",
       "YllgB85qonmKBVKGpG+m1jl8FMahCYpNgdTsRebxeswwaiKhP0NIk8zWz3ZsYqSK5m/e/qzBMH7+\n",
       "hM6TR8RAmJ8feerm/iFlBAsnsL4XjZFpMIw18Qf4sja6nE5n3P7d3XD5twenySSpmG/BRFPS1f/g\n",
       "cGUIbdYdytXrFZ9ZHH3prm88Bt1cABlbl/xD41yCFXr7QA0pJwr5/+nDco57jRR5obXA76+us3+B\n",
       "sOSnjHGvRcRkbwnf/MKSRQ+2FPeyK3HF/0+N/QFIdJi6nSN6BQAAAABJRU5ErkJggg==\n",
       "\" style=\"display:inline;vertical-align:middle;\" /></a></span>"
      ],
      "text/plain": [
       "{{1, 2} = {a, b}} |- {1, 2} superset_eq {a, b}"
      ]
     },
     "metadata": {},
     "output_type": "display_data"
    }
   ],
   "source": [
    "superset_eq(Set(one, two), Set(a, b)).conclude_via_equality(\n",
    "        assumptions=[Equals(Set(one, two), Set(a, b))])"
   ]
  },
  {
   "cell_type": "code",
   "execution_count": 200,
   "metadata": {},
   "outputs": [],
   "source": [
    "# superset_eq(Set(one, two), Set(c, d)).conclude_via_equality(\n",
    "#         assumptions=[Equals(c, one), Equals(d, two)],\n",
    "#         simplify_with_known_evaluations=True)"
   ]
  },
  {
   "cell_type": "code",
   "execution_count": 201,
   "metadata": {},
   "outputs": [],
   "source": [
    "# superset_eq(Set(one, two), Set(c, d)).conclude_via_equality(\n",
    "#     assumptions=[Equals(c, two), Equals(d, one)],\n",
    "#     simplify_with_known_evaluations=True)"
   ]
  },
  {
   "cell_type": "code",
   "execution_count": 202,
   "metadata": {},
   "outputs": [
    {
     "data": {
      "text/html": [
       "<span style=\"font-size:20px;\"> <a class=\"ProveItLink\" href=\"../__pv_it/demonstrations/7137cb7e16310b5a8a68ecf16a1069890294f3600/proof.ipynb\" style=\"text-decoration: none\">&nbsp;&#x22A2;&nbsp;&nbsp;</a><a class=\"ProveItLink\" href=\"../__pv_it/demonstrations/221f6fd83b27eab2a464e1a5b1da510cdf0f189c0/expr.ipynb\"><img src=\"data:image/png;base64,iVBORw0KGgoAAAANSUhEUgAAAD0AAAARBAMAAACcIrmXAAAAMFBMVEX///92dnaqqqoiIiLu7u5m\n",
       "Zma6urqIiIjc3NwQEBDMzMwyMjJUVFRERESYmJgAAAAeMT9/AAAAAXRSTlMAQObYZgAAAAlwSFlz\n",
       "AAAOxAAADsQBlSsOGwAAAQFJREFUKM9jYGB4+//Mmb0LGNAA3/0/Z07fAjPnMjDw/AIxnI2Nja/D\n",
       "FHBeYGA4D9LG8Z2Bge0rTLh9F5TRX8DAkB8AMgmol+873GDvBgj9Hqj3PVANA88HBgbuGXB5rg0Q\n",
       "+jwQ72yAWMRyGMl9OxhgrvKxAjHWXy8//QDJ5UIQY/6W1+wDs+obGJjmIcmHgUn2HwwMmmBtN4FY\n",
       "Hsl8iP28ExgYGMG+/sMAdSgEMB0AU/wHoL7i+gdybAJcfrEDmFoPNJvnG9Qirt8wWZbUGwwwVzGs\n",
       "B1nFDbQocwsDNHytg6AKdwIDdTbQKB5QPFxCjx2Gs6BIU2CgLgDFr7HxAWQhAB4TT77utgaZAAAA\n",
       "AElFTkSuQmCC\n",
       "\" style=\"display:inline;vertical-align:middle;\" /></a></span>"
      ],
      "text/plain": [
       "|- B superset_eq B"
      ]
     },
     "metadata": {},
     "output_type": "display_data"
    }
   ],
   "source": [
    "superset_eq(B, B).conclude_via_equality()"
   ]
  },
  {
   "cell_type": "code",
   "execution_count": 203,
   "metadata": {},
   "outputs": [
    {
     "data": {
      "text/html": [
       "<span style=\"font-size:20px;\"> <a class=\"ProveItLink\" href=\"../__pv_it/demonstrations/42a0b2cac3b9bf32aa5c6cd926ae28e5af24d9070/proof.ipynb\" style=\"text-decoration: none\">&nbsp;&#x22A2;&nbsp;&nbsp;</a><a class=\"ProveItLink\" href=\"../__pv_it/demonstrations/ad168f87ad495d16b8f0d9d8a3100cddc3e210780/expr.ipynb\"><img src=\"data:image/png;base64,iVBORw0KGgoAAAANSUhEUgAAAKQAAAAVBAMAAAA6DViiAAAAMFBMVEX///9ERETMzMxUVFSYmJgQ\n",
       "EBDc3NxmZmYiIiJ2dnaqqqoyMjKIiIi6urru7u4AAAB85a56AAAAAXRSTlMAQObYZgAAAAlwSFlz\n",
       "AAAOxAAADsQBlSsOGwAAAsVJREFUOMuNVU1rE0EYfpI0H5ukm2ARL6IBQZEeWkHENoEG/AFWiB8H\n",
       "wZXg58UEhQg5NOKh8WKDIhYUXBBELxoRDQiRUOlBKtKLR81K8FZJ6UEwrYkzs/OxabLgHnY27zzP\n",
       "M+88874TAPo3uD2BZ8Oiv1ZdCVcNNqx8d0Vg357BWLRuueK9h+hcuAv8OCPSKrxOyPnx08DYIO2V\n",
       "BX1nif+4VNyh9N7m4JkkHxqdrfHoeWh/FbkDLLIPvVwu32rwKA1FcjyFOJ4oG2KmrcZeHR48ApyU\n",
       "iNGukGTslYSSJGT2+Az4ZyWkaSlJSmbPOQszhkDQGSUJ/Z2SbHI7/V34fkvEIpSkJqw5CsxIM+nu\n",
       "HJIYV5Ii7CvBtyEBNYdkJPXRFPEFPmYfT5j9khFDSr75PC2ioXVuzNRSh0sGq0D7gy7S925xI09h\n",
       "L9ndskNSs5ctEg82rbbwZ4If21fDQ+yLUmcvpFldnBWLTtrjzzTl4pqpJIPsbAMZVnh+UQC3udMZ\n",
       "llyAZJqt2wv/4Yg8H+eAOxSZVJoRpphcZTuLVfg6cT6uI0RDrffw5i1KHuVlNMKTxAnotEK1usry\n",
       "KXsfIA1FyE2+1DE+6Y+jTXfxiLxovXcQ5GX0AgFmkr6FkXW7VWRz3LXHMVaWc/ZEuIKL7KPdwHHe\n",
       "i+yMNqh1FOOtIGrpVLIDX5VcGg/UZZE3ZBHFEsQ6CsNB4Atjtk0kwwa0WS55GLvIKZIflwuFm2gT\n",
       "m7Ebz3M5Z0PWTFXQvrQnx2CB+UKhxJieRng+6KjL1kNy7GWy2EKvt4kQ3WHr0/5Uor8ulaQ+dQMM\n",
       "Fur1elXG1FP3sksOSdsWadvLPv4QyW0wxdwmqcl45f8kJUxDv2RU3CRr8n5oKEhRelku86JeHoCt\n",
       "OdqBnkNAXGwSEXXcPpnBLEVDKZgjBVI59GKedv/vuW8OCV43XQlXiNY/gaPQExfqdOYAAAAASUVO\n",
       "RK5CYII=\n",
       "\" style=\"display:inline;vertical-align:middle;\" /></a></span>"
      ],
      "text/plain": [
       "|- {b, 2, d} superset_eq {b, 2, d}"
      ]
     },
     "metadata": {},
     "output_type": "display_data"
    }
   ],
   "source": [
    "superset_eq(Set(b, two, d), Set(b, two, d)).conclude_via_equality()"
   ]
  },
  {
   "cell_type": "markdown",
   "metadata": {},
   "source": [
    "### `superset_eq.conclude_via_equivalence()`"
   ]
  },
  {
   "cell_type": "code",
   "execution_count": 204,
   "metadata": {},
   "outputs": [
    {
     "data": {
      "text/html": [
       "<span style=\"font-size:20px;\"><a class=\"ProveItLink\" href=\"../__pv_it/demonstrations/874ef26eb324929868501f055cc1e68d3f93ea810/expr.ipynb\"><img src=\"data:image/png;base64,iVBORw0KGgoAAAANSUhEUgAAAH4AAAAVBAMAAAByPkciAAAAMFBMVEX///9ERETMzMxUVFSYmJgQ\n",
       "EBDc3NxmZmYiIiJ2dnaqqqoyMjKIiIi6urru7u4AAAB85a56AAAAAXRSTlMAQObYZgAAAAlwSFlz\n",
       "AAAOxAAADsQBlSsOGwAAAdRJREFUOMuNlLtLA0EQxr/kNCYaN5WdYCptFVQ0CKa0VFBbI0F8YBFB\n",
       "SMBCQRC10CsFLaxEG/HRCUIQG1Ew/4DmIKQTtNEi8bU3t3tx7zbgFMvc7O+7nbtv7gCwJ3hiIQV/\n",
       "1MXun70bwR7Lr6+HNX/b6Y6ohbLncSDQ7RzZt83XKOWE1ZppW4PAIjwrrcjdaUS+nBqP8M2ICRiU\n",
       "i5KMloys0RKV+n5gwoVvwS6BLp0+dqjXT1kYTkmYt2dctG7o9EVLrx8AhuMS5s3j8b2g0+9Br+ex\n",
       "q8LCCiqlDxZF9fIhIWpNZ6o++MkvR3322VjrJDqc27Gq9ZpysJmkqg/zpw5VKM1t2rFOuY2Vk8hB\n",
       "utmYJyx9DVW/ZC+lK8/xhK0CW243MZOw4JKl6BtodPYL3lmzsTGwL9GkieKhg9EQ1fQnCKU8w0bB\n",
       "MfaJhjfX/lXLwdz3z+gcE1ELkVHf83OMVWCcHZEhsTgbh4M5Jn4Ar7YRc9lszme29K8dx5kMq/Ir\n",
       "IxnI/PHf6Kv2Imx/Q7s/P9W6+tJd51Acm7wBNriszA/FqQJr9MI7S6nVNsz/6SNqzZ01lleGzRO1\n",
       "kXxRMTFr8j9BUU769C6GvAebTXjZ+YTm/6fHfgHQj5h4u+og7gAAAABJRU5ErkJggg==\n",
       "\" style=\"display:inline;vertical-align:middle;\" /></a> <a class=\"ProveItLink\" href=\"../__pv_it/demonstrations/2392b4a9f40a7416454e98c83930583be0648b8e0/proof.ipynb\" style=\"text-decoration: none\">&nbsp;&#x22A2;&nbsp;&nbsp;</a><a class=\"ProveItLink\" href=\"../__pv_it/demonstrations/1e7a7c0a9212ed82174d3c56ac5a6afb13720e2d0/expr.ipynb\"><img src=\"data:image/png;base64,iVBORw0KGgoAAAANSUhEUgAAAH4AAAAVBAMAAAByPkciAAAAMFBMVEX///9ERETMzMxUVFSYmJgQ\n",
       "EBDc3NxmZmYiIiJ2dnaqqqoyMjKIiIi6urru7u4AAAB85a56AAAAAXRSTlMAQObYZgAAAAlwSFlz\n",
       "AAAOxAAADsQBlSsOGwAAAdRJREFUOMuNlL1Lw0AYxh9brVbrddJJsJM4KqhoEeyfoKCuRkT8wKEF\n",
       "oUWROkYE21HUwUl0kargIAhdRQc3JzVQBEFBJ4d+WJO75C6XXMF3OJL3/T25j/e5ACDP8MSqBn80\n",
       "xO5fvIXAoOHXN8Laf63HPTsXSl/EgKYBn5xiYjFd27CxsPlU2nSq8wjXWM6Md13Xe+yCnXKiI+nk\n",
       "6BBx9CPAjASvXSr10WO1fs7AhCbBH5pK/2qo9aPAREyCAwWVfh9qvRk5D3wt9AtHa3by6iFu51oL\n",
       "sj5QNV8nXfoDOlpY5yx6WWdJxfjSGLaYkPVtZlNCZZd+i44W9pZAhnezpUixhVvI+pQ1lG6Enu6f\n",
       "YllgB85qonmKBVKGpG+m1jl8FMahCYpNgdTsRebxeswwaiKhP0NIk8zWz3ZsYqSK5m/e/qzBMH7+\n",
       "hM6TR8RAmJ8feerm/iFlBAsnsL4XjZFpMIw18Qf4sja6nE5n3P7d3XD5twenySSpmG/BRFPS1f/g\n",
       "cGUIbdYdytXrFZ9ZHH3prm88Bt1cABlbl/xD41yCFXr7QA0pJwr5/+nDco57jRR5obXA76+us3+B\n",
       "sOSnjHGvRcRkbwnf/MKSRQ+2FPeyK3HF/0+N/QFIdJi6nSN6BQAAAABJRU5ErkJggg==\n",
       "\" style=\"display:inline;vertical-align:middle;\" /></a></span>"
      ],
      "text/plain": [
       "{{1, 2} equiv {a, b}} |- {1, 2} superset_eq {a, b}"
      ]
     },
     "metadata": {},
     "output_type": "display_data"
    }
   ],
   "source": [
    "superset_eq(Set(one, two), Set(a, b)).conclude_via_equivalence(\n",
    "        assumptions=[SetEquiv(Set(one, two), Set(a, b))])"
   ]
  },
  {
   "cell_type": "code",
   "execution_count": 205,
   "metadata": {},
   "outputs": [
    {
     "data": {
      "text/html": [
       "<span style=\"font-size:20px;\"> <a class=\"ProveItLink\" href=\"../__pv_it/demonstrations/7137cb7e16310b5a8a68ecf16a1069890294f3600/proof.ipynb\" style=\"text-decoration: none\">&nbsp;&#x22A2;&nbsp;&nbsp;</a><a class=\"ProveItLink\" href=\"../__pv_it/demonstrations/221f6fd83b27eab2a464e1a5b1da510cdf0f189c0/expr.ipynb\"><img src=\"data:image/png;base64,iVBORw0KGgoAAAANSUhEUgAAAD0AAAARBAMAAACcIrmXAAAAMFBMVEX///92dnaqqqoiIiLu7u5m\n",
       "Zma6urqIiIjc3NwQEBDMzMwyMjJUVFRERESYmJgAAAAeMT9/AAAAAXRSTlMAQObYZgAAAAlwSFlz\n",
       "AAAOxAAADsQBlSsOGwAAAQFJREFUKM9jYGB4+//Mmb0LGNAA3/0/Z07fAjPnMjDw/AIxnI2Nja/D\n",
       "FHBeYGA4D9LG8Z2Bge0rTLh9F5TRX8DAkB8AMgmol+873GDvBgj9Hqj3PVANA88HBgbuGXB5rg0Q\n",
       "+jwQ72yAWMRyGMl9OxhgrvKxAjHWXy8//QDJ5UIQY/6W1+wDs+obGJjmIcmHgUn2HwwMmmBtN4FY\n",
       "Hsl8iP28ExgYGMG+/sMAdSgEMB0AU/wHoL7i+gdybAJcfrEDmFoPNJvnG9Qirt8wWZbUGwwwVzGs\n",
       "B1nFDbQocwsDNHytg6AKdwIDdTbQKB5QPFxCjx2Gs6BIU2CgLgDFr7HxAWQhAB4TT77utgaZAAAA\n",
       "AElFTkSuQmCC\n",
       "\" style=\"display:inline;vertical-align:middle;\" /></a></span>"
      ],
      "text/plain": [
       "|- B superset_eq B"
      ]
     },
     "metadata": {},
     "output_type": "display_data"
    }
   ],
   "source": [
    "superset_eq(B, B).conclude_via_equivalence()"
   ]
  },
  {
   "cell_type": "code",
   "execution_count": 206,
   "metadata": {},
   "outputs": [
    {
     "data": {
      "text/html": [
       "<span style=\"font-size:20px;\"> <a class=\"ProveItLink\" href=\"../__pv_it/demonstrations/42a0b2cac3b9bf32aa5c6cd926ae28e5af24d9070/proof.ipynb\" style=\"text-decoration: none\">&nbsp;&#x22A2;&nbsp;&nbsp;</a><a class=\"ProveItLink\" href=\"../__pv_it/demonstrations/ad168f87ad495d16b8f0d9d8a3100cddc3e210780/expr.ipynb\"><img src=\"data:image/png;base64,iVBORw0KGgoAAAANSUhEUgAAAKQAAAAVBAMAAAA6DViiAAAAMFBMVEX///9ERETMzMxUVFSYmJgQ\n",
       "EBDc3NxmZmYiIiJ2dnaqqqoyMjKIiIi6urru7u4AAAB85a56AAAAAXRSTlMAQObYZgAAAAlwSFlz\n",
       "AAAOxAAADsQBlSsOGwAAAsVJREFUOMuNVU1rE0EYfpI0H5ukm2ARL6IBQZEeWkHENoEG/AFWiB8H\n",
       "wZXg58UEhQg5NOKh8WKDIhYUXBBELxoRDQiRUOlBKtKLR81K8FZJ6UEwrYkzs/OxabLgHnY27zzP\n",
       "M+88874TAPo3uD2BZ8Oiv1ZdCVcNNqx8d0Vg357BWLRuueK9h+hcuAv8OCPSKrxOyPnx08DYIO2V\n",
       "BX1nif+4VNyh9N7m4JkkHxqdrfHoeWh/FbkDLLIPvVwu32rwKA1FcjyFOJ4oG2KmrcZeHR48ApyU\n",
       "iNGukGTslYSSJGT2+Az4ZyWkaSlJSmbPOQszhkDQGSUJ/Z2SbHI7/V34fkvEIpSkJqw5CsxIM+nu\n",
       "HJIYV5Ii7CvBtyEBNYdkJPXRFPEFPmYfT5j9khFDSr75PC2ioXVuzNRSh0sGq0D7gy7S925xI09h\n",
       "L9ndskNSs5ctEg82rbbwZ4If21fDQ+yLUmcvpFldnBWLTtrjzzTl4pqpJIPsbAMZVnh+UQC3udMZ\n",
       "llyAZJqt2wv/4Yg8H+eAOxSZVJoRpphcZTuLVfg6cT6uI0RDrffw5i1KHuVlNMKTxAnotEK1usry\n",
       "KXsfIA1FyE2+1DE+6Y+jTXfxiLxovXcQ5GX0AgFmkr6FkXW7VWRz3LXHMVaWc/ZEuIKL7KPdwHHe\n",
       "i+yMNqh1FOOtIGrpVLIDX5VcGg/UZZE3ZBHFEsQ6CsNB4Atjtk0kwwa0WS55GLvIKZIflwuFm2gT\n",
       "m7Ebz3M5Z0PWTFXQvrQnx2CB+UKhxJieRng+6KjL1kNy7GWy2EKvt4kQ3WHr0/5Uor8ulaQ+dQMM\n",
       "Fur1elXG1FP3sksOSdsWadvLPv4QyW0wxdwmqcl45f8kJUxDv2RU3CRr8n5oKEhRelku86JeHoCt\n",
       "OdqBnkNAXGwSEXXcPpnBLEVDKZgjBVI59GKedv/vuW8OCV43XQlXiNY/gaPQExfqdOYAAAAASUVO\n",
       "RK5CYII=\n",
       "\" style=\"display:inline;vertical-align:middle;\" /></a></span>"
      ],
      "text/plain": [
       "|- {b, 2, d} superset_eq {b, 2, d}"
      ]
     },
     "metadata": {},
     "output_type": "display_data"
    }
   ],
   "source": [
    "superset_eq(Set(b, two, d), Set(b, two, d)).conclude_via_equivalence()"
   ]
  },
  {
   "cell_type": "markdown",
   "metadata": {},
   "source": [
    "### `superset_eq.conclude_as_folded()`"
   ]
  },
  {
   "cell_type": "code",
   "execution_count": 207,
   "metadata": {},
   "outputs": [
    {
     "data": {
      "text/html": [
       "<span style=\"font-size:20px;\"><a class=\"ProveItLink\" href=\"../__pv_it/demonstrations/0cf2df6216fa99c7072e364be6ba4e0b270f05f50/expr.ipynb\"><img src=\"data:image/png;base64,iVBORw0KGgoAAAANSUhEUgAAAH0AAAAVBAMAAACZCfwhAAAAMFBMVEX///+IiIgiIiIQEBB2dnbu\n",
       "7u5ERETMzMzc3NwyMjK6urpmZmaYmJiqqqpUVFQAAAB6qHgnAAAAAXRSTlMAQObYZgAAAAlwSFlz\n",
       "AAAOxAAADsQBlSsOGwAAAhdJREFUOMudVDtoFFEUPZvMZmcys+tuoUiEuGwhWAiLpEq1QrCLrBjW\n",
       "Io0xOIlNEkRLzZBUNjEWgoXFGLBTXEjAoCnWUixc0EYUsiJsI5iE4A/8nftmZ3YmZEbwwbvcz7vz\n",
       "7jn3vgGSl/PfQbVSzaTofe6WKO/jTrzZ333oz0x7xkGqATwV+25Meno5JvADsH4Bd4AbtPQLMcfM\n",
       "xv7+zA7FKvASMKqAFoeyN0rGxdLxjvaN4nEDvVVYvMKIg/82bPTfrvpq3zbFrQoMJp8slYbi8te4\n",
       "zw6eH1H13QzScUAAz7egkf0nwKW4/Hvc9dQHs7iH5Pk8xasKLPK7BL0VhflpZKxz1QnS7FhfcorG\n",
       "UC+OzlFsuciWiaWquT6tg7aLfiZNdhzD9MH0EjMEWjrm+WdF7NJHHrL5gL5n8tnXvPtdN59NyHuz\n",
       "EGryV27rJyktS13PKQrrRxwZJ+gcC1xHUD/75KQVnGK0/ef4vaz4RjlFKadtNGsSyxVDVEwANfcj\n",
       "NGUUugxJ+y9LDVLTIumzMJHBQ1VtPZR/Bti8topHyjCCKTMIe0XOmRW5UVDjO/DCtu2mQuufvAKM\n",
       "F7IbnpluP/C8udnfn+110XrcAFJZx1UVbAmajrdnLjKAp/359deCryxqyyY7KbeQ8wHfbdWTfw8b\n",
       "wUMbOHUQ+pSo42uF7qBOJ6bvfbdjtu1GPbXE/L5//sD0fFL0MPAX+3NyhvQkpG4AAAAASUVORK5C\n",
       "YII=\n",
       "\" style=\"display:inline;vertical-align:middle;\" /></a> <a class=\"ProveItLink\" href=\"../__pv_it/demonstrations/977da2c66bd77b45beb7b46df97adee2b17016bc0/proof.ipynb\" style=\"text-decoration: none\">&nbsp;&#x22A2;&nbsp;&nbsp;</a><a class=\"ProveItLink\" href=\"../__pv_it/demonstrations/231d94510161d944f82d6a9a3139e5887cc55df80/expr.ipynb\"><img src=\"data:image/png;base64,iVBORw0KGgoAAAANSUhEUgAAADwAAAARBAMAAABz4NKpAAAAMFBMVEX///+6uroyMjLMzMwiIiJm\n",
       "ZmaqqqoQEBB2dnbc3NyYmJhUVFRERESIiIju7u4AAABBACUiAAAAAXRSTlMAQObYZgAAAAlwSFlz\n",
       "AAAOxAAADsQBlSsOGwAAAPhJREFUKM9jYGDgu7N7F2cDAyrgPf9n95mdINb1ewxsIQvAgndcXFyc\n",
       "IfL8CgwM6xMYGN6A+PETQEJGNxHa7S8wMLAWMDCoPwByxEEifJ5Ipt83YGBg/MXA8Q3EMQUR3AJI\n",
       "0ueBmPMHw3wHEOcxiGBCdtsfIGb+zdB/AS5ijSTL/BdIcP1g8J8AF5qN7LHPINs+MtSDeSDnMbAg\n",
       "SfN8AHmugMEfxGEzAJGsCxDS/AeAxPoFEB9zQMQUUb3NV8PAMB/ktD6I2OuND5C9zQMMOLZfDAwS\n",
       "MFGJI7BA1QcGiiuI8fT0VgEGdLDn/+49RycwUBGwurggIhQCAGZWPiqohjWHAAAAAElFTkSuQmCC\n",
       "\" style=\"display:inline;vertical-align:middle;\" /></a></span>"
      ],
      "text/plain": [
       "{forall_{x in C} (x in D)} |- C subset_eq D"
      ]
     },
     "metadata": {},
     "output_type": "display_data"
    }
   ],
   "source": [
    "SubsetEq(C, D).conclude_as_folded(\n",
    "        assumptions=[Forall(x, InSet(x, D), domain=C)])"
   ]
  },
  {
   "cell_type": "code",
   "execution_count": 208,
   "metadata": {},
   "outputs": [
    {
     "data": {
      "text/html": [
       "<span style=\"font-size:20px;\"><a class=\"ProveItLink\" href=\"../__pv_it/demonstrations/68dc400961a5a18d2ed303e74f8d3241f93dee670/expr.ipynb\"><img src=\"data:image/png;base64,iVBORw0KGgoAAAANSUhEUgAAAMoAAAAXBAMAAAC4681qAAAAMFBMVEX///+IiIgiIiIQEBB2dnbu\n",
       "7u5ERETMzMzc3NwyMjK6urpmZmaYmJiqqqpUVFQAAAB6qHgnAAAAAXRSTlMAQObYZgAAAAlwSFlz\n",
       "AAAOxAAADsQBlSsOGwAAA09JREFUSMe1Vk1oE1EQ/tJku8nmp1tqxVoNJVQET7FYFfRgvUlpWbEW\n",
       "VOiPYJQKGmwPimAikXpS46EiaiGoF8FDKoq/aAqlWEQa6kVRMAVbEKpYMLSKBee93U3e6qbkoA/e\n",
       "MjO7b755M99MApS/3Pbm/amSJy7ESx8rtdbaWh3XtJIn5Fl6p6hAjmkfygHx77A1fyRHnU1F/dQ2\n",
       "4WUlc78GeMKUq+Wg7LM372SP64JhSZBdDfTwaDjDMtdTDsqzZVAEz0r+TxRfmgHBlS0HJWzRVoZC\n",
       "yQKK6Jk7tirN8GXoSmWVJSlqd2rFu4iePem/UG4ATaHQpnJQvFR8qXpmoI2TesiSMc900EjHxZaY\n",
       "IflbVmUMlHbgIXDI4m4sIygDDwoxktmLoHqPK/HCF49pdw9Ji3pRtuK4QexdSPTAwdM8Qehw5ywc\n",
       "D0O+UlTbTaGCYnyJSW2OoxRbdbvO5o1c25PhqOwqeVSpcHNavCFKay6zeeVgJMXz/6mI8s4UnPRV\n",
       "1PTRH6LFmOn+nNLv853bXwCNxuc5xOjCXcMkxwhULQT2NGpUeUsJFBgho7Pw/jRLdyMUncubIf3U\n",
       "7VSeGpY3duoW7eQoPaof1ccdGYNL8nyQJddXPSqgsIxBWcRerhTDOMbbxcu5LM3D9003T8bZGz83\n",
       "T9FuI7444rOerB6gLwnHOgejYz377mZhWKiQ+gJh8DnjUC0cW2AFocCkJQSSb5mESUi/iMm8+uO0\n",
       "E1R8H3pl3NXnUBSVGYKCO8+I7jEbw5WDf+FAWNGJOmxBmcNRSD9I6MVUOs2l7nggb/bLfdoBVg0Q\n",
       "EycikUhW/qrBGfXm+KXI6L9sUqMB0oj6/rWudfVpAkpXKyU7RJauFSeno1xSplsbTJQNRf66MaBP\n",
       "8hyq4KSIXWkiNRKFoNdbuur2QWHC6NzVrBIbAhzFbU6GhCvpJU4b1a/QxtEBfy6QE6qPV8tMS55S\n",
       "CJI8g1jUQPGabe5d3VIL92GTYyMq+rMYqVNFlMq4LUqNKeyGIAWaJZZqL7vvoPVAR8ToSrYoZ86o\n",
       "iCLZ/z5cMgd6kXYqL0tKnwXAEZtTip5FRTuBOrErgbP2/wael/7dOPeFFdo2BzqpfBgco0kpD+P/\n",
       "LFmM7fw/cfkbbIXLkrZMeRIAAAAASUVORK5CYII=\n",
       "\" style=\"display:inline;vertical-align:middle;\" /></a> <a class=\"ProveItLink\" href=\"../__pv_it/demonstrations/27632264891acdc14a618074ca8083d27acacfbe0/proof.ipynb\" style=\"text-decoration: none\">&nbsp;&#x22A2;&nbsp;&nbsp;</a><a class=\"ProveItLink\" href=\"../__pv_it/demonstrations/9ede47b4dd31f8bcacb28c5488540de6ebe27faf0/expr.ipynb\"><img src=\"data:image/png;base64,iVBORw0KGgoAAAANSUhEUgAAAJEAAAAVBAMAAAC01xHeAAAAMFBMVEX///9ERETMzMxUVFSYmJgQ\n",
       "EBDc3NxmZmYiIiJ2dnaqqqoyMjKIiIi6urru7u4AAAB85a56AAAAAXRSTlMAQObYZgAAAAlwSFlz\n",
       "AAAOxAAADsQBlSsOGwAAAl9JREFUOMuFVEFrE0EU/rJtEnebbAqiXkQKvXhLBT20DZp/EEUPHkQW\n",
       "ahFFsIIHUcTeXBEkKNJiPeQkeLFF0YBYWSoKYg8BEU/alSIIFbYUKRgl+ObN7mQ2m8U57D7em+97\n",
       "b977ZgDYX5C6zjt9nAlA7pH8f/iazmQc8JPOJGB0n/haHcqya7YLfj6j7cmMJYgE4NvJuG+n+JiC\n",
       "ZEhDlxraFlOm+OG67l7d1YwzzauAjl7zk0xiXXiqudppTDp6Hv2ZsOEoV7GTxqSjm2lMxpJy6e44\n",
       "07PViXCg4ytR4Y9Xz/RAXiimocqbsB/Ww3fVkClPmew/fiBL/+RkwsLNpdwxoHBUY3qACBC8trel\n",
       "bwHTw8BbYU5XebBZj0V3gjeKtejjL9Wot/Y6IgAFT0WSKBHyIlU4tSzTlOqcbxM76hJ2HIZIu/6y\n",
       "y8Q5GHAN+M2u7BjKdBp7sgHjEo2N0Gt87uwwgpZsb1uebKHVlSSrlAG3UJTFlht8MnM5VDHJ6Qbr\n",
       "IPBQk7DBbY5Y2rj3+0r2beRloOawvhf9cBSlEWqQLZgamLQcYQ1uIqCGmKrj9ufdXWFs4XsVAl2D\n",
       "/Yt+96PAQDUzg4DakPGsm3m2aDZHfP223L6qSewg9tDARWpnoKPryR6/TM26Q0bl7tQKW/j4/gqS\n",
       "Egxd63NUr0uZipW52ZgyeT1B3GqmM8kJcN/48vcw1aFZo76x9R8mkwZ5GOWRiEmp2PagWYf8DS8U\n",
       "dPiquK58qxTgJzX4tP0KUl+aigsqa4HbxIqmEfUuBfC4TS15NcQ6O5H++p7rF0sAcvdI1v8AC3K+\n",
       "BFxoTjgAAAAASUVORK5CYII=\n",
       "\" style=\"display:inline;vertical-align:middle;\" /></a></span>"
      ],
      "text/plain": [
       "{forall_{x in {b, g}} (x in {b, d, g})} |- {b, d, g} superset_eq {b, g}"
      ]
     },
     "metadata": {},
     "output_type": "display_data"
    }
   ],
   "source": [
    "superset_eq(Set(b, d, g), Set(b, g)).conclude_as_folded(\n",
    "        assumptions=[Forall(x, InSet(x, Set(b, d, g)), domain=Set(b, g))])"
   ]
  },
  {
   "cell_type": "code",
   "execution_count": 209,
   "metadata": {},
   "outputs": [
    {
     "data": {
      "text/html": [
       "<span style=\"font-size:20px;\"><a class=\"ProveItLink\" href=\"../__pv_it/theorems/337a7f044b6a14048e4b1c9c190ed1e6fa6121e30/expr.ipynb\"><img src=\"data:image/png;base64,iVBORw0KGgoAAAANSUhEUgAAAHwAAAAVBAMAAAB2y5cfAAAAMFBMVEX///+IiIgiIiIQEBB2dnbu\n",
       "7u5ERETMzMzc3NwyMjK6urpmZmaYmJiqqqpUVFQAAAB6qHgnAAAAAXRSTlMAQObYZgAAAAlwSFlz\n",
       "AAAOxAAADsQBlSsOGwAAAhRJREFUOMtjYMAPGvDIcTAQAowX8EhyCTAwPAAx7uBScQWrKE/+v3cv\n",
       "0xkYZBgYdoH4M3DoZp2AXZw5gYHhfQEDZwBDHcgTCTi0cx/ALt4PdPb6DQw8G0AmMLDg8iEzCk9M\n",
       "SQnqmvMFQAw0wpSBB2gBJy6v30TmrBSFM98D8WRgpMxhYDBSUjLBpX0LEAfKhbuAXMcxFSFuxsAQ\n",
       "pw6k/RgYtjMwpKLpCoAxgKYzbGB8yK0ApDkRSYD9m6AcSIrhJANDHwPHA7TwNoexdIGR1MDzlQ8U\n",
       "gkg+ZPzBwHAZJHaZgYEtgGUBzFS5NBCT5S9MnRVQjIEbEl7FSkAAiSI2A6Ci70BGPQMDrwDc3N0F\n",
       "YGq5IZJ2YPALgNlhCNv5gc7l+QhkLAbiCQeBhOAO6QZGaCwLzENyPDCCG1hBgcGE0F4PVMj3C8i4\n",
       "BMS+wCBlbHjGeQFqPiPDTpi6RKClCx4zsICFBeDa5YGhWA/y0jEgbgY5hSGRnWENRHI5gzBMHTBi\n",
       "7pduZlgL5syFa58MzC6WAdCI5QP7GBiYJ9PS0oAxvMXlPSzmihgYogV590ASZVwWVPjZ/3fvpoHF\n",
       "tOBRacDBUAJ1O0N/AVSUqQA5QpckKaFmIQ4FKKOZZQI3MApBTKAX+GF5AJgn8AF4juKWchRl4EgH\n",
       "sewYWPfPginIwKu9DZUbkpa2AFUkDK/2DEKFFYcAvpKsgQEAEhxymmoTG7oAAAAASUVORK5CYII=\n",
       "\" style=\"display:inline;vertical-align:middle;\" /></a> <a class=\"ProveItLink\" href=\"../__pv_it/demonstrations/87af58fbfdff92a9ef50cbbfac9ba436a43af09f0/proof.ipynb\" style=\"text-decoration: none\">&nbsp;&#x22A2;&nbsp;&nbsp;</a><a class=\"ProveItLink\" href=\"../__pv_it/demonstrations/2f97b8239e5e9469dfa6dcdec35f3fc589b430b60/expr.ipynb\"><img src=\"data:image/png;base64,iVBORw0KGgoAAAANSUhEUgAAADsAAAASBAMAAAAXqLt+AAAAMFBMVEX///92dnaqqqoiIiLu7u5m\n",
       "Zma6urqIiIjc3NwQEBDMzMwyMjJUVFRERESYmJgAAAAeMT9/AAAAAXRSTlMAQObYZgAAAAlwSFlz\n",
       "AAAOxAAADsQBlSsOGwAAAPtJREFUKM9jYMANusHk2/9nzuxdgEV6P4Say8DA8wtIsxgbG9sWwGWZ\n",
       "/oMpju8MDGxfoWIc1XBzWM83gCg+oE6+7zBBlh0wloQ8WCXPBwYG7hlwM1fDzCmoVwDRnBcYWA4j\n",
       "nMbdADWbQf8BiF5/vfz0A4R7GRUgdBLDegEQXd/AwDQPIc2aAKEDGPoPgOibQCyPZDiEYr8aev4C\n",
       "iPEHiN8jvKsDodwZGPgNgDTXPyBxPgEmy2UCM5uBeQLIlB9Asd8wWbdYiMPZgI7l/gCyC6gmcwsD\n",
       "NFC3Qt3dCcS8QI089/+cOX0JPTZ8/29hYLr/W4CBagBkt7GxDbIQAEAHQAuUZ5lFAAAAAElFTkSu\n",
       "QmCC\n",
       "\" style=\"display:inline;vertical-align:middle;\" /></a></span>"
      ],
      "text/plain": [
       "{forall_{x in A} (x in B)} |- B superset_eq A"
      ]
     },
     "metadata": {},
     "output_type": "display_data"
    }
   ],
   "source": [
    "superset_eq(B, A).conclude_as_folded(\n",
    "        assumptions=[Forall(x, InSet(x, B), domain=A)])"
   ]
  },
  {
   "cell_type": "markdown",
   "metadata": {},
   "source": [
    "### `superset_eq.unfold()`"
   ]
  },
  {
   "cell_type": "code",
   "execution_count": 210,
   "metadata": {},
   "outputs": [
    {
     "data": {
      "text/html": [
       "<span style=\"font-size:20px;\"> <a class=\"ProveItLink\" href=\"../__pv_it/demonstrations/cde65c327bd29f93ef17a681dbb8ecba9c4dfc500/proof.ipynb\" style=\"text-decoration: none\">&nbsp;&#x22A2;&nbsp;&nbsp;</a><a class=\"ProveItLink\" href=\"../__pv_it/demonstrations/103f259876e0a2af8d46e23fb538a8cd697bd42c0/expr.ipynb\"><img src=\"data:image/png;base64,iVBORw0KGgoAAAANSUhEUgAAAO0AAAAXBAMAAAAVatXDAAAAMFBMVEX///+IiIgiIiIQEBB2dnbu\n",
       "7u5ERETMzMzc3NwyMjK6urpmZmaYmJiqqqpUVFQAAAB6qHgnAAAAAXRSTlMAQObYZgAAAAlwSFlz\n",
       "AAAOxAAADsQBlSsOGwAAA5ZJREFUSMe1ll1IFFEUgM+sO87s7sy6GoYVmCz0KEjkS5Rp7VskE4o9\n",
       "BP5EbdFDrmlEL7FkEBHY+iBFKG2WD0WSUFn+PBj0kPTDEAUGgRtCEdTmQ0vZ/zl35s7M6qy5UBdm\n",
       "5ty/+c6555x7L0D+Je7aKt5YwVR5JvcP/lYE3bV5zdBKJp88gK8r+KSo9jof7gvXVjWDL2kDtysy\n",
       "muQ90ogpRCIxgCOk+RTAOLVczAMrJlybvRUAzWMZs7YX1J+8x5MyvmeTQRyzncQ+NJy0a82DG5jK\n",
       "yQWBc9fr4gLvKTG5vVDYanIfA/g0nKPnwS3Iqq0OhxMu3KtJ4FxpOmU7wuQWaKCg+r583PvKWble\n",
       "6m4vYn7wDp/BLayyuT6EbgyHN+XDvYPP7vI9EVojuQ9ycQe5O8pMbsGFunHO9WLTPYADWT9+6OLA\n",
       "rruW2I/PiPAmQByfnYmBRBa3Ix0zI3vK5Bb1QwHquopkBQf3gJxyIiRcD3GaTXlabkzGUfVWfyVO\n",
       "iyuZIGnncFD31KJ1NuPZCya3ZR4C1QDnaZ1UZBRqXp5qUnk0CSpSOkqoGqwVmE+EeadXN+M4wzqA\n",
       "zjAWlgw9lyCbC9s09nlkcStA+YYmvUewhH9UQ5bWE2QeceE5UyPGnAbDi7norBCTm+xVGtWc3OMA\n",
       "7SxJ5BDnFiVAwVjzkoJ+sifxAF/F99fFBeZYm4spTy1iaRa3kl634iJxPLZ5hSkn97dmcv3p9Kea\n",
       "WjbAsHeW5qlkzy4MSiH+1qcb2is2V+hlbxG5gxagDc1MzqHfqCu0NJ5FqtXQOotmwqdYm4r+RTN3\n",
       "MAb5phs1VaBNgpts2ImYbW8T/XeGuD4rUTHCZo/dhmFWGcjmer+iH0nvJ5S/LUYQFLUa0n5o0M08\n",
       "CtAKBFnQ4ozpaDSqS2nN5kpfKBGIq/ZywFHcfYvVSWOLaz6sObjBuYUP4KGzwT+B5wKTIND+K8Qk\n",
       "78Q7nr8e+9CokqHLWNwU5zbEZAwEKbLzsw7dlmGemDPrru1z7pOsvITlJMY9ZWWfNxHAjHLGVSN4\n",
       "NKVaxBWRM864UkZynwus1MJyEuNOWrvN2rpSkA9y7unLddCpS3XlcWkrwLPvunNXPuR+G6ji56QV\n",
       "a24SjLmcf41Rc99gxfCguuQ0aHK/wfDzVrBVcZHELZRSbhcdv7lgfiNihpZw5ZAr+NzHldyv6sma\n",
       "Mtc+M3IV42McEtIA/PciudwCzvxryB9gWOtzMqvR+AAAAABJRU5ErkJggg==\n",
       "\" style=\"display:inline;vertical-align:middle;\" /></a></span>"
      ],
      "text/plain": [
       "|- forall_{x in {1, 3, 4}} (x in {1, 3, 4, 6})"
      ]
     },
     "metadata": {},
     "output_type": "display_data"
    }
   ],
   "source": [
    "superset_eq(set_1346, set_134).unfold()"
   ]
  },
  {
   "cell_type": "code",
   "execution_count": 211,
   "metadata": {},
   "outputs": [
    {
     "data": {
      "text/html": [
       "<span style=\"font-size:20px;\"> <a class=\"ProveItLink\" href=\"../__pv_it/demonstrations/b98820fd69a8511dd0c3c133d97e6962f2a9ab700/proof.ipynb\" style=\"text-decoration: none\">&nbsp;&#x22A2;&nbsp;&nbsp;</a><a class=\"ProveItLink\" href=\"../__pv_it/demonstrations/11a8933c273b3a352d1c7d602a37a5f5b954f7720/expr.ipynb\"><img src=\"data:image/png;base64,iVBORw0KGgoAAAANSUhEUgAAAOsAAAAXBAMAAAAYdKWEAAAAMFBMVEX///+IiIgiIiIQEBB2dnbu\n",
       "7u5ERETMzMzc3NwyMjK6urpmZmaYmJiqqqpUVFQAAAB6qHgnAAAAAXRSTlMAQObYZgAAAAlwSFlz\n",
       "AAAOxAAADsQBlSsOGwAAA5FJREFUSMe1ll1oE0EQx/+X5HL5bqpVRLFIUHxs/UCLKKa+CSrnJ6hQ\n",
       "vzBCEY20D4qg0Yo+WeNDiwjVKvogCsaCnxGNoKJIMRQFRcGqtShUax/EtlDq7N7tXe5yaCO6kL3Z\n",
       "ye79Zmdndg4oufmc1Rvax7D2eIq6FP6mTXXUSqfVMaxVemnWORK62ehtCdRw3FH9zkpVZmhPeds0\n",
       "4aRsaxLwEk/KAXeY6lQJ2PXO6iWWUd3tH7rkz+jCUXiGAQ+zogU4wAzZXAL27liwkAS2LK8Ln4E5\n",
       "OvYZWUPO8eRLwFZbRhNjsfRvsVeF8xer6E9pWLeKEDnaX8rRpgtHlyb8abeG/gPQn9SwfmLOjsXm\n",
       "loANUkTJ5Z8al/MwabE6ubn2kB17pvyrMadKd7KH4uomsN3y4oe5YljjdSExS4OojHbwgZmCt+kX\n",
       "qMFu1YqVh9RNYpIyQHp2RiHyWDN83ZbQNw9PfsoVrdStEDoXxcETPFf7ONa8QxZStzqHDttuwz/g\n",
       "joqlxPGNMCUhvKpH3C9KZaK98PD2jOOPHvq9Fjo3TU7yvVFriFFjaeD7wt5xH5huwwbTKBOJfoOn\n",
       "VhtxvhM6aticTdpipov38+1YYJY2WGfM3M8Oah7kYRvWFcdVPU9C3KlLaX2AOTT9gLryW1NSUk6E\n",
       "qrysImVglYFK1cQyJyMwiLV8YFq4i1YNIPTdhqW0va8f9wv4UszphGBxtZzCUUr1+vOa7ey8V6UO\n",
       "mlhphpTBefF6bxRyfaQa3HNStDCS5RFE0q+gCqzMsEl5IRegxCGp8PCQYufSRJsPYYuCK3z9PvJ0\n",
       "Fg2mk705ssQvEpSCP/xzY3VA81ybJYG2oCuTkYf4tEFgE20gkvNmuIDD2WyHnkAsCRFhJwqa9jSR\n",
       "SOSVb2TtAlSaWHcySKiTIuymQb4WfdOp3731agG2rmLv+yRipIp8HOqDi8qB3EOXKRNQNTo6pGNd\n",
       "7Wba+NConUo35EHsXGtgy+DOo8nY1kxLQl/YWnQ5ho1a9LJI0LCHxajJkw5SKomQqlGGH8lxjl0D\n",
       "l/q4IJLZPf77UuAxpHiRoGGNahKcXDsBvh0Ce7mzIqcswpGztWjIK9eihViv88fBeENaadw2UbvA\n",
       "87io4K1JFF4XYe2hxY6JlZ2r5AmjihkMqUjgF5mz4QHxOXBRG6o2LA45f2HdG0v1PMLqwiTHv0TM\n",
       "ahUhpEVcG/53UxzMPvaPGb8AYRXjfN+bbp0AAAAASUVORK5CYII=\n",
       "\" style=\"display:inline;vertical-align:middle;\" /></a></span>"
      ],
      "text/plain": [
       "|- forall_{x in {a, 1, b}} (x in {a, 1, b, 2})"
      ]
     },
     "metadata": {},
     "output_type": "display_data"
    }
   ],
   "source": [
    "superset_eq(Set(a, one, b, two), Set(a, one, b)).unfold()"
   ]
  },
  {
   "cell_type": "code",
   "execution_count": 212,
   "metadata": {},
   "outputs": [
    {
     "data": {
      "text/html": [
       "<span style=\"font-size:20px;\"> <a class=\"ProveItLink\" href=\"../__pv_it/demonstrations/7fe94fdb943f35ab46526ede0588d22b6e1677400/proof.ipynb\" style=\"text-decoration: none\">&nbsp;&#x22A2;&nbsp;&nbsp;</a><a class=\"ProveItLink\" href=\"../__pv_it/demonstrations/05b52f67fb0318c12bb76959cbdba4c96d63155b0/expr.ipynb\"><img src=\"data:image/png;base64,iVBORw0KGgoAAAANSUhEUgAAAOoAAAAXBAMAAAD3ts66AAAAMFBMVEX///+IiIgiIiIQEBB2dnbu\n",
       "7u5ERETMzMzc3NwyMjK6urpmZmaYmJiqqqpUVFQAAAB6qHgnAAAAAXRSTlMAQObYZgAAAAlwSFlz\n",
       "AAAOxAAADsQBlSsOGwAAA3FJREFUSMetll1IFFEUx8+6MzuzM7s6W0iRJrJkny8WRS8Ja0QlZQxk\n",
       "QR+4W9EWEbGQLyLklBH0kK0PQUTFgvgmuEVQltgKFUmFU+FDFLSRCoKFD0n6EHTunZ2dz1onGpid\n",
       "c4937m/uOf9zrgCeL97dfThT+tVryp/fL3GtdPX6bsmlX+WmcJIgAeTJ6JMHaDjm6v5shXJ12pM9\n",
       "UWt2BwiuGuAxGdz0QD3k7t5uGbUOzhWsYNbsZ8g3BGW4QCKd8EAdWgwVfDq1QnVQQ1kCBkb1QK23\n",
       "LH48uu7v1AHZQYUtEMrhlr2kNW0aCD1yqb1a/Rr1NsCmaHSzB6qIYmIjk23NZHBVtkSYn1gu2al3\n",
       "I98KVmN1qkDdB/AQ4KRl3Wc5p+L3FJcP4l9FqJHu21Q4iHevEpizUdkFOa5Q65IqJsBH8zMK0A18\n",
       "3kIwEneURrMdtcYUp5ShBl7CmDxDBka0+W1I2AZirY0angO/tv9VxOB/EfM9lpDM6F2Fq0lmTInj\n",
       "InSN8pg5m36cnKI7wwmYnehqCp1GtzgLZTEbVUxDBfWJmqP1Dv504oJSUUxPUla5hCnVn7JTATZq\n",
       "4TMqrgOz5E9APGOj4mcM0Arxa3ObyIReEqYR/Ik8qlJ8OV2kLSO7DWpnZNJEJREGYR4OkIGp75wD\n",
       "iEswZtcwlutTqom4VAg4Xu/wbr6Bk5SpoHqQzgulgV3LzRvUJXIVCMX1AxKwZ8rrgYYtYukScRWm\n",
       "wwpbpBKrIoXZpgZuKQMMFc0LvLtQKSE4xkE/nd+eAjGrSUqjniWaKxYm6ir880i9QMMWVM3UgBTe\n",
       "IEKchoXBzyZWeS6QpQYKmNEr5wFRC8km4KzRZDKpct9lzJ0vb1C3wjDAB70QuVpg70kf32iJneoz\n",
       "Udkvu7qXQRnp++VfF2aoxU5gB6WuHa8r9S6x3qgXHtq02OQhrgSey0XqLDQAb5TTGnOZCTudHXHc\n",
       "aY1behOvp6uLSYtYQwU1+ZXOfrmFUtkY1IUSZmG/KtX9Y04rZqGKehsSVzRWAn+qQBWG3u6F8yrf\n",
       "9EPiGqAjYimngOJKXaobrOSwDJdI1rlifbMlae4SmlLC9p7Puh+L13Vh+YwTwGHAfrLN0y6v60Ui\n",
       "aKrtc5w0F93/mxpexHF5mZwEPtdg9WiPkPbQctDu5QT+p4tzEvjU/0X8BhaozKQB2V40AAAAAElF\n",
       "TkSuQmCC\n",
       "\" style=\"display:inline;vertical-align:middle;\" /></a></span>"
      ],
      "text/plain": [
       "|- forall_{x in {a, 1, b}} (x in {a, 1, b, c})"
      ]
     },
     "metadata": {},
     "output_type": "display_data"
    }
   ],
   "source": [
    "superset_eq(Set(a, one, b, c), Set(a, one, b)).unfold()"
   ]
  },
  {
   "cell_type": "markdown",
   "metadata": {},
   "source": [
    "### `superset_eq.derive_superset_membership()`"
   ]
  },
  {
   "cell_type": "code",
   "execution_count": 213,
   "metadata": {},
   "outputs": [
    {
     "data": {
      "text/html": [
       "<span style=\"font-size:20px;\"> <a class=\"ProveItLink\" href=\"../__pv_it/demonstrations/d24700c9b68dc2088a4884ef5f35193ca9a6af5f0/proof.ipynb\" style=\"text-decoration: none\">&nbsp;&#x22A2;&nbsp;&nbsp;</a><a class=\"ProveItLink\" href=\"../__pv_it/demonstrations/4327e79b9953d46295f7ab0f43eaab9c28f147f20/expr.ipynb\"><img src=\"data:image/png;base64,iVBORw0KGgoAAAANSUhEUgAAAI8AAAAVBAMAAACNsKCFAAAAMFBMVEX///+qqqqYmJiIiIgiIiLu\n",
       "7u4QEBBUVFS6urp2dnbMzMxEREQyMjJmZmbc3NwAAADzFso2AAAAAXRSTlMAQObYZgAAAAlwSFlz\n",
       "AAAOxAAADsQBlSsOGwAAAiZJREFUOMuVlL9PFEEUx7/c3gJ7xx00FjZyfwKNGIIFMYuUbEJBYaGx\n",
       "EDtOMBKJERujJJpc4Y+K5EIhFQmFBMqzMJpoQYGxOC7ZqNEQQ/CiRwgSzjdvfuzt7W4iL7nZ7858\n",
       "7zPvzcwOEBP2Y5wm8ueSRi4+/G9IGbaPlXWBq30otw12NKjJjOr5jGF3adN4VtVz+qPrARukfsI5\n",
       "bAM5I8DkTkO9GYO9hf4+7RlTz8t/nlP7jH73gRsxIFgaZAxWHVcrqtPSoCK3AjTtYcHnt2HXrcSA\n",
       "jKH7Jno1aPldBHQbWOA1eHI+PiNjoOgvKFGKgijGeU3fJpSmDSKnS7oyX4NmhuYNKPNbtD2++V+u\n",
       "EgZJAz0vzKueL9Cgdew/AAZZpzm9niCB74UwSBq4NLVrJQMCspT/PvdX+f2VS7Em1I/3CIOqRnXK\n",
       "zpTfAsqd0Mm4R6SUnO9KUEnVC4GUAZkysnVWX6FB2QpyR7SqYu6zyIvlSQelZYshkDKgt6FBj+bm\n",
       "Du7KFEfQ9YtKpqkzJVicwUB012xORBiE6iyK0jzpmQIrh7ppPV6Q/FarbfPQmzDIodL5ILNBqFSB\n",
       "zpF9LD1/wSq/hUFPbv94synHJje9FlDXneMZpEe1gdXTGn20LruqzVmp9j5/Cg6kisXXrZ8IxxlE\n",
       "VIcXVW2gcGnqvESUg6hKAlnX9E1pNiBQE4gq7CRcnXVNDNhGDcQo+3rC/bl363R39ks61/8A6Mad\n",
       "3h0GcFcAAAAASUVORK5CYII=\n",
       "\" style=\"display:inline;vertical-align:middle;\" /></a></span>"
      ],
      "text/plain": [
       "|- 2 in {1, 2, 3, 4, 5}"
      ]
     },
     "metadata": {},
     "output_type": "display_data"
    }
   ],
   "source": [
    "# given a known superset_eq relationship, and an element in the\n",
    "# subset, derive the element as being in the superset\n",
    "superset_eq(set_12345, set_123).derive_superset_membership(two)"
   ]
  },
  {
   "cell_type": "code",
   "execution_count": 214,
   "metadata": {},
   "outputs": [
    {
     "data": {
      "text/html": [
       "<span style=\"font-size:20px;\"> <a class=\"ProveItLink\" href=\"../__pv_it/demonstrations/d76cdf2952bf24ff425afdbea18f64dc3353da980/proof.ipynb\" style=\"text-decoration: none\">&nbsp;&#x22A2;&nbsp;&nbsp;</a><a class=\"ProveItLink\" href=\"../__pv_it/demonstrations/dc8c3e5e608f451ebf7d17d962f254305d4910800/expr.ipynb\"><img src=\"data:image/png;base64,iVBORw0KGgoAAAANSUhEUgAAAHoAAAAVBAMAAAB71edYAAAAMFBMVEX////MzMwyMjKqqqoiIiJm\n",
       "ZmaYmJju7u5EREQQEBC6urqIiIh2dnZUVFTc3NwAAAAqL9KcAAAAAXRSTlMAQObYZgAAAAlwSFlz\n",
       "AAAOxAAADsQBlSsOGwAAAZ9JREFUOMtjYMAGqhYwEASPH+CQ4NYqIKyb8QYORfao4ozuEJq90wFZ\n",
       "mOMCdt1HUHi1Qd+hLKYAZHEeB2J0M3DDdPMb4NbN3eLihF/3+gKcurm0CwjZjSoO1s13Z98GEOdR\n",
       "AYrLYcLIunV3X4ayTm8TgOhe+YADLKuHMDUISRhJN/ungnpIJD8xYG1g4J4AFJrGwAr2gAJcM980\n",
       "JGEk3czfGTgh7vEBMfg+MzCwfmBgOQCK1CkuLi4eYM2XFiCEkXWzKjDwg8VYIQK1ygycDQz1oHTJ\n",
       "3gC3W7SdAS6MrBto3HpwnHFC1B5awFC/gSEfzEYK/14GhDCSbmB0x4ODtn4D1CMM9QYMl5hBYbEb\n",
       "JbVAhNnhukEsfgFgaIAZCQwMCxh4gKHGsYHZlRWcDA2QdUOE68FByfOPAcziTeAIADOAAc4DiTH2\n",
       "2wffbgTHx43lSLohwiyg/MF789M1MIv9ThgDROhM2nb0lMp1AjOlmmOyzInPJQcwWQcI6d4JY7Bv\n",
       "wGAhhFgVsOt+DwtAbkROwWAwVCZg180Xa0C4ZHoDzDEAJ219QpW5QgQAAAAASUVORK5CYII=\n",
       "\" style=\"display:inline;vertical-align:middle;\" /></a></span>"
      ],
      "text/plain": [
       "|- a in {a, 1, b, c}"
      ]
     },
     "metadata": {},
     "output_type": "display_data"
    }
   ],
   "source": [
    "superset_eq(Set(a, one, b, c), Set(a, one, b)).derive_superset_membership(a)"
   ]
  },
  {
   "cell_type": "code",
   "execution_count": 215,
   "metadata": {},
   "outputs": [
    {
     "data": {
      "text/html": [
       "<span style=\"font-size:20px;\"><a class=\"ProveItLink\" href=\"../__pv_it/demonstrations/05f170b0ab4b4d837332c70384138e18bd2408160/expr.ipynb\"><img src=\"data:image/png;base64,iVBORw0KGgoAAAANSUhEUgAAAGcAAAAVBAMAAACphe0AAAAAMFBMVEX///8AAAAAAAAAAAAAAAAA\n",
       "AAAAAAAAAAAAAAAAAAAAAAAAAAAAAAAAAAAAAAAAAAAv3aB7AAAAD3RSTlMAmYkQqzLvVES73WZ2\n",
       "Is1wFLxSAAAACXBIWXMAAA7EAAAOxAGVKw4bAAABoElEQVQ4y2NgwAaYOxhwAN5aXDIM55pxSoVM\n",
       "htCMSgaoEuyfkXmWWSiSUyCUSlgBqiamBSjchyg8LQiV3mmAV9N3LJo4YI45uWrVAyyaOD5j0QRT\n",
       "0ncYu01o9oI1cbstEQAH5mNUZVd07kB4fD5HoH5mOrMVZhP/AYjcBbgmRqArOXIZ5kO8av+Y+S8k\n",
       "jpYzSDIwHAOz7wdANCFccG0DA4PZBgYpCK/egCEHzOBSADHug62th8iFrQKCCSDWlRdAQp6BYRFE\n",
       "Qo6B4ROYIQ+2mdmvABHwlnCLWCWBspkMzD8g3EUMHJBAz4R47AVSFHMhnMfpwMD8h4H7AyyaGMGB\n",
       "DhSCuhYIIA5m4DmAHHrM3xlYHtQygBR8BfkPxPgNDB4GBjVwmEBdwfAcJcjnMFQJCDD/A/K8GSYy\n",
       "gBnAoFOF+oYd6goGkxkGSJpMDsX6BDCsAgqZKAIDE8Rg0t5jANXE6ACzoGkWRjJiN0BngDWV8BVg\n",
       "5BmEJiYMBljTSjvMjMaTAGPZYDBA0cawRxZLnoZnhgMYDOZsXHn6ojvOMkIF6BsAvzxjBJKGB98A\n",
       "AAAASUVORK5CYII=\n",
       "\" style=\"display:inline;vertical-align:middle;\" /></a> <a class=\"ProveItLink\" href=\"../__pv_it/demonstrations/c948a3166f2980fdc0ee131183d9630e9a9d959a0/proof.ipynb\" style=\"text-decoration: none\">&nbsp;&#x22A2;&nbsp;&nbsp;</a><a class=\"ProveItLink\" href=\"../__pv_it/demonstrations/82acf1bd0edb0a413440e23f8f650fa44ada37ce0/expr.ipynb\"><img src=\"data:image/png;base64,iVBORw0KGgoAAAANSUhEUgAAAHsAAAAVBAMAAACUF4xmAAAAMFBMVEX///8AAAAAAAAAAAAAAAAA\n",
       "AAAAAAAAAAAAAAAAAAAAAAAAAAAAAAAAAAAAAAAAAAAv3aB7AAAAD3RSTlMAmYkQqzLvVES73WZ2\n",
       "Is1wFLxSAAAACXBIWXMAAA7EAAAOxAGVKw4bAAAB00lEQVQ4y2NgwAaYOxgIAt5anFLnmglrZwiZ\n",
       "DKEZlQxQJdg/I/Mss7DojUtkYJgCYaqEFaDKMS1A4T7EZvd3BgYtCCu90wCv9u9YdHN8hmnngDn1\n",
       "5KpVD7Bo5/iMRTtIiRaK4r7D2G1HcwsE8AlAtXO7LREAR8RjVA1XdO5AVfocgYYN05mtEMYVnfgC\n",
       "mO38ByCqLsC1MwL9wJHLMB8SJPaPmf9CYno5gyTEOxC5Y2DO/QCIdoTLrm1gYDDbwCAF4dUbMOSA\n",
       "GVwKUAZQTg6kEeyoeoiqsFVAMAHstBdAQp6BYRFEAqjyE5ghD4sgqByzH0g/NPos4ZazSgLVZTIw\n",
       "/4BwFzFwQKIuE6YAKscEsgaWeLgQjud0YGD+w8D9ARbtjOCoAwpBcwRUrh7sGoh/GHgOIIc883cG\n",
       "lge1DCAFX0F+BTF+AwMNxIDKMaiBwxPqRobnKBE3h6FKQID5H5DnzTCRAcwABrsqmAGWg/qaHepG\n",
       "BpMZBkjaTQ7F+gQwrAIKmSgCIwLEYNLeYwARActBtDM6wCxtmoWRaNkNcDIg2kv4CrAmaCgLNwOi\n",
       "faUdZoLmSYCxbHAzwAmCYY8slnIInkUP4GYwMGfjKocuuhNR1qkAfQ0Ap+p3a0gsvpMAAAAASUVO\n",
       "RK5CYII=\n",
       "\" style=\"display:inline;vertical-align:middle;\" /></a></span>"
      ],
      "text/plain": [
       "{f in {a, b, c}} |- f in {a, b, c, d}"
      ]
     },
     "metadata": {},
     "output_type": "display_data"
    }
   ],
   "source": [
    "# and this works more generally, where we can assume an elem in the subset\n",
    "from proveit import f\n",
    "Set(a, b, c, d).deduce_enum_subset_eq(subset=set_abc)\n",
    "superset_eq(Set(a, b, c, d), Set(a, b, c)).derive_superset_membership(f, assumptions=[InSet(f, set_abc)])"
   ]
  },
  {
   "cell_type": "markdown",
   "metadata": {},
   "source": [
    "### `superset_eq.derive_subset_nonmembership()`"
   ]
  },
  {
   "cell_type": "code",
   "execution_count": 216,
   "metadata": {},
   "outputs": [
    {
     "data": {
      "text/html": [
       "<span style=\"font-size:20px;\"> <a class=\"ProveItLink\" href=\"../__pv_it/demonstrations/2bb3be13e32477bc4984810bd83059161bda89f40/proof.ipynb\" style=\"text-decoration: none\">&nbsp;&#x22A2;&nbsp;&nbsp;</a><a class=\"ProveItLink\" href=\"../__pv_it/demonstrations/9aa413c8bbc7decb53a9cd05c0e7b88ddead09610/expr.ipynb\"><img src=\"data:image/png;base64,iVBORw0KGgoAAAANSUhEUgAAAGgAAAAVCAMAAACdfluMAAAAP1BMVEX///9jY2MJCQkdHR0NDQ0W\n",
       "FhaYmJhmZmYQEBDu7u6qqqpERESIiIgiIiJUVFS6uroyMjLc3NzMzMx2dnYAAABOkPcvAAAAAXRS\n",
       "TlMAQObYZgAAAAlwSFlzAAAOxAAADsQBlSsOGwAAAcRJREFUSMedltmWwyAIQJ1NxYWg8v/fOtEx\n",
       "iVszOfWhrQhcQeBUiJcr9FvYNvHGCib8p0LQ7hxt8A5IRLSnYdpXnBXaneFTO/qBGJQiO9iHlJSt\n",
       "KbDVU6BdgH4EqS5TqZ4DKuIeFGw+504dVLmc6WzJZaodQT05XVs3gLA8gtZdojMDmFpbw3PunfU/\n",
       "356egXTZI7ePvukcYA+yesRs5EBgfBxROUKeXtmwbG01xeTaBwm53IDEU1DNNE/39bKzZcp7ba6y\n",
       "zjmQbigNugdFHgyiwyMpruQMuFxF6dOa5iYSQct7kMdZdlRdKN/AJTB5lmfU3vuvz/3jLMSAtIlb\n",
       "kLKrXtVVE5DMURqSjytDaQvT50Fd3b0CyTGeWLJmj0Yq97RDRKWBpva1eAMyKYfdljcXnQqqDWTq\n",
       "G12OnNjUCFpU3TWTUhFDI9LYpC5V33bXg6bqBBmMN6D015pH34vgVV6+EQkp5z7afyjVeQb8nCb1\n",
       "qYyomTB78HW4ei6LGtHeRDv6GKrJv5rs8iPZvepejKDraeCJ6A5E8Eg5PRLdgMKiKdw0EQW4J6J+\n",
       "qgw3MAs4T8KF0yUHmqnSL1yGqdC89Z8h/dn9AuCbF7rSTToxAAAAAElFTkSuQmCC\n",
       "\" style=\"display:inline;vertical-align:middle;\" /></a></span>"
      ],
      "text/plain": [
       "|- 6 not-in {1, 2, 3}"
      ]
     },
     "metadata": {},
     "output_type": "display_data"
    }
   ],
   "source": [
    "# given a known superset_eq relationship, and an element NOT in the superset,\n",
    "# derive the element as NOT being in the subset\n",
    "superset_eq(set_12345, set_123).derive_subset_nonmembership(six)"
   ]
  },
  {
   "cell_type": "code",
   "execution_count": 217,
   "metadata": {},
   "outputs": [
    {
     "data": {
      "text/html": [
       "<span style=\"font-size:20px;\"><a class=\"ProveItLink\" href=\"../__pv_it/demonstrations/6bea360928de6ec1d21061661cc139b45a0a1d780/expr.ipynb\"><img src=\"data:image/png;base64,iVBORw0KGgoAAAANSUhEUgAAADEAAAAUCAMAAAATIyWrAAAAPFBMVEX///8NDQ0WFhYLCwsYGBjM\n",
       "zMwyMjKqqqoiIiJmZmaYmJju7u5EREQQEBC6urqIiIh2dnZUVFTc3NwAAADJzR5XAAAAAXRSTlMA\n",
       "QObYZgAAAAlwSFlzAAAOxAAADsQBlSsOGwAAAM5JREFUKM+VU1kSwyAItYuKW1W4/10rZKZjqjWV\n",
       "DzIk8hYwSq3CBbUXOnYFOmeivujoDyB3F3qtKWpXVOSc0poCuyIRe6qEi4ZXT6EqSCYRirVkzEOH\n",
       "mcABCVZqnyJ9BulA4vngXM/OiIFD8nLsLwoBcEIE5duFmyz02E/iRxgGPaHwh8Qg0jx1SKz/fjvc\n",
       "dD4sy0BsHZanZpQ9gZrhRmnRndv72DgsOHXSbQcXCI6DBxRqLhpr1msKIAnzY922bN7yCcVF+G0K\n",
       "2KVQyz/tDRK0CDlZK2LPAAAAAElFTkSuQmCC\n",
       "\" style=\"display:inline;vertical-align:middle;\" /></a>, <a class=\"ProveItLink\" href=\"../__pv_it/demonstrations/5666928a057465708634cf5e7f705c93445e71f60/expr.ipynb\"><img src=\"data:image/png;base64,iVBORw0KGgoAAAANSUhEUgAAAC8AAAAUCAMAAAAqRJTwAAAAPFBMVEX///8NDQ0WFhYLCwsYGBiY\n",
       "mJjMzMzc3NyIiIhUVFR2dna6urqqqqpmZmYyMjIiIiIQEBBERETu7u4AAAAYV9lEAAAAAXRSTlMA\n",
       "QObYZgAAAAlwSFlzAAAOxAAADsQBlSsOGwAAANRJREFUKM+VktkSwyAIRe3ighE3/v9fK6Tp6MQ2\n",
       "lQcm4PXOEaLU98A669aS01RuSldYxFjM/h1xqj+ORc53PW1SUJjaQ1eA5Zwz542mnMV2RRYNEPf8\n",
       "FH/r7RWIBogRIzgHJ6Rozx6JeD4Ua0vHMSaJ54MzjC8i13IQtOz+sJfrGGVGfqSfjBj3fSQvMwpX\n",
       "9voNJ0r8zFT477f9FR1/YFvbbHhGNevR/rQRI7yu9aFJy4gbTvQ2IQdvoYJHrS7sE0nE6Y8WvFqK\n",
       "WJfketE+rdkr8+vwBVXZCUMTWNx6AAAAAElFTkSuQmCC\n",
       "\" style=\"display:inline;vertical-align:middle;\" /></a>, <a class=\"ProveItLink\" href=\"../__pv_it/demonstrations/b16231dbdad24d03b9561cf49f1744f3edfcc6c90/expr.ipynb\"><img src=\"data:image/png;base64,iVBORw0KGgoAAAANSUhEUgAAAC8AAAAUCAMAAAAqRJTwAAAAPFBMVEX///8NDQ0WFhYLCwsYGBgy\n",
       "MjJUVFS6urru7u4QEBBERERmZmaqqqoiIiLc3NzMzMyYmJiIiIh2dnYAAAB6aGVTAAAAAXRSTlMA\n",
       "QObYZgAAAAlwSFlzAAAOxAAADsQBlSsOGwAAAMBJREFUKM+Vk+sOwyAIhd1Fq6VQlfd/1xVME7pZ\n",
       "M/lBQoST70Dr3H1AdDOxr6YgAL/uw377TDJbeRnJB1MEkpzSSJ5MkVi8BKbb9sXKu4CauSHWUvK3\n",
       "F9+RQlYvuB27O5cBqPF+SQ5XR1x0qgpg+UNex4E7Z1mgc76GkNaO2458bnCRryTK/3w0F4Z/E2o6\n",
       "ZDg3gov8D+Iu7a7EE6vafW4/9IQgoVeoNecSx/LIGr57WkWdCD/33edJeZyTd8O/6AP7cgeh9A3v\n",
       "TAAAAABJRU5ErkJggg==\n",
       "\" style=\"display:inline;vertical-align:middle;\" /></a> <a class=\"ProveItLink\" href=\"../__pv_it/demonstrations/43ac19f8f3a143363b7722fabbe047dc62ac3ed70/proof.ipynb\" style=\"text-decoration: none\">&nbsp;&#x22A2;&nbsp;&nbsp;</a><a class=\"ProveItLink\" href=\"../__pv_it/demonstrations/6da576a84987a29a700e9d5dd7a8e5d36adfba9d0/expr.ipynb\"><img src=\"data:image/png;base64,iVBORw0KGgoAAAANSUhEUgAAAGcAAAAVCAMAAABsdQABAAAARVBMVEX///8/Pz9vb28YGBgJCQkd\n",
       "HR0NDQ0WFhaqqqqYmJiIiIgiIiLu7u4QEBBUVFS6urp2dnbMzMxEREQyMjJmZmbc3NwAAAD+Oi4s\n",
       "AAAAAXRSTlMAQObYZgAAAAlwSFlzAAAOxAAADsQBlSsOGwAAAbZJREFUSMelVu166yAIdmfbmVFE\n",
       "I+j9X+oMptVU03SbP9JKgJePF54odXrS8Qreq5+fpNOVCkF/M+ThFzhqxVjtEjPFdabQ33R+hrLa\n",
       "h7cQnb39j+IoxfIIeawJH0TBnoIAMo1REB9NUern3GB+dPwEZyvqiJP10dSJCua+XSZa+/Wf/oLj\n",
       "m2TPpz5z65AnU3Rw/VM+nX5vanNjovAM6MQuYTDJXOIQGoP6EWfNzZKkgsuDK95xvSuv46PbAQdy\n",
       "iRZqM0zrve04TJPhUckt1V5+2V7lU8fASbDpTgmO3Sg4W87nh7VNmJB2krPU14YrnJp+DjvxSZAW\n",
       "PEyY1FQf55D3oXZRiuKvcCQSvycSapR6k6V0mJuBXXWoQfq45Eu+CQJX6b5KVknO3BVNceVZTXkK\n",
       "Yo+ktu0II85dtI0J7D0NwoNkeTtdAqWYuM5xVCxBaMuKhVLtbWVWE2GBiNyb2iyH+n0V3+EEB9CE\n",
       "NaHZ4rC35YnoMm2emwgw8HI54v/eyuKxl3tHwyuiJzgELymHl0TnOClONti40MG8ImqrZAxAT7Dz\n",
       "IJz4nMHcaDcenCbJqH/zfRCq2Td7Mxkc4aDL0AAAAABJRU5ErkJggg==\n",
       "\" style=\"display:inline;vertical-align:middle;\" /></a></span>"
      ],
      "text/plain": [
       "{a != 2, b != 2, c != 2} |- 2 not-in {a, 1, b}"
      ]
     },
     "metadata": {},
     "output_type": "display_data"
    }
   ],
   "source": [
    "superset_eq(Set(a, one, b, c), Set(a, one, b)).derive_subset_nonmembership(\n",
    "        two, assumptions=[NotEquals(a, two), NotEquals(b, two), NotEquals(c, two)])"
   ]
  },
  {
   "cell_type": "code",
   "execution_count": 218,
   "metadata": {},
   "outputs": [
    {
     "data": {
      "text/html": [
       "<span style=\"font-size:20px;\"><a class=\"ProveItLink\" href=\"../__pv_it/demonstrations/042a752163ff5cc5f135dfdbf596caad049314b60/expr.ipynb\"><img src=\"data:image/png;base64,iVBORw0KGgoAAAANSUhEUgAAAHsAAAAVCAMAAABR52FnAAAAP1BMVEX///8AAAAAAAAAAAAAAAAA\n",
       "AAAAAAAAAAAAAAAAAAAAAAAAAAAAAAAAAAAAAAAAAAAAAAAAAAAAAAAAAAAAAADFBd4eAAAAFHRS\n",
       "TlMAmYkQqzLvVES73WZ2Is3p8+P3nSi1AlMAAAAJcEhZcwAADsQAAA7EAZUrDhsAAAHvSURBVEjH\n",
       "rVbtkqQgDIQQ+Qzs3R7v/6ynwiAE3aGm1h9axqQ7JB1QiOcrsndlrfiNK5r41iep4ZWSVb/CLTZ0\n",
       "PZIEUJPH8GryI7Ny2i+yJi2Pp+uwATdtmJ8cKww/wSe5uuZsOJg21vFlMa4fubNZpLaleh2Y5fUk\n",
       "57/++LTKbfOqEipKB8ZwbSIlcFtfN/jVktfmtICA2mPXsHgIXKUn/IhAkUZEJEJWdiAKQ/pH3Fab\n",
       "0yWbB6h0jF8gLr2ajNX7ZzcUWeU9W5X7qY1+J5GuL2YfR7o55iHBdDPcIupQeM6n9PP46T5bD8xS\n",
       "49KL0bTYYQa19/7v935zXb1SnTiZGzQrSe5schIfi1OYzI1U1EEJrHubrDOo3VnkYfZPRNvPmXZc\n",
       "ZCwOXmtxOA32LNzipE5phDxPd79UlblaWNy1SerRk0hY+TBH6uTBJI7z4BV/yKX0s1mKOGyzDHE7\n",
       "mG5SY+dTMny4r8a4PU/jpZCnvMsn3JmcFJ2lKBy2y9LF9V0epXYK4Xs+sqq7QoItIh3Jea+qDWRZ\n",
       "6MsiAEIgNfhccR23RM4T/oHbdf52TzXqE0sDMyiSeXNyP3LDR5YG5t20e4robtyvrejqDX1iuXaE\n",
       "QHL6g4G7EzHO5+QMu2Jpm9zthfe/WRJXT+k3/2tQgP4DpIAQCu0+ReYAAAAASUVORK5CYII=\n",
       "\" style=\"display:inline;vertical-align:middle;\" /></a> <a class=\"ProveItLink\" href=\"../__pv_it/demonstrations/b9172752f324f6164893be315a0ce3e1878822cd0/proof.ipynb\" style=\"text-decoration: none\">&nbsp;&#x22A2;&nbsp;&nbsp;</a><a class=\"ProveItLink\" href=\"../__pv_it/demonstrations/27687fbb9702f9900205b9ba96a9d6d18d2ef76d0/expr.ipynb\"><img src=\"data:image/png;base64,iVBORw0KGgoAAAANSUhEUgAAAGcAAAAVCAMAAABsdQABAAAAP1BMVEX///8AAAAAAAAAAAAAAAAA\n",
       "AAAAAAAAAAAAAAAAAAAAAAAAAAAAAAAAAAAAAAAAAAAAAAAAAAAAAAAAAAAAAADFBd4eAAAAFHRS\n",
       "TlMAmYkQqzLvVES73WZ2Is3p8+P3nSi1AlMAAAAJcEhZcwAADsQAAA7EAZUrDhsAAAG6SURBVEjH\n",
       "lVbpuoQgCFUgF0Tv5vs/6y1ryqWmxh8znygclgOm1PWK3R6dU5+uaOPtnYTNVpLDj3HURL7W0gA4\n",
       "3Gi2Nl+ioDd8jeQrO0CTsd25brME/C50fX1WKxrrfO8uq+c42T7CcX1OxPPXN6enOC7jI5zOhkuC\n",
       "iqbn8byNdT8MZJiqBMeFaJiurkcCidKWh0SoSx2IhKlzIjdqaaF8kJ4WG7Az87FvEoV59gxz3SmR\n",
       "Z1jtSw3MLsxNjtJJ86howmqz/GseKW9qzxh2SdxJYnPTN4aZf37nH3+gUNpYrvNupgs1VzJdx4uU\n",
       "7EkZcTEPXbYnvfHe+JKoprcKqqu5bXxdqZePnobG4Yu2xlLKkMfuqUPAuuDHIDFtzUWU0xf0xGKT\n",
       "klrm40t/Ke9at12yFrPEAWanQTeHk+2b50iun32yrJUuNFuPaLbqtaokK9Og5XVLg1K433E0b9eR\n",
       "BKZIsphgxk0Geg3gJVEAIQi21dfU2wx/4Ge+3c4di/eSTdGSSvbm5bnEgQeSTZH9MGFU9Cdj6mjr\n",
       "I79yL3l1VxA9vKxwNuXjOPtHoycwuA2Sk0XnT70m+/n3AaxK/2QCDV9h4kJgAAAAAElFTkSuQmCC\n",
       "\" style=\"display:inline;vertical-align:middle;\" /></a></span>"
      ],
      "text/plain": [
       "{f not-in {a, b, c, d}} |- f not-in {a, b, c}"
      ]
     },
     "metadata": {},
     "output_type": "display_data"
    }
   ],
   "source": [
    "# and this works more generally, where we can assume some elem not in the superset\n",
    "# which means it must not be in the subset\n",
    "from proveit import f\n",
    "Set(a, b, c, d).deduce_enum_subset_eq(subset=set_abc)\n",
    "superset_eq(Set(a, b, c, d), Set(a, b, c)).derive_subset_nonmembership(f, assumptions=[NotInSet(f, Set(a, b, c, d))])"
   ]
  },
  {
   "cell_type": "markdown",
   "metadata": {},
   "source": [
    "### `superset_eq.apply_transitivity()`"
   ]
  },
  {
   "cell_type": "code",
   "execution_count": 219,
   "metadata": {},
   "outputs": [
    {
     "data": {
      "text/html": [
       "<strong id=\"set_13_subset_eq_set_12345\">set_13_subset_eq_set_12345:</strong> <span style=\"font-size:20px;\"> <a class=\"ProveItLink\" href=\"../__pv_it/demonstrations/375f4035e010424638663d2b038bbed9a7a04d810/proof.ipynb\" style=\"text-decoration: none\">&nbsp;&#x22A2;&nbsp;&nbsp;</a><a class=\"ProveItLink\" href=\"../__pv_it/demonstrations/b9610378fd84b4d17b83d827423f13d5610162b40/expr.ipynb\"><img src=\"data:image/png;base64,iVBORw0KGgoAAAANSUhEUgAAALkAAAAVBAMAAADoXVL6AAAAMFBMVEX///9ERETMzMxUVFSYmJgQ\n",
       "EBDc3NxmZmYiIiJ2dnaqqqoyMjKIiIi6urru7u4AAAB85a56AAAAAXRSTlMAQObYZgAAAAlwSFlz\n",
       "AAAOxAAADsQBlSsOGwAAAo1JREFUOMuVlc9rE0EUx79NatKNcRG8eKrBCgp6iKb+ikpz8A8Qques\n",
       "qERFqMFDhIKUFmVPNiCCImhOgpda6U0p6qGCeGhABD0oC0G8FPyBihhtnHmzO/Oy02h9h8xk3vt+\n",
       "5td7swDct4jZWQ+22WF/tdRd1b54F/ckdgZ2uB3W03JwPQwNym5mWfKuRlPerDaBvryloDBsC6dN\n",
       "1R7kuEDZ1rAtP/JF3AbZdSaA1vhy6PiAzE81RvbU9/1JRGHu3sch/Tic31ygbCpsL/+4LX5vRDJk\n",
       "I/piw20b+vZneu1qaDGk7wGOcQFZNqKrna9Af9WEobtX0INeDjDiMQHZlrl/0cUBf9X0ZLMXfR8w\n",
       "kmMCsvoq6K9Lmr4WvejCprmADsaL6MPPd0X09GwXfUdBrCl7hPpDjE5hjJ74xQXSTiKiD2JM7HpB\n",
       "dk+VYicjUiCl0uAEo1MYow/kuYAORtNFSoudjjUEYR7ddHljaD0kghlUYYxe7RYA/R6jp7+LnDjQ\n",
       "QKIacPpmYJOY8xbdZ7pkypfCDL0/3y0AziGi980i/UXclFwQ1aWmdwIZnAn/zpsFqvLV9HtIeUwg\n",
       "7GWh8G0/Da2ZQPITcD/gOeNKzyht1FG3itahwM4ZOZSoIxsYgatiRpXTEROsB65rmSPO6aPMisM8\n",
       "34E3G/lLANzxQKV5ula7yATUAz4rZ+o8FgKW78nd7WEMyJdsXU0+Spoey/dCea4E+UJNdzptJqAe\n",
       "qp2D5ETlwqWuaiKbiZWOTVcZGNiCGdsZp9dXR3dgC+q2U9HDuhS3+iRWmEj7vn6BdRiWYAlMb8nQ\n",
       "x+n5j57nrHG8L9lfMv2Ka5IRmJ5ZoXuUmkoxTjpTXOFzVin+33f1mqiCP7+N4wncHlRFAAAAAElF\n",
       "TkSuQmCC\n",
       "\" style=\"display:inline;vertical-align:middle;\" /></a></span><br>"
      ],
      "text/plain": [
       "<IPython.core.display.HTML object>"
      ]
     },
     "metadata": {},
     "output_type": "display_data"
    }
   ],
   "source": [
    "# establish a SubsetEq judgement: \n",
    "set_13_subset_eq_set_12345 = set_12345.deduce_enum_subset_eq(subset=set_13)"
   ]
  },
  {
   "cell_type": "code",
   "execution_count": 220,
   "metadata": {},
   "outputs": [
    {
     "data": {
      "text/html": [
       "<strong id=\"set_12345_superset_eq_set_13\">set_12345_superset_eq_set_13:</strong> <span style=\"font-size:20px;\"> <a class=\"ProveItLink\" href=\"../__pv_it/demonstrations/375f4035e010424638663d2b038bbed9a7a04d810/proof.ipynb\" style=\"text-decoration: none\">&nbsp;&#x22A2;&nbsp;&nbsp;</a><a class=\"ProveItLink\" href=\"../__pv_it/demonstrations/54d76d41d5f175ba4ac57e24afd26a5995c79a190/expr.ipynb\"><img src=\"data:image/png;base64,iVBORw0KGgoAAAANSUhEUgAAALkAAAAVBAMAAADoXVL6AAAAMFBMVEX///9ERETMzMxUVFSYmJgQ\n",
       "EBDc3NxmZmYiIiJ2dnaqqqoyMjKIiIi6urru7u4AAAB85a56AAAAAXRSTlMAQObYZgAAAAlwSFlz\n",
       "AAAOxAAADsQBlSsOGwAAAntJREFUOMuVlc9rE0EUx79J06TbpluhZ0NAQcFLaOrPCs2fIFiPkhWV\n",
       "Kght6CFCQSoq7MkGROxJFwTBi40U9CDBgOQgPVjw4ElZ8Kr4AxRJNHH2zZv9ORG7h50vb7/vszOz\n",
       "780CMN9jN1f2kS76eWeIbfvDf5OLMC3sKyQf5FtuPCRt431xS99Wr6w/LUp1+d5e33mAx+oLW1Cm\n",
       "k/RND35QvUGmks1YAz6u9vnBORh/SJjL2HRU8g0eb/26L+4b0mDb9vU2PxAh8+hLpnPqhqIjr+hH\n",
       "gDNyrV18aap1K3pJodRKt4sIQm+YzqkaetXFvOWJybOYUvT9W0PoMJ9p6JyqoR8D5otqMyssGkPp\n",
       "OKShc6qGLq51Hidvqo2xFH329UyMPmHp6JRKsVwzSk//5vHVDEcuQNELWBJ13QnRDfnlVyN0mUq2\n",
       "i5UofazkL49rpuHTgZRY6ZIT0HPURdmF+M440na+hSi95qtRGcxYIXrup/iUcwF+guBzOzG6l+rZ\n",
       "0jU3Qs/w1NNFpLqkrkDRU03kvovdaAVzfyi7rRCmcyrZUqUI/TGy9KGm+or+tlz+cVzOaA0jX7kx\n",
       "GcQ9Ph2mcyrZ/Joxyd5A3vXUaMlbHvtPg5QhwnuAu8HZVbNiFen6qdJGdENsJ7XmpXr9KqlMRRSt\n",
       "2ZPJ30Aqu4yOGz4JnjsI0R9Y0kapoXofOdybxZi3yvXBoCfVu7o4imyafG1wUqrFlWuxeg/Ry9Wt\n",
       "irRRaqib6HqChBp3k2oYXWsL6A0klIGk+ic9bsufUidSGwn1CUklG5P23bb59OwMs2W76jgJ/jS+\n",
       "amuUuZCcu9++Cdviid39V+84muCKo7P9BeCE31/BDrwBAAAAAElFTkSuQmCC\n",
       "\" style=\"display:inline;vertical-align:middle;\" /></a></span><br>"
      ],
      "text/plain": [
       "<IPython.core.display.HTML object>"
      ]
     },
     "metadata": {},
     "output_type": "display_data"
    }
   ],
   "source": [
    "# establish the superset_eq relation by reversing:\n",
    "set_12345_superset_eq_set_13 = set_13_subset_eq_set_12345.reversed().prove()"
   ]
  },
  {
   "cell_type": "code",
   "execution_count": 221,
   "metadata": {},
   "outputs": [
    {
     "data": {
      "text/html": [
       "<a class=\"ProveItLink\" href=\"../__pv_it/demonstrations/54d76d41d5f175ba4ac57e24afd26a5995c79a190/expr.ipynb\"><img src=\"data:image/png;base64,iVBORw0KGgoAAAANSUhEUgAAALkAAAAVBAMAAADoXVL6AAAAMFBMVEX///9ERETMzMxUVFSYmJgQ\n",
       "EBDc3NxmZmYiIiJ2dnaqqqoyMjKIiIi6urru7u4AAAB85a56AAAAAXRSTlMAQObYZgAAAAlwSFlz\n",
       "AAAOxAAADsQBlSsOGwAAAntJREFUOMuVlc9rE0EUx79J06TbpluhZ0NAQcFLaOrPCs2fIFiPkhWV\n",
       "Kght6CFCQSoq7MkGROxJFwTBi40U9CDBgOQgPVjw4ElZ8Kr4AxRJNHH2zZv9ORG7h50vb7/vszOz\n",
       "780CMN9jN1f2kS76eWeIbfvDf5OLMC3sKyQf5FtuPCRt431xS99Wr6w/LUp1+d5e33mAx+oLW1Cm\n",
       "k/RND35QvUGmks1YAz6u9vnBORh/SJjL2HRU8g0eb/26L+4b0mDb9vU2PxAh8+hLpnPqhqIjr+hH\n",
       "gDNyrV18aap1K3pJodRKt4sIQm+YzqkaetXFvOWJybOYUvT9W0PoMJ9p6JyqoR8D5otqMyssGkPp\n",
       "OKShc6qGLq51Hidvqo2xFH329UyMPmHp6JRKsVwzSk//5vHVDEcuQNELWBJ13QnRDfnlVyN0mUq2\n",
       "i5UofazkL49rpuHTgZRY6ZIT0HPURdmF+M440na+hSi95qtRGcxYIXrup/iUcwF+guBzOzG6l+rZ\n",
       "0jU3Qs/w1NNFpLqkrkDRU03kvovdaAVzfyi7rRCmcyrZUqUI/TGy9KGm+or+tlz+cVzOaA0jX7kx\n",
       "GcQ9Ph2mcyrZ/Joxyd5A3vXUaMlbHvtPg5QhwnuAu8HZVbNiFen6qdJGdENsJ7XmpXr9KqlMRRSt\n",
       "2ZPJ30Aqu4yOGz4JnjsI0R9Y0kapoXofOdybxZi3yvXBoCfVu7o4imyafG1wUqrFlWuxeg/Ry9Wt\n",
       "irRRaqib6HqChBp3k2oYXWsL6A0klIGk+ic9bsufUidSGwn1CUklG5P23bb59OwMs2W76jgJ/jS+\n",
       "amuUuZCcu9++Cdviid39V+84muCKo7P9BeCE31/BDrwBAAAAAElFTkSuQmCC\n",
       "\" style=\"display:inline;vertical-align:middle;\" /></a>"
      ],
      "text/plain": [
       "{1, 2, 3, 4, 5} superset_eq {1, 3}"
      ]
     },
     "metadata": {},
     "output_type": "display_data"
    }
   ],
   "source": [
    "set_12345_superset_eq_set_13.expr"
   ]
  },
  {
   "cell_type": "code",
   "execution_count": 222,
   "metadata": {},
   "outputs": [
    {
     "data": {
      "text/html": [
       "<strong id=\"set_12345_subset_eq_set_1234567\">set_12345_subset_eq_set_1234567:</strong> <span style=\"font-size:20px;\"> <a class=\"ProveItLink\" href=\"../__pv_it/demonstrations/bb3306af15de32a29dd6e7661ff1da50e4fccfa50/proof.ipynb\" style=\"text-decoration: none\">&nbsp;&#x22A2;&nbsp;&nbsp;</a><a class=\"ProveItLink\" href=\"../__pv_it/demonstrations/1308548f5341d03a9c75a83573288bc0581404be0/expr.ipynb\"><img src=\"data:image/png;base64,iVBORw0KGgoAAAANSUhEUgAAARsAAAAVBAMAAACEflfWAAAAMFBMVEX///9ERETMzMxUVFSYmJgQ\n",
       "EBDc3NxmZmYiIiJ2dnaqqqoyMjKIiIi6urru7u4AAAB85a56AAAAAXRSTlMAQObYZgAAAAlwSFlz\n",
       "AAAOxAAADsQBlSsOGwAAA71JREFUSMellktoE0Ecxr+8Nt002QZ7UBFrQUE9GRq1apUGBC+KVKwg\n",
       "gjaitYpCWypsoagRFaMHjUrRomhOghcbrQfBFgNSUQQtePBkCYjiQWl9a2sTZ+ex75ZI97DzMY/v\n",
       "/5vZ/8wsAOUt/ueRbrvVfh7BLB/h+2K07CG1UJJYXONsCA8VyvXwAh/sJFu1N/MNFbU+F0SLeq+W\n",
       "qUNXF+r9l/Ky5VGahK12xujXaJYJpLaeOXCYeDtYGZh8KIL19bFYoVKp9IP7yingXU+R99gLeYoK\n",
       "pQP9WWF1ipdnft8k72tiSeal02lmSKqU+sccR4ri1ojDpCLGy5ZzvN/hEV+KCnmuqp7nvhoOwgJn\n",
       "NbCDxZrAWE7EFTgxEZtOdzCprw6tesXD+JIINDlMnnEcnz5oEJ4owyFT6HDFaSmgkUaJ7EaVcFoy\n",
       "4Ibz0aCx4gSK8P2EzcS72Y4TKuqK1brgrAEaa0VCJLjIuOJswDQ45BP4vsJmIlfacTxNJoPL7jjk\n",
       "ucjLyGnxrZICZ+XzOgMnNx2OliDjdpOnOs6WK2y+gfs3jul7KypMgjkrjvcvL5/U8Zr9EDg1aCc5\n",
       "OszaYyacHhvOirzNREoIHE9BYpul6gECIs99WupT39aEFadCDyM2RUbHIWZkLdtpvWTCkZptOKdg\n",
       "M5FRafSfR99j4wju4TWt2kvz3TcEK06nrgKs0p804QRJjioNNETKoGkYseIEo3aTTWacE3QTjKXg\n",
       "n+I11+mxQHy9nQULjp+P8tbCM0HVEQgcTw5BkqMynQGOGquztMaKsxE2Eymv4ywgODR5yJ7zf+cd\n",
       "T9IV1Hw9MQvOHUiUvaoocF7H4z/WspmSLTPOj2Cg0nRNVVtwQhkcgMUkEo83bs/Qup1k74rvLlZH\n",
       "+aYf7frOUuh8MggXNBWIaevMA2wHVeS4CpDP0Ms94qPOnUUHLAdeUmU2IVphmYhtVIVI7jSxxsgv\n",
       "7d2rb3SZpAQ9Pw+qajdV/gQ5MpRJFu0LqCJH53DBuCQil8yXBHArybudVdUUVWaTqiiL0IbwHqbm\n",
       "432WNYb+wHzu+FZNrkSFdrNdLJUmmXqjktsvTeE7S+uZaus6brqzbOdOvGUgQbtVkBsxxwYYJsFF\n",
       "3/LUV1LrCyyCrNbxRmmXBYc9d+FQoYJTTYcz7QBDzRjBjpOBQ8lwqhlx3AbIKCsCMwmLq0PJw6E+\n",
       "wanYEQx0p9N67gzPNOATyorAfKUJcTUZ/3a6yrsopdm5Ou3ZGQbkUVYE7tu27v/+aa9kXSq7srP+\n",
       "V9Z8/wFZjED321BJigAAAABJRU5ErkJggg==\n",
       "\" style=\"display:inline;vertical-align:middle;\" /></a></span><br>"
      ],
      "text/plain": [
       "<IPython.core.display.HTML object>"
      ]
     },
     "metadata": {},
     "output_type": "display_data"
    }
   ],
   "source": [
    "# establish a related proper subset judgement:\n",
    "set_12345_subset_eq_set_1234567 = set_1234567.deduce_enum_subset_eq(subset=set_12345)"
   ]
  },
  {
   "cell_type": "code",
   "execution_count": 223,
   "metadata": {},
   "outputs": [
    {
     "data": {
      "text/html": [
       "<strong id=\"set_1234567_superset_eq_set_12345\">set_1234567_superset_eq_set_12345:</strong> <span style=\"font-size:20px;\"> <a class=\"ProveItLink\" href=\"../__pv_it/demonstrations/bb3306af15de32a29dd6e7661ff1da50e4fccfa50/proof.ipynb\" style=\"text-decoration: none\">&nbsp;&#x22A2;&nbsp;&nbsp;</a><a class=\"ProveItLink\" href=\"../__pv_it/demonstrations/d16ebbe29a2067057c7189f826d0bb4087acb44e0/expr.ipynb\"><img src=\"data:image/png;base64,iVBORw0KGgoAAAANSUhEUgAAARsAAAAVBAMAAACEflfWAAAAMFBMVEX///9ERETMzMxUVFSYmJgQ\n",
       "EBDc3NxmZmYiIiJ2dnaqqqoyMjKIiIi6urru7u4AAAB85a56AAAAAXRSTlMAQObYZgAAAAlwSFlz\n",
       "AAAOxAAADsQBlSsOGwAAA3FJREFUSMelll9IFEEcx7936ule52pE0UPZUUEFPZhn/wvvofeE6sWI\n",
       "OykxQ9BD4iIphAoOgryKMAtqn4JePEvooZCEkIgeFCLspVqQKCiwokLuym13/u3s7nQkzsPOl9n5\n",
       "feY7szO/WQD6Wyy1nEorGhfJjdyj9ct3/x0Sh+4f+IRpP8LbzGDnxXI3NDgyuuDwrnCP2QdxqrqG\n",
       "1orum1idepJj42rD16goWJbVilBjYAjCxWbTz40MZ6bV3BUEPADM9i+wF+3Q/tCl7kXB4GEXWH1p\n",
       "/g5jjmMXVVez2TMGgdjlUy6XW8P6Ok36zqemj4uPiBbV3Js8DDFuZwdwhIhYEXOjrDHGw8QaLJvA\n",
       "cqryQCe4Had0P3TtAFOmj4spQy+puQo7KRMtZHvUHkMdt7NxzG+nIPaKQVolO/icVtgRXLyeRknN\n",
       "VdixP0FLnI+ZZCIfsLNS2iRa3GsnPKqwI3OjP9RchR27DLK69iJf0zQPa37RRMXRLc/FfmyH1w4e\n",
       "KexIXLxJqrnETvWo1074N6ufNfGzDB7WgB7qopREGw/Y78S3SnZuQXAlO5yLrYm4mjvpyI6k106N\n",
       "u0EMvlvHxNsQmbNuAaf5EXacRIqSnXMQXMmOy+Uny8/tscc7Pg6vnYxQVbSxMi2FVf8iduaBg+xr\n",
       "aWQVZh+7dkgD5Up2XK6zr1Vcfa+BcMb02KlkkwjHEaKz6AYPC42i+jv9WLYdtgNq6p3n7Wk3/xEC\n",
       "5bp2OBfrgXWGkqs5MyAJ1bVzHxFyIOsWuJ1XicTP3XS5BlDxlajV7urMNYoUTAtLxDRRCzucC8tk\n",
       "dgJckj3EydLJpPKImY6qanQ+FoMdAlGa3VxPVMHeOzQA73udN2Ir6zOr/GnQlLkOK0WVj4sbIkyz\n",
       "Px1JwiftnE9UZdLOOzx/fgNRkV5MmkSF8noby9qFvHvQ7Uvi8lnIdu6maajg4oCTd1jCl7lS3qnY\n",
       "XmpGjXONDlpWiaqZrH2F0hszY+2jqrPvPGsb6ovTbugw/HlHspNIjSVJgMutzdpXKA31cqU0SMoI\n",
       "AipqllMj3rEVdv4ZoBjBbyePgNJQTuX/z44qQDECtSMSqj6BgPqCMsrtxlIw+cHI5eiRdhO1IkA1\n",
       "AvohJ9SYaHfVRDnldsOHZPBns1gmQDWCfphUnXuW/K/cpUIskhu5bp+Jv5YeTvBbG6edAAAAAElF\n",
       "TkSuQmCC\n",
       "\" style=\"display:inline;vertical-align:middle;\" /></a></span><br>"
      ],
      "text/plain": [
       "<IPython.core.display.HTML object>"
      ]
     },
     "metadata": {},
     "output_type": "display_data"
    }
   ],
   "source": [
    "set_1234567_superset_eq_set_12345 = set_12345_subset_eq_set_1234567.reversed().prove()"
   ]
  },
  {
   "cell_type": "code",
   "execution_count": 224,
   "metadata": {},
   "outputs": [
    {
     "data": {
      "text/html": [
       "<span style=\"font-size:20px;\"> <a class=\"ProveItLink\" href=\"../__pv_it/demonstrations/09f452d50fce1f23acff8c33408d769698434c440/proof.ipynb\" style=\"text-decoration: none\">&nbsp;&#x22A2;&nbsp;&nbsp;</a><a class=\"ProveItLink\" href=\"../__pv_it/demonstrations/a349e521986261174b8f972a1dd9698110a220850/expr.ipynb\"><img src=\"data:image/png;base64,iVBORw0KGgoAAAANSUhEUgAAAOEAAAAVBAMAAABCnpRGAAAAMFBMVEX///9ERETMzMxUVFSYmJgQ\n",
       "EBDc3NxmZmYiIiJ2dnaqqqoyMjKIiIi6urru7u4AAAB85a56AAAAAXRSTlMAQObYZgAAAAlwSFlz\n",
       "AAAOxAAADsQBlSsOGwAAAyhJREFUSMelVs9rE0EU/pImm25Nt4WePLQGFRT0UBvxV5Xm4B9QqB41\n",
       "KbbUaqENPUQQJaJCTjYiokXRBUHwYqIVBbVYkB6khwZE9KIuSPFiaRUVabXr/Nwfs2sROpCZj/de\n",
       "3jfzZt6XADDeY63jRC7MOl9TDNpdvs58+O/MKRhq7j6LTNEdVjA4ORkwbmqjc8MKnbcKr1Z4kBJo\n",
       "PO/scYtYs89KMsv4OI+r2LbdjUh7kLFiefJi8FormVso1IuksLtfCE8v9D8cfUbDkvzyebFe/HVL\n",
       "oJO1uiIDlwuFUyZLQoZRKpXOTYmQ6968xggqJrNBBM8Kzy7gMEezprEs6yMZ3ZM8R6SZgTIwIJPw\n",
       "2sykHEY3b3IJC9VQxqyFLn5Vb2qQjJsnVEZ+FXSYzOphhPE4hLHxCJrCGfcAXSmZ9rsA5QBjpNtl\n",
       "0FN+RmwLYaT3mgllJGNMgncZUZGcZNz5qoOD+MObZ2RYLxTGdbkwxsYL0pao+j3R3wJsT4vD9kEy\n",
       "tmGYv9+mR4ibwniAbspzZujcc9qXN/qSbnaawv6Mn7HevSzxVssOIyknP8zCIhJHxUuhZNqShzHB\n",
       "dqUdUqtKNjJMPscm4ffk3a9mmTGW8zAmfnLGImKii3RWo09PPVVlhJ01hTFOXpvRaSKat3yemDzi\n",
       "RmADK88QJGOkisQ3XtUqYuJd1bMuueFRtDtcNdq8eaMpREgddHo+LhcO4z1o/OJtSzC+Tqd/7OW7\n",
       "LKJuURZXnnGh3dctJPklvrZ48zatMEamQ+5bZQpZRtIyqKWHVtXg8T3cqRPSZoYayD12M4SPI9Tj\n",
       "vpz5fE7pDhoWb2dVvep2x+0cmMQcJ6LF1AEHaT8yBHzlTm0E0xZXovWYE5pUKbvdQVXuiQkPo8wb\n",
       "yyj9mM5OZEBVesy2l1FP69JYIErOEPL2fubEwOhZcKQXOgTqN9V+9DA6efG20AqfArBucN7VfQSQ\n",
       "6wxD/2JUwlRG3XGUg8h1hqLVGHXF5srFF0eLp4LIcYYiLlzsHksl8UszHQzjOuTKhZM9iSCaWhXN\n",
       "ZYJnHDYDYQbTIQzsW/P/nMGwFNqoqVquEMtfuH4afQjY5fUAAAAASUVORK5CYII=\n",
       "\" style=\"display:inline;vertical-align:middle;\" /></a></span>"
      ],
      "text/plain": [
       "|- {1, 2, 3, 4, 5, 6, 7} superset_eq {1, 3}"
      ]
     },
     "metadata": {},
     "output_type": "display_data"
    }
   ],
   "source": [
    "# use transitivity to go from largest set to smallest set\n",
    "# (even though using expressions, the expressions have to be true or provable)\n",
    "set_1234567_superset_eq_set_12345.apply_transitivity(set_12345_superset_eq_set_13.expr)"
   ]
  },
  {
   "cell_type": "code",
   "execution_count": 225,
   "metadata": {},
   "outputs": [
    {
     "data": {
      "text/html": [
       "<strong id=\"A_superset_eq_B\">A_superset_eq_B:</strong> <a class=\"ProveItLink\" href=\"../__pv_it/demonstrations/e8df50723d896cb4b33a5a2d005764d6a20e4c160/expr.ipynb\"><img src=\"data:image/png;base64,iVBORw0KGgoAAAANSUhEUgAAADsAAAASBAMAAAAXqLt+AAAAMFBMVEX///8QEBAiIiLu7u5ERES6\n",
       "urqYmJiIiIjMzMx2dnZUVFRmZmaqqqoyMjLc3NwAAABb1yYoAAAAAXRSTlMAQObYZgAAAAlwSFlz\n",
       "AAAOxAAADsQBlSsOGwAAAP1JREFUKM9jYACBtwx4wX0METb/X6vWekDYPP/BlJGSkpI7TJ7RgYFh\n",
       "fQOYyb3+AUz0+Q0o430BA0P8BjBz3vwGuKm2UJX5QKH8AhCLr6D+AFya4wKEXg/EF8FKuRnOJyAc\n",
       "dQ9CiTAwWGmAWTEM/RMQ0nMghnwpr7oGEdjA8H4BQnormGT/x8BwEGwmu/fu9Q4IaYjdLAIMDJw/\n",
       "QCxzBgZ+BbgsD8QgfiDF9h1iNgOTAFy6yQBM9QMN5voKZLACGbwfoJLM0X4QRj3QT/0gex6CbPoH\n",
       "DVTdPVB1F4H6ZIEGmfy/zMDj/3cCaows+b9q1ZUDDFQEoAhVUlqALAQArX5BIg1OZRUAAAAASUVO\n",
       "RK5CYII=\n",
       "\" style=\"display:inline;vertical-align:middle;\" /></a><br>"
      ],
      "text/plain": [
       "<IPython.core.display.HTML object>"
      ]
     },
     "metadata": {},
     "output_type": "display_data"
    },
    {
     "data": {
      "text/html": [
       "<strong id=\"B_superset_eq_C\">B_superset_eq_C:</strong> <a class=\"ProveItLink\" href=\"../__pv_it/demonstrations/012e3dd19f66fc5bd8ae51ec3f66dd1e4a960ca50/expr.ipynb\"><img src=\"data:image/png;base64,iVBORw0KGgoAAAANSUhEUgAAAD0AAAARBAMAAACcIrmXAAAAMFBMVEX///92dnaqqqoiIiLu7u5m\n",
       "Zma6urqIiIjc3NwQEBDMzMwyMjJUVFRERESYmJgAAAAeMT9/AAAAAXRSTlMAQObYZgAAAAlwSFlz\n",
       "AAAOxAAADsQBlSsOGwAAAP1JREFUKM9jYGB4+//Mmb0LGNABS+2ZcxwCINZcBgaeXyCGs7Gx8XWY\n",
       "fGUJA1PwAyCD4zsDA9tXmHD7LgjtawUk4huABB9QL993uLneDWBqpwOQyASxeD4wMHDPgMtzbQCR\n",
       "jJ9A5FIQwXmBgeUwkvt2gIh+AxDpBSLWXy8//QDJ4UIgQr4Azq9vYGCahyQfBiLsG+D8myDlSOaD\n",
       "7Z8PZoLcyPAHiN8jjGM6ANYPZoJ0cf0DEucT4PKLwZrAPmcEsdh/ANX8hodq6g0w3Q8yUATE4p4A\n",
       "DIctDNDwtQ6C2gI0NRFkEs/9P2dOX8KIHQbXO0cTGKgMQPFrbHwAWQgA7jxA9T9LNDYAAAAASUVO\n",
       "RK5CYII=\n",
       "\" style=\"display:inline;vertical-align:middle;\" /></a><br>"
      ],
      "text/plain": [
       "<IPython.core.display.HTML object>"
      ]
     },
     "metadata": {},
     "output_type": "display_data"
    },
    {
     "data": {
      "text/html": [
       "<strong id=\"B_equals_D\">B_equals_D:</strong> <a class=\"ProveItLink\" href=\"../__pv_it/demonstrations/090fd499764915102913cc6c644a154647fb570e0/expr.ipynb\"><img src=\"data:image/png;base64,iVBORw0KGgoAAAANSUhEUgAAAD0AAAAOBAMAAABuognZAAAAMFBMVEX///92dnaqqqoiIiLu7u5m\n",
       "Zma6urqIiIjc3NwQEBDMzMwyMjJUVFRERESYmJgAAAAeMT9/AAAAAXRSTlMAQObYZgAAAAlwSFlz\n",
       "AAAOxAAADsQBlSsOGwAAANVJREFUGNNjYGB4+//Mmb0LGNBA7f87Z+80gJlzGRh4fqHLM/xmYOD7\n",
       "BGJwfGdgYPuKLs0FFGWIBLH4gHr5vqPLs4NMzH8AJHg+MDBwz0CX5wWKMvQLAAnOCwwshzHcx38B\n",
       "SKw/ACKul58GmcPAagwGB8Dy6wuAxHuQ/voGBqZ5GM6vB5l4PgFI3ARieQzz74OInyDiD8igAnT5\n",
       "vyCf/QN59B/MIGT7wd73BLmR/QeQ9xur92+DWNwTGBgyt6DLcwO9nxwACp37f86cvoQuDRK9GwFk\n",
       "AAARH0W/fFfRVAAAAABJRU5ErkJggg==\n",
       "\" style=\"display:inline;vertical-align:middle;\" /></a><br>"
      ],
      "text/plain": [
       "<IPython.core.display.HTML object>"
      ]
     },
     "metadata": {},
     "output_type": "display_data"
    },
    {
     "data": {
      "text/html": [
       "<strong id=\"C_properSubset_B\">C_properSubset_B:</strong> <a class=\"ProveItLink\" href=\"../__pv_it/demonstrations/eb0d95dcce37567273c35e73201be05ac3b2fcb50/expr.ipynb\"><img src=\"data:image/png;base64,iVBORw0KGgoAAAANSUhEUgAAADsAAAAPBAMAAACo4Ko7AAAAMFBMVEX///+6uroyMjLMzMwiIiJm\n",
       "ZmaqqqoQEBB2dnbc3NyYmJhUVFRERESIiIju7u4AAABBACUiAAAAAXRSTlMAQObYZgAAAAlwSFlz\n",
       "AAAOxAAADsQBlSsOGwAAAPhJREFUGNNjYGDgu7N7F2cDAyrgOv9796bDINb1ewxsIQvQpBnYDzAw\n",
       "7DdgYHjjDOTET0CXnn+BgUE+gIFB/QGQIw4Ru+Pi4uIMYa4H6lx/gYHjG4hjChYy6kTo3g/E6hMY\n",
       "5juAOI9BBJ8nkuE1DAyvgQb1X4CLcAsgZJn/3L2tBaT9EY5iQtLM+5OBIR3onXowD+Q8BmskaZ4C\n",
       "BgaOz0DdIA6bAYicjSTNvwEYNH+hPuYAC7EgSdsDDeb+CPE+Qx9YiBUp6O4DddkrAM39xcAg8QAi\n",
       "poiQVmdgYCwCCT89vRXmoTcboeoY9vzfvVsnAT2gJY7AAxUCAANHPksgSLqAAAAAAElFTkSuQmCC\n",
       "\" style=\"display:inline;vertical-align:middle;\" /></a><br>"
      ],
      "text/plain": [
       "<IPython.core.display.HTML object>"
      ]
     },
     "metadata": {},
     "output_type": "display_data"
    },
    {
     "data": {
      "text/html": [
       "<strong id=\"D_subset_eq_B\">D_subset_eq_B:</strong> <a class=\"ProveItLink\" href=\"../__pv_it/demonstrations/45ea92ce7866b520d4480b1871a4ca25db8112d90/expr.ipynb\"><img src=\"data:image/png;base64,iVBORw0KGgoAAAANSUhEUgAAAD0AAAARBAMAAACcIrmXAAAAMFBMVEX///8iIiLu7u52dna6uroQ\n",
       "EBBmZmbMzMyqqqqYmJgyMjLc3NxUVFRERESIiIgAAACK51z6AAAAAXRSTlMAQObYZgAAAAlwSFlz\n",
       "AAAOxAAADsQBlSsOGwAAAQhJREFUKM9jYGB4+//O2TsbGNAA5/0/Z05dBzN/AXk/IKJvBQUFxSFM\n",
       "1gsMDOcLgAz2f0AiFSxW9RphwP4HDAz+CUAG33cg4T8BSDBJI1kwH6h3PlANA+8HkGoDIMHjgCR/\n",
       "HoiXgpzFD7SIof4AkOBCdmAsA4MO2Cn1IEPmg/TXIEmz/333ZiWY9R7kyPMgo/cgyfP9ZmBoBTmK\n",
       "4T6I+AoiGJHkeQMYGJhBLmf4CwqNnyAW2wSEPD/QQZz/YN5XvQAWXIKQrweq5fkC8/4tiKDOEQWY\n",
       "/Hug1+oXgDwF9L5jAlTU+SIsfJcyMLBEAVXzAOPhbjZ67DCc/X/mzNoGBuoCNkFBRPxCAAADgEn8\n",
       "dySF8AAAAABJRU5ErkJggg==\n",
       "\" style=\"display:inline;vertical-align:middle;\" /></a><br>"
      ],
      "text/plain": [
       "<IPython.core.display.HTML object>"
      ]
     },
     "metadata": {},
     "output_type": "display_data"
    }
   ],
   "source": [
    "# this process can work more generally:\n",
    "A_superset_eq_B, B_superset_eq_C, B_equals_D, C_properSubset_B, D_subset_eq_B = (\n",
    "        superset_eq(A, B), superset_eq(B, C), Equals(B, D), ProperSubset(C, B), SubsetEq(D, B))"
   ]
  },
  {
   "cell_type": "code",
   "execution_count": 226,
   "metadata": {},
   "outputs": [
    {
     "data": {
      "text/html": [
       "<span style=\"font-size:20px;\"><a class=\"ProveItLink\" href=\"../__pv_it/demonstrations/012e3dd19f66fc5bd8ae51ec3f66dd1e4a960ca50/expr.ipynb\"><img src=\"data:image/png;base64,iVBORw0KGgoAAAANSUhEUgAAAD0AAAARBAMAAACcIrmXAAAAMFBMVEX///92dnaqqqoiIiLu7u5m\n",
       "Zma6urqIiIjc3NwQEBDMzMwyMjJUVFRERESYmJgAAAAeMT9/AAAAAXRSTlMAQObYZgAAAAlwSFlz\n",
       "AAAOxAAADsQBlSsOGwAAAP1JREFUKM9jYGB4+//Mmb0LGNABS+2ZcxwCINZcBgaeXyCGs7Gx8XWY\n",
       "fGUJA1PwAyCD4zsDA9tXmHD7LgjtawUk4huABB9QL993uLneDWBqpwOQyASxeD4wMHDPgMtzbQCR\n",
       "jJ9A5FIQwXmBgeUwkvt2gIh+AxDpBSLWXy8//QDJ4UIgQr4Azq9vYGCahyQfBiLsG+D8myDlSOaD\n",
       "7Z8PZoLcyPAHiN8jjGM6ANYPZoJ0cf0DEucT4PKLwZrAPmcEsdh/ANX8hodq6g0w3Q8yUATE4p4A\n",
       "DIctDNDwtQ6C2gI0NRFkEs/9P2dOX8KIHQbXO0cTGKgMQPFrbHwAWQgA7jxA9T9LNDYAAAAASUVO\n",
       "RK5CYII=\n",
       "\" style=\"display:inline;vertical-align:middle;\" /></a>, <a class=\"ProveItLink\" href=\"../__pv_it/demonstrations/e8df50723d896cb4b33a5a2d005764d6a20e4c160/expr.ipynb\"><img src=\"data:image/png;base64,iVBORw0KGgoAAAANSUhEUgAAADsAAAASBAMAAAAXqLt+AAAAMFBMVEX///8QEBAiIiLu7u5ERES6\n",
       "urqYmJiIiIjMzMx2dnZUVFRmZmaqqqoyMjLc3NwAAABb1yYoAAAAAXRSTlMAQObYZgAAAAlwSFlz\n",
       "AAAOxAAADsQBlSsOGwAAAP1JREFUKM9jYACBtwx4wX0METb/X6vWekDYPP/BlJGSkpI7TJ7RgYFh\n",
       "fQOYyb3+AUz0+Q0o430BA0P8BjBz3vwGuKm2UJX5QKH8AhCLr6D+AFya4wKEXg/EF8FKuRnOJyAc\n",
       "dQ9CiTAwWGmAWTEM/RMQ0nMghnwpr7oGEdjA8H4BQnormGT/x8BwEGwmu/fu9Q4IaYjdLAIMDJw/\n",
       "QCxzBgZ+BbgsD8QgfiDF9h1iNgOTAFy6yQBM9QMN5voKZLACGbwfoJLM0X4QRj3QT/0gex6CbPoH\n",
       "DVTdPVB1F4H6ZIEGmfy/zMDj/3cCaows+b9q1ZUDDFQEoAhVUlqALAQArX5BIg1OZRUAAAAASUVO\n",
       "RK5CYII=\n",
       "\" style=\"display:inline;vertical-align:middle;\" /></a> <a class=\"ProveItLink\" href=\"../__pv_it/demonstrations/2db3c62e4e5b024d012e9c7763e65bdca610a23e0/proof.ipynb\" style=\"text-decoration: none\">&nbsp;&#x22A2;&nbsp;&nbsp;</a><a class=\"ProveItLink\" href=\"../__pv_it/demonstrations/a04df03091346fb2b0880490e9fc387c77e84fbf0/expr.ipynb\"><img src=\"data:image/png;base64,iVBORw0KGgoAAAANSUhEUgAAADsAAAASBAMAAAAXqLt+AAAAMFBMVEX///8QEBAiIiLu7u5ERES6\n",
       "urqYmJiIiIjMzMx2dnZUVFRmZmaqqqoyMjLc3NwAAABb1yYoAAAAAXRSTlMAQObYZgAAAAlwSFlz\n",
       "AAAOxAAADsQBlSsOGwAAAO1JREFUKM9jYACBtwx4wX1MIeaSVcv4JoCZPP/BlJGSkpI7TLqwmIFn\n",
       "UwKYyb3+AUz0+Q0IbaIBJPZDhOfNb4AbagsRumgAJALBTL6C+gNwaY4LIJLzD4jshpjNcD4B4aZ7\n",
       "IOK9Aoi0AAvEMPRPQEjPARHzCxACGxjeL0DwtoIIfbhbGdi9d693QEiD7ZYHM0HOYzBnYOBXgMvy\n",
       "gA3SBzMbIGYzMAnApZvAWsA+5gSxWIGu5v0AC8poPzD9HuS0ySDWQyBm+QcNVN09UCu+MTBEgswx\n",
       "+X+Zgcf/7wS0GLH2Wh3AQE0AilAlpQXIQgCbHjgG5Z78+wAAAABJRU5ErkJggg==\n",
       "\" style=\"display:inline;vertical-align:middle;\" /></a></span>"
      ],
      "text/plain": [
       "{B superset_eq C, A superset_eq B} |- A superset_eq C"
      ]
     },
     "metadata": {},
     "output_type": "display_data"
    }
   ],
   "source": [
    "A_superset_eq_B.apply_transitivity(\n",
    "        B_superset_eq_C, assumptions=[A_superset_eq_B, B_superset_eq_C])"
   ]
  },
  {
   "cell_type": "code",
   "execution_count": 227,
   "metadata": {},
   "outputs": [
    {
     "data": {
      "text/html": [
       "<span style=\"font-size:20px;\"><a class=\"ProveItLink\" href=\"../__pv_it/demonstrations/e8df50723d896cb4b33a5a2d005764d6a20e4c160/expr.ipynb\"><img src=\"data:image/png;base64,iVBORw0KGgoAAAANSUhEUgAAADsAAAASBAMAAAAXqLt+AAAAMFBMVEX///8QEBAiIiLu7u5ERES6\n",
       "urqYmJiIiIjMzMx2dnZUVFRmZmaqqqoyMjLc3NwAAABb1yYoAAAAAXRSTlMAQObYZgAAAAlwSFlz\n",
       "AAAOxAAADsQBlSsOGwAAAP1JREFUKM9jYACBtwx4wX0METb/X6vWekDYPP/BlJGSkpI7TJ7RgYFh\n",
       "fQOYyb3+AUz0+Q0o430BA0P8BjBz3vwGuKm2UJX5QKH8AhCLr6D+AFya4wKEXg/EF8FKuRnOJyAc\n",
       "dQ9CiTAwWGmAWTEM/RMQ0nMghnwpr7oGEdjA8H4BQnormGT/x8BwEGwmu/fu9Q4IaYjdLAIMDJw/\n",
       "QCxzBgZ+BbgsD8QgfiDF9h1iNgOTAFy6yQBM9QMN5voKZLACGbwfoJLM0X4QRj3QT/0gex6CbPoH\n",
       "DVTdPVB1F4H6ZIEGmfy/zMDj/3cCaows+b9q1ZUDDFQEoAhVUlqALAQArX5BIg1OZRUAAAAASUVO\n",
       "RK5CYII=\n",
       "\" style=\"display:inline;vertical-align:middle;\" /></a>, <a class=\"ProveItLink\" href=\"../__pv_it/demonstrations/090fd499764915102913cc6c644a154647fb570e0/expr.ipynb\"><img src=\"data:image/png;base64,iVBORw0KGgoAAAANSUhEUgAAAD0AAAAOBAMAAABuognZAAAAMFBMVEX///92dnaqqqoiIiLu7u5m\n",
       "Zma6urqIiIjc3NwQEBDMzMwyMjJUVFRERESYmJgAAAAeMT9/AAAAAXRSTlMAQObYZgAAAAlwSFlz\n",
       "AAAOxAAADsQBlSsOGwAAANVJREFUGNNjYGB4+//Mmb0LGNBA7f87Z+80gJlzGRh4fqHLM/xmYOD7\n",
       "BGJwfGdgYPuKLs0FFGWIBLH4gHr5vqPLs4NMzH8AJHg+MDBwz0CX5wWKMvQLAAnOCwwshzHcx38B\n",
       "SKw/ACKul58GmcPAagwGB8Dy6wuAxHuQ/voGBqZ5GM6vB5l4PgFI3ARieQzz74OInyDiD8igAnT5\n",
       "vyCf/QN59B/MIGT7wd73BLmR/QeQ9xur92+DWNwTGBgyt6DLcwO9nxwACp37f86cvoQuDRK9GwFk\n",
       "AAARH0W/fFfRVAAAAABJRU5ErkJggg==\n",
       "\" style=\"display:inline;vertical-align:middle;\" /></a> <a class=\"ProveItLink\" href=\"../__pv_it/demonstrations/40b6f13f7b9f970f294f91c2c7a8bdd8e8af88650/proof.ipynb\" style=\"text-decoration: none\">&nbsp;&#x22A2;&nbsp;&nbsp;</a><a class=\"ProveItLink\" href=\"../__pv_it/demonstrations/848f615683a0a666028bf54349cdecbc49f74ca10/expr.ipynb\"><img src=\"data:image/png;base64,iVBORw0KGgoAAAANSUhEUgAAADwAAAASBAMAAAD1dKAHAAAAMFBMVEX///8QEBAiIiLu7u5ERES6\n",
       "urqYmJiIiIjMzMx2dnZUVFRmZmaqqqoyMjLc3NwAAABb1yYoAAAAAXRSTlMAQObYZgAAAAlwSFlz\n",
       "AAAOxAAADsQBlSsOGwAAAPNJREFUKM9jYACBtwx4wX0MEXb/L6tc1kHYPP/BFLOSkpJKAVSe/wID\n",
       "Q/4BMJN7/QOYLr7aBgijH6iOWwDMnDe/AW4q8z0IXQ8UYv0G1lFQfwBhay+E8gdJ/ASbzXA+ASHN\n",
       "C7HoCxBz/AKxYhj6JyCkOcEmcXwHEmxg3RsY3i9ASHMHgD32A0hwfQWxvHevd0AyHEyyfAB5DuRy\n",
       "cyCtgJA+BfE2SEN+AthsBiYBuCyHMtzbzCJABitQCe8HmKzplgdwb7MAA47hIcimf7BAvX0AHgus\n",
       "2kDa5P9lBh7/vxNQY2TJ/1VLvB8wUBGA7FZS0kIWAgBAYjv5pywHvQAAAABJRU5ErkJggg==\n",
       "\" style=\"display:inline;vertical-align:middle;\" /></a></span>"
      ],
      "text/plain": [
       "{A superset_eq B, B = D} |- A superset_eq D"
      ]
     },
     "metadata": {},
     "output_type": "display_data"
    }
   ],
   "source": [
    "A_superset_eq_B.apply_transitivity(\n",
    "        B_equals_D, assumptions=[A_superset_eq_B, B_equals_D])"
   ]
  },
  {
   "cell_type": "code",
   "execution_count": 228,
   "metadata": {},
   "outputs": [
    {
     "data": {
      "text/html": [
       "<span style=\"font-size:20px;\"><a class=\"ProveItLink\" href=\"../__pv_it/demonstrations/e8df50723d896cb4b33a5a2d005764d6a20e4c160/expr.ipynb\"><img src=\"data:image/png;base64,iVBORw0KGgoAAAANSUhEUgAAADsAAAASBAMAAAAXqLt+AAAAMFBMVEX///8QEBAiIiLu7u5ERES6\n",
       "urqYmJiIiIjMzMx2dnZUVFRmZmaqqqoyMjLc3NwAAABb1yYoAAAAAXRSTlMAQObYZgAAAAlwSFlz\n",
       "AAAOxAAADsQBlSsOGwAAAP1JREFUKM9jYACBtwx4wX0METb/X6vWekDYPP/BlJGSkpI7TJ7RgYFh\n",
       "fQOYyb3+AUz0+Q0o430BA0P8BjBz3vwGuKm2UJX5QKH8AhCLr6D+AFya4wKEXg/EF8FKuRnOJyAc\n",
       "dQ9CiTAwWGmAWTEM/RMQ0nMghnwpr7oGEdjA8H4BQnormGT/x8BwEGwmu/fu9Q4IaYjdLAIMDJw/\n",
       "QCxzBgZ+BbgsD8QgfiDF9h1iNgOTAFy6yQBM9QMN5voKZLACGbwfoJLM0X4QRj3QT/0gex6CbPoH\n",
       "DVTdPVB1F4H6ZIEGmfy/zMDj/3cCaows+b9q1ZUDDFQEoAhVUlqALAQArX5BIg1OZRUAAAAASUVO\n",
       "RK5CYII=\n",
       "\" style=\"display:inline;vertical-align:middle;\" /></a>, <a class=\"ProveItLink\" href=\"../__pv_it/demonstrations/4fa9be8eb96f1eeb2dee05b1dc669bb968f6792f0/expr.ipynb\"><img src=\"data:image/png;base64,iVBORw0KGgoAAAANSUhEUgAAAD0AAAAOBAMAAABuognZAAAAMFBMVEX///8iIiLu7u52dna6uroQ\n",
       "EBBmZmbMzMyqqqqYmJgyMjLc3NxUVFRERESIiIgAAACK51z6AAAAAXRSTlMAQObYZgAAAAlwSFlz\n",
       "AAAOxAAADsQBlSsOGwAAANtJREFUGNNjYGB4+//O2TsbGNAA5/0/Z05dBzN/AXk/0OUZWC8wMJwv\n",
       "ADLY/wGJVAz5/Q8YGPwTgAy+70DCfwK6/Hyg3vlANQy8H0CqDdDlzwPxUpCz+IEWMdQfQJePZWDQ\n",
       "EQcx6kGGzAfpTxQEARmwNPvfd29WglnvQY4874Cmne83A0Mr2FH3QcRXdON5AxgYmEEuZ/gLCo2f\n",
       "6PL8QAdx/oN5XxXkRhT764Fm83yBef8WRvC8B3qtfgGQwQX0vmMChvxSBgaWKAWgGcB4uJuNIX32\n",
       "/5kzaxsYGADPhUNP/6qK8QAAAABJRU5ErkJggg==\n",
       "\" style=\"display:inline;vertical-align:middle;\" /></a> <a class=\"ProveItLink\" href=\"../__pv_it/demonstrations/c45beb5b394519f25cf43a7d2f6c0d96425e90c90/proof.ipynb\" style=\"text-decoration: none\">&nbsp;&#x22A2;&nbsp;&nbsp;</a><a class=\"ProveItLink\" href=\"../__pv_it/demonstrations/848f615683a0a666028bf54349cdecbc49f74ca10/expr.ipynb\"><img src=\"data:image/png;base64,iVBORw0KGgoAAAANSUhEUgAAADwAAAASBAMAAAD1dKAHAAAAMFBMVEX///8QEBAiIiLu7u5ERES6\n",
       "urqYmJiIiIjMzMx2dnZUVFRmZmaqqqoyMjLc3NwAAABb1yYoAAAAAXRSTlMAQObYZgAAAAlwSFlz\n",
       "AAAOxAAADsQBlSsOGwAAAPNJREFUKM9jYACBtwx4wX0MEXb/L6tc1kHYPP/BFLOSkpJKAVSe/wID\n",
       "Q/4BMJN7/QOYLr7aBgijH6iOWwDMnDe/AW4q8z0IXQ8UYv0G1lFQfwBhay+E8gdJ/ASbzXA+ASHN\n",
       "C7HoCxBz/AKxYhj6JyCkOcEmcXwHEmxg3RsY3i9ASHMHgD32A0hwfQWxvHevd0AyHEyyfAB5DuRy\n",
       "cyCtgJA+BfE2SEN+AthsBiYBuCyHMtzbzCJABitQCe8HmKzplgdwb7MAA47hIcimf7BAvX0AHgus\n",
       "2kDa5P9lBh7/vxNQY2TJ/1VLvB8wUBGA7FZS0kIWAgBAYjv5pywHvQAAAABJRU5ErkJggg==\n",
       "\" style=\"display:inline;vertical-align:middle;\" /></a></span>"
      ],
      "text/plain": [
       "{A superset_eq B, D = B} |- A superset_eq D"
      ]
     },
     "metadata": {},
     "output_type": "display_data"
    }
   ],
   "source": [
    "A_superset_eq_B.apply_transitivity(\n",
    "        D_equals_B, assumptions=[A_superset_eq_B, D_equals_B])"
   ]
  },
  {
   "cell_type": "code",
   "execution_count": 229,
   "metadata": {},
   "outputs": [
    {
     "data": {
      "text/html": [
       "<span style=\"font-size:20px;\"><a class=\"ProveItLink\" href=\"../__pv_it/demonstrations/eb0d95dcce37567273c35e73201be05ac3b2fcb50/expr.ipynb\"><img src=\"data:image/png;base64,iVBORw0KGgoAAAANSUhEUgAAADsAAAAPBAMAAACo4Ko7AAAAMFBMVEX///+6uroyMjLMzMwiIiJm\n",
       "ZmaqqqoQEBB2dnbc3NyYmJhUVFRERESIiIju7u4AAABBACUiAAAAAXRSTlMAQObYZgAAAAlwSFlz\n",
       "AAAOxAAADsQBlSsOGwAAAPhJREFUGNNjYGDgu7N7F2cDAyrgOv9796bDINb1ewxsIQvQpBnYDzAw\n",
       "7DdgYHjjDOTET0CXnn+BgUE+gIFB/QGQIw4Ru+Pi4uIMYa4H6lx/gYHjG4hjChYy6kTo3g/E6hMY\n",
       "5juAOI9BBJ8nkuE1DAyvgQb1X4CLcAsgZJn/3L2tBaT9EY5iQtLM+5OBIR3onXowD+Q8BmskaZ4C\n",
       "BgaOz0DdIA6bAYicjSTNvwEYNH+hPuYAC7EgSdsDDeb+CPE+Qx9YiBUp6O4DddkrAM39xcAg8QAi\n",
       "poiQVmdgYCwCCT89vRXmoTcboeoY9vzfvVsnAT2gJY7AAxUCAANHPksgSLqAAAAAAElFTkSuQmCC\n",
       "\" style=\"display:inline;vertical-align:middle;\" /></a>, <a class=\"ProveItLink\" href=\"../__pv_it/demonstrations/e8df50723d896cb4b33a5a2d005764d6a20e4c160/expr.ipynb\"><img src=\"data:image/png;base64,iVBORw0KGgoAAAANSUhEUgAAADsAAAASBAMAAAAXqLt+AAAAMFBMVEX///8QEBAiIiLu7u5ERES6\n",
       "urqYmJiIiIjMzMx2dnZUVFRmZmaqqqoyMjLc3NwAAABb1yYoAAAAAXRSTlMAQObYZgAAAAlwSFlz\n",
       "AAAOxAAADsQBlSsOGwAAAP1JREFUKM9jYACBtwx4wX0METb/X6vWekDYPP/BlJGSkpI7TJ7RgYFh\n",
       "fQOYyb3+AUz0+Q0o430BA0P8BjBz3vwGuKm2UJX5QKH8AhCLr6D+AFya4wKEXg/EF8FKuRnOJyAc\n",
       "dQ9CiTAwWGmAWTEM/RMQ0nMghnwpr7oGEdjA8H4BQnormGT/x8BwEGwmu/fu9Q4IaYjdLAIMDJw/\n",
       "QCxzBgZ+BbgsD8QgfiDF9h1iNgOTAFy6yQBM9QMN5voKZLACGbwfoJLM0X4QRj3QT/0gex6CbPoH\n",
       "DVTdPVB1F4H6ZIEGmfy/zMDj/3cCaows+b9q1ZUDDFQEoAhVUlqALAQArX5BIg1OZRUAAAAASUVO\n",
       "RK5CYII=\n",
       "\" style=\"display:inline;vertical-align:middle;\" /></a> <a class=\"ProveItLink\" href=\"../__pv_it/demonstrations/521d08983c9f76aca1275108434002d61301d5860/proof.ipynb\" style=\"text-decoration: none\">&nbsp;&#x22A2;&nbsp;&nbsp;</a><a class=\"ProveItLink\" href=\"../__pv_it/demonstrations/6303438384822c701bf07b6fd77e415f2fe2301f0/expr.ipynb\"><img src=\"data:image/png;base64,iVBORw0KGgoAAAANSUhEUgAAADsAAAAQBAMAAABaYBp1AAAAMFBMVEX///8QEBAiIiLu7u5ERES6\n",
       "urqYmJiIiIjMzMx2dnZUVFRmZmaqqqoyMjLc3NwAAABb1yYoAAAAAXRSTlMAQObYZgAAAAlwSFlz\n",
       "AAAOxAAADsQBlSsOGwAAAOdJREFUGNNjYACBtwx4wX1MIeaSVcv4JoCZPP8xpQuLGXg2JYCZ3Osf\n",
       "oMuaaACJ/RDhefMbQJSRkpKSO1T6ogGQCAQz+QrqD8B0PdcAU5x/QGQ3xGyG8wlwU43ABr5XAJEW\n",
       "YJEYhv4JcGkOBxA5vwDhjA0M7xcgeJdBhD7Crezeu9c7IKSnggh5MBPkPAZzBgZ+BYT0VrBucHA0\n",
       "QMxmYBJASF9ggPmYE8RiBbqa9wNclgfsjPcgp00GsR4CMcs/uHQT2EKebwwMkSCWyf/LDDz+f6E+\n",
       "Y472gzCsvVYHoIUzMFB196AKAQAX+TUtq5yB2wAAAABJRU5ErkJggg==\n",
       "\" style=\"display:inline;vertical-align:middle;\" /></a></span>"
      ],
      "text/plain": [
       "{C proper_subset B, A superset_eq B} |- A proper_superset C"
      ]
     },
     "metadata": {},
     "output_type": "display_data"
    }
   ],
   "source": [
    "A_superset_eq_B.apply_transitivity(\n",
    "        C_properSubset_B, assumptions=[A_superset_eq_B, C_properSubset_B])"
   ]
  },
  {
   "cell_type": "code",
   "execution_count": 230,
   "metadata": {},
   "outputs": [
    {
     "data": {
      "text/html": [
       "<span style=\"font-size:20px;\"><a class=\"ProveItLink\" href=\"../__pv_it/demonstrations/45ea92ce7866b520d4480b1871a4ca25db8112d90/expr.ipynb\"><img src=\"data:image/png;base64,iVBORw0KGgoAAAANSUhEUgAAAD0AAAARBAMAAACcIrmXAAAAMFBMVEX///8iIiLu7u52dna6uroQ\n",
       "EBBmZmbMzMyqqqqYmJgyMjLc3NxUVFRERESIiIgAAACK51z6AAAAAXRSTlMAQObYZgAAAAlwSFlz\n",
       "AAAOxAAADsQBlSsOGwAAAQhJREFUKM9jYGB4+//O2TsbGNAA5/0/Z05dBzN/AXk/IKJvBQUFxSFM\n",
       "1gsMDOcLgAz2f0AiFSxW9RphwP4HDAz+CUAG33cg4T8BSDBJI1kwH6h3PlANA+8HkGoDIMHjgCR/\n",
       "HoiXgpzFD7SIof4AkOBCdmAsA4MO2Cn1IEPmg/TXIEmz/333ZiWY9R7kyPMgo/cgyfP9ZmBoBTmK\n",
       "4T6I+AoiGJHkeQMYGJhBLmf4CwqNnyAW2wSEPD/QQZz/YN5XvQAWXIKQrweq5fkC8/4tiKDOEQWY\n",
       "/Hug1+oXgDwF9L5jAlTU+SIsfJcyMLBEAVXzAOPhbjZ67DCc/X/mzNoGBuoCNkFBRPxCAAADgEn8\n",
       "dySF8AAAAABJRU5ErkJggg==\n",
       "\" style=\"display:inline;vertical-align:middle;\" /></a>, <a class=\"ProveItLink\" href=\"../__pv_it/demonstrations/e8df50723d896cb4b33a5a2d005764d6a20e4c160/expr.ipynb\"><img src=\"data:image/png;base64,iVBORw0KGgoAAAANSUhEUgAAADsAAAASBAMAAAAXqLt+AAAAMFBMVEX///8QEBAiIiLu7u5ERES6\n",
       "urqYmJiIiIjMzMx2dnZUVFRmZmaqqqoyMjLc3NwAAABb1yYoAAAAAXRSTlMAQObYZgAAAAlwSFlz\n",
       "AAAOxAAADsQBlSsOGwAAAP1JREFUKM9jYACBtwx4wX0METb/X6vWekDYPP/BlJGSkpI7TJ7RgYFh\n",
       "fQOYyb3+AUz0+Q0o430BA0P8BjBz3vwGuKm2UJX5QKH8AhCLr6D+AFya4wKEXg/EF8FKuRnOJyAc\n",
       "dQ9CiTAwWGmAWTEM/RMQ0nMghnwpr7oGEdjA8H4BQnormGT/x8BwEGwmu/fu9Q4IaYjdLAIMDJw/\n",
       "QCxzBgZ+BbgsD8QgfiDF9h1iNgOTAFy6yQBM9QMN5voKZLACGbwfoJLM0X4QRj3QT/0gex6CbPoH\n",
       "DVTdPVB1F4H6ZIEGmfy/zMDj/3cCaows+b9q1ZUDDFQEoAhVUlqALAQArX5BIg1OZRUAAAAASUVO\n",
       "RK5CYII=\n",
       "\" style=\"display:inline;vertical-align:middle;\" /></a> <a class=\"ProveItLink\" href=\"../__pv_it/demonstrations/a3bf7616319e5041b7feb6435f95735631bc746e0/proof.ipynb\" style=\"text-decoration: none\">&nbsp;&#x22A2;&nbsp;&nbsp;</a><a class=\"ProveItLink\" href=\"../__pv_it/demonstrations/848f615683a0a666028bf54349cdecbc49f74ca10/expr.ipynb\"><img src=\"data:image/png;base64,iVBORw0KGgoAAAANSUhEUgAAADwAAAASBAMAAAD1dKAHAAAAMFBMVEX///8QEBAiIiLu7u5ERES6\n",
       "urqYmJiIiIjMzMx2dnZUVFRmZmaqqqoyMjLc3NwAAABb1yYoAAAAAXRSTlMAQObYZgAAAAlwSFlz\n",
       "AAAOxAAADsQBlSsOGwAAAPNJREFUKM9jYACBtwx4wX0MEXb/L6tc1kHYPP/BFLOSkpJKAVSe/wID\n",
       "Q/4BMJN7/QOYLr7aBgijH6iOWwDMnDe/AW4q8z0IXQ8UYv0G1lFQfwBhay+E8gdJ/ASbzXA+ASHN\n",
       "C7HoCxBz/AKxYhj6JyCkOcEmcXwHEmxg3RsY3i9ASHMHgD32A0hwfQWxvHevd0AyHEyyfAB5DuRy\n",
       "cyCtgJA+BfE2SEN+AthsBiYBuCyHMtzbzCJABitQCe8HmKzplgdwb7MAA47hIcimf7BAvX0AHgus\n",
       "2kDa5P9lBh7/vxNQY2TJ/1VLvB8wUBGA7FZS0kIWAgBAYjv5pywHvQAAAABJRU5ErkJggg==\n",
       "\" style=\"display:inline;vertical-align:middle;\" /></a></span>"
      ],
      "text/plain": [
       "{D subset_eq B, A superset_eq B} |- A superset_eq D"
      ]
     },
     "metadata": {},
     "output_type": "display_data"
    }
   ],
   "source": [
    "A_superset_eq_B.apply_transitivity(\n",
    "        D_subset_eq_B, assumptions=[A_superset_eq_B, D_subset_eq_B])"
   ]
  },
  {
   "cell_type": "code",
   "execution_count": 231,
   "metadata": {},
   "outputs": [
    {
     "name": "stdout",
     "output_type": "stream",
     "text": [
      "Value Error: Cannot perform transitivity with A superset_eq B and B subset_eq D!\n"
     ]
    }
   ],
   "source": [
    "# And this shouldn't work if no transitive relation:\n",
    "try:\n",
    "    A_superset_eq_B.apply_transitivity(\n",
    "        SubsetEq(B, D), assumptions=[A_superset_eq_B, SubsetEq(B, D)])\n",
    "    assert False, \"Expecting a ValueError. Should not make it to this point.\"\n",
    "except ValueError as the_error:\n",
    "    print(\"Value Error: {}\".format(the_error))\n",
    "    "
   ]
  },
  {
   "cell_type": "markdown",
   "metadata": {},
   "source": [
    "### `superset_eq.deduce_in_bool()`"
   ]
  },
  {
   "cell_type": "code",
   "execution_count": 232,
   "metadata": {},
   "outputs": [
    {
     "data": {
      "text/html": [
       "<span style=\"font-size:20px;\"> <a class=\"ProveItLink\" href=\"../__pv_it/demonstrations/3c0f02f0671cca0edbdd2a2b3602f4de146875f20/proof.ipynb\" style=\"text-decoration: none\">&nbsp;&#x22A2;&nbsp;&nbsp;</a><a class=\"ProveItLink\" href=\"../__pv_it/demonstrations/d08379cd802e08683fefbc1b129b18de1975c5010/expr.ipynb\"><img src=\"data:image/png;base64,iVBORw0KGgoAAAANSUhEUgAAAHEAAAAVBAMAAACDNRyvAAAAMFBMVEX////MzMxUVFRERES6uroi\n",
       "IiIQEBCYmJhmZmYyMjLu7u52dnaqqqqIiIjc3NwAAACW8nlqAAAAAXRSTlMAQObYZgAAAAlwSFlz\n",
       "AAAOxAAADsQBlSsOGwAAAfBJREFUOMuFVDssQ2EU/mjpQ1UXc6UsFr0GiUVr8Saed5AYJGVgamIS\n",
       "knYwCIaKpBIJGmIwSBoWg9dCIgaNRMQgJBKJQbwHA3Xuf27vbStXb9Kc8/3nfOf5/wVwh38/p6Gl\n",
       "+EiIRyO7OZF1cBlYjfbUk3LGePUPxeJ/81RWA1fZBqnDuVQB2CMCOZJCbMiyXJfyKJQArwu2WDaz\n",
       "CQcmwBoUyOrV2n2aV5VnqrMzDEv4L3MynwIzOjh0aZZNNUiIjkLEHlUHUiP3a0wbcMoDTNweacw8\n",
       "bgBe+kUpyiJPajmm56yaAGa5WJwH9XJWWASAtW6S2zz8mD6hrZ54KmA73HGducep328uhHU8PZzC\n",
       "bIh+zgADAoTxXKYzp7ivH+BEqeREwEj6hK5aYhgSTrXTXklnspNpECh6JcUtKhimhfWmmCZznJlb\n",
       "QEmXRnRw+hISlm9SGhVkl9JzmiBxtbSxgkHNUsqzcFOl+R+kHAvYlcmMQLkxZvKxvajn9mYfK7e0\n",
       "ELdS+JiANxlMR0KM/EHp6ke9ff1zqkOUQo4o6XlxNm3hUhv2d6k0YD25BIf/K555x8qTHs+C8O7j\n",
       "Wspb2XAd8Iu3UuBCjs+pdmjeUW9f6i2FczGtQQODLx0or0yWyzIc7o1CrufK6TNsI/E/sdjgf+oX\n",
       "kVN2t7Owim8AAAAASUVORK5CYII=\n",
       "\" style=\"display:inline;vertical-align:middle;\" /></a></span>"
      ],
      "text/plain": [
       "|- (A superset_eq B) in BOOLEAN"
      ]
     },
     "metadata": {},
     "output_type": "display_data"
    }
   ],
   "source": [
    "# superset_eq claims are Boolean values\n",
    "A_superset_eq_B.deduce_in_bool()"
   ]
  },
  {
   "cell_type": "code",
   "execution_count": 233,
   "metadata": {},
   "outputs": [
    {
     "data": {
      "text/html": [
       "<span style=\"font-size:20px;\"> <a class=\"ProveItLink\" href=\"../__pv_it/demonstrations/44b9b861e1859c9af38d31f590e21a85907661ad0/proof.ipynb\" style=\"text-decoration: none\">&nbsp;&#x22A2;&nbsp;&nbsp;</a><a class=\"ProveItLink\" href=\"../__pv_it/demonstrations/d6a2b23fbe6702d8b38fe9603e1624982f71f7080/expr.ipynb\"><img src=\"data:image/png;base64,iVBORw0KGgoAAAANSUhEUgAAAP8AAAAVBAMAAAB7+SUdAAAAMFBMVEX///8AAAAAAAAAAAAAAAAA\n",
       "AAAAAAAAAAAAAAAAAAAAAAAAAAAAAAAAAAAAAAAAAAAv3aB7AAAAD3RSTlMAInZUiRDNmWbv3US7\n",
       "qzJazP2FAAAACXBIWXMAAA7EAAAOxAGVKw4bAAADpklEQVRIx5VWXUgUURT+1t1x1V1zqeghErfF\n",
       "RItihQoSIpNIk5RFehGVXQsxkWgDkwgjsYgeoj+IxHwQtIItQ6KienELIgrCUpEgHzYIgyA0NyWK\n",
       "onvPvfPnzEQOzO43955z7nfPOfebARAA0DCCZVyrAjaDziFcpfzHMVpGmN3tkeUQWDFtNf9XiK8v\n",
       "AF9wyeDG/qNtw5z0VnbvMjorrwZsgsxcNzz431rmTSHQ2GeafMPu4qUeyfuulg9suRjD1aaZzLjd\n",
       "NtIG7CGKSiKRuKtuzBwCraYnPpm5NEPJx9jtB7zdFu+8sM36vgULAapvUcqWQNpCICtuJXAmF8i2\n",
       "eo/aVdMzYP+gNNsRMNGVk9dks7xO3NIIZALbrd7VdhUw1cXIZsbOyTNgjXhYUDsY0TPw7izQoRq4\n",
       "JtfLeh4JTUibimKZ4PyKWVmXA6Hj5viZAX2N/IqVcnB8s7T3hC7KyRp6XhPRm7BuuFzy6mT3k4Bf\n",
       "5E1ZjERF0LVhb1LQvoIx4ei7h08sjZcNmxUrdZrMoi3KN9Ejg+gCSjg8RwPNeg88bfvJNjPIrXrZ\n",
       "sr3win25F5AtcjGkgvpuWoBdBd3YxBwMPeYlAeIhuNlJ7VBeJZBTzkEBJ7mDBmLGJix+FMEN5jzF\n",
       "YnjnuDFFjCGPkFfrpNOcDF1joUK+YNMhvQS0Pg9hMGN0vwtPyogyxRjMkob18bOrEvD7yjkBfGZK\n",
       "lZ1EdEQlPUppzU6qi/RD+SXQb/G3V9fdnfTLQxjMhuBLS08qUzuvMVFJGjPgR5JKwJUqGsQlTQYE\n",
       "76gqMso8suYEnFerpMnyTU3sDGZpmT5lXpfJMoIDZgIxPJctHA1jyh1QOIEU6wcCTKNGOFDSyI2V\n",
       "IkJbg5vtSGvChq6AdtIMZn94P3Dwg7UmsI9bXCC7kImAOygOB/P2B923vYiyHsnt9scJsCPgSXHA\n",
       "WJbF48oitbJyzCjFrWHDUdfN3uMlCLAjUCuPYYdoGU1mkw9QUQl8UemP1+ZvQQ5LqDJ5AgSw5/wG\n",
       "AZoKP46nkGBbyqjqseqMSkA3a6pk2ePAU9UTkQTuiHJOPxQORf1j9DbMSZlkbJszgDviIHRmJdTM\n",
       "dHsSOunj2y+lWF70jtC9y50BPPgvAh6rPZ+kt57d9QxSqShBQUcA1OniE1N7IJEYFkMlVjPdnqvY\n",
       "OqfPlUZIpaJXFRwBoFOpt+5GC6GbaUDplRu1/2Jjdq5T4eV8kq2esAnjHMJVw7/6AvaTfwE/XPnw\n",
       "j/Ny7QAAAABJRU5ErkJggg==\n",
       "\" style=\"display:inline;vertical-align:middle;\" /></a></span>"
      ],
      "text/plain": [
       "|- ({a, b, c, d, e} superset_eq {a, b, c}) in BOOLEAN"
      ]
     },
     "metadata": {},
     "output_type": "display_data"
    }
   ],
   "source": [
    "# superset_eq claims are Boolean values\n",
    "superset_eq(set_abcde, set_abc).deduce_in_bool()"
   ]
  },
  {
   "cell_type": "markdown",
   "metadata": {},
   "source": [
    "### Testing the `NotProperSubset` and `NotSubsetEq` class methods\n",
    "<br/>\n",
    "<font size =3>The <span style=\"font-family=courier\">NotProperSubset</span> and <span style=\"font-family=courier\">NotSubsetEq</span>classes have the following class methods:<br/>\n",
    "    <div style=\"width: 50%; border: 1px solid green; padding: 5px; margin: 20px; background-color: gainsboro; font-family:courier;\">\n",
    "    <ul>\n",
    "    <li>derive_side_effects(self, known_truth)</li>\n",
    "    <li>conclude(self, assumptions=USE_DEFAULTS)</li>\n",
    "    <li>unfold(self, assumptions=USE_DEFAULTS)</li>\n",
    "    <li>conclude_as_folded(self, assumptions=USE_DEFAULTS)</li>\n",
    "    <li>deduce_in_bool(self, assumptions=USE_DEFAULTS)</li>\n",
    "    </ul>\n",
    "    </div>\n",
    "</font>"
   ]
  },
  {
   "cell_type": "code",
   "execution_count": 234,
   "metadata": {},
   "outputs": [],
   "source": [
    "# NPS_jdgmt = NotProperSubset(Set(one, two, three, four), Set(one, two, three)).prove(\n",
    "#         assumptions=[NotProperSubset(Set(one, two, three, four), Set(one, two, three))])"
   ]
  },
  {
   "cell_type": "markdown",
   "metadata": {},
   "source": [
    "### `NotProperSubset.conclude()`, `NotSubsetEq.conclude()`\n",
    "\n",
    "<font size=3>The <span style=\"font-family:courier;\">conclude()</span> method, called on a NotProperSubset expression such as $A\\not\\subset B$, derives the NotProperSubset as a judgment from the unfolded Not(ProperSubset()) relationship $\\neg(A\\subset B)$, if the unfolded version is known or assumed to be true. This works similarly for a NotSubsetEq expression.</font>"
   ]
  },
  {
   "cell_type": "code",
   "execution_count": 235,
   "metadata": {},
   "outputs": [
    {
     "data": {
      "text/html": [
       "<strong id=\"set_1234\">set_1234:</strong> <a class=\"ProveItLink\" href=\"../__pv_it/demonstrations/3692cde5cd3d5b095a172ab01a20f676f9a47f270/expr.ipynb\"><img src=\"data:image/png;base64,iVBORw0KGgoAAAANSUhEUgAAAFcAAAAVBAMAAADBdm84AAAAMFBMVEX///9ERETMzMxUVFSYmJgQ\n",
       "EBDc3NxmZmYiIiJ2dnaqqqoyMjKIiIi6urru7u4AAAB85a56AAAAAXRSTlMAQObYZgAAAAlwSFlz\n",
       "AAAOxAAADsQBlSsOGwAAAXdJREFUKM+Nk71Lw0AYh3+NaW1Keh2clYKCa7EqfkH7JwjqKFZUVBC0\n",
       "U4Qugg5ONlBEx06Ci604C4I4OTo4KQFXQRx0aLX1vptYiz24e597efJyvHcBQJ7w/4iciXj/3IWM\n",
       "wQG2xhp0MY5UBecyKWjzpF+bw3T2MbD2gJdCQ6aXYX1zIDuolJW8T+epkmEreRxY4GDX8FaVSbuD\n",
       "vOQhk2MQX0RCyUNXf8sTQEYeGpWsBLeDTEdRxviBOkVOy73VoGx8yXg7IjOrYPIdw7VsUI6mFKlu\n",
       "uFzepruVawTlvKawSJo5LpPpMoy8F5BNWdhIIlTjtAUuW6xqKBWQzxHhrUs0lPyQTn9M0kN5/m4Q\n",
       "XtCF7TEKp9gxPFFhjs5j3TrrE+LCNhxnl5OZpX0mdSG/+/vcM1YfRZQ9pmKzWRf06NCHdMhL55sz\n",
       "/kvh4wJtFPN07pfsoo0sBGV7Vu7IDdrotSUX+HOvqSeg8y3SX4HM87A+1c0/WKK3/QMcyWw8QCP1\n",
       "TAAAAABJRU5ErkJggg==\n",
       "\" style=\"display:inline;vertical-align:middle;\" /></a><br>"
      ],
      "text/plain": [
       "<IPython.core.display.HTML object>"
      ]
     },
     "metadata": {},
     "output_type": "display_data"
    },
    {
     "data": {
      "text/html": [
       "<strong id=\"set_123\">set_123:</strong> <a class=\"ProveItLink\" href=\"../__pv_it/demonstrations/b525e1a908ac39fd855a42ae46345dbfae68e6350/expr.ipynb\"><img src=\"data:image/png;base64,iVBORw0KGgoAAAANSUhEUgAAAEMAAAAVBAMAAADvM06qAAAAMFBMVEX///9ERETMzMxUVFSYmJgQ\n",
       "EBDc3NxmZmYiIiJ2dnaqqqoyMjKIiIi6urru7u4AAAB85a56AAAAAXRSTlMAQObYZgAAAAlwSFlz\n",
       "AAAOxAAADsQBlSsOGwAAATBJREFUKM9jYGDgu8uAC7Atg9Cn7+FUwqAsByK5/gEJpj6YvvKNChBW\n",
       "5nRZICkMYnI2MDA8rv4HVZLIwPkXzOArYFi/gIFhBkwJAw9MiRkDQyiYwfOL4f0GrEriHzDYJ4AY\n",
       "vLEM/NiVWDAw2EMdw7DeAasSIOiH0rwtDFAl7BtQlTD9gdKHjYDkURAz1QFVCYcBjAXyUT4QJ+9l\n",
       "QFVSCGexAgX5rBcwMBU+QFHCAjWESYGB8RfQpSATGA1QlKxkYAN7mv8fWMn6B8g+4gNrnsDA8wDE\n",
       "YjUAWzQV7mnObwzgwGTIKC+vALNYHFDDhdn0twkDBygq+////w1hXS+XZUAOOjBYx4DJQlMygQGT\n",
       "BVbCEwDl8R1gwGAxVIMT0S8ojwcujmDxhYCpdCvcaXcyMPwBuxlX82KGivkAAAAASUVORK5CYII=\n",
       "\" style=\"display:inline;vertical-align:middle;\" /></a><br>"
      ],
      "text/plain": [
       "<IPython.core.display.HTML object>"
      ]
     },
     "metadata": {},
     "output_type": "display_data"
    }
   ],
   "source": [
    "set_1234, set_123 = Set(one, two, three, four), Set(one, two, three)"
   ]
  },
  {
   "cell_type": "code",
   "execution_count": 236,
   "metadata": {},
   "outputs": [
    {
     "data": {
      "text/html": [
       "<span style=\"font-size:20px;\"><a class=\"ProveItLink\" href=\"../__pv_it/demonstrations/250d0333445a7b6bc1a8753ddd38f4890d1dde270/expr.ipynb\"><img src=\"data:image/png;base64,iVBORw0KGgoAAAANSUhEUgAAANoAAAAVBAMAAADSje2JAAAAMFBMVEX////MzMxERES6uroQEBCY\n",
       "mJgyMjLu7u52dnaqqqqIiIhUVFTc3NwiIiJmZmYAAAAM3gM0AAAAAXRSTlMAQObYZgAAAAlwSFlz\n",
       "AAAOxAAADsQBlSsOGwAAAq5JREFUSMeNlk1oE0EUgF9M2k3z11wEQfojHgqmQg5CD4IIJXjwYPDg\n",
       "xUugCEIPLnpTxCDeQm0OYj0o7aHiwYMVtYgBWQRBVDQgIlJSimAoiEFFGgpCfPNmdudvN+3ApG9n\n",
       "3rdfdnbmNQCyedgvFWHnlrkbNtoHJSCjDaXq2GfcXdhg/4Q91hdlQHxJHbmDfZERsS9i5EP7gIje\n",
       "3DwY5I1iL9g3JHTEjUAZcF/Jdir4MYf9Srsrnn8c5vnqOBuwWPcT10Se0XDIeXnBjUAZMKg8fK7s\n",
       "3yUlbGkPEsf5Km3DtYq/YtE2gEduBMpmBzZkdgJMW6IL6X8Uxadh2LftnVVsqcOtVitv2yyUZk9I\n",
       "223Llm5C+nfwWsoiqCq22Hkv4tlMlGbPSdumZcOW/SWC+Gf/aTzFdtWLWEkLpdmazCZx27CNiV0b\n",
       "e/hYjLwGZlvmF0+U99Y2bDpKwBn4iQvfWsfwK9tKJcO2Jje42JNVsn3kVxXlAJcMm44ScItfv8M+\n",
       "jcRqUbflxuUm4oMDHtmcVUbHVqSMo9JmoASMaTYYndBtZ8XfWB72bFP0FsiWnCGFtAlU2gyUgCPS\n",
       "xlaS14jANlSF9xQMd33b0Ubj73NROACaynsraDYTJeCeqDPYD2l70mHBPoAHwNISK2w5xJ1OYr/B\n",
       "w+9hp9sNQTlwWmbXAiSJ55Kd/8x6p9N0ttjbKuOhoQjbH3kCBouGbd4DSjNQMbsps0d8JP106xlk\n",
       "sTJne71eBVrsGx7rYGmlCL71XgQ2pzCl2RqnZsuUZqIc+CRt2bxW/xb8YMi1oyAvfl2vXH2BjPKa\n",
       "qWZKW9UPkmBHkVW5L5ArK+mTskbgGgX/+i6DHfHCobflHYFXavpFWSNwXwbDSyGRU7JtARoJTGo/\n",
       "HnAy86O+m98ltZCsfigBKQ/+A8o99ap28rPeAAAAAElFTkSuQmCC\n",
       "\" style=\"display:inline;vertical-align:middle;\" /></a> <a class=\"ProveItLink\" href=\"../__pv_it/demonstrations/fa70efc0dea240e4fb1f980f5d8e1cd5736b507a0/proof.ipynb\" style=\"text-decoration: none\">&nbsp;&#x22A2;&nbsp;&nbsp;</a><a class=\"ProveItLink\" href=\"../__pv_it/demonstrations/3ff2e32f6daf861859b362aa621629341e3e09200/expr.ipynb\"><img src=\"data:image/png;base64,iVBORw0KGgoAAAANSUhEUgAAALkAAAAVCAMAAAAtrb/7AAAAPFBMVEX///9WVlaurq4dHR0JCQlE\n",
       "RETMzMxUVFSYmJgQEBDc3NxmZmYiIiJ2dnaqqqoyMjKIiIi6urru7u4AAADxNpQ4AAAAAXRSTlMA\n",
       "QObYZgAAAAlwSFlzAAAOxAAADsQBlSsOGwAAAk9JREFUSMetl+2WrSAIhps5o+RXat7/vZ60KQGp\n",
       "abW2f/aOiOcNFWya6lhznj4z7GKfur6EEkKKef2Q8kmDuojlqP01FBGWcvzTngezzkWlqSkEp4R0\n",
       "abf/KpCBilx26EgVoIR6EoLfZw9cLDxGxYWCda6ucZdBmgcSjg8m5fASqAKUUk9CRyWuHNqaMgbP\n",
       "cn18LZErS/fKNZsJ5MWpApRSnyg3zQAFbYpsajIG5XqOV8qT8t7//PNeP1MuQCn1Uc7bLShs0W3z\n",
       "NjNLmC6U6xg2CZkv/rucX0BP6hPlvyu4MEP2XHiyF8pX31IX7XPlF9BOPZ918T6GLoleJwC+87eY\n",
       "h/JEFii0jTakHEFlKodi6kGwZv7j7ccyx2tLmLpyS+7tAoeUI6hMFaAndSdYiPk+hlPC2xjiOVuk\n",
       "fCt0caElJTumG0NFqgg9qTtBu970pBgze3ndpkzhxNo2safygGRZEFOOoRKVQxn1IPSmJ8RY6kKw\n",
       "iFyaD1GeoY5iILDuWGe9WpzQmOBG+QCl1JMw1pYeSTcxae02A+e8sTJ81BayQ13du8IaFGrLeg3F\n",
       "VEToQcJe/XuHtN7V4ZFtno/KyhppUWI9j1lKOfbiVAGKqFI9BzAlQr3pjzOQL21EbMtb1P3s49FR\n",
       "yalSIAnKV2W+73I+UiUoooqdqC80gSXYJLch3PIVavv3l93/PUEIEiT/R6YxXFyfeL0i0KbXZjgJ\n",
       "nzDpiYl2x7ZCRbgAfUGww2Fb8k+PTBvM0DONl798RugbgnWwfOo7NPBQ+srzJfQg/AeFSSarJQ09\n",
       "pQAAAABJRU5ErkJggg==\n",
       "\" style=\"display:inline;vertical-align:middle;\" /></a></span>"
      ],
      "text/plain": [
       "{[not]({1, 2, 3, 4} proper_subset {1, 2, 3})} |- {1, 2, 3, 4} not_proper_subset {1, 2, 3}"
      ]
     },
     "metadata": {},
     "output_type": "display_data"
    }
   ],
   "source": [
    "NotProperSubset(set_1234, set_123).conclude(assumptions=[Not(ProperSubset(set_1234, set_123))])"
   ]
  },
  {
   "cell_type": "code",
   "execution_count": 237,
   "metadata": {},
   "outputs": [
    {
     "data": {
      "text/html": [
       "<span style=\"font-size:20px;\"><a class=\"ProveItLink\" href=\"../__pv_it/demonstrations/742c2cf5f75f30c5e2684358ea53cedad3726d950/expr.ipynb\"><img src=\"data:image/png;base64,iVBORw0KGgoAAAANSUhEUgAAANoAAAAVBAMAAADSje2JAAAAMFBMVEX////MzMxERES6uroQEBCY\n",
       "mJgyMjLu7u52dnaqqqqIiIhUVFTc3NwiIiJmZmYAAAAM3gM0AAAAAXRSTlMAQObYZgAAAAlwSFlz\n",
       "AAAOxAAADsQBlSsOGwAAArVJREFUSMeNlk1oE0EUgF9M6qbZTZqLIEh/xEPBVuhB8CCIUIoHDy4e\n",
       "vHgJFC/24KI3RQziLWhzENuD0h4qHjxYUYsYkEUQREUDIiJlSxEMBTGoSENBiG/ezO7MzmS3XZjm\n",
       "5c375tuf2dcAyMPHcWkCtj+cu72yKSgBTixVqOOY9nZgg32jZi4VZUB2Uc3M41hgROaLyHxo7RfR\n",
       "m1sHorohHGPmgoQOegkoA+4r1VYF/9zEcaXVEdc/ArP87ljrsFAPC1dFHV3QoSAIyhRiynp5wUtA\n",
       "GbBbufiSG65SEDbbh9xxvugWXKuEAsWWOe9HPKUeeQkom+1bl7Yc6LZcB+x/FGUnYSC07ZmRtqtS\n",
       "FrcZKM2ekNV3DJvdBPt39FhcEVQV2xNIsBkozZ6T1RuGDY/iLxFkP4c30ldslSSbgdJsTVaTuKXZ\n",
       "hsWuzTx8LDKvgdmWeHZZsbU0Wxwl4Az8xE0VrGH4lW2lKc22Kje42JNVsn2kb45i46hii6ME3Obf\n",
       "3+GYRGJlIm4rjchNxJN9PtmsFdI1pYyj0qahBAzHbDA0GredFZ+ZMuzaougtkC0/Td++y2vjqLRp\n",
       "KAGHpY3dSd4jIlt/Fd5TMNAJbUcbjb/PRePA91VpjWMxm44ScE/0GRwHY3vSYsFegAfAynLL7HaI\n",
       "lU7iuCH6T+OIuSe9HigHTstzq0VIHt9L9v47a+1209pkT8vFl4YiPP4onSt7Xe1cALM+UJmGitkN\n",
       "aRsMEfvp5jMoYmcudrvdCgTsDI+1sbVSBN+6L6RNe98ap2ZcKtNRDnyS1cUyqKvMhUG/Z0ZJtnTA\n",
       "kVuY90y5SjUM8mBGqbZEoOQq5eNRj2DPP/rXdxnMiDcO4K1BPLelbYFX6sldjHoE25dRerFHZE2Z\n",
       "1xahicB47McDTjo/6jv5XVLrUZWGElDw4T+LzfuKiaP4TgAAAABJRU5ErkJggg==\n",
       "\" style=\"display:inline;vertical-align:middle;\" /></a> <a class=\"ProveItLink\" href=\"../__pv_it/demonstrations/48d8943c169a8ff4ef6b758135e9201b591cf5770/proof.ipynb\" style=\"text-decoration: none\">&nbsp;&#x22A2;&nbsp;&nbsp;</a><a class=\"ProveItLink\" href=\"../__pv_it/demonstrations/3576c524cd5d2022c045a0b1742d0af8e09341500/expr.ipynb\"><img src=\"data:image/png;base64,iVBORw0KGgoAAAANSUhEUgAAALkAAAAYBAMAAABUw0EkAAAAMFBMVEX///9ERETMzMxUVFSYmJgQ\n",
       "EBDc3NxmZmYiIiJ2dnaqqqoyMjKIiIi6urru7u4AAAB85a56AAAAAXRSTlMAQObYZgAAAAlwSFlz\n",
       "AAAOxAAADsQBlSsOGwAAAp1JREFUSMe1lU1oE0EUx//dJNskTdJiL14sFYXiyWBV1CoNePJWsD2K\n",
       "K35UQdBQYYu5BCq4JxsQsTdzEryYSK9WAtKTIAEPnpQFL4KKH6BIolln33zsbLI2qeDA7rx9+37/\n",
       "fTP7Zgb4lzY5eGjuzQBB5kP9qSz6T82+wIu3g+SwZyKw4w3eZzbcfkC6w27GHflJ+4kY9pX7u1Tk\n",
       "FLvGAzApRGuuji6WdkBHCUixYb4rdcSLc0j95vN1HbWqlFth15qwMzudBYdn4LsUao7hQVNH16Q6\n",
       "MlL9MLDARVr4XJeCmrrx1MIB4SeXRGMWEnM6GqF+1sWs5RvZMxiV6nvXA/X3FnL1KPVEB7Ef0NAI\n",
       "9SPArKy3WkEYFU39BCOqkbmXEfsGDY1QZ21V9NlbcmIsTZ0llUSUuv+3v+govR2uh0OMX6J/Lqf3\n",
       "Anz1Te7NA6dkaKlLfX9DRwm4WOhKIK+GJ2agQurX6Mlkb5/J6p3vUl+BjvrA+Y2ukKKyEtwZt0g9\n",
       "N1Ply9QQnzdnmmF0eCyE+oBRdEMhccEakxhqkXUVpJ6iNHATMfnXpybC6icRQgkYyodCHsGkihzt\n",
       "SPVX09Pfj4qFySqy+UFlOB5ST1dwCRpKgKqZHH23gozrW4m8Pzyx5E+z657Y89ZvoKdmCN0HvCSA\n",
       "oxwg9RRbB7Q0L9v2MlnxAivaXJvLfNV2gmzbcbSdQKHmbdsuE0CoVu+xQ+2DSPrb0arntbn12mZb\n",
       "kUPJF73jgTqbAD13hSY9z6tzgFBtNVF7jB4r7YangbURq8e1BRCoB0kpK4Ueqd2IUP8rkJmTZ1QD\n",
       "PdbHILjEu+Wfjpr3zf6A2ZLbifIHViM4H+e7Tj21fLcGFo8Ncq7eFUrxiuZcqvYHttVGXPzHZm4n\n",
       "+A+YheEII9pIIgAAAABJRU5ErkJggg==\n",
       "\" style=\"display:inline;vertical-align:middle;\" /></a></span>"
      ],
      "text/plain": [
       "{[not]({1, 2, 3, 4} subset_eq {1, 2, 3})} |- {1, 2, 3, 4} not_subset_eq {1, 2, 3}"
      ]
     },
     "metadata": {},
     "output_type": "display_data"
    }
   ],
   "source": [
    "NotSubsetEq(set_1234, set_123).conclude(assumptions=[Not(SubsetEq(set_1234, set_123))])"
   ]
  },
  {
   "cell_type": "markdown",
   "metadata": {},
   "source": [
    "### `NotProperSubset.unfold()`, `NotSubsetEq.unfold()`\n",
    "\n",
    "<font size=3>The <span style=\"font-family:courier;\">unfold()</span> method, called on a NotProperSubset expression such as $A\\not\\subset B$, derives the “unfolded” version $\\neg(A\\subset B)$ as a judgment, if the original (self) folded version is known or assumed to be true. The method works similarly for NotSubsetEq expressions.</font>"
   ]
  },
  {
   "cell_type": "code",
   "execution_count": 238,
   "metadata": {},
   "outputs": [
    {
     "data": {
      "text/html": [
       "<span style=\"font-size:20px;\"><a class=\"ProveItLink\" href=\"../__pv_it/demonstrations/3ff2e32f6daf861859b362aa621629341e3e09200/expr.ipynb\"><img src=\"data:image/png;base64,iVBORw0KGgoAAAANSUhEUgAAALkAAAAVCAMAAAAtrb/7AAAAPFBMVEX///9WVlaurq4dHR0JCQlE\n",
       "RETMzMxUVFSYmJgQEBDc3NxmZmYiIiJ2dnaqqqoyMjKIiIi6urru7u4AAADxNpQ4AAAAAXRSTlMA\n",
       "QObYZgAAAAlwSFlzAAAOxAAADsQBlSsOGwAAAk9JREFUSMetl+2WrSAIhps5o+RXat7/vZ60KQGp\n",
       "abW2f/aOiOcNFWya6lhznj4z7GKfur6EEkKKef2Q8kmDuojlqP01FBGWcvzTngezzkWlqSkEp4R0\n",
       "abf/KpCBilx26EgVoIR6EoLfZw9cLDxGxYWCda6ucZdBmgcSjg8m5fASqAKUUk9CRyWuHNqaMgbP\n",
       "cn18LZErS/fKNZsJ5MWpApRSnyg3zQAFbYpsajIG5XqOV8qT8t7//PNeP1MuQCn1Uc7bLShs0W3z\n",
       "NjNLmC6U6xg2CZkv/rucX0BP6hPlvyu4MEP2XHiyF8pX31IX7XPlF9BOPZ918T6GLoleJwC+87eY\n",
       "h/JEFii0jTakHEFlKodi6kGwZv7j7ccyx2tLmLpyS+7tAoeUI6hMFaAndSdYiPk+hlPC2xjiOVuk\n",
       "fCt0caElJTumG0NFqgg9qTtBu970pBgze3ndpkzhxNo2safygGRZEFOOoRKVQxn1IPSmJ8RY6kKw\n",
       "iFyaD1GeoY5iILDuWGe9WpzQmOBG+QCl1JMw1pYeSTcxae02A+e8sTJ81BayQ13du8IaFGrLeg3F\n",
       "VEToQcJe/XuHtN7V4ZFtno/KyhppUWI9j1lKOfbiVAGKqFI9BzAlQr3pjzOQL21EbMtb1P3s49FR\n",
       "yalSIAnKV2W+73I+UiUoooqdqC80gSXYJLch3PIVavv3l93/PUEIEiT/R6YxXFyfeL0i0KbXZjgJ\n",
       "nzDpiYl2x7ZCRbgAfUGww2Fb8k+PTBvM0DONl798RugbgnWwfOo7NPBQ+srzJfQg/AeFSSarJQ09\n",
       "pQAAAABJRU5ErkJggg==\n",
       "\" style=\"display:inline;vertical-align:middle;\" /></a> <a class=\"ProveItLink\" href=\"../__pv_it/demonstrations/8006ef1845b9a564727da9dbcf7216caad2910820/proof.ipynb\" style=\"text-decoration: none\">&nbsp;&#x22A2;&nbsp;&nbsp;</a><a class=\"ProveItLink\" href=\"../__pv_it/demonstrations/250d0333445a7b6bc1a8753ddd38f4890d1dde270/expr.ipynb\"><img src=\"data:image/png;base64,iVBORw0KGgoAAAANSUhEUgAAANoAAAAVBAMAAADSje2JAAAAMFBMVEX////MzMxERES6uroQEBCY\n",
       "mJgyMjLu7u52dnaqqqqIiIhUVFTc3NwiIiJmZmYAAAAM3gM0AAAAAXRSTlMAQObYZgAAAAlwSFlz\n",
       "AAAOxAAADsQBlSsOGwAAAq5JREFUSMeNlk1oE0EUgF9M2k3z11wEQfojHgqmQg5CD4IIJXjwYPDg\n",
       "xUugCEIPLnpTxCDeQm0OYj0o7aHiwYMVtYgBWQRBVDQgIlJSimAoiEFFGgpCfPNmdudvN+3ApG9n\n",
       "3rdfdnbmNQCyedgvFWHnlrkbNtoHJSCjDaXq2GfcXdhg/4Q91hdlQHxJHbmDfZERsS9i5EP7gIje\n",
       "3DwY5I1iL9g3JHTEjUAZcF/Jdir4MYf9Srsrnn8c5vnqOBuwWPcT10Se0XDIeXnBjUAZMKg8fK7s\n",
       "3yUlbGkPEsf5Km3DtYq/YtE2gEduBMpmBzZkdgJMW6IL6X8Uxadh2LftnVVsqcOtVitv2yyUZk9I\n",
       "223Llm5C+nfwWsoiqCq22Hkv4tlMlGbPSdumZcOW/SWC+Gf/aTzFdtWLWEkLpdmazCZx27CNiV0b\n",
       "e/hYjLwGZlvmF0+U99Y2bDpKwBn4iQvfWsfwK9tKJcO2Jje42JNVsn3kVxXlAJcMm44ScItfv8M+\n",
       "jcRqUbflxuUm4oMDHtmcVUbHVqSMo9JmoASMaTYYndBtZ8XfWB72bFP0FsiWnCGFtAlU2gyUgCPS\n",
       "xlaS14jANlSF9xQMd33b0Ubj73NROACaynsraDYTJeCeqDPYD2l70mHBPoAHwNISK2w5xJ1OYr/B\n",
       "w+9hp9sNQTlwWmbXAiSJ55Kd/8x6p9N0ttjbKuOhoQjbH3kCBouGbd4DSjNQMbsps0d8JP106xlk\n",
       "sTJne71eBVrsGx7rYGmlCL71XgQ2pzCl2RqnZsuUZqIc+CRt2bxW/xb8YMi1oyAvfl2vXH2BjPKa\n",
       "qWZKW9UPkmBHkVW5L5ArK+mTskbgGgX/+i6DHfHCobflHYFXavpFWSNwXwbDSyGRU7JtARoJTGo/\n",
       "HnAy86O+m98ltZCsfigBKQ/+A8o99ap28rPeAAAAAElFTkSuQmCC\n",
       "\" style=\"display:inline;vertical-align:middle;\" /></a></span>"
      ],
      "text/plain": [
       "{{1, 2, 3, 4} not_proper_subset {1, 2, 3}} |- [not]({1, 2, 3, 4} proper_subset {1, 2, 3})"
      ]
     },
     "metadata": {},
     "output_type": "display_data"
    }
   ],
   "source": [
    "NotProperSubset(set_1234, set_123).unfold(assumptions=[NotProperSubset(set_1234, set_123)])"
   ]
  },
  {
   "cell_type": "code",
   "execution_count": 239,
   "metadata": {},
   "outputs": [
    {
     "data": {
      "text/html": [
       "<span style=\"font-size:20px;\"><a class=\"ProveItLink\" href=\"../__pv_it/demonstrations/5fd68658ea3e899cb3b006d09c230ea44487e6fd0/expr.ipynb\"><img src=\"data:image/png;base64,iVBORw0KGgoAAAANSUhEUgAAADsAAAAUCAMAAAAEAbViAAAAPFBMVEX///9WVlaurq4dHR0JCQl2\n",
       "dnaqqqoiIiLu7u5mZma6urqIiIjc3NwQEBDMzMwyMjJUVFRERESYmJgAAACT4gU9AAAAAXRSTlMA\n",
       "QObYZgAAAAlwSFlzAAAOxAAADsQBlSsOGwAAAQlJREFUOMudU1mWwyAMo51hh9rg+991WEKAQJt5\n",
       "9U9IkCVLAcZuS6v1m4O2ioEIU0F4rbBX2PAB9bWvAKS1eccnqPc6suVpSC+yuLOB5M6hD714cNSy\n",
       "QUr5+yPlVZk73gfEYwTwrgsCTy9mI+sssyRmuwoHBSULDbjNxNlwbBIUrLUIcQCgKQFsZI3IHbwZ\n",
       "q86FH5rrD3wjm8JtpMEfGfQEarxGr602aJ1ybn+9kQwxO3wjqyqEZLMbW9zmxOQ9ofcT520/2U0c\n",
       "MGASH6wn2cT5UELlMH7CgtnIOt8iKnp4XgQxGwv+edFVCVr4RV7wD3dPPHg+lHI9k/e1cfvfivzr\n",
       "Via/l2X3Jv8A3bQMSBICw10AAAAASUVORK5CYII=\n",
       "\" style=\"display:inline;vertical-align:middle;\" /></a> <a class=\"ProveItLink\" href=\"../__pv_it/demonstrations/9a2d4254a82e22d5e6a690f28fce0de1bd5760240/proof.ipynb\" style=\"text-decoration: none\">&nbsp;&#x22A2;&nbsp;&nbsp;</a><a class=\"ProveItLink\" href=\"../__pv_it/demonstrations/1fe44dbf780ee8af74f5f97367f47a324ed02a9a0/expr.ipynb\"><img src=\"data:image/png;base64,iVBORw0KGgoAAAANSUhEUgAAAFsAAAAVBAMAAADbSo+2AAAAMFBMVEX////MzMxERES6uroQEBCY\n",
       "mJgyMjLu7u52dnaqqqqIiIhUVFTc3NwiIiJmZmYAAAAM3gM0AAAAAXRSTlMAQObYZgAAAAlwSFlz\n",
       "AAAOxAAADsQBlSsOGwAAAX1JREFUKM9jYECAAwz4Aao81wQ8SnkSGBisUERmAHHQ/927kwSwKGf7\n",
       "ADQvAEmAPQFEOjEwcH/Eonw+UDlDOpIAH0gvzy8GBuZ/WJS//gMk4pAEWEAEK9Bk1l8QgUV37969\n",
       "CJXkOAGykqUAoXwaiOAG2snmA+aL9SCZdYrrJ8gDSI5/AbZCgYF9L9ir7HeQ3fKA8yvIjg0IkVQQ\n",
       "Ia+1ahvECG4DJNXMExh/gJyawPAW6MK794DsmyDx9QcYOF0hIYdsOB8Dz28gxekA4Z4GYmcQQwWI\n",
       "+8GOkUZWvujd609AivEDmnKQGfELYELwKAGK/AW5Ccl0kGMYQR7aD3Y1L4pbGBiugBxzAcI/B8Ra\n",
       "oGQDjAzGb4hYgwJTIM4HeVUBIdYN8h/QNhNoVCcjkhfIDfrA9MjXgFAuCww8/d+7t2lC+UWboXHI\n",
       "rv+tgGHS/wygA5EClxc9IVroIhIBBJxFYrM+YCAEniJzdAip5lFA5hURUs6Ekvt4FhBQvoaBAQD8\n",
       "B1oHmSqJjgAAAABJRU5ErkJggg==\n",
       "\" style=\"display:inline;vertical-align:middle;\" /></a></span>"
      ],
      "text/plain": [
       "{B not_proper_subset A} |- [not](B proper_subset A)"
      ]
     },
     "metadata": {},
     "output_type": "display_data"
    }
   ],
   "source": [
    "NotProperSubset(B, A).unfold(assumptions=[NotProperSubset(B, A)])"
   ]
  },
  {
   "cell_type": "code",
   "execution_count": 240,
   "metadata": {},
   "outputs": [
    {
     "data": {
      "text/html": [
       "<span style=\"font-size:20px;\"><a class=\"ProveItLink\" href=\"../__pv_it/demonstrations/3576c524cd5d2022c045a0b1742d0af8e09341500/expr.ipynb\"><img src=\"data:image/png;base64,iVBORw0KGgoAAAANSUhEUgAAALkAAAAYBAMAAABUw0EkAAAAMFBMVEX///9ERETMzMxUVFSYmJgQ\n",
       "EBDc3NxmZmYiIiJ2dnaqqqoyMjKIiIi6urru7u4AAAB85a56AAAAAXRSTlMAQObYZgAAAAlwSFlz\n",
       "AAAOxAAADsQBlSsOGwAAAp1JREFUSMe1lU1oE0EUx//dJNskTdJiL14sFYXiyWBV1CoNePJWsD2K\n",
       "K35UQdBQYYu5BCq4JxsQsTdzEryYSK9WAtKTIAEPnpQFL4KKH6BIolln33zsbLI2qeDA7rx9+37/\n",
       "fTP7Zgb4lzY5eGjuzQBB5kP9qSz6T82+wIu3g+SwZyKw4w3eZzbcfkC6w27GHflJ+4kY9pX7u1Tk\n",
       "FLvGAzApRGuuji6WdkBHCUixYb4rdcSLc0j95vN1HbWqlFth15qwMzudBYdn4LsUao7hQVNH16Q6\n",
       "MlL9MLDARVr4XJeCmrrx1MIB4SeXRGMWEnM6GqF+1sWs5RvZMxiV6nvXA/X3FnL1KPVEB7Ef0NAI\n",
       "9SPArKy3WkEYFU39BCOqkbmXEfsGDY1QZ21V9NlbcmIsTZ0llUSUuv+3v+govR2uh0OMX6J/Lqf3\n",
       "Anz1Te7NA6dkaKlLfX9DRwm4WOhKIK+GJ2agQurX6Mlkb5/J6p3vUl+BjvrA+Y2ukKKyEtwZt0g9\n",
       "N1Ply9QQnzdnmmF0eCyE+oBRdEMhccEakxhqkXUVpJ6iNHATMfnXpybC6icRQgkYyodCHsGkihzt\n",
       "SPVX09Pfj4qFySqy+UFlOB5ST1dwCRpKgKqZHH23gozrW4m8Pzyx5E+z657Y89ZvoKdmCN0HvCSA\n",
       "oxwg9RRbB7Q0L9v2MlnxAivaXJvLfNV2gmzbcbSdQKHmbdsuE0CoVu+xQ+2DSPrb0arntbn12mZb\n",
       "kUPJF73jgTqbAD13hSY9z6tzgFBtNVF7jB4r7YangbURq8e1BRCoB0kpK4Ueqd2IUP8rkJmTZ1QD\n",
       "PdbHILjEu+Wfjpr3zf6A2ZLbifIHViM4H+e7Tj21fLcGFo8Ncq7eFUrxiuZcqvYHttVGXPzHZm4n\n",
       "+A+YheEII9pIIgAAAABJRU5ErkJggg==\n",
       "\" style=\"display:inline;vertical-align:middle;\" /></a> <a class=\"ProveItLink\" href=\"../__pv_it/demonstrations/1ea86c48eea95f030448239bdd8130f8d10a96dd0/proof.ipynb\" style=\"text-decoration: none\">&nbsp;&#x22A2;&nbsp;&nbsp;</a><a class=\"ProveItLink\" href=\"../__pv_it/demonstrations/742c2cf5f75f30c5e2684358ea53cedad3726d950/expr.ipynb\"><img src=\"data:image/png;base64,iVBORw0KGgoAAAANSUhEUgAAANoAAAAVBAMAAADSje2JAAAAMFBMVEX////MzMxERES6uroQEBCY\n",
       "mJgyMjLu7u52dnaqqqqIiIhUVFTc3NwiIiJmZmYAAAAM3gM0AAAAAXRSTlMAQObYZgAAAAlwSFlz\n",
       "AAAOxAAADsQBlSsOGwAAArVJREFUSMeNlk1oE0EUgF9M6qbZTZqLIEh/xEPBVuhB8CCIUIoHDy4e\n",
       "vHgJFC/24KI3RQziLWhzENuD0h4qHjxYUYsYkEUQREUDIiJlSxEMBTGoSENBiG/ezO7MzmS3XZjm\n",
       "5c375tuf2dcAyMPHcWkCtj+cu72yKSgBTixVqOOY9nZgg32jZi4VZUB2Uc3M41hgROaLyHxo7RfR\n",
       "m1sHorohHGPmgoQOegkoA+4r1VYF/9zEcaXVEdc/ArP87ljrsFAPC1dFHV3QoSAIyhRiynp5wUtA\n",
       "GbBbufiSG65SEDbbh9xxvugWXKuEAsWWOe9HPKUeeQkom+1bl7Yc6LZcB+x/FGUnYSC07ZmRtqtS\n",
       "FrcZKM2ekNV3DJvdBPt39FhcEVQV2xNIsBkozZ6T1RuGDY/iLxFkP4c30ldslSSbgdJsTVaTuKXZ\n",
       "hsWuzTx8LDKvgdmWeHZZsbU0Wxwl4Az8xE0VrGH4lW2lKc22Kje42JNVsn2kb45i46hii6ME3Obf\n",
       "3+GYRGJlIm4rjchNxJN9PtmsFdI1pYyj0qahBAzHbDA0GredFZ+ZMuzaougtkC0/Td++y2vjqLRp\n",
       "KAGHpY3dSd4jIlt/Fd5TMNAJbUcbjb/PRePA91VpjWMxm44ScE/0GRwHY3vSYsFegAfAynLL7HaI\n",
       "lU7iuCH6T+OIuSe9HigHTstzq0VIHt9L9v47a+1209pkT8vFl4YiPP4onSt7Xe1cALM+UJmGitkN\n",
       "aRsMEfvp5jMoYmcudrvdCgTsDI+1sbVSBN+6L6RNe98ap2ZcKtNRDnyS1cUyqKvMhUG/Z0ZJtnTA\n",
       "kVuY90y5SjUM8mBGqbZEoOQq5eNRj2DPP/rXdxnMiDcO4K1BPLelbYFX6sldjHoE25dRerFHZE2Z\n",
       "1xahicB47McDTjo/6jv5XVLrUZWGElDw4T+LzfuKiaP4TgAAAABJRU5ErkJggg==\n",
       "\" style=\"display:inline;vertical-align:middle;\" /></a></span>"
      ],
      "text/plain": [
       "{{1, 2, 3, 4} not_subset_eq {1, 2, 3}} |- [not]({1, 2, 3, 4} subset_eq {1, 2, 3})"
      ]
     },
     "metadata": {},
     "output_type": "display_data"
    }
   ],
   "source": [
    "NotSubsetEq(set_1234, set_123).unfold(assumptions=[NotSubsetEq(set_1234, set_123)])"
   ]
  },
  {
   "cell_type": "code",
   "execution_count": 241,
   "metadata": {},
   "outputs": [
    {
     "data": {
      "text/html": [
       "<span style=\"font-size:20px;\"><a class=\"ProveItLink\" href=\"../__pv_it/demonstrations/b98c2d6acd5232751520c84ae4844c5370a26c9e0/expr.ipynb\"><img src=\"data:image/png;base64,iVBORw0KGgoAAAANSUhEUgAAADsAAAAYBAMAAAC2M5gYAAAAMFBMVEX///92dnaqqqoiIiLu7u5m\n",
       "Zma6urqIiIjc3NwQEBDMzMwyMjJUVFRERESYmJgAAAAeMT9/AAAAAXRSTlMAQObYZgAAAAlwSFlz\n",
       "AAAOxAAADsQBlSsOGwAAATJJREFUKM9jYEAHCxjwAgO8snwFcGY3mHz7/8yZvXAjmR3g0vsh1FwG\n",
       "Bp5fYBb7ZeOZxjCVTP/BFMd3Bga2ryAW1/YGhlNwzaznG8C2AXXyfQexnBsYWDbApSXkwebwfGBg\n",
       "4J4BYh1jYGBUgMlyFNSD2ZwXGFgOgxUCdTIjzGbQfwCi118vPw1mcB1gYHgIl05iWC8AousbGJjm\n",
       "gY0DSm+BSwcw9B8A0TeBGOIKA7ABEMB+NfT8BRDjDxC/B4dVEAMPPHjcGRj4QeHL9Q9InE8AeyzB\n",
       "G8lsBuYJIFN+AJX8Bgux7ImDybIBHcsN9DEDN1BNJtRFbL+NjSGB2gnEvECNPPf/nDl9CRbMAlCG\n",
       "7/8tDEz3fwugxiZ3A97IXotXNvizMcxuchKSAF5pbge80hwYIgBK304Ff9W2swAAAABJRU5ErkJg\n",
       "gg==\n",
       "\" style=\"display:inline;vertical-align:middle;\" /></a> <a class=\"ProveItLink\" href=\"../__pv_it/demonstrations/d2490cb57601a0ff739ddaec5e9b5037d6e9e1dd0/proof.ipynb\" style=\"text-decoration: none\">&nbsp;&#x22A2;&nbsp;&nbsp;</a><a class=\"ProveItLink\" href=\"../__pv_it/demonstrations/15f7813075e907504b4b0735f59518b6f9632b3e0/expr.ipynb\"><img src=\"data:image/png;base64,iVBORw0KGgoAAAANSUhEUgAAAFsAAAAVBAMAAADbSo+2AAAAMFBMVEX////MzMxERES6uroQEBCY\n",
       "mJgyMjLu7u52dnaqqqqIiIhUVFTc3NwiIiJmZmYAAAAM3gM0AAAAAXRSTlMAQObYZgAAAAlwSFlz\n",
       "AAAOxAAADsQBlSsOGwAAAYNJREFUKM9jYECAAwz4Aao81wQ8SnkSGBisUERmAHHQ/927kwSwKGf7\n",
       "ADQvAEmAPQFEOjEwcH+ECCy6e/fuRZjsfKByhnQk5XwgvTy/GBiY/4H5YmuQTX/9B0jEIQmwgAhW\n",
       "oMmsv8CW3UFWzXECZCVLAUJkGojgBtrJ5gNmGSArP8X1E+QBJMe/AFuhwMC+F+xVNhSfPuD8CrJj\n",
       "A0IkFUTIa63aBjFCGlk18wTGHyCnJjC8Bfr/7j0g+yZIfP0BBk5XsIrTyMr5GHh+AylOBwa4nDOI\n",
       "oQLE/WDH8CIrX/Tu9ScgxfgBTTnIjPgF8HCFRQlQ5C/ITUimgxzDCPLQfkiYJCO7hYHhCsgxFyD8\n",
       "c0CsBUo2wMhg/AYRq94MD2VTIM4HeVUBYUQ3KPSAtpnAotpCF5oIeEBu0AemR74GhHJZYNTo/969\n",
       "TRM9dbHrfytgmPQ/A+h9pKjjFWAgBM4isVkfEFT+FJmjgyLFB4o+RAIG+0EBmVdEyHAmlNzHs4CA\n",
       "cmAGAAAcgl9gpaHmkgAAAABJRU5ErkJggg==\n",
       "\" style=\"display:inline;vertical-align:middle;\" /></a></span>"
      ],
      "text/plain": [
       "{B not_subset_eq A} |- [not](B subset_eq A)"
      ]
     },
     "metadata": {},
     "output_type": "display_data"
    }
   ],
   "source": [
    "NotSubsetEq(B, A).unfold(assumptions=[NotSubsetEq(B, A)])"
   ]
  },
  {
   "cell_type": "markdown",
   "metadata": {},
   "source": [
    "### `NotProperSubset.conclude_as_folded()`, `NotSubsetEq.conclude_as_folded()`\n",
    "\n",
    "The `conclude_as_folded()` method, called on a `NotProperSubset` expression such as $A\\not\\subset B$, derives the (self) “folded” version $A\\not\\subset B$, from the unfolded version $\\neg(A\\subset B)$ being known or assumed to be true. This method is also being called from the `conclude()` method. The method works similarly for the `NotSubsetEq` class.</font>"
   ]
  },
  {
   "cell_type": "code",
   "execution_count": 242,
   "metadata": {},
   "outputs": [
    {
     "data": {
      "text/html": [
       "<span style=\"font-size:20px;\"><a class=\"ProveItLink\" href=\"../__pv_it/demonstrations/250d0333445a7b6bc1a8753ddd38f4890d1dde270/expr.ipynb\"><img src=\"data:image/png;base64,iVBORw0KGgoAAAANSUhEUgAAANoAAAAVBAMAAADSje2JAAAAMFBMVEX////MzMxERES6uroQEBCY\n",
       "mJgyMjLu7u52dnaqqqqIiIhUVFTc3NwiIiJmZmYAAAAM3gM0AAAAAXRSTlMAQObYZgAAAAlwSFlz\n",
       "AAAOxAAADsQBlSsOGwAAAq5JREFUSMeNlk1oE0EUgF9M2k3z11wEQfojHgqmQg5CD4IIJXjwYPDg\n",
       "xUugCEIPLnpTxCDeQm0OYj0o7aHiwYMVtYgBWQRBVDQgIlJSimAoiEFFGgpCfPNmdudvN+3ApG9n\n",
       "3rdfdnbmNQCyedgvFWHnlrkbNtoHJSCjDaXq2GfcXdhg/4Q91hdlQHxJHbmDfZERsS9i5EP7gIje\n",
       "3DwY5I1iL9g3JHTEjUAZcF/Jdir4MYf9Srsrnn8c5vnqOBuwWPcT10Se0XDIeXnBjUAZMKg8fK7s\n",
       "3yUlbGkPEsf5Km3DtYq/YtE2gEduBMpmBzZkdgJMW6IL6X8Uxadh2LftnVVsqcOtVitv2yyUZk9I\n",
       "223Llm5C+nfwWsoiqCq22Hkv4tlMlGbPSdumZcOW/SWC+Gf/aTzFdtWLWEkLpdmazCZx27CNiV0b\n",
       "e/hYjLwGZlvmF0+U99Y2bDpKwBn4iQvfWsfwK9tKJcO2Jje42JNVsn3kVxXlAJcMm44ScItfv8M+\n",
       "jcRqUbflxuUm4oMDHtmcVUbHVqSMo9JmoASMaTYYndBtZ8XfWB72bFP0FsiWnCGFtAlU2gyUgCPS\n",
       "xlaS14jANlSF9xQMd33b0Ubj73NROACaynsraDYTJeCeqDPYD2l70mHBPoAHwNISK2w5xJ1OYr/B\n",
       "w+9hp9sNQTlwWmbXAiSJ55Kd/8x6p9N0ttjbKuOhoQjbH3kCBouGbd4DSjNQMbsps0d8JP106xlk\n",
       "sTJne71eBVrsGx7rYGmlCL71XgQ2pzCl2RqnZsuUZqIc+CRt2bxW/xb8YMi1oyAvfl2vXH2BjPKa\n",
       "qWZKW9UPkmBHkVW5L5ArK+mTskbgGgX/+i6DHfHCobflHYFXavpFWSNwXwbDSyGRU7JtARoJTGo/\n",
       "HnAy86O+m98ltZCsfigBKQ/+A8o99ap28rPeAAAAAElFTkSuQmCC\n",
       "\" style=\"display:inline;vertical-align:middle;\" /></a> <a class=\"ProveItLink\" href=\"../__pv_it/demonstrations/fa70efc0dea240e4fb1f980f5d8e1cd5736b507a0/proof.ipynb\" style=\"text-decoration: none\">&nbsp;&#x22A2;&nbsp;&nbsp;</a><a class=\"ProveItLink\" href=\"../__pv_it/demonstrations/3ff2e32f6daf861859b362aa621629341e3e09200/expr.ipynb\"><img src=\"data:image/png;base64,iVBORw0KGgoAAAANSUhEUgAAALkAAAAVCAMAAAAtrb/7AAAAPFBMVEX///9WVlaurq4dHR0JCQlE\n",
       "RETMzMxUVFSYmJgQEBDc3NxmZmYiIiJ2dnaqqqoyMjKIiIi6urru7u4AAADxNpQ4AAAAAXRSTlMA\n",
       "QObYZgAAAAlwSFlzAAAOxAAADsQBlSsOGwAAAk9JREFUSMetl+2WrSAIhps5o+RXat7/vZ60KQGp\n",
       "abW2f/aOiOcNFWya6lhznj4z7GKfur6EEkKKef2Q8kmDuojlqP01FBGWcvzTngezzkWlqSkEp4R0\n",
       "abf/KpCBilx26EgVoIR6EoLfZw9cLDxGxYWCda6ucZdBmgcSjg8m5fASqAKUUk9CRyWuHNqaMgbP\n",
       "cn18LZErS/fKNZsJ5MWpApRSnyg3zQAFbYpsajIG5XqOV8qT8t7//PNeP1MuQCn1Uc7bLShs0W3z\n",
       "NjNLmC6U6xg2CZkv/rucX0BP6hPlvyu4MEP2XHiyF8pX31IX7XPlF9BOPZ918T6GLoleJwC+87eY\n",
       "h/JEFii0jTakHEFlKodi6kGwZv7j7ccyx2tLmLpyS+7tAoeUI6hMFaAndSdYiPk+hlPC2xjiOVuk\n",
       "fCt0caElJTumG0NFqgg9qTtBu970pBgze3ndpkzhxNo2safygGRZEFOOoRKVQxn1IPSmJ8RY6kKw\n",
       "iFyaD1GeoY5iILDuWGe9WpzQmOBG+QCl1JMw1pYeSTcxae02A+e8sTJ81BayQ13du8IaFGrLeg3F\n",
       "VEToQcJe/XuHtN7V4ZFtno/KyhppUWI9j1lKOfbiVAGKqFI9BzAlQr3pjzOQL21EbMtb1P3s49FR\n",
       "yalSIAnKV2W+73I+UiUoooqdqC80gSXYJLch3PIVavv3l93/PUEIEiT/R6YxXFyfeL0i0KbXZjgJ\n",
       "nzDpiYl2x7ZCRbgAfUGww2Fb8k+PTBvM0DONl798RugbgnWwfOo7NPBQ+srzJfQg/AeFSSarJQ09\n",
       "pQAAAABJRU5ErkJggg==\n",
       "\" style=\"display:inline;vertical-align:middle;\" /></a></span>"
      ],
      "text/plain": [
       "{[not]({1, 2, 3, 4} proper_subset {1, 2, 3})} |- {1, 2, 3, 4} not_proper_subset {1, 2, 3}"
      ]
     },
     "metadata": {},
     "output_type": "display_data"
    }
   ],
   "source": [
    "NotProperSubset(set_1234, set_123).conclude_as_folded(assumptions=[Not(ProperSubset(set_1234, set_123))])"
   ]
  },
  {
   "cell_type": "code",
   "execution_count": 243,
   "metadata": {},
   "outputs": [
    {
     "data": {
      "text/html": [
       "<span style=\"font-size:20px;\"><a class=\"ProveItLink\" href=\"../__pv_it/demonstrations/742c2cf5f75f30c5e2684358ea53cedad3726d950/expr.ipynb\"><img src=\"data:image/png;base64,iVBORw0KGgoAAAANSUhEUgAAANoAAAAVBAMAAADSje2JAAAAMFBMVEX////MzMxERES6uroQEBCY\n",
       "mJgyMjLu7u52dnaqqqqIiIhUVFTc3NwiIiJmZmYAAAAM3gM0AAAAAXRSTlMAQObYZgAAAAlwSFlz\n",
       "AAAOxAAADsQBlSsOGwAAArVJREFUSMeNlk1oE0EUgF9M6qbZTZqLIEh/xEPBVuhB8CCIUIoHDy4e\n",
       "vHgJFC/24KI3RQziLWhzENuD0h4qHjxYUYsYkEUQREUDIiJlSxEMBTGoSENBiG/ezO7MzmS3XZjm\n",
       "5c375tuf2dcAyMPHcWkCtj+cu72yKSgBTixVqOOY9nZgg32jZi4VZUB2Uc3M41hgROaLyHxo7RfR\n",
       "m1sHorohHGPmgoQOegkoA+4r1VYF/9zEcaXVEdc/ArP87ljrsFAPC1dFHV3QoSAIyhRiynp5wUtA\n",
       "GbBbufiSG65SEDbbh9xxvugWXKuEAsWWOe9HPKUeeQkom+1bl7Yc6LZcB+x/FGUnYSC07ZmRtqtS\n",
       "FrcZKM2ekNV3DJvdBPt39FhcEVQV2xNIsBkozZ6T1RuGDY/iLxFkP4c30ldslSSbgdJsTVaTuKXZ\n",
       "hsWuzTx8LDKvgdmWeHZZsbU0Wxwl4Az8xE0VrGH4lW2lKc22Kje42JNVsn2kb45i46hii6ME3Obf\n",
       "3+GYRGJlIm4rjchNxJN9PtmsFdI1pYyj0qahBAzHbDA0GredFZ+ZMuzaougtkC0/Td++y2vjqLRp\n",
       "KAGHpY3dSd4jIlt/Fd5TMNAJbUcbjb/PRePA91VpjWMxm44ScE/0GRwHY3vSYsFegAfAynLL7HaI\n",
       "lU7iuCH6T+OIuSe9HigHTstzq0VIHt9L9v47a+1209pkT8vFl4YiPP4onSt7Xe1cALM+UJmGitkN\n",
       "aRsMEfvp5jMoYmcudrvdCgTsDI+1sbVSBN+6L6RNe98ap2ZcKtNRDnyS1cUyqKvMhUG/Z0ZJtnTA\n",
       "kVuY90y5SjUM8mBGqbZEoOQq5eNRj2DPP/rXdxnMiDcO4K1BPLelbYFX6sldjHoE25dRerFHZE2Z\n",
       "1xahicB47McDTjo/6jv5XVLrUZWGElDw4T+LzfuKiaP4TgAAAABJRU5ErkJggg==\n",
       "\" style=\"display:inline;vertical-align:middle;\" /></a> <a class=\"ProveItLink\" href=\"../__pv_it/demonstrations/48d8943c169a8ff4ef6b758135e9201b591cf5770/proof.ipynb\" style=\"text-decoration: none\">&nbsp;&#x22A2;&nbsp;&nbsp;</a><a class=\"ProveItLink\" href=\"../__pv_it/demonstrations/3576c524cd5d2022c045a0b1742d0af8e09341500/expr.ipynb\"><img src=\"data:image/png;base64,iVBORw0KGgoAAAANSUhEUgAAALkAAAAYBAMAAABUw0EkAAAAMFBMVEX///9ERETMzMxUVFSYmJgQ\n",
       "EBDc3NxmZmYiIiJ2dnaqqqoyMjKIiIi6urru7u4AAAB85a56AAAAAXRSTlMAQObYZgAAAAlwSFlz\n",
       "AAAOxAAADsQBlSsOGwAAAp1JREFUSMe1lU1oE0EUx//dJNskTdJiL14sFYXiyWBV1CoNePJWsD2K\n",
       "K35UQdBQYYu5BCq4JxsQsTdzEryYSK9WAtKTIAEPnpQFL4KKH6BIolln33zsbLI2qeDA7rx9+37/\n",
       "fTP7Zgb4lzY5eGjuzQBB5kP9qSz6T82+wIu3g+SwZyKw4w3eZzbcfkC6w27GHflJ+4kY9pX7u1Tk\n",
       "FLvGAzApRGuuji6WdkBHCUixYb4rdcSLc0j95vN1HbWqlFth15qwMzudBYdn4LsUao7hQVNH16Q6\n",
       "MlL9MLDARVr4XJeCmrrx1MIB4SeXRGMWEnM6GqF+1sWs5RvZMxiV6nvXA/X3FnL1KPVEB7Ef0NAI\n",
       "9SPArKy3WkEYFU39BCOqkbmXEfsGDY1QZ21V9NlbcmIsTZ0llUSUuv+3v+govR2uh0OMX6J/Lqf3\n",
       "Anz1Te7NA6dkaKlLfX9DRwm4WOhKIK+GJ2agQurX6Mlkb5/J6p3vUl+BjvrA+Y2ukKKyEtwZt0g9\n",
       "N1Ply9QQnzdnmmF0eCyE+oBRdEMhccEakxhqkXUVpJ6iNHATMfnXpybC6icRQgkYyodCHsGkihzt\n",
       "SPVX09Pfj4qFySqy+UFlOB5ST1dwCRpKgKqZHH23gozrW4m8Pzyx5E+z657Y89ZvoKdmCN0HvCSA\n",
       "oxwg9RRbB7Q0L9v2MlnxAivaXJvLfNV2gmzbcbSdQKHmbdsuE0CoVu+xQ+2DSPrb0arntbn12mZb\n",
       "kUPJF73jgTqbAD13hSY9z6tzgFBtNVF7jB4r7YangbURq8e1BRCoB0kpK4Ueqd2IUP8rkJmTZ1QD\n",
       "PdbHILjEu+Wfjpr3zf6A2ZLbifIHViM4H+e7Tj21fLcGFo8Ncq7eFUrxiuZcqvYHttVGXPzHZm4n\n",
       "+A+YheEII9pIIgAAAABJRU5ErkJggg==\n",
       "\" style=\"display:inline;vertical-align:middle;\" /></a></span>"
      ],
      "text/plain": [
       "{[not]({1, 2, 3, 4} subset_eq {1, 2, 3})} |- {1, 2, 3, 4} not_subset_eq {1, 2, 3}"
      ]
     },
     "metadata": {},
     "output_type": "display_data"
    }
   ],
   "source": [
    "NotSubsetEq(set_1234, set_123).conclude_as_folded(assumptions=[Not(SubsetEq(set_1234, set_123))])"
   ]
  },
  {
   "cell_type": "markdown",
   "metadata": {},
   "source": [
    "### `not_proper_subset.deduce_in_bool()`, `NotSubsetEq.deduce_in_bool()`\n",
    "\n",
    "<font size=3>The <span style=\"font-family:courier;\">deduce_in_bool()</span> method, called on a NotProperSubset expression such as $A\\not\\subset B$, derives the fact that $A\\not\\subset B \\in \\mathbb{B}$ --- i.e. such subset claims are Boolean values. The method works similarly for the NotSubsetEq class.</font>"
   ]
  },
  {
   "cell_type": "code",
   "execution_count": 244,
   "metadata": {},
   "outputs": [
    {
     "data": {
      "text/html": [
       "<span style=\"font-size:20px;\"> <a class=\"ProveItLink\" href=\"../__pv_it/demonstrations/d55f158c6b878126ec501d33536e1053ba7354b70/proof.ipynb\" style=\"text-decoration: none\">&nbsp;&#x22A2;&nbsp;&nbsp;</a><a class=\"ProveItLink\" href=\"../__pv_it/theorems/7c381b26cfeeb0ecb1c48519ff9546766f5de89a0/expr.ipynb\"><img src=\"data:image/png;base64,iVBORw0KGgoAAAANSUhEUgAAAHEAAAAVCAMAAABGxfGuAAAAPFBMVEX///9WVlaurq4dHR0JCQnM\n",
       "zMxUVFRERES6uroiIiIQEBCYmJhmZmYyMjLu7u52dnaqqqqIiIjc3NwAAAAbIUMoAAAAAXRSTlMA\n",
       "QObYZgAAAAlwSFlzAAAOxAAADsQBlSsOGwAAAeZJREFUSMelVuu6hCAI9FwUUfH6/u96NK2orN39\n",
       "jn92S2AYGEkh6sriX+tz9xS5O01tnL/31+kVABqgQgaVXp5j4LtUZj4SDo8WSlF1Ecglon1FClpa\n",
       "mfwC6Q+kYpki9shsmZ6CKssG+deINauQRXNzhwSdKpO2SHVuXemV1MUtnN1biDaKFsjwnZBDOdJJ\n",
       "gIi/P4iH13ZY2YFs/NUJaYJY30Ve1JxEKlxHkmolhD5TrNUcXTe9IsQLpSn5KUeVbdWM47pxrZHM\n",
       "2eMSkC6F7m30amUeFFe7nyrHJ1ThlJ2u9GRhKXQ1XynKAikltftaVinK0z4imYLtkGE8UKyaYPHp\n",
       "JkTq8opmhYzm7DSrarK68jea9du5qlU4SVRfhQgDYJOZ3M+UNDgWnBHbT2CIvsuu4N4RdVOltQ6r\n",
       "VIXeOXq45dhOI7CqDirICtTA45WiXNWlysg34tHpHpEErENR2+uYa9NhorzRxopM29hju+kBMaZN\n",
       "13mlBnzokJ5QrKdwlHLL5nDGKM4Qq0VIoUaT2ItfyuIe25/AmmK+zxzVNsb3yKiZgVegD06JDMD+\n",
       "7UD5NBDjV4CuvCezfOqdXpzoxvp5Cr/8Kmz9/mDBwzfchrcuAfDZFcA/2KP/b87zFO9vDfKtW8tH\n",
       "gH+qmRXTmXeougAAAABJRU5ErkJggg==\n",
       "\" style=\"display:inline;vertical-align:middle;\" /></a></span>"
      ],
      "text/plain": [
       "|- (A not_proper_subset B) in BOOLEAN"
      ]
     },
     "metadata": {},
     "output_type": "display_data"
    }
   ],
   "source": [
    "# NotProperSubset claims (correct or not) are Boolean values:\n",
    "NotProperSubset(A, B).deduce_in_bool()"
   ]
  },
  {
   "cell_type": "code",
   "execution_count": 245,
   "metadata": {},
   "outputs": [
    {
     "data": {
      "text/html": [
       "<span style=\"font-size:20px;\"> <a class=\"ProveItLink\" href=\"../__pv_it/demonstrations/5141787cc6ed0d69730d957775dbfc030dd0c18d0/proof.ipynb\" style=\"text-decoration: none\">&nbsp;&#x22A2;&nbsp;&nbsp;</a><a class=\"ProveItLink\" href=\"../__pv_it/demonstrations/c251eee0b643f7691ef7e32e361c4d52fee1a3ec0/expr.ipynb\"><img src=\"data:image/png;base64,iVBORw0KGgoAAAANSUhEUgAAAOwAAAAVCAMAAABykPL3AAAAPFBMVEX///8AAAAAAAAAAAAAAAAA\n",
       "AAAAAAAAAAAAAAAAAAAAAAAAAAAAAAAAAAAAAAAAAAAAAAAAAAAAAAAAAAAo1xBWAAAAE3RSTlMA\n",
       "InZUiRDNmWbv3US7qzL341CpD4pfwQAAAAlwSFlzAAAOxAAADsQBlSsOGwAAAxZJREFUWMOtWOma\n",
       "pCAM5AxyObvL+7/rinIbFf2GPz2dJlUkhFAMIdug5BjSWvIrg3I6O/UTZ8Wnb10ZT59g5e8ES1bv\n",
       "LqBUb//IWfAte4jNaAcBtPFHTrk47Dxc00qnzeQyQKv46Tz+s+u+fufM+Gx5WJCLCaEg92glJKu4\n",
       "DQfUbNYDv0Fza/f1O2fxBPkY7JYPQUlMs1qmiAOfjNUem4WjrZ68CPaOs3guaibYhZNIraeIbZg9\n",
       "WgnmhMacMebnjzHrbLC3nNVTyzOPgXOwm4nDFLEws1Wcam9wWGErJGL9G9jJH6E9tRaYxHbW02Vr\n",
       "TUqc3akXjPZtDjxjfqgqwdjSHcHot6ba61cqzX5HAL1aMkJ5z1nxRZNBej7BsUFJZrzo8qLyHlu9\n",
       "rcl1NSTDhiJDu1ZqtnWotrl2fky3jEfjP21s4UQoHzgr/gJNfih2Zg3oYOKdZ3LqqE5hy/0PZc5X\n",
       "hG5Tb8RgSX6JmnbdBfClZE6M8oGz4nM98iBlzBa7pU7bVEaQlYwKBXfYgdDY1Kl7DH7SA++bsB36\n",
       "ZuXEKJ84C/4aamfQJg03BBs/RA6WrCprHu32GupU3L4O226WdmMKBz8BtgkL3djCiVE+cRZ8qxsd\n",
       "crWz8ZZ1tYyzJpEhlskSzjdem9hjVn/EOr9eG8UC5epKB6GUD5wVn5ue5zJYII4NnVHuJB5IFNsZ\n",
       "MKz5YBXLcdpssXR+G1rXoKJywaTOwYlS3nK2+EuznYxdB8tZ07hzM4/hc6OI2hti6qbbfKdIYzl6\n",
       "olirpfE7X5JgsY3NszDKO84OX7VHHTgSrIhXltigVjMGKz0TK/UsYhojk00kWZktRIhl2S/wOqf6\n",
       "nYLdVP3fy51FKW85W3zTHnXpXfeMYqCdq6+eIt9QwcLlFwuCxv8JdzTKJ7mIwCGmKkcGCLvzAK67\n",
       "ipBGgxWfLAga/jjBOMWcyTTtYH64dCP0midVBfti6fRYSqnA39Z6ghJlKOLFvXr158uJIi8q9slS\n",
       "NFFzJ+APGIQTgWM3+O7lP2ayAKfKc/Irg4oRab2a+Ymz4rM3sf4H5N8di6HazugAAAAASUVORK5C\n",
       "YII=\n",
       "\" style=\"display:inline;vertical-align:middle;\" /></a></span>"
      ],
      "text/plain": [
       "|- ({a, b, c, d} not_proper_subset {a, b, c}) in BOOLEAN"
      ]
     },
     "metadata": {},
     "output_type": "display_data"
    }
   ],
   "source": [
    "NotProperSubset(Set(a, b, c, d), Set(a, b, c)).deduce_in_bool()"
   ]
  },
  {
   "cell_type": "code",
   "execution_count": 246,
   "metadata": {},
   "outputs": [
    {
     "data": {
      "text/html": [
       "<span style=\"font-size:20px;\"> <a class=\"ProveItLink\" href=\"../__pv_it/demonstrations/b790914e8076a0fa5ddd3e1bf5e6136e86ca39ad0/proof.ipynb\" style=\"text-decoration: none\">&nbsp;&#x22A2;&nbsp;&nbsp;</a><a class=\"ProveItLink\" href=\"../__pv_it/theorems/2b4904809aee9a3f7f0d283278bb520cfb3d8f580/expr.ipynb\"><img src=\"data:image/png;base64,iVBORw0KGgoAAAANSUhEUgAAAHEAAAAYBAMAAAA/qw9xAAAAMFBMVEX////MzMxUVFRERES6uroi\n",
       "IiIQEBCYmJhmZmYyMjLu7u52dnaqqqqIiIjc3NwAAACW8nlqAAAAAXRSTlMAQObYZgAAAAlwSFlz\n",
       "AAAOxAAADsQBlSsOGwAAAixJREFUOMtjYMAEjAxEggfoAqwoPD6cGnkPgKmXCJFaFHmWC2garibP\n",
       "nxbkAGSchvDnI6SiIBS7/SclTUMGhuvodhn48s1SYWDgmgDm8fyHCl8ODUsNhDDZDBgY9AUYOBeg\n",
       "63Rn2MfMwMBRAOZx6EO8K3mPgUkAquI90J3+DQzsDZg6a5iABkN4+/aD1XPFMTCshKmoBwrVA3Vn\n",
       "QQPENDQSrpOTgeEkJAAv3AcHFBPQ53tgOvWBeBrQKdMhITV3AcJOvWoGhm6IYxnOg10NNIohAKYz\n",
       "mYFhEcjLmyCBvwARQmuDNsAM9GGQ3wCihYBBugGWID7fvQSWrQRz5yH86TrtaxcDQwyY08DwXgFE\n",
       "P2JABCXvPwaGYyCXHANzJyCH0HXPBQwpYEUWHfoG0OQjBFPAnMDAwP0RyJAHuyA1NDQ0GKaTmWUD\n",
       "ROdaBgZ+sPc4DjAownTyA13B/hfIcAOHugGyncwMBhDXAmOMNQEsH8IFd5U80KVMX4CMo2BuAKrO\n",
       "CQy2oAAHquH8ABZdqVEAU3AfGCHyIHOKwdy7KDp5LoCD/BnIV/8gwv5TQ0MhqW8a0MhMUHBBIo7z\n",
       "AFynN8PeHQwMogwMi//PYuCx/wmJjdMweeX/SkqTwapDwHwuZS+IxM1ke3BeYRVATZTzMLIhH9SH\n",
       "LJuhqQ8K0NIzowGGTo4CHDnbDkVVPDDWoP6Egce4yoTFeEoSTKNRvIFSWlRjljYPiCvOZjGQCx4Q\n",
       "rRIALql8SxCGg5cAAAAASUVORK5CYII=\n",
       "\" style=\"display:inline;vertical-align:middle;\" /></a></span>"
      ],
      "text/plain": [
       "|- (A not_subset_eq B) in BOOLEAN"
      ]
     },
     "metadata": {},
     "output_type": "display_data"
    }
   ],
   "source": [
    "# NotSubsetEq claims (correct or not) are Boolean values:\n",
    "NotSubsetEq(A, B).deduce_in_bool()"
   ]
  },
  {
   "cell_type": "code",
   "execution_count": 247,
   "metadata": {},
   "outputs": [
    {
     "data": {
      "text/html": [
       "<span style=\"font-size:20px;\"> <a class=\"ProveItLink\" href=\"../__pv_it/demonstrations/6db94f2ecdec31e08afce892fd2733a4da6c6fb90/proof.ipynb\" style=\"text-decoration: none\">&nbsp;&#x22A2;&nbsp;&nbsp;</a><a class=\"ProveItLink\" href=\"../__pv_it/demonstrations/9c9f425c2c11bd035024346b9f9465df46b845fa0/expr.ipynb\"><img src=\"data:image/png;base64,iVBORw0KGgoAAAANSUhEUgAAAOwAAAAYBAMAAAAL/gwoAAAAMFBMVEX///8AAAAAAAAAAAAAAAAA\n",
       "AAAAAAAAAAAAAAAAAAAAAAAAAAAAAAAAAAAAAAAAAAAv3aB7AAAAD3RSTlMAInZUiRDNmWbv3US7\n",
       "qzJazP2FAAAACXBIWXMAAA7EAAAOxAGVKw4bAAADgklEQVRIx8VWTWgTQRR+SXaTND928VA8WFxL\n",
       "BRWUrahgLwYvarFl8SBYWxILQaUUAhaRojSIeFEUBbHWgoHWFqOHHPTQU9OCiqJYaimCIvGiIEpr\n",
       "a4MoiDPzZmf/BbHgwCYvM9/3vnnvzbwswF+NCqzYUMhzpOS3Gmiy/irwb3+8gxnwWw1q5OnWfdlf\n",
       "Hpl2VOWcP+DtzLjqULv7uDr4hhjbybPb5qVj0IZ8YZoxjrPh5acFD80PN5C50TGfiKt1nSWQM8Ru\n",
       "sS8ds/0yFoPPijeLFdsUjnDOK9YlhIV1p2xeUsoQybtll7xkV3Up8M6xExy1modqfBlh0ZxLNqpN\n",
       "Q43bDWW4ZdsVzIwbP+FVaKnAYddFrkaFbAZ2ut1IBS9Zcg4kzVO2xSvHNPNs4TiG0qWLaJNrUtAr\n",
       "iPV7VnPGzBbuX2q4LLySSGNWocDsen5KexpegQWPvuY1zmxlE3W6SPKGzbN8M6fofq7CS1xLZ+Wv\n",
       "ePOG4QzAJiztNMB5Q5bix5UEFkOu6mnFgjd9MeYFNnPUrO3o7TEdhil8gHwczkOfuB7X8L6kqLGO\n",
       "hR4gslmjERC8PAARLEZoGWpUCx590Z0x5i4jVyLJwYtZuEW8zNGe0w8wImL5xox+Fr08p2GDogEz\n",
       "VYqPLFAVOiIZqE1Z8KYvxpxnuRosFov3uSyUH1BZ+Egb0RDIP5E0AnG8QkNYsG72dRKSRkem+Joy\n",
       "pEtGjBOaBW/6YsxxtvWyJVooJ1iSaTuRFyG6YFzbCKsambK0pPbSIWvjSqtwRVxbnpZFo29xX4zZ\n",
       "bGvmKBuGKX4y5SVIZpqAAn/R2lDjOzkcAPu5r57T1iuT1mAupMhUtkLqTA3E68IXMi8xRoNNdhue\n",
       "b3rSp6A5l5OrxHoNT4AZ5Fi2mdcyXiX1Ec0xoYbGIpAmRyWZT+SYwfCMyHxxZi9eSk3IpqTGHHwy\n",
       "ZDsb389UoEg227mXNExqSPvO6aZsKGWNVp5pq98KsTvEmiVpoAbimQfmC5n3MFdvH2KzOvGc/QPF\n",
       "KrY+E9KdhlgMKx59aYfLMInYVXhV4wewORp/oTmbG8lliMXPXu0w5TIkO4z91XiMSTAaER0HXQa7\n",
       "+GT0/SiK2gq8rDoNC5Ex1/q8A3QY7YQN1WXIA44XGis+CE7DJCJz0u+Vh+ACZzXfN6JWvhRNWSb9\n",
       "8Q5mUPnHN72wDv9jBFbS2W/VBewgZDoiAAAAAABJRU5ErkJggg==\n",
       "\" style=\"display:inline;vertical-align:middle;\" /></a></span>"
      ],
      "text/plain": [
       "|- ({a, b, c} not_subset_eq {a, b, c, d}) in BOOLEAN"
      ]
     },
     "metadata": {},
     "output_type": "display_data"
    }
   ],
   "source": [
    "NotSubsetEq(Set(a, b, c), Set(a, b, c, d)).deduce_in_bool()"
   ]
  },
  {
   "cell_type": "markdown",
   "metadata": {},
   "source": [
    "### Testing Some Subset/Superset Automation\n",
    "\n",
    "<font size=3>A number of basic subset/superset identities (such as containment reversals, relaxations, and transitivity) should be accessible through automation. The following cells test the proof automation for a variety of these simple containment identities.</font>"
   ]
  },
  {
   "cell_type": "code",
   "execution_count": 248,
   "metadata": {},
   "outputs": [
    {
     "data": {
      "text/html": [
       "<span style=\"font-size:20px;\"><a class=\"ProveItLink\" href=\"../__pv_it/theorems/4fcb3ae92330d8963f99abe44b7ac51675d7edc40/expr.ipynb\"><img src=\"data:image/png;base64,iVBORw0KGgoAAAANSUhEUgAAADsAAAAQBAMAAABaYBp1AAAAMFBMVEX///8QEBAiIiLu7u5ERES6\n",
       "urqYmJiIiIjMzMx2dnZUVFRmZmaqqqoyMjLc3NwAAABb1yYoAAAAAXRSTlMAQObYZgAAAAlwSFlz\n",
       "AAAOxAAADsQBlSsOGwAAAPlJREFUGNNjYACBtwx4wX0METb/X6vWekDYPP8xdTA6MDCsbwAzudc/\n",
       "wJB+X8DAEL8BzJw3H6KMoURJSUkDwswHCuUXgFh8BfUHwEK98xC61wPxRbCh3AznE0A0sx6S4SIM\n",
       "DFYQg2IY+ieAaK4AhCzHl/KqaxDmBob3C0A0L5Jm9n8MDAfBZrJ7717vAGJ0IUmzCDAwcP4AscwZ\n",
       "GPgVQIxXSNL8QPPYvkPMZmASADGYkKT7gQZzfQUyWIEM3g9gHyQgpOuBfuq/AGQ8BNn0Dyx2FSF9\n",
       "EahP1oCBweT/ZQYe/79gn5ksNYDKLvm/atWVA+gBHekED1QIAABk7Tw2U7mlYQAAAABJRU5ErkJg\n",
       "gg==\n",
       "\" style=\"display:inline;vertical-align:middle;\" /></a> <a class=\"ProveItLink\" href=\"../__pv_it/demonstrations/49305e5eb3f5abbfa235f19eb27d663d3418c4390/proof.ipynb\" style=\"text-decoration: none\">&nbsp;&#x22A2;&nbsp;&nbsp;</a><a class=\"ProveItLink\" href=\"../__pv_it/demonstrations/34d8a1af3fd83afd4a47a27787ce7e6ae42cea870/expr.ipynb\"><img src=\"data:image/png;base64,iVBORw0KGgoAAAANSUhEUgAAADsAAAAQBAMAAABaYBp1AAAAMFBMVEX///92dnaqqqoiIiLu7u5m\n",
       "Zma6urqIiIjc3NwQEBDMzMwyMjJUVFRERESYmJgAAAAeMT9/AAAAAXRSTlMAQObYZgAAAAlwSFlz\n",
       "AAAOxAAADsQBlSsOGwAAAPVJREFUGNNjYMANusHk2/9nzuxdgEV6P4Say8DA8wtTluk/mOL4zsDA\n",
       "9hVTmvV8A4jiA+rkAyphYDE2NrYtgEtLyINt5PnAwMA9AyrGUQxzBUdBvQKI5rzAwHIY7jQWC5jZ\n",
       "DPoPQPT66+WnHyCsXAulkxjWC4Do+gYGpnkIaW4HCB3A0H8ARN8EYnmEvxkTwBT71dDzF0CMP0D8\n",
       "HuFgVoi0OwMDvwGQ5voHJM4nIAyHmc3APAFkyg+gkt8Iu3XAJBvQsdwfQKqBajK3wGW5TMBUJxDz\n",
       "AjXy3P9z5vQluKxbLDgkff9vYWC6/1sAOZBBgbpVASXcAWiRPkaPDVwVAAAAAElFTkSuQmCC\n",
       "\" style=\"display:inline;vertical-align:middle;\" /></a></span>"
      ],
      "text/plain": [
       "{A proper_subset B} |- B proper_superset A"
      ]
     },
     "metadata": {},
     "output_type": "display_data"
    }
   ],
   "source": [
    "# subset reversal to superset\n",
    "proper_superset(B,A).prove(assumptions=[ProperSubset(A,B)])"
   ]
  },
  {
   "cell_type": "code",
   "execution_count": 249,
   "metadata": {},
   "outputs": [
    {
     "data": {
      "text/html": [
       "<span style=\"font-size:20px;\"><a class=\"ProveItLink\" href=\"../__pv_it/theorems/db7a164f644801bfd111812bb9a6a278f180c2b50/expr.ipynb\"><img src=\"data:image/png;base64,iVBORw0KGgoAAAANSUhEUgAAADsAAAASBAMAAAAXqLt+AAAAMFBMVEX///8QEBAiIiLu7u5ERES6\n",
       "urqYmJiIiIjMzMx2dnZUVFRmZmaqqqoyMjLc3NwAAABb1yYoAAAAAXRSTlMAQObYZgAAAAlwSFlz\n",
       "AAAOxAAADsQBlSsOGwAAAP5JREFUKM9jYACBtwx4wX0METb/X6vWekDYPP+hgiVKSkoaECajAwPD\n",
       "+gYwk3v9AzDdW4fQ/r6AgSF+A5g5bz5YGbMekun5QKH8AhCLr6D+AIjmCkCSXg/EF8GGcjOcTwDR\n",
       "vMhuE2FgsII4I4ahfwKI7kKS5fhSXnUNwtzA8H4BiH6FJM3+j4HhINhMdu/d6x1ADCYkaRYBBgbO\n",
       "HyCWOQMDvwLYDQkIaX6geWzfIWYzMAmAxa4ipPuBSrm+AhmsQAbvB7CY1VIDmHQ90E/9F4CMhyCb\n",
       "/kEEI51ggXoRqE8WqNjk/2UGHv+/E1BjZMn/VauuHGCgIuBWUkJEKAQAAKfCPPnSFvDNAAAAAElF\n",
       "TkSuQmCC\n",
       "\" style=\"display:inline;vertical-align:middle;\" /></a> <a class=\"ProveItLink\" href=\"../__pv_it/demonstrations/e11fb9afccc3227b392570881b90d5225113b7a80/proof.ipynb\" style=\"text-decoration: none\">&nbsp;&#x22A2;&nbsp;&nbsp;</a><a class=\"ProveItLink\" href=\"../__pv_it/demonstrations/2f97b8239e5e9469dfa6dcdec35f3fc589b430b60/expr.ipynb\"><img src=\"data:image/png;base64,iVBORw0KGgoAAAANSUhEUgAAADsAAAASBAMAAAAXqLt+AAAAMFBMVEX///92dnaqqqoiIiLu7u5m\n",
       "Zma6urqIiIjc3NwQEBDMzMwyMjJUVFRERESYmJgAAAAeMT9/AAAAAXRSTlMAQObYZgAAAAlwSFlz\n",
       "AAAOxAAADsQBlSsOGwAAAPtJREFUKM9jYMANusHk2/9nzuxdgEV6P4Say8DA8wtIsxgbG9sWwGWZ\n",
       "/oMpju8MDGxfoWIc1XBzWM83gCg+oE6+7zBBlh0wloQ8WCXPBwYG7hlwM1fDzCmoVwDRnBcYWA4j\n",
       "nMbdADWbQf8BiF5/vfz0A4R7GRUgdBLDegEQXd/AwDQPIc2aAKEDGPoPgOibQCyPZDiEYr8aev4C\n",
       "iPEHiN8jvKsDodwZGPgNgDTXPyBxPgEmy2UCM5uBeQLIlB9Asd8wWbdYiMPZgI7l/gCyC6gmcwsD\n",
       "NFC3Qt3dCcS8QI089/+cOX0JPTZ8/29hYLr/W4CBagBkt7GxDbIQAEAHQAuUZ5lFAAAAAElFTkSu\n",
       "QmCC\n",
       "\" style=\"display:inline;vertical-align:middle;\" /></a></span>"
      ],
      "text/plain": [
       "{A subset_eq B} |- B superset_eq A"
      ]
     },
     "metadata": {},
     "output_type": "display_data"
    }
   ],
   "source": [
    "# subset_eq reversal to superset_eq\n",
    "superset_eq(B,A).prove(assumptions=[SubsetEq(A,B)])"
   ]
  },
  {
   "cell_type": "code",
   "execution_count": 250,
   "metadata": {},
   "outputs": [
    {
     "data": {
      "text/html": [
       "<span style=\"font-size:20px;\"><a class=\"ProveItLink\" href=\"../__pv_it/demonstrations/99a73bbf94d51cc48a696001ab61cd94dabdccab0/expr.ipynb\"><img src=\"data:image/png;base64,iVBORw0KGgoAAAANSUhEUgAAADsAAAAQBAMAAABaYBp1AAAAMFBMVEX///8QEBAiIiLu7u5ERES6\n",
       "urqYmJiIiIjMzMx2dnZUVFRmZmaqqqoyMjLc3NwAAABb1yYoAAAAAXRSTlMAQObYZgAAAAlwSFlz\n",
       "AAAOxAAADsQBlSsOGwAAAPRJREFUGNNjYACBtwx4wX0METb/X6vWekDYPP8xdTA6MDCsbwAzudc/\n",
       "wJB+X8DAEL8BzJw3H6zMSElJyR0mnQ8Uyi8AsfgK6g/ARJ9rQBnrgfgi2FBuhvMJcEONoPaIMDBY\n",
       "QZTGMPRPgEtzOECoL+VV1yAiGxjeL0C46TKYZP/HwHAQbCa79+71DgjpqWCSRYCBgfMHiGXOwMCv\n",
       "gJDeCib5geaxfYeYzcAkgJC+ACb7gQZzfQUyWIEM3g9wWR6IM+qBHugHqXwIsukfXLrJAExdBOqT\n",
       "BTJN/l9m4PH/C/UZc7QfmF7yf9WqKwdQgxkYqLp7UIUA9WQ+SWPt8M0AAAAASUVORK5CYII=\n",
       "\" style=\"display:inline;vertical-align:middle;\" /></a> <a class=\"ProveItLink\" href=\"../__pv_it/demonstrations/6a40872442e1a742e93afabc25fcd862ea4a7d350/proof.ipynb\" style=\"text-decoration: none\">&nbsp;&#x22A2;&nbsp;&nbsp;</a><a class=\"ProveItLink\" href=\"../__pv_it/demonstrations/a0954e7725ea806bd584cda24db58f872293f1360/expr.ipynb\"><img src=\"data:image/png;base64,iVBORw0KGgoAAAANSUhEUgAAADsAAAAQBAMAAABaYBp1AAAAMFBMVEX///92dnaqqqoiIiLu7u5m\n",
       "Zma6urqIiIjc3NwQEBDMzMwyMjJUVFRERESYmJgAAAAeMT9/AAAAAXRSTlMAQObYZgAAAAlwSFlz\n",
       "AAAOxAAADsQBlSsOGwAAAPZJREFUGNNjYMANusHk2/9nzuxdgEV6P4Say8DA8wtTluk/mOL4zsDA\n",
       "9hVTmvV8A4jiA+rk+w4WYb9sbGwMs0dCHszi+cDAwD0DxOLa2IDQzFFQrwCiOS8wsBwGK3RuQDab\n",
       "Qf8BiF5/vfw0mMFwDNnqJIb1AiC6voGBaR5YZAOydABD/wEQfROIwa7gOoAky3419PwFEOMPEL8v\n",
       "ADkGWdqdgYHfAKTnH5A4nwASMkAxm4F5AsiUH0Alv8FCcQhZNqBjuYE+ZuAGqsncAhbjToBLdwIx\n",
       "L1Ajz/0/Z05fgoix3EmByvr+38LAdP+3AGows8kiBSoIAACdWEGP8Ype+AAAAABJRU5ErkJggg==\n",
       "\" style=\"display:inline;vertical-align:middle;\" /></a></span>"
      ],
      "text/plain": [
       "{A proper_superset B} |- B proper_subset A"
      ]
     },
     "metadata": {},
     "output_type": "display_data"
    }
   ],
   "source": [
    "# superset reversal to subset\n",
    "ProperSubset(B,A).prove(assumptions=[proper_superset(A,B)])"
   ]
  },
  {
   "cell_type": "code",
   "execution_count": 251,
   "metadata": {},
   "outputs": [
    {
     "data": {
      "text/html": [
       "<span style=\"font-size:20px;\"><a class=\"ProveItLink\" href=\"../__pv_it/demonstrations/e8df50723d896cb4b33a5a2d005764d6a20e4c160/expr.ipynb\"><img src=\"data:image/png;base64,iVBORw0KGgoAAAANSUhEUgAAADsAAAASBAMAAAAXqLt+AAAAMFBMVEX///8QEBAiIiLu7u5ERES6\n",
       "urqYmJiIiIjMzMx2dnZUVFRmZmaqqqoyMjLc3NwAAABb1yYoAAAAAXRSTlMAQObYZgAAAAlwSFlz\n",
       "AAAOxAAADsQBlSsOGwAAAP1JREFUKM9jYACBtwx4wX0METb/X6vWekDYPP/BlJGSkpI7TJ7RgYFh\n",
       "fQOYyb3+AUz0+Q0o430BA0P8BjBz3vwGuKm2UJX5QKH8AhCLr6D+AFya4wKEXg/EF8FKuRnOJyAc\n",
       "dQ9CiTAwWGmAWTEM/RMQ0nMghnwpr7oGEdjA8H4BQnormGT/x8BwEGwmu/fu9Q4IaYjdLAIMDJw/\n",
       "QCxzBgZ+BbgsD8QgfiDF9h1iNgOTAFy6yQBM9QMN5voKZLACGbwfoJLM0X4QRj3QT/0gex6CbPoH\n",
       "DVTdPVB1F4H6ZIEGmfy/zMDj/3cCaows+b9q1ZUDDFQEoAhVUlqALAQArX5BIg1OZRUAAAAASUVO\n",
       "RK5CYII=\n",
       "\" style=\"display:inline;vertical-align:middle;\" /></a> <a class=\"ProveItLink\" href=\"../__pv_it/demonstrations/f02f2d355b82176d115f2d24e327f519d40403030/proof.ipynb\" style=\"text-decoration: none\">&nbsp;&#x22A2;&nbsp;&nbsp;</a><a class=\"ProveItLink\" href=\"../__pv_it/demonstrations/ef30b59e5d361aec67721f56de6d475e89d7cb740/expr.ipynb\"><img src=\"data:image/png;base64,iVBORw0KGgoAAAANSUhEUgAAADsAAAASBAMAAAAXqLt+AAAAMFBMVEX///92dnaqqqoiIiLu7u5m\n",
       "Zma6urqIiIjc3NwQEBDMzMwyMjJUVFRERESYmJgAAAAeMT9/AAAAAXRSTlMAQObYZgAAAAlwSFlz\n",
       "AAAOxAAADsQBlSsOGwAAAPdJREFUKM9jYMANusHk2/9nzuxdgEV6P4Say8DA8wvMYr9sbGwMU8n0\n",
       "H0xxfGdgYPsKYnFtb0DSzHoezOMD6uT7DmI5I8sySMiDzeH5wMDAPQPEOoYsy1FQrwCiOS8wsBwG\n",
       "K9yALM3KoP8ARK+/Xn4azOA6gCydxLBeAETXNzAwzQMbhyIdwNAP5t8EYogrDJBk2a+Gnr8AYvwB\n",
       "4vcFIFYckrQ7AwM/SDnXPyBxPgEkxJ2AbDYD8wSQKT+ASn6DhVjOpMBk2YCO5f4A0gJUk7kFKigL\n",
       "C9ROIOYFauS5/+fM6UvoseH7fwsD0/3fAgzUA8HGxkgRCgIAMkxDd13jCOwAAAAASUVORK5CYII=\n",
       "\" style=\"display:inline;vertical-align:middle;\" /></a></span>"
      ],
      "text/plain": [
       "{A superset_eq B} |- B subset_eq A"
      ]
     },
     "metadata": {},
     "output_type": "display_data"
    }
   ],
   "source": [
    "# superset_eq reversal to subset_eq\n",
    "SubsetEq(B,A).prove(assumptions=[superset_eq(A,B)])"
   ]
  },
  {
   "cell_type": "code",
   "execution_count": 252,
   "metadata": {},
   "outputs": [
    {
     "data": {
      "text/html": [
       "<span style=\"font-size:20px;\"><a class=\"ProveItLink\" href=\"../__pv_it/theorems/4fcb3ae92330d8963f99abe44b7ac51675d7edc40/expr.ipynb\"><img src=\"data:image/png;base64,iVBORw0KGgoAAAANSUhEUgAAADsAAAAQBAMAAABaYBp1AAAAMFBMVEX///8QEBAiIiLu7u5ERES6\n",
       "urqYmJiIiIjMzMx2dnZUVFRmZmaqqqoyMjLc3NwAAABb1yYoAAAAAXRSTlMAQObYZgAAAAlwSFlz\n",
       "AAAOxAAADsQBlSsOGwAAAPlJREFUGNNjYACBtwx4wX0METb/X6vWekDYPP8xdTA6MDCsbwAzudc/\n",
       "wJB+X8DAEL8BzJw3H6KMoURJSUkDwswHCuUXgFh8BfUHwEK98xC61wPxRbCh3AznE0A0sx6S4SIM\n",
       "DFYQg2IY+ieAaK4AhCzHl/KqaxDmBob3C0A0L5Jm9n8MDAfBZrJ7717vAGJ0IUmzCDAwcP4AscwZ\n",
       "GPgVQIxXSNL8QPPYvkPMZmASADGYkKT7gQZzfQUyWIEM3g9gHyQgpOuBfuq/AGQ8BNn0Dyx2FSF9\n",
       "EahP1oCBweT/ZQYe/79gn5ksNYDKLvm/atWVA+gBHekED1QIAABk7Tw2U7mlYQAAAABJRU5ErkJg\n",
       "gg==\n",
       "\" style=\"display:inline;vertical-align:middle;\" /></a> <a class=\"ProveItLink\" href=\"../__pv_it/demonstrations/74f402c0d61bf019d55d20d7e1c36252e15b06230/proof.ipynb\" style=\"text-decoration: none\">&nbsp;&#x22A2;&nbsp;&nbsp;</a><a class=\"ProveItLink\" href=\"../__pv_it/theorems/db7a164f644801bfd111812bb9a6a278f180c2b50/expr.ipynb\"><img src=\"data:image/png;base64,iVBORw0KGgoAAAANSUhEUgAAADsAAAASBAMAAAAXqLt+AAAAMFBMVEX///8QEBAiIiLu7u5ERES6\n",
       "urqYmJiIiIjMzMx2dnZUVFRmZmaqqqoyMjLc3NwAAABb1yYoAAAAAXRSTlMAQObYZgAAAAlwSFlz\n",
       "AAAOxAAADsQBlSsOGwAAAP5JREFUKM9jYACBtwx4wX0METb/X6vWekDYPP+hgiVKSkoaECajAwPD\n",
       "+gYwk3v9AzDdW4fQ/r6AgSF+A5g5bz5YGbMekun5QKH8AhCLr6D+AIjmCkCSXg/EF8GGcjOcTwDR\n",
       "vMhuE2FgsII4I4ahfwKI7kKS5fhSXnUNwtzA8H4BiH6FJM3+j4HhINhMdu/d6x1ADCYkaRYBBgbO\n",
       "HyCWOQMDvwLYDQkIaX6geWzfIWYzMAmAxa4ipPuBSrm+AhmsQAbvB7CY1VIDmHQ90E/9F4CMhyCb\n",
       "/kEEI51ggXoRqE8WqNjk/2UGHv+/E1BjZMn/VauuHGCgIuBWUkJEKAQAAKfCPPnSFvDNAAAAAElF\n",
       "TkSuQmCC\n",
       "\" style=\"display:inline;vertical-align:middle;\" /></a></span>"
      ],
      "text/plain": [
       "{A proper_subset B} |- A subset_eq B"
      ]
     },
     "metadata": {},
     "output_type": "display_data"
    }
   ],
   "source": [
    "# subset relaxation to subset_eq\n",
    "SubsetEq(A,B).prove(assumptions=[ProperSubset(A,B)])"
   ]
  },
  {
   "cell_type": "code",
   "execution_count": 253,
   "metadata": {},
   "outputs": [
    {
     "data": {
      "text/html": [
       "<span style=\"font-size:20px;\"><a class=\"ProveItLink\" href=\"../__pv_it/demonstrations/99a73bbf94d51cc48a696001ab61cd94dabdccab0/expr.ipynb\"><img src=\"data:image/png;base64,iVBORw0KGgoAAAANSUhEUgAAADsAAAAQBAMAAABaYBp1AAAAMFBMVEX///8QEBAiIiLu7u5ERES6\n",
       "urqYmJiIiIjMzMx2dnZUVFRmZmaqqqoyMjLc3NwAAABb1yYoAAAAAXRSTlMAQObYZgAAAAlwSFlz\n",
       "AAAOxAAADsQBlSsOGwAAAPRJREFUGNNjYACBtwx4wX0METb/X6vWekDYPP8xdTA6MDCsbwAzudc/\n",
       "wJB+X8DAEL8BzJw3H6zMSElJyR0mnQ8Uyi8AsfgK6g/ARJ9rQBnrgfgi2FBuhvMJcEONoPaIMDBY\n",
       "QZTGMPRPgEtzOECoL+VV1yAiGxjeL0C46TKYZP/HwHAQbCa79+71DgjpqWCSRYCBgfMHiGXOwMCv\n",
       "gJDeCib5geaxfYeYzcAkgJC+ACb7gQZzfQUyWIEM3g9wWR6IM+qBHugHqXwIsukfXLrJAExdBOqT\n",
       "BTJN/l9m4PH/C/UZc7QfmF7yf9WqKwdQgxkYqLp7UIUA9WQ+SWPt8M0AAAAASUVORK5CYII=\n",
       "\" style=\"display:inline;vertical-align:middle;\" /></a> <a class=\"ProveItLink\" href=\"../__pv_it/demonstrations/40e4ac6d0541fb9184d752316ac96d7eb80828b30/proof.ipynb\" style=\"text-decoration: none\">&nbsp;&#x22A2;&nbsp;&nbsp;</a><a class=\"ProveItLink\" href=\"../__pv_it/demonstrations/e8df50723d896cb4b33a5a2d005764d6a20e4c160/expr.ipynb\"><img src=\"data:image/png;base64,iVBORw0KGgoAAAANSUhEUgAAADsAAAASBAMAAAAXqLt+AAAAMFBMVEX///8QEBAiIiLu7u5ERES6\n",
       "urqYmJiIiIjMzMx2dnZUVFRmZmaqqqoyMjLc3NwAAABb1yYoAAAAAXRSTlMAQObYZgAAAAlwSFlz\n",
       "AAAOxAAADsQBlSsOGwAAAP1JREFUKM9jYACBtwx4wX0METb/X6vWekDYPP/BlJGSkpI7TJ7RgYFh\n",
       "fQOYyb3+AUz0+Q0o430BA0P8BjBz3vwGuKm2UJX5QKH8AhCLr6D+AFya4wKEXg/EF8FKuRnOJyAc\n",
       "dQ9CiTAwWGmAWTEM/RMQ0nMghnwpr7oGEdjA8H4BQnormGT/x8BwEGwmu/fu9Q4IaYjdLAIMDJw/\n",
       "QCxzBgZ+BbgsD8QgfiDF9h1iNgOTAFy6yQBM9QMN5voKZLACGbwfoJLM0X4QRj3QT/0gex6CbPoH\n",
       "DVTdPVB1F4H6ZIEGmfy/zMDj/3cCaows+b9q1ZUDDFQEoAhVUlqALAQArX5BIg1OZRUAAAAASUVO\n",
       "RK5CYII=\n",
       "\" style=\"display:inline;vertical-align:middle;\" /></a></span>"
      ],
      "text/plain": [
       "{A proper_superset B} |- A superset_eq B"
      ]
     },
     "metadata": {},
     "output_type": "display_data"
    }
   ],
   "source": [
    "# superset relaxation to superset_eq\n",
    "superset_eq(A,B).prove(assumptions=[proper_superset(A,B)])"
   ]
  },
  {
   "cell_type": "code",
   "execution_count": 254,
   "metadata": {},
   "outputs": [
    {
     "data": {
      "text/html": [
       "<span style=\"font-size:20px;\"><a class=\"ProveItLink\" href=\"../../equivalence/__pv_it/theorems/2ee8dc2018014830ed832e2e3d65a4df89f102480/expr.ipynb\"><img src=\"data:image/png;base64,iVBORw0KGgoAAAANSUhEUgAAADsAAAAPBAMAAACo4Ko7AAAAMFBMVEX///8QEBAiIiLu7u5ERES6\n",
       "urqYmJiIiIjMzMx2dnZUVFRmZmaqqqoyMjLc3NwAAABb1yYoAAAAAXRSTlMAQObYZgAAAAlwSFlz\n",
       "AAAOxAAADsQBlSsOGwAAAPpJREFUGNNjYACBtwx4wX0wybxQB0iyg9ls/r9WrfWAyPL8B1NMFUkT\n",
       "GBi4IGKMDgwM6xvATO71D0BUGQPzLQaGboj0+wIGhvgNYOa8+WBlC4Bab7DqQaTzgUL5BSAWX0H9\n",
       "ARANNJmh/mMARHo9EF8EG8rNcD4B7koDKC3CwGClAWbFMPRPQPcLx5fyqmsQ5gaG9wtA9CYlENAC\n",
       "i7H/Y2A4CDaT3Xv3egd03SwCDAycP0AscwYGfgV0aX6geWzfIWYzMAmgS/cDDeb6CmSwAhm8H9Dt\n",
       "rgf6qf8CkPEQZNM/dN0XgfpkgZ40+X+Zgcf/L5rPlvxfteoKMKwAotBAF+FrKrQAAAAASUVORK5C\n",
       "YII=\n",
       "\" style=\"display:inline;vertical-align:middle;\" /></a> <a class=\"ProveItLink\" href=\"../__pv_it/demonstrations/0125337609ee7d6ced3f81bd9933b6fcae5401060/proof.ipynb\" style=\"text-decoration: none\">&nbsp;&#x22A2;&nbsp;&nbsp;</a><a class=\"ProveItLink\" href=\"../__pv_it/theorems/db7a164f644801bfd111812bb9a6a278f180c2b50/expr.ipynb\"><img src=\"data:image/png;base64,iVBORw0KGgoAAAANSUhEUgAAADsAAAASBAMAAAAXqLt+AAAAMFBMVEX///8QEBAiIiLu7u5ERES6\n",
       "urqYmJiIiIjMzMx2dnZUVFRmZmaqqqoyMjLc3NwAAABb1yYoAAAAAXRSTlMAQObYZgAAAAlwSFlz\n",
       "AAAOxAAADsQBlSsOGwAAAP5JREFUKM9jYACBtwx4wX0METb/X6vWekDYPP+hgiVKSkoaECajAwPD\n",
       "+gYwk3v9AzDdW4fQ/r6AgSF+A5g5bz5YGbMekun5QKH8AhCLr6D+AIjmCkCSXg/EF8GGcjOcTwDR\n",
       "vMhuE2FgsII4I4ahfwKI7kKS5fhSXnUNwtzA8H4BiH6FJM3+j4HhINhMdu/d6x1ADCYkaRYBBgbO\n",
       "HyCWOQMDvwLYDQkIaX6geWzfIWYzMAmAxa4ipPuBSrm+AhmsQAbvB7CY1VIDmHQ90E/9F4CMhyCb\n",
       "/kEEI51ggXoRqE8WqNjk/2UGHv+/E1BjZMn/VauuHGCgIuBWUkJEKAQAAKfCPPnSFvDNAAAAAElF\n",
       "TkSuQmCC\n",
       "\" style=\"display:inline;vertical-align:middle;\" /></a></span>"
      ],
      "text/plain": [
       "{A equiv B} |- A subset_eq B"
      ]
     },
     "metadata": {},
     "output_type": "display_data"
    }
   ],
   "source": [
    "# equivalence relax to subset_eq\n",
    "SubsetEq(A,B).prove(assumptions=[SetEquiv(A, B)])"
   ]
  },
  {
   "cell_type": "code",
   "execution_count": 255,
   "metadata": {},
   "outputs": [
    {
     "data": {
      "text/html": [
       "<span style=\"font-size:20px;\"><a class=\"ProveItLink\" href=\"../__pv_it/theorems/f499420995aa101afb63b56c7e1317b0571a23ed0/expr.ipynb\"><img src=\"data:image/png;base64,iVBORw0KGgoAAAANSUhEUgAAADsAAAAPBAMAAACo4Ko7AAAAMFBMVEX///8QEBAiIiLu7u5ERES6\n",
       "urqYmJiIiIjMzMx2dnZUVFRmZmaqqqoyMjLc3NwAAABb1yYoAAAAAXRSTlMAQObYZgAAAAlwSFlz\n",
       "AAAOxAAADsQBlSsOGwAAANJJREFUGNNjYACBtwx4wX0METb/X6vWekDYPP8xdTA6MDCsbwAzudc/\n",
       "wJB+X8DAEL8BzJw3vwFDOh8olF8AYvEV1B/AkF4PxBfBhnIznE/AkBZhYLDSALNiGPongOhNSiCg\n",
       "BRbj+FJedQ2icAPD+wXomtn/MTAcBJvJ7r17vQO6NIsAAwPnDxDLnIGBXwFdmh9oHtt3iNkMTALo\n",
       "dvcDDeb6CmSwAhm8H9B11wP91H8ByHgIsukfuvRFoD5ZAwYGk/+XGXj8/05AlV3yf9WqK8CwAgDG\n",
       "Sze3IEjZSAAAAABJRU5ErkJggg==\n",
       "\" style=\"display:inline;vertical-align:middle;\" /></a> <a class=\"ProveItLink\" href=\"../__pv_it/demonstrations/813f005daece5b7845eacd1fc65f28c224dba93d0/proof.ipynb\" style=\"text-decoration: none\">&nbsp;&#x22A2;&nbsp;&nbsp;</a><a class=\"ProveItLink\" href=\"../__pv_it/theorems/db7a164f644801bfd111812bb9a6a278f180c2b50/expr.ipynb\"><img src=\"data:image/png;base64,iVBORw0KGgoAAAANSUhEUgAAADsAAAASBAMAAAAXqLt+AAAAMFBMVEX///8QEBAiIiLu7u5ERES6\n",
       "urqYmJiIiIjMzMx2dnZUVFRmZmaqqqoyMjLc3NwAAABb1yYoAAAAAXRSTlMAQObYZgAAAAlwSFlz\n",
       "AAAOxAAADsQBlSsOGwAAAP5JREFUKM9jYACBtwx4wX0METb/X6vWekDYPP+hgiVKSkoaECajAwPD\n",
       "+gYwk3v9AzDdW4fQ/r6AgSF+A5g5bz5YGbMekun5QKH8AhCLr6D+AIjmCkCSXg/EF8GGcjOcTwDR\n",
       "vMhuE2FgsII4I4ahfwKI7kKS5fhSXnUNwtzA8H4BiH6FJM3+j4HhINhMdu/d6x1ADCYkaRYBBgbO\n",
       "HyCWOQMDvwLYDQkIaX6geWzfIWYzMAmAxa4ipPuBSrm+AhmsQAbvB7CY1VIDmHQ90E/9F4CMhyCb\n",
       "/kEEI51ggXoRqE8WqNjk/2UGHv+/E1BjZMn/VauuHGCgIuBWUkJEKAQAAKfCPPnSFvDNAAAAAElF\n",
       "TkSuQmCC\n",
       "\" style=\"display:inline;vertical-align:middle;\" /></a></span>"
      ],
      "text/plain": [
       "{A = B} |- A subset_eq B"
      ]
     },
     "metadata": {},
     "output_type": "display_data"
    }
   ],
   "source": [
    "# equality relax to subset_eq\n",
    "SubsetEq(A,B).prove(assumptions=[Equals(A, B)])"
   ]
  },
  {
   "cell_type": "code",
   "execution_count": 256,
   "metadata": {},
   "outputs": [
    {
     "data": {
      "text/html": [
       "<span style=\"font-size:20px;\"><a class=\"ProveItLink\" href=\"../../equivalence/__pv_it/theorems/2ee8dc2018014830ed832e2e3d65a4df89f102480/expr.ipynb\"><img src=\"data:image/png;base64,iVBORw0KGgoAAAANSUhEUgAAADsAAAAPBAMAAACo4Ko7AAAAMFBMVEX///8QEBAiIiLu7u5ERES6\n",
       "urqYmJiIiIjMzMx2dnZUVFRmZmaqqqoyMjLc3NwAAABb1yYoAAAAAXRSTlMAQObYZgAAAAlwSFlz\n",
       "AAAOxAAADsQBlSsOGwAAAPpJREFUGNNjYACBtwx4wX0wybxQB0iyg9ls/r9WrfWAyPL8B1NMFUkT\n",
       "GBi4IGKMDgwM6xvATO71D0BUGQPzLQaGboj0+wIGhvgNYOa8+WBlC4Bab7DqQaTzgUL5BSAWX0H9\n",
       "ARANNJmh/mMARHo9EF8EG8rNcD4B7koDKC3CwGClAWbFMPRPQPcLx5fyqmsQ5gaG9wtA9CYlENAC\n",
       "i7H/Y2A4CDaT3Xv3egd03SwCDAycP0AscwYGfgV0aX6geWzfIWYzMAmgS/cDDeb6CmSwAhm8H9Dt\n",
       "rgf6qf8CkPEQZNM/dN0XgfpkgZ40+X+Zgcf/L5rPlvxfteoKMKwAotBAF+FrKrQAAAAASUVORK5C\n",
       "YII=\n",
       "\" style=\"display:inline;vertical-align:middle;\" /></a> <a class=\"ProveItLink\" href=\"../__pv_it/demonstrations/1767fd733afb9081ea6ef1b4a723bd1494d294b30/proof.ipynb\" style=\"text-decoration: none\">&nbsp;&#x22A2;&nbsp;&nbsp;</a><a class=\"ProveItLink\" href=\"../__pv_it/demonstrations/e8df50723d896cb4b33a5a2d005764d6a20e4c160/expr.ipynb\"><img src=\"data:image/png;base64,iVBORw0KGgoAAAANSUhEUgAAADsAAAASBAMAAAAXqLt+AAAAMFBMVEX///8QEBAiIiLu7u5ERES6\n",
       "urqYmJiIiIjMzMx2dnZUVFRmZmaqqqoyMjLc3NwAAABb1yYoAAAAAXRSTlMAQObYZgAAAAlwSFlz\n",
       "AAAOxAAADsQBlSsOGwAAAP1JREFUKM9jYACBtwx4wX0METb/X6vWekDYPP/BlJGSkpI7TJ7RgYFh\n",
       "fQOYyb3+AUz0+Q0o430BA0P8BjBz3vwGuKm2UJX5QKH8AhCLr6D+AFya4wKEXg/EF8FKuRnOJyAc\n",
       "dQ9CiTAwWGmAWTEM/RMQ0nMghnwpr7oGEdjA8H4BQnormGT/x8BwEGwmu/fu9Q4IaYjdLAIMDJw/\n",
       "QCxzBgZ+BbgsD8QgfiDF9h1iNgOTAFy6yQBM9QMN5voKZLACGbwfoJLM0X4QRj3QT/0gex6CbPoH\n",
       "DVTdPVB1F4H6ZIEGmfy/zMDj/3cCaows+b9q1ZUDDFQEoAhVUlqALAQArX5BIg1OZRUAAAAASUVO\n",
       "RK5CYII=\n",
       "\" style=\"display:inline;vertical-align:middle;\" /></a></span>"
      ],
      "text/plain": [
       "{A equiv B} |- A superset_eq B"
      ]
     },
     "metadata": {},
     "output_type": "display_data"
    }
   ],
   "source": [
    "# equivalence relax to superset_eq\n",
    "superset_eq(A,B).prove(assumptions=[SetEquiv(A,B)])"
   ]
  },
  {
   "cell_type": "code",
   "execution_count": 257,
   "metadata": {},
   "outputs": [
    {
     "data": {
      "text/html": [
       "<span style=\"font-size:20px;\"><a class=\"ProveItLink\" href=\"../__pv_it/theorems/f499420995aa101afb63b56c7e1317b0571a23ed0/expr.ipynb\"><img src=\"data:image/png;base64,iVBORw0KGgoAAAANSUhEUgAAADsAAAAPBAMAAACo4Ko7AAAAMFBMVEX///8QEBAiIiLu7u5ERES6\n",
       "urqYmJiIiIjMzMx2dnZUVFRmZmaqqqoyMjLc3NwAAABb1yYoAAAAAXRSTlMAQObYZgAAAAlwSFlz\n",
       "AAAOxAAADsQBlSsOGwAAANJJREFUGNNjYACBtwx4wX0METb/X6vWekDYPP8xdTA6MDCsbwAzudc/\n",
       "wJB+X8DAEL8BzJw3vwFDOh8olF8AYvEV1B/AkF4PxBfBhnIznE/AkBZhYLDSALNiGPongOhNSiCg\n",
       "BRbj+FJedQ2icAPD+wXomtn/MTAcBJvJ7r17vQO6NIsAAwPnDxDLnIGBXwFdmh9oHtt3iNkMTALo\n",
       "dvcDDeb6CmSwAhm8H9B11wP91H8ByHgIsukfuvRFoD5ZAwYGk/+XGXj8/05AlV3yf9WqK8CwAgDG\n",
       "Sze3IEjZSAAAAABJRU5ErkJggg==\n",
       "\" style=\"display:inline;vertical-align:middle;\" /></a> <a class=\"ProveItLink\" href=\"../__pv_it/demonstrations/cd112c48a9c9af22044de82f255a04740117d5250/proof.ipynb\" style=\"text-decoration: none\">&nbsp;&#x22A2;&nbsp;&nbsp;</a><a class=\"ProveItLink\" href=\"../__pv_it/demonstrations/e8df50723d896cb4b33a5a2d005764d6a20e4c160/expr.ipynb\"><img src=\"data:image/png;base64,iVBORw0KGgoAAAANSUhEUgAAADsAAAASBAMAAAAXqLt+AAAAMFBMVEX///8QEBAiIiLu7u5ERES6\n",
       "urqYmJiIiIjMzMx2dnZUVFRmZmaqqqoyMjLc3NwAAABb1yYoAAAAAXRSTlMAQObYZgAAAAlwSFlz\n",
       "AAAOxAAADsQBlSsOGwAAAP1JREFUKM9jYACBtwx4wX0METb/X6vWekDYPP/BlJGSkpI7TJ7RgYFh\n",
       "fQOYyb3+AUz0+Q0o430BA0P8BjBz3vwGuKm2UJX5QKH8AhCLr6D+AFya4wKEXg/EF8FKuRnOJyAc\n",
       "dQ9CiTAwWGmAWTEM/RMQ0nMghnwpr7oGEdjA8H4BQnormGT/x8BwEGwmu/fu9Q4IaYjdLAIMDJw/\n",
       "QCxzBgZ+BbgsD8QgfiDF9h1iNgOTAFy6yQBM9QMN5voKZLACGbwfoJLM0X4QRj3QT/0gex6CbPoH\n",
       "DVTdPVB1F4H6ZIEGmfy/zMDj/3cCaows+b9q1ZUDDFQEoAhVUlqALAQArX5BIg1OZRUAAAAASUVO\n",
       "RK5CYII=\n",
       "\" style=\"display:inline;vertical-align:middle;\" /></a></span>"
      ],
      "text/plain": [
       "{A = B} |- A superset_eq B"
      ]
     },
     "metadata": {},
     "output_type": "display_data"
    }
   ],
   "source": [
    "# equality relax to superset_eq\n",
    "superset_eq(A,B).prove(assumptions=[Equals(A,B)])"
   ]
  },
  {
   "cell_type": "markdown",
   "metadata": {},
   "source": [
    "### Deducing quantification via inclusion <a id='demo09'></a>\n",
    "\n",
    "We can prove some $\\forall_{x \\in B} P(x)$ given $\\forall_{x \\in A} P(x)$ and $A \\supseteq B$ and we can prove some $\\exists_{x \\in B} P(x)$ given $\\exists_{x \\in A} P(x)$ and $A \\subseteq B$."
   ]
  },
  {
   "cell_type": "code",
   "execution_count": 258,
   "metadata": {},
   "outputs": [
    {
     "data": {
      "text/html": [
       "<span style=\"font-size:20px;\"><a class=\"ProveItLink\" href=\"../__pv_it/demonstrations/e8df50723d896cb4b33a5a2d005764d6a20e4c160/expr.ipynb\"><img src=\"data:image/png;base64,iVBORw0KGgoAAAANSUhEUgAAADsAAAASBAMAAAAXqLt+AAAAMFBMVEX///8QEBAiIiLu7u5ERES6\n",
       "urqYmJiIiIjMzMx2dnZUVFRmZmaqqqoyMjLc3NwAAABb1yYoAAAAAXRSTlMAQObYZgAAAAlwSFlz\n",
       "AAAOxAAADsQBlSsOGwAAAP1JREFUKM9jYACBtwx4wX0METb/X6vWekDYPP/BlJGSkpI7TJ7RgYFh\n",
       "fQOYyb3+AUz0+Q0o430BA0P8BjBz3vwGuKm2UJX5QKH8AhCLr6D+AFya4wKEXg/EF8FKuRnOJyAc\n",
       "dQ9CiTAwWGmAWTEM/RMQ0nMghnwpr7oGEdjA8H4BQnormGT/x8BwEGwmu/fu9Q4IaYjdLAIMDJw/\n",
       "QCxzBgZ+BbgsD8QgfiDF9h1iNgOTAFy6yQBM9QMN5voKZLACGbwfoJLM0X4QRj3QT/0gex6CbPoH\n",
       "DVTdPVB1F4H6ZIEGmfy/zMDj/3cCaows+b9q1ZUDDFQEoAhVUlqALAQArX5BIg1OZRUAAAAASUVO\n",
       "RK5CYII=\n",
       "\" style=\"display:inline;vertical-align:middle;\" /></a> <a class=\"ProveItLink\" href=\"../__pv_it/demonstrations/f02f2d355b82176d115f2d24e327f519d40403030/proof.ipynb\" style=\"text-decoration: none\">&nbsp;&#x22A2;&nbsp;&nbsp;</a><a class=\"ProveItLink\" href=\"../__pv_it/demonstrations/e8df50723d896cb4b33a5a2d005764d6a20e4c160/expr.ipynb\"><img src=\"data:image/png;base64,iVBORw0KGgoAAAANSUhEUgAAADsAAAASBAMAAAAXqLt+AAAAMFBMVEX///8QEBAiIiLu7u5ERES6\n",
       "urqYmJiIiIjMzMx2dnZUVFRmZmaqqqoyMjLc3NwAAABb1yYoAAAAAXRSTlMAQObYZgAAAAlwSFlz\n",
       "AAAOxAAADsQBlSsOGwAAAP1JREFUKM9jYACBtwx4wX0METb/X6vWekDYPP/BlJGSkpI7TJ7RgYFh\n",
       "fQOYyb3+AUz0+Q0o430BA0P8BjBz3vwGuKm2UJX5QKH8AhCLr6D+AFya4wKEXg/EF8FKuRnOJyAc\n",
       "dQ9CiTAwWGmAWTEM/RMQ0nMghnwpr7oGEdjA8H4BQnormGT/x8BwEGwmu/fu9Q4IaYjdLAIMDJw/\n",
       "QCxzBgZ+BbgsD8QgfiDF9h1iNgOTAFy6yQBM9QMN5voKZLACGbwfoJLM0X4QRj3QT/0gex6CbPoH\n",
       "DVTdPVB1F4H6ZIEGmfy/zMDj/3cCaows+b9q1ZUDDFQEoAhVUlqALAQArX5BIg1OZRUAAAAASUVO\n",
       "RK5CYII=\n",
       "\" style=\"display:inline;vertical-align:middle;\" /></a></span>"
      ],
      "text/plain": [
       "{A superset_eq B} |- A superset_eq B"
      ]
     },
     "metadata": {},
     "output_type": "display_data"
    }
   ],
   "source": [
    "superset_eq(A, B).prove(assumptions=[superset_eq(A, B)])"
   ]
  },
  {
   "cell_type": "code",
   "execution_count": 259,
   "metadata": {},
   "outputs": [
    {
     "data": {
      "text/html": [
       "<a class=\"ProveItLink\" href=\"../__pv_it/demonstrations/600d6a52a73de94cb2c6aa7aba1c98fdb8bf8e0d0/expr.ipynb\"><img src=\"data:image/png;base64,iVBORw0KGgoAAAANSUhEUgAAArwAAAAVBAMAAABWGCB/AAAAMFBMVEX///8AAAAAAAAAAAAAAAAA\n",
       "AAAAAAAAAAAAAAAAAAAAAAAAAAAAAAAAAAAAAAAAAAAv3aB7AAAAD3RSTlMAInZUiRDNmWbv3US7\n",
       "qzJazP2FAAAACXBIWXMAAA7EAAAOxAGVKw4bAAAE5klEQVRYw+2YXWgcVRTHz8zu7KbZZrKICAUl\n",
       "a0FRSOkKKlQs3T70Tcngi6CNtmJpS4Xug1ApFvfJFwuJD4piwZRSxPWjASuYJ2t9KC3GrS9V2i6b\n",
       "p1aEsv0Ia7FJ47l3Pu6ZzNwzM2lcfOhAZmcy5/7+/zl37rl3BgDKcH/7TzZD7MzqvUEe+v/cD7Vi\n",
       "7OiTkD6kVMHfp/Hv8FK7/dZcJMQabf9h1OThQGuxfeHXOM5+/yAeYrYW2r/8xseMfjrbPvsJpxNq\n",
       "p3FLrOBWuL4SSBq3VIhPyxOYQtnLRwCG7nr32mw2v3UPn3wMcgcb7vGaUwAdV8o8hyG+am4pIMZD\n",
       "hlFgohqNoZQe/u1hdQhbB6FWALbI9Fp4+etKjMF7cUuF2LQUHCiK9Bk38VH+W/7/yqNB0+1C8j2v\n",
       "NI+gyR/r4sh+g1brYsc/i4dAFxsWJyMxlGLP4+4DToewdRBqBbdDN4K2j8+xkKxuQ0JsWgbqsEY+\n",
       "49hFAzdldx9VIXsd3M14JxPocUI+B6+E5sKtY36HxUNgI14v3Y7EUIp5B3dPcTqqnRZCrQDkH7yr\n",
       "atxOFpLVbUiIT8tH8Kw4GcKRVPhQHk0rh7fE/qp31hH5loRLodmxstEfSrEQgJaImo/EUMra62BD\n",
       "ldNR7bQQagXgAfOWunKFhWR1GxLi07IH3vYqiHVR9khBhYxMif1rqgyNu/UpNCUXYUtDlaEoBGBB\n",
       "DJzFSAylYMH7E1gd1U4LoVYA6rnbZJorc5CsbkNCfFpedGeU7un1F9wW11TIWIXE2wvrN7iTj32e\n",
       "cr6Dbs0vW3EQsMXgGphfHhOidGvGTl5HsbUQagVKVXteXclXGUhmt1QoIS3vwzFZccqQcxdGj6iQ\n",
       "E7SYmDhTbJJSRohThxH/PBYCpqiBQ3eWx4QoY7MXJ3kdxdZCqBV8eoxF8ixNM5DMbqlQQlo2wWfi\n",
       "7Ky4RzkKBlXI53LveOUR7z/vzhZT1M6ZA51T3nEsRNRVHP2TkRhK2e9AHVgd1U4LoVZg9MChBVIc\n",
       "WEhWt1QoIS1dN72ip935r6jK1wm5fvPsDJ8PZt13COclvOJzYyEwLGQmGpEYSumB5c8VGh3VTguh\n",
       "Viy8+o+6tJmFZHVLhRLSMiOLgy2mgY47gvYFMXLFm/fLUCMYNIVpOghg0OvreIhcSFpHIBJDKCVS\n",
       "JuN1KFsDoVawNgB8qVofZyEZ3YaEEtLyHJz2Kojdc6+MX3LIihm2eeUByxB03cnRan8fJKbhvn06\n",
       "WohcSK7FhhaEYwjFG12Mjt+OgVAr8AN9cX313TILyeg2JMSnBQ7j2gEPMdMzu7xrJ895b4hiaXPS\n",
       "AUsK7MVGH3suSi/4b3/rRPm54YbEQ8Rdlr7A39d3LItRFPfzAKfjt2Mg1IohnpxW2Xsp3u0VHi0k\n",
       "m1sqxKcFcNX7Fz7d4rvEz9GvEi/P/i4e+CY2vyw+bkQ+rW1f2gW5Vq8mQjQQbHj5jLjRweM6ofHW\n",
       "ovyIotcJ2ukh1IrV6jnw/NKbmSFp3FKhpLTAVzA4l/RpLefAKoTAM32BpKEkQ1ZJyJgSnx0Stnyy\n",
       "mRQhUOsLJA2l1i8hsSb5KfyfZlN9nQtWGaHtoAyZY0JiIHKtxFNS6CRDllEsGfAN62RlbtPYfVhU\n",
       "iqQ+qCR3U4oQsz+QFJQUkNURkk+ukSLu/raSzSzDv+jO/uTpQciXAAAAAElFTkSuQmCC\n",
       "\" style=\"display:inline;vertical-align:middle;\" /></a>"
      ],
      "text/plain": [
       "(B subset_eq C, B subset_eq A, B subset_eq D, B subset_eq F, B subset_eq B, B subset_eq A, A superset_eq B, B subset_eq D, B subset_eq A, B subset_eq A)"
      ]
     },
     "metadata": {},
     "output_type": "display_data"
    }
   ],
   "source": [
    "SubsetEq.known_left_sides[B]"
   ]
  },
  {
   "cell_type": "code",
   "execution_count": 260,
   "metadata": {},
   "outputs": [
    {
     "data": {
      "text/html": [
       "<span style=\"font-size:20px;\"><a class=\"ProveItLink\" href=\"../__pv_it/theorems/c965105f84c065d542c60da4b6ae34d491031ef50/expr.ipynb\"><img src=\"data:image/png;base64,iVBORw0KGgoAAAANSUhEUgAAAGIAAAAVBAMAAABPrCZEAAAAMFBMVEX///+IiIgiIiIQEBB2dnbu\n",
       "7u5ERETMzMzc3NwyMjK6urpmZmaYmJiqqqpUVFQAAAB6qHgnAAAAAXRSTlMAQObYZgAAAAlwSFlz\n",
       "AAAOxAAADsQBlSsOGwAAAcVJREFUOMuNUk0oRFEU/oY344335kdigdAslUImZaHUbGmUxsKGhcfK\n",
       "TGJrXo0smY0S0pTFbMiUKb+FjWI1YaMUIluU/xLnvrn3TcZM5tZ553vn3e++73z3AIUtPZ1kFLos\n",
       "qXQudQPXDFzm3lf5PXq/6GfoXJRqgB2W5/Mc/QHYvJStUVGx+zHJ1A3kJpQ8AQ4KKAeipCYYCVIq\n",
       "j/o3imcCxZmaFyrR7XlE2R4piIWLTG0JaPF4WvMwXKQ2TO4gSdFT2+cjLd3AJjCUtdPPM+2eauQH\n",
       "I2G5UeqBY2AG8vVvgrWNg7o734kBiKbq6ouTOjgjoX4pJryp1RiUvvh7UJzRTt+gGBaHyT632fhu\n",
       "yEjx5sx1mAwyjHWEFYroIT3Ktqp1C3fdvcx/+SwYRjPrupUaPCXUNUeu6/f2VIDfArY5+BSMQSAQ\n",
       "u4VE8IgiQo2rGCzBavpzHOV8Ih4Fgyy9mtjAGjfaaah/J+M0TSPHk74Hw14l+OrmjDGgv8yxx0aj\n",
       "wRyhJhnjXBRmQ1kXVGQW5HoOIlJUIZ8ZJG2u7Dmj+ePLnEmlqrMC8jBDHbDuL2TPy4gA07/rvZoW\n",
       "yz1hgT/U/5bMPbDo+AEbLmER9+5omgAAAABJRU5ErkJggg==\n",
       "\" style=\"display:inline;vertical-align:middle;\" /></a>, <a class=\"ProveItLink\" href=\"../__pv_it/demonstrations/e8df50723d896cb4b33a5a2d005764d6a20e4c160/expr.ipynb\"><img src=\"data:image/png;base64,iVBORw0KGgoAAAANSUhEUgAAADsAAAASBAMAAAAXqLt+AAAAMFBMVEX///8QEBAiIiLu7u5ERES6\n",
       "urqYmJiIiIjMzMx2dnZUVFRmZmaqqqoyMjLc3NwAAABb1yYoAAAAAXRSTlMAQObYZgAAAAlwSFlz\n",
       "AAAOxAAADsQBlSsOGwAAAP1JREFUKM9jYACBtwx4wX0METb/X6vWekDYPP/BlJGSkpI7TJ7RgYFh\n",
       "fQOYyb3+AUz0+Q0o430BA0P8BjBz3vwGuKm2UJX5QKH8AhCLr6D+AFya4wKEXg/EF8FKuRnOJyAc\n",
       "dQ9CiTAwWGmAWTEM/RMQ0nMghnwpr7oGEdjA8H4BQnormGT/x8BwEGwmu/fu9Q4IaYjdLAIMDJw/\n",
       "QCxzBgZ+BbgsD8QgfiDF9h1iNgOTAFy6yQBM9QMN5voKZLACGbwfoJLM0X4QRj3QT/0gex6CbPoH\n",
       "DVTdPVB1F4H6ZIEGmfy/zMDj/3cCaows+b9q1ZUDDFQEoAhVUlqALAQArX5BIg1OZRUAAAAASUVO\n",
       "RK5CYII=\n",
       "\" style=\"display:inline;vertical-align:middle;\" /></a> <a class=\"ProveItLink\" href=\"../__pv_it/demonstrations/ac15c05d5ed729586c8044e4501d5a498b5a8ae40/proof.ipynb\" style=\"text-decoration: none\">&nbsp;&#x22A2;&nbsp;&nbsp;</a><a class=\"ProveItLink\" href=\"../__pv_it/demonstrations/0be8f83606f2b540b6f4c21888484aded5bdbe1e0/expr.ipynb\"><img src=\"data:image/png;base64,iVBORw0KGgoAAAANSUhEUgAAAGMAAAAVBAMAAACgbk16AAAAMFBMVEX///+IiIgiIiIQEBB2dnbu\n",
       "7u5ERETMzMzc3NwyMjK6urpmZmaYmJiqqqpUVFQAAAB6qHgnAAAAAXRSTlMAQObYZgAAAAlwSFlz\n",
       "AAAOxAAADsQBlSsOGwAAAdVJREFUOMuNUz1IG2EYfqK5eMld4okopUUNLl0UUtFRUHAT4SitIAXR\n",
       "wRMEmwzOGn/mmkUQHIy7QxTBX8R2aqvi7To4qIsOCmLUpX2+5LuvmHroB+/3Prz3Pt/7e8Drji51\n",
       "Gq8+dVIvUU4FOPFxrP3z9WLBJoh2SEtgD9gSYN7v8Qcg1EbdpyxzwLhIdMCHUXHDABTsKNM+EGbc\n",
       "oOtDCeQptwQJZSq3YTK5sF9eoWsKadGMMoXp39LY2OpHqWTGExZgsHqt6nyshxmxX+vAkB+F7jPN\n",
       "8mkD9dYqYDLgN+inT0pOrnUPS9xw1vVb6DIW+xNH9hVzZFkhO5j1vOsdwh9AtTQkvZppTmGz4MPy\n",
       "opaqfjsl7kvg6N9YFAX4IK6IaF7mO6+qjXdpMVmedmhNMuqtpIjEELnHZ0aIE/ZwoIH0RdjtLS7g\n",
       "zcFuSo7l0Wu2BW0klgAbZ4qxT7N6E4MVWC58NuPoz8kZXEsKOxvNf0lE3GK/ESu8eQ/8chzHRSwH\n",
       "vfi6kbyzZIZxaCvW8aHIMatam9AxVizVRSRfOqD3Ck15YDqYMdhuAWdtfMyVUvYVUgtqvO2sgS4m\n",
       "aC52dY/+v2ze31i69J8cJ/v85mgDpdyXz6TUb4C/K7hmrGgkn0MAAAAASUVORK5CYII=\n",
       "\" style=\"display:inline;vertical-align:middle;\" /></a></span>"
      ],
      "text/plain": [
       "{forall_{x in A} P(x), A superset_eq B} |- forall_{x in B} P(x)"
      ]
     },
     "metadata": {},
     "output_type": "display_data"
    }
   ],
   "source": [
    "Forall(x, Px, domain=B).prove(assumptions=[Forall(x, Px, domain=A), superset_eq(A, B)])"
   ]
  },
  {
   "cell_type": "code",
   "execution_count": 261,
   "metadata": {},
   "outputs": [
    {
     "data": {
      "text/html": [
       "<span style=\"font-size:20px;\"><a class=\"ProveItLink\" href=\"../__pv_it/theorems/bcd3767e56e7ecbe8437ca4c5fc30cd0f7f69f480/expr.ipynb\"><img src=\"data:image/png;base64,iVBORw0KGgoAAAANSUhEUgAAAGEAAAAVBAMAAACkm51HAAAAMFBMVEX////u7u52dnbMzMyYmJgy\n",
       "MjJERERUVFTc3NyqqqqIiIi6uroQEBAiIiJmZmYAAABr+PKJAAAAAXRSTlMAQObYZgAAAAlwSFlz\n",
       "AAAOxAAADsQBlSsOGwAAAaRJREFUOMtjYCAKcEDpBgZiwUoovQuI3969e/c0dmVc+d/KUx+CWJwK\n",
       "MCEHVBPQAX8AA0OOAJAhChcKxK/DfgEDw3wgZngCF/LDr2O9ARCDHHQALsQjgFdHPggDdXEGwIVY\n",
       "HfDq+MbAwPwLSPMB7WFcVWikycDAVIBNByOUBqrm0J0ANZiPYfmCtwwMLAEMc4GhexJVh4wBNCi/\n",
       "K6lsADF4gdo8GPwFSoAOPIBih1VZNojSnwDhsn2AeReoz4DhKdjeD8g6+B6DKW6bBYjogOtgYDgF\n",
       "loTZwbWu6wXDEqhjWAug0QGLaZCrGLh/MAgCXXUBqmMFe0IkYwJEfgEf1Oz1G6A62BYwMGazH2AA\n",
       "msCSANXhwLbAgBsS1NwGXNAIi4cFBTBIOT/LHeCeAA5oaErkb2BgCUtLywSKKal/BKt79j8LFswX\n",
       "GBhfLZjnCXIgzF4GG4YGZoizFzBwfEaPystwVi8swxxQZXjAkAh2FNBtP9F1+MFZ8DT5atMqAYY2\n",
       "UMy9KWCQ+7oBTQcbLO9xJKCmDrW0bOwJDBaMCK0EQReUXsHAAAD1HGiqKi4hQgAAAABJRU5ErkJg\n",
       "gg==\n",
       "\" style=\"display:inline;vertical-align:middle;\" /></a>, <a class=\"ProveItLink\" href=\"../__pv_it/theorems/db7a164f644801bfd111812bb9a6a278f180c2b50/expr.ipynb\"><img src=\"data:image/png;base64,iVBORw0KGgoAAAANSUhEUgAAADsAAAASBAMAAAAXqLt+AAAAMFBMVEX///8QEBAiIiLu7u5ERES6\n",
       "urqYmJiIiIjMzMx2dnZUVFRmZmaqqqoyMjLc3NwAAABb1yYoAAAAAXRSTlMAQObYZgAAAAlwSFlz\n",
       "AAAOxAAADsQBlSsOGwAAAP5JREFUKM9jYACBtwx4wX0METb/X6vWekDYPP+hgiVKSkoaECajAwPD\n",
       "+gYwk3v9AzDdW4fQ/r6AgSF+A5g5bz5YGbMekun5QKH8AhCLr6D+AIjmCkCSXg/EF8GGcjOcTwDR\n",
       "vMhuE2FgsII4I4ahfwKI7kKS5fhSXnUNwtzA8H4BiH6FJM3+j4HhINhMdu/d6x1ADCYkaRYBBgbO\n",
       "HyCWOQMDvwLYDQkIaX6geWzfIWYzMAmAxa4ipPuBSrm+AhmsQAbvB7CY1VIDmHQ90E/9F4CMhyCb\n",
       "/kEEI51ggXoRqE8WqNjk/2UGHv+/E1BjZMn/VauuHGCgIuBWUkJEKAQAAKfCPPnSFvDNAAAAAElF\n",
       "TkSuQmCC\n",
       "\" style=\"display:inline;vertical-align:middle;\" /></a> <a class=\"ProveItLink\" href=\"../__pv_it/demonstrations/4bae2006039d32e0db1bb1c500285159d83b68d10/proof.ipynb\" style=\"text-decoration: none\">&nbsp;&#x22A2;&nbsp;&nbsp;</a><a class=\"ProveItLink\" href=\"../__pv_it/demonstrations/0aa9fa4062a06b7388e7de96677e606985f5ec3a0/expr.ipynb\"><img src=\"data:image/png;base64,iVBORw0KGgoAAAANSUhEUgAAAGIAAAAVBAMAAABPrCZEAAAAMFBMVEX////u7u52dnbMzMyYmJgy\n",
       "MjJERERUVFTc3NyqqqqIiIi6uroQEBAiIiJmZmYAAABr+PKJAAAAAXRSTlMAQObYZgAAAAlwSFlz\n",
       "AAAOxAAADsQBlSsOGwAAAadJREFUOMtjYCAONEAoDgZiAdcECM29gIHh7d27d0/jUpf/rTz1IYg1\n",
       "CSa0BEKtxGU0fwADQ44AAwNjAEyEVQC/DnugI+YDMZ8DTITlAX4d6w2AWIGBgQchdBC/jnwQBuqa\n",
       "ihAKwa/jGwMD8y8g/QiIpZYLKwFDTB2vDqBqDt0JUIMfcFXxXWBgcGWYCwzdk8jKzP4pPTOAhu53\n",
       "JZUNIMZNoJcbWD6yAwNgDoodVmXZQKkLDFwHIHy2D1AJYIQxM/CBg9geWQffYxDJ/oCB5QMiOmA6\n",
       "gAG2AETugergWtf1AhqfPBMYZKHBb68A1XETROxvYARG31yojhXsCZGMCWBO/xK/Ylh0bIAyshgY\n",
       "xDbUMDABmW5QHQ5sCwy4ISb7MjDWQRXGw0IDGKTzDd8w7AQHNDQl8jcwsISlpWUyMACV90PMfvY/\n",
       "C6rDloFBbhXnE1BA34aZYsPQwAxxNTCo9xugRQwvXIDjApQ+oMrwgCERzPzIwHgPPSqh6Y8BKU2+\n",
       "2rRKgKENZJLrJ6VnEzBiPwPGaEMRZlRLy8aRXsQwtBICHAug6aaBAQAXGG4iUSw4xwAAAABJRU5E\n",
       "rkJggg==\n",
       "\" style=\"display:inline;vertical-align:middle;\" /></a></span>"
      ],
      "text/plain": [
       "{exists_{x in A} P(x), A subset_eq B} |- exists_{x in B} P(x)"
      ]
     },
     "metadata": {},
     "output_type": "display_data"
    }
   ],
   "source": [
    "Exists(x, Px, domain=B).prove(assumptions=[Exists(x, Px, domain=A), SubsetEq(A, B)])"
   ]
  },
  {
   "cell_type": "markdown",
   "metadata": {},
   "source": [
    "These can also be done manually (e.g., to understand why the automation fails when something is wrong):"
   ]
  },
  {
   "cell_type": "code",
   "execution_count": 262,
   "metadata": {},
   "outputs": [
    {
     "data": {
      "text/html": [
       "<span style=\"font-size:20px;\"><a class=\"ProveItLink\" href=\"../__pv_it/theorems/c965105f84c065d542c60da4b6ae34d491031ef50/expr.ipynb\"><img src=\"data:image/png;base64,iVBORw0KGgoAAAANSUhEUgAAAGIAAAAVBAMAAABPrCZEAAAAMFBMVEX///+IiIgiIiIQEBB2dnbu\n",
       "7u5ERETMzMzc3NwyMjK6urpmZmaYmJiqqqpUVFQAAAB6qHgnAAAAAXRSTlMAQObYZgAAAAlwSFlz\n",
       "AAAOxAAADsQBlSsOGwAAAcVJREFUOMuNUk0oRFEU/oY344335kdigdAslUImZaHUbGmUxsKGhcfK\n",
       "TGJrXo0smY0S0pTFbMiUKb+FjWI1YaMUIluU/xLnvrn3TcZM5tZ553vn3e++73z3AIUtPZ1kFLos\n",
       "qXQudQPXDFzm3lf5PXq/6GfoXJRqgB2W5/Mc/QHYvJStUVGx+zHJ1A3kJpQ8AQ4KKAeipCYYCVIq\n",
       "j/o3imcCxZmaFyrR7XlE2R4piIWLTG0JaPF4WvMwXKQ2TO4gSdFT2+cjLd3AJjCUtdPPM+2eauQH\n",
       "I2G5UeqBY2AG8vVvgrWNg7o734kBiKbq6ouTOjgjoX4pJryp1RiUvvh7UJzRTt+gGBaHyT632fhu\n",
       "yEjx5sx1mAwyjHWEFYroIT3Ktqp1C3fdvcx/+SwYRjPrupUaPCXUNUeu6/f2VIDfArY5+BSMQSAQ\n",
       "u4VE8IgiQo2rGCzBavpzHOV8Ih4Fgyy9mtjAGjfaaah/J+M0TSPHk74Hw14l+OrmjDGgv8yxx0aj\n",
       "wRyhJhnjXBRmQ1kXVGQW5HoOIlJUIZ8ZJG2u7Dmj+ePLnEmlqrMC8jBDHbDuL2TPy4gA07/rvZoW\n",
       "yz1hgT/U/5bMPbDo+AEbLmER9+5omgAAAABJRU5ErkJggg==\n",
       "\" style=\"display:inline;vertical-align:middle;\" /></a>, <a class=\"ProveItLink\" href=\"../__pv_it/demonstrations/e8df50723d896cb4b33a5a2d005764d6a20e4c160/expr.ipynb\"><img src=\"data:image/png;base64,iVBORw0KGgoAAAANSUhEUgAAADsAAAASBAMAAAAXqLt+AAAAMFBMVEX///8QEBAiIiLu7u5ERES6\n",
       "urqYmJiIiIjMzMx2dnZUVFRmZmaqqqoyMjLc3NwAAABb1yYoAAAAAXRSTlMAQObYZgAAAAlwSFlz\n",
       "AAAOxAAADsQBlSsOGwAAAP1JREFUKM9jYACBtwx4wX0METb/X6vWekDYPP/BlJGSkpI7TJ7RgYFh\n",
       "fQOYyb3+AUz0+Q0o430BA0P8BjBz3vwGuKm2UJX5QKH8AhCLr6D+AFya4wKEXg/EF8FKuRnOJyAc\n",
       "dQ9CiTAwWGmAWTEM/RMQ0nMghnwpr7oGEdjA8H4BQnormGT/x8BwEGwmu/fu9Q4IaYjdLAIMDJw/\n",
       "QCxzBgZ+BbgsD8QgfiDF9h1iNgOTAFy6yQBM9QMN5voKZLACGbwfoJLM0X4QRj3QT/0gex6CbPoH\n",
       "DVTdPVB1F4H6ZIEGmfy/zMDj/3cCaows+b9q1ZUDDFQEoAhVUlqALAQArX5BIg1OZRUAAAAASUVO\n",
       "RK5CYII=\n",
       "\" style=\"display:inline;vertical-align:middle;\" /></a> <a class=\"ProveItLink\" href=\"../__pv_it/demonstrations/ac15c05d5ed729586c8044e4501d5a498b5a8ae40/proof.ipynb\" style=\"text-decoration: none\">&nbsp;&#x22A2;&nbsp;&nbsp;</a><a class=\"ProveItLink\" href=\"../__pv_it/demonstrations/0be8f83606f2b540b6f4c21888484aded5bdbe1e0/expr.ipynb\"><img src=\"data:image/png;base64,iVBORw0KGgoAAAANSUhEUgAAAGMAAAAVBAMAAACgbk16AAAAMFBMVEX///+IiIgiIiIQEBB2dnbu\n",
       "7u5ERETMzMzc3NwyMjK6urpmZmaYmJiqqqpUVFQAAAB6qHgnAAAAAXRSTlMAQObYZgAAAAlwSFlz\n",
       "AAAOxAAADsQBlSsOGwAAAdVJREFUOMuNUz1IG2EYfqK5eMld4okopUUNLl0UUtFRUHAT4SitIAXR\n",
       "wRMEmwzOGn/mmkUQHIy7QxTBX8R2aqvi7To4qIsOCmLUpX2+5LuvmHroB+/3Prz3Pt/7e8Drji51\n",
       "Gq8+dVIvUU4FOPFxrP3z9WLBJoh2SEtgD9gSYN7v8Qcg1EbdpyxzwLhIdMCHUXHDABTsKNM+EGbc\n",
       "oOtDCeQptwQJZSq3YTK5sF9eoWsKadGMMoXp39LY2OpHqWTGExZgsHqt6nyshxmxX+vAkB+F7jPN\n",
       "8mkD9dYqYDLgN+inT0pOrnUPS9xw1vVb6DIW+xNH9hVzZFkhO5j1vOsdwh9AtTQkvZppTmGz4MPy\n",
       "opaqfjsl7kvg6N9YFAX4IK6IaF7mO6+qjXdpMVmedmhNMuqtpIjEELnHZ0aIE/ZwoIH0RdjtLS7g\n",
       "zcFuSo7l0Wu2BW0klgAbZ4qxT7N6E4MVWC58NuPoz8kZXEsKOxvNf0lE3GK/ESu8eQ/8chzHRSwH\n",
       "vfi6kbyzZIZxaCvW8aHIMatam9AxVizVRSRfOqD3Ck15YDqYMdhuAWdtfMyVUvYVUgtqvO2sgS4m\n",
       "aC52dY/+v2ze31i69J8cJ/v85mgDpdyXz6TUb4C/K7hmrGgkn0MAAAAASUVORK5CYII=\n",
       "\" style=\"display:inline;vertical-align:middle;\" /></a></span>"
      ],
      "text/plain": [
       "{forall_{x in A} P(x), A superset_eq B} |- forall_{x in B} P(x)"
      ]
     },
     "metadata": {},
     "output_type": "display_data"
    }
   ],
   "source": [
    "Forall(x, Px, domain=B).conclude_via_domain_inclusion(A, assumptions=[Forall(x, Px, domain=A), superset_eq(A, B)])"
   ]
  },
  {
   "cell_type": "code",
   "execution_count": 263,
   "metadata": {},
   "outputs": [
    {
     "data": {
      "text/html": [
       "<span style=\"font-size:20px;\"><a class=\"ProveItLink\" href=\"../__pv_it/theorems/bcd3767e56e7ecbe8437ca4c5fc30cd0f7f69f480/expr.ipynb\"><img src=\"data:image/png;base64,iVBORw0KGgoAAAANSUhEUgAAAGEAAAAVBAMAAACkm51HAAAAMFBMVEX////u7u52dnbMzMyYmJgy\n",
       "MjJERERUVFTc3NyqqqqIiIi6uroQEBAiIiJmZmYAAABr+PKJAAAAAXRSTlMAQObYZgAAAAlwSFlz\n",
       "AAAOxAAADsQBlSsOGwAAAaRJREFUOMtjYCAKcEDpBgZiwUoovQuI3969e/c0dmVc+d/KUx+CWJwK\n",
       "MCEHVBPQAX8AA0OOAJAhChcKxK/DfgEDw3wgZngCF/LDr2O9ARCDHHQALsQjgFdHPggDdXEGwIVY\n",
       "HfDq+MbAwPwLSPMB7WFcVWikycDAVIBNByOUBqrm0J0ANZiPYfmCtwwMLAEMc4GhexJVh4wBNCi/\n",
       "K6lsADF4gdo8GPwFSoAOPIBih1VZNojSnwDhsn2AeReoz4DhKdjeD8g6+B6DKW6bBYjogOtgYDgF\n",
       "loTZwbWu6wXDEqhjWAug0QGLaZCrGLh/MAgCXXUBqmMFe0IkYwJEfgEf1Oz1G6A62BYwMGazH2AA\n",
       "msCSANXhwLbAgBsS1NwGXNAIi4cFBTBIOT/LHeCeAA5oaErkb2BgCUtLywSKKal/BKt79j8LFswX\n",
       "GBhfLZjnCXIgzF4GG4YGZoizFzBwfEaPystwVi8swxxQZXjAkAh2FNBtP9F1+MFZ8DT5atMqAYY2\n",
       "UMy9KWCQ+7oBTQcbLO9xJKCmDrW0bOwJDBaMCK0EQReUXsHAAAD1HGiqKi4hQgAAAABJRU5ErkJg\n",
       "gg==\n",
       "\" style=\"display:inline;vertical-align:middle;\" /></a>, <a class=\"ProveItLink\" href=\"../__pv_it/theorems/db7a164f644801bfd111812bb9a6a278f180c2b50/expr.ipynb\"><img src=\"data:image/png;base64,iVBORw0KGgoAAAANSUhEUgAAADsAAAASBAMAAAAXqLt+AAAAMFBMVEX///8QEBAiIiLu7u5ERES6\n",
       "urqYmJiIiIjMzMx2dnZUVFRmZmaqqqoyMjLc3NwAAABb1yYoAAAAAXRSTlMAQObYZgAAAAlwSFlz\n",
       "AAAOxAAADsQBlSsOGwAAAP5JREFUKM9jYACBtwx4wX0METb/X6vWekDYPP+hgiVKSkoaECajAwPD\n",
       "+gYwk3v9AzDdW4fQ/r6AgSF+A5g5bz5YGbMekun5QKH8AhCLr6D+AIjmCkCSXg/EF8GGcjOcTwDR\n",
       "vMhuE2FgsII4I4ahfwKI7kKS5fhSXnUNwtzA8H4BiH6FJM3+j4HhINhMdu/d6x1ADCYkaRYBBgbO\n",
       "HyCWOQMDvwLYDQkIaX6geWzfIWYzMAmAxa4ipPuBSrm+AhmsQAbvB7CY1VIDmHQ90E/9F4CMhyCb\n",
       "/kEEI51ggXoRqE8WqNjk/2UGHv+/E1BjZMn/VauuHGCgIuBWUkJEKAQAAKfCPPnSFvDNAAAAAElF\n",
       "TkSuQmCC\n",
       "\" style=\"display:inline;vertical-align:middle;\" /></a> <a class=\"ProveItLink\" href=\"../__pv_it/demonstrations/4bae2006039d32e0db1bb1c500285159d83b68d10/proof.ipynb\" style=\"text-decoration: none\">&nbsp;&#x22A2;&nbsp;&nbsp;</a><a class=\"ProveItLink\" href=\"../__pv_it/demonstrations/0aa9fa4062a06b7388e7de96677e606985f5ec3a0/expr.ipynb\"><img src=\"data:image/png;base64,iVBORw0KGgoAAAANSUhEUgAAAGIAAAAVBAMAAABPrCZEAAAAMFBMVEX////u7u52dnbMzMyYmJgy\n",
       "MjJERERUVFTc3NyqqqqIiIi6uroQEBAiIiJmZmYAAABr+PKJAAAAAXRSTlMAQObYZgAAAAlwSFlz\n",
       "AAAOxAAADsQBlSsOGwAAAadJREFUOMtjYCAONEAoDgZiAdcECM29gIHh7d27d0/jUpf/rTz1IYg1\n",
       "CSa0BEKtxGU0fwADQ44AAwNjAEyEVQC/DnugI+YDMZ8DTITlAX4d6w2AWIGBgQchdBC/jnwQBuqa\n",
       "ihAKwa/jGwMD8y8g/QiIpZYLKwFDTB2vDqBqDt0JUIMfcFXxXWBgcGWYCwzdk8jKzP4pPTOAhu53\n",
       "JZUNIMZNoJcbWD6yAwNgDoodVmXZQKkLDFwHIHy2D1AJYIQxM/CBg9geWQffYxDJ/oCB5QMiOmA6\n",
       "gAG2AETugergWtf1AhqfPBMYZKHBb68A1XETROxvYARG31yojhXsCZGMCWBO/xK/Ylh0bIAyshgY\n",
       "xDbUMDABmW5QHQ5sCwy4ISb7MjDWQRXGw0IDGKTzDd8w7AQHNDQl8jcwsISlpWUyMACV90PMfvY/\n",
       "C6rDloFBbhXnE1BA34aZYsPQwAxxNTCo9xugRQwvXIDjApQ+oMrwgCERzPzIwHgPPSqh6Y8BKU2+\n",
       "2rRKgKENZJLrJ6VnEzBiPwPGaEMRZlRLy8aRXsQwtBICHAug6aaBAQAXGG4iUSw4xwAAAABJRU5E\n",
       "rkJggg==\n",
       "\" style=\"display:inline;vertical-align:middle;\" /></a></span>"
      ],
      "text/plain": [
       "{exists_{x in A} P(x), A subset_eq B} |- exists_{x in B} P(x)"
      ]
     },
     "metadata": {},
     "output_type": "display_data"
    }
   ],
   "source": [
    "Exists(x, Px, domain=B).conclude_via_domain_inclusion(A, assumptions=[Exists(x, Px, domain=A), SubsetEq(A, B)])"
   ]
  },
  {
   "cell_type": "code",
   "execution_count": 264,
   "metadata": {},
   "outputs": [],
   "source": [
    "%end demonstrations"
   ]
  },
  {
   "cell_type": "code",
   "execution_count": null,
   "metadata": {},
   "outputs": [],
   "source": []
  }
 ],
 "metadata": {
  "kernelspec": {
   "display_name": "Python 3",
   "language": "python",
   "name": "python3"
  },
  "language_info": {
   "codemirror_mode": {
    "name": "ipython",
    "version": 3
   },
   "file_extension": ".py",
   "mimetype": "text/x-python",
   "name": "python",
   "nbconvert_exporter": "python",
   "pygments_lexer": "ipython3",
   "version": "3.7.3"
  }
 },
 "nbformat": 4,
 "nbformat_minor": 1
}
