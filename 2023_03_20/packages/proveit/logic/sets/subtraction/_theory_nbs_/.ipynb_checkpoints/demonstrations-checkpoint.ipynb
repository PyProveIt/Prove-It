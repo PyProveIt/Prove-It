{
 "cells": [
  {
   "cell_type": "markdown",
   "metadata": {},
   "source": [
    "Demonstrations for the theory of <a class=\"ProveItLink\" href=\"theory.ipynb\">proveit.logic.sets.subtraction</a>\n",
    "========"
   ]
  },
  {
   "cell_type": "code",
   "execution_count": 1,
   "metadata": {},
   "outputs": [],
   "source": [
    "import proveit\n",
    "from proveit import a, b, c, d, e, f, x, y, A, B, S, InstantiationFailure\n",
    "from proveit.logic import Or, Equals, NotEquals, Set, InSet, NotInSet, Difference\n",
    "from proveit.numbers import (one, two, three, four, five, six, seven, Add,\n",
    "                             Integer, Natural, NaturalPos, Neg)\n",
    "%begin demonstrations"
   ]
  },
  {
   "cell_type": "code",
   "execution_count": 2,
   "metadata": {},
   "outputs": [
    {
     "data": {
      "text/html": [
       "<span style=\"font-size:20px;\"> <a class=\"ProveItLink\" href=\"../__pv_it/demonstrations/c09ad430f9159396fe904f533a36411ad9c137a20/proof.ipynb\" style=\"text-decoration: none\">&nbsp;&#x22A2;&nbsp;&nbsp;</a><a class=\"ProveItLink\" href=\"../__pv_it/axioms/514d95749f8fd893edf697247665cc5abfc6e8950/expr.ipynb\"><img src=\"data:image/png;base64,iVBORw0KGgoAAAANSUhEUgAAAUkAAAAVCAMAAAD8b+yiAAAAP1BMVEX///9jY2MJCQkdHR0NDQ0W\n",
       "FhbMzMxUVFRERES6uroiIiIQEBCYmJhmZmYyMjLu7u52dnaqqqqIiIjc3NwAAACGmE1UAAAAAXRS\n",
       "TlMAQObYZgAAAAlwSFlzAAAOxAAADsQBlSsOGwAAA1VJREFUWMO1WFmW3CAMdCYJ+2KW+581dhu3\n",
       "kTEgdb/wo3k9WFUFoliWZWtpITRS597H6b998AHb9Ol/G3IxEKiBzskRhckIIxaNRLGmhgCa5HYe\n",
       "rSasBIKws8vTD4zImW/NCfaibQp9Q0EjUYTUpkCT3Iyj1XhKXcHOIWfEN1q8As+snuLBVDdo3pEH\n",
       "8qJ2B1rDQFHbrESrsYZAEHa2PM99KOWj9mW2r1m1ZXYtHo1E8U7tBuSVGyhqm8Kr0SMLEWprFTTo\n",
       "vKb1mJnx8i59TOGgyzTqeVHqJ9QZxYYaBIqGyyeMTu6/f2DugZrQr27p4k0t6JziEvN8J+BlmTl9\n",
       "FIkrReCmhXaikSi21CCQWpjoKXrIzRlajS2G62Pknq2Vi6TWymztznZ3I4O0Sc9V4bRyGAcrdIUR\n",
       "RbGlBoD2/cWlFqOTu3HRgZpzUDfwyONiL19wrQfW0ys3UJanmyrLIm4sry+Ng3HHVlXjDRqJYkvN\n",
       "1KOxfxFsq6iT20S8GnXMgkn72t+q+Rqrh7pXAcz75r/TwoqH8wd9Jg4axoHZBxBxFFtqNdBxplH+\n",
       "jtHLfa/5kRp9+O9erBYQY/qskstXtKzc2NptgxTVcaIqrMtdRIF67wAswzjwBQkijmJLrQY6bC/G\n",
       "O0Yn9++fW+6RmmpwNChlL/radl95haxmw3GWxrnZLVLDiB5JHMWWWgVUbM+rp9p4yL0Ggpprwcq9\n",
       "cr3vnaTg6i5Wo/TUJs256RXOQcHY98nb6sZRbKlVQOfI2NAqesqtKGpEPGZALnyHrnaQ2F5ZxfmT\n",
       "NMjrYjGWjYN7X7hg7LcTjUSxpVYBqea9YJhbWoqaYxsPmXmrj13v8tzmsHju+emcbzG75Dhdiv/t\n",
       "3fezTb/B8xKSYkvtArp2YsEWRO77YXKshr3mydttCoI1gJjnQsK9q3TervGvVGH/YzQg/H3hvxIr\n",
       "CePAGRRAxVB8onYB8XdXFhdE7h8of6ZGDS58chXwKqbmt8PZNVzBODwGsTlqQ7EHOMF4uuf+muWG\n",
       "ajBPCVdy++1IUl4lKK8dyEcXiiLEcxVUIyjv0SJ9WZICRhzaF6hToG5uBMWbGi8IxEidvx6bE+0L\n",
       "1ClQN/cayGpSpMxx/GYgY4IRi/YxKgKol5vT1PwDqB07RkFAAKUAAAAASUVORK5CYII=\n",
       "\" style=\"display:inline;vertical-align:middle;\" /></a></span>"
      ],
      "text/plain": [
       "|- (x in (A - B)) = ((x in A) and (x not-in B))"
      ]
     },
     "execution_count": 2,
     "metadata": {},
     "output_type": "execute_result"
    }
   ],
   "source": [
    "InSet(x, Difference(A, B)).definition()"
   ]
  },
  {
   "cell_type": "code",
   "execution_count": 3,
   "metadata": {},
   "outputs": [
    {
     "data": {
      "text/html": [
       "<span style=\"font-size:20px;\"><a class=\"ProveItLink\" href=\"../../inclusion/__pv_it/theorems/bffc8f58d953dcb8331468867a32979a833e73840/expr.ipynb\"><img src=\"data:image/png;base64,iVBORw0KGgoAAAANSUhEUgAAADUAAAAQBAMAAABEqSrGAAAAMFBMVEX///9ERES6uroQEBAyMjLc\n",
       "3NyYmJgiIiJmZmaqqqp2dnbMzMxUVFSIiIju7u4AAAAd7oVFAAAAAXRSTlMAQObYZgAAAAlwSFlz\n",
       "AAAOxAAADsQBlSsOGwAAAM9JREFUGNNjYMABQhhwA3/cUpz/cctxnA9A4fOKl5fA2EvXb0CWYvJ9\n",
       "AGezXrg/AUi9vfN61QSwyx4gGckwPwFINfCe5SgA8V2RzNBk2L+AgYEtgO0fD0gNgwOSXAND/AEG\n",
       "Bm4GDoggt3l5eXkh1FUSHecFQAzmC2A+nwBC21sGBn6wPfoBfGBXFCAbycBuwMDwUOEwAxdY4C7C\n",
       "N0D7WT4wMMzf1wx0FQiwTIDJBQMx41cGhhd3OdsggnwH9SBSD//7MXDKf1mAEjALEWEGAgAYMjDu\n",
       "34hqRQAAAABJRU5ErkJggg==\n",
       "\" style=\"display:inline;vertical-align:middle;\" /></a>, <a class=\"ProveItLink\" href=\"../__pv_it/axioms/c131b0a858a9d2c11085a39aa736d5d310ae540d0/expr.ipynb\"><img src=\"data:image/png;base64,iVBORw0KGgoAAAANSUhEUgAAADUAAAAVCAMAAADRlFZ0AAAARVBMVEX///8/Pz9vb28YGBgJCQkd\n",
       "HR0NDQ0WFhZERES6uroQEBAyMjLc3NyYmJgiIiJmZmaqqqp2dnbMzMxUVFSIiIju7u4AAAAQwmFf\n",
       "AAAAAXRSTlMAQObYZgAAAAlwSFlzAAAOxAAADsQBlSsOGwAAAQRJREFUOMu9U9lywyAMJEmbcJhT\n",
       "SP//qRGYEqCpM+OH6kWDzUq7KyHEQWziTBg8AUownqwkAg4j0yHKq/msZU1AhzC3qKRcsyL/ByBL\n",
       "5x53M32zrYdt6DWUyewDLESAmke6eIs5A6YYQ6dSvUMj3slCcLUas8yQhe8yTJ2TXXgkkpnrG7vT\n",
       "3ApVFGA76u2wMtViQdd7pZ8f2STtOL6/nJMjSuo9x268HtlgvfyS2YJAzBaq0hxxmpNbF4Xsj5Wq\n",
       "VFYCSvP4UsDF1DrJJovRRU2ghJ5RamBkwq9h8ZR2Wnofi+fSwdtRBoK8zQ5CX91wsILXC6+UM//x\n",
       "sjZ55hHHcAYFH/4/AeuwDX8Jucg9AAAAAElFTkSuQmCC\n",
       "\" style=\"display:inline;vertical-align:middle;\" /></a> <a class=\"ProveItLink\" href=\"../__pv_it/demonstrations/00960c96e646328b301a05f44cedaa6d88f183640/proof.ipynb\" style=\"text-decoration: none\">&nbsp;&#x22A2;&nbsp;&nbsp;</a><a class=\"ProveItLink\" href=\"../__pv_it/axioms/863e32e680bd2723f00aafb2cf95d6458ac2fcdc0/expr.ipynb\"><img src=\"data:image/png;base64,iVBORw0KGgoAAAANSUhEUgAAAG0AAAAVBAMAAAC+p33JAAAAMFBMVEX///9ERES6uroQEBAyMjLc\n",
       "3NyYmJgiIiJmZmaqqqp2dnbMzMxUVFSIiIju7u4AAAAd7oVFAAAAAXRSTlMAQObYZgAAAAlwSFlz\n",
       "AAAOxAAADsQBlSsOGwAAAbBJREFUOMtjYMAGWBnwggBcEjchuh1wSOviEOdcAKZYPqBLJP4/c8Zx\n",
       "AwNvAnZ9TyDUfAx9DIYMDDy/GRj8sOtrg1A9XzH8/ZeBgekHA0MGiiiveHkJmGEAJrmifqPrYwOK\n",
       "sAH1Mj9AEmTyhfI4IeERy/sTXR8P0OUspkAM9ODbO69XTQAJhsAM4YAESwPnN3R9zAIMfMc3AJ1y\n",
       "ACjNe5ajACToCpNlAQcX0wTuX+j69svePQKSZHNgYAtg+8cDVgiPLXaw9RwMrH/Q9d0PYOA0A/nE\n",
       "gIGbgQOigdu8vLy8EOwaBRB5saPnI4jmcy8HgQ0gtjAQrweyuEExxHwBrI9PAO4LkD4+oOh3dPtA\n",
       "DsgHSjCBQlw/gA8cIgUo7uQA4mI0bdyggDoPNJWzgOGhwmEGLrDoXZg0I8gBakDsj6aPF5gQuL+A\n",
       "wkWAYf6+ZgZNSDBOgEqDQpkV5BJ5tITPAhRU9oPE1Iu7nG0QDXwH9aDOKWDgk//ygGHify/UWJf/\n",
       "c+aIJNgnCsjiTAuh6ayagQAIxy6cQUhfG3ZhxgD82lgFsIvzCeDXh9PcWPz6rjIwAAAreGHYXNc/\n",
       "cAAAAABJRU5ErkJggg==\n",
       "\" style=\"display:inline;vertical-align:middle;\" /></a></span>"
      ],
      "text/plain": [
       "{x in A, x not-in B} |- x in (A - B)"
      ]
     },
     "execution_count": 3,
     "metadata": {},
     "output_type": "execute_result"
    }
   ],
   "source": [
    "InSet(x, Difference(A, B)).prove(assumptions=[InSet(x, A), NotInSet(x, B)])"
   ]
  },
  {
   "cell_type": "code",
   "execution_count": 4,
   "metadata": {},
   "outputs": [
    {
     "data": {
      "text/html": [
       "<span style=\"font-size:20px;\"><a class=\"ProveItLink\" href=\"../../inclusion/__pv_it/theorems/bffc8f58d953dcb8331468867a32979a833e73840/expr.ipynb\"><img src=\"data:image/png;base64,iVBORw0KGgoAAAANSUhEUgAAADUAAAAQBAMAAABEqSrGAAAAMFBMVEX///9ERES6uroQEBAyMjLc\n",
       "3NyYmJgiIiJmZmaqqqp2dnbMzMxUVFSIiIju7u4AAAAd7oVFAAAAAXRSTlMAQObYZgAAAAlwSFlz\n",
       "AAAOxAAADsQBlSsOGwAAAM9JREFUGNNjYMABQhhwA3/cUpz/cctxnA9A4fOKl5fA2EvXb0CWYvJ9\n",
       "AGezXrg/AUi9vfN61QSwyx4gGckwPwFINfCe5SgA8V2RzNBk2L+AgYEtgO0fD0gNgwOSXAND/AEG\n",
       "Bm4GDoggt3l5eXkh1FUSHecFQAzmC2A+nwBC21sGBn6wPfoBfGBXFCAbycBuwMDwUOEwAxdY4C7C\n",
       "N0D7WT4wMMzf1wx0FQiwTIDJBQMx41cGhhd3OdsggnwH9SBSD//7MXDKf1mAEjALEWEGAgAYMjDu\n",
       "34hqRQAAAABJRU5ErkJggg==\n",
       "\" style=\"display:inline;vertical-align:middle;\" /></a>, <a class=\"ProveItLink\" href=\"../../../equality/__pv_it/theorems/73829d3be05f2b12292db7642d7f9d4a94d650a00/expr.ipynb\"><img src=\"data:image/png;base64,iVBORw0KGgoAAAANSUhEUgAAADMAAAAUCAMAAAAX1vWWAAAAPFBMVEX///8NDQ0WFhYLCwsYGBhE\n",
       "RES6uroQEBAyMjLc3NyYmJgiIiJmZmaqqqp2dnbMzMxUVFSIiIju7u4AAAD+DEmOAAAAAXRSTlMA\n",
       "QObYZgAAAAlwSFlzAAAOxAAADsQBlSsOGwAAANVJREFUOMudU90agyAIZT9lGSjQ+7/rxNY2l7qv\n",
       "cYGWwOEcEaBrqHDW4nA6BYZ4Hob/gJlPp4xtGBVhjSHQ98E0l2HobcmFEEBYAJeXwEu2+838CysA\n",
       "ubT41dxsGwX2XZhIW1U2+U1OnCpssGQA4ASeDj43TRgrkpqBuMb9K52rFnyul43VW7vcjBgnHUZg\n",
       "lzmWMIdJG3h3tEbFlDOWUhMe55Wto6w3iqQIT79g0s0EwbU9GhTq/8PUHpsKjIWro2aKr8As6T44\n",
       "tGGWyvMkLzj2Hk533h9UTgjQ0ngz3AAAAABJRU5ErkJggg==\n",
       "\" style=\"display:inline;vertical-align:middle;\" /></a> <a class=\"ProveItLink\" href=\"../__pv_it/demonstrations/fe5c079e5fe64066aadfa820ca8e1906db13143e0/proof.ipynb\" style=\"text-decoration: none\">&nbsp;&#x22A2;&nbsp;&nbsp;</a><a class=\"ProveItLink\" href=\"../__pv_it/demonstrations/0e939f403102670bb5514ac8a5a800d88d4ae08a0/expr.ipynb\"><img src=\"data:image/png;base64,iVBORw0KGgoAAAANSUhEUgAAAHwAAAAVBAMAAAB2y5cfAAAAMFBMVEX///9ERES6uroQEBAyMjLc\n",
       "3NyYmJgiIiJmZmaqqqp2dnbMzMxUVFSIiIju7u4AAAAd7oVFAAAAAXRSTlMAQObYZgAAAAlwSFlz\n",
       "AAAOxAAADsQBlSsOGwAAAehJREFUOMtjYMAGWBlwgEcKEDoyAJ+qmxBDHNDFeZ0eQBjcB4EMpgvY\n",
       "dXMuAFMsH9Al5j+AsRgPAIlr2LU/gSrG0L4czuIqAJn/AKv2NgjV85WAdrYGZMmL5eUQ3xpAVET9\n",
       "JqCdwQ5JTuUezOsQQ2J5fxLS7sbA8PbO61UTQOHsB5PigIRcA+c3LNr5biQwvIFpXwNUxXuWAxwO\n",
       "ATBFLAkgkmkC9y907S1AfZwGDPnAKAR7MIWBLYDtHw9IPQtcEfsEsBsYWP+gpyYzBoadQLsOAplg\n",
       "j01m4GbggHh1czkQCIBYzOCkdbGj5yM4FkHi5dUg3UeAEg+YLzDYAjlvPIHEfpBqSOJ5CLcErJ0P\n",
       "KPodzfYdckBC/wE3KEaWgBQpg/gBfKDoZ0d1PAcQF6P7XQbsf5C/Of+B+NMZHiocZuACp2d4CmYE\n",
       "sdSA2B9bxMmAEywXOOgSGebva2bQBMt5wuMUKM0KkpYPwKK9h0E/ARZxXQwv7nK2gUOa4Y0QLDsV\n",
       "MPDJf3nAMPG/Fxbtb9b2B8C0FyFLaolDE201rowMSXVLYKmOtQCrqgw82rkc+Cxh2jkSsKpiDMCh\n",
       "/TIwWi7wgNI0OLEEYlfFJ4BDe/wEBs7cJhDrMchiURzKYnGIs/ZAQpkh6iQoqgMYAL4ceE+48yEm\n",
       "AAAAAElFTkSuQmCC\n",
       "\" style=\"display:inline;vertical-align:middle;\" /></a></span>"
      ],
      "text/plain": [
       "{x in A, x != y} |- x in (A - {y})"
      ]
     },
     "execution_count": 4,
     "metadata": {},
     "output_type": "execute_result"
    }
   ],
   "source": [
    "InSet(x, Difference(A, Set(y))).prove(assumptions=[InSet(x, A), NotEquals(x, y)])"
   ]
  },
  {
   "cell_type": "code",
   "execution_count": 5,
   "metadata": {},
   "outputs": [
    {
     "data": {
      "text/html": [
       "<span style=\"font-size:20px;\"><a class=\"ProveItLink\" href=\"../__pv_it/axioms/863e32e680bd2723f00aafb2cf95d6458ac2fcdc0/expr.ipynb\"><img src=\"data:image/png;base64,iVBORw0KGgoAAAANSUhEUgAAAG0AAAAVBAMAAAC+p33JAAAAMFBMVEX///9ERES6uroQEBAyMjLc\n",
       "3NyYmJgiIiJmZmaqqqp2dnbMzMxUVFSIiIju7u4AAAAd7oVFAAAAAXRSTlMAQObYZgAAAAlwSFlz\n",
       "AAAOxAAADsQBlSsOGwAAAbBJREFUOMtjYMAGWBnwggBcEjchuh1wSOviEOdcAKZYPqBLJP4/c8Zx\n",
       "AwNvAnZ9TyDUfAx9DIYMDDy/GRj8sOtrg1A9XzH8/ZeBgekHA0MGiiiveHkJmGEAJrmifqPrYwOK\n",
       "sAH1Mj9AEmTyhfI4IeERy/sTXR8P0OUspkAM9ODbO69XTQAJhsAM4YAESwPnN3R9zAIMfMc3AJ1y\n",
       "ACjNe5ajACToCpNlAQcX0wTuX+j69svePQKSZHNgYAtg+8cDVgiPLXaw9RwMrH/Q9d0PYOA0A/nE\n",
       "gIGbgQOigdu8vLy8EOwaBRB5saPnI4jmcy8HgQ0gtjAQrweyuEExxHwBrI9PAO4LkD4+oOh3dPtA\n",
       "DsgHSjCBQlw/gA8cIgUo7uQA4mI0bdyggDoPNJWzgOGhwmEGLrDoXZg0I8gBakDsj6aPF5gQuL+A\n",
       "wkWAYf6+ZgZNSDBOgEqDQpkV5BJ5tITPAhRU9oPE1Iu7nG0QDXwH9aDOKWDgk//ygGHify/UWJf/\n",
       "c+aIJNgnCsjiTAuh6ayagQAIxy6cQUhfG3ZhxgD82lgFsIvzCeDXh9PcWPz6rjIwAAAreGHYXNc/\n",
       "cAAAAABJRU5ErkJggg==\n",
       "\" style=\"display:inline;vertical-align:middle;\" /></a> <a class=\"ProveItLink\" href=\"../__pv_it/demonstrations/6c5357d171a2544529330fff1151b168922478240/proof.ipynb\" style=\"text-decoration: none\">&nbsp;&#x22A2;&nbsp;&nbsp;</a><a class=\"ProveItLink\" href=\"../../inclusion/__pv_it/theorems/bffc8f58d953dcb8331468867a32979a833e73840/expr.ipynb\"><img src=\"data:image/png;base64,iVBORw0KGgoAAAANSUhEUgAAADUAAAAQBAMAAABEqSrGAAAAMFBMVEX///9ERES6uroQEBAyMjLc\n",
       "3NyYmJgiIiJmZmaqqqp2dnbMzMxUVFSIiIju7u4AAAAd7oVFAAAAAXRSTlMAQObYZgAAAAlwSFlz\n",
       "AAAOxAAADsQBlSsOGwAAAM9JREFUGNNjYMABQhhwA3/cUpz/cctxnA9A4fOKl5fA2EvXb0CWYvJ9\n",
       "AGezXrg/AUi9vfN61QSwyx4gGckwPwFINfCe5SgA8V2RzNBk2L+AgYEtgO0fD0gNgwOSXAND/AEG\n",
       "Bm4GDoggt3l5eXkh1FUSHecFQAzmC2A+nwBC21sGBn6wPfoBfGBXFCAbycBuwMDwUOEwAxdY4C7C\n",
       "N0D7WT4wMMzf1wx0FQiwTIDJBQMx41cGhhd3OdsggnwH9SBSD//7MXDKf1mAEjALEWEGAgAYMjDu\n",
       "34hqRQAAAABJRU5ErkJggg==\n",
       "\" style=\"display:inline;vertical-align:middle;\" /></a></span>"
      ],
      "text/plain": [
       "{x in (A - B)} |- x in A"
      ]
     },
     "execution_count": 5,
     "metadata": {},
     "output_type": "execute_result"
    }
   ],
   "source": [
    "InSet(x, A).prove(assumptions=[InSet(x, Difference(A, B))])"
   ]
  },
  {
   "cell_type": "code",
   "execution_count": 6,
   "metadata": {},
   "outputs": [
    {
     "data": {
      "text/html": [
       "<span style=\"font-size:20px;\"><a class=\"ProveItLink\" href=\"../__pv_it/axioms/863e32e680bd2723f00aafb2cf95d6458ac2fcdc0/expr.ipynb\"><img src=\"data:image/png;base64,iVBORw0KGgoAAAANSUhEUgAAAG0AAAAVBAMAAAC+p33JAAAAMFBMVEX///9ERES6uroQEBAyMjLc\n",
       "3NyYmJgiIiJmZmaqqqp2dnbMzMxUVFSIiIju7u4AAAAd7oVFAAAAAXRSTlMAQObYZgAAAAlwSFlz\n",
       "AAAOxAAADsQBlSsOGwAAAbBJREFUOMtjYMAGWBnwggBcEjchuh1wSOviEOdcAKZYPqBLJP4/c8Zx\n",
       "AwNvAnZ9TyDUfAx9DIYMDDy/GRj8sOtrg1A9XzH8/ZeBgekHA0MGiiiveHkJmGEAJrmifqPrYwOK\n",
       "sAH1Mj9AEmTyhfI4IeERy/sTXR8P0OUspkAM9ODbO69XTQAJhsAM4YAESwPnN3R9zAIMfMc3AJ1y\n",
       "ACjNe5ajACToCpNlAQcX0wTuX+j69svePQKSZHNgYAtg+8cDVgiPLXaw9RwMrH/Q9d0PYOA0A/nE\n",
       "gIGbgQOigdu8vLy8EOwaBRB5saPnI4jmcy8HgQ0gtjAQrweyuEExxHwBrI9PAO4LkD4+oOh3dPtA\n",
       "DsgHSjCBQlw/gA8cIgUo7uQA4mI0bdyggDoPNJWzgOGhwmEGLrDoXZg0I8gBakDsj6aPF5gQuL+A\n",
       "wkWAYf6+ZgZNSDBOgEqDQpkV5BJ5tITPAhRU9oPE1Iu7nG0QDXwH9aDOKWDgk//ygGHify/UWJf/\n",
       "c+aIJNgnCsjiTAuh6ayagQAIxy6cQUhfG3ZhxgD82lgFsIvzCeDXh9PcWPz6rjIwAAAreGHYXNc/\n",
       "cAAAAABJRU5ErkJggg==\n",
       "\" style=\"display:inline;vertical-align:middle;\" /></a> <a class=\"ProveItLink\" href=\"../__pv_it/demonstrations/caa9b5a376e6a27c23d8c83cb883def6e7ed70eb0/proof.ipynb\" style=\"text-decoration: none\">&nbsp;&#x22A2;&nbsp;&nbsp;</a><a class=\"ProveItLink\" href=\"../__pv_it/axioms/c131b0a858a9d2c11085a39aa736d5d310ae540d0/expr.ipynb\"><img src=\"data:image/png;base64,iVBORw0KGgoAAAANSUhEUgAAADUAAAAVCAMAAADRlFZ0AAAARVBMVEX///8/Pz9vb28YGBgJCQkd\n",
       "HR0NDQ0WFhZERES6uroQEBAyMjLc3NyYmJgiIiJmZmaqqqp2dnbMzMxUVFSIiIju7u4AAAAQwmFf\n",
       "AAAAAXRSTlMAQObYZgAAAAlwSFlzAAAOxAAADsQBlSsOGwAAAQRJREFUOMu9U9lywyAMJEmbcJhT\n",
       "SP//qRGYEqCpM+OH6kWDzUq7KyHEQWziTBg8AUownqwkAg4j0yHKq/msZU1AhzC3qKRcsyL/ByBL\n",
       "5x53M32zrYdt6DWUyewDLESAmke6eIs5A6YYQ6dSvUMj3slCcLUas8yQhe8yTJ2TXXgkkpnrG7vT\n",
       "3ApVFGA76u2wMtViQdd7pZ8f2STtOL6/nJMjSuo9x268HtlgvfyS2YJAzBaq0hxxmpNbF4Xsj5Wq\n",
       "VFYCSvP4UsDF1DrJJovRRU2ghJ5RamBkwq9h8ZR2Wnofi+fSwdtRBoK8zQ5CX91wsILXC6+UM//x\n",
       "sjZ55hHHcAYFH/4/AeuwDX8Jucg9AAAAAElFTkSuQmCC\n",
       "\" style=\"display:inline;vertical-align:middle;\" /></a></span>"
      ],
      "text/plain": [
       "{x in (A - B)} |- x not-in B"
      ]
     },
     "execution_count": 6,
     "metadata": {},
     "output_type": "execute_result"
    }
   ],
   "source": [
    "NotInSet(x, B).prove(assumptions=[InSet(x, Difference(A, B))])"
   ]
  },
  {
   "cell_type": "code",
   "execution_count": 7,
   "metadata": {},
   "outputs": [
    {
     "data": {
      "text/html": [
       "<span style=\"font-size:20px;\"><a class=\"ProveItLink\" href=\"../__pv_it/demonstrations/0e939f403102670bb5514ac8a5a800d88d4ae08a0/expr.ipynb\"><img src=\"data:image/png;base64,iVBORw0KGgoAAAANSUhEUgAAAHwAAAAVBAMAAAB2y5cfAAAAMFBMVEX///9ERES6uroQEBAyMjLc\n",
       "3NyYmJgiIiJmZmaqqqp2dnbMzMxUVFSIiIju7u4AAAAd7oVFAAAAAXRSTlMAQObYZgAAAAlwSFlz\n",
       "AAAOxAAADsQBlSsOGwAAAehJREFUOMtjYMAGWBlwgEcKEDoyAJ+qmxBDHNDFeZ0eQBjcB4EMpgvY\n",
       "dXMuAFMsH9Al5j+AsRgPAIlr2LU/gSrG0L4czuIqAJn/AKv2NgjV85WAdrYGZMmL5eUQ3xpAVET9\n",
       "JqCdwQ5JTuUezOsQQ2J5fxLS7sbA8PbO61UTQOHsB5PigIRcA+c3LNr5biQwvIFpXwNUxXuWAxwO\n",
       "ATBFLAkgkmkC9y907S1AfZwGDPnAKAR7MIWBLYDtHw9IPQtcEfsEsBsYWP+gpyYzBoadQLsOAplg\n",
       "j01m4GbggHh1czkQCIBYzOCkdbGj5yM4FkHi5dUg3UeAEg+YLzDYAjlvPIHEfpBqSOJ5CLcErJ0P\n",
       "KPodzfYdckBC/wE3KEaWgBQpg/gBfKDoZ0d1PAcQF6P7XQbsf5C/Of+B+NMZHiocZuACp2d4CmYE\n",
       "sdSA2B9bxMmAEywXOOgSGebva2bQBMt5wuMUKM0KkpYPwKK9h0E/ARZxXQwv7nK2gUOa4Y0QLDsV\n",
       "MPDJf3nAMPG/Fxbtb9b2B8C0FyFLaolDE201rowMSXVLYKmOtQCrqgw82rkc+Cxh2jkSsKpiDMCh\n",
       "/TIwWi7wgNI0OLEEYlfFJ4BDe/wEBs7cJhDrMchiURzKYnGIs/ZAQpkh6iQoqgMYAL4ceE+48yEm\n",
       "AAAAAElFTkSuQmCC\n",
       "\" style=\"display:inline;vertical-align:middle;\" /></a> <a class=\"ProveItLink\" href=\"../__pv_it/demonstrations/c76069fe3e1a7ff2fd75aa576b6e16bd50cf76d70/proof.ipynb\" style=\"text-decoration: none\">&nbsp;&#x22A2;&nbsp;&nbsp;</a><a class=\"ProveItLink\" href=\"../../../equality/__pv_it/theorems/73829d3be05f2b12292db7642d7f9d4a94d650a00/expr.ipynb\"><img src=\"data:image/png;base64,iVBORw0KGgoAAAANSUhEUgAAADMAAAAUCAMAAAAX1vWWAAAAPFBMVEX///8NDQ0WFhYLCwsYGBhE\n",
       "RES6uroQEBAyMjLc3NyYmJgiIiJmZmaqqqp2dnbMzMxUVFSIiIju7u4AAAD+DEmOAAAAAXRSTlMA\n",
       "QObYZgAAAAlwSFlzAAAOxAAADsQBlSsOGwAAANVJREFUOMudU90agyAIZT9lGSjQ+7/rxNY2l7qv\n",
       "cYGWwOEcEaBrqHDW4nA6BYZ4Hob/gJlPp4xtGBVhjSHQ98E0l2HobcmFEEBYAJeXwEu2+838CysA\n",
       "ubT41dxsGwX2XZhIW1U2+U1OnCpssGQA4ASeDj43TRgrkpqBuMb9K52rFnyul43VW7vcjBgnHUZg\n",
       "lzmWMIdJG3h3tEbFlDOWUhMe55Wto6w3iqQIT79g0s0EwbU9GhTq/8PUHpsKjIWro2aKr8As6T44\n",
       "tGGWyvMkLzj2Hk533h9UTgjQ0ngz3AAAAABJRU5ErkJggg==\n",
       "\" style=\"display:inline;vertical-align:middle;\" /></a></span>"
      ],
      "text/plain": [
       "{x in (A - {y})} |- x != y"
      ]
     },
     "execution_count": 7,
     "metadata": {},
     "output_type": "execute_result"
    }
   ],
   "source": [
    "NotEquals(x, y).prove(assumptions=[InSet(x, Difference(A, Set(y)))])"
   ]
  },
  {
   "cell_type": "code",
   "execution_count": 8,
   "metadata": {},
   "outputs": [
    {
     "data": {
      "text/html": [
       "<span style=\"font-size:20px;\"> <a class=\"ProveItLink\" href=\"../__pv_it/demonstrations/44e9057371123c2a3aab7e5720b1af0b545bed4b0/proof.ipynb\" style=\"text-decoration: none\">&nbsp;&#x22A2;&nbsp;&nbsp;</a><a class=\"ProveItLink\" href=\"../__pv_it/theorems/06b4d2a5405f1f22bbb66830faa9613029c52c2c0/expr.ipynb\"><img src=\"data:image/png;base64,iVBORw0KGgoAAAANSUhEUgAAAUkAAAAVCAMAAAD8b+yiAAAAP1BMVEX///9jY2MJCQkdHR0NDQ0W\n",
       "FhbMzMxUVFRERES6uroiIiIQEBCYmJhmZmYyMjLu7u52dnaqqqqIiIjc3NwAAACGmE1UAAAAAXRS\n",
       "TlMAQObYZgAAAAlwSFlzAAAOxAAADsQBlSsOGwAAA2dJREFUWMOtWNkCoyAMdC9OATn+/1sXK1Qi\n",
       "R2BdHpraYmYGQgJsW2x+GzU/fFxrftXJ3Av+H/75D4oqcs4O+2tTPoHOXi9icwct1jLaEsWS2gQQ\n",
       "4ntBjT2G3Qktn2BnHVC0nYVAY9OMfGjvif4+QzWjLVGE1FAgxPeCGoPEleLFA+xsQ5hAl+xjaCBl\n",
       "+DTCqGoZbYnik1oBRL9fiWsreqVGIZMmAGfQWdGA5xgfLtY8qM+sqjS7Cmed0ZYoPqkVQPt3/K6Q\n",
       "mvG9oEaOUggTf36LYtZA58MfgeALIvXZEweZplHiQSlbqBjFiloBJOr8jviOTU+qsf3o5tqZjZZj\n",
       "BTp7t7mAZ2ualpmWV5DoFAQaDYaMtkSxplYAHek3ZZuKGr4X1KiUcI1z1JDjsEX1M880osrsrM5s\n",
       "tE8mFkNF0ntQaAeL+4B2imJNrQDKsSgqjI7vFTV5UCO4o25TN4j2ILU844hHUBLQwkcCc5Hl/eau\n",
       "oT2xRdFohbZEsaZWAKXwda7C6PheUSOuWdj9ufbjSrnHStclVlgw7zH/ooHlrsxvZXZsJbSDQmKB\n",
       "naNYUyuBrv2SME+Mnu8VNfLaQZxzpcDLRMYA+fUzfrA7tnmRjZWKBZIVW5YisO7MxRLUtwKQAO0g\n",
       "L3Bg5yjW1ADQGWlWVRgd359W+h6pKQZHgmViWJGiq5E0V98gsOHIoZGL3cYltNMjOUexpgaAzn14\n",
       "uW7HvpfU3AuWn5Fr4JZBtNfbtYDOHySaJvdc9BJnK6Dt58nH6p6jWFOzAu49CWsqavleUsPcNQN8\n",
       "oyd0UUFiXuaP7TPL08b3yeNiSiyRg/4euKDtt4y2RLGmBoHcTnmF0fG9puYq4zYQo+RV9e6cYp87\n",
       "tVzzfZ5vhh1ytEzB/60Lz71Nv8H90iTFmhoEMnCnPfS9poZ8wtOoOAVW7eBlQ39yWBdT53iM/7iy\n",
       "55fRgNDvgf92LDi0g8wgAOoMxRa1B5CyDUVt3wzKx9SI/oFv/3EweFwS+OkQO7gKaIfbIIKi1hR7\n",
       "gAhG85SD+YZqBlcJ9U5t5t7h/9xKTN524FdKCNA7RVAN66U636gJzL8MSdb33UdborjY442ihxrT\n",
       "wzoa1xOGvRtJdGyaaEsUFwfqjaKnGt+5oW+eBL17M5DOQ4tOuvsHii3ACYyXav4CqM88jLfcgYgA\n",
       "AAAASUVORK5CYII=\n",
       "\" style=\"display:inline;vertical-align:middle;\" /></a></span>"
      ],
      "text/plain": [
       "|- (x not-in (A - B)) = ((x not-in A) or (x in B))"
      ]
     },
     "execution_count": 8,
     "metadata": {},
     "output_type": "execute_result"
    }
   ],
   "source": [
    "NotInSet(x, Difference(A, B)).definition()"
   ]
  },
  {
   "cell_type": "code",
   "execution_count": 9,
   "metadata": {},
   "outputs": [
    {
     "data": {
      "text/html": [
       "<span style=\"font-size:20px;\"><a class=\"ProveItLink\" href=\"../__pv_it/theorems/7f5898a5f5b1e60924e57a01bca6fa590a50f3560/expr.ipynb\"><img src=\"data:image/png;base64,iVBORw0KGgoAAAANSUhEUgAAAJ4AAAAVCAMAAACALKdSAAAARVBMVEX///8/Pz9vb28YGBgJCQkd\n",
       "HR0NDQ0WFhbMzMxUVFRERES6uroiIiIQEBCYmJhmZmYyMjLu7u52dnaqqqqIiIjc3NwAAACb3p1w\n",
       "AAAAAXRSTlMAQObYZgAAAAlwSFlzAAAOxAAADsQBlSsOGwAAAktJREFUSMedlteWGyEMQGeTTZYu\n",
       "+v9/amDo4IHYerGPDVdd4rqCuGsn7oN/3juzv2jN9pxU61V5f1B7VHJgb6TAjd4eQ/iFxT4rFwcd\n",
       "B/YogniPg0iCGlzJ/SWgq1Lvl8ji+g21mJ7Ys3CSWB5VOBwiwF5YjH2uDAHV9WpU8j0dFO+Vm08Q\n",
       "6qHC+aZwCGM/f5cIaKd9MYGr2Q3XnT+wGRvZImNFNjPAzWP8qbRBN0aLj/ayvlS8rPHR+SdozXBi\n",
       "z4JzzUjuChxy8SprsUJam9ad6nX1QCy+YpXGUzf3xXBgP5SewgxVeHE/KLXYXlDp0o0lVR0PSpAv\n",
       "HSma+SnOtrtwYC8zwhMbHGkJCXCWXBIuplxduP4nH4Ye3DVcgmb4NIFYd+HAXsoxNZzhosF5mhvR\n",
       "c+hvIR5L9883Y2QqaYDQuaR63AUr0A30ydqyowxskl2tjRfgvI013idSkb7e28/pjC95onycwUPa\n",
       "9uxFSkpK40Y4qwbQGFs1Dgr2KrXx92KVYcOIRIPiPXstPVEamFY4sckfeuGosi2hWOMU5r4Q41YL\n",
       "i6hPvMDDitmyn0ovmCkbPE0G45ECntqylpJZhp4rQSNlbUC/VNU0ZrfsdZHznNHajgGO7kArCA4Z\n",
       "EP0thcnvoW9VWNn3VRO/JLvYEC4YtW7ZdJwJuL4H2rkIZ+hx8fz6IsvimcLJ9vv6mU31iZ3gAt55\n",
       "6c2dst/5G/Z/SIKTpwetI8cnxukEcZ9bl+HqSYc+vnSP2hX53LwCdw9vcnx8qZ9j4+yn1t3wf7Xe\n",
       "I6inlDbIAAAAAElFTkSuQmCC\n",
       "\" style=\"display:inline;vertical-align:middle;\" /></a> <a class=\"ProveItLink\" href=\"../__pv_it/demonstrations/924f7e9ab29b6390fc1db2d1a59bbaa5112077a70/proof.ipynb\" style=\"text-decoration: none\">&nbsp;&#x22A2;&nbsp;&nbsp;</a><a class=\"ProveItLink\" href=\"../__pv_it/theorems/7cff88a72d74b46848d0810692c8c2e6f96cf5830/expr.ipynb\"><img src=\"data:image/png;base64,iVBORw0KGgoAAAANSUhEUgAAAG0AAAAVCAMAAAB7V5DIAAAAP1BMVEX///9jY2MJCQkdHR0NDQ0W\n",
       "FhZERES6uroQEBAyMjLc3NyYmJgiIiJmZmaqqqp2dnbMzMxUVFSIiIju7u4AAAANhLF7AAAAAXRS\n",
       "TlMAQObYZgAAAAlwSFlzAAAOxAAADsQBlSsOGwAAAbtJREFUSMelVdm2gyAM5G6sYQv8/7feoFhA\n",
       "q9hjHtpSyTKTSWTswvTl8TObO6vUn9D1zurDbAInF0LsT84PheRpfMNzjmSKh6VYc33diu6QBjAu\n",
       "5xt4JF++Yg5Hpg4GQ+qhNBvzvBE6r+yJbBes9vQmcvj7hQ6P7J967dd6r6msd0zNKk/ACYWJxT6e\n",
       "64nUyDC7abZY2VZy5UEVehJiTMF71wku7Rtle43Y0jhzs20pQi3bx9UXIzLb2qRKLWaQrOqCC6or\n",
       "ZD9LFjJHAtI8DdVvdGGWiGvx1FFC4AZopIA4y4arkJzcAjvqfYFpB9aCBICfb/rgjRXRCcha0iTv\n",
       "hgOatWbzKqyXoELtoxxYSyWQH1XQsqX1boYZtg39JkkmZB0IwpzSMGi7YI3JOjUgp20zmzRrpQ4I\n",
       "iGCxeHZdR2RiN4p8Qy/MzdVV20ZZ1WuVkZRDsnIVWpOJi7vh9ZUWvUHis2WiKm/yJTeaomQJibNm\n",
       "aFOK32Ic/ABrR3NenF35cTUD8bWSW2AQZ0vny3MSWCdVCOyhabj3Zpvs1Jtmz7aP5sf/uH4IjZ89\n",
       "8W9WbuLPsp1X+3YraXySDEuyf1KYFDzCMLntAAAAAElFTkSuQmCC\n",
       "\" style=\"display:inline;vertical-align:middle;\" /></a></span>"
      ],
      "text/plain": [
       "{(x not-in A) or (x in B)} |- x not-in (A - B)"
      ]
     },
     "execution_count": 9,
     "metadata": {},
     "output_type": "execute_result"
    }
   ],
   "source": [
    "NotInSet(x, Difference(A, B)).prove(assumptions=[Or(NotInSet(x, A), InSet(x, B))])"
   ]
  },
  {
   "cell_type": "code",
   "execution_count": 10,
   "metadata": {},
   "outputs": [
    {
     "data": {
      "text/html": [
       "<span style=\"font-size:20px;\"><a class=\"ProveItLink\" href=\"../__pv_it/theorems/7cff88a72d74b46848d0810692c8c2e6f96cf5830/expr.ipynb\"><img src=\"data:image/png;base64,iVBORw0KGgoAAAANSUhEUgAAAG0AAAAVCAMAAAB7V5DIAAAAP1BMVEX///9jY2MJCQkdHR0NDQ0W\n",
       "FhZERES6uroQEBAyMjLc3NyYmJgiIiJmZmaqqqp2dnbMzMxUVFSIiIju7u4AAAANhLF7AAAAAXRS\n",
       "TlMAQObYZgAAAAlwSFlzAAAOxAAADsQBlSsOGwAAAbtJREFUSMelVdm2gyAM5G6sYQv8/7feoFhA\n",
       "q9hjHtpSyTKTSWTswvTl8TObO6vUn9D1zurDbAInF0LsT84PheRpfMNzjmSKh6VYc33diu6QBjAu\n",
       "5xt4JF++Yg5Hpg4GQ+qhNBvzvBE6r+yJbBes9vQmcvj7hQ6P7J967dd6r6msd0zNKk/ACYWJxT6e\n",
       "64nUyDC7abZY2VZy5UEVehJiTMF71wku7Rtle43Y0jhzs20pQi3bx9UXIzLb2qRKLWaQrOqCC6or\n",
       "ZD9LFjJHAtI8DdVvdGGWiGvx1FFC4AZopIA4y4arkJzcAjvqfYFpB9aCBICfb/rgjRXRCcha0iTv\n",
       "hgOatWbzKqyXoELtoxxYSyWQH1XQsqX1boYZtg39JkkmZB0IwpzSMGi7YI3JOjUgp20zmzRrpQ4I\n",
       "iGCxeHZdR2RiN4p8Qy/MzdVV20ZZ1WuVkZRDsnIVWpOJi7vh9ZUWvUHis2WiKm/yJTeaomQJibNm\n",
       "aFOK32Ic/ABrR3NenF35cTUD8bWSW2AQZ0vny3MSWCdVCOyhabj3Zpvs1Jtmz7aP5sf/uH4IjZ89\n",
       "8W9WbuLPsp1X+3YraXySDEuyf1KYFDzCMLntAAAAAElFTkSuQmCC\n",
       "\" style=\"display:inline;vertical-align:middle;\" /></a> <a class=\"ProveItLink\" href=\"../__pv_it/demonstrations/7bc1412e0a0cca662ce3f6385a1040ffb51d734f0/proof.ipynb\" style=\"text-decoration: none\">&nbsp;&#x22A2;&nbsp;&nbsp;</a><a class=\"ProveItLink\" href=\"../__pv_it/theorems/7f5898a5f5b1e60924e57a01bca6fa590a50f3560/expr.ipynb\"><img src=\"data:image/png;base64,iVBORw0KGgoAAAANSUhEUgAAAJ4AAAAVCAMAAACALKdSAAAARVBMVEX///8/Pz9vb28YGBgJCQkd\n",
       "HR0NDQ0WFhbMzMxUVFRERES6uroiIiIQEBCYmJhmZmYyMjLu7u52dnaqqqqIiIjc3NwAAACb3p1w\n",
       "AAAAAXRSTlMAQObYZgAAAAlwSFlzAAAOxAAADsQBlSsOGwAAAktJREFUSMedlteWGyEMQGeTTZYu\n",
       "+v9/amDo4IHYerGPDVdd4rqCuGsn7oN/3juzv2jN9pxU61V5f1B7VHJgb6TAjd4eQ/iFxT4rFwcd\n",
       "B/YogniPg0iCGlzJ/SWgq1Lvl8ji+g21mJ7Ys3CSWB5VOBwiwF5YjH2uDAHV9WpU8j0dFO+Vm08Q\n",
       "6qHC+aZwCGM/f5cIaKd9MYGr2Q3XnT+wGRvZImNFNjPAzWP8qbRBN0aLj/ayvlS8rPHR+SdozXBi\n",
       "z4JzzUjuChxy8SprsUJam9ad6nX1QCy+YpXGUzf3xXBgP5SewgxVeHE/KLXYXlDp0o0lVR0PSpAv\n",
       "HSma+SnOtrtwYC8zwhMbHGkJCXCWXBIuplxduP4nH4Ye3DVcgmb4NIFYd+HAXsoxNZzhosF5mhvR\n",
       "c+hvIR5L9883Y2QqaYDQuaR63AUr0A30ydqyowxskl2tjRfgvI013idSkb7e28/pjC95onycwUPa\n",
       "9uxFSkpK40Y4qwbQGFs1Dgr2KrXx92KVYcOIRIPiPXstPVEamFY4sckfeuGosi2hWOMU5r4Q41YL\n",
       "i6hPvMDDitmyn0ovmCkbPE0G45ECntqylpJZhp4rQSNlbUC/VNU0ZrfsdZHznNHajgGO7kArCA4Z\n",
       "EP0thcnvoW9VWNn3VRO/JLvYEC4YtW7ZdJwJuL4H2rkIZ+hx8fz6IsvimcLJ9vv6mU31iZ3gAt55\n",
       "6c2dst/5G/Z/SIKTpwetI8cnxukEcZ9bl+HqSYc+vnSP2hX53LwCdw9vcnx8qZ9j4+yn1t3wf7Xe\n",
       "I6inlDbIAAAAAElFTkSuQmCC\n",
       "\" style=\"display:inline;vertical-align:middle;\" /></a></span>"
      ],
      "text/plain": [
       "{x not-in (A - B)} |- (x not-in A) or (x in B)"
      ]
     },
     "execution_count": 10,
     "metadata": {},
     "output_type": "execute_result"
    }
   ],
   "source": [
    "Or(NotInSet(x, A), InSet(x, B)).prove(assumptions=[NotInSet(x, Difference(A, B))])"
   ]
  },
  {
   "cell_type": "markdown",
   "metadata": {},
   "source": [
    "## Miscellaneous Testing\n",
    "<font size=3>The material below was developed to test various intersection-related methods. Some of this material could be integrated into the `_demonstrations_` page eventually and/or deleted as development continues.</font>"
   ]
  },
  {
   "cell_type": "markdown",
   "metadata": {},
   "source": [
    "### Some Example `Sets` For Testing"
   ]
  },
  {
   "cell_type": "code",
   "execution_count": 11,
   "metadata": {},
   "outputs": [
    {
     "data": {
      "text/html": [
       "<strong id=\"set_123\">set_123:</strong> <a class=\"ProveItLink\" href=\"../__pv_it/demonstrations/b525e1a908ac39fd855a42ae46345dbfae68e6350/expr.ipynb\"><img src=\"data:image/png;base64,iVBORw0KGgoAAAANSUhEUgAAAEMAAAAVBAMAAADvM06qAAAAMFBMVEX///9ERETMzMxUVFSYmJgQ\n",
       "EBDc3NxmZmYiIiJ2dnaqqqoyMjKIiIi6urru7u4AAAB85a56AAAAAXRSTlMAQObYZgAAAAlwSFlz\n",
       "AAAOxAAADsQBlSsOGwAAATBJREFUKM9jYGDgu8uAC7Atg9Cn7+FUwqAsByK5/gEJpj6YvvKNChBW\n",
       "5nRZICkMYnI2MDA8rv4HVZLIwPkXzOArYFi/gIFhBkwJAw9MiRkDQyiYwfOL4f0GrEriHzDYJ4AY\n",
       "vLEM/NiVWDAw2EMdw7DeAasSIOiH0rwtDFAl7BtQlTD9gdKHjYDkURAz1QFVCYcBjAXyUT4QJ+9l\n",
       "QFVSCGexAgX5rBcwMBU+QFHCAjWESYGB8RfQpSATGA1QlKxkYAN7mv8fWMn6B8g+4gNrnsDA8wDE\n",
       "YjUAWzQV7mnObwzgwGTIKC+vALNYHFDDhdn0twkDBygq+////w1hXS+XZUAOOjBYx4DJQlMygQGT\n",
       "BVbCEwDl8R1gwGAxVIMT0S8ojwcujmDxhYCpdCvcaXcyMPwBuxlX82KGivkAAAAASUVORK5CYII=\n",
       "\" style=\"display:inline;vertical-align:middle;\" /></a><br>\n",
       "<strong id=\"set_12345\">set_12345:</strong> <a class=\"ProveItLink\" href=\"../__pv_it/demonstrations/12dc3bbdd186bc7f3c4f78b4ed0f0166715fdfe40/expr.ipynb\"><img src=\"data:image/png;base64,iVBORw0KGgoAAAANSUhEUgAAAGsAAAAVBAMAAACzuQ2OAAAAMFBMVEX///9ERETMzMxUVFSYmJgQ\n",
       "EBDc3NxmZmYiIiJ2dnaqqqoyMjKIiIi6urru7u4AAAB85a56AAAAAXRSTlMAQObYZgAAAAlwSFlz\n",
       "AAAOxAAADsQBlSsOGwAAAbtJREFUOMuVlM1LAkEYh39+pK5sS9DdpIIuHSQt+gI99AcE1Vmjwg6B\n",
       "SQcDIYQIOuVCBHWJPQVdyugYQRcP0SEhgi7FQocuQR9URJY2MzuzuiGac5h5dtxn5/V9310Ayi2a\n",
       "Ga49Y724+7fihxJDl4+it0Qm+4Z4VurIz2knWRC39/A1erKuA+0UpQxwny7xH6Yh/Rj0AO+X0Fb5\n",
       "uva5S+ZtoUEW2gAwZdClphT5piy0AJtraFEd4Rij6wKE1n3cSBsEwvzPwfvGQW2okZEVcBPhMcaE\n",
       "FjrvE5o7Z9Xs3xx6g/zYWQjNhwTJbp7iXMSqeQKCRCZVUwNsJLaEBsycwqolK+GS/JDhjFVp7g/S\n",
       "ViMa7EndojnFYZ1Ah0ZhAUKz5eB+JdmgJ9kCFm0fLqMAZZ1rV8Hg+xDbasnA8Qwc6tWZVFhCVMg6\n",
       "owkapGI8izC7lZhtwJZZAImE/ERTOp9KLRs0RuvGCHgB6xjXIvJ6Vd0c/cUQPLSds+Vy0aDWFGll\n",
       "RkiWR0F7GPGlFUu52ThAHfLq5t4fTUUdkmDV5HF+pZyhDj1WtDR7HcVbJZv7tcj0oUyyJT7c3Ldk\n",
       "k1TzF7kehGaj+EznAAAAAElFTkSuQmCC\n",
       "\" style=\"display:inline;vertical-align:middle;\" /></a><br>\n",
       "<strong id=\"set_1234567\">set_1234567:</strong> <a class=\"ProveItLink\" href=\"../__pv_it/demonstrations/8184586d12c4f1c673080ccd41f7c4b8fabdb56c0/expr.ipynb\"><img src=\"data:image/png;base64,iVBORw0KGgoAAAANSUhEUgAAAJIAAAAVBAMAAABf4KrdAAAAMFBMVEX///9ERETMzMxUVFSYmJgQ\n",
       "EBDc3NxmZmYiIiJ2dnaqqqoyMjKIiIi6urru7u4AAAB85a56AAAAAXRSTlMAQObYZgAAAAlwSFlz\n",
       "AAAOxAAADsQBlSsOGwAAAkdJREFUOMullD9oE1Ecx7+5Jne5NJ5ZXWxwcnA4G1ERJBmkS5dAcTUp\n",
       "WuKfwQaHc1FuKTjZcwyK3upiY+vkH8yiKA7NIrioB1JchBQVEaue7/3ee/dyIQShD3Lvy8v3Pne/\n",
       "fwfAeY/drotN2t58+O87ynCaI0fnInYxDvNr4S8/OBiJP0zvYVmqTruv7May2BtPbkgfOh3hW4vj\n",
       "uI6My6TtswCPPZeORdh/hPqMwi9FyrtiX/l5V55c6k/5JG553tWQIOKCTUk6CpwWajN0dhTplSS5\n",
       "SVBPkSmRCIAWxpEaEaoiFW/7UCRjfpQkUsJXSKdjSMeBalnZv0thT4+SMnWdc7s8lsTWqhLvalK8\n",
       "VKQjr2eFyK3fuaZsiwpiddMk47cUhyqqijVF2o/Lop57HyEXSt9J9ivyd1yqpUl5nQxZOxvTOixR\n",
       "scE2rDPyORxiMuvZZ0iT2joDDXE4N0SyfgiSj6zsFpti+vQYRjtKkbLqpgPADAVg9hQp04X1VUTX\n",
       "RVbWI0/dcJtFTe2pSfdhii6II0naU6lUFwLKs4+pbRWkeqeBq7pC144mKEAxcvjJAo/OkaVy4VDC\n",
       "kCuRrcDyVCeFj3yS7HpCutcEtfR51vwY8NBP8X4ixYIpkTKX8SISnb8PW3IG1gIM91OlsVEDn87V\n",
       "ON5B/iYPymMTTArWzLceqdaV6yAbbG9WqqUwRRJVT+r3ABOUtmk1QrKTu4JJStuGlK/ak9YXJZze\n",
       "JJXYhhQNipl8hRJvEZNUb4zaokFpndj1d/wCQ/wDuEO3Mp7i0w4AAAAASUVORK5CYII=\n",
       "\" style=\"display:inline;vertical-align:middle;\" /></a><br>"
      ],
      "text/plain": [
       "set_123: {1, 2, 3}\n",
       "set_12345: {1, 2, 3, 4, 5}\n",
       "set_1234567: {1, 2, 3, 4, 5, 6, 7}"
      ]
     },
     "execution_count": 11,
     "metadata": {},
     "output_type": "execute_result"
    }
   ],
   "source": [
    "# define some enumerated Sets for use in testing, containing numeric literals\n",
    "set_123, set_12345, set_1234567 = (\n",
    "        Set(one, two , three),\n",
    "        Set(one, two , three, four, five),\n",
    "        Set(one, two , three, four, five, six, seven))"
   ]
  },
  {
   "cell_type": "code",
   "execution_count": 12,
   "metadata": {},
   "outputs": [
    {
     "data": {
      "text/html": [
       "<strong id=\"set_abc\">set_abc:</strong> <a class=\"ProveItLink\" href=\"../__pv_it/demonstrations/24cc6dec3949f6988f6c60d9934a7935e093b7fe0/expr.ipynb\"><img src=\"data:image/png;base64,iVBORw0KGgoAAAANSUhEUgAAAEEAAAAVBAMAAADrxp6XAAAAMFBMVEX///9ERETMzMxUVFSYmJgQ\n",
       "EBDc3NxmZmYiIiJ2dnaqqqoyMjKIiIi6urru7u4AAAB85a56AAAAAXRSTlMAQObYZgAAAAlwSFlz\n",
       "AAAOxAAADsQBlSsOGwAAASZJREFUKM9jYGDgu8uAA7Atg9Cn7+FSwaAsByK5/iGLPYxAUSIMIjgb\n",
       "UMS2o/BmYFHxi5AK3n+EVKCZiFCRPCcHIsRtc3gBVO0ZJ6gK9g1As8MY5B+Axd/v4/sGCYsuhkIG\n",
       "hqMgZqoDA8NTB4YKiM71DxhiwAyOCSBGPtDA5L1Abj0DQydERTUDw08wox5sJp/1AgamQiAzkIHv\n",
       "L0RFJwMvxL+BEMeA9DMaMPD9YWD5AAsOdrB/gUJQS8F+4fvFwLxhGQOI9wnkJhDjC9D9DAxTYb6V\n",
       "YVhRUMD3G8gzYRBnADOAHpmEFB6PT6rZKDB0APU+ng70GojBOcXnAUaYcj1AZ6Cr4MRgQFTwBMC4\n",
       "bzAYoOABBi88vg9gMPhCwFS6Fc50OhkY6ADYKFVebW/9jQAAAABJRU5ErkJggg==\n",
       "\" style=\"display:inline;vertical-align:middle;\" /></a><br>\n",
       "<strong id=\"set_abcde\">set_abcde:</strong> <a class=\"ProveItLink\" href=\"../__pv_it/demonstrations/79184629a2e14906fcd14d7156a50559efda0ab70/expr.ipynb\"><img src=\"data:image/png;base64,iVBORw0KGgoAAAANSUhEUgAAAGkAAAAVBAMAAAC3TN2zAAAAMFBMVEX///9ERETMzMxUVFSYmJgQ\n",
       "EBDc3NxmZmYiIiJ2dnaqqqoyMjKIiIi6urru7u4AAAB85a56AAAAAXRSTlMAQObYZgAAAAlwSFlz\n",
       "AAAOxAAADsQBlSsOGwAAAY5JREFUOMtjYGDgu8tAAmBbBqFP3yNFF4OyHIjk+ocsxifagKmQaWsB\n",
       "Ek8YRHCiKuMuwGI+/wIkzgwsulAUwMD9BwR0oShAUYhP1wxsIbAduy42y2MHIGKbz1hBZeccUYCE\n",
       "teWhX9CgmnP8AVQX+wYgcTWBERKUfL8fvE8AszIWsAuAGXA5hhsKTBMYGI6CmKkOQLUhDOwQhwLj\n",
       "gRViayeUAZLbALH0CwPPBQaGfGB4Je8F2feBgWMCA9RmfjCLHRaNCDnGP2fmgoyxXsDAVAh0KqsA\n",
       "w/sLYBmggvvgsGcVgOpCyPEbgClOkD2MQPb7Awz+8OiqB4f9e2joIMtBhNY/gIbh+wUM1lwJfCAZ\n",
       "BaA/wAygdy+AGAg5kEOB7pgKC3nGA1zt7AzvgZ5mdmAsADOAAcipAGIg5Fg2MDxPQIovPptJyYcY\n",
       "OPqALMsSBjCDYabLOYgIXI7hpMsBLGljHW4GEgtd1wTcDCQWWBdPADxvHcDJQGIxVINj/BeMy4Ob\n",
       "gcQChjEIpFuRVG5MBgY+AJsYfaNN5DH7AAAAAElFTkSuQmCC\n",
       "\" style=\"display:inline;vertical-align:middle;\" /></a><br>"
      ],
      "text/plain": [
       "set_abc: {a, b, c}\n",
       "set_abcde: {a, b, c, d, e}"
      ]
     },
     "execution_count": 12,
     "metadata": {},
     "output_type": "execute_result"
    }
   ],
   "source": [
    "# define some enumerated Sets for use in testing, containing variables\n",
    "set_abc, set_abcde = (\n",
    "        Set(a, b, c),\n",
    "        Set(a, b, c, d, e))"
   ]
  },
  {
   "cell_type": "markdown",
   "metadata": {},
   "source": [
    "### Testing the `DifferenceMembership` class methods\n",
    "<br/>\n",
    "The `DifferenceMembership` class currently has the following class methods:<br/>\n",
    "    <div style=\"width: 75%; border: 1px solid green; padding: 5px; margin: 20px; background-color: gainsboro; font-family:courier\">conclude(self, **defaults_config)<br/>\n",
    "    conclude_as_folded(self, **defaults_config)<br/>\n",
    "    definition(self, **defaults_config)<br/>\n",
    "    unfold(self, **defaults_config)</div>\n",
    "</font>"
   ]
  },
  {
   "cell_type": "markdown",
   "metadata": {},
   "source": [
    "A few `DifferenceMembership` objects for convenience:"
   ]
  },
  {
   "cell_type": "code",
   "execution_count": 13,
   "metadata": {},
   "outputs": [
    {
     "data": {
      "text/html": [
       "<a class=\"ProveItLink\" href=\"../__pv_it/demonstrations/a317ab80cd44dfafd4d70afb1e9c805a43afb23e0/expr.ipynb\"><img src=\"data:image/png;base64,iVBORw0KGgoAAAANSUhEUgAAAPsAAAAVBAMAAAByEoVnAAAAMFBMVEX///+YmJhERESIiIhUVFTc\n",
       "3NwiIiJ2dnbu7u66urqqqqpmZmYQEBAyMjLMzMwAAAA7oY0NAAAAAXRSTlMAQObYZgAAAAlwSFlz\n",
       "AAAOxAAADsQBlSsOGwAAAz9JREFUSMeVVktoE1EUvU06nZdPkxaXBQ0ooig4WqXFT4l2USgUAoYK\n",
       "KthVLAoSiVRELYN2pzIBwQ8ozabizrQLd9Ja0Y2bLETa6iIL3Sm2FLEGKt73mZn35pOSBxPO3HM/\n",
       "7913750ABC0NH/IUWljajF/WxMPZHP7kwtij+Jx40kp4+LbHJ2riIXXKBHgo8NeqSsaL+GzIkjsf\n",
       "Anz8/Ci/7fLSqgeyf0x+jWQBol0cpyuq4QN8dEUbvgSdoSG/THhZj4fOqo9c4njaVA1n/caNgOix\n",
       "jVbCq2dkZI9ieahQqDGw4DNWIwX63yq8ekZGJk0ps8/77Uur+Yw9roLSuVX4CT/ZiZevDQ2wzGpL\n",
       "NpUo2ny+dFpEGjwscqf3bucgX/olRKR0zAwL73iAT73DApUO1jmpY/09y0VYZjudNqSbggSmIPYe\n",
       "DvD8WEvkN+/vSzDHr8Ph4FE9hRs+7g2veiCbpsUjjFYSGYjSC26rAXnL9DCoY9dBT3Ue93C/C15z\n",
       "0SsT3nGuKAByb8TEWYNoGeCCp308HrANkwZDFynQaMbjC5BYpS5x/SjgylCURGf5ZQTzVJctjPSH\n",
       "gXm7gFwust57gx5vBOOTz9RLoQ4+D3jGNIuT4FU8tYIDZxWSGbDKbLI426bhU3MYZxHIXxA7jvHW\n",
       "W7SVXC6d5Ve97Blsqgc84zTLT5IdEW5jkNgCWAbs4LyafBxLZB3aVu2255tGkSg3l0sb9v2oS/WA\n",
       "bc8zZxnOSIyPgVWBkTitiajh2Bm8bkkD2mszQI3+0VukYA33TIHE0bvDDd8KqHxJK13HKiMUYEmU\n",
       "QWell8FY8csJpr7i2GVF2+yEF9Uq2cS3k7APGMCyn2TA5bB+7+VCGs/Vau+KVMHCIsey10XjYYeT\n",
       "wcn8AC+GvSJ9qTFhPNX3fbAOBRRP3cQ9U6Bf3WZyicNBX7cRNnZcLTKEo7xjHOXXu/vFUOgoy/qP\n",
       "d4uhe0WZWXEzFEio2dRztV4q5Gjw17hHMdbDgYSahXe1igo5Gxw+glfJxhJbd8OBhOwh5K4AD8SQ\n",
       "R6KWCQ5PUK45n1gjHEgI69r7/8vvIeqQ2EjslIGLfibODbf0X+9axSdr4uEMpY4A/AcllPE1eXdq\n",
       "wQAAAABJRU5ErkJggg==\n",
       "\" style=\"display:inline;vertical-align:middle;\" /></a>"
      ],
      "text/plain": [
       "d in ({a, b, c, d, e} - {a, b, c})"
      ]
     },
     "execution_count": 13,
     "metadata": {},
     "output_type": "execute_result"
    }
   ],
   "source": [
    "# a DifferenceMembership object that is clearly True\n",
    "diff_mem_01 = Difference(set_abcde, set_abc).membership_object(d)\n",
    "diff_mem_01.expr"
   ]
  },
  {
   "cell_type": "code",
   "execution_count": 14,
   "metadata": {},
   "outputs": [
    {
     "data": {
      "text/html": [
       "<a class=\"ProveItLink\" href=\"../__pv_it/demonstrations/2df236663a8b5f5c3c7c599dc1e17967952a9def0/expr.ipynb\"><img src=\"data:image/png;base64,iVBORw0KGgoAAAANSUhEUgAAAP4AAAAVBAMAAACUO04jAAAAMFBMVEX///+qqqqYmJiIiIgiIiLu\n",
       "7u4QEBBUVFS6urp2dnbMzMxEREQyMjJmZmbc3NwAAADzFso2AAAAAXRSTlMAQObYZgAAAAlwSFlz\n",
       "AAAOxAAADsQBlSsOGwAAA2xJREFUSMeVlk1oE0EUx1+brOmmyZKDCl409OJBhSi0IArmEK0UpAHB\n",
       "ClZaCuoxbRWDWm0OWhU85KAWQWhRURSKOVgqHjQVpAUFiyhF0sBqRZFSWz8qosX45u3M7s7upjYD\n",
       "u/uY/c/7zZt583YBPJqGl3IBKmnaWo/O/Zmy+nc653i1zXhtP7ds9iAoOtwZdvX7xpNlxwRP4bua\n",
       "GM6h+HzQ8a4qi9cCE+0U0Zki7VrBDGqIP1MvEuhsxMVYx/C3xBxmpx7ZXdR2orkFYAbUX45xrXip\n",
       "cYCWqQXeY4kOQtVXoWvkz10/ruD9souPPcrpl5yv5WAgY3PBABBKwhmAw45xrzgffIJviXZElEWx\n",
       "vILfKWhuPg7g/IAOK9ptLghQPQGpJPTq1L8tkciT0e7iW6K+DAj+jbFK+CsWIPDX5oIAcAiOAfTS\n",
       "3l6qF9ufd/FNEXv9jRvZiviBOAR+21wY/Kfs1kz780wMC2ddfCFi7WyUL78u+N1bT/6fj80/b3Nh\n",
       "8PtZln9nVkgXshADhPMy3xBhu5nmC/EeBH8Y5jCzGlz8KQf/fszmwkfJsJFNi9YvZE0zgrePUZlv\n",
       "iGjxeP5nTT4eJgxmLuIsSR0OfqPdhUZuVuNVoL7bCWw5yhQM5tM4yPyC5TdFHqt1Gz+MmaX0sAm0\n",
       "MjeJJobvycj8cE5y0TLKlgQdGZEdMF8yfrCQlPjVIvx7AE8o0GkQ/No8hDGz1HFH/EPDMn+97OI6\n",
       "m14fwBrQ2Nb75fWn8mTxuQiglOT88+n0zxPGfDGz53m1k9qIxMeq+sXmggosrIRgFnwUa8zczJg9\n",
       "/xXKPiYi6whbPMUQos1GqjgFXNqr5fOfpnAXoJ4scgEq5d8G+FAsvib1qBimdgq+itvaxg4Ciciq\n",
       "Y4e3zahTf4BqoTYBDcmy529A56o9xWKcrDrb+X8LzaWSUdBaHvKVCsY5P3B8sRv87BtEIrJqivjx\n",
       "IAsKpaPAPjwwO/mm7PlPp8aipPKXSqU8WeSC83fb5Bcf8PrbJOKntgqWsKqScrTu+GWVZRFAi3t9\n",
       "mzdJ/CwsYamwHL6lslkMEI568Wt1UZ7Yf5CZl17WXke1k1qDW2VZVGBnPP9NlJwoT+wMWL8zHlbM\n",
       "GtTh8mNWxJiHfh8L/bH3z9E0S6quyv7/+iPuvslIWf3nLvqEwT9WKAnvm4tUaQAAAABJRU5ErkJg\n",
       "gg==\n",
       "\" style=\"display:inline;vertical-align:middle;\" /></a>"
      ],
      "text/plain": [
       "2 in ({1, 2, 3, 4, 5} - {1, 2, 3})"
      ]
     },
     "execution_count": 14,
     "metadata": {},
     "output_type": "execute_result"
    }
   ],
   "source": [
    "# a DifferenceMembership object that is clearly False\n",
    "diff_mem_02 = Difference(set_12345, set_123).membership_object(two)\n",
    "diff_mem_02.expr"
   ]
  },
  {
   "cell_type": "code",
   "execution_count": 15,
   "metadata": {},
   "outputs": [
    {
     "data": {
      "text/html": [
       "<a class=\"ProveItLink\" href=\"../__pv_it/demonstrations/8d310dbf7c39f4aa7b2bba4e0407c934eb318fb90/expr.ipynb\"><img src=\"data:image/png;base64,iVBORw0KGgoAAAANSUhEUgAAAP4AAAAVBAMAAACUO04jAAAAMFBMVEX///9UVFQyMjK6urru7u4Q\n",
       "EBBERERmZmaqqqoiIiLc3NzMzMyYmJiIiIh2dnYAAABC1PP/AAAAAXRSTlMAQObYZgAAAAlwSFlz\n",
       "AAAOxAAADsQBlSsOGwAAA39JREFUSMeVll9IU1Ecx39zm3N33umC0v6ACyMUgkYl0UtMooIgnGhB\n",
       "EGjZi0ZoPjh6qRH20IsuCmoQuh7S7MH2EiFR3nzoIQxWWFAIzl6ih7TWHqQ/rN8553fPdnfvnDtw\n",
       "tx/n9z2/z7nn/M7vXACLFsfnSADKaY/i5j7H/hJ6xdqnRvBpDG4U7QE4AZ4tZv37A+sMYnp70tI3\n",
       "gs8oC+e5Qz2TgxfJmv7aI0MMiH9nuhl1lbWFYaoy7HeG5qWEdyfIWhkKkH7RCu/w4883fFoHMzSi\n",
       "G1bFdjgGYDRCOjcR3V1jyPBGC+OwHkfdXuJPgPeXsI5D1RrpK6wW2aURH1Ti2+LgDImtWYM2P+k+\n",
       "Ed8maWY+wBIhtgGcEtZSxJEmb/VAnv5jLMZDO6GQ78yA7Te37B1QQ3zPXFn8riA0iBxtCYDOh86c\n",
       "fN8CGddNfFsUbH903ahG4SvK4m8FaEjomfFX9+7B5/si61d26eOumvhsk3+QYb9PxmfJf7ucKM3H\n",
       "Nq4bhzTduwwwFXF1s1SQB5jNCQYL+LN0VDzvtlNOajq/MqhgZqkhUx75jXzPPzJe+BK6fg5gDJws\n",
       "doUcd49FP1vAvyUtyn8vVOROXC+OWCvkP9SMfLfUs/wX+hvgIsbTGDa2ENCBzk0BI58vkUxG1t7k\n",
       "86/h4rU2sfPZzMLE2IY+aAQjfyg3NUxGoZ8FJ0U+Jp3Ih2cXjPxX+homoJJPXElK/nnkI/BLQcH2\n",
       "DAUN/Gp9us8B+iOkb4E22li3Yf3hnIFflYLH3KjJEN/u8zW0p3jfGcxsvdrlN1ERJX8EFJFi2SDj\n",
       "C/1NqMFdYjNRZS2+ZMh/BzNeAiwAC+SsZesvQqLNnTiL05gPoeL5z2t5CtQg17fz9Rf612xnvfxc\n",
       "NunjliXfi0WHlTvlbjgcZUULqjU8/9zCtegWtXAS1M7i5281Dlw/FQ5fEfr5vPOPZ31lXhSe1h5a\n",
       "qRmdb9uc3gFuvFvc2WzWDzHmPxjG+4dbrv6fSebEm6WuaP0HX9dOjevHs9k0Dwb2MLt/hP52nv5w\n",
       "r6i/7oT+/rwNy1MTNFvDBW9rfv919UrU4v7hl0KOn5IjwGylNsQvqndpVhdwHz4f5G0s8/IkmKyc\n",
       "k6qd4TMmVFI/Yfn9wUrBE/2WV2V30mzlnHDU9Cq5ilhU32fJx9oCyuVIWd9/0/Xmvsn6Eno1Dv8B\n",
       "grL/IfksqAMAAAAASUVORK5CYII=\n",
       "\" style=\"display:inline;vertical-align:middle;\" /></a>"
      ],
      "text/plain": [
       "c in ({1, 2, 3, 4, 5} - {1, 2, 3})"
      ]
     },
     "execution_count": 15,
     "metadata": {},
     "output_type": "execute_result"
    }
   ],
   "source": [
    "# a DifferenceMembership object that is not clearly True or False\n",
    "diff_mem_03 = Difference(set_12345, set_123).membership_object(c)\n",
    "diff_mem_03.expr"
   ]
  },
  {
   "cell_type": "markdown",
   "metadata": {},
   "source": [
    "###  `DifferenceMembership.conclude()`"
   ]
  },
  {
   "cell_type": "code",
   "execution_count": 16,
   "metadata": {},
   "outputs": [
    {
     "data": {
      "text/html": [
       "<a class=\"ProveItLink\" href=\"../__pv_it/demonstrations/a317ab80cd44dfafd4d70afb1e9c805a43afb23e0/expr.ipynb\"><img src=\"data:image/png;base64,iVBORw0KGgoAAAANSUhEUgAAAPsAAAAVBAMAAAByEoVnAAAAMFBMVEX///+YmJhERESIiIhUVFTc\n",
       "3NwiIiJ2dnbu7u66urqqqqpmZmYQEBAyMjLMzMwAAAA7oY0NAAAAAXRSTlMAQObYZgAAAAlwSFlz\n",
       "AAAOxAAADsQBlSsOGwAAAz9JREFUSMeVVktoE1EUvU06nZdPkxaXBQ0ooig4WqXFT4l2USgUAoYK\n",
       "KthVLAoSiVRELYN2pzIBwQ8ozabizrQLd9Ja0Y2bLETa6iIL3Sm2FLEGKt73mZn35pOSBxPO3HM/\n",
       "7913750ABC0NH/IUWljajF/WxMPZHP7kwtij+Jx40kp4+LbHJ2riIXXKBHgo8NeqSsaL+GzIkjsf\n",
       "Anz8/Ci/7fLSqgeyf0x+jWQBol0cpyuq4QN8dEUbvgSdoSG/THhZj4fOqo9c4njaVA1n/caNgOix\n",
       "jVbCq2dkZI9ieahQqDGw4DNWIwX63yq8ekZGJk0ps8/77Uur+Yw9roLSuVX4CT/ZiZevDQ2wzGpL\n",
       "NpUo2ny+dFpEGjwscqf3bucgX/olRKR0zAwL73iAT73DApUO1jmpY/09y0VYZjudNqSbggSmIPYe\n",
       "DvD8WEvkN+/vSzDHr8Ph4FE9hRs+7g2veiCbpsUjjFYSGYjSC26rAXnL9DCoY9dBT3Ue93C/C15z\n",
       "0SsT3nGuKAByb8TEWYNoGeCCp308HrANkwZDFynQaMbjC5BYpS5x/SjgylCURGf5ZQTzVJctjPSH\n",
       "gXm7gFwust57gx5vBOOTz9RLoQ4+D3jGNIuT4FU8tYIDZxWSGbDKbLI426bhU3MYZxHIXxA7jvHW\n",
       "W7SVXC6d5Ve97Blsqgc84zTLT5IdEW5jkNgCWAbs4LyafBxLZB3aVu2255tGkSg3l0sb9v2oS/WA\n",
       "bc8zZxnOSIyPgVWBkTitiajh2Bm8bkkD2mszQI3+0VukYA33TIHE0bvDDd8KqHxJK13HKiMUYEmU\n",
       "QWell8FY8csJpr7i2GVF2+yEF9Uq2cS3k7APGMCyn2TA5bB+7+VCGs/Vau+KVMHCIsey10XjYYeT\n",
       "wcn8AC+GvSJ9qTFhPNX3fbAOBRRP3cQ9U6Bf3WZyicNBX7cRNnZcLTKEo7xjHOXXu/vFUOgoy/qP\n",
       "d4uhe0WZWXEzFEio2dRztV4q5Gjw17hHMdbDgYSahXe1igo5Gxw+glfJxhJbd8OBhOwh5K4AD8SQ\n",
       "R6KWCQ5PUK45n1gjHEgI69r7/8vvIeqQ2EjslIGLfibODbf0X+9axSdr4uEMpY4A/AcllPE1eXdq\n",
       "wQAAAABJRU5ErkJggg==\n",
       "\" style=\"display:inline;vertical-align:middle;\" /></a>"
      ],
      "text/plain": [
       "d in ({a, b, c, d, e} - {a, b, c})"
      ]
     },
     "execution_count": 16,
     "metadata": {},
     "output_type": "execute_result"
    }
   ],
   "source": [
    "diff_mem_01.expr"
   ]
  },
  {
   "cell_type": "code",
   "execution_count": 17,
   "metadata": {},
   "outputs": [
    {
     "data": {
      "text/html": [
       "<span style=\"font-size:20px;\"><a class=\"ProveItLink\" href=\"../__pv_it/demonstrations/3f876de628b73f4a5d605811b37b8a18f7b239a10/expr.ipynb\"><img src=\"data:image/png;base64,iVBORw0KGgoAAAANSUhEUgAAAI4AAAAVBAMAAABicsu7AAAAMFBMVEX///+YmJhERESIiIhUVFTc\n",
       "3NwiIiJ2dnbu7u66urqqqqpmZmYQEBAyMjLMzMwAAAA7oY0NAAAAAXRSTlMAQObYZgAAAAlwSFlz\n",
       "AAAOxAAADsQBlSsOGwAAAf9JREFUOMtjYMAGOicwkACiAnBIMN9sIMUcPieIcr47G1Al1qMY03QM\n",
       "i963p5E4TA4Qmn8BqqIyVO5tbI74hcRmT4DQ8xvwmvMLizGcP7CYA9VnlJZ2AYs5KFrQtaJwIA6f\n",
       "a4HdPShaYIB3A7oKVnc7sMNZb6D6K6Q4GKrF2QQafuzGchBGSPF7qFC78Q6oOXMCmMAO50Wkgr0g\n",
       "3xxl0IcEW/8Njq9gBmsWwyaIT+FynHkMz4Hp5AADA8dBBm5wqPDCjWE9CCR6BBi2wVPBYTCDrQDK\n",
       "AMrthcjFCzBYAjUAPcT9ASQPBG/SgEABZIwvKDXvZ2BIh7vuO5ixHxatCDl9Y3OQ4pZbDDwKDP3g\n",
       "XNAEd89rDSBxiIHjJ4SbzsAJiflDMAUIuS8QqnYCQ78BgzzE1YjwVwF69zMD4wdY8uEGByBQCAKQ\n",
       "5CBCXED5/gUMvlygIGY2QI4vjl8MLBeWMoB88g8UHiDGR2C4ghhIckDvcQHjCxjOTAZc2dxg3bdQ\n",
       "4l2ZYdmGDRx/gSxHBm0GMAMYWXVgBkJOloFjKyTeOZzrQuzAuls0G5DMaTF/6vyAIQ0o1FItwABm\n",
       "sBcKN0BE4HLMhcKYKXW6Gka+4GrAyUBiYU3xKOaw42Ygs3CYYwNnNeNmILEgCRkTxMPLIwPcDCQW\n",
       "MD6xAtYtC0gpV8O9GBgACjKQ7WzUxBUAAAAASUVORK5CYII=\n",
       "\" style=\"display:inline;vertical-align:middle;\" /></a>, <a class=\"ProveItLink\" href=\"../__pv_it/demonstrations/5ed6ff1f275a688706bb98fe6a95af8aa7fbe06c0/expr.ipynb\"><img src=\"data:image/png;base64,iVBORw0KGgoAAAANSUhEUgAAAGYAAAAVCAMAAACDt2s/AAAAP1BMVEX///9jY2MJCQkdHR0NDQ0W\n",
       "FhaYmJhERESIiIhUVFTc3NwiIiJ2dnbu7u66urqqqqpmZmYQEBAyMjLMzMwAAAAry7kzAAAAAXRS\n",
       "TlMAQObYZgAAAAlwSFlzAAAOxAAADsQBlSsOGwAAAaBJREFUSMeVVlmyhCAM5G0SCGG//1kfiktA\n",
       "UYePqSI0aRo6cYQYDt3NyVrx6dBOP0EiNVOIlj6mEUlJvivF4HtAM3V5SEIy4JhItnmya5d9e0UG\n",
       "74T78Vq70fanRfGepj/ieGMzA4l/vxjf0thMb2mYbhuBhErv1dwq3Re1MpAO3Xq2GMU7tIb2aRSA\n",
       "6u7NAEyJb7SheFseuuNs9Qk6Gh+v0bPTcjkYZV4hGgurl8sDhAoKE8sy01wUjdALakfj2euBHwzN\n",
       "HtH1nnze47VeAiL+fJcfeZCouNq7Rx9CM4t5rpZULERBLrrtUWzzhXY3nfxazD16J7Xc1EHyV5qP\n",
       "SHmWNuW2YHBQzGf0VjVcQEU1V0oLSEWxNzkAYf3Alw16y5vT9mZ7pD7kotlUC8jC7NCLI3N0fdEc\n",
       "vmToYrC6pEpS6QWLVI8ZbmhSYJJWkNibfZ+b8QUakdaY8fX4W0QYM01AD7U7fRlZnPbYbBw9R25o\n",
       "Ir1rKOZFZEyj5UVwLebmOwPPkabwO/6rtq7Pzf6c84KF1vZxHupao1fu8/8Cpm76B0FQFVjKa2+C\n",
       "AAAAAElFTkSuQmCC\n",
       "\" style=\"display:inline;vertical-align:middle;\" /></a> <a class=\"ProveItLink\" href=\"../__pv_it/demonstrations/371903694371cb10f51d15b88eeed0077c1cdece0/proof.ipynb\" style=\"text-decoration: none\">&nbsp;&#x22A2;&nbsp;&nbsp;</a><a class=\"ProveItLink\" href=\"../__pv_it/demonstrations/a317ab80cd44dfafd4d70afb1e9c805a43afb23e0/expr.ipynb\"><img src=\"data:image/png;base64,iVBORw0KGgoAAAANSUhEUgAAAPsAAAAVBAMAAAByEoVnAAAAMFBMVEX///+YmJhERESIiIhUVFTc\n",
       "3NwiIiJ2dnbu7u66urqqqqpmZmYQEBAyMjLMzMwAAAA7oY0NAAAAAXRSTlMAQObYZgAAAAlwSFlz\n",
       "AAAOxAAADsQBlSsOGwAAAz9JREFUSMeVVktoE1EUvU06nZdPkxaXBQ0ooig4WqXFT4l2USgUAoYK\n",
       "KthVLAoSiVRELYN2pzIBwQ8ozabizrQLd9Ja0Y2bLETa6iIL3Sm2FLEGKt73mZn35pOSBxPO3HM/\n",
       "7913750ABC0NH/IUWljajF/WxMPZHP7kwtij+Jx40kp4+LbHJ2riIXXKBHgo8NeqSsaL+GzIkjsf\n",
       "Anz8/Ci/7fLSqgeyf0x+jWQBol0cpyuq4QN8dEUbvgSdoSG/THhZj4fOqo9c4njaVA1n/caNgOix\n",
       "jVbCq2dkZI9ieahQqDGw4DNWIwX63yq8ekZGJk0ps8/77Uur+Yw9roLSuVX4CT/ZiZevDQ2wzGpL\n",
       "NpUo2ny+dFpEGjwscqf3bucgX/olRKR0zAwL73iAT73DApUO1jmpY/09y0VYZjudNqSbggSmIPYe\n",
       "DvD8WEvkN+/vSzDHr8Ph4FE9hRs+7g2veiCbpsUjjFYSGYjSC26rAXnL9DCoY9dBT3Ue93C/C15z\n",
       "0SsT3nGuKAByb8TEWYNoGeCCp308HrANkwZDFynQaMbjC5BYpS5x/SjgylCURGf5ZQTzVJctjPSH\n",
       "gXm7gFwust57gx5vBOOTz9RLoQ4+D3jGNIuT4FU8tYIDZxWSGbDKbLI426bhU3MYZxHIXxA7jvHW\n",
       "W7SVXC6d5Ve97Blsqgc84zTLT5IdEW5jkNgCWAbs4LyafBxLZB3aVu2255tGkSg3l0sb9v2oS/WA\n",
       "bc8zZxnOSIyPgVWBkTitiajh2Bm8bkkD2mszQI3+0VukYA33TIHE0bvDDd8KqHxJK13HKiMUYEmU\n",
       "QWell8FY8csJpr7i2GVF2+yEF9Uq2cS3k7APGMCyn2TA5bB+7+VCGs/Vau+KVMHCIsey10XjYYeT\n",
       "wcn8AC+GvSJ9qTFhPNX3fbAOBRRP3cQ9U6Bf3WZyicNBX7cRNnZcLTKEo7xjHOXXu/vFUOgoy/qP\n",
       "d4uhe0WZWXEzFEio2dRztV4q5Gjw17hHMdbDgYSahXe1igo5Gxw+glfJxhJbd8OBhOwh5K4AD8SQ\n",
       "R6KWCQ5PUK45n1gjHEgI69r7/8vvIeqQ2EjslIGLfibODbf0X+9axSdr4uEMpY4A/AcllPE1eXdq\n",
       "wQAAAABJRU5ErkJggg==\n",
       "\" style=\"display:inline;vertical-align:middle;\" /></a></span>"
      ],
      "text/plain": [
       "{d in {a, b, c, d, e}, d not-in {a, b, c}} |- d in ({a, b, c, d, e} - {a, b, c})"
      ]
     },
     "execution_count": 17,
     "metadata": {},
     "output_type": "execute_result"
    }
   ],
   "source": [
    "# using explicit assumptions about set membership and set non-membership\n",
    "diff_mem_01.conclude(assumptions=[InSet(d, set_abcde), NotInSet(d, set_abc)])"
   ]
  },
  {
   "cell_type": "code",
   "execution_count": 18,
   "metadata": {},
   "outputs": [
    {
     "data": {
      "text/html": [
       "<span style=\"font-size:20px;\"><a class=\"ProveItLink\" href=\"../__pv_it/demonstrations/31febd52234b043aa6524a8d3a32fcca3e2bead20/expr.ipynb\"><img src=\"data:image/png;base64,iVBORw0KGgoAAAANSUhEUgAAADEAAAAUCAMAAAATIyWrAAAAPFBMVEX///8NDQ0WFhYLCwsYGBiY\n",
       "mJhERESIiIhUVFTc3NwiIiJ2dnbu7u66urqqqqpmZmYQEBAyMjLMzMwAAADYQ0HGAAAAAXRSTlMA\n",
       "QObYZgAAAAlwSFlzAAAOxAAADsQBlSsOGwAAALZJREFUKM+Vk90OwyAIhd26+ktV9P3fddU2G5ZI\n",
       "IhdeyIHDJ1EpKRLMcwVz4pda7Fcju9JFKjgqm6BY0SJ4buHECmQYx9zC2WAKx0DHVM5cvfKZ0n+M\n",
       "5Ht8tnb+fIgK8t5kKFvcqg6bajt9eFKMXFSV25qgHjIFUUFtNHsl7dr879dFc3NQFfRHsqji0BTH\n",
       "fQ4qfVZHn9Qwd3xuh6rAmlCcNUWwmKioRVCLgbBYsC9b+FULJX6kLyNACIkHGf2uAAAAAElFTkSu\n",
       "QmCC\n",
       "\" style=\"display:inline;vertical-align:middle;\" /></a>, <a class=\"ProveItLink\" href=\"../__pv_it/demonstrations/cbb871ed1e68cd311943cffb45d90655c4ca25770/expr.ipynb\"><img src=\"data:image/png;base64,iVBORw0KGgoAAAANSUhEUgAAAC8AAAAUCAMAAAAqRJTwAAAAPFBMVEX///8NDQ0WFhYLCwsYGBiY\n",
       "mJhERESIiIhUVFTc3NwiIiJ2dnbu7u66urqqqqpmZmYQEBAyMjLMzMwAAADYQ0HGAAAAAXRSTlMA\n",
       "QObYZgAAAAlwSFlzAAAOxAAADsQBlSsOGwAAAM1JREFUKM+VkusOBBEMhe1lKOrWvv+7bpns7hgh\n",
       "0R+ievKdFkqtIuGsQiWn8VD/tqiz64scB72mS1J6XuDBm2DB827E2wWvDO0HmPAseENj+8V2GRgD\n",
       "TROyFPTfLrkW71ddvx7IBWURJeajisoaHxsvG1FyzZ2/d9/Pc/JYVFk3u7DEn7wgQyKLhzr4gqp9\n",
       "Px/nFHC9/cR1hrqDomJ/HbfXY/pOqoUfXVJdv/H+GiBS3Q4RjCcLhlZ4Ufl0TP9x9GorCm7Jj028\n",
       "28Mrmpc+n3sJFp8grOMAAAAASUVORK5CYII=\n",
       "\" style=\"display:inline;vertical-align:middle;\" /></a>, <a class=\"ProveItLink\" href=\"../__pv_it/demonstrations/e0983d269696d2d341411d64e235d13f5e86a7bc0/expr.ipynb\"><img src=\"data:image/png;base64,iVBORw0KGgoAAAANSUhEUgAAAC8AAAAUCAMAAAAqRJTwAAAAPFBMVEX///8NDQ0WFhYLCwsYGBiY\n",
       "mJhERESIiIhUVFTc3NwiIiJ2dnbu7u66urqqqqpmZmYQEBAyMjLMzMwAAADYQ0HGAAAAAXRSTlMA\n",
       "QObYZgAAAAlwSFlzAAAOxAAADsQBlSsOGwAAAMdJREFUKM+Vk+sShCAIhd2LoeKd93/XxZptM0d2\n",
       "5IdTevo4QColRfKzk1pyGjc3gUVx2NrqXB5oyF2NgEc34q2gL4P9MMNbg1BH++WGRwDdCgqZD7af\n",
       "/eT2eL/aeuawjoGJG+azbqLyB++QlwyspPO1c9/Xk878uQ3FU5Dx+Ts6T5xDabqgmu/n46jCXFXH\n",
       "U2uMKSp2wHKbHunDJXeGv4wuqc5vvE8j7X6Q++kNYLUGqoRnKWoNs981olqK4pfkehHv1vBKuCYf\n",
       "DfQHnnlIY6EAAAAASUVORK5CYII=\n",
       "\" style=\"display:inline;vertical-align:middle;\" /></a> <a class=\"ProveItLink\" href=\"../__pv_it/demonstrations/c0a8ab9567f3d7203b2a262bc5ae02f4a9d5fd850/proof.ipynb\" style=\"text-decoration: none\">&nbsp;&#x22A2;&nbsp;&nbsp;</a><a class=\"ProveItLink\" href=\"../__pv_it/demonstrations/a317ab80cd44dfafd4d70afb1e9c805a43afb23e0/expr.ipynb\"><img src=\"data:image/png;base64,iVBORw0KGgoAAAANSUhEUgAAAPsAAAAVBAMAAAByEoVnAAAAMFBMVEX///+YmJhERESIiIhUVFTc\n",
       "3NwiIiJ2dnbu7u66urqqqqpmZmYQEBAyMjLMzMwAAAA7oY0NAAAAAXRSTlMAQObYZgAAAAlwSFlz\n",
       "AAAOxAAADsQBlSsOGwAAAz9JREFUSMeVVktoE1EUvU06nZdPkxaXBQ0ooig4WqXFT4l2USgUAoYK\n",
       "KthVLAoSiVRELYN2pzIBwQ8ozabizrQLd9Ja0Y2bLETa6iIL3Sm2FLEGKt73mZn35pOSBxPO3HM/\n",
       "7913750ABC0NH/IUWljajF/WxMPZHP7kwtij+Jx40kp4+LbHJ2riIXXKBHgo8NeqSsaL+GzIkjsf\n",
       "Anz8/Ci/7fLSqgeyf0x+jWQBol0cpyuq4QN8dEUbvgSdoSG/THhZj4fOqo9c4njaVA1n/caNgOix\n",
       "jVbCq2dkZI9ieahQqDGw4DNWIwX63yq8ekZGJk0ps8/77Uur+Yw9roLSuVX4CT/ZiZevDQ2wzGpL\n",
       "NpUo2ny+dFpEGjwscqf3bucgX/olRKR0zAwL73iAT73DApUO1jmpY/09y0VYZjudNqSbggSmIPYe\n",
       "DvD8WEvkN+/vSzDHr8Ph4FE9hRs+7g2veiCbpsUjjFYSGYjSC26rAXnL9DCoY9dBT3Ue93C/C15z\n",
       "0SsT3nGuKAByb8TEWYNoGeCCp308HrANkwZDFynQaMbjC5BYpS5x/SjgylCURGf5ZQTzVJctjPSH\n",
       "gXm7gFwust57gx5vBOOTz9RLoQ4+D3jGNIuT4FU8tYIDZxWSGbDKbLI426bhU3MYZxHIXxA7jvHW\n",
       "W7SVXC6d5Ve97Blsqgc84zTLT5IdEW5jkNgCWAbs4LyafBxLZB3aVu2255tGkSg3l0sb9v2oS/WA\n",
       "bc8zZxnOSIyPgVWBkTitiajh2Bm8bkkD2mszQI3+0VukYA33TIHE0bvDDd8KqHxJK13HKiMUYEmU\n",
       "QWell8FY8csJpr7i2GVF2+yEF9Uq2cS3k7APGMCyn2TA5bB+7+VCGs/Vau+KVMHCIsey10XjYYeT\n",
       "wcn8AC+GvSJ9qTFhPNX3fbAOBRRP3cQ9U6Bf3WZyicNBX7cRNnZcLTKEo7xjHOXXu/vFUOgoy/qP\n",
       "d4uhe0WZWXEzFEio2dRztV4q5Gjw17hHMdbDgYSahXe1igo5Gxw+glfJxhJbd8OBhOwh5K4AD8SQ\n",
       "R6KWCQ5PUK45n1gjHEgI69r7/8vvIeqQ2EjslIGLfibODbf0X+9axSdr4uEMpY4A/AcllPE1eXdq\n",
       "wQAAAABJRU5ErkJggg==\n",
       "\" style=\"display:inline;vertical-align:middle;\" /></a></span>"
      ],
      "text/plain": [
       "{d != a, d != b, d != c} |- d in ({a, b, c, d, e} - {a, b, c})"
      ]
     },
     "execution_count": 18,
     "metadata": {},
     "output_type": "execute_result"
    }
   ],
   "source": [
    "# using less explicit assumptions about set membership/nonmembership\n",
    "diff_mem_01.conclude(assumptions=[NotEquals(d, a), NotEquals(d, b), NotEquals(d, c)])"
   ]
  },
  {
   "cell_type": "code",
   "execution_count": 19,
   "metadata": {},
   "outputs": [
    {
     "data": {
      "text/html": [
       "<a class=\"ProveItLink\" href=\"../__pv_it/demonstrations/2df236663a8b5f5c3c7c599dc1e17967952a9def0/expr.ipynb\"><img src=\"data:image/png;base64,iVBORw0KGgoAAAANSUhEUgAAAP4AAAAVBAMAAACUO04jAAAAMFBMVEX///+qqqqYmJiIiIgiIiLu\n",
       "7u4QEBBUVFS6urp2dnbMzMxEREQyMjJmZmbc3NwAAADzFso2AAAAAXRSTlMAQObYZgAAAAlwSFlz\n",
       "AAAOxAAADsQBlSsOGwAAA2xJREFUSMeVlk1oE0EUx1+brOmmyZKDCl409OJBhSi0IArmEK0UpAHB\n",
       "ClZaCuoxbRWDWm0OWhU85KAWQWhRURSKOVgqHjQVpAUFiyhF0sBqRZFSWz8qosX45u3M7s7upjYD\n",
       "u/uY/c/7zZt583YBPJqGl3IBKmnaWo/O/Zmy+nc653i1zXhtP7ds9iAoOtwZdvX7xpNlxwRP4bua\n",
       "GM6h+HzQ8a4qi9cCE+0U0Zki7VrBDGqIP1MvEuhsxMVYx/C3xBxmpx7ZXdR2orkFYAbUX45xrXip\n",
       "cYCWqQXeY4kOQtVXoWvkz10/ruD9souPPcrpl5yv5WAgY3PBABBKwhmAw45xrzgffIJviXZElEWx\n",
       "vILfKWhuPg7g/IAOK9ptLghQPQGpJPTq1L8tkciT0e7iW6K+DAj+jbFK+CsWIPDX5oIAcAiOAfTS\n",
       "3l6qF9ufd/FNEXv9jRvZiviBOAR+21wY/Kfs1kz780wMC2ddfCFi7WyUL78u+N1bT/6fj80/b3Nh\n",
       "8PtZln9nVkgXshADhPMy3xBhu5nmC/EeBH8Y5jCzGlz8KQf/fszmwkfJsJFNi9YvZE0zgrePUZlv\n",
       "iGjxeP5nTT4eJgxmLuIsSR0OfqPdhUZuVuNVoL7bCWw5yhQM5tM4yPyC5TdFHqt1Gz+MmaX0sAm0\n",
       "MjeJJobvycj8cE5y0TLKlgQdGZEdMF8yfrCQlPjVIvx7AE8o0GkQ/No8hDGz1HFH/EPDMn+97OI6\n",
       "m14fwBrQ2Nb75fWn8mTxuQiglOT88+n0zxPGfDGz53m1k9qIxMeq+sXmggosrIRgFnwUa8zczJg9\n",
       "/xXKPiYi6whbPMUQos1GqjgFXNqr5fOfpnAXoJ4scgEq5d8G+FAsvib1qBimdgq+itvaxg4Ciciq\n",
       "Y4e3zahTf4BqoTYBDcmy529A56o9xWKcrDrb+X8LzaWSUdBaHvKVCsY5P3B8sRv87BtEIrJqivjx\n",
       "IAsKpaPAPjwwO/mm7PlPp8aipPKXSqU8WeSC83fb5Bcf8PrbJOKntgqWsKqScrTu+GWVZRFAi3t9\n",
       "mzdJ/CwsYamwHL6lslkMEI568Wt1UZ7Yf5CZl17WXke1k1qDW2VZVGBnPP9NlJwoT+wMWL8zHlbM\n",
       "GtTh8mNWxJiHfh8L/bH3z9E0S6quyv7/+iPuvslIWf3nLvqEwT9WKAnvm4tUaQAAAABJRU5ErkJg\n",
       "gg==\n",
       "\" style=\"display:inline;vertical-align:middle;\" /></a>"
      ],
      "text/plain": [
       "2 in ({1, 2, 3, 4, 5} - {1, 2, 3})"
      ]
     },
     "execution_count": 19,
     "metadata": {},
     "output_type": "execute_result"
    }
   ],
   "source": [
    "# Recall the False IntersectMembership object:\n",
    "diff_mem_02.expr"
   ]
  },
  {
   "cell_type": "code",
   "execution_count": 20,
   "metadata": {},
   "outputs": [
    {
     "name": "stdout",
     "output_type": "stream",
     "text": [
      "ProofFailure (InstantiationFailure): Proof step failed:\n",
      "Attempting to instantiate |- forall_{x, A, B | x in A, x not-in B} (x in (A - B)) with {x: 2, A: {1, 2, 3, 4, 5}, B: {1, 2, 3}}:\n",
      "Unsatisfied condition: 2 not-in {1, 2, 3}\n"
     ]
    }
   ],
   "source": [
    "# We should not be able to conclude() such a False IntersectMembership object:\n",
    "try:\n",
    "    diff_mem_02.conclude()\n",
    "    assert False, \"Expecting a ProofFailure (InstantiationFailure); should not get this far!\"\n",
    "except InstantiationFailure as the_error:\n",
    "    print(\"ProofFailure (InstantiationFailure): {}\".format(the_error))"
   ]
  },
  {
   "cell_type": "code",
   "execution_count": 21,
   "metadata": {},
   "outputs": [
    {
     "data": {
      "text/html": [
       "<a class=\"ProveItLink\" href=\"../__pv_it/demonstrations/8d310dbf7c39f4aa7b2bba4e0407c934eb318fb90/expr.ipynb\"><img src=\"data:image/png;base64,iVBORw0KGgoAAAANSUhEUgAAAP4AAAAVBAMAAACUO04jAAAAMFBMVEX///9UVFQyMjK6urru7u4Q\n",
       "EBBERERmZmaqqqoiIiLc3NzMzMyYmJiIiIh2dnYAAABC1PP/AAAAAXRSTlMAQObYZgAAAAlwSFlz\n",
       "AAAOxAAADsQBlSsOGwAAA39JREFUSMeVll9IU1Ecx39zm3N33umC0v6ACyMUgkYl0UtMooIgnGhB\n",
       "EGjZi0ZoPjh6qRH20IsuCmoQuh7S7MH2EiFR3nzoIQxWWFAIzl6ih7TWHqQ/rN8553fPdnfvnDtw\n",
       "tx/n9z2/z7nn/M7vXACLFsfnSADKaY/i5j7H/hJ6xdqnRvBpDG4U7QE4AZ4tZv37A+sMYnp70tI3\n",
       "gs8oC+e5Qz2TgxfJmv7aI0MMiH9nuhl1lbWFYaoy7HeG5qWEdyfIWhkKkH7RCu/w4883fFoHMzSi\n",
       "G1bFdjgGYDRCOjcR3V1jyPBGC+OwHkfdXuJPgPeXsI5D1RrpK6wW2aURH1Ti2+LgDImtWYM2P+k+\n",
       "Ed8maWY+wBIhtgGcEtZSxJEmb/VAnv5jLMZDO6GQ78yA7Te37B1QQ3zPXFn8riA0iBxtCYDOh86c\n",
       "fN8CGddNfFsUbH903ahG4SvK4m8FaEjomfFX9+7B5/si61d26eOumvhsk3+QYb9PxmfJf7ucKM3H\n",
       "Nq4bhzTduwwwFXF1s1SQB5jNCQYL+LN0VDzvtlNOajq/MqhgZqkhUx75jXzPPzJe+BK6fg5gDJws\n",
       "doUcd49FP1vAvyUtyn8vVOROXC+OWCvkP9SMfLfUs/wX+hvgIsbTGDa2ENCBzk0BI58vkUxG1t7k\n",
       "86/h4rU2sfPZzMLE2IY+aAQjfyg3NUxGoZ8FJ0U+Jp3Ih2cXjPxX+homoJJPXElK/nnkI/BLQcH2\n",
       "DAUN/Gp9us8B+iOkb4E22li3Yf3hnIFflYLH3KjJEN/u8zW0p3jfGcxsvdrlN1ERJX8EFJFi2SDj\n",
       "C/1NqMFdYjNRZS2+ZMh/BzNeAiwAC+SsZesvQqLNnTiL05gPoeL5z2t5CtQg17fz9Rf612xnvfxc\n",
       "NunjliXfi0WHlTvlbjgcZUULqjU8/9zCtegWtXAS1M7i5281Dlw/FQ5fEfr5vPOPZ31lXhSe1h5a\n",
       "qRmdb9uc3gFuvFvc2WzWDzHmPxjG+4dbrv6fSebEm6WuaP0HX9dOjevHs9k0Dwb2MLt/hP52nv5w\n",
       "r6i/7oT+/rwNy1MTNFvDBW9rfv919UrU4v7hl0KOn5IjwGylNsQvqndpVhdwHz4f5G0s8/IkmKyc\n",
       "k6qd4TMmVFI/Yfn9wUrBE/2WV2V30mzlnHDU9Cq5ilhU32fJx9oCyuVIWd9/0/Xmvsn6Eno1Dv8B\n",
       "grL/IfksqAMAAAAASUVORK5CYII=\n",
       "\" style=\"display:inline;vertical-align:middle;\" /></a>"
      ],
      "text/plain": [
       "c in ({1, 2, 3, 4, 5} - {1, 2, 3})"
      ]
     },
     "execution_count": 21,
     "metadata": {},
     "output_type": "execute_result"
    }
   ],
   "source": [
    "# Recall this IntersectMembership object of unknown verity (where 'c' is an unassigned variable):\n",
    "diff_mem_03.expr"
   ]
  },
  {
   "cell_type": "code",
   "execution_count": 22,
   "metadata": {},
   "outputs": [
    {
     "name": "stdout",
     "output_type": "stream",
     "text": [
      "ProofFailure (InstantiationFailure): Proof step failed:\n",
      "Attempting to instantiate |- forall_{x, A, B | x in A, x not-in B} (x in (A - B)) with {x: c, A: {1, 2, 3, 4, 5}, B: {1, 2, 3}}:\n",
      "Unsatisfied condition: c in {1, 2, 3, 4, 5}\n"
     ]
    }
   ],
   "source": [
    "# We should not be able to conclude() such an DifferenceMembership object:\n",
    "try:\n",
    "    diff_mem_03.conclude()\n",
    "    assert False, \"Expecting a ProofFailure (InstantiationFailure); should not get this far!\"\n",
    "except InstantiationFailure as the_error:\n",
    "    print(\"ProofFailure (InstantiationFailure): {}\".format(the_error))"
   ]
  },
  {
   "cell_type": "code",
   "execution_count": 23,
   "metadata": {},
   "outputs": [
    {
     "data": {
      "text/html": [
       "<span style=\"font-size:20px;\"><a class=\"ProveItLink\" href=\"../__pv_it/demonstrations/571e8de982b54f3e33967257ad8dc83039497b7c0/expr.ipynb\"><img src=\"data:image/png;base64,iVBORw0KGgoAAAANSUhEUgAAAC8AAAAOBAMAAABN+VgMAAAAMFBMVEX///8yMjJUVFS6urru7u4Q\n",
       "EBBERERmZmaqqqoiIiLc3NzMzMyYmJiIiIh2dnYAAACZiqmYAAAAAXRSTlMAQObYZgAAAAlwSFlz\n",
       "AAAOxAAADsQBlSsOGwAAAHtJREFUGNNjYMAGuAsYsANOBRwSN3FIcB/EIcHHCJZ4e2cDmsQtsMTK\n",
       "BvYEIFU5EwQmgcS5DoAl5jGwXkAziQEkwf4Fw4pTYAnWBHRxrgtgCX+oOQg7mJWU9IMeMPAfYGAw\n",
       "QNfECrIjgYEP3bkM/CDz3525gi7Onv/pAgB5YB/l1ov0TAAAAABJRU5ErkJggg==\n",
       "\" style=\"display:inline;vertical-align:middle;\" /></a> <a class=\"ProveItLink\" href=\"../__pv_it/demonstrations/783b072602fc16329dfc2e154ddc395ecc4291110/proof.ipynb\" style=\"text-decoration: none\">&nbsp;&#x22A2;&nbsp;&nbsp;</a><a class=\"ProveItLink\" href=\"../__pv_it/demonstrations/8d310dbf7c39f4aa7b2bba4e0407c934eb318fb90/expr.ipynb\"><img src=\"data:image/png;base64,iVBORw0KGgoAAAANSUhEUgAAAP4AAAAVBAMAAACUO04jAAAAMFBMVEX///9UVFQyMjK6urru7u4Q\n",
       "EBBERERmZmaqqqoiIiLc3NzMzMyYmJiIiIh2dnYAAABC1PP/AAAAAXRSTlMAQObYZgAAAAlwSFlz\n",
       "AAAOxAAADsQBlSsOGwAAA39JREFUSMeVll9IU1Ecx39zm3N33umC0v6ACyMUgkYl0UtMooIgnGhB\n",
       "EGjZi0ZoPjh6qRH20IsuCmoQuh7S7MH2EiFR3nzoIQxWWFAIzl6ih7TWHqQ/rN8553fPdnfvnDtw\n",
       "tx/n9z2/z7nn/M7vXACLFsfnSADKaY/i5j7H/hJ6xdqnRvBpDG4U7QE4AZ4tZv37A+sMYnp70tI3\n",
       "gs8oC+e5Qz2TgxfJmv7aI0MMiH9nuhl1lbWFYaoy7HeG5qWEdyfIWhkKkH7RCu/w4883fFoHMzSi\n",
       "G1bFdjgGYDRCOjcR3V1jyPBGC+OwHkfdXuJPgPeXsI5D1RrpK6wW2aURH1Ti2+LgDImtWYM2P+k+\n",
       "Ed8maWY+wBIhtgGcEtZSxJEmb/VAnv5jLMZDO6GQ78yA7Te37B1QQ3zPXFn8riA0iBxtCYDOh86c\n",
       "fN8CGddNfFsUbH903ahG4SvK4m8FaEjomfFX9+7B5/si61d26eOumvhsk3+QYb9PxmfJf7ucKM3H\n",
       "Nq4bhzTduwwwFXF1s1SQB5jNCQYL+LN0VDzvtlNOajq/MqhgZqkhUx75jXzPPzJe+BK6fg5gDJws\n",
       "doUcd49FP1vAvyUtyn8vVOROXC+OWCvkP9SMfLfUs/wX+hvgIsbTGDa2ENCBzk0BI58vkUxG1t7k\n",
       "86/h4rU2sfPZzMLE2IY+aAQjfyg3NUxGoZ8FJ0U+Jp3Ih2cXjPxX+homoJJPXElK/nnkI/BLQcH2\n",
       "DAUN/Gp9us8B+iOkb4E22li3Yf3hnIFflYLH3KjJEN/u8zW0p3jfGcxsvdrlN1ERJX8EFJFi2SDj\n",
       "C/1NqMFdYjNRZS2+ZMh/BzNeAiwAC+SsZesvQqLNnTiL05gPoeL5z2t5CtQg17fz9Rf612xnvfxc\n",
       "NunjliXfi0WHlTvlbjgcZUULqjU8/9zCtegWtXAS1M7i5281Dlw/FQ5fEfr5vPOPZ31lXhSe1h5a\n",
       "qRmdb9uc3gFuvFvc2WzWDzHmPxjG+4dbrv6fSebEm6WuaP0HX9dOjevHs9k0Dwb2MLt/hP52nv5w\n",
       "r6i/7oT+/rwNy1MTNFvDBW9rfv919UrU4v7hl0KOn5IjwGylNsQvqndpVhdwHz4f5G0s8/IkmKyc\n",
       "k6qd4TMmVFI/Yfn9wUrBE/2WV2V30mzlnHDU9Cq5ilhU32fJx9oCyuVIWd9/0/Xmvsn6Eno1Dv8B\n",
       "grL/IfksqAMAAAAASUVORK5CYII=\n",
       "\" style=\"display:inline;vertical-align:middle;\" /></a></span>"
      ],
      "text/plain": [
       "{c = 4} |- c in ({1, 2, 3, 4, 5} - {1, 2, 3})"
      ]
     },
     "execution_count": 23,
     "metadata": {},
     "output_type": "execute_result"
    }
   ],
   "source": [
    "# But if we supply some extra information about 'c', we can conclude:\n",
    "diff_mem_03.conclude(assumptions=[Equals(c, four)],\n",
    "                     simplify_with_known_evaluations=True)"
   ]
  },
  {
   "cell_type": "code",
   "execution_count": 24,
   "metadata": {},
   "outputs": [
    {
     "data": {
      "text/html": [
       "<a class=\"ProveItLink\" href=\"../__pv_it/demonstrations/aa7d54b7aa70cd36e803cd0edc302c085df61a790/expr.ipynb\"><img src=\"data:image/png;base64,iVBORw0KGgoAAAANSUhEUgAAAPsAAAAVBAMAAAByEoVnAAAAMFBMVEX////MzMwyMjKqqqoiIiJm\n",
       "ZmaYmJju7u5EREQQEBC6urqIiIh2dnZUVFTc3NwAAAAqL9KcAAAAAXRSTlMAQObYZgAAAAlwSFlz\n",
       "AAAOxAAADsQBlSsOGwAAAyhJREFUSMeVVk1oE1EQ/pI03fysSa4elECVYk85CL1pxYgXD0Wk9NZ6\n",
       "aC8eDIKglJAcFEERe5BSEKSIIP6AW0WrtJZUqqBVKBVEaA8B60G0WC00YEWcN2/3dX/epnZgw+zM\n",
       "fPNN5s2bBNBJhh7jHrYhmQNBW5MMn+v0UQ/zPqbn0Z3t0GPXpYCpSYbIpxJwP8QZq9HTcFvOXdfl\n",
       "2NftersayNJogkvMA+l+Pf0Zeswuj2mvLi5bcL3M+r2cIQzHznY9fU+Qfk0X97C0JX0Yjp0DHuuz\n",
       "YjHPynCAPtXQpZnFVvShOE6fdJd/a8I5tHyA3tcL3Ylo6UNx7IjS4WeWpi2+Ouok4jWHcGXumzRF\n",
       "F1/Y52xOnrSv2tK43Vlj7kkphH4Th7mnOReO05s0f3frCe5QVF1DURTi1ILUTVyT/am0G38l+DB6\n",
       "ZZSDA27nIlTwcz+9yKBwWC7Eqy5cWhxwax7GCOLcoajCtYiCv1IN5/txQpoOlnBD+mq2InByUjLr\n",
       "SI8BPwo+epFB4XAMScuFy4jOxYYRXxUpSXYWSbjAJCVb6SClT6BYjgN/WOlzpkXhkNiYfCvyLhC/\n",
       "sUdkKYo2cwaFizd8uHIbLYBVJKuojPFmUWUL+kgv8YzC+O3UnpIHPaqCHByy8/KoO3zLRWRQuGTV\n",
       "h3tJH6lhVCyclm31Np/WkrGB1lXn2svyyWSLwiFrOefjFbHYHJwI9+B4qca6UClgISamLm0pnCXn\n",
       "1ljDjvwBiLQ/xRwIZZ1qZkXiDDkOoILf6CZf4bI0CGOGwsHk0asSV+xInMPbFG7eBl/B/u5u4xe9\n",
       "fcRFsEJjP8OKxFXyPL9n6yEXT+Fo7M2ciLb5+OLRDTcWZ1bGObx82W5fpMsGl6d2L+ZQJHP5FVUv\n",
       "FPP1qRIrEtdylEKnBq2wtaNweDc4wdE2H9O3jLnjH1ywl+4hz56LlUIVoHOLne8N7/Q6l/U/OQMe\n",
       "ejNcAWr/QW9qotnZo6dP1O21xDIUrsBQ8yquuFdUhiFNNK+eqp7eqNpricUKV5DexIwE/n+t+cM3\n",
       "o8WF4G+pFfFD8+XDtv7rvS8EbE0yfBeuaeAf7738CH5bdqYAAAAASUVORK5CYII=\n",
       "\" style=\"display:inline;vertical-align:middle;\" /></a>"
      ],
      "text/plain": [
       "a in ({a, b, c, d, e} - {b, c, d})"
      ]
     },
     "execution_count": 24,
     "metadata": {},
     "output_type": "execute_result"
    }
   ],
   "source": [
    "# Consider a more general DifferenceMembership object\n",
    "Difference(Set(a, b, c, d, e), Set(b, c, d)).membership_object(a).expr"
   ]
  },
  {
   "cell_type": "code",
   "execution_count": 25,
   "metadata": {},
   "outputs": [
    {
     "name": "stdout",
     "output_type": "stream",
     "text": [
      "ProofFailure (InstantiationFailure): Proof step failed:\n",
      "Attempting to instantiate |- forall_{x, A, B | x in A, x not-in B} (x in (A - B)) with {x: a, A: {a, b, c, d, e}, B: {b, c, d}}:\n",
      "Unsatisfied condition: a not-in {b, c, d}\n"
     ]
    }
   ],
   "source": [
    "# We should not be able to conclude() such an DifferenceMembership object,\n",
    "# without knowing the value of a:\n",
    "try:\n",
    "    Difference(Set(a, b, c, d, e), Set(b, c, d)).membership_object(a).conclude()\n",
    "    assert False, \"Expecting a ProofFailure (InstantiationFailure); should not get this far!\"\n",
    "except InstantiationFailure as the_error:\n",
    "    print(\"ProofFailure (InstantiationFailure): {}\".format(the_error))"
   ]
  },
  {
   "cell_type": "code",
   "execution_count": 26,
   "metadata": {},
   "outputs": [
    {
     "data": {
      "text/html": [
       "<a class=\"ProveItLink\" href=\"../__pv_it/demonstrations/dd36e31d017eb71eb46419f24a3127c441bff5210/expr.ipynb\"><img src=\"data:image/png;base64,iVBORw0KGgoAAAANSUhEUgAAAOcAAAAVBAMAAABPgOQBAAAAMFBMVEX///9UVFQyMjK6urru7u4Q\n",
       "EBBERERmZmaqqqoiIiLc3NzMzMyYmJiIiIh2dnYAAABC1PP/AAAAAXRSTlMAQObYZgAAAAlwSFlz\n",
       "AAAOxAAADsQBlSsOGwAAAqlJREFUSMedVj2IE0EUfl72J7ub3SwHgn9wgYhod6hgpewp2F5ALIQD\n",
       "98g1dnrFBeGKFFYWJoUWi+JpoZJCjYXYprvGIoonIhaxELFQ5EwRBDnfzO7szO7sZvUeTPL2zfvm\n",
       "m3nz5s0AZIiJTTkBeWLezDCem4ciCXEPcno/YHt7Mh/9YkUy2XWvkDTEnc7uK4+wjVGxbrM5to70\n",
       "Q+3Z1yb+LkuYjif6xxJbOM4eZJKexeZ0ARZWx5HlMTi/qKJchU4b4JuEIRbuzyS2iLjDmaTrESnY\n",
       "bJADABfDKE5gsZZHyv1LbDXMIuI2Rdz7IKhRpSGRXvZgjiZA6QJU/4G0PEyRijhV2P3j7xiiJpHu\n",
       "B5jrs90b7IJUxM2QMHz/RMYz41DrI4kUZYNF7h7sipTjHBeg19Z9wh+fHzoTvZYktf5E/28O4u+W\n",
       "RLpaQCrgKjj0fVCJy0yMNzDN4NEgSWq4cZiw+3k7fe6XisPLcOUG6JH5ZYDi043G2vKwnoKsxZqK\n",
       "RmWWoJVjBBPg5piz89xfD4I7l4LATY0Q46yfoPqh7TzvxQGsNS8BqUQLtfqgTXBb6qmVvlqZvlIR\n",
       "V2rAYtRvJMOruQnSW2DSPa+OKbgj1bzl6aQirtyFKm4eiY3N/EAbitmr0ImOwPaIpro0TF/+J3vT\n",
       "uIoPmLoOPYJHGZ6kdEjq/AZaSKDXal2nWmUw7ZwS/yQpG0HEkSP543VYFRaaUcysbkS6Z+/2ITBI\n",
       "yd7Y2dkOtVOtZu45pf4JUj6CgDPES/DMlagM3mUrpXIDZC1npfyeGopfKVwvs+BvJkhHIGtFpKXE\n",
       "9ZXCrWeSapiodiP6UOJJcy2sPwnZyr+6UzjTz/ZCszlh+ccfB9xhScJINQrycFrOe+Uptif78t86\n",
       "n2UG81q7+I1EcR8B/gJhiOmQmJIv8AAAAABJRU5ErkJggg==\n",
       "\" style=\"display:inline;vertical-align:middle;\" /></a>"
      ],
      "text/plain": [
       "c in ({1, 2, 3} - {1 + 1, 3})"
      ]
     },
     "execution_count": 26,
     "metadata": {},
     "output_type": "execute_result"
    }
   ],
   "source": [
    "# define a Difference with an unsimplified element (1+1)\n",
    "diff_mem_04 = Difference(Set(one, two, three), Set(Add(one, one), three)).membership_object(c)\n",
    "diff_mem_04.expr"
   ]
  },
  {
   "cell_type": "code",
   "execution_count": 27,
   "metadata": {},
   "outputs": [
    {
     "data": {
      "text/html": [
       "<span style=\"font-size:20px;\"><a class=\"ProveItLink\" href=\"../__pv_it/demonstrations/d4325283cd91a4ef1f313b825f749640890d52d50/expr.ipynb\"><img src=\"data:image/png;base64,iVBORw0KGgoAAAANSUhEUgAAAC4AAAAOBAMAAACiOzMyAAAAMFBMVEX///8yMjJUVFS6urru7u4Q\n",
       "EBBERERmZmaqqqoiIiLc3NzMzMyYmJiIiIh2dnYAAACZiqmYAAAAAXRSTlMAQObYZgAAAAlwSFlz\n",
       "AAAOxAAADsQBlSsOGwAAAFtJREFUGNNjYMACuKdgE2VwKvyCVZyBlyzxt3c2YBNf2cCeAKQqZ4LA\n",
       "JIT4PAbWC1jUs3/Bbj5rAnZxf6gh6ObzH2BgMMBmfgIDH7o7+X4BiXdnrqAJM6l+1AEAEBYjWmGE\n",
       "2EUAAAAASUVORK5CYII=\n",
       "\" style=\"display:inline;vertical-align:middle;\" /></a> <a class=\"ProveItLink\" href=\"../__pv_it/demonstrations/a33ff4b7245d668c4608c649e838738b0a1823c90/proof.ipynb\" style=\"text-decoration: none\">&nbsp;&#x22A2;&nbsp;&nbsp;</a><a class=\"ProveItLink\" href=\"../__pv_it/demonstrations/dd36e31d017eb71eb46419f24a3127c441bff5210/expr.ipynb\"><img src=\"data:image/png;base64,iVBORw0KGgoAAAANSUhEUgAAAOcAAAAVBAMAAABPgOQBAAAAMFBMVEX///9UVFQyMjK6urru7u4Q\n",
       "EBBERERmZmaqqqoiIiLc3NzMzMyYmJiIiIh2dnYAAABC1PP/AAAAAXRSTlMAQObYZgAAAAlwSFlz\n",
       "AAAOxAAADsQBlSsOGwAAAqlJREFUSMedVj2IE0EUfl72J7ub3SwHgn9wgYhod6hgpewp2F5ALIQD\n",
       "98g1dnrFBeGKFFYWJoUWi+JpoZJCjYXYprvGIoonIhaxELFQ5EwRBDnfzO7szO7sZvUeTPL2zfvm\n",
       "m3nz5s0AZIiJTTkBeWLezDCem4ciCXEPcno/YHt7Mh/9YkUy2XWvkDTEnc7uK4+wjVGxbrM5to70\n",
       "Q+3Z1yb+LkuYjif6xxJbOM4eZJKexeZ0ARZWx5HlMTi/qKJchU4b4JuEIRbuzyS2iLjDmaTrESnY\n",
       "bJADABfDKE5gsZZHyv1LbDXMIuI2Rdz7IKhRpSGRXvZgjiZA6QJU/4G0PEyRijhV2P3j7xiiJpHu\n",
       "B5jrs90b7IJUxM2QMHz/RMYz41DrI4kUZYNF7h7sipTjHBeg19Z9wh+fHzoTvZYktf5E/28O4u+W\n",
       "RLpaQCrgKjj0fVCJy0yMNzDN4NEgSWq4cZiw+3k7fe6XisPLcOUG6JH5ZYDi043G2vKwnoKsxZqK\n",
       "RmWWoJVjBBPg5piz89xfD4I7l4LATY0Q46yfoPqh7TzvxQGsNS8BqUQLtfqgTXBb6qmVvlqZvlIR\n",
       "V2rAYtRvJMOruQnSW2DSPa+OKbgj1bzl6aQirtyFKm4eiY3N/EAbitmr0ImOwPaIpro0TF/+J3vT\n",
       "uIoPmLoOPYJHGZ6kdEjq/AZaSKDXal2nWmUw7ZwS/yQpG0HEkSP543VYFRaaUcysbkS6Z+/2ITBI\n",
       "yd7Y2dkOtVOtZu45pf4JUj6CgDPES/DMlagM3mUrpXIDZC1npfyeGopfKVwvs+BvJkhHIGtFpKXE\n",
       "9ZXCrWeSapiodiP6UOJJcy2sPwnZyr+6UzjTz/ZCszlh+ccfB9xhScJINQrycFrOe+Uptif78t86\n",
       "n2UG81q7+I1EcR8B/gJhiOmQmJIv8AAAAABJRU5ErkJggg==\n",
       "\" style=\"display:inline;vertical-align:middle;\" /></a></span>"
      ],
      "text/plain": [
       "{c = 1} |- c in ({1, 2, 3} - {1 + 1, 3})"
      ]
     },
     "execution_count": 27,
     "metadata": {},
     "output_type": "execute_result"
    }
   ],
   "source": [
    "InSet(c, Difference(Set(one, two, three), Set(Add(one, one), three))).prove(\n",
    "    assumptions=[Equals(c, one)])"
   ]
  },
  {
   "cell_type": "code",
   "execution_count": 28,
   "metadata": {},
   "outputs": [
    {
     "data": {
      "text/html": [
       "<span style=\"font-size:20px;\"> <a class=\"ProveItLink\" href=\"../__pv_it/demonstrations/76f4f699732e50411671f4fd60784790eb0fd59e0/proof.ipynb\" style=\"text-decoration: none\">&nbsp;&#x22A2;&nbsp;&nbsp;</a><a class=\"ProveItLink\" href=\"../__pv_it/demonstrations/fa90812342b3f3d2b30e35ae17da0025526a663b0/expr.ipynb\"><img src=\"data:image/png;base64,iVBORw0KGgoAAAANSUhEUgAAAHcAAAAVCAMAAABL24HpAAAAP1BMVEX///9jY2MJCQkdHR0NDQ0W\n",
       "FhZERESqqqq6urqYmJgQEBDc3Nx2dnaIiIgyMjJmZmZUVFTu7u4iIiLMzMwAAACxM/Q2AAAAAXRS\n",
       "TlMAQObYZgAAAAlwSFlzAAAOxAAADsQBlSsOGwAAAXxJREFUSMetle16gyAMhVm38U1IkPu/1lWL\n",
       "TCTU1sqP+oDHvHCaBCFGw7VT0lpcMJxyBwqg7SyApiu4YkK5BpoSce+3M5WrhFXvvu0kzvsoi2Fy\n",
       "iUwYITORYmOrT8XtgXr7hzASisveVRNLBC5SEhyXVWuzW+gkYUZShgNukOn3J8GrXBWOuNrO7h1w\n",
       "NQQSOL1+3mNuyRHzjOvmRCYQV3N1MuIZF+YCM7tQET7kTgFXC4PluX3xCmfNFT4/8tmVZyubbErp\n",
       "+3b/kZWKoPmgMc3D2uWBB1xhyzIhqE5GM86r1qQo6aPzTovFci3gcoxWlrrirT3mNDcvC4Vbe18r\n",
       "C0HouOeey+cqtLjx2a955XNzR4DaFW/L3ak5bpGsDepeHqavX0SbAc22wd66u6dyO3XP/Zekej/o\n",
       "GOu94NOgs5svL+/5OeiTTIGE4Rsur4exgF7XsvfC/2fiDa6T/VrtMW8NYo2IMNikYvaS1QkuiyU7\n",
       "sAdZEyKeIfdx/CPOH6kCGP3BDiGiAAAAAElFTkSuQmCC\n",
       "\" style=\"display:inline;vertical-align:middle;\" /></a></span>"
      ],
      "text/plain": [
       "|- 1 not-in {1 + 1, 3}"
      ]
     },
     "execution_count": 28,
     "metadata": {},
     "output_type": "execute_result"
    }
   ],
   "source": [
    "NotInSet(one, Set(Add(one, one), three)).prove()"
   ]
  },
  {
   "cell_type": "code",
   "execution_count": 29,
   "metadata": {},
   "outputs": [
    {
     "data": {
      "text/html": [
       "<span style=\"font-size:20px;\"><a class=\"ProveItLink\" href=\"../__pv_it/demonstrations/d4325283cd91a4ef1f313b825f749640890d52d50/expr.ipynb\"><img src=\"data:image/png;base64,iVBORw0KGgoAAAANSUhEUgAAAC4AAAAOBAMAAACiOzMyAAAAMFBMVEX///8yMjJUVFS6urru7u4Q\n",
       "EBBERERmZmaqqqoiIiLc3NzMzMyYmJiIiIh2dnYAAACZiqmYAAAAAXRSTlMAQObYZgAAAAlwSFlz\n",
       "AAAOxAAADsQBlSsOGwAAAFtJREFUGNNjYMACuKdgE2VwKvyCVZyBlyzxt3c2YBNf2cCeAKQqZ4LA\n",
       "JIT4PAbWC1jUs3/Bbj5rAnZxf6gh6ObzH2BgMMBmfgIDH7o7+X4BiXdnrqAJM6l+1AEAEBYjWmGE\n",
       "2EUAAAAASUVORK5CYII=\n",
       "\" style=\"display:inline;vertical-align:middle;\" /></a> <a class=\"ProveItLink\" href=\"../__pv_it/demonstrations/a33ff4b7245d668c4608c649e838738b0a1823c90/proof.ipynb\" style=\"text-decoration: none\">&nbsp;&#x22A2;&nbsp;&nbsp;</a><a class=\"ProveItLink\" href=\"../__pv_it/demonstrations/dd36e31d017eb71eb46419f24a3127c441bff5210/expr.ipynb\"><img src=\"data:image/png;base64,iVBORw0KGgoAAAANSUhEUgAAAOcAAAAVBAMAAABPgOQBAAAAMFBMVEX///9UVFQyMjK6urru7u4Q\n",
       "EBBERERmZmaqqqoiIiLc3NzMzMyYmJiIiIh2dnYAAABC1PP/AAAAAXRSTlMAQObYZgAAAAlwSFlz\n",
       "AAAOxAAADsQBlSsOGwAAAqlJREFUSMedVj2IE0EUfl72J7ub3SwHgn9wgYhod6hgpewp2F5ALIQD\n",
       "98g1dnrFBeGKFFYWJoUWi+JpoZJCjYXYprvGIoonIhaxELFQ5EwRBDnfzO7szO7sZvUeTPL2zfvm\n",
       "m3nz5s0AZIiJTTkBeWLezDCem4ciCXEPcno/YHt7Mh/9YkUy2XWvkDTEnc7uK4+wjVGxbrM5to70\n",
       "Q+3Z1yb+LkuYjif6xxJbOM4eZJKexeZ0ARZWx5HlMTi/qKJchU4b4JuEIRbuzyS2iLjDmaTrESnY\n",
       "bJADABfDKE5gsZZHyv1LbDXMIuI2Rdz7IKhRpSGRXvZgjiZA6QJU/4G0PEyRijhV2P3j7xiiJpHu\n",
       "B5jrs90b7IJUxM2QMHz/RMYz41DrI4kUZYNF7h7sipTjHBeg19Z9wh+fHzoTvZYktf5E/28O4u+W\n",
       "RLpaQCrgKjj0fVCJy0yMNzDN4NEgSWq4cZiw+3k7fe6XisPLcOUG6JH5ZYDi043G2vKwnoKsxZqK\n",
       "RmWWoJVjBBPg5piz89xfD4I7l4LATY0Q46yfoPqh7TzvxQGsNS8BqUQLtfqgTXBb6qmVvlqZvlIR\n",
       "V2rAYtRvJMOruQnSW2DSPa+OKbgj1bzl6aQirtyFKm4eiY3N/EAbitmr0ImOwPaIpro0TF/+J3vT\n",
       "uIoPmLoOPYJHGZ6kdEjq/AZaSKDXal2nWmUw7ZwS/yQpG0HEkSP543VYFRaaUcysbkS6Z+/2ITBI\n",
       "yd7Y2dkOtVOtZu45pf4JUj6CgDPES/DMlagM3mUrpXIDZC1npfyeGopfKVwvs+BvJkhHIGtFpKXE\n",
       "9ZXCrWeSapiodiP6UOJJcy2sPwnZyr+6UzjTz/ZCszlh+ccfB9xhScJINQrycFrOe+Uptif78t86\n",
       "n2UG81q7+I1EcR8B/gJhiOmQmJIv8AAAAABJRU5ErkJggg==\n",
       "\" style=\"display:inline;vertical-align:middle;\" /></a></span>"
      ],
      "text/plain": [
       "{c = 1} |- c in ({1, 2, 3} - {1 + 1, 3})"
      ]
     },
     "execution_count": 29,
     "metadata": {},
     "output_type": "execute_result"
    }
   ],
   "source": [
    "diff_mem_04.conclude(assumptions=[Equals(c, one)],\n",
    "                     simplify_with_known_evaluations=True)"
   ]
  },
  {
   "cell_type": "code",
   "execution_count": 30,
   "metadata": {},
   "outputs": [
    {
     "data": {
      "text/html": [
       "<a class=\"ProveItLink\" href=\"../__pv_it/demonstrations/487778cc14823ec1062bdd1227061893513e3f9d0/expr.ipynb\"><img src=\"data:image/png;base64,iVBORw0KGgoAAAANSUhEUgAAAGkAAAAVBAMAAAC3TN2zAAAAMFBMVEX///9ERES6uroQEBAyMjLc\n",
       "3NyYmJgiIiJmZmaqqqp2dnbMzMxUVFSIiIju7u4AAAAd7oVFAAAAAXRSTlMAQObYZgAAAAlwSFlz\n",
       "AAAOxAAADsQBlSsOGwAAAb1JREFUOMt9kj1Iw1AQx/9N29g06SOiICqUrA5+gehoQUQclAiCk+Do\n",
       "IkQQMggiCMWxBXcVwcGpg0MHkYoUEVF0UPALUhAUVFS6i/dejTQxzUGSl//d7+7dvQcEWRwhZjZy\n",
       "3GJjeKBtcdAjPn+1OtipGt0NIGULV2eIIeOV26US2CdSc8HUE7AO3CRzXvnE3AX6gMlgKguUwfSK\n",
       "Tz7VYyYsYN6jptrsJbGgfA4ShTMfVV6IZzgVdepEaeL3TxH9HKirfkor3HEqRo29P7zuiQam3RSJ\n",
       "Lf5ORxw/BT1iEJUsAaup84TFxVHXy3PRHBfwjyqyFQqVM5BN+VsTs/ybcxMv/W/unJJzeepZ6YOK\n",
       "RM2tDtm2vchXUYMfdNIAoy8bs7kVBIULjSj1kwddCorpbk5OMX0K0ExfLbwx2qFEJHpNJvq26neo\n",
       "FSjmw79DqJeUW7FQMY6RFOKj641Q8aJEcz/xUp303BMl69g8XENXbXTuBeKTTcccTOW91Dg/lYw4\n",
       "mZdHJVsLZ0c9Na9qQeofaW6pdnig/SrVYUQ1GfWytP17o5YRajPB8nw4lQ2WI2YYFNeDdaaHUQ1z\n",
       "zoZR18APR1BmYNyTOkgAAAAASUVORK5CYII=\n",
       "\" style=\"display:inline;vertical-align:middle;\" /></a>"
      ],
      "text/plain": [
       "x in (Integer - Natural)"
      ]
     },
     "execution_count": 30,
     "metadata": {},
     "output_type": "execute_result"
    }
   ],
   "source": [
    "# a DifferenceMembership object involving general sets\n",
    "diff_mem_05 = Difference(Integer, Natural).membership_object(x)\n",
    "diff_mem_05.expr"
   ]
  },
  {
   "cell_type": "code",
   "execution_count": 31,
   "metadata": {},
   "outputs": [
    {
     "data": {
      "text/html": [
       "<span style=\"font-size:20px;\"><a class=\"ProveItLink\" href=\"../__pv_it/demonstrations/e7ea3ade6561bbbb858c02aa3be91f7305b5ebb50/expr.ipynb\"><img src=\"data:image/png;base64,iVBORw0KGgoAAAANSUhEUgAAADMAAAAQBAMAAABJt1qBAAAAMFBMVEX///9ERES6uroQEBAyMjLc\n",
       "3NyYmJgiIiJmZmaqqqp2dnbMzMxUVFSIiIju7u4AAAAd7oVFAAAAAXRSTlMAQObYZgAAAAlwSFlz\n",
       "AAAOxAAADsQBlSsOGwAAAN1JREFUGNNjYMAEU+xNxAvNGLCBi6cZWBgcsEp1MDBc45qAVeooA5/A\n",
       "Q1QhXvHyEhD9gIFjw2kUGSbfBzDmHu4GEPX2zutVYIND4DIMcoxgdgPvWY4CEMMVLsO5IBdEsQWw\n",
       "/eNJALEQzoU6nZuBAyLGbV5eXl4IZt7kUmDgAzGYL4D5fAIwTXwCgQwMPAFAln4AH9jSApgUz4aj\n",
       "DAzvGRgeKhxm4AKL3IVJ7WACOv04A8P8fc0MmhDLYWEjx/KAIXAiA8OLu5xtEDG+g3oQrxs6Cwp/\n",
       "lkINjoWQgIICAM0UMqoFj6RNAAAAAElFTkSuQmCC\n",
       "\" style=\"display:inline;vertical-align:middle;\" /></a>, <a class=\"ProveItLink\" href=\"../__pv_it/demonstrations/708b831dbae9f1c71ee46eb55ae372e06f5017b20/expr.ipynb\"><img src=\"data:image/png;base64,iVBORw0KGgoAAAANSUhEUgAAADQAAAAVCAMAAAA+Vj1KAAAARVBMVEX///8/Pz9vb28YGBgJCQkd\n",
       "HR0NDQ0WFhZERES6uroQEBAyMjLc3NyYmJgiIiJmZmaqqqp2dnbMzMxUVFSIiIju7u4AAAAQwmFf\n",
       "AAAAAXRSTlMAQObYZgAAAAlwSFlzAAAOxAAADsQBlSsOGwAAAQ1JREFUOMudk0mWxSAIRake+wZx\n",
       "/0stNPmJOvBUhZEaLzweBmATFh6E4XPBviL2XdJVqx2T6V5jBNW3XPeFwpCSvIXk2krvIT+sKaLI\n",
       "tcvpHAW9//k2A2RdAWs2kDJFmqY8VrJtX9IL4lKIc0rxcrr7xAZmCEQgqhMKooYKhKtulw4iZ4Fy\n",
       "EO+5X3OydZWB3AXNQ7ogcBEidvea8jBKydpLfH16jwsEJLkvy/Uohfvdu8UBYgJ+daGqHDFP81mc\n",
       "PSDIpdkhedVRMt1DkroqzBCe/pfcoFgzB4HUIMfEeUjH0fm2WvscJHEMbmyBCT8m77Kp+nRlHt8U\n",
       "72/yjrx5+Cf9Iyw++GWXIf0taP/5FzmLDVOn7UEqAAAAAElFTkSuQmCC\n",
       "\" style=\"display:inline;vertical-align:middle;\" /></a> <a class=\"ProveItLink\" href=\"../__pv_it/demonstrations/148d92006a3cb24cd52396e12a89f2fb0264fdad0/proof.ipynb\" style=\"text-decoration: none\">&nbsp;&#x22A2;&nbsp;&nbsp;</a><a class=\"ProveItLink\" href=\"../__pv_it/demonstrations/487778cc14823ec1062bdd1227061893513e3f9d0/expr.ipynb\"><img src=\"data:image/png;base64,iVBORw0KGgoAAAANSUhEUgAAAGkAAAAVBAMAAAC3TN2zAAAAMFBMVEX///9ERES6uroQEBAyMjLc\n",
       "3NyYmJgiIiJmZmaqqqp2dnbMzMxUVFSIiIju7u4AAAAd7oVFAAAAAXRSTlMAQObYZgAAAAlwSFlz\n",
       "AAAOxAAADsQBlSsOGwAAAb1JREFUOMt9kj1Iw1AQx/9N29g06SOiICqUrA5+gehoQUQclAiCk+Do\n",
       "IkQQMggiCMWxBXcVwcGpg0MHkYoUEVF0UPALUhAUVFS6i/dejTQxzUGSl//d7+7dvQcEWRwhZjZy\n",
       "3GJjeKBtcdAjPn+1OtipGt0NIGULV2eIIeOV26US2CdSc8HUE7AO3CRzXvnE3AX6gMlgKguUwfSK\n",
       "Tz7VYyYsYN6jptrsJbGgfA4ShTMfVV6IZzgVdepEaeL3TxH9HKirfkor3HEqRo29P7zuiQam3RSJ\n",
       "Lf5ORxw/BT1iEJUsAaup84TFxVHXy3PRHBfwjyqyFQqVM5BN+VsTs/ybcxMv/W/unJJzeepZ6YOK\n",
       "RM2tDtm2vchXUYMfdNIAoy8bs7kVBIULjSj1kwddCorpbk5OMX0K0ExfLbwx2qFEJHpNJvq26neo\n",
       "FSjmw79DqJeUW7FQMY6RFOKj641Q8aJEcz/xUp303BMl69g8XENXbXTuBeKTTcccTOW91Dg/lYw4\n",
       "mZdHJVsLZ0c9Na9qQeofaW6pdnig/SrVYUQ1GfWytP17o5YRajPB8nw4lQ2WI2YYFNeDdaaHUQ1z\n",
       "zoZR18APR1BmYNyTOkgAAAAASUVORK5CYII=\n",
       "\" style=\"display:inline;vertical-align:middle;\" /></a></span>"
      ],
      "text/plain": [
       "{x in Integer, x not-in Natural} |- x in (Integer - Natural)"
      ]
     },
     "execution_count": 31,
     "metadata": {},
     "output_type": "execute_result"
    }
   ],
   "source": [
    "diff_mem_05.conclude(assumptions=[InSet(x, Integer), NotInSet(x, Natural)])"
   ]
  },
  {
   "cell_type": "markdown",
   "metadata": {},
   "source": [
    "###  `DifferenceMembership.conclude_as_folded()`\n",
    "\n",
    "Currently, DifferenceMembership.conclude() simply calls DifferenceMembership.conclude_as_folded(), so the examples that work for conclude() should all work for conclude_as_folded()."
   ]
  },
  {
   "cell_type": "code",
   "execution_count": 32,
   "metadata": {},
   "outputs": [
    {
     "data": {
      "text/html": [
       "<a class=\"ProveItLink\" href=\"../__pv_it/demonstrations/a317ab80cd44dfafd4d70afb1e9c805a43afb23e0/expr.ipynb\"><img src=\"data:image/png;base64,iVBORw0KGgoAAAANSUhEUgAAAPsAAAAVBAMAAAByEoVnAAAAMFBMVEX///+YmJhERESIiIhUVFTc\n",
       "3NwiIiJ2dnbu7u66urqqqqpmZmYQEBAyMjLMzMwAAAA7oY0NAAAAAXRSTlMAQObYZgAAAAlwSFlz\n",
       "AAAOxAAADsQBlSsOGwAAAz9JREFUSMeVVktoE1EUvU06nZdPkxaXBQ0ooig4WqXFT4l2USgUAoYK\n",
       "KthVLAoSiVRELYN2pzIBwQ8ozabizrQLd9Ja0Y2bLETa6iIL3Sm2FLEGKt73mZn35pOSBxPO3HM/\n",
       "7913750ABC0NH/IUWljajF/WxMPZHP7kwtij+Jx40kp4+LbHJ2riIXXKBHgo8NeqSsaL+GzIkjsf\n",
       "Anz8/Ci/7fLSqgeyf0x+jWQBol0cpyuq4QN8dEUbvgSdoSG/THhZj4fOqo9c4njaVA1n/caNgOix\n",
       "jVbCq2dkZI9ieahQqDGw4DNWIwX63yq8ekZGJk0ps8/77Uur+Yw9roLSuVX4CT/ZiZevDQ2wzGpL\n",
       "NpUo2ny+dFpEGjwscqf3bucgX/olRKR0zAwL73iAT73DApUO1jmpY/09y0VYZjudNqSbggSmIPYe\n",
       "DvD8WEvkN+/vSzDHr8Ph4FE9hRs+7g2veiCbpsUjjFYSGYjSC26rAXnL9DCoY9dBT3Ue93C/C15z\n",
       "0SsT3nGuKAByb8TEWYNoGeCCp308HrANkwZDFynQaMbjC5BYpS5x/SjgylCURGf5ZQTzVJctjPSH\n",
       "gXm7gFwust57gx5vBOOTz9RLoQ4+D3jGNIuT4FU8tYIDZxWSGbDKbLI426bhU3MYZxHIXxA7jvHW\n",
       "W7SVXC6d5Ve97Blsqgc84zTLT5IdEW5jkNgCWAbs4LyafBxLZB3aVu2255tGkSg3l0sb9v2oS/WA\n",
       "bc8zZxnOSIyPgVWBkTitiajh2Bm8bkkD2mszQI3+0VukYA33TIHE0bvDDd8KqHxJK13HKiMUYEmU\n",
       "QWell8FY8csJpr7i2GVF2+yEF9Uq2cS3k7APGMCyn2TA5bB+7+VCGs/Vau+KVMHCIsey10XjYYeT\n",
       "wcn8AC+GvSJ9qTFhPNX3fbAOBRRP3cQ9U6Bf3WZyicNBX7cRNnZcLTKEo7xjHOXXu/vFUOgoy/qP\n",
       "d4uhe0WZWXEzFEio2dRztV4q5Gjw17hHMdbDgYSahXe1igo5Gxw+glfJxhJbd8OBhOwh5K4AD8SQ\n",
       "R6KWCQ5PUK45n1gjHEgI69r7/8vvIeqQ2EjslIGLfibODbf0X+9axSdr4uEMpY4A/AcllPE1eXdq\n",
       "wQAAAABJRU5ErkJggg==\n",
       "\" style=\"display:inline;vertical-align:middle;\" /></a>"
      ],
      "text/plain": [
       "d in ({a, b, c, d, e} - {a, b, c})"
      ]
     },
     "execution_count": 32,
     "metadata": {},
     "output_type": "execute_result"
    }
   ],
   "source": [
    "diff_mem_01.expr"
   ]
  },
  {
   "cell_type": "code",
   "execution_count": 33,
   "metadata": {},
   "outputs": [
    {
     "data": {
      "text/html": [
       "<span style=\"font-size:20px;\"><a class=\"ProveItLink\" href=\"../__pv_it/demonstrations/3f876de628b73f4a5d605811b37b8a18f7b239a10/expr.ipynb\"><img src=\"data:image/png;base64,iVBORw0KGgoAAAANSUhEUgAAAI4AAAAVBAMAAABicsu7AAAAMFBMVEX///+YmJhERESIiIhUVFTc\n",
       "3NwiIiJ2dnbu7u66urqqqqpmZmYQEBAyMjLMzMwAAAA7oY0NAAAAAXRSTlMAQObYZgAAAAlwSFlz\n",
       "AAAOxAAADsQBlSsOGwAAAf9JREFUOMtjYMAGOicwkACiAnBIMN9sIMUcPieIcr47G1Al1qMY03QM\n",
       "i963p5E4TA4Qmn8BqqIyVO5tbI74hcRmT4DQ8xvwmvMLizGcP7CYA9VnlJZ2AYs5KFrQtaJwIA6f\n",
       "a4HdPShaYIB3A7oKVnc7sMNZb6D6K6Q4GKrF2QQafuzGchBGSPF7qFC78Q6oOXMCmMAO50Wkgr0g\n",
       "3xxl0IcEW/8Njq9gBmsWwyaIT+FynHkMz4Hp5AADA8dBBm5wqPDCjWE9CCR6BBi2wVPBYTCDrQDK\n",
       "AMrthcjFCzBYAjUAPcT9ASQPBG/SgEABZIwvKDXvZ2BIh7vuO5ixHxatCDl9Y3OQ4pZbDDwKDP3g\n",
       "XNAEd89rDSBxiIHjJ4SbzsAJiflDMAUIuS8QqnYCQ78BgzzE1YjwVwF69zMD4wdY8uEGByBQCAKQ\n",
       "5CBCXED5/gUMvlygIGY2QI4vjl8MLBeWMoB88g8UHiDGR2C4ghhIckDvcQHjCxjOTAZc2dxg3bdQ\n",
       "4l2ZYdmGDRx/gSxHBm0GMAMYWXVgBkJOloFjKyTeOZzrQuzAuls0G5DMaTF/6vyAIQ0o1FItwABm\n",
       "sBcKN0BE4HLMhcKYKXW6Gka+4GrAyUBiYU3xKOaw42Ygs3CYYwNnNeNmILEgCRkTxMPLIwPcDCQW\n",
       "MD6xAtYtC0gpV8O9GBgACjKQ7WzUxBUAAAAASUVORK5CYII=\n",
       "\" style=\"display:inline;vertical-align:middle;\" /></a>, <a class=\"ProveItLink\" href=\"../__pv_it/demonstrations/5ed6ff1f275a688706bb98fe6a95af8aa7fbe06c0/expr.ipynb\"><img src=\"data:image/png;base64,iVBORw0KGgoAAAANSUhEUgAAAGYAAAAVCAMAAACDt2s/AAAAP1BMVEX///9jY2MJCQkdHR0NDQ0W\n",
       "FhaYmJhERESIiIhUVFTc3NwiIiJ2dnbu7u66urqqqqpmZmYQEBAyMjLMzMwAAAAry7kzAAAAAXRS\n",
       "TlMAQObYZgAAAAlwSFlzAAAOxAAADsQBlSsOGwAAAaBJREFUSMeVVlmyhCAM5G0SCGG//1kfiktA\n",
       "UYePqSI0aRo6cYQYDt3NyVrx6dBOP0EiNVOIlj6mEUlJvivF4HtAM3V5SEIy4JhItnmya5d9e0UG\n",
       "74T78Vq70fanRfGepj/ieGMzA4l/vxjf0thMb2mYbhuBhErv1dwq3Re1MpAO3Xq2GMU7tIb2aRSA\n",
       "6u7NAEyJb7SheFseuuNs9Qk6Gh+v0bPTcjkYZV4hGgurl8sDhAoKE8sy01wUjdALakfj2euBHwzN\n",
       "HtH1nnze47VeAiL+fJcfeZCouNq7Rx9CM4t5rpZULERBLrrtUWzzhXY3nfxazD16J7Xc1EHyV5qP\n",
       "SHmWNuW2YHBQzGf0VjVcQEU1V0oLSEWxNzkAYf3Alw16y5vT9mZ7pD7kotlUC8jC7NCLI3N0fdEc\n",
       "vmToYrC6pEpS6QWLVI8ZbmhSYJJWkNibfZ+b8QUakdaY8fX4W0QYM01AD7U7fRlZnPbYbBw9R25o\n",
       "Ir1rKOZFZEyj5UVwLebmOwPPkabwO/6rtq7Pzf6c84KF1vZxHupao1fu8/8Cpm76B0FQFVjKa2+C\n",
       "AAAAAElFTkSuQmCC\n",
       "\" style=\"display:inline;vertical-align:middle;\" /></a> <a class=\"ProveItLink\" href=\"../__pv_it/demonstrations/371903694371cb10f51d15b88eeed0077c1cdece0/proof.ipynb\" style=\"text-decoration: none\">&nbsp;&#x22A2;&nbsp;&nbsp;</a><a class=\"ProveItLink\" href=\"../__pv_it/demonstrations/a317ab80cd44dfafd4d70afb1e9c805a43afb23e0/expr.ipynb\"><img src=\"data:image/png;base64,iVBORw0KGgoAAAANSUhEUgAAAPsAAAAVBAMAAAByEoVnAAAAMFBMVEX///+YmJhERESIiIhUVFTc\n",
       "3NwiIiJ2dnbu7u66urqqqqpmZmYQEBAyMjLMzMwAAAA7oY0NAAAAAXRSTlMAQObYZgAAAAlwSFlz\n",
       "AAAOxAAADsQBlSsOGwAAAz9JREFUSMeVVktoE1EUvU06nZdPkxaXBQ0ooig4WqXFT4l2USgUAoYK\n",
       "KthVLAoSiVRELYN2pzIBwQ8ozabizrQLd9Ja0Y2bLETa6iIL3Sm2FLEGKt73mZn35pOSBxPO3HM/\n",
       "7913750ABC0NH/IUWljajF/WxMPZHP7kwtij+Jx40kp4+LbHJ2riIXXKBHgo8NeqSsaL+GzIkjsf\n",
       "Anz8/Ci/7fLSqgeyf0x+jWQBol0cpyuq4QN8dEUbvgSdoSG/THhZj4fOqo9c4njaVA1n/caNgOix\n",
       "jVbCq2dkZI9ieahQqDGw4DNWIwX63yq8ekZGJk0ps8/77Uur+Yw9roLSuVX4CT/ZiZevDQ2wzGpL\n",
       "NpUo2ny+dFpEGjwscqf3bucgX/olRKR0zAwL73iAT73DApUO1jmpY/09y0VYZjudNqSbggSmIPYe\n",
       "DvD8WEvkN+/vSzDHr8Ph4FE9hRs+7g2veiCbpsUjjFYSGYjSC26rAXnL9DCoY9dBT3Ue93C/C15z\n",
       "0SsT3nGuKAByb8TEWYNoGeCCp308HrANkwZDFynQaMbjC5BYpS5x/SjgylCURGf5ZQTzVJctjPSH\n",
       "gXm7gFwust57gx5vBOOTz9RLoQ4+D3jGNIuT4FU8tYIDZxWSGbDKbLI426bhU3MYZxHIXxA7jvHW\n",
       "W7SVXC6d5Ve97Blsqgc84zTLT5IdEW5jkNgCWAbs4LyafBxLZB3aVu2255tGkSg3l0sb9v2oS/WA\n",
       "bc8zZxnOSIyPgVWBkTitiajh2Bm8bkkD2mszQI3+0VukYA33TIHE0bvDDd8KqHxJK13HKiMUYEmU\n",
       "QWell8FY8csJpr7i2GVF2+yEF9Uq2cS3k7APGMCyn2TA5bB+7+VCGs/Vau+KVMHCIsey10XjYYeT\n",
       "wcn8AC+GvSJ9qTFhPNX3fbAOBRRP3cQ9U6Bf3WZyicNBX7cRNnZcLTKEo7xjHOXXu/vFUOgoy/qP\n",
       "d4uhe0WZWXEzFEio2dRztV4q5Gjw17hHMdbDgYSahXe1igo5Gxw+glfJxhJbd8OBhOwh5K4AD8SQ\n",
       "R6KWCQ5PUK45n1gjHEgI69r7/8vvIeqQ2EjslIGLfibODbf0X+9axSdr4uEMpY4A/AcllPE1eXdq\n",
       "wQAAAABJRU5ErkJggg==\n",
       "\" style=\"display:inline;vertical-align:middle;\" /></a></span>"
      ],
      "text/plain": [
       "{d in {a, b, c, d, e}, d not-in {a, b, c}} |- d in ({a, b, c, d, e} - {a, b, c})"
      ]
     },
     "execution_count": 33,
     "metadata": {},
     "output_type": "execute_result"
    }
   ],
   "source": [
    "# using explicit assumptions about set membership and set non-membership\n",
    "diff_mem_01.conclude_as_folded(assumptions=[InSet(d, set_abcde), NotInSet(d, set_abc)])"
   ]
  },
  {
   "cell_type": "code",
   "execution_count": 34,
   "metadata": {},
   "outputs": [
    {
     "data": {
      "text/html": [
       "<span style=\"font-size:20px;\"><a class=\"ProveItLink\" href=\"../__pv_it/demonstrations/31febd52234b043aa6524a8d3a32fcca3e2bead20/expr.ipynb\"><img src=\"data:image/png;base64,iVBORw0KGgoAAAANSUhEUgAAADEAAAAUCAMAAAATIyWrAAAAPFBMVEX///8NDQ0WFhYLCwsYGBiY\n",
       "mJhERESIiIhUVFTc3NwiIiJ2dnbu7u66urqqqqpmZmYQEBAyMjLMzMwAAADYQ0HGAAAAAXRSTlMA\n",
       "QObYZgAAAAlwSFlzAAAOxAAADsQBlSsOGwAAALZJREFUKM+Vk90OwyAIhd26+ktV9P3fddU2G5ZI\n",
       "IhdeyIHDJ1EpKRLMcwVz4pda7Fcju9JFKjgqm6BY0SJ4buHECmQYx9zC2WAKx0DHVM5cvfKZ0n+M\n",
       "5Ht8tnb+fIgK8t5kKFvcqg6bajt9eFKMXFSV25qgHjIFUUFtNHsl7dr879dFc3NQFfRHsqji0BTH\n",
       "fQ4qfVZHn9Qwd3xuh6rAmlCcNUWwmKioRVCLgbBYsC9b+FULJX6kLyNACIkHGf2uAAAAAElFTkSu\n",
       "QmCC\n",
       "\" style=\"display:inline;vertical-align:middle;\" /></a>, <a class=\"ProveItLink\" href=\"../__pv_it/demonstrations/cbb871ed1e68cd311943cffb45d90655c4ca25770/expr.ipynb\"><img src=\"data:image/png;base64,iVBORw0KGgoAAAANSUhEUgAAAC8AAAAUCAMAAAAqRJTwAAAAPFBMVEX///8NDQ0WFhYLCwsYGBiY\n",
       "mJhERESIiIhUVFTc3NwiIiJ2dnbu7u66urqqqqpmZmYQEBAyMjLMzMwAAADYQ0HGAAAAAXRSTlMA\n",
       "QObYZgAAAAlwSFlzAAAOxAAADsQBlSsOGwAAAM1JREFUKM+VkusOBBEMhe1lKOrWvv+7bpns7hgh\n",
       "0R+ievKdFkqtIuGsQiWn8VD/tqiz64scB72mS1J6XuDBm2DB827E2wWvDO0HmPAseENj+8V2GRgD\n",
       "TROyFPTfLrkW71ddvx7IBWURJeajisoaHxsvG1FyzZ2/d9/Pc/JYVFk3u7DEn7wgQyKLhzr4gqp9\n",
       "Px/nFHC9/cR1hrqDomJ/HbfXY/pOqoUfXVJdv/H+GiBS3Q4RjCcLhlZ4Ufl0TP9x9GorCm7Jj028\n",
       "28Mrmpc+n3sJFp8grOMAAAAASUVORK5CYII=\n",
       "\" style=\"display:inline;vertical-align:middle;\" /></a>, <a class=\"ProveItLink\" href=\"../__pv_it/demonstrations/e0983d269696d2d341411d64e235d13f5e86a7bc0/expr.ipynb\"><img src=\"data:image/png;base64,iVBORw0KGgoAAAANSUhEUgAAAC8AAAAUCAMAAAAqRJTwAAAAPFBMVEX///8NDQ0WFhYLCwsYGBiY\n",
       "mJhERESIiIhUVFTc3NwiIiJ2dnbu7u66urqqqqpmZmYQEBAyMjLMzMwAAADYQ0HGAAAAAXRSTlMA\n",
       "QObYZgAAAAlwSFlzAAAOxAAADsQBlSsOGwAAAMdJREFUKM+Vk+sShCAIhd2LoeKd93/XxZptM0d2\n",
       "5IdTevo4QColRfKzk1pyGjc3gUVx2NrqXB5oyF2NgEc34q2gL4P9MMNbg1BH++WGRwDdCgqZD7af\n",
       "/eT2eL/aeuawjoGJG+azbqLyB++QlwyspPO1c9/Xk878uQ3FU5Dx+Ts6T5xDabqgmu/n46jCXFXH\n",
       "U2uMKSp2wHKbHunDJXeGv4wuqc5vvE8j7X6Q++kNYLUGqoRnKWoNs981olqK4pfkehHv1vBKuCYf\n",
       "DfQHnnlIY6EAAAAASUVORK5CYII=\n",
       "\" style=\"display:inline;vertical-align:middle;\" /></a> <a class=\"ProveItLink\" href=\"../__pv_it/demonstrations/c0a8ab9567f3d7203b2a262bc5ae02f4a9d5fd850/proof.ipynb\" style=\"text-decoration: none\">&nbsp;&#x22A2;&nbsp;&nbsp;</a><a class=\"ProveItLink\" href=\"../__pv_it/demonstrations/a317ab80cd44dfafd4d70afb1e9c805a43afb23e0/expr.ipynb\"><img src=\"data:image/png;base64,iVBORw0KGgoAAAANSUhEUgAAAPsAAAAVBAMAAAByEoVnAAAAMFBMVEX///+YmJhERESIiIhUVFTc\n",
       "3NwiIiJ2dnbu7u66urqqqqpmZmYQEBAyMjLMzMwAAAA7oY0NAAAAAXRSTlMAQObYZgAAAAlwSFlz\n",
       "AAAOxAAADsQBlSsOGwAAAz9JREFUSMeVVktoE1EUvU06nZdPkxaXBQ0ooig4WqXFT4l2USgUAoYK\n",
       "KthVLAoSiVRELYN2pzIBwQ8ozabizrQLd9Ja0Y2bLETa6iIL3Sm2FLEGKt73mZn35pOSBxPO3HM/\n",
       "7913750ABC0NH/IUWljajF/WxMPZHP7kwtij+Jx40kp4+LbHJ2riIXXKBHgo8NeqSsaL+GzIkjsf\n",
       "Anz8/Ci/7fLSqgeyf0x+jWQBol0cpyuq4QN8dEUbvgSdoSG/THhZj4fOqo9c4njaVA1n/caNgOix\n",
       "jVbCq2dkZI9ieahQqDGw4DNWIwX63yq8ekZGJk0ps8/77Uur+Yw9roLSuVX4CT/ZiZevDQ2wzGpL\n",
       "NpUo2ny+dFpEGjwscqf3bucgX/olRKR0zAwL73iAT73DApUO1jmpY/09y0VYZjudNqSbggSmIPYe\n",
       "DvD8WEvkN+/vSzDHr8Ph4FE9hRs+7g2veiCbpsUjjFYSGYjSC26rAXnL9DCoY9dBT3Ue93C/C15z\n",
       "0SsT3nGuKAByb8TEWYNoGeCCp308HrANkwZDFynQaMbjC5BYpS5x/SjgylCURGf5ZQTzVJctjPSH\n",
       "gXm7gFwust57gx5vBOOTz9RLoQ4+D3jGNIuT4FU8tYIDZxWSGbDKbLI426bhU3MYZxHIXxA7jvHW\n",
       "W7SVXC6d5Ve97Blsqgc84zTLT5IdEW5jkNgCWAbs4LyafBxLZB3aVu2255tGkSg3l0sb9v2oS/WA\n",
       "bc8zZxnOSIyPgVWBkTitiajh2Bm8bkkD2mszQI3+0VukYA33TIHE0bvDDd8KqHxJK13HKiMUYEmU\n",
       "QWell8FY8csJpr7i2GVF2+yEF9Uq2cS3k7APGMCyn2TA5bB+7+VCGs/Vau+KVMHCIsey10XjYYeT\n",
       "wcn8AC+GvSJ9qTFhPNX3fbAOBRRP3cQ9U6Bf3WZyicNBX7cRNnZcLTKEo7xjHOXXu/vFUOgoy/qP\n",
       "d4uhe0WZWXEzFEio2dRztV4q5Gjw17hHMdbDgYSahXe1igo5Gxw+glfJxhJbd8OBhOwh5K4AD8SQ\n",
       "R6KWCQ5PUK45n1gjHEgI69r7/8vvIeqQ2EjslIGLfibODbf0X+9axSdr4uEMpY4A/AcllPE1eXdq\n",
       "wQAAAABJRU5ErkJggg==\n",
       "\" style=\"display:inline;vertical-align:middle;\" /></a></span>"
      ],
      "text/plain": [
       "{d != a, d != b, d != c} |- d in ({a, b, c, d, e} - {a, b, c})"
      ]
     },
     "execution_count": 34,
     "metadata": {},
     "output_type": "execute_result"
    }
   ],
   "source": [
    "# using less explicit assumptions about set membership/nonmembership\n",
    "diff_mem_01.conclude_as_folded(assumptions=[NotEquals(d, a), NotEquals(d, b), NotEquals(d, c)])"
   ]
  },
  {
   "cell_type": "code",
   "execution_count": 35,
   "metadata": {},
   "outputs": [
    {
     "data": {
      "text/html": [
       "<a class=\"ProveItLink\" href=\"../__pv_it/demonstrations/2df236663a8b5f5c3c7c599dc1e17967952a9def0/expr.ipynb\"><img src=\"data:image/png;base64,iVBORw0KGgoAAAANSUhEUgAAAP4AAAAVBAMAAACUO04jAAAAMFBMVEX///+qqqqYmJiIiIgiIiLu\n",
       "7u4QEBBUVFS6urp2dnbMzMxEREQyMjJmZmbc3NwAAADzFso2AAAAAXRSTlMAQObYZgAAAAlwSFlz\n",
       "AAAOxAAADsQBlSsOGwAAA2xJREFUSMeVlk1oE0EUx1+brOmmyZKDCl409OJBhSi0IArmEK0UpAHB\n",
       "ClZaCuoxbRWDWm0OWhU85KAWQWhRURSKOVgqHjQVpAUFiyhF0sBqRZFSWz8qosX45u3M7s7upjYD\n",
       "u/uY/c/7zZt583YBPJqGl3IBKmnaWo/O/Zmy+nc653i1zXhtP7ds9iAoOtwZdvX7xpNlxwRP4bua\n",
       "GM6h+HzQ8a4qi9cCE+0U0Zki7VrBDGqIP1MvEuhsxMVYx/C3xBxmpx7ZXdR2orkFYAbUX45xrXip\n",
       "cYCWqQXeY4kOQtVXoWvkz10/ruD9souPPcrpl5yv5WAgY3PBABBKwhmAw45xrzgffIJviXZElEWx\n",
       "vILfKWhuPg7g/IAOK9ptLghQPQGpJPTq1L8tkciT0e7iW6K+DAj+jbFK+CsWIPDX5oIAcAiOAfTS\n",
       "3l6qF9ufd/FNEXv9jRvZiviBOAR+21wY/Kfs1kz780wMC2ddfCFi7WyUL78u+N1bT/6fj80/b3Nh\n",
       "8PtZln9nVkgXshADhPMy3xBhu5nmC/EeBH8Y5jCzGlz8KQf/fszmwkfJsJFNi9YvZE0zgrePUZlv\n",
       "iGjxeP5nTT4eJgxmLuIsSR0OfqPdhUZuVuNVoL7bCWw5yhQM5tM4yPyC5TdFHqt1Gz+MmaX0sAm0\n",
       "MjeJJobvycj8cE5y0TLKlgQdGZEdMF8yfrCQlPjVIvx7AE8o0GkQ/No8hDGz1HFH/EPDMn+97OI6\n",
       "m14fwBrQ2Nb75fWn8mTxuQiglOT88+n0zxPGfDGz53m1k9qIxMeq+sXmggosrIRgFnwUa8zczJg9\n",
       "/xXKPiYi6whbPMUQos1GqjgFXNqr5fOfpnAXoJ4scgEq5d8G+FAsvib1qBimdgq+itvaxg4Ciciq\n",
       "Y4e3zahTf4BqoTYBDcmy529A56o9xWKcrDrb+X8LzaWSUdBaHvKVCsY5P3B8sRv87BtEIrJqivjx\n",
       "IAsKpaPAPjwwO/mm7PlPp8aipPKXSqU8WeSC83fb5Bcf8PrbJOKntgqWsKqScrTu+GWVZRFAi3t9\n",
       "mzdJ/CwsYamwHL6lslkMEI568Wt1UZ7Yf5CZl17WXke1k1qDW2VZVGBnPP9NlJwoT+wMWL8zHlbM\n",
       "GtTh8mNWxJiHfh8L/bH3z9E0S6quyv7/+iPuvslIWf3nLvqEwT9WKAnvm4tUaQAAAABJRU5ErkJg\n",
       "gg==\n",
       "\" style=\"display:inline;vertical-align:middle;\" /></a>"
      ],
      "text/plain": [
       "2 in ({1, 2, 3, 4, 5} - {1, 2, 3})"
      ]
     },
     "execution_count": 35,
     "metadata": {},
     "output_type": "execute_result"
    }
   ],
   "source": [
    "# Recall the False IntersectMembership object:\n",
    "diff_mem_02.expr"
   ]
  },
  {
   "cell_type": "code",
   "execution_count": 36,
   "metadata": {},
   "outputs": [
    {
     "name": "stdout",
     "output_type": "stream",
     "text": [
      "ProofFailure (InstantiationFailure): Proof step failed:\n",
      "Attempting to instantiate |- forall_{x, A, B | x in A, x not-in B} (x in (A - B)) with {x: 2, A: {1, 2, 3, 4, 5}, B: {1, 2, 3}}:\n",
      "Unsatisfied condition: 2 not-in {1, 2, 3}\n"
     ]
    }
   ],
   "source": [
    "# We should not be able to conclude() such a False IntersectMembership object:\n",
    "try:\n",
    "    diff_mem_02.conclude_as_folded()\n",
    "    assert False, \"Expecting a ProofFailure (InstantiationFailure); should not get this far!\"\n",
    "except InstantiationFailure as the_error:\n",
    "    print(\"ProofFailure (InstantiationFailure): {}\".format(the_error))"
   ]
  },
  {
   "cell_type": "code",
   "execution_count": 37,
   "metadata": {},
   "outputs": [
    {
     "data": {
      "text/html": [
       "<a class=\"ProveItLink\" href=\"../__pv_it/demonstrations/8d310dbf7c39f4aa7b2bba4e0407c934eb318fb90/expr.ipynb\"><img src=\"data:image/png;base64,iVBORw0KGgoAAAANSUhEUgAAAP4AAAAVBAMAAACUO04jAAAAMFBMVEX///9UVFQyMjK6urru7u4Q\n",
       "EBBERERmZmaqqqoiIiLc3NzMzMyYmJiIiIh2dnYAAABC1PP/AAAAAXRSTlMAQObYZgAAAAlwSFlz\n",
       "AAAOxAAADsQBlSsOGwAAA39JREFUSMeVll9IU1Ecx39zm3N33umC0v6ACyMUgkYl0UtMooIgnGhB\n",
       "EGjZi0ZoPjh6qRH20IsuCmoQuh7S7MH2EiFR3nzoIQxWWFAIzl6ih7TWHqQ/rN8553fPdnfvnDtw\n",
       "tx/n9z2/z7nn/M7vXACLFsfnSADKaY/i5j7H/hJ6xdqnRvBpDG4U7QE4AZ4tZv37A+sMYnp70tI3\n",
       "gs8oC+e5Qz2TgxfJmv7aI0MMiH9nuhl1lbWFYaoy7HeG5qWEdyfIWhkKkH7RCu/w4883fFoHMzSi\n",
       "G1bFdjgGYDRCOjcR3V1jyPBGC+OwHkfdXuJPgPeXsI5D1RrpK6wW2aURH1Ti2+LgDImtWYM2P+k+\n",
       "Ed8maWY+wBIhtgGcEtZSxJEmb/VAnv5jLMZDO6GQ78yA7Te37B1QQ3zPXFn8riA0iBxtCYDOh86c\n",
       "fN8CGddNfFsUbH903ahG4SvK4m8FaEjomfFX9+7B5/si61d26eOumvhsk3+QYb9PxmfJf7ucKM3H\n",
       "Nq4bhzTduwwwFXF1s1SQB5jNCQYL+LN0VDzvtlNOajq/MqhgZqkhUx75jXzPPzJe+BK6fg5gDJws\n",
       "doUcd49FP1vAvyUtyn8vVOROXC+OWCvkP9SMfLfUs/wX+hvgIsbTGDa2ENCBzk0BI58vkUxG1t7k\n",
       "86/h4rU2sfPZzMLE2IY+aAQjfyg3NUxGoZ8FJ0U+Jp3Ih2cXjPxX+homoJJPXElK/nnkI/BLQcH2\n",
       "DAUN/Gp9us8B+iOkb4E22li3Yf3hnIFflYLH3KjJEN/u8zW0p3jfGcxsvdrlN1ERJX8EFJFi2SDj\n",
       "C/1NqMFdYjNRZS2+ZMh/BzNeAiwAC+SsZesvQqLNnTiL05gPoeL5z2t5CtQg17fz9Rf612xnvfxc\n",
       "NunjliXfi0WHlTvlbjgcZUULqjU8/9zCtegWtXAS1M7i5281Dlw/FQ5fEfr5vPOPZ31lXhSe1h5a\n",
       "qRmdb9uc3gFuvFvc2WzWDzHmPxjG+4dbrv6fSebEm6WuaP0HX9dOjevHs9k0Dwb2MLt/hP52nv5w\n",
       "r6i/7oT+/rwNy1MTNFvDBW9rfv919UrU4v7hl0KOn5IjwGylNsQvqndpVhdwHz4f5G0s8/IkmKyc\n",
       "k6qd4TMmVFI/Yfn9wUrBE/2WV2V30mzlnHDU9Cq5ilhU32fJx9oCyuVIWd9/0/Xmvsn6Eno1Dv8B\n",
       "grL/IfksqAMAAAAASUVORK5CYII=\n",
       "\" style=\"display:inline;vertical-align:middle;\" /></a>"
      ],
      "text/plain": [
       "c in ({1, 2, 3, 4, 5} - {1, 2, 3})"
      ]
     },
     "execution_count": 37,
     "metadata": {},
     "output_type": "execute_result"
    }
   ],
   "source": [
    "# Recall this IntersectMembership object of unknown verity (where 'c' is an unassigned variable):\n",
    "diff_mem_03.expr"
   ]
  },
  {
   "cell_type": "code",
   "execution_count": 38,
   "metadata": {},
   "outputs": [
    {
     "name": "stdout",
     "output_type": "stream",
     "text": [
      "ProofFailure (InstantiationFailure): Proof step failed:\n",
      "Attempting to instantiate |- forall_{x, A, B | x in A, x not-in B} (x in (A - B)) with {x: c, A: {1, 2, 3, 4, 5}, B: {1, 2, 3}}:\n",
      "Unsatisfied condition: c in {1, 2, 3, 4, 5}\n"
     ]
    }
   ],
   "source": [
    "# We should not be able to conclude() such an IntersectMembership object:\n",
    "try:\n",
    "    diff_mem_03.conclude_as_folded()\n",
    "    assert False, \"Expecting a ProofFailure (InstantiationFailure); should not get this far!\"\n",
    "except InstantiationFailure as the_error:\n",
    "    print(\"ProofFailure (InstantiationFailure): {}\".format(the_error))"
   ]
  },
  {
   "cell_type": "code",
   "execution_count": 39,
   "metadata": {},
   "outputs": [
    {
     "data": {
      "text/html": [
       "<span style=\"font-size:20px;\"><a class=\"ProveItLink\" href=\"../__pv_it/demonstrations/571e8de982b54f3e33967257ad8dc83039497b7c0/expr.ipynb\"><img src=\"data:image/png;base64,iVBORw0KGgoAAAANSUhEUgAAAC8AAAAOBAMAAABN+VgMAAAAMFBMVEX///8yMjJUVFS6urru7u4Q\n",
       "EBBERERmZmaqqqoiIiLc3NzMzMyYmJiIiIh2dnYAAACZiqmYAAAAAXRSTlMAQObYZgAAAAlwSFlz\n",
       "AAAOxAAADsQBlSsOGwAAAHtJREFUGNNjYMAGuAsYsANOBRwSN3FIcB/EIcHHCJZ4e2cDmsQtsMTK\n",
       "BvYEIFU5EwQmgcS5DoAl5jGwXkAziQEkwf4Fw4pTYAnWBHRxrgtgCX+oOQg7mJWU9IMeMPAfYGAw\n",
       "QNfECrIjgYEP3bkM/CDz3525gi7Onv/pAgB5YB/l1ov0TAAAAABJRU5ErkJggg==\n",
       "\" style=\"display:inline;vertical-align:middle;\" /></a> <a class=\"ProveItLink\" href=\"../__pv_it/demonstrations/783b072602fc16329dfc2e154ddc395ecc4291110/proof.ipynb\" style=\"text-decoration: none\">&nbsp;&#x22A2;&nbsp;&nbsp;</a><a class=\"ProveItLink\" href=\"../__pv_it/demonstrations/8d310dbf7c39f4aa7b2bba4e0407c934eb318fb90/expr.ipynb\"><img src=\"data:image/png;base64,iVBORw0KGgoAAAANSUhEUgAAAP4AAAAVBAMAAACUO04jAAAAMFBMVEX///9UVFQyMjK6urru7u4Q\n",
       "EBBERERmZmaqqqoiIiLc3NzMzMyYmJiIiIh2dnYAAABC1PP/AAAAAXRSTlMAQObYZgAAAAlwSFlz\n",
       "AAAOxAAADsQBlSsOGwAAA39JREFUSMeVll9IU1Ecx39zm3N33umC0v6ACyMUgkYl0UtMooIgnGhB\n",
       "EGjZi0ZoPjh6qRH20IsuCmoQuh7S7MH2EiFR3nzoIQxWWFAIzl6ih7TWHqQ/rN8553fPdnfvnDtw\n",
       "tx/n9z2/z7nn/M7vXACLFsfnSADKaY/i5j7H/hJ6xdqnRvBpDG4U7QE4AZ4tZv37A+sMYnp70tI3\n",
       "gs8oC+e5Qz2TgxfJmv7aI0MMiH9nuhl1lbWFYaoy7HeG5qWEdyfIWhkKkH7RCu/w4883fFoHMzSi\n",
       "G1bFdjgGYDRCOjcR3V1jyPBGC+OwHkfdXuJPgPeXsI5D1RrpK6wW2aURH1Ti2+LgDImtWYM2P+k+\n",
       "Ed8maWY+wBIhtgGcEtZSxJEmb/VAnv5jLMZDO6GQ78yA7Te37B1QQ3zPXFn8riA0iBxtCYDOh86c\n",
       "fN8CGddNfFsUbH903ahG4SvK4m8FaEjomfFX9+7B5/si61d26eOumvhsk3+QYb9PxmfJf7ucKM3H\n",
       "Nq4bhzTduwwwFXF1s1SQB5jNCQYL+LN0VDzvtlNOajq/MqhgZqkhUx75jXzPPzJe+BK6fg5gDJws\n",
       "doUcd49FP1vAvyUtyn8vVOROXC+OWCvkP9SMfLfUs/wX+hvgIsbTGDa2ENCBzk0BI58vkUxG1t7k\n",
       "86/h4rU2sfPZzMLE2IY+aAQjfyg3NUxGoZ8FJ0U+Jp3Ih2cXjPxX+homoJJPXElK/nnkI/BLQcH2\n",
       "DAUN/Gp9us8B+iOkb4E22li3Yf3hnIFflYLH3KjJEN/u8zW0p3jfGcxsvdrlN1ERJX8EFJFi2SDj\n",
       "C/1NqMFdYjNRZS2+ZMh/BzNeAiwAC+SsZesvQqLNnTiL05gPoeL5z2t5CtQg17fz9Rf612xnvfxc\n",
       "NunjliXfi0WHlTvlbjgcZUULqjU8/9zCtegWtXAS1M7i5281Dlw/FQ5fEfr5vPOPZ31lXhSe1h5a\n",
       "qRmdb9uc3gFuvFvc2WzWDzHmPxjG+4dbrv6fSebEm6WuaP0HX9dOjevHs9k0Dwb2MLt/hP52nv5w\n",
       "r6i/7oT+/rwNy1MTNFvDBW9rfv919UrU4v7hl0KOn5IjwGylNsQvqndpVhdwHz4f5G0s8/IkmKyc\n",
       "k6qd4TMmVFI/Yfn9wUrBE/2WV2V30mzlnHDU9Cq5ilhU32fJx9oCyuVIWd9/0/Xmvsn6Eno1Dv8B\n",
       "grL/IfksqAMAAAAASUVORK5CYII=\n",
       "\" style=\"display:inline;vertical-align:middle;\" /></a></span>"
      ],
      "text/plain": [
       "{c = 4} |- c in ({1, 2, 3, 4, 5} - {1, 2, 3})"
      ]
     },
     "execution_count": 39,
     "metadata": {},
     "output_type": "execute_result"
    }
   ],
   "source": [
    "# But if we supply some extra information about 'c', we can conclude:\n",
    "diff_mem_03.conclude_as_folded(assumptions=[Equals(c, four)])"
   ]
  },
  {
   "cell_type": "code",
   "execution_count": 40,
   "metadata": {},
   "outputs": [
    {
     "data": {
      "text/html": [
       "<a class=\"ProveItLink\" href=\"../__pv_it/demonstrations/1ad99ef54a14df0c88c637dbfba99bbdd20ff3840/expr.ipynb\"><img src=\"data:image/png;base64,iVBORw0KGgoAAAANSUhEUgAAAOcAAAAVBAMAAABPgOQBAAAAMFBMVEX///9UVFQyMjK6urru7u4Q\n",
       "EBBERERmZmaqqqoiIiLc3NzMzMyYmJiIiIh2dnYAAABC1PP/AAAAAXRSTlMAQObYZgAAAAlwSFlz\n",
       "AAAOxAAADsQBlSsOGwAAAvBJREFUSMeFlk1oE0EYht80m5/dZJNYEH+hkYroyaKClypbBa8NSG+F\n",
       "prQX8aI9NBR6yMGToE1BkEWx9aBSQa0HES8aT714qNKKiGA8iPSgLTWHokicmZ2d7GRm2oFNPmbe\n",
       "d5+db2a+XUDTHHJZJ2FqznVN5/k+7NQC37xh9BO5Ppwyu5+PK11ur7cjNPCd0Y+lG+RqkiBzK3zG\n",
       "ypHFIHr6Y4z8jiqeGS+qejRxuVPwyuM+t66FniNXrgYMTDR5z0PkfrPAuoKZKrCmeNaiKqeMdTnb\n",
       "1p7jHlfhsBY6zaFwQ+h+YCjI4hYGiyaoUMXmkSgF/f2h4KuALkV9H32/yIKSAh3x0MM2QPwi8kao\n",
       "UCWaiP0J+m+o0ERk9U+shEtaVKD7gJ7FcPXqJqhQxWqI/TVCu+ii/vxClY5IdaqhQEmb4//xuzBB\n",
       "IyrYG0ZorgAsVFNlyhfnhz1JqihDM//4//sD5HdVgU5IKuDNsg7KfFly63tIUEGX8Ntke+JBXYba\n",
       "BXE4yPCzaue5H+5QzUIHZb50CSl+4xc+aWW20GS33++FDJ0UEdklsLqp2zpGPT5ZHKe7T1ax5GHK\n",
       "94d8f7YNZb7MBhLlQHahfVdyg8ykJ0GzfAqZRSS3yLL0dsz05XhUBbyFdqbMFy9hkCffltObLEjQ\n",
       "m3DYmuebDDqj1LzRqIrWtMc6KPOla8iTxaO5cZfD4eRydPdabIINuB6NEgWW3u/a3StUeA2s6KDM\n",
       "ly3T7OfY4ToaDtMtHUBz5ITTAoSFSmWKRdn6NudUqJzblUqtA7o+Hx4ZeiR/vQseamCM5yxT49DY\n",
       "7s2DsGnRn2u1NoPodGXMeE6Fym61WkUZumvkUPiwdrQsn73Ey+CdcKasXYMaGYuDpJJm2lYtaAv+\n",
       "kgRtQI22gzak/n5VNa2FJkn63VL4UhIbrB3x+hNtqxoVtHXLKWuHLNLtbIWfBO2Pg7ZgWPGIGuVu\n",
       "w2S+pOF75Ql9+e81f+t8q6p9V6s7fyMx32fgP1xh6jHlxXk3AAAAAElFTkSuQmCC\n",
       "\" style=\"display:inline;vertical-align:middle;\" /></a>"
      ],
      "text/plain": [
       "c in ({1, 2, 3} - {2, 2 + 1})"
      ]
     },
     "execution_count": 40,
     "metadata": {},
     "output_type": "execute_result"
    }
   ],
   "source": [
    "# define a Difference with an unsimplified element (1+1)\n",
    "diff_mem_06 = Difference(Set(one, two, three), Set(two, Add(two, one))).membership_object(c)\n",
    "diff_mem_06.expr"
   ]
  },
  {
   "cell_type": "code",
   "execution_count": 41,
   "metadata": {},
   "outputs": [
    {
     "data": {
      "text/html": [
       "<span style=\"font-size:20px;\"><a class=\"ProveItLink\" href=\"../__pv_it/demonstrations/d4325283cd91a4ef1f313b825f749640890d52d50/expr.ipynb\"><img src=\"data:image/png;base64,iVBORw0KGgoAAAANSUhEUgAAAC4AAAAOBAMAAACiOzMyAAAAMFBMVEX///8yMjJUVFS6urru7u4Q\n",
       "EBBERERmZmaqqqoiIiLc3NzMzMyYmJiIiIh2dnYAAACZiqmYAAAAAXRSTlMAQObYZgAAAAlwSFlz\n",
       "AAAOxAAADsQBlSsOGwAAAFtJREFUGNNjYMACuKdgE2VwKvyCVZyBlyzxt3c2YBNf2cCeAKQqZ4LA\n",
       "JIT4PAbWC1jUs3/Bbj5rAnZxf6gh6ObzH2BgMMBmfgIDH7o7+X4BiXdnrqAJM6l+1AEAEBYjWmGE\n",
       "2EUAAAAASUVORK5CYII=\n",
       "\" style=\"display:inline;vertical-align:middle;\" /></a> <a class=\"ProveItLink\" href=\"../__pv_it/demonstrations/272b97e338e154bda5414ba4cde050fd98e53aeb0/proof.ipynb\" style=\"text-decoration: none\">&nbsp;&#x22A2;&nbsp;&nbsp;</a><a class=\"ProveItLink\" href=\"../__pv_it/demonstrations/1ad99ef54a14df0c88c637dbfba99bbdd20ff3840/expr.ipynb\"><img src=\"data:image/png;base64,iVBORw0KGgoAAAANSUhEUgAAAOcAAAAVBAMAAABPgOQBAAAAMFBMVEX///9UVFQyMjK6urru7u4Q\n",
       "EBBERERmZmaqqqoiIiLc3NzMzMyYmJiIiIh2dnYAAABC1PP/AAAAAXRSTlMAQObYZgAAAAlwSFlz\n",
       "AAAOxAAADsQBlSsOGwAAAvBJREFUSMeFlk1oE0EYht80m5/dZJNYEH+hkYroyaKClypbBa8NSG+F\n",
       "prQX8aI9NBR6yMGToE1BkEWx9aBSQa0HES8aT714qNKKiGA8iPSgLTWHokicmZ2d7GRm2oFNPmbe\n",
       "d5+db2a+XUDTHHJZJ2FqznVN5/k+7NQC37xh9BO5Ppwyu5+PK11ur7cjNPCd0Y+lG+RqkiBzK3zG\n",
       "ypHFIHr6Y4z8jiqeGS+qejRxuVPwyuM+t66FniNXrgYMTDR5z0PkfrPAuoKZKrCmeNaiKqeMdTnb\n",
       "1p7jHlfhsBY6zaFwQ+h+YCjI4hYGiyaoUMXmkSgF/f2h4KuALkV9H32/yIKSAh3x0MM2QPwi8kao\n",
       "UCWaiP0J+m+o0ERk9U+shEtaVKD7gJ7FcPXqJqhQxWqI/TVCu+ii/vxClY5IdaqhQEmb4//xuzBB\n",
       "IyrYG0ZorgAsVFNlyhfnhz1JqihDM//4//sD5HdVgU5IKuDNsg7KfFly63tIUEGX8Ntke+JBXYba\n",
       "BXE4yPCzaue5H+5QzUIHZb50CSl+4xc+aWW20GS33++FDJ0UEdklsLqp2zpGPT5ZHKe7T1ax5GHK\n",
       "94d8f7YNZb7MBhLlQHahfVdyg8ykJ0GzfAqZRSS3yLL0dsz05XhUBbyFdqbMFy9hkCffltObLEjQ\n",
       "m3DYmuebDDqj1LzRqIrWtMc6KPOla8iTxaO5cZfD4eRydPdabIINuB6NEgWW3u/a3StUeA2s6KDM\n",
       "ly3T7OfY4ToaDtMtHUBz5ITTAoSFSmWKRdn6NudUqJzblUqtA7o+Hx4ZeiR/vQseamCM5yxT49DY\n",
       "7s2DsGnRn2u1NoPodGXMeE6Fym61WkUZumvkUPiwdrQsn73Ey+CdcKasXYMaGYuDpJJm2lYtaAv+\n",
       "kgRtQI22gzak/n5VNa2FJkn63VL4UhIbrB3x+hNtqxoVtHXLKWuHLNLtbIWfBO2Pg7ZgWPGIGuVu\n",
       "w2S+pOF75Ql9+e81f+t8q6p9V6s7fyMx32fgP1xh6jHlxXk3AAAAAElFTkSuQmCC\n",
       "\" style=\"display:inline;vertical-align:middle;\" /></a></span>"
      ],
      "text/plain": [
       "{c = 1} |- c in ({1, 2, 3} - {2, 2 + 1})"
      ]
     },
     "execution_count": 41,
     "metadata": {},
     "output_type": "execute_result"
    }
   ],
   "source": [
    "diff_mem_06.conclude_as_folded(assumptions=[Equals(c, one)],\n",
    "                               simplify_with_known_evaluations=True)"
   ]
  },
  {
   "cell_type": "code",
   "execution_count": 42,
   "metadata": {},
   "outputs": [
    {
     "data": {
      "text/html": [
       "<a class=\"ProveItLink\" href=\"../__pv_it/demonstrations/f086e756a3ca723c11d5611fe88a20fe5b9aba360/expr.ipynb\"><img src=\"data:image/png;base64,iVBORw0KGgoAAAANSUhEUgAAAHsAAAAZBAMAAADj1UwdAAAAMFBMVEX///9ERES6uroQEBAyMjLc\n",
       "3NyYmJgiIiJmZmaqqqp2dnbMzMxUVFSIiIju7u4AAAAd7oVFAAAAAXRSTlMAQObYZgAAAAlwSFlz\n",
       "AAAOxAAADsQBlSsOGwAAAbdJREFUOMtjYMAKkhjwgwYg5sApy9lAQLsAELMK4JJ9wkCEdoZcXLJi\n",
       "DHz1gn4MXPZGyKJIYmDt7A+w62Y1YGBgnKDDwPAeVRwhBtbOewC7do4FDAw8pVwJDMyo4lAxDkFB\n",
       "Q0ExoGv+YdfOrwBUOpHBlYEdTTtcDBJqbiiyvOLlJWDGfqCneMIuhGBoh4tBtDciSzL5woLiOkhp\n",
       "wGneBeja4WIQ7ZeB+O2d16smgDgh8IA8AlbKyCCEoR0mBtGuD9TRwHuWowDEcYUrEwQr5W54/hxd\n",
       "O0wMkqz2b2BgC2D7x5MA4jjAlfmAlTJkcgqja0cVi1dg4GbggOjjNi8vLy8EMysgSnkeHAYlFvdy\n",
       "ENiALAYF74ExxMB8AZKmBNBt5zuA4XhUsXiQmfoBfOBAK0DXzrCXEUM7itj+AIaHCocZuMCcu3Dh\n",
       "g6AECjSZdyNaokUTA4b8/H3NDJpgDssEmPBlGK8FVTu6WDIDw4u7nG0QfXwH9RCmcvsbYmRcDLEe\n",
       "FGmmhdBEy6zAQBRww53jiAC4chy3AVHa2XDkd4aTRGlnDyC3rGPAW9ZxEuN53CUtwXIeHMDAtAoA\n",
       "ph9qutuL9H8AAAAASUVORK5CYII=\n",
       "\" style=\"display:inline;vertical-align:middle;\" /></a>"
      ],
      "text/plain": [
       "x in (Natural - NaturalPos)"
      ]
     },
     "execution_count": 42,
     "metadata": {},
     "output_type": "execute_result"
    }
   ],
   "source": [
    "# a DifferenceMembership object involving general sets\n",
    "diff_mem_07 = Difference(Natural, NaturalPos).membership_object(x)\n",
    "diff_mem_07.expr"
   ]
  },
  {
   "cell_type": "code",
   "execution_count": 43,
   "metadata": {},
   "outputs": [
    {
     "data": {
      "text/html": [
       "<span style=\"font-size:20px;\"><a class=\"ProveItLink\" href=\"../__pv_it/demonstrations/b7153c0033e407b6f25af7375428bbdcf12a6b600/expr.ipynb\"><img src=\"data:image/png;base64,iVBORw0KGgoAAAANSUhEUgAAADQAAAAQBAMAAACra0H4AAAAMFBMVEX///9ERES6uroQEBAyMjLc\n",
       "3NyYmJgiIiJmZmaqqqp2dnbMzMxUVFSIiIju7u4AAAAd7oVFAAAAAXRSTlMAQObYZgAAAAlwSFlz\n",
       "AAAOxAAADsQBlSsOGwAAAN5JREFUGNNjYMAAfPWCfgxc9kYMWADjBB0GhvfYZBh4SrkSGJixS01k\n",
       "cGVgRxG6WF7uAJYKuxCCKqVyD6Yr4DTvApDU2zuvV00A0qx+cAMDGBmEQFINvGc5CoA0SwBCirvh\n",
       "+XMGBrYAtn88CSAphDMCGDI5hRkYuBk4wHYzbC4HAgGoFM+DwyAW8wWw1ENkXXwHnoNY+gF8D4AU\n",
       "O7IUw15GoGKFwwxcIAHeC/CA2gDkbWRgmL+vmUETLOIJk2IB+aWFgeHFXc62CWCRN0IPwDS3vyGQ\n",
       "fIISUFrikICCAgA/wDGOvGvv4AAAAABJRU5ErkJggg==\n",
       "\" style=\"display:inline;vertical-align:middle;\" /></a>, <a class=\"ProveItLink\" href=\"../__pv_it/demonstrations/37642c3534b1425f9d232b9cfb919513efbdd1590/expr.ipynb\"><img src=\"data:image/png;base64,iVBORw0KGgoAAAANSUhEUgAAAEAAAAAXCAMAAACMPLmjAAAARVBMVEX///8/Pz9vb28YGBgJCQkd\n",
       "HR0NDQ0WFhZERES6uroQEBAyMjLc3NyYmJgiIiJmZmaqqqp2dnbMzMxUVFSIiIju7u4AAAAQwmFf\n",
       "AAAAAXRSTlMAQObYZgAAAAlwSFlzAAAOxAAADsQBlSsOGwAAAShJREFUOMulVNmSwyAM854FzA3m\n",
       "/z91Dc0kQDNd2vghAxhkISsAvB0OLob4f4u+CoC0DcgWIdosqKLkKkBMXTkPsk2prDNw8hgnqyGY\n",
       "OlI1IzhU/ZhnALYbJ88FUferTxlkYe3tFzsAbTJoXASQmFmwFHsGus5zOAOgnBPFEPzevaY3IYwA\n",
       "9YSQJwDsqJwyuD3TrgpMeQKIjvtJdnai4ZQpBGkXFEcT7ABgPHihHrpdwXq6UVmOn29rxQQAieuo\n",
       "M9VUT5fauUOSDoASkD1TvXCaaOj/tO8OADE/dI9Y2EYrHCZgPnL6WcXW0xxnAF8iOQaQHWX0ownu\n",
       "S5v2ODNwXNA701+ZkvgaehCxqK0y4dJj8fnBXrb4/mszmuD10OLiczeZ4PVI61v/APPtDhfppX4G\n",
       "AAAAAElFTkSuQmCC\n",
       "\" style=\"display:inline;vertical-align:middle;\" /></a> <a class=\"ProveItLink\" href=\"../__pv_it/demonstrations/e29f72cd4f93427b0c1229157fd82ed27bd08dbc0/proof.ipynb\" style=\"text-decoration: none\">&nbsp;&#x22A2;&nbsp;&nbsp;</a><a class=\"ProveItLink\" href=\"../__pv_it/demonstrations/f086e756a3ca723c11d5611fe88a20fe5b9aba360/expr.ipynb\"><img src=\"data:image/png;base64,iVBORw0KGgoAAAANSUhEUgAAAHsAAAAZBAMAAADj1UwdAAAAMFBMVEX///9ERES6uroQEBAyMjLc\n",
       "3NyYmJgiIiJmZmaqqqp2dnbMzMxUVFSIiIju7u4AAAAd7oVFAAAAAXRSTlMAQObYZgAAAAlwSFlz\n",
       "AAAOxAAADsQBlSsOGwAAAbdJREFUOMtjYMAKkhjwgwYg5sApy9lAQLsAELMK4JJ9wkCEdoZcXLJi\n",
       "DHz1gn4MXPZGyKJIYmDt7A+w62Y1YGBgnKDDwPAeVRwhBtbOewC7do4FDAw8pVwJDMyo4lAxDkFB\n",
       "Q0ExoGv+YdfOrwBUOpHBlYEdTTtcDBJqbiiyvOLlJWDGfqCneMIuhGBoh4tBtDciSzL5woLiOkhp\n",
       "wGneBeja4WIQ7ZeB+O2d16smgDgh8IA8AlbKyCCEoR0mBtGuD9TRwHuWowDEcYUrEwQr5W54/hxd\n",
       "O0wMkqz2b2BgC2D7x5MA4jjAlfmAlTJkcgqja0cVi1dg4GbggOjjNi8vLy8EMysgSnkeHAYlFvdy\n",
       "ENiALAYF74ExxMB8AZKmBNBt5zuA4XhUsXiQmfoBfOBAK0DXzrCXEUM7itj+AIaHCocZuMCcu3Dh\n",
       "g6AECjSZdyNaokUTA4b8/H3NDJpgDssEmPBlGK8FVTu6WDIDw4u7nG0QfXwH9RCmcvsbYmRcDLEe\n",
       "FGmmhdBEy6zAQBRww53jiAC4chy3AVHa2XDkd4aTRGlnDyC3rGPAW9ZxEuN53CUtwXIeHMDAtAoA\n",
       "ph9qutuL9H8AAAAASUVORK5CYII=\n",
       "\" style=\"display:inline;vertical-align:middle;\" /></a></span>"
      ],
      "text/plain": [
       "{x in Natural, x not-in NaturalPos} |- x in (Natural - NaturalPos)"
      ]
     },
     "execution_count": 43,
     "metadata": {},
     "output_type": "execute_result"
    }
   ],
   "source": [
    "diff_mem_07.conclude_as_folded(assumptions=[InSet(x, Natural), NotInSet(x, NaturalPos)])"
   ]
  },
  {
   "cell_type": "markdown",
   "metadata": {},
   "source": [
    "###  `DifferenceMembership.definition()`\n",
    "\n",
    "Deduce and return something of the form $[x \\in (A - B)] = [(x \\in A) \\land (x \\notin B)$."
   ]
  },
  {
   "cell_type": "code",
   "execution_count": 44,
   "metadata": {},
   "outputs": [
    {
     "data": {
      "text/html": [
       "<a class=\"ProveItLink\" href=\"../__pv_it/demonstrations/a317ab80cd44dfafd4d70afb1e9c805a43afb23e0/expr.ipynb\"><img src=\"data:image/png;base64,iVBORw0KGgoAAAANSUhEUgAAAPsAAAAVBAMAAAByEoVnAAAAMFBMVEX///+YmJhERESIiIhUVFTc\n",
       "3NwiIiJ2dnbu7u66urqqqqpmZmYQEBAyMjLMzMwAAAA7oY0NAAAAAXRSTlMAQObYZgAAAAlwSFlz\n",
       "AAAOxAAADsQBlSsOGwAAAz9JREFUSMeVVktoE1EUvU06nZdPkxaXBQ0ooig4WqXFT4l2USgUAoYK\n",
       "KthVLAoSiVRELYN2pzIBwQ8ozabizrQLd9Ja0Y2bLETa6iIL3Sm2FLEGKt73mZn35pOSBxPO3HM/\n",
       "7913750ABC0NH/IUWljajF/WxMPZHP7kwtij+Jx40kp4+LbHJ2riIXXKBHgo8NeqSsaL+GzIkjsf\n",
       "Anz8/Ci/7fLSqgeyf0x+jWQBol0cpyuq4QN8dEUbvgSdoSG/THhZj4fOqo9c4njaVA1n/caNgOix\n",
       "jVbCq2dkZI9ieahQqDGw4DNWIwX63yq8ekZGJk0ps8/77Uur+Yw9roLSuVX4CT/ZiZevDQ2wzGpL\n",
       "NpUo2ny+dFpEGjwscqf3bucgX/olRKR0zAwL73iAT73DApUO1jmpY/09y0VYZjudNqSbggSmIPYe\n",
       "DvD8WEvkN+/vSzDHr8Ph4FE9hRs+7g2veiCbpsUjjFYSGYjSC26rAXnL9DCoY9dBT3Ue93C/C15z\n",
       "0SsT3nGuKAByb8TEWYNoGeCCp308HrANkwZDFynQaMbjC5BYpS5x/SjgylCURGf5ZQTzVJctjPSH\n",
       "gXm7gFwust57gx5vBOOTz9RLoQ4+D3jGNIuT4FU8tYIDZxWSGbDKbLI426bhU3MYZxHIXxA7jvHW\n",
       "W7SVXC6d5Ve97Blsqgc84zTLT5IdEW5jkNgCWAbs4LyafBxLZB3aVu2255tGkSg3l0sb9v2oS/WA\n",
       "bc8zZxnOSIyPgVWBkTitiajh2Bm8bkkD2mszQI3+0VukYA33TIHE0bvDDd8KqHxJK13HKiMUYEmU\n",
       "QWell8FY8csJpr7i2GVF2+yEF9Uq2cS3k7APGMCyn2TA5bB+7+VCGs/Vau+KVMHCIsey10XjYYeT\n",
       "wcn8AC+GvSJ9qTFhPNX3fbAOBRRP3cQ9U6Bf3WZyicNBX7cRNnZcLTKEo7xjHOXXu/vFUOgoy/qP\n",
       "d4uhe0WZWXEzFEio2dRztV4q5Gjw17hHMdbDgYSahXe1igo5Gxw+glfJxhJbd8OBhOwh5K4AD8SQ\n",
       "R6KWCQ5PUK45n1gjHEgI69r7/8vvIeqQ2EjslIGLfibODbf0X+9axSdr4uEMpY4A/AcllPE1eXdq\n",
       "wQAAAABJRU5ErkJggg==\n",
       "\" style=\"display:inline;vertical-align:middle;\" /></a>"
      ],
      "text/plain": [
       "d in ({a, b, c, d, e} - {a, b, c})"
      ]
     },
     "execution_count": 44,
     "metadata": {},
     "output_type": "execute_result"
    }
   ],
   "source": [
    "diff_mem_01.expr"
   ]
  },
  {
   "cell_type": "code",
   "execution_count": 45,
   "metadata": {},
   "outputs": [
    {
     "data": {
      "text/html": [
       "<span style=\"font-size:20px;\"> <a class=\"ProveItLink\" href=\"../__pv_it/demonstrations/420cb218587d27453f2f04bfa88e76c5ca162d4c0/proof.ipynb\" style=\"text-decoration: none\">&nbsp;&#x22A2;&nbsp;&nbsp;</a><a class=\"ProveItLink\" href=\"../__pv_it/demonstrations/65dbd046a299b1a08367ef84957fcb2d2b25928f0/expr.ipynb\"><img src=\"data:image/png;base64,iVBORw0KGgoAAAANSUhEUgAAAmMAAAAVCAMAAAA98hm6AAAAP1BMVEX///9jY2MJCQkdHR0NDQ0W\n",
       "FhbMzMxUVFRERES6uroiIiIQEBCYmJhmZmYyMjLu7u52dnaqqqqIiIjc3NwAAACGmE1UAAAAAXRS\n",
       "TlMAQObYZgAAAAlwSFlzAAAOxAAADsQBlSsOGwAABSxJREFUaN69mtmWpSAMRe3JARUQ/P9vbbyK\n",
       "JkwmUFW+ZDVNws4JcgGr69xjO/rj+6pp6r7rsRuRqAYCBLeBJSfPEexnhLIMesp/VlHHOHdUs9HD\n",
       "+L5GTurbpOv6YaREr4N4gk8GW3LyHMF+RihCCmVqqb6AOsLxdtNPHzmvxSC+77bnEdQ4CyJSfrhx\n",
       "eHcvQJQZ7uBmwbajJc8RrJaRK9RrCmXqfiBSE6XFyioJ++zFyX731UV15Eqd+NnhNEH+Yp8Sw+Po\n",
       "315JeGt98hzB6hnZQoUp6C1dunS4daKrT5IWKbvCF2Dai2LffcsQO/W3JD9c8xwrMTyOy4otJXmO\n",
       "YPWMbKGCFJSQ6dKlwwmG+iRpkbJzPrgZhXsA60yCeNOdkkvrHCsyAMdZYVt45lCEiCHSq4GRLxRO\n",
       "wSzDlKJPl/nfX4RdX94Yx9lN5pbBSZog2NO3CKGp24zCqts6x6iAcsG2sJ+RoQhBBrFeLYx8oXAK\n",
       "ouvHZOmSZR76KvUoOM6ufitoB216sAzaeI9y9wWhDjeLDzVyMGYI1lNtzILyCIf7rO+u16r4c4zL\n",
       "AILrAdvCT6UORAgysMk9HZexQSiUwrHDlzZRumSZ8WatpbwxjrN+uk2zIxrBMijj65TnTVk9VOTm\n",
       "gHeHrXboboVjWuF7lfDrJuEw+1MMMxM2SLKSAQRfJLZHWAGeIbvihaNK287YJNQCJ8pBs61x6dJl\n",
       "XkyaukVaoKw4Z6SaFxj7GDwWTPjZa+cL+XIT8cF3hthCBy3xcC7ofrSZ6frH637YQ/AZQPBtxjb/\n",
       "+ORzgskvYGwSCqZwXkUIFdJnyhwswQ3ljXGcnU/Udb87X5Szf5Wft+rqawfpt5OR253BDtrWaJeY\n",
       "8ht3Y4z2kdUgt/vYDRaW/l7EPUQFwxO837EtbPknZMNRU3pxGduEgimc+ytjQvp0mf/8htht5Y1w\n",
       "nL0Gn8fPMjiBq7a8zP3qb8ojN480wXVojmKl/Ha0JdLy5WPGDVHB8ASfZmzJcywcNaUXl7FNKJDC\n",
       "tb9SIqRPlzm4Smsqb4Tj7LmIqv2Y8suevTHBv5X+Ojfhdl2fwLl99kJ71qSfId40Y4gKBhB8E9jm\n",
       "92P4tzIeVTQzNgoFUvCTZt0wfabMInNb3yQtUHY0Z7/Dc5Dd88HYxF/ARhMcPJCbD773/of8bjl/\n",
       "3qe7Jel3LcmnLJqw5z8h2Awo+DJiW5jRBtpYMGOaGduEAinch1mJ6dNlntbMabhJWqDsdcQ8GDax\n",
       "dvAoEu26n9OxP6ICN3feuPYCbshx7UDLeeTQ/dOS8vscRNRquXcXTAYcPLqRyI+GbzliweTWytgm\n",
       "1JPCc0wc++6F2mEHl2P15U3iONtfU3YwureD6eHubQw+vvcihIBu4jrGqEFfHy58S6f1snwuKJ8+\n",
       "sV9njl78O1guAwouJmwL+z+BbCxYrBebsUmoJ4XhxuhN90Ltmn5H2LXlTeEcVvT5rwZ6xN9G7r7J\n",
       "KbCpmpZ0W+09P2lEcMUosC1eXvSBCO96NTCyhXpJIU+9/Iqwq8sb43zsQv/4//RNQuiqlkxb5Rwj\n",
       "jQgW9NR37pfkOYI1MHKFekkhTy2JX8B40mJlR8Zfdfq+qWt4ZWpa0m3BrWP6SUDQRryD2xFbWvIc\n",
       "wWoZ2UK9ppCjTjnWljfGuawa6ZL5vqlreFPVkm5TM2FhSUCQRnyC82aNT54jWC0jW6jXFHLUeiNR\n",
       "M6UNlbWGodnV164D4w+OmY/VtOBVECC4sdiSk+cI9jNCEVLIUA9fRx3jfOx/zNd37A1nM2oAAAAA\n",
       "SUVORK5CYII=\n",
       "\" style=\"display:inline;vertical-align:middle;\" /></a></span>"
      ],
      "text/plain": [
       "|- (d in ({a, b, c, d, e} - {a, b, c})) = ((d in {a, b, c, d, e}) and (d not-in {a, b, c}))"
      ]
     },
     "execution_count": 45,
     "metadata": {},
     "output_type": "execute_result"
    }
   ],
   "source": [
    "diff_mem_01.definition()"
   ]
  },
  {
   "cell_type": "code",
   "execution_count": 46,
   "metadata": {},
   "outputs": [
    {
     "data": {
      "text/html": [
       "<a class=\"ProveItLink\" href=\"../__pv_it/demonstrations/2df236663a8b5f5c3c7c599dc1e17967952a9def0/expr.ipynb\"><img src=\"data:image/png;base64,iVBORw0KGgoAAAANSUhEUgAAAP4AAAAVBAMAAACUO04jAAAAMFBMVEX///+qqqqYmJiIiIgiIiLu\n",
       "7u4QEBBUVFS6urp2dnbMzMxEREQyMjJmZmbc3NwAAADzFso2AAAAAXRSTlMAQObYZgAAAAlwSFlz\n",
       "AAAOxAAADsQBlSsOGwAAA2xJREFUSMeVlk1oE0EUx1+brOmmyZKDCl409OJBhSi0IArmEK0UpAHB\n",
       "ClZaCuoxbRWDWm0OWhU85KAWQWhRURSKOVgqHjQVpAUFiyhF0sBqRZFSWz8qosX45u3M7s7upjYD\n",
       "u/uY/c/7zZt583YBPJqGl3IBKmnaWo/O/Zmy+nc653i1zXhtP7ds9iAoOtwZdvX7xpNlxwRP4bua\n",
       "GM6h+HzQ8a4qi9cCE+0U0Zki7VrBDGqIP1MvEuhsxMVYx/C3xBxmpx7ZXdR2orkFYAbUX45xrXip\n",
       "cYCWqQXeY4kOQtVXoWvkz10/ruD9souPPcrpl5yv5WAgY3PBABBKwhmAw45xrzgffIJviXZElEWx\n",
       "vILfKWhuPg7g/IAOK9ptLghQPQGpJPTq1L8tkciT0e7iW6K+DAj+jbFK+CsWIPDX5oIAcAiOAfTS\n",
       "3l6qF9ufd/FNEXv9jRvZiviBOAR+21wY/Kfs1kz780wMC2ddfCFi7WyUL78u+N1bT/6fj80/b3Nh\n",
       "8PtZln9nVkgXshADhPMy3xBhu5nmC/EeBH8Y5jCzGlz8KQf/fszmwkfJsJFNi9YvZE0zgrePUZlv\n",
       "iGjxeP5nTT4eJgxmLuIsSR0OfqPdhUZuVuNVoL7bCWw5yhQM5tM4yPyC5TdFHqt1Gz+MmaX0sAm0\n",
       "MjeJJobvycj8cE5y0TLKlgQdGZEdMF8yfrCQlPjVIvx7AE8o0GkQ/No8hDGz1HFH/EPDMn+97OI6\n",
       "m14fwBrQ2Nb75fWn8mTxuQiglOT88+n0zxPGfDGz53m1k9qIxMeq+sXmggosrIRgFnwUa8zczJg9\n",
       "/xXKPiYi6whbPMUQos1GqjgFXNqr5fOfpnAXoJ4scgEq5d8G+FAsvib1qBimdgq+itvaxg4Ciciq\n",
       "Y4e3zahTf4BqoTYBDcmy529A56o9xWKcrDrb+X8LzaWSUdBaHvKVCsY5P3B8sRv87BtEIrJqivjx\n",
       "IAsKpaPAPjwwO/mm7PlPp8aipPKXSqU8WeSC83fb5Bcf8PrbJOKntgqWsKqScrTu+GWVZRFAi3t9\n",
       "mzdJ/CwsYamwHL6lslkMEI568Wt1UZ7Yf5CZl17WXke1k1qDW2VZVGBnPP9NlJwoT+wMWL8zHlbM\n",
       "GtTh8mNWxJiHfh8L/bH3z9E0S6quyv7/+iPuvslIWf3nLvqEwT9WKAnvm4tUaQAAAABJRU5ErkJg\n",
       "gg==\n",
       "\" style=\"display:inline;vertical-align:middle;\" /></a>"
      ],
      "text/plain": [
       "2 in ({1, 2, 3, 4, 5} - {1, 2, 3})"
      ]
     },
     "execution_count": 46,
     "metadata": {},
     "output_type": "execute_result"
    }
   ],
   "source": [
    "diff_mem_02.expr"
   ]
  },
  {
   "cell_type": "code",
   "execution_count": 47,
   "metadata": {},
   "outputs": [
    {
     "data": {
      "text/html": [
       "<span style=\"font-size:20px;\"> <a class=\"ProveItLink\" href=\"../__pv_it/demonstrations/80bb69ee4031b6410376a057695730b8f1acd68e0/proof.ipynb\" style=\"text-decoration: none\">&nbsp;&#x22A2;&nbsp;&nbsp;</a><a class=\"ProveItLink\" href=\"../__pv_it/demonstrations/8e26b1a11a4b09d467422111d5c5d324d5162db70/expr.ipynb\"><img src=\"data:image/png;base64,iVBORw0KGgoAAAANSUhEUgAAAmwAAAAVCAMAAADM+UI3AAAAP1BMVEX///9jY2MJCQkdHR0NDQ0W\n",
       "FhbMzMxUVFRERES6uroiIiIQEBCYmJhmZmYyMjLu7u52dnaqqqqIiIjc3NwAAACGmE1UAAAAAXRS\n",
       "TlMAQObYZgAAAAlwSFlzAAAOxAAADsQBlSsOGwAABXhJREFUaN69mmGjrRoQhrvn3BsRFf3/33pL\n",
       "xWDUqL35sFltvT3zLolpdd1WbEcvV99pGLpfK3ahIr3DAPo2qckG1JjWyixbwU/550vuQJSTmYWu\n",
       "c/U1eph+3LbeBbhz9YyT5N9iBP3BxDXZgBrTWplFCOKeW08/wu2JPNDVWGY39JTSvH9SOfpu9XpR\n",
       "9CLlQZTsPCuO3CS9ij7KVWtx6nFGCOoDhtc3Y1wTDagxrZ1Zj0Hcc/cM587BMQXMXg90NCbtOvLt\n",
       "z7w+zJpH372nOD4zpdcUI1ealEPP7ykRjyghVzFP0RXuyweMoH/dzZpwF18G1JjW1Kw0iHlB+Ivc\n",
       "akC4MXBMAbfXA7mGckOOuYeqlPe2qbFLozOpf4iS2QmmVWdTeuIfQyKlfI1vMMKpo4prigE1pjU1\n",
       "KwliEhrhL3KLAncGjing9nog15DnpLyrsRWuEA0XW4G0kuAfojTI/RbI/OtH/XuD7QkD6Msprm+K\n",
       "jGqaaW3NioMwIxtyfox7B//v3wj8ZrBhCgV7PdDWWI5/MvdPtobH8KBNav6iKTdrpnStANL1xNz9\n",
       "4mB7wgD6eozrmxWPjmqSaY3NioMQXc9zfuSqDpz15JmtwI3Y64G2hpoh2xqeysgSJvS98S9TOqMR\n",
       "qX3GZv6NZr4C/jrYnjCA/szi+uYpOqdGPJvW2KwoiH07oC32BSZXdeCT7qiDrcCN2euBtga8E/o1\n",
       "bJ01ko8JfZW+x4BK7rNhLN27bGKJf/t+2Z6rTiMJg+0DBtAfdVzvwgIUdjsHPpnW2KwRjpidZ1Ed\n",
       "Ou1FV3Xgoylx4+ApN26vB9oaYsH3OxobyVdfK8eHMc+QBMCSPBcy/w4Tj3vCrs+JrC8YQH+RcV0u\n",
       "lwE1pjU2CwZxZDJA1qLEfYAn0zLgxsERbsReD7Q1ZFhAKvB47+V1X4ODZ1/L9HCPAZWSRaUf8Lbg\n",
       "nzpXnRPTS9ixg4nmuuk/YgT9fo3rm/3BENcE01qbBYM4phljMv70qg787x8IHnGj4Ch3bq8H2hrh\n",
       "+iMMZuI3Xvcq5PcxjDGxpXdBc3i3WudA7B/Xh3/HaJr1U/7qG0bQH2Rc1wy2Z9MamwWCONdgk0AG\n",
       "W3xVB56k5CA3Bp5yl+z1QFvDz6wut2wtnnJJZ+GQ30cwEqVtO+z6RP4NbC+rZGDJKs8tTpq+LpcP\n",
       "GEB/EXFdXrNlj1GCaY3NAkFco0ct2ReYXlVg8OAlTg6ecZfs9UBbg5+TbO8CCRt3g7xm46a8wQow\n",
       "QclnWJifYJN0DYOnHlbKY3qYKRuE1xiR/sjj+mZwm7immNbYLBCE8FvNlD/l3sEHVebOwXPukr0e\n",
       "aGucO1Mr1F7A6Nb5Aj1sq8HO9lg1hJR3UPLHxvHKwCSZ8ZXDU61y25jpTeqjDiPWRxMa+PXiJAnJ\n",
       "tMZmhSDC5tK/xCxyb+CsvxlsKTjCXbLXA22NXpwpE1dAdBPj6Tv/XqQcjMlVs13/eicMlfyxYQM7\n",
       "XtEKsDdSfF2ZAcesUky9eDdajxHpiyGub1aJIqpJpjU2KwTBwjRkugfuDfxPBu5Vc3CMu2CvB9ob\n",
       "ovirhWHmyZsX3xcZCguyxkKOEbvVzmwf9K2I69vcR58YQTCtqVkPQZS5x38ycOwrIEKGc23UoLx/\n",
       "9kSqzIE9g+bubbfXg61eP365TjOgxrSmZj0EUebWE+krIEKGcz3Q0eAVvzm9+ub5/QlZGyPHiN2i\n",
       "9HW5vMYA+pbHNc2AGtMamvUYRIkbOxF5iUOEDERe92xMnO7b1TfP72OXNKRD6LFJUn7L+BoD6NcN\n",
       "n8uAGtMamvUYRIl7XijcVMhA5IGuhjUVxplrecoqfhddW+xMVH+JAfSNjWuyATWmtTKLEESBm/0k\n",
       "dyDyQK7xP7QGfM2yBEB3AAAAAElFTkSuQmCC\n",
       "\" style=\"display:inline;vertical-align:middle;\" /></a></span>"
      ],
      "text/plain": [
       "|- (2 in ({1, 2, 3, 4, 5} - {1, 2, 3})) = ((2 in {1, 2, 3, 4, 5}) and (2 not-in {1, 2, 3}))"
      ]
     },
     "execution_count": 47,
     "metadata": {},
     "output_type": "execute_result"
    }
   ],
   "source": [
    "diff_mem_02.definition()"
   ]
  },
  {
   "cell_type": "code",
   "execution_count": 48,
   "metadata": {},
   "outputs": [
    {
     "data": {
      "text/html": [
       "<a class=\"ProveItLink\" href=\"../__pv_it/demonstrations/8d310dbf7c39f4aa7b2bba4e0407c934eb318fb90/expr.ipynb\"><img src=\"data:image/png;base64,iVBORw0KGgoAAAANSUhEUgAAAP4AAAAVBAMAAACUO04jAAAAMFBMVEX///9UVFQyMjK6urru7u4Q\n",
       "EBBERERmZmaqqqoiIiLc3NzMzMyYmJiIiIh2dnYAAABC1PP/AAAAAXRSTlMAQObYZgAAAAlwSFlz\n",
       "AAAOxAAADsQBlSsOGwAAA39JREFUSMeVll9IU1Ecx39zm3N33umC0v6ACyMUgkYl0UtMooIgnGhB\n",
       "EGjZi0ZoPjh6qRH20IsuCmoQuh7S7MH2EiFR3nzoIQxWWFAIzl6ih7TWHqQ/rN8553fPdnfvnDtw\n",
       "tx/n9z2/z7nn/M7vXACLFsfnSADKaY/i5j7H/hJ6xdqnRvBpDG4U7QE4AZ4tZv37A+sMYnp70tI3\n",
       "gs8oC+e5Qz2TgxfJmv7aI0MMiH9nuhl1lbWFYaoy7HeG5qWEdyfIWhkKkH7RCu/w4883fFoHMzSi\n",
       "G1bFdjgGYDRCOjcR3V1jyPBGC+OwHkfdXuJPgPeXsI5D1RrpK6wW2aURH1Ti2+LgDImtWYM2P+k+\n",
       "Ed8maWY+wBIhtgGcEtZSxJEmb/VAnv5jLMZDO6GQ78yA7Te37B1QQ3zPXFn8riA0iBxtCYDOh86c\n",
       "fN8CGddNfFsUbH903ahG4SvK4m8FaEjomfFX9+7B5/si61d26eOumvhsk3+QYb9PxmfJf7ucKM3H\n",
       "Nq4bhzTduwwwFXF1s1SQB5jNCQYL+LN0VDzvtlNOajq/MqhgZqkhUx75jXzPPzJe+BK6fg5gDJws\n",
       "doUcd49FP1vAvyUtyn8vVOROXC+OWCvkP9SMfLfUs/wX+hvgIsbTGDa2ENCBzk0BI58vkUxG1t7k\n",
       "86/h4rU2sfPZzMLE2IY+aAQjfyg3NUxGoZ8FJ0U+Jp3Ih2cXjPxX+homoJJPXElK/nnkI/BLQcH2\n",
       "DAUN/Gp9us8B+iOkb4E22li3Yf3hnIFflYLH3KjJEN/u8zW0p3jfGcxsvdrlN1ERJX8EFJFi2SDj\n",
       "C/1NqMFdYjNRZS2+ZMh/BzNeAiwAC+SsZesvQqLNnTiL05gPoeL5z2t5CtQg17fz9Rf612xnvfxc\n",
       "NunjliXfi0WHlTvlbjgcZUULqjU8/9zCtegWtXAS1M7i5281Dlw/FQ5fEfr5vPOPZ31lXhSe1h5a\n",
       "qRmdb9uc3gFuvFvc2WzWDzHmPxjG+4dbrv6fSebEm6WuaP0HX9dOjevHs9k0Dwb2MLt/hP52nv5w\n",
       "r6i/7oT+/rwNy1MTNFvDBW9rfv919UrU4v7hl0KOn5IjwGylNsQvqndpVhdwHz4f5G0s8/IkmKyc\n",
       "k6qd4TMmVFI/Yfn9wUrBE/2WV2V30mzlnHDU9Cq5ilhU32fJx9oCyuVIWd9/0/Xmvsn6Eno1Dv8B\n",
       "grL/IfksqAMAAAAASUVORK5CYII=\n",
       "\" style=\"display:inline;vertical-align:middle;\" /></a>"
      ],
      "text/plain": [
       "c in ({1, 2, 3, 4, 5} - {1, 2, 3})"
      ]
     },
     "execution_count": 48,
     "metadata": {},
     "output_type": "execute_result"
    }
   ],
   "source": [
    "diff_mem_03.expr"
   ]
  },
  {
   "cell_type": "code",
   "execution_count": 49,
   "metadata": {},
   "outputs": [
    {
     "data": {
      "text/html": [
       "<span style=\"font-size:20px;\"> <a class=\"ProveItLink\" href=\"../__pv_it/demonstrations/bf2d147413af688cd9860688b2f69cb48eb83b720/proof.ipynb\" style=\"text-decoration: none\">&nbsp;&#x22A2;&nbsp;&nbsp;</a><a class=\"ProveItLink\" href=\"../__pv_it/demonstrations/c428b96788c1b57bee4374dc8ca6b45f447f4eae0/expr.ipynb\"><img src=\"data:image/png;base64,iVBORw0KGgoAAAANSUhEUgAAAmcAAAAVCAMAAAA0GbnAAAAARVBMVEX///8/Pz9vb28YGBgJCQkd\n",
       "HR0NDQ0WFhbMzMxUVFRERES6uroiIiIQEBCYmJhmZmYyMjLu7u52dnaqqqqIiIjc3NwAAACb3p1w\n",
       "AAAAAXRSTlMAQObYZgAAAAlwSFlzAAAOxAAADsQBlSsOGwAABYdJREFUaN69mlmChCoMAH07IMgi\n",
       "eP+jPncJCRqXGX7S4yhdKRABu2nGkhpu2c70bdv8XEk9k+ghRlZ/KiJXwA1nv+Uq3eK//Ndrt4gr\n",
       "9txKtjOja/33ysSc3oQlpOLU/xjjqL+NMDIF3HH2W644KZxhO/+t21JtH7hVbGf2w44gdEGTrHVK\n",
       "FMdCsIq4O4QFf5rBOb3WpyQD5wXGXn/sYGQJuONsh0SMd1wVqkhX1ymcYQv5FXbJs0Tv2A+A7cyg\n",
       "1wPSugFSJDX9fwCivJ3B8a2kYWfSZtDBw684K28wjvq329h5vgC+s+2LCMZbrgpVtKsyhdBX+Kli\n",
       "26+wEc8cbcdVtp+ZdYJYUMj5aWwMGIKn7/cDSjIW8iTRhzj97AnGcW1nYeQI4DvLvqhkvOOqVEW7\n",
       "KlLw2lX4qaI/w0Y8czTVZ7nSY8lQDaOBzfy3HPJJZWumvo/cic79WD+7xMiuNR7GejHow5Wy0wbj\n",
       "u0KqKq5gCrGTLc1PYP/372fYmGeMfWUsbV0s6j/OPBtI5n/JQeB5Snkzhebn+tklRnat62Csz24c\n",
       "MnGh7GJgYLtCqiquYAq6EYpuQAJbis+wMc8Y7T41DDF2+7UJT1eyM+sNvGY4oGR02YoxoX7WxbCl\n",
       "+7KfXWJk1wYJY/2xGbCJzFkiZ3gnDcZ2hVVVXIEUpkm/S3QDIuxy6vYGG/OMcetySY9PWLv3f4c3\n",
       "Wo6bxbrzBhZDscQWUcpygTLWVsib1sNpnV9Gw5gvvsDI6u8cjFPNOisSCaCduXQOSTcYwxWhquKq\n",
       "y3vLxNNbogEp7C5+h415xqjXNYmeOrvZLyaG2O3MJpnuvIG1pNb3ffEowPJmgcvNkIbLDapXGFn9\n",
       "vYGxPlPuiw/QmbuArIy5165qqrCrPIVlnyLflDjDLsbiV9iYZ4xmuScsrE2Y7W4+nvDrmUm6tjlt\n",
       "YKvISTQ4s0sVeXadX3rp+mM9ng0v603zFuOoXwww1pcBLfwAnVHKACTZYAxXVVXYVZ7CMrrEiPgp\n",
       "7H/+/hIb8Yxx/XIDL/SqrlnYbLOeoOhKJWLOWOU3aZrTh/KUWywsHSm4i9ceLzGO+lsDI7ufQWeU\n",
       "MgBJNRjDFaWq5ipLYZ1weY34Kexip+0lNuIZ4zKY+vJxq08eG/lmPaaY95xTPlcZ5nNAP2vlVAYj\n",
       "sw1qs65jyr3+anmDkdXfaxir87PiuVk60xeQRINxXFGqaq6yFLaeY/uiAUls/SU25hmjWr51XZLu\n",
       "Y0jEL8tUPFnoHW+AZh3TSnk/ZOQ+qBa7XDK/NOR3W2CsA55jgPo7BWO9X0f4oXAWI2+f9nBwwxVU\n",
       "VXOVpaD35WTJT2C39jtsimeM69JzeeCGY6Hj0Dz8WDTnmwLLFGHfwU7aTkXnm9pdt22uFBvdgwKX\n",
       "2nmt4p/sa9zDgNduy3179c5yF1Bx5vpTyJLxliuoqubqSOFYPx5vIuvYUnyGTfKMUawHQ+i6fJvR\n",
       "S1W8sBcaQUhpBien2rd3unqYi8sOTbeLXV+y6mz9Y9UwyJgdS9ZK++D95n0MUL9uYazPCHXxoXCG\n",
       "lWVfhBlvuEKqKq6OFOQxssfmEvuvD7EpnilqUdHaBgVfouxnUp2g95xD7GM3x7O7GNm1ScN4trEh\n",
       "yg9XykjIF17Oc7lKoYb95x9fYmOeOTLeH2+Doz1p4MA6xD/2sJ8xMfKxvYORI4DvjIJ84eU8l6sU\n",
       "atjOf4mNeZao2D8N3c4kNut95BxiH8v3+qvlOUZWf1IwsgTccIYhX3g5z+U6BRqbuu45NuZZo1dc\n",
       "Z9uZxGY98YUUA/eYN4xf3jzHyOrf1LN6zq6K7wxDvvBynst1CjR26L/ExjxbTJEtLW6zUMn+3fKD\n",
       "kgKv+qcYWf0xwcgUcMfZb7nipEBiy59xC9T+DyMlilRvjuYTAAAAAElFTkSuQmCC\n",
       "\" style=\"display:inline;vertical-align:middle;\" /></a></span>"
      ],
      "text/plain": [
       "|- (c in ({1, 2, 3, 4, 5} - {1, 2, 3})) = ((c in {1, 2, 3, 4, 5}) and (c not-in {1, 2, 3}))"
      ]
     },
     "execution_count": 49,
     "metadata": {},
     "output_type": "execute_result"
    }
   ],
   "source": [
    "diff_mem_03.definition()"
   ]
  },
  {
   "cell_type": "code",
   "execution_count": 50,
   "metadata": {},
   "outputs": [
    {
     "data": {
      "text/html": [
       "<a class=\"ProveItLink\" href=\"../__pv_it/demonstrations/dd36e31d017eb71eb46419f24a3127c441bff5210/expr.ipynb\"><img src=\"data:image/png;base64,iVBORw0KGgoAAAANSUhEUgAAAOcAAAAVBAMAAABPgOQBAAAAMFBMVEX///9UVFQyMjK6urru7u4Q\n",
       "EBBERERmZmaqqqoiIiLc3NzMzMyYmJiIiIh2dnYAAABC1PP/AAAAAXRSTlMAQObYZgAAAAlwSFlz\n",
       "AAAOxAAADsQBlSsOGwAAAqlJREFUSMedVj2IE0EUfl72J7ub3SwHgn9wgYhod6hgpewp2F5ALIQD\n",
       "98g1dnrFBeGKFFYWJoUWi+JpoZJCjYXYprvGIoonIhaxELFQ5EwRBDnfzO7szO7sZvUeTPL2zfvm\n",
       "m3nz5s0AZIiJTTkBeWLezDCem4ciCXEPcno/YHt7Mh/9YkUy2XWvkDTEnc7uK4+wjVGxbrM5to70\n",
       "Q+3Z1yb+LkuYjif6xxJbOM4eZJKexeZ0ARZWx5HlMTi/qKJchU4b4JuEIRbuzyS2iLjDmaTrESnY\n",
       "bJADABfDKE5gsZZHyv1LbDXMIuI2Rdz7IKhRpSGRXvZgjiZA6QJU/4G0PEyRijhV2P3j7xiiJpHu\n",
       "B5jrs90b7IJUxM2QMHz/RMYz41DrI4kUZYNF7h7sipTjHBeg19Z9wh+fHzoTvZYktf5E/28O4u+W\n",
       "RLpaQCrgKjj0fVCJy0yMNzDN4NEgSWq4cZiw+3k7fe6XisPLcOUG6JH5ZYDi043G2vKwnoKsxZqK\n",
       "RmWWoJVjBBPg5piz89xfD4I7l4LATY0Q46yfoPqh7TzvxQGsNS8BqUQLtfqgTXBb6qmVvlqZvlIR\n",
       "V2rAYtRvJMOruQnSW2DSPa+OKbgj1bzl6aQirtyFKm4eiY3N/EAbitmr0ImOwPaIpro0TF/+J3vT\n",
       "uIoPmLoOPYJHGZ6kdEjq/AZaSKDXal2nWmUw7ZwS/yQpG0HEkSP543VYFRaaUcysbkS6Z+/2ITBI\n",
       "yd7Y2dkOtVOtZu45pf4JUj6CgDPES/DMlagM3mUrpXIDZC1npfyeGopfKVwvs+BvJkhHIGtFpKXE\n",
       "9ZXCrWeSapiodiP6UOJJcy2sPwnZyr+6UzjTz/ZCszlh+ccfB9xhScJINQrycFrOe+Uptif78t86\n",
       "n2UG81q7+I1EcR8B/gJhiOmQmJIv8AAAAABJRU5ErkJggg==\n",
       "\" style=\"display:inline;vertical-align:middle;\" /></a>"
      ],
      "text/plain": [
       "c in ({1, 2, 3} - {1 + 1, 3})"
      ]
     },
     "execution_count": 50,
     "metadata": {},
     "output_type": "execute_result"
    }
   ],
   "source": [
    "diff_mem_04.expr"
   ]
  },
  {
   "cell_type": "code",
   "execution_count": 51,
   "metadata": {},
   "outputs": [
    {
     "data": {
      "text/html": [
       "<span style=\"font-size:20px;\"> <a class=\"ProveItLink\" href=\"../__pv_it/demonstrations/f1c29bbdcfdccc90248471a26329f85b68c2bcb80/proof.ipynb\" style=\"text-decoration: none\">&nbsp;&#x22A2;&nbsp;&nbsp;</a><a class=\"ProveItLink\" href=\"../__pv_it/demonstrations/16f17b783e0fbb6481139b7a92f07c66a4e260a60/expr.ipynb\"><img src=\"data:image/png;base64,iVBORw0KGgoAAAANSUhEUgAAAjkAAAAVCAMAAACTxA87AAAARVBMVEX///8/Pz9vb28YGBgJCQkd\n",
       "HR0NDQ0WFhbMzMxUVFRERES6uroiIiIQEBCYmJhmZmYyMjLu7u52dnaqqqqIiIjc3NwAAACb3p1w\n",
       "AAAAAXRSTlMAQObYZgAAAAlwSFlzAAAOxAAADsQBlSsOGwAABRpJREFUaN69mtuCpSgMRe2enh5R\n",
       "EFDw/z91vKEEEgjWqeIlloVksYnh4um6rfiOW0JNO47di+IXpquX7Rf8+cRye9ogzpdF8S1c9f99\n",
       "XMSM0y3cRkJNZ0b7iqIXA+fB1+3T/kYHLbOnLeJ8WRQGWxHH2O8VMdVwmblNhJrLeiP1MqHzWpuh\n",
       "T+7Nsx6u+B8Ew0+hfaRjWRXUn5ugZfW0RZwbGgFiilJlK+L0gsvzVkSooTXsbBxqzvK6IbRZoUc/\n",
       "7P9fQZq0+ujIAp4tlUL7GRNShfAX3khj+T3lixMcYUB8UVK2ecG50KJHJs97EYGGeuJqc9eMRt8l\n",
       "HsUxByoF0ubu366mOXKQ9rdUmfJmVQh/k4aW01O+OJGjDIgvSsJmpcG50CK5PLmGXBGBhoqcUge5\n",
       "lQhdMUZWHX+LNV6sjWp/GT4VOYurdZrypyy0dFHZRU2b4kg1iALZ3CRGlAvj+e8vlyfXkC1ipOFC\n",
       "JMDRuKStp2Yp5xz/EmufLwOmn4ocyp+ZoKVXEybrckWbSs7hiwLZZNcP6AhgPKLvPhg5Fb7N6nvN\n",
       "NTs33c59vhqIasqKR7lmnZNT95ORg/mbBbT0ZDXnXY7E8ehKqTRSfFEA274eNh4dgXys0jXQByKn\n",
       "wLfZEERebvOaviPc5OcGz+ugTdljvyZkvRPhjXCKsaAyX4wc3N9koN09yaiIrKe4OMaXofHI4Yky\n",
       "xeO/O1p0PgLoWE2Oz8OKnCLfZuW1epd7PKu7RSQvhpqdV1M5cqTAEt/5uF+rByTl9tmzVeZvUdDS\n",
       "S80luYDimAo0kYdZosRs5y472i4XxypJhEUe/mxF8W1WnUswDZ/sVXgRn3n2qumFGcse9YCuOq+a\n",
       "Vpjl3mRGb/w9F5DtnwlCKZggqMkh99ev0NIL5BFeQHEwbQA0CsQUJWY733jnUi50rP79w+IhNGSL\n",
       "GGl40SjYMTvQevY6OgdGPE7py9UfCgzhbMBUzsQr7ddzDuVvVNCyIweKg2kDoLFR4IoSsV0LFytT\n",
       "LnSskpOfMg8j51T4NntmQJtOwrKQw+NzYIRqT6U+XgqsR50LYlnrB3Hl9quRQ/lbJLTkOieZrVJx\n",
       "ZAUaiRy2KBFbiAW9dEWck0e28DAip8K32eFs5Np+3enA5Z9QBlfY+zyfC471/75LvG8pESW+mbFC\n",
       "fre3qvqbBmjpyHXwIhHHOd5J4EPOFyVik/fWqSviHDyjbtnr0ZHD5dvstc06p+H5ORIw2UL22TDG\n",
       "O93zeCscNm7Lfr0XGd3qpun9ec68+lqvUwTSX9jU6tq3qLunhDhmKUJnQA2iPGzPXun+4lUYK9FX\n",
       "eYqRwxUx0rC/bs7zNMXnW1YMyafWXmZQQqjViL11eW0B5HoUE93aXwh9fzxripynfbLXOQLpT47Q\n",
       "0istmVwk4uTaRI4QoAZRHjbxpHFXxtl5/mHw0JHDFzHWUPaEfuM8wBP2uyY2+ovl3GrOOYgj8qcI\n",
       "FX9eQlvalvfpRU0bFBoDKkNW2Mix+v2Lw8PQkMl3WMYHwJDAdAFqZt36QOSM5LeDir/wuZDxFfPu\n",
       "KV8cDHpuhqywkTjGNolIa8jkO+3A/tVbqImcA1vHuQXPh8nCOWfuWv35AVpWTxvEyaExoDJklY3A\n",
       "wZ77DhETDe3AbjY8mJ8DIw5RBqsYv1tgnDN3zf6C6KxYuDXhi5NDu2bIKhuBMy8/I2KqoXdsda6a\n",
       "Xos3WJ2fec+9bb/gz3lomT1tEefLojDYcBzxMyICDf8Hv418+mRKQA4AAAAASUVORK5CYII=\n",
       "\" style=\"display:inline;vertical-align:middle;\" /></a></span>"
      ],
      "text/plain": [
       "|- (c in ({1, 2, 3} - {1 + 1, 3})) = ((c in {1, 2, 3}) and (c not-in {1 + 1, 3}))"
      ]
     },
     "execution_count": 51,
     "metadata": {},
     "output_type": "execute_result"
    }
   ],
   "source": [
    "diff_mem_04.definition()"
   ]
  },
  {
   "cell_type": "markdown",
   "metadata": {},
   "source": [
    "###  `DifferenceMembership.unfold()`\n",
    "\n",
    "From something proven or assumed of the form $[x \\in (A - B)]$, derive and return $[(x \\in A) \\land (x \\notin B)]$, or, for the special case of $x \\in (S - {y})$, derive and return $[(x \\in A) \\land (x \\notin y)]$ (if that theorem is usable)."
   ]
  },
  {
   "cell_type": "code",
   "execution_count": 52,
   "metadata": {},
   "outputs": [
    {
     "data": {
      "text/html": [
       "<a class=\"ProveItLink\" href=\"../__pv_it/demonstrations/a317ab80cd44dfafd4d70afb1e9c805a43afb23e0/expr.ipynb\"><img src=\"data:image/png;base64,iVBORw0KGgoAAAANSUhEUgAAAPsAAAAVBAMAAAByEoVnAAAAMFBMVEX///+YmJhERESIiIhUVFTc\n",
       "3NwiIiJ2dnbu7u66urqqqqpmZmYQEBAyMjLMzMwAAAA7oY0NAAAAAXRSTlMAQObYZgAAAAlwSFlz\n",
       "AAAOxAAADsQBlSsOGwAAAz9JREFUSMeVVktoE1EUvU06nZdPkxaXBQ0ooig4WqXFT4l2USgUAoYK\n",
       "KthVLAoSiVRELYN2pzIBwQ8ozabizrQLd9Ja0Y2bLETa6iIL3Sm2FLEGKt73mZn35pOSBxPO3HM/\n",
       "7913750ABC0NH/IUWljajF/WxMPZHP7kwtij+Jx40kp4+LbHJ2riIXXKBHgo8NeqSsaL+GzIkjsf\n",
       "Anz8/Ci/7fLSqgeyf0x+jWQBol0cpyuq4QN8dEUbvgSdoSG/THhZj4fOqo9c4njaVA1n/caNgOix\n",
       "jVbCq2dkZI9ieahQqDGw4DNWIwX63yq8ekZGJk0ps8/77Uur+Yw9roLSuVX4CT/ZiZevDQ2wzGpL\n",
       "NpUo2ny+dFpEGjwscqf3bucgX/olRKR0zAwL73iAT73DApUO1jmpY/09y0VYZjudNqSbggSmIPYe\n",
       "DvD8WEvkN+/vSzDHr8Ph4FE9hRs+7g2veiCbpsUjjFYSGYjSC26rAXnL9DCoY9dBT3Ue93C/C15z\n",
       "0SsT3nGuKAByb8TEWYNoGeCCp308HrANkwZDFynQaMbjC5BYpS5x/SjgylCURGf5ZQTzVJctjPSH\n",
       "gXm7gFwust57gx5vBOOTz9RLoQ4+D3jGNIuT4FU8tYIDZxWSGbDKbLI426bhU3MYZxHIXxA7jvHW\n",
       "W7SVXC6d5Ve97Blsqgc84zTLT5IdEW5jkNgCWAbs4LyafBxLZB3aVu2255tGkSg3l0sb9v2oS/WA\n",
       "bc8zZxnOSIyPgVWBkTitiajh2Bm8bkkD2mszQI3+0VukYA33TIHE0bvDDd8KqHxJK13HKiMUYEmU\n",
       "QWell8FY8csJpr7i2GVF2+yEF9Uq2cS3k7APGMCyn2TA5bB+7+VCGs/Vau+KVMHCIsey10XjYYeT\n",
       "wcn8AC+GvSJ9qTFhPNX3fbAOBRRP3cQ9U6Bf3WZyicNBX7cRNnZcLTKEo7xjHOXXu/vFUOgoy/qP\n",
       "d4uhe0WZWXEzFEio2dRztV4q5Gjw17hHMdbDgYSahXe1igo5Gxw+glfJxhJbd8OBhOwh5K4AD8SQ\n",
       "R6KWCQ5PUK45n1gjHEgI69r7/8vvIeqQ2EjslIGLfibODbf0X+9axSdr4uEMpY4A/AcllPE1eXdq\n",
       "wQAAAABJRU5ErkJggg==\n",
       "\" style=\"display:inline;vertical-align:middle;\" /></a>"
      ],
      "text/plain": [
       "d in ({a, b, c, d, e} - {a, b, c})"
      ]
     },
     "execution_count": 52,
     "metadata": {},
     "output_type": "execute_result"
    }
   ],
   "source": [
    "diff_mem_01.expr"
   ]
  },
  {
   "cell_type": "code",
   "execution_count": 53,
   "metadata": {},
   "outputs": [
    {
     "data": {
      "text/html": [
       "<span style=\"font-size:20px;\"><a class=\"ProveItLink\" href=\"../__pv_it/demonstrations/a317ab80cd44dfafd4d70afb1e9c805a43afb23e0/expr.ipynb\"><img src=\"data:image/png;base64,iVBORw0KGgoAAAANSUhEUgAAAPsAAAAVBAMAAAByEoVnAAAAMFBMVEX///+YmJhERESIiIhUVFTc\n",
       "3NwiIiJ2dnbu7u66urqqqqpmZmYQEBAyMjLMzMwAAAA7oY0NAAAAAXRSTlMAQObYZgAAAAlwSFlz\n",
       "AAAOxAAADsQBlSsOGwAAAz9JREFUSMeVVktoE1EUvU06nZdPkxaXBQ0ooig4WqXFT4l2USgUAoYK\n",
       "KthVLAoSiVRELYN2pzIBwQ8ozabizrQLd9Ja0Y2bLETa6iIL3Sm2FLEGKt73mZn35pOSBxPO3HM/\n",
       "7913750ABC0NH/IUWljajF/WxMPZHP7kwtij+Jx40kp4+LbHJ2riIXXKBHgo8NeqSsaL+GzIkjsf\n",
       "Anz8/Ci/7fLSqgeyf0x+jWQBol0cpyuq4QN8dEUbvgSdoSG/THhZj4fOqo9c4njaVA1n/caNgOix\n",
       "jVbCq2dkZI9ieahQqDGw4DNWIwX63yq8ekZGJk0ps8/77Uur+Yw9roLSuVX4CT/ZiZevDQ2wzGpL\n",
       "NpUo2ny+dFpEGjwscqf3bucgX/olRKR0zAwL73iAT73DApUO1jmpY/09y0VYZjudNqSbggSmIPYe\n",
       "DvD8WEvkN+/vSzDHr8Ph4FE9hRs+7g2veiCbpsUjjFYSGYjSC26rAXnL9DCoY9dBT3Ue93C/C15z\n",
       "0SsT3nGuKAByb8TEWYNoGeCCp308HrANkwZDFynQaMbjC5BYpS5x/SjgylCURGf5ZQTzVJctjPSH\n",
       "gXm7gFwust57gx5vBOOTz9RLoQ4+D3jGNIuT4FU8tYIDZxWSGbDKbLI426bhU3MYZxHIXxA7jvHW\n",
       "W7SVXC6d5Ve97Blsqgc84zTLT5IdEW5jkNgCWAbs4LyafBxLZB3aVu2255tGkSg3l0sb9v2oS/WA\n",
       "bc8zZxnOSIyPgVWBkTitiajh2Bm8bkkD2mszQI3+0VukYA33TIHE0bvDDd8KqHxJK13HKiMUYEmU\n",
       "QWell8FY8csJpr7i2GVF2+yEF9Uq2cS3k7APGMCyn2TA5bB+7+VCGs/Vau+KVMHCIsey10XjYYeT\n",
       "wcn8AC+GvSJ9qTFhPNX3fbAOBRRP3cQ9U6Bf3WZyicNBX7cRNnZcLTKEo7xjHOXXu/vFUOgoy/qP\n",
       "d4uhe0WZWXEzFEio2dRztV4q5Gjw17hHMdbDgYSahXe1igo5Gxw+glfJxhJbd8OBhOwh5K4AD8SQ\n",
       "R6KWCQ5PUK45n1gjHEgI69r7/8vvIeqQ2EjslIGLfibODbf0X+9axSdr4uEMpY4A/AcllPE1eXdq\n",
       "wQAAAABJRU5ErkJggg==\n",
       "\" style=\"display:inline;vertical-align:middle;\" /></a> <a class=\"ProveItLink\" href=\"../__pv_it/demonstrations/51216695d204e3f2128574358086405a93b387110/proof.ipynb\" style=\"text-decoration: none\">&nbsp;&#x22A2;&nbsp;&nbsp;</a><a class=\"ProveItLink\" href=\"../__pv_it/demonstrations/ce2ab7e81e58e5eb23d2153e7fac85ccb3a7ab4e0/expr.ipynb\"><img src=\"data:image/png;base64,iVBORw0KGgoAAAANSUhEUgAAASsAAAAVCAMAAAApfTjvAAAARVBMVEX///8/Pz9vb28YGBgJCQkd\n",
       "HR0NDQ0WFhbMzMxUVFRERES6uroiIiIQEBCYmJhmZmYyMjLu7u52dnaqqqqIiIjc3NwAAACb3p1w\n",
       "AAAAAXRSTlMAQObYZgAAAAlwSFlzAAAOxAAADsQBlSsOGwAAA1RJREFUWMO1mFeCoCAMQN06VOnc\n",
       "/6iLA2ro6M74Z0x5QAiRbQuP2x48itLtux5nTpQVJPfg4yvqBo41D+ytpOrb5mpDmETv1M5JhthS\n",
       "fQF1hWP0/U1yMbY2vhtTEc4WEQZhCE6j2ydOxtgIL1JPsHMcJeE3P8kxPZoOKVYXrB/mCpAnxqYL\n",
       "iwm2oMvUQ+wcR8AFpF79x1z51c08CHMF2LMRKCaLyRhjs3XqIXaOw/tOLWHhkatRpxO94uX+xKE3\n",
       "u+O8OPexD+qPv8vUY+wMx8heOlJp1aO80mx1Cw6y/nYi9yxPEMkqUA87UmO0Trb4MeCIs0Q6rC0C\n",
       "6eikGtke6i4/rCS2Fhf5rK3dM+4yTNxhQU2oAk7jvJBL2Ab0sCO1kuvUY+wM51w9ygMKAekom+2L\n",
       "kB31AOgDp/LQzLHAIGBCNOyCkAUuFEdvr821gwEfMAYmYw87Uu92mXqCneGwOKOK78DnZ9Rmd8Z3\n",
       "qM7qg5lDTKYLSR3mcOoPoaXp5Vxiw4sOgIEx9rBl6wwdUU+wMxweEYW/lBIeZ+khYP/IVGAr9YvY\n",
       "A5moqmbLLiy0tVafpVthGfGQvzRi+bFgPB3sSP3n9zr1DBvipKCcfKYjBS1aq4kUqY+t1E8GCksR\n",
       "r3y07Daf9Y36HBnlRS+lWDVXpb9IXfRiQ+oZNsSJyaz8sWa773YoeR/bUE9tClyTqJXXhobdlqnd\n",
       "LbZhZR8qTLEHa3+siT6gnmBnOMTG74cFlpu5/xJt/wzN1E9nHp0V4ZLEMkEvSdPu3BRxIvRdTEm5\n",
       "bO6uSz3sg5qKB9RD7AInncxHbMPEBsJI0+8ZgHo4R1JRCSGI2IAkHiUa3ZKWXTzwlHBFz3C1Bfep\n",
       "RlDRUNTYgbporsbUI+wSB7FUwqxGDlsEqxqpf851rc7S+aSwTj8ep2TTet8/G9pbp7YLyXCoVc0f\n",
       "O+sKvijQNWtd7ED96wn1ELvEYajf/Wuy8o9j1BtJWwbaxvFfQB/754+X1C1RjrMvXw70oupXkrbs\n",
       "DiDGlzJ9bKleUjdFOQ55ci1qeX0BZN9I2rK7r3RkQtLDbhkuUTeBChxFHsyVqy8w6ggrkrYsnUgr\n",
       "K9jD1uYldUtU4Tj7ZLIEfnLl/PCCW5/O7TzZO9j466gLnH953EbE8e/IEAAAAABJRU5ErkJggg==\n",
       "\" style=\"display:inline;vertical-align:middle;\" /></a></span>"
      ],
      "text/plain": [
       "{d in ({a, b, c, d, e} - {a, b, c})} |- (d in {a, b, c, d, e}) and (d not-in {a, b, c})"
      ]
     },
     "execution_count": 53,
     "metadata": {},
     "output_type": "execute_result"
    }
   ],
   "source": [
    "diff_mem_01.unfold(assumptions=[diff_mem_01.expr])"
   ]
  },
  {
   "cell_type": "code",
   "execution_count": 54,
   "metadata": {},
   "outputs": [
    {
     "data": {
      "text/html": [
       "<a class=\"ProveItLink\" href=\"../__pv_it/demonstrations/2df236663a8b5f5c3c7c599dc1e17967952a9def0/expr.ipynb\"><img src=\"data:image/png;base64,iVBORw0KGgoAAAANSUhEUgAAAP4AAAAVBAMAAACUO04jAAAAMFBMVEX///+qqqqYmJiIiIgiIiLu\n",
       "7u4QEBBUVFS6urp2dnbMzMxEREQyMjJmZmbc3NwAAADzFso2AAAAAXRSTlMAQObYZgAAAAlwSFlz\n",
       "AAAOxAAADsQBlSsOGwAAA2xJREFUSMeVlk1oE0EUx1+brOmmyZKDCl409OJBhSi0IArmEK0UpAHB\n",
       "ClZaCuoxbRWDWm0OWhU85KAWQWhRURSKOVgqHjQVpAUFiyhF0sBqRZFSWz8qosX45u3M7s7upjYD\n",
       "u/uY/c/7zZt583YBPJqGl3IBKmnaWo/O/Zmy+nc653i1zXhtP7ds9iAoOtwZdvX7xpNlxwRP4bua\n",
       "GM6h+HzQ8a4qi9cCE+0U0Zki7VrBDGqIP1MvEuhsxMVYx/C3xBxmpx7ZXdR2orkFYAbUX45xrXip\n",
       "cYCWqQXeY4kOQtVXoWvkz10/ruD9souPPcrpl5yv5WAgY3PBABBKwhmAw45xrzgffIJviXZElEWx\n",
       "vILfKWhuPg7g/IAOK9ptLghQPQGpJPTq1L8tkciT0e7iW6K+DAj+jbFK+CsWIPDX5oIAcAiOAfTS\n",
       "3l6qF9ufd/FNEXv9jRvZiviBOAR+21wY/Kfs1kz780wMC2ddfCFi7WyUL78u+N1bT/6fj80/b3Nh\n",
       "8PtZln9nVkgXshADhPMy3xBhu5nmC/EeBH8Y5jCzGlz8KQf/fszmwkfJsJFNi9YvZE0zgrePUZlv\n",
       "iGjxeP5nTT4eJgxmLuIsSR0OfqPdhUZuVuNVoL7bCWw5yhQM5tM4yPyC5TdFHqt1Gz+MmaX0sAm0\n",
       "MjeJJobvycj8cE5y0TLKlgQdGZEdMF8yfrCQlPjVIvx7AE8o0GkQ/No8hDGz1HFH/EPDMn+97OI6\n",
       "m14fwBrQ2Nb75fWn8mTxuQiglOT88+n0zxPGfDGz53m1k9qIxMeq+sXmggosrIRgFnwUa8zczJg9\n",
       "/xXKPiYi6whbPMUQos1GqjgFXNqr5fOfpnAXoJ4scgEq5d8G+FAsvib1qBimdgq+itvaxg4Ciciq\n",
       "Y4e3zahTf4BqoTYBDcmy529A56o9xWKcrDrb+X8LzaWSUdBaHvKVCsY5P3B8sRv87BtEIrJqivjx\n",
       "IAsKpaPAPjwwO/mm7PlPp8aipPKXSqU8WeSC83fb5Bcf8PrbJOKntgqWsKqScrTu+GWVZRFAi3t9\n",
       "mzdJ/CwsYamwHL6lslkMEI568Wt1UZ7Yf5CZl17WXke1k1qDW2VZVGBnPP9NlJwoT+wMWL8zHlbM\n",
       "GtTh8mNWxJiHfh8L/bH3z9E0S6quyv7/+iPuvslIWf3nLvqEwT9WKAnvm4tUaQAAAABJRU5ErkJg\n",
       "gg==\n",
       "\" style=\"display:inline;vertical-align:middle;\" /></a>"
      ],
      "text/plain": [
       "2 in ({1, 2, 3, 4, 5} - {1, 2, 3})"
      ]
     },
     "execution_count": 54,
     "metadata": {},
     "output_type": "execute_result"
    }
   ],
   "source": [
    "diff_mem_02.expr"
   ]
  },
  {
   "cell_type": "code",
   "execution_count": 55,
   "metadata": {},
   "outputs": [
    {
     "name": "stdout",
     "output_type": "stream",
     "text": [
      "ProofFailure (InstantiationFailure): Proof step failed:\n",
      "Attempting to instantiate |- forall_{x, A, B | x in (A - B)} ((x in A) and (x not-in B)) with {x: 2, A: {1, 2, 3, 4, 5}, B: {1, 2, 3}}:\n",
      "Unsatisfied condition: 2 in ({1, 2, 3, 4, 5} - {1, 2, 3})\n"
     ]
    }
   ],
   "source": [
    "# This should fail, since 2 has been subtracted out\n",
    "try:\n",
    "    diff_mem_02.unfold()\n",
    "    assert False, \"Expecting a ProofFailure (InstantiationFailure); should not get this far!\"\n",
    "except InstantiationFailure as the_error:\n",
    "    print(\"ProofFailure (InstantiationFailure): {}\".format(the_error))"
   ]
  },
  {
   "cell_type": "code",
   "execution_count": 56,
   "metadata": {},
   "outputs": [
    {
     "data": {
      "text/html": [
       "<a class=\"ProveItLink\" href=\"../__pv_it/demonstrations/ab685e240a666cc11301e38ce7174f7ddaf2d59e0/expr.ipynb\"><img src=\"data:image/png;base64,iVBORw0KGgoAAAANSUhEUgAAAOoAAAAVBAMAAAC6fm+xAAAAMFBMVEX///+qqqqYmJiIiIgiIiLu\n",
       "7u4QEBBUVFS6urp2dnbMzMxEREQyMjJmZmbc3NwAAADzFso2AAAAAXRSTlMAQObYZgAAAAlwSFlz\n",
       "AAAOxAAADsQBlSsOGwAAAxFJREFUSMeVlk1oE0EUx1+TbNt8bXNQwYvNXYUoGBEFg8QPeumChwoW\n",
       "LAU/bolVDJZqe/ELFHJQexKLiJ6KHgztSaIgDSgYRCmSBhYrihSpQSuixfjmzUeyOxtpBib55+3/\n",
       "zW9n5u1kATyaid24Cu00c5NH8MiEl8tsMcQ27HsurZk4BYYNDwta3F+y3CHm6k4gufpyynWpI499\n",
       "BUVov7xHZfpyZ1b5psV35lUah5/RqL0Mel+SeSZzbQdYguAvl3sQezAFMLCwIiLKZJShNyZ9B8X3\n",
       "gR+38POmRsWIceG1oIpM5opYcBHghMv9RlDBL6nK5K/BsaJcQEnNSoZOBdgrqCKTxXxlyFgwblN8\n",
       "dzrNBxzSqMrUfQp6JPXeXDtUkUmx43AWYJz27PoOua1FjapMbLfiQuTboopMij1nH/1UMC/kxWhe\n",
       "o0oTu+d9coFtSR3ZNboWKmVSbJJV6nemIra8GmGTiRadVG7C752jIvIBJLUAy/hgJjXqgoPKM8m1\n",
       "BXuAViiizAFWpJ/iTio30TqJGs4rKkAYV2Y55j4Sht0rHBOuDdgrFHqQxvaYqU688c8lcFIrSnXy\n",
       "oM9uokb/4qMxxgYcZMOk+xh0bMJFZZnkeoTpfBZHGxfRHapYDqowQWgKwjVSiyCp4SJEf2MllFxz\n",
       "nS40U0UmuS4DbASTbWnAucLhrIMqTNCzIqlXcrmf5/ldpqDrmziJHG2mmSoyybUOQnnw07wSapMS\n",
       "zTVs0I0yE1OdWbZOYqCTQCqIYdya261r2FKZ3LUZPlarb8nzTJqDWUkN4nbRUUQmpnxxfOqMVW78\n",
       "A6TMMiStlk/OXZu7KFPE3kN/vc4HGZiVO5AS1K5zqyMQYP8AZCJ1o4pneJqclfoZrr7Ov2v5vOYy\n",
       "c3HuokzuOtRkuvZEnIh9cq7U1oOmOixdtZqrh8tMef1fbnVQ86CpIOjqf1SXKxr3ooaxXP1D4oeh\n",
       "qqyhDoOu+EnkaMkWriXPdwMDK9KsyeO28WqgVMJDGcPaOOq0crmeer+SLLISOd3ee9NkTI/Nx7xc\n",
       "fhv+AdTN7M3qdkRIAAAAAElFTkSuQmCC\n",
       "\" style=\"display:inline;vertical-align:middle;\" /></a>"
      ],
      "text/plain": [
       "2 in ({1, 2, 3, 4, 5} - {1, 3})"
      ]
     },
     "execution_count": 56,
     "metadata": {},
     "output_type": "execute_result"
    }
   ],
   "source": [
    "Difference(set_12345, Set(one, three)).membership_object(two).expr"
   ]
  },
  {
   "cell_type": "code",
   "execution_count": 57,
   "metadata": {},
   "outputs": [
    {
     "data": {
      "text/html": [
       "<span style=\"font-size:20px;\"> <a class=\"ProveItLink\" href=\"../__pv_it/demonstrations/0ad716cfdaa83c229e689c9d39d94c46737c7dbe0/proof.ipynb\" style=\"text-decoration: none\">&nbsp;&#x22A2;&nbsp;&nbsp;</a><a class=\"ProveItLink\" href=\"../__pv_it/demonstrations/ad98b3ed68f44011a9e5d23c89d8e1187a61263d0/expr.ipynb\"><img src=\"data:image/png;base64,iVBORw0KGgoAAAANSUhEUgAAARsAAAAVCAMAAABBjrrXAAAAP1BMVEX///9jY2MJCQkdHR0NDQ0W\n",
       "FhbMzMxUVFRERES6uroiIiIQEBCYmJhmZmYyMjLu7u52dnaqqqqIiIjc3NwAAACGmE1UAAAAAXRS\n",
       "TlMAQObYZgAAAAlwSFlzAAAOxAAADsQBlSsOGwAAA4tJREFUWMO1mOmWpigMhp3qGYLsi/d/raO4\n",
       "ACEg9unmR53zUZr3IYQkuCz7iMv8sOu6/L0R/cMyAxXn/zfBTYkHPw8fzGr/vEtYoj+AGPDL/hre\n",
       "YUbgxn7mbsW9S57S2nD29rbfbgUmsBZlITqnebthTNe/5WaMuAxyuJej3mBG4Axo7ha8ZETi1qQH\n",
       "+P7HbW9x58QZoKDNhiUIC1YnrmZ7BaDfchPOVhLNzi8OmRmD65XgpsArRiSuk4cgnTAp53xzOBb7\n",
       "hrIQDkm7GXwWsG+AlFBVdFmBzIzBRYe7Aa8Ykbi8ovp4A7YygwUu9mEmfUNZWOWxe9g3TJkp3yyy\n",
       "lAgK6uAYgv/3bwU+8E3FWIv7cxLSJGz54K4m2E9x01h4zjpKHG6Z9I1RVSAwXpkdggObjZuKsRbX\n",
       "rtTfcvow9tuZaizcqAK5JsTWNyq4ezUFnoM68ZoyOIbg1ixffPMw1uLl3rAt101D9g7ajH1TWjgn\n",
       "AqAtjLsg9s1ROuOVT0NOHapY4cHjywQ0BFehx02AF4y1uPB0+TBkdyTV2Dc4yS5tnTq22xCPLfzc\n",
       "s5gf9xKV5LL8DsFR0BfcvTPlCXGZE5wuzjOT4hp5MoJZxxKaUx6V5aMq9nyjr3xqwfg7HPKpSxsb\n",
       "inAYgf/6KcEr7s6m3oyVeJZQJbClVsk0tyMJhZfM0op4ETgxrQ75hpvTN2dgu2clq6x7mb2OU75p\n",
       "wVErVHI34DVjJf6EZuoyY6T7g2cVMPANsnBUxvRQ6ZsVjrFJKDOpvGoNbmG9wH2f9u2ZIsBFn7sB\n",
       "rxhrcX6FKUuwuWyHMNf7ZaFs4ZmT8MRrBXTO2zIF7ZNnqLoiHXK8UzGnwQH4qvvcDXjBiMWvOhmF\n",
       "PkbhcOOHvnFndshNb7aQ55S6e4e6Od54/apOJcLiZTxlOpedfHMagAMb+AaDZ8ZGnImrQUijWIAF\n",
       "3l5d73cB9ushHPbuK2Jp4Znbd1Bf97g8t6fObYNQTu33RdDNfWoR99mHfFMM+c7YBf9pwB+jBHhm\n",
       "bMRF9/K9Ot6/M+QsQ5XEuTk/bi+jGN7tuuDqnwac4CbVkbjSHz60EBqOemxuzo0l9PgjRRfc2Blu\n",
       "GhKJ8w+f/UJz37VEzp6cs2HYekf+AtMBp95ruWl1LG75vG9i8y2GUpicI11jnxb2dc864M7PcJPq\n",
       "rXgMH5yj4cMX1O/fi91jPryHMw0Ov8uNxf8HPQU8BwUeN9QAAAAASUVORK5CYII=\n",
       "\" style=\"display:inline;vertical-align:middle;\" /></a></span>"
      ],
      "text/plain": [
       "|- (2 in {1, 2, 3, 4, 5}) and (2 not-in {1, 3})"
      ]
     },
     "execution_count": 57,
     "metadata": {},
     "output_type": "execute_result"
    }
   ],
   "source": [
    "# Notice here we don't need any explicit assumptions\n",
    "Difference(set_12345, Set(one, three)).membership_object(two).unfold()"
   ]
  },
  {
   "cell_type": "code",
   "execution_count": 58,
   "metadata": {},
   "outputs": [
    {
     "data": {
      "text/html": [
       "<a class=\"ProveItLink\" href=\"../__pv_it/demonstrations/45d25c818551362762531bf0b0516ba05d5879680/expr.ipynb\"><img src=\"data:image/png;base64,iVBORw0KGgoAAAANSUhEUgAAAQ4AAAAVBAMAAABF+R16AAAAMFBMVEX///+qqqqYmJiIiIgiIiLu\n",
       "7u4QEBBUVFS6urp2dnbMzMxEREQyMjJmZmbc3NwAAADzFso2AAAAAXRSTlMAQObYZgAAAAlwSFlz\n",
       "AAAOxAAADsQBlSsOGwAAA2RJREFUSMelll1IFFEUx4/uzq6zH+NCH9BL7lsPFWyBRhS0xPSBEA70\n",
       "YJCQCFlvbhZJYilCX1CwD5VPoYQUPYg+JEoPsQWhUJCEIbEuDBlFiKnURpS0nfu5O3tnXa0Ls/fs\n",
       "uf8z9zf3nHtnAFyagZd2A9bTjK0uzhM9a4szSgzuwmv/1TUzDIBmw6NRxe+ZtMoHk7iqGLJkXg0U\n",
       "DVUk8cqiETgkqKXoy/1xqRvifdtrEyccU6aoIRiDkmWwmGph9imwuN0A86D/LBpvwkuPAzTOZrlH\n",
       "irQpqIkI3RHeH/5+F3/vKBzo0S6/4bPnLZmSEejvYXEhC64AtBbFv+Uc4BEcUuRZhlMpseyCIyFm\n",
       "VTkADsjZpdXLOr8NvmamqpyCNgu6berfZ5psimaFQ4qqzkK14Hgw8Y8cG1jny4L/D1edhgsA3TT3\n",
       "t2pFeaQUDikiWY9yI/mfHP44+H9x1Qvy00Cz9VLow0mFQ4jIihwUabEFR/vezn/hwOZd4qo+siu+\n",
       "EStki8EQeeBwysnBRNjv6eSeDyA4RmER661O4ZgtyzEc43E7CBRd11AekmyIT1EnBxPRvPD9kpQc\n",
       "AEFcvcVI8RHVUpaDVDqN24xXmroemthGaP3gw32eBCdHWlo+5qy0CzjCWG9aF7lhE7mNWU8wunrc\n",
       "OKZNs9U02VYLk/lo3DDekD3pyfxEGB9IWw4OLoLAAASXqTUHgiOYgjDWmz5ZtB5Do+XWYxv5oXHX\n",
       "ALaAQUrD68xLMOHg4CKozgqO6x0dPy4xbqz7JX56OtpYGQ48t7/yuI0QSIKHPntMJjtWuF80ugxE\n",
       "RCxfguSF3/AMUEtHNy7wvdL7xXLneAxQy+O2w8dMZpp6n4twPSE4dEw7PT6piFiVUTw/tBUm/A3U\n",
       "Mqagziq5b/tt4Pp+28lhHMtk4lz1HhpyOSZrHOe8gTjn8F9caQcveddREbVuZ/A9Z1JlOneeWQsz\n",
       "70qeHx1tE1GmolYhhzeXy6V43NGCsJtP+LleL9aDtk2gWBWWapVajyKVc98KlRF3+yTY6eBIgmLp\n",
       "oFqrcehOf6+iCkfdOIKYSE8z/6PJ+s1bx0G12OnpaHUuKnA9deddRzSsfmNZvEbyn1fSirlYWoty\n",
       "H3nCxlbBoHHP3MfmSPGdW9/3aV9E9c1E1hbnseEvI0oAgzBgRLUAAAAASUVORK5CYII=\n",
       "\" style=\"display:inline;vertical-align:middle;\" /></a>"
      ],
      "text/plain": [
       "2 in ({1, 2, 3, 4, 5} - {1, 1 + 2})"
      ]
     },
     "execution_count": 58,
     "metadata": {},
     "output_type": "execute_result"
    }
   ],
   "source": [
    "diff_mem_08 = Difference(set_12345, Set(one, Add(one, two))).membership_object(two)\n",
    "diff_mem_08.expr"
   ]
  },
  {
   "cell_type": "code",
   "execution_count": 59,
   "metadata": {},
   "outputs": [
    {
     "data": {
      "text/html": [
       "<span style=\"font-size:20px;\"> <a class=\"ProveItLink\" href=\"../__pv_it/demonstrations/3d5f1874f4a421420848f1f42924a888ba7295510/proof.ipynb\" style=\"text-decoration: none\">&nbsp;&#x22A2;&nbsp;&nbsp;</a><a class=\"ProveItLink\" href=\"../__pv_it/demonstrations/7770eb22004f8084957500b067c690a40413a4d20/expr.ipynb\"><img src=\"data:image/png;base64,iVBORw0KGgoAAAANSUhEUgAAAT8AAAAVCAMAAAAHOBl9AAAAP1BMVEX///9jY2MJCQkdHR0NDQ0W\n",
       "FhbMzMxUVFRERES6uroiIiIQEBCYmJhmZmYyMjLu7u52dnaqqqqIiIjc3NwAAACGmE1UAAAAAXRS\n",
       "TlMAQObYZgAAAAlwSFlzAAAOxAAADsQBlSsOGwAAA6JJREFUWMO1mNl23SAMRWnaAmYe/P/fWhsP\n",
       "gBAYp7k8ZK2rYGnrMAkI2Vok880uC/lci/5mmYGKL/73M+AYYPDz3wez2J+XjaYEdyDK+Ol/Cc8w\n",
       "I3BjPwLeAnqX1NTacPr0tV8vCCogDuYhOqd5O+5U17/laow4HXJ2ZayeYEbglE2D47ZubgDQmtSB\n",
       "b3/c+jTFnTjWAtNmBSExD1Yn9GaaCAZ+y1U4W4VoZ5ADbsbgepkFx2xkkBsA1ElFllazlHP67eLD\n",
       "kJiHsEtnVwPXHdSPoSFUNUutAG7G4GIaHLUtqpsbAJTnCto9sLXcdQMXWzOTGJiHRe5DBvWjykzp\n",
       "R2QZIihWT6kh+N8/0+CozYdubjWgP8KwZGRr3kgWE+yr+dd4uLcesJE5MqmfUdWEorxyOwRn9P/m\n",
       "X61fFaQG1K5kXPOSN/bd+m08XOkIIF+IrX4quCvjAs+x+rAw5SQbgltDflK/KkgNWI4xXfNXBq2t\n",
       "tBnrV3o4DIGBqRC3gFC/vSSI5/Yc8lamChV2Hl9uiENwFV6BT+l3BakBhcePRYOeQ1KN9YMHA2nP\n",
       "333aGKQb4ce4xtzdS1COlGXGEBwungfwKf2uIDWgzJuyLvYXKsXZsjEys5Chfppjqsuyq4o9/fR5\n",
       "Blhm/DXieYWnSRyKrEbgv7/egZc2nbKWR/4My60CzBiqTMpiSlDN7QhDQVloypoXEzAmBYB+3Bz6\n",
       "HQvd3ckusq71thoG068Fh6XiE/jE/CuCVID3MkjVfIyd+omA2hvDAB72yiV1KvVb2N5WycrdX57H\n",
       "G7gpEC9g7ax9u34RcPEOfEK/IkgNyM+ONCWUS5YQ5urnHDh7uG2S3eu3AjzsttwSN+Mx5V2xPXM4\n",
       "mjFvywPwRb8Cn9CvDFIDnjVCFHpvxcAZP9TPHbtVvlxkD9mm1FX/1ZeQldef6nSsWVge3CVKPk7z\n",
       "TXcAzugb8Gzr6lcFqQGpOGub1Ex5LeTti8X1LWPblZ/t6lzX/tLDbdtmgj7fD7Jt24nXlYXStF3P\n",
       "mW7uv0Rc+wyzuR7Kd/4u+Ncr8MLW068KAgBF99Flcbx/f8uRkHN40ubHJXoUw7t4F1z9+jb4sH7G\n",
       "AZV+8fqFYDis25zNjUPo8QNWFxy7OU2Cd94PhoD8xfNzaN45LDJQkzYbhlecyB9gOuDod3PgUw0C\n",
       "Wj7/bWze8jCKSRuagL1vCo/j2gF3/tvgM60FjC9cRc08+VyL7nYfnpcFDs4+CQ4B/wHQ3kEBKdn3\n",
       "7gAAAABJRU5ErkJggg==\n",
       "\" style=\"display:inline;vertical-align:middle;\" /></a></span>"
      ],
      "text/plain": [
       "|- (2 in {1, 2, 3, 4, 5}) and (2 not-in {1, 1 + 2})"
      ]
     },
     "execution_count": 59,
     "metadata": {},
     "output_type": "execute_result"
    }
   ],
   "source": [
    "diff_mem_08.unfold()"
   ]
  },
  {
   "cell_type": "markdown",
   "metadata": {},
   "source": [
    "### Testing the `DifferenceNonmembership` class methods\n",
    "<br/>\n",
    "The `DifferenceNonmembership` class includes the following class methods:<br/>\n",
    "    <div style=\"width: 75%; border: 1px solid green; padding: 5px; margin: 20px; background-color: gainsboro; font-family:courier\">conclude(self, **defaults_config)<br/>\n",
    "    conclude_as_folded(self, **defaults_config)<br/>\n",
    "    definition(self, **defaults_config)<br/>\n",
    "    unfold(self, **defaults_config)</div>\n",
    "</font>"
   ]
  },
  {
   "cell_type": "markdown",
   "metadata": {},
   "source": [
    "A few `DifferenceNonmembership` objects for convenience:"
   ]
  },
  {
   "cell_type": "code",
   "execution_count": 60,
   "metadata": {},
   "outputs": [
    {
     "data": {
      "text/html": [
       "<a class=\"ProveItLink\" href=\"../__pv_it/demonstrations/83b01c83bae2063e9bbc88e6e11eac614e8751480/expr.ipynb\"><img src=\"data:image/png;base64,iVBORw0KGgoAAAANSUhEUgAAAPkAAAAVCAMAAACzF7hbAAAAP1BMVEX///9jY2MJCQkdHR0NDQ0W\n",
       "FhaYmJjMzMzc3NyIiIhUVFR2dna6urqqqqpmZmYyMjIiIiIQEBBERETu7u4AAADr3yGxAAAAAXRS\n",
       "TlMAQObYZgAAAAlwSFlzAAAOxAAADsQBlSsOGwAAAvhJREFUWMO1WOl6rSAM5G5gANnf/1mvVFYN\n",
       "yLFf/dFTIxkmMWaihIyObXDupSQ/dWz7trTuFYcK/rCJ9t0p7OlXS/9jkRPG3QL6Sw4FXMKZP2cN\n",
       "uqw73UX6DcM9B0AoB23V4JLjj94TDg8kMjjQdHcxFqqrJ6/TP2IWnFbL+Q/74IJ4zt58yYxE8UwF\n",
       "jbLo0RVd2XUYzu2Qw9v27chnJIonVTgLcObfX6Mbi13ZVYblp28M893IpySqp/UIkNTgCWfdk6VX\n",
       "dhVmudjHJfndyBcv6ljEmgPwWiJbfAa87otd3Hw3LmCDPpwe6FwPQFkvLocju5SkP5Yp/3HkCIc5\n",
       "iQoujl7nwxGqD0XjdPyPXmKiJQcpJdIey1xXWVegSM0cHJTrKuruSKQ5eLEzu2AfI59weCBRwanO\n",
       "GmFLqBoRc5OTuNkzB/7rV5m72Ng2Z0ZcLcmxK6ktRBvIdPLUJmccHkhU8N1mFiHXM7PGmD+/jz/N\n",
       "rbKJFddJ61QomJdbERqbuncbzNEFABBZRT3Xe5ZSUw9WKnzG4YlEAWchucqSDB8DFpe8p8gJU2kK\n",
       "su6rsjrNvwDlVRckxDF0w4vQ88l0yuGJRAGXNulfkxhzE/Om2tMU5EMsHhruQtpm+FzVtzLUERYH\n",
       "tGcODyQq+H6EGFh+ZJKYA5FXzXHQ91X/tQHXJL4EZLAKVCwnqqwW1DEV7JldYRd7Owo1JdGC06MS\n",
       "+HHFtaHqvRfzpAGdosRU7EYR9dVNz0sFqFjOhipYtaCOsc8Sr7YPVQ2DmpHowKNOey4U7SqS/76+\n",
       "CjFz2dVzEGzjEPGM8cmWgbKFCEEp+NaCORKIyz6eZFCoGYkW3KDNhP4S7uimrfKU1ooR2/0by8D4\n",
       "coZDoBBTnYHMypt5nfAHu4pXloHxZeRizWSub2D9pOCwfpqmImTE8vDGMjL2Qw7+YWKFA4qewdEQ\n",
       "72JeZR4fse47rFgGxlZlhkPcCgfMVMAd/j0K/yiS3ww2xZffwj//VCaWwN9xqOAQA/8PZ5cxc6WD\n",
       "UwYAAAAASUVORK5CYII=\n",
       "\" style=\"display:inline;vertical-align:middle;\" /></a>"
      ],
      "text/plain": [
       "b not-in ({a, b, c, d, e} - {a, b, c})"
      ]
     },
     "execution_count": 60,
     "metadata": {},
     "output_type": "execute_result"
    }
   ],
   "source": [
    "# a DifferenceMembership object that is clearly True\n",
    "diff_nonmem_01 = Difference(set_abcde, set_abc).nonmembership_object(b)\n",
    "diff_nonmem_01.expr"
   ]
  },
  {
   "cell_type": "code",
   "execution_count": 61,
   "metadata": {},
   "outputs": [
    {
     "data": {
      "text/html": [
       "<a class=\"ProveItLink\" href=\"../__pv_it/demonstrations/3e01adc67d7bc0753192a717ccb7862b02a3e0cc0/expr.ipynb\"><img src=\"data:image/png;base64,iVBORw0KGgoAAAANSUhEUgAAAP8AAAAVCAMAAAC+CcgcAAAARVBMVEX///8/Pz9vb28YGBgJCQkd\n",
       "HR0NDQ0WFhaqqqru7u5EREQQEBC6urrc3Nx2dnYyMjKYmJiIiIhUVFQiIiJmZmbMzMwAAABdXBgn\n",
       "AAAAAXRSTlMAQObYZgAAAAlwSFlzAAAOxAAADsQBlSsOGwAAAyZJREFUWMO1mNmCpCAMRZm1BWRf\n",
       "/v9TBxEkRKxCp5qXblOYe8ISgoRcNzF+pOtKvq+JRcx1fIYB3L/VURQ+maX8VSv9fNghh7QhBctm\n",
       "/D/FaO5XA6x+1BM+LbL8jVU2OAwgvFcsIJuUnp1nCgvyqJQrDpl9H8ZNDEhxuDf6+N0NJD2kpqr8\n",
       "I93+bL2KSFiw7ffYBUt9hl2wcyzoeHSSdhIv2z2MjqK5Pxa4GcXfUXhNMJzBwjbvKM67ZbqJ0qjw\n",
       "6sWC9hzbTPyTGB1Fe1WXRRi06nEMc+7rL4TmE8I8G2yEiWXl2zzg+E+Cn4x/gNFRAPd8f1WSDmdV\n",
       "Jtkt3EGLmhn4/JON4bxZNaIn3xj/FUalAO5VthjR4Yi8LWg3ZV5OCJdtE7FldSh8JJhxtZF1xP8z\n",
       "/guMgwK4lxuFSHaIo/LC0aY7Co8IvHotHKJBBmMtSsZIMCfl5EuUnGX4+/jvYgAK4F6rvBhR/IPD\n",
       "39UELrh+LTzKpCj/Y8E2CPvMiPNxcSpjHmBUCuB+SUOhRY8TuEvtz2/nGMgp+8wIq1byUtizES6H\n",
       "XbEgeLnkLGrVcpy7rrW6jB5iVIrmPkQi8joBODS/KvspKPGnsqUVZyNhjcMKmZmBGT0J5g5qj3+P\n",
       "UKo3pe1djJ6iuV85We3WIreyO/dRCjrWPyjOBsK5SBTw/Iu5E4z/LLiNb8nZqLa7bvcwOgrgfqlh\n",
       "cjBgJk3QispTZq4Tb5MPOaTt8Dxsu+O88jrM3U5hSkjGfdVK/iT/v8IAFJ17XbdJhPsl7Q6UsfeD\n",
       "AgnLfbe24k44vzUHbVrXk7cvArMgeNXnxEwfnH8zGI2id1+Odc9itO28oJb9QmsqOCxsbbqy2M1j\n",
       "vbakIzc3BW1pJfly82i2Q7CZ0p3F+vv1/yxGo+jcu4s88/NHKoAdnK8j9w7glsF2nbSNut2c/9sY\n",
       "7VXhpm7+8KowEpYjvjmbJJ+LfxrDnS51ZHCDxAlXkIvijJrBx5k526gbrO1efP54jNHcC3Y1uIP6\n",
       "i5bO5+JspDFpG4ZPuZ74jvUYo7lnV1/Aht9fhKmZyi7k+5qQc+4fYgD3Zgv/H2t2Or2Ce0ohAAAA\n",
       "AElFTkSuQmCC\n",
       "\" style=\"display:inline;vertical-align:middle;\" /></a>"
      ],
      "text/plain": [
       "4 not-in ({1, 2, 3, 4, 5} - {1, 2, 3})"
      ]
     },
     "execution_count": 61,
     "metadata": {},
     "output_type": "execute_result"
    }
   ],
   "source": [
    "# a DifferenceNonmembership object that is clearly False\n",
    "diff_nonmem_02 = Difference(set_12345, set_123).nonmembership_object(four)\n",
    "diff_nonmem_02.expr"
   ]
  },
  {
   "cell_type": "code",
   "execution_count": 62,
   "metadata": {},
   "outputs": [
    {
     "data": {
      "text/html": [
       "<a class=\"ProveItLink\" href=\"../__pv_it/demonstrations/6cd32d0ed08ba9043ceb1200a52de1a0631cd0ad0/expr.ipynb\"><img src=\"data:image/png;base64,iVBORw0KGgoAAAANSUhEUgAAAP4AAAAVCAMAAABRy6MiAAAAP1BMVEX///9jY2MJCQkdHR0NDQ0W\n",
       "FhZUVFQyMjK6urru7u4QEBBERERmZmaqqqoiIiLc3NzMzMyYmJiIiIh2dnYAAABSvsfBAAAAAXRS\n",
       "TlMAQObYZgAAAAlwSFlzAAAOxAAADsQBlSsOGwAAAwVJREFUWMO1WFeiqyAQ9TWQXve/1geIOBSV\n",
       "6A0fSSQwcw5TcVnOhho/knVdvjeUUHMLH8IA8m8UYQKfrMjfeCU/z1onRhGQRmxG/mMYh/zVXq+D\n",
       "T8Llb1+0atkAUJxjpps55zjr7aR5/Uw9xjLLY+iexBsYRb41Fxo4BE1w/uFknkAc+1qvYvF/X3El\n",
       "PGEVrXDZUJTUS0dqFVfjDYxDPr5woAoEN0uHzTZ6UQomSisfjSqJx63rtvTRgNoM/Scwjr2Gn0QW\n",
       "k//+SgCaTuil6Rl5mFJWGq3Q0tcGf4/+LQywl47Mv2JLFgSjR+CZY09/Ia/7QG2CzC1fpH8LA+zF\n",
       "ecZaU5arGBKkMhh3E3pzzPjuNGXD3qqevrFuP/CX9G9hgL0uwlAyRAZn5Uii25iqKuBCgONrvdo3\n",
       "5URbhGpDqCCspR+LkcrpytJ7+m9gAPkmipHRtrSsx31SlHvqVtRc65VoVKVE7fo9/e0MNrOovlB0\n",
       "zcsbGEC+CCfB6/2aSin//A4f7EgRm10UwutyqffwoT4b7SeuzujznK4IwqIUXHmM3Ynewjjk6xAi\n",
       "tF5LUt2sDZDph24FtGQDvaZlpRNkBuypkpc19Bne6G8EHb7pZ1/COOSvNJRD2xf8JvsU54ctWa83\n",
       "tYYKVhyf1kD6K4rDU+Tg8eZs3XZ0p+MNDCBfBL25HpQTt3ZZm36A2YuUe7SfiZElYIqi4nUVyG2e\n",
       "wHRQ3NDRR5l/EkYl37A9UNyRnrFocvVWILqqsYVq6emU5HFI2OYZsxfcuvXzDO4MbXrKyORJ4fsM\n",
       "Rr03FXTnjLHAOAT9bq5TWnZ6EQrXFBQF7lcV6dPAYCr4VECy3TWOuXDg3iMLp8I1BfEHPf/nMCr5\n",
       "cphkzC/HQqYF5ipZd4RNkJmp2WWfWv+FfCUnbvrV5WCk101NzS57TP9z+Xx441WDqsnUctaSETsz\n",
       "Nbus6ujO33bQH5Cv2PhoB10XyUsHLdlAx0jt5LKFUDPxzuoxDCCfjV93Dd+2KLsnKSSW7w3l5sQ/\n",
       "hQHk28j+P0zmMd6AfXHnAAAAAElFTkSuQmCC\n",
       "\" style=\"display:inline;vertical-align:middle;\" /></a>"
      ],
      "text/plain": [
       "c not-in ({1, 2, 3, 4, 5} - {1, 2, 3})"
      ]
     },
     "execution_count": 62,
     "metadata": {},
     "output_type": "execute_result"
    }
   ],
   "source": [
    "# a DifferenceMembership object that is not clearly True or False\n",
    "diff_nonmem_03 = Difference(set_12345, set_123).nonmembership_object(c)\n",
    "diff_nonmem_03.expr"
   ]
  },
  {
   "cell_type": "markdown",
   "metadata": {},
   "source": [
    "###  `DifferenceNonmembership.conclude()`\n",
    "\n",
    "Prove something of the form $x \\notin (A - B)$ via $(x \\notin A) \\lor (x \\in B)$. The special case of $x \\notin (S - \\{y\\})$ may be concluded via $(x \\notin S) \\lor (x = y)$ as long as that theorem is usable."
   ]
  },
  {
   "cell_type": "code",
   "execution_count": 63,
   "metadata": {},
   "outputs": [
    {
     "data": {
      "text/html": [
       "<a class=\"ProveItLink\" href=\"../__pv_it/demonstrations/83b01c83bae2063e9bbc88e6e11eac614e8751480/expr.ipynb\"><img src=\"data:image/png;base64,iVBORw0KGgoAAAANSUhEUgAAAPkAAAAVCAMAAACzF7hbAAAAP1BMVEX///9jY2MJCQkdHR0NDQ0W\n",
       "FhaYmJjMzMzc3NyIiIhUVFR2dna6urqqqqpmZmYyMjIiIiIQEBBERETu7u4AAADr3yGxAAAAAXRS\n",
       "TlMAQObYZgAAAAlwSFlzAAAOxAAADsQBlSsOGwAAAvhJREFUWMO1WOl6rSAM5G5gANnf/1mvVFYN\n",
       "yLFf/dFTIxkmMWaihIyObXDupSQ/dWz7trTuFYcK/rCJ9t0p7OlXS/9jkRPG3QL6Sw4FXMKZP2cN\n",
       "uqw73UX6DcM9B0AoB23V4JLjj94TDg8kMjjQdHcxFqqrJ6/TP2IWnFbL+Q/74IJ4zt58yYxE8UwF\n",
       "jbLo0RVd2XUYzu2Qw9v27chnJIonVTgLcObfX6Mbi13ZVYblp28M893IpySqp/UIkNTgCWfdk6VX\n",
       "dhVmudjHJfndyBcv6ljEmgPwWiJbfAa87otd3Hw3LmCDPpwe6FwPQFkvLocju5SkP5Yp/3HkCIc5\n",
       "iQoujl7nwxGqD0XjdPyPXmKiJQcpJdIey1xXWVegSM0cHJTrKuruSKQ5eLEzu2AfI59weCBRwanO\n",
       "GmFLqBoRc5OTuNkzB/7rV5m72Ng2Z0ZcLcmxK6ktRBvIdPLUJmccHkhU8N1mFiHXM7PGmD+/jz/N\n",
       "rbKJFddJ61QomJdbERqbuncbzNEFABBZRT3Xe5ZSUw9WKnzG4YlEAWchucqSDB8DFpe8p8gJU2kK\n",
       "su6rsjrNvwDlVRckxDF0w4vQ88l0yuGJRAGXNulfkxhzE/Om2tMU5EMsHhruQtpm+FzVtzLUERYH\n",
       "tGcODyQq+H6EGFh+ZJKYA5FXzXHQ91X/tQHXJL4EZLAKVCwnqqwW1DEV7JldYRd7Owo1JdGC06MS\n",
       "+HHFtaHqvRfzpAGdosRU7EYR9dVNz0sFqFjOhipYtaCOsc8Sr7YPVQ2DmpHowKNOey4U7SqS/76+\n",
       "CjFz2dVzEGzjEPGM8cmWgbKFCEEp+NaCORKIyz6eZFCoGYkW3KDNhP4S7uimrfKU1ooR2/0by8D4\n",
       "coZDoBBTnYHMypt5nfAHu4pXloHxZeRizWSub2D9pOCwfpqmImTE8vDGMjL2Qw7+YWKFA4qewdEQ\n",
       "72JeZR4fse47rFgGxlZlhkPcCgfMVMAd/j0K/yiS3ww2xZffwj//VCaWwN9xqOAQA/8PZ5cxc6WD\n",
       "UwYAAAAASUVORK5CYII=\n",
       "\" style=\"display:inline;vertical-align:middle;\" /></a>"
      ],
      "text/plain": [
       "b not-in ({a, b, c, d, e} - {a, b, c})"
      ]
     },
     "execution_count": 63,
     "metadata": {},
     "output_type": "execute_result"
    }
   ],
   "source": [
    "diff_nonmem_01.expr"
   ]
  },
  {
   "cell_type": "code",
   "execution_count": 64,
   "metadata": {},
   "outputs": [
    {
     "data": {
      "text/html": [
       "<span style=\"font-size:20px;\"> <a class=\"ProveItLink\" href=\"../__pv_it/demonstrations/eb9a9b29009d4b65c3d914e438d6d3dbe8b544d40/proof.ipynb\" style=\"text-decoration: none\">&nbsp;&#x22A2;&nbsp;&nbsp;</a><a class=\"ProveItLink\" href=\"../__pv_it/demonstrations/83b01c83bae2063e9bbc88e6e11eac614e8751480/expr.ipynb\"><img src=\"data:image/png;base64,iVBORw0KGgoAAAANSUhEUgAAAPkAAAAVCAMAAACzF7hbAAAAP1BMVEX///9jY2MJCQkdHR0NDQ0W\n",
       "FhaYmJjMzMzc3NyIiIhUVFR2dna6urqqqqpmZmYyMjIiIiIQEBBERETu7u4AAADr3yGxAAAAAXRS\n",
       "TlMAQObYZgAAAAlwSFlzAAAOxAAADsQBlSsOGwAAAvhJREFUWMO1WOl6rSAM5G5gANnf/1mvVFYN\n",
       "yLFf/dFTIxkmMWaihIyObXDupSQ/dWz7trTuFYcK/rCJ9t0p7OlXS/9jkRPG3QL6Sw4FXMKZP2cN\n",
       "uqw73UX6DcM9B0AoB23V4JLjj94TDg8kMjjQdHcxFqqrJ6/TP2IWnFbL+Q/74IJ4zt58yYxE8UwF\n",
       "jbLo0RVd2XUYzu2Qw9v27chnJIonVTgLcObfX6Mbi13ZVYblp28M893IpySqp/UIkNTgCWfdk6VX\n",
       "dhVmudjHJfndyBcv6ljEmgPwWiJbfAa87otd3Hw3LmCDPpwe6FwPQFkvLocju5SkP5Yp/3HkCIc5\n",
       "iQoujl7nwxGqD0XjdPyPXmKiJQcpJdIey1xXWVegSM0cHJTrKuruSKQ5eLEzu2AfI59weCBRwanO\n",
       "GmFLqBoRc5OTuNkzB/7rV5m72Ng2Z0ZcLcmxK6ktRBvIdPLUJmccHkhU8N1mFiHXM7PGmD+/jz/N\n",
       "rbKJFddJ61QomJdbERqbuncbzNEFABBZRT3Xe5ZSUw9WKnzG4YlEAWchucqSDB8DFpe8p8gJU2kK\n",
       "su6rsjrNvwDlVRckxDF0w4vQ88l0yuGJRAGXNulfkxhzE/Om2tMU5EMsHhruQtpm+FzVtzLUERYH\n",
       "tGcODyQq+H6EGFh+ZJKYA5FXzXHQ91X/tQHXJL4EZLAKVCwnqqwW1DEV7JldYRd7Owo1JdGC06MS\n",
       "+HHFtaHqvRfzpAGdosRU7EYR9dVNz0sFqFjOhipYtaCOsc8Sr7YPVQ2DmpHowKNOey4U7SqS/76+\n",
       "CjFz2dVzEGzjEPGM8cmWgbKFCEEp+NaCORKIyz6eZFCoGYkW3KDNhP4S7uimrfKU1ooR2/0by8D4\n",
       "coZDoBBTnYHMypt5nfAHu4pXloHxZeRizWSub2D9pOCwfpqmImTE8vDGMjL2Qw7+YWKFA4qewdEQ\n",
       "72JeZR4fse47rFgGxlZlhkPcCgfMVMAd/j0K/yiS3ww2xZffwj//VCaWwN9xqOAQA/8PZ5cxc6WD\n",
       "UwYAAAAASUVORK5CYII=\n",
       "\" style=\"display:inline;vertical-align:middle;\" /></a></span>"
      ],
      "text/plain": [
       "|- b not-in ({a, b, c, d, e} - {a, b, c})"
      ]
     },
     "execution_count": 64,
     "metadata": {},
     "output_type": "execute_result"
    }
   ],
   "source": [
    "# At first, this seems a bit odd … what if we have something like b=d?\n",
    "# But in such a case, the subtraction of {a, b, c} would have removed the\n",
    "# value for d as well, so it seems to be correct.\n",
    "diff_nonmem_01.conclude()"
   ]
  },
  {
   "cell_type": "code",
   "execution_count": 65,
   "metadata": {},
   "outputs": [
    {
     "data": {
      "text/html": [
       "<span style=\"font-size:20px;\"> <a class=\"ProveItLink\" href=\"../__pv_it/demonstrations/eb9a9b29009d4b65c3d914e438d6d3dbe8b544d40/proof.ipynb\" style=\"text-decoration: none\">&nbsp;&#x22A2;&nbsp;&nbsp;</a><a class=\"ProveItLink\" href=\"../__pv_it/demonstrations/83b01c83bae2063e9bbc88e6e11eac614e8751480/expr.ipynb\"><img src=\"data:image/png;base64,iVBORw0KGgoAAAANSUhEUgAAAPkAAAAVCAMAAACzF7hbAAAAP1BMVEX///9jY2MJCQkdHR0NDQ0W\n",
       "FhaYmJjMzMzc3NyIiIhUVFR2dna6urqqqqpmZmYyMjIiIiIQEBBERETu7u4AAADr3yGxAAAAAXRS\n",
       "TlMAQObYZgAAAAlwSFlzAAAOxAAADsQBlSsOGwAAAvhJREFUWMO1WOl6rSAM5G5gANnf/1mvVFYN\n",
       "yLFf/dFTIxkmMWaihIyObXDupSQ/dWz7trTuFYcK/rCJ9t0p7OlXS/9jkRPG3QL6Sw4FXMKZP2cN\n",
       "uqw73UX6DcM9B0AoB23V4JLjj94TDg8kMjjQdHcxFqqrJ6/TP2IWnFbL+Q/74IJ4zt58yYxE8UwF\n",
       "jbLo0RVd2XUYzu2Qw9v27chnJIonVTgLcObfX6Mbi13ZVYblp28M893IpySqp/UIkNTgCWfdk6VX\n",
       "dhVmudjHJfndyBcv6ljEmgPwWiJbfAa87otd3Hw3LmCDPpwe6FwPQFkvLocju5SkP5Yp/3HkCIc5\n",
       "iQoujl7nwxGqD0XjdPyPXmKiJQcpJdIey1xXWVegSM0cHJTrKuruSKQ5eLEzu2AfI59weCBRwanO\n",
       "GmFLqBoRc5OTuNkzB/7rV5m72Ng2Z0ZcLcmxK6ktRBvIdPLUJmccHkhU8N1mFiHXM7PGmD+/jz/N\n",
       "rbKJFddJ61QomJdbERqbuncbzNEFABBZRT3Xe5ZSUw9WKnzG4YlEAWchucqSDB8DFpe8p8gJU2kK\n",
       "su6rsjrNvwDlVRckxDF0w4vQ88l0yuGJRAGXNulfkxhzE/Om2tMU5EMsHhruQtpm+FzVtzLUERYH\n",
       "tGcODyQq+H6EGFh+ZJKYA5FXzXHQ91X/tQHXJL4EZLAKVCwnqqwW1DEV7JldYRd7Owo1JdGC06MS\n",
       "+HHFtaHqvRfzpAGdosRU7EYR9dVNz0sFqFjOhipYtaCOsc8Sr7YPVQ2DmpHowKNOey4U7SqS/76+\n",
       "CjFz2dVzEGzjEPGM8cmWgbKFCEEp+NaCORKIyz6eZFCoGYkW3KDNhP4S7uimrfKU1ooR2/0by8D4\n",
       "coZDoBBTnYHMypt5nfAHu4pXloHxZeRizWSub2D9pOCwfpqmImTE8vDGMjL2Qw7+YWKFA4qewdEQ\n",
       "72JeZR4fse47rFgGxlZlhkPcCgfMVMAd/j0K/yiS3ww2xZffwj//VCaWwN9xqOAQA/8PZ5cxc6WD\n",
       "UwYAAAAASUVORK5CYII=\n",
       "\" style=\"display:inline;vertical-align:middle;\" /></a></span>"
      ],
      "text/plain": [
       "|- b not-in ({a, b, c, d, e} - {a, b, c})"
      ]
     },
     "execution_count": 65,
     "metadata": {},
     "output_type": "execute_result"
    }
   ],
   "source": [
    "# Notice that it doesn't matter what b actually is …\n",
    "# The conclusion is independent of the assumption(s) about the value of b\n",
    "diff_nonmem_01.conclude(assumptions=[Equals(b, d)])"
   ]
  },
  {
   "cell_type": "code",
   "execution_count": 66,
   "metadata": {},
   "outputs": [
    {
     "data": {
      "text/html": [
       "<a class=\"ProveItLink\" href=\"../__pv_it/demonstrations/3e01adc67d7bc0753192a717ccb7862b02a3e0cc0/expr.ipynb\"><img src=\"data:image/png;base64,iVBORw0KGgoAAAANSUhEUgAAAP8AAAAVCAMAAAC+CcgcAAAARVBMVEX///8/Pz9vb28YGBgJCQkd\n",
       "HR0NDQ0WFhaqqqru7u5EREQQEBC6urrc3Nx2dnYyMjKYmJiIiIhUVFQiIiJmZmbMzMwAAABdXBgn\n",
       "AAAAAXRSTlMAQObYZgAAAAlwSFlzAAAOxAAADsQBlSsOGwAAAyZJREFUWMO1mNmCpCAMRZm1BWRf\n",
       "/v9TBxEkRKxCp5qXblOYe8ISgoRcNzF+pOtKvq+JRcx1fIYB3L/VURQ+maX8VSv9fNghh7QhBctm\n",
       "/D/FaO5XA6x+1BM+LbL8jVU2OAwgvFcsIJuUnp1nCgvyqJQrDpl9H8ZNDEhxuDf6+N0NJD2kpqr8\n",
       "I93+bL2KSFiw7ffYBUt9hl2wcyzoeHSSdhIv2z2MjqK5Pxa4GcXfUXhNMJzBwjbvKM67ZbqJ0qjw\n",
       "6sWC9hzbTPyTGB1Fe1WXRRi06nEMc+7rL4TmE8I8G2yEiWXl2zzg+E+Cn4x/gNFRAPd8f1WSDmdV\n",
       "Jtkt3EGLmhn4/JON4bxZNaIn3xj/FUalAO5VthjR4Yi8LWg3ZV5OCJdtE7FldSh8JJhxtZF1xP8z\n",
       "/guMgwK4lxuFSHaIo/LC0aY7Co8IvHotHKJBBmMtSsZIMCfl5EuUnGX4+/jvYgAK4F6rvBhR/IPD\n",
       "39UELrh+LTzKpCj/Y8E2CPvMiPNxcSpjHmBUCuB+SUOhRY8TuEvtz2/nGMgp+8wIq1byUtizES6H\n",
       "XbEgeLnkLGrVcpy7rrW6jB5iVIrmPkQi8joBODS/KvspKPGnsqUVZyNhjcMKmZmBGT0J5g5qj3+P\n",
       "UKo3pe1djJ6iuV85We3WIreyO/dRCjrWPyjOBsK5SBTw/Iu5E4z/LLiNb8nZqLa7bvcwOgrgfqlh\n",
       "cjBgJk3QispTZq4Tb5MPOaTt8Dxsu+O88jrM3U5hSkjGfdVK/iT/v8IAFJ17XbdJhPsl7Q6UsfeD\n",
       "AgnLfbe24k44vzUHbVrXk7cvArMgeNXnxEwfnH8zGI2id1+Odc9itO28oJb9QmsqOCxsbbqy2M1j\n",
       "vbakIzc3BW1pJfly82i2Q7CZ0p3F+vv1/yxGo+jcu4s88/NHKoAdnK8j9w7glsF2nbSNut2c/9sY\n",
       "7VXhpm7+8KowEpYjvjmbJJ+LfxrDnS51ZHCDxAlXkIvijJrBx5k526gbrO1efP54jNHcC3Y1uIP6\n",
       "i5bO5+JspDFpG4ZPuZ74jvUYo7lnV1/Aht9fhKmZyi7k+5qQc+4fYgD3Zgv/H2t2Or2Ce0ohAAAA\n",
       "AElFTkSuQmCC\n",
       "\" style=\"display:inline;vertical-align:middle;\" /></a>"
      ],
      "text/plain": [
       "4 not-in ({1, 2, 3, 4, 5} - {1, 2, 3})"
      ]
     },
     "execution_count": 66,
     "metadata": {},
     "output_type": "execute_result"
    }
   ],
   "source": [
    "diff_nonmem_02.expr"
   ]
  },
  {
   "cell_type": "code",
   "execution_count": 67,
   "metadata": {},
   "outputs": [
    {
     "name": "stdout",
     "output_type": "stream",
     "text": [
      "ProofFailure (InstantiationFailure): Proof step failed:\n",
      "Attempting to instantiate |- forall_{x, A, B | (x not-in A) or (x in B)} (x not-in (A - B)) with {x: 4, A: {1, 2, 3, 4, 5}, B: {1, 2, 3}}:\n",
      "Unsatisfied condition: (4 not-in {1, 2, 3, 4, 5}) or (4 in {1, 2, 3})\n"
     ]
    }
   ],
   "source": [
    "# We should not be able to conclude() the False non-membership:\n",
    "try:\n",
    "    diff_nonmem_02.conclude()\n",
    "    assert False, \"Expecting a ProofFailure (InstantiationFailure); should not get this far!\"\n",
    "except InstantiationFailure as the_error:\n",
    "    print(\"ProofFailure (InstantiationFailure): {}\".format(the_error))"
   ]
  },
  {
   "cell_type": "code",
   "execution_count": 68,
   "metadata": {},
   "outputs": [
    {
     "data": {
      "text/html": [
       "<span style=\"font-size:20px;\"><a class=\"ProveItLink\" href=\"../__pv_it/demonstrations/0f4184527c441151ea7dd23695d2b706e47f20e80/expr.ipynb\"><img src=\"data:image/png;base64,iVBORw0KGgoAAAANSUhEUgAAAJAAAAAVCAMAAACe5ZfhAAAARVBMVEX///8/Pz9vb28YGBgJCQkd\n",
       "HR0NDQ0WFhaqqqru7u5EREQQEBC6urrc3Nx2dnYyMjKYmJiIiIhUVFQiIiJmZmbMzMwAAABdXBgn\n",
       "AAAAAXRSTlMAQObYZgAAAAlwSFlzAAAOxAAADsQBlSsOGwAAAi1JREFUSMe1VtmS4CAIzJ4Tb8Xj\n",
       "/z91FZMKosmmpmZ8C7Z0CwLZtvtlxk+h9fZ9y+zmvxgn6FdwWny9joxXbVoySOI/pwUW6NdeTniO\n",
       "XJhJyck8mqxNchFRTqSKc/FwKAlhhPlsGvzZ2PMGyRUmyMi2XyhcJLzDPjnlRFGVaMVAgelYCYrb\n",
       "QlADc0GA2VeK5rdpEcVxnxMRLCmydyMuyBg//rqXghQaoJBXqVWL1yRoIroRZLcBp12oDJBfRwi3\n",
       "oGRGvxfPLIzoTlAwA85gdQl2uwdBR4YLM+jI9TAiFOSDPa9+Uph6juIcht4H9sTds6BcxgM5AIvx\n",
       "RISVVX2Zox6COuPIBC2a0GaUfxa0KAteZZzoUtVDYzremxGXVazrz+8Y5SUHnN4eBSW5IFIDkhOR\n",
       "w0c9CHD7ZjDSBCfQtd1ZP7va6EqQZzwZsyVpiCYiRLguqCfXtmtraKsosEP/iVNY4UHQ3g4bUvYF\n",
       "MYOgmajF8ChQNgzqBhEe6lX0NErmKrtOZ+RovUIM/jBlo/q+Ieizqsaeb0taa6FPoCaSF8jQtXrG\n",
       "rz5sYmorEpv3Zx9i7RqJyNGE1SUYRZKlwFW1AuQvcScIoM5DaHznTKwdCJejNl0V9uEaySw+iS5b\n",
       "ncuQ5lnG188fdXbEm9FxvZxFtS1sL2GPgpx4g7Yrp9tnYU+CzKKpBMUtIsyohe0lbBgGk9R9IXL6\n",
       "uVk5Da9MS9smlL8TBMuwJdi/85/advf/AG4GIp7iJBsBAAAAAElFTkSuQmCC\n",
       "\" style=\"display:inline;vertical-align:middle;\" /></a> <a class=\"ProveItLink\" href=\"../__pv_it/demonstrations/749d13fdb28115bfb2e3fbfb0b26dc7e9bbe29d60/proof.ipynb\" style=\"text-decoration: none\">&nbsp;&#x22A2;&nbsp;&nbsp;</a><a class=\"ProveItLink\" href=\"../__pv_it/demonstrations/3e01adc67d7bc0753192a717ccb7862b02a3e0cc0/expr.ipynb\"><img src=\"data:image/png;base64,iVBORw0KGgoAAAANSUhEUgAAAP8AAAAVCAMAAAC+CcgcAAAARVBMVEX///8/Pz9vb28YGBgJCQkd\n",
       "HR0NDQ0WFhaqqqru7u5EREQQEBC6urrc3Nx2dnYyMjKYmJiIiIhUVFQiIiJmZmbMzMwAAABdXBgn\n",
       "AAAAAXRSTlMAQObYZgAAAAlwSFlzAAAOxAAADsQBlSsOGwAAAyZJREFUWMO1mNmCpCAMRZm1BWRf\n",
       "/v9TBxEkRKxCp5qXblOYe8ISgoRcNzF+pOtKvq+JRcx1fIYB3L/VURQ+maX8VSv9fNghh7QhBctm\n",
       "/D/FaO5XA6x+1BM+LbL8jVU2OAwgvFcsIJuUnp1nCgvyqJQrDpl9H8ZNDEhxuDf6+N0NJD2kpqr8\n",
       "I93+bL2KSFiw7ffYBUt9hl2wcyzoeHSSdhIv2z2MjqK5Pxa4GcXfUXhNMJzBwjbvKM67ZbqJ0qjw\n",
       "6sWC9hzbTPyTGB1Fe1WXRRi06nEMc+7rL4TmE8I8G2yEiWXl2zzg+E+Cn4x/gNFRAPd8f1WSDmdV\n",
       "Jtkt3EGLmhn4/JON4bxZNaIn3xj/FUalAO5VthjR4Yi8LWg3ZV5OCJdtE7FldSh8JJhxtZF1xP8z\n",
       "/guMgwK4lxuFSHaIo/LC0aY7Co8IvHotHKJBBmMtSsZIMCfl5EuUnGX4+/jvYgAK4F6rvBhR/IPD\n",
       "39UELrh+LTzKpCj/Y8E2CPvMiPNxcSpjHmBUCuB+SUOhRY8TuEvtz2/nGMgp+8wIq1byUtizES6H\n",
       "XbEgeLnkLGrVcpy7rrW6jB5iVIrmPkQi8joBODS/KvspKPGnsqUVZyNhjcMKmZmBGT0J5g5qj3+P\n",
       "UKo3pe1djJ6iuV85We3WIreyO/dRCjrWPyjOBsK5SBTw/Iu5E4z/LLiNb8nZqLa7bvcwOgrgfqlh\n",
       "cjBgJk3QispTZq4Tb5MPOaTt8Dxsu+O88jrM3U5hSkjGfdVK/iT/v8IAFJ17XbdJhPsl7Q6UsfeD\n",
       "AgnLfbe24k44vzUHbVrXk7cvArMgeNXnxEwfnH8zGI2id1+Odc9itO28oJb9QmsqOCxsbbqy2M1j\n",
       "vbakIzc3BW1pJfly82i2Q7CZ0p3F+vv1/yxGo+jcu4s88/NHKoAdnK8j9w7glsF2nbSNut2c/9sY\n",
       "7VXhpm7+8KowEpYjvjmbJJ+LfxrDnS51ZHCDxAlXkIvijJrBx5k526gbrO1efP54jNHcC3Y1uIP6\n",
       "i5bO5+JspDFpG4ZPuZ74jvUYo7lnV1/Aht9fhKmZyi7k+5qQc+4fYgD3Zgv/H2t2Or2Ce0ohAAAA\n",
       "AElFTkSuQmCC\n",
       "\" style=\"display:inline;vertical-align:middle;\" /></a></span>"
      ],
      "text/plain": [
       "{4 not-in {1, 2, 3, 4, 5}} |- 4 not-in ({1, 2, 3, 4, 5} - {1, 2, 3})"
      ]
     },
     "execution_count": 68,
     "metadata": {},
     "output_type": "execute_result"
    }
   ],
   "source": [
    "# Interestingly, we can assume an obviously False premise and conclude():\n",
    "diff_nonmem_02.conclude(assumptions=[NotInSet(four, set_12345)])"
   ]
  },
  {
   "cell_type": "code",
   "execution_count": 69,
   "metadata": {},
   "outputs": [
    {
     "data": {
      "text/html": [
       "<a class=\"ProveItLink\" href=\"../__pv_it/demonstrations/6cd32d0ed08ba9043ceb1200a52de1a0631cd0ad0/expr.ipynb\"><img src=\"data:image/png;base64,iVBORw0KGgoAAAANSUhEUgAAAP4AAAAVCAMAAABRy6MiAAAAP1BMVEX///9jY2MJCQkdHR0NDQ0W\n",
       "FhZUVFQyMjK6urru7u4QEBBERERmZmaqqqoiIiLc3NzMzMyYmJiIiIh2dnYAAABSvsfBAAAAAXRS\n",
       "TlMAQObYZgAAAAlwSFlzAAAOxAAADsQBlSsOGwAAAwVJREFUWMO1WFeiqyAQ9TWQXve/1geIOBSV\n",
       "6A0fSSQwcw5TcVnOhho/knVdvjeUUHMLH8IA8m8UYQKfrMjfeCU/z1onRhGQRmxG/mMYh/zVXq+D\n",
       "T8Llb1+0atkAUJxjpps55zjr7aR5/Uw9xjLLY+iexBsYRb41Fxo4BE1w/uFknkAc+1qvYvF/X3El\n",
       "PGEVrXDZUJTUS0dqFVfjDYxDPr5woAoEN0uHzTZ6UQomSisfjSqJx63rtvTRgNoM/Scwjr2Gn0QW\n",
       "k//+SgCaTuil6Rl5mFJWGq3Q0tcGf4/+LQywl47Mv2JLFgSjR+CZY09/Ia/7QG2CzC1fpH8LA+zF\n",
       "ecZaU5arGBKkMhh3E3pzzPjuNGXD3qqevrFuP/CX9G9hgL0uwlAyRAZn5Uii25iqKuBCgONrvdo3\n",
       "5URbhGpDqCCspR+LkcrpytJ7+m9gAPkmipHRtrSsx31SlHvqVtRc65VoVKVE7fo9/e0MNrOovlB0\n",
       "zcsbGEC+CCfB6/2aSin//A4f7EgRm10UwutyqffwoT4b7SeuzujznK4IwqIUXHmM3Ynewjjk6xAi\n",
       "tF5LUt2sDZDph24FtGQDvaZlpRNkBuypkpc19Bne6G8EHb7pZ1/COOSvNJRD2xf8JvsU54ctWa83\n",
       "tYYKVhyf1kD6K4rDU+Tg8eZs3XZ0p+MNDCBfBL25HpQTt3ZZm36A2YuUe7SfiZElYIqi4nUVyG2e\n",
       "wHRQ3NDRR5l/EkYl37A9UNyRnrFocvVWILqqsYVq6emU5HFI2OYZsxfcuvXzDO4MbXrKyORJ4fsM\n",
       "Rr03FXTnjLHAOAT9bq5TWnZ6EQrXFBQF7lcV6dPAYCr4VECy3TWOuXDg3iMLp8I1BfEHPf/nMCr5\n",
       "cphkzC/HQqYF5ipZd4RNkJmp2WWfWv+FfCUnbvrV5WCk101NzS57TP9z+Xx441WDqsnUctaSETsz\n",
       "Nbus6ujO33bQH5Cv2PhoB10XyUsHLdlAx0jt5LKFUDPxzuoxDCCfjV93Dd+2KLsnKSSW7w3l5sQ/\n",
       "hQHk28j+P0zmMd6AfXHnAAAAAElFTkSuQmCC\n",
       "\" style=\"display:inline;vertical-align:middle;\" /></a>"
      ],
      "text/plain": [
       "c not-in ({1, 2, 3, 4, 5} - {1, 2, 3})"
      ]
     },
     "execution_count": 69,
     "metadata": {},
     "output_type": "execute_result"
    }
   ],
   "source": [
    "diff_nonmem_03.expr"
   ]
  },
  {
   "cell_type": "code",
   "execution_count": 70,
   "metadata": {},
   "outputs": [
    {
     "name": "stdout",
     "output_type": "stream",
     "text": [
      "ProofFailure (InstantiationFailure): Proof step failed:\n",
      "Attempting to instantiate |- forall_{x, A, B | (x not-in A) or (x in B)} (x not-in (A - B)) with {x: c, A: {1, 2, 3, 4, 5}, B: {1, 2, 3}}:\n",
      "Unsatisfied condition: (c not-in {1, 2, 3, 4, 5}) or (c in {1, 2, 3})\n"
     ]
    }
   ],
   "source": [
    "# We should not be able to conclude() the non-membership of unknown verity:\n",
    "try:\n",
    "    diff_nonmem_03.conclude()\n",
    "    assert False, \"Expecting a ProofFailure (InstantiationFailure); should not get this far!\"\n",
    "except InstantiationFailure as the_error:\n",
    "    print(\"ProofFailure (InstantiationFailure): {}\".format(the_error))"
   ]
  },
  {
   "cell_type": "code",
   "execution_count": 71,
   "metadata": {},
   "outputs": [
    {
     "data": {
      "text/html": [
       "<span style=\"font-size:20px;\"><a class=\"ProveItLink\" href=\"../__pv_it/demonstrations/b626ce183f9460e2361ba896299be33d4a7b89190/expr.ipynb\"><img src=\"data:image/png;base64,iVBORw0KGgoAAAANSUhEUgAAAC8AAAAOBAMAAABN+VgMAAAAMFBMVEX///8yMjJUVFS6urru7u4Q\n",
       "EBBERERmZmaqqqoiIiLc3NzMzMyYmJiIiIh2dnYAAACZiqmYAAAAAXRSTlMAQObYZgAAAAlwSFlz\n",
       "AAAOxAAADsQBlSsOGwAAAIpJREFUGNNjYMAEXOViGxiwgWUMfJ+xSmgxMIRilYh3YNBfgE1Ck4FB\n",
       "H2TJ2zuYVs0H4pUN7AlAqnImCEyCiHP/BRLzGFgvoGvgVGBgYP+CxZYyIGZNwBTnAWpg8Ieag2xH\n",
       "HwPXAgb+AwwMBqgauB8w8DowAJ3Eh+bcleXllUDq3Zkr6J74//8jAwCCvCUhvDF/gQAAAABJRU5E\n",
       "rkJggg==\n",
       "\" style=\"display:inline;vertical-align:middle;\" /></a> <a class=\"ProveItLink\" href=\"../__pv_it/demonstrations/5de67e849d9f2bf357c2036240b8c81f0af652f90/proof.ipynb\" style=\"text-decoration: none\">&nbsp;&#x22A2;&nbsp;&nbsp;</a><a class=\"ProveItLink\" href=\"../__pv_it/demonstrations/6cd32d0ed08ba9043ceb1200a52de1a0631cd0ad0/expr.ipynb\"><img src=\"data:image/png;base64,iVBORw0KGgoAAAANSUhEUgAAAP4AAAAVCAMAAABRy6MiAAAAP1BMVEX///9jY2MJCQkdHR0NDQ0W\n",
       "FhZUVFQyMjK6urru7u4QEBBERERmZmaqqqoiIiLc3NzMzMyYmJiIiIh2dnYAAABSvsfBAAAAAXRS\n",
       "TlMAQObYZgAAAAlwSFlzAAAOxAAADsQBlSsOGwAAAwVJREFUWMO1WFeiqyAQ9TWQXve/1geIOBSV\n",
       "6A0fSSQwcw5TcVnOhho/knVdvjeUUHMLH8IA8m8UYQKfrMjfeCU/z1onRhGQRmxG/mMYh/zVXq+D\n",
       "T8Llb1+0atkAUJxjpps55zjr7aR5/Uw9xjLLY+iexBsYRb41Fxo4BE1w/uFknkAc+1qvYvF/X3El\n",
       "PGEVrXDZUJTUS0dqFVfjDYxDPr5woAoEN0uHzTZ6UQomSisfjSqJx63rtvTRgNoM/Scwjr2Gn0QW\n",
       "k//+SgCaTuil6Rl5mFJWGq3Q0tcGf4/+LQywl47Mv2JLFgSjR+CZY09/Ia/7QG2CzC1fpH8LA+zF\n",
       "ecZaU5arGBKkMhh3E3pzzPjuNGXD3qqevrFuP/CX9G9hgL0uwlAyRAZn5Uii25iqKuBCgONrvdo3\n",
       "5URbhGpDqCCspR+LkcrpytJ7+m9gAPkmipHRtrSsx31SlHvqVtRc65VoVKVE7fo9/e0MNrOovlB0\n",
       "zcsbGEC+CCfB6/2aSin//A4f7EgRm10UwutyqffwoT4b7SeuzujznK4IwqIUXHmM3Ynewjjk6xAi\n",
       "tF5LUt2sDZDph24FtGQDvaZlpRNkBuypkpc19Bne6G8EHb7pZ1/COOSvNJRD2xf8JvsU54ctWa83\n",
       "tYYKVhyf1kD6K4rDU+Tg8eZs3XZ0p+MNDCBfBL25HpQTt3ZZm36A2YuUe7SfiZElYIqi4nUVyG2e\n",
       "wHRQ3NDRR5l/EkYl37A9UNyRnrFocvVWILqqsYVq6emU5HFI2OYZsxfcuvXzDO4MbXrKyORJ4fsM\n",
       "Rr03FXTnjLHAOAT9bq5TWnZ6EQrXFBQF7lcV6dPAYCr4VECy3TWOuXDg3iMLp8I1BfEHPf/nMCr5\n",
       "cphkzC/HQqYF5ipZd4RNkJmp2WWfWv+FfCUnbvrV5WCk101NzS57TP9z+Xx441WDqsnUctaSETsz\n",
       "Nbus6ujO33bQH5Cv2PhoB10XyUsHLdlAx0jt5LKFUDPxzuoxDCCfjV93Dd+2KLsnKSSW7w3l5sQ/\n",
       "hQHk28j+P0zmMd6AfXHnAAAAAElFTkSuQmCC\n",
       "\" style=\"display:inline;vertical-align:middle;\" /></a></span>"
      ],
      "text/plain": [
       "{c = 2} |- c not-in ({1, 2, 3, 4, 5} - {1, 2, 3})"
      ]
     },
     "execution_count": 71,
     "metadata": {},
     "output_type": "execute_result"
    }
   ],
   "source": [
    "# but given some information about the value of c, we can conclude():\n",
    "diff_nonmem_03.conclude(assumptions=[Equals(c, two)])"
   ]
  },
  {
   "cell_type": "code",
   "execution_count": null,
   "metadata": {},
   "outputs": [],
   "source": []
  },
  {
   "cell_type": "markdown",
   "metadata": {},
   "source": [
    "###  `DifferenceNonmembership.conclude_as_folded()`\n",
    "\n",
    "Because `DifferenceNonmembership.conclude()` simply calls `DifferenceNonmembership.conclude_as_folded()`, the work above for the `conclude()` method also demonstrates the functionality of the `conclude_as_folded()` method."
   ]
  },
  {
   "cell_type": "markdown",
   "metadata": {},
   "source": [
    "###  `DifferenceNonmembership.definition()`\n",
    "\n",
    "Deduce and return something of the form $[x \\notin (A - B)] = [(x \\notin A) or (x \\in B)]$."
   ]
  },
  {
   "cell_type": "code",
   "execution_count": 72,
   "metadata": {},
   "outputs": [
    {
     "data": {
      "text/html": [
       "<a class=\"ProveItLink\" href=\"../__pv_it/demonstrations/83b01c83bae2063e9bbc88e6e11eac614e8751480/expr.ipynb\"><img src=\"data:image/png;base64,iVBORw0KGgoAAAANSUhEUgAAAPkAAAAVCAMAAACzF7hbAAAAP1BMVEX///9jY2MJCQkdHR0NDQ0W\n",
       "FhaYmJjMzMzc3NyIiIhUVFR2dna6urqqqqpmZmYyMjIiIiIQEBBERETu7u4AAADr3yGxAAAAAXRS\n",
       "TlMAQObYZgAAAAlwSFlzAAAOxAAADsQBlSsOGwAAAvhJREFUWMO1WOl6rSAM5G5gANnf/1mvVFYN\n",
       "yLFf/dFTIxkmMWaihIyObXDupSQ/dWz7trTuFYcK/rCJ9t0p7OlXS/9jkRPG3QL6Sw4FXMKZP2cN\n",
       "uqw73UX6DcM9B0AoB23V4JLjj94TDg8kMjjQdHcxFqqrJ6/TP2IWnFbL+Q/74IJ4zt58yYxE8UwF\n",
       "jbLo0RVd2XUYzu2Qw9v27chnJIonVTgLcObfX6Mbi13ZVYblp28M893IpySqp/UIkNTgCWfdk6VX\n",
       "dhVmudjHJfndyBcv6ljEmgPwWiJbfAa87otd3Hw3LmCDPpwe6FwPQFkvLocju5SkP5Yp/3HkCIc5\n",
       "iQoujl7nwxGqD0XjdPyPXmKiJQcpJdIey1xXWVegSM0cHJTrKuruSKQ5eLEzu2AfI59weCBRwanO\n",
       "GmFLqBoRc5OTuNkzB/7rV5m72Ng2Z0ZcLcmxK6ktRBvIdPLUJmccHkhU8N1mFiHXM7PGmD+/jz/N\n",
       "rbKJFddJ61QomJdbERqbuncbzNEFABBZRT3Xe5ZSUw9WKnzG4YlEAWchucqSDB8DFpe8p8gJU2kK\n",
       "su6rsjrNvwDlVRckxDF0w4vQ88l0yuGJRAGXNulfkxhzE/Om2tMU5EMsHhruQtpm+FzVtzLUERYH\n",
       "tGcODyQq+H6EGFh+ZJKYA5FXzXHQ91X/tQHXJL4EZLAKVCwnqqwW1DEV7JldYRd7Owo1JdGC06MS\n",
       "+HHFtaHqvRfzpAGdosRU7EYR9dVNz0sFqFjOhipYtaCOsc8Sr7YPVQ2DmpHowKNOey4U7SqS/76+\n",
       "CjFz2dVzEGzjEPGM8cmWgbKFCEEp+NaCORKIyz6eZFCoGYkW3KDNhP4S7uimrfKU1ooR2/0by8D4\n",
       "coZDoBBTnYHMypt5nfAHu4pXloHxZeRizWSub2D9pOCwfpqmImTE8vDGMjL2Qw7+YWKFA4qewdEQ\n",
       "72JeZR4fse47rFgGxlZlhkPcCgfMVMAd/j0K/yiS3ww2xZffwj//VCaWwN9xqOAQA/8PZ5cxc6WD\n",
       "UwYAAAAASUVORK5CYII=\n",
       "\" style=\"display:inline;vertical-align:middle;\" /></a>"
      ],
      "text/plain": [
       "b not-in ({a, b, c, d, e} - {a, b, c})"
      ]
     },
     "execution_count": 72,
     "metadata": {},
     "output_type": "execute_result"
    }
   ],
   "source": [
    "diff_nonmem_01.expr"
   ]
  },
  {
   "cell_type": "code",
   "execution_count": 73,
   "metadata": {},
   "outputs": [
    {
     "data": {
      "text/html": [
       "<span style=\"font-size:20px;\"> <a class=\"ProveItLink\" href=\"../__pv_it/demonstrations/d5b97c350c86df6b9f3846735185471c9f49f2a30/proof.ipynb\" style=\"text-decoration: none\">&nbsp;&#x22A2;&nbsp;&nbsp;</a><a class=\"ProveItLink\" href=\"../__pv_it/demonstrations/6296fde13678bcc2f8d0fda39081b464600e4a960/expr.ipynb\"><img src=\"data:image/png;base64,iVBORw0KGgoAAAANSUhEUgAAAl0AAAAVCAMAAABLyKsxAAAASFBMVEX///8/Pz9vb28YGBhjY2MJ\n",
       "CQkdHR0NDQ0WFhbMzMxUVFRERES6uroiIiIQEBCYmJhmZmYyMjLu7u52dnaqqqqIiIjc3NwAAACS\n",
       "yLUeAAAAAXRSTlMAQObYZgAAAAlwSFlzAAAOxAAADsQBlSsOGwAABXpJREFUaN69mtmCrCgMhpkz\n",
       "cxZZlEXw/d901BJMWJTldHvRsWgIfz4QIVWE7JcjxcvlP2rOyVddbnV1FXtEAOcuH+I7inpc34PJ\n",
       "tYj/EqoZMaFDu5abKQ0/+ZpWcf1l2MhEWY33PhG3c26xfetubcf1PZgqAnjS/DeopmK8Xc0xY9ks\n",
       "so3gp7PmYbeygIKjnG81y8K/GH1v/iDiWUNwbhdsn7szpBlXr8JWTK8BPGmuplqJFVPV6nrscjFI\n",
       "uEr6msQ8qlSydsJvpSfKVKB/rPOk4W7oVxr1/rSG2Otx9StsxgQCoOF2sqRGcwv5KqyIqlweYkB9\n",
       "+ZovErbaVZgXn5Ph2fWk4W64SGwfrhB7Pa5+hc2YQABLmFNsIjWaW8hXYUVU51IMlok/v4W6C+Yq\n",
       "CXyrfW+X3YzOrkcNoOGssS1fc3ST9LDT2nGpv6KwHRMIwJc5Rd40n6IFHOKBoU3F7HZVebdcWU3o\n",
       "BF/JqkqCqd1QPKyzo7OrVqBasC1vR1R0E/Vw0sK4BhS2YwIBmGt9kSt51nyJ7iNXI2a38tqtKmot\n",
       "vRc+d7w1NXoUfU3oyFFjHT6yRI4+DaxdEPmj3RSts3qvJXX77GrVAJwbim35xWiiG9zDSSvC1a5w\n",
       "ABMIwK9ZIhGfG+LyHOnHCqheE01ve196C1kK5dA7HD8f0mPk816NofUydnToFLsiyeBTk7YjXOwi\n",
       "pw8IO7/PLi+iWQNwvihsD7cCXDSJPY/rpBXhalU4hAkEcK2g1sYDlx3iEtURrICqWMFJdA6SVHqW\n",
       "En7Wuvlirc8bKdIj7QxBCxOVXO3Qo+62o8zy68Pr/tOLaNcAnK8ztsUrxJ7HpXJHz0aFQ5hgAJ+0\n",
       "iNCx+OwQF6gOYQVUZw7m7OZfANO8P7m/fu5/7mfpqumo8uduuYUeosm/gTKZ7AVz7dhmrTXes6Zq\n",
       "DcdpsJhMYdn2Ijo03M6nDdvypp7jG9zDSevExcBLrU3hGCYUwLEorTIRnxvi82Kp5iGsgOrV9emH\n",
       "h+mnGdgfRoQn6bPdMzvXS548gRyuPTNLxirTbkNbH6Nevo4IIjo03M75jG317MI9nLRiXI0KxzCh\n",
       "AI7cKXztPQxxieoQVkD1WjbPNmAqiiR7c78dfFpWb8eSuGxpSgTO6U8ttC/NtrOVGWMsokMDcL4K\n",
       "bIv7rvjNGPUg0mRXo8JBTKvAabeJpQOXG+JSxn0IK6DKPhW2yb9rr0yIJTw6CTMbHSz02R1V5PgK\n",
       "07u+HYWSj1ceSrLtrkX4A8JU7Oo/Ipo1IOcLw7Y8lS2+iXAdW2guhxSOYcIB2IXyVHxmiItnxiGs\n",
       "gOp1fKR7PQb5qDXK3oBTrz98HrJXIYk8zxMEOwolnyOFme6SXLvzoKGla81INGrAzv1ZXZq3zii+\n",
       "iXHtO44YV6PCMUw4AC1URnxmiMsZiRGsgOp0TVZqJEopavoz+rJ8ErEETa2ZHLWHd3EdUm5HvoQY\n",
       "syxn3u6uk7Yj9qjVnk1t1YCcC45teZsn8E2MS1P2rx5TOIQpCkCuGfGZIWbJ7yF6hzYn5rBiygNd\n",
       "/jMMf00QamYHf9U9Jfmy3lx9VY8gYSiwfUpJTPFNdP34J6I1oLAZ00sAJc2Ex0PcP7SpmNOWvsJN\n",
       "M7mhZlaC6SoplHXOrqoewRK+YPtwhdjrcQ0obMX0EsBS/3uM7qFNxXwsy/5u0WU2ur5mLpWubU9J\n",
       "vizKIOavjIi6HoNzH6JjFdgDpXpcvQqbMb0GwKp/mto7tKmYy+qsNpPZ8vmauVS67SrJl8GTTTlZ\n",
       "n4qo6vF27plXsQ+U6nH1KmzG9BqAZrWzq3doUzHeupz07Pe6vqaTtPrnSc2XM3XOu0QA59Zh+9bS\n",
       "kmZc34OpIgBnq912aU7FnPZ/1MGSd6HJ/wcAAAAASUVORK5CYII=\n",
       "\" style=\"display:inline;vertical-align:middle;\" /></a></span>"
      ],
      "text/plain": [
       "|- (b not-in ({a, b, c, d, e} - {a, b, c})) = ((b not-in {a, b, c, d, e}) or (b in {a, b, c}))"
      ]
     },
     "execution_count": 73,
     "metadata": {},
     "output_type": "execute_result"
    }
   ],
   "source": [
    "diff_nonmem_01.definition()"
   ]
  },
  {
   "cell_type": "code",
   "execution_count": 74,
   "metadata": {},
   "outputs": [
    {
     "data": {
      "text/html": [
       "<a class=\"ProveItLink\" href=\"../__pv_it/demonstrations/3e01adc67d7bc0753192a717ccb7862b02a3e0cc0/expr.ipynb\"><img src=\"data:image/png;base64,iVBORw0KGgoAAAANSUhEUgAAAP8AAAAVCAMAAAC+CcgcAAAARVBMVEX///8/Pz9vb28YGBgJCQkd\n",
       "HR0NDQ0WFhaqqqru7u5EREQQEBC6urrc3Nx2dnYyMjKYmJiIiIhUVFQiIiJmZmbMzMwAAABdXBgn\n",
       "AAAAAXRSTlMAQObYZgAAAAlwSFlzAAAOxAAADsQBlSsOGwAAAyZJREFUWMO1mNmCpCAMRZm1BWRf\n",
       "/v9TBxEkRKxCp5qXblOYe8ISgoRcNzF+pOtKvq+JRcx1fIYB3L/VURQ+maX8VSv9fNghh7QhBctm\n",
       "/D/FaO5XA6x+1BM+LbL8jVU2OAwgvFcsIJuUnp1nCgvyqJQrDpl9H8ZNDEhxuDf6+N0NJD2kpqr8\n",
       "I93+bL2KSFiw7ffYBUt9hl2wcyzoeHSSdhIv2z2MjqK5Pxa4GcXfUXhNMJzBwjbvKM67ZbqJ0qjw\n",
       "6sWC9hzbTPyTGB1Fe1WXRRi06nEMc+7rL4TmE8I8G2yEiWXl2zzg+E+Cn4x/gNFRAPd8f1WSDmdV\n",
       "Jtkt3EGLmhn4/JON4bxZNaIn3xj/FUalAO5VthjR4Yi8LWg3ZV5OCJdtE7FldSh8JJhxtZF1xP8z\n",
       "/guMgwK4lxuFSHaIo/LC0aY7Co8IvHotHKJBBmMtSsZIMCfl5EuUnGX4+/jvYgAK4F6rvBhR/IPD\n",
       "39UELrh+LTzKpCj/Y8E2CPvMiPNxcSpjHmBUCuB+SUOhRY8TuEvtz2/nGMgp+8wIq1byUtizES6H\n",
       "XbEgeLnkLGrVcpy7rrW6jB5iVIrmPkQi8joBODS/KvspKPGnsqUVZyNhjcMKmZmBGT0J5g5qj3+P\n",
       "UKo3pe1djJ6iuV85We3WIreyO/dRCjrWPyjOBsK5SBTw/Iu5E4z/LLiNb8nZqLa7bvcwOgrgfqlh\n",
       "cjBgJk3QispTZq4Tb5MPOaTt8Dxsu+O88jrM3U5hSkjGfdVK/iT/v8IAFJ17XbdJhPsl7Q6UsfeD\n",
       "AgnLfbe24k44vzUHbVrXk7cvArMgeNXnxEwfnH8zGI2id1+Odc9itO28oJb9QmsqOCxsbbqy2M1j\n",
       "vbakIzc3BW1pJfly82i2Q7CZ0p3F+vv1/yxGo+jcu4s88/NHKoAdnK8j9w7glsF2nbSNut2c/9sY\n",
       "7VXhpm7+8KowEpYjvjmbJJ+LfxrDnS51ZHCDxAlXkIvijJrBx5k526gbrO1efP54jNHcC3Y1uIP6\n",
       "i5bO5+JspDFpG4ZPuZ74jvUYo7lnV1/Aht9fhKmZyi7k+5qQc+4fYgD3Zgv/H2t2Or2Ce0ohAAAA\n",
       "AElFTkSuQmCC\n",
       "\" style=\"display:inline;vertical-align:middle;\" /></a>"
      ],
      "text/plain": [
       "4 not-in ({1, 2, 3, 4, 5} - {1, 2, 3})"
      ]
     },
     "execution_count": 74,
     "metadata": {},
     "output_type": "execute_result"
    }
   ],
   "source": [
    "diff_nonmem_02.expr"
   ]
  },
  {
   "cell_type": "code",
   "execution_count": 75,
   "metadata": {},
   "outputs": [
    {
     "data": {
      "text/html": [
       "<span style=\"font-size:20px;\"> <a class=\"ProveItLink\" href=\"../__pv_it/demonstrations/2f30cd411feb9f8861974f24784e3bd1669411440/proof.ipynb\" style=\"text-decoration: none\">&nbsp;&#x22A2;&nbsp;&nbsp;</a><a class=\"ProveItLink\" href=\"../__pv_it/demonstrations/e8b6e15095174585ab60bcc35dd959efabc4da710/expr.ipynb\"><img src=\"data:image/png;base64,iVBORw0KGgoAAAANSUhEUgAAAmwAAAAVCAMAAADM+UI3AAAAP1BMVEX///9jY2MJCQkdHR0NDQ0W\n",
       "FhbMzMxUVFRERES6uroiIiIQEBCYmJhmZmYyMjLu7u52dnaqqqqIiIjc3NwAAACGmE1UAAAAAXRS\n",
       "TlMAQObYZgAAAAlwSFlzAAAOxAAADsQBlSsOGwAABZ1JREFUaN69mtuinCoMhm27K4gCCr7/s27U\n",
       "ARIIB51VuSgMjeHLz0HANQwu2aGcbOG3nqbhnyW72U7LZxjAvy3E2RTkjmhviWVv8P87dQFRTma2\n",
       "yoNKo5/e1qhJ/7hs4xngwTUy3uX+KUb0PxmcN1vcHoj2llgdQVS5f0jdSBSAfGFbg40kHkM/ve22\n",
       "e4pRpDxWSsVHXLWukhOTJGlw3pUSH3+cdQT1BUbwbxacN1pcH4j2nljNIKrcRXVzcIKblDcAXQWt\n",
       "grXIO1iiqIPtKq7fTKo9xeDH/+/wOS1P9HxOJQ2KeRerRi3U0xcY0b9fhlTHLPYC3BHtVbFAECwO\n",
       "FZN1IMlNq0uBE9wFeQPQWZBhMhiifdzlwTZGZ1L92Pl6nme4HB8EelfZMp00yIhIu+R4gBEfXSTO\n",
       "a8kLcEe0V8UCQSxhiMUlqM5dVDcDJ7gL8gagsxAeGBeF2zdc/P1PwKjnDv3ms4LtYCM6zccUyPTL\n",
       "GvzJwdbCAP5njfNKmlMhOkR7VywQhK+0Ku/AzN0B7pLqG2wEd0neAOQKW3C/Dqj9SRk9MPRaBraV\n",
       "yXr+F9vHbAeQ7ieSBn94ZWtgAP9qwXllF6MyIZqivSwWCGL9vIrlRnRg4u4Ev7GyFbgJeQOQK0i/\n",
       "YzQWtW+Pd6zG8yvY1vT7zKo9qZhEKl/S4AG/mNX31LeDrYUB/K8M55W36JoI0SHay2KBIPyKJvIO\n",
       "TN1ZasNaGWwFbkreAOQKfuBZl8P2lUWv/WTWSFXHGHf85GhYOt/TBo+9hXNlP7tOM3cMti8wgP9F\n",
       "4fxwLEBixTWwR7SXxQJBfJZYYzL+zJ2yVXVp8JSbljcAuYLY/Lqa6EYc0LztYOelMeYZcZDekvdC\n",
       "pt8l4jUn7N6+EPoGA/jfZpyXkxfgjmgviwWDuK5gwK1FiXtQdXVpcOqIkcsbgFxhvubGYnH74+ym\n",
       "9J/f7h8OtoWXrWVqqmNITm2ukWXaYHz2s+vUTG3xxA4WGj/pv8SI/scd55XzwYTyHtHeFgsFcSxY\n",
       "m8z4M3cn+Jk4yU2Ck9y5vAHIFa727bkggvY1BzvMVOtRxvt9CmNJZBnP8cHhbM0aPAzUpd81mlbV\n",
       "+lTyHUb0P8047x1sfaK9LBYK4rjChW/IAvcFXlGXAk+5S/IGIFe4VtaJHWmf2QrPzaLwFoH3+wTG\n",
       "eUttQYz7aYP0yxt0UnyOOOn1dTl9gQH8bwLn5T0bfo32ifayWJvAN34jzzqQcCfq6hLgGXdJ3gDk\n",
       "Chxs8mYwWN22ckpvOaNtfsCKMOMZw3GS1sjvucAm1zUMPnrFPl/qrD0HhMcYyP/CcV4Z3CYVoi3a\n",
       "y2LhIMzCJrIDMTc8RFRPo7rMXZI3ALkCPO/vEFRt6ZEI2IKT7bVriFfeVsgjCVC3LP4GJrkZPxsM\n",
       "dVaexxj95OrjHgb2n11olNsjLklaor0sFg5CJ9fLJe5BbdXBloIT3CV5A5ArjLGW7zuLI1yz3+k3\n",
       "/2jrfTE274od/v034UHsZ1KwbnJg1ydaAc5GvsFQZ6Vk8sG30fsYyL+YcF7ZJYpUiLZoL4uVBCE3\n",
       "ugMTbgfOM/DgNQenuAvyBqCjIMaCssuvlScfMIItMRQ2Yo9F1HWa3V3ZvvBvBc6rdx9jIkSHaK+K\n",
       "1QiiyO2GSgZOdUEnZHzWokLx+zNxqRxsCQ7qHbQOT80eD7b7/vOP6+XU/Giv9E9SPg+mwd+VqC7o\n",
       "hIzPBqCrwOm/3bTUdtnb5vf7mthiEnWdZuj6upweYwD/Pk7LezrAC3BHtBfFagbBb/yhLvERpxMy\n",
       "EgWgT0HTgCt1g+9t8/t9qknTVUXW6bnnbxkfYwD/jeFTEOCOaC+K1QxC8/7BRnzE6YSMRAHIFyxp\n",
       "T3+V9rZWsht/X3w32bXT+0MM4N9YnDcfNQ9Ee0usjiCsueH5IXckCkBn4X8g9XupKdW9QgAAAABJ\n",
       "RU5ErkJggg==\n",
       "\" style=\"display:inline;vertical-align:middle;\" /></a></span>"
      ],
      "text/plain": [
       "|- (4 not-in ({1, 2, 3, 4, 5} - {1, 2, 3})) = ((4 not-in {1, 2, 3, 4, 5}) or (4 in {1, 2, 3}))"
      ]
     },
     "execution_count": 75,
     "metadata": {},
     "output_type": "execute_result"
    }
   ],
   "source": [
    "# Notice the definition is returned even for False non-membership claims\n",
    "diff_nonmem_02.definition()"
   ]
  },
  {
   "cell_type": "code",
   "execution_count": 76,
   "metadata": {},
   "outputs": [
    {
     "data": {
      "text/html": [
       "<a class=\"ProveItLink\" href=\"../__pv_it/demonstrations/6cd32d0ed08ba9043ceb1200a52de1a0631cd0ad0/expr.ipynb\"><img src=\"data:image/png;base64,iVBORw0KGgoAAAANSUhEUgAAAP4AAAAVCAMAAABRy6MiAAAAP1BMVEX///9jY2MJCQkdHR0NDQ0W\n",
       "FhZUVFQyMjK6urru7u4QEBBERERmZmaqqqoiIiLc3NzMzMyYmJiIiIh2dnYAAABSvsfBAAAAAXRS\n",
       "TlMAQObYZgAAAAlwSFlzAAAOxAAADsQBlSsOGwAAAwVJREFUWMO1WFeiqyAQ9TWQXve/1geIOBSV\n",
       "6A0fSSQwcw5TcVnOhho/knVdvjeUUHMLH8IA8m8UYQKfrMjfeCU/z1onRhGQRmxG/mMYh/zVXq+D\n",
       "T8Llb1+0atkAUJxjpps55zjr7aR5/Uw9xjLLY+iexBsYRb41Fxo4BE1w/uFknkAc+1qvYvF/X3El\n",
       "PGEVrXDZUJTUS0dqFVfjDYxDPr5woAoEN0uHzTZ6UQomSisfjSqJx63rtvTRgNoM/Scwjr2Gn0QW\n",
       "k//+SgCaTuil6Rl5mFJWGq3Q0tcGf4/+LQywl47Mv2JLFgSjR+CZY09/Ia/7QG2CzC1fpH8LA+zF\n",
       "ecZaU5arGBKkMhh3E3pzzPjuNGXD3qqevrFuP/CX9G9hgL0uwlAyRAZn5Uii25iqKuBCgONrvdo3\n",
       "5URbhGpDqCCspR+LkcrpytJ7+m9gAPkmipHRtrSsx31SlHvqVtRc65VoVKVE7fo9/e0MNrOovlB0\n",
       "zcsbGEC+CCfB6/2aSin//A4f7EgRm10UwutyqffwoT4b7SeuzujznK4IwqIUXHmM3Ynewjjk6xAi\n",
       "tF5LUt2sDZDph24FtGQDvaZlpRNkBuypkpc19Bne6G8EHb7pZ1/COOSvNJRD2xf8JvsU54ctWa83\n",
       "tYYKVhyf1kD6K4rDU+Tg8eZs3XZ0p+MNDCBfBL25HpQTt3ZZm36A2YuUe7SfiZElYIqi4nUVyG2e\n",
       "wHRQ3NDRR5l/EkYl37A9UNyRnrFocvVWILqqsYVq6emU5HFI2OYZsxfcuvXzDO4MbXrKyORJ4fsM\n",
       "Rr03FXTnjLHAOAT9bq5TWnZ6EQrXFBQF7lcV6dPAYCr4VECy3TWOuXDg3iMLp8I1BfEHPf/nMCr5\n",
       "cphkzC/HQqYF5ipZd4RNkJmp2WWfWv+FfCUnbvrV5WCk101NzS57TP9z+Xx441WDqsnUctaSETsz\n",
       "Nbus6ujO33bQH5Cv2PhoB10XyUsHLdlAx0jt5LKFUDPxzuoxDCCfjV93Dd+2KLsnKSSW7w3l5sQ/\n",
       "hQHk28j+P0zmMd6AfXHnAAAAAElFTkSuQmCC\n",
       "\" style=\"display:inline;vertical-align:middle;\" /></a>"
      ],
      "text/plain": [
       "c not-in ({1, 2, 3, 4, 5} - {1, 2, 3})"
      ]
     },
     "execution_count": 76,
     "metadata": {},
     "output_type": "execute_result"
    }
   ],
   "source": [
    "diff_nonmem_03.expr"
   ]
  },
  {
   "cell_type": "code",
   "execution_count": 77,
   "metadata": {},
   "outputs": [
    {
     "data": {
      "text/html": [
       "<span style=\"font-size:20px;\"> <a class=\"ProveItLink\" href=\"../__pv_it/demonstrations/73dcc9cc13469e998f3dc5158f93dc4f27060dc10/proof.ipynb\" style=\"text-decoration: none\">&nbsp;&#x22A2;&nbsp;&nbsp;</a><a class=\"ProveItLink\" href=\"../__pv_it/demonstrations/611d4b209b18db4af08abe97efcc9ddbc2d8d3c30/expr.ipynb\"><img src=\"data:image/png;base64,iVBORw0KGgoAAAANSUhEUgAAAmcAAAAVCAMAAAA0GbnAAAAASFBMVEX///8/Pz9vb28YGBhjY2MJ\n",
       "CQkdHR0NDQ0WFhbMzMxUVFRERES6uroiIiIQEBCYmJhmZmYyMjLu7u52dnaqqqqIiIjc3NwAAACS\n",
       "yLUeAAAAAXRSTlMAQObYZgAAAAlwSFlzAAAOxAAADsQBlSsOGwAABddJREFUaN69mtmCrCgMhmuW\n",
       "MzOCIIjg+7/puGJCAoJWHy46VTTgn4891uezpPDJpsB/Hfv+83MpTKGu4EMZoP3A+3nPo57Z72IV\n",
       "mvT/PFuiy0/5anaE386S3vbj95F1m3urrE7ImvYfy7ja7z22d0+c2pn9LlY1LpRkf5ttinZypUrw\n",
       "21lymqOETiVqgjFWdkmec0Yys6Mz6KuerVVHe1Lce/RGRmzfD9iWn+g+zcyiSKKxhVWCimV170JJ\n",
       "do5tu+xUz25HW3icgR7Hkk4dGcLYGasIcv3/jECNZhNOp5LCg0npWbkRP6KU3si42j9XH3s/fSOA\n",
       "embngxiNTawSVDwr4IK4pqCn+qvZPpJN9GzWlGYB6u1YEgwCn6gQ226sNVqC1+ePM3HSJ/AEM4Zq\n",
       "xtkTGVfdwWBbGkFD+uGWGXhQqrGFVYqKZwVcGOLoAiuPGVrH2SPZRM9mdXaHluq/fxXwWFd0sN6+\n",
       "ixmeN3u9jn3Crhvsj42zWxmgrh6xzSdNPlBkCzNb2WH1rAiqDCvgwpkXuA5kZCv1NdlUz2KnzFra\n",
       "Wz9+BNyFr5KlhWT7l5g7uuGnk8l9fm6c3coAde2Abf7MYgkJigwzKy8M1awIqgwr4II7tl4zMR3I\n",
       "yG5Yz+rZArQmHg2d90OsG9Y9Fe/noGS+g4/JNBNnVNqLPpBxNnh39tLLcXYrA9R1Atv8tukoCcBs\n",
       "Q0bOQIUOq2ZFUWVYARfOdUyxHUhkN4yzBrYA7TnkgloGvpFxJAa0yePJYmy5g7s5uWJ3Xoj0grK0\n",
       "lsBb78PhOF96fT/O3sgA7Q8W27VlBZIgAHhmG7KEGRTJd1gFKwZVhhVw4VhXvacdyMnOs22XTfUs\n",
       "Vh3rqloHu46VLb2CnSU/QQ/lDlaCuyhPyVZA4W0A98kQ5ttIzysZoP1JY5s/4E/JB8zMctdWIDKz\n",
       "5t6zyqGirKALe3gFBiVKsvNs22VTPYvV+5wwuLVOLxP5n1/LH3md//aSQdj+U+zga1Wkx8c40kMG\n",
       "njnOl6Ow03UfB8vLMWneyrja72Zs89eAHn/AzDZkG7PruUgk22EVrLKoKCvkwrpQTYbq52Qr9U3Z\n",
       "RM9ij4drXHGU4CiZYO4MCNYzKoYUSbcNDQknadhmE4Yn7U5hH0jO3rz2eCnjar/X2FaPM8xsQ5Yy\n",
       "gyK5DqtgxaHKsUIurEFZtCkWZBfYPpBN9Cx2X0zHdLtVJBB0bRswWE9VbDHnAP2btzJonPViTbMW\n",
       "IECtj3tMGuvPpjcyQPuTwjZ7Pkv2zZSZosEzJJLpsBpWHKocq0lhQZ2kHcjK/nxTNtWzWLk/9biS\n",
       "xjVkOT/2SeBS+sJF7wo/bzjWm3LM0iIuqkmUS8CqDs42V3EPeC4DtT9IbPPj2uMPCbP1yN2b+4vb\n",
       "xaCBFUaVY4Vd8IPoGf2M7Jr7Zq1sTs9ij6vnvuG666Jjp/SGeF2aYVBgPyLECHZQZk0KBrWH4Qyu\n",
       "JIHuWaKqZrurjE/iGm0ycN3zum/uXv5FABlmy6FEdHmRqcYmVhhVjhV2YcSh14LsEttG2ayexXZH\n",
       "pnPDAON1o/iVvLDvFBEhhJ6tWFs/3+mqeUsWZK2z3BwvWRW4/xg5z8KDvGCMMA/eb7bLQO2rHtv8\n",
       "iVAlHxJmo5B/jTmRVGMDK4IqwypxwUysfiq7/6JsTs9qVcdTHf52Er+NiCW5QTCNNVnVeY3rWasM\n",
       "UDcobEuBjS79kKQ//5D5Fzjf4FL25c6FnOzefVM21bPZ3PtjGiaOJbkOdlVZ9XkPx1mlDLi2D9gW\n",
       "UgRQz4wT+YJL2Zc7Fyp+KvAF2VTPbiUbEA7MqfgsyQTrR1+TVZ0HY/3Z9FwGaP/0M8gK+hFVPTMq\n",
       "8gWXsi/3Lsjqn9M+l031HJaNoKSBIFSSCdYzD+Q01OaNuuInLM9lgPZP9FVdEFHVM6MiX3Ap+3Lv\n",
       "wihrx9lz2VTPaQNXnH2pfJYMRlT/APhBCq6u+acyQPs+YHtX03+amf0uVjUuBF/d7mu2CO3/dS6U\n",
       "2eJ5iOgAAAAASUVORK5CYII=\n",
       "\" style=\"display:inline;vertical-align:middle;\" /></a></span>"
      ],
      "text/plain": [
       "|- (c not-in ({1, 2, 3, 4, 5} - {1, 2, 3})) = ((c not-in {1, 2, 3, 4, 5}) or (c in {1, 2, 3}))"
      ]
     },
     "execution_count": 77,
     "metadata": {},
     "output_type": "execute_result"
    }
   ],
   "source": [
    "# Notice the definition is returned even non-membership claims of unknown verity\n",
    "diff_nonmem_03.definition()"
   ]
  },
  {
   "cell_type": "code",
   "execution_count": 78,
   "metadata": {},
   "outputs": [
    {
     "data": {
      "text/html": [
       "<a class=\"ProveItLink\" href=\"../__pv_it/demonstrations/e25554171b1a7adf321ec54f09274da7b577b3d50/expr.ipynb\"><img src=\"data:image/png;base64,iVBORw0KGgoAAAANSUhEUgAAAXkAAAAVCAMAAACUnG6aAAAAP1BMVEX///9jY2MJCQkdHR0NDQ0W\n",
       "FhZUVFQyMjK6urru7u4QEBBERERmZmaqqqoiIiLc3NzMzMyYmJiIiIh2dnYAAABSvsfBAAAAAXRS\n",
       "TlMAQObYZgAAAAlwSFlzAAAOxAAADsQBlSsOGwAAA4NJREFUWMPNmdeW6yAMRbmN3uH/v/UaJza9\n",
       "hMkUHmYSlpA3x7IsEQB6Q3W+EozBjxpKqDXD7yVPMCe8iKTfrLg+IEx+lvJAQ7aC9N3kERPbsV36\n",
       "Tbjrg7/otaz30ZqbmijnOMujUXGOmJ7EUGLD4HzjkXwTc4Gp41rzAtOagQueakHQ9cnJxwTkyBfX\n",
       "aM2BuQnhpywi3SQLV/LD3JDZPKmG47LZxFxh6rmWEBSYaACQ7YWbkv+4b41r1HPYzExsEJ14lEzB\n",
       "MxFSOvKU2byi/CbmClNPlVp5wzsZkcl/f2WiBQW7ygs7M8E0xFGmPD1toFcDT5nNh5WfY64wtVXR\n",
       "BlXKA9oKeowsATDNaAJ9ovLPJJxGDzwvAr0eeMpsvkD5Fab29hxoKI8e+3XWmtujCjmIoCzZuE9W\n",
       "HsvGK0f6safE5guUX2Sq11nVUt6FKSWPRMvZfTfC82QylyjqwtH7ldcWwrpo0N5Olb9sLJ0rH8n3\n",
       "lZ8zVevUod2lfIJpAo0MEU1vH6h+98q78FDUfFK2Eb2CYKT8ZaPq5VUtFMn3MedM1bogLqoxxXET\n",
       "eG6rqZTyz+/jD4uvg2ctpSDCYFV5LsOg9PwHZ48xLafjQ9jzlNoQiEQsgWUcukG+jbnAVK4zKlE+\n",
       "wdRH2qIsr0nPujUPoUv5oyWI3eK7Yl6f4rAiak3VG9Xxldg4NDkYSMl3Y36FqVinToNb+YiJ6VFJ\n",
       "27qQL15YMdsk3eK7lPfnRKH82TOrcQWX2Ag/Pxdg8IPKrzCV6zAMw1PoCkxxSPys5+6YsRbgos5n\n",
       "dlDbkD3lb0MK72wT2/sT1JKRp9TGLbxh92obAl5haqvy3GKGadiVvFwsLpAoKw0HG/zu0VRk3afz\n",
       "aralapkxVz1/zynJw5AjT5nNi1XlDuYKU0cV4FmFcBbqzhmT3koCfxeHelpW/BBSj2AQTd5nRHGu\n",
       "3/80luFjQ48Ts2tO+nOgkafM5iXl9zBXmJrbO0Lbe2gLTNl8L5lfjh1v7OQiUjci5778KMeK7oFo\n",
       "a9nIlbBL8bxn8xrmClNrXURQbZj6IC0e8DT43Wi/uHse6hbn5p7eoPxrmCtMbojATff8tSwMrsRY\n",
       "d4vEgp3RWrbpKutPu2Olz30fUnPdjdmSuC7mY5Xf7hY30ezi3NI2qZkbLfS5b0SyQ0zW/j2w+fuO\n",
       "ulwpDgX4UUO5NaJvJk8wbRD+PyTCQfti+sLuAAAAAElFTkSuQmCC\n",
       "\" style=\"display:inline;vertical-align:middle;\" /></a>"
      ],
      "text/plain": [
       "c not-in ({1, 1 + 1, 3, 2 + 2} - {1 + 1, 2 + 1, 4})"
      ]
     },
     "execution_count": 78,
     "metadata": {},
     "output_type": "execute_result"
    }
   ],
   "source": [
    "diff_nonmem_complicated = Difference(Set(one, Add(one, one), three, Add(two, two)), Set(Add(one, one), Add(two, one), four)).nonmembership_object(c)\n",
    "diff_nonmem_complicated.expr"
   ]
  },
  {
   "cell_type": "code",
   "execution_count": 79,
   "metadata": {},
   "outputs": [
    {
     "data": {
      "text/html": [
       "<span style=\"font-size:20px;\"> <a class=\"ProveItLink\" href=\"../__pv_it/demonstrations/e28cbc0cf1ad844cb61a62da62d71b5ad11e20cf0/proof.ipynb\" style=\"text-decoration: none\">&nbsp;&#x22A2;&nbsp;&nbsp;</a><a class=\"ProveItLink\" href=\"../__pv_it/demonstrations/10c2b75a62e895aecc4172c89382bf16e54ff2770/expr.ipynb\"><img src=\"data:image/png;base64,iVBORw0KGgoAAAANSUhEUgAAA14AAAAVCAMAAABhcc/yAAAARVBMVEX///8/Pz9vb28YGBgJCQkd\n",
       "HR0NDQ0WFhbMzMxUVFRERES6uroiIiIQEBCYmJhmZmYyMjLu7u52dnaqqqqIiIjc3NwAAACb3p1w\n",
       "AAAAAXRSTlMAQObYZgAAAAlwSFlzAAAOxAAADsQBlSsOGwAABe5JREFUeNrVm+uWrCYQhT3JSSII\n",
       "igq+/6Om1UYpKIrSaVsPf1jjKui9+eQiMFX1Sq7KJof/2TdN9azkRscLvFd6INPhTVxmwcf1aEzu\n",
       "gOU/Gasd8+VMH/7lI61p+odxq2ohOZrulr7LbCzMi8rHw7gejYnhm7L6p2AdB6pU+JePHKfNSq0S\n",
       "V8ijqhjjhqGT0fjjus7IujBsBDFSlJthl35KJktTpuq6i2TaFuYF5cNhXKTX+zEVfVNWb8CK113A\n",
       "2huiwi5syi1yUO8HojMT/EXkUTqPI8W6pY3AYOXk/FMTOeeDGC+LSu+YkzI5mrJVK1FFMv1cYxgD\n",
       "r298Pi7K6zMw7b7FPl7b9H17AtZs3QWsHTWGgBd2iwzeY5v+YvqoaUsxdkbWT6A9xbJ61ZqqCsQc\n",
       "6F4nZbI0oY3yephyaDuYU8k3Ph8X6fURmHbf7dapgjmka492r2ux4s1YwKpzq1mp1H//hi2pq5Pd\n",
       "a7SlmEbPIwfkppcYMTmiKhDz0+5VlsnShGOoW5NwqHQPcyLpGEIR1+Hu9X1Mu2//zBnkfUOsKmW+\n",
       "jhVrxhLWEZ+BG2NfMSJcju6Rn+9e7wU0GC/E8itiqomqQMwXuhdHE+5uqBAOpoU58XFhYgglXFd0\n",
       "r09j2n0P7wVnNyLvG2L1DqxYc5Swdtvn42BtW2+DSJ8sfoPIS7pXo7CXTE2FqvaYL3QvniasURzG\n",
       "YRAwJ9aGQwKhgOuq7vVJTLtvP2sp9H1LrN6CFSlXxOp7mlOvcaOTvv85uCKGQ01nPt+9aisEsnVT\n",
       "T7bIzcdYzfiEMT/nUNSUFnOvtvMcApmtgfksUAVJZOe5Mi7a6zMwBb7XWq1N3zfM6i1Y03JlrOo9\n",
       "G6t5rNC+RoPsaPnIyun2osXhmN2Xobj5GDcVj0kC6ec5FDWlxebGNanMUcOc2LQYo7yIi/b6DEyB\n",
       "7/VMIdz5pqzegjUtV8aq193IDpSs9Tx2/vNbKRl8/62RTpim4navdSzWOhqLMwZ18rSTxaqCmF6Y\n",
       "cdvUDSaBbWERSj8ts6wpKda6gEMgs55gTuxsNCAv48p6fRKm0Pc8LY1dahmzOieG1Q9jTcoxsL5N\n",
       "aAn2+GX4uRkRrrvgesSHZq966QEyHhfb5JskrSqIGUzhYkwo/ewwx9AUF3NLwMZhl9lomLO7FwMX\n",
       "7fUZmELf8xkyWPkRVu/BGpfjYF2n4D5ad6roMxMsDsPrER/qXtPyd8xtObV39G5pEDNO5f3tXfpJ\n",
       "DhxNyX62mNOkxRDJHBXM899ecHHIwUV7fQamUQETtUzfN9TqPVjjchyscq3kvdnq+9/8idlEh53S\n",
       "EjuH/TluPlKLbdWxF64X2XAbNq4qjBkYWxvntpiOacIaZfMIZLYS5sSwYEHOwIV57atnYQK+bSsa\n",
       "xDJi9SasOFca63sTcV15Dtum0GsZGe8Q7buo4R7kehQXnuQPkysajIu1bfU+UNlrcqqbk6KqAjHH\n",
       "NubPyGRpQhtlfk9k0nrpdntWN9zCZ+BCvAJBT8AEfPfwpJiwehNWnCuNtX4/HYa2DXpvL+Tf0TBQ\n",
       "q8SMEHoyYm5z5fd89kd5oUix5uVuvSu6PVLTkgxVFYg50r1OyuRoQootb8k0CRvJVA3Mia9GBfMy\n",
       "LszrLugZmKDvbkQtp1ab/gasONciVpW5KPzXLxldPdkisfd4JL57xvy/HiDFqJqoqg7OXj+VySk3\n",
       "0kegTsGc3JmvIwhFXJjXs217DaaC75zVZuBYvRArWi6DNXefND0d3yIxM9Typsnf+RmO1URV9ePu\n",
       "dUwmp9xAS2Bd040an48L83q2ba/BVPDNuel8C1a0XA6rRM/BHfK17SOR6xG9rc4kpNjJmipwmSSb\n",
       "ODc7qgvdhTJ9EzvJqcw3Ph9X6vVs216Dqehbsv9Z+atY8XI5rOhRQnyKAiKR6xEnhVrWI6ZpzZgE\n",
       "GDc7qo9psrRMusPkGp+PK/V6tm2vwVT03UtupV/FipbLY3VYOHrJ1Ee6TozVs5IbeJJulh7ItA7m\n",
       "xaL2MK5HY2L4duwO8FCs/wN777I+obulIwAAAABJRU5ErkJggg==\n",
       "\" style=\"display:inline;vertical-align:middle;\" /></a></span>"
      ],
      "text/plain": [
       "|- (c not-in ({1, 1 + 1, 3, 2 + 2} - {1 + 1, 2 + 1, 4})) = ((c not-in {1, 1 + 1, 3, 2 + 2}) or (c in {1 + 1, 2 + 1, 4}))"
      ]
     },
     "execution_count": 79,
     "metadata": {},
     "output_type": "execute_result"
    }
   ],
   "source": [
    "diff_nonmem_complicated.definition()"
   ]
  },
  {
   "cell_type": "markdown",
   "metadata": {},
   "source": [
    "###  `DifferenceNonmembership.unfold()`\n",
    "\n",
    "From something proven or assumed of the form $[x \\notin (A - B)]$, derive and return $[(x \\notin A) \\lor (x \\in B)]$, or, for the special case of $x \\notin (S - {y})$, derive and return $[(x \\notin A) \\lor (x = y)]$ (if that theorem is usable)."
   ]
  },
  {
   "cell_type": "code",
   "execution_count": 80,
   "metadata": {},
   "outputs": [
    {
     "data": {
      "text/html": [
       "<a class=\"ProveItLink\" href=\"../__pv_it/demonstrations/83b01c83bae2063e9bbc88e6e11eac614e8751480/expr.ipynb\"><img src=\"data:image/png;base64,iVBORw0KGgoAAAANSUhEUgAAAPkAAAAVCAMAAACzF7hbAAAAP1BMVEX///9jY2MJCQkdHR0NDQ0W\n",
       "FhaYmJjMzMzc3NyIiIhUVFR2dna6urqqqqpmZmYyMjIiIiIQEBBERETu7u4AAADr3yGxAAAAAXRS\n",
       "TlMAQObYZgAAAAlwSFlzAAAOxAAADsQBlSsOGwAAAvhJREFUWMO1WOl6rSAM5G5gANnf/1mvVFYN\n",
       "yLFf/dFTIxkmMWaihIyObXDupSQ/dWz7trTuFYcK/rCJ9t0p7OlXS/9jkRPG3QL6Sw4FXMKZP2cN\n",
       "uqw73UX6DcM9B0AoB23V4JLjj94TDg8kMjjQdHcxFqqrJ6/TP2IWnFbL+Q/74IJ4zt58yYxE8UwF\n",
       "jbLo0RVd2XUYzu2Qw9v27chnJIonVTgLcObfX6Mbi13ZVYblp28M893IpySqp/UIkNTgCWfdk6VX\n",
       "dhVmudjHJfndyBcv6ljEmgPwWiJbfAa87otd3Hw3LmCDPpwe6FwPQFkvLocju5SkP5Yp/3HkCIc5\n",
       "iQoujl7nwxGqD0XjdPyPXmKiJQcpJdIey1xXWVegSM0cHJTrKuruSKQ5eLEzu2AfI59weCBRwanO\n",
       "GmFLqBoRc5OTuNkzB/7rV5m72Ng2Z0ZcLcmxK6ktRBvIdPLUJmccHkhU8N1mFiHXM7PGmD+/jz/N\n",
       "rbKJFddJ61QomJdbERqbuncbzNEFABBZRT3Xe5ZSUw9WKnzG4YlEAWchucqSDB8DFpe8p8gJU2kK\n",
       "su6rsjrNvwDlVRckxDF0w4vQ88l0yuGJRAGXNulfkxhzE/Om2tMU5EMsHhruQtpm+FzVtzLUERYH\n",
       "tGcODyQq+H6EGFh+ZJKYA5FXzXHQ91X/tQHXJL4EZLAKVCwnqqwW1DEV7JldYRd7Owo1JdGC06MS\n",
       "+HHFtaHqvRfzpAGdosRU7EYR9dVNz0sFqFjOhipYtaCOsc8Sr7YPVQ2DmpHowKNOey4U7SqS/76+\n",
       "CjFz2dVzEGzjEPGM8cmWgbKFCEEp+NaCORKIyz6eZFCoGYkW3KDNhP4S7uimrfKU1ooR2/0by8D4\n",
       "coZDoBBTnYHMypt5nfAHu4pXloHxZeRizWSub2D9pOCwfpqmImTE8vDGMjL2Qw7+YWKFA4qewdEQ\n",
       "72JeZR4fse47rFgGxlZlhkPcCgfMVMAd/j0K/yiS3ww2xZffwj//VCaWwN9xqOAQA/8PZ5cxc6WD\n",
       "UwYAAAAASUVORK5CYII=\n",
       "\" style=\"display:inline;vertical-align:middle;\" /></a>"
      ],
      "text/plain": [
       "b not-in ({a, b, c, d, e} - {a, b, c})"
      ]
     },
     "execution_count": 80,
     "metadata": {},
     "output_type": "execute_result"
    }
   ],
   "source": [
    "diff_nonmem_01.expr"
   ]
  },
  {
   "cell_type": "code",
   "execution_count": 81,
   "metadata": {},
   "outputs": [
    {
     "data": {
      "text/html": [
       "<span style=\"font-size:20px;\"> <a class=\"ProveItLink\" href=\"../__pv_it/demonstrations/991bf5616cae6cac6c902951cbdf30959c9609a60/proof.ipynb\" style=\"text-decoration: none\">&nbsp;&#x22A2;&nbsp;&nbsp;</a><a class=\"ProveItLink\" href=\"../__pv_it/demonstrations/cc99af530b3c514da239e26045f467efd646affa0/expr.ipynb\"><img src=\"data:image/png;base64,iVBORw0KGgoAAAANSUhEUgAAAScAAAAVCAMAAAAzQdhhAAAAP1BMVEX///9jY2MJCQkdHR0NDQ0W\n",
       "FhbMzMxUVFRERES6uroiIiIQEBCYmJhmZmYyMjLu7u52dnaqqqqIiIjc3NwAAACGmE1UAAAAAXRS\n",
       "TlMAQObYZgAAAAlwSFlzAAAOxAAADsQBlSsOGwAAA35JREFUWMO1mOt2pSAMhZlOR25yEXj/Zy0q\n",
       "AsGAHNfUH+0xQvKZRNhKSDw86R7tJcM5+a3Db74TdYasf7xiRmDc1h+uDTh1mptfyxNZKDu9c/c4\n",
       "dgRN/gfzDWaze86ZFOhgcLqFbsSOA8ynlqp3jaV4bn1wMoIms8wPDiCM0alzMHgFO9aOsLSaLVXo\n",
       "9kIOUPqY5l9L6bIhNJlnHjqAMGodwIsPYobZJ4H3K5wDrJl/zdlhS6nfOh1znKeRAwgje/COiX/f\n",
       "Qs/GHNz9PHm5JE1bK1+h9KAjczymmcfQAGbTuDuunSF0ma+NFbOP3aDXixOdVyibSq5K6TvQB/NH\n",
       "XJMXI4yy6Sd1jhYSvz+TRvdmemqdh5tS4+Ac79wKUr3PW9peN3GYMg2apaTpo+qWcGivzehuEeYx\n",
       "NIBJdTMhBjEhawXtwdJw8SVkLuNlBnq2dbCDiUigWF3w+7xoFJFqOe/cybwslRqdXe0qGBxao5Jq\n",
       "wPwADWDEVu2eMrNoRDwRLxPf8V+J+/Yr68wK21jSPNilPuxGx9PJVdxNNuJEVDA4tEb14oD5ARrA\n",
       "SF5lPdgLTcbl8O9X/MOqZ0YnlaBC9tiULVQ2dVsjsXmxxM45e+kPQ/UJt4SqfWLBt3pRQ6EP5uOY\n",
       "ZX6CrmFSyMMBzwk0rFpAc11VUqiSHT0LtFXj4BoFDmweCUDK2uu+uISiEjxUKLRhmKgdMT9B1zCp\n",
       "hY+xVTLFXTxlhWrC3pZruAuRuhrnKLgaIPMIGFbE8yaAjFtAEnBoMVDVndhDaADDzgthuR7hJEQc\n",
       "4aqzd5jDPdVkf1W8XBUH2XJ649mCzrsehfPObVk668S4lYJGwKGd6+/ueOwRdAOT9l8ar7M6MXpr\n",
       "xVPZKXfMTSiijh2DQAfZcm4adikWbN65sRnlG12g6pXEQOnYg9ZbXxegsQfQLcwi0pJlFXj3NPTr\n",
       "/pptr8HOLp663ZtI+1BxcFmItet6CL8y5j4vtsE+7CbtBGggBTPQgTaUfcQ8hG5hxIKr0fWPZTPv\n",
       "AJt5Y8FtlSgcq/seNH/LjJkgzKqmvjx1Y9pXFtxWAqjxh5V1+tvEJDNqgjAMlbEe22WdvH/CcW8s\n",
       "uK1oUDQ6WMmnP2dOMaM4DQyqO27iqZHLBYO8seC2snk9psGw2TxNMWOmG4zHmCkeVNHp762ff5K2\n",
       "l3P33C3eTbt9xdzA/ABeLz0SdlloZAAAAABJRU5ErkJggg==\n",
       "\" style=\"display:inline;vertical-align:middle;\" /></a></span>"
      ],
      "text/plain": [
       "|- (b not-in {a, b, c, d, e}) or (b in {a, b, c})"
      ]
     },
     "execution_count": 81,
     "metadata": {},
     "output_type": "execute_result"
    }
   ],
   "source": [
    "diff_nonmem_01.unfold()"
   ]
  },
  {
   "cell_type": "code",
   "execution_count": 82,
   "metadata": {},
   "outputs": [
    {
     "data": {
      "text/html": [
       "<a class=\"ProveItLink\" href=\"../__pv_it/demonstrations/3e01adc67d7bc0753192a717ccb7862b02a3e0cc0/expr.ipynb\"><img src=\"data:image/png;base64,iVBORw0KGgoAAAANSUhEUgAAAP8AAAAVCAMAAAC+CcgcAAAARVBMVEX///8/Pz9vb28YGBgJCQkd\n",
       "HR0NDQ0WFhaqqqru7u5EREQQEBC6urrc3Nx2dnYyMjKYmJiIiIhUVFQiIiJmZmbMzMwAAABdXBgn\n",
       "AAAAAXRSTlMAQObYZgAAAAlwSFlzAAAOxAAADsQBlSsOGwAAAyZJREFUWMO1mNmCpCAMRZm1BWRf\n",
       "/v9TBxEkRKxCp5qXblOYe8ISgoRcNzF+pOtKvq+JRcx1fIYB3L/VURQ+maX8VSv9fNghh7QhBctm\n",
       "/D/FaO5XA6x+1BM+LbL8jVU2OAwgvFcsIJuUnp1nCgvyqJQrDpl9H8ZNDEhxuDf6+N0NJD2kpqr8\n",
       "I93+bL2KSFiw7ffYBUt9hl2wcyzoeHSSdhIv2z2MjqK5Pxa4GcXfUXhNMJzBwjbvKM67ZbqJ0qjw\n",
       "6sWC9hzbTPyTGB1Fe1WXRRi06nEMc+7rL4TmE8I8G2yEiWXl2zzg+E+Cn4x/gNFRAPd8f1WSDmdV\n",
       "Jtkt3EGLmhn4/JON4bxZNaIn3xj/FUalAO5VthjR4Yi8LWg3ZV5OCJdtE7FldSh8JJhxtZF1xP8z\n",
       "/guMgwK4lxuFSHaIo/LC0aY7Co8IvHotHKJBBmMtSsZIMCfl5EuUnGX4+/jvYgAK4F6rvBhR/IPD\n",
       "39UELrh+LTzKpCj/Y8E2CPvMiPNxcSpjHmBUCuB+SUOhRY8TuEvtz2/nGMgp+8wIq1byUtizES6H\n",
       "XbEgeLnkLGrVcpy7rrW6jB5iVIrmPkQi8joBODS/KvspKPGnsqUVZyNhjcMKmZmBGT0J5g5qj3+P\n",
       "UKo3pe1djJ6iuV85We3WIreyO/dRCjrWPyjOBsK5SBTw/Iu5E4z/LLiNb8nZqLa7bvcwOgrgfqlh\n",
       "cjBgJk3QispTZq4Tb5MPOaTt8Dxsu+O88jrM3U5hSkjGfdVK/iT/v8IAFJ17XbdJhPsl7Q6UsfeD\n",
       "AgnLfbe24k44vzUHbVrXk7cvArMgeNXnxEwfnH8zGI2id1+Odc9itO28oJb9QmsqOCxsbbqy2M1j\n",
       "vbakIzc3BW1pJfly82i2Q7CZ0p3F+vv1/yxGo+jcu4s88/NHKoAdnK8j9w7glsF2nbSNut2c/9sY\n",
       "7VXhpm7+8KowEpYjvjmbJJ+LfxrDnS51ZHCDxAlXkIvijJrBx5k526gbrO1efP54jNHcC3Y1uIP6\n",
       "i5bO5+JspDFpG4ZPuZ74jvUYo7lnV1/Aht9fhKmZyi7k+5qQc+4fYgD3Zgv/H2t2Or2Ce0ohAAAA\n",
       "AElFTkSuQmCC\n",
       "\" style=\"display:inline;vertical-align:middle;\" /></a>"
      ],
      "text/plain": [
       "4 not-in ({1, 2, 3, 4, 5} - {1, 2, 3})"
      ]
     },
     "execution_count": 82,
     "metadata": {},
     "output_type": "execute_result"
    }
   ],
   "source": [
    "diff_nonmem_02.expr"
   ]
  },
  {
   "cell_type": "code",
   "execution_count": 83,
   "metadata": {},
   "outputs": [
    {
     "name": "stdout",
     "output_type": "stream",
     "text": [
      "ProofFailure (InstantiationFailure): Proof step failed:\n",
      "Attempting to instantiate |- forall_{x, A, B | x not-in (A - B)} ((x not-in A) or (x in B)) with {x: 4, A: {1, 2, 3, 4, 5}, B: {1, 2, 3}}:\n",
      "Unsatisfied condition: 4 not-in ({1, 2, 3, 4, 5} - {1, 2, 3})\n"
     ]
    }
   ],
   "source": [
    "# This should fail, since 4 has not been subtracted out\n",
    "try:\n",
    "    diff_nonmem_02.unfold()\n",
    "    assert False, \"Expecting a ProofFailure (InstantiationFailure); should not get this far!\"\n",
    "except InstantiationFailure as the_error:\n",
    "    print(\"ProofFailure (InstantiationFailure): {}\".format(the_error))"
   ]
  },
  {
   "cell_type": "code",
   "execution_count": 84,
   "metadata": {},
   "outputs": [
    {
     "data": {
      "text/html": [
       "<a class=\"ProveItLink\" href=\"../__pv_it/demonstrations/d02a98bf8cd7ade32588a6fa482005593491abbc0/expr.ipynb\"><img src=\"data:image/png;base64,iVBORw0KGgoAAAANSUhEUgAAAOsAAAAVCAMAAACQTOmOAAAAP1BMVEX///9jY2MJCQkdHR0NDQ0W\n",
       "FhZUVFTMzMwiIiKYmJgQEBAyMjKIiIiqqqru7u66urpERERmZmZ2dnbc3NwAAABK8997AAAAAXRS\n",
       "TlMAQObYZgAAAAlwSFlzAAAOxAAADsQBlSsOGwAAAw9JREFUWMO1WGl7pCAMZttd5BK5/v9vXUAF\n",
       "EqND5+nwoVMR34MjiTJ22+LNtd029rkW1zg3cEJGx3qFqS24NOvxqzf7+xaXKr9IWribwZ+S0bA2\n",
       "c3gOwbuNGAcu13D8ppNiEZgseq/dArtocLZ4eK2S1uIAdPy11UcZA+eJZWSdTF8fXTGaBwqtPv4J\n",
       "Yr/mXidEEl25n8bn7sCZQH6ESiJYQPHYHmQAzoZVd6kpvTbpixroXDIsxGASXk+FUuNOuwE32Cu/\n",
       "+pjxSskAnG2cLDOwqbIQUI5x4t9fMXapCRJVO3gaAgEFXvad1J/zCjj7OGXb9pfDYG0s4+DcrXqC\n",
       "hNdbPC2XsyWxUvZBr4Czj9OHiE0MamLZ2hYuhQ+zJEwk1AHA9yfj1as04ZzeX/DaOPu4UBkXw8dV\n",
       "1GUPSgPzT5Pr9bPXJcEnEXidzAyGvZbcEI+wZtRrr48yBs6OJXVb8h4qNZFcxXk7KvnsVXBiP61o\n",
       "B1+97ob3RYhE3MZp5ZWMk7NjrQrGlTopSgjx/ZX/uCHs7DMeud7YI4l3BLECI2W88+qPsGa5Xluu\n",
       "E72d++O1jM7ZsJZ8tpaK4Jp/W7MkmtnDay4BelFDkUhkAYMXoXWPI69O7153N0G/KP8eZUDOhrXl\n",
       "dU117CBHXJLrsIeHoobwWourOOScC3jm5KUlxcM4l0cIRzXRfXuQATg71popFEfbzBi2eQxt7gNg\n",
       "p1qqfGN73wAOFe037HiEc+d+AIJ6Jw5bduUcsWQGlxKnQL3iyHkEbBTE99PVq6IofGli6OvgqHhK\n",
       "Dj7qa8y0b+SciwxgqI+raXPL+kB5bvkXfodYBCbhPJfrvACeJXvOrLXpsa+Di6FG9y4lbsa+/NrA\n",
       "/c/rYUoGMNSxBB0D5J/gctgbF6LFQELIShwvom9y2E/XdRIriqk311Y635AEioO9O+xtr89YXtKJ\n",
       "msqRLrKbosYa4qOBYW8OAzXRw6u6+hkW6YlIrj3tkkUNxWGmusg+ZpWc+FQzJaNjuZuvMPRngXh+\n",
       "xvB8ZZ9rMczBz8joWKZY/Q8Jjy9wHCqALQAAAABJRU5ErkJggg==\n",
       "\" style=\"display:inline;vertical-align:middle;\" /></a>"
      ],
      "text/plain": [
       "3 not-in ({1, 2, 3, 4, 5} - {1, 3})"
      ]
     },
     "execution_count": 84,
     "metadata": {},
     "output_type": "execute_result"
    }
   ],
   "source": [
    "Difference(set_12345, Set(one, three)).nonmembership_object(three).expr"
   ]
  },
  {
   "cell_type": "code",
   "execution_count": 85,
   "metadata": {},
   "outputs": [
    {
     "data": {
      "text/html": [
       "<span style=\"font-size:20px;\"> <a class=\"ProveItLink\" href=\"../__pv_it/demonstrations/2c98dd7bbcc6a3e139c9156572e2f03efcbb26740/proof.ipynb\" style=\"text-decoration: none\">&nbsp;&#x22A2;&nbsp;&nbsp;</a><a class=\"ProveItLink\" href=\"../__pv_it/demonstrations/7e161fd7e1b95e3b09cc0b26dc9994715cdcf7230/expr.ipynb\"><img src=\"data:image/png;base64,iVBORw0KGgoAAAANSUhEUgAAARsAAAAVCAMAAABBjrrXAAAARVBMVEX///8/Pz9vb28YGBgJCQkd\n",
       "HR0NDQ0WFhbMzMxUVFRERES6uroiIiIQEBCYmJhmZmYyMjLu7u52dnaqqqqIiIjc3NwAAACb3p1w\n",
       "AAAAAXRSTlMAQObYZgAAAAlwSFlzAAAOxAAADsQBlSsOGwAAA6BJREFUWMO1WNsSnSAMpHdAkIvA\n",
       "/39qFT2ahIC00/pwZuTI7iYkISDE/mQxeMifYVnE/3vylju8M9pGz4Rujjxtoxk+wLfkl/DvXSKr\n",
       "+kOQVPrCX9LrtLFw8ce6W/ItVk/F6PTCfQ/ftvJhkIZyZee8lmSMR5UOv9vivbkA9YcwrS+mjIUL\n",
       "XncrHAIQ8uDrr6sI7UI4RBvNGaDK+UIp9PF/QZ/3UI0i77aYGBAFilj1WPZE04twwejmhCMAQu6q\n",
       "h9LxZyi+QTUsxzGB+EbVHLUWRTKPmqhvFEux3tG13h4BgfkivKO7EY4ACPlpzGKPBccUSRvz66ef\n",
       "9I2tA6rA+sih7mu/+infCBvoCmUANRZujJ/zDQLA5JuHWQlSfPFpB1FyOm7qX6rINtdJ4Yhi0jf+\n",
       "nhivnHFP7rwIn44bBIDJXXxADWDINeGCF7O+uRa40BGEWmfm1jdrip9VAPKiEiReQIaPhf+Zb24A\n",
       "TH6vjUwKBonPONEvQX7sG1nIBIJ6aN8JqW+OrTNfZTw9FWt9VuYESQB9LFz0dDPCAQAmNxuMrOfF\n",
       "M82NyHYd+4YWWdFuIsdye+Yzoc81y8/nmyWtBNx+x8JFT3cvpzaG3C5NPa1a7FHOfnw3Rj8Myi9j\n",
       "Cqe5PLPw0zX3fOOuMh6U3z5RiMNhg23RUPjxaFZ3Z1E/AIj8opA1qPTttqBhCbxbNh1GFCs1maLu\n",
       "OmtWEN9of/rmDOx4W7JY3OihdBkKF13djXAMgMiv0Cx1BrDCtM0N7Bs539Q+NUP9DapY1PEUqyI0\n",
       "89riaAu7GdRoSWT2UHhfdyMcAWByfZY3q0j0H2Vvcf16/6F4iGQ199g/7zGAigSd4wGWoH3wND2C\n",
       "cgidkVaFeu6R8Jl9KrQaKfm1T64rbRP2vFOyzxHP6vB0pNm44zFw7EHFnWvReKqrW0SgZjgYXMHg\n",
       "KjsSPvINFY4AMLm83pbdLnRkC0p/6/ZQSu3HQ3XgfY6Ie2dTHw/HAOoztlfsUlSCQ/sxVbnmPCUM\n",
       "ChRHit9AeHPmvkEZ4RCAkBvZO4R8/aJJ6w3n3nnJbYlzY9xngCKb4RmpL3yJun9mGLIT8tXN3dz0\n",
       "OCJn39xYHB8L3fiSoi9czOjmRRJy3bk9y8xumGxzn8aUvsmxwN5e3S1s1i8G6/lrv1Y3z07JQ0dD\n",
       "ZGpabi5KOIbJMdY14W5hX00Peto3rW6WvSXP/O2jYkmcmr+I/Iv74njDp/eoyGkeeEI3Jf8NseFF\n",
       "XbOtoZwAAAAASUVORK5CYII=\n",
       "\" style=\"display:inline;vertical-align:middle;\" /></a></span>"
      ],
      "text/plain": [
       "|- (3 not-in {1, 2, 3, 4, 5}) or (3 in {1, 3})"
      ]
     },
     "execution_count": 85,
     "metadata": {},
     "output_type": "execute_result"
    }
   ],
   "source": [
    "# Notice here we don't need any explicit assumptions\n",
    "Difference(set_12345, Set(one, three)).nonmembership_object(three).unfold()"
   ]
  },
  {
   "cell_type": "code",
   "execution_count": 86,
   "metadata": {},
   "outputs": [
    {
     "data": {
      "text/html": [
       "<a class=\"ProveItLink\" href=\"../__pv_it/demonstrations/a58c05e7ae4aa3574fb78eeb856b0280c17414a40/expr.ipynb\"><img src=\"data:image/png;base64,iVBORw0KGgoAAAANSUhEUgAAAQ8AAAAVCAMAAABvy5tFAAAARVBMVEX///8/Pz9vb28YGBgJCQkd\n",
       "HR0NDQ0WFhZUVFTMzMwiIiKYmJgQEBAyMjKIiIiqqqru7u66urpERERmZmZ2dnbc3NwAAABXtQ9f\n",
       "AAAAAXRSTlMAQObYZgAAAAlwSFlzAAAOxAAADsQBlSsOGwAAA1FJREFUWMPFmFeW5CAMRT2xMcnk\n",
       "/S91AAcEFpiuU93DT5VlLF0eSbAs/eLxR6X18nXFb36u4pswSrzHuELBJ7kdv0Kr98uw5iYmpJWY\n",
       "Gf9vw7jiaXno4pw1GqsInzZ3/IYTY6UtkLdWmLU29Zzb+pkHIejh0JDnVowwcFsf9YwnWe4Um91v\n",
       "t08sbIYSxx9H92diRWiCepPeh+qznnPatJnyQJ2qQgzLAAOz3eSAqFe8PCFkolVB3JErcdjSwso2\n",
       "KMkzkHM4qjvOZasHubd1Rg8MA7Vp1ke9fLHUe5onlWpkaSj9+AtNfAKEZwMJYGHCnKfxzMQ367HJ\n",
       "PmrxxdU1HYF+WshoJ3Ah2MQECMmvSFhvc521rVn+sx4VavElDlBNAbHP00hVfWrdHEiaZqEdqrSV\n",
       "Q/q7Hky6swe+QY8KtfhymWqVBA4GkQcRqxyIq0lWjPVYQx25cZ4Fj85aPdKe54/1TfJnPcYYc3qc\n",
       "qCUeE9eQLluAQJIPer72nI31oATZG7dmttz12EXZO8oj+1G7P4wx5vQ4UUu8jdcLTFaN01j+/KbU\n",
       "gPVn7zlPhF6GeliD0POqJvM9PeyxFCsitmufp6Wc4+wRA9ps/pTnVlWdVVCveGucQGuOYi6NVK7m\n",
       "6i469IhpVEkeMRDWNLN1nhqTe6rRw4hdj73FTjyk4k8YM+MDoF7xdBwfIX8LkOkt+QDzBSSPCEhO\n",
       "Yj3Yb2/OY0ySSuDEQb2P9b7JPftliDGjB0At8baIwUkzpGX8VDfptJH9hb2EXnMT02Z92oDzmnB/\n",
       "oeCSEo37CHb8lf1FfUqPggrjsQjAWJsixMnUbgmO3EHcPttL9umpTYUCW3HeJKnB1J/avM6rF/bb\n",
       "G0ax9fUoqJWvnFbo+KI6cilifqn2gNSCEBKPYCQ19zyGxe08FwFtxTkFZyxrQiAS2uL5itjPn18w\n",
       "DGDr6gFQYTzaWbd+/ogJO4Udeq3tCOyGTHfENlnts+Nj7GuYj7W+PJ26+biOOh0Qh8VYXq32sh5u\n",
       "VF+zCV+WDU7D7YJ+zMh78qgQ6RHbZLUq9xxcB/E5XzPljIc1e0GSD5CWYMkjxiGnTKhtUZxNXPNN\n",
       "YcxdPJ7xTO/GEL2f8ud1miXb8nXFuzn378Io8WSS4x9UIDthCWJd5gAAAABJRU5ErkJggg==\n",
       "\" style=\"display:inline;vertical-align:middle;\" /></a>"
      ],
      "text/plain": [
       "3 not-in ({1, 2, 3, 4, 5} - {1, 1 + 2})"
      ]
     },
     "execution_count": 86,
     "metadata": {},
     "output_type": "execute_result"
    }
   ],
   "source": [
    "# Consider an interesting example involving literals and an addition element\n",
    "Difference(set_12345, Set(one, Add(one, two))).nonmembership_object(three).expr"
   ]
  },
  {
   "cell_type": "code",
   "execution_count": 87,
   "metadata": {},
   "outputs": [
    {
     "data": {
      "text/html": [
       "<span style=\"font-size:20px;\"> <a class=\"ProveItLink\" href=\"../__pv_it/demonstrations/e366d47781bd707d62a55ec9200fb099232c8f340/proof.ipynb\" style=\"text-decoration: none\">&nbsp;&#x22A2;&nbsp;&nbsp;</a><a class=\"ProveItLink\" href=\"../__pv_it/demonstrations/dd02cbda07ffa6e87d95f3e280375f0e022598cb0/expr.ipynb\"><img src=\"data:image/png;base64,iVBORw0KGgoAAAANSUhEUgAAAT8AAAAVCAMAAAAHOBl9AAAARVBMVEX///8/Pz9vb28YGBgJCQkd\n",
       "HR0NDQ0WFhbMzMxUVFRERES6uroiIiIQEBCYmJhmZmYyMjLu7u52dnaqqqqIiIjc3NwAAACb3p1w\n",
       "AAAAAXRSTlMAQObYZgAAAAlwSFlzAAAOxAAADsQBlSsOGwAAA75JREFUWMO1mem6nCAMhunOKovg\n",
       "/V9qFR1NAkamZ8qPPjUj4c0HhOARYm1FMI38GI0R/6+VudyMO8LGts+A9wDzzPUIET7lYOLnZZM1\n",
       "wA1IKn34N/mxGw9O3v0QeAs4p6pmSl6b3vvwaV5eENJSnOJ90JLY+l6lx89uCcEeDvVrwDw9hMKD\n",
       "k3cZ8L7tNjYCGEP919dB2gn1CC3ZfS8oHxYyZNHb7wt6/c6rVeTZLTZFNARa+er8n7xW5QM4bgx4\n",
       "zyaY2AigryrmjSAuoelqexi1AxlS1XzgHNo0fa+Z6qe6Q0znKp1O1cACfwAXo+Bdm5luYyOAu9G4\n",
       "TVyMkbW1f36HQQxXDWqBOb3ndV1DUxjST7hIZ7EAVzy4teEr+s35NjYMOAeYJIDqJuS1k5LD66/+\n",
       "pBbZph6SyJIY1C+cHdOxP/21Tx/Av7j+sH4oNgzo0zWwBRSlbu4Y3sHYFspCLchr7Vla/aacXjMF\n",
       "8JISZN2BbMKDf1Y/FBsGPOdYZgUXWyg48RzQgddPLqQD8brFtw5I9dtKgnKk53xl0Omavd1JBt55\n",
       "8OYYDF/W7xUbBrQz3AbXQ+gUf6K4idePHgyiPRy3ZRM6rwm9z2u5Xp8dKaNgmcGD0wOUBx/S7xUb\n",
       "BnSmyZOV120p+NdPa/UFoYIRrH5e9+AdfHUqd/r54+iJKsyvGcfLaoZlIwu+tTfAoc3Xzm53o3qx\n",
       "IcADQ9YdoE9po4Zp+yx7deQwJioL9bqGUueV6KfDrt++C9MZrHG4WEZbkwVv6nUefGD9gdgQ4LEN\n",
       "luoBRGrb4g/W3j2Meh8oMMbGqzBqa4tTCUpxHG/kpiBmiwpRiaRhwcVb4AP6gdgwoN5fdIrstC1V\n",
       "G/98jF0DyyrJVjucNuAVAe72CFPiatzlSSA9Q8HypNDdhgMfOX/jO/pdsVHAo0aYJlpGrXtcyXuM\n",
       "tGerq/Iv1m/NQtvlFd8QFo27+nqsRVoeeLhIIy6IWXBOvwb8st3qd8XWAMrjyay/o2t4VPpHvMNQ\n",
       "ar3yqw36de1fq6PaArQBr5dtzcTLojI0rddz5Zv7r7BowXmSjBlw8w44sN3pB2JrAK28uzN+/6bv\n",
       "r0HXSJ1zeNA285VuseyV9h7cpH8FZ+vnPuDkx7783WGk3hBjtsTjef4D1j0465Ufvf/9gAXUhflo\n",
       "Qw8q13zW7UzUoC1m9qZQ9IMm+o3Pz2PgQ40CxhvO1MnDpfnQ1qMYtHUDiOdN4VGeqMeDHgMf+jtA\n",
       "A1j6rlT/Q6yaxf9rJZ3u8/PqKm9o8CFwCvgXqR9K/54v1w8AAAAASUVORK5CYII=\n",
       "\" style=\"display:inline;vertical-align:middle;\" /></a></span>"
      ],
      "text/plain": [
       "|- (3 not-in {1, 2, 3, 4, 5}) or (3 in {1, 1 + 2})"
      ]
     },
     "execution_count": 87,
     "metadata": {},
     "output_type": "execute_result"
    }
   ],
   "source": [
    "# We can unfold that with no extra assumptions (clearly the 2nd disjunct is True):\n",
    "Difference(set_12345, Set(one, Add(one, two))).nonmembership_object(three).unfold()"
   ]
  },
  {
   "cell_type": "code",
   "execution_count": 88,
   "metadata": {},
   "outputs": [],
   "source": [
    "%end demonstrations"
   ]
  },
  {
   "cell_type": "code",
   "execution_count": null,
   "metadata": {},
   "outputs": [],
   "source": []
  }
 ],
 "metadata": {
  "kernelspec": {
   "display_name": "Python 3",
   "language": "python",
   "name": "python3"
  },
  "language_info": {
   "codemirror_mode": {
    "name": "ipython",
    "version": 3
   },
   "file_extension": ".py",
   "mimetype": "text/x-python",
   "name": "python",
   "nbconvert_exporter": "python",
   "pygments_lexer": "ipython3",
   "version": "3.7.3"
  }
 },
 "nbformat": 4,
 "nbformat_minor": 1
}
