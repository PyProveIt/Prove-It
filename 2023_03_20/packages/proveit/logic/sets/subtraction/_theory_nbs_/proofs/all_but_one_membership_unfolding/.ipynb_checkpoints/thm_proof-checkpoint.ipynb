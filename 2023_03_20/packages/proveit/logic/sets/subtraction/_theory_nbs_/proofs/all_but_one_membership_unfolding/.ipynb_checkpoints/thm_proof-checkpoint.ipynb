{
 "cells": [
  {
   "cell_type": "markdown",
   "metadata": {},
   "source": [
    "Proof of <a class=\"ProveItLink\" href=\"../../../../../../_theory_nbs_/theory.ipynb\">proveit</a>.<a class=\"ProveItLink\" href=\"../../../../../_theory_nbs_/theory.ipynb\">logic</a>.<a class=\"ProveItLink\" href=\"../../../../_theory_nbs_/theory.ipynb\">sets</a>.<a class=\"ProveItLink\" href=\"../../theory.ipynb\">subtraction</a>.<a class=\"ProveItLink\" href=\"../../theorems.ipynb#all_but_one_membership_unfolding\">all_but_one_membership_unfolding</a> theorem\n",
    "========"
   ]
  },
  {
   "cell_type": "code",
   "execution_count": 1,
   "metadata": {},
   "outputs": [],
   "source": [
    "import proveit\n",
    "theory = proveit.Theory() # the theorem's theory"
   ]
  },
  {
   "cell_type": "code",
   "execution_count": null,
   "metadata": {},
   "outputs": [
    {
     "data": {
      "text/html": [
       "Under these <a href=\"presumptions.txt\">presumptions</a>, we begin our proof of<br><strong id=\"all_but_one_membership_unfolding\">all_but_one_membership_unfolding:</strong> <a class=\"ProveItLink\" href=\"../../../__pv_it/theorems/017d7f3d637c63a7099a1c0bbabb009b4395d3ef0/expr.ipynb\"><img src=\"data:image/png;base64,iVBORw0KGgoAAAANSUhEUgAAAUcAAAAZCAMAAACVZBxqAAAAPFBMVEX///8NDQ0WFhYLCwsYGBiI\n",
       "iIgiIiIQEBB2dnbu7u5ERETMzMzc3NwyMjK6urpmZmaYmJiqqqpUVFQAAACZSrTsAAAAAXRSTlMA\n",
       "QObYZgAAAAlwSFlzAAAOxAAADsQBlSsOGwAABGVJREFUaN7tWYmO5CgMzcwuhPv8/38dIBAwRypJ\n",
       "b49mpbFa5ZYqfg4PYxvXtj0XhzEW21/JggId9o2h/MtdJ8b8yTyKTr80/+ozN97rj+YRWaifikK3\n",
       "XaxE0yvg6iDw6M6vrXnC4wu7Z2IJ1LfttCZkMyqwZG66WAlnC/oN1JFHrU56xBMeX9g9Eiqhviss\n",
       "BgllPr0ZDCdi5y7WWHzFAIU68MhLYAn26Fy/sHsk2kB910wfC0vvaDSgDcu5i2U4umVd0Z02lVNi\n",
       "H/H4wu6R7J2eni8WWg7Ijudt6topOI1OTV0sw3F90Apw1pHHUmvunx8JatT3VB0roZ6le4mGMqD8\n",
       "8Vb8oFO2EYe7fGc/vLlyFxQYoBMXe9xUvJOHPD63e3Q+CdQUIUc5aYJfyEkxpd6TJqkRB4sKSOVr\n",
       "6FnepyilAeoAcNaJR50cM/qUx8d2Nb2QNk44mbQX3YZvIREhhzaNt+vyZnwQV74yEtJi9cRFD61T\n",
       "fOB//4mf50aQze4JHwCb5mwKVz5SNBOEDOI3eIR205Mxx+J9YiIjSLlpZW1EXALdnPnUxVLEvC8O\n",
       "7N4VDUwHFxPoyT5xexDtGADO+shxMaRITsE2Jmjub/XhrV3jETnG1BXWkJgmmWpXQMe90BJuBs4y\n",
       "9gvaZ+vGuUvbidDgYoQ+YkDD7QnPR9sdAeCsDx7jeiWoYe4Wj61d03jw7QPWCx63uoSysFm7ZUqW\n",
       "zNGs9q5XpHh0MUDP04YKMRt44wBYtfEYyDAF6Kh3olx83IwIWf8pdghpEf7gHQJgDbQ14BMeu3Od\n",
       "1hGQKG3K73im86sKnx+zuO/BtR1c9NApP/78cQR7XXyKWbRD4Kwzj8SetQ95z8yZarbwQkM2qzye\n",
       "dkjExCEtjJIWC0SN7MAVnl9LTk1DonB7yvYVfYyhsrpSiTfDetaF7FzMoMerUHzclY8GOOvMo9gr\n",
       "7dRqX7aVxhdDbMnjaWfSW4WQV4C3BqvNbJL34GMnCBsL6znVYbGq7U3kcAHQmMCyVQlF413vAhoW\n",
       "9ozlanvat2Wll3a8ptP49Jmcw2MOrec9rtZiL45QY0kswOKsiIiF09Ee3MreCcetpjpEn9XGwlPM\n",
       "FKRfh95ZO9cc3ZICHa1lELqYQk/CMbgjSHsBgbPu52bHptQbc3xs53fmZvGARpLIEqs5ka4DF5Mb\n",
       "GuZQz/sq1t8L4aAQX9bLNfRqEEQkBC6651GnFcY2lpLsSfnP88fAQ/SgQVtesRb1uoLPbmj9KOAr\n",
       "s44P04b1PKejkO52PkQZeORxeCdSfNmUJgyTN+a4GsWWm6b44wPWgscKPr3plikBez2W+ziJWkGb\n",
       "SThidGSiFvh0cDUPDzzS4GdScS/v95TEPKg+zyAa8CmPpfTT13O5jzuwgsaTu6416By5Dlt8wWNM\n",
       "4aEKKLk94/GGHG1OAz6fvAgE9VNBnwN5Ac3vAVcHFzzGb5RBZPvvedxSda7gXH7PCPP3ycvfub78\n",
       "+zVviRP8/00iwng3vwA5hzat22d2jQAAAABJRU5ErkJggg==\n",
       "\" style=\"display:inline;vertical-align:middle;\" /></a><br>(see <a class=\"ProveItLink\" href=\"../../../__pv_it/theorems/245de79383f49ac2fbf6937c930276b932ff5d880/dependencies.ipynb\">dependencies</a>)<br>"
      ],
      "text/plain": [
       "<IPython.core.display.HTML object>"
      ]
     },
     "metadata": {},
     "output_type": "display_data"
    }
   ],
   "source": [
    "%proving all_but_one_membership_unfolding"
   ]
  },
  {
   "cell_type": "code",
   "execution_count": null,
   "metadata": {},
   "outputs": [],
   "source": []
  }
 ],
 "metadata": {
  "kernelspec": {
   "display_name": "Python 3",
   "language": "python",
   "name": "python3"
  },
  "language_info": {
   "codemirror_mode": {
    "name": "ipython",
    "version": 3
   },
   "file_extension": ".py",
   "mimetype": "text/x-python",
   "name": "python",
   "nbconvert_exporter": "python",
   "pygments_lexer": "ipython3",
   "version": "3.7.3"
  }
 },
 "nbformat": 4,
 "nbformat_minor": 1
}
