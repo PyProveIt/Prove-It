{
 "cells": [
  {
   "cell_type": "markdown",
   "metadata": {},
   "source": [
    "Demonstrations for the theory of <a class=\"ProveItLink\" href=\"theory.ipynb\">proveit.logic.sets.cartesian_products</a>\n",
    "========"
   ]
  },
  {
   "cell_type": "code",
   "execution_count": 1,
   "metadata": {},
   "outputs": [],
   "source": [
    "import proveit\n",
    "from proveit import ExprTuple\n",
    "from proveit import a, b, c, x\n",
    "from proveit.logic import in_bool, InSet, CartExp\n",
    "from proveit.numbers import Real, three\n",
    "%begin demonstrations"
   ]
  },
  {
   "cell_type": "markdown",
   "metadata": {},
   "source": [
    "### CartExp membership proofs with an 'abstract' element"
   ]
  },
  {
   "cell_type": "code",
   "execution_count": 2,
   "metadata": {},
   "outputs": [
    {
     "data": {
      "text/html": [
       "<strong id=\"x_in_R3_def\">x_in_R3_def:</strong> <span style=\"font-size:20px;\"> <a class=\"ProveItLink\" href=\"../__pv_it/demonstrations/6bc23677352ae90633e953edec7a7523d10a08730/proof.ipynb\" style=\"text-decoration: none\">&nbsp;&#x22A2;&nbsp;&nbsp;</a><a class=\"ProveItLink\" href=\"../__pv_it/demonstrations/3269aacd4f810f4f6ca0566a4c5236150df554f50/expr.ipynb\"><img src=\"data:image/png;base64,iVBORw0KGgoAAAANSUhEUgAAAWAAAAAaBAMAAAB7gZtsAAAAMFBMVEX///9UVFQiIiKIiIjMzMx2\n",
       "dnYQEBDc3NxEREQyMjLu7u5mZmaqqqq6urqYmJgAAAB66f/FAAAAAXRSTlMAQObYZgAAAAlwSFlz\n",
       "AAAOxAAADsQBlSsOGwAABApJREFUWMPNWFtIFFEY/veiM866JnQzCbFNul/GhOiGbJEZ9eAaBD1E\n",
       "SPVQQbAZhRHkVg+apK0GCRE2Ug9eIDfLLi+yFAXRg/ZQUAQuBaVdDKIorYfOZS7nzBx3JVjYn/kX\n",
       "z3/ON/835/z/P/8IkFTOPJ4FGSdfk8zNhrXgyzC+ubEkk1thF0iRzCLcnXx6FcB7gVkSrw6nj6dk\n",
       "eG0RzY4dutR2KIH+WK8CuDXngk3Cm3riJpCRvCuNE4ta/peogfarVKUa4bLIMXgxiogq5xGNfGcc\n",
       "hYSoJxaQFVnK9xc1CRG7N6Y8FANdDkR9YteREyB7MdGqICiT04wjJcoAOZchiGwWIXLiyuLUhCk6\n",
       "RyM6Y3gqwr5wVDkI9eh8OxzTg0KQL2EAnS7v54gQ7wD2TIcwRufFiFZxx+c5F1hqEY7AMviA5h84\n",
       "bsLH0bpAgFDMtoBOl7KIzFmAIW06hDH6CNE17Jz/smbtsKsnHyrK5qLBWkcIc1v4eoP+xzMLiMSF\n",
       "opOWROyysJO3UfmDYi4usCPBjus4dAfReej3RunN3RgGpzQmJLY/M/JhxL4JOPCVssKKvaTeXDXM\n",
       "AxxQKgGoDeouvRfbeRsNekw44bRjQUNsZdDVRBvRb8wz01eM59qtGD7Z9t3YOJx4SPoDWBaQXEFO\n",
       "fFCq9pOBmecdPLA2SD0il4dXL9R4G62tP9HNVaddfzbjcXX0GNFWFMnhvEkXqZ1RJunGrUpQb09M\n",
       "NzqPj/BNKyKETfMKHiiV6JsmS/s+RW02i3DIaafPVlnCo58SXQ7gBR+9nXc/2sIlOmH5lln/++yE\n",
       "s5EhCA/pYBveeBJ/R23A2hIzbZrGbTYaEojwiOq006cJBHl0FdFWQoCClAizw96YWerrgwLCAAfo\n",
       "oMs0H7UBGcI7ZU1AGCfdUDw1YYp+RZQQHgkr5H7FbB2+W2fGcNgWwzgkwP8LesjAFhImkAmJkK8y\n",
       "IggJnEHftJQhoaMfES1AWzQ8B7LIXBlLuMuTmKpKyCooza4aIOHnUQ3zeR7IJF1IiZQLkg4+gB5Y\n",
       "SZNOR48SRTV2aMc9eKu/KU3CpyEv0WzdlpesfMj90Vvjp8uvGeZqDsiWtRiMy8OcrS+KL3ccvUxZ\n",
       "uzKBL1tZ09EDpHKi3estyx2krpWCN2a31gCN13X+t+2EvcWg3FGff6Gjzmb9BLZwQBciIEVpv/U7\n",
       "LF/4y9rAHcOXMlBK6Fv25eRCgj91TnHolYA1m6sA/j36q5kTZy/BH9/Lc/TV7A6ms3GXiolO0a1x\n",
       "TZizW/ssbl1j6SSMWyuk3prULbSzH5bFXWxDOgnX6To/5Uq3k50i/s7rSifhBl27U64UfdMdF4eZ\n",
       "mj6+njDVqb52GBYZ9tWc9P8SJNi1TGL7D+kWQKpH4oVPAAAAAElFTkSuQmCC\n",
       "\" style=\"display:inline;vertical-align:middle;\" /></a></span><br>"
      ],
      "text/plain": [
       "<IPython.core.display.HTML object>"
      ]
     },
     "metadata": {},
     "output_type": "display_data"
    }
   ],
   "source": [
    "x_in_R3_def = InSet(x, CartExp(Real, three)).definition()"
   ]
  },
  {
   "cell_type": "code",
   "execution_count": 3,
   "metadata": {},
   "outputs": [
    {
     "data": {
      "text/html": [
       "<span style=\"font-size:20px;\"><a class=\"ProveItLink\" href=\"../__pv_it/demonstrations/1605063139446a907eb97d932cfddad1bc7aeb930/expr.ipynb\"><img src=\"data:image/png;base64,iVBORw0KGgoAAAANSUhEUgAAADwAAAAUBAMAAAAjLUMaAAAAMFBMVEX///9ERES6uroQEBAyMjLc\n",
       "3NyYmJgiIiJmZmaqqqp2dnbMzMxUVFSIiIju7u4AAAAd7oVFAAAAAXRSTlMAQObYZgAAAAlwSFlz\n",
       "AAAOxAAADsQBlSsOGwAAAP5JREFUKM9jYMAJWDPvbMAty8CzgNcAjzT3Bq4CBnyAPQGLIJuz4Jdi\n",
       "MSCD1xerJkbWA0zH5ICMhxewSy9gENgDsv03LulWFobHG1i/IQvzipeXwKUZGdgfsNkhyTL5PkDo\n",
       "PveGgXvtnQAGhrd3Xq+aABINeYAwnFvSFcpp4D3LAfa+K8Juk/paqFq2ALZ/PGDvOyCkl+XBONwM\n",
       "HBAmt3l5eXkh1HC5NLiTmCGe5xNA8tgORphDGPQD+MDsAiRpjq1QxQ8VDjNwgVl3kaT5BK5B2PP3\n",
       "NTNoglksE+DSDQxpjApg9ou7nG0Qcb6DerAY+xjAKPITPayZFkICFQkAAGR0QPZ5xUidAAAAAElF\n",
       "TkSuQmCC\n",
       "\" style=\"display:inline;vertical-align:middle;\" /></a> <a class=\"ProveItLink\" href=\"../__pv_it/demonstrations/c065fc9ccf1f429ee11debd1137076f625b0aa8f0/proof.ipynb\" style=\"text-decoration: none\">&nbsp;&#x22A2;&nbsp;&nbsp;</a><a class=\"ProveItLink\" href=\"../__pv_it/demonstrations/15cb34589dcbf2b759b5b3811cc5ff8a61f6f8d50/expr.ipynb\"><img src=\"data:image/png;base64,iVBORw0KGgoAAAANSUhEUgAAAOcAAAAVBAMAAABPgOQBAAAAMFBMVEX///9ERES6uroQEBAyMjLc\n",
       "3NyYmJgiIiJmZmaqqqp2dnbMzMxUVFSIiIju7u4AAAAd7oVFAAAAAXRSTlMAQObYZgAAAAlwSFlz\n",
       "AAAOxAAADsQBlSsOGwAAAoFJREFUSMe1lU9o01Acx38vW9KkaWMm/sFL7VXwTweC14CM4UHNUKgM\n",
       "xQpSdpKIgypBDMh68dKDd+PFgzCoh4EHkYjoZSi7KAhOOhw68M8UhjJhxfe3JOmrHUJ+vELyTb7v\n",
       "8+vv/d4LgCxUyC7cQQ/eacfHNq7tSamXx/dPjtf+FybchwY8N0JAaqS8LKV0+zwcvNSROfLzc0Op\n",
       "3F0ckPYqYGgI9pO0bRqQGckcJ+CzOxTK3afkj5sMOjfab9NdR2LQPMjb24BS90xCLe5tzNKLCoci\n",
       "mU02OYrA6G4Lit0j8QVSTvI7w2HQ11/p7Qv8mxK2wvcoqdHYEYC5KdFxFHDZVTvuHsWL+u39l4ct\n",
       "Ip4VGeghhZr7JuhttQ2qL6CP7rpJjcY6hv6S6GT3+VSNufMYHBRf6R4RJ8R7JBWkHr11syNszAX2\n",
       "mcnfH1IajYshmFsSneUhUuZuzQHN1boF2sW9Dsm1CPTBFSFUF3yxKvXVtNaD/pHoLA+RMncbFTBB\n",
       "Z5ObxxqNxlVyNVKm5S3Vha3RFlD0qZbSWHlDULYkOsvDT7rNH4SxRDWr15Yc+hh1+qBmUJJBcSMZ\n",
       "m8OhzK3gzQFHXIvO7iXLG+oLdl954c6UrLzIBq07vLzMbXiwUn4OeSou96ZYolDLfptupGlYYadY\n",
       "qmG0Cl+kfzYSd2s23Ht6Gw6wpm2JgzQi0ADqqJzaMudAq+1MaNYGGXADPrYT+rpDRnLLcDfekWvL\n",
       "RpPRrGeHGdT0AH9lfrpoF12nRbKH+XdiN4ydbsU1uE7H2vwiJN7NBWSQwwEDVSfuzpXjhVDu82PQ\n",
       "hyyjKpdnMoU25TJyM2SqAz5Hlp0hdOA/upAh9A3AX1xmx5BX1fYGAAAAAElFTkSuQmCC\n",
       "\" style=\"display:inline;vertical-align:middle;\" /></a></span>"
      ],
      "text/plain": [
       "{x in Real^{3}} |- x in (Real X  Real X  ..0 ×.. X  Real)"
      ]
     },
     "metadata": {},
     "output_type": "display_data"
    }
   ],
   "source": [
    "x_in_R3_def.lhs.unfold(assumptions=[x_in_R3_def.lhs])"
   ]
  },
  {
   "cell_type": "code",
   "execution_count": 4,
   "metadata": {},
   "outputs": [
    {
     "data": {
      "text/html": [
       "<span style=\"font-size:20px;\"><a class=\"ProveItLink\" href=\"../__pv_it/demonstrations/15cb34589dcbf2b759b5b3811cc5ff8a61f6f8d50/expr.ipynb\"><img src=\"data:image/png;base64,iVBORw0KGgoAAAANSUhEUgAAAOcAAAAVBAMAAABPgOQBAAAAMFBMVEX///9ERES6uroQEBAyMjLc\n",
       "3NyYmJgiIiJmZmaqqqp2dnbMzMxUVFSIiIju7u4AAAAd7oVFAAAAAXRSTlMAQObYZgAAAAlwSFlz\n",
       "AAAOxAAADsQBlSsOGwAAAoFJREFUSMe1lU9o01Acx38vW9KkaWMm/sFL7VXwTweC14CM4UHNUKgM\n",
       "xQpSdpKIgypBDMh68dKDd+PFgzCoh4EHkYjoZSi7KAhOOhw68M8UhjJhxfe3JOmrHUJ+vELyTb7v\n",
       "8+vv/d4LgCxUyC7cQQ/eacfHNq7tSamXx/dPjtf+FybchwY8N0JAaqS8LKV0+zwcvNSROfLzc0Op\n",
       "3F0ckPYqYGgI9pO0bRqQGckcJ+CzOxTK3afkj5sMOjfab9NdR2LQPMjb24BS90xCLe5tzNKLCoci\n",
       "mU02OYrA6G4Lit0j8QVSTvI7w2HQ11/p7Qv8mxK2wvcoqdHYEYC5KdFxFHDZVTvuHsWL+u39l4ct\n",
       "Ip4VGeghhZr7JuhttQ2qL6CP7rpJjcY6hv6S6GT3+VSNufMYHBRf6R4RJ8R7JBWkHr11syNszAX2\n",
       "mcnfH1IajYshmFsSneUhUuZuzQHN1boF2sW9Dsm1CPTBFSFUF3yxKvXVtNaD/pHoLA+RMncbFTBB\n",
       "Z5ObxxqNxlVyNVKm5S3Vha3RFlD0qZbSWHlDULYkOsvDT7rNH4SxRDWr15Yc+hh1+qBmUJJBcSMZ\n",
       "m8OhzK3gzQFHXIvO7iXLG+oLdl954c6UrLzIBq07vLzMbXiwUn4OeSou96ZYolDLfptupGlYYadY\n",
       "qmG0Cl+kfzYSd2s23Ht6Gw6wpm2JgzQi0ADqqJzaMudAq+1MaNYGGXADPrYT+rpDRnLLcDfekWvL\n",
       "RpPRrGeHGdT0AH9lfrpoF12nRbKH+XdiN4ydbsU1uE7H2vwiJN7NBWSQwwEDVSfuzpXjhVDu82PQ\n",
       "hyyjKpdnMoU25TJyM2SqAz5Hlp0hdOA/upAh9A3AX1xmx5BX1fYGAAAAAElFTkSuQmCC\n",
       "\" style=\"display:inline;vertical-align:middle;\" /></a> <a class=\"ProveItLink\" href=\"../__pv_it/demonstrations/6fac4e33f89cff3ebcfcbe967ec00662f233eee50/proof.ipynb\" style=\"text-decoration: none\">&nbsp;&#x22A2;&nbsp;&nbsp;</a><a class=\"ProveItLink\" href=\"../__pv_it/demonstrations/1605063139446a907eb97d932cfddad1bc7aeb930/expr.ipynb\"><img src=\"data:image/png;base64,iVBORw0KGgoAAAANSUhEUgAAADwAAAAUBAMAAAAjLUMaAAAAMFBMVEX///9ERES6uroQEBAyMjLc\n",
       "3NyYmJgiIiJmZmaqqqp2dnbMzMxUVFSIiIju7u4AAAAd7oVFAAAAAXRSTlMAQObYZgAAAAlwSFlz\n",
       "AAAOxAAADsQBlSsOGwAAAP5JREFUKM9jYMAJWDPvbMAty8CzgNcAjzT3Bq4CBnyAPQGLIJuz4Jdi\n",
       "MSCD1xerJkbWA0zH5ICMhxewSy9gENgDsv03LulWFobHG1i/IQvzipeXwKUZGdgfsNkhyTL5PkDo\n",
       "PveGgXvtnQAGhrd3Xq+aABINeYAwnFvSFcpp4D3LAfa+K8Juk/paqFq2ALZ/PGDvOyCkl+XBONwM\n",
       "HBAmt3l5eXkh1HC5NLiTmCGe5xNA8tgORphDGPQD+MDsAiRpjq1QxQ8VDjNwgVl3kaT5BK5B2PP3\n",
       "NTNoglksE+DSDQxpjApg9ou7nG0Qcb6DerAY+xjAKPITPayZFkICFQkAAGR0QPZ5xUidAAAAAElF\n",
       "TkSuQmCC\n",
       "\" style=\"display:inline;vertical-align:middle;\" /></a></span>"
      ],
      "text/plain": [
       "{x in (Real X  Real X  ..0 ×.. X  Real)} |- x in Real^{3}"
      ]
     },
     "metadata": {},
     "output_type": "display_data"
    }
   ],
   "source": [
    "x_in_R3_def.lhs.fold(assumptions=[x_in_R3_def.rhs])"
   ]
  },
  {
   "cell_type": "code",
   "execution_count": 5,
   "metadata": {},
   "outputs": [
    {
     "data": {
      "text/html": [
       "<span style=\"font-size:20px;\"><a class=\"ProveItLink\" href=\"../__pv_it/demonstrations/15cb34589dcbf2b759b5b3811cc5ff8a61f6f8d50/expr.ipynb\"><img src=\"data:image/png;base64,iVBORw0KGgoAAAANSUhEUgAAAOcAAAAVBAMAAABPgOQBAAAAMFBMVEX///9ERES6uroQEBAyMjLc\n",
       "3NyYmJgiIiJmZmaqqqp2dnbMzMxUVFSIiIju7u4AAAAd7oVFAAAAAXRSTlMAQObYZgAAAAlwSFlz\n",
       "AAAOxAAADsQBlSsOGwAAAoFJREFUSMe1lU9o01Acx38vW9KkaWMm/sFL7VXwTweC14CM4UHNUKgM\n",
       "xQpSdpKIgypBDMh68dKDd+PFgzCoh4EHkYjoZSi7KAhOOhw68M8UhjJhxfe3JOmrHUJ+vELyTb7v\n",
       "8+vv/d4LgCxUyC7cQQ/eacfHNq7tSamXx/dPjtf+FybchwY8N0JAaqS8LKV0+zwcvNSROfLzc0Op\n",
       "3F0ckPYqYGgI9pO0bRqQGckcJ+CzOxTK3afkj5sMOjfab9NdR2LQPMjb24BS90xCLe5tzNKLCoci\n",
       "mU02OYrA6G4Lit0j8QVSTvI7w2HQ11/p7Qv8mxK2wvcoqdHYEYC5KdFxFHDZVTvuHsWL+u39l4ct\n",
       "Ip4VGeghhZr7JuhttQ2qL6CP7rpJjcY6hv6S6GT3+VSNufMYHBRf6R4RJ8R7JBWkHr11syNszAX2\n",
       "mcnfH1IajYshmFsSneUhUuZuzQHN1boF2sW9Dsm1CPTBFSFUF3yxKvXVtNaD/pHoLA+RMncbFTBB\n",
       "Z5ObxxqNxlVyNVKm5S3Vha3RFlD0qZbSWHlDULYkOsvDT7rNH4SxRDWr15Yc+hh1+qBmUJJBcSMZ\n",
       "m8OhzK3gzQFHXIvO7iXLG+oLdl954c6UrLzIBq07vLzMbXiwUn4OeSou96ZYolDLfptupGlYYadY\n",
       "qmG0Cl+kfzYSd2s23Ht6Gw6wpm2JgzQi0ADqqJzaMudAq+1MaNYGGXADPrYT+rpDRnLLcDfekWvL\n",
       "RpPRrGeHGdT0AH9lfrpoF12nRbKH+XdiN4ydbsU1uE7H2vwiJN7NBWSQwwEDVSfuzpXjhVDu82PQ\n",
       "hyyjKpdnMoU25TJyM2SqAz5Hlp0hdOA/upAh9A3AX1xmx5BX1fYGAAAAAElFTkSuQmCC\n",
       "\" style=\"display:inline;vertical-align:middle;\" /></a> <a class=\"ProveItLink\" href=\"../__pv_it/demonstrations/6fac4e33f89cff3ebcfcbe967ec00662f233eee50/proof.ipynb\" style=\"text-decoration: none\">&nbsp;&#x22A2;&nbsp;&nbsp;</a><a class=\"ProveItLink\" href=\"../__pv_it/demonstrations/1605063139446a907eb97d932cfddad1bc7aeb930/expr.ipynb\"><img src=\"data:image/png;base64,iVBORw0KGgoAAAANSUhEUgAAADwAAAAUBAMAAAAjLUMaAAAAMFBMVEX///9ERES6uroQEBAyMjLc\n",
       "3NyYmJgiIiJmZmaqqqp2dnbMzMxUVFSIiIju7u4AAAAd7oVFAAAAAXRSTlMAQObYZgAAAAlwSFlz\n",
       "AAAOxAAADsQBlSsOGwAAAP5JREFUKM9jYMAJWDPvbMAty8CzgNcAjzT3Bq4CBnyAPQGLIJuz4Jdi\n",
       "MSCD1xerJkbWA0zH5ICMhxewSy9gENgDsv03LulWFobHG1i/IQvzipeXwKUZGdgfsNkhyTL5PkDo\n",
       "PveGgXvtnQAGhrd3Xq+aABINeYAwnFvSFcpp4D3LAfa+K8Juk/paqFq2ALZ/PGDvOyCkl+XBONwM\n",
       "HBAmt3l5eXkh1HC5NLiTmCGe5xNA8tgORphDGPQD+MDsAiRpjq1QxQ8VDjNwgVl3kaT5BK5B2PP3\n",
       "NTNoglksE+DSDQxpjApg9ou7nG0Qcb6DerAY+xjAKPITPayZFkICFQkAAGR0QPZ5xUidAAAAAElF\n",
       "TkSuQmCC\n",
       "\" style=\"display:inline;vertical-align:middle;\" /></a></span>"
      ],
      "text/plain": [
       "{x in (Real X  Real X  ..0 ×.. X  Real)} |- x in Real^{3}"
      ]
     },
     "metadata": {},
     "output_type": "display_data"
    }
   ],
   "source": [
    "x_in_R3_def.lhs.prove(assumptions=[x_in_R3_def.rhs])"
   ]
  },
  {
   "cell_type": "code",
   "execution_count": 6,
   "metadata": {},
   "outputs": [
    {
     "data": {
      "text/html": [
       "<span style=\"font-size:20px;\"> <a class=\"ProveItLink\" href=\"../__pv_it/demonstrations/5978c3703ec36cf29f0d13cc01a5d6fb70e64d040/proof.ipynb\" style=\"text-decoration: none\">&nbsp;&#x22A2;&nbsp;&nbsp;</a><a class=\"ProveItLink\" href=\"../__pv_it/demonstrations/d8a22d8e646deaf42bcd7734e5c58e6cad600f030/expr.ipynb\"><img src=\"data:image/png;base64,iVBORw0KGgoAAAANSUhEUgAAAHQAAAAaBAMAAACUSmU+AAAAMFBMVEX///9UVFQiIiKIiIjMzMx2\n",
       "dnYQEBDc3NxEREQyMjLu7u5mZmaqqqq6urqYmJgAAAB66f/FAAAAAXRSTlMAQObYZgAAAAlwSFlz\n",
       "AAAOxAAADsQBlSsOGwAAAhFJREFUOMtjYMAL6g6L4JN+i0dOlMGMgRunLM8GPFpdGIIY2Btwya7E\n",
       "72Q9BobHuOT6sAm+zOiflPEAyLA0YGBgWoAqyazW+TNJloGBPQGrgQ2FDBdfALVwNQOVCqBJcvAa\n",
       "VC68wMAdgF1rKQMHC0iLvwMD1y8MrQ9YCxoY+C/g0spdMIErhaEe6Ox5mFr5Dggw+KN4hLlJSROh\n",
       "tYFBi+EZUH4HVNZCSWkCXOsEBiNknbyTFyBsZVwlwOBqLA7kmEHEblohbGWsC2CQBDIXGy4JPQAS\n",
       "q1yA5GCPkwVQzn2wMPsshIOtjEQZGDqAzA3MwtwKILHpCL+WTfoEswQUVEDAWYDQqpmvvYBhIgMD\n",
       "XwHfL0ZQJDJMQAqmd4i0Ug8OSk7kYGJ+O4tBm4GBhYEbooclSUlJSQOqlWPdA5jS9WCtbkBJpQao\n",
       "VoaGqyBbGRjYDMBKuBqQbGXZ0AW3FezgFci2MjRwQLTeL+ACh4QCcrxuqYD7FexLJlStnAwSQOMu\n",
       "iDGwgsWMkbWuYH6AEsLMBihaD4Pi7LzXNoY7YDHOA3Ct1Qx8D3qhnGcQag5CawCr6QaQiauNefZB\n",
       "9HBJ3ILnnHaGjvlQkzZCqIW9kGhnntYBzjlsKGmYNwKaEFEALA1fbVKagCSMI+cgA4ycAwUsCQS1\n",
       "8gngkJAhqJWpgLyyiQFP2cRDyLO4S0S85TA4IBdgFwcAZCSLdHwlh0EAAAAASUVORK5CYII=\n",
       "\" style=\"display:inline;vertical-align:middle;\" /></a></span>"
      ],
      "text/plain": [
       "|- (x in Real^{3}) in BOOLEAN"
      ]
     },
     "metadata": {},
     "output_type": "display_data"
    }
   ],
   "source": [
    "in_bool(x_in_R3_def.lhs).prove()"
   ]
  },
  {
   "cell_type": "markdown",
   "metadata": {},
   "source": [
    "### CartExp membership proofs with an 'explicit' element"
   ]
  },
  {
   "cell_type": "code",
   "execution_count": 7,
   "metadata": {},
   "outputs": [
    {
     "data": {
      "text/html": [
       "<strong id=\"abc\">abc:</strong> <a class=\"ProveItLink\" href=\"../__pv_it/demonstrations/a916c7f29c3abbaa62f0c6124e20bb5f504c28200/expr.ipynb\"><img src=\"data:image/png;base64,iVBORw0KGgoAAAANSUhEUgAAADsAAAAVBAMAAAAKrYvGAAAAMFBMVEX////MzMxUVFRERES6uroi\n",
       "IiIQEBCYmJhmZmYyMjLu7u52dnaqqqqIiIjc3NwAAACW8nlqAAAAAXRSTlMAQObYZgAAAAlwSFlz\n",
       "AAAOxAAADsQBlSsOGwAAATtJREFUKM91krFLw0AUxj+NSa5tmmZxd5UqZHJTMrlJO4o6dBBcs+lm\n",
       "NwcHg4vgFPAPuCg4iZBVu8RJECxB6N7VTr57MeXSkhuS3/u+y7v33gVAjprFRjutsw/UY6QJzZ2+\n",
       "FrVDUiL9g8ZQj+4BEepCp3LSBWBVjuvFemTFeKvYz5WoEeKaXm53nBXC7ffWv/X66aG1gTvC/dyY\n",
       "FZX/xrIYwyQVPuwIJySeQRQNOTNYRZ5jBc4Ap1T8FGbCoojQYRKcbWWqbMuHDNimXT1ujSRaawOV\n",
       "XGa4nLd9w61JPsLpY5c4xaaTN5XtUR0MNKwAto8nwMicQwFJ010NjSEDld3yIBKsU+Xbjz8fMI+I\n",
       "uldgwMv5F1EA0ytn9L4EE8Ce31GyBJQKe+VdZ4vgqu4eysvHIhhqvm5W9zONgT8EOkndo9kOoQAA\n",
       "AABJRU5ErkJggg==\n",
       "\" style=\"display:inline;vertical-align:middle;\" /></a><br>"
      ],
      "text/plain": [
       "<IPython.core.display.HTML object>"
      ]
     },
     "metadata": {},
     "output_type": "display_data"
    }
   ],
   "source": [
    "abc = ExprTuple(a, b, c)"
   ]
  },
  {
   "cell_type": "code",
   "execution_count": 8,
   "metadata": {},
   "outputs": [
    {
     "data": {
      "text/html": [
       "<strong id=\"abc_in_R3_def\">abc_in_R3_def:</strong> <span style=\"font-size:20px;\"> <a class=\"ProveItLink\" href=\"../__pv_it/demonstrations/c5a3ec036a0011e8f979b3e000305284dd1872250/proof.ipynb\" style=\"text-decoration: none\">&nbsp;&#x22A2;&nbsp;&nbsp;</a><a class=\"ProveItLink\" href=\"../__pv_it/demonstrations/556efbd0553185a76085979218edfc36446ea4350/expr.ipynb\"><img src=\"data:image/png;base64,iVBORw0KGgoAAAANSUhEUgAAAaAAAAAaBAMAAAADPpXNAAAAMFBMVEX///9UVFQiIiKIiIjMzMx2\n",
       "dnYQEBDc3NxEREQyMjLu7u5mZmaqqqq6urqYmJgAAAB66f/FAAAAAXRSTlMAQObYZgAAAAlwSFlz\n",
       "AAAOxAAADsQBlSsOGwAABT1JREFUWMPNWGtoXEUUPvvKvXs3uwnUYi21xLUVW1tdXaxaSlifLfgj\n",
       "24cgKCVUwVhQtg1Ki2AvrZgYbbutYCFK3VSQbX+YbWlRobQhYqX4wxWxoH+yUimJwVB8oClRPGdm\n",
       "7mtmdglrfuzAXObO/c4358w5c87sAjTZXv/iJmjR9mtTUothHSRa0p72SlNij8EWMOxWNOgkPYx6\n",
       "X436gncDXK0j0UAKCvOYaQbrrnuIHhvqwZIZaWKq7/DRvhoOHsIv4ZIqsaEOnSP4nfwhMva/sKn3\n",
       "BmfvOMQ1pW70UtjlfYjyDj++Wyawd8G3k2iIdQD5O9UIzkt0smCkJs1/CdabXfPGqs00OpPLh7im\n",
       "2BN5J+zc9r7/JS47wX4FzCgZ0pMD64Y2gk9qne0IDvPXmNhsq4iLVBpj4VkPqzEoD/bDXFPsHVWc\n",
       "uxBAzAU8qlkrUShaz8M+3L7jCv0FhS4oCDDNX08I5RJI0zHWGGut8rBagz6Nc02x95AHegPHJrjt\n",
       "O0X07k+v8tayYTVcQ8nPFPpemU4WhDbu8+5b+fc27BNOGDyYThc12MhPVRfrNgfLDDKFpjvhPor7\n",
       "gCdjwYDmTki+W/I2L3SqEx7P3owv65QjVJToFEGI823u2sSnL2PfIiA/rNdjw1HbxYKMJYOWjghN\n",
       "j8MtIM7Rrq394tQsuldEQCz7M8BmNtxb8kXDpstO9pyQTxhRBehUwVgnTx5xTnIO+5HsMpZ5h/VY\n",
       "zAXHXCxs7c4FsGhQ9B36vpn1QeD7kHwBDvO1R4etv3hmX0MhNcXGx7zwfvXob87mUGLAdiZN7TYQ\n",
       "VAE6VTDFHBgviIqO+2rNlkYLbE6PRZKv3WjZPZawA1jTePGe22mtKdaPkEfRIx/X4AwHfFOC57ij\n",
       "8zS4xMZF33md8bLYvqrkIaIK0KmC7eyIYVpazabX4MwNaKN6F6+DxXzHKx5iYaWMNY3tv7BVLrF+\n",
       "F501VOsiQVn7HOBPNrjISHoY5Q50wZ1iLfMTN9mMygYRlZ9OIxi9Tm94tc2y6ZcwRovQQWH6BDna\n",
       "VrGhHEQyDlakLA+LITc042jawzxEGvSB9Q+HroQkT9x97HmF5U3bt3nRypDroVwdgxw6jWCyV1SU\n",
       "E45BGAoTdGzLeizVNatLYNsEYdmftp80S0LTK07IWb9D6rpThvgu4BS1cZ6T/CXi7B73DBWkMyRC\n",
       "zqNTBdu7RFlNjIkwwjLEoiGsx7Kyel5gR8VdLOw3KLHRFpqOwxKayoA1B6HiV0C0f9ABoMG/uEMA\n",
       "k0wq61+r7F5JlCyHVD46rWDKFvoYLPLxBtWRs15m5SajxbJN2etgcbYawKJBlk33nknWqZJQcjwA\n",
       "45WKNYtvy+FtYANMcdtEqoS4W8vt1yBVOyhersl1iKhcOr0gy+rsnv4G8GQbqpk8432gxaZIdzPH\n",
       "sZjiYrkA1jQqMGNWuabn2B5HcQtG7t+4KAdpfBt5BjeBBrHtV/G5ll8+lvzoXoQHYPBDoeZp2SCi\n",
       "8ui0gmHa4KU09Sg9HkHMYnFZGjlY0mBDNBnNcCw8NbM+gMXb9t8F8605ruladoJhhVvoS/LAEIcg\n",
       "+bS4wWiuEf62wk+nFdwtJXp/Xvl+f7rYLJY0xc6cOu1GjDLQ3gedprltT/vptE26uqYqC4QlTbFH\n",
       "KTGaTtn9COTBnka6pdTfQ0RlFhrIKL/bBxYGyzSlvsxfLdzUkZkPBYRVzYnKavRfg2JteWGwTNMB\n",
       "59dYfz1UpNFma/9T6G9Eh+0BxQ2ZBcGSpkxb/e/lebXW/Nenyf/l2DEstZ41/wFn27qmRABG3QAA\n",
       "AABJRU5ErkJggg==\n",
       "\" style=\"display:inline;vertical-align:middle;\" /></a></span><br>"
      ],
      "text/plain": [
       "<IPython.core.display.HTML object>"
      ]
     },
     "metadata": {},
     "output_type": "display_data"
    }
   ],
   "source": [
    "abc_in_R3_def = InSet(abc, CartExp(Real, three)).definition()"
   ]
  },
  {
   "cell_type": "code",
   "execution_count": 9,
   "metadata": {},
   "outputs": [
    {
     "data": {
      "text/html": [
       "<span style=\"font-size:20px;\"><a class=\"ProveItLink\" href=\"../__pv_it/demonstrations/c9fd90dda18d9a4e23419c327daf714f572743c20/expr.ipynb\"><img src=\"data:image/png;base64,iVBORw0KGgoAAAANSUhEUgAAAG4AAAAYBAMAAADpDtUUAAAAMFBMVEX////MzMxUVFRERES6uroi\n",
       "IiIQEBCYmJhmZmYyMjLu7u52dnaqqqqIiIjc3NwAAACW8nlqAAAAAXRSTlMAQObYZgAAAAlwSFlz\n",
       "AAAOxAAADsQBlSsOGwAAAfdJREFUOMtjYCAd8NVcEiBDGwPTBt4EcvQxCnAHAKkHON2DUydrAQMD\n",
       "7wFcsiwXUPns04x/hpkDGbxzgcRpJBkuswBkhdfRDGLmU2BRtwIyFl9g4JqALMPZgMJbgK5vA4OB\n",
       "EMiHHxk4CpBl+FEczd6Aqa+Pk2GZAN93BjYUGX9UG7Ig1OXQ0AlwfcwMrAvYsxhOoijcimrBdDDp\n",
       "eQvJPq1FDIx7Lz1g6AYFuPY9aNBNuqsDVcN9t5CBYRM4OmYhuZPRZh7CSLcHzL8g4flzwXpIdPLF\n",
       "MDQzMFSCQ+cBQl9mfCzUJzFA1ekMHJDw5/nFwAaxmXUDQy4DwzGwPqRw2V4FC/4UBgaODyBlIMAx\n",
       "gYEfwuoHGysPIsRCgcAA6k6rcoQ+NgOG9Q4wW/whMZEMJt1AxGLkeJBgRrhz/QWGenj0QSzi+gvm\n",
       "HwUbhqyPQ84AwrYF6jvAoMnzgAukTwDoVxCD4TsweTIwFIOYvBeQ9HEZQBMfMKiZL/BEcDCsB/qY\n",
       "qYC5AcwABeZGBnAkMTDMQehrYChnhnhJFOgo3Y2PLjKwRgFZ2u0MYAYD9/ZaoINDwEoWmSyA5YfP\n",
       "D5gt/0CCAp7lT2Ew+KC5w9s0dAJ6JkOk3Q0YDNQ0jwbsYHnvAjqD4TG+0gIWPbwM6Ay4kdhLkQu4\n",
       "ZHgf4NYFAF+VeMoIy1byAAAAAElFTkSuQmCC\n",
       "\" style=\"display:inline;vertical-align:middle;\" /></a> <a class=\"ProveItLink\" href=\"../__pv_it/demonstrations/48e75b2addf52f128eee9a504e29d1e189be44200/proof.ipynb\" style=\"text-decoration: none\">&nbsp;&#x22A2;&nbsp;&nbsp;</a><a class=\"ProveItLink\" href=\"../__pv_it/demonstrations/39d325d4ee76d5319d594743d47c1ef2cf1032600/expr.ipynb\"><img src=\"data:image/png;base64,iVBORw0KGgoAAAANSUhEUgAAAPEAAAAVBAMAAABlMBWuAAAAMFBMVEX////MzMxUVFRERES6uroi\n",
       "IiIQEBCYmJhmZmYyMjLu7u52dnaqqqqIiIjc3NwAAACW8nlqAAAAAXRSTlMAQObYZgAAAAlwSFlz\n",
       "AAAOxAAADsQBlSsOGwAAAwpJREFUSMetlU1oE0EUx//ppsnuponFonixVhQKhcJKW9RiP/AgqAgR\n",
       "jaBVLNQeFJRAD2kFIR5ERNBcqlK0LilV9NKiBwUp5FKhCBr0UKgfhJaKIoWKelCr+N7sppl8uenH\n",
       "wGbmzfyy/9k3770BkELRFihhZjmspelP5C94bzT8PLIdcCdzV96tiEVfV1t/Vxg4wMaLQntSAjXu\n",
       "2mZgMme+YhRD3aWz+c2Yxu4eE35S12OFlUdhrAU007J9tmMe0HNrCWy+8hcorhpgAFDDxZSvaeTK\n",
       "qGUP2/u7TM/CEthCymqKgF7Ak7XwJhSKLb5NocEZa35yq9V30nn+sll/U+ioA7vY0qylbJCsiQlZ\n",
       "eO+U9B11cRrctOxglXV0tC1f0Jpy3zEd2XRbZFm57CF5WwvjKtvTY3MiDQYkD7p2DdLgkR0smsgD\n",
       "lYJGq38tDvKz6cwCY5OVMsvKVRO07qsRG3WfQxuvaamM8umTJ3iqT5haqkIcIu0UIwP6Xx4PlsBi\n",
       "NqEaMgvjY/8Pdqw3huPU3QvjkoClqHlyXnjruTApco9xX05f+8rEWR7HSmDRAU9SZumbIyLmKzpx\n",
       "irrrjFBbH6Jm2B5sjvBgk+A3A++597QDV4DfNHR1E3vIgVWtaMywpKzcZ2e45oVyF/TvPD0kZ8oG\n",
       "hT24hy3O+eH02zrg5rzSjRJYjwVlWFJ2RZv5gDvZ2/ofeOeFg2RltZr58XRtUBO2BxfsLwmWwI7Y\n",
       "FTUo5/PFGfZ2EC2kvICy2EvOuqT0Nt3gctiT3lGAz0oh4CuHBWyXOrBriGyXWVYe4tLpNUQqtGA8\n",
       "KuLxduZtUUQU+pNIugv8sw0iF1CLHVYMJ5xZCmxfpczC+ARvuFHk3Doy42+r6xlAvNFM3z/fUspO\n",
       "Os/DbNbxz0aOC3Jb/KlVb/Ut+xxZPItMySzfVa1ouJtAeTvKK+Uitr8plHWDBILZZfegNHY/tivi\n",
       "MljMZup84ZZ7n/SuEiuuk9b/ATO591JqddiAkZXEBVrutqTMXBErdhVIFgf8edueWxUWH4B/Joj9\n",
       "EhzlSBwAAAAASUVORK5CYII=\n",
       "\" style=\"display:inline;vertical-align:middle;\" /></a></span>"
      ],
      "text/plain": [
       "{(a, b, c) in Real^{3}} |- (a in Real) and (b in Real) and (c in Real)"
      ]
     },
     "metadata": {},
     "output_type": "display_data"
    }
   ],
   "source": [
    "abc_in_R3_def.lhs.unfold(assumptions=[abc_in_R3_def.lhs])"
   ]
  },
  {
   "cell_type": "code",
   "execution_count": 10,
   "metadata": {},
   "outputs": [
    {
     "data": {
      "text/html": [
       "<span style=\"font-size:20px;\"><a class=\"ProveItLink\" href=\"../__pv_it/demonstrations/39d325d4ee76d5319d594743d47c1ef2cf1032600/expr.ipynb\"><img src=\"data:image/png;base64,iVBORw0KGgoAAAANSUhEUgAAAPEAAAAVBAMAAABlMBWuAAAAMFBMVEX////MzMxUVFRERES6uroi\n",
       "IiIQEBCYmJhmZmYyMjLu7u52dnaqqqqIiIjc3NwAAACW8nlqAAAAAXRSTlMAQObYZgAAAAlwSFlz\n",
       "AAAOxAAADsQBlSsOGwAAAwpJREFUSMetlU1oE0EUx//ppsnuponFonixVhQKhcJKW9RiP/AgqAgR\n",
       "jaBVLNQeFJRAD2kFIR5ERNBcqlK0LilV9NKiBwUp5FKhCBr0UKgfhJaKIoWKelCr+N7sppl8uenH\n",
       "wGbmzfyy/9k3770BkELRFihhZjmspelP5C94bzT8PLIdcCdzV96tiEVfV1t/Vxg4wMaLQntSAjXu\n",
       "2mZgMme+YhRD3aWz+c2Yxu4eE35S12OFlUdhrAU007J9tmMe0HNrCWy+8hcorhpgAFDDxZSvaeTK\n",
       "qGUP2/u7TM/CEthCymqKgF7Ak7XwJhSKLb5NocEZa35yq9V30nn+sll/U+ioA7vY0qylbJCsiQlZ\n",
       "eO+U9B11cRrctOxglXV0tC1f0Jpy3zEd2XRbZFm57CF5WwvjKtvTY3MiDQYkD7p2DdLgkR0smsgD\n",
       "lYJGq38tDvKz6cwCY5OVMsvKVRO07qsRG3WfQxuvaamM8umTJ3iqT5haqkIcIu0UIwP6Xx4PlsBi\n",
       "NqEaMgvjY/8Pdqw3huPU3QvjkoClqHlyXnjruTApco9xX05f+8rEWR7HSmDRAU9SZumbIyLmKzpx\n",
       "irrrjFBbH6Jm2B5sjvBgk+A3A++597QDV4DfNHR1E3vIgVWtaMywpKzcZ2e45oVyF/TvPD0kZ8oG\n",
       "hT24hy3O+eH02zrg5rzSjRJYjwVlWFJ2RZv5gDvZ2/ofeOeFg2RltZr58XRtUBO2BxfsLwmWwI7Y\n",
       "FTUo5/PFGfZ2EC2kvICy2EvOuqT0Nt3gctiT3lGAz0oh4CuHBWyXOrBriGyXWVYe4tLpNUQqtGA8\n",
       "KuLxduZtUUQU+pNIugv8sw0iF1CLHVYMJ5xZCmxfpczC+ARvuFHk3Doy42+r6xlAvNFM3z/fUspO\n",
       "Os/DbNbxz0aOC3Jb/KlVb/Ut+xxZPItMySzfVa1ouJtAeTvKK+Uitr8plHWDBILZZfegNHY/tivi\n",
       "MljMZup84ZZ7n/SuEiuuk9b/ATO591JqddiAkZXEBVrutqTMXBErdhVIFgf8edueWxUWH4B/Joj9\n",
       "EhzlSBwAAAAASUVORK5CYII=\n",
       "\" style=\"display:inline;vertical-align:middle;\" /></a> <a class=\"ProveItLink\" href=\"../__pv_it/demonstrations/cd1e57ba46d40b1de49ea6ca3f38145e341dc9c20/proof.ipynb\" style=\"text-decoration: none\">&nbsp;&#x22A2;&nbsp;&nbsp;</a><a class=\"ProveItLink\" href=\"../__pv_it/demonstrations/c9fd90dda18d9a4e23419c327daf714f572743c20/expr.ipynb\"><img src=\"data:image/png;base64,iVBORw0KGgoAAAANSUhEUgAAAG4AAAAYBAMAAADpDtUUAAAAMFBMVEX////MzMxUVFRERES6uroi\n",
       "IiIQEBCYmJhmZmYyMjLu7u52dnaqqqqIiIjc3NwAAACW8nlqAAAAAXRSTlMAQObYZgAAAAlwSFlz\n",
       "AAAOxAAADsQBlSsOGwAAAfdJREFUOMtjYCAd8NVcEiBDGwPTBt4EcvQxCnAHAKkHON2DUydrAQMD\n",
       "7wFcsiwXUPns04x/hpkDGbxzgcRpJBkuswBkhdfRDGLmU2BRtwIyFl9g4JqALMPZgMJbgK5vA4OB\n",
       "EMiHHxk4CpBl+FEczd6Aqa+Pk2GZAN93BjYUGX9UG7Ig1OXQ0AlwfcwMrAvYsxhOoijcimrBdDDp\n",
       "eQvJPq1FDIx7Lz1g6AYFuPY9aNBNuqsDVcN9t5CBYRM4OmYhuZPRZh7CSLcHzL8g4flzwXpIdPLF\n",
       "MDQzMFSCQ+cBQl9mfCzUJzFA1ekMHJDw5/nFwAaxmXUDQy4DwzGwPqRw2V4FC/4UBgaODyBlIMAx\n",
       "gYEfwuoHGysPIsRCgcAA6k6rcoQ+NgOG9Q4wW/whMZEMJt1AxGLkeJBgRrhz/QWGenj0QSzi+gvm\n",
       "HwUbhqyPQ84AwrYF6jvAoMnzgAukTwDoVxCD4TsweTIwFIOYvBeQ9HEZQBMfMKiZL/BEcDCsB/qY\n",
       "qYC5AcwABeZGBnAkMTDMQehrYChnhnhJFOgo3Y2PLjKwRgFZ2u0MYAYD9/ZaoINDwEoWmSyA5YfP\n",
       "D5gt/0CCAp7lT2Ew+KC5w9s0dAJ6JkOk3Q0YDNQ0jwbsYHnvAjqD4TG+0gIWPbwM6Ay4kdhLkQu4\n",
       "ZHgf4NYFAF+VeMoIy1byAAAAAElFTkSuQmCC\n",
       "\" style=\"display:inline;vertical-align:middle;\" /></a></span>"
      ],
      "text/plain": [
       "{(a in Real) and (b in Real) and (c in Real)} |- (a, b, c) in Real^{3}"
      ]
     },
     "metadata": {},
     "output_type": "display_data"
    }
   ],
   "source": [
    "abc_in_R3_def.lhs.fold(assumptions=[abc_in_R3_def.rhs])"
   ]
  },
  {
   "cell_type": "code",
   "execution_count": 11,
   "metadata": {},
   "outputs": [
    {
     "data": {
      "text/html": [
       "<span style=\"font-size:20px;\"><a class=\"ProveItLink\" href=\"../__pv_it/demonstrations/39d325d4ee76d5319d594743d47c1ef2cf1032600/expr.ipynb\"><img src=\"data:image/png;base64,iVBORw0KGgoAAAANSUhEUgAAAPEAAAAVBAMAAABlMBWuAAAAMFBMVEX////MzMxUVFRERES6uroi\n",
       "IiIQEBCYmJhmZmYyMjLu7u52dnaqqqqIiIjc3NwAAACW8nlqAAAAAXRSTlMAQObYZgAAAAlwSFlz\n",
       "AAAOxAAADsQBlSsOGwAAAwpJREFUSMetlU1oE0EUx//ppsnuponFonixVhQKhcJKW9RiP/AgqAgR\n",
       "jaBVLNQeFJRAD2kFIR5ERNBcqlK0LilV9NKiBwUp5FKhCBr0UKgfhJaKIoWKelCr+N7sppl8uenH\n",
       "wGbmzfyy/9k3770BkELRFihhZjmspelP5C94bzT8PLIdcCdzV96tiEVfV1t/Vxg4wMaLQntSAjXu\n",
       "2mZgMme+YhRD3aWz+c2Yxu4eE35S12OFlUdhrAU007J9tmMe0HNrCWy+8hcorhpgAFDDxZSvaeTK\n",
       "qGUP2/u7TM/CEthCymqKgF7Ak7XwJhSKLb5NocEZa35yq9V30nn+sll/U+ioA7vY0qylbJCsiQlZ\n",
       "eO+U9B11cRrctOxglXV0tC1f0Jpy3zEd2XRbZFm57CF5WwvjKtvTY3MiDQYkD7p2DdLgkR0smsgD\n",
       "lYJGq38tDvKz6cwCY5OVMsvKVRO07qsRG3WfQxuvaamM8umTJ3iqT5haqkIcIu0UIwP6Xx4PlsBi\n",
       "NqEaMgvjY/8Pdqw3huPU3QvjkoClqHlyXnjruTApco9xX05f+8rEWR7HSmDRAU9SZumbIyLmKzpx\n",
       "irrrjFBbH6Jm2B5sjvBgk+A3A++597QDV4DfNHR1E3vIgVWtaMywpKzcZ2e45oVyF/TvPD0kZ8oG\n",
       "hT24hy3O+eH02zrg5rzSjRJYjwVlWFJ2RZv5gDvZ2/ofeOeFg2RltZr58XRtUBO2BxfsLwmWwI7Y\n",
       "FTUo5/PFGfZ2EC2kvICy2EvOuqT0Nt3gctiT3lGAz0oh4CuHBWyXOrBriGyXWVYe4tLpNUQqtGA8\n",
       "KuLxduZtUUQU+pNIugv8sw0iF1CLHVYMJ5xZCmxfpczC+ARvuFHk3Doy42+r6xlAvNFM3z/fUspO\n",
       "Os/DbNbxz0aOC3Jb/KlVb/Ut+xxZPItMySzfVa1ouJtAeTvKK+Uitr8plHWDBILZZfegNHY/tivi\n",
       "MljMZup84ZZ7n/SuEiuuk9b/ATO591JqddiAkZXEBVrutqTMXBErdhVIFgf8edueWxUWH4B/Joj9\n",
       "EhzlSBwAAAAASUVORK5CYII=\n",
       "\" style=\"display:inline;vertical-align:middle;\" /></a> <a class=\"ProveItLink\" href=\"../__pv_it/demonstrations/cd1e57ba46d40b1de49ea6ca3f38145e341dc9c20/proof.ipynb\" style=\"text-decoration: none\">&nbsp;&#x22A2;&nbsp;&nbsp;</a><a class=\"ProveItLink\" href=\"../__pv_it/demonstrations/c9fd90dda18d9a4e23419c327daf714f572743c20/expr.ipynb\"><img src=\"data:image/png;base64,iVBORw0KGgoAAAANSUhEUgAAAG4AAAAYBAMAAADpDtUUAAAAMFBMVEX////MzMxUVFRERES6uroi\n",
       "IiIQEBCYmJhmZmYyMjLu7u52dnaqqqqIiIjc3NwAAACW8nlqAAAAAXRSTlMAQObYZgAAAAlwSFlz\n",
       "AAAOxAAADsQBlSsOGwAAAfdJREFUOMtjYCAd8NVcEiBDGwPTBt4EcvQxCnAHAKkHON2DUydrAQMD\n",
       "7wFcsiwXUPns04x/hpkDGbxzgcRpJBkuswBkhdfRDGLmU2BRtwIyFl9g4JqALMPZgMJbgK5vA4OB\n",
       "EMiHHxk4CpBl+FEczd6Aqa+Pk2GZAN93BjYUGX9UG7Ig1OXQ0AlwfcwMrAvYsxhOoijcimrBdDDp\n",
       "eQvJPq1FDIx7Lz1g6AYFuPY9aNBNuqsDVcN9t5CBYRM4OmYhuZPRZh7CSLcHzL8g4flzwXpIdPLF\n",
       "MDQzMFSCQ+cBQl9mfCzUJzFA1ekMHJDw5/nFwAaxmXUDQy4DwzGwPqRw2V4FC/4UBgaODyBlIMAx\n",
       "gYEfwuoHGysPIsRCgcAA6k6rcoQ+NgOG9Q4wW/whMZEMJt1AxGLkeJBgRrhz/QWGenj0QSzi+gvm\n",
       "HwUbhqyPQ84AwrYF6jvAoMnzgAukTwDoVxCD4TsweTIwFIOYvBeQ9HEZQBMfMKiZL/BEcDCsB/qY\n",
       "qYC5AcwABeZGBnAkMTDMQehrYChnhnhJFOgo3Y2PLjKwRgFZ2u0MYAYD9/ZaoINDwEoWmSyA5YfP\n",
       "D5gt/0CCAp7lT2Ew+KC5w9s0dAJ6JkOk3Q0YDNQ0jwbsYHnvAjqD4TG+0gIWPbwM6Ay4kdhLkQu4\n",
       "ZHgf4NYFAF+VeMoIy1byAAAAAElFTkSuQmCC\n",
       "\" style=\"display:inline;vertical-align:middle;\" /></a></span>"
      ],
      "text/plain": [
       "{(a in Real) and (b in Real) and (c in Real)} |- (a, b, c) in Real^{3}"
      ]
     },
     "metadata": {},
     "output_type": "display_data"
    }
   ],
   "source": [
    "abc_in_R3_def.lhs.prove(assumptions=[abc_in_R3_def.rhs])"
   ]
  },
  {
   "cell_type": "code",
   "execution_count": 12,
   "metadata": {},
   "outputs": [
    {
     "data": {
      "text/html": [
       "<span style=\"font-size:20px;\"> <a class=\"ProveItLink\" href=\"../__pv_it/demonstrations/e8e068dd638b6fd66191ff2378f0aa2915a58cd20/proof.ipynb\" style=\"text-decoration: none\">&nbsp;&#x22A2;&nbsp;&nbsp;</a><a class=\"ProveItLink\" href=\"../__pv_it/demonstrations/733964b969ec561f6dfa5244bdfe8cb00e5dfd710/expr.ipynb\"><img src=\"data:image/png;base64,iVBORw0KGgoAAAANSUhEUgAAAKgAAAAaBAMAAADRZwr5AAAAMFBMVEX///9UVFQiIiKIiIjMzMx2\n",
       "dnYQEBDc3NxEREQyMjLu7u5mZmaqqqq6urqYmJgAAAB66f/FAAAAAXRSTlMAQObYZgAAAAlwSFlz\n",
       "AAAOxAAADsQBlSsOGwAAAvlJREFUSMetVU1oE0EU/tJNzGbjxkARqmgpqy2WKiYtFSlS4sUePGSl\n",
       "HgShlHiwenGlF3uxSz3Y1r9IwUIU2SCUemoURL3YUkGP5lJBLwYqxb8WwYpGqjg/+5t0AxbnMPvN\n",
       "vNlv3vvmvRlgYy38JZmqZV/eCGlAFfoR9TVvLmyENJgKNSGs+5nvs2h8w/SlrSsBi37G67Q75GeV\n",
       "E95x7NZouYX+IkxQYsNrFVrGypmdxJV+KoHqskxn3Ou6K3YRw3G5cZwuI9sJ8UqrnBjKFxFVLQns\n",
       "dts9iBiVpCr0w1TVVUD6VUVaCmk6thQJfuaxrHniLVSTPo5gKhX+Q0Z3q0ljc3GkqSf9Hhm92581\n",
       "5RpRWm1SkagZo4Yn5qKDipK1SbNop5Jm3SwkV9yNOyNPGI6n2/MI9iY1MjrAJ990OZ4GLqrYRiDT\n",
       "9XzvoKlifXLOpO94DxxjcMhwwg9enbR2fMemwzkn/K72rcAopSEpJ5/GDf7jTE76wXN0Lw3vI8OT\n",
       "jqZn9u+yDy/NajWiOaSt59oM3KTpRjybKuEhN7wycIqnt0rBC4azDmnfJ0et4SIjdR+UsJxDG4Gb\n",
       "iGkWaOaGp8B3BmaZQ2lWlRlFUfaY4Y+v2CQzjPQIMSq6SQp9gXlKSQcg/eYLmyHzpBpg/WvaSbor\n",
       "pY6KdvjDLPxpt6fQRSt86RtiX600jbKkIlO0zbO+yUUa7bG3SDM167ykETRQmIC0hkD2JagLq1Rf\n",
       "Ckh2y8AHtrrDRSrp3d7TFxIe0ucs00KkhC9hvlCQymTUiCtggBz9ceARz7M5m7SAFbFojpb4545D\n",
       "qoY6C2yvIAku39lTn4JCRvmTJMMoCPUtkn4fWy01vLVuqZ+aOGZV8gP+yV/jKgvkDqO3FD0k7LZv\n",
       "bKMShE015RO8TLFOuQELI4q7Klk1fbZLtApESzXu/6pbynoX6GUiWiVxD5XgQq1HJRb3Mexwp6F9\n",
       "jDa4XIu0Tqv1Rg36/SZotUh93yjPU/KPj7/+f999fojG+vN/AWKvuwXHSN1uAAAAAElFTkSuQmCC\n",
       "\" style=\"display:inline;vertical-align:middle;\" /></a></span>"
      ],
      "text/plain": [
       "|- ((a, b, c) in Real^{3}) in BOOLEAN"
      ]
     },
     "metadata": {},
     "output_type": "display_data"
    }
   ],
   "source": [
    "in_bool(abc_in_R3_def.lhs).prove()"
   ]
  },
  {
   "cell_type": "code",
   "execution_count": 13,
   "metadata": {},
   "outputs": [],
   "source": [
    "%end demonstrations"
   ]
  },
  {
   "cell_type": "code",
   "execution_count": null,
   "metadata": {},
   "outputs": [],
   "source": []
  }
 ],
 "metadata": {
  "kernelspec": {
   "display_name": "Python 3",
   "language": "python",
   "name": "python3"
  },
  "language_info": {
   "codemirror_mode": {
    "name": "ipython",
    "version": 3
   },
   "file_extension": ".py",
   "mimetype": "text/x-python",
   "name": "python",
   "nbconvert_exporter": "python",
   "pygments_lexer": "ipython3",
   "version": "3.7.3"
  }
 },
 "nbformat": 4,
 "nbformat_minor": 1
}
