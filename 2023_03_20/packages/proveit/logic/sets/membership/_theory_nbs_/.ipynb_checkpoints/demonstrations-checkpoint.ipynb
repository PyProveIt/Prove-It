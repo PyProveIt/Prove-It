{
 "cells": [
  {
   "cell_type": "markdown",
   "metadata": {},
   "source": [
    "Demonstrations for the theory of <a class=\"ProveItLink\" href=\"theory.ipynb\">proveit.logic.sets.membership</a>\n",
    "========"
   ]
  },
  {
   "cell_type": "code",
   "execution_count": 1,
   "metadata": {},
   "outputs": [],
   "source": [
    "import proveit\n",
    "from proveit import ExprTuple, InstantiationFailure, ProofFailure, UnsatisfiedPrerequisites\n",
    "from proveit.logic import (Forall, Equals, EvaluationError, InSet, Not, NotEquals,\n",
    "                           NotInSet, EmptySet, Set)\n",
    "from proveit import a, b, c, d, e, f, i, x, y, A, B, C, D, E, F, G, H, I, S, T\n",
    "from proveit.numbers import zero, one, two, three, four, five, six, seven, eight, nine, num, Exp\n",
    "from proveit.numbers import Add, Integer, Mult, Natural, NaturalPos, Real, RealNeg, RealPos\n",
    "from proveit.numbers.number_sets.number_set import NumberSet\n",
    "%begin demonstrations"
   ]
  },
  {
   "cell_type": "markdown",
   "metadata": {},
   "source": [
    "# Membership $\\in$\n",
    "### UNDER CONSTRUCTION"
   ]
  },
  {
   "cell_type": "markdown",
   "metadata": {},
   "source": [
    "<div style=\"line-height:1.4; font-size:14pt\">\n",
    "\n",
    "<a href='#introduction'>Introduction</a><br>\n",
    "<a href='#simple_expressions'>Simple Expressions involving Membership $(\\in)$</a><br>\n",
    "<a href='#common_attributes'>Common Attributes of a Membership $(\\in)$ Expression</a><br>\n",
    "<a href='#axioms'>Axioms</a><br>\n",
    "<a href='#further_demonstrations'>Further Demonstrations</a><br>\n",
    "    <ol>\n",
    "        <li><a href='#demo01'>$(x\\in A)\\wedge(A\\subset B)\\Rightarrow (x\\in B)$</a></li>\n",
    "        <li><a href='#demo02'>$\\forall_{x\\in A}(x\\in B) \\Rightarrow (A \\subseteq B)$</a></li>\n",
    "        <li><a href='#demo03'>$(x\\in B)\\wedge(A\\supset B)\\Rightarrow (x\\in A)$</a></li>\n",
    "    </ol>\n",
    "\n",
    "</div>\n"
   ]
  },
  {
   "cell_type": "markdown",
   "metadata": {},
   "source": [
    "## Introduction <a id='introduction'></a>"
   ]
  },
  {
   "cell_type": "markdown",
   "metadata": {},
   "source": [
    "<font size=4>Set membership (*e.g.*, $x \\in S$) (along with the related concepts of subset $\\subset, \\subseteq$, and superset $\\supset, \\supseteq$), is often critical in proofs, either as a goal in itself or as a condition or assumption appearing in a proof. For example, one might need to define a variable $x$ to be a natural number, $x \\in \\mathbb{N}$, to be used in a particulat theory, or we might want to prove that a number resides (or doesn't reside) in a particular set, for example that $\\sqrt{2} \\not\\in \\mathbb{Q}$.<br>\n",
    "This ``_demonstrations_`` notebook explores such membership expressions and related methods. (Set containment expressions involving $\\subset$, $\\subseteq$, $\\supset$, etc., are explored more thoroughly in their own ``_demonstrations_`` notebook in ``proveit.logic.sets.inclusion``)</font>"
   ]
  },
  {
   "cell_type": "markdown",
   "metadata": {},
   "source": [
    "## Simple Expressions Involving Membership ($\\in$, $\\not\\in$)<a id='simple_expressions'></a>"
   ]
  },
  {
   "cell_type": "markdown",
   "metadata": {},
   "source": [
    "<font size=4>It is straightforward to construct membership expressions. Here are some basic examples of such expressions:</font>"
   ]
  },
  {
   "cell_type": "code",
   "execution_count": 2,
   "metadata": {},
   "outputs": [
    {
     "data": {
      "text/html": [
       "<a class=\"ProveItLink\" href=\"../__pv_it/demonstrations/0b34a89219cb1b85abad8f0011f8b9bb7b4db6640/expr.ipynb\"><img src=\"data:image/png;base64,iVBORw0KGgoAAAANSUhEUgAAADMAAAAPBAMAAAC7N+rPAAAAMFBMVEX///9ERES6uroQEBAyMjLc\n",
       "3NyYmJgiIiJmZmaqqqp2dnbMzMxUVFSIiIju7u4AAAAd7oVFAAAAAXRSTlMAQObYZgAAAAlwSFlz\n",
       "AAAOxAAADsQBlSsOGwAAAMtJREFUGNNjYMAGODtWsSlglWGQZeCTxy7D0cDAkIIiwiteXgJm8G9g\n",
       "YNBFlmHyfQBl6ScwMOwG0m/vvF41ASQQApNheP9rA5hu4D3LUQBiuML1s/3/fxREBbD940kACTgg\n",
       "zH4r/xlIcjNwQMS4zcvLywthkv1gbzFfAHP4BODmgawDW68fwAd2QAFM6g0QxwOFHiocZuACi9yF\n",
       "SU0H4i4gnr+vmUETLMIyASrVvoCB6wCQfnGXsw0ixndQDyLVoNNzEi3omBZCAwoCADAgMQ5acQ7l\n",
       "AAAAAElFTkSuQmCC\n",
       "\" style=\"display:inline;vertical-align:middle;\" /></a>"
      ],
      "text/plain": [
       "x in S"
      ]
     },
     "execution_count": 2,
     "metadata": {},
     "output_type": "execute_result"
    }
   ],
   "source": [
    "# set membership\n",
    "InSet(x, S)"
   ]
  },
  {
   "cell_type": "code",
   "execution_count": 3,
   "metadata": {},
   "outputs": [
    {
     "data": {
      "text/html": [
       "<a class=\"ProveItLink\" href=\"../__pv_it/demonstrations/39b66641d977fdb2a4fb09415237037f478036ce0/expr.ipynb\"><img src=\"data:image/png;base64,iVBORw0KGgoAAAANSUhEUgAAAC8AAAAWCAMAAABnjDX7AAAAP1BMVEX///9jY2MJCQkdHR0NDQ0W\n",
       "FhZERES6uroQEBAyMjLc3NyYmJgiIiJmZmaqqqp2dnbMzMxUVFSIiIju7u4AAAANhLF7AAAAAXRS\n",
       "TlMAQObYZgAAAAlwSFlzAAAOxAAADsQBlSsOGwAAAQpJREFUOMuVk9tywzAIRNW01Q2hC+j/v7WQ\n",
       "dCrkqeNED/bYWrHLMXbujdUv9rN9qNDLhT7xKu0z47iwN/tFjmJ8HgjDCuP1DPinehMXm3Tj8zzV\n",
       "ki/fXyX9HQV5BTzz/+qQiN0waSNo9zw1IRMN7q3VxVHBcDIFZr3H05tDsRrkcMVNagu062t76EE2\n",
       "YYo9LP0BvghBad3zaEpMG/dYSvm8ycWb/GKf5y/haL0dq8y0o2akH6/Ph2dQTswb+H1WGpLEDVGL\n",
       "BTeivjLwyQXcR6NoO000dXZG0Qfrn+o4jIrSYx0iRqlWEba4PG6BNz0kIuTTcYCP5oXPwtbyq5P/\n",
       "ysr+LfkB/vU6//F+ALNVC/El8qACAAAAAElFTkSuQmCC\n",
       "\" style=\"display:inline;vertical-align:middle;\" /></a>"
      ],
      "text/plain": [
       "x not-in emptyset"
      ]
     },
     "execution_count": 3,
     "metadata": {},
     "output_type": "execute_result"
    }
   ],
   "source": [
    "NotInSet(x, EmptySet)"
   ]
  },
  {
   "cell_type": "code",
   "execution_count": 4,
   "metadata": {},
   "outputs": [
    {
     "data": {
      "text/html": [
       "<a class=\"ProveItLink\" href=\"../../../../numbers/numerals/decimals/__pv_it/theorems/c5da86d5508e181a625c8aa785bd1ba0345b9e710/expr.ipynb\"><img src=\"data:image/png;base64,iVBORw0KGgoAAAANSUhEUgAAADIAAAAQBAMAAACmdTG/AAAAMFBMVEX///+qqqqYmJiIiIgiIiLu\n",
       "7u4QEBBUVFS6urp2dnbMzMxEREQyMjJmZmbc3NwAAADzFso2AAAAAXRSTlMAQObYZgAAAAlwSFlz\n",
       "AAAOxAAADsQBlSsOGwAAAOlJREFUGNNjYEAHrP67jzJw5mcw8N09vQBVilugnYEhnoHhNQPnD1QZ\n",
       "dj9OBQY2BoY6BoY0NBlphnMMLAwM+QEM9Q/AItYuLgfAMo8M3oBkShgY6sEW9ZjC9DyoYp7AAmb6\n",
       "gwi+o3DTHnAz7ADLcH0GkTwPEDJcF0JCQCyWArAMwgUPGBQZt4FYt8H8ZS5AsAEqwx5QBmQwgbUw\n",
       "RCPrYS0AmSbJwAeyggVZhmExN9D+CQzMAUA+swE8dICeYF7NwPDk7t0rYIGDMBkeASBxB+iZ////\n",
       "gAXCdwSAaa7z2UAyBjm8OrdAQgcKAG3YN+ojYy50AAAAAElFTkSuQmCC\n",
       "\" style=\"display:inline;vertical-align:middle;\" /></a>"
      ],
      "text/plain": [
       "2 in Natural"
      ]
     },
     "execution_count": 4,
     "metadata": {},
     "output_type": "execute_result"
    }
   ],
   "source": [
    "InSet(two, Natural)"
   ]
  },
  {
   "cell_type": "code",
   "execution_count": 5,
   "metadata": {},
   "outputs": [
    {
     "data": {
      "text/html": [
       "<a class=\"ProveItLink\" href=\"../__pv_it/demonstrations/682a7359781989d423a3b3123a32e6ddbb0a59fe0/expr.ipynb\"><img src=\"data:image/png;base64,iVBORw0KGgoAAAANSUhEUgAAAF0AAAAXCAMAAABebLP7AAAAP1BMVEX///9jY2MJCQkdHR0NDQ0W\n",
       "FhbMzMxUVFRERES6uroiIiIQEBCYmJhmZmYyMjLu7u52dnaqqqqIiIjc3NwAAACGmE1UAAAAAXRS\n",
       "TlMAQObYZgAAAAlwSFlzAAAOxAAADsQBlSsOGwAAAZFJREFUSMe1lcl2wyAMRWnaIhCEQfD/31og\n",
       "dg0yOMkiWvgw2NcaHkiIz9hdfNLUMUxX76U31zmd4tV7mubrzm8Dj1mpNgsmG83oMazAsmWP7HQP\n",
       "Okej0G3qM/fdu6XbCKOXQ9n0MQZMIjQfTN1RxUx9lKW7XcFpo9uZALAbQyyuutSv7r6bZV6s26I3\n",
       "zHlS+PuDR8yQLInkJvS4TEwQO90N4WlHXoDsfU91TuFMv69qSumfHqBXYi3DWKxCrzilT3S3SHsq\n",
       "6zvd9qyWX0ucXvTl0SM7qxhXeTnosa+NO8sI2g+jiIoXcZO/d3hYyalNHV3mrtamvPB9Kw810gWU\n",
       "aizoPC8t8p2uu498hYYx4Afdg/DIdTvNjIZq2UCreUQmdAZ50IWk/vJ6FJfWV4zZq9p/RCQ0O15q\n",
       "kydJTh/UxixPVeviIPa2siuFHx6JywagcoYWGQ618XDTvWSky0at7iyUzzpBYg7Yr6CKZtwrXcQ+\n",
       "bVL8npvemcs2kp64rq7n1+bVe38P8a0Om+hql3ho8Dr5Dz/cEDRIEGiOAAAAAElFTkSuQmCC\n",
       "\" style=\"display:inline;vertical-align:middle;\" /></a>"
      ],
      "text/plain": [
       "(-4) not-in NaturalPos"
      ]
     },
     "execution_count": 5,
     "metadata": {},
     "output_type": "execute_result"
    }
   ],
   "source": [
    "NotInSet(num(-4), NaturalPos)"
   ]
  },
  {
   "cell_type": "markdown",
   "metadata": {},
   "source": [
    "Exponentiated sets are not currently needed.  They will likely be resurrected later and moved to a more appropriate theory package."
   ]
  },
  {
   "cell_type": "code",
   "execution_count": 6,
   "metadata": {},
   "outputs": [],
   "source": [
    "#InSet(ExprTuple(), Exp(S, zero)).prove()"
   ]
  },
  {
   "cell_type": "code",
   "execution_count": 7,
   "metadata": {},
   "outputs": [],
   "source": [
    "#InSet(ExprTuple(A),Exp(S,one)).prove([InSet(A,S)])"
   ]
  },
  {
   "cell_type": "code",
   "execution_count": 8,
   "metadata": {},
   "outputs": [],
   "source": [
    "#InSet(ExprTuple(A,B),Exp(S,two)).prove([InSet(A,S), InSet(B,S)])"
   ]
  },
  {
   "cell_type": "code",
   "execution_count": 9,
   "metadata": {},
   "outputs": [],
   "source": [
    "#InSet(ExprTuple(A,B,C),Exp(S,three)).prove([InSet(A,S), InSet(B,S),InSet(C,S)])"
   ]
  },
  {
   "cell_type": "code",
   "execution_count": 10,
   "metadata": {},
   "outputs": [],
   "source": [
    "#InSet(ExprTuple(A,B,C, D),Exp(S,four)).prove([InSet(A,S), InSet(B,S),InSet(C,S), InSet(D,S)])"
   ]
  },
  {
   "cell_type": "code",
   "execution_count": 11,
   "metadata": {},
   "outputs": [],
   "source": [
    "#InSet(ExprTuple(A,B,C, D, E),Exp(S,five)).prove([InSet(A,S), InSet(B,S),InSet(C,S), InSet(D,S), InSet(E,S)])"
   ]
  },
  {
   "cell_type": "code",
   "execution_count": 12,
   "metadata": {},
   "outputs": [],
   "source": [
    "#InSet(ExprTuple(A,B,C, D, E, F),Exp(S,six)).prove([InSet(A,S), InSet(B,S),InSet(C,S), InSet(D,S), InSet(E,S), InSet(F,S)])"
   ]
  },
  {
   "cell_type": "code",
   "execution_count": 13,
   "metadata": {},
   "outputs": [],
   "source": [
    "#InSet(ExprTuple(A,B,C, D, E, F, G),Exp(S,seven)).prove([InSet(A,S), InSet(B,S),InSet(C,S), InSet(D,S), InSet(E,S), InSet(F,S), InSet(G,S)])"
   ]
  },
  {
   "cell_type": "code",
   "execution_count": 14,
   "metadata": {},
   "outputs": [],
   "source": [
    "#InSet(ExprTuple(A,B,C, D, E, F, G, H),Exp(S,eight)).prove([InSet(A,S), InSet(B,S),InSet(C,S), InSet(D,S), InSet(E,S), InSet(F,S), InSet(G,S), InSet(H,S)])"
   ]
  },
  {
   "cell_type": "code",
   "execution_count": 15,
   "metadata": {},
   "outputs": [],
   "source": [
    "#InSet(ExprTuple(A,B,C, D, E, F, G, H, I),Exp(S,nine)).prove([InSet(A,S), InSet(B,S),InSet(C,S), InSet(D,S), InSet(E,S), InSet(F,S), InSet(G,S), InSet(H,S), InSet(I,S)])"
   ]
  },
  {
   "cell_type": "code",
   "execution_count": 16,
   "metadata": {},
   "outputs": [
    {
     "data": {
      "text/html": [
       "<span style=\"font-size:20px;\"><a class=\"ProveItLink\" href=\"../__pv_it/theorems/6d66ef15ae974e95094ed8ed211a8a6beb2861b50/expr.ipynb\"><img src=\"data:image/png;base64,iVBORw0KGgoAAAANSUhEUgAAADMAAAAVCAMAAADciiYzAAAAP1BMVEX///9jY2MJCQkdHR0NDQ0W\n",
       "FhZERES6uroQEBAyMjLc3NyYmJgiIiJmZmaqqqp2dnbMzMxUVFSIiIju7u4AAAANhLF7AAAAAXRS\n",
       "TlMAQObYZgAAAAlwSFlzAAAOxAAADsQBlSsOGwAAAPlJREFUOMu1k92SwiAMhVldoRQC5Of9n9VA\n",
       "1Ta6MtOL5QIGSMLHOeDcpK3ufIt8OqWhnReAWl0Ksxywu560Yy/Tc7KtAGNI8Ws8+Xz7zcd9aWMI\n",
       "9CUjRGKHzSxJ2i45VpkIudVado27YGwhWKTuRZSTkBzs+LEbk94gkmjDzbK09rmipD3nT3OYvMiy\n",
       "AfajDEdbcs7Xi3b+Q3556b8YDu6hh+sNmuetyksT5WM2xlhz+PEkVuFRNDjslPVgDrkA9tk8SsCI\n",
       "KtIYNCccWWKx5qioI7huxzFo1QKpWJRLMLKBCwiIZfbU0k/1qlv855+z+vMftJbzOTjdvQNy1QrN\n",
       "dUZH5QAAAABJRU5ErkJggg==\n",
       "\" style=\"display:inline;vertical-align:middle;\" /></a> <a class=\"ProveItLink\" href=\"../__pv_it/demonstrations/241d1bb2c3e00b5a88816ee24a8267020688a5630/proof.ipynb\" style=\"text-decoration: none\">&nbsp;&#x22A2;&nbsp;&nbsp;</a><a class=\"ProveItLink\" href=\"../__pv_it/theorems/fe3a8deeda9e1011cacaa4108184281bcacedd730/expr.ipynb\"><img src=\"data:image/png;base64,iVBORw0KGgoAAAANSUhEUgAAAFIAAAAVBAMAAAAnX6R8AAAAMFBMVEX////MzMxERES6uroQEBCY\n",
       "mJgyMjLu7u52dnaqqqqIiIhUVFTc3NwiIiJmZmYAAAAM3gM0AAAAAXRSTlMAQObYZgAAAAlwSFlz\n",
       "AAAOxAAADsQBlSsOGwAAAVRJREFUKM9jYEAAHgacAE1qJW6VzAuQeZwN2FXNe9EQzLAUWaQMu0Km\n",
       "BQxFHxjYCpCEnmJX+Y6BgTWBgfUBkpADsjyX7t1rENZHiCvdkZyZgOyDLJhtzF8ZGBgFGBhSEZJ8\n",
       "QA+xr9ou0QniHIM7i/1/I5juRqhkCwCqZli94C2Ik4MQj///+wCQCmN4excI7gGZvBMYGGIY4gu2\n",
       "gqSRXMK+6D/IB1MgvNNAzGLAwCDA8AzMZ/QFar8Ed9dnICGPqpKBwQtijgLcSKCb2H8CaROESpDt\n",
       "DMx/GMpBAhfgdm8ARvp3IGMuhH8OEhfsytwODOA4XQUPuwuQUGEIQricYwMD58c6B+YJ4ICYAHPj\n",
       "DWgAvUCoZLzAwP5qwbxIiKWbzKEqmfftBuu6jBQvF1GSWRMsNqEJ9AISJ44BD+ALQE5eB/CoPITM\n",
       "QQpETKCDwjuFWyHXAQYAZuRSYaV4kOoAAAAASUVORK5CYII=\n",
       "\" style=\"display:inline;vertical-align:middle;\" /></a></span>"
      ],
      "text/plain": [
       "{x not-in S} |- [not](x in S)"
      ]
     },
     "execution_count": 16,
     "metadata": {},
     "output_type": "execute_result"
    }
   ],
   "source": [
    "Not(InSet(x,S)).prove(assumptions=[NotInSet(x,S)])"
   ]
  },
  {
   "cell_type": "code",
   "execution_count": 17,
   "metadata": {},
   "outputs": [
    {
     "data": {
      "text/html": [
       "<span style=\"font-size:20px;\"><a class=\"ProveItLink\" href=\"../__pv_it/theorems/fe3a8deeda9e1011cacaa4108184281bcacedd730/expr.ipynb\"><img src=\"data:image/png;base64,iVBORw0KGgoAAAANSUhEUgAAAFIAAAAVBAMAAAAnX6R8AAAAMFBMVEX////MzMxERES6uroQEBCY\n",
       "mJgyMjLu7u52dnaqqqqIiIhUVFTc3NwiIiJmZmYAAAAM3gM0AAAAAXRSTlMAQObYZgAAAAlwSFlz\n",
       "AAAOxAAADsQBlSsOGwAAAVRJREFUKM9jYEAAHgacAE1qJW6VzAuQeZwN2FXNe9EQzLAUWaQMu0Km\n",
       "BQxFHxjYCpCEnmJX+Y6BgTWBgfUBkpADsjyX7t1rENZHiCvdkZyZgOyDLJhtzF8ZGBgFGBhSEZJ8\n",
       "QA+xr9ou0QniHIM7i/1/I5juRqhkCwCqZli94C2Ik4MQj///+wCQCmN4excI7gGZvBMYGGIY4gu2\n",
       "gqSRXMK+6D/IB1MgvNNAzGLAwCDA8AzMZ/QFar8Ed9dnICGPqpKBwQtijgLcSKCb2H8CaROESpDt\n",
       "DMx/GMpBAhfgdm8ARvp3IGMuhH8OEhfsytwODOA4XQUPuwuQUGEIQricYwMD58c6B+YJ4ICYAHPj\n",
       "DWgAvUCoZLzAwP5qwbxIiKWbzKEqmfftBuu6jBQvF1GSWRMsNqEJ9AISJ44BD+ALQE5eB/CoPITM\n",
       "QQpETKCDwjuFWyHXAQYAZuRSYaV4kOoAAAAASUVORK5CYII=\n",
       "\" style=\"display:inline;vertical-align:middle;\" /></a> <a class=\"ProveItLink\" href=\"../__pv_it/demonstrations/ce20959894c2660c21f89d97f1c9337368b190e10/proof.ipynb\" style=\"text-decoration: none\">&nbsp;&#x22A2;&nbsp;&nbsp;</a><a class=\"ProveItLink\" href=\"../__pv_it/theorems/6d66ef15ae974e95094ed8ed211a8a6beb2861b50/expr.ipynb\"><img src=\"data:image/png;base64,iVBORw0KGgoAAAANSUhEUgAAADMAAAAVCAMAAADciiYzAAAAP1BMVEX///9jY2MJCQkdHR0NDQ0W\n",
       "FhZERES6uroQEBAyMjLc3NyYmJgiIiJmZmaqqqp2dnbMzMxUVFSIiIju7u4AAAANhLF7AAAAAXRS\n",
       "TlMAQObYZgAAAAlwSFlzAAAOxAAADsQBlSsOGwAAAPlJREFUOMu1k92SwiAMhVldoRQC5Of9n9VA\n",
       "1Ta6MtOL5QIGSMLHOeDcpK3ufIt8OqWhnReAWl0Ksxywu560Yy/Tc7KtAGNI8Ws8+Xz7zcd9aWMI\n",
       "9CUjRGKHzSxJ2i45VpkIudVado27YGwhWKTuRZSTkBzs+LEbk94gkmjDzbK09rmipD3nT3OYvMiy\n",
       "AfajDEdbcs7Xi3b+Q3556b8YDu6hh+sNmuetyksT5WM2xlhz+PEkVuFRNDjslPVgDrkA9tk8SsCI\n",
       "KtIYNCccWWKx5qioI7huxzFo1QKpWJRLMLKBCwiIZfbU0k/1qlv855+z+vMftJbzOTjdvQNy1QrN\n",
       "dUZH5QAAAABJRU5ErkJggg==\n",
       "\" style=\"display:inline;vertical-align:middle;\" /></a></span>"
      ],
      "text/plain": [
       "{[not](x in S)} |- x not-in S"
      ]
     },
     "execution_count": 17,
     "metadata": {},
     "output_type": "execute_result"
    }
   ],
   "source": [
    "NotInSet(x,S).prove(assumptions=[Not(InSet(x,S))])"
   ]
  },
  {
   "cell_type": "code",
   "execution_count": 18,
   "metadata": {},
   "outputs": [
    {
     "data": {
      "text/html": [
       "<strong id=\"example_membership\">example_membership:</strong> <a class=\"ProveItLink\" href=\"../__pv_it/demonstrations/c5fd662597ebb05886f2b20b8617c568f37d42070/expr.ipynb\"><img src=\"data:image/png;base64,iVBORw0KGgoAAAANSUhEUgAAADMAAAAQBAMAAABJt1qBAAAAMFBMVEX////MzMwyMjKqqqoiIiJm\n",
       "ZmaYmJju7u5EREQQEBC6urqIiIh2dnZUVFTc3NwAAAAqL9KcAAAAAXRSTlMAQObYZgAAAAlwSFlz\n",
       "AAAOxAAADsQBlSsOGwAAAN5JREFUGNNjYMAAJT+aChhO/lzAgAU0c11gYP+ATYbhyoNjDAwTsEpd\n",
       "bmB6wOCAIrTDxUUBRN/L5lNAlVq0Hcq4xyuwByzFd2ffBpAAnzpMzT2GBo4FIKmVDzi+gwSA5sOl\n",
       "RNndgVLs0xhYweYyMSCk2AwsgC5k/cDAcgAkIOkCBA0QKYbrvEApzgaGerDHK5B0MdSyA02q38CQ\n",
       "DxZgQZZi3ADUX2/AcIkZ5ALuDTCpRiDeCJTi2MDsygoWUYZJgRisQM+z3z74diNYpLarAEwL/QTq\n",
       "YFdACag1LS7IAgCEuzrfdn2YkQAAAABJRU5ErkJggg==\n",
       "\" style=\"display:inline;vertical-align:middle;\" /></a><br>"
      ],
      "text/plain": [
       "example_membership: a in Natural"
      ]
     },
     "execution_count": 18,
     "metadata": {},
     "output_type": "execute_result"
    }
   ],
   "source": [
    "example_membership = InSet(a, Natural)"
   ]
  },
  {
   "cell_type": "code",
   "execution_count": 19,
   "metadata": {},
   "outputs": [
    {
     "data": {
      "text/html": [
       "<a class=\"ProveItLink\" href=\"../../../../__pv_it/common/c06c606ec12678c58933ac85412ecadc2ae28be60/expr.ipynb\"><img src=\"data:image/png;base64,iVBORw0KGgoAAAANSUhEUgAAAAsAAAAJBAMAAAAWSsseAAAAMFBMVEX////MzMwyMjKqqqoiIiJm\n",
       "ZmaYmJju7u5EREQQEBC6urqIiIh2dnZUVFTc3NwAAAAqL9KcAAAAAXRSTlMAQObYZgAAAAlwSFlz\n",
       "AAAOxAAADsQBlSsOGwAAAEdJREFUCNdjYOC7s28DAwPDygcc3xkY2KcxsDowMLB+YGA5wMDA2cBQ\n",
       "v4CBoX4DQz5QRb0BwyXmBwwcG5hdWYEqbx98u5EBABisEWzRR9jxAAAAAElFTkSuQmCC\n",
       "\" style=\"display:inline;vertical-align:middle;\" /></a>"
      ],
      "text/plain": [
       "a"
      ]
     },
     "execution_count": 19,
     "metadata": {},
     "output_type": "execute_result"
    }
   ],
   "source": [
    "example_membership.element"
   ]
  },
  {
   "cell_type": "code",
   "execution_count": 20,
   "metadata": {},
   "outputs": [
    {
     "data": {
      "text/html": [
       "<span style=\"font-size:20px;\"> <a class=\"ProveItLink\" href=\"../__pv_it/demonstrations/b8a878b97efe2c647ff0cd1a3649677f1f3d95e60/proof.ipynb\" style=\"text-decoration: none\">&nbsp;&#x22A2;&nbsp;&nbsp;</a><a class=\"ProveItLink\" href=\"../__pv_it/demonstrations/60185d479e304000a54be4b5a6132b29bfe4d9500/expr.ipynb\"><img src=\"data:image/png;base64,iVBORw0KGgoAAAANSUhEUgAAAGgAAAAVBAMAAABYjraNAAAAMFBMVEX////MzMxUVFRERES6uroi\n",
       "IiIQEBCYmJhmZmYyMjLu7u52dnaqqqqIiIjc3NwAAACW8nlqAAAAAXRSTlMAQObYZgAAAAlwSFlz\n",
       "AAAOxAAADsQBlSsOGwAAAdBJREFUOMt9lLFLw0AUxr82qW3aJhREN1FRBBEhYCs4KMVBUBdBIwqi\n",
       "g4rg0oIugmBX6dJJoWgNFQenVv0HCqIgIkREBEUJOkg3V528u8Q0aRMPEt77kt+9dy8fAaDDc0le\n",
       "D8RKoxZeGsgjklrhtbp3Z4e+V7tJcOu2E1cZBUrAU73Oa9ViEuGcG+RfjKTRBAhqPZSO6DJCaVfo\n",
       "EgUEgGCmAQpWOuh2tvWgKKyy/1OrUgjr5mESyrwF5XBjZ8af/yrpnWKZQvss5Q9Vq5L/s4wsnWzf\n",
       "GxuTlLfa0znEKXTO0qpqtff82GdsNaZzP1QS9Brky5yckGCLpYXameZTcyoWyFdZQ2iKQbVB6NiO\n",
       "DpLgmqU52yDEzTxWgNAXAmUqtSpkySbkV3tI0E4z3yrRp00I8iSFmmSUklQ6tlcKd9D2xphBZFsl\n",
       "yBxtr6Rhh0kBO4Q2jgRXLJ1yQAKGCVRBb5TOQLSsxsVI1kyCDZa+OqA7OlNOi86FmHbw91CgLt4l\n",
       "V7aWGlA58pJBC2m5/+z9nmnFuPFBfEfL5H5KrhnD9V0ThjH2BpjLAzG7JSYTisPAknka/sKwkbnq\n",
       "Lelc7nYGRv6DPjz04/8grx0lzZsR3f8fv+HHbBbZhN48AAAAAElFTkSuQmCC\n",
       "\" style=\"display:inline;vertical-align:middle;\" /></a></span>"
      ],
      "text/plain": [
       "|- (a in Natural) in BOOLEAN"
      ]
     },
     "execution_count": 20,
     "metadata": {},
     "output_type": "execute_result"
    }
   ],
   "source": [
    "example_membership.deduce_in_bool()"
   ]
  },
  {
   "cell_type": "markdown",
   "metadata": {},
   "source": [
    "## Miscellaneous Testing\n",
    "The material below was developed to test various membership-related methods. Some of this material could be integrated into the `demonstrations` page eventually and/or deleted as development continues."
   ]
  },
  {
   "cell_type": "markdown",
   "metadata": {},
   "source": [
    "### Testing the `InSet` class methods\n",
    "<br/>\n",
    "The `InSet` class currently has the following prover-related class methods:<br/>\n",
    "    <div style=\"width: 75%; border: 1px solid green; padding: 5px; margin: 20px; background-color: gainsboro; font-family:courier\">deduce_not_in(self, **defaults_config)<br/>\n",
    "    deduce_in_bool(self, **defaults_config)<br/>\n",
    "    conclude(self, **defaults_config)<br/>\n",
    "    shallow_simlification(self, *, must_evaluate=False, **defaults_config)</div>\n",
    "</font>"
   ]
  },
  {
   "cell_type": "markdown",
   "metadata": {},
   "source": [
    "### `InSet.deduce_not_in()`\n",
    "\n",
    "Deduce x not in S assuming not(A in S), where self = (x in S). This is a somewhat odd method called on a membership object to actually conclude the negation of the membership claim. Some examples appear below:"
   ]
  },
  {
   "cell_type": "code",
   "execution_count": 21,
   "metadata": {},
   "outputs": [
    {
     "data": {
      "text/html": [
       "<span style=\"font-size:20px;\"><a class=\"ProveItLink\" href=\"../__pv_it/theorems/fe3a8deeda9e1011cacaa4108184281bcacedd730/expr.ipynb\"><img src=\"data:image/png;base64,iVBORw0KGgoAAAANSUhEUgAAAFIAAAAVBAMAAAAnX6R8AAAAMFBMVEX////MzMxERES6uroQEBCY\n",
       "mJgyMjLu7u52dnaqqqqIiIhUVFTc3NwiIiJmZmYAAAAM3gM0AAAAAXRSTlMAQObYZgAAAAlwSFlz\n",
       "AAAOxAAADsQBlSsOGwAAAVRJREFUKM9jYEAAHgacAE1qJW6VzAuQeZwN2FXNe9EQzLAUWaQMu0Km\n",
       "BQxFHxjYCpCEnmJX+Y6BgTWBgfUBkpADsjyX7t1rENZHiCvdkZyZgOyDLJhtzF8ZGBgFGBhSEZJ8\n",
       "QA+xr9ou0QniHIM7i/1/I5juRqhkCwCqZli94C2Ik4MQj///+wCQCmN4excI7gGZvBMYGGIY4gu2\n",
       "gqSRXMK+6D/IB1MgvNNAzGLAwCDA8AzMZ/QFar8Ed9dnICGPqpKBwQtijgLcSKCb2H8CaROESpDt\n",
       "DMx/GMpBAhfgdm8ARvp3IGMuhH8OEhfsytwODOA4XQUPuwuQUGEIQricYwMD58c6B+YJ4ICYAHPj\n",
       "DWgAvUCoZLzAwP5qwbxIiKWbzKEqmfftBuu6jBQvF1GSWRMsNqEJ9AISJ44BD+ALQE5eB/CoPITM\n",
       "QQpETKCDwjuFWyHXAQYAZuRSYaV4kOoAAAAASUVORK5CYII=\n",
       "\" style=\"display:inline;vertical-align:middle;\" /></a> <a class=\"ProveItLink\" href=\"../__pv_it/demonstrations/ce20959894c2660c21f89d97f1c9337368b190e10/proof.ipynb\" style=\"text-decoration: none\">&nbsp;&#x22A2;&nbsp;&nbsp;</a><a class=\"ProveItLink\" href=\"../__pv_it/theorems/6d66ef15ae974e95094ed8ed211a8a6beb2861b50/expr.ipynb\"><img src=\"data:image/png;base64,iVBORw0KGgoAAAANSUhEUgAAADMAAAAVCAMAAADciiYzAAAAP1BMVEX///9jY2MJCQkdHR0NDQ0W\n",
       "FhZERES6uroQEBAyMjLc3NyYmJgiIiJmZmaqqqp2dnbMzMxUVFSIiIju7u4AAAANhLF7AAAAAXRS\n",
       "TlMAQObYZgAAAAlwSFlzAAAOxAAADsQBlSsOGwAAAPlJREFUOMu1k92SwiAMhVldoRQC5Of9n9VA\n",
       "1Ta6MtOL5QIGSMLHOeDcpK3ufIt8OqWhnReAWl0Ksxywu560Yy/Tc7KtAGNI8Ws8+Xz7zcd9aWMI\n",
       "9CUjRGKHzSxJ2i45VpkIudVado27YGwhWKTuRZSTkBzs+LEbk94gkmjDzbK09rmipD3nT3OYvMiy\n",
       "AfajDEdbcs7Xi3b+Q3556b8YDu6hh+sNmuetyksT5WM2xlhz+PEkVuFRNDjslPVgDrkA9tk8SsCI\n",
       "KtIYNCccWWKx5qioI7huxzFo1QKpWJRLMLKBCwiIZfbU0k/1qlv855+z+vMftJbzOTjdvQNy1QrN\n",
       "dUZH5QAAAABJRU5ErkJggg==\n",
       "\" style=\"display:inline;vertical-align:middle;\" /></a></span>"
      ],
      "text/plain": [
       "{[not](x in S)} |- x not-in S"
      ]
     },
     "execution_count": 21,
     "metadata": {},
     "output_type": "execute_result"
    }
   ],
   "source": [
    "# Here is a simple, literal example. Notice that the 'self' on which the method\n",
    "# is called is actually the opposite claim from the conclusion being drawn.\n",
    "InSet(x, S).deduce_not_in(assumptions=[Not(InSet(x, S))])"
   ]
  },
  {
   "cell_type": "code",
   "execution_count": 22,
   "metadata": {},
   "outputs": [
    {
     "name": "stdout",
     "output_type": "stream",
     "text": [
      "ProofFailure (InstantiationFailure):Proof step failed assuming {[not](x in S)}:\n",
      "Attempting to instantiate |- forall_{x, S | [not](x in S)} (x not-in S) with {x: y, S: T}:\n",
      "Unsatisfied condition: [not](y in T)\n"
     ]
    }
   ],
   "source": [
    "# Even though the deduction involves the negation of the 'self' membership object,\n",
    "# the self membership object args must match the assumptions\n",
    "try:\n",
    "    InSet(y, T).deduce_not_in(assumptions=[Not(InSet(x, S))])\n",
    "    assert False, \"Expecting an InstantiationFailure; should not make it to this point!\"\n",
    "except InstantiationFailure as the_error:\n",
    "    print(\"ProofFailure (InstantiationFailure):{}\".format(the_error))"
   ]
  },
  {
   "cell_type": "code",
   "execution_count": 23,
   "metadata": {},
   "outputs": [
    {
     "data": {
      "text/html": [
       "<span style=\"font-size:20px;\"> <a class=\"ProveItLink\" href=\"../__pv_it/demonstrations/ff767b1093326958623b32d79fc5ec7a9cb5e8470/proof.ipynb\" style=\"text-decoration: none\">&nbsp;&#x22A2;&nbsp;&nbsp;</a><a class=\"ProveItLink\" href=\"../__pv_it/demonstrations/6699fbf136c61fa3e150922a29fa231f835fd2940/expr.ipynb\"><img src=\"data:image/png;base64,iVBORw0KGgoAAAANSUhEUgAAAFUAAAAVCAMAAAAAc1IEAAAAP1BMVEX///9jY2MJCQkdHR0NDQ0W\n",
       "FhZUVFTMzMwiIiKYmJgQEBAyMjKIiIiqqqru7u66urpERERmZmZ2dnbc3NwAAABK8997AAAAAXRS\n",
       "TlMAQObYZgAAAAlwSFlzAAAOxAAADsQBlSsOGwAAAXhJREFUOMuVldt6hCAMhOluGwJBzu//rBW0\n",
       "Gg7qlov9Fpz8wDigENcttV3rnHhoaUlPEkGW9ww5+1giwe+iFGPwbqbgvSUfTIkdPoVAXm7//VZl\n",
       "Q61ZBmpoZoq4+wCBcktNvjzPjutMAdpMAxXFjForWipUM7XmOqfLJB3VePz5RvqMqmsfcup0qwOK\n",
       "yRwZK0B+vNb6CLLsdA45NJWXbztLbqi7YbnVSQPNwqhsRZnu3dE9VeatwGjuAMsAjWEVSat7Ku45\n",
       "TJykWRw1Ir5f648/mEAsZjNqOLQWaOXKunl/TmFr/Nr8yuDtHVWdJybWBeSqYdQaVOzrPNxQl1g2\n",
       "lNgZ1NA5IIwRLvTUSQZOz2Idrv24vS2lhrzS0oW1pcYt78d5TBhKw0bn1pH2drHwGu6ngwqgM0FZ\n",
       "BO63DObaqJ99MP8r+jUDFyf2tHOSsBsq2Y/UUfyHmvw4xs/Mn1FmUhvoihqXyUzjDTyDWq2uqDDd\n",
       "QIDl8bsVN80v7pcTWciqxLQAAAAASUVORK5CYII=\n",
       "\" style=\"display:inline;vertical-align:middle;\" /></a></span>"
      ],
      "text/plain": [
       "|- 3 not-in {1, 2}"
      ]
     },
     "execution_count": 23,
     "metadata": {},
     "output_type": "execute_result"
    }
   ],
   "source": [
    "# Notice that we can prove simple non-memberships automatically,\n",
    "# without the deduce_not_in()\n",
    "NotInSet(three, Set(one, two)).prove()"
   ]
  },
  {
   "cell_type": "code",
   "execution_count": 24,
   "metadata": {},
   "outputs": [
    {
     "data": {
      "text/html": [
       "<span style=\"font-size:20px;\"><a class=\"ProveItLink\" href=\"../../../../numbers/ordering/__pv_it/theorems/ef097190be07bfef385d06d66c6c1568183e809c0/expr.ipynb\"><img src=\"data:image/png;base64,iVBORw0KGgoAAAANSUhEUgAAADAAAAAUCAMAAAD84U6VAAAAPFBMVEX///8NDQ0WFhYLCwsYGBjM\n",
       "zMwyMjKqqqoiIiJmZmaYmJju7u5EREQQEBC6urqIiIh2dnZUVFTc3NwAAADJzR5XAAAAAXRSTlMA\n",
       "QObYZgAAAAlwSFlzAAAOxAAADsQBlSsOGwAAAMpJREFUKM+VktkSwyAIRe3igjvy//9aNNMmJqmO\n",
       "PDiiwOGiQowMnFgy6fe988FME7w8egqmAOxc0lNAOXqRZoJiD8i7hII5lXRJUKV3MSVsXcXAN34H\n",
       "gmn2ftX1R3GkHC8c6oJtUROAbhUDNwJUfZPPCk5DBNUmxWHBN2AcA7aKkUfrqMq1dKhVe38+NiXY\n",
       "vQJQ1VF3qITuSqrz0El+5XomaAOi61lfvgFyrG+nDlOWBZMcAjgsg/37yDqvfesbwNjsKsAsAoQc\n",
       "3H0Av6IH7VVwiLUAAAAASUVORK5CYII=\n",
       "\" style=\"display:inline;vertical-align:middle;\" /></a>, <a class=\"ProveItLink\" href=\"../__pv_it/demonstrations/636b551eaa2c463238c85b046347f565e22cd1360/expr.ipynb\"><img src=\"data:image/png;base64,iVBORw0KGgoAAAANSUhEUgAAADAAAAAUCAMAAAD84U6VAAAAPFBMVEX///8NDQ0WFhYLCwsYGBjM\n",
       "zMwyMjKqqqoiIiJmZmaYmJju7u5EREQQEBC6urqIiIh2dnZUVFTc3NwAAADJzR5XAAAAAXRSTlMA\n",
       "QObYZgAAAAlwSFlzAAAOxAAADsQBlSsOGwAAALtJREFUKM+Vk9kSgyAMRdOFLYgJ8P//2qBTWnDU\n",
       "SR4YlSvnZgHgKkIEVZhFp4fFKAFZCyg6/XoKKJmp0OGznQFMhC2rNcnOUnsFg9/i/Wrrj1K8kz2p\n",
       "W0y4qe4AnmVJYiTU/jpkEKYedgupdSfW9QaQvk2MtaWL9e+s5v352DPJg2x/klwgW3DDkXaeooq7\n",
       "U6mP/Op8gMGzC4c53CyxlDVmYlMymUuAaBmRzqbXsXKKrPIeoBbglQC4ujcfvnQGwscC184AAAAA\n",
       "SUVORK5CYII=\n",
       "\" style=\"display:inline;vertical-align:middle;\" /></a>, <a class=\"ProveItLink\" href=\"../__pv_it/demonstrations/ff5229a285be461c466227f45b9dac3b3465b6060/expr.ipynb\"><img src=\"data:image/png;base64,iVBORw0KGgoAAAANSUhEUgAAADIAAAAUCAMAAAD4FJ6oAAAAPFBMVEX///8NDQ0WFhYLCwsYGBjM\n",
       "zMwyMjKqqqoiIiJmZmaYmJju7u5EREQQEBC6urqIiIh2dnZUVFTc3NwAAADJzR5XAAAAAXRSTlMA\n",
       "QObYZgAAAAlwSFlzAAAOxAAADsQBlSsOGwAAALdJREFUKM+VkkkSAyEIRcngPOv975pWk2paO1iy\n",
       "cAEfHl8FoEIZ2Axmpwx3imyxbM4VQULSnPOF3NXmORcl1eFvIMC7lZxiyGGuDpAqY92Kd0fNnjsq\n",
       "2eL9qudJQjLjdNMtIF8Zb0NLPWUcnQz3j2WuvpcpfuEEyUypxnVB86qH56M7+nnBMtPuIHEQl7F8\n",
       "eLGLzB7tQiq47C6mn4RlJoXIcgqMgvyRYUjc/fQ3kFXofYjchgAjqx/RlwhNqlZikwAAAABJRU5E\n",
       "rkJggg==\n",
       "\" style=\"display:inline;vertical-align:middle;\" /></a> <a class=\"ProveItLink\" href=\"../__pv_it/demonstrations/949884ff5a6e812442fbf8bd1ac55cea674c7ebe0/proof.ipynb\" style=\"text-decoration: none\">&nbsp;&#x22A2;&nbsp;&nbsp;</a><a class=\"ProveItLink\" href=\"../__pv_it/demonstrations/3dc4c50e651be99302c77ddfc01ead7b6fcc1dcd0/expr.ipynb\"><img src=\"data:image/png;base64,iVBORw0KGgoAAAANSUhEUgAAAGcAAAAVCAMAAABsdQABAAAARVBMVEX///8/Pz9vb28YGBgJCQkd\n",
       "HR0NDQ0WFhbMzMwyMjKqqqoiIiJmZmaYmJju7u5EREQQEBC6urqIiIh2dnZUVFTc3NwAAAAnAzaG\n",
       "AAAAAXRSTlMAQObYZgAAAAlwSFlzAAAOxAAADsQBlSsOGwAAAbJJREFUSMeVVeu6xBAMdO5VGiR4\n",
       "/0c9iq1LtbX+7FebzMiYBGPXy7WfYAx7e7nVPcZwqL+QG3ifhy1WwVNE/bX6GA5Ki1kGruX+q+x9\n",
       "nGxkohc8l9O1+LXJvFjt30d0Sp5ZJklww4NKiL9fPuLJyTMrp1zyGI4Byy7DekhMy5YVPjKcJXRY\n",
       "rBh9Bnx4OMYtou2kI8StPdUOuWSFDyV0sLgqcvDo+A07VyRe8OEU4OumcCLgSdUoUkOiTpl622GK\n",
       "HHzQPMzFqJe9dX0IQf1OhsyKuFSX9Edwsr0WYf18C6EqGbipy/JUFXo2RgcJlgcmraIcR7NAhKf2\n",
       "ChaZuzomm9rbWp0M0EHSfkjwe8Wb7/rm5Krc1ZGhLiHlt4OwhUxSQ8y0nB0DD0OUkRfN4JeX/C8q\n",
       "ny7OlJ0OkpIPVIBdhWQFOajZNU/hsQFVyWS8fBlJ56XsdJA5EyzS4iwWZLDqCy54wJJMBQiRY4i2\n",
       "bW/sstNC3nT250cYPGI4d6oJDs87DzwcJqKJPe/c8zg1GK26d9XZZzh+X/jloB2Mfte/B2fQMQ3k\n",
       "STJYwwfQSTv98lRZlLL+AaB8GMOlwZjhAAAAAElFTkSuQmCC\n",
       "\" style=\"display:inline;vertical-align:middle;\" /></a></span>"
      ],
      "text/plain": [
       "{a != b, a != c, a != d} |- a not-in {b, c, d}"
      ]
     },
     "execution_count": 24,
     "metadata": {},
     "output_type": "execute_result"
    }
   ],
   "source": [
    "# The deduce_not_in() is more about a folding of the assumption or\n",
    "# judgment about the negation of a membership claim or the negation of\n",
    "# element equalities\n",
    "InSet(a, Set(b, c, d)).deduce_not_in(assumptions=[NotEquals(a, b), NotEquals(a, c), NotEquals(a, d)])"
   ]
  },
  {
   "cell_type": "markdown",
   "metadata": {},
   "source": [
    "### `InSet.deduce_in_bool()`"
   ]
  },
  {
   "cell_type": "code",
   "execution_count": 25,
   "metadata": {},
   "outputs": [
    {
     "data": {
      "text/html": [
       "<span style=\"font-size:20px;\"> <a class=\"ProveItLink\" href=\"../__pv_it/demonstrations/81f827c267aa37ea07c557a313963c3f2e0e3ced0/proof.ipynb\" style=\"text-decoration: none\">&nbsp;&#x22A2;&nbsp;&nbsp;</a><a class=\"ProveItLink\" href=\"../__pv_it/demonstrations/ff0b8f1117d1abd0422b517d3b1d16f596d61c270/expr.ipynb\"><img src=\"data:image/png;base64,iVBORw0KGgoAAAANSUhEUgAAAJ8AAAAVBAMAAACqHiFtAAAAMFBMVEX////MzMxUVFRERES6uroi\n",
       "IiIQEBCYmJhmZmYyMjLu7u52dnaqqqqIiIjc3NwAAACW8nlqAAAAAXRSTlMAQObYZgAAAAlwSFlz\n",
       "AAAOxAAADsQBlSsOGwAAAmNJREFUOMt1lU1oE0EUx/8m25qPdakHQRCptB4URFbBi9A2l1ZUCiG6\n",
       "oOBBrCJ4aagHkfYg9pLWSxCpIGoXFfFSCIqgiDYXBfFgLloUpAEviuLHQYqlGOe93clmZmeHsPnv\n",
       "2/f/7cybjwXQhKndKyCpfSeHk/h4Q90YveYnOtb1i2dWQ4u+G5ufK1Ev3gBfZvboprfE2ySh7QTn\n",
       "2bTwpLcJuaRb3FHnxnYgV4XjYlEf4GPxZMd8CIwSHsBeA/JFIbP6ENwDeJEGMmWkmug+GQcCy6En\n",
       "Sliu5/6GwPWX4sCpFNAtfqtI/Qsqt887bgBGCSMFSCDOQfUQMAu8Fh0oIvWbQtYt39xDmSCavSKB\n",
       "16F6BHD3JHCFb7p+0fWrbx5yO0G04bIEPoTqcUcXSjX5nl5eBLejgsxowN5wlWzt6xGj5IJehOpx\n",
       "h+f+zAIn+KbE12r7oXNWA5akoFl21ki90jxiyEsHfZwmnXF5wZ7xPO8I83YWVGCQwG1cBO/cpE6r\n",
       "HgKmrVoAnOBILnJt3q8CJ8L/jcCQ2FlP6X0jmoeAcHnIdg0/KFSMarhXAcoEtHwC2qukX0L1MLCK\n",
       "ASG3AB8p9MmwsJnJCaRO8ZDzPCnnoXoIaDdo8p1jlQq/KFtXgYtN0MYIElhd6FiHwYKLPO5hPH8i\n",
       "DgCxxlqtFk9Wrv9QJ7Bv/GoZni8TSFkVOhwC4FEong9jQ3zadPV0bEfrkbL1uHx+XDHQKeqeoMX2\n",
       "uAbMw6CIJU4Vcxs0Rt9LsYC4ylCBPiedv3eN0Z+y1tHBHKn75cSOUC0axujleuIn4NsuOrXMnyL8\n",
       "Bzr6t0SicAT2AAAAAElFTkSuQmCC\n",
       "\" style=\"display:inline;vertical-align:middle;\" /></a></span>"
      ],
      "text/plain": [
       "|- (2 in {1, 2, 3}) in BOOLEAN"
      ]
     },
     "execution_count": 25,
     "metadata": {},
     "output_type": "execute_result"
    }
   ],
   "source": [
    "# Membership claims are Boolean values\n",
    "InSet(two, Set(one, two, three)).deduce_in_bool()"
   ]
  },
  {
   "cell_type": "code",
   "execution_count": 26,
   "metadata": {},
   "outputs": [
    {
     "data": {
      "text/html": [
       "<span style=\"font-size:20px;\"> <a class=\"ProveItLink\" href=\"../__pv_it/demonstrations/b343ab6697118c15e8898739317653937e9a9c3a0/proof.ipynb\" style=\"text-decoration: none\">&nbsp;&#x22A2;&nbsp;&nbsp;</a><a class=\"ProveItLink\" href=\"../__pv_it/demonstrations/1f9a02d27936e65ce943e35e87395e3f9442acd00/expr.ipynb\"><img src=\"data:image/png;base64,iVBORw0KGgoAAAANSUhEUgAAAJ8AAAAVBAMAAACqHiFtAAAAMFBMVEX////MzMxUVFRERES6uroi\n",
       "IiIQEBCYmJhmZmYyMjLu7u52dnaqqqqIiIjc3NwAAACW8nlqAAAAAXRSTlMAQObYZgAAAAlwSFlz\n",
       "AAAOxAAADsQBlSsOGwAAAmtJREFUOMt1lU1oE0EUx/9NNjEf61IPYkFEST0ofrAKXgRtEFpRKSzR\n",
       "gIIHaZWClwY9iOhB7CW1l1CkgqhdVMRLISiCItpcFMSDuWhRkC54UPEbUbEU13lvd7PZyewcNv+d\n",
       "x/+3897MvABwoBo3i4gbn8lhxIaXNpSzF+1YR1eviGlNafbl8PRUiVbxnN56ZNML4i0PoB/Gt3jC\n",
       "eDgmPMk1Qs7JFnPQuLwWyNXopSRH74nIumkfaJiY9SpwG/oikLeEzMopmLvxOAlkKpSgCgjM+56E\n",
       "g/QRVvON3F8fuORcJ/BsAkiTXjHpV25b+ZACmF5A4h+rgSICII5LHgJmgWek6x5Qu2qrV2gh8cMP\n",
       "6H8C4CXJI4CbzwAT9BHHA3601SmLkfrui/5KALwjeczBmVLd+857eMBrYUHGJeBq/5SsKnSLBXBB\n",
       "T0ses3/q1wXgMGXsA2utoDEiAVu7RrtsLJJ6KnlEynN7bBwV++V4wK5j5XJ5P/PWF6PAjNnyjYrJ\n",
       "61do0VEPAZNanYBf4AFzoatnexR4wv9dBvSJm/WAvjcgeQgIk1LeVSj83kBTVljDrRGgXsdXFq5N\n",
       "QH2B9BNEPQysYQe/DPHzreJgM3Ml8IbVEKec5005KXkIqDf9zf/Jz2wjCpx1QBcDxsFq1WJ1qu0c\n",
       "Tkgecx8e3RcNgPSYu4kL0ru3HVgYnaygLBaWcl23xkqrUnPwgAcQ8bwe7uNuk+puu47a3cjV4/LZ\n",
       "nYqBhiV7vNFxxyVgHgpFLO4qqrFTOfsqEDPoVBk6ze/i+u8N5ey3oNZhYw7VrUrsQqgWTeXs+Ubs\n",
       "X8CnjdxQ1MH/Fyuzkn3srhgAAAAASUVORK5CYII=\n",
       "\" style=\"display:inline;vertical-align:middle;\" /></a></span>"
      ],
      "text/plain": [
       "|- (4 in {1, 2, 3}) in BOOLEAN"
      ]
     },
     "execution_count": 26,
     "metadata": {},
     "output_type": "execute_result"
    }
   ],
   "source": [
    "# False membership claims are Boolean values\n",
    "InSet(four, Set(one, two, three)).deduce_in_bool()"
   ]
  },
  {
   "cell_type": "code",
   "execution_count": 27,
   "metadata": {},
   "outputs": [
    {
     "data": {
      "text/html": [
       "<span style=\"font-size:20px;\"> <a class=\"ProveItLink\" href=\"../__pv_it/demonstrations/e9c44482a9b44e6091e461b5187f5064f87b5c210/proof.ipynb\" style=\"text-decoration: none\">&nbsp;&#x22A2;&nbsp;&nbsp;</a><a class=\"ProveItLink\" href=\"../__pv_it/demonstrations/be940c3f28886f1cd66140887707eb4c304722fe0/expr.ipynb\"><img src=\"data:image/png;base64,iVBORw0KGgoAAAANSUhEUgAAAJ8AAAAVBAMAAACqHiFtAAAAMFBMVEX////MzMxUVFRERES6uroi\n",
       "IiIQEBCYmJhmZmYyMjLu7u52dnaqqqqIiIjc3NwAAACW8nlqAAAAAXRSTlMAQObYZgAAAAlwSFlz\n",
       "AAAOxAAADsQBlSsOGwAAAoxJREFUOMt1lU1oE0EUx//NJtskTdIiKIKH+nUwiGUt6aWg9uJHLUKI\n",
       "Bit4EFoJeDHoSRQsnlJ7WaRUKGoX67UkVpRetLkoiGBXxRYLatCLIth68NBQjDNvZ793B7J5+96+\n",
       "387835tZAA0EjUcDCBuZt/wSGk7XA72TWmgGtvQDUd3j/DgyM1Xgs3gTmLPEeVtN6I/xg8L6tZBj\n",
       "1172W/GmKKcy03uBpBoIfMoi+2YEMKNg0VAgOYalOkWR8C5BOY4XEhAvhwGBryIn0oB8wVBiE1XV\n",
       "iLaP+YE3IoDscn4oFlU/UG4i8o+s6Cg6BRCXhNp9xXMWMAG8dvIGV4NnmEfkj6VuWUTvGq+4r9kz\n",
       "7LkOTHCN9n+hmmWmg5fMRmxdGNGzZnSe7n9qdlHmCjXjPccaUpO7EnZLjnuA3aJL2t7vYtdlbl4j\n",
       "xwNbw6NTf28D51npSojnCWj3bskDLNgNxaq8xnv3Fd2qzqKsDGoYZYVeR6zGXduKbCiclx1wA+OK\n",
       "lccqhGSWEbtpxhdZymkTKEVrHCgrqBJg1sra3u8GXhH/bV2QNoGOSS4UNabinKEEhS+5quOmobxd\n",
       "714XMFXDbzI6mwSkffSSPHk3UMUhBqwjm+L1SOv+KhNzB7BKlryTlvyMO6/Sg59dwJTOiy/pqeE4\n",
       "+e65gYsNJDe4pMOVSp6s9rLdhxP0YMI6W5QhPF9gBwDT4cDjb+/I9zCnOYC7L98po8g8sVarpZKF\n",
       "E5Wc+bozxu7ec9LI+DRyhE6bWJdzqwz1Obceyaf5LYpmhHrRJ2LrieHb43ADO+C3KBpyqgCHA73L\n",
       "pjEHv0X76HvY8Tsb6F0ztbYLb1vJUuhEuBZ6oPdWPfybMs9i6eBPEf4DLjq4SpkZTtIAAAAASUVO\n",
       "RK5CYII=\n",
       "\" style=\"display:inline;vertical-align:middle;\" /></a></span>"
      ],
      "text/plain": [
       "|- (a in {1, 2, 3}) in BOOLEAN"
      ]
     },
     "execution_count": 27,
     "metadata": {},
     "output_type": "execute_result"
    }
   ],
   "source": [
    "# Membership claims with unknown verity are also Boolean values\n",
    "InSet(a, Set(one, two, three)).deduce_in_bool()"
   ]
  },
  {
   "cell_type": "code",
   "execution_count": 28,
   "metadata": {},
   "outputs": [
    {
     "data": {
      "text/html": [
       "<span style=\"font-size:20px;\"> <a class=\"ProveItLink\" href=\"../__pv_it/demonstrations/0be801851bc5fe4bb76c63641bf9206165b2b00b0/proof.ipynb\" style=\"text-decoration: none\">&nbsp;&#x22A2;&nbsp;&nbsp;</a><a class=\"ProveItLink\" href=\"../__pv_it/demonstrations/bc6d54940803197d2ef88a81e784573b67a9ecbd0/expr.ipynb\"><img src=\"data:image/png;base64,iVBORw0KGgoAAAANSUhEUgAAAJ4AAAAVBAMAAABF3EpTAAAAMFBMVEX////MzMxUVFRERES6uroi\n",
       "IiIQEBCYmJhmZmYyMjLu7u52dnaqqqqIiIjc3NwAAACW8nlqAAAAAXRSTlMAQObYZgAAAAlwSFlz\n",
       "AAAOxAAADsQBlSsOGwAAAqNJREFUOMuFVU1oE0EU/pqfJtnNH4IFLzagCNIKS7WCQlVQBO2hxRqx\n",
       "2INQS0X8iejFQ2GhB5GCDSIKRWVJQfAgxoh6ECEIFUSsAVGxJVAqqD3ZQ0EiLfhmZmc2u+7qQIZv\n",
       "3uz75nvz3rwAWIDP0A4gcKRn2RS0m6r6Wb8cDubDut1ApOahObarMbKZwFtoO/u9Hsnf7vWG0xLF\n",
       "X1hAF4HPHpdwpLZU2getCCRML5/uPWFVgkobxfOUQMLy8hX0BQPxApCp/o8vovSe3W8Jvpj5F1+s\n",
       "mkMrwT551Id8vujLp9aCmPHhjH1x3flBxVfEG7lN49BckD51I2KDO9wWB9y1lL7Q9zImCN6od/I6\n",
       "mHLr0esXxWrxZbt9I7EtR0zJV+GWJUvFO/exg5+iNaxHrAgTTiXGKez0EMaFhPPYK70yvEw+sekK\n",
       "N9xz7m/wwnELQ7w4WtlnCSe+b5SlaBnn+OJ+Adfkxs8sn5nc19xQbMpH6vIUTnExmTJZ2vI0DB7g\n",
       "TZompaZJ4IT0ei9ez1YibGeoZYR8Bmw+GL2Mj4T0sQOnlbyWceIalqthaCsSi9Tp7LyDnNlo0gcj\n",
       "zOKl8uNaok3FlIO2Jp/yGmLLcqNLqGSfz3DY7+JLoIf4stoor6SaK7+/KBMgR20VoeIsRPTiRp+x\n",
       "6RKHdRffO5b1UCEsyuuOi4+S+1hr0KIHM6bJEdIrTtQTojKriq+sz5tYTwI6rgpTaYfVxKc/H7OQ\n",
       "J0tpfuO2LEdILjt8R8VtbBKdKHVrO+8v0WzTM+jt9r63pHr1HMVzii9tfxJ5It6bPWKmX4dTfLpj\n",
       "ot8rOzrGxxqJ39jj22RP2uChMjE08EBgVt5fA5rttG9Ll/3OSTlDY9fFnY0G6WCuNT/rj85//H9U\n",
       "KOqU798O/gBaj6seSWFFCQAAAABJRU5ErkJggg==\n",
       "\" style=\"display:inline;vertical-align:middle;\" /></a></span>"
      ],
      "text/plain": [
       "|- (b in {c, d, f}) in BOOLEAN"
      ]
     },
     "execution_count": 28,
     "metadata": {},
     "output_type": "execute_result"
    }
   ],
   "source": [
    "# Membership claims with unknown verity are also Boolean values\n",
    "InSet(b, Set(c, d, f)).deduce_in_bool()"
   ]
  },
  {
   "cell_type": "code",
   "execution_count": 29,
   "metadata": {},
   "outputs": [
    {
     "data": {
      "text/html": [
       "<span style=\"font-size:20px;\"> <a class=\"ProveItLink\" href=\"../__pv_it/demonstrations/0be801851bc5fe4bb76c63641bf9206165b2b00b0/proof.ipynb\" style=\"text-decoration: none\">&nbsp;&#x22A2;&nbsp;&nbsp;</a><a class=\"ProveItLink\" href=\"../__pv_it/demonstrations/bc6d54940803197d2ef88a81e784573b67a9ecbd0/expr.ipynb\"><img src=\"data:image/png;base64,iVBORw0KGgoAAAANSUhEUgAAAJ4AAAAVBAMAAABF3EpTAAAAMFBMVEX////MzMxUVFRERES6uroi\n",
       "IiIQEBCYmJhmZmYyMjLu7u52dnaqqqqIiIjc3NwAAACW8nlqAAAAAXRSTlMAQObYZgAAAAlwSFlz\n",
       "AAAOxAAADsQBlSsOGwAAAqNJREFUOMuFVU1oE0EU/pqfJtnNH4IFLzagCNIKS7WCQlVQBO2hxRqx\n",
       "2INQS0X8iejFQ2GhB5GCDSIKRWVJQfAgxoh6ECEIFUSsAVGxJVAqqD3ZQ0EiLfhmZmc2u+7qQIZv\n",
       "3uz75nvz3rwAWIDP0A4gcKRn2RS0m6r6Wb8cDubDut1ApOahObarMbKZwFtoO/u9Hsnf7vWG0xLF\n",
       "X1hAF4HPHpdwpLZU2getCCRML5/uPWFVgkobxfOUQMLy8hX0BQPxApCp/o8vovSe3W8Jvpj5F1+s\n",
       "mkMrwT551Id8vujLp9aCmPHhjH1x3flBxVfEG7lN49BckD51I2KDO9wWB9y1lL7Q9zImCN6od/I6\n",
       "mHLr0esXxWrxZbt9I7EtR0zJV+GWJUvFO/exg5+iNaxHrAgTTiXGKez0EMaFhPPYK70yvEw+sekK\n",
       "N9xz7m/wwnELQ7w4WtlnCSe+b5SlaBnn+OJ+Adfkxs8sn5nc19xQbMpH6vIUTnExmTJZ2vI0DB7g\n",
       "TZompaZJ4IT0ei9ez1YibGeoZYR8Bmw+GL2Mj4T0sQOnlbyWceIalqthaCsSi9Tp7LyDnNlo0gcj\n",
       "zOKl8uNaok3FlIO2Jp/yGmLLcqNLqGSfz3DY7+JLoIf4stoor6SaK7+/KBMgR20VoeIsRPTiRp+x\n",
       "6RKHdRffO5b1UCEsyuuOi4+S+1hr0KIHM6bJEdIrTtQTojKriq+sz5tYTwI6rgpTaYfVxKc/H7OQ\n",
       "J0tpfuO2LEdILjt8R8VtbBKdKHVrO+8v0WzTM+jt9r63pHr1HMVzii9tfxJ5It6bPWKmX4dTfLpj\n",
       "ot8rOzrGxxqJ39jj22RP2uChMjE08EBgVt5fA5rttG9Ll/3OSTlDY9fFnY0G6WCuNT/rj85//H9U\n",
       "KOqU798O/gBaj6seSWFFCQAAAABJRU5ErkJggg==\n",
       "\" style=\"display:inline;vertical-align:middle;\" /></a></span>"
      ],
      "text/plain": [
       "|- (b in {c, d, f}) in BOOLEAN"
      ]
     },
     "execution_count": 29,
     "metadata": {},
     "output_type": "execute_result"
    }
   ],
   "source": [
    "# Membership claims with unknown verity are also Boolean values\n",
    "InSet(b, Set(c, d, f)).deduce_in_bool(assumptions=[Equals(b, d)])"
   ]
  },
  {
   "cell_type": "code",
   "execution_count": 30,
   "metadata": {},
   "outputs": [
    {
     "data": {
      "text/html": [
       "<span style=\"font-size:20px;\"> <a class=\"ProveItLink\" href=\"../__pv_it/demonstrations/26ef55b4620e4e15dd55b735ae17e7d4d4770aef0/proof.ipynb\" style=\"text-decoration: none\">&nbsp;&#x22A2;&nbsp;&nbsp;</a><a class=\"ProveItLink\" href=\"../__pv_it/demonstrations/4400bc3ab4b159da6a0fe46ddc1a3e4460e643090/expr.ipynb\"><img src=\"data:image/png;base64,iVBORw0KGgoAAAANSUhEUgAAAMEAAAAVBAMAAAANw5eWAAAAMFBMVEX////MzMxUVFRERES6uroi\n",
       "IiIQEBCYmJhmZmYyMjLu7u52dnaqqqqIiIjc3NwAAACW8nlqAAAAAXRSTlMAQObYZgAAAAlwSFlz\n",
       "AAAOxAAADsQBlSsOGwAAAp1JREFUSMedlU1oE0EUx//5tLv5RFC8+YlaFFlK6qFg7UVjLdISXUTx\n",
       "1qrgxQVPoocgiNYeXEqpUNQurdfSUFF6UXNRUKkNii0KxUBP4qEnDwlFfDO7m92dbGLiwC4z/3kz\n",
       "v/l47w2AMnzKsz60XpKf2K9hd6LoJ04YbRCwtQcIlwTx6/D0ZI4t9CPko0PikGUGCFy0m9vqeDXl\n",
       "12KG/l30rYo2ypnk1D5A1gEpL3a+oG9mtGo25IPTAsFR5DyWi6a9JC5DyeJ1COjQgFTRj4BE1W7+\n",
       "sAdnRSWxiXndtN+SryfcDgJRqg7aE3xRVb0pYUlUwiNIWQRcs6Dd6oUaQQLe2/NR6f/+rz3UEdid\n",
       "aZb9I5P5xHD2cOQWMEbV8bXD3Omm8B+E8HnbfoG3fxrOTc/lChwsV4x5FhSSExmjLRMCn3fTf4VV\n",
       "b3LhqXMPJyZ/PwAuAfEqosyZJSeErrZzSuQnG8xX3vGm7r7p1X4DI+ROOlK0G2xXqSgM0NnnR7ir\n",
       "qldUNScSomQmdxJiJ9/TZZrkrE0IhQuMEClgkK1htjZoR0+rewikEdoEYhNUP8kDRHHvIQSFnRKF\n",
       "w0M2IOK4clerhFSVE3gOeMuVIS9BxzGySsvmuZfqfUluQmBidBc/pZdMu8F71jyEeIm5WFALmeH4\n",
       "2EuI/QEPWOBNWSSQIldYIGtOPIzxHqmWIJQBvFqkFEbrPHTPlGYyhosQ3F85gAjLfnuuj2teAldU\n",
       "Zn3qfsZe0TkzU+09bdp8Gz7Oc2sk7cokA93urMHLB0+qWXI34oZnz0nrBsLPraxhlbp8JRAKHj3r\n",
       "bsS89h1ag9ej109cqeXpUuN3Zw6eHLDeyG7WT9ywryvR5GVz4NwXexs+sn6rTN4ptvNOL5B1ouzf\n",
       "+Rf61NYlnFuj7gAAAABJRU5ErkJggg==\n",
       "\" style=\"display:inline;vertical-align:middle;\" /></a></span>"
      ],
      "text/plain": [
       "|- (b in {1, 1 + 1, 3}) in BOOLEAN"
      ]
     },
     "execution_count": 30,
     "metadata": {},
     "output_type": "execute_result"
    }
   ],
   "source": [
    "# Membership claims with unknown verity are also Boolean values\n",
    "# Here we don't know the value of the variable b:\n",
    "InSet(b, Set(one, Add(one, one), three)).deduce_in_bool()"
   ]
  },
  {
   "cell_type": "code",
   "execution_count": 31,
   "metadata": {},
   "outputs": [
    {
     "data": {
      "text/html": [
       "<span style=\"font-size:20px;\"> <a class=\"ProveItLink\" href=\"../__pv_it/demonstrations/26ef55b4620e4e15dd55b735ae17e7d4d4770aef0/proof.ipynb\" style=\"text-decoration: none\">&nbsp;&#x22A2;&nbsp;&nbsp;</a><a class=\"ProveItLink\" href=\"../__pv_it/demonstrations/4400bc3ab4b159da6a0fe46ddc1a3e4460e643090/expr.ipynb\"><img src=\"data:image/png;base64,iVBORw0KGgoAAAANSUhEUgAAAMEAAAAVBAMAAAANw5eWAAAAMFBMVEX////MzMxUVFRERES6uroi\n",
       "IiIQEBCYmJhmZmYyMjLu7u52dnaqqqqIiIjc3NwAAACW8nlqAAAAAXRSTlMAQObYZgAAAAlwSFlz\n",
       "AAAOxAAADsQBlSsOGwAAAp1JREFUSMedlU1oE0EUx//5tLv5RFC8+YlaFFlK6qFg7UVjLdISXUTx\n",
       "1qrgxQVPoocgiNYeXEqpUNQurdfSUFF6UXNRUKkNii0KxUBP4qEnDwlFfDO7m92dbGLiwC4z/3kz\n",
       "v/l47w2AMnzKsz60XpKf2K9hd6LoJ04YbRCwtQcIlwTx6/D0ZI4t9CPko0PikGUGCFy0m9vqeDXl\n",
       "12KG/l30rYo2ypnk1D5A1gEpL3a+oG9mtGo25IPTAsFR5DyWi6a9JC5DyeJ1COjQgFTRj4BE1W7+\n",
       "sAdnRSWxiXndtN+SryfcDgJRqg7aE3xRVb0pYUlUwiNIWQRcs6Dd6oUaQQLe2/NR6f/+rz3UEdid\n",
       "aZb9I5P5xHD2cOQWMEbV8bXD3Omm8B+E8HnbfoG3fxrOTc/lChwsV4x5FhSSExmjLRMCn3fTf4VV\n",
       "b3LhqXMPJyZ/PwAuAfEqosyZJSeErrZzSuQnG8xX3vGm7r7p1X4DI+ROOlK0G2xXqSgM0NnnR7ir\n",
       "qldUNScSomQmdxJiJ9/TZZrkrE0IhQuMEClgkK1htjZoR0+rewikEdoEYhNUP8kDRHHvIQSFnRKF\n",
       "w0M2IOK4clerhFSVE3gOeMuVIS9BxzGySsvmuZfqfUluQmBidBc/pZdMu8F71jyEeIm5WFALmeH4\n",
       "2EuI/QEPWOBNWSSQIldYIGtOPIzxHqmWIJQBvFqkFEbrPHTPlGYyhosQ3F85gAjLfnuuj2teAldU\n",
       "Zn3qfsZe0TkzU+09bdp8Gz7Oc2sk7cokA93urMHLB0+qWXI34oZnz0nrBsLPraxhlbp8JRAKHj3r\n",
       "bsS89h1ag9ej109cqeXpUuN3Zw6eHLDeyG7WT9ywryvR5GVz4NwXexs+sn6rTN4ptvNOL5B1ouzf\n",
       "+Rf61NYlnFuj7gAAAABJRU5ErkJggg==\n",
       "\" style=\"display:inline;vertical-align:middle;\" /></a></span>"
      ],
      "text/plain": [
       "|- (b in {1, 1 + 1, 3}) in BOOLEAN"
      ]
     },
     "execution_count": 31,
     "metadata": {},
     "output_type": "execute_result"
    }
   ],
   "source": [
    "# Here is a Membership claim that is False, involving assumptions\n",
    "# about the value of variable b; notice the assumption is irrelevant\n",
    "InSet(b, Set(one, Add(one, one), three)).deduce_in_bool(assumptions=[Equals(b, zero)])"
   ]
  },
  {
   "cell_type": "markdown",
   "metadata": {},
   "source": [
    "### `InSet.conclude()`"
   ]
  },
  {
   "cell_type": "code",
   "execution_count": 32,
   "metadata": {},
   "outputs": [
    {
     "data": {
      "text/html": [
       "<span style=\"font-size:20px;\"> <a class=\"ProveItLink\" href=\"../__pv_it/demonstrations/83a68a8901e3959900eeb1c84d518a9a9d07c25b0/proof.ipynb\" style=\"text-decoration: none\">&nbsp;&#x22A2;&nbsp;&nbsp;</a><a class=\"ProveItLink\" href=\"../__pv_it/demonstrations/45e1b7550ece59493f0d9872014078b3c8c542b80/expr.ipynb\"><img src=\"data:image/png;base64,iVBORw0KGgoAAAANSUhEUgAAAGcAAAAVBAMAAACphe0AAAAAMFBMVEX///+qqqqYmJiIiIgiIiLu\n",
       "7u4QEBBUVFS6urp2dnbMzMxEREQyMjJmZmbc3NwAAADzFso2AAAAAXRSTlMAQObYZgAAAAlwSFlz\n",
       "AAAOxAAADsQBlSsOGwAAAbhJREFUOMtjYMACIhoYcAE+ORwSzCcCcGpiWL4VpPXu6QVo4vIgPVyu\n",
       "UN7bO7ugrJdzdwDJ7UD8moHzB5qmKUAcfucr1D0bGOZDXMt6gUFeACJbx8CQhkUTAzNUE/sDBrYE\n",
       "iKs/MsQfgMjmBzDUPwALWru4HMDUxPaVgf0fmMWRwcAP1VTCwFAP9lSPKXabHBjYf8F9qwCVZWDw\n",
       "B7v9KHbnAQHLByiDwwkmy8D1GUTyPIAruoOmab0BhOYyrwKSZhCDCsCaEPGXhKbJHREZwNB7LwBi\n",
       "3Qbzl7kAwQaQnpoGVE28G+CagKHCwFoD1MUEtoghGi6zdiuqJnUozbWAgfsjAwPnCSBbkoEP5B0W\n",
       "RDxtR9HEOIHhHZjB/xWsCZReuCYwMIOSDbMBZuixghgrGRhMGUAq2ArAzpsGZD65e/cKWOlBVE2c\n",
       "wBgFJQA+37t3HVj/AEWYFODx5P///x+w0vAdAUia2Mv+FDGwABMty////w8wuIDkeu/ugMcTDHRu\n",
       "QU5GYCAKYzAGoLoDEyCEJ8AYnAyENJnBGKzwwAlmQE0vmAAS56AQhAshgpY1CUc5cF0AdxkxHSgH\n",
       "AEFVdO0zAfeKAAAAAElFTkSuQmCC\n",
       "\" style=\"display:inline;vertical-align:middle;\" /></a></span>"
      ],
      "text/plain": [
       "|- 2 in {1, 2, 3}"
      ]
     },
     "execution_count": 32,
     "metadata": {},
     "output_type": "execute_result"
    }
   ],
   "source": [
    "# A simple membership claim can be deduced using conclude()\n",
    "InSet(two, Set(one, two, three)).conclude()"
   ]
  },
  {
   "cell_type": "code",
   "execution_count": 33,
   "metadata": {},
   "outputs": [
    {
     "name": "stdout",
     "output_type": "stream",
     "text": [
      "Proof Failure (Type Error): Proof step failed:\n",
      "Attempting to instantiate |- forall_{n in Natural} [forall_{x, y_{1}, y_{2}, ..., y_{n} | (x = y_{1}) or  (x = y_{2}) or  ... or  (x = y_{n})} (x in {y_{1}, y_{2}, ..., y_{n}})] with {n: 3, x: 4, y: (1, 2, 3)}:\n",
      "Unsatisfied condition: (4 = 1) or (4 = 2) or (4 = 3)\n"
     ]
    }
   ],
   "source": [
    "# We should not be able to conclude a False membership claim\n",
    "try:\n",
    "    InSet(four, Set(one, two, three)).conclude()\n",
    "    assert False, \"Expecting a ProofFailure (TypeError); should not make it this far!\"\n",
    "except InstantiationFailure as the_error:\n",
    "    print(\"Proof Failure (Type Error): {}\".format(the_error))"
   ]
  },
  {
   "cell_type": "code",
   "execution_count": 34,
   "metadata": {},
   "outputs": [
    {
     "data": {
      "text/html": [
       "<span style=\"font-size:20px;\"><a class=\"ProveItLink\" href=\"../__pv_it/demonstrations/db6adddf22e63f824dbf5e4d2b05d9b6ef9ac8490/expr.ipynb\"><img src=\"data:image/png;base64,iVBORw0KGgoAAAANSUhEUgAAADEAAAAOBAMAAAB0nulXAAAAMFBMVEX////MzMwyMjKqqqoiIiJm\n",
       "ZmaYmJju7u5EREQQEBC6urqIiIh2dnZUVFTc3NwAAAAqL9KcAAAAAXRSTlMAQObYZgAAAAlwSFlz\n",
       "AAAOxAAADsQBlSsOGwAAAJpJREFUGNNjYMAC+EI1BBiwghcMPL+wy9xjYJiJXWZ+AcP9B1hlrjAw\n",
       "3AdaxHdn3wZMSX8gXvmA4zuIHeICAr4QCcbfDAzs0xhYHTC0sFxgYGD9wMByAEMmAog5GxjqF6BL\n",
       "sAG1MNRvYMhnQLfHhoHvAUO9AcMlZjTHMx5g4C5g4NjA7MqKZtiT0NAQoNtuH3y7Ed0z//9/YgAA\n",
       "2Woouym+QH8AAAAASUVORK5CYII=\n",
       "\" style=\"display:inline;vertical-align:middle;\" /></a> <a class=\"ProveItLink\" href=\"../__pv_it/demonstrations/cec0b150718f5d252d4be4e1368a33aac79419210/proof.ipynb\" style=\"text-decoration: none\">&nbsp;&#x22A2;&nbsp;&nbsp;</a><a class=\"ProveItLink\" href=\"../__pv_it/demonstrations/ef2d276946017cf20bb785a4d9734a1c0093ed560/expr.ipynb\"><img src=\"data:image/png;base64,iVBORw0KGgoAAAANSUhEUgAAAGkAAAAVBAMAAAC3TN2zAAAAMFBMVEX////MzMwyMjKqqqoiIiJm\n",
       "ZmaYmJju7u5EREQQEBC6urqIiIh2dnZUVFTc3NwAAAAqL9KcAAAAAXRSTlMAQObYZgAAAAlwSFlz\n",
       "AAAOxAAADsQBlSsOGwAAAaFJREFUOMtjYMAG2Fcx4AJ8djilNi3HKcUg245Dgvk7kGB0h5keqiEA\n",
       "Yb052gUke3Ho4nFgYKgN+g7lvWDg+QVxdwCDvQEDwxE8uhi4YbruMTDMBDO4PzPUK2Do2uHiooBF\n",
       "1/wChvsPQAyuWQz8GLoWbcdu1xUGhvtQjzHYJ0B18d3ZtwFMq+NwIRD4Q2kuNwaorpUPOMDyTA/g\n",
       "ilgVUHUx/obSey8CyZ2ggJnGwOoA1oUw+mUCqi6WCzAWKAzfAzHrBwaWAyABSRcgaACx3moxoOqK\n",
       "gLM4gYLslwwYOBsY6heABCoQDoooQNHFBrWKUYCB4zPQ10BD6zcw5EOcgXAhxwUUXTYMfGA/838H\n",
       "67IHmllvwHCJGSTIvQEzDNnBVhxg4C4AsTgvgF14EmTuBmZXVrBaZVRdPP8YwEmB4UloaAiYxZYA\n",
       "jy/22wffbgSrre0qQNLFe/PTNQYWUAr2////E4S1NLSLASNFrWlBTlFgYM6AycKbesHgAAMmC5cu\n",
       "7gmwPA0PIQSLIQhXLv8M044wCFE6TMOVy59exl1unAUmKACsUXEMvbVsVQAAAABJRU5ErkJggg==\n",
       "\" style=\"display:inline;vertical-align:middle;\" /></a></span>"
      ],
      "text/plain": [
       "{a = 2} |- a in {1, 2, 3}"
      ]
     },
     "execution_count": 34,
     "metadata": {},
     "output_type": "execute_result"
    }
   ],
   "source": [
    "InSet(a, Set(one, two, three)).conclude(assumptions=[Equals(a, two)])"
   ]
  },
  {
   "cell_type": "code",
   "execution_count": 35,
   "metadata": {},
   "outputs": [
    {
     "data": {
      "text/html": [
       "<span style=\"font-size:20px;\"><a class=\"ProveItLink\" href=\"../__pv_it/demonstrations/d6a4314cf75e6efd613a15ef0abc15c1d93363080/expr.ipynb\"><img src=\"data:image/png;base64,iVBORw0KGgoAAAANSUhEUgAAADIAAAAOBAMAAACfqVJUAAAAMFBMVEX////MzMwyMjKqqqoiIiJm\n",
       "ZmaYmJju7u5EREQQEBC6urqIiIh2dnZUVFTc3NwAAAAqL9KcAAAAAXRSTlMAQObYZgAAAAlwSFlz\n",
       "AAAOxAAADsQBlSsOGwAAAJxJREFUGNNjYMAOhKYy4AKfcUlwfcclw+OAS4YpgIGB786+Dejib0/L\n",
       "GzAwrHzAATYzxAUEfMGWzGPoL2Bgn8bAim5mZQJDEAMD6wcGlgNoMvEMDD4MDJwNDPUL0GRmMLD/\n",
       "YmCo38CQz4BqD/tvBrYPQBkDhkvMD1C0sH9m4FWwY+DYwOzKimZaN4NJQAAD++2DbzeiydTukbst\n",
       "AAAU1iaq54z8bwAAAABJRU5ErkJggg==\n",
       "\" style=\"display:inline;vertical-align:middle;\" /></a> <a class=\"ProveItLink\" href=\"../__pv_it/demonstrations/a84fdd6684baa638fefbe513fcc48a7959e2d99f0/proof.ipynb\" style=\"text-decoration: none\">&nbsp;&#x22A2;&nbsp;&nbsp;</a><a class=\"ProveItLink\" href=\"../__pv_it/demonstrations/b486f98e438f850941137008dead310c97505f6b0/expr.ipynb\"><img src=\"data:image/png;base64,iVBORw0KGgoAAAANSUhEUgAAAGcAAAAVBAMAAACphe0AAAAAMFBMVEX////MzMwyMjKqqqoiIiJm\n",
       "ZmaYmJju7u5EREQQEBC6urqIiIh2dnZUVFTc3NwAAAAqL9KcAAAAAXRSTlMAQObYZgAAAAlwSFlz\n",
       "AAAOxAAADsQBlSsOGwAAAbFJREFUOMt9VD1Iw0AU/rTG63+L4Kh2rigZBDctEtHBoTi4STu5mlVB\n",
       "0kEQkeKixUm6iZNxUUQRBQdFXeoi2KGIa6noENDFd5e0SducD8J9dx/fe+/eeznAz9bLkFh8SsZE\n",
       "0rqMwtCWhJjWwbYzPsTAPlCUiO7o6836Md82KRMlVB8ibHWKIpvajCs68btWNNMhCo/q3ki+WfCc\n",
       "BRGvXpt8fdfb0hu7fHF2j2dJG9QfR1RHdFwLWnwddx0uAuxLN2pi86EqBTuVQ+yS4wuCrARFVDfl\n",
       "NrAEBCyERAJYaIK1PPeGBkVTPtF3Q7hnT9O0eaGp0DwoKST4MRSr6SvHHVCUiopQAQYfGlZoRRqk\n",
       "ppOjE1H0UOv8AOyHVzANGCZWxZlnAoqiTTlRGcN0Dtkv+j/tcYGhohLgV75sa24iSZdlvMl5oMwB\n",
       "+0YsReP6QDhoBmYV0QPVK4rlg1kYVBwqXTTJAXYwkXX6xN5u66ci/OuRR8SqS3SxOdo8rZzbYONq\n",
       "+C3Z2fXwvXeMhE12gf8HVthNF5CLLpoFMzuBPS6+1nBqEmn9AC5HRZU8BMuq9I14JuoPNjFrEHq2\n",
       "gq8AAAAASUVORK5CYII=\n",
       "\" style=\"display:inline;vertical-align:middle;\" /></a></span>"
      ],
      "text/plain": [
       "{a = d} |- a in {b, c, d}"
      ]
     },
     "execution_count": 35,
     "metadata": {},
     "output_type": "execute_result"
    }
   ],
   "source": [
    "InSet(a, Set(b, c, d)).conclude(assumptions=[Equals(a, d)])"
   ]
  },
  {
   "cell_type": "code",
   "execution_count": 36,
   "metadata": {},
   "outputs": [
    {
     "name": "stdout",
     "output_type": "stream",
     "text": [
      "InstantiationFailure: Proof step failed assuming {b in {2, 3}}:\n",
      "Attempting to instantiate |- forall_{n in Natural} [forall_{x, y_{1}, y_{2}, ..., y_{n} | (x = y_{1}) or  (x = y_{2}) or  ... or  (x = y_{n})} (x in {y_{1}, y_{2}, ..., y_{n}})] with {n: 3, x: b, y: (1, 2, 3)}:\n",
      "Unsatisfied condition: (b = 1) or (b = 2) or (b = 3)\n"
     ]
    }
   ],
   "source": [
    "# Notice we can't generally use the InSet.conclude() to deduce the membership claim\n",
    "# based on a sub-set membership claim\n",
    "try:\n",
    "    InSet(b, Set(one, two, three)).conclude(assumptions=[InSet(b, Set(two, three))])\n",
    "    assert False, \"Expecting a failure (TypeError) here; should not make it this far!\"\n",
    "except InstantiationFailure as the_error:\n",
    "    print(\"InstantiationFailure: {}\".format(the_error))"
   ]
  },
  {
   "cell_type": "code",
   "execution_count": 37,
   "metadata": {},
   "outputs": [
    {
     "data": {
      "text/html": [
       "<span style=\"font-size:20px;\"><a class=\"ProveItLink\" href=\"../__pv_it/demonstrations/c5fd662597ebb05886f2b20b8617c568f37d42070/expr.ipynb\"><img src=\"data:image/png;base64,iVBORw0KGgoAAAANSUhEUgAAADMAAAAQBAMAAABJt1qBAAAAMFBMVEX////MzMwyMjKqqqoiIiJm\n",
       "ZmaYmJju7u5EREQQEBC6urqIiIh2dnZUVFTc3NwAAAAqL9KcAAAAAXRSTlMAQObYZgAAAAlwSFlz\n",
       "AAAOxAAADsQBlSsOGwAAAN5JREFUGNNjYMAAJT+aChhO/lzAgAU0c11gYP+ATYbhyoNjDAwTsEpd\n",
       "bmB6wOCAIrTDxUUBRN/L5lNAlVq0Hcq4xyuwByzFd2ffBpAAnzpMzT2GBo4FIKmVDzi+gwSA5sOl\n",
       "RNndgVLs0xhYweYyMSCk2AwsgC5k/cDAcgAkIOkCBA0QKYbrvEApzgaGerDHK5B0MdSyA02q38CQ\n",
       "DxZgQZZi3ADUX2/AcIkZ5ALuDTCpRiDeCJTi2MDsygoWUYZJgRisQM+z3z74diNYpLarAEwL/QTq\n",
       "YFdACag1LS7IAgCEuzrfdn2YkQAAAABJRU5ErkJggg==\n",
       "\" style=\"display:inline;vertical-align:middle;\" /></a> <a class=\"ProveItLink\" href=\"../__pv_it/demonstrations/aab849b0a1204fbc3f154cdd5a92bc4bef52a1160/proof.ipynb\" style=\"text-decoration: none\">&nbsp;&#x22A2;&nbsp;&nbsp;</a><a class=\"ProveItLink\" href=\"../__pv_it/demonstrations/1a96420871f93ded42ef7a1f6e9802732bc1eec20/expr.ipynb\"><img src=\"data:image/png;base64,iVBORw0KGgoAAAANSUhEUgAAADIAAAAQBAMAAACmdTG/AAAAMFBMVEX////MzMwyMjKqqqoiIiJm\n",
       "ZmaYmJju7u5EREQQEBC6urqIiIh2dnZUVFTc3NwAAAAqL9KcAAAAAXRSTlMAQObYZgAAAAlwSFlz\n",
       "AAAOxAAADsQBlSsOGwAAAN5JREFUGNNjYMAAzJo/NVw6EzAlGLh7BRgUmLBIMLAGMHAnHMYmw/uA\n",
       "oYK9AcWUFhcnEM3OwBDIK4AkwaVdAGMyXhAFUXx39m0A0Y/gEgwcBe0gauUDju8gWg+h3YYNpJZ9\n",
       "GgOrA4irgJCBuJn1AwPLAZDZU1xcXDwgTjE4xcBQwMDZwFC/AKQX4c4KPiD7HkP9BoZ8MN8BLnMR\n",
       "6CP2Dwz1BgyXmB8A+bvhbg5YCvSuAwPHBmZXVpAAkwHczeoMfM0NDOy3D77dCPb6jeUQmZVNMzrm\n",
       "zziAHAgnIKEDBQC4NTJlmjuxlwAAAABJRU5ErkJggg==\n",
       "\" style=\"display:inline;vertical-align:middle;\" /></a></span>"
      ],
      "text/plain": [
       "{a in Natural} |- a in Integer"
      ]
     },
     "execution_count": 37,
     "metadata": {},
     "output_type": "execute_result"
    }
   ],
   "source": [
    "# But there are a number of standard set memberships that can be deduced\n",
    "# based on subset memberships\n",
    "InSet(a, Integer).conclude(assumptions=[InSet(a, Natural)])"
   ]
  },
  {
   "cell_type": "code",
   "execution_count": 38,
   "metadata": {},
   "outputs": [
    {
     "data": {
      "text/html": [
       "<span style=\"font-size:20px;\"><a class=\"ProveItLink\" href=\"../__pv_it/demonstrations/958ae704e16504ef965a9f88e3b43fa3f23f98830/expr.ipynb\"><img src=\"data:image/png;base64,iVBORw0KGgoAAAANSUhEUgAAADEAAAAOBAMAAAB0nulXAAAAMFBMVEX////MzMwyMjKqqqoiIiJm\n",
       "ZmaYmJju7u5EREQQEBC6urqIiIh2dnZUVFTc3NwAAAAqL9KcAAAAAXRSTlMAQObYZgAAAAlwSFlz\n",
       "AAAOxAAADsQBlSsOGwAAAJJJREFUGNNjYMAC+M5ELGDACkoZmD9jl9lvwP4Ju8zKBQw4ZBgYmL+B\n",
       "rLuzbwOGzJIEkNYHHN9BnBAXEPAFS0jfFWBgYJ/GwOqAaRrQbawfGFgOYFo0v4CBs4GhHt1bggwM\n",
       "/QYM9RsY8hnQ7PlfAJYxYLjE/ABVz1ywaRwbmF1Z0UxLA/uH/fbBtxvRZLhCgSEKAGcGKSAXpIOy\n",
       "AAAAAElFTkSuQmCC\n",
       "\" style=\"display:inline;vertical-align:middle;\" /></a> <a class=\"ProveItLink\" href=\"../__pv_it/demonstrations/a89790e063a47c8da299713dd2180a6570d8732e0/proof.ipynb\" style=\"text-decoration: none\">&nbsp;&#x22A2;&nbsp;&nbsp;</a><a class=\"ProveItLink\" href=\"../__pv_it/demonstrations/e52f5a8e9625608ba30d47e11ccb851908b362960/expr.ipynb\"><img src=\"data:image/png;base64,iVBORw0KGgoAAAANSUhEUgAAAI0AAAAVBAMAAACJRXC4AAAAMFBMVEX////MzMwyMjKqqqoiIiJm\n",
       "ZmaYmJju7u5EREQQEBC6urqIiIh2dnZUVFTc3NwAAAAqL9KcAAAAAXRSTlMAQObYZgAAAAlwSFlz\n",
       "AAAOxAAADsQBlSsOGwAAAZhJREFUOMtjYMAG2FcxEA/47HBKbVpOgjkMsu04JJi/AwlGdxgXwcIQ\n",
       "eXO0C0j24jCHx4GBoTboO5SHYDGgi7AHMNgbMDAcwWMOAzdcN5zFlYAmwv2ZoV4Bw5wdLi4KeM1h\n",
       "3oAmwjWLgR/DnEXbCbkHwxwgsE+AmsN3Zx9Ymk+dgQxzuNwYoOasfMABFmV6ADeHVYFYcxj3XgSS\n",
       "O0FBPo2B1QFsDsKHLxNI8Bcwvt4DMesHBpYDIAFJFyBoALHeajFgMYfVxcVziovLBTRzOIFM9ksG\n",
       "DJwNDPULQAIViFQWUUCkexgFGDg+A8MTaHH9BoZ8sBgLwl8cF4g0h/872Bx7oL31BgyXmEFBzL0B\n",
       "M77Y8ZgDkuO8APbXSZDdG5hdWcGSyqjm8PxjACdWCAvVHJgcWwI8/bDfPvh2IyTXdBUgmcN789M1\n",
       "BhZQfgSzUMxByC0N7WLAyBdrWpDzBRiYo5YDG5B5CDm8+RQMDqCIw/Mpmhwuc7gnwMrFDbhLLyS5\n",
       "IFwl5WeYgXhKQYQcMEvgAE8vk1I+nwVmCwCAUYiitOJ1lAAAAABJRU5ErkJggg==\n",
       "\" style=\"display:inline;vertical-align:middle;\" /></a></span>"
      ],
      "text/plain": [
       "{a = 3} |- a in {1, 1 + 1, 3}"
      ]
     },
     "execution_count": 38,
     "metadata": {},
     "output_type": "execute_result"
    }
   ],
   "source": [
    "# Verify that the conclude() method is not automatically simplifying aspects of the\n",
    "# of set elements\n",
    "InSet(a, Set(one, Add(one, one), three)).conclude(assumptions=[Equals(a, three)])"
   ]
  },
  {
   "cell_type": "code",
   "execution_count": 39,
   "metadata": {},
   "outputs": [
    {
     "data": {
      "text/html": [
       "<span style=\"font-size:20px;\"><a class=\"ProveItLink\" href=\"../__pv_it/demonstrations/db6adddf22e63f824dbf5e4d2b05d9b6ef9ac8490/expr.ipynb\"><img src=\"data:image/png;base64,iVBORw0KGgoAAAANSUhEUgAAADEAAAAOBAMAAAB0nulXAAAAMFBMVEX////MzMwyMjKqqqoiIiJm\n",
       "ZmaYmJju7u5EREQQEBC6urqIiIh2dnZUVFTc3NwAAAAqL9KcAAAAAXRSTlMAQObYZgAAAAlwSFlz\n",
       "AAAOxAAADsQBlSsOGwAAAJpJREFUGNNjYMAC+EI1BBiwghcMPL+wy9xjYJiJXWZ+AcP9B1hlrjAw\n",
       "3AdaxHdn3wZMSX8gXvmA4zuIHeICAr4QCcbfDAzs0xhYHTC0sFxgYGD9wMByAEMmAog5GxjqF6BL\n",
       "sAG1MNRvYMhnQLfHhoHvAUO9AcMlZjTHMx5g4C5g4NjA7MqKZtiT0NAQoNtuH3y7Ed0z//9/YgAA\n",
       "2Woouym+QH8AAAAASUVORK5CYII=\n",
       "\" style=\"display:inline;vertical-align:middle;\" /></a> <a class=\"ProveItLink\" href=\"../__pv_it/demonstrations/98d7fbf6e9afec579165a21e14c53a38fcdf2d440/proof.ipynb\" style=\"text-decoration: none\">&nbsp;&#x22A2;&nbsp;&nbsp;</a><a class=\"ProveItLink\" href=\"../__pv_it/demonstrations/c14a3f1ce8ce73e6027b33479c39575c8f8e6e2c0/expr.ipynb\"><img src=\"data:image/png;base64,iVBORw0KGgoAAAANSUhEUgAAAIIAAAAVBAMAAAB4Tis1AAAAMFBMVEX////MzMwyMjKqqqoiIiJm\n",
       "ZmaYmJju7u5EREQQEBC6urqIiIh2dnZUVFTc3NwAAAAqL9KcAAAAAXRSTlMAQObYZgAAAAlwSFlz\n",
       "AAAOxAAADsQBlSsOGwAAAcFJREFUOMtjYMAGqhYwEAUeP8Ahwa1VQJwJjDdwKLQHiYvAJREsBr5Q\n",
       "DQEo60wE0KEcF7CbcISBgf2qPlQfggUELxh4fkFYpQzMnxkYeBxwmsDAsB+uD8FiuMfAMBMqaMD+\n",
       "Cd0E7hYXJ0ImzC9guA8JvZULGNBN4NIuIOyGKwwM96EBwcD8DWoC3519G0ACjwqI8AUQ+MMYSxKg\n",
       "Jqx8wPEdJKCHUBSExwTG31CG9F2gY7gnAIN6GgMr2DMKiCibhscEFnj8geKCD4hZPzCwHACZPcXF\n",
       "xcUDbMClBdhMqIdYEcGAHKwMtcoMnA0M9SAd7A1wGdF2bCawBIBINpgTBBkY+g0YGA4tYKjfwJAP\n",
       "FkKKl17cvrBh4IPE5v8CkAnMwCCsN2C4xAwS3I0lRRWgm8B4gIG7gB3Emgv2BQ8wJDk2MLuygoSY\n",
       "DFBNOP+AAZTqICwYeBIaGgIJkTR4emC/ffDtRnD6v7Ec2YS783UTGFwKYCxYYvj//xMDizsoAYaC\n",
       "chZqquY6gZKqwRGGPfOaw1l4cxZYAXb5AwRN2AljVGOVZt8AZ7IqYDfhPSxQN2AvwhDMygTsJvDF\n",
       "GhBXyr25zMAAAFnUi1c31JW/AAAAAElFTkSuQmCC\n",
       "\" style=\"display:inline;vertical-align:middle;\" /></a></span>"
      ],
      "text/plain": [
       "{a = 2} |- a in {1, 1 * 2, 3}"
      ]
     },
     "execution_count": 39,
     "metadata": {},
     "output_type": "execute_result"
    }
   ],
   "source": [
    "# Verify that the conclude() method is not automatically simplifying aspects of the\n",
    "# of set elements, even when checking for equalities\n",
    "InSet(a, Set(one, Mult(one, two), three)).conclude(assumptions=[Equals(a, two)])"
   ]
  },
  {
   "cell_type": "markdown",
   "metadata": {},
   "source": [
    "### `InSet.evaluation()`"
   ]
  },
  {
   "cell_type": "code",
   "execution_count": 40,
   "metadata": {},
   "outputs": [
    {
     "data": {
      "text/html": [
       "<span style=\"font-size:20px;\"> <a class=\"ProveItLink\" href=\"../__pv_it/demonstrations/1da8e1d69de851f80d6b2d2c5630cda9c07999a30/proof.ipynb\" style=\"text-decoration: none\">&nbsp;&#x22A2;&nbsp;&nbsp;</a><a class=\"ProveItLink\" href=\"../__pv_it/demonstrations/bc58a4bc1a114a2d6f8a9973f4d7413cbb8ae2180/expr.ipynb\"><img src=\"data:image/png;base64,iVBORw0KGgoAAAANSUhEUgAAAKMAAAAVBAMAAADY0UPbAAAAMFBMVEX////MzMxUVFRERES6uroi\n",
       "IiIQEBCYmJhmZmYyMjLu7u52dnaqqqqIiIjc3NwAAACW8nlqAAAAAXRSTlMAQObYZgAAAAlwSFlz\n",
       "AAAOxAAADsQBlSsOGwAAAipJREFUOMtjYGB4wIANLHFgwAXegHTwMeAGvAewik5ZgFMHozJQjuUC\n",
       "biNPgwgJdNHzIBNF4cYyNkBovt3NQNczKwCZ19G1cISCgQID1wQQNwhdfisDA5fGfLiRrAoQegUD\n",
       "zx8GBu4AIJMTizd4wE7nKAB5E5uRDAz34bquQo28f4DrJ9RI9gZcRrKBCPFJ0BA0DY3EZiRjJdRI\n",
       "NwcGmJEMWbiMPAkiNkCMZJm7ALsruTkV4Lq+w4ycjsvIbpDjHkCMfLkAh8fvIYx0LYAZuQmXkSC7\n",
       "njNAjJyHkOxENpKvAG6krJIA0AkJIGYlSjQjGRkD8jfUyAlwE/nSkY3kZkDyODDG+f6AWMdwuTIF\n",
       "GHcPIEYypgLtCwabqOmAbGQdkpEM+UDBRXOADHk8Rr5lgBjJZQCXk7BCMpLvAtxIQQYGe2Bu2wmy\n",
       "0Q2XkUCPOykpfdMGsQMQkkZIRrIoKeknbQAz/y8AGcnzC8Q+iissbcHsJDB5F0tSh5jKBsxmUHVA\n",
       "j3ODo6cYlyshSeEzmOQ8gGrk/gcMoMwCBPwGDOtBkVeOlC67cRkpCiKa/+uCA1PZC9lIpfxJBQyh\n",
       "IGdy2H+6wBoFCoMOULEBMTIE00iWAnCBIIAstBklQ4Ithif/U3BlYCP5AnCVbdhyP7KR3HChDahG\n",
       "gssb7MAOq+g1GGMtjMGFKHM5QMH6GHcRvBir6HtYTMEN4kVILivA6RRYQsYm2nQAp47XOuCiBpc0\n",
       "AGEfmL1bm4jvAAAAAElFTkSuQmCC\n",
       "\" style=\"display:inline;vertical-align:middle;\" /></a></span>"
      ],
      "text/plain": [
       "|- (4 in {1, 4, 3}) = TRUE"
      ]
     },
     "execution_count": 40,
     "metadata": {},
     "output_type": "execute_result"
    }
   ],
   "source": [
    "InSet(four, Set(one, four, three)).evaluation()"
   ]
  },
  {
   "cell_type": "markdown",
   "metadata": {},
   "source": [
    "### `InSet.shallow_simplification()`"
   ]
  },
  {
   "cell_type": "code",
   "execution_count": 41,
   "metadata": {},
   "outputs": [
    {
     "data": {
      "text/html": [
       "<span style=\"font-size:20px;\"> <a class=\"ProveItLink\" href=\"../__pv_it/demonstrations/8dede7de95afb30cebcb787a1f522b0dc743f2900/proof.ipynb\" style=\"text-decoration: none\">&nbsp;&#x22A2;&nbsp;&nbsp;</a><a class=\"ProveItLink\" href=\"../__pv_it/demonstrations/7d5cfbd61af2f78a813cdbb1a27c944fa96980560/expr.ipynb\"><img src=\"data:image/png;base64,iVBORw0KGgoAAAANSUhEUgAAAVMAAAAVBAMAAAAJExCCAAAAMFBMVEX////MzMxUVFRERES6uroi\n",
       "IiIQEBCYmJhmZmYyMjLu7u52dnaqqqqIiIjc3NwAAACW8nlqAAAAAXRSTlMAQObYZgAAAAlwSFlz\n",
       "AAAOxAAADsQBlSsOGwAAAxtJREFUSMeVl0toE0EYx7/YbfPYB/UQ7EUMKfjACkXwIqhBtIWCENQV\n",
       "LB5CsQpeuuBBvYlBtPQSSkEQH0sV8SIGxYN4aC4KKsWcFA9qUHyhoiAoKcW6M7OPmdkvu9mFbv47\n",
       "8+X3/Tvf7MwEAFqAXTdL0P31nTAMrAeF5/ZAUjjl6A2sX5+zE9BSg0600kQwKPz1GCSF7yPqObkN\n",
       "yP0viNO8bzcvGTceVUu86ik48lU4DQrXlgRkahzi4brlFKNG2vbLOR44PRuvu7RAeddt0JZ5pZYd\n",
       "mQ0VAoeT4AA5P70EXcAvA2QsUifMKsA7P7evRt3nRq7NK0pLn5UpOJwGB0jds6pYEfDTAH2kac2s\n",
       "+61t5uFoq4vsY6QEbV6x7Cdkqzi8k1WtGQHvs+EpaaozmnLVjhvVRX/C/eUVy35JtorD46yi8KwF\n",
       "MyS4xWhfbeja6l6LVyz7PdkqDo+3isDVAh2Jz8Bo14Ik0zFW1xb7eaVXiDxD56dJr4I3zGF4phZj\n",
       "FYOna3CElMil1YL14njsBFjmlUGfnsijisM/WbETIAzXKnDUMdxitNSkMxoHqNNNJczqedM8Zpru\n",
       "Cz3ldxI1f8UR62SrKPz9HCBWnWIcmnSLgcFTvwjtBzBabtjPMbA9elRXA+xq8Ooh+d9GEKtheKpq\n",
       "R48qClcqpEa7i8U/m0lPOUiyNdrqiu3RmGIb0GN5ruJwurVFWEXhWhl20LYJen+DbAE2anWCVCbn\n",
       "K1Dpa3VSHlUcHqwANmoVhaeH3QXmN71nG6LVhRa4+8ZCS7R6iix4d2uecrPPyFZxOAv24eo/ySoK\n",
       "z9QhTzqrK1vofBoc460Wp2YtMG1P8VaVi845onfcU272g7JVHE6Dffiq9e0NolUU3us09XNo5b6w\n",
       "sdLvi2eQRf7hmVhToyxbxeFqGYdrzQj4R+yMIVpVxfZR/qEu0jKWTMHhgVURrlgR8AvO307U6ktP\n",
       "3Ol85s01xQ3oQzgEhbOtLRncIGvdDTTyp/cSNDvT9EDesnBfKNzw96Lu4T30JxEab5xrJPhN8W2I\n",
       "nksQDAr/MgRJ4W8B/gNGM18ZDSb+zAAAAABJRU5ErkJggg==\n",
       "\" style=\"display:inline;vertical-align:middle;\" /></a></span>"
      ],
      "text/plain": [
       "|- (4 in {1, 1 + 3, 3}) = (4 in {1, 1 + 3, 3})"
      ]
     },
     "execution_count": 41,
     "metadata": {},
     "output_type": "execute_result"
    }
   ],
   "source": [
    "# A simple membership claim can be deduced using shallow_simplification\n",
    "# Notice we can evaluate 1+3 to find it equals 4, but we leave the 1+3\n",
    "# (Works with/without must_evaluate=True)\n",
    "InSet(four, Set(one, Add(one, three), three)).shallow_simplification()"
   ]
  },
  {
   "cell_type": "code",
   "execution_count": 42,
   "metadata": {},
   "outputs": [
    {
     "data": {
      "text/html": [
       "<span style=\"font-size:20px;\"> <a class=\"ProveItLink\" href=\"../__pv_it/demonstrations/f9de9ac43977be2b8ce0daa9fff5d1216caa1f380/proof.ipynb\" style=\"text-decoration: none\">&nbsp;&#x22A2;&nbsp;&nbsp;</a><a class=\"ProveItLink\" href=\"../__pv_it/demonstrations/f323c4d2654dc0c290406030fe0ddd7906763a020/expr.ipynb\"><img src=\"data:image/png;base64,iVBORw0KGgoAAAANSUhEUgAAAMYAAAAVBAMAAADvH4zvAAAAMFBMVEX////MzMxUVFRERES6uroi\n",
       "IiIQEBCYmJhmZmYyMjLu7u52dnaqqqqIiIjc3NwAAACW8nlqAAAAAXRSTlMAQObYZgAAAAlwSFlz\n",
       "AAAOxAAADsQBlSsOGwAAAkFJREFUSMdjYGB4wIANLHFgIB68AZnBh1ue9wBW0SkLSLCDURmomuUC\n",
       "TvnTDAwvOg3RRc+DrBCF2yOKZiPf7mYHZBazApB5HYvp7iCCawIDnwHDfvSQ2QqU0ZgPNRnBgoEV\n",
       "DDx/kFncAUAmJxavnwURHAUMTA8Y2BIw7WBguA/XBGe5Q/kHuH4is8B2sDfgsIMNiH4xMP2DxIJp\n",
       "aCR+O85CKDcHhp/ILLAdDFk47DjJwMAUwMD0EcRmmbuAkD/OwkR4viOzIHZMx2FHN5jJ+gFEvlzA\n",
       "QLQdrgXILIgdm3DYAbFbHpzu5iHkOgnYIaskgMziBcdnJTiCQ8FAAUl9DJgZBCYnINJmOsGw+oPM\n",
       "4gPzjuHwRwrYbgNwTkoF2h8MtkLTAZsdraGhaaGhEPcw5MMlQaxFc0Chgc+OIkg2MIBLSVjh94cg\n",
       "A4P9AWTWTpCj3HDYAQorng0M70DsAIScEX47/i+A2QFh8fwCsY/iiA9bIJZmYLgFYt/FkgcXYLUj\n",
       "CRRCXHAWAzc4zotx+AOY3vgiOjrAXuA8gGrH/gcM0Oy8/wGqHeWgXLF+AowFTbvdOOwQBWaO////\n",
       "g5MUl7IXsh1K+ZMKGEIXwFjIdrB0AEtC1igYC2pHCJoFsDTCKoAkyLIZpSwBp8wFmO6CgVNwFtgO\n",
       "vgAcRTu2ggzZDm4sZTUMbEC1g6MAV/1hh1X0GoyxFnfNxIWolDhAYf0Yp8rFWEXfw6L/Ap4aFMFc\n",
       "VoDTteA8jdUUvqYDJNS1r3VAVj7AIQsAG8rFqMqLIzEAAAAASUVORK5CYII=\n",
       "\" style=\"display:inline;vertical-align:middle;\" /></a></span>"
      ],
      "text/plain": [
       "|- (2 in {1, 1 + 3, 3}) = FALSE"
      ]
     },
     "execution_count": 42,
     "metadata": {},
     "output_type": "execute_result"
    }
   ],
   "source": [
    "# And we should be able to shallow_evaluate a False claim\n",
    "InSet(two, Set(one, Add(one, three), three)).shallow_simplification(must_evaluate=True)"
   ]
  },
  {
   "cell_type": "code",
   "execution_count": 43,
   "metadata": {},
   "outputs": [
    {
     "name": "stdout",
     "output_type": "stream",
     "text": [
      "EvaluationError: Evaluation of (a = 1) or (a = (1 + 3)) or (a = 3) under assumptions () is not known\n"
     ]
    }
   ],
   "source": [
    "# We should not be able to shallow_evaluate a claim of unknown verity\n",
    "try:\n",
    "    InSet(a, Set(one, Add(one, three), three)).shallow_simplification(must_evaluate=True)\n",
    "    assert False, \"Expecting an EvaluationError; should not make it this far!\"\n",
    "except EvaluationError as the_error:\n",
    "    print(\"EvaluationError: {}\".format(the_error))"
   ]
  },
  {
   "cell_type": "code",
   "execution_count": 44,
   "metadata": {},
   "outputs": [
    {
     "data": {
      "text/html": [
       "<span style=\"font-size:20px;\"><a class=\"ProveItLink\" href=\"../__pv_it/demonstrations/167a96dfd8a9b08073a5528ee3a18b59c03f70e30/expr.ipynb\"><img src=\"data:image/png;base64,iVBORw0KGgoAAAANSUhEUgAAADEAAAAOBAMAAAB0nulXAAAAMFBMVEX////MzMwyMjKqqqoiIiJm\n",
       "ZmaYmJju7u5EREQQEBC6urqIiIh2dnZUVFTc3NwAAAAqL9KcAAAAAXRSTlMAQObYZgAAAAlwSFlz\n",
       "AAAOxAAADsQBlSsOGwAAAIpJREFUGNNjYMAKGAMYcACWC7hktuCSYUzCJcPDBJLhu7NvA7rMPrDM\n",
       "ygcc30G8EBcQ8AUx+RJAMuzTGFgd0A1jAMmwfmBgOYAmkweW4WxgqF+AKsG3ASxTv4EhnwHVHq67\n",
       "d+/PPcBQb8BwifkBuuM4gXo4NjC7smJ4iL8B6LbbB99uRJdg7f+7AQBV2yg3Z1m/lQAAAABJRU5E\n",
       "rkJggg==\n",
       "\" style=\"display:inline;vertical-align:middle;\" /></a> <a class=\"ProveItLink\" href=\"../__pv_it/demonstrations/1413b0081783facd5321b3d02b5d7b711f993f9c0/proof.ipynb\" style=\"text-decoration: none\">&nbsp;&#x22A2;&nbsp;&nbsp;</a><a class=\"ProveItLink\" href=\"../__pv_it/demonstrations/df5648cd887fb5db1928a69a72adc465c70464380/expr.ipynb\"><img src=\"data:image/png;base64,iVBORw0KGgoAAAANSUhEUgAAAMcAAAAVBAMAAAAA3efRAAAAMFBMVEX////MzMxUVFRERES6uroi\n",
       "IiIQEBCYmJhmZmYyMjLu7u52dnaqqqqIiIjc3NwAAACW8nlqAAAAAXRSTlMAQObYZgAAAAlwSFlz\n",
       "AAAOxAAADsQBlSsOGwAAAmFJREFUSMdjYGB4wIANLHFgIB68AZnBh0cB7wGsolMWkGAJozJQNcsF\n",
       "3ApOYxU9D7JDFG6RKLqVr3eYQBh8u5uBfmZWADKvoxvCEQoGCgxcE7BaspWBgUtjPtRoBAsGuBoY\n",
       "zkNCYAUDzx8GBu4AIJMTi+d5wN7jKMBlCQPDfbguOMsdGpp/GNZDXHf/ANdPqCXsDbgsYUOJCdPQ\n",
       "SPyWnIVQLCkM/BBL3BwYYJYwZOGy5CSSCMvcBYR8chYRa7Ag4PkOs2Q6Lku6QZGnfQ/MfrmAgWhL\n",
       "WMJhLNcCmCWbcFkCst3tAfMvEHseQrKTgCWMlxShLFklAWA4J4CYlShJCsmSGGBSSWfgALsEkdD4\n",
       "0gkHFyx/gVIX3x8Q6xgun6QA7f7AwLoB5LpUoAuCwXZoOmCzpDU0NC00NAgixPYLJpkPlFw0B8iQ\n",
       "x2MJmwHDepChXAZwOQkr/D5hFGBgBjueQZCBwR7op50gA9xwWQIMrvUXGOrBIgEISSP8lvD/glny\n",
       "fwHIEh6wt47iihNboCUHGDR5QEXcXSyZcQFWS9gUQMEFEkwCBxc3OOKLcfkEmOyYL/BEcIDYnAdQ\n",
       "Ldn/gAGUnSEsFEvYC4D5BCxXjpRPunFZIgqMC92Njy6CSyRlL2RLlPInFTCELoCxUFKXRwewgATJ\n",
       "sXSACkiIJSGYlrCA9bEKIAttRilWwE5BLfXOojgTLge2hC8AV0mPrVRDtoQbVdwdmYOQA1uCo6wF\n",
       "ATusotdgjLV46iqEHAcoHz/GrXIxVtH3sDSAp7pDkltWgNO5kBIEqzF8TQdIqH5f64DqiQe4pAHF\n",
       "AMSQ2mbGQQAAAABJRU5ErkJggg==\n",
       "\" style=\"display:inline;vertical-align:middle;\" /></a></span>"
      ],
      "text/plain": [
       "{a = 4} |- (a in {1, 1 + 3, 3}) = TRUE"
      ]
     },
     "execution_count": 44,
     "metadata": {},
     "output_type": "execute_result"
    }
   ],
   "source": [
    "# But we should be able to shallow_evaluate with the appropriate assumption(s)\n",
    "InSet(a, Set(one, Add(one, three), three)).shallow_simplification(must_evaluate=True,\n",
    "                                                                  assumptions=[Equals(a, four)])"
   ]
  },
  {
   "cell_type": "code",
   "execution_count": 45,
   "metadata": {},
   "outputs": [
    {
     "data": {
      "text/html": [
       "<span style=\"font-size:20px;\"><a class=\"ProveItLink\" href=\"../__pv_it/demonstrations/db6adddf22e63f824dbf5e4d2b05d9b6ef9ac8490/expr.ipynb\"><img src=\"data:image/png;base64,iVBORw0KGgoAAAANSUhEUgAAADEAAAAOBAMAAAB0nulXAAAAMFBMVEX////MzMwyMjKqqqoiIiJm\n",
       "ZmaYmJju7u5EREQQEBC6urqIiIh2dnZUVFTc3NwAAAAqL9KcAAAAAXRSTlMAQObYZgAAAAlwSFlz\n",
       "AAAOxAAADsQBlSsOGwAAAJpJREFUGNNjYMAC+EI1BBiwghcMPL+wy9xjYJiJXWZ+AcP9B1hlrjAw\n",
       "3AdaxHdn3wZMSX8gXvmA4zuIHeICAr4QCcbfDAzs0xhYHTC0sFxgYGD9wMByAEMmAog5GxjqF6BL\n",
       "sAG1MNRvYMhnQLfHhoHvAUO9AcMlZjTHMx5g4C5g4NjA7MqKZtiT0NAQoNtuH3y7Ed0z//9/YgAA\n",
       "2Woouym+QH8AAAAASUVORK5CYII=\n",
       "\" style=\"display:inline;vertical-align:middle;\" /></a> <a class=\"ProveItLink\" href=\"../__pv_it/demonstrations/bf31df894e71e80e6e186d5e6713c8fe7384314d0/proof.ipynb\" style=\"text-decoration: none\">&nbsp;&#x22A2;&nbsp;&nbsp;</a><a class=\"ProveItLink\" href=\"../__pv_it/demonstrations/990137ef7ebe9bc697843c8d1dd7d629f6b93e1b0/expr.ipynb\"><img src=\"data:image/png;base64,iVBORw0KGgoAAAANSUhEUgAAAMcAAAAVBAMAAAAA3efRAAAAMFBMVEX////MzMxUVFRERES6uroi\n",
       "IiIQEBCYmJhmZmYyMjLu7u52dnaqqqqIiIjc3NwAAACW8nlqAAAAAXRSTlMAQObYZgAAAAlwSFlz\n",
       "AAAOxAAADsQBlSsOGwAAAmVJREFUSMdjYGB4wIANLHFgIB68AZnBh0cB7wGsolMWkGAJozJQNcsF\n",
       "3ApOYxU9D7JDFG6RKLqVr3eYQBh8u5uBfmZWADKvYzGHpQBEck3AaslWoIzGfKjRCBYMcDUwnIeE\n",
       "wAoGnj8MDNwBQCYnFs/zgL3HUYDLEgaG+3BdcJY7NDT/MKyHuO7+Aa6fUEvYG3BZwoYSE6ahkfgt\n",
       "OQsNhRQGfoglbg4MMEsYsnBZchI5AOcuIOSTs4hYgwUBz3eYJdNxWdINijzte2D2ywUMRFvCEg5j\n",
       "uRbALNmEyxKQ7W4PmH+B2PMQkp0ELGG8pAhlySoJAMM5AcSsBEdyKBgoIFsSA0wq6QwcYJcgEhpf\n",
       "OuHgguUvUOri+wNiHcPlkxSg3R8YWDeAXJcKdEEw2A5NB2yWtIaGpoWGBkGE2H7BJPOBkovmABny\n",
       "eCxhM2BYDzKUywAuJ2GF3yeMAgzMYMczCDIw2AP9tBNkgBsuS4DBtf4CQz1YJAAhaYTfEv5fMEv+\n",
       "LwBZwgP21lFccWILtOQAgyYPqIi7iyUzLsBqCZsCKLhAgkng4OIGR3wxLp8Akx3zBZ4IDhCb8wCq\n",
       "JfsfMICyM4SFYgl7ATCfgOXKkfJJNy5LRIFxobvx0UVwiaTshWyJUv6kAobQBTAWSury6AAWkCA5\n",
       "lg5QAQmxJATNBmDIhaWCQo5VADnLb0YpVsBOQS31zqI4Ey4HtoQvAFdJj61UQ7aEG1XcHZmDkANb\n",
       "gqOsBQE7rKLXYIy1eOoqhBwHKB8/xq1yMVbR97A0gKe6Q5JbVoDTuZASBKsxfE0HSKh+X+uA6okH\n",
       "uKQBNGTEoXcH2d0AAAAASUVORK5CYII=\n",
       "\" style=\"display:inline;vertical-align:middle;\" /></a></span>"
      ],
      "text/plain": [
       "{a = 2} |- (a in {1, 1 + 3, 3}) = FALSE"
      ]
     },
     "execution_count": 45,
     "metadata": {},
     "output_type": "execute_result"
    }
   ],
   "source": [
    "# But we should be able to shallow_evaluate with the appropriate assumption(s)\n",
    "InSet(a, Set(one, Add(one, three), three)).shallow_simplification(must_evaluate=True,\n",
    "                                                                  assumptions=[Equals(a, two)])"
   ]
  },
  {
   "cell_type": "markdown",
   "metadata": {},
   "source": [
    "### Testing the `NotInSet` class methods\n",
    "<br/>\n",
    "The `NotInSet` class currently has the following prover-related class methods:<br/>\n",
    "    <div style=\"width: 75%; border: 1px solid green; padding: 5px; margin: 20px; background-color: gainsboro; font-family:courier\">deduce_in_bool(self, **defaults_config)<br/>\n",
    "    unfold_not_in(self, **defaults_config)<br/>\n",
    "    conclude(self, **defaults_config)<br/>\n",
    "    conclude_as_folded(self, **defaults_config)<br/>\n",
    "    shallow_evaluation(self, **defaults_config)</div>\n",
    "</font>"
   ]
  },
  {
   "cell_type": "markdown",
   "metadata": {},
   "source": [
    "### `NotInSet.deduce_in_bool()`"
   ]
  },
  {
   "cell_type": "code",
   "execution_count": 46,
   "metadata": {},
   "outputs": [
    {
     "data": {
      "text/html": [
       "<span style=\"font-size:20px;\"> <a class=\"ProveItLink\" href=\"../__pv_it/demonstrations/d8f45d04afe22b39253ab14c0695a8acefeb23430/proof.ipynb\" style=\"text-decoration: none\">&nbsp;&#x22A2;&nbsp;&nbsp;</a><a class=\"ProveItLink\" href=\"../__pv_it/demonstrations/7bf65fe596ee6c7617f1a1cffb664a538ae0397c0/expr.ipynb\"><img src=\"data:image/png;base64,iVBORw0KGgoAAAANSUhEUgAAAJ8AAAAVCAMAAABv7sxsAAAARVBMVEX///8/Pz9vb28YGBgJCQkd\n",
       "HR0NDQ0WFhbMzMxUVFRERES6uroiIiIQEBCYmJhmZmYyMjLu7u52dnaqqqqIiIjc3NwAAACb3p1w\n",
       "AAAAAXRSTlMAQObYZgAAAAlwSFlzAAAOxAAADsQBlSsOGwAAApBJREFUSMedl9eW4yAMQNmOQPTy\n",
       "/5+6QIxNkZ3M8JIzMqCL+jBWVmIPa/nopGRfXymkm/s+WDE8fbVu2mul+wYf4yCOczK+w0ElbLYK\n",
       "4WWJ4M9LDHXx+FfInY7jypmMsYLPIu+NOOwt+kVRv3uMqI9I1jVAZ085wr7XTO70+HIyGJsXviTq\n",
       "9zxud6Y9KYxHN4/QfOUNPrF6pdGXYQk+ZARf3bzyQQsspUZPVTSX7XJUm4/4dGCV57yQazvzRYH4\n",
       "76/9kE81AeQh/qWq1tz4mHKbHkRL8BVZOOWeTXzSxnIN8I/t1z5B5osxQtYrn9WbHsJ+kHTJDNOz\n",
       "I6aJL7UocZZ9yneEQ14EEvV6lPlNz54frkSbH96Syu/IZ5uf9FIMjH3m43k+wCN0D8QrMrVd9Wx8\n",
       "aFVGU1Rg6N5d+KhUS0o/8xEZ1vM35bPMBrXqofwbtSzq1asg6DTzcVVj9s9vRHHRgZXskc8IQps6\n",
       "djqwoVt50VOXWPnqjz/4UnPLwOfadj93Fm6Ee+LTi/V4c63oBfB8nVSLHtJ+tfqJw78S6soK/FT3\n",
       "cDsJD3ytEaUhnnLbc/BdrYcFvKuvK59lYghoNbw/FrncCumevxclb2+rxcJN9x3+9UN+iFnPLV+I\n",
       "U67n0dglWIDf8/lXIe7doRgOTV04yLSm699Z0w49BF/Z4aM3tc9fwZ0zXK9xIH65Oz4AlS1Uxdjn\n",
       "BMxt2VEmC3CfDwY+nJo0CLmMSEqIa35BftcGf/4Qc9+ZlJzBROQxJbuOpuUS6Tc9Y9KZzya/Oz5P\n",
       "nCRll6PeDlizt28m2kSkflSrxBHxTcmu1kPd+7TczX5PjNVDE+jE1ARMaTlbj/jqhJ/oiRvIvQbC\n",
       "d/7/8Oex+CW8/7WuJ6Y12+jUAAAAAElFTkSuQmCC\n",
       "\" style=\"display:inline;vertical-align:middle;\" /></a></span>"
      ],
      "text/plain": [
       "|- (4 not-in {1, 2, 3}) in BOOLEAN"
      ]
     },
     "execution_count": 46,
     "metadata": {},
     "output_type": "execute_result"
    }
   ],
   "source": [
    "# Membership claims are Boolean values\n",
    "NotInSet(four, Set(one, two, three)).deduce_in_bool()"
   ]
  },
  {
   "cell_type": "code",
   "execution_count": 47,
   "metadata": {},
   "outputs": [
    {
     "data": {
      "text/html": [
       "<span style=\"font-size:20px;\"> <a class=\"ProveItLink\" href=\"../__pv_it/demonstrations/55a663a47b3d10e7d42024d6031f9a97a33b6eb30/proof.ipynb\" style=\"text-decoration: none\">&nbsp;&#x22A2;&nbsp;&nbsp;</a><a class=\"ProveItLink\" href=\"../__pv_it/demonstrations/533f0dcfcf8872cd59fd54bf880d136e51651f300/expr.ipynb\"><img src=\"data:image/png;base64,iVBORw0KGgoAAAANSUhEUgAAAJ8AAAAVCAMAAABv7sxsAAAARVBMVEX///8/Pz9vb28YGBgJCQkd\n",
       "HR0NDQ0WFhbMzMxUVFRERES6uroiIiIQEBCYmJhmZmYyMjLu7u52dnaqqqqIiIjc3NwAAACb3p1w\n",
       "AAAAAXRSTlMAQObYZgAAAAlwSFlzAAAOxAAADsQBlSsOGwAAAotJREFUSMedV9mW5CAIdfa44/r/\n",
       "nzpqYiRKUun2ofsUJZcLshVj5ST2cKYvnZTs6yeFdIP34sTw9C24y12Q7hv82MbFoSfjJzpKC8ig\n",
       "Fd8jEXxzy1oQGwWMP4Xc2W1q5kkgJO+tOOItOlA0n5wR1YkErhF00JBE+ePz+nb2IvJqf2RuIU/8\n",
       "CARnm0sBqy4vQvMrPvjEKqRt7vCWFlovdxUj+NUozPwIhFipuQyTqrGv+JnAash3QN3M8YyzNwql\n",
       "/v2Fl/wIBKlrNBd+TF9Vqx2lgOBXZGGX86bN88gfCbHA8O11/BaEnrJm5gc4A3c7RPx4MqUyrMeP\n",
       "mUc6tSxxwN7yWxAO88rMqsyjmktENtb6cFFxP/my5VH70N7JTM3AwjM/jNA+R95fII7MNMhrSGT+\n",
       "KdBZ2WJCoeankF9AlVrS5pmf4ouo12/Kp6WgZzvU+0Yji3k9GoIVyHFdc/bPb6WGMHGQ7JEfRpgK\n",
       "pzYlCD3Kk516xMyv/vOIn8G+u3bdXyfLZoV74mem6G3taUVvgKd3Uk92yPjV7ifG+7YxktKl76lF\n",
       "kz/wmxBKZ2l3Dn5j9LCg7vrrzA+YOBJ6a3U8Sj0WuVwa6Vq/g+VA6DLN0ft6VB8oaDE+8Aux13pS\n",
       "th7kTUkWvt3z83sj7tMBI5wyY+j+d+lpECh+5YaP3tY5f/StdlA1OS5+uTt+nOsMvBpWfU9ACKdM\n",
       "FsJ9P0D81GVIcyGnFUkLMfYXtd2NwZ8/xHXuXIycyUTUMSUbqmkCkX6xg4vOvtv87vh5QpOUnar2\n",
       "44J1fe2bjTYRpR+XBccR+U3JxuihcJ+Ou7nvibUaDYHOmNqAKSvn6BFf3fATvXFz8q7l4Tu/P/yp\n",
       "Fr9E7z8B/SiEBWtJGwAAAABJRU5ErkJggg==\n",
       "\" style=\"display:inline;vertical-align:middle;\" /></a></span>"
      ],
      "text/plain": [
       "|- (2 not-in {1, 2, 3}) in BOOLEAN"
      ]
     },
     "execution_count": 47,
     "metadata": {},
     "output_type": "execute_result"
    }
   ],
   "source": [
    "# False membership claims are Boolean values\n",
    "NotInSet(two, Set(one, two, three)).deduce_in_bool()"
   ]
  },
  {
   "cell_type": "code",
   "execution_count": 48,
   "metadata": {},
   "outputs": [
    {
     "data": {
      "text/html": [
       "<span style=\"font-size:20px;\"> <a class=\"ProveItLink\" href=\"../__pv_it/demonstrations/f7f41ceea22d4d4f664b4f9ecbe01fcac7d94d460/proof.ipynb\" style=\"text-decoration: none\">&nbsp;&#x22A2;&nbsp;&nbsp;</a><a class=\"ProveItLink\" href=\"../__pv_it/demonstrations/f916284b6193ddebf173674b62668ece159533410/expr.ipynb\"><img src=\"data:image/png;base64,iVBORw0KGgoAAAANSUhEUgAAAJ8AAAAVCAMAAABv7sxsAAAAP1BMVEX///9jY2MJCQkdHR0NDQ0W\n",
       "FhbMzMxUVFRERES6uroiIiIQEBCYmJhmZmYyMjLu7u52dnaqqqqIiIjc3NwAAACGmE1UAAAAAXRS\n",
       "TlMAQObYZgAAAAlwSFlzAAAOxAAADsQBlSsOGwAAAp1JREFUSMedl1l23SAMQGnSIkYx7n+tBWxs\n",
       "jGXewEdyghG6aA5jZSW2WNNHJyX7YqWQ6PveWDGsvqK7nEXpvuFjHMQmKOMrHKUFZtQKNksEv753\n",
       "/CvkTsfVzJmsRcGnPe+t2A0u9puiefUWUR+R0DVAh8uz9uJOrzYng8U88SVRv+fLcWfbm8IoO3uE\n",
       "5itv8InVK+36OYoRfNUKMx+0wNL64qqK5jJeZY19i88EVi2uF5Eg1L+/Ct/j020D8hj/UldzznxM\n",
       "u1lNWUjwlb3w6F6J0THgb9uvfYLM53tCNpMsmlkNZT9IpmSG7dmRwMc05FaqYTIH54JvD4d8e6Yy\n",
       "s6yHSQ2RHy4q8MNbpC6OEYNSrI4yUzGwuObjeRLgEboL4hFJZng1JjL+FOqsbFGhtuRyunLaIRuQ\n",
       "SLWkzZpPwX2v52/Kvc4GPakh/RuNLOr1VhBs84s6SyHXJWZ/f8oPcdABSrbks4Lyud6POsCwW/mq\n",
       "pi0x89VfvvPp+tkN1cu1cnbtLNwKt+Izs/V4c63oBbA/T+qrGtp+tfqJ3b+uxY3JU+FTN0lY8LVG\n",
       "lMZ4yu3Qznf2nqCe6uvMh0zEja9eAciONs5iZPJWSO/5e1LyFhy1WBx7Ggb/+jM/BqPFuOALsed6\n",
       "xQzKsoEIA/BnPr8V4t4ciuGUrUuNe8aQ9c+OHR8DxVdO+Oht7fN77EbPE8SByMHPbVbpOgB0Rqh6\n",
       "VZ8TVG4Lx73iAXvMByefGpu0AyGnEUkLcc4vij81EPPHi2vjGXScUUfkMbV3yqbpEnlTc6Gw701+\n",
       "T3zUdEZObIesfTlgXb39MNEmIvXjbZpwRHw7cgTtvSeJzyZb93DeE2P12QMOYmruIdX03iM+nfAT\n",
       "PXEDedZC+Or/D9/l4kd4/wEAuiLvtmDDIQAAAABJRU5ErkJggg==\n",
       "\" style=\"display:inline;vertical-align:middle;\" /></a></span>"
      ],
      "text/plain": [
       "|- (a not-in {1, 2, 3}) in BOOLEAN"
      ]
     },
     "execution_count": 48,
     "metadata": {},
     "output_type": "execute_result"
    }
   ],
   "source": [
    "# Membership claims with unknown verity are also Boolean values\n",
    "NotInSet(a, Set(one, two, three)).deduce_in_bool()"
   ]
  },
  {
   "cell_type": "code",
   "execution_count": 49,
   "metadata": {},
   "outputs": [
    {
     "data": {
      "text/html": [
       "<span style=\"font-size:20px;\"> <a class=\"ProveItLink\" href=\"../__pv_it/demonstrations/110e53069130513109db005f0359ea89ae8e5d4c0/proof.ipynb\" style=\"text-decoration: none\">&nbsp;&#x22A2;&nbsp;&nbsp;</a><a class=\"ProveItLink\" href=\"../__pv_it/demonstrations/062e5518f00ceee589ce2e2c67736478115ef0ed0/expr.ipynb\"><img src=\"data:image/png;base64,iVBORw0KGgoAAAANSUhEUgAAAJ4AAAAVCAMAAACALKdSAAAAP1BMVEX///9jY2MJCQkdHR0NDQ0W\n",
       "FhbMzMxUVFRERES6uroiIiIQEBCYmJhmZmYyMjLu7u52dnaqqqqIiIjc3NwAAACGmE1UAAAAAXRS\n",
       "TlMAQObYZgAAAAlwSFlzAAAOxAAADsQBlSsOGwAAAp1JREFUSMedV1li7SAIzZucRUT3v9aniYlz\n",
       "01s/2hQFDjM9jnTCsT3jlZPy+MkJPmwkvh7y+ztw/VOQ7kfwDsbFxSnpBY3SAiJoxS9HeMxeEVot\n",
       "hXZ/+vglOAbaTkSLeDGJIovMiyUimxDAnfgcFD/ZxUvbhxLVi+Q4BQI5075nBvcKL1mAIX0kBGYn\n",
       "OZ0Bzhs8OXtXe1mi+jAb+x14xh/Z3XonmYT691fBJ/Dm+0ZsvdRuVJQOzPASycNasgRyB2efeW9O\n",
       "kIajfoIZFS28x4PBnLmFhRPxGt+QE8TBVhkSmQ574EhsTBDDUwHambkpuDBnYi4NR4pjtcTF9MzF\n",
       "pylB/jJjD7AFb1AJhxWtD3RiEHPqxSqC9IO6MRvCKvcU6KhskqZ80zL0IwxWJRZ0iYrC7nGy7ryx\n",
       "MHXjyJrv27deN/B2pUFGJv1aNn6JeHcwnZL1z+/0QzThg9Jm7OQlGx/UQ6NsJw6HCyCr1FPRecQA\n",
       "L//CG94pWT72ufwYh0xitrQILab2Ic4EkV+WMt7myeo9J3bey11P3ME9gTVeUXPTexq/i2NOXhQT\n",
       "NwzjyPFq21l7eHCIS1XOEadrwRMd0u76WrzeJV+4G162jsORB38b+DY/sZZG4zKiPTxPd5HzRBAt\n",
       "HvBj06vwrppFluu9SKTsE3vYo9LOapCrQFvsFC3gYW5dmKQxVdIWbTeqHf89Lye3BkRjzmaqlCuv\n",
       "CVngxBraWBkVnpKdItEpItBC1I1FsfUEML9QdLNmOTX8YrxXmuUr5jAOqFlRA8N+a9PbwMPV5C0o\n",
       "eR+4h9m+bVR9qJf7axCrVVGPJbvYLW+aEv1QfEaO+GiPdcvnuNqvwjhUV5vvTTNkW8OfviA+XOfD\n",
       "SglfP7Xc/+x/DbwZ6RN0/wGEciH4MuYqvwAAAABJRU5ErkJggg==\n",
       "\" style=\"display:inline;vertical-align:middle;\" /></a></span>"
      ],
      "text/plain": [
       "|- (b not-in {c, d, f}) in BOOLEAN"
      ]
     },
     "execution_count": 49,
     "metadata": {},
     "output_type": "execute_result"
    }
   ],
   "source": [
    "# Membership claims with unknown verity are also Boolean values\n",
    "NotInSet(b, Set(c, d, f)).deduce_in_bool()"
   ]
  },
  {
   "cell_type": "code",
   "execution_count": 50,
   "metadata": {},
   "outputs": [
    {
     "data": {
      "text/html": [
       "<span style=\"font-size:20px;\"> <a class=\"ProveItLink\" href=\"../__pv_it/demonstrations/110e53069130513109db005f0359ea89ae8e5d4c0/proof.ipynb\" style=\"text-decoration: none\">&nbsp;&#x22A2;&nbsp;&nbsp;</a><a class=\"ProveItLink\" href=\"../__pv_it/demonstrations/062e5518f00ceee589ce2e2c67736478115ef0ed0/expr.ipynb\"><img src=\"data:image/png;base64,iVBORw0KGgoAAAANSUhEUgAAAJ4AAAAVCAMAAACALKdSAAAAP1BMVEX///9jY2MJCQkdHR0NDQ0W\n",
       "FhbMzMxUVFRERES6uroiIiIQEBCYmJhmZmYyMjLu7u52dnaqqqqIiIjc3NwAAACGmE1UAAAAAXRS\n",
       "TlMAQObYZgAAAAlwSFlzAAAOxAAADsQBlSsOGwAAAp1JREFUSMedV1li7SAIzZucRUT3v9aniYlz\n",
       "01s/2hQFDjM9jnTCsT3jlZPy+MkJPmwkvh7y+ztw/VOQ7kfwDsbFxSnpBY3SAiJoxS9HeMxeEVot\n",
       "hXZ/+vglOAbaTkSLeDGJIovMiyUimxDAnfgcFD/ZxUvbhxLVi+Q4BQI5075nBvcKL1mAIX0kBGYn\n",
       "OZ0Bzhs8OXtXe1mi+jAb+x14xh/Z3XonmYT691fBJ/Dm+0ZsvdRuVJQOzPASycNasgRyB2efeW9O\n",
       "kIajfoIZFS28x4PBnLmFhRPxGt+QE8TBVhkSmQ574EhsTBDDUwHambkpuDBnYi4NR4pjtcTF9MzF\n",
       "pylB/jJjD7AFb1AJhxWtD3RiEHPqxSqC9IO6MRvCKvcU6KhskqZ80zL0IwxWJRZ0iYrC7nGy7ryx\n",
       "MHXjyJrv27deN/B2pUFGJv1aNn6JeHcwnZL1z+/0QzThg9Jm7OQlGx/UQ6NsJw6HCyCr1FPRecQA\n",
       "L//CG94pWT72ufwYh0xitrQILab2Ic4EkV+WMt7myeo9J3bey11P3ME9gTVeUXPTexq/i2NOXhQT\n",
       "NwzjyPFq21l7eHCIS1XOEadrwRMd0u76WrzeJV+4G162jsORB38b+DY/sZZG4zKiPTxPd5HzRBAt\n",
       "HvBj06vwrppFluu9SKTsE3vYo9LOapCrQFvsFC3gYW5dmKQxVdIWbTeqHf89Lye3BkRjzmaqlCuv\n",
       "CVngxBraWBkVnpKdItEpItBC1I1FsfUEML9QdLNmOTX8YrxXmuUr5jAOqFlRA8N+a9PbwMPV5C0o\n",
       "eR+4h9m+bVR9qJf7axCrVVGPJbvYLW+aEv1QfEaO+GiPdcvnuNqvwjhUV5vvTTNkW8OfviA+XOfD\n",
       "SglfP7Xc/+x/DbwZ6RN0/wGEciH4MuYqvwAAAABJRU5ErkJggg==\n",
       "\" style=\"display:inline;vertical-align:middle;\" /></a></span>"
      ],
      "text/plain": [
       "|- (b not-in {c, d, f}) in BOOLEAN"
      ]
     },
     "execution_count": 50,
     "metadata": {},
     "output_type": "execute_result"
    }
   ],
   "source": [
    "# False Membership claims with assumption-based variable values are Boolean values\n",
    "NotInSet(b, Set(c, d, f)).deduce_in_bool(assumptions=[Equals(b, d)])"
   ]
  },
  {
   "cell_type": "code",
   "execution_count": 51,
   "metadata": {},
   "outputs": [
    {
     "data": {
      "text/html": [
       "<span style=\"font-size:20px;\"> <a class=\"ProveItLink\" href=\"../__pv_it/demonstrations/d41faae00e7362d420b3664d039348e91e8333250/proof.ipynb\" style=\"text-decoration: none\">&nbsp;&#x22A2;&nbsp;&nbsp;</a><a class=\"ProveItLink\" href=\"../__pv_it/demonstrations/b3494f6a8cd3347de8b1b701c1d2ee4c97e8a5620/expr.ipynb\"><img src=\"data:image/png;base64,iVBORw0KGgoAAAANSUhEUgAAAMEAAAAVCAMAAADIM3qXAAAAP1BMVEX///9jY2MJCQkdHR0NDQ0W\n",
       "FhbMzMxUVFRERES6uroiIiIQEBCYmJhmZmYyMjLu7u52dnaqqqqIiIjc3NwAAACGmE1UAAAAAXRS\n",
       "TlMAQObYZgAAAAlwSFlzAAAOxAAADsQBlSsOGwAAAp5JREFUSMe9V1li4yAMZTods4v1/mct2IBZ\n",
       "5DhNm+EjcRQh6Wk3IekEcnmmvwzn5E0nuIDrfOJ4d/0fmIETuHkXArJRdgjn/s5gIRlEkIIe/nQ2\n",
       "O5dJgUrtf7nY7N/EAgUhkXueYK1mJbCsaPPqTg7LMAOYHYKB4m2NcOohaWwBaaiGOJqCkJaD8Ri9\n",
       "e8YN8qfI4wgSShvSQzKyAI5YLo1xsedPv5q7kri65fFZrYkwylf6KQTKkRw1WbQt+j0T/z4F/ACB\n",
       "87c8XOYozwiINLMp6QCCINEcLNYdosEbQrcfxeAJBKW+1CQf1GwKFgMaVKphbcsd6j09EynkVDRA\n",
       "/gcCLtQs33YdJCBVkSvZeEHtiTalokkfrRVDflKTBRregGDztIbay0pUne8goHUgQEahkzjhukYp\n",
       "m0pAWkKQ6l1ZdBgRWjdxskNwWcle8WSi5J17o62Okaly/n6kD9bsp8DJswh0rjwh5f5F7xAQWciG\n",
       "woFhi2eMDiG9KRVB/rIVgbB7P6o+MJnbjv1108z8egy2PYFYHQjVSfyMgWGXMcjTgNUs2kXoU75Y\n",
       "hkE3M38RQdwJBcE58524mkkzAiDs0BKTL0yf557wZawgvci8hqBxStplkT0ruXO89w8QJBWlb9FE\n",
       "YL3J4KZhMCKwR9uq07QjPUSwXFMKnQe1xxdTMASJw3qr865VashqNS4xH8se2jRQKiNk0ETUVe0k\n",
       "XSNArqVI67bZnQgEH0xhfFqRJWPnbio2fPVQfywbR/kyt3crHyxh7npNRq81+WFeEBZTBkv1M28G\n",
       "lwjsg/2LX2/J6LUmX9+u12NOoe9EAWliXq4bsyevHPxanfmY7ofSUH6LLNth3cBfA4Bfa72Qffc9\n",
       "M2DyKMqpqXvbe7Ktsv23AHwBH1AoVsYzKcIAAAAASUVORK5CYII=\n",
       "\" style=\"display:inline;vertical-align:middle;\" /></a></span>"
      ],
      "text/plain": [
       "|- (b not-in {1, 1 + 1, 3}) in BOOLEAN"
      ]
     },
     "execution_count": 51,
     "metadata": {},
     "output_type": "execute_result"
    }
   ],
   "source": [
    "# Membership claims with unknown verity are also Boolean values\n",
    "# Here we don't know the value of the variable b:\n",
    "NotInSet(b, Set(one, Add(one, one), three)).deduce_in_bool()"
   ]
  },
  {
   "cell_type": "code",
   "execution_count": 52,
   "metadata": {},
   "outputs": [
    {
     "data": {
      "text/html": [
       "<span style=\"font-size:20px;\"> <a class=\"ProveItLink\" href=\"../__pv_it/demonstrations/d41faae00e7362d420b3664d039348e91e8333250/proof.ipynb\" style=\"text-decoration: none\">&nbsp;&#x22A2;&nbsp;&nbsp;</a><a class=\"ProveItLink\" href=\"../__pv_it/demonstrations/b3494f6a8cd3347de8b1b701c1d2ee4c97e8a5620/expr.ipynb\"><img src=\"data:image/png;base64,iVBORw0KGgoAAAANSUhEUgAAAMEAAAAVCAMAAADIM3qXAAAAP1BMVEX///9jY2MJCQkdHR0NDQ0W\n",
       "FhbMzMxUVFRERES6uroiIiIQEBCYmJhmZmYyMjLu7u52dnaqqqqIiIjc3NwAAACGmE1UAAAAAXRS\n",
       "TlMAQObYZgAAAAlwSFlzAAAOxAAADsQBlSsOGwAAAp5JREFUSMe9V1li4yAMZTods4v1/mct2IBZ\n",
       "5DhNm+EjcRQh6Wk3IekEcnmmvwzn5E0nuIDrfOJ4d/0fmIETuHkXArJRdgjn/s5gIRlEkIIe/nQ2\n",
       "O5dJgUrtf7nY7N/EAgUhkXueYK1mJbCsaPPqTg7LMAOYHYKB4m2NcOohaWwBaaiGOJqCkJaD8Ri9\n",
       "e8YN8qfI4wgSShvSQzKyAI5YLo1xsedPv5q7kri65fFZrYkwylf6KQTKkRw1WbQt+j0T/z4F/ACB\n",
       "87c8XOYozwiINLMp6QCCINEcLNYdosEbQrcfxeAJBKW+1CQf1GwKFgMaVKphbcsd6j09EynkVDRA\n",
       "/gcCLtQs33YdJCBVkSvZeEHtiTalokkfrRVDflKTBRregGDztIbay0pUne8goHUgQEahkzjhukYp\n",
       "m0pAWkKQ6l1ZdBgRWjdxskNwWcle8WSi5J17o62Okaly/n6kD9bsp8DJswh0rjwh5f5F7xAQWciG\n",
       "woFhi2eMDiG9KRVB/rIVgbB7P6o+MJnbjv1108z8egy2PYFYHQjVSfyMgWGXMcjTgNUs2kXoU75Y\n",
       "hkE3M38RQdwJBcE58524mkkzAiDs0BKTL0yf557wZawgvci8hqBxStplkT0ruXO89w8QJBWlb9FE\n",
       "YL3J4KZhMCKwR9uq07QjPUSwXFMKnQe1xxdTMASJw3qr865VashqNS4xH8se2jRQKiNk0ETUVe0k\n",
       "XSNArqVI67bZnQgEH0xhfFqRJWPnbio2fPVQfywbR/kyt3crHyxh7npNRq81+WFeEBZTBkv1M28G\n",
       "lwjsg/2LX2/J6LUmX9+u12NOoe9EAWliXq4bsyevHPxanfmY7ofSUH6LLNth3cBfA4Bfa72Qffc9\n",
       "M2DyKMqpqXvbe7Ktsv23AHwBH1AoVsYzKcIAAAAASUVORK5CYII=\n",
       "\" style=\"display:inline;vertical-align:middle;\" /></a></span>"
      ],
      "text/plain": [
       "|- (b not-in {1, 1 + 1, 3}) in BOOLEAN"
      ]
     },
     "execution_count": 52,
     "metadata": {},
     "output_type": "execute_result"
    }
   ],
   "source": [
    "# Here is a Membership claim that is False, involving assumptions\n",
    "# about the value of variable b; notice the assumption is irrelevant\n",
    "NotInSet(b, Set(one, Add(one, one), three)).deduce_in_bool(assumptions=[Equals(b, two)])"
   ]
  },
  {
   "cell_type": "markdown",
   "metadata": {},
   "source": [
    "### `NotInSet.unfold_not_in()`\n",
    "\n",
    "From $(x \\notin y)$, derive and return $\\lnot(x \\in y)$."
   ]
  },
  {
   "cell_type": "code",
   "execution_count": 53,
   "metadata": {},
   "outputs": [
    {
     "data": {
      "text/html": [
       "<span style=\"font-size:20px;\"><a class=\"ProveItLink\" href=\"../__pv_it/theorems/6d66ef15ae974e95094ed8ed211a8a6beb2861b50/expr.ipynb\"><img src=\"data:image/png;base64,iVBORw0KGgoAAAANSUhEUgAAADMAAAAVCAMAAADciiYzAAAAP1BMVEX///9jY2MJCQkdHR0NDQ0W\n",
       "FhZERES6uroQEBAyMjLc3NyYmJgiIiJmZmaqqqp2dnbMzMxUVFSIiIju7u4AAAANhLF7AAAAAXRS\n",
       "TlMAQObYZgAAAAlwSFlzAAAOxAAADsQBlSsOGwAAAPlJREFUOMu1k92SwiAMhVldoRQC5Of9n9VA\n",
       "1Ta6MtOL5QIGSMLHOeDcpK3ufIt8OqWhnReAWl0Ksxywu560Yy/Tc7KtAGNI8Ws8+Xz7zcd9aWMI\n",
       "9CUjRGKHzSxJ2i45VpkIudVado27YGwhWKTuRZSTkBzs+LEbk94gkmjDzbK09rmipD3nT3OYvMiy\n",
       "AfajDEdbcs7Xi3b+Q3556b8YDu6hh+sNmuetyksT5WM2xlhz+PEkVuFRNDjslPVgDrkA9tk8SsCI\n",
       "KtIYNCccWWKx5qioI7huxzFo1QKpWJRLMLKBCwiIZfbU0k/1qlv855+z+vMftJbzOTjdvQNy1QrN\n",
       "dUZH5QAAAABJRU5ErkJggg==\n",
       "\" style=\"display:inline;vertical-align:middle;\" /></a> <a class=\"ProveItLink\" href=\"../__pv_it/demonstrations/241d1bb2c3e00b5a88816ee24a8267020688a5630/proof.ipynb\" style=\"text-decoration: none\">&nbsp;&#x22A2;&nbsp;&nbsp;</a><a class=\"ProveItLink\" href=\"../__pv_it/theorems/fe3a8deeda9e1011cacaa4108184281bcacedd730/expr.ipynb\"><img src=\"data:image/png;base64,iVBORw0KGgoAAAANSUhEUgAAAFIAAAAVBAMAAAAnX6R8AAAAMFBMVEX////MzMxERES6uroQEBCY\n",
       "mJgyMjLu7u52dnaqqqqIiIhUVFTc3NwiIiJmZmYAAAAM3gM0AAAAAXRSTlMAQObYZgAAAAlwSFlz\n",
       "AAAOxAAADsQBlSsOGwAAAVRJREFUKM9jYEAAHgacAE1qJW6VzAuQeZwN2FXNe9EQzLAUWaQMu0Km\n",
       "BQxFHxjYCpCEnmJX+Y6BgTWBgfUBkpADsjyX7t1rENZHiCvdkZyZgOyDLJhtzF8ZGBgFGBhSEZJ8\n",
       "QA+xr9ou0QniHIM7i/1/I5juRqhkCwCqZli94C2Ik4MQj///+wCQCmN4excI7gGZvBMYGGIY4gu2\n",
       "gqSRXMK+6D/IB1MgvNNAzGLAwCDA8AzMZ/QFar8Ed9dnICGPqpKBwQtijgLcSKCb2H8CaROESpDt\n",
       "DMx/GMpBAhfgdm8ARvp3IGMuhH8OEhfsytwODOA4XQUPuwuQUGEIQricYwMD58c6B+YJ4ICYAHPj\n",
       "DWgAvUCoZLzAwP5qwbxIiKWbzKEqmfftBuu6jBQvF1GSWRMsNqEJ9AISJ44BD+ALQE5eB/CoPITM\n",
       "QQpETKCDwjuFWyHXAQYAZuRSYaV4kOoAAAAASUVORK5CYII=\n",
       "\" style=\"display:inline;vertical-align:middle;\" /></a></span>"
      ],
      "text/plain": [
       "{x not-in S} |- [not](x in S)"
      ]
     },
     "execution_count": 53,
     "metadata": {},
     "output_type": "execute_result"
    }
   ],
   "source": [
    "# Here is a simple, literal example. Notice that the 'self' on which the method\n",
    "# is called is actually the opposite claim from the conclusion being drawn.\n",
    "NotInSet(x, S).unfold_not_in(assumptions=[NotInSet(x, S)])"
   ]
  },
  {
   "cell_type": "code",
   "execution_count": 54,
   "metadata": {},
   "outputs": [
    {
     "data": {
      "text/html": [
       "<span style=\"font-size:20px;\"> <a class=\"ProveItLink\" href=\"../__pv_it/demonstrations/9a46a4c81960cec919a1a115f78871229397d5f10/proof.ipynb\" style=\"text-decoration: none\">&nbsp;&#x22A2;&nbsp;&nbsp;</a><a class=\"ProveItLink\" href=\"../__pv_it/demonstrations/957c7efa9577a4b6fecf4e9df0cc66f2bd77762f0/expr.ipynb\"><img src=\"data:image/png;base64,iVBORw0KGgoAAAANSUhEUgAAAHUAAAAVBAMAAACK3rzVAAAAMFBMVEX////MzMxERES6uroQEBCY\n",
       "mJgyMjLu7u52dnaqqqqIiIhUVFTc3NwiIiJmZmYAAAAM3gM0AAAAAXRSTlMAQObYZgAAAAlwSFlz\n",
       "AAAOxAAADsQBlSsOGwAAAd1JREFUOMttlE0oRFEUx/9jhjEzb2YslYaRhfJRs1MWUpOlzF5pSlIo\n",
       "Ezsbkp18rGShZhZTCmVY2CjNSgpjUpQ0siElExtSapx73x3v3uveuq/z/u/83vl45z7AWXmY1mxM\n",
       "E6yt/87+dRPqH03pUlM7XXoVaRM4W23THdMMjVT5wnMrXTvZOxOSkzcJ7yPSevAVenIyLVgrirUY\n",
       "14BxySmUgP8b88n/LLAv2EAenn6hjUhOHsAdR9hm/d2lWwPr+ULgR2geqQ8bdnm8DPdEyhy3iMCH\n",
       "0Oqkgl84dMPt05Q5Z1rBd6HV5xx2jLZr94DbU478rLEtGSDLjNok3kq0Hsi+s3PmfXYaZg1o7D3t\n",
       "K+bk67eFc9rxajco/CC975qjRzGVDUXZ5zwi2PWusK4G1HyzZ9G/MM3tKjvMSx1lrZHiUs7hL5tF\n",
       "0am3U2F9C7gQs+YTTgXaHZRwzs4ZO4bZ4HgjsA0s8V45yWGZbhPi+9atq+xaHt5PVv5DuVwUWmjB\n",
       "YSO0+8r2WfAe9sjs8dBkAiUKHKxUKknBBqWzGWyQBtS9qMwkL1Wbl0vJvfbRePT/2HpNe5K9uoxs\n",
       "tmrMqbNmRWWvGSN7VW1bxjnpbNZqlJ+OlTGx1qv+N7CWmbIH/ALnU4IoLeu7JAAAAABJRU5ErkJg\n",
       "gg==\n",
       "\" style=\"display:inline;vertical-align:middle;\" /></a></span>"
      ],
      "text/plain": [
       "|- [not](3 in {1, 2})"
      ]
     },
     "execution_count": 54,
     "metadata": {},
     "output_type": "execute_result"
    }
   ],
   "source": [
    "# Notice that we can unfold simple non-memberships automatically,\n",
    "# without invoking assumptions\n",
    "NotInSet(three, Set(one, two)).unfold_not_in()"
   ]
  },
  {
   "cell_type": "code",
   "execution_count": 55,
   "metadata": {},
   "outputs": [
    {
     "data": {
      "text/html": [
       "<span style=\"font-size:20px;\"><a class=\"ProveItLink\" href=\"../__pv_it/demonstrations/3dc4c50e651be99302c77ddfc01ead7b6fcc1dcd0/expr.ipynb\"><img src=\"data:image/png;base64,iVBORw0KGgoAAAANSUhEUgAAAGcAAAAVCAMAAABsdQABAAAARVBMVEX///8/Pz9vb28YGBgJCQkd\n",
       "HR0NDQ0WFhbMzMwyMjKqqqoiIiJmZmaYmJju7u5EREQQEBC6urqIiIh2dnZUVFTc3NwAAAAnAzaG\n",
       "AAAAAXRSTlMAQObYZgAAAAlwSFlzAAAOxAAADsQBlSsOGwAAAbJJREFUSMeVVeu6xBAMdO5VGiR4\n",
       "/0c9iq1LtbX+7FebzMiYBGPXy7WfYAx7e7nVPcZwqL+QG3ifhy1WwVNE/bX6GA5Ki1kGruX+q+x9\n",
       "nGxkohc8l9O1+LXJvFjt30d0Sp5ZJklww4NKiL9fPuLJyTMrp1zyGI4Byy7DekhMy5YVPjKcJXRY\n",
       "rBh9Bnx4OMYtou2kI8StPdUOuWSFDyV0sLgqcvDo+A07VyRe8OEU4OumcCLgSdUoUkOiTpl622GK\n",
       "HHzQPMzFqJe9dX0IQf1OhsyKuFSX9Edwsr0WYf18C6EqGbipy/JUFXo2RgcJlgcmraIcR7NAhKf2\n",
       "ChaZuzomm9rbWp0M0EHSfkjwe8Wb7/rm5Krc1ZGhLiHlt4OwhUxSQ8y0nB0DD0OUkRfN4JeX/C8q\n",
       "ny7OlJ0OkpIPVIBdhWQFOajZNU/hsQFVyWS8fBlJ56XsdJA5EyzS4iwWZLDqCy54wJJMBQiRY4i2\n",
       "bW/sstNC3nT250cYPGI4d6oJDs87DzwcJqKJPe/c8zg1GK26d9XZZzh+X/jloB2Mfte/B2fQMQ3k\n",
       "STJYwwfQSTv98lRZlLL+AaB8GMOlwZjhAAAAAElFTkSuQmCC\n",
       "\" style=\"display:inline;vertical-align:middle;\" /></a> <a class=\"ProveItLink\" href=\"../__pv_it/demonstrations/9123540e6120ecdf460da997b23f386b9a2661730/proof.ipynb\" style=\"text-decoration: none\">&nbsp;&#x22A2;&nbsp;&nbsp;</a><a class=\"ProveItLink\" href=\"../__pv_it/demonstrations/ea68d40a0896daafe2892a41d1dc9b45c56931340/expr.ipynb\"><img src=\"data:image/png;base64,iVBORw0KGgoAAAANSUhEUgAAAIYAAAAVBAMAAABxpYtPAAAAMFBMVEX////MzMxERES6uroQEBCY\n",
       "mJgyMjLu7u52dnaqqqqIiIhUVFTc3NwiIiJmZmYAAAAM3gM0AAAAAXRSTlMAQObYZgAAAAlwSFlz\n",
       "AAAOxAAADsQBlSsOGwAAAjJJREFUOMtjYECAAwzYALsxAw7AMwdEoAhxTcCqcpk5LjMYpNUZGJgX\n",
       "IIvMwKqO8zsDQ5EvFgkxPwYGbSC9FNnNCVjN4LgAJPKwyfxkYOgFUmwFCCG+ANxm/MQiwfwdYgbr\n",
       "A4QYC4qKRXfvJsDNACnHajjIDAZ3hNg0ZAVmy5GVgt2CDtgeQM1IRYi9AEXUjjXgYOZJR7GObddq\n",
       "aJxxrAqEME53yU+AmtGNMANknMkBJrCz2RBJhQ/opfp09j+QFHGT4REkMHwY9IFhuQTEDmN4excI\n",
       "7gGZN4FR48rAB3Y2G8LoI8Cgnl/A4AXm8DZAGSUBDM+A1HmQ86ZAXQbEzkA7P4BUAYEIyGAFsEwy\n",
       "kAAq/wFW9x4Wj+8ZGG6A0sM2oCHyKGawKDDUG4D4RXBnMD4qAClnhsSuE0zYiYH9Myh4QDaYIMwA\n",
       "+qV+AUM8xM0IvzBtACUPPnAwsf+CpcdfDKwfGMCeZGCYCxE7B8RaQDMmMGzjBAUn1wKUePkI8j9I\n",
       "+VdgaIIY7D8ZuBOAOa4FpCIIYSEwipgWcN7jA3MyUczYyqDHwP4NyAFGSiOYocUw9wEsfbxAmCEL\n",
       "NH5X4+mFYE61cgGSGdV9wMi5CxThaI0qADOqV8jsEoCacRlhBq8Aciq00EVK65AMXIDOgJjBg5SI\n",
       "kfMOep4DMxjQGRAzUPKqDlYzuBygjCoGdAY44TAcQlZdhL3Ag+V7eFQh4gyYrtGs5lmA1ZBzO3GW\n",
       "p93AVMp1gAEAemuTMyTgJUIAAAAASUVORK5CYII=\n",
       "\" style=\"display:inline;vertical-align:middle;\" /></a></span>"
      ],
      "text/plain": [
       "{a not-in {b, c, d}} |- [not](a in {b, c, d})"
      ]
     },
     "execution_count": 55,
     "metadata": {},
     "output_type": "execute_result"
    }
   ],
   "source": [
    "# The unfold_not_in() is more about a folding of the assumption or\n",
    "# judgment about the negation of a membership claim or the negation of\n",
    "# element equalities\n",
    "NotInSet(a, Set(b, c, d)).unfold_not_in(assumptions=[NotInSet(a, Set(b, c, d))])"
   ]
  },
  {
   "cell_type": "code",
   "execution_count": 56,
   "metadata": {},
   "outputs": [
    {
     "data": {
      "text/html": [
       "<span style=\"font-size:20px;\"><a class=\"ProveItLink\" href=\"../../../../numbers/ordering/__pv_it/theorems/ef097190be07bfef385d06d66c6c1568183e809c0/expr.ipynb\"><img src=\"data:image/png;base64,iVBORw0KGgoAAAANSUhEUgAAADAAAAAUCAMAAAD84U6VAAAAPFBMVEX///8NDQ0WFhYLCwsYGBjM\n",
       "zMwyMjKqqqoiIiJmZmaYmJju7u5EREQQEBC6urqIiIh2dnZUVFTc3NwAAADJzR5XAAAAAXRSTlMA\n",
       "QObYZgAAAAlwSFlzAAAOxAAADsQBlSsOGwAAAMpJREFUKM+VktkSwyAIRe3igjvy//9aNNMmJqmO\n",
       "PDiiwOGiQowMnFgy6fe988FME7w8egqmAOxc0lNAOXqRZoJiD8i7hII5lXRJUKV3MSVsXcXAN34H\n",
       "gmn2ftX1R3GkHC8c6oJtUROAbhUDNwJUfZPPCk5DBNUmxWHBN2AcA7aKkUfrqMq1dKhVe38+NiXY\n",
       "vQJQ1VF3qITuSqrz0El+5XomaAOi61lfvgFyrG+nDlOWBZMcAjgsg/37yDqvfesbwNjsKsAsAoQc\n",
       "3H0Av6IH7VVwiLUAAAAASUVORK5CYII=\n",
       "\" style=\"display:inline;vertical-align:middle;\" /></a>, <a class=\"ProveItLink\" href=\"../__pv_it/demonstrations/636b551eaa2c463238c85b046347f565e22cd1360/expr.ipynb\"><img src=\"data:image/png;base64,iVBORw0KGgoAAAANSUhEUgAAADAAAAAUCAMAAAD84U6VAAAAPFBMVEX///8NDQ0WFhYLCwsYGBjM\n",
       "zMwyMjKqqqoiIiJmZmaYmJju7u5EREQQEBC6urqIiIh2dnZUVFTc3NwAAADJzR5XAAAAAXRSTlMA\n",
       "QObYZgAAAAlwSFlzAAAOxAAADsQBlSsOGwAAALtJREFUKM+Vk9kSgyAMRdOFLYgJ8P//2qBTWnDU\n",
       "SR4YlSvnZgHgKkIEVZhFp4fFKAFZCyg6/XoKKJmp0OGznQFMhC2rNcnOUnsFg9/i/Wrrj1K8kz2p\n",
       "W0y4qe4AnmVJYiTU/jpkEKYedgupdSfW9QaQvk2MtaWL9e+s5v352DPJg2x/klwgW3DDkXaeooq7\n",
       "U6mP/Op8gMGzC4c53CyxlDVmYlMymUuAaBmRzqbXsXKKrPIeoBbglQC4ujcfvnQGwscC184AAAAA\n",
       "SUVORK5CYII=\n",
       "\" style=\"display:inline;vertical-align:middle;\" /></a>, <a class=\"ProveItLink\" href=\"../__pv_it/demonstrations/ff5229a285be461c466227f45b9dac3b3465b6060/expr.ipynb\"><img src=\"data:image/png;base64,iVBORw0KGgoAAAANSUhEUgAAADIAAAAUCAMAAAD4FJ6oAAAAPFBMVEX///8NDQ0WFhYLCwsYGBjM\n",
       "zMwyMjKqqqoiIiJmZmaYmJju7u5EREQQEBC6urqIiIh2dnZUVFTc3NwAAADJzR5XAAAAAXRSTlMA\n",
       "QObYZgAAAAlwSFlzAAAOxAAADsQBlSsOGwAAALdJREFUKM+VkkkSAyEIRcngPOv975pWk2paO1iy\n",
       "cAEfHl8FoEIZ2Axmpwx3imyxbM4VQULSnPOF3NXmORcl1eFvIMC7lZxiyGGuDpAqY92Kd0fNnjsq\n",
       "2eL9qudJQjLjdNMtIF8Zb0NLPWUcnQz3j2WuvpcpfuEEyUypxnVB86qH56M7+nnBMtPuIHEQl7F8\n",
       "eLGLzB7tQiq47C6mn4RlJoXIcgqMgvyRYUjc/fQ3kFXofYjchgAjqx/RlwhNqlZikwAAAABJRU5E\n",
       "rkJggg==\n",
       "\" style=\"display:inline;vertical-align:middle;\" /></a> <a class=\"ProveItLink\" href=\"../__pv_it/demonstrations/403c534e504d3d29e8f0813c187b450a3e5fe2250/proof.ipynb\" style=\"text-decoration: none\">&nbsp;&#x22A2;&nbsp;&nbsp;</a><a class=\"ProveItLink\" href=\"../__pv_it/demonstrations/ea68d40a0896daafe2892a41d1dc9b45c56931340/expr.ipynb\"><img src=\"data:image/png;base64,iVBORw0KGgoAAAANSUhEUgAAAIYAAAAVBAMAAABxpYtPAAAAMFBMVEX////MzMxERES6uroQEBCY\n",
       "mJgyMjLu7u52dnaqqqqIiIhUVFTc3NwiIiJmZmYAAAAM3gM0AAAAAXRSTlMAQObYZgAAAAlwSFlz\n",
       "AAAOxAAADsQBlSsOGwAAAjJJREFUOMtjYECAAwzYALsxAw7AMwdEoAhxTcCqcpk5LjMYpNUZGJgX\n",
       "IIvMwKqO8zsDQ5EvFgkxPwYGbSC9FNnNCVjN4LgAJPKwyfxkYOgFUmwFCCG+ANxm/MQiwfwdYgbr\n",
       "A4QYC4qKRXfvJsDNACnHajjIDAZ3hNg0ZAVmy5GVgt2CDtgeQM1IRYi9AEXUjjXgYOZJR7GObddq\n",
       "aJxxrAqEME53yU+AmtGNMANknMkBJrCz2RBJhQ/opfp09j+QFHGT4REkMHwY9IFhuQTEDmN4excI\n",
       "7gGZN4FR48rAB3Y2G8LoI8Cgnl/A4AXm8DZAGSUBDM+A1HmQ86ZAXQbEzkA7P4BUAYEIyGAFsEwy\n",
       "kAAq/wFW9x4Wj+8ZGG6A0sM2oCHyKGawKDDUG4D4RXBnMD4qAClnhsSuE0zYiYH9Myh4QDaYIMwA\n",
       "+qV+AUM8xM0IvzBtACUPPnAwsf+CpcdfDKwfGMCeZGCYCxE7B8RaQDMmMGzjBAUn1wKUePkI8j9I\n",
       "+VdgaIIY7D8ZuBOAOa4FpCIIYSEwipgWcN7jA3MyUczYyqDHwP4NyAFGSiOYocUw9wEsfbxAmCEL\n",
       "NH5X4+mFYE61cgGSGdV9wMi5CxThaI0qADOqV8jsEoCacRlhBq8Aciq00EVK65AMXIDOgJjBg5SI\n",
       "kfMOep4DMxjQGRAzUPKqDlYzuBygjCoGdAY44TAcQlZdhL3Ag+V7eFQh4gyYrtGs5lmA1ZBzO3GW\n",
       "p93AVMp1gAEAemuTMyTgJUIAAAAASUVORK5CYII=\n",
       "\" style=\"display:inline;vertical-align:middle;\" /></a></span>"
      ],
      "text/plain": [
       "{a != b, a != c, a != d} |- [not](a in {b, c, d})"
      ]
     },
     "execution_count": 56,
     "metadata": {},
     "output_type": "execute_result"
    }
   ],
   "source": [
    "# The unfold_not_in() is more about a folding of the assumption or\n",
    "# judgment about the negation of a membership claim or the negation of\n",
    "# element equalities\n",
    "NotInSet(a, Set(b, c, d)).unfold_not_in(assumptions=[NotEquals(a, b), NotEquals(a, c), NotEquals(a, d)])"
   ]
  },
  {
   "cell_type": "markdown",
   "metadata": {},
   "source": [
    "### `NotInSet.conclude()`"
   ]
  },
  {
   "cell_type": "code",
   "execution_count": 57,
   "metadata": {},
   "outputs": [
    {
     "data": {
      "text/html": [
       "<span style=\"font-size:20px;\"> <a class=\"ProveItLink\" href=\"../__pv_it/demonstrations/83d4afc40ca7c14a53968f413e0ea6ad3d2cd5f60/proof.ipynb\" style=\"text-decoration: none\">&nbsp;&#x22A2;&nbsp;&nbsp;</a><a class=\"ProveItLink\" href=\"../__pv_it/demonstrations/26fda78f586e111f872d9fbb17325b26f19f951b0/expr.ipynb\"><img src=\"data:image/png;base64,iVBORw0KGgoAAAANSUhEUgAAAGgAAAAVCAMAAACdfluMAAAAP1BMVEX///9jY2MJCQkdHR0NDQ0W\n",
       "Fhaqqqru7u5EREQQEBC6urrc3Nx2dnYyMjKYmJiIiIhUVFQiIiJmZmbMzMwAAABAGsgDAAAAAXRS\n",
       "TlMAQObYZgAAAAlwSFlzAAAOxAAADsQBlSsOGwAAAbVJREFUSMedlttyAyEIhm3aekZRef9n7eru\n",
       "JnjIdidcJCMBP/0FJkK8NdcvlbXiA3PS/RcCiq8iWPUJSBTULLHkRQBfSXpGlzQQXc6gy+DzPutD\n",
       "As12SjiBcqeUT4eAmIF6kNP1d+rCVW6Hk11u1WUBSmIFqsEDCNsjGNMJXRmKYMgtAXpQ1On3J8E9\n",
       "kGlrJP7o1tQLTiAvOpCFqASW2zdqPyGVURNJoc+NrgO5Wm4KxF3QoTSNHptCn+u2NQdB1SDEoTTg\n",
       "GlRoSCgRT1GiOYUbQHMTCWfCNWhRTc+qc/t3cD2omJTS92P70E8MghWXoKxXvWqOSIUghWtXZiDV\n",
       "2kL2OmTW3QtQGO9Tmmr6bKR6TovVyKDnDZTGrVh3zyBZcx0vb2oxB4hNFWHYkWIUdppIi6p7zaR2\n",
       "xqiYa9/vkM6zXiauMUgsFyC/t+bZ98KlXC0xlwhh1UfbUxLhqzwVPqZJ/QxGNARYd0jHcE3UDJhr\n",
       "e5ENfQ5Vn95N9vDl9VZ1b0bQ62nUHdcVCNStYH/LdQFyi6aIZnKpeMfVT5XhBHIBp8m52HTJUWyq\n",
       "9IbLa2aUH/1n8HveH+ZoFua+Fh2AAAAAAElFTkSuQmCC\n",
       "\" style=\"display:inline;vertical-align:middle;\" /></a></span>"
      ],
      "text/plain": [
       "|- 4 not-in {1, 2, 3}"
      ]
     },
     "execution_count": 57,
     "metadata": {},
     "output_type": "execute_result"
    }
   ],
   "source": [
    "# A simple nonmembership claim can be deduced using conclude()\n",
    "NotInSet(four, Set(one, two, three)).conclude()"
   ]
  },
  {
   "cell_type": "code",
   "execution_count": 58,
   "metadata": {},
   "outputs": [
    {
     "name": "stdout",
     "output_type": "stream",
     "text": [
      "Proof Failure (InstantiationFailure): Proof step failed:\n",
      "Attempting to instantiate |- forall_{n in Natural} [forall_{x, y_{1}, y_{2}, ..., y_{n} | (x != y_{1}), (x != y_{2}), ..., (x != y_{n})} (x not-in {y_{1}, y_{2}, ..., y_{n}})] with {n: 3, x: 2, y: (1, 2, 3)}:\n",
      "Unsatisfied condition: 2 != 2\n"
     ]
    }
   ],
   "source": [
    "# We should not be able to conclude a False nonmembership claim\n",
    "try:\n",
    "    NotInSet(two, Set(one, two, three)).conclude()\n",
    "    assert False, \"Expecting a ProofFailure (TypeError); should not make it this far!\"\n",
    "except InstantiationFailure as the_error:\n",
    "    print(\"Proof Failure (InstantiationFailure): {}\".format(the_error))"
   ]
  },
  {
   "cell_type": "code",
   "execution_count": 60,
   "metadata": {},
   "outputs": [
    {
     "data": {
      "text/html": [
       "<span style=\"font-size:20px;\"><a class=\"ProveItLink\" href=\"../__pv_it/demonstrations/167a96dfd8a9b08073a5528ee3a18b59c03f70e30/expr.ipynb\"><img src=\"data:image/png;base64,iVBORw0KGgoAAAANSUhEUgAAADEAAAAOBAMAAAB0nulXAAAAMFBMVEX////MzMwyMjKqqqoiIiJm\n",
       "ZmaYmJju7u5EREQQEBC6urqIiIh2dnZUVFTc3NwAAAAqL9KcAAAAAXRSTlMAQObYZgAAAAlwSFlz\n",
       "AAAOxAAADsQBlSsOGwAAAIpJREFUGNNjYMAKGAMYcACWC7hktuCSYUzCJcPDBJLhu7NvA7rMPrDM\n",
       "ygcc30G8EBcQ8AUx+RJAMuzTGFgd0A1jAMmwfmBgOYAmkweW4WxgqF+AKsG3ASxTv4EhnwHVHq67\n",
       "d+/PPcBQb8BwifkBuuM4gXo4NjC7smJ4iL8B6LbbB99uRJdg7f+7AQBV2yg3Z1m/lQAAAABJRU5E\n",
       "rkJggg==\n",
       "\" style=\"display:inline;vertical-align:middle;\" /></a> <a class=\"ProveItLink\" href=\"../__pv_it/demonstrations/63e2b97143be17fa30543d9f79ad1622635b9ebe0/proof.ipynb\" style=\"text-decoration: none\">&nbsp;&#x22A2;&nbsp;&nbsp;</a><a class=\"ProveItLink\" href=\"../__pv_it/demonstrations/e7783d37447e248694350659d76ebb76fb3a20360/expr.ipynb\"><img src=\"data:image/png;base64,iVBORw0KGgoAAAANSUhEUgAAAGkAAAAVCAMAAAByvDCyAAAAP1BMVEX///9jY2MJCQkdHR0NDQ0W\n",
       "FhbMzMwyMjKqqqoiIiJmZmaYmJju7u5EREQQEBC6urqIiIh2dnZUVFTc3NwAAAA6ReaiAAAAAXRS\n",
       "TlMAQObYZgAAAAlwSFlzAAAOxAAADsQBlSsOGwAAAbxJREFUSMedltl2AyEIhm3aigtu6Ps/a9XJ\n",
       "HB11lsaL5Ijgp79Awtj5iMMcnWP/H1HEWx/Aw9SDww9IjJPBO4/DVKTdn8sxMioFhh9NISjz1sDQ\n",
       "NUkdtQpyk5AUpIEUTVlPvT+qejjRh56OYbm5+5FE9SWs7aUuEExwS/JG/v5IeEiy1UCpe3pnyw1v\n",
       "SQ48MuLP71SXKA0RWT19DI0UfPSd7CXpENhj0lvtNB5Y6mOos/nWpouGooL2Y4LANYmnYwT3tMvi\n",
       "txdEW8iqkxIWxcSi1dckOafynntx+1b10jK0w1gp5fcrf5jGIXDskqTMgm7fnkiQWba4YFcMWKtD\n",
       "DNqoVugrkh5uxKtwZi+ock6s8uo0FNKcl63QFyRRJIldlqfq8yZt7QXrhIC1Rug9c2oizbnXeLxq\n",
       "77HZLHXqhS0jTL6TkIp1e4MYi+lACluJ7h0gX0aqMmRn03quJyQfeCTf7Y30mtv2TiKyCahsIfdO\n",
       "K1Md0NtcRu8d9qIb6a9gcu6ddKP2OoscXNkuSPDMPSxCl7ZTUlzVhrejBf3stbJ17WU6g1jh02hd\n",
       "bbqyYWsv41j/REZF4pP/EWEL+wNwgRbglyMyawAAAABJRU5ErkJggg==\n",
       "\" style=\"display:inline;vertical-align:middle;\" /></a></span>"
      ],
      "text/plain": [
       "{a = 4} |- a not-in {1, 2, 3}"
      ]
     },
     "execution_count": 60,
     "metadata": {},
     "output_type": "execute_result"
    }
   ],
   "source": [
    "NotInSet(a, Set(one, two, three)).conclude(assumptions=[Equals(a, four)],\n",
    "                                           auto_simplify_with_known_evaluations=True)"
   ]
  },
  {
   "cell_type": "code",
   "execution_count": 61,
   "metadata": {},
   "outputs": [
    {
     "data": {
      "text/html": [
       "<span style=\"font-size:20px;\"><a class=\"ProveItLink\" href=\"../../../../numbers/ordering/__pv_it/theorems/ef097190be07bfef385d06d66c6c1568183e809c0/expr.ipynb\"><img src=\"data:image/png;base64,iVBORw0KGgoAAAANSUhEUgAAADAAAAAUCAMAAAD84U6VAAAAPFBMVEX///8NDQ0WFhYLCwsYGBjM\n",
       "zMwyMjKqqqoiIiJmZmaYmJju7u5EREQQEBC6urqIiIh2dnZUVFTc3NwAAADJzR5XAAAAAXRSTlMA\n",
       "QObYZgAAAAlwSFlzAAAOxAAADsQBlSsOGwAAAMpJREFUKM+VktkSwyAIRe3igjvy//9aNNMmJqmO\n",
       "PDiiwOGiQowMnFgy6fe988FME7w8egqmAOxc0lNAOXqRZoJiD8i7hII5lXRJUKV3MSVsXcXAN34H\n",
       "gmn2ftX1R3GkHC8c6oJtUROAbhUDNwJUfZPPCk5DBNUmxWHBN2AcA7aKkUfrqMq1dKhVe38+NiXY\n",
       "vQJQ1VF3qITuSqrz0El+5XomaAOi61lfvgFyrG+nDlOWBZMcAjgsg/37yDqvfesbwNjsKsAsAoQc\n",
       "3H0Av6IH7VVwiLUAAAAASUVORK5CYII=\n",
       "\" style=\"display:inline;vertical-align:middle;\" /></a>, <a class=\"ProveItLink\" href=\"../__pv_it/demonstrations/636b551eaa2c463238c85b046347f565e22cd1360/expr.ipynb\"><img src=\"data:image/png;base64,iVBORw0KGgoAAAANSUhEUgAAADAAAAAUCAMAAAD84U6VAAAAPFBMVEX///8NDQ0WFhYLCwsYGBjM\n",
       "zMwyMjKqqqoiIiJmZmaYmJju7u5EREQQEBC6urqIiIh2dnZUVFTc3NwAAADJzR5XAAAAAXRSTlMA\n",
       "QObYZgAAAAlwSFlzAAAOxAAADsQBlSsOGwAAALtJREFUKM+Vk9kSgyAMRdOFLYgJ8P//2qBTWnDU\n",
       "SR4YlSvnZgHgKkIEVZhFp4fFKAFZCyg6/XoKKJmp0OGznQFMhC2rNcnOUnsFg9/i/Wrrj1K8kz2p\n",
       "W0y4qe4AnmVJYiTU/jpkEKYedgupdSfW9QaQvk2MtaWL9e+s5v352DPJg2x/klwgW3DDkXaeooq7\n",
       "U6mP/Op8gMGzC4c53CyxlDVmYlMymUuAaBmRzqbXsXKKrPIeoBbglQC4ujcfvnQGwscC184AAAAA\n",
       "SUVORK5CYII=\n",
       "\" style=\"display:inline;vertical-align:middle;\" /></a>, <a class=\"ProveItLink\" href=\"../__pv_it/demonstrations/ff5229a285be461c466227f45b9dac3b3465b6060/expr.ipynb\"><img src=\"data:image/png;base64,iVBORw0KGgoAAAANSUhEUgAAADIAAAAUCAMAAAD4FJ6oAAAAPFBMVEX///8NDQ0WFhYLCwsYGBjM\n",
       "zMwyMjKqqqoiIiJmZmaYmJju7u5EREQQEBC6urqIiIh2dnZUVFTc3NwAAADJzR5XAAAAAXRSTlMA\n",
       "QObYZgAAAAlwSFlzAAAOxAAADsQBlSsOGwAAALdJREFUKM+VkkkSAyEIRcngPOv975pWk2paO1iy\n",
       "cAEfHl8FoEIZ2Axmpwx3imyxbM4VQULSnPOF3NXmORcl1eFvIMC7lZxiyGGuDpAqY92Kd0fNnjsq\n",
       "2eL9qudJQjLjdNMtIF8Zb0NLPWUcnQz3j2WuvpcpfuEEyUypxnVB86qH56M7+nnBMtPuIHEQl7F8\n",
       "eLGLzB7tQiq47C6mn4RlJoXIcgqMgvyRYUjc/fQ3kFXofYjchgAjqx/RlwhNqlZikwAAAABJRU5E\n",
       "rkJggg==\n",
       "\" style=\"display:inline;vertical-align:middle;\" /></a> <a class=\"ProveItLink\" href=\"../__pv_it/demonstrations/949884ff5a6e812442fbf8bd1ac55cea674c7ebe0/proof.ipynb\" style=\"text-decoration: none\">&nbsp;&#x22A2;&nbsp;&nbsp;</a><a class=\"ProveItLink\" href=\"../__pv_it/demonstrations/3dc4c50e651be99302c77ddfc01ead7b6fcc1dcd0/expr.ipynb\"><img src=\"data:image/png;base64,iVBORw0KGgoAAAANSUhEUgAAAGcAAAAVCAMAAABsdQABAAAARVBMVEX///8/Pz9vb28YGBgJCQkd\n",
       "HR0NDQ0WFhbMzMwyMjKqqqoiIiJmZmaYmJju7u5EREQQEBC6urqIiIh2dnZUVFTc3NwAAAAnAzaG\n",
       "AAAAAXRSTlMAQObYZgAAAAlwSFlzAAAOxAAADsQBlSsOGwAAAbJJREFUSMeVVeu6xBAMdO5VGiR4\n",
       "/0c9iq1LtbX+7FebzMiYBGPXy7WfYAx7e7nVPcZwqL+QG3ifhy1WwVNE/bX6GA5Ki1kGruX+q+x9\n",
       "nGxkohc8l9O1+LXJvFjt30d0Sp5ZJklww4NKiL9fPuLJyTMrp1zyGI4Byy7DekhMy5YVPjKcJXRY\n",
       "rBh9Bnx4OMYtou2kI8StPdUOuWSFDyV0sLgqcvDo+A07VyRe8OEU4OumcCLgSdUoUkOiTpl622GK\n",
       "HHzQPMzFqJe9dX0IQf1OhsyKuFSX9Edwsr0WYf18C6EqGbipy/JUFXo2RgcJlgcmraIcR7NAhKf2\n",
       "ChaZuzomm9rbWp0M0EHSfkjwe8Wb7/rm5Krc1ZGhLiHlt4OwhUxSQ8y0nB0DD0OUkRfN4JeX/C8q\n",
       "ny7OlJ0OkpIPVIBdhWQFOajZNU/hsQFVyWS8fBlJ56XsdJA5EyzS4iwWZLDqCy54wJJMBQiRY4i2\n",
       "bW/sstNC3nT250cYPGI4d6oJDs87DzwcJqKJPe/c8zg1GK26d9XZZzh+X/jloB2Mfte/B2fQMQ3k\n",
       "STJYwwfQSTv98lRZlLL+AaB8GMOlwZjhAAAAAElFTkSuQmCC\n",
       "\" style=\"display:inline;vertical-align:middle;\" /></a></span>"
      ],
      "text/plain": [
       "{a != b, a != c, a != d} |- a not-in {b, c, d}"
      ]
     },
     "execution_count": 61,
     "metadata": {},
     "output_type": "execute_result"
    }
   ],
   "source": [
    "NotInSet(a, Set(b, c, d)).conclude(assumptions=[NotEquals(a, b), NotEquals(a, c), NotEquals(a, d)])"
   ]
  },
  {
   "cell_type": "code",
   "execution_count": 62,
   "metadata": {},
   "outputs": [
    {
     "data": {
      "text/html": [
       "<span style=\"font-size:20px;\"><a class=\"ProveItLink\" href=\"../__pv_it/demonstrations/0ec6ed5578e824d31f05f5d64f0c9dee8312f05a0/expr.ipynb\"><img src=\"data:image/png;base64,iVBORw0KGgoAAAANSUhEUgAAADIAAAAVCAMAAAAzSE0NAAAARVBMVEX///8/Pz9vb28YGBgJCQkd\n",
       "HR0NDQ0WFhbMzMwyMjKqqqoiIiJmZmaYmJju7u5EREQQEBC6urqIiIh2dnZUVFTc3NwAAAAnAzaG\n",
       "AAAAAXRSTlMAQObYZgAAAAlwSFlzAAAOxAAADsQBlSsOGwAAAQhJREFUOMudU4tyAyEING3ainri\n",
       "A/3/Ty2SqD0nd02y480wCBzsilLHKOplgO+WgVADoLUYtrMMTcNMSLrVkHMCF6fpJHFT2Zym2GlS\n",
       "G8tjO0dI3PbP92xChnJaSXuPECFxzHrNo2k3yKScSprcClN+HRR9O/eigTvFOhgF0WNL+wyTp8sL\n",
       "1W4OC4sowzv+66rQk0fPwTK+rqzbX0KMyrEzEdqNr0OEG5GLAOws2Pn2tXW41UUPu2+L6RNtOLx9\n",
       "rR6BMv0VJq4R3Z5g1z3UaiFHGOvUDAKzisLsCh0FjYxBKetCaQZ5ws8dXzEgBETk54z5QP+PC78Y\n",
       "C+9tyrMo+PI6/rMVj0Cnt7/BxAx2jYlC2wAAAABJRU5ErkJggg==\n",
       "\" style=\"display:inline;vertical-align:middle;\" /></a> <a class=\"ProveItLink\" href=\"../__pv_it/demonstrations/225982e9a3a88e13df5fb06f095ac74bf5ed56560/proof.ipynb\" style=\"text-decoration: none\">&nbsp;&#x22A2;&nbsp;&nbsp;</a><a class=\"ProveItLink\" href=\"../__pv_it/demonstrations/746b12252a041dce8b69fb309a6388f97d6636e20/expr.ipynb\"><img src=\"data:image/png;base64,iVBORw0KGgoAAAANSUhEUgAAADMAAAAVCAMAAADciiYzAAAAP1BMVEX///9jY2MJCQkdHR0NDQ0W\n",
       "FhbMzMwyMjKqqqoiIiJmZmaYmJju7u5EREQQEBC6urqIiIh2dnZUVFTc3NwAAAA6ReaiAAAAAXRS\n",
       "TlMAQObYZgAAAAlwSFlzAAAOxAAADsQBlSsOGwAAAQ1JREFUOMudU+1yxCAIpNdW/ABF9P2ftWrS\n",
       "RHPTzF354QBxZbOrAH9HgfcDaU/IVeZR5VhjuoEYPXO2kEZJ9XaMnw5UVyCHnsVbjJtytdy4lkt3\n",
       "DWH3/eXwxJQgUPAGk1AI1MxzSq8lH5iiWYpMGneJCGHFQGPHacek2BuVTo077yBXjPFNdBoYil0P\n",
       "P/HExZwDA8GC5aGbH4q7fPoSnXOfj7bwigFtfzkwkYdVpxnUG9nC0xwghcGNaice6sWYi6QbBozA\n",
       "NqGfqAj2uJIikPyK4V14MYMvtznWeZh2oV3MGZ3fC4UbScmmqEy7SB9pls1gjbseq21zhI/MTTf8\n",
       "18t5PQq//0Av5rwUev/5B1YzC2VrUi7KAAAAAElFTkSuQmCC\n",
       "\" style=\"display:inline;vertical-align:middle;\" /></a></span>"
      ],
      "text/plain": [
       "{a not-in Integer} |- a not-in Natural"
      ]
     },
     "execution_count": 62,
     "metadata": {},
     "output_type": "execute_result"
    }
   ],
   "source": [
    "NotInSet(a, Natural).conclude(assumptions=[NotInSet(a, Integer)])"
   ]
  },
  {
   "cell_type": "code",
   "execution_count": 63,
   "metadata": {},
   "outputs": [
    {
     "data": {
      "text/html": [
       "<span style=\"font-size:20px;\"><a class=\"ProveItLink\" href=\"../__pv_it/demonstrations/167a96dfd8a9b08073a5528ee3a18b59c03f70e30/expr.ipynb\"><img src=\"data:image/png;base64,iVBORw0KGgoAAAANSUhEUgAAADEAAAAOBAMAAAB0nulXAAAAMFBMVEX////MzMwyMjKqqqoiIiJm\n",
       "ZmaYmJju7u5EREQQEBC6urqIiIh2dnZUVFTc3NwAAAAqL9KcAAAAAXRSTlMAQObYZgAAAAlwSFlz\n",
       "AAAOxAAADsQBlSsOGwAAAIpJREFUGNNjYMAKGAMYcACWC7hktuCSYUzCJcPDBJLhu7NvA7rMPrDM\n",
       "ygcc30G8EBcQ8AUx+RJAMuzTGFgd0A1jAMmwfmBgOYAmkweW4WxgqF+AKsG3ASxTv4EhnwHVHq67\n",
       "d+/PPcBQb8BwifkBuuM4gXo4NjC7smJ4iL8B6LbbB99uRJdg7f+7AQBV2yg3Z1m/lQAAAABJRU5E\n",
       "rkJggg==\n",
       "\" style=\"display:inline;vertical-align:middle;\" /></a> <a class=\"ProveItLink\" href=\"../__pv_it/demonstrations/cf3f13c7cf07150ae692ee441306854093f7dfe80/proof.ipynb\" style=\"text-decoration: none\">&nbsp;&#x22A2;&nbsp;&nbsp;</a><a class=\"ProveItLink\" href=\"../__pv_it/demonstrations/8118bfd2dd2cb42695032a65c0db57e6f8900ee20/expr.ipynb\"><img src=\"data:image/png;base64,iVBORw0KGgoAAAANSUhEUgAAAI0AAAAVCAMAAABMtZ25AAAARVBMVEX///8/Pz9vb28YGBgJCQkd\n",
       "HR0NDQ0WFhbMzMwyMjKqqqoiIiJmZmaYmJju7u5EREQQEBC6urqIiIh2dnZUVFTc3NwAAAAnAzaG\n",
       "AAAAAXRSTlMAQObYZgAAAAlwSFlzAAAOxAAADsQBlSsOGwAAAbhJREFUSMe9ltmWwyAIQJ09LsEN\n",
       "/f9PHTVNNWq0p9OMLz1SwBsQkJDBcsctaE2uWY65uRKFcmeohotoyIISpirljvldf+GtZU821XHW\n",
       "CnmLt8SJtTgkxvItXSior7z2ZPXq6IBIH8lK9+fr+H9WN52TW5leZzomgoCnUxojOf/5pn+hYWam\n",
       "o1UM/pRGUxPscCHX0tyu43p079AaV9i6VEtAyT/QaL4e3WsVil0WmjQV/1p5E/T1NIvBPQNGbTdb\n",
       "RTpRpI12mg1xar0oU1tNue1X+FQ/NgMrHtbXJ+cysyDV5FEaEe25Sm44TmiIukkBaeBR8Uzw+TBI\n",
       "EJYdYypys3xVbJaUJLk3nPi94KPV6us+0xRcbpavovFpf6PZWj2kDVKSB5cJfrSofbU1BU/S7JoK\n",
       "i0zZ7RbLYMW4IMXxIYFVsznQWJ/A9y5ayoY0td26tv0G0NjFoVnKmSI/4IwGUXmK0QW/T8EsO6fp\n",
       "2Gkh7lNzNBne38Jo4CeTIR84mpRtbIZ2IxoKj6jb0cxtp+bQbkDjZGeQquaRYJ57WnXtBD2HZx1C\n",
       "XwufhOnagToPZfcd5gSyq97FdnP9C6vEHwJsrvEfAAAAAElFTkSuQmCC\n",
       "\" style=\"display:inline;vertical-align:middle;\" /></a></span>"
      ],
      "text/plain": [
       "{a = 4} |- a not-in {1, 1 + 1, 3}"
      ]
     },
     "execution_count": 63,
     "metadata": {},
     "output_type": "execute_result"
    }
   ],
   "source": [
    "NotInSet(a, Set(one, Add(one, one), three)).conclude(assumptions=[Equals(a, four)])"
   ]
  },
  {
   "cell_type": "code",
   "execution_count": 64,
   "metadata": {},
   "outputs": [
    {
     "data": {
      "text/html": [
       "<span style=\"font-size:20px;\"><a class=\"ProveItLink\" href=\"../__pv_it/demonstrations/0253dbed1258e1c128ba9f6ec6b2a0640e2a18320/expr.ipynb\"><img src=\"data:image/png;base64,iVBORw0KGgoAAAANSUhEUgAAADAAAAAUCAMAAAD84U6VAAAAPFBMVEX///8NDQ0WFhYLCwsYGBjM\n",
       "zMwyMjKqqqoiIiJmZmaYmJju7u5EREQQEBC6urqIiIh2dnZUVFTc3NwAAADJzR5XAAAAAXRSTlMA\n",
       "QObYZgAAAAlwSFlzAAAOxAAADsQBlSsOGwAAALFJREFUKM+VktkSwyAIRWlTF9yR///XxiQda2Li\n",
       "yAMjg8cLAsCToYUpE64N9Yh3op4toeQBIKiN4whweQ4IJ4EKZEoxxwsg8w0Q/JpxVQ71Zp+leLoC\n",
       "1pvt1lDgByAXr9O5A4QbwJfpWA5DgQOwXNo1/LcPpfb3a++EOoBaPUlQzZOy8+VHSW5VUBqhqVlh\n",
       "ZzCJ874kMYlMUQwEiDxLMv0hqzS31t0OnszMCuhJARAPuS+LXAfGizpYiwAAAABJRU5ErkJggg==\n",
       "\" style=\"display:inline;vertical-align:middle;\" /></a>, <a class=\"ProveItLink\" href=\"../__pv_it/demonstrations/6bea360928de6ec1d21061661cc139b45a0a1d780/expr.ipynb\"><img src=\"data:image/png;base64,iVBORw0KGgoAAAANSUhEUgAAADEAAAAUCAMAAAATIyWrAAAAPFBMVEX///8NDQ0WFhYLCwsYGBjM\n",
       "zMwyMjKqqqoiIiJmZmaYmJju7u5EREQQEBC6urqIiIh2dnZUVFTc3NwAAADJzR5XAAAAAXRSTlMA\n",
       "QObYZgAAAAlwSFlzAAAOxAAADsQBlSsOGwAAAM5JREFUKM+VU1kSwyAItYuKW1W4/10rZKZjqjWV\n",
       "DzIk8hYwSq3CBbUXOnYFOmeivujoDyB3F3qtKWpXVOSc0poCuyIRe6qEi4ZXT6EqSCYRirVkzEOH\n",
       "mcABCVZqnyJ9BulA4vngXM/OiIFD8nLsLwoBcEIE5duFmyz02E/iRxgGPaHwh8Qg0jx1SKz/fjvc\n",
       "dD4sy0BsHZanZpQ9gZrhRmnRndv72DgsOHXSbQcXCI6DBxRqLhpr1msKIAnzY922bN7yCcVF+G0K\n",
       "2KVQyz/tDRK0CDlZK2LPAAAAAElFTkSuQmCC\n",
       "\" style=\"display:inline;vertical-align:middle;\" /></a>, <a class=\"ProveItLink\" href=\"../__pv_it/demonstrations/9193cf2d2da2f35428d04e71c05155cd5c6d25070/expr.ipynb\"><img src=\"data:image/png;base64,iVBORw0KGgoAAAANSUhEUgAAADEAAAAUCAMAAAATIyWrAAAAPFBMVEX///8NDQ0WFhYLCwsYGBjM\n",
       "zMwyMjKqqqoiIiJmZmaYmJju7u5EREQQEBC6urqIiIh2dnZUVFTc3NwAAADJzR5XAAAAAXRSTlMA\n",
       "QObYZgAAAAlwSFlzAAAOxAAADsQBlSsOGwAAAM5JREFUKM+VklcSwyAMREmhiGIQuv9dg3BCsPHg\n",
       "QR8MTbxdISFmAU6shfTdIqcEfrvJ8PI/d1AGTXqOwG4R+bIjNUfkbrEFVjTP2HDY0mR3T5hijsOx\n",
       "ysMbxn555chTKySYGu8Xjx1HRsRaChdsvXaP+NUKiOcmnRXAlbfAUgJ/k6PtBiGrIF8gjtizpa41\n",
       "WP/zsbtpPqga3TNYGiqhD4+qc0cFbKp8YWgD4qBbDy6sbf/hMCaZMcopgksBk07UabHLrxDzsMsI\n",
       "s4oQcnb4ATJYCDq1F6p0AAAAAElFTkSuQmCC\n",
       "\" style=\"display:inline;vertical-align:middle;\" /></a> <a class=\"ProveItLink\" href=\"../__pv_it/demonstrations/f7970feca21ec95e743357de1d5307aef17da8200/proof.ipynb\" style=\"text-decoration: none\">&nbsp;&#x22A2;&nbsp;&nbsp;</a><a class=\"ProveItLink\" href=\"../__pv_it/demonstrations/231694ec46a6438b73175ce122b3633ea50160a60/expr.ipynb\"><img src=\"data:image/png;base64,iVBORw0KGgoAAAANSUhEUgAAAIIAAAAVCAMAAAC9vsY0AAAARVBMVEX///8/Pz9vb28YGBgJCQkd\n",
       "HR0NDQ0WFhbMzMwyMjKqqqoiIiJmZmaYmJju7u5EREQQEBC6urqIiIh2dnZUVFTc3NwAAAAnAzaG\n",
       "AAAAAXRSTlMAQObYZgAAAAlwSFlzAAAOxAAADsQBlSsOGwAAAdxJREFUSMetVuvCwxAM9d3F/RLe\n",
       "/1E/dK1S1nWbP5v0SI4TCYTMR2inylryzhFYOMWA2s8cWPVWCoSiVmeI/YzFFU75ceHIljcqBGja\n",
       "2bwX+qanxvsURKO750s2UEDswo1sSzSdF8bGjxJlP2zvdDrazxXtBuHckAKWZBvTIlN0FeGMgtOc\n",
       "//3CqxRMsWLcHztrsihnFCy4tBTp6yqUNRhp/4FF2ToN6F1wNYOlEhSQlyncEhoPe+SydWpNEkpX\n",
       "H1B0k647nPAkBRo7T9ThqrBbjokymZKoWYFBUyDByCcp8EHhrRURll9RdOJ+I2l4Gj/fnOtKAMGS\n",
       "Rymsx/2mnibTg5rrGRIJo8uyLYQqazxrxRO1kZ2qwEX9L3sNaMmBXhtD3poqqZKx6weHaqmN7Eoi\n",
       "WBY37IsyFuSNwtJyVZkgkO3ScImTFb2zY0Wocwq0pDeX+PbZ4C4RfjmOOkVkSbsaNKUH6ZyCX1pN\n",
       "k3IfR7de4CIPvgdLeewLCp2nAR3d9Xz9pWYUEE0EzB74djVVW98RyoAGbBOp9Zq606A/P1KH5pMG\n",
       "XRN95fIegu9QAPUI2l95HAzBcwphUMvO9BblLjAYgwVMGbMBrdgbrzAYg5WRMzyOX0DI3vt29IvD\n",
       "fwmSHb8mupsDAAAAAElFTkSuQmCC\n",
       "\" style=\"display:inline;vertical-align:middle;\" /></a></span>"
      ],
      "text/plain": [
       "{a != 1, a != 2, a != 3} |- a not-in {1, 1 * 2, 3}"
      ]
     },
     "execution_count": 64,
     "metadata": {},
     "output_type": "execute_result"
    }
   ],
   "source": [
    "NotInSet(a, Set(one, Mult(one, two), three)).conclude(\n",
    "    assumptions=[NotEquals(a, one), NotEquals(a, two), NotEquals(a, three)])"
   ]
  },
  {
   "cell_type": "code",
   "execution_count": 65,
   "metadata": {},
   "outputs": [
    {
     "data": {
      "text/html": [
       "<span style=\"font-size:20px;\"><a class=\"ProveItLink\" href=\"../__pv_it/demonstrations/0253dbed1258e1c128ba9f6ec6b2a0640e2a18320/expr.ipynb\"><img src=\"data:image/png;base64,iVBORw0KGgoAAAANSUhEUgAAADAAAAAUCAMAAAD84U6VAAAAPFBMVEX///8NDQ0WFhYLCwsYGBjM\n",
       "zMwyMjKqqqoiIiJmZmaYmJju7u5EREQQEBC6urqIiIh2dnZUVFTc3NwAAADJzR5XAAAAAXRSTlMA\n",
       "QObYZgAAAAlwSFlzAAAOxAAADsQBlSsOGwAAALFJREFUKM+VktkSwyAIRWlTF9yR///XxiQda2Li\n",
       "yAMjg8cLAsCToYUpE64N9Yh3op4toeQBIKiN4whweQ4IJ4EKZEoxxwsg8w0Q/JpxVQ71Zp+leLoC\n",
       "1pvt1lDgByAXr9O5A4QbwJfpWA5DgQOwXNo1/LcPpfb3a++EOoBaPUlQzZOy8+VHSW5VUBqhqVlh\n",
       "ZzCJ874kMYlMUQwEiDxLMv0hqzS31t0OnszMCuhJARAPuS+LXAfGizpYiwAAAABJRU5ErkJggg==\n",
       "\" style=\"display:inline;vertical-align:middle;\" /></a>, <a class=\"ProveItLink\" href=\"../__pv_it/demonstrations/6bea360928de6ec1d21061661cc139b45a0a1d780/expr.ipynb\"><img src=\"data:image/png;base64,iVBORw0KGgoAAAANSUhEUgAAADEAAAAUCAMAAAATIyWrAAAAPFBMVEX///8NDQ0WFhYLCwsYGBjM\n",
       "zMwyMjKqqqoiIiJmZmaYmJju7u5EREQQEBC6urqIiIh2dnZUVFTc3NwAAADJzR5XAAAAAXRSTlMA\n",
       "QObYZgAAAAlwSFlzAAAOxAAADsQBlSsOGwAAAM5JREFUKM+VU1kSwyAItYuKW1W4/10rZKZjqjWV\n",
       "DzIk8hYwSq3CBbUXOnYFOmeivujoDyB3F3qtKWpXVOSc0poCuyIRe6qEi4ZXT6EqSCYRirVkzEOH\n",
       "mcABCVZqnyJ9BulA4vngXM/OiIFD8nLsLwoBcEIE5duFmyz02E/iRxgGPaHwh8Qg0jx1SKz/fjvc\n",
       "dD4sy0BsHZanZpQ9gZrhRmnRndv72DgsOHXSbQcXCI6DBxRqLhpr1msKIAnzY922bN7yCcVF+G0K\n",
       "2KVQyz/tDRK0CDlZK2LPAAAAAElFTkSuQmCC\n",
       "\" style=\"display:inline;vertical-align:middle;\" /></a>, <a class=\"ProveItLink\" href=\"../__pv_it/demonstrations/9193cf2d2da2f35428d04e71c05155cd5c6d25070/expr.ipynb\"><img src=\"data:image/png;base64,iVBORw0KGgoAAAANSUhEUgAAADEAAAAUCAMAAAATIyWrAAAAPFBMVEX///8NDQ0WFhYLCwsYGBjM\n",
       "zMwyMjKqqqoiIiJmZmaYmJju7u5EREQQEBC6urqIiIh2dnZUVFTc3NwAAADJzR5XAAAAAXRSTlMA\n",
       "QObYZgAAAAlwSFlzAAAOxAAADsQBlSsOGwAAAM5JREFUKM+VklcSwyAMREmhiGIQuv9dg3BCsPHg\n",
       "QR8MTbxdISFmAU6shfTdIqcEfrvJ8PI/d1AGTXqOwG4R+bIjNUfkbrEFVjTP2HDY0mR3T5hijsOx\n",
       "ysMbxn555chTKySYGu8Xjx1HRsRaChdsvXaP+NUKiOcmnRXAlbfAUgJ/k6PtBiGrIF8gjtizpa41\n",
       "WP/zsbtpPqga3TNYGiqhD4+qc0cFbKp8YWgD4qBbDy6sbf/hMCaZMcopgksBk07UabHLrxDzsMsI\n",
       "s4oQcnb4ATJYCDq1F6p0AAAAAElFTkSuQmCC\n",
       "\" style=\"display:inline;vertical-align:middle;\" /></a> <a class=\"ProveItLink\" href=\"../__pv_it/demonstrations/0e7c04ea552b7a75396daf7f73bce00cd4cfca200/proof.ipynb\" style=\"text-decoration: none\">&nbsp;&#x22A2;&nbsp;&nbsp;</a><a class=\"ProveItLink\" href=\"../__pv_it/demonstrations/8118bfd2dd2cb42695032a65c0db57e6f8900ee20/expr.ipynb\"><img src=\"data:image/png;base64,iVBORw0KGgoAAAANSUhEUgAAAI0AAAAVCAMAAABMtZ25AAAARVBMVEX///8/Pz9vb28YGBgJCQkd\n",
       "HR0NDQ0WFhbMzMwyMjKqqqoiIiJmZmaYmJju7u5EREQQEBC6urqIiIh2dnZUVFTc3NwAAAAnAzaG\n",
       "AAAAAXRSTlMAQObYZgAAAAlwSFlzAAAOxAAADsQBlSsOGwAAAbhJREFUSMe9ltmWwyAIQJ09LsEN\n",
       "/f9PHTVNNWq0p9OMLz1SwBsQkJDBcsctaE2uWY65uRKFcmeohotoyIISpirljvldf+GtZU821XHW\n",
       "CnmLt8SJtTgkxvItXSior7z2ZPXq6IBIH8lK9+fr+H9WN52TW5leZzomgoCnUxojOf/5pn+hYWam\n",
       "o1UM/pRGUxPscCHX0tyu43p079AaV9i6VEtAyT/QaL4e3WsVil0WmjQV/1p5E/T1NIvBPQNGbTdb\n",
       "RTpRpI12mg1xar0oU1tNue1X+FQ/NgMrHtbXJ+cysyDV5FEaEe25Sm44TmiIukkBaeBR8Uzw+TBI\n",
       "EJYdYypys3xVbJaUJLk3nPi94KPV6us+0xRcbpavovFpf6PZWj2kDVKSB5cJfrSofbU1BU/S7JoK\n",
       "i0zZ7RbLYMW4IMXxIYFVsznQWJ/A9y5ayoY0td26tv0G0NjFoVnKmSI/4IwGUXmK0QW/T8EsO6fp\n",
       "2Gkh7lNzNBne38Jo4CeTIR84mpRtbIZ2IxoKj6jb0cxtp+bQbkDjZGeQquaRYJ57WnXtBD2HZx1C\n",
       "XwufhOnagToPZfcd5gSyq97FdnP9C6vEHwJsrvEfAAAAAElFTkSuQmCC\n",
       "\" style=\"display:inline;vertical-align:middle;\" /></a></span>"
      ],
      "text/plain": [
       "{a != 1, a != 2, a != 3} |- a not-in {1, 1 + 1, 3}"
      ]
     },
     "execution_count": 65,
     "metadata": {},
     "output_type": "execute_result"
    }
   ],
   "source": [
    "# So do this one -- finding that when a!=1, a!=2, a!=3, then a not in {1, 1+1, 3}.\n",
    "NotInSet(a, Set(one, Add(one, one), three)).conclude(\n",
    "        assumptions=[NotEquals(a, one), NotEquals(a, two), NotEquals(a, three)])"
   ]
  },
  {
   "cell_type": "code",
   "execution_count": 66,
   "metadata": {},
   "outputs": [
    {
     "data": {
      "text/html": [
       "<span style=\"font-size:20px;\"><a class=\"ProveItLink\" href=\"../__pv_it/demonstrations/0253dbed1258e1c128ba9f6ec6b2a0640e2a18320/expr.ipynb\"><img src=\"data:image/png;base64,iVBORw0KGgoAAAANSUhEUgAAADAAAAAUCAMAAAD84U6VAAAAPFBMVEX///8NDQ0WFhYLCwsYGBjM\n",
       "zMwyMjKqqqoiIiJmZmaYmJju7u5EREQQEBC6urqIiIh2dnZUVFTc3NwAAADJzR5XAAAAAXRSTlMA\n",
       "QObYZgAAAAlwSFlzAAAOxAAADsQBlSsOGwAAALFJREFUKM+VktkSwyAIRWlTF9yR///XxiQda2Li\n",
       "yAMjg8cLAsCToYUpE64N9Yh3op4toeQBIKiN4whweQ4IJ4EKZEoxxwsg8w0Q/JpxVQ71Zp+leLoC\n",
       "1pvt1lDgByAXr9O5A4QbwJfpWA5DgQOwXNo1/LcPpfb3a++EOoBaPUlQzZOy8+VHSW5VUBqhqVlh\n",
       "ZzCJ874kMYlMUQwEiDxLMv0hqzS31t0OnszMCuhJARAPuS+LXAfGizpYiwAAAABJRU5ErkJggg==\n",
       "\" style=\"display:inline;vertical-align:middle;\" /></a>, <a class=\"ProveItLink\" href=\"../__pv_it/demonstrations/9193cf2d2da2f35428d04e71c05155cd5c6d25070/expr.ipynb\"><img src=\"data:image/png;base64,iVBORw0KGgoAAAANSUhEUgAAADEAAAAUCAMAAAATIyWrAAAAPFBMVEX///8NDQ0WFhYLCwsYGBjM\n",
       "zMwyMjKqqqoiIiJmZmaYmJju7u5EREQQEBC6urqIiIh2dnZUVFTc3NwAAADJzR5XAAAAAXRSTlMA\n",
       "QObYZgAAAAlwSFlzAAAOxAAADsQBlSsOGwAAAM5JREFUKM+VklcSwyAMREmhiGIQuv9dg3BCsPHg\n",
       "QR8MTbxdISFmAU6shfTdIqcEfrvJ8PI/d1AGTXqOwG4R+bIjNUfkbrEFVjTP2HDY0mR3T5hijsOx\n",
       "ysMbxn555chTKySYGu8Xjx1HRsRaChdsvXaP+NUKiOcmnRXAlbfAUgJ/k6PtBiGrIF8gjtizpa41\n",
       "WP/zsbtpPqga3TNYGiqhD4+qc0cFbKp8YWgD4qBbDy6sbf/hMCaZMcopgksBk07UabHLrxDzsMsI\n",
       "s4oQcnb4ATJYCDq1F6p0AAAAAElFTkSuQmCC\n",
       "\" style=\"display:inline;vertical-align:middle;\" /></a>, <a class=\"ProveItLink\" href=\"../__pv_it/demonstrations/7d626a32fccb760958840723d2e59c0b0e0d61ef0/expr.ipynb\"><img src=\"data:image/png;base64,iVBORw0KGgoAAAANSUhEUgAAADEAAAAUCAMAAAATIyWrAAAAPFBMVEX///8NDQ0WFhYLCwsYGBjM\n",
       "zMwyMjKqqqoiIiJmZmaYmJju7u5EREQQEBC6urqIiIh2dnZUVFTc3NwAAADJzR5XAAAAAXRSTlMA\n",
       "QObYZgAAAAlwSFlzAAAOxAAADsQBlSsOGwAAAMJJREFUKM+VktkSwyAIRenirlHk//+1apq0oVbH\n",
       "++BkIIcrCMBIxsGahOcBMyG8YAGNEwuejzPCZ1bByjGx8XSCg8iYYo4/hGQWMR/EFkrK0zlIo5ue\n",
       "j3p+fLKFN+GCbb/NLBIchKE2t8S7YKO3+SRCfSZH29hi77MRjuq3pa/VqPe/3/Zu8BxcFQVMhVAl\n",
       "gBLUpajsblRoBXzxUNrA5d6qv0DUFs1hTCJjFFML44kw9p9bpcUt/9PFQHbZQq9agBglX6jlB+Ag\n",
       "jU23AAAAAElFTkSuQmCC\n",
       "\" style=\"display:inline;vertical-align:middle;\" /></a> <a class=\"ProveItLink\" href=\"../__pv_it/demonstrations/16edd64eef8d6e01740dd47374f9cc3d41fa823d0/proof.ipynb\" style=\"text-decoration: none\">&nbsp;&#x22A2;&nbsp;&nbsp;</a><a class=\"ProveItLink\" href=\"../__pv_it/demonstrations/493ecf041932bfc5a63386d4c88e67eb712648b00/expr.ipynb\"><img src=\"data:image/png;base64,iVBORw0KGgoAAAANSUhEUgAAAI0AAAAVCAMAAABMtZ25AAAARVBMVEX///8/Pz9vb28YGBgJCQkd\n",
       "HR0NDQ0WFhbMzMwyMjKqqqoiIiJmZmaYmJju7u5EREQQEBC6urqIiIh2dnZUVFTc3NwAAAAnAzaG\n",
       "AAAAAXRSTlMAQObYZgAAAAlwSFlzAAAOxAAADsQBlSsOGwAAAeRJREFUSMe1ltt24yAMRWmn00GA\n",
       "uQr9/6cW8KRcbadJw0sWREdskJDM2MmI/VQ7x14zoojXRqDbmQenX0TDOBp9adLOBN3suZyVq7Xh\n",
       "/EqB4bNQ7b8GL/SqC0yQe7hQAQ07r9YmGJN90BRriZ3749H/X839Yud5zW3dFEtmWDvq7qHxRsp/\n",
       "n/AMjfDd1BYDpD5d+QaXNA58kiJnv0iDRY40OGUTTcTgY6ON5S1pYL9J8z/41KviRONsuj3TeINy\n",
       "m9vgTcHzNJy6xZhS60bj94zSNqebasIGi2LDot2ep5E4xKnSRBLlzOXyZKgHsDKNvx9SmsqC4Ni9\n",
       "NCrrpS1uuv2V6TRbbGhSmYDEY7OJbgqBLpoghiJVi+Wjd7P1N7On6jdNyOfVJZQbjXVmenC1WD5I\n",
       "I/L1x/rCHeZBFkMt9brEC4HVxuWTH6fG/eY3pX9Ew8umuXR0lvb2pvYsNkklpGLN9imAyI9pwl7C\n",
       "NDU1IFA8p4lS5SEHHSMzNB4feETP275j/ugjGkRLgPmBye9OWdcOaSSVAZ0u5TUR+qvO8P6WWoM8\n",
       "6Ax1w7NOuax+x7ozGtD3mIeznjt0zSvdCU00i0Y6tl+m/WOfVkudgmN4sSCkcfFBmKVO2+OrxPXH\n",
       "G4pXfReH3fUXYAkfGE8YLa0AAAAASUVORK5CYII=\n",
       "\" style=\"display:inline;vertical-align:middle;\" /></a></span>"
      ],
      "text/plain": [
       "{a != 1, a != 3, a != 4} |- a not-in {1, 1 + 2, 4}"
      ]
     },
     "execution_count": 66,
     "metadata": {},
     "output_type": "execute_result"
    }
   ],
   "source": [
    "NotInSet(a, Set(one, Add(one, two), four)).conclude(\n",
    "        assumptions=[NotEquals(a, one), NotEquals(a, three), NotEquals(a, four)])"
   ]
  },
  {
   "cell_type": "markdown",
   "metadata": {},
   "source": [
    "### `NotInSet.conclude_as_folded()`\n",
    "\n",
    "Attempt to conclude x not in S via Not(x in S)."
   ]
  },
  {
   "cell_type": "code",
   "execution_count": 67,
   "metadata": {},
   "outputs": [
    {
     "data": {
      "text/html": [
       "<span style=\"font-size:20px;\"> <a class=\"ProveItLink\" href=\"../__pv_it/demonstrations/94df3480a8d481ccd06f0998daa82b1550a7c86e0/proof.ipynb\" style=\"text-decoration: none\">&nbsp;&#x22A2;&nbsp;&nbsp;</a><a class=\"ProveItLink\" href=\"../__pv_it/demonstrations/afc434f733be884f603e141c91b504a0b7e8b4d60/expr.ipynb\"><img src=\"data:image/png;base64,iVBORw0KGgoAAAANSUhEUgAAAGgAAAAVCAMAAACdfluMAAAAP1BMVEX///9jY2MJCQkdHR0NDQ0W\n",
       "FhYQEBC6urrMzMxUVFRERESYmJgiIiLu7u6qqqoyMjLc3NxmZmaIiIh2dnYAAABMZ/0kAAAAAXRS\n",
       "TlMAQObYZgAAAAlwSFlzAAAOxAAADsQBlSsOGwAAAcRJREFUSMedlluy4yAMRJncGUAg8d7/Wsdg\n",
       "THjF1xU+4kJGHGirVWHs43DjlIRgXwxn3G9LLPWzYAV9A2IS1JUYY/Bus6CfmdQwEiei894qOcVi\n",
       "9KpKoOpO1hy64ELyg1IRq4DgbRpBTuX3aVhOvhzO9Lm6PKKaQch2oCziBIJyRs4HoTODku1zz4uZ\n",
       "ITso/PcX7TMQL3NIvSaC5wuOoOSL8PWaZZUNxEA+vlF5BUnOmpiku1y6QLppnsuNLHsKqkqnOSJQ\n",
       "97kuxRMUWllnDXSYSsPeg7r8GghwiRL4AIoNtJqIOa7vQQhr7Ko6V550EkQ7keSI+PM6flohOrCC\n",
       "3YK82nmV15UE2ULnNzKtGKjYwow6eEV3ID3fRxbV1GWkck5VDqPf2biYqHP3FmSyKK4v71TWVFC1\n",
       "jubzxw5M+Bm0qbp3TyriB+pCHDrpYvUyZhPzzgXWgLwBxdOal++ZQ58HdiGm9eKj3JdiGHYmeC2d\n",
       "uoEAeLKQd8DaXDGVYbvQUVwH+mqqET91dv0nqqPqPrSg96ehJ6E7kKVHi+Oj0A3IbUwR+BKi8CQ0\n",
       "Ftp0ArOBpyW42XTLoa6rjAO21/RgvvrPEM+8/5g5GROGBFEgAAAAAElFTkSuQmCC\n",
       "\" style=\"display:inline;vertical-align:middle;\" /></a></span>"
      ],
      "text/plain": [
       "|- 0 not-in {1, 2, 3}"
      ]
     },
     "execution_count": 67,
     "metadata": {},
     "output_type": "execute_result"
    }
   ],
   "source": [
    "NotInSet(zero, Set(one, two, three)).conclude_as_folded()"
   ]
  },
  {
   "cell_type": "code",
   "execution_count": 68,
   "metadata": {},
   "outputs": [
    {
     "data": {
      "text/html": [
       "<span style=\"font-size:20px;\"><a class=\"ProveItLink\" href=\"../__pv_it/demonstrations/ea68d40a0896daafe2892a41d1dc9b45c56931340/expr.ipynb\"><img src=\"data:image/png;base64,iVBORw0KGgoAAAANSUhEUgAAAIYAAAAVBAMAAABxpYtPAAAAMFBMVEX////MzMxERES6uroQEBCY\n",
       "mJgyMjLu7u52dnaqqqqIiIhUVFTc3NwiIiJmZmYAAAAM3gM0AAAAAXRSTlMAQObYZgAAAAlwSFlz\n",
       "AAAOxAAADsQBlSsOGwAAAjJJREFUOMtjYECAAwzYALsxAw7AMwdEoAhxTcCqcpk5LjMYpNUZGJgX\n",
       "IIvMwKqO8zsDQ5EvFgkxPwYGbSC9FNnNCVjN4LgAJPKwyfxkYOgFUmwFCCG+ANxm/MQiwfwdYgbr\n",
       "A4QYC4qKRXfvJsDNACnHajjIDAZ3hNg0ZAVmy5GVgt2CDtgeQM1IRYi9AEXUjjXgYOZJR7GObddq\n",
       "aJxxrAqEME53yU+AmtGNMANknMkBJrCz2RBJhQ/opfp09j+QFHGT4REkMHwY9IFhuQTEDmN4excI\n",
       "7gGZN4FR48rAB3Y2G8LoI8Cgnl/A4AXm8DZAGSUBDM+A1HmQ86ZAXQbEzkA7P4BUAYEIyGAFsEwy\n",
       "kAAq/wFW9x4Wj+8ZGG6A0sM2oCHyKGawKDDUG4D4RXBnMD4qAClnhsSuE0zYiYH9Myh4QDaYIMwA\n",
       "+qV+AUM8xM0IvzBtACUPPnAwsf+CpcdfDKwfGMCeZGCYCxE7B8RaQDMmMGzjBAUn1wKUePkI8j9I\n",
       "+VdgaIIY7D8ZuBOAOa4FpCIIYSEwipgWcN7jA3MyUczYyqDHwP4NyAFGSiOYocUw9wEsfbxAmCEL\n",
       "NH5X4+mFYE61cgGSGdV9wMi5CxThaI0qADOqV8jsEoCacRlhBq8Aciq00EVK65AMXIDOgJjBg5SI\n",
       "kfMOep4DMxjQGRAzUPKqDlYzuBygjCoGdAY44TAcQlZdhL3Ag+V7eFQh4gyYrtGs5lmA1ZBzO3GW\n",
       "p93AVMp1gAEAemuTMyTgJUIAAAAASUVORK5CYII=\n",
       "\" style=\"display:inline;vertical-align:middle;\" /></a> <a class=\"ProveItLink\" href=\"../__pv_it/demonstrations/b6200702195bc77945a6c67a1190e7b0ea87340e0/proof.ipynb\" style=\"text-decoration: none\">&nbsp;&#x22A2;&nbsp;&nbsp;</a><a class=\"ProveItLink\" href=\"../__pv_it/demonstrations/3dc4c50e651be99302c77ddfc01ead7b6fcc1dcd0/expr.ipynb\"><img src=\"data:image/png;base64,iVBORw0KGgoAAAANSUhEUgAAAGcAAAAVCAMAAABsdQABAAAARVBMVEX///8/Pz9vb28YGBgJCQkd\n",
       "HR0NDQ0WFhbMzMwyMjKqqqoiIiJmZmaYmJju7u5EREQQEBC6urqIiIh2dnZUVFTc3NwAAAAnAzaG\n",
       "AAAAAXRSTlMAQObYZgAAAAlwSFlzAAAOxAAADsQBlSsOGwAAAbJJREFUSMeVVeu6xBAMdO5VGiR4\n",
       "/0c9iq1LtbX+7FebzMiYBGPXy7WfYAx7e7nVPcZwqL+QG3ifhy1WwVNE/bX6GA5Ki1kGruX+q+x9\n",
       "nGxkohc8l9O1+LXJvFjt30d0Sp5ZJklww4NKiL9fPuLJyTMrp1zyGI4Byy7DekhMy5YVPjKcJXRY\n",
       "rBh9Bnx4OMYtou2kI8StPdUOuWSFDyV0sLgqcvDo+A07VyRe8OEU4OumcCLgSdUoUkOiTpl622GK\n",
       "HHzQPMzFqJe9dX0IQf1OhsyKuFSX9Edwsr0WYf18C6EqGbipy/JUFXo2RgcJlgcmraIcR7NAhKf2\n",
       "ChaZuzomm9rbWp0M0EHSfkjwe8Wb7/rm5Krc1ZGhLiHlt4OwhUxSQ8y0nB0DD0OUkRfN4JeX/C8q\n",
       "ny7OlJ0OkpIPVIBdhWQFOajZNU/hsQFVyWS8fBlJ56XsdJA5EyzS4iwWZLDqCy54wJJMBQiRY4i2\n",
       "bW/sstNC3nT250cYPGI4d6oJDs87DzwcJqKJPe/c8zg1GK26d9XZZzh+X/jloB2Mfte/B2fQMQ3k\n",
       "STJYwwfQSTv98lRZlLL+AaB8GMOlwZjhAAAAAElFTkSuQmCC\n",
       "\" style=\"display:inline;vertical-align:middle;\" /></a></span>"
      ],
      "text/plain": [
       "{[not](a in {b, c, d})} |- a not-in {b, c, d}"
      ]
     },
     "execution_count": 68,
     "metadata": {},
     "output_type": "execute_result"
    }
   ],
   "source": [
    "NotInSet(a, Set(b, c, d)).conclude_as_folded(assumptions=[Not(InSet(a, Set(b, c, d)))])"
   ]
  },
  {
   "cell_type": "code",
   "execution_count": 69,
   "metadata": {},
   "outputs": [
    {
     "data": {
      "text/html": [
       "<span style=\"font-size:20px;\"><a class=\"ProveItLink\" href=\"../__pv_it/demonstrations/ff5229a285be461c466227f45b9dac3b3465b6060/expr.ipynb\"><img src=\"data:image/png;base64,iVBORw0KGgoAAAANSUhEUgAAADIAAAAUCAMAAAD4FJ6oAAAAPFBMVEX///8NDQ0WFhYLCwsYGBjM\n",
       "zMwyMjKqqqoiIiJmZmaYmJju7u5EREQQEBC6urqIiIh2dnZUVFTc3NwAAADJzR5XAAAAAXRSTlMA\n",
       "QObYZgAAAAlwSFlzAAAOxAAADsQBlSsOGwAAALdJREFUKM+VkkkSAyEIRcngPOv975pWk2paO1iy\n",
       "cAEfHl8FoEIZ2Axmpwx3imyxbM4VQULSnPOF3NXmORcl1eFvIMC7lZxiyGGuDpAqY92Kd0fNnjsq\n",
       "2eL9qudJQjLjdNMtIF8Zb0NLPWUcnQz3j2WuvpcpfuEEyUypxnVB86qH56M7+nnBMtPuIHEQl7F8\n",
       "eLGLzB7tQiq47C6mn4RlJoXIcgqMgvyRYUjc/fQ3kFXofYjchgAjqx/RlwhNqlZikwAAAABJRU5E\n",
       "rkJggg==\n",
       "\" style=\"display:inline;vertical-align:middle;\" /></a>, <a class=\"ProveItLink\" href=\"../__pv_it/demonstrations/636b551eaa2c463238c85b046347f565e22cd1360/expr.ipynb\"><img src=\"data:image/png;base64,iVBORw0KGgoAAAANSUhEUgAAADAAAAAUCAMAAAD84U6VAAAAPFBMVEX///8NDQ0WFhYLCwsYGBjM\n",
       "zMwyMjKqqqoiIiJmZmaYmJju7u5EREQQEBC6urqIiIh2dnZUVFTc3NwAAADJzR5XAAAAAXRSTlMA\n",
       "QObYZgAAAAlwSFlzAAAOxAAADsQBlSsOGwAAALtJREFUKM+Vk9kSgyAMRdOFLYgJ8P//2qBTWnDU\n",
       "SR4YlSvnZgHgKkIEVZhFp4fFKAFZCyg6/XoKKJmp0OGznQFMhC2rNcnOUnsFg9/i/Wrrj1K8kz2p\n",
       "W0y4qe4AnmVJYiTU/jpkEKYedgupdSfW9QaQvk2MtaWL9e+s5v352DPJg2x/klwgW3DDkXaeooq7\n",
       "U6mP/Op8gMGzC4c53CyxlDVmYlMymUuAaBmRzqbXsXKKrPIeoBbglQC4ujcfvnQGwscC184AAAAA\n",
       "SUVORK5CYII=\n",
       "\" style=\"display:inline;vertical-align:middle;\" /></a>, <a class=\"ProveItLink\" href=\"../__pv_it/demonstrations/05b93f272fdc259baa4e5cb0290fa502430650640/expr.ipynb\"><img src=\"data:image/png;base64,iVBORw0KGgoAAAANSUhEUgAAADMAAAAUCAMAAAAX1vWWAAAAPFBMVEX///8NDQ0WFhYLCwsYGBjM\n",
       "zMwyMjKqqqoiIiJmZmaYmJju7u5EREQQEBC6urqIiIh2dnZUVFTc3NwAAADJzR5XAAAAAXRSTlMA\n",
       "QObYZgAAAAlwSFlzAAAOxAAADsQBlSsOGwAAANJJREFUOMuVk9kOAyEIRe2iuOAo+v//Wp2pbV2C\n",
       "KQ/GoHK4gEJwZpz41yTOUWLk46AcPZGkBxZDk8vDgSwH0+g58kbgMWOibrtEMaQwXVAjxpLXZK54\n",
       "vhzil2r0ac9HXXtWfkd23p4Xt5iSUH4X0uS66jiqMbNCyK18tXEuH3vMpwTuzNHmn1ZXHffbparT\n",
       "g9Te1L6SEtAFVqtG+FZcLBvQRnT5w0JNKUET4ChEmSjILQYyNwIQlz+DuDcLDJBQ3ETbBUajUxxG\n",
       "L9TYYBL7cfiBfwFHrwfcwWMdLQAAAABJRU5ErkJggg==\n",
       "\" style=\"display:inline;vertical-align:middle;\" /></a> <a class=\"ProveItLink\" href=\"../__pv_it/demonstrations/a53b6535887e02d4dbc7c6de1964f98a03882fb80/proof.ipynb\" style=\"text-decoration: none\">&nbsp;&#x22A2;&nbsp;&nbsp;</a><a class=\"ProveItLink\" href=\"../__pv_it/demonstrations/8a0f761b23ffb3b5229871f051d5106d3764330c0/expr.ipynb\"><img src=\"data:image/png;base64,iVBORw0KGgoAAAANSUhEUgAAAGoAAAAVCAMAAACZi4uxAAAAP1BMVEX///9jY2MJCQkdHR0NDQ0W\n",
       "FhbMzMwyMjKqqqoiIiJmZmaYmJju7u5EREQQEBC6urqIiIh2dnZUVFTc3NwAAAA6ReaiAAAAAXRS\n",
       "TlMAQObYZgAAAAlwSFlzAAAOxAAADsQBlSsOGwAAAbFJREFUSMedVel27iAItO2tuIvL+z/rjVk+\n",
       "cUty6o+cOBmE4ACMrVdqt8Z79peVRHrkgKE7BG/+5IrxaM0Tg+5EpnQOTr1wokLYrWx84DX5CrL9\n",
       "msWzpxC5EzPjfrWfO7bPL7LphD9Sd+cKrfz9J2Ht6inONpw12wMaFvnd2fDiqqrJ5y3FgAmJOov0\n",
       "DKzsCp33VxUQdRubjk5G1Rp7t+nektxDqQONnUgu1wO9eJebZ2W7v8qfI9Adlel0OYnkB8aiYmln\n",
       "VXr7zzIUEXTBpczr654ElT/ks2aclPLne3vYmjO4lD/Qd2wmR5FJp4mwOXPlQJNrEZkChPYuuLoK\n",
       "fqBf2I0qtvcSqtkzqnNXUIM6z4Kf0E+MLSxqqzF7GiOw2hQRmVeLGBv6lbZ83KOvCGvvLhyysBsi\n",
       "pGLkcBBdUZF0ELrJpzgO7QVekV0KfogzYuApIqeX+D108csVpUt5skLQGg1FWlXc9Bb9FeymQHjq\n",
       "RMKsERVfuQJzq6cKrhARGYg3rtJEvGfBt3MZV4i0TWPrKp6GNplFaTKgcIloVGTKm6vVjGs6M5OK\n",
       "L6bhzDAchv8B7TAVgWJKETsAAAAASUVORK5CYII=\n",
       "\" style=\"display:inline;vertical-align:middle;\" /></a></span>"
      ],
      "text/plain": [
       "{a != d, a != c, a != f} |- a not-in {d, c, f}"
      ]
     },
     "execution_count": 69,
     "metadata": {},
     "output_type": "execute_result"
    }
   ],
   "source": [
    "# This is an interesting example\n",
    "NotInSet(a, Set(d, c, f)).conclude_as_folded(assumptions=[NotEquals(a, c), NotEquals(a, d), NotEquals(a, f)])"
   ]
  },
  {
   "cell_type": "markdown",
   "metadata": {},
   "source": [
    "### `NotInSet.shallow_simplification()`\n",
    "\n",
    "Attempt to evaluate whether some x ∉ S is TRUE or FALSE using the 'definition' method of the domain's 'nonmembership_object' if there is one."
   ]
  },
  {
   "cell_type": "code",
   "execution_count": 70,
   "metadata": {},
   "outputs": [
    {
     "data": {
      "text/html": [
       "<span style=\"font-size:20px;\"> <a class=\"ProveItLink\" href=\"../__pv_it/demonstrations/e6c107cb31e2a8fb8262dac5036320e861b415250/proof.ipynb\" style=\"text-decoration: none\">&nbsp;&#x22A2;&nbsp;&nbsp;</a><a class=\"ProveItLink\" href=\"../__pv_it/demonstrations/27e39001496327b52f9db02ede1227e9bdfa0d260/expr.ipynb\"><img src=\"data:image/png;base64,iVBORw0KGgoAAAANSUhEUgAAALYAAAAVCAMAAADcpuR2AAAAP1BMVEX///9jY2MJCQkdHR0NDQ0W\n",
       "FhbMzMxUVFRERES6uroiIiIQEBCYmJhmZmYyMjLu7u52dnaqqqqIiIjc3NwAAACGmE1UAAAAAXRS\n",
       "TlMAQObYZgAAAAlwSFlzAAAOxAAADsQBlSsOGwAAAo9JREFUSMetl9l23CAMQGnaInYw8P/fWsDY\n",
       "LBaJScPDnBmZERftJiStQNZrfmY5Jz+zwhFWh7xa/vjkobHjXsPt/9HScvkMSoFVXdzv6zlcubDW\n",
       "htHnITDujRc0FRg+1aNBndNs8o6Mxoj6Z3Zp9+orSi26lf5mTTmApQ8XHwGgR4kTZ6SANhHDFsMt\n",
       "rS43HZ0pZBTODuqeTl2a+HaLLheFEl5SPjgIhp3tg2H7EdtnYhvNsAdQdUpvYsvqukwBsU8Oz8Tf\n",
       "P8K8x6bKDNhcZl+9wibSbmEfp1IoCiC26ObGWwJ0x9qOjNg1HdQbbKO2sLXrQyK2bMrRZg3ZwPYB\n",
       "weZi4gHl3WWNDtvBFnZ/SxpbITI5XNRcmLRZY4ekacamHmaH5aIXau77lkvKrGoGii0OvA4YLL+D\n",
       "VGvs7DY0SJC2wE4zh/bskFvWlq3CadaZSaar/v5IH00YwHCyxFYBx67ZPnmt5r4Fc1ye/ia26o+0\n",
       "pY4fczNhdoUdisIRm5b4YIO5mTmxz9BxtyH4nrXvICnNMoS+YIunc2GFzSGvKKFL8Vj2jNiylqyp\n",
       "6ZJDbMU2q19oOc43a3rCny3gWUlGeAm97PxVgsT2GZBkZ+i5LiXZlrVr4QlC59XZ1xxAP8F2Z3RO\n",
       "PTCyXqbUVbfbtqBLBbFzARwK8dfYVNSKXVbHYOHjOexd5wCkiQgylehGKs1iBN/JeLLEOUq1bWlm\n",
       "A/2YSYh4NQ/zu5IJutiifjmWomvR3JsBkK6MyLBtnbogNufW5RCDDWUINuZc90rUq9NqE5sw/N0i\n",
       "YDniH2XKIhM+IrPoi8DddAPbpT5LNGIJ7J0nPFoehuNfidLJd9Nl33gtC6hOfLQJGo6fepd0tyq/\n",
       "S/0POqsiS4UWS2gAAAAASUVORK5CYII=\n",
       "\" style=\"display:inline;vertical-align:middle;\" /></a></span>"
      ],
      "text/plain": [
       "|- (2 not-in {1, 4, 3, 5}) = TRUE"
      ]
     },
     "execution_count": 70,
     "metadata": {},
     "output_type": "execute_result"
    }
   ],
   "source": [
    "# A simple nonmembership claim can be deduced using shallow_simplification\n",
    "NotInSet(two, Set(one, four, three, five)).shallow_simplification(must_evaluate=True)"
   ]
  },
  {
   "cell_type": "code",
   "execution_count": 71,
   "metadata": {},
   "outputs": [
    {
     "data": {
      "text/html": [
       "<span style=\"font-size:20px;\"> <a class=\"ProveItLink\" href=\"../__pv_it/demonstrations/73afe7b8fe6cb9712266361d1959880c2e7565e00/proof.ipynb\" style=\"text-decoration: none\">&nbsp;&#x22A2;&nbsp;&nbsp;</a><a class=\"ProveItLink\" href=\"../__pv_it/demonstrations/6ce29a1096ca75fd8c7cece6f01bf34788cd951d0/expr.ipynb\"><img src=\"data:image/png;base64,iVBORw0KGgoAAAANSUhEUgAAAMYAAAAVCAMAAAAq72HuAAAAP1BMVEX///9jY2MJCQkdHR0NDQ0W\n",
       "FhbMzMxUVFRERES6uroiIiIQEBCYmJhmZmYyMjLu7u52dnaqqqqIiIjc3NwAAACGmE1UAAAAAXRS\n",
       "TlMAQObYZgAAAAlwSFlzAAAOxAAADsQBlSsOGwAAAllJREFUWMO1V9mW5CAIdbpn3Hf9/28dYxLR\n",
       "qNUx1eVDnTrXgFxAQITSCmi+rnuGMfSZFVyYHXprefdiU5v2W83Mh2ggTOihm/l1aWezA5TSFA9U\n",
       "t9/GkwTmPZ0R1jrcWkXZHKPnaV7+ZLXi1UpiRmdlNP3Y2CWMahHL98wiSseLySPsmpAqe8JNsUN9\n",
       "nwTTEJSwqUyc5HQU4vodRyMam78GJvcYk+1+stZEPcVAvVSLNHbLRbaAxPpyecr//eX6HRquSXIm\n",
       "tti2NBoM1CNhlmi4XQHJCkiE28G0N4jg96Lh+rvqopxiFQ0tl2goW6dQhJu3ZafR6LdpMN7bV7CK\n",
       "hiVLNGrWOMKpeksvebVC6fdoYE+uAa4xD3dT6mlRGunnVd2ov9GjehGE/IWkclMswJ4TS9EQUFEV\n",
       "rVwkEvPvr/QDYCCaobs0dhcK0btQDCRPzBDtzsx4SEPWh5ncRy5+w4qad6KBc+7QJhwtZouj2Fo0\n",
       "SlLlZh5C3TB4J1ba7CMaMe+3NBoMhgTk+NLdoMcfnCuWB297xPoW1Fcqs0BDkJJAZoAl9dUVp0vR\n",
       "OApb4Gpblf+1I/gFDbt3yqYn2xhe0pDy7BEgBlhbcJtG8DMNzI+OkZeuZ6Svfpg9zyFERE22s3kZ\n",
       "BwGbViqWPLWPgSAGWEOD33oPwLDD8eQT+cfSlIyTYQQsNbdmnltioD7wxTl9OoSNhswBDXvPW7fE\n",
       "QL2SizQQHb+1wuiO+a4MmgcvnKlYGRICXdc4FrGjN2HoWvAzFmMxU4YE+uAZG4Y6x6NZUMR96i1u\n",
       "i2q/yuI/Rvok96YFlh8AAAAASUVORK5CYII=\n",
       "\" style=\"display:inline;vertical-align:middle;\" /></a></span>"
      ],
      "text/plain": [
       "|- (2 not-in {1, 1 + 3, 3}) = TRUE"
      ]
     },
     "execution_count": 71,
     "metadata": {},
     "output_type": "execute_result"
    }
   ],
   "source": [
    "# A simple nonmembership claim can be deduced using shallow_simplification\n",
    "# Notice we can evaluate 1+3 to find 1+3 != 2, but we leave the 1+3\n",
    "NotInSet(two, Set(one, Add(one, three), three)).shallow_simplification(must_evaluate=True)"
   ]
  },
  {
   "cell_type": "code",
   "execution_count": 72,
   "metadata": {},
   "outputs": [
    {
     "data": {
      "text/html": [
       "<span style=\"font-size:20px;\"> <a class=\"ProveItLink\" href=\"../__pv_it/demonstrations/1b9cf3e7a94ced09f8c37c97cdb84dffd18027ab0/proof.ipynb\" style=\"text-decoration: none\">&nbsp;&#x22A2;&nbsp;&nbsp;</a><a class=\"ProveItLink\" href=\"../__pv_it/demonstrations/3f41701e8914e7ccd99187754766a2a9d94121950/expr.ipynb\"><img src=\"data:image/png;base64,iVBORw0KGgoAAAANSUhEUgAAAMYAAAAVCAMAAAAq72HuAAAAP1BMVEX///9jY2MJCQkdHR0NDQ0W\n",
       "FhbMzMxUVFRERES6uroiIiIQEBCYmJhmZmYyMjLu7u52dnaqqqqIiIjc3NwAAACGmE1UAAAAAXRS\n",
       "TlMAQObYZgAAAAlwSFlzAAAOxAAADsQBlSsOGwAAAkxJREFUWMO1l1l25CAMRemkm3mG/a+1PQIy\n",
       "IjGuKj6SU89IcEEIQcjSEhm36zcnBPlMSyGNBr3VYvjho3WwrxXuQxiEMn74FnHeOvjixyCuYd98\n",
       "QlDZ42AaXHDvDRdjjZ+jRX1v7qL0c7aIknX9DBzUy92GGZsvU8a0a0CabSXCUDvc90Ew3IKybaYA\n",
       "RQRDEgxj7YxMudeEht+X2bpsh1p1r80khiohoS3EiFz++yvtKxgBBLlQ695CDKBV90S5KYxQnHoC\n",
       "MISNjjD62m6E/qyGrIdag2H1FIY5D3hMACOt0ekseTeGkP38itZgeDaFcVKn5X+LYdfcra+zMPY1\n",
       "DBrZdYNbLZYIJ7quoJFNY7h/Gc6QumBg+SIp/YagCkMt1W9BTe2G2jOqThCDqoX8+2v5wysEs4Lc\n",
       "xdiXUKl+CRVieWqO2QOE5gcYafvZYLh19v6ybtRw98pu0C12ONgOqPmyUGJuN/agEmxtWTHfXhiy\n",
       "MyvX7COMvH2HGECrRQIJcups8GYg1fSJkYj+CuozlZvA2P1vAeQQbXHfHHE+tRttYsutqQ1dTmkx\n",
       "fN7KUHAnH9oQQ+vzjqhmVYMJt1wE9zBosTQ8ZxabGumrL2bPcRhT2bJ1bFnKwaoNM5Uw5igDq1nV\n",
       "AIb85T1wTSGSDjrqP54vXQbFSJ2pu1Xz3DKr7pOcrNOHRRhWZCIY/l4hfcusujd6EoNw/K2VsDMW\n",
       "uzToHrxwhmalSEh83iNu4rE3Yequ4GcUuJkrRQJ/8IxNqE+8NEuGhU+9xX1xHWcp/gNPGCQrFQW6\n",
       "DgAAAABJRU5ErkJggg==\n",
       "\" style=\"display:inline;vertical-align:middle;\" /></a></span>"
      ],
      "text/plain": [
       "|- (4 not-in {1, 1 + 3, 3}) = FALSE"
      ]
     },
     "execution_count": 72,
     "metadata": {},
     "output_type": "execute_result"
    }
   ],
   "source": [
    "# And we should be able to shallow_evaluate a False claim\n",
    "NotInSet(four, Set(one, Add(one, three), three)).shallow_simplification(must_evaluate=True)"
   ]
  },
  {
   "cell_type": "code",
   "execution_count": 73,
   "metadata": {},
   "outputs": [
    {
     "name": "stdout",
     "output_type": "stream",
     "text": [
      "EvaluationError: Evaluation of (a != 1) and (a != 4) and (a != 3) under assumptions () is not known\n"
     ]
    }
   ],
   "source": [
    "# We should not be able to shallow_evaluate a claim of unknown verity\n",
    "try:\n",
    "    NotInSet(a, Set(one, Add(one, three), three)).shallow_simplification(must_evaluate=True)\n",
    "    assert False, \"Expecting an EvaluationError; should not make it this far!\"\n",
    "except EvaluationError as the_error:\n",
    "    print(\"EvaluationError: {}\".format(the_error))"
   ]
  },
  {
   "cell_type": "code",
   "execution_count": 74,
   "metadata": {},
   "outputs": [
    {
     "data": {
      "text/html": [
       "<span style=\"font-size:20px;\"><a class=\"ProveItLink\" href=\"../__pv_it/demonstrations/e5cdb7b0875a7582d01503bca5f5fa09e5049d610/expr.ipynb\"><img src=\"data:image/png;base64,iVBORw0KGgoAAAANSUhEUgAAADEAAAAPBAMAAAC/wjryAAAAMFBMVEX////MzMwyMjKqqqoiIiJm\n",
       "ZmaYmJju7u5EREQQEBC6urqIiIh2dnZUVFTc3NwAAAAqL9KcAAAAAXRSTlMAQObYZgAAAAlwSFlz\n",
       "AAAOxAAADsQBlSsOGwAAAJdJREFUGNNjYMACGBkY6hiwAs5PKu7YZVjm+xRgl+FlwAUIyvDd2bcB\n",
       "XSb7rACQWvmA4zuIG+ICAr4gJkcB3y8GBvZpDKwOmAa2MDCwfmBgOYApE/+AgbOBoX4BmnATUEaA\n",
       "oX4DQz4Dmj1TGBjuMzDUGzBcYn6Aqgdo+gygOzYwu7KimfaUgXs60G23D77diCbDF3q1gAEAgrck\n",
       "RP2xT/YAAAAASUVORK5CYII=\n",
       "\" style=\"display:inline;vertical-align:middle;\" /></a> <a class=\"ProveItLink\" href=\"../__pv_it/demonstrations/efc2c1b97078785bd6a5defdc3b80dfe05b489be0/proof.ipynb\" style=\"text-decoration: none\">&nbsp;&#x22A2;&nbsp;&nbsp;</a><a class=\"ProveItLink\" href=\"../__pv_it/demonstrations/c997a3a44b58cd9c0ea049c49850a0768912cb9b0/expr.ipynb\"><img src=\"data:image/png;base64,iVBORw0KGgoAAAANSUhEUgAAAMcAAAAVCAMAAADFLQrQAAAARVBMVEX///8/Pz9vb28YGBgJCQkd\n",
       "HR0NDQ0WFhbMzMxUVFRERES6uroiIiIQEBCYmJhmZmYyMjLu7u52dnaqqqqIiIjc3NwAAACb3p1w\n",
       "AAAAAXRSTlMAQObYZgAAAAlwSFlzAAAOxAAADsQBlSsOGwAAAk9JREFUWMO1l+mC3CAIgN122/VW\n",
       "vN7/UZtTo5E0Zmb8FyLIJ4hIyDQiuRjNTxCCfGZEH5E1b47gr/5aqOZaAR/iIJTxzbYID9S9uzZe\n",
       "zU07BZVnnp6s2XPnDBeoiO+LBf1ft408jEkP7PX0alUn1+RixqbG556sHWCWvfCYaDN/yoKLIOTI\n",
       "mWt0SToc8451fD7LhG4mTP5CspiomNdmlEPh54ZL+fPXvsLh60QXao5uxVGJinmiYIzDY2klbJhM\n",
       "MUreyLGdMY2JDhxWj3GY/ZRH5kIsy8YlQ9vD8wYOITUqOnA4Nsaxcws1FW1eHLFLDdeNH8a+yEED\n",
       "a0J8FIWS5Nqilam7gFwrBSi9aJS49spGVPodeeUxUSy/vBqLh1rrqkkLVL5KqJrh/3xLyQsFs4Lc\n",
       "5Vg3UanOJqqz6i4CZjcSmh5xqNldSNlPWNx39c5Rw+GleNAlf/gxILXI5Z0Sg/FY8wrS/K1Tc2/I\n",
       "Vi1fuM840jKh4qhEpV0gXo6dDx5WjtkOsyT3amGSi9NldK5XMMKhWE4iOIsm84dzzsfisdW3GcdL\n",
       "Q4rnU6K2leXI4VJcN+BQmTcZzqH1fllkvSKq665xYxx075iCo5EFeuiX+G/AOBhTybJ5cZl7wyLD\n",
       "65UwZmsKs14RVRzy3vOgND6SYnN+fU2NiUT6kuIq3Gp/bukV81GOtu14R9bpOTsc7t523dIr5o0e\n",
       "5SAceX3FzkkLp2oIT548mF5uFyJ/YBHRcZ1nYjzdxQ8xunqQ2wX+5GUb+750G7VomP/U+9xl02EY\n",
       "4x9GRynOSQe7HgAAAABJRU5ErkJggg==\n",
       "\" style=\"display:inline;vertical-align:middle;\" /></a></span>"
      ],
      "text/plain": [
       "{a = 5} |- (a not-in {1, 1 + 3, 3}) = TRUE"
      ]
     },
     "execution_count": 74,
     "metadata": {},
     "output_type": "execute_result"
    }
   ],
   "source": [
    "# But we should be able to shallow_evaluate with the appropriate assumption(s)\n",
    "NotInSet(a, Set(one, Add(one, three), three)).shallow_simplification(must_evaluate=True,\n",
    "                                                                     assumptions=[Equals(a, five)])"
   ]
  },
  {
   "cell_type": "code",
   "execution_count": 75,
   "metadata": {},
   "outputs": [
    {
     "data": {
      "text/html": [
       "<span style=\"font-size:20px;\"><a class=\"ProveItLink\" href=\"../__pv_it/demonstrations/27c2109b4bcc6da83e759bd610d6c0877c3a03360/expr.ipynb\"><img src=\"data:image/png;base64,iVBORw0KGgoAAAANSUhEUgAAADAAAAAOBAMAAACbXIJpAAAAMFBMVEX////MzMwyMjKqqqoiIiJm\n",
       "ZmaYmJju7u5EREQQEBC6urqIiIh2dnZUVFTc3NwAAAAqL9KcAAAAAXRSTlMAQObYZgAAAAlwSFlz\n",
       "AAAOxAAADsQBlSsOGwAAAGlJREFUGNNjYMAGGN2xCjPUBn3HLsHATZ4E3519G7BKrHzAAdYY4gIC\n",
       "vnAJ9mkMrA7YdLB+YGA5gE2Cs4GhfgE2ifoNDPkM2OyoN2C4xPwAiw6ODcyurOhG8fwDuur2wbcb\n",
       "0cR5b366BgA/OCUwSNdLWwAAAABJRU5ErkJggg==\n",
       "\" style=\"display:inline;vertical-align:middle;\" /></a> <a class=\"ProveItLink\" href=\"../__pv_it/demonstrations/aa246d9357a102ea53f1e43f1cfc0250208e70ca0/proof.ipynb\" style=\"text-decoration: none\">&nbsp;&#x22A2;&nbsp;&nbsp;</a><a class=\"ProveItLink\" href=\"../__pv_it/demonstrations/ff2ae28abe4ff47ebede838897343b48663ce62b0/expr.ipynb\"><img src=\"data:image/png;base64,iVBORw0KGgoAAAANSUhEUgAAAMcAAAAVCAMAAADFLQrQAAAARVBMVEX///8/Pz9vb28YGBgJCQkd\n",
       "HR0NDQ0WFhbMzMxUVFRERES6uroiIiIQEBCYmJhmZmYyMjLu7u52dnaqqqqIiIjc3NwAAACb3p1w\n",
       "AAAAAXRSTlMAQObYZgAAAAlwSFlzAAAOxAAADsQBlSsOGwAAAlBJREFUWMO1l+mC3CAIgN122/VW\n",
       "vN7/UZtTo5E0Zmb8FyLIJ4hIyDQiuRjNTxCCfGZEH5E1b47gr/5aqOZaAR/iIJTxzbYID9S9uzZe\n",
       "zU07BZVnnp6s2XPnDBeoiO+LBX3TeZEngr2caKpVnVx1mLGp8bknaweYZS88JtrMn7LgIgg5cuYa\n",
       "XZIOx7xjHZ/PMqGbCZO/kCwmKua1GeVQ+LnhUv78ta9w+DrRhZqjW3FUomKeKBjj8FhaCRsmU4yS\n",
       "N3JsZ0xjogOH1WMcZj/lkbkQy7JxydD28LyBQ0iNig4cjo1x7NxCTUWbF0fsUsN144exL3LQwJoQ\n",
       "H0WhJLkuO2jkYTBkAblWClB60Shx7ZWNqPQ78spjolh+eTUWD7XWVZMWqHyVUDXD//mWkhcKZgW5\n",
       "y7FuolKdTVRn1V0EzG4kND3iULO7kLKfsLjv6p2jhsNL8aBL/vBjQGqRyzslBuOx5hWk+Vun5t6Q\n",
       "rVq+cJ9xpGVCxVGJSrtAvBw7HzysHLMdZknu1cIkF6fL6FyvYIRDsZxEcBZN5g/nnI/FY6tvM46X\n",
       "hhTPp0RtK8uRw6W4bsChMm8ynEPr/bLIekVU113jxjjo3jEFRyML9NAv8d+AcTCmkmXz4jL3hkWG\n",
       "1ythzNYUZr0iqjjk/54HbSGRFJv562tqTCTSlxRX4Vb7c0uvmI9ytG3HO7JOz9nhcPfa6lt6xbzR\n",
       "oxyEI6+v2Dlp4VQN4cmTB9PL7ULkDywiOq7zTIynu/ghRlcPcrvAn7xsY9+XbqMWDfOfep+7bDoM\n",
       "Y/wDoXQp0EGhzkUAAAAASUVORK5CYII=\n",
       "\" style=\"display:inline;vertical-align:middle;\" /></a></span>"
      ],
      "text/plain": [
       "{a = 1} |- (a not-in {1, 1 + 3, 3}) = FALSE"
      ]
     },
     "execution_count": 75,
     "metadata": {},
     "output_type": "execute_result"
    }
   ],
   "source": [
    "# But we should be able to shallow_evaluate with the appropriate assumption(s)\n",
    "NotInSet(a, Set(one, Add(one, three), three)).shallow_simplification(must_evaluate=True,\n",
    "                                                                     assumptions=[Equals(a, one)])"
   ]
  },
  {
   "cell_type": "code",
   "execution_count": 76,
   "metadata": {},
   "outputs": [],
   "source": [
    "%end demonstrations"
   ]
  },
  {
   "cell_type": "code",
   "execution_count": null,
   "metadata": {},
   "outputs": [],
   "source": []
  }
 ],
 "metadata": {
  "kernelspec": {
   "display_name": "Python 3",
   "language": "python",
   "name": "python3"
  },
  "language_info": {
   "codemirror_mode": {
    "name": "ipython",
    "version": 3
   },
   "file_extension": ".py",
   "mimetype": "text/x-python",
   "name": "python",
   "nbconvert_exporter": "python",
   "pygments_lexer": "ipython3",
   "version": "3.7.3"
  }
 },
 "nbformat": 4,
 "nbformat_minor": 1
}
