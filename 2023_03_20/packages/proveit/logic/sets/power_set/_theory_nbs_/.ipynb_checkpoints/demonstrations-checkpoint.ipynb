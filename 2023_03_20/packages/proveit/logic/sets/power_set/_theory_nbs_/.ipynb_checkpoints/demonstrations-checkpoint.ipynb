{
 "cells": [
  {
   "cell_type": "markdown",
   "metadata": {},
   "source": [
    "Demonstrations for the theory of <a class=\"ProveItLink\" href=\"theory.ipynb\">proveit.logic.sets.power_set</a>\n",
    "========"
   ]
  },
  {
   "cell_type": "code",
   "execution_count": 1,
   "metadata": {},
   "outputs": [],
   "source": [
    "import proveit\n",
    "from proveit.logic import PowerSet, Set\n",
    "from proveit.numbers import one, two\n",
    "%begin demonstrations"
   ]
  },
  {
   "cell_type": "code",
   "execution_count": 2,
   "metadata": {},
   "outputs": [
    {
     "data": {
      "text/html": [
       "<a class=\"ProveItLink\" href=\"../__pv_it/demonstrations/f40436fcff71e135c31114a8e59e447b639d31bb0/expr.ipynb\"><img src=\"data:image/png;base64,iVBORw0KGgoAAAANSUhEUgAAAFUAAAAVBAMAAADFg78FAAAAMFBMVEX////u7u5ERERUVFSqqqrM\n",
       "zMyYmJiIiIi6urpmZmYiIiIQEBAyMjJ2dnbc3NwAAAB/1500AAAAAXRSTlMAQObYZgAAAAlwSFlz\n",
       "AAAOxAAADsQBlSsOGwAAAbBJREFUKM9lkz1Iw1AQx/9paj+SNogubm0RdZMO4mKHuvtRcFIQC50E\n",
       "QZ0V6dZRQVAKVSu6uBUEcVMX6VjopoJdHHTQFtRBpPHu9SX2pQd3vPzzy+Xd3XtAtzXIh/JQzZpz\n",
       "XnVbME1e7feoWEhQKIjPnm7sn2MhzpLPM9p3KrHX0gjFYc6TpVAsfL+s2ZQR2i2FB/LBUkv+Po7n\n",
       "fEfDHRDJBtvAeoWewlnJIihZvQGzIrVVIIdwk74gHia8rNmC3paayZvzlSkB8ZjpYfUy9C+pRfiv\n",
       "ZhwwarQ46mHJjKbUokkKsQ1gm5/uOZQ87Aq93eJFgCufzyDAHcQ5V37lYc/IP7hLfi7/RCtMCPma\n",
       "0FReZcNxbmaK4D4u6XJrFA6LxYTK5sRWqxRClDf06ei8BzGjf9Zfw7ucpZ/axe3t2JjSB40Xy8Am\n",
       "8Chqo92YSYetu2yUBhCjuq2LYrEstTC1dTfjsEsOq0/9TsKg82PYtn0rWYOqPvxve8bJK2zaXQnt\n",
       "TTmngT2FransgXqoxyFnxKZtuHqpczwVG3BmJHrhyhrP0ue5RBalsvbT3vtWZ2UH+APoaHOK/0g3\n",
       "4QAAAABJRU5ErkJggg==\n",
       "\" style=\"display:inline;vertical-align:middle;\" /></a>"
      ],
      "text/plain": [
       "power_set({1, 2})"
      ]
     },
     "execution_count": 2,
     "metadata": {},
     "output_type": "execute_result"
    }
   ],
   "source": [
    "PowerSet(Set(one, two))"
   ]
  },
  {
   "cell_type": "code",
   "execution_count": 3,
   "metadata": {},
   "outputs": [],
   "source": [
    "%end demonstrations"
   ]
  }
 ],
 "metadata": {
  "kernelspec": {
   "display_name": "Python 3",
   "language": "python",
   "name": "python3"
  },
  "language_info": {
   "codemirror_mode": {
    "name": "ipython",
    "version": 3
   },
   "file_extension": ".py",
   "mimetype": "text/x-python",
   "name": "python",
   "nbconvert_exporter": "python",
   "pygments_lexer": "ipython3",
   "version": "3.7.3"
  }
 },
 "nbformat": 4,
 "nbformat_minor": 1
}
