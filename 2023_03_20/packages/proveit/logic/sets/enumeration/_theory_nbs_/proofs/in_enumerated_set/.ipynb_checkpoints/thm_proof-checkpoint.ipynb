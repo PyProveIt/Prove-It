{
 "cells": [
  {
   "cell_type": "markdown",
   "metadata": {},
   "source": [
    "Proof of <a class=\"ProveItLink\" href=\"../../../../../../_theory_nbs_/theory.ipynb\">proveit</a>.<a class=\"ProveItLink\" href=\"../../../../../_theory_nbs_/theory.ipynb\">logic</a>.<a class=\"ProveItLink\" href=\"../../../../_theory_nbs_/theory.ipynb\">sets</a>.<a class=\"ProveItLink\" href=\"../../theory.ipynb\">enumeration</a>.<a class=\"ProveItLink\" href=\"../../theorems.ipynb#in_enumerated_set\">in_enumerated_set</a> theorem\n",
    "========"
   ]
  },
  {
   "cell_type": "code",
   "execution_count": 1,
   "metadata": {},
   "outputs": [],
   "source": [
    "import proveit\n",
    "from proveit import ExprRange, ExprTuple, Function, IndexedVar\n",
    "from proveit import a, b, c, k, m, n, x, y, A, B, C\n",
    "from proveit.logic import Equals, InSet, Or, Boolean\n",
    "from proveit.logic.booleans.disjunction import or_if_any\n",
    "from proveit.logic.sets.enumeration  import enum_set_def\n",
    "from proveit.logic.sets.enumeration import fold\n",
    "from proveit.numbers import Add, subtract\n",
    "from proveit.numbers import zero, one, two, three, Neg, Complex, Natural, NaturalPos\n",
    "from proveit.core_expr_types import a_1_to_m, c_1_to_n, x_1_to_n, y_1_to_n\n",
    "theory = proveit.Theory() # the theorem's theory"
   ]
  },
  {
   "cell_type": "code",
   "execution_count": 2,
   "metadata": {},
   "outputs": [
    {
     "data": {
      "text/html": [
       "Under these <a href=\"presumptions.txt\">presumptions</a>, we begin our proof of<br><strong id=\"in_enumerated_set\">in_enumerated_set:</strong> <a class=\"ProveItLink\" href=\"../../../__pv_it/theorems/ed19137bc36ddbb43af52f63034b20fd15e11a410/expr.ipynb\"><img src=\"data:image/png;base64,iVBORw0KGgoAAAANSUhEUgAAAm4AAAAXBAMAAABANN4AAAAAMFBMVEX///+IiIgiIiIQEBB2dnbu\n",
       "7u5ERETMzMzc3NwyMjK6urpmZmaYmJiqqqpUVFQAAAB6qHgnAAAAAXRSTlMAQObYZgAAAAlwSFlz\n",
       "AAAOxAAADsQBlSsOGwAABfpJREFUWMPVWX1oW1UUP0nfy0vz1bRri2O1lLAx3RDqmK4UB5nfzm28\n",
       "aZ0Is63COqlTW/OHirhmDItS6PLPZGyKgc4/1AlBdMWuaoqsopuQ1kqHiKZ/KAgqVTY2h6Wec9/X\n",
       "vXmvyesSRz2Q23POPfd33/m9+/kK4Erq1sP1Er+TU34PVoD4L+jP55qO7dfv4W50cq5+ZyXwBgf3\n",
       "AQSijI882T+U5s1dXPkSjsOeTTbnpUpA23GXLc/ir4nxMUbmsdK8uYsrXx7D34lCp9RSEewTZSPc\n",
       "ib9qlfg4SFO2uzRv7uLKl3H8LfxHvC1UhLdQhvgg9qRcad7cxZUvrbiCGLOyMRZLVZC3wKWK8Aa3\n",
       "ER+hLI48F/uCu7jyl7eUxdK7DZUdbxVAYby9yfbJTbHYZjf7qau4siUYx9cz10wD239UzHh42yE+\n",
       "ssC0iy1AxyW82i95PgXLgW+rnvG2i/ExCrDPDW+u4sqWahzWXUflK6QmLTZxFAba4DmVm3Si6TAr\n",
       "bQE6Lr6RW+A0dyoTLIdTG1e/ioqvGB/D4M+74c1VXNnixRHxkwq3grAqHEY2H87Ch1xggWkXe4CO\n",
       "i53EdcXBcngkrv4IDdhvGR8+VUo787xxO3yRN3lbMm5peWn5+28V9vEJwEVUEzEUhjB8HIvPAdYC\n",
       "7E3pgcyU7/5jyTGnxfOi42IVNbKQ0CoKxNXIvyJxA4yPcNRpue//pRd+lNSgavLmHFdUIvFr4m0t\n",
       "BOjEsMd0KqfxMW4H+SootcbazswgBJdc61mAIDouVYGABCWAuKWO3uCIdn9KTTgsz6N0O4hmJO6e\n",
       "5RRXgoS+a5qnCxCkE4PX8vryIP8JoXl8e3p6mlmT9l9eAkiPF49vDJeqQECCEkDCVAeY1vjYiftW\n",
       "aLy/2TNJaaK2RrtLwOz3h3jeKA46Ju438HbUJ+2dCM6B2p/pzzaTcKkpat+tBJ8Pjcu0NgF4ovx+\n",
       "Ki9AJHVBy5YmFjNDKqYr23O1Aoy8KF+GS8o/uGuYSMwqAqTVM1YA7qJiUuPjMK5he0eyVXkPLWak\n",
       "JWW2rMxKj5/keKM4+Sbliu56KDlg50101qnUmTedMBwblFZbE9EnYSe/wdNMf0s4hzwB05kMy1b+\n",
       "GwyTarpSuosVpsUCjLyYh3CZgtvjfRYSs4oAUT1jxTiHfKTxEcHX8epqqOmjsxPT1ECW8QaZRo43\n",
       "igtmMEs/O4+cgQQEpsZEEshpyQHasrHfR2GQrZPBbrnvgzXi7kI+zlQwm84HWffQ2atyvHXWvzjX\n",
       "p42SmGqY8LwK3nXo2gh64c3wAWZezEO4pEg7JlQLiVlFgKiesWLwtoH7PjSHCXtzmjYCoTd6ep5B\n",
       "3jqqC74jVaXx5b1C+NAOzVAFXSJv5LRkC3zGfKBMq8ai3yrP2zYCXvgvWyeftN2zWLZhc4djr/A7\n",
       "+61DLczL9FiKgFQKiFjRefO3cLxtgUY4omjaGUWJa+MtMFXAW1fSd1YF4g2PkAce8QvDS3eGPj0/\n",
       "NsPG0DxsxZImtpf1X4NDPVkwVcl37tSMaZ8rfkNi2UpmxRC8BmDftSUozEuyVYlIpYCIFZ23YNbi\n",
       "wz+PjE4GoYO09bPazeBrMEePOd6SA6eINzkObcrVswC9uFWQRYXuDDdCezhOznWhbiyPY+/EWwdU\n",
       "p/HRfGmrhe6b6rb2Tl/SgTdPq5DtbnO47X/hY5Dte40VoOdleXY7IpUC0lhhR0AY5PgI5OEYDDdA\n",
       "IodafRYGcbwoNychUsBbYHxqByBvylZ4/xuMC2JcIqe0QSKptBnO/XIqmKOQl2upHDrfwHhL5Pzj\n",
       "uJKMci10X6TvdWvIOp2V/cYXIP8DFzE5M7+qxcV58NjjzQAjL8sTdUQqBaSxAvIdqD/l9P1bv/jK\n",
       "9/b0Ct8BhA/qOE/DmnaPx2pjOlvCcW/IsLSSzVMWJ6lRroWmeaHJ+g7ueFsf+n1F/H9hFz6uBydE\n",
       "XXvhZVh10bx/cw60PKsX/+LbaE4570lHbjAsViqrdhpxby+2cC00rRNmsvC/lpDbwKxTm6xDSNYh\n",
       "LrT8/laa/Aud/MImwbBTGAAAAABJRU5ErkJggg==\n",
       "\" style=\"display:inline;vertical-align:middle;\" /></a><br>(see <a class=\"ProveItLink\" href=\"../../../__pv_it/theorems/81f13315884448aaa567bb97963ae88b1e66e96c0/dependencies.ipynb\">dependencies</a>)<br>"
      ],
      "text/plain": [
       "<IPython.core.display.HTML object>"
      ]
     },
     "metadata": {},
     "output_type": "display_data"
    },
    {
     "name": "stdout",
     "output_type": "stream",
     "text": [
      "in_enumerated_set is now readily provable.  Simply execute \"%qed\".\n"
     ]
    }
   ],
   "source": [
    "%proving in_enumerated_set"
   ]
  },
  {
   "cell_type": "code",
   "execution_count": 3,
   "metadata": {},
   "outputs": [
    {
     "data": {
      "text/html": [
       "<span style=\"font-size:20px;\"> <a class=\"ProveItLink\" href=\"../../axioms.ipynb#enum_set_def\" style=\"text-decoration: none\">&nbsp;&#x22A2;&nbsp;&nbsp;</a><a class=\"ProveItLink\" href=\"../../../__pv_it/axioms/6fb4ff7ba9c954a5bc3bf9289224108e230746630/expr.ipynb\"><img src=\"data:image/png;base64,iVBORw0KGgoAAAANSUhEUgAAAlcAAAAzBAMAAABI7zDSAAAAMFBMVEX///+IiIgiIiIQEBB2dnbu\n",
       "7u5ERETMzMzc3NwyMjK6urpmZmaYmJiqqqpUVFQAAAB6qHgnAAAAAXRSTlMAQObYZgAAAAlwSFlz\n",
       "AAAOxAAADsQBlSsOGwAACOJJREFUaN7tW3uIVFUY/+Zx59557iyJKCs2bZioKWNYSmRMIMKK2t18\n",
       "VORjFXwkJaNL9Zc6akoi2fSHIaG1Yv5hZDupZdmas0hGWjk+YjElR7QVoscGLW6gbOdxX+fce+e1\n",
       "ey8oHnA8Z/Z835n7u9/5zvd9v3sBSjVh3jwZ7rfKoPD29+cGvEwgfVejNJ9iFOjvbykDVtsgrPbH\n",
       "3W1S4iilE3EBrFiKHWesrfzjASzxNtYpOYXWeRfB+p4degqWs4bvH8jN70ZbJRR3CCx/0TWwpCns\n",
       "+KLlrGjvwNwivp4RTpnWo66B5WVvuJC1vnuJgd18LB506uC+ILsF1kl2GM47BlYk5xBYwZxbYE1i\n",
       "hz7WgS1tHDNoYMHjDoEV6nMJLA/njC4xv+JdeRAtC3Y75bQ+cAksb5EdH0H/mkc+P42cidtk49UK\n",
       "DXlYpDs3ZmQVbBgmULBmOwXWVdkdsDZw4Tu++znPtTC5ul26K0N+3x9NwlndWJiRlTUZJniSWpAS\n",
       "biStOJhgLY67A9Z1bjweLZqJ9MaIn9dPxs1ovA4h2A0LlC/JSJj2l+0RR6cr8ckdcmo5ZVmBhDtg\n",
       "Pc2Nn0QhJLEjHEs+hkzgEdzb8T76kH1xmCjWK96LjMIQtnVmZII6WLQHW7FTYEX6XAFLvG0GCx2J\n",
       "NPYStNXFL7ABtcviLYiq6OBRXZt0y1Y3ma60JvxD9zlWcbjtCliePvM2RJeZEcjuSrAh+FfY92hg\n",
       "4VFELgEWmdCxpkFLAM475bPo/nAcrECS+2IJwPy26+Ang3r27F+NMcNgCaCOyB/MbkubsGBf3oey\n",
       "aD9Z5pRjlYelroDl4xdAx/vV1w7DQRoaFxiwvoH2PAFrcVYdwVoZhP+AfqV19AlbhkOdrIYORxwD\n",
       "61kFLGKvV+zBipE8N1/rocunIGsBXqqPdlCUhO79RrAWPXMiQ8DyjlJH0jLUa0RweLGicaB09AnX\n",
       "iKeiYI11DKyzbRSsY2zAYwIrjOcFM7WGWXzdxMvEXaHpbLrTBNRn/ayOtsNb6CvzPtQmTIavRUVc\n",
       "SjgGFrkMBNZ6vEyLPVgiNr2tNce+fPXKJtvFV+vPClMVsFLKSFrxxuegODimaRN6YHSXAlY47xhY\n",
       "ZIMgsHBhw18o4bN2ov9n1Wy/pvr7SutTM4mLObEUSE3/xkGIKyNff38PSo/MDl6dECrCkDxNAGq/\n",
       "o+VbXZGCFUFrBUs5+B+YULvK9qBp/863nIdD8GjnMRU6MI7AXALlJsCcvO1tGBywWpTTEIXRk0qB\n",
       "5WtsfDhV8zFicjeSdfV3+58DuJY3sbAn4xxYvqwC1lGAZaXACqchUHMN8sS9QTt6EwpYO0AyhrvS\n",
       "uBlwsmgAC/11R82r/A33BlhJBayA7NdCzzXdq+BXvxyWjUHpMphxHywFrGhc8+/hozhAjef8TAR/\n",
       "rnb/fs9tQ8h2og5JSAmZ1PXLRhasYAT5ZE/Dxi9Rf28R1C1q6OpB5kga8esO3ux1M2BHtDJTyn1T\n",
       "zZ+rmGn96zQHD7NQJEUSUloy6fIv/IgBy38JmcewWMseHN/0ikk11NG6emuuk1vZ0MEUZ2GS1VMo\n",
       "/Yv3WglVJWBbBSmjiGgya/MVVbA2ox5JSEMkBO6C3FAGLAkXKPKBOLpuaWHC00LyNdo92MBm2lvO\n",
       "w9AyQelFsCNaDZeUtxCqSsCuXYQKNJm11eVUsGL4gnBCGnlv+fJXEVhzg2zV4SaZT4wzlorF19En\n",
       "JXA3KfSwWm8gRUy6w5ctMMkqlPWBO8kC2N+JcahBgG2/kbMLKlJENO00pTsppkSDE1IxRS0rdM6i\n",
       "RNNKtrK3zZeGUcrffOkMvxPHwuTIsR/1GHYDf5NwAlc+iTtD0kh82eR5paoF2NaJP1ZAZenjGVWb\n",
       "VSKtRFckISX76zTASBNYUrIJckIKvOl2wGCp3UAbzMUD5QNGh3qiQw0V0Do+b/YBT7RaRsxaIXUb\n",
       "1CLAnWX4ArKVKSKafLJVPUADiyakW9FdEcdk9BNNt6zPPqqXxakQ7XiZgKV2UazRWhCnQGsGfxTg\n",
       "8qks3JR0Y/fydn8JOKLVsgWJBeD0/TjUIsCVNNClhguVKSKagnmrFJerlArTl68qVSmNwgvwCgFL\n",
       "6fplZJ/6AVMQMoE8JDyntTsT4w/MI8ARrYbVddaUPuWzTTGW6gW4dDRLrctWUXMHCGoYhDX5i1ax\n",
       "dZVl5f1wLZSFNZMKavfD/gSENGRCcix+AC0bnamXr/hHiXYDS7Qa+AUDaxohBolOHk8cahHg2k21\n",
       "3G9UdIjomUCqYxcgop5UWFOE3w9P1ABWHj4ZYupGdGQg1MnVJ8Q7nMbxwBGtejOQrFFikGIRvDKU\n",
       "EaA8LCfAtfWgHErWisTCIYipSGBNUW4/SP/UAFYNzYJkZYhWQzOQrCK9z7vgsipkK0B5WE6A90OZ\n",
       "aK6EIgEmqlQm1SRyAZFLJCsctgYL9F+nN51kDSWVEHKXJmQnQHlYToBr0ZRCItgoCvXqz2RgTSHO\n",
       "smIJd8Bqb7PchhrRauREdZJVYVq9YosmZCdAeVhOgG+J18GkyOCzkK09AGe+q88pS0e5U6LOpQdD\n",
       "vFygtQQ4otXQNJJV/V2en9pUIXsBwlZwAnwb8TuUUoS0rBZOPwVTlKV5WM669MgRfxzOBo5oNTSN\n",
       "ZIUwPSeEMZqQvQDmYTkBwsbqlCzAc9mSisLF0G2pOQu9ytJh7piaAO6AxT8muRY4otXQNJJVW/e4\n",
       "JmQvQPJ6TmCc+qEYdrhQUpFwo6EPYnHiqrAm7rJde0xSMWFdY5onWo1NJVk3gUnIVoDwsJsqdAp2\n",
       "ivxZ8KXDuTTVtMm0S10CK8iaNCZZ7YhWnWTtAJOQnQDlYTsqdAo5G8jnFOAd8K5LU00d/KHrFlgi\n",
       "99LASrBj+HSS1cSQlxAgPKzUUuGvsVb0ENwA+BQ8Myk5z2sbD26BxVUDCclqTbTqrGmAL+xWLWDX\n",
       "rBVd0WuYWBOnzcXXUfgXnTDJKpV5zWaYKRWuVsCulVNENHHaDkCFYH07CC9n7oG7uom0birMay4H\n",
       "1v2XM+FF/eXM/wG2B55r+7Q81AAAAABJRU5ErkJggg==\n",
       "\" style=\"display:inline;vertical-align:middle;\" /></a></span>"
      ],
      "text/plain": [
       "|- forall_{n in Natural} [forall_{x, y_{1}, y_{2}, ..., y_{n}} ((x in {y_{1}, y_{2}, ..., y_{n}}) =  \\\\ ((x = y_{1}) or  (x = y_{2}) or  ... or  (x = y_{n})))]"
      ]
     },
     "metadata": {},
     "output_type": "display_data"
    }
   ],
   "source": [
    "enum_set_def"
   ]
  },
  {
   "cell_type": "code",
   "execution_count": 4,
   "metadata": {},
   "outputs": [
    {
     "data": {
      "text/html": [
       "<strong id=\"enum_set_def_with_k\">enum_set_def_with_k:</strong> <span style=\"font-size:20px;\"> <a class=\"ProveItLink\" href=\"../../axioms.ipynb#enum_set_def\" style=\"text-decoration: none\">&nbsp;&#x22A2;&nbsp;&nbsp;</a><a class=\"ProveItLink\" href=\"../../../__pv_it/_proof_in_enumerated_set/0bc2c31d6150f340e65c33618224218f390fe2df0/expr.ipynb\"><img src=\"data:image/png;base64,iVBORw0KGgoAAAANSUhEUgAAAlQAAAAzBAMAAACj2IvRAAAAMFBMVEX///+IiIgiIiIQEBB2dnbu\n",
       "7u5ERETMzMzc3NwyMjK6urpmZmaYmJiqqqpUVFQAAAB6qHgnAAAAAXRSTlMAQObYZgAAAAlwSFlz\n",
       "AAAOxAAADsQBlSsOGwAACUhJREFUaN7tW3uIVFUY/+Zx59557l0SCSzdVkw0ijWULNKm0MBAG9E1\n",
       "y9IpcCsJndwiImxHK1FC3f4IpBTGHlBQ7KYrmW01Gm1JDye1P8zAMR8R9NiiVctsOq/7OOe+1tm9\n",
       "FxQP7Ozcc873fff+zjnf+b7zuwPgVqTW1hxcLqi0tra6dwjXat1DNRIrXMwQSUvp/xW10x5QlYZu\n",
       "7JeLezqt1JZVn+9QZbL8ddG+231DsLSh6Kx3yCXdFBhU+/jLUMW2V+iVIfhE+RQS3ubXtJoTFFTK\n",
       "VP76kH23o0PaPWJVBHbZJ6jC5YCgCqu8l+y073bHkIxE8SJ52a8VOCUgqD7lL5Nl36D60q8V+GpA\n",
       "UE3mLyO8h3qoecKwQRXxKwLsKgYCVWiAvz5svki8lBvGWRX3y1nFq4FAFa7y1z3ob+7oe2aQfXB9\n",
       "zrwApVFlWGz0nNsLUtUtNjR1J1BFq345q4FAoOoQQvUt6K87dCxJgpXNRv0H6FHTLbDfqMkehFS/\n",
       "20wydQ+1oI8U2TG2N+Nyw7AG7H8EAtVx4fp69EjF1ECGLBZjN1RuBViF8DsF97NKubIdMvn5c046\n",
       "aabd95INVjmPB7/FL7/+UCBQTReub0EgQJLCId+Ixv9a8qg/Izu5iAqT5EYWHEswCSJqN2x30ky6\n",
       "Q4Te4OKtSF2/X1DtLwYAlfyvFSq0V9FYS8rr1c/gpLQrJ58x8ojEAFq9/8Amx2SbdN9Ev89C95nw\n",
       "bVYtKQcAVeisdQHi3VciDr3JqF9O/BXyOTpUaOpdAZ+5QEW69ykjNMdLJX3wVRCpBgBVTBzpBwEW\n",
       "lI5DlFw08iHocpyg4AeWWLKynDZY4yUJtO7HNsxDqyNK3Hrer1kVawoAqkjemnsefXIHvEsDlgoH\n",
       "1cfQVSZQLcG+LFlNoNUrjwPpb2BV+MO4It0nVWQtWEhm/YIq2k+hIpPrB2eoMiS0qDO8WyIeDK4E\n",
       "WNSY7qUYSafeNEO1+PZPigSq8DjceGIUWr1r0ZRqRn9hrIh8XAesA+6unHtfj6uG42zNvqT+oVDt\n",
       "FiIcEaokvoN4nadBHaqokHM9iTv5xGYW8zjf0cHsBKVbQehZV+B3rHsq/5qiQbXGL6RA/oNC9Sze\n",
       "rPPOUMl42q2t08hR8XQq1e2YLkc7pWkMqizBYV4F1j71TI45Nq5kWfeMujKqQdXrG1TSOQpVHI1Z\n",
       "tOLiq/Dhxux6IxLL/vWIfccr8HFNJgvKrL9UkPBcvAZOANxWq6EUx3rvKuseK2Y+p7ul83APQ/mP\n",
       "QpVCbiju5ta/4uLqCytjLAt3gX3HTRVI79mthRjEfY7SfI9qjUGw+9S7A8xDzxAr+gfVabYDoph5\n",
       "shtUkebmsfVuLndb3Iyi2nZUPq7U/yTP/4o+rvQPKbiZQYX2kKVuUCULEKv3KOiTS4NFbGZQbQQF\n",
       "ee692miv6SmlppuhQq0b67Xx+yWBFIxlUMVyUbzMsGeQR7eV0tWZsJMLQZfCXZehIlClVezVSd75\n",
       "YQG7yyRkOai+rdurX2oLEDr34C8o7yT8UHrVWyoPVTyFFmdo1Opd6Pu2Kg3vUfg4mgbyXDGamVu3\n",
       "bktF8KQ3rc2Ku4Ay6IcueitSnN06zMaRE847yUaeLsz8nocqehjNjSsz+a04oBmQWQY8tyHXbo13\n",
       "UHPSFOCMscRVmDINeex2VvbzaneBhDrYk46KtyIbZdM1qJ7DEwHnne9QqJKhPAeVgnuWYyp6bOWB\n",
       "plBeIRvmCwdgZOLb3fyg4OZ0t1sIeggcaVPjgcSMM+0VrFw1SKi8LBNFVmXnNKgyGAOcd+5ra2ur\n",
       "pAtStpM/WfgJfzSQuZvJZtRV40jbCTgWgSW8TtxspvqOiikspkwlT9dH2M8M9nMyGeJ7vQRwymEW\n",
       "4G9Kr/e2jBXFRQcr/WU+hCF55xN0VsG7qs0hTDtZ5+FSpAAUqolwkwLtYhwWKcTXGedQHeL8wDgm\n",
       "PY8pCPuJPSR748gzvSOppUmAb9TrvS1jRZY8VUuXGfI47ySRZqoEoaoFKqVlFnRLWQgXugBDNR9g\n",
       "fKIfYBn+iurxB2tu2GAkLw2i1QiItKntMZd+SLqeXHsfBU/hBfii13tbJoqmiOv/vBkqkncqD+MT\n",
       "pc0AVqjgvTcac/I0SPc+SqBqr8CRvk4cyaOv8lRoL8pTWXOHiWQJizP+MAi0qf0yIKOPc/SPyK16\n",
       "BytbOAGh6PXelomiLaLvPGs9BZ3f1lZyOwVNw0J4jEAFFakYK8NMnLhW+OYRaxYabkKcDz0g0KYm\n",
       "j2BwoJT9XM8mBDnflBpPPjHbUYC+2aMLCEWv97ZMFM0RnV2/FSrbHNBU3oRjiU54fHIFErmM+jbE\n",
       "a3+izTXHN++Kfm0s/QGHQdNo0yRhDZoxNCYOlLKfaLsJqdokS8JodbujAH2LSxcQH1Wr97ZMFO0T\n",
       "/UH+wqEqwzsj2MNAYk9W+2pt1h3ieUHh9SDQpkYxUaaU/ZSrECbDEEaz4AvYn/vFRkCa8Rvuc5AT\n",
       "EN2yVu9qmWbBBzVl5hMi9cKhuvBiQ5lytKmpmChTxn5uhiN0VNFdFDBXbyOQBDJHOjgBsWj1bpYZ\n",
       "+9qhKzNFh8UgoNphD5VOm5qLQZky9vMQO/OnDzHJVqChpJxBX1/nBKyR52bduqNlyr6+riszyo8Q\n",
       "BFRdJdsFqNOmJo9hokwZbxqWadqAFyAkzkKrjUAqR6A6wAlYHoPVu1qm7OsBXZlRgnm9IywEVg+C\n",
       "QJuaik6Zauxn6BtqPqaCtAxtplk7AcpB9HEClkyJ1btapuxrnxWUVDAvDYlbINuLDdrUVHTKVGM/\n",
       "pQl67JA+s6glUbEToC+W93ACPLdq1Ltapuxrj67MAKEaCFTiC44rQaBNTUWnTHWzLJ6Um0B6Tz3y\n",
       "ta0ATd4ncgIGt9rN1btZZuzrREOZ7kSKwUC1n9+9MWUadnxjQ6NMRfZzvIvAi7AO5V1Ng3MHLpYp\n",
       "+4oVicqWQzBQxbPe6ShbZgZl2muXPtsLKA8/tXMwebCRVTsoouyrTTqfGAgIKll4xf8RcKJNDcrU\n",
       "wn7ac3xEIFKr9Q+e/XaxTNlXrEhQFq4EBBWM5C8XgBNtanCgFmSkvLuAE2dtKV6W7UYysB+OiD9H\n",
       "wpSp4nG+a2U/V3scmxYHeTNelrEiQVmic5BQfTb0n05uhYu6PE0BaG0d6QHV5Z9Osp/urKid/h9k\n",
       "2bM52hpQeQAAAABJRU5ErkJggg==\n",
       "\" style=\"display:inline;vertical-align:middle;\" /></a></span><br>"
      ],
      "text/plain": [
       "<IPython.core.display.HTML object>"
      ]
     },
     "metadata": {},
     "output_type": "display_data"
    }
   ],
   "source": [
    "enum_set_def_with_k = enum_set_def.instantiate({n:k}, assumptions=[InSet(k, Natural)], num_forall_eliminations=0,\n",
    "                                                auto_simplify=False)"
   ]
  },
  {
   "cell_type": "code",
   "execution_count": 5,
   "metadata": {},
   "outputs": [],
   "source": [
    "# this also works, first instantiating, then generalizing over the new var\n",
    "# enum_set_def_inst_n_to_k = enum_set_def.instantiate({n:k}, assumptions=[InSet(k, Natural)])\n",
    "# enum_set_def_with_k = enum_set_def_inst_n_to_k.generalize([[k]], [[Natural]])"
   ]
  },
  {
   "cell_type": "code",
   "execution_count": 6,
   "metadata": {},
   "outputs": [
    {
     "data": {
      "text/html": [
       "<strong id=\"enum_set_def_with_k_inst\">enum_set_def_with_k_inst:</strong> <span style=\"font-size:20px;\"><a class=\"ProveItLink\" href=\"../../../__pv_it/_proof_in_enumerated_set/bdb040860ba8b035aec6ab4a51daa2ad1ea247650/expr.ipynb\"><img src=\"data:image/png;base64,iVBORw0KGgoAAAANSUhEUgAAADMAAAAQBAMAAABJt1qBAAAAMFBMVEX///+IiIjMzMzc3NyYmJhU\n",
       "VFR2dna6urqqqqpmZmYyMjIiIiIQEBBERETu7u4AAAAsfX+gAAAAAXRSTlMAQObYZgAAAAlwSFlz\n",
       "AAAOxAAADsQBlSsOGwAAAO1JREFUGNNjYMAAr//eesCQ86eAge/OBnS5G+wBDHwfgAyuCehS0QYp\n",
       "DAwHgAz+BnSpiAtcBgwgs+ofQEUYb+/eBWYEOzIvAEvlQGXYF8LUBLMqiIGlljK0zQMJWMFkGIIZ\n",
       "LvAWAKX4vnA0HwEJLGZASGny7QNKcXyuYAKLLkCSYmnoBbqQ84gCmM90evfu3XuhUgxxrEAp7pWT\n",
       "wHy+C0i6GJ7yAQ1831AP0bYBWYpJAKjS/8H7BgGQgCBc6hIQCwGlohjeKySABLjgobICiDmBrrrB\n",
       "wDgR7CO+2DqIjNYfoA6+BchBx54LDSgoAAA3UkPypE46XAAAAABJRU5ErkJggg==\n",
       "\" style=\"display:inline;vertical-align:middle;\" /></a>, <a class=\"ProveItLink\" href=\"../../../../../booleans/disjunction/__pv_it/theorems/22736ce9d3a37303b26f11de823dee236fdf12440/expr.ipynb\"><img src=\"data:image/png;base64,iVBORw0KGgoAAAANSUhEUgAAADsAAAAQBAMAAABaYBp1AAAAMFBMVEX///8yMjJmZmYiIiIQEBCq\n",
       "qqqYmJjMzMxERER2dnbc3Nzu7u5UVFSIiIi6uroAAACibcT0AAAAAXRSTlMAQObYZgAAAAlwSFlz\n",
       "AAAOxAAADsQBlSsOGwAAAQJJREFUGNNjYMAKNv9o3MAw5csDBhygle8AA/cHXLIMhxdMY2BwwCl9\n",
       "tIFxAYMBuihvs7EhmHEql0sAQ5pPdgOUdYqn4CZImu/Orrm97DP7wIILYbIMpxgaOB4ApTk5zjLs\n",
       "z2MIAQtKMSCki7itgdLvmBsY1l9gyAcLCiBJswVEAF2+Yf8DhvgNDIogMXZnY2NjC6g0w2kekMfi\n",
       "GUByniAx7gYk3Qx7uEEuP8jAYMnA94sbJGiALM1+AaTak4H7HwOPwDKQ4F24dDsQXwdKc31nYPvA\n",
       "wDFhAkiQMQAmLQrETECX8hkw8Cow8OkuAFt+4jVEtvALUCe3AHqg8s2ABioUAABJoD7khEmCZQAA\n",
       "AABJRU5ErkJggg==\n",
       "\" style=\"display:inline;vertical-align:middle;\" /></a>, <a class=\"ProveItLink\" href=\"../../../../../../numbers/number_sets/natural_numbers/__pv_it/theorems/1a8a7907b709bbd24c48a9933f16dbe96429f5cc0/expr.ipynb\"><img src=\"data:image/png;base64,iVBORw0KGgoAAAANSUhEUgAAADUAAAAQBAMAAABEqSrGAAAAMFBMVEX///9mZmYQEBCYmJgyMjKq\n",
       "qqrMzMwiIiJERER2dnbc3Nzu7u5UVFSIiIi6uroAAAA6K1lcAAAAAXRSTlMAQObYZgAAAAlwSFlz\n",
       "AAAOxAAADsQBlSsOGwAAAOZJREFUGNNjYMAE23+0bGCY9OkBAzbQyneAgfsDVimG4wsmMzAoYJc7\n",
       "2sCygKEAVexGebkDiD5ly+WAJvfkNpRxiifhJkiO786uub1gES5vmKJTDA0cD4BynBxnGfYvAImw\n",
       "LEDIJXJXA+XesTcwrE8AyzEg5JgDIoDu3LD/AUP8BpBIUjkQNEDkGE7zgPwQz8BwBKx6B5I+hj3c\n",
       "IHcCJT5zg0TYkeXYLoBM0GRg/c0JEuG9AJNrA+JrQDmubwy8DmZgIVeYHIjBCAwFvgIG7sMBYKE9\n",
       "fWA3MaR8AurhdkANs5ft5cgiADLCQKtntbI7AAAAAElFTkSuQmCC\n",
       "\" style=\"display:inline;vertical-align:middle;\" /></a>, <a class=\"ProveItLink\" href=\"../../../__pv_it/_proof_in_enumerated_set/5fd9b6059dde22b71b1891d2ec9dffb474ea9c4e0/expr.ipynb\"><img src=\"data:image/png;base64,iVBORw0KGgoAAAANSUhEUgAAAJEAAAAVBAMAAAC01xHeAAAAMFBMVEX////MzMxUVFRERES6uroi\n",
       "IiIQEBCYmJhmZmYyMjLu7u52dnaqqqqIiIjc3NwAAACW8nlqAAAAAXRSTlMAQObYZgAAAAlwSFlz\n",
       "AAAOxAAADsQBlSsOGwAAAZ9JREFUOMtjYGB4wEAS4MMpw3uANJNYLuCSOY1Tj+gCrMLXMUQWp4JI\n",
       "rgk4zOHSmI/dJE5M4RkggqMAXdgdxri/AF0EDNgbMEz6AyLYMITPYph0FlVBFkbQ/QKRJ0k3aTq6\n",
       "Du4EENkNNPLSur22jLtNCJkEVgekN2GEnALPjgUgC7iZdRnWlzAcI2QSWB0w9VWCwzcUDBRA7PUF\n",
       "Z54VMMQwMLiwGjC8v8BQT8gksDoBBriVcHD+yQHJBwwpDAwL1jswnF/A0AkSbA0NTQsNDUIyCSEC\n",
       "Vccgj25SWyGITAGZyQAyJptgiAPVaQIpN3STIjuALgX5DiQdzcDyj4uQSUB134GKjqKFE9cflo9A\n",
       "ChQZ2QxcXxiYJjwnZFI2A88vbgaGYjQnsf/i+sMLjlK+jwzsHxiYN2xAM2n/A1STgOp4JxSCEw4K\n",
       "YJrA9RFogSgwnQQw8DYwsPQ+QDVJKX9SAWp6CmDgUgeWHCFoJjEfYLhxi4GBVQBnGschwheAPctj\n",
       "5kd3BvwimHkeCuwYSASPcUksJtUknFbzXSDNIF4c5T4AeWSDrQj7gpUAAAAASUVORK5CYII=\n",
       "\" style=\"display:inline;vertical-align:middle;\" /></a> <a class=\"ProveItLink\" href=\"../../../__pv_it/_proof_in_enumerated_set/10554fbb0b7fb69270ecddb4eb6c034db5d7621e0/proof.ipynb\" style=\"text-decoration: none\">&nbsp;&#x22A2;&nbsp;&nbsp;</a><a class=\"ProveItLink\" href=\"../../../__pv_it/_proof_in_enumerated_set/1c71384f0735374de388510034669650a9a2860a0/expr.ipynb\"><img src=\"data:image/png;base64,iVBORw0KGgoAAAANSUhEUgAAAuwAAAAuBAMAAACBsVFZAAAAMFBMVEX////MzMxUVFRERES6uroi\n",
       "IiIQEBCYmJhmZmYyMjLu7u52dnaqqqqIiIjc3NwAAACW8nlqAAAAAXRSTlMAQObYZgAAAAlwSFlz\n",
       "AAAOxAAADsQBlSsOGwAACGRJREFUeNrtW21oHEUYfi/JJddNbnNVWvxTc36AUA20oCJCa35IQEWa\n",
       "SgO1zY8UK0JBjeaHqVA4KCXVCh4itJRSlwYtIiWxIFpqIf5IsBb0aJHYj5TQUKnW2hQK0g+NM+/M\n",
       "ztd+zfVOqEteuL2b2Wefd+bZzezM7hMAmIGQcJ6FuyD+oG1zIY2RHw+rPf383dC2zEMeQFMljbKf\n",
       "ABh51axsu1kP6iBvtdFYJJupFKrulMlmj1nb2lMX8j21EmA7Fnnpkz03QDa3/yPZb9dF9pZS+mRv\n",
       "Jp8mf0g51dtbrqPsTTfrIjtsSZ/sxxWRnztT36u9dhbGsDt9su+ig2fnSTqdcffq3b1w7IqKNIrB\n",
       "CAA4L+WbfksVUyuFiC32M9kPp092eiWN7nX+oSrJGXyOjDVNb8Azys3MKIYMKQEA5yUntA+2y2q9\n",
       "FAxlf76fbrdik3oxiumQvY98fvLgdSq7rP2V3Gg/G4AdAAfLvAqLztEHI6VneDU4L0B2jPwQTLQU\n",
       "R4RofgbwpjyZvqt9M/m8B3CLfC2lV9MKHC4+JpsPATZCZtofn7GYg1zkeI0ALTgv2UUkVphIKZZI\n",
       "OSEH9pFNRzpl3whN9KoakavD7aTnr4BznSycfHWw2N7lXotiYng1OC/dBRoTJBDJONJFNt3pk70P\n",
       "p9c5OtXLaqtD529omZNisWKLF6kWBwwvO5kfLPjTduSlu0BjggQioDy/iNXyRPrG9lXkc42Oy+T+\n",
       "VVFnMs5taCj/iGI5VAxWxD1BFs8HHOweaC7mi1jDeOmPv8gNVzCxUjQR7qc85A7firfUwfRd7XRy\n",
       "9gg8hb/3aRPIVTBRKqFYo2Xwi7DEw6JzA3i9KCHg99PQXsiNsRrKiz/IxORLyYSlGCK6n/J4/gRy\n",
       "V/pkX0LvW98MsPvX454i+4Gz93cWUKzsBvCL7tO8uJ6OSiV/0+v5gE5YCtlxXkN56Y/Wr7d5kglL\n",
       "MUS4vxNHdCb7uvTJni0ohReeCDwcwBH5B4G4BH+qRYESk49NcAquZpQa+UNjSiLaBDszvB1uT/pk\n",
       "D3/OZMg+JlYyKxe/rxQlXgDmyHU6mFNqWkOZkogIz9rveDtyA+mTHVaHVbLVIe3+kVsVcMS9tnl+\n",
       "fk4pijgklqpF2A8Xzig1h0KZkogIz9kBtlqG2RSqrszW1fW59sg2b5yTIL4SXVOJPjSZCGdYq9Mo\n",
       "uxv6zuzSY3dD2y7TVuRnYCEWYiEWYiEW4v8Q9I7lJiKM+3D8Xbqq3FUCZqyTutW10a1Pl1w7sdGe\n",
       "dC4W+2KgJh5vbSgKt0bFpo48JJj0XHVtPFeXLllIiVwn6AJyLNZKlDeXiQl4a0PRCXCejF/5B1KH\n",
       "uqmwZqq6RtYIjwobKae4PelziLcS4bvtBvq4JINnPQmPhiIFr8VyullGNzT3olJ8N4zU4W4qrGEu\n",
       "Jsme0Mga4VpUIc1exoUPPIYh3ko0hE9vKG0jPjlLwuODHgWvxTa6WQn8YUt7wjhjpA53U2ENe7ok\n",
       "2RMaWSNc32kvzRDjovYk6E+wEjXjqabDwW9gg2eGIonXgr7EcvFBJ829xouX3UituankyHtTJJXs\n",
       "SY2sDa6HvTTYny1oT2orJ1iJFuEI+y35fAA2eGYoEng9Wsn1ncNrnOb+KmGsNFKrbiqFUrqYBHti\n",
       "I2uCG2EvDfZnN765yY2pViIR0m7UWgR+OpExEc8MRQJvzLDK/mtbmvuj6cDTH83mZKRW3FRqX7Dm\n",
       "sMYe0Ug4NlVQ2nincCOSpFEMV0Xk2s3PALcS7cD3xC/hX660G7Xg31VDgb9uTcQzQ5HAG/EAwLR/\n",
       "ATk3vNGZaJ5AasVNpRzCarZq7Eoj1bffF8dzK5Q23incvKfGS6MYrrA/W9E5QF/CCSuRCMWe1NZP\n",
       "KzJFyKIeMXhuO5rU8EbcA7ABf/ShNaC5EpZXTMj01IqbSglWM6mxhzcSNpJ8DkpoDf/i8PIA3IgE\n",
       "aRTDFfZnEn0yzV2KlUiEYk/KzGHNfvie3Rai8dx21KHhzeFtpo3NGjfje4z2sRAe2SE9teKmUoLV\n",
       "dGjs4Y1EB8mynwGqgJfwMtDhZiRI4+n96RCyCyuRCMWe1NTPlyr7BXcEntuOujV8YEXB3Zab8TpY\n",
       "Mx6WV0xS9NSKm0q7JmlNt8Ye3shmHDLQeGMNvw5XCyY8uPCLl0bvT7cYZLiVSA5Iqj2JO4uyGTbO\n",
       "xeC57WhCwwemW/eCP8iQaTteCgEe3+ZkpFbcVMrYyWomNHalkcpgPVoRslvD30XZdXhgVpwgjTRc\n",
       "9WBqak9qrAiLkgzFngQtjDP/dhd+x+HZ9GlQwwcW2g+zb5K7veC8BiE8wuZkpFbcVEqwmkGNPbSR\n",
       "0E7KXUxCezjOcnV4YNEfJ41quML+DOK8iE5qfIuSDGlPwmkRVeRlOQmKwlPbkW8o8vG6DQng07KY\n",
       "kzUMNJbCeHybk5ladVPJYDXcxcTZwxtJ5iWtBSa7PTyzIQDXDVVJ0iiGK+zPLrQnZXqkRUmGtCdB\n",
       "ll+1fPETh6e2I2Eo4ng0HgkbklxwkNzOo8MQyuPbnIzUqptKOQRreFLOHt5IOPrOGT5g2MNnvQBc\n",
       "GqrWW0ijGK6wP+uYPWltzBM1KvtFozIGj7YjS0NRthC9z7c5XbQ+xEwa08iJquBuyZ2x9kitjenR\n",
       "Tt4fwoWPeIYSZB8Oez4V3kS0HVkaimL+BU/YnIatDzGTDsXLbg+fXXyfZ+2RGorpETVcDfPU1IXS\n",
       "GPmWB01Frjkhicaj7cjaUBTtgPFtToHU0YfMWjfy8ifHqoG/OT9v36VIGma4wv5QLmpPclZUR5WA\n",
       "tzYUjVTfixHrpAmNrBEeFTZSUi60J8X/D975QE083tpQ5Ca+KjtvfUgw6ZXq2nilLl2ykJJw/QsA\n",
       "54c8fH1foQAAAABJRU5ErkJggg==\n",
       "\" style=\"display:inline;vertical-align:middle;\" /></a></span><br>"
      ],
      "text/plain": [
       "<IPython.core.display.HTML object>"
      ]
     },
     "metadata": {},
     "output_type": "display_data"
    }
   ],
   "source": [
    "enum_set_def_with_k_inst = enum_set_def_with_k.instantiate(\n",
    "        {k:k, x:b, y:ExprTuple(a_1_to_m, b, c_1_to_n)},\n",
    "        assumptions=[InSet(k, Natural), InSet(m, Natural), InSet(n, Natural), InSet(Add(subtract(m, one), one), Natural), Equals(Add(m, one, n), k)],\n",
    "        auto_simplify=False)"
   ]
  },
  {
   "cell_type": "code",
   "execution_count": 7,
   "metadata": {},
   "outputs": [
    {
     "data": {
      "text/html": [
       "<a class=\"ProveItLink\" href=\"../../../__pv_it/_proof_in_enumerated_set/59f96e41b415a75aa54acd656417c500897c3ba80/expr.ipynb\"><img src=\"data:image/png;base64,iVBORw0KGgoAAAANSUhEUgAAAsgAAAAVBAMAAACpugWdAAAAMFBMVEX////MzMxUVFRERES6uroi\n",
       "IiIQEBCYmJhmZmYyMjLu7u52dnaqqqqIiIjc3NwAAACW8nlqAAAAAXRSTlMAQObYZgAAAAlwSFlz\n",
       "AAAOxAAADsQBlSsOGwAABWFJREFUWMOtWV1oHFUUPpvt7k5mdydbpeJLzCqCaA20LyKCmqd9K91I\n",
       "hWj7EKkiFNTVfWmF4oKUVSN08aUlD3Vo0CI+bBoQFS3EhxRF0LUiVWvCklDwh9otFMQ0Gu+5dya5\n",
       "c/f+nLRemDuZ7He+75xv7r1zdxYAumBr6qeBFW3/1MzqBnSpit3/hZaWJdmS4rwVs0e5/sWK3tYh\n",
       "peXQ1MgaI1RFO/UeuBW0oREs+Rr8h6oWP2qJy8IszDxnobxISsuh2S+rj+CZXNwKNYnWiNY3giV+\n",
       "C2CwYcFMs2MgZF0Kb8kH7DhpQQ+GCXiiPYDdMBA0I1lnxMlYkUw9DTeP1hdDscRjd2vINmkOsyOH\n",
       "hqVLrGuyY82CzjUS8EQ7it1udjg1I1lnxFqsSKY+DDeP1hdDsSTLTntDCyaLH+KU+g2vJtkis2oz\n",
       "5xDI8ETL4GOghZQuzVjWESEyObQVagqtCa0vhmLJV6z/yAYZxIXpc3a8jesPo81bV9MTIMGTLc/G\n",
       "jIfjxqkZyzoiRCYntkJNoTWh9cVQLJli/TuLD6r7jp1L8ZKaL0fDEom8WaY8emHeDJ8DCa6gWmIA\n",
       "GDRh+dwVqYiyO0JkMkegzi++TKc1ofXFGCzZ4MAE2Tjw/w7bbEvoPckb8kKlm45nQA7nxEAJip3o\n",
       "1ran/X/BCD8CElxpdwMsRmMv0oRjnOQJPvlfhMc3py6XdUSITI64gcEBeJ1Oa0Lri5Es0XJgggfY\n",
       "gF+FbNIS/3nw4pFYmMStQhkyfH1iN+zbEF4AI/w8SHCl3QbwNJ61mvB+DY5JG6NJd4TI5LwbmJmN\n",
       "U6bQmtD6YvSWbHJggs+yMdmCodkExOshyudjJNXD/hR8yZ8EYwBvAtwADfzDOdzWjIAEV6d3t8D3\n",
       "S1pNOA6wf/NKyNojRCYjBGq842daRFpE+5/dE6pofTF6S45LY2wEdZhBe5NLSnYXtMdg+Ac+iyfF\n",
       "rv1UzLgftik7FgFv8IFYAQnet20f7Ea19WvCQfCvSzuHSXeEyKRCoWaGLVaJtIj2+NxMovXF6C05\n",
       "KP1dwRnDdopovLTItjvwGjstcDK+EGRSu+K5sQbeKmjg1+FqKYqJ4Wqr3g7RLI00pWXM/wdyPamG\n",
       "qjMiymSBQh0zEmg5emgsuKai9cVIlqiKUVuARxlhiS2qidaeh/sLXZF+jttVfGUMT2m2fF3D1VMD\n",
       "f5WbXAcJ3vcN815+0mr6azDQ+ibXHL5QrJdiWWtElEndDfyLDUrhGIUW0bkQTU6i9cXoLeEczeEf\n",
       "8e86boAGamllzUl3ChNeNEY8vmL5T23sae6Dh0EL51vOKZDg7RY+viHqAN5rxdu8fk1W8UKjcaZS\n",
       "y5aL5VjWHiEymXID2YP+rDCZQsvRfO+bQPMaNira4NBbghxYS5cnuIMF7WwqEH/07PJ3kckZMSbF\n",
       "d4sUUz79SU0PT+HTdh9I8AzmPwFxF+/ptZpw+tJdo6Xff2JjC2uLZO0RPJN9bmD+46OhMJlCy9Gw\n",
       "I1TRE4mK4v/qLUEOrCXkCWZK5q8q3OTLiX+NW77ZrDDGoEp4b2XTHIU7+DJ3mRqRVLQAucl02kf6\n",
       "0IY2bqmlIhLMNRwmN/tfmRjSagRd/srF2Wyaz8D3cDWlyloikooWIDeZTPsr/KmibW+RDLW8kRIJ\n",
       "PmY3OUhuE9LmXwtWtt8ZwgrpfbJZM+ix+1/3VFlLxAoViCaTaYPd29/qQ+ub0RJWy/gXIsEZY/Qf\n",
       "757ro/DNui+tr1tvmfy23fw7QpntsJd/7st8hnrDjMDg0xsdOm12fb1nG1EUS1gtl6JRHNh/MVpS\n",
       "rq/Yf9AgpeXS1MgaI1RFO/US3Ara0JyW/Ad0E0Uw6SixawAAAABJRU5ErkJggg==\n",
       "\" style=\"display:inline;vertical-align:middle;\" /></a>"
      ],
      "text/plain": [
       "(b = a_{1}) or  (b = a_{2}) or  ... or  (b = a_{m}) or (b = b)or (b = c_{1}) or  (b = c_{2}) or  ... or  (b = c_{n})"
      ]
     },
     "metadata": {},
     "output_type": "display_data"
    }
   ],
   "source": [
    "enum_set_def_with_k_inst.expr.rhs"
   ]
  },
  {
   "cell_type": "code",
   "execution_count": 8,
   "metadata": {},
   "outputs": [
    {
     "data": {
      "text/html": [
       "<span style=\"font-size:20px;\"> <a class=\"ProveItLink\" href=\"../../../../../booleans/disjunction/_theory_nbs_/proofs/or_if_any/thm_proof.ipynb\" style=\"text-decoration: none\">&nbsp;&#x22A2;&nbsp;&nbsp;</a><a class=\"ProveItLink\" href=\"../../../../../booleans/disjunction/__pv_it/theorems/fd3da9898ba64653da239a2e75a4d4c56fe499ff0/expr.ipynb\"><img src=\"data:image/png;base64,iVBORw0KGgoAAAANSUhEUgAAAxsAAAAZBAMAAACr0C5sAAAAMFBMVEX///+IiIgiIiIQEBB2dnbu\n",
       "7u5ERETMzMzc3NwyMjK6urpmZmaYmJiqqqpUVFQAAAB6qHgnAAAAAXRSTlMAQObYZgAAAAlwSFlz\n",
       "AAAOxAAADsQBlSsOGwAACAJJREFUaN7tWn1sFEUUf9vb7e59bNmCNCgELiWEECQURSHKx5G0foDQ\n",
       "5SMYw9ehAQwGeqWJ/kGQQ5FIVFoViFFjT8Hwj5iLVokU4dAEI6AelUgQIgeJEsSUQlCoCnW+dnfm\n",
       "brfdBgwVnKS7c29+997M/GbevDdXAF/lVHkS/i//culdnvWJbOiJ3b+ZVggZSyTzH6ZDomtpvUfz\n",
       "+u5p027sEN9ldOTw+3jXdJTgl57pQXQcpq9Gj+bG7mkLtnk07Otobd2cyBNOX96aWVuIVcpaf9Ni\n",
       "vm1ycClD6diJP7zRNR3hFO5zD/IPCl3OeoctKTHRQzWgUzlXfsaPWvbhRJtX071IwyVRJo0y4did\n",
       "hdr79AX9o4xvqzx8E6XjWbxR413ToeJttK4HbY4wHUf4nL1EInjsxWwhe8m5shc/lrAPuy97NGnn\n",
       "AUJ/CTLlcaQsfLlA++yh6LEn6deqAD9A6QgiEuVs13QQ+qb2IDoC9PVQtTPiKHdkeMm5UsQdGfLa\n",
       "Sx5NEdQQOS/IgvegR6iiQPvreENs8W1VgAdMQgc+zYN+jvKDPexEP0rXrjHIWUt4tXwOncr5gldh\n",
       "mKHWSFc8mkqQFwuOFWTV+Kmm87XLRMVKv1ZFeDBDI6u7ystH+6EjUF4+ONaD6GiiPglOZIRgKgqd\n",
       "yvODqSJWT+t/ezQF4qCcSvAy7QLxWIl87fXk+ahfqyJczlE6dgAs8kNHOAHFZg+i423y3A6rnTVS\n",
       "kgCJnZ1ecqGcBiiltVBWvejRtHph6ZmMIJPPC1Bbe7XhLvewKsIjDZSODaDl/NCBUBtoSMM3uBOk\n",
       "XPfJTxdIRjB5vdN7FG4UmdCpXCgojBlibSbtqkfToCTo4wRZkXDqO9pHJt3lHlZFuF5B6Sg25ZR7\n",
       "YjR8MnyZc9LARTCZ1Gdy0YIyxvWrPATUmqYpNEiRzlbOsjs4sKmqyiW34yGgb3xrOPXg8TxVAPcR\n",
       "+FPN51DTXHaovQHHmBoiVypbTVGel2skdUZzWfPuPzyansALOcHLAm10ySlfi1Yn0gXq1+pEYT2r\n",
       "bZQO3XA7yWt/WQo/yWbYdOg4xE7yai4Ok6+40lEthGpfoAibeIQRdHCkvJeF4oqCL/IQ3AUj9soR\n",
       "jg5blUXHdIBeUVBLo1ZmyDIoKg9DOCrKxaLHWCKlIL9xwb0J8K75zuBlRYSOI1DbW7Q6koASfq0y\n",
       "uDVytjugYa9LUL8D5+pGWuYuSYIkkoZQHefzto1yMyhAAM6i8eD394hba73oKFbUCz0QByFdMGLy\n",
       "PJ4OS5XlrJCGIjQOndFRpMZt34bkvVLaJVGeV6JPW74KYLB7k4qP+HMpXkYzDnQ0tYhWSQoh+7bK\n",
       "4NaERBkdU1FGEdlVO1Dah5lCtf4AAwj/P67h6ZCPkq0iBbmjxnjH9TYpKJxG40HBGayGd9IqJqtH\n",
       "+0ctSHd4COmCEXu5iqeDqcJlIeY9Q283LDqkb+m8MXnEZBNjyfPLgF/p+wN6qXLgq9LcgCVik4Tm\n",
       "Xm0XZDgxBNm06bC01+NFWOXbqgUnEw6ROKPjeTR3c7dkAjkJTyKuJRUy+iPyvK0cHdoEykDYyT4k\n",
       "+MzNHg/BvT+4GxNdwkd9p1w7ykFoF4zmuxMcHZYqXKbhruPE97JDhzKMvi05yFFeruBpXdBgPQBm\n",
       "0JeGvWZNUtk/DibAQOCbIIjatmwSZSiGDuFV0iJaxbHyVtPbqtIuqGFwMuFoy8UYHSgggxduh14J\n",
       "LCE1M5Sh3jFdxt/oniYLLyFVgMZC423Ik4cO7cz3VRjChXBRmI/dUoD6pnVkj91Pw9H+4voJOO6L\n",
       "dsGIrbyDo8NShcsKgNkdm0CvaY/ZdLC0y5bDCpOXw3DsQtLWw8rqlJp2E37o2KhNb4BLLJ+xk8Ca\n",
       "q61nloEgA+XTVjLmFsEqwJzlZ8l4vKwOF9VQOJlwBEjxF+wnoQ6KsrS2BSKbFy9ehuiYFSy4YA9X\n",
       "TvsdVrEgsKnynBmABfkHD4ZwSz4N2p94rvHmzKotpK/4zNGhQhHvUSmEzjzpAjo7ZI4OSxXxzFz0\n",
       "pkc9bs27zqiEzWmoFSyA9lVarovVk+Si5Dnh944xUAb1Kq01q2qM7o7QoQI6DMCecQjzVVCf0BCR\n",
       "eb4KQw4cP7D9QTrHWQhhZ1qCfKGUZLF4K/rrB0lVDK4oJLLzmxjQLiA6JI4OSxXhK901HS/Bi926\n",
       "BktIca0tca10dNMqnnCAXTwdWhsiaV8YZuHa0CM0T98PliN16MA+5AqhYxY5AXuhtbwUlBj6aD0o\n",
       "5FA8kDpMUPUmzEjjJhSaIs+D6ECgmSmQ0PYsTnFftCB6Gb5cWMToqOXooKpYebJLOrQlz3zSnYmp\n",
       "R/sjEk9fIx3dtEonnFyq23SEcihG3tAX6rKodlsG1qElog5L0h+deDo+zsGc9hSmoy4bngDKnjfx\n",
       "7Yk6HuqS6lj8GM8gxYnHsO+sy0YaK6cswxWY01RqEjoQSGme1BfIDU1dln5xrAM5je91cBf0Vzcu\n",
       "zjh0MFWszHZG9PBFw3W1d3S0dYeOD1GKpp30fRO0tnHSdbBKJ7w4CW4/zlqH1QOLl+ZdkghliAOF\n",
       "KgkfA/ZCte+RD0M046DsCnZWFkg2DQ5h16LSfjOvCy4RvGbAzVP6gRsdIdPzzkrI2UdnbWiwA+Wz\n",
       "79tNVm0+8jonk45Cq6L2meqAGjuinEmrpuT0R/I7EIdboBTQEQFfdBRAMy41EeUB5xsinfT01qTD\n",
       "q7x2o//PKnkLsNF7cOYfxl6CWW7YCokAAAAASUVORK5CYII=\n",
       "\" style=\"display:inline;vertical-align:middle;\" /></a></span>"
      ],
      "text/plain": [
       "|- forall_{m, n in Natural} [forall_{A_{1}, A_{2}, ..., A_{m}, B, C_{1}, C_{2}, ..., C_{n} in BOOLEAN | B} (A_{1} or  A_{2} or  ... or  A_{m} or Bor C_{1} or  C_{2} or  ... or  C_{n})]"
      ]
     },
     "metadata": {},
     "output_type": "display_data"
    }
   ],
   "source": [
    "or_if_any"
   ]
  },
  {
   "cell_type": "code",
   "execution_count": 9,
   "metadata": {},
   "outputs": [
    {
     "data": {
      "text/html": [
       "<strong id=\"A_sub\">A_sub:</strong> <a class=\"ProveItLink\" href=\"../../../__pv_it/_proof_in_enumerated_set/eaac48d5ef4a2cb74cdef7e8da60162d7c0471950/expr.ipynb\"><img src=\"data:image/png;base64,iVBORw0KGgoAAAANSUhEUgAAARwAAAAVBAMAAABmokyvAAAAMFBMVEX////MzMxUVFRERES6uroi\n",
       "IiIQEBCYmJhmZmYyMjLu7u52dnaqqqqIiIjc3NwAAACW8nlqAAAAAXRSTlMAQObYZgAAAAlwSFlz\n",
       "AAAOxAAADsQBlSsOGwAAAr1JREFUSMeNlj1oU1EUx/9p8pLX1+Q1DopLbVatgU5ufkzZpEEMlOpQ\n",
       "URAcNJDFupildOjQ4CI4aFDQQeTFgGMhSwoqSFREVCwhxUWRZuhiUer9eq/3JXnn9g4v9978zv+c\n",
       "+3HuvQC6oEo3sjFYXODgSpECmRbJnNfqNJrokEIGP77AWzinioRKeb9uQD+TzgzGSsCpAeNVgnkQ\n",
       "1EzoeJ2QMfqRAjYb/SQ1j7eDmglNUd6MfqRAkv3MUcNKBn8a0RuUjMlYCrxm31fkDAabx4jeJ/4z\n",
       "GkuBVfa99/3kYM7NbPp5MpHzO41ok/A02hi99d9aq8lH5Pype/xQWC7xcoH3F7rxXX9Ba9rgFWoL\n",
       "spQbQJfomRvhJ3ETZ7UVXMJlIL2LZPjMcK7DLsIR8ulFv5dAnzdPsPoGEc5IYzwtY1lrbuAaG2sN\n",
       "k41wGvRhNTD1iddjfb+XQKtCdZoIZ6Qx1oBLWnOaY0xuLpyCyVl454C2mM9FTTEK3cF2lq0bHc6w\n",
       "Ma7C2dGaBT6J7DhYq4fW1OvgLlQ46aI23wrV9o5E74hw2vRiDftx/iHVR2pl6kOmkhUOTzMsyzZA\n",
       "qHgtHE93pXxqln3EdqNQkcQV+Gh4e0UaO38xVnv3rFBO5jI5IcCSc6wcHzhP4530vK1Gazd4Tqg8\n",
       "jkRjCyqZBerVVCVojTZmQbar1Z9fWKTcDRM4zGxmVgbHk3/Ze6/CsdgmQomPmUK3OHARCrW423mo\n",
       "j7UQZYzH347ls8jjCKyWELCy0estwvkhNhD3RqBu1e3CLQZouLyhjXEFH7EdAxeg7j0RjhjRhOGK\n",
       "3Dp0VN7GCg2XBm3s9tn8VGx5zZ6JxH49Wmcs38l4ITqi0Vt7eywm7KOh9ezQxokcHqL3VQo8oW+1\n",
       "uHhTysPUgEqHw2/CzEGMfQGXflNu6rNKohn6MWzwIwX+A4eP6ttOV0AmAAAAAElFTkSuQmCC\n",
       "\" style=\"display:inline;vertical-align:middle;\" /></a><br>"
      ],
      "text/plain": [
       "<IPython.core.display.HTML object>"
      ]
     },
     "metadata": {},
     "output_type": "display_data"
    },
    {
     "data": {
      "text/html": [
       "<strong id=\"C_sub\">C_sub:</strong> <a class=\"ProveItLink\" href=\"../../../__pv_it/_proof_in_enumerated_set/2bd007c54b3a9d52c6858597371925a3fe9e47390/expr.ipynb\"><img src=\"data:image/png;base64,iVBORw0KGgoAAAANSUhEUgAAAREAAAAVBAMAAACTXMcfAAAAMFBMVEX////MzMxUVFRERES6uroi\n",
       "IiIQEBCYmJhmZmYyMjLu7u52dnaqqqqIiIjc3NwAAACW8nlqAAAAAXRSTlMAQObYZgAAAAlwSFlz\n",
       "AAAOxAAADsQBlSsOGwAAAnVJREFUSMeVlj9o1GAUwN/ZXi7NxVwcBBehs3/AyU3p1E16FQ5Eb6hY\n",
       "cBLPSRGEAykVHDxcBKeAQwcpVwsiIkId1eU2/3FyULq42EGQVqS+974kl8uX7+XzDcmXfL9f3ku+\n",
       "PwQARiDEyHghkv/bzb2HtyTkQqZtT+ohu0r+CN7ZpvkJnXHbntRDdln2egAzXTPzNG3Zk3qUuSS7\n",
       "WE1D+HR30pY9qUeZS7KDp4XIjDhpnz1Z0FfikvweTy8FZCYdfntSjzKX5Id4ejw8le+pD2/Fjdnk\n",
       "loF8+ynMk3qUZSH5CU6nvahPC3qlRXGROoI23FdIrZdoY9JlsMWZd7bcM3lSj7IsJLcB/H1wBpNm\n",
       "dQNuwBo92l9K7hWTV/DO880TE6QeQhYVKC/jK/agsTHJPMLZVRnSBlDZTe4Vku4+HrqwMkHqYc4S\n",
       "B8rLXNpCboVd4zqpkumlzNN00qGh+QU/wyxZWIkpiwqU27zQubrxCHp/00r8ZuYLx2RmnvTpg9/l\n",
       "SvymODqGLLXV459VmnPIhN71nPkbq1SPrtFLe3SvkGzg0p1TK5RJfc8wu5xlbb7jjFjeBDjUmcpv\n",
       "xDilX6hKXBrbPs3dQhIXTj2EyuWY9PYSmg7jK3OWH1+gEbF8FIWTq9pCf3UvUpVU5+hAmYrJN7e/\n",
       "AmxHCdnCVpUy8uGS7HKW0zCv5GpoHFyuZIebHwg2kkE3GMWkrw+P7MJVeFBhudaVK1EvQkNkJreP\n",
       "HItisq73ym6wC4vvlHzeyLz+M4CAN1CPtyQjefPgAGJyXZ+xsjs9C986Sn4m/kxNqf86btuQA/0n\n",
       "yMJVcjCQkO/Zj2RNFnxg0SX5H3Vc1Sg86HUGAAAAAElFTkSuQmCC\n",
       "\" style=\"display:inline;vertical-align:middle;\" /></a><br>"
      ],
      "text/plain": [
       "<IPython.core.display.HTML object>"
      ]
     },
     "metadata": {},
     "output_type": "display_data"
    }
   ],
   "source": [
    "A_sub, C_sub = (\n",
    "    ExprRange(k, Equals(b, IndexedVar(a, k)), one, m),\n",
    "    ExprRange(k, Equals(b, IndexedVar(c, k)), one, n))"
   ]
  },
  {
   "cell_type": "code",
   "execution_count": 10,
   "metadata": {},
   "outputs": [
    {
     "data": {
      "text/html": [
       "<strong id=\"A_in_Bool_assumptions\">A_in_Bool_assumptions:</strong> <a class=\"ProveItLink\" href=\"../../../__pv_it/_proof_in_enumerated_set/74ba39b0b7e5475c021a8c32d6d7c53157de9fd80/expr.ipynb\"><img src=\"data:image/png;base64,iVBORw0KGgoAAAANSUhEUgAAAcIAAAAVBAMAAAAnevNVAAAAMFBMVEX////MzMxUVFRERES6uroi\n",
       "IiIQEBCYmJhmZmYyMjLu7u52dnaqqqqIiIjc3NwAAACW8nlqAAAAAXRSTlMAQObYZgAAAAlwSFlz\n",
       "AAAOxAAADsQBlSsOGwAABKZJREFUWMOVmF1oHFUUgM/+787uTtYHxScNKIjGyEit6EPbIFipoXSN\n",
       "rqTWh2AMhYI2Yh/qDzgvJWgfuviQyuLPkIAiEnaNCPWhsi8VVGqnlRJsTVlaRCqURqgPSaP13J+Z\n",
       "vXPv3LvTA2d2751zvznnzLk/uwDQA6Z60dy15YZtpNi3R08ONhjQ/mqXqUF2S+3z05/NT4xB1hf6\n",
       "fueql4g5efCLT67P3K/SJRkMjmFHXPyZqvV4XT++Oit1OLvtFvq20u+pdKguzhjcWJHamax/dWFM\n",
       "pUckCTiGLbhoNZmWXMP4ljz8Gfg+g2O8sOdLrh8ZKII5j3C23HNUekSSgGPYgotFzCDRIVOhHlaH\n",
       "v5sGKPSzMsd100ApuEqEhe6wSo9IEnAMW3Axjy2iezzD+Dy/+Wuj0QyGl/DzQGgxxTS7YXKDm1e3\n",
       "NvaGETb79FhJBFbZgos/4pXot8YaYFNl14V+gh55Bz+Ph7OlybRcN2GYefYTL3yH6T87IT1+GiYC\n",
       "q2zBxaN4Jfrh6sPyoMsnr/Fv5WG69Lb603hpAl2D5aCj2GFaGj0nV7s9cilY6Jj5VS+s0gvnR0J6\n",
       "vCQDq2zBxeMsfmvda5ON6UiDyATNx+uwgw8o0NoshTuX8/T8Px/g51viSybabln/Eb8opUE939nL\n",
       "BBXGzD/tz8O9Bye9gK6vnsFglS24+DJeUSsbkJf2lM9n4QjAF+TxlSn6NHEar+xC334IOnJdpmc8\n",
       "eC1KsfZDsQ5fLT8EgXlTWGmqh1oBPV4GgUOR2IKLr2ILtdiEoU4UcQxgH6RWCSW1RjruIulz+PBM\n",
       "Fs3vDZeiMabvA9yUymwNch1wSbKYeWoGKc/zCMEZD+iaNW4AOBSJLbjII0TjPVKhT4N1AxNMIszS\n",
       "LC+KCcoAxrpTdmQfZKVlPe9AewxuwPUaN7cc4R2Ckwno5gh14FAktuAir1LcDo95kXlo/QuFNR4h\n",
       "vUAuOhwr4pRcTJtQ3IhOl7YP7wG8TSNk5vVIhKWAbq5SHfjwG6vDK4+CwhZc3IYt1KEa1nW0zjch\n",
       "3fyFPb5Ac1P1xeEVbL1JGiQxGZ/p32T2RqTdhQcrPbYbUXNYjUR4mtMtNboE4L8O7YdX4JzKFlxc\n",
       "ZittejYjnwq2wSnXZREWWcF/HA4fh5Mn+DZjrfMFn+gD8IR8+PQrk0WcIS9xc1ywumGEnfJFl9Pb\n",
       "TY4KvyQB20tNDP6oyhZcvBOvqNbInJzChYv3jNZYhDlW8AuPsd3jt+kd5OAO8AJpNbAzVWe6cELe\n",
       "va3Rry+fBbjiBeZg3fcsO37Mb6G/LRg9R1IwSb64/EsicNpPTdGZFmWLLuZwfhDVHipIhH/wxvjW\n",
       "hrh32bTsK8T557jqfqe5do+b48ryDT9ZcWH0n9RHJwDna1XHXqtp2dhPjqwFd0CEc5oDB81rOTib\n",
       "G07QV+642+Pm8YdrgI7SnwR8Hd9iwXG1bNK/HZhqkv/dTR9sR+M3vS7RWdFjqpGDt24F5uojKN3y\n",
       "lRtJwE/hScse9XRs2r8Y2eliRfcElhg/2Iksx4zZbqJX1RuJwYZ3RPptn6lBLml++ouBX+Nq+Keg\n",
       "d1v05GADG/v/Bx16m5+YVTf8AAAAAElFTkSuQmCC\n",
       "\" style=\"display:inline;vertical-align:middle;\" /></a><br>"
      ],
      "text/plain": [
       "<IPython.core.display.HTML object>"
      ]
     },
     "metadata": {},
     "output_type": "display_data"
    },
    {
     "data": {
      "text/html": [
       "<strong id=\"C_in_Bool_assumptions\">C_in_Bool_assumptions:</strong> <a class=\"ProveItLink\" href=\"../../../__pv_it/_proof_in_enumerated_set/d9083d30903810e641f2bf07fc37c7097fab54d20/expr.ipynb\"><img src=\"data:image/png;base64,iVBORw0KGgoAAAANSUhEUgAAAbcAAAAVBAMAAAA3Gr2JAAAAMFBMVEX////MzMxUVFRERES6uroi\n",
       "IiIQEBCYmJhmZmYyMjLu7u52dnaqqqqIiIjc3NwAAACW8nlqAAAAAXRSTlMAQObYZgAAAAlwSFlz\n",
       "AAAOxAAADsQBlSsOGwAABHNJREFUWMOVl12IG1UUx8/uTLLJJJOND0ofSluwIFgrA1rRB2sQbGmX\n",
       "0u1qpLV9KKxLQdBuseD6BQEpS/XBwYdtCdUOu1ARWTauSCtSyYuCLaVBKYvVSKAs0gepQovsttqe\n",
       "e+5NMrl3zmR64CRzb8788j93zv0YAGiBdNaYHwt6oxAHKdxnf1Iu+yupduvSedulta+Mn54ZK4Hd\n",
       "CPX9rpy1nmiOYlpfrgFwX35mZWKjUn2R3HlqlL3dndQ6vF2FKt6+1O3J18jnJngRS9CXYloCrgGw\n",
       "7Mb12RKpdnzp2Qp/e1WXtR2+t/CWoNPzhfKTPCQUzVFMS8A1AJY9mWt5pDozKX04pjKnTFnvDQIM\n",
       "dcdjWvkdHjJU6UsxLQHXAGByQ/UNpDoN0nfHDGBa/fZLuey3ZWXx+7VOxEHp9mqMCBXtbinvg2iK\n",
       "aUm4OpiS80n1T9gU/k3cg5eTbsfV7pg//i5+n+hMDV96bjSGIqPtTwOOEjHlknB1MCY3+GeNVH+E\n",
       "TeGfNB/Tb8o1j6iLDbTmVrtLwfwY3g2L7Y5MTXp2889GdZ9fKsoLGX09YCmmJeLqYMu+emWTVH1C\n",
       "pu6sBAtiZzhWFjZGyRyAD1RVUzFmO/ud98LMrQ/x++3woxW+UHX+F5oIUqYhWa5nPBkkoz8DlhJd\n",
       "Mn25Otiy9x3eG5DqA9hEz69CWtswUjV4HT4XeeUP0j+Fl4KlHXj7j53QuvTLAd7Sa/uR++Xio9CO\n",
       "9nmKaX246lIDY1m6R6uk+lVsomd8GK713v4x/vFAU1T7wN+i/ZAYNU/JsmyMXt9ZcUrSjwPc1gpL\n",
       "LAUVOAYqemACIS9CJCViJYvnKtPAmBx4I6RaJYePabdW1uM0pUVyNj25ufCYW4BpbtNF7AdbW7TT\n",
       "YjRuwo2iinY8nsInx3CVaWBKziLVqixxmxNPKjTnnP86ydEHpHplYRn8oJfPHTmiobmxIGrnHUpO\n",
       "Ro/yFL4sGe7UkabY4zQwJZcl1c9iE3246BzSyP9i8jKvIRoVtxGWlcfWm6IhhsRqSP8HzmhHtWFs\n",
       "l+RGQ9HQhCiKYybWn7vz6CF4wwRTcpdI9aJcSwcnLf2kgEvlVzK5jJyNpzqyRuD8ObWFOCtqrxD+\n",
       "CDytL+Ye5Iow8IqKxmWpHkVZ8BVJXHRb8dx18z6smmCcyLnfKqT6QWyiO5umjW3u7PuBTC5Voo7Z\n",
       "J+VW8uv4c+I8D/CSaJXFujMqffacfsaG797Crf9a0I4G5+GdYFJSIvu94qLS/kjAHWzQatALdmee\n",
       "oLcCoTqFsyFV5M8IIrll1RjZUvbDb1JU5nkhfI9y5pWrUmipaCz1r9Xxq4dywfzn/tx0MVMpsuBl\n",
       "eeyMObtSctPM+YGGM9c+Wk+xkGsPrAlUNEepGf0JuDcgtbbIgoXqrcqjx/zb2w0oeIxm+pynOm9J\n",
       "j7bDd++2oxmKY76yJuA+D+5ZFkyq53q2sCjj6HJIGu1dxvFiKVvj+l2zPymXA5PqQkM6b38wL+jh\n",
       "nP9Szr/Ot+6vPymXBaDqewSahc6Vl6TzAAAAAElFTkSuQmCC\n",
       "\" style=\"display:inline;vertical-align:middle;\" /></a><br>"
      ],
      "text/plain": [
       "<IPython.core.display.HTML object>"
      ]
     },
     "metadata": {},
     "output_type": "display_data"
    }
   ],
   "source": [
    "A_in_Bool_assumptions, C_in_Bool_assumptions = (\n",
    "        ExprRange(k, InSet(Equals(b, IndexedVar(a, k)), Boolean), one, m),\n",
    "        ExprRange(k, InSet(Equals(b, IndexedVar(c, k)), Boolean), one, n))"
   ]
  },
  {
   "cell_type": "code",
   "execution_count": 11,
   "metadata": {},
   "outputs": [
    {
     "data": {
      "text/html": [
       "<strong id=\"or_if_any_inst\">or_if_any_inst:</strong> <span style=\"font-size:20px;\"><a class=\"ProveItLink\" href=\"../../../../../booleans/disjunction/__pv_it/theorems/22736ce9d3a37303b26f11de823dee236fdf12440/expr.ipynb\"><img src=\"data:image/png;base64,iVBORw0KGgoAAAANSUhEUgAAADsAAAAQBAMAAABaYBp1AAAAMFBMVEX///8yMjJmZmYiIiIQEBCq\n",
       "qqqYmJjMzMxERER2dnbc3Nzu7u5UVFSIiIi6uroAAACibcT0AAAAAXRSTlMAQObYZgAAAAlwSFlz\n",
       "AAAOxAAADsQBlSsOGwAAAQJJREFUGNNjYMAKNv9o3MAw5csDBhygle8AA/cHXLIMhxdMY2BwwCl9\n",
       "tIFxAYMBuihvs7EhmHEql0sAQ5pPdgOUdYqn4CZImu/Orrm97DP7wIILYbIMpxgaOB4ApTk5zjLs\n",
       "z2MIAQtKMSCki7itgdLvmBsY1l9gyAcLCiBJswVEAF2+Yf8DhvgNDIogMXZnY2NjC6g0w2kekMfi\n",
       "GUByniAx7gYk3Qx7uEEuP8jAYMnA94sbJGiALM1+AaTak4H7HwOPwDKQ4F24dDsQXwdKc31nYPvA\n",
       "wDFhAkiQMQAmLQrETECX8hkw8Cow8OkuAFt+4jVEtvALUCe3AHqg8s2ABioUAABJoD7khEmCZQAA\n",
       "AABJRU5ErkJggg==\n",
       "\" style=\"display:inline;vertical-align:middle;\" /></a>, <a class=\"ProveItLink\" href=\"../../../../../../numbers/number_sets/natural_numbers/__pv_it/theorems/1a8a7907b709bbd24c48a9933f16dbe96429f5cc0/expr.ipynb\"><img src=\"data:image/png;base64,iVBORw0KGgoAAAANSUhEUgAAADUAAAAQBAMAAABEqSrGAAAAMFBMVEX///9mZmYQEBCYmJgyMjKq\n",
       "qqrMzMwiIiJERER2dnbc3Nzu7u5UVFSIiIi6uroAAAA6K1lcAAAAAXRSTlMAQObYZgAAAAlwSFlz\n",
       "AAAOxAAADsQBlSsOGwAAAOZJREFUGNNjYMAE23+0bGCY9OkBAzbQyneAgfsDVimG4wsmMzAoYJc7\n",
       "2sCygKEAVexGebkDiD5ly+WAJvfkNpRxiifhJkiO786uub1gES5vmKJTDA0cD4BynBxnGfYvAImw\n",
       "LEDIJXJXA+XesTcwrE8AyzEg5JgDIoDu3LD/AUP8BpBIUjkQNEDkGE7zgPwQz8BwBKx6B5I+hj3c\n",
       "IHcCJT5zg0TYkeXYLoBM0GRg/c0JEuG9AJNrA+JrQDmubwy8DmZgIVeYHIjBCAwFvgIG7sMBYKE9\n",
       "fWA3MaR8AurhdkANs5ft5cgiADLCQKtntbI7AAAAAElFTkSuQmCC\n",
       "\" style=\"display:inline;vertical-align:middle;\" /></a>, <a class=\"ProveItLink\" href=\"../../../__pv_it/_proof_in_enumerated_set/74ba39b0b7e5475c021a8c32d6d7c53157de9fd80/expr.ipynb\"><img src=\"data:image/png;base64,iVBORw0KGgoAAAANSUhEUgAAAcIAAAAVBAMAAAAnevNVAAAAMFBMVEX////MzMxUVFRERES6uroi\n",
       "IiIQEBCYmJhmZmYyMjLu7u52dnaqqqqIiIjc3NwAAACW8nlqAAAAAXRSTlMAQObYZgAAAAlwSFlz\n",
       "AAAOxAAADsQBlSsOGwAABKZJREFUWMOVmF1oHFUUgM/+787uTtYHxScNKIjGyEit6EPbIFipoXSN\n",
       "rqTWh2AMhYI2Yh/qDzgvJWgfuviQyuLPkIAiEnaNCPWhsi8VVGqnlRJsTVlaRCqURqgPSaP13J+Z\n",
       "vXPv3LvTA2d2751zvznnzLk/uwDQA6Z60dy15YZtpNi3R08ONhjQ/mqXqUF2S+3z05/NT4xB1hf6\n",
       "fueql4g5efCLT67P3K/SJRkMjmFHXPyZqvV4XT++Oit1OLvtFvq20u+pdKguzhjcWJHamax/dWFM\n",
       "pUckCTiGLbhoNZmWXMP4ljz8Gfg+g2O8sOdLrh8ZKII5j3C23HNUekSSgGPYgotFzCDRIVOhHlaH\n",
       "v5sGKPSzMsd100ApuEqEhe6wSo9IEnAMW3Axjy2iezzD+Dy/+Wuj0QyGl/DzQGgxxTS7YXKDm1e3\n",
       "NvaGETb79FhJBFbZgos/4pXot8YaYFNl14V+gh55Bz+Ph7OlybRcN2GYefYTL3yH6T87IT1+GiYC\n",
       "q2zBxaN4Jfrh6sPyoMsnr/Fv5WG69Lb603hpAl2D5aCj2GFaGj0nV7s9cilY6Jj5VS+s0gvnR0J6\n",
       "vCQDq2zBxeMsfmvda5ON6UiDyATNx+uwgw8o0NoshTuX8/T8Px/g51viSybabln/Eb8opUE939nL\n",
       "BBXGzD/tz8O9Bye9gK6vnsFglS24+DJeUSsbkJf2lM9n4QjAF+TxlSn6NHEar+xC334IOnJdpmc8\n",
       "eC1KsfZDsQ5fLT8EgXlTWGmqh1oBPV4GgUOR2IKLr2ILtdiEoU4UcQxgH6RWCSW1RjruIulz+PBM\n",
       "Fs3vDZeiMabvA9yUymwNch1wSbKYeWoGKc/zCMEZD+iaNW4AOBSJLbjII0TjPVKhT4N1AxNMIszS\n",
       "LC+KCcoAxrpTdmQfZKVlPe9AewxuwPUaN7cc4R2Ckwno5gh14FAktuAir1LcDo95kXlo/QuFNR4h\n",
       "vUAuOhwr4pRcTJtQ3IhOl7YP7wG8TSNk5vVIhKWAbq5SHfjwG6vDK4+CwhZc3IYt1KEa1nW0zjch\n",
       "3fyFPb5Ac1P1xeEVbL1JGiQxGZ/p32T2RqTdhQcrPbYbUXNYjUR4mtMtNboE4L8O7YdX4JzKFlxc\n",
       "ZittejYjnwq2wSnXZREWWcF/HA4fh5Mn+DZjrfMFn+gD8IR8+PQrk0WcIS9xc1ywumGEnfJFl9Pb\n",
       "TY4KvyQB20tNDP6oyhZcvBOvqNbInJzChYv3jNZYhDlW8AuPsd3jt+kd5OAO8AJpNbAzVWe6cELe\n",
       "va3Rry+fBbjiBeZg3fcsO37Mb6G/LRg9R1IwSb64/EsicNpPTdGZFmWLLuZwfhDVHipIhH/wxvjW\n",
       "hrh32bTsK8T557jqfqe5do+b48ryDT9ZcWH0n9RHJwDna1XHXqtp2dhPjqwFd0CEc5oDB81rOTib\n",
       "G07QV+642+Pm8YdrgI7SnwR8Hd9iwXG1bNK/HZhqkv/dTR9sR+M3vS7RWdFjqpGDt24F5uojKN3y\n",
       "lRtJwE/hScse9XRs2r8Y2eliRfcElhg/2Iksx4zZbqJX1RuJwYZ3RPptn6lBLml++ouBX+Nq+Keg\n",
       "d1v05GADG/v/Bx16m5+YVTf8AAAAAElFTkSuQmCC\n",
       "\" style=\"display:inline;vertical-align:middle;\" /></a>, <a class=\"ProveItLink\" href=\"../../../__pv_it/_proof_in_enumerated_set/d9083d30903810e641f2bf07fc37c7097fab54d20/expr.ipynb\"><img src=\"data:image/png;base64,iVBORw0KGgoAAAANSUhEUgAAAbcAAAAVBAMAAAA3Gr2JAAAAMFBMVEX////MzMxUVFRERES6uroi\n",
       "IiIQEBCYmJhmZmYyMjLu7u52dnaqqqqIiIjc3NwAAACW8nlqAAAAAXRSTlMAQObYZgAAAAlwSFlz\n",
       "AAAOxAAADsQBlSsOGwAABHNJREFUWMOVl12IG1UUx8/uTLLJJJOND0ofSluwIFgrA1rRB2sQbGmX\n",
       "0u1qpLV9KKxLQdBuseD6BQEpS/XBwYdtCdUOu1ARWTauSCtSyYuCLaVBKYvVSKAs0gepQovsttqe\n",
       "e+5NMrl3zmR64CRzb8788j93zv0YAGiBdNaYHwt6oxAHKdxnf1Iu+yupduvSedulta+Mn54ZK4Hd\n",
       "CPX9rpy1nmiOYlpfrgFwX35mZWKjUn2R3HlqlL3dndQ6vF2FKt6+1O3J18jnJngRS9CXYloCrgGw\n",
       "7Mb12RKpdnzp2Qp/e1WXtR2+t/CWoNPzhfKTPCQUzVFMS8A1AJY9mWt5pDozKX04pjKnTFnvDQIM\n",
       "dcdjWvkdHjJU6UsxLQHXAGByQ/UNpDoN0nfHDGBa/fZLuey3ZWXx+7VOxEHp9mqMCBXtbinvg2iK\n",
       "aUm4OpiS80n1T9gU/k3cg5eTbsfV7pg//i5+n+hMDV96bjSGIqPtTwOOEjHlknB1MCY3+GeNVH+E\n",
       "TeGfNB/Tb8o1j6iLDbTmVrtLwfwY3g2L7Y5MTXp2889GdZ9fKsoLGX09YCmmJeLqYMu+emWTVH1C\n",
       "pu6sBAtiZzhWFjZGyRyAD1RVUzFmO/ud98LMrQ/x++3woxW+UHX+F5oIUqYhWa5nPBkkoz8DlhJd\n",
       "Mn25Otiy9x3eG5DqA9hEz69CWtswUjV4HT4XeeUP0j+Fl4KlHXj7j53QuvTLAd7Sa/uR++Xio9CO\n",
       "9nmKaX246lIDY1m6R6uk+lVsomd8GK713v4x/vFAU1T7wN+i/ZAYNU/JsmyMXt9ZcUrSjwPc1gpL\n",
       "LAUVOAYqemACIS9CJCViJYvnKtPAmBx4I6RaJYePabdW1uM0pUVyNj25ufCYW4BpbtNF7AdbW7TT\n",
       "YjRuwo2iinY8nsInx3CVaWBKziLVqixxmxNPKjTnnP86ydEHpHplYRn8oJfPHTmiobmxIGrnHUpO\n",
       "Ro/yFL4sGe7UkabY4zQwJZcl1c9iE3246BzSyP9i8jKvIRoVtxGWlcfWm6IhhsRqSP8HzmhHtWFs\n",
       "l+RGQ9HQhCiKYybWn7vz6CF4wwRTcpdI9aJcSwcnLf2kgEvlVzK5jJyNpzqyRuD8ObWFOCtqrxD+\n",
       "CDytL+Ye5Iow8IqKxmWpHkVZ8BVJXHRb8dx18z6smmCcyLnfKqT6QWyiO5umjW3u7PuBTC5Voo7Z\n",
       "J+VW8uv4c+I8D/CSaJXFujMqffacfsaG797Crf9a0I4G5+GdYFJSIvu94qLS/kjAHWzQatALdmee\n",
       "oLcCoTqFsyFV5M8IIrll1RjZUvbDb1JU5nkhfI9y5pWrUmipaCz1r9Xxq4dywfzn/tx0MVMpsuBl\n",
       "eeyMObtSctPM+YGGM9c+Wk+xkGsPrAlUNEepGf0JuDcgtbbIgoXqrcqjx/zb2w0oeIxm+pynOm9J\n",
       "j7bDd++2oxmKY76yJuA+D+5ZFkyq53q2sCjj6HJIGu1dxvFiKVvj+l2zPymXA5PqQkM6b38wL+jh\n",
       "nP9Szr/Ot+6vPymXBaDqewSahc6Vl6TzAAAAAElFTkSuQmCC\n",
       "\" style=\"display:inline;vertical-align:middle;\" /></a> <a class=\"ProveItLink\" href=\"../../../__pv_it/_proof_in_enumerated_set/ffe874b84743f7009604babc080d6c7b0958bda90/proof.ipynb\" style=\"text-decoration: none\">&nbsp;&#x22A2;&nbsp;&nbsp;</a><a class=\"ProveItLink\" href=\"../../../__pv_it/_proof_in_enumerated_set/59f96e41b415a75aa54acd656417c500897c3ba80/expr.ipynb\"><img src=\"data:image/png;base64,iVBORw0KGgoAAAANSUhEUgAAAsgAAAAVBAMAAACpugWdAAAAMFBMVEX////MzMxUVFRERES6uroi\n",
       "IiIQEBCYmJhmZmYyMjLu7u52dnaqqqqIiIjc3NwAAACW8nlqAAAAAXRSTlMAQObYZgAAAAlwSFlz\n",
       "AAAOxAAADsQBlSsOGwAABWFJREFUWMOtWV1oHFUUPpvt7k5mdydbpeJLzCqCaA20LyKCmqd9K91I\n",
       "hWj7EKkiFNTVfWmF4oKUVSN08aUlD3Vo0CI+bBoQFS3EhxRF0LUiVWvCklDwh9otFMQ0Gu+5dya5\n",
       "c/f+nLRemDuZ7He+75xv7r1zdxYAumBr6qeBFW3/1MzqBnSpit3/hZaWJdmS4rwVs0e5/sWK3tYh\n",
       "peXQ1MgaI1RFO/UeuBW0oREs+Rr8h6oWP2qJy8IszDxnobxISsuh2S+rj+CZXNwKNYnWiNY3giV+\n",
       "C2CwYcFMs2MgZF0Kb8kH7DhpQQ+GCXiiPYDdMBA0I1lnxMlYkUw9DTeP1hdDscRjd2vINmkOsyOH\n",
       "hqVLrGuyY82CzjUS8EQ7it1udjg1I1lnxFqsSKY+DDeP1hdDsSTLTntDCyaLH+KU+g2vJtkis2oz\n",
       "5xDI8ETL4GOghZQuzVjWESEyObQVagqtCa0vhmLJV6z/yAYZxIXpc3a8jesPo81bV9MTIMGTLc/G\n",
       "jIfjxqkZyzoiRCYntkJNoTWh9cVQLJli/TuLD6r7jp1L8ZKaL0fDEom8WaY8emHeDJ8DCa6gWmIA\n",
       "GDRh+dwVqYiyO0JkMkegzi++TKc1ofXFGCzZ4MAE2Tjw/w7bbEvoPckb8kKlm45nQA7nxEAJip3o\n",
       "1ran/X/BCD8CElxpdwMsRmMv0oRjnOQJPvlfhMc3py6XdUSITI64gcEBeJ1Oa0Lri5Es0XJgggfY\n",
       "gF+FbNIS/3nw4pFYmMStQhkyfH1iN+zbEF4AI/w8SHCl3QbwNJ61mvB+DY5JG6NJd4TI5LwbmJmN\n",
       "U6bQmtD6YvSWbHJggs+yMdmCodkExOshyudjJNXD/hR8yZ8EYwBvAtwADfzDOdzWjIAEV6d3t8D3\n",
       "S1pNOA6wf/NKyNojRCYjBGq842daRFpE+5/dE6pofTF6S45LY2wEdZhBe5NLSnYXtMdg+Ac+iyfF\n",
       "rv1UzLgftik7FgFv8IFYAQnet20f7Ea19WvCQfCvSzuHSXeEyKRCoWaGLVaJtIj2+NxMovXF6C05\n",
       "KP1dwRnDdopovLTItjvwGjstcDK+EGRSu+K5sQbeKmjg1+FqKYqJ4Wqr3g7RLI00pWXM/wdyPamG\n",
       "qjMiymSBQh0zEmg5emgsuKai9cVIlqiKUVuARxlhiS2qidaeh/sLXZF+jttVfGUMT2m2fF3D1VMD\n",
       "f5WbXAcJ3vcN815+0mr6azDQ+ibXHL5QrJdiWWtElEndDfyLDUrhGIUW0bkQTU6i9cXoLeEczeEf\n",
       "8e86boAGamllzUl3ChNeNEY8vmL5T23sae6Dh0EL51vOKZDg7RY+viHqAN5rxdu8fk1W8UKjcaZS\n",
       "y5aL5VjWHiEymXID2YP+rDCZQsvRfO+bQPMaNira4NBbghxYS5cnuIMF7WwqEH/07PJ3kckZMSbF\n",
       "d4sUUz79SU0PT+HTdh9I8AzmPwFxF+/ptZpw+tJdo6Xff2JjC2uLZO0RPJN9bmD+46OhMJlCy9Gw\n",
       "I1TRE4mK4v/qLUEOrCXkCWZK5q8q3OTLiX+NW77ZrDDGoEp4b2XTHIU7+DJ3mRqRVLQAucl02kf6\n",
       "0IY2bqmlIhLMNRwmN/tfmRjSagRd/srF2Wyaz8D3cDWlyloikooWIDeZTPsr/KmibW+RDLW8kRIJ\n",
       "PmY3OUhuE9LmXwtWtt8ZwgrpfbJZM+ix+1/3VFlLxAoViCaTaYPd29/qQ+ub0RJWy/gXIsEZY/Qf\n",
       "757ro/DNui+tr1tvmfy23fw7QpntsJd/7st8hnrDjMDg0xsdOm12fb1nG1EUS1gtl6JRHNh/MVpS\n",
       "rq/Yf9AgpeXS1MgaI1RFO/US3Ara0JyW/Ad0E0Uw6SixawAAAABJRU5ErkJggg==\n",
       "\" style=\"display:inline;vertical-align:middle;\" /></a></span><br>"
      ],
      "text/plain": [
       "<IPython.core.display.HTML object>"
      ]
     },
     "metadata": {},
     "output_type": "display_data"
    }
   ],
   "source": [
    "or_if_any_inst = or_if_any.instantiate(\n",
    "        {m:m, n:n, A:A_sub, B:Equals(b,b), C:C_sub},\n",
    "        assumptions=[InSet(m, Natural), InSet(n, Natural),\n",
    "                     A_in_Bool_assumptions, C_in_Bool_assumptions])"
   ]
  },
  {
   "cell_type": "code",
   "execution_count": 12,
   "metadata": {},
   "outputs": [
    {
     "data": {
      "text/html": [
       "<strong id=\"the_or_expr\">the_or_expr:</strong> <a class=\"ProveItLink\" href=\"../../../__pv_it/_proof_in_enumerated_set/93d4d7c9c2c5a1658210abe5246ee1fd422bc1e60/expr.ipynb\"><img src=\"data:image/png;base64,iVBORw0KGgoAAAANSUhEUgAAAY8AAAAVBAMAAABMPn9FAAAAMFBMVEX////MzMxUVFRERES6uroi\n",
       "IiIQEBCYmJhmZmYyMjLu7u52dnaqqqqIiIjc3NwAAACW8nlqAAAAAXRSTlMAQObYZgAAAAlwSFlz\n",
       "AAAOxAAADsQBlSsOGwAAA1dJREFUWMOtV01o1EAU/ra72U2jm66HelMXLx60UC8iQnVPvUmrKCj1\n",
       "UFERBGWxF3vrpRR/oMGL0sMSLFg8dREERYVeKoqgSz2IP5VSEVSobsGLbbXOTGayyUxmmyV+kEny\n",
       "zZeX92Ze3kwALCAadgzm/+p1WIglyM9oejM1mfnY1FpyvQZaD30cps1LWPv65Z7Jc6R5K5Gbqx6v\n",
       "Q1K9DpEehkMtA5YDtI8oXbfJ0e6Spo02KTZ49zivQ1J9CA1e42EIE4BJgulQ526NHDn6dI7aShco\n",
       "N8Z5HZLqw50+r/EwhCtAlpz6XCV/V2h7gTZ0Ur8xclDwOiTUh+Hz0R6GkXXxgpweKB2bWE7eos0T\n",
       "ctxgKe8IXodkegk+H+2hlKVlXCenm/N75I6uOTKZ98FHhbljVgUfwuLTJXGZTC/B56M9DNohA1ak\n",
       "o2L9dqdpJR49TnGUdkxPWH+BYfbVFZCv8ag5H1RmLuGQmPdkevlrF3y0h0E75ItycIrkwAqykqnX\n",
       "Li4Cz+hlqgiDPWHMCD6Iu2WMAlMOvY6ttx7vdBW9BJ+P9tB7r1/pB3GW5ICDjmpYdhVYBXaw6wqe\n",
       "ex9USfBBjAMDSM2zJIitN2H2K3oZgo/2kNlpRF2nMqOKPimTB5AhhbOXr0cV3zGPD+IMrF9kRFgg\n",
       "sfUdJXtZ0avrYEUEEuGh916/yg7SiSNFetwNZ+AaTFI4Z5nISHVDpIrHB5TWH+TqIpDY+pzLAgnr\n",
       "ZQg+0kNuZ2zbXH6owN7fQ2QF67xkZJnmIIa89f9yiZ3TNcEHYK2hzXnFA4mv9+pyWK/sOzgf6aFn\n",
       "Z6q3nC3mi+Rj76YlsK2clncAu7CfFz7yzEm/xHE+iB7MjozwQOLr0ekq+mmHlid+EeCjPWR2vr8j\n",
       "MdIyT45O8sTuMXk07jykA3nMu+HLVapf8CHlh+1dBR5IfL19QNUb1NcT4qLBazxkdrqwlaWwUYJR\n",
       "0P8wSOvUEf3KygJpQf8VP1S9Bk08xGm8wc8U8IXv3KJhlpWdWdNA4uvtvVuuqfpme0uNnTqZkyHT\n",
       "258e1Mo+S/dp7Z+a/Wi11oo+u75eV/U66D3MFEmJXnwPm9a3ydgGrO7WXtiqXofJDRVsyGzdH2de\n",
       "GdCl5r9pifW6+d7wn/gT8A9m6VAiI9zk/AAAAABJRU5ErkJggg==\n",
       "\" style=\"display:inline;vertical-align:middle;\" /></a><br>"
      ],
      "text/plain": [
       "<IPython.core.display.HTML object>"
      ]
     },
     "metadata": {},
     "output_type": "display_data"
    }
   ],
   "source": [
    "the_or_expr = Or(Equals(b, b),\n",
    "   ExprRange(\n",
    "       k,\n",
    "       Equals(b, IndexedVar(a, k)),\n",
    "       one, m))"
   ]
  },
  {
   "cell_type": "code",
   "execution_count": 13,
   "metadata": {},
   "outputs": [
    {
     "data": {
      "text/html": [
       "<strong id=\"another_or_expr\">another_or_expr:</strong> <a class=\"ProveItLink\" href=\"../../../__pv_it/_proof_in_enumerated_set/409f3a6f0995313e0dafc707562a3cb046d87bc20/expr.ipynb\"><img src=\"data:image/png;base64,iVBORw0KGgoAAAANSUhEUgAAAOUAAAAVBAMAAABLdTQ8AAAAMFBMVEX///8AAAAAAAAAAAAAAAAA\n",
       "AAAAAAAAAAAAAAAAAAAAAAAAAAAAAAAAAAAAAAAAAAAv3aB7AAAAD3RSTlMAInZUiRDNmWbv3US7\n",
       "qzJazP2FAAAACXBIWXMAAA7EAAAOxAGVKw4bAAAC1klEQVRIx41WTWgTURCe/Gx2s/mlBw9FIVaF\n",
       "XIQWRLEXQxUEQchJUFKSHopehEBFSi8NHtSDQhQEUQ8Fq4eKErx5atqLeNFSFQRBVo+i+BPrRRDn\n",
       "ZyPJ252lD/b9zPvme29m3kwCAEVQWmwbEr8VtyEZkMfHNaJMyZTs0aBPTYHKysgDYL1YCt8vG+tE\n",
       "BWp3TBBrx1uGVGUlpNUASDXDz0xVsctRl2eTT+F3Nogi7VmavaXuE19EZ0WkjecWFEc4pOXQcVmP\n",
       "1vP49QIo1r5Cs0vUvaQughWRaRxWq4rzb1FHLtrByzbGeCsAYu00dS49swbJIlgReRCHE9rTOEfd\n",
       "UfzmOJxIlwwGibVTFNAkWmazdRGsiLyAw/mx1+bOrqkR7E+CbyOfZFdQY3O/6TLWTm74NrosU1in\n",
       "yh4h0RTrd7VOabOwQu0xp8kNeIWuuUzznAfxUt+W+qz1g45n6AodJNoOu/QDwFjfQT7rABJGx+0u\n",
       "Ie+jz7YgbaTi6RYs4HCY5vkNcDk0Llp4pAo3jQRi7USb5l8BHrAwnHXZR97FqzSgUBneXSQAwDde\n",
       "zMAhiX4H4CLAr2GoaOe/syeKCUmQUFab3x8icdetwKoRpHtg/cHhmZ/fM//PXIaMkS2inWlL0UgV\n",
       "+2cGWdNdDlubvICJtFgdiqf1Exy6+KSw5rvQ921PbjsQJdFOyHte+gJ93/qsA8g6uxqR67jrWbeN\n",
       "etaDXGMC4JqUq+sdHrOo85dCPVwSWNuRa5XfizCUtYCaHUJiOuRaWbNMrcNksylPHm/wUISUD+/g\n",
       "uQEVbVtCd6YhwlBWfLRJj5CfkfPNvJlI03s/bmK5eySrORny6L/p42Y1F21XXGH7EQxnPXZ1HyNd\n",
       "D9QWM4rOEx06ajwsLwrpNHUiuxUoz1qbD/l10JFrOtFOY53V/1J0DcFaJLKmn2kqWl0NGbhNLRIZ\n",
       "K2nb8YBZIxp0d8Ccko78BynTwNakGVc2AAAAAElFTkSuQmCC\n",
       "\" style=\"display:inline;vertical-align:middle;\" /></a><br>"
      ],
      "text/plain": [
       "<IPython.core.display.HTML object>"
      ]
     },
     "metadata": {},
     "output_type": "display_data"
    }
   ],
   "source": [
    "another_or_expr = Or(Equals(b, a), Equals(b, b), Equals(b, c))"
   ]
  },
  {
   "cell_type": "code",
   "execution_count": 14,
   "metadata": {},
   "outputs": [
    {
     "data": {
      "text/html": [
       "<span style=\"font-size:20px;\"> <a class=\"ProveItLink\" href=\"../../../__pv_it/_proof_in_enumerated_set/a6123621d161c4324bd6222ebbaa8cf60f5a8c9f0/proof.ipynb\" style=\"text-decoration: none\">&nbsp;&#x22A2;&nbsp;&nbsp;</a><a class=\"ProveItLink\" href=\"../../../__pv_it/_proof_in_enumerated_set/261e427b9883b4bfb0f7515c07cf3b9ff71187ea0/expr.ipynb\"><img src=\"data:image/png;base64,iVBORw0KGgoAAAANSUhEUgAAAPUAAAAVBAMAAABs27XUAAAAMFBMVEX///8AAAAAAAAAAAAAAAAA\n",
       "AAAAAAAAAAAAAAAAAAAAAAAAAAAAAAAAAAAAAAAAAAAv3aB7AAAAD3RSTlMAInZUiRDNmWbv3US7\n",
       "qzJazP2FAAAACXBIWXMAAA7EAAAOxAGVKw4bAAAC9UlEQVRIx41VS2hTQRS9+by85OVLFy6CQqwK\n",
       "2QgpiGI3hioIgpCVoLQkXRTdCIWKhG4aXFgXClEQRF0EWl1UlNKdq6bdiBstVUEQ5OlSFD+xbgTx\n",
       "fiaYzJt5OHDmc995Z2bunTsDAAWwlIjRErHRC/9h+Wfnb9GKTSxd0i37FIxlTTdYldf67EPgPO+Y\n",
       "OWVtHKsyJu/qRFaItjSrVZmYBKcBkJg1z52oYZWlKscuOKNwPsgkhRnqvaHqIy/IrjwjcHH+vMU5\n",
       "SfozSdNmfBo3FXoBJissUu8KVS+oClFeFKSwWa9ZAnObKnLbLh62BemdAJEVUlR5dBwbZAtRJibi\n",
       "MHZP2Y7PBaqOI+Y43A1BPBhEVkhQwOO4U5d3G6JMTMQl7F4cfaV/3TMxgvVpUHvm2dyqILF9UHcl\n",
       "K8S31J49tlmUJ8o+MxG4NedXrU7pNr9C5TGn1014iX65Sv2sD9HSwGqhPuN8p6UwfYUmFIUku/o9\n",
       "wGjfaUp5gAnFittlJmIJ/bgDKS2Vz7ZgHpuj1M9tgcdh8yqCYzW4pSUfK8ToPMAXgAdsNCsv95mI\n",
       "e7isBuSrw4wFIgF85cE0HJETsiq4DPBzmC4KuW/snUJMEsuo7PI5JSYCGV4V1rUA3gfnNzZP1R0x\n",
       "PTT3MqS1LBOFdFsuoEShP3dQOdXlkLYZS5yEC7WheDs/IEmbGBflXBcGfd6T1Q9EURRicv47n6Hv\n",
       "c6U8wKxzCIiJ2ESG79zR7sgeZBtjANflCryxym2mJPhDx2H4amGFpCyx/E6MRuU8/rnKTASmUbaV\n",
       "0a++TRifnZU0wZU8FKPKDHgLzzS6KLgS2nMNMRqV8ZDH/X62fkLt1009Caf2f9jGa/SRjOakyXUE\n",
       "Uyf1V0MUPHGPqyJsVj5x7YAwEZ4P1hLRLrAnCpZS1A6gH8osqvfCUtyW8QmwlabhJbIzCRt2sd3a\n",
       "OFMQWLzU1QwbYUxmT9rn1n92ugJzCaxqMozJ7EjJRokGtjiiYCx7A9srhTARfwHOpNP6HItSwwAA\n",
       "AABJRU5ErkJggg==\n",
       "\" style=\"display:inline;vertical-align:middle;\" /></a></span>"
      ],
      "text/plain": [
       "|- (b = a) or ((b = b) or (b = c))"
      ]
     },
     "metadata": {},
     "output_type": "display_data"
    }
   ],
   "source": [
    "another_or_expr.associate(1, 2)"
   ]
  },
  {
   "cell_type": "code",
   "execution_count": 15,
   "metadata": {},
   "outputs": [
    {
     "data": {
      "text/html": [
       "<strong id=\"the_operands\">the_operands:</strong> <a class=\"ProveItLink\" href=\"../../../__pv_it/_proof_in_enumerated_set/454e9a23092809cd63f64ea93ecc3aa240d930390/expr.ipynb\"><img src=\"data:image/png;base64,iVBORw0KGgoAAAANSUhEUgAAAWMAAAAVBAMAAABh4JK6AAAAMFBMVEX////MzMxUVFRERES6uroi\n",
       "IiIQEBCYmJhmZmYyMjLu7u52dnaqqqqIiIjc3NwAAACW8nlqAAAAAXRSTlMAQObYZgAAAAlwSFlz\n",
       "AAAOxAAADsQBlSsOGwAAAztJREFUSMelV0FoE0EU/WmadLtNtvEgeBF7E62BeBEvluDBmzSKhaI9\n",
       "BFEKghjRQ+3FXEqRHly8KL24WBBESmJB8CL0UkE9GAvSiy3B4kWRVvBiLdb5f2c2szuzm2x88JP5\n",
       "O+/vfzPzZ3YXAJoQCavzXus/btSuG1yhJDa7HE38HNnb2+iOGjcP4iw3eA/miVKwd+GqaGXqkqPB\n",
       "WqsZg6qCBWt0+JCtuGbaAP1VpfuRaDyTHQ36HeiCqgKDNTp8mHfNYLIH1drYFY1Z2dGgr5UmBlUF\n",
       "Bg+2qdEp19Lsb1QZfu+OaJVlR4dr0AVVRVmrw4+0Q/aWNV8qnQOiqjK25GjxEOJTNaVsa3UEKqtC\n",
       "NseaD9aPBTvzq+4iGXXJkU6k4Q2x/5fEtRhUFRis0SEF40QOkbGRm7+dGp53M2OI89hZmzf/egPj\n",
       "jkHdY0N4+UwzKUrgjjwHHVL1E8h1hATjZrDJJtii7EA6cGZ+cOA6NVLLkuPBnASjBCZJeCMuRlGf\n",
       "Lx2VqSowWNXhBreqp0x2hQ3LhsG6/w73AP64FV+UnNYybkOqDgc/YfuQtzkiqFWYkamanVXU6XCD\n",
       "PSS2yZhkdnU0UIGXoHfXu5XntBIUoMY6Vmjt5Kxh1F+wlZOoesmqDp7HO8fKZBN0HN53/LW8C8aO\n",
       "t2DckWqs1oC7wCWvyGsbRp0mySvRhcF1KMFTN9eH1o5jYZTITjFqjtWMHz/haQVwGMkGd3yoLcOR\n",
       "TNOVcAt/2lLpAEOqqcoVwaoOCv52exIuwypuvwIZO3h6Ksngc+kwnGQbmJ8r6PiRbGTGDT5reEq2\n",
       "pyYucmrN5j8U4zUwWNVBwdaizaZijp+EzPazmOHZ4MCfvGKTNcaGnyhxx7+T8y++fOSSL+BPW+qm\n",
       "w6kp1J5CaeOiIYJVHW5wTyNBBQypIlkqF/5EwjTnIp5GKNkqdUK1qlaTU9/FzpPOZQvWNtP5Fcgi\n",
       "3lUGxKtIlGSj0gl1c98Bh1PrsfNssXnuK1TdVye0kVDqIpVT+EfL98evmZiOqDf29jjVbMTOcxr6\n",
       "m1beAYvtPjRYCKXSzc1C9KvKSExqtss8fFQ0Miv6+wZ+RH8pNLujxs2D2HDtH/BnNPh7C9JlAAAA\n",
       "AElFTkSuQmCC\n",
       "\" style=\"display:inline;vertical-align:middle;\" /></a><br>"
      ],
      "text/plain": [
       "<IPython.core.display.HTML object>"
      ]
     },
     "metadata": {},
     "output_type": "display_data"
    }
   ],
   "source": [
    "the_operands = the_or_expr.operands"
   ]
  },
  {
   "cell_type": "code",
   "execution_count": 16,
   "metadata": {},
   "outputs": [
    {
     "data": {
      "text/html": [
       "<span style=\"font-size:20px;\"> <a class=\"ProveItLink\" href=\"../../../../../booleans/disjunction/_theory_nbs_/proofs/or_if_any/thm_proof.ipynb\" style=\"text-decoration: none\">&nbsp;&#x22A2;&nbsp;&nbsp;</a><a class=\"ProveItLink\" href=\"../../../../../booleans/disjunction/__pv_it/theorems/fd3da9898ba64653da239a2e75a4d4c56fe499ff0/expr.ipynb\"><img src=\"data:image/png;base64,iVBORw0KGgoAAAANSUhEUgAAAxsAAAAZBAMAAACr0C5sAAAAMFBMVEX///+IiIgiIiIQEBB2dnbu\n",
       "7u5ERETMzMzc3NwyMjK6urpmZmaYmJiqqqpUVFQAAAB6qHgnAAAAAXRSTlMAQObYZgAAAAlwSFlz\n",
       "AAAOxAAADsQBlSsOGwAACAJJREFUaN7tWn1sFEUUf9vb7e59bNmCNCgELiWEECQURSHKx5G0foDQ\n",
       "5SMYw9ehAQwGeqWJ/kGQQ5FIVFoViFFjT8Hwj5iLVokU4dAEI6AelUgQIgeJEsSUQlCoCnW+dnfm\n",
       "brfdBgwVnKS7c29+997M/GbevDdXAF/lVHkS/i//culdnvWJbOiJ3b+ZVggZSyTzH6ZDomtpvUfz\n",
       "+u5p027sEN9ldOTw+3jXdJTgl57pQXQcpq9Gj+bG7mkLtnk07Otobd2cyBNOX96aWVuIVcpaf9Ni\n",
       "vm1ycClD6diJP7zRNR3hFO5zD/IPCl3OeoctKTHRQzWgUzlXfsaPWvbhRJtX071IwyVRJo0y4did\n",
       "hdr79AX9o4xvqzx8E6XjWbxR413ToeJttK4HbY4wHUf4nL1EInjsxWwhe8m5shc/lrAPuy97NGnn\n",
       "AUJ/CTLlcaQsfLlA++yh6LEn6deqAD9A6QgiEuVs13QQ+qb2IDoC9PVQtTPiKHdkeMm5UsQdGfLa\n",
       "Sx5NEdQQOS/IgvegR6iiQPvreENs8W1VgAdMQgc+zYN+jvKDPexEP0rXrjHIWUt4tXwOncr5gldh\n",
       "mKHWSFc8mkqQFwuOFWTV+Kmm87XLRMVKv1ZFeDBDI6u7ystH+6EjUF4+ONaD6GiiPglOZIRgKgqd\n",
       "yvODqSJWT+t/ezQF4qCcSvAy7QLxWIl87fXk+ahfqyJczlE6dgAs8kNHOAHFZg+i423y3A6rnTVS\n",
       "kgCJnZ1ecqGcBiiltVBWvejRtHph6ZmMIJPPC1Bbe7XhLvewKsIjDZSODaDl/NCBUBtoSMM3uBOk\n",
       "XPfJTxdIRjB5vdN7FG4UmdCpXCgojBlibSbtqkfToCTo4wRZkXDqO9pHJt3lHlZFuF5B6Sg25ZR7\n",
       "YjR8MnyZc9LARTCZ1Gdy0YIyxvWrPATUmqYpNEiRzlbOsjs4sKmqyiW34yGgb3xrOPXg8TxVAPcR\n",
       "+FPN51DTXHaovQHHmBoiVypbTVGel2skdUZzWfPuPzyansALOcHLAm10ySlfi1Yn0gXq1+pEYT2r\n",
       "bZQO3XA7yWt/WQo/yWbYdOg4xE7yai4Ok6+40lEthGpfoAibeIQRdHCkvJeF4oqCL/IQ3AUj9soR\n",
       "jg5blUXHdIBeUVBLo1ZmyDIoKg9DOCrKxaLHWCKlIL9xwb0J8K75zuBlRYSOI1DbW7Q6koASfq0y\n",
       "uDVytjugYa9LUL8D5+pGWuYuSYIkkoZQHefzto1yMyhAAM6i8eD394hba73oKFbUCz0QByFdMGLy\n",
       "PJ4OS5XlrJCGIjQOndFRpMZt34bkvVLaJVGeV6JPW74KYLB7k4qP+HMpXkYzDnQ0tYhWSQoh+7bK\n",
       "4NaERBkdU1FGEdlVO1Dah5lCtf4AAwj/P67h6ZCPkq0iBbmjxnjH9TYpKJxG40HBGayGd9IqJqtH\n",
       "+0ctSHd4COmCEXu5iqeDqcJlIeY9Q283LDqkb+m8MXnEZBNjyfPLgF/p+wN6qXLgq9LcgCVik4Tm\n",
       "Xm0XZDgxBNm06bC01+NFWOXbqgUnEw6ROKPjeTR3c7dkAjkJTyKuJRUy+iPyvK0cHdoEykDYyT4k\n",
       "+MzNHg/BvT+4GxNdwkd9p1w7ykFoF4zmuxMcHZYqXKbhruPE97JDhzKMvi05yFFeruBpXdBgPQBm\n",
       "0JeGvWZNUtk/DibAQOCbIIjatmwSZSiGDuFV0iJaxbHyVtPbqtIuqGFwMuFoy8UYHSgggxduh14J\n",
       "LCE1M5Sh3jFdxt/oniYLLyFVgMZC423Ik4cO7cz3VRjChXBRmI/dUoD6pnVkj91Pw9H+4voJOO6L\n",
       "dsGIrbyDo8NShcsKgNkdm0CvaY/ZdLC0y5bDCpOXw3DsQtLWw8rqlJp2E37o2KhNb4BLLJ+xk8Ca\n",
       "q61nloEgA+XTVjLmFsEqwJzlZ8l4vKwOF9VQOJlwBEjxF+wnoQ6KsrS2BSKbFy9ehuiYFSy4YA9X\n",
       "TvsdVrEgsKnynBmABfkHD4ZwSz4N2p94rvHmzKotpK/4zNGhQhHvUSmEzjzpAjo7ZI4OSxXxzFz0\n",
       "pkc9bs27zqiEzWmoFSyA9lVarovVk+Si5Dnh944xUAb1Kq01q2qM7o7QoQI6DMCecQjzVVCf0BCR\n",
       "eb4KQw4cP7D9QTrHWQhhZ1qCfKGUZLF4K/rrB0lVDK4oJLLzmxjQLiA6JI4OSxXhK901HS/Bi926\n",
       "BktIca0tca10dNMqnnCAXTwdWhsiaV8YZuHa0CM0T98PliN16MA+5AqhYxY5AXuhtbwUlBj6aD0o\n",
       "5FA8kDpMUPUmzEjjJhSaIs+D6ECgmSmQ0PYsTnFftCB6Gb5cWMToqOXooKpYebJLOrQlz3zSnYmp\n",
       "R/sjEk9fIx3dtEonnFyq23SEcihG3tAX6rKodlsG1qElog5L0h+deDo+zsGc9hSmoy4bngDKnjfx\n",
       "7Yk6HuqS6lj8GM8gxYnHsO+sy0YaK6cswxWY01RqEjoQSGme1BfIDU1dln5xrAM5je91cBf0Vzcu\n",
       "zjh0MFWszHZG9PBFw3W1d3S0dYeOD1GKpp30fRO0tnHSdbBKJ7w4CW4/zlqH1QOLl+ZdkghliAOF\n",
       "KgkfA/ZCte+RD0M046DsCnZWFkg2DQ5h16LSfjOvCy4RvGbAzVP6gRsdIdPzzkrI2UdnbWiwA+Wz\n",
       "79tNVm0+8jonk45Cq6L2meqAGjuinEmrpuT0R/I7EIdboBTQEQFfdBRAMy41EeUB5xsinfT01qTD\n",
       "q7x2o//PKnkLsNF7cOYfxl6CWW7YCokAAAAASUVORK5CYII=\n",
       "\" style=\"display:inline;vertical-align:middle;\" /></a></span>"
      ],
      "text/plain": [
       "|- forall_{m, n in Natural} [forall_{A_{1}, A_{2}, ..., A_{m}, B, C_{1}, C_{2}, ..., C_{n} in BOOLEAN | B} (A_{1} or  A_{2} or  ... or  A_{m} or Bor C_{1} or  C_{2} or  ... or  C_{n})]"
      ]
     },
     "metadata": {},
     "output_type": "display_data"
    }
   ],
   "source": [
    "or_if_any"
   ]
  },
  {
   "cell_type": "code",
   "execution_count": 17,
   "metadata": {},
   "outputs": [
    {
     "data": {
      "text/html": [
       "<strong id=\"A_sub\">A_sub:</strong> <a class=\"ProveItLink\" href=\"../../../__pv_it/_proof_in_enumerated_set/eaac48d5ef4a2cb74cdef7e8da60162d7c0471950/expr.ipynb\"><img src=\"data:image/png;base64,iVBORw0KGgoAAAANSUhEUgAAARwAAAAVBAMAAABmokyvAAAAMFBMVEX////MzMxUVFRERES6uroi\n",
       "IiIQEBCYmJhmZmYyMjLu7u52dnaqqqqIiIjc3NwAAACW8nlqAAAAAXRSTlMAQObYZgAAAAlwSFlz\n",
       "AAAOxAAADsQBlSsOGwAAAr1JREFUSMeNlj1oU1EUx/9p8pLX1+Q1DopLbVatgU5ufkzZpEEMlOpQ\n",
       "URAcNJDFupildOjQ4CI4aFDQQeTFgGMhSwoqSFREVCwhxUWRZuhiUer9eq/3JXnn9g4v9978zv+c\n",
       "+3HuvQC6oEo3sjFYXODgSpECmRbJnNfqNJrokEIGP77AWzinioRKeb9uQD+TzgzGSsCpAeNVgnkQ\n",
       "1EzoeJ2QMfqRAjYb/SQ1j7eDmglNUd6MfqRAkv3MUcNKBn8a0RuUjMlYCrxm31fkDAabx4jeJ/4z\n",
       "GkuBVfa99/3kYM7NbPp5MpHzO41ok/A02hi99d9aq8lH5Pype/xQWC7xcoH3F7rxXX9Ba9rgFWoL\n",
       "spQbQJfomRvhJ3ETZ7UVXMJlIL2LZPjMcK7DLsIR8ulFv5dAnzdPsPoGEc5IYzwtY1lrbuAaG2sN\n",
       "k41wGvRhNTD1iddjfb+XQKtCdZoIZ6Qx1oBLWnOaY0xuLpyCyVl454C2mM9FTTEK3cF2lq0bHc6w\n",
       "Ma7C2dGaBT6J7DhYq4fW1OvgLlQ46aI23wrV9o5E74hw2vRiDftx/iHVR2pl6kOmkhUOTzMsyzZA\n",
       "qHgtHE93pXxqln3EdqNQkcQV+Gh4e0UaO38xVnv3rFBO5jI5IcCSc6wcHzhP4530vK1Gazd4Tqg8\n",
       "jkRjCyqZBerVVCVojTZmQbar1Z9fWKTcDRM4zGxmVgbHk3/Ze6/CsdgmQomPmUK3OHARCrW423mo\n",
       "j7UQZYzH347ls8jjCKyWELCy0estwvkhNhD3RqBu1e3CLQZouLyhjXEFH7EdAxeg7j0RjhjRhOGK\n",
       "3Dp0VN7GCg2XBm3s9tn8VGx5zZ6JxH49Wmcs38l4ITqi0Vt7eywm7KOh9ezQxokcHqL3VQo8oW+1\n",
       "uHhTysPUgEqHw2/CzEGMfQGXflNu6rNKohn6MWzwIwX+A4eP6ttOV0AmAAAAAElFTkSuQmCC\n",
       "\" style=\"display:inline;vertical-align:middle;\" /></a><br>"
      ],
      "text/plain": [
       "<IPython.core.display.HTML object>"
      ]
     },
     "metadata": {},
     "output_type": "display_data"
    },
    {
     "data": {
      "text/html": [
       "<strong id=\"C_sub\">C_sub:</strong> <a class=\"ProveItLink\" href=\"../../../__pv_it/_proof_in_enumerated_set/2bd007c54b3a9d52c6858597371925a3fe9e47390/expr.ipynb\"><img src=\"data:image/png;base64,iVBORw0KGgoAAAANSUhEUgAAAREAAAAVBAMAAACTXMcfAAAAMFBMVEX////MzMxUVFRERES6uroi\n",
       "IiIQEBCYmJhmZmYyMjLu7u52dnaqqqqIiIjc3NwAAACW8nlqAAAAAXRSTlMAQObYZgAAAAlwSFlz\n",
       "AAAOxAAADsQBlSsOGwAAAnVJREFUSMeVlj9o1GAUwN/ZXi7NxVwcBBehs3/AyU3p1E16FQ5Eb6hY\n",
       "cBLPSRGEAykVHDxcBKeAQwcpVwsiIkId1eU2/3FyULq42EGQVqS+974kl8uX7+XzDcmXfL9f3ku+\n",
       "PwQARiDEyHghkv/bzb2HtyTkQqZtT+ohu0r+CN7ZpvkJnXHbntRDdln2egAzXTPzNG3Zk3qUuSS7\n",
       "WE1D+HR30pY9qUeZS7KDp4XIjDhpnz1Z0FfikvweTy8FZCYdfntSjzKX5Id4ejw8le+pD2/Fjdnk\n",
       "loF8+ynMk3qUZSH5CU6nvahPC3qlRXGROoI23FdIrZdoY9JlsMWZd7bcM3lSj7IsJLcB/H1wBpNm\n",
       "dQNuwBo92l9K7hWTV/DO880TE6QeQhYVKC/jK/agsTHJPMLZVRnSBlDZTe4Vku4+HrqwMkHqYc4S\n",
       "B8rLXNpCboVd4zqpkumlzNN00qGh+QU/wyxZWIkpiwqU27zQubrxCHp/00r8ZuYLx2RmnvTpg9/l\n",
       "SvymODqGLLXV459VmnPIhN71nPkbq1SPrtFLe3SvkGzg0p1TK5RJfc8wu5xlbb7jjFjeBDjUmcpv\n",
       "xDilX6hKXBrbPs3dQhIXTj2EyuWY9PYSmg7jK3OWH1+gEbF8FIWTq9pCf3UvUpVU5+hAmYrJN7e/\n",
       "AmxHCdnCVpUy8uGS7HKW0zCv5GpoHFyuZIebHwg2kkE3GMWkrw+P7MJVeFBhudaVK1EvQkNkJreP\n",
       "HItisq73ym6wC4vvlHzeyLz+M4CAN1CPtyQjefPgAGJyXZ+xsjs9C986Sn4m/kxNqf86btuQA/0n\n",
       "yMJVcjCQkO/Zj2RNFnxg0SX5H3Vc1Sg86HUGAAAAAElFTkSuQmCC\n",
       "\" style=\"display:inline;vertical-align:middle;\" /></a><br>"
      ],
      "text/plain": [
       "<IPython.core.display.HTML object>"
      ]
     },
     "metadata": {},
     "output_type": "display_data"
    }
   ],
   "source": [
    "A_sub, C_sub = (\n",
    "    ExprRange(k, Equals(b, IndexedVar(a, k)), one, m),\n",
    "    ExprRange(k, Equals(b, IndexedVar(c, k)), one, n))"
   ]
  },
  {
   "cell_type": "code",
   "execution_count": 18,
   "metadata": {},
   "outputs": [
    {
     "data": {
      "text/html": [
       "<strong id=\"A_in_Bool_assumptions\">A_in_Bool_assumptions:</strong> <a class=\"ProveItLink\" href=\"../../../__pv_it/_proof_in_enumerated_set/74ba39b0b7e5475c021a8c32d6d7c53157de9fd80/expr.ipynb\"><img src=\"data:image/png;base64,iVBORw0KGgoAAAANSUhEUgAAAcIAAAAVBAMAAAAnevNVAAAAMFBMVEX////MzMxUVFRERES6uroi\n",
       "IiIQEBCYmJhmZmYyMjLu7u52dnaqqqqIiIjc3NwAAACW8nlqAAAAAXRSTlMAQObYZgAAAAlwSFlz\n",
       "AAAOxAAADsQBlSsOGwAABKZJREFUWMOVmF1oHFUUgM/+787uTtYHxScNKIjGyEit6EPbIFipoXSN\n",
       "rqTWh2AMhYI2Yh/qDzgvJWgfuviQyuLPkIAiEnaNCPWhsi8VVGqnlRJsTVlaRCqURqgPSaP13J+Z\n",
       "vXPv3LvTA2d2751zvznnzLk/uwDQA6Z60dy15YZtpNi3R08ONhjQ/mqXqUF2S+3z05/NT4xB1hf6\n",
       "fueql4g5efCLT67P3K/SJRkMjmFHXPyZqvV4XT++Oit1OLvtFvq20u+pdKguzhjcWJHamax/dWFM\n",
       "pUckCTiGLbhoNZmWXMP4ljz8Gfg+g2O8sOdLrh8ZKII5j3C23HNUekSSgGPYgotFzCDRIVOhHlaH\n",
       "v5sGKPSzMsd100ApuEqEhe6wSo9IEnAMW3Axjy2iezzD+Dy/+Wuj0QyGl/DzQGgxxTS7YXKDm1e3\n",
       "NvaGETb79FhJBFbZgos/4pXot8YaYFNl14V+gh55Bz+Ph7OlybRcN2GYefYTL3yH6T87IT1+GiYC\n",
       "q2zBxaN4Jfrh6sPyoMsnr/Fv5WG69Lb603hpAl2D5aCj2GFaGj0nV7s9cilY6Jj5VS+s0gvnR0J6\n",
       "vCQDq2zBxeMsfmvda5ON6UiDyATNx+uwgw8o0NoshTuX8/T8Px/g51viSybabln/Eb8opUE939nL\n",
       "BBXGzD/tz8O9Bye9gK6vnsFglS24+DJeUSsbkJf2lM9n4QjAF+TxlSn6NHEar+xC334IOnJdpmc8\n",
       "eC1KsfZDsQ5fLT8EgXlTWGmqh1oBPV4GgUOR2IKLr2ILtdiEoU4UcQxgH6RWCSW1RjruIulz+PBM\n",
       "Fs3vDZeiMabvA9yUymwNch1wSbKYeWoGKc/zCMEZD+iaNW4AOBSJLbjII0TjPVKhT4N1AxNMIszS\n",
       "LC+KCcoAxrpTdmQfZKVlPe9AewxuwPUaN7cc4R2Ckwno5gh14FAktuAir1LcDo95kXlo/QuFNR4h\n",
       "vUAuOhwr4pRcTJtQ3IhOl7YP7wG8TSNk5vVIhKWAbq5SHfjwG6vDK4+CwhZc3IYt1KEa1nW0zjch\n",
       "3fyFPb5Ac1P1xeEVbL1JGiQxGZ/p32T2RqTdhQcrPbYbUXNYjUR4mtMtNboE4L8O7YdX4JzKFlxc\n",
       "ZittejYjnwq2wSnXZREWWcF/HA4fh5Mn+DZjrfMFn+gD8IR8+PQrk0WcIS9xc1ywumGEnfJFl9Pb\n",
       "TY4KvyQB20tNDP6oyhZcvBOvqNbInJzChYv3jNZYhDlW8AuPsd3jt+kd5OAO8AJpNbAzVWe6cELe\n",
       "va3Rry+fBbjiBeZg3fcsO37Mb6G/LRg9R1IwSb64/EsicNpPTdGZFmWLLuZwfhDVHipIhH/wxvjW\n",
       "hrh32bTsK8T557jqfqe5do+b48ryDT9ZcWH0n9RHJwDna1XHXqtp2dhPjqwFd0CEc5oDB81rOTib\n",
       "G07QV+642+Pm8YdrgI7SnwR8Hd9iwXG1bNK/HZhqkv/dTR9sR+M3vS7RWdFjqpGDt24F5uojKN3y\n",
       "lRtJwE/hScse9XRs2r8Y2eliRfcElhg/2Iksx4zZbqJX1RuJwYZ3RPptn6lBLml++ouBX+Nq+Keg\n",
       "d1v05GADG/v/Bx16m5+YVTf8AAAAAElFTkSuQmCC\n",
       "\" style=\"display:inline;vertical-align:middle;\" /></a><br>"
      ],
      "text/plain": [
       "<IPython.core.display.HTML object>"
      ]
     },
     "metadata": {},
     "output_type": "display_data"
    },
    {
     "data": {
      "text/html": [
       "<strong id=\"B_in_Bool_assumptions\">B_in_Bool_assumptions:</strong> <a class=\"ProveItLink\" href=\"../../../__pv_it/_proof_in_enumerated_set/d9083d30903810e641f2bf07fc37c7097fab54d20/expr.ipynb\"><img src=\"data:image/png;base64,iVBORw0KGgoAAAANSUhEUgAAAbcAAAAVBAMAAAA3Gr2JAAAAMFBMVEX////MzMxUVFRERES6uroi\n",
       "IiIQEBCYmJhmZmYyMjLu7u52dnaqqqqIiIjc3NwAAACW8nlqAAAAAXRSTlMAQObYZgAAAAlwSFlz\n",
       "AAAOxAAADsQBlSsOGwAABHNJREFUWMOVl12IG1UUx8/uTLLJJJOND0ofSluwIFgrA1rRB2sQbGmX\n",
       "0u1qpLV9KKxLQdBuseD6BQEpS/XBwYdtCdUOu1ARWTauSCtSyYuCLaVBKYvVSKAs0gepQovsttqe\n",
       "e+5NMrl3zmR64CRzb8788j93zv0YAGiBdNaYHwt6oxAHKdxnf1Iu+yupduvSedulta+Mn54ZK4Hd\n",
       "CPX9rpy1nmiOYlpfrgFwX35mZWKjUn2R3HlqlL3dndQ6vF2FKt6+1O3J18jnJngRS9CXYloCrgGw\n",
       "7Mb12RKpdnzp2Qp/e1WXtR2+t/CWoNPzhfKTPCQUzVFMS8A1AJY9mWt5pDozKX04pjKnTFnvDQIM\n",
       "dcdjWvkdHjJU6UsxLQHXAGByQ/UNpDoN0nfHDGBa/fZLuey3ZWXx+7VOxEHp9mqMCBXtbinvg2iK\n",
       "aUm4OpiS80n1T9gU/k3cg5eTbsfV7pg//i5+n+hMDV96bjSGIqPtTwOOEjHlknB1MCY3+GeNVH+E\n",
       "TeGfNB/Tb8o1j6iLDbTmVrtLwfwY3g2L7Y5MTXp2889GdZ9fKsoLGX09YCmmJeLqYMu+emWTVH1C\n",
       "pu6sBAtiZzhWFjZGyRyAD1RVUzFmO/ud98LMrQ/x++3woxW+UHX+F5oIUqYhWa5nPBkkoz8DlhJd\n",
       "Mn25Otiy9x3eG5DqA9hEz69CWtswUjV4HT4XeeUP0j+Fl4KlHXj7j53QuvTLAd7Sa/uR++Xio9CO\n",
       "9nmKaX246lIDY1m6R6uk+lVsomd8GK713v4x/vFAU1T7wN+i/ZAYNU/JsmyMXt9ZcUrSjwPc1gpL\n",
       "LAUVOAYqemACIS9CJCViJYvnKtPAmBx4I6RaJYePabdW1uM0pUVyNj25ufCYW4BpbtNF7AdbW7TT\n",
       "YjRuwo2iinY8nsInx3CVaWBKziLVqixxmxNPKjTnnP86ydEHpHplYRn8oJfPHTmiobmxIGrnHUpO\n",
       "Ro/yFL4sGe7UkabY4zQwJZcl1c9iE3246BzSyP9i8jKvIRoVtxGWlcfWm6IhhsRqSP8HzmhHtWFs\n",
       "l+RGQ9HQhCiKYybWn7vz6CF4wwRTcpdI9aJcSwcnLf2kgEvlVzK5jJyNpzqyRuD8ObWFOCtqrxD+\n",
       "CDytL+Ye5Iow8IqKxmWpHkVZ8BVJXHRb8dx18z6smmCcyLnfKqT6QWyiO5umjW3u7PuBTC5Voo7Z\n",
       "J+VW8uv4c+I8D/CSaJXFujMqffacfsaG797Crf9a0I4G5+GdYFJSIvu94qLS/kjAHWzQatALdmee\n",
       "oLcCoTqFsyFV5M8IIrll1RjZUvbDb1JU5nkhfI9y5pWrUmipaCz1r9Xxq4dywfzn/tx0MVMpsuBl\n",
       "eeyMObtSctPM+YGGM9c+Wk+xkGsPrAlUNEepGf0JuDcgtbbIgoXqrcqjx/zb2w0oeIxm+pynOm9J\n",
       "j7bDd++2oxmKY76yJuA+D+5ZFkyq53q2sCjj6HJIGu1dxvFiKVvj+l2zPymXA5PqQkM6b38wL+jh\n",
       "nP9Szr/Ot+6vPymXBaDqewSahc6Vl6TzAAAAAElFTkSuQmCC\n",
       "\" style=\"display:inline;vertical-align:middle;\" /></a><br>"
      ],
      "text/plain": [
       "<IPython.core.display.HTML object>"
      ]
     },
     "metadata": {},
     "output_type": "display_data"
    }
   ],
   "source": [
    "A_in_Bool_assumptions, B_in_Bool_assumptions = (\n",
    "    ExprRange(k, InSet(Equals(b, IndexedVar(a, k)), Boolean), one, m),\n",
    "    ExprRange(k, InSet(Equals(b, IndexedVar(c, k)), Boolean), one, n))"
   ]
  },
  {
   "cell_type": "code",
   "execution_count": 19,
   "metadata": {},
   "outputs": [
    {
     "data": {
      "text/html": [
       "<span style=\"font-size:20px;\"> <a class=\"ProveItLink\" href=\"../../../__pv_it/_proof_in_enumerated_set/788467e9d2ea28efc88fcc33d270f28c5c46df030/proof.ipynb\" style=\"text-decoration: none\">&nbsp;&#x22A2;&nbsp;&nbsp;</a><a class=\"ProveItLink\" href=\"../../../__pv_it/_proof_in_enumerated_set/9c12e6e7c4825622ca014e2b6c86f21a00e9d8f50/expr.ipynb\"><img src=\"data:image/png;base64,iVBORw0KGgoAAAANSUhEUgAAAG0AAAAVBAMAAAC+p33JAAAAMFBMVEX///8AAAAAAAAAAAAAAAAA\n",
       "AAAAAAAAAAAAAAAAAAAAAAAAAAAAAAAAAAAAAAAAAAAv3aB7AAAAD3RSTlMAInZUiRDNmWbv3US7\n",
       "qzJazP2FAAAACXBIWXMAAA7EAAAOxAGVKw4bAAABsUlEQVQ4y2NgYBBgwAdwyjIZ4NW3CY2vNSc/\n",
       "c+0GIMOEgfXkAtz6mBrQBA5sYky9zcDAmsDAwFaAx8JUdH07GBx5GBjYgebx43NqO6a+Zl4GBk4g\n",
       "c38AHn2cEEmmU6uWwfWxMTCYAZle+AKGDexB7qQAhH0XWxgYSoDMXKXLaIoZrygqQJksF0CkWAAi\n",
       "XILWOjAwZACD5ltAPDCa2FeBAVjZTgGer1B1HAkgMhHhv12Zv0oZGBYzMDB/ZeBUQLGOdQYD+wIG\n",
       "1jYQm3kCiExADheNbQEMs4EWJTDwO6DoY//AwOXA8EgLxOb7ACJmAV2yBqaPh9sBpA+oZD9qTHAe\n",
       "YIgHpgkrcIiA7GM9gGwfD8MBkDuB0VcfgOK/eAWGfgaoPmZwYlqAqi+B4RBQ3wOgf1BAvAHDNWYB\n",
       "iD4OsFVKKPqYFRh8GRh4G3jQEhqPAvNydqh97GCvs8E9cmALg5M7A8MroOOvVKBFH+slP1k9qD6u\n",
       "DWCRO1shUmpzzoPzA9cD3EkFrE8Kwub2gaYzWLQWENBXgUPyIE5tIvlOwBR3AIdsDN7szsCDq6Bg\n",
       "VMCrTxG7MAB3zmx62GGvpgAAAABJRU5ErkJggg==\n",
       "\" style=\"display:inline;vertical-align:middle;\" /></a></span>"
      ],
      "text/plain": [
       "|- (b = a_{1}) in BOOLEAN"
      ]
     },
     "metadata": {},
     "output_type": "display_data"
    }
   ],
   "source": [
    "# why are the equalities having to be ASSUMED to be in Boolean?\n",
    "Equals(b, IndexedVar(a, one)).deduce_in_bool()"
   ]
  },
  {
   "cell_type": "code",
   "execution_count": 20,
   "metadata": {},
   "outputs": [
    {
     "data": {
      "text/html": [
       "<strong id=\"or_if_any_inst\">or_if_any_inst:</strong> <span style=\"font-size:20px;\"><a class=\"ProveItLink\" href=\"../../../../../booleans/disjunction/__pv_it/theorems/22736ce9d3a37303b26f11de823dee236fdf12440/expr.ipynb\"><img src=\"data:image/png;base64,iVBORw0KGgoAAAANSUhEUgAAADsAAAAQBAMAAABaYBp1AAAAMFBMVEX///8yMjJmZmYiIiIQEBCq\n",
       "qqqYmJjMzMxERER2dnbc3Nzu7u5UVFSIiIi6uroAAACibcT0AAAAAXRSTlMAQObYZgAAAAlwSFlz\n",
       "AAAOxAAADsQBlSsOGwAAAQJJREFUGNNjYMAKNv9o3MAw5csDBhygle8AA/cHXLIMhxdMY2BwwCl9\n",
       "tIFxAYMBuihvs7EhmHEql0sAQ5pPdgOUdYqn4CZImu/Orrm97DP7wIILYbIMpxgaOB4ApTk5zjLs\n",
       "z2MIAQtKMSCki7itgdLvmBsY1l9gyAcLCiBJswVEAF2+Yf8DhvgNDIogMXZnY2NjC6g0w2kekMfi\n",
       "GUByniAx7gYk3Qx7uEEuP8jAYMnA94sbJGiALM1+AaTak4H7HwOPwDKQ4F24dDsQXwdKc31nYPvA\n",
       "wDFhAkiQMQAmLQrETECX8hkw8Cow8OkuAFt+4jVEtvALUCe3AHqg8s2ABioUAABJoD7khEmCZQAA\n",
       "AABJRU5ErkJggg==\n",
       "\" style=\"display:inline;vertical-align:middle;\" /></a>, <a class=\"ProveItLink\" href=\"../../../../../../numbers/number_sets/natural_numbers/__pv_it/theorems/1a8a7907b709bbd24c48a9933f16dbe96429f5cc0/expr.ipynb\"><img src=\"data:image/png;base64,iVBORw0KGgoAAAANSUhEUgAAADUAAAAQBAMAAABEqSrGAAAAMFBMVEX///9mZmYQEBCYmJgyMjKq\n",
       "qqrMzMwiIiJERER2dnbc3Nzu7u5UVFSIiIi6uroAAAA6K1lcAAAAAXRSTlMAQObYZgAAAAlwSFlz\n",
       "AAAOxAAADsQBlSsOGwAAAOZJREFUGNNjYMAE23+0bGCY9OkBAzbQyneAgfsDVimG4wsmMzAoYJc7\n",
       "2sCygKEAVexGebkDiD5ly+WAJvfkNpRxiifhJkiO786uub1gES5vmKJTDA0cD4BynBxnGfYvAImw\n",
       "LEDIJXJXA+XesTcwrE8AyzEg5JgDIoDu3LD/AUP8BpBIUjkQNEDkGE7zgPwQz8BwBKx6B5I+hj3c\n",
       "IHcCJT5zg0TYkeXYLoBM0GRg/c0JEuG9AJNrA+JrQDmubwy8DmZgIVeYHIjBCAwFvgIG7sMBYKE9\n",
       "fWA3MaR8AurhdkANs5ft5cgiADLCQKtntbI7AAAAAElFTkSuQmCC\n",
       "\" style=\"display:inline;vertical-align:middle;\" /></a>, <a class=\"ProveItLink\" href=\"../../../__pv_it/_proof_in_enumerated_set/74ba39b0b7e5475c021a8c32d6d7c53157de9fd80/expr.ipynb\"><img src=\"data:image/png;base64,iVBORw0KGgoAAAANSUhEUgAAAcIAAAAVBAMAAAAnevNVAAAAMFBMVEX////MzMxUVFRERES6uroi\n",
       "IiIQEBCYmJhmZmYyMjLu7u52dnaqqqqIiIjc3NwAAACW8nlqAAAAAXRSTlMAQObYZgAAAAlwSFlz\n",
       "AAAOxAAADsQBlSsOGwAABKZJREFUWMOVmF1oHFUUgM/+787uTtYHxScNKIjGyEit6EPbIFipoXSN\n",
       "rqTWh2AMhYI2Yh/qDzgvJWgfuviQyuLPkIAiEnaNCPWhsi8VVGqnlRJsTVlaRCqURqgPSaP13J+Z\n",
       "vXPv3LvTA2d2751zvznnzLk/uwDQA6Z60dy15YZtpNi3R08ONhjQ/mqXqUF2S+3z05/NT4xB1hf6\n",
       "fueql4g5efCLT67P3K/SJRkMjmFHXPyZqvV4XT++Oit1OLvtFvq20u+pdKguzhjcWJHamax/dWFM\n",
       "pUckCTiGLbhoNZmWXMP4ljz8Gfg+g2O8sOdLrh8ZKII5j3C23HNUekSSgGPYgotFzCDRIVOhHlaH\n",
       "v5sGKPSzMsd100ApuEqEhe6wSo9IEnAMW3Axjy2iezzD+Dy/+Wuj0QyGl/DzQGgxxTS7YXKDm1e3\n",
       "NvaGETb79FhJBFbZgos/4pXot8YaYFNl14V+gh55Bz+Ph7OlybRcN2GYefYTL3yH6T87IT1+GiYC\n",
       "q2zBxaN4Jfrh6sPyoMsnr/Fv5WG69Lb603hpAl2D5aCj2GFaGj0nV7s9cilY6Jj5VS+s0gvnR0J6\n",
       "vCQDq2zBxeMsfmvda5ON6UiDyATNx+uwgw8o0NoshTuX8/T8Px/g51viSybabln/Eb8opUE939nL\n",
       "BBXGzD/tz8O9Bye9gK6vnsFglS24+DJeUSsbkJf2lM9n4QjAF+TxlSn6NHEar+xC334IOnJdpmc8\n",
       "eC1KsfZDsQ5fLT8EgXlTWGmqh1oBPV4GgUOR2IKLr2ILtdiEoU4UcQxgH6RWCSW1RjruIulz+PBM\n",
       "Fs3vDZeiMabvA9yUymwNch1wSbKYeWoGKc/zCMEZD+iaNW4AOBSJLbjII0TjPVKhT4N1AxNMIszS\n",
       "LC+KCcoAxrpTdmQfZKVlPe9AewxuwPUaN7cc4R2Ckwno5gh14FAktuAir1LcDo95kXlo/QuFNR4h\n",
       "vUAuOhwr4pRcTJtQ3IhOl7YP7wG8TSNk5vVIhKWAbq5SHfjwG6vDK4+CwhZc3IYt1KEa1nW0zjch\n",
       "3fyFPb5Ac1P1xeEVbL1JGiQxGZ/p32T2RqTdhQcrPbYbUXNYjUR4mtMtNboE4L8O7YdX4JzKFlxc\n",
       "ZittejYjnwq2wSnXZREWWcF/HA4fh5Mn+DZjrfMFn+gD8IR8+PQrk0WcIS9xc1ywumGEnfJFl9Pb\n",
       "TY4KvyQB20tNDP6oyhZcvBOvqNbInJzChYv3jNZYhDlW8AuPsd3jt+kd5OAO8AJpNbAzVWe6cELe\n",
       "va3Rry+fBbjiBeZg3fcsO37Mb6G/LRg9R1IwSb64/EsicNpPTdGZFmWLLuZwfhDVHipIhH/wxvjW\n",
       "hrh32bTsK8T557jqfqe5do+b48ryDT9ZcWH0n9RHJwDna1XHXqtp2dhPjqwFd0CEc5oDB81rOTib\n",
       "G07QV+642+Pm8YdrgI7SnwR8Hd9iwXG1bNK/HZhqkv/dTR9sR+M3vS7RWdFjqpGDt24F5uojKN3y\n",
       "lRtJwE/hScse9XRs2r8Y2eliRfcElhg/2Iksx4zZbqJX1RuJwYZ3RPptn6lBLml++ouBX+Nq+Keg\n",
       "d1v05GADG/v/Bx16m5+YVTf8AAAAAElFTkSuQmCC\n",
       "\" style=\"display:inline;vertical-align:middle;\" /></a>, <a class=\"ProveItLink\" href=\"../../../__pv_it/_proof_in_enumerated_set/d9083d30903810e641f2bf07fc37c7097fab54d20/expr.ipynb\"><img src=\"data:image/png;base64,iVBORw0KGgoAAAANSUhEUgAAAbcAAAAVBAMAAAA3Gr2JAAAAMFBMVEX////MzMxUVFRERES6uroi\n",
       "IiIQEBCYmJhmZmYyMjLu7u52dnaqqqqIiIjc3NwAAACW8nlqAAAAAXRSTlMAQObYZgAAAAlwSFlz\n",
       "AAAOxAAADsQBlSsOGwAABHNJREFUWMOVl12IG1UUx8/uTLLJJJOND0ofSluwIFgrA1rRB2sQbGmX\n",
       "0u1qpLV9KKxLQdBuseD6BQEpS/XBwYdtCdUOu1ARWTauSCtSyYuCLaVBKYvVSKAs0gepQovsttqe\n",
       "e+5NMrl3zmR64CRzb8788j93zv0YAGiBdNaYHwt6oxAHKdxnf1Iu+yupduvSedulta+Mn54ZK4Hd\n",
       "CPX9rpy1nmiOYlpfrgFwX35mZWKjUn2R3HlqlL3dndQ6vF2FKt6+1O3J18jnJngRS9CXYloCrgGw\n",
       "7Mb12RKpdnzp2Qp/e1WXtR2+t/CWoNPzhfKTPCQUzVFMS8A1AJY9mWt5pDozKX04pjKnTFnvDQIM\n",
       "dcdjWvkdHjJU6UsxLQHXAGByQ/UNpDoN0nfHDGBa/fZLuey3ZWXx+7VOxEHp9mqMCBXtbinvg2iK\n",
       "aUm4OpiS80n1T9gU/k3cg5eTbsfV7pg//i5+n+hMDV96bjSGIqPtTwOOEjHlknB1MCY3+GeNVH+E\n",
       "TeGfNB/Tb8o1j6iLDbTmVrtLwfwY3g2L7Y5MTXp2889GdZ9fKsoLGX09YCmmJeLqYMu+emWTVH1C\n",
       "pu6sBAtiZzhWFjZGyRyAD1RVUzFmO/ud98LMrQ/x++3woxW+UHX+F5oIUqYhWa5nPBkkoz8DlhJd\n",
       "Mn25Otiy9x3eG5DqA9hEz69CWtswUjV4HT4XeeUP0j+Fl4KlHXj7j53QuvTLAd7Sa/uR++Xio9CO\n",
       "9nmKaX246lIDY1m6R6uk+lVsomd8GK713v4x/vFAU1T7wN+i/ZAYNU/JsmyMXt9ZcUrSjwPc1gpL\n",
       "LAUVOAYqemACIS9CJCViJYvnKtPAmBx4I6RaJYePabdW1uM0pUVyNj25ufCYW4BpbtNF7AdbW7TT\n",
       "YjRuwo2iinY8nsInx3CVaWBKziLVqixxmxNPKjTnnP86ydEHpHplYRn8oJfPHTmiobmxIGrnHUpO\n",
       "Ro/yFL4sGe7UkabY4zQwJZcl1c9iE3246BzSyP9i8jKvIRoVtxGWlcfWm6IhhsRqSP8HzmhHtWFs\n",
       "l+RGQ9HQhCiKYybWn7vz6CF4wwRTcpdI9aJcSwcnLf2kgEvlVzK5jJyNpzqyRuD8ObWFOCtqrxD+\n",
       "CDytL+Ye5Iow8IqKxmWpHkVZ8BVJXHRb8dx18z6smmCcyLnfKqT6QWyiO5umjW3u7PuBTC5Voo7Z\n",
       "J+VW8uv4c+I8D/CSaJXFujMqffacfsaG797Crf9a0I4G5+GdYFJSIvu94qLS/kjAHWzQatALdmee\n",
       "oLcCoTqFsyFV5M8IIrll1RjZUvbDb1JU5nkhfI9y5pWrUmipaCz1r9Xxq4dywfzn/tx0MVMpsuBl\n",
       "eeyMObtSctPM+YGGM9c+Wk+xkGsPrAlUNEepGf0JuDcgtbbIgoXqrcqjx/zb2w0oeIxm+pynOm9J\n",
       "j7bDd++2oxmKY76yJuA+D+5ZFkyq53q2sCjj6HJIGu1dxvFiKVvj+l2zPymXA5PqQkM6b38wL+jh\n",
       "nP9Szr/Ot+6vPymXBaDqewSahc6Vl6TzAAAAAElFTkSuQmCC\n",
       "\" style=\"display:inline;vertical-align:middle;\" /></a> <a class=\"ProveItLink\" href=\"../../../__pv_it/_proof_in_enumerated_set/ffe874b84743f7009604babc080d6c7b0958bda90/proof.ipynb\" style=\"text-decoration: none\">&nbsp;&#x22A2;&nbsp;&nbsp;</a><a class=\"ProveItLink\" href=\"../../../__pv_it/_proof_in_enumerated_set/59f96e41b415a75aa54acd656417c500897c3ba80/expr.ipynb\"><img src=\"data:image/png;base64,iVBORw0KGgoAAAANSUhEUgAAAsgAAAAVBAMAAACpugWdAAAAMFBMVEX////MzMxUVFRERES6uroi\n",
       "IiIQEBCYmJhmZmYyMjLu7u52dnaqqqqIiIjc3NwAAACW8nlqAAAAAXRSTlMAQObYZgAAAAlwSFlz\n",
       "AAAOxAAADsQBlSsOGwAABWFJREFUWMOtWV1oHFUUPpvt7k5mdydbpeJLzCqCaA20LyKCmqd9K91I\n",
       "hWj7EKkiFNTVfWmF4oKUVSN08aUlD3Vo0CI+bBoQFS3EhxRF0LUiVWvCklDwh9otFMQ0Gu+5dya5\n",
       "c/f+nLRemDuZ7He+75xv7r1zdxYAumBr6qeBFW3/1MzqBnSpit3/hZaWJdmS4rwVs0e5/sWK3tYh\n",
       "peXQ1MgaI1RFO/UeuBW0oREs+Rr8h6oWP2qJy8IszDxnobxISsuh2S+rj+CZXNwKNYnWiNY3giV+\n",
       "C2CwYcFMs2MgZF0Kb8kH7DhpQQ+GCXiiPYDdMBA0I1lnxMlYkUw9DTeP1hdDscRjd2vINmkOsyOH\n",
       "hqVLrGuyY82CzjUS8EQ7it1udjg1I1lnxFqsSKY+DDeP1hdDsSTLTntDCyaLH+KU+g2vJtkis2oz\n",
       "5xDI8ETL4GOghZQuzVjWESEyObQVagqtCa0vhmLJV6z/yAYZxIXpc3a8jesPo81bV9MTIMGTLc/G\n",
       "jIfjxqkZyzoiRCYntkJNoTWh9cVQLJli/TuLD6r7jp1L8ZKaL0fDEom8WaY8emHeDJ8DCa6gWmIA\n",
       "GDRh+dwVqYiyO0JkMkegzi++TKc1ofXFGCzZ4MAE2Tjw/w7bbEvoPckb8kKlm45nQA7nxEAJip3o\n",
       "1ran/X/BCD8CElxpdwMsRmMv0oRjnOQJPvlfhMc3py6XdUSITI64gcEBeJ1Oa0Lri5Es0XJgggfY\n",
       "gF+FbNIS/3nw4pFYmMStQhkyfH1iN+zbEF4AI/w8SHCl3QbwNJ61mvB+DY5JG6NJd4TI5LwbmJmN\n",
       "U6bQmtD6YvSWbHJggs+yMdmCodkExOshyudjJNXD/hR8yZ8EYwBvAtwADfzDOdzWjIAEV6d3t8D3\n",
       "S1pNOA6wf/NKyNojRCYjBGq842daRFpE+5/dE6pofTF6S45LY2wEdZhBe5NLSnYXtMdg+Ac+iyfF\n",
       "rv1UzLgftik7FgFv8IFYAQnet20f7Ea19WvCQfCvSzuHSXeEyKRCoWaGLVaJtIj2+NxMovXF6C05\n",
       "KP1dwRnDdopovLTItjvwGjstcDK+EGRSu+K5sQbeKmjg1+FqKYqJ4Wqr3g7RLI00pWXM/wdyPamG\n",
       "qjMiymSBQh0zEmg5emgsuKai9cVIlqiKUVuARxlhiS2qidaeh/sLXZF+jttVfGUMT2m2fF3D1VMD\n",
       "f5WbXAcJ3vcN815+0mr6azDQ+ibXHL5QrJdiWWtElEndDfyLDUrhGIUW0bkQTU6i9cXoLeEczeEf\n",
       "8e86boAGamllzUl3ChNeNEY8vmL5T23sae6Dh0EL51vOKZDg7RY+viHqAN5rxdu8fk1W8UKjcaZS\n",
       "y5aL5VjWHiEymXID2YP+rDCZQsvRfO+bQPMaNira4NBbghxYS5cnuIMF7WwqEH/07PJ3kckZMSbF\n",
       "d4sUUz79SU0PT+HTdh9I8AzmPwFxF+/ptZpw+tJdo6Xff2JjC2uLZO0RPJN9bmD+46OhMJlCy9Gw\n",
       "I1TRE4mK4v/qLUEOrCXkCWZK5q8q3OTLiX+NW77ZrDDGoEp4b2XTHIU7+DJ3mRqRVLQAucl02kf6\n",
       "0IY2bqmlIhLMNRwmN/tfmRjSagRd/srF2Wyaz8D3cDWlyloikooWIDeZTPsr/KmibW+RDLW8kRIJ\n",
       "PmY3OUhuE9LmXwtWtt8ZwgrpfbJZM+ix+1/3VFlLxAoViCaTaYPd29/qQ+ub0RJWy/gXIsEZY/Qf\n",
       "757ro/DNui+tr1tvmfy23fw7QpntsJd/7st8hnrDjMDg0xsdOm12fb1nG1EUS1gtl6JRHNh/MVpS\n",
       "rq/Yf9AgpeXS1MgaI1RFO/US3Ara0JyW/Ad0E0Uw6SixawAAAABJRU5ErkJggg==\n",
       "\" style=\"display:inline;vertical-align:middle;\" /></a></span><br>"
      ],
      "text/plain": [
       "<IPython.core.display.HTML object>"
      ]
     },
     "metadata": {},
     "output_type": "display_data"
    }
   ],
   "source": [
    "or_if_any_inst = or_if_any.instantiate(\n",
    "        {m:m, n:n, A:A_sub, B:Equals(b,b), C:C_sub},\n",
    "        assumptions=[InSet(m, Natural), InSet(n, Natural), A_in_Bool_assumptions, B_in_Bool_assumptions])"
   ]
  },
  {
   "cell_type": "code",
   "execution_count": 21,
   "metadata": {},
   "outputs": [
    {
     "data": {
      "text/html": [
       "<strong id=\"A_in_Bool_assumptions\">A_in_Bool_assumptions:</strong> <a class=\"ProveItLink\" href=\"../../../__pv_it/_proof_in_enumerated_set/74ba39b0b7e5475c021a8c32d6d7c53157de9fd80/expr.ipynb\"><img src=\"data:image/png;base64,iVBORw0KGgoAAAANSUhEUgAAAcIAAAAVBAMAAAAnevNVAAAAMFBMVEX////MzMxUVFRERES6uroi\n",
       "IiIQEBCYmJhmZmYyMjLu7u52dnaqqqqIiIjc3NwAAACW8nlqAAAAAXRSTlMAQObYZgAAAAlwSFlz\n",
       "AAAOxAAADsQBlSsOGwAABKZJREFUWMOVmF1oHFUUgM/+787uTtYHxScNKIjGyEit6EPbIFipoXSN\n",
       "rqTWh2AMhYI2Yh/qDzgvJWgfuviQyuLPkIAiEnaNCPWhsi8VVGqnlRJsTVlaRCqURqgPSaP13J+Z\n",
       "vXPv3LvTA2d2751zvznnzLk/uwDQA6Z60dy15YZtpNi3R08ONhjQ/mqXqUF2S+3z05/NT4xB1hf6\n",
       "fueql4g5efCLT67P3K/SJRkMjmFHXPyZqvV4XT++Oit1OLvtFvq20u+pdKguzhjcWJHamax/dWFM\n",
       "pUckCTiGLbhoNZmWXMP4ljz8Gfg+g2O8sOdLrh8ZKII5j3C23HNUekSSgGPYgotFzCDRIVOhHlaH\n",
       "v5sGKPSzMsd100ApuEqEhe6wSo9IEnAMW3Axjy2iezzD+Dy/+Wuj0QyGl/DzQGgxxTS7YXKDm1e3\n",
       "NvaGETb79FhJBFbZgos/4pXot8YaYFNl14V+gh55Bz+Ph7OlybRcN2GYefYTL3yH6T87IT1+GiYC\n",
       "q2zBxaN4Jfrh6sPyoMsnr/Fv5WG69Lb603hpAl2D5aCj2GFaGj0nV7s9cilY6Jj5VS+s0gvnR0J6\n",
       "vCQDq2zBxeMsfmvda5ON6UiDyATNx+uwgw8o0NoshTuX8/T8Px/g51viSybabln/Eb8opUE939nL\n",
       "BBXGzD/tz8O9Bye9gK6vnsFglS24+DJeUSsbkJf2lM9n4QjAF+TxlSn6NHEar+xC334IOnJdpmc8\n",
       "eC1KsfZDsQ5fLT8EgXlTWGmqh1oBPV4GgUOR2IKLr2ILtdiEoU4UcQxgH6RWCSW1RjruIulz+PBM\n",
       "Fs3vDZeiMabvA9yUymwNch1wSbKYeWoGKc/zCMEZD+iaNW4AOBSJLbjII0TjPVKhT4N1AxNMIszS\n",
       "LC+KCcoAxrpTdmQfZKVlPe9AewxuwPUaN7cc4R2Ckwno5gh14FAktuAir1LcDo95kXlo/QuFNR4h\n",
       "vUAuOhwr4pRcTJtQ3IhOl7YP7wG8TSNk5vVIhKWAbq5SHfjwG6vDK4+CwhZc3IYt1KEa1nW0zjch\n",
       "3fyFPb5Ac1P1xeEVbL1JGiQxGZ/p32T2RqTdhQcrPbYbUXNYjUR4mtMtNboE4L8O7YdX4JzKFlxc\n",
       "ZittejYjnwq2wSnXZREWWcF/HA4fh5Mn+DZjrfMFn+gD8IR8+PQrk0WcIS9xc1ywumGEnfJFl9Pb\n",
       "TY4KvyQB20tNDP6oyhZcvBOvqNbInJzChYv3jNZYhDlW8AuPsd3jt+kd5OAO8AJpNbAzVWe6cELe\n",
       "va3Rry+fBbjiBeZg3fcsO37Mb6G/LRg9R1IwSb64/EsicNpPTdGZFmWLLuZwfhDVHipIhH/wxvjW\n",
       "hrh32bTsK8T557jqfqe5do+b48ryDT9ZcWH0n9RHJwDna1XHXqtp2dhPjqwFd0CEc5oDB81rOTib\n",
       "G07QV+642+Pm8YdrgI7SnwR8Hd9iwXG1bNK/HZhqkv/dTR9sR+M3vS7RWdFjqpGDt24F5uojKN3y\n",
       "lRtJwE/hScse9XRs2r8Y2eliRfcElhg/2Iksx4zZbqJX1RuJwYZ3RPptn6lBLml++ouBX+Nq+Keg\n",
       "d1v05GADG/v/Bx16m5+YVTf8AAAAAElFTkSuQmCC\n",
       "\" style=\"display:inline;vertical-align:middle;\" /></a><br>"
      ],
      "text/plain": [
       "<IPython.core.display.HTML object>"
      ]
     },
     "metadata": {},
     "output_type": "display_data"
    }
   ],
   "source": [
    "A_in_Bool_assumptions = ExprRange(k, InSet(Equals(b, IndexedVar(a, k)), Boolean), one, m)"
   ]
  },
  {
   "cell_type": "code",
   "execution_count": 22,
   "metadata": {},
   "outputs": [],
   "source": [
    "# Or(Equals(b, b),\n",
    "#    ExprRange(\n",
    "#        k,\n",
    "#        Equals(b, IndexedVar(a, k)),\n",
    "#        one, m)).conclude_via_example(Equals(b, b),\n",
    "#                 assumptions=[ExprRange(k, InSet(Equals(b, IndexedVar(a, k)), Boolean), one, m)])"
   ]
  },
  {
   "cell_type": "code",
   "execution_count": 23,
   "metadata": {},
   "outputs": [],
   "source": [
    "# Example to help construct a multi-Or of equalities\n",
    "# Or(ExprRange(k, Equals(IndexedVar(x, k), Function(f, Add(i, k))),\n",
    "#               zero, subtract(j, i)))"
   ]
  },
  {
   "cell_type": "code",
   "execution_count": 24,
   "metadata": {},
   "outputs": [],
   "source": [
    "# Or(ExprRange(\n",
    "#        k,\n",
    "#        Equals(b, IndexedVar(a, k)),\n",
    "#        one, m),\n",
    "#    Equals(b, b),\n",
    "#    ExprRange(\n",
    "#        k,\n",
    "#        Equals(b, IndexedVar(c, k)),\n",
    "#        one, n)).prove()"
   ]
  },
  {
   "cell_type": "code",
   "execution_count": 25,
   "metadata": {},
   "outputs": [
    {
     "data": {
      "text/html": [
       "<strong id=\"enum_set_def_inst\">enum_set_def_inst:</strong> <span style=\"font-size:20px;\"><a class=\"ProveItLink\" href=\"../../../../../../numbers/number_sets/natural_numbers/__pv_it/theorems/1a8a7907b709bbd24c48a9933f16dbe96429f5cc0/expr.ipynb\"><img src=\"data:image/png;base64,iVBORw0KGgoAAAANSUhEUgAAADUAAAAQBAMAAABEqSrGAAAAMFBMVEX///9mZmYQEBCYmJgyMjKq\n",
       "qqrMzMwiIiJERER2dnbc3Nzu7u5UVFSIiIi6uroAAAA6K1lcAAAAAXRSTlMAQObYZgAAAAlwSFlz\n",
       "AAAOxAAADsQBlSsOGwAAAOZJREFUGNNjYMAE23+0bGCY9OkBAzbQyneAgfsDVimG4wsmMzAoYJc7\n",
       "2sCygKEAVexGebkDiD5ly+WAJvfkNpRxiifhJkiO786uub1gES5vmKJTDA0cD4BynBxnGfYvAImw\n",
       "LEDIJXJXA+XesTcwrE8AyzEg5JgDIoDu3LD/AUP8BpBIUjkQNEDkGE7zgPwQz8BwBKx6B5I+hj3c\n",
       "IHcCJT5zg0TYkeXYLoBM0GRg/c0JEuG9AJNrA+JrQDmubwy8DmZgIVeYHIjBCAwFvgIG7sMBYKE9\n",
       "fWA3MaR8AurhdkANs5ft5cgiADLCQKtntbI7AAAAAElFTkSuQmCC\n",
       "\" style=\"display:inline;vertical-align:middle;\" /></a> <a class=\"ProveItLink\" href=\"../../../__pv_it/_proof_in_enumerated_set/b1cfe336dafed8678185513d1464f280b36d68520/proof.ipynb\" style=\"text-decoration: none\">&nbsp;&#x22A2;&nbsp;&nbsp;</a><a class=\"ProveItLink\" href=\"../../../__pv_it/_proof_in_enumerated_set/1d1fd3e401768ea8a8b2cfe9f7ba588e619bcffb0/expr.ipynb\"><img src=\"data:image/png;base64,iVBORw0KGgoAAAANSUhEUgAAAUQAAAAuBAMAAACi3H19AAAAMFBMVEX////MzMxUVFRERES6uroi\n",
       "IiIQEBCYmJhmZmYyMjLu7u52dnaqqqqIiIjc3NwAAACW8nlqAAAAAXRSTlMAQObYZgAAAAlwSFlz\n",
       "AAAOxAAADsQBlSsOGwAABZ5JREFUWMPtmH9oHEUUx99dbu/H3t3mqhT6R0tOK0ithWtAkYAl+Ef+\n",
       "ECQpNqA1QoSUQDF6Wv9oheJRLLFW6CGFSMGypNoiEnJE/FFUOP9otAb08I82opGDIBhBk4AgTUvj\n",
       "m7czu3O3s3OHt/4jfTCbvcnb9327O/NmPgsAdVDYe/3wr836jh3rEJplq6rOs3YHIe/qw8MT4aW4\n",
       "AObDQ82d39sdxexld1kMK0OzDJAqNfd+3FlQuvxcWCkm8Wa7q/9FikfDSjGObZC/1uxDw0+Hl2Lc\n",
       "DinFq15CsXftMJ9iKqzBeBrb20sPstMVW9YwF4sw7fnNTIKZ1wWSHSjFdD6kFKcwmRv2LKti573e\n",
       "U6iQGYXXvJ7KPCTWdIFkh2vskCizoT5M1lG2IwCZDYjX8LTsFd9xgO3JIdgJl3hnpHoSooUP5x4I\n",
       "iuM48B+rbP7hLYZjY3inZeiuoMghvN0nKcNduLbYmPZEZImXTBMm8D5KcDKweJGD+LELc4yshZei\n",
       "UYFBDGkW3M5tfTTPI+uQEVU9tgE9ub9gNRcUiBz4efos6wjrKY5QWTzDZspQ4/JwCrKjXor4qK/B\n",
       "q5oUyeHoS0slsTjRpWGMxUcxxZw5zk6XGqtGL3TlHR0miOe9fKorXjJ3MF8Zhxfw/BOaLoWQnuIc\n",
       "QLTYRStgqtqQ4gkYLFKK5g32OPKxv3F8HQSYLfOuhhNysGbKsCGKTrISUopbUWb3pPMwdj4upzj9\n",
       "5Zm68xSHbea0eBtgGc8MTBOewmaUxAnrIYdojUYgpWj0h5SiIQ2u2EeNC+BlPqAyVNPTZbBKFhbQ\n",
       "b31BnB50iOeSpRy//New1uhEKWAFS5fN53mKaUr3YhWWt2zDbP0vsCIcVsHYLlKcDG2/uE/VicuD\n",
       "UYtWwLp8E2vdDPY8C7sBXtzcxDda802XmnB4DLKfOosTWIXQUryg6sTlIXP8dfGLZfD1ohhaWf8e\n",
       "HRocgApEV3hkYNVUnSeqHUScYxf/Anfsjv3/rN6Ky602epoDti+t17UE6me18zfmm/M/a0O3Dfl6\n",
       "WdIl7YUg3PfsetPvTAUuHNIot8tVLWRJ97qD+mrc9yxFazQxwQ52+ADbO5rQBPlRdlHEX3S9MK1k\n",
       "SRcbQ3017jev48fZYa9YfW9pQhPkJ1h2Xf4dsBemlSzpYos34b7SDtOeiI1eoq1RwgDN5wOKxV7h\n",
       "imJr5YZpKUu6hwn1r7aC+ynaa+ENJwntUCCtG0MO5H+B7S3/P90wrWVJd4pQX8J9afsiof4c8Fs3\n",
       "xHY6teeHaqC/A/krjTjklhIRprUs6c7xRAXuSzQko/4xOt7D8YY9pNlz5m0I8ifIh2gOsqotigjT\n",
       "WpZ0jzEClHHfMxn1550vmwAHaTRVifEmwO9vfn6vLSA/kgdDNdJEGJ0st3lqYw24L5mM+j3OEKtn\n",
       "aGrH+2nTehP8/klABQH55+Eb5UjlYTSy4kcPtbEG3JdNQv0BXrFTdZHiMxBrLjvMv7vfWnchf0H+\n",
       "SiQXfieMTpbbALWRBtyXyVxC/SvOFUN3g3jRtyC5AX7/hM1S5N8HjIiaDXgYjWxicsei0L3CUF/G\n",
       "fZC/SAjUhyN8QbqP/nTh6FmHi0WVP1UjDvnZl9WYysNoZC8NFON1rnuEz2sX9yVzUd8pD2jvl92a\n",
       "cj88Aip/2Gq7kG86xOt9DZgty2E0sr//CN021z3NUF/Gfck81IcD/LONM2wi2Df9WVHpb/VJkM8L\n",
       "t/tZwCjJYXSye5zhf4AaQ30j4FuSQH2rqQLvh0D/3+DPtiFfI/scvBFxdLHxpVqxUHmonywqtglK\n",
       "f2vvljfbhvxgWWsN9n8F7hZnXwDuS6i/3PQvJSKTf3xzc619yA+UjeXhp6Kju8xRX4X7Euo3hzIL\n",
       "Wv+2Ib+FrPv0GOorcd/bRfsk/9Aqtw35elnSxfYPubLRBlGl2uIAAAAASUVORK5CYII=\n",
       "\" style=\"display:inline;vertical-align:middle;\" /></a></span><br>"
      ],
      "text/plain": [
       "<IPython.core.display.HTML object>"
      ]
     },
     "metadata": {},
     "output_type": "display_data"
    }
   ],
   "source": [
    "enum_set_def_inst = enum_set_def.instantiate(\n",
    "        {n:n, x:b}, assumptions=[InSet(n, Natural)])"
   ]
  },
  {
   "cell_type": "code",
   "execution_count": 26,
   "metadata": {},
   "outputs": [
    {
     "data": {
      "text/html": [
       "<span style=\"font-size:20px;\"> <a class=\"ProveItLink\" href=\"../fold/thm_proof.ipynb\" style=\"text-decoration: none\">&nbsp;&#x22A2;&nbsp;&nbsp;</a><a class=\"ProveItLink\" href=\"../../../__pv_it/theorems/6b6656ace5cca837cbd9fbee8a18f769f546775e0/expr.ipynb\"><img src=\"data:image/png;base64,iVBORw0KGgoAAAANSUhEUgAAAlkAAAAZBAMAAADwESYxAAAAMFBMVEX///+IiIgiIiIQEBB2dnbu\n",
       "7u5ERETMzMzc3NwyMjK6urpmZmaYmJiqqqpUVFQAAAB6qHgnAAAAAXRSTlMAQObYZgAAAAlwSFlz\n",
       "AAAOxAAADsQBlSsOGwAABl5JREFUWMPtmX+oFFUUx8/u29mZnd1Z56lJ9UK2DTOTYIvCCKW1SDB6\n",
       "MtJLotSegQ8Tk2cv7A9JR8QH/pPbH0aIkeFTCApXkfyR2EgkJZmbFs9SbAV9IfSHfyRaBHbOvXdm\n",
       "7szOTOkz2aILO3Pv/d57Zu5n7j1z7ixAUiqW74P/k0hjy43kBrl/24js6OoXtt64Se0UHShXcP5b\n",
       "tFLRTz+12RqF0dWLAXST02pSxZl4Wol6u6Xvoqt/skZldTn+7uK0DlD53XhaiXqbJaUWXf/E6MxS\n",
       "95zFaK2mVdkbTytRb7OUd/4xWoU6o0XQMo14Wol6m6WOoLd6uTzlptGCRxgtcvS5BC+fqLdZ+kEu\n",
       "6G9bN3FuwRaO4qFy+eGkd2KS3mZpD/muzguvd1NhgyUPV+lyYKHfcu5BUJpJHlBuzmjN4bT2AixO\n",
       "opWkt1naQr4LJpq7Q2+m/ehMjAoc92uqJ6FwKcFSoPk4OnzFab0FWjOJVpKemOr8dCpKM71cpJyK\n",
       "tmhEB5+esQfw9yUct36hgv9+1KYDvJkvwYhXozZ2QzHp1RVovpHc9klOK2tl5EhXm/o0fN6UaIX0\n",
       "v5/43RQiO+fdTLTskg6lozGvQjfzGP76aSYREPQg5XvZiC7iNawOEx6E+QKhgvkOs2fOhbh7583d\n",
       "ZXkRca3htAzTd+IrRpbC2YyVtyRasn4DtBZGanqVAWnGyDDEEBRlHsVYT4PGfFogRqn4U2cVeZKd\n",
       "lnpF7Sy5XS7Dmv467I69eWruLcvNeNgmdj61w95N7aW43axnAjsfX78RWgeixU20P8Bhxsg5y3CI\n",
       "mbsEWSEfN8c3SSsR9KvwHJ1LwWB8P6QqYLiV+Rp6o99hY3/czbPm8lbghKDVjRcrHFzRxcN7GP5x\n",
       "bZAW6dC5rwudhj7Re94fNKHlUUuyR6vk9g026IYsLXKSU11r94WNYoTXK79dWCEN0bagW5wX4ZRa\n",
       "WqwAm2udwRBgOWSbnBaNHfPL4Qui1bopUkA051AAnqTDEUFrHd7g/G1Oh80n73BmwVCAFukpeySH\n",
       "i3fuGGtAmDQvq5XwdXzZo6XVeN9P+jA5foPTNF+GSIbbi73v5Ule5hs16jj3vBUGvLABom2hMZ7w\n",
       "LW9cebGis2A61wjQOgQ7HUZL+Y3mVlP/gwmsxA4v1aQMa86guBHEHkGriNNx/R0wxtLZxmEY6hMC\n",
       "tEgvwCIVs+tPwAQYpMehLSilej/uCq4NJgdp6b1uXwj030H6YpLByZpiQfhGsT5LU89NrLADWmzx\n",
       "tEOcX8Px7jJPH+PPc2S7TGvhzM9sPrfKaFY533UV3wSTeAmm4i9ddzOTRHMGxaV1v/zF5hy6scI7\n",
       "fX2vIq2eXMQXm6vseB7OqSfYIIrVollRQjELyiFaRtPrG+i/EuBrnC5MHuMFBp5RFSE7Q74tVjgL\n",
       "YVsit1Kc0wE3pM8K7nxmA6dlsPvP4Ayi52a0LsXv3eYERXTXSjKtafCpqlb53NK/baWlVjROeBqk\n",
       "mf301o5+O7wYUS4cOFaVaOGwWV++evz+uHhyOF1IhgGw+Ur0jeJKhJocFFNhJYRtiYu5K7FQj926\n",
       "ZGrKDEErw1A82wCtrtmQaW1edZsTFEGLNuweLe0STB7mXhWDmokttNZlannoAZisX6LRKlV8jjtx\n",
       "gWylbA8/cNmY4L6NXC/P+ook+jMfXDjPZK0y2wuvXKOQwojzG7xrYZoX0hC2JS7mOfQl0bQwGE+b\n",
       "xaqgNRd/d+PMhME3VlmsFPLypmjOobCtAAzK3071Jox3YBBnsjrF9l9sHq38nTNvg4EGnD5So9Gq\n",
       "M8A4+ArbFWF2wFYfxYOQf9ZqMq0lvK/rj3l/Pq5N/LxrqNNdDa5RyNr864cwzQtYGbbFL+ZBmhdN\n",
       "C4Nx4zDGKtrsX00e+p8h5/j4tWvyrkLeSLDmHAoo08UlQl+alVl9S5O+NDcUO+uw0RrwPCyDjGVS\n",
       "NiiXUkctidZQ4AJufy92DMi+0XmJUahvi13MD0Q1M/rT+qFRfHLS5jToXXzd3+V1q2h+COo4DG+2\n",
       "wzm9Bu9fK1E2ICtN4xl5buXlvZ3X36sNyL7RfZG3E6j1L5a3b82m/fpoFUA/LB6vAx+NBzfbKku0\n",
       "4CmZt9vA3/HJsmc0ZveYsaJsxW0fbz2t0fyfaEuhccuuNRg5R4bTid3+uvamp7H3OH8CfbLaLKlP\n",
       "dzUAAAAASUVORK5CYII=\n",
       "\" style=\"display:inline;vertical-align:middle;\" /></a></span>"
      ],
      "text/plain": [
       "|- forall_{n in Natural} [forall_{x, y_{1}, y_{2}, ..., y_{n} | (x = y_{1}) or  (x = y_{2}) or  ... or  (x = y_{n})} (x in {y_{1}, y_{2}, ..., y_{n}})]"
      ]
     },
     "metadata": {},
     "output_type": "display_data"
    }
   ],
   "source": [
    "fold"
   ]
  },
  {
   "cell_type": "code",
   "execution_count": null,
   "metadata": {},
   "outputs": [],
   "source": []
  }
 ],
 "metadata": {
  "kernelspec": {
   "display_name": "Python 3",
   "language": "python",
   "name": "python3"
  },
  "language_info": {
   "codemirror_mode": {
    "name": "ipython",
    "version": 3
   },
   "file_extension": ".py",
   "mimetype": "text/x-python",
   "name": "python",
   "nbconvert_exporter": "python",
   "pygments_lexer": "ipython3",
   "version": "3.7.3"
  }
 },
 "nbformat": 4,
 "nbformat_minor": 1
}
