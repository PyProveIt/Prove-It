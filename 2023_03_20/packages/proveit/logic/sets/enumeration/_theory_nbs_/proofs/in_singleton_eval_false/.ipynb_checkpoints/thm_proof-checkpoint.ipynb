{
 "cells": [
  {
   "cell_type": "markdown",
   "metadata": {},
   "source": [
    "Proof of <a class=\"ProveItLink\" href=\"../../../../../../_theory_nbs_/theory.ipynb\">proveit</a>.<a class=\"ProveItLink\" href=\"../../../../../_theory_nbs_/theory.ipynb\">logic</a>.<a class=\"ProveItLink\" href=\"../../../../_theory_nbs_/theory.ipynb\">sets</a>.<a class=\"ProveItLink\" href=\"../../theory.ipynb\">enumeration</a>.<a class=\"ProveItLink\" href=\"../../theorems.ipynb#in_singleton_eval_false\">in_singleton_eval_false</a> theorem\n",
    "========\n",
    "*** see <a href=\"../__pv_it/374d5ac709d899cb895d67c9e0faf41792c5dfa70/dependencies.ipynb\" class=\"ProveItLink\">dependencies</a> ***"
   ]
  },
  {
   "cell_type": "code",
   "execution_count": 1,
   "metadata": {},
   "outputs": [
    {
     "data": {
      "text/html": [
       "Under these <a href=\"presumptions.txt\">presumptions</a>, we begin our proof of<br><strong id=\"in_singleton_eval_false\">in_singleton_eval_false:</strong> <a class=\"ProveItLink\" href=\"../../../__pv_it/theorems/75e1f7242cb90c0fb132c0a2b98bc8bf7171ff3b0/expr.ipynb\"><img src=\"data:image/png;base64,iVBORw0KGgoAAAANSUhEUgAAAO8AAAAXCAMAAADUb+j/AAAAOVBMVEX///82NjYbGxsSEhKIiIgi\n",
       "IiIQEBB2dnbu7u5ERETMzMzc3NwyMjK6urpmZmaYmJiqqqpUVFQAAAAnLjGdAAAAAXRSTlMAQObY\n",
       "ZgAAAAlwSFlzAAAOxAAADsQBlSsOGwAAAvVJREFUWMPVWIuSnSAMpS1CeIP//7HlKaCo6NR2yuxu\n",
       "ZrkczCEnMVyE/soQOzs3QKl+F/tun/eYlwPb3k6ipIJ+hjuWZhR+7kTCuO1/a76ia2lvJ1ErHCdZ\n",
       "9hfPOqvqwojRm2TkVwEH2dvJQZerSQmTp9YoIWB4CbBgX4VXm97+Eb5GP+cbMeWgqP2KL9nZYa6y\n",
       "xQ85zxcReMw3Ykw+dflZ9srejpJMYngYXyTNc74RQ8LJLoR+JmfaW8DYAaeNnsQwGTM1wDEPwO34\n",
       "Uvecb8RoHgvfhDwuU+YUXwJRrN8FO4x0Dd+4UuqkB4psSASzJt1vSWGqXPTSDHfBN2KEK3/uxlVF\n",
       "o+rsk8V21ojgPCBX9TgUuiBxAbfpZFx6uFiLLCx5Ht+ECaE9d3eO78V5EdVZXkNXughSYsOa/aQq\n",
       "siHBZZL9BicTY74+55swYWqqWl3wdWKWL2qczxRG+3JdMkyFvoOvPOsonwNSL+KbMRKZPIuxFv6n\n",
       "NGCua8A6vt1KpOgYMdBzZOBxUBN+GZ+ua/K45G1tuuzyPH8zhtpcILEIeZIFAxj5zTkZ8t1WahbG\n",
       "L/9rBoiIwq0FppAjsQ41Z3fVb0TehTyt9Yo9j2/GCJJ3M9GrrBwB4TgwG/LtVpZu9ohoXxzJ2pWD\n",
       "9k6rtr2R9oKvdkERZv/+1fQ534JxfJtam0R0/mOHz/K3rqwJuEfETFxaC9pH02rTMQTHFJzxBUex\n",
       "Lg+rfJe7CptUTkij8iMmiFG0WxJ+wjevDHr++YNFPR8RaRve22GHRdlVP0nlflIsL27Ay/6VFzf2\n",
       "DQHQ7KBah/W5rkTNleOI6Fr72Ra/pxaeA8Tu+eoXt9cDRmNFcWhleXyAlx2T4/fRtrJvzfaIjBO9\n",
       "nbzup9K04JQmXdP16jZ3ifF8wbvHzO37t6kIB0Sf3/DIydxKWYPrHR2IeXN095hQPnzhUfK+32iW\n",
       "HBDFddzbScLa9XVb0DKBX9C9xJj4VQim9/2VVe2XJ/iza9Y/GOL/p/Ab0RAerKvnItsAAAAASUVO\n",
       "RK5CYII=\n",
       "\" style=\"display:inline;vertical-align:middle;\" /></a><br>(see <a class=\"ProveItLink\" href=\"../../../__pv_it/theorems/4dd60f78f358e554c65711e01f97d308ed4b9ac10/dependencies.ipynb\">dependencies</a>)<br>"
      ],
      "text/plain": [
       "in_singleton_eval_false: forall_{x, y | x != y} ((x in {y}) = FALSE)"
      ]
     },
     "execution_count": 1,
     "metadata": {},
     "output_type": "execute_result"
    }
   ],
   "source": [
    "import proveit\n",
    "from proveit import defaults\n",
    "from proveit import x, y\n",
    "from proveit.logic import NotEquals, Not, Equals, TRUE, FALSE, InSet, NotInSet, Set\n",
    "from proveit.logic.equality  import not_equals_def\n",
    "from proveit.logic.equality import sub_right_side_into\n",
    "from proveit.logic.sets.enumeration import not_in_singleton_equiv, in_singleton_eval_true, singleton_def\n",
    "%proving in_singleton_eval_false"
   ]
  },
  {
   "cell_type": "code",
   "execution_count": 2,
   "metadata": {},
   "outputs": [
    {
     "data": {
      "text/html": [
       "<strong id=\"defaults.assumptions\">defaults.assumptions:</strong> <a class=\"ProveItLink\" href=\"../../../__pv_it/_proof_in_singleton_eval_false/f8d03d498ce0e26343c5876385c05564f07542890/expr.ipynb\"><img src=\"data:image/png;base64,iVBORw0KGgoAAAANSUhEUgAAAD8AAAAVCAMAAADGtsa9AAAAPFBMVEX///8NDQ0WFhYLCwsYGBjM\n",
       "zMxUVFRERES6uroiIiIQEBCYmJhmZmYyMjLu7u52dnaqqqqIiIjc3NwAAAB1ELWhAAAAAXRSTlMA\n",
       "QObYZgAAAAlwSFlzAAAOxAAADsQBlSsOGwAAAThJREFUOMudVNmSxCAIZA+NB0FJ/v9fF8TMVDYx\n",
       "Vo0PpgJCYzcIIGuDT9YriuvkJNKdNbB9a5mEu+Xezll3WmeFLm7gWLUuzDN4P/JklC1N4cf0JoI6\n",
       "Kz/4sW/NgJ09YvbkSrlosZ7gidt9yZIWrylMI+HTM2B8iRbb+v3R/VVDgaoXzrsRsEI0wLypkcDn\n",
       "R3hXDcGbpJIrBXMo4g0VAU+/IljStknWO24/4uFtfIDXhFKkxFlLhHTU3zxyluh0/+8vY+GtQSuS\n",
       "u+g1wtJAaQngU+Pn2mHnbvDHpqwtKoEm2h2hxIezfBWvs+S10kO0Aq4JRsgsp3OdwYvyhXHvrEQh\n",
       "L7phe40ms3ShtngMwcN8XUMp9TJt9IbzkW/go9Dtu32zJqLB8wDx5tmpmTH8G8yNB4P/PJis4X9u\n",
       "3AwSbsIYJQAAAABJRU5ErkJggg==\n",
       "\" style=\"display:inline;vertical-align:middle;\" /></a><br>"
      ],
      "text/plain": [
       "defaults.assumptions: (x != y)"
      ]
     },
     "execution_count": 2,
     "metadata": {},
     "output_type": "execute_result"
    }
   ],
   "source": [
    "defaults.assumptions = in_singleton_eval_false.conditions"
   ]
  },
  {
   "cell_type": "code",
   "execution_count": 3,
   "metadata": {},
   "outputs": [
    {
     "data": {
      "text/html": [
       "<strong id=\"step1\">step1:</strong> <span style=\"font-size:20px;\"><a class=\"ProveItLink\" href=\"../../../../../equality/__pv_it/theorems/73829d3be05f2b12292db7642d7f9d4a94d650a00/expr.ipynb\"><img src=\"data:image/png;base64,iVBORw0KGgoAAAANSUhEUgAAADMAAAAUCAMAAAAX1vWWAAAAPFBMVEX///8NDQ0WFhYLCwsYGBhE\n",
       "RES6uroQEBAyMjLc3NyYmJgiIiJmZmaqqqp2dnbMzMxUVFSIiIju7u4AAAD+DEmOAAAAAXRSTlMA\n",
       "QObYZgAAAAlwSFlzAAAOxAAADsQBlSsOGwAAANVJREFUOMudU90agyAIZT9lGSjQ+7/rxNY2l7qv\n",
       "cYGWwOEcEaBrqHDW4nA6BYZ4Hob/gJlPp4xtGBVhjSHQ98E0l2HobcmFEEBYAJeXwEu2+838CysA\n",
       "ubT41dxsGwX2XZhIW1U2+U1OnCpssGQA4ASeDj43TRgrkpqBuMb9K52rFnyul43VW7vcjBgnHUZg\n",
       "lzmWMIdJG3h3tEbFlDOWUhMe55Wto6w3iqQIT79g0s0EwbU9GhTq/8PUHpsKjIWro2aKr8As6T44\n",
       "tGGWyvMkLzj2Hk533h9UTgjQ0ngz3AAAAABJRU5ErkJggg==\n",
       "\" style=\"display:inline;vertical-align:middle;\" /></a> <a class=\"ProveItLink\" href=\"../../../__pv_it/_proof_in_singleton_eval_false/f2da91b01d250d8ec4fccc60f9ab125e6b0b888e0/proof.ipynb\" style=\"text-decoration: none\">&nbsp;&#x22A2;&nbsp;&nbsp;</a><a class=\"ProveItLink\" href=\"../../../../../booleans/__pv_it/theorems/a3c4d9088d0ab0d98fc5c16af22cc7989fca846c0/expr.ipynb\"><img src=\"data:image/png;base64,iVBORw0KGgoAAAANSUhEUgAAADoAAAAOBAMAAACMfhKgAAAAG1BMVEX///+YmJi6urqIiIiqqqpU\n",
       "VFQiIiJmZmYAAAD2GhH1AAAAAXRSTlMAQObYZgAAAAlwSFlzAAAOxAAADsQBlSsOGwAAACVJREFU\n",
       "GNNjKEsDgVQGVIAk6syADTij0QMli+r8oWyvIlZZkCgA3LER73tvWYUAAAAASUVORK5CYII=\n",
       "\" style=\"display:inline;vertical-align:middle;\" /></a></span><br>"
      ],
      "text/plain": [
       "step1: {x != y} |- TRUE = TRUE"
      ]
     },
     "execution_count": 3,
     "metadata": {},
     "output_type": "execute_result"
    }
   ],
   "source": [
    "step1 = not_equals_def.instantiate({x:x, y:y})"
   ]
  },
  {
   "cell_type": "code",
   "execution_count": 4,
   "metadata": {},
   "outputs": [
    {
     "data": {
      "text/html": [
       "<strong id=\"state1\">state1:</strong> <span style=\"font-size:20px;\"><a class=\"ProveItLink\" href=\"../../../../../equality/__pv_it/theorems/73829d3be05f2b12292db7642d7f9d4a94d650a00/expr.ipynb\"><img src=\"data:image/png;base64,iVBORw0KGgoAAAANSUhEUgAAADMAAAAUCAMAAAAX1vWWAAAAPFBMVEX///8NDQ0WFhYLCwsYGBhE\n",
       "RES6uroQEBAyMjLc3NyYmJgiIiJmZmaqqqp2dnbMzMxUVFSIiIju7u4AAAD+DEmOAAAAAXRSTlMA\n",
       "QObYZgAAAAlwSFlzAAAOxAAADsQBlSsOGwAAANVJREFUOMudU90agyAIZT9lGSjQ+7/rxNY2l7qv\n",
       "cYGWwOEcEaBrqHDW4nA6BYZ4Hob/gJlPp4xtGBVhjSHQ98E0l2HobcmFEEBYAJeXwEu2+838CysA\n",
       "ubT41dxsGwX2XZhIW1U2+U1OnCpssGQA4ASeDj43TRgrkpqBuMb9K52rFnyul43VW7vcjBgnHUZg\n",
       "lzmWMIdJG3h3tEbFlDOWUhMe55Wto6w3iqQIT79g0s0EwbU9GhTq/8PUHpsKjIWro2aKr8As6T44\n",
       "tGGWyvMkLzj2Hk533h9UTgjQ0ngz3AAAAABJRU5ErkJggg==\n",
       "\" style=\"display:inline;vertical-align:middle;\" /></a> <a class=\"ProveItLink\" href=\"../../../__pv_it/_proof_in_singleton_eval_false/c1868632e4f537c5fffb1798e40f1ef36b81585a0/proof.ipynb\" style=\"text-decoration: none\">&nbsp;&#x22A2;&nbsp;&nbsp;</a><a class=\"ProveItLink\" href=\"../../../__pv_it/_proof_in_singleton_eval_false/ab47f550b65c12f8e62be0125ba7ba07a1a361360/expr.ipynb\"><img src=\"data:image/png;base64,iVBORw0KGgoAAAANSUhEUgAAAGwAAAAVCAMAAACUlfv2AAAAPFBMVEX///8NDQ0WFhYLCwsYGBjM\n",
       "zMxUVFRERES6uroiIiIQEBCYmJhmZmYyMjLu7u52dnaqqqqIiIjc3NwAAAB1ELWhAAAAAXRSTlMA\n",
       "QObYZgAAAAlwSFlzAAAOxAAADsQBlSsOGwAAAVpJREFUSMedVlmWhCAMZBbCakj0/ncdENppbREj\n",
       "Hz4fSyqVFAlK5TGrJ+PZKabBhohns5YfYFEabNCm42QY2o7ubYBSOI1OGN1ZmPAmnS0GceSfht5K\n",
       "iFIwPyTWV4JHGRiNomihvzYFGVh8yQOZAXVKR2lOO2LIa9ixepBABrY5l+PPwFk/eyH9/jQh1ZEU\n",
       "lbiHpSZt6uruFMw1JmEuJlBBuCKmqXoD9TaQlzHztpkp3n3mz+4FlwXhy0lfj+vlGZj6N9EnVtAz\n",
       "+wxSr54VMnP0ZidbRnxPwvfXMQkre24g5GQ5M/UHjVXgVwVc1wgDr09JtJExa+qlRWPMYHanfPos\n",
       "ERFKCMLh3twE0zUSGJmz7UCj4oeQOC4tk87eArObwp0W94PUVDs7aYe5qKYnxAoOerpZwwWFNpwQ\n",
       "czn80OZnI8bKQuwsuJOaToGjHbeDi8dEp7/rwWtCjPUHYKkPK9jBtbUAAAAASUVORK5CYII=\n",
       "\" style=\"display:inline;vertical-align:middle;\" /></a></span><br>"
      ],
      "text/plain": [
       "state1: {x != y} |- (x != y) = TRUE"
      ]
     },
     "execution_count": 4,
     "metadata": {},
     "output_type": "execute_result"
    }
   ],
   "source": [
    "state1 = Equals(NotEquals(x,y), TRUE).prove()"
   ]
  },
  {
   "cell_type": "code",
   "execution_count": 5,
   "metadata": {},
   "outputs": [
    {
     "data": {
      "text/html": [
       "<span style=\"font-size:20px;\"><a class=\"ProveItLink\" href=\"../../../../../equality/__pv_it/theorems/73829d3be05f2b12292db7642d7f9d4a94d650a00/expr.ipynb\"><img src=\"data:image/png;base64,iVBORw0KGgoAAAANSUhEUgAAADMAAAAUCAMAAAAX1vWWAAAAPFBMVEX///8NDQ0WFhYLCwsYGBhE\n",
       "RES6uroQEBAyMjLc3NyYmJgiIiJmZmaqqqp2dnbMzMxUVFSIiIju7u4AAAD+DEmOAAAAAXRSTlMA\n",
       "QObYZgAAAAlwSFlzAAAOxAAADsQBlSsOGwAAANVJREFUOMudU90agyAIZT9lGSjQ+7/rxNY2l7qv\n",
       "cYGWwOEcEaBrqHDW4nA6BYZ4Hob/gJlPp4xtGBVhjSHQ98E0l2HobcmFEEBYAJeXwEu2+838CysA\n",
       "ubT41dxsGwX2XZhIW1U2+U1OnCpssGQA4ASeDj43TRgrkpqBuMb9K52rFnyul43VW7vcjBgnHUZg\n",
       "lzmWMIdJG3h3tEbFlDOWUhMe55Wto6w3iqQIT79g0s0EwbU9GhTq/8PUHpsKjIWro2aKr8As6T44\n",
       "tGGWyvMkLzj2Hk533h9UTgjQ0ngz3AAAAABJRU5ErkJggg==\n",
       "\" style=\"display:inline;vertical-align:middle;\" /></a> <a class=\"ProveItLink\" href=\"../../../__pv_it/_proof_in_singleton_eval_false/f2da91b01d250d8ec4fccc60f9ab125e6b0b888e0/proof.ipynb\" style=\"text-decoration: none\">&nbsp;&#x22A2;&nbsp;&nbsp;</a><a class=\"ProveItLink\" href=\"../../../../../booleans/__pv_it/theorems/a3c4d9088d0ab0d98fc5c16af22cc7989fca846c0/expr.ipynb\"><img src=\"data:image/png;base64,iVBORw0KGgoAAAANSUhEUgAAADoAAAAOBAMAAACMfhKgAAAAG1BMVEX///+YmJi6urqIiIiqqqpU\n",
       "VFQiIiJmZmYAAAD2GhH1AAAAAXRSTlMAQObYZgAAAAlwSFlzAAAOxAAADsQBlSsOGwAAACVJREFU\n",
       "GNNjKEsDgVQGVIAk6syADTij0QMli+r8oWyvIlZZkCgA3LER73tvWYUAAAAASUVORK5CYII=\n",
       "\" style=\"display:inline;vertical-align:middle;\" /></a></span>"
      ],
      "text/plain": [
       "{x != y} |- TRUE = TRUE"
      ]
     },
     "execution_count": 5,
     "metadata": {},
     "output_type": "execute_result"
    }
   ],
   "source": [
    "step1.sub_right_side_into(state1)"
   ]
  },
  {
   "cell_type": "code",
   "execution_count": 6,
   "metadata": {},
   "outputs": [
    {
     "data": {
      "text/html": [
       "<strong id=\"state2\">state2:</strong> <span style=\"font-size:20px;\"><a class=\"ProveItLink\" href=\"../../../../../equality/__pv_it/theorems/73829d3be05f2b12292db7642d7f9d4a94d650a00/expr.ipynb\"><img src=\"data:image/png;base64,iVBORw0KGgoAAAANSUhEUgAAADMAAAAUCAMAAAAX1vWWAAAAPFBMVEX///8NDQ0WFhYLCwsYGBhE\n",
       "RES6uroQEBAyMjLc3NyYmJgiIiJmZmaqqqp2dnbMzMxUVFSIiIju7u4AAAD+DEmOAAAAAXRSTlMA\n",
       "QObYZgAAAAlwSFlzAAAOxAAADsQBlSsOGwAAANVJREFUOMudU90agyAIZT9lGSjQ+7/rxNY2l7qv\n",
       "cYGWwOEcEaBrqHDW4nA6BYZ4Hob/gJlPp4xtGBVhjSHQ98E0l2HobcmFEEBYAJeXwEu2+838CysA\n",
       "ubT41dxsGwX2XZhIW1U2+U1OnCpssGQA4ASeDj43TRgrkpqBuMb9K52rFnyul43VW7vcjBgnHUZg\n",
       "lzmWMIdJG3h3tEbFlDOWUhMe55Wto6w3iqQIT79g0s0EwbU9GhTq/8PUHpsKjIWro2aKr8As6T44\n",
       "tGGWyvMkLzj2Hk533h9UTgjQ0ngz3AAAAABJRU5ErkJggg==\n",
       "\" style=\"display:inline;vertical-align:middle;\" /></a> <a class=\"ProveItLink\" href=\"../../../__pv_it/_proof_in_singleton_eval_false/aa6d989b221aed6942cc384f3a0425a707e4c8990/proof.ipynb\" style=\"text-decoration: none\">&nbsp;&#x22A2;&nbsp;&nbsp;</a><a class=\"ProveItLink\" href=\"../../../__pv_it/_proof_in_singleton_eval_false/4a55b82579afc2f23793b10efe3a09742a3d37730/expr.ipynb\"><img src=\"data:image/png;base64,iVBORw0KGgoAAAANSUhEUgAAAGwAAAAVBAMAAABRZRb3AAAAMFBMVEX////MzMxUVFRERES6uroi\n",
       "IiIQEBCYmJhmZmYyMjLu7u52dnaqqqqIiIjc3NwAAACW8nlqAAAAAXRSTlMAQObYZgAAAAlwSFlz\n",
       "AAAOxAAADsQBlSsOGwAAATxJREFUOMtjYGB4wIAT4JHiPYBbzhe31GkGPEYWYBF0BxFcE/BoY5iF\n",
       "RewsiOAowKetApc2Nny6GNgW4NB2Eq82zgIc2rpB/rurJb0HVY7rRgHDIgYGbgUc2qaD/Mdw6UIr\n",
       "iA4FA5BSbp4EhnoGBnZwgLWChYOQtcUAcR1D/QJ1VCNlOAIYlBkYgJqx25YCxAIMnehyC9guMOQy\n",
       "MDB+wKONAaQCDfgvYPzIwMCCyzaQIxlY/jGsQvUb0H5eoBaeABx+swWGmglTAsMGNDONGJiB2tkN\n",
       "cNi2CWjkxxUJLOgJuonBHxhnHBtwaBMF2tZ74UQNuuSivf3AbMPqgCYMdG8ayL2sArhSyE4gfopL\n",
       "kr0BqzD3BK4cINWOM9nZYRVlvcAE9BafAU5ti7GK8tS2AElm3KUC3wXcGeAeLgkAL/1Lwh/bNQIA\n",
       "AAAASUVORK5CYII=\n",
       "\" style=\"display:inline;vertical-align:middle;\" /></a></span><br>"
      ],
      "text/plain": [
       "state2: {x != y} |- (x = y) = FALSE"
      ]
     },
     "execution_count": 6,
     "metadata": {},
     "output_type": "execute_result"
    }
   ],
   "source": [
    "state2 = Equals(Equals(x,y), FALSE).prove()"
   ]
  },
  {
   "cell_type": "code",
   "execution_count": 7,
   "metadata": {},
   "outputs": [
    {
     "data": {
      "text/html": [
       "<strong id=\"state3\">state3:</strong> <span style=\"font-size:20px;\"> <a class=\"ProveItLink\" href=\"../../../__pv_it/_proof_in_singleton_eval_false/bd789a38a09f7a00c87123a7327af4050e7501bd0/proof.ipynb\" style=\"text-decoration: none\">&nbsp;&#x22A2;&nbsp;&nbsp;</a><a class=\"ProveItLink\" href=\"../../../__pv_it/theorems/3d9c008ee1003e9ff75063c9ab3a9f9690dc7e160/expr.ipynb\"><img src=\"data:image/png;base64,iVBORw0KGgoAAAANSUhEUgAAAK8AAAAVBAMAAADC7aNVAAAAMFBMVEX////MzMxUVFRERES6uroi\n",
       "IiIQEBCYmJhmZmYyMjLu7u52dnaqqqqIiIjc3NwAAACW8nlqAAAAAXRSTlMAQObYZgAAAAlwSFlz\n",
       "AAAOxAAADsQBlSsOGwAAAl1JREFUOMuNVT1oFEEUfve/zm6ONDaJxcFBBFE4REvDFVYhklW5Qkix\n",
       "RewUtrRQE9R4BJFcIQiisl4gREEIWh0qpFRSuKRS8OQQFEUF0wYJefNmztzMvj2cYvfNvu/75r03\n",
       "82YBoAfcEKe18Uv6OUwZUgfBRzZY38cpbWSqEcAZBvEpXZjgm6zL2/ln5iq4ephErKcLS7hosS7X\n",
       "N80HCcRTGDIQ7oT/JXwlgWgOE0Z40czhZOMCK1yMbG4wTBjh7wbn+UdRSsQH7MS81jBhhN/B1/Ot\n",
       "J6/obPyIBtXEhxDaWtitWFQH9050j4y/tk6p5lTgPs4WRo45FOHjfR4G5HoBzGN5ZNIlCnCxIcc5\n",
       "HRM4sBUvSjB9bsi1NQfhs/jslXaylOp+et9wfghXq2Ij/JWZ2yUtYIrXYT46bH7WHITPYQtQfLIX\n",
       "LuK656X15R4+omIMl/HdfoiuP/b21AFGYckuruYgfI5QsSpQre/P3JTVnoky2/jqoEY+YISB1jWH\n",
       "4iB8lmY9QdvmG+2G8cj6UhN6vlVjWQrI78Izs8Z9jg+nAFbqE+CSXNc8Y8dJ36XNq1mR5WIQJ7IB\n",
       "2I2tOAh/AfB+7DZMq+O3YQjfgJlQm44tgAfK214L8vYVpjgIPwiw1vWayi+qU4PC7TfLPW0W6pZA\n",
       "xgdxN3571a6x4iC8MGq03kuzpTt982til86mdV1HwUsLqZeQ2xKX+sJN7p7heIoj4ZP8jYo7Voiz\n",
       "67oJy7UEIsf+eRSH4CussGw379otaa6GrIqosT8I4hC8HLPK349q46c0PjOI3+mXG8L3ALZUnIZB\n",
       "p0VQAAAAAElFTkSuQmCC\n",
       "\" style=\"display:inline;vertical-align:middle;\" /></a></span><br>"
      ],
      "text/plain": [
       "state3: |- (x in {y}) = (x = y)"
      ]
     },
     "execution_count": 7,
     "metadata": {},
     "output_type": "execute_result"
    }
   ],
   "source": [
    "state3 = singleton_def.instantiate({x:x, y:y})"
   ]
  },
  {
   "cell_type": "code",
   "execution_count": 8,
   "metadata": {},
   "outputs": [
    {
     "data": {
      "text/html": [
       "<strong id=\"goal\">goal:</strong> <span style=\"font-size:20px;\"><a class=\"ProveItLink\" href=\"../../../../../equality/__pv_it/theorems/73829d3be05f2b12292db7642d7f9d4a94d650a00/expr.ipynb\"><img src=\"data:image/png;base64,iVBORw0KGgoAAAANSUhEUgAAADMAAAAUCAMAAAAX1vWWAAAAPFBMVEX///8NDQ0WFhYLCwsYGBhE\n",
       "RES6uroQEBAyMjLc3NyYmJgiIiJmZmaqqqp2dnbMzMxUVFSIiIju7u4AAAD+DEmOAAAAAXRSTlMA\n",
       "QObYZgAAAAlwSFlzAAAOxAAADsQBlSsOGwAAANVJREFUOMudU90agyAIZT9lGSjQ+7/rxNY2l7qv\n",
       "cYGWwOEcEaBrqHDW4nA6BYZ4Hob/gJlPp4xtGBVhjSHQ98E0l2HobcmFEEBYAJeXwEu2+838CysA\n",
       "ubT41dxsGwX2XZhIW1U2+U1OnCpssGQA4ASeDj43TRgrkpqBuMb9K52rFnyul43VW7vcjBgnHUZg\n",
       "lzmWMIdJG3h3tEbFlDOWUhMe55Wto6w3iqQIT79g0s0EwbU9GhTq/8PUHpsKjIWro2aKr8As6T44\n",
       "tGGWyvMkLzj2Hk533h9UTgjQ0ngz3AAAAABJRU5ErkJggg==\n",
       "\" style=\"display:inline;vertical-align:middle;\" /></a> <a class=\"ProveItLink\" href=\"../../../__pv_it/_proof_in_singleton_eval_false/521534db2b6af936f99a7037ad0012d0f4f698540/proof.ipynb\" style=\"text-decoration: none\">&nbsp;&#x22A2;&nbsp;&nbsp;</a><a class=\"ProveItLink\" href=\"../../../__pv_it/theorems/807928bae741ce723968f071f8aca1672dd185c10/expr.ipynb\"><img src=\"data:image/png;base64,iVBORw0KGgoAAAANSUhEUgAAAH4AAAAVBAMAAAByPkciAAAAMFBMVEX////MzMxUVFRERES6uroi\n",
       "IiIQEBCYmJhmZmYyMjLu7u52dnaqqqqIiIjc3NwAAACW8nlqAAAAAXRSTlMAQObYZgAAAAlwSFlz\n",
       "AAAOxAAADsQBlSsOGwAAAbhJREFUOMtjYGB4wIAVLHGA0G9A8jjUgADvAezCUxZAGIzKQIYvbv2n\n",
       "sQufXwBjMSsATSvAosQdRHBNwK5/K5zFHQAkZmFRchZEcBQQpb8Cl342VF+bhkZi1c+2AIf+k8gi\n",
       "LHMX4LCfswCH/m4gXntp4W5wLLxcgOx+rhsFDIug+rkVcOifDsQNvLocIEUM8xCSnUA9PAkM9UA/\n",
       "JQC57OBgbg0FgSBk/TFAuQfsv5jA7kPEBV86A4MM0FBlIPMPkM+TgMP+FGAKYeCAaGRMBZoeDNau\n",
       "CUx9C9guMOQCOYvmAKU+4NYPDN0LYAEuA7ichBWQ8F/A+BFI7QSaxYLL/hgQ4f+ACxxyAQhJI3AY\n",
       "gPzO8wvk/gAc/rdlYFjsoMbADRa5i5p+jMBplxscfgY47N8ETOpSbQw+YBHOAyj6mxj8C6Dxx7EB\n",
       "h35RBoYVd3naIRq5lL2Q9S/a2/8Aqp/VAU0z0CtpIK+wCqAkwM2o6XcnLP09xZV92Rtw5h/uCVw5\n",
       "MP3tOPO/HXbha0A3X2AC+RqUOPgMcOpfjF34/QEGntoWEGsZMAyZcRdgfBewCzdB4+K1DpC4h0s3\n",
       "AFA9cQWglopMAAAAAElFTkSuQmCC\n",
       "\" style=\"display:inline;vertical-align:middle;\" /></a></span><br>"
      ],
      "text/plain": [
       "goal: {x != y} |- (x in {y}) = FALSE"
      ]
     },
     "execution_count": 8,
     "metadata": {},
     "output_type": "execute_result"
    }
   ],
   "source": [
    "goal = state3.sub_left_side_into(state2)"
   ]
  },
  {
   "cell_type": "code",
   "execution_count": 9,
   "metadata": {},
   "outputs": [
    {
     "name": "stdout",
     "output_type": "stream",
     "text": [
      "in_singleton_eval_false has been proven.  Now simply execute \"%qed\".\n"
     ]
    },
    {
     "data": {
      "text/html": [
       "<span style=\"font-size:20px;\"> <a class=\"ProveItLink\" href=\"../../../__pv_it/_proof_in_singleton_eval_false/bdd99670c051b92c365dfa4a2eb4ba9a7c328e3e0/proof.ipynb\" style=\"text-decoration: none\">&nbsp;&#x22A2;&nbsp;&nbsp;</a><a class=\"ProveItLink\" href=\"../../../__pv_it/theorems/75e1f7242cb90c0fb132c0a2b98bc8bf7171ff3b0/expr.ipynb\"><img src=\"data:image/png;base64,iVBORw0KGgoAAAANSUhEUgAAAO8AAAAXCAMAAADUb+j/AAAAOVBMVEX///82NjYbGxsSEhKIiIgi\n",
       "IiIQEBB2dnbu7u5ERETMzMzc3NwyMjK6urpmZmaYmJiqqqpUVFQAAAAnLjGdAAAAAXRSTlMAQObY\n",
       "ZgAAAAlwSFlzAAAOxAAADsQBlSsOGwAAAvVJREFUWMPVWIuSnSAMpS1CeIP//7HlKaCo6NR2yuxu\n",
       "ZrkczCEnMVyE/soQOzs3QKl+F/tun/eYlwPb3k6ipIJ+hjuWZhR+7kTCuO1/a76ia2lvJ1ErHCdZ\n",
       "9hfPOqvqwojRm2TkVwEH2dvJQZerSQmTp9YoIWB4CbBgX4VXm97+Eb5GP+cbMeWgqP2KL9nZYa6y\n",
       "xQ85zxcReMw3Ykw+dflZ9srejpJMYngYXyTNc74RQ8LJLoR+JmfaW8DYAaeNnsQwGTM1wDEPwO34\n",
       "Uvecb8RoHgvfhDwuU+YUXwJRrN8FO4x0Dd+4UuqkB4psSASzJt1vSWGqXPTSDHfBN2KEK3/uxlVF\n",
       "o+rsk8V21ojgPCBX9TgUuiBxAbfpZFx6uFiLLCx5Ht+ECaE9d3eO78V5EdVZXkNXughSYsOa/aQq\n",
       "siHBZZL9BicTY74+55swYWqqWl3wdWKWL2qczxRG+3JdMkyFvoOvPOsonwNSL+KbMRKZPIuxFv6n\n",
       "NGCua8A6vt1KpOgYMdBzZOBxUBN+GZ+ua/K45G1tuuzyPH8zhtpcILEIeZIFAxj5zTkZ8t1WahbG\n",
       "L/9rBoiIwq0FppAjsQ41Z3fVb0TehTyt9Yo9j2/GCJJ3M9GrrBwB4TgwG/LtVpZu9ohoXxzJ2pWD\n",
       "9k6rtr2R9oKvdkERZv/+1fQ534JxfJtam0R0/mOHz/K3rqwJuEfETFxaC9pH02rTMQTHFJzxBUex\n",
       "Lg+rfJe7CptUTkij8iMmiFG0WxJ+wjevDHr++YNFPR8RaRve22GHRdlVP0nlflIsL27Ay/6VFzf2\n",
       "DQHQ7KBah/W5rkTNleOI6Fr72Ra/pxaeA8Tu+eoXt9cDRmNFcWhleXyAlx2T4/fRtrJvzfaIjBO9\n",
       "nbzup9K04JQmXdP16jZ3ifF8wbvHzO37t6kIB0Sf3/DIydxKWYPrHR2IeXN095hQPnzhUfK+32iW\n",
       "HBDFddzbScLa9XVb0DKBX9C9xJj4VQim9/2VVe2XJ/iza9Y/GOL/p/Ab0RAerKvnItsAAAAASUVO\n",
       "RK5CYII=\n",
       "\" style=\"display:inline;vertical-align:middle;\" /></a></span>"
      ],
      "text/plain": [
       "|- forall_{x, y | x != y} ((x in {y}) = FALSE)"
      ]
     },
     "execution_count": 9,
     "metadata": {},
     "output_type": "execute_result"
    }
   ],
   "source": [
    "goal.generalize([x,y], conditions = in_singleton_eval_false.conditions)"
   ]
  },
  {
   "cell_type": "code",
   "execution_count": 10,
   "metadata": {},
   "outputs": [
    {
     "data": {
      "text/html": [
       "<table><tr><th>&nbsp;</th><th>step type</th><th>requirements</th><th>statement</th></tr>\n",
       "<tr><td><a name=\"0x64edff99ae7f6f9e_step0\">0</a></td><td>generalization</td><td><a href=\"#0x64edff99ae7f6f9e_step1\">1</a></td><td><span style=\"font-size:20px;\"> <a class=\"ProveItLink\" href=\"../../../__pv_it/_proof_in_singleton_eval_false/bdd99670c051b92c365dfa4a2eb4ba9a7c328e3e0/proof.ipynb\" style=\"text-decoration: none\">&nbsp;&#x22A2;&nbsp;&nbsp;</a><a class=\"ProveItLink\" href=\"../../../__pv_it/theorems/75e1f7242cb90c0fb132c0a2b98bc8bf7171ff3b0/expr.ipynb\"><img src=\"data:image/png;base64,iVBORw0KGgoAAAANSUhEUgAAAO8AAAAXCAMAAADUb+j/AAAAOVBMVEX///82NjYbGxsSEhKIiIgi\n",
       "IiIQEBB2dnbu7u5ERETMzMzc3NwyMjK6urpmZmaYmJiqqqpUVFQAAAAnLjGdAAAAAXRSTlMAQObY\n",
       "ZgAAAAlwSFlzAAAOxAAADsQBlSsOGwAAAvVJREFUWMPVWIuSnSAMpS1CeIP//7HlKaCo6NR2yuxu\n",
       "ZrkczCEnMVyE/soQOzs3QKl+F/tun/eYlwPb3k6ipIJ+hjuWZhR+7kTCuO1/a76ia2lvJ1ErHCdZ\n",
       "9hfPOqvqwojRm2TkVwEH2dvJQZerSQmTp9YoIWB4CbBgX4VXm97+Eb5GP+cbMeWgqP2KL9nZYa6y\n",
       "xQ85zxcReMw3Ykw+dflZ9srejpJMYngYXyTNc74RQ8LJLoR+JmfaW8DYAaeNnsQwGTM1wDEPwO34\n",
       "Uvecb8RoHgvfhDwuU+YUXwJRrN8FO4x0Dd+4UuqkB4psSASzJt1vSWGqXPTSDHfBN2KEK3/uxlVF\n",
       "o+rsk8V21ojgPCBX9TgUuiBxAbfpZFx6uFiLLCx5Ht+ECaE9d3eO78V5EdVZXkNXughSYsOa/aQq\n",
       "siHBZZL9BicTY74+55swYWqqWl3wdWKWL2qczxRG+3JdMkyFvoOvPOsonwNSL+KbMRKZPIuxFv6n\n",
       "NGCua8A6vt1KpOgYMdBzZOBxUBN+GZ+ua/K45G1tuuzyPH8zhtpcILEIeZIFAxj5zTkZ8t1WahbG\n",
       "L/9rBoiIwq0FppAjsQ41Z3fVb0TehTyt9Yo9j2/GCJJ3M9GrrBwB4TgwG/LtVpZu9ohoXxzJ2pWD\n",
       "9k6rtr2R9oKvdkERZv/+1fQ534JxfJtam0R0/mOHz/K3rqwJuEfETFxaC9pH02rTMQTHFJzxBUex\n",
       "Lg+rfJe7CptUTkij8iMmiFG0WxJ+wjevDHr++YNFPR8RaRve22GHRdlVP0nlflIsL27Ay/6VFzf2\n",
       "DQHQ7KBah/W5rkTNleOI6Fr72Ra/pxaeA8Tu+eoXt9cDRmNFcWhleXyAlx2T4/fRtrJvzfaIjBO9\n",
       "nbzup9K04JQmXdP16jZ3ifF8wbvHzO37t6kIB0Sf3/DIydxKWYPrHR2IeXN095hQPnzhUfK+32iW\n",
       "HBDFddzbScLa9XVb0DKBX9C9xJj4VQim9/2VVe2XJ/iza9Y/GOL/p/Ab0RAerKvnItsAAAAASUVO\n",
       "RK5CYII=\n",
       "\" style=\"display:inline;vertical-align:middle;\" /></a></span></td></tr>\n",
       "<tr><td><a name=\"0x64edff99ae7f6f9e_step1\">1</a></td><td>instantiation</td><td><a href=\"#0x64edff99ae7f6f9e_step2\">2</a>, <a href=\"#0x64edff99ae7f6f9e_step3\">3</a>, <a href=\"#0x64edff99ae7f6f9e_step4\">4</a></td><td><span style=\"font-size:20px;\"><a class=\"ProveItLink\" href=\"../../../../../equality/__pv_it/theorems/73829d3be05f2b12292db7642d7f9d4a94d650a00/expr.ipynb\"><img src=\"data:image/png;base64,iVBORw0KGgoAAAANSUhEUgAAADMAAAAUCAMAAAAX1vWWAAAAPFBMVEX///8NDQ0WFhYLCwsYGBhE\n",
       "RES6uroQEBAyMjLc3NyYmJgiIiJmZmaqqqp2dnbMzMxUVFSIiIju7u4AAAD+DEmOAAAAAXRSTlMA\n",
       "QObYZgAAAAlwSFlzAAAOxAAADsQBlSsOGwAAANVJREFUOMudU90agyAIZT9lGSjQ+7/rxNY2l7qv\n",
       "cYGWwOEcEaBrqHDW4nA6BYZ4Hob/gJlPp4xtGBVhjSHQ98E0l2HobcmFEEBYAJeXwEu2+838CysA\n",
       "ubT41dxsGwX2XZhIW1U2+U1OnCpssGQA4ASeDj43TRgrkpqBuMb9K52rFnyul43VW7vcjBgnHUZg\n",
       "lzmWMIdJG3h3tEbFlDOWUhMe55Wto6w3iqQIT79g0s0EwbU9GhTq/8PUHpsKjIWro2aKr8As6T44\n",
       "tGGWyvMkLzj2Hk533h9UTgjQ0ngz3AAAAABJRU5ErkJggg==\n",
       "\" style=\"display:inline;vertical-align:middle;\" /></a> <a class=\"ProveItLink\" href=\"../../../__pv_it/_proof_in_singleton_eval_false/521534db2b6af936f99a7037ad0012d0f4f698540/proof.ipynb\" style=\"text-decoration: none\">&nbsp;&#x22A2;&nbsp;&nbsp;</a><a class=\"ProveItLink\" href=\"../../../__pv_it/theorems/807928bae741ce723968f071f8aca1672dd185c10/expr.ipynb\"><img src=\"data:image/png;base64,iVBORw0KGgoAAAANSUhEUgAAAH4AAAAVBAMAAAByPkciAAAAMFBMVEX////MzMxUVFRERES6uroi\n",
       "IiIQEBCYmJhmZmYyMjLu7u52dnaqqqqIiIjc3NwAAACW8nlqAAAAAXRSTlMAQObYZgAAAAlwSFlz\n",
       "AAAOxAAADsQBlSsOGwAAAbhJREFUOMtjYGB4wIAVLHGA0G9A8jjUgADvAezCUxZAGIzKQIYvbv2n\n",
       "sQufXwBjMSsATSvAosQdRHBNwK5/K5zFHQAkZmFRchZEcBQQpb8Cl342VF+bhkZi1c+2AIf+k8gi\n",
       "LHMX4LCfswCH/m4gXntp4W5wLLxcgOx+rhsFDIug+rkVcOifDsQNvLocIEUM8xCSnUA9PAkM9UA/\n",
       "JQC57OBgbg0FgSBk/TFAuQfsv5jA7kPEBV86A4MM0FBlIPMPkM+TgMP+FGAKYeCAaGRMBZoeDNau\n",
       "CUx9C9guMOQCOYvmAKU+4NYPDN0LYAEuA7ichBWQ8F/A+BFI7QSaxYLL/hgQ4f+ACxxyAQhJI3AY\n",
       "gPzO8wvk/gAc/rdlYFjsoMbADRa5i5p+jMBplxscfgY47N8ETOpSbQw+YBHOAyj6mxj8C6Dxx7EB\n",
       "h35RBoYVd3naIRq5lL2Q9S/a2/8Aqp/VAU0z0CtpIK+wCqAkwM2o6XcnLP09xZV92Rtw5h/uCVw5\n",
       "MP3tOPO/HXbha0A3X2AC+RqUOPgMcOpfjF34/QEGntoWEGsZMAyZcRdgfBewCzdB4+K1DpC4h0s3\n",
       "AFA9cQWglopMAAAAAElFTkSuQmCC\n",
       "\" style=\"display:inline;vertical-align:middle;\" /></a></span></td></tr>\n",
       "<tr><td>&nbsp;</td><td colspan=4 style=\"text-align:left\"><span style=\"font-size:20px;\"><a class=\"ProveItLink\" href=\"../../../__pv_it/_proof_in_singleton_eval_false/f307345efa93fdd6c2df141d735449c4534792f70/expr.ipynb\"><img src=\"data:image/png;base64,iVBORw0KGgoAAAANSUhEUgAAADsAAAAVBAMAAAAKrYvGAAAAMFBMVEX///+6urqYmJgiIiLc3Nx2\n",
       "dnaqqqrMzMwQEBDu7u5mZmYyMjJUVFRERESIiIgAAAAee7pSAAAAAXRSTlMAQObYZgAAAAlwSFlz\n",
       "AAAOxAAADsQBlSsOGwAAAR1JREFUKM9jYEAGDnh4DAx8CShcOTD59v+ds7smgFipaKoVwNRvBgbe\n",
       "TiDNuQHNtJ0ggv0fAwMbEDNwKaBJa4HN+A7EX4EMDjRZBg6QlbwfgBiohCEbXZobZBz/BQaG+gdA\n",
       "xlKEBMvRJ0AR1gMMYClXM5DYJoS0hAPvTwYGJpBb3x8NVQSLmcFlOZsYuAyADm4Asu/DBBvh0lwf\n",
       "GJgDgH76APE2ujTHBYb5AgwMjEDd7F9hggjD5z9g0AdSbEAL+D7CBO8hpBMYTrM5MDAB/cT9ASYY\n",
       "A5fmfcBmxQV0QgAD1/2/D6CCxUCb7gLBFQbOc+E+zxkYmAWQA4m5AC3UnFF4TAvQpBehcq+gclku\n",
       "oPLnonJ50VITywMU7hMGBgCRA0HPkLXvDgAAAABJRU5ErkJggg==\n",
       "\" style=\"display:inline;vertical-align:middle;\" /></a> : <a class=\"ProveItLink\" href=\"../../../__pv_it/_proof_in_singleton_eval_false/4ba8ee06f8295303009252bddc8888da418226d50/expr.ipynb\"><img src=\"data:image/png;base64,iVBORw0KGgoAAAANSUhEUgAAAEMAAAAPBAMAAABNfm9XAAAAMFBMVEX///8yMjKqqqoiIiJmZmaY\n",
       "mJju7u4QEBC6urqIiIh2dnZUVFTc3NxERETMzMwAAAAY8qdrAAAAAXRSTlMAQObYZgAAAAlwSFlz\n",
       "AAAOxAAADsQBlSsOGwAAAGdJREFUKM9jYKAQcAQQVMI0YUCUnF55koASjhqG+wlAmsUYDDZgUZIe\n",
       "wOBMwBR/BgYrAkpqGdh+4FfC9pOB9QMDXrewfWLgFtDBb9FNBmUHBxxK3t4FggMM2bPe7HyAKg+0\n",
       "07wYaCcAPPchf2RF+aYAAAAASUVORK5CYII=\n",
       "\" style=\"display:inline;vertical-align:middle;\" /></a>, <a class=\"ProveItLink\" href=\"../../../../../../__pv_it/common/a0d9d672aa5e272d907247690c152cc2c6daafb70/expr.ipynb\"><img src=\"data:image/png;base64,iVBORw0KGgoAAAANSUhEUgAAAAsAAAAJBAMAAAAWSsseAAAAMFBMVEX///9ERES6uroQEBAyMjLc\n",
       "3NyYmJgiIiJmZmaqqqp2dnbMzMxUVFSIiIju7u4AAAAd7oVFAAAAAXRSTlMAQObYZgAAAAlwSFlz\n",
       "AAAOxAAADsQBlSsOGwAAAENJREFUCNdjYHh75/WqCQwMDbxnOQoY2ALY/vEkMHAzcDgwgADzBTCl\n",
       "H8D3gOGhwmEGLgaG+fuaGTQZGF7c5WybwAAAJTwQ1a2DuB8AAAAASUVORK5CYII=\n",
       "\" style=\"display:inline;vertical-align:middle;\" /></a> : <a class=\"ProveItLink\" href=\"../../../__pv_it/theorems/add2e8c45656210d5cc64daf61ef238a07a95d870/expr.ipynb\"><img src=\"data:image/png;base64,iVBORw0KGgoAAAANSUhEUgAAAEQAAAAVBAMAAAAN71XTAAAAMFBMVEX///9ERES6uroQEBAyMjLc\n",
       "3NyYmJgiIiJmZmaqqqp2dnbMzMxUVFSIiIju7u4AAAAd7oVFAAAAAXRSTlMAQObYZgAAAAlwSFlz\n",
       "AAAOxAAADsQBlSsOGwAAARVJREFUKM9jYMAG+JSgjMgABhzgih6UwX3wAXYVnP/gTMYD2JVwFWBj\n",
       "EqmEV7y8BL8SJt8HOEx5e+f1qgkgXsgDZHG+GwkMb6BKGnjPcoB1ucK1cjgA5TgNGPKBlhswMLAF\n",
       "sP3jSQBJOMCVBAP5O4H6DjIwsP4EBg5YDyiUzMvLywtBrBgnIPGA+QKDLZB+4wkkgGxwoAvADOFu\n",
       "BLlK/wH3byC1RAHEDuADO7QANUhbwO4ABfRDhcMMXGCJu6g+lQGr5AIqm7+vmUETLMEyAUVJD4N+\n",
       "AoT54i5nG0SO76AespI3a/sDMCKAaSFqBCwhEI1cDnyWeJSAvMJ+gWcBNKCxAVCQcuY2gZiPE3Ak\n",
       "zIiTUEYUkAEAGW9IzKLNOjgAAAAASUVORK5CYII=\n",
       "\" style=\"display:inline;vertical-align:middle;\" /></a>, <a class=\"ProveItLink\" href=\"../../../../../../__pv_it/common/ff7dba4ef0bbe791ab573bf2d9c220a304399ac80/expr.ipynb\"><img src=\"data:image/png;base64,iVBORw0KGgoAAAANSUhEUgAAAAsAAAANBAMAAACN24kIAAAAMFBMVEX////c3NwyMjK6urpEREQi\n",
       "IiLMzMwQEBCqqqp2dnZUVFSYmJhmZmaIiIju7u4AAADlKNhoAAAAAXRSTlMAQObYZgAAAAlwSFlz\n",
       "AAAOxAAADsQBlSsOGwAAAFhJREFUCNdj4LuzgeEVAwMnRwHDfgaGDJ4AhiUMDA/YLzDUMjAw2D9g\n",
       "+wakDjHwFgApLwaWBUDqFIP9BiD1au55AQYQmATEnAp8FUCK9QLXBCDFsfcwkAQA5QkUAIef7yAA\n",
       "AAAASUVORK5CYII=\n",
       "\" style=\"display:inline;vertical-align:middle;\" /></a> : <a class=\"ProveItLink\" href=\"../../../../../equality/__pv_it/theorems/8dc625ee9fbf5f96228c059ed58b16ec83d4e40d0/expr.ipynb\"><img src=\"data:image/png;base64,iVBORw0KGgoAAAANSUhEUgAAADMAAAANBAMAAAD2/0vEAAAAMFBMVEX///9ERES6uroQEBAyMjLc\n",
       "3NyYmJgiIiJmZmaqqqp2dnbMzMxUVFSIiIju7u4AAAAd7oVFAAAAAXRSTlMAQObYZgAAAAlwSFlz\n",
       "AAAOxAAADsQBlSsOGwAAAJpJREFUGNNjYHh75/WqCQwogO9GAsMbIN3Ae5ajAEhzlIPBASCTi9OA\n",
       "IZ+BgS2A7R9PAqqunUC1BxkYuBk4HBjQwAPmCwy2IAaQRgf6D7h/g+kAvgeodjG0MPAaMDA8VDjM\n",
       "wIWuS4aBEahk/r5mBk10qR4GfaDLXtzlbJuALvVmbX8AAy6wBIc4lwOfJQ4p9gs8C3BIceY2AUkA\n",
       "2hAptbp3A+oAAAAASUVORK5CYII=\n",
       "\" style=\"display:inline;vertical-align:middle;\" /></a></span></td></tr><tr><td><a name=\"0x64edff99ae7f6f9e_step2\">2</a></td><td>theorem</td><td></td><td><span style=\"font-size:20px;\"> <a class=\"ProveItLink\" href=\"../../../../../equality/_theory_nbs_/proofs/sub_left_side_into/thm_proof.ipynb\" style=\"text-decoration: none\">&nbsp;&#x22A2;&nbsp;&nbsp;</a><a class=\"ProveItLink\" href=\"../../../../../equality/__pv_it/theorems/fa7b338ac0e02abe373a31648947826ee50d3a400/expr.ipynb\"><img src=\"data:image/png;base64,iVBORw0KGgoAAAANSUhEUgAAAMIAAAAXBAMAAACrPI2eAAAAMFBMVEX///+IiIgiIiIQEBB2dnbu\n",
       "7u5ERETMzMzc3NwyMjK6urpmZmaYmJiqqqpUVFQAAAB6qHgnAAAAAXRSTlMAQObYZgAAAAlwSFlz\n",
       "AAAOxAAADsQBlSsOGwAAArNJREFUSMe1VktoE1EUPZPvNDMZJyBF8Dd0KShV7EYsBGkXIkrcVEGU\n",
       "caFUKKYobu2I4rLNRhBUqFhdKYlYsEiRqCDoKvgBBcEURYRCqZD4Xeh9v8mLYUAkvfDm3nc4752X\n",
       "++59BFgZC4QzsVJm1ITPuECdBe+6s2/v75OfrhRY9EpB64AHzF/u0tF/AKkB8smSQnoKOMuy5XdH\n",
       "IP0FyNKAVVWQXWEiSNS6lP1vNBoUxFvYAGyS6+lSklLLNEgFb1vYVWBbX9/2LimsomxPUPVglsb+\n",
       "DQeGKDf7gPvAsaglVtvsjUhFtALtfmGzPDgqxoLlAc+ASZhUsZni7MPPnT9buFu/9iwFsKfFrBKp\n",
       "sPHj0HMekIwd2E2HbuAl7VJIsKWPgV1RCraHhIcjEpyJVCiqYAfVFSxeshNUXi6/6EU6QpSCU4Gx\n",
       "LDpHlHh0O4QKVFDsRnCDRukRiwaBLZTktefmaHK9LnpdKsRriNXhSZzXtiRCIyPdUAr8MspBks7y\n",
       "gqK9l1jTNTFJCV7j+NeoJd1mul9TmCqYizBLEs+yi2BE6zjZWEiG8VMpHAVGpj8gQeFTGufZCeyt\n",
       "udfkqil3nOQOe4avKTzJrS8g40s844dE/nwqMnqWlQKV6Psz93BHFq7DqE5dljR/dp2842oKS+yT\n",
       "rUs87beIOtkqfnUldAo4lMvOs3RuUrS4fElO85c9Nh0f1xR28iz7EudZYkSRpZCsWSwETE9FU7Rx\n",
       "Mm/270YlmSdGWasl8zt3HgRuuJIYblf+u6jssGfCN9AoDtMpB3F3Jlcgl50/oSn0Nnh9jkLgqUAS\n",
       "5VpF1m1UBRfb8axyBzGm90PYaRwfCYnCFFm3kQ4pYTeVW8iUOhWsQOBzIVGYIutmyjs3gna8qtzt\n",
       "1ehUwDDH2fNU1WFF/i9r/6uQ1L7/bn8AGCmqIacF6W0AAAAASUVORK5CYII=\n",
       "\" style=\"display:inline;vertical-align:middle;\" /></a></span></td></tr>\n",
       "<tr><td>&nbsp;</td><td colspan=4 style-\"text-align:left\"><a class=\"ProveItLink\" href=\"../../../../../equality/_theory_nbs_/proofs/sub_left_side_into/thm_proof.ipynb\">proveit.logic.equality.sub_left_side_into</a></td></tr><tr><td><a name=\"0x64edff99ae7f6f9e_step3\">3</a></td><td>instantiation</td><td><a href=\"#0x64edff99ae7f6f9e_step5\">5</a>, <a href=\"#0x64edff99ae7f6f9e_step6\">6</a></td><td><span style=\"font-size:20px;\"><a class=\"ProveItLink\" href=\"../../../../../equality/__pv_it/theorems/73829d3be05f2b12292db7642d7f9d4a94d650a00/expr.ipynb\"><img src=\"data:image/png;base64,iVBORw0KGgoAAAANSUhEUgAAADMAAAAUCAMAAAAX1vWWAAAAPFBMVEX///8NDQ0WFhYLCwsYGBhE\n",
       "RES6uroQEBAyMjLc3NyYmJgiIiJmZmaqqqp2dnbMzMxUVFSIiIju7u4AAAD+DEmOAAAAAXRSTlMA\n",
       "QObYZgAAAAlwSFlzAAAOxAAADsQBlSsOGwAAANVJREFUOMudU90agyAIZT9lGSjQ+7/rxNY2l7qv\n",
       "cYGWwOEcEaBrqHDW4nA6BYZ4Hob/gJlPp4xtGBVhjSHQ98E0l2HobcmFEEBYAJeXwEu2+838CysA\n",
       "ubT41dxsGwX2XZhIW1U2+U1OnCpssGQA4ASeDj43TRgrkpqBuMb9K52rFnyul43VW7vcjBgnHUZg\n",
       "lzmWMIdJG3h3tEbFlDOWUhMe55Wto6w3iqQIT79g0s0EwbU9GhTq/8PUHpsKjIWro2aKr8As6T44\n",
       "tGGWyvMkLzj2Hk533h9UTgjQ0ngz3AAAAABJRU5ErkJggg==\n",
       "\" style=\"display:inline;vertical-align:middle;\" /></a> <a class=\"ProveItLink\" href=\"../../../__pv_it/_proof_in_singleton_eval_false/aa6d989b221aed6942cc384f3a0425a707e4c8990/proof.ipynb\" style=\"text-decoration: none\">&nbsp;&#x22A2;&nbsp;&nbsp;</a><a class=\"ProveItLink\" href=\"../../../__pv_it/_proof_in_singleton_eval_false/4a55b82579afc2f23793b10efe3a09742a3d37730/expr.ipynb\"><img src=\"data:image/png;base64,iVBORw0KGgoAAAANSUhEUgAAAGwAAAAVBAMAAABRZRb3AAAAMFBMVEX////MzMxUVFRERES6uroi\n",
       "IiIQEBCYmJhmZmYyMjLu7u52dnaqqqqIiIjc3NwAAACW8nlqAAAAAXRSTlMAQObYZgAAAAlwSFlz\n",
       "AAAOxAAADsQBlSsOGwAAATxJREFUOMtjYGB4wIAT4JHiPYBbzhe31GkGPEYWYBF0BxFcE/BoY5iF\n",
       "RewsiOAowKetApc2Nny6GNgW4NB2Eq82zgIc2rpB/rurJb0HVY7rRgHDIgYGbgUc2qaD/Mdw6UIr\n",
       "iA4FA5BSbp4EhnoGBnZwgLWChYOQtcUAcR1D/QJ1VCNlOAIYlBkYgJqx25YCxAIMnehyC9guMOQy\n",
       "MDB+wKONAaQCDfgvYPzIwMCCyzaQIxlY/jGsQvUb0H5eoBaeABx+swWGmglTAsMGNDONGJiB2tkN\n",
       "cNi2CWjkxxUJLOgJuonBHxhnHBtwaBMF2tZ74UQNuuSivf3AbMPqgCYMdG8ayL2sArhSyE4gfopL\n",
       "kr0BqzD3BK4cINWOM9nZYRVlvcAE9BafAU5ti7GK8tS2AElm3KUC3wXcGeAeLgkAL/1Lwh/bNQIA\n",
       "AAAASUVORK5CYII=\n",
       "\" style=\"display:inline;vertical-align:middle;\" /></a></span></td></tr>\n",
       "<tr><td>&nbsp;</td><td colspan=4 style=\"text-align:left\"><span style=\"font-size:20px;\"><a class=\"ProveItLink\" href=\"../../../../../../__pv_it/common/09585084922504426caf1db2ff588a23a0932a960/expr.ipynb\"><img src=\"data:image/png;base64,iVBORw0KGgoAAAANSUhEUgAAAA8AAAAPBAMAAADJ+Ih5AAAAMFBMVEX///8QEBAiIiLu7u5ERES6\n",
       "urqYmJiIiIjMzMx2dnZUVFRmZmaqqqoyMjLc3NwAAABb1yYoAAAAAXRSTlMAQObYZgAAAAlwSFlz\n",
       "AAAOxAAADsQBlSsOGwAAAF9JREFUCNdjYACBtwxQcB9K8/yHMrjXP4Aw5s1vANN8BfUHIDIM5xPA\n",
       "jBiG/glgxgaG9wtANLv37vUOIIY5AwO/AkSGgUkASLMCdfB+ADIeAjHLPwYGk/+XGXj8/04AADnq\n",
       "Fzds8Dk2AAAAAElFTkSuQmCC\n",
       "\" style=\"display:inline;vertical-align:middle;\" /></a> : <a class=\"ProveItLink\" href=\"../../../../../equality/__pv_it/theorems/8dc625ee9fbf5f96228c059ed58b16ec83d4e40d0/expr.ipynb\"><img src=\"data:image/png;base64,iVBORw0KGgoAAAANSUhEUgAAADMAAAANBAMAAAD2/0vEAAAAMFBMVEX///9ERES6uroQEBAyMjLc\n",
       "3NyYmJgiIiJmZmaqqqp2dnbMzMxUVFSIiIju7u4AAAAd7oVFAAAAAXRSTlMAQObYZgAAAAlwSFlz\n",
       "AAAOxAAADsQBlSsOGwAAAJpJREFUGNNjYHh75/WqCQwogO9GAsMbIN3Ae5ajAEhzlIPBASCTi9OA\n",
       "IZ+BgS2A7R9PAqqunUC1BxkYuBk4HBjQwAPmCwy2IAaQRgf6D7h/g+kAvgeodjG0MPAaMDA8VDjM\n",
       "wIWuS4aBEahk/r5mBk10qR4GfaDLXtzlbJuALvVmbX8AAy6wBIc4lwOfJQ4p9gs8C3BIceY2AUkA\n",
       "2hAptbp3A+oAAAAASUVORK5CYII=\n",
       "\" style=\"display:inline;vertical-align:middle;\" /></a></span></td></tr><tr><td><a name=\"0x64edff99ae7f6f9e_step4\">4</a></td><td>instantiation</td><td><a href=\"#0x64edff99ae7f6f9e_step7\">7</a></td><td><span style=\"font-size:20px;\"> <a class=\"ProveItLink\" href=\"../../../__pv_it/_proof_in_singleton_eval_false/bd789a38a09f7a00c87123a7327af4050e7501bd0/proof.ipynb\" style=\"text-decoration: none\">&nbsp;&#x22A2;&nbsp;&nbsp;</a><a class=\"ProveItLink\" href=\"../../../__pv_it/theorems/3d9c008ee1003e9ff75063c9ab3a9f9690dc7e160/expr.ipynb\"><img src=\"data:image/png;base64,iVBORw0KGgoAAAANSUhEUgAAAK8AAAAVBAMAAADC7aNVAAAAMFBMVEX////MzMxUVFRERES6uroi\n",
       "IiIQEBCYmJhmZmYyMjLu7u52dnaqqqqIiIjc3NwAAACW8nlqAAAAAXRSTlMAQObYZgAAAAlwSFlz\n",
       "AAAOxAAADsQBlSsOGwAAAl1JREFUOMuNVT1oFEEUfve/zm6ONDaJxcFBBFE4REvDFVYhklW5Qkix\n",
       "RewUtrRQE9R4BJFcIQiisl4gREEIWh0qpFRSuKRS8OQQFEUF0wYJefNmztzMvj2cYvfNvu/75r03\n",
       "82YBoAfcEKe18Uv6OUwZUgfBRzZY38cpbWSqEcAZBvEpXZjgm6zL2/ln5iq4ephErKcLS7hosS7X\n",
       "N80HCcRTGDIQ7oT/JXwlgWgOE0Z40czhZOMCK1yMbG4wTBjh7wbn+UdRSsQH7MS81jBhhN/B1/Ot\n",
       "J6/obPyIBtXEhxDaWtitWFQH9050j4y/tk6p5lTgPs4WRo45FOHjfR4G5HoBzGN5ZNIlCnCxIcc5\n",
       "HRM4sBUvSjB9bsi1NQfhs/jslXaylOp+et9wfghXq2Ij/JWZ2yUtYIrXYT46bH7WHITPYQtQfLIX\n",
       "LuK656X15R4+omIMl/HdfoiuP/b21AFGYckuruYgfI5QsSpQre/P3JTVnoky2/jqoEY+YISB1jWH\n",
       "4iB8lmY9QdvmG+2G8cj6UhN6vlVjWQrI78Izs8Z9jg+nAFbqE+CSXNc8Y8dJ36XNq1mR5WIQJ7IB\n",
       "2I2tOAh/AfB+7DZMq+O3YQjfgJlQm44tgAfK214L8vYVpjgIPwiw1vWayi+qU4PC7TfLPW0W6pZA\n",
       "xgdxN3571a6x4iC8MGq03kuzpTt982til86mdV1HwUsLqZeQ2xKX+sJN7p7heIoj4ZP8jYo7Voiz\n",
       "67oJy7UEIsf+eRSH4CussGw379otaa6GrIqosT8I4hC8HLPK349q46c0PjOI3+mXG8L3ALZUnIZB\n",
       "p0VQAAAAAElFTkSuQmCC\n",
       "\" style=\"display:inline;vertical-align:middle;\" /></a></span></td></tr>\n",
       "<tr><td>&nbsp;</td><td colspan=4 style=\"text-align:left\"><span style=\"font-size:20px;\"><a class=\"ProveItLink\" href=\"../../../../../../__pv_it/common/a0d9d672aa5e272d907247690c152cc2c6daafb70/expr.ipynb\"><img src=\"data:image/png;base64,iVBORw0KGgoAAAANSUhEUgAAAAsAAAAJBAMAAAAWSsseAAAAMFBMVEX///9ERES6uroQEBAyMjLc\n",
       "3NyYmJgiIiJmZmaqqqp2dnbMzMxUVFSIiIju7u4AAAAd7oVFAAAAAXRSTlMAQObYZgAAAAlwSFlz\n",
       "AAAOxAAADsQBlSsOGwAAAENJREFUCNdjYHh75/WqCQwMDbxnOQoY2ALY/vEkMHAzcDgwgADzBTCl\n",
       "H8D3gOGhwmEGLgaG+fuaGTQZGF7c5WybwAAAJTwQ1a2DuB8AAAAASUVORK5CYII=\n",
       "\" style=\"display:inline;vertical-align:middle;\" /></a> : <a class=\"ProveItLink\" href=\"../../../../../../__pv_it/common/a0d9d672aa5e272d907247690c152cc2c6daafb70/expr.ipynb\"><img src=\"data:image/png;base64,iVBORw0KGgoAAAANSUhEUgAAAAsAAAAJBAMAAAAWSsseAAAAMFBMVEX///9ERES6uroQEBAyMjLc\n",
       "3NyYmJgiIiJmZmaqqqp2dnbMzMxUVFSIiIju7u4AAAAd7oVFAAAAAXRSTlMAQObYZgAAAAlwSFlz\n",
       "AAAOxAAADsQBlSsOGwAAAENJREFUCNdjYHh75/WqCQwMDbxnOQoY2ALY/vEkMHAzcDgwgADzBTCl\n",
       "H8D3gOGhwmEGLgaG+fuaGTQZGF7c5WybwAAAJTwQ1a2DuB8AAAAASUVORK5CYII=\n",
       "\" style=\"display:inline;vertical-align:middle;\" /></a>, <a class=\"ProveItLink\" href=\"../../../../../../__pv_it/common/ff7dba4ef0bbe791ab573bf2d9c220a304399ac80/expr.ipynb\"><img src=\"data:image/png;base64,iVBORw0KGgoAAAANSUhEUgAAAAsAAAANBAMAAACN24kIAAAAMFBMVEX////c3NwyMjK6urpEREQi\n",
       "IiLMzMwQEBCqqqp2dnZUVFSYmJhmZmaIiIju7u4AAADlKNhoAAAAAXRSTlMAQObYZgAAAAlwSFlz\n",
       "AAAOxAAADsQBlSsOGwAAAFhJREFUCNdj4LuzgeEVAwMnRwHDfgaGDJ4AhiUMDA/YLzDUMjAw2D9g\n",
       "+wakDjHwFgApLwaWBUDqFIP9BiD1au55AQYQmATEnAp8FUCK9QLXBCDFsfcwkAQA5QkUAIef7yAA\n",
       "AAAASUVORK5CYII=\n",
       "\" style=\"display:inline;vertical-align:middle;\" /></a> : <a class=\"ProveItLink\" href=\"../../../../../../__pv_it/common/ff7dba4ef0bbe791ab573bf2d9c220a304399ac80/expr.ipynb\"><img src=\"data:image/png;base64,iVBORw0KGgoAAAANSUhEUgAAAAsAAAANBAMAAACN24kIAAAAMFBMVEX////c3NwyMjK6urpEREQi\n",
       "IiLMzMwQEBCqqqp2dnZUVFSYmJhmZmaIiIju7u4AAADlKNhoAAAAAXRSTlMAQObYZgAAAAlwSFlz\n",
       "AAAOxAAADsQBlSsOGwAAAFhJREFUCNdj4LuzgeEVAwMnRwHDfgaGDJ4AhiUMDA/YLzDUMjAw2D9g\n",
       "+wakDjHwFgApLwaWBUDqFIP9BiD1au55AQYQmATEnAp8FUCK9QLXBCDFsfcwkAQA5QkUAIef7yAA\n",
       "AAAASUVORK5CYII=\n",
       "\" style=\"display:inline;vertical-align:middle;\" /></a></span></td></tr><tr><td><a name=\"0x64edff99ae7f6f9e_step5\">5</a></td><td>axiom</td><td></td><td><span style=\"font-size:20px;\"> <a class=\"ProveItLink\" href=\"../../../../../booleans/negation/_theory_nbs_/axioms.ipynb#negation_elim\" style=\"text-decoration: none\">&nbsp;&#x22A2;&nbsp;&nbsp;</a><a class=\"ProveItLink\" href=\"../../../../../booleans/negation/__pv_it/axioms/0fd3f403bc4d76bb1a3bc88358aa217c1bfc7dc50/expr.ipynb\"><img src=\"data:image/png;base64,iVBORw0KGgoAAAANSUhEUgAAAJcAAAAXBAMAAAD0AcCSAAAAMFBMVEX///+IiIgiIiIQEBB2dnbu\n",
       "7u5ERETMzMzc3NwyMjK6urpmZmaYmJiqqqpUVFQAAAB6qHgnAAAAAXRSTlMAQObYZgAAAAlwSFlz\n",
       "AAAOxAAADsQBlSsOGwAAAbxJREFUOMtjYCAaNFAkjQoYL4CpTlzyC4H4AYhxhwjDrkCo+Vik1oAt\n",
       "O8DAsAvEmEHYLNYJYIr3Pxa5i2ByKgNDHZDiSCBsGPcBCPW+AZdhpxkYOAMYGFguEDaMGUJ5+Bfg\n",
       "Mow5gIEHaCMnEUF2E0xyCMhfwGUYJ9AkIyUlEyIM2wLxJcP9A7gMYwHG5XYGhlQwJwCqHAUEwBhz\n",
       "wORahnoHEL1JCQT0UAzjAUZRHwMHOHmwmoOF2FDj0BzG0gWTGxj6H+ByGa8BUHcAywKwK/9iMQwq\n",
       "CARW4LSUvft9Ai7D2D8ADRSAhP9yQyyGQQVhhgUyMPAr4DKMC+gyhgkHwWyBeVgMgwrCvLmBgYHJ\n",
       "AFeY8YKs8Z0K9gHDTkzDYIJAkAiyG5SMPuByGQ8oAJrBQbqcQRjJMLe0tDQFhCAQ+IFUguR/4DKM\n",
       "GxTPfOA0vcXlfQCqyx4gBIGgiIEh7P9UBt78nw6oJgF9bAz2MdMChIcY+gvQDYMLAgFTAaFk3YRc\n",
       "ivBfQDVsA0IQFCIbCBm2B14m2DGw7p+FFgEIQRDIIGAWtqKHDZfiMAKGsTWQYBiHAH7DJBhIMIwc\n",
       "wEGBXgDy3mI9r0RDlwAAAABJRU5ErkJggg==\n",
       "\" style=\"display:inline;vertical-align:middle;\" /></a></span></td></tr>\n",
       "<tr><td>&nbsp;</td><td colspan=4 style-\"text-align:left\"><a class=\"ProveItLink\" href=\"../../../../../booleans/negation/_theory_nbs_/axioms.ipynb#negation_elim\">proveit.logic.booleans.negation.negation_elim</a></td></tr><tr><td><a name=\"0x64edff99ae7f6f9e_step6\">6</a></td><td>instantiation</td><td><a href=\"#0x64edff99ae7f6f9e_step8\">8</a>, <a href=\"#0x64edff99ae7f6f9e_step9\">9</a></td><td><span style=\"font-size:20px;\"><a class=\"ProveItLink\" href=\"../../../../../equality/__pv_it/theorems/73829d3be05f2b12292db7642d7f9d4a94d650a00/expr.ipynb\"><img src=\"data:image/png;base64,iVBORw0KGgoAAAANSUhEUgAAADMAAAAUCAMAAAAX1vWWAAAAPFBMVEX///8NDQ0WFhYLCwsYGBhE\n",
       "RES6uroQEBAyMjLc3NyYmJgiIiJmZmaqqqp2dnbMzMxUVFSIiIju7u4AAAD+DEmOAAAAAXRSTlMA\n",
       "QObYZgAAAAlwSFlzAAAOxAAADsQBlSsOGwAAANVJREFUOMudU90agyAIZT9lGSjQ+7/rxNY2l7qv\n",
       "cYGWwOEcEaBrqHDW4nA6BYZ4Hob/gJlPp4xtGBVhjSHQ98E0l2HobcmFEEBYAJeXwEu2+838CysA\n",
       "ubT41dxsGwX2XZhIW1U2+U1OnCpssGQA4ASeDj43TRgrkpqBuMb9K52rFnyul43VW7vcjBgnHUZg\n",
       "lzmWMIdJG3h3tEbFlDOWUhMe55Wto6w3iqQIT79g0s0EwbU9GhTq/8PUHpsKjIWro2aKr8As6T44\n",
       "tGGWyvMkLzj2Hk533h9UTgjQ0ngz3AAAAABJRU5ErkJggg==\n",
       "\" style=\"display:inline;vertical-align:middle;\" /></a> <a class=\"ProveItLink\" href=\"../../../__pv_it/_proof_in_singleton_eval_false/f9f4ea7f4c523c5595a1f1be50789a150ec02db80/proof.ipynb\" style=\"text-decoration: none\">&nbsp;&#x22A2;&nbsp;&nbsp;</a><a class=\"ProveItLink\" href=\"../../../../../equality/__pv_it/theorems/faee4bbbe040bf704ee11762db4f42211a40e3750/expr.ipynb\"><img src=\"data:image/png;base64,iVBORw0KGgoAAAANSUhEUgAAAFEAAAAVBAMAAADMaB9/AAAAMFBMVEX////MzMxERES6uroQEBCY\n",
       "mJgyMjLu7u52dnaqqqqIiIhUVFTc3NwiIiJmZmYAAAAM3gM0AAAAAXRSTlMAQObYZgAAAAlwSFlz\n",
       "AAAOxAAADsQBlSsOGwAAATBJREFUKM9jYECAAww4AaoU1wTcKq1QeDNwK2TgCkDisCfgUcmQjsTm\n",
       "C8CnMg6JzYJPIQNLAYI9Da9KNiQbXwBx1erCDrQQYF8XwFDNwMCxASGUCsQPuHbxXQC5+S4YgGQ5\n",
       "OB0Y4hkYWBMY3oKE7gGFbgK5B1i/c6N5TBKodRMDA1A9GJwGYmcGBkYGPoygKmBZwOAFlPqAohLo\n",
       "xQUYfrEvYPzIwMCMZOZNsPAB9gJUdzI8Y+ACquK8AFF5Doi1GBiKDLYwcKCbqc3ABNTBqoAQ6WZg\n",
       "mC/+hMESXeVrBnugJ/kaECKyDAx1qzifYiSo6q73wDTHa4AQ4RXAFT9tQHwWic/6AKsyjgR2TyD1\n",
       "FFlMB6tK3gXcQCfyKCCLFWFVyRn1GEgyoWQPngW4k9IaBgYASgxJSIkpWvQAAAAASUVORK5CYII=\n",
       "\" style=\"display:inline;vertical-align:middle;\" /></a></span></td></tr>\n",
       "<tr><td>&nbsp;</td><td colspan=4 style=\"text-align:left\"><span style=\"font-size:20px;\"><a class=\"ProveItLink\" href=\"../../../../../../__pv_it/common/a0d9d672aa5e272d907247690c152cc2c6daafb70/expr.ipynb\"><img src=\"data:image/png;base64,iVBORw0KGgoAAAANSUhEUgAAAAsAAAAJBAMAAAAWSsseAAAAMFBMVEX///9ERES6uroQEBAyMjLc\n",
       "3NyYmJgiIiJmZmaqqqp2dnbMzMxUVFSIiIju7u4AAAAd7oVFAAAAAXRSTlMAQObYZgAAAAlwSFlz\n",
       "AAAOxAAADsQBlSsOGwAAAENJREFUCNdjYHh75/WqCQwMDbxnOQoY2ALY/vEkMHAzcDgwgADzBTCl\n",
       "H8D3gOGhwmEGLgaG+fuaGTQZGF7c5WybwAAAJTwQ1a2DuB8AAAAASUVORK5CYII=\n",
       "\" style=\"display:inline;vertical-align:middle;\" /></a> : <a class=\"ProveItLink\" href=\"../../../../../../__pv_it/common/a0d9d672aa5e272d907247690c152cc2c6daafb70/expr.ipynb\"><img src=\"data:image/png;base64,iVBORw0KGgoAAAANSUhEUgAAAAsAAAAJBAMAAAAWSsseAAAAMFBMVEX///9ERES6uroQEBAyMjLc\n",
       "3NyYmJgiIiJmZmaqqqp2dnbMzMxUVFSIiIju7u4AAAAd7oVFAAAAAXRSTlMAQObYZgAAAAlwSFlz\n",
       "AAAOxAAADsQBlSsOGwAAAENJREFUCNdjYHh75/WqCQwMDbxnOQoY2ALY/vEkMHAzcDgwgADzBTCl\n",
       "H8D3gOGhwmEGLgaG+fuaGTQZGF7c5WybwAAAJTwQ1a2DuB8AAAAASUVORK5CYII=\n",
       "\" style=\"display:inline;vertical-align:middle;\" /></a>, <a class=\"ProveItLink\" href=\"../../../../../../__pv_it/common/ff7dba4ef0bbe791ab573bf2d9c220a304399ac80/expr.ipynb\"><img src=\"data:image/png;base64,iVBORw0KGgoAAAANSUhEUgAAAAsAAAANBAMAAACN24kIAAAAMFBMVEX////c3NwyMjK6urpEREQi\n",
       "IiLMzMwQEBCqqqp2dnZUVFSYmJhmZmaIiIju7u4AAADlKNhoAAAAAXRSTlMAQObYZgAAAAlwSFlz\n",
       "AAAOxAAADsQBlSsOGwAAAFhJREFUCNdj4LuzgeEVAwMnRwHDfgaGDJ4AhiUMDA/YLzDUMjAw2D9g\n",
       "+wakDjHwFgApLwaWBUDqFIP9BiD1au55AQYQmATEnAp8FUCK9QLXBCDFsfcwkAQA5QkUAIef7yAA\n",
       "AAAASUVORK5CYII=\n",
       "\" style=\"display:inline;vertical-align:middle;\" /></a> : <a class=\"ProveItLink\" href=\"../../../../../../__pv_it/common/ff7dba4ef0bbe791ab573bf2d9c220a304399ac80/expr.ipynb\"><img src=\"data:image/png;base64,iVBORw0KGgoAAAANSUhEUgAAAAsAAAANBAMAAACN24kIAAAAMFBMVEX////c3NwyMjK6urpEREQi\n",
       "IiLMzMwQEBCqqqp2dnZUVFSYmJhmZmaIiIju7u4AAADlKNhoAAAAAXRSTlMAQObYZgAAAAlwSFlz\n",
       "AAAOxAAADsQBlSsOGwAAAFhJREFUCNdj4LuzgeEVAwMnRwHDfgaGDJ4AhiUMDA/YLzDUMjAw2D9g\n",
       "+wakDjHwFgApLwaWBUDqFIP9BiD1au55AQYQmATEnAp8FUCK9QLXBCDFsfcwkAQA5QkUAIef7yAA\n",
       "AAAASUVORK5CYII=\n",
       "\" style=\"display:inline;vertical-align:middle;\" /></a></span></td></tr><tr><td><a name=\"0x64edff99ae7f6f9e_step7\">7</a></td><td>conjecture</td><td></td><td><span style=\"font-size:20px;\"> <a class=\"ProveItLink\" href=\"../singleton_def/thm_proof.ipynb\" style=\"text-decoration: none\">&nbsp;&#x22A2;&nbsp;&nbsp;</a><a class=\"ProveItLink\" href=\"../../../__pv_it/theorems/296779bc6f9fdbba88287df23d1773ef33af3efb0/expr.ipynb\"><img src=\"data:image/png;base64,iVBORw0KGgoAAAANSUhEUgAAAO8AAAAWBAMAAADaw9ZbAAAAMFBMVEX///+IiIgiIiIQEBB2dnbu\n",
       "7u5ERETMzMzc3NwyMjK6urpmZmaYmJiqqqpUVFQAAAB6qHgnAAAAAXRSTlMAQObYZgAAAAlwSFlz\n",
       "AAAOxAAADsQBlSsOGwAAAx5JREFUSMe9Vk1oE1EQnrS72WY3GzcHpVosIQdFQYkiCILQggg9VLao\n",
       "FSmUVhDEgxSrRyVaPYhY4qEgotAeelCQ1ir+ETS9iFCkQbxIBVPUnBS8lPYiOPPeJM2+fRvEgw++\n",
       "7Ozu973Jm5k3bwEiR54RHuZDNm5Fcdr+ZVoesbKEZmyeZsOq+gBTGsbW6HmnGBW6+awhfGSEh7tS\n",
       "N+Moj5XCjK4mCypJvKKbO5pwFiQ0w8gEzYkQ42SzUE5IXKaMDIVfOyWJv3C8EGIUmzlekEhglgxN\n",
       "KlsZDTE6ld2hddzqq+JcM8dERyRxVQnN60+M+rBv+xErTqiBcQvNHBOdsDeb3ad5/ZTR13nikAjI\n",
       "Db/Rm9lRgkF2bFTUNGFtmenvF3qVsmFNReI5wGmN43uM2diykwkWoIMLMtwcLGL4KahJscC5LI3d\n",
       "tTU50OnNBZ+zhuiEcWiraBzvkkjmkyspEcr18I3h/SX8N1Usy98UWTWlLRiid7Do/wg+Zg3RCXHf\n",
       "mNQ4PiBhifVRr8CUZLeRNX4Xf/xWD/bgdfA+vvqllg9OOAIv1SlZQ3SC6+lqq+YYZ/FkgupbznpG\n",
       "2Z7xrVW89KAPO6dxDOJ/BYfUEF1ICvP4k37RgQ3U7oRUMNTIzpuirDKBdoXrofyKJuZmlBxTqMFe\n",
       "g+PKc9ZkWNKLbSSWryaQ3bfBH+XZhyX6J7+CIR6kg3vonPBviOJS+0/cA/NsKgdq45QaogvJGN3A\n",
       "sIXm9Q+wiUlHJL5cfAKP5PYrBxy/hpkSm47qADeLuzqQs9W+JDVEF5LUCD1cE6++wTKTzksMpN2i\n",
       "1JvV6UbHg91v8my2qMVpZcB87C29V3MsNURfl1g5cYTuhP21LTEi0dC6DgdbZk/NvBqqou1RXauH\n",
       "6XXJmFFw4Bgq7NrWSM5KRBwSRsE8WHNc1J4DGp3UFBslzpbujTBahqW39T5xhqE5UbGiWrxUFzcx\n",
       "zdkW135iSA3RVUnZzMfrDb+fofmuwXblzouD/GhJ68Uc0n5ACA3RFYntp7wH69N7Eppx8ycb18ho\n",
       "1zCuRB9O7WFJEuz5LvhP4w8HL8OC7SycHAAAAABJRU5ErkJggg==\n",
       "\" style=\"display:inline;vertical-align:middle;\" /></a></span></td></tr>\n",
       "<tr><td>&nbsp;</td><td colspan=4 style-\"text-align:left\"><a class=\"ProveItLink\" href=\"../singleton_def/thm_proof.ipynb\">proveit.logic.sets.enumeration.singleton_def</a></td></tr><tr><td><a name=\"0x64edff99ae7f6f9e_step8\">8</a></td><td>theorem</td><td></td><td><span style=\"font-size:20px;\"> <a class=\"ProveItLink\" href=\"../../../../../equality/_theory_nbs_/proofs/unfold_not_equals/thm_proof.ipynb\" style=\"text-decoration: none\">&nbsp;&#x22A2;&nbsp;&nbsp;</a><a class=\"ProveItLink\" href=\"../../../../../equality/__pv_it/theorems/e42f6f162f844bb3f18b6f3cc764b6573b311a9d0/expr.ipynb\"><img src=\"data:image/png;base64,iVBORw0KGgoAAAANSUhEUgAAAL8AAAAXCAMAAABte263AAAAOVBMVEX///82NjYbGxsSEhKIiIgi\n",
       "IiIQEBB2dnbu7u5ERETMzMzc3NwyMjK6urpmZmaYmJiqqqpUVFQAAAAnLjGdAAAAAXRSTlMAQObY\n",
       "ZgAAAAlwSFlzAAAOxAAADsQBlSsOGwAAAmBJREFUWMPNV4t27RAQ1XbCIF75/4+9CAlHkHSt3NVZ\n",
       "7ZnWDDb2PA4h74t8bLi1nCT/R8A+NYxFQandMW7NK/Ate2qYXogptFZ5eH3lQXB9apjLiqcW+QEk\n",
       "f+X6tXlqmIvRhc6HYfYV/PSx4c6ieGqT7mF9h/3rU8MtAplC0yUIZe/Qh00MCOBQsNnrI0S+4c52\n",
       "lkgftRbhT443wAx3GN5U1+DXBAdEL8cmSyFHdmTEBsKZbSd+eryopcsfMxlFOFOXw4v9BKUrg5EB\n",
       "FBI3jmZh9xO6HYJNwbPrcPWd7W/j752fqo5jMoS31/NQ8AhpKFd0r11iI4W2cDN6B/id/B1+coKa\n",
       "VN0tJPtN7P+k+096JSYtAaCl/8kF2lUFusJfeRLFrmdkmrT4T4Pa/CqIY/7vjwSZN0ulmU1FAGRg\n",
       "2GpTyBN/ZkEv8R+emgf58b/mYgbhn3crdWlAroijMT5nb+/yR4gaXmlJ83hcV6SdMBwP+CX+yjN3\n",
       "JO2MI9O18R4NdhOoPX41LZ7ahZcydfLN2onDbyuI7LzZQY//pyfy3gwill5GiQbUAMRqM6/96Bjo\n",
       "vOWial0sS4vGOpip6OBPnoE/31888qed4UdEB1DXMMjRKcvIpdYHN2l08QxFlrZQ22X+OT1J0QK2\n",
       "M85eq9uE3YeO1NatX9MCalAMICSq6Ooflq/X+fPwrEv354xg7bXl/Em/vsBOzrJTHnbMHj/6DbiZ\n",
       "5n978r2ZUQUHuWm43MTA8U0lH3x0AQpjIKp1Xr8Kl2ZGvKZeeZJAfiMga33NznAGA2xef22RA5oZ\n",
       "f0vk34P0D9r3GG/sNSEOAAAAAElFTkSuQmCC\n",
       "\" style=\"display:inline;vertical-align:middle;\" /></a></span></td></tr>\n",
       "<tr><td>&nbsp;</td><td colspan=4 style-\"text-align:left\"><a class=\"ProveItLink\" href=\"../../../../../equality/_theory_nbs_/proofs/unfold_not_equals/thm_proof.ipynb\">proveit.logic.equality.unfold_not_equals</a></td></tr><tr><td><a name=\"0x64edff99ae7f6f9e_step9\">9</a></td><td>assumption</td><td></td><td><span style=\"font-size:20px;\"><a class=\"ProveItLink\" href=\"../../../../../equality/__pv_it/theorems/73829d3be05f2b12292db7642d7f9d4a94d650a00/expr.ipynb\"><img src=\"data:image/png;base64,iVBORw0KGgoAAAANSUhEUgAAADMAAAAUCAMAAAAX1vWWAAAAPFBMVEX///8NDQ0WFhYLCwsYGBhE\n",
       "RES6uroQEBAyMjLc3NyYmJgiIiJmZmaqqqp2dnbMzMxUVFSIiIju7u4AAAD+DEmOAAAAAXRSTlMA\n",
       "QObYZgAAAAlwSFlzAAAOxAAADsQBlSsOGwAAANVJREFUOMudU90agyAIZT9lGSjQ+7/rxNY2l7qv\n",
       "cYGWwOEcEaBrqHDW4nA6BYZ4Hob/gJlPp4xtGBVhjSHQ98E0l2HobcmFEEBYAJeXwEu2+838CysA\n",
       "ubT41dxsGwX2XZhIW1U2+U1OnCpssGQA4ASeDj43TRgrkpqBuMb9K52rFnyul43VW7vcjBgnHUZg\n",
       "lzmWMIdJG3h3tEbFlDOWUhMe55Wto6w3iqQIT79g0s0EwbU9GhTq/8PUHpsKjIWro2aKr8As6T44\n",
       "tGGWyvMkLzj2Hk533h9UTgjQ0ngz3AAAAABJRU5ErkJggg==\n",
       "\" style=\"display:inline;vertical-align:middle;\" /></a> <a class=\"ProveItLink\" href=\"../../../__pv_it/_proof_in_singleton_eval_false/63bd537b46a2c3a3a39772e7a9da8601e286087b0/proof.ipynb\" style=\"text-decoration: none\">&nbsp;&#x22A2;&nbsp;&nbsp;</a><a class=\"ProveItLink\" href=\"../../../../../equality/__pv_it/theorems/73829d3be05f2b12292db7642d7f9d4a94d650a00/expr.ipynb\"><img src=\"data:image/png;base64,iVBORw0KGgoAAAANSUhEUgAAADMAAAAUCAMAAAAX1vWWAAAAPFBMVEX///8NDQ0WFhYLCwsYGBhE\n",
       "RES6uroQEBAyMjLc3NyYmJgiIiJmZmaqqqp2dnbMzMxUVFSIiIju7u4AAAD+DEmOAAAAAXRSTlMA\n",
       "QObYZgAAAAlwSFlzAAAOxAAADsQBlSsOGwAAANVJREFUOMudU90agyAIZT9lGSjQ+7/rxNY2l7qv\n",
       "cYGWwOEcEaBrqHDW4nA6BYZ4Hob/gJlPp4xtGBVhjSHQ98E0l2HobcmFEEBYAJeXwEu2+838CysA\n",
       "ubT41dxsGwX2XZhIW1U2+U1OnCpssGQA4ASeDj43TRgrkpqBuMb9K52rFnyul43VW7vcjBgnHUZg\n",
       "lzmWMIdJG3h3tEbFlDOWUhMe55Wto6w3iqQIT79g0s0EwbU9GhTq/8PUHpsKjIWro2aKr8As6T44\n",
       "tGGWyvMkLzj2Hk533h9UTgjQ0ngz3AAAAABJRU5ErkJggg==\n",
       "\" style=\"display:inline;vertical-align:middle;\" /></a></span></td></tr>\n",
       "</table>"
      ],
      "text/plain": [
       "\tstep type\trequirements\tstatement\n",
       "0\tgeneralization\t1\t|- forall_{x, y | x != y} ((x in {y}) = FALSE)\n",
       "1\tinstantiation\t2, 3, 4\t{x != y} |- (x in {y}) = FALSE\n",
       "\tP(_a) : _a = FALSE, x : x in {y}, y : x = y\n",
       "2\ttheorem\t\t|- forall_{P, x, y | P(y), x = y} P(x)\n",
       "\tproveit.logic.equality.sub_left_side_into\n",
       "3\tinstantiation\t5, 6\t{x != y} |- (x = y) = FALSE\n",
       "\tA : x = y\n",
       "4\tinstantiation\t7\t|- (x in {y}) = (x = y)\n",
       "\tx : x, y : y\n",
       "5\taxiom\t\t|- forall_{A | [not](A)} (A = FALSE)\n",
       "\tproveit.logic.booleans.negation.negation_elim\n",
       "6\tinstantiation\t8, 9\t{x != y} |- [not](x = y)\n",
       "\tx : x, y : y\n",
       "7\tconjecture\t\t|- forall_{x, y} ((x in {y}) = (x = y))\n",
       "\tproveit.logic.sets.enumeration.singleton_def\n",
       "8\ttheorem\t\t|- forall_{x, y | x != y} [not](x = y)\n",
       "\tproveit.logic.equality.unfold_not_equals\n",
       "9\tassumption\t\t{x != y} |- x != y"
      ]
     },
     "execution_count": 10,
     "metadata": {},
     "output_type": "execute_result"
    }
   ],
   "source": [
    "%qed"
   ]
  }
 ],
 "metadata": {
  "kernelspec": {
   "display_name": "Python 3",
   "language": "python",
   "name": "python3"
  },
  "language_info": {
   "codemirror_mode": {
    "name": "ipython",
    "version": 3
   },
   "file_extension": ".py",
   "mimetype": "text/x-python",
   "name": "python",
   "nbconvert_exporter": "python",
   "pygments_lexer": "ipython3",
   "version": "3.7.3"
  }
 },
 "nbformat": 4,
 "nbformat_minor": 1
}
