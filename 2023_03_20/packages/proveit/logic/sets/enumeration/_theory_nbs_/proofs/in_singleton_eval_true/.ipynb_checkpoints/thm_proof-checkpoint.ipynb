{
 "cells": [
  {
   "cell_type": "markdown",
   "metadata": {},
   "source": [
    "Proof of <a class=\"ProveItLink\" href=\"../../../../../../_theory_nbs_/theory.ipynb\">proveit</a>.<a class=\"ProveItLink\" href=\"../../../../../_theory_nbs_/theory.ipynb\">logic</a>.<a class=\"ProveItLink\" href=\"../../../../_theory_nbs_/theory.ipynb\">sets</a>.<a class=\"ProveItLink\" href=\"../../theory.ipynb\">enumeration</a>.<a class=\"ProveItLink\" href=\"../../theorems.ipynb#in_singleton_eval_true\">in_singleton_eval_true</a> theorem\n",
    "========\n",
    "*** see <a href=\"../__pv_it/d54b0fde8b81d29e5cd335f6b161fc34b2a266ec0/dependencies.ipynb\" class=\"ProveItLink\">dependencies</a> ***"
   ]
  },
  {
   "cell_type": "code",
   "execution_count": 1,
   "metadata": {},
   "outputs": [
    {
     "data": {
      "text/html": [
       "Under these <a href=\"presumptions.txt\">presumptions</a>, we begin our proof of<br><strong id=\"in_singleton_eval_true\">in_singleton_eval_true:</strong> <a class=\"ProveItLink\" href=\"../../../__pv_it/theorems/ba2f7155d9e81ea40b7d45d6eb0cc3c5b7821d470/expr.ipynb\"><img src=\"data:image/png;base64,iVBORw0KGgoAAAANSUhEUgAAAO8AAAAXBAMAAAARnwX+AAAAMFBMVEX///+IiIgiIiIQEBB2dnbu\n",
       "7u5ERETMzMzc3NwyMjK6urpmZmaYmJiqqqpUVFQAAAB6qHgnAAAAAXRSTlMAQObYZgAAAAlwSFlz\n",
       "AAAOxAAADsQBlSsOGwAAAtlJREFUSMe1Vk1oE0EUfjG72WR/4hZRxEIJOSgKShRBEIVWROhB2aJU\n",
       "UAitoHgqxeJJlMXqwYO6HgQRhXjwICgNKv5R6ubixYOreBGFtigBD0IvxV4E3/zsTzYz0T30wTf7\n",
       "dr7JfDPvvZkNQHZzOQR2osGe13uM6cn0slzAIKLuOszR2ug8kE5BmAXifMsi/JlDYPNO6BVw3pyf\n",
       "5p9Wie2gzBvScSeDruoxiOxA5CkVbG4LhnykLTKX8FEcyyBs+Az/IfxeKoxMCaOjBBmE8xyJzJ6q\n",
       "bhUK5x2ZMDImLr6UJcVfOCLTbzmSHZd8mTBhdlWru7MIP+cYGTh+kEbqmpMMtdrvQ50LKwsyYcK8\n",
       "BDjdRTflwvc4mrlFo5KqzNc4pVWDDxj+Gr6aXrKUk8KEuQHF7oX1qLbtDKZrLpdpKOMKL+4DuIir\n",
       "aaP7B9+tmmzHhCk4SiOL8F4GDQymqGGuqpup7k+cyMnbsBNf6veRWpIJE8ayBbX1b2GsTJud63js\n",
       "BZKzGUf7jY9hXIQu3TFlvBY2fa/68QLVB6CcEGaddGBIRKFGBVelZVWJZ52geSb5tZZJQCuyHFPm\n",
       "MF4jObddwhIdWetMxcK088UZND8iAMYZRhvfQWHL67xAJuh1qdDiGpPtmDLTOM6EcQ3dq59gQyzM\n",
       "OyFJABxhmD//DJ6wMxl0CM/BjM+PkzEoE6ZMeZK4K7TjBywmc7wSjQ8JgHMMJ/usWaaoth8mhetD\n",
       "b10uvKa7auExbWNGqxXJYxvsSQiTThbqiMDfTDIkrq5DnVfmcHhzXZZWaMRMK54BxwC26EuxMO3k\n",
       "FhKYgCaD5COheOr+UHhWKhwxxqah9TAVwNd3XixMO7mFBNpZDoGtw2DYZZI/csjlH700E6huwRee\n",
       "44hAG+UQ2M0ArBb9wh/F4QXpP5wUoztl+5H4AokIslybQbSTOV7hV35hs1Ea6RRjgt4aFAtHxGqb\n",
       "u+oKfwFlALlejUH44AAAAABJRU5ErkJggg==\n",
       "\" style=\"display:inline;vertical-align:middle;\" /></a><br>(see <a class=\"ProveItLink\" href=\"../../../__pv_it/theorems/debeaaf4fec351f6eaa82d6d674489228e92327d0/dependencies.ipynb\">dependencies</a>)<br>"
      ],
      "text/plain": [
       "in_singleton_eval_true: forall_{x, y | x = y} ((x in {y}) = TRUE)"
      ]
     },
     "execution_count": 1,
     "metadata": {},
     "output_type": "execute_result"
    }
   ],
   "source": [
    "import proveit\n",
    "from proveit import defaults\n",
    "from proveit import x, y\n",
    "from proveit.logic import Equals, TRUE\n",
    "from proveit.logic.sets.enumeration import singleton_def\n",
    "%proving in_singleton_eval_true"
   ]
  },
  {
   "cell_type": "code",
   "execution_count": 2,
   "metadata": {},
   "outputs": [
    {
     "data": {
      "text/html": [
       "<strong id=\"defaults.assumptions\">defaults.assumptions:</strong> <a class=\"ProveItLink\" href=\"../../../../../equality/__pv_it/theorems/a2f273775b34b7bb503fbfadbc586772d723fb0d0/expr.ipynb\"><img src=\"data:image/png;base64,iVBORw0KGgoAAAANSUhEUgAAAD8AAAAVBAMAAAADRiu8AAAAMFBMVEX////MzMxUVFRERES6uroi\n",
       "IiIQEBCYmJhmZmYyMjLu7u52dnaqqqqIiIjc3NwAAACW8nlqAAAAAXRSTlMAQObYZgAAAAlwSFlz\n",
       "AAAOxAAADsQBlSsOGwAAARlJREFUKM99kj1Lw1AUhp+25sN8FBcXcSgIbkJxV/oDlHZxc8jgqJDR\n",
       "RSwiFnEwm+AU28VFKG4iBVdxMDi5KFncdXXyTTeTJhfuOffyPrnnvfcESCkdU8l/Kge2s/BSruOH\n",
       "4EQVANdgh1XAIZhVOmbMcyUwH3KhdPd285i7i/MeMgS3xZV2fX/N7inbO9PR0tL1Ao7BithVTK3f\n",
       "es7rsr5YAWF7UMMu3DU2Ew4kfWeAzCYFe9249gNzQVZCu9SJ/3vgHD9QiR4bMOqs4uZPWKch0Gpz\n",
       "D69LZ2zlgRO68m2PWYTbD29QaOlwcqlmGx2MhbJXfND8UpX+TNWNnH2lgebmTMBI6mNotrUczQS8\n",
       "o1PFRvbPNZPyZn7CH3coOvPBpSeOAAAAAElFTkSuQmCC\n",
       "\" style=\"display:inline;vertical-align:middle;\" /></a><br>"
      ],
      "text/plain": [
       "defaults.assumptions: (x = y)"
      ]
     },
     "execution_count": 2,
     "metadata": {},
     "output_type": "execute_result"
    }
   ],
   "source": [
    "defaults.assumptions = in_singleton_eval_true.conditions"
   ]
  },
  {
   "cell_type": "code",
   "execution_count": 3,
   "metadata": {},
   "outputs": [
    {
     "data": {
      "text/html": [
       "<strong id=\"state1\">state1:</strong> <span style=\"font-size:20px;\"><a class=\"ProveItLink\" href=\"../../../../../equality/__pv_it/theorems/8dc625ee9fbf5f96228c059ed58b16ec83d4e40d0/expr.ipynb\"><img src=\"data:image/png;base64,iVBORw0KGgoAAAANSUhEUgAAADMAAAANBAMAAAD2/0vEAAAAMFBMVEX///9ERES6uroQEBAyMjLc\n",
       "3NyYmJgiIiJmZmaqqqp2dnbMzMxUVFSIiIju7u4AAAAd7oVFAAAAAXRSTlMAQObYZgAAAAlwSFlz\n",
       "AAAOxAAADsQBlSsOGwAAAJpJREFUGNNjYHh75/WqCQwogO9GAsMbIN3Ae5ajAEhzlIPBASCTi9OA\n",
       "IZ+BgS2A7R9PAqqunUC1BxkYuBk4HBjQwAPmCwy2IAaQRgf6D7h/g+kAvgeodjG0MPAaMDA8VDjM\n",
       "wIWuS4aBEahk/r5mBk10qR4GfaDLXtzlbJuALvVmbX8AAy6wBIc4lwOfJQ4p9gs8C3BIceY2AUkA\n",
       "2hAptbp3A+oAAAAASUVORK5CYII=\n",
       "\" style=\"display:inline;vertical-align:middle;\" /></a> <a class=\"ProveItLink\" href=\"../../../__pv_it/_proof_in_singleton_eval_true/45e35beae4eaf6f51f2e2de2b0e568d16afb773b0/proof.ipynb\" style=\"text-decoration: none\">&nbsp;&#x22A2;&nbsp;&nbsp;</a><a class=\"ProveItLink\" href=\"../../../__pv_it/_proof_in_singleton_eval_true/f7f623ede3a4891d4ce6549224221c7f4d69b0ed0/expr.ipynb\"><img src=\"data:image/png;base64,iVBORw0KGgoAAAANSUhEUgAAAGwAAAAVBAMAAABRZRb3AAAAMFBMVEX////MzMxUVFRERES6uroi\n",
       "IiIQEBCYmJhmZmYyMjLu7u52dnaqqqqIiIjc3NwAAACW8nlqAAAAAXRSTlMAQObYZgAAAAlwSFlz\n",
       "AAAOxAAADsQBlSsOGwAAATtJREFUOMtjYGB4wIAT4JHiPYBbzhe31GkGPEYWoIu0hoJAEAPXBDza\n",
       "GGZhETsLIjgK8GmrwKWNDZ8uBrYFOLSdxKuNswCHtm4g5rqrJb0HVY7rRgHDIgYGbgUc2qaD/Mdw\n",
       "6UIriAYHUyhIKTdPAkM9AwP7BOTgQ9IWA8R1DPUL1FGNlOEIYFBmYABqxm5bChALMHSiyy1gu8CQ\n",
       "y8DA+AGPNgaQCjTgv4DxIwMDCy7bQI5kYPnHsArVb0D7eYFaeAJw+M0WGGomTAkMG9DMNGJgBmpn\n",
       "N8Bh2yagkR9XJLCgJ+gmBn9gnHFswKFNFGhb74UTNeiSi/b2A7MNqwOmNncQwSqAK4XsBOKnuCTZ\n",
       "G7AKc0/gygFS7TiTnR1WUdYLTEBv8Rng1LYYqyhPbQuQZMZdKvBdwJ0B7uGSAABTA0uxX04G5gAA\n",
       "AABJRU5ErkJggg==\n",
       "\" style=\"display:inline;vertical-align:middle;\" /></a></span><br>"
      ],
      "text/plain": [
       "state1: {x = y} |- (x = y) = TRUE"
      ]
     },
     "execution_count": 3,
     "metadata": {},
     "output_type": "execute_result"
    }
   ],
   "source": [
    "state1 = Equals(Equals(x,y), TRUE).prove()"
   ]
  },
  {
   "cell_type": "code",
   "execution_count": 4,
   "metadata": {},
   "outputs": [
    {
     "data": {
      "text/html": [
       "<strong id=\"state2\">state2:</strong> <span style=\"font-size:20px;\"> <a class=\"ProveItLink\" href=\"../../../__pv_it/_proof_in_singleton_eval_true/bd789a38a09f7a00c87123a7327af4050e7501bd0/proof.ipynb\" style=\"text-decoration: none\">&nbsp;&#x22A2;&nbsp;&nbsp;</a><a class=\"ProveItLink\" href=\"../../../__pv_it/theorems/3d9c008ee1003e9ff75063c9ab3a9f9690dc7e160/expr.ipynb\"><img src=\"data:image/png;base64,iVBORw0KGgoAAAANSUhEUgAAAK8AAAAVBAMAAADC7aNVAAAAMFBMVEX////MzMxUVFRERES6uroi\n",
       "IiIQEBCYmJhmZmYyMjLu7u52dnaqqqqIiIjc3NwAAACW8nlqAAAAAXRSTlMAQObYZgAAAAlwSFlz\n",
       "AAAOxAAADsQBlSsOGwAAAl1JREFUOMuNVT1oFEEUfve/zm6ONDaJxcFBBFE4REvDFVYhklW5Qkix\n",
       "RewUtrRQE9R4BJFcIQiisl4gREEIWh0qpFRSuKRS8OQQFEUF0wYJefNmztzMvj2cYvfNvu/75r03\n",
       "82YBoAfcEKe18Uv6OUwZUgfBRzZY38cpbWSqEcAZBvEpXZjgm6zL2/ln5iq4ephErKcLS7hosS7X\n",
       "N80HCcRTGDIQ7oT/JXwlgWgOE0Z40czhZOMCK1yMbG4wTBjh7wbn+UdRSsQH7MS81jBhhN/B1/Ot\n",
       "J6/obPyIBtXEhxDaWtitWFQH9050j4y/tk6p5lTgPs4WRo45FOHjfR4G5HoBzGN5ZNIlCnCxIcc5\n",
       "HRM4sBUvSjB9bsi1NQfhs/jslXaylOp+et9wfghXq2Ij/JWZ2yUtYIrXYT46bH7WHITPYQtQfLIX\n",
       "LuK656X15R4+omIMl/HdfoiuP/b21AFGYckuruYgfI5QsSpQre/P3JTVnoky2/jqoEY+YISB1jWH\n",
       "4iB8lmY9QdvmG+2G8cj6UhN6vlVjWQrI78Izs8Z9jg+nAFbqE+CSXNc8Y8dJ36XNq1mR5WIQJ7IB\n",
       "2I2tOAh/AfB+7DZMq+O3YQjfgJlQm44tgAfK214L8vYVpjgIPwiw1vWayi+qU4PC7TfLPW0W6pZA\n",
       "xgdxN3571a6x4iC8MGq03kuzpTt982til86mdV1HwUsLqZeQ2xKX+sJN7p7heIoj4ZP8jYo7Voiz\n",
       "67oJy7UEIsf+eRSH4CussGw379otaa6GrIqosT8I4hC8HLPK349q46c0PjOI3+mXG8L3ALZUnIZB\n",
       "p0VQAAAAAElFTkSuQmCC\n",
       "\" style=\"display:inline;vertical-align:middle;\" /></a></span><br>"
      ],
      "text/plain": [
       "state2: |- (x in {y}) = (x = y)"
      ]
     },
     "execution_count": 4,
     "metadata": {},
     "output_type": "execute_result"
    }
   ],
   "source": [
    "state2 = singleton_def.instantiate({x:x, y:y}, auto_simplify=False)"
   ]
  },
  {
   "cell_type": "code",
   "execution_count": 5,
   "metadata": {},
   "outputs": [
    {
     "data": {
      "text/html": [
       "<strong id=\"goal\">goal:</strong> <span style=\"font-size:20px;\"><a class=\"ProveItLink\" href=\"../../../../../equality/__pv_it/theorems/8dc625ee9fbf5f96228c059ed58b16ec83d4e40d0/expr.ipynb\"><img src=\"data:image/png;base64,iVBORw0KGgoAAAANSUhEUgAAADMAAAANBAMAAAD2/0vEAAAAMFBMVEX///9ERES6uroQEBAyMjLc\n",
       "3NyYmJgiIiJmZmaqqqp2dnbMzMxUVFSIiIju7u4AAAAd7oVFAAAAAXRSTlMAQObYZgAAAAlwSFlz\n",
       "AAAOxAAADsQBlSsOGwAAAJpJREFUGNNjYHh75/WqCQwogO9GAsMbIN3Ae5ajAEhzlIPBASCTi9OA\n",
       "IZ+BgS2A7R9PAqqunUC1BxkYuBk4HBjQwAPmCwy2IAaQRgf6D7h/g+kAvgeodjG0MPAaMDA8VDjM\n",
       "wIWuS4aBEahk/r5mBk10qR4GfaDLXtzlbJuALvVmbX8AAy6wBIc4lwOfJQ4p9gs8C3BIceY2AUkA\n",
       "2hAptbp3A+oAAAAASUVORK5CYII=\n",
       "\" style=\"display:inline;vertical-align:middle;\" /></a> <a class=\"ProveItLink\" href=\"../../../__pv_it/_proof_in_singleton_eval_true/af3afa63d786b50140a3b94040d5cf57f450c57d0/proof.ipynb\" style=\"text-decoration: none\">&nbsp;&#x22A2;&nbsp;&nbsp;</a><a class=\"ProveItLink\" href=\"../../../__pv_it/theorems/b4b34621f17bd520deebee996718c5cfa7fe4b370/expr.ipynb\"><img src=\"data:image/png;base64,iVBORw0KGgoAAAANSUhEUgAAAH4AAAAVBAMAAAByPkciAAAAMFBMVEX////MzMxUVFRERES6uroi\n",
       "IiIQEBCYmJhmZmYyMjLu7u52dnaqqqqIiIjc3NwAAACW8nlqAAAAAXRSTlMAQObYZgAAAAlwSFlz\n",
       "AAAOxAAADsQBlSsOGwAAAbVJREFUOMtjYGB4wIAVLHGA0G9A8jjUgADvAezCUxZAGIzKQIYvbv2n\n",
       "sQufXwBjMSsATStAl28NBYEgBq4J2PVvhbO4A4DELCxKzoIIjgKi9Ffg0s+G6mvT0Eis+tkW4NB/\n",
       "ElmEZe4CHPZzFuDQ3w3Eay8t3A2OhZcLkN3PdaOAYRFUP7cCDv3TgbiBV5cDpIhhHkKyE6iHJ4Gh\n",
       "HuinBCCXfQJyoCPpjwHKPWD/xQR2HyIu+NIZGGSAhioDmX+AfJ4EHPanAFMIAwdEI2Mq0PRgsHZN\n",
       "YOpbwHaBIRfIWTQHKPUBt35g6F4AC3AZwOUkrICE/wLGj0BqJ9AsFlz2x4AI/wdc4JALQEgagcMA\n",
       "5HeeXyD3B+Dwvy0Dw2IHNQZusMhd1PRjBE673ODwM8Bh/yZgUpdqY/ABi3AeQNHfxOBfAI0/jg04\n",
       "9IsyMKy4y9MO0cil7IWsf9He/gdQ/awOmPrdQQSrAEoC3IyafnfC0t9TXNmXvQFn/uGewJUD09+O\n",
       "M//bYRe+BnTaBSaQr0GJg88Ap/7F2IXfH2DgqW0BsZYBw5AZdwHGdwG7cBM0Ll7rAIl7uHQDAHRi\n",
       "cPTDUgMuAAAAAElFTkSuQmCC\n",
       "\" style=\"display:inline;vertical-align:middle;\" /></a></span><br>"
      ],
      "text/plain": [
       "goal: {x = y} |- (x in {y}) = TRUE"
      ]
     },
     "execution_count": 5,
     "metadata": {},
     "output_type": "execute_result"
    }
   ],
   "source": [
    "goal = state2.sub_left_side_into(state1)"
   ]
  },
  {
   "cell_type": "code",
   "execution_count": 6,
   "metadata": {},
   "outputs": [
    {
     "data": {
      "text/html": [
       "<table><tr><th>&nbsp;</th><th>step type</th><th>requirements</th><th>statement</th></tr>\n",
       "<tr><td><a name=\"-0xa2dba50eb53f4ac_step0\">0</a></td><td>generalization</td><td><a href=\"#-0xa2dba50eb53f4ac_step1\">1</a></td><td><span style=\"font-size:20px;\"> <a class=\"ProveItLink\" href=\"../../../__pv_it/_proof_in_singleton_eval_true/f8b688faa63f1d6d21d2d4aef6adc374d68c98f00/proof.ipynb\" style=\"text-decoration: none\">&nbsp;&#x22A2;&nbsp;&nbsp;</a><a class=\"ProveItLink\" href=\"../../../__pv_it/theorems/ba2f7155d9e81ea40b7d45d6eb0cc3c5b7821d470/expr.ipynb\"><img src=\"data:image/png;base64,iVBORw0KGgoAAAANSUhEUgAAAO8AAAAXBAMAAAARnwX+AAAAMFBMVEX///+IiIgiIiIQEBB2dnbu\n",
       "7u5ERETMzMzc3NwyMjK6urpmZmaYmJiqqqpUVFQAAAB6qHgnAAAAAXRSTlMAQObYZgAAAAlwSFlz\n",
       "AAAOxAAADsQBlSsOGwAAAtlJREFUSMe1Vk1oE0EUfjG72WR/4hZRxEIJOSgKShRBEIVWROhB2aJU\n",
       "UAitoHgqxeJJlMXqwYO6HgQRhXjwICgNKv5R6ubixYOreBGFtigBD0IvxV4E3/zsTzYz0T30wTf7\n",
       "dr7JfDPvvZkNQHZzOQR2osGe13uM6cn0slzAIKLuOszR2ug8kE5BmAXifMsi/JlDYPNO6BVw3pyf\n",
       "5p9Wie2gzBvScSeDruoxiOxA5CkVbG4LhnykLTKX8FEcyyBs+Az/IfxeKoxMCaOjBBmE8xyJzJ6q\n",
       "bhUK5x2ZMDImLr6UJcVfOCLTbzmSHZd8mTBhdlWru7MIP+cYGTh+kEbqmpMMtdrvQ50LKwsyYcK8\n",
       "BDjdRTflwvc4mrlFo5KqzNc4pVWDDxj+Gr6aXrKUk8KEuQHF7oX1qLbtDKZrLpdpKOMKL+4DuIir\n",
       "aaP7B9+tmmzHhCk4SiOL8F4GDQymqGGuqpup7k+cyMnbsBNf6veRWpIJE8ayBbX1b2GsTJud63js\n",
       "BZKzGUf7jY9hXIQu3TFlvBY2fa/68QLVB6CcEGaddGBIRKFGBVelZVWJZ52geSb5tZZJQCuyHFPm\n",
       "MF4jObddwhIdWetMxcK088UZND8iAMYZRhvfQWHL67xAJuh1qdDiGpPtmDLTOM6EcQ3dq59gQyzM\n",
       "OyFJABxhmD//DJ6wMxl0CM/BjM+PkzEoE6ZMeZK4K7TjBywmc7wSjQ8JgHMMJ/usWaaoth8mhetD\n",
       "b10uvKa7auExbWNGqxXJYxvsSQiTThbqiMDfTDIkrq5DnVfmcHhzXZZWaMRMK54BxwC26EuxMO3k\n",
       "FhKYgCaD5COheOr+UHhWKhwxxqah9TAVwNd3XixMO7mFBNpZDoGtw2DYZZI/csjlH700E6huwRee\n",
       "44hAG+UQ2M0ArBb9wh/F4QXpP5wUoztl+5H4AokIslybQbSTOV7hV35hs1Ea6RRjgt4aFAtHxGqb\n",
       "u+oKfwFlALlejUH44AAAAABJRU5ErkJggg==\n",
       "\" style=\"display:inline;vertical-align:middle;\" /></a></span></td></tr>\n",
       "<tr><td><a name=\"-0xa2dba50eb53f4ac_step1\">1</a></td><td>instantiation</td><td><a href=\"#-0xa2dba50eb53f4ac_step2\">2</a>, <a href=\"#-0xa2dba50eb53f4ac_step3\">3</a>, <a href=\"#-0xa2dba50eb53f4ac_step4\">4</a></td><td><span style=\"font-size:20px;\"><a class=\"ProveItLink\" href=\"../../../../../equality/__pv_it/theorems/8dc625ee9fbf5f96228c059ed58b16ec83d4e40d0/expr.ipynb\"><img src=\"data:image/png;base64,iVBORw0KGgoAAAANSUhEUgAAADMAAAANBAMAAAD2/0vEAAAAMFBMVEX///9ERES6uroQEBAyMjLc\n",
       "3NyYmJgiIiJmZmaqqqp2dnbMzMxUVFSIiIju7u4AAAAd7oVFAAAAAXRSTlMAQObYZgAAAAlwSFlz\n",
       "AAAOxAAADsQBlSsOGwAAAJpJREFUGNNjYHh75/WqCQwogO9GAsMbIN3Ae5ajAEhzlIPBASCTi9OA\n",
       "IZ+BgS2A7R9PAqqunUC1BxkYuBk4HBjQwAPmCwy2IAaQRgf6D7h/g+kAvgeodjG0MPAaMDA8VDjM\n",
       "wIWuS4aBEahk/r5mBk10qR4GfaDLXtzlbJuALvVmbX8AAy6wBIc4lwOfJQ4p9gs8C3BIceY2AUkA\n",
       "2hAptbp3A+oAAAAASUVORK5CYII=\n",
       "\" style=\"display:inline;vertical-align:middle;\" /></a> <a class=\"ProveItLink\" href=\"../../../__pv_it/_proof_in_singleton_eval_true/af3afa63d786b50140a3b94040d5cf57f450c57d0/proof.ipynb\" style=\"text-decoration: none\">&nbsp;&#x22A2;&nbsp;&nbsp;</a><a class=\"ProveItLink\" href=\"../../../__pv_it/theorems/b4b34621f17bd520deebee996718c5cfa7fe4b370/expr.ipynb\"><img src=\"data:image/png;base64,iVBORw0KGgoAAAANSUhEUgAAAH4AAAAVBAMAAAByPkciAAAAMFBMVEX////MzMxUVFRERES6uroi\n",
       "IiIQEBCYmJhmZmYyMjLu7u52dnaqqqqIiIjc3NwAAACW8nlqAAAAAXRSTlMAQObYZgAAAAlwSFlz\n",
       "AAAOxAAADsQBlSsOGwAAAbVJREFUOMtjYGB4wIAVLHGA0G9A8jjUgADvAezCUxZAGIzKQIYvbv2n\n",
       "sQufXwBjMSsATStAl28NBYEgBq4J2PVvhbO4A4DELCxKzoIIjgKi9Ffg0s+G6mvT0Eis+tkW4NB/\n",
       "ElmEZe4CHPZzFuDQ3w3Eay8t3A2OhZcLkN3PdaOAYRFUP7cCDv3TgbiBV5cDpIhhHkKyE6iHJ4Gh\n",
       "HuinBCCXfQJyoCPpjwHKPWD/xQR2HyIu+NIZGGSAhioDmX+AfJ4EHPanAFMIAwdEI2Mq0PRgsHZN\n",
       "YOpbwHaBIRfIWTQHKPUBt35g6F4AC3AZwOUkrICE/wLGj0BqJ9AsFlz2x4AI/wdc4JALQEgagcMA\n",
       "5HeeXyD3B+Dwvy0Dw2IHNQZusMhd1PRjBE673ODwM8Bh/yZgUpdqY/ABi3AeQNHfxOBfAI0/jg04\n",
       "9IsyMKy4y9MO0cil7IWsf9He/gdQ/awOmPrdQQSrAEoC3IyafnfC0t9TXNmXvQFn/uGewJUD09+O\n",
       "M//bYRe+BnTaBSaQr0GJg88Ap/7F2IXfH2DgqW0BsZYBw5AZdwHGdwG7cBM0Ll7rAIl7uHQDAHRi\n",
       "cPTDUgMuAAAAAElFTkSuQmCC\n",
       "\" style=\"display:inline;vertical-align:middle;\" /></a></span></td></tr>\n",
       "<tr><td>&nbsp;</td><td colspan=4 style=\"text-align:left\"><span style=\"font-size:20px;\"><a class=\"ProveItLink\" href=\"../../../__pv_it/_proof_in_singleton_eval_true/f307345efa93fdd6c2df141d735449c4534792f70/expr.ipynb\"><img src=\"data:image/png;base64,iVBORw0KGgoAAAANSUhEUgAAADsAAAAVBAMAAAAKrYvGAAAAMFBMVEX///+6urqYmJgiIiLc3Nx2\n",
       "dnaqqqrMzMwQEBDu7u5mZmYyMjJUVFRERESIiIgAAAAee7pSAAAAAXRSTlMAQObYZgAAAAlwSFlz\n",
       "AAAOxAAADsQBlSsOGwAAAR1JREFUKM9jYEAGDnh4DAx8CShcOTD59v+ds7smgFipaKoVwNRvBgbe\n",
       "TiDNuQHNtJ0ggv0fAwMbEDNwKaBJa4HN+A7EX4EMDjRZBg6QlbwfgBiohCEbXZobZBz/BQaG+gdA\n",
       "xlKEBMvRJ0AR1gMMYClXM5DYJoS0hAPvTwYGJpBb3x8NVQSLmcFlOZsYuAyADm4Asu/DBBvh0lwf\n",
       "GJgDgH76APE2ujTHBYb5AgwMjEDd7F9hggjD5z9g0AdSbEAL+D7CBO8hpBMYTrM5MDAB/cT9ASYY\n",
       "A5fmfcBmxQV0QgAD1/2/D6CCxUCb7gLBFQbOc+E+zxkYmAWQA4m5AC3UnFF4TAvQpBehcq+gclku\n",
       "oPLnonJ50VITywMU7hMGBgCRA0HPkLXvDgAAAABJRU5ErkJggg==\n",
       "\" style=\"display:inline;vertical-align:middle;\" /></a> : <a class=\"ProveItLink\" href=\"../../../__pv_it/_proof_in_singleton_eval_true/e40611d82f8b2c19f430a08cd675a2eac479cc660/expr.ipynb\"><img src=\"data:image/png;base64,iVBORw0KGgoAAAANSUhEUgAAAEMAAAAOBAMAAACGIrzyAAAAMFBMVEX///8yMjKqqqoiIiJmZmaY\n",
       "mJju7u4QEBC6urqIiIh2dnZUVFTc3NxERETMzMwAAAAY8qdrAAAAAXRSTlMAQObYZgAAAAlwSFlz\n",
       "AAAOxAAADsQBlSsOGwAAAGZJREFUGNNjYMAJWIzBYAMDXsA0gYEQoIWS0ytPElDCUcNwPwHDGyhK\n",
       "0gMYnAmY4s/AYEVASS0D2w/8Sth+MrB+YMDrFrZPDNwCOvgtusmg7OCAQ8nbu0BwgCF71pudDzCU\n",
       "cAQACQD/QCE7n5ip9wAAAABJRU5ErkJggg==\n",
       "\" style=\"display:inline;vertical-align:middle;\" /></a>, <a class=\"ProveItLink\" href=\"../../../../../../__pv_it/common/a0d9d672aa5e272d907247690c152cc2c6daafb70/expr.ipynb\"><img src=\"data:image/png;base64,iVBORw0KGgoAAAANSUhEUgAAAAsAAAAJBAMAAAAWSsseAAAAMFBMVEX///9ERES6uroQEBAyMjLc\n",
       "3NyYmJgiIiJmZmaqqqp2dnbMzMxUVFSIiIju7u4AAAAd7oVFAAAAAXRSTlMAQObYZgAAAAlwSFlz\n",
       "AAAOxAAADsQBlSsOGwAAAENJREFUCNdjYHh75/WqCQwMDbxnOQoY2ALY/vEkMHAzcDgwgADzBTCl\n",
       "H8D3gOGhwmEGLgaG+fuaGTQZGF7c5WybwAAAJTwQ1a2DuB8AAAAASUVORK5CYII=\n",
       "\" style=\"display:inline;vertical-align:middle;\" /></a> : <a class=\"ProveItLink\" href=\"../../../__pv_it/theorems/add2e8c45656210d5cc64daf61ef238a07a95d870/expr.ipynb\"><img src=\"data:image/png;base64,iVBORw0KGgoAAAANSUhEUgAAAEQAAAAVBAMAAAAN71XTAAAAMFBMVEX///9ERES6uroQEBAyMjLc\n",
       "3NyYmJgiIiJmZmaqqqp2dnbMzMxUVFSIiIju7u4AAAAd7oVFAAAAAXRSTlMAQObYZgAAAAlwSFlz\n",
       "AAAOxAAADsQBlSsOGwAAARVJREFUKM9jYMAG+JSgjMgABhzgih6UwX3wAXYVnP/gTMYD2JVwFWBj\n",
       "EqmEV7y8BL8SJt8HOEx5e+f1qgkgXsgDZHG+GwkMb6BKGnjPcoB1ucK1cjgA5TgNGPKBlhswMLAF\n",
       "sP3jSQBJOMCVBAP5O4H6DjIwsP4EBg5YDyiUzMvLywtBrBgnIPGA+QKDLZB+4wkkgGxwoAvADOFu\n",
       "BLlK/wH3byC1RAHEDuADO7QANUhbwO4ABfRDhcMMXGCJu6g+lQGr5AIqm7+vmUETLMEyAUVJD4N+\n",
       "AoT54i5nG0SO76AespI3a/sDMCKAaSFqBCwhEI1cDnyWeJSAvMJ+gWcBNKCxAVCQcuY2gZiPE3Ak\n",
       "zIiTUEYUkAEAGW9IzKLNOjgAAAAASUVORK5CYII=\n",
       "\" style=\"display:inline;vertical-align:middle;\" /></a>, <a class=\"ProveItLink\" href=\"../../../../../../__pv_it/common/ff7dba4ef0bbe791ab573bf2d9c220a304399ac80/expr.ipynb\"><img src=\"data:image/png;base64,iVBORw0KGgoAAAANSUhEUgAAAAsAAAANBAMAAACN24kIAAAAMFBMVEX////c3NwyMjK6urpEREQi\n",
       "IiLMzMwQEBCqqqp2dnZUVFSYmJhmZmaIiIju7u4AAADlKNhoAAAAAXRSTlMAQObYZgAAAAlwSFlz\n",
       "AAAOxAAADsQBlSsOGwAAAFhJREFUCNdj4LuzgeEVAwMnRwHDfgaGDJ4AhiUMDA/YLzDUMjAw2D9g\n",
       "+wakDjHwFgApLwaWBUDqFIP9BiD1au55AQYQmATEnAp8FUCK9QLXBCDFsfcwkAQA5QkUAIef7yAA\n",
       "AAAASUVORK5CYII=\n",
       "\" style=\"display:inline;vertical-align:middle;\" /></a> : <a class=\"ProveItLink\" href=\"../../../../../equality/__pv_it/theorems/8dc625ee9fbf5f96228c059ed58b16ec83d4e40d0/expr.ipynb\"><img src=\"data:image/png;base64,iVBORw0KGgoAAAANSUhEUgAAADMAAAANBAMAAAD2/0vEAAAAMFBMVEX///9ERES6uroQEBAyMjLc\n",
       "3NyYmJgiIiJmZmaqqqp2dnbMzMxUVFSIiIju7u4AAAAd7oVFAAAAAXRSTlMAQObYZgAAAAlwSFlz\n",
       "AAAOxAAADsQBlSsOGwAAAJpJREFUGNNjYHh75/WqCQwogO9GAsMbIN3Ae5ajAEhzlIPBASCTi9OA\n",
       "IZ+BgS2A7R9PAqqunUC1BxkYuBk4HBjQwAPmCwy2IAaQRgf6D7h/g+kAvgeodjG0MPAaMDA8VDjM\n",
       "wIWuS4aBEahk/r5mBk10qR4GfaDLXtzlbJuALvVmbX8AAy6wBIc4lwOfJQ4p9gs8C3BIceY2AUkA\n",
       "2hAptbp3A+oAAAAASUVORK5CYII=\n",
       "\" style=\"display:inline;vertical-align:middle;\" /></a></span></td></tr><tr><td><a name=\"-0xa2dba50eb53f4ac_step2\">2</a></td><td>theorem</td><td></td><td><span style=\"font-size:20px;\"> <a class=\"ProveItLink\" href=\"../../../../../equality/_theory_nbs_/proofs/sub_left_side_into/thm_proof.ipynb\" style=\"text-decoration: none\">&nbsp;&#x22A2;&nbsp;&nbsp;</a><a class=\"ProveItLink\" href=\"../../../../../equality/__pv_it/theorems/fa7b338ac0e02abe373a31648947826ee50d3a400/expr.ipynb\"><img src=\"data:image/png;base64,iVBORw0KGgoAAAANSUhEUgAAAMIAAAAXBAMAAACrPI2eAAAAMFBMVEX///+IiIgiIiIQEBB2dnbu\n",
       "7u5ERETMzMzc3NwyMjK6urpmZmaYmJiqqqpUVFQAAAB6qHgnAAAAAXRSTlMAQObYZgAAAAlwSFlz\n",
       "AAAOxAAADsQBlSsOGwAAArNJREFUSMe1VktoE1EUPZPvNDMZJyBF8Dd0KShV7EYsBGkXIkrcVEGU\n",
       "caFUKKYobu2I4rLNRhBUqFhdKYlYsEiRqCDoKvgBBcEURYRCqZD4Xeh9v8mLYUAkvfDm3nc4752X\n",
       "++59BFgZC4QzsVJm1ITPuECdBe+6s2/v75OfrhRY9EpB64AHzF/u0tF/AKkB8smSQnoKOMuy5XdH\n",
       "IP0FyNKAVVWQXWEiSNS6lP1vNBoUxFvYAGyS6+lSklLLNEgFb1vYVWBbX9/2LimsomxPUPVglsb+\n",
       "DQeGKDf7gPvAsaglVtvsjUhFtALtfmGzPDgqxoLlAc+ASZhUsZni7MPPnT9buFu/9iwFsKfFrBKp\n",
       "sPHj0HMekIwd2E2HbuAl7VJIsKWPgV1RCraHhIcjEpyJVCiqYAfVFSxeshNUXi6/6EU6QpSCU4Gx\n",
       "LDpHlHh0O4QKVFDsRnCDRukRiwaBLZTktefmaHK9LnpdKsRriNXhSZzXtiRCIyPdUAr8MspBks7y\n",
       "gqK9l1jTNTFJCV7j+NeoJd1mul9TmCqYizBLEs+yi2BE6zjZWEiG8VMpHAVGpj8gQeFTGufZCeyt\n",
       "udfkqil3nOQOe4avKTzJrS8g40s844dE/nwqMnqWlQKV6Psz93BHFq7DqE5dljR/dp2842oKS+yT\n",
       "rUs87beIOtkqfnUldAo4lMvOs3RuUrS4fElO85c9Nh0f1xR28iz7EudZYkSRpZCsWSwETE9FU7Rx\n",
       "Mm/270YlmSdGWasl8zt3HgRuuJIYblf+u6jssGfCN9AoDtMpB3F3Jlcgl50/oSn0Nnh9jkLgqUAS\n",
       "5VpF1m1UBRfb8axyBzGm90PYaRwfCYnCFFm3kQ4pYTeVW8iUOhWsQOBzIVGYIutmyjs3gna8qtzt\n",
       "1ehUwDDH2fNU1WFF/i9r/6uQ1L7/bn8AGCmqIacF6W0AAAAASUVORK5CYII=\n",
       "\" style=\"display:inline;vertical-align:middle;\" /></a></span></td></tr>\n",
       "<tr><td>&nbsp;</td><td colspan=4 style-\"text-align:left\"><a class=\"ProveItLink\" href=\"../../../../../equality/_theory_nbs_/proofs/sub_left_side_into/thm_proof.ipynb\">proveit.logic.equality.sub_left_side_into</a></td></tr><tr><td><a name=\"-0xa2dba50eb53f4ac_step3\">3</a></td><td>instantiation</td><td><a href=\"#-0xa2dba50eb53f4ac_step5\">5</a>, <a href=\"#-0xa2dba50eb53f4ac_step6\">6</a></td><td><span style=\"font-size:20px;\"><a class=\"ProveItLink\" href=\"../../../../../equality/__pv_it/theorems/8dc625ee9fbf5f96228c059ed58b16ec83d4e40d0/expr.ipynb\"><img src=\"data:image/png;base64,iVBORw0KGgoAAAANSUhEUgAAADMAAAANBAMAAAD2/0vEAAAAMFBMVEX///9ERES6uroQEBAyMjLc\n",
       "3NyYmJgiIiJmZmaqqqp2dnbMzMxUVFSIiIju7u4AAAAd7oVFAAAAAXRSTlMAQObYZgAAAAlwSFlz\n",
       "AAAOxAAADsQBlSsOGwAAAJpJREFUGNNjYHh75/WqCQwogO9GAsMbIN3Ae5ajAEhzlIPBASCTi9OA\n",
       "IZ+BgS2A7R9PAqqunUC1BxkYuBk4HBjQwAPmCwy2IAaQRgf6D7h/g+kAvgeodjG0MPAaMDA8VDjM\n",
       "wIWuS4aBEahk/r5mBk10qR4GfaDLXtzlbJuALvVmbX8AAy6wBIc4lwOfJQ4p9gs8C3BIceY2AUkA\n",
       "2hAptbp3A+oAAAAASUVORK5CYII=\n",
       "\" style=\"display:inline;vertical-align:middle;\" /></a> <a class=\"ProveItLink\" href=\"../../../__pv_it/_proof_in_singleton_eval_true/45e35beae4eaf6f51f2e2de2b0e568d16afb773b0/proof.ipynb\" style=\"text-decoration: none\">&nbsp;&#x22A2;&nbsp;&nbsp;</a><a class=\"ProveItLink\" href=\"../../../__pv_it/_proof_in_singleton_eval_true/f7f623ede3a4891d4ce6549224221c7f4d69b0ed0/expr.ipynb\"><img src=\"data:image/png;base64,iVBORw0KGgoAAAANSUhEUgAAAGwAAAAVBAMAAABRZRb3AAAAMFBMVEX////MzMxUVFRERES6uroi\n",
       "IiIQEBCYmJhmZmYyMjLu7u52dnaqqqqIiIjc3NwAAACW8nlqAAAAAXRSTlMAQObYZgAAAAlwSFlz\n",
       "AAAOxAAADsQBlSsOGwAAATtJREFUOMtjYGB4wIAT4JHiPYBbzhe31GkGPEYWoIu0hoJAEAPXBDza\n",
       "GGZhETsLIjgK8GmrwKWNDZ8uBrYFOLSdxKuNswCHtm4g5rqrJb0HVY7rRgHDIgYGbgUc2qaD/Mdw\n",
       "6UIriAYHUyhIKTdPAkM9AwP7BOTgQ9IWA8R1DPUL1FGNlOEIYFBmYABqxm5bChALMHSiyy1gu8CQ\n",
       "y8DA+AGPNgaQCjTgv4DxIwMDCy7bQI5kYPnHsArVb0D7eYFaeAJw+M0WGGomTAkMG9DMNGJgBmpn\n",
       "N8Bh2yagkR9XJLCgJ+gmBn9gnHFswKFNFGhb74UTNeiSi/b2A7MNqwOmNncQwSqAK4XsBOKnuCTZ\n",
       "G7AKc0/gygFS7TiTnR1WUdYLTEBv8Rng1LYYqyhPbQuQZMZdKvBdwJ0B7uGSAABTA0uxX04G5gAA\n",
       "AABJRU5ErkJggg==\n",
       "\" style=\"display:inline;vertical-align:middle;\" /></a></span></td></tr>\n",
       "<tr><td>&nbsp;</td><td colspan=4 style=\"text-align:left\"><span style=\"font-size:20px;\"><a class=\"ProveItLink\" href=\"../../../../../../__pv_it/common/09585084922504426caf1db2ff588a23a0932a960/expr.ipynb\"><img src=\"data:image/png;base64,iVBORw0KGgoAAAANSUhEUgAAAA8AAAAPBAMAAADJ+Ih5AAAAMFBMVEX///8QEBAiIiLu7u5ERES6\n",
       "urqYmJiIiIjMzMx2dnZUVFRmZmaqqqoyMjLc3NwAAABb1yYoAAAAAXRSTlMAQObYZgAAAAlwSFlz\n",
       "AAAOxAAADsQBlSsOGwAAAF9JREFUCNdjYACBtwxQcB9K8/yHMrjXP4Aw5s1vANN8BfUHIDIM5xPA\n",
       "jBiG/glgxgaG9wtANLv37vUOIIY5AwO/AkSGgUkASLMCdfB+ADIeAjHLPwYGk/+XGXj8/04AADnq\n",
       "Fzds8Dk2AAAAAElFTkSuQmCC\n",
       "\" style=\"display:inline;vertical-align:middle;\" /></a> : <a class=\"ProveItLink\" href=\"../../../../../equality/__pv_it/theorems/8dc625ee9fbf5f96228c059ed58b16ec83d4e40d0/expr.ipynb\"><img src=\"data:image/png;base64,iVBORw0KGgoAAAANSUhEUgAAADMAAAANBAMAAAD2/0vEAAAAMFBMVEX///9ERES6uroQEBAyMjLc\n",
       "3NyYmJgiIiJmZmaqqqp2dnbMzMxUVFSIiIju7u4AAAAd7oVFAAAAAXRSTlMAQObYZgAAAAlwSFlz\n",
       "AAAOxAAADsQBlSsOGwAAAJpJREFUGNNjYHh75/WqCQwogO9GAsMbIN3Ae5ajAEhzlIPBASCTi9OA\n",
       "IZ+BgS2A7R9PAqqunUC1BxkYuBk4HBjQwAPmCwy2IAaQRgf6D7h/g+kAvgeodjG0MPAaMDA8VDjM\n",
       "wIWuS4aBEahk/r5mBk10qR4GfaDLXtzlbJuALvVmbX8AAy6wBIc4lwOfJQ4p9gs8C3BIceY2AUkA\n",
       "2hAptbp3A+oAAAAASUVORK5CYII=\n",
       "\" style=\"display:inline;vertical-align:middle;\" /></a></span></td></tr><tr><td><a name=\"-0xa2dba50eb53f4ac_step4\">4</a></td><td>instantiation</td><td><a href=\"#-0xa2dba50eb53f4ac_step7\">7</a></td><td><span style=\"font-size:20px;\"> <a class=\"ProveItLink\" href=\"../../../__pv_it/_proof_in_singleton_eval_true/bd789a38a09f7a00c87123a7327af4050e7501bd0/proof.ipynb\" style=\"text-decoration: none\">&nbsp;&#x22A2;&nbsp;&nbsp;</a><a class=\"ProveItLink\" href=\"../../../__pv_it/theorems/3d9c008ee1003e9ff75063c9ab3a9f9690dc7e160/expr.ipynb\"><img src=\"data:image/png;base64,iVBORw0KGgoAAAANSUhEUgAAAK8AAAAVBAMAAADC7aNVAAAAMFBMVEX////MzMxUVFRERES6uroi\n",
       "IiIQEBCYmJhmZmYyMjLu7u52dnaqqqqIiIjc3NwAAACW8nlqAAAAAXRSTlMAQObYZgAAAAlwSFlz\n",
       "AAAOxAAADsQBlSsOGwAAAl1JREFUOMuNVT1oFEEUfve/zm6ONDaJxcFBBFE4REvDFVYhklW5Qkix\n",
       "RewUtrRQE9R4BJFcIQiisl4gREEIWh0qpFRSuKRS8OQQFEUF0wYJefNmztzMvj2cYvfNvu/75r03\n",
       "82YBoAfcEKe18Uv6OUwZUgfBRzZY38cpbWSqEcAZBvEpXZjgm6zL2/ln5iq4ephErKcLS7hosS7X\n",
       "N80HCcRTGDIQ7oT/JXwlgWgOE0Z40czhZOMCK1yMbG4wTBjh7wbn+UdRSsQH7MS81jBhhN/B1/Ot\n",
       "J6/obPyIBtXEhxDaWtitWFQH9050j4y/tk6p5lTgPs4WRo45FOHjfR4G5HoBzGN5ZNIlCnCxIcc5\n",
       "HRM4sBUvSjB9bsi1NQfhs/jslXaylOp+et9wfghXq2Ij/JWZ2yUtYIrXYT46bH7WHITPYQtQfLIX\n",
       "LuK656X15R4+omIMl/HdfoiuP/b21AFGYckuruYgfI5QsSpQre/P3JTVnoky2/jqoEY+YISB1jWH\n",
       "4iB8lmY9QdvmG+2G8cj6UhN6vlVjWQrI78Izs8Z9jg+nAFbqE+CSXNc8Y8dJ36XNq1mR5WIQJ7IB\n",
       "2I2tOAh/AfB+7DZMq+O3YQjfgJlQm44tgAfK214L8vYVpjgIPwiw1vWayi+qU4PC7TfLPW0W6pZA\n",
       "xgdxN3571a6x4iC8MGq03kuzpTt982til86mdV1HwUsLqZeQ2xKX+sJN7p7heIoj4ZP8jYo7Voiz\n",
       "67oJy7UEIsf+eRSH4CussGw379otaa6GrIqosT8I4hC8HLPK349q46c0PjOI3+mXG8L3ALZUnIZB\n",
       "p0VQAAAAAElFTkSuQmCC\n",
       "\" style=\"display:inline;vertical-align:middle;\" /></a></span></td></tr>\n",
       "<tr><td>&nbsp;</td><td colspan=4 style=\"text-align:left\"><span style=\"font-size:20px;\"><a class=\"ProveItLink\" href=\"../../../../../../__pv_it/common/a0d9d672aa5e272d907247690c152cc2c6daafb70/expr.ipynb\"><img src=\"data:image/png;base64,iVBORw0KGgoAAAANSUhEUgAAAAsAAAAJBAMAAAAWSsseAAAAMFBMVEX///9ERES6uroQEBAyMjLc\n",
       "3NyYmJgiIiJmZmaqqqp2dnbMzMxUVFSIiIju7u4AAAAd7oVFAAAAAXRSTlMAQObYZgAAAAlwSFlz\n",
       "AAAOxAAADsQBlSsOGwAAAENJREFUCNdjYHh75/WqCQwMDbxnOQoY2ALY/vEkMHAzcDgwgADzBTCl\n",
       "H8D3gOGhwmEGLgaG+fuaGTQZGF7c5WybwAAAJTwQ1a2DuB8AAAAASUVORK5CYII=\n",
       "\" style=\"display:inline;vertical-align:middle;\" /></a> : <a class=\"ProveItLink\" href=\"../../../../../../__pv_it/common/a0d9d672aa5e272d907247690c152cc2c6daafb70/expr.ipynb\"><img src=\"data:image/png;base64,iVBORw0KGgoAAAANSUhEUgAAAAsAAAAJBAMAAAAWSsseAAAAMFBMVEX///9ERES6uroQEBAyMjLc\n",
       "3NyYmJgiIiJmZmaqqqp2dnbMzMxUVFSIiIju7u4AAAAd7oVFAAAAAXRSTlMAQObYZgAAAAlwSFlz\n",
       "AAAOxAAADsQBlSsOGwAAAENJREFUCNdjYHh75/WqCQwMDbxnOQoY2ALY/vEkMHAzcDgwgADzBTCl\n",
       "H8D3gOGhwmEGLgaG+fuaGTQZGF7c5WybwAAAJTwQ1a2DuB8AAAAASUVORK5CYII=\n",
       "\" style=\"display:inline;vertical-align:middle;\" /></a>, <a class=\"ProveItLink\" href=\"../../../../../../__pv_it/common/ff7dba4ef0bbe791ab573bf2d9c220a304399ac80/expr.ipynb\"><img src=\"data:image/png;base64,iVBORw0KGgoAAAANSUhEUgAAAAsAAAANBAMAAACN24kIAAAAMFBMVEX////c3NwyMjK6urpEREQi\n",
       "IiLMzMwQEBCqqqp2dnZUVFSYmJhmZmaIiIju7u4AAADlKNhoAAAAAXRSTlMAQObYZgAAAAlwSFlz\n",
       "AAAOxAAADsQBlSsOGwAAAFhJREFUCNdj4LuzgeEVAwMnRwHDfgaGDJ4AhiUMDA/YLzDUMjAw2D9g\n",
       "+wakDjHwFgApLwaWBUDqFIP9BiD1au55AQYQmATEnAp8FUCK9QLXBCDFsfcwkAQA5QkUAIef7yAA\n",
       "AAAASUVORK5CYII=\n",
       "\" style=\"display:inline;vertical-align:middle;\" /></a> : <a class=\"ProveItLink\" href=\"../../../../../../__pv_it/common/ff7dba4ef0bbe791ab573bf2d9c220a304399ac80/expr.ipynb\"><img src=\"data:image/png;base64,iVBORw0KGgoAAAANSUhEUgAAAAsAAAANBAMAAACN24kIAAAAMFBMVEX////c3NwyMjK6urpEREQi\n",
       "IiLMzMwQEBCqqqp2dnZUVFSYmJhmZmaIiIju7u4AAADlKNhoAAAAAXRSTlMAQObYZgAAAAlwSFlz\n",
       "AAAOxAAADsQBlSsOGwAAAFhJREFUCNdj4LuzgeEVAwMnRwHDfgaGDJ4AhiUMDA/YLzDUMjAw2D9g\n",
       "+wakDjHwFgApLwaWBUDqFIP9BiD1au55AQYQmATEnAp8FUCK9QLXBCDFsfcwkAQA5QkUAIef7yAA\n",
       "AAAASUVORK5CYII=\n",
       "\" style=\"display:inline;vertical-align:middle;\" /></a></span></td></tr><tr><td><a name=\"-0xa2dba50eb53f4ac_step5\">5</a></td><td>axiom</td><td></td><td><span style=\"font-size:20px;\"> <a class=\"ProveItLink\" href=\"../../../../../booleans/_theory_nbs_/axioms.ipynb#eq_true_intro\" style=\"text-decoration: none\">&nbsp;&#x22A2;&nbsp;&nbsp;</a><a class=\"ProveItLink\" href=\"../../../../../booleans/__pv_it/axioms/af7fcd0228bc2f434dd8febb9d8c4f56a07241be0/expr.ipynb\"><img src=\"data:image/png;base64,iVBORw0KGgoAAAANSUhEUgAAAIwAAAAXBAMAAAArT7qNAAAAMFBMVEX///+IiIgiIiIQEBB2dnbu\n",
       "7u5ERETMzMzc3NwyMjK6urpmZmaYmJiqqqpUVFQAAAB6qHgnAAAAAXRSTlMAQObYZgAAAAlwSFlz\n",
       "AAAOxAAADsQBlSsOGwAAAahJREFUOMtjYCACNOCX5mAgCjBeAFOduOS5BBgYHoAYd/AacwVCzUcX\n",
       "51YCgwcMMgwMu0ACM/CZwjoBTPH+xyLHKwAiOQMY6kCeS8BnDPcBCPW+AZcxPBtAJjGwXMBnDDOE\n",
       "8vAvwGUMgykDD9AuTrxBcxMSHQLyF3AaM4eBwUhJyQSvMVsgfmK4fwCnMX4MDNsZGFLB7ACocigI\n",
       "gDHmgMm1DPUOKNGDbMxJBoY+Bg6wGKs5WIQNFj/mMGN0weQGhv4HOF1zGagvgGUBiMnyF8UYKBcI\n",
       "rMBJMHv3+wScxtSDWJAQXm6IYgyUCzMmkIGBXwGnMYuBeMJBMFNgHooxUC7MUxsYGJgMcIbNJSD2\n",
       "nQp2NcNOZGNgXCBIBGUbULL4gNM1x4C4GWzycgZhZGNgXEhsMjSDZH7gNAaUJvjAqXOLy/sAJGNg\n",
       "XCAoYmAI+z+VgTf/pwNm5oakJS14YcDA0F+AMAbOBQKmAkIlCQc88NcAY+ICwhg4F5LxCABuWPrm\n",
       "tmNg3T8LbgyCCwIZhIxpwxRiwxQKI2RMBlHGcAgQKGQbiDKGHMBBli4Aqs9VSyv7w8oAAAAASUVO\n",
       "RK5CYII=\n",
       "\" style=\"display:inline;vertical-align:middle;\" /></a></span></td></tr>\n",
       "<tr><td>&nbsp;</td><td colspan=4 style-\"text-align:left\"><a class=\"ProveItLink\" href=\"../../../../../booleans/_theory_nbs_/axioms.ipynb#eq_true_intro\">proveit.logic.booleans.eq_true_intro</a></td></tr><tr><td><a name=\"-0xa2dba50eb53f4ac_step6\">6</a></td><td>assumption</td><td></td><td><span style=\"font-size:20px;\"><a class=\"ProveItLink\" href=\"../../../../../equality/__pv_it/theorems/8dc625ee9fbf5f96228c059ed58b16ec83d4e40d0/expr.ipynb\"><img src=\"data:image/png;base64,iVBORw0KGgoAAAANSUhEUgAAADMAAAANBAMAAAD2/0vEAAAAMFBMVEX///9ERES6uroQEBAyMjLc\n",
       "3NyYmJgiIiJmZmaqqqp2dnbMzMxUVFSIiIju7u4AAAAd7oVFAAAAAXRSTlMAQObYZgAAAAlwSFlz\n",
       "AAAOxAAADsQBlSsOGwAAAJpJREFUGNNjYHh75/WqCQwogO9GAsMbIN3Ae5ajAEhzlIPBASCTi9OA\n",
       "IZ+BgS2A7R9PAqqunUC1BxkYuBk4HBjQwAPmCwy2IAaQRgf6D7h/g+kAvgeodjG0MPAaMDA8VDjM\n",
       "wIWuS4aBEahk/r5mBk10qR4GfaDLXtzlbJuALvVmbX8AAy6wBIc4lwOfJQ4p9gs8C3BIceY2AUkA\n",
       "2hAptbp3A+oAAAAASUVORK5CYII=\n",
       "\" style=\"display:inline;vertical-align:middle;\" /></a> <a class=\"ProveItLink\" href=\"../../../__pv_it/_proof_in_singleton_eval_true/276c4ebb34a4a5319cb0cc822d5c4c4923b4578f0/proof.ipynb\" style=\"text-decoration: none\">&nbsp;&#x22A2;&nbsp;&nbsp;</a><a class=\"ProveItLink\" href=\"../../../../../equality/__pv_it/theorems/8dc625ee9fbf5f96228c059ed58b16ec83d4e40d0/expr.ipynb\"><img src=\"data:image/png;base64,iVBORw0KGgoAAAANSUhEUgAAADMAAAANBAMAAAD2/0vEAAAAMFBMVEX///9ERES6uroQEBAyMjLc\n",
       "3NyYmJgiIiJmZmaqqqp2dnbMzMxUVFSIiIju7u4AAAAd7oVFAAAAAXRSTlMAQObYZgAAAAlwSFlz\n",
       "AAAOxAAADsQBlSsOGwAAAJpJREFUGNNjYHh75/WqCQwogO9GAsMbIN3Ae5ajAEhzlIPBASCTi9OA\n",
       "IZ+BgS2A7R9PAqqunUC1BxkYuBk4HBjQwAPmCwy2IAaQRgf6D7h/g+kAvgeodjG0MPAaMDA8VDjM\n",
       "wIWuS4aBEahk/r5mBk10qR4GfaDLXtzlbJuALvVmbX8AAy6wBIc4lwOfJQ4p9gs8C3BIceY2AUkA\n",
       "2hAptbp3A+oAAAAASUVORK5CYII=\n",
       "\" style=\"display:inline;vertical-align:middle;\" /></a></span></td></tr>\n",
       "<tr><td><a name=\"-0xa2dba50eb53f4ac_step7\">7</a></td><td>conjecture</td><td></td><td><span style=\"font-size:20px;\"> <a class=\"ProveItLink\" href=\"../singleton_def/thm_proof.ipynb\" style=\"text-decoration: none\">&nbsp;&#x22A2;&nbsp;&nbsp;</a><a class=\"ProveItLink\" href=\"../../../__pv_it/theorems/296779bc6f9fdbba88287df23d1773ef33af3efb0/expr.ipynb\"><img src=\"data:image/png;base64,iVBORw0KGgoAAAANSUhEUgAAAO8AAAAWBAMAAADaw9ZbAAAAMFBMVEX///+IiIgiIiIQEBB2dnbu\n",
       "7u5ERETMzMzc3NwyMjK6urpmZmaYmJiqqqpUVFQAAAB6qHgnAAAAAXRSTlMAQObYZgAAAAlwSFlz\n",
       "AAAOxAAADsQBlSsOGwAAAx5JREFUSMe9Vk1oE1EQnrS72WY3GzcHpVosIQdFQYkiCILQggg9VLao\n",
       "FSmUVhDEgxSrRyVaPYhY4qEgotAeelCQ1ir+ETS9iFCkQbxIBVPUnBS8lPYiOPPeJM2+fRvEgw++\n",
       "7Ozu973Jm5k3bwEiR54RHuZDNm5Fcdr+ZVoesbKEZmyeZsOq+gBTGsbW6HmnGBW6+awhfGSEh7tS\n",
       "N+Moj5XCjK4mCypJvKKbO5pwFiQ0w8gEzYkQ42SzUE5IXKaMDIVfOyWJv3C8EGIUmzlekEhglgxN\n",
       "KlsZDTE6ld2hddzqq+JcM8dERyRxVQnN60+M+rBv+xErTqiBcQvNHBOdsDeb3ad5/ZTR13nikAjI\n",
       "Db/Rm9lRgkF2bFTUNGFtmenvF3qVsmFNReI5wGmN43uM2diykwkWoIMLMtwcLGL4KahJscC5LI3d\n",
       "tTU50OnNBZ+zhuiEcWiraBzvkkjmkyspEcr18I3h/SX8N1Usy98UWTWlLRiid7Do/wg+Zg3RCXHf\n",
       "mNQ4PiBhifVRr8CUZLeRNX4Xf/xWD/bgdfA+vvqllg9OOAIv1SlZQ3SC6+lqq+YYZ/FkgupbznpG\n",
       "2Z7xrVW89KAPO6dxDOJ/BYfUEF1ICvP4k37RgQ3U7oRUMNTIzpuirDKBdoXrofyKJuZmlBxTqMFe\n",
       "g+PKc9ZkWNKLbSSWryaQ3bfBH+XZhyX6J7+CIR6kg3vonPBviOJS+0/cA/NsKgdq45QaogvJGN3A\n",
       "sIXm9Q+wiUlHJL5cfAKP5PYrBxy/hpkSm47qADeLuzqQs9W+JDVEF5LUCD1cE6++wTKTzksMpN2i\n",
       "1JvV6UbHg91v8my2qMVpZcB87C29V3MsNURfl1g5cYTuhP21LTEi0dC6DgdbZk/NvBqqou1RXauH\n",
       "6XXJmFFw4Bgq7NrWSM5KRBwSRsE8WHNc1J4DGp3UFBslzpbujTBahqW39T5xhqE5UbGiWrxUFzcx\n",
       "zdkW135iSA3RVUnZzMfrDb+fofmuwXblzouD/GhJ68Uc0n5ACA3RFYntp7wH69N7Eppx8ycb18ho\n",
       "1zCuRB9O7WFJEuz5LvhP4w8HL8OC7SycHAAAAABJRU5ErkJggg==\n",
       "\" style=\"display:inline;vertical-align:middle;\" /></a></span></td></tr>\n",
       "<tr><td>&nbsp;</td><td colspan=4 style-\"text-align:left\"><a class=\"ProveItLink\" href=\"../singleton_def/thm_proof.ipynb\">proveit.logic.sets.enumeration.singleton_def</a></td></tr></table>"
      ],
      "text/plain": [
       "\tstep type\trequirements\tstatement\n",
       "0\tgeneralization\t1\t|- forall_{x, y | x = y} ((x in {y}) = TRUE)\n",
       "1\tinstantiation\t2, 3, 4\t{x = y} |- (x in {y}) = TRUE\n",
       "\tP(_a) : _a = TRUE, x : x in {y}, y : x = y\n",
       "2\ttheorem\t\t|- forall_{P, x, y | P(y), x = y} P(x)\n",
       "\tproveit.logic.equality.sub_left_side_into\n",
       "3\tinstantiation\t5, 6\t{x = y} |- (x = y) = TRUE\n",
       "\tA : x = y\n",
       "4\tinstantiation\t7\t|- (x in {y}) = (x = y)\n",
       "\tx : x, y : y\n",
       "5\taxiom\t\t|- forall_{A | A} (A = TRUE)\n",
       "\tproveit.logic.booleans.eq_true_intro\n",
       "6\tassumption\t\t{x = y} |- x = y\n",
       "7\tconjecture\t\t|- forall_{x, y} ((x in {y}) = (x = y))\n",
       "\tproveit.logic.sets.enumeration.singleton_def"
      ]
     },
     "execution_count": 6,
     "metadata": {},
     "output_type": "execute_result"
    }
   ],
   "source": [
    "%qed"
   ]
  },
  {
   "cell_type": "code",
   "execution_count": null,
   "metadata": {},
   "outputs": [],
   "source": []
  }
 ],
 "metadata": {
  "kernelspec": {
   "display_name": "Python 3",
   "language": "python",
   "name": "python3"
  },
  "language_info": {
   "codemirror_mode": {
    "name": "ipython",
    "version": 3
   },
   "file_extension": ".py",
   "mimetype": "text/x-python",
   "name": "python",
   "nbconvert_exporter": "python",
   "pygments_lexer": "ipython3",
   "version": "3.7.3"
  }
 },
 "nbformat": 4,
 "nbformat_minor": 1
}
