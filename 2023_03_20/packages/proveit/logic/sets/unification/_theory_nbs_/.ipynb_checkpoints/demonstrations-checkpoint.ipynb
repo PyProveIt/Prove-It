{
 "cells": [
  {
   "cell_type": "markdown",
   "metadata": {},
   "source": [
    "Demonstrations for the theory of <a class=\"ProveItLink\" href=\"theory.ipynb\">proveit.logic.sets.unification</a>\n",
    "========"
   ]
  },
  {
   "cell_type": "code",
   "execution_count": 1,
   "metadata": {},
   "outputs": [],
   "source": [
    "import proveit\n",
    "from proveit import a, b, c, d, e, f, m, x, A, B, C, D, InstantiationFailure\n",
    "from proveit.logic import Forall, And, Or, Equals, InSet, NotInSet, Set, Union\n",
    "from proveit.core_expr_types import A_1_to_m\n",
    "from proveit.logic.sets import x_in_any_A, x_notin_all_A\n",
    "from proveit.numbers import (zero, one, two, three, four, five, six, seven,\n",
    "                             Add, Integer, NaturalPos)\n",
    "%begin demonstrations"
   ]
  },
  {
   "cell_type": "code",
   "execution_count": 2,
   "metadata": {},
   "outputs": [
    {
     "data": {
      "text/html": [
       "<span style=\"font-size:20px;\"><a class=\"ProveItLink\" href=\"../__pv_it/demonstrations/9b4192870fd3f80639c0739c95492cb0b9351d740/expr.ipynb\"><img src=\"data:image/png;base64,iVBORw0KGgoAAAANSUhEUgAAAJIAAAAVBAMAAABf4KrdAAAAMFBMVEX///9ERES6uroQEBAyMjLc\n",
       "3NyYmJgiIiJmZmaqqqp2dnbMzMxUVFSIiIju7u4AAAAd7oVFAAAAAXRSTlMAQObYZgAAAAlwSFlz\n",
       "AAAOxAAADsQBlSsOGwAAAiNJREFUOMtjYMAGWBlIBDg13IRIOxBtEtMF7OKcC8AUywc08cT/Z844\n",
       "bkAV47t45hjrAoZr2E16AqHmg00SABEvICKGDAw8v1HFLt9j4GxPYGB5gNWkNgjV8xVEFoCIGIh3\n",
       "/wL98QNF7GE1kOgPYGBrQDbgYnk5JGQMwCRX1G80k9iAAmx/UcScQW5RBmI7JINU7sGCCWJeLO9P\n",
       "NJN4gN5lMUUW4wIr2QHEbgwMb++8XjUB5HQ/mJEckABv4PyGZhKzAAPf8Q3IYvFg1msgXgPUwHuW\n",
       "A8RnCYCZxJIAjtgJ3L/QTNove/dIAorYenjspzCwBbD94wFJs8C9yT4B7DIG1j9oJt0PYOA0QxGr\n",
       "h1s/mYGbgQMSLJvLgQAcvcwK4PDv6PmIZpIwyBUovrMHi4NCfT9II8SFD+FuApvEBxT9DjdpD1gC\n",
       "5Mb8C8hi9eAY2gCNP/0APpCh7Ki+4wDiYhBPFETkgghuUAycV0AW6wf5jgvEm87wUOEwhMkLDzxG\n",
       "EEsNiP1BPEV4vPICUyr3FxSxeJDSdeCcxDB/XzODJtgAT5hJXAeA6kCpUx5kI6cnA186OLOxAMWU\n",
       "wWbCxUAJRQucUboYXtzlbAPHFcMbIWje4S5g4JP/8oBh4n8vEDfK3QWcZnnk/5w5IglRAhNjeCFz\n",
       "Ahw/DEXIuUVLHJpbqhlIBqwFWIUzSDeJIwGrMGMAySYFYhfmEyDZJFEc4rGkGsQbwAAALEOP1Fb9\n",
       "5JQAAAAASUVORK5CYII=\n",
       "\" style=\"display:inline;vertical-align:middle;\" /></a> <a class=\"ProveItLink\" href=\"../__pv_it/demonstrations/051c5d4b48335a435141b68a0154ebb72aab2eb80/proof.ipynb\" style=\"text-decoration: none\">&nbsp;&#x22A2;&nbsp;&nbsp;</a><a class=\"ProveItLink\" href=\"../__pv_it/demonstrations/a4da441cb6df92ac80b520a37d14070601e5946f0/expr.ipynb\"><img src=\"data:image/png;base64,iVBORw0KGgoAAAANSUhEUgAAAPsAAAAVBAMAAAByEoVnAAAAMFBMVEX////MzMxUVFRERES6uroi\n",
       "IiIQEBCYmJhmZmYyMjLu7u52dnaqqqqIiIjc3NwAAACW8nlqAAAAAXRSTlMAQObYZgAAAAlwSFlz\n",
       "AAAOxAAADsQBlSsOGwAAA0dJREFUSMeVlk1oE1EQx/9Ju81HN2tQFBGkNX5WkEax4sHanApaxRTd\n",
       "g0WwoCJ40KAXPYi9aAULLQgKQWtqEeqhEPSmYntRFA8NFiwUawOi0IP046IV2zrz3u5mN80LZGFn\n",
       "521++97MvJl5AZCH+jJWvamMNsrQcqrIqOrnGaA6V/ROTaMEja/llj/O4pPy5yd0TxS9U9DXVmKx\n",
       "+9FVtJ4tjYfHYzuNbCRFWp9qdX2FRChDws/Cx64p6XNEzUsau1lsZvFcQX+ZhH47hTQQTKmWDzbS\n",
       "5gS6SAvwylVRqGljiUL/R9K4yWIvi+7S9GA7id48rgM13q1tMk/b+tsRXvASq0mZCWo6ME/3kkVr\n",
       "bI8IU6cHHzdNGbwHHKRWmi2Dj57ceZwpOJSb5jR7yPobuntYUdH+OdqnyxZdS98F+Vvds1VHJi2l\n",
       "9h/LjfRFCvdIG/488Fpk9EzGFXuMcaRfWDUgIqCka+IIb49aNHuuiSmyLtxI2/CsmGqA7KgX9nZF\n",
       "9gTFq36XscdQx1/fEM5FERFFpaLrmqcaUjaNLcAUP0MpFx5yOsaIXZ+BPpwhmQ/89YuccgerC7P1\n",
       "9HjPuq8emnBVRU/noV+0aawFOkQSjLrwkAOftQ3RO3GeJkdQzuS7YJrmSSutDt5tjLNfkI5+EE8V\n",
       "fYCditp0KK+LEqhJuPANRJs8I66IMbnjm+MJiZPhCMcL/gwDa5IyQUW36beXL0kv0H0rZ9N6Vkaa\n",
       "l3fwwYL3giFjqzs5nMCJfDhjF5gTe2hcN+/ESPPJtRS07zeJxoRNI7kOdvAdXHPoXratlk1Iopns\n",
       "SuwQIythZFHRdoXmuJ3KrbgqHFHRkWUyYdGhMbFNPKpyLjziHAizrL3i1ItzqYxtukN5LjbNOVB+\n",
       "8tfLVqlRoK32oqBDFKfWtEPjmdxuKiwX/sjp5hSrtowszPXA0JTeLWcKbz1qtcWVNPSWRaq8U/JF\n",
       "j3yUpv0tC7GGQ6xZdFACvqQbf7rf7hND+3aJYGoJaFFPI3tZaLqy9yU9w8potHtGbU2m98T6YZ0p\n",
       "6qvojKmM5jOl3MUn0uGyxPeicWV0Vbn/RjDinnosdRUvVxntbg2rL2GckStDRIrNr4zGr3LLfwP+\n",
       "A4t47wICxd6KAAAAAElFTkSuQmCC\n",
       "\" style=\"display:inline;vertical-align:middle;\" /></a></span>"
      ],
      "text/plain": [
       "{x in (A union B union C)} |- (x in A) or (x in B) or (x in C)"
      ]
     },
     "metadata": {},
     "output_type": "display_data"
    }
   ],
   "source": [
    "Or(InSet(x, A), InSet(x, B), InSet(x,C)).prove(assumptions=[InSet(x,Union(A,B,C))])"
   ]
  },
  {
   "cell_type": "code",
   "execution_count": 3,
   "metadata": {},
   "outputs": [
    {
     "data": {
      "text/html": [
       "<span style=\"font-size:20px;\"><a class=\"ProveItLink\" href=\"../__pv_it/demonstrations/a4da441cb6df92ac80b520a37d14070601e5946f0/expr.ipynb\"><img src=\"data:image/png;base64,iVBORw0KGgoAAAANSUhEUgAAAPsAAAAVBAMAAAByEoVnAAAAMFBMVEX////MzMxUVFRERES6uroi\n",
       "IiIQEBCYmJhmZmYyMjLu7u52dnaqqqqIiIjc3NwAAACW8nlqAAAAAXRSTlMAQObYZgAAAAlwSFlz\n",
       "AAAOxAAADsQBlSsOGwAAA0dJREFUSMeVlk1oE1EQx/9Ju81HN2tQFBGkNX5WkEax4sHanApaxRTd\n",
       "g0WwoCJ40KAXPYi9aAULLQgKQWtqEeqhEPSmYntRFA8NFiwUawOi0IP046IV2zrz3u5mN80LZGFn\n",
       "521++97MvJl5AZCH+jJWvamMNsrQcqrIqOrnGaA6V/ROTaMEja/llj/O4pPy5yd0TxS9U9DXVmKx\n",
       "+9FVtJ4tjYfHYzuNbCRFWp9qdX2FRChDws/Cx64p6XNEzUsau1lsZvFcQX+ZhH47hTQQTKmWDzbS\n",
       "5gS6SAvwylVRqGljiUL/R9K4yWIvi+7S9GA7id48rgM13q1tMk/b+tsRXvASq0mZCWo6ME/3kkVr\n",
       "bI8IU6cHHzdNGbwHHKRWmi2Dj57ceZwpOJSb5jR7yPobuntYUdH+OdqnyxZdS98F+Vvds1VHJi2l\n",
       "9h/LjfRFCvdIG/488Fpk9EzGFXuMcaRfWDUgIqCka+IIb49aNHuuiSmyLtxI2/CsmGqA7KgX9nZF\n",
       "9gTFq36XscdQx1/fEM5FERFFpaLrmqcaUjaNLcAUP0MpFx5yOsaIXZ+BPpwhmQ/89YuccgerC7P1\n",
       "9HjPuq8emnBVRU/noV+0aawFOkQSjLrwkAOftQ3RO3GeJkdQzuS7YJrmSSutDt5tjLNfkI5+EE8V\n",
       "fYCditp0KK+LEqhJuPANRJs8I66IMbnjm+MJiZPhCMcL/gwDa5IyQUW36beXL0kv0H0rZ9N6Vkaa\n",
       "l3fwwYL3giFjqzs5nMCJfDhjF5gTe2hcN+/ESPPJtRS07zeJxoRNI7kOdvAdXHPoXratlk1Iopns\n",
       "SuwQIythZFHRdoXmuJ3KrbgqHFHRkWUyYdGhMbFNPKpyLjziHAizrL3i1ItzqYxtukN5LjbNOVB+\n",
       "8tfLVqlRoK32oqBDFKfWtEPjmdxuKiwX/sjp5hSrtowszPXA0JTeLWcKbz1qtcWVNPSWRaq8U/JF\n",
       "j3yUpv0tC7GGQ6xZdFACvqQbf7rf7hND+3aJYGoJaFFPI3tZaLqy9yU9w8potHtGbU2m98T6YZ0p\n",
       "6qvojKmM5jOl3MUn0uGyxPeicWV0Vbn/RjDinnosdRUvVxntbg2rL2GckStDRIrNr4zGr3LLfwP+\n",
       "A4t47wICxd6KAAAAAElFTkSuQmCC\n",
       "\" style=\"display:inline;vertical-align:middle;\" /></a> <a class=\"ProveItLink\" href=\"../__pv_it/demonstrations/5bc91bdb8c3e68a57866267410fe6cc9a4bc40cc0/proof.ipynb\" style=\"text-decoration: none\">&nbsp;&#x22A2;&nbsp;&nbsp;</a><a class=\"ProveItLink\" href=\"../__pv_it/demonstrations/9b4192870fd3f80639c0739c95492cb0b9351d740/expr.ipynb\"><img src=\"data:image/png;base64,iVBORw0KGgoAAAANSUhEUgAAAJIAAAAVBAMAAABf4KrdAAAAMFBMVEX///9ERES6uroQEBAyMjLc\n",
       "3NyYmJgiIiJmZmaqqqp2dnbMzMxUVFSIiIju7u4AAAAd7oVFAAAAAXRSTlMAQObYZgAAAAlwSFlz\n",
       "AAAOxAAADsQBlSsOGwAAAiNJREFUOMtjYMAGWBlIBDg13IRIOxBtEtMF7OKcC8AUywc08cT/Z844\n",
       "bkAV47t45hjrAoZr2E16AqHmg00SABEvICKGDAw8v1HFLt9j4GxPYGB5gNWkNgjV8xVEFoCIGIh3\n",
       "/wL98QNF7GE1kOgPYGBrQDbgYnk5JGQMwCRX1G80k9iAAmx/UcScQW5RBmI7JINU7sGCCWJeLO9P\n",
       "NJN4gN5lMUUW4wIr2QHEbgwMb++8XjUB5HQ/mJEckABv4PyGZhKzAAPf8Q3IYvFg1msgXgPUwHuW\n",
       "A8RnCYCZxJIAjtgJ3L/QTNove/dIAorYenjspzCwBbD94wFJs8C9yT4B7DIG1j9oJt0PYOA0QxGr\n",
       "h1s/mYGbgQMSLJvLgQAcvcwK4PDv6PmIZpIwyBUovrMHi4NCfT9II8SFD+FuApvEBxT9DjdpD1gC\n",
       "5Mb8C8hi9eAY2gCNP/0APpCh7Ki+4wDiYhBPFETkgghuUAycV0AW6wf5jgvEm87wUOEwhMkLDzxG\n",
       "EEsNiP1BPEV4vPICUyr3FxSxeJDSdeCcxDB/XzODJtgAT5hJXAeA6kCpUx5kI6cnA186OLOxAMWU\n",
       "wWbCxUAJRQucUboYXtzlbAPHFcMbIWje4S5g4JP/8oBh4n8vEDfK3QWcZnnk/5w5IglRAhNjeCFz\n",
       "Ahw/DEXIuUVLHJpbqhlIBqwFWIUzSDeJIwGrMGMAySYFYhfmEyDZJFEc4rGkGsQbwAAALEOP1Fb9\n",
       "5JQAAAAASUVORK5CYII=\n",
       "\" style=\"display:inline;vertical-align:middle;\" /></a></span>"
      ],
      "text/plain": [
       "{(x in A) or (x in B) or (x in C)} |- x in (A union B union C)"
      ]
     },
     "metadata": {},
     "output_type": "display_data"
    }
   ],
   "source": [
    "InSet(x,Union(A,B,C)).prove(assumptions=[Or(InSet(x, A), InSet(x, B), InSet(x,C))])"
   ]
  },
  {
   "cell_type": "code",
   "execution_count": 4,
   "metadata": {},
   "outputs": [
    {
     "data": {
      "text/html": [
       "<span style=\"font-size:20px;\"> <a class=\"ProveItLink\" href=\"../__pv_it/demonstrations/9e60733d31bde7d1774c94f350d89ef8f8e6c6660/proof.ipynb\" style=\"text-decoration: none\">&nbsp;&#x22A2;&nbsp;&nbsp;</a><a class=\"ProveItLink\" href=\"../__pv_it/demonstrations/a1b4e663a7b552ab6fb072479cd944bdd3fbb3ad0/expr.ipynb\"><img src=\"data:image/png;base64,iVBORw0KGgoAAAANSUhEUgAAAlIAAAAVCAMAAAC6w/C8AAAARVBMVEX///8/Pz9vb28YGBgJCQkd\n",
       "HR0NDQ0WFhbMzMxUVFRERES6uroiIiIQEBCYmJhmZmYyMjLu7u52dnaqqqqIiIjc3NwAAACb3p1w\n",
       "AAAAAXRSTlMAQObYZgAAAAlwSFlzAAAOxAAADsQBlSsOGwAABThJREFUaN7NWtmCpCgQdGZnZxU5\n",
       "RI7//9TVQpDkpqS6mxfrSCMzIpNTp+loaio1Vfz6nU11hqTaOKg3/mm1UdO3gKvpk5HHiZCiiLVx\n",
       "/xswVtu3ltQq4bXSXOhdhH2iDY76sUM2nwBvUej9yKNEiL0INS/+N2i86UqYFGm9HG1Dc8WSS3TY\n",
       "0UmVopEH3GGG0GL6g6QTuBabC72LMCRaddSFHagzFhxKWleoC7ycCF4ZadjqRwmMhb5LCt02zLch\n",
       "5o9Fz0U7SeTZCwTDtAinTQBUC9B1Sl0oDL2LcEg0cLSLjJNGbKjOWHAoaajQ08hLiWCV+sUAGBiz\n",
       "RavYTPn1rLQZC1fNCnYc4avi2IWYgZsvuIkRw+hCpaxaUi70LsIhUeiI4y3jpA07UGckeChpoNDT\n",
       "yIuJIKV5BuP//vq+gfGudj1XSopeFtSGkLTbiO1DKynCSetw1UYCeyOpDlMkyaFGOCIKHEm6rGkn\n",
       "bdihOgPBI0mhQk8jLyVCZAe8dTsHzsVfBAFjJQ9gUSmpRVuGKm+33zAzK8Ih7fq3mfq3q3Nt1XXI\n",
       "luJQIxwTBY7wNKMpp08DdqjOOPBYUqjQ08hLiWC7XcvJhc/7PcWq17QIp1jmL+HYucaglZIyiwW+\n",
       "2FE4Zaf0/SOfi3AauYHX/Lxf/+5Lbd7bgw9NhGOivqNzRbuphJNW7FCdYeAJSYFCjyMvJcJW16Gb\n",
       "XOTEXCjGIwW7T7/SV3Hi7eWSmjWSR5DefQm7XcvC1A3hpJsyjGd6caU3Z4a9tkShdxGOiXqOXncI\n",
       "ltCnETtSZxh4QlIKpsXHkRcSgU09UnX+y6fF0dsSOxwsQN89OsNSrgFplrWClEYzrFVjSbkZ/Jgy\n",
       "zFJAXGsAQSqjlAu9i3BM1HNk9tWYR05asSN1hoEnJPUVGhB5IRHE/HJaML+OZ3J28n//YOzNuWT1\n",
       "1myMHRshVK4BRGyvKUx8xDvd4mU4Z6mJ7S7wml+dr/BDG+GYqOfIrC+kjJy0YkfqDANPSOor9Dzy\n",
       "UiK8KiESbEITpxe3MTe295SNk4ditnO7DV/KDt9kxVyGQ264pXCHuJLOkmojHBO9HV3rC46TXa4F\n",
       "O1JnGHhCUk+hAZGXEnHPZes5WHIOagRnZo/JbsxcnMiNtN68O1uHdnhM2rF7lN4rcNdnTiwlgeE1\n",
       "u5YKJ742wjHR25HVmYmEPi3YsTrDwBOSegoNiLyUCCRNMa7TQvycvobFNThBRDa9Kw2fyKwIbBHA\n",
       "YuEIYSvYKTeE7bwCZ4/gt/uZBrxmmwu9i3BMlEZTvfegsw87VmcYeEJST6EBkZcSYTZ/Qs/8PAdd\n",
       "vRFuE9FphN0pKuLmVHWfbJz3copn/7ztGgy9ukjYXVv0defTVIQzeV0xiza/bK+UlNtDdxGOiTpH\n",
       "9+h5P7/swk6oMw48lvRWaEDkxUTMr5Ll7KhGwag/Z/IF/RMs9C9jpPVLBXF+cJGqfcPb61zMLgLd\n",
       "U1EwFUd2p3u0LMFTpBwcQszbzeAVXrNtxpBDC+EUUedocaaznPqxk+oMA09Ieis0KPJ8InD+HYHf\n",
       "v9CxHPE3ALj2QsEXN4XhtXSKMNc5xIRzDmtO3sH+KHhNoWeRw0QUnrjGZzQNj2e/tNmHnaz+dosL\n",
       "vYtwzmHNyTvYHwWvKfQs8iARKPe+nkoseZH6UYMUykeaD72LcKfFA+yPgtctnkQeJoLnbtkTr/lx\n",
       "9JNKysrQVOgu9C7CnT3qAfZHwesKPYk8SoTKvEWafBKr5M+pKKngtdaV5PQG4ZTDFie92B8Fb1Ho\n",
       "/chhIv4HBFKAafbTDjQAAAAASUVORK5CYII=\n",
       "\" style=\"display:inline;vertical-align:middle;\" /></a></span>"
      ],
      "text/plain": [
       "|- (x not-in (A union B union C union D)) = ((x not-in A) and (x not-in B) and (x not-in C) and (x not-in D))"
      ]
     },
     "metadata": {},
     "output_type": "display_data"
    }
   ],
   "source": [
    "NotInSet(x, Union(A,B,C,D)).definition()"
   ]
  },
  {
   "cell_type": "code",
   "execution_count": 5,
   "metadata": {},
   "outputs": [
    {
     "data": {
      "text/html": [
       "<span style=\"font-size:20px;\"><a class=\"ProveItLink\" href=\"../__pv_it/demonstrations/ae71f8b1e0f5265583bcf1321b9bd25d8b4b5f010/expr.ipynb\"><img src=\"data:image/png;base64,iVBORw0KGgoAAAANSUhEUgAAAPsAAAAVCAMAAAC34mhmAAAAP1BMVEX///9jY2MJCQkdHR0NDQ0W\n",
       "FhbMzMxUVFRERES6uroiIiIQEBCYmJhmZmYyMjLu7u52dnaqqqqIiIjc3NwAAACGmE1UAAAAAXRS\n",
       "TlMAQObYZgAAAAlwSFlzAAAOxAAADsQBlSsOGwAAAuBJREFUWMO1mNmSpCAQRZ3uGXZk/f9vHRYB\n",
       "EVApLR+6OkI8XJObmciyuMssZ5f56Na9Ic/YL8C1OkWsovPsGn6wvlL3AXu7rtkvwJU8JQDYw9pt\n",
       "dnaubo7NkLXQXSsCN9jTwoVGDs4WIxNcrOczcNyZ1dp+bGW9EtNsisIPtKCzbg/hmmoPVJywBOcX\n",
       "4SU9LLRbxjBeySG1nlm2sdGL2PKG/RAuEAHbc0F7gNOzhELk31/SxFcaaUFaqf3iaAarYM+y2YZl\n",
       "MQYV+yF8zTBMk3A1dg5enUkgaAudXrRN/ltZFWqA9qkxy4Y2CTUN+xlcZsEL4Ek4l6kQaCiA3OWU\n",
       "8SnRSyruEz7JkrAuPuuus0yzY7oLuNlzzx7CW3oHbmzJAJHhKbbuhTTUCy9jwkSs7TTYTQJsmpnt\n",
       "5vBPqF2SzrKBRdq9SF5uVpl2AG/pHbi0zXs4OInhYsZnmXNKsdk66JE8xDEtiaKHpkLKE7NsHSuo\n",
       "oqxhD+EdegdObLPRcXAa64f3Aa9sAigh5PfH/UGHMsK5q/Mor1XJ1mAmXSI8y0Y0rRI4sofwlt6D\n",
       "0x1JZOG01E6q66bQttSQXeEn5w+mh34rSCPvLjuZiaVWR5db8Jreg5Py7gpk4SQPwt4XQlT9kXQd\n",
       "728kWYoctx5cHW15kw1SAYUWH9in8CO9A+fF87IIRzrGCi+Q7u5Ef2HeFDpWb2rdPvS4lzDZgJPs\n",
       "Ld1dDNYjewjv0Ttwk2udFEV47CPKAsFprOGlIKmmAZu03CgFMreaUlgRqPrfXbbr6psZU53K7DG8\n",
       "S+/At6aM86t7OAgRFdwFS3FWZYmAP1jUaWpt0KX8P1EYSWkH81CQhM6wF5g/ZIqtc0oP4V16C/fj\n",
       "3IfMfovv4QQM90fsj0SuXJ59MxhyuqX+IvsNOOOffADf+6D4JvsVOBqdbxh0fXByMeSb7DfgYjRS\n",
       "qksEujhZ+ib7FbgZnA7B60Ojy0O1b7Kfwv8DMLExfR/oucMAAAAASUVORK5CYII=\n",
       "\" style=\"display:inline;vertical-align:middle;\" /></a> <a class=\"ProveItLink\" href=\"../__pv_it/demonstrations/a615abc155f46342edb45c86af0ebb37eb6232b10/proof.ipynb\" style=\"text-decoration: none\">&nbsp;&#x22A2;&nbsp;&nbsp;</a><a class=\"ProveItLink\" href=\"../__pv_it/demonstrations/da0822e8dadf3e6b66a35f29c285eba2a212d0730/expr.ipynb\"><img src=\"data:image/png;base64,iVBORw0KGgoAAAANSUhEUgAAAJIAAAAVCAMAAACaEEfcAAAARVBMVEX///8/Pz9vb28YGBgJCQkd\n",
       "HR0NDQ0WFhZERES6uroQEBAyMjLc3NyYmJgiIiJmZmaqqqp2dnbMzMxUVFSIiIju7u4AAAAQwmFf\n",
       "AAAAAXRSTlMAQObYZgAAAAlwSFlzAAAOxAAADsQBlSsOGwAAAjNJREFUSMe9Vtli3CAMdJq04RQ3\n",
       "//+phcWAMAb3oRue1jCgYTQSexybIbafbxjPEXjAX17jzfwdlKh/AFiHv7QZ2MaHzZLE6NLgxO6B\n",
       "wZMEk4fI53u5ByuKdw6y6NgpkY5RGMPKgot2h/PM51xoBXJOzDRg4DfwVy6KGSawrCKWLNCo1rhA\n",
       "4CSsyoFSrdh4AvD9BwvD8LIRJtoHSvJEyJPaLY6zqgo9A7B7mSjPYjpsAo3pCX/4qB8ouVijiiXO\n",
       "9FPsKQ+XL395F6wxuldTmMyjsLlVNpN8oFSsFFzNzA1OxD4XTphxJYB3/lBtmZesDgXJkZVoIm+j\n",
       "2VOykfh0V7Rvxpk4F71MSkiR8x0O1zbzm6YEehApXdDtKfliV802akKce6NOnsqCKZwkyyCN318A\n",
       "BKWBIusrlSqO7CkRVpVYJ46h5haauucaFjC8ghk9kO+UQsF2G8Btb60qtoK7wUGnpO1YeTQLGMIQ\n",
       "Ay49SuO05YnWFUhTH9nPVvu7SJc41RPXnKkhaUIPx/Dk4dMOemlZpEaj8vqiUDJU6mClRI2vcaIp\n",
       "aEJ/iFI126BYKaPmbz02pVqb+ZQqDuk31DzvDRLQHn7qzxDNGXe2EtoZ5W4TVBJFK4mtExz5vDRR\n",
       "C8VmMb5i6Pyj6SoMB/5qr7VNtjd3cOSES9HTmzu8pUAXD8qvj/SiAK5DsMdPDAH/9k9p/x7+16FW\n",
       "/04EmeeI+AmRyGrl0pRQu3rzWN/b3d7Av52Rz4z+An8KIPd6+juBAAAAAElFTkSuQmCC\n",
       "\" style=\"display:inline;vertical-align:middle;\" /></a></span>"
      ],
      "text/plain": [
       "{(x not-in A) and (x not-in B) and (x not-in C)} |- x not-in (A union B union C)"
      ]
     },
     "metadata": {},
     "output_type": "display_data"
    }
   ],
   "source": [
    "NotInSet(x, Union(A,B,C)).prove(assumptions=[And(NotInSet(x,A), NotInSet(x,B),NotInSet(x,C))])"
   ]
  },
  {
   "cell_type": "code",
   "execution_count": null,
   "metadata": {},
   "outputs": [],
   "source": []
  },
  {
   "cell_type": "markdown",
   "metadata": {},
   "source": [
    "## Miscellaneous Testing\n",
    "\n",
    "The material below was developed to test various unification-related methods. Some of this material could be integrated into the `_demonstrations_` page eventually and/or deleted as development continues."
   ]
  },
  {
   "cell_type": "markdown",
   "metadata": {},
   "source": [
    "### Some Example `Sets` For Testing"
   ]
  },
  {
   "cell_type": "code",
   "execution_count": 6,
   "metadata": {},
   "outputs": [
    {
     "data": {
      "text/html": [
       "<strong id=\"set_123\">set_123:</strong> <a class=\"ProveItLink\" href=\"../__pv_it/demonstrations/b525e1a908ac39fd855a42ae46345dbfae68e6350/expr.ipynb\"><img src=\"data:image/png;base64,iVBORw0KGgoAAAANSUhEUgAAAEMAAAAVBAMAAADvM06qAAAAMFBMVEX///9ERETMzMxUVFSYmJgQ\n",
       "EBDc3NxmZmYiIiJ2dnaqqqoyMjKIiIi6urru7u4AAAB85a56AAAAAXRSTlMAQObYZgAAAAlwSFlz\n",
       "AAAOxAAADsQBlSsOGwAAATBJREFUKM9jYGDgu8uAC7Atg9Cn7+FUwqAsByK5/gEJpj6YvvKNChBW\n",
       "5nRZICkMYnI2MDA8rv4HVZLIwPkXzOArYFi/gIFhBkwJAw9MiRkDQyiYwfOL4f0GrEriHzDYJ4AY\n",
       "vLEM/NiVWDAw2EMdw7DeAasSIOiH0rwtDFAl7BtQlTD9gdKHjYDkURAz1QFVCYcBjAXyUT4QJ+9l\n",
       "QFVSCGexAgX5rBcwMBU+QFHCAjWESYGB8RfQpSATGA1QlKxkYAN7mv8fWMn6B8g+4gNrnsDA8wDE\n",
       "YjUAWzQV7mnObwzgwGTIKC+vALNYHFDDhdn0twkDBygq+////w1hXS+XZUAOOjBYx4DJQlMygQGT\n",
       "BVbCEwDl8R1gwGAxVIMT0S8ojwcujmDxhYCpdCvcaXcyMPwBuxlX82KGivkAAAAASUVORK5CYII=\n",
       "\" style=\"display:inline;vertical-align:middle;\" /></a><br>"
      ],
      "text/plain": [
       "<IPython.core.display.HTML object>"
      ]
     },
     "metadata": {},
     "output_type": "display_data"
    },
    {
     "data": {
      "text/html": [
       "<strong id=\"set_45\">set_45:</strong> <a class=\"ProveItLink\" href=\"../__pv_it/demonstrations/c5e25220f0d3ffbb6c9d67f82e774dcc1b4777ea0/expr.ipynb\"><img src=\"data:image/png;base64,iVBORw0KGgoAAAANSUhEUgAAADAAAAAVBAMAAADyTXAxAAAAMFBMVEX///9ERETMzMxUVFSYmJgQ\n",
       "EBDc3NxmZmYiIiJ2dnaqqqoyMjKIiIi6urru7u4AAAB85a56AAAAAXRSTlMAQObYZgAAAAlwSFlz\n",
       "AAAOxAAADsQBlSsOGwAAAPVJREFUKM9jYGDgu8uABrISwNTpe0hiTAwMzxiYDB8AmVz/wCLqEAnW\n",
       "3zv6GBgYDYBMzgawSDNEgiO+8wFUDCLBA5VgBpNIEiqbcUhMwCHBkwCT8JmsABVj3wAkUhigEowP\n",
       "2P4C1QUAmakOIJNgEkAgwcDA9ouBIXkvkM2SgCRRD/T3410MTIVAd+cwwCSkgRJAS2ZfgPjysrHx\n",
       "V0uwRAQDgz00NKA+D2ZgeAC2jCEQKBaAkPjIwPcbSKUz8MSheLDwvw1DB1ALW7k5aliBANcDGAtN\n",
       "gpMBRQLsSzB4A5cAhwbIlxBwAC7xFBQaDOlW6HGeCRQBAI3fP9vrJ8cvAAAAAElFTkSuQmCC\n",
       "\" style=\"display:inline;vertical-align:middle;\" /></a><br>"
      ],
      "text/plain": [
       "<IPython.core.display.HTML object>"
      ]
     },
     "metadata": {},
     "output_type": "display_data"
    },
    {
     "data": {
      "text/html": [
       "<strong id=\"set_12345\">set_12345:</strong> <a class=\"ProveItLink\" href=\"../__pv_it/demonstrations/12dc3bbdd186bc7f3c4f78b4ed0f0166715fdfe40/expr.ipynb\"><img src=\"data:image/png;base64,iVBORw0KGgoAAAANSUhEUgAAAGsAAAAVBAMAAACzuQ2OAAAAMFBMVEX///9ERETMzMxUVFSYmJgQ\n",
       "EBDc3NxmZmYiIiJ2dnaqqqoyMjKIiIi6urru7u4AAAB85a56AAAAAXRSTlMAQObYZgAAAAlwSFlz\n",
       "AAAOxAAADsQBlSsOGwAAAbtJREFUOMuVlM1LAkEYh39+pK5sS9DdpIIuHSQt+gI99AcE1Vmjwg6B\n",
       "SQcDIYQIOuVCBHWJPQVdyugYQRcP0SEhgi7FQocuQR9URJY2MzuzuiGac5h5dtxn5/V9310Ayi2a\n",
       "Ga49Y724+7fihxJDl4+it0Qm+4Z4VurIz2knWRC39/A1erKuA+0UpQxwny7xH6Yh/Rj0AO+X0Fb5\n",
       "uva5S+ZtoUEW2gAwZdClphT5piy0AJtraFEd4Rij6wKE1n3cSBsEwvzPwfvGQW2okZEVcBPhMcaE\n",
       "FjrvE5o7Z9Xs3xx6g/zYWQjNhwTJbp7iXMSqeQKCRCZVUwNsJLaEBsycwqolK+GS/JDhjFVp7g/S\n",
       "ViMa7EndojnFYZ1Ah0ZhAUKz5eB+JdmgJ9kCFm0fLqMAZZ1rV8Hg+xDbasnA8Qwc6tWZVFhCVMg6\n",
       "owkapGI8izC7lZhtwJZZAImE/ERTOp9KLRs0RuvGCHgB6xjXIvJ6Vd0c/cUQPLSds+Vy0aDWFGll\n",
       "RkiWR0F7GPGlFUu52ThAHfLq5t4fTUUdkmDV5HF+pZyhDj1WtDR7HcVbJZv7tcj0oUyyJT7c3Ldk\n",
       "k1TzF7kehGaj+EznAAAAAElFTkSuQmCC\n",
       "\" style=\"display:inline;vertical-align:middle;\" /></a><br>"
      ],
      "text/plain": [
       "<IPython.core.display.HTML object>"
      ]
     },
     "metadata": {},
     "output_type": "display_data"
    },
    {
     "data": {
      "text/html": [
       "<strong id=\"set_1357\">set_1357:</strong> <a class=\"ProveItLink\" href=\"../__pv_it/demonstrations/2ab20c46011fff57150c93666164274b125f04f40/expr.ipynb\"><img src=\"data:image/png;base64,iVBORw0KGgoAAAANSUhEUgAAAFcAAAAVBAMAAADBdm84AAAAMFBMVEX///9ERETMzMxUVFSYmJgQ\n",
       "EBDc3NxmZmYiIiJ2dnaqqqoyMjKIiIi6urru7u4AAAB85a56AAAAAXRSTlMAQObYZgAAAAlwSFlz\n",
       "AAAOxAAADsQBlSsOGwAAAYNJREFUKM+Nkz9IAlEcx796qN2hD6GhzaTWBilbanFojqCmFoMQR5MG\n",
       "ByFsCKIhogiKIG5qLPcIWhyiIZegpThoaAmK/qfg9X7vvTu906g3/N7H3318/vz93gFgt/h7hY/k\n",
       "fnnX83ESbEF60xSHExSNFg/BTeeE/WJdUvZ03RJg2Lb9DvQT6xXgvtxS8gOMhqS1r0MJ+kCptAHs\n",
       "OTKijnxlsqaklFOPzn9vqad8XYdfNgANPWX+7M0n87X9m3yTkXv6YtTtW9yRI1WPPDKWlJBAQfUF\n",
       "GkGNKJfxldFwKFBRkKNQMIHFM3hlZC0FkQ8FBxTYpIlg0eqUh4BBUxxbReRFJVfFf6NTA6lO2baU\n",
       "HKpAe5Y59krxxOrsBqPULJXB5ChCcYiKYp8Ud93W6by8J2rLFPWZiA+tZslpGt/o7LM23kyjjy5T\n",
       "rMQvkqD88gog7lJ43iPLdYwuMiw355O30EU6vHJ0Rn1i5+iix7ZcFoN3JhZ1821yvwU2J7b8xH/e\n",
       "wR3e/R+s826IIH9ExQAAAABJRU5ErkJggg==\n",
       "\" style=\"display:inline;vertical-align:middle;\" /></a><br>"
      ],
      "text/plain": [
       "<IPython.core.display.HTML object>"
      ]
     },
     "metadata": {},
     "output_type": "display_data"
    },
    {
     "data": {
      "text/html": [
       "<strong id=\"set_246\">set_246:</strong> <a class=\"ProveItLink\" href=\"../__pv_it/demonstrations/64bc5e0032fc71a75b1aa445a1bcae606cc435d70/expr.ipynb\"><img src=\"data:image/png;base64,iVBORw0KGgoAAAANSUhEUgAAAEMAAAAVBAMAAADvM06qAAAAMFBMVEX///9ERETMzMxUVFSYmJgQ\n",
       "EBDc3NxmZmYiIiJ2dnaqqqoyMjKIiIi6urru7u4AAAB85a56AAAAAXRSTlMAQObYZgAAAAlwSFlz\n",
       "AAAOxAAADsQBlSsOGwAAAVVJREFUKM9jYGDgu8uAC7Atg9Cn7+FUwqAsByK5/gFVl29UgIkyFUAZ\n",
       "M2cCxYRBLM4GBoZEBs6/MCUcBhA6+wIzUGYGTIkZA0MoTMkJqJI9DIwCSEriHzDYJ0Dt8YYoAdnP\n",
       "gKTEgoHBHuoYTm6IEsYAVCVA0A+15xhUCeumObUwJewbwOb/gYaEA1QJ/xYG1gUMDEdB7FQHZH9w\n",
       "MkCVvP/AwB7HwJAPVJa8FyxSCLXHDa6kgYEFGBB81gsYmAofAAVYoIawHYAp4d/AwPIFaCrIBEaQ\n",
       "0EoGNrCneY2N7YMngH0EMWX9A6iPmCYw8DzggxjEasAAYnEB3QL091SYpzPKyysY3m+A2CAAYUky\n",
       "PF2AFC79////ZuDoA4eB/OcDYBZnuRFa0AHBOgZMFpqSCQyYLLASngAoj+8AAwaLoRocFL+gPB64\n",
       "OILFFwKm0q1wp93JQE8BADUdUypywwoMAAAAAElFTkSuQmCC\n",
       "\" style=\"display:inline;vertical-align:middle;\" /></a><br>"
      ],
      "text/plain": [
       "<IPython.core.display.HTML object>"
      ]
     },
     "metadata": {},
     "output_type": "display_data"
    }
   ],
   "source": [
    "# define some enumerated Sets for use in testing, containing numeric literals\n",
    "set_123, set_45, set_12345, set_1357, set_246 = (\n",
    "        Set(one, two , three),\n",
    "        Set(four, five),\n",
    "        Set(one, two, three, four, five),\n",
    "        Set(one, three, five, seven),\n",
    "        Set(two, four, six))"
   ]
  },
  {
   "cell_type": "code",
   "execution_count": 7,
   "metadata": {},
   "outputs": [
    {
     "data": {
      "text/html": [
       "<strong id=\"set_abc\">set_abc:</strong> <a class=\"ProveItLink\" href=\"../__pv_it/demonstrations/dd6841aef2ed57ddc63411fd25626b38833823b50/expr.ipynb\"><img src=\"data:image/png;base64,iVBORw0KGgoAAAANSUhEUgAAAEEAAAAVBAMAAADrxp6XAAAAMFBMVEX///9ERETMzMxUVFSYmJgQ\n",
       "EBDc3NxmZmYiIiJ2dnaqqqoyMjKIiIi6urru7u4AAAB85a56AAAAAXRSTlMAQObYZgAAAAlwSFlz\n",
       "AAAOxAAADsQBlSsOGwAAASZJREFUKM9jYGDgu8uAA7Atg9Cn7+FSwaAsByK5/iGLPYxAUSIMIjgb\n",
       "UMS2o/BmYFHxi5AK3n+EVKCZiFCRPCcHIsRtc3gBVO0ZJ6gK9g1As8MY5B+Axd/v4/sGCYsuhkIG\n",
       "hqMgZqoDA8NTB4YKiM71DxhiwAyOCSBGPtDA5L1Abj0DQydERTUDw08wox5sJp/1AgamQiAzkIHv\n",
       "L0RFJwMvxL+BEMeA9DMaMPD9YWD5AAsOdrB/gUJQS8F+4fvFwLxhGQOI9wnkJhDjC9D9DAxTYb6V\n",
       "YVhRUMD3G8gzYRBnADOAHpmEFB6PT6rZKDB0APU+ng70GojBOcXnAUaYcj1AZ6Cr4MRgQFTwBMC4\n",
       "bzAYoOABBi88vg9gMPhCwFS6Fc50OhkY6ADYKFVebW/9jQAAAABJRU5ErkJggg==\n",
       "\" style=\"display:inline;vertical-align:middle;\" /></a><br>"
      ],
      "text/plain": [
       "<IPython.core.display.HTML object>"
      ]
     },
     "metadata": {},
     "output_type": "display_data"
    },
    {
     "data": {
      "text/html": [
       "<strong id=\"set_abcde\">set_abcde:</strong> <a class=\"ProveItLink\" href=\"../__pv_it/demonstrations/79184629a2e14906fcd14d7156a50559efda0ab70/expr.ipynb\"><img src=\"data:image/png;base64,iVBORw0KGgoAAAANSUhEUgAAAGkAAAAVBAMAAAC3TN2zAAAAMFBMVEX///9ERETMzMxUVFSYmJgQ\n",
       "EBDc3NxmZmYiIiJ2dnaqqqoyMjKIiIi6urru7u4AAAB85a56AAAAAXRSTlMAQObYZgAAAAlwSFlz\n",
       "AAAOxAAADsQBlSsOGwAAAY5JREFUOMtjYGDgu8tAAmBbBqFP3yNFF4OyHIjk+ocsxifagKmQaWsB\n",
       "Ek8YRHCiKuMuwGI+/wIkzgwsulAUwMD9BwR0oShAUYhP1wxsIbAduy42y2MHIGKbz1hBZeccUYCE\n",
       "teWhX9CgmnP8AVQX+wYgcTWBERKUfL8fvE8AszIWsAuAGXA5hhsKTBMYGI6CmKkOQLUhDOwQhwLj\n",
       "gRViayeUAZLbALH0CwPPBQaGfGB4Je8F2feBgWMCA9RmfjCLHRaNCDnGP2fmgoyxXsDAVAh0KqsA\n",
       "w/sLYBmggvvgsGcVgOpCyPEbgClOkD2MQPb7Awz+8OiqB4f9e2joIMtBhNY/gIbh+wUM1lwJfCAZ\n",
       "BaA/wAygdy+AGAg5kEOB7pgKC3nGA1zt7AzvgZ5mdmAsADOAAcipAGIg5Fg2MDxPQIovPptJyYcY\n",
       "OPqALMsSBjCDYabLOYgIXI7hpMsBLGljHW4GEgtd1wTcDCQWWBdPADxvHcDJQGIxVINj/BeMy4Ob\n",
       "gcQChjEIpFuRVG5MBgY+AJsYfaNN5DH7AAAAAElFTkSuQmCC\n",
       "\" style=\"display:inline;vertical-align:middle;\" /></a><br>"
      ],
      "text/plain": [
       "<IPython.core.display.HTML object>"
      ]
     },
     "metadata": {},
     "output_type": "display_data"
    },
    {
     "data": {
      "text/html": [
       "<strong id=\"set_de\">set_de:</strong> <a class=\"ProveItLink\" href=\"../__pv_it/demonstrations/60b822f557d8bea50fe452270360fa3d4e44fe190/expr.ipynb\"><img src=\"data:image/png;base64,iVBORw0KGgoAAAANSUhEUgAAADEAAAAVBAMAAAAdjxsPAAAAMFBMVEX///9ERETMzMxUVFSYmJgQ\n",
       "EBDc3NxmZmYiIiJ2dnaqqqoyMjKIiIi6urru7u4AAAB85a56AAAAAXRSTlMAQObYZgAAAAlwSFlz\n",
       "AAAOxAAADsQBlSsOGwAAAP5JREFUKM9jYGDgu8uABtiWQejT99BlGJTlQCTXPzCHaWsBkpQwiOBs\n",
       "gHD4FyDJzECWuf8Al8wMBlwy27HLsFke+gUR45tz/AFUhn0DkLiawAhxIsMNBaYJDAxHQcxUB6DC\n",
       "EIgCoOYvDDwXGBjygQ5N3gvS94GBYwJYhvHPmbkgM60XMDAVAo1lFWB4fwHiKwMwxQlSzwhkvz/A\n",
       "4A/17wEwtf4B1G3vFzBYcyXwAXkgQ4F2TIW5mvEAVzs7w3ugI1g2MDxPQPIPn82k5EMMHH1A7kmX\n",
       "A+hhAATrsIcOEExAleEJgHH5DsBlqsG+/gXj8sAlgGECAulWGOlgMtDhAIJBRKScMA5JAAAAAElF\n",
       "TkSuQmCC\n",
       "\" style=\"display:inline;vertical-align:middle;\" /></a><br>"
      ],
      "text/plain": [
       "<IPython.core.display.HTML object>"
      ]
     },
     "metadata": {},
     "output_type": "display_data"
    }
   ],
   "source": [
    "# define some enumerated Sets for use in testing, containing variables\n",
    "set_abc, set_abcde, set_de = (\n",
    "        Set(a, b, c),\n",
    "        Set(a, b, c, d, e),\n",
    "        Set(d, e))"
   ]
  },
  {
   "cell_type": "markdown",
   "metadata": {},
   "source": [
    "### Testing the `UnionMembership` class methods\n",
    "\n",
    "The `UnionMembership` class has the following class methods:<br/>\n",
    "    <div style=\"width: 75%; border: 1px solid green; padding: 5px; margin: 20px; background-color: gainsboro; font-family:courier\">definition(self, **defaults_config)<br/>\n",
    "    unfold(self, **defaults_config)<br/>\n",
    "    conclude(self, **defaults_config)</div>\n",
    "</font>"
   ]
  },
  {
   "cell_type": "markdown",
   "metadata": {},
   "source": [
    "A few `UnionMembership` objects for convenience:"
   ]
  },
  {
   "cell_type": "code",
   "execution_count": 8,
   "metadata": {},
   "outputs": [
    {
     "data": {
      "text/html": [
       "<a class=\"ProveItLink\" href=\"../__pv_it/demonstrations/5b0482a4d85dee3ed10f0afdcc5ca3822da780490/expr.ipynb\"><img src=\"data:image/png;base64,iVBORw0KGgoAAAANSUhEUgAAAMAAAAAVBAMAAADiAfyoAAAAMFBMVEX///+YmJhERESIiIhUVFTc\n",
       "3NwiIiJ2dnbu7u66urqqqqpmZmYQEBAyMjLMzMwAAAA7oY0NAAAAAXRSTlMAQObYZgAAAAlwSFlz\n",
       "AAAOxAAADsQBlSsOGwAAAr9JREFUOMuNlU1oE1EQx6cJm2yybRMteFMDWhG8rERRsJZqDwUhECTg\n",
       "QcXiYdWKkNZQEKWE6kUqpHgQhYJ7UXtQLEXoqWgVit5SRGmsQg7FiwctRSyC4sz72n3ZXeyDfbzd\n",
       "+e38d97OzAMIG0W8bk9CxDAeBR6ZD0IhI8JD3MWrUY0SgNW9rU+O3g+FUjZbdn6e0W1P8Hqu+R9f\n",
       "1IDdLc7SGyGOCNrPlxlXj7eO06juYkW748YcTRM0JQdDHBHUwT/zob4bVjYo8DtEgHkt+QU0RwS1\n",
       "zfj4+B7nClu0Q0AgtbEpgdEA9NaLP/Veyj8LCkgP/xFYCUBLmEoDvSz+syq8OWk2Bg7yNICO/gNi\n",
       "e5P5HREC0hH+xKtHqgKqAEwVYyz+D0p6iaZ58EwAtWXzJ0/vIZgF6GkRsOoafa/ZWRbQdjAXuBnq\n",
       "SmCIHC0AM4nYMWnfsEWiTItzri5wJgueIzDWID4poKdg/aCXMIcXHcc5z4B3yBSQkCYezy+2eMk2\n",
       "0iy4foFSA/x0bD1/TULfoT0HNWoKZk5FgALwDetQmnBcgBTf39f8RzRUBKv0cbNVP53p86ApqNmw\n",
       "09tRtUVUh8pEZWCx/TXX5Y7h6Kapi31zn5/O2B70GGouFNLU3PJKYJfIIm4y6e4v3MkCvbCG+Qxw\n",
       "g3F3ab+XZRZ5NO2UK6CtELPTly2WiarMK0KAm2r0547BPjD/4AJTaEymafoTmNuaUsCj2+owURTQ\n",
       "HJj9Y6VeFv1x2RG/CgFuSlzEu1vXMU8cDCE53FVVVXjq45fDqg599KEttiy0S/52MCJaRaKpVfK0\n",
       "6plVvZJDC31aq2RjMKzdsw7l+SgrN7AJgbIGsb4ZHJQePap523J1UwHzrSfUqyDNoJPhJ9Y4yGKl\n",
       "l9Vj9S4Wbcv5qLq5RzOoO+LQRVfGCzfyTK4ETKdPhELxIvwDHWm+0b+UE8UAAAAASUVORK5CYII=\n",
       "\" style=\"display:inline;vertical-align:middle;\" /></a>"
      ],
      "text/plain": [
       "d in ({a, b, c} union {d, e})"
      ]
     },
     "metadata": {},
     "output_type": "display_data"
    }
   ],
   "source": [
    "# a UnionMembership object that is clearly True\n",
    "union_mem_01 = Union(set_abc, set_de).membership_object(d)\n",
    "union_mem_01.expr"
   ]
  },
  {
   "cell_type": "code",
   "execution_count": 9,
   "metadata": {},
   "outputs": [
    {
     "data": {
      "text/html": [
       "<a class=\"ProveItLink\" href=\"../__pv_it/demonstrations/25c0f3ac8b2de5e37822dc7274a1012f85389eba0/expr.ipynb\"><img src=\"data:image/png;base64,iVBORw0KGgoAAAANSUhEUgAAAMIAAAAVBAMAAADm9CyVAAAAMFBMVEX///+YmJhmZmYQEBDu7u6q\n",
       "qqpERESIiIgiIiJUVFS6uroyMjLc3NzMzMx2dnYAAABe+sMRAAAAAXRSTlMAQObYZgAAAAlwSFlz\n",
       "AAAOxAAADsQBlSsOGwAAAwJJREFUSMeNlU1oE0EYht+kzW6azG6jBz3UQ82h+AMasUh7ymoP4g80\n",
       "oAdB0B48VBQbEVFQaA5FgqU2FFoMKg3Ug3iKB60WxVCxKgUtXvQi5qSWQrRgEdtDnZmdmWT/wIUd\n",
       "vv32nXn223lnBvC5CGsOlxB0va54Us0PfUUkYITL9NZnrECCMeF5d+1+43vgqC2KZdlzrbbgVEeq\n",
       "tDnNBvksRiLJJ0JDah20Nq3gAkR+85Hb7aemtadDQnSR3vOllpxTfoQ1P2jlYy8FYQ7mqh0dQGQF\n",
       "MHkPjf8ePqqdiApwNH3LErk4Daah9TkJWwUBGBSEu8BeOxrMNK+pAXlRhTrhqiC0QOVC7aI+dun9\n",
       "+WEepDyEtIVJe3anSggkGG1eAjqhpQQgNi2Gi5Q9hNvApJysyHIQwYz7EB6h6cX3HTwxL/0RrnoI\n",
       "9BqVwYNEEOG6ImxeXJCiRbRSSIaFz+UQ8QRrdzoJxh8RfCrSznrKRQjTuklCEjSLrEpRG3p/IdzJ\n",
       "wrIcLMqAZI+TEFX+ZF4iKy7CK1YY4nUT90vRMfTmEGJONLry+fwN7mZqeHKn5CR01K1Gpx2HHjsI\n",
       "72Zos6WRsLsiRF/RWkZomflaWZYR8PGMgxCSfb8AA7TGpZIkGOyN0WGBZBXhHCUsCNEUNFEDco6/\n",
       "hLMOwikQ263rFiPYFtdYKsT3Bbp+Y8XiZDc3Cbqo9eQ6P4EInQc+JVckQcs6vMQgRhW61cwy3fwv\n",
       "mbxHrE9Z0PZNUwFcRDn7IESbgAvo4R8dzwiCWVCEnxWwJYy3yeQ29DIvbGhYDziZwf6RBu+39tmi\n",
       "WeidMreLBsl79v47IbZHIycJxfSzBPL0I0fX19cQHWLfnWQ7nyCQpWGxTHkiPPA3y0UkOSb3Jdxs\n",
       "2I5i38SuMaJq4O5UfjqupKZrr2xIuEQk57f9b3QQTJWv/g/BJQon/AjcI5fk00F1jGWVIlx2ddFT\n",
       "AaI53yOML40PcuJVF72u6HF/mb1+fUTn/U/JN6zP9kzgKfp+3JOaHfcV6RX8A07E05gUh8jEAAAA\n",
       "AElFTkSuQmCC\n",
       "\" style=\"display:inline;vertical-align:middle;\" /></a>"
      ],
      "text/plain": [
       "6 in ({1, 2, 3} union {4, 5})"
      ]
     },
     "metadata": {},
     "output_type": "display_data"
    }
   ],
   "source": [
    "# a UnionMembership object that is clearly False\n",
    "union_mem_02 = Union(set_123, set_45).membership_object(six)\n",
    "union_mem_02.expr"
   ]
  },
  {
   "cell_type": "code",
   "execution_count": 10,
   "metadata": {},
   "outputs": [
    {
     "data": {
      "text/html": [
       "<a class=\"ProveItLink\" href=\"../__pv_it/demonstrations/0dc65d190c9cea0fb87786a20aaa6344ac2cb13c0/expr.ipynb\"><img src=\"data:image/png;base64,iVBORw0KGgoAAAANSUhEUgAAANQAAAAVBAMAAADMRN06AAAAMFBMVEX///+YmJhERESIiIhUVFTc\n",
       "3NwiIiJ2dnbu7u66urqqqqpmZmYQEBAyMjLMzMwAAAA7oY0NAAAAAXRSTlMAQObYZgAAAAlwSFlz\n",
       "AAAOxAAADsQBlSsOGwAAAy5JREFUSMeFVk1IVFEUPs7vm3lPnX5oFw2UoRAxYsEsysQCwTCGsIQs\n",
       "miKmHwmkxBb9KNUmCkZaFQm+TT+LQovAhUi6iVw1kkVa0SzEFi1yEwxC2Tnnvnvn/czLC+/ON+/c\n",
       "+333nnvOuQ+gUsvgc2cI/Fr4seeV9tB39DFiC/sYgyY+84O+k2Gx3v1m7wPfwTWtyBRLCfx1zGl8\n",
       "is8oKS1Jue7JnRbqutqA/TYXXbzk2OKOrP1voAW7RoFrTaczCtj14+/B75ZUOAkDwp/aGIyabMWW\n",
       "pO4udVEHN1Q71s7GakE14vSVngCLbJ9lCGXAmBK+XYF8QUoxf2cFKefa2Vgl1MXE4PbcRQYGuKWM\n",
       "EoR+M4rNQO3aUs61C+M7xl+Y5IO0v/BIhbIQ+itnjibWlOoHr9QsnkNb8wrBE2ol4x4pbJFlC8RO\n",
       "gY9UuG23iDOYa2q3Rl9uLFpSfQDDmQCHz0fFOkvdpEvql8VSs+sQ9ntcUjpFkmQC7c9gPsPoqKkn\n",
       "IcjHvBm0aTEOCor1Aq1w2iV1RiGKwJOmU+o4OpWYsjL0DbGyswTC7LXnoC9DpJdW+zaXy51m+wwq\n",
       "dQw5pfSkksIYAa3DtEt1ztMQi4n3WMtIF7u8vUBuASMJeaLVylwoBT/rnVIbZeoXIYCLjM6rXS3S\n",
       "21c4UDIBKY7wtg1Bep1eD0M+BVvKjlcOFPVAScV74YjImBJLcS2BOuo2yIKgmCit3vCAfKpcSp5A\n",
       "3oSOOJ1hk5La6ohAnvMDIM3IaGEHXuOB9+lQP8sIFEwaSRXx3BjgEQ5BlMNiPQRS8R6di4nK8D4l\n",
       "NZDBaCK+nomJLKOqhC2v4gugbSpKKcFEtSSUCIwxwBOOymAfB23/jc5mjtBWWZyXpNSB93MJyOFm\n",
       "IqurqwVG8GiioZyjXZ++pVWWCqbIOURtL4EBXFmXlil83pbUsUtWYYoU7QkfH/QiVzlwVItnHiDy\n",
       "O1vpguHKqMii4EX/k+r1ADZyDfe2OlUPsN0CLxK1xH6ZTqkbKOUGokQcrnxv3gRZD7CpGTakTbs/\n",
       "AVaUqAfAvYRMjArfDkgafm36f1v0eWzd7b6ju8gUzMA/+V/WjqRBQ50AAAAASUVORK5CYII=\n",
       "\" style=\"display:inline;vertical-align:middle;\" /></a>"
      ],
      "text/plain": [
       "d in ({1, 2, 3} union {a, b, c})"
      ]
     },
     "metadata": {},
     "output_type": "display_data"
    }
   ],
   "source": [
    "# a UnionMembership object that is not clearly True or False\n",
    "union_mem_03 = Union(set_123, set_abc).membership_object(d)\n",
    "union_mem_03.expr"
   ]
  },
  {
   "cell_type": "code",
   "execution_count": 11,
   "metadata": {},
   "outputs": [
    {
     "data": {
      "text/html": [
       "<a class=\"ProveItLink\" href=\"../__pv_it/demonstrations/be7479bad94d1075534dc0f9f9c329638b76c4180/expr.ipynb\"><img src=\"data:image/png;base64,iVBORw0KGgoAAAANSUhEUgAAAPcAAAAVBAMAAABoLmXpAAAAMFBMVEX///+YmJhERESIiIhUVFTc\n",
       "3NwiIiJ2dnbu7u66urqqqqpmZmYQEBAyMjLMzMwAAAA7oY0NAAAAAXRSTlMAQObYZgAAAAlwSFlz\n",
       "AAAOxAAADsQBlSsOGwAAA6dJREFUSMeVVk1oE0EUfk2z2c0mqZGKF0ED1aKINviDPdTaWkFQiwGj\n",
       "BSs0B0ml9RCx6EGtodaDVEhR8Acq5lL1IsYiegiladWip8ZLaatCwKoHRSNSTANtfDOzu8nsj7UD\n",
       "O3n79s37Mt/7mQEwGwF8rvWDxRAGDSrpLixjHA8oGGajPI7PdNRy8exGvWb3nf/ErQC4ChV70fdN\n",
       "RfEhwVs8xOcJh90zzhms17mUczi1Dm9VEU7puTo/pPDoXpjEj7YG3J2XaVbEeQ7TOJ3jl7/n3thH\n",
       "H5n6yCSGEMAHlxlC73BOB94Hcp5Jjon2KLOHKaa5zzPs8hrB8ybgxAMEVXB7ANwpJWwquFPZ3Z64\n",
       "tMAkO6j2sKbUF2wLh9OUGjCAO3NLgrtzYJ/Tgct+9jvQD0Zwd7SE03u1ypLHRnBqvcTOQ2BftABH\n",
       "6ZcB3IO0CPvrKafClGr4QvMfPHuEqTxNO5S8ELevNQcnAc1agt9SAmCv7Moo9iJm3UDARm09WuG9\n",
       "I9MwIfs11DBuYlMSo1TogCGAOh24i4YLfvqtwD/tyzDBFhXm0YAkR1kapFFlqUcjtYOAjOJ03QvP\n",
       "mQoL7yXbXIQIbXEe/ATb10mwpr2YsdXonbzJKXBliUMc38M4aPW8xa/NpGpGANrZAuThDxVGKBNS\n",
       "c7wUPDjNqsTHgbvC4dPj4XAD001oFTWCFPfOYDfIgtsHMVqePdpfQ3D4RprYGEjzTNUOTvbXx1jg\n",
       "p7Wdz5KmMkQ9rwKrnf8AqGE5swXBMQKXENKZgpgf1jFCOdpJE5N+Q1lWLXMXdYgq0NrfBjJV0kiS\n",
       "7ckROGoBXoiq4NgpDysdUQ5BLA7NMsm1ci0+VUq2S3mwpweBAC2S+BMBK8YJcJHa3dBqhGbvV4Ba\n",
       "amMEf0Vol4gUoeSJNOF8YPPLnS5qMaOCd6mlVgUPEgnamxphM1ABU71bLTV5BqTVGa29diaTIdbI\n",
       "xDkd+EpS5zGS161Q/kb5s64ISE3dwXrWkjcpOfFFBe/d9bkpA2FU917AfCaCeKYyqnWglsmPtVrT\n",
       "cBQKhTS1sR9aaOTBnUk8WBzkuBGSB9Xe7uDO7NvVrL06MlyHk6N6Qd/4SxqgzB0TxVIj4xFvf8z0\n",
       "zC1LcP5Fg/APcJE/ErylbxHe/qn5iU/SuE57u2IQaPvjbh8po43xtlOkgbQ1wWduRkq+TTvj/QZB\n",
       "GtVfFvIGG5P7UVHE0gGbxT1KQBfCs7jlHa7L8Kn1wHLucC3EeifAX/vH+ek3NbimAAAAAElFTkSu\n",
       "QmCC\n",
       "\" style=\"display:inline;vertical-align:middle;\" /></a>"
      ],
      "text/plain": [
       "d in ({a, b, c} union {2, 1 + 3, 5})"
      ]
     },
     "metadata": {},
     "output_type": "display_data"
    }
   ],
   "source": [
    "# a UnionMembership object that is not clearly True or False\n",
    "union_mem_04 = Union(set_abc, Set(two, Add(one, three), five)).membership_object(d)\n",
    "union_mem_04.expr"
   ]
  },
  {
   "cell_type": "markdown",
   "metadata": {},
   "source": [
    "###  `UnionMembership.definition()`\n",
    "\n",
    "From self $= [x \\in (A \\cup B \\cup \\ldots)]$, deduce and return something of the form $[x \\in (A \\cup B \\cup \\ldots)] = [(x \\in A) \\lor (x \\in B) \\lor \\ldots$."
   ]
  },
  {
   "cell_type": "code",
   "execution_count": 12,
   "metadata": {},
   "outputs": [
    {
     "data": {
      "text/html": [
       "<a class=\"ProveItLink\" href=\"../__pv_it/demonstrations/5b0482a4d85dee3ed10f0afdcc5ca3822da780490/expr.ipynb\"><img src=\"data:image/png;base64,iVBORw0KGgoAAAANSUhEUgAAAMAAAAAVBAMAAADiAfyoAAAAMFBMVEX///+YmJhERESIiIhUVFTc\n",
       "3NwiIiJ2dnbu7u66urqqqqpmZmYQEBAyMjLMzMwAAAA7oY0NAAAAAXRSTlMAQObYZgAAAAlwSFlz\n",
       "AAAOxAAADsQBlSsOGwAAAr9JREFUOMuNlU1oE1EQx6cJm2yybRMteFMDWhG8rERRsJZqDwUhECTg\n",
       "QcXiYdWKkNZQEKWE6kUqpHgQhYJ7UXtQLEXoqWgVit5SRGmsQg7FiwctRSyC4sz72n3ZXeyDfbzd\n",
       "+e38d97OzAMIG0W8bk9CxDAeBR6ZD0IhI8JD3MWrUY0SgNW9rU+O3g+FUjZbdn6e0W1P8Hqu+R9f\n",
       "1IDdLc7SGyGOCNrPlxlXj7eO06juYkW748YcTRM0JQdDHBHUwT/zob4bVjYo8DtEgHkt+QU0RwS1\n",
       "zfj4+B7nClu0Q0AgtbEpgdEA9NaLP/Veyj8LCkgP/xFYCUBLmEoDvSz+syq8OWk2Bg7yNICO/gNi\n",
       "e5P5HREC0hH+xKtHqgKqAEwVYyz+D0p6iaZ58EwAtWXzJ0/vIZgF6GkRsOoafa/ZWRbQdjAXuBnq\n",
       "SmCIHC0AM4nYMWnfsEWiTItzri5wJgueIzDWID4poKdg/aCXMIcXHcc5z4B3yBSQkCYezy+2eMk2\n",
       "0iy4foFSA/x0bD1/TULfoT0HNWoKZk5FgALwDetQmnBcgBTf39f8RzRUBKv0cbNVP53p86ApqNmw\n",
       "09tRtUVUh8pEZWCx/TXX5Y7h6Kapi31zn5/O2B70GGouFNLU3PJKYJfIIm4y6e4v3MkCvbCG+Qxw\n",
       "g3F3ab+XZRZ5NO2UK6CtELPTly2WiarMK0KAm2r0547BPjD/4AJTaEymafoTmNuaUsCj2+owURTQ\n",
       "HJj9Y6VeFv1x2RG/CgFuSlzEu1vXMU8cDCE53FVVVXjq45fDqg599KEttiy0S/52MCJaRaKpVfK0\n",
       "6plVvZJDC31aq2RjMKzdsw7l+SgrN7AJgbIGsb4ZHJQePap523J1UwHzrSfUqyDNoJPhJ9Y4yGKl\n",
       "l9Vj9S4Wbcv5qLq5RzOoO+LQRVfGCzfyTK4ETKdPhELxIvwDHWm+0b+UE8UAAAAASUVORK5CYII=\n",
       "\" style=\"display:inline;vertical-align:middle;\" /></a>"
      ],
      "text/plain": [
       "d in ({a, b, c} union {d, e})"
      ]
     },
     "metadata": {},
     "output_type": "display_data"
    }
   ],
   "source": [
    "union_mem_01.expr"
   ]
  },
  {
   "cell_type": "code",
   "execution_count": 13,
   "metadata": {},
   "outputs": [
    {
     "data": {
      "text/html": [
       "<span style=\"font-size:20px;\"> <a class=\"ProveItLink\" href=\"../__pv_it/demonstrations/c0cf088072a2f6885f4f72ebfb8cf176671224aa0/proof.ipynb\" style=\"text-decoration: none\">&nbsp;&#x22A2;&nbsp;&nbsp;</a><a class=\"ProveItLink\" href=\"../__pv_it/demonstrations/f7fa65dc05cf6b7acecb1425d54c4e1986e119c70/expr.ipynb\"><img src=\"data:image/png;base64,iVBORw0KGgoAAAANSUhEUgAAAQIAAAAuBAMAAAAxeAqaAAAAMFBMVEX////MzMxUVFRERES6uroi\n",
       "IiIQEBCYmJhmZmYyMjLu7u52dnaqqqqIiIjc3NwAAACW8nlqAAAAAXRSTlMAQObYZgAAAAlwSFlz\n",
       "AAAOxAAADsQBlSsOGwAABWRJREFUWMPtWN1rXEUUP+l+ZHP37s1SERTRROpLTAuroA+FpgvWPBSk\n",
       "W21Aax8CWioFZaWI5iG4WKRoQBeJtpZalvpBRSTbaCw+FPYlhVqoW5CmGrcsKYqlSooIpaUBZ86Z\n",
       "e2fm3pm99w/ogXN39sycM7/5Ond+FwC6YBJu/aIMFvEuREzOtrDl766I04WeUmjZrIXZhtVr/eaw\n",
       "5dftYUvfBub/DJD2kPPY+JNa1PqzCsB5sqI1eDwUxr2NP/e/othSw2wYVVK7OHX8GWxFrQuaaUDH\n",
       "SJUl/jjJH3kB8I7SBm1HhVolR/h2NKJWHUEII1VitysKgvTtMIK3hFolqwYsPDHxgrTqCEIYLQjy\n",
       "lTCCbIPUKufo5wgO4LOGal0wdBmHQFsrtA1USa0yw8/W6EVcvmsN1YqdeKNX2mT6qLPRD9x53YJg\n",
       "5cyQWKtvOu8LW36Y1CqHmY53U7h8xzUrvKdUgXOrMUfn2tsDBwEuhRDk2N5NvwZbaRDpnfAAW9RJ\n",
       "VuyvkwK8O8Hl2TCCPSz4PvQHqKtW8PZRVcU/bVmajUwTXgVYbekI/mQT/VUVUTNZrcIvLAKfWXeS\n",
       "1CovM/g3eFSWFPYyiM/5Vm+kLKtwjINU+hCH6Yy0VAQrs7wG4EWKurWzzPPpiWMs6g3SXgiyJZjj\n",
       "7Z2SaoX7NssqHPkOWuOXaDPMBnOwnqM/2OA1zn/k/y/9/Mh805OkVmHzPdeGt+WqBqvA015QxdOB\n",
       "GPwa/qeEOcYf0yL/sZp+Mdg1mSfdCql1H2xh3bRgxOW7rKNacbtTlcMRFNme4AW4ycYE8AO2e4rv\n",
       "l6PiLDh3YF39AnBobDFcZsOdWCK1yjyD33afz+FhbilWREBVc2yLrqumaljgB+GUfxrdY+C8UfRP\n",
       "4xZYrNWcW+zfFDgfiNOYa5Ja5V42r5tOrVzECd6wXVqxE6rK7Gal0UOABcifnm4ECer6x5/+FmSf\n",
       "E8sPbSrCBKstnJ72c0SmTGqVTFH5k/5OZGW0yiz4U6QQTpFKOnYbmu0PoVbpr1mtspNmpNADQV63\n",
       "HRJqlzGr9VLwrm6HC+CnHnmlCQ7ct/INy7aNVyLtIZ9brav+xixAuMCTZejeFlwMJEqWIyHVJe0h\n",
       "Xttm9d5pWZ3mI1V/bQxbrnPLFaF35a7EiZ1TxDAWL2o2X8e3Wd29gJuYWUsMY0lHTtHvxrZRLhO4\n",
       "Y4jzVtYSy1iWwqylGSEtksvo4X33JeImZtYSz1gGEOKj/PEgf3wdJS1KvtbC++5MOTcxs5Z4xkLv\n",
       "FLygPAZB+tdIi4JAC++7M81aWUsCxrIf36N8R+EsTqo9BnF8BAtG9/3ITcysJQFjwUt9nk1Ojk+Q\n",
       "W1eWS8bxERwxuh9GbmJmLQkYC16l+PgzIG5DAWm5pt8S/PBs05253FDc5wUOE2tJwFim0PCwuGFy\n",
       "bhaQluPaO1rGgaeLfU3FfQpvxWbWkoCxnAVxW9+NFS2FtMg4nMsE4cG7CYWy4n4WmYGRtSRhLEO0\n",
       "8F0Xlz5blqRFxkEuI+Ok1jrfq+5DPgIDa0nAWMZFIhro+gh80iLjIJeRcQaHdfdxfxUMrCUBY1mk\n",
       "uso9IFZBkpaK9i1HidPW3ReRm5hZSwLGcoAaLj1CXbV90qLF4WdBxuGL0VLcD4gTYWItCRjLDDX8\n",
       "kjYZ/0qApEWPwxHIOIzIn+wq7jPITcysJQFj2SXOG/XWF5AWLQ5HIOPA8pttUNx3ITcxs5Z4xuLp\n",
       "r0vYCaY4yqelqDtT8XowSSxjyYU+D5k/mSkIou5cx6ysJZaxXA05mHmB5DIG96uCm5hZSyxjCQN3\n",
       "jNxIchmD+5jPTcysJYaxFCJD/sfYOMplAnem/wPdJRWWkg4GJQAAAABJRU5ErkJggg==\n",
       "\" style=\"display:inline;vertical-align:middle;\" /></a></span>"
      ],
      "text/plain": [
       "|- (d in ({a, b, c} union {d, e})) =  \\\\ ((d in {a, b, c}) or (d in {d, e}))"
      ]
     },
     "metadata": {},
     "output_type": "display_data"
    }
   ],
   "source": [
    "union_mem_01.definition()"
   ]
  },
  {
   "cell_type": "code",
   "execution_count": 14,
   "metadata": {},
   "outputs": [
    {
     "data": {
      "text/html": [
       "<a class=\"ProveItLink\" href=\"../__pv_it/demonstrations/25c0f3ac8b2de5e37822dc7274a1012f85389eba0/expr.ipynb\"><img src=\"data:image/png;base64,iVBORw0KGgoAAAANSUhEUgAAAMIAAAAVBAMAAADm9CyVAAAAMFBMVEX///+YmJhmZmYQEBDu7u6q\n",
       "qqpERESIiIgiIiJUVFS6uroyMjLc3NzMzMx2dnYAAABe+sMRAAAAAXRSTlMAQObYZgAAAAlwSFlz\n",
       "AAAOxAAADsQBlSsOGwAAAwJJREFUSMeNlU1oE0EYht+kzW6azG6jBz3UQ82h+AMasUh7ymoP4g80\n",
       "oAdB0B48VBQbEVFQaA5FgqU2FFoMKg3Ug3iKB60WxVCxKgUtXvQi5qSWQrRgEdtDnZmdmWT/wIUd\n",
       "vv32nXn223lnBvC5CGsOlxB0va54Us0PfUUkYITL9NZnrECCMeF5d+1+43vgqC2KZdlzrbbgVEeq\n",
       "tDnNBvksRiLJJ0JDah20Nq3gAkR+85Hb7aemtadDQnSR3vOllpxTfoQ1P2jlYy8FYQ7mqh0dQGQF\n",
       "MHkPjf8ePqqdiApwNH3LErk4Daah9TkJWwUBGBSEu8BeOxrMNK+pAXlRhTrhqiC0QOVC7aI+dun9\n",
       "+WEepDyEtIVJe3anSggkGG1eAjqhpQQgNi2Gi5Q9hNvApJysyHIQwYz7EB6h6cX3HTwxL/0RrnoI\n",
       "9BqVwYNEEOG6ImxeXJCiRbRSSIaFz+UQ8QRrdzoJxh8RfCrSznrKRQjTuklCEjSLrEpRG3p/IdzJ\n",
       "wrIcLMqAZI+TEFX+ZF4iKy7CK1YY4nUT90vRMfTmEGJONLry+fwN7mZqeHKn5CR01K1Gpx2HHjsI\n",
       "72Zos6WRsLsiRF/RWkZomflaWZYR8PGMgxCSfb8AA7TGpZIkGOyN0WGBZBXhHCUsCNEUNFEDco6/\n",
       "hLMOwikQ263rFiPYFtdYKsT3Bbp+Y8XiZDc3Cbqo9eQ6P4EInQc+JVckQcs6vMQgRhW61cwy3fwv\n",
       "mbxHrE9Z0PZNUwFcRDn7IESbgAvo4R8dzwiCWVCEnxWwJYy3yeQ29DIvbGhYDziZwf6RBu+39tmi\n",
       "WeidMreLBsl79v47IbZHIycJxfSzBPL0I0fX19cQHWLfnWQ7nyCQpWGxTHkiPPA3y0UkOSb3Jdxs\n",
       "2I5i38SuMaJq4O5UfjqupKZrr2xIuEQk57f9b3QQTJWv/g/BJQon/AjcI5fk00F1jGWVIlx2ddFT\n",
       "AaI53yOML40PcuJVF72u6HF/mb1+fUTn/U/JN6zP9kzgKfp+3JOaHfcV6RX8A07E05gUh8jEAAAA\n",
       "AElFTkSuQmCC\n",
       "\" style=\"display:inline;vertical-align:middle;\" /></a>"
      ],
      "text/plain": [
       "6 in ({1, 2, 3} union {4, 5})"
      ]
     },
     "metadata": {},
     "output_type": "display_data"
    }
   ],
   "source": [
    "union_mem_02.expr"
   ]
  },
  {
   "cell_type": "code",
   "execution_count": 15,
   "metadata": {},
   "outputs": [
    {
     "data": {
      "text/html": [
       "<span style=\"font-size:20px;\"> <a class=\"ProveItLink\" href=\"../__pv_it/demonstrations/c93dbdf249215d955a42986a6163cb516bcd51d20/proof.ipynb\" style=\"text-decoration: none\">&nbsp;&#x22A2;&nbsp;&nbsp;</a><a class=\"ProveItLink\" href=\"../__pv_it/demonstrations/1405e8fcbd7858e51601749422b9b539b49acb4a0/expr.ipynb\"><img src=\"data:image/png;base64,iVBORw0KGgoAAAANSUhEUgAAAQQAAAAuBAMAAAA8ZnrdAAAAMFBMVEX////MzMxUVFRERES6uroi\n",
       "IiIQEBCYmJhmZmYyMjLu7u52dnaqqqqIiIjc3NwAAACW8nlqAAAAAXRSTlMAQObYZgAAAAlwSFlz\n",
       "AAAOxAAADsQBlSsOGwAABT5JREFUWMPtmF1oHFUUx0/2K7MfmUQlIhRpmipUKTRVI6g0XVAD6stW\n",
       "XdCYh1BTxCJkUcT2oTa0olvy4CopQUl1abXogzZGBCVI96WFtg9ZEK2GapcWJKVWq1RKSnG9595z\n",
       "Z3Zm7tmZvvfAmdw9c+/Mf+7n+QUAGmAwGy+f5IGzP4KtMo8ZK9n6abx11UzRM3hnusq26lgbuPfL\n",
       "k633Ab5UlRJ15W3slPCFhR5vMDcnLov4ll79quV9G6mDFvaK3on3+Z6TuyZfPal+pVb2j1Cl0+Ss\n",
       "ZSoAF/Kxgjf6OV6+EXfXfUwS7AE4qsblM8hdB8iqFgMqAjqQJGXJiReqFEtXlbNmlQAOQHzAG32H\n",
       "JACcpcaxBqTGZOlsLbPiSJDXc66EH0lCDJxY56Ry1lK6C+W8GCw+LwtjAQmpaxD7T5aG88BK6NgZ\n",
       "lADbyTk7IUZsjMqJA/S+XCXYCwWI/a2H/SonIZs2SJgh52xKfOB7378lyxf0iFlzAQk4vpep8HiJ\n",
       "k/CbI2HXfI+uNE/OmZDXPQMpuTI/0sF0Ca/7fBJW09K6s188vWvMJ8ESPWeXtIR41b6iK+0kB6so\n",
       "zb+WRgGOXAZLjlXF+V5UZL/kk/C0s/7EirCv+yT8jl0Daff5g7rScXLOxoWEAnRewbm0TUh8Rs49\n",
       "sfzse/JeCZa7aiZE8OCsR8K5aXF5s1XCuw2qtJq8jYTuCnRexS3CeQdKgDse9kp4lf7eArBZ9NJ3\n",
       "eUfCrah/bxXsuiPhISGhhyoNk3MmBiJOvQAFz0DAfR4JYsP8UxaaVZRAK3kIL7vk6PdBor9/w1Y5\n",
       "k2EbwAa93I+Rc3Nhk6go5oKcN7/qYLzuWRFSxSqAJVnaKgciq6bjozhpPnQXYKoPMvhXCHkRqNJr\n",
       "5JzhankEDsvPTusTK9vnSDjaANwMwX6uXC7I0hut+0JuFjKv97gSugfgCM7qZejarmNT5Jz1Yuvy\n",
       "GnVerKXDrqOgJfRPvF+Covj4ZLPZrMhSoozHFEmAi/s/WHK3IWvzP/XkCCour9NnBDxLzlmy9YxM\n",
       "fE0b9BanF+SnVoOlrO9gawmc9MbsgnLWzAfIDo+ELBhKvIQ5bwwPQqvU7rQeMgXjmO/8pH99AcGS\n",
       "VfGnPvqkydS9lc6T83bImEXgFvGXnp3uM93SYf930XYptIC30hD3nW5TY1J1Ce/sqbGtLq4PhJbX\n",
       "Gyt1NZTftJsWxRrA4EwoythmArphyEGUMeNMKMoECeWMsXIY5JzicCYCyvgJBQkou/DVDUIOoowZ\n",
       "ZyKgjCKUe2VCSQRkT8Pdxq2bhxy9gwdxJgLKqANGZiwbiYDSdbjfKIGHnBSLM1FQRma9SeykChHQ\n",
       "ojN/figWKxAFck5wOBMJZSShZMVktmpEQA/q1k8seXqhDeRMcTgTCWUkoWAPJDUBvbzqZzllVDYH\n",
       "USBnhsOZSCgjCQXWUNqJBLRSgldkueE5sttBziiHM5FQRhGKSOJHKPHONAHexiZp91PCIGecw5lI\n",
       "KKMIJd3ITRJ+ZP4F2I0Nb8d0XbYIhZxxDmciocww7Uiq25GAxGLZXfJkQqGQM8rhTCSUOabuFW5z\n",
       "CGiQeiHZkgWGQM4mDmcioQwRyum7HAJaFHNBbi9139bEQ848hzORUIYI5dOKQ0DxuYxcETDrk8BD\n",
       "Ti+HM5FQhgjFqrkE9O0eddwdfKDqSeV5yEGUMeNMBJTxE8qW1h9PDbZu0G0gp83/w8JRxk8oO4zP\n",
       "CYUcPs0PR5nzJgIKpj5hkHOIw5kIKDNkIqBgNhcGOYgyZpwJRZkgoVwyVm4POf8DWuQYbhnmL2wA\n",
       "AAAASUVORK5CYII=\n",
       "\" style=\"display:inline;vertical-align:middle;\" /></a></span>"
      ],
      "text/plain": [
       "|- (6 in ({1, 2, 3} union {4, 5})) =  \\\\ ((6 in {1, 2, 3}) or (6 in {4, 5}))"
      ]
     },
     "metadata": {},
     "output_type": "display_data"
    }
   ],
   "source": [
    "# notice the definition is returned even for False membership claims\n",
    "union_mem_02.definition()"
   ]
  },
  {
   "cell_type": "code",
   "execution_count": 16,
   "metadata": {},
   "outputs": [
    {
     "data": {
      "text/html": [
       "<a class=\"ProveItLink\" href=\"../__pv_it/demonstrations/0dc65d190c9cea0fb87786a20aaa6344ac2cb13c0/expr.ipynb\"><img src=\"data:image/png;base64,iVBORw0KGgoAAAANSUhEUgAAANQAAAAVBAMAAADMRN06AAAAMFBMVEX///+YmJhERESIiIhUVFTc\n",
       "3NwiIiJ2dnbu7u66urqqqqpmZmYQEBAyMjLMzMwAAAA7oY0NAAAAAXRSTlMAQObYZgAAAAlwSFlz\n",
       "AAAOxAAADsQBlSsOGwAAAy5JREFUSMeFVk1IVFEUPs7vm3lPnX5oFw2UoRAxYsEsysQCwTCGsIQs\n",
       "miKmHwmkxBb9KNUmCkZaFQm+TT+LQovAhUi6iVw1kkVa0SzEFi1yEwxC2Tnnvnvn/czLC+/ON+/c\n",
       "+333nnvOuQ+gUsvgc2cI/Fr4seeV9tB39DFiC/sYgyY+84O+k2Gx3v1m7wPfwTWtyBRLCfx1zGl8\n",
       "is8oKS1Jue7JnRbqutqA/TYXXbzk2OKOrP1voAW7RoFrTaczCtj14+/B75ZUOAkDwp/aGIyabMWW\n",
       "pO4udVEHN1Q71s7GakE14vSVngCLbJ9lCGXAmBK+XYF8QUoxf2cFKefa2Vgl1MXE4PbcRQYGuKWM\n",
       "EoR+M4rNQO3aUs61C+M7xl+Y5IO0v/BIhbIQ+itnjibWlOoHr9QsnkNb8wrBE2ol4x4pbJFlC8RO\n",
       "gY9UuG23iDOYa2q3Rl9uLFpSfQDDmQCHz0fFOkvdpEvql8VSs+sQ9ntcUjpFkmQC7c9gPsPoqKkn\n",
       "IcjHvBm0aTEOCor1Aq1w2iV1RiGKwJOmU+o4OpWYsjL0DbGyswTC7LXnoC9DpJdW+zaXy51m+wwq\n",
       "dQw5pfSkksIYAa3DtEt1ztMQi4n3WMtIF7u8vUBuASMJeaLVylwoBT/rnVIbZeoXIYCLjM6rXS3S\n",
       "21c4UDIBKY7wtg1Bep1eD0M+BVvKjlcOFPVAScV74YjImBJLcS2BOuo2yIKgmCit3vCAfKpcSp5A\n",
       "3oSOOJ1hk5La6ohAnvMDIM3IaGEHXuOB9+lQP8sIFEwaSRXx3BjgEQ5BlMNiPQRS8R6di4nK8D4l\n",
       "NZDBaCK+nomJLKOqhC2v4gugbSpKKcFEtSSUCIwxwBOOymAfB23/jc5mjtBWWZyXpNSB93MJyOFm\n",
       "IqurqwVG8GiioZyjXZ++pVWWCqbIOURtL4EBXFmXlil83pbUsUtWYYoU7QkfH/QiVzlwVItnHiDy\n",
       "O1vpguHKqMii4EX/k+r1ADZyDfe2OlUPsN0CLxK1xH6ZTqkbKOUGokQcrnxv3gRZD7CpGTakTbs/\n",
       "AVaUqAfAvYRMjArfDkgafm36f1v0eWzd7b6ju8gUzMA/+V/WjqRBQ50AAAAASUVORK5CYII=\n",
       "\" style=\"display:inline;vertical-align:middle;\" /></a>"
      ],
      "text/plain": [
       "d in ({1, 2, 3} union {a, b, c})"
      ]
     },
     "metadata": {},
     "output_type": "display_data"
    }
   ],
   "source": [
    "union_mem_03.expr"
   ]
  },
  {
   "cell_type": "code",
   "execution_count": 17,
   "metadata": {},
   "outputs": [
    {
     "data": {
      "text/html": [
       "<span style=\"font-size:20px;\"> <a class=\"ProveItLink\" href=\"../__pv_it/demonstrations/f6e7000e573496eb9816a237ffc3355d038753560/proof.ipynb\" style=\"text-decoration: none\">&nbsp;&#x22A2;&nbsp;&nbsp;</a><a class=\"ProveItLink\" href=\"../__pv_it/demonstrations/551b69dbe1d81bc4d216b4271f63685b29032aba0/expr.ipynb\"><img src=\"data:image/png;base64,iVBORw0KGgoAAAANSUhEUgAAARYAAAAuBAMAAAAfPSsIAAAAMFBMVEX////MzMxUVFRERES6uroi\n",
       "IiIQEBCYmJhmZmYyMjLu7u52dnaqqqqIiIjc3NwAAACW8nlqAAAAAXRSTlMAQObYZgAAAAlwSFlz\n",
       "AAAOxAAADsQBlSsOGwAABW1JREFUWMPtmF1oHFUUx082u5vJ7GS6KgFFNLX1wZoUVkEfhKYLah4K\n",
       "0lUbqNWHxQ8qfbCLRWofxMUiTelDl1KtlqpD/UAfZGNlH6SU7ksKtaDblwajbZeUSqV+RBCkYTXe\n",
       "e86dyczcj5mAjz1wds+eufOfc+/ce2d+CwBdUBnPflIGnf0qn2U/Zm7tu8GG2rrs0GFPe1bfWunY\n",
       "D5vMrZ8AcoOdw8bv1uXs9/xyw/41r+1/gAL35F42Xv2rYzrOYmSQHq6Ef/LWQzVyvdkN/FrVlrMt\n",
       "9n3fR6IWtwSn6ZZ9Dk4PoEDXKlEGgoRvg5HO4cGjwrVmUaWbPTnb4tFlcSDThXwVo8tt+0Zwafyc\n",
       "V9QS7RwefF241vL01aJZ8tDkM8vZSC35Rcj8i9FEGVLUEu0cHsx75Fo7S1/v8Y/sB144Gx2XCmT+\n",
       "9KfG38m1tECqZbBGrrUDfC6Mnu/x+BcvnI3Wwiy3IILHa7pa3NFLHWpz6OKYaH1qtkgHC6vJtXaE\n",
       "j3q3HxfBh5Es7I/VMiIuc9eaIrud1VgtViOkBPYNr0mbydW2VaLWAw1ygLcnuT0Vr+U5dt52EoJG\n",
       "OAvu9lgtwbl8Hbm9WC0/10ip4q/wPJX+LA+wtVMl19qLrEcLkJvmm8xLrNin/ay7rhytxSoFJ+1k\n",
       "yePHIrXMH4ZlJRylVRhZNE68dd8CuamWfAma/Lp2KZyF2x+J1vKq+L4FYCNbsN+Ug1pu5R3Z6y0r\n",
       "AS9pM67qPIny1tkqudbY3Wh24M3lAQ/uETwYqcWZht8xWPJ4LWKbHecfb/hba6DEt5eDeGazE2zK\n",
       "ToVcO182sOZtWOfwiXYxnA2tIxS9E2AOo+fxHhWog4/yiXXUX0ekZPNaimzuYMCmUZlaD5TItXaC\n",
       "9ajjbLVw326HsqKW013g2yy4W6emKhjtDu8vzjGwXyv6tZBSk62BTK2/jgGbZQWxpq1pcq0Ns3my\n",
       "/qv587gQ125azlIta3YeqsEkG47c0tJSA6PsFH82+lvb9Xfenwu2M1LKbWPR6D7AAE7unhOtc2Vy\n",
       "reWKoR/Zr8UzALPB1ul4chTbZiOJb6UAD14VrrWBujYb1FIARWSoZVoK8OA+4Xob12Yv+D++BDmy\n",
       "GvG3r2C12p14gK3ZWwe6wT7WZv/wp3IgGYo+iz/kxEbMq5ICbN3fJTeY29Fl3bfa2rOuj0mpa2Pm\n",
       "1peE37Sb9n+ZnqGSWM2VpzysUCjQcQMqU/NaEqtlpSX4E6xQKNBBrXNaXktmtdk4r+FGe8fLoBAy\n",
       "UBzqzBKVqXktBasN4sH78SWYf3xBbXsABiZQUBzXYc6pTM1rKViNHmb4KoWDRk+b7KKxFgXFcR3m\n",
       "eS2vpWG1HfhQ58OGQ1sNPyVjQiaKQ50dSGVqXkvDasguBdZRi3fWaYRuQlzIRHGocwSpTM1raVgN\n",
       "3//4mORAvLjB/KmRtkLISHGoc0JUpOK1NKy2BxP3iFdlDqjZV2CjpxAyUhzq7ME3fjWvpWG1MyCY\n",
       "ZBsOXBvfDrAPMSEzxaHOGSQhJa+lYrURmiBdB6dInp1xkF9DFjJTHOqM+LUoeC0Nq02ILW6w69fy\n",
       "Ath/gSxkpjjUmfDvkYLX0rDaDB2r3AbiHtn/wMCCQshMcagzg1Sm5rU0rLaLWs7eS/t5B+weZBrf\n",
       "gSRkpjjU2SVWk4rX0rDaAWr5KU1U/ufKBpip12UhM8WJnWVYy2tpWG2LmNZ03T6WO/7j3euLspCZ\n",
       "4lBnC1KZmtdSsJobg6QnwSykoziuw1w8llSWzGpWDEw0/1K2kijOf0CPa3ktmdWuxM7Q4M+FBIpD\n",
       "nSuCytS8lsxq8T7YJbOQhuKC8UAqU/NaEqsNScPwG6xQKNBh/h8AlU7B9bAm0AAAAABJRU5ErkJg\n",
       "gg==\n",
       "\" style=\"display:inline;vertical-align:middle;\" /></a></span>"
      ],
      "text/plain": [
       "|- (d in ({1, 2, 3} union {a, b, c})) =  \\\\ ((d in {1, 2, 3}) or (d in {a, b, c}))"
      ]
     },
     "metadata": {},
     "output_type": "display_data"
    }
   ],
   "source": [
    "# notice the definition is returned even for membership claims\n",
    "# with unknown verity\n",
    "union_mem_03.definition()"
   ]
  },
  {
   "cell_type": "code",
   "execution_count": 18,
   "metadata": {},
   "outputs": [
    {
     "data": {
      "text/html": [
       "<a class=\"ProveItLink\" href=\"../__pv_it/demonstrations/be7479bad94d1075534dc0f9f9c329638b76c4180/expr.ipynb\"><img src=\"data:image/png;base64,iVBORw0KGgoAAAANSUhEUgAAAPcAAAAVBAMAAABoLmXpAAAAMFBMVEX///+YmJhERESIiIhUVFTc\n",
       "3NwiIiJ2dnbu7u66urqqqqpmZmYQEBAyMjLMzMwAAAA7oY0NAAAAAXRSTlMAQObYZgAAAAlwSFlz\n",
       "AAAOxAAADsQBlSsOGwAAA6dJREFUSMeVVk1oE0EUfk2z2c0mqZGKF0ED1aKINviDPdTaWkFQiwGj\n",
       "BSs0B0ml9RCx6EGtodaDVEhR8Acq5lL1IsYiegiladWip8ZLaatCwKoHRSNSTANtfDOzu8nsj7UD\n",
       "O3n79s37Mt/7mQEwGwF8rvWDxRAGDSrpLixjHA8oGGajPI7PdNRy8exGvWb3nf/ErQC4ChV70fdN\n",
       "RfEhwVs8xOcJh90zzhms17mUczi1Dm9VEU7puTo/pPDoXpjEj7YG3J2XaVbEeQ7TOJ3jl7/n3thH\n",
       "H5n6yCSGEMAHlxlC73BOB94Hcp5Jjon2KLOHKaa5zzPs8hrB8ybgxAMEVXB7ANwpJWwquFPZ3Z64\n",
       "tMAkO6j2sKbUF2wLh9OUGjCAO3NLgrtzYJ/Tgct+9jvQD0Zwd7SE03u1ypLHRnBqvcTOQ2BftABH\n",
       "6ZcB3IO0CPvrKafClGr4QvMfPHuEqTxNO5S8ELevNQcnAc1agt9SAmCv7Moo9iJm3UDARm09WuG9\n",
       "I9MwIfs11DBuYlMSo1TogCGAOh24i4YLfvqtwD/tyzDBFhXm0YAkR1kapFFlqUcjtYOAjOJ03QvP\n",
       "mQoL7yXbXIQIbXEe/ATb10mwpr2YsdXonbzJKXBliUMc38M4aPW8xa/NpGpGANrZAuThDxVGKBNS\n",
       "c7wUPDjNqsTHgbvC4dPj4XAD001oFTWCFPfOYDfIgtsHMVqePdpfQ3D4RprYGEjzTNUOTvbXx1jg\n",
       "p7Wdz5KmMkQ9rwKrnf8AqGE5swXBMQKXENKZgpgf1jFCOdpJE5N+Q1lWLXMXdYgq0NrfBjJV0kiS\n",
       "7ckROGoBXoiq4NgpDysdUQ5BLA7NMsm1ci0+VUq2S3mwpweBAC2S+BMBK8YJcJHa3dBqhGbvV4Ba\n",
       "amMEf0Vol4gUoeSJNOF8YPPLnS5qMaOCd6mlVgUPEgnamxphM1ABU71bLTV5BqTVGa29diaTIdbI\n",
       "xDkd+EpS5zGS161Q/kb5s64ISE3dwXrWkjcpOfFFBe/d9bkpA2FU917AfCaCeKYyqnWglsmPtVrT\n",
       "cBQKhTS1sR9aaOTBnUk8WBzkuBGSB9Xe7uDO7NvVrL06MlyHk6N6Qd/4SxqgzB0TxVIj4xFvf8z0\n",
       "zC1LcP5Fg/APcJE/ErylbxHe/qn5iU/SuE57u2IQaPvjbh8po43xtlOkgbQ1wWduRkq+TTvj/QZB\n",
       "GtVfFvIGG5P7UVHE0gGbxT1KQBfCs7jlHa7L8Kn1wHLucC3EeifAX/vH+ek3NbimAAAAAElFTkSu\n",
       "QmCC\n",
       "\" style=\"display:inline;vertical-align:middle;\" /></a>"
      ],
      "text/plain": [
       "d in ({a, b, c} union {2, 1 + 3, 5})"
      ]
     },
     "metadata": {},
     "output_type": "display_data"
    }
   ],
   "source": [
    "union_mem_04.expr"
   ]
  },
  {
   "cell_type": "code",
   "execution_count": 19,
   "metadata": {},
   "outputs": [
    {
     "data": {
      "text/html": [
       "<span style=\"font-size:20px;\"> <a class=\"ProveItLink\" href=\"../__pv_it/demonstrations/25d36a8a3e13ba448090b3d1114ad8d4d60ee7750/proof.ipynb\" style=\"text-decoration: none\">&nbsp;&#x22A2;&nbsp;&nbsp;</a><a class=\"ProveItLink\" href=\"../__pv_it/demonstrations/010714b1a8dcfc768afdf03a3c89f1fad69902f90/expr.ipynb\"><img src=\"data:image/png;base64,iVBORw0KGgoAAAANSUhEUgAAAToAAAAuBAMAAABKXMhWAAAAMFBMVEX////MzMxUVFRERES6uroi\n",
       "IiIQEBCYmJhmZmYyMjLu7u52dnaqqqqIiIjc3NwAAACW8nlqAAAAAXRSTlMAQObYZgAAAAlwSFlz\n",
       "AAAOxAAADsQBlSsOGwAABi1JREFUWMPtWF1oXEUUPtnsbjZ3f1wrBUU0rRVjrMFUKGig7YKah4K4\n",
       "alNqm4dgWyoBTbSI9iEYGsTEPCQPqbGhyiVRqQ+aNMV/xH1JQQu69SHB1tQlRYlUTQIVSYyJM+fM\n",
       "/Zl7Z3Lv+uRDD5y7d8/MnPvdOTPnzHcBoAQq4dZ3cqCRzLc+k/EwhBcaXwLd021JF3TW9KCpHbWh\n",
       "0Wv5YXdIZFkwSjT+UaHryHl+qXijy2/9TgI3eljqcL/HTWqZXeZ6t4m/Ffu9s/VFt4hE+8lmk8an\n",
       "O0j1Ygzgzw0Fv/Ujueeb0j9qbOCX0/ySzDMEDfAVQRjpXfY85zSkVuhu75+fW+OHhWolQdgfM/1W\n",
       "D7oVBbo8v8xa6CIliLeKlWGhi4q5+algLNHdJmf8y0K1Enc/LL29+SnHKqOLLgeiiy9DZNWDLlWk\n",
       "36Yc+NHFTVKtfO0KW/Qt022V0SXzwXOXh8iiBh27+8uHrrqDVCt9fMVuvYBh+9V0W9FBZutl4b66\n",
       "/nuxNpMzz6vRMYktaNE9ImDUXtpsoUtuItXKEJ/1UiU6e1uyQq+rCWBs2KCoZVqgG2DKgy5Bu6um\n",
       "qEN32x1ZummE+ZwYXzVACvBqM5cnvOha2AY9InwPuK2QOUJNIqIsvzxL0zPOb+YLMrpfaGYs/6rI\n",
       "2tuqMi/Gp1pJtXKIvfYCfyLLUYcZ/Ccta6Yu5zTRTP6NN/0Yf6Ou4EY3O0h7vUFCl2hu3suciti1\n",
       "WwsnsSrGVyyQrocu3gBjPE0ZDW4r3NzoNDE5AFF6+YO0+AbtudvA36wbH/0C6ObuRoBdON2VA5BY\n",
       "FOOjraRaYTEcK8IrziqyI8vTud3E010Cn2j8YwWayU5+6cSH8glKjcMfGnRrpkAXZxt7QYxP5Um1\n",
       "624Hg1CAuhSvxjNuK24rajL4v0V4rwO4S5YYogAfY7+H+PoctvfsrQAXsY8f3dM8stxREiNC46sa\n",
       "SLUywV67mNqXwKRRcFkRHTWN8e1SCw8Apnu2Yc9YGSV1CowXs3Yl29fTk6eSkFz1oHuJ5zvuKNMF\n",
       "U6YYnxgn1cpGFqv6M7MXMGhbdjtWdEBNMV7SRz5lu5LX7+Qnnaadqq+eOHnRTtaxtbW1AewTuWup\n",
       "VkYX7WGnAHQ0d/x1K9/FcqRaiWXd1eqsqGRodWrFN3ZWMOVaoSolKak0ORlFckTjfxaqlaourdUB\n",
       "YE9+EoLRJeXyLBWqcXn8a0L1slNrnbLPU/b7f2B36PUeV1v9ffzHtaI0np24UNeRUa113tokadts\n",
       "e2dFxHO6XPH1UZy4QRpfWSJd74hf1FkzxwvaQRO+prl7y+EVOP6y0OtyXf5voue8AWw74zer80g5\n",
       "PBx+KwlHGZtXqxl3ANuO+nb7j8q+oXl4BcCHULHFJNfo/ryWcQey7Wkv48ZScMsz/5WHx5dO7Bdn\n",
       "sWlSzqvVjDuYbVcj/HuQNfDL+yriWwYPj7UfMEVN5K6Zcl6tZtzBbJtqNB4+t4FdMj3EtwweHnEq\n",
       "NnfNNK5l3CHYdhu+MY8Ozn6r+zxg+wnPw13o0HUb8mo14w7BtpFYJtmCSCDDogVS3SX7Cc/D3eiG\n",
       "UPu0jDsE28YjNJ+3mHXShdkvawqyn/A8PNI5kbX6T6AOaRl3CLZ9DA2bBSPh3xyiz8EuU/YTnodX\n",
       "mplr1lnsGGqLlnGHYNvnQDBGzBIxZmLMiE5+jp9yeDhst85i51AP6Rh3GLZdQzEvpXCpxdmAfk58\n",
       "JT9l8XDoZ5Vi5BSQ6xoLnYJxh2DbTSIJV5csdAfBuAaSn/A8HB5k6FiQP8sJ101WZBWMOwTbnqSm\n",
       "/E0gIssaqxY8fkLzcGDV6D5RW9D1JPJqNeMOwbaPUsfpOwlGEYwViAzg9/QZORWF4eGcE7HAJFst\n",
       "10fFzlUx7hBsu486vktbgH+J2wGTXV2yn9A8HOYg3WZlFMp0G7WMOwTb3iNyBiGpYG5HLt1en5X9\n",
       "hOfhmZ67rTqLrvcgr1Yz7mC2nZHLBzwOKj/l8nDsz10zFeVWJYFsO+H55Kv+fF4uD8f+1uFkp5Zx\n",
       "B7LtK54Bam5aLg/HqnBF6KiWcQeybe9LGUpeXyYP56nBmTPk1WrGHcC2076p+l3ZuSweDld5b+6a\n",
       "6b8VhIIvVwqQgAAAAABJRU5ErkJggg==\n",
       "\" style=\"display:inline;vertical-align:middle;\" /></a></span>"
      ],
      "text/plain": [
       "|- (d in ({a, b, c} union {2, 1 + 3, 5})) =  \\\\ ((d in {a, b, c}) or (d in {2, 1 + 3, 5}))"
      ]
     },
     "metadata": {},
     "output_type": "display_data"
    }
   ],
   "source": [
    "# notice the definition is returned even for membership claims\n",
    "# with unknown verity\n",
    "union_mem_04.definition()"
   ]
  },
  {
   "cell_type": "markdown",
   "metadata": {},
   "source": [
    "###  `UnionMembership.unfold()`\n",
    "\n",
    "From a self proven or assumed of the form $[x \\in (A \\cup B \\cup \\ldots)]$, derive and return $[(x \\in A) \\lor (x \\in B) \\lor \\ldots]$."
   ]
  },
  {
   "cell_type": "code",
   "execution_count": 20,
   "metadata": {},
   "outputs": [
    {
     "data": {
      "text/html": [
       "<a class=\"ProveItLink\" href=\"../__pv_it/demonstrations/5b0482a4d85dee3ed10f0afdcc5ca3822da780490/expr.ipynb\"><img src=\"data:image/png;base64,iVBORw0KGgoAAAANSUhEUgAAAMAAAAAVBAMAAADiAfyoAAAAMFBMVEX///+YmJhERESIiIhUVFTc\n",
       "3NwiIiJ2dnbu7u66urqqqqpmZmYQEBAyMjLMzMwAAAA7oY0NAAAAAXRSTlMAQObYZgAAAAlwSFlz\n",
       "AAAOxAAADsQBlSsOGwAAAr9JREFUOMuNlU1oE1EQx6cJm2yybRMteFMDWhG8rERRsJZqDwUhECTg\n",
       "QcXiYdWKkNZQEKWE6kUqpHgQhYJ7UXtQLEXoqWgVit5SRGmsQg7FiwctRSyC4sz72n3ZXeyDfbzd\n",
       "+e38d97OzAMIG0W8bk9CxDAeBR6ZD0IhI8JD3MWrUY0SgNW9rU+O3g+FUjZbdn6e0W1P8Hqu+R9f\n",
       "1IDdLc7SGyGOCNrPlxlXj7eO06juYkW748YcTRM0JQdDHBHUwT/zob4bVjYo8DtEgHkt+QU0RwS1\n",
       "zfj4+B7nClu0Q0AgtbEpgdEA9NaLP/Veyj8LCkgP/xFYCUBLmEoDvSz+syq8OWk2Bg7yNICO/gNi\n",
       "e5P5HREC0hH+xKtHqgKqAEwVYyz+D0p6iaZ58EwAtWXzJ0/vIZgF6GkRsOoafa/ZWRbQdjAXuBnq\n",
       "SmCIHC0AM4nYMWnfsEWiTItzri5wJgueIzDWID4poKdg/aCXMIcXHcc5z4B3yBSQkCYezy+2eMk2\n",
       "0iy4foFSA/x0bD1/TULfoT0HNWoKZk5FgALwDetQmnBcgBTf39f8RzRUBKv0cbNVP53p86ApqNmw\n",
       "09tRtUVUh8pEZWCx/TXX5Y7h6Kapi31zn5/O2B70GGouFNLU3PJKYJfIIm4y6e4v3MkCvbCG+Qxw\n",
       "g3F3ab+XZRZ5NO2UK6CtELPTly2WiarMK0KAm2r0547BPjD/4AJTaEymafoTmNuaUsCj2+owURTQ\n",
       "HJj9Y6VeFv1x2RG/CgFuSlzEu1vXMU8cDCE53FVVVXjq45fDqg599KEttiy0S/52MCJaRaKpVfK0\n",
       "6plVvZJDC31aq2RjMKzdsw7l+SgrN7AJgbIGsb4ZHJQePap523J1UwHzrSfUqyDNoJPhJ9Y4yGKl\n",
       "l9Vj9S4Wbcv5qLq5RzOoO+LQRVfGCzfyTK4ETKdPhELxIvwDHWm+0b+UE8UAAAAASUVORK5CYII=\n",
       "\" style=\"display:inline;vertical-align:middle;\" /></a>"
      ],
      "text/plain": [
       "d in ({a, b, c} union {d, e})"
      ]
     },
     "metadata": {},
     "output_type": "display_data"
    }
   ],
   "source": [
    "union_mem_01.expr"
   ]
  },
  {
   "cell_type": "code",
   "execution_count": 21,
   "metadata": {},
   "outputs": [
    {
     "data": {
      "text/html": [
       "<span style=\"font-size:20px;\"><a class=\"ProveItLink\" href=\"../__pv_it/demonstrations/5b0482a4d85dee3ed10f0afdcc5ca3822da780490/expr.ipynb\"><img src=\"data:image/png;base64,iVBORw0KGgoAAAANSUhEUgAAAMAAAAAVBAMAAADiAfyoAAAAMFBMVEX///+YmJhERESIiIhUVFTc\n",
       "3NwiIiJ2dnbu7u66urqqqqpmZmYQEBAyMjLMzMwAAAA7oY0NAAAAAXRSTlMAQObYZgAAAAlwSFlz\n",
       "AAAOxAAADsQBlSsOGwAAAr9JREFUOMuNlU1oE1EQx6cJm2yybRMteFMDWhG8rERRsJZqDwUhECTg\n",
       "QcXiYdWKkNZQEKWE6kUqpHgQhYJ7UXtQLEXoqWgVit5SRGmsQg7FiwctRSyC4sz72n3ZXeyDfbzd\n",
       "+e38d97OzAMIG0W8bk9CxDAeBR6ZD0IhI8JD3MWrUY0SgNW9rU+O3g+FUjZbdn6e0W1P8Hqu+R9f\n",
       "1IDdLc7SGyGOCNrPlxlXj7eO06juYkW748YcTRM0JQdDHBHUwT/zob4bVjYo8DtEgHkt+QU0RwS1\n",
       "zfj4+B7nClu0Q0AgtbEpgdEA9NaLP/Veyj8LCkgP/xFYCUBLmEoDvSz+syq8OWk2Bg7yNICO/gNi\n",
       "e5P5HREC0hH+xKtHqgKqAEwVYyz+D0p6iaZ58EwAtWXzJ0/vIZgF6GkRsOoafa/ZWRbQdjAXuBnq\n",
       "SmCIHC0AM4nYMWnfsEWiTItzri5wJgueIzDWID4poKdg/aCXMIcXHcc5z4B3yBSQkCYezy+2eMk2\n",
       "0iy4foFSA/x0bD1/TULfoT0HNWoKZk5FgALwDetQmnBcgBTf39f8RzRUBKv0cbNVP53p86ApqNmw\n",
       "09tRtUVUh8pEZWCx/TXX5Y7h6Kapi31zn5/O2B70GGouFNLU3PJKYJfIIm4y6e4v3MkCvbCG+Qxw\n",
       "g3F3ab+XZRZ5NO2UK6CtELPTly2WiarMK0KAm2r0547BPjD/4AJTaEymafoTmNuaUsCj2+owURTQ\n",
       "HJj9Y6VeFv1x2RG/CgFuSlzEu1vXMU8cDCE53FVVVXjq45fDqg599KEttiy0S/52MCJaRaKpVfK0\n",
       "6plVvZJDC31aq2RjMKzdsw7l+SgrN7AJgbIGsb4ZHJQePap523J1UwHzrSfUqyDNoJPhJ9Y4yGKl\n",
       "l9Vj9S4Wbcv5qLq5RzOoO+LQRVfGCzfyTK4ETKdPhELxIvwDHWm+0b+UE8UAAAAASUVORK5CYII=\n",
       "\" style=\"display:inline;vertical-align:middle;\" /></a> <a class=\"ProveItLink\" href=\"../__pv_it/demonstrations/61830466680e7718dddf8cba033f6e1ffeb6a1020/proof.ipynb\" style=\"text-decoration: none\">&nbsp;&#x22A2;&nbsp;&nbsp;</a><a class=\"ProveItLink\" href=\"../__pv_it/demonstrations/e0ab44575fde255c695936881dc4d20f307febf80/expr.ipynb\"><img src=\"data:image/png;base64,iVBORw0KGgoAAAANSUhEUgAAAPIAAAAVBAMAAACOB66tAAAAMFBMVEX////MzMxUVFRERES6uroi\n",
       "IiIQEBCYmJhmZmYyMjLu7u52dnaqqqqIiIjc3NwAAACW8nlqAAAAAXRSTlMAQObYZgAAAAlwSFlz\n",
       "AAAOxAAADsQBlSsOGwAAA0lJREFUSMd9Vk1IVFEUPuP8+mbeOBRBLUqjNqaCBbUQLBflwo0TNdCP\n",
       "C8HCCIqJFtVCGnIR4cIhpNwUj/6o1YyWtRJmY1BBPTda2MQwgdQidBFIotA9576fe9+7z4G53HfO\n",
       "/b7vnHvPPe8BQA1Uv2c9EPBLf8bBb1Yu1o4Hw/WKCqFPGEHKsK0LIGJ6rd+Va7/1BcM/4VPoQUF2\n",
       "fxGFtSNZyXmI/Rc9fKkyjrsueazr4Ke34FqRnpo8mc9IT40Fn7ORQjuAw24cXnHXhkyTtEKW6C14\n",
       "Ik9P/cZWyp640BmnYEZwOIjDXfJE1tXKEr0Fj4lK+uHcWZWyJy5yXsYhitVCuzYoKjk8tvKMAv6B\n",
       "P01SxI8Mdc4zig15SMxsMxK4IamicCwuj608qYCPYdRt83Q+vw3Jm277YVXw/Wq7TVW9ZkGnwcoX\n",
       "84YEFlh9trki85CyTc+Kavar4cAx9N5amM7nsRvXPcEM2j+jxG99egBGARZweosMewGqlCwrl8hV\n",
       "OGbIPImiyAMnMqGyAx9gxMN8BRTd6z7MzVn7bsR49tEyXAFYwcze88sJcI4czPQiTwGLPMt5gR7S\n",
       "a6D3OPALLLBVZGS37mIulztFS1p7XDNF3sRn45ST1sqwzfxgayk62hgDjAOcB4mnPgEiT3iz+saF\n",
       "M+VYJ5SwV2qdTqw7u1wzZdrP79UQPz0k7LUaSGPNVh4C7S9IPKFRQ+RpahHhbLdLJtwmU1bqM44Z\n",
       "r7OV7Kbb4Oa4L7sdrN1mzviqhyfcIvGYIrybuSrQmsLIq1Llc7OGiAw7K5zAGqsjgLc4vc4XLu7n\n",
       "EiZoG9BQxNeBwIO17fLgplcc+DSiUmcSdGgVUZmbS6w4GvLhAk2wsKesazHGFz7nxZNkyXXDXKEg\n",
       "86CyyxMvwsuaA9/B9rBjqj5Pm7mvT1Dm5igrXa2N9UacQPLdiH0hT1v3hquEmMSTpT0dGZkHlV0e\n",
       "WLphggOPZoTuEnnt754ffRPeZuTXF5wEFU8yC4HweEH5XnWVy74JOa03jfO7qaQRlP3wo0rIgvNu\n",
       "Nr0T3uB+egBh5aeNPgjB8KdK5RW7SHTwTrAp+QMWmoH46bOxBTxtKiF3KoHfYdPMpftS/KNc/Ks9\n",
       "CP4fPMoNqe55gP4AAAAASUVORK5CYII=\n",
       "\" style=\"display:inline;vertical-align:middle;\" /></a></span>"
      ],
      "text/plain": [
       "{d in ({a, b, c} union {d, e})} |- (d in {a, b, c}) or (d in {d, e})"
      ]
     },
     "metadata": {},
     "output_type": "display_data"
    }
   ],
   "source": [
    "union_mem_01.unfold(assumptions=[union_mem_01.expr])"
   ]
  },
  {
   "cell_type": "code",
   "execution_count": 22,
   "metadata": {},
   "outputs": [
    {
     "data": {
      "text/html": [
       "<a class=\"ProveItLink\" href=\"../__pv_it/demonstrations/25c0f3ac8b2de5e37822dc7274a1012f85389eba0/expr.ipynb\"><img src=\"data:image/png;base64,iVBORw0KGgoAAAANSUhEUgAAAMIAAAAVBAMAAADm9CyVAAAAMFBMVEX///+YmJhmZmYQEBDu7u6q\n",
       "qqpERESIiIgiIiJUVFS6uroyMjLc3NzMzMx2dnYAAABe+sMRAAAAAXRSTlMAQObYZgAAAAlwSFlz\n",
       "AAAOxAAADsQBlSsOGwAAAwJJREFUSMeNlU1oE0EYht+kzW6azG6jBz3UQ82h+AMasUh7ymoP4g80\n",
       "oAdB0B48VBQbEVFQaA5FgqU2FFoMKg3Ug3iKB60WxVCxKgUtXvQi5qSWQrRgEdtDnZmdmWT/wIUd\n",
       "vv32nXn223lnBvC5CGsOlxB0va54Us0PfUUkYITL9NZnrECCMeF5d+1+43vgqC2KZdlzrbbgVEeq\n",
       "tDnNBvksRiLJJ0JDah20Nq3gAkR+85Hb7aemtadDQnSR3vOllpxTfoQ1P2jlYy8FYQ7mqh0dQGQF\n",
       "MHkPjf8ePqqdiApwNH3LErk4Daah9TkJWwUBGBSEu8BeOxrMNK+pAXlRhTrhqiC0QOVC7aI+dun9\n",
       "+WEepDyEtIVJe3anSggkGG1eAjqhpQQgNi2Gi5Q9hNvApJysyHIQwYz7EB6h6cX3HTwxL/0RrnoI\n",
       "9BqVwYNEEOG6ImxeXJCiRbRSSIaFz+UQ8QRrdzoJxh8RfCrSznrKRQjTuklCEjSLrEpRG3p/IdzJ\n",
       "wrIcLMqAZI+TEFX+ZF4iKy7CK1YY4nUT90vRMfTmEGJONLry+fwN7mZqeHKn5CR01K1Gpx2HHjsI\n",
       "72Zos6WRsLsiRF/RWkZomflaWZYR8PGMgxCSfb8AA7TGpZIkGOyN0WGBZBXhHCUsCNEUNFEDco6/\n",
       "hLMOwikQ263rFiPYFtdYKsT3Bbp+Y8XiZDc3Cbqo9eQ6P4EInQc+JVckQcs6vMQgRhW61cwy3fwv\n",
       "mbxHrE9Z0PZNUwFcRDn7IESbgAvo4R8dzwiCWVCEnxWwJYy3yeQ29DIvbGhYDziZwf6RBu+39tmi\n",
       "WeidMreLBsl79v47IbZHIycJxfSzBPL0I0fX19cQHWLfnWQ7nyCQpWGxTHkiPPA3y0UkOSb3Jdxs\n",
       "2I5i38SuMaJq4O5UfjqupKZrr2xIuEQk57f9b3QQTJWv/g/BJQon/AjcI5fk00F1jGWVIlx2ddFT\n",
       "AaI53yOML40PcuJVF72u6HF/mb1+fUTn/U/JN6zP9kzgKfp+3JOaHfcV6RX8A07E05gUh8jEAAAA\n",
       "AElFTkSuQmCC\n",
       "\" style=\"display:inline;vertical-align:middle;\" /></a>"
      ],
      "text/plain": [
       "6 in ({1, 2, 3} union {4, 5})"
      ]
     },
     "metadata": {},
     "output_type": "display_data"
    }
   ],
   "source": [
    "union_mem_02.expr"
   ]
  },
  {
   "cell_type": "code",
   "execution_count": 23,
   "metadata": {},
   "outputs": [
    {
     "name": "stdout",
     "output_type": "stream",
     "text": [
      "6 in ({1, 2, 3} union {4, 5}) 6 in ({1, 3, 2} union {4, 5})\n",
      "ProofFailure (InstantiationFailure): Proof step failed:\n",
      "Attempting to instantiate |- forall_{m in NaturalPos} [forall_{x, A_{1}, A_{2}, ..., A_{m} | x in (A_{1} union  A_{2} union  ... union  A_{m})} ((x in A_{1}) or  (x in A_{2}) or  ... or  (x in A_{m}))] with {m: 2, x: 6, A: ({1, 2, 3}, {4, 5})}:\n",
      "Unsatisfied condition: 6 in ({1, 2, 3} union {4, 5}). For debugging purposes, this is accessible via Instantiation.unsatisfied_condition with applicable assumptions in Instantiation.condition_assumptions.\n"
     ]
    }
   ],
   "source": [
    "# This should fail, since 6 is not in the union\n",
    "try:\n",
    "    union_mem_02.unfold()\n",
    "    assert False, \"Expecting a ProofFailure (InstantiationFailure); should not get this far!\"\n",
    "except InstantiationFailure as the_error:\n",
    "    print(\"ProofFailure (InstantiationFailure): {}\".format(the_error))"
   ]
  },
  {
   "cell_type": "code",
   "execution_count": 24,
   "metadata": {},
   "outputs": [
    {
     "data": {
      "text/html": [
       "<a class=\"ProveItLink\" href=\"../__pv_it/demonstrations/3edb0d6506d90afd756e7b397f9e4e3f2fdc565d0/expr.ipynb\"><img src=\"data:image/png;base64,iVBORw0KGgoAAAANSUhEUgAAAMEAAAAVBAMAAAANw5eWAAAAMFBMVEX///+qqqqYmJiIiIgiIiLu\n",
       "7u4QEBBUVFS6urp2dnbMzMxEREQyMjJmZmbc3NwAAADzFso2AAAAAXRSTlMAQObYZgAAAAlwSFlz\n",
       "AAAOxAAADsQBlSsOGwAAAwFJREFUSMeNlU1oE0EUx//J7ibNptnm4kEQG1DwJPTSiigSJdqTNOCh\n",
       "goilB+3NWsWiFFsQUVEhh2hPYhCxeBADWiweJBWLBXsoohRpAkGLUiT9QCNSQ+N87veCAzs7++Y/\n",
       "89t5894M4FOq5NFuIKgY272242O+oqr/DEqSVPuvBRIwMekZMpu1fRWgVbnoKmVV3hdc8q3kCdVJ\n",
       "pR8Wllr5lWgt358i9Us3oZ0Bnoqvs3OZLBcpKeAHYn+caq1Eqlga6C3XxYqLeMC9oM2jnawwzz6K\n",
       "tDrJmtzQLWY48uuutM0AV4DTTkIiJQhQBCFaRaSPe2Mdp0pyQirBd4ugSMKgZdtNVpTFKN+PfZkM\n",
       "/XtE4CZE6ohuslbLANoCCQ/feQmRLC4Ao2wjbneK/m0eQjSN6Ibp8lQQIedDaKUOQQ/z9Yyc4rOH\n",
       "QIq6JhothxBAUKqSMLT3shTFKE3/yWBm6L5hm1FyEp518Le+hw7uchPK5PkCSZjE6pgQhek8KltU\n",
       "qznZQVp9SzkJ3VZgklhaTToJRj91kkkA4mkhCtEIWWS2xxlSWPwN0HGzcBASRXMw2XZoI0k7wRgh\n",
       "vxyu2giJTSHSiXfDfF9OmL2UoC9mHYRd4q0XEF8n3p011zDBUo3k71dIQryExIYQtfTRDDboFqhO\n",
       "L8UH7YRQDius0VZnBJ7Cr2m1g9lJ/l4fHv59ia+ShN6aEIXS0HNQ2P92SMJzRyxp9OsJ0Amqigwy\n",
       "L91jwltWCPLgOgMmihFdUYjCRSxVKh9Z97QkjJuEGPEmTWHjaKWS1hp0QMqWD6FpaDsLNsJfMJEx\n",
       "j66ssCVy6Gk2G6y7d0ocj48kIXqxMQSVnH5qs9ksgZ5muFOZMifE8ts5kabMsNg8z0W1hU/SptpP\n",
       "9Zsv+KmhFuQaWNkiGyHrgM67z9Z8kGjJ7/QPzzsIOdmI4T8IbtEH3wuGxojSJ89yMwKOWYqye0hX\n",
       "gMgo+hJoahjr8vYyzR3WDdLvHsKT3CuK+1+jBpXVzgXf0+NJj2kh6Ss6APwDtabdHyowwNIAAAAA\n",
       "SUVORK5CYII=\n",
       "\" style=\"display:inline;vertical-align:middle;\" /></a>"
      ],
      "text/plain": [
       "2 in ({1, 2, 3} union {4, 5})"
      ]
     },
     "metadata": {},
     "output_type": "display_data"
    }
   ],
   "source": [
    "Union(set_123, set_45).membership_object(two).expr"
   ]
  },
  {
   "cell_type": "code",
   "execution_count": 25,
   "metadata": {},
   "outputs": [
    {
     "data": {
      "text/html": [
       "<span style=\"font-size:20px;\"> <a class=\"ProveItLink\" href=\"../__pv_it/demonstrations/989652eed1b8e7eee83422d2b54bfd6c1caed8870/proof.ipynb\" style=\"text-decoration: none\">&nbsp;&#x22A2;&nbsp;&nbsp;</a><a class=\"ProveItLink\" href=\"../__pv_it/demonstrations/8aecdb644737e705392662723fd3ce0a4dbdead30/expr.ipynb\"><img src=\"data:image/png;base64,iVBORw0KGgoAAAANSUhEUgAAAPQAAAAVBAMAAACDGd7qAAAAMFBMVEX////MzMxUVFRERES6uroi\n",
       "IiIQEBCYmJhmZmYyMjLu7u52dnaqqqqIiIjc3NwAAACW8nlqAAAAAXRSTlMAQObYZgAAAAlwSFlz\n",
       "AAAOxAAADsQBlSsOGwAAA5VJREFUSMd1Vk1IVUEU/tTn8/34blYYQYimBRaSFrkoKF2UkG1e1oMy\n",
       "wbAscOPDFuXCkCR60iIpQwiri1bUohKjRbTwbQrKRQ+ipMh8FIXRfwihWK+ZM/feuT/zZjH3zMz5\n",
       "5ptz5pwzF0Aaqna9HtnaV47QPNOaUjm0Izs8klQhIoN6VuqcCrbmS7mn3yqVXzfakcBdG3wSmO3f\n",
       "6EY858zFJr2loD3qY97IK2PilAtROAYtcbHIPbtAlL1i5J+/1CzhoQFoNZhwu/cBW6m8ZlBLhVso\n",
       "XATCUSYGaXE970p4dxv4gPCcax9SRX6ZGOV3HtQlPBBHbhr+Q15qYMaglgozydC8gS0gS3p4Ry45\n",
       "C2wAjiqpXxrUuXKOwf3MDQvI/SduuDZ2QEEtFRrqYVKjg+zgThngEjtbp45qEbQvYrEBSZPT7aVm\n",
       "8KdsIorcX3zku6KrrTYV+OX9MbFDtA0L0gAP1EJGtRaopsve9cZhdTiooB7COXEJP3n/WVc73FJg\n",
       "bWfcxI7DsJhbjsAYLbfS5GWnw99Z1D3jRRJOZ0cppcpVeUf9LupSI5dKyhk2QhffTROrgWn+DcYp\n",
       "lP+SLEtFgB1Ni5vUebo2J+EtNNdE/YAsD8dc1E1WtrAI1xa59ITGy4BmcktShnJQmvCJOwkmNWu1\n",
       "En6EzlZDR26PxWJ7iXldvZNaKFBjsYSRYe4ICAsLKdT9hOijuRVsnxgh3g+y7pSd+nzaghN1l6h5\n",
       "cv+VW53UXcZ3KVDHzHvIeRqMSiLcS9QFgmJUlq8+HVrKot7CqIsseIsoRN/5SlQ6apOD2lRARufU\n",
       "okQ9FmvR5bAcPgktbWSc0Vjl8pWXV7eJIGxnKQALvo31qwDKhmlFSSF2UuBSGzk8THFyXGhOrREc\n",
       "LA5zxhDhWpGUq6T4yxDiX3aAw7DgLEW0/YkEaQSTTuqJNHjxEgoknbDltUhL3DBqB/Ppx0TiDA2G\n",
       "XdRLanCPq80i0iHhxcw/mUyG8KGKRjt1eeeFOGK6qcAlX4I/HwK7z4hAcd4cNteayczTYGSzbqcO\n",
       "1P1O5fM80BKVuoTn298a331HIaVr1r0SYbWos1rvsQ9219oLKbVncMMLepXPrEUdhkIiU+JOxEnl\n",
       "PpJ6zAvfroS8MoU78Eq8RLEX0tnylH87EfNJDKW88FEl9Q8z4iRCSje5we4j26qC/a9p0TwDvHAt\n",
       "pYScTmb9QfpSxbfyGPlNqTxblQ3+H00JCfuYQxiXAAAAAElFTkSuQmCC\n",
       "\" style=\"display:inline;vertical-align:middle;\" /></a></span>"
      ],
      "text/plain": [
       "|- (2 in {1, 2, 3}) or (2 in {4, 5})"
      ]
     },
     "metadata": {},
     "output_type": "display_data"
    }
   ],
   "source": [
    "# Notice here we don't need any explicit assumptions\n",
    "Union(set_123, set_45).membership_object(two).unfold()"
   ]
  },
  {
   "cell_type": "code",
   "execution_count": 26,
   "metadata": {},
   "outputs": [
    {
     "data": {
      "text/html": [
       "<a class=\"ProveItLink\" href=\"../__pv_it/demonstrations/db0945bfdb809d54fe2e6b3002a34d592a6a27630/expr.ipynb\"><img src=\"data:image/png;base64,iVBORw0KGgoAAAANSUhEUgAAAPYAAAAVBAMAAACH7A7XAAAAMFBMVEX///9UVFTMzMwiIiKYmJgQ\n",
       "EBAyMjKIiIiqqqru7u66urpERERmZmZ2dnbc3NwAAABametFAAAAAXRSTlMAQObYZgAAAAlwSFlz\n",
       "AAAOxAAADsQBlSsOGwAAAztJREFUSMedVktoE1EUPUnaTn4zjV8KBRvduFGaOipUhUYUXeiiol3o\n",
       "xoCitYJE8LuyIFJcSNOFCiJYsF34WVRd6aJWKt10hIjgRsUU8QP9KCK1cdH4/pOZjJ3YB3lz5r53\n",
       "3nnv5r57B/BoBu1u9cOvfStUmCL3UR3N+MfgBfLTunK+iwQbK+acu4fqaNEsQdPvn7nGwnnS9ZLx\n",
       "qbHHwmQj6ZoP48QvsYSbWqRrtyqVVrdHrZNJQTtDnDSC3m7nhBu0e0MmDuEjd7yNZLuN8Bygp9jL\n",
       "ELeAG/rGimKSjWSbhP5H0Opy0OZwJ+Oc8FJoBwqobWcWG2GAPy51R2aVNusnpDY0pahQNM2fq4AO\n",
       "MatmBNFDqOfa2hNzMwPtQru2iMA8s9gIPfwx2I//0Q5n+fNwDk0FQTtIu162qehxETjhjDx3CoGf\n",
       "/NwKSW0y7dcitJcBTUlBO0pFNzLzFxmz8bzQJi30Qy4jkdK+m16ENmltkvaaxOLppcx2Sg7WMTeM\n",
       "MdysOBJJ7bVLSMBq7S7teMZPO/hb0nYxn7M4VwEXoq/GAYZb1HYlsn1O4tyYc2l/TvtphxKSdkVE\n",
       "EtnPftM0t7JXcpuMlexKxYckhaNR0+wwzRYVN+jrdGhPdMFDO26am8jqPBeMs8tHac0IJhGj24go\n",
       "GaqNdU8p3K6OrZA49xrgOfHP236lvZoeYDznc+4atgNGG0R9kWvzBZTP8YgnuBmV6mYc2qUc1Q7z\n",
       "tYdpt5t2LGMtpH0NRkHQLqM2wX2O85IQy8o4Xw9cBAt/hsq19zGf6zzWHtAAOeGI84i3djAPTdL2\n",
       "oCYt7nedzKx6QubUbZaVoumLI4f2zvL7He5EZEdSaeskDfFcqc+7tD9Z1qikvQIeWryWRBpFCQqm\n",
       "hHaoVCplYOYkKteOWrSWCG1MHznG3UINgRWzyxGiVYQhh3ZbqaTS4ZayNB59J3LqBju3UJqzTvaU\n",
       "v+gpV62wDVed9S1bMctIedXXvQ5t3Tk4UKV23mGXtaRsVjztpR2j3xVn5dvNBb4C4q4KKBMd+Qez\n",
       "frRJzyF21b/L0FtokevuvYtERzYBP9qw99hXusqLbt+Pn+mGCtNUA6qjaQX8BcDp+KePqOEtAAAA\n",
       "AElFTkSuQmCC\n",
       "\" style=\"display:inline;vertical-align:middle;\" /></a>"
      ],
      "text/plain": [
       "3 in ({2, 2 + 3} union {1, 1 + 2})"
      ]
     },
     "metadata": {},
     "output_type": "display_data"
    }
   ],
   "source": [
    "# Consider a union of sets with some reducible elements:\n",
    "Union(Set(two, Add(two, three)), Set(one, Add(one, two))).membership_object(three).expr"
   ]
  },
  {
   "cell_type": "code",
   "execution_count": 27,
   "metadata": {},
   "outputs": [
    {
     "data": {
      "text/html": [
       "<span style=\"font-size:20px;\"> <a class=\"ProveItLink\" href=\"../__pv_it/demonstrations/182c60d764e033544b656202be002c3b0cde39fa0/proof.ipynb\" style=\"text-decoration: none\">&nbsp;&#x22A2;&nbsp;&nbsp;</a><a class=\"ProveItLink\" href=\"../__pv_it/demonstrations/4d890969dab80a101017e99d19378a39d36f26d70/expr.ipynb\"><img src=\"data:image/png;base64,iVBORw0KGgoAAAANSUhEUgAAASgAAAAVBAMAAAAHum7tAAAAMFBMVEX////MzMxUVFRERES6uroi\n",
       "IiIQEBCYmJhmZmYyMjLu7u52dnaqqqqIiIjc3NwAAACW8nlqAAAAAXRSTlMAQObYZgAAAAlwSFlz\n",
       "AAAOxAAADsQBlSsOGwAAA9VJREFUSMeVVl1IVEEUPqu767q797oVRRDSlv1QSFroS1D5UFr2slm3\n",
       "HwmUMINeWuqheggkkVZ8WUgIwuKiFfUQLUVQ9NC+FJSIS0GSFC1JYVhWEISLuc2cuTNz/9hd52Hu\n",
       "mXPmfvPNmXPODABkwa3daoJi7Tv9U3WoVdfJwd2wCEAl7WZXBvWiGJ4aMsebsas/uE5+3wqLABwF\n",
       "mHnSYLePE/N0/1ZjJCXujWe9xJPlUSJO2P4MpwyrVZuji7aL5dvt7k1cjUjAYBKCPTBud9djMq8e\n",
       "njNsKfF2F8LzAKEYESvRpZtpV027e9xqaXTqcH/OGEmJtykI/ZGAgTgo8/Ag6SRVlgV/Jw6kBC3s\n",
       "8ykdnDMwKnqo4hLt0J1XuNVBChRBRUjeOPtuAeiWgH5i6IIqRkpp1I4JUv4clC3gQEowxj7NTcBJ\n",
       "wWna+ahDEaSTW2l7q2nJgqTCRkie0aEuKwBfsRBCwt4butlTMSj7zTwlJE6KoP3lpK7houT8AzQG\n",
       "wkluJW3fZDFPcVLrAeoiAnAA2RxByzfdfHx0/7/4mEuC1J44J/UQDC9Rb0Egxa1EeR1KJUVahwSk\n",
       "+/S8WYPqmzIG+rFfLX7hEidVvZYki4KBdhEVBOEj/VbGuZXIsgQGksVIef5JwOPs+DD7ZLSrp/DT\n",
       "JhRcksdH8kvFHHuJ46UAmOa+NLcSUnKTX+PFSPmiErCLhzLhelLTtIPIaRNWgEC92ChKfZrWrWlt\n",
       "IjRheIg6EZhXwpiG/iZhhRUET8M/Pw+CC6mAph0ma0ZR1Yu1ggESUp4IlFOKQcEBVm6n/VkxFpLh\n",
       "qSUAu4hLnlIGzUbNZIdFSRlWGJG1ulcv4qkKpGYAkuOryjFSEJPu3sZq86yo0rMWUnmdLotlGl4w\n",
       "VWwZ8ONjViPyWcNaXYjUKKhZAbiDbC7Kjo9Fqsy+VQCTgAmJkpnUCTygEMblOaaaWMdWz3ArWTrj\n",
       "zL6gOylPChQJSBK6Im7Uqcq05Zo5mkjEsDSjZCF13lSnBpjqtlElo9xK2pCVVIhUYHZ3hBZspL4k\n",
       "En0ScDnp9ybYhRysaTWR8uXz+SRoOpfMpLwJeuUyjENGLrAdeWLcSuO2QTeRKtswtxF8NEdRspDq\n",
       "yOfnJKAvYrqhvI9M14zxl/UJM+a40NSY9ZY7YB7sbzRfM9heW18PGTdAdp86miAVsupbHBiBuHXG\n",
       "BVc8SSpl0XvjroA7XUHeceF+gUcZlukpm7Lc9SWrdPIXaKYUwBFX808e84Uw7tBt2jdlqnbmRxx/\n",
       "YClQCqDquqx6OV309TpTSxdxOOaH6+TpWigZ8D/9fDZ/xaYFKgAAAABJRU5ErkJggg==\n",
       "\" style=\"display:inline;vertical-align:middle;\" /></a></span>"
      ],
      "text/plain": [
       "|- (3 in {2, 2 + 3}) or (3 in {1, 1 + 2})"
      ]
     },
     "metadata": {},
     "output_type": "display_data"
    }
   ],
   "source": [
    "# We are still ok unfolding the membership, without any extra assumptions\n",
    "Union(Set(two, Add(two, three)), Set(one, Add(one, two))).membership_object(three).unfold()"
   ]
  },
  {
   "cell_type": "markdown",
   "metadata": {},
   "source": [
    "###  `UnionMembership.conclude()`\n",
    "\n",
    "Called on self $= [x \\in (A \\cup B \\;\\cup\\; ...)]$, and knowing or assuming $[[x \\in A] \\lor [x \\in B] \\;\\lor\\; ...]$, derive and return self."
   ]
  },
  {
   "cell_type": "code",
   "execution_count": 28,
   "metadata": {},
   "outputs": [
    {
     "data": {
      "text/html": [
       "<a class=\"ProveItLink\" href=\"../__pv_it/demonstrations/5b0482a4d85dee3ed10f0afdcc5ca3822da780490/expr.ipynb\"><img src=\"data:image/png;base64,iVBORw0KGgoAAAANSUhEUgAAAMAAAAAVBAMAAADiAfyoAAAAMFBMVEX///+YmJhERESIiIhUVFTc\n",
       "3NwiIiJ2dnbu7u66urqqqqpmZmYQEBAyMjLMzMwAAAA7oY0NAAAAAXRSTlMAQObYZgAAAAlwSFlz\n",
       "AAAOxAAADsQBlSsOGwAAAr9JREFUOMuNlU1oE1EQx6cJm2yybRMteFMDWhG8rERRsJZqDwUhECTg\n",
       "QcXiYdWKkNZQEKWE6kUqpHgQhYJ7UXtQLEXoqWgVit5SRGmsQg7FiwctRSyC4sz72n3ZXeyDfbzd\n",
       "+e38d97OzAMIG0W8bk9CxDAeBR6ZD0IhI8JD3MWrUY0SgNW9rU+O3g+FUjZbdn6e0W1P8Hqu+R9f\n",
       "1IDdLc7SGyGOCNrPlxlXj7eO06juYkW748YcTRM0JQdDHBHUwT/zob4bVjYo8DtEgHkt+QU0RwS1\n",
       "zfj4+B7nClu0Q0AgtbEpgdEA9NaLP/Veyj8LCkgP/xFYCUBLmEoDvSz+syq8OWk2Bg7yNICO/gNi\n",
       "e5P5HREC0hH+xKtHqgKqAEwVYyz+D0p6iaZ58EwAtWXzJ0/vIZgF6GkRsOoafa/ZWRbQdjAXuBnq\n",
       "SmCIHC0AM4nYMWnfsEWiTItzri5wJgueIzDWID4poKdg/aCXMIcXHcc5z4B3yBSQkCYezy+2eMk2\n",
       "0iy4foFSA/x0bD1/TULfoT0HNWoKZk5FgALwDetQmnBcgBTf39f8RzRUBKv0cbNVP53p86ApqNmw\n",
       "09tRtUVUh8pEZWCx/TXX5Y7h6Kapi31zn5/O2B70GGouFNLU3PJKYJfIIm4y6e4v3MkCvbCG+Qxw\n",
       "g3F3ab+XZRZ5NO2UK6CtELPTly2WiarMK0KAm2r0547BPjD/4AJTaEymafoTmNuaUsCj2+owURTQ\n",
       "HJj9Y6VeFv1x2RG/CgFuSlzEu1vXMU8cDCE53FVVVXjq45fDqg599KEttiy0S/52MCJaRaKpVfK0\n",
       "6plVvZJDC31aq2RjMKzdsw7l+SgrN7AJgbIGsb4ZHJQePap523J1UwHzrSfUqyDNoJPhJ9Y4yGKl\n",
       "l9Vj9S4Wbcv5qLq5RzOoO+LQRVfGCzfyTK4ETKdPhELxIvwDHWm+0b+UE8UAAAAASUVORK5CYII=\n",
       "\" style=\"display:inline;vertical-align:middle;\" /></a>"
      ],
      "text/plain": [
       "d in ({a, b, c} union {d, e})"
      ]
     },
     "metadata": {},
     "output_type": "display_data"
    }
   ],
   "source": [
    "union_mem_01.expr"
   ]
  },
  {
   "cell_type": "code",
   "execution_count": 30,
   "metadata": {},
   "outputs": [
    {
     "data": {
      "text/html": [
       "<span style=\"font-size:20px;\"> <a class=\"ProveItLink\" href=\"../__pv_it/demonstrations/e3d3393f1a578266fe4dc7cbca9df124e58a1c580/proof.ipynb\" style=\"text-decoration: none\">&nbsp;&#x22A2;&nbsp;&nbsp;</a><a class=\"ProveItLink\" href=\"../__pv_it/demonstrations/5b0482a4d85dee3ed10f0afdcc5ca3822da780490/expr.ipynb\"><img src=\"data:image/png;base64,iVBORw0KGgoAAAANSUhEUgAAAMAAAAAVBAMAAADiAfyoAAAAMFBMVEX///+YmJhERESIiIhUVFTc\n",
       "3NwiIiJ2dnbu7u66urqqqqpmZmYQEBAyMjLMzMwAAAA7oY0NAAAAAXRSTlMAQObYZgAAAAlwSFlz\n",
       "AAAOxAAADsQBlSsOGwAAAr9JREFUOMuNlU1oE1EQx6cJm2yybRMteFMDWhG8rERRsJZqDwUhECTg\n",
       "QcXiYdWKkNZQEKWE6kUqpHgQhYJ7UXtQLEXoqWgVit5SRGmsQg7FiwctRSyC4sz72n3ZXeyDfbzd\n",
       "+e38d97OzAMIG0W8bk9CxDAeBR6ZD0IhI8JD3MWrUY0SgNW9rU+O3g+FUjZbdn6e0W1P8Hqu+R9f\n",
       "1IDdLc7SGyGOCNrPlxlXj7eO06juYkW748YcTRM0JQdDHBHUwT/zob4bVjYo8DtEgHkt+QU0RwS1\n",
       "zfj4+B7nClu0Q0AgtbEpgdEA9NaLP/Veyj8LCkgP/xFYCUBLmEoDvSz+syq8OWk2Bg7yNICO/gNi\n",
       "e5P5HREC0hH+xKtHqgKqAEwVYyz+D0p6iaZ58EwAtWXzJ0/vIZgF6GkRsOoafa/ZWRbQdjAXuBnq\n",
       "SmCIHC0AM4nYMWnfsEWiTItzri5wJgueIzDWID4poKdg/aCXMIcXHcc5z4B3yBSQkCYezy+2eMk2\n",
       "0iy4foFSA/x0bD1/TULfoT0HNWoKZk5FgALwDetQmnBcgBTf39f8RzRUBKv0cbNVP53p86ApqNmw\n",
       "09tRtUVUh8pEZWCx/TXX5Y7h6Kapi31zn5/O2B70GGouFNLU3PJKYJfIIm4y6e4v3MkCvbCG+Qxw\n",
       "g3F3ab+XZRZ5NO2UK6CtELPTly2WiarMK0KAm2r0547BPjD/4AJTaEymafoTmNuaUsCj2+owURTQ\n",
       "HJj9Y6VeFv1x2RG/CgFuSlzEu1vXMU8cDCE53FVVVXjq45fDqg599KEttiy0S/52MCJaRaKpVfK0\n",
       "6plVvZJDC31aq2RjMKzdsw7l+SgrN7AJgbIGsb4ZHJQePap523J1UwHzrSfUqyDNoJPhJ9Y4yGKl\n",
       "l9Vj9S4Wbcv5qLq5RzOoO+LQRVfGCzfyTK4ETKdPhELxIvwDHWm+0b+UE8UAAAAASUVORK5CYII=\n",
       "\" style=\"display:inline;vertical-align:middle;\" /></a></span>"
      ],
      "text/plain": [
       "|- d in ({a, b, c} union {d, e})"
      ]
     },
     "metadata": {},
     "output_type": "display_data"
    }
   ],
   "source": [
    "# conclude() requires no extra assumptions for this one\n",
    "union_mem_01.conclude()"
   ]
  },
  {
   "cell_type": "code",
   "execution_count": 31,
   "metadata": {},
   "outputs": [
    {
     "data": {
      "text/html": [
       "<a class=\"ProveItLink\" href=\"../__pv_it/demonstrations/25c0f3ac8b2de5e37822dc7274a1012f85389eba0/expr.ipynb\"><img src=\"data:image/png;base64,iVBORw0KGgoAAAANSUhEUgAAAMIAAAAVBAMAAADm9CyVAAAAMFBMVEX///+YmJhmZmYQEBDu7u6q\n",
       "qqpERESIiIgiIiJUVFS6uroyMjLc3NzMzMx2dnYAAABe+sMRAAAAAXRSTlMAQObYZgAAAAlwSFlz\n",
       "AAAOxAAADsQBlSsOGwAAAwJJREFUSMeNlU1oE0EYht+kzW6azG6jBz3UQ82h+AMasUh7ymoP4g80\n",
       "oAdB0B48VBQbEVFQaA5FgqU2FFoMKg3Ug3iKB60WxVCxKgUtXvQi5qSWQrRgEdtDnZmdmWT/wIUd\n",
       "vv32nXn223lnBvC5CGsOlxB0va54Us0PfUUkYITL9NZnrECCMeF5d+1+43vgqC2KZdlzrbbgVEeq\n",
       "tDnNBvksRiLJJ0JDah20Nq3gAkR+85Hb7aemtadDQnSR3vOllpxTfoQ1P2jlYy8FYQ7mqh0dQGQF\n",
       "MHkPjf8ePqqdiApwNH3LErk4Daah9TkJWwUBGBSEu8BeOxrMNK+pAXlRhTrhqiC0QOVC7aI+dun9\n",
       "+WEepDyEtIVJe3anSggkGG1eAjqhpQQgNi2Gi5Q9hNvApJysyHIQwYz7EB6h6cX3HTwxL/0RrnoI\n",
       "9BqVwYNEEOG6ImxeXJCiRbRSSIaFz+UQ8QRrdzoJxh8RfCrSznrKRQjTuklCEjSLrEpRG3p/IdzJ\n",
       "wrIcLMqAZI+TEFX+ZF4iKy7CK1YY4nUT90vRMfTmEGJONLry+fwN7mZqeHKn5CR01K1Gpx2HHjsI\n",
       "72Zos6WRsLsiRF/RWkZomflaWZYR8PGMgxCSfb8AA7TGpZIkGOyN0WGBZBXhHCUsCNEUNFEDco6/\n",
       "hLMOwikQ263rFiPYFtdYKsT3Bbp+Y8XiZDc3Cbqo9eQ6P4EInQc+JVckQcs6vMQgRhW61cwy3fwv\n",
       "mbxHrE9Z0PZNUwFcRDn7IESbgAvo4R8dzwiCWVCEnxWwJYy3yeQ29DIvbGhYDziZwf6RBu+39tmi\n",
       "WeidMreLBsl79v47IbZHIycJxfSzBPL0I0fX19cQHWLfnWQ7nyCQpWGxTHkiPPA3y0UkOSb3Jdxs\n",
       "2I5i38SuMaJq4O5UfjqupKZrr2xIuEQk57f9b3QQTJWv/g/BJQon/AjcI5fk00F1jGWVIlx2ddFT\n",
       "AaI53yOML40PcuJVF72u6HF/mb1+fUTn/U/JN6zP9kzgKfp+3JOaHfcV6RX8A07E05gUh8jEAAAA\n",
       "AElFTkSuQmCC\n",
       "\" style=\"display:inline;vertical-align:middle;\" /></a>"
      ],
      "text/plain": [
       "6 in ({1, 2, 3} union {4, 5})"
      ]
     },
     "metadata": {},
     "output_type": "display_data"
    }
   ],
   "source": [
    "# Recall the False UnionMembership object:\n",
    "union_mem_02.expr"
   ]
  },
  {
   "cell_type": "code",
   "execution_count": 32,
   "metadata": {},
   "outputs": [
    {
     "name": "stdout",
     "output_type": "stream",
     "text": [
      "ProofFailure (InstantiationFailure): Proof step failed:\n",
      "Attempting to instantiate |- forall_{m in NaturalPos} [forall_{x, A_{1}, A_{2}, ..., A_{m} | (x in A_{1}) or  (x in A_{2}) or  ... or  (x in A_{m})} (x in (A_{1} union  A_{2} union  ... union  A_{m}))] with {m: 2, x: 6, A: ({1, 2, 3}, {4, 5})}:\n",
      "Unsatisfied condition: (6 in {1, 2, 3}) or (6 in {4, 5}). For debugging purposes, this is accessible via Instantiation.unsatisfied_condition with applicable assumptions in Instantiation.condition_assumptions.\n"
     ]
    }
   ],
   "source": [
    "# We should not be able to conclude() such a False IntersectMembership object:\n",
    "try:\n",
    "    union_mem_02.conclude()\n",
    "    assert False, \"Expecting a ProofFailure (InstantiationFailure); should not get this far!\"\n",
    "except InstantiationFailure as the_error:\n",
    "    print(\"ProofFailure (InstantiationFailure): {}\".format(the_error))"
   ]
  },
  {
   "cell_type": "code",
   "execution_count": 33,
   "metadata": {},
   "outputs": [
    {
     "data": {
      "text/html": [
       "<a class=\"ProveItLink\" href=\"../__pv_it/demonstrations/0dc65d190c9cea0fb87786a20aaa6344ac2cb13c0/expr.ipynb\"><img src=\"data:image/png;base64,iVBORw0KGgoAAAANSUhEUgAAANQAAAAVBAMAAADMRN06AAAAMFBMVEX///+YmJhERESIiIhUVFTc\n",
       "3NwiIiJ2dnbu7u66urqqqqpmZmYQEBAyMjLMzMwAAAA7oY0NAAAAAXRSTlMAQObYZgAAAAlwSFlz\n",
       "AAAOxAAADsQBlSsOGwAAAy5JREFUSMeFVk1IVFEUPs7vm3lPnX5oFw2UoRAxYsEsysQCwTCGsIQs\n",
       "miKmHwmkxBb9KNUmCkZaFQm+TT+LQovAhUi6iVw1kkVa0SzEFi1yEwxC2Tnnvnvn/czLC+/ON+/c\n",
       "+333nnvOuQ+gUsvgc2cI/Fr4seeV9tB39DFiC/sYgyY+84O+k2Gx3v1m7wPfwTWtyBRLCfx1zGl8\n",
       "is8oKS1Jue7JnRbqutqA/TYXXbzk2OKOrP1voAW7RoFrTaczCtj14+/B75ZUOAkDwp/aGIyabMWW\n",
       "pO4udVEHN1Q71s7GakE14vSVngCLbJ9lCGXAmBK+XYF8QUoxf2cFKefa2Vgl1MXE4PbcRQYGuKWM\n",
       "EoR+M4rNQO3aUs61C+M7xl+Y5IO0v/BIhbIQ+itnjibWlOoHr9QsnkNb8wrBE2ol4x4pbJFlC8RO\n",
       "gY9UuG23iDOYa2q3Rl9uLFpSfQDDmQCHz0fFOkvdpEvql8VSs+sQ9ntcUjpFkmQC7c9gPsPoqKkn\n",
       "IcjHvBm0aTEOCor1Aq1w2iV1RiGKwJOmU+o4OpWYsjL0DbGyswTC7LXnoC9DpJdW+zaXy51m+wwq\n",
       "dQw5pfSkksIYAa3DtEt1ztMQi4n3WMtIF7u8vUBuASMJeaLVylwoBT/rnVIbZeoXIYCLjM6rXS3S\n",
       "21c4UDIBKY7wtg1Bep1eD0M+BVvKjlcOFPVAScV74YjImBJLcS2BOuo2yIKgmCit3vCAfKpcSp5A\n",
       "3oSOOJ1hk5La6ohAnvMDIM3IaGEHXuOB9+lQP8sIFEwaSRXx3BjgEQ5BlMNiPQRS8R6di4nK8D4l\n",
       "NZDBaCK+nomJLKOqhC2v4gugbSpKKcFEtSSUCIwxwBOOymAfB23/jc5mjtBWWZyXpNSB93MJyOFm\n",
       "IqurqwVG8GiioZyjXZ++pVWWCqbIOURtL4EBXFmXlil83pbUsUtWYYoU7QkfH/QiVzlwVItnHiDy\n",
       "O1vpguHKqMii4EX/k+r1ADZyDfe2OlUPsN0CLxK1xH6ZTqkbKOUGokQcrnxv3gRZD7CpGTakTbs/\n",
       "AVaUqAfAvYRMjArfDkgafm36f1v0eWzd7b6ju8gUzMA/+V/WjqRBQ50AAAAASUVORK5CYII=\n",
       "\" style=\"display:inline;vertical-align:middle;\" /></a>"
      ],
      "text/plain": [
       "d in ({1, 2, 3} union {a, b, c})"
      ]
     },
     "metadata": {},
     "output_type": "display_data"
    }
   ],
   "source": [
    "# Recall this IntersectMembership object of unknown verity (where 'c' is an unassigned variable):\n",
    "union_mem_03.expr"
   ]
  },
  {
   "cell_type": "code",
   "execution_count": 34,
   "metadata": {},
   "outputs": [
    {
     "name": "stdout",
     "output_type": "stream",
     "text": [
      "ProofFailure (InstantiationFailure): Proof step failed:\n",
      "Attempting to instantiate |- forall_{m in NaturalPos} [forall_{x, A_{1}, A_{2}, ..., A_{m} | (x in A_{1}) or  (x in A_{2}) or  ... or  (x in A_{m})} (x in (A_{1} union  A_{2} union  ... union  A_{m}))] with {m: 2, x: d, A: ({1, 2, 3}, {a, b, c})}:\n",
      "Unsatisfied condition: (d in {1, 2, 3}) or (d in {a, b, c}). For debugging purposes, this is accessible via Instantiation.unsatisfied_condition with applicable assumptions in Instantiation.condition_assumptions.\n"
     ]
    }
   ],
   "source": [
    "# We should not be able to conclude() such an DifferenceMembership object:\n",
    "try:\n",
    "    union_mem_03.conclude()\n",
    "    assert False, \"Expecting a ProofFailure (InstantiationFailure); should not get this far!\"\n",
    "except InstantiationFailure as the_error:\n",
    "    print(\"ProofFailure (InstantiationFailure): {}\".format(the_error))"
   ]
  },
  {
   "cell_type": "code",
   "execution_count": 35,
   "metadata": {},
   "outputs": [
    {
     "data": {
      "text/html": [
       "<span style=\"font-size:20px;\"><a class=\"ProveItLink\" href=\"../__pv_it/demonstrations/7a54fe9b19d7a8672843bb3d14fc9f73efd745440/expr.ipynb\"><img src=\"data:image/png;base64,iVBORw0KGgoAAAANSUhEUgAAADEAAAAOBAMAAAB0nulXAAAAMFBMVEX///+YmJhERESIiIhUVFTc\n",
       "3NwiIiJ2dnbu7u66urqqqqpmZmYQEBAyMjLMzMwAAAA7oY0NAAAAAXRSTlMAQObYZgAAAAlwSFlz\n",
       "AAAOxAAADsQBlSsOGwAAAH1JREFUGNNjYGBg4LuzgQEH4F+AS2Z+Ay6ZMlwSDLexC7O62/3CEDI1\n",
       "AFJzAph+gLjb0kAghQEuxHGQgfsCqhaQUAIDA/cHBrYCVBmoEI8CQ/8EVBmoUL8BgzwDqj1Qof4F\n",
       "DL5cASh6oEJMBlzZ3KimQYU4nOtC7NDcBhYCALwlIr1HxvlsAAAAAElFTkSuQmCC\n",
       "\" style=\"display:inline;vertical-align:middle;\" /></a> <a class=\"ProveItLink\" href=\"../__pv_it/demonstrations/5cea6a6d75891f41b5a65d77f240526bab17c7040/proof.ipynb\" style=\"text-decoration: none\">&nbsp;&#x22A2;&nbsp;&nbsp;</a><a class=\"ProveItLink\" href=\"../__pv_it/demonstrations/0dc65d190c9cea0fb87786a20aaa6344ac2cb13c0/expr.ipynb\"><img src=\"data:image/png;base64,iVBORw0KGgoAAAANSUhEUgAAANQAAAAVBAMAAADMRN06AAAAMFBMVEX///+YmJhERESIiIhUVFTc\n",
       "3NwiIiJ2dnbu7u66urqqqqpmZmYQEBAyMjLMzMwAAAA7oY0NAAAAAXRSTlMAQObYZgAAAAlwSFlz\n",
       "AAAOxAAADsQBlSsOGwAAAy5JREFUSMeFVk1IVFEUPs7vm3lPnX5oFw2UoRAxYsEsysQCwTCGsIQs\n",
       "miKmHwmkxBb9KNUmCkZaFQm+TT+LQovAhUi6iVw1kkVa0SzEFi1yEwxC2Tnnvnvn/czLC+/ON+/c\n",
       "+333nnvOuQ+gUsvgc2cI/Fr4seeV9tB39DFiC/sYgyY+84O+k2Gx3v1m7wPfwTWtyBRLCfx1zGl8\n",
       "is8oKS1Jue7JnRbqutqA/TYXXbzk2OKOrP1voAW7RoFrTaczCtj14+/B75ZUOAkDwp/aGIyabMWW\n",
       "pO4udVEHN1Q71s7GakE14vSVngCLbJ9lCGXAmBK+XYF8QUoxf2cFKefa2Vgl1MXE4PbcRQYGuKWM\n",
       "EoR+M4rNQO3aUs61C+M7xl+Y5IO0v/BIhbIQ+itnjibWlOoHr9QsnkNb8wrBE2ol4x4pbJFlC8RO\n",
       "gY9UuG23iDOYa2q3Rl9uLFpSfQDDmQCHz0fFOkvdpEvql8VSs+sQ9ntcUjpFkmQC7c9gPsPoqKkn\n",
       "IcjHvBm0aTEOCor1Aq1w2iV1RiGKwJOmU+o4OpWYsjL0DbGyswTC7LXnoC9DpJdW+zaXy51m+wwq\n",
       "dQw5pfSkksIYAa3DtEt1ztMQi4n3WMtIF7u8vUBuASMJeaLVylwoBT/rnVIbZeoXIYCLjM6rXS3S\n",
       "21c4UDIBKY7wtg1Bep1eD0M+BVvKjlcOFPVAScV74YjImBJLcS2BOuo2yIKgmCit3vCAfKpcSp5A\n",
       "3oSOOJ1hk5La6ohAnvMDIM3IaGEHXuOB9+lQP8sIFEwaSRXx3BjgEQ5BlMNiPQRS8R6di4nK8D4l\n",
       "NZDBaCK+nomJLKOqhC2v4gugbSpKKcFEtSSUCIwxwBOOymAfB23/jc5mjtBWWZyXpNSB93MJyOFm\n",
       "IqurqwVG8GiioZyjXZ++pVWWCqbIOURtL4EBXFmXlil83pbUsUtWYYoU7QkfH/QiVzlwVItnHiDy\n",
       "O1vpguHKqMii4EX/k+r1ADZyDfe2OlUPsN0CLxK1xH6ZTqkbKOUGokQcrnxv3gRZD7CpGTakTbs/\n",
       "AVaUqAfAvYRMjArfDkgafm36f1v0eWzd7b6ju8gUzMA/+V/WjqRBQ50AAAAASUVORK5CYII=\n",
       "\" style=\"display:inline;vertical-align:middle;\" /></a></span>"
      ],
      "text/plain": [
       "{d = a} |- d in ({1, 2, 3} union {a, b, c})"
      ]
     },
     "metadata": {},
     "output_type": "display_data"
    }
   ],
   "source": [
    "# But if we supply some extra information about 'c', we can conclude:\n",
    "union_mem_03.conclude(assumptions=[Equals(d, a)])"
   ]
  },
  {
   "cell_type": "code",
   "execution_count": 36,
   "metadata": {},
   "outputs": [
    {
     "data": {
      "text/html": [
       "<a class=\"ProveItLink\" href=\"../__pv_it/demonstrations/e5959e65ebbf869799e96fafdfa78bb9f5839baf0/expr.ipynb\"><img src=\"data:image/png;base64,iVBORw0KGgoAAAANSUhEUgAAAL4AAAAVBAMAAAAKgUmDAAAAMFBMVEX////MzMwyMjKqqqoiIiJm\n",
       "ZmaYmJju7u5EREQQEBC6urqIiIh2dnZUVFTc3NwAAAAqL9KcAAAAAXRSTlMAQObYZgAAAAlwSFlz\n",
       "AAAOxAAADsQBlSsOGwAAAp9JREFUOMuNlT1oFEEUx5+3Wfc+4t4W2ikeRiMqhkUEEQSjnihicVho\n",
       "k+ghIkIKtxGiKHuFICJGC4lgdZ2mukuToCdyyiGCBiRpAl5xqIVFgmKKK0TwzZuPvZ2dIw7M7PDm\n",
       "9/47O++9WQBT62C/VdWM3zoJLsHEYbfPYs7HvjfQrBuWdUuSicPZunnxCPajATj3R2Pm9GeNMzBc\n",
       "fE+Jw3NGeaeAQwt7qhSzD5JUhQ03yGBgeMv7HE4Zv88uC1/Ekvo0rCp9jeGtFnB4Y+/Lc3eLx2mS\n",
       "kb61YH39mmmLLQk/jWzZfZI8IH1bsL5+y3QCuyQ8jEnUfkNh/qo2MiZ99zeWhOl240If/Yj5OOfR\n",
       "023Prkl4AWCmk+6y6Yh6+zAbzmGcfwchz/nsMdiKB/hY048x332bQi8EOXwZnGmwyaWg9E+wTUwD\n",
       "WF3I8Az+WYZXaFuL68eZs2LCBAsSPgz2Lxhospx9UiwWTxP5DFcXsTIRyzfJ8qjxmlXqnaFe/Thj\n",
       "d2X2CUGCt0OmAiHzdSpq/6gPW+4Bw2o8+/7yhXdVqb8NdCYj/aUgwTMQ1uE6qO9W5wMPKbUv8aD/\n",
       "odGiLU6xYQJ0JpR3gRDk8EEIfVi0WIQaSv+ByI28h2fp8LMFC1OCQvaCHc1u0Jk8FmWVTYQgh69B\n",
       "um6dtNk0pQpxQfhuKqdLEBZ4GlyUKWcNgXPFA53B5Bn02EQIcngMnC9vV2cp7svPhf5m4eu0z+MB\n",
       "n2Kl/X5C1Res7Nwxr8o0Yj5dnaeJEOTwmZ6iy34Q98OA11uXh7T6jV8DGqPB7qipuulWUr7N/9Bv\n",
       "9oHppkw2liIv5WUd/SPsgsYlGB3+Yf6/TLKSFeHOReab+m4SjA5PmfVd3IY7rl/sK0sJbtzv938k\n",
       "ONeBf94QyRkg7H50AAAAAElFTkSuQmCC\n",
       "\" style=\"display:inline;vertical-align:middle;\" /></a>"
      ],
      "text/plain": [
       "a in ({b, e} union {b, c, d})"
      ]
     },
     "metadata": {},
     "output_type": "display_data"
    }
   ],
   "source": [
    "# Consider a more general UnionMembership object\n",
    "Union(Set(b, e), Set(b, c, d)).membership_object(a).expr"
   ]
  },
  {
   "cell_type": "code",
   "execution_count": 37,
   "metadata": {},
   "outputs": [
    {
     "name": "stdout",
     "output_type": "stream",
     "text": [
      "ProofFailure (InstantiationFailure): Proof step failed:\n",
      "Attempting to instantiate |- forall_{m in NaturalPos} [forall_{x, A_{1}, A_{2}, ..., A_{m} | (x in A_{1}) or  (x in A_{2}) or  ... or  (x in A_{m})} (x in (A_{1} union  A_{2} union  ... union  A_{m}))] with {m: 2, x: a, A: ({b, e}, {b, c, d})}:\n",
      "Unsatisfied condition: (a in {b, e}) or (a in {b, c, d}). For debugging purposes, this is accessible via Instantiation.unsatisfied_condition with applicable assumptions in Instantiation.condition_assumptions.\n"
     ]
    }
   ],
   "source": [
    "# We should not be able to conclude() such a UnionMembership object,\n",
    "# without knowing the value of a:\n",
    "try:\n",
    "    Union(Set(b, e), Set(b, c, d)).membership_object(a).conclude()\n",
    "    assert False, \"Expecting a ProofFailure (InstantiationFailure); should not get this far!\"\n",
    "except InstantiationFailure as the_error:\n",
    "    print(\"ProofFailure (InstantiationFailure): {}\".format(the_error))"
   ]
  },
  {
   "cell_type": "code",
   "execution_count": 38,
   "metadata": {},
   "outputs": [
    {
     "data": {
      "text/html": [
       "<a class=\"ProveItLink\" href=\"../__pv_it/demonstrations/aa89a518a113beac2ff9160070c3581284393c6c0/expr.ipynb\"><img src=\"data:image/png;base64,iVBORw0KGgoAAAANSUhEUgAAASwAAAAVBAMAAAAOUc6XAAAAMFBMVEX///8AAAAAAAAAAAAAAAAA\n",
       "AAAAAAAAAAAAAAAAAAAAAAAAAAAAAAAAAAAAAAAAAAAv3aB7AAAAD3RSTlMAiXZmMiLdVJm77xBE\n",
       "zatgdeJyAAAACXBIWXMAAA7EAAAOxAGVKw4bAAADG0lEQVRIx62WTWgTQRTHX2I3uyZpbD14sw30\n",
       "pEVcLAgelChSxINND2r1UONlFS0l9uDBIupF0kMkiPWiaEDwoGKDJxVJIwXBqhAQzMGqBQ9VwSJo\n",
       "ySGUON/ZmUy2CenALMl77z/vtzM7bwZA0+KovypAO+14vM4Uet+kzND7/EnUF3JtYXX8rNPveNek\n",
       "LBzV+i6gfgWP2nGemwbrkgjLSPqWOjaWbVxUrGZFGlEKxs3oniowWZ+OKlREjy2o59MVZvnxTcGq\n",
       "WYwM9MrrTWW+BPmTwY/nwAxiRCWYBpllJuvUrZRlMyzwi0F28sA51RKJQzAr+/wuLPIc5Vi1EcO2\n",
       "O5gMmAytsqgNV1042xwHzxMEwQNrQrUEKxBZkX3NYJlRFWu+ABwLHteoPvSzH5dbwookIPJvPbCQ\n",
       "7S+XfUR9c18MfyOfufdaS1ioBf6sD9Ybm8t6AI4lLfxddopCg1Eh3QLWUFSD5c8qWFZxDawDyzEu\n",
       "2wtwGoI4pFNkOYPn7kELWOOgwTLKCtZJe81FLHPZJbCY+bCDGtnOT5Dzd0GHdd1xHjnOuIJFJtvt\n",
       "o7J8ScIaXai5LMc599BxFhUsmMkx2RAEM9T0QjgRFhy60/xs7QPdbMHWgsA6gsvmVM57tg4C3E8y\n",
       "2TzMMn9AWkS41zSW2QVHNVgm1U7jxy7gZd8Dq5rDWFR2ETahJceAfnEQ3ZR2YsgDixj3A/TrdiL9\n",
       "5N+KTe6xE0mOp2QRqWwP/jJ8uEBAiSfsEVg+VCdnSYntjatYyIKrMhhnU6mE7MMyXiDMEoR2xwSW\n",
       "b0XFEjkGXHUL1ajuAfqy+btsRgY5VuTX6ncI4KN0eearLacmFgcpAtVqtSj5iIxjwfCnL3R8bKAu\n",
       "N1YtRziFj2oqG3MdPq9v08MnEOOzRdqkdGBOSJeCXGMfx2pgMKXLy6QcZSQ0RzU5KGtYXZJzTsoE\n",
       "Hj5vLHFUKzlIlGXrbjZ492wXV5ho40vbM48LnVVUL5fZhrGuHER2QhuFS9ipJB/NI7UHMbxU35iV\n",
       "fe11WJFNa6MMlM64kWzr0jy8VGcaWWpS5o/Df6OrFQsbVlkvAAAAAElFTkSuQmCC\n",
       "\" style=\"display:inline;vertical-align:middle;\" /></a>"
      ],
      "text/plain": [
       "c in ({1, 1 + 1, 2 + 1} union {1 + 1, 3})"
      ]
     },
     "metadata": {},
     "output_type": "display_data"
    }
   ],
   "source": [
    "# define a Union with some unsimplified elements:\n",
    "Union(Set(one, Add(one, one), Add(two, one)), Set(Add(one, one), three)).membership_object(c).expr"
   ]
  },
  {
   "cell_type": "code",
   "execution_count": 39,
   "metadata": {},
   "outputs": [
    {
     "data": {
      "text/html": [
       "<span style=\"font-size:20px;\"><a class=\"ProveItLink\" href=\"../__pv_it/demonstrations/b626ce183f9460e2361ba896299be33d4a7b89190/expr.ipynb\"><img src=\"data:image/png;base64,iVBORw0KGgoAAAANSUhEUgAAAC8AAAAOBAMAAABN+VgMAAAAMFBMVEX///8yMjJUVFS6urru7u4Q\n",
       "EBBERERmZmaqqqoiIiLc3NzMzMyYmJiIiIh2dnYAAACZiqmYAAAAAXRSTlMAQObYZgAAAAlwSFlz\n",
       "AAAOxAAADsQBlSsOGwAAAIpJREFUGNNjYMAEXOViGxiwgWUMfJ+xSmgxMIRilYh3YNBfgE1Ck4FB\n",
       "H2TJ2zuYVs0H4pUN7AlAqnImCEyCiHP/BRLzGFgvoGvgVGBgYP+CxZYyIGZNwBTnAWpg8Ieag2xH\n",
       "HwPXAgb+AwwMBqgauB8w8DowAJ3Eh+bcleXllUDq3Zkr6J74//8jAwCCvCUhvDF/gQAAAABJRU5E\n",
       "rkJggg==\n",
       "\" style=\"display:inline;vertical-align:middle;\" /></a> <a class=\"ProveItLink\" href=\"../__pv_it/demonstrations/57db6a77a16f97a0ff193ca14c7a64d3b6e0bbda0/proof.ipynb\" style=\"text-decoration: none\">&nbsp;&#x22A2;&nbsp;&nbsp;</a><a class=\"ProveItLink\" href=\"../__pv_it/demonstrations/aa89a518a113beac2ff9160070c3581284393c6c0/expr.ipynb\"><img src=\"data:image/png;base64,iVBORw0KGgoAAAANSUhEUgAAASwAAAAVBAMAAAAOUc6XAAAAMFBMVEX///8AAAAAAAAAAAAAAAAA\n",
       "AAAAAAAAAAAAAAAAAAAAAAAAAAAAAAAAAAAAAAAAAAAv3aB7AAAAD3RSTlMAiXZmMiLdVJm77xBE\n",
       "zatgdeJyAAAACXBIWXMAAA7EAAAOxAGVKw4bAAADG0lEQVRIx62WTWgTQRTHX2I3uyZpbD14sw30\n",
       "pEVcLAgelChSxINND2r1UONlFS0l9uDBIupF0kMkiPWiaEDwoGKDJxVJIwXBqhAQzMGqBQ9VwSJo\n",
       "ySGUON/ZmUy2CenALMl77z/vtzM7bwZA0+KovypAO+14vM4Uet+kzND7/EnUF3JtYXX8rNPveNek\n",
       "LBzV+i6gfgWP2nGemwbrkgjLSPqWOjaWbVxUrGZFGlEKxs3oniowWZ+OKlREjy2o59MVZvnxTcGq\n",
       "WYwM9MrrTWW+BPmTwY/nwAxiRCWYBpllJuvUrZRlMyzwi0F28sA51RKJQzAr+/wuLPIc5Vi1EcO2\n",
       "O5gMmAytsqgNV1042xwHzxMEwQNrQrUEKxBZkX3NYJlRFWu+ABwLHteoPvSzH5dbwookIPJvPbCQ\n",
       "7S+XfUR9c18MfyOfufdaS1ioBf6sD9Ybm8t6AI4lLfxddopCg1Eh3QLWUFSD5c8qWFZxDawDyzEu\n",
       "2wtwGoI4pFNkOYPn7kELWOOgwTLKCtZJe81FLHPZJbCY+bCDGtnOT5Dzd0GHdd1xHjnOuIJFJtvt\n",
       "o7J8ScIaXai5LMc599BxFhUsmMkx2RAEM9T0QjgRFhy60/xs7QPdbMHWgsA6gsvmVM57tg4C3E8y\n",
       "2TzMMn9AWkS41zSW2QVHNVgm1U7jxy7gZd8Dq5rDWFR2ETahJceAfnEQ3ZR2YsgDixj3A/TrdiL9\n",
       "5N+KTe6xE0mOp2QRqWwP/jJ8uEBAiSfsEVg+VCdnSYntjatYyIKrMhhnU6mE7MMyXiDMEoR2xwSW\n",
       "b0XFEjkGXHUL1ajuAfqy+btsRgY5VuTX6ncI4KN0eearLacmFgcpAtVqtSj5iIxjwfCnL3R8bKAu\n",
       "N1YtRziFj2oqG3MdPq9v08MnEOOzRdqkdGBOSJeCXGMfx2pgMKXLy6QcZSQ0RzU5KGtYXZJzTsoE\n",
       "Hj5vLHFUKzlIlGXrbjZ492wXV5ho40vbM48LnVVUL5fZhrGuHER2QhuFS9ipJB/NI7UHMbxU35iV\n",
       "fe11WJFNa6MMlM64kWzr0jy8VGcaWWpS5o/Df6OrFQsbVlkvAAAAAElFTkSuQmCC\n",
       "\" style=\"display:inline;vertical-align:middle;\" /></a></span>"
      ],
      "text/plain": [
       "{c = 2} |- c in ({1, 1 + 1, 2 + 1} union {1 + 1, 3})"
      ]
     },
     "metadata": {},
     "output_type": "display_data"
    }
   ],
   "source": [
    "Union(Set(one, Add(one, one), Add(two, one)), Set(Add(one, one), three)).membership_object(c).conclude(\n",
    "        assumptions=[Equals(c, two)])"
   ]
  },
  {
   "cell_type": "code",
   "execution_count": 40,
   "metadata": {},
   "outputs": [
    {
     "data": {
      "text/html": [
       "<a class=\"ProveItLink\" href=\"../__pv_it/demonstrations/bef7dee3186b48fb0fabaec8078cd5d56e4a760c0/expr.ipynb\"><img src=\"data:image/png;base64,iVBORw0KGgoAAAANSUhEUgAAAHcAAAAZBAMAAAD56ayTAAAAMFBMVEX///9ERES6uroQEBAyMjLc\n",
       "3NyYmJgiIiJmZmaqqqp2dnbMzMxUVFSIiIju7u4AAAAd7oVFAAAAAXRSTlMAQObYZgAAAAlwSFlz\n",
       "AAAOxAAADsQBlSsOGwAAAglJREFUOMtjYMAKkhjwgQYg5sApy9mAV7MAELMK4JJ9wkBQM0MuLlkx\n",
       "Bk7nz47lwglIYnz1gn4MXPZGMM3sD7DrZTVg4JXZwODAgiLKOEGHgeE93GbeA9g1cyxg4Ghg4E1Y\n",
       "CVf5Aoh5SrkSGJgZOAQFDQXFgC75h10zvwIDTwDDQz6wvgIQEQPSPJHBlYEdbh6DG4qei+XlDmDG\n",
       "/gcMfAwM3TwbUDWHXQhB1tyIrFflHox1HURwH9jBgKo54DTvAiTNl4H47Z3XqyaAQskPbswRcPg8\n",
       "kEPXzMgghKRZHxjcDbxnOUAKWALgmgVBxCy2C+iauRueP4elMKDnNjCwBbD94wHFJ1K8+IAIWEQh\n",
       "aWbI5BRGqIpXYOBm4ICE0uZyIIA4qAIUjRMWMTA8QNPM8+AwQvN7BSDBDHHeQ1SbH4IS71GY5j0Q\n",
       "zXwHniPZDIoM/QA+kA3sqJpPg9R+ADJEYQkZKMCwlxGhaj8wKSgcZuACJ7cLcOGDwIhq0AAqB9mq\n",
       "CIsJRqBNvBsRmoGhPX9fM4MmmOMJF74Miig/BlZJUBBwejLwpYNcyAKK0BaE5mRgqr3L2TYBzHkj\n",
       "9ABhprKIoaC94QIQL8rdBZR8uP0NUTNrD0ry1BKHJk9mBQYigBvOXEUY4MpV3AZEaGbDkZ8ZThKh\n",
       "mT2AvDKMAW8ZxknY07hLTwLlNjhQgfEKAHwHdHWGGdJYAAAAAElFTkSuQmCC\n",
       "\" style=\"display:inline;vertical-align:middle;\" /></a>"
      ],
      "text/plain": [
       "x in (Integer union NaturalPos)"
      ]
     },
     "metadata": {},
     "output_type": "display_data"
    }
   ],
   "source": [
    "# a UnionMembership object involving general sets\n",
    "Union(Integer, NaturalPos).membership_object(x).expr"
   ]
  },
  {
   "cell_type": "code",
   "execution_count": 41,
   "metadata": {},
   "outputs": [
    {
     "data": {
      "text/html": [
       "<span style=\"font-size:20px;\"><a class=\"ProveItLink\" href=\"../__pv_it/demonstrations/dc52a9c51aadf3dc1c346d8744cd1ed0426bfe080/expr.ipynb\"><img src=\"data:image/png;base64,iVBORw0KGgoAAAANSUhEUgAAADEAAAAOBAMAAAB0nulXAAAAMFBMVEX///9ERES6uroQEBAyMjLc\n",
       "3NyYmJgiIiJmZmaqqqp2dnbMzMxUVFSIiIju7u4AAAAd7oVFAAAAAXRSTlMAQObYZgAAAAlwSFlz\n",
       "AAAOxAAADsQBlSsOGwAAAKJJREFUGNNjYMAGVt0IwCrOwDKBrxS7TDoDw0LsMjIMDPMfYJX5wcCw\n",
       "fwIDw9s7r1dNQJHgA8kkMDA08J7lKADy28tBoAbIYv0FlLnAwBbA9o8nAUUPWGYBAzcDhwOaNXxA\n",
       "Gf0LQAbzBSwumA+yWj+A7wGKPQyCDAz5DxgeKhxm4ELTk8zA0ALUtq+ZQRNNhn0CnzUDw4u7nG0T\n",
       "0J3QdWcDAwDFtC/eE1MJbAAAAABJRU5ErkJggg==\n",
       "\" style=\"display:inline;vertical-align:middle;\" /></a> <a class=\"ProveItLink\" href=\"../__pv_it/demonstrations/28a042a27ad2fc7906243c85d275c4a3e5685eae0/proof.ipynb\" style=\"text-decoration: none\">&nbsp;&#x22A2;&nbsp;&nbsp;</a><a class=\"ProveItLink\" href=\"../__pv_it/demonstrations/bef7dee3186b48fb0fabaec8078cd5d56e4a760c0/expr.ipynb\"><img src=\"data:image/png;base64,iVBORw0KGgoAAAANSUhEUgAAAHcAAAAZBAMAAAD56ayTAAAAMFBMVEX///9ERES6uroQEBAyMjLc\n",
       "3NyYmJgiIiJmZmaqqqp2dnbMzMxUVFSIiIju7u4AAAAd7oVFAAAAAXRSTlMAQObYZgAAAAlwSFlz\n",
       "AAAOxAAADsQBlSsOGwAAAglJREFUOMtjYMAKkhjwgQYg5sApy9mAV7MAELMK4JJ9wkBQM0MuLlkx\n",
       "Bk7nz47lwglIYnz1gn4MXPZGMM3sD7DrZTVg4JXZwODAgiLKOEGHgeE93GbeA9g1cyxg4Ghg4E1Y\n",
       "CVf5Aoh5SrkSGJgZOAQFDQXFgC75h10zvwIDTwDDQz6wvgIQEQPSPJHBlYEdbh6DG4qei+XlDmDG\n",
       "/gcMfAwM3TwbUDWHXQhB1tyIrFflHox1HURwH9jBgKo54DTvAiTNl4H47Z3XqyaAQskPbswRcPg8\n",
       "kEPXzMgghKRZHxjcDbxnOUAKWALgmgVBxCy2C+iauRueP4elMKDnNjCwBbD94wHFJ1K8+IAIWEQh\n",
       "aWbI5BRGqIpXYOBm4ICE0uZyIIA4qAIUjRMWMTA8QNPM8+AwQvN7BSDBDHHeQ1SbH4IS71GY5j0Q\n",
       "zXwHniPZDIoM/QA+kA3sqJpPg9R+ADJEYQkZKMCwlxGhaj8wKSgcZuACJ7cLcOGDwIhq0AAqB9mq\n",
       "CIsJRqBNvBsRmoGhPX9fM4MmmOMJF74Miig/BlZJUBBwejLwpYNcyAKK0BaE5mRgqr3L2TYBzHkj\n",
       "9ABhprKIoaC94QIQL8rdBZR8uP0NUTNrD0ry1BKHJk9mBQYigBvOXEUY4MpV3AZEaGbDkZ8ZThKh\n",
       "mT2AvDKMAW8ZxknY07hLTwLlNjhQgfEKAHwHdHWGGdJYAAAAAElFTkSuQmCC\n",
       "\" style=\"display:inline;vertical-align:middle;\" /></a></span>"
      ],
      "text/plain": [
       "{x = 0} |- x in (Integer union NaturalPos)"
      ]
     },
     "metadata": {},
     "output_type": "display_data"
    }
   ],
   "source": [
    "# a conclude() on that general set UnionMembership\n",
    "Union(Integer, NaturalPos).membership_object(x).conclude(\n",
    "        assumptions=[Equals(x, zero)])"
   ]
  },
  {
   "cell_type": "markdown",
   "metadata": {},
   "source": [
    "### Testing the `UnionNonmembership` class methods\n",
    "\n",
    "The `UnionNonmembership` class has the following class methods:<br/>\n",
    "    <div style=\"width: 75%; border: 1px solid green; padding: 5px; margin: 20px; background-color: gainsboro; font-family:courier\">definition(self, **defaults_config)<br/>\n",
    "    conclude(self, **defaults_config)</div>\n",
    "</font>"
   ]
  },
  {
   "cell_type": "markdown",
   "metadata": {},
   "source": [
    "A few `UnionNonmembership` objects for convenience:"
   ]
  },
  {
   "cell_type": "code",
   "execution_count": 42,
   "metadata": {},
   "outputs": [
    {
     "data": {
      "text/html": [
       "<a class=\"ProveItLink\" href=\"../__pv_it/demonstrations/931fdc2ef06fe6c45ce0f6df15254d70d45522120/expr.ipynb\"><img src=\"data:image/png;base64,iVBORw0KGgoAAAANSUhEUgAAAMIAAAAVCAMAAAAjBMGUAAAAP1BMVEX///9jY2MJCQkdHR0NDQ0W\n",
       "FhaYmJhmZmYQEBDu7u6qqqpERESIiIgiIiJUVFS6uroyMjLc3NzMzMx2dnYAAABOkPcvAAAAAXRS\n",
       "TlMAQObYZgAAAAlwSFlzAAAOxAAADsQBlSsOGwAAAwhJREFUSMedV+m6JBEMNffO2KlY3v9ZB1VK\n",
       "LLV0+9FfS3HiECdByGVzF12xbeTz5qR7M+wFOEJ6ggSBe1rWP7CJLygQb9XzvBtwXxi6DmnT9WtI\n",
       "zc8ucU+G+idWH94M3hxjoAYcFwJTx8Yq+8SggSd41n/jEcAcLk8kTXcvkFxYM8IxfKICTrr7QGEZ\n",
       "xJ6CU/lz7AJBsLIwiafui+iH9OClmYGw4dEEMY7bQwXyaSg1Uug4MTp70QMFWyKT8y4w8upFhHmB\n",
       "jbldUtAjBdxt4ygbDu+cr8y/vwbQKZJnCrz0bcR3bOP5UL6g4Cm8okB4cqr4SGADLYjFQS3hBYU9\n",
       "Fm30c4TTjykE8pICJGwOPmgc+C7Hl4AujsILCsfa4rQjhpJPKWg3U6A61H1FSMHmU84euGy8ciRQ\n",
       "3ekrbWzgloKPejBoWx1r/kShgrvkb6SQhdQdYoGQKKS7VraN8XM9MCcFcxJ0nN5SMHYllft0F+U9\n",
       "hRM8HzqsJFiZEUnyRKFY6SmGnhtjfn/STxMpvlV3sJE7Ckyt5J4fI4UFeU2hgVN3RYEdYtGQfKxy\n",
       "QWPdXVHkXfZrOPmxlmIXFOjo1pcYUjUxtA0wixRawV2JxYGCgp2CH5A2Xs+mnUJBHxJdCySUYmcK\n",
       "JYU7LKqxjDkoYPlW5yh863bwzeYWuQ14Fw+9G7O4NLm734UWIJpsQ3JX+kaRTjRfXGqBTNyiQAro\n",
       "Om8K698qO+9TRVPZYtynISSaLSp9FUiRCEg7aHuwK+ne47LmXuIMy80gE6H0Ii+kVJM9Cmr8Wu9J\n",
       "VBg8FWBFicQ4btf7wFi3ZmF/hnrRm8mLtanusnlttfYysTRAprTbiVQt8zoKqQAEAzmJLikwFaPV\n",
       "GCkVkZZNNRIx6+Kc/gkqKRLKbm2vgplFU7wxLac+j3hAcubNS+Gspq68BPLG9CWFB6RWf85V85hT\n",
       "qoLoqaQSmrwwdYn98sXDP0Ry6mIv5OJBeCpIHL8unCz9Ck4f35RvwDGSunh6Lh9XTp/Xyspv3s7h\n",
       "zbQ34AhJZwb/Ae9eKqzavmv5AAAAAElFTkSuQmCC\n",
       "\" style=\"display:inline;vertical-align:middle;\" /></a>"
      ],
      "text/plain": [
       "6 not-in ({1, 2, 3} union {4, 5})"
      ]
     },
     "metadata": {},
     "output_type": "display_data"
    }
   ],
   "source": [
    "# a UnionMembership object that is clearly True\n",
    "union_nonmem_01 = Union(set_123, set_45).nonmembership_object(six)\n",
    "union_nonmem_01.expr"
   ]
  },
  {
   "cell_type": "code",
   "execution_count": 43,
   "metadata": {},
   "outputs": [
    {
     "data": {
      "text/html": [
       "<a class=\"ProveItLink\" href=\"../__pv_it/demonstrations/b8de18db867b31cdfd2223f7c4cd02d411bc21f70/expr.ipynb\"><img src=\"data:image/png;base64,iVBORw0KGgoAAAANSUhEUgAAAMAAAAAVCAMAAAAn8RGpAAAARVBMVEX///8/Pz9vb28YGBgJCQkd\n",
       "HR0NDQ0WFhaYmJhERESIiIhUVFTc3NwiIiJ2dnbu7u66urqqqqpmZmYQEBAyMjLMzMwAAAA2jWkX\n",
       "AAAAAXRSTlMAQObYZgAAAAlwSFlzAAAOxAAADsQBlSsOGwAAAtJJREFUSMedV9uC3CAIddttq3iN\n",
       "l/z/p9YkRtHgjLN5mQmBIyBwlLH5o+hX6xz7+FGbWtBagW5IbxGjxW+wld/o7OcBsCTFW7M16Irk\n",
       "AEtj8A9F/LaZ8rvP17Ai6PnCQr7xrIcmPBqRgGPpvg1qHm+njeWP0S83zc+/YUvRgD2pQHr0UMQ1\n",
       "4h6Z7eA8XwpguuZg2f4qOQvATfe6KnJPwzMQWv/7G5EksJUA3Iv6+jiA+UrtS7DU5rsIWS4TLs+4\n",
       "FMDyx5UA5uXYFCO/MAyktvnqrCwbuwoyD+PDSsHQAhJADlVkAHj6MIDBo6tZMpC3g6I5rF3IA1W0\n",
       "zY/nfOWdb7H2uy+BjVbnGnuO3e54Piud3fBnz0J4E8ANTWI7nbOQrjw2JJ5NbODYODtLkIC+s6HC\n",
       "FUqx0sQcDDh0bapEoZRSAdzQT49O40MGjvVIWw7F73Wha/4GnZ8/31oL1MPFUsYyW0crlMIdCT1O\n",
       "o5VxmwbQoElssQOAcSNSyqpBnJvvGhudxdUXYAmAJV9YcLRq6Xa4doPA3VBdRAFUuqzQJPbesWBF\n",
       "ciErHvvL96E+h3FSS6iw4NOqsgBO+qVGEK2ofYJ6rRAsiY2BENKms/qxqoysnpEg67phhAnoR0Vn\n",
       "Vf3a013At2i/yvrMl0FN7EQ38ropRGKXgrry2JC4uHzbtGfN5VxfHQnc4wqvgqzy7CnfZHZXeIZE\n",
       "1/wxjzGaieXwxXKdnuOdwj7GTT52qGGMHuPdSjBJSUio2cTvgVGTHtOErLS2t6EpR44qMoZzsARP\n",
       "KRN1jGAJfiKx4QB6EIaeHL9/feWzhMZzrGaKItvNrohen6JmCgQQIlO9dBPojk3UKmZN9KMAzCtF\n",
       "zyeXHkGcwUuPYz69Sw5WRAMzUfeZwJaAKhLlJyNIANFDz6f3woQvBEDg7y6LxGGc8r8iidmlkrw6\n",
       "3Qc35eX2gzuxWbBagm5IcPj/H+yQLOv5N7qGAAAAAElFTkSuQmCC\n",
       "\" style=\"display:inline;vertical-align:middle;\" /></a>"
      ],
      "text/plain": [
       "d not-in ({a, b, c} union {d, e})"
      ]
     },
     "metadata": {},
     "output_type": "display_data"
    }
   ],
   "source": [
    "# a UnionNonmembership object that is clearly False\n",
    "union_nonmem_02 = Union(set_abc, set_de).nonmembership_object(d)\n",
    "union_nonmem_02.expr"
   ]
  },
  {
   "cell_type": "code",
   "execution_count": 44,
   "metadata": {},
   "outputs": [
    {
     "data": {
      "text/html": [
       "<a class=\"ProveItLink\" href=\"../__pv_it/demonstrations/55500581138be261ce2ef28caae17509ee027b550/expr.ipynb\"><img src=\"data:image/png;base64,iVBORw0KGgoAAAANSUhEUgAAANQAAAAVCAMAAAAJtDA7AAAARVBMVEX///8/Pz9vb28YGBgJCQkd\n",
       "HR0NDQ0WFhaYmJhERESIiIhUVFTc3NwiIiJ2dnbu7u66urqqqqpmZmYQEBAyMjLMzMwAAAA2jWkX\n",
       "AAAAAXRSTlMAQObYZgAAAAlwSFlzAAAOxAAADsQBlSsOGwAAAy9JREFUWMOtWOmapCAMZM/hBrne\n",
       "/1EXECFCbF2/8cd0dyRFCookDCHXj8R/GmvJi0du8sGoV+AA+naOYOAvvrXPYM0bUiQKduv4EnxA\n",
       "Ww7NwbtlJPy16faZjlmjmueXzgUWJ5vWjrXVZ+ImuAGO7CHz6tqzQ3MKzWmbxjkoBBPaF70jG+HC\n",
       "HIFk5X066ce4GusGffcozkPIMgBRjrt+NzyhvuyySKcJHF28+ewhqqC9P+mp8DEpLDGPr1I8JLUs\n",
       "O0qKOoLjcabU198ALJ7ck/LVIBI8rNaXjfsWUvaDNqGnN9je2sCzXcDDsYUHpER9JVJcjwr9BlJP\n",
       "Xwa6o2oex97KqkoTTurTD0i1aNOyxIqS/yVVYpL8fKQE52JSoOacxglai6qQrBc2IgxVPvSEGHpO\n",
       "ceEzqZj4ZODi2HTub0h18DkmUg+myX+gtqXKHB2boGkGMZ6eYiUBKVLqWCHp6WdSSmCZeneX4Khj\n",
       "pDp4i0mt6d7DJVO6WwD0lvm51N/vK+tVfv78VoqBHGDb/MGSj6QcwyTp21AjwnZJCoDPMY1dTMDm\n",
       "YAADOmZnz+re2lHkqjDP4m2kSHSjK8BI0XmfYlUeOwrVWBO1FvkBPsfUKVqY1j1cwAFtfXYt20fT\n",
       "pPYp03T5ga4AIVXbDglln+qgRgo2DKyPAqe3ga8xHVUKbo6BpxdAbyq/KoNFIL0p5HmsnYo349fZ\n",
       "b0wTqzZKPeg2L4D8NEgUlp2S7bldgTEdb0ul2M9at+wn0E7QlO3xbsqRQSOLU0y1RouVlN4z0dEu\n",
       "lGTkyqOgjdKLOpVLX4ncUBXXagNi6lAiYzAHJ9zPr55Teik/RnAdpeARnDn2a1JWVPO8QvgUykRE\n",
       "HY2tSvUJ0Jb33PWG9lw+pQ4q1Dq/kIIxHVBG6NardXCtKW3+AFpdXF5+/sh9koLlt68nUtc3JAti\n",
       "tpvW7mrACoWAg7KtHt2kTm0iMq/GwiPfRko/AR+ejl7cJJFic2Qr7peLDkcuPxzDdeHujuifQGHg\n",
       "HVqyqwXbsDsaWbqCFgkWHXrN8/TuXo7cLvgT8AHNri706AX1aC+lE9ur/1HoB37vwAE0L5z+AdHy\n",
       "MmQ19hCQAAAAAElFTkSuQmCC\n",
       "\" style=\"display:inline;vertical-align:middle;\" /></a>"
      ],
      "text/plain": [
       "d not-in ({1, 2, 3} union {a, b, c})"
      ]
     },
     "metadata": {},
     "output_type": "display_data"
    }
   ],
   "source": [
    "# a UnionNonmembership object that is not clearly True or False\n",
    "union_nonmem_03 = Union(set_123, set_abc).nonmembership_object(d)\n",
    "union_nonmem_03.expr"
   ]
  },
  {
   "cell_type": "code",
   "execution_count": 45,
   "metadata": {},
   "outputs": [
    {
     "data": {
      "text/html": [
       "<a class=\"ProveItLink\" href=\"../__pv_it/demonstrations/8db9211381932429810384e664ae5ed85d6ddece0/expr.ipynb\"><img src=\"data:image/png;base64,iVBORw0KGgoAAAANSUhEUgAAARsAAAAVCAMAAABBjrrXAAAAP1BMVEX///9jY2MJCQkdHR0NDQ0W\n",
       "FhaYmJhERESIiIhUVFTc3NwiIiJ2dnbu7u66urqqqqpmZmYQEBAyMjLMzMwAAAAry7kzAAAAAXRS\n",
       "TlMAQObYZgAAAAlwSFlzAAAOxAAADsQBlSsOGwAAA6FJREFUWMOtWNe24yAMZBu9m///1gVigyjG\n",
       "xOf6IU4IM4hBQgKE7h8+/6m0Rl8/3PCNXq+of+6pRj4a6xX8Rc359lq9GPdg5BH2kvrnnmKkprDV\n",
       "Ozt0hL+MPN/h3nxFnLgfmLAHywo1t9aTozdHPOnGpbSkc7wp1QJ3GUkx7BFMB7FwGOXPL1IsXc3e\n",
       "/weRpBLboQNP/8rQDM+sDw/aZCbTTmNCtcYVI2HQ6GHoRgSLt7QZBL7Rpn7lbOjAcrQ71wXcYKDG\n",
       "XYc4uAoetk2pVrhiJLZzy2N/Iv79FWAYh3a00au13dbGZRYW+IM2hraDu+QerTZTqhWuGunUNBq0\n",
       "pwoxGKXGb2mz/efab/KbheM7bc49q3GKKdUKV430+GOepAeIBp5iTTX6WznOMMF4O4xnlLIurCSl\n",
       "+PhKm7NLQN9rowWerEpHtcJVGyTLPhU9joCRffJA3BD4MqT1xRU7WA5aFT+gA3MRpbJ566XuQRsL\n",
       "l+MI9GttDsrYJCf1VCtcNRJHa5TDnV1+LG7E5QzcnSqdMDEmYQeHFrK0cOCaM20K9adHn/F3Y2rM\n",
       "Bj3VCleNNFElG8ocThWdEOLP7/hRM63T50T8lQ4HWBE4gDYLJ6SYN7faAOoMJGihjRXpcS6/2pm7\n",
       "QUJAtYErRh5xgo7kaNCggkvR1sp/aoMOe1W3A+xSSsOVc3CKss5ejBVmpU4OPdaJj35z5LAgveOM\n",
       "VEtcMVK7OL3UE4eusOkSTompq3CcwM7qBrqKgpEOK2pS9iSwr9XCORfh/MscHnKHXpsJ1QpXjTQi\n",
       "mp/amEf1MEgp0l19S2iXTBrYRZdS5WcfKi2fLSQvhQR7sSYwJ/Z56shRSVXl2dHGsRIbtWel2sFB\n",
       "IzH5TNsIi4Aa3vTbvWT9BACs1KIsKkEsAi2fWJdDDo8FU9JWYXGMBRAXNj2irXJl4GttML7qlAqr\n",
       "VDu4xshUtihG5cEZPeCm+bs7EB+inwCECXHtY/I8W1wtSEqMz1VryxcuvfC+WdCrgwj58ZCHMRc8\n",
       "w8t8o6MKnzNjgQGqHRw0UtwcwvAvSeJODijL+k5LX6OeWx5OYjcdzOIQMsvFG7AVrtrAxdbNTXP0\n",
       "ms5QbrS800auTm/4ngq9w1Ub7E0nTia3L7wvHEEM0ueWruydXm05tMOzc3/4DgaMnEnwEc/M7q0Q\n",
       "6qvbMqmNljOBLe+YRuqXc3wtTTGS3N2KTi/ormMlt8y8uIqVG6h31D94X1yMpEma/6mMNmdkC2hk\n",
       "AAAAAElFTkSuQmCC\n",
       "\" style=\"display:inline;vertical-align:middle;\" /></a>"
      ],
      "text/plain": [
       "d not-in ({a, b, c} union {2, 1 + 3, 2 + 3})"
      ]
     },
     "metadata": {},
     "output_type": "display_data"
    }
   ],
   "source": [
    "# a UnionMembership object that is not clearly True or False\n",
    "union_nonmem_04 = Union(set_abc, Set(two, Add(one, three), Add(two, three))).nonmembership_object(d)\n",
    "union_nonmem_04.expr"
   ]
  },
  {
   "cell_type": "markdown",
   "metadata": {},
   "source": [
    "###  `UnionNonmembership.definition()`\n",
    "\n",
    "From self $= [x \\notin (A \\cup B \\cup \\ldots)]$, deduce and return something of the form $[x \\notin (A \\cup B \\cup \\ldots)] = [(x \\notin A) \\land (x \\notin B) \\land \\ldots]$."
   ]
  },
  {
   "cell_type": "code",
   "execution_count": 46,
   "metadata": {},
   "outputs": [
    {
     "data": {
      "text/html": [
       "<a class=\"ProveItLink\" href=\"../__pv_it/demonstrations/931fdc2ef06fe6c45ce0f6df15254d70d45522120/expr.ipynb\"><img src=\"data:image/png;base64,iVBORw0KGgoAAAANSUhEUgAAAMIAAAAVCAMAAAAjBMGUAAAAP1BMVEX///9jY2MJCQkdHR0NDQ0W\n",
       "FhaYmJhmZmYQEBDu7u6qqqpERESIiIgiIiJUVFS6uroyMjLc3NzMzMx2dnYAAABOkPcvAAAAAXRS\n",
       "TlMAQObYZgAAAAlwSFlzAAAOxAAADsQBlSsOGwAAAwhJREFUSMedV+m6JBEMNffO2KlY3v9ZB1VK\n",
       "LLV0+9FfS3HiECdByGVzF12xbeTz5qR7M+wFOEJ6ggSBe1rWP7CJLygQb9XzvBtwXxi6DmnT9WtI\n",
       "zc8ucU+G+idWH94M3hxjoAYcFwJTx8Yq+8SggSd41n/jEcAcLk8kTXcvkFxYM8IxfKICTrr7QGEZ\n",
       "xJ6CU/lz7AJBsLIwiafui+iH9OClmYGw4dEEMY7bQwXyaSg1Uug4MTp70QMFWyKT8y4w8upFhHmB\n",
       "jbldUtAjBdxt4ygbDu+cr8y/vwbQKZJnCrz0bcR3bOP5UL6g4Cm8okB4cqr4SGADLYjFQS3hBYU9\n",
       "Fm30c4TTjykE8pICJGwOPmgc+C7Hl4AujsILCsfa4rQjhpJPKWg3U6A61H1FSMHmU84euGy8ciRQ\n",
       "3ekrbWzgloKPejBoWx1r/kShgrvkb6SQhdQdYoGQKKS7VraN8XM9MCcFcxJ0nN5SMHYllft0F+U9\n",
       "hRM8HzqsJFiZEUnyRKFY6SmGnhtjfn/STxMpvlV3sJE7Ckyt5J4fI4UFeU2hgVN3RYEdYtGQfKxy\n",
       "QWPdXVHkXfZrOPmxlmIXFOjo1pcYUjUxtA0wixRawV2JxYGCgp2CH5A2Xs+mnUJBHxJdCySUYmcK\n",
       "JYU7LKqxjDkoYPlW5yh863bwzeYWuQ14Fw+9G7O4NLm734UWIJpsQ3JX+kaRTjRfXGqBTNyiQAro\n",
       "Om8K698qO+9TRVPZYtynISSaLSp9FUiRCEg7aHuwK+ne47LmXuIMy80gE6H0Ii+kVJM9Cmr8Wu9J\n",
       "VBg8FWBFicQ4btf7wFi3ZmF/hnrRm8mLtanusnlttfYysTRAprTbiVQt8zoKqQAEAzmJLikwFaPV\n",
       "GCkVkZZNNRIx6+Kc/gkqKRLKbm2vgplFU7wxLac+j3hAcubNS+Gspq68BPLG9CWFB6RWf85V85hT\n",
       "qoLoqaQSmrwwdYn98sXDP0Ry6mIv5OJBeCpIHL8unCz9Ck4f35RvwDGSunh6Lh9XTp/Xyspv3s7h\n",
       "zbQ34AhJZwb/Ae9eKqzavmv5AAAAAElFTkSuQmCC\n",
       "\" style=\"display:inline;vertical-align:middle;\" /></a>"
      ],
      "text/plain": [
       "6 not-in ({1, 2, 3} union {4, 5})"
      ]
     },
     "metadata": {},
     "output_type": "display_data"
    }
   ],
   "source": [
    "union_nonmem_01.expr"
   ]
  },
  {
   "cell_type": "code",
   "execution_count": 47,
   "metadata": {},
   "outputs": [
    {
     "data": {
      "text/html": [
       "<span style=\"font-size:20px;\"> <a class=\"ProveItLink\" href=\"../__pv_it/demonstrations/6c0a07a0d2d28cdd3ff0261c0309dc4790bf492f0/proof.ipynb\" style=\"text-decoration: none\">&nbsp;&#x22A2;&nbsp;&nbsp;</a><a class=\"ProveItLink\" href=\"../__pv_it/demonstrations/c4b9f8c8c27e60097635c71730c95006d569fde10/expr.ipynb\"><img src=\"data:image/png;base64,iVBORw0KGgoAAAANSUhEUgAAAfQAAAAVCAMAAACHZ+wrAAAAP1BMVEX///9jY2MJCQkdHR0NDQ0W\n",
       "FhbMzMxUVFRERES6uroiIiIQEBCYmJhmZmYyMjLu7u52dnaqqqqIiIjc3NwAAACGmE1UAAAAAXRS\n",
       "TlMAQObYZgAAAAlwSFlzAAAOxAAADsQBlSsOGwAABTBJREFUaN6tmumitCYMhunXVpBd4P6vtW5o\n",
       "gKBxKD8OZ5wQ3idRNoextUTWL7Hz2c0z+17iEilmBOfAU+xIfWX6wP0bLqaSfQj203eDMQrLQ0Pr\n",
       "io/ZNtjZ/RKFiYv3dg/Op503Fp7mUNav7pfP3L/iIioJwkiJGIvR4o/ar2VqRRcfs+2Sco+TrPuO\n",
       "xlhROoreG3HemIK/sd/OV/em/E4la+XZ5eUp6LJ+ce8/cwNFDS+Ci/O+qvuUiLEYOXvotKtILuu+\n",
       "TDGGnLarrsPQcWNTHQSxfZ9gO2d2mQtsekaktGGNhaxuEamS9K62y0+BJTyOmeELd+4J4UVwe7y1\n",
       "Or9gwkiCRmNkjlvAbs+9EHVfZedGN32GOul8nzaUgkPRxu+SbZN+/x85BhRqII6Ca1PWTyUzfOGG\n",
       "iipeBLfHW6lz0mLCSIJGY6Sa4eLyJuS//xTKFHtPutov8AQWHrPabtMfkj5pSwJiypX1Q1FFTeN+\n",
       "SDqC2+Ut1QXN51YYTdBgjJbDl1B1T7MNjvFiblksIenHyMTT1MzU+nPSPSMCWV3WDxOnLWoS9+OT\n",
       "3sHFeEt1kk2iFUYTNBgjc6welJ18gPNG3MZ+Vw1AnpD0kyjV0qVmX5MeYgukg88BAJ48L+uH0d0X\n",
       "NYn7KekdXJS3ULct22xshNEEDcbozH/aa3UvLXY9utxm3Heqsc9BmFLZcgo8ywjqLenZeVy7q4G2\n",
       "LUg8l03Ak7ZlvXmRoPDemEDiBrg4b43b4dUwdVtHi2mCSxM0GCO5u3dpv1XNPetYZL0ps5So9Mud\n",
       "z5GN2NE6puU56Zfz7da32KMrZO1pUWXdL5nhCzfAxXkRXIwXqju2YGD/90XQaIz2Ncfa126jr63H\n",
       "pNbn4+8/6x8w7xy2a37s/BwEI7AV1GnpuF36Sb+d69gDMuey6fY0pbJ+WMfNsKZwF7goL4qL8EJ1\n",
       "x0AQQiWMlIjhGJ1BOJaaOuVb2ol2I3kFbDL3sRoWBF2pmHZAkTeuIIayPXzIzuMejwpI2ANoqjzN\n",
       "qqypSSdxQ1yMt8bt8gJ15yTtZC2MlIjRGJ3DnahusD0dsjM0wmM1JAj7yVIEa5S025xBKPYk4rIC\n",
       "s9bhfOZbSYp7mLJzrVzvbhZZ1v05vRzeadzwFLHlbXC7vEBdTqNZKmE0QYMxEuH88phKbrjA5vqo\n",
       "Q4T+6h2cCu4KgruvKQ6GOw8fxlnANSpy2nQ0dff+ZL94tAKetCjrfskMX7ix1bvr43Z5gTp5cVfC\n",
       "aIIGY5QX8mK1dWDRyOxS7w3BlgNsE4+5I58/rRjSbEWCa1r39unr7nTr0mk54UBJlM7NviJ1tV21\n",
       "EXso9eaOwl1sfCpeBLfLe6u7x7Xr2P6ToMEYTfmqN6Zw7vif+j3OJOs+OVfJ8o0un/CvW9a9WHht\n",
       "XsOSX0CUSWfRW2m34wcMyIiUeACOttcb3DTnykzOZf3w2ktWLATuu6eWF8Pt8d7q+D1QBPaDoNEY\n",
       "yakTHv2XF+t0CPeWl61vZ5kFWcVj15Cm7xaYI2AXZVk/7tmmioXAjWlGJBFVvgijCBqNUfclBfLK\n",
       "6rJF+sQGVs/+p6T7Z7vqJcpjeX05g3Bjmj37VeWLMIqg4RgJ/PcaEVsTZdvQbI0c8hsB7Bo83eoU\n",
       "mnPgKUuNghFKZvjA3SrCJBFVvgqjJGI0Rg4X47GfcWTb4ljtUIEpwzyo16eR5hx4ekljh+EDd6sI\n",
       "k0RU+SqMkojhGEXUHn91kW2j4Qv7XqKnNKM4B55CLOvXpuEz94+4mEqCMFIiBmL0H7TTac3T2UbF\n",
       "AAAAAElFTkSuQmCC\n",
       "\" style=\"display:inline;vertical-align:middle;\" /></a></span>"
      ],
      "text/plain": [
       "|- (6 not-in ({1, 2, 3} union {4, 5})) = ((6 not-in {1, 2, 3}) and (6 not-in {4, 5}))"
      ]
     },
     "metadata": {},
     "output_type": "display_data"
    }
   ],
   "source": [
    "union_nonmem_01.definition()"
   ]
  },
  {
   "cell_type": "code",
   "execution_count": 48,
   "metadata": {},
   "outputs": [
    {
     "data": {
      "text/html": [
       "<a class=\"ProveItLink\" href=\"../__pv_it/demonstrations/b8de18db867b31cdfd2223f7c4cd02d411bc21f70/expr.ipynb\"><img src=\"data:image/png;base64,iVBORw0KGgoAAAANSUhEUgAAAMAAAAAVCAMAAAAn8RGpAAAARVBMVEX///8/Pz9vb28YGBgJCQkd\n",
       "HR0NDQ0WFhaYmJhERESIiIhUVFTc3NwiIiJ2dnbu7u66urqqqqpmZmYQEBAyMjLMzMwAAAA2jWkX\n",
       "AAAAAXRSTlMAQObYZgAAAAlwSFlzAAAOxAAADsQBlSsOGwAAAtJJREFUSMedV9uC3CAIddttq3iN\n",
       "l/z/p9YkRtHgjLN5mQmBIyBwlLH5o+hX6xz7+FGbWtBagW5IbxGjxW+wld/o7OcBsCTFW7M16Irk\n",
       "AEtj8A9F/LaZ8rvP17Ai6PnCQr7xrIcmPBqRgGPpvg1qHm+njeWP0S83zc+/YUvRgD2pQHr0UMQ1\n",
       "4h6Z7eA8XwpguuZg2f4qOQvATfe6KnJPwzMQWv/7G5EksJUA3Iv6+jiA+UrtS7DU5rsIWS4TLs+4\n",
       "FMDyx5UA5uXYFCO/MAyktvnqrCwbuwoyD+PDSsHQAhJADlVkAHj6MIDBo6tZMpC3g6I5rF3IA1W0\n",
       "zY/nfOWdb7H2uy+BjVbnGnuO3e54Piud3fBnz0J4E8ANTWI7nbOQrjw2JJ5NbODYODtLkIC+s6HC\n",
       "FUqx0sQcDDh0bapEoZRSAdzQT49O40MGjvVIWw7F73Wha/4GnZ8/31oL1MPFUsYyW0crlMIdCT1O\n",
       "o5VxmwbQoElssQOAcSNSyqpBnJvvGhudxdUXYAmAJV9YcLRq6Xa4doPA3VBdRAFUuqzQJPbesWBF\n",
       "ciErHvvL96E+h3FSS6iw4NOqsgBO+qVGEK2ofYJ6rRAsiY2BENKms/qxqoysnpEg67phhAnoR0Vn\n",
       "Vf3a013At2i/yvrMl0FN7EQ38ropRGKXgrry2JC4uHzbtGfN5VxfHQnc4wqvgqzy7CnfZHZXeIZE\n",
       "1/wxjzGaieXwxXKdnuOdwj7GTT52qGGMHuPdSjBJSUio2cTvgVGTHtOErLS2t6EpR44qMoZzsARP\n",
       "KRN1jGAJfiKx4QB6EIaeHL9/feWzhMZzrGaKItvNrohen6JmCgQQIlO9dBPojk3UKmZN9KMAzCtF\n",
       "zyeXHkGcwUuPYz69Sw5WRAMzUfeZwJaAKhLlJyNIANFDz6f3woQvBEDg7y6LxGGc8r8iidmlkrw6\n",
       "3Qc35eX2gzuxWbBagm5IcPj/H+yQLOv5N7qGAAAAAElFTkSuQmCC\n",
       "\" style=\"display:inline;vertical-align:middle;\" /></a>"
      ],
      "text/plain": [
       "d not-in ({a, b, c} union {d, e})"
      ]
     },
     "metadata": {},
     "output_type": "display_data"
    }
   ],
   "source": [
    "union_nonmem_02.expr"
   ]
  },
  {
   "cell_type": "code",
   "execution_count": 49,
   "metadata": {},
   "outputs": [
    {
     "data": {
      "text/html": [
       "<span style=\"font-size:20px;\"> <a class=\"ProveItLink\" href=\"../__pv_it/demonstrations/3c9dbd3a383b6d18484006c3db158b0eb962adca0/proof.ipynb\" style=\"text-decoration: none\">&nbsp;&#x22A2;&nbsp;&nbsp;</a><a class=\"ProveItLink\" href=\"../__pv_it/demonstrations/c34e25fc9ff4f21ab275d9c701f2e4932b13660f0/expr.ipynb\"><img src=\"data:image/png;base64,iVBORw0KGgoAAAANSUhEUgAAAfAAAAAVCAMAAACOjExRAAAASFBMVEX///9jY2M/Pz9vb28YGBgJ\n",
       "CQkdHR0NDQ0WFhbMzMxUVFRERES6uroiIiIQEBCYmJhmZmYyMjLu7u52dnaqqqqIiIjc3NwAAADc\n",
       "6F9dAAAAAXRSTlMAQObYZgAAAAlwSFlzAAAOxAAADsQBlSsOGwAABQVJREFUaN6lWtuipCgMdGZ3\n",
       "LgooF8H//9PRViBAwNDwwmk7FFUJHQKeaTqbmxrN4R8151N3c7sjWFGgI5LDeb7q6RH9lVog1nXw\n",
       "onw56CG7twYqDT95W6u47g/4NC/sdRgNOiBxOyX9G/reL/pLtVEsgVtXEMY8tJtoo1ZZDIOfvO1+\n",
       "1GfUbBV1Gmx54ZlCI4xyJLulfRvdFKKROVLRLbVEsa/cuoIw5iGtoM2RLzQJk0ewNaK5HmX9OziS\n",
       "RWCJGqCMCkO//NX7svcCUtHFHJJXOX8pNuNmdpwXJQijHpJw8fFiLSfgwbYd8GOnBTz+6ZaaHF79\n",
       "dQXDTaZ9o3kBiehyDjHRA04Tm3LTQuG8KEEY9dBaxbJMiL9/ILWV5ALeyPfdAa/PFL9ZddrX25oL\n",
       "QVX//ZMGpKWWKjbhZreFo7yQ6Uo+Yx7aVSU/cWVPq2WGm4ciBZz8JSXg9YwJ8uWW9vWdUuVCUNWJ\n",
       "6BdBVLEJNzHNbEIdm0vG+Ix5SJrgc2PnmJ/cJ9+ne0uwjVDXKJfVoGqxdskSnbF2mzsDnjG6k+EJ\n",
       "JHVmaJa0r2d0kwvBVGcbfFstVSzkdlVoymGOzSWjfMY85GPP15MBi/npJrQl6uIqlQof9ZnxOFnq\n",
       "Awpy4iQlP4vari8B99AoNhenI+fbPRFpU2l/ggjQlqmaClDVW36Iaqgli91A1K5Zdok4tpgA5TPm\n",
       "IXGvD71uEOqcCikuhV9Lbt3gKIEcYlbIUpjwxIEFiQXcQ5eMPoOvZ5ZPKdK+pn21eQG+x1Xn1X5L\n",
       "LVks4HYfsoQueJWSMT6DHlrv7+QRuN6k1uu38fuXEGCzeWzdop6SIx8FFuABHkq4CPWi9mrAIzSK\n",
       "zQ5rreE50nxMSV+v2Xjao6ov0UB1Wy1ZLOB2b8nWFryKCRA+wx565lrZJz/xeKGAHBe9n2b53OHk\n",
       "o+IK53BnWWGFYgJhEPBwsxCgUewj2aQDEl/TnhxwVHV+Rm6qJYuN3J4tWYuCVzEBxmfUQ3c20ce1\n",
       "3rYj218FnhH9HU45KhxM4Tq/zZBrIha2PrBNPddDKDYEAki7SPvqHp6ldFy1qNxY4YyoYiM3H0C5\n",
       "Z7yQCVA+Yx5i9h58TbmoKdy4XxmHZwU/s2mhmIwK0o7Zby/+0XFvOp/VZsCvkLPkSJDUoCj2k75u\n",
       "T0WkjaV9/arTJj2qmsvK8QZlRBYbuYWSX2W8Sjo4nzEPPQX7NeUu5BTRz+xfnEeXbE4w6ixX/RZ1\n",
       "KmZyAo/uktUUx7Lz/Hkx05uYy0MHhv0pNrV02aGjPG3VDqbZ+Q1TnYtuqyWLDdxiMmNzxqukg/IZ\n",
       "89D8LJfFmtktdgb1Bvs/K1dnkS8yMEr4slMv5rkpDI+M2TarkVsDZ5RQympEDoptL6DiOCp42tdf\n",
       "IIm0x1T/Kt9ENdSSxQZuS4CfbcarpIPyGfSQmGvu+e8nO3dAWPUHW+x+adeUR+1b+JoBAgSuQ0Ta\n",
       "t85lcyakaNsPk6smqm2KfeHWxWfQQ/VXDuXbp2CLzWloj74KuGkZ4m9EcPe9vmdRmkbJ9Il94dbF\n",
       "Z9RDrPK/Fg4pgbytLQ9A2lIeZfcESEOgUaCA5Hk6Nr03L6BHNE1tU+wrtx4+ox7SFTIGee/nbV35\n",
       "UhCZEXmk17efIQKNAUWktxiiAnpE09Q2xb5y6+Ez7CGH/wMO+ibC2zq57FN3c4YwigQdkaxL+7eB\n",
       "tl/0d2qBWAK3riAMeOgf2hd+tC6BkWEAAAAASUVORK5CYII=\n",
       "\" style=\"display:inline;vertical-align:middle;\" /></a></span>"
      ],
      "text/plain": [
       "|- (d not-in ({a, b, c} union {d, e})) = ((d not-in {a, b, c}) and (d not-in {d, e}))"
      ]
     },
     "metadata": {},
     "output_type": "display_data"
    }
   ],
   "source": [
    "# notice the definition is returned even for False membership claims\n",
    "union_nonmem_02.definition()"
   ]
  },
  {
   "cell_type": "code",
   "execution_count": 50,
   "metadata": {},
   "outputs": [
    {
     "data": {
      "text/html": [
       "<a class=\"ProveItLink\" href=\"../__pv_it/demonstrations/55500581138be261ce2ef28caae17509ee027b550/expr.ipynb\"><img src=\"data:image/png;base64,iVBORw0KGgoAAAANSUhEUgAAANQAAAAVCAMAAAAJtDA7AAAARVBMVEX///8/Pz9vb28YGBgJCQkd\n",
       "HR0NDQ0WFhaYmJhERESIiIhUVFTc3NwiIiJ2dnbu7u66urqqqqpmZmYQEBAyMjLMzMwAAAA2jWkX\n",
       "AAAAAXRSTlMAQObYZgAAAAlwSFlzAAAOxAAADsQBlSsOGwAAAy9JREFUWMOtWOmapCAMZM/hBrne\n",
       "/1EXECFCbF2/8cd0dyRFCookDCHXj8R/GmvJi0du8sGoV+AA+naOYOAvvrXPYM0bUiQKduv4EnxA\n",
       "Ww7NwbtlJPy16faZjlmjmueXzgUWJ5vWjrXVZ+ImuAGO7CHz6tqzQ3MKzWmbxjkoBBPaF70jG+HC\n",
       "HIFk5X066ce4GusGffcozkPIMgBRjrt+NzyhvuyySKcJHF28+ewhqqC9P+mp8DEpLDGPr1I8JLUs\n",
       "O0qKOoLjcabU198ALJ7ck/LVIBI8rNaXjfsWUvaDNqGnN9je2sCzXcDDsYUHpER9JVJcjwr9BlJP\n",
       "Xwa6o2oex97KqkoTTurTD0i1aNOyxIqS/yVVYpL8fKQE52JSoOacxglai6qQrBc2IgxVPvSEGHpO\n",
       "ceEzqZj4ZODi2HTub0h18DkmUg+myX+gtqXKHB2boGkGMZ6eYiUBKVLqWCHp6WdSSmCZeneX4Khj\n",
       "pDp4i0mt6d7DJVO6WwD0lvm51N/vK+tVfv78VoqBHGDb/MGSj6QcwyTp21AjwnZJCoDPMY1dTMDm\n",
       "YAADOmZnz+re2lHkqjDP4m2kSHSjK8BI0XmfYlUeOwrVWBO1FvkBPsfUKVqY1j1cwAFtfXYt20fT\n",
       "pPYp03T5ga4AIVXbDglln+qgRgo2DKyPAqe3ga8xHVUKbo6BpxdAbyq/KoNFIL0p5HmsnYo349fZ\n",
       "b0wTqzZKPeg2L4D8NEgUlp2S7bldgTEdb0ul2M9at+wn0E7QlO3xbsqRQSOLU0y1RouVlN4z0dEu\n",
       "lGTkyqOgjdKLOpVLX4ncUBXXagNi6lAiYzAHJ9zPr55Teik/RnAdpeARnDn2a1JWVPO8QvgUykRE\n",
       "HY2tSvUJ0Jb33PWG9lw+pQ4q1Dq/kIIxHVBG6NardXCtKW3+AFpdXF5+/sh9koLlt68nUtc3JAti\n",
       "tpvW7mrACoWAg7KtHt2kTm0iMq/GwiPfRko/AR+ejl7cJJFic2Qr7peLDkcuPxzDdeHujuifQGHg\n",
       "HVqyqwXbsDsaWbqCFgkWHXrN8/TuXo7cLvgT8AHNri706AX1aC+lE9ur/1HoB37vwAE0L5z+AdHy\n",
       "MmQ19hCQAAAAAElFTkSuQmCC\n",
       "\" style=\"display:inline;vertical-align:middle;\" /></a>"
      ],
      "text/plain": [
       "d not-in ({1, 2, 3} union {a, b, c})"
      ]
     },
     "metadata": {},
     "output_type": "display_data"
    }
   ],
   "source": [
    "union_nonmem_03.expr"
   ]
  },
  {
   "cell_type": "code",
   "execution_count": 51,
   "metadata": {},
   "outputs": [
    {
     "data": {
      "text/html": [
       "<span style=\"font-size:20px;\"> <a class=\"ProveItLink\" href=\"../__pv_it/demonstrations/1b46fc35b3df80038fcc766386bf44b2c7e607490/proof.ipynb\" style=\"text-decoration: none\">&nbsp;&#x22A2;&nbsp;&nbsp;</a><a class=\"ProveItLink\" href=\"../__pv_it/demonstrations/bb6beab054e7c74dbb2a335451551b23c5d9f4cc0/expr.ipynb\"><img src=\"data:image/png;base64,iVBORw0KGgoAAAANSUhEUgAAAhgAAAAVCAMAAAAzW2fVAAAASFBMVEX///9jY2M/Pz9vb28YGBgJ\n",
       "CQkdHR0NDQ0WFhbMzMxUVFRERES6uroiIiIQEBCYmJhmZmYyMjLu7u52dnaqqqqIiIjc3NwAAADc\n",
       "6F9dAAAAAXRSTlMAQObYZgAAAAlwSFlzAAAOxAAADsQBlSsOGwAABeNJREFUaN6tmueinigQQN2S\n",
       "TehN8P3fdG3AAIOiXn8E4ofj4Yg07zStR5gujoD/13I+vTjCHEaKvYkOQgec/baOT0S8NIBQPrnp\n",
       "1Y+vgDJPy+XnqyuNhf+LZb3h9k3DmAhl9xe+i55Dc1+md7ebn4t4baClHCAbejTvgBJPwomZ2eVC\n",
       "RurmOvi/WHZeIgMRNU3Q2jBSnXNOs7M9M3rHmqO3XQmTon9hCu1VmV7fzjUiEBOliKcGUAG3dI8e\n",
       "TV/aoLWEc2SsgYWWuolq2D2lsu64j6Xa1DyBbb8vRa9m9U4+w2sPprJIGb3zmuj+b/nC+DKZ+5co\n",
       "VqoU0ZjQHLvVoIGOgJrOzSjZyKO5ljZmLeHsGQ2bLW+aXXG7VDZT+PoKug9RUha93FYpu5imBjkb\n",
       "6GAdl3mkYShdphdHrFQhojUhercaMdARUNFZYVCykUdz0zCGrCWcPSO70T0T4s9vyCoHtMj9BF3g\n",
       "zIjLrXH/SMPgFz0mvFDaMu0fsq4cauLP7/KpPTPQE1DSeUU5RoZIaYkuG8agtYSzZmbT6XG48Wsx\n",
       "CofKXPbqfdl/ogtpZw7qBxrGZf3Bj0aVaX8cN3XlUBOUjPcYHQOIgJJOTIShuuvBACMaFXM5AKuc\n",
       "0S49GedJ7nHCPs6Uo1wqe6XlrOPSNFqhpqcNY2MK5dzdUO9p1S867xWpQjtapv2RxNWVw0xUE5A3\n",
       "BjABBd021TQB0V0B4UQ56ntrCWfNxEbC5YrEch0PQlXEz+1bm2stZKmWYsTT2MK9vGsYMXrNNO3j\n",
       "tF3/geNUEGuNNatCK1OmaxEBDtrvWlATql5aPjWAC1Dw6W43mnWru9GAEiWgD9YSzpoRRzuyUhW1\n",
       "nQwybRaxzQWprrUIii1Cj8sDaPtow4jRTybRLsoklCJcOgNCz7JMu0esVExxE/X64Y0BRACkO1af\n",
       "YO3bezQoUQL6Yi3hrBl5THf0kkoflHJ7r/77JQQY9c6ygRo+XWrRDJ3lnUUtNXO/YeToNVN+LxZw\n",
       "TkOAHJosZdqfe/IyRU1sIoCJlwZaAZDu6FC8r8kaDQgRAPpiLeGsmfPuku09Ds9bIsi6OrojOu9e\n",
       "YlpU/baQvc4sruOzVYHs1qToNVOqMIeLLwkfQQ7NZZkONwzURCXisYGeAEB3zhmsqMkaDRhRBvpi\n",
       "LeGsmaO/svuIqJZq9Bd4rwt3LxEt+35dgAPashc6vcAtOpZKwSHziN4yxfU4bO4WjuUg9CzKtDvH\n",
       "qIYS3ITob7IOGegJmEWzuaXnkgzRgBKdQJ+sJZw1w/xRcLuUmil9Utm6NF7tDjHfn5Pnm5K9x9rW\n",
       "uumcpKAndeAd5qxYBBXRC6b467YGPEbRdOYYW3kVWrEy7W8I+yJFTXB9scYbMdATAOjSSsyUZC0Q\n",
       "ThS3Yr9YSzhr5lyhbBCz0FO+3zrsNGt32mpxx1w37upt0129HQKeU6qzj7Gu1bd6WCVIW0fAlELR\n",
       "NQbT8IbHaO7q5Wq7Cu2t4qt1LWaCkouGMWKgJyDT5R4zfWXpPhqUKEb9Yi3hrBkS9/y9I4F6AmYk\n",
       "7N+qjySipqBULma77STidFos+2HgubWB6/QNqdxsCc4Is++lId8hMlMMZak7N4pTcOeUOq8HoQUv\n",
       "0+4RKxVTzMSv9rvlQwMdAZmO2rywLclaIJTIIfxPrSWcLSNIT9k/f7N1NIYr7VQW2Umbkbk5du5m\n",
       "U79Xog2FBAebPKJMr9arpKpcO5X8y9UmvhhoKW/IhohQrc+shSLT/8zUfplMZREKrMt20481DDcS\n",
       "HHSK6JcxXPLt9zZjhxhHDbSUN2RDRKjWZ9YSzpFhnb8SCsi0LZb1zSLQIn91YtG/RNHm7lG10ZFQ\n",
       "WPAUOrIHNt0fsVJPRHwx0FDeko0QIdIeWktRz4zt4DnkS20sG5rPuJgBtF1YefsSt9GRUP4q9N2z\n",
       "Riv1RMQHAy3lLdkIESLtobWEEzMB/xMz9OtTLBs0nacXR3Aj172KDkL7UKZ3V/rnIt4aQCgHyIYe\n",
       "zSugzJNw9sz/XlCKFHte130AAAAASUVORK5CYII=\n",
       "\" style=\"display:inline;vertical-align:middle;\" /></a></span>"
      ],
      "text/plain": [
       "|- (d not-in ({1, 2, 3} union {a, b, c})) = ((d not-in {1, 2, 3}) and (d not-in {a, b, c}))"
      ]
     },
     "metadata": {},
     "output_type": "display_data"
    }
   ],
   "source": [
    "# notice the definition is returned even for membership claims\n",
    "# with unknown verity\n",
    "union_nonmem_03.definition()"
   ]
  },
  {
   "cell_type": "code",
   "execution_count": 52,
   "metadata": {},
   "outputs": [
    {
     "data": {
      "text/html": [
       "<a class=\"ProveItLink\" href=\"../__pv_it/demonstrations/8db9211381932429810384e664ae5ed85d6ddece0/expr.ipynb\"><img src=\"data:image/png;base64,iVBORw0KGgoAAAANSUhEUgAAARsAAAAVCAMAAABBjrrXAAAAP1BMVEX///9jY2MJCQkdHR0NDQ0W\n",
       "FhaYmJhERESIiIhUVFTc3NwiIiJ2dnbu7u66urqqqqpmZmYQEBAyMjLMzMwAAAAry7kzAAAAAXRS\n",
       "TlMAQObYZgAAAAlwSFlzAAAOxAAADsQBlSsOGwAAA6FJREFUWMOtWNe24yAMZBu9m///1gVigyjG\n",
       "xOf6IU4IM4hBQgKE7h8+/6m0Rl8/3PCNXq+of+6pRj4a6xX8Rc359lq9GPdg5BH2kvrnnmKkprDV\n",
       "Ozt0hL+MPN/h3nxFnLgfmLAHywo1t9aTozdHPOnGpbSkc7wp1QJ3GUkx7BFMB7FwGOXPL1IsXc3e\n",
       "/weRpBLboQNP/8rQDM+sDw/aZCbTTmNCtcYVI2HQ6GHoRgSLt7QZBL7Rpn7lbOjAcrQ71wXcYKDG\n",
       "XYc4uAoetk2pVrhiJLZzy2N/Iv79FWAYh3a00au13dbGZRYW+IM2hraDu+QerTZTqhWuGunUNBq0\n",
       "pwoxGKXGb2mz/efab/KbheM7bc49q3GKKdUKV430+GOepAeIBp5iTTX6WznOMMF4O4xnlLIurCSl\n",
       "+PhKm7NLQN9rowWerEpHtcJVGyTLPhU9joCRffJA3BD4MqT1xRU7WA5aFT+gA3MRpbJ566XuQRsL\n",
       "l+MI9GttDsrYJCf1VCtcNRJHa5TDnV1+LG7E5QzcnSqdMDEmYQeHFrK0cOCaM20K9adHn/F3Y2rM\n",
       "Bj3VCleNNFElG8ocThWdEOLP7/hRM63T50T8lQ4HWBE4gDYLJ6SYN7faAOoMJGihjRXpcS6/2pm7\n",
       "QUJAtYErRh5xgo7kaNCggkvR1sp/aoMOe1W3A+xSSsOVc3CKss5ejBVmpU4OPdaJj35z5LAgveOM\n",
       "VEtcMVK7OL3UE4eusOkSTompq3CcwM7qBrqKgpEOK2pS9iSwr9XCORfh/MscHnKHXpsJ1QpXjTQi\n",
       "mp/amEf1MEgp0l19S2iXTBrYRZdS5WcfKi2fLSQvhQR7sSYwJ/Z56shRSVXl2dHGsRIbtWel2sFB\n",
       "IzH5TNsIi4Aa3vTbvWT9BACs1KIsKkEsAi2fWJdDDo8FU9JWYXGMBRAXNj2irXJl4GttML7qlAqr\n",
       "VDu4xshUtihG5cEZPeCm+bs7EB+inwCECXHtY/I8W1wtSEqMz1VryxcuvfC+WdCrgwj58ZCHMRc8\n",
       "w8t8o6MKnzNjgQGqHRw0UtwcwvAvSeJODijL+k5LX6OeWx5OYjcdzOIQMsvFG7AVrtrAxdbNTXP0\n",
       "ms5QbrS800auTm/4ngq9w1Ub7E0nTia3L7wvHEEM0ueWruydXm05tMOzc3/4DgaMnEnwEc/M7q0Q\n",
       "6qvbMqmNljOBLe+YRuqXc3wtTTGS3N2KTi/ormMlt8y8uIqVG6h31D94X1yMpEma/6mMNmdkC2hk\n",
       "AAAAAElFTkSuQmCC\n",
       "\" style=\"display:inline;vertical-align:middle;\" /></a>"
      ],
      "text/plain": [
       "d not-in ({a, b, c} union {2, 1 + 3, 2 + 3})"
      ]
     },
     "metadata": {},
     "output_type": "display_data"
    }
   ],
   "source": [
    "union_nonmem_04.expr"
   ]
  },
  {
   "cell_type": "code",
   "execution_count": 53,
   "metadata": {},
   "outputs": [
    {
     "data": {
      "text/html": [
       "<span style=\"font-size:20px;\"> <a class=\"ProveItLink\" href=\"../__pv_it/demonstrations/6cbafc611214bedce410da6b13ac7c647e60273b0/proof.ipynb\" style=\"text-decoration: none\">&nbsp;&#x22A2;&nbsp;&nbsp;</a><a class=\"ProveItLink\" href=\"../__pv_it/demonstrations/fb67b8d86c8feb53c06be518c4d9741d59ce80a10/expr.ipynb\"><img src=\"data:image/png;base64,iVBORw0KGgoAAAANSUhEUgAAAqcAAAAVCAMAAABMprdhAAAAP1BMVEX///9jY2MJCQkdHR0NDQ0W\n",
       "FhbMzMxUVFRERES6uroiIiIQEBCYmJhmZmYyMjLu7u52dnaqqqqIiIjc3NwAAACGmE1UAAAAAXRS\n",
       "TlMAQObYZgAAAAlwSFlzAAAOxAAADsQBlSsOGwAABjNJREFUaN7NmuuWpCoMRp2ZM6IgyMX3f9Zj\n",
       "qUACQdBi1mp+NF0WSX1sbhEYhj254Sa5wud1noenyRnXUuyN634JiHQFBjVWj4B+CdI90NXy5c+F\n",
       "b82dpVrRR1/Yqnl9LmNkU93qnet+KYqcLc5rws0boF+CbND2RM/PhW90LKSEzOzQR1/YbMXarJPg\n",
       "ZR0Tqyn1rp2UahqzevAKRqe1nJIpgXZVtgsi7YLze+E6A0oQTYF+DbKq7UkDBzkksip8in4n+KuC\n",
       "Bls69CT60VBY87sRKsvfQcMp+pVZCff5Vm/455lU2z2qw5PB1aBc3dpFkX6yUfVJxrPBQDOiGGgP\n",
       "kIk2bWhdTQ3svRLIGuBT9HvBl3A4zpkQjDEUvsW7mbZ+Gv91LCvBjrhEiHQNyxTOC/5+//F1Q21D\n",
       "usJm2C6KXCTOb5Jng4DmRPnQ3k/bQGJtK1e0rqYG9l5p+jX4FP1e8EWZmp343/9QtUUL3vlu1DX3\n",
       "U3F4YZuroTIoQJvFZ+Tifkq6wmbYDogUK87LSaSMclA50C4gkTa7sJnU1dTA/nuafg0+Rb8TfKNK\n",
       "C82s7DowFFjEwnd4b6eI9vn0yNg2PuunV5SFxivpijALdkCkWnBejgJVyiglSgDtAxJp48M40W3W\n",
       "0MBxPiXpN8FP6HeCL3XoKtqOYKFxn6ggibVC4ejsY+bwrypmLUtWLG3tMj7qp1eRbXjeT2dOdarE\n",
       "FYEq2AEJmuG8vOzrlFFClALaByTU9nlpUo5qs5YGToZGSr+pn5L0v4bvu+ws9spNQMdR2SUBFxRI\n",
       "VTA74ox1/wNZOb7jkccwt6LWTyVAN272cT8dLWPE62XqKkMF7IDIReF818dBYuWJN0VDAe0DcgHE\n",
       "Pr9iJNFmTQ2M4Of0G/opTf97+PwcYKtYEpWKeJXkfjQ6sUAznm9tCKiE6/DEgRFN9lPv+iyRzWKN\n",
       "637+ApK6opee0w6INALnxeTZ+DwjSgHtAxJoO3eZ4PbRowZG8HP6reu+6Q9fnEG33AKGq8Jiny3+\n",
       "/N7/gGjnKuyYukL1zCyw2MAzCau3MmXK/TS6Pgyn4a6fnjObEMnMFoJ3pGpqMAt2UeS44bz8GjXj\n",
       "PEVDAe0EEmg7JyVrM10tDYzhE/Tb4Of0O8C/qiGmY6GZwSYzsRXn22CU16FBZuZZzHBMCVhhHVlw\n",
       "YrM5uP5M90RMWBvS49FQUzqkc1fJkMZ2UeQscN7cT1M0JNA+IKO2K9xceaarqYEhfIp+dT6l6feA\n",
       "fy4L6xE/LFuyr8YLa5s/NCDMrk0/OPJXGJzA85cphF4wTArnEcc5inu4L7Ud36ekCFcJKmQHRBqO\n",
       "82J8mqz7ORoKaB+QUZvvd9IkuhobGBwXUvSr/ZSk3wX+ZM9qfIowNcRrAPvaMaeb25PF74XIzHv/\n",
       "7ECc0VB4cgY9xyjRYF6aJ/jqmb5yjscaZdfopwWVYGEJiQWjqyIqYIdELhPOi8mzufKcKAW0D8io\n",
       "LWweqERXYwPHl22SfrWfUvT7wL9e/T+1MVwOQLgy2Ytb3AC56gPMwikE22FOcgBPzvBEZ/tSgzkC\n",
       "kXXhY47KcflJPDnf0OnGf1LnZfFbcdEsuiqjinZYZL7dVNrPTDawcqIE0D4gg7a4LMUD9UcNHM9N\n",
       "Sfo1+BT9TvBHfsWuVo+O2RHG6b/TqzMjT+oDzTj3YbC+jur8k0HrZbkGFN6gc1pxpfBYu0rw7UgK\n",
       "+hkYE5tiy+2RyA7lvNIQzICr8itntEMi+YzzYvJsfJ4TJYD2ARm0sTiJ2URXWwMHrxT9BvgE/V7w\n",
       "efEqy/JLT3sIBn8hFKaOSsxaf3J/xlIqYe4OLU3xYttLMyjBcZzfbUyNCaMWoD1AVrQ90tMmp4ni\n",
       "S7MS/PINC+KOUChM1Uc3PHnXT2/X3Ll4ovnSDEqgL5fQrV69skJduuoAsqLtkZ42OU0UdWf4U+G2\n",
       "t6PeHHxhm2/TrLb+JDnwIFPuem27ptzJDIr0DNzUYOXZPAL6Pciqtid6muT8W/ol+Guhnpq6VOYL\n",
       "u/zMIddFKF1FdWLKXb+s8etuGkXWuh7J5hHQ70FWtT3R0yTnn9Ivw3e0S/rihS/sJDOPNTjdYvTK\n",
       "db8ERFqH85qlfQP0S5AN2p7o+aHw/weLYoezhrSVzgAAAABJRU5ErkJggg==\n",
       "\" style=\"display:inline;vertical-align:middle;\" /></a></span>"
      ],
      "text/plain": [
       "|- (d not-in ({a, b, c} union {2, 1 + 3, 2 + 3})) = ((d not-in {a, b, c}) and (d not-in {2, 1 + 3, 2 + 3}))"
      ]
     },
     "metadata": {},
     "output_type": "display_data"
    }
   ],
   "source": [
    "# notice the definition is returned even for membership claims\n",
    "# with unknown verity\n",
    "union_nonmem_04.definition()"
   ]
  },
  {
   "cell_type": "markdown",
   "metadata": {},
   "source": [
    "###  `UnionNonmembership.conclude()`\n",
    "\n",
    "Called on self $= [x \\notin (A \\cup B \\;\\cup\\; ...)]$, and knowing or assuming $[[x \\notin A] \\land [x \\notin B] \\;\\land\\; ...]$, derive and return self."
   ]
  },
  {
   "cell_type": "code",
   "execution_count": 54,
   "metadata": {},
   "outputs": [
    {
     "data": {
      "text/html": [
       "<a class=\"ProveItLink\" href=\"../__pv_it/demonstrations/931fdc2ef06fe6c45ce0f6df15254d70d45522120/expr.ipynb\"><img src=\"data:image/png;base64,iVBORw0KGgoAAAANSUhEUgAAAMIAAAAVCAMAAAAjBMGUAAAAP1BMVEX///9jY2MJCQkdHR0NDQ0W\n",
       "FhaYmJhmZmYQEBDu7u6qqqpERESIiIgiIiJUVFS6uroyMjLc3NzMzMx2dnYAAABOkPcvAAAAAXRS\n",
       "TlMAQObYZgAAAAlwSFlzAAAOxAAADsQBlSsOGwAAAwhJREFUSMedV+m6JBEMNffO2KlY3v9ZB1VK\n",
       "LLV0+9FfS3HiECdByGVzF12xbeTz5qR7M+wFOEJ6ggSBe1rWP7CJLygQb9XzvBtwXxi6DmnT9WtI\n",
       "zc8ucU+G+idWH94M3hxjoAYcFwJTx8Yq+8SggSd41n/jEcAcLk8kTXcvkFxYM8IxfKICTrr7QGEZ\n",
       "xJ6CU/lz7AJBsLIwiafui+iH9OClmYGw4dEEMY7bQwXyaSg1Uug4MTp70QMFWyKT8y4w8upFhHmB\n",
       "jbldUtAjBdxt4ygbDu+cr8y/vwbQKZJnCrz0bcR3bOP5UL6g4Cm8okB4cqr4SGADLYjFQS3hBYU9\n",
       "Fm30c4TTjykE8pICJGwOPmgc+C7Hl4AujsILCsfa4rQjhpJPKWg3U6A61H1FSMHmU84euGy8ciRQ\n",
       "3ekrbWzgloKPejBoWx1r/kShgrvkb6SQhdQdYoGQKKS7VraN8XM9MCcFcxJ0nN5SMHYllft0F+U9\n",
       "hRM8HzqsJFiZEUnyRKFY6SmGnhtjfn/STxMpvlV3sJE7Ckyt5J4fI4UFeU2hgVN3RYEdYtGQfKxy\n",
       "QWPdXVHkXfZrOPmxlmIXFOjo1pcYUjUxtA0wixRawV2JxYGCgp2CH5A2Xs+mnUJBHxJdCySUYmcK\n",
       "JYU7LKqxjDkoYPlW5yh863bwzeYWuQ14Fw+9G7O4NLm734UWIJpsQ3JX+kaRTjRfXGqBTNyiQAro\n",
       "Om8K698qO+9TRVPZYtynISSaLSp9FUiRCEg7aHuwK+ne47LmXuIMy80gE6H0Ii+kVJM9Cmr8Wu9J\n",
       "VBg8FWBFicQ4btf7wFi3ZmF/hnrRm8mLtanusnlttfYysTRAprTbiVQt8zoKqQAEAzmJLikwFaPV\n",
       "GCkVkZZNNRIx6+Kc/gkqKRLKbm2vgplFU7wxLac+j3hAcubNS+Gspq68BPLG9CWFB6RWf85V85hT\n",
       "qoLoqaQSmrwwdYn98sXDP0Ry6mIv5OJBeCpIHL8unCz9Ck4f35RvwDGSunh6Lh9XTp/Xyspv3s7h\n",
       "zbQ34AhJZwb/Ae9eKqzavmv5AAAAAElFTkSuQmCC\n",
       "\" style=\"display:inline;vertical-align:middle;\" /></a>"
      ],
      "text/plain": [
       "6 not-in ({1, 2, 3} union {4, 5})"
      ]
     },
     "metadata": {},
     "output_type": "display_data"
    }
   ],
   "source": [
    "union_nonmem_01.expr"
   ]
  },
  {
   "cell_type": "code",
   "execution_count": 55,
   "metadata": {},
   "outputs": [
    {
     "data": {
      "text/html": [
       "<span style=\"font-size:20px;\"> <a class=\"ProveItLink\" href=\"../__pv_it/demonstrations/ff64c1f041dacf72b7aae00559a73f8daddea04c0/proof.ipynb\" style=\"text-decoration: none\">&nbsp;&#x22A2;&nbsp;&nbsp;</a><a class=\"ProveItLink\" href=\"../__pv_it/demonstrations/931fdc2ef06fe6c45ce0f6df15254d70d45522120/expr.ipynb\"><img src=\"data:image/png;base64,iVBORw0KGgoAAAANSUhEUgAAAMIAAAAVCAMAAAAjBMGUAAAAP1BMVEX///9jY2MJCQkdHR0NDQ0W\n",
       "FhaYmJhmZmYQEBDu7u6qqqpERESIiIgiIiJUVFS6uroyMjLc3NzMzMx2dnYAAABOkPcvAAAAAXRS\n",
       "TlMAQObYZgAAAAlwSFlzAAAOxAAADsQBlSsOGwAAAwhJREFUSMedV+m6JBEMNffO2KlY3v9ZB1VK\n",
       "LLV0+9FfS3HiECdByGVzF12xbeTz5qR7M+wFOEJ6ggSBe1rWP7CJLygQb9XzvBtwXxi6DmnT9WtI\n",
       "zc8ucU+G+idWH94M3hxjoAYcFwJTx8Yq+8SggSd41n/jEcAcLk8kTXcvkFxYM8IxfKICTrr7QGEZ\n",
       "xJ6CU/lz7AJBsLIwiafui+iH9OClmYGw4dEEMY7bQwXyaSg1Uug4MTp70QMFWyKT8y4w8upFhHmB\n",
       "jbldUtAjBdxt4ygbDu+cr8y/vwbQKZJnCrz0bcR3bOP5UL6g4Cm8okB4cqr4SGADLYjFQS3hBYU9\n",
       "Fm30c4TTjykE8pICJGwOPmgc+C7Hl4AujsILCsfa4rQjhpJPKWg3U6A61H1FSMHmU84euGy8ciRQ\n",
       "3ekrbWzgloKPejBoWx1r/kShgrvkb6SQhdQdYoGQKKS7VraN8XM9MCcFcxJ0nN5SMHYllft0F+U9\n",
       "hRM8HzqsJFiZEUnyRKFY6SmGnhtjfn/STxMpvlV3sJE7Ckyt5J4fI4UFeU2hgVN3RYEdYtGQfKxy\n",
       "QWPdXVHkXfZrOPmxlmIXFOjo1pcYUjUxtA0wixRawV2JxYGCgp2CH5A2Xs+mnUJBHxJdCySUYmcK\n",
       "JYU7LKqxjDkoYPlW5yh863bwzeYWuQ14Fw+9G7O4NLm734UWIJpsQ3JX+kaRTjRfXGqBTNyiQAro\n",
       "Om8K698qO+9TRVPZYtynISSaLSp9FUiRCEg7aHuwK+ne47LmXuIMy80gE6H0Ii+kVJM9Cmr8Wu9J\n",
       "VBg8FWBFicQ4btf7wFi3ZmF/hnrRm8mLtanusnlttfYysTRAprTbiVQt8zoKqQAEAzmJLikwFaPV\n",
       "GCkVkZZNNRIx6+Kc/gkqKRLKbm2vgplFU7wxLac+j3hAcubNS+Gspq68BPLG9CWFB6RWf85V85hT\n",
       "qoLoqaQSmrwwdYn98sXDP0Ry6mIv5OJBeCpIHL8unCz9Ck4f35RvwDGSunh6Lh9XTp/Xyspv3s7h\n",
       "zbQ34AhJZwb/Ae9eKqzavmv5AAAAAElFTkSuQmCC\n",
       "\" style=\"display:inline;vertical-align:middle;\" /></a></span>"
      ],
      "text/plain": [
       "|- 6 not-in ({1, 2, 3} union {4, 5})"
      ]
     },
     "metadata": {},
     "output_type": "display_data"
    }
   ],
   "source": [
    "# conclude() requires no extra assumptions for this one\n",
    "union_nonmem_01.conclude()"
   ]
  },
  {
   "cell_type": "code",
   "execution_count": 56,
   "metadata": {},
   "outputs": [
    {
     "data": {
      "text/html": [
       "<a class=\"ProveItLink\" href=\"../__pv_it/demonstrations/b8de18db867b31cdfd2223f7c4cd02d411bc21f70/expr.ipynb\"><img src=\"data:image/png;base64,iVBORw0KGgoAAAANSUhEUgAAAMAAAAAVCAMAAAAn8RGpAAAARVBMVEX///8/Pz9vb28YGBgJCQkd\n",
       "HR0NDQ0WFhaYmJhERESIiIhUVFTc3NwiIiJ2dnbu7u66urqqqqpmZmYQEBAyMjLMzMwAAAA2jWkX\n",
       "AAAAAXRSTlMAQObYZgAAAAlwSFlzAAAOxAAADsQBlSsOGwAAAtJJREFUSMedV9uC3CAIddttq3iN\n",
       "l/z/p9YkRtHgjLN5mQmBIyBwlLH5o+hX6xz7+FGbWtBagW5IbxGjxW+wld/o7OcBsCTFW7M16Irk\n",
       "AEtj8A9F/LaZ8rvP17Ai6PnCQr7xrIcmPBqRgGPpvg1qHm+njeWP0S83zc+/YUvRgD2pQHr0UMQ1\n",
       "4h6Z7eA8XwpguuZg2f4qOQvATfe6KnJPwzMQWv/7G5EksJUA3Iv6+jiA+UrtS7DU5rsIWS4TLs+4\n",
       "FMDyx5UA5uXYFCO/MAyktvnqrCwbuwoyD+PDSsHQAhJADlVkAHj6MIDBo6tZMpC3g6I5rF3IA1W0\n",
       "zY/nfOWdb7H2uy+BjVbnGnuO3e54Piud3fBnz0J4E8ANTWI7nbOQrjw2JJ5NbODYODtLkIC+s6HC\n",
       "FUqx0sQcDDh0bapEoZRSAdzQT49O40MGjvVIWw7F73Wha/4GnZ8/31oL1MPFUsYyW0crlMIdCT1O\n",
       "o5VxmwbQoElssQOAcSNSyqpBnJvvGhudxdUXYAmAJV9YcLRq6Xa4doPA3VBdRAFUuqzQJPbesWBF\n",
       "ciErHvvL96E+h3FSS6iw4NOqsgBO+qVGEK2ofYJ6rRAsiY2BENKms/qxqoysnpEg67phhAnoR0Vn\n",
       "Vf3a013At2i/yvrMl0FN7EQ38ropRGKXgrry2JC4uHzbtGfN5VxfHQnc4wqvgqzy7CnfZHZXeIZE\n",
       "1/wxjzGaieXwxXKdnuOdwj7GTT52qGGMHuPdSjBJSUio2cTvgVGTHtOErLS2t6EpR44qMoZzsARP\n",
       "KRN1jGAJfiKx4QB6EIaeHL9/feWzhMZzrGaKItvNrohen6JmCgQQIlO9dBPojk3UKmZN9KMAzCtF\n",
       "zyeXHkGcwUuPYz69Sw5WRAMzUfeZwJaAKhLlJyNIANFDz6f3woQvBEDg7y6LxGGc8r8iidmlkrw6\n",
       "3Qc35eX2gzuxWbBagm5IcPj/H+yQLOv5N7qGAAAAAElFTkSuQmCC\n",
       "\" style=\"display:inline;vertical-align:middle;\" /></a>"
      ],
      "text/plain": [
       "d not-in ({a, b, c} union {d, e})"
      ]
     },
     "metadata": {},
     "output_type": "display_data"
    }
   ],
   "source": [
    "# Recall the False UnionNonmembership object:\n",
    "union_nonmem_02.expr"
   ]
  },
  {
   "cell_type": "code",
   "execution_count": 57,
   "metadata": {},
   "outputs": [
    {
     "name": "stdout",
     "output_type": "stream",
     "text": [
      "d not-in {a, b, c} d not-in {b, a, c}\n",
      "ProofFailure (InstantiationFailure): Proof step failed:\n",
      "Attempting to instantiate |- forall_{m in NaturalPos} [forall_{x, A_{1}, A_{2}, ..., A_{m} | (x not-in A_{1}), (x not-in A_{2}), ..., (x not-in A_{m})} (x not-in (A_{1} union  A_{2} union  ... union  A_{m}))] with {m: 2, x: d, A: ({a, b, c}, {d, e})}:\n",
      "Unsatisfied condition: d not-in {a, b, c}. For debugging purposes, this is accessible via Instantiation.unsatisfied_condition with applicable assumptions in Instantiation.condition_assumptions.\n"
     ]
    }
   ],
   "source": [
    "# We should not be able to conclude() such a False UnionNonmembership object:\n",
    "try:\n",
    "    union_nonmem_02.conclude()\n",
    "    assert False, \"Expecting a ProofFailure (InstantiationFailure); should not get this far!\"\n",
    "except InstantiationFailure as the_error:\n",
    "    print(\"ProofFailure (InstantiationFailure): {}\".format(the_error))"
   ]
  },
  {
   "cell_type": "code",
   "execution_count": 58,
   "metadata": {},
   "outputs": [
    {
     "data": {
      "text/html": [
       "<a class=\"ProveItLink\" href=\"../__pv_it/demonstrations/55500581138be261ce2ef28caae17509ee027b550/expr.ipynb\"><img src=\"data:image/png;base64,iVBORw0KGgoAAAANSUhEUgAAANQAAAAVCAMAAAAJtDA7AAAARVBMVEX///8/Pz9vb28YGBgJCQkd\n",
       "HR0NDQ0WFhaYmJhERESIiIhUVFTc3NwiIiJ2dnbu7u66urqqqqpmZmYQEBAyMjLMzMwAAAA2jWkX\n",
       "AAAAAXRSTlMAQObYZgAAAAlwSFlzAAAOxAAADsQBlSsOGwAAAy9JREFUWMOtWOmapCAMZM/hBrne\n",
       "/1EXECFCbF2/8cd0dyRFCookDCHXj8R/GmvJi0du8sGoV+AA+naOYOAvvrXPYM0bUiQKduv4EnxA\n",
       "Ww7NwbtlJPy16faZjlmjmueXzgUWJ5vWjrXVZ+ImuAGO7CHz6tqzQ3MKzWmbxjkoBBPaF70jG+HC\n",
       "HIFk5X066ce4GusGffcozkPIMgBRjrt+NzyhvuyySKcJHF28+ewhqqC9P+mp8DEpLDGPr1I8JLUs\n",
       "O0qKOoLjcabU198ALJ7ck/LVIBI8rNaXjfsWUvaDNqGnN9je2sCzXcDDsYUHpER9JVJcjwr9BlJP\n",
       "Xwa6o2oex97KqkoTTurTD0i1aNOyxIqS/yVVYpL8fKQE52JSoOacxglai6qQrBc2IgxVPvSEGHpO\n",
       "ceEzqZj4ZODi2HTub0h18DkmUg+myX+gtqXKHB2boGkGMZ6eYiUBKVLqWCHp6WdSSmCZeneX4Khj\n",
       "pDp4i0mt6d7DJVO6WwD0lvm51N/vK+tVfv78VoqBHGDb/MGSj6QcwyTp21AjwnZJCoDPMY1dTMDm\n",
       "YAADOmZnz+re2lHkqjDP4m2kSHSjK8BI0XmfYlUeOwrVWBO1FvkBPsfUKVqY1j1cwAFtfXYt20fT\n",
       "pPYp03T5ga4AIVXbDglln+qgRgo2DKyPAqe3ga8xHVUKbo6BpxdAbyq/KoNFIL0p5HmsnYo349fZ\n",
       "b0wTqzZKPeg2L4D8NEgUlp2S7bldgTEdb0ul2M9at+wn0E7QlO3xbsqRQSOLU0y1RouVlN4z0dEu\n",
       "lGTkyqOgjdKLOpVLX4ncUBXXagNi6lAiYzAHJ9zPr55Teik/RnAdpeARnDn2a1JWVPO8QvgUykRE\n",
       "HY2tSvUJ0Jb33PWG9lw+pQ4q1Dq/kIIxHVBG6NardXCtKW3+AFpdXF5+/sh9koLlt68nUtc3JAti\n",
       "tpvW7mrACoWAg7KtHt2kTm0iMq/GwiPfRko/AR+ejl7cJJFic2Qr7peLDkcuPxzDdeHujuifQGHg\n",
       "HVqyqwXbsDsaWbqCFgkWHXrN8/TuXo7cLvgT8AHNri706AX1aC+lE9ur/1HoB37vwAE0L5z+AdHy\n",
       "MmQ19hCQAAAAAElFTkSuQmCC\n",
       "\" style=\"display:inline;vertical-align:middle;\" /></a>"
      ],
      "text/plain": [
       "d not-in ({1, 2, 3} union {a, b, c})"
      ]
     },
     "metadata": {},
     "output_type": "display_data"
    }
   ],
   "source": [
    "# Recall this UnionNonmembership object of unknown verity (where 'd' is an unassigned variable):\n",
    "union_nonmem_03.expr"
   ]
  },
  {
   "cell_type": "code",
   "execution_count": 59,
   "metadata": {},
   "outputs": [
    {
     "name": "stdout",
     "output_type": "stream",
     "text": [
      "d not-in {1, 2, 3} d not-in {1, 3, 2}\n",
      "ProofFailure (InstantiationFailure): Proof step failed:\n",
      "Attempting to instantiate |- forall_{m in NaturalPos} [forall_{x, A_{1}, A_{2}, ..., A_{m} | (x not-in A_{1}), (x not-in A_{2}), ..., (x not-in A_{m})} (x not-in (A_{1} union  A_{2} union  ... union  A_{m}))] with {m: 2, x: d, A: ({1, 2, 3}, {a, b, c})}:\n",
      "Unsatisfied condition: d not-in {1, 2, 3}. For debugging purposes, this is accessible via Instantiation.unsatisfied_condition with applicable assumptions in Instantiation.condition_assumptions.\n"
     ]
    }
   ],
   "source": [
    "# We should not be able to conclude() such a UnionNonmembership object:\n",
    "try:\n",
    "    union_nonmem_03.conclude()\n",
    "    assert False, \"Expecting a ProofFailure (InstantiationFailure); should not get this far!\"\n",
    "except InstantiationFailure as the_error:\n",
    "    print(\"ProofFailure (InstantiationFailure): {}\".format(the_error))"
   ]
  },
  {
   "cell_type": "code",
   "execution_count": 60,
   "metadata": {},
   "outputs": [
    {
     "data": {
      "text/html": [
       "<span style=\"font-size:20px;\"><a class=\"ProveItLink\" href=\"../__pv_it/demonstrations/0c0fe7fee822f1364b325f0c525a4ae7cb83e6610/expr.ipynb\"><img src=\"data:image/png;base64,iVBORw0KGgoAAAANSUhEUgAAADEAAAAOBAMAAAB0nulXAAAAMFBMVEX///+YmJhERESIiIhUVFTc\n",
       "3NwiIiJ2dnbu7u66urqqqqpmZmYQEBAyMjLMzMwAAAA7oY0NAAAAAXRSTlMAQObYZgAAAAlwSFlz\n",
       "AAAOxAAADsQBlSsOGwAAAJlJREFUGNNjYGBg4LuzgQEN8EFF+Begy7A5QOj5DegyZlCZMgzDZKEy\n",
       "t9Fl2HlBMqzudr/QZUzBMnMCmH6AeNvSQCAFxGQVAMlwHGTgvoBuGANIhvsDA1sBmowoWIZHgaF/\n",
       "AqoEqwFYpt+AQZ4B1R5OFxf/IwUM/QsYfLkC0B3HA9TDZMCVzY0uwcCvAHSbc12IHboEt/4XAwCW\n",
       "qR+3glMuHgAAAABJRU5ErkJggg==\n",
       "\" style=\"display:inline;vertical-align:middle;\" /></a>, <a class=\"ProveItLink\" href=\"../__pv_it/demonstrations/0c05541de7778eaa1383c4b647710212717b68ce0/expr.ipynb\"><img src=\"data:image/png;base64,iVBORw0KGgoAAAANSUhEUgAAAGYAAAAVCAMAAACDt2s/AAAAP1BMVEX///9jY2MJCQkdHR0NDQ0W\n",
       "FhaYmJhERESIiIhUVFTc3NwiIiJ2dnbu7u66urqqqqpmZmYQEBAyMjLMzMwAAAAry7kzAAAAAXRS\n",
       "TlMAQObYZgAAAAlwSFlzAAAOxAAADsQBlSsOGwAAAaBJREFUSMeVVlmyhCAM5G0SCGG//1kfiktA\n",
       "UYePqSI0aRo6cYQYDt3NyVrx6dBOP0EiNVOIlj6mEUlJvivF4HtAM3V5SEIy4JhItnmya5d9e0UG\n",
       "74T78Vq70fanRfGepj/ieGMzA4l/vxjf0thMb2mYbhuBhErv1dwq3Re1MpAO3Xq2GMU7tIb2aRSA\n",
       "6u7NAEyJb7SheFseuuNs9Qk6Gh+v0bPTcjkYZV4hGgurl8sDhAoKE8sy01wUjdALakfj2euBHwzN\n",
       "HtH1nnze47VeAiL+fJcfeZCouNq7Rx9CM4t5rpZULERBLrrtUWzzhXY3nfxazD16J7Xc1EHyV5qP\n",
       "SHmWNuW2YHBQzGf0VjVcQEU1V0oLSEWxNzkAYf3Alw16y5vT9mZ7pD7kotlUC8jC7NCLI3N0fdEc\n",
       "vmToYrC6pEpS6QWLVI8ZbmhSYJJWkNibfZ+b8QUakdaY8fX4W0QYM01AD7U7fRlZnPbYbBw9R25o\n",
       "Ir1rKOZFZEyj5UVwLebmOwPPkabwO/6rtq7Pzf6c84KF1vZxHupao1fu8/8Cpm76B0FQFVjKa2+C\n",
       "AAAAAElFTkSuQmCC\n",
       "\" style=\"display:inline;vertical-align:middle;\" /></a> <a class=\"ProveItLink\" href=\"../__pv_it/demonstrations/b127b5919c9508b4b26d9830aef8d83a19797b3a0/proof.ipynb\" style=\"text-decoration: none\">&nbsp;&#x22A2;&nbsp;&nbsp;</a><a class=\"ProveItLink\" href=\"../__pv_it/demonstrations/55500581138be261ce2ef28caae17509ee027b550/expr.ipynb\"><img src=\"data:image/png;base64,iVBORw0KGgoAAAANSUhEUgAAANQAAAAVCAMAAAAJtDA7AAAARVBMVEX///8/Pz9vb28YGBgJCQkd\n",
       "HR0NDQ0WFhaYmJhERESIiIhUVFTc3NwiIiJ2dnbu7u66urqqqqpmZmYQEBAyMjLMzMwAAAA2jWkX\n",
       "AAAAAXRSTlMAQObYZgAAAAlwSFlzAAAOxAAADsQBlSsOGwAAAy9JREFUWMOtWOmapCAMZM/hBrne\n",
       "/1EXECFCbF2/8cd0dyRFCookDCHXj8R/GmvJi0du8sGoV+AA+naOYOAvvrXPYM0bUiQKduv4EnxA\n",
       "Ww7NwbtlJPy16faZjlmjmueXzgUWJ5vWjrXVZ+ImuAGO7CHz6tqzQ3MKzWmbxjkoBBPaF70jG+HC\n",
       "HIFk5X066ce4GusGffcozkPIMgBRjrt+NzyhvuyySKcJHF28+ewhqqC9P+mp8DEpLDGPr1I8JLUs\n",
       "O0qKOoLjcabU198ALJ7ck/LVIBI8rNaXjfsWUvaDNqGnN9je2sCzXcDDsYUHpER9JVJcjwr9BlJP\n",
       "Xwa6o2oex97KqkoTTurTD0i1aNOyxIqS/yVVYpL8fKQE52JSoOacxglai6qQrBc2IgxVPvSEGHpO\n",
       "ceEzqZj4ZODi2HTub0h18DkmUg+myX+gtqXKHB2boGkGMZ6eYiUBKVLqWCHp6WdSSmCZeneX4Khj\n",
       "pDp4i0mt6d7DJVO6WwD0lvm51N/vK+tVfv78VoqBHGDb/MGSj6QcwyTp21AjwnZJCoDPMY1dTMDm\n",
       "YAADOmZnz+re2lHkqjDP4m2kSHSjK8BI0XmfYlUeOwrVWBO1FvkBPsfUKVqY1j1cwAFtfXYt20fT\n",
       "pPYp03T5ga4AIVXbDglln+qgRgo2DKyPAqe3ga8xHVUKbo6BpxdAbyq/KoNFIL0p5HmsnYo349fZ\n",
       "b0wTqzZKPeg2L4D8NEgUlp2S7bldgTEdb0ul2M9at+wn0E7QlO3xbsqRQSOLU0y1RouVlN4z0dEu\n",
       "lGTkyqOgjdKLOpVLX4ncUBXXagNi6lAiYzAHJ9zPr55Teik/RnAdpeARnDn2a1JWVPO8QvgUykRE\n",
       "HY2tSvUJ0Jb33PWG9lw+pQ4q1Dq/kIIxHVBG6NardXCtKW3+AFpdXF5+/sh9koLlt68nUtc3JAti\n",
       "tpvW7mrACoWAg7KtHt2kTm0iMq/GwiPfRko/AR+ejl7cJJFic2Qr7peLDkcuPxzDdeHujuifQGHg\n",
       "HVqyqwXbsDsaWbqCFgkWHXrN8/TuXo7cLvgT8AHNri706AX1aC+lE9ur/1HoB37vwAE0L5z+AdHy\n",
       "MmQ19hCQAAAAAElFTkSuQmCC\n",
       "\" style=\"display:inline;vertical-align:middle;\" /></a></span>"
      ],
      "text/plain": [
       "{d = 4, d not-in {a, b, c}} |- d not-in ({1, 2, 3} union {a, b, c})"
      ]
     },
     "metadata": {},
     "output_type": "display_data"
    }
   ],
   "source": [
    "# But if we supply some extra information about 'd', we can conclude:\n",
    "union_nonmem_03.conclude(assumptions=[Equals(d, four), NotInSet(d, Set(a, b, c))],\n",
    "                         simplify_with_known_evaluations=True)"
   ]
  },
  {
   "cell_type": "code",
   "execution_count": 61,
   "metadata": {},
   "outputs": [
    {
     "data": {
      "text/html": [
       "<a class=\"ProveItLink\" href=\"../__pv_it/demonstrations/9ec25543727863122a0b9acfa7f8261faf42bfc70/expr.ipynb\"><img src=\"data:image/png;base64,iVBORw0KGgoAAAANSUhEUgAAAL4AAAAVCAMAAADPcaSCAAAARVBMVEX///8/Pz9vb28YGBgJCQkd\n",
       "HR0NDQ0WFhbMzMwyMjKqqqoiIiJmZmaYmJju7u5EREQQEBC6urqIiIh2dnZUVFTc3NwAAAAnAzaG\n",
       "AAAAAXRSTlMAQObYZgAAAAlwSFlzAAAOxAAADsQBlSsOGwAAArtJREFUSMetl9m2pCAMRe2ZeUiA\n",
       "///URkUJiFC9+vpSJcLOAUIStu39ieNX4/02f6KI2/pZc6bkpQlu6BuI8su9WY1kwS77fMKZkT2s\n",
       "etI3geU3HcONdXI22IaFjg85RA53qiGDnvZXdG8NL3/wssbVbDBWUbZC1KDDnEOfJFoyn+5esypK\n",
       "92aT+FB+/RfDoMOcQx5/7lcl67eJg5Xyz29OWlxvtsD+W/6C80QSshsO9Rxye2DUU3lvFuX2JfJR\n",
       "fuo7xcvIAK5PKkKs5zgePmV44zvYm+UBIHT7bhBAmX+TP+JkjGZNvMwKWfEyQsad510OobbuIT8i\n",
       "qm7iEr9PuTqnZVKepElN8PUy22TnRMEt5L9zosw6laVgqpCQdWYYt0tTZEsGx1pe6xOdJnHP0TnG\n",
       "tH8CX17EVP6EI7FrKQr51pNFnolK95gzvjqZn18/pSQL4IqowD1dvIQ01CcAwCvamsDFq/wZRz3O\n",
       "cqewkln+4Oyxh3eQN4dqbN2xyN+YKknvgPkm6KUmU+ElkMiviXDCcbY/s53CSvYuN+/bpFMX77t4\n",
       "cDvPlfQOg+1CJXgm1WPE7dj0PL1xTOqLgU4hIQuZP+6AwLe7GILc23cZwUIXMRK7fNI0PpuZZ7d6\n",
       "wLxtQtqKk85D4e+WTiEha3sqE1JtVXB2rSboXyGKmg3ZiFVn6CBxINcF8RHOxeGrRkv2TAxPzhlz\n",
       "kNWWViEh7+HcBEAWA1S2CfZHd3yY7MyagKWOkPLqC6hv92iyUUQu+ZELH/IHHNwxhrS0CmlGeam4\n",
       "v3/LVYOkieteuWeWFGaedZdp+ZWzIEf5UaXflEdPs7h9jfwnZ0FWLxVztIMCvpxskvSKqw2vDYqv\n",
       "bitrzoI8UrkNgj5JB03SKzqGF0GnV9e+NWdBtm/XxeFN6SrqogqrCj1iWBfxH3CmZNjV/wULlC2a\n",
       "ndQAVAAAAABJRU5ErkJggg==\n",
       "\" style=\"display:inline;vertical-align:middle;\" /></a>"
      ],
      "text/plain": [
       "a not-in ({b, e} union {b, c, d})"
      ]
     },
     "metadata": {},
     "output_type": "display_data"
    }
   ],
   "source": [
    "# Consider a more general UnionNonmembership object\n",
    "Union(Set(b, e), Set(b, c, d)).nonmembership_object(a).expr"
   ]
  },
  {
   "cell_type": "code",
   "execution_count": 64,
   "metadata": {},
   "outputs": [
    {
     "data": {
      "text/html": [
       "<span style=\"font-size:20px;\"><a class=\"ProveItLink\" href=\"../__pv_it/demonstrations/9b999223cf9976068bfbb3aab8a268b1d49f71680/expr.ipynb\"><img src=\"data:image/png;base64,iVBORw0KGgoAAAANSUhEUgAAAC8AAAAOBAMAAABN+VgMAAAAMFBMVEX///8yMjJUVFS6urru7u4Q\n",
       "EBBERERmZmaqqqoiIiLc3NzMzMyYmJiIiIh2dnYAAACZiqmYAAAAAXRSTlMAQObYZgAAAAlwSFlz\n",
       "AAAOxAAADsQBlSsOGwAAAJZJREFUGNNjYMAC3l1fgE2YgbGBZRZWiZMMDM+wSiQxMPQ7YJP4zsCw\n",
       "vwFIv72zAUWcBSRxgIFhZQN7ApBbORMEJgFZXP+AEhcYGOYxsF5A0QGWeMDA/gXdChaghP0FBtYE\n",
       "bJb3NzD4Q81B2MGQxsBw3oGBH2i/AaqOowwMhQwMQCfxoTqXgbOBJRoUYmeuoNted2kDAwDyKC6+\n",
       "lRtl5wAAAABJRU5ErkJggg==\n",
       "\" style=\"display:inline;vertical-align:middle;\" /></a> <a class=\"ProveItLink\" href=\"../__pv_it/demonstrations/d92a9893f66fbad6626b01cacca143fba19ca2f60/proof.ipynb\" style=\"text-decoration: none\">&nbsp;&#x22A2;&nbsp;&nbsp;</a><a class=\"ProveItLink\" href=\"../__pv_it/demonstrations/63a01483035c6cf50682bd4138c27cc77daf39e10/expr.ipynb\"><img src=\"data:image/png;base64,iVBORw0KGgoAAAANSUhEUgAAASwAAAAVCAMAAADLoSOWAAAAP1BMVEX///8AAAAAAAAAAAAAAAAA\n",
       "AAAAAAAAAAAAAAAAAAAAAAAAAAAAAAAAAAAAAAAAAAAAAAAAAAAAAAAAAAAAAADFBd4eAAAAFHRS\n",
       "TlMAiXZmMiLdVJm77xBEzavp8+P3ncFx5oAAAAAJcEhZcwAADsQAAA7EAZUrDhsAAAMKSURBVFjD\n",
       "zVjZlqQgDGWRfemZHv7/W0dshCCINmWdbh+qNCfJvV4JBBA6u1j/0ViLfu5igt1xe4gkQLuAdQY+\n",
       "EZH+nTU/KBZavLrGf4xkQbNk7AefBE7/IbNYeEOoY0LXPkxKp5bbYcpfQRSSk4Qwlsoe0Agd5JBw\n",
       "IBuXbjBPBi9dqEE6prY8Oj5MxbzB3g3bKXy9S/GR+TZ5zBLaMokgDmhukIpXytGWKWmJtCZLL338\n",
       "Nh1oPY4jfbHKPfNHsWYJkaiTCe6Qi8qTmlf84w93xaDRpFiCXProzeADG8Y9JdYNQlbHUd6IhXRv\n",
       "aFlHDPJwEhHujWL5LaUPy28RK8179IjmkoUQmrmyWJzGVVWI3yhWeuuAfpNYltMGDUcExtcalXmq\n",
       "dLEeaJXT5UKX7j1iLYHcFYvoK7EKyUlCC/F7ZQE0GtPyOG50TuLaqZ+LnZGm7xGLe3RXLBbEWCxA\n",
       "8pUyFEc0seoma+dFc87/fq4/ZVnWNvFxFt0VS/J4ab39+QtuZVyfxYEw4504F6siOU1oX3cg2rLO\n",
       "FFrVXcbW9og6MMEvErTPD44s2vSZg5GFMFCDt000JDlFaNkqUO2NVkazem0oSNtg8YMpa6f8G8Ta\n",
       "tgfsbusgYAKVo8AsW0hOEQqbIYkF0MSqSloj89ciBNlD/6XIYDU0c2IVz2Vba4m5uxrCCd4quIa/\n",
       "tBpmT+1BGQI0qvb5Apc2xwl/2Klh3xELf7WRe6sLTENuTRjjMl58HFdSV63D2gLGAWAoB5SLxxQh\n",
       "Svt91tZAYUwp/K7Gfx427QtveHivg/MxId83osV0zq0TxsN2uVEcTF2Lte56HXeuGpe7xyShtbBk\n",
       "3kgDNN7dvtJ/WK0rBqCfv9uB6Rf+YIcpzk82RmGjuB6F+x7fJVRyMX7jJKvaRPZ44AFve36wMQob\n",
       "xr0k1ncJlVyyG8lUa9tXHaLbUw4yda42GVZtIs7O/vRzhDJaT5W2ySrd17F9TtTm3nlWK6Pp5Wlw\n",
       "EE8RKmiqf7DcPYlkZD/W9AL93MXwHfinSAI0ErX6D6TaI1CDuW6nAAAAAElFTkSuQmCC\n",
       "\" style=\"display:inline;vertical-align:middle;\" /></a></span>"
      ],
      "text/plain": [
       "{c = 0} |- c not-in ({1, 1 + 1, 2 + 1} union {1 + 1, 3})"
      ]
     },
     "metadata": {},
     "output_type": "display_data"
    }
   ],
   "source": [
    "Union(Set(one, Add(one, one), Add(two, one)), Set(Add(one, one), three)).nonmembership_object(c).conclude(\n",
    "        assumptions=[Equals(c, zero)],\n",
    "        simplify_with_known_evaluations=True)"
   ]
  },
  {
   "cell_type": "code",
   "execution_count": 65,
   "metadata": {},
   "outputs": [
    {
     "data": {
      "text/html": [
       "<a class=\"ProveItLink\" href=\"../__pv_it/demonstrations/dd1253a01185fd2ac7ab3cc24f2590d1d2dc9e980/expr.ipynb\"><img src=\"data:image/png;base64,iVBORw0KGgoAAAANSUhEUgAAAHcAAAAZCAMAAAA8GUGSAAAARVBMVEX///8/Pz9vb28YGBgJCQkd\n",
       "HR0NDQ0WFhZERES6uroQEBAyMjLc3NyYmJgiIiJmZmaqqqp2dnbMzMxUVFSIiIju7u4AAAAQwmFf\n",
       "AAAAAXRSTlMAQObYZgAAAAlwSFlzAAAOxAAADsQBlSsOGwAAAi9JREFUSMetVgly3SAMVdq0Zd/l\n",
       "+x+1Am+Awf8nMcMw9oD0tDwJAL4wNIdvD3v5eHs4+31YYPuHYi/PquYPJTyBCzq9OiuxkdTZZykW\n",
       "IZkxTOiZGJqFsSLr6TDvccHgPWyIjfMir4nFkC0qc+6cA16Ecbn6Cym+oEJDI+vLWnKcNHh31Yg7\n",
       "AaJR4Es8srGW0RB5WUOEy73DpvlbihUx5xxZntdjanckOtqWqt6s2SSnKUqUwX9/61CG1ciy2AAl\n",
       "2nNcReRRcoZrJ5TmMpH+SnW2xNR5DxbucbN08hPcVKiCKUUM/kyYKlzsyiaevwzzfIGbgRgf4/IS\n",
       "O5sZlsAeR0pi+jJjh6Dz7d4El0KCBs2oTYWFQqnpjCYD4pFsOShekLHalvAaF7QDx8SwH2WO5iza\n",
       "hkHC0PjzSb2h1r4bnBx4flDsBhciOTPExWWrUFHHbS2RM92tv7S7ddioetzQ4mIENGN/w5ZnOofY\n",
       "BK4X2HGJp5vWvRUxdem8m0khwbBiAuEhka5Ew580J3He3z1x1UBs2bbibhlnTR0UU7YSTGGIm/ns\n",
       "loCWcHkVV+m64j1qLhdQ0a6YOwkusyxqEyoFG4uHXVyL3FPJPWd1nU6M7DcObKRVMJk7Ld0z7AyQ\n",
       "8tLI0mvWmEjavbs77fRi+PVBjdI0QuIHj42eK/q9m7e6j54Y8/to9BYJ4ilcPQ1zX7zb5fYQrlGz\n",
       "naFBP3tfwRfeV/178pEMv/GefPL9fPKzkOo/+tkc3Ft3fokAAAAASUVORK5CYII=\n",
       "\" style=\"display:inline;vertical-align:middle;\" /></a>"
      ],
      "text/plain": [
       "x not-in (Integer union NaturalPos)"
      ]
     },
     "metadata": {},
     "output_type": "display_data"
    }
   ],
   "source": [
    "# a UnionNonmembership object involving general sets\n",
    "Union(Integer, NaturalPos).nonmembership_object(x).expr"
   ]
  },
  {
   "cell_type": "code",
   "execution_count": 66,
   "metadata": {},
   "outputs": [
    {
     "data": {
      "text/html": [
       "<span style=\"font-size:20px;\"><a class=\"ProveItLink\" href=\"../__pv_it/demonstrations/5adcfee84daeb7e42da0c655d062d49845a5fb4c0/expr.ipynb\"><img src=\"data:image/png;base64,iVBORw0KGgoAAAANSUhEUgAAADMAAAAVCAMAAADciiYzAAAAP1BMVEX///8AAAAAAAAAAAAAAAAA\n",
       "AAAAAAAAAAAAAAAAAAAAAAAAAAAAAAAAAAAAAAAAAAAAAAAAAAAAAAAAAAAAAADFBd4eAAAAFHRS\n",
       "TlMAEHarMolUmd1mIs3vRLvp8+P3nXqVZZ4AAAAJcEhZcwAADsQAAA7EAZUrDhsAAAEKSURBVDjL\n",
       "nZOLcsQgCEXFF/hi263//61F22hMd223jJMwRMjhokptLKrXLcHh+ZRrTkzEOWxTrBmuZmNbkb52\n",
       "hmW62DODcn6fQ9M1rTXgtp6bZrq90QDpjaFVnfCxlaThx3dpz+JRQ2sD1p1IYxMMrt0ytPXdn5AY\n",
       "rXDip0Yf9Jri3QwF2RCqoEzh0zqcERx/btS4cNhMRO93eZxU0l65MuQQywtHF/QyCIlFnrKLTFXe\n",
       "AMtgaCUTEb82Q20FijK5FT5xaFVw1RmPiJFivlpAySlnluQvwxGRuyaRvRACSlWPYcEHcy9n2Urm\n",
       "lJlZDje7ZwchfDg5+JT+d3P+bJFfv6C/3ZJHZrZfPwHUfwbbuwnJNgAAAABJRU5ErkJggg==\n",
       "\" style=\"display:inline;vertical-align:middle;\" /></a> <a class=\"ProveItLink\" href=\"../__pv_it/demonstrations/e0d0213d636b432d27a4afa0c7dc5df1845098eb0/proof.ipynb\" style=\"text-decoration: none\">&nbsp;&#x22A2;&nbsp;&nbsp;</a><a class=\"ProveItLink\" href=\"../__pv_it/demonstrations/dd1253a01185fd2ac7ab3cc24f2590d1d2dc9e980/expr.ipynb\"><img src=\"data:image/png;base64,iVBORw0KGgoAAAANSUhEUgAAAHcAAAAZCAMAAAA8GUGSAAAARVBMVEX///8/Pz9vb28YGBgJCQkd\n",
       "HR0NDQ0WFhZERES6uroQEBAyMjLc3NyYmJgiIiJmZmaqqqp2dnbMzMxUVFSIiIju7u4AAAAQwmFf\n",
       "AAAAAXRSTlMAQObYZgAAAAlwSFlzAAAOxAAADsQBlSsOGwAAAi9JREFUSMetVgly3SAMVdq0Zd/l\n",
       "+x+1Am+Awf8nMcMw9oD0tDwJAL4wNIdvD3v5eHs4+31YYPuHYi/PquYPJTyBCzq9OiuxkdTZZykW\n",
       "IZkxTOiZGJqFsSLr6TDvccHgPWyIjfMir4nFkC0qc+6cA16Ecbn6Cym+oEJDI+vLWnKcNHh31Yg7\n",
       "AaJR4Es8srGW0RB5WUOEy73DpvlbihUx5xxZntdjanckOtqWqt6s2SSnKUqUwX9/61CG1ciy2AAl\n",
       "2nNcReRRcoZrJ5TmMpH+SnW2xNR5DxbucbN08hPcVKiCKUUM/kyYKlzsyiaevwzzfIGbgRgf4/IS\n",
       "O5sZlsAeR0pi+jJjh6Dz7d4El0KCBs2oTYWFQqnpjCYD4pFsOShekLHalvAaF7QDx8SwH2WO5iza\n",
       "hkHC0PjzSb2h1r4bnBx4flDsBhciOTPExWWrUFHHbS2RM92tv7S7ddioetzQ4mIENGN/w5ZnOofY\n",
       "BK4X2HGJp5vWvRUxdem8m0khwbBiAuEhka5Ew580J3He3z1x1UBs2bbibhlnTR0UU7YSTGGIm/ns\n",
       "loCWcHkVV+m64j1qLhdQ0a6YOwkusyxqEyoFG4uHXVyL3FPJPWd1nU6M7DcObKRVMJk7Ld0z7AyQ\n",
       "8tLI0mvWmEjavbs77fRi+PVBjdI0QuIHj42eK/q9m7e6j54Y8/to9BYJ4ilcPQ1zX7zb5fYQrlGz\n",
       "naFBP3tfwRfeV/178pEMv/GefPL9fPKzkOo/+tkc3Ft3fokAAAAASUVORK5CYII=\n",
       "\" style=\"display:inline;vertical-align:middle;\" /></a></span>"
      ],
      "text/plain": [
       "{x not-in Integer} |- x not-in (Integer union NaturalPos)"
      ]
     },
     "metadata": {},
     "output_type": "display_data"
    }
   ],
   "source": [
    "# a conclude() on that general set UnionNonmembership\n",
    "Union(Integer, NaturalPos).nonmembership_object(x).conclude(\n",
    "        assumptions=[NotInSet(x, Integer)])"
   ]
  },
  {
   "cell_type": "code",
   "execution_count": 67,
   "metadata": {},
   "outputs": [],
   "source": [
    "%end demonstrations"
   ]
  },
  {
   "cell_type": "code",
   "execution_count": null,
   "metadata": {},
   "outputs": [],
   "source": []
  }
 ],
 "metadata": {
  "kernelspec": {
   "display_name": "Python 3",
   "language": "python",
   "name": "python3"
  },
  "language_info": {
   "codemirror_mode": {
    "name": "ipython",
    "version": 3
   },
   "file_extension": ".py",
   "mimetype": "text/x-python",
   "name": "python",
   "nbconvert_exporter": "python",
   "pygments_lexer": "ipython3",
   "version": "3.7.3"
  }
 },
 "nbformat": 4,
 "nbformat_minor": 1
}
