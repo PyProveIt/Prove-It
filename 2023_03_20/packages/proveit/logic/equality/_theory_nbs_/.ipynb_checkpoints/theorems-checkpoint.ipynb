{
 "cells": [
  {
   "cell_type": "markdown",
   "metadata": {},
   "source": [
    "Theorems (or conjectures) for the theory of <a class=\"ProveItLink\" href=\"theory.ipynb\">proveit.logic.equality</a>\n",
    "========"
   ]
  },
  {
   "cell_type": "code",
   "execution_count": 1,
   "metadata": {},
   "outputs": [
    {
     "name": "stdout",
     "output_type": "stream",
     "text": [
      "Defining theorems for theory 'proveit.logic.equality'\n",
      "Subsequent end-of-cell assignments will define theorems\n",
      "'%end theorems' will finalize the definitions\n"
     ]
    }
   ],
   "source": [
    "import proveit\n",
    "# Prepare this notebook for defining the theorems of a theory:\n",
    "%theorems_notebook # Keep this at the top following 'import proveit'.\n",
    "from proveit import ExprRange, IndexedVar\n",
    "from proveit.logic import Equals, NotEquals, Implies, Not, And, Forall, FALSE, in_bool\n",
    "from proveit import A, a, b, c, d, i, n, x, y, z, f, P, fa, fab, fx, fxy, Px, Py, Q\n",
    "from proveit.core_expr_types import (x_1_to_n, x_1_to_np1, x_i, y_1_to_n, x_eq_y__1_to_n,\n",
    "                                     f__x_1_to_n, f__y_1_to_n, P__x_1_to_n, P__y_1_to_n)\n",
    "from proveit.logic import PofTrue, PofFalse\n",
    "from proveit.logic.equality import elementwise_equality\n",
    "from proveit.numbers import one, Natural, NaturalPos, Add\n",
    "%begin theorems"
   ]
  },
  {
   "cell_type": "markdown",
   "metadata": {},
   "source": [
    "### Extending transitivity"
   ]
  },
  {
   "cell_type": "code",
   "execution_count": 2,
   "metadata": {},
   "outputs": [
    {
     "data": {
      "text/html": [
       "<strong id=\"four_chain_transitivity\"><a class=\"ProveItLink\" href=\"proofs/four_chain_transitivity/thm_proof.ipynb\">four_chain_transitivity</a> (conjecture without proof):<br></strong> <a class=\"ProveItLink\" href=\"../__pv_it/theorems/92f9f93cd709961101b18d341704357933d29b960/theorem_expr.ipynb\"><img src=\"data:image/png;base64,iVBORw0KGgoAAAANSUhEUgAAAPgAAAAXBAMAAADU7Z9vAAAAMFBMVEX///8AAAAAAAAAAAAAAAAA\n",
       "AAAAAAAAAAAAAAAAAAAAAAAAAAAAAAAAAAAAAAAAAAAv3aB7AAAAD3RSTlMAq1RmmUTNIjK7EInv\n",
       "3XZ/CtNrAAAACXBIWXMAAA7EAAAOxAGVKw4bAAAC3klEQVRIx7VWTWgTQRT+ks3PZpO0OXmwUAKC\n",
       "HrQSFIT2ECNVUUQN6Ek8BERED7KFXgTBiKKXSAI9iB7qetNGabQHPVWpSv1BqGIRKoUtFbUtllAo\n",
       "LT0U32xmd7ubTCLoPthv53vzdr/Je/NmA3hrqnAmDK+tLSmcCupAgg22eCW+XTRx4zVmgQNseM4j\n",
       "bSUnnFpCSMNVlv6SR+KBlDDpa5AyTB/RpEfiMeFMdAJ4D4kWF/Kq5FuFM6EMcAb4OD39wSvxI6ym\n",
       "HT91t79vtEjJfgIcAu42rds/iNNvw2k1ssbGR6eZfTIKPo57VO09tAqEE2awfN7x7Is8QaSuS0o2\n",
       "Cgq6ygefacO/QmDCNf8ohYN020Ev16JZy93hCLqCRuK+io2Cw6vKB28ocVXE3aHHgW90KwJ+fcN+\n",
       "e+sImmsoHsvbKDjXSrZ4rIThrGv+HZRlVhC6cmmCcvoZS/v6jMbSNqsbrou2uDKyYB7TxcXNFho2\n",
       "mrbRCP2h22kf1rEXzpor65BYbrroenqB+Fd5hS15qo1aAJPyS8O1aos/Votq4A7ZAH5r38lByHk8\n",
       "WyBOyDmFmlkZJPEkNvmdnxdlCb7cNqCbxpdpvwUyTA+RlEQHYqCk5A1X1Rbfj4L57ADbphyZHcYD\n",
       "C2uhRTOUmimi+7+4G2YQXZlMrRF9pBTLtiWMQgYSjBhFzdZKF+HVm7H3xT4LeWEtrI3mzOEt+pmd\n",
       "z/t+ucTvL9zsJNFJTofVSA9Vux0xav52lbvmNVNcWcHAEE9rFWPkIeR8xXgDYY1T6OAQf228ya5E\n",
       "2OzAmFo8oZUR17pRRiiLSpm5rlniGJeXe3jslFRSKgw5P4socULOx+VVM1TK/M1XJ9i7cwSFpHxM\n",
       "Jwz3prVC0nBZ4id3LZix1xchjzHk1r97njgh5xtCcbuJ+CUnTdZhoz5n5m/BTXvYRNy5sKDmRqH4\n",
       "qRbcqqsuPomc/SfVoVA81YL/L/PwX+YfyHjXccfvmqcAAAAASUVORK5CYII=\n",
       "\" style=\"display:inline;vertical-align:middle;\" /></a><br>"
      ],
      "text/plain": [
       "<IPython.core.display.HTML object>"
      ]
     },
     "metadata": {},
     "output_type": "display_data"
    }
   ],
   "source": [
    "four_chain_transitivity = Forall((a, b, c, d), Equals(a, d), conditions=[Equals(a, b), Equals(b, c), Equals(c, d)])"
   ]
  },
  {
   "cell_type": "code",
   "execution_count": 3,
   "metadata": {},
   "outputs": [
    {
     "data": {
      "text/html": [
       "<strong id=\"transitivity_chain\"><a class=\"ProveItLink\" href=\"proofs/transitivity_chain/thm_proof.ipynb\">transitivity_chain</a> (conjecture without proof):<br></strong> <a class=\"ProveItLink\" href=\"../__pv_it/theorems/227668f231b20cd9d64a3980ff3e63441e0764e40/theorem_expr.ipynb\"><img src=\"data:image/png;base64,iVBORw0KGgoAAAANSUhEUgAAAloAAAAZBAMAAAAbJp0yAAAAMFBMVEX///8AAAAAAAAAAAAAAAAA\n",
       "AAAAAAAAAAAAAAAAAAAAAAAAAAAAAAAAAAAAAAAAAAAv3aB7AAAAD3RSTlMAq1RmmUTNIjK7EInv\n",
       "3XZ/CtNrAAAACXBIWXMAAA7EAAAOxAGVKw4bAAAFbklEQVRYw+1ZXYgbVRQ+mZlkJpkkG/ClFS0p\n",
       "1rqwuIZ2F30QDWzW3aJbYn1qt+iiD2JBnL4UVmqNfauuS1CWkiJltH1wLdS4tQVXkNgiKxQlShFZ\n",
       "DGTpqlRL2LdKRer9mbk/M9POJH2LHsjMvXe+e++Zb84959wbgHC5v2XB/wLZ1o9RYDN9+OpWL/id\n",
       "/1G2svkuOzxP2crh2wMhbMXwTSn0D1tDXdNbIGyN4/LLIWxpZXRL9I/3SnW/XA4Qtt5CV70awpaB\n",
       "LXC2f0xL636ZjBC2EjaAmQ/zW5jZpf5hK91DFxuzpSKaE6Fefmd/Ofvt3XdJFAgL37Val0PZSrda\n",
       "v9T7h62n0e/s2sdfBq2pVOfedwKWkZkjbE0CnAhlS6tA0u4ftl5Cv2J2i9Z0G6ZaWH4gPg3W2lP+\n",
       "LipdYQdBzwUMWJfYQpCDPbtUelPCQ2q7WySXh6JkAayEknLVUm/Ggpz9o/CkfY+/WWkQtpK2WRZa\n",
       "9Svn4XFEX1HOTk/A+V7ZStLbaGReoyP5ly9H0YS90zcABmj4vU75vHEFnvK0EIyxQdhS2tzJz29e\n",
       "gK2mrdk+toZ7d/KUrVQuHBmvd4fk8mEkTaYFtpAvRgZqdJp+2PfyV6GYeMOJdU+wZ5M4r28XTfCx\n",
       "lVDbd8eWFuXrH+gOyWU8Wlyz+UoEeMFK2aA0vX4L4jfgE0l3gsEXzNYSmlkdm18HuIqfDT54xITP\n",
       "S1dKZZEtczuaKbt+ZML1AbwoOIagRoetDPp1JtZFl+Spuildxj/QbZBcmn5MgDIsrzwJsFi+D0xw\n",
       "2RJC4kKsgZz2yGOdosSWWqVsHUaWf2p/IW2lSEo/aH407bct/Wt0+T1WfdFpE4pcAhsdtg4h/a3N\n",
       "CaLvrhqSAqty2eYg2UB3RnJnO8MHBw33eT9IGcV9qc8AHnn7GdgTwJby1+lGPJ8avQQrEltanbIV\n",
       "qwC8/hsM2HESIgaheM3PFmxCv0KyXYFZYs64GB/2LADynIdUinTY2os+D5w0QGfpCq/ilU8Kex2k\n",
       "Z3SC3LNe9iK5G6tSTIgycXeH9y7A6Y4ylg+yrd3tbTtAPzsDNyW2MmXhxGYL7Af1lVrtPcTWmUQA\n",
       "W0QGLDAett1iGj71TDVgCeHHRVK2tuLLDYCjqxzuVrEvJYVjLtI7OkI2UhteJDeIHMWEKGO4bGUq\n",
       "rGcz2MXF2sit76p9gCybYt4Qz7e+hZJh1KltxYd9+ZYjc2BBxnaLOrrIghrV8R11h+yMyBZ+PaOh\n",
       "A6y664tVaT6w6q6vY8LoAtIyGl4kE0wDxow8N8RWYoAybCWqxTC20hWtWBFta0xgS9+AnwdpTo+y\n",
       "nbXg00C9cQFNjKZN1WkRFgDOoBq5OI3KNexy/Wwh333YnNHouxLhVcZBBw+WAT66iEyWJSSbGF3Q\n",
       "lAQzXM2AqKxHmSyL68fD2HoTMkdFtsgxjctWPAd/FmAWPTd+sujhX4Bt7Z7u2Hha4yItov0QzOWN\n",
       "FZizjBW3cRNyuTSkSmwlLdB+/eoPgS23apamSuO0/TgeGiHZ6CJyUkayiVEJVQkmVjkEkrKyMkm2\n",
       "NhddTi/8HZwZPQvZc47uBEO6yifNqS9qC6EnzcSkaXEZ7yVYsHIam9lRO8C2WD65Kg8u2hYOygpD\n",
       "Lmfl8G+3ZSSPknk378zA1X1yZiEps8iDaMTsMcnCPUAv5/LGdZTqUJUSt/5BLLDN9j4nZ1fOOY71\n",
       "+pI4o5P8zF+WcgFS1ZyCZpFRJvjogrx2qykh+cSopFlOSj8kbf08ykz0usd1pMd/MQSV1KBGKaQm\n",
       "XdsI1WmUjhINqUoqLEfYH0bbTN5BIrH1ag//JwohVXfut+fA9CCiI7kVRVAmdXdcZVuX/gUFm7nm\n",
       "MJKCZQAAAABJRU5ErkJggg==\n",
       "\" style=\"display:inline;vertical-align:middle;\" /></a><br>"
      ],
      "text/plain": [
       "<IPython.core.display.HTML object>"
      ]
     },
     "metadata": {},
     "output_type": "display_data"
    }
   ],
   "source": [
    "transitivity_chain = Forall(\n",
    "    n, Forall(x_1_to_np1, Equals(IndexedVar(x, one), IndexedVar(x, Add(n, one))), \n",
    "              conditions=[ExprRange(i, Equals(x_i, IndexedVar(x, Add(i, one))),\n",
    "                                    one, n)]),\n",
    "    domain=NaturalPos)"
   ]
  },
  {
   "cell_type": "markdown",
   "metadata": {},
   "source": [
    "### Substitution or equivalence with a statement that is known to be true (left-hand side)"
   ]
  },
  {
   "cell_type": "code",
   "execution_count": 4,
   "metadata": {},
   "outputs": [
    {
     "data": {
      "text/html": [
       "<strong id=\"sub_left_side_into\"><a class=\"ProveItLink\" href=\"proofs/sub_left_side_into/thm_proof.ipynb\">sub_left_side_into</a> (established theorem):<br></strong> <a class=\"ProveItLink\" href=\"../__pv_it/theorems/a5b6b3d13e30606d90f6e970afac7a8ce15443770/theorem_expr.ipynb\"><img src=\"data:image/png;base64,iVBORw0KGgoAAAANSUhEUgAAAMIAAAAXBAMAAACrPI2eAAAAMFBMVEX///+IiIgiIiIQEBB2dnbu\n",
       "7u5ERETMzMzc3NwyMjK6urpmZmaYmJiqqqpUVFQAAAB6qHgnAAAAAXRSTlMAQObYZgAAAAlwSFlz\n",
       "AAAOxAAADsQBlSsOGwAAArNJREFUSMe1VktoE1EUPZPvNDMZJyBF8Dd0KShV7EYsBGkXIkrcVEGU\n",
       "caFUKKYobu2I4rLNRhBUqFhdKYlYsEiRqCDoKvgBBcEURYRCqZD4Xeh9v8mLYUAkvfDm3nc4752X\n",
       "++59BFgZC4QzsVJm1ITPuECdBe+6s2/v75OfrhRY9EpB64AHzF/u0tF/AKkB8smSQnoKOMuy5XdH\n",
       "IP0FyNKAVVWQXWEiSNS6lP1vNBoUxFvYAGyS6+lSklLLNEgFb1vYVWBbX9/2LimsomxPUPVglsb+\n",
       "DQeGKDf7gPvAsaglVtvsjUhFtALtfmGzPDgqxoLlAc+ASZhUsZni7MPPnT9buFu/9iwFsKfFrBKp\n",
       "sPHj0HMekIwd2E2HbuAl7VJIsKWPgV1RCraHhIcjEpyJVCiqYAfVFSxeshNUXi6/6EU6QpSCU4Gx\n",
       "LDpHlHh0O4QKVFDsRnCDRukRiwaBLZTktefmaHK9LnpdKsRriNXhSZzXtiRCIyPdUAr8MspBks7y\n",
       "gqK9l1jTNTFJCV7j+NeoJd1mul9TmCqYizBLEs+yi2BE6zjZWEiG8VMpHAVGpj8gQeFTGufZCeyt\n",
       "udfkqil3nOQOe4avKTzJrS8g40s844dE/nwqMnqWlQKV6Psz93BHFq7DqE5dljR/dp2842oKS+yT\n",
       "rUs87beIOtkqfnUldAo4lMvOs3RuUrS4fElO85c9Nh0f1xR28iz7EudZYkSRpZCsWSwETE9FU7Rx\n",
       "Mm/270YlmSdGWasl8zt3HgRuuJIYblf+u6jssGfCN9AoDtMpB3F3Jlcgl50/oSn0Nnh9jkLgqUAS\n",
       "5VpF1m1UBRfb8axyBzGm90PYaRwfCYnCFFm3kQ4pYTeVW8iUOhWsQOBzIVGYIutmyjs3gna8qtzt\n",
       "1ehUwDDH2fNU1WFF/i9r/6uQ1L7/bn8AGCmqIacF6W0AAAAASUVORK5CYII=\n",
       "\" style=\"display:inline;vertical-align:middle;\" /></a><br>"
      ],
      "text/plain": [
       "<IPython.core.display.HTML object>"
      ]
     },
     "metadata": {},
     "output_type": "display_data"
    }
   ],
   "source": [
    "sub_left_side_into = Forall((P, x, y), Px, conditions=[Py, Equals(x, y)])"
   ]
  },
  {
   "cell_type": "code",
   "execution_count": 5,
   "metadata": {},
   "outputs": [
    {
     "data": {
      "text/html": [
       "<strong id=\"lhs_via_equality\"><a class=\"ProveItLink\" href=\"proofs/lhs_via_equality/thm_proof.ipynb\">lhs_via_equality</a> (established theorem):<br></strong> <a class=\"ProveItLink\" href=\"../__pv_it/theorems/78f5ef147078e352e72753f3c89613bc6238cb4d0/theorem_expr.ipynb\"><img src=\"data:image/png;base64,iVBORw0KGgoAAAANSUhEUgAAAIwAAAAVBAMAAABmhxuGAAAAMFBMVEX///+IiIgiIiIQEBB2dnbu\n",
       "7u5ERETMzMzc3NwyMjK6urpmZmaYmJiqqqpUVFQAAAB6qHgnAAAAAXRSTlMAQObYZgAAAAlwSFlz\n",
       "AAAOxAAADsQBlSsOGwAAAcdJREFUOMulVD1LA0EUnGg0ly9NQOzUINipqGiXgIhWIpz/II02irG1\n",
       "0UAsxYggCDZpItilEBSLELWzsrGzSKGiBEIC8RvUt3vZvE0MqPHB3tuZnZ293bd3yILiGg1H5+fS\n",
       "3Z6JE9HfbdwGr0DrGFapZ4Qbd3EUAW8RThOwXzZuY3umVoInAzj/safWAjWyGuntHf2HTTsdyJoP\n",
       "OALm6gy7f2lDFusDlDdhUNFdkcP0vaA7/MfWy5ZlCu+/T+ejlcmKBXpuJi+k3rQnKJ0BE5QOoohF\n",
       "NZsK9gRgDyiXCgtEypTXJ084R8YESOkOsw3jthRsBTWlwsprY8XWqXiGgEEgvkzrFtiGcfMlmrLl\n",
       "GczCUVI2MzviBj5iMwU8UNc+xDaM46aRg3ueYlFjYXtTNjGxiGfYf0VJlN6ZZRvG5/4uU81gFk61\n",
       "UbQti4fFBkUJtSNmnNeKzKw78uTTy9+ckWkBSfRrBWcclLOsTTFbG3EybxlHbGN2JaPZWJgGjBdN\n",
       "zKraDywyRacegpHuvjU0GwvTQGfJZDWr6oaXmis1W3WLJfbWKpWqbiTFSh99VTYSJ2uVSlU35H63\n",
       "E1U2En8/iLLqxzD+9Lv4At+Fe4EprYrUAAAAAElFTkSuQmCC\n",
       "\" style=\"display:inline;vertical-align:middle;\" /></a><br>"
      ],
      "text/plain": [
       "<IPython.core.display.HTML object>"
      ]
     },
     "metadata": {},
     "output_type": "display_data"
    }
   ],
   "source": [
    "lhs_via_equality = Forall((P, Q), P, conditions=[Q, Equals(P, Q)])"
   ]
  },
  {
   "cell_type": "markdown",
   "metadata": {},
   "source": [
    "### Applying symmetry, we can reverse any known equality:"
   ]
  },
  {
   "cell_type": "code",
   "execution_count": 6,
   "metadata": {},
   "outputs": [
    {
     "data": {
      "text/html": [
       "<strong id=\"equals_reversal\"><a class=\"ProveItLink\" href=\"proofs/equals_reversal/thm_proof.ipynb\">equals_reversal</a> (established theorem):<br></strong> <a class=\"ProveItLink\" href=\"../__pv_it/theorems/9a52de782ab64702a2d4d87622519a739537bc910/theorem_expr.ipynb\"><img src=\"data:image/png;base64,iVBORw0KGgoAAAANSUhEUgAAAKEAAAAXBAMAAACR7DLtAAAAMFBMVEX///+IiIgiIiIQEBB2dnbu\n",
       "7u5ERETMzMzc3NwyMjK6urpmZmaYmJiqqqpUVFQAAAB6qHgnAAAAAXRSTlMAQObYZgAAAAlwSFlz\n",
       "AAAOxAAADsQBlSsOGwAAAhRJREFUOMudVT1IHFEQ/tT7fbe3roQE8UDiNUJAOSUQSHUpUxhWYmxs\n",
       "YpEgFiKaOjkUW9lGsLAwZTo9Qv6wOJsQCJIlSRNMsYKmsrCRXJEi33ve7t2uuwt7A2/n7Xw7386b\n",
       "mZ0FkkutKyhGeuxo7DWXIze/kzD+jHtbA/gkN9sJCNNWHLoFvKTKPU3AWGjEoV+BvAmk7ASMffGo\n",
       "CY2vzCdJ469YNE+6yXL5bhLGt1zTB0g7gfQOnL2Y4nFpfg88u+a2F824w1X9Ae2Cul6WMq7Si2Gj\n",
       "Dmis2yZyzjW3mFKNAVm7Dj3wyBd8M8+BYgXImKndJIz3eUJMoM/wm5fxUaosQy8aIYWJZ4S4xKvl\n",
       "IDAhL4IxwjrkZeBDid+kGIbewXhlVA+6gDo1ChZuwJ9HiCaeML7b3E6xz3tqf/Jsyul+c7XNqIzv\n",
       "nlMaHgDMc2UcLAVKvahXUGVlpOc6C6NhPsvtxnfcajO2jOgEgEcyRkf88zMW/85VBGMqkBW6ykhT\n",
       "Aac46cxj0/NwAWBFRnRaagZi3DeOj6h7vSpnKzmp7uBeB6M0Xp3aA+ijAkhFzIs1d7OesgqYAUbF\n",
       "RZtRGVviAswFu/8hHkeMggNvoAw9uIlVG8efrTajMrbEBSgLwAizECrBKWana5lGaD96AGWWE7q0\n",
       "G86Y8f8WhKkbb8I73ANkHEZ0+w/6bzWIw2o4owd0LbXuXf8Dymh6Zcq6KGsAAAAASUVORK5CYII=\n",
       "\" style=\"display:inline;vertical-align:middle;\" /></a><br>"
      ],
      "text/plain": [
       "<IPython.core.display.HTML object>"
      ]
     },
     "metadata": {},
     "output_type": "display_data"
    }
   ],
   "source": [
    "equals_reversal = Forall((x, y), Equals(y, x), conditions=[Equals(x, y)])"
   ]
  },
  {
   "cell_type": "markdown",
   "metadata": {},
   "source": [
    "### Substitution or equivalence with a statement that is known to be true (right-hand side)"
   ]
  },
  {
   "cell_type": "code",
   "execution_count": 7,
   "metadata": {},
   "outputs": [
    {
     "data": {
      "text/html": [
       "<strong id=\"sub_right_side_into\"><a class=\"ProveItLink\" href=\"proofs/sub_right_side_into/thm_proof.ipynb\">sub_right_side_into</a> (established theorem):<br></strong> <a class=\"ProveItLink\" href=\"../__pv_it/theorems/51065d728b267c2c49ee6f7eb6e8550de70b5a7b0/theorem_expr.ipynb\"><img src=\"data:image/png;base64,iVBORw0KGgoAAAANSUhEUgAAAMEAAAAXBAMAAABACzadAAAAMFBMVEX///+IiIgiIiIQEBB2dnbu\n",
       "7u5ERETMzMzc3NwyMjK6urpmZmaYmJiqqqpUVFQAAAB6qHgnAAAAAXRSTlMAQObYZgAAAAlwSFlz\n",
       "AAAOxAAADsQBlSsOGwAAArlJREFUSMe1VkFoE0EUfWmSzWY3m2wOSjFgSy+CoKQiCIKQFnsoqKwg\n",
       "PYYEUerFBHvWRovXupeCB8UIvXhqhVpjkbrx4MWDQRQUBStIEQSpB6sn9c/szGbSNCK4/fDnT/9/\n",
       "O2/m/z+TAjsjtQ6zAxJp+fYu6RqbvA9p3crm1wsP2OyV9HjACpvcDGnrGRc46wBxV3rmgCtk9FJI\n",
       "DNM28IHU9KTnOZAkylgrJIaBKmkBiAaeqIMU0SXDKnCFKbG8DTxJWv7Q0NDhsBg2gcQ3sktUipyH\n",
       "IqWHOukhcK7nJ4vqH2/89uhNQKvroyzjt2hpK48XQIpqPgudeIzK0urn7m/8FvCDqfo2rJ3d+uv4\n",
       "CQ46AFw2B7EOEA80J8a8T4HRXgx+sCh88z0ZtA0xOQo4URvDdCxyWTYv9Bfqgp4MPLgii+f87TpI\n",
       "Biw4iR90fDoD3CZzHgMOksk2cvSWGHuRVhl4cJDSkLvaEL3tA3kOJRjTBcFAWcIjRGh1i77CyTl2\n",
       "6b5jlhIcqa0naYHTGWdKYeBBnTbYny7dhsUKwYHL50m8AIwBUSmUSS9Co/qm2Aoz7GlKDWdfM4Ny\n",
       "gsz1l9itMPCgQXNPs6t8IoFQwbgj03WKdBULdBdMdqx0lQ1rIviTj5/wUWHgQYsNGcpMoqQAVfDy\n",
       "77LwXCItjjwhcF89uN3iJUnkdWb244jCwIN84Sl68XmWONDPUgBuSx/bNMZJrwW+G6xsZzATc00y\n",
       "2GdsKAw8SJXW8+N0GyK2BAqR4LakFhFz49QfeNx+2cfYDlvmnpFdZPDumdtm8IOYBO7PZx1oNQkU\n",
       "IsGKTKLPThe2ebXFG9uK1zRP7daOmzbRBnIJwIpMwGqy+6Nt+Rk1HGHS9j10MZgC3QiAvgRgRXTb\n",
       "t/1b0yeN0Sx0M2DMj9YDoNiXBP/PvwwiHcr47/IHTs2vDywJuR0AAAAASUVORK5CYII=\n",
       "\" style=\"display:inline;vertical-align:middle;\" /></a><br>"
      ],
      "text/plain": [
       "<IPython.core.display.HTML object>"
      ]
     },
     "metadata": {},
     "output_type": "display_data"
    }
   ],
   "source": [
    "sub_right_side_into = Forall((P, x, y), Py, conditions=[Px, Equals(x, y)])"
   ]
  },
  {
   "cell_type": "code",
   "execution_count": 8,
   "metadata": {},
   "outputs": [
    {
     "data": {
      "text/html": [
       "<strong id=\"rhs_via_equality\"><a class=\"ProveItLink\" href=\"proofs/rhs_via_equality/thm_proof.ipynb\">rhs_via_equality</a> (established theorem):<br></strong> <a class=\"ProveItLink\" href=\"../__pv_it/theorems/abcb2d627df9852dadc5e1b7d9c6e5aedb68dbd50/theorem_expr.ipynb\"><img src=\"data:image/png;base64,iVBORw0KGgoAAAANSUhEUgAAAIkAAAAVBAMAAACArtDCAAAAMFBMVEX///+IiIgiIiIQEBB2dnbu\n",
       "7u5ERETMzMzc3NwyMjK6urpmZmaYmJiqqqpUVFQAAAB6qHgnAAAAAXRSTlMAQObYZgAAAAlwSFlz\n",
       "AAAOxAAADsQBlSsOGwAAAd1JREFUOMudVDtIA0EQfdFTLx+DAbHzQ8RO/GEhqCCihYh4YmVnoTYK\n",
       "prWJgbRigiDYeU0Eu4CCYmGiFrZpLASLNIKiJAEVBUWd2ZjLJLHQe3Dz9ubevd2dXQZpEG5gF/rk\n",
       "2CPRCY93bLtMBOCNAkE2nLdrMsd/DgJOA9BSdl22OGQBT5Kc7Jq4XzlOB4A+v7/frktElSJhAkfA\n",
       "4m/T/MUloUqxGwI2odNpu1YPT+841eg7VoLavG7vfTITEpxHQdRNRUXNE8sNjVaEc2CUaD+EcEi4\n",
       "eNqgtQlWsERPSvJBob5BFfcBaKUXUrrnhYs3DkdOMKMo8nOYjXKMnnEcBrqoXFRuT064VKdQlRas\n",
       "amqJsnClcKCWNbXNF+8Fm3HgnoZaj3CJGPqDxe4lwooQracuN7QBJQzzHJ5e3xURn7kzLVwufM2G\n",
       "ZJSIHAMNWiaf9wY45Jc7xBPI6mZQyqUiBBdGTQSsL9VJRcuIoVOe9JD4s7Cjooh1pqN4AyI0rBlB\n",
       "eGNmLSlc9DeovOICiiLWpa+tD47VcaBuGPppy60uXJqeDZVXbPUUS8Tr+3otu9D19LjiM3JHVr4E\n",
       "BRGhrr28IcR4os+OCpdYRYf7Ef0Ktdkts8IlWdlXzD821P90iG8uQoKAkuB+ygAAAABJRU5ErkJg\n",
       "gg==\n",
       "\" style=\"display:inline;vertical-align:middle;\" /></a><br>"
      ],
      "text/plain": [
       "<IPython.core.display.HTML object>"
      ]
     },
     "metadata": {},
     "output_type": "display_data"
    }
   ],
   "source": [
    "rhs_via_equality = Forall((P, Q), Q, conditions=[P, Equals(P, Q)])"
   ]
  },
  {
   "cell_type": "markdown",
   "metadata": {},
   "source": [
    "### Special substitution involving Boolean values"
   ]
  },
  {
   "cell_type": "code",
   "execution_count": 9,
   "metadata": {},
   "outputs": [
    {
     "data": {
      "text/html": [
       "<strong id=\"substitute_in_true\"><a class=\"ProveItLink\" href=\"proofs/substitute_in_true/thm_proof.ipynb\">substitute_in_true</a> (established theorem):<br></strong> <a class=\"ProveItLink\" href=\"../__pv_it/theorems/4dc4c7f0cd7dabd6b74022af0e9bd0226a44fe230/theorem_expr.ipynb\"><img src=\"data:image/png;base64,iVBORw0KGgoAAAANSUhEUgAAAKMAAAAXBAMAAACVGeLQAAAAMFBMVEX///+IiIgiIiIQEBB2dnbu\n",
       "7u5ERETMzMzc3NwyMjK6urpmZmaYmJiqqqpUVFQAAAB6qHgnAAAAAXRSTlMAQObYZgAAAAlwSFlz\n",
       "AAAOxAAADsQBlSsOGwAAAkFJREFUOMutlDFoE2EUx//XXJJLctdeBqFYpCWLW4nStRCLDoLCDSK4\n",
       "XREHpwQER5vayaVmKbhIUyhODlqqBikSHe1yDm6imUQQRAeLk/re991d3uVu0KMPvvv+9+59v/u+\n",
       "9x4fcBxmxaqLY7JTsdqhMWLxIQ/HaB99u/mMldPCXoNtEcYQeMm+B7n2NtMDrnskrqnXd+q5Bdzh\n",
       "VPi5kGsu8IkGDgTyEKjQb8wgF3K+Q6NFoimQBQ82Hb6SryhtHoR1egJZId7ZRmMpH/IIKP+gudYS\n",
       "SJPq/QK4kQ5/Il8c1W3GRAjhrJUg3FiMtGnLm7AIXG3vv/oi4nXBQu/bjN/QL36fv9RnMRUIpEOJ\n",
       "LXkmf3gDrKSQ2lsc6ZfdJLL0PRSFvkCWyeu4qjpfqXpppPLW9BLVHBNtmUZWufy91yyXgUWa6oO5\n",
       "rkAq7xQdcm59EPZaFIG1VohMHnyBHpe3uNt/YpNyZXQ/V4IxUnvvAbPT/kM4nMw4AvP9KAOuLA+v\n",
       "3OBU2Wfq73nCalkcXHsfAcOS20HVlxHYjjJgjgRSddR0hx9hCfBL5lJ7P3Li6LBlX0Y8/7MaddOC\n",
       "mh7rLER7R2EYfm5aAqm9t2ncoptQHTyOEHZa6Luxus8pv4INs1cTSOWl8ljNi9SVhisjhB0KfTC+\n",
       "+y7wVoLayXMnxkjtRamLp7t1j2cRITt0fJenLrVgsi91q4XdcjURIazoZ9H1Wi8TiUE8Vb3MC2Q9\n",
       "VrMTX2xkI00FsvuJiP+25P4VsviPS/8CJnmMaTVD6poAAAAASUVORK5CYII=\n",
       "\" style=\"display:inline;vertical-align:middle;\" /></a><br>"
      ],
      "text/plain": [
       "<IPython.core.display.HTML object>"
      ]
     },
     "metadata": {},
     "output_type": "display_data"
    }
   ],
   "source": [
    "substitute_in_true = Forall((P, x), PofTrue, conditions=[Px, x])"
   ]
  },
  {
   "cell_type": "code",
   "execution_count": 10,
   "metadata": {},
   "outputs": [
    {
     "data": {
      "text/html": [
       "<strong id=\"substitute_truth\"><a class=\"ProveItLink\" href=\"proofs/substitute_truth/thm_proof.ipynb\">substitute_truth</a> (established theorem):<br></strong> <a class=\"ProveItLink\" href=\"../__pv_it/theorems/8215ace5645e1a36ecc889e052254082c6e0e4780/theorem_expr.ipynb\"><img src=\"data:image/png;base64,iVBORw0KGgoAAAANSUhEUgAAAKIAAAAXBAMAAAB624nuAAAAMFBMVEX///+IiIgiIiIQEBB2dnbu\n",
       "7u5ERETMzMzc3NwyMjK6urpmZmaYmJiqqqpUVFQAAAB6qHgnAAAAAXRSTlMAQObYZgAAAAlwSFlz\n",
       "AAAOxAAADsQBlSsOGwAAAmpJREFUOMutlU1o1EAUx//pJtvsJhs3lyL4FXoUFBXrQSwUaQ8iSrzU\n",
       "gyDpwaUntyh6tBHFY7sXQVBhwbY3MWJBEZFVQbCnxQ9QFFxRRCiUFbZ+HvRNkkkmmz1o6IPJe3n7\n",
       "8pvMm/9kgbUxN3Aq1sqkZuCLZaDFgnfZOAN/Tn6+arPoJU9tBO4zfyXjq/0E8kPklRrPFGycY6t3\n",
       "sgH7vwIlGtAaPKV7DAq5mbF732l0KMjFuSHohC9kXHS+TYOoeBPnrgG7Bgd3ZySuo25N0+5ikcaR\n",
       "zUdHaa2HgbvAiVStlrh7HfpyVxXRLm4LXwye9EGzgGfADFRSULG6+PCLsJ7ALfw+uOJCr8uVyp7K\n",
       "RNc8wJZPo0t+QFjd1VcN6uALetiW65R8DOxPEXULsoXjLGRyKI4kiVUe7KV9h+ZLaJq2v+xvzDJN\n",
       "mSIaHqR2IFlfYJdTcoyItOF+U27QqD1i0TCwnbSw4fw9gZhroq8FKyIe8jUT1qC/w4l+M2+5Cinx\n",
       "OStjM6urmPGA9YZzXSDO2uoy1FpEfMsuvAbSL06cAMbrHyFT+JTGBXa09Z3mK3KNfHlKID4xN9ko\n",
       "OhFxAUINCm1OJMm8P3MHN0MhGex3oxVKzBX7uMIupVZEPCvWaNVvXE6ngGNm6QE7elv5LLnwZJ4O\n",
       "vnQhcZ/fLie5al4jWN8Uj1SLR7NUpIyoOw7Ai4nqD9/FO2OKNYLpUSL6ZkjVMXqZYdyeM+2YONDx\n",
       "bybZxQsioUa0SR5cSuZL3XoMbI4HiiPWiDaeQgc235uouUIw35OohnskdXW40ZuIsdAvJWr+z5L/\n",
       "aUro7X959C9VvIbt4M/wLgAAAABJRU5ErkJggg==\n",
       "\" style=\"display:inline;vertical-align:middle;\" /></a><br>"
      ],
      "text/plain": [
       "<IPython.core.display.HTML object>"
      ]
     },
     "metadata": {},
     "output_type": "display_data"
    }
   ],
   "source": [
    "substitute_truth = Forall((P, x), Px, conditions=[PofTrue, x])"
   ]
  },
  {
   "cell_type": "code",
   "execution_count": 11,
   "metadata": {},
   "outputs": [
    {
     "data": {
      "text/html": [
       "<strong id=\"substitute_in_false\"><a class=\"ProveItLink\" href=\"proofs/substitute_in_false/thm_proof.ipynb\">substitute_in_false</a> (established theorem):<br></strong> <a class=\"ProveItLink\" href=\"../__pv_it/theorems/c931c670152f3cd2bfdc3f9e5af5138f3919c7a50/theorem_expr.ipynb\"><img src=\"data:image/png;base64,iVBORw0KGgoAAAANSUhEUgAAAK4AAAAXBAMAAABg52lgAAAAMFBMVEX///+IiIgiIiIQEBB2dnbu\n",
       "7u5ERETMzMzc3NwyMjK6urpmZmaYmJiqqqpUVFQAAAB6qHgnAAAAAXRSTlMAQObYZgAAAAlwSFlz\n",
       "AAAOxAAADsQBlSsOGwAAAmRJREFUOMutlU1o1EAUx//pfiS7ya7Zg0WsYlhvQqWKvYiFKlYQseTU\n",
       "o2wPLj25Re9tpOKx3YsgqFCwel6h4OJBooKgp8UPUPCQgxShUFZYvw/6JjPTTJocZLcPJvPmzeQ3\n",
       "kzf/mQC7Z550DOymaR3pFW0gYM6n/mnDf69s3HGZ9y5E+ux5AHjC6tsDLPMXkB+nOtdkrZLNngUX\n",
       "Cywftf6x+leCUYHpR1yrxdDIdgbI6g8qPXIyiLgYh0XTFAZIQ75Lhdj4qHLvAser1RMDcPdQDhcZ\n",
       "bF3lTgOPgcuJ0Was9YF/cSqXmDdGxRIj7itgGQZprdhYf/pF+TpePfxzYcuDtcpbrTTuoc9nX4fO\n",
       "qMp9Swg3y957DpxJcC0HWQeXRHAtjduQzkmVu8i8cNs2aeoEt9yC1uUS56pMlW8K9z6V5jPmTQBH\n",
       "KYcj19sKN9PBUABHxBU5Vtoj/DbQezIUy8MbKhdvsaPxDcuUv33l2j2Fu+IamzCaIl7aTrDmbRT4\n",
       "JNpvGZtVuS+pLLErwjpWeU+Vn7fnFe6LykEXxZqIMwfn6vW6Y2FWF7npSu60ymWiKzNSORBy9NT8\n",
       "boVDAxHX5XGnwE+hx8Z3WwSvUqtaPUzHgbqPyNkyPq+v8VtUcE+FKayJ+HYeAuhjiTt2aD7yDUd6\n",
       "K4TLTRpj57lKOdfgq3LA45qdm+RCXso2zZ1cS5G36cuNaEzRwibwaK3iRtzhXtiYA4/nPRrB39t/\n",
       "em9CcXORezPeU9qp3/h5mFFHJG0mdQpmD9K5pvhxtdURSTPsSIbxHj+diymewFV1RH8W3+2c8vxP\n",
       "+wegWoIY3OeQzgAAAABJRU5ErkJggg==\n",
       "\" style=\"display:inline;vertical-align:middle;\" /></a><br>"
      ],
      "text/plain": [
       "<IPython.core.display.HTML object>"
      ]
     },
     "metadata": {},
     "output_type": "display_data"
    }
   ],
   "source": [
    "substitute_in_false = Forall((P, x), PofFalse, conditions=[Px, Not(x)])"
   ]
  },
  {
   "cell_type": "code",
   "execution_count": 12,
   "metadata": {},
   "outputs": [
    {
     "data": {
      "text/html": [
       "<strong id=\"substitute_falsehood\"><a class=\"ProveItLink\" href=\"proofs/substitute_falsehood/thm_proof.ipynb\">substitute_falsehood</a> (established theorem):<br></strong> <a class=\"ProveItLink\" href=\"../__pv_it/theorems/1f918f13433ecf3828c0bca1dbbb02f06417826f0/theorem_expr.ipynb\"><img src=\"data:image/png;base64,iVBORw0KGgoAAAANSUhEUgAAAK4AAAAXBAMAAABg52lgAAAAMFBMVEX///+IiIgiIiIQEBB2dnbu\n",
       "7u5ERETMzMzc3NwyMjK6urpmZmaYmJiqqqpUVFQAAAB6qHgnAAAAAXRSTlMAQObYZgAAAAlwSFlz\n",
       "AAAOxAAADsQBlSsOGwAAAnlJREFUOMutlE1o1EAUx/9pk812k6zZQ0WsH0svgqCsYo+FKq3gQVkv\n",
       "FREkIoae3IJ4tSkVj3UvhUIVFqxHccWCSykSPQjqRRTBg+CKUgQvFVq/LvpmkplNNjmUpgOT9/Kf\n",
       "md/MvHkzwDaWfJfdrrI3tAUbaDPnYxbazn9XVxeq5FgjQtoDLDM7n2mZf4DcENnzUumr4gaLh5MF\n",
       "q/+gpVLFipTMJkNDfZOFq/yiuk5OpaMNwfRp2ZnCkFujSmyr3tHuAEcHB49l4u6gKE5RBhjs2M7u\n",
       "OzdKuz8DPAGuJDs3oz8fxI5TucS8eYgdls/GKZ+NMvASmEWecq1QW3r6LdI5OMlANRvkGonZRNn/\n",
       "dfQVsz20TtMzN4rEf0ehqaps3HPgRIIbqBd5FNlnMY1bC20vYXQYPMpTFG6bH9t3mjjJ5eqy5LLk\n",
       "SUtfyaWvzb73qNafMW8YOEwRHJhuRblcLUtuJCFLrQEvSN/1UOnhjQ89jSZ/S97pOXY1NjBL0dtV\n",
       "dO5GuFzN1yXXkgFWvNW+YBLlr8g3Wul44wtU8l9QnWFPhHmk9J6Mn7MnI1yuFhzJ5e5J13XLJi7p\n",
       "4Z1dC7kqcT5df4wH5C9RLTJSsR0moxeNL1ettuTq4sKT9DvwjNpPO7zPFK8LJWuFbeOg2FevH9hr\n",
       "8CJcrupOMg5t6JXEK3ug8xCXhXebcNpIvnIqzFFHqoicm2JrwVvYnFHrRjf3tfQMXxxDbYwWNoxH\n",
       "i6Vqh8tVYILF9LLr2sh51CcYuft4f+Kh8IR3K95gJfIX8dswHuvTXTQ5aCLecD+da8h1tGJ9EmVa\n",
       "JmFc99O5GBPPdSPWZyslNqPWZTdR/gPXRotAGlsedQAAAABJRU5ErkJggg==\n",
       "\" style=\"display:inline;vertical-align:middle;\" /></a><br>"
      ],
      "text/plain": [
       "<IPython.core.display.HTML object>"
      ]
     },
     "metadata": {},
     "output_type": "display_data"
    }
   ],
   "source": [
    "substitute_falsehood = Forall((P, x), Px, conditions=[PofFalse, Not(x)])"
   ]
  },
  {
   "cell_type": "markdown",
   "metadata": {},
   "source": [
    "### Folding and unfolding $\\neq$"
   ]
  },
  {
   "cell_type": "code",
   "execution_count": 13,
   "metadata": {},
   "outputs": [
    {
     "data": {
      "text/html": [
       "<strong id=\"unfold_not_equals\"><a class=\"ProveItLink\" href=\"proofs/unfold_not_equals/thm_proof.ipynb\">unfold_not_equals</a> (established theorem):<br></strong> <a class=\"ProveItLink\" href=\"../__pv_it/theorems/02cf44cd5f788a7a04890f0f9ad6faecc3ec056b0/theorem_expr.ipynb\"><img src=\"data:image/png;base64,iVBORw0KGgoAAAANSUhEUgAAAL8AAAAXCAMAAABte263AAAAOVBMVEX///82NjYbGxsSEhKIiIgi\n",
       "IiIQEBB2dnbu7u5ERETMzMzc3NwyMjK6urpmZmaYmJiqqqpUVFQAAAAnLjGdAAAAAXRSTlMAQObY\n",
       "ZgAAAAlwSFlzAAAOxAAADsQBlSsOGwAAAmBJREFUWMPNV4t27RAQ1XbCIF75/4+9CAlHkHSt3NVZ\n",
       "7ZnWDDb2PA4h74t8bLi1nCT/R8A+NYxFQandMW7NK/Ate2qYXogptFZ5eH3lQXB9apjLiqcW+QEk\n",
       "f+X6tXlqmIvRhc6HYfYV/PSx4c6ieGqT7mF9h/3rU8MtAplC0yUIZe/Qh00MCOBQsNnrI0S+4c52\n",
       "lkgftRbhT443wAx3GN5U1+DXBAdEL8cmSyFHdmTEBsKZbSd+eryopcsfMxlFOFOXw4v9BKUrg5EB\n",
       "FBI3jmZh9xO6HYJNwbPrcPWd7W/j752fqo5jMoS31/NQ8AhpKFd0r11iI4W2cDN6B/id/B1+coKa\n",
       "VN0tJPtN7P+k+096JSYtAaCl/8kF2lUFusJfeRLFrmdkmrT4T4Pa/CqIY/7vjwSZN0ulmU1FAGRg\n",
       "2GpTyBN/ZkEv8R+emgf58b/mYgbhn3crdWlAroijMT5nb+/yR4gaXmlJ83hcV6SdMBwP+CX+yjN3\n",
       "JO2MI9O18R4NdhOoPX41LZ7ahZcydfLN2onDbyuI7LzZQY//pyfy3gwill5GiQbUAMRqM6/96Bjo\n",
       "vOWial0sS4vGOpip6OBPnoE/31888qed4UdEB1DXMMjRKcvIpdYHN2l08QxFlrZQ22X+OT1J0QK2\n",
       "M85eq9uE3YeO1NatX9MCalAMICSq6Ooflq/X+fPwrEv354xg7bXl/Em/vsBOzrJTHnbMHj/6DbiZ\n",
       "5n978r2ZUQUHuWm43MTA8U0lH3x0AQpjIKp1Xr8Kl2ZGvKZeeZJAfiMga33NznAGA2xef22RA5oZ\n",
       "f0vk34P0D9r3GG/sNSEOAAAAAElFTkSuQmCC\n",
       "\" style=\"display:inline;vertical-align:middle;\" /></a><br>"
      ],
      "text/plain": [
       "<IPython.core.display.HTML object>"
      ]
     },
     "metadata": {},
     "output_type": "display_data"
    }
   ],
   "source": [
    "unfold_not_equals = Forall((x, y), Not(Equals(x, y)), conditions=[NotEquals(x, y)])"
   ]
  },
  {
   "cell_type": "code",
   "execution_count": 14,
   "metadata": {},
   "outputs": [
    {
     "data": {
      "text/html": [
       "<strong id=\"fold_not_equals\"><a class=\"ProveItLink\" href=\"proofs/fold_not_equals/thm_proof.ipynb\">fold_not_equals</a> (established theorem):<br></strong> <a class=\"ProveItLink\" href=\"../__pv_it/theorems/d053affecec8789afa4a7aa839cceb0029a9969e0/theorem_expr.ipynb\"><img src=\"data:image/png;base64,iVBORw0KGgoAAAANSUhEUgAAALkAAAAXCAMAAABgZR7wAAAAPFBMVEX///8NDQ0WFhYLCwsYGBiI\n",
       "iIgiIiIQEBB2dnbu7u5ERETMzMzc3NwyMjK6urpmZmaYmJiqqqpUVFQAAACZSrTsAAAAAXRSTlMA\n",
       "QObYZgAAAAlwSFlzAAAOxAAADsQBlSsOGwAAAnNJREFUWMPFV4mO4yAMZQ8DBsKV///XxUCuAiEz\n",
       "GmVRlSoF28/PBy5j/3eZ14R+eEG433fY+9UCPeP+HvzrwIO839dq4DBBdXZ7XV4PAi6TA0oPNpYU\n",
       "C72RbtTrlLtJlHUc7XhX4dOS4XXkYkb5OAtEQu2r48v7WT4xaeN4byHUgtMS8v1kqSYRIKKWTdCv\n",
       "hYeQkwuLO5K+XC4DhQ9MDdmbFzcMeCtqIQJzfDOTqeR//9Bz512yQNnl15LoFC8Tt8dsjWrYW/Yd\n",
       "t3kh2RvCgyz6O8p1KK7FAiJ7kemW9vvI8YnXzDbpKIpNCrlrU95eXU0YBcVNlODpTH2Ah/U5QO7s\n",
       "o7ResI+cHXjGlJMrKzXxtbR4K2pb8VUSwJn02S7ZeLlkR8h5R/a4qHcdTQXycIBKYojnPP/9q2T7\n",
       "YT7HBWonDby28soHGMqjJdRiZslLLWbIzXKVdWpb/qIjfGa6ynShsiyKXIK3EWIqbg8qjoLFiO09\n",
       "q6tXrkFyDFQXuazg0gmrWtndq5MO++l47mwsrBpdQm4vIQltQbtIwfHXjhoPg+sp3DFtR7jlPGkL\n",
       "sSfb6mjGJ50jjg4gAfVhQnlqBBLcZoI3tUWB3e3TttAz5DuiKnvOlrOOlkauvzpEytpJDP+Irchb\n",
       "yQLKqtmu973FbRV6yDboqg6A7tz0rA8V0CjCYFZzYCUANZ98JMVQLfOuWAajXfaDvV1HZ34ajVS+\n",
       "QzmHknrTuTYhx6RX+TlyezPyHDqwI42jPtsZRYKH/eK4GSKZxVxYdnly+7uxokNH95CB/mA+mYHu\n",
       "xiSiyXqQj+YWJofj2q7DP7toX/+jPh808afB/AMhCBoJSAIu5gAAAABJRU5ErkJggg==\n",
       "\" style=\"display:inline;vertical-align:middle;\" /></a><br>"
      ],
      "text/plain": [
       "<IPython.core.display.HTML object>"
      ]
     },
     "metadata": {},
     "output_type": "display_data"
    }
   ],
   "source": [
    "fold_not_equals = Forall((x, y), NotEquals(x, y), conditions=[Not(Equals(x, y))])"
   ]
  },
  {
   "cell_type": "markdown",
   "metadata": {},
   "source": [
    "**$\\neq$ is also symmetric:**"
   ]
  },
  {
   "cell_type": "code",
   "execution_count": 15,
   "metadata": {},
   "outputs": [
    {
     "data": {
      "text/html": [
       "<strong id=\"not_equals_symmetry\"><a class=\"ProveItLink\" href=\"proofs/not_equals_symmetry/thm_proof.ipynb\">not_equals_symmetry</a> (established theorem):<br></strong> <a class=\"ProveItLink\" href=\"../__pv_it/theorems/dd2943af47f398457d87f1e33a01a5fcf783548a0/theorem_expr.ipynb\"><img src=\"data:image/png;base64,iVBORw0KGgoAAAANSUhEUgAAAKEAAAAXCAMAAABUHN/sAAAARVBMVEX///8NDQ0WFhYLCwsYGBg2\n",
       "NjYbGxsSEhKIiIgiIiIQEBB2dnbu7u5ERETMzMzc3NwyMjK6urpmZmaYmJiqqqpUVFQAAAA0WiBi\n",
       "AAAAAXRSTlMAQObYZgAAAAlwSFlzAAAOxAAADsQBlSsOGwAAAktJREFUSMfFV4ly3SAMpE3TyNyn\n",
       "//9Tgzhs8AEvnfErk3jGRhLLapF4hLxlqDd6/dMAP563/PKzAXyG7d27pwB6Np6X4m5nCMma+qqf\n",
       "IpXriYGQdzM6kisriUo8RaGdJEeG2ylnC0wczD+FkM4oHCSPRnSu7FA/psJJZBMGkxrR0QUHZY8l\n",
       "uUTmkNLNj4AO+ucAgUtWUsrQ2iadCv7CWsPzMKQBFyMe8+3WGi0xs/z5wGdoF4EAcTYLEROgQn3M\n",
       "xugsMXM3s2Q2pM+rBjGk0CncBCch7yttKtF3v8BrCAc7pKZyTLECp0ejwkNiMKF2V65MjHt48ZwM\n",
       "EAY1QxjBrFjdVjmiMHvsmzC0HGNXvgFYFf9q0wld0+kQdpbEsGuPJsuFGthqT9Lh719Zja2PWWNY\n",
       "nnXtl1IKS1EEhTLRvhwqEjct6SXCzdIKHF/x3114JK/KiAj10TeN7rwJQwJN5yrLMq+paHFzKV5J\n",
       "g+K4ARCXCDvL3D+vPLaCkUgLyE/XYPyxPPhVchsRGt+XqrBrY210EeJ0gDsd7pZc3HkksS/VLDCw\n",
       "qxpRSLgFiLhdVcZyOsGYoi0GTlN5g7BYYpb/foqU5bNHDtN8YPonlx6ilsM7TREi85yV0Ga9PMu7\n",
       "Zd/5jx57+8/gOPVDCqeXDguGAWBNSJEi20JfV5vNsm9HR4/2arBAVkEDfUrhqEdEhDwGFm5aD/2u\n",
       "u5NHq1PvwPaqWmYUjm49hifJGz2v2I3JyaNyAdcXw9mPh9GdGokwDti8p/iGl5PHu4f6H4t+A8S8\n",
       "Hj9YvK5yAAAAAElFTkSuQmCC\n",
       "\" style=\"display:inline;vertical-align:middle;\" /></a><br>"
      ],
      "text/plain": [
       "<IPython.core.display.HTML object>"
      ]
     },
     "metadata": {},
     "output_type": "display_data"
    }
   ],
   "source": [
    "not_equals_symmetry = Forall((x, y), NotEquals(y, x), conditions=[NotEquals(x, y)])"
   ]
  },
  {
   "cell_type": "markdown",
   "metadata": {},
   "source": [
    "**If two things are both equal and not equal, there is a contradiction:**"
   ]
  },
  {
   "cell_type": "code",
   "execution_count": 16,
   "metadata": {},
   "outputs": [
    {
     "data": {
      "text/html": [
       "<strong id=\"not_equals_contradiction\"><a class=\"ProveItLink\" href=\"proofs/not_equals_contradiction/thm_proof.ipynb\">not_equals_contradiction</a> (established theorem):<br></strong> <a class=\"ProveItLink\" href=\"../__pv_it/theorems/2a58d899b0ca791699d174d79d2ac74dd6a032a30/theorem_expr.ipynb\"><img src=\"data:image/png;base64,iVBORw0KGgoAAAANSUhEUgAAAJAAAAAWCAMAAAAYceVPAAAAOVBMVEX///82NjYbGxsSEhKIiIgi\n",
       "IiIQEBB2dnbu7u5ERETMzMzc3NwyMjK6urpmZmaYmJiqqqpUVFQAAAAnLjGdAAAAAXRSTlMAQObY\n",
       "ZgAAAAlwSFlzAAAOxAAADsQBlSsOGwAAAXVJREFUSMfNVotyhCAMTNvI++n/f2xBEUHhDsdOz8yN\n",
       "cs5uXEJYAXha+Dxy9pM69PZ2o7dHSn5SkMM0EFuJJIdHCALF1jt1DxFk0+IpeIggIFMMQh8jyIh4\n",
       "5ew9ydx9KxsSJP12eRd3257qIUFLcV5h/0rQy0mXguJ4qKVvCvJyUFBQY9NfRCPDL5kn+srKK0EV\n",
       "MtttzagxmrazNgRRl8wIJXgOanUkhjAzEKQpKCMN38IeGQfMTwvTFiRJEhwsiSOI9JS5KWTlTUEV\n",
       "MuepGTUGbSdrQxD4PfNcrIIPRfbY66G50RJHxo5hvIcxqw+udnhayljLnGQKW4+IjqCELJfsxCgw\n",
       "318dzMt9SYCqxf/Y0oCTAD03d9mOrGNjRH6FEf6EGQmDmiKyOLXY2M5YrtrbPiMPnZAYC7/EFB+C\n",
       "Y9bRb0uYZqg2t1d8qGC4Xsuesg4e4NjSeVpdMsadoeviqRbmUtjlVIn0mlPvjLoETrcw9+M/zri/\n",
       "GEgRB4K0kIUAAAAASUVORK5CYII=\n",
       "\" style=\"display:inline;vertical-align:middle;\" /></a><br>"
      ],
      "text/plain": [
       "<IPython.core.display.HTML object>"
      ]
     },
     "metadata": {},
     "output_type": "display_data"
    }
   ],
   "source": [
    "not_equals_contradiction = Forall((x, y), FALSE, conditions=[Equals(x, y), NotEquals(x, y)]) "
   ]
  },
  {
   "cell_type": "code",
   "execution_count": 17,
   "metadata": {},
   "outputs": [
    {
     "data": {
      "text/html": [
       "<strong id=\"sub_in_left_operands\"><a class=\"ProveItLink\" href=\"proofs/sub_in_left_operands/thm_proof.ipynb\">sub_in_left_operands</a> (established theorem):<br></strong> <a class=\"ProveItLink\" href=\"../__pv_it/theorems/3746a35d837f28687496fbbf51302cf6ff4d479c0/theorem_expr.ipynb\"><img src=\"data:image/png;base64,iVBORw0KGgoAAAANSUhEUgAAAwQAAAAZBAMAAAB9dfQJAAAAMFBMVEX///+IiIgiIiIQEBB2dnbu\n",
       "7u5ERETMzMzc3NwyMjK6urpmZmaYmJiqqqpUVFQAAAB6qHgnAAAAAXRSTlMAQObYZgAAAAlwSFlz\n",
       "AAAOxAAADsQBlSsOGwAABzBJREFUaN7tWltoHFUY/vc+uzOz2WAN1da6rISiRQhSsUiVCI3QamWE\n",
       "UgV7SR8atVSbNhif1Km1xSLUIFQEFVfaBoSWRrw01DxsKfiQVtiUSqyRutHSPgglSmq9PMT/P+fM\n",
       "OWdmMrmwpL7sgZ055/z3/5v5zzmTAMzQfim50GgL2mKl+2ek9zVSNEtz65c+34Cgrme4Wpf4pxyC\n",
       "Gt1+ioIgTze70ki23lqmXr76oUO9i3UiWGEQnKb+B1EQmGW8ZRsrgr/9DZB+EO+pesvEYQbB63g1\n",
       "OqMgyNBLcqCRdF/L/I6VAX9g1lsezjEIsvhGJauRawHhtL6RdX/9uIm/Sewk6tWUcAgCC5HMRi/H\n",
       "5xurcqilJ/CHMMClejVlKyzDD5RKK6MhSJRK97Q3su5rTVi33yhg50v8Pb3smTVaEQkMp2k6R7LG\n",
       "IDgFsD0aArMb0k4j676G6X+LHag+wt9AbNwsKlpgOE3TOSxeZw6BUYuGAGmHbkFUA/rgh7lXZX6z\n",
       "I7dshVk0FoIT0ao8YwB3X1kzzDqIg+VaN/JqVQ4Mp2k+DruNQZB2kmWNxVixDs7W1NFsO6zDa/+/\n",
       "T1xfyK0p35JxK1Z5vtANR9JNHnZ5ZrrWhufwnOzyJh7G3RGYlKVNYr3kw9Sa65GVQwiIwQSDwC6o\n",
       "1Xj31R1wOemYjoJghF2tIiSLCw4Bt7JlHnJH6ZKqRdJzbB3bMgtdtRlUCWP8WCAhwNUS36RMs0wO\n",
       "DU2YqRgl1KuXaxMbnjPymThFJ+XCQFL7QJG1SCI/ALGJBYeAWzk9ny0FPSxmeebDz0waDwfeivJs\n",
       "xjDfk94EWxBOuikHbJlyGjaVjZvRapiAKERFDsF6dMMa2r0EYClNj/64V4cgeYn4E1WI4wPSPLjE\n",
       "K0exJXsHw+VSm8wt45836FtIDUJPl0aWEHArRV3AzxbSx040cfB55pNiZ5piyF2pIXDmiYcDU7rE\n",
       "8Sn2j0faBrCx/CskeS5T4A0thyAI1yKNg+UbrE4OwT50ZtORSsJNsUSMJjcf1SAwHqXeu47xGxp3\n",
       "r2a9/dTifOfHIRv65NNNTo+wXLiRaQvtzSRZQcCsGH26gJ8tpM+m+nxQ8+zrLmwVJTVGIfQpz0yi\n",
       "71QaxvyqD+oxBHXZfDHIynLwFMDPr3wBJzgEW/vkkOppiuoVzcmOxsHyjd60cwjy3QD774AmJ8cW\n",
       "6lEYaNEggGt0Odt8F4JqwbYMGHwLW0kXunMjgVecJr3+/gvQAgfoUTA2F2OdJ5b433FGDkDArOQ6\n",
       "uQC3Q2xBM4wsHlG69/s989nuF0x+d5VH/f4A+v0x+B1lxsDc9adXzPcAPNdsD1U5BPFWOYQ9aLuE\n",
       "vzihtgJER3GwfONEWftYPQ5HwHq/q+slhGBDVoeAtevi/hfAa63igOLiAX1r8NSiVYMrMJ65wN7G\n",
       "fHu+0JYKrCVIDkLArNg1LiDsIFvIDJHFloIELwc80233Co0Bd6VHvX7NlwMx+BzNBD+lxSVWbC34\n",
       "Xj0k9DDY4UqkOCjfAG+CBsFD8E0m087fgtxICILVwok2A0AE2gOuAcEigZPW6e/4NuM+VBpnbsTL\n",
       "iW43WIuQLFkFBKu9QElA2EG2kBkinzt+0asNvZpnvHgo22Ne6oS7vBApjwKFqFePQeniY3sguMcf\n",
       "8EGgdlfvwNsAyfBKrDgo3wBDGgTGBCwf5adk3BkvC0Jg4DMGG2Bfss9kgabajba1tE/egV0kiAub\n",
       "tFto+dsAsDw3QWlAWrz7JJ4/yopRkDmrhIBZYYsnE2iVWtCMkhX6RjppFY4VaAjKM9GEbVymSUcR\n",
       "pLvy+eUeIV0PAFVpMShdfBwLHeRe0CFISbLx/Ktf4TIWXo4VB8s3+0LtQZCrwaIKHMAXK3OvK/cg\n",
       "EoKWSQynp2re+djtLNDMI/D50WaHPl9gt8fNrKKLmLxGy19PFca+7aM04LQ99CL7ENJT5YyrPDJj\n",
       "lRAwKywuJtAqtaAZJSv05bsP0hczspp2QXommrBNylAHavTc9VImPEKSLwBUpWLQdLFxOnQ43ehl\n",
       "dO1kQZ2eITE1NTHNyVvj4PlmCv1/uEw93rUj8IFCb2IzRIHavNsRk101WYwNY/DVlJuusDTY8Czs\n",
       "hKRTkBrAI3NWWYjkCYgEmB3ORmaULNcXh6XHWA5sdb6SEEjbtMmryjNVh8yB5xHR9QA8VdIxoYuN\n",
       "N4ZyahTqOg0tBpjf345z3KndKzEZx/j2bOoPr0vtmDhg2k8Sc77wGWRuW0/T47k++GSq6GkAj8xZ\n",
       "gxCYLhMgO5yNmVGyXN8WuIgbuEFmVezjmWd8tfVsoy4UNF3lrlgNhUdE8QUwqMWgdPHx4IKcSucD\n",
       "gaXvPqfrVnzMuTPt3vTxRUENGjkEAXRoApLN0sx4ZPbxB60mg3sPKTXMBTuCkXkahoMBhFRpHpT/\n",
       "Bwjeu2X/R+QGD5Fzax5n5EcxZxaNzhxm5u/WPFqstPo/HWBYCyITJV4AAAAASUVORK5CYII=\n",
       "\" style=\"display:inline;vertical-align:middle;\" /></a><br>"
      ],
      "text/plain": [
       "<IPython.core.display.HTML object>"
      ]
     },
     "metadata": {},
     "output_type": "display_data"
    }
   ],
   "source": [
    "sub_in_left_operands = Forall(n, Forall((P, x_1_to_n, y_1_to_n), P__x_1_to_n,\n",
    "                                        conditions=[P__y_1_to_n, x_eq_y__1_to_n]),\n",
    "                              domain=Natural)"
   ]
  },
  {
   "cell_type": "code",
   "execution_count": 18,
   "metadata": {},
   "outputs": [
    {
     "data": {
      "text/html": [
       "<strong id=\"sub_in_right_operands\"><a class=\"ProveItLink\" href=\"proofs/sub_in_right_operands/thm_proof.ipynb\">sub_in_right_operands</a> (established theorem):<br></strong> <a class=\"ProveItLink\" href=\"../__pv_it/theorems/fd2a08f49909623042a562d41ddc6d334d44bd9c0/theorem_expr.ipynb\"><img src=\"data:image/png;base64,iVBORw0KGgoAAAANSUhEUgAAAwIAAAAZBAMAAABwa4ROAAAAMFBMVEX///+IiIgiIiIQEBB2dnbu\n",
       "7u5ERETMzMzc3NwyMjK6urpmZmaYmJiqqqpUVFQAAAB6qHgnAAAAAXRSTlMAQObYZgAAAAlwSFlz\n",
       "AAAOxAAADsQBlSsOGwAAB1xJREFUaN7tWm2IVFUYfufj7tz53Nm0xVq1aUKkJFhDyB8aY2igKVxJ\n",
       "pCB1JdxUTGdbsF/mmClJoENQ9Cec8AMCyy0wN1tqRChajWZN2UqxMUR/BMsWqUXR9r7vOefec+/s\n",
       "zLhM6685MPfjvB/Pe9/nfO8C1Ci/pHPQLJNZfOlHa8rzzRTVK2YDtty8zzUZaKzMaMD2fcFAmW6X\n",
       "qzGQoFu82My0e+zYdmtk0wlOTaYRN0Vm4BQ9v1uNgWgBb+HmbOAprTg6vGDhw3MNuXmbGXiVBrOu\n",
       "agyEqIvsbabcU3YmAX7GHww05OYsMxBGKoOlqvMA0bSimXJPeSCLPxqAOhtyE7CIgRgORuHqM/G5\n",
       "5oQ8TtlGP2Qh3lhqwkVO8GPp9LzqDATS6YcyzZR7yi2A0G94j2JqVg6AUbYlRkcR1tYy1dWDZWbg\n",
       "JMCG6gxEs9BiNVPuLph988mSbMSZ7yE2aouC8U74rpatrh4Tg8x+MMvVGUDZ/rvwTX36yw8TMEzW\n",
       "MfGJWzxXW+6UeK4uGPj+XbycFongL0Go9AkknJXMjmgKrtciT1dHtoiBFitY0Dd5c5bBmbKzI9sA\n",
       "y/B69O+nRyZzTSpiEiixwgQMo6IxFepwO3hn3NfUVGCYMtWIAwUwYC4EksY3ssYKJGGusXik2rgh\n",
       "1BUdo8xAPOlMxD3XN8OVoBW1HAaG+BpLQTA16QwIlLUTMYzwJFXD5DB/d7m2XMtQuS6Y2A4oBiBy\n",
       "E3Zme+5ROset0O0oRKsmi9XVc6dc6py2OT5J++NkX1A7lQjHiLFEH/hGJ50BgXJqwruaWia02hYb\n",
       "yxpyrZkX6oLhdkCtTXAUgmgepgCcVyqfga+ztWDertqPWF2OQinBwAr0Gxvo6QCYTtXDP+3SGQj+\n",
       "SCEGSuDH1tHW36HGIl/Hrv7KUVWrjMwUZxp0AFKGiqaliW0GBErK5aceDm9WUhV6NiTvdfzgil2H\n",
       "9+yFKjX18OXO6AFFUwu2zpYybBUMGFS1FStiFjJgVGafMsnqZ79uo9Ev1iUY2I3unz9UDOQMzsNw\n",
       "cM1hjQHzCXo6YJm/4lfmrodVwNMSXe9VQOiVK1utXtmzkzdDFVsXR+wwwChm3uWnHs4lilEziXZj\n",
       "2eJAxulT92mxf0oKRRs+7p4IdM0KXwyG5SBoy8loOfKPYGAd5esLOI4LJBxM6c34C+TFfiN1Y3AB\n",
       "zJeLWWIggcPSnvug1YrwCdww9LVrDMANupxpm4EExmB9CEyxdi22JLORIU/3p0r1vOc8tMNeot1c\n",
       "k/J1fdjh7t8s9jDAKJEu6Ydt6+IcpQbtNlGQHCnJSIljd4IgeHYbcZ/IKE19bUK+HDDkcGy9mkqx\n",
       "8xnXOv4UDPhn0ZS06EvsQC9b4m0OyIufiE5bQt1cmYebVFnQTqevwiGIvdPd/RIysCqsM8BlRN4R\n",
       "a8csOR3lIADrvEdWWve9BldD5zkliUwi2Wl45hEUexlglHhZ+JG29XC2j2MiITnSELm+ImPXgkB4\n",
       "dhtyM6A09UK+HDBXmc09IS/ngYtctxREK71Y0XXjllRPJGkShtdAY+Bx+DwUyog+EBmqYGCB5LzT\n",
       "BJAM9ELOhF4PBlbGTn0rJqpH0KmfMf2FQDbnHYhQbKtKBhiFU4J+pG09nEseEzFyMCRHyqPMdhk7\n",
       "BSFGIYJnt55RSGmePXYBdF/8rkYh19naUnimJBnIUHqNhQBvwhv85ilBkOqBbLQvK871FAPmKMwe\n",
       "FntjXBDP9DJgUqtYBbuD+SgzYGTMzqW0lN6MjyiQF66Mt9PEuArbR2SUUoIyf/Y4TkEFR1GKharN\n",
       "gCnaXgqEc7a1cRxjFw60kS/NRM2oBEkM+JIUAMjYW+yhkKIjt76k7tnWHOryg+5LvLd5c9qSgwex\n",
       "O8mZGHuKP5nIgPniKyf4zTv34Y/VD4B/R1YcSSsGImWYWoS9yEvo4Zy9SLEZaP8DP623FL1/0b38\n",
       "XaGF8PHhNovOLPCxNxeaTxdZeYMmxt4SXPoqTynB6vjAJj796C0JxflKzKo2A4wCsBGEH2GrcBxj\n",
       "Fw5qoy/NRHV4gpzFOUJ9TJSI/aSdDYIntyjSPSvNRHYf6L7E+8aKDVYXXKa55fWDi8T+On4a55bA\n",
       "2Nho5W5b7KlZ/SPwLWdo718pjae6N3tOJfQil0Hct8XjEp/96FSmfIOYiJKRaylySuLwLGyBoJW0\n",
       "PYASC1V7FHLvkYStjeMY6zi0fiu5TEQhSI50NemrrRQHIT6V4MntardnpemH6Ud0X/xuVP4dZVcD\n",
       "m6BpABP7O3FEfF7PPAxYRBce+109Ujkid5Xx5aScSH4AoSkrqPpqJA8Hx1LKAyixUPUyEBWzrLS1\n",
       "cRxjHQeVUaCbyJUFQnKk/awvtwoUhJxdEZ7d9ns8S821cKGo++L36CQczEyEgZi+HBzvsehSjpzO\n",
       "qOpjU70eNHEFA7BkXJzYuDiDQrDEG7oNWWD9oPecRsGT3OU5WHmio3zVPDOaHAbeumv/L5Rzn17d\n",
       "ebHqmBhuvaryCo81wP7H4ksv+A9eYVincKN3NQAAAABJRU5ErkJggg==\n",
       "\" style=\"display:inline;vertical-align:middle;\" /></a><br>"
      ],
      "text/plain": [
       "<IPython.core.display.HTML object>"
      ]
     },
     "metadata": {},
     "output_type": "display_data"
    }
   ],
   "source": [
    "sub_in_right_operands = Forall(n, Forall((P, x_1_to_n, y_1_to_n), P__y_1_to_n, \n",
    "                                         conditions=[P__x_1_to_n, x_eq_y__1_to_n]),\n",
    "                               domain=Natural)"
   ]
  },
  {
   "cell_type": "code",
   "execution_count": 19,
   "metadata": {},
   "outputs": [
    {
     "data": {
      "text/html": [
       "<strong id=\"sub_in_left_operands_via_tuple\"><a class=\"ProveItLink\" href=\"proofs/sub_in_left_operands_via_tuple/thm_proof.ipynb\">sub_in_left_operands_via_tuple</a> (conjecture with conjecture-based proof):<br></strong> <a class=\"ProveItLink\" href=\"../__pv_it/theorems/0cb2155de6abd7c37dc69c633848e1d8021b47070/theorem_expr.ipynb\"><img src=\"data:image/png;base64,iVBORw0KGgoAAAANSUhEUgAAAvsAAAAZBAMAAABdvPzdAAAAMFBMVEX///+IiIgiIiIQEBB2dnbu\n",
       "7u5ERETMzMzc3NwyMjK6urpmZmaYmJiqqqpUVFQAAAB6qHgnAAAAAXRSTlMAQObYZgAAAAlwSFlz\n",
       "AAAOxAAADsQBlSsOGwAABvtJREFUaN7tWl1sFFUUPvsz3ensznaK2KiFslnSEOGlGIw8oFkMmIhg\n",
       "pklFDQIlhgqNhsUqPqFLECIxgY0JxgcNNfwkJiCLClTswxISlCKxrZiqNbD1Bx40TTXyY0ys59w7\n",
       "M/fOzG7tsim+7E06c+eec+535pt7zz33bgEmKD8mM1AtU1amJfsnlGerFJUuauXWsXyV/lstMyuy\n",
       "1gxOf4EefihFf5xuer5KtlUCm66PbjzOSElV1tMMTv8pqr9Tiv5oN95qqyuAU+owIjxrYuXpCjuq\n",
       "NRn9r1Igai9Ff4Qmx84q6055DYPGZQocvRV2FMsx+ukrhPtLxv69eFtRZd0ps9L4R3GnpdKe7mf0\n",
       "0+pbW3rp/bK6ArvKJvrDT6BXTMq7PPO5L5lcUJr+UDI5O1Vl3SnXASK/4z2KpCj1v7wkR4bWpieX\n",
       "TJjJuwwe5/SfBFhfmv5oGmrMKut2QerVh4niWmQuCk3GR5IwFxiJJiaydhmc4/TvBrVQmn6U7b4N\n",
       "r5WTH76dfB7Ib3oZqVngloAM2/qfJcspGYQgfoMv4CvzN2kxzcSuxSfM0V0GX3P6a8xwt7wdm7cM\n",
       "zhTEtms9LMProb8fG53K9JOnXhwl1l3uZ+u7tS9dBlDUuteMWZUQ2qbhU4oo5+yZAVEkTFkyWjJa\n",
       "cAM7h+L064ZYeTdf6YRLYTNqCvoH2DWWgHBiyunnKGvKsDvAQmoByjVhpQwgLSXSfod+gPnE2TRH\n",
       "K2TQh5ooAM0X1f3WoUP2tPONT9IO2MiFpUOH2hhNvHgOAmNTTj9HOVXm5oXvDcszYaUcoL3WkLXT\n",
       "EAo+oN2EJwAGHaWjGcWs61ZvlP6KzICXQYv+Fdh1rHdzI98Iw9D322T6w9+Ru6F+COIYq+9ptENQ\n",
       "oHFbjz+wSo1aEz+ywPJ+AXwDVBI79HOUhGzgVvP1x3YsQXB5JlWLeSY2OYkyfLQSlln2l64xQOmM\n",
       "t0CK008crez+CcIQM5F+xc88algG5z+vpwB41qJ/O8I+sz8fyiiMhKHw6gMS/epDVNtjqr/iO2Su\n",
       "1NrO3xVvf8+HITe21pldVr5lXIv4dilCLOhnKGpWNnCr+frT6UV2uTyTnSzmGZqc6MCSR6DJ+zjM\n",
       "b/tsUbgA+o1VLVo/o1/5C5suv/wxHCFRAtZmrTanQhduoPQtgoXY8olFfxx3ETvuhjpTY8v2EOQa\n",
       "JPrhKl3O1M+kMwpYFwGVp6n5GiOtDXjmLzXa9R2D0AA7aVioqxOB9iON7hDBxB76GYrWzg04Dql5\n",
       "YZjYGp90P+TyjFW9aJJnmn3CgpXJ+3iIXU+Mr7PX2QQox4zhCzyKQBL7WFWv99J3f9GEYDPe59HE\n",
       "zFkV0uAGamsWrmHDXPnAeQSXgtjbHR0vIP1ttTL9rIxa95sAW5utVSgDIVjrPZGSpv3PMBIZZIE2\n",
       "noobLYpn7UCxl36Gohe4gYWDaj4YElsskOElj2dY9aEJzyI2/QQ0aR+3eGfGHJCCOOgi22GD4Bvf\n",
       "9BMacUPDeaYmZPofgM8ikRQf/dqAj/5FlustKoD1kl2QUcEbGLAxduoCX5/mYqdBBhrsDqUz3rmN\n",
       "YkfVon+RTQ8ZWDio5oMh8fnDF+3gs8XtGVV9aMIzJ/gQ0KR9HPbSed5Ff1gI3oQ3APwHBUIjlI7m\n",
       "0hDNS/SrYzBniO9+MYlu8tKv4oCCNtgezkbZSyopteVRyqA7sYoC68Ia9QZaPNtwfGhj9GooC6aP\n",
       "4mLVLRQtMVd16GcotCJyg2anF4QRtlZ/A+204gYMegThme0kopXwLGCIpbeIj8LK5WO9l86ajEx/\n",
       "qxj8z71yHFcSH/1CYw8Et6bZMbJDv1aA6XnYieExcm/GWe4d+hv+xBHS1R+9Z/Gd7CUjD8KxA/Um\n",
       "HUlgtSsTWUgXq/EqrmmoDMNns/Rq2Kz3bmSHG139XHGhLWaqDv0MBWADcINmpxeEEbZWf/H0LkYC\n",
       "PiITjme2kyehlGeCNwTy+yisXD5u8K3/dgx7fd9isSvGsT0+PubaWnv2zQAfQmA579DzY6PySEen\n",
       "59BBLlY+QVNc59WlAacqGhOBPqSxX8nU5NnE1uEpeB7CpuH0ALaYqzrBx9kXkQHD4WoEI2x5f0GY\n",
       "cRCTPXq090Tcgk91Qivu2UoJqJiPejEfFf8vItsq2ugEMlDmb70aZ2rzAnzDg3wHM/6HXaXCa0pB\n",
       "X07KceMDiNyxgppHtCzsG0/YPYAt5qpe+qMZZkA4XI3BCFve3xq4iM73MFQro+cWPEFEtBKe9UhA\n",
       "RXwUVrKP0Sk5cSmL/picxxWr5l3K2umU3Xx4urcHSeyjH5ZKBo5aTIKxxezUJk9j/T+clDyTD3qW\n",
       "FvFR6Mo+9sH/QP9bt+3/fFw4yqTNFLGlLNekPKApOXOfNjv/L7zmS7nvn5GGAAAAAElFTkSuQmCC\n",
       "\" style=\"display:inline;vertical-align:middle;\" /></a><br>"
      ],
      "text/plain": [
       "<IPython.core.display.HTML object>"
      ]
     },
     "metadata": {},
     "output_type": "display_data"
    }
   ],
   "source": [
    "sub_in_left_operands_via_tuple = Forall(n, Forall((P, x_1_to_n, y_1_to_n), P__x_1_to_n, \n",
    "                                                  conditions=[P__y_1_to_n, Equals([x_1_to_n], [y_1_to_n])]),\n",
    "                                        domain=Natural)"
   ]
  },
  {
   "cell_type": "code",
   "execution_count": 20,
   "metadata": {},
   "outputs": [
    {
     "data": {
      "text/html": [
       "<strong id=\"sub_in_right_operands_via_tuple\"><a class=\"ProveItLink\" href=\"proofs/sub_in_right_operands_via_tuple/thm_proof.ipynb\">sub_in_right_operands_via_tuple</a> (conjecture with conjecture-based proof):<br></strong> <a class=\"ProveItLink\" href=\"../__pv_it/theorems/80b7454f359e46c236fc63c409d20e976563fdbc0/theorem_expr.ipynb\"><img src=\"data:image/png;base64,iVBORw0KGgoAAAANSUhEUgAAAvkAAAAZBAMAAABZSSzgAAAAMFBMVEX///+IiIgiIiIQEBB2dnbu\n",
       "7u5ERETMzMzc3NwyMjK6urpmZmaYmJiqqqpUVFQAAAB6qHgnAAAAAXRSTlMAQObYZgAAAAlwSFlz\n",
       "AAAOxAAADsQBlSsOGwAABuRJREFUaN7tWm+IVFUUPzP7ZubNnze+VVuqNZtWFkkJtlCS0BojAy3l\n",
       "SUv0wT/rB5cS07UF+xDmiLngFx2CIqhowz8QGE4SuJnUiCS0Fc2qsdmKjGHrh0C2WLMs2M655773\n",
       "7ry3szOz6/ppDrz3ztxzzj3n/d79c87dBZiAfm3JQJ2mi2a2FCaUZ+sQTURTGJo63RL5OvqTpkBh\n",
       "8rYxk9Ev0o/L5dBP0sPI16F2qGls2/D7FnEXp9LNHEb/FPHvlUM/3ouPaH31V+gfgPBifIamtDJE\n",
       "LYH+m7QKdZRDP0JTo6cOuUuRP3AxwAviU1oREjmBPn0ErVB23X8HH6vrmCur/S28RpFpmFo/iwX6\n",
       "tPFGy++639c331IKj+CFXwAuTa2fDzjneaylZVF59BtaWual65i7NANX6d2UsXyOS39zHja4orWn\n",
       "IVScwLREfQ2jfxJgc3n0410QtuqYu4TIv/WIHLya0QY/uqL0BUiMTGBaov4to38A9GJ59FF24C68\n",
       "U0798XMNhuakTUQuXXU2F7CZB6890y8Y/AS74ikYdvfjwglIdkzQR4n6BUY/bGm9ahW2cBWcLbrV\n",
       "1mZYhfej/z53YzrzTg6avSR6azCMcwZRu4mg/trHx3a74QkAq8GER2Gd3BdDyDeY7Wt+K9cFq9tz\n",
       "iNE3THfT3TG8Ba5oVtxy0R8Q90QKtNS0o89eNtRUNIpNaRImAq9i9VaH3XTfQR+OW5FbkUYbmNhN\n",
       "2N2VgxNl+yB1mz8kTxqyZ5xRcZLqXjOnKScN0QTN1GQOAiPTjj57OVWTJaXEkzER71vDlInyiIyM\n",
       "2g20+H8BgTYwbPTjWZgFt+FgV7k+hLqk8xL91RhN4vSOZi5/YfCXPSr62iVy21CAIA6Uxr5me/0J\n",
       "NO/p86+OSmNsLp9TIH1cBN8oU8QO+uwlVdJPJT+iGKnCRIndqV+CamilAfkilzVR4LYt2oTXNggX\n",
       "GX0CCflt8A2h789TQiDVGWmAcxL9vdj/ukP5hkxIYDCorT+soK8/SdxBS/8dXWeGo3Zhdm+y40Of\n",
       "D7Vx7QyrW3o2b0bavKqu2EVfeNGzJf1U8jNEMVZhosQ+BPFOpK2wXw2tNCBf5AYv/NERJWWEr+B4\n",
       "XqAfogUpXoz9h4+n+Ze4bcwqjFAXSHPCKtBP4kzZdx/MsGKidh6EXJOCPlyn29nGB+hgAjZFQOf8\n",
       "NB82u2IDnilPjTa/7zw0QQ+NAn19KtDxaXPpNBdiD/rCS6xD9iNsK/o5SsO2ChMRu2siGREavxEF\n",
       "5LUSYjk1xDO+/S87ZXqN9pvlX2d47Leg59C15r9xbWrlX7CQZlfOZlqlukAa+QXqCfNV3AYS73Z2\n",
       "vorot0dV9AXdkE/sfVerLDsyWGxv9NYiSmJ0Da5Gzgs4kumk2Rby7Bso9qIvvBhF7kfaVvKzs1oT\n",
       "it01EXSFQ5NvhAH5rEgs80lvLhkU338lMPqG8KwhYjQCDP/S8xNIdUIav2tKRf9x+DISSfPYjw34\n",
       "0F8qQ2jTAST63ZDRwTtXsTFx6gdOKhZgp0ERRrC3oSvjXXxQ7KhK9Jc6r4n9SNtKfoaqNaHYvzt2\n",
       "UV15dnJo8o0wIJ8VidnIyPnPybRsaJlEXxPQvlAAPadnQPNvO2mQ6oQ0n9E56OsjMH+Qa17Mged6\n",
       "0ddp3LTDXi0bF+iH0nrbSkqBtyCLAnkTjUYTbYLtAPNjIwQHyoJdx3FP6nUVpZhVHfR1Hp0p4M6F\n",
       "rePHNS7xA43UVyUTO/aBjqAwcXddEVqrE6/HkRCzUcD04vkyBM1kWqK/Fq+HcPpAz+tvWOKXdwcB\n",
       "Vmekxbmxg36sCLPz0IOTKfJwxtn7HfSbRnFQdRfi9y+/R8QaWQafHW606BwC2e5MZAndZON12gS7\n",
       "CzB0LktwYLNx+hVxotFdYMUltlioOugLL/RW3A/b2n5c4xI/qI19VTKxY0927WcH8sQsw6G1OvF6\n",
       "HZGYjcK+YvNFMM7gNqGvHDW5gL5MW9tTY2Ml5bRSKwt1RlrE4PnLYujZzi2ekwaVZMpA89RgdkXA\n",
       "Yd3GVKAfUSyEMuG8WAoMeAm2gmaZTg9gi1nVWXlK6xq2dfy4xqofytMKlU0kF4Q5RyDUodRdFJp4\n",
       "Iw7I64jEwgix9pJuTuGcOgM1/l03xkDtWITRHeH0a+xPmyU6IgtI43lSTpqfQGTWamq+GsvCR2Mp\n",
       "uwewxazqRT/Oo0zaOn5cY9UPKqOgoonkNsDFvK1M1CdCozfigHyOSCyMoO/Ol5g1oZ9QU77x2HyJ\n",
       "cuxM2m4+NtvbgyL2oQ8rxvWTGNdPPwsqmSRg3MMdzXJDcwJSHdni2k6S7gz6b9+1/+fJ+OrCKsma\n",
       "tImPn5BCd/6dZ87L/w/QlEVr+o7IGQAAAABJRU5ErkJggg==\n",
       "\" style=\"display:inline;vertical-align:middle;\" /></a><br>"
      ],
      "text/plain": [
       "<IPython.core.display.HTML object>"
      ]
     },
     "metadata": {},
     "output_type": "display_data"
    }
   ],
   "source": [
    "sub_in_right_operands_via_tuple = Forall(n, Forall((P, x_1_to_n, y_1_to_n), P__y_1_to_n, \n",
    "                                                   conditions=[P__x_1_to_n, Equals([x_1_to_n], [y_1_to_n])]),\n",
    "                                         domain=Natural)"
   ]
  },
  {
   "cell_type": "code",
   "execution_count": 21,
   "metadata": {},
   "outputs": [
    {
     "data": {
      "text/html": [
       "<strong id=\"multi_substitution\"><a class=\"ProveItLink\" href=\"proofs/multi_substitution/thm_proof.ipynb\">multi_substitution</a> (conjecture with conjecture-based proof):<br></strong> <a class=\"ProveItLink\" href=\"../__pv_it/theorems/9916704dbdf0bb8da6a6ca814cd81d2141e6975a0/theorem_expr.ipynb\"><img src=\"data:image/png;base64,iVBORw0KGgoAAAANSUhEUgAAA10AAAAZBAMAAAA4dFmLAAAAMFBMVEX///+IiIgiIiIQEBB2dnbu\n",
       "7u5ERETMzMzc3NwyMjK6urpmZmaYmJiqqqpUVFQAAAB6qHgnAAAAAXRSTlMAQObYZgAAAAlwSFlz\n",
       "AAAOxAAADsQBlSsOGwAACGtJREFUaN7tWm2IVFUYfmf23p27M3Nn71pJtSbThklKMYVhRFtjWGCl\n",
       "3MgsKXX7sWZisrZ9/AhzpJIiqCEw+lE04UcEmpN9aLrYSGS5Zo6rYWXY2If+KGKDRItgO+c9n/ee\n",
       "mdl0MGrowL3znnuf85x7z3PP+77n7AKMWr7rysH/5d9QxnSV/wYq3+Sj4NSwG2MySq4xXuROlv7X\n",
       "Cy6qYZ9+iXu170XKjfEiN9GrQi98U1+vFP1xS80pl5ul58R0X9pnXsZVu/juTfR8sFHecUyvbbT+\n",
       "cn29EgXy09akUWwunmf1l6V95qXNN69Zx7vJ2c43yksPotcT1Df21NcrRifhqiZ1hwN47l7vS/vM\n",
       "S7JoXmv5upfO31KjvHiUUDarPEr8Wk1+ZjapXhmMECeU3Ui52ry0CedcS+O8V6NeNOVoGy3f+Kx5\n",
       "0w4X38tKK7uR8op56UY8f9U47yssP7yqq2vKaHq1dHVdkm1OvRL0vZLfX1Hktt3x48O6K7l9/F3T\n",
       "67qfQINZxu3Pr/oJkw4C7CzBfI14AOxKPV4dPosdVK8tAL2j6ZXog1a/OfVqw8DS7gk7AeO9zdr9\n",
       "YuRoIl1XcL3BbrzShYWL8auYIJabgX2qXfYAJIfr8Abgu9lB9XoenGoyZ3W9COL5s/+lcwdVKw+N\n",
       "8N8vaxEYq58va3cmsVGcPC/0CftT2Of/rEX6XPJEqm6uEGhwwFzrnsSfywGWE92Pyeux8mZI1cvz\n",
       "AvAD7KB6tfpWQeeffAt8RAQsBtbLvXALNe8ZOIt6tbKfwZoA9kjJwiiCq7EujPpxEFePoG+l3Qcf\n",
       "UGe0WwwrJMj729N/qeleWANeVpjxkc2hawH8Fg+uhHt5jLSJ3eLNnvVjLV4G13hXML1cT6Uby44t\n",
       "hiOWn/DDeu1n6caSN866XnV8+lo8z6+9DRAKsfPrbRlkA3rdqNl0kJaNUfm4R9Wt5xOvVOYa062l\n",
       "hV4kU4ydjHUIIpKSrugrwuaatBSu867h+1H5nfKj20L3OryiBWG92pLoQE7AWdcrURhlNbqtNsPq\n",
       "YHVbvd5WB/zhUmXHT8GdAENq2HK2315wTtaWHhuwMmTEr9aK8IdkHkYy4Aq9yLw9B/7gnrhaQbjG\n",
       "O8T1mkkePTmwrJNvpxz6eqUFt26fvL2g6WV9RcfqyBT6Qh1bO0WI0UwtznSu3Crs1ytQMU31quPZ\n",
       "XpemVzRIoIPYMjFtdCuZQ0vEtEGlPYTAtnpqihDbXpzK0Ng9hC4LYE7he7Ag6RO97Co+C0SDPZ90\n",
       "0C98l7lcZpHyPvwoiHhUL5sLuRQ+pnqZrtYGDme6MN5dXK8nyRvcu6bUkrMx/B2y5q015pdzPQYE\n",
       "CojkjrXxBFcztXJ+qudV0a93IpYxTC2nbff7Q3o9qxG8v5CUkgS59JmcvOo2Qe8vUcyHg5E+r1GF\n",
       "oRJrUf2cP4TtnrwnEy8zvRYQgm8feQc2MrdGq/bv/LqssQb24HVwDUvbQ+WFgkzId8CmEuqFBIlK\n",
       "/E/0xCYnq1E46sJ53+V6pciMfPoCaPfjmAcdguJYQy84ji9NLybhvhg4uARAc2NnyIOVWj0xx515\n",
       "6UgPw6IZxj49BGNDeq3nBKv8AIhW4/RzIadQt4p5fXDy9gSeRUJB9MMSirRKCohtv+0d3ssdUHQC\n",
       "ybA63AH6bTzkYxUm0+tFceryeQPn9jwGi0mGXiyTgYdoPJ32YQ71Qib7h85TpMsJyKJxTuY9Ixx1\n",
       "4byT9L+nHCXhLPnSwoUPEr1mt5l6sRFlcNLN8gkgzIwdXkW0K2eVyqY8jqWmgf2BdBzU6wgjiA35\n",
       "OgirMTrUbsXoVjI/GszMKsFnEVBmSexE/NaVrQWiL5TQvYGq7EI+ZMqLk4nrmFnJDh4m8bOZASx+\n",
       "MSaLjCz9Dl3TITLADKYL46WH0msqbI/Fsmx+xfeH11/CF2OnsYwDwDSgZs5wc/2QS27biwTRAmnD\n",
       "sNQ0sJNgqoByvR5lBBD1hT+kIKyiP6SiiW6Zk1PMQX+I8opn0aB7NhzUfece8o0Ir74nqJcag+fg\n",
       "Gb0qkz9taBLFPnNX1628KndsrbzdzfXKohh3lMEpOjmNRV/9MjjVhe0W00Pq5QzDxENsn4Osf8aH\n",
       "9zd4WeDDbHjSyidQL2G2FsDOkho/OZkZUHTHkmhPLkT7NiFWmAQ7W0PDxPgwQvV8AwlQIDED4sNY\n",
       "jXi0SVp1K1I8zgwdQfI0qGfRoPt7ojRVktM6B5fOVbamly0X1c79j72nVVX8VWEKosv7zL9hRHvF\n",
       "6C2CqJfKMr2Q6WLiN2DVY4/7GovMNwgA4UwX5KWH1CtegXNLsIrMn9hlOS1nC+pFwn5/OXHhtPNQ\n",
       "A2GSRUCsG/pzsWvoqRveXtvhw3ES7YntDjyAWGFuoc0YkJzKcHhXHqFKLzJkSKDpRUG0Sm6RJotA\n",
       "dis+Ys5MbgXIF4F6Fg2a6nsWsWJsemDnVmWz8tRr09SGCpk9IyPDWrXKjspbELlNI5VLdpnIzgF3\n",
       "J1lgODN+8xjTNzTi3jAyUmVfBgEIZ7og7yIw/h/Avnnh4qr7h8p1APccE6Rp+aQ/Vw0ez6Ujgz6x\n",
       "74YlDMtMxKqMsmznSEhEqNRLLGSVXgii1TnY51pQ3bIimOloa+QCKTvg0CiMW6eUAVipvevKhlaQ\n",
       "kVzte47XGC9yn97/bzxIksQ4e/NlZCXGzddGyAxfJ9Hr+C6Fexu1j8bziOUmxcalEHE/5b3JoWo/\n",
       "in3rsXNmqlD+Jqtuxe4TOdUtz5U4M7mjkwuk7IBD58PBkrj3Hyunp9c0j6bwqrGew1exqL3hXMNM\n",
       "agTxnVlj/9AKZ0sCRLcDaeObwg8omAeD5FWQ6nkGoWn1evEf+v9DR20aVP+DUOi32m5D9RZ/B/tf\n",
       "KGMuKf0FuVGQhLOm7Q0AAAAASUVORK5CYII=\n",
       "\" style=\"display:inline;vertical-align:middle;\" /></a><br>"
      ],
      "text/plain": [
       "<IPython.core.display.HTML object>"
      ]
     },
     "metadata": {},
     "output_type": "display_data"
    }
   ],
   "source": [
    "multi_substitution = Forall(n, Forall((f, x_1_to_n, y_1_to_n),\n",
    "                                     Equals(f__x_1_to_n, f__y_1_to_n),\n",
    "                                      conditions=[elementwise_equality]),\n",
    "                            domain=NaturalPos)"
   ]
  },
  {
   "cell_type": "code",
   "execution_count": 22,
   "metadata": {},
   "outputs": [
    {
     "data": {
      "text/html": [
       "<strong id=\"mult_sub_left_into\"><a class=\"ProveItLink\" href=\"proofs/mult_sub_left_into/thm_proof.ipynb\">mult_sub_left_into</a> (conjecture without proof):<br></strong> <a class=\"ProveItLink\" href=\"../__pv_it/theorems/10dd19215fbedd4fa38c5f4f405bece87d7c26640/theorem_expr.ipynb\"><img src=\"data:image/png;base64,iVBORw0KGgoAAAANSUhEUgAAAwQAAAAZBAMAAAB9dfQJAAAAMFBMVEX///+IiIgiIiIQEBB2dnbu\n",
       "7u5ERETMzMzc3NwyMjK6urpmZmaYmJiqqqpUVFQAAAB6qHgnAAAAAXRSTlMAQObYZgAAAAlwSFlz\n",
       "AAAOxAAADsQBlSsOGwAABzBJREFUaN7tWltoHFUY/vc+uzOz2WAN1da6rISiRQhSsUiVCI3QamWE\n",
       "UgV7SR8atVSbNhif1Km1xSLUIFQEFVfaBoSWRrw01DxsKfiQVtiUSqyRutHSPgglSmq9PMT/P+fM\n",
       "OWdmMrmwpL7sgZ055/z3/5v5zzmTAMzQfim50GgL2mKl+2ek9zVSNEtz65c+34Cgrme4Wpf4pxyC\n",
       "Gt1+ioIgTze70ki23lqmXr76oUO9i3UiWGEQnKb+B1EQmGW8ZRsrgr/9DZB+EO+pesvEYQbB63g1\n",
       "OqMgyNBLcqCRdF/L/I6VAX9g1lsezjEIsvhGJauRawHhtL6RdX/9uIm/Sewk6tWUcAgCC5HMRi/H\n",
       "5xurcqilJ/CHMMClejVlKyzDD5RKK6MhSJRK97Q3su5rTVi33yhg50v8Pb3smTVaEQkMp2k6R7LG\n",
       "IDgFsD0aArMb0k4j676G6X+LHag+wt9AbNwsKlpgOE3TOSxeZw6BUYuGAGmHbkFUA/rgh7lXZX6z\n",
       "I7dshVk0FoIT0ao8YwB3X1kzzDqIg+VaN/JqVQ4Mp2k+DruNQZB2kmWNxVixDs7W1NFsO6zDa/+/\n",
       "T1xfyK0p35JxK1Z5vtANR9JNHnZ5ZrrWhufwnOzyJh7G3RGYlKVNYr3kw9Sa65GVQwiIwQSDwC6o\n",
       "1Xj31R1wOemYjoJghF2tIiSLCw4Bt7JlHnJH6ZKqRdJzbB3bMgtdtRlUCWP8WCAhwNUS36RMs0wO\n",
       "DU2YqRgl1KuXaxMbnjPymThFJ+XCQFL7QJG1SCI/ALGJBYeAWzk9ny0FPSxmeebDz0waDwfeivJs\n",
       "xjDfk94EWxBOuikHbJlyGjaVjZvRapiAKERFDsF6dMMa2r0EYClNj/64V4cgeYn4E1WI4wPSPLjE\n",
       "K0exJXsHw+VSm8wt45836FtIDUJPl0aWEHArRV3AzxbSx040cfB55pNiZ5piyF2pIXDmiYcDU7rE\n",
       "8Sn2j0faBrCx/CskeS5T4A0thyAI1yKNg+UbrE4OwT50ZtORSsJNsUSMJjcf1SAwHqXeu47xGxp3\n",
       "r2a9/dTifOfHIRv65NNNTo+wXLiRaQvtzSRZQcCsGH26gJ8tpM+m+nxQ8+zrLmwVJTVGIfQpz0yi\n",
       "71QaxvyqD+oxBHXZfDHIynLwFMDPr3wBJzgEW/vkkOppiuoVzcmOxsHyjd60cwjy3QD774AmJ8cW\n",
       "6lEYaNEggGt0Odt8F4JqwbYMGHwLW0kXunMjgVecJr3+/gvQAgfoUTA2F2OdJ5b433FGDkDArOQ6\n",
       "uQC3Q2xBM4wsHlG69/s989nuF0x+d5VH/f4A+v0x+B1lxsDc9adXzPcAPNdsD1U5BPFWOYQ9aLuE\n",
       "vzihtgJER3GwfONEWftYPQ5HwHq/q+slhGBDVoeAtevi/hfAa63igOLiAX1r8NSiVYMrMJ65wN7G\n",
       "fHu+0JYKrCVIDkLArNg1LiDsIFvIDJHFloIELwc80233Co0Bd6VHvX7NlwMx+BzNBD+lxSVWbC34\n",
       "Xj0k9DDY4UqkOCjfAG+CBsFD8E0m087fgtxICILVwok2A0AE2gOuAcEigZPW6e/4NuM+VBpnbsTL\n",
       "iW43WIuQLFkFBKu9QElA2EG2kBkinzt+0asNvZpnvHgo22Ne6oS7vBApjwKFqFePQeniY3sguMcf\n",
       "8EGgdlfvwNsAyfBKrDgo3wBDGgTGBCwf5adk3BkvC0Jg4DMGG2Bfss9kgabajba1tE/egV0kiAub\n",
       "tFto+dsAsDw3QWlAWrz7JJ4/yopRkDmrhIBZYYsnE2iVWtCMkhX6RjppFY4VaAjKM9GEbVymSUcR\n",
       "pLvy+eUeIV0PAFVpMShdfBwLHeRe0CFISbLx/Ktf4TIWXo4VB8s3+0LtQZCrwaIKHMAXK3OvK/cg\n",
       "EoKWSQynp2re+djtLNDMI/D50WaHPl9gt8fNrKKLmLxGy19PFca+7aM04LQ99CL7ENJT5YyrPDJj\n",
       "lRAwKywuJtAqtaAZJSv05bsP0hczspp2QXommrBNylAHavTc9VImPEKSLwBUpWLQdLFxOnQ43ehl\n",
       "dO1kQZ2eITE1NTHNyVvj4PlmCv1/uEw93rUj8IFCb2IzRIHavNsRk101WYwNY/DVlJuusDTY8Czs\n",
       "hKRTkBrAI3NWWYjkCYgEmB3ORmaULNcXh6XHWA5sdb6SEEjbtMmryjNVh8yB5xHR9QA8VdIxoYuN\n",
       "N4ZyahTqOg0tBpjf345z3KndKzEZx/j2bOoPr0vtmDhg2k8Sc77wGWRuW0/T47k++GSq6GkAj8xZ\n",
       "gxCYLhMgO5yNmVGyXN8WuIgbuEFmVezjmWd8tfVsoy4UNF3lrlgNhUdE8QUwqMWgdPHx4IKcSucD\n",
       "gaXvPqfrVnzMuTPt3vTxRUENGjkEAXRoApLN0sx4ZPbxB60mg3sPKTXMBTuCkXkahoMBhFRpHpT/\n",
       "Bwjeu2X/R+QGD5Fzax5n5EcxZxaNzhxm5u/WPFqstPo/HWBYCyITJV4AAAAASUVORK5CYII=\n",
       "\" style=\"display:inline;vertical-align:middle;\" /></a><br>(alternate proof for <a class=\"ProveItLink\" href=\"#sub_in_left_operands\">sub_in_left_operands</a>)<br>"
      ],
      "text/plain": [
       "<IPython.core.display.HTML object>"
      ]
     },
     "metadata": {},
     "output_type": "display_data"
    }
   ],
   "source": [
    "mult_sub_left_into = Forall(n, Forall((P, x_1_to_n, y_1_to_n), P__x_1_to_n, \n",
    "                                      conditions=[P__y_1_to_n, elementwise_equality]),\n",
    "                            domain=Natural)"
   ]
  },
  {
   "cell_type": "code",
   "execution_count": 23,
   "metadata": {},
   "outputs": [
    {
     "data": {
      "text/html": [
       "<strong id=\"mult_sub_right_into\"><a class=\"ProveItLink\" href=\"proofs/mult_sub_right_into/thm_proof.ipynb\">mult_sub_right_into</a> (conjecture without proof):<br></strong> <a class=\"ProveItLink\" href=\"../__pv_it/theorems/2775fb079e348aa7c6988b10daa960e1ab90a3830/theorem_expr.ipynb\"><img src=\"data:image/png;base64,iVBORw0KGgoAAAANSUhEUgAAAwIAAAAZBAMAAABwa4ROAAAAMFBMVEX///+IiIgiIiIQEBB2dnbu\n",
       "7u5ERETMzMzc3NwyMjK6urpmZmaYmJiqqqpUVFQAAAB6qHgnAAAAAXRSTlMAQObYZgAAAAlwSFlz\n",
       "AAAOxAAADsQBlSsOGwAAB1xJREFUaN7tWm2IVFUYfufj7tz53Nm0xVq1aUKkJFhDyB8aY2igKVxJ\n",
       "pCB1JdxUTGdbsF/mmClJoENQ9Cec8AMCyy0wN1tqRChajWZN2UqxMUR/BMsWqUXR9r7vOefec+/s\n",
       "zLhM6685MPfjvB/Pe9/nfO8C1Ci/pHPQLJNZfOlHa8rzzRTVK2YDtty8zzUZaKzMaMD2fcFAmW6X\n",
       "qzGQoFu82My0e+zYdmtk0wlOTaYRN0Vm4BQ9v1uNgWgBb+HmbOAprTg6vGDhw3MNuXmbGXiVBrOu\n",
       "agyEqIvsbabcU3YmAX7GHww05OYsMxBGKoOlqvMA0bSimXJPeSCLPxqAOhtyE7CIgRgORuHqM/G5\n",
       "5oQ8TtlGP2Qh3lhqwkVO8GPp9LzqDATS6YcyzZR7yi2A0G94j2JqVg6AUbYlRkcR1tYy1dWDZWbg\n",
       "JMCG6gxEs9BiNVPuLph988mSbMSZ7yE2aouC8U74rpatrh4Tg8x+MMvVGUDZ/rvwTX36yw8TMEzW\n",
       "MfGJWzxXW+6UeK4uGPj+XbycFongL0Go9AkknJXMjmgKrtciT1dHtoiBFitY0Dd5c5bBmbKzI9sA\n",
       "y/B69O+nRyZzTSpiEiixwgQMo6IxFepwO3hn3NfUVGCYMtWIAwUwYC4EksY3ssYKJGGusXik2rgh\n",
       "1BUdo8xAPOlMxD3XN8OVoBW1HAaG+BpLQTA16QwIlLUTMYzwJFXD5DB/d7m2XMtQuS6Y2A4oBiBy\n",
       "E3Zme+5ROset0O0oRKsmi9XVc6dc6py2OT5J++NkX1A7lQjHiLFEH/hGJ50BgXJqwruaWia02hYb\n",
       "yxpyrZkX6oLhdkCtTXAUgmgepgCcVyqfga+ztWDertqPWF2OQinBwAr0Gxvo6QCYTtXDP+3SGQj+\n",
       "SCEGSuDH1tHW36HGIl/Hrv7KUVWrjMwUZxp0AFKGiqaliW0GBErK5aceDm9WUhV6NiTvdfzgil2H\n",
       "9+yFKjX18OXO6AFFUwu2zpYybBUMGFS1FStiFjJgVGafMsnqZ79uo9Ev1iUY2I3unz9UDOQMzsNw\n",
       "cM1hjQHzCXo6YJm/4lfmrodVwNMSXe9VQOiVK1utXtmzkzdDFVsXR+wwwChm3uWnHs4lilEziXZj\n",
       "2eJAxulT92mxf0oKRRs+7p4IdM0KXwyG5SBoy8loOfKPYGAd5esLOI4LJBxM6c34C+TFfiN1Y3AB\n",
       "zJeLWWIggcPSnvug1YrwCdww9LVrDMANupxpm4EExmB9CEyxdi22JLORIU/3p0r1vOc8tMNeot1c\n",
       "k/J1fdjh7t8s9jDAKJEu6Ydt6+IcpQbtNlGQHCnJSIljd4IgeHYbcZ/IKE19bUK+HDDkcGy9mkqx\n",
       "8xnXOv4UDPhn0ZS06EvsQC9b4m0OyIufiE5bQt1cmYebVFnQTqevwiGIvdPd/RIysCqsM8BlRN4R\n",
       "a8csOR3lIADrvEdWWve9BldD5zkliUwi2Wl45hEUexlglHhZ+JG29XC2j2MiITnSELm+ImPXgkB4\n",
       "dhtyM6A09UK+HDBXmc09IS/ngYtctxREK71Y0XXjllRPJGkShtdAY+Bx+DwUyog+EBmqYGCB5LzT\n",
       "BJAM9ELOhF4PBlbGTn0rJqpH0KmfMf2FQDbnHYhQbKtKBhiFU4J+pG09nEseEzFyMCRHyqPMdhk7\n",
       "BSFGIYJnt55RSGmePXYBdF/8rkYh19naUnimJBnIUHqNhQBvwhv85ilBkOqBbLQvK871FAPmKMwe\n",
       "FntjXBDP9DJgUqtYBbuD+SgzYGTMzqW0lN6MjyiQF66Mt9PEuArbR2SUUoIyf/Y4TkEFR1GKharN\n",
       "gCnaXgqEc7a1cRxjFw60kS/NRM2oBEkM+JIUAMjYW+yhkKIjt76k7tnWHOryg+5LvLd5c9qSgwex\n",
       "O8mZGHuKP5nIgPniKyf4zTv34Y/VD4B/R1YcSSsGImWYWoS9yEvo4Zy9SLEZaP8DP623FL1/0b38\n",
       "XaGF8PHhNovOLPCxNxeaTxdZeYMmxt4SXPoqTynB6vjAJj796C0JxflKzKo2A4wCsBGEH2GrcBxj\n",
       "Fw5qoy/NRHV4gpzFOUJ9TJSI/aSdDYIntyjSPSvNRHYf6L7E+8aKDVYXXKa55fWDi8T+On4a55bA\n",
       "2Nho5W5b7KlZ/SPwLWdo718pjae6N3tOJfQil0Hct8XjEp/96FSmfIOYiJKRaylySuLwLGyBoJW0\n",
       "PYASC1V7FHLvkYStjeMY6zi0fiu5TEQhSI50NemrrRQHIT6V4MntardnpemH6Ud0X/xuVP4dZVcD\n",
       "m6BpABP7O3FEfF7PPAxYRBce+109Ujkid5Xx5aScSH4AoSkrqPpqJA8Hx1LKAyixUPUyEBWzrLS1\n",
       "cRxjHQeVUaCbyJUFQnKk/awvtwoUhJxdEZ7d9ns8S821cKGo++L36CQczEyEgZi+HBzvsehSjpzO\n",
       "qOpjU70eNHEFA7BkXJzYuDiDQrDEG7oNWWD9oPecRsGT3OU5WHmio3zVPDOaHAbeumv/L5Rzn17d\n",
       "ebHqmBhuvaryCo81wP7H4ksv+A9eYVincKN3NQAAAABJRU5ErkJggg==\n",
       "\" style=\"display:inline;vertical-align:middle;\" /></a><br>(alternate proof for <a class=\"ProveItLink\" href=\"#sub_in_right_operands\">sub_in_right_operands</a>)<br>"
      ],
      "text/plain": [
       "<IPython.core.display.HTML object>"
      ]
     },
     "metadata": {},
     "output_type": "display_data"
    }
   ],
   "source": [
    "mult_sub_right_into = Forall(n, Forall((P, x_1_to_n, y_1_to_n), P__y_1_to_n, \n",
    "                                       conditions=[P__x_1_to_n, elementwise_equality]),\n",
    "                             domain=Natural)"
   ]
  },
  {
   "cell_type": "code",
   "execution_count": null,
   "metadata": {},
   "outputs": [],
   "source": []
  },
  {
   "cell_type": "code",
   "execution_count": 24,
   "metadata": {},
   "outputs": [
    {
     "data": {
      "text/html": [
       "<strong id=\"unary_evaluation\"><a class=\"ProveItLink\" href=\"proofs/unary_evaluation/thm_proof.ipynb\">unary_evaluation</a> (established theorem):<br></strong> <a class=\"ProveItLink\" href=\"../__pv_it/theorems/b68e8b1a82ee1aa0d9317aad3a6328cd06956c910/theorem_expr.ipynb\"><img src=\"data:image/png;base64,iVBORw0KGgoAAAANSUhEUgAAAaoAAAAWBAMAAABj3sV/AAAAMFBMVEX///+IiIgiIiIQEBB2dnbu\n",
       "7u5ERETMzMzc3NwyMjK6urpmZmaYmJiqqqpUVFQAAAB6qHgnAAAAAXRSTlMAQObYZgAAAAlwSFlz\n",
       "AAAOxAAADsQBlSsOGwAABJ9JREFUWMPVV29oHEUUf21u9/7s3mUDEQPWEIIoKq2n2FqKhYsEqtDI\n",
       "qthSCub6QSxS6mFU/GQ2FQoixAMVilQ4qfaLiNcqtdpAL+B/LT2qHyxKmxD9IPghfgiGqODMvDc7\n",
       "s7O72dxHH/xu583N+83Om/fezAJsTALCOn/HpUDQdaNrQxxme/3ZCrBR2dRFpMk7ib03E3SdScnr\n",
       "kcNsJ4/ktBILvOOXrFX9SEhddSehs1xDADjjPsg2ky29ccTsE0ciLeEzrp/IWJTVRKTLmwl9BwgA\n",
       "D091wzaTot8TR8w+cSTSEl7ikVjPWJXTQaTLdwl9cwSA3af9sM3EbffEEbNPHIm0BL64XDdjVX2E\n",
       "dUYo9z8pG1UClFZCHWV7Foftaxxx+77kzd4ewmVbUMxKq6uEdCmqnXxBpkQTwbw2InWSk1kc+bri\n",
       "SLAvJsfNSYV7RkfvzVrVx4RHhvePm/ta+HWIFZ3cggoESmqnhgB3aVubdJgdm+F5EpthbEtD54DP\n",
       "FYdubw389txEZDaS3MBXSEv4RIuZNJFOaG9adLjfnFEhgvtUYLMAcZuq+2/lUHRqvyf10k54hkXP\n",
       "N2CQHOs6deSAs6L3rra2KcregWHvLERGbhOu3QrnkJYwCwVObF1YpxpsRbiBu1Ixhln3A19ouapV\n",
       "47fFY3MXAfBaQ+qPdYC9FPxgTnAL9HkRDrjalTa6/ddw2f8jOhvOVYO7kZZg+7kWz89vG+mr2oXI\n",
       "gxMr784yp4T8sl6Od4mUbiEAroPUL/IFAEybJKIcRDis11sQt2/Ap7GRXC6K8jGtUPZEsej3IXNV\n",
       "wD1qFq46TLLpSpr3Cm8E0VU9EL7VDrDWeNTGSSDKAa88CBC3B74lxkguO8TvKQ3NeR41SxP80L5p\n",
       "5jz3095B8V5j89EIBPgwsPxoSkx6cJnba+l2e2BE4FGpW3+Cy918BWIkkoOyZfQEqAg8qtqlVXg8\n",
       "OpLnFeMFopWYECf1l/xnqFLnOfFoMM1fbHNrilZ1CLGvtQQ5w0uTXfi9HICrDvISNW0PQf7lbetf\n",
       "qDR/osk06WfJ2tI54LTi0O2frlSBxbtrXhv+YdMircTLogpd4D8d22uItljOOdhPRlQurz//EXxg\n",
       "8Nle+U6HSjDFjiy2C1SCC2uhfgiutNt4SkTyqg65hs5RaCoOzb7818FqqRuZDYUVwD3qAOKoiDJx\n",
       "BJ0WYBoNy2xCeRZxcKA8Zx5X1uKe2Rv5voY9T8mTdAQB5eVQf2LwxUU23R1mdo5/f0OEw24oDs3e\n",
       "OuP9fAkiI2n1e+d9pJVAuU/8TvFvF2sVjrDghVVVOBuIdDmW8J10G8FZUDruxEgWR0HniNnrI/X7\n",
       "wIgCuXwFrFqh+hC0rRrszK99wR5vhUkk743pMpdyW2W4Vuwad9KUi3IKR9w+caS6gyv6fBXyu+HM\n",
       "uwM+e7x/abDDHq/ysEA5TEiTxFu/HQjcekDThRzviSNun/KNcVyD2o0yXQ0iD5R9hDSxkz66rbrA\n",
       "/HlND320cY64vZ38iX/YdL99jWXNe9iOPsg7HiJNhhJ7Zwi6zk/FoEcOs508ktNKyCsvr+vYjj7+\n",
       "l/IfZxhKd2iW8UoAAAAASUVORK5CYII=\n",
       "\" style=\"display:inline;vertical-align:middle;\" /></a><br>"
      ],
      "text/plain": [
       "<IPython.core.display.HTML object>"
      ]
     },
     "metadata": {},
     "output_type": "display_data"
    }
   ],
   "source": [
    "unary_evaluation = Forall((f, x, a, c), Implies(Equals(x, a), Implies(Equals(fa, c), Equals(fx, c))))"
   ]
  },
  {
   "cell_type": "code",
   "execution_count": 25,
   "metadata": {},
   "outputs": [
    {
     "data": {
      "text/html": [
       "<strong id=\"binary_substitution\"><a class=\"ProveItLink\" href=\"proofs/binary_substitution/thm_proof.ipynb\">binary_substitution</a> (conjecture without proof):<br></strong> <a class=\"ProveItLink\" href=\"../__pv_it/theorems/0f3b5388d88f01a0bcc4bfd6c45c68b447bc00750/theorem_expr.ipynb\"><img src=\"data:image/png;base64,iVBORw0KGgoAAAANSUhEUgAAAdcAAAAWBAMAAABgactXAAAAMFBMVEX///+IiIgiIiIQEBB2dnbu\n",
       "7u5ERETMzMzc3NwyMjK6urpmZmaYmJiqqqpUVFQAAAB6qHgnAAAAAXRSTlMAQObYZgAAAAlwSFlz\n",
       "AAAOxAAADsQBlSsOGwAABYNJREFUWMPdWF1oHFUUPvszM8nszmaCqMFIiMGirShpsAjFwrYoKhqZ\n",
       "0hgphWyKBItKWaz6phlaFPpS98FKwFRS+iQoSWNB267t5qHBH2zXVh80xWxorIgVUjAkogXP/Zt7\n",
       "Z+ZOsr564Nu5M5zvnu/+nXvvAvwn8xWs4bLeF24tHOvU4ut4TcdvQrLeUnWJJDuuI+nNdhn0gZL5\n",
       "ek6C93EFDfLhapON/V5BYrSahhS3wT78uZtDGwjg1OMJfC0n7m280M30CJwhX8eaa6tRkUi2o/zZ\n",
       "L0k6+wDR6jHoAgFkf92WwNdxdN6tU1wPx1tkDQw319hcTSLZvuGCN0qSzm4h8lMMukAAmZ9GEvg6\n",
       "js67rc71cJBOytaba2xGwRperNtTFycCkm69LpPfLRzcRpRAAJNeIn9L/JPOm34jejjy2BWtTS7Z\n",
       "HxUkWyvr3LQ1HJA0lu0mv+Mc3N5QAgHsSOaPxz/pvHcIPQJ9PT0PN9nYUwqM9l9e649uCYsdmCez\n",
       "DZ5jxgTJ6KzBULRLFrpwPj0LDGJ6FmUguNj3uyjv7Hr+MTb7dlbBaIQ43BRvJoPYh+1/MD0Cn8nZ\n",
       "s56NK8hBlztNnj3UaANP+CZOzjzLEWMwJ0hZpxcukfI09X2IFEtHjVWAr4BBVPO3OnA3g/JUaiFH\n",
       "ZwIUr0B+Kcxhfat4MxlkQP7ySj7VI3AEWoi7cTYp61jvi9KDCr6ES96NSA59FIgkbBlhNSDtcdKb\n",
       "+Pl6pNZ5DzYDXAEGYc6xIBC0rIhy3s8vF6g8qz4NheEwh8+qwJvLILUtQ8alegRML0syifl1OWlA\n",
       "F0Vhq4IynI7l0CVI4zy0lshLoQwpl5M8DLk54ozsPwFGgSGw3VtFIHCWRFALcnxHMbAerCzMgbA3\n",
       "l0EEVaCtSPUIOC7NT21e4ux9RNdYiMmHzDCUsN9sOrK7UVm3IE161krE+V6wcfM5AQzB+LznB41l\n",
       "KYyVM65M4qPlMEdNeMSbyyA5sgiTdapHACozpGOu0WzT/nknRrO7oEDeBmaeJFPnZpcXn8Zgr8Jz\n",
       "4YVTcunKdLrFkeILQToNqd7Imr0FOVxYl4FBVLPRl9PYbMjypG94YrBui3CYm/TmMtg2e96jegSg\n",
       "nx55Zune6F9vxay3s807QObM/dYq+bghxffwvRLGS4VeKIY7t1SH3xxMCHTLITUfFqT9Qou0FdhV\n",
       "Y1Fnlc13WAYSo4nlwYlrkMXVwNq0P8wR0yrwZjIM0tgyrl+qRwAOUR1naeqHvRY+3r4Md5Cem7LI\n",
       "eJg1nl+DjQLhrOzptSNnEdN1HsghjfRBnsQ2y5xwDiaj6e8GvKxsZNwOgwwE706I8vzrn8InmFuJ\n",
       "pob9T5jDTXozGSXUXKiZU0yPAEklaK8wzipPSQuksyZSpB8y5RwfllcljJPu3LfRE+3CE0fuxJVC\n",
       "whbIMFguJwxtPx+9YQ09TZq/iYPbiyADwXxQ3tPuVLFje7BOY7FzNcwR2T3wZjLSG4hzFZgegVAW\n",
       "snrpXXETfS355gWsvw0yfAjTZYlkOxh+Zc5P6S+03QzRuyjlnFP5NOHSZZuthDncYt4/qHoOhnQZ\n",
       "mC0G4FC2ksMH3Gcv4SPjj37sDeB2Oaucv5PO7tKqsUN7tmJsW/NmoTnoO41j0UN/lnbarrqGo/Eu\n",
       "qnqqIV1kdR6o5+7afjs+YG62gg+7+t0z+LBOBnflfQoS/36IXqH2QdotFLW+73DEDDkjFSUoOyoi\n",
       "7qG7fowT9zZcRY+Aemnis7Vu+GZNvqk3bgVJZkZX5yA4M2f0vokdNwj5Tl8JSo3Iv9o5oePEvVOq\n",
       "HgH+5Wec6zbbymyv4H6kvKmj5kokWUdsqBOdUz6DZnq4a/FTa/yfFPPuUMCXQzvdeFgvgT1TVN7+\n",
       "P/Yvge+VPfXKUjwAAAAASUVORK5CYII=\n",
       "\" style=\"display:inline;vertical-align:middle;\" /></a><br>"
      ],
      "text/plain": [
       "<IPython.core.display.HTML object>"
      ]
     },
     "metadata": {},
     "output_type": "display_data"
    }
   ],
   "source": [
    "binary_substitution = Forall((f, x, y, a, b), Implies(And(Equals(x, a), Equals(y, b)), Equals(fxy, fab)))"
   ]
  },
  {
   "cell_type": "code",
   "execution_count": 26,
   "metadata": {},
   "outputs": [
    {
     "data": {
      "text/html": [
       "<strong id=\"binary_evaluation\"><a class=\"ProveItLink\" href=\"proofs/binary_evaluation/thm_proof.ipynb\">binary_evaluation</a> (conjecture without proof):<br></strong> <a class=\"ProveItLink\" href=\"../__pv_it/theorems/e05283bb0c598ba8a65ccb438317bb6c22d8ef9d0/theorem_expr.ipynb\"><img src=\"data:image/png;base64,iVBORw0KGgoAAAANSUhEUgAAAlEAAAAXBAMAAADZzAe1AAAAMFBMVEX///+IiIgiIiIQEBB2dnbu\n",
       "7u5ERETMzMzc3NwyMjK6urpmZmaYmJiqqqpUVFQAAAB6qHgnAAAAAXRSTlMAQObYZgAAAAlwSFlz\n",
       "AAAOxAAADsQBlSsOGwAABmBJREFUWMPtWG2oVEUYfvfjnLN3d896hKILmiySlYaySh8gXVjFMEnl\n",
       "QCVJ5N1+SPaBLBn9K1eDwD96f2QIJVwx+yXcq0j5sem9P7IPS7evH2boilZE/lBIrlRCM/O+c3Zm\n",
       "zpyj29964Tl7Zva8zzzzzpx35gzAv7AWoZD+yK1qyArJTC3Dr2VxtRPeovp25bUsIvqwTAcBdyc/\n",
       "s8fmZLdigEhpKInD7mavVdVaxOxJ7IZEl1f81Fekvif49ZRoTlic4rZmEbvMJCQ2BHDosRhH5Bo3\n",
       "ay2qLS0L7WJigqNaiaO8Ylc/gXJGELA27amd9Luq52Sz9xgGQkRiQ5D/dSjOIV3jZq1Ftas3dRLE\n",
       "7EzsBuFN/gY3+olUaQIB7bSnTlFv5/acbHaToTyOSGwIcj+uj3NI17hZa1Ht0IdhgphTid0g8Pjn\n",
       "O/1EKkeAWupTOK6Z06ORky2lXOfXhwhk682GYCyMc/Rc42YhQ7XolEsRbKkllFl8B/pKU2cJ/kja\n",
       "UwM4blmvETlZLF/l1/cJZK8bDQEstXD0XONmIUO16HQ2RbClVmLR7NkP9hWpQ4QSS5HO9J9fW2Wu\n",
       "xpcH2eKT71JS3iWdnBkTsM4UcnEWm8+rASFfnrreEJxe9LssI7nuqgdw+mdWMq4WypcWjBNRTznp\n",
       "IsGKLZnZFLUSHysz9LZMzgAe5hLMCg5yHbOFicb2tlw2x8s443bBOemU92twht8fFM8u4LfDO50b\n",
       "AF8AQtL8pTcEcC0qI7nuqhIW5sNHVjKcMtMCSSSVR7qEYLUfWzulhqiV2A6Fbl+Rmk/IsiH9HM6E\n",
       "V4wV61EosTnui7zgdSEbktMbrPoXg+tCCAsBvgNEtKDv1hqCwpQsE7nuqlq2btYSWVbk4h1NSdxT\n",
       "Trp8M+3eA7lA1Eq4YZ4nXedYwuoE3rt6eTEhx9yacCS2Yl3lcsG7yguVJmQCcgpZwwuNh5n3HwCb\n",
       "AdFb0RerDYF/VTZM5LqraifEuFjIcmJluRD1oKecdKFgpR9i7vJaCT8QCd39spk0iS4nRwpifYdc\n",
       "A4bZP8UabWKcqnQaC72p2LgV2WK/FxBRpnunpUUK8zC/J3LdVbWHxdVChmqXRj1QlKOuYi3WD8Ba\n",
       "CRiZFG9wmPi6PZL89kHxBjytv9/DgchGflXuOz+RTkcgUzPSyk0xdN8CQtLMbelvn9uVZSLXXRVC\n",
       "BzOahQzfvo0RsVQe6RKC9X5QNyRgFd+D+pd4pzIzthzmXzld/Mh5avJxPgGvzeJRzM+kRed5ghuA\n",
       "81KlBsY3zXAHfvNbUBZDwvm3SaeNsss9m4In2Ut/EhByp9TQG+L5gspI7uiuqv3N3K1kbtCbR4yI\n",
       "lDsQ6Sob2+9pjH1U1ErAW0K+IB+sNFj+c4LrHh98537vBg/fnAxfWud5ND3lms4WTn/q2VrR2La6\n",
       "gf9ASa7KXJ7bJIfjMGbmwivwsrodQNsGekOwY1SWkXx4RHNVjS18y61kYhNQ+FMSkXLBhLpKxoiz\n",
       "hS/fFLUSPOsyO8YvE27ACoXnqhkewtK4CI47wZfIUsOhRPYqwauCcyA497X5tXZx+fa72Gznvavw\n",
       "yegF5LBuyQnz9GLdEzx28whkL4DeEOVhfo/k2Tmaq7adWjkZWsm8am9p4ESoHJmEruyoQbXsqzux\n",
       "VoLsFZxyoiuVeiUQSTDDByLXLHVlRhRvfBMB96XtJbYaq7cI8wr7wVEVYR4VRQ0dVzm4/aC62glj\n",
       "505cbalrEBHTirhgpRtb9X8xbW8SzNnRHOcabrmfsgGaBrmOjCGoH7Sn0iLVjn205kecofRPbsuH\n",
       "LoPf3W1++NZVVzuh7Vv3/EDH/IJmTKSrndiNtvavcx2ceqG2AsadOov5GEvnkGtt3h8+xbaOJ1lh\n",
       "YDTSt4HgppwExo4nNkA2qNgPtN4mxAwbyq4fUcpCbKC62gljxtTeu9YgEkyoy36ewmsl5GtcA28I\n",
       "DnwwPWQ/fvtFNr06xfY3K9mPdyBg10J7Uu4j1hCclMOaWBTXgD951P7sBlW77sNRntFSyuKAQnO1\n",
       "E8ZPuxowedggEkyoyz7svFZCmek+bf/hGZG1aE3rKFcKdICALcmRGoyNTpB4PNpCWEY00P1iHHY3\n",
       "e62q1iJmMLEbg9q/7nmWmPbh/T64WGTzvYhTCH+KIfxvdFbB9wh4PwH77+CzjCabcv1P2z+Jtd3d\n",
       "5+m5ZwAAAABJRU5ErkJggg==\n",
       "\" style=\"display:inline;vertical-align:middle;\" /></a><br>"
      ],
      "text/plain": [
       "<IPython.core.display.HTML object>"
      ]
     },
     "metadata": {},
     "output_type": "display_data"
    }
   ],
   "source": [
    "binary_evaluation = Forall((f, x, y, a, b, c), Implies(And(Equals(x, a), Equals(y, b)), Implies(Equals(fab, c), Equals(fxy, c))))"
   ]
  },
  {
   "cell_type": "code",
   "execution_count": 27,
   "metadata": {},
   "outputs": [
    {
     "data": {
      "text/html": [
       "<strong id=\"not_equals_is_bool\"><a class=\"ProveItLink\" href=\"proofs/not_equals_is_bool/thm_proof.ipynb\">not_equals_is_bool</a> (conjecture with conjecture-based proof):<br></strong> <a class=\"ProveItLink\" href=\"../__pv_it/theorems/85ff72cc39885f30820494281b2aba4fb79ac5770/theorem_expr.ipynb\"><img src=\"data:image/png;base64,iVBORw0KGgoAAAANSUhEUgAAAKYAAAAWCAMAAAB9nBcwAAAAPFBMVEX///8NDQ0WFhYLCwsYGBiI\n",
       "iIgiIiIQEBB2dnbu7u5ERETMzMzc3NwyMjK6urpmZmaYmJiqqqpUVFQAAACZSrTsAAAAAXRSTlMA\n",
       "QObYZgAAAAlwSFlzAAAOxAAADsQBlSsOGwAAAplJREFUSMfNV4uO4yAMZHfPgAnv/P+/Hs8EKKR0\n",
       "pZMOVbEUHBgPg+0S8oshB/urj/+V/zXA9XY5DE5eani3PGVCnYpRr29/f007u4fS8d4uxyHmMN7u\n",
       "IyI2qTDjTP5G10m1Ry+q3j7sdszfK3wPM0DjkojL/6h0SrFHprG9XZPpFxPWbMG0rhx18q+xcbcH\n",
       "kw12vdnydFhPJwgahprAVLe/LayoTWWq3i6H9ssp1R6EVoBTNr20vPFnMRbK+OaZ894igMeDv55F\n",
       "L3WEJBJM2HkTgZwoNV4hBOorpORvktIF7sGsTFQbdAMeiKFXHClq+ucnPi88nLioEnsmsalVNBdM\n",
       "qthJa0JL/tLXx86grrNWxr2RePtI5uFyID7dU9foWi2vEFhdmM7+kUiuN2Ey3dl4Emayle5vc9iB\n",
       "xTSdHuQ4b/xZcmGIEWY0+dizv4PtC/QCk1x7P5EZcZ8x+51JYPpmE8WSzZg182zxV8SWnQCMDL9a\n",
       "1nxXpmaHngAEf8ROm99fmaL740Q55P0cbdZ7hKlaf+6KCEBG9ShXLicJDBxDfhTQWhSaeJauyJtC\n",
       "I3x9BDE3FAI8wHTQ+ktWorZp+1LjJMYoYDiVmkyydeeBJsDUfT5yr3XG+Mi77ZJZjsjNYAYPDtz0\n",
       "yc/f1fdsRBUTlx+iPWhr0QQ2nLHubdVGz8GUxanuJoTu3EExIe4OafQvN6/p8OI0G/sHevT2oYca\n",
       "B89Sk4MeNRd9sRw7zsFfsrRSoBp5QaLPVePw0EBMyIzrInN7Tcui2blfgOYQS+yRVgynKdSypVi2\n",
       "FnZCJoWsoQ9aMbLTugWYGHCI18hrqsPV53RSd52F2tmKD/82PPlHVYfbo2eKkdDbF30//4f4EOWj\n",
       "fyRRW+Dk/xh/AQoZHFBFDPFgAAAAAElFTkSuQmCC\n",
       "\" style=\"display:inline;vertical-align:middle;\" /></a><br>"
      ],
      "text/plain": [
       "<IPython.core.display.HTML object>"
      ]
     },
     "metadata": {},
     "output_type": "display_data"
    }
   ],
   "source": [
    "# Proven\n",
    "not_equals_is_bool = Forall((x, y), in_bool(NotEquals(x, y)))"
   ]
  },
  {
   "cell_type": "code",
   "execution_count": 28,
   "metadata": {},
   "outputs": [
    {
     "data": {
      "text/html": [
       "<strong id=\"contradiction_via_falsification\"><a class=\"ProveItLink\" href=\"proofs/contradiction_via_falsification/thm_proof.ipynb\">contradiction_via_falsification</a> (established theorem):<br></strong> <a class=\"ProveItLink\" href=\"../__pv_it/theorems/fb2499f00334802da5dbd5240b37e753f4e425b80/theorem_expr.ipynb\"><img src=\"data:image/png;base64,iVBORw0KGgoAAAANSUhEUgAAAHoAAAAWBAMAAAD9QZX2AAAAMFBMVEX///+IiIgiIiIQEBB2dnbu\n",
       "7u5ERETMzMzc3NwyMjK6urpmZmaYmJiqqqpUVFQAAAB6qHgnAAAAAXRSTlMAQObYZgAAAAlwSFlz\n",
       "AAAOxAAADsQBlSsOGwAAAS9JREFUOMtjYKAIPAARd8jQuAZE7AIRM8jQfRFE1AExRwK5ujkDGBhY\n",
       "LpCrm+cA0AQGcnUzGCkpmZCvezsDQyqYEQAmuWGyrDBGAD7dfQwc4FhjNQdz2WCywQVQU8wROrgx\n",
       "dLMFsCwA0Sx/UXX7Q4MSKo4qCdfNKwAJtOWGKAq4igUYkMVx6GaYcBBMCcxDUcDI+YABWRyXbt+p\n",
       "YNUMO1EUCHBPYICJc6cBQQ523c1gS5YzCCPr5ipgNGBAFsdlNx84cLe4vA9AUsDt4veVAVkcVfcm\n",
       "JSVjJSU9GJeRgaG/AEmBAAPHd7g4Vpej5Tf+CwjdXMD0+5chBEkcw+VIgNuOgXX/LISCzQ8Yon8u\n",
       "KL6AEAcCt7TktDQBvMkXxXiS8x6ybq4ASnTzkJzxOEhRDAAVc0ZvdGa70AAAAABJRU5ErkJggg==\n",
       "\" style=\"display:inline;vertical-align:middle;\" /></a><br>"
      ],
      "text/plain": [
       "<IPython.core.display.HTML object>"
      ]
     },
     "metadata": {},
     "output_type": "display_data"
    }
   ],
   "source": [
    "contradiction_via_falsification = Forall(A, FALSE, conditions=[A, Equals(A, FALSE)])"
   ]
  },
  {
   "cell_type": "code",
   "execution_count": 29,
   "metadata": {},
   "outputs": [
    {
     "name": "stdout",
     "output_type": "stream",
     "text": [
      "These theorems may now be imported from the theory package: proveit.logic.equality\n"
     ]
    }
   ],
   "source": [
    "%end theorems"
   ]
  },
  {
   "cell_type": "code",
   "execution_count": null,
   "metadata": {},
   "outputs": [],
   "source": []
  }
 ],
 "metadata": {
  "kernelspec": {
   "display_name": "Python 3",
   "language": "python",
   "name": "python3"
  },
  "language_info": {
   "codemirror_mode": {
    "name": "ipython",
    "version": 3
   },
   "file_extension": ".py",
   "mimetype": "text/x-python",
   "name": "python",
   "nbconvert_exporter": "python",
   "pygments_lexer": "ipython3",
   "version": "3.7.3"
  }
 },
 "nbformat": 4,
 "nbformat_minor": 1
}
