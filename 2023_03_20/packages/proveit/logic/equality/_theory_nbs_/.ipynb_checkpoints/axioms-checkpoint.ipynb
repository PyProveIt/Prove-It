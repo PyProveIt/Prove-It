{
 "cells": [
  {
   "cell_type": "markdown",
   "metadata": {},
   "source": [
    "Axioms for the theory of <a class=\"ProveItLink\" href=\"theory.ipynb\">proveit.logic.equality</a>\n",
    "========"
   ]
  },
  {
   "cell_type": "code",
   "execution_count": 1,
   "metadata": {},
   "outputs": [
    {
     "name": "stdout",
     "output_type": "stream",
     "text": [
      "Defining axioms for theory 'proveit.logic.equality'\n",
      "Subsequent end-of-cell assignments will define axioms\n",
      "%end_axioms will finalize the definitions\n"
     ]
    }
   ],
   "source": [
    "import proveit\n",
    "# Prepare this notebook for defining the axioms of a theory:\n",
    "%axioms_notebook # Keep this at the top following 'import proveit'.\n",
    "from proveit.logic import Equals, NotEquals, Not, Forall, Implies, And, in_bool\n",
    "from proveit import f, x, y, z, fx, fy\n",
    "%begin axioms"
   ]
  },
  {
   "cell_type": "markdown",
   "metadata": {},
   "source": [
    "**By definition, two expressions are either equal or not (though one may not always be able to know which it is):**"
   ]
  },
  {
   "cell_type": "code",
   "execution_count": 2,
   "metadata": {},
   "outputs": [
    {
     "data": {
      "text/html": [
       "<strong id=\"equality_in_bool\">equality_in_bool:</strong> <a class=\"ProveItLink\" href=\"../__pv_it/axioms/a39661bcd27194de7a18967972b5f7af19e6cfc60/axiom_expr.ipynb\"><img src=\"data:image/png;base64,iVBORw0KGgoAAAANSUhEUgAAAKYAAAAWBAMAAAC4bPoxAAAAMFBMVEX///+IiIgiIiIQEBB2dnbu\n",
       "7u5ERETMzMzc3NwyMjK6urpmZmaYmJiqqqpUVFQAAAB6qHgnAAAAAXRSTlMAQObYZgAAAAlwSFlz\n",
       "AAAOxAAADsQBlSsOGwAAAmVJREFUOMulVU1oE0EYfWl3N8lms24EBW0pJQfFgiWKVhCEBEQUsUxA\n",
       "6kEoW0HoSYvFo7pQFLzISil4EIx/h4LSgopaRBOQggcxVC+iYIsSxJMIokfnL5vsz4Digxd23s68\n",
       "mf2+b74ASniSycj8o86RagoqYDoRYf3IjdnhGtdX2fhjwqJ3kir0RwX3ZmbuG9eX2PBafInuCyqR\n",
       "JVHPezhocP08i4EbX5KrCyphLcY9X9tcZ9tpCWHrlVRjt4z7ieK2wDPLdYueJZuw4r2kGtdFrq6S\n",
       "zjm/vhT6zmJxV8KKh5LVgWP7I5+h99UxDozywWXSyVF1uAyuPwZOKk7BuJhayw2y+BY5WJlo+RLe\n",
       "AK8QTq97a/bHI3D9CjKrCZ7bBS3P+mlHUnWObtIC3vKB352j/nnCdYNotQTPvYJp5GIFRXod7AAu\n",
       "sOc0DV1xS9vTMMtczztJKWp70uQ7sXcLJP0LuM1j63af04ArdL9BfwpP+ujdNgdgh7+dGng6CccT\n",
       "T5EqASt83mDY0xf6kTlaZF4rS7NbXUem5YwJwbHaZ2jRc56CQb2X+XMh5Jl3hD5D31uYSNPHiyvY\n",
       "KGeMCn46+wD3o57PsVAXlUZrOyg09w4qh2UF2lNM+c31L1iTM84IHi/kn8Vu2XjlBQ3UkCjW1l0h\n",
       "bho5zfpSW2f5K/HGN4Q9UuiZEkzGIdokZCTNA/JuthtoO8Izmp/DUWCr+b2rRcTahIDm6/vUDSbQ\n",
       "c5srGzDdxIfloBonJePocWxahpcUnxDRm7pnBLuPScaRbywp94vqJrGd+U5cHEHVX4v3V7oFs1HG\n",
       "/+MPNB2RzptvDRoAAAAASUVORK5CYII=\n",
       "\" style=\"display:inline;vertical-align:middle;\" /></a><br>"
      ],
      "text/plain": [
       "<IPython.core.display.HTML object>"
      ]
     },
     "metadata": {},
     "output_type": "display_data"
    }
   ],
   "source": [
    "equality_in_bool = Forall((x, y), in_bool(Equals(x, y)))"
   ]
  },
  {
   "cell_type": "markdown",
   "metadata": {},
   "source": [
    "**Equality is transitive (two things equal to the same thing must be equal to each other):**"
   ]
  },
  {
   "cell_type": "code",
   "execution_count": 3,
   "metadata": {},
   "outputs": [
    {
     "data": {
      "text/html": [
       "<strong id=\"equals_transitivity\">equals_transitivity:</strong> <a class=\"ProveItLink\" href=\"../__pv_it/axioms/1336cca4381043e25cbec9c8a1e4a201527977070/axiom_expr.ipynb\"><img src=\"data:image/png;base64,iVBORw0KGgoAAAANSUhEUgAAANEAAAAXBAMAAABnpbd1AAAAMFBMVEX///+IiIgiIiIQEBB2dnbu\n",
       "7u5ERETMzMzc3NwyMjK6urpmZmaYmJiqqqpUVFQAAAB6qHgnAAAAAXRSTlMAQObYZgAAAAlwSFlz\n",
       "AAAOxAAADsQBlSsOGwAAAoNJREFUSMetVU1o1EAU/vYnm2ySTbNQpVgsy14WPUgUQXoQ1oMFkUqE\n",
       "CooK60FB6WF1xUMPJbX2oAdZD0IvhRWqoBRsC9IqPWwRRBAxePFQD1tQTx56EXv0zSTZXdMmdGEe\n",
       "JN/LvMl8b9578wYQJ0q0yYFQORhtekZPiynfRRDlytG2RBN4x5RZEUyX4oxPgUkW4IoIprU44ycg\n",
       "awNpVwSTFWdM2dApglkhaarHWbNEc6xYPC6CSaOCkPI/746GDXdKShNpqrwV4HrUz70wMa81DJnL\n",
       "7GO5yOQIU6UnI+cAnXb8GEor4udML0xJSvZHfLF/h8+zjdMUW8pixk43RDClaJUq3u5iGaOik7eI\n",
       "zYwsiJ6ZgKO7NCmTXiqrzPo6vfKrg9Sb1CEYPImzrzpMicGp1aCptHhP8YGJfOhRoxM9qNu4EMoT\n",
       "FiDRfgqkjdL5TTi/sjTzfJ9dY8aV+cUO04BRmdNukIxL5h+ZfOPgjUCbOBsEwIR0y7AQ7kk5l3mv\n",
       "s+YwTf7puCaTOvMV+7n5QVf0mhmz6sfhaiFRaYM/FqxMdZz7e9lSw13g3kh/yTsDMPg623z4BzZ5\n",
       "TMzuPPW1e75RNswOcLkdKHIB0pK58TmcpnJumOKbbFedbPHb5TBOeKGd6WKqwfFjlWykmFsM/BG1\n",
       "SVXsSSmuXu4HynS6rmGMZqtbBMrcRKXNpFhnsBicmeprSGUOvjz89qKrie6h/WoHTu1DzcXGhzqB\n",
       "dmXY6expaT4fuJ1buwn5JAdf3rxv3ziZmIs1fFu4kpOhnuJGnqeLGCc6D3aIFHP3hLxQbcN8ySCS\n",
       "aVOl9vXcg50yFc008P+nDnW9zCCSaaGfVb0HQkURudg/+F+NiW5GRj4AAAAASUVORK5CYII=\n",
       "\" style=\"display:inline;vertical-align:middle;\" /></a><br>"
      ],
      "text/plain": [
       "<IPython.core.display.HTML object>"
      ]
     },
     "metadata": {},
     "output_type": "display_data"
    }
   ],
   "source": [
    "equals_transitivity = Forall((x, y, z), Equals(x, z), conditions=[Equals(x, y), Equals(y, z)])"
   ]
  },
  {
   "cell_type": "markdown",
   "metadata": {},
   "source": [
    "**Equality is reflexive (everything is equal to itself):**"
   ]
  },
  {
   "cell_type": "code",
   "execution_count": 4,
   "metadata": {},
   "outputs": [
    {
     "data": {
      "text/html": [
       "<strong id=\"equals_reflexivity\">equals_reflexivity:</strong> <a class=\"ProveItLink\" href=\"../__pv_it/axioms/8203da8b0ceef7b47bc2a24b21524b561c3fd4a90/axiom_expr.ipynb\"><img src=\"data:image/png;base64,iVBORw0KGgoAAAANSUhEUgAAAGIAAAAVBAMAAABPrCZEAAAAMFBMVEX///+IiIgiIiIQEBB2dnbu\n",
       "7u5ERETMzMzc3NwyMjK6urpmZmaYmJiqqqpUVFQAAAB6qHgnAAAAAXRSTlMAQObYZgAAAAlwSFlz\n",
       "AAAOxAAADsQBlSsOGwAAAU5JREFUOMtjYMAEDQw4AQdWUcYLuHVwCTAwPAAx7iCLXmHAA2QYGHaB\n",
       "6BlIYqwT8OngDGCoA7kuAUmM+wA+HTwbQJoYWJBdzsyAF5gy8ACN5EQWuolfxxwGBiMlJRNkoS1A\n",
       "HCgX7oIeYlAxPwaG7QwMqWiGMGxgfMitAPKTEhiAwxMqdpKBoY+B4wGyDl2g9xp4vvKhBQBM7DID\n",
       "A1sAywJkKSsGBnYGbowghonVMzDwCqB4HKQDGGACmH6GiC0G4gkHgYTgDukGuKsYGNY3sAag+QMq\n",
       "dgnI8p0KTEsNzzihgZPIwBC24DEDC5oNMLFjQNwMNIKHIZEdKgUMvvulmxnWoumAiYECn68AJPID\n",
       "JlXEwBAtyLsHPTpgYlrwoDCAJX2mAnxRzqEAZTSzTOBGpDU8AJ5OuaUcRWGCGfh0tGETDMOnA6tx\n",
       "HAK4NTA2MAAA/XFJ7x4UcE0AAAAASUVORK5CYII=\n",
       "\" style=\"display:inline;vertical-align:middle;\" /></a><br>"
      ],
      "text/plain": [
       "<IPython.core.display.HTML object>"
      ]
     },
     "metadata": {},
     "output_type": "display_data"
    }
   ],
   "source": [
    "equals_reflexivity = Forall(x, Equals(x, x))"
   ]
  },
  {
   "cell_type": "markdown",
   "metadata": {},
   "source": [
    "**Equality is symmetric (it is a mutual relationship):**"
   ]
  },
  {
   "cell_type": "code",
   "execution_count": 5,
   "metadata": {},
   "outputs": [
    {
     "data": {
      "text/html": [
       "<strong id=\"equals_symmetry\">equals_symmetry:</strong> <a class=\"ProveItLink\" href=\"../__pv_it/axioms/388596b091b2b8cc32885e74a2b5ab97c6c6db210/axiom_expr.ipynb\"><img src=\"data:image/png;base64,iVBORw0KGgoAAAANSUhEUgAAAN0AAAAWBAMAAAC2xYReAAAAMFBMVEX///+IiIgiIiIQEBB2dnbu\n",
       "7u5ERETMzMzc3NwyMjK6urpmZmaYmJiqqqpUVFQAAAB6qHgnAAAAAXRSTlMAQObYZgAAAAlwSFlz\n",
       "AAAOxAAADsQBlSsOGwAAAn9JREFUSMe1VT1oFEEUfpfbn9z+uSkUMRiOawRBWUUICMKlTBFZQQUR\n",
       "QlIIYiGHsVVOg61sI6RIkZRW0SCo4dC7RgSRLGIjsThBU1nYJaXzZmY3t29n7iTgB9/d7fu+92Z2\n",
       "5t0MgBZtySEyxfihqwFUUkEd1hWxk8PtyD4+fFcYvkpq59MthfzmcDtyCx9WyrqZCOrxrBS5McrO\n",
       "+BCXfaEsu11BPT6VIp1RdsZaDGAotqkqqUc1ppFolJ3RY+9QU8jfJPWo0bf3k1F25PlG44JCfiVo\n",
       "TnZhnm7txK/7c2xV+nQLmrlWsIsSaEe+BrilGG9V0PAj2MbnzQbiLK8LU+EmgJeQOM5eauDycAOn\n",
       "JEugHfkUxvuK8c4IPnDrsEukj7Ad/2bLR7drLM21QcgSaEdasbGmGO+iYFwN4RyRWvAWv+w/tCPW\n",
       "cm0QsgTakX6oapdsPNiI7b2SyGfgRIrxoDS7rATaeUrSYx8TbybZ6eZMQVBcTzbdSkT2CZx9uMYm\n",
       "WidxXE+pDe6fLIF2njLH/vWV9m6Nua8ciZfkeIuSd8Ei22veCSJgrejRU8IKc60AUQLtPGUZH2DR\n",
       "Zj+ffIFj0nRZ8h1skP+Zv3czclLR/gWwbs+0AkQJtPOUoIXBfS79hB/SdE9yfuY9uUbMl+HOZ1w+\n",
       "2mZ2PdcKECXQfpBiR/zuOg3TWXO3BAFmNQfG41LklO5smZX2PGXZSFy4yjKcrMm9F5xGYl7SFOn8\n",
       "wwnOl1mU6AymuCdmjsJSCjsf8jPwNudYGGguNcWlYikvcFEC7TQlNdtW3hzXOf3elub1FMXNBZVR\n",
       "lEA7SXHiIHx+MP9QUIfjitij4XaS4oHTa8L/xV/0oKbEihTV5QAAAABJRU5ErkJggg==\n",
       "\" style=\"display:inline;vertical-align:middle;\" /></a><br>"
      ],
      "text/plain": [
       "<IPython.core.display.HTML object>"
      ]
     },
     "metadata": {},
     "output_type": "display_data"
    }
   ],
   "source": [
    "equals_symmetry = Forall((x, y), Equals(Equals(y, x), Equals(x, y)))"
   ]
  },
  {
   "cell_type": "markdown",
   "metadata": {},
   "source": [
    "**$\\neq$ is defined as the negation of $=$:**"
   ]
  },
  {
   "cell_type": "code",
   "execution_count": 6,
   "metadata": {},
   "outputs": [
    {
     "data": {
      "text/html": [
       "<strong id=\"not_equals_def\">not_equals_def:</strong> <a class=\"ProveItLink\" href=\"../__pv_it/axioms/f4a1036538f39a7e9c02e514eb3d1ee7a62ae1870/axiom_expr.ipynb\"><img src=\"data:image/png;base64,iVBORw0KGgoAAAANSUhEUgAAAP8AAAAWCAMAAAA4nbqyAAAAPFBMVEX///8NDQ0WFhYLCwsYGBiI\n",
       "iIgiIiIQEBB2dnbu7u5ERETMzMzc3NwyMjK6urpmZmaYmJiqqqpUVFQAAACZSrTsAAAAAXRSTlMA\n",
       "QObYZgAAAAlwSFlzAAAOxAAADsQBlSsOGwAAAsNJREFUWMPVWNmypCAMdZawK4v//68DKt2CiURn\n",
       "XiZ1q0/VjeYAWUicpjfiOnz18vsH3T9Z9DsrRSC2SInX2H8XeMbCV9xL5W0xffQxMA1F1SIl1hDr\n",
       "D09Y+IrhgQYE/VLVMzMg9NwiKcYSilnzWfiKsVTeM9oaAM4wrfjQIun+RGmC57PwFWOpvA3Ww1Dc\n",
       "rJIdku6n40lqNgtfwVm6vmI4zpMbVnFukSw36SYQA5eFr2AlQEBQiiKSW1W8alEDJG3VJXzacqJh\n",
       "i1u9H4pKXBZSQdH21QLlbdBvZcrol2eYcwgSTF7UBW7HKX7/Kr+ffaoplsAN6554Xycej++SxhFC\n",
       "0RKGcN4GXao/LBGxweCKdT2lcOd+G/eVpr3IRslkOW3Ks2j7GozztlhcrxZ2DVkaLMHjrzm5tCU+\n",
       "M8jSbsi997Arl+XbvSUO7SX8cd4WI/Cr32X/09c67f5yIGu5bNe9JVjk3+6foEXKMMbb4TyFwxSA\n",
       "d/mvNoipaRDR+N8o8gtan/Pw548+oTdnQY07Mcp/EYn9U7SUIZS3QxWPJgBcyZQ5HqVzymdne1cZ\n",
       "OKM2y5TkVmjuOzyT6k/J3mGvZXrfOs+gxQxhvB06WfWb/aNtdbocD/RLbe+QuFrt80KWxl/x2uD5\n",
       "VDwWBrfbhYVQ4LTofYnx9pi+nfp6StyU1al3hBVn1B4gbzfEUYOvkwJfjYthtbXiVoHTohUQ4+3x\n",
       "ZF6eBuOilpchRtgW+ROaOqqsE4xr1j5V3ARTx9vjJ8fk9mgOXq0OqmUdThGs+a7Y1TLyRxjSOmd4\n",
       "GvCSE5yHRQGUC2N7JQeYmenBhhpwAuJ+AXs68SdNcnwyTz7cYLw94jGczy0TGcRV2rR44URa6Rjg\n",
       "86WBtwHKOq1At4Hwjvy3Xa56K30L2hc5aLGvIYPPMEz/OXiq4PH2iMdwOYMAbz81/TfyB0i7JPGs\n",
       "Df63AAAAAElFTkSuQmCC\n",
       "\" style=\"display:inline;vertical-align:middle;\" /></a><br>"
      ],
      "text/plain": [
       "<IPython.core.display.HTML object>"
      ]
     },
     "metadata": {},
     "output_type": "display_data"
    }
   ],
   "source": [
    "not_equals_def = Forall((x, y), Equals(NotEquals(x, y), Not(Equals(x, y))))"
   ]
  },
  {
   "cell_type": "markdown",
   "metadata": {},
   "source": [
    "**When two things are equal, one may be substituted the other within any expression:**"
   ]
  },
  {
   "cell_type": "code",
   "execution_count": 7,
   "metadata": {},
   "outputs": [
    {
     "data": {
      "text/html": [
       "<strong id=\"substitution\">substitution:</strong> <a class=\"ProveItLink\" href=\"../__pv_it/axioms/a49edeedec975921832ca67f1414cc86938fba160/axiom_expr.ipynb\"><img src=\"data:image/png;base64,iVBORw0KGgoAAAANSUhEUgAAAO8AAAAXBAMAAAARnwX+AAAAMFBMVEX///+IiIgiIiIQEBB2dnbu\n",
       "7u5ERETMzMzc3NwyMjK6urpmZmaYmJiqqqpUVFQAAAB6qHgnAAAAAXRSTlMAQObYZgAAAAlwSFlz\n",
       "AAAOxAAADsQBlSsOGwAAAv1JREFUSMe1Vk1oE1EQnjSbpNlN0uSgiJUSehEKQiyKIAit6MFDZQtS\n",
       "D0JpDxUPIsXiUV0setS9CB4UIp48SAIW/1p0eymooKF68QebUqkHL/VQ7NF58/42+9LWBDows9++\n",
       "+fJm3r438wLQtngm7vwPvhf5acsSq5nYzm/Pfyi0zl6+txH4M9mZkxqj7GvGbOTEAq6v2Mu91uMm\n",
       "fGatX8cUZpJ2TWaUc5frNbY1Y60HdgJm418nFGaSqZrMKOc9V5ajVWs9cJxsxdWY5LDJjHLiLmkG\n",
       "M0m3scVfyB4PYZL7JjPKSQdc+3t7D7UReIaZD/2/JR7uOXsCP9xpg6g5ie4ARvH71rk+B5jYbPbq\n",
       "5oH50v4oXI0tO0WAt7T/vSR1aORY2RJ8xHPgc70NnYyRmA3M2bc4dAeoYfyVOONl1nM4wyeDqDlX\n",
       "MbNVAAxPmnStMjqS7yZbCnyUmeyaxClwqF6uG0TNceN5OIjUNa7ZPJ2triYVuG1gq6hxnLrWI7OM\n",
       "NafipnD5dokr+PMsr5Uh5i686MY+avdALhSYD1JLlA7xqZN1jSteAnNfNPY4xHkJMfaZi1xhiLUS\n",
       "WKB25q2m8WgOd7lTOjANPjuPEigHwLheJcMj5RWw5DSNBa84cImyyIxxhWlKaZYaD4yn8HFzEXbr\n",
       "wGIQwg5RN3fKEi9deQpPZJU1iObAa6jg+XMGuEKOTtVFTtsg+xOWw3u8oWaRDoDLzCwpfK6QnWP9\n",
       "r88IrDkwOvgG96yjzFXIEbKpEl2pfeJ1TA3yT60c+NNJWoLGvHaKRuAGzinUG0LFZbMOcAamLd/B\n",
       "B+y313RgGhQiHXQdZOsPoleDE20GYY7lJ9g9NScUxKoApmrO3sFd+IBvC74OTINCpAPlAnRM+AoL\n",
       "uRVdb5jTkc8N8KswdB1S0uKSqiW8ZNC0jpUDZQQyssoQRzNQ84Y42Xl2+Sc9rlySP3ALbN5DbDeX\n",
       "f9y8gSgH287Q3xyJY1v8mZKcPUJFeylQ3fAkwZ4faB5YOXZavJ2b+h8Zyc63Hwf/xgAAAABJRU5E\n",
       "rkJggg==\n",
       "\" style=\"display:inline;vertical-align:middle;\" /></a><br>"
      ],
      "text/plain": [
       "<IPython.core.display.HTML object>"
      ]
     },
     "metadata": {},
     "output_type": "display_data"
    }
   ],
   "source": [
    "substitution = Forall((f, x, y), Equals(fx, fy), conditions=Equals(x, y))"
   ]
  },
  {
   "cell_type": "markdown",
   "metadata": {},
   "source": [
    "**Also see the `proveit.core_expr_types.operation.operands_substitution` and `proveit.core_expr_types.lambda_maps.lambda_substitution` axioms.  Also note that while it would seem that `proveit.logic.equality.substitution` could be derived from `proveit.core_expr_types.operation.operands_substitution`, that derivation would require `proveit.logic.equality.substitution` (circularly) to be able to prove that $\\{x = y\\} \\vdash (x) = (y).$**"
   ]
  },
  {
   "cell_type": "code",
   "execution_count": 8,
   "metadata": {},
   "outputs": [
    {
     "name": "stdout",
     "output_type": "stream",
     "text": [
      "These axioms may now be imported from the theory package: proveit.logic.equality\n"
     ]
    }
   ],
   "source": [
    "%end axioms"
   ]
  },
  {
   "cell_type": "code",
   "execution_count": null,
   "metadata": {},
   "outputs": [],
   "source": []
  }
 ],
 "metadata": {
  "kernelspec": {
   "display_name": "Python 3",
   "language": "python",
   "name": "python3"
  },
  "language_info": {
   "codemirror_mode": {
    "name": "ipython",
    "version": 3
   },
   "file_extension": ".py",
   "mimetype": "text/x-python",
   "name": "python",
   "nbconvert_exporter": "python",
   "pygments_lexer": "ipython3",
   "version": "3.7.3"
  }
 },
 "nbformat": 4,
 "nbformat_minor": 1
}
