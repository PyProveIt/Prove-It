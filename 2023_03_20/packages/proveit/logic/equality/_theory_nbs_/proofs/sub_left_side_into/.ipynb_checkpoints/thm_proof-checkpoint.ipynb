{
 "cells": [
  {
   "cell_type": "markdown",
   "metadata": {},
   "source": [
    "Proof of <a class=\"ProveItLink\" href=\"../../../../../_theory_nbs_/theory.ipynb\">proveit</a>.<a class=\"ProveItLink\" href=\"../../../../_theory_nbs_/theory.ipynb\">logic</a>.<a class=\"ProveItLink\" href=\"../../theory.ipynb\">equality</a>.<a class=\"ProveItLink\" href=\"../../theorems.ipynb#sub_left_side_into\">sub_left_side_into</a> theorem\n",
    "========"
   ]
  },
  {
   "cell_type": "code",
   "execution_count": 1,
   "metadata": {},
   "outputs": [],
   "source": [
    "import proveit\n",
    "from proveit import defaults\n",
    "from proveit import f, x, y, P, Px, Py\n",
    "from proveit.logic import Equals\n",
    "from proveit.logic.equality  import substitution\n",
    "theory = proveit.Theory() # the theorem's theory"
   ]
  },
  {
   "cell_type": "code",
   "execution_count": 2,
   "metadata": {},
   "outputs": [
    {
     "data": {
      "text/html": [
       "Under these <a href=\"presumptions.txt\">presumptions</a>, we begin our proof of<br><strong id=\"sub_left_side_into\">sub_left_side_into:</strong> <a class=\"ProveItLink\" href=\"../../../__pv_it/theorems/fa7b338ac0e02abe373a31648947826ee50d3a400/expr.ipynb\"><img src=\"data:image/png;base64,iVBORw0KGgoAAAANSUhEUgAAAMIAAAAXBAMAAACrPI2eAAAAMFBMVEX///+IiIgiIiIQEBB2dnbu\n",
       "7u5ERETMzMzc3NwyMjK6urpmZmaYmJiqqqpUVFQAAAB6qHgnAAAAAXRSTlMAQObYZgAAAAlwSFlz\n",
       "AAAOxAAADsQBlSsOGwAAArNJREFUSMe1VktoE1EUPZPvNDMZJyBF8Dd0KShV7EYsBGkXIkrcVEGU\n",
       "caFUKKYobu2I4rLNRhBUqFhdKYlYsEiRqCDoKvgBBcEURYRCqZD4Xeh9v8mLYUAkvfDm3nc4752X\n",
       "++59BFgZC4QzsVJm1ITPuECdBe+6s2/v75OfrhRY9EpB64AHzF/u0tF/AKkB8smSQnoKOMuy5XdH\n",
       "IP0FyNKAVVWQXWEiSNS6lP1vNBoUxFvYAGyS6+lSklLLNEgFb1vYVWBbX9/2LimsomxPUPVglsb+\n",
       "DQeGKDf7gPvAsaglVtvsjUhFtALtfmGzPDgqxoLlAc+ASZhUsZni7MPPnT9buFu/9iwFsKfFrBKp\n",
       "sPHj0HMekIwd2E2HbuAl7VJIsKWPgV1RCraHhIcjEpyJVCiqYAfVFSxeshNUXi6/6EU6QpSCU4Gx\n",
       "LDpHlHh0O4QKVFDsRnCDRukRiwaBLZTktefmaHK9LnpdKsRriNXhSZzXtiRCIyPdUAr8MspBks7y\n",
       "gqK9l1jTNTFJCV7j+NeoJd1mul9TmCqYizBLEs+yi2BE6zjZWEiG8VMpHAVGpj8gQeFTGufZCeyt\n",
       "udfkqil3nOQOe4avKTzJrS8g40s844dE/nwqMnqWlQKV6Psz93BHFq7DqE5dljR/dp2842oKS+yT\n",
       "rUs87beIOtkqfnUldAo4lMvOs3RuUrS4fElO85c9Nh0f1xR28iz7EudZYkSRpZCsWSwETE9FU7Rx\n",
       "Mm/270YlmSdGWasl8zt3HgRuuJIYblf+u6jssGfCN9AoDtMpB3F3Jlcgl50/oSn0Nnh9jkLgqUAS\n",
       "5VpF1m1UBRfb8axyBzGm90PYaRwfCYnCFFm3kQ4pYTeVW8iUOhWsQOBzIVGYIutmyjs3gna8qtzt\n",
       "1ehUwDDH2fNU1WFF/i9r/6uQ1L7/bn8AGCmqIacF6W0AAAAASUVORK5CYII=\n",
       "\" style=\"display:inline;vertical-align:middle;\" /></a><br>(see <a class=\"ProveItLink\" href=\"../../../__pv_it/theorems/a5b6b3d13e30606d90f6e970afac7a8ce15443770/dependencies.ipynb\">dependencies</a>)<br>"
      ],
      "text/plain": [
       "sub_left_side_into: forall_{P, x, y | P(y), x = y} P(x)"
      ]
     },
     "execution_count": 2,
     "metadata": {},
     "output_type": "execute_result"
    }
   ],
   "source": [
    "%proving sub_left_side_into"
   ]
  },
  {
   "cell_type": "code",
   "execution_count": 3,
   "metadata": {},
   "outputs": [
    {
     "data": {
      "text/html": [
       "<strong id=\"defaults.assumptions\">defaults.assumptions:</strong> <a class=\"ProveItLink\" href=\"../../../__pv_it/theorems/33d42a8074cfa00596166df48328f57084158d1f0/expr.ipynb\"><img src=\"data:image/png;base64,iVBORw0KGgoAAAANSUhEUgAAAHoAAAAVBAMAAAB71edYAAAAMFBMVEX////MzMxUVFRERES6uroi\n",
       "IiIQEBCYmJhmZmYyMjLu7u52dnaqqqqIiIjc3NwAAACW8nlqAAAAAXRSTlMAQObYZgAAAAlwSFlz\n",
       "AAAOxAAADsQBlSsOGwAAAgtJREFUOMuNlEtIG1EUhv/Jy/Fmotm4sqDgotBsQnDb6sqtVnRnIQtX\n",
       "QUFoFy1YFTFIKWJ2uhwURAtCcCcqZFPb0s1QQbNoaaDLUoi0IK1U/c88YmYkJhfunPv4/vs4554B\n",
       "UEFd6fCZe4vNJEr1Q18dE7Gaq23mM+vJdaZv3WTDKLpTZy1sTkYVpPEXCOdod7yZdrO5mow+Q6v9\n",
       "57asWPZm2haaq8nE7Lufs16yka1N5Vo4eg6fxISrrFzBKNRm1lpQr+GtmM400EMX6nSaKs9gA9jz\n",
       "EPXtUfdhQLa7DNUrjL0HlT8nxA90QtzIYh545ZE6vlh5aeTHpYxKs3iMtqowIsL31MELsVHG/oE+\n",
       "gj7g2FPPYd586N9aK+URSgszKd0Bdzg2CJgxC9M8jocm8SZ4X0WAFJlJN9w1NYZNjQ4cuoWn7z6z\n",
       "f+hJCiMn1y7dUTk5t0owcO9v0Su8C9xbL+AUwjyWcP9xwbA83QzC9Odz6fPBqf5QFsXA3gQyEEYi\n",
       "0151R+OUYRHDdL1EUvFGxvl2NlIKqPXeyAWE6WJ74LebUtoIPxtHq0zaMemPm1Ar1sfZO25Lla8g\n",
       "TDRZP/zU/u4zeWUdGA1zJV6wGX86vJRxNQUneRBvoN3HVslhnvjcUUHUCtFJP5wX2UD9DCk4zKbv\n",
       "QmkYr5fgrdnoD/OhPOgyHT7kl2MSleYZRuYG2ct+g4sKR7gAAAAASUVORK5CYII=\n",
       "\" style=\"display:inline;vertical-align:middle;\" /></a><br>"
      ],
      "text/plain": [
       "defaults.assumptions: (P(y), x = y)"
      ]
     },
     "execution_count": 3,
     "metadata": {},
     "output_type": "execute_result"
    }
   ],
   "source": [
    "defaults.assumptions = sub_left_side_into.all_conditions()"
   ]
  },
  {
   "cell_type": "code",
   "execution_count": 4,
   "metadata": {},
   "outputs": [
    {
     "data": {
      "text/html": [
       "<span style=\"font-size:20px;\"> <a class=\"ProveItLink\" href=\"../../axioms.ipynb#substitution\" style=\"text-decoration: none\">&nbsp;&#x22A2;&nbsp;&nbsp;</a><a class=\"ProveItLink\" href=\"../../../__pv_it/axioms/b3647e5bced6c805148d96be1aa0946871a946d20/expr.ipynb\"><img src=\"data:image/png;base64,iVBORw0KGgoAAAANSUhEUgAAAO8AAAAXBAMAAAARnwX+AAAAMFBMVEX///+IiIgiIiIQEBB2dnbu\n",
       "7u5ERETMzMzc3NwyMjK6urpmZmaYmJiqqqpUVFQAAAB6qHgnAAAAAXRSTlMAQObYZgAAAAlwSFlz\n",
       "AAAOxAAADsQBlSsOGwAAAv1JREFUSMe1Vk1oE1EQnjSbpNlN0uSgiJUSehEKQiyKIAit6MFDZQtS\n",
       "D0JpDxUPIsXiUV0setS9CB4UIp48SAIW/1p0eymooKF68QebUqkHL/VQ7NF58/42+9LWBDows9++\n",
       "+fJm3r438wLQtngm7vwPvhf5acsSq5nYzm/Pfyi0zl6+txH4M9mZkxqj7GvGbOTEAq6v2Mu91uMm\n",
       "fGatX8cUZpJ2TWaUc5frNbY1Y60HdgJm418nFGaSqZrMKOc9V5ajVWs9cJxsxdWY5LDJjHLiLmkG\n",
       "M0m3scVfyB4PYZL7JjPKSQdc+3t7D7UReIaZD/2/JR7uOXsCP9xpg6g5ie4ARvH71rk+B5jYbPbq\n",
       "5oH50v4oXI0tO0WAt7T/vSR1aORY2RJ8xHPgc70NnYyRmA3M2bc4dAeoYfyVOONl1nM4wyeDqDlX\n",
       "MbNVAAxPmnStMjqS7yZbCnyUmeyaxClwqF6uG0TNceN5OIjUNa7ZPJ2triYVuG1gq6hxnLrWI7OM\n",
       "NafipnD5dokr+PMsr5Uh5i686MY+avdALhSYD1JLlA7xqZN1jSteAnNfNPY4xHkJMfaZi1xhiLUS\n",
       "WKB25q2m8WgOd7lTOjANPjuPEigHwLheJcMj5RWw5DSNBa84cImyyIxxhWlKaZYaD4yn8HFzEXbr\n",
       "wGIQwg5RN3fKEi9deQpPZJU1iObAa6jg+XMGuEKOTtVFTtsg+xOWw3u8oWaRDoDLzCwpfK6QnWP9\n",
       "r88IrDkwOvgG96yjzFXIEbKpEl2pfeJ1TA3yT60c+NNJWoLGvHaKRuAGzinUG0LFZbMOcAamLd/B\n",
       "B+y313RgGhQiHXQdZOsPoleDE20GYY7lJ9g9NScUxKoApmrO3sFd+IBvC74OTINCpAPlAnRM+AoL\n",
       "uRVdb5jTkc8N8KswdB1S0uKSqiW8ZNC0jpUDZQQyssoQRzNQ84Y42Xl2+Sc9rlySP3ALbN5DbDeX\n",
       "f9y8gSgH287Q3xyJY1v8mZKcPUJFeylQ3fAkwZ4faB5YOXZavJ2b+h8Zyc63Hwf/xgAAAABJRU5E\n",
       "rkJggg==\n",
       "\" style=\"display:inline;vertical-align:middle;\" /></a></span>"
      ],
      "text/plain": [
       "|- forall_{f, x, y | x = y} (f(x) = f(y))"
      ]
     },
     "execution_count": 4,
     "metadata": {},
     "output_type": "execute_result"
    }
   ],
   "source": [
    "substitution"
   ]
  },
  {
   "cell_type": "code",
   "execution_count": 5,
   "metadata": {},
   "outputs": [
    {
     "data": {
      "text/html": [
       "<span style=\"font-size:20px;\"><a class=\"ProveItLink\" href=\"../../../__pv_it/theorems/8dc625ee9fbf5f96228c059ed58b16ec83d4e40d0/expr.ipynb\"><img src=\"data:image/png;base64,iVBORw0KGgoAAAANSUhEUgAAADMAAAANBAMAAAD2/0vEAAAAMFBMVEX///9ERES6uroQEBAyMjLc\n",
       "3NyYmJgiIiJmZmaqqqp2dnbMzMxUVFSIiIju7u4AAAAd7oVFAAAAAXRSTlMAQObYZgAAAAlwSFlz\n",
       "AAAOxAAADsQBlSsOGwAAAJpJREFUGNNjYHh75/WqCQwogO9GAsMbIN3Ae5ajAEhzlIPBASCTi9OA\n",
       "IZ+BgS2A7R9PAqqunUC1BxkYuBk4HBjQwAPmCwy2IAaQRgf6D7h/g+kAvgeodjG0MPAaMDA8VDjM\n",
       "wIWuS4aBEahk/r5mBk10qR4GfaDLXtzlbJuALvVmbX8AAy6wBIc4lwOfJQ4p9gs8C3BIceY2AUkA\n",
       "2hAptbp3A+oAAAAASUVORK5CYII=\n",
       "\" style=\"display:inline;vertical-align:middle;\" /></a> <a class=\"ProveItLink\" href=\"../../../__pv_it/_proof_sub_left_side_into/3af877e50dd15d12f102e341ccabb96ce88f62b20/proof.ipynb\" style=\"text-decoration: none\">&nbsp;&#x22A2;&nbsp;&nbsp;</a><a class=\"ProveItLink\" href=\"../../../__pv_it/_proof_sub_left_side_into/d166541dbe5cf207c1aafb9d296600db2fa6ca8f0/expr.ipynb\"><img src=\"data:image/png;base64,iVBORw0KGgoAAAANSUhEUgAAAHgAAAAVBAMAAAB/IDdlAAAAMFBMVEX///+6urqYmJgiIiLc3Nx2\n",
       "dnaqqqrMzMwQEBDu7u5mZmYyMjJUVFRERESIiIgAAAAee7pSAAAAAXRSTlMAQObYZgAAAAlwSFlz\n",
       "AAAOxAAADsQBlSsOGwAAAf5JREFUOMt9lE9IG0EUxr+Na+KubszRkyiIB0WaUtCLSKD02BJa9NIe\n",
       "gl7Ei7l4zl69lBy1gkhCD0VaQm/10lDIQbAQoQfB0CxSREL/RFGk1FS/2Z1sdrOyDybz8ub3Zt43\n",
       "b3cBj6lyTiHMVD/ctlM5D4cmS0qxxO+v29rXvTydaFoux0cCGfF66+D4HbzUif37DzDWOW+56Kfg\n",
       "eYMl4CjvpfrFv9h/bseBgktOBJNzrHLV8lKRHVHRNccVHdMl+/KB5D9ZjrSPEtUaTQ5uEC254f6g\n",
       "6LoYWR/1UaipOkXp3Ff7vb+2APSWA8ktR59NbRegkXjlqHkyLY/T8dMqUo69ffGRsFk7l4nqi4yk\n",
       "0suIsNxJoaYyPyrWe7g2hgf5L6zNDLTqZv55QlKxTBEDLHdZqrFviYtZ7NrnNLuTjWaH0vAafdSZ\n",
       "c9rsJoNx8fSY97XZpZS/yPHuhnjKlQyLsqFcYpNlJ7s159IeSi/hjO4S1Zy3K7OgHQ6YIBapBtqc\n",
       "6FAwyqjRneL1tdWwP9HrN6aScfrht8/oUNDLygXdt9DrLcsJx5LQPlgr46K2RFfu+9vvcClolcYl\n",
       "3YdeYsb1Hoe8kTbVy/tTk95w53UohCSTeokNoc33DBvtL4haDUkmNYcKnae+sFbt3uU+I7XYEHfy\n",
       "zR9/JucfoZ8hScVTuAO/soJrWqvjTgAAAABJRU5ErkJggg==\n",
       "\" style=\"display:inline;vertical-align:middle;\" /></a></span>"
      ],
      "text/plain": [
       "{x = y} |- P(x) = P(y)"
      ]
     },
     "execution_count": 5,
     "metadata": {},
     "output_type": "execute_result"
    }
   ],
   "source": [
    "# P(x)=P(y) from x=y via substitution\n",
    "substitution.instantiate({f:P, x:x, y:y})"
   ]
  },
  {
   "cell_type": "code",
   "execution_count": 6,
   "metadata": {},
   "outputs": [
    {
     "data": {
      "text/html": [
       "<span style=\"font-size:20px;\"><a class=\"ProveItLink\" href=\"../../../../../__pv_it/common/da54d8e4a8a27a02e3008e3dbdbc9c2042ade4470/expr.ipynb\"><img src=\"data:image/png;base64,iVBORw0KGgoAAAANSUhEUgAAAC0AAAAVBAMAAAAgHXppAAAAMFBMVEX///+6urqYmJgiIiLc3Nx2\n",
       "dnaqqqrMzMwQEBDu7u5mZmYyMjJUVFRERESIiIgAAAAee7pSAAAAAXRSTlMAQObYZgAAAAlwSFlz\n",
       "AAAOxAAADsQBlSsOGwAAASBJREFUGNNjYEAGDigUHPAlQGg5MPn2/52zuyaAWKkweQUw9ZuBgbcT\n",
       "SHNugGncCSLY/zEwsAExA5cCTFwLrOs7EH8FMjjgFnGAjOX9AMRAOYZsuDg3SCf/BQaG+gdAxlKg\n",
       "Fa8UGOYwMLAeYACLuZqBVG0CCrA1MOgzMDCBXPD+aKgiWDdQsozLgOEs0BkNQO59mKmNDAwTOB4w\n",
       "9AGd+AHifLg4g/wEdqATGIHq2b/CxEGWrGbgA4qxGQCd/hEmfg+I7zDwAt3CBHQi9weYeAwQr2GQ\n",
       "B7qdK4CB6/7fB1DxYiCeE7ceGMrMAsjBzFwAIqOB2Bkl+JkWMLBu4GwDshahxssVBuYHPAEMDCwX\n",
       "UMXnMrDpLQSFJFpEskBd8ISBAQDJ+z+onRJgsAAAAABJRU5ErkJggg==\n",
       "\" style=\"display:inline;vertical-align:middle;\" /></a> <a class=\"ProveItLink\" href=\"../../../__pv_it/_proof_sub_left_side_into/eaa1eb4b349e187cb12020fcbf69040b74e18cc20/proof.ipynb\" style=\"text-decoration: none\">&nbsp;&#x22A2;&nbsp;&nbsp;</a><a class=\"ProveItLink\" href=\"../../../__pv_it/_proof_sub_left_side_into/a82c8f7fcec7dab5d4029124a666b9e9a1ea23ba0/expr.ipynb\"><img src=\"data:image/png;base64,iVBORw0KGgoAAAANSUhEUgAAAFoAAAAVBAMAAAA0iOSIAAAAMFBMVEX///+6urqYmJgiIiLc3Nx2\n",
       "dnaqqqrMzMwQEBDu7u5mZmYyMjJUVFRERESIiIgAAAAee7pSAAAAAXRSTlMAQObYZgAAAAlwSFlz\n",
       "AAAOxAAADsQBlSsOGwAAATxJREFUKM9jYEAGDigUAcCXAKHl8Kh5+//O2V0TQKxUmC4FdDWLjUHA\n",
       "BsT8zcDA2wmkOTfAJHdiMTQPQrH/Y2BgA2IGLriRWrhV830H4q9ABgdchmMCTtW8H4AYqIMhGy7D\n",
       "rYBTNf8FBob6B0DGUqDTXykwzGFgYD2AUzVQpasZiLEJqIytgUGfgYFpA1pAIFS/PxqqCGYAtZRx\n",
       "GTCcBXq6AafZ92H8RgaGCRwPGPqAwfQBp+rfSKoZ5CewAz3MiNNs9q8wPsjxqxn4gCrZDHC5m+8j\n",
       "TPU9IL7DwAsMD6YLuMzmhrsxBojXMMgDw5orAIdqrvt/H0D5xUA8J249ML0yC2CqFkLjMxeAyGgg\n",
       "diYieTMtYGDdwNkGZC0iJjdcYWB+wAN0MssFYlTPZWDTWwhKZ0RlNRaof5/gUgAA6/hKfHyVnIAA\n",
       "AAAASUVORK5CYII=\n",
       "\" style=\"display:inline;vertical-align:middle;\" /></a></span>"
      ],
      "text/plain": [
       "{P(y)} |- P(y) = TRUE"
      ]
     },
     "execution_count": 6,
     "metadata": {},
     "output_type": "execute_result"
    }
   ],
   "source": [
    "Py.prove().evaluation()"
   ]
  },
  {
   "cell_type": "code",
   "execution_count": 7,
   "metadata": {},
   "outputs": [
    {
     "data": {
      "text/html": [
       "<span style=\"font-size:20px;\"><a class=\"ProveItLink\" href=\"../../../__pv_it/theorems/8dc625ee9fbf5f96228c059ed58b16ec83d4e40d0/expr.ipynb\"><img src=\"data:image/png;base64,iVBORw0KGgoAAAANSUhEUgAAADMAAAANBAMAAAD2/0vEAAAAMFBMVEX///9ERES6uroQEBAyMjLc\n",
       "3NyYmJgiIiJmZmaqqqp2dnbMzMxUVFSIiIju7u4AAAAd7oVFAAAAAXRSTlMAQObYZgAAAAlwSFlz\n",
       "AAAOxAAADsQBlSsOGwAAAJpJREFUGNNjYHh75/WqCQwogO9GAsMbIN3Ae5ajAEhzlIPBASCTi9OA\n",
       "IZ+BgS2A7R9PAqqunUC1BxkYuBk4HBjQwAPmCwy2IAaQRgf6D7h/g+kAvgeodjG0MPAaMDA8VDjM\n",
       "wIWuS4aBEahk/r5mBk10qR4GfaDLXtzlbJuALvVmbX8AAy6wBIc4lwOfJQ4p9gs8C3BIceY2AUkA\n",
       "2hAptbp3A+oAAAAASUVORK5CYII=\n",
       "\" style=\"display:inline;vertical-align:middle;\" /></a>, <a class=\"ProveItLink\" href=\"../../../../../__pv_it/common/da54d8e4a8a27a02e3008e3dbdbc9c2042ade4470/expr.ipynb\"><img src=\"data:image/png;base64,iVBORw0KGgoAAAANSUhEUgAAAC0AAAAVBAMAAAAgHXppAAAAMFBMVEX///+6urqYmJgiIiLc3Nx2\n",
       "dnaqqqrMzMwQEBDu7u5mZmYyMjJUVFRERESIiIgAAAAee7pSAAAAAXRSTlMAQObYZgAAAAlwSFlz\n",
       "AAAOxAAADsQBlSsOGwAAASBJREFUGNNjYEAGDigUHPAlQGg5MPn2/52zuyaAWKkweQUw9ZuBgbcT\n",
       "SHNugGncCSLY/zEwsAExA5cCTFwLrOs7EH8FMjjgFnGAjOX9AMRAOYZsuDg3SCf/BQaG+gdAxlKg\n",
       "Fa8UGOYwMLAeYACLuZqBVG0CCrA1MOgzMDCBXPD+aKgiWDdQsozLgOEs0BkNQO59mKmNDAwTOB4w\n",
       "9AGd+AHifLg4g/wEdqATGIHq2b/CxEGWrGbgA4qxGQCd/hEmfg+I7zDwAt3CBHQi9weYeAwQr2GQ\n",
       "B7qdK4CB6/7fB1DxYiCeE7ceGMrMAsjBzFwAIqOB2Bkl+JkWMLBu4GwDshahxssVBuYHPAEMDCwX\n",
       "UMXnMrDpLQSFJFpEskBd8ISBAQDJ+z+onRJgsAAAAABJRU5ErkJggg==\n",
       "\" style=\"display:inline;vertical-align:middle;\" /></a> <a class=\"ProveItLink\" href=\"../../../__pv_it/_proof_sub_left_side_into/daf0051853dbc64e0b99acc50cec7a47ca77f6950/proof.ipynb\" style=\"text-decoration: none\">&nbsp;&#x22A2;&nbsp;&nbsp;</a><a class=\"ProveItLink\" href=\"../../../__pv_it/_proof_sub_left_side_into/9a2f0fb09671a1301722a691f0c5297bac2162e60/expr.ipynb\"><img src=\"data:image/png;base64,iVBORw0KGgoAAAANSUhEUgAAAFoAAAAVBAMAAAA0iOSIAAAAMFBMVEX///+6urqYmJgiIiLc3Nx2\n",
       "dnaqqqrMzMwQEBDu7u5mZmYyMjJUVFRERESIiIgAAAAee7pSAAAAAXRSTlMAQObYZgAAAAlwSFlz\n",
       "AAAOxAAADsQBlSsOGwAAASZJREFUKM9jYEAGDhCKhYEYwJcAoRkf4Fbz9v+ds7smgFipMKFH6GoW\n",
       "G4OADYj5m4GBtxNIc26ASXJPwDQ0D0Kx/2NgYANiBi4FmAzTApyq+b4D8VcggwMh1YlTNe8HIAbq\n",
       "YMhGSG3CqZr/AgNDPSgUlgLxvDfTQ4EhE4NTNVClqxnMwAV857gMGBi00QICofr90VBFMAOohcmB\n",
       "6ScP0LMZOM2+D+M3AsOHgQscjPU4Vf9GUg0MGHA8SuBSzf4Vxgc7Xt6BExg1ybjczfcRpvoeA8Nc\n",
       "gRMMrECmLi6zuT/A+MBgy69cwSAGDUxsqrnu/4WluGIGhlnv2BaBEqIhpmohND5zAYzFYkA4eSPS\n",
       "EiJ94QFXYAxfYvLOXAxt+AAL1L98DjgUAAC2/UayInEeUQAAAABJRU5ErkJggg==\n",
       "\" style=\"display:inline;vertical-align:middle;\" /></a></span>"
      ],
      "text/plain": [
       "{x = y, P(y)} |- P(x) = TRUE"
      ]
     },
     "execution_count": 7,
     "metadata": {},
     "output_type": "execute_result"
    }
   ],
   "source": [
    "# P(x)=TRUE via P(y)=TRUE and transitivity\n",
    "Px.evaluation()"
   ]
  },
  {
   "cell_type": "code",
   "execution_count": null,
   "metadata": {},
   "outputs": [],
   "source": [
    "%qed"
   ]
  },
  {
   "cell_type": "code",
   "execution_count": null,
   "metadata": {},
   "outputs": [],
   "source": []
  }
 ],
 "metadata": {
  "kernelspec": {
   "display_name": "Python 3",
   "language": "python",
   "name": "python3"
  },
  "language_info": {
   "codemirror_mode": {
    "name": "ipython",
    "version": 3
   },
   "file_extension": ".py",
   "mimetype": "text/x-python",
   "name": "python",
   "nbconvert_exporter": "python",
   "pygments_lexer": "ipython3",
   "version": "3.7.3"
  }
 },
 "nbformat": 4,
 "nbformat_minor": 1
}
