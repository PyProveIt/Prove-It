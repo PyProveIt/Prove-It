{
 "cells": [
  {
   "cell_type": "markdown",
   "metadata": {},
   "source": [
    "Proof of <a class=\"ProveItLink\" href=\"../../../../../../_theory_nbs_/theory.ipynb\">proveit</a>.<a class=\"ProveItLink\" href=\"../../../../../_theory_nbs_/theory.ipynb\">logic</a>.<a class=\"ProveItLink\" href=\"../../../../_theory_nbs_/theory.ipynb\">booleans</a>.<a class=\"ProveItLink\" href=\"../../theory.ipynb\">conjunction</a>.<a class=\"ProveItLink\" href=\"../../theorems.ipynb#nand_if_right_but_not_left\">nand_if_right_but_not_left</a> theorem\n",
    "========"
   ]
  },
  {
   "cell_type": "code",
   "execution_count": 1,
   "metadata": {},
   "outputs": [],
   "source": [
    "import proveit\n",
    "from proveit import A, B\n",
    "from proveit import defaults\n",
    "from proveit.logic.booleans.conjunction import false_and_true_negated\n",
    "theory = proveit.Theory() # the theorem's theory"
   ]
  },
  {
   "cell_type": "code",
   "execution_count": 2,
   "metadata": {},
   "outputs": [
    {
     "data": {
      "text/html": [
       "Under these <a href=\"presumptions.txt\">presumptions</a>, we begin our proof of<br><strong id=\"nand_if_right_but_not_left\">nand_if_right_but_not_left:</strong> <a class=\"ProveItLink\" href=\"../../../__pv_it/theorems/ca21bf9205fe1ec297780c7a901c1274bd3278ee0/expr.ipynb\"><img src=\"data:image/png;base64,iVBORw0KGgoAAAANSUhEUgAAANYAAAAXBAMAAACFeawMAAAAMFBMVEX///+IiIgiIiIQEBB2dnbu\n",
       "7u5ERETMzMzc3NwyMjK6urpmZmaYmJiqqqpUVFQAAAB6qHgnAAAAAXRSTlMAQObYZgAAAAlwSFlz\n",
       "AAAOxAAADsQBlSsOGwAAAvNJREFUSMe1Vk1IVFEU/ubnzYzNOL5o08JycCMlgkU/FBguJNpkUwuh\n",
       "TdgiC1o4tGjZWEEQgSOIISFlhLgpGkKM/mhqEYiQQ7aJglwVETgG/VhRds6586Y79w0vetSF6z33\n",
       "fnfOd+75ewK+R0zfDHjdHDBv//VYp8mBoizna9+8SnOVDSzw5pUPqvpObfNcLVeMO4n+n4vvjiJQ\n",
       "ILkRuMtnoz64DmqyNaToV8r7vQ4Q6gVKGYyQWJfGKfZlrw+u+5ocL6ilpMJmbXCAHHnuZh6z/MY8\n",
       "0yFc9MHVrskhtezZl1HRezpeBuboYM5GiEiwFQkyqc5PuIa0zQuVmHaTMjoYdRxVojk8gDp+9xiw\n",
       "ubl5iw+uuJ4aU+oIrwvlTHESYBtwqIUcxxnYDdwGjsh52lBWvTVQZaozxuTvDWSVAaN4qc6jn1ev\n",
       "ZyzBTpgBBhGTvLe2C3zye9e0eD1SpdpEESR33Wqm0UqbNjnKIyeaogsIKtMCy8A8GVXPwZ0nnemw\n",
       "RDL8Q5VECoF2N5eJIuSEf5DmTlF8/F5J4pTMIGALFqG74S/EvkSbLHHaKjUmN8mSzCOx5OYy0Rpc\n",
       "+4GGVLnyLBHQQO9MfKCmwfZdozn0SM7ty0pHEQcKbi4TFR9WuNqUCxFsdyr5gWBZupv8Ru9h6mcM\n",
       "jYgHcEdVX+PsW7i4XCgidhm6QPMwNzwuHnlzqtIZm6i2s5QXCfbtE5pnJaCTWCPwY1jvNa7dfX19\n",
       "qRqoSmNndLMa/s0yx5StiEgGDZMJO9LlAplSoWSpqyS5Q6py49XvWqiBIprSuE4APSsjqO//SkqT\n",
       "fDPKhG9WFhcvsq+D/JuNv52EnHB2UAPLmFxuFGjRuIIZ78I/w12lYtx1Spqi1YnYJ1itRrzyNVBI\n",
       "P618O/J/7tNxp/jju2A9vBTtwMzHrumimRs1UML1T/Ex7y84p8Y5s6FqcsTdbqs7if4h6vHkErNM\n",
       "cyY8uSaqt6d1y20vrrWcEOZ/JAVPrgL+14j9c42/ADlCvNYOgWAvAAAAAElFTkSuQmCC\n",
       "\" style=\"display:inline;vertical-align:middle;\" /></a><br>(see <a class=\"ProveItLink\" href=\"../../../__pv_it/theorems/b1439d110fb25f4dd41c3456e9cd25cd3aa496640/dependencies.ipynb\">dependencies</a>)<br>"
      ],
      "text/plain": [
       "nand_if_right_but_not_left: forall_{A, B | [not](A), B} [not](A and B)"
      ]
     },
     "execution_count": 2,
     "metadata": {},
     "output_type": "execute_result"
    }
   ],
   "source": [
    "%proving nand_if_right_but_not_left"
   ]
  },
  {
   "cell_type": "code",
   "execution_count": 3,
   "metadata": {},
   "outputs": [
    {
     "data": {
      "text/html": [
       "<strong id=\"defaults.assumptions\">defaults.assumptions:</strong> <a class=\"ProveItLink\" href=\"../../../__pv_it/theorems/b74611e867f161f227a4c5eeda278962cec922b00/expr.ipynb\"><img src=\"data:image/png;base64,iVBORw0KGgoAAAANSUhEUgAAAEMAAAAVBAMAAADvM06qAAAAMFBMVEX////MzMxUVFRERES6uroi\n",
       "IiIQEBCYmJhmZmYyMjLu7u52dnaqqqqIiIjc3NwAAACW8nlqAAAAAXRSTlMAQObYZgAAAAlwSFlz\n",
       "AAAOxAAADsQBlSsOGwAAAVlJREFUKM99kr1Lw0AYxh9t0/QjsVmcU+LklLi5aP0DFOvQzSGgi1tG\n",
       "t2ZTcCkIFboY7FwI/gHaSRAHg7s2i4JT68fSwcb3SnJeDPTgwvvc+7t73rx3AELMGbOkOhCX3v8h\n",
       "O+zzkFq6TAK5/mmsrkF1gHJbJJSIhwULMDV0gaIjIkWTVzYKgF0XxwSnfG5utSRsUdQKUPBwLxJL\n",
       "wZAXb9LshCg5OEv54JH7HgBXe0ClhgsR2Ybux+HC1/MTy8lt7NPeJhsuaRejWoyoU+COjlRsHCZl\n",
       "UE5dPzWtWOdsMvmg08YppA9UG7GukpZ/gLzNjDhCXpIda51MFr/JqIGNBHGRp9XSGPCYHlIPdeq8\n",
       "bOH673/eWAlTlCdMdMjjiOCij2VO9KIulPrER5MyK5FhnLM2SluQtMwbUTxBvJKXm0EqojihuZlB\n",
       "+uKtsT71MkggxLlwdrvz3u4L8Ato8U37KQOQLQAAAABJRU5ErkJggg==\n",
       "\" style=\"display:inline;vertical-align:middle;\" /></a><br>"
      ],
      "text/plain": [
       "defaults.assumptions: ([not](A), B)"
      ]
     },
     "execution_count": 3,
     "metadata": {},
     "output_type": "execute_result"
    }
   ],
   "source": [
    "defaults.assumptions = nand_if_right_but_not_left.all_conditions()"
   ]
  },
  {
   "cell_type": "code",
   "execution_count": 5,
   "metadata": {},
   "outputs": [
    {
     "data": {
      "text/html": [
       "<strong id=\"AeqF\">AeqF:</strong> <span style=\"font-size:20px;\"><a class=\"ProveItLink\" href=\"../../../../negation/__pv_it/theorems/2d607b2877f5542a9baeaa9f0a7ccbda21f95e660/expr.ipynb\"><img src=\"data:image/png;base64,iVBORw0KGgoAAAANSUhEUgAAABwAAAAPBAMAAAAFYbKSAAAAMFBMVEX///8QEBDu7u5ERES6urqY\n",
       "mJiIiIjMzMx2dnaqqqoyMjJUVFTc3NwiIiJmZmYAAABGfvnsAAAAAXRSTlMAQObYZgAAAAlwSFlz\n",
       "AAAOxAAADsQBlSsOGwAAAGtJREFUCNdjYEAAngUMyIDrAwp3Pir39R9kHseJ78jcY2w/kbkPOL8i\n",
       "8VgmsP9gYHh7FwjuAbl8DDy/oTKngTj53evPCC5TAgPDXwSXD0hdhHLPMTC4Aqn1COcLAAn7A1Ae\n",
       "k/0vBYbJ/1cAADCoIK4mExe8AAAAAElFTkSuQmCC\n",
       "\" style=\"display:inline;vertical-align:middle;\" /></a> <a class=\"ProveItLink\" href=\"../../../__pv_it/_proof_nand_if_right_but_not_left/3f5747a1f735d4d6080d0ae3662b1236d31c4a7a0/proof.ipynb\" style=\"text-decoration: none\">&nbsp;&#x22A2;&nbsp;&nbsp;</a><a class=\"ProveItLink\" href=\"../../../../__pv_it/theorems/df6506bd32d9f7c53b00f834a4c61833f27224860/expr.ipynb\"><img src=\"data:image/png;base64,iVBORw0KGgoAAAANSUhEUgAAADoAAAAPBAMAAABHIsEFAAAAMFBMVEX///8QEBAiIiLu7u5ERES6\n",
       "urqYmJiIiIjMzMx2dnZUVFRmZmaqqqoyMjLc3NwAAABb1yYoAAAAAXRSTlMAQObYZgAAAAlwSFlz\n",
       "AAAOxAAADsQBlSsOGwAAAHtJREFUGNNjYACBtwz4wH0sYmEwBs9/LLLHYQzu9Q/wyM6b34Bblq+g\n",
       "/gBuWW6G8wm4ZWMY+ieA6E1KIKCFJruB4f0CnHrZvXevd8Apa87AwK+AU3YDAwOTAC57WYHu5f2A\n",
       "S+9DIGb5h0PW5P9lBh7/vxNQpYCWCAItAQBcPiViPKBKnQAAAABJRU5ErkJggg==\n",
       "\" style=\"display:inline;vertical-align:middle;\" /></a></span><br>"
      ],
      "text/plain": [
       "AeqF: {[not](A)} |- A = FALSE"
      ]
     },
     "execution_count": 5,
     "metadata": {},
     "output_type": "execute_result"
    }
   ],
   "source": [
    "AeqF = A.evaluation()"
   ]
  },
  {
   "cell_type": "code",
   "execution_count": 6,
   "metadata": {},
   "outputs": [
    {
     "data": {
      "text/html": [
       "<strong id=\"BeqT\">BeqT:</strong> <span style=\"font-size:20px;\"><a class=\"ProveItLink\" href=\"../../../../../../__pv_it/common/a9162d1c3cc0470c02e5daf414500903a7a419230/expr.ipynb\"><img src=\"data:image/png;base64,iVBORw0KGgoAAAANSUhEUgAAABAAAAAOBAMAAADUAYG5AAAAMFBMVEX///92dnaqqqoiIiLu7u5m\n",
       "Zma6urqIiIjc3NwQEBDMzMwyMjJUVFRERESYmJgAAAAeMT9/AAAAAXRSTlMAQObYZgAAAAlwSFlz\n",
       "AAAOxAAADsQBlSsOGwAAAHJJREFUCNdjYGB4+//Mmb0LGIBgLgMDzy8gzfGdgYHtK5DBB+TxATkM\n",
       "PB8YGLhnABmcFxhYDoMUr79efvoBSFN9AwPTPBDjJhDLg6T+APH7AgYGrn9AxvkEBgb2H0DObyCH\n",
       "ewIDQ+YWoHH3/5w5fYmBAQBWoiHo17XzsQAAAABJRU5ErkJggg==\n",
       "\" style=\"display:inline;vertical-align:middle;\" /></a> <a class=\"ProveItLink\" href=\"../../../__pv_it/_proof_nand_if_right_but_not_left/d19ac0113bde5b47003c985d69c4ab01b0c31d920/proof.ipynb\" style=\"text-decoration: none\">&nbsp;&#x22A2;&nbsp;&nbsp;</a><a class=\"ProveItLink\" href=\"../../../__pv_it/_proof_nand_if_right_but_not_left/b677a00a750ae462ef977207acadfa9dc94a9f730/expr.ipynb\"><img src=\"data:image/png;base64,iVBORw0KGgoAAAANSUhEUgAAADwAAAAOBAMAAACBYGLnAAAAMFBMVEX///92dnaqqqoiIiLu7u5m\n",
       "Zma6urqIiIjc3NwQEBDMzMwyMjJUVFRERESYmJgAAAAeMT9/AAAAAXRSTlMAQObYZgAAAAlwSFlz\n",
       "AAAOxAAADsQBlSsOGwAAAIlJREFUGNNjYGB4+//Mmb0LGFBBsDEI2ICYcxkYeH4xYAB1CMXxnYGB\n",
       "7StOaT6gTr7vOKV5PjAwcM/AKc15gYHl8AKc0uuvl59+gO5chHR9AwPTPAacum8CsTxuw/8A8fsC\n",
       "XNJc/4DE+QRcdrP/ACr5jdNu7gkMDJlbcEnz3P9z5vQlLLIMeUAMAHElKNSwcIzcAAAAAElFTkSu\n",
       "QmCC\n",
       "\" style=\"display:inline;vertical-align:middle;\" /></a></span><br>"
      ],
      "text/plain": [
       "BeqT: {B} |- B = TRUE"
      ]
     },
     "execution_count": 6,
     "metadata": {},
     "output_type": "execute_result"
    }
   ],
   "source": [
    "BeqT = B.evaluation()"
   ]
  },
  {
   "cell_type": "code",
   "execution_count": 7,
   "metadata": {},
   "outputs": [
    {
     "data": {
      "text/html": [
       "<strong id=\"FandB\">FandB:</strong> <span style=\"font-size:20px;\"><a class=\"ProveItLink\" href=\"../../../../../../__pv_it/common/a9162d1c3cc0470c02e5daf414500903a7a419230/expr.ipynb\"><img src=\"data:image/png;base64,iVBORw0KGgoAAAANSUhEUgAAABAAAAAOBAMAAADUAYG5AAAAMFBMVEX///92dnaqqqoiIiLu7u5m\n",
       "Zma6urqIiIjc3NwQEBDMzMwyMjJUVFRERESYmJgAAAAeMT9/AAAAAXRSTlMAQObYZgAAAAlwSFlz\n",
       "AAAOxAAADsQBlSsOGwAAAHJJREFUCNdjYGB4+//Mmb0LGIBgLgMDzy8gzfGdgYHtK5DBB+TxATkM\n",
       "PB8YGLhnABmcFxhYDoMUr79efvoBSFN9AwPTPBDjJhDLg6T+APH7AgYGrn9AxvkEBgb2H0DObyCH\n",
       "ewIDQ+YWoHH3/5w5fYmBAQBWoiHo17XzsQAAAABJRU5ErkJggg==\n",
       "\" style=\"display:inline;vertical-align:middle;\" /></a> <a class=\"ProveItLink\" href=\"../../../__pv_it/_proof_nand_if_right_but_not_left/97f59dbf11cf6c5226a15250a754a1479118e2800/proof.ipynb\" style=\"text-decoration: none\">&nbsp;&#x22A2;&nbsp;&nbsp;</a><a class=\"ProveItLink\" href=\"../../../__pv_it/_proof_nand_if_right_but_not_left/ebfa5d12eeb103889e8eb399bfe4ef57721e44d00/expr.ipynb\"><img src=\"data:image/png;base64,iVBORw0KGgoAAAANSUhEUgAAAFYAAAAVBAMAAAAutAQGAAAAMFBMVEX////MzMxERES6uroQEBCY\n",
       "mJgyMjLu7u52dnaqqqqIiIhUVFTc3NwiIiJmZmYAAAAM3gM0AAAAAXRSTlMAQObYZgAAAAlwSFlz\n",
       "AAAOxAAADsQBlSsOGwAAAU9JREFUKM9jYECAAwx4AA8Kj2sCPrXMC5B5M8BCARiqgv7v3p0kwLAU\n",
       "SYg9AURywrVzwK1xYmDg/sjAVoBQyxeAqrY2AebSX0Dr/jGwPkCoZWFAVbt0M5TB+hGIgerdEWqn\n",
       "oam9IARlcH9gYGDzYWBIRah9gaqWs4ENGoYsCgzsewUYGLoRalNR1bId4IQ6UF5r1TaQX8IY3t4F\n",
       "gntA5k1UtdIMDNchrPUHGDhdgfQUCPc0EDujqt3IwLAKwlIB4n6gG+RxqQWFdi2E+RuI44HCJgi1\n",
       "qG4AxQQfODYYvwKJ/QYMDHMhMueAWAtFLS8oEsCxwfUHqP4bKK4R4dCNojYKRCiCA8QBaH06PFDB\n",
       "QBZo6d27V3zv3t0A5G0HCUmBYkL/9+5tmiDeZYRaXgEGvIDnAoKNnDawAT7k1KqDX+0hZE4RfrUo\n",
       "RvEswKeU6wADADXEUEoY4A+kAAAAAElFTkSuQmCC\n",
       "\" style=\"display:inline;vertical-align:middle;\" /></a></span><br>"
      ],
      "text/plain": [
       "FandB: {B} |- [not](FALSE and B)"
      ]
     },
     "execution_count": 7,
     "metadata": {},
     "output_type": "execute_result"
    }
   ],
   "source": [
    "FandB = BeqT.sub_left_side_into(false_and_true_negated, auto_simplify=False)"
   ]
  },
  {
   "cell_type": "code",
   "execution_count": 8,
   "metadata": {},
   "outputs": [
    {
     "data": {
      "text/html": [
       "<span style=\"font-size:20px;\"><a class=\"ProveItLink\" href=\"../../../../../../__pv_it/common/a9162d1c3cc0470c02e5daf414500903a7a419230/expr.ipynb\"><img src=\"data:image/png;base64,iVBORw0KGgoAAAANSUhEUgAAABAAAAAOBAMAAADUAYG5AAAAMFBMVEX///92dnaqqqoiIiLu7u5m\n",
       "Zma6urqIiIjc3NwQEBDMzMwyMjJUVFRERESYmJgAAAAeMT9/AAAAAXRSTlMAQObYZgAAAAlwSFlz\n",
       "AAAOxAAADsQBlSsOGwAAAHJJREFUCNdjYGB4+//Mmb0LGIBgLgMDzy8gzfGdgYHtK5DBB+TxATkM\n",
       "PB8YGLhnABmcFxhYDoMUr79efvoBSFN9AwPTPBDjJhDLg6T+APH7AgYGrn9AxvkEBgb2H0DObyCH\n",
       "ewIDQ+YWoHH3/5w5fYmBAQBWoiHo17XzsQAAAABJRU5ErkJggg==\n",
       "\" style=\"display:inline;vertical-align:middle;\" /></a>, <a class=\"ProveItLink\" href=\"../../../../negation/__pv_it/theorems/2d607b2877f5542a9baeaa9f0a7ccbda21f95e660/expr.ipynb\"><img src=\"data:image/png;base64,iVBORw0KGgoAAAANSUhEUgAAABwAAAAPBAMAAAAFYbKSAAAAMFBMVEX///8QEBDu7u5ERES6urqY\n",
       "mJiIiIjMzMx2dnaqqqoyMjJUVFTc3NwiIiJmZmYAAABGfvnsAAAAAXRSTlMAQObYZgAAAAlwSFlz\n",
       "AAAOxAAADsQBlSsOGwAAAGtJREFUCNdjYEAAngUMyIDrAwp3Pir39R9kHseJ78jcY2w/kbkPOL8i\n",
       "8VgmsP9gYHh7FwjuAbl8DDy/oTKngTj53evPCC5TAgPDXwSXD0hdhHLPMTC4Aqn1COcLAAn7A1Ae\n",
       "k/0vBYbJ/1cAADCoIK4mExe8AAAAAElFTkSuQmCC\n",
       "\" style=\"display:inline;vertical-align:middle;\" /></a> <a class=\"ProveItLink\" href=\"../../../__pv_it/_proof_nand_if_right_but_not_left/1fa929baf3548d1a02bf4b569222209abc361f000/proof.ipynb\" style=\"text-decoration: none\">&nbsp;&#x22A2;&nbsp;&nbsp;</a><a class=\"ProveItLink\" href=\"../../../__pv_it/theorems/0567bf29b3602a47df1cf08da8d3e179ba950a980/expr.ipynb\"><img src=\"data:image/png;base64,iVBORw0KGgoAAAANSUhEUgAAAFYAAAAVBAMAAAAutAQGAAAAMFBMVEX////MzMxERES6uroQEBCY\n",
       "mJgyMjLu7u52dnaqqqqIiIhUVFTc3NwiIiJmZmYAAAAM3gM0AAAAAXRSTlMAQObYZgAAAAlwSFlz\n",
       "AAAOxAAADsQBlSsOGwAAAYpJREFUKM9jYEAAHgY8AE1yJUQwAata5gXIPM4GMMX2AVURq/7v3dsU\n",
       "GRiWIguWQaj5ULUcE6DiLAoMDPsFGNgKkNQ+hVCv/0DoWphbzgNtt3/AwPoASa0DxLgTHyHcpZuh\n",
       "4vECQAxU747kXIg5p7h+QvgXhKAS+4E45QADQypCLR/Eaw84v0J9ynYAIuHEwFB9EUh3I9SyBYCD\n",
       "ZgLjDwj3ACfEgYyfVq0GGxnG8PYuENwDMnnB/uZj4PkNViLNwHAdzOAC+nUKyJwpEDNPg4LGAMRa\n",
       "9O71J7DQRgaGVWAGE9DPHCD/yqOpZQf69y9IhB3o01qwHP8GYHz8AjJMEGrBbuAD4iuwmOADu0oe\n",
       "aD/3ZyBjLkTtOZBdoAg3BeJ8kAgvPGWsBwaHPIgVhAgHDqBdPKD40AeFVRRISBFEpAADxw0Uvy8Q\n",
       "ahkvMLDrfytgmPQ/A8jbDhKSAuJN/3fvTgI75jJSHF9kwAt4LiBx4vCr5QtA4jAdwKv2EDKHXQGv\n",
       "Wh0U3il8SrkOMAAA9yZeatMtbzUAAAAASUVORK5CYII=\n",
       "\" style=\"display:inline;vertical-align:middle;\" /></a></span>"
      ],
      "text/plain": [
       "{B, [not](A)} |- [not](A and B)"
      ]
     },
     "execution_count": 8,
     "metadata": {},
     "output_type": "execute_result"
    }
   ],
   "source": [
    "AeqF.sub_left_side_into(FandB, auto_simplify=False)"
   ]
  },
  {
   "cell_type": "code",
   "execution_count": 9,
   "metadata": {},
   "outputs": [
    {
     "data": {
      "text/html": [
       "<table><tr><th>&nbsp;</th><th>step type</th><th>requirements</th><th>statement</th></tr>\n",
       "<tr><td><a name=\"0x77dc82118ea5f0b7_step0\">0</a></td><td>generalization</td><td><a href=\"#0x77dc82118ea5f0b7_step1\">1</a></td><td><span style=\"font-size:20px;\"> <a class=\"ProveItLink\" href=\"../../../__pv_it/_proof_nand_if_right_but_not_left/4cc97d63007c70131e25c5ba8cfd156aa367c72f0/proof.ipynb\" style=\"text-decoration: none\">&nbsp;&#x22A2;&nbsp;&nbsp;</a><a class=\"ProveItLink\" href=\"../../../__pv_it/theorems/ca21bf9205fe1ec297780c7a901c1274bd3278ee0/expr.ipynb\"><img src=\"data:image/png;base64,iVBORw0KGgoAAAANSUhEUgAAANYAAAAXBAMAAACFeawMAAAAMFBMVEX///+IiIgiIiIQEBB2dnbu\n",
       "7u5ERETMzMzc3NwyMjK6urpmZmaYmJiqqqpUVFQAAAB6qHgnAAAAAXRSTlMAQObYZgAAAAlwSFlz\n",
       "AAAOxAAADsQBlSsOGwAAAvNJREFUSMe1Vk1IVFEU/ubnzYzNOL5o08JycCMlgkU/FBguJNpkUwuh\n",
       "TdgiC1o4tGjZWEEQgSOIISFlhLgpGkKM/mhqEYiQQ7aJglwVETgG/VhRds6586Y79w0vetSF6z33\n",
       "fnfOd+75ewK+R0zfDHjdHDBv//VYp8mBoizna9+8SnOVDSzw5pUPqvpObfNcLVeMO4n+n4vvjiJQ\n",
       "ILkRuMtnoz64DmqyNaToV8r7vQ4Q6gVKGYyQWJfGKfZlrw+u+5ocL6ilpMJmbXCAHHnuZh6z/MY8\n",
       "0yFc9MHVrskhtezZl1HRezpeBuboYM5GiEiwFQkyqc5PuIa0zQuVmHaTMjoYdRxVojk8gDp+9xiw\n",
       "ubl5iw+uuJ4aU+oIrwvlTHESYBtwqIUcxxnYDdwGjsh52lBWvTVQZaozxuTvDWSVAaN4qc6jn1ev\n",
       "ZyzBTpgBBhGTvLe2C3zye9e0eD1SpdpEESR33Wqm0UqbNjnKIyeaogsIKtMCy8A8GVXPwZ0nnemw\n",
       "RDL8Q5VECoF2N5eJIuSEf5DmTlF8/F5J4pTMIGALFqG74S/EvkSbLHHaKjUmN8mSzCOx5OYy0Rpc\n",
       "+4GGVLnyLBHQQO9MfKCmwfZdozn0SM7ty0pHEQcKbi4TFR9WuNqUCxFsdyr5gWBZupv8Ru9h6mcM\n",
       "jYgHcEdVX+PsW7i4XCgidhm6QPMwNzwuHnlzqtIZm6i2s5QXCfbtE5pnJaCTWCPwY1jvNa7dfX19\n",
       "qRqoSmNndLMa/s0yx5StiEgGDZMJO9LlAplSoWSpqyS5Q6py49XvWqiBIprSuE4APSsjqO//SkqT\n",
       "fDPKhG9WFhcvsq+D/JuNv52EnHB2UAPLmFxuFGjRuIIZ78I/w12lYtx1Spqi1YnYJ1itRrzyNVBI\n",
       "P618O/J/7tNxp/jju2A9vBTtwMzHrumimRs1UML1T/Ex7y84p8Y5s6FqcsTdbqs7if4h6vHkErNM\n",
       "cyY8uSaqt6d1y20vrrWcEOZ/JAVPrgL+14j9c42/ADlCvNYOgWAvAAAAAElFTkSuQmCC\n",
       "\" style=\"display:inline;vertical-align:middle;\" /></a></span></td></tr>\n",
       "<tr><td><a name=\"0x77dc82118ea5f0b7_step1\">1</a></td><td>instantiation</td><td><a href=\"#0x77dc82118ea5f0b7_step4\">4</a>, <a href=\"#0x77dc82118ea5f0b7_step2\">2</a>, <a href=\"#0x77dc82118ea5f0b7_step3\">3</a></td><td><span style=\"font-size:20px;\"><a class=\"ProveItLink\" href=\"../../../../../../__pv_it/common/a9162d1c3cc0470c02e5daf414500903a7a419230/expr.ipynb\"><img src=\"data:image/png;base64,iVBORw0KGgoAAAANSUhEUgAAABAAAAAOBAMAAADUAYG5AAAAMFBMVEX///92dnaqqqoiIiLu7u5m\n",
       "Zma6urqIiIjc3NwQEBDMzMwyMjJUVFRERESYmJgAAAAeMT9/AAAAAXRSTlMAQObYZgAAAAlwSFlz\n",
       "AAAOxAAADsQBlSsOGwAAAHJJREFUCNdjYGB4+//Mmb0LGIBgLgMDzy8gzfGdgYHtK5DBB+TxATkM\n",
       "PB8YGLhnABmcFxhYDoMUr79efvoBSFN9AwPTPBDjJhDLg6T+APH7AgYGrn9AxvkEBgb2H0DObyCH\n",
       "ewIDQ+YWoHH3/5w5fYmBAQBWoiHo17XzsQAAAABJRU5ErkJggg==\n",
       "\" style=\"display:inline;vertical-align:middle;\" /></a>, <a class=\"ProveItLink\" href=\"../../../../negation/__pv_it/theorems/2d607b2877f5542a9baeaa9f0a7ccbda21f95e660/expr.ipynb\"><img src=\"data:image/png;base64,iVBORw0KGgoAAAANSUhEUgAAABwAAAAPBAMAAAAFYbKSAAAAMFBMVEX///8QEBDu7u5ERES6urqY\n",
       "mJiIiIjMzMx2dnaqqqoyMjJUVFTc3NwiIiJmZmYAAABGfvnsAAAAAXRSTlMAQObYZgAAAAlwSFlz\n",
       "AAAOxAAADsQBlSsOGwAAAGtJREFUCNdjYEAAngUMyIDrAwp3Pir39R9kHseJ78jcY2w/kbkPOL8i\n",
       "8VgmsP9gYHh7FwjuAbl8DDy/oTKngTj53evPCC5TAgPDXwSXD0hdhHLPMTC4Aqn1COcLAAn7A1Ae\n",
       "k/0vBYbJ/1cAADCoIK4mExe8AAAAAElFTkSuQmCC\n",
       "\" style=\"display:inline;vertical-align:middle;\" /></a> <a class=\"ProveItLink\" href=\"../../../__pv_it/_proof_nand_if_right_but_not_left/1fa929baf3548d1a02bf4b569222209abc361f000/proof.ipynb\" style=\"text-decoration: none\">&nbsp;&#x22A2;&nbsp;&nbsp;</a><a class=\"ProveItLink\" href=\"../../../__pv_it/theorems/0567bf29b3602a47df1cf08da8d3e179ba950a980/expr.ipynb\"><img src=\"data:image/png;base64,iVBORw0KGgoAAAANSUhEUgAAAFYAAAAVBAMAAAAutAQGAAAAMFBMVEX////MzMxERES6uroQEBCY\n",
       "mJgyMjLu7u52dnaqqqqIiIhUVFTc3NwiIiJmZmYAAAAM3gM0AAAAAXRSTlMAQObYZgAAAAlwSFlz\n",
       "AAAOxAAADsQBlSsOGwAAAYpJREFUKM9jYEAAHgY8AE1yJUQwAata5gXIPM4GMMX2AVURq/7v3dsU\n",
       "GRiWIguWQaj5ULUcE6DiLAoMDPsFGNgKkNQ+hVCv/0DoWphbzgNtt3/AwPoASa0DxLgTHyHcpZuh\n",
       "4vECQAxU747kXIg5p7h+QvgXhKAS+4E45QADQypCLR/Eaw84v0J9ynYAIuHEwFB9EUh3I9SyBYCD\n",
       "ZgLjDwj3ACfEgYyfVq0GGxnG8PYuENwDMnnB/uZj4PkNViLNwHAdzOAC+nUKyJwpEDNPg4LGAMRa\n",
       "9O71J7DQRgaGVWAGE9DPHCD/yqOpZQf69y9IhB3o01qwHP8GYHz8AjJMEGrBbuAD4iuwmOADu0oe\n",
       "aD/3ZyBjLkTtOZBdoAg3BeJ8kAgvPGWsBwaHPIgVhAgHDqBdPKD40AeFVRRISBFEpAADxw0Uvy8Q\n",
       "ahkvMLDrfytgmPQ/A8jbDhKSAuJN/3fvTgI75jJSHF9kwAt4LiBx4vCr5QtA4jAdwKv2EDKHXQGv\n",
       "Wh0U3il8SrkOMAAA9yZeatMtbzUAAAAASUVORK5CYII=\n",
       "\" style=\"display:inline;vertical-align:middle;\" /></a></span></td></tr>\n",
       "<tr><td>&nbsp;</td><td colspan=4 style=\"text-align:left\"><span style=\"font-size:20px;\"><a class=\"ProveItLink\" href=\"../../../__pv_it/_proof_nand_if_right_but_not_left/f307345efa93fdd6c2df141d735449c4534792f70/expr.ipynb\"><img src=\"data:image/png;base64,iVBORw0KGgoAAAANSUhEUgAAADsAAAAVBAMAAAAKrYvGAAAAMFBMVEX///+6urqYmJgiIiLc3Nx2\n",
       "dnaqqqrMzMwQEBDu7u5mZmYyMjJUVFRERESIiIgAAAAee7pSAAAAAXRSTlMAQObYZgAAAAlwSFlz\n",
       "AAAOxAAADsQBlSsOGwAAAR1JREFUKM9jYEAGDnh4DAx8CShcOTD59v+ds7smgFipaKoVwNRvBgbe\n",
       "TiDNuQHNtJ0ggv0fAwMbEDNwKaBJa4HN+A7EX4EMDjRZBg6QlbwfgBiohCEbXZobZBz/BQaG+gdA\n",
       "xlKEBMvRJ0AR1gMMYClXM5DYJoS0hAPvTwYGJpBb3x8NVQSLmcFlOZsYuAyADm4Asu/DBBvh0lwf\n",
       "GJgDgH76APE2ujTHBYb5AgwMjEDd7F9hggjD5z9g0AdSbEAL+D7CBO8hpBMYTrM5MDAB/cT9ASYY\n",
       "A5fmfcBmxQV0QgAD1/2/D6CCxUCb7gLBFQbOc+E+zxkYmAWQA4m5AC3UnFF4TAvQpBehcq+gclku\n",
       "oPLnonJ50VITywMU7hMGBgCRA0HPkLXvDgAAAABJRU5ErkJggg==\n",
       "\" style=\"display:inline;vertical-align:middle;\" /></a> : <a class=\"ProveItLink\" href=\"../../../__pv_it/_proof_nand_if_right_but_not_left/fa1e7a0116666072ba9760619bb67060fa6519460/expr.ipynb\"><img src=\"data:image/png;base64,iVBORw0KGgoAAAANSUhEUgAAAF8AAAAVBAMAAADSoS/MAAAAMFBMVEX////MzMxERES6uroQEBCY\n",
       "mJgyMjLu7u52dnaqqqqIiIhUVFTc3NwiIiJmZmYAAAAM3gM0AAAAAXRSTlMAQObYZgAAAAlwSFlz\n",
       "AAAOxAAADsQBlSsOGwAAAYFJREFUOMtjYECAAwyEAKoKrgkENVih8GbgURn0f/fuJAEGrgAkMfYE\n",
       "LAo7YQwnBgbujwwM6UhyfAGY6tmvQRk8vxgYmP8xMMQhSbJgsYAr2gDCYAWazgrUxFKAkJyGRQMv\n",
       "owKEwf2BgYHNB4iRnPECweTZsWYBNBxyoNYrMLDvFWBg4NiAUJWKYJocYPoOZuQwzIOIyGut2gYy\n",
       "nDWB4e1dILgHZN9EeNWVge8CiMG4gYEX4uj1Bxg4XYE0pwNEyWkgdkaE1wcG3gawy4EhD3GbChD3\n",
       "A53E+AGbBqCD68GhUwa0DWwVw28gjgfqZUayAeGk+gUM8fBoewl221cgsR9oCCdEP8M5INZCaJjA\n",
       "sI0TlM5AssfA8fEHqOkbyNMKiKDphrOYFnDe4wPJgtzPBHQ5AxvQJSagZMHXgNAgCzRECQh0GNh3\n",
       "NZ5eCPIzKIQYgbq49X/v3qYJjkkDpFgVYCAMziKxWR8QoeEpMkeHsHoeBWReEWENTCh5lGcBQQ1r\n",
       "GBgAruVSjziHpssAAAAASUVORK5CYII=\n",
       "\" style=\"display:inline;vertical-align:middle;\" /></a>, <a class=\"ProveItLink\" href=\"../../../../../../__pv_it/common/a0d9d672aa5e272d907247690c152cc2c6daafb70/expr.ipynb\"><img src=\"data:image/png;base64,iVBORw0KGgoAAAANSUhEUgAAAAsAAAAJBAMAAAAWSsseAAAAMFBMVEX///9ERES6uroQEBAyMjLc\n",
       "3NyYmJgiIiJmZmaqqqp2dnbMzMxUVFSIiIju7u4AAAAd7oVFAAAAAXRSTlMAQObYZgAAAAlwSFlz\n",
       "AAAOxAAADsQBlSsOGwAAAENJREFUCNdjYHh75/WqCQwMDbxnOQoY2ALY/vEkMHAzcDgwgADzBTCl\n",
       "H8D3gOGhwmEGLgaG+fuaGTQZGF7c5WybwAAAJTwQ1a2DuB8AAAAASUVORK5CYII=\n",
       "\" style=\"display:inline;vertical-align:middle;\" /></a> : <a class=\"ProveItLink\" href=\"../../../../../../__pv_it/common/09585084922504426caf1db2ff588a23a0932a960/expr.ipynb\"><img src=\"data:image/png;base64,iVBORw0KGgoAAAANSUhEUgAAAA8AAAAPBAMAAADJ+Ih5AAAAMFBMVEX///8QEBAiIiLu7u5ERES6\n",
       "urqYmJiIiIjMzMx2dnZUVFRmZmaqqqoyMjLc3NwAAABb1yYoAAAAAXRSTlMAQObYZgAAAAlwSFlz\n",
       "AAAOxAAADsQBlSsOGwAAAF9JREFUCNdjYACBtwxQcB9K8/yHMrjXP4Aw5s1vANN8BfUHIDIM5xPA\n",
       "jBiG/glgxgaG9wtANLv37vUOIIY5AwO/AkSGgUkASLMCdfB+ADIeAjHLPwYGk/+XGXj8/04AADnq\n",
       "Fzds8Dk2AAAAAElFTkSuQmCC\n",
       "\" style=\"display:inline;vertical-align:middle;\" /></a>, <a class=\"ProveItLink\" href=\"../../../../../../__pv_it/common/ff7dba4ef0bbe791ab573bf2d9c220a304399ac80/expr.ipynb\"><img src=\"data:image/png;base64,iVBORw0KGgoAAAANSUhEUgAAAAsAAAANBAMAAACN24kIAAAAMFBMVEX////c3NwyMjK6urpEREQi\n",
       "IiLMzMwQEBCqqqp2dnZUVFSYmJhmZmaIiIju7u4AAADlKNhoAAAAAXRSTlMAQObYZgAAAAlwSFlz\n",
       "AAAOxAAADsQBlSsOGwAAAFhJREFUCNdj4LuzgeEVAwMnRwHDfgaGDJ4AhiUMDA/YLzDUMjAw2D9g\n",
       "+wakDjHwFgApLwaWBUDqFIP9BiD1au55AQYQmATEnAp8FUCK9QLXBCDFsfcwkAQA5QkUAIef7yAA\n",
       "AAAASUVORK5CYII=\n",
       "\" style=\"display:inline;vertical-align:middle;\" /></a> : <a class=\"ProveItLink\" href=\"../../../../__pv_it/common/e0f123f2e4f322e1eba7f861749cda9fd9d99a120/expr.ipynb\"><img src=\"data:image/png;base64,iVBORw0KGgoAAAANSUhEUgAAAA4AAAAPBAMAAAAmOuNHAAAAHlBMVEX///9UVFQQEBAiIiJmZmaI\n",
       "iIiqqqqYmJi6uroAAAAAFVhYAAAAAXRSTlMAQObYZgAAAAlwSFlzAAAOxAAADsQBlSsOGwAAABhJ\n",
       "REFUCNdjYECAdiidSkva2dhYydjYEABIWQamWbU+1AAAAABJRU5ErkJggg==\n",
       "\" style=\"display:inline;vertical-align:middle;\" /></a></span></td></tr><tr><td><a name=\"0x77dc82118ea5f0b7_step2\">2</a></td><td>instantiation</td><td><a href=\"#0x77dc82118ea5f0b7_step4\">4</a>, <a href=\"#0x77dc82118ea5f0b7_step5\">5</a>, <a href=\"#0x77dc82118ea5f0b7_step6\">6</a></td><td><span style=\"font-size:20px;\"><a class=\"ProveItLink\" href=\"../../../../../../__pv_it/common/a9162d1c3cc0470c02e5daf414500903a7a419230/expr.ipynb\"><img src=\"data:image/png;base64,iVBORw0KGgoAAAANSUhEUgAAABAAAAAOBAMAAADUAYG5AAAAMFBMVEX///92dnaqqqoiIiLu7u5m\n",
       "Zma6urqIiIjc3NwQEBDMzMwyMjJUVFRERESYmJgAAAAeMT9/AAAAAXRSTlMAQObYZgAAAAlwSFlz\n",
       "AAAOxAAADsQBlSsOGwAAAHJJREFUCNdjYGB4+//Mmb0LGIBgLgMDzy8gzfGdgYHtK5DBB+TxATkM\n",
       "PB8YGLhnABmcFxhYDoMUr79efvoBSFN9AwPTPBDjJhDLg6T+APH7AgYGrn9AxvkEBgb2H0DObyCH\n",
       "ewIDQ+YWoHH3/5w5fYmBAQBWoiHo17XzsQAAAABJRU5ErkJggg==\n",
       "\" style=\"display:inline;vertical-align:middle;\" /></a> <a class=\"ProveItLink\" href=\"../../../__pv_it/_proof_nand_if_right_but_not_left/97f59dbf11cf6c5226a15250a754a1479118e2800/proof.ipynb\" style=\"text-decoration: none\">&nbsp;&#x22A2;&nbsp;&nbsp;</a><a class=\"ProveItLink\" href=\"../../../__pv_it/_proof_nand_if_right_but_not_left/ebfa5d12eeb103889e8eb399bfe4ef57721e44d00/expr.ipynb\"><img src=\"data:image/png;base64,iVBORw0KGgoAAAANSUhEUgAAAFYAAAAVBAMAAAAutAQGAAAAMFBMVEX////MzMxERES6uroQEBCY\n",
       "mJgyMjLu7u52dnaqqqqIiIhUVFTc3NwiIiJmZmYAAAAM3gM0AAAAAXRSTlMAQObYZgAAAAlwSFlz\n",
       "AAAOxAAADsQBlSsOGwAAAU9JREFUKM9jYECAAwx4AA8Kj2sCPrXMC5B5M8BCARiqgv7v3p0kwLAU\n",
       "SYg9AURywrVzwK1xYmDg/sjAVoBQyxeAqrY2AebSX0Dr/jGwPkCoZWFAVbt0M5TB+hGIgerdEWqn\n",
       "oam9IARlcH9gYGDzYWBIRah9gaqWs4ENGoYsCgzsewUYGLoRalNR1bId4IQ6UF5r1TaQX8IY3t4F\n",
       "gntA5k1UtdIMDNchrPUHGDhdgfQUCPc0EDujqt3IwLAKwlIB4n6gG+RxqQWFdi2E+RuI44HCJgi1\n",
       "qG4AxQQfODYYvwKJ/QYMDHMhMueAWAtFLS8oEsCxwfUHqP4bKK4R4dCNojYKRCiCA8QBaH06PFDB\n",
       "QBZo6d27V3zv3t0A5G0HCUmBYkL/9+5tmiDeZYRaXgEGvIDnAoKNnDawAT7k1KqDX+0hZE4RfrUo\n",
       "RvEswKeU6wADADXEUEoY4A+kAAAAAElFTkSuQmCC\n",
       "\" style=\"display:inline;vertical-align:middle;\" /></a></span></td></tr>\n",
       "<tr><td>&nbsp;</td><td colspan=4 style=\"text-align:left\"><span style=\"font-size:20px;\"><a class=\"ProveItLink\" href=\"../../../__pv_it/_proof_nand_if_right_but_not_left/f307345efa93fdd6c2df141d735449c4534792f70/expr.ipynb\"><img src=\"data:image/png;base64,iVBORw0KGgoAAAANSUhEUgAAADsAAAAVBAMAAAAKrYvGAAAAMFBMVEX///+6urqYmJgiIiLc3Nx2\n",
       "dnaqqqrMzMwQEBDu7u5mZmYyMjJUVFRERESIiIgAAAAee7pSAAAAAXRSTlMAQObYZgAAAAlwSFlz\n",
       "AAAOxAAADsQBlSsOGwAAAR1JREFUKM9jYEAGDnh4DAx8CShcOTD59v+ds7smgFipaKoVwNRvBgbe\n",
       "TiDNuQHNtJ0ggv0fAwMbEDNwKaBJa4HN+A7EX4EMDjRZBg6QlbwfgBiohCEbXZobZBz/BQaG+gdA\n",
       "xlKEBMvRJ0AR1gMMYClXM5DYJoS0hAPvTwYGJpBb3x8NVQSLmcFlOZsYuAyADm4Asu/DBBvh0lwf\n",
       "GJgDgH76APE2ujTHBYb5AgwMjEDd7F9hggjD5z9g0AdSbEAL+D7CBO8hpBMYTrM5MDAB/cT9ASYY\n",
       "A5fmfcBmxQV0QgAD1/2/D6CCxUCb7gLBFQbOc+E+zxkYmAWQA4m5AC3UnFF4TAvQpBehcq+gclku\n",
       "oPLnonJ50VITywMU7hMGBgCRA0HPkLXvDgAAAABJRU5ErkJggg==\n",
       "\" style=\"display:inline;vertical-align:middle;\" /></a> : <a class=\"ProveItLink\" href=\"../../../__pv_it/_proof_nand_if_right_but_not_left/8ed9d5c20883f0ba05080beee21293833cfe91520/expr.ipynb\"><img src=\"data:image/png;base64,iVBORw0KGgoAAAANSUhEUgAAAF4AAAAVBAMAAAA9Y0TyAAAAMFBMVEX////MzMxERES6uroQEBCY\n",
       "mJgyMjLu7u52dnaqqqqIiIhUVFTc3NwiIiJmZmYAAAAM3gM0AAAAAXRSTlMAQObYZgAAAAlwSFlz\n",
       "AAAOxAAADsQBlSsOGwAAAS9JREFUKM9jYECAAwwEAA8Kj2sCIfXMC5B5M8BCAfg0LEVisyeASE64\n",
       "ERxYrGMrQLD5AlDV1yZgqmd9gGCzMKCqX7oZi4PcEcxpaOovCGFRn4pgvkBVz9nAhhK+p7tOAclu\n",
       "dK1w9WwHOB8gB6UPgz7Qs2EMb+8CwT2gyE1U9dIMDNeR1JcEMLwFUlOglgGxM6r6jQwMq5DUv2dg\n",
       "uAGk5HGpB8VGLZJ6Jwb2z0DKBKEe1T2g2OJDxBj7LwbWD0B6LoR7Doi1UNTzgpIXIsbYfzJwJ8xh\n",
       "YAhC2NiNoj4KRCgiZLUY5j54AAt0MJAFOuDu3Su+d+9uAPK2g4SkgFhICQgOMFSvkNklwMBwGaGe\n",
       "V4CBIOC5gD0t4QJ8yKldh7D6Q8icIsLqUYzkWUBIOdcBBgCoj0k12MKuTAAAAABJRU5ErkJggg==\n",
       "\" style=\"display:inline;vertical-align:middle;\" /></a>, <a class=\"ProveItLink\" href=\"../../../../../../__pv_it/common/a0d9d672aa5e272d907247690c152cc2c6daafb70/expr.ipynb\"><img src=\"data:image/png;base64,iVBORw0KGgoAAAANSUhEUgAAAAsAAAAJBAMAAAAWSsseAAAAMFBMVEX///9ERES6uroQEBAyMjLc\n",
       "3NyYmJgiIiJmZmaqqqp2dnbMzMxUVFSIiIju7u4AAAAd7oVFAAAAAXRSTlMAQObYZgAAAAlwSFlz\n",
       "AAAOxAAADsQBlSsOGwAAAENJREFUCNdjYHh75/WqCQwMDbxnOQoY2ALY/vEkMHAzcDgwgADzBTCl\n",
       "H8D3gOGhwmEGLgaG+fuaGTQZGF7c5WybwAAAJTwQ1a2DuB8AAAAASUVORK5CYII=\n",
       "\" style=\"display:inline;vertical-align:middle;\" /></a> : <a class=\"ProveItLink\" href=\"../../../../../../__pv_it/common/a9162d1c3cc0470c02e5daf414500903a7a419230/expr.ipynb\"><img src=\"data:image/png;base64,iVBORw0KGgoAAAANSUhEUgAAABAAAAAOBAMAAADUAYG5AAAAMFBMVEX///92dnaqqqoiIiLu7u5m\n",
       "Zma6urqIiIjc3NwQEBDMzMwyMjJUVFRERESYmJgAAAAeMT9/AAAAAXRSTlMAQObYZgAAAAlwSFlz\n",
       "AAAOxAAADsQBlSsOGwAAAHJJREFUCNdjYGB4+//Mmb0LGIBgLgMDzy8gzfGdgYHtK5DBB+TxATkM\n",
       "PB8YGLhnABmcFxhYDoMUr79efvoBSFN9AwPTPBDjJhDLg6T+APH7AgYGrn9AxvkEBgb2H0DObyCH\n",
       "ewIDQ+YWoHH3/5w5fYmBAQBWoiHo17XzsQAAAABJRU5ErkJggg==\n",
       "\" style=\"display:inline;vertical-align:middle;\" /></a>, <a class=\"ProveItLink\" href=\"../../../../../../__pv_it/common/ff7dba4ef0bbe791ab573bf2d9c220a304399ac80/expr.ipynb\"><img src=\"data:image/png;base64,iVBORw0KGgoAAAANSUhEUgAAAAsAAAANBAMAAACN24kIAAAAMFBMVEX////c3NwyMjK6urpEREQi\n",
       "IiLMzMwQEBCqqqp2dnZUVFSYmJhmZmaIiIju7u4AAADlKNhoAAAAAXRSTlMAQObYZgAAAAlwSFlz\n",
       "AAAOxAAADsQBlSsOGwAAAFhJREFUCNdj4LuzgeEVAwMnRwHDfgaGDJ4AhiUMDA/YLzDUMjAw2D9g\n",
       "+wakDjHwFgApLwaWBUDqFIP9BiD1au55AQYQmATEnAp8FUCK9QLXBCDFsfcwkAQA5QkUAIef7yAA\n",
       "AAAASUVORK5CYII=\n",
       "\" style=\"display:inline;vertical-align:middle;\" /></a> : <a class=\"ProveItLink\" href=\"../../../../__pv_it/common/95025295868b9266d37330b4427adf122f6061770/expr.ipynb\"><img src=\"data:image/png;base64,iVBORw0KGgoAAAANSUhEUgAAAA4AAAAOBAMAAADtZjDiAAAAG1BMVEX///+YmJi6urqIiIiqqqpU\n",
       "VFQiIiJmZmYAAAD2GhH1AAAAAXRSTlMAQObYZgAAAAlwSFlzAAAOxAAADsQBlSsOGwAAABhJREFU\n",
       "CNdjKEsDgVQGIHBmgABa0YpADADkogYfXGfJdgAAAABJRU5ErkJggg==\n",
       "\" style=\"display:inline;vertical-align:middle;\" /></a></span></td></tr><tr><td><a name=\"0x77dc82118ea5f0b7_step3\">3</a></td><td>instantiation</td><td><a href=\"#0x77dc82118ea5f0b7_step7\">7</a>, <a href=\"#0x77dc82118ea5f0b7_step8\">8</a></td><td><span style=\"font-size:20px;\"><a class=\"ProveItLink\" href=\"../../../../negation/__pv_it/theorems/2d607b2877f5542a9baeaa9f0a7ccbda21f95e660/expr.ipynb\"><img src=\"data:image/png;base64,iVBORw0KGgoAAAANSUhEUgAAABwAAAAPBAMAAAAFYbKSAAAAMFBMVEX///8QEBDu7u5ERES6urqY\n",
       "mJiIiIjMzMx2dnaqqqoyMjJUVFTc3NwiIiJmZmYAAABGfvnsAAAAAXRSTlMAQObYZgAAAAlwSFlz\n",
       "AAAOxAAADsQBlSsOGwAAAGtJREFUCNdjYEAAngUMyIDrAwp3Pir39R9kHseJ78jcY2w/kbkPOL8i\n",
       "8VgmsP9gYHh7FwjuAbl8DDy/oTKngTj53evPCC5TAgPDXwSXD0hdhHLPMTC4Aqn1COcLAAn7A1Ae\n",
       "k/0vBYbJ/1cAADCoIK4mExe8AAAAAElFTkSuQmCC\n",
       "\" style=\"display:inline;vertical-align:middle;\" /></a> <a class=\"ProveItLink\" href=\"../../../__pv_it/_proof_nand_if_right_but_not_left/3f5747a1f735d4d6080d0ae3662b1236d31c4a7a0/proof.ipynb\" style=\"text-decoration: none\">&nbsp;&#x22A2;&nbsp;&nbsp;</a><a class=\"ProveItLink\" href=\"../../../../__pv_it/theorems/df6506bd32d9f7c53b00f834a4c61833f27224860/expr.ipynb\"><img src=\"data:image/png;base64,iVBORw0KGgoAAAANSUhEUgAAADoAAAAPBAMAAABHIsEFAAAAMFBMVEX///8QEBAiIiLu7u5ERES6\n",
       "urqYmJiIiIjMzMx2dnZUVFRmZmaqqqoyMjLc3NwAAABb1yYoAAAAAXRSTlMAQObYZgAAAAlwSFlz\n",
       "AAAOxAAADsQBlSsOGwAAAHtJREFUGNNjYACBtwz4wH0sYmEwBs9/LLLHYQzu9Q/wyM6b34Bblq+g\n",
       "/gBuWW6G8wm4ZWMY+ieA6E1KIKCFJruB4f0CnHrZvXevd8Apa87AwK+AU3YDAwOTAC57WYHu5f2A\n",
       "S+9DIGb5h0PW5P9lBh7/vxNQpYCWCAItAQBcPiViPKBKnQAAAABJRU5ErkJggg==\n",
       "\" style=\"display:inline;vertical-align:middle;\" /></a></span></td></tr>\n",
       "<tr><td>&nbsp;</td><td colspan=4 style=\"text-align:left\"><span style=\"font-size:20px;\"><a class=\"ProveItLink\" href=\"../../../../../../__pv_it/common/09585084922504426caf1db2ff588a23a0932a960/expr.ipynb\"><img src=\"data:image/png;base64,iVBORw0KGgoAAAANSUhEUgAAAA8AAAAPBAMAAADJ+Ih5AAAAMFBMVEX///8QEBAiIiLu7u5ERES6\n",
       "urqYmJiIiIjMzMx2dnZUVFRmZmaqqqoyMjLc3NwAAABb1yYoAAAAAXRSTlMAQObYZgAAAAlwSFlz\n",
       "AAAOxAAADsQBlSsOGwAAAF9JREFUCNdjYACBtwxQcB9K8/yHMrjXP4Aw5s1vANN8BfUHIDIM5xPA\n",
       "jBiG/glgxgaG9wtANLv37vUOIIY5AwO/AkSGgUkASLMCdfB+ADIeAjHLPwYGk/+XGXj8/04AADnq\n",
       "Fzds8Dk2AAAAAElFTkSuQmCC\n",
       "\" style=\"display:inline;vertical-align:middle;\" /></a> : <a class=\"ProveItLink\" href=\"../../../../../../__pv_it/common/09585084922504426caf1db2ff588a23a0932a960/expr.ipynb\"><img src=\"data:image/png;base64,iVBORw0KGgoAAAANSUhEUgAAAA8AAAAPBAMAAADJ+Ih5AAAAMFBMVEX///8QEBAiIiLu7u5ERES6\n",
       "urqYmJiIiIjMzMx2dnZUVFRmZmaqqqoyMjLc3NwAAABb1yYoAAAAAXRSTlMAQObYZgAAAAlwSFlz\n",
       "AAAOxAAADsQBlSsOGwAAAF9JREFUCNdjYACBtwxQcB9K8/yHMrjXP4Aw5s1vANN8BfUHIDIM5xPA\n",
       "jBiG/glgxgaG9wtANLv37vUOIIY5AwO/AkSGgUkASLMCdfB+ADIeAjHLPwYGk/+XGXj8/04AADnq\n",
       "Fzds8Dk2AAAAAElFTkSuQmCC\n",
       "\" style=\"display:inline;vertical-align:middle;\" /></a></span></td></tr><tr><td><a name=\"0x77dc82118ea5f0b7_step4\">4</a></td><td>theorem</td><td></td><td><span style=\"font-size:20px;\"> <a class=\"ProveItLink\" href=\"../../../../../equality/_theory_nbs_/proofs/sub_left_side_into/thm_proof.ipynb\" style=\"text-decoration: none\">&nbsp;&#x22A2;&nbsp;&nbsp;</a><a class=\"ProveItLink\" href=\"../../../../../equality/__pv_it/theorems/fa7b338ac0e02abe373a31648947826ee50d3a400/expr.ipynb\"><img src=\"data:image/png;base64,iVBORw0KGgoAAAANSUhEUgAAAMIAAAAXBAMAAACrPI2eAAAAMFBMVEX///+IiIgiIiIQEBB2dnbu\n",
       "7u5ERETMzMzc3NwyMjK6urpmZmaYmJiqqqpUVFQAAAB6qHgnAAAAAXRSTlMAQObYZgAAAAlwSFlz\n",
       "AAAOxAAADsQBlSsOGwAAArNJREFUSMe1VktoE1EUPZPvNDMZJyBF8Dd0KShV7EYsBGkXIkrcVEGU\n",
       "caFUKKYobu2I4rLNRhBUqFhdKYlYsEiRqCDoKvgBBcEURYRCqZD4Xeh9v8mLYUAkvfDm3nc4752X\n",
       "++59BFgZC4QzsVJm1ITPuECdBe+6s2/v75OfrhRY9EpB64AHzF/u0tF/AKkB8smSQnoKOMuy5XdH\n",
       "IP0FyNKAVVWQXWEiSNS6lP1vNBoUxFvYAGyS6+lSklLLNEgFb1vYVWBbX9/2LimsomxPUPVglsb+\n",
       "DQeGKDf7gPvAsaglVtvsjUhFtALtfmGzPDgqxoLlAc+ASZhUsZni7MPPnT9buFu/9iwFsKfFrBKp\n",
       "sPHj0HMekIwd2E2HbuAl7VJIsKWPgV1RCraHhIcjEpyJVCiqYAfVFSxeshNUXi6/6EU6QpSCU4Gx\n",
       "LDpHlHh0O4QKVFDsRnCDRukRiwaBLZTktefmaHK9LnpdKsRriNXhSZzXtiRCIyPdUAr8MspBks7y\n",
       "gqK9l1jTNTFJCV7j+NeoJd1mul9TmCqYizBLEs+yi2BE6zjZWEiG8VMpHAVGpj8gQeFTGufZCeyt\n",
       "udfkqil3nOQOe4avKTzJrS8g40s844dE/nwqMnqWlQKV6Psz93BHFq7DqE5dljR/dp2842oKS+yT\n",
       "rUs87beIOtkqfnUldAo4lMvOs3RuUrS4fElO85c9Nh0f1xR28iz7EudZYkSRpZCsWSwETE9FU7Rx\n",
       "Mm/270YlmSdGWasl8zt3HgRuuJIYblf+u6jssGfCN9AoDtMpB3F3Jlcgl50/oSn0Nnh9jkLgqUAS\n",
       "5VpF1m1UBRfb8axyBzGm90PYaRwfCYnCFFm3kQ4pYTeVW8iUOhWsQOBzIVGYIutmyjs3gna8qtzt\n",
       "1ehUwDDH2fNU1WFF/i9r/6uQ1L7/bn8AGCmqIacF6W0AAAAASUVORK5CYII=\n",
       "\" style=\"display:inline;vertical-align:middle;\" /></a></span></td></tr>\n",
       "<tr><td>&nbsp;</td><td colspan=4 style-\"text-align:left\"><a class=\"ProveItLink\" href=\"../../../../../equality/_theory_nbs_/proofs/sub_left_side_into/thm_proof.ipynb\">proveit.logic.equality.sub_left_side_into</a></td></tr><tr><td><a name=\"0x77dc82118ea5f0b7_step5\">5</a></td><td>theorem</td><td></td><td><span style=\"font-size:20px;\"> <a class=\"ProveItLink\" href=\"../false_and_true_negated/thm_proof.ipynb\" style=\"text-decoration: none\">&nbsp;&#x22A2;&nbsp;&nbsp;</a><a class=\"ProveItLink\" href=\"../../../__pv_it/theorems/973fcbcb85c3320062ba08caf138d1c98bcf329a0/expr.ipynb\"><img src=\"data:image/png;base64,iVBORw0KGgoAAAANSUhEUgAAAFYAAAAVBAMAAAAutAQGAAAAMFBMVEX////MzMxERES6uroQEBCY\n",
       "mJgyMjLu7u52dnaqqqqIiIhUVFTc3NwiIiJmZmYAAAAM3gM0AAAAAXRSTlMAQObYZgAAAAlwSFlz\n",
       "AAAOxAAADsQBlSsOGwAAAQdJREFUKM9jYEAAHgY8AE1yJT61zAuQeZwNINIUTQ3fXTDYwLAUWbQM\n",
       "TM6CcTkmwA0BG8lWgKT2Kara2gRUtawPkNQ6oKpduhlVLYM7knMTUNVeEEJTm4rkiQYUtZwNbAdQ\n",
       "1XYj1LIFoKhlO8D5AFVtGMNbUIjcAzJ5J6ColWZguI6qdgqEdxqIWQxQ1G5kYFiFqlYel1p2oE9r\n",
       "UdWaINSiugEUE3wTUNTOhfDOATHTAmS1vKDkkoCiNggRDhwbkNVGgQhFFLUvEGoZLzCAAsXl7t3b\n",
       "QN52kJAUNIlBQvMyUhxfZMALeC4gceLwq+ULQOIwHcCr9hAyh10Br1odFN4pfEq5DjAAAFABRfSj\n",
       "bd2ZAAAAAElFTkSuQmCC\n",
       "\" style=\"display:inline;vertical-align:middle;\" /></a></span></td></tr>\n",
       "<tr><td>&nbsp;</td><td colspan=4 style-\"text-align:left\"><a class=\"ProveItLink\" href=\"../false_and_true_negated/thm_proof.ipynb\">proveit.logic.booleans.conjunction.false_and_true_negated</a></td></tr><tr><td><a name=\"0x77dc82118ea5f0b7_step6\">6</a></td><td>instantiation</td><td><a href=\"#0x77dc82118ea5f0b7_step9\">9</a>, <a href=\"#0x77dc82118ea5f0b7_step10\">10</a></td><td><span style=\"font-size:20px;\"><a class=\"ProveItLink\" href=\"../../../../../../__pv_it/common/a9162d1c3cc0470c02e5daf414500903a7a419230/expr.ipynb\"><img src=\"data:image/png;base64,iVBORw0KGgoAAAANSUhEUgAAABAAAAAOBAMAAADUAYG5AAAAMFBMVEX///92dnaqqqoiIiLu7u5m\n",
       "Zma6urqIiIjc3NwQEBDMzMwyMjJUVFRERESYmJgAAAAeMT9/AAAAAXRSTlMAQObYZgAAAAlwSFlz\n",
       "AAAOxAAADsQBlSsOGwAAAHJJREFUCNdjYGB4+//Mmb0LGIBgLgMDzy8gzfGdgYHtK5DBB+TxATkM\n",
       "PB8YGLhnABmcFxhYDoMUr79efvoBSFN9AwPTPBDjJhDLg6T+APH7AgYGrn9AxvkEBgb2H0DObyCH\n",
       "ewIDQ+YWoHH3/5w5fYmBAQBWoiHo17XzsQAAAABJRU5ErkJggg==\n",
       "\" style=\"display:inline;vertical-align:middle;\" /></a> <a class=\"ProveItLink\" href=\"../../../__pv_it/_proof_nand_if_right_but_not_left/d19ac0113bde5b47003c985d69c4ab01b0c31d920/proof.ipynb\" style=\"text-decoration: none\">&nbsp;&#x22A2;&nbsp;&nbsp;</a><a class=\"ProveItLink\" href=\"../../../__pv_it/_proof_nand_if_right_but_not_left/b677a00a750ae462ef977207acadfa9dc94a9f730/expr.ipynb\"><img src=\"data:image/png;base64,iVBORw0KGgoAAAANSUhEUgAAADwAAAAOBAMAAACBYGLnAAAAMFBMVEX///92dnaqqqoiIiLu7u5m\n",
       "Zma6urqIiIjc3NwQEBDMzMwyMjJUVFRERESYmJgAAAAeMT9/AAAAAXRSTlMAQObYZgAAAAlwSFlz\n",
       "AAAOxAAADsQBlSsOGwAAAIlJREFUGNNjYGB4+//Mmb0LGFBBsDEI2ICYcxkYeH4xYAB1CMXxnYGB\n",
       "7StOaT6gTr7vOKV5PjAwcM/AKc15gYHl8AKc0uuvl59+gO5chHR9AwPTPAacum8CsTxuw/8A8fsC\n",
       "XNJc/4DE+QRcdrP/ACr5jdNu7gkMDJlbcEnz3P9z5vQlLLIMeUAMAHElKNSwcIzcAAAAAElFTkSu\n",
       "QmCC\n",
       "\" style=\"display:inline;vertical-align:middle;\" /></a></span></td></tr>\n",
       "<tr><td>&nbsp;</td><td colspan=4 style=\"text-align:left\"><span style=\"font-size:20px;\"><a class=\"ProveItLink\" href=\"../../../../../../__pv_it/common/09585084922504426caf1db2ff588a23a0932a960/expr.ipynb\"><img src=\"data:image/png;base64,iVBORw0KGgoAAAANSUhEUgAAAA8AAAAPBAMAAADJ+Ih5AAAAMFBMVEX///8QEBAiIiLu7u5ERES6\n",
       "urqYmJiIiIjMzMx2dnZUVFRmZmaqqqoyMjLc3NwAAABb1yYoAAAAAXRSTlMAQObYZgAAAAlwSFlz\n",
       "AAAOxAAADsQBlSsOGwAAAF9JREFUCNdjYACBtwxQcB9K8/yHMrjXP4Aw5s1vANN8BfUHIDIM5xPA\n",
       "jBiG/glgxgaG9wtANLv37vUOIIY5AwO/AkSGgUkASLMCdfB+ADIeAjHLPwYGk/+XGXj8/04AADnq\n",
       "Fzds8Dk2AAAAAElFTkSuQmCC\n",
       "\" style=\"display:inline;vertical-align:middle;\" /></a> : <a class=\"ProveItLink\" href=\"../../../../../../__pv_it/common/a9162d1c3cc0470c02e5daf414500903a7a419230/expr.ipynb\"><img src=\"data:image/png;base64,iVBORw0KGgoAAAANSUhEUgAAABAAAAAOBAMAAADUAYG5AAAAMFBMVEX///92dnaqqqoiIiLu7u5m\n",
       "Zma6urqIiIjc3NwQEBDMzMwyMjJUVFRERESYmJgAAAAeMT9/AAAAAXRSTlMAQObYZgAAAAlwSFlz\n",
       "AAAOxAAADsQBlSsOGwAAAHJJREFUCNdjYGB4+//Mmb0LGIBgLgMDzy8gzfGdgYHtK5DBB+TxATkM\n",
       "PB8YGLhnABmcFxhYDoMUr79efvoBSFN9AwPTPBDjJhDLg6T+APH7AgYGrn9AxvkEBgb2H0DObyCH\n",
       "ewIDQ+YWoHH3/5w5fYmBAQBWoiHo17XzsQAAAABJRU5ErkJggg==\n",
       "\" style=\"display:inline;vertical-align:middle;\" /></a></span></td></tr><tr><td><a name=\"0x77dc82118ea5f0b7_step7\">7</a></td><td>axiom</td><td></td><td><span style=\"font-size:20px;\"> <a class=\"ProveItLink\" href=\"../../../../negation/_theory_nbs_/axioms.ipynb#negation_elim\" style=\"text-decoration: none\">&nbsp;&#x22A2;&nbsp;&nbsp;</a><a class=\"ProveItLink\" href=\"../../../../negation/__pv_it/axioms/0fd3f403bc4d76bb1a3bc88358aa217c1bfc7dc50/expr.ipynb\"><img src=\"data:image/png;base64,iVBORw0KGgoAAAANSUhEUgAAAJcAAAAXBAMAAAD0AcCSAAAAMFBMVEX///+IiIgiIiIQEBB2dnbu\n",
       "7u5ERETMzMzc3NwyMjK6urpmZmaYmJiqqqpUVFQAAAB6qHgnAAAAAXRSTlMAQObYZgAAAAlwSFlz\n",
       "AAAOxAAADsQBlSsOGwAAAbxJREFUOMtjYCAaNFAkjQoYL4CpTlzyC4H4AYhxhwjDrkCo+Vik1oAt\n",
       "O8DAsAvEmEHYLNYJYIr3Pxa5i2ByKgNDHZDiSCBsGPcBCPW+AZdhpxkYOAMYGFguEDaMGUJ5+Bfg\n",
       "Mow5gIEHaCMnEUF2E0xyCMhfwGUYJ9AkIyUlEyIM2wLxJcP9A7gMYwHG5XYGhlQwJwCqHAUEwBhz\n",
       "wORahnoHEL1JCQT0UAzjAUZRHwMHOHmwmoOF2FDj0BzG0gWTGxj6H+ByGa8BUHcAywKwK/9iMQwq\n",
       "CARW4LSUvft9Ai7D2D8ADRSAhP9yQyyGQQVhhgUyMPAr4DKMC+gyhgkHwWyBeVgMgwrCvLmBgYHJ\n",
       "AFeY8YKs8Z0K9gHDTkzDYIJAkAiyG5SMPuByGQ8oAJrBQbqcQRjJMLe0tDQFhCAQ+IFUguR/4DKM\n",
       "GxTPfOA0vcXlfQCqyx4gBIGgiIEh7P9UBt78nw6oJgF9bAz2MdMChIcY+gvQDYMLAgFTAaFk3YRc\n",
       "ivBfQDVsA0IQFCIbCBm2B14m2DGw7p+FFgEIQRDIIGAWtqKHDZfiMAKGsTWQYBiHAH7DJBhIMIwc\n",
       "wEGBXgDy3mI9r0RDlwAAAABJRU5ErkJggg==\n",
       "\" style=\"display:inline;vertical-align:middle;\" /></a></span></td></tr>\n",
       "<tr><td>&nbsp;</td><td colspan=4 style-\"text-align:left\"><a class=\"ProveItLink\" href=\"../../../../negation/_theory_nbs_/axioms.ipynb#negation_elim\">proveit.logic.booleans.negation.negation_elim</a></td></tr><tr><td><a name=\"0x77dc82118ea5f0b7_step8\">8</a></td><td>assumption</td><td></td><td><span style=\"font-size:20px;\"><a class=\"ProveItLink\" href=\"../../../../negation/__pv_it/theorems/2d607b2877f5542a9baeaa9f0a7ccbda21f95e660/expr.ipynb\"><img src=\"data:image/png;base64,iVBORw0KGgoAAAANSUhEUgAAABwAAAAPBAMAAAAFYbKSAAAAMFBMVEX///8QEBDu7u5ERES6urqY\n",
       "mJiIiIjMzMx2dnaqqqoyMjJUVFTc3NwiIiJmZmYAAABGfvnsAAAAAXRSTlMAQObYZgAAAAlwSFlz\n",
       "AAAOxAAADsQBlSsOGwAAAGtJREFUCNdjYEAAngUMyIDrAwp3Pir39R9kHseJ78jcY2w/kbkPOL8i\n",
       "8VgmsP9gYHh7FwjuAbl8DDy/oTKngTj53evPCC5TAgPDXwSXD0hdhHLPMTC4Aqn1COcLAAn7A1Ae\n",
       "k/0vBYbJ/1cAADCoIK4mExe8AAAAAElFTkSuQmCC\n",
       "\" style=\"display:inline;vertical-align:middle;\" /></a> <a class=\"ProveItLink\" href=\"../../../__pv_it/_proof_nand_if_right_but_not_left/e17777eb5df1c855afb7589f2a7127b718153f720/proof.ipynb\" style=\"text-decoration: none\">&nbsp;&#x22A2;&nbsp;&nbsp;</a><a class=\"ProveItLink\" href=\"../../../../negation/__pv_it/theorems/2d607b2877f5542a9baeaa9f0a7ccbda21f95e660/expr.ipynb\"><img src=\"data:image/png;base64,iVBORw0KGgoAAAANSUhEUgAAABwAAAAPBAMAAAAFYbKSAAAAMFBMVEX///8QEBDu7u5ERES6urqY\n",
       "mJiIiIjMzMx2dnaqqqoyMjJUVFTc3NwiIiJmZmYAAABGfvnsAAAAAXRSTlMAQObYZgAAAAlwSFlz\n",
       "AAAOxAAADsQBlSsOGwAAAGtJREFUCNdjYEAAngUMyIDrAwp3Pir39R9kHseJ78jcY2w/kbkPOL8i\n",
       "8VgmsP9gYHh7FwjuAbl8DDy/oTKngTj53evPCC5TAgPDXwSXD0hdhHLPMTC4Aqn1COcLAAn7A1Ae\n",
       "k/0vBYbJ/1cAADCoIK4mExe8AAAAAElFTkSuQmCC\n",
       "\" style=\"display:inline;vertical-align:middle;\" /></a></span></td></tr>\n",
       "<tr><td><a name=\"0x77dc82118ea5f0b7_step9\">9</a></td><td>axiom</td><td></td><td><span style=\"font-size:20px;\"> <a class=\"ProveItLink\" href=\"../../../../_theory_nbs_/axioms.ipynb#eq_true_intro\" style=\"text-decoration: none\">&nbsp;&#x22A2;&nbsp;&nbsp;</a><a class=\"ProveItLink\" href=\"../../../../__pv_it/axioms/af7fcd0228bc2f434dd8febb9d8c4f56a07241be0/expr.ipynb\"><img src=\"data:image/png;base64,iVBORw0KGgoAAAANSUhEUgAAAIwAAAAXBAMAAAArT7qNAAAAMFBMVEX///+IiIgiIiIQEBB2dnbu\n",
       "7u5ERETMzMzc3NwyMjK6urpmZmaYmJiqqqpUVFQAAAB6qHgnAAAAAXRSTlMAQObYZgAAAAlwSFlz\n",
       "AAAOxAAADsQBlSsOGwAAAahJREFUOMtjYCACNOCX5mAgCjBeAFOduOS5BBgYHoAYd/AacwVCzUcX\n",
       "51YCgwcMMgwMu0ACM/CZwjoBTPH+xyLHKwAiOQMY6kCeS8BnDPcBCPW+AZcxPBtAJjGwXMBnDDOE\n",
       "8vAvwGUMgykDD9AuTrxBcxMSHQLyF3AaM4eBwUhJyQSvMVsgfmK4fwCnMX4MDNsZGFLB7ACocigI\n",
       "gDHmgMm1DPUOKNGDbMxJBoY+Bg6wGKs5WIQNFj/mMGN0weQGhv4HOF1zGagvgGUBiMnyF8UYKBcI\n",
       "rMBJMHv3+wScxtSDWJAQXm6IYgyUCzMmkIGBXwGnMYuBeMJBMFNgHooxUC7MUxsYGJgMcIbNJSD2\n",
       "nQp2NcNOZGNgXCBIBGUbULL4gNM1x4C4GWzycgZhZGNgXEhsMjSDZH7gNAaUJvjAqXOLy/sAJGNg\n",
       "XCAoYmAI+z+VgTf/pwNm5oakJS14YcDA0F+AMAbOBQKmAkIlCQc88NcAY+ICwhg4F5LxCABuWPrm\n",
       "tmNg3T8LbgyCCwIZhIxpwxRiwxQKI2RMBlHGcAgQKGQbiDKGHMBBli4Aqs9VSyv7w8oAAAAASUVO\n",
       "RK5CYII=\n",
       "\" style=\"display:inline;vertical-align:middle;\" /></a></span></td></tr>\n",
       "<tr><td>&nbsp;</td><td colspan=4 style-\"text-align:left\"><a class=\"ProveItLink\" href=\"../../../../_theory_nbs_/axioms.ipynb#eq_true_intro\">proveit.logic.booleans.eq_true_intro</a></td></tr><tr><td><a name=\"0x77dc82118ea5f0b7_step10\">10</a></td><td>assumption</td><td></td><td><span style=\"font-size:20px;\"><a class=\"ProveItLink\" href=\"../../../../../../__pv_it/common/a9162d1c3cc0470c02e5daf414500903a7a419230/expr.ipynb\"><img src=\"data:image/png;base64,iVBORw0KGgoAAAANSUhEUgAAABAAAAAOBAMAAADUAYG5AAAAMFBMVEX///92dnaqqqoiIiLu7u5m\n",
       "Zma6urqIiIjc3NwQEBDMzMwyMjJUVFRERESYmJgAAAAeMT9/AAAAAXRSTlMAQObYZgAAAAlwSFlz\n",
       "AAAOxAAADsQBlSsOGwAAAHJJREFUCNdjYGB4+//Mmb0LGIBgLgMDzy8gzfGdgYHtK5DBB+TxATkM\n",
       "PB8YGLhnABmcFxhYDoMUr79efvoBSFN9AwPTPBDjJhDLg6T+APH7AgYGrn9AxvkEBgb2H0DObyCH\n",
       "ewIDQ+YWoHH3/5w5fYmBAQBWoiHo17XzsQAAAABJRU5ErkJggg==\n",
       "\" style=\"display:inline;vertical-align:middle;\" /></a> <a class=\"ProveItLink\" href=\"../../../__pv_it/_proof_nand_if_right_but_not_left/d43a9c2d2ebf0b3b961e71c77fe7ef917c06ce470/proof.ipynb\" style=\"text-decoration: none\">&nbsp;&#x22A2;&nbsp;&nbsp;</a><a class=\"ProveItLink\" href=\"../../../../../../__pv_it/common/a9162d1c3cc0470c02e5daf414500903a7a419230/expr.ipynb\"><img src=\"data:image/png;base64,iVBORw0KGgoAAAANSUhEUgAAABAAAAAOBAMAAADUAYG5AAAAMFBMVEX///92dnaqqqoiIiLu7u5m\n",
       "Zma6urqIiIjc3NwQEBDMzMwyMjJUVFRERESYmJgAAAAeMT9/AAAAAXRSTlMAQObYZgAAAAlwSFlz\n",
       "AAAOxAAADsQBlSsOGwAAAHJJREFUCNdjYGB4+//Mmb0LGIBgLgMDzy8gzfGdgYHtK5DBB+TxATkM\n",
       "PB8YGLhnABmcFxhYDoMUr79efvoBSFN9AwPTPBDjJhDLg6T+APH7AgYGrn9AxvkEBgb2H0DObyCH\n",
       "ewIDQ+YWoHH3/5w5fYmBAQBWoiHo17XzsQAAAABJRU5ErkJggg==\n",
       "\" style=\"display:inline;vertical-align:middle;\" /></a></span></td></tr>\n",
       "</table>"
      ],
      "text/plain": [
       "\tstep type\trequirements\tstatement\n",
       "0\tgeneralization\t1\t|- forall_{A, B | [not](A), B} [not](A and B)\n",
       "1\tinstantiation\t4, 2, 3\t{B, [not](A)} |- [not](A and B)\n",
       "\tP(_a) : [not](_a and B), x : A, y : FALSE\n",
       "2\tinstantiation\t4, 5, 6\t{B} |- [not](FALSE and B)\n",
       "\tP(_a) : [not](FALSE and _a), x : B, y : TRUE\n",
       "3\tinstantiation\t7, 8\t{[not](A)} |- A = FALSE\n",
       "\tA : A\n",
       "4\ttheorem\t\t|- forall_{P, x, y | P(y), x = y} P(x)\n",
       "\tproveit.logic.equality.sub_left_side_into\n",
       "5\ttheorem\t\t|- [not](FALSE and TRUE)\n",
       "\tproveit.logic.booleans.conjunction.false_and_true_negated\n",
       "6\tinstantiation\t9, 10\t{B} |- B = TRUE\n",
       "\tA : B\n",
       "7\taxiom\t\t|- forall_{A | [not](A)} (A = FALSE)\n",
       "\tproveit.logic.booleans.negation.negation_elim\n",
       "8\tassumption\t\t{[not](A)} |- [not](A)\n",
       "9\taxiom\t\t|- forall_{A | A} (A = TRUE)\n",
       "\tproveit.logic.booleans.eq_true_intro\n",
       "10\tassumption\t\t{B} |- B"
      ]
     },
     "execution_count": 9,
     "metadata": {},
     "output_type": "execute_result"
    }
   ],
   "source": [
    "%qed"
   ]
  }
 ],
 "metadata": {
  "kernelspec": {
   "display_name": "Python 3",
   "language": "python",
   "name": "python3"
  },
  "language_info": {
   "codemirror_mode": {
    "name": "ipython",
    "version": 3
   },
   "file_extension": ".py",
   "mimetype": "text/x-python",
   "name": "python",
   "nbconvert_exporter": "python",
   "pygments_lexer": "ipython3",
   "version": "3.7.3"
  }
 },
 "nbformat": 4,
 "nbformat_minor": 1
}
