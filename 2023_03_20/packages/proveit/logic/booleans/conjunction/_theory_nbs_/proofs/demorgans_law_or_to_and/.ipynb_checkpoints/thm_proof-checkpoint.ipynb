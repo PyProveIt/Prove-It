{
 "cells": [
  {
   "cell_type": "markdown",
   "metadata": {},
   "source": [
    "Proof of <a class=\"ProveItLink\" href=\"../../../../../../_theory_nbs_/theory.ipynb\">proveit</a>.<a class=\"ProveItLink\" href=\"../../../../../_theory_nbs_/theory.ipynb\">logic</a>.<a class=\"ProveItLink\" href=\"../../../../_theory_nbs_/theory.ipynb\">booleans</a>.<a class=\"ProveItLink\" href=\"../../theory.ipynb\">conjunction</a>.<a class=\"ProveItLink\" href=\"../../theorems.ipynb#demorgans_law_or_to_and\">demorgans_law_or_to_and</a> theorem\n",
    "========"
   ]
  },
  {
   "cell_type": "code",
   "execution_count": 1,
   "metadata": {},
   "outputs": [],
   "source": [
    "import proveit\n",
    "theory = proveit.Theory() # the theorem's theory"
   ]
  },
  {
   "cell_type": "code",
   "execution_count": 2,
   "metadata": {},
   "outputs": [
    {
     "data": {
      "text/html": [
       "Under these <a href=\"presumptions.txt\">presumptions</a>, we begin our proof of<br><strong id=\"demorgans_law_or_to_and\">demorgans_law_or_to_and:</strong> <a class=\"ProveItLink\" href=\"../../../__pv_it/theorems/da518f8594dcec4fa1b45e3c0d6b3a95596d47cd0/expr.ipynb\"><img src=\"data:image/png;base64,iVBORw0KGgoAAAANSUhEUgAAAmYAAAAZBAMAAABp6f+EAAAAMFBMVEX///+IiIgiIiIQEBB2dnbu\n",
       "7u5ERETMzMzc3NwyMjK6urpmZmaYmJiqqqpUVFQAAAB6qHgnAAAAAXRSTlMAQObYZgAAAAlwSFlz\n",
       "AAAOxAAADsQBlSsOGwAABhNJREFUWMPtWV1oHFUUPrPJ7Ozu7GxWi6H+1SVSVERYRaiI1lUa9SXt\n",
       "2IZAaWkXwW3Rh0yM6IOoa1sDvjT7YCD4YFf8qQ8NLFpRk7ZuHyzUBNmGIGILnYIi+JJQ1Dairvdv\n",
       "7s/szCxbaVnFw83uzTnfvTP3u/eee85dgGjJDNwJ/4sk2sA97SDJf+O4Eler4zL+WPhPcnYrZa4S\n",
       "wmils97eFNV3KWcu/joXxVkbRPeJVaCvvhIypJXOujskbcw64WwW16ejOGuD6D7ZTr/Oy9wMiWqY\n",
       "XpbehpiBpqSfIpy9ildrMYqzNojuk2P068RlodLvEvUwvSxbxf41l8tCP084S9oKqwGctUF0n+Tp\n",
       "UjlwSdpU31T5EgrRK3LLz7z65BZH6HtszFm6HunokakNovvcGV0jr2t/Cl3M4BslTK9I7kV+YmRv\n",
       "k9ZLsk7OzfsGBu6PPjejEV0nJj0CatYfQrckHHKYXj1Fkt6GNOF8XfJzLuHsM4BnojmLRnSdJMkY\n",
       "Uw3jF6GbhrOsFqZXuyhbNVadgdcKwpCuEM4OQsKN5owjbMmgB+NtZcblf74jxdc6K5tDbeDrp+UV\n",
       "NFK8/dagz078xVWGCzHbe6dgvSLo2FvvLUuYlOix8oSzuN3r84P7jlbTGyXOPIS+QQJtc4IGpEAg\n",
       "LtXTVVz8rU3JHGpTJABIRgY17qcJon/uxG/ofU7TDNABjU0B1Q9v/tGnV+QngOvYbDw3tyy5PGOF\n",
       "cGZlZQdvrCtVLXcQPpU48xC9kvOELYEnqQJRONtFir91qkDG6kbaBC/BQCTvkyJxpiMqLgKMXe9F\n",
       "bHqOTirV1+BjVa/OPNqBW2n1KYA+CZGi6wwqJyX4HJo766QJBTl3YojD90qNxwO3jgxROZtlwbGv\n",
       "9RTOMBA7UTYm4UASDyVteW/iRXo7+lvkketxvniR/neYdBR9S0RrNryJiuWlvZmjnA2h4DZ9bGyd\n",
       "dsqhyYH1ykdZhTOMwA7mHSmwSQY6QRmicpYjpaX1EAbF7Uib6C0ESEbJQ8g4pvIIS3oWvYeztJHp\n",
       "v6Kc5dR0kntEnpWm6iTX8uiBdJFyth89eud79R5Xc2GEkOkMfq9wtt+ljvYLiRwzKNNVIApn6BWk\n",
       "3Fi0PgtWHW2rKBuf41AgstWAn3Q4HkjgtTFaZpylMYtxTBLXw2OKfjfqSl9lFSDbag8ZOQZc5vSQ\n",
       "OGaBOkJ440boc5DiCOXM1IoyZxnibA/DGoAJOu0pR8vDzM3+IJpA/Jw9XiqVcqkioNKLqk+z1rSr\n",
       "DwGKKJLx2VJnZoWNSwCQ71PSPXPJOdBHV234tvkW4yyDn2QggoTeWC/rIYYJv9urkPNhDP2NNKfA\n",
       "Gl0tePRArCrdBV2AcewITqP3aViOXqi03gUd3bRsG4uUM3PT5l8hr/tvCDAkcJ25lgsW3UoZ1pp2\n",
       "heLtBeSlfLYe2C1sXAKA/Ogqgojo75BeYTEkhpqwO4r5GD2wT74/2wD9MGnAC3SdwUy2hTMUACEf\n",
       "wMKZLCQuQdnI+7cmgqSPL8wuOX7OxKAyrDXtCoWUSeSlfLYEekVuE46+FTh/bn7mCd/eJIl0G84S\n",
       "tUS5E84YPST99zhLrCAqT5nU46IQSHNbOEPbtq+BB6oXiGtEUUW8CsP4X/ZBIVY/PMhusOJS/MTP\n",
       "ANNrTThDYVD6B2ixwbPC5j0gCHim2FNdwrOVlQKteLktZxMvvdzJQvPoIdc7HmcpF6URB2+ABPZ8\n",
       "z0+LqIhzZm4E/cu38UCNh+ETF3asVnFSNd4wHoDxMv5oMMgevcIOavnc3EsKEdaacLaXXUr5bKYj\n",
       "bN4DgoBxZzsJFhBNgildBKEHDj0aSMIjzWYny8yjhzyj5W57uFSqRt1t44Fa3gFlo6kVcaVXy1mF\n",
       "WLqFMznqFF3x4flsg5oydLUfJSpYghxacSNAj3x2dXG1Utm1V/J7gLEGhYEfeJe+zRyk+BL3arqr\n",
       "VTNrWzgzy7j4u+Iq1ZZsXvSrIBC4C26CC0jzOSnXRq7oN5S6nP4F1AJjWhgkxSdfy+ZQG/j6CUpC\n",
       "09Xu4eyf/L6p/GamB92F2BH3JCFOWg/W6deIMW3gob8B9e3S9r780VYAAAAASUVORK5CYII=\n",
       "\" style=\"display:inline;vertical-align:middle;\" /></a><br>(see <a class=\"ProveItLink\" href=\"../../../__pv_it/theorems/9653f78aebcfdd7a6b3773d43c54ca761881ec760/dependencies.ipynb\">dependencies</a>)<br>"
      ],
      "text/plain": [
       "<IPython.core.display.HTML object>"
      ]
     },
     "metadata": {},
     "output_type": "display_data"
    }
   ],
   "source": [
    "%proving demorgans_law_or_to_and"
   ]
  },
  {
   "cell_type": "code",
   "execution_count": null,
   "metadata": {},
   "outputs": [],
   "source": []
  }
 ],
 "metadata": {
  "kernelspec": {
   "display_name": "Python 3",
   "language": "python",
   "name": "python3"
  },
  "language_info": {
   "codemirror_mode": {
    "name": "ipython",
    "version": 3
   },
   "file_extension": ".py",
   "mimetype": "text/x-python",
   "name": "python",
   "nbconvert_exporter": "python",
   "pygments_lexer": "ipython3",
   "version": "3.7.3"
  }
 },
 "nbformat": 4,
 "nbformat_minor": 1
}
