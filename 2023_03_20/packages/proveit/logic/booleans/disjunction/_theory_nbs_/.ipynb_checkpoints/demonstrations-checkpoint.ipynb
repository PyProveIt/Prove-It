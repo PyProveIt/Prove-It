{
 "cells": [
  {
   "cell_type": "markdown",
   "metadata": {},
   "source": [
    "Demonstrations for the theory of <a class=\"ProveItLink\" href=\"theory.ipynb\">proveit.logic.booleans.disjunction</a>\n",
    "========"
   ]
  },
  {
   "cell_type": "code",
   "execution_count": 1,
   "metadata": {},
   "outputs": [],
   "source": [
    "import proveit\n",
    "from proveit import defaults, ProofFailure\n",
    "from proveit import A, B, C, D, E,F,G,H,I,J,K,L, m\n",
    "from proveit.numbers import num, NaturalPos\n",
    "from proveit.logic import Boolean, in_bool, InSet, Or, And, TRUE, FALSE, Not, Implies, Equals\n",
    "from proveit.logic.booleans.disjunction import closure, each_is_bool\n",
    "%begin demonstrations"
   ]
  },
  {
   "cell_type": "code",
   "execution_count": 2,
   "metadata": {},
   "outputs": [
    {
     "data": {
      "text/html": [
       "<span style=\"font-size:20px;\"> <a class=\"ProveItLink\" href=\"proofs/closure/thm_proof.ipynb\" style=\"text-decoration: none\">&nbsp;&#x22A2;&nbsp;&nbsp;</a><a class=\"ProveItLink\" href=\"../__pv_it/theorems/89d3d97dc4360142d43d01b2b868737402f7ad940/expr.ipynb\"><img src=\"data:image/png;base64,iVBORw0KGgoAAAANSUhEUgAAAdQAAAAWBAMAAACLXnBUAAAAMFBMVEX///+IiIgiIiIQEBB2dnbu\n",
       "7u5ERETMzMzc3NwyMjK6urpmZmaYmJiqqqpUVFQAAAB6qHgnAAAAAXRSTlMAQObYZgAAAAlwSFlz\n",
       "AAAOxAAADsQBlSsOGwAABYRJREFUWMPNWGtoHFUUPpPsY3ZnJ5lELERCXLZUqWKJUlspNoyQ9LHS\n",
       "dmJLQBS7Cm6LCpkkor9qo9ViEZKVGhApZrWWKjQS2wRpYusGSkSjsNEgRCrd/PBBf5hQqmnAuN7n\n",
       "zJ3JTLZxG/DAmb373bMz57vn3HPPLMBNiJQw4VZJN9PVEHkZvPbum7pFIHvLvJHyVJEc8zE5tkJ+\n",
       "GWsY1VxztZv6j2/IUjwJBQxdLkW1Cn+oufKpTjFF0u9j0r+yO0bm7HG9ezL1gdx3leJJGMHIu6Wo\n",
       "KjiukfITL5ihiheuaKG/4EsH++KHC+LArwhUI4ab6hnYEaJ4El7BOZAqRTWMg3+0/KAqOap4OGut\n",
       "3Bi+HOAmPrggDvziDXsiNriU6ndVFE8SwoF8yb3ahz52lU+1kimSHXusWlchbjk/XBARD7w+L8w8\n",
       "yCrCM4n1FtUIxZMQQ2scKV2WvkUfmfKpTjNFrmp3WguMl1ph3/xwhz8C/qq0KMycoOXpbcOO6u+X\n",
       "KJ4EeCCR2FiaamUisVYvn+oQU+QqXMmJRbSC568P7i66HB9U/xZmdtMabthlqXWDTnFE9XOAZ70J\n",
       "ilQVE0LkBkHRxPCuPf5UT1grPwCH7aX7DaCGDf1wh9h4NB++Lkx8Dc4qm/rw+LVhiiOqPSAXvEuI\n",
       "SBXZ9JDxXqGbCG72/OFeZ8MxvfPsBT6+jymKBvSixz5JNwWqjet4lDAebP7DcOEOsXEF5H+EiR/I\n",
       "NSOWpfpPDIIjqiHD3SG8NpSNNbmoosgnyXiPsHcCi55UBZNwQzorBeSfOfktTEF6fnQ2BeGaOD0k\n",
       "ulVWOymugBJ34q6z1MLXjF78S5g4TB6K9mTiLk41FNUJjtxXNbEqYd/UQgsMu6lO0rWKdgkdyen7\n",
       "vfwQTUYRRykALXk31VaAasRGpVRVnZ/ZFK/OyvNO3CkWHkSPuiZMnCRgSoxqCFIEx5HKjAm22Dd1\n",
       "TAE9MHp2dESgGokRAlJEyHbtfc/ezzaRcIVBUb1kuBMYBaWi0aIK8Zes/MV4zKBUbdwlHMfhWAsw\n",
       "8VVNoR4ftN/TWSfVDMEx1V3ozIx90dEgjZvUN/XQx5rujmpgmrirKfZGkOC8lxuCSRsxU85Ze/pp\n",
       "ptEc7eg41fqrLCMYDoG4A3cLx8+QRjL4zcPQBA1oPE7QGgdVVSM4pnoEl4eTucqCVKC+qWbLT0uo\n",
       "yk3EFVNqBJlV7NNwG0QnR9z5i03A9gRFNfxZVjgMsB5BGrphU32MrQ7HodMQ8eACuuzPsIGNy/hJ\n",
       "7d1yawbmhYMsYhWL1EfwyKMUx1SrUM6+UQfVpqJT31RTkVJuqrjAI6x5959wiFW/oeZZoxL2uws3\n",
       "NuG1P51O59Fe1fn50Um1rdgHavuCblFlDYGF89XkjcK9uEcaZAMLD7YvGPBj8R2o0sKNZGPcQ1fm\n",
       "11PUrG5TO36zIXiSOzUDXVCRp76pZlDPuM5VnpyAN9E6lr/Qa8rod678xSYTlycGtgO8SKMKOi9U\n",
       "FSZVq77EvRP0LXhzRf2mKaXkORNkdrvoNtYY8p4jLlDdDGugN0x9U00Y0DzfV/FWWiRU95HsrEaL\n",
       "+xwEdfSVX6jJZKoyOwW060BUt2tCPy725D5U5QMvD6+Eai+Kayw1yN8kPN8yOFV5DsV1XKG+xbIg\n",
       "FTypnivAEwtZTLUrrzRB8Mv3cBsV3gpd3eGH8GUrMwmZj8MF7DJuIeq2vWDd6iBT9tid1zXPKBWL\n",
       "cyuh+ik6aeUZw/fd6yjYVKMF1E313E5960SNVWG5fyFwAvOd34LyWLWjZL17TEEcLeW+dNr52zZe\n",
       "l1dFDi6DJ93gEt8IVed/Sx0b8xBlJ2WkiE7wU9YUHz0Fd8CM1+kva1RXRaRuf7x2y3+9a0z8kvMY\n",
       "/f/kX+UKh1HDw8q9AAAAAElFTkSuQmCC\n",
       "\" style=\"display:inline;vertical-align:middle;\" /></a></span>"
      ],
      "text/plain": [
       "|- forall_{m in NaturalPos} [forall_{A_{1}, A_{2}, ..., A_{m} in BOOLEAN} ((A_{1} or  A_{2} or  ... or  A_{m}) in BOOLEAN)]"
      ]
     },
     "metadata": {},
     "output_type": "display_data"
    }
   ],
   "source": [
    "closure"
   ]
  },
  {
   "cell_type": "code",
   "execution_count": 3,
   "metadata": {},
   "outputs": [
    {
     "data": {
      "text/html": [
       "<strong id=\"closure_spec\">closure_spec:</strong> <span style=\"font-size:20px;\"><a class=\"ProveItLink\" href=\"../__pv_it/theorems/79a768603778550c651661670153c27ee0a505870/expr.ipynb\"><img src=\"data:image/png;base64,iVBORw0KGgoAAAANSUhEUgAAAEYAAAATBAMAAADfQ2bzAAAAMFBMVEX///8yMjJmZmYiIiIQEBCq\n",
       "qqqYmJjMzMxERER2dnbc3Nzu7u5UVFSIiIi6uroAAACibcT0AAAAAXRSTlMAQObYZgAAAAlwSFlz\n",
       "AAAOxAAADsQBlSsOGwAAAQ9JREFUKM9jYCAAFBgIgwZK1HDbd0gzcPr74TWHI+ANA8N+/HbxWHEm\n",
       "MLAwMHV0eHS04VITwSDFwIzdHN5mY0OwmmUXFuJQwye7AWrOguO8E+Bq+O7smtvLPrMPLLVwA8yu\n",
       "BRwMfXA1nBxnGfbnMYSApaTg7lnArrB5Myyc3zE3MKy/wJAPlhJAqGFIZW2B8Tbsf8AQv4FBEcRm\n",
       "dzY2NraAquHZcATuzngGkAJPcPA2IJnDfWAzXM1BBgZLBr5f3CC2AZIahloOuBpPBu5/DDwCy0Ds\n",
       "u/C4KACGVQWMx/Wdge0DA8eECSAOYwBUFMxQhAebAQOvAgOf7gKwg068Bguyy3sAyY3Y44lvBiQu\n",
       "UAAA9FQ8d6roA+kAAAAASUVORK5CYII=\n",
       "\" style=\"display:inline;vertical-align:middle;\" /></a> <a class=\"ProveItLink\" href=\"../__pv_it/demonstrations/d04c242d1f70388b8d86ed5cdcb9d49eccd3b96b0/proof.ipynb\" style=\"text-decoration: none\">&nbsp;&#x22A2;&nbsp;&nbsp;</a><a class=\"ProveItLink\" href=\"../__pv_it/theorems/396b7a0f9445240bbc3cec8e6d5c93d8e58ee8830/expr.ipynb\"><img src=\"data:image/png;base64,iVBORw0KGgoAAAANSUhEUgAAAYEAAAAWBAMAAADUYz1YAAAAMFBMVEX///+IiIgiIiIQEBB2dnbu\n",
       "7u5ERETMzMzc3NwyMjK6urpmZmaYmJiqqqpUVFQAAAB6qHgnAAAAAXRSTlMAQObYZgAAAAlwSFlz\n",
       "AAAOxAAADsQBlSsOGwAABLJJREFUWMPNV2+IFGUYf2ZvZ2f2z9yNmpJltqxYXH7ZpLAv5Ram9cFz\n",
       "qkOQwpagrSi4kYv6EOSaJgjhbdSBROSGiV862FQIO7UN9KAOYr0kkAxXyAK/nESlG9n2PO+fmXem\n",
       "GePYE3rgeWfe3/vuO+/v+fe+CzBfYgq9KRK3cHU+P3KHUPxcLWYbtbmtuMd/zdjBIW3FS53VlwE+\n",
       "xvc2Aed7J2CVuKKkr0RPicPjZL/yviw0lsrYe7bWQWsCfEH9fb0z2CIU5YK/00vUbIMb4770O9gY\n",
       "wt5WV2XvhBk0k9UywDjAm+Tecu8MjgtFOXnNQ7+i5gW4Me5LjjafcnknO6tEea7xLwa5FsbPNCeX\n",
       "bPXOoCgUV9t11UMTSvjH4arklfB/bJOrjNwvEuC5wqDHABfocyCHkZSehzSocUXZoV33YLJNVtgn\n",
       "DldlI+oJkff2neqED3lGv+t4Puh/B9MujdtfXSjc1zuDbIkrSsP6K1B+EuI9Dg+Xn7xYES40lZEh\n",
       "Pu54UbR44U9kCoykzwGeZ6CaK3r0PvVYBmSLNPtipmX85uO/ACwQBTEGD6ayC5pI5AnYXlJGvoZA\n",
       "yUllBteuwh3n0BR7wWQVVV+jzH/KjdxnCD73+OETMrBbXMl25t+4Gv8iFYqV0qaEDw9dCuEBMdqQ\n",
       "EJZswFhbGfmOtTUlk7VvsBBZmHspJ1lnoXldmb8pOrcV2FheqWtJ80fBqa/OFWDJ5Mk/sFIuFL6p\n",
       "WqKKcLwBh0N4UPbBDyJlX56cVUvkdvZRDPnCXYIBlD9BBCu0ZfNEPnSvcgSO2lHLq/Akbl1LwqOt\n",
       "EAMdp/yKzxl50KV5TRT4nzDmBvCQnJWB8gTAQF4ZOMAWKSs+gHIKt0T1r8aKM9gfKYd2uh21vALT\n",
       "YYgMzFNOKIqyqCt8BpB/TQYRw08LBh4ekoRRlkEEiSLkjm9brk253nr5AAM0vUXIxnG2JTjmr2Nn\n",
       "I68wCryZ/SZ7RCZPyuYKn4rrgGSw7DJ/ShweCeJhI31b5+5uslvIMweafW2N7DbF4AUBBmcwk4nw\n",
       "TmbYQ7AIYDe3aMbVijBxez0cRASDvyH0gfGZmERVjdSkGSNVn8GTnLSHGysD+LP40DsgGnwM8uGd\n",
       "tMtr8PZSGHBZlT7K06flMSglb2mICt7P3Hp03axjzHAG2XVDv0NRD1/EGCyLW6VSaWEelETFM/JM\n",
       "9ZGOA9933/cZ8HPLx4WR5HmWoHxeBbKR59nm7jhYI50SXIRRHp33cII/H+Sueq/C7qaQ8MysAQWo\n",
       "qGQ2mFehahTDQUTw9PnpiQ0Ar3IfQEnm9t1CpczE3LAb5pzu9GtgCYwZ+DuRAZn1hUF1/C1QomKg\n",
       "RQz0EotBLK2pOnWGvYbDZ8p99bNUgzmDDZLBtND/YLD79TecufyzuYJemMIqkG3GXyi5Tx8C/csP\n",
       "iIHxIBxpw9OdOh3W2BmtGg9QI+GUu4U8bdLF8tzS9a94qVXlKmTX/ocjv7i2252LCzJtrK57FyPz\n",
       "GIbhWzVFkSUvX47td/y3BJbsPBpkuFIJZDqVan0ebukx8mI0nAqFpLEI74YH5T+kbt7v+G9b4Ta4\n",
       "GBXKO4TeFNFikufWKLAZ3WnC/1T+AXfBQpXwRJscAAAAAElFTkSuQmCC\n",
       "\" style=\"display:inline;vertical-align:middle;\" /></a></span><br>"
      ],
      "text/plain": [
       "<IPython.core.display.HTML object>"
      ]
     },
     "metadata": {},
     "output_type": "display_data"
    }
   ],
   "source": [
    "closure_spec = closure.instantiate({m:m}, assumptions=[InSet(m, NaturalPos)])"
   ]
  },
  {
   "cell_type": "code",
   "execution_count": 4,
   "metadata": {},
   "outputs": [
    {
     "data": {
      "text/html": [
       "<span style=\"font-size:20px;\"> <a class=\"ProveItLink\" href=\"../__pv_it/demonstrations/361c8db4d15673b8c56e82d97d45461e4b97296c0/proof.ipynb\" style=\"text-decoration: none\">&nbsp;&#x22A2;&nbsp;&nbsp;</a><a class=\"ProveItLink\" href=\"../__pv_it/demonstrations/87e07455e5f4dd07cd107fcd043da98e20bb18240/expr.ipynb\"><img src=\"data:image/png;base64,iVBORw0KGgoAAAANSUhEUgAAAXEAAAAWBAMAAADEL7HBAAAAMFBMVEX///+IiIgiIiIQEBB2dnbu\n",
       "7u5ERETMzMzc3NwyMjK6urpmZmaYmJiqqqpUVFQAAAB6qHgnAAAAAXRSTlMAQObYZgAAAAlwSFlz\n",
       "AAAOxAAADsQBlSsOGwAABK9JREFUSMfNV2+IFVUUP/PezJt5f+b1VtuwElk2NtksXCUpivAJu0aE\n",
       "NtayfVDqZfRUCHlq1IeoXiXSUuSGBH0QfJV+S9hsK0ilF0RggUxrkItFEv0BjccaGyUV2zn33nNn\n",
       "5s0YLe996MK5c+fMmd/93TPnnHsHoCutrqTbzfmX+brSDF9K11uu1DbRDTsur74A8CaOz5Pimw4n\n",
       "+EoJbNrZau6NP7euaf3ilP87XgCztO1JJlcaf6gBRhPgI7p/ozPi1oQUMFZ5cO5mpf2Rul1iuLgX\n",
       "3GNNqS562NmlGEjIPAST9dqZN816BeB1gGcpmiqdMc83pVhbazj4Q2k/oW4bdWPLsftYxWaBSGdq\n",
       "MZDAPAxTmIwxL/gYJ1/IRZkdhmhaSXYNheaQ0qbIJ/Ql4AA57m227kMZj4ME5hGYNSrAt/YPauZo\n",
       "lfaggL7KdhjmM0ruIw/Y7CXyR5405t90+zRbb0A5GQfR5lGYgzJTX/O0z4uvYMZkkfbq/v5bO2Q+\n",
       "JcX5VXxrDgRyIDkS9pOX4UG2Hld+by+AbB6F2Sjf8XS09C76gdaJEfMhwGMdMj8oxbwUVf8M0CN8\n",
       "GE3HYg2MUgIKm0dhTkGkhGRyg2tX4DIKuM5XwaHKaFwcHtV5vGxqZCShaodNZu45pj/5LVJSKjct\n",
       "ORsl/wBdV8rctIZb4m37PKS8BOZszjAAFPVn9IijxfgcC4uLaZDxzAYGEs78KD9+y4fMUHxX0Cb2\n",
       "smrDMJ1vOS7ukJKeFQRh1yKpztZdEaxrxZ2Xh3yfcuC5pC/H5gwDBg2eExNiSPffqJhD5TBq8Jlb\n",
       "ogQ9g15gPBfz2Z2MIQcmx5GyYcKIH2WeElN+DTCtcMpZ4e2V4qZ2VcP5Xe1bifsHm2uYo7NckqxK\n",
       "yOdQyajSM4GV1KH0f0Y93Y+M7FihDExoA0PmzqdeNFpkCS5r5tD3pLiISm5CwVPMU3by/qHMGcbq\n",
       "JebTupIGzNHVLmk2YNgUw8n+fSJuYDIm6Offu40Vj0hxKLVML2C+9IL0BOUj5Y0pIYzTjcQZlDnD\n",
       "GBYx/0zoeiLMv8QMpcW/iAmalsGxT3jxTjE+en0UX5lgIXpHTG/a77LBRiXfNSE3AgHz+2ViuX8B\n",
       "HCbk3fIjWYPycpm7hyfC5gxzVjCfkjnga+Zl82pkki/LKgVpcotvTwvoVTQbDIkXQ8yFCRQG4FS1\n",
       "WvUxzst8htqtxPqgJY5BzDyv5tu88yIt0uHqq4rSCu5SkxFzCeM0BYGbpOqnI/JzHaiKsyKk2GtF\n",
       "9LtRV9WqhbIE6na0vCiTswPwhPQ5lLkqp2pSuE0nl/2X4aUFbBL28L1zPjgqRnPr5e7P7QV92sPS\n",
       "cB0Qc6sMD+ApEpeUacAo3XInTOzGANZRyfxuZk7HovDRKJm5s+2p9xf2W/GbPMgltRN6tHmqxxPM\n",
       "7bvAOr6uF8Tmuse3b4c9dep8abIFdwuHTnQz165/XL+9XYlsew+tSzyXzc/PLoj56T992HeFRbVX\n",
       "J4oWl09AXonimpsaPd8zV4fRajWavWNccbretierM22/c/ZiPMcdUTeH5vsgp3dpPdo0l/AP6JSk\n",
       "dL0ZV/jhXJKkDAdWIWH0f2n/AKEbM0ctdoYjAAAAAElFTkSuQmCC\n",
       "\" style=\"display:inline;vertical-align:middle;\" /></a></span>"
      ],
      "text/plain": [
       "|- forall_{C_{1}, C_{2}, ..., C_{4} in BOOLEAN} ((C_{1} or  C_{2} or  ... or  C_{4}) in BOOLEAN)"
      ]
     },
     "metadata": {},
     "output_type": "display_data"
    }
   ],
   "source": [
    "closure.instantiate({m:num(4), A:C}, num_forall_eliminations=1)"
   ]
  },
  {
   "cell_type": "code",
   "execution_count": 5,
   "metadata": {},
   "outputs": [
    {
     "data": {
      "text/html": [
       "<strong id=\"demo1\">demo1:</strong> <span style=\"font-size:20px;\"><a class=\"ProveItLink\" href=\"../../__pv_it/theorems/a10dbfd9a4efbb6f30af430036ab01697a9460f80/expr.ipynb\"><img src=\"data:image/png;base64,iVBORw0KGgoAAAANSUhEUgAAADYAAAAQBAMAAACvnpHFAAAAMFBMVEX///8QEBAiIiLu7u5ERES6\n",
       "urqYmJiIiIjMzMx2dnZUVFRmZmaqqqoyMjLc3NwAAABb1yYoAAAAAXRSTlMAQObYZgAAAAlwSFlz\n",
       "AAAOxAAADsQBlSsOGwAAAONJREFUGNNjYACBtwwogF3R96/QUijnPqocAwtrwVurADCT5z+GXALn\n",
       "Awcwk3v9Aww5tgMLwMx58xugFjkp6cLlLoBYfAX1B8BSrNcN4Pq4nk0AG8lwPgHiXAO4mcVFK8Gs\n",
       "GIZ+sBqGewj7dOW1wQo3MLyH2HsByS3sqZdBDvDevR7sXg4hJSUlFagcg0MkkGHOwMCvABJhdkDS\n",
       "x+DAAjaSgUkALKSAIscLdDjQjbwfwELlKHLHGRgegtj/wEK8B+ByEzgrNzCY/L/MwOP/F+wJ5iXB\n",
       "kOC56IKIBxhgnQIJMwgAAIdSN5QgoD0bAAAAAElFTkSuQmCC\n",
       "\" style=\"display:inline;vertical-align:middle;\" /></a>, <a class=\"ProveItLink\" href=\"../__pv_it/theorems/c50b73f2d168f6a3012768bd45c62ea92218bcbc0/expr.ipynb\"><img src=\"data:image/png;base64,iVBORw0KGgoAAAANSUhEUgAAADcAAAAQBAMAAABAXPr7AAAAMFBMVEX///92dnaqqqoiIiLu7u5m\n",
       "Zma6urqIiIjc3NwQEBDMzMwyMjJUVFRERESYmJgAAAAeMT9/AAAAAXRSTlMAQObYZgAAAAlwSFlz\n",
       "AAAOxAAADsQBlSsOGwAAAPNJREFUGNNjYMAGiufu32mTAGK9/X/mzN4FqLIX0jm2HAOz5jIw8PxC\n",
       "k8xjkOAFMTi+MzCwfcWQfMQDYvABdfF9B4uxXza2hktygxg8HxgYuGeAWGzbHRA6TzwEMTgvMLAc\n",
       "Bjuo2wHhIHcbARBj/fXy0w/AQjsQdibv/BwCYtQ3MDDNAwttQHZQXTbInJtALA8ylmuysbGxLUyS\n",
       "lw1k7h8gfl8AJFguIOvkZQByuf4BOefBYWWAKgm0hf0HUMFvsFA5iiQT0DTuCQwMmVvAQtwKcMlE\n",
       "BnFRYBDc/3Pm9CWIEMvZFAijeu59aKwgATZZaPBBAACOK0z+8Z1J0AAAAABJRU5ErkJggg==\n",
       "\" style=\"display:inline;vertical-align:middle;\" /></a>, <a class=\"ProveItLink\" href=\"../__pv_it/demonstrations/dc7d96b1022c0165a0469ead301debeb324b9c180/expr.ipynb\"><img src=\"data:image/png;base64,iVBORw0KGgoAAAANSUhEUgAAADYAAAAQBAMAAACvnpHFAAAAMFBMVEX///+6uroyMjLMzMwiIiJm\n",
       "ZmaqqqoQEBB2dnbc3NyYmJhUVFRERESIiIju7u4AAABBACUiAAAAAXRSTlMAQObYZgAAAAlwSFlz\n",
       "AAAOxAAADsQBlSsOGwAAAOJJREFUGNNjYMACeN0PfSrZCGLx3dm9i7MBRZKH8cKk1wJAxvV7DGwh\n",
       "C9DkFnBMOMDA8MYZyImfgC7HlbCBgUH9AZAjDhG74+KiAJdTYOD4BuKYgqWE7iH0cc9qYJjvAOI8\n",
       "BhGceggz713ZwcDQfwFuC9MEhJxTvesDBn+EK5iQ3cK7UI+hHswBuYfB3AUIDkDlGA5IMPiD2GwG\n",
       "IPINsj6GAzwQn3GARVhQ5ZgY5oPc0gcJxgsocrkMbL8YGCQeQITUEHINHDcCGBient4qABV6fRCi\n",
       "iFf9DDQekIDEEUiYQQAAC/Q/y+C8Q+cAAAAASUVORK5CYII=\n",
       "\" style=\"display:inline;vertical-align:middle;\" /></a>, <a class=\"ProveItLink\" href=\"../__pv_it/demonstrations/be49e688692580141a3851882e8c02185518c0cd0/expr.ipynb\"><img src=\"data:image/png;base64,iVBORw0KGgoAAAANSUhEUgAAADgAAAAQBAMAAACxV6F2AAAAMFBMVEX///8iIiLu7u52dna6uroQ\n",
       "EBBmZmbMzMyqqqqYmJgyMjLc3NxUVFRERESIiIgAAACK51z6AAAAAXRSTlMAQObYZgAAAAlwSFlz\n",
       "AAAOxAAADsQBlSsOGwAAAOtJREFUGNNjYMAG+ERv/Qo8AmK9/X/n7J0NqLK8LA926TiAWL8YGDh/\n",
       "oEtOYN5wAchg/wckUjEkORsOgCz4DiT8J0AsuygoBZdcAGJ8ABL7DUBiLOsU4Dp5doKE+EFm14PM\n",
       "YNilADf20cPDIEb9AyAxH6xzNcJOqXgxkMr3BUDiPNjdC5AcxDdlEZBxH8T7CiLYAwUFBWWhkgwX\n",
       "nIGMv0DM+RMkxHQBSSfDBV6oN1UhwgIoklxQb96CiL1DkexjYOACetMxASLG1QCXNGB+nMDAc//P\n",
       "mbvZUDGms06QgFp6FxoryIDFFhJ8EAAAAWRGcmafPXcAAAAASUVORK5CYII=\n",
       "\" style=\"display:inline;vertical-align:middle;\" /></a> <a class=\"ProveItLink\" href=\"../__pv_it/demonstrations/562497b31cd01a2c3769a030b08d4016beb44b410/proof.ipynb\" style=\"text-decoration: none\">&nbsp;&#x22A2;&nbsp;&nbsp;</a><a class=\"ProveItLink\" href=\"../__pv_it/demonstrations/9ea2eed5392d81c2a9966e32841742ba2e03f7860/expr.ipynb\"><img src=\"data:image/png;base64,iVBORw0KGgoAAAANSUhEUgAAALwAAAAVBAMAAAAOdJm+AAAAMFBMVEX////MzMxUVFRERES6uroi\n",
       "IiIQEBCYmJhmZmYyMjLu7u52dnaqqqqIiIjc3NwAAACW8nlqAAAAAXRSTlMAQObYZgAAAAlwSFlz\n",
       "AAAOxAAADsQBlSsOGwAAAqxJREFUOMutVU1oU0EQnvw1zc9LcxG8JSSCioc8U4T2oMlFD1Zoi0YM\n",
       "CC1oD3ppUC+ekktFUDQgRCiozxbEixD0JmJzUZQiBosKlZKAoPSU1kol0DbOzu7Ly6Tm5HuQeTvf\n",
       "zvt2dubbDQDUwYYn1GtCq9Br9f/o3dUu1rPDzal9OFiU/qOueG/qV+zg4S7QvxTbHyozaKmVjCex\n",
       "AF+7Ql3u6upcGvxF8oItYZ0GGodMpE8HSIQ59mUZgjM5jjUxlS0An9FNnwvUdejPkdefEC3wii9c\n",
       "YUIaOB4tMGx+HM3dOsMc22huIFTYRe+tRKFPeq8XKHjM6kIegXyVYSWR4Qkep62jGcUcL6uiH8lk\n",
       "2/RFeC8bX61Rh1/h77aMSwi+eicW2BJ2L49zrYmdYj/uyxY/MNrZO3+W4ZasDXzMmfoZk/MXAObG\n",
       "GdYg+5jHDWCLIBIFeC4FaLSLs/z5kLnoKYiQIJxh0GTHHBsrn+RcG1uwxGfFRcQrjx9fJ/ehVfvs\n",
       "9DkDzpNTgEaUSKPgketrOwBvcwybsA6gFVcTPUukMZjcYkdrtWuzcJG4hm4mdLX6OzU9icVeZ9g0\n",
       "WYPHpYTZFNugZacymcxpRQ/6iKR/hjWUpVw0tzeAu/FuM2yCDkiYx20IPf8xFeXXO7IH3SWLg5r1\n",
       "TBLqcaiAiDg9vxkmFA8BYBjJ/okYvwGwdKHofXBUqAmpfGuy5FfScrqGXJEiw8RBg5fAMJL9sBhd\n",
       "JX+F0X8gPf0Q7o68VbJquoSrXjIYFsQajCjhmZjI6jgdWKlwX6VNXw58K8AePOutWQimmvKqUocq\n",
       "3orF7pmhCoOnyQNpYJgTL77BOzQ8I5eNn5S7Kg3SjekJgy1PSFXd/SKT7bx4C/bQq6tx13PMHvrv\n",
       "PfB5e+h7ZRmq2sGu/fsf+y8VAr7jAX12bgAAAABJRU5ErkJggg==\n",
       "\" style=\"display:inline;vertical-align:middle;\" /></a></span><br>"
      ],
      "text/plain": [
       "<IPython.core.display.HTML object>"
      ]
     },
     "metadata": {},
     "output_type": "display_data"
    }
   ],
   "source": [
    "demo1 = closure.instantiate({m:num(4), A:[A, B, C, D]}, assumptions=[in_bool(A), in_bool(B), in_bool(C), in_bool(D)])"
   ]
  },
  {
   "cell_type": "code",
   "execution_count": 6,
   "metadata": {},
   "outputs": [
    {
     "data": {
      "text/html": [
       "<span style=\"font-size:20px;\"><a class=\"ProveItLink\" href=\"../__pv_it/demonstrations/9ea2eed5392d81c2a9966e32841742ba2e03f7860/expr.ipynb\"><img src=\"data:image/png;base64,iVBORw0KGgoAAAANSUhEUgAAALwAAAAVBAMAAAAOdJm+AAAAMFBMVEX////MzMxUVFRERES6uroi\n",
       "IiIQEBCYmJhmZmYyMjLu7u52dnaqqqqIiIjc3NwAAACW8nlqAAAAAXRSTlMAQObYZgAAAAlwSFlz\n",
       "AAAOxAAADsQBlSsOGwAAAqxJREFUOMutVU1oU0EQnvw1zc9LcxG8JSSCioc8U4T2oMlFD1Zoi0YM\n",
       "CC1oD3ppUC+ekktFUDQgRCiozxbEixD0JmJzUZQiBosKlZKAoPSU1kol0DbOzu7Ly6Tm5HuQeTvf\n",
       "zvt2dubbDQDUwYYn1GtCq9Br9f/o3dUu1rPDzal9OFiU/qOueG/qV+zg4S7QvxTbHyozaKmVjCex\n",
       "AF+7Ql3u6upcGvxF8oItYZ0GGodMpE8HSIQ59mUZgjM5jjUxlS0An9FNnwvUdejPkdefEC3wii9c\n",
       "YUIaOB4tMGx+HM3dOsMc22huIFTYRe+tRKFPeq8XKHjM6kIegXyVYSWR4Qkep62jGcUcL6uiH8lk\n",
       "2/RFeC8bX61Rh1/h77aMSwi+eicW2BJ2L49zrYmdYj/uyxY/MNrZO3+W4ZasDXzMmfoZk/MXAObG\n",
       "GdYg+5jHDWCLIBIFeC4FaLSLs/z5kLnoKYiQIJxh0GTHHBsrn+RcG1uwxGfFRcQrjx9fJ/ehVfvs\n",
       "9DkDzpNTgEaUSKPgketrOwBvcwybsA6gFVcTPUukMZjcYkdrtWuzcJG4hm4mdLX6OzU9icVeZ9g0\n",
       "WYPHpYTZFNugZacymcxpRQ/6iKR/hjWUpVw0tzeAu/FuM2yCDkiYx20IPf8xFeXXO7IH3SWLg5r1\n",
       "TBLqcaiAiDg9vxkmFA8BYBjJ/okYvwGwdKHofXBUqAmpfGuy5FfScrqGXJEiw8RBg5fAMJL9sBhd\n",
       "JX+F0X8gPf0Q7o68VbJquoSrXjIYFsQajCjhmZjI6jgdWKlwX6VNXw58K8AePOutWQimmvKqUocq\n",
       "3orF7pmhCoOnyQNpYJgTL77BOzQ8I5eNn5S7Kg3SjekJgy1PSFXd/SKT7bx4C/bQq6tx13PMHvrv\n",
       "PfB5e+h7ZRmq2sGu/fsf+y8VAr7jAX12bgAAAABJRU5ErkJggg==\n",
       "\" style=\"display:inline;vertical-align:middle;\" /></a> <a class=\"ProveItLink\" href=\"../__pv_it/demonstrations/bc00fcccbd0a97cba78b2782cf31f0bdf0f0179f0/proof.ipynb\" style=\"text-decoration: none\">&nbsp;&#x22A2;&nbsp;&nbsp;</a><a class=\"ProveItLink\" href=\"../__pv_it/theorems/c50b73f2d168f6a3012768bd45c62ea92218bcbc0/expr.ipynb\"><img src=\"data:image/png;base64,iVBORw0KGgoAAAANSUhEUgAAADcAAAAQBAMAAABAXPr7AAAAMFBMVEX///92dnaqqqoiIiLu7u5m\n",
       "Zma6urqIiIjc3NwQEBDMzMwyMjJUVFRERESYmJgAAAAeMT9/AAAAAXRSTlMAQObYZgAAAAlwSFlz\n",
       "AAAOxAAADsQBlSsOGwAAAPNJREFUGNNjYMAGiufu32mTAGK9/X/mzN4FqLIX0jm2HAOz5jIw8PxC\n",
       "k8xjkOAFMTi+MzCwfcWQfMQDYvABdfF9B4uxXza2hktygxg8HxgYuGeAWGzbHRA6TzwEMTgvMLAc\n",
       "Bjuo2wHhIHcbARBj/fXy0w/AQjsQdibv/BwCYtQ3MDDNAwttQHZQXTbInJtALA8ylmuysbGxLUyS\n",
       "lw1k7h8gfl8AJFguIOvkZQByuf4BOefBYWWAKgm0hf0HUMFvsFA5iiQT0DTuCQwMmVvAQtwKcMlE\n",
       "BnFRYBDc/3Pm9CWIEMvZFAijeu59aKwgATZZaPBBAACOK0z+8Z1J0AAAAABJRU5ErkJggg==\n",
       "\" style=\"display:inline;vertical-align:middle;\" /></a></span>"
      ],
      "text/plain": [
       "{(A or B or C or D) in BOOLEAN} |- B in BOOLEAN"
      ]
     },
     "metadata": {},
     "output_type": "display_data"
    }
   ],
   "source": [
    "demo1.element.deduce_part_in_bool(1, assumptions=[demo1.expr])"
   ]
  },
  {
   "cell_type": "code",
   "execution_count": 7,
   "metadata": {},
   "outputs": [
    {
     "data": {
      "text/html": [
       "<span style=\"font-size:20px;\"> <a class=\"ProveItLink\" href=\"proofs/each_is_bool/thm_proof.ipynb\" style=\"text-decoration: none\">&nbsp;&#x22A2;&nbsp;&nbsp;</a><a class=\"ProveItLink\" href=\"../__pv_it/theorems/e0e13428a4631826afafff48ebd935627215daa60/expr.ipynb\"><img src=\"data:image/png;base64,iVBORw0KGgoAAAANSUhEUgAAAsYAAAAZBAMAAADAsfVVAAAAMFBMVEX///+IiIgiIiIQEBB2dnbu\n",
       "7u5ERETMzMzc3NwyMjK6urpmZmaYmJiqqqpUVFQAAAB6qHgnAAAAAXRSTlMAQObYZgAAAAlwSFlz\n",
       "AAAOxAAADsQBlSsOGwAABxNJREFUaN7tWn+IFFUc/87uzv6cXcfUw1KuY+UwOYLLLEvTNrgrELIl\n",
       "DyHMayvurINo7cB/wtyKBMHcDX8gZbXlmgSKC4maP2grEPIk9/LgsERWCaOE84qsLMy+7715M9/Z\n",
       "mV0XNeqPfTAz3/d9733nM5/5zvd939sFaKzE4ndAs1xHUeJ3Nto11GTLtWSu3Xq8yfGNeWnZXT3j\n",
       "+cuzfwL4QHBcYZfTDXAcY5doqckrLSN4aC/+PfbjCrveH9bX9eZBKXGODzLV1gY4juTZJdPklRQ1\n",
       "x87eFMDFdBXHJV8G1Zs5x6/gOZhqgOMA8/i1TV5pifDPOqsD7ClWc6yVkbAhznEoCeArNxKP2Tt5\n",
       "tMkrLV5+PoE+fELnYks8njM5RsmbZBxrpYYmtJCYH3NNXmk5xc8X8djIg+jHUyw/jq1PIG0lztvs\n",
       "eHxOQxx74/EZiSavtOzl53sBemcyIbjZihVTbvker74K53g/QF9DHEfS4E82eaVlGzsFfpvYuk2Q\n",
       "lLE4nvVgB5Kl5TjHGyBYaYhj7LZBzKa0oQbrN+lliJkkmnExqdad8P+FVNhFx5dwyh8AJ0v2RQTG\n",
       "CuUYenW0k3PsT/ryrkaDHYvgywpZg/TBIi4vIXmKOtf9GW3qVX917RNjWvd2d5ugL3T1uLwK2gVE\n",
       "wnPM7U5L0nUIcTRaEKpvURNIdV8jc4hueqdD5gjzOJ/Io+93Jg3GsaQMjiFVQB8f5xxHdbcpb+X5\n",
       "ATjjS0aShONhY8p7jKQhviuuyOxqrQ2UTiZ8WOaIeAmjEzzrHEm7GByrFWIywjZPCAqz7tZoqTgE\n",
       "QzZvwVirWEDcTBE4BYMWPfHmKOV4AsLTfmbSUurHkPLjQ3YaucLnLonffrb604s+upYOaTxBCQ/q\n",
       "Vsedd7lybFfHiqCNMxe4Bw+ZSJ7E1/edY6Cti8ExX/1Ik2ylWSAoZN210VJxCEK2boHL23DCAuJi\n",
       "isLBLJfToid8y2msWIM9Y38yyWPnGDmLtgmOH8W4oR1e2aocZR8TStMAprOOo9++auPYd4p7tRIi\n",
       "8Vt/z5Vju9pbhsdZwMqidwUMDwsyt1ztGEi7SI49NpMpMUebKFJ0zq5uNFUCApetW/hZpCRAnKYo\n",
       "HFxFcFr0xHoZaZ5mp9txtljDv3BFt3E8jGymBMevI54nt5e8FYUBY1JG5c826lteoBwHF4qHjeTI\n",
       "RPCp+/xgU2enD/3Arueob7e5vpxz9irHsc5m8jTzPYLCqLs3mioBgcvWLdBXCxSI0xSFEy0KWvRD\n",
       "d8vIvpidNuLXcL+Iqe9aHCd8k9H/IwnBcQxHvHErTEgzBZeSYT5NjkKxxbbvxokKpzG2Bo33vRMm\n",
       "QXj4oCNUoJqUL0C9wK7zhQfzsV7+BTrGznfh+CPT5Nokcz6WQXIUu6flZV0+m9VoVwkIXCYoUuiq\n",
       "BIjTFIUTTgla9MTLtxmql/A4f3VsbIvh6r0DYryysZ/vu4EnT/Y2z8IgeMpC2g7alv7+F5DjnpBz\n",
       "bzPStfgSrG43kvCui0kvPOXIzVFNqvh0WRZTWUSNGmO97LsqO8aKLnaOz0iTgW9YylkqSBSd6ris\n",
       "y9nVarSrBAQuExTH0VUJEKcpCieQErRgPJYh1FOdvhSeiduWwq/R/eO50ALZgJAOBQIJ4cfhYSfH\n",
       "OgQxUWmXOWM2HcTX40gls2ntyPGDIwLDAoA9TBrDY6oxNoaBSck4xoouQ7tGCMerpEnwsDeX65Mo\n",
       "MoFOWZfFahw6PbT7EVNlQGAyQRFCV6VAHKYonGhR0IIcy1xZK14jqT5MOA6Oo/8ejUAPk2aOitCP\n",
       "aWmrg2P2vVzhCHsAdmHmgs4/wCpqQp6EOtoC86IJpgleArWDCUvyoOSNsSrmPeyTGyADzS7DKU/V\n",
       "nCfuxDn+OmGi8OeNurwzaRxOefP8TTGVgCBkCwVouN61gLiYonBwRuszOF4p2XiuPsV8Q1NyHK7A\n",
       "VtgwBQbLKE0uwVp854FZGStdNDn+pALLLucZwsFyZCGon73NFtlYCdwHgxl2kuoVai5ShsAC+OrX\n",
       "rn1cUA89xDZN+FhYtndiki/QsUEMzJhdYul1hGN/BgyTnGO2U2ig2G/kVNIAbfSnn4Ajsl1AELKF\n",
       "QuwlmkBcTFE4CIPREn1rU7/5S8XS+hz7M+DyW5MRvNWH+weq19K20m71hW6FVCypLZrwaCS6RmuN\n",
       "teKvlDwwfYfFsTXZe+zLMV9Sr/18HhiBtjo/27Tbq91KPVMMzlIXWoJ6XY6nggvH4WTt/QrbMnBO\n",
       "2ewbuvoLHSgltaLkY3iTHbJhR62xZg9T6oWREllLH5CzziT7/vX7V9tqP18vRoCztX+2YSjo8zEg\n",
       "tU0xOAeuc6OjmmMNGuPY0VeraaLkEKo7lcCtC+HY93/Y7tPyN4nj2vtu/83/KzI3dRfvhsp1buUp\n",
       "8Qf+ATtSNj0m6X3SAAAAAElFTkSuQmCC\n",
       "\" style=\"display:inline;vertical-align:middle;\" /></a></span>"
      ],
      "text/plain": [
       "|- forall_{m, n in Natural} [forall_{A_{1}, A_{2}, ..., A_{m}, B, C_{1}, C_{2}, ..., C_{n} | (A_{1} or  A_{2} or  ... or  A_{m} or Bor C_{1} or  C_{2} or  ... or  C_{n}) in BOOLEAN} (B in BOOLEAN)]"
      ]
     },
     "metadata": {},
     "output_type": "display_data"
    }
   ],
   "source": [
    "each_is_bool"
   ]
  },
  {
   "cell_type": "code",
   "execution_count": null,
   "metadata": {},
   "outputs": [],
   "source": []
  },
  {
   "cell_type": "code",
   "execution_count": 8,
   "metadata": {},
   "outputs": [
    {
     "data": {
      "text/html": [
       "<span style=\"font-size:20px;\"> <a class=\"ProveItLink\" href=\"../__pv_it/demonstrations/0566ee96b84d5c0735076ba089a67fb136a1e50e0/proof.ipynb\" style=\"text-decoration: none\">&nbsp;&#x22A2;&nbsp;&nbsp;</a><a class=\"ProveItLink\" href=\"../__pv_it/axioms/644ef198683ba1122dae29a93144c0bb33daed710/expr.ipynb\"><img src=\"data:image/png;base64,iVBORw0KGgoAAAANSUhEUgAAADUAAAAOBAMAAAB9dUktAAAALVBMVEX///92dnYyMjLc3NxERETM\n",
       "zMzu7u6YmJi6urqIiIiqqqpUVFQiIiJmZmYAAADFjOEQAAAAAXRSTlMAQObYZgAAAAlwSFlzAAAO\n",
       "xAAADsQBlSsOGwAAAHVJREFUGNNjuHMGBE4zIAFesNCZDSD2SogQdwKQYJ0AZnNNgKqDyrGD+CwB\n",
       "WOUYDgCxEQN2OSkgvoVDzgiqF5scdwAD5wQccqwbGHgScMgxKDOsZcAltxAoi0uOh9UBpxxndQNO\n",
       "ObZDDOhy7fBQvgVjcBQACQCoqyavE2pH5AAAAABJRU5ErkJggg==\n",
       "\" style=\"display:inline;vertical-align:middle;\" /></a></span>"
      ],
      "text/plain": [
       "|- TRUE or TRUE"
      ]
     },
     "metadata": {},
     "output_type": "display_data"
    }
   ],
   "source": [
    "Or(TRUE, TRUE).prove()"
   ]
  },
  {
   "cell_type": "code",
   "execution_count": 9,
   "metadata": {},
   "outputs": [
    {
     "data": {
      "text/html": [
       "<span style=\"font-size:20px;\"> <a class=\"ProveItLink\" href=\"../__pv_it/demonstrations/7092f271b2daeaf2599957d3ccc066007c3db1f80/proof.ipynb\" style=\"text-decoration: none\">&nbsp;&#x22A2;&nbsp;&nbsp;</a><a class=\"ProveItLink\" href=\"../__pv_it/axioms/5be08831a8e37b44b705904bb8ca6529c1f0a5d10/expr.ipynb\"><img src=\"data:image/png;base64,iVBORw0KGgoAAAANSUhEUgAAADUAAAAPBAMAAAC2KZqIAAAAMFBMVEX///8QEBB2dnYyMjLc3NxE\n",
       "RETMzMzu7u6YmJi6urqIiIiqqqpUVFQiIiJmZmYAAAB2rqdQAAAAAXRSTlMAQObYZgAAAAlwSFlz\n",
       "AAAOxAAADsQBlSsOGwAAAHdJREFUGNNjYMAD3t4FgTtoopwNUMYuCMVTACTYFoDZ3AtQ5ThAfNYE\n",
       "rHIMF4DYmQG7nDYQv8Yh5wzVi02OJ4GBawEOObYDDLwFOOQYTBj2MeCS2wSUxSXHyxaAU46rZwJO\n",
       "OfbLDOhyM+BBDPE53927F2Xv3j0AAK2oKhKK3pHbAAAAAElFTkSuQmCC\n",
       "\" style=\"display:inline;vertical-align:middle;\" /></a></span>"
      ],
      "text/plain": [
       "|- TRUE or FALSE"
      ]
     },
     "metadata": {},
     "output_type": "display_data"
    }
   ],
   "source": [
    "Or(TRUE, FALSE).prove()"
   ]
  },
  {
   "cell_type": "code",
   "execution_count": 10,
   "metadata": {},
   "outputs": [
    {
     "data": {
      "text/html": [
       "<span style=\"font-size:20px;\"> <a class=\"ProveItLink\" href=\"../__pv_it/demonstrations/ab2095cdbad65476c1d763ad4bd74be24098dd8f0/proof.ipynb\" style=\"text-decoration: none\">&nbsp;&#x22A2;&nbsp;&nbsp;</a><a class=\"ProveItLink\" href=\"../__pv_it/axioms/439378edc5303e14cd663a2903f838515479ff050/expr.ipynb\"><img src=\"data:image/png;base64,iVBORw0KGgoAAAANSUhEUgAAADUAAAAPBAMAAAC2KZqIAAAAMFBMVEX///92dnYyMjLc3NxERETM\n",
       "zMzu7u5UVFQQEBAiIiJmZmaIiIiqqqqYmJi6uroAAACi7J3sAAAAAXRSTlMAQObYZgAAAAlwSFlz\n",
       "AAAOxAAADsQBlSsOGwAAAHpJREFUGNNjYMAP3qLxuWaCQQGIfRoixJ4AJFg3gNk8G6DqoHK8ID5L\n",
       "AFY5hglAbMSAXU4GiNfgkDOC6sUmxx7AwL0BhxxrAQNnAg45BmWGUwy45A4CZXHJcbI64JTjvv4A\n",
       "pxzbJAYUuZUzZ3bMnDkdIrQGJsd3AUgAAC0EJ+pyF2HLAAAAAElFTkSuQmCC\n",
       "\" style=\"display:inline;vertical-align:middle;\" /></a></span>"
      ],
      "text/plain": [
       "|- FALSE or TRUE"
      ]
     },
     "metadata": {},
     "output_type": "display_data"
    }
   ],
   "source": [
    "Or(FALSE, TRUE).prove()"
   ]
  },
  {
   "cell_type": "code",
   "execution_count": 11,
   "metadata": {},
   "outputs": [
    {
     "data": {
      "text/html": [
       "<span style=\"font-size:20px;\"> <a class=\"ProveItLink\" href=\"../__pv_it/demonstrations/e9b0e711a70240746db6cc14b3ab7807951fe2a20/proof.ipynb\" style=\"text-decoration: none\">&nbsp;&#x22A2;&nbsp;&nbsp;</a><a class=\"ProveItLink\" href=\"../__pv_it/demonstrations/0e5066497a01b6dd05c9d2953396a81ab33cfd8b0/expr.ipynb\"><img src=\"data:image/png;base64,iVBORw0KGgoAAAANSUhEUgAAAFYAAAAVBAMAAAAutAQGAAAAMFBMVEX////MzMxERES6uroQEBCY\n",
       "mJgyMjLu7u52dnaqqqqIiIhUVFTc3NwiIiJmZmYAAAAM3gM0AAAAAXRSTlMAQObYZgAAAAlwSFlz\n",
       "AAAOxAAADsQBlSsOGwAAAQ5JREFUKM9jYEAAHgY8AE1yJT61zAuQeZwNINIUi7IAELkUWagMTM6C\n",
       "cLaDCCmoIWAj2QqQ1D5FVhsFIhSR1bI+QFLrgKyWF+SdBGS1DO5Izk1AVssxgYGBbwKK2lSEWr4G\n",
       "ZLUgM3kZUNR2I9SyBSCrZdjIwLAKVW0Yw9u7QHAP5MIJKGqlGRiuo6qdAuGdBmIWAxS1bAc4H6Cq\n",
       "lceplrOB7QCqWhOEWjQ3MFwQYkBVOxfCOwfETAtQ1S7djKY2CBEOHBtQ1dYmoKl9gVDLeIEBFCgu\n",
       "d+/ehoQ3xE18d+9e8b17F2jQZaQ4vsiAF/BcQOLE4VfLF4DEYTqAV+0hZA67Al61Oii8U/iUch1g\n",
       "AADgFUT2ewdKFgAAAABJRU5ErkJggg==\n",
       "\" style=\"display:inline;vertical-align:middle;\" /></a></span>"
      ],
      "text/plain": [
       "|- [not](FALSE or FALSE)"
      ]
     },
     "metadata": {},
     "output_type": "display_data"
    }
   ],
   "source": [
    "Not(Or(FALSE, FALSE)).prove()"
   ]
  },
  {
   "cell_type": "code",
   "execution_count": 12,
   "metadata": {},
   "outputs": [
    {
     "data": {
      "text/html": [
       "<span style=\"font-size:20px;\"><a class=\"ProveItLink\" href=\"../../../../__pv_it/common/09585084922504426caf1db2ff588a23a0932a960/expr.ipynb\"><img src=\"data:image/png;base64,iVBORw0KGgoAAAANSUhEUgAAAA8AAAAPBAMAAADJ+Ih5AAAAMFBMVEX///8QEBAiIiLu7u5ERES6\n",
       "urqYmJiIiIjMzMx2dnZUVFRmZmaqqqoyMjLc3NwAAABb1yYoAAAAAXRSTlMAQObYZgAAAAlwSFlz\n",
       "AAAOxAAADsQBlSsOGwAAAF9JREFUCNdjYACBtwxQcB9K8/yHMrjXP4Aw5s1vANN8BfUHIDIM5xPA\n",
       "jBiG/glgxgaG9wtANLv37vUOIIY5AwO/AkSGgUkASLMCdfB+ADIeAjHLPwYGk/+XGXj8/04AADnq\n",
       "Fzds8Dk2AAAAAElFTkSuQmCC\n",
       "\" style=\"display:inline;vertical-align:middle;\" /></a>, <a class=\"ProveItLink\" href=\"../../../../__pv_it/common/a9162d1c3cc0470c02e5daf414500903a7a419230/expr.ipynb\"><img src=\"data:image/png;base64,iVBORw0KGgoAAAANSUhEUgAAABAAAAAOBAMAAADUAYG5AAAAMFBMVEX///92dnaqqqoiIiLu7u5m\n",
       "Zma6urqIiIjc3NwQEBDMzMwyMjJUVFRERESYmJgAAAAeMT9/AAAAAXRSTlMAQObYZgAAAAlwSFlz\n",
       "AAAOxAAADsQBlSsOGwAAAHJJREFUCNdjYGB4+//Mmb0LGIBgLgMDzy8gzfGdgYHtK5DBB+TxATkM\n",
       "PB8YGLhnABmcFxhYDoMUr79efvoBSFN9AwPTPBDjJhDLg6T+APH7AgYGrn9AxvkEBgb2H0DObyCH\n",
       "ewIDQ+YWoHH3/5w5fYmBAQBWoiHo17XzsQAAAABJRU5ErkJggg==\n",
       "\" style=\"display:inline;vertical-align:middle;\" /></a> <a class=\"ProveItLink\" href=\"../__pv_it/demonstrations/7a8adfeb02bd35815ba2754af5eadfabd7045d6e0/proof.ipynb\" style=\"text-decoration: none\">&nbsp;&#x22A2;&nbsp;&nbsp;</a><a class=\"ProveItLink\" href=\"../__pv_it/axioms/93740805d9480eb9ad930b4e4e09b06b85ab14c70/expr.ipynb\"><img src=\"data:image/png;base64,iVBORw0KGgoAAAANSUhEUgAAADcAAAAPBAMAAACy3Eq1AAAAMFBMVEX///8QEBAiIiLu7u5ERES6\n",
       "urqYmJiIiIjMzMx2dnZUVFRmZmaqqqoyMjLc3NwAAABb1yYoAAAAAXRSTlMAQObYZgAAAAlwSFlz\n",
       "AAAOxAAADsQBlSsOGwAAAQFJREFUGNNjYACBtwx4wH00Ppv/r1VrPSBsnv8gkssASHAUgEUYHRgY\n",
       "1jeAmdzrH4CUg8RZICLvgez4DWDmvPlgIQWE7flAgXywIXwF9QdA9Bwg3gORXA/EFx+ATWU4nwBz\n",
       "swJEUoSBwUoDzIph6J8AdlEDAzvEPRxfyquuQZRtYHi/ACy0gIHJACzC/o+B4SDYNHbv3esdwGL3\n",
       "GE5DlLMIMDBw/gCxzBkY+CFWnQRKgwE/0CS27xBTGZgEwGJMHBATGPqBRnJ9BTJYgQzeDxCrsgIg\n",
       "kvVAX/RfADIeguz4BxZj1oWG7UWgHlmg20z+X2bg8f8L9gssCJb8X7XqCjBcAMXXQOtq0GSGAAAA\n",
       "AElFTkSuQmCC\n",
       "\" style=\"display:inline;vertical-align:middle;\" /></a></span>"
      ],
      "text/plain": [
       "{A, B} |- A or B"
      ]
     },
     "metadata": {},
     "output_type": "display_data"
    }
   ],
   "source": [
    "Or(A, B).prove(assumptions=[A, B])"
   ]
  },
  {
   "cell_type": "code",
   "execution_count": 13,
   "metadata": {},
   "outputs": [
    {
     "data": {
      "text/html": [
       "<span style=\"font-size:20px;\"><a class=\"ProveItLink\" href=\"../../../../__pv_it/common/09585084922504426caf1db2ff588a23a0932a960/expr.ipynb\"><img src=\"data:image/png;base64,iVBORw0KGgoAAAANSUhEUgAAAA8AAAAPBAMAAADJ+Ih5AAAAMFBMVEX///8QEBAiIiLu7u5ERES6\n",
       "urqYmJiIiIjMzMx2dnZUVFRmZmaqqqoyMjLc3NwAAABb1yYoAAAAAXRSTlMAQObYZgAAAAlwSFlz\n",
       "AAAOxAAADsQBlSsOGwAAAF9JREFUCNdjYACBtwxQcB9K8/yHMrjXP4Aw5s1vANN8BfUHIDIM5xPA\n",
       "jBiG/glgxgaG9wtANLv37vUOIIY5AwO/AkSGgUkASLMCdfB+ADIeAjHLPwYGk/+XGXj8/04AADnq\n",
       "Fzds8Dk2AAAAAElFTkSuQmCC\n",
       "\" style=\"display:inline;vertical-align:middle;\" /></a>, <a class=\"ProveItLink\" href=\"../__pv_it/theorems/8552c6321b312c5e15a5015adce4a756ce05da420/expr.ipynb\"><img src=\"data:image/png;base64,iVBORw0KGgoAAAANSUhEUgAAAB0AAAAOBAMAAAAh/woJAAAAMFBMVEX///92dnaqqqru7u66urqI\n",
       "iIgQEBDMzMwyMjJERESYmJhUVFTc3NwiIiJmZmYAAABFA9caAAAAAXRSTlMAQObYZgAAAAlwSFlz\n",
       "AAAOxAAADsQBlSsOGwAAAIJJREFUCNdjYIACrvm/d++YzoAAbBMYGPYXIPjnAxgY/B8g+OuBcusD\n",
       "EPz9QNx2AMHPZGCwvo7gsv8Mje4C0m/vAsE9BgbWPwwMagugkqcZGDgTGBgYvyP4/BuAbvqK4NcD\n",
       "1XJ/gfLPMTDEA62qb0CY38bAwJJhAOfu/L97d6cCAwMA4AYmI2pVDVkAAAAASUVORK5CYII=\n",
       "\" style=\"display:inline;vertical-align:middle;\" /></a> <a class=\"ProveItLink\" href=\"../__pv_it/demonstrations/f5dbaf7cf3ca23267422e245e69cebf9d398af3a0/proof.ipynb\" style=\"text-decoration: none\">&nbsp;&#x22A2;&nbsp;&nbsp;</a><a class=\"ProveItLink\" href=\"../__pv_it/axioms/93740805d9480eb9ad930b4e4e09b06b85ab14c70/expr.ipynb\"><img src=\"data:image/png;base64,iVBORw0KGgoAAAANSUhEUgAAADcAAAAPBAMAAACy3Eq1AAAAMFBMVEX///8QEBAiIiLu7u5ERES6\n",
       "urqYmJiIiIjMzMx2dnZUVFRmZmaqqqoyMjLc3NwAAABb1yYoAAAAAXRSTlMAQObYZgAAAAlwSFlz\n",
       "AAAOxAAADsQBlSsOGwAAAQFJREFUGNNjYACBtwx4wH00Ppv/r1VrPSBsnv8gkssASHAUgEUYHRgY\n",
       "1jeAmdzrH4CUg8RZICLvgez4DWDmvPlgIQWE7flAgXywIXwF9QdA9Bwg3gORXA/EFx+ATWU4nwBz\n",
       "swJEUoSBwUoDzIph6J8AdlEDAzvEPRxfyquuQZRtYHi/ACy0gIHJACzC/o+B4SDYNHbv3esdwGL3\n",
       "GE5DlLMIMDBw/gCxzBkY+CFWnQRKgwE/0CS27xBTGZgEwGJMHBATGPqBRnJ9BTJYgQzeDxCrsgIg\n",
       "kvVAX/RfADIeguz4BxZj1oWG7UWgHlmg20z+X2bg8f8L9gssCJb8X7XqCjBcAMXXQOtq0GSGAAAA\n",
       "AElFTkSuQmCC\n",
       "\" style=\"display:inline;vertical-align:middle;\" /></a></span>"
      ],
      "text/plain": [
       "{A, [not](B)} |- A or B"
      ]
     },
     "metadata": {},
     "output_type": "display_data"
    }
   ],
   "source": [
    "Or(A, B).prove(assumptions=[A, Not(B)])"
   ]
  },
  {
   "cell_type": "code",
   "execution_count": 14,
   "metadata": {},
   "outputs": [
    {
     "data": {
      "text/html": [
       "<span style=\"font-size:20px;\"><a class=\"ProveItLink\" href=\"../../__pv_it/theorems/c6244e76de3be0816f3efc36199d65e50f6589940/expr.ipynb\"><img src=\"data:image/png;base64,iVBORw0KGgoAAAANSUhEUgAAABwAAAAPBAMAAAAFYbKSAAAAMFBMVEX///8QEBDu7u5ERES6urqY\n",
       "mJiIiIjMzMx2dnaqqqoyMjJUVFTc3NwiIiJmZmYAAABGfvnsAAAAAXRSTlMAQObYZgAAAAlwSFlz\n",
       "AAAOxAAADsQBlSsOGwAAAGtJREFUCNdjYEAAngUMyIDrAwp3Pir39R9kHseJ78jcY2w/kbkPOL8i\n",
       "8VgmsP9gYHh7FwjuAbl8DDy/oTKngTj53evPCC5TAgPDXwSXD0hdhHLPMTC4Aqn1COcLAAn7A1Ae\n",
       "k/0vBYbJ/1cAADCoIK4mExe8AAAAAElFTkSuQmCC\n",
       "\" style=\"display:inline;vertical-align:middle;\" /></a>, <a class=\"ProveItLink\" href=\"../../../../__pv_it/common/a9162d1c3cc0470c02e5daf414500903a7a419230/expr.ipynb\"><img src=\"data:image/png;base64,iVBORw0KGgoAAAANSUhEUgAAABAAAAAOBAMAAADUAYG5AAAAMFBMVEX///92dnaqqqoiIiLu7u5m\n",
       "Zma6urqIiIjc3NwQEBDMzMwyMjJUVFRERESYmJgAAAAeMT9/AAAAAXRSTlMAQObYZgAAAAlwSFlz\n",
       "AAAOxAAADsQBlSsOGwAAAHJJREFUCNdjYGB4+//Mmb0LGIBgLgMDzy8gzfGdgYHtK5DBB+TxATkM\n",
       "PB8YGLhnABmcFxhYDoMUr79efvoBSFN9AwPTPBDjJhDLg6T+APH7AgYGrn9AxvkEBgb2H0DObyCH\n",
       "ewIDQ+YWoHH3/5w5fYmBAQBWoiHo17XzsQAAAABJRU5ErkJggg==\n",
       "\" style=\"display:inline;vertical-align:middle;\" /></a> <a class=\"ProveItLink\" href=\"../__pv_it/demonstrations/f34464e4aae5e232fd3c446ba0e2816a9d942d4b0/proof.ipynb\" style=\"text-decoration: none\">&nbsp;&#x22A2;&nbsp;&nbsp;</a><a class=\"ProveItLink\" href=\"../__pv_it/axioms/93740805d9480eb9ad930b4e4e09b06b85ab14c70/expr.ipynb\"><img src=\"data:image/png;base64,iVBORw0KGgoAAAANSUhEUgAAADcAAAAPBAMAAACy3Eq1AAAAMFBMVEX///8QEBAiIiLu7u5ERES6\n",
       "urqYmJiIiIjMzMx2dnZUVFRmZmaqqqoyMjLc3NwAAABb1yYoAAAAAXRSTlMAQObYZgAAAAlwSFlz\n",
       "AAAOxAAADsQBlSsOGwAAAQFJREFUGNNjYACBtwx4wH00Ppv/r1VrPSBsnv8gkssASHAUgEUYHRgY\n",
       "1jeAmdzrH4CUg8RZICLvgez4DWDmvPlgIQWE7flAgXywIXwF9QdA9Bwg3gORXA/EFx+ATWU4nwBz\n",
       "swJEUoSBwUoDzIph6J8AdlEDAzvEPRxfyquuQZRtYHi/ACy0gIHJACzC/o+B4SDYNHbv3esdwGL3\n",
       "GE5DlLMIMDBw/gCxzBkY+CFWnQRKgwE/0CS27xBTGZgEwGJMHBATGPqBRnJ9BTJYgQzeDxCrsgIg\n",
       "kvVAX/RfADIeguz4BxZj1oWG7UWgHlmg20z+X2bg8f8L9gssCJb8X7XqCjBcAMXXQOtq0GSGAAAA\n",
       "AElFTkSuQmCC\n",
       "\" style=\"display:inline;vertical-align:middle;\" /></a></span>"
      ],
      "text/plain": [
       "{[not](A), B} |- A or B"
      ]
     },
     "metadata": {},
     "output_type": "display_data"
    }
   ],
   "source": [
    "Or(A, B).prove(assumptions=[B, Not(A)])"
   ]
  },
  {
   "cell_type": "code",
   "execution_count": 15,
   "metadata": {},
   "outputs": [
    {
     "data": {
      "text/html": [
       "<span style=\"font-size:20px;\"><a class=\"ProveItLink\" href=\"../../__pv_it/theorems/c6244e76de3be0816f3efc36199d65e50f6589940/expr.ipynb\"><img src=\"data:image/png;base64,iVBORw0KGgoAAAANSUhEUgAAABwAAAAPBAMAAAAFYbKSAAAAMFBMVEX///8QEBDu7u5ERES6urqY\n",
       "mJiIiIjMzMx2dnaqqqoyMjJUVFTc3NwiIiJmZmYAAABGfvnsAAAAAXRSTlMAQObYZgAAAAlwSFlz\n",
       "AAAOxAAADsQBlSsOGwAAAGtJREFUCNdjYEAAngUMyIDrAwp3Pir39R9kHseJ78jcY2w/kbkPOL8i\n",
       "8VgmsP9gYHh7FwjuAbl8DDy/oTKngTj53evPCC5TAgPDXwSXD0hdhHLPMTC4Aqn1COcLAAn7A1Ae\n",
       "k/0vBYbJ/1cAADCoIK4mExe8AAAAAElFTkSuQmCC\n",
       "\" style=\"display:inline;vertical-align:middle;\" /></a>, <a class=\"ProveItLink\" href=\"../__pv_it/theorems/8552c6321b312c5e15a5015adce4a756ce05da420/expr.ipynb\"><img src=\"data:image/png;base64,iVBORw0KGgoAAAANSUhEUgAAAB0AAAAOBAMAAAAh/woJAAAAMFBMVEX///92dnaqqqru7u66urqI\n",
       "iIgQEBDMzMwyMjJERESYmJhUVFTc3NwiIiJmZmYAAABFA9caAAAAAXRSTlMAQObYZgAAAAlwSFlz\n",
       "AAAOxAAADsQBlSsOGwAAAIJJREFUCNdjYIACrvm/d++YzoAAbBMYGPYXIPjnAxgY/B8g+OuBcusD\n",
       "EPz9QNx2AMHPZGCwvo7gsv8Mje4C0m/vAsE9BgbWPwwMagugkqcZGDgTGBgYvyP4/BuAbvqK4NcD\n",
       "1XJ/gfLPMTDEA62qb0CY38bAwJJhAOfu/L97d6cCAwMA4AYmI2pVDVkAAAAASUVORK5CYII=\n",
       "\" style=\"display:inline;vertical-align:middle;\" /></a> <a class=\"ProveItLink\" href=\"../__pv_it/demonstrations/d34708a752af7cffa7057587e1ab5204890323990/proof.ipynb\" style=\"text-decoration: none\">&nbsp;&#x22A2;&nbsp;&nbsp;</a><a class=\"ProveItLink\" href=\"../__pv_it/theorems/88b090a35cddd0f3ea45e2fff303d7d3770a7d390/expr.ipynb\"><img src=\"data:image/png;base64,iVBORw0KGgoAAAANSUhEUgAAAFYAAAAVBAMAAAAutAQGAAAAMFBMVEX////MzMxERES6uroQEBCY\n",
       "mJgyMjLu7u52dnaqqqqIiIhUVFTc3NwiIiJmZmYAAAAM3gM0AAAAAXRSTlMAQObYZgAAAAlwSFlz\n",
       "AAAOxAAADsQBlSsOGwAAAYVJREFUKM99UjtIQmEUPlreq3a9SWMN6h7YUHPRUKs0NDRUhEFbTi0R\n",
       "tLdIuEYROGRDL6jBwUtTGJRS0FS4BIEUZRSVhZ2H8f9K3APn+X/3PC+AIgtcqO1xR4Kz/2I7tnQv\n",
       "sMrKeG4F+eL1/HEMIKsHl0RtMvaERC8HOqMAhTAYKQ17L6r6TXKKRIwDl1h9uAK+ioYdYek/eyEV\n",
       "Up3PhJERP661Ky/F4Cd/kgaw0xwpICcdgHmFtWW0SuDtbxsheRgFWC6jXlNYI8GrSXs+2D0AyLHh\n",
       "qeV2OeUkPN4i3VGHXNEGq86QPoAbNoI4a4byZCTnOa1mgKztp2pNyjgBGdyLM/tp3kgb1sR5f5qX\n",
       "MRw2uvfxHl9oDCos92AjX0us1CM6gvW7XtHYEP+CatHBh5AXJZY9Er2H6SO0zwm1Bz/Wsugecam9\n",
       "0vyHkricMbrvg8J6SmDG31Ow3liQfcslDhv5/BybV9qNy+BKVklzpt2xdkJzvI4r9lR3zKgrtr/F\n",
       "K7pBgw78ApGcXgWuVARTAAAAAElFTkSuQmCC\n",
       "\" style=\"display:inline;vertical-align:middle;\" /></a></span>"
      ],
      "text/plain": [
       "{[not](A), [not](B)} |- [not](A or B)"
      ]
     },
     "metadata": {},
     "output_type": "display_data"
    }
   ],
   "source": [
    "Not(Or(A, B)).prove(assumptions=[Not(A), Not(B)])"
   ]
  },
  {
   "cell_type": "code",
   "execution_count": 16,
   "metadata": {},
   "outputs": [
    {
     "data": {
      "text/html": [
       "<span style=\"font-size:20px;\"><a class=\"ProveItLink\" href=\"../__pv_it/axioms/93740805d9480eb9ad930b4e4e09b06b85ab14c70/expr.ipynb\"><img src=\"data:image/png;base64,iVBORw0KGgoAAAANSUhEUgAAADcAAAAPBAMAAACy3Eq1AAAAMFBMVEX///8QEBAiIiLu7u5ERES6\n",
       "urqYmJiIiIjMzMx2dnZUVFRmZmaqqqoyMjLc3NwAAABb1yYoAAAAAXRSTlMAQObYZgAAAAlwSFlz\n",
       "AAAOxAAADsQBlSsOGwAAAQFJREFUGNNjYACBtwx4wH00Ppv/r1VrPSBsnv8gkssASHAUgEUYHRgY\n",
       "1jeAmdzrH4CUg8RZICLvgez4DWDmvPlgIQWE7flAgXywIXwF9QdA9Bwg3gORXA/EFx+ATWU4nwBz\n",
       "swJEUoSBwUoDzIph6J8AdlEDAzvEPRxfyquuQZRtYHi/ACy0gIHJACzC/o+B4SDYNHbv3esdwGL3\n",
       "GE5DlLMIMDBw/gCxzBkY+CFWnQRKgwE/0CS27xBTGZgEwGJMHBATGPqBRnJ9BTJYgQzeDxCrsgIg\n",
       "kvVAX/RfADIeguz4BxZj1oWG7UWgHlmg20z+X2bg8f8L9gssCJb8X7XqCjBcAMXXQOtq0GSGAAAA\n",
       "AElFTkSuQmCC\n",
       "\" style=\"display:inline;vertical-align:middle;\" /></a>, <a class=\"ProveItLink\" href=\"../../__pv_it/theorems/c6244e76de3be0816f3efc36199d65e50f6589940/expr.ipynb\"><img src=\"data:image/png;base64,iVBORw0KGgoAAAANSUhEUgAAABwAAAAPBAMAAAAFYbKSAAAAMFBMVEX///8QEBDu7u5ERES6urqY\n",
       "mJiIiIjMzMx2dnaqqqoyMjJUVFTc3NwiIiJmZmYAAABGfvnsAAAAAXRSTlMAQObYZgAAAAlwSFlz\n",
       "AAAOxAAADsQBlSsOGwAAAGtJREFUCNdjYEAAngUMyIDrAwp3Pir39R9kHseJ78jcY2w/kbkPOL8i\n",
       "8VgmsP9gYHh7FwjuAbl8DDy/oTKngTj53evPCC5TAgPDXwSXD0hdhHLPMTC4Aqn1COcLAAn7A1Ae\n",
       "k/0vBYbJ/1cAADCoIK4mExe8AAAAAElFTkSuQmCC\n",
       "\" style=\"display:inline;vertical-align:middle;\" /></a>, <a class=\"ProveItLink\" href=\"../__pv_it/theorems/8552c6321b312c5e15a5015adce4a756ce05da420/expr.ipynb\"><img src=\"data:image/png;base64,iVBORw0KGgoAAAANSUhEUgAAAB0AAAAOBAMAAAAh/woJAAAAMFBMVEX///92dnaqqqru7u66urqI\n",
       "iIgQEBDMzMwyMjJERESYmJhUVFTc3NwiIiJmZmYAAABFA9caAAAAAXRSTlMAQObYZgAAAAlwSFlz\n",
       "AAAOxAAADsQBlSsOGwAAAIJJREFUCNdjYIACrvm/d++YzoAAbBMYGPYXIPjnAxgY/B8g+OuBcusD\n",
       "EPz9QNx2AMHPZGCwvo7gsv8Mje4C0m/vAsE9BgbWPwwMagugkqcZGDgTGBgYvyP4/BuAbvqK4NcD\n",
       "1XJ/gfLPMTDEA62qb0CY38bAwJJhAOfu/L97d6cCAwMA4AYmI2pVDVkAAAAASUVORK5CYII=\n",
       "\" style=\"display:inline;vertical-align:middle;\" /></a> <a class=\"ProveItLink\" href=\"../__pv_it/demonstrations/8584be809193bea0bfab8bf7846f8ae242493e360/proof.ipynb\" style=\"text-decoration: none\">&nbsp;&#x22A2;&nbsp;&nbsp;</a><a class=\"ProveItLink\" href=\"../../__pv_it/common/e0f123f2e4f322e1eba7f861749cda9fd9d99a120/expr.ipynb\"><img src=\"data:image/png;base64,iVBORw0KGgoAAAANSUhEUgAAAA4AAAAPBAMAAAAmOuNHAAAAHlBMVEX///9UVFQQEBAiIiJmZmaI\n",
       "iIiqqqqYmJi6uroAAAAAFVhYAAAAAXRSTlMAQObYZgAAAAlwSFlzAAAOxAAADsQBlSsOGwAAABhJ\n",
       "REFUCNdjYECAdiidSkva2dhYydjYEABIWQamWbU+1AAAAABJRU5ErkJggg==\n",
       "\" style=\"display:inline;vertical-align:middle;\" /></a></span>"
      ],
      "text/plain": [
       "{A or B, [not](A), [not](B)} |- FALSE"
      ]
     },
     "metadata": {},
     "output_type": "display_data"
    }
   ],
   "source": [
    "Or(A, B).derive_contradiction(assumptions=[Not(A), Not(B), Or(A, B)])"
   ]
  },
  {
   "cell_type": "code",
   "execution_count": 17,
   "metadata": {},
   "outputs": [
    {
     "data": {
      "text/html": [
       "<span style=\"font-size:20px;\"><a class=\"ProveItLink\" href=\"../../__pv_it/theorems/a10dbfd9a4efbb6f30af430036ab01697a9460f80/expr.ipynb\"><img src=\"data:image/png;base64,iVBORw0KGgoAAAANSUhEUgAAADYAAAAQBAMAAACvnpHFAAAAMFBMVEX///8QEBAiIiLu7u5ERES6\n",
       "urqYmJiIiIjMzMx2dnZUVFRmZmaqqqoyMjLc3NwAAABb1yYoAAAAAXRSTlMAQObYZgAAAAlwSFlz\n",
       "AAAOxAAADsQBlSsOGwAAAONJREFUGNNjYACBtwwogF3R96/QUijnPqocAwtrwVurADCT5z+GXALn\n",
       "Awcwk3v9Aww5tgMLwMx58xugFjkp6cLlLoBYfAX1B8BSrNcN4Pq4nk0AG8lwPgHiXAO4mcVFK8Gs\n",
       "GIZ+sBqGewj7dOW1wQo3MLyH2HsByS3sqZdBDvDevR7sXg4hJSUlFagcg0MkkGHOwMCvABJhdkDS\n",
       "x+DAAjaSgUkALKSAIscLdDjQjbwfwELlKHLHGRgegtj/wEK8B+ByEzgrNzCY/L/MwOP/F+wJ5iXB\n",
       "kOC56IKIBxhgnQIJMwgAAIdSN5QgoD0bAAAAAElFTkSuQmCC\n",
       "\" style=\"display:inline;vertical-align:middle;\" /></a>, <a class=\"ProveItLink\" href=\"../__pv_it/theorems/c50b73f2d168f6a3012768bd45c62ea92218bcbc0/expr.ipynb\"><img src=\"data:image/png;base64,iVBORw0KGgoAAAANSUhEUgAAADcAAAAQBAMAAABAXPr7AAAAMFBMVEX///92dnaqqqoiIiLu7u5m\n",
       "Zma6urqIiIjc3NwQEBDMzMwyMjJUVFRERESYmJgAAAAeMT9/AAAAAXRSTlMAQObYZgAAAAlwSFlz\n",
       "AAAOxAAADsQBlSsOGwAAAPNJREFUGNNjYMAGiufu32mTAGK9/X/mzN4FqLIX0jm2HAOz5jIw8PxC\n",
       "k8xjkOAFMTi+MzCwfcWQfMQDYvABdfF9B4uxXza2hktygxg8HxgYuGeAWGzbHRA6TzwEMTgvMLAc\n",
       "Bjuo2wHhIHcbARBj/fXy0w/AQjsQdibv/BwCYtQ3MDDNAwttQHZQXTbInJtALA8ylmuysbGxLUyS\n",
       "lw1k7h8gfl8AJFguIOvkZQByuf4BOefBYWWAKgm0hf0HUMFvsFA5iiQT0DTuCQwMmVvAQtwKcMlE\n",
       "BnFRYBDc/3Pm9CWIEMvZFAijeu59aKwgATZZaPBBAACOK0z+8Z1J0AAAAABJRU5ErkJggg==\n",
       "\" style=\"display:inline;vertical-align:middle;\" /></a>, <a class=\"ProveItLink\" href=\"../__pv_it/axioms/93740805d9480eb9ad930b4e4e09b06b85ab14c70/expr.ipynb\"><img src=\"data:image/png;base64,iVBORw0KGgoAAAANSUhEUgAAADcAAAAPBAMAAACy3Eq1AAAAMFBMVEX///8QEBAiIiLu7u5ERES6\n",
       "urqYmJiIiIjMzMx2dnZUVFRmZmaqqqoyMjLc3NwAAABb1yYoAAAAAXRSTlMAQObYZgAAAAlwSFlz\n",
       "AAAOxAAADsQBlSsOGwAAAQFJREFUGNNjYACBtwx4wH00Ppv/r1VrPSBsnv8gkssASHAUgEUYHRgY\n",
       "1jeAmdzrH4CUg8RZICLvgez4DWDmvPlgIQWE7flAgXywIXwF9QdA9Bwg3gORXA/EFx+ATWU4nwBz\n",
       "swJEUoSBwUoDzIph6J8AdlEDAzvEPRxfyquuQZRtYHi/ACy0gIHJACzC/o+B4SDYNHbv3esdwGL3\n",
       "GE5DlLMIMDBw/gCxzBkY+CFWnQRKgwE/0CS27xBTGZgEwGJMHBATGPqBRnJ9BTJYgQzeDxCrsgIg\n",
       "kvVAX/RfADIeguz4BxZj1oWG7UWgHlmg20z+X2bg8f8L9gssCJb8X7XqCjBcAMXXQOtq0GSGAAAA\n",
       "AElFTkSuQmCC\n",
       "\" style=\"display:inline;vertical-align:middle;\" /></a>, <a class=\"ProveItLink\" href=\"../__pv_it/theorems/8552c6321b312c5e15a5015adce4a756ce05da420/expr.ipynb\"><img src=\"data:image/png;base64,iVBORw0KGgoAAAANSUhEUgAAAB0AAAAOBAMAAAAh/woJAAAAMFBMVEX///92dnaqqqru7u66urqI\n",
       "iIgQEBDMzMwyMjJERESYmJhUVFTc3NwiIiJmZmYAAABFA9caAAAAAXRSTlMAQObYZgAAAAlwSFlz\n",
       "AAAOxAAADsQBlSsOGwAAAIJJREFUCNdjYIACrvm/d++YzoAAbBMYGPYXIPjnAxgY/B8g+OuBcusD\n",
       "EPz9QNx2AMHPZGCwvo7gsv8Mje4C0m/vAsE9BgbWPwwMagugkqcZGDgTGBgYvyP4/BuAbvqK4NcD\n",
       "1XJ/gfLPMTDEA62qb0CY38bAwJJhAOfu/L97d6cCAwMA4AYmI2pVDVkAAAAASUVORK5CYII=\n",
       "\" style=\"display:inline;vertical-align:middle;\" /></a> <a class=\"ProveItLink\" href=\"../__pv_it/demonstrations/f13c135c67cb98b66f07aa807e594cc288f5c3640/proof.ipynb\" style=\"text-decoration: none\">&nbsp;&#x22A2;&nbsp;&nbsp;</a><a class=\"ProveItLink\" href=\"../../../../__pv_it/common/09585084922504426caf1db2ff588a23a0932a960/expr.ipynb\"><img src=\"data:image/png;base64,iVBORw0KGgoAAAANSUhEUgAAAA8AAAAPBAMAAADJ+Ih5AAAAMFBMVEX///8QEBAiIiLu7u5ERES6\n",
       "urqYmJiIiIjMzMx2dnZUVFRmZmaqqqoyMjLc3NwAAABb1yYoAAAAAXRSTlMAQObYZgAAAAlwSFlz\n",
       "AAAOxAAADsQBlSsOGwAAAF9JREFUCNdjYACBtwxQcB9K8/yHMrjXP4Aw5s1vANN8BfUHIDIM5xPA\n",
       "jBiG/glgxgaG9wtANLv37vUOIIY5AwO/AkSGgUkASLMCdfB+ADIeAjHLPwYGk/+XGXj8/04AADnq\n",
       "Fzds8Dk2AAAAAElFTkSuQmCC\n",
       "\" style=\"display:inline;vertical-align:middle;\" /></a></span>"
      ],
      "text/plain": [
       "{A in BOOLEAN, B in BOOLEAN, A or B, [not](B)} |- A"
      ]
     },
     "metadata": {},
     "output_type": "display_data"
    }
   ],
   "source": [
    "Or(A, B).derive_left_if_not_right(assumptions=[in_bool(A), in_bool(B), Not(B), Or(A, B)])"
   ]
  },
  {
   "cell_type": "code",
   "execution_count": 18,
   "metadata": {},
   "outputs": [
    {
     "data": {
      "text/html": [
       "<span style=\"font-size:20px;\"><a class=\"ProveItLink\" href=\"../../__pv_it/theorems/a10dbfd9a4efbb6f30af430036ab01697a9460f80/expr.ipynb\"><img src=\"data:image/png;base64,iVBORw0KGgoAAAANSUhEUgAAADYAAAAQBAMAAACvnpHFAAAAMFBMVEX///8QEBAiIiLu7u5ERES6\n",
       "urqYmJiIiIjMzMx2dnZUVFRmZmaqqqoyMjLc3NwAAABb1yYoAAAAAXRSTlMAQObYZgAAAAlwSFlz\n",
       "AAAOxAAADsQBlSsOGwAAAONJREFUGNNjYACBtwwogF3R96/QUijnPqocAwtrwVurADCT5z+GXALn\n",
       "Awcwk3v9Aww5tgMLwMx58xugFjkp6cLlLoBYfAX1B8BSrNcN4Pq4nk0AG8lwPgHiXAO4mcVFK8Gs\n",
       "GIZ+sBqGewj7dOW1wQo3MLyH2HsByS3sqZdBDvDevR7sXg4hJSUlFagcg0MkkGHOwMCvABJhdkDS\n",
       "x+DAAjaSgUkALKSAIscLdDjQjbwfwELlKHLHGRgegtj/wEK8B+ByEzgrNzCY/L/MwOP/F+wJ5iXB\n",
       "kOC56IKIBxhgnQIJMwgAAIdSN5QgoD0bAAAAAElFTkSuQmCC\n",
       "\" style=\"display:inline;vertical-align:middle;\" /></a>, <a class=\"ProveItLink\" href=\"../__pv_it/theorems/c50b73f2d168f6a3012768bd45c62ea92218bcbc0/expr.ipynb\"><img src=\"data:image/png;base64,iVBORw0KGgoAAAANSUhEUgAAADcAAAAQBAMAAABAXPr7AAAAMFBMVEX///92dnaqqqoiIiLu7u5m\n",
       "Zma6urqIiIjc3NwQEBDMzMwyMjJUVFRERESYmJgAAAAeMT9/AAAAAXRSTlMAQObYZgAAAAlwSFlz\n",
       "AAAOxAAADsQBlSsOGwAAAPNJREFUGNNjYMAGiufu32mTAGK9/X/mzN4FqLIX0jm2HAOz5jIw8PxC\n",
       "k8xjkOAFMTi+MzCwfcWQfMQDYvABdfF9B4uxXza2hktygxg8HxgYuGeAWGzbHRA6TzwEMTgvMLAc\n",
       "Bjuo2wHhIHcbARBj/fXy0w/AQjsQdibv/BwCYtQ3MDDNAwttQHZQXTbInJtALA8ylmuysbGxLUyS\n",
       "lw1k7h8gfl8AJFguIOvkZQByuf4BOefBYWWAKgm0hf0HUMFvsFA5iiQT0DTuCQwMmVvAQtwKcMlE\n",
       "BnFRYBDc/3Pm9CWIEMvZFAijeu59aKwgATZZaPBBAACOK0z+8Z1J0AAAAABJRU5ErkJggg==\n",
       "\" style=\"display:inline;vertical-align:middle;\" /></a>, <a class=\"ProveItLink\" href=\"../__pv_it/axioms/93740805d9480eb9ad930b4e4e09b06b85ab14c70/expr.ipynb\"><img src=\"data:image/png;base64,iVBORw0KGgoAAAANSUhEUgAAADcAAAAPBAMAAACy3Eq1AAAAMFBMVEX///8QEBAiIiLu7u5ERES6\n",
       "urqYmJiIiIjMzMx2dnZUVFRmZmaqqqoyMjLc3NwAAABb1yYoAAAAAXRSTlMAQObYZgAAAAlwSFlz\n",
       "AAAOxAAADsQBlSsOGwAAAQFJREFUGNNjYACBtwx4wH00Ppv/r1VrPSBsnv8gkssASHAUgEUYHRgY\n",
       "1jeAmdzrH4CUg8RZICLvgez4DWDmvPlgIQWE7flAgXywIXwF9QdA9Bwg3gORXA/EFx+ATWU4nwBz\n",
       "swJEUoSBwUoDzIph6J8AdlEDAzvEPRxfyquuQZRtYHi/ACy0gIHJACzC/o+B4SDYNHbv3esdwGL3\n",
       "GE5DlLMIMDBw/gCxzBkY+CFWnQRKgwE/0CS27xBTGZgEwGJMHBATGPqBRnJ9BTJYgQzeDxCrsgIg\n",
       "kvVAX/RfADIeguz4BxZj1oWG7UWgHlmg20z+X2bg8f8L9gssCJb8X7XqCjBcAMXXQOtq0GSGAAAA\n",
       "AElFTkSuQmCC\n",
       "\" style=\"display:inline;vertical-align:middle;\" /></a>, <a class=\"ProveItLink\" href=\"../../__pv_it/theorems/c6244e76de3be0816f3efc36199d65e50f6589940/expr.ipynb\"><img src=\"data:image/png;base64,iVBORw0KGgoAAAANSUhEUgAAABwAAAAPBAMAAAAFYbKSAAAAMFBMVEX///8QEBDu7u5ERES6urqY\n",
       "mJiIiIjMzMx2dnaqqqoyMjJUVFTc3NwiIiJmZmYAAABGfvnsAAAAAXRSTlMAQObYZgAAAAlwSFlz\n",
       "AAAOxAAADsQBlSsOGwAAAGtJREFUCNdjYEAAngUMyIDrAwp3Pir39R9kHseJ78jcY2w/kbkPOL8i\n",
       "8VgmsP9gYHh7FwjuAbl8DDy/oTKngTj53evPCC5TAgPDXwSXD0hdhHLPMTC4Aqn1COcLAAn7A1Ae\n",
       "k/0vBYbJ/1cAADCoIK4mExe8AAAAAElFTkSuQmCC\n",
       "\" style=\"display:inline;vertical-align:middle;\" /></a> <a class=\"ProveItLink\" href=\"../__pv_it/demonstrations/006a37eb21a4bbae143db0103e62fa000f6e0ce60/proof.ipynb\" style=\"text-decoration: none\">&nbsp;&#x22A2;&nbsp;&nbsp;</a><a class=\"ProveItLink\" href=\"../../../../__pv_it/common/a9162d1c3cc0470c02e5daf414500903a7a419230/expr.ipynb\"><img src=\"data:image/png;base64,iVBORw0KGgoAAAANSUhEUgAAABAAAAAOBAMAAADUAYG5AAAAMFBMVEX///92dnaqqqoiIiLu7u5m\n",
       "Zma6urqIiIjc3NwQEBDMzMwyMjJUVFRERESYmJgAAAAeMT9/AAAAAXRSTlMAQObYZgAAAAlwSFlz\n",
       "AAAOxAAADsQBlSsOGwAAAHJJREFUCNdjYGB4+//Mmb0LGIBgLgMDzy8gzfGdgYHtK5DBB+TxATkM\n",
       "PB8YGLhnABmcFxhYDoMUr79efvoBSFN9AwPTPBDjJhDLg6T+APH7AgYGrn9AxvkEBgb2H0DObyCH\n",
       "ewIDQ+YWoHH3/5w5fYmBAQBWoiHo17XzsQAAAABJRU5ErkJggg==\n",
       "\" style=\"display:inline;vertical-align:middle;\" /></a></span>"
      ],
      "text/plain": [
       "{A in BOOLEAN, B in BOOLEAN, A or B, [not](A)} |- B"
      ]
     },
     "metadata": {},
     "output_type": "display_data"
    }
   ],
   "source": [
    "Or(A, B).derive_right_if_not_left(assumptions=[*in_bool(A, B), Not(A), Or(A, B)])"
   ]
  },
  {
   "cell_type": "code",
   "execution_count": 19,
   "metadata": {},
   "outputs": [
    {
     "data": {
      "text/html": [
       "<span style=\"font-size:20px;\"><a class=\"ProveItLink\" href=\"../../__pv_it/theorems/a10dbfd9a4efbb6f30af430036ab01697a9460f80/expr.ipynb\"><img src=\"data:image/png;base64,iVBORw0KGgoAAAANSUhEUgAAADYAAAAQBAMAAACvnpHFAAAAMFBMVEX///8QEBAiIiLu7u5ERES6\n",
       "urqYmJiIiIjMzMx2dnZUVFRmZmaqqqoyMjLc3NwAAABb1yYoAAAAAXRSTlMAQObYZgAAAAlwSFlz\n",
       "AAAOxAAADsQBlSsOGwAAAONJREFUGNNjYACBtwwogF3R96/QUijnPqocAwtrwVurADCT5z+GXALn\n",
       "Awcwk3v9Aww5tgMLwMx58xugFjkp6cLlLoBYfAX1B8BSrNcN4Pq4nk0AG8lwPgHiXAO4mcVFK8Gs\n",
       "GIZ+sBqGewj7dOW1wQo3MLyH2HsByS3sqZdBDvDevR7sXg4hJSUlFagcg0MkkGHOwMCvABJhdkDS\n",
       "x+DAAjaSgUkALKSAIscLdDjQjbwfwELlKHLHGRgegtj/wEK8B+ByEzgrNzCY/L/MwOP/F+wJ5iXB\n",
       "kOC56IKIBxhgnQIJMwgAAIdSN5QgoD0bAAAAAElFTkSuQmCC\n",
       "\" style=\"display:inline;vertical-align:middle;\" /></a>, <a class=\"ProveItLink\" href=\"../__pv_it/theorems/c50b73f2d168f6a3012768bd45c62ea92218bcbc0/expr.ipynb\"><img src=\"data:image/png;base64,iVBORw0KGgoAAAANSUhEUgAAADcAAAAQBAMAAABAXPr7AAAAMFBMVEX///92dnaqqqoiIiLu7u5m\n",
       "Zma6urqIiIjc3NwQEBDMzMwyMjJUVFRERESYmJgAAAAeMT9/AAAAAXRSTlMAQObYZgAAAAlwSFlz\n",
       "AAAOxAAADsQBlSsOGwAAAPNJREFUGNNjYMAGiufu32mTAGK9/X/mzN4FqLIX0jm2HAOz5jIw8PxC\n",
       "k8xjkOAFMTi+MzCwfcWQfMQDYvABdfF9B4uxXza2hktygxg8HxgYuGeAWGzbHRA6TzwEMTgvMLAc\n",
       "Bjuo2wHhIHcbARBj/fXy0w/AQjsQdibv/BwCYtQ3MDDNAwttQHZQXTbInJtALA8ylmuysbGxLUyS\n",
       "lw1k7h8gfl8AJFguIOvkZQByuf4BOefBYWWAKgm0hf0HUMFvsFA5iiQT0DTuCQwMmVvAQtwKcMlE\n",
       "BnFRYBDc/3Pm9CWIEMvZFAijeu59aKwgATZZaPBBAACOK0z+8Z1J0AAAAABJRU5ErkJggg==\n",
       "\" style=\"display:inline;vertical-align:middle;\" /></a>, <a class=\"ProveItLink\" href=\"../__pv_it/axioms/93740805d9480eb9ad930b4e4e09b06b85ab14c70/expr.ipynb\"><img src=\"data:image/png;base64,iVBORw0KGgoAAAANSUhEUgAAADcAAAAPBAMAAACy3Eq1AAAAMFBMVEX///8QEBAiIiLu7u5ERES6\n",
       "urqYmJiIiIjMzMx2dnZUVFRmZmaqqqoyMjLc3NwAAABb1yYoAAAAAXRSTlMAQObYZgAAAAlwSFlz\n",
       "AAAOxAAADsQBlSsOGwAAAQFJREFUGNNjYACBtwx4wH00Ppv/r1VrPSBsnv8gkssASHAUgEUYHRgY\n",
       "1jeAmdzrH4CUg8RZICLvgez4DWDmvPlgIQWE7flAgXywIXwF9QdA9Bwg3gORXA/EFx+ATWU4nwBz\n",
       "swJEUoSBwUoDzIph6J8AdlEDAzvEPRxfyquuQZRtYHi/ACy0gIHJACzC/o+B4SDYNHbv3esdwGL3\n",
       "GE5DlLMIMDBw/gCxzBkY+CFWnQRKgwE/0CS27xBTGZgEwGJMHBATGPqBRnJ9BTJYgQzeDxCrsgIg\n",
       "kvVAX/RfADIeguz4BxZj1oWG7UWgHlmg20z+X2bg8f8L9gssCJb8X7XqCjBcAMXXQOtq0GSGAAAA\n",
       "AElFTkSuQmCC\n",
       "\" style=\"display:inline;vertical-align:middle;\" /></a>, <a class=\"ProveItLink\" href=\"../__pv_it/theorems/e0a020e9d252a135566be36c4415c62a49aadfe60/expr.ipynb\"><img src=\"data:image/png;base64,iVBORw0KGgoAAAANSUhEUgAAAD8AAAAQBAMAAABTi7oPAAAAMFBMVEX///8QEBAiIiLu7u5ERES6\n",
       "urqYmJiIiIjMzMx2dnZUVFRmZmaqqqoyMjLc3NwAAABb1yYoAAAAAXRSTlMAQObYZgAAAAlwSFlz\n",
       "AAAOxAAADsQBlSsOGwAAAOdJREFUKM9jYACBtwwEwH1sgswlq5bxTQAzef5jU1BYzMCzKQHM5F7/\n",
       "AFPeRANI7IdIzJvfABdnMYAyLoIYgWAmX0H9AbgCDgcIzfkHRHZDbGA4n4AwOhNCvVcAkRZgdgxD\n",
       "P9ixm5RAQH8DWHB+AULPBob3C5BcdxZsnz7C3ezeu9c7IPv/YgCQlAezwS42Z2DgV0BS8HYe2ARw\n",
       "ADVAbGBgEkC4QekeWBk4BDhBLFagD3g/IAwIgfoC5MjJINZDUOj8g8vzXYDQPN8YGCJBTjD5f5mB\n",
       "x//vBHhIwgLV2mt1ALYo4kPjAwD/cjcLYP+7yQAAAABJRU5ErkJggg==\n",
       "\" style=\"display:inline;vertical-align:middle;\" /></a>, <a class=\"ProveItLink\" href=\"../__pv_it/theorems/4330ddda9e29fd652cf95ea8be4349693af389660/expr.ipynb\"><img src=\"data:image/png;base64,iVBORw0KGgoAAAANSUhEUgAAAEEAAAAPBAMAAABJi79qAAAAMFBMVEX///92dnaqqqoiIiLu7u5m\n",
       "Zma6urqIiIjc3NwQEBDMzMwyMjJUVFRERESYmJgAAAAeMT9/AAAAAXRSTlMAQObYZgAAAAlwSFlz\n",
       "AAAOxAAADsQBlSsOGwAAAPhJREFUGNNjYGB4+//Mmb0LGDABS+2ZcxwCINZcBgaeX1hUVJYwMAU/\n",
       "ADI4vjMwsH3FVOBrBSTiG4AEH1A/33e4BK8DlLETxMgEsXg+MDBwz4Cr4LoAoRk/gcilIILzAgPL\n",
       "YSSXPoRQ/QYg0gtErL9efvoBWDDYGATsA8Ac+QK4nvoGBqZ5yE7UVgCR9g1wgZsgDcjhwbIzAUjO\n",
       "B7PBzv4DxO8LkFR0S4DNABFMIJ1c/4DE+QSEO4x3gNWBQ4IRxGL/AVT1G8mIXKhfQMaKgFjcE4Dh\n",
       "sgWhgGMDhGYCmp0IcgbP/T9nTl9CMoIX5mjXO0cTGLABDjQ+AFZhPpkcGjlPAAAAAElFTkSuQmCC\n",
       "\" style=\"display:inline;vertical-align:middle;\" /></a> <a class=\"ProveItLink\" href=\"../__pv_it/demonstrations/71b4fa6f96a680eb97aca50c271cbc1c2c04945a0/proof.ipynb\" style=\"text-decoration: none\">&nbsp;&#x22A2;&nbsp;&nbsp;</a><a class=\"ProveItLink\" href=\"../../../../__pv_it/common/9fba9f29e823606ff4fdf2f1c6d5d08d906e850a0/expr.ipynb\"><img src=\"data:image/png;base64,iVBORw0KGgoAAAANSUhEUgAAAA8AAAAOBAMAAAACpFvcAAAAMFBMVEX///+6uroyMjLMzMwiIiJm\n",
       "ZmaqqqoQEBB2dnbc3NyYmJhUVFRERESIiIju7u4AAABBACUiAAAAAXRSTlMAQObYZgAAAAlwSFlz\n",
       "AAAOxAAADsQBlSsOGwAAAGVJREFUCNdjYGDgu7N7F2cDAwPD9XsMbCELGBjeOAM58RMYGNQfABni\n",
       "DAwc34A0gykDw3wHEOMxA0P/BQYI8J8AZdSDSaAGfxDNZgAxgYEDiOeDFPeBRH8xMEiAzGR4enqr\n",
       "AJACACwBF0zzC0cUAAAAAElFTkSuQmCC\n",
       "\" style=\"display:inline;vertical-align:middle;\" /></a></span>"
      ],
      "text/plain": [
       "{A in BOOLEAN, B in BOOLEAN, A or B, A => C, B => C} |- C"
      ]
     },
     "metadata": {},
     "output_type": "display_data"
    }
   ],
   "source": [
    "Or(A, B).derive_via_dilemma(C, assumptions=[Or(A, B), in_bool(B), Implies(A, C), Implies(B, C), in_bool(A), Implies(A, Or(C, D)), Implies(B, Or(C, D))])"
   ]
  },
  {
   "cell_type": "code",
   "execution_count": 20,
   "metadata": {},
   "outputs": [
    {
     "data": {
      "text/html": [
       "<span style=\"font-size:20px;\"><a class=\"ProveItLink\" href=\"../../__pv_it/theorems/a10dbfd9a4efbb6f30af430036ab01697a9460f80/expr.ipynb\"><img src=\"data:image/png;base64,iVBORw0KGgoAAAANSUhEUgAAADYAAAAQBAMAAACvnpHFAAAAMFBMVEX///8QEBAiIiLu7u5ERES6\n",
       "urqYmJiIiIjMzMx2dnZUVFRmZmaqqqoyMjLc3NwAAABb1yYoAAAAAXRSTlMAQObYZgAAAAlwSFlz\n",
       "AAAOxAAADsQBlSsOGwAAAONJREFUGNNjYACBtwwogF3R96/QUijnPqocAwtrwVurADCT5z+GXALn\n",
       "Awcwk3v9Aww5tgMLwMx58xugFjkp6cLlLoBYfAX1B8BSrNcN4Pq4nk0AG8lwPgHiXAO4mcVFK8Gs\n",
       "GIZ+sBqGewj7dOW1wQo3MLyH2HsByS3sqZdBDvDevR7sXg4hJSUlFagcg0MkkGHOwMCvABJhdkDS\n",
       "x+DAAjaSgUkALKSAIscLdDjQjbwfwELlKHLHGRgegtj/wEK8B+ByEzgrNzCY/L/MwOP/F+wJ5iXB\n",
       "kOC56IKIBxhgnQIJMwgAAIdSN5QgoD0bAAAAAElFTkSuQmCC\n",
       "\" style=\"display:inline;vertical-align:middle;\" /></a>, <a class=\"ProveItLink\" href=\"../__pv_it/theorems/c50b73f2d168f6a3012768bd45c62ea92218bcbc0/expr.ipynb\"><img src=\"data:image/png;base64,iVBORw0KGgoAAAANSUhEUgAAADcAAAAQBAMAAABAXPr7AAAAMFBMVEX///92dnaqqqoiIiLu7u5m\n",
       "Zma6urqIiIjc3NwQEBDMzMwyMjJUVFRERESYmJgAAAAeMT9/AAAAAXRSTlMAQObYZgAAAAlwSFlz\n",
       "AAAOxAAADsQBlSsOGwAAAPNJREFUGNNjYMAGiufu32mTAGK9/X/mzN4FqLIX0jm2HAOz5jIw8PxC\n",
       "k8xjkOAFMTi+MzCwfcWQfMQDYvABdfF9B4uxXza2hktygxg8HxgYuGeAWGzbHRA6TzwEMTgvMLAc\n",
       "Bjuo2wHhIHcbARBj/fXy0w/AQjsQdibv/BwCYtQ3MDDNAwttQHZQXTbInJtALA8ylmuysbGxLUyS\n",
       "lw1k7h8gfl8AJFguIOvkZQByuf4BOefBYWWAKgm0hf0HUMFvsFA5iiQT0DTuCQwMmVvAQtwKcMlE\n",
       "BnFRYBDc/3Pm9CWIEMvZFAijeu59aKwgATZZaPBBAACOK0z+8Z1J0AAAAABJRU5ErkJggg==\n",
       "\" style=\"display:inline;vertical-align:middle;\" /></a>, <a class=\"ProveItLink\" href=\"../__pv_it/demonstrations/dc7d96b1022c0165a0469ead301debeb324b9c180/expr.ipynb\"><img src=\"data:image/png;base64,iVBORw0KGgoAAAANSUhEUgAAADYAAAAQBAMAAACvnpHFAAAAMFBMVEX///+6uroyMjLMzMwiIiJm\n",
       "ZmaqqqoQEBB2dnbc3NyYmJhUVFRERESIiIju7u4AAABBACUiAAAAAXRSTlMAQObYZgAAAAlwSFlz\n",
       "AAAOxAAADsQBlSsOGwAAAOJJREFUGNNjYMACeN0PfSrZCGLx3dm9i7MBRZKH8cKk1wJAxvV7DGwh\n",
       "C9DkFnBMOMDA8MYZyImfgC7HlbCBgUH9AZAjDhG74+KiAJdTYOD4BuKYgqWE7iH0cc9qYJjvAOI8\n",
       "BhGceggz713ZwcDQfwFuC9MEhJxTvesDBn+EK5iQ3cK7UI+hHswBuYfB3AUIDkDlGA5IMPiD2GwG\n",
       "IPINsj6GAzwQn3GARVhQ5ZgY5oPc0gcJxgsocrkMbL8YGCQeQITUEHINHDcCGBient4qABV6fRCi\n",
       "iFf9DDQekIDEEUiYQQAAC/Q/y+C8Q+cAAAAASUVORK5CYII=\n",
       "\" style=\"display:inline;vertical-align:middle;\" /></a>, <a class=\"ProveItLink\" href=\"../__pv_it/demonstrations/be49e688692580141a3851882e8c02185518c0cd0/expr.ipynb\"><img src=\"data:image/png;base64,iVBORw0KGgoAAAANSUhEUgAAADgAAAAQBAMAAACxV6F2AAAAMFBMVEX///8iIiLu7u52dna6uroQ\n",
       "EBBmZmbMzMyqqqqYmJgyMjLc3NxUVFRERESIiIgAAACK51z6AAAAAXRSTlMAQObYZgAAAAlwSFlz\n",
       "AAAOxAAADsQBlSsOGwAAAOtJREFUGNNjYMAG+ERv/Qo8AmK9/X/n7J0NqLK8LA926TiAWL8YGDh/\n",
       "oEtOYN5wAchg/wckUjEkORsOgCz4DiT8J0AsuygoBZdcAGJ8ABL7DUBiLOsU4Dp5doKE+EFm14PM\n",
       "YNilADf20cPDIEb9AyAxH6xzNcJOqXgxkMr3BUDiPNjdC5AcxDdlEZBxH8T7CiLYAwUFBWWhkgwX\n",
       "nIGMv0DM+RMkxHQBSSfDBV6oN1UhwgIoklxQb96CiL1DkexjYOACetMxASLG1QCXNGB+nMDAc//P\n",
       "mbvZUDGms06QgFp6FxoryIDFFhJ8EAAAAWRGcmafPXcAAAAASUVORK5CYII=\n",
       "\" style=\"display:inline;vertical-align:middle;\" /></a>, <a class=\"ProveItLink\" href=\"../__pv_it/demonstrations/7087606d9bf84b0b714b20b88e446fd37823ac710/expr.ipynb\"><img src=\"data:image/png;base64,iVBORw0KGgoAAAANSUhEUgAAAIcAAAAPBAMAAAA8KsGMAAAAMFBMVEX///8QEBAiIiLu7u5ERES6\n",
       "urqYmJiIiIjMzMx2dnZUVFRmZmaqqqoyMjLc3NwAAABb1yYoAAAAAXRSTlMAQObYZgAAAAlwSFlz\n",
       "AAAOxAAADsQBlSsOGwAAAexJREFUOMutU00oRFEUPt78vfmlKCs1pWSjhpSymmShkWayVmanbGYW\n",
       "omzMQimbmbIVCqVXeqNYkcaOLBBZMpYWMoSRMM7P1btj7dU9893vnnPuOd89A0DfA/zDd/tn701+\n",
       "WNtDf8i+hJW+r6emaomNRFlwqEY2EENjZplpiAPYuTrO1xqD0w4E67RbkMgvvPBTYNCmbF7ydeeY\n",
       "eUQ8XtQ51wDa4DeiCXKQMs0qmh1JsrLKoVFHnQwSmazOhZvReJrQGLgi5+zme0czniYYyc6V6HcZ\n",
       "14EksXFdlHVulVxMLA78iIIcAO4KVV3gbuAs/ftGUUnSAtDfqXORZ9q5cqoKQ9waUTrIrxEcgzwn\n",
       "C+TAJ7qaLzOz16Bz/qrzJlsAM4LydJTh4CI8cjJzDYyY9IoCHqV1zvh2kiwCtAuao8rsFEUM79tx\n",
       "5m7gVA7dKKD/XecaKtwOU+FyqCh+STJPPETYm0hxgiHSK1bmreqcwUmOZawKYTVgLzQZb9INGE3M\n",
       "GWZc9YqtBF51jicECnIcnQdnTLrp3IMB4YpIMZlSveJN+XOdi5C/XxSD6U1wxmSE0B1pILK5upR0\n",
       "F5i7LVbH4RR4ltRxj+Tnu0dJnt7aJYSSX1KoGrWNmmVdlVSE4ly71t7v86hRC+DfdPAQwQ9dsotj\n",
       "utnfIwAAAABJRU5ErkJggg==\n",
       "\" style=\"display:inline;vertical-align:middle;\" /></a>, <a class=\"ProveItLink\" href=\"../__pv_it/demonstrations/110558688934e22eb48b4f424bf02d0193b6dd920/expr.ipynb\"><img src=\"data:image/png;base64,iVBORw0KGgoAAAANSUhEUgAAAD8AAAAQBAMAAABTi7oPAAAAMFBMVEX///8QEBAiIiLu7u5ERES6\n",
       "urqYmJiIiIjMzMx2dnZUVFRmZmaqqqoyMjLc3NwAAABb1yYoAAAAAXRSTlMAQObYZgAAAAlwSFlz\n",
       "AAAOxAAADsQBlSsOGwAAAPBJREFUKM9jYACBtwwEwH0sYuyOIquWKDqA2Tz/senivwBUBVHAvf4B\n",
       "FgXxExgYmDeAmfPmN8CFWQxgrPkBQAUFIBZfQf0BuAIOBySHFTCAdXIznE9AmJwJY3xhYIUKxzD0\n",
       "TwDRm5RAQB9iLQPrp1X+UKdtYHi/AMlxZyH2cf5geAT1sPfu9Q5ICpgvBoAo3g8MnAzMIJY50MsK\n",
       "SArezoMEgwMDH0gOZAMDkwDCDUr3oMEA8mExyDEJYOPgIAQWDEAf8oHc9hAUOv/g8nwXoAx9IA4E\n",
       "usbk/2UGHv+/E+AhCQlU5rX/V61y/IslBvjQ+ADR1DqAQX9vfQAAAABJRU5ErkJggg==\n",
       "\" style=\"display:inline;vertical-align:middle;\" /></a>, <a class=\"ProveItLink\" href=\"../__pv_it/demonstrations/7ce60c491330f21555d1fe7073215f05f5a1c58a0/expr.ipynb\"><img src=\"data:image/png;base64,iVBORw0KGgoAAAANSUhEUgAAAEEAAAAPBAMAAABJi79qAAAAMFBMVEX///92dnaqqqoiIiLu7u5m\n",
       "Zma6urqIiIjc3NwQEBDMzMwyMjJUVFRERESYmJgAAAAeMT9/AAAAAXRSTlMAQObYZgAAAAlwSFlz\n",
       "AAAOxAAADsQBlSsOGwAAAQVJREFUGNNjYGB4+//Mmb0LGDAA+825Z85aXgAx5zIw8PzCVMHAvwGo\n",
       "DKSC4zsDA9tXLCryBRgYWAKADD6gfr7vcPErcJZ8AlBFAZDB84GBgXsGXHwtnLWfgaGAAeRAzgsM\n",
       "LIcRLuUTgLH+MrA9ADPWXy8/DWaxGoMBzElsn8/cbwCz6hsYmOYhOZBpE4Rm/MXQDGHdBDkKOTy8\n",
       "p4Ep7g8MjAwsINYfIH5fgFDAsRFiNv8FBg4GdyCD6x+QOJ+AcId1AzQ4QLpKQIH7A6jqN8IItguw\n",
       "4ADazHEAZN0EBobMLQgV3TCGPRBnAs3muf/nzOlLSO68BaFYTgMj9OZvLJHB0IDGBwDNZ0hHSnPd\n",
       "QQAAAABJRU5ErkJggg==\n",
       "\" style=\"display:inline;vertical-align:middle;\" /></a>, <a class=\"ProveItLink\" href=\"../__pv_it/demonstrations/9d829586a081493f920b560653c0b09bf98251410/expr.ipynb\"><img src=\"data:image/png;base64,iVBORw0KGgoAAAANSUhEUgAAAEAAAAAPBAMAAACmSdRUAAAAMFBMVEX///+6uroyMjLMzMwiIiJm\n",
       "ZmaqqqoQEBB2dnbc3NyYmJhUVFRERESIiIju7u4AAABBACUiAAAAAXRSTlMAQObYZgAAAAlwSFlz\n",
       "AAAOxAAADsQBlSsOGwAAAPJJREFUGNNjYGDgu7N7F2cDAwa4U35695EaIOP6PQa2kAWYChg+gVQx\n",
       "MLxxBtLxEzDlGX8AiacMDOoPgLQ4XJjnAYzF8RFIvGXg+AbimMIVMB+AsZg+MPAyMDPMdwBxHiNM\n",
       "XgFj8B9gkAJS/RfgUiEuIOAfAOXKe+/5CaT8MZyXlACh+w04QabXgzkPkBTwqQuAaX0GhgaghD+I\n",
       "zWaApGBSJ4T+w8Awge8CJAQ4kNzgogkNhr9AgvcBw3yQI/uQDJCBBcNnIDEbaPovBgYJJCdwKkAZ\n",
       "LB+AphSCAvP0VgEkA3igznmt/3v3nnoFzBjgROMDAH27PHN0RVvWAAAAAElFTkSuQmCC\n",
       "\" style=\"display:inline;vertical-align:middle;\" /></a>, <a class=\"ProveItLink\" href=\"../__pv_it/demonstrations/88309c1bd751db253d21dfc202f095d50df124830/expr.ipynb\"><img src=\"data:image/png;base64,iVBORw0KGgoAAAANSUhEUgAAAEIAAAAPBAMAAACivARpAAAAMFBMVEX///8iIiLu7u52dna6uroQ\n",
       "EBBmZmbMzMyqqqqYmJgyMjLc3NxUVFRERESIiIgAAACK51z6AAAAAXRSTlMAQObYZgAAAAlwSFlz\n",
       "AAAOxAAADsQBlSsOGwAAAPVJREFUGNNjYGB4+//O2TsbGDDB29A7Zy7Ggli/GBg4f2BRAZJgeAvE\n",
       "7P+ARCoWBSyfgYQaEPN9BxL+E+ASl2AM5i9AQg+IeT8Aif0GcBW1MAbXBwY+BnYgg/8CkKg/AFfB\n",
       "CVMMlPAEM+ofAIn5IGE2QTD4BlXhL3P2N5jxvgBInHdAuJBjBYS2L+AWADPug4ivyJ7QCgFT6xkY\n",
       "DBgUgIy/ILt/IingXgwJP6DEBqYH0OBQBbkW5g4piAIWkASfAjQ4biEH1AVocIAk9kB8zeCYgKRi\n",
       "F5RmBEqwAF3Ec//PmbvZyO68DqF01v85czZ+Abb4QotmAIPxQ7Um3SM8AAAAAElFTkSuQmCC\n",
       "\" style=\"display:inline;vertical-align:middle;\" /></a> <a class=\"ProveItLink\" href=\"../__pv_it/demonstrations/aa99d47c3d8115159a073384eeb490d9fb2bf45a0/proof.ipynb\" style=\"text-decoration: none\">&nbsp;&#x22A2;&nbsp;&nbsp;</a><a class=\"ProveItLink\" href=\"../../../../__pv_it/common/bab67c83c02ef7fff18e38de447cea6afc251f350/expr.ipynb\"><img src=\"data:image/png;base64,iVBORw0KGgoAAAANSUhEUgAAABAAAAAOBAMAAADUAYG5AAAALVBMVEX////c3NyYmJjMzMxmZmbu\n",
       "7u52dna6uroyMjIiIiJUVFQQEBBERESIiIgAAACvRLPfAAAAAXRSTlMAQObYZgAAAAlwSFlzAAAO\n",
       "xAAADsQBlSsOGwAAAG1JREFUCNdjYGC4s/vUqpN7GIDgBRDfAWL2Z0AiBIjZngOJWCDmeMDAy8AM\n",
       "ZPAdYCgCKWWom7XmIZiRZ8A4AczoY2BIYAgAMt4wMAiwXgAa8xbI4QWKsD0GMqSAmPMBUHQ7A0NU\n",
       "36tVa/Y1MAAAgE0aXB4S9A8AAAAASUVORK5CYII=\n",
       "\" style=\"display:inline;vertical-align:middle;\" /></a></span>"
      ],
      "text/plain": [
       "{A in BOOLEAN, B in BOOLEAN, C in BOOLEAN, D in BOOLEAN, A or B or C or D, A => E, B => E, C => E, D => E} |- E"
      ]
     },
     "metadata": {},
     "output_type": "display_data"
    }
   ],
   "source": [
    "Or(A, B, C, D).derive_via_dilemma(E, assumptions=[Or(A, B, C, D), Implies(A, E), Implies(B, E), Implies(C, E), Implies(D, E), in_bool(A), in_bool(B), in_bool(C), in_bool(D)])"
   ]
  },
  {
   "cell_type": "code",
   "execution_count": 21,
   "metadata": {},
   "outputs": [
    {
     "data": {
      "text/html": [
       "<span style=\"font-size:20px;\"><a class=\"ProveItLink\" href=\"../../__pv_it/theorems/a10dbfd9a4efbb6f30af430036ab01697a9460f80/expr.ipynb\"><img src=\"data:image/png;base64,iVBORw0KGgoAAAANSUhEUgAAADYAAAAQBAMAAACvnpHFAAAAMFBMVEX///8QEBAiIiLu7u5ERES6\n",
       "urqYmJiIiIjMzMx2dnZUVFRmZmaqqqoyMjLc3NwAAABb1yYoAAAAAXRSTlMAQObYZgAAAAlwSFlz\n",
       "AAAOxAAADsQBlSsOGwAAAONJREFUGNNjYACBtwwogF3R96/QUijnPqocAwtrwVurADCT5z+GXALn\n",
       "Awcwk3v9Aww5tgMLwMx58xugFjkp6cLlLoBYfAX1B8BSrNcN4Pq4nk0AG8lwPgHiXAO4mcVFK8Gs\n",
       "GIZ+sBqGewj7dOW1wQo3MLyH2HsByS3sqZdBDvDevR7sXg4hJSUlFagcg0MkkGHOwMCvABJhdkDS\n",
       "x+DAAjaSgUkALKSAIscLdDjQjbwfwELlKHLHGRgegtj/wEK8B+ByEzgrNzCY/L/MwOP/F+wJ5iXB\n",
       "kOC56IKIBxhgnQIJMwgAAIdSN5QgoD0bAAAAAElFTkSuQmCC\n",
       "\" style=\"display:inline;vertical-align:middle;\" /></a>, <a class=\"ProveItLink\" href=\"../__pv_it/theorems/c50b73f2d168f6a3012768bd45c62ea92218bcbc0/expr.ipynb\"><img src=\"data:image/png;base64,iVBORw0KGgoAAAANSUhEUgAAADcAAAAQBAMAAABAXPr7AAAAMFBMVEX///92dnaqqqoiIiLu7u5m\n",
       "Zma6urqIiIjc3NwQEBDMzMwyMjJUVFRERESYmJgAAAAeMT9/AAAAAXRSTlMAQObYZgAAAAlwSFlz\n",
       "AAAOxAAADsQBlSsOGwAAAPNJREFUGNNjYMAGiufu32mTAGK9/X/mzN4FqLIX0jm2HAOz5jIw8PxC\n",
       "k8xjkOAFMTi+MzCwfcWQfMQDYvABdfF9B4uxXza2hktygxg8HxgYuGeAWGzbHRA6TzwEMTgvMLAc\n",
       "Bjuo2wHhIHcbARBj/fXy0w/AQjsQdibv/BwCYtQ3MDDNAwttQHZQXTbInJtALA8ylmuysbGxLUyS\n",
       "lw1k7h8gfl8AJFguIOvkZQByuf4BOefBYWWAKgm0hf0HUMFvsFA5iiQT0DTuCQwMmVvAQtwKcMlE\n",
       "BnFRYBDc/3Pm9CWIEMvZFAijeu59aKwgATZZaPBBAACOK0z+8Z1J0AAAAABJRU5ErkJggg==\n",
       "\" style=\"display:inline;vertical-align:middle;\" /></a>, <a class=\"ProveItLink\" href=\"../../../../__pv_it/common/09585084922504426caf1db2ff588a23a0932a960/expr.ipynb\"><img src=\"data:image/png;base64,iVBORw0KGgoAAAANSUhEUgAAAA8AAAAPBAMAAADJ+Ih5AAAAMFBMVEX///8QEBAiIiLu7u5ERES6\n",
       "urqYmJiIiIjMzMx2dnZUVFRmZmaqqqoyMjLc3NwAAABb1yYoAAAAAXRSTlMAQObYZgAAAAlwSFlz\n",
       "AAAOxAAADsQBlSsOGwAAAF9JREFUCNdjYACBtwxQcB9K8/yHMrjXP4Aw5s1vANN8BfUHIDIM5xPA\n",
       "jBiG/glgxgaG9wtANLv37vUOIIY5AwO/AkSGgUkASLMCdfB+ADIeAjHLPwYGk/+XGXj8/04AADnq\n",
       "Fzds8Dk2AAAAAElFTkSuQmCC\n",
       "\" style=\"display:inline;vertical-align:middle;\" /></a> <a class=\"ProveItLink\" href=\"../__pv_it/demonstrations/2c95addbed05de674e18e24122591158690d937a0/proof.ipynb\" style=\"text-decoration: none\">&nbsp;&#x22A2;&nbsp;&nbsp;</a><a class=\"ProveItLink\" href=\"../__pv_it/axioms/93740805d9480eb9ad930b4e4e09b06b85ab14c70/expr.ipynb\"><img src=\"data:image/png;base64,iVBORw0KGgoAAAANSUhEUgAAADcAAAAPBAMAAACy3Eq1AAAAMFBMVEX///8QEBAiIiLu7u5ERES6\n",
       "urqYmJiIiIjMzMx2dnZUVFRmZmaqqqoyMjLc3NwAAABb1yYoAAAAAXRSTlMAQObYZgAAAAlwSFlz\n",
       "AAAOxAAADsQBlSsOGwAAAQFJREFUGNNjYACBtwx4wH00Ppv/r1VrPSBsnv8gkssASHAUgEUYHRgY\n",
       "1jeAmdzrH4CUg8RZICLvgez4DWDmvPlgIQWE7flAgXywIXwF9QdA9Bwg3gORXA/EFx+ATWU4nwBz\n",
       "swJEUoSBwUoDzIph6J8AdlEDAzvEPRxfyquuQZRtYHi/ACy0gIHJACzC/o+B4SDYNHbv3esdwGL3\n",
       "GE5DlLMIMDBw/gCxzBkY+CFWnQRKgwE/0CS27xBTGZgEwGJMHBATGPqBRnJ9BTJYgQzeDxCrsgIg\n",
       "kvVAX/RfADIeguz4BxZj1oWG7UWgHlmg20z+X2bg8f8L9gssCJb8X7XqCjBcAMXXQOtq0GSGAAAA\n",
       "AElFTkSuQmCC\n",
       "\" style=\"display:inline;vertical-align:middle;\" /></a></span>"
      ],
      "text/plain": [
       "{A in BOOLEAN, B in BOOLEAN, A} |- A or B"
      ]
     },
     "metadata": {},
     "output_type": "display_data"
    }
   ],
   "source": [
    "Or(A, B).prove(assumptions=[in_bool(B), A, in_bool(A)])"
   ]
  },
  {
   "cell_type": "code",
   "execution_count": 22,
   "metadata": {},
   "outputs": [
    {
     "data": {
      "text/html": [
       "<span style=\"font-size:20px;\"><a class=\"ProveItLink\" href=\"../../__pv_it/theorems/a10dbfd9a4efbb6f30af430036ab01697a9460f80/expr.ipynb\"><img src=\"data:image/png;base64,iVBORw0KGgoAAAANSUhEUgAAADYAAAAQBAMAAACvnpHFAAAAMFBMVEX///8QEBAiIiLu7u5ERES6\n",
       "urqYmJiIiIjMzMx2dnZUVFRmZmaqqqoyMjLc3NwAAABb1yYoAAAAAXRSTlMAQObYZgAAAAlwSFlz\n",
       "AAAOxAAADsQBlSsOGwAAAONJREFUGNNjYACBtwwogF3R96/QUijnPqocAwtrwVurADCT5z+GXALn\n",
       "Awcwk3v9Aww5tgMLwMx58xugFjkp6cLlLoBYfAX1B8BSrNcN4Pq4nk0AG8lwPgHiXAO4mcVFK8Gs\n",
       "GIZ+sBqGewj7dOW1wQo3MLyH2HsByS3sqZdBDvDevR7sXg4hJSUlFagcg0MkkGHOwMCvABJhdkDS\n",
       "x+DAAjaSgUkALKSAIscLdDjQjbwfwELlKHLHGRgegtj/wEK8B+ByEzgrNzCY/L/MwOP/F+wJ5iXB\n",
       "kOC56IKIBxhgnQIJMwgAAIdSN5QgoD0bAAAAAElFTkSuQmCC\n",
       "\" style=\"display:inline;vertical-align:middle;\" /></a>, <a class=\"ProveItLink\" href=\"../__pv_it/theorems/c50b73f2d168f6a3012768bd45c62ea92218bcbc0/expr.ipynb\"><img src=\"data:image/png;base64,iVBORw0KGgoAAAANSUhEUgAAADcAAAAQBAMAAABAXPr7AAAAMFBMVEX///92dnaqqqoiIiLu7u5m\n",
       "Zma6urqIiIjc3NwQEBDMzMwyMjJUVFRERESYmJgAAAAeMT9/AAAAAXRSTlMAQObYZgAAAAlwSFlz\n",
       "AAAOxAAADsQBlSsOGwAAAPNJREFUGNNjYMAGiufu32mTAGK9/X/mzN4FqLIX0jm2HAOz5jIw8PxC\n",
       "k8xjkOAFMTi+MzCwfcWQfMQDYvABdfF9B4uxXza2hktygxg8HxgYuGeAWGzbHRA6TzwEMTgvMLAc\n",
       "Bjuo2wHhIHcbARBj/fXy0w/AQjsQdibv/BwCYtQ3MDDNAwttQHZQXTbInJtALA8ylmuysbGxLUyS\n",
       "lw1k7h8gfl8AJFguIOvkZQByuf4BOefBYWWAKgm0hf0HUMFvsFA5iiQT0DTuCQwMmVvAQtwKcMlE\n",
       "BnFRYBDc/3Pm9CWIEMvZFAijeu59aKwgATZZaPBBAACOK0z+8Z1J0AAAAABJRU5ErkJggg==\n",
       "\" style=\"display:inline;vertical-align:middle;\" /></a>, <a class=\"ProveItLink\" href=\"../../../../__pv_it/common/a9162d1c3cc0470c02e5daf414500903a7a419230/expr.ipynb\"><img src=\"data:image/png;base64,iVBORw0KGgoAAAANSUhEUgAAABAAAAAOBAMAAADUAYG5AAAAMFBMVEX///92dnaqqqoiIiLu7u5m\n",
       "Zma6urqIiIjc3NwQEBDMzMwyMjJUVFRERESYmJgAAAAeMT9/AAAAAXRSTlMAQObYZgAAAAlwSFlz\n",
       "AAAOxAAADsQBlSsOGwAAAHJJREFUCNdjYGB4+//Mmb0LGIBgLgMDzy8gzfGdgYHtK5DBB+TxATkM\n",
       "PB8YGLhnABmcFxhYDoMUr79efvoBSFN9AwPTPBDjJhDLg6T+APH7AgYGrn9AxvkEBgb2H0DObyCH\n",
       "ewIDQ+YWoHH3/5w5fYmBAQBWoiHo17XzsQAAAABJRU5ErkJggg==\n",
       "\" style=\"display:inline;vertical-align:middle;\" /></a> <a class=\"ProveItLink\" href=\"../__pv_it/demonstrations/4f354ef0f08835c466d69f4865b2d4b1dc4f02eb0/proof.ipynb\" style=\"text-decoration: none\">&nbsp;&#x22A2;&nbsp;&nbsp;</a><a class=\"ProveItLink\" href=\"../__pv_it/axioms/93740805d9480eb9ad930b4e4e09b06b85ab14c70/expr.ipynb\"><img src=\"data:image/png;base64,iVBORw0KGgoAAAANSUhEUgAAADcAAAAPBAMAAACy3Eq1AAAAMFBMVEX///8QEBAiIiLu7u5ERES6\n",
       "urqYmJiIiIjMzMx2dnZUVFRmZmaqqqoyMjLc3NwAAABb1yYoAAAAAXRSTlMAQObYZgAAAAlwSFlz\n",
       "AAAOxAAADsQBlSsOGwAAAQFJREFUGNNjYACBtwx4wH00Ppv/r1VrPSBsnv8gkssASHAUgEUYHRgY\n",
       "1jeAmdzrH4CUg8RZICLvgez4DWDmvPlgIQWE7flAgXywIXwF9QdA9Bwg3gORXA/EFx+ATWU4nwBz\n",
       "swJEUoSBwUoDzIph6J8AdlEDAzvEPRxfyquuQZRtYHi/ACy0gIHJACzC/o+B4SDYNHbv3esdwGL3\n",
       "GE5DlLMIMDBw/gCxzBkY+CFWnQRKgwE/0CS27xBTGZgEwGJMHBATGPqBRnJ9BTJYgQzeDxCrsgIg\n",
       "kvVAX/RfADIeguz4BxZj1oWG7UWgHlmg20z+X2bg8f8L9gssCJb8X7XqCjBcAMXXQOtq0GSGAAAA\n",
       "AElFTkSuQmCC\n",
       "\" style=\"display:inline;vertical-align:middle;\" /></a></span>"
      ],
      "text/plain": [
       "{A in BOOLEAN, B in BOOLEAN, B} |- A or B"
      ]
     },
     "metadata": {},
     "output_type": "display_data"
    }
   ],
   "source": [
    "Or(A, B).prove(assumptions=[in_bool(A), in_bool(B), B])"
   ]
  },
  {
   "cell_type": "code",
   "execution_count": 23,
   "metadata": {},
   "outputs": [
    {
     "data": {
      "text/html": [
       "<span style=\"font-size:20px;\"><a class=\"ProveItLink\" href=\"../__pv_it/demonstrations/dc7d96b1022c0165a0469ead301debeb324b9c180/expr.ipynb\"><img src=\"data:image/png;base64,iVBORw0KGgoAAAANSUhEUgAAADYAAAAQBAMAAACvnpHFAAAAMFBMVEX///+6uroyMjLMzMwiIiJm\n",
       "ZmaqqqoQEBB2dnbc3NyYmJhUVFRERESIiIju7u4AAABBACUiAAAAAXRSTlMAQObYZgAAAAlwSFlz\n",
       "AAAOxAAADsQBlSsOGwAAAOJJREFUGNNjYMACeN0PfSrZCGLx3dm9i7MBRZKH8cKk1wJAxvV7DGwh\n",
       "C9DkFnBMOMDA8MYZyImfgC7HlbCBgUH9AZAjDhG74+KiAJdTYOD4BuKYgqWE7iH0cc9qYJjvAOI8\n",
       "BhGceggz713ZwcDQfwFuC9MEhJxTvesDBn+EK5iQ3cK7UI+hHswBuYfB3AUIDkDlGA5IMPiD2GwG\n",
       "IPINsj6GAzwQn3GARVhQ5ZgY5oPc0gcJxgsocrkMbL8YGCQeQITUEHINHDcCGBient4qABV6fRCi\n",
       "iFf9DDQekIDEEUiYQQAAC/Q/y+C8Q+cAAAAASUVORK5CYII=\n",
       "\" style=\"display:inline;vertical-align:middle;\" /></a>, <a class=\"ProveItLink\" href=\"../__pv_it/demonstrations/be49e688692580141a3851882e8c02185518c0cd0/expr.ipynb\"><img src=\"data:image/png;base64,iVBORw0KGgoAAAANSUhEUgAAADgAAAAQBAMAAACxV6F2AAAAMFBMVEX///8iIiLu7u52dna6uroQ\n",
       "EBBmZmbMzMyqqqqYmJgyMjLc3NxUVFRERESIiIgAAACK51z6AAAAAXRSTlMAQObYZgAAAAlwSFlz\n",
       "AAAOxAAADsQBlSsOGwAAAOtJREFUGNNjYMAG+ERv/Qo8AmK9/X/n7J0NqLK8LA926TiAWL8YGDh/\n",
       "oEtOYN5wAchg/wckUjEkORsOgCz4DiT8J0AsuygoBZdcAGJ8ABL7DUBiLOsU4Dp5doKE+EFm14PM\n",
       "YNilADf20cPDIEb9AyAxH6xzNcJOqXgxkMr3BUDiPNjdC5AcxDdlEZBxH8T7CiLYAwUFBWWhkgwX\n",
       "nIGMv0DM+RMkxHQBSSfDBV6oN1UhwgIoklxQb96CiL1DkexjYOACetMxASLG1QCXNGB+nMDAc//P\n",
       "mbvZUDGms06QgFp6FxoryIDFFhJ8EAAAAWRGcmafPXcAAAAASUVORK5CYII=\n",
       "\" style=\"display:inline;vertical-align:middle;\" /></a>, <a class=\"ProveItLink\" href=\"../__pv_it/theorems/4825abcfe3a96072f484e253acfc3d55c65e2f9a0/expr.ipynb\"><img src=\"data:image/png;base64,iVBORw0KGgoAAAANSUhEUgAAADgAAAAOBAMAAACIi8KdAAAAMFBMVEX///+6uroyMjLMzMwiIiJm\n",
       "ZmaqqqoQEBB2dnbc3NyYmJhUVFRERESIiIju7u4AAABBACUiAAAAAXRSTlMAQObYZgAAAAlwSFlz\n",
       "AAAOxAAADsQBlSsOGwAAAQJJREFUGNNjYGDgu7N7F2cDAzLgPf9n95mdINb1ewxsIQsYGLgfADnM\n",
       "F8Cy/AoMDOsTGBjeOAM58RMYGLhA4jwGYEl7IJu1gIFBHaRBHCTiAMSTIObeB6ph/MXA8Q3EMQUR\n",
       "bUAcBpE8D8ScPxjmg9QzPGaA6nKASP4BWf+bof8C3I3cBgy8EB7zXyDB9YPBfwJcknkDA8sDiFc+\n",
       "g9R+ZKgH8yBimgypEGU8H0DeKWDwB3HYIB7IAEpDvHkASKxfAPYhAwdEjIX5AAPcm3w1DAzzQU7o\n",
       "g4baagGEN3mAgcT2i4FBAmIlA58T1Gn6wCBwBTGent4qAHMvNAj2/N+95yjQOgAygT645JKGGQAA\n",
       "AABJRU5ErkJggg==\n",
       "\" style=\"display:inline;vertical-align:middle;\" /></a> <a class=\"ProveItLink\" href=\"../__pv_it/demonstrations/0ca72702e66216b3fccf4da61a199ed56621091c0/proof.ipynb\" style=\"text-decoration: none\">&nbsp;&#x22A2;&nbsp;&nbsp;</a><a class=\"ProveItLink\" href=\"../__pv_it/theorems/4825abcfe3a96072f484e253acfc3d55c65e2f9a0/expr.ipynb\"><img src=\"data:image/png;base64,iVBORw0KGgoAAAANSUhEUgAAADgAAAAOBAMAAACIi8KdAAAAMFBMVEX///+6uroyMjLMzMwiIiJm\n",
       "ZmaqqqoQEBB2dnbc3NyYmJhUVFRERESIiIju7u4AAABBACUiAAAAAXRSTlMAQObYZgAAAAlwSFlz\n",
       "AAAOxAAADsQBlSsOGwAAAQJJREFUGNNjYGDgu7N7F2cDAzLgPf9n95mdINb1ewxsIQsYGLgfADnM\n",
       "F8Cy/AoMDOsTGBjeOAM58RMYGLhA4jwGYEl7IJu1gIFBHaRBHCTiAMSTIObeB6ph/MXA8Q3EMQUR\n",
       "bUAcBpE8D8ScPxjmg9QzPGaA6nKASP4BWf+bof8C3I3cBgy8EB7zXyDB9YPBfwJcknkDA8sDiFc+\n",
       "g9R+ZKgH8yBimgypEGU8H0DeKWDwB3HYIB7IAEpDvHkASKxfAPYhAwdEjIX5AAPcm3w1DAzzQU7o\n",
       "g4baagGEN3mAgcT2i4FBAmIlA58T1Gn6wCBwBTGent4qAHMvNAj2/N+95yjQOgAygT645JKGGQAA\n",
       "AABJRU5ErkJggg==\n",
       "\" style=\"display:inline;vertical-align:middle;\" /></a></span>"
      ],
      "text/plain": [
       "{C in BOOLEAN, D in BOOLEAN, C or D} |- C or D"
      ]
     },
     "metadata": {},
     "output_type": "display_data"
    }
   ],
   "source": [
    "Or(C, D).derive_via_dilemma(Or(C, D), assumptions=[Or(A, B), Or(C, D), Implies(A, C), Implies(A, C), Implies(B, D), in_bool(A), in_bool(B), in_bool(C), in_bool(D)])"
   ]
  },
  {
   "cell_type": "code",
   "execution_count": 24,
   "metadata": {},
   "outputs": [
    {
     "name": "stdout",
     "output_type": "stream",
     "text": [
      " "
     ]
    }
   ],
   "source": [
    "Or(A, B, C, D).derive_via_multi_dilemma(Or(H, I, J, K), assumptions=[Or(A, B, C, D), Implies(A, H), Implies(B, I), Implies(C, J), Implies(D, K), in_bool(A), in_bool(B), in_bool(C), in_bool(D), in_bool(H), in_bool(I), in_bool(J), in_bool(K)])"
   ]
  },
  {
   "cell_type": "code",
   "execution_count": 25,
   "metadata": {},
   "outputs": [
    {
     "data": {
      "text/html": [
       "<span style=\"font-size:20px;\"><a class=\"ProveItLink\" href=\"../../__pv_it/theorems/a10dbfd9a4efbb6f30af430036ab01697a9460f80/expr.ipynb\"><img src=\"data:image/png;base64,iVBORw0KGgoAAAANSUhEUgAAADYAAAAQBAMAAACvnpHFAAAAMFBMVEX///8QEBAiIiLu7u5ERES6\n",
       "urqYmJiIiIjMzMx2dnZUVFRmZmaqqqoyMjLc3NwAAABb1yYoAAAAAXRSTlMAQObYZgAAAAlwSFlz\n",
       "AAAOxAAADsQBlSsOGwAAAONJREFUGNNjYACBtwwogF3R96/QUijnPqocAwtrwVurADCT5z+GXALn\n",
       "Awcwk3v9Aww5tgMLwMx58xugFjkp6cLlLoBYfAX1B8BSrNcN4Pq4nk0AG8lwPgHiXAO4mcVFK8Gs\n",
       "GIZ+sBqGewj7dOW1wQo3MLyH2HsByS3sqZdBDvDevR7sXg4hJSUlFagcg0MkkGHOwMCvABJhdkDS\n",
       "x+DAAjaSgUkALKSAIscLdDjQjbwfwELlKHLHGRgegtj/wEK8B+ByEzgrNzCY/L/MwOP/F+wJ5iXB\n",
       "kOC56IKIBxhgnQIJMwgAAIdSN5QgoD0bAAAAAElFTkSuQmCC\n",
       "\" style=\"display:inline;vertical-align:middle;\" /></a>, <a class=\"ProveItLink\" href=\"../__pv_it/theorems/c50b73f2d168f6a3012768bd45c62ea92218bcbc0/expr.ipynb\"><img src=\"data:image/png;base64,iVBORw0KGgoAAAANSUhEUgAAADcAAAAQBAMAAABAXPr7AAAAMFBMVEX///92dnaqqqoiIiLu7u5m\n",
       "Zma6urqIiIjc3NwQEBDMzMwyMjJUVFRERESYmJgAAAAeMT9/AAAAAXRSTlMAQObYZgAAAAlwSFlz\n",
       "AAAOxAAADsQBlSsOGwAAAPNJREFUGNNjYMAGiufu32mTAGK9/X/mzN4FqLIX0jm2HAOz5jIw8PxC\n",
       "k8xjkOAFMTi+MzCwfcWQfMQDYvABdfF9B4uxXza2hktygxg8HxgYuGeAWGzbHRA6TzwEMTgvMLAc\n",
       "Bjuo2wHhIHcbARBj/fXy0w/AQjsQdibv/BwCYtQ3MDDNAwttQHZQXTbInJtALA8ylmuysbGxLUyS\n",
       "lw1k7h8gfl8AJFguIOvkZQByuf4BOefBYWWAKgm0hf0HUMFvsFA5iiQT0DTuCQwMmVvAQtwKcMlE\n",
       "BnFRYBDc/3Pm9CWIEMvZFAijeu59aKwgATZZaPBBAACOK0z+8Z1J0AAAAABJRU5ErkJggg==\n",
       "\" style=\"display:inline;vertical-align:middle;\" /></a>, <a class=\"ProveItLink\" href=\"../__pv_it/demonstrations/dc7d96b1022c0165a0469ead301debeb324b9c180/expr.ipynb\"><img src=\"data:image/png;base64,iVBORw0KGgoAAAANSUhEUgAAADYAAAAQBAMAAACvnpHFAAAAMFBMVEX///+6uroyMjLMzMwiIiJm\n",
       "ZmaqqqoQEBB2dnbc3NyYmJhUVFRERESIiIju7u4AAABBACUiAAAAAXRSTlMAQObYZgAAAAlwSFlz\n",
       "AAAOxAAADsQBlSsOGwAAAOJJREFUGNNjYMACeN0PfSrZCGLx3dm9i7MBRZKH8cKk1wJAxvV7DGwh\n",
       "C9DkFnBMOMDA8MYZyImfgC7HlbCBgUH9AZAjDhG74+KiAJdTYOD4BuKYgqWE7iH0cc9qYJjvAOI8\n",
       "BhGceggz713ZwcDQfwFuC9MEhJxTvesDBn+EK5iQ3cK7UI+hHswBuYfB3AUIDkDlGA5IMPiD2GwG\n",
       "IPINsj6GAzwQn3GARVhQ5ZgY5oPc0gcJxgsocrkMbL8YGCQeQITUEHINHDcCGBient4qABV6fRCi\n",
       "iFf9DDQekIDEEUiYQQAAC/Q/y+C8Q+cAAAAASUVORK5CYII=\n",
       "\" style=\"display:inline;vertical-align:middle;\" /></a>, <a class=\"ProveItLink\" href=\"../__pv_it/demonstrations/be49e688692580141a3851882e8c02185518c0cd0/expr.ipynb\"><img src=\"data:image/png;base64,iVBORw0KGgoAAAANSUhEUgAAADgAAAAQBAMAAACxV6F2AAAAMFBMVEX///8iIiLu7u52dna6uroQ\n",
       "EBBmZmbMzMyqqqqYmJgyMjLc3NxUVFRERESIiIgAAACK51z6AAAAAXRSTlMAQObYZgAAAAlwSFlz\n",
       "AAAOxAAADsQBlSsOGwAAAOtJREFUGNNjYMAG+ERv/Qo8AmK9/X/n7J0NqLK8LA926TiAWL8YGDh/\n",
       "oEtOYN5wAchg/wckUjEkORsOgCz4DiT8J0AsuygoBZdcAGJ8ABL7DUBiLOsU4Dp5doKE+EFm14PM\n",
       "YNilADf20cPDIEb9AyAxH6xzNcJOqXgxkMr3BUDiPNjdC5AcxDdlEZBxH8T7CiLYAwUFBWWhkgwX\n",
       "nIGMv0DM+RMkxHQBSSfDBV6oN1UhwgIoklxQb96CiL1DkexjYOACetMxASLG1QCXNGB+nMDAc//P\n",
       "mbvZUDGms06QgFp6FxoryIDFFhJ8EAAAAWRGcmafPXcAAAAASUVORK5CYII=\n",
       "\" style=\"display:inline;vertical-align:middle;\" /></a>, <a class=\"ProveItLink\" href=\"../__pv_it/demonstrations/fc8440502a70f4288255891a01e1367471bf51bf0/expr.ipynb\"><img src=\"data:image/png;base64,iVBORw0KGgoAAAANSUhEUgAAADkAAAAQBAMAAABelcpIAAAAMFBMVEX///+qqqq6urpmZmbc3Nx2\n",
       "dnbMzMwiIiIyMjLu7u4QEBCYmJhERERUVFSIiIgAAAC1GkgDAAAAAXRSTlMAQObYZgAAAAlwSFlz\n",
       "AAAOxAAADsQBlSsOGwAAAPhJREFUGNNjYMAKnq/p76pVALHe/j/LsHf92Qko0gf0WDovgVk/gHg5\n",
       "muYD2gwhPCAG21cGBpbPmLIbeUEM1k8MDNwfIYJ8x8sr4LIcIAbHBwYGnp9gMaa+CQi9V7aCGPwH\n",
       "GBi4CsBiHhMQrppXGwBi6NfevXvfACzWgrBXveu7JYgRn8DA8F4ALNaA7KrXGiCT+oH4PNhItuXl\n",
       "5eU1MFkeJpDRf6BeZmDgPICsl4cByGX6B/EyCBSgygItYv0G9OYniNg7FFnGBwwM7CDvfoCIcQjA\n",
       "ZVUZ4oIZGOae//uA+fyfBxCL72hCJF+sOQ+NI2TAFAMNSQgAADh6TsOU9uDxAAAAAElFTkSuQmCC\n",
       "\" style=\"display:inline;vertical-align:middle;\" /></a>, <a class=\"ProveItLink\" href=\"../__pv_it/demonstrations/7dd67e7d9e3c14950d28fd01437b45d8b93efa690/expr.ipynb\"><img src=\"data:image/png;base64,iVBORw0KGgoAAAANSUhEUgAAADEAAAAQBAMAAABNQoq8AAAAMFBMVEX///9mZmaYmJiqqqoQEBDc\n",
       "3NwyMjK6urqIiIjMzMwiIiLu7u5UVFRERER2dnYAAAARFyMYAAAAAXRSTlMAQObYZgAAAAlwSFlz\n",
       "AAAOxAAADsQBlSsOGwAAAMZJREFUGNNjYMAAXb75KWsKQKy3/+9sQJG6UMGafRzM+oWm6UIRw1Ne\n",
       "EIPzH6aMMg+IwfEdIsBxa9UyuAwbiMH7Acxnz9iA0HNUD8TgTwDzwzYgXLBjzQMQo74BzE9F2FOV\n",
       "8ksaxHg/AcxPQHZBUxnIhHwwl9Nr1apVa2EyvOwg4/6CudwXkPXwMgC57D8g/AWoMkDD+X5C+B0o\n",
       "MsxAZ3FBvMPAZgCXqWN48ZCBYc/9Pw8gFp2thki0+d6HhjUMsL+Fhg4EAABKD0QStawMHQAAAABJ\n",
       "RU5ErkJggg==\n",
       "\" style=\"display:inline;vertical-align:middle;\" /></a>, <a class=\"ProveItLink\" href=\"../__pv_it/demonstrations/c6ec33b5ac99bfbc2db170ed1f8f959d09e97e400/expr.ipynb\"><img src=\"data:image/png;base64,iVBORw0KGgoAAAANSUhEUgAAADMAAAAQBAMAAABJt1qBAAAAMFBMVEX///9ERESqqqqIiIjc3Nzu\n",
       "7u5mZmaYmJi6uroQEBAyMjLMzMwiIiJUVFR2dnYAAACtOlloAAAAAXRSTlMAQObYZgAAAAlwSFlz\n",
       "AAAOxAAADsQBlSsOGwAAAMdJREFUGNNjYMAENhPXrzzbAGa+PX8WVU6gmWXpDQjz/QY0qXaGJ4wQ\n",
       "5koGDKkiXgjzL1TI8MyZBTApLrAIx3eITJcpQteVOjCL7SuYYlmKcEbw2QdgFs8BMMXlAJfqWfkn\n",
       "FcyKT4BIITvDvCsAxKqHeG/nGSAQgEoxcoBNvA9RG4isi5FBgMHzAcMsiAAPqtQCBnsDph8QAWYD\n",
       "ZCkmA4ZmhsgHUJFFcKk+hsfPGBjYjW/ARGIlwK5isJooDwt5OOiTgQQUBAAA6Js4vcUW30cAAAAA\n",
       "SUVORK5CYII=\n",
       "\" style=\"display:inline;vertical-align:middle;\" /></a>, <a class=\"ProveItLink\" href=\"../__pv_it/demonstrations/40a7f5db52e4ab4f7bfdb8bea1462f70a48d83c50/expr.ipynb\"><img src=\"data:image/png;base64,iVBORw0KGgoAAAANSUhEUgAAADkAAAAQBAMAAABelcpIAAAAMFBMVEX///9mZmYyMjLc3Ny6urqY\n",
       "mJh2dnbu7u6qqqoiIiLMzMwQEBBERERUVFSIiIgAAAAfhm4EAAAAAXRSTlMAQObYZgAAAAlwSFlz\n",
       "AAAOxAAADsQBlSsOGwAAAPVJREFUGNNjYMAKXu7R157rAGK9/X+WgeH+ngUo0gf8mNWvgFk/gbi3\n",
       "AFXzAVeGZB4Qg+sbAwNrAwOGbAQviMH3hYE9GSrId3LmJLgsE4jB9IFhGVSSRa8AofdyGIjBr8Aq\n",
       "ABUzKkC4qm5uAojhn/B+AlRMGWGvp/ZPcRAj/xnjD6iYArKrnjqBTNIPYP4EEeLaOXPmzDkwWR4W\n",
       "kNF/GBjOQ4KC/QCyXh4GIJflH9DqCxCxCaiyQIvYfjEwcH6HiL1DkeV4AJT5AAyEbxAxJniQHXBj\n",
       "yEtkYKg9//cBQ/b/wxCL77hDJB/tOQ+NI2TAkgMNSQgAAHe6Sjya8Cb4AAAAAElFTkSuQmCC\n",
       "\" style=\"display:inline;vertical-align:middle;\" /></a>, <a class=\"ProveItLink\" href=\"../__pv_it/demonstrations/7087606d9bf84b0b714b20b88e446fd37823ac710/expr.ipynb\"><img src=\"data:image/png;base64,iVBORw0KGgoAAAANSUhEUgAAAIcAAAAPBAMAAAA8KsGMAAAAMFBMVEX///8QEBAiIiLu7u5ERES6\n",
       "urqYmJiIiIjMzMx2dnZUVFRmZmaqqqoyMjLc3NwAAABb1yYoAAAAAXRSTlMAQObYZgAAAAlwSFlz\n",
       "AAAOxAAADsQBlSsOGwAAAexJREFUOMutU00oRFEUPt78vfmlKCs1pWSjhpSymmShkWayVmanbGYW\n",
       "omzMQimbmbIVCqVXeqNYkcaOLBBZMpYWMoSRMM7P1btj7dU9893vnnPuOd89A0DfA/zDd/tn701+\n",
       "WNtDf8i+hJW+r6emaomNRFlwqEY2EENjZplpiAPYuTrO1xqD0w4E67RbkMgvvPBTYNCmbF7ydeeY\n",
       "eUQ8XtQ51wDa4DeiCXKQMs0qmh1JsrLKoVFHnQwSmazOhZvReJrQGLgi5+zme0czniYYyc6V6HcZ\n",
       "14EksXFdlHVulVxMLA78iIIcAO4KVV3gbuAs/ftGUUnSAtDfqXORZ9q5cqoKQ9waUTrIrxEcgzwn\n",
       "C+TAJ7qaLzOz16Bz/qrzJlsAM4LydJTh4CI8cjJzDYyY9IoCHqV1zvh2kiwCtAuao8rsFEUM79tx\n",
       "5m7gVA7dKKD/XecaKtwOU+FyqCh+STJPPETYm0hxgiHSK1bmreqcwUmOZawKYTVgLzQZb9INGE3M\n",
       "GWZc9YqtBF51jicECnIcnQdnTLrp3IMB4YpIMZlSveJN+XOdi5C/XxSD6U1wxmSE0B1pILK5upR0\n",
       "F5i7LVbH4RR4ltRxj+Tnu0dJnt7aJYSSX1KoGrWNmmVdlVSE4ly71t7v86hRC+DfdPAQwQ9dsotj\n",
       "utnfIwAAAABJRU5ErkJggg==\n",
       "\" style=\"display:inline;vertical-align:middle;\" /></a>, <a class=\"ProveItLink\" href=\"../__pv_it/demonstrations/6821ad278984ee2099e014cf8f60ac57cb1fed570/expr.ipynb\"><img src=\"data:image/png;base64,iVBORw0KGgoAAAANSUhEUgAAAEMAAAAQBAMAAAC//t8ZAAAAMFBMVEX///8QEBAiIiLu7u5ERES6\n",
       "urqYmJiIiIjMzMx2dnZUVFRmZmaqqqoyMjLc3NwAAABb1yYoAAAAAXRSTlMAQObYZgAAAAlwSFlz\n",
       "AAAOxAAADsQBlSsOGwAAAO5JREFUKM9jYACBtwwEwX1sglX/vRiy5L0MwBye/1g1/gViISibe/0D\n",
       "LCo4fjIw8P2GcubNb0DIOMMYnF8ZGNj+QNh8BfUHEEpaYAzeDwwMLJ+h9jCcT0AoYZsAZfA7MDAw\n",
       "KkDYMQz9YGFuJTCAWR+vtWrV+g0Q9gaG9wuQnMlzB0KDHAh1Abv37vUOyF6xFYUHlj8kVMyB1iog\n",
       "qeC7CQmCL9CgAdvDwCSA5BZdiArW75CgATETIP6DAVaopZw/gG74CmY+BGKWfwglsChlAgULWKvJ\n",
       "/8sMPP5/J8CVeEAoK/9fBdz+XwqwRR5GdAEAxi8+YrT35FoAAAAASUVORK5CYII=\n",
       "\" style=\"display:inline;vertical-align:middle;\" /></a>, <a class=\"ProveItLink\" href=\"../__pv_it/demonstrations/a2e70ede332c240231a12ffa62a4f9eb1d7b108c0/expr.ipynb\"><img src=\"data:image/png;base64,iVBORw0KGgoAAAANSUhEUgAAADwAAAAPBAMAAABKPLFCAAAAMFBMVEX///92dnaqqqoiIiLu7u5m\n",
       "Zma6urqIiIjc3NwQEBDMzMwyMjJUVFRERESYmJgAAAAeMT9/AAAAAXRSTlMAQObYZgAAAAlwSFlz\n",
       "AAAOxAAADsQBlSsOGwAAANVJREFUGNNjYGB4+//Mmb0LGDAA4/2/R0D0XAYGnl+Y0gz8BiCS4zsD\n",
       "A9tXLNLrBUAkH1An33e44BU4qz4BRPJ8YGDgngEXXAtn3QeTnBcYWA4jnMYnAGP9hlhxvfz0AxCD\n",
       "1RgMYM5gg1hY38DANA/JRUyboB6D+OYmEMsj+9t7Gpji/gCm/gDx+wKELMfGBoi3L4BIrn9A4nwC\n",
       "wm5riCxDPlgL+w+gkt8IzWwXoAyIhdwTGBgytyCku2EMe3Cg3P9z5vQlJIfdglAsZ/8fxBLQDA3I\n",
       "HAAuqzvGpJW3TgAAAABJRU5ErkJggg==\n",
       "\" style=\"display:inline;vertical-align:middle;\" /></a>, <a class=\"ProveItLink\" href=\"../__pv_it/demonstrations/a3dbc390b388d1b9e95cca85db1531dc0ee4093f0/expr.ipynb\"><img src=\"data:image/png;base64,iVBORw0KGgoAAAANSUhEUgAAAD0AAAAPBAMAAACl/tp8AAAAMFBMVEX///+6uroyMjLMzMwiIiJm\n",
       "ZmaqqqoQEBB2dnbc3NyYmJhUVFRERESIiIju7u4AAABBACUiAAAAAXRSTlMAQObYZgAAAAlwSFlz\n",
       "AAAOxAAADsQBlSsOGwAAAMtJREFUGNNjYGDgu7N7F2cDAybo9vcGUdfvMbCFLMAiz9BvACTeOAOJ\n",
       "+AnY5NXBxAMgIQ4X43mAkP8NxBzfQCxTuBjzATiT8ReQmO8AYj5GaFoBZ7H+A7nhApwf4gIC/gEw\n",
       "PgtIqz+Gy5ISoIz3IJX1YCaSoxj41AUgjPUg2h/EYjNAkp/UCWXsZ4D5nAPJfhdNMGd6A0MRiJ4P\n",
       "cl8fknYZCHX/AttHsNFAT0ogWc+pAKFlGZ5D4uTp6a0CSNp5oE7hursRW5AzcKJyAVw/L/sFnlv6\n",
       "AAAAAElFTkSuQmCC\n",
       "\" style=\"display:inline;vertical-align:middle;\" /></a>, <a class=\"ProveItLink\" href=\"../__pv_it/demonstrations/282445f46eba81316740103d7281efc100a6d9680/expr.ipynb\"><img src=\"data:image/png;base64,iVBORw0KGgoAAAANSUhEUgAAAEUAAAAPBAMAAABAYB8QAAAAMFBMVEX///8iIiLu7u52dna6uroQ\n",
       "EBBmZmbMzMyqqqqYmJgyMjLc3NxUVFRERESIiIgAAACK51z6AAAAAXRSTlMAQObYZgAAAAlwSFlz\n",
       "AAAOxAAADsQBlSsOGwAAAPtJREFUKM9jYGB4+//O2TsbGDDBm/93GBjOxxaA2L8YGDh/YFHD8BGI\n",
       "exRALPZ/QCIVixL2z0DNDWAm33cg4T8BLnUJxuD7wsBkDWHyfgAS+w3gamphDK4PDMVQJv8FIFF/\n",
       "AK6GE6acfwFnApRZ/wBIzAdJsAmCwTeohL/BewEo8z3Ic+cdEG7lWAGh7R+zwbx7H0R8RfaQVgiY\n",
       "Wj+B+xdU5C/IDT+RlHAv3gCTuF/AAA8eVZC7Ye6RgihhAUr4H0AEzy0kY1guQGhmoATjJ1goMDgm\n",
       "IKnZBaUZgRJ8n0Esnvt/ztzNRnbxdQilc//PAwbT/7exRSQDRhIAAISUSG9UaOjRAAAAAElFTkSu\n",
       "QmCC\n",
       "\" style=\"display:inline;vertical-align:middle;\" /></a> <a class=\"ProveItLink\" href=\"../__pv_it/demonstrations/e5e03916177fefda4958e6be12fde41fc197e4710/proof.ipynb\" style=\"text-decoration: none\">&nbsp;&#x22A2;&nbsp;&nbsp;</a><a class=\"ProveItLink\" href=\"../__pv_it/demonstrations/4b220876541a7cb6a40a0c2d07bb8ba1f7c4aa900/expr.ipynb\"><img src=\"data:image/png;base64,iVBORw0KGgoAAAANSUhEUgAAAIMAAAAOBAMAAAD+nbJTAAAAMFBMVEX///+qqqq6urpmZmbc3Nx2\n",
       "dnbMzMwiIiIyMjLu7u4QEBCYmJhERERUVFSIiIgAAAC1GkgDAAAAAXRSTlMAQObYZgAAAAlwSFlz\n",
       "AAAOxAAADsQBlSsOGwAAAZZJREFUKM9tUj1PAkEQHeC84/MkMZZG/gH6C6SkxMTKmEhjp4ZOLUwo\n",
       "7KWzMrEhNibyByAUxs7cxUJjQbjGyiAHRMEEwZnd2UPumGR25968fTO3OwDQmT5B/f6pAv9tb+oD\n",
       "YOl1aM8BdA7ad0WKR+i3FKTolO4IwpCWN1qOlcb3AsqaKKR/AWgDihKUShYVCNCg5ZElojdBSiIt\n",
       "1fsY9kRYQs+LyOzTaqBrZZZYtgOU2A6ru6j7I8Jt9E0RJV2hjkUiaZbI1uYpeO5AqTcB4iUR5rkM\n",
       "gqI2dWCo69uq+CmJDaV+3mq15UeqCKa8qqzcXgA+lcSJn1Lolji1j5fTld3qNhgVD0Q7AjhjWmzg\n",
       "p7xHepy7RLd4CC5gZQbS/+ZCqtlE30+paSPOjXk0yFaR4YFooUI0x6mUG6RYstfwRE0BvaLe9ED5\n",
       "zIdi06oQLwcpWdsbOpObBLOemU0i2cezxCewnglSDDkLhqumgO7sFDxQ2JWsHXZi1QUUU3R/bf06\n",
       "EWvsMEFODYIF+a0Gq9HJgJ/iwO70AeAP0eyEMKuEtmEAAAAASUVORK5CYII=\n",
       "\" style=\"display:inline;vertical-align:middle;\" /></a></span>"
      ],
      "text/plain": [
       "{A in BOOLEAN, B in BOOLEAN, C in BOOLEAN, D in BOOLEAN, H in BOOLEAN, I in BOOLEAN, J in BOOLEAN, K in BOOLEAN, A or B or C or D, A => H, B => I, C => J, D => K} |- H or I or J or K"
      ]
     },
     "metadata": {},
     "output_type": "display_data"
    }
   ],
   "source": [
    "Or(A, B, C, D).derive_via_dilemma(Or(H, I, J, K), assumptions=[Or(A, B, C, D), Implies(A, H), Implies(B, I), Implies(C, J), Implies(D, K),in_bool(A), in_bool(B), in_bool(C), in_bool(D), in_bool(H), in_bool(I), in_bool(J), in_bool(K)])"
   ]
  },
  {
   "cell_type": "code",
   "execution_count": 26,
   "metadata": {},
   "outputs": [
    {
     "data": {
      "text/html": [
       "<span style=\"font-size:20px;\"><a class=\"ProveItLink\" href=\"../__pv_it/demonstrations/4b220876541a7cb6a40a0c2d07bb8ba1f7c4aa900/expr.ipynb\"><img src=\"data:image/png;base64,iVBORw0KGgoAAAANSUhEUgAAAIMAAAAOBAMAAAD+nbJTAAAAMFBMVEX///+qqqq6urpmZmbc3Nx2\n",
       "dnbMzMwiIiIyMjLu7u4QEBCYmJhERERUVFSIiIgAAAC1GkgDAAAAAXRSTlMAQObYZgAAAAlwSFlz\n",
       "AAAOxAAADsQBlSsOGwAAAZZJREFUKM9tUj1PAkEQHeC84/MkMZZG/gH6C6SkxMTKmEhjp4ZOLUwo\n",
       "7KWzMrEhNibyByAUxs7cxUJjQbjGyiAHRMEEwZnd2UPumGR25968fTO3OwDQmT5B/f6pAv9tb+oD\n",
       "YOl1aM8BdA7ad0WKR+i3FKTolO4IwpCWN1qOlcb3AsqaKKR/AWgDihKUShYVCNCg5ZElojdBSiIt\n",
       "1fsY9kRYQs+LyOzTaqBrZZZYtgOU2A6ru6j7I8Jt9E0RJV2hjkUiaZbI1uYpeO5AqTcB4iUR5rkM\n",
       "gqI2dWCo69uq+CmJDaV+3mq15UeqCKa8qqzcXgA+lcSJn1Lolji1j5fTld3qNhgVD0Q7AjhjWmzg\n",
       "p7xHepy7RLd4CC5gZQbS/+ZCqtlE30+paSPOjXk0yFaR4YFooUI0x6mUG6RYstfwRE0BvaLe9ED5\n",
       "zIdi06oQLwcpWdsbOpObBLOemU0i2cezxCewnglSDDkLhqumgO7sFDxQ2JWsHXZi1QUUU3R/bf06\n",
       "EWvsMEFODYIF+a0Gq9HJgJ/iwO70AeAP0eyEMKuEtmEAAAAASUVORK5CYII=\n",
       "\" style=\"display:inline;vertical-align:middle;\" /></a> <a class=\"ProveItLink\" href=\"../__pv_it/demonstrations/c03e504771534fb516731838a6f93a9abd28f4c70/proof.ipynb\" style=\"text-decoration: none\">&nbsp;&#x22A2;&nbsp;&nbsp;</a><a class=\"ProveItLink\" href=\"../__pv_it/demonstrations/c6ec33b5ac99bfbc2db170ed1f8f959d09e97e400/expr.ipynb\"><img src=\"data:image/png;base64,iVBORw0KGgoAAAANSUhEUgAAADMAAAAQBAMAAABJt1qBAAAAMFBMVEX///9ERESqqqqIiIjc3Nzu\n",
       "7u5mZmaYmJi6uroQEBAyMjLMzMwiIiJUVFR2dnYAAACtOlloAAAAAXRSTlMAQObYZgAAAAlwSFlz\n",
       "AAAOxAAADsQBlSsOGwAAAMdJREFUGNNjYMAENhPXrzzbAGa+PX8WVU6gmWXpDQjz/QY0qXaGJ4wQ\n",
       "5koGDKkiXgjzL1TI8MyZBTApLrAIx3eITJcpQteVOjCL7SuYYlmKcEbw2QdgFs8BMMXlAJfqWfkn\n",
       "FcyKT4BIITvDvCsAxKqHeG/nGSAQgEoxcoBNvA9RG4isi5FBgMHzAcMsiAAPqtQCBnsDph8QAWYD\n",
       "ZCkmA4ZmhsgHUJFFcKk+hsfPGBjYjW/ARGIlwK5isJooDwt5OOiTgQQUBAAA6Js4vcUW30cAAAAA\n",
       "SUVORK5CYII=\n",
       "\" style=\"display:inline;vertical-align:middle;\" /></a></span>"
      ],
      "text/plain": [
       "{H or I or J or K} |- J in BOOLEAN"
      ]
     },
     "metadata": {},
     "output_type": "display_data"
    }
   ],
   "source": [
    "Or(H, I, J, K).deduce_part_in_bool(2, assumptions=[Or(H, I, J, K)])"
   ]
  },
  {
   "cell_type": "markdown",
   "metadata": {},
   "source": [
    "destructive_dilemma"
   ]
  },
  {
   "cell_type": "code",
   "execution_count": 27,
   "metadata": {},
   "outputs": [
    {
     "data": {
      "text/html": [
       "<span style=\"font-size:20px;\"><a class=\"ProveItLink\" href=\"../../__pv_it/theorems/a10dbfd9a4efbb6f30af430036ab01697a9460f80/expr.ipynb\"><img src=\"data:image/png;base64,iVBORw0KGgoAAAANSUhEUgAAADYAAAAQBAMAAACvnpHFAAAAMFBMVEX///8QEBAiIiLu7u5ERES6\n",
       "urqYmJiIiIjMzMx2dnZUVFRmZmaqqqoyMjLc3NwAAABb1yYoAAAAAXRSTlMAQObYZgAAAAlwSFlz\n",
       "AAAOxAAADsQBlSsOGwAAAONJREFUGNNjYACBtwwogF3R96/QUijnPqocAwtrwVurADCT5z+GXALn\n",
       "Awcwk3v9Aww5tgMLwMx58xugFjkp6cLlLoBYfAX1B8BSrNcN4Pq4nk0AG8lwPgHiXAO4mcVFK8Gs\n",
       "GIZ+sBqGewj7dOW1wQo3MLyH2HsByS3sqZdBDvDevR7sXg4hJSUlFagcg0MkkGHOwMCvABJhdkDS\n",
       "x+DAAjaSgUkALKSAIscLdDjQjbwfwELlKHLHGRgegtj/wEK8B+ByEzgrNzCY/L/MwOP/F+wJ5iXB\n",
       "kOC56IKIBxhgnQIJMwgAAIdSN5QgoD0bAAAAAElFTkSuQmCC\n",
       "\" style=\"display:inline;vertical-align:middle;\" /></a>, <a class=\"ProveItLink\" href=\"../__pv_it/theorems/c50b73f2d168f6a3012768bd45c62ea92218bcbc0/expr.ipynb\"><img src=\"data:image/png;base64,iVBORw0KGgoAAAANSUhEUgAAADcAAAAQBAMAAABAXPr7AAAAMFBMVEX///92dnaqqqoiIiLu7u5m\n",
       "Zma6urqIiIjc3NwQEBDMzMwyMjJUVFRERESYmJgAAAAeMT9/AAAAAXRSTlMAQObYZgAAAAlwSFlz\n",
       "AAAOxAAADsQBlSsOGwAAAPNJREFUGNNjYMAGiufu32mTAGK9/X/mzN4FqLIX0jm2HAOz5jIw8PxC\n",
       "k8xjkOAFMTi+MzCwfcWQfMQDYvABdfF9B4uxXza2hktygxg8HxgYuGeAWGzbHRA6TzwEMTgvMLAc\n",
       "Bjuo2wHhIHcbARBj/fXy0w/AQjsQdibv/BwCYtQ3MDDNAwttQHZQXTbInJtALA8ylmuysbGxLUyS\n",
       "lw1k7h8gfl8AJFguIOvkZQByuf4BOefBYWWAKgm0hf0HUMFvsFA5iiQT0DTuCQwMmVvAQtwKcMlE\n",
       "BnFRYBDc/3Pm9CWIEMvZFAijeu59aKwgATZZaPBBAACOK0z+8Z1J0AAAAABJRU5ErkJggg==\n",
       "\" style=\"display:inline;vertical-align:middle;\" /></a>, <a class=\"ProveItLink\" href=\"../__pv_it/demonstrations/dc7d96b1022c0165a0469ead301debeb324b9c180/expr.ipynb\"><img src=\"data:image/png;base64,iVBORw0KGgoAAAANSUhEUgAAADYAAAAQBAMAAACvnpHFAAAAMFBMVEX///+6uroyMjLMzMwiIiJm\n",
       "ZmaqqqoQEBB2dnbc3NyYmJhUVFRERESIiIju7u4AAABBACUiAAAAAXRSTlMAQObYZgAAAAlwSFlz\n",
       "AAAOxAAADsQBlSsOGwAAAOJJREFUGNNjYMACeN0PfSrZCGLx3dm9i7MBRZKH8cKk1wJAxvV7DGwh\n",
       "C9DkFnBMOMDA8MYZyImfgC7HlbCBgUH9AZAjDhG74+KiAJdTYOD4BuKYgqWE7iH0cc9qYJjvAOI8\n",
       "BhGceggz713ZwcDQfwFuC9MEhJxTvesDBn+EK5iQ3cK7UI+hHswBuYfB3AUIDkDlGA5IMPiD2GwG\n",
       "IPINsj6GAzwQn3GARVhQ5ZgY5oPc0gcJxgsocrkMbL8YGCQeQITUEHINHDcCGBient4qABV6fRCi\n",
       "iFf9DDQekIDEEUiYQQAAC/Q/y+C8Q+cAAAAASUVORK5CYII=\n",
       "\" style=\"display:inline;vertical-align:middle;\" /></a>, <a class=\"ProveItLink\" href=\"../__pv_it/demonstrations/be49e688692580141a3851882e8c02185518c0cd0/expr.ipynb\"><img src=\"data:image/png;base64,iVBORw0KGgoAAAANSUhEUgAAADgAAAAQBAMAAACxV6F2AAAAMFBMVEX///8iIiLu7u52dna6uroQ\n",
       "EBBmZmbMzMyqqqqYmJgyMjLc3NxUVFRERESIiIgAAACK51z6AAAAAXRSTlMAQObYZgAAAAlwSFlz\n",
       "AAAOxAAADsQBlSsOGwAAAOtJREFUGNNjYMAG+ERv/Qo8AmK9/X/n7J0NqLK8LA926TiAWL8YGDh/\n",
       "oEtOYN5wAchg/wckUjEkORsOgCz4DiT8J0AsuygoBZdcAGJ8ABL7DUBiLOsU4Dp5doKE+EFm14PM\n",
       "YNilADf20cPDIEb9AyAxH6xzNcJOqXgxkMr3BUDiPNjdC5AcxDdlEZBxH8T7CiLYAwUFBWWhkgwX\n",
       "nIGMv0DM+RMkxHQBSSfDBV6oN1UhwgIoklxQb96CiL1DkexjYOACetMxASLG1QCXNGB+nMDAc//P\n",
       "mbvZUDGms06QgFp6FxoryIDFFhJ8EAAAAWRGcmafPXcAAAAASUVORK5CYII=\n",
       "\" style=\"display:inline;vertical-align:middle;\" /></a>, <a class=\"ProveItLink\" href=\"../__pv_it/theorems/7546205bf26c49b7e0ee36644282bc6169c2384a0/expr.ipynb\"><img src=\"data:image/png;base64,iVBORw0KGgoAAAANSUhEUgAAAHEAAAAVBAMAAACDNRyvAAAAMFBMVEX////MzMxUVFRERES6uroi\n",
       "IiIQEBCYmJhmZmYyMjLu7u52dnaqqqqIiIjc3NwAAACW8nlqAAAAAXRSTlMAQObYZgAAAAlwSFlz\n",
       "AAAOxAAADsQBlSsOGwAAAetJREFUOMuFVD1IHEEU/ozu3e79rKJYBi+nVRrNSQoLfxrtxCsiAbGw\n",
       "sBKEBRstggeKKYRgJ6Q6EO2ExdJGLRTFQiGFVZIFSWXhmRBDwL/33ty6czsHPphv5n37zc6b994u\n",
       "gAC15sKwoC6R3Y+xTedxnSHBKMOpRmwX8t4VLuI6TfLtsdBZCJD1gNSa9u7ZMo4/wimz85bhNYMu\n",
       "wX8geQd8BWzvmUy9byH/AckSe58Y3jFoEjTcE6wA80AiYp0ZvuUUwDMsTpacltCvfEMw5iFRxknE\n",
       "7nEiGujAdfbS5NmSGk2CxgrBtQ/Hw2pUjb8SMkW8g+p5ljxY1XY29xB05JDOqfeLpe/D1YLgG+C7\n",
       "LNa1nR1cskUfyTVMUkzjbCXrIXx8JNgKTMgikgA/KSR0DyEzhekw1lyiItHyi1XCgowkWZMAg7y4\n",
       "pXRUNNqSnQc0RoTJ+E5g7PxDc/KflGDymbYlWp/GoaKKbQijDXdKObcoS5ki+kO65DKb5v6ZU9RF\n",
       "l5ojiSpnH5/boyqg7MxD065Whs1q12kSh240zLe3fbRHdGopvyyLD8q3q59IJHk1+Dvf+0U6bAhW\n",
       "i/E1usVav44Ev1Bt7xrTO5ytjgSfaQwY7GWcMCUuN+EGXhSakkautBv/eWSNv44hwQ/gCd1Ia8pY\n",
       "TdDjAAAAAElFTkSuQmCC\n",
       "\" style=\"display:inline;vertical-align:middle;\" /></a>, <a class=\"ProveItLink\" href=\"../__pv_it/theorems/e0a020e9d252a135566be36c4415c62a49aadfe60/expr.ipynb\"><img src=\"data:image/png;base64,iVBORw0KGgoAAAANSUhEUgAAAD8AAAAQBAMAAABTi7oPAAAAMFBMVEX///8QEBAiIiLu7u5ERES6\n",
       "urqYmJiIiIjMzMx2dnZUVFRmZmaqqqoyMjLc3NwAAABb1yYoAAAAAXRSTlMAQObYZgAAAAlwSFlz\n",
       "AAAOxAAADsQBlSsOGwAAAOdJREFUKM9jYACBtwwEwH1sgswlq5bxTQAzef5jU1BYzMCzKQHM5F7/\n",
       "AFPeRANI7IdIzJvfABdnMYAyLoIYgWAmX0H9AbgCDgcIzfkHRHZDbGA4n4AwOhNCvVcAkRZgdgxD\n",
       "P9ixm5RAQH8DWHB+AULPBob3C5BcdxZsnz7C3ezeu9c7IPv/YgCQlAezwS42Z2DgV0BS8HYe2ARw\n",
       "ADVAbGBgEkC4QekeWBk4BDhBLFagD3g/IAwIgfoC5MjJINZDUOj8g8vzXYDQPN8YGCJBTjD5f5mB\n",
       "x//vBHhIwgLV2mt1ALYo4kPjAwD/cjcLYP+7yQAAAABJRU5ErkJggg==\n",
       "\" style=\"display:inline;vertical-align:middle;\" /></a>, <a class=\"ProveItLink\" href=\"../__pv_it/theorems/f9e8da7d60cac2eb63406fc70f495ff193374a100/expr.ipynb\"><img src=\"data:image/png;base64,iVBORw0KGgoAAAANSUhEUgAAAEIAAAAPBAMAAACivARpAAAAMFBMVEX///92dnaqqqoiIiLu7u5m\n",
       "Zma6urqIiIjc3NwQEBDMzMwyMjJUVFRERESYmJgAAAAeMT9/AAAAAXRSTlMAQObYZgAAAAlwSFlz\n",
       "AAAOxAAADsQBlSsOGwAAAQFJREFUGNNjYGB4+//Mmb0LGDAA+/2/Z+6eADPnMjDw/MJUwcC/gYHh\n",
       "vQKQwfGdgYHtKxYV6wsYGFgnABl8QP183+HivA4wVj3QarZ/QAbPBwYG7hlwFVwXYKz7IAs+AgnO\n",
       "Cwwsh5Fc+hDG+AtS/wdk3fXy0w/AQsHGIGAfADUMZDMfyIz6Bgamecgu1FaA+BbkP55vQOImEMsj\n",
       "hwfLzgSwkz+AfAzyC8im9wVIKrolIMEBcvJ7oP1cIP+cT0C4w3gHIjhY5oKs+wFU9RvJiFyk4OAF\n",
       "BisDN9CmzC0IBRwboIz9wPAyBTn2/p8zpy8hGcELdfTZ/2fOXm3AEhkMHGh8AGBCS2QxgN2uAAAA\n",
       "AElFTkSuQmCC\n",
       "\" style=\"display:inline;vertical-align:middle;\" /></a> <a class=\"ProveItLink\" href=\"../__pv_it/demonstrations/11b784e8d8a983643cc6349bfb45863e995931520/proof.ipynb\" style=\"text-decoration: none\">&nbsp;&#x22A2;&nbsp;&nbsp;</a><a class=\"ProveItLink\" href=\"../__pv_it/theorems/aa683884aae7e310c4d21de2038361566a8cadde0/expr.ipynb\"><img src=\"data:image/png;base64,iVBORw0KGgoAAAANSUhEUgAAAG8AAAAVBAMAAAC6Uq30AAAAMFBMVEX////MzMxUVFRERES6uroi\n",
       "IiIQEBCYmJhmZmYyMjLu7u52dnaqqqqIiIjc3NwAAACW8nlqAAAAAXRSTlMAQObYZgAAAAlwSFlz\n",
       "AAAOxAAADsQBlSsOGwAAAf5JREFUOMuFVD1IW1EYPUl8vvw9zdI5IU6dkm4uVicnxQgKFRwCutgp\n",
       "tEudzCIKdRAKFhw06OQgiLO0XRSlg8HFxZ+gKDoU7c/ioOn57n0vvvteoR+8m5vzzvfdc8/3JQAa\n",
       "MKMD+B+iUpxvfugWaKsHeSdBYFCW7wa0yuc4QEtvtbZ276/8y1dwKkBy0eA0uSRqXKKyRNThGz5C\n",
       "exEoZLAMxCv+xHiB8u2q1JacWEbAOR/hjvBQFR9YwlD15atQ38q2pG/MKPsIM3w/U0d7DQeGffVz\n",
       "seqz7Hf4LCj5/ssU+Cw1kKjgo6EUh6J82/VXnYr4lo8xAawNA6mcru7FALLCmpZ9NANHeZPwuRD5\n",
       "fXokGfYixllyVEIcqeIux489xcnBEmdhUf2sMN6w6U98y0LpMia96zHD6Z4v0G5kFbKCfd2BPpdy\n",
       "QZtpVOonq94biZtAp1yrH3oyVkKJnWTZj5yuskhtJVKtJd7vKsSKFOFJ9RKzlBn9Q6kl9HiJVbQR\n",
       "Tdxz/14hzjt9VMyb3RvgnPORZXvsorZex7WweHu3RckxDadyz5QlqpyqqRa9aIHrzWWkex/YjxEN\n",
       "LLgtKLUoXc18/pMot/pgZcI/v5L5fTjEwJU70WaYcw+Z6GDI3L8OoZeB77FGSJP4vR5KDJZKFvGv\n",
       "Uh3BfwondMCPIHAG/AV5j3HjYGCNggAAAABJRU5ErkJggg==\n",
       "\" style=\"display:inline;vertical-align:middle;\" /></a></span>"
      ],
      "text/plain": [
       "{A in BOOLEAN, B in BOOLEAN, C in BOOLEAN, D in BOOLEAN, [not](C) or [not](D), A => C, B => D} |- [not](A) or [not](B)"
      ]
     },
     "metadata": {},
     "output_type": "display_data"
    }
   ],
   "source": [
    "Or(Not(C), Not(D)).derive_via_dilemma(Or(Not(A), Not(B)), assumptions=[Or(Not(C), Not(D)), Implies(A, C), Implies(B, D), in_bool(A), in_bool(B), in_bool(C), in_bool(D)])"
   ]
  },
  {
   "cell_type": "code",
   "execution_count": 28,
   "metadata": {},
   "outputs": [
    {
     "data": {
      "text/html": [
       "<span style=\"font-size:20px;\"><a class=\"ProveItLink\" href=\"../../__pv_it/theorems/a10dbfd9a4efbb6f30af430036ab01697a9460f80/expr.ipynb\"><img src=\"data:image/png;base64,iVBORw0KGgoAAAANSUhEUgAAADYAAAAQBAMAAACvnpHFAAAAMFBMVEX///8QEBAiIiLu7u5ERES6\n",
       "urqYmJiIiIjMzMx2dnZUVFRmZmaqqqoyMjLc3NwAAABb1yYoAAAAAXRSTlMAQObYZgAAAAlwSFlz\n",
       "AAAOxAAADsQBlSsOGwAAAONJREFUGNNjYACBtwwogF3R96/QUijnPqocAwtrwVurADCT5z+GXALn\n",
       "Awcwk3v9Aww5tgMLwMx58xugFjkp6cLlLoBYfAX1B8BSrNcN4Pq4nk0AG8lwPgHiXAO4mcVFK8Gs\n",
       "GIZ+sBqGewj7dOW1wQo3MLyH2HsByS3sqZdBDvDevR7sXg4hJSUlFagcg0MkkGHOwMCvABJhdkDS\n",
       "x+DAAjaSgUkALKSAIscLdDjQjbwfwELlKHLHGRgegtj/wEK8B+ByEzgrNzCY/L/MwOP/F+wJ5iXB\n",
       "kOC56IKIBxhgnQIJMwgAAIdSN5QgoD0bAAAAAElFTkSuQmCC\n",
       "\" style=\"display:inline;vertical-align:middle;\" /></a>, <a class=\"ProveItLink\" href=\"../__pv_it/theorems/c50b73f2d168f6a3012768bd45c62ea92218bcbc0/expr.ipynb\"><img src=\"data:image/png;base64,iVBORw0KGgoAAAANSUhEUgAAADcAAAAQBAMAAABAXPr7AAAAMFBMVEX///92dnaqqqoiIiLu7u5m\n",
       "Zma6urqIiIjc3NwQEBDMzMwyMjJUVFRERESYmJgAAAAeMT9/AAAAAXRSTlMAQObYZgAAAAlwSFlz\n",
       "AAAOxAAADsQBlSsOGwAAAPNJREFUGNNjYMAGiufu32mTAGK9/X/mzN4FqLIX0jm2HAOz5jIw8PxC\n",
       "k8xjkOAFMTi+MzCwfcWQfMQDYvABdfF9B4uxXza2hktygxg8HxgYuGeAWGzbHRA6TzwEMTgvMLAc\n",
       "Bjuo2wHhIHcbARBj/fXy0w/AQjsQdibv/BwCYtQ3MDDNAwttQHZQXTbInJtALA8ylmuysbGxLUyS\n",
       "lw1k7h8gfl8AJFguIOvkZQByuf4BOefBYWWAKgm0hf0HUMFvsFA5iiQT0DTuCQwMmVvAQtwKcMlE\n",
       "BnFRYBDc/3Pm9CWIEMvZFAijeu59aKwgATZZaPBBAACOK0z+8Z1J0AAAAABJRU5ErkJggg==\n",
       "\" style=\"display:inline;vertical-align:middle;\" /></a>, <a class=\"ProveItLink\" href=\"../__pv_it/demonstrations/dc7d96b1022c0165a0469ead301debeb324b9c180/expr.ipynb\"><img src=\"data:image/png;base64,iVBORw0KGgoAAAANSUhEUgAAADYAAAAQBAMAAACvnpHFAAAAMFBMVEX///+6uroyMjLMzMwiIiJm\n",
       "ZmaqqqoQEBB2dnbc3NyYmJhUVFRERESIiIju7u4AAABBACUiAAAAAXRSTlMAQObYZgAAAAlwSFlz\n",
       "AAAOxAAADsQBlSsOGwAAAOJJREFUGNNjYMACeN0PfSrZCGLx3dm9i7MBRZKH8cKk1wJAxvV7DGwh\n",
       "C9DkFnBMOMDA8MYZyImfgC7HlbCBgUH9AZAjDhG74+KiAJdTYOD4BuKYgqWE7iH0cc9qYJjvAOI8\n",
       "BhGceggz713ZwcDQfwFuC9MEhJxTvesDBn+EK5iQ3cK7UI+hHswBuYfB3AUIDkDlGA5IMPiD2GwG\n",
       "IPINsj6GAzwQn3GARVhQ5ZgY5oPc0gcJxgsocrkMbL8YGCQeQITUEHINHDcCGBient4qABV6fRCi\n",
       "iFf9DDQekIDEEUiYQQAAC/Q/y+C8Q+cAAAAASUVORK5CYII=\n",
       "\" style=\"display:inline;vertical-align:middle;\" /></a>, <a class=\"ProveItLink\" href=\"../__pv_it/demonstrations/be49e688692580141a3851882e8c02185518c0cd0/expr.ipynb\"><img src=\"data:image/png;base64,iVBORw0KGgoAAAANSUhEUgAAADgAAAAQBAMAAACxV6F2AAAAMFBMVEX///8iIiLu7u52dna6uroQ\n",
       "EBBmZmbMzMyqqqqYmJgyMjLc3NxUVFRERESIiIgAAACK51z6AAAAAXRSTlMAQObYZgAAAAlwSFlz\n",
       "AAAOxAAADsQBlSsOGwAAAOtJREFUGNNjYMAG+ERv/Qo8AmK9/X/n7J0NqLK8LA926TiAWL8YGDh/\n",
       "oEtOYN5wAchg/wckUjEkORsOgCz4DiT8J0AsuygoBZdcAGJ8ABL7DUBiLOsU4Dp5doKE+EFm14PM\n",
       "YNilADf20cPDIEb9AyAxH6xzNcJOqXgxkMr3BUDiPNjdC5AcxDdlEZBxH8T7CiLYAwUFBWWhkgwX\n",
       "nIGMv0DM+RMkxHQBSSfDBV6oN1UhwgIoklxQb96CiL1DkexjYOACetMxASLG1QCXNGB+nMDAc//P\n",
       "mbvZUDGms06QgFp6FxoryIDFFhJ8EAAAAWRGcmafPXcAAAAASUVORK5CYII=\n",
       "\" style=\"display:inline;vertical-align:middle;\" /></a>, <a class=\"ProveItLink\" href=\"../__pv_it/demonstrations/fc8440502a70f4288255891a01e1367471bf51bf0/expr.ipynb\"><img src=\"data:image/png;base64,iVBORw0KGgoAAAANSUhEUgAAADkAAAAQBAMAAABelcpIAAAAMFBMVEX///+qqqq6urpmZmbc3Nx2\n",
       "dnbMzMwiIiIyMjLu7u4QEBCYmJhERERUVFSIiIgAAAC1GkgDAAAAAXRSTlMAQObYZgAAAAlwSFlz\n",
       "AAAOxAAADsQBlSsOGwAAAPhJREFUGNNjYMAKnq/p76pVALHe/j/LsHf92Qko0gf0WDovgVk/gHg5\n",
       "muYD2gwhPCAG21cGBpbPmLIbeUEM1k8MDNwfIYJ8x8sr4LIcIAbHBwYGnp9gMaa+CQi9V7aCGPwH\n",
       "GBi4CsBiHhMQrppXGwBi6NfevXvfACzWgrBXveu7JYgRn8DA8F4ALNaA7KrXGiCT+oH4PNhItuXl\n",
       "5eU1MFkeJpDRf6BeZmDgPICsl4cByGX6B/EyCBSgygItYv0G9OYniNg7FFnGBwwM7CDvfoCIcQjA\n",
       "ZVUZ4oIZGOae//uA+fyfBxCL72hCJF+sOQ+NI2TAFAMNSQgAADh6TsOU9uDxAAAAAElFTkSuQmCC\n",
       "\" style=\"display:inline;vertical-align:middle;\" /></a>, <a class=\"ProveItLink\" href=\"../__pv_it/demonstrations/7dd67e7d9e3c14950d28fd01437b45d8b93efa690/expr.ipynb\"><img src=\"data:image/png;base64,iVBORw0KGgoAAAANSUhEUgAAADEAAAAQBAMAAABNQoq8AAAAMFBMVEX///9mZmaYmJiqqqoQEBDc\n",
       "3NwyMjK6urqIiIjMzMwiIiLu7u5UVFRERER2dnYAAAARFyMYAAAAAXRSTlMAQObYZgAAAAlwSFlz\n",
       "AAAOxAAADsQBlSsOGwAAAMZJREFUGNNjYMAAXb75KWsKQKy3/+9sQJG6UMGafRzM+oWm6UIRw1Ne\n",
       "EIPzH6aMMg+IwfEdIsBxa9UyuAwbiMH7Acxnz9iA0HNUD8TgTwDzwzYgXLBjzQMQo74BzE9F2FOV\n",
       "8ksaxHg/AcxPQHZBUxnIhHwwl9Nr1apVa2EyvOwg4/6CudwXkPXwMgC57D8g/AWoMkDD+X5C+B0o\n",
       "MsxAZ3FBvMPAZgCXqWN48ZCBYc/9Pw8gFp2thki0+d6HhjUMsL+Fhg4EAABKD0QStawMHQAAAABJ\n",
       "RU5ErkJggg==\n",
       "\" style=\"display:inline;vertical-align:middle;\" /></a>, <a class=\"ProveItLink\" href=\"../__pv_it/demonstrations/c6ec33b5ac99bfbc2db170ed1f8f959d09e97e400/expr.ipynb\"><img src=\"data:image/png;base64,iVBORw0KGgoAAAANSUhEUgAAADMAAAAQBAMAAABJt1qBAAAAMFBMVEX///9ERESqqqqIiIjc3Nzu\n",
       "7u5mZmaYmJi6uroQEBAyMjLMzMwiIiJUVFR2dnYAAACtOlloAAAAAXRSTlMAQObYZgAAAAlwSFlz\n",
       "AAAOxAAADsQBlSsOGwAAAMdJREFUGNNjYMAENhPXrzzbAGa+PX8WVU6gmWXpDQjz/QY0qXaGJ4wQ\n",
       "5koGDKkiXgjzL1TI8MyZBTApLrAIx3eITJcpQteVOjCL7SuYYlmKcEbw2QdgFs8BMMXlAJfqWfkn\n",
       "FcyKT4BIITvDvCsAxKqHeG/nGSAQgEoxcoBNvA9RG4isi5FBgMHzAcMsiAAPqtQCBnsDph8QAWYD\n",
       "ZCkmA4ZmhsgHUJFFcKk+hsfPGBjYjW/ARGIlwK5isJooDwt5OOiTgQQUBAAA6Js4vcUW30cAAAAA\n",
       "SUVORK5CYII=\n",
       "\" style=\"display:inline;vertical-align:middle;\" /></a>, <a class=\"ProveItLink\" href=\"../__pv_it/demonstrations/40a7f5db52e4ab4f7bfdb8bea1462f70a48d83c50/expr.ipynb\"><img src=\"data:image/png;base64,iVBORw0KGgoAAAANSUhEUgAAADkAAAAQBAMAAABelcpIAAAAMFBMVEX///9mZmYyMjLc3Ny6urqY\n",
       "mJh2dnbu7u6qqqoiIiLMzMwQEBBERERUVFSIiIgAAAAfhm4EAAAAAXRSTlMAQObYZgAAAAlwSFlz\n",
       "AAAOxAAADsQBlSsOGwAAAPVJREFUGNNjYMAKXu7R157rAGK9/X+WgeH+ngUo0gf8mNWvgFk/gbi3\n",
       "AFXzAVeGZB4Qg+sbAwNrAwOGbAQviMH3hYE9GSrId3LmJLgsE4jB9IFhGVSSRa8AofdyGIjBr8Aq\n",
       "ABUzKkC4qm5uAojhn/B+AlRMGWGvp/ZPcRAj/xnjD6iYArKrnjqBTNIPYP4EEeLaOXPmzDkwWR4W\n",
       "kNF/GBjOQ4KC/QCyXh4GIJflH9DqCxCxCaiyQIvYfjEwcH6HiL1DkeV4AJT5AAyEbxAxJniQHXBj\n",
       "yEtkYKg9//cBQ/b/wxCL77hDJB/tOQ+NI2TAkgMNSQgAAHe6Sjya8Cb4AAAAAElFTkSuQmCC\n",
       "\" style=\"display:inline;vertical-align:middle;\" /></a>, <a class=\"ProveItLink\" href=\"../__pv_it/demonstrations/aa086096f72148a76bedc97c6cffe6d7addbab5a0/expr.ipynb\"><img src=\"data:image/png;base64,iVBORw0KGgoAAAANSUhEUgAAAPsAAAAVBAMAAAByEoVnAAAAMFBMVEX///8AAAAAAAAAAAAAAAAA\n",
       "AAAAAAAAAAAAAAAAAAAAAAAAAAAAAAAAAAAAAAAAAAAv3aB7AAAAD3RSTlMAInZUiRDNmWbv3US7\n",
       "qzJazP2FAAAACXBIWXMAAA7EAAAOxAGVKw4bAAADSElEQVRIx52WTWgTQRTH//ncZJOmQURRlMZ6\n",
       "6UFpD2KpB42Ix9LQg6BUSA+FFgRTKlg/DsGDvSgtgl70ECh+oFCKnvTS6EFBbJuLXmxM8ChK2grF\n",
       "j2p8b3Y3OzNbbHRhh52X3/zfzPvILoAk1MsHbGZJYlNLs4i/SzZtA2IpndurGx7rBlXkX5ADiuks\n",
       "3R0aFkg3HiOLv8rvFuDPa4gs0j9fzm/9K7KvPr80nxRIKKt4qtMQztDQwkNCBOKEBESLQKWKISiI\n",
       "LOK/kUH3A1jIWx4+QkOwRgf5KhBD2aVRoYREcnxOlo1X2TguAW1knsthAgoiiYRek8FYgYVc4WEB\n",
       "KoLEKg0XBBJVInS0j9Vu8mPBqgS6piRgkn6fTCGaURBJJMyLY7REICYXblZD4P9Nw1yekYNKiac6\n",
       "uUCG+fkY3WMiIXLYKnSPJBHOK4gk0scCCYqfQII0M7o0BPFljmOakXNK7HGEF/XaPSCOByMtEXeA\n",
       "0zMkW1IQV8T3Q2SgaiN8chMqArRSAaFWYmRYdv8ENfZ1VRRWFX5ReWE5a+vt+3lFJKsgrkhwtdEk\n",
       "AvkAtENFyDMvmkwzMk3He8gX11sObbznHuGpBFNk2KTgXWTiPmWNaqqHthOYUhBXxFxpNJFAvgB3\n",
       "oSJAJxdYZZaR207UyK//1fmKiIuwDKLb6rVZG9lNWSPNIBVOYllBXJGo+CEEBwknAzkNARb54btA\n",
       "ZHM/pYVz+dT+nxj0uG8lKrJqlbaEuCKmcHoYDhJIh5Me9+ucm28CmZbMtE+TFx0SFjNRhBN8x32N\n",
       "At/yk1QLCuKKGCL4XEA2UvgMDbHa/mRRIC8ccw4x0g7z7q9Z3XndOnbceQdsp6zRUWpUU5Gigrgi\n",
       "PpYOckHYSMd7aIjV9i8tpNctyB3sa6XRJKF7djGXXGSEInYr02hGB5FEqHNjx6V+PZX1IHzEZzkL\n",
       "+dSwDtSHEFhco1WPLMOY3WyFBrJUL5fPcC7MWQVxRRC6XL5kJcZCjC4daaHX1ptRGzGr3td7QZ3P\n",
       "eAjsVKcbiDSJRHIeq6G9Kye8C8fV6QYizSLPPdZd2jzu+U7xFTWDV6RZZMBj1sGQruTdkFekWcSn\n",
       "f1v5PYfdohv2eA6S+j/kDyHr64cYQcgOAAAAAElFTkSuQmCC\n",
       "\" style=\"display:inline;vertical-align:middle;\" /></a>, <a class=\"ProveItLink\" href=\"../__pv_it/demonstrations/6821ad278984ee2099e014cf8f60ac57cb1fed570/expr.ipynb\"><img src=\"data:image/png;base64,iVBORw0KGgoAAAANSUhEUgAAAEMAAAAQBAMAAAC//t8ZAAAAMFBMVEX///8QEBAiIiLu7u5ERES6\n",
       "urqYmJiIiIjMzMx2dnZUVFRmZmaqqqoyMjLc3NwAAABb1yYoAAAAAXRSTlMAQObYZgAAAAlwSFlz\n",
       "AAAOxAAADsQBlSsOGwAAAO5JREFUKM9jYACBtwwEwX1sglX/vRiy5L0MwBye/1g1/gViISibe/0D\n",
       "LCo4fjIw8P2GcubNb0DIOMMYnF8ZGNj+QNh8BfUHEEpaYAzeDwwMLJ+h9jCcT0AoYZsAZfA7MDAw\n",
       "KkDYMQz9YGFuJTCAWR+vtWrV+g0Q9gaG9wuQnMlzB0KDHAh1Abv37vUOyF6xFYUHlj8kVMyB1iog\n",
       "qeC7CQmCL9CgAdvDwCSA5BZdiArW75CgATETIP6DAVaopZw/gG74CmY+BGKWfwglsChlAgULWKvJ\n",
       "/8sMPP5/J8CVeEAoK/9fBdz+XwqwRR5GdAEAxi8+YrT35FoAAAAASUVORK5CYII=\n",
       "\" style=\"display:inline;vertical-align:middle;\" /></a>, <a class=\"ProveItLink\" href=\"../__pv_it/demonstrations/a2e70ede332c240231a12ffa62a4f9eb1d7b108c0/expr.ipynb\"><img src=\"data:image/png;base64,iVBORw0KGgoAAAANSUhEUgAAADwAAAAPBAMAAABKPLFCAAAAMFBMVEX///92dnaqqqoiIiLu7u5m\n",
       "Zma6urqIiIjc3NwQEBDMzMwyMjJUVFRERESYmJgAAAAeMT9/AAAAAXRSTlMAQObYZgAAAAlwSFlz\n",
       "AAAOxAAADsQBlSsOGwAAANVJREFUGNNjYGB4+//Mmb0LGDAA4/2/R0D0XAYGnl+Y0gz8BiCS4zsD\n",
       "A9tXLNLrBUAkH1An33e44BU4qz4BRPJ8YGDgngEXXAtn3QeTnBcYWA4jnMYnAGP9hlhxvfz0AxCD\n",
       "1RgMYM5gg1hY38DANA/JRUyboB6D+OYmEMsj+9t7Gpji/gCm/gDx+wKELMfGBoi3L4BIrn9A4nwC\n",
       "wm5riCxDPlgL+w+gkt8IzWwXoAyIhdwTGBgytyCku2EMe3Cg3P9z5vQlJIfdglAsZ/8fxBLQDA3I\n",
       "HAAuqzvGpJW3TgAAAABJRU5ErkJggg==\n",
       "\" style=\"display:inline;vertical-align:middle;\" /></a>, <a class=\"ProveItLink\" href=\"../__pv_it/demonstrations/a3dbc390b388d1b9e95cca85db1531dc0ee4093f0/expr.ipynb\"><img src=\"data:image/png;base64,iVBORw0KGgoAAAANSUhEUgAAAD0AAAAPBAMAAACl/tp8AAAAMFBMVEX///+6uroyMjLMzMwiIiJm\n",
       "ZmaqqqoQEBB2dnbc3NyYmJhUVFRERESIiIju7u4AAABBACUiAAAAAXRSTlMAQObYZgAAAAlwSFlz\n",
       "AAAOxAAADsQBlSsOGwAAAMtJREFUGNNjYGDgu7N7F2cDAybo9vcGUdfvMbCFLMAiz9BvACTeOAOJ\n",
       "+AnY5NXBxAMgIQ4X43mAkP8NxBzfQCxTuBjzATiT8ReQmO8AYj5GaFoBZ7H+A7nhApwf4gIC/gEw\n",
       "PgtIqz+Gy5ISoIz3IJX1YCaSoxj41AUgjPUg2h/EYjNAkp/UCWXsZ4D5nAPJfhdNMGd6A0MRiJ4P\n",
       "cl8fknYZCHX/AttHsNFAT0ogWc+pAKFlGZ5D4uTp6a0CSNp5oE7hursRW5AzcKJyAVw/L/sFnlv6\n",
       "AAAAAElFTkSuQmCC\n",
       "\" style=\"display:inline;vertical-align:middle;\" /></a>, <a class=\"ProveItLink\" href=\"../__pv_it/demonstrations/282445f46eba81316740103d7281efc100a6d9680/expr.ipynb\"><img src=\"data:image/png;base64,iVBORw0KGgoAAAANSUhEUgAAAEUAAAAPBAMAAABAYB8QAAAAMFBMVEX///8iIiLu7u52dna6uroQ\n",
       "EBBmZmbMzMyqqqqYmJgyMjLc3NxUVFRERESIiIgAAACK51z6AAAAAXRSTlMAQObYZgAAAAlwSFlz\n",
       "AAAOxAAADsQBlSsOGwAAAPtJREFUKM9jYGB4+//O2TsbGDDBm/93GBjOxxaA2L8YGDh/YFHD8BGI\n",
       "exRALPZ/QCIVixL2z0DNDWAm33cg4T8BLnUJxuD7wsBkDWHyfgAS+w3gamphDK4PDMVQJv8FIFF/\n",
       "AK6GE6acfwFnApRZ/wBIzAdJsAmCwTeohL/BewEo8z3Ic+cdEG7lWAGh7R+zwbx7H0R8RfaQVgiY\n",
       "Wj+B+xdU5C/IDT+RlHAv3gCTuF/AAA8eVZC7Ye6RgihhAUr4H0AEzy0kY1guQGhmoATjJ1goMDgm\n",
       "IKnZBaUZgRJ8n0Esnvt/ztzNRnbxdQilc//PAwbT/7exRSQDRhIAAISUSG9UaOjRAAAAAElFTkSu\n",
       "QmCC\n",
       "\" style=\"display:inline;vertical-align:middle;\" /></a> <a class=\"ProveItLink\" href=\"../__pv_it/demonstrations/dbfc689f56fce607b5ffeff7cf30c43baf7d2ca00/proof.ipynb\" style=\"text-decoration: none\">&nbsp;&#x22A2;&nbsp;&nbsp;</a><a class=\"ProveItLink\" href=\"../__pv_it/demonstrations/c1dc1742c31231fd153460baf92f1358aad22c150/expr.ipynb\"><img src=\"data:image/png;base64,iVBORw0KGgoAAAANSUhEUgAAAPcAAAAVBAMAAABoLmXpAAAAMFBMVEX////MzMxUVFRERES6uroi\n",
       "IiIQEBCYmJhmZmYyMjLu7u52dnaqqqqIiIjc3NwAAACW8nlqAAAAAXRSTlMAQObYZgAAAAlwSFlz\n",
       "AAAOxAAADsQBlSsOGwAAAoBJREFUSMeVlr2LE0EYxp98bHbzseuiWImwHtrYXLze5P4BuUO4Qrki\n",
       "oFZXGK6yOUhnoWA6weIueNgHBSvRYKVYuFxjIXppLOyiycF9Eudrk9l3IGMWZnfmfX7z7JPZnSUA\n",
       "+qCHrWKd8d+Wfs+o36IFwth0O5AwX6bjvfESNh8udfwmATXmzXi2jvK1g2gWwG+CxXshZ0ptjTli\n",
       "7QFrL/gg22GnTAzCHCT6dX66DKqj/Mdu8LEjGE8LmTkBgkPWecRHLp+WC2EyUt/ipxsgOlBsWA3c\n",
       "njQp6JlHrH7KOgWeGaus/eYdnfFHie6wFrSpDpyLbAal95Amn/XMA5b0mHdE0nesPeUdnckNEr3M\n",
       "4ns9qgMrzZkG7CaXZKeJJ3rmKsvD45YjqNB8lGbaic5/tQOqA886FgO3Jdc5wnM98+2FhUWuuGI1\n",
       "syF8/tjSTDzRrwA/QHVgzWLQ3ReBOLPO1m6NH+ymH9jLsc8XstIQr0YERzw7yij9PHAXVEfp0GLw\n",
       "3TsVsxhzXwUK2ELtsGtd7I+BqG3jk7hSRunFfqVl6HBHFoNmcARloteHaqsj31Cfhm1j7nCqV7rF\n",
       "vnnz7MBqUA+Vyfq0nj9T2xgV+VScTDVZVp2Z6KsXQPRgA4W21WAlUiY3k3pLfJrENoYr5/iby+JK\n",
       "mIn+7SqI7p/h67LVwDlWJq+n76EzUNsYXlcUSnekQJiJ/qpN9Xxc2rAb+CeKuTgpv6z/jb36kO8N\n",
       "RwaWXwikme5U93pUx9aekGYZxHg7rknGCWEev9JDg7HpdkAy6nOTPh6nhwZj0+2AYmpmOaiSQm0+\n",
       "3Q4kzK5Zz9E/Pbvz6XYgYYLYqP80UsZz6XZAMv8AV/jhJv9IxGMAAAAASUVORK5CYII=\n",
       "\" style=\"display:inline;vertical-align:middle;\" /></a></span>"
      ],
      "text/plain": [
       "{A in BOOLEAN, B in BOOLEAN, C in BOOLEAN, D in BOOLEAN, H in BOOLEAN, I in BOOLEAN, J in BOOLEAN, K in BOOLEAN, [not](A) or [not](B) or [not](C) or [not](D), A => H, B => I, C => J, D => K} |- [not](H) or [not](I) or [not](J) or [not](K)"
      ]
     },
     "metadata": {},
     "output_type": "display_data"
    }
   ],
   "source": [
    "Or(Not(A), Not(B), Not(C), Not(D)).derive_via_dilemma(Or(Not(H), Not(I), Not(J), Not(K)), assumptions=[Or(Not(A), Not(B), Not(C), Not(D)),Implies(A,H), Implies(B,I), Implies(C,J), Implies(D,K),in_bool(A), in_bool(B), in_bool(C), in_bool(D), in_bool(H), in_bool(I), in_bool(J), in_bool(K)])"
   ]
  },
  {
   "cell_type": "code",
   "execution_count": 29,
   "metadata": {},
   "outputs": [
    {
     "data": {
      "text/html": [
       "<span style=\"font-size:20px;\"><a class=\"ProveItLink\" href=\"../__pv_it/theorems/88b090a35cddd0f3ea45e2fff303d7d3770a7d390/expr.ipynb\"><img src=\"data:image/png;base64,iVBORw0KGgoAAAANSUhEUgAAAFYAAAAVBAMAAAAutAQGAAAAMFBMVEX////MzMxERES6uroQEBCY\n",
       "mJgyMjLu7u52dnaqqqqIiIhUVFTc3NwiIiJmZmYAAAAM3gM0AAAAAXRSTlMAQObYZgAAAAlwSFlz\n",
       "AAAOxAAADsQBlSsOGwAAAYVJREFUKM99UjtIQmEUPlreq3a9SWMN6h7YUHPRUKs0NDRUhEFbTi0R\n",
       "tLdIuEYROGRDL6jBwUtTGJRS0FS4BIEUZRSVhZ2H8f9K3APn+X/3PC+AIgtcqO1xR4Kz/2I7tnQv\n",
       "sMrKeG4F+eL1/HEMIKsHl0RtMvaERC8HOqMAhTAYKQ17L6r6TXKKRIwDl1h9uAK+ioYdYek/eyEV\n",
       "Up3PhJERP661Ky/F4Cd/kgaw0xwpICcdgHmFtWW0SuDtbxsheRgFWC6jXlNYI8GrSXs+2D0AyLHh\n",
       "qeV2OeUkPN4i3VGHXNEGq86QPoAbNoI4a4byZCTnOa1mgKztp2pNyjgBGdyLM/tp3kgb1sR5f5qX\n",
       "MRw2uvfxHl9oDCos92AjX0us1CM6gvW7XtHYEP+CatHBh5AXJZY9Er2H6SO0zwm1Bz/Wsugecam9\n",
       "0vyHkricMbrvg8J6SmDG31Ow3liQfcslDhv5/BybV9qNy+BKVklzpt2xdkJzvI4r9lR3zKgrtr/F\n",
       "K7pBgw78ApGcXgWuVARTAAAAAElFTkSuQmCC\n",
       "\" style=\"display:inline;vertical-align:middle;\" /></a> <a class=\"ProveItLink\" href=\"../__pv_it/demonstrations/654f0795c405c8b2d7f4fe8f987285daff1aa1420/proof.ipynb\" style=\"text-decoration: none\">&nbsp;&#x22A2;&nbsp;&nbsp;</a><a class=\"ProveItLink\" href=\"../../__pv_it/theorems/c6244e76de3be0816f3efc36199d65e50f6589940/expr.ipynb\"><img src=\"data:image/png;base64,iVBORw0KGgoAAAANSUhEUgAAABwAAAAPBAMAAAAFYbKSAAAAMFBMVEX///8QEBDu7u5ERES6urqY\n",
       "mJiIiIjMzMx2dnaqqqoyMjJUVFTc3NwiIiJmZmYAAABGfvnsAAAAAXRSTlMAQObYZgAAAAlwSFlz\n",
       "AAAOxAAADsQBlSsOGwAAAGtJREFUCNdjYEAAngUMyIDrAwp3Pir39R9kHseJ78jcY2w/kbkPOL8i\n",
       "8VgmsP9gYHh7FwjuAbl8DDy/oTKngTj53evPCC5TAgPDXwSXD0hdhHLPMTC4Aqn1COcLAAn7A1Ae\n",
       "k/0vBYbJ/1cAADCoIK4mExe8AAAAAElFTkSuQmCC\n",
       "\" style=\"display:inline;vertical-align:middle;\" /></a></span>"
      ],
      "text/plain": [
       "{[not](A or B)} |- [not](A)"
      ]
     },
     "metadata": {},
     "output_type": "display_data"
    }
   ],
   "source": [
    "Not(A).prove(assumptions=[Not(Or(A, B))])"
   ]
  },
  {
   "cell_type": "code",
   "execution_count": 30,
   "metadata": {},
   "outputs": [
    {
     "data": {
      "text/html": [
       "<span style=\"font-size:20px;\"><a class=\"ProveItLink\" href=\"../__pv_it/theorems/88b090a35cddd0f3ea45e2fff303d7d3770a7d390/expr.ipynb\"><img src=\"data:image/png;base64,iVBORw0KGgoAAAANSUhEUgAAAFYAAAAVBAMAAAAutAQGAAAAMFBMVEX////MzMxERES6uroQEBCY\n",
       "mJgyMjLu7u52dnaqqqqIiIhUVFTc3NwiIiJmZmYAAAAM3gM0AAAAAXRSTlMAQObYZgAAAAlwSFlz\n",
       "AAAOxAAADsQBlSsOGwAAAYVJREFUKM99UjtIQmEUPlreq3a9SWMN6h7YUHPRUKs0NDRUhEFbTi0R\n",
       "tLdIuEYROGRDL6jBwUtTGJRS0FS4BIEUZRSVhZ2H8f9K3APn+X/3PC+AIgtcqO1xR4Kz/2I7tnQv\n",
       "sMrKeG4F+eL1/HEMIKsHl0RtMvaERC8HOqMAhTAYKQ17L6r6TXKKRIwDl1h9uAK+ioYdYek/eyEV\n",
       "Up3PhJERP661Ky/F4Cd/kgaw0xwpICcdgHmFtWW0SuDtbxsheRgFWC6jXlNYI8GrSXs+2D0AyLHh\n",
       "qeV2OeUkPN4i3VGHXNEGq86QPoAbNoI4a4byZCTnOa1mgKztp2pNyjgBGdyLM/tp3kgb1sR5f5qX\n",
       "MRw2uvfxHl9oDCos92AjX0us1CM6gvW7XtHYEP+CatHBh5AXJZY9Er2H6SO0zwm1Bz/Wsugecam9\n",
       "0vyHkricMbrvg8J6SmDG31Ow3liQfcslDhv5/BybV9qNy+BKVklzpt2xdkJzvI4r9lR3zKgrtr/F\n",
       "K7pBgw78ApGcXgWuVARTAAAAAElFTkSuQmCC\n",
       "\" style=\"display:inline;vertical-align:middle;\" /></a> <a class=\"ProveItLink\" href=\"../__pv_it/demonstrations/a4d25beb8fb11c9a7ccba4e101d53bb31cda0d590/proof.ipynb\" style=\"text-decoration: none\">&nbsp;&#x22A2;&nbsp;&nbsp;</a><a class=\"ProveItLink\" href=\"../__pv_it/theorems/8552c6321b312c5e15a5015adce4a756ce05da420/expr.ipynb\"><img src=\"data:image/png;base64,iVBORw0KGgoAAAANSUhEUgAAAB0AAAAOBAMAAAAh/woJAAAAMFBMVEX///92dnaqqqru7u66urqI\n",
       "iIgQEBDMzMwyMjJERESYmJhUVFTc3NwiIiJmZmYAAABFA9caAAAAAXRSTlMAQObYZgAAAAlwSFlz\n",
       "AAAOxAAADsQBlSsOGwAAAIJJREFUCNdjYIACrvm/d++YzoAAbBMYGPYXIPjnAxgY/B8g+OuBcusD\n",
       "EPz9QNx2AMHPZGCwvo7gsv8Mje4C0m/vAsE9BgbWPwwMagugkqcZGDgTGBgYvyP4/BuAbvqK4NcD\n",
       "1XJ/gfLPMTDEA62qb0CY38bAwJJhAOfu/L97d6cCAwMA4AYmI2pVDVkAAAAASUVORK5CYII=\n",
       "\" style=\"display:inline;vertical-align:middle;\" /></a></span>"
      ],
      "text/plain": [
       "{[not](A or B)} |- [not](B)"
      ]
     },
     "metadata": {},
     "output_type": "display_data"
    }
   ],
   "source": [
    "Not(B).prove(assumptions=[Not(Or(A, B))])"
   ]
  },
  {
   "cell_type": "code",
   "execution_count": 31,
   "metadata": {},
   "outputs": [
    {
     "data": {
      "text/html": [
       "<strong id=\"reduction\">reduction:</strong> <span style=\"font-size:20px;\"><a class=\"ProveItLink\" href=\"../../__pv_it/theorems/a10dbfd9a4efbb6f30af430036ab01697a9460f80/expr.ipynb\"><img src=\"data:image/png;base64,iVBORw0KGgoAAAANSUhEUgAAADYAAAAQBAMAAACvnpHFAAAAMFBMVEX///8QEBAiIiLu7u5ERES6\n",
       "urqYmJiIiIjMzMx2dnZUVFRmZmaqqqoyMjLc3NwAAABb1yYoAAAAAXRSTlMAQObYZgAAAAlwSFlz\n",
       "AAAOxAAADsQBlSsOGwAAAONJREFUGNNjYACBtwwogF3R96/QUijnPqocAwtrwVurADCT5z+GXALn\n",
       "Awcwk3v9Aww5tgMLwMx58xugFjkp6cLlLoBYfAX1B8BSrNcN4Pq4nk0AG8lwPgHiXAO4mcVFK8Gs\n",
       "GIZ+sBqGewj7dOW1wQo3MLyH2HsByS3sqZdBDvDevR7sXg4hJSUlFagcg0MkkGHOwMCvABJhdkDS\n",
       "x+DAAjaSgUkALKSAIscLdDjQjbwfwELlKHLHGRgegtj/wEK8B+ByEzgrNzCY/L/MwOP/F+wJ5iXB\n",
       "kOC56IKIBxhgnQIJMwgAAIdSN5QgoD0bAAAAAElFTkSuQmCC\n",
       "\" style=\"display:inline;vertical-align:middle;\" /></a> <a class=\"ProveItLink\" href=\"../__pv_it/demonstrations/da88826c7389bf4b6ebfcecbc172f06bf0c1c88e0/proof.ipynb\" style=\"text-decoration: none\">&nbsp;&#x22A2;&nbsp;&nbsp;</a><a class=\"ProveItLink\" href=\"../__pv_it/theorems/a96c8c7b8f678d2ed3614abc517e08529c1242440/expr.ipynb\"><img src=\"data:image/png;base64,iVBORw0KGgoAAAANSUhEUgAAAGUAAAAVBAMAAACtcD09AAAAMFBMVEX///8QEBBmZmaqqqoyMjLc\n",
       "3NxERESYmJju7u5UVFS6urp2dnbMzMwiIiKIiIgAAAAAGtWAAAAAAXRSTlMAQObYZgAAAAlwSFlz\n",
       "AAAOxAAADsQBlSsOGwAAAZhJREFUOMtjeHuHAQKgDFYGGAhgwAV2obEeQ3Q6MDCsw6o+BFMP8wYw\n",
       "m+UDAwNfATY9/mCVnA1AiucBRE8LRMYeqIfBA4sW5v9gPewPgBTbAYgedYiU5lcgUYRFD9P8ALCL\n",
       "LkCcCdYjAJbhjv4DJBkbMPVs3X8ArHIzkK0M0cPsAJaJ4/sM8hSmh1gfvDcAqwQFxQWIHiZIECgw\n",
       "fwfZNgHTaQz2BWCVnAcY+B5A9ECM5jLg+Q2k2EGWMt0FA6j2xQznN4BV8kxg4G2A6OE1gJjG+hPk\n",
       "UAEMexQY4idAVLoyGEHjh3EBSOaZkuY3UPh/QNfCl6Q0PwGi0hqoC0kPB9Chf0FOxLCnj4GBH+pz\n",
       "Xp4EBiS3MQHxRZDbLqD7RwGoQgCikq9yAVQPGyh+l0OTCHsCmjVcBZBUBVLJcQWW3kDBywpyUn4A\n",
       "POARIBBk6ldo7CvD9PBcYODI/9LAYPbfG+iMBaha2v57MDDnf9mAnq7vIKmJJTL/IKdLdSL1sCFy\n",
       "J2sCkXo4EArZcGbuvfDyQAqSpOEyT3FpAQDRJXZ4XBXsSgAAAABJRU5ErkJggg==\n",
       "\" style=\"display:inline;vertical-align:middle;\" /></a></span><br>"
      ],
      "text/plain": [
       "<IPython.core.display.HTML object>"
      ]
     },
     "metadata": {},
     "output_type": "display_data"
    }
   ],
   "source": [
    "reduction = Or(A).unary_reduction(assumptions=[in_bool(A)])"
   ]
  },
  {
   "cell_type": "code",
   "execution_count": 32,
   "metadata": {},
   "outputs": [
    {
     "data": {
      "text/html": [
       "<span style=\"font-size:20px;\"><a class=\"ProveItLink\" href=\"../__pv_it/demonstrations/a8b1b8a60b3069dfb78b4a951641b03386f8ad070/expr.ipynb\"><img src=\"data:image/png;base64,iVBORw0KGgoAAAANSUhEUgAAAJMAAAAVBAMAAACwIsHjAAAAMFBMVEX////MzMxUVFRERES6uroi\n",
       "IiIQEBCYmJhmZmYyMjLu7u52dnaqqqqIiIjc3NwAAACW8nlqAAAAAXRSTlMAQObYZgAAAAlwSFlz\n",
       "AAAOxAAADsQBlSsOGwAAAlZJREFUOMuVVU1oE0EU/jbJJtltsu7Fc8uqh17MIlQ8WNOLFf+gVIMI\n",
       "HgpRhIIS7EkULOhBtIeAUCGgXeg5EPQiom09KJUe3IsUD6UFQRAPxkLRHtI4897uZndD0AzM7Lxv\n",
       "5n3z5ntvdwFsob9m9FzJr9Dj+39TpdwY8Lm8MD85JiZrbC/E1mfalvXEjIH1I1blB9bj5PZ5o3YQ\n",
       "0Ktk5dpyTDhiUPjUsjB/RbH8DQerl6A5capTWEoC2QpZ2YKULCM9khSL0RJX+RPB9BExZveQme2m\n",
       "upsA0mwtLRPBRKBaRkSUaUUwbVoqNQVMeyqPlC4HVBrwkbPibpL6b0SfIyTRFL43I9iy3KKIkJ6y\n",
       "/M+cTlSH7wCP+X74VPHzOEFI2oZ+yAxjxo60dIG94Jw7Hdnrkw3/hHMYbFAsJvKs+uDoxjDL6GMD\n",
       "Ld/1No3PO1qdnN95BFwhYxY/h+RTGYLKh21uIXcdYUzd810/0FgNy75+2sFVEvDYw4LtHbXKy0el\n",
       "OGYYSzfpgjJiOuFaqVS64FMlUw2mqgP7WKI1P+5t0e+5YUwlqneijxOnHY4qCZsvKLKiThGqKrxD\n",
       "+S2GwlgYy9IFpaTvgSA9AVUVozKtQl+tybVyi93zwk/ZRRiTRYsBqdoMwRsRqpxLif0m65lF1bno\n",
       "oIkgx2uIYKJeUq/lhAtIWwmozuLtK2A/sNiuIVfcpWrwC7S4bQ0f97fOeZT3rQc0ucjmgTOMfykX\n",
       "6cugmui3GZ5KqZfei+O1rnfz3837AnS3E31Tfe21sNg3Vc/DDbdPpnyPn8FfiYaUU9FMbSIAAAAA\n",
       "SUVORK5CYII=\n",
       "\" style=\"display:inline;vertical-align:middle;\" /></a> <a class=\"ProveItLink\" href=\"../__pv_it/demonstrations/7bfb58b6cd8163a2086174a39acda87446bae27f0/proof.ipynb\" style=\"text-decoration: none\">&nbsp;&#x22A2;&nbsp;&nbsp;</a><a class=\"ProveItLink\" href=\"../__pv_it/theorems/c50b73f2d168f6a3012768bd45c62ea92218bcbc0/expr.ipynb\"><img src=\"data:image/png;base64,iVBORw0KGgoAAAANSUhEUgAAADcAAAAQBAMAAABAXPr7AAAAMFBMVEX///92dnaqqqoiIiLu7u5m\n",
       "Zma6urqIiIjc3NwQEBDMzMwyMjJUVFRERESYmJgAAAAeMT9/AAAAAXRSTlMAQObYZgAAAAlwSFlz\n",
       "AAAOxAAADsQBlSsOGwAAAPNJREFUGNNjYMAGiufu32mTAGK9/X/mzN4FqLIX0jm2HAOz5jIw8PxC\n",
       "k8xjkOAFMTi+MzCwfcWQfMQDYvABdfF9B4uxXza2hktygxg8HxgYuGeAWGzbHRA6TzwEMTgvMLAc\n",
       "Bjuo2wHhIHcbARBj/fXy0w/AQjsQdibv/BwCYtQ3MDDNAwttQHZQXTbInJtALA8ylmuysbGxLUyS\n",
       "lw1k7h8gfl8AJFguIOvkZQByuf4BOefBYWWAKgm0hf0HUMFvsFA5iiQT0DTuCQwMmVvAQtwKcMlE\n",
       "BnFRYBDc/3Pm9CWIEMvZFAijeu59aKwgATZZaPBBAACOK0z+8Z1J0AAAAABJRU5ErkJggg==\n",
       "\" style=\"display:inline;vertical-align:middle;\" /></a></span>"
      ],
      "text/plain": [
       "{(A or B or C) in BOOLEAN} |- B in BOOLEAN"
      ]
     },
     "metadata": {},
     "output_type": "display_data"
    }
   ],
   "source": [
    "in_bool(B).prove(assumptions=[in_bool(Or(A, B, C))])"
   ]
  },
  {
   "cell_type": "code",
   "execution_count": 33,
   "metadata": {},
   "outputs": [
    {
     "data": {
      "text/html": [
       "<span style=\"font-size:20px;\"><a class=\"ProveItLink\" href=\"../../__pv_it/theorems/a10dbfd9a4efbb6f30af430036ab01697a9460f80/expr.ipynb\"><img src=\"data:image/png;base64,iVBORw0KGgoAAAANSUhEUgAAADYAAAAQBAMAAACvnpHFAAAAMFBMVEX///8QEBAiIiLu7u5ERES6\n",
       "urqYmJiIiIjMzMx2dnZUVFRmZmaqqqoyMjLc3NwAAABb1yYoAAAAAXRSTlMAQObYZgAAAAlwSFlz\n",
       "AAAOxAAADsQBlSsOGwAAAONJREFUGNNjYACBtwwogF3R96/QUijnPqocAwtrwVurADCT5z+GXALn\n",
       "Awcwk3v9Aww5tgMLwMx58xugFjkp6cLlLoBYfAX1B8BSrNcN4Pq4nk0AG8lwPgHiXAO4mcVFK8Gs\n",
       "GIZ+sBqGewj7dOW1wQo3MLyH2HsByS3sqZdBDvDevR7sXg4hJSUlFagcg0MkkGHOwMCvABJhdkDS\n",
       "x+DAAjaSgUkALKSAIscLdDjQjbwfwELlKHLHGRgegtj/wEK8B+ByEzgrNzCY/L/MwOP/F+wJ5iXB\n",
       "kOC56IKIBxhgnQIJMwgAAIdSN5QgoD0bAAAAAElFTkSuQmCC\n",
       "\" style=\"display:inline;vertical-align:middle;\" /></a>, <a class=\"ProveItLink\" href=\"../__pv_it/theorems/c50b73f2d168f6a3012768bd45c62ea92218bcbc0/expr.ipynb\"><img src=\"data:image/png;base64,iVBORw0KGgoAAAANSUhEUgAAADcAAAAQBAMAAABAXPr7AAAAMFBMVEX///92dnaqqqoiIiLu7u5m\n",
       "Zma6urqIiIjc3NwQEBDMzMwyMjJUVFRERESYmJgAAAAeMT9/AAAAAXRSTlMAQObYZgAAAAlwSFlz\n",
       "AAAOxAAADsQBlSsOGwAAAPNJREFUGNNjYMAGiufu32mTAGK9/X/mzN4FqLIX0jm2HAOz5jIw8PxC\n",
       "k8xjkOAFMTi+MzCwfcWQfMQDYvABdfF9B4uxXza2hktygxg8HxgYuGeAWGzbHRA6TzwEMTgvMLAc\n",
       "Bjuo2wHhIHcbARBj/fXy0w/AQjsQdibv/BwCYtQ3MDDNAwttQHZQXTbInJtALA8ylmuysbGxLUyS\n",
       "lw1k7h8gfl8AJFguIOvkZQByuf4BOefBYWWAKgm0hf0HUMFvsFA5iiQT0DTuCQwMmVvAQtwKcMlE\n",
       "BnFRYBDc/3Pm9CWIEMvZFAijeu59aKwgATZZaPBBAACOK0z+8Z1J0AAAAABJRU5ErkJggg==\n",
       "\" style=\"display:inline;vertical-align:middle;\" /></a>, <a class=\"ProveItLink\" href=\"../__pv_it/demonstrations/dc7d96b1022c0165a0469ead301debeb324b9c180/expr.ipynb\"><img src=\"data:image/png;base64,iVBORw0KGgoAAAANSUhEUgAAADYAAAAQBAMAAACvnpHFAAAAMFBMVEX///+6uroyMjLMzMwiIiJm\n",
       "ZmaqqqoQEBB2dnbc3NyYmJhUVFRERESIiIju7u4AAABBACUiAAAAAXRSTlMAQObYZgAAAAlwSFlz\n",
       "AAAOxAAADsQBlSsOGwAAAOJJREFUGNNjYMACeN0PfSrZCGLx3dm9i7MBRZKH8cKk1wJAxvV7DGwh\n",
       "C9DkFnBMOMDA8MYZyImfgC7HlbCBgUH9AZAjDhG74+KiAJdTYOD4BuKYgqWE7iH0cc9qYJjvAOI8\n",
       "BhGceggz713ZwcDQfwFuC9MEhJxTvesDBn+EK5iQ3cK7UI+hHswBuYfB3AUIDkDlGA5IMPiD2GwG\n",
       "IPINsj6GAzwQn3GARVhQ5ZgY5oPc0gcJxgsocrkMbL8YGCQeQITUEHINHDcCGBient4qABV6fRCi\n",
       "iFf9DDQekIDEEUiYQQAAC/Q/y+C8Q+cAAAAASUVORK5CYII=\n",
       "\" style=\"display:inline;vertical-align:middle;\" /></a>, <a class=\"ProveItLink\" href=\"../../../../__pv_it/common/09585084922504426caf1db2ff588a23a0932a960/expr.ipynb\"><img src=\"data:image/png;base64,iVBORw0KGgoAAAANSUhEUgAAAA8AAAAPBAMAAADJ+Ih5AAAAMFBMVEX///8QEBAiIiLu7u5ERES6\n",
       "urqYmJiIiIjMzMx2dnZUVFRmZmaqqqoyMjLc3NwAAABb1yYoAAAAAXRSTlMAQObYZgAAAAlwSFlz\n",
       "AAAOxAAADsQBlSsOGwAAAF9JREFUCNdjYACBtwxQcB9K8/yHMrjXP4Aw5s1vANN8BfUHIDIM5xPA\n",
       "jBiG/glgxgaG9wtANLv37vUOIIY5AwO/AkSGgUkASLMCdfB+ADIeAjHLPwYGk/+XGXj8/04AADnq\n",
       "Fzds8Dk2AAAAAElFTkSuQmCC\n",
       "\" style=\"display:inline;vertical-align:middle;\" /></a> <a class=\"ProveItLink\" href=\"../__pv_it/demonstrations/cc6150567a56dd2dd75f54b4143e7b6d183b42810/proof.ipynb\" style=\"text-decoration: none\">&nbsp;&#x22A2;&nbsp;&nbsp;</a><a class=\"ProveItLink\" href=\"../__pv_it/demonstrations/17ddc8d3bf20b5815ea26fe906044c982a7f05130/expr.ipynb\"><img src=\"data:image/png;base64,iVBORw0KGgoAAAANSUhEUgAAAF8AAAAPBAMAAABw7A4xAAAAMFBMVEX///8QEBAiIiLu7u5ERES6\n",
       "urqYmJiIiIjMzMx2dnZUVFRmZmaqqqoyMjLc3NwAAABb1yYoAAAAAXRSTlMAQObYZgAAAAlwSFlz\n",
       "AAAOxAAADsQBlSsOGwAAAWBJREFUKM9jYACBtwwkgvtofDb/X6vWeqAJMpesWsY3Aczk+Q8iuQyA\n",
       "BEcBWITRgYFhfQOqWGExA8+mBDCTe/0DkLEgcZYGsMh7IDt+A4qYiQaQ2P8ALD1vPlhIAeGbfKBA\n",
       "fgGK2EWQZYFgJl9B/QEQPQeI90A0rAepeIAsxvkHRHZDXMRwPgEWVgoQDSIMDFYaKGLvwaQFWDaG\n",
       "oR/sea4GBnaI/zi+lFddY0ARm1+ACK8NDO8XgJUtYGAyAIuw/2NgOJiAIqb/AK6e3Xv3egcw6x7D\n",
       "aYgQiwDQ0T9QxOTBJFivOQMDP8TpJ4HSYMAPtJHtO4qYPjjCGiAuYmASAAsycUBsYugHOofrK4oY\n",
       "OAY4QSxWoCTvB4jjsgIgGuqBsv0XUMRAUckwGcR6CHLzP0hq0YV66yLQHFkDFDGebwwMkSAhk/+X\n",
       "GXj8/0ISFTTalvxfterKAahmqBiDtddqkF0A+Wthgx/s+CAAAAAASUVORK5CYII=\n",
       "\" style=\"display:inline;vertical-align:middle;\" /></a></span>"
      ],
      "text/plain": [
       "{A in BOOLEAN, B in BOOLEAN, C in BOOLEAN, A} |- A or B or C"
      ]
     },
     "metadata": {},
     "output_type": "display_data"
    }
   ],
   "source": [
    "Or(A, B, C).prove(assumptions=[A, in_bool(A), in_bool(B), in_bool(C)])"
   ]
  },
  {
   "cell_type": "code",
   "execution_count": 34,
   "metadata": {},
   "outputs": [
    {
     "data": {
      "text/html": [
       "<span style=\"font-size:20px;\"><a class=\"ProveItLink\" href=\"../../__pv_it/theorems/c6244e76de3be0816f3efc36199d65e50f6589940/expr.ipynb\"><img src=\"data:image/png;base64,iVBORw0KGgoAAAANSUhEUgAAABwAAAAPBAMAAAAFYbKSAAAAMFBMVEX///8QEBDu7u5ERES6urqY\n",
       "mJiIiIjMzMx2dnaqqqoyMjJUVFTc3NwiIiJmZmYAAABGfvnsAAAAAXRSTlMAQObYZgAAAAlwSFlz\n",
       "AAAOxAAADsQBlSsOGwAAAGtJREFUCNdjYEAAngUMyIDrAwp3Pir39R9kHseJ78jcY2w/kbkPOL8i\n",
       "8VgmsP9gYHh7FwjuAbl8DDy/oTKngTj53evPCC5TAgPDXwSXD0hdhHLPMTC4Aqn1COcLAAn7A1Ae\n",
       "k/0vBYbJ/1cAADCoIK4mExe8AAAAAElFTkSuQmCC\n",
       "\" style=\"display:inline;vertical-align:middle;\" /></a>, <a class=\"ProveItLink\" href=\"../__pv_it/theorems/8552c6321b312c5e15a5015adce4a756ce05da420/expr.ipynb\"><img src=\"data:image/png;base64,iVBORw0KGgoAAAANSUhEUgAAAB0AAAAOBAMAAAAh/woJAAAAMFBMVEX///92dnaqqqru7u66urqI\n",
       "iIgQEBDMzMwyMjJERESYmJhUVFTc3NwiIiJmZmYAAABFA9caAAAAAXRSTlMAQObYZgAAAAlwSFlz\n",
       "AAAOxAAADsQBlSsOGwAAAIJJREFUCNdjYIACrvm/d++YzoAAbBMYGPYXIPjnAxgY/B8g+OuBcusD\n",
       "EPz9QNx2AMHPZGCwvo7gsv8Mje4C0m/vAsE9BgbWPwwMagugkqcZGDgTGBgYvyP4/BuAbvqK4NcD\n",
       "1XJ/gfLPMTDEA62qb0CY38bAwJJhAOfu/L97d6cCAwMA4AYmI2pVDVkAAAAASUVORK5CYII=\n",
       "\" style=\"display:inline;vertical-align:middle;\" /></a>, <a class=\"ProveItLink\" href=\"../__pv_it/theorems/de9cd218afa6090be4c9a818a5bbda5441f069430/expr.ipynb\"><img src=\"data:image/png;base64,iVBORw0KGgoAAAANSUhEUgAAAB0AAAAOBAMAAAAh/woJAAAAMFBMVEX///+6uroyMjLMzMyqqqoQ\n",
       "EBB2dnaYmJhERESIiIju7u5UVFTc3NwiIiJmZmYAAAAavKMDAAAAAXRSTlMAQObYZgAAAAlwSFlz\n",
       "AAAOxAAADsQBlSsOGwAAAHFJREFUCNdjYIABrhm7t/MkwLkMU2cxsLwtgHNXXAYS7w/A+aoLgIQo\n",
       "nMv2BUTawfnnL4DIxXB+/gQo4+1dILjHcB9hEhCcZogH0wvg/PsgisUAzgfbzAZTf47hPMi8LIQJ\n",
       "LN8ZGMQWIBm5rnufAJACAFBuIOMfCAKNAAAAAElFTkSuQmCC\n",
       "\" style=\"display:inline;vertical-align:middle;\" /></a> <a class=\"ProveItLink\" href=\"../__pv_it/demonstrations/4aef41469e0e45e9cb44d6615cbd2e9f46bfe8140/proof.ipynb\" style=\"text-decoration: none\">&nbsp;&#x22A2;&nbsp;&nbsp;</a><a class=\"ProveItLink\" href=\"../__pv_it/demonstrations/4156148d3c9edaecbcfb5911962285817dfdb0b60/expr.ipynb\"><img src=\"data:image/png;base64,iVBORw0KGgoAAAANSUhEUgAAAH0AAAAVBAMAAACZCfwhAAAAMFBMVEX////MzMxERES6uroQEBCY\n",
       "mJgyMjLu7u52dnaqqqqIiIhUVFTc3NwiIiJmZmYAAAAM3gM0AAAAAXRSTlMAQObYZgAAAAlwSFlz\n",
       "AAAOxAAADsQBlSsOGwAAAeRJREFUOMuVlLtLA0EQxufyznkX7x+QxNZ3q42ioGB1vWCCRNIEDJba\n",
       "2IkoqCBipalVMFjYXJEUIoKosVCwUIIiaKFEBQsfxNmZi7eXylvY2bvfzLd8O3sJgDNK4HG4BeoK\n",
       "LUf/1/e53jZ4mWooCnZ/WQetDXCm3TKPQTUlFE7REq2J2JTDoOSJBBIARcPF1NEcbF4CZCR9jDeL\n",
       "FcWpgqLMZxA5x+f+iszCnRhj3wDjkj7Ay9IyqcpOJ5IIknmZhUYw+AdQk3P06xS1/B61cQHnEyeK\n",
       "ONMlmS2LEgUthaQGPLJ92DLrt1DmxCDA7IXMtB/qF9qKFBz9JMVeiM9RAw1QuX3K2/YO5+os8vl3\n",
       "Nyl4vsFxi8/XRCpwTnsqBdD5cCr2ac2Umf5d10cHeD3BOUTFXS/FBKEsbHLOhzWRV5kFquRf7Fht\n",
       "0M8ANJftrynLuWb0E/yUmU6qVfsO6vprtg86M11hHxBH703vMouRf9GmqN3iM5xtYj+sDbEndayH\n",
       "c3t4dfGUzDThJiI6EUw4/V/EeSjOy90JX9k8jdsO51wMr9g/T07mHH0LwHQtA9HuD4b217Nfs6yJ\n",
       "FbvGZuE7654P1OPodQM8j1P5d1rxrn+QXzo8y7WE/DbtWe9z/YFpea/6XYBfMMZ9plYuwKUAAAAA\n",
       "SUVORK5CYII=\n",
       "\" style=\"display:inline;vertical-align:middle;\" /></a></span>"
      ],
      "text/plain": [
       "{[not](A), [not](B), [not](C)} |- [not](A or B or C)"
      ]
     },
     "metadata": {},
     "output_type": "display_data"
    }
   ],
   "source": [
    "Not(Or(A, B, C)).prove(assumptions=[Not(A), Not(B), Not(C)])"
   ]
  },
  {
   "cell_type": "code",
   "execution_count": 35,
   "metadata": {},
   "outputs": [
    {
     "data": {
      "text/html": [
       "<span style=\"font-size:20px;\"><a class=\"ProveItLink\" href=\"../__pv_it/demonstrations/17ddc8d3bf20b5815ea26fe906044c982a7f05130/expr.ipynb\"><img src=\"data:image/png;base64,iVBORw0KGgoAAAANSUhEUgAAAF8AAAAPBAMAAABw7A4xAAAAMFBMVEX///8QEBAiIiLu7u5ERES6\n",
       "urqYmJiIiIjMzMx2dnZUVFRmZmaqqqoyMjLc3NwAAABb1yYoAAAAAXRSTlMAQObYZgAAAAlwSFlz\n",
       "AAAOxAAADsQBlSsOGwAAAWBJREFUKM9jYACBtwwkgvtofDb/X6vWeqAJMpesWsY3Aczk+Q8iuQyA\n",
       "BEcBWITRgYFhfQOqWGExA8+mBDCTe/0DkLEgcZYGsMh7IDt+A4qYiQaQ2P8ALD1vPlhIAeGbfKBA\n",
       "fgGK2EWQZYFgJl9B/QEQPQeI90A0rAepeIAsxvkHRHZDXMRwPgEWVgoQDSIMDFYaKGLvwaQFWDaG\n",
       "oR/sea4GBnaI/zi+lFddY0ARm1+ACK8NDO8XgJUtYGAyAIuw/2NgOJiAIqb/AK6e3Xv3egcw6x7D\n",
       "aYgQiwDQ0T9QxOTBJFivOQMDP8TpJ4HSYMAPtJHtO4qYPjjCGiAuYmASAAsycUBsYugHOofrK4oY\n",
       "OAY4QSxWoCTvB4jjsgIgGuqBsv0XUMRAUckwGcR6CHLzP0hq0YV66yLQHFkDFDGebwwMkSAhk/+X\n",
       "GXj8/0ISFTTalvxfterKAahmqBiDtddqkF0A+Wthgx/s+CAAAAAASUVORK5CYII=\n",
       "\" style=\"display:inline;vertical-align:middle;\" /></a>, <a class=\"ProveItLink\" href=\"../../__pv_it/theorems/c6244e76de3be0816f3efc36199d65e50f6589940/expr.ipynb\"><img src=\"data:image/png;base64,iVBORw0KGgoAAAANSUhEUgAAABwAAAAPBAMAAAAFYbKSAAAAMFBMVEX///8QEBDu7u5ERES6urqY\n",
       "mJiIiIjMzMx2dnaqqqoyMjJUVFTc3NwiIiJmZmYAAABGfvnsAAAAAXRSTlMAQObYZgAAAAlwSFlz\n",
       "AAAOxAAADsQBlSsOGwAAAGtJREFUCNdjYEAAngUMyIDrAwp3Pir39R9kHseJ78jcY2w/kbkPOL8i\n",
       "8VgmsP9gYHh7FwjuAbl8DDy/oTKngTj53evPCC5TAgPDXwSXD0hdhHLPMTC4Aqn1COcLAAn7A1Ae\n",
       "k/0vBYbJ/1cAADCoIK4mExe8AAAAAElFTkSuQmCC\n",
       "\" style=\"display:inline;vertical-align:middle;\" /></a>, <a class=\"ProveItLink\" href=\"../__pv_it/theorems/8552c6321b312c5e15a5015adce4a756ce05da420/expr.ipynb\"><img src=\"data:image/png;base64,iVBORw0KGgoAAAANSUhEUgAAAB0AAAAOBAMAAAAh/woJAAAAMFBMVEX///92dnaqqqru7u66urqI\n",
       "iIgQEBDMzMwyMjJERESYmJhUVFTc3NwiIiJmZmYAAABFA9caAAAAAXRSTlMAQObYZgAAAAlwSFlz\n",
       "AAAOxAAADsQBlSsOGwAAAIJJREFUCNdjYIACrvm/d++YzoAAbBMYGPYXIPjnAxgY/B8g+OuBcusD\n",
       "EPz9QNx2AMHPZGCwvo7gsv8Mje4C0m/vAsE9BgbWPwwMagugkqcZGDgTGBgYvyP4/BuAbvqK4NcD\n",
       "1XJ/gfLPMTDEA62qb0CY38bAwJJhAOfu/L97d6cCAwMA4AYmI2pVDVkAAAAASUVORK5CYII=\n",
       "\" style=\"display:inline;vertical-align:middle;\" /></a>, <a class=\"ProveItLink\" href=\"../__pv_it/theorems/de9cd218afa6090be4c9a818a5bbda5441f069430/expr.ipynb\"><img src=\"data:image/png;base64,iVBORw0KGgoAAAANSUhEUgAAAB0AAAAOBAMAAAAh/woJAAAAMFBMVEX///+6uroyMjLMzMyqqqoQ\n",
       "EBB2dnaYmJhERESIiIju7u5UVFTc3NwiIiJmZmYAAAAavKMDAAAAAXRSTlMAQObYZgAAAAlwSFlz\n",
       "AAAOxAAADsQBlSsOGwAAAHFJREFUCNdjYIABrhm7t/MkwLkMU2cxsLwtgHNXXAYS7w/A+aoLgIQo\n",
       "nMv2BUTawfnnL4DIxXB+/gQo4+1dILjHcB9hEhCcZogH0wvg/PsgisUAzgfbzAZTf47hPMi8LIQJ\n",
       "LN8ZGMQWIBm5rnufAJACAFBuIOMfCAKNAAAAAElFTkSuQmCC\n",
       "\" style=\"display:inline;vertical-align:middle;\" /></a> <a class=\"ProveItLink\" href=\"../__pv_it/demonstrations/f06677e8db9599feef398d5bcb1989c183ee977a0/proof.ipynb\" style=\"text-decoration: none\">&nbsp;&#x22A2;&nbsp;&nbsp;</a><a class=\"ProveItLink\" href=\"../../__pv_it/common/e0f123f2e4f322e1eba7f861749cda9fd9d99a120/expr.ipynb\"><img src=\"data:image/png;base64,iVBORw0KGgoAAAANSUhEUgAAAA4AAAAPBAMAAAAmOuNHAAAAHlBMVEX///9UVFQQEBAiIiJmZmaI\n",
       "iIiqqqqYmJi6uroAAAAAFVhYAAAAAXRSTlMAQObYZgAAAAlwSFlzAAAOxAAADsQBlSsOGwAAABhJ\n",
       "REFUCNdjYECAdiidSkva2dhYydjYEABIWQamWbU+1AAAAABJRU5ErkJggg==\n",
       "\" style=\"display:inline;vertical-align:middle;\" /></a></span>"
      ],
      "text/plain": [
       "{A or B or C, [not](A), [not](B), [not](C)} |- FALSE"
      ]
     },
     "metadata": {},
     "output_type": "display_data"
    }
   ],
   "source": [
    "Or(A,B,C).derive_contradiction(assumptions=[Or(A,B,C), Not(A), Not(B), Not(C)])"
   ]
  },
  {
   "cell_type": "code",
   "execution_count": 36,
   "metadata": {},
   "outputs": [
    {
     "data": {
      "text/html": [
       "<strong id=\"group_c_d\">group_c_d:</strong> <span style=\"font-size:20px;\"><a class=\"ProveItLink\" href=\"../__pv_it/demonstrations/8efb5f4519c23d70ce9c1531ee4336ad4160f6cb0/expr.ipynb\"><img src=\"data:image/png;base64,iVBORw0KGgoAAAANSUhEUgAAAP0AAAAPBAMAAADdQdTdAAAAMFBMVEX///8QEBAiIiLu7u5ERES6\n",
       "urqYmJiIiIjMzMx2dnZUVFRmZmaqqqoyMjLc3NwAAABb1yYoAAAAAXRSTlMAQObYZgAAAAlwSFlz\n",
       "AAAOxAAADsQBlSsOGwAAAulJREFUOMvFlE9oE1EQxr9umuwmTbcV/91sQVAQ1CiCYi9pEZRVifXg\n",
       "SegeFMFLIxZ78NAcRKEeEvAkiCm1iizURtGDtNgelYIGKh7biCcFSRVtbTSJb97b7e6svRvIZPLb\n",
       "+ebtmzfzAPp8xf/9LIX+X2g6zvtcCB62HPszR0NNa8KqhNgmy+nb8i/r3cZZZMh6ZBakm2ySTaSE\n",
       "MbKSCH3iF2f69hTmdwnnAf27pZLUgdifkLZOC27APnDtlatIPrOl2zZFe4hRaKvctbkKRH8zFukT\n",
       "tq0hvEsUcUIKDRGHp1wbXROmhzOD2EWmbd0nzKyq3f2ijOpe74SY2HtslbH2zZS7UxiNXrAs43Sq\n",
       "0YDNtPGfdFY8n07sLdNmqDr98qmZHZmj33viOyNJYlksuIOxIoUYJVpAeG1SgFYRh2qBaduXocPg\n",
       "+UScgbmgNr5C/LYqP97Z3hR0S9KSRmQ8F2Tmd9kzOff9NXX8HWlh8mNMK9g5gOfrKOOm2qqnrcoH\n",
       "RyQ8j7zsw0QOumqX/PHhSdUaHouv+p37GBhWXp4eDRaYdmDPRAMI5SuYi1xbzPr5SqiOyS4Zg5aS\n",
       "ZKSCpBoXj2kNP34U2Km8EarH1BmmLeZMtekgs8Y7uXbJn2795PRUWnqLmFeoV+YJspZlWX91wpVk\n",
       "ScVlyHzjWnGXFJAKsRRchaftEt/r0y+herVDvfEbuFWqUVmzQabJ9V+r66LQ7t45P2hWVrhWsEok\n",
       "y1kdEdWw69r9ZGZtVX5oqjqaoepgrHhlXWdy8qGuK3TfgD/+B9JMGyWmpzhb8w/P1cobR5YvasuZ\n",
       "kSdxWa2pi8WMOoKMbiTEVVpcewh//E+zOMSJfdmAgWmrokImlQ8faT5Vd0X2uockytG/AMbEiEbv\n",
       "uDkOluGNOs6WeBwdVHQrZ+72gtqkKPHobuEcai4gmamryrq3T6bmTJ7yBDNurufOCw+5tw/FHXvF\n",
       "444u1ZyJrjJnmdoThLTose7an4C/8Tn0N6FsYkoAAAAASUVORK5CYII=\n",
       "\" style=\"display:inline;vertical-align:middle;\" /></a> <a class=\"ProveItLink\" href=\"../__pv_it/demonstrations/8c069ae653990fea605a7f7ea11c8dfe64e72e0f0/proof.ipynb\" style=\"text-decoration: none\">&nbsp;&#x22A2;&nbsp;&nbsp;</a><a class=\"ProveItLink\" href=\"../__pv_it/demonstrations/95e9d05e1fd47e5f629ca8a47b57dd2a3cb2d4e60/expr.ipynb\"><img src=\"data:image/png;base64,iVBORw0KGgoAAAANSUhEUgAAAQ0AAAAVBAMAAACuzqZ5AAAAMFBMVEX///8QEBAiIiLu7u5ERES6\n",
       "urqYmJiIiIjMzMx2dnZUVFRmZmaqqqoyMjLc3NwAAABb1yYoAAAAAXRSTlMAQObYZgAAAAlwSFlz\n",
       "AAAOxAAADsQBlSsOGwAAA3pJREFUSMe9VU1oE0EU/pptkk2z2Vb8u2lE0EvVKAVFL4kIlfiT1osX\n",
       "oTkogh6MtNiDYIOIQj0k4EkRW2oVWaitokKp2B6VogYqHttYTx4ksWj/NK1vZjbZvBzaSqULO8x+\n",
       "871v3rz35i2w4ie7itUVPt9XwPGOLLl8+n/4MVHxfXbRsj4lOfZODPujVvwbx9sWo73RLLzxSr8j\n",
       "G6zebWHOXRe1Ips4T2uLPjbTcmosirEmRIOekMgG+pxlmJYR2ptDGN1Bk4eCdEsJFQDPH2CsUqOW\n",
       "LLxhjhEXn7n95VYYz9Uh/P0iux5BrZZRMGcA92+G+YmqHaaZf4G+zgvWUWmsExfPgIvgGmihQ2oD\n",
       "DNPnaDjH7Kt30zCsqutBl2QFS5XioVh4ZhhWRW9gPQ3uOhpcwtmMir+IW0scVSGuga4m8iPBMO8v\n",
       "Gj4w+5gwa5arZqJD1uB9el9LpCZPm25h2HuhLGg6HRE+mvlV4VYTF7k0AnGuIYougSTDiKtjpNze\n",
       "Ny3w2yot+Bgv3pqgRKrC0HqSDBskf6dkXSXts7jUdrWiFFPd8HVzDfyEOw6OUcncVEcv2ufkwgEJ\n",
       "nkFK1mtNEl5VTqnG9j6lUcKounwzTpU/AdrVLCWWL6XhyXAN95QVy6JCN22Oc/uuhKM5gJw8i94N\n",
       "l0wyOrIw1PUqYfV0gAXHphPYrmYdIj79TTDquIZvFpPgGuiK9tRx+wmnO3iPDfWraz6OUQVFhE2S\n",
       "YRspW3mZF/kZyBoDihsTww/aLc81Ann4bHIJmwjBtirab6X36tCg7E2Ut6DdquyozYtQJxhGfrjk\n",
       "Tm9Vy0kHssUyoLs1bd+jMg2qG1Nol2MFaHZXLtrvEcNwXKUFLqXh0lVc9GkV6nKs3u4cUK0PwRtw\n",
       "2sde4hhBxkeLOEcrw9xzTmJte9m5ZEhFUQdUTL0X1N5e2lAvgGGNqrvBpzKNK4/gtI8TIiZhxpd5\n",
       "NbsZ5pt1/LDtc+StKUKKL+JeqwrUdtnJo/A0j4Fh9+il6+2+Y+vsy5TKAKdEqv1pxpcRb27iunnH\n",
       "D9veoNB37qRJw+IYjFhBidhdLDZv9R0vGthd6brQe2G9LMJ2FxPcI29k8JvK+Vof/SojBaZxMDb/\n",
       "FBX2OBS9G//6D79kV3IZwiTW5PEMLEN4tTZ+4OTSy2Z4jfxoWHq5OrtGfpiJJZevrU79L14SCc10\n",
       "AkMZAAAAAElFTkSuQmCC\n",
       "\" style=\"display:inline;vertical-align:middle;\" /></a></span><br>"
      ],
      "text/plain": [
       "<IPython.core.display.HTML object>"
      ]
     },
     "metadata": {},
     "output_type": "display_data"
    }
   ],
   "source": [
    "group_c_d = Or(A,B,C,D,E,F,G).associate(2,length=2,assumptions=[Or(A,B,Or(C,D),E,F,G),Or(A,B,C,D,E,F,G),in_bool(A), in_bool(B),in_bool(C),in_bool(D),in_bool(E),in_bool(F),in_bool(G)])"
   ]
  },
  {
   "cell_type": "code",
   "execution_count": 37,
   "metadata": {},
   "outputs": [
    {
     "data": {
      "text/html": [
       "<span style=\"font-size:20px;\"><a class=\"ProveItLink\" href=\"../__pv_it/demonstrations/95e9d05e1fd47e5f629ca8a47b57dd2a3cb2d4e60/expr.ipynb\"><img src=\"data:image/png;base64,iVBORw0KGgoAAAANSUhEUgAAAQ0AAAAVBAMAAACuzqZ5AAAAMFBMVEX///8QEBAiIiLu7u5ERES6\n",
       "urqYmJiIiIjMzMx2dnZUVFRmZmaqqqoyMjLc3NwAAABb1yYoAAAAAXRSTlMAQObYZgAAAAlwSFlz\n",
       "AAAOxAAADsQBlSsOGwAAA3pJREFUSMe9VU1oE0EU/pptkk2z2Vb8u2lE0EvVKAVFL4kIlfiT1osX\n",
       "oTkogh6MtNiDYIOIQj0k4EkRW2oVWaitokKp2B6VogYqHttYTx4ksWj/NK1vZjbZvBzaSqULO8x+\n",
       "871v3rz35i2w4ie7itUVPt9XwPGOLLl8+n/4MVHxfXbRsj4lOfZODPujVvwbx9sWo73RLLzxSr8j\n",
       "G6zebWHOXRe1Ips4T2uLPjbTcmosirEmRIOekMgG+pxlmJYR2ptDGN1Bk4eCdEsJFQDPH2CsUqOW\n",
       "LLxhjhEXn7n95VYYz9Uh/P0iux5BrZZRMGcA92+G+YmqHaaZf4G+zgvWUWmsExfPgIvgGmihQ2oD\n",
       "DNPnaDjH7Kt30zCsqutBl2QFS5XioVh4ZhhWRW9gPQ3uOhpcwtmMir+IW0scVSGuga4m8iPBMO8v\n",
       "Gj4w+5gwa5arZqJD1uB9el9LpCZPm25h2HuhLGg6HRE+mvlV4VYTF7k0AnGuIYougSTDiKtjpNze\n",
       "Ny3w2yot+Bgv3pqgRKrC0HqSDBskf6dkXSXts7jUdrWiFFPd8HVzDfyEOw6OUcncVEcv2ufkwgEJ\n",
       "nkFK1mtNEl5VTqnG9j6lUcKounwzTpU/AdrVLCWWL6XhyXAN95QVy6JCN22Oc/uuhKM5gJw8i94N\n",
       "l0wyOrIw1PUqYfV0gAXHphPYrmYdIj79TTDquIZvFpPgGuiK9tRx+wmnO3iPDfWraz6OUQVFhE2S\n",
       "YRspW3mZF/kZyBoDihsTww/aLc81Ann4bHIJmwjBtirab6X36tCg7E2Ut6DdquyozYtQJxhGfrjk\n",
       "Tm9Vy0kHssUyoLs1bd+jMg2qG1Nol2MFaHZXLtrvEcNwXKUFLqXh0lVc9GkV6nKs3u4cUK0PwRtw\n",
       "2sde4hhBxkeLOEcrw9xzTmJte9m5ZEhFUQdUTL0X1N5e2lAvgGGNqrvBpzKNK4/gtI8TIiZhxpd5\n",
       "NbsZ5pt1/LDtc+StKUKKL+JeqwrUdtnJo/A0j4Fh9+il6+2+Y+vsy5TKAKdEqv1pxpcRb27iunnH\n",
       "D9veoNB37qRJw+IYjFhBidhdLDZv9R0vGthd6brQe2G9LMJ2FxPcI29k8JvK+Vof/SojBaZxMDb/\n",
       "FBX2OBS9G//6D79kV3IZwiTW5PEMLEN4tTZ+4OTSy2Z4jfxoWHq5OrtGfpiJJZevrU79L14SCc10\n",
       "AkMZAAAAAElFTkSuQmCC\n",
       "\" style=\"display:inline;vertical-align:middle;\" /></a> <a class=\"ProveItLink\" href=\"../__pv_it/demonstrations/a1821ea189b2a6d778ba4712f92fe521a7c09a8d0/proof.ipynb\" style=\"text-decoration: none\">&nbsp;&#x22A2;&nbsp;&nbsp;</a><a class=\"ProveItLink\" href=\"../__pv_it/demonstrations/8efb5f4519c23d70ce9c1531ee4336ad4160f6cb0/expr.ipynb\"><img src=\"data:image/png;base64,iVBORw0KGgoAAAANSUhEUgAAAP0AAAAPBAMAAADdQdTdAAAAMFBMVEX///8QEBAiIiLu7u5ERES6\n",
       "urqYmJiIiIjMzMx2dnZUVFRmZmaqqqoyMjLc3NwAAABb1yYoAAAAAXRSTlMAQObYZgAAAAlwSFlz\n",
       "AAAOxAAADsQBlSsOGwAAAulJREFUOMvFlE9oE1EQxr9umuwmTbcV/91sQVAQ1CiCYi9pEZRVifXg\n",
       "SegeFMFLIxZ78NAcRKEeEvAkiCm1iizURtGDtNgelYIGKh7biCcFSRVtbTSJb97b7e6svRvIZPLb\n",
       "+ebtmzfzAPp8xf/9LIX+X2g6zvtcCB62HPszR0NNa8KqhNgmy+nb8i/r3cZZZMh6ZBakm2ySTaSE\n",
       "MbKSCH3iF2f69hTmdwnnAf27pZLUgdifkLZOC27APnDtlatIPrOl2zZFe4hRaKvctbkKRH8zFukT\n",
       "tq0hvEsUcUIKDRGHp1wbXROmhzOD2EWmbd0nzKyq3f2ijOpe74SY2HtslbH2zZS7UxiNXrAs43Sq\n",
       "0YDNtPGfdFY8n07sLdNmqDr98qmZHZmj33viOyNJYlksuIOxIoUYJVpAeG1SgFYRh2qBaduXocPg\n",
       "+UScgbmgNr5C/LYqP97Z3hR0S9KSRmQ8F2Tmd9kzOff9NXX8HWlh8mNMK9g5gOfrKOOm2qqnrcoH\n",
       "RyQ8j7zsw0QOumqX/PHhSdUaHouv+p37GBhWXp4eDRaYdmDPRAMI5SuYi1xbzPr5SqiOyS4Zg5aS\n",
       "ZKSCpBoXj2kNP34U2Km8EarH1BmmLeZMtekgs8Y7uXbJn2795PRUWnqLmFeoV+YJspZlWX91wpVk\n",
       "ScVlyHzjWnGXFJAKsRRchaftEt/r0y+herVDvfEbuFWqUVmzQabJ9V+r66LQ7t45P2hWVrhWsEok\n",
       "y1kdEdWw69r9ZGZtVX5oqjqaoepgrHhlXWdy8qGuK3TfgD/+B9JMGyWmpzhb8w/P1cobR5YvasuZ\n",
       "kSdxWa2pi8WMOoKMbiTEVVpcewh//E+zOMSJfdmAgWmrokImlQ8faT5Vd0X2uockytG/AMbEiEbv\n",
       "uDkOluGNOs6WeBwdVHQrZ+72gtqkKPHobuEcai4gmamryrq3T6bmTJ7yBDNurufOCw+5tw/FHXvF\n",
       "444u1ZyJrjJnmdoThLTose7an4C/8Tn0N6FsYkoAAAAASUVORK5CYII=\n",
       "\" style=\"display:inline;vertical-align:middle;\" /></a></span>"
      ],
      "text/plain": [
       "{A or B or (C or D) or E or F or G} |- A or B or C or D or E or F or G"
      ]
     },
     "metadata": {},
     "output_type": "display_data"
    }
   ],
   "source": [
    "group_c_d.disassociate(2, assumptions=[group_c_d.expr])"
   ]
  },
  {
   "cell_type": "code",
   "execution_count": 38,
   "metadata": {},
   "outputs": [
    {
     "data": {
      "text/html": [
       "<span style=\"font-size:20px;\"><a class=\"ProveItLink\" href=\"../../__pv_it/theorems/a10dbfd9a4efbb6f30af430036ab01697a9460f80/expr.ipynb\"><img src=\"data:image/png;base64,iVBORw0KGgoAAAANSUhEUgAAADYAAAAQBAMAAACvnpHFAAAAMFBMVEX///8QEBAiIiLu7u5ERES6\n",
       "urqYmJiIiIjMzMx2dnZUVFRmZmaqqqoyMjLc3NwAAABb1yYoAAAAAXRSTlMAQObYZgAAAAlwSFlz\n",
       "AAAOxAAADsQBlSsOGwAAAONJREFUGNNjYACBtwwogF3R96/QUijnPqocAwtrwVurADCT5z+GXALn\n",
       "Awcwk3v9Aww5tgMLwMx58xugFjkp6cLlLoBYfAX1B8BSrNcN4Pq4nk0AG8lwPgHiXAO4mcVFK8Gs\n",
       "GIZ+sBqGewj7dOW1wQo3MLyH2HsByS3sqZdBDvDevR7sXg4hJSUlFagcg0MkkGHOwMCvABJhdkDS\n",
       "x+DAAjaSgUkALKSAIscLdDjQjbwfwELlKHLHGRgegtj/wEK8B+ByEzgrNzCY/L/MwOP/F+wJ5iXB\n",
       "kOC56IKIBxhgnQIJMwgAAIdSN5QgoD0bAAAAAElFTkSuQmCC\n",
       "\" style=\"display:inline;vertical-align:middle;\" /></a>, <a class=\"ProveItLink\" href=\"../__pv_it/theorems/c50b73f2d168f6a3012768bd45c62ea92218bcbc0/expr.ipynb\"><img src=\"data:image/png;base64,iVBORw0KGgoAAAANSUhEUgAAADcAAAAQBAMAAABAXPr7AAAAMFBMVEX///92dnaqqqoiIiLu7u5m\n",
       "Zma6urqIiIjc3NwQEBDMzMwyMjJUVFRERESYmJgAAAAeMT9/AAAAAXRSTlMAQObYZgAAAAlwSFlz\n",
       "AAAOxAAADsQBlSsOGwAAAPNJREFUGNNjYMAGiufu32mTAGK9/X/mzN4FqLIX0jm2HAOz5jIw8PxC\n",
       "k8xjkOAFMTi+MzCwfcWQfMQDYvABdfF9B4uxXza2hktygxg8HxgYuGeAWGzbHRA6TzwEMTgvMLAc\n",
       "Bjuo2wHhIHcbARBj/fXy0w/AQjsQdibv/BwCYtQ3MDDNAwttQHZQXTbInJtALA8ylmuysbGxLUyS\n",
       "lw1k7h8gfl8AJFguIOvkZQByuf4BOefBYWWAKgm0hf0HUMFvsFA5iiQT0DTuCQwMmVvAQtwKcMlE\n",
       "BnFRYBDc/3Pm9CWIEMvZFAijeu59aKwgATZZaPBBAACOK0z+8Z1J0AAAAABJRU5ErkJggg==\n",
       "\" style=\"display:inline;vertical-align:middle;\" /></a>, <a class=\"ProveItLink\" href=\"../__pv_it/demonstrations/dc7d96b1022c0165a0469ead301debeb324b9c180/expr.ipynb\"><img src=\"data:image/png;base64,iVBORw0KGgoAAAANSUhEUgAAADYAAAAQBAMAAACvnpHFAAAAMFBMVEX///+6uroyMjLMzMwiIiJm\n",
       "ZmaqqqoQEBB2dnbc3NyYmJhUVFRERESIiIju7u4AAABBACUiAAAAAXRSTlMAQObYZgAAAAlwSFlz\n",
       "AAAOxAAADsQBlSsOGwAAAOJJREFUGNNjYMACeN0PfSrZCGLx3dm9i7MBRZKH8cKk1wJAxvV7DGwh\n",
       "C9DkFnBMOMDA8MYZyImfgC7HlbCBgUH9AZAjDhG74+KiAJdTYOD4BuKYgqWE7iH0cc9qYJjvAOI8\n",
       "BhGceggz713ZwcDQfwFuC9MEhJxTvesDBn+EK5iQ3cK7UI+hHswBuYfB3AUIDkDlGA5IMPiD2GwG\n",
       "IPINsj6GAzwQn3GARVhQ5ZgY5oPc0gcJxgsocrkMbL8YGCQeQITUEHINHDcCGBient4qABV6fRCi\n",
       "iFf9DDQekIDEEUiYQQAAC/Q/y+C8Q+cAAAAASUVORK5CYII=\n",
       "\" style=\"display:inline;vertical-align:middle;\" /></a>, <a class=\"ProveItLink\" href=\"../__pv_it/demonstrations/be49e688692580141a3851882e8c02185518c0cd0/expr.ipynb\"><img src=\"data:image/png;base64,iVBORw0KGgoAAAANSUhEUgAAADgAAAAQBAMAAACxV6F2AAAAMFBMVEX///8iIiLu7u52dna6uroQ\n",
       "EBBmZmbMzMyqqqqYmJgyMjLc3NxUVFRERESIiIgAAACK51z6AAAAAXRSTlMAQObYZgAAAAlwSFlz\n",
       "AAAOxAAADsQBlSsOGwAAAOtJREFUGNNjYMAG+ERv/Qo8AmK9/X/n7J0NqLK8LA926TiAWL8YGDh/\n",
       "oEtOYN5wAchg/wckUjEkORsOgCz4DiT8J0AsuygoBZdcAGJ8ABL7DUBiLOsU4Dp5doKE+EFm14PM\n",
       "YNilADf20cPDIEb9AyAxH6xzNcJOqXgxkMr3BUDiPNjdC5AcxDdlEZBxH8T7CiLYAwUFBWWhkgwX\n",
       "nIGMv0DM+RMkxHQBSSfDBV6oN1UhwgIoklxQb96CiL1DkexjYOACetMxASLG1QCXNGB+nMDAc//P\n",
       "mbvZUDGms06QgFp6FxoryIDFFhJ8EAAAAWRGcmafPXcAAAAASUVORK5CYII=\n",
       "\" style=\"display:inline;vertical-align:middle;\" /></a>, <a class=\"ProveItLink\" href=\"../__pv_it/demonstrations/25542f4e2111e214ae31ec917c5346fb112614f30/expr.ipynb\"><img src=\"data:image/png;base64,iVBORw0KGgoAAAANSUhEUgAAADcAAAAQBAMAAABAXPr7AAAAMFBMVEX///+qqqrc3NyYmJjMzMxm\n",
       "Zmbu7u52dna6uroyMjIiIiJUVFQQEBBERESIiIgAAAD3YE8vAAAAAXRSTlMAQObYZgAAAAlwSFlz\n",
       "AAAOxAAADsQBlSsOGwAAAO5JREFUGNNjYMAGXp2dP2d1A4j19szt3bfOospe6GOatgPM+glSgSbZ\n",
       "zFDEC2JwfAcSqRiShtwgBvsPIJEHFuO7tWolXJITxOD8wMDHwAI2Y14CQucmcxCD/wJDM0RIMwHh\n",
       "oLzVBSBG/+q9nyBCkxB2ds35FQZi1DswLYAITUB20ONOkDnzGRgKGEAMllOrVq1aC5Pk5QCZ+5eB\n",
       "QYHtAZDBdgFZJy8DkMvxD+QHsFMWoEoCbWH/AuRog4XeoUgyAk3j+gDUfQIsxCkAl2xnqCtlYMie\n",
       "/3v33vMQd7LtbYPIvTx7HxorSICjFhp8EAAAFCdROgfofogAAAAASUVORK5CYII=\n",
       "\" style=\"display:inline;vertical-align:middle;\" /></a> <a class=\"ProveItLink\" href=\"../__pv_it/demonstrations/1bc4ee1a18ef3049cd3e9627828139879cf443c50/proof.ipynb\" style=\"text-decoration: none\">&nbsp;&#x22A2;&nbsp;&nbsp;</a><a class=\"ProveItLink\" href=\"../__pv_it/demonstrations/26c9b5c400d0508fe69cfe40bea56652ae7b9fb80/expr.ipynb\"><img src=\"data:image/png;base64,iVBORw0KGgoAAAANSUhEUgAAANIAAAAuBAMAAACv51oTAAAAMFBMVEX////MzMxUVFRERES6uroi\n",
       "IiIQEBCYmJhmZmYyMjLu7u52dnaqqqqIiIjc3NwAAACW8nlqAAAAAXRSTlMAQObYZgAAAAlwSFlz\n",
       "AAAOxAAADsQBlSsOGwAAA1tJREFUWMPtlk1oE0EUx1+aps3XpkERvEhqKmi9ZFuh6EGTi72oNBUU\n",
       "lEIL9eKpwZMXSS5VQdGAUKGHGi2KFyF4FLE9ieLBxYJCoSaXCp7aGj8o2Mb3ZjbNvm0n2wVzEDuQ\n",
       "t9n/vjdvZt7M7g8AytCkZu9YmxWXr38/0xnb/Tt5eWCT25Pf4t09NjE4Fz8YKTJprtrb1WsbvdY3\n",
       "Gu86r2sZHpwXl3CVbEsBjccQSpsOkIhy7eM8hMczXFvFUf22xXZgp5oOkyyTXyb2J2hc7eTojQpl\n",
       "Cf8P5Jg2PYjmbplpnjU0122xAzjvYA6uskxt8vJqRvik6xXLopA1mDZBw+7nftoK9ZzhsTMpzGRA\n",
       "W8Ga6a2wEaMkNsZL/N2WDxLUddmqhWiRYC/38y7T/Is8FotuQBQCrFC35OLB+0xtB6blg1GAR4NM\n",
       "WxL2IffrwHJCrJPHVqCVugt1WjPdF/Y0xMSWaomCJovqqSx8kM82tBljI6ruF6NLtsi01h/xpCi7\n",
       "2G3j56idhSHxLAdLIr+nE3xycbV1gNcZpg3XN3Pdr0T1TaSYFlqBRbGhR6xzuiS6PXozoYvbKXgj\n",
       "de+IiLBqY8IWuF+SzE+uBZYhBEHMvbwp0zNc77R5jqek3oFzbF9j2rAYZ5T7VWiVftlidYhQn61s\n",
       "TkNy8cAnVZ9Hzg1idEC/M41OEg6WaeI4PdF57ACVax5HlbbW6ThVMCNmLNbxSkp6l7DbWJ5pdJbh\n",
       "BTBNHKdjXAM6mxFaE906p+f4+0J1WZcvpwumPoEDuFxgWhgX6ZR5GGsaDfBkjmtimfsxq5+9Ivfg\n",
       "S6Y6CeHkqpTNs9dVjcfvzZo+pgZPew+lgGkt+B4+codrwW6M7Vul5UxZM/mi0LS2yL8OueZlusFv\n",
       "TzQtUUTn99NNy+S1fSAjRrMyfYad9k+2/4cst0uRWxGoS7JsRJFwmMw+JYG6IsuGFAnXyPSoCNQd\n",
       "WTamSB+9XPIqAnVFlg4UGUJv/6yCQN2RpQNF0nx8KgJ1R5YOFAn7ARZUBGojS8ZGm8nSgSJhF8BF\n",
       "FYG6I0snigyUwzkVgbojSyeKDBcDZRWBuiNLJ4qE9G4lgdrIstYUZOlEkfDpgJJA3ZGlE0XC47yS\n",
       "QN2RpSNFmud2CwLdIcsdstwWWf4Bojx+WiIedvkAAAAASUVORK5CYII=\n",
       "\" style=\"display:inline;vertical-align:middle;\" /></a></span>"
      ],
      "text/plain": [
       "{A in BOOLEAN, B in BOOLEAN, C in BOOLEAN, D in BOOLEAN, E in BOOLEAN} |- (A or B or C or D or E) =  \\\\ (A or C or D or B or E)"
      ]
     },
     "metadata": {},
     "output_type": "display_data"
    }
   ],
   "source": [
    "Or(A,B,C,D,E).commutation(1,3, assumptions=in_bool(A,B,C,D,E))"
   ]
  },
  {
   "cell_type": "code",
   "execution_count": 39,
   "metadata": {},
   "outputs": [
    {
     "data": {
      "text/html": [
       "<span style=\"font-size:20px;\"><a class=\"ProveItLink\" href=\"../../__pv_it/theorems/a10dbfd9a4efbb6f30af430036ab01697a9460f80/expr.ipynb\"><img src=\"data:image/png;base64,iVBORw0KGgoAAAANSUhEUgAAADYAAAAQBAMAAACvnpHFAAAAMFBMVEX///8QEBAiIiLu7u5ERES6\n",
       "urqYmJiIiIjMzMx2dnZUVFRmZmaqqqoyMjLc3NwAAABb1yYoAAAAAXRSTlMAQObYZgAAAAlwSFlz\n",
       "AAAOxAAADsQBlSsOGwAAAONJREFUGNNjYACBtwwogF3R96/QUijnPqocAwtrwVurADCT5z+GXALn\n",
       "Awcwk3v9Aww5tgMLwMx58xugFjkp6cLlLoBYfAX1B8BSrNcN4Pq4nk0AG8lwPgHiXAO4mcVFK8Gs\n",
       "GIZ+sBqGewj7dOW1wQo3MLyH2HsByS3sqZdBDvDevR7sXg4hJSUlFagcg0MkkGHOwMCvABJhdkDS\n",
       "x+DAAjaSgUkALKSAIscLdDjQjbwfwELlKHLHGRgegtj/wEK8B+ByEzgrNzCY/L/MwOP/F+wJ5iXB\n",
       "kOC56IKIBxhgnQIJMwgAAIdSN5QgoD0bAAAAAElFTkSuQmCC\n",
       "\" style=\"display:inline;vertical-align:middle;\" /></a>, <a class=\"ProveItLink\" href=\"../__pv_it/theorems/c50b73f2d168f6a3012768bd45c62ea92218bcbc0/expr.ipynb\"><img src=\"data:image/png;base64,iVBORw0KGgoAAAANSUhEUgAAADcAAAAQBAMAAABAXPr7AAAAMFBMVEX///92dnaqqqoiIiLu7u5m\n",
       "Zma6urqIiIjc3NwQEBDMzMwyMjJUVFRERESYmJgAAAAeMT9/AAAAAXRSTlMAQObYZgAAAAlwSFlz\n",
       "AAAOxAAADsQBlSsOGwAAAPNJREFUGNNjYMAGiufu32mTAGK9/X/mzN4FqLIX0jm2HAOz5jIw8PxC\n",
       "k8xjkOAFMTi+MzCwfcWQfMQDYvABdfF9B4uxXza2hktygxg8HxgYuGeAWGzbHRA6TzwEMTgvMLAc\n",
       "Bjuo2wHhIHcbARBj/fXy0w/AQjsQdibv/BwCYtQ3MDDNAwttQHZQXTbInJtALA8ylmuysbGxLUyS\n",
       "lw1k7h8gfl8AJFguIOvkZQByuf4BOefBYWWAKgm0hf0HUMFvsFA5iiQT0DTuCQwMmVvAQtwKcMlE\n",
       "BnFRYBDc/3Pm9CWIEMvZFAijeu59aKwgATZZaPBBAACOK0z+8Z1J0AAAAABJRU5ErkJggg==\n",
       "\" style=\"display:inline;vertical-align:middle;\" /></a>, <a class=\"ProveItLink\" href=\"../__pv_it/demonstrations/dc7d96b1022c0165a0469ead301debeb324b9c180/expr.ipynb\"><img src=\"data:image/png;base64,iVBORw0KGgoAAAANSUhEUgAAADYAAAAQBAMAAACvnpHFAAAAMFBMVEX///+6uroyMjLMzMwiIiJm\n",
       "ZmaqqqoQEBB2dnbc3NyYmJhUVFRERESIiIju7u4AAABBACUiAAAAAXRSTlMAQObYZgAAAAlwSFlz\n",
       "AAAOxAAADsQBlSsOGwAAAOJJREFUGNNjYMACeN0PfSrZCGLx3dm9i7MBRZKH8cKk1wJAxvV7DGwh\n",
       "C9DkFnBMOMDA8MYZyImfgC7HlbCBgUH9AZAjDhG74+KiAJdTYOD4BuKYgqWE7iH0cc9qYJjvAOI8\n",
       "BhGceggz713ZwcDQfwFuC9MEhJxTvesDBn+EK5iQ3cK7UI+hHswBuYfB3AUIDkDlGA5IMPiD2GwG\n",
       "IPINsj6GAzwQn3GARVhQ5ZgY5oPc0gcJxgsocrkMbL8YGCQeQITUEHINHDcCGBient4qABV6fRCi\n",
       "iFf9DDQekIDEEUiYQQAAC/Q/y+C8Q+cAAAAASUVORK5CYII=\n",
       "\" style=\"display:inline;vertical-align:middle;\" /></a>, <a class=\"ProveItLink\" href=\"../__pv_it/demonstrations/be49e688692580141a3851882e8c02185518c0cd0/expr.ipynb\"><img src=\"data:image/png;base64,iVBORw0KGgoAAAANSUhEUgAAADgAAAAQBAMAAACxV6F2AAAAMFBMVEX///8iIiLu7u52dna6uroQ\n",
       "EBBmZmbMzMyqqqqYmJgyMjLc3NxUVFRERESIiIgAAACK51z6AAAAAXRSTlMAQObYZgAAAAlwSFlz\n",
       "AAAOxAAADsQBlSsOGwAAAOtJREFUGNNjYMAG+ERv/Qo8AmK9/X/n7J0NqLK8LA926TiAWL8YGDh/\n",
       "oEtOYN5wAchg/wckUjEkORsOgCz4DiT8J0AsuygoBZdcAGJ8ABL7DUBiLOsU4Dp5doKE+EFm14PM\n",
       "YNilADf20cPDIEb9AyAxH6xzNcJOqXgxkMr3BUDiPNjdC5AcxDdlEZBxH8T7CiLYAwUFBWWhkgwX\n",
       "nIGMv0DM+RMkxHQBSSfDBV6oN1UhwgIoklxQb96CiL1DkexjYOACetMxASLG1QCXNGB+nMDAc//P\n",
       "mbvZUDGms06QgFp6FxoryIDFFhJ8EAAAAWRGcmafPXcAAAAASUVORK5CYII=\n",
       "\" style=\"display:inline;vertical-align:middle;\" /></a>, <a class=\"ProveItLink\" href=\"../__pv_it/demonstrations/25542f4e2111e214ae31ec917c5346fb112614f30/expr.ipynb\"><img src=\"data:image/png;base64,iVBORw0KGgoAAAANSUhEUgAAADcAAAAQBAMAAABAXPr7AAAAMFBMVEX///+qqqrc3NyYmJjMzMxm\n",
       "Zmbu7u52dna6uroyMjIiIiJUVFQQEBBERESIiIgAAAD3YE8vAAAAAXRSTlMAQObYZgAAAAlwSFlz\n",
       "AAAOxAAADsQBlSsOGwAAAO5JREFUGNNjYMAGXp2dP2d1A4j19szt3bfOospe6GOatgPM+glSgSbZ\n",
       "zFDEC2JwfAcSqRiShtwgBvsPIJEHFuO7tWolXJITxOD8wMDHwAI2Y14CQucmcxCD/wJDM0RIMwHh\n",
       "oLzVBSBG/+q9nyBCkxB2ds35FQZi1DswLYAITUB20ONOkDnzGRgKGEAMllOrVq1aC5Pk5QCZ+5eB\n",
       "QYHtAZDBdgFZJy8DkMvxD+QHsFMWoEoCbWH/AuRog4XeoUgyAk3j+gDUfQIsxCkAl2xnqCtlYMie\n",
       "/3v33vMQd7LtbYPIvTx7HxorSICjFhp8EAAAFCdROgfofogAAAAASUVORK5CYII=\n",
       "\" style=\"display:inline;vertical-align:middle;\" /></a> <a class=\"ProveItLink\" href=\"../__pv_it/demonstrations/4e7f33947aa660254cad67d03a1132ecc8b231bb0/proof.ipynb\" style=\"text-decoration: none\">&nbsp;&#x22A2;&nbsp;&nbsp;</a><a class=\"ProveItLink\" href=\"../__pv_it/demonstrations/f3e5f72f942830cd98c777fc738aa6f74c4c736e0/expr.ipynb\"><img src=\"data:image/png;base64,iVBORw0KGgoAAAANSUhEUgAAANIAAAAuBAMAAACv51oTAAAAMFBMVEX////MzMxUVFRERES6uroi\n",
       "IiIQEBCYmJhmZmYyMjLu7u52dnaqqqqIiIjc3NwAAACW8nlqAAAAAXRSTlMAQObYZgAAAAlwSFlz\n",
       "AAAOxAAADsQBlSsOGwAABHBJREFUWMPtl02IW1UUx8/LJJPkJe/NQxG6KZm+KDpuEiMdFDqdbDou\n",
       "qkxaUFEKLUxpUdAG3biRCWhVaGkDQoVZtGmL4qYQuiylmW5KxYXBAYXCOKHQQnExX611sDPjOffe\n",
       "93Heu3VjIwjz4N2X+7/33HPvuV+/AEAP+vREG7Zmxefek/f0RiT/o/yci8jp8RV35KWIaM65z9tt\n",
       "Js1tVoqVSO+t0Sm3+FbZqnPjpvjkNylNtDAxukIZLAOUHK79cgvyx+tcW8NePYrYDmGjVhlmmKeM\n",
       "dJwpUb/SVHHAEcoi/p5sMO3iPkxO95hmrGPyRcR2EsdtNuAT5mlQfq51RJ1aMGPTKEx3mXaGuj3B\n",
       "61nL1HKd23aq6KkLg62wpx9EancXxMK4iu9JWVCipnthLUdBgm283sASjb/NbXHSu+BAlk3UCRk8\n",
       "+KnurcCaLJgCuLCPaYsiPc/rDeF0QmGY265CkprLDYc9fSPS16EgllTCAUtOqrE6/7Ms87VO17cK\n",
       "6hXoM91mWvKBOy6mXay242/Ssx8OiLIGLAr/xjCkZHCtDYAbdaYdDBZzUG+B5rdUZVpuGe6IBX0o\n",
       "PKbDotlXviqVRfYs3JT6wCFhEdaOibTF641T8gfXskuQAxN9L8U8XcJ419Q+Piv1IRxjep1pB0U/\n",
       "HV5vlaL0MGJbBpvaTLIxHZDBg5RUU4YcGxRog95nGu0k7CzTxHb6rsxtJ2m6bmGvauF5GqMZrIsR\n",
       "izh+VJW1F7DZQpNptJfhCjBNbKdXuQa0N22KSTk8psv43qV52ZCH0ztKP4MdeK/FtDwGaa/ajJ5G\n",
       "HdzT4JoI8wR6zbAj8hk8ZDZnID++JmW194qbrvv1rKqjNPi+8kIVmJbAc/jlU1wzR9B2dI3CWQ17\n",
       "SjnQt+cOvx0a/fP0Jc/u7psju8zzF/vmaSByQdrdfnn6Dbae/+XzX5Ol7vmXtKkjy7kjFXfnVKxq\n",
       "lDY/psMwenpdqrj130FHm1qypPNwDt8XKbNdFcVpEzuTWOaa9UELbr4dMVW0qSHL5F90UuP7KUke\n",
       "I8do08ZrL/kn08ydmGY2uKlHmxqyzN2XVzykqL0mPIY208veje9r2fdB3eIhU482NWSJ95kFBrnE\n",
       "5ZGZhcfQZgKvveyHTOtQFaPBTT3a1JAlIsZrsvWm7JyeNvFPgfmcE9bsB2KuHW7q0aaGLCf3F+Xl\n",
       "DjsA5lVJnDYLY/MjdUaWufWgpcDUo810M8ZGHcdWnPsUwLuqJE6bSDH5o4wsUxtBS4GpR5sassSN\n",
       "05bImO3l1SWsoc1RxT2BNiiIygRu6tGmhiwRD3umiFC+nVWHiIY2V0D90fG1lGjrOnBTjzbjZJmk\n",
       "aFsyQrWn/eBFadN46CG4r4mdBAq2PFOfNvO1sKcxUPx9W+Z/fVZ+NbRJfwqMNUaRtJch1+KmPm3G\n",
       "yZJikDws89+q9aKhzSwOcWKGUyRuhKTCWt/Up80YWV44t+IWj6lqavNpaJMocmQXp0gwP3M/9w+2\n",
       "2QhtbpHlFln+A1n+DVX2fLYZyn+NAAAAAElFTkSuQmCC\n",
       "\" style=\"display:inline;vertical-align:middle;\" /></a></span>"
      ],
      "text/plain": [
       "{A in BOOLEAN, B in BOOLEAN, C in BOOLEAN, D in BOOLEAN, E in BOOLEAN} |- (A or B or C or D or E) =  \\\\ (E or A or B or C or D)"
      ]
     },
     "metadata": {},
     "output_type": "display_data"
    }
   ],
   "source": [
    "Or(A,B,C,D,E).commutation(-1,0, assumptions=in_bool(A,B,C,D,E))"
   ]
  },
  {
   "cell_type": "code",
   "execution_count": 40,
   "metadata": {},
   "outputs": [
    {
     "data": {
      "text/html": [
       "<span style=\"font-size:20px;\"><a class=\"ProveItLink\" href=\"../__pv_it/demonstrations/7fa65a444b599d7e1ab9b777a790e0e674905c780/expr.ipynb\"><img src=\"data:image/png;base64,iVBORw0KGgoAAAANSUhEUgAAAUoAAAAPBAMAAABw5ZtdAAAAMFBMVEX///8QEBAiIiLu7u5ERES6\n",
       "urqYmJiIiIjMzMx2dnZUVFRmZmaqqqoyMjLc3NwAAABb1yYoAAAAAXRSTlMAQObYZgAAAAlwSFlz\n",
       "AAAOxAAADsQBlSsOGwAAA1pJREFUSMfVlstrE1EUh3/N5Nmm06pFdxoRdKVGERTdJCJUopLUtdAs\n",
       "FMFNIy124aJZiEJdJOBKEBNrfQ3URKkLqdgulYIWKi7bqCsXklhj32m8r8nMmeQfcCC3k2/Od+fm\n",
       "3HMPBfj1C//Dtej4frluGF/SDng8ZiR/UjRUj43HSpT5oj3G+N4IjdsWM6I7aZw2FHuqZ6laqOa9\n",
       "j6qPCQzEFQjW+dgeZoM/JUgP+7pKmW9XGLP72Y1w7sgpaoB30+F2zbHgCGUsDl+pe30QwdfJZrUt\n",
       "5JwvJN/VUeD58HLoFhnUVwDPBmHaaTZ2bLG7qzzirBD9LA6vqIt+liCtSJh/jQ1XiOs+xIbpElUz\n",
       "TC0X0Qz59TAnvocaFeplefSuENa5gw2ebja4+M+Yk1vE892fJC5yCbbKFGG+v2z4RNw4z1YfmtWB\n",
       "GQccSYg/empEPHnAPu8Eaa+wZe0mLMdD/Px3BthdhxDgZnEoZ4nLizyFNGEszo8ZuxtY5vwumlS5\n",
       "fDuMqw3H56R50mUNtEWgjaXtTF8SFZ9WuXBJs4sfkkyeuKjCkwSdj9XbbZkQ0y2LByfgVIHtDlfU\n",
       "NLsuqa1vT8MnCzbTOzwh32SywIp16p4Dw/Iuwx8NZInrWTLiJTjmy+oL1M2lGtMR1TA2nFC9uYhy\n",
       "XtR4Hq6wLIUSgrJxmMy1Za1yFNinSobntpAgbmAV3wE6Xy421k3dRavPERW+zRaQl/a5qYJsbwuY\n",
       "lWKUz5y2s7aK2HGBOkvBoq1kflO3s4KACmywxTCUYbp72Ofm1NsmFe4/aIa8Wzda0keofVnnG5my\n",
       "M5eI/SDba7azZNWRd5m6rFZ1Pqed1aDJ49ZwD/NhOtmkipbZBMWGwyX3w+WXxL9sbmSDiU4J1blC\n",
       "t2C1yyMR4qKf/7pBwjxrVrkoV3RodXqJanZHOp84kCqrvmtyZT62JL86WorxPo+ArBTceAKrXV4g\n",
       "cbJS9DxhqrTsbpm9W6+2UFV3pBD4xvuZPBvaQVUKLLV98yCMNSvPPfWmo3NWyVws0jixl30JOl/F\n",
       "WqVyg2y7Rg+0UONoAXGsPo9gvCbzrHp6fN2YOG9Oq3qrNmm8MZHq6TzuzHsap02wf1SiNcJOxtdf\n",
       "wuHiVOx+8gdVx+vPMFnvdcIXwD92FzjovT7EbQAAAABJRU5ErkJggg==\n",
       "\" style=\"display:inline;vertical-align:middle;\" /></a> <a class=\"ProveItLink\" href=\"../__pv_it/demonstrations/549aae6c834faf415edfbda0aa84846c088cfdfc0/proof.ipynb\" style=\"text-decoration: none\">&nbsp;&#x22A2;&nbsp;&nbsp;</a><a class=\"ProveItLink\" href=\"../__pv_it/demonstrations/09c1cdb5cf4f39f81e75bbadfb05240dca2edfe40/expr.ipynb\"><img src=\"data:image/png;base64,iVBORw0KGgoAAAANSUhEUgAAAUoAAAAPBAMAAABw5ZtdAAAAMFBMVEX///8QEBAiIiLu7u5ERES6\n",
       "urqYmJiIiIjMzMx2dnZUVFRmZmaqqqoyMjLc3NwAAABb1yYoAAAAAXRSTlMAQObYZgAAAAlwSFlz\n",
       "AAAOxAAADsQBlSsOGwAAA2dJREFUSMfVls9rE0EUx1+zSXbzu9WqNxsRFBRtEEGxHtoiVFIh6cWT\n",
       "0D0IgpdGLPbgoTkIQj204EkQUzX+WqgpUg9SoR6VHgzUs1nxpFBSampNaxrf/Njsvmn+ARcymXz2\n",
       "+37MzJvXArBnFf6Hp6L8vtq0rC95BZ5JW+YPisa70tZgN0H6QLdV7DIpy9SsC68Vd9p4+nl8hupK\n",
       "tdng49pTAkMZCaJNNoZTOBg5TjBy+A9l+oEULB/BCbe5K1w0WKqUJcoAMZO6Y2zsA9XduAnRN210\n",
       "HUkll0RSxIqUbByDDPr5DsY3AQLbhGmDOEZ2cHaNKS5yw0Adhz7KpnF/glniDqZxHukkOv9JHJZs\n",
       "RYe21XnYDdnzqMB/J1sVGsR9DG4SFtvLsmKRfGwZZXEaG6wSKJvEDKM2cQeT6D/wm+gybLdGaFgo\n",
       "ZOWeE+Ms/4rnJvmbh/h5z0l4DdM6SFiBSQy2zhDOItwAYmugg0FZBiAfpe4Yg3jdqwuxnOGeoqs4\n",
       "6avG7MDhs+ncdFEDHf2gPcl7WXydV3xe7oVPWCb64bJYqMsaYJhA3UGNrXDLq6vyN2fb6Paoxg3x\n",
       "dUUefTgPuijY6aGJORHKYaFN99a9BJgQs9FjxR2FGXVYtYG6M5hxsO7VFXItd64usG5Z1rYKZeR5\n",
       "qM5yZ7PgS4lSsCG6H7zMt+NmOQVwWNZRPp5UWKhmHQKg7nTeLja8uorb51xdCHX63zaQ+RheLPXz\n",
       "2VdYFoYDPAMv61jjJy6q0Y7Ot+poBlKExX5hBQF152fGiU6vrgc/txffUR2WOfh/wW4o7qhsSZ/w\n",
       "HX9YCY3lvMzHtR9Fe52J2a06srUcYdjyzsssW+4SbBPGTK+ulw1L5m5dotzOmB04+Pg6wWcIYrAL\n",
       "WMp6Ge+UIDtX8g64JaOnCBt1/5w47ni71LqJLe/QGUU3mnO7I4EYymztqn5dZKZjSoa8WpKxPg8h\n",
       "kRDcegZuyfykrOAWnOOOt0t/meiqGDteU3TMVnZHCgG+scIRd0M7IUsBt3ZkBQjDZhW4L8OfkhFZ\n",
       "GQT2Ueb5l8AxZSxwnNpG8bimjiq6Xnd/KYTTzRWIZhpin2VPz2xZc5ecWLK3agvWWwfJ/n2usmUV\n",
       "e8pephWblg2KKbLisE1toS/9wPxOdGj7AhaaQyp8BfAPf1A2+XLKWLEAAAAASUVORK5CYII=\n",
       "\" style=\"display:inline;vertical-align:middle;\" /></a></span>"
      ],
      "text/plain": [
       "{A or B or C or D or E or F or G or H or I} |- A or B or C or E or F or D or G or H or I"
      ]
     },
     "metadata": {},
     "output_type": "display_data"
    }
   ],
   "source": [
    "Or(A,B,C,D,E,F,G,H,I).commute(3, 5, assumptions=[Or(A,B,C,D,E,F,G,H,I), *in_bool(A,B,C,D,E,F,G,H,I)])"
   ]
  },
  {
   "cell_type": "code",
   "execution_count": 41,
   "metadata": {},
   "outputs": [
    {
     "data": {
      "text/html": [
       "<span style=\"font-size:20px;\"><a class=\"ProveItLink\" href=\"../__pv_it/demonstrations/7fa65a444b599d7e1ab9b777a790e0e674905c780/expr.ipynb\"><img src=\"data:image/png;base64,iVBORw0KGgoAAAANSUhEUgAAAUoAAAAPBAMAAABw5ZtdAAAAMFBMVEX///8QEBAiIiLu7u5ERES6\n",
       "urqYmJiIiIjMzMx2dnZUVFRmZmaqqqoyMjLc3NwAAABb1yYoAAAAAXRSTlMAQObYZgAAAAlwSFlz\n",
       "AAAOxAAADsQBlSsOGwAAA1pJREFUSMfVlstrE1EUh3/N5Nmm06pFdxoRdKVGERTdJCJUopLUtdAs\n",
       "FMFNIy124aJZiEJdJOBKEBNrfQ3URKkLqdgulYIWKi7bqCsXklhj32m8r8nMmeQfcCC3k2/Od+fm\n",
       "3HMPBfj1C//Dtej4frluGF/SDng8ZiR/UjRUj43HSpT5oj3G+N4IjdsWM6I7aZw2FHuqZ6laqOa9\n",
       "j6qPCQzEFQjW+dgeZoM/JUgP+7pKmW9XGLP72Y1w7sgpaoB30+F2zbHgCGUsDl+pe30QwdfJZrUt\n",
       "5JwvJN/VUeD58HLoFhnUVwDPBmHaaTZ2bLG7qzzirBD9LA6vqIt+liCtSJh/jQ1XiOs+xIbpElUz\n",
       "TC0X0Qz59TAnvocaFeplefSuENa5gw2ebja4+M+Yk1vE892fJC5yCbbKFGG+v2z4RNw4z1YfmtWB\n",
       "GQccSYg/empEPHnAPu8Eaa+wZe0mLMdD/Px3BthdhxDgZnEoZ4nLizyFNGEszo8ZuxtY5vwumlS5\n",
       "fDuMqw3H56R50mUNtEWgjaXtTF8SFZ9WuXBJs4sfkkyeuKjCkwSdj9XbbZkQ0y2LByfgVIHtDlfU\n",
       "NLsuqa1vT8MnCzbTOzwh32SywIp16p4Dw/Iuwx8NZInrWTLiJTjmy+oL1M2lGtMR1TA2nFC9uYhy\n",
       "XtR4Hq6wLIUSgrJxmMy1Za1yFNinSobntpAgbmAV3wE6Xy421k3dRavPERW+zRaQl/a5qYJsbwuY\n",
       "lWKUz5y2s7aK2HGBOkvBoq1kflO3s4KACmywxTCUYbp72Ofm1NsmFe4/aIa8Wzda0keofVnnG5my\n",
       "M5eI/SDba7azZNWRd5m6rFZ1Pqed1aDJ49ZwD/NhOtmkipbZBMWGwyX3w+WXxL9sbmSDiU4J1blC\n",
       "t2C1yyMR4qKf/7pBwjxrVrkoV3RodXqJanZHOp84kCqrvmtyZT62JL86WorxPo+ArBTceAKrXV4g\n",
       "cbJS9DxhqrTsbpm9W6+2UFV3pBD4xvuZPBvaQVUKLLV98yCMNSvPPfWmo3NWyVws0jixl30JOl/F\n",
       "WqVyg2y7Rg+0UONoAXGsPo9gvCbzrHp6fN2YOG9Oq3qrNmm8MZHq6TzuzHsap02wf1SiNcJOxtdf\n",
       "wuHiVOx+8gdVx+vPMFnvdcIXwD92FzjovT7EbQAAAABJRU5ErkJggg==\n",
       "\" style=\"display:inline;vertical-align:middle;\" /></a> <a class=\"ProveItLink\" href=\"../__pv_it/demonstrations/bcd3a212b3ff2e559465ceb4b7e3c613759750d30/proof.ipynb\" style=\"text-decoration: none\">&nbsp;&#x22A2;&nbsp;&nbsp;</a><a class=\"ProveItLink\" href=\"../__pv_it/demonstrations/1ea7fe5c239dcc05687290432e4c80f078822bad0/expr.ipynb\"><img src=\"data:image/png;base64,iVBORw0KGgoAAAANSUhEUgAAAUoAAAAPBAMAAABw5ZtdAAAAMFBMVEX///8QEBAiIiLu7u5ERES6\n",
       "urqYmJiIiIjMzMx2dnZUVFRmZmaqqqoyMjLc3NwAAABb1yYoAAAAAXRSTlMAQObYZgAAAAlwSFlz\n",
       "AAAOxAAADsQBlSsOGwAAAzxJREFUSMfVlctrE1EUxr9mkszk1bRadacRwYUiBhEEdZGWQqUVUjeu\n",
       "hM5CENyYhdhlsxAENw0IrsTUGtEO1HRRV3XhUunCQF3bcalQWtr0kdYk3tckc+60f4AXMpn55Zzz\n",
       "3bn3uycAH2v4H8aq9ny/7Tg/ihq8NurYv3U2rDMzX3eGP2phj/tHnaEBGjc44FT6bcqq9Znom/pb\n",
       "AmN5BZJtfo1n2cUqCMIqxvcoM09lsXye3YicZziKpWvAoy+UocmnGoxL2VSWs56MNpd0RtZIVF12\n",
       "jXIYFivYuwtEDggzhtg10WJ3D3jELZE45AbZNEtJ9FEWabDLDS2uxMqPE1nB1hcQhHy8LovnTMeh\n",
       "UbaO0V3CUse5GlcP8deocRbeCjJMsVqRHcpi29wdWhybYdIlsiiPq33wQx7I0wpT4pdX7PNZkPgG\n",
       "m9Zpwso8xOLvGWN3CZFQtoMMeV6xQVlqAyasQFwxSWXF+chnNZhXG47vtnfSpQd6cjBmi37Wu8mf\n",
       "jKJaixCOYECdz3yfsnQOd+WCdFkTlg0qK3KP6bApv+6prY8XYUrDTo9MzssSHovtdk/dB2ASRzBY\n",
       "HEYbhGHiQqWlxzWw5oLKRjYdxznQoVJZwPqMSJxBKCut4CJ5En4WanVn9Bw4J/ZxL8hgitawTRjK\n",
       "xd6MFherO2cBKhtjuebfQyCvO7ZUzYm7n1iWiYOisp/1bIjdlS5zkwseM5eWSn6GMA9M9xHG/VZC\n",
       "lrDUFnMaqCyzrzyROpRnT7Wkb+w3MbitHhX8LCRiv8r2Wkq5HZbYIYxbkOXahHG/uUaBxtVwU82y\n",
       "I8tz07VDoNhwhMS7I2RJYnHl6rifia4I1bkyT6V3Wt7adZlol8YAZcJaZpawiVLHLZ4sJgrd7kgg\n",
       "K2F3VtV8KGdmMnlLHS3FeJ9HTArhyTt02HqOMNEuwzXKhLX+UFbu/gF7soKp7kgh8IsviDwbxiVl\n",
       "Bba0d1ZAGGtWkReq7JVah1mzBcqYBSMXtThujciJQJw3PAlc7nZHCnG1vYJkvinXWfX0/L4zf9ur\n",
       "oXqrseh88pDqy4zNvezNElZpO5Uxl8ZdX913KmdqfmawOBdUgrH3WGyP6HAO+AeSIDqbqrZp9QAA\n",
       "AABJRU5ErkJggg==\n",
       "\" style=\"display:inline;vertical-align:middle;\" /></a></span>"
      ],
      "text/plain": [
       "{A or B or C or D or E or F or G or H or I} |- A or B or C or G or D or E or F or H or I"
      ]
     },
     "metadata": {},
     "output_type": "display_data"
    }
   ],
   "source": [
    "Or(A,B,C,D,E,F,G,H,I).commute(6, 3, assumptions=[Or(A,B,C,D,E,F,G,H,I), *in_bool(A,B,C,D,E,F,G,H,I)])"
   ]
  },
  {
   "cell_type": "code",
   "execution_count": null,
   "metadata": {},
   "outputs": [],
   "source": [
    "Or(A,B,C,D,E,F,G,H,I).group_commute(0, 3, length=2, assumptions=[Or(A,B,C,D,E,F,G,H,I), *in_bool(A,B,C,D,E,F,G,H,I)])"
   ]
  },
  {
   "cell_type": "code",
   "execution_count": null,
   "metadata": {},
   "outputs": [],
   "source": [
    "Or(A,B,C,D).group_commute(0, 1, length=2, assumptions=[Or(A,B,C,D)])"
   ]
  },
  {
   "cell_type": "code",
   "execution_count": null,
   "metadata": {},
   "outputs": [],
   "source": [
    "Or(A,B,C,D).group_commutation(1, 0, length=2, assumptions=in_bool(A,B,C,D))"
   ]
  },
  {
   "cell_type": "code",
   "execution_count": null,
   "metadata": {},
   "outputs": [],
   "source": [
    "And(A, B, Or(A,B,C,D)).inner_expr().operands[2].group_commutation(0, 1, length=2, assumptions=in_bool(A,B,C,D))"
   ]
  },
  {
   "cell_type": "code",
   "execution_count": null,
   "metadata": {},
   "outputs": [],
   "source": [
    "And(A, B, Or(A,B,C,D)).operands[2].group_commutation(0, 1, length=2, assumptions=[And(A, B, Or(A,B,C,D))], auto_simplify=False)"
   ]
  },
  {
   "cell_type": "code",
   "execution_count": null,
   "metadata": {},
   "outputs": [],
   "source": [
    "And(A, B, Or(A,B,C,D)).inner_expr().operands[2].group_commute(0, 1, length=2, assumptions=[And(A, B, Or(A,B,C,D))], auto_simplify=False)"
   ]
  },
  {
   "cell_type": "code",
   "execution_count": null,
   "metadata": {},
   "outputs": [],
   "source": [
    "Or(A,B,C,D,E,F,G,H).deduce_in_bool(assumptions=in_bool(A,B,C,D,E,F,G,H))"
   ]
  },
  {
   "cell_type": "markdown",
   "metadata": {},
   "source": [
    "true_eval"
   ]
  },
  {
   "cell_type": "code",
   "execution_count": null,
   "metadata": {},
   "outputs": [],
   "source": [
    "Or(FALSE,FALSE,TRUE,FALSE,FALSE).evaluation()"
   ]
  },
  {
   "cell_type": "code",
   "execution_count": null,
   "metadata": {},
   "outputs": [],
   "source": [
    "Or(A,B,TRUE,C,D).evaluation(assumptions=[in_bool(A), in_bool(B), in_bool(C), in_bool(D)])"
   ]
  },
  {
   "cell_type": "markdown",
   "metadata": {},
   "source": [
    "false_eval"
   ]
  },
  {
   "cell_type": "code",
   "execution_count": null,
   "metadata": {},
   "outputs": [],
   "source": [
    "Equals(Or(A,B,C,D),FALSE).prove(assumptions=[Equals(A,FALSE), Equals(B,FALSE),Equals(C,FALSE),Equals(D,FALSE)])"
   ]
  },
  {
   "cell_type": "code",
   "execution_count": null,
   "metadata": {},
   "outputs": [],
   "source": [
    "in_bool(Or(A,B)).prove(assumptions=[in_bool(A), in_bool(B)])"
   ]
  },
  {
   "cell_type": "code",
   "execution_count": null,
   "metadata": {},
   "outputs": [],
   "source": [
    "in_bool(Or(A,B,C,D)).prove(assumptions=[in_bool(A), in_bool(B), in_bool(C), in_bool(D)])"
   ]
  },
  {
   "cell_type": "code",
   "execution_count": null,
   "metadata": {},
   "outputs": [],
   "source": [
    "Or(A,B).prove(assumptions=[Not(And(Not(A), Not(B)))])"
   ]
  },
  {
   "cell_type": "code",
   "execution_count": null,
   "metadata": {},
   "outputs": [],
   "source": [
    "Or(A, B, C).prove(assumptions=[Not(And(Not(A),Not(B),Not(C)))])"
   ]
  },
  {
   "cell_type": "code",
   "execution_count": null,
   "metadata": {},
   "outputs": [],
   "source": [
    "# testing a simple Or.conclude() failure\n",
    "try:\n",
    "    Or(A, B).conclude()\n",
    "    assert False, \"Expecting a ProofFailure; should not get this far!\"\n",
    "except ProofFailure as the_error:\n",
    "    print(\"ProofFailure: {}\".format(the_error))"
   ]
  },
  {
   "cell_type": "markdown",
   "metadata": {},
   "source": [
    "### Automatically proving conjunctions are equal via permutation"
   ]
  },
  {
   "cell_type": "code",
   "execution_count": null,
   "metadata": {},
   "outputs": [],
   "source": [
    "defaults.assumptions = [Or(D, B, A, C)]\n",
    "Or(A, C, B, D).readily_provable()"
   ]
  },
  {
   "cell_type": "code",
   "execution_count": null,
   "metadata": {},
   "outputs": [],
   "source": [
    "A.readily_provable(assumptions=[Or(D, B, A, C)])"
   ]
  },
  {
   "cell_type": "code",
   "execution_count": null,
   "metadata": {},
   "outputs": [],
   "source": [
    "Implies(Or(D, B, A, C), Or(A, C, B, D)).readily_provable()"
   ]
  },
  {
   "cell_type": "code",
   "execution_count": null,
   "metadata": {},
   "outputs": [],
   "source": [
    "eq = Equals(Or(D, B, A, C), Or(A, B, C, D))"
   ]
  },
  {
   "cell_type": "code",
   "execution_count": null,
   "metadata": {},
   "outputs": [],
   "source": [
    "Equals(Or(D, B, A, C), Or(A, B, C, D)).prove(assumptions=in_bool(A, B, C, D))"
   ]
  },
  {
   "cell_type": "code",
   "execution_count": null,
   "metadata": {},
   "outputs": [],
   "source": [
    "Equals(Or(D, B, C, A), Or(A, C, B, D)).prove(assumptions=in_bool(A, B, C, D))"
   ]
  },
  {
   "cell_type": "code",
   "execution_count": null,
   "metadata": {},
   "outputs": [],
   "source": [
    "Equals(Or(B, D, C, A), Or(D, C, B, A)).prove(assumptions=in_bool(A, B, C, D))"
   ]
  },
  {
   "cell_type": "markdown",
   "metadata": {},
   "source": [
    "This even works in a nested manner"
   ]
  },
  {
   "cell_type": "code",
   "execution_count": null,
   "metadata": {},
   "outputs": [],
   "source": [
    "Equals(Or(And(B, A), D, C, A), Or(D, C, And(A, B), A)).prove(assumptions=in_bool(A, B, C, D))"
   ]
  },
  {
   "cell_type": "code",
   "execution_count": null,
   "metadata": {},
   "outputs": [],
   "source": [
    "%end demonstrations"
   ]
  },
  {
   "cell_type": "code",
   "execution_count": null,
   "metadata": {},
   "outputs": [],
   "source": []
  }
 ],
 "metadata": {
  "kernelspec": {
   "display_name": "Python 3",
   "language": "python",
   "name": "python3"
  },
  "language_info": {
   "codemirror_mode": {
    "name": "ipython",
    "version": 3
   },
   "file_extension": ".py",
   "mimetype": "text/x-python",
   "name": "python",
   "nbconvert_exporter": "python",
   "pygments_lexer": "ipython3",
   "version": "3.7.3"
  }
 },
 "nbformat": 4,
 "nbformat_minor": 1
}
