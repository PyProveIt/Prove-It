{
 "cells": [
  {
   "cell_type": "markdown",
   "metadata": {},
   "source": [
    "Theorems (or conjectures) for the theory of <a class=\"ProveItLink\" href=\"theory.ipynb\">proveit.logic.booleans.disjunction</a>\n",
    "========"
   ]
  },
  {
   "cell_type": "code",
   "execution_count": 1,
   "metadata": {},
   "outputs": [
    {
     "name": "stdout",
     "output_type": "stream",
     "text": [
      "Defining theorems for theory 'proveit.logic.booleans.disjunction'\n",
      "Subsequent end-of-cell assignments will define theorems\n",
      "'%end theorems' will finalize the definitions\n"
     ]
    }
   ],
   "source": [
    "import proveit\n",
    "# Prepare this notebook for defining the theorems of a theory:\n",
    "%theorems_notebook # Keep this at the top following 'import proveit'.\n",
    "from proveit import Lambda, ExprRange, IndexedVar\n",
    "from proveit import i, j, k, l, m, n, A, B, C, D, E, P, Pk\n",
    "from proveit.logic import (Or, TRUE, FALSE, Forall, Exists, Implies, Not, in_bool, \n",
    "                           And, Boolean, Equals, Set)\n",
    "from proveit.core_expr_types import A_1_to_l, A_1_to_m, B_1_to_m, C_1_to_m, C_1_to_n, D_1_to_n\n",
    "from proveit.numbers import Natural, NaturalPos, Add, Exp, one, LessEq, Integer, Interval\n",
    "%begin theorems"
   ]
  },
  {
   "cell_type": "code",
   "execution_count": 2,
   "metadata": {},
   "outputs": [
    {
     "data": {
      "text/html": [
       "<strong id=\"true_or_true\"><a class=\"ProveItLink\" href=\"proofs/true_or_true/thm_proof.ipynb\">true_or_true</a> (established theorem):<br></strong> <a class=\"ProveItLink\" href=\"../__pv_it/theorems/ff775c2fd7717c8be8f93d9215c29a6d8727a7e70/theorem_expr.ipynb\"><img src=\"data:image/png;base64,iVBORw0KGgoAAAANSUhEUgAAADUAAAAOBAMAAAB9dUktAAAALVBMVEX///92dnYyMjLc3NxERETM\n",
       "zMzu7u6YmJi6urqIiIiqqqpUVFQiIiJmZmYAAADFjOEQAAAAAXRSTlMAQObYZgAAAAlwSFlzAAAO\n",
       "xAAADsQBlSsOGwAAAHVJREFUGNNjuHMGBE4zIAFesNCZDSD2SogQdwKQYJ0AZnNNgKqDyrGD+CwB\n",
       "WOUYDgCxEQN2OSkgvoVDzgiqF5scdwAD5wQccqwbGHgScMgxKDOsZcAltxAoi0uOh9UBpxxndQNO\n",
       "ObZDDOhy7fBQvgVjcBQACQCoqyavE2pH5AAAAABJRU5ErkJggg==\n",
       "\" style=\"display:inline;vertical-align:middle;\" /></a><br>"
      ],
      "text/plain": [
       "<IPython.core.display.HTML object>"
      ]
     },
     "metadata": {},
     "output_type": "display_data"
    }
   ],
   "source": [
    "true_or_true = Or(TRUE, TRUE)"
   ]
  },
  {
   "cell_type": "code",
   "execution_count": 3,
   "metadata": {},
   "outputs": [
    {
     "data": {
      "text/html": [
       "<strong id=\"true_or_false\"><a class=\"ProveItLink\" href=\"proofs/true_or_false/thm_proof.ipynb\">true_or_false</a> (established theorem):<br></strong> <a class=\"ProveItLink\" href=\"../__pv_it/theorems/5790755076a0430a586644d86831c4b85dc4003d0/theorem_expr.ipynb\"><img src=\"data:image/png;base64,iVBORw0KGgoAAAANSUhEUgAAADUAAAAPBAMAAAC2KZqIAAAAMFBMVEX///8QEBB2dnYyMjLc3NxE\n",
       "RETMzMzu7u6YmJi6urqIiIiqqqpUVFQiIiJmZmYAAAB2rqdQAAAAAXRSTlMAQObYZgAAAAlwSFlz\n",
       "AAAOxAAADsQBlSsOGwAAAHdJREFUGNNjYMAD3t4FgTtoopwNUMYuCMVTACTYFoDZ3AtQ5ThAfNYE\n",
       "rHIMF4DYmQG7nDYQv8Yh5wzVi02OJ4GBawEOObYDDLwFOOQYTBj2MeCS2wSUxSXHyxaAU46rZwJO\n",
       "OfbLDOhyM+BBDPE53927F2Xv3j0AAK2oKhKK3pHbAAAAAElFTkSuQmCC\n",
       "\" style=\"display:inline;vertical-align:middle;\" /></a><br>"
      ],
      "text/plain": [
       "<IPython.core.display.HTML object>"
      ]
     },
     "metadata": {},
     "output_type": "display_data"
    }
   ],
   "source": [
    "true_or_false = Or(TRUE, FALSE)"
   ]
  },
  {
   "cell_type": "code",
   "execution_count": 4,
   "metadata": {},
   "outputs": [
    {
     "data": {
      "text/html": [
       "<strong id=\"false_or_true\"><a class=\"ProveItLink\" href=\"proofs/false_or_true/thm_proof.ipynb\">false_or_true</a> (established theorem):<br></strong> <a class=\"ProveItLink\" href=\"../__pv_it/theorems/672ae54ead1cda02d0d369ab4a126dbb3152578b0/theorem_expr.ipynb\"><img src=\"data:image/png;base64,iVBORw0KGgoAAAANSUhEUgAAADUAAAAPBAMAAAC2KZqIAAAAMFBMVEX///92dnYyMjLc3NxERETM\n",
       "zMzu7u5UVFQQEBAiIiJmZmaIiIiqqqqYmJi6uroAAACi7J3sAAAAAXRSTlMAQObYZgAAAAlwSFlz\n",
       "AAAOxAAADsQBlSsOGwAAAHpJREFUGNNjYMAP3qLxuWaCQQGIfRoixJ4AJFg3gNk8G6DqoHK8ID5L\n",
       "AFY5hglAbMSAXU4GiNfgkDOC6sUmxx7AwL0BhxxrAQNnAg45BmWGUwy45A4CZXHJcbI64JTjvv4A\n",
       "pxzbJAYUuZUzZ3bMnDkdIrQGJsd3AUgAAC0EJ+pyF2HLAAAAAElFTkSuQmCC\n",
       "\" style=\"display:inline;vertical-align:middle;\" /></a><br>"
      ],
      "text/plain": [
       "<IPython.core.display.HTML object>"
      ]
     },
     "metadata": {},
     "output_type": "display_data"
    }
   ],
   "source": [
    "false_or_true = Or(FALSE, TRUE)"
   ]
  },
  {
   "cell_type": "code",
   "execution_count": 5,
   "metadata": {},
   "outputs": [
    {
     "data": {
      "text/html": [
       "<strong id=\"false_or_false_negated\"><a class=\"ProveItLink\" href=\"proofs/false_or_false_negated/thm_proof.ipynb\">false_or_false_negated</a> (established theorem):<br></strong> <a class=\"ProveItLink\" href=\"../__pv_it/theorems/7e57deca92c3a100d28e96368b684698596473120/theorem_expr.ipynb\"><img src=\"data:image/png;base64,iVBORw0KGgoAAAANSUhEUgAAAFYAAAAVBAMAAAAutAQGAAAAMFBMVEX////MzMxERES6uroQEBCY\n",
       "mJgyMjLu7u52dnaqqqqIiIhUVFTc3NwiIiJmZmYAAAAM3gM0AAAAAXRSTlMAQObYZgAAAAlwSFlz\n",
       "AAAOxAAADsQBlSsOGwAAAQ5JREFUKM9jYEAAHgY8AE1yJT61zAuQeZwNINIUi7IAELkUWagMTM6C\n",
       "cLaDCCmoIWAj2QqQ1D5FVhsFIhSR1bI+QFLrgKyWF+SdBGS1DO5Izk1AVssxgYGBbwKK2lSEWr4G\n",
       "ZLUgM3kZUNR2I9SyBSCrZdjIwLAKVW0Yw9u7QHAP5MIJKGqlGRiuo6qdAuGdBmIWAxS1bAc4H6Cq\n",
       "lceplrOB7QCqWhOEWjQ3MFwQYkBVOxfCOwfETAtQ1S7djKY2CBEOHBtQ1dYmoKl9gVDLeIEBFCgu\n",
       "d+/ehoQ3xE18d+9e8b17F2jQZaQ4vsiAF/BcQOLE4VfLF4DEYTqAV+0hZA67Al61Oii8U/iUch1g\n",
       "AADgFUT2ewdKFgAAAABJRU5ErkJggg==\n",
       "\" style=\"display:inline;vertical-align:middle;\" /></a><br>"
      ],
      "text/plain": [
       "<IPython.core.display.HTML object>"
      ]
     },
     "metadata": {},
     "output_type": "display_data"
    }
   ],
   "source": [
    "false_or_false_negated = Not(Or(FALSE, FALSE))"
   ]
  },
  {
   "cell_type": "code",
   "execution_count": 6,
   "metadata": {},
   "outputs": [
    {
     "data": {
      "text/html": [
       "<strong id=\"or_if_both\"><a class=\"ProveItLink\" href=\"proofs/or_if_both/thm_proof.ipynb\">or_if_both</a> (established theorem):<br></strong> <a class=\"ProveItLink\" href=\"../__pv_it/theorems/f65d197daca2ec146906d0f187b21897863c34f80/theorem_expr.ipynb\"><img src=\"data:image/png;base64,iVBORw0KGgoAAAANSUhEUgAAAK0AAAAXBAMAAACL0NJjAAAAMFBMVEX///+IiIgiIiIQEBB2dnbu\n",
       "7u5ERETMzMzc3NwyMjK6urpmZmaYmJiqqqpUVFQAAAB6qHgnAAAAAXRSTlMAQObYZgAAAAlwSFlz\n",
       "AAAOxAAADsQBlSsOGwAAArpJREFUOMutVU1oE0EU/vKz2WSziStePCgNvYjooYqoBys95CCU2lhF\n",
       "EEEqIh6kJFDwaKM9eTG5RIoHGxHpRbFgqfgfexCkYnPwpmDwIqWQVLCkaW3jm3mzYZPYaKoLs5N5\n",
       "b9733vvm2wmwqcff0pvEZp+dPN34vfcujYL48blN2FAPz+MN9rfVYvFWAq4c8Eysx9rEPaPgq+Id\n",
       "jtFLt6TlIC3LQAa4KtgabBP3BU/BkmDSFJC+hKT9O2CsArNAgLJ5823idvF0rF+iRWpMm1SrSdie\n",
       "GEziItAuvWkWhdUhC+qj8VJawosEdpgGge7v7DzQJm6Qjy2ILzlbFRFp8QxC+0o9eEkNT4CL0hhr\n",
       "iJ5Us9aEG5BweIgRmSBMCuBjGzm/dV74TGroJvxSa9oh6bqyGp2WrME+zJNyqcenei8pizuvEqdk\n",
       "pF6Am4vqSCJ0RBBFB+CLebPC5l1j6iNwddXh9jPKDLBNWTwywHX5eYn3jOETOy6I7VSGTjyHLD62\n",
       "iX1M/STMRSeuMcw9LgBzdbgngC1M60f7A1inMUfbDVFZ+o20WXc4Jo+BnBPXFZDNohva3joeiH83\n",
       "d+bWea/+k14lShoS+foyMhxPpS+1Y/YbnLhWMM2Sf/8qoXB9ogNDCJQ7c33I8rxM2BVBpogdlfVM\n",
       "KPZmoC04cY0E0028n7MVImSEUZFgmRWzW+mEdt7L2EIMyzKmoqWYojGVdeAGo8eXFO/+FYWrU5un\n",
       "qxmE4hVWsvoq4uvF+SFJTNaWpIvgEkwjHjl1ZsFfVrwbZXv3rj98ONdrvx7Q4ea1HviXoO1x8CBY\n",
       "XMMpyhrDgM2DuFf+5l6ibo9Ce31b78a7H9HpvAP3cQFnK9nhvDke7R2qxfla/yM03Y8h58LpbLjw\n",
       "tNYXa1Pa+xvgGo13x7WWuNsbDbkNcE38xyf5L8G/ABjepnkpWsIQAAAAAElFTkSuQmCC\n",
       "\" style=\"display:inline;vertical-align:middle;\" /></a><br>"
      ],
      "text/plain": [
       "<IPython.core.display.HTML object>"
      ]
     },
     "metadata": {},
     "output_type": "display_data"
    }
   ],
   "source": [
    "or_if_both = Forall((A, B), Or(A, B), conditions=[A, B])"
   ]
  },
  {
   "cell_type": "code",
   "execution_count": 7,
   "metadata": {},
   "outputs": [
    {
     "data": {
      "text/html": [
       "<strong id=\"or_if_only_left\"><a class=\"ProveItLink\" href=\"proofs/or_if_only_left/thm_proof.ipynb\">or_if_only_left</a> (established theorem):<br></strong> <a class=\"ProveItLink\" href=\"../__pv_it/theorems/4b9a7a66fb7faae8a2341d487a15c078561ca52d0/theorem_expr.ipynb\"><img src=\"data:image/png;base64,iVBORw0KGgoAAAANSUhEUgAAALgAAAAXBAMAAABKV5jPAAAAMFBMVEX///+IiIgiIiIQEBB2dnbu\n",
       "7u5ERETMzMzc3NwyMjK6urpmZmaYmJiqqqpUVFQAAAB6qHgnAAAAAXRSTlMAQObYZgAAAAlwSFlz\n",
       "AAAOxAAADsQBlSsOGwAAAqxJREFUSMetVU1oE0EU/pJmk02ySVe8Fht6ERVBxR8UKj3k4MV2/aEX\n",
       "QapgFDw0WPBohILgxQRKpUjRgEgvigFLRUWMHoQi2GC9iII5KSIkCvZPqfHNm/0ZQxIk8cHMvH3f\n",
       "zjc7730zC3Rgl1uBOjoyX4mHq43RiAmUhfOhLfK3crhVFzZGf1e+nAV6gMfieaodbi3HQ6wm+rhF\n",
       "XcjkSNcIUE0jbOGSSM9IO+TRohyqIvWG4A2mOZIl/34BRkHwI1Bqh7xLDoeGmDLhZX+BAgu0wB4Y\n",
       "tH64rZS/k6Iwe/nTDlN7KoEqtQnazjSwq69vd1vkszIr+Fh0NJOQwF7g5GYaB4GHwBmOWXUpdQvX\n",
       "hHya+3vIDHBF0/DJeoaWN2xibB64Bp3lqO1j6OKv5BwnMeiQHEt7hC5Ktp37ArI8PVSGX36ebxVY\n",
       "FLtZJBIrkBexwLpUaQK+HX+RDynldlGyA8x0/klVam0K72U8SC8EVsjJkE5NWc+ZnTzESUPfVPLI\n",
       "mOmRu6hDfgToTthHyj4t3bQT4zs5t6nlnnPMvCkFVsLRokruC5cV+Tmok5YC4Jdb8Yfs05KhF+I/\n",
       "yXkjRDTJHHgkT0DPq89Qyc1oziN3UbJTYltCyHIrvtd5Ge8lFWbEnJfUxvnLZrCRoRfQvqrkkTQn\n",
       "OZBKpU4rqFQaxsWLq1JUW+z4BE3ab9lajXP5Z5NVLjbNzeYV8mhycMlJuIKSXQCGa5OIja6xFp0j\n",
       "9KlWqVxnDWx1r0+axYv0072gStGEvuKRu6hIcrr1IdMTjneXqlzSBqAvQdumpEUkdR3H7WPloUKW\n",
       "hX+62Mg5CO3ZjVA/5n8k50oK+YMyTqzlx2ype6iwc63Jr9Q9xxQ/qAINr83h1uT1a99pQh6xGibV\n",
       "bPkTrP/DFpuQG/jPpndO8Qd2eaUsiEjqxwAAAABJRU5ErkJggg==\n",
       "\" style=\"display:inline;vertical-align:middle;\" /></a><br>"
      ],
      "text/plain": [
       "<IPython.core.display.HTML object>"
      ]
     },
     "metadata": {},
     "output_type": "display_data"
    }
   ],
   "source": [
    "or_if_only_left = Forall((A, B), Or(A, B), conditions=[A, Not(B)])"
   ]
  },
  {
   "cell_type": "code",
   "execution_count": 8,
   "metadata": {},
   "outputs": [
    {
     "data": {
      "text/html": [
       "<strong id=\"or_if_only_right\"><a class=\"ProveItLink\" href=\"proofs/or_if_only_right/thm_proof.ipynb\">or_if_only_right</a> (established theorem):<br></strong> <a class=\"ProveItLink\" href=\"../__pv_it/theorems/25cf93e6d03e949bc2692d69fffe0df53823d97c0/theorem_expr.ipynb\"><img src=\"data:image/png;base64,iVBORw0KGgoAAAANSUhEUgAAALgAAAAXBAMAAABKV5jPAAAAMFBMVEX///+IiIgiIiIQEBB2dnbu\n",
       "7u5ERETMzMzc3NwyMjK6urpmZmaYmJiqqqpUVFQAAAB6qHgnAAAAAXRSTlMAQObYZgAAAAlwSFlz\n",
       "AAAOxAAADsQBlSsOGwAAAn1JREFUSMetVU1o1EAU/rLd7Ka6u414LTb0IiqCilUUKj0s4kWNHnqU\n",
       "enAVPDR48NgVCkIvbqFUihRdkNKLYg6loiKuHoQi2MV6EQX3pIiwUfCnKrq+eZPQ7iQEyfpgZt68\n",
       "b/JN5r1vEqADuxQHGujItDoPE9HoBhNoCOdNIvKXcrihhHOjf5ofzgK9wH0xn0nCrU/ykG+JvmBT\n",
       "lzU50jUCeA66bYyJ9IwkId9Yk4MnUp8TvBmHIxXy77jIuYIf6XoS8i45HDnOlNZa9pcpsEwbDCBH\n",
       "+3cnSvkrKQqzj1/tKLWHEvCoTdFxZoE9/f17E5EvyKzgbS3QjCWBfcCprTQeA+4CZzhmKyltn9oh\n",
       "8lnub6M8xBV1oMl6Zr9t2sLYEnAFBstR38/QxV/FRU5ipl0aCkq2k3sXFX4820BKvoC2CqyI06wQ\n",
       "iZ2uilj6t1SpBW1XmFxFyQ4y0/kHntTaDF7LeIYWpL+TUyadmrKe87t5KJCGPoXJVTQgPwH0WP6V\n",
       "8m9LD50k95mcm9QmH3PMvC4FVsfJWphcRYO0uEBKHiWV9W9LmRYUfpLzQohoms+He/IG9D57jxB5\n",
       "CCU7LT4gQsjyKNrzqoz3kQrL4vY+pTbOBZnHZoaeQP+4jvxwqVSyIlCpNIyLhauy5Nv8+BTtecD2\n",
       "tVrg8i8UPS42PVuptr95IwIluwAMt6aRH/3BWgyu0LtWs3mV79X2tXOjwpsM0nfBUcnDqEiyE3/J\n",
       "DCvwblGV6/oQjK/Qdyg5dyNQIUv3nz5s5ByC/uhadhBLX4qLdbWgEaiwc/Hkl5V5fp2fCa3OK/Ph\n",
       "eHJ177lY8jk1qWbsT1D9w9ZiyWv4b2Z0TvEX23uk8P6QqlsAAAAASUVORK5CYII=\n",
       "\" style=\"display:inline;vertical-align:middle;\" /></a><br>"
      ],
      "text/plain": [
       "<IPython.core.display.HTML object>"
      ]
     },
     "metadata": {},
     "output_type": "display_data"
    }
   ],
   "source": [
    "or_if_only_right = Forall((A, B), Or(A, B), conditions=[Not(A), B])"
   ]
  },
  {
   "cell_type": "code",
   "execution_count": 9,
   "metadata": {},
   "outputs": [
    {
     "data": {
      "text/html": [
       "<strong id=\"neither_intro\"><a class=\"ProveItLink\" href=\"proofs/neither_intro/thm_proof.ipynb\">neither_intro</a> (established theorem):<br></strong> <a class=\"ProveItLink\" href=\"../__pv_it/theorems/e9c1dd0f2eaaa7e684000223213d4793a32f1f250/theorem_expr.ipynb\"><img src=\"data:image/png;base64,iVBORw0KGgoAAAANSUhEUgAAAOEAAAAXBAMAAAAPVjVNAAAAMFBMVEX///+IiIgiIiIQEBB2dnbu\n",
       "7u5ERETMzMzc3NwyMjK6urpmZmaYmJiqqqpUVFQAAAB6qHgnAAAAAXRSTlMAQObYZgAAAAlwSFlz\n",
       "AAAOxAAADsQBlSsOGwAAAu1JREFUSMe1VU9IFFEY/3bd2Rl3Z2qjS4fAxVuUYBEZkeFhiUCsyYPH\n",
       "UCITQlw6dMwlT11aL4ZE5EaIl6I5iNH/yUMQRu6hSxS0dAkR3BUKNUv73ve9XWf2zXpY8YPfzPu9\n",
       "b+b93vfnzQDs0DI1SdCTGdixhfIquR386EOJgiDf6lb8HEAmqp55v7m0dDcNIRcIL8TceL2C2qhK\n",
       "rE1x3WPjRU/QzAmkKwBjQLiJN6O3XsW4q5J4UVTLFGLRtJgwlgFi6wBzQGjEvUTy9So2BJBzF0gn\n",
       "WamoifGZqNpgE0zcWGPdZfyiEiPRRAF0IV7TzJ4SSpxEuIxjzc3H61acVkkcvrvljk1y7L2g/cC4\n",
       "IwXGM4Ar5LCrSuSndqDifZU8geEOigy7kxtnuG/fgtiEOcq4AwadEK2N3DfWUzNUh6i/Kdu2xvrQ\n",
       "dOdVHrbgzpqFOUzQHMjSenoBwrzNpgxYp0UTtzKidiQn5iP/uMxJCLWqitLLNguwn0en5Axtmkjo\n",
       "2ssit/44fGXnZYToJr3EsBLcOFNHucwOmCVVUXrZFgHmayleBNiblN8Decw3EPOY4FgrA0bf0Xzi\n",
       "AZc5D92uqii9bO2gHalkdUuxhZMKYcoRhHWOVf+LlyLm0UoyoGuMsgHPyZ89OPcTFMWyl5df/vgm\n",
       "zcO+8pQjSUycgBK/8ynH91VUXRMF62XACBV6SpZmFrRFj+LZ/v7+ZMXLDEt9yWGl895tCTIi3lzl\n",
       "ZjvE040Y8iMRVbyDIdpYHKZU0ZY1yub8MRa2vMSw1MYfJte9ikh6NsfAGlqj41E+/0MbSwuDlOYc\n",
       "o5w2yKa5RvA0Xa1Y8RLDUsdWmITTHkUfCbBbEmyPscXyWgcYv0E7XFVHp+KV582GbplV0/Gs6CMB\n",
       "9kqCPzBnQHt7T2+HD79SM/nqzql4eeGJVOdg2TXgXXJgW0Hxh1L+UpZnHFVesQKW6alJFItmGD6b\n",
       "3FZxMmjjiVpEsQMSPnO3VXRhd83YpXX/A3nKv7f0SwVXAAAAAElFTkSuQmCC\n",
       "\" style=\"display:inline;vertical-align:middle;\" /></a><br>"
      ],
      "text/plain": [
       "<IPython.core.display.HTML object>"
      ]
     },
     "metadata": {},
     "output_type": "display_data"
    }
   ],
   "source": [
    "neither_intro = Forall((A, B), Not(Or(A, B)), conditions=[Not(A), Not(B)])"
   ]
  },
  {
   "cell_type": "code",
   "execution_count": 10,
   "metadata": {},
   "outputs": [
    {
     "data": {
      "text/html": [
       "<strong id=\"binary_or_contradiction\"><a class=\"ProveItLink\" href=\"proofs/binary_or_contradiction/thm_proof.ipynb\">binary_or_contradiction</a> (established theorem):<br></strong> <a class=\"ProveItLink\" href=\"../__pv_it/theorems/a14ea537e6cb0beb9642efe65138e330bef3f6320/theorem_expr.ipynb\"><img src=\"data:image/png;base64,iVBORw0KGgoAAAANSUhEUgAAALMAAAAWBAMAAAB567CdAAAAMFBMVEX///+IiIgiIiIQEBB2dnbu\n",
       "7u5ERETMzMzc3NwyMjK6urpmZmaYmJiqqqpUVFQAAAB6qHgnAAAAAXRSTlMAQObYZgAAAAlwSFlz\n",
       "AAAOxAAADsQBlSsOGwAAAflJREFUOMu1lL9LG2EYx7/SXHK5u6QHrg6SjjrUInRKyXB0Ee2ho1Bc\n",
       "TCfxQHB0cW+yCOKgGRpcBA8qig71dBMF7w/okKHg4KBCRVQKvr8ueU5NCDT3QN73efi+z+fI87zP\n",
       "CyRnDb787jHUCPh6wJfVHqNzNl+X2E+fSQSddYFUmAjaYmXJIhE0PhQKowmh94BZ4bhx2YwcrT3C\n",
       "7Yz+Dl1cQO2jCBcfnV2PO+no3JSnnMz8ztg3SlApL0WFTrupGt9T/0RoDaLvfQz9JYQvB+AY6Kdo\n",
       "lSKNigqds2UXN0fElvdhXVO0sWDzkTJKwCVwTtEqRRoVFRrVI7HZ62J7E2IyoOi+bIP7aVbXIrRh\n",
       "ilYp0qgYocdXBAH7IqoMnF6Aom2zilyAH2yybs5+eQQWpQiLiRF6WXRxU1XqGNolRRseL/0Mv0Ws\n",
       "DV951fG5XC4PNlNk1BQpOi8+tuNcuapklRpBm87ELXDGS83aoD+QZy1KEVFLNAuFd2xYGq0/h4on\n",
       "S4Ztevls6HdsXnmpWRuMuxa6mSKimBizLeBtqJWg30IbIgXhzyO7YtYf3gYXkz7YIW5+M0VGUnzF\n",
       "zE/QDtcyRZz8dXZDgv7ZwPQ9KxBrtbXhjM2x2Sg+S5HjIMUOs0/8dDeHnkftrd4Nut4ham9BN+ig\n",
       "Q9Sd6f/7sj4B59V+0E7dh5oAAAAASUVORK5CYII=\n",
       "\" style=\"display:inline;vertical-align:middle;\" /></a><br>"
      ],
      "text/plain": [
       "<IPython.core.display.HTML object>"
      ]
     },
     "metadata": {},
     "output_type": "display_data"
    }
   ],
   "source": [
    "binary_or_contradiction = Forall((A, B), FALSE, conditions=(Or(A, B), Not(A), Not(B)))"
   ]
  },
  {
   "cell_type": "code",
   "execution_count": 11,
   "metadata": {},
   "outputs": [
    {
     "data": {
      "text/html": [
       "<strong id=\"left_if_not_right\"><a class=\"ProveItLink\" href=\"proofs/left_if_not_right/thm_proof.ipynb\">left_if_not_right</a> (established theorem):<br></strong> <a class=\"ProveItLink\" href=\"../__pv_it/theorems/95078694b6f2a8517ae8fdf7d40a916e180631c60/theorem_expr.ipynb\"><img src=\"data:image/png;base64,iVBORw0KGgoAAAANSUhEUgAAAKsAAAAWBAMAAABNknGBAAAAMFBMVEX///+IiIgiIiIQEBB2dnbu\n",
       "7u5ERETMzMzc3NwyMjK6urpmZmaYmJiqqqpUVFQAAAB6qHgnAAAAAXRSTlMAQObYZgAAAAlwSFlz\n",
       "AAAOxAAADsQBlSsOGwAAAhtJREFUOMutlDFIHEEUhv/TXb3c7ZqFdEGI2NqYGLBStjglTcgmBDtB\n",
       "BLdQJCeCjRCFgCBoTkElRDAWik1CrggGtXC1EyFcl0bQyhQpLkUCCRL0zduZ21niwUl2YG/mf/Pv\n",
       "t+/e2x0g+TFL15lYnCSKfUfXrli8SZJqX9LPS7rSA0lis+Vp4JYHGKUksY+e5AErIHSS1LRzT2T5\n",
       "oLX1YaI1wCllis/AEGuvqrOoFl4N2A+Ycml6jTS/ZGYnRycuctv5sKNLq21h0VVHpSXm+kcWURC8\n",
       "Bs9YF9L4y1GrBal2YOx8GI47/zWGJUuWpqaKSw1Npkb2ysJvO2HHtu7z1FSE9QNZKg1hjf4Yliw2\n",
       "1W1DuSpDk0+B2y1isXDA2lnjqb6EZwGaOeLO9cSwwjLArQhdlaFJ6kMdJ/54mZPHDocLzcffYDLI\n",
       "2evI61i2nCDjSlc0IpkR7ysn/oo7toU7HD+E+Z03RbaTd3UsWxqoGdIlqu37/mAkCSa69ZsLwyl9\n",
       "ypX59aHtwrq14vujoraGjmWLFWwolyqsJvsul2G/+OOqv5GiDcZ3AR/zjW6YrZHSsNKyMKRcEVaX\n",
       "sfGeGlgyXaR/wWyTHwhhxzQsW4Av9Ejpei4/Kymv+eK6Ye6/bezC0c/cNt07Q8+2F5f8IMKGlvBs\n",
       "kq5xeURJWf2oVAuz1x+OwlXPzRpPvs3rw9WwGa82bHAzrPV/Z930je+4AkDom5e0zQ2lAAAAAElF\n",
       "TkSuQmCC\n",
       "\" style=\"display:inline;vertical-align:middle;\" /></a><br>"
      ],
      "text/plain": [
       "<IPython.core.display.HTML object>"
      ]
     },
     "metadata": {},
     "output_type": "display_data"
    }
   ],
   "source": [
    "left_if_not_right = Forall((A, B), A, domain=Boolean, conditions=(Or(A, B), Not(B)))"
   ]
  },
  {
   "cell_type": "code",
   "execution_count": 12,
   "metadata": {},
   "outputs": [
    {
     "data": {
      "text/html": [
       "<strong id=\"right_if_not_left\"><a class=\"ProveItLink\" href=\"proofs/right_if_not_left/thm_proof.ipynb\">right_if_not_left</a> (established theorem):<br></strong> <a class=\"ProveItLink\" href=\"../__pv_it/theorems/acb0f049bcb0669728419af9174e8d56a643964f0/theorem_expr.ipynb\"><img src=\"data:image/png;base64,iVBORw0KGgoAAAANSUhEUgAAAKsAAAAVBAMAAADLBgMvAAAAMFBMVEX///+IiIgiIiIQEBB2dnbu\n",
       "7u5ERETMzMzc3NwyMjK6urpmZmaYmJiqqqpUVFQAAAB6qHgnAAAAAXRSTlMAQObYZgAAAAlwSFlz\n",
       "AAAOxAAADsQBlSsOGwAAAmNJREFUOMutlE1o1EAUx/+LmW42m11HvEnR0ouHevALxcNKDrGXoi71\n",
       "KJZcTKFQmiJ4EWxB8KTuirWIivag9CK4YKmooLE3sWDAgxcPe5CKFHYtWKsVP95MkmakrWUxA2Fe\n",
       "HvP/zcv7COqg9R5pLXPoV+NTP/BUvNxIDYtNDtD0cJ5M3UkPW+HAwxpyZUAL0sO+8ejhMH0glx4V\n",
       "TXqujQJ7Ozv3p4g9APTtpP0xcFo6yuserUU7W58Wi7Nft2y/LYwr0GWTsYPSf/aHPe1JqzB2qytM\n",
       "elzRE14sHprq6VepkRjIfAPeUl7RVtYmhEP7GTZeBzK7geG5AXDr8ru/sMcDGThFMQNsVbGRmGik\n",
       "1ZZEUDys2OQeuRVrMD8jT6khrHZKxRpnuBgcwwLmqdwqNhIDm+lOc0FY1ZfSwe+E7Ryg10e79FiX\n",
       "jqjYTK6ONvF5QAlsl4qNxMAIJaC4LKyj16UGT8J2bn/9EUyC+LN9norl+SoKPu7R/CzMPvcUaiwG\n",
       "dlBvjVSFdUFWbDJK1gzYPAw/jPbcNgVreCLpjugbKkCfbI9u13U7EjG1LJ07JNuiKO+dspvyjbJW\n",
       "mTDHXXdQ5FZTsHn72CIwK1JLBdCX41DriRhzvxuN8UD9DFQkvkQj7WWtMFoto2A5dCpxTqSWCmAs\n",
       "JdgV8ar1gIoYMAv6IlhXNCCEHU6wIjHURuYHUYAyemtgVjQsUrwWNX8Y7MXNbAmvvtjTdOIiXV64\n",
       "Oub6CfZRHSe/U4dTgc27ds8gDUVJFf9joAsrU9PtDiRuZ6PjG6z7a7ud1o6vWn5rWP//fnajLSv+\n",
       "AJWonLHN02b8AAAAAElFTkSuQmCC\n",
       "\" style=\"display:inline;vertical-align:middle;\" /></a><br>"
      ],
      "text/plain": [
       "<IPython.core.display.HTML object>"
      ]
     },
     "metadata": {},
     "output_type": "display_data"
    }
   ],
   "source": [
    "right_if_not_left = Forall((A, B), B, domain=Boolean, conditions=(Or(A, B), Not(A)))"
   ]
  },
  {
   "cell_type": "markdown",
   "metadata": {},
   "source": [
    "This **singular constructive dilemma lemma** will require a single provable $C$ be designated as a Boolean.  The main (non-lemma) version will drop this constraint.  This will all culminate to the **constructive dilemma**, below, that can prove some $C \\lor D$ given $A \\lor B$, $A \\Rightarrow C$ and $B \\Rightarrow D$."
   ]
  },
  {
   "cell_type": "code",
   "execution_count": 13,
   "metadata": {},
   "outputs": [
    {
     "data": {
      "text/html": [
       "<strong id=\"singular_constructive_dilemma_lemma\"><a class=\"ProveItLink\" href=\"proofs/singular_constructive_dilemma_lemma/thm_proof.ipynb\">singular_constructive_dilemma_lemma</a> (established theorem):<br></strong> <a class=\"ProveItLink\" href=\"../__pv_it/theorems/f3f3ad9131886904745d318db9ce47ed835066860/theorem_expr.ipynb\"><img src=\"data:image/png;base64,iVBORw0KGgoAAAANSUhEUgAAAP8AAAAVBAMAAAB7+SUdAAAAMFBMVEX///+IiIgiIiIQEBB2dnbu\n",
       "7u5ERETMzMzc3NwyMjK6urpmZmaYmJiqqqpUVFQAAAB6qHgnAAAAAXRSTlMAQObYZgAAAAlwSFlz\n",
       "AAAOxAAADsQBlSsOGwAAAwhJREFUSMfFVU1oE0EU/kJ3m226GyNSkVKk9OKhiv8UlGqEpJcqLrXo\n",
       "oSgF7YqFaorgJSgBwZPaSquIggat9CJYJFRswcbeRNGABw/2ICIqRKqCIvgDvnmzPxNI0KCQB7v7\n",
       "9u2337x575sZvALZAmpg+vLFD0YcM8K/XIsEljXBupvHKXKN/hqMv3cV3eYyaLABrVCDBMZoYNwE\n",
       "zDzQUIPxtV/inqZrQ1vbphokMNIq7vvougcMcMj+819TnlMWa1eTwO6Y552HwUtR7+DXEz8S0yn2\n",
       "QsVEL3Na41fbpUo8sbrYErgSFLYyl0zSI3ws131YCfukazNeqN7WskFTYLYitE44kTXAQWD47SBi\n",
       "8XMvShIgbCM9ogrcJ5B2o4B6js/TegvCLinZdr9oVkxqcHI9P6JTMD8J5zl9fIlG6hAloO0vSYCw\n",
       "Fol3QoH7BOIDrM10ccOKwDP4m50k5Qowlos3+pAjsWv8qCugR1AYYj4n0cKf4meTJQkIbD9rx4MH\n",
       "BHgvJEYtC3PbOqGvljPL+KSQOwAVjd1dF7k5uC/V2fL4HeNZpToPGZvdmFITYOwCIvEALoOaQzZG\n",
       "2NdezY3PTx6k0EXhIx0eqRxHiFBO6zRrcNJt1Tz0IleCCxjJywqkm9UEGFtP6gngAQHQncVWbxzS\n",
       "yAF37WgzLqns1E9qoVw3UZ5dLvHRdns2IkRZJzIsmJccZ0hoQFMTYKyZn1DgAQGtqySEHCxXUsZ3\n",
       "txhvbEkqX/uOFrPq8iCilOwZ7ggnSnUJZcJxWQEtpCTgYkcHFLgMcgsc+meRIitcSUW+cQucQx5p\n",
       "2X3hNrCkoMdhfIXeDvRC3wI0u3sUJTCsJMBY4CkN5MO9INlOuvZkEcqK8IiNHll3jbrpkpaxxm3Q\n",
       "566EO/HoS2KaeI4X0JdbSiU9Q9OzLow7+SABiQUfYz7cC5L4xXj67I4mETavJ7qH5BBprjuTVjbL\n",
       "97zzUe9yBoPvFY9t5TjVy4f/bqO+5e9Y5eGVEqgAj9jVHlF5f/WgqgTMqsL/YJn/fyz/BueS1/KF\n",
       "O1bpAAAAAElFTkSuQmCC\n",
       "\" style=\"display:inline;vertical-align:middle;\" /></a><br>"
      ],
      "text/plain": [
       "<IPython.core.display.HTML object>"
      ]
     },
     "metadata": {},
     "output_type": "display_data"
    }
   ],
   "source": [
    "singular_constructive_dilemma_lemma = Forall((A, B, C), C, conditions=[Or(A, B), Implies(A, C), Implies(B, C)],\n",
    "                                                domain=Boolean)"
   ]
  },
  {
   "cell_type": "code",
   "execution_count": 14,
   "metadata": {},
   "outputs": [
    {
     "data": {
      "text/html": [
       "<strong id=\"singular_constructive_dilemma\"><a class=\"ProveItLink\" href=\"proofs/singular_constructive_dilemma/thm_proof.ipynb\">singular_constructive_dilemma</a> (established theorem):<br></strong> <a class=\"ProveItLink\" href=\"../__pv_it/theorems/ce54cf91536af8521128da7c955cb8dd248760a10/theorem_expr.ipynb\"><img src=\"data:image/png;base64,iVBORw0KGgoAAAANSUhEUgAAASwAAAAZBAMAAAB5kw7sAAAAMFBMVEX///+IiIgiIiIQEBB2dnbu\n",
       "7u5ERETMzMzc3NwyMjK6urpmZmaYmJiqqqpUVFQAAAB6qHgnAAAAAXRSTlMAQObYZgAAAAlwSFlz\n",
       "AAAOxAAADsQBlSsOGwAAA4NJREFUSMftV01oE0EUfiG7ySbZjRGpSClS4sFDldY/BLV1haQHa3Gp\n",
       "RQ+iFLQRC9UtgpeiBISetK22FVHQoJVeBIOEii3Y2JtYNOJBxB6kiAqRqqAI/oBv3m52J5tGKxtv\n",
       "DmRmduZ7O1/e+2bmLYD7MhdNQiWLJ7q2Eq8ZhEqXmf+0/orWK9bMuqQVZo2Sdc9HXD7/XlKR1gR7\n",
       "uuSSViiFTaACwl9WBcqdLNI6jQ9Sh0tafubzPves9q7GaiqJtAIagJBzq60RbFrd0xpCMnCDaUtG\n",
       "RQRcS36mIsoXfrK6l163Phrd6JqWNxpdpbqmNVDL6n1E6y5AJw1qZeHpQkcrRyukg09bvEWZsjti\n",
       "n1v9INEhIW6mkZPfY+M69ZThK3WG6Ao7woQUoQxa+Ip+1l2ZiccXtuBm/cczLUf4yyYfayf69Umb\n",
       "lk8TUnZgQa4FTwNAz5suiKjnnhfRQkgIm7CFso/TTtiJ9fUc+BocFnaxZqfxJLCHg3gDHqLe9oKD\n",
       "kZYSMRQ/to6acBrkjxDC0CIt4UARLYSwM3O0gOJoPWW1sgl/aYeFddLas3mAJ2Ad48+Qx0t6rCes\n",
       "bu6gBzQWuUqNNwdtWaihEfVsvIgWg3SQFA0URysgoy4GMOb+nNOClXfAzzaCuMbwAUZNYg49RY9T\n",
       "LIiCeSe2jlCA4Z6xG2oevQWRXhuZ3KDztAgyC0HVRPG0hBf4n+esIc5CSGAZ0rlZ6dPMfR2acfgo\n",
       "Si9ca+9EJvm4SesMKX7MDPc0iHkIZg1v9VbzixDER1uOUDwtqQmrrU5aY5aGWlL2LArzoLlVhQnw\n",
       "WrsWlB+oEM2kFSaXZGIfNDPuAyn5YiLRzbQl8IsQRM6OFlBFGQRzHhOSUmJBpT9uz6IwpW+m415r\n",
       "XuYi85rZfyyfKkpsPLiObsQdbut+1fCW4OEWMSGDnQVUSWIzj78VTgsKYkLlZlGYwa8UxMRhJInB\n",
       "8iTL5Fu3AJbkRBWkLyDWmQcs0urhFiEIwGNcwUQ5ae1JgSdVaoFllzXbjlQ1aDMiJ6BYxC0A1WXS\n",
       "wFATiFOX/Y3w8HNsHN/Uh65Qzg8nsvYiBgTobjdRTlri5I4qKLXADZi2Zk/k5Guxlm4D1kuRyyzV\n",
       "fp+dKtYCzYkucAr4L7JTh4XI9flsRVtc0nxzYZRrWlwJLuaWdNDK/ntacuU+Mf6QDV8o/U50lT97\n",
       "ott+AaqBCLavd9WrAAAAAElFTkSuQmCC\n",
       "\" style=\"display:inline;vertical-align:middle;\" /></a><br>"
      ],
      "text/plain": [
       "<IPython.core.display.HTML object>"
      ]
     },
     "metadata": {},
     "output_type": "display_data"
    }
   ],
   "source": [
    "singular_constructive_dilemma = Forall((A, B), Forall(C, C, conditions=[Implies(A, C), Implies(B, C)]), \n",
    "                                     domain=Boolean, conditions=[Or(A, B)])"
   ]
  },
  {
   "cell_type": "code",
   "execution_count": 15,
   "metadata": {},
   "outputs": [
    {
     "data": {
      "text/html": [
       "<strong id=\"singular_constructive_multi_dilemma\"><a class=\"ProveItLink\" href=\"proofs/singular_constructive_multi_dilemma/thm_proof.ipynb\">singular_constructive_multi_dilemma</a> (conjecture without proof):<br></strong> <a class=\"ProveItLink\" href=\"../__pv_it/theorems/cbb98c08c79eb70181344aafe5b60e3c7141de470/theorem_expr.ipynb\"><img src=\"data:image/png;base64,iVBORw0KGgoAAAANSUhEUgAAApIAAAAZBAMAAABwTtNnAAAAMFBMVEX///+IiIgiIiIQEBB2dnbu\n",
       "7u5ERETMzMzc3NwyMjK6urpmZmaYmJiqqqpUVFQAAAB6qHgnAAAAAXRSTlMAQObYZgAAAAlwSFlz\n",
       "AAAOxAAADsQBlSsOGwAABdFJREFUaN7tWV9oHEUY//Zu9/7t7fXa0tIqhHC++KCQihKpWk7IWUSj\n",
       "K4aCVPRQmoqIrKbkrXJYFfrSHEoh+KCLtqkPBqKNWlOLV5CCaR6uGpCaWrfFB0GIsSDWh1K/mdnd\n",
       "md2d3TtKOO7BD7K57+Z3v/m+3858OzMLkGylyp3QR3a10oB+s02VNiiVuzvB8v0VdRP60IotvCz9\n",
       "r+S6KemQz5eSlOyA6LGS/RQNPPXqaustT8kF8s10kpIdED1Wsp+iUXaYsHKXp+QbeM3Vk5TsgOix\n",
       "kn0UjfaCBaBf95TMmwBqO0nJDogeK9lH0eTvw0thyFOS/MsnPnE6IHqsZB9F8yS5odk5/9l9T6Vy\n",
       "b/KzOxnR62d330STu0anuOUr+RXAvmQlkxG9VrJvolH/Cq0nj0DOSVbSR5hiuZXjzRieuTiAmRSs\n",
       "KVEyHC9jNhqxZAp0ieBGsVpcVGX2L3U9pGTGVO0g8s15u7hLUNJDaMMC6GlL+jgbDvoXH/38DP1Q\n",
       "jwGE/Q6NTT8a5Y+RMZMzL8rxA/O1mqt1ZwS3xdgMCVxnH9Nr7ojylDTKYgHPDozbhlODLwQlPYR6\n",
       "I1xuoyP+RpBKUXO/WKKSHoDE7kh8aWNASRZNAfe5L/J7pDkgw3/UhswQHOsOIdxBJy5DCi9U2Zik\n",
       "Sv4k7BabZwXoaczbOKtDVdwtuogTOziuMFGWKSlCCJWiQq0tKukBcJdCAwr70sbgbpFG8yOOxxWu\n",
       "pG6HejdIdgYuU4w5unDqAsGNYkMZivCjDEVnd1VQchQbit+8NqCcs0Ch+IOflANKjrKflj8QSkte\n",
       "WlwFCKXCMfmdKSrpATJkmkp8aWNQSRJNjoytg1zJVCTA3/FvCm9its2Wn50R3FKyDAX4KHt2kyeO\n",
       "agpKHsJfPPtxK+0oDuyh8lu1nwNKHnJYXf5akExvSks3h1AqRT85LNZJH4C3+JjElzcGlSTRlAb9\n",
       "ryjzYZFcHUd7D2fEVZdurisEt8OhDMNwNhng1xYUauJZUAkhb2+HDZZehU+ZkrpSF5Us0VJ3AjYD\n",
       "vMMGTsFShmD2djs8uQnENUqlqNnPbEFJzlGnaxniFy4s+L6vzr4Qm6AkiSY9F1RyJhwgwGM2POBW\n",
       "orqIYN1JENxmvAwDxuEzbjn9cnUheqp2BSYg1YbvUfy2YWnVZvRUbX7kTzP7AwtUH3nibxjS1kKJ\n",
       "Eoj3mVJhnaxWBSU5xxKthMRPw/O+7xpvjDlVS5Ma1uZKXg4HiKulGpCiaOB8rIsI1p0Ewe2yl2HA\n",
       "OHwy6XxyGLbCVBYOsDEJs+WIkrjomrIgZbpLqtw/0MgORdZlU1bxzNLCMg6bA2xMQrXMlRQ48qQS\n",
       "Uj+HN9H1/VWs3+ixhZQs4QxXGlzJSZGcTsZxvBer+O02d+76CNKdFMFt0svw/KXzs7shAl9JUDK3\n",
       "hqPynM4KfdEGxYkoibN1Q5sEqlWhgL/Fmp+xiTPGLmMuxNgKO42q+8xAJXcLSvoc2Mlvvg8vu75H\n",
       "JjR6bCEltZ0At0HwiSOQoz1OVoSYCNYWpYycqWB3EsSY3z9iWYYX6ml7GSLwjQlKFhyYhiNbILcf\n",
       "nden+drOV1LfBdq375NAsw/BSQf2/muTjRs6E43s/XiZaLuQ/VpTx3gp1cXtj7wirFV8DrSjvq9b\n",
       "rk958CI2umzhM/O98xtNQclMI0hODhZQ79MPb6GNGCVHsO6iCDcPhmUZZqxn4AxE4C918/ZhbHzc\n",
       "Tnr7QAI1vEeaWeaOV7YABo1qqhimqoc4RKspCfscjy327QNl5kXWJRe3entIlBzhdhdB+CsHjk3B\n",
       "Mgy2wnCt3o2Ssn23uAXajGup467z4c1B7kDB9DYIil3aJs1X4BC7uHktYcMYZItTEk7FkLttxzlC\n",
       "1t0pIQ8R+xyWkCuNMFpvrIOS1FpSp5jIs06n3LFKqvEnIVj2SZSdETwjNfFcZRFuScl1et/dWB8l\n",
       "342+7250OlPSoFvErZ1QbbqjBUrlwf8AUUwEJF5rZkkAAAAASUVORK5CYII=\n",
       "\" style=\"display:inline;vertical-align:middle;\" /></a><br>"
      ],
      "text/plain": [
       "<IPython.core.display.HTML object>"
      ]
     },
     "metadata": {},
     "output_type": "display_data"
    }
   ],
   "source": [
    "singular_constructive_multi_dilemma = \\\n",
    "    Forall(m, \n",
    "           Forall(A_1_to_m,\n",
    "                  Forall(C, C,\n",
    "                         conditions=[ExprRange(i, Implies(IndexedVar(A,i),\n",
    "                                                          C), \n",
    "                                          one, m)]),\n",
    "                  domain=Boolean,\n",
    "                  conditions=[Or(A_1_to_m)]),\n",
    "           domain = Natural)"
   ]
  },
  {
   "cell_type": "code",
   "execution_count": null,
   "metadata": {},
   "outputs": [],
   "source": []
  },
  {
   "cell_type": "code",
   "execution_count": 16,
   "metadata": {},
   "outputs": [
    {
     "data": {
      "text/html": [
       "<strong id=\"or_if_left\"><a class=\"ProveItLink\" href=\"proofs/or_if_left/thm_proof.ipynb\">or_if_left</a> (conjecture with conjecture-based proof):<br></strong> <a class=\"ProveItLink\" href=\"../__pv_it/theorems/ef1e760da865c891fa2fc044ab5c30ff953342cb0/theorem_expr.ipynb\"><img src=\"data:image/png;base64,iVBORw0KGgoAAAANSUhEUgAAAK8AAAAXBAMAAACPJQJeAAAAMFBMVEX///+IiIgiIiIQEBB2dnbu\n",
       "7u5ERETMzMzc3NwyMjK6urpmZmaYmJiqqqpUVFQAAAB6qHgnAAAAAXRSTlMAQObYZgAAAAlwSFlz\n",
       "AAAOxAAADsQBlSsOGwAAAsBJREFUOMutVU1oE0EU/pLudvOzW1e8iBQaepMiVCsqYmUPUbxUo4fe\n",
       "hBYxSKV068GLYIuCIKit0JSiohGRXhRzkIpWMXoQpKA5CCIKFg9KKSQRFFuqjW/e7G6TGoMbfDAz\n",
       "O2/e++bN997MAnXKcN2LtSWQ4+F89dWb1GbFxwffwG/kcGOV+kUpnx+3EcgCj8R8wi+uOsqDURJ9\n",
       "U4I6zWTNNpr+AFLAaZqFevwCR7NyKAg2dYHZaAtF6CsQWQJmgDBtp+T8AjfIYd8Bhot5bOsUrU7g\n",
       "DQnotHfYN8XvuA+ZLRxSF7UnrGkqEtoOaoS6pbV1q2/g+5IJfMy6tRGTJ+mB+olOoVBNPACOsjLx\n",
       "V5iM++GZXOP+LoYsjpPqQOZuqHftnNhLp+ReQohLTt3OSyeX4lO2TPnY1TZJvptbx4Rkk7PhCLtq\n",
       "swjKPVuGYewSvu2UzoSSFjrll6Q/hgBpBz/3wbQuvq0AdkxIdvIlOT5dkEsTeC/1R6iJhGrEtWHK\n",
       "3E1ulvRnoBcRJYIIWDlcAeyYuMAHgTUx57o4N2GZ2mtiJUKxYfQZ68zrkv4cDmXRzBrrwp4KYMfE\n",
       "pYKoD7bzNKhJE+0ndQUiwBAbdqX4XHjIayPNM1+gsp053WGXA7smJL3UIqJQi3LlVVqOCwS+KAgV\n",
       "Lmc5AZNYx2vPoc6zj4j41IZyYNeEZL/wE/dtQWZ1o1SH6QC3RJxRSxaLqMx4gRM7T0Gn9fFksl9w\n",
       "rJQDuyYkJ4DuUgrGwCLXm3s9Bpbzc/3MTdp7BgmPN+gE7tmaJSNWAmXAnolwtGtfoDPe1x3KcE61\n",
       "EPoOtc25MgQ8WAbMJo65nqkN/Nh7rXZDfXpF68TLb/Ep8j5HERmXx5LZFWBp4jocq4n7x3NpeO/t\n",
       "3mTfirrKq9pdE7hx9b/pdnW7KsAhsxbw+tWK7D8D/x+p56f7GzHGpeqCJe2KAAAAAElFTkSuQmCC\n",
       "\" style=\"display:inline;vertical-align:middle;\" /></a><br>"
      ],
      "text/plain": [
       "<IPython.core.display.HTML object>"
      ]
     },
     "metadata": {},
     "output_type": "display_data"
    }
   ],
   "source": [
    "or_if_left = Forall((A, B), Or(A, B), domain=Boolean, conditions=[A])"
   ]
  },
  {
   "cell_type": "code",
   "execution_count": 17,
   "metadata": {},
   "outputs": [
    {
     "data": {
      "text/html": [
       "<strong id=\"or_if_right\"><a class=\"ProveItLink\" href=\"proofs/or_if_right/thm_proof.ipynb\">or_if_right</a> (conjecture with conjecture-based proof):<br></strong> <a class=\"ProveItLink\" href=\"../__pv_it/theorems/e3724abf685745045f6437ce8d6a198b5e7dfc010/theorem_expr.ipynb\"><img src=\"data:image/png;base64,iVBORw0KGgoAAAANSUhEUgAAALAAAAAXBAMAAABZgNg7AAAAMFBMVEX///+IiIgiIiIQEBB2dnbu\n",
       "7u5ERETMzMzc3NwyMjK6urpmZmaYmJiqqqpUVFQAAAB6qHgnAAAAAXRSTlMAQObYZgAAAAlwSFlz\n",
       "AAAOxAAADsQBlSsOGwAAAtRJREFUOMutlU9IFFEcx7+7zjijzq4T3UJy8RJlgf2nwNjDFoFkkwdv\n",
       "iR1awxDHDl2CVgiEoFrDP0hJLkR4KdzDYpRUm4dAilwyiCjIkxHCrkKlGbX93p9dh21b3KWBN+/N\n",
       "7733ee99f7/fG6DEp7dQp46SH1eCV1fz91aawDxrfCwa/FZUYzlmo/t38ksHUAM8Zt8jxXLVfl55\n",
       "0uztteilmdxS1g6kbFRYuMwkaS8WXBUXVYpJbTBmuc0tYWpPRGFEGRtKolhwmaiOn+Q437ras2SY\n",
       "Jfh+GLR2RdESvxfON2v5lk5QeSI6UlQG6BijwJ66un1Fg2NCCXyKZ2LDJzoOAG3bqG4GHgJnuc36\n",
       "Jyb6l2WUvx8g5Ofes+ESvtO+b9rK+2aAG9B5yKkHedfFn4FJ4QfP4O16Ib7wrdYda+qQ4F1ywTCf\n",
       "qs3DLbblWgXm2CnmyJ2WEmE25ZeIRB9cDUDPQidM//V3DjCmgc0SfJhTzk+lRNcIPgh7OU1VVqgR\n",
       "oo2Zwnfju3nlpVhZQhUJRGDltBO8SA53gk8B1T6ZLjITqukExjI17lLpf85t5h0RSAm0xFnmMPC1\n",
       "o05wI9SdTilIencD/3RrckiIZPCuUeMNC5Yhfi48EhFe8/IzVD7OnNprO8D68quntgSfYRcCC9Ql\n",
       "Ie3riLDXUqSFWFa+oHKFO2Bc6jcNdZHPYTu+tMUBJvXbMvHRzOYxTVdFhm+X9gFa75Al49HLtxEL\n",
       "pCwpZDhiDAeDXUxjxQEm9fU1CbgAtKaH4On+weMtkx4L6WRymEfSjuw1SDxbCIkJW/OLHSsuB5jU\n",
       "r1yRw9124QTSfZnWffJoQvVD/wa1XqYMgXsc4LCFlowURnRDlxQ1jkB9dktrxMzXwCSdpY925Lk5\n",
       "GIyvg42xQFNXdua5wuC+nG9P9r49FuxcN+e5VVsLg3PXvZd/WB6wbhb8ceX+EeMbBv+fp7eEOX8A\n",
       "CeGq/h3FHVYAAAAASUVORK5CYII=\n",
       "\" style=\"display:inline;vertical-align:middle;\" /></a><br>"
      ],
      "text/plain": [
       "<IPython.core.display.HTML object>"
      ]
     },
     "metadata": {},
     "output_type": "display_data"
    }
   ],
   "source": [
    "or_if_right = Forall((A, B), Or(A, B), domain=Boolean, conditions=[B])"
   ]
  },
  {
   "cell_type": "code",
   "execution_count": 18,
   "metadata": {},
   "outputs": [
    {
     "data": {
      "text/html": [
       "<strong id=\"constructive_dilemma\"><a class=\"ProveItLink\" href=\"proofs/constructive_dilemma/thm_proof.ipynb\">constructive_dilemma</a> (conjecture with conjecture-based proof):<br></strong> <a class=\"ProveItLink\" href=\"../__pv_it/theorems/8472ef45fa564d99e833aaef00c491b5d50fdc110/theorem_expr.ipynb\"><img src=\"data:image/png;base64,iVBORw0KGgoAAAANSUhEUgAAAUwAAAAXBAMAAACSfmvsAAAAMFBMVEX///+IiIgiIiIQEBB2dnbu\n",
       "7u5ERETMzMzc3NwyMjK6urpmZmaYmJiqqqpUVFQAAAB6qHgnAAAAAXRSTlMAQObYZgAAAAlwSFlz\n",
       "AAAOxAAADsQBlSsOGwAABFxJREFUSMfNV22IVFUYfmZ37s7n3a6IorLUIESQmn2JoZkTzPpnax12\n",
       "ZfuxKCvVLQV3ZxX8I7YDgr/MWfEDqajBNP8EDjps5UJO/ggkwYsGIfZjCNNoY02y1Errfd9z7seO\n",
       "+9FAMB44Z97znjPvfe7zPuc9M8DD0PLTrkbxcLSQM+1y3AKqbHzfWJjf8mDMHf8lmp7gn/tP/7V+\n",
       "YroNOM3zww1FaQzzOHsOzJMV4EeeDKqVu0DyHhDL4h1Ofl9DYSYIHHqeoOEMUfcVu96ShchNGk4R\n",
       "1BIjRdhpKMxmHvYTDnxMvYl5G1aavU3DCXqJZUjSGGusNC9TD99jawcUZwnFW8uvNBRIrx8Azy5c\n",
       "+HxjYZYZTIqt1zSTTWrhERbjEB3yTuAz4E1xZuuIXHLVP+mRqBMmcYW1lje9DsxS1hA7LxCb54C9\n",
       "iEpRMpbL0va/MiM5sR4tt7dz1RoodyhFwzzw/iKVDvfMdee0EfF3+U7R11hmXXZCXGmfBKZLqC/1\n",
       "Kzwd6seV9RjvuFEELpEAsuEiPHUgmULoaTaOOGgR4yywi4IMXtsMK/3udxNgrnWE2Krsmu07/dJM\n",
       "GF6fEBfuY6IvaHsF9dV+QmN5UydrgIffmFaiyFIn6Pgz8tFaQpKVay6jLtvHSNJ9SJA4CGZ4fRBm\n",
       "fJvFV0M8Lbsu+E7vzrhET74SjAuzoqcYCcBcKkvCr5mOaWr/4Pf5W1eAYalUsD5U1cFBFwcqECUR\n",
       "oWUVmIc22ZPe0x6EGYpV0cIJ4V3GYt8pSOhhUU7RzmBc4Cc99dhfoismwmqe2g6/bHbzoy5Sf/Wg\n",
       "BMcXslZo++Y6f/7gXfy/E5spQ4BZo8/lgjCtxDCzc5R23Tz/Zc53rrFtexOJvTXlhpG4YXLb+3lf\n",
       "gd7spF7ayHPOgKIAbT/DL5ub2Pqa+i55+eP65c7CGOPPlQEVoakaryg2dywIwIznWG59XClo14ZS\n",
       "wClqP41mtyR4cal1FEXKeErPOznTlNujutZ0qeKOGInkSMktWa3CQjlzI6uVWOAjxUo1XRUN5ZOH\n",
       "bHsLazMcgJnIdBLV51matCv6Z8ApebiabWaSnGBcanvbZRq5o2Fu5aG3f6zoXp7qCLYO3B+3Pxfz\n",
       "Sa9uUJScVuIJNsapzxMVEY/7EEkrNsOhAEwLUcpLjKVJWovf9p2cdPsNehRlKpT34krSbQ71In3P\n",
       "LZVNuRkKa9STzqdU8x0jzUo0FoGM7iJCRawj9Hn0WPoKIJiDPkwWAh2R5FWlta4Sf087OedkGXSK\n",
       "F8CLK+0VfvAdGBs9WZX+y28TMV6Ccea9yCqcu5UZcUCGMfryHGCbE/oo08HM76ZXNvcdsCs+zFNV\n",
       "9N6lTNERTNKuLeDvuU51QaO3PCsLL66cXwY1/1Zm1C/ob88Ac3fN3HzA8Cq1scbe7G+c6pefGbCz\n",
       "k7snuUp7ZoBZ+xrHao34FBf9VDCP1eX2tGdN/x+k9q9SpdZIoj6YlbrcDf4r+P+3fwGeDiscj7xK\n",
       "5gAAAABJRU5ErkJggg==\n",
       "\" style=\"display:inline;vertical-align:middle;\" /></a><br>"
      ],
      "text/plain": [
       "<IPython.core.display.HTML object>"
      ]
     },
     "metadata": {},
     "output_type": "display_data"
    }
   ],
   "source": [
    "constructive_dilemma = Forall((A, B, C, D), Or(C, D), domain=Boolean, \n",
    "                             conditions=[Or(A, B), Implies(A, C), Implies(B, D)])"
   ]
  },
  {
   "cell_type": "code",
   "execution_count": 19,
   "metadata": {},
   "outputs": [
    {
     "data": {
      "text/html": [
       "<strong id=\"constructive_multi_dilemma\"><a class=\"ProveItLink\" href=\"proofs/constructive_multi_dilemma/thm_proof.ipynb\">constructive_multi_dilemma</a> (conjecture without proof):<br></strong> <a class=\"ProveItLink\" href=\"../__pv_it/theorems/613bc8989398aafb6e10682ea54385ae1c655d3b0/theorem_expr.ipynb\"><img src=\"data:image/png;base64,iVBORw0KGgoAAAANSUhEUgAAA4EAAAAZBAMAAAB9WTZMAAAAMFBMVEX///+IiIgiIiIQEBB2dnbu\n",
       "7u5ERETMzMzc3NwyMjK6urpmZmaYmJiqqqpUVFQAAAB6qHgnAAAAAXRSTlMAQObYZgAAAAlwSFlz\n",
       "AAAOxAAADsQBlSsOGwAACERJREFUaN7tWmmMFEUUfjM7PTM7x9JgNB4rbtYQDzRZT9QojmZXExFs\n",
       "kZgYdZkfMiCJodc1+IMo47UJibJjEGPUyCQg+EN0osjieg0mYmAJDEjiwcYMiYhHAmhUFKNrvTq6\n",
       "q6q7h9lRkB/zku3jq1ev3quv63g1C1BT2jrPh6acvDKps3IMjdZmJ/1biR9Xw6lyk8HjLWcfL8MJ\n",
       "kzFYxZfRYAbb8JYuN5loUNIZ0s2L/j74/XxvWRAeJJp+O2NwGJ9fCGYwWcRbvklFg3IXXlqyAIds\n",
       "juzHSx/UwpWtiEUuMdOrD60WZfBRnFGzwQzGcJAONJloVN7HyyAh4M0SRzbjhY2kIFwZeEhe1Pbq\n",
       "Q6pEGUQiI5Ua6+BKcpvZZKJR6cLLTkLATpMjYRwzBaiFK9JB/paBVx/gCsogbmZaa+1ktpNboclE\n",
       "o8sg7bpD5G+FWIlwvCTZmAnCFcHh8wF49QFeZnvRSzs7L6/FYEtn57mZJhUNSpJ23ZUAvec5WUCB\n",
       "jbcauCLL+DjU9QFmMQaHAObVYjBpQ9RqUtGgtOIuPvbbxMkvu9gBgIn0IQjXtjI2hEw/fdjKGFwO\n",
       "8WotBknpcvpsyAUBnP6HVJcCbBq1KqmFX9TWN+vRCnnmxXwdgTprVRinxdDvAJ+5CRnZPE5htgNw\n",
       "VcheMmz56cNnjMGoFSmqVR7fUExNdzP6eXALfb7Dlnpqmn8HKvDiP7s3ijqxRRtm+GQ+Hjj93EtT\n",
       "2VqQDWhKdsMjSmGq6KfvNpmsS6ukNbEtKH453KQAW9B6lGxnIkfA2Mo7NZ9mRjk+Z9Z+FdfkBdgL\n",
       "sr4jSxmDaVPeyMQm54rpag+84zK4i29kbpNW2chfvh2owqkOCHWJl48BTvGpocB93y4EM/PM5wqD\n",
       "3Cb2SZvkhvPuV8ik1+O22mQiU4/WGu0jrQbFL4ebyMgMTiB1Uj9B3ySR5PP8muMleEvFNdkj8nWu\n",
       "78hqfqpW2Cxpv0e+ovTmJGRcBltpRgKJfncbC+su8WVQhdtKkDosXn4k+2CfGjKcHML5JxO5V2GQ\n",
       "28RjoTWSG+Ldt5DJsO72qNbkynq0WtUJk55waIGyIysl3JXyLLqUlLcdBdgt8oPFfAwx/CgM2gqu\n",
       "STiWVfQd2c0ZnElaS73fNzm0hSyZCKQfec2UGIx8SWMItUrLpfmK//SvwC0VmO3M2teBcZFPDRlu\n",
       "pyYyT/coDAqbWbbjctzIyjswvdBJpBSoLa82ObMeLS1ZDvvF/50nXJFBR/HLOIdYXFpwGWz/gd05\n",
       "/olgUOD6UryjqOiPfDqx2o5T/BbO4BPE+XtWl1uqoSrcST8pu+cricE4WxPNZEFa3t/1X/UVeLB9\n",
       "5ICzVf5p+4c+C5gMG5Qz873LbJlBx+Yom5ocN0bdqcpbCE52LKCbcrnc/dPUJvfWo6WtTcu0QCOk\n",
       "Rm6FrYUrVi6I4Jexggzyqy2XwdncS4HDjQo+l9yMP4BfyO0CkPWNbdfCdJhM3jdwBsluFZ46AybY\n",
       "JHd5nTGYDGVdBoH6lbDJJB/nX/06skYkdg17JlF1qfsYDDIXDVh8kegtwfqzip61o1f0UKLMxuCS\n",
       "M2UGqU20EaVJDXWDmonKSY5U6Egiq7sNkWHRJIXWKlqOc64WQgn1yHGtT6AAM4oiXFkN9xVkiH87\n",
       "dvDg8xVwGeR5u4PHpih4GHtkKoiLk89z/fjtBTiC7MGF8q9L+6Af5+yt5IOqpG0jU5AYZNa7Z/0K\n",
       "j/CmNnQfslpgrs4gwuoaN1iM7bb4IhE/Cl3GYS3XoTBn8/lc7gFcByMyg2iT2kiV1wg3qBn2Luq6\n",
       "he7qVNXdhvg3Fm+SQosVLcc5VwuhmMrg1z6BkpSsh4frbEzFg5SAOwzqMjC+JKzNjHXBxcTPDpnB\n",
       "aXAaDMbgITYGYb2pM2hC/IiTxxBf7Tjh3JM6DdqpD7YP77H5Ggdv2jyXIYtE4gjkY11qFQaPjI6s\n",
       "vxliGTYGIyGJQWqT2SjME24wMwX5IMItZMbwy87KbuP8mLvPaZJGslfRQquaFkLaLLpYC5TOormM\n",
       "CFeEL2ZRGDk2g/FSPD8eBlvsUDZ+2IZkWWIwfpiMwi1JNjGRDClU1RjEKe4vGvccwLl2AhnwC/HF\n",
       "yIgLg9OnwTXpDCLxX8Eg0wDpfVI2aMFs0hXRolqFwbuyLcU9fGNCGOyTGGRNUQZ3ZBw3okX+LuxI\n",
       "hdzYHLpHcd2m0yOGyz1BaKKqFS16tAgUMl2XyS0MaqBUbsUupOEK1DlcieaPyeDAw0vGNQgHyShM\n",
       "ZUv0FyOHwUSV5BzLT4U4bnEeJOmHzuDbVbj7jyLG3V9JTgfjoxfxuI28xK6C/jxeBDzfKJD5PHYd\n",
       "bP2le2OFMthfSa3qnvEA0CM8uQqHo/ZdONcPYCbz7HO5sssgt0kZxG09d2NIbPOZnbxcyI31V2CB\n",
       "7DbKEgyZe4LQAlVryKs1RClwXCZRkVclUDracZjycDm6AJT9GZUnV93gy8j1Y2PjmkXfILl/fJ9F\n",
       "2/D+l8WcXK6onqopgnGL3XVPSHpxnzrSmXCKUOFsvy23LGKZflXCJGntKINxU24hyAkCyDbkgwPL\n",
       "DI6PGyPG1yhua0dhU1jnSlrCqqU2dKccZVraAPNAtSM5hkq8PXa8jlxDeRj//8n0XU6WBx5h69jP\n",
       "4Ly4T0Y1VGw7HeBVsRk7ZaartWqsw6cK9MKZsE9fCiQG0YYsaCZQuDFiPJmX3AZvJElVy8cqQpvk\n",
       "KElUm0ANVD+yoWgyDydGGvlPp5T/S0pTK4+/SiCDDYWGs0RtlW31aOGxaUqOKlLPmrUNThoG/7//\n",
       "F/0PvmKjdrFVj5bR0O8vJ+rnuEnnlv8BpTTjhVV0AKwAAAAASUVORK5CYII=\n",
       "\" style=\"display:inline;vertical-align:middle;\" /></a><br>"
      ],
      "text/plain": [
       "<IPython.core.display.HTML object>"
      ]
     },
     "metadata": {},
     "output_type": "display_data"
    }
   ],
   "source": [
    "constructive_multi_dilemma = \\\n",
    "    Forall(m, \n",
    "           Forall((A_1_to_m, B_1_to_m), \n",
    "                  Or(B_1_to_m),\n",
    "                  domain=Boolean,\n",
    "                  conditions=[Or(A_1_to_m), \n",
    "                              ExprRange(i,Implies(IndexedVar(A,i), \n",
    "                                                  IndexedVar(B,i)),\n",
    "                                   one, m)]),\n",
    "           domain = Natural)"
   ]
  },
  {
   "cell_type": "code",
   "execution_count": 20,
   "metadata": {},
   "outputs": [
    {
     "data": {
      "text/html": [
       "<strong id=\"destructive_dilemma\"><a class=\"ProveItLink\" href=\"proofs/destructive_dilemma/thm_proof.ipynb\">destructive_dilemma</a> (conjecture with conjecture-based proof):<br></strong> <a class=\"ProveItLink\" href=\"../__pv_it/theorems/9417c2b7291061f876a769b52122c61c25760c3a0/theorem_expr.ipynb\"><img src=\"data:image/png;base64,iVBORw0KGgoAAAANSUhEUgAAAbcAAAAXBAMAAAB60hyCAAAAMFBMVEX///+IiIgiIiIQEBB2dnbu\n",
       "7u5ERETMzMzc3NwyMjK6urpmZmaYmJiqqqpUVFQAAAB6qHgnAAAAAXRSTlMAQObYZgAAAAlwSFlz\n",
       "AAAOxAAADsQBlSsOGwAABV9JREFUWMPNWG+IVFUUPzM7b2Z2/jkSgYXpsF+klmL7a/+MCXYl2LTJ\n",
       "YqEPyRg4ihE7JvQlaLYWBKmclXVFSnKqVb8UDrKs5ipNfgh0QYcKKpIa+mCFsGNgtRW1nT/33nff\n",
       "e63kp+bCmXfveeeec3/3/Ln3DUBHtxFFdosHpOL/ZVrHtVBTyG27ABJZv9gtfsa7ilo0uNih4L5Q\n",
       "5LaDSMt9Uum86aaG/577aQuEGsB0knj7OxObMyZk4VjAn+4C/mToJ8ZOfMYS6CoCtMswgV2kVyhm\n",
       "i50JLtkQsjhtTKVUnXxEuKJlYp6yBKrIPlqHWezOyjZEmp0JrkuR2x57guDcS92cZCC2PkvgAr6/\n",
       "kIUuRIWUwp3p7tCU+1qRWxazK8kPB6i/Duk0h6oduG2k8RHoJlRId/X03NOh4KYUuVEJ31GUrld1\n",
       "k70HybwlcR/AxlUYiy2h4wCbmV+4DrN1eXzlqdtu2nvPGFO6C9cJ7oD2km4fQoWQnKV+pgwh1txt\n",
       "ZWXs16UraEZqTGg3xPk4cFbz65f+7J/mNIUVUwMD+EgMTw1uUYve+3avpKdUoFRNK2XZuh6dU081\n",
       "NamL32p7oUq9ZZDbYWt4u1Cyh1qd97RKa/2ccbQgzLsVxiUdI4le3OB5fItg031C0UKE1xj5Sxac\n",
       "gxBn6HtNiHLnDMAoumL7pW2Qzb/5pQVuo16RyE4yjAw4Lc2XqQkVN8qCPcU2CNp+/H7Vf1ARpxsq\n",
       "DT0/0ybLFZDz6xspO3qLdwOrjPyGyK8IpbNST47cyY9MHVJXyEtYktLsi8u4d0VIHqcAy0eetcCd\n",
       "1GEost2FNG4aQjQOlal86rgWSMhSrw0Kn4YwvQi4JwGWUJq9r074/QFwS1Aq9TPGTJ8QjH0imfGO\n",
       "iDZhA1mporNjHINrgLaWrwXZ/BsDFricPlxEFk+UIiVw2LhBpnJhcy3Ajx712qDwaQg3eMPSgEPc\n",
       "YVrxZ8wJx2QV4aYLroKaMn/gRuWEYN2ElIOPZKHLZ3+g5/em/P6C259zWFF25u6yCy6ua7CSRU9c\n",
       "pBjc5Z0KKnzIQqSEbbxsqReDhg9VzKNj6tUmRayrDgmq7+TkT0XfeXFZVBes1wFWYv5UqJgUhWCU\n",
       "U+SI2q8z4Fym50NWEkC4lWiI516+2QWXKPKintOyOI5iCsNhgLXIz6mpQAzLAsBgzVVvDAqf0hTu\n",
       "UOP1uuxLGyUk8+Z4cG5VqdxyRcZxFQ8U5HjgIyLDzpjqbxdUmlRpRyg/0joJKiOpfaXSC5RzERdc\n",
       "WrRmtCyGSaoxCfCtGGqpqVgQwbaA8TPgqjcGhU/D2Lxa6ouKpA0tTEB6+Hdc8m3COK3Kf86IXFqY\n",
       "m9tHURquCZlDqlpWaXKUOnNIyzgJ0Gd7IJYXz0VCLjgV8xktSwVibLPGguBkqgpLtsDhV8pb6sWg\n",
       "4cPDGHo6zsJlIf/nW847XhU8IV9TJO0DrDRNJ09p4vQCdp6qQagGT+OKRmAoqw56BLc9UFCSSpbP\n",
       "1PO4wLA+6NVUWEp62AK/eBxJphiDhh+fB2eTyYi6uiUH79N2mw2CO2Xfp5OPgPPxW7E1cPZq/3QT\n",
       "sOPMPHojwI5m6GD/4AmU2Ik7mN6zt9SwwG3VpzPLQnRE7uFRdUHRU1FuR1MssMPrZooxaPg3Xe2f\n",
       "ce83Wy0jbtvpG0cDH930mRP41EkHOuZ7wVlb2uYKysRJ7+whfTHJ+z7LipYeHP6bQR/f0jgU4Prh\n",
       "OoEvNoIbgHzI30ksch0UdUnv/BOBDmixxfQcuvblMp4V8v73EHDUq37GMpPRVmv4Oym4FjgYsHnu\n",
       "TTPihXJucT2NTv1Xyh9J1sALrvB/rfIf9SJ9eEjhpFwAAAAASUVORK5CYII=\n",
       "\" style=\"display:inline;vertical-align:middle;\" /></a><br>"
      ],
      "text/plain": [
       "<IPython.core.display.HTML object>"
      ]
     },
     "metadata": {},
     "output_type": "display_data"
    }
   ],
   "source": [
    "destructive_dilemma = Forall((A, B, C, D), Or(Not(A), Not(B)), domain=Boolean, \n",
    "                            conditions=[Or(Not(C), Not(D)), Implies(A, C), Implies(B, D)])"
   ]
  },
  {
   "cell_type": "code",
   "execution_count": 21,
   "metadata": {},
   "outputs": [
    {
     "data": {
      "text/html": [
       "<strong id=\"destructive_multi_dilemma\"><a class=\"ProveItLink\" href=\"proofs/destructive_multi_dilemma/thm_proof.ipynb\">destructive_multi_dilemma</a> (conjecture without proof):<br></strong> <a class=\"ProveItLink\" href=\"../__pv_it/theorems/b5e3f2f470e91a5966a0fc32bfc467566e1cd4d90/theorem_expr.ipynb\"><img src=\"data:image/png;base64,iVBORw0KGgoAAAANSUhEUgAABCMAAAAZBAMAAAD5z/kjAAAAMFBMVEX///+IiIgiIiIQEBB2dnbu\n",
       "7u5ERETMzMzc3NwyMjK6urpmZmaYmJiqqqpUVFQAAAB6qHgnAAAAAXRSTlMAQObYZgAAAAlwSFlz\n",
       "AAAOxAAADsQBlSsOGwAACjZJREFUaN7tW32MXFUVPzM7b2Z256OzJRLFWidLCEo1WRUsEmjGZBcT\n",
       "a9uxkiZEXQa1s7UJYdY1+AfBDqiNDdodUyCNNnRMS+sfVja6UFxAp/xR024D249EsA2ZGgXRpF2M\n",
       "WAvCes79vvfdmdkaVzDOSe6b9+479/zuPffcc869bxegLWUHPgBd+j+ipQOzHTh6u0r6b1BSFO8L\n",
       "h6o+vuqlILXtQbrRNYl3Ar1PlBD15dyaiHcV//hSkFoBMTA0iSZVnGltEln6yTS607aIlCnwIih9\n",
       "51vnXhnl98tc3lP69vD8uXMPVbihNBaO5EERQMu4SUzT887WJpGq00+1O2+LSLeKIqmnBHCez3Vv\n",
       "ka5/pMsYXYKawfdxTPYu8NsHbTY7ISQZiRy0RhFAVNAkvklBpNTaJBLkRrZ2p20x6SlRJE3g9D06\n",
       "ydcy+zlEF7aiU4Y7SL6Kzv4Nfj9js1mUJmuIV6A1igBipcEsIzbbJpcg+1vTnbbFpEFRJD2H0/ec\n",
       "yCKuo0uUDID5hx5zqtFDpF8VS75osdmUx7JNIflQBNB1zCQow+xtl14ew59ad9oWM5Wo8aLoPJYd\n",
       "Ilbvogut2RRbty+YAWEOJ+h6MVENi80mWtFPSyQvigDaxXccHx0YuLadSfQMDFxZ6M7bIlKqwIuZ\n",
       "I4xcLe7Xglj6UfY4ZScDwe9FMhBrWmw2bROeojWKAFrLTeIgwMZ2JpGqQLzYnbdFJFrhvUaOkPh7\n",
       "//Jd8uEIu74M0K+dhqAtt/e/Ipulaxabk19WIJJTvsSHIoCOcJPYDslmO5PAt9vZfWC+aGEk/0Hb\n",
       "EYnP86pC4Ee0w626uJEWnrnq6WDOkB+07EXOkNCRS9PzC1CGahSd5eXnA0grcBT/ADgpJ+8ku+Im\n",
       "4Cp282Fco8Q2gOp5fxUyN8ohDlpsNuEWIVqUSF4UAXSSm0S8GKvbEu6bqqdX6aOqjfBpdv+5imYJ\n",
       "VnpHaVff9cbQ47JN4s6p1aOezrrVmQd+tIJHQ74LSuu+SXyVJB8N4056u3XU18GUId8cmt31lCGh\n",
       "I5dO/OotdGSOVzXqqfPCCJdfHKc3dgEC5iC28HmoZvjQbpC7DVzGX8bfdZVg6BxOd2LOYnNoJ5xW\n",
       "SA6K9jm8kElkcmZ2mVhermeaw/CYNonjIrtcZyQusTe9urer03mIqBT3GYDLPC2s6rGXNkOu8P3f\n",
       "GiYxolkl/l6mzCwEzTCufGdo3c+I27eClr/OzclU1zkXl9CJS9NISx0Z41WNXJNY0mQ7ibGl9LxH\n",
       "HDGJoyHTJN6ibUMuBSnME/oGLbbQ+dbOkEkIFEV7eGEH2rVDRuMn0eozh1JQ0CbRy/a10DduuMf9\n",
       "H/GahF2dnYT0nHz4C3bf08KsTh0kd1qIfdEwiWk9hRK/t0iHqXv5IZqDK99Jn9OSUZ7uTLtD4we1\n",
       "uuuMi0noyKVp2qOjM6HxPugEDjlZW1B49nWAE/R8Quwj7wIZOKRJJP5J24b6knoS13omb7E5FE2U\n",
       "FJKLIukEL8wk1mDX0k+NLY8crvCD0cw9P8kZJhF7gcWhSK+RcuQe9odHq7pnFtarYHUTBB/ytDCr\n",
       "2eFtrvC9YcMk8opT4eNWq0ThLOrBle8ktWSUhy350ND+ZHd9jTwX6MxlHwS4OspW3fHKRvEcL4zu\n",
       "ZzkCbKkJazgsdPNn/nu7NIlJlgwkLkK6SCaRLllsDkWerSskB2XmN/3NZaMC6LAwiW/hSL+wp9HT\n",
       "jDRhA1sCleHfGSaR5HlFLqU3tRH4pRfZrp5YNvOyPmk79qtKuIVZHbBR5Z78WEWbhHHwovAxXJ4h\n",
       "r7vNgyvf6aXZghHptJIvRcfKSDsqVtdPy11cZy49qpqDdTO2+OpKVw2yEW0gY4a57UCP9ImiMAmx\n",
       "61xfM/akYm4wVuwhTxPLq+2lYAsu4uW2mrjBnw8aW1ULJTh6I6yC5QJoSpgEblHgO++BJRUU+1Nu\n",
       "EqlISZsEsGH3VTBsJsX6248Bse/4dChu2OnCMxCgn9xaFGF3ZBIOvLceisYjMiHqa3AvcfcV2iT6\n",
       "SmwGvmTiY12c9sX7uKrzApfJlu8k+Rgl7eOynKEBrK6bXd+nWIlLD0BxMT3ss0bFpO53c6fYtD1e\n",
       "1SiR50XQS/Q1a1bGjGtEUBUu/2va69BnqztYHXYzWrfYVpBrmxQ38qDKh5L8bA0uMHO4hhf9cfws\n",
       "jFOkOYKqm81UgkLNMAkONrT2NbhHbHGmhs4Xe+A21ySo2s4TJuqJE0URdpOvw2Aw5+yYWbUwj4fK\n",
       "5Tsol4hpk8hws86a+BgX0w1MF17kzZoCl8mW75TJeRjVfkHKt4aGcXbY7DoLzi9KLj0AxcX0YIdw\n",
       "JtVRBnqIPxSt8epGV4viEJlEMu9kBWFXy4z5voXt7MMo2VxikDIUAqKiTWIlXA4TCfg69xJwIOea\n",
       "RA4oZF0lt/8TlSQakRs3sDr99LHpUxWRJ8CjFbEjxrDbdwGqiUG7Ca+eOTNz4FOQKHAvEYtokxBp\n",
       "UdbEp31WbaPSaJPjctnynSIPI0fjfpvJV6JZSCgXrK6flpPHuAjE4WJ6sAMHSbWUQU6q/BVnvLrR\n",
       "jCgekzA/czEbD28y74fv2t+z2lAYpacSKSXnKgyIijKJ5Bz6icMp7nNxVx1pOiZBXv1NprdbgMLL\n",
       "EvRQm+khKMgLr85cDjdkClSTfA0C9FuoV3w3UYT1OJp43W7Cq4+XeuqnRFaIJjEWSi9TBj47iHu2\n",
       "oI5uJ2V3ULZ6J+X7GAUa9BND3hwao8+QOlTXkQslRRVXvB7iIj3028PK28rgcYN0bY1XHTTGq7x4\n",
       "TCL0DXpTyEmMfuOxNt+ybQqjTKCfSJcmGdBWMEyir4k71+3vQvkUm3YCuCbxiyZ8/mKd9DY+m1oF\n",
       "wa9/SCfd+JC4HsardJHVo0ENI1riJjjyt6HHZ5lex2fTu4dWU9w7aDcR1fHKrRTtttIG+AcPlBuG\n",
       "SWwK4bNh0fdbOTyBS7LVOy7fzyjQUPT4LMk3RNMKp2Wou44MOBSUILgOhrlID5usYeGjpQxGd5O+\n",
       "rfGq2aXEOghN6rd3f9JjARtCy3x+fs5nUP6zxBDKz6C3mjxbZECbwPeHdreUy3X7QNsi0pvc2w5H\n",
       "jAd9l88UommcWxX9ivpdrJjzNYnCKcg3ILi5vBnM/SMYRwwaf4N71GPI3uDTg8Mo0UrUgb2WaOfU\n",
       "GrtOXBktgYE4XKgHLksPS0kVynCOt3kPjOm5V5TwHi401cmcj+/dC/1McG+LegJiYJf6t5dj12Is\n",
       "FGPrnf8rqAd9FzQj9Sz28BEZVy9bo7l2z+c9TWAEroCz7uC5wlJVFx+ekE9PWPwk26nyMwo0lIwd\n",
       "UPKZaOf0GbtO7x/REhiIoyLUA5elhyWlSmUAeHqQqsI7kP6dP8dN+x/SDlvj0pv4TAKGwff9QCzZ\n",
       "1u8cB+L/8JH2yQ9/Hmm0kBCSpYc1vADlH4X/TZN4+/6Poxp25G5Fsc27jh9oi+2bOC2LC+Lq2JFO\n",
       "nXrbaemVjX8BCcNhHw7qO+4AAAAASUVORK5CYII=\n",
       "\" style=\"display:inline;vertical-align:middle;\" /></a><br>"
      ],
      "text/plain": [
       "<IPython.core.display.HTML object>"
      ]
     },
     "metadata": {},
     "output_type": "display_data"
    }
   ],
   "source": [
    "destructive_multi_dilemma = \\\n",
    "    Forall(m,\n",
    "           Forall((A_1_to_m, B_1_to_m), \n",
    "                  Or(ExprRange(i, Not(IndexedVar(B,i)), one, m)), \n",
    "                  domain=Boolean, \n",
    "                  conditions=[Or(ExprRange(i, Not(IndexedVar(A,i)), \n",
    "                                           one, m)), \n",
    "                              ExprRange(i,Implies(IndexedVar(A, i), \n",
    "                                                  IndexedVar(B, i)),\n",
    "                                   one,m)]), \n",
    "           domain=Natural)"
   ]
  },
  {
   "cell_type": "code",
   "execution_count": 22,
   "metadata": {},
   "outputs": [
    {
     "data": {
      "text/html": [
       "<strong id=\"not_left_if_neither\"><a class=\"ProveItLink\" href=\"proofs/not_left_if_neither/thm_proof.ipynb\">not_left_if_neither</a> (conjecture with conjecture-based proof):<br></strong> <a class=\"ProveItLink\" href=\"../__pv_it/theorems/67eb776d3fb0b69693463f831a28e2920fd7de570/theorem_expr.ipynb\"><img src=\"data:image/png;base64,iVBORw0KGgoAAAANSUhEUgAAAK4AAAAXBAMAAABg52lgAAAAMFBMVEX///+IiIgiIiIQEBB2dnbu\n",
       "7u5ERETMzMzc3NwyMjK6urpmZmaYmJiqqqpUVFQAAAB6qHgnAAAAAXRSTlMAQObYZgAAAAlwSFlz\n",
       "AAAOxAAADsQBlSsOGwAAAppJREFUOMutVU1oE0EU/lKzzWZ30654LRhy9AdUFKEQySGKUJrGCr0I\n",
       "JR6MgkiDgkcbKAheTC4FkWIDVntRXDBUVNDYg1AtuKgHRcEcBA89RMFSq0h9bzZZdyeJB7cDMztv\n",
       "3ptvZr73zSywCaUo2So2pYRsr3UF0Eygzv2PgXDf+qxZqgPAI+5fCwKrlL1WbIOaaBaXmI9cEFy9\n",
       "5rMaxLZhMTTCdhDcLT7r6EiB2gMwaLVoIHrf+6RgbudNzgD7Eon9gXCrPhrwiWnJAA+AU2IoK9Hm\n",
       "Nd6JBPkDzOZ3xjt4F5Mp+iwBV6EKrSkHhePir/QCM4ReT7RR4fZ4oWlGJqpDp92Fd9MeElwsMiyU\n",
       "GO0Nzc+GxazwbwcijtAeGXdctCM2eCrNWwS2QUs5zsEWteQInX3cYHFNkuBMJ23ze8Wnz4LxVcYV\n",
       "ItcumHyBGG4FeAVMt+MeA/rj1L9JtfzMoeuGoxobozUZNy6ua7TOg72UhySUXcCwy4OLS+fp4dO+\n",
       "pjos1g3hofCWBl5+gYSrihtl6mXEapgj+9vyE+L6g+M92YqyoLFo+bTPqU6JtM0TY1wWoax4cI/k\n",
       "8/m4xpRpBeY9x+KhHIzTzm47eJm/G5jieT+a2usTaa6mG0JoBFqq+Pdbj/HKejqzCiwzvZQD9SdJ\n",
       "x3GfdwPHNqYRm1iniB3uW0dwAj8J3JN0Vo/khFzVNTol00s50NZcHnoKbVdFjbd6dyiRtpKCugpl\n",
       "p8SvxXlj6kiJxmfOQRajxMPWprit7k+RfgjK0+uRJJa+pxdsOW84A9yv48R6RYjLmE0PnXNGW16p\n",
       "XJbsmKfvxZ3r+O62XtexNpe80q0uuHqx07tbdN8w+cckh9e64OJwB9wX//f8+X6qSoeA7L9m/wE7\n",
       "upOu4RXUYQAAAABJRU5ErkJggg==\n",
       "\" style=\"display:inline;vertical-align:middle;\" /></a><br>"
      ],
      "text/plain": [
       "<IPython.core.display.HTML object>"
      ]
     },
     "metadata": {},
     "output_type": "display_data"
    }
   ],
   "source": [
    "not_left_if_neither = Forall((A, B), Not(A), conditions=(Not(Or(A, B))))"
   ]
  },
  {
   "cell_type": "code",
   "execution_count": 23,
   "metadata": {},
   "outputs": [
    {
     "data": {
      "text/html": [
       "<strong id=\"not_right_if_neither\"><a class=\"ProveItLink\" href=\"proofs/not_right_if_neither/thm_proof.ipynb\">not_right_if_neither</a> (conjecture with conjecture-based proof):<br></strong> <a class=\"ProveItLink\" href=\"../__pv_it/theorems/4c15a8ddaee9910378eb70671c603589a0dfc3a80/theorem_expr.ipynb\"><img src=\"data:image/png;base64,iVBORw0KGgoAAAANSUhEUgAAAK8AAAAXBAMAAACPJQJeAAAAMFBMVEX///+IiIgiIiIQEBB2dnbu\n",
       "7u5ERETMzMzc3NwyMjK6urpmZmaYmJiqqqpUVFQAAAB6qHgnAAAAAXRSTlMAQObYZgAAAAlwSFlz\n",
       "AAAOxAAADsQBlSsOGwAAAq1JREFUOMutVU1oE0EU/tJmk81mt6548SAYctVCFVERIzlEL8UaKngR\n",
       "SopYvUgXCx416N3kUhERjVjpRTBgqD+IRg+CtNA9eFDwEESQUkhbsNRarb430yTTSarQODA7772Z\n",
       "+ebt996bAf5Dy/7TsLkW8HXLPeoVFj61Bfy+Ib79Xa3e8BAoA89Zv9kOrpFXlP1A1xIwClwmzcy0\n",
       "AxwtN2RzAbBWgEkgkgaCfjvAnYpsk7c2gXemYdN5kbYo/qjIXfOEdpA6oe6Nx/e1BVxSvc/A+OwR\n",
       "B5QTT4CzwpjWqFOVDyJKWpatjbcV25XBrTNMuU0BvQ5TpJxxQExdWklNeCyEVOoK/D3pranh4VLv\n",
       "OaAotW5yIs6N9J1ZOIfJ5vQQQDootgV/SYwYAj068ID4nvAFFrnxBtgGjMnJQ7WMoIkzvIzODxPX\n",
       "jitjN75H0l+EPa8Di2S3RlyuJCsJzALTMqE04FUap11axL7lXwu7e0fS76O/rAPHBKeRChtDBJeA\n",
       "sbuepd0N4PBPGueIAId3HB+VoXgmpnM7Jr9CAzZFbbnRPJwyE2AuTL2k/3UkyYO1VUUEvhMLy0wo\n",
       "l9w1EbtxZg1MnzGrAB8bGhqKWbzM8pj7DKcQxWGAQC1ZsH0NDyK04j77GU0yqyLYpdScoIxQc4X1\n",
       "HlccPjqa6lsEpphiioP5g3yTwBcb5TG8Wp25wFJHQUnKnDggATzS0q0iEFyYVK8RppjiYC3Vqejw\n",
       "movmal16CGzxjSTMRRi7NI6LHDyLIkoJaX/hOKTRT6ABVyZosRn4Rb3MjsB4dSucwLtvqQlfDx7O\n",
       "A48rOL1cEBeifTfVyz8cytZntdZ0XTqKrAKPtbwkTmmjsld/mx5sABxt+Yg9rfnn6jPbdUN5A2Ac\n",
       "bYFrFzZ3G5rrnp9WT9Jft/8BV8ucrKA5ZcQAAAAASUVORK5CYII=\n",
       "\" style=\"display:inline;vertical-align:middle;\" /></a><br>"
      ],
      "text/plain": [
       "<IPython.core.display.HTML object>"
      ]
     },
     "metadata": {},
     "output_type": "display_data"
    }
   ],
   "source": [
    "not_right_if_neither = Forall((A, B), Not(B), conditions=(Not(Or(A, B))))"
   ]
  },
  {
   "cell_type": "code",
   "execution_count": null,
   "metadata": {},
   "outputs": [],
   "source": []
  },
  {
   "cell_type": "code",
   "execution_count": 24,
   "metadata": {},
   "outputs": [
    {
     "data": {
      "text/html": [
       "<strong id=\"empty_disjunction_eval\"><a class=\"ProveItLink\" href=\"proofs/empty_disjunction_eval/thm_proof.ipynb\">empty_disjunction_eval</a> (established theorem):<br></strong> <a class=\"ProveItLink\" href=\"../__pv_it/theorems/30fa5e6e5a0d336d8368918a30181ab67fb9c6fe0/theorem_expr.ipynb\"><img src=\"data:image/png;base64,iVBORw0KGgoAAAANSUhEUgAAAFYAAAAVBAMAAAAutAQGAAAAMFBMVEX///8QEBBmZmaqqqoyMjLc\n",
       "3NxERESYmJju7u5UVFS6urp2dnbMzMwiIiKIiIgAAAAAGtWAAAAAAXRSTlMAQObYZgAAAAlwSFlz\n",
       "AAAOxAAADsQBlSsOGwAAAQRJREFUKM9jeHuHAQKgDFaGAAZcYBca6zHDOmLVMm9g4CvAomw5RAVn\n",
       "A5DieQBR2wLEHljU2kHUsj8AUmwHIGrVgbgIt1qGC0AqBOoGASBmbMCtdjOQUoaoZXYAEiwFuNUC\n",
       "zQSZDVLLtAFIcE/ArZbzAAPfA4hasJHsIMMZdO+CwE00tTwTGHgbIGp5DUAOEcBtLoMrgxGUxbgA\n",
       "FH4f8Ki1BqpGUsuFz1xengQGZDdcwO1eBr7KBVAWGyhe2BPwmMtxBcYCBxc44HCpBcUEhMUDsp53\n",
       "AZpCoHMEQc5BS2egRBxLZJosgqYfYtSyBTCwJhCpliMBpBwH2AvPb1JgKo7hKS6lAGOeVYKOIXas\n",
       "AAAAAElFTkSuQmCC\n",
       "\" style=\"display:inline;vertical-align:middle;\" /></a><br>"
      ],
      "text/plain": [
       "<IPython.core.display.HTML object>"
      ]
     },
     "metadata": {},
     "output_type": "display_data"
    }
   ],
   "source": [
    "empty_disjunction_eval = Equals(Or(), FALSE)"
   ]
  },
  {
   "cell_type": "code",
   "execution_count": 25,
   "metadata": {},
   "outputs": [
    {
     "data": {
      "text/html": [
       "<strong id=\"unary_or_lemma\"><a class=\"ProveItLink\" href=\"proofs/unary_or_lemma/thm_proof.ipynb\">unary_or_lemma</a> (conjecture with conjecture-based proof):<br></strong> <a class=\"ProveItLink\" href=\"../__pv_it/theorems/9c7e9f5526d692efc758eeb84ae79d7ff5222f320/theorem_expr.ipynb\"><img src=\"data:image/png;base64,iVBORw0KGgoAAAANSUhEUgAAAOUAAAAVBAMAAABLdTQ8AAAAMFBMVEX///+IiIgiIiIQEBB2dnbu\n",
       "7u5ERETMzMzc3NwyMjK6urpmZmaYmJiqqqpUVFQAAAB6qHgnAAAAAXRSTlMAQObYZgAAAAlwSFlz\n",
       "AAAOxAAADsQBlSsOGwAAA1xJREFUSMeFlk1oE1EQxydpNtk02XZVEJEWQ0WKihKtIvQgQVREaF09\n",
       "FDwI8WAsFUnqwYtgUysFQW2FVooWjXjoRSFIQbQf1osgBYlaFFFoLyp4aRHRFtT65s3sdrObXR9k\n",
       "921m/+83M++9eQvg3/KwupG73FFtNndT/QZTPUTlLVCCw9YD9epJ3g9wr4Kg3nOoKwDVOonm8PmT\n",
       "14sz4GRqKdmPLgiHplzvk/VBpaHuil8diZ7i85AHUulHUo0huhGdmMfJMiuYMOgSkPU1PXzGS6fp\n",
       "zTJ6akjRRUxU2oMZm0JmXKQEwjlijpNlclFcpl2CcTvzOV5Om0PNi5mMF6UI0aGSB7OKMpqg6ZDM\n",
       "pDSELv9Cs+EUJO3MIM+7bIeO5MR1txTFRShRr+n8QMwWcZsgpkZjdAf+YKqcE8pWZmIoMQ5H1Tdg\n",
       "b5hEOxsadnkxR4kpYsRYkRmjJVTUfuOgc865SNmZGGPQtMAsOthKoscAp+Tfhps5TMyaHAR0YlJo\n",
       "1aXID3GLy7AeNWDbDiuBMxO+Aqzi7kPoQn9ekug6qNJdZQ/nZ+D2VnN+txEzMgdBg5jBEnmt/sVX\n",
       "kw4fyWoxxfrcxN0i9CHlLYnCRqggs48z1PmlA/TUtff8ZjPvyiH4yL0q+e7ascmfuH8WnGuuUMaM\n",
       "5rUi15YzY/O4ObpIpOm0hEZ2CP9FogUzdMLBnJE72GIqItHfMcVJf6aWinKpOwpQi6v/Pov65T4C\n",
       "/Y6sE8i8eqA8txCMpMGW25j4bcQxE475dOQWEuet1EIQWW9Y1CLLSQCegCJrgz7WlONXTzIp8KrA\n",
       "vbDOtQ1LWdxZS6TVxqz7RvfqKaqW8IJFPXIJjcAaacI4L6xnTSuTlM1mvcWVrqLH2by1NVYabx6L\n",
       "eYwrQg/6s0ibT4pqZFSj++eN+M1M5izOZ4g158zKPmEyIwlQsksGvFseEOkqOJjCiqlu4lSbFaFt\n",
       "eRC07JKAbbGLAgB9uUiK4gwFzLWfc50rjTbEJdeGbvQ/GtWEXSSmqLZExUEwzcMAa7KDOe2q6PY2\n",
       "7c/EM8MSxfaC8uwW9Iq4tBsDGauOtruY4ZWDvsJxFPb/DOitIFIOZjrK/mhzMZW0H0BJ+zLb/+uV\n",
       "PA5gn/U91ExHimVcV0HQ7fulk5eif3F9ykqVKlDMAAAAAElFTkSuQmCC\n",
       "\" style=\"display:inline;vertical-align:middle;\" /></a><br>"
      ],
      "text/plain": [
       "<IPython.core.display.HTML object>"
      ]
     },
     "metadata": {},
     "output_type": "display_data"
    }
   ],
   "source": [
    "unary_or_lemma = Forall(A, (Equals(Or(A), Or(FALSE, A))), domain = Boolean)"
   ]
  },
  {
   "cell_type": "code",
   "execution_count": 26,
   "metadata": {},
   "outputs": [
    {
     "data": {
      "text/html": [
       "<strong id=\"unary_or_reduction\"><a class=\"ProveItLink\" href=\"proofs/unary_or_reduction/thm_proof.ipynb\">unary_or_reduction</a> (conjecture with conjecture-based proof):<br></strong> <a class=\"ProveItLink\" href=\"../__pv_it/theorems/c5a683c8244565c14f74ea5e8df86dae349921770/theorem_expr.ipynb\"><img src=\"data:image/png;base64,iVBORw0KGgoAAAANSUhEUgAAAK4AAAAVBAMAAAAtL8hrAAAAMFBMVEX///+IiIgiIiIQEBB2dnbu\n",
       "7u5ERETMzMzc3NwyMjK6urpmZmaYmJiqqqpUVFQAAAB6qHgnAAAAAXRSTlMAQObYZgAAAAlwSFlz\n",
       "AAAOxAAADsQBlSsOGwAAAshJREFUOMuFlU1oE1EQx/+bZpNtvrooiIhiiIeiItQvhB4kiIoIretF\n",
       "8CDUg6FUJFuvgo1WCoLaCKkULRrx0ItCDgXRtDVeBBEkaFFEoT15TRHRFtQ4897L5mOz7YOXnbyP\n",
       "38ybNzMPWLtlsKFbiUowGuY8moH1mlbGSeePlLbJrVngcdstN4GQCSyx/M2Lu4BWbjQp5M5lUlpq\n",
       "t+UR9a3AS5YnPbB6lmkxi8SgKbln5cwicTHRZku0ylotXOVDDXhwwyXmRuhYCNiSOytn5lfo5127\n",
       "LRVye6TAaPjLHtwOefq4dJvg9ogJ/43fPG25t5w4ZdPvQUTIpE4v936R3D76zEluNCsmrml/+bhu\n",
       "BxvmdjZyCtiXSBzw4s5ILtnKNjM3LK+tEP3DVi+53YBFVtYPPAcuiKE2h5qS3JgNzZRcaWKoHPxJ\n",
       "nwgbH06IplQ8wwhrfgvcgSHG9EPqQnMPdtf8vUdyg0vwWZLrK0urjH+8tMdlSQHjTPtIF2358+Iq\n",
       "2GPD34dgJm9/Vqt6VdRO4quSOsTaTcX5Xxx7y648uliscHCNkFJTXtv0XrKDnEJc/7kW7oKIcIer\n",
       "k1N+sDtc9p4Gujh6nlDPvhZD5kORJ8y9dazZD/AFB9DghzD1HeyHeKt/C7SClX2g3ifSRsML6CI/\n",
       "zOJ+W3HPK5r2Pq+kAOfIU5WukdZ8CpVkhuMN9VGhahobxTDbe2WLWtevaPrOWn3g0DLYonTGCbp6\n",
       "G2XNKypAY8K6maMVK3IvlbrE/vWrdZdr1Wauxg3GoadXLXyq5ujI+WbsmeoEoulV0rbLuUhg3A4m\n",
       "pb1+TY36bFc9627gXPcswPGaRC7rKssEIe6wGqX60cptrDWzWKNeSeEw9Ff3MUb2Re/mUk7eD7q4\n",
       "gfor4VkGMdZab4+nhpo95uLqdVjA8yEaXO8dMkwccd63XlnKnMnNnq9XBv8BxsmdOcUB6LUAAAAA\n",
       "SUVORK5CYII=\n",
       "\" style=\"display:inline;vertical-align:middle;\" /></a><br>"
      ],
      "text/plain": [
       "<IPython.core.display.HTML object>"
      ]
     },
     "metadata": {},
     "output_type": "display_data"
    }
   ],
   "source": [
    "unary_or_reduction = Forall(A, Equals(Or(A), A), domain = Boolean)"
   ]
  },
  {
   "cell_type": "code",
   "execution_count": 27,
   "metadata": {},
   "outputs": [
    {
     "data": {
      "text/html": [
       "<strong id=\"each_is_bool\"><a class=\"ProveItLink\" href=\"proofs/each_is_bool/thm_proof.ipynb\">each_is_bool</a> (conjecture without proof):<br></strong> <a class=\"ProveItLink\" href=\"../__pv_it/theorems/c0ca3413b8141f0169ca7984a366894d1ac58b440/theorem_expr.ipynb\"><img src=\"data:image/png;base64,iVBORw0KGgoAAAANSUhEUgAAAsYAAAAZBAMAAADAsfVVAAAAMFBMVEX///+IiIgiIiIQEBB2dnbu\n",
       "7u5ERETMzMzc3NwyMjK6urpmZmaYmJiqqqpUVFQAAAB6qHgnAAAAAXRSTlMAQObYZgAAAAlwSFlz\n",
       "AAAOxAAADsQBlSsOGwAABxNJREFUaN7tWn+IFFUc/87uzv6cXcfUw1KuY+UwOYLLLEvTNrgrELIl\n",
       "DyHMayvurINo7cB/wtyKBMHcDX8gZbXlmgSKC4maP2grEPIk9/LgsERWCaOE84qsLMy+7715M9/Z\n",
       "mV0XNeqPfTAz3/d9733nM5/5zvd939sFaKzE4ndAs1xHUeJ3Nto11GTLtWSu3Xq8yfGNeWnZXT3j\n",
       "+cuzfwL4QHBcYZfTDXAcY5doqckrLSN4aC/+PfbjCrveH9bX9eZBKXGODzLV1gY4juTZJdPklRQ1\n",
       "x87eFMDFdBXHJV8G1Zs5x6/gOZhqgOMA8/i1TV5pifDPOqsD7ClWc6yVkbAhznEoCeArNxKP2Tt5\n",
       "tMkrLV5+PoE+fELnYks8njM5RsmbZBxrpYYmtJCYH3NNXmk5xc8X8djIg+jHUyw/jq1PIG0lztvs\n",
       "eHxOQxx74/EZiSavtOzl53sBemcyIbjZihVTbvker74K53g/QF9DHEfS4E82eaVlGzsFfpvYuk2Q\n",
       "lLE4nvVgB5Kl5TjHGyBYaYhj7LZBzKa0oQbrN+lliJkkmnExqdad8P+FVNhFx5dwyh8AJ0v2RQTG\n",
       "CuUYenW0k3PsT/ryrkaDHYvgywpZg/TBIi4vIXmKOtf9GW3qVX917RNjWvd2d5ugL3T1uLwK2gVE\n",
       "wnPM7U5L0nUIcTRaEKpvURNIdV8jc4hueqdD5gjzOJ/Io+93Jg3GsaQMjiFVQB8f5xxHdbcpb+X5\n",
       "ATjjS0aShONhY8p7jKQhviuuyOxqrQ2UTiZ8WOaIeAmjEzzrHEm7GByrFWIywjZPCAqz7tZoqTgE\n",
       "QzZvwVirWEDcTBE4BYMWPfHmKOV4AsLTfmbSUurHkPLjQ3YaucLnLonffrb604s+upYOaTxBCQ/q\n",
       "Vsedd7lybFfHiqCNMxe4Bw+ZSJ7E1/edY6Cti8ExX/1Ik2ylWSAoZN210VJxCEK2boHL23DCAuJi\n",
       "isLBLJfToid8y2msWIM9Y38yyWPnGDmLtgmOH8W4oR1e2aocZR8TStMAprOOo9++auPYd4p7tRIi\n",
       "8Vt/z5Vju9pbhsdZwMqidwUMDwsyt1ztGEi7SI49NpMpMUebKFJ0zq5uNFUCApetW/hZpCRAnKYo\n",
       "HFxFcFr0xHoZaZ5mp9txtljDv3BFt3E8jGymBMevI54nt5e8FYUBY1JG5c826lteoBwHF4qHjeTI\n",
       "RPCp+/xgU2enD/3Arueob7e5vpxz9irHsc5m8jTzPYLCqLs3mioBgcvWLdBXCxSI0xSFEy0KWvRD\n",
       "d8vIvpidNuLXcL+Iqe9aHCd8k9H/IwnBcQxHvHErTEgzBZeSYT5NjkKxxbbvxokKpzG2Bo33vRMm\n",
       "QXj4oCNUoJqUL0C9wK7zhQfzsV7+BTrGznfh+CPT5Nokcz6WQXIUu6flZV0+m9VoVwkIXCYoUuiq\n",
       "BIjTFIUTTgla9MTLtxmql/A4f3VsbIvh6r0DYryysZ/vu4EnT/Y2z8IgeMpC2g7alv7+F5DjnpBz\n",
       "bzPStfgSrG43kvCui0kvPOXIzVFNqvh0WRZTWUSNGmO97LsqO8aKLnaOz0iTgW9YylkqSBSd6ris\n",
       "y9nVarSrBAQuExTH0VUJEKcpCieQErRgPJYh1FOdvhSeiduWwq/R/eO50ALZgJAOBQIJ4cfhYSfH\n",
       "OgQxUWmXOWM2HcTX40gls2ntyPGDIwLDAoA9TBrDY6oxNoaBSck4xoouQ7tGCMerpEnwsDeX65Mo\n",
       "MoFOWZfFahw6PbT7EVNlQGAyQRFCV6VAHKYonGhR0IIcy1xZK14jqT5MOA6Oo/8ejUAPk2aOitCP\n",
       "aWmrg2P2vVzhCHsAdmHmgs4/wCpqQp6EOtoC86IJpgleArWDCUvyoOSNsSrmPeyTGyADzS7DKU/V\n",
       "nCfuxDn+OmGi8OeNurwzaRxOefP8TTGVgCBkCwVouN61gLiYonBwRuszOF4p2XiuPsV8Q1NyHK7A\n",
       "VtgwBQbLKE0uwVp854FZGStdNDn+pALLLucZwsFyZCGon73NFtlYCdwHgxl2kuoVai5ShsAC+OrX\n",
       "rn1cUA89xDZN+FhYtndiki/QsUEMzJhdYul1hGN/BgyTnGO2U2ig2G/kVNIAbfSnn4Ajsl1AELKF\n",
       "QuwlmkBcTFE4CIPREn1rU7/5S8XS+hz7M+DyW5MRvNWH+weq19K20m71hW6FVCypLZrwaCS6RmuN\n",
       "teKvlDwwfYfFsTXZe+zLMV9Sr/18HhiBtjo/27Tbq91KPVMMzlIXWoJ6XY6nggvH4WTt/QrbMnBO\n",
       "2ewbuvoLHSgltaLkY3iTHbJhR62xZg9T6oWREllLH5CzziT7/vX7V9tqP18vRoCztX+2YSjo8zEg\n",
       "tU0xOAeuc6OjmmMNGuPY0VeraaLkEKo7lcCtC+HY93/Y7tPyN4nj2vtu/83/KzI3dRfvhsp1buUp\n",
       "8Qf+ATtSNj0m6X3SAAAAAElFTkSuQmCC\n",
       "\" style=\"display:inline;vertical-align:middle;\" /></a><br>"
      ],
      "text/plain": [
       "<IPython.core.display.HTML object>"
      ]
     },
     "metadata": {},
     "output_type": "display_data"
    }
   ],
   "source": [
    "each_is_bool = \\\n",
    "    Forall((m, n), \n",
    "           Forall((A_1_to_m, B, C_1_to_n), \n",
    "                  in_bool(B), \n",
    "                  conditions=in_bool(Or(A_1_to_m, B, C_1_to_n))),\n",
    "           domain=Natural)"
   ]
  },
  {
   "cell_type": "code",
   "execution_count": 28,
   "metadata": {},
   "outputs": [
    {
     "data": {
      "text/html": [
       "<strong id=\"or_if_any\"><a class=\"ProveItLink\" href=\"proofs/or_if_any/thm_proof.ipynb\">or_if_any</a> (conjecture without proof):<br></strong> <a class=\"ProveItLink\" href=\"../__pv_it/theorems/931639e0cb6d87671e76f9406df5e922307c3ffb0/theorem_expr.ipynb\"><img src=\"data:image/png;base64,iVBORw0KGgoAAAANSUhEUgAAAxsAAAAZBAMAAACr0C5sAAAAMFBMVEX///+IiIgiIiIQEBB2dnbu\n",
       "7u5ERETMzMzc3NwyMjK6urpmZmaYmJiqqqpUVFQAAAB6qHgnAAAAAXRSTlMAQObYZgAAAAlwSFlz\n",
       "AAAOxAAADsQBlSsOGwAACAJJREFUaN7tWn1sFEUUf9vb7e59bNmCNCgELiWEECQURSHKx5G0foDQ\n",
       "5SMYw9ehAQwGeqWJ/kGQQ5FIVFoViFFjT8Hwj5iLVokU4dAEI6AelUgQIgeJEsSUQlCoCnW+dnfm\n",
       "brfdBgwVnKS7c29+997M/GbevDdXAF/lVHkS/i//culdnvWJbOiJ3b+ZVggZSyTzH6ZDomtpvUfz\n",
       "+u5p027sEN9ldOTw+3jXdJTgl57pQXQcpq9Gj+bG7mkLtnk07Otobd2cyBNOX96aWVuIVcpaf9Ni\n",
       "vm1ycClD6diJP7zRNR3hFO5zD/IPCl3OeoctKTHRQzWgUzlXfsaPWvbhRJtX071IwyVRJo0y4did\n",
       "hdr79AX9o4xvqzx8E6XjWbxR413ToeJttK4HbY4wHUf4nL1EInjsxWwhe8m5shc/lrAPuy97NGnn\n",
       "AUJ/CTLlcaQsfLlA++yh6LEn6deqAD9A6QgiEuVs13QQ+qb2IDoC9PVQtTPiKHdkeMm5UsQdGfLa\n",
       "Sx5NEdQQOS/IgvegR6iiQPvreENs8W1VgAdMQgc+zYN+jvKDPexEP0rXrjHIWUt4tXwOncr5gldh\n",
       "mKHWSFc8mkqQFwuOFWTV+Kmm87XLRMVKv1ZFeDBDI6u7ystH+6EjUF4+ONaD6GiiPglOZIRgKgqd\n",
       "yvODqSJWT+t/ezQF4qCcSvAy7QLxWIl87fXk+ahfqyJczlE6dgAs8kNHOAHFZg+i423y3A6rnTVS\n",
       "kgCJnZ1ecqGcBiiltVBWvejRtHph6ZmMIJPPC1Bbe7XhLvewKsIjDZSODaDl/NCBUBtoSMM3uBOk\n",
       "XPfJTxdIRjB5vdN7FG4UmdCpXCgojBlibSbtqkfToCTo4wRZkXDqO9pHJt3lHlZFuF5B6Sg25ZR7\n",
       "YjR8MnyZc9LARTCZ1Gdy0YIyxvWrPATUmqYpNEiRzlbOsjs4sKmqyiW34yGgb3xrOPXg8TxVAPcR\n",
       "+FPN51DTXHaovQHHmBoiVypbTVGel2skdUZzWfPuPzyansALOcHLAm10ySlfi1Yn0gXq1+pEYT2r\n",
       "bZQO3XA7yWt/WQo/yWbYdOg4xE7yai4Ok6+40lEthGpfoAibeIQRdHCkvJeF4oqCL/IQ3AUj9soR\n",
       "jg5blUXHdIBeUVBLo1ZmyDIoKg9DOCrKxaLHWCKlIL9xwb0J8K75zuBlRYSOI1DbW7Q6koASfq0y\n",
       "uDVytjugYa9LUL8D5+pGWuYuSYIkkoZQHefzto1yMyhAAM6i8eD394hba73oKFbUCz0QByFdMGLy\n",
       "PJ4OS5XlrJCGIjQOndFRpMZt34bkvVLaJVGeV6JPW74KYLB7k4qP+HMpXkYzDnQ0tYhWSQoh+7bK\n",
       "4NaERBkdU1FGEdlVO1Dah5lCtf4AAwj/P67h6ZCPkq0iBbmjxnjH9TYpKJxG40HBGayGd9IqJqtH\n",
       "+0ctSHd4COmCEXu5iqeDqcJlIeY9Q283LDqkb+m8MXnEZBNjyfPLgF/p+wN6qXLgq9LcgCVik4Tm\n",
       "Xm0XZDgxBNm06bC01+NFWOXbqgUnEw6ROKPjeTR3c7dkAjkJTyKuJRUy+iPyvK0cHdoEykDYyT4k\n",
       "+MzNHg/BvT+4GxNdwkd9p1w7ykFoF4zmuxMcHZYqXKbhruPE97JDhzKMvi05yFFeruBpXdBgPQBm\n",
       "0JeGvWZNUtk/DibAQOCbIIjatmwSZSiGDuFV0iJaxbHyVtPbqtIuqGFwMuFoy8UYHSgggxduh14J\n",
       "LCE1M5Sh3jFdxt/oniYLLyFVgMZC423Ik4cO7cz3VRjChXBRmI/dUoD6pnVkj91Pw9H+4voJOO6L\n",
       "dsGIrbyDo8NShcsKgNkdm0CvaY/ZdLC0y5bDCpOXw3DsQtLWw8rqlJp2E37o2KhNb4BLLJ+xk8Ca\n",
       "q61nloEgA+XTVjLmFsEqwJzlZ8l4vKwOF9VQOJlwBEjxF+wnoQ6KsrS2BSKbFy9ehuiYFSy4YA9X\n",
       "TvsdVrEgsKnynBmABfkHD4ZwSz4N2p94rvHmzKotpK/4zNGhQhHvUSmEzjzpAjo7ZI4OSxXxzFz0\n",
       "pkc9bs27zqiEzWmoFSyA9lVarovVk+Si5Dnh944xUAb1Kq01q2qM7o7QoQI6DMCecQjzVVCf0BCR\n",
       "eb4KQw4cP7D9QTrHWQhhZ1qCfKGUZLF4K/rrB0lVDK4oJLLzmxjQLiA6JI4OSxXhK901HS/Bi926\n",
       "BktIca0tca10dNMqnnCAXTwdWhsiaV8YZuHa0CM0T98PliN16MA+5AqhYxY5AXuhtbwUlBj6aD0o\n",
       "5FA8kDpMUPUmzEjjJhSaIs+D6ECgmSmQ0PYsTnFftCB6Gb5cWMToqOXooKpYebJLOrQlz3zSnYmp\n",
       "R/sjEk9fIx3dtEonnFyq23SEcihG3tAX6rKodlsG1qElog5L0h+deDo+zsGc9hSmoy4bngDKnjfx\n",
       "7Yk6HuqS6lj8GM8gxYnHsO+sy0YaK6cswxWY01RqEjoQSGme1BfIDU1dln5xrAM5je91cBf0Vzcu\n",
       "zjh0MFWszHZG9PBFw3W1d3S0dYeOD1GKpp30fRO0tnHSdbBKJ7w4CW4/zlqH1QOLl+ZdkghliAOF\n",
       "KgkfA/ZCte+RD0M046DsCnZWFkg2DQ5h16LSfjOvCy4RvGbAzVP6gRsdIdPzzkrI2UdnbWiwA+Wz\n",
       "79tNVm0+8jonk45Cq6L2meqAGjuinEmrpuT0R/I7EIdboBTQEQFfdBRAMy41EeUB5xsinfT01qTD\n",
       "q7x2o//PKnkLsNF7cOYfxl6CWW7YCokAAAAASUVORK5CYII=\n",
       "\" style=\"display:inline;vertical-align:middle;\" /></a><br>"
      ],
      "text/plain": [
       "<IPython.core.display.HTML object>"
      ]
     },
     "metadata": {},
     "output_type": "display_data"
    }
   ],
   "source": [
    "or_if_any = Forall((m, n), \n",
    "                 Forall((A_1_to_m, B, C_1_to_n),\n",
    "                        Or(A_1_to_m, B, C_1_to_n),\n",
    "                        domain=Boolean, \n",
    "                        conditions=[B]),\n",
    "                 domain=Natural)"
   ]
  },
  {
   "cell_type": "code",
   "execution_count": 29,
   "metadata": {},
   "outputs": [
    {
     "data": {
      "text/html": [
       "<strong id=\"not_or_if_not_any\"><a class=\"ProveItLink\" href=\"proofs/not_or_if_not_any/thm_proof.ipynb\">not_or_if_not_any</a> (conjecture without proof):<br></strong> <a class=\"ProveItLink\" href=\"../__pv_it/theorems/c16dbe197266b8888064924233c90dbefbf159900/theorem_expr.ipynb\"><img src=\"data:image/png;base64,iVBORw0KGgoAAAANSUhEUgAAAloAAAAZBAMAAAAbJp0yAAAAMFBMVEX///+IiIgiIiIQEBB2dnbu\n",
       "7u5ERETMzMzc3NwyMjK6urpmZmaYmJiqqqpUVFQAAAB6qHgnAAAAAXRSTlMAQObYZgAAAAlwSFlz\n",
       "AAAOxAAADsQBlSsOGwAABldJREFUWMPtWV1oHFUUPrPZ2dndmdlsKZaqNS4RUZHCKkKl1LAPjT8P\n",
       "aacaAsViV8FU9KHTRuKTum1VDIVkHwwEETtian1oZNEUNf1x+1KxCbKVIGqLnTyI4IMNUm0D6nr/\n",
       "ZubM7Owsq9St4IEzc+85Z87d+917zz33LkA0ZXrvhP+JkdS7vpVJ6rruQBJXSteqlZLjfOG/jdYt\n",
       "eOhr7DXWxHSszXEoe+V3BBO0bPq6EIVWC4sOkl5AlUX+OtTE9lB7rlPLaByqnAlac7Q+FYVWC4sO\n",
       "0nZUlvlk0OteyDXIQ8lCpBzRD/SxR1QuIrRgUvACvESnXTEKrRYWHaQTqKxW+euSG740CkjChEg5\n",
       "otP0sUtUTl1FmnnBC5AiSMdrUWi1sOgg5VG5i78e3urBkEPhqpkcUQyFq/grV7Bvg/MCaNXIUE5U\n",
       "LSw6GLZQJIZveXDO3uqN6wDhkxApx0RnhCqs9kl/YBCqnMmeeG9v733Re2K0RedIxUF+lovgYtW3\n",
       "DeYgUh7cBmOiXNF/xzjanAlaHwM8HY1WtEXnKFVFlbfYcwZe9iDMmCCJYN5M7qMfAVbxUrqmXEYK\n",
       "rcyZoDUOSTsaLdfCwHtQuL3hG3yxYkpBtdRM0dCJb0IalJxAQ5bNh72E7iYVnmdXYMLrjGJDTPht\n",
       "JvcR2c5ud3548k+85POcCVoJI275v9o/a2l9CC3HQt6AjB4zw8DymUCCv842qitNFGrAn2aFNVgR\n",
       "wddRjhPeyHB87vglsnvvEAFtCs4LfJlc3vyz4ZcHZkZJF57XHD/1G1Ioy5wJWnoWh3ClZ9jS7X44\n",
       "htByLOI48m0N3SV9JgIt2W5UTzdRpAt+f0+ENjjdDK1tAN05UFblnIRVpIlcroKa88uDyW6KT3aZ\n",
       "TPFfkCKd50xPPuXTSHGcjKB+WoUCPvkIiyP3IAcjYSvfZ+KgpVqNapqVhCom/f7mQhtMGe5KdNFa\n",
       "LyZdjK4agVZMKbqTkci7reQVvzxAuVFvht+GYcxxpmgNkF+ondjTI50xeYKvv/h+1ofWAO9D9m10\n",
       "GkiFBjts4qAVC1Gz/C1MMRD4/aENiuwv4eB3kPCTFNEqP7I4aElf8vEQcs0QaDnyIK37ib+P8pPS\n",
       "/Oer7HU0XdWKnClaB8jP2PFutcuWbBhiUJr93/nQOmDz4Pop6p5aDrvUwCYOWmMhahYgwhTnm51t\n",
       "cYMivMTxgG2hv5O2edVDS76Lvx05xHNYLq+Qx86yKBB6lDeRpFnv7pJ8dhP0QY9IVSgv8A0VXr0R\n",
       "uk0iOMrRUqUiRivDAuwRWA3wGl8EaVPKw8zNwSFiJkG03gN4cHh4OIc9pIsNivS5OS7DAaMIcWLx\n",
       "lGgQiVmMxUnTXoCh+iTou1cKLloiB3XlsNfAcqB7aawiCuDkpvLuFQO+rr+R3FaGKyyPi1mc3Rub\n",
       "JRihceAL8ttquikXyo03NrObLxnKV7w9dfOWXyEvLwfQoiYNaH3PKzb2wAKHX9EFO0ll1B93+ezJ\n",
       "iAbdrUiM5R343GL640zoNUx7aWMmq+RZPNwv2EVrA6yBCQWe53MLZrINaJEsZ8J0EpUskBBQUvLB\n",
       "hUhMtJMLc4smQmvUAQV5YGvJr0iS8QquRAFLRjQ4f2F+5iFvJbKTrptrVFqjdRBebwetLlMqJpdN\n",
       "fno/gdBKLpPZdUYlqRVPciS7AS2ySLtrtK9ygYVNsucnLFoZ5I9BYaKvgY3i4skX5SueB4JrlnwT\n",
       "UMCzQJPpQeRTRHlVNHiu2GUtsq/F3MXXpc+0RCu564Vj7aA1QWaXVqywCxh2CeOglbZJCjJ+A3FI\n",
       "Q8CUuALEaKl9IH/2Ju2r8gB8ZMPjKxY9EpHKSEm5nzxGasJkl1wWh9OEr0+eByojHwYUqsn6PFJj\n",
       "7uij5kLAG0yY21nIcT6UcSIw5KHyyOXQ9KarXl9uB60PSL6aXDJYc6zJhpvmweFhK+qmmfZVdzZy\n",
       "I+tVAJzsJ6cXYhpCK5BxMrSG6IcBRb/E+19DHqcDdyqLkKsiYPbhmZO9VufRtYLbvpdXVpOE6LBz\n",
       "eVvPeRVIi/gu25KVWYtPPp80eKCiwwFFqk7SZ7Xk+mEe1ZI/s78JlkqB7/5F+lv/YlRDK1qjYcKZ\n",
       "gxBy/KuGKc5iP7TUH9K+Zl23aP2T/xOTYRcT+D7BiLzCaHbVIXcGK6l301/EoMIdfFtGygAAAABJ\n",
       "RU5ErkJggg==\n",
       "\" style=\"display:inline;vertical-align:middle;\" /></a><br>"
      ],
      "text/plain": [
       "<IPython.core.display.HTML object>"
      ]
     },
     "metadata": {},
     "output_type": "display_data"
    }
   ],
   "source": [
    "not_or_if_not_any = \\\n",
    "    Forall(m, Forall(A_1_to_m, Not(Or(A_1_to_m)),\n",
    "                     conditions=[ExprRange(i, Not(IndexedVar(A, i)),\n",
    "                                           one, m)]),\n",
    "           domain=Natural)"
   ]
  },
  {
   "cell_type": "code",
   "execution_count": 30,
   "metadata": {},
   "outputs": [
    {
     "data": {
      "text/html": [
       "<strong id=\"any_if_all\"><a class=\"ProveItLink\" href=\"proofs/any_if_all/thm_proof.ipynb\">any_if_all</a> (conjecture without proof):<br></strong> <a class=\"ProveItLink\" href=\"../__pv_it/theorems/c393a214fe750c9ff49691287f1b2a5508b7fb680/theorem_expr.ipynb\"><img src=\"data:image/png;base64,iVBORw0KGgoAAAANSUhEUgAAAf8AAAAZBAMAAADNtTqmAAAAMFBMVEX///+IiIgiIiIQEBB2dnbu\n",
       "7u5ERETMzMzc3NwyMjK6urpmZmaYmJiqqqpUVFQAAAB6qHgnAAAAAXRSTlMAQObYZgAAAAlwSFlz\n",
       "AAAOxAAADsQBlSsOGwAABQpJREFUWMPdWU9oHFUY/3az05nd2dlMWgyKIS4phaIIq1QiRcMeUtBD\n",
       "26mGXhRcD90UPGTiip5qV6PFIjR7sFBE7ECRejCyaIqY1bq5RKoehloERej0IIIHE6SaBtT1/Z15\n",
       "b3cmO0s3EPsdJvN+7/ftzPzm+773zQtAHMuN7YU70XaOufGIabhDLdvc/gJUt+h3tf+JAAkapKcj\n",
       "pk/3+NQ1/zRjUgE8PPi5uwCxeFtg1+if8xHT53v7tfRacD5CBVjC5+e6CxCL139T6CszWj7yCz7M\n",
       "skEULpiEXxcESFtEgFdxYJS6CxCL13/TaZLqq34pWMaHaT4dgQsm4ZdvCQWwTgTAOqTc7gLE4vXf\n",
       "BuifJw7bHEmKqRyFCybiqTfWhZlHiAC4DnatcWmIx+u//Uhrl3mfrz1+CzobReGiifhriX+Emffo\n",
       "Uz08NrYvzioQh9d/W6SRDtebYiFP8gyIwNsLP8frxt/CzCEqwGcAx0KvnZIF8HmWWKPCb9uSRvUw\n",
       "cixP8paQLcDJog/9CjDETqNwyQI846o3hYkrVIAzoHnh9UcWgPOUcYHztB1auselYSmMHMsT4EEm\n",
       "4Ty69rM0k1E53uNLi3Bl8nerDZcswHXQ/hUmvqcC7LBSjuzx+qKTnegQgPNSYhodDi2LEiUQQCLH\n",
       "8gTYT5qhFxqrJVCH8vRmqgaLKYrroOdlvC1/fXy4cfkvYeIkFcAwxdqmjpYdwzsAlzoE4LyLDwV4\n",
       "pmKGXVKkBAJI5HieTIAjAIPoGQ0qgFFMs7WP4oOOti7jsvm4gi75hzBxgbXCtWUBbKDINJZ1KKYa\n",
       "nzSWpFaY8cz3hT41HZo9IiUQQCLH82QpgF5gsuALAPmXg+KC8KxFBQjwNuM4fqO7Ab79esgbwY3B\n",
       "VSbAwbPo5IvZ0cSKDQkMGCc+NIsdEUB46M7hc+F+9VpY+y5SAgEkcjxPgOdxtDRpD8sFGPmNRRHD\n",
       "IZWX8Hbj+EekdVa+eQwmYBSdrzAB5nB9udAc8BIeHCUxYx/4KUSAOfLOLsIugFO0WGfsRAEW7nXa\n",
       "4xhTOgQgZI0tODE9yVIFc7gC3QoEeIppx3F40RJxZQMdnquxkwDXUBDBTFU7UoN1srwuMgFyKOrf\n",
       "vAcGbb1IREIC6IlSpwA5UrcXJ1ct9Sq9oj556E8oKGvtazeidApAyCd4PY7niZ4N4GjrLBgzG0Vf\n",
       "ANbW+DhXlbc7D+D+r85OfFyZ2bDgh9Y7kDPVAkmt+8XP4RtQgaQLV8rlsmvYSrHW0QfwIIV5G5L0\n",
       "Nk1A2VdVC+1xjCjZL79bumaLAhAyX5BieqIHEVZLLkC7vQ1v9dRd24mStmaDlhcFGIdhmFfhJRoB\n",
       "sGBG7AegEBl0sQBKkeQgWrZ2OHgwRQ9TjGIMw36jKAjAyEgAyXNK8O30pF8sXQTQpl+51IsA8ygG\n",
       "sqU6+c7yBdDWUAys6Gixxxd1IOGFC6BPgPLVu1gA9XH41INnNhzcIqJBpao+ig4Vl1GmlRoPSSIA\n",
       "I+8B2bPiEjd8CPFEdjx40Cdvhi6dA63WWi8CfIw6A+2GBafEHaGMh771z9yF1MR5d47tf0TuCOEU\n",
       "MHjvYpnBAIDfet4oJrNyI4QNp4Dk6W7miTN9yz4zjoduiU2Vy07XLTF110GAD/ieTCsfDCDDipji\n",
       "JZzc3R0CzO5zZc+MtZkn+eDbqr226m3uCTZDB9kQZmkTzyxs5rl9doVv6/8CVdiutnN38z+/NIBi\n",
       "duPrtQAAAABJRU5ErkJggg==\n",
       "\" style=\"display:inline;vertical-align:middle;\" /></a><br>"
      ],
      "text/plain": [
       "<IPython.core.display.HTML object>"
      ]
     },
     "metadata": {},
     "output_type": "display_data"
    }
   ],
   "source": [
    "# As long as there is at least one operand then \"if all then any.\"\n",
    "any_if_all = \\\n",
    "    Forall(m, Forall(A_1_to_m, Or(A_1_to_m),\n",
    "                     conditions=[A_1_to_m]),\n",
    "           domain=NaturalPos)"
   ]
  },
  {
   "cell_type": "code",
   "execution_count": 31,
   "metadata": {},
   "outputs": [
    {
     "data": {
      "text/html": [
       "<strong id=\"or_contradiction\"><a class=\"ProveItLink\" href=\"proofs/or_contradiction/thm_proof.ipynb\">or_contradiction</a> (conjecture without proof):<br></strong> <a class=\"ProveItLink\" href=\"../__pv_it/theorems/7a43b8673b53a5bf981ce1e5ce704dcd634fa1f90/theorem_expr.ipynb\"><img src=\"data:image/png;base64,iVBORw0KGgoAAAANSUhEUgAAAgIAAAAZBAMAAACx5VuOAAAAMFBMVEX///+IiIgiIiIQEBB2dnbu\n",
       "7u5ERETMzMzc3NwyMjK6urpmZmaYmJiqqqpUVFQAAAB6qHgnAAAAAXRSTlMAQObYZgAAAAlwSFlz\n",
       "AAAOxAAADsQBlSsOGwAABHFJREFUWMPtmU+I1FYcx38ZJ5NMMhmnSMUiyBJY8NKyWmFFVObg9rZt\n",
       "oMteKjoIjtJTdMSbZai04EXnIkgPGvBfDxWkVbrdKh0vgouHKB5El5JC7xWhSA+yvvfyXvJ7eW8z\n",
       "qL2M+A6ZvLxPvu+X7+a933tZgPLS9DfDO1wM/+NRSB3e8XL/vQPvHYCE/iyXOTCCGNvyE3dgkf6c\n",
       "K3NgBDG25QF34BtytDtlDowgxt6BegBQjcscGEGMvQONYel0R5pGEGPvAGz1/W3luaCcGH8HfgU4\n",
       "WO5ARgSowdTzGAF3NTgoi0xufFzs0Uh/vH7xBqMopCKktFQHToOdyHd+eyNq7EYOCMKcRtCXoS56\n",
       "CYHaKrBMlUo0IqXH6+y4pN5wvaC0pNN0VQdqQTXvBaxN3chLZuAmckAQ1ZdI/gvt3CghuQMcpiEm\n",
       "iBJ1bWNa9qk9XmLPlKh9XipYmejCctqKA14LT3O/E6O9Oy60kQOCuLol55xeS+cARnIHBLzMAxDU\n",
       "Mg6o2JiWRbVHmpvAjdQ+6/L40SGknFUcgMEd8rLdOrLJuBuCMaRPfOLHFnaAEXQInUebqnqicwAj\n",
       "uQMCrtH3CVGirm1My4TaI8vMFU2fhZRd0Yc1qzowS1zZe3G4JjESmGczSDjzRHJg9mw60/yGNN2B\n",
       "brOJkdwBAXtD9qZmFK+DtpEVe6D26NHxckrTpydPBKf0YT1VHThJvP3uI1gbuu10reyFrtHBDpxk\n",
       "7l+FdQDfp38zJzSm4NrGqDgIKKI4wGCbppMOSyqUch4sZnVe8kY02DpQ7Xa7B7CIQ2O7AvAZaZjA\n",
       "ao68cJURfLnoQJPOsX9BDyox3CO3xF5otgfYAUbAjT3/BNbD1AF3z+f/wpT5rOAARVQHGHxiknbH\n",
       "Rjql1sD+rC52aVkjSmjpm9/EIhZ90D/T9gSrWbIDMpJdPs6OP/v+p77/CdodT8N6OGPBsfQdgGst\n",
       "ZXdM0u2ZECoBz6r2C+hbU8VBQJDG7fuLj0LsAIOBBl+nI51RNnGc17OlR9aYS/CHamIR9rIfF4+H\n",
       "1AqjQEYyzaf67wP2M/IW3HXTuYjkYCNRHCADZG1MHTDb4JAJkySYWgRztMoPKeKthx1eGznAYRp8\n",
       "4+9MCL7mdXE/ahQSc2ImdLGI0SJ0RaRQpMYa8oBkJAvrA70DTkL2v6c/BPsQqRw9l6fpzAF3N5h/\n",
       "/EAdsHbBLwl89V9EF4u92NoOvT49xBw5ZA7cGDnA4Umeijjlhrwu7seNXKIXw2HePRKp9UkEtb4U\n",
       "FlNjDWksGkSEdXjEN6K5bjcq+0ZER4Ensk9AxkqegcTZhNeuNOQVES2TstCMUbIuFBJxcZVDReZp\n",
       "BHgCEWrzeWgahGuanbf7SmatI+n0Mq9cWJkAJxvI4sxMjKi5QXHgyDYpW9dXnpcsjLkEkXT7UBRZ\n",
       "YBEsqGoLeWgqIjRlwTf8TjjE63bNmboqfsNCJWeUixGLoBqs0pAHWdVtwJZe+0vp2/y/wP4f9rDm\n",
       "aheCkaR2CypfM/ydrwDKIWgvHWOH9QAAAABJRU5ErkJggg==\n",
       "\" style=\"display:inline;vertical-align:middle;\" /></a><br>"
      ],
      "text/plain": [
       "<IPython.core.display.HTML object>"
      ]
     },
     "metadata": {},
     "output_type": "display_data"
    }
   ],
   "source": [
    "or_contradiction = \\\n",
    "    Forall(m, Forall(A_1_to_m, FALSE, \n",
    "                     conditions=(Or(A_1_to_m), \n",
    "                                 ExprRange(i, Not(IndexedVar(A, i)),\n",
    "                                           one, m))),\n",
    "           domain=Natural)"
   ]
  },
  {
   "cell_type": "code",
   "execution_count": null,
   "metadata": {},
   "outputs": [],
   "source": []
  },
  {
   "cell_type": "code",
   "execution_count": 32,
   "metadata": {},
   "outputs": [
    {
     "data": {
      "text/html": [
       "<strong id=\"true_eval\"><a class=\"ProveItLink\" href=\"proofs/true_eval/thm_proof.ipynb\">true_eval</a> (conjecture without proof):<br></strong> <a class=\"ProveItLink\" href=\"../__pv_it/theorems/dd3dd1be7940671d70f538b7a82594aaa1b56b3f0/theorem_expr.ipynb\"><img src=\"data:image/png;base64,iVBORw0KGgoAAAANSUhEUgAAAyAAAAAXBAMAAAAByTbTAAAAMFBMVEX///+IiIgiIiIQEBB2dnbu\n",
       "7u5ERETMzMzc3NwyMjK6urpmZmaYmJiqqqpUVFQAAAB6qHgnAAAAAXRSTlMAQObYZgAAAAlwSFlz\n",
       "AAAOxAAADsQBlSsOGwAAB8NJREFUaN7tWX1sFEUUf3u97e7d3rUHSAOCeKkhBFApBgIBlYO0qI20\n",
       "hzQYg0qj8SCocLVG/iDIEbCRmNAmiiGGyMVC+KeYs1SJLR9H1BrAmGtpbBSVwwRNxBQkIq0Rz/nc\n",
       "nd3bbfcCDQnhJbOde++3b3bebz7eTAHcyNhpcKtEZeV2EXVYi9tAV9+6DtzDCvrgFoeOtBTmccct\n",
       "JcQfGtZSDVlc/3FEQlzBRkGCEVqQ+C7bQ5z0TrLXXt1ejuVBi3b5+oH09nywXDbwhxpx36bgZrLV\n",
       "ppGGy7PEUg2dWLd7REJcwUZBnmEFyTkj8BfwowGG1xtSEkUPhQ3NYM7R1JOnk2ZH4ez9+d7HjYdg\n",
       "e9rGhSACXHTji9oMuxC3VMObeNLXj0iIK9goyBFWkBwb1LUn8GMNDK83JID7WxxnA/JSwsnUY9XJ\n",
       "L6CnNpjnfSVe6o8nbFwIYsBNbgIpJ0KwpZrQ4s2MSIgr2ChIBSuo9e3XdK1H2Dqc9KKEha3j8dq4\n",
       "k6nHqvPNxWt7RZ73d/Eob7VzIYgBN7uZ60QItlRDAE0838ibuivYKGwhLbQg2Spd19V4aGhseDjp\n",
       "RVmGylGWAoTuzTiYdEJ0XS2GKimrdy9pcZOdC0GMjzG72eNIyB6SPj1UXj7HRZblBnbzRYvQgiQV\n",
       "/NeUWHlY3UlvTazCzCOcSzuYdEK4Tr1CFpy41XszeeFpOxeW7I/ALW5qHAmpIZE+DPCSC0LcwG6+\n",
       "+NK0oBmfUf4y9L8BjGHJooPevKvHQWK77kHYEnEw6YRwnfdPsxvuvTbk5N0WbnFz0pRaiYScJJHe\n",
       "CWrWBSE6TEwSZHt49KYR4snQgke2+p+hRznGVD7i7fUmUbLgYR+Vguasg0knhOs8g2Y33PushJN3\n",
       "W7jFzRnHGXKGRLo46k3aH7hmVsMXWU4Ih8nzBMiKuN2LJgjAlI6qKl6XLlbW2Xy7CAH4/ol2viQX\n",
       "JWkBKOs69jdyfZLNnESQLclUX1dzwaI3y244yz7g5a5L9fYmgxCuK7pMR5211UV02MmVA1GrC9P0\n",
       "ZnDuhskWR0K2kEgHQ3abdcOv6+Bnb1SLckI4zHtdQNXa5l0mCHyUgWKeYPgfAHgx/wUBokyJJSWv\n",
       "+lPcQoiMPhktxQ1j+XnRR0cp06eg3ay3SB8/Qy0HKA3bmwRCmM5DItmf1+os8iOugRa2ujAfaimc\n",
       "u2HS6khIK70TaTlhs5kexgfzUMprXJ0w2IHZwmG/0fYeQIRAEOVy+qg9g/jNH0wipAsxIXmhKmNZ\n",
       "sjRU7kOll6eab/AVi+j/gea4SW9d+pR6vmKBp8LeJBDCdPToEMlrlZxAvFCaVK9ZXZizbQrX3VDp\n",
       "ddxDemmkl+1CZ5IjDVOkbtwnVJvEzvf9P2wVCMEwJKEPjQYln+3uI0KgGYVTYeFV8dTZnIcXIBLe\n",
       "wNEM+ZKta8UhWqCN3Xnw0Ez+nf5l+q84IVxvEelbuiz70+SqxeiuYRIJYToV78beaF6rzfiLqiAQ\n",
       "ZYQILkzC4NzN6a/H4GHX7ThDummkt6GoPtuaLspKOLy4lpAJ4/3e5/YZhGwjwZfgcyHymt29ngkC\n",
       "v4jpSNj2uwXISuJAO8R3IW+WFhWP6g0JIzRP0ZZ1PSwx6VejP/IQsAf6M52at2GSB4XuGiaREK5D\n",
       "GbK/CvJaxYn2PjxkvGERbjS4ukWEMzfyqYdhPvrV4UhIB400ytrgrYlQGicJP65F/Wm66qXKDEJK\n",
       "yIA6AOMAmuj49celCjg4yTo6CESXhTRwJGUuIuuSv6fT/MJCo9pGCPEqnzCnSpgUecNQFL7LvWeE\n",
       "hp64DL0yVdSDB7c0E/iDH9xW5nZBcMNQxOiu6UzXpteYTv5soBPA2irAqvUXyQe+FjXB9QY9KROc\n",
       "ulGXt8BV9GuGzUUvPRrNEO7Vz0Mjyy/Po70l8H4s9ioipM5nvX7vqLwUVXrpd2iVNVehQrZetmKI\n",
       "8QvvJ0HYTOJVhAdCpghWm1+gEJqJx2KxDNpDInzFncaKaQG2kabCUm2ju67EoVW1sJNZSQhfn6hh\n",
       "Jzu26JGeB2XQrNBal6JE6Azx91gIkQAv1izrDgFaQxNKhXXFQpDA0W86+8iUGkBlAkvIS9AiISVU\n",
       "FAyTUMjptj6A1+kMgQjPFk6zMlJoUmqikNgY3b0RQt6BtwtptCiupeKgpR2vJdJGpNXLaNB0a1CH\n",
       "a9P66aH8FDogWAhBk7o0gwmRI2SeoV26OIneQj/Zg0KCZbAgGMGaFUmQkoQQBFgAcDfysk7A65Ce\n",
       "eg8+7VBCHuOEFCdoGSE0TRs3FTJFeHdvjBB1zcZPCyGkGTyb49DkaG8SIu3PolR653hozKDaXWlo\n",
       "QqNbmZ6AEjMh2qMgH/8AE6I8AoeysGooie9UGjPKfGhM4EeGQdbILWgFRSi5a/F4IIQ0ZmBVxxgU\n",
       "Ny2ODRSf0CEl8R24j/hgOHHpK/r2Wk8Lk+17F9v2ZVEuV0hoeHddikOrRblcQf8b+xikJwHWOtrX\n",
       "gs3/Zvk2tDS2TtAuMf+rFy9ZQZ4HRUP6W8b7EA5GPAEDRZYsbquSBINe88Dk/WgaxWLmJGErK7eL\n",
       "SInhLGMXWIeOm4mvjFsGsJ/92JsLC2/xmpyVkiUTDFTDnIxu8+WuGAaj9jz0peGOWCTgGpm2fSvg\n",
       "CmUy3GHBJP8DbaxTjeRPK2YAAAAASUVORK5CYII=\n",
       "\" style=\"display:inline;vertical-align:middle;\" /></a><br>"
      ],
      "text/plain": [
       "<IPython.core.display.HTML object>"
      ]
     },
     "metadata": {},
     "output_type": "display_data"
    }
   ],
   "source": [
    "true_eval = Forall((m, n), \n",
    "                  Forall((A_1_to_m, C_1_to_n), \n",
    "                         Equals(Or(A_1_to_m, TRUE, C_1_to_n), TRUE),\n",
    "                         domain=Boolean),\n",
    "                  domain=Natural)"
   ]
  },
  {
   "cell_type": "code",
   "execution_count": 33,
   "metadata": {},
   "outputs": [
    {
     "data": {
      "text/html": [
       "<strong id=\"false_eval\"><a class=\"ProveItLink\" href=\"proofs/false_eval/thm_proof.ipynb\">false_eval</a> (conjecture without proof):<br></strong> <a class=\"ProveItLink\" href=\"../__pv_it/theorems/033bb8e8b4c988fdc2d20e7255003ecfef7832580/theorem_expr.ipynb\"><img src=\"data:image/png;base64,iVBORw0KGgoAAAANSUhEUgAAAeQAAAAZBAMAAAAS+0C5AAAAMFBMVEX///+IiIgiIiIQEBB2dnbu\n",
       "7u5ERETMzMzc3NwyMjK6urpmZmaYmJiqqqpUVFQAAAB6qHgnAAAAAXRSTlMAQObYZgAAAAlwSFlz\n",
       "AAAOxAAADsQBlSsOGwAABU9JREFUWMPdWF1oHFUUPrPN7Ozu7CSrpaFijctKURFl/cGKaF2lFR9M\n",
       "umooiILxoVOoSCam6IO0bpMa8aVZwWoQNNuK1IcGQm0pNm3dPlgIWWQNRagKHR+i4EuCqG3Eup47\n",
       "996ZO5O5s+xqqfbAmb17zrez891z7rnnDkC0dOZug2tJlNydzSBJuNakdnUoJ5heESlFe64S5ZuY\n",
       "IvGyZFLKrd3xbW94QAo6QCnb5OP7KMpNEG2IUaBK7r8k+d+l1m45KSzXaoj/sOupwQkynoii3ATR\n",
       "hjzLFOWCS62ziBctA9F2TxbIZYhPYkPw7A/5y69dTw12kywaiKLcBNGGnGSKcvoSN6YJq7gF0XZP\n",
       "zpDLdvZFXxRW8JyU8pxDOYmT2FGPotwE0YbkmeJ99150rVlhScrsgsTEFf/EFmFOVhVllImnBulq\n",
       "ZI1CVxNEG0u5TBVlj3LZNfeinmJjmV0QEgWdRSKRuVmISbIqo0w8WLHvyeXui67Y0YjWRS9QRZk2\n",
       "/vQV3Swby+yBmh7jd4QLAs0OW0aZeJDycYBt0ZRdhJgwajg+mFPpJ/lo5zExCjQSqbr2q9foWaCw\n",
       "KiWz++QngOvYcAreKAj/6WTQkRyRu3yUiQcp74NEYFZGjlbSGwXKHKFuEEDPWGGMfRAiwzRo5NLn\n",
       "rsI6VRKdxF/4o1nHrNkQK/KoEXt/30LA7hMsq+t5UsC4wMHIy6JMPEg5XuyoeC6tx6wY9mY4JlDm\n",
       "iI7Lwj22hBY0ETL04w6A887Qqffn3fJSoQrQPXP6dwReT+0T8B1DUPs0HAnY/QlYMqbZTvzSzKKw\n",
       "pWhLMsrEg5SNjFibZjB4xhkdCgJljjh0t4dLDYflmgjRj3s8JZRVvMcv+DlP7ef47s/sf8C45bMH\n",
       "G5ok25meAugSVntKGuUUjTKUcYdLnxzqUc5atD8xdn2aESk7CJTMR0KLk7TDHkOArAMZZTexddRb\n",
       "PMoxbYDntWP/klF27QHJvurmNcTyLgcwsrK1TDyEci/2JM9/XF1lKzZsdRzW5m99lHudfkaBzwVu\n",
       "elgTLEBU+pizHuWD3BXPUHW6wEmPsvJVxesOnQ7yMb89IOt+ZlGtOg0q5wDpAVmUiYdQHkXUmzdA\n",
       "l4Ubx2FKWVcGRMqjTkQPwWqAMVpIUpaSh6kbg4/iQLznwMXzvkc5uUbYRIgmSAIOllzK6u1s++F2\n",
       "bb3P/gLOsrrMBihPs1kfJdN4yeXAN8AQysRTo5sAwA9YWzHZZk3TrBuWWiiLlB0EHN20WNTmKWV9\n",
       "U99vkFeDdYJA+E7xnmm+DLsXPMrGO7y8ZB1VB5eL8E3jXZcyazg8O5tf3ojESLW6gw/cRmRrYz8Y\n",
       "g8sFzgFiwUhgjt/r5DjxuIfHDdAN4xrspFGGqcyKw6MCZGmx7SIDiYtQ0vLBvEZI+lTtxDkLNDrV\n",
       "PR7lURd3K1Mu85ID5HSi1EqLwzjAiBQxIpyXE0s4R2d13I9IgCqg2CsoY8531QllteBkLW5H8Qr0\n",
       "k6/sQiFGNzxITobbpOXL6e7nmlMee+31YivvHRgHfmKRnGc45ZSNG8G+NZAgR5NXJtghWaSsbwT1\n",
       "iw8IZe1h+MyG55YrpC0brmsPwHCJXOoMsl0tk5QbsxjPDtO833xRpBwvUWWyd/LR0Ad8pNFoJcgu\n",
       "B+mpz/GseCvSb5qVqLciJLENXoaKmP5eR8JHWaMQS+OSfNzcIfIUhqSaq//qcVSUeCnS0+qLIG01\n",
       "nms+4W8iGllIuanHR6qtVDrXcuvBMMqwh+kVkbXRnrbefYlns3TIyPd7t0nTPvy/vOH8p++xd/HB\n",
       "W/+R99gP/Q1faoNudCvtFQAAAABJRU5ErkJggg==\n",
       "\" style=\"display:inline;vertical-align:middle;\" /></a><br>"
      ],
      "text/plain": [
       "<IPython.core.display.HTML object>"
      ]
     },
     "metadata": {},
     "output_type": "display_data"
    }
   ],
   "source": [
    "false_eval = Forall(m, Forall(A_1_to_m, \n",
    "                             Equals(Or(A_1_to_m), FALSE), \n",
    "                             domain=Set(FALSE)),\n",
    "                   domain=Natural)"
   ]
  },
  {
   "cell_type": "code",
   "execution_count": null,
   "metadata": {},
   "outputs": [],
   "source": []
  },
  {
   "cell_type": "code",
   "execution_count": 34,
   "metadata": {},
   "outputs": [
    {
     "data": {
      "text/html": [
       "<strong id=\"binary_closure\"><a class=\"ProveItLink\" href=\"proofs/binary_closure/thm_proof.ipynb\">binary_closure</a> (conjecture with conjecture-based proof):<br></strong> <a class=\"ProveItLink\" href=\"../__pv_it/theorems/77b13fc0156b765e348c13e9a1b0c73e8cb109380/theorem_expr.ipynb\"><img src=\"data:image/png;base64,iVBORw0KGgoAAAANSUhEUgAAAMcAAAAWBAMAAACGSZV/AAAAMFBMVEX///+IiIgiIiIQEBB2dnbu\n",
       "7u5ERETMzMzc3NwyMjK6urpmZmaYmJiqqqpUVFQAAAB6qHgnAAAAAXRSTlMAQObYZgAAAAlwSFlz\n",
       "AAAOxAAADsQBlSsOGwAAA2NJREFUSMe1VUtIVFEY/me88547jr2IsJKREpOg7EWBNQtzlwwughbJ\n",
       "FDSaEI4t3ASpFYJgpfggKmqixE3QLMQoxaYWgbloyiiCoBalpKAWZlmp/Y87N2caZ9x04Nzzn/88\n",
       "vv/xnf8CLLPVY7em2mBNcXCZzRDFz3q5rSXpDrs74UTuydnCMYBbKH8gxbu0IK+wq14WbVPxS87q\n",
       "+YnPFQDZCUfMdndTeQgMEYCHNL+SDsNE1h8R+T2DfKJPDSsy/ACTQbD5EkEiSj0udQCcpQD404E4\n",
       "0BzoF3ngB30f06eCFZcxUPfC4Az/A+KMYqCGgPGVaDqQDPpsY1G58J0G49/sPA9iR6BdWjKOe/J1\n",
       "ENyR4QMn2mhLm5K3lBK5ssEwx1homEOMm8TehiS6LgRo9emeuJoxjTZEKPR4dqYF6aGQSd7D6u8Y\n",
       "x4yyuBugPA/HUp41+fRwrV7xkczBkN0HOMFKXwoQMpIsQkOjlmlWjQJksWCZydrATgxCHInM9vwD\n",
       "BXipE825BFamsWkPL9X+Ku4NsqS2XyuIJWsrZYEnDrDOswoZs0lygEQYJgOGedqyKPGGZ0gtFXNp\n",
       "9ikhDvKcsD4HDKitGakCt/fiG+3APko+b1vTNzAjz6VeFTqZcbtCZKhjvzD8ns0aCPjvoAYpr7ol\n",
       "793beXAhF6fAgUFEEOVoIogJWfRVHPXapGJkYiCcX1C4zQHxL/IE/GYMMLGyhSkP7htC1iiUReT1\n",
       "ur3NBxPD5cCeK7qcWhnrMFSunyi8FHUcCDqgkuZQB0cWHsjLyh4a1cxx9+0IageO0SEqTnex3xRd\n",
       "9piMG9GhOsrEU55mxYG8QC/psvOc925YyUtPwDQO9oh4cmaddqBUo6KVXK+WMJVpKW7DiOz1aTzH\n",
       "XEV1EK+yKqxR38Xm9hRPMofH0ZmQszMQOEU5UbQDpymlOWCqnvXB64V2KTVy28jCxEQni1ukzI10\n",
       "CenaAlyFwRjSCzPezWBFWIeCFq94ohi0ZSOt5aV+sFYtG/YSKSuxdk6XMNaZUZMXrN/AVKA9TwSp\n",
       "iZVzYuvQMopoktavb9gPpkdXLUUwOF3ci743ouVqa3tAP1dJQU79k2tcwsHEEq/q/4+SQFXcyuG4\n",
       "J5C0VSZX/2Na19IBJ/42pPxBL+Hn2kRFBP5L+wPJ6s/BLzA8/wAAAABJRU5ErkJggg==\n",
       "\" style=\"display:inline;vertical-align:middle;\" /></a><br>"
      ],
      "text/plain": [
       "<IPython.core.display.HTML object>"
      ]
     },
     "metadata": {},
     "output_type": "display_data"
    }
   ],
   "source": [
    "binary_closure = Forall((A, B), in_bool(Or(A, B)), domain=Boolean)"
   ]
  },
  {
   "cell_type": "code",
   "execution_count": 35,
   "metadata": {},
   "outputs": [
    {
     "data": {
      "text/html": [
       "<strong id=\"closure\"><a class=\"ProveItLink\" href=\"proofs/closure/thm_proof.ipynb\">closure</a> (conjecture with conjecture-based proof):<br></strong> <a class=\"ProveItLink\" href=\"../__pv_it/theorems/3e1ecb6eef0e0999454e77d07044437c933735840/theorem_expr.ipynb\"><img src=\"data:image/png;base64,iVBORw0KGgoAAAANSUhEUgAAAdQAAAAWBAMAAACLXnBUAAAAMFBMVEX///+IiIgiIiIQEBB2dnbu\n",
       "7u5ERETMzMzc3NwyMjK6urpmZmaYmJiqqqpUVFQAAAB6qHgnAAAAAXRSTlMAQObYZgAAAAlwSFlz\n",
       "AAAOxAAADsQBlSsOGwAABYRJREFUWMPNWGtoHFUUPpPsY3ZnJ5lELERCXLZUqWKJUlspNoyQ9LHS\n",
       "dmJLQBS7Cm6LCpkkor9qo9ViEZKVGhApZrWWKjQS2wRpYusGSkSjsNEgRCrd/PBBf5hQqmnAuN7n\n",
       "zJ3JTLZxG/DAmb373bMz57vn3HPPLMBNiJQw4VZJN9PVEHkZvPbum7pFIHvLvJHyVJEc8zE5tkJ+\n",
       "GWsY1VxztZv6j2/IUjwJBQxdLkW1Cn+oufKpTjFF0u9j0r+yO0bm7HG9ezL1gdx3leJJGMHIu6Wo\n",
       "KjiukfITL5ihiheuaKG/4EsH++KHC+LArwhUI4ab6hnYEaJ4El7BOZAqRTWMg3+0/KAqOap4OGut\n",
       "3Bi+HOAmPrggDvziDXsiNriU6ndVFE8SwoF8yb3ahz52lU+1kimSHXusWlchbjk/XBARD7w+L8w8\n",
       "yCrCM4n1FtUIxZMQQ2scKV2WvkUfmfKpTjNFrmp3WguMl1ph3/xwhz8C/qq0KMycoOXpbcOO6u+X\n",
       "KJ4EeCCR2FiaamUisVYvn+oQU+QqXMmJRbSC568P7i66HB9U/xZmdtMabthlqXWDTnFE9XOAZ70J\n",
       "ilQVE0LkBkHRxPCuPf5UT1grPwCH7aX7DaCGDf1wh9h4NB++Lkx8Dc4qm/rw+LVhiiOqPSAXvEuI\n",
       "SBXZ9JDxXqGbCG72/OFeZ8MxvfPsBT6+jymKBvSixz5JNwWqjet4lDAebP7DcOEOsXEF5H+EiR/I\n",
       "NSOWpfpPDIIjqiHD3SG8NpSNNbmoosgnyXiPsHcCi55UBZNwQzorBeSfOfktTEF6fnQ2BeGaOD0k\n",
       "ulVWOymugBJ34q6z1MLXjF78S5g4TB6K9mTiLk41FNUJjtxXNbEqYd/UQgsMu6lO0rWKdgkdyen7\n",
       "vfwQTUYRRykALXk31VaAasRGpVRVnZ/ZFK/OyvNO3CkWHkSPuiZMnCRgSoxqCFIEx5HKjAm22Dd1\n",
       "TAE9MHp2dESgGokRAlJEyHbtfc/ezzaRcIVBUb1kuBMYBaWi0aIK8Zes/MV4zKBUbdwlHMfhWAsw\n",
       "8VVNoR4ftN/TWSfVDMEx1V3ozIx90dEgjZvUN/XQx5rujmpgmrirKfZGkOC8lxuCSRsxU85Ze/pp\n",
       "ptEc7eg41fqrLCMYDoG4A3cLx8+QRjL4zcPQBA1oPE7QGgdVVSM4pnoEl4eTucqCVKC+qWbLT0uo\n",
       "yk3EFVNqBJlV7NNwG0QnR9z5i03A9gRFNfxZVjgMsB5BGrphU32MrQ7HodMQ8eACuuzPsIGNy/hJ\n",
       "7d1yawbmhYMsYhWL1EfwyKMUx1SrUM6+UQfVpqJT31RTkVJuqrjAI6x5959wiFW/oeZZoxL2uws3\n",
       "NuG1P51O59Fe1fn50Um1rdgHavuCblFlDYGF89XkjcK9uEcaZAMLD7YvGPBj8R2o0sKNZGPcQ1fm\n",
       "11PUrG5TO36zIXiSOzUDXVCRp76pZlDPuM5VnpyAN9E6lr/Qa8rod678xSYTlycGtgO8SKMKOi9U\n",
       "FSZVq77EvRP0LXhzRf2mKaXkORNkdrvoNtYY8p4jLlDdDGugN0x9U00Y0DzfV/FWWiRU95HsrEaL\n",
       "+xwEdfSVX6jJZKoyOwW060BUt2tCPy725D5U5QMvD6+Eai+Kayw1yN8kPN8yOFV5DsV1XKG+xbIg\n",
       "FTypnivAEwtZTLUrrzRB8Mv3cBsV3gpd3eGH8GUrMwmZj8MF7DJuIeq2vWDd6iBT9tid1zXPKBWL\n",
       "cyuh+ik6aeUZw/fd6yjYVKMF1E313E5960SNVWG5fyFwAvOd34LyWLWjZL17TEEcLeW+dNr52zZe\n",
       "l1dFDi6DJ93gEt8IVed/Sx0b8xBlJ2WkiE7wU9YUHz0Fd8CM1+kva1RXRaRuf7x2y3+9a0z8kvMY\n",
       "/f/kX+UKh1HDw8q9AAAAAElFTkSuQmCC\n",
       "\" style=\"display:inline;vertical-align:middle;\" /></a><br>"
      ],
      "text/plain": [
       "<IPython.core.display.HTML object>"
      ]
     },
     "metadata": {},
     "output_type": "display_data"
    }
   ],
   "source": [
    "closure = Forall(m, Forall(A_1_to_m, \n",
    "                           in_bool(Or(A_1_to_m)), \n",
    "                           domain=Boolean),\n",
    "                 domain=NaturalPos)"
   ]
  },
  {
   "cell_type": "code",
   "execution_count": 36,
   "metadata": {},
   "outputs": [
    {
     "data": {
      "text/html": [
       "<strong id=\"demorgans_law_and_to_or_bin_explicit\"><a class=\"ProveItLink\" href=\"proofs/demorgans_law_and_to_or_bin_explicit/thm_proof.ipynb\">demorgans_law_and_to_or_bin_explicit</a> (conjecture with conjecture-based proof):<br></strong> <a class=\"ProveItLink\" href=\"../__pv_it/theorems/60c1c12f92b8e577caa7b15011abda708c795c990/theorem_expr.ipynb\"><img src=\"data:image/png;base64,iVBORw0KGgoAAAANSUhEUgAAARAAAAAXBAMAAAAxVg0qAAAAMFBMVEX///+IiIgiIiIQEBB2dnbu\n",
       "7u5ERETMzMzc3NwyMjK6urpmZmaYmJiqqqpUVFQAAAB6qHgnAAAAAXRSTlMAQObYZgAAAAlwSFlz\n",
       "AAAOxAAADsQBlSsOGwAAA8ZJREFUSMe9Vk1oE0EUfom7SZrsxhVvIjZ4Ef/Af1FQcohFEHXtoTdL\n",
       "FYyiSFcPvQimIAiCmkpbES024N9FMYfiX1GjB8EftKigYtEepCJC04Laqmh9781sMlljVDAO7M7P\n",
       "N2/mm3nfe7sA/6m0VgJD8N+Kr4+rA+XRsAUwQI3+qhN5Kqpuz7DR/H3o3VaAqQDXqH+s2jz0Nq7M\n",
       "cXpHbXwFLR6Z0ASQd6DGhr3koqZqE4nkRJUnqRjEIeDwSBrbF7NgZIkLaH3VJjJBVKvX8/axoloe\n",
       "4cAjJLMYDORaU3WJvBDBYdXykdfic10AeXza8Zq6ABZMn76o6kR6hGfgdc6NnZgAlgA0zsB6HcBl\n",
       "gC08Zv9ymazSfo6SK+YEG3wlkBqwoGBd/L4AqTir1QGf0Grw06RpjN0FOAwhDmF9KUMtXxOXhI7M\n",
       "jhOzhXgULRsZgHvFYFiqsCRIrN7cs2YrAwVsrjxQmrcKDoBfHNs3BvCEbukJytfWeAXtm1guBr55\n",
       "ALsGt4MVP/TMS6QRdx8o9MjmNDU6BSTLbYDJDJx2R5bzrjt682KpY/BSjAdwK20UGyk8uCW0em4+\n",
       "V1GMpWGIoMOQiLbRSwTTTiRT6JENhZ3xBmRG4vIeI4GBGlslsgFgYkymN5m5JuKhjBFsnMKn7RaP\n",
       "WSdFoPVBfY4yHRE5uMpLBBfyF3tkQ7EfCNgF+WFZAfocBgp5Ya6Umn8ed/1BuWQK3RL9go3HFEyd\n",
       "QltXRYaZev8t6DzP6l3oeIiE2tTvBduYuH5/OM6QnDTy4IbDgOmKZBN9UChRDAvDh/JWa1H3KTK8\n",
       "g88+9vk5civ7V3/PNnQje6YUidQlk8lYGJtnZVva0FATBh7WGg5vZpk1ZhkIu0dYR/uQJsaEyGfK\n",
       "8XactsyW8R3lY/ck8rb0bzpjHE0md5JGtNIbGTCR9CvZljZ4y2YOZWkKDUdZZiG8bgRcD8BugIbx\n",
       "TjCbP3P8uulscHxo6Ci7b5YS9WlH+BcuOsG4uBHN5yFCK7e4RIQNXn+AYk9uGmWZhUdLXeN3Kie8\n",
       "UEFg51HBfTp6+iPos2WKQyK7SolkFbFmhQ2lpn7+o4jJ7AlpG+qRAQIybQF91P7ko4iNlaDfPB5c\n",
       "AXc/JC7hXe0nsR3pSOa8UbMND9+q2lA3y7y2uZt2J9bsBJ4XaFXsKpX9nr5ZSJl1ye3FYYUIpqhw\n",
       "vMSmQYG8QMPPs8oXL88z5acpRCJ4xisl4BUV8gDFmSGr4o+k948291sigClOUz+PRkaFSgEF+/d/\n",
       "4LrnO62XbYqe/hd7/AAO3fLVrF5FygAAAABJRU5ErkJggg==\n",
       "\" style=\"display:inline;vertical-align:middle;\" /></a><br>"
      ],
      "text/plain": [
       "<IPython.core.display.HTML object>"
      ]
     },
     "metadata": {},
     "output_type": "display_data"
    }
   ],
   "source": [
    "demorgans_law_and_to_or_bin_explicit = \\\n",
    "    Forall((A,B), Or(A,B), \n",
    "           conditions=[Not(And(Not(A), Not(B)))], \n",
    "           domain=Boolean)"
   ]
  },
  {
   "cell_type": "code",
   "execution_count": 37,
   "metadata": {},
   "outputs": [
    {
     "data": {
      "text/html": [
       "<strong id=\"demorgans_law_and_to_or_bin\"><a class=\"ProveItLink\" href=\"proofs/demorgans_law_and_to_or_bin/thm_proof.ipynb\">demorgans_law_and_to_or_bin</a> (conjecture with conjecture-based proof):<br></strong> <a class=\"ProveItLink\" href=\"../__pv_it/theorems/abdb055e548b989e6e233c5f6e387bde0c92d28e0/theorem_expr.ipynb\"><img src=\"data:image/png;base64,iVBORw0KGgoAAAANSUhEUgAAAPsAAAAXBAMAAAA/2iRsAAAAMFBMVEX///+IiIgiIiIQEBB2dnbu\n",
       "7u5ERETMzMzc3NwyMjK6urpmZmaYmJiqqqpUVFQAAAB6qHgnAAAAAXRSTlMAQObYZgAAAAlwSFlz\n",
       "AAAOxAAADsQBlSsOGwAAA2FJREFUSMe1Vk1oE0EU/pJmkzTJtilePIgNvYiIUEUUhUoOVbxUo4ce\n",
       "SxRaCx4MHnK0RU9eTKFUikiNUNuL4h6k1j+M3myhDehBadGcFBGaCv5UReubN5PdybTNQc1jsjPz\n",
       "5r393r6/CVBXGvzrw/9BviJPl9Y/vUG/klgs1gn+pZyuG+zY2d9LH07DVwAeiP1ofdCtIZ7sVfFs\n",
       "StEjFGdOQxooZzACnKddOF0f+GhBTmUR5ZhADmaYk6P1HQezQCMZFSjWB75BTkeOMWjCy4J5YszH\n",
       "0ZBCjCxsrFPoX/MzHG/lz+ui32N5UKbf8CAaCXt3W9ueOsHflb7H20Il/xPyYC/Qs428Tnl/D+hl\n",
       "XsoInL55RQnklWkKPndtV1dvnIeia/y8jYEk514GPnkW+tqyVZzFKDUvI8zFZ+3jo+zPzikOVVCv\n",
       "lDww4yU0STqVjcuWilHd7p38dJBjgFAJfvmJvhXgBXnEbieYVCAveIFfEikBX7sJ30OYJXcnJMch\n",
       "s9ZjS8VIUgxFBxjrzMOyrKxRLEh+kAAC38igZTIhLjNvchdPTQ5iyyY8NYdo3t0JSQE9l9TZSnGE\n",
       "hwZ/HGhOqCak+ksz2Rz7BETEdw49lVEbk8VSxImCCU/qfi2+Y7JW0706Wyl2yRT3nE9h8rM74Q+p\n",
       "/jJAck0/6MuFWV1srQ/3ZUfYMvseBnx4SO/bLGk7sAvjOlspLqDiYuAk/SKisJel4pxyVSul6wC9\n",
       "MybMucjhm8QmPnoG66MGf7ivry8RIbEJtVaSxApS2gh2gNinXMUJHpKOireLV63IlN2u+MOkv5+i\n",
       "F03KghA12lnmtKRX5PLVX1+yycA3aq0kyY+LIskUu8lVzPKQdA7oXh2Bffa7zEbVdN6tLi1dEZ3I\n",
       "n/c8ihyb0UHd2Ci8kohZtgIvJcn5adEwsi68UtSd78/UbksX3NUtyseilUT4C6wdRuwdLfUcKUkN\n",
       "xC6IG9tf6VEVxRYeqhad2vCP3BZ3ENaTq6EOPP/cOVU0Uw/9tB3UJWkbZdQK21Xs5+Hp1aA1F62t\n",
       "rXV4SnGvmTB1q9lgw0qLYUqtT0Hz39bNDeCjJDhdJTm9ZuFKRr23huO14DebjMIG8DhE9ZUyLgHV\n",
       "gatvqhn9cvgXClf51LgRLWjXn06pNTdnTfoDzYDb1CMhtTYAAAAASUVORK5CYII=\n",
       "\" style=\"display:inline;vertical-align:middle;\" /></a><br>"
      ],
      "text/plain": [
       "<IPython.core.display.HTML object>"
      ]
     },
     "metadata": {},
     "output_type": "display_data"
    }
   ],
   "source": [
    "demorgans_law_and_to_or_bin = Forall((A,B), Or(A,B), \n",
    "                                conditions=[Not(And(Not(A), Not(B)))])"
   ]
  },
  {
   "cell_type": "code",
   "execution_count": 38,
   "metadata": {},
   "outputs": [
    {
     "data": {
      "text/html": [
       "<strong id=\"demorgans_law_and_to_or\"><a class=\"ProveItLink\" href=\"proofs/demorgans_law_and_to_or/thm_proof.ipynb\">demorgans_law_and_to_or</a> (conjecture without proof):<br></strong> <a class=\"ProveItLink\" href=\"../__pv_it/theorems/29d345ca32fcb82bb91d468fb00864cf616feb720/theorem_expr.ipynb\"><img src=\"data:image/png;base64,iVBORw0KGgoAAAANSUhEUgAAAmYAAAAZBAMAAABp6f+EAAAAMFBMVEX///+IiIgiIiIQEBB2dnbu\n",
       "7u5ERETMzMzc3NwyMjK6urpmZmaYmJiqqqpUVFQAAAB6qHgnAAAAAXRSTlMAQObYZgAAAAlwSFlz\n",
       "AAAOxAAADsQBlSsOGwAABhFJREFUWMPtWV9oHEUY//aSvb27vb1cLYb6rx6RoiLCKUJFtJ7SqC9p\n",
       "Vw2BoqSH4LXoQ7ZG6oOoZ1MDvjT3YCH4YE/8Ux8aCFpRk7ZeHizUBLmGIGID3YJF8CWhqG3Ees7f\n",
       "3Zm53T2u0nKKH3N7c9/3m9mZ38x8880cQLRk+u6A/0UQre/uVpDkv7FfiatVcRk/Fv6TnN1CmauE\n",
       "MFppr7a3/ez7lDMXfy1HcdYC0XliFWjTV0O6tNpedYeEhVkjnM3g/GQUZy0QnSc76NdZj5uMjR5G\n",
       "FqL1vpzHjz18BBqC5SDh7HU8W4tRnLVAdJ4co18nLnFFGtMSdyBa78scfuxiP8yVsm+ZJ5wlEdfd\n",
       "9SjOWiA6T/Lk2b3/oqfJCW4pTC9ITPR6T2wXSO2yMWfpWqSjR6YWiM5zZ7S3b2qXPdUA+hxn+TC9\n",
       "IHiGmGyWJLK3CvMlWSP75r19ffdF75vRiI4Tk24B09af0taXY/kwvbKzxnhtcLYmsOkSzr4AeD6a\n",
       "s2hEx0mS9DFVN371I3MHNObqw/SS/AywjmWn4I2Cb0hXCGcHIOFGc+YhbMGgB+NtacTFHz+QpJTO\n",
       "iuZQGyj1NDVBI4l7ozp9d+IvT2W4ELN5m4L1kqBtbxOfljAh0GPlCWdxu7sql9h3tJreInDGEfpm\n",
       "AfS0E9QhCQJxIZ+u4qSWNgVzqE2SACDpGU7MTxNE7+yJ31F7TlHdJJxhVqof3HZe0cszpWyx6rQX\n",
       "Z1eEmMFYJZxZWdHBGxtLVcvth88Fzjii+7IA3B64k0oQibNhktTSqQILeqJsUnQ0HNiED0kSONPR\n",
       "LL2AgqzrqG6JB5hMPw2fyno1Kk6yAONJgB7B46XoPIPKnICeRWNnzZlQEM9ODHH4HqHwaODSESEy\n",
       "ZzMsOFZKIxrSP0G0zZtiYUASDyVtcW3iSXob+iwynVH0Jy/S/wETjqRXJLfXn8CxvEBmjnI2gNt2\n",
       "bM9G7aRDDwfWa59kJc4G6Ghn3xNOEclAJyhCZM5y4g7ll0a7fTxuR9u86sKAJDrwQsg4pvIIO/Qw\n",
       "zrTv2JJm+m8YZ55ekZt/YeNSI2ctTg+ki5SzMfTqZz+odbmaC0OETKf/R4mzMZc62q8Ecsygk64E\n",
       "kThD27dwNvZLI3eyjBZhlM2TUCBq8jRwD0TigQSeGyNljzP9TtYMrodHJf1OVJW+xjJInmJVj+Fe\n",
       "XPLoIXHMAt1w4a0boMdBiiOUM1MripxlyJgchvUA43TcU46Wh6mb1EEiEJWzx0qlUi5VBJS6UfY5\n",
       "VppW9TFAEUUyii11esa3eRIA9NYpqZ655BzoI2s2fN94x+OMRa6+3tgk6iGGCb+LZ7yIdqhxEKyR\n",
       "tQKnB2JV4S7oHIxiR3AKtaduOXqh0nwXdHTrim0sUs7Mrdt+g7yu3hBgSOA8cy0XLLqUMqw0rWov\n",
       "WDXkvhVbF+z0bd5cCgB6W1cRfM90u9CExZAYatxuK+Zj9MA+8f5sM/TChAEv03kGU9kmzlAAhHwA\n",
       "C2eykLgIZSOvLk0ESR9fmFlyVM78TmVYaVrVGQyK24otgZro2YQRaALOL89PPa6sTXKQbsFZYjpR\n",
       "boczRg85/nPOEquIypMmbSEKgTS3iTO0bHvquKN6gbhGFFXEqzCIf7IHhVi98AC7wYoL8ZO3B5i8\n",
       "NOFsHb6ZS2VVG7zg2/gLgoCni13VJTxaWSGgj5dbcjb+yqvtTDROD7ne4ZylXBSoHLgeEvgG5KVJ\n",
       "dtEocmZuAf3rd3FHjYfgMxeeWaviQ9Vo3bgfRsv4UWeQXXqFuQNx39xNEhFWmnC2m8Si06rNdHwb\n",
       "f0EQMO7sIC4J0eQzpfvxw/5DjwSS8HCj0c404/SQdzTdbQ+WStWou23cUYtvUDYaWj+u5LmcVYil\n",
       "mzgTo06/Kq97iq1fk7ou1yPd2ixBDs24IaBbPru6uFpH2Q1X8n+AsR4FTR/xS99GDlLeFOc53dWq\n",
       "mQ1NnJllnNSqPJVsSzYuqCoIBA7DjXAOab4k6drIFf2HUhNj84BcYEwL/SQp8q1oDrWBUk/QITRd\n",
       "7RzO/sn/m9J/ZnrQXYgdcU8S4qT1YJ1+jRjT+h78GzPS0u0eWTAbAAAAAElFTkSuQmCC\n",
       "\" style=\"display:inline;vertical-align:middle;\" /></a><br>"
      ],
      "text/plain": [
       "<IPython.core.display.HTML object>"
      ]
     },
     "metadata": {},
     "output_type": "display_data"
    }
   ],
   "source": [
    "demorgans_law_and_to_or = \\\n",
    "    Forall(m, Forall(A_1_to_m, Or(A_1_to_m), \n",
    "                     condition=Not(And(ExprRange(i, Not(IndexedVar(A,i)), one, m)))),\n",
    "           domain=Natural)"
   ]
  },
  {
   "cell_type": "code",
   "execution_count": 39,
   "metadata": {},
   "outputs": [
    {
     "data": {
      "text/html": [
       "<strong id=\"commutation\"><a class=\"ProveItLink\" href=\"proofs/commutation/thm_proof.ipynb\">commutation</a> (conjecture without proof):<br></strong> <a class=\"ProveItLink\" href=\"../__pv_it/theorems/5cb66972365ba8a9b1650021436738a85a5a50d20/theorem_expr.ipynb\"><img src=\"data:image/png;base64,iVBORw0KGgoAAAANSUhEUgAAAQMAAAAWBAMAAAA2k+RkAAAAMFBMVEX///+IiIgiIiIQEBB2dnbu\n",
       "7u5ERETMzMzc3NwyMjK6urpmZmaYmJiqqqpUVFQAAAB6qHgnAAAAAXRSTlMAQObYZgAAAAlwSFlz\n",
       "AAAOxAAADsQBlSsOGwAAA9dJREFUSMfFlkloE1EYx7+kM2bSZNIUQURcQkUERXDfUMmhihc1eih4\n",
       "UFrEtCiS1EMvgokLguCKrYiKRkS8KOYgilY0eiiUHhqsKIJgEWypQtOK1taq9Vsm0ZlMMr05MDNv\n",
       "3nu/mf/7tjcAkzySeGrlJmilqLJEEiZ9uLJ4mSXkOdsZlcESlP1xUogb2Oyl53eOEl7hqYe56R0y\n",
       "D/ljvwcHGgFm2lMdE4ODF+NFQ9eBCVcG4DE9X3JSoNLKd0r7PUv4SJdm7qioB8jFwRuxpWAlQOC7\n",
       "mcDlTNBikGgDOEymrXeS4EOx8ETaT0fp+pwujdxxFg16Lw3+tC2lDaPJx80EDuUwCojoEiVK1klC\n",
       "BV0Wc1M5TksC99+o6EYzd6OMFbaUH6f7h80EwOZt5BskKiLgR6Vex1B4S7YT/IjrFytB2T6RnsPz\n",
       "Ai7qqh0FAfSbd7WZAC04h1pIePH7S2tqljtKuE+2k2hM6z/zeeGWQXT27vl432pHUaSoH+JmAnzw\n",
       "PiOEgvnwEGAvd0fKSKAFkl50a9bzlbv6Aaq54Rmpns0G6OSX1/DRm6cg0VA9kDETAHchERbCj8LO\n",
       "gMbz1VU82DJe+0BSSG+9sjAfJIvIl1nRr/3mLozjeZL8GJ499JEeq3CiYE4S9HVmAk0JZ3uF0DHC\n",
       "pkSUFDv3l2R5CFzY29y3D4Lh028MZC1ZlKdNa386IuUhqUsKTMHpCoVowiqBKNiDJ8feXwJc+9tz\n",
       "9UJ4MFT0oETj7SV8C2B2DYEP3YMSlF1WCSpG/hcxUtgr1bWq1wj5m7YSyGbdQRMB25EKCVFJeXaO\n",
       "ExaC1ySRsrAjI5UuGD610eoIH55zpS/UIvcEOiHwAxsvrbFAlIeCN5cyEegHcC8WQicpW9rYNvBI\n",
       "6szMrn5QuVYF25flC2sDGZyWcseorVReP8kdnQ0JStgOqxUajEjxjJmJyoxR5pHw06eOseLbMJWH\n",
       "X4D6meeQFQ7NMF5G+Ubpo5H2mJhzh1FmLuA710TyOfjvQZQXiZttYCKO0YJGheBUD/BS79fmOCs/\n",
       "oyFS/ovR6AGKBcV42UEyaQjU2FgEXk+0Sm5LuvTRNsTNBVYJSAVoDzuQrwZC1E20gR4bCzPhThW2\n",
       "VfwyS1mP9T7uCYsVFJcx7Kax+eXLlxay9rjjzsTRwhP6uCqrhkH7BupCo1ihhPzGxltQ1yS2MvM2\n",
       "nnYmnhQeNoD67LJnPXR+rX2A5jqB+vXzrdHCW5vIfeV/cU4UdzWBE1G0SeuFnX5TdJ9ppI46y+/p\n",
       "Nt+rAyeiaFm3SruNMvJI2V+7ZAmqLDHd2pmB/3D8AdyGAwvf3EMVAAAAAElFTkSuQmCC\n",
       "\" style=\"display:inline;vertical-align:middle;\" /></a><br>"
      ],
      "text/plain": [
       "<IPython.core.display.HTML object>"
      ]
     },
     "metadata": {},
     "output_type": "display_data"
    }
   ],
   "source": [
    "commutation = Forall((A, B), Equals(Or(A, B), Or(B, A)), \n",
    "                     domain=Boolean)"
   ]
  },
  {
   "cell_type": "code",
   "execution_count": 40,
   "metadata": {},
   "outputs": [
    {
     "data": {
      "text/html": [
       "<strong id=\"leftward_commutation\"><a class=\"ProveItLink\" href=\"proofs/leftward_commutation/thm_proof.ipynb\">leftward_commutation</a> (conjecture without proof):<br></strong> <a class=\"ProveItLink\" href=\"../__pv_it/theorems/62fd2371445218098de448a50087f92f7e39cd5a0/theorem_expr.ipynb\"><img src=\"data:image/png;base64,iVBORw0KGgoAAAANSUhEUgAABIsAAAAzBAMAAADld5VWAAAAMFBMVEX///+IiIgiIiIQEBB2dnbu\n",
       "7u5ERETMzMzc3NwyMjK6urpmZmaYmJiqqqpUVFQAAAB6qHgnAAAAAXRSTlMAQObYZgAAAAlwSFlz\n",
       "AAAOxAAADsQBlSsOGwAADU5JREFUeNrtXX2MVNUVP7Mzb9/sfOwORUhVClNMQyhWt41FmvqxNKBV\n",
       "gwyw0hAtrG26pljY2Wxj/zB1x2pJ/MfdRjGmaWQUW9MEyhQIbV3UqVUaXNMdkJTQ2jLYiqU2u2DR\n",
       "XRCc3s93P959O2/qzm63MzfZnft+79xz9t37e/ee+3FmAfwn6447UlBP9fTxaNFQKuWm6aPeU2/t\n",
       "iU9rKXsaS6WOimiUna4P3JyvN/rEJ/szLBOrERr9Xb0M1ylQQcp43jlcWzSK9avXn6Jk6jdLe+Fe\n",
       "6ZH/cxo97XknVKwpGj2kvlDxNvLRdNos7YV7pW0G3nZ9NHzqHv+4J//HkbdmD/8r3KZAga4Phjv/\n",
       "YZCdXdp8cnPGv11FUcDbI7iypmj0afVyHf047tClGfuKdgLGxyVXS8bjJQ6/jX91k2wQVexI2j/u\n",
       "pV2RV4vMnAXx3XlVvAV1pEMFg55zqK0vgn+7iqKtnhX7RqqGaBRrVa/3048XxxwBXHeNvLW8cEmh\n",
       "jEdH+Gv+WzEn7EMSu3L+cS/tirxSZO0C9OuljCrei/LRVrce+wz6tQf821UUDXrWbFOuhmgUVLt+\n",
       "oNUTenjUQZKSi+OFy0nGv7qS86xBOFZDCBtK+Me9tCvySpHHcEewXROfh8QjF9x6AviRduX921UU\n",
       "BT2XhSJjNUSjeWo1xGkNPhhwenlYgX5eYHkvXE4SHk7M451/CGWi9GIEN3TGP+6lXZGXi4TIH3m/\n",
       "Jt6F/6Czbj2NeJzua/NvV1HU5O0cPVVDNLpKvYzS6szFLyiTrSTLe+H65IzhUTiel6Z4DTS7GGD9\n",
       "AvCPe2lX5OUifUTga5r4B3gA+8itpwW3c2/Rv11FEZ+QGdLxVM3QyB7VBnTS7JGCfVZ4l2kIsKHD\n",
       "C1e9UYHvhF5nzHwHYAY1+cGMuT8R4mVxL+2avFRkZcIkjl2g2Fn3DezqwFCbf7uKIrpesns+Ttor\n",
       "uSFRMzRq1jzshgLtRcLobbMO0morQkOK9y4Yb7/9bQ1XmSnwHPQVwRoh+QcA6MJuAPkMb+S5dhfO\n",
       "tAvcSzuTlxIvcnXGJI5fmObzcFe/dgO7OjCS9W+XKWJeQKtn3TYma4ZGQa1PDpLHmD3wIuq5uz9B\n",
       "sSfhz3yJheA52K3hanLwwL0DI6gSj9F+LhOnU5dGVPGhUUe7jnPtDu6lncnLXSkrciO5Smni2AVq\n",
       "abVnJDU92NWBf1dglyri9PJeSIuN1QyNevMGGlmoN34PnPX8I6gK6aIexc9DX1rBteTgq1B1o0bb\n",
       "y9Y1m2gn0YKYGzvjaNdxrt3BvbRzPfLSKS1yNblIa+K4OYfyEE9qerCrE7tQgV2miI3z3r2RdaFm\n",
       "aDQvYxjUoujnCkGjBruDj2kEf5VVuIPrVcFx9FY3oFr+LJsy3yeYi8cEvumk4Vy7g3tpZ/KDv59R\n",
       "nHOPogqvGEFIF0fvgIW8ck4jfoO4Oms6KrBLFcX2d18OXJ3RN4IbaoZG39THc+wW7gC6i8EaOvAH\n",
       "9mwch6+ouJY4HsmTzROLdftz/imY29svaKTjTLuDe2hn8tZr16HmmqsUweuSsFwXRyRp7Bc04jeI\n",
       "q/NtqMAuVXTX9nwwMz5LvlEzNFqsXeP5axj3010Zp6GthWwuzHF2CILjG1DjWOdYRsIfwrQc40tR\n",
       "sJp9PoYI9qWUoJGO8yMWDCdKHRNCO5MPr+qHUTZu8iJ4VeLZlPrHY/5HFoGgEb+Bdwmfwd6QZtd5\n",
       "It0uU/TDS6El5ayQGNNKRiPif77pl0bN5BHy04lF1of6hCQJVte5FPyx9LhoaLrsJvAtKRmHBtwI\n",
       "i3jGwdeWtkK861wbr2i2qHeyNDz8REH0dS6ca2c4UeqYEFa5fHPCboXPKUXgzs3vOm+1ED95b0ai\n",
       "EbvR3PXRcOevwW1XPNEis6ITZJ18vO5jKEtp9Dx10X3SKJoljv60WjY6oyPyet5hc6FwLlzJQzb8\n",
       "1IxPjHYIpgMd4dNp3/Lx5MTYhWthwAb4wXjzlwSl0QNYfYdfGtm489oyrca0+EUdGSzf0Fu+d38l\n",
       "54tbAhXRqELt0If6o1hH7mPTqFK74dOw4KizlW1MG3KURk0pusni0zfChwZWTCsaxUZda2bilXx4\n",
       "21JjoRtLpUpsRC8zwhOkHX6BBoDwCd8MCN9yNjEhdiNFuCQ/fieDlyQwjWJ4ruHfxX4dffZPKxoF\n",
       "xlzeUgfUk//UON5ASFaY8EztC/PnX+OfRsH5869om1a1EHrfBT1Y50YF6ZPjum39jEa/AviWfxpF\n",
       "09BIeldLvmPub63/iVqIvl9nQvVSQ5LR6FEIO3uLhnF20a3wu6KgEZJ9lFyskSYO1rXGskLkvg+X\n",
       "7eMXdtfe2wzHi13w3L3L8fJaRMF/JimSkg4fu2W3c0yo+XS9satIo1ZGo8ZUKMv3FrXUfXIj/DWU\n",
       "iqYEjVDPdStdd5Lc8tBF89KUIxJLQsDZmHkZYKZBWoOfKZCNSYKLI/lIUXiJwY2WYHtuZzYQCv8l\n",
       "XafRZNIonsAe9l7TcIDGO3gzkQtJgxocoh52pEeaDDz3eaOfL0SacxBzWvNdgCGDuArHv4h+cgyP\n",
       "dkiKYJ+7rAwPIP4EQrC8UB/UJnNQg358xBvvLcb2d88NHEjT3OUAc7Dc0T89qNCoiZz8hkBTUehK\n",
       "PGWcIgmRYAFW5/nF9WBdaRBX4T7EArtAcaknQ4pMXZkEk3AY1Bu9wv210Jh7pK43fwUp48vFhhVb\n",
       "ge4t4p24YqDIchk6Lz4a+vqzMo1Cx0j7JKJi2h+A35gsYJFHaJ/QN2fwHacNz7z+osG90eC3HBx1\n",
       "JtGkwy5kfLe7sASvJX9RdI/jrgVc60b1cMeK0tPj0qjIafRQkR1zxztxabI9RPbkIqT/OAq52TKN\n",
       "wuRoQCSNeogwm+E9h3qCyKHn9TENi7A1h5fBepfv6CA/Zn0Odl6edbk366V12i9LODQU+W4QcpTg\n",
       "KndhCpO0g1AnZP+Si7iXH6sf7miKRTyAN8gM70+lIZBeemAKwh0BWnKcRs1pvol7AnrYEVO8Jxd7\n",
       "orNzE6JRe5NMIyDdSnTZ7e/D99l+8d5lI6kgbNA9KywSdPyevqx9OMX8mPB5aLVOu9yb8Hlxib2t\n",
       "OHd7ejOsLFZkj7kLU5ikg52dnQXkG7XxRoyf1x99EsIdTbGIi9HlqEFDsEOENPqxKOuBqQ13BNjQ\n",
       "BtJBEbq3eC3Mhj6b5gZsu432RpFDCo3ogAXhUeeAMeJIOowYqI1pWGQL93tgV5od9EV+TGQUMnar\n",
       "y71B8OCbgztvxpfDfN0riBrjR8APCV+HOouEuzCFB3ccAfgu7Y2gjbeFfUF/9OqHO5piEcNnUA/9\n",
       "oUGDHNLow6KiB6Y23FFszbK+KQDteCfuBByI0tyCo3RV8jXgB6YkGuHx7iKhUTsZRloQcTfiC6uN\n",
       "/EIfVOQVwBDyb6xFhArtxI9ZjSqtMSvEBXyoI5g9gpE1WQhkCZ6BtQlSFisaA+tu/LBZUVLAhzoa\n",
       "gC6OIhrd7LzS+kGRSQh3NMUi4sFVHIiVNCghjeUtqnpgSsMdUdddkGkUvQx6CpEiPAmPzqK5S/Kw\n",
       "BemyF2boISOFRnuKcOe5LKZRTyF6A1gv/Rgvb6MLewn0ZOwl9vVMBDlMKH/w7LJ9BUKFnkJs27Lb\n",
       "NgFZPHfEBdyYXgcv4CLWwNJZWCKAcHxUBpVF6KVnlw1kSGF0QUtmBNycRpUQxq/ZsUtv+o7zpAt1\n",
       "16jq4Y7GWES8ftW0xKBBCWksb1HVA1Mb7khPKCunHwt6zrqpc6OyRqA5tmRQ46WWB2QVcS5REHky\n",
       "MDlVnkoYLKIX5Qgk86JIQS7roLhwHHRbqPAcNDa3d3aqf+ffdKeNVmcVwx2NsYjIBbLeShs0KCGN\n",
       "5S2qemBqwx3JO6DQKJJy57SlJo1G3dcUHNmm0ntyQX6Ma2lG5O2ZK4TEtlLSZHE9XAYnMk4RB8dl\n",
       "HZQUFgfFnNx6OGJ6b4a0x6l+uKMxFrH37hmn8gZcDWksb1HVA5MW7mhOi3UaxQy58WnkkhUX8nPm\n",
       "y4vrFvNGPG++yJeZvfZq/Xf1wx2NsYio+4+jqYArFFENgSxvkekx3Zr8cMfwGZ1GPha+s9Ny+Wzy\n",
       "wx2NsYg4QGVl2h2KqIVAlrVI9Rhv1cMdq5iirQYaVTXc0RiLiD0NNCFzhSJqIZBlLTI9pluTH+7Y\n",
       "nKwZGkXOGwa1qoY7mmIRyfLVSNYViqiHQJazyPSI/c/JCnc0L2LXzldB8OgZnqof7miKRcQukH3O\n",
       "HYqoh0CWs8j0iP3PKQ13HKqdL6bRp2rVD3c0xSI2Ic3bt7pDEfUQyHIWmR6x/zml4Y50I7Mmv7Sv\n",
       "+uGOhlhEHHJ4ahO4QhHdIZDjW3T0iP3PKQx3rKkv7YtpB9cmL9zRkCYqFFHsf1bPRtlwx8ZiDdEI\n",
       "HlcvJy/csYImrtAi3/+spo3y4Y67aukLjaFHfQcnLdzR1DITFIrI9z+raaN8uCP7XoEaoVFAfcx6\n",
       "uGNFyTvcscb+2YP+r2fq4Y6VJO9wx5/Df0WjV6frv+VrKtTZMPHJpscirTtWVUaj+r/lqycprRP/\n",
       "lu8/+vLkRGr0GW0AAAAASUVORK5CYII=\n",
       "\" style=\"display:inline;vertical-align:middle;\" /></a><br>"
      ],
      "text/plain": [
       "<IPython.core.display.HTML object>"
      ]
     },
     "metadata": {},
     "output_type": "display_data"
    }
   ],
   "source": [
    "leftward_commutation = \\\n",
    "    Forall((l, m, n),\n",
    "           Forall((A_1_to_l,B_1_to_m,C,D_1_to_n), \n",
    "                  Equals(Or(A_1_to_l, B_1_to_m, C, D_1_to_n), \n",
    "                         Or(A_1_to_l, C, B_1_to_m, D_1_to_n)) \\\n",
    "                  .with_wrapping_at(2),\n",
    "                  domain=Boolean), \n",
    "           domain=Natural)"
   ]
  },
  {
   "cell_type": "code",
   "execution_count": 41,
   "metadata": {},
   "outputs": [
    {
     "data": {
      "text/html": [
       "<strong id=\"rightward_commutation\"><a class=\"ProveItLink\" href=\"proofs/rightward_commutation/thm_proof.ipynb\">rightward_commutation</a> (conjecture without proof):<br></strong> <a class=\"ProveItLink\" href=\"../__pv_it/theorems/1edb1c16c54650a9a666652574578f7ccc27260c0/theorem_expr.ipynb\"><img src=\"data:image/png;base64,iVBORw0KGgoAAAANSUhEUgAABIgAAAAzBAMAAAAOQC5VAAAAMFBMVEX///+IiIgiIiIQEBB2dnbu\n",
       "7u5ERETMzMzc3NwyMjK6urpmZmaYmJiqqqpUVFQAAAB6qHgnAAAAAXRSTlMAQObYZgAAAAlwSFlz\n",
       "AAAOxAAADsQBlSsOGwAADPZJREFUeNrtXXtsFMcZ/+6x3vO9fDTFalIEJyMUJTSN05KEJoQclekj\n",
       "CXAEm6oiCU4qTEoUfMRSogoRXwRFRW2xo0AUNW2xQtL805RroLTFTbg2DRXQ1gdBRWlQOagCTYls\n",
       "k9pgntd57WNmd8672GfXvRvJtzvffvN9c7O/nflmdn5nAOdJaWpKQiVVEpeamprcqHsLhczE/KJV\n",
       "qcrNHu2krKDH1sI5VyDqmqhf+OPKPR/99JQ2LO0rCxBFE3w+XUGA4xSQXonEywpE+/msJ0cOmyTa\n",
       "m1y2cuf/NYiCMemlheUEosBsPn+EHrZJ1Le5s17db5XtK/T2vijGYYtX92Y32MQWtb0fBxLO/UnM\n",
       "oFRbWH1qtU0v62k919vyLxdfiTM0RY6HbBmByMs/TArtOiIFY7jDo7vKtGRyU/oQf6xhmeP9Ntp3\n",
       "oOx5Xua5LQkffM5q4brJEHkzW9yhzIxQlwsA4Ss2F2rQN+7JgWMfnKFq6Yw8cnsZgegdPhuidyzU\n",
       "pz+04ZhpBieTm9Lv8cdKlnl7yKodOIvGgUucTHkMfYaGLBaW3og+9qaLO5SZ4euiIq+w0+ZCOyoe\n",
       "qgenPnhDYfmM/OUyAtEsPuujh68tMhoybgqFZHJzQ5hCIf+G81btMJKFz3KyavzYBustFl7AD/r2\n",
       "YRzKzPB18eCa7MhaL0xD3yh42bEPwdDt0obdkS4bEHkG+fz7NFCKTcvpogXo7y0oKjcnP9IIMa3n\n",
       "PFes2lE0xFXP5mSLsL6aES34Sem1wziUmeHrUoUH1o6E9UIr/l4Djn0Ihn4sDwfzZQMib57P76Kj\n",
       "FhzPchMyNmGVycUJmZedZyKXrdq+ZlBOpsyywCckHEuJFjpIgW8M41Bmhq9LTTMeuvLWC3g1UL3q\n",
       "1IdoaKF8kj9YNiBqF8Z/+mS9Ae3GlCiaAg8LNWVyLp0GmMRmwDl1wKrd/uikj7KczH/W3sIi3rzM\n",
       "ocwMVxcc+kBPwnKBhDjhAac+RENkgSRURxL/PCpnywZE/xTyt9AeBDpQizxEgwY1D142CSFypaE3\n",
       "Kci59CzADK3jCqBH/JF+XntaGiJzOMteFgsr+3kLt9KwYjiHohnbuuDQB/q6RBc0xIledOpDN8Tk\n",
       "78mb9rGyAdFcIX8XadgnuvuaQZ3E+vWX4AMWQBF5CEJxXi4EA+kIC0tqu99Gg0Wkk9f+Fu5jUmaZ\n",
       "j8BMgTWf4i3cS3LJ4RyKZmzrgkMf+I/FBQ1xauqd+tANaT25vGl70mUCIvWyHYgWo2aNG0v3R1AL\n",
       "giGv6Qqc5+VCMJCoZj0I6vhRmBJK8No4/uiJmWVecvePAhzmLdxKMqnhHFrM2NSFhD7hyxYXNMTp\n",
       "yTr1YRiiabu8bZdnywREniG74Qw9o956A0RetVkbzbA8nGTtrcvF6fDT2mgGMF1vGU2b4LaPk9Gl\n",
       "nYR+hzULZIXIP7xDwczBP03KT1nJ14WEPkuaLS5IiKPc4diHbgg5wV3ZYWlMBL58mYCoql4QPIrj\n",
       "4Sx9X6GByPNX+t00OfjjnFxMU/5Njz8H8ppkOW8F41a9wMnw8iP4k8YdZhY6cH81f3iHvBnlwBw0\n",
       "Sk/l60JCn2+DxQUJcao6HfvQDGEns4tjpCpeJiDyiY8dnrKuxy0wZIBIuYkeNbm2z4HJFYyI5Z3a\n",
       "B8CD9BDAAG1Ns6Un3Uo1Em/fysuOZyE433SHmQW8QPBq0uKQ+DG8imYCizvhPFur0CwR8L+SsbrA\n",
       "KA/OBOc+mCHsZFBfErFN/n4KItIhHXMKoij54tmJBKLl4rL9UwBLC1sh0nohYWxnoKtsujywgpMD\n",
       "vgfejPahreIprReS8LfCFr2d2VJj69Xej54E3oKyu3cPmO6wtli5bPUZ/GyKDomfmYZDwUw0ptaz\n",
       "aaZmCXtt+Y2Ni1OF3lNPpJ370A1FY2Rp/GZ524YvUhDtoXG5QxCFukjYP6GWicQ1Ea9p3SgSty/0\n",
       "ffieGx83O982fHhUHPpSnuZAf8qVC7c+kJNQJgWBeJFJy1kKomcxRJudgkjFHdfGCTWcHc+Jj09m\n",
       "WBAFVj7zKzc++mMjBJFbhx2omwg3Z1yByK0P5MS7LqW9r7ZNyiUKIvym359zHBPhkX7BhAJRj+V5\n",
       "fdxo168P2N5+X6HQ78bHLx1Hixu2zRsNh79Aw0HgRNKNC9c+kBPPA8N0GVcpiMJ4PuI8sP4zOk6s\n",
       "rXzTLIPvUqgk5+nxYhfPsdnZF+rqZjkHka+ubnpiQjXCIsvzGohVoOF8ma1oAPwlBqJfA6xwDqJQ\n",
       "CqrIXeGW3u37VeV/ohX2VrhypUt1DESbIZAHpU+iFZh5H7yTN0CEdDeTzBJTqKHcaVvWUHn6UsNu\n",
       "mpm6a/58HeRnGhpt7rBZBeBnelGUgq277l9pLSGKI1tenqmHeX2VW126NJ2BqCrp79J2aglpzalV\n",
       "8A9/MpQ0QIR6rfvoKGEKxv1X7AcSXSUcBw9ZOH4lZ6wgB2+hbyqFZFahRU0b7f8AsN6mfzWLcaVj\n",
       "iR8erYBoDEEUieG42m5ZMoRGOjgWy/hNwxkconF1sM0UWLx+m50Dk0o0A2E8M8Bbu7V3zvAewqb1\n",
       "dTKnQovCbj13BtXKZj3CJCaVjiX8D1eGszEczqATb+nGy5Lh362Z6tmXomefZWSRo39/jgNRdZiS\n",
       "DtjWSJJiP7UNyQwVXw4exMsNHahvUln/FMDd1zrr4oRJhRWF6/TcPcC6ND6ZxKTSscQP9BFxkbXn\n",
       "SlfuvuMUACeBNSzYiqIa3E88tD3ry3vy7CytkGf7qP/hV80g8r9PnuxYyJjoe+C3dg6wyiYKh44p\n",
       "B0/j40nT5WjctlonRVAhd2/q32gQtE0x3Bc1xLTSse4v6nHUNMs6UYW86CIFi05l52ogWp9nu6q+\n",
       "ez3UpMjWGHyWxG+08d6VTK0ZRAFSLphCT772LuZ11FUED+0RvWOVqjSLWZQz+Hg3bXZSzkfGLEu5\n",
       "u63hDnxec4UCJPDmLWWomHrN0p5o7Q3aRetiY+nJi1KGoZx5aJvk6nb0yLEmL6J0SQNRNKXtqjoB\n",
       "beDN0bPtEH6xpeVJBKLGajOIgHQpoYaFg7CObcvc1dCX9GnbIYyICqv49JilAxfGsVOElfNhiOcs\n",
       "5agKF+6oQ5orHCC1py1lqJjiiVQaxUTaGAzHu8SVh9KTF2VERbN8hERFjR45juRF1JQDGogIPl7D\n",
       "n3dCLXSo9KxbVRO0Jwoe4kBEhyrAG5zYFl6EkFQA4U8YzbDKRj1m2YEfm1709xlWLprHK1mWclTl\n",
       "4LGDb3yV5OegrxHTXPlQP/M8WMpQcXjPXxJAK41A5NEutmdFdFNBCcmLMqIiJx8ZUVGnR44neVF/\n",
       "AUtTjQcaIdCPeqB9IXp241G6BnkAtM1PJhDhQeMKubONZGNWDYL5KpxREuQDHajKHwGLUMyizMQn\n",
       "S7rA08XKKXcB4DFnlVaIflCVQ82+riOk6BAoeBcZddWRhqUxUqbRVIqJI7WY8bKCgUjrKKBGbITS\n",
       "kxdlREVeLjHujKio0yPHk7wIkStmEIVugLZcMA8vwebJ9OzTWdiIfKs3pekmIg5EO/Ow7EIXvrNt\n",
       "udBcUPb+CC9lo4w6G9rS6mz1HqaCghd0vn+gYXcOnyjd8yZTRLTlYNmuSUmyBI4u4EL4Q1OpSn0T\n",
       "3sIXrh9o6E5rRTzbGu7HG11QGd2VSXwatxmudOT5LS16/+MVA9/SkxclREVBPiKiok6PHE/yItt6\n",
       "bN7ZmBPPlK+0rOIeQDG6mGEqNd9jNqFFNTNypggnIitnxEAR/TE6AvGs6YK5CCmTs9Y77jmQtFQa\n",
       "ouKSQMnJizKioiAfEVHRp9Ejx5O8SKDMgSiYtJ4JvbgAojWzcrpudeETc8HX2HFe2jjXTyzldA39\n",
       "7BE00p1IGxfMRUgZm9oq+cgDNrUOCyzq0pMXZURFQT4yoqJOjxwb8qJ98jULIArbnBUHkUXXyJiD\n",
       "2aydkCuXtS0nZiWuwsPMV1XxnUzJyYsyoqImb1z4YTHjqiOiok6PHE/yIqEZVMiLrF8fVfKijKio\n",
       "yTNs9XQkREWDHlkhL45F2mkHolKSF2VERU1+ETpSRYw7Iioa9MjxJC/S1wvlAKIdXTbDWSnJizKi\n",
       "oiZ/l4FoJERFEz1yTMiL9ql8ftDBKywUlZy8KCMq6nL4clHjToiKJnrk+JEXw+Xz0zLi9Kz05EUJ\n",
       "UVGXqzM49WshKprokeNHXmTvK8vx5/ZKTl6UEhU1+cYkp35tREWdHjl+5MUy+rk96OEntGNHXpQR\n",
       "wDKBtAvjRYmKLtyOPnlxNZQPiKoT/PA2ZuRFyd3c+MxaN7stixIV3WB3tMmLwcEyApEq/Bj6WJEX\n",
       "ZSzCewsFN8aLERXduB118qI3V0Ygglo+WyEvukly8mJZ/VsG8R/EVMiLLpKcvBjsvCYQvTtR/2ne\n",
       "TypgGP30HQqGpqZaVyCq/NO8StKTwpapWgvn/guo/ss1O4aBmwAAAABJRU5ErkJggg==\n",
       "\" style=\"display:inline;vertical-align:middle;\" /></a><br>"
      ],
      "text/plain": [
       "<IPython.core.display.HTML object>"
      ]
     },
     "metadata": {},
     "output_type": "display_data"
    }
   ],
   "source": [
    "rightward_commutation = \\\n",
    "    Forall((l, m, n),\n",
    "           Forall((A_1_to_l,B,C_1_to_m,D_1_to_n), \n",
    "                  Equals(Or(A_1_to_l, B, C_1_to_m, D_1_to_n), \n",
    "                         Or(A_1_to_l, C_1_to_m, B, D_1_to_n)) \\\n",
    "                  .with_wrapping_at(2),\n",
    "                  domain=Boolean),\n",
    "           domain = Natural)"
   ]
  },
  {
   "cell_type": "code",
   "execution_count": 42,
   "metadata": {},
   "outputs": [
    {
     "data": {
      "text/html": [
       "<strong id=\"commute\"><a class=\"ProveItLink\" href=\"proofs/commute/thm_proof.ipynb\">commute</a> (conjecture without proof):<br></strong> <a class=\"ProveItLink\" href=\"../__pv_it/theorems/7d8b730877437628beec50a15e130c1efb9f53de0/theorem_expr.ipynb\"><img src=\"data:image/png;base64,iVBORw0KGgoAAAANSUhEUgAAALMAAAAXBAMAAACyt2M4AAAAMFBMVEX///+IiIgiIiIQEBB2dnbu\n",
       "7u5ERETMzMzc3NwyMjK6urpmZmaYmJiqqqpUVFQAAAB6qHgnAAAAAXRSTlMAQObYZgAAAAlwSFlz\n",
       "AAAOxAAADsQBlSsOGwAAAtJJREFUSMelVU1oE0EU/pJmk93Nbt0iiIeCoeJJhSqiIkZyyK1Ylwpe\n",
       "BEkR0UtJVOhR68/Z5mBERGxEpRfBgKXiDzX2IEgL3YMIgmAQpdRCW6W1xtrW92Z/uo2aknQgb+bt\n",
       "x3zz5nvvTYC6R0/d4FojYP0PkbPAXZpL7Hyog/ot/V4vT03dyFQiygwdXASesXOzdmYpy3Yv0DhP\n",
       "8xd2zjrQR6JGDrjAN0jVTh0t8sZvgLpAi1f86bQDDf0kM0LRm0DIqp26gY1GEWtEj6AjMY/QVb5H\n",
       "gwmNTlfqkPo9m0a6urIfdnBRJ8BLgUUWnHh3t7TsqYN6QISegvQp40QcdJCC/psPo/p4ApwSn8wK\n",
       "Mb2E/ZP6NpuLnU0TReGOA002oFqRWdaKDrsGWRSgtE8g3QvJQVFOYZfkqFtdkfRAm5sq7GSzpQf6\n",
       "QeFSNWxzQ5KXaNJbicIM5YX6iwLRYgi0rqI+YqFgN8AwsNH9eoDNSYbFyUqPXrCBTc+HfnAclAbd\n",
       "sLPYv0tMjQVoM35q9bzBLaUmgElgbBU1hzdm8EpPKHZvS+R+520cX1YUJYw7dlFZ6Cj6qQNKiddh\n",
       "SkUc0g6/IBHO17S4M2LdKynaymfFyBzOCQY8FVBv88g4/NRGNAu9iPvcIKNDXld38h7qjUjZ9pu/\n",
       "2vND+vWxsNyGV0QW+x0ZhyFN+qnVDEuf4iqiNJwouNTtLDAh93K232E3jMw6pEmbaILVFZEMJKdF\n",
       "9RFvb95HHU22zwGjLDWlQf7lUp8jP700NdHl1qpoGCldNvFu+TpVed57IolRHBEHHvmLz4BMfauw\n",
       "1JQGdd7dEMxUb6nL3ook2mBJCchzkLb7BFEppVSV2mdOg4kOTxCtUJ36hdd6hyC9vBWJ481sctDy\n",
       "UT8u4Xg5L95IrS/Z1rWy90xV5r8eU923Dq/xiByrioYr/8Ee1EAtG9XQzZUfijVQr2PI6yX4A4lC\n",
       "qQ+DoJGwAAAAAElFTkSuQmCC\n",
       "\" style=\"display:inline;vertical-align:middle;\" /></a><br>"
      ],
      "text/plain": [
       "<IPython.core.display.HTML object>"
      ]
     },
     "metadata": {},
     "output_type": "display_data"
    }
   ],
   "source": [
    "commute = Forall((A, B), Or(B, A), conditions=[Or(A, B)])"
   ]
  },
  {
   "cell_type": "code",
   "execution_count": 43,
   "metadata": {},
   "outputs": [
    {
     "data": {
      "text/html": [
       "<strong id=\"rightward_commute\"><a class=\"ProveItLink\" href=\"proofs/rightward_commute/thm_proof.ipynb\">rightward_commute</a> (conjecture without proof):<br></strong> <a class=\"ProveItLink\" href=\"../__pv_it/theorems/24a17822451e8cf18f497ec1be16b81b3ad455c60/theorem_expr.ipynb\"><img src=\"data:image/png;base64,iVBORw0KGgoAAAANSUhEUgAABaUAAAAZBAMAAADTWl+lAAAAMFBMVEX///+IiIgiIiIQEBB2dnbu\n",
       "7u5ERETMzMzc3NwyMjK6urpmZmaYmJiqqqpUVFQAAAB6qHgnAAAAAXRSTlMAQObYZgAAAAlwSFlz\n",
       "AAAOxAAADsQBlSsOGwAAC7FJREFUeNrtXH2MVNUVP/Pxdr5nBygbVAKTJcYota6NKKFAh2RpWr94\n",
       "CKF/oDK2ASxGdnAT+keDOwZKSpow2w8MaWyZCNR/tE4VUaHq2DY0fFQGJCVWUkbSQi3NsthFlgps\n",
       "77n3vvvuve+9nTfVbGk7J+HNfeece8657/7ueefduwrgn051FqFFLbqmaXxnrRn1/tYTG3tqpRH/\n",
       "FMVLstrC9LVNAZZ1NnmINzU56f/bUxjPMEzX8eaET0yn8SdVbUFtzOgY+9nmId7WnLXYoAtz4eqB\n",
       "6gYn2+gY+Hs059+2hxlC+0YGBp4uqEu15+OBFX91W8NeAi/qGFl9erX1MpvMML0H21t9YjpRxgfT\n",
       "eh2OGRkssaZGBCdtkkskA6PyJfoLXtbwm5ODTu3A7Sa8/3mn9oSJkHqp6tu4YkbzeyexcFHltZOB\n",
       "Ha65KCsCP4O6RGB8xVqzJsX0k/hKyvvEdASz+sYW1MaMEgxUiXMijyRxhtt41vPiS/Q2XlbymzeH\n",
       "HdrGN8g1MezQXnITubxV9GtcNaP6jZ4nZcEnKq+PWEx0uSgrAh+DihDj8LKlX6GYRmiHaz4xDVvI\n",
       "z30tqI0ZhdjPVxfY85qVymgvvkRBqYwOb7jo0I7NwEK0y6H9I0yR230bV82ofpPEa/K8yptKAo9f\n",
       "dlFWBY0HFcAhvWiVwzMopvEzMeb7G/FQ61NxTOk9lugyU+2sgynlDRiVLxPmqwTXeipwxaG9AGWR\n",
       "iq4dpprf8W1cNaP6TZOKJzZT5fVg+EMuyqqg8aDasJwqWXX/M2zf44udnXf4xnSos3NargW1MaNd\n",
       "rMSAk1VlqyMLo/L1rY4gb1dSl3Xt6Ee0cijo2iVq6ut+jWtmVL+hPBinCirvY1wCV12UVUHjQbVj\n",
       "3dxX54L7GaZfBVjuG9OJArSZLaiNGT1Dry9An51I0gUI8K8mL75CZwDG8a2uWmRI1w6fd9deoJpq\n",
       "ZFw3o/jte2Tch1WVR6vg5JBTWRM0HhTW33DYegz7GaY3Q7TuG9NEdTP7IJcF7ig3/kM4qHiFNepi\n",
       "vDZX6q18RCV7ish3etCEUfkKPQlwo5XWo1d17eCwu/Zt6uZWI+O6GcXv1CKkZqs8WgWn/+lU1gSN\n",
       "B4X1N5wrc/67DNNtZrgMxjmPhxqdfjf8pi4wTVL63bS9SHrNGHe5drVV1n7SvZvdTNk1f77Yijzb\n",
       "vdgZr8b9ueiKiaZn1z0rnY40dt4jLI8wXYRrZad6mPIQGgSvx+89BA9tmEWtPrb3HBnUg/xDZiu8\n",
       "z71RvtE9YKp8lWLFFF/lHXvfJG/2hwdl7dAgSz/GflX7y2yh+zVumXH1+03M+wWFR6vg9i4xJl3g\n",
       "f1BYf8M/LH4fw3QqExMfIxqtOb0K/hQ2E6aN6SP8E3GBtFUSvuI6QbZKMgsB+kn8bA3arG/j+K1s\n",
       "tBo+NS7pGp0p7n4NsL7o9KSy81pYOPi6y72LMIFJwoqXiURAXCaG4GJGDt42xePn+iJWruChLWN6\n",
       "IZnlLETG8cLymHWcwPgJSGRVvkqpHD9QMMhbmpS9qX5ZO0jBeBzWjFe1b6M3Bb/GLTNufgFfDocz\n",
       "Co9WwYerYky6wPegaP2dFJ8J2/nZeP/b4mNE2xwlpTacyFTCdu0BMbplCPFeqcp57nY3t5JKugJJ\n",
       "HHRqBvlnlQbvkpXiXIM6l3SF3eLuLAkq73SlsvNaWCdILDmXexchHpHusOJlIhEQk9lDcDEjB2+b\n",
       "4vFzfRErV/DQlmsPwgySZZTi8x+M5MVCIvz2cvSiytcou9ZeN9PIT07WZlvKhHVU1aY702HfxoUZ\n",
       "F7+Ry3Z1YPGwCjbutMekC3wPitbfi4TOUY7p+3DT+RaE+6/WTAnsK7DWDeykEY7/8SkZ0+H3aNIO\n",
       "xKQaPPMz1/ewrRKqwQPoqUQyd4Rn7ygmxnWOUkfnkq4wQdzNAZ7wVVLZeS2sNmDftfq9mzBPP5hZ\n",
       "vFQkBURl9hCcZtTghSkeP9e3Y83LH+e6NqdHMDlU2aG2Nf+Bdxg+OD9p8um3+DpN/hv7fR7oWXqw\n",
       "LGvjeQiETRvTXLuECWm+b+OWmYO/G1efvFL1GyB4j1xSeVgFt/VLmNYEvgdF6+9vATrGTLOPY3o9\n",
       "wZ6BafTB7dVQPVDnraJBwXE8/NAOCdPRuQwvCXuXOgCvu3lFlU0MwKXJB8/g7yk5AWfdOjm4JfK4\n",
       "XxKIvwDWO0lZCCo7r4VFcuAOl3uHMPpTTKaYS1m8VCQFRGWn9J7SjRo8NyXiZ/pSrCekPO/Qtvem\n",
       "YD0uiGF7/o2b2a/Fh3BW5hsIn2X9vEHoATZVUVxJPUVYplo5WYX4fLAxzbVx12+H6TBuG17WL6tz\n",
       "M8aB2TAXpiiWIEYcb9+i8sjaik8HCdO6wK9fXOzPVqjjmazcoJhOF3iR9d3roL1AX03YMuNVViNV\n",
       "OiRMAwVnvEByTZRnmedIaokf2aOXHqjSVuT1rnEWf7/EHi7tF6IvcL1fqOIsleELlitSbkKw7vDF\n",
       "2DqmMSzYaFLGciXMvLx5aQvhUUymmEt5vCjiAaEdKmNDeOGGsosZNXjLlIif6ktDaJO3RWVtiZ4A\n",
       "WDKyBVI9l3L2/LNDCMGHJ0yZDwiJYIU3wDqcMHoumfCHkR+LLyeubewe2AMSpq3zmaWrz9IMqRkX\n",
       "hoMVRZ2ZiS7sh4tWHWuduPRcHfjwcdX66ZGB048VZUzrAp9+0fiK15jjC6zcEH9ryoqsD6AXgjXW\n",
       "2g7Jp1eseJxgenFMxjRT777/Aqzjuym7us+ZIWv5qyohUe+W8AFhzZri/UL4cqvp/RhXLZUjw5Yr\n",
       "LDf7ig5fjK1jGsOKHMUnc4jmQzvMQ1J+lITQhQ9khx0vilhA1A6VsSF04XvNYUYNXpiy4qf60hCY\n",
       "gou2REFpFySV9dia8nm8oBzjOOjoZ2I8nYl08Q1IX+Q1pmb9Esd4MB/NSpgO7sTrXdABpQhr7Y1E\n",
       "cixPx484MJ0BLHf4jiIBQCFKVoNWeqDKRlHvvoiTM0D+TeL90iSxBop6P8ZNvnFozzE2m7PJ6yVj\n",
       "uQqRcH8ADl+Mndzz+5yEaRoW29yMYQqUwozJx0aSEDv2L7fjRRELiNlBGRtCkcyc04wWPDUlxU/1\n",
       "5SH0y/MmaR98/piAeqXx/H8fvtfM7N9iNoPpJo2HCoF8dLDw6THdpF/iOFEp0D/5EphuD8BiiA6S\n",
       "/LwvwVo3HWev1gNg1Uc2prEquUInajH99GgnyWkVGDlya12Yym8B26SGNKZjY1EZAmXez5gFcD2o\n",
       "/SxuqgNmpXK06zAY+J3EXJWKsCRD+yyWenE26ZSVMM3ColhM/hmkMNm91V0SJnFJvJMDHi/XY2FS\n",
       "OyjjQ2gru5hRguem7PiZJ3sITMEag6x9JB8Uc/Vow/mPrvz2K83M/mCmCUw3a7xEEmYyX/nUmG7W\n",
       "L3EcXFegOdSuPa6H3lq8Dlth80TW+lwVNpL1Frm5KHZRBaZfrsPSS2WcqN5aYi4Yb/0ED80jc6C3\n",
       "GJmJlzlchZRYpL1/qHt3DRvG3nkT2QT31mDprnEmqP0Ed6XRn6A9rhvq3lu0ugS2dd/zGtA+vTXm\n",
       "aKbEPsP/UovtUbGw2CHUFnGfKPB7q7skZH8cTjqweJmIB8TyPbnwIbzqZkYJnqlL8VMVaQhMgY9c\n",
       "0U4X7D9FW2JP89eGXNEYGhkZbGb2f+m6kbBh27zPwvgvIFaMfuD7TNZrTE37JY4D97IMoPy3WzW9\n",
       "ZXxlxSrtbFyhG6VO8wNYZ4rlZ2nUJG6qcT+Lm03lgklZIHehfWrOsLOBA6a8l0drKu3xYlcvCj40\n",
       "iky1EzYz3ro8eMej8hsHBGHyTjHrGWiRXwoUNUzHTWdLJQ3Ta+6oCdXYyEcAYiJEa15R4u5s2M/i\n",
       "GvVAOT1JEshdaB+XYI166l7QMB2ZoP6xN3XnReFJniLdzraRrPcpOw9ef1S+44CH4Vi1BdB/l2RM\n",
       "J11ao2LaoVp1aUntasN+uuOqp6vRgs235rWFab/0w/+O/79HsTWv/8c0flr1XyE4XfeYQIWjAAAA\n",
       "AElFTkSuQmCC\n",
       "\" style=\"display:inline;vertical-align:middle;\" /></a><br>"
      ],
      "text/plain": [
       "<IPython.core.display.HTML object>"
      ]
     },
     "metadata": {},
     "output_type": "display_data"
    }
   ],
   "source": [
    "rightward_commute = \\\n",
    "    Forall((l, m, n), \n",
    "           Forall((A_1_to_l,B,C_1_to_m,D_1_to_n), \n",
    "                  Or(A_1_to_l, C_1_to_m, B, D_1_to_n),\n",
    "                  conditions=[Or(A_1_to_l, B, C_1_to_m, D_1_to_n)]),\n",
    "           domain=Natural)"
   ]
  },
  {
   "cell_type": "code",
   "execution_count": 44,
   "metadata": {},
   "outputs": [
    {
     "data": {
      "text/html": [
       "<strong id=\"leftward_commute\"><a class=\"ProveItLink\" href=\"proofs/leftward_commute/thm_proof.ipynb\">leftward_commute</a> (conjecture without proof):<br></strong> <a class=\"ProveItLink\" href=\"../__pv_it/theorems/d5555159954ec36dd9976b10c25d6ca1bd5b24760/theorem_expr.ipynb\"><img src=\"data:image/png;base64,iVBORw0KGgoAAAANSUhEUgAABaoAAAAZBAMAAAAiUQQoAAAAMFBMVEX///+IiIgiIiIQEBB2dnbu\n",
       "7u5ERETMzMzc3NwyMjK6urpmZmaYmJiqqqpUVFQAAAB6qHgnAAAAAXRSTlMAQObYZgAAAAlwSFlz\n",
       "AAAOxAAADsQBlSsOGwAAC4RJREFUeNrtXH2MVNUVPzM7b75nGUohiAQn2xBiaeu2sZUq4NAs/dAC\n",
       "IxCaRsUxjWBphMFN9A+jOy3tpqQJu63BkMaWqaz1HykTpNiC1rEfNLpEBroJsd20A6kYa7O7tCAf\n",
       "itv7fc99793lTTUrrXOSfXPPvb9zz7lzf++8894bAAguJzvK0JKWXOES6vhkM/D+1jf2AUgrkzT9\n",
       "bR1usfpKzzx19rHVMry1yem2/p9/XT/jrG7Qj+GArG6nH5lai2uTJ0P8Y6dleGeT0/nhnRkj/4zn\n",
       "ja5D4yMjj5W8UFu/RdKb3h15Y73/2Izxjac2lpsZgAAThWqM1Qdoe0dAVqcq5CPRuiZOnjj8ApkZ\n",
       "Vz3tBXKIZWHCfiSv0cNmcOExetp0yOytmcjPEcg5H6yt3+KxrQgwis4CbHKBsP6SX5TWAQgw0XbG\n",
       "6kfIMV4MyOoYzey9La5NnqT4hTE1qlJJmm5lVDDF1o/kRXqQ+VLhEXrNPHJ4oWwg46cBkm97Z7b1\n",
       "2zz2EcieKkre2iRGpoJnfGysA8ZVwDbRIGN1gpA+Ug9aV9MzYVmLa5Mnbfzjyys0eXKoPLb1IwlT\n",
       "MvZ78Br9KE17u0xkmuTj9GnvzLZ+m8cjxN0RnM21SYim/D01r411wBDbRG0Fyuo0UROB7xYPt24a\n",
       "J1de5akze41OPDSrPA8T9mOhKStV9+AVOsIu3g+ZyPYxwooF3plt/TaPo/SswRWrNomO0Vye99pY\n",
       "BwyxTZSoMZZ+pqPj+sCsbuvo+Fi+xbXJk328cIC/1YzHGDmYsB8LTXRh8OAVuo8dv2YiST3snCx5\n",
       "Z7b12zySMnztPPczGG4yhZa9PQ2vjXUAgkwUaTBWPwtwT2BWp0oQLbS4NnnyODvuhh6dS9pLEBIX\n",
       "dVu/Ia8DTAUPXqFXZH2QPXdPfaPmM7Ot3+Ix9tbUOY+bd3l6KvpxJO/j2zYQaKI0ryi2QbwRmNUE\n",
       "uo3fm+MBf547H9QNli2ACQO6Qs9V/pqsCn16j8gte1hEa+s35BGAueDBK/R1ZR/kNWXILPSZ2dZv\n",
       "8Rg6D/CnGh5CU9GUP1rx8W0bgCATZToZq6OFSAWcUcu3Gp9/C/yuoVhN0votrL0K3fo6N/iaasgD\n",
       "b3ftl0ps075bfZ5gYgiTOfuWLiUfSQxP+tvCzw3jqDcAf91gPF6DO0ZLzPZBEbw3Nvsa/NFwIyPH\n",
       "tw6OksvsHeKOZgf8hTd4v9M1UjD7TUmUM1UDP2qgb9YntUZ+gybxktcj7w/sMUooFjlnjCmTTfTw\n",
       "b3BeckcpBlYvf801ABNOJLdjjLE6k02ouxKXbD61Af4aKaQKmtVHxc3iClTARy757pCGpHMQ6pTK\n",
       "bwGmecEGhMgTdfaVMPiWMrLdUvY1ji/wsloEQHN3O9Lpd6QynFTEGoSqYrTo4DuoXLHgRVvHpuF8\n",
       "DSoupJgrkay+jRSPOYhNFTXskHy/wPtTkMqZ/aZk8vINA8eLvZbo6ximZCLfpRf1rNcj7w/scUoD\n",
       "PzIxTd6iG/cObP6IO0oxUIW9rgGYcCKZNTrFM40X1V2J61JOSm4YzlYjugKBBHtQCMluVE899Wk/\n",
       "rwjSXoX0mFTeJN+LT5mEIWQpnyV/VQFPFZGtVgxj2O9htQyAvgsdQPowaaqqTSpiDUJVMVp08B2U\n",
       "rnjwwq2OTcP5GmRcOEhzJbICIZ1hslkZwbFwrKhOK9I/pRI/Z/a7H4I9ABgv9lqi6ZNqiJjI2Dv8\n",
       "ou72KPoDe+whq2q/aD72k1NRsq8i7WMuGzlwEfpKZvgw8UTii8xxVi+jD6E/Tgn/3OY5oUMl3roa\n",
       "YDZFHf/ztzGrI6+yxB1KoFo8+1M/rwjSVoeVqrpaBM4nfJ7LYgi5MSdpNVbncJTEDcUwRvk/6g6g\n",
       "yO+HpR4FdMcrFbEGoaoYLTr4DkpXInjuVsem4HINRXyf7kYLuZuejvTh65hmdegVXkSK/nRBcEz2\n",
       "u2X2PwDj2V5rNH1RAktNJK2HYxe8HkV/YI+kDIeefhj849TG7PWuqegM3wTNauVbDPxBsloOuPnl\n",
       "mog4oWkwXeSs3kI226F58o5dtbZGqCFaZYfx/3jkzgHE6vhiTuSUfmodgl/7eaWQrfya3zd78HVV\n",
       "qJ8+/Buf+hZDiJxU8LMgL3cuBRsTsuz1sFrFOMzzq9RJWhwAlCMHxBriP5GqjtFfN2yNBTFXJ7Fb\n",
       "HZuA6zUMo7zvQQtZTjeILuq85phzLf+U/RDJ4X6H0BHu6pcHgJX9Bt4ZM2bJkPw7IM5UiUyQ027X\n",
       "dq9H2R/U46PkVPp8wXl5ISyGOa6pSBRPVBGrlW85AF8wBujUzBE7eCaiTmjtlspzVreTPclQy+9d\n",
       "BVNKtJe1CkmWO49DdQZiNTDuJUsk3cRFonmKZJfk0QPuAoRComVRDjvkuttbEDXw2irsvtp1knOI\n",
       "kptQyQzhhrYlitcXKVXhU25W6xijLEcynfkt4keZXKFrgHulymNktki32PJB5Zu4ugm1RWzGXHIN\n",
       "UfyUFKOR3A+wZnw7ZDZdyCuOibcPqh/uL+B+mE+vz1V5UC8xJD7Tb6Dh9o1vys2Q72Doj5LuA3B7\n",
       "VP0BPZ6iv4WqQ/y2fjinalw91bpfAWI18s0HYnONATb1fOnNMxF1cpbCKvqXqIzLcAK6IVznrV2Q\n",
       "fmzduvsIq1cnMKs5vGv5WXhYeN3XNVpog7vcRTmFtKlyuK8SO1YQNXD8InQ6YyacQbRKq9yMLJl7\n",
       "ytqWKF5fxDh23s1qHWO6NiB15vcwSpFCoWuATqnyGJkt0i22fFCehNSVCJ675bEZc8k1cAC2dK2E\n",
       "bhK6rmVyludUAd83GHsdSN4nj+3ZWCfYfsp/zGbVW2jSCb1RhO+AZnX4SXq8AWZAX4y3DsZieZ6r\n",
       "k0c9rM4CLazEM0nCx1KcnA+uAoRCelU5vKckHi+SyjF5DsoxV3nMIOnnDx8YYts4Qv5mMji5YPwQ\n",
       "pC1TvL4WkutQFgafHsKsRjH23yN15jeBXyQxha+hKFUeI7NFusWWDw4OD+7+knAlg2dueWxoLrSG\n",
       "fkwOhJYroWSvXp5jP4DvN7P9fK/fE6ub9NhWChXjY6XmWB2vxsvNOUlViYvnEKunhGA1xMdIjj6U\n",
       "4q15x/m19mWQFZFmNa1NLrGdWg3wNLEm+X0DOHmiygOH/B5om5SSznzGzNWsclxJdipa0WAFycyA\n",
       "GzN52r2qAqEKg5dhTVbZcsXtK05qRXJXdbQYRqzWMQK8klc68Qvpv4OyZQpfQ5qexUwVMc516f62\n",
       "fPBosa0yJFzx4HlbxIbmUmvgALEMAy1XQuXey3Isvv7BXzaz/WSv3yOrm/XYRxJpulhtjtW9Dz5U\n",
       "aM5J+OES//mpqkBmQXc92YAdsG06b320Br2E+rFry+qhqmL1Mw24/UKF7lR3PbUYnBd+TF+lxxZB\n",
       "dzm2gB4WCQgpHkn7pTNd++uMmd319M6uW2ll9iy15eAFGrLe6SdVFNGdg0umU0SIwGmRxWyl4vZ1\n",
       "1Zmug2V6f7AVsVrHCOx3iUKnDyvpLw+Fa67wNbAfj1NVxjjXpfvaisFo6eus0KOuePC8LWJTc6E1\n",
       "cIBYhoGWK2HVsObSV85kfZPU+PhYUxXIrKDI98vjLyBRjp/w5+h3dy7xN7p5fByacxL6KvA7Ofwv\n",
       "vOrulvPFdRtcb8wNmYuMloZEIczPcYmoo15aRUh4pJBFDhUkl8mH00iv+9lafEEYZj9pvIWRMSJh\n",
       "fm1X5jt91hfQljgfglzNPu5+6bt0ooQpV8KYlYWWBBdWtiJWJwvelikuVm++vq6gifF/Aeh6TbaW\n",
       "lHU7Nm2ZnnnneA65kRCnEaq0z9S6Qhi2Fl+wFoZqblbTGLFQvzaJzPSuL6gtcT4LTtjrQPdcbA0T\n",
       "TDZUaxH0vxfE6rRPa0JWe6A1n5bZTvvburewNjHc7gs8ubolH25WX15+9L/x/4HEW9v6oZZQx8L/\n",
       "AIXMhfUSKTzbAAAAAElFTkSuQmCC\n",
       "\" style=\"display:inline;vertical-align:middle;\" /></a><br>"
      ],
      "text/plain": [
       "<IPython.core.display.HTML object>"
      ]
     },
     "metadata": {},
     "output_type": "display_data"
    }
   ],
   "source": [
    "leftward_commute = \\\n",
    "    Forall((l, m, n), \n",
    "           Forall((A_1_to_l,B_1_to_m,C,D_1_to_n), \n",
    "                  Or(A_1_to_l, C, B_1_to_m,D_1_to_n),\n",
    "                  conditions=[Or(A_1_to_l, B_1_to_m, C, D_1_to_n)]),\n",
    "           domain=Natural)"
   ]
  },
  {
   "cell_type": "code",
   "execution_count": 45,
   "metadata": {},
   "outputs": [
    {
     "data": {
      "text/html": [
       "<strong id=\"association\"><a class=\"ProveItLink\" href=\"proofs/association/thm_proof.ipynb\">association</a> (conjecture without proof):<br></strong> <a class=\"ProveItLink\" href=\"../__pv_it/theorems/548d319e6ed66bbce6c8114c387df24531c39d080/theorem_expr.ipynb\"><img src=\"data:image/png;base64,iVBORw0KGgoAAAANSUhEUgAABEcAAAAzBAMAAACH9Ht5AAAAMFBMVEX///+IiIgiIiIQEBB2dnbu\n",
       "7u5ERETMzMzc3NwyMjK6urpmZmaYmJiqqqpUVFQAAAB6qHgnAAAAAXRSTlMAQObYZgAAAAlwSFlz\n",
       "AAAOxAAADsQBlSsOGwAADNFJREFUeNrtXXtsHMUZ/+6x3r2nLwWiAiZcg1DEq5gKAi0FTGVDAYVs\n",
       "wKRCUGJR4VRpIZe6gj8Q5Cg0KqqELfEQQohcGxCqFMo1uFTFPK4UqIJRfQlRoxTaXNoCalPZCUqw\n",
       "EwjXee7uzM5c9sBLncuNZN/u777H7c7vZr75Zj8bIHgzrrvOhnY7ulqznR6t18tH0vWtbHfx52jL\n",
       "KTc66vWBpkhSOqKuMltp9/TnaOap7CDdyiT5l3hqtftd1Yrad7YeBSRJj4jnJ1GqjKildbiu3d8q\n",
       "JPmF9p14rfVJcq/4Hcn0kJfEHrW0Dte19QpWrv508t8rg+NadjeQN+ZP/tfq8ePLbpus3NdENOqa\n",
       "iegn5TNbnyRfEU+vpy87HTJkcWBm5qAx7glxvHimzuH38K815DCG7uZUITiusy7IiyrHHAeZTRWf\n",
       "SuQcG945M7gHr5mHtXfwbbvVSZLuFs9fpC8vzzgC+H518L7Q4R6DXjw1xcepP7jrqGEk8Ww5OK6z\n",
       "LsgLKssXoV+vFGUV42b0OzUT2INgZlx7CxPlVidJTBqUKWfi9007SN4TWuhwb/Pi317KWRR1A5oJ\n",
       "hE3kguM664K8oPIg/m5v8KkkzkO/kt2BPQhmYto0SHKm1UlysnjtGXrX7okccqAl6OcldqzDvc2D\n",
       "W7mTq5xe6CBFT6bw/S8Gx3XWBXmvSpx8yDt9Kkvxm2Y5qAfRTEIflDzR6iT5qniaogNLOfOJsEDJ\n",
       "s2MdLi9oGJ6CnRXPsihKDxcD3LQIguM664K8V2WYCHxHVrE+JMFoIagH0QxfxCjaTru1SWJOS/Mr\n",
       "6dRk1dznRnIFiLBBXYeLkZ+LPwNrndnsA4B51OVH8xY87oofFtdZl+Q9KktzSpX4XlCK6zyIZmiq\n",
       "YNNC3KRv1opca5MkK8Wt0SodAaxP0XduM+2MGkRtPjJgvP/q9yRc5J2Ll2G4BsYUOb4bgOYmI2gK\n",
       "f7vCrftwZt3FddaZvKdxlbPZHHTjiKASZSFrUA9nC8mBTLf2JnbkW5skMWkQjZHPPn/s5Y/Q8vBL\n",
       "FHsU3mHvUrwMmyRcbA4e+cHYFLpzO+gYVczQaKAD3e34tGNdxrl1B9dZZ/LeYZCpXELObHNeXlCJ\n",
       "keW7EdgDM8O5o88QpWdamyRrKwqSGGj4xPM3SzhvQ7eN5pYofhCGCwIuNQdfBtCJ+mmUZekS9JvZ\n",
       "iXiZ3utYl3Fu3cF11rkdbyKQqpxNTgqQyQsqUdLN2wN74GbYVKsfSYxPWpskJxcV000K/ZzikiRq\n",
       "DvDZhuCvs5vs4PL1cxx9T6Po1p7Olpa3u7zMHnT3PCScW3dwnXUmP/6nebWulYIpktqIg0MSpkIz\n",
       "JD2BPTAz6RfXnAjcmDImgYtbmyTfk6dXHINtBJpPZ90Y+TO7II7Dt0RcahxPVkga32DjdNd/XF6u\n",
       "HXFJIuPMuoNrrDN5481voj5aIKjgLBv0uSRhKhYeduJ2YA/MzI0bKrFiYw7c3NokWSyd44WehQfW\n",
       "1UWnG43T2JqR42x3nOMrUM8aB9iBB78Xk26Gp17gGvb6IKLP122XJDLO994ZTow6LlzrTN5aNgLT\n",
       "bEbjKnid/qTtkoSroPV4sg98HpzPLnlgZn56PHTaTnJA2ZYykpAA792gJMkSJ5U5zxHjYzm0z4Ox\n",
       "+oANf6k/5HYjTV65+Drbi0MUh39n8AMHX15/GDKrD/Twu8sSV+/XJycfqbrjlA/n1hlOjDouXK9c\n",
       "Ppszu+EsQQVuuG13CVyScBXj+ckXwO/B/eyiB25mF8m6NvrqT5QoSV6gcW9AkqRKJHqe+2mSvTLi\n",
       "zU5tVStZZauZK4s+pcZnxzrECpEBa09B9VYmPysezocxE+AnjcL/HCXJ3dj6QFCSmHjgWTf3Z5vM\n",
       "IRkZP3w3rrvjzmYe5+yMNEWSJq3DMBpL0gPlJkjSpAdrDyza7ux8KtuKMiVJwqbZ/oAxCd5YXjL3\n",
       "SZKe9iWG3C/ZfesvVSpdUq834yN1ghKeJevwazRiW7tUvW5dsS83Cx6SNTi20niAwKtxTJI0DtWD\n",
       "B65vodeRuU+SyIwvShmAdlO0jkYzVOcAW918beHCc4OTJLZw4Sk9c//S4/t90D1tQqjalxvGRSOM\n",
       "JL8DuCU4SVIF6CBDoOF9Rz0VGv+/S0/tb3f/LLRonpHkAbCczSrF/HfGlfDHmksSJPsAObnWE3cb\n",
       "5yt1XZHbP+59np+Yq0evUjzB6YMXjPb1ObPH7t5+BRG9IgA7rtjkPAaS3dPu4dkgSTcjSYcdL/HN\n",
       "KqmteX8V/D1up2xPMu0WuJLmWTzBbvyQOhXjiKTzEHG2CF4FOEYhLcG/rJKdLhpineVPoYoi5oLB\n",
       "UiRu/a3QJkkoJMnkcNw6qhqz0UwE7+bKcc90A1to3Joc8gTYT5+jjJ5dkWwZ0k637QaYUIiLcOY8\n",
       "9MPXf/iJXP/GrFdkDLEjEoe+anu6CWW6gRH85CzerEq/uGZB5I0CPToRoAvLbf/rPQJJEmn6fHai\n",
       "5trKPaFcYbgisSpcU+EnF4FxpkJchIdRd5usyy08UN3lTyS4IqQuAI0kr/E5KT7jnzhDv6XWEWfY\n",
       "04oNA1dY8jDQzSq841OL1NhRkS4at8e/+6SXJPEdpCNyKXchHIHfqzxgkftpJw53jX/gXPHet15W\n",
       "5BEl+B+et7Lq3JFHZDn5GKnnnNgo4suTfAHFWSeF1YHJXPgkURZpxWqcJPfW2HPCeMenQHYkyN5P\n",
       "knz3t0N5vpckFtk+ThZQjGGxVdHTKJhIbnlBvjIswlbhr4Kxm28toPjkpjI8c2JJSn8R2GkX0q4j\n",
       "HmIE93m40D3cSIgRN3/DjfqTaeEXZ2EPIRVodfkWjpoiLR2uaYcr0uosc5JkC3wrcBcMsef88N5P\n",
       "+pHBwVsRSfoTXpIAGRJSvVfvh7vYpuNo75QdgxVyRINFYk68MVwyt9osPrEOQrch9QqFnYajnAzz\n",
       "EMNfpKrPAxUhbfPg4GAVxSQ9/P5kDsrXG35xFvEQGwijQCthS2qaIi0B13jRmVEVaa3oAc+jAnSz\n",
       "6nyYD8MmPRozzR46kiS3CCShUwlY084znIgBBQvxS5ptsMg6Hm/AswX2hCWKT5LTUDSlB6IoPP7u\n",
       "+DOX49NJmuchHrJoqIsUfR6oyPjGbQA/piMJ9PC+NT+Rrzf84iziIZwCrXRZVNMUaYm4xovOjKpI\n",
       "i2/wsXElAv14x2cXvJGiR4u20xzbm8CffPGQBM9Eh0gX9pOxvhMNP6vwidFDfqEXKvIaYMjaD8YZ\n",
       "gEmCxIdtuAZdc0fJFXfhLQOx0jaMXFuCSIl5ML4BgPdJVnnkHZEtA1Gg+T1EksudAUB+VOALKM4i\n",
       "HkIq0DpPVNMUaYm4zovGjKpIa2fVS5LUCTBUTdbgUXjgOHp0bAXWoQ9qnlakD5EIJHmuBjccKOEu\n",
       "HKqmLgbjlcdwKhadmBfAUNG8wLyIiaAwAh1v3tf7fJWQZKiaXt971a1AEr2OuAt3FK6Hl7CKMXbp\n",
       "cQDUA9wwOs8myV70BpUvOiLZAro/Fv5i7Dj+sh86l3eaHDCEXpxFPYRUoPW4oKYr0hJxnReNGVWR\n",
       "FnkIVHgyrSofGZcNrpLT8kI71aPVF/GayHCJqntMphvn3to5hUfE8m2Qr7gqsocMyB6i0IWmyv7B\n",
       "QfHD/VOOkGi0EmJxFvUQUoHW1YKapkhLwnVeNGZURVokD+8lSdL2H0njlESSNedWHdlE/UOvIn8e\n",
       "59Kie2wes8SVWF/PqzzehOaVXUVHxefBfc7nKUdjmyoun5CuIfziLOIhrAKtzYKapkhLxjVeNGbS\n",
       "iplpsUyStOKoMUl8su6Jt98qhxeXPWpVKkoRVcgljbPhF2cRD2EVaL0tqGmKtDhu9E7aDbz4zLCh\n",
       "uVuRu5JJEiBJWzpyEspffHEW8RBWgdZaQU1TpMXxFKTyjbxIZjhD/ZmiVi/OSnUrSBJqcRbxEFaB\n",
       "1gbBnKZIi+OdJWu6kRfZDJty/SMJTXW3LkmSBxXTTajFWcRDWAVaWwVzmiItp+rKpiTReZHMCEVa\n",
       "YsK1xQvGeRUBb+EXZxEPYRVovSGoaYq0HBzi+UZeJDP6Iq2JFv/TE/LyJvziLLKEDKtAK1iRFsfh\n",
       "R7ZXXC7Skszoi7Ro1efR8+ewwi/OQh7CK9A6XVDTFWlxnO+86oq0JDO6Iq3W/3NYaemxo/CLs2bf\n",
       "g1OgZeWVb2vqb+Dn8LNmvOiKtDpqrU4SeEg8Db84a/Y9OAVaqUozJLFW3vHbJpxoi7Sebfk/0QlD\n",
       "4nc2/OKs2ffgFGipayZ1RVqxer2Zp2O0RVqsELmVSRIRry384qwQPXw//NvlL9I6Gv5suPwPCMIv\n",
       "zgrNQ6QY/t3yF2n9Cj4TSV4/ov4pUqIK7fbZm0kfVTOuW9YcSdr/FOkoate7/xTpf1tXflPokzzt\n",
       "AAAAAElFTkSuQmCC\n",
       "\" style=\"display:inline;vertical-align:middle;\" /></a><br>"
      ],
      "text/plain": [
       "<IPython.core.display.HTML object>"
      ]
     },
     "metadata": {},
     "output_type": "display_data"
    }
   ],
   "source": [
    "association = \\\n",
    "    Forall((l,m,n), \n",
    "           Forall((A_1_to_l,B_1_to_m,C_1_to_n), \n",
    "                  Equals(Or(A_1_to_l, B_1_to_m, C_1_to_n),\n",
    "                         Or(A_1_to_l, Or(B_1_to_m), C_1_to_n)) \\\n",
    "                  .with_wrapping_at(2),\n",
    "                  domain=Boolean),\n",
    "           domain=Natural)"
   ]
  },
  {
   "cell_type": "code",
   "execution_count": 46,
   "metadata": {},
   "outputs": [
    {
     "data": {
      "text/html": [
       "<strong id=\"disassociation\"><a class=\"ProveItLink\" href=\"proofs/disassociation/thm_proof.ipynb\">disassociation</a> (conjecture without proof):<br></strong> <a class=\"ProveItLink\" href=\"../__pv_it/theorems/588c4ad9ef17104fc1f0112416f2ab0a35bfd2f00/theorem_expr.ipynb\"><img src=\"data:image/png;base64,iVBORw0KGgoAAAANSUhEUgAABFcAAAAzBAMAAACgWvqRAAAAMFBMVEX///+IiIgiIiIQEBB2dnbu\n",
       "7u5ERETMzMzc3NwyMjK6urpmZmaYmJiqqqpUVFQAAAB6qHgnAAAAAXRSTlMAQObYZgAAAAlwSFlz\n",
       "AAAOxAAADsQBlSsOGwAADN9JREFUeNrtXX+MFNUd/+6PudnbH3dHEaKCsMUYQsF6Ngq2Vj2aQ6sG\n",
       "GPCgIVi42Hg0tMrSa/QPoyyFkpIm3CX+iDFG1qIxTaBs8UpTQdxapcEzZVFSQqVlaaumpTl+BLwD\n",
       "we37PfPezNudbW4ot9xL7nbmM9/3PjvzPvPe9/343gH4T8aiRRaMpisz1Vr54XI5P5Lub8VoFQ9D\n",
       "Wkw10lAud9YkltyIusumwmhND0Myb2AHyXoWyz/l01jghLERV7AjZbVXPrgCxJLslc+vo8+9V1Mf\n",
       "vbWVvtEDuy6oW4m3BP+4XtZeiZbqXyzr5Hcl1UY+Gk96W+twXdrshjBDctUXA//y8JV0uFbpsv1E\n",
       "l7s5fuA/sTYPN1SD67xW2zyk77Rn1L9YviyfLqEfR4UomrDjZvJ3Voc7XCAnnipz+GP8a7VgiKAn\n",
       "eiLjuqbFdQySPTRaSrax4yC1o+DO5sQ1LLpintU+yQ+tehdLslU+300/9gwJA/x4G3h96HBHgU48\n",
       "cYK3W78X4y7C0IOstudd17S4jkGyh2RezrZ4Kvr1VtaVTcI1LLpi+rWPsjFf72KJKI0x1U50/aBA\n",
       "0g7XQ4c7kxP/9nyuprBweAjDfoTvb3Fd0+I6Bske4FY529P4Xd/izibhOhZNMRHtNEp8qN7FMlm+\n",
       "9xR9amtDFwU0F/28yY51uDM58FjL5CKXGTpIFAXDCVwHWfWaHtcxSPYAL0rZouTLPuHKJuM6Fk0x\n",
       "jXqn5aV6F8tX5dMEbWjyqQvSgCbNjnW4OgBieAKOFhzDqLDNMBNg2VRQr+lxHYNkDzBPytZDjL7j\n",
       "yibjOhZNMXzQ45GOWvUtFnNQ6XdJ5caL5hnbn8xAiDX0Olz2P218G6wRvdynAGMEg/nZmEkv2ln4\n",
       "NS2uY1DsYZ+UbX6LdzYF17BoiqFTDTum4KS8actb6lssTYp/Gy7SFiH2BRow0kdvliBs8ZYC4x3z\n",
       "PlZwWX82noeeEhgnyPFTADcIhhDq3j8scAZxjeOMwcZ1DMzeHpBI2W5i/dODvXI2hhvtA1YFFlcx\n",
       "rKNu1T7MhnR9iyWiNKoR8t3H79rzGRo2foliz8NH7CrF87BDweUk8NAPdp1AT+4wbbOyqbxgaEBP\n",
       "PDooGPg1jnMGgesYmL1Ia6Rsd5EzyxyTlrMxPAGJdCUWpRiuVP1MU3KovsWypuAhFgM1p6dBTGAf\n",
       "RE+ZvooUPw89GQlXksAXADSj6uhjc3GNWcHQjDSaPCUY+DWOcwaB6xh4OTxtkYq7iZxkIJWWszG8\n",
       "ORcbrMSiFsO6Yn3LYlyob7FMznp0Qwn0c70tlrDZyXshgr/LqlLg6v1zHL2XYfRov8JGro/ZDFij\n",
       "Teft9RR2jeOcQeA6Bmbf/8cxpYkr7G/MspGpkSgIsfBsDE9aVCw6FqWY5O7VE4AX5umzwJ31LZbv\n",
       "qd0u9tG2Ap2nZ48+9Cd2QxyHb8m4kjgeL5DlAYO12xP/bTNgja7ptcXCrgmcMQhcw8Dsjfe+iepp\n",
       "EjrfK2XDM3YwxxYLz8ZxiKYrsSjFPLilEMlW1sJD9S2WmerkAmrXY7ihXZUVVWlMY2NJjrPVeI4v\n",
       "R7VrnGMHDnwdlsYQn7qBhb320PNpJKWvW7ZY2DWB8/V+hpOCBY3NwOxjC3phkPR2fVI2PM5/xbLF\n",
       "wrNxHH5kOc3FPTAWpZifXgPNlphc8EzzmViII3jEr1iaCEnhsteK8bk60EiDseqcBX8uP2NXJZ0A\n",
       "s/ENlhOHMHYDp/MDgS8uPwupVefa+NNlE1+IAT4pDww8V7TbLn5N4JyB4aRgQWMzc/umFrMVbgTR\n",
       "4/E5tqWPHs+BLRYxh8jw2MOy+XSFRSnmGHGJKjUF+3NULG9Qd9qnWBI54k1f/tMsp1TEMcMlqlKd\n",
       "rcrHarmz8KtBM0AkE+qMncxALO15OeUNw8/hZ7WwzIJdJsBPKg0XWqhYnsL30OlXLCZuiDZc/r1Q\n",
       "6qKK9Fevyg2PP1HLNtPmUNAM0IPalmRnHhKFWsQSW/H4b2ogiZ2EqYfESqtnWp6nYsGr39Gib58F\n",
       "L2TPvfzFkhx0TSzZr/T6zbM9M91VLtfCkbg2aAb4FWrFY8cszesZu/eM566oSLlcy+6ceAmuKlRu\n",
       "MPBIHosliV17/w7u++iz9/IXS2jI5cV0Bs0ZIMP3g39iDZX6x+ZONhr62pQpt/gXS2TKlOvbLn+x\n",
       "RM+6oLWBkwbGELoETuLVFX2nXiaW3wI87F8siQw0kG7XcF7x7oiN/59YEmdhNA1fCqeZWDZBTCyK\n",
       "efSL0++DP5RssSDbTeTkAcdeMmOWZ17b5LHP23fyE3NV3/0e+7dc8KS+OXPEq3W8vcNDkE4TgMP3\n",
       "7hDbUJpOjtbwcIqllYmlwYrm+KKYklZ/shL+FrUSli0W1ArdR+dpHE5x9KL3VI4wSaYhJJYe3gYY\n",
       "62GtwL8oktU06oLd6J6SlU3MSV25UDT218yoWAIVS6oF+7d9Xm056qHgSEs+6uiG4AD1b+PdDkf8\n",
       "tZs9vWzbpCkPSVF9xwH2e5jLcOpW9MPXTPGOYfdCsNNkF1JJKApziqPdUKDdEPTiHbx4ijC5e/Wk\n",
       "0N4MPZrAAhAO/WWtJJZGsj8YQo0lu6yWlzzdMtskUoSFYqrgDjBmeJjLcA+qdpNVfQw3XE+6JyFs\n",
       "ExLHgFqWd3hfFR1yd6ijde6VfPnOwsGFuc8CXRTDK0qlUIkdZelQ8FD0u684xRI9TCqkJWEPoEPw\n",
       "Oy8GbLKRVmbPxP5PRaWden9PxsM5kuG/Oy41ec89OUwWk6+ReF34TiHXPMslCDIbkellX2IpcbGs\n",
       "K7HdxnhFKUNWPMjaUpy0BYcgP94plhhZro5nkA/ClyBeQ85G/MAbai+ETdjo/W0wjvOFEeS/LMvD\n",
       "tgk52ZzCIt1Oq5AwRAjuYrjdPtxKBBI1f80LdU/KBR9kFlCAmTzA1ASRLXh0oLC+hikhX8FljnmW\n",
       "PBdLU4YvOR6Dbrb/EK8tJZ/r6noEiaWj0SkWIE1Eon3eWXiSLaH2tZ+wIrBc9XiwSUT4Iz058wOL\n",
       "+S+x89BqKLVDYZGwF5RiDBHc8RVdDNSEpH1dXV1F5LO08eeYOq/eb/BBZhDpDCLAzE9wWehmCz6a\n",
       "4Z/BX3CZnZa3gWOLAl0UmwXjocekR7tMs422LPEDklhoFwN4fw3bX4qUkIkhnSm9EDbZwP0R2J5h\n",
       "G0WR/xIfhKypbMyicP+R/m334NMBOk9EGJpKeF7KxUBN+rceBPgxbVmgjdexeUG93+CDzAIKMPMR\n",
       "XGY8hN/3Id8MPoPL7MQXElk7E4IOvKJ0DPYm6NHUQ3Su7j0gu29kseAe6iKpyg7SBzSj5mglPjHa\n",
       "yC/0QU3eAQzFzoIxHbBYkHmPBQvRk2jI2eY2fKAzkjuIkQdyEMoxBuMbAHgdZqXDXpgc6AwDnSdE\n",
       "YrlHNAjqFoVLEGQWVIBZ9eCyRhyDJrZFVmfwGVxmp6NFp1gS10J3MV6C52HTOHp0VQE2oC9tTsvS\n",
       "TSySWF4vwdJzOVyV3cXEnWC89QKe2kUn5m3QnTVvM+9gJsjNQMf7zrTvLBKxdBeTm9vvfwTIxLEw\n",
       "t+GGzBJ4E2cxds0eB0AZYGnfGItMHqML1D4rTJoyG/E6K56Uu+buH4rbm6a6LIEHmQUWYFY9uIxM\n",
       "aJl5vwy+g8tEIptUpZ1yRfXIuLtrpTTaVnxS0knwXHNCziJS3KJoH5NuSDxjq8WDEb0VByFdsLOo\n",
       "DClQGcIwEXWhHV1d8pf7h+pBUW8mwCCzwALMqgaXxU6T2sr4ZfAdXCYSmd93iiVuuY+UqRlFLKtv\n",
       "KQrbxvJpZ0a+L2h21j42x861LTaX016My1B/cywrsrgY7P1Gr4ocB71ejf3KPQQfZBZYgFnV4LKo\n",
       "stOrGoNXcFnlNFMVS9LjqLJYXLb2ibP+CtXNVUZtloKniZdLprTDwQeZBRZgVjW4LMxcW78MvoPL\n",
       "7DkwVSw+Jn1zI2eu6dIHmQUWYFY1uCxChv2GbwbfwWXifa3zILNEq4dYAg0yCyzArGpwWfgknePw\n",
       "y+A7uEyeQq9fscTPe3RDgQaZBRZgBtWCy+gMS5tvBq/gssoTuHUeGM+jHngKPsgssAAzqBZcRlyK\n",
       "qOWbwX9wmTRaqGOxKMOh4IPMAgswg6rBZWgcH8e7wBQGNbhMiUXzEVzGEo1mvXL+TFjwQWaBBZhB\n",
       "1eAyY+cAWWRVGFzBZUosWvXgMtal1/2fCUsq25+CDzIb3tJFgJlH0sUL1chQPbiMdeGlehcLPCOf\n",
       "Bh9kNryliwAz/2KpkcFHcBlN2+v+T5tCt/yWBR9kNryliwAzj1rWBJfVyOAjuIwm1hfWs1hC8r0F\n",
       "H2Q2MlND1Z7rSvhz7Oo/elg7KgyvdHVVi1/C/ySWd0fUP6dqLI5KYRiSSbfSGYsW1CaW0X9OdQWm\n",
       "JfY/p/ovoY9+Uy3By5MAAAAASUVORK5CYII=\n",
       "\" style=\"display:inline;vertical-align:middle;\" /></a><br>"
      ],
      "text/plain": [
       "<IPython.core.display.HTML object>"
      ]
     },
     "metadata": {},
     "output_type": "display_data"
    }
   ],
   "source": [
    "disassociation = \\\n",
    "    Forall((l,m,n), \n",
    "           Forall((A_1_to_l,B_1_to_m,C_1_to_n), \n",
    "                  Equals(Or(A_1_to_l, Or(B_1_to_m), C_1_to_n),\n",
    "                         Or(A_1_to_l, B_1_to_m, C_1_to_n)) \\\n",
    "                  .with_wrapping_at(2),\n",
    "                  domain=Boolean),\n",
    "           domain=Natural)"
   ]
  },
  {
   "cell_type": "code",
   "execution_count": 47,
   "metadata": {},
   "outputs": [
    {
     "data": {
      "text/html": [
       "<strong id=\"associate\"><a class=\"ProveItLink\" href=\"proofs/associate/thm_proof.ipynb\">associate</a> (conjecture without proof):<br></strong> <a class=\"ProveItLink\" href=\"../__pv_it/theorems/725dffdd65cc04491d764d044a4af92688aae1980/theorem_expr.ipynb\"><img src=\"data:image/png;base64,iVBORw0KGgoAAAANSUhEUgAABVkAAAAZBAMAAADZKjOyAAAAMFBMVEX///+IiIgiIiIQEBB2dnbu\n",
       "7u5ERETMzMzc3NwyMjK6urpmZmaYmJiqqqpUVFQAAAB6qHgnAAAAAXRSTlMAQObYZgAAAAlwSFlz\n",
       "AAAOxAAADsQBlSsOGwAAC61JREFUeNrtXHuMVFcZ/+ZxZ+68dmdBCFKkkyWE9GG6NcViLTCYXR+t\n",
       "wIWSmoaWrhrAYFoGN2n/aCqDxY2NCbux0pCmyijb9B+xk4o0QkvHFwYWy/CIpJbIQGxJxexCQ7tA\n",
       "pet5v+65y0yyW1HnS/bO/b7znfP77j2/e+53zrkAUL+caS9CU5ryH5JJ7dVG3Pubd2zCxP0vRih+\n",
       "TLcnXWmy9fqQT9FOCbjFboO3/ulAhImQn0387UlmKVtrWDlZJ1tb8E+m0iTXeEsmT34S5+3FQfYg\n",
       "2R6AsH90aOjZgr8wyB4g6fUfDb27VqghHyGWPTpU2eyv50wd+qebrxtGdZ9B2boHn2+rk62pEr51\n",
       "zex13OUB+nNKsvJtfNgAY9ultHjoEM8yZo76vSnCZ5HniKWlILsqij3SDTAs2b3VKA7d7sFbt/oD\n",
       "mzwFMi9XLAHbUVT3hEfY+l38oumuk61xPBL3Nsk17vIq/dl3SVh+iw98/AqyK8Md7vcYI1BquOjz\n",
       "JgjuBfRS/dDfUpBdE8Xeh9BeKouSQb3Y+QaKI3XJF9j9c9Dh9aIlYCuK7l4mbMWkjVbrZCt5ihY3\n",
       "yTXu0kGO0c0jwhJW0tUguyo5JV398tKCz5sgpFE76Qv+loLsmij2w6j9w3JcjHhacWIuzjQ7fIE9\n",
       "g9122AK2oujucwlb8UQrUfcs61BzsjUhaSu9p5tCV4UJjyApNooE2VXBY8hrbE6WvbFqelOEFpRR\n",
       "JOb5Wwqya6LYhzGZZEKYqGjFS/ExXjYDi5KLeMISsBXFcH+ergl8pr39jrrZGmlvn5Vvsmu8JUXv\n",
       "aTnzL20ZIMzOg+zmMkCOtQanKqY3RUD5pnOm4G8pyO5bmAiLNHfVHIVhNbXYfY+kAwUzsD5y/Jol\n",
       "YCuK4b6EsvUVgNV1szVVgJjXZNd4CxmcIFmNX5S2swBtbPkmwK5PswoQYu/mnbAxb3pThI1fb3u3\n",
       "YmkpyK6LsMc/aJv5vJo096vF0Qv2wJZmgwK2ohjuByhbt4Bbq5utyHULXV1QC+z8dT7W0SkIdcwo\n",
       "rpcHL1yl1+B+JG1o+jubX5vdrgmaAIfZ5ZShr2Z6U4Qbi5C529JSkF0XYQ+hGdQxZdkq06FBXbIH\n",
       "dlsxKGAriuF+jLI15kVL4AwH3Ef3lnvg9zXBVjQM30PO71Nmc86d1qrS5bEPO3dzJb5+172WCafq\n",
       "QmTmrq4usaB3rnOF/8I0a8yPatc1JquBm4EFBBpcqEYcGLS9MIJXBmHq3n0foKAOsPG2mGGpH7Wv\n",
       "WPK2YddlG7zF2v723uFu3qPcmyJ8E49ZBXiw32iJ2p3OIW8sBGGPIXZGR5S7cV6DOk9HCX4hPLCF\n",
       "dIDgKDJgO8pCfTzZSNmayeJJ1pu2ihveWQd/i3opT7L1CJtkLVXS8OhVa49Il3QOQnyKCL8DmOx3\n",
       "1lyQ/LxK7gl9E36a3k9ddGvMQMVjbYui4xsgBhyusMCZKgIL0MFaKKBExNRDhmepbl4R4ZKDXn0o\n",
       "5dswiQ1YebawzexleFm3G3Kcr5ovA2jN8R7l3pSteIg+nI235YyWqD0FqdxYCMLeWlOWEMT8nxeH\n",
       "CVtPiAvhgd1GnAocRQZsR2Hu3LyD7bz24yWuXba3K0pp4WS2HJWZACTIOhkke5Ss4sXbbaiKS0sZ\n",
       "0mJ9+xy6MZa0S3VBUc5Ff/wBP4aeFv9jqFtjBirecBtQ9JPoVCRzXGGBM1UEFqCDtZBDyYiphwzP\n",
       "Ut28IvKexqyfhf6O8iWex+TTgOxXoK+g2c1sIt4tHohwh+hR5k0Q4niyNlyCTE5HYPbWkjsyFoKw\n",
       "b0RX3HJF6a2cWkxXWvPiQnhgZOk0CgJFBGxHYe5cjjK2LsaLqDfj8e3VDTND+wv07Aa62wUn/rpJ\n",
       "ZWv0TTLQhhJKrpv9qfVlJ10iVVgu0pz54Nzq99Zc0IQQ3dw4G5tdPAI+6UtRdGvMRO2mk0eux0CZ\n",
       "HnKFBc5UEViADtZCDiUjJh5KeP7qviuK4UfqF0C3TDlbZ/yD/jL7Hzlbud2832+U6PNaoTu1N2ut\n",
       "EAScb8YvC3aJlpg97TEeBSAIO0pzYWM/DP6prTYD50PpbrUYbzVA1BMXwgPDWwrQJVG4PQCFuxMq\n",
       "AuxnbH0K9aeDx7UHd1QitVCNnRUdEsOJ6EMDClvdBZSgKbnqGoLf2ECxy9OUcH0zBs8Kll04tM+S\n",
       "SqouSM6ow27O1rxhjSmobBAjAxrX0QA4IMcCquDA3Z9wVQZm17W62lUQqDO6hxKev7rvivASkItf\n",
       "p+uLkq3LaeTCDl/Q7A+jH+cysAP6uYkWP4XvxiXao9KbLDIlUFM7tkq2sjJhh2hOtZOGBYzi/wx6\n",
       "Jj7nOQfvhgUwUy7A8eJTFUh2yceOB4aX4QY8icLsAoUeRDPMnVCRvvwJW1sKbPH4+5+E1gJBxmde\n",
       "skLzj/JUha1AOJUsoCTTZQtfL6IMLnlkj5kIYJdYkaWqDnpz9nosQV1Vhp03GM8VdRHyedpRBCFC\n",
       "3q8mQqRsY6sMLEYGNKITsG51nY4qOHD4FldpYKSuogfUpYUCG0EpEWMPNWhf9Yg5iYnnwFl/2YO/\n",
       "jP5YspUutUt7fLZqhzBu5BbgB77Ufv/oVsisv5xnGw7cGyFAC/4Y5RH55hZ7A9wO3/FUO2lYwgj7\n",
       "O/gbmCq4y/phhCQc4ZJWzdk9tAeUlwTfA1j56LmSgsLtAiVc1pqh7oSK9OUvvhikT8dp6GFLHadR\n",
       "Vpt+ds2aRxBbVyRUtlL3ziXvw5Ps7u3qHPYi8LCZ9GKXiEhV+0rxox5LUN0r0OEYXxURF6nihDLD\n",
       "ECL4lVA1EajVZKsMLF0Z4DoBO5RUdjWoggMnO5JEpYGRuooeUJcW8hkihlIixh5q0L7qRuxIlKV2\n",
       "0cmm9Da03pYyNnFUhEwuYAFodSMI0JKNdwCaL8L37OVHxwXlNNl9dXMKW8Mv4OOdMBX64vRsbzye\n",
       "p2Nr8oiPrVnAuQdbfEM8K7iI50YigF16eaoKLxXY6hpKUJMjUIx36O7EJf3aoT3HyQt2CP1NYwgt\n",
       "6CUWKpoI1Jre8+e8ylYlsP7VXCdgCXVXgyg08G6u0sBIXUUPqEsLB08O7vwSg1Iixh5q0L7qRuzA\n",
       "vgu5RieX3WIjS7gv6PpgHWz9IfygER5FCqFu93xBfJNTJ1sbRMFURA9fRWFrawhWgHseEXl/ip7N\n",
       "OUHfXweBpCYaW3GOcJX0zAoyCWhF48Q6cPJI5Qfq8gfA5+774KDhHrEVufd5sByN+LGSdBYumalw\n",
       "VyaPzfeVIFRiCM5dANNBR+BWVCOnsFUGBvBGXugIDNJ/B1GfKDTwNCYMUVlgsw3dXpcWHumOlI4z\n",
       "KBkxdRdBW6obsePwi9fs5N7Hn2hkcEU9qqdKxWuy1V37+K8b4VEfGl3T3eXAT/iOjgcKpSIZ92Qm\n",
       "MB16qskabIMtU+jZJyrQix6b+E1Fum6psvVXNVh5uYR7pqeaWgDO68/hLdn4fOgpxufhw3zmgtIX\n",
       "dH7gYufuKmFrTzW9vfNenCK9gutS53nSZa3Tj7IWpDt7F00BoAiwclebBzqCsJ5lXwXFjMDoF5FM\n",
       "xytx+PMxhkcVGjj5YherPLDZhm6tywpjhQdI8oWhZMT0SzURtKW6ETtO9WSHb96+yNptC0dHG8oE\n",
       "phs7IRLB/crFrHWsHB1t6KvvX0Ki6J72tAdBkYALaRCFUpFML7R/6VI1z5wvrlln7LxqMlup1BXC\n",
       "aZt4eLlHVbHiTEB8G+RlFUDhksvkw2lFD0bg1lzooKftDvBq6ozbywa/MB+yXFSddSEMxyFXGat6\n",
       "V2iMjuCxY9k04bu7E4cwbeK3pkNFg61Jz3+mi8HWDXdUhWti9D0AmSnxs0VFeR6fvFi2vH00p8Bw\n",
       "F6cWKrVMk3owArc6tcxXwWQrrqYKBguS6DT/RdVbF1ah9/np4hjVSdCB+7489qbUJypb05azMdnq\n",
       "c61YzvTztL1uxWi1ck0EX4ixZmf+X7H12vKj6/j/E3Cbnfm/LpNmVf4NdEM4YDQyHIYAAAAASUVO\n",
       "RK5CYII=\n",
       "\" style=\"display:inline;vertical-align:middle;\" /></a><br>"
      ],
      "text/plain": [
       "<IPython.core.display.HTML object>"
      ]
     },
     "metadata": {},
     "output_type": "display_data"
    }
   ],
   "source": [
    "associate = \\\n",
    "    Forall((l,m,n), \n",
    "           Forall((A_1_to_l,B_1_to_m,C_1_to_n), \n",
    "                  Or(A_1_to_l, Or(B_1_to_m), C_1_to_n),\n",
    "                  conditions=[Or(A_1_to_l, B_1_to_m, C_1_to_n)]),\n",
    "           domain=Natural)"
   ]
  },
  {
   "cell_type": "code",
   "execution_count": 48,
   "metadata": {},
   "outputs": [
    {
     "data": {
      "text/html": [
       "<strong id=\"disassociate\"><a class=\"ProveItLink\" href=\"proofs/disassociate/thm_proof.ipynb\">disassociate</a> (conjecture without proof):<br></strong> <a class=\"ProveItLink\" href=\"../__pv_it/theorems/b6643615b364015ccf0b631159627321c5f9a9280/theorem_expr.ipynb\"><img src=\"data:image/png;base64,iVBORw0KGgoAAAANSUhEUgAABVUAAAAZBAMAAADDFtM8AAAAMFBMVEX///+IiIgiIiIQEBB2dnbu\n",
       "7u5ERETMzMzc3NwyMjK6urpmZmaYmJiqqqpUVFQAAAB6qHgnAAAAAXRSTlMAQObYZgAAAAlwSFlz\n",
       "AAAOxAAADsQBlSsOGwAAC3VJREFUeNrtXHuMVNUZ/+Zx5z2zs1IIVYKTJYQoGrGRSqno2Cx9qMAF\n",
       "CU2D4tpGIDTK4Cb6h6GM0ZKSJuymFkMaWiZlrf9InSpCChXHPmgEKoNsSi2kjKRKLM3uYkAeFrfn\n",
       "fb5z752ZO8W1xsyX7J1zvvu9zj2/+93vnHsBwD+d7CpCm9r0f6GruqqtiPe3r9hYUzsZeFGMHlKV\n",
       "NlY/SxTguWNDndMbWpziz8uEJbIcqzXaOe4Tqxn6k660QTVGNMh/ttY5vbU1a/ERN2/f6NDQswU3\n",
       "P7X646H3V/i3Xc8OJWvC0L9jeTd/4SNDlaf9u0DikzhWd9P2Zp9YTZboJWg/qMaILJ4I06OKk7HJ\n",
       "IZqFhnxE79LDGtE5MeIh/WXSPe/BD/UADBf8W8d2HCrjxkP6pYpLJXCzDcduaOwB8bF43GZY/QF9\n",
       "WPT4xGqUZuH1bVCNESX5BCeHVTZI0WmLCAjV4yN6nR5ketx7wS0dO0MeqR95WOkj7RfLvq0bdkyV\n",
       "JdPI4bWiU8X6LjmbvNDYg+ab4mWGVQrZcNUnVmET+ZnXBtUYUYj/fHOBnsQcKlPr8REFUZkafvq8\n",
       "WzpFeKkzHlYOEduHsr6tm3YMlWdobtzmUonPpJXnjMYeNN8Un8mwSpdXcd9rq4PtJdYY0ts8ZWWv\n",
       "1bmDJoZXoSEfE806SSH1ZOCyWzpD6oL4LA8rwxRlRd/WTTtYJcy8PuFSWUCP0XJjD5pvim/h+wBf\n",
       "6uq6xTdWQ11dU/JtUI0R7eCPejhRMZb+OWjIdy79g6JdTv/HLU3KUutkwcMKqT+XTfNv3bSDVfrY\n",
       "8dtOldgHrBAoNPag+A7x+RyruwAe8o3VZAEidhtUY0Rb2HE7rNPpIFOAgHgy1+MbdAqgU2z0VKNn\n",
       "3dLrHux8v+JhJfph5+QtLVg37WCVBVlPlfAZ8BR3Lq4E3yH+BsfqRojVfGOViG7kS1Z8whu91qe6\n",
       "LKnntWEURuB/uwL32U9kEDfyfAh9ekLIajYooqzHN4gslafKKxL72C19bRHSt3lYCZBVzJGKf+um\n",
       "HaxyU9FTJXgBPMUdJPkO8SMcqxE7XAJruM7li02/C/5QU1glKfgu1r4X5X/rVk9VLfLYR907ZSe6\n",
       "esfdHvt4WITR5B1z58p24HT3YvfADG7E7dW7b+AYB54quaKoE6vHySTUixWPw0WOk7OZge/vGe4B\n",
       "uE8sCzbDMWGY8a3uIdvkmxQvpkWNN2HP3g/Jc33ElP4ezXwFt/UIWcWEz8Pi+e/6sy7sIJIqd4gs\n",
       "IFxIldAIzxxNPEi+FBe0jmM1nY2rst5Ba95bBf8I20lbY/WwWFotQFsH4cueXrVIKgcBuaKD3wOM\n",
       "cwsbIoR+WWWXjz/NbuTXxiSTG3F4peDJoD69XioryY4InHeX4SiEhIrVSx0PJJEXXBWVCECNQwXk\n",
       "dRJjdSFARw6inaKaG5Sb35yfhGTO5JuUzovtb4ukelLzpftNaZpqD2Xd1jtqbF1fhpd8WRd28Dmp\n",
       "chMTLEgXUiXIwHe0mQfJl+KCtol3rP2vq7Le8VwlpSwcz5bDugaAONsBg0QvivP5m72cIpFMGVLq\n",
       "HcppMkiPOgWLkBHOJH9yEXiE3Cvum9DkRhxe6cu1AdQ/zvAkSHZE4Ly7G0chJFSsXurGQDYJroqK\n",
       "B6DHIQMCr5O4BiCMIAFwWqApGO1Rdwjhd5Ri502+c9PnMX07TCE/eUM6SpdbwyW39XUkoswluAR9\n",
       "BT/WpR28oSVU2M5qWA9AqPCt0nxTD4IvxQW9JbA6j26aXk+zyu/WTA7sK/DWNfzNFhz9+5MYq+G3\n",
       "WZINxFGNm/2Fl1MkEqrCIlULzQHrBo+tRSxCFpMkG0ZFXo7R7LfWVZyY3IjTaw9fMsp+BNCiUHZE\n",
       "4Lybw1EICRWrl7oxkHmci6JiAaBx9OA1rPMkpwfpzVXhL0flVAfe5IgQ/JQtsCr5Tpr0L/77ArB3\n",
       "ssGSIU3L0uhFt3Vaf8K6fviTQFIz68KORoxWoS8VYK52IVToywMI2009CL4UP/DnTno37xNYfYrM\n",
       "pkWzyX3bKqFaoCZaRYsB/Gj4/gGE1djtHJ5JvcsagN96LjeIyAY+E32TDpxSGDtzcK9HCYlFCJ3E\n",
       "Kddrb8PJjSCvIvmxRCj7JJMNAEprAyLw2M9Fl21Yqyi4hI7VQ90cyDHORVGxANA4jqPM7Dqpdmbg\n",
       "KTqYC3qqrev4r+RDOIf5FgEePNAvDwCL+E+M1hari/CAaSVO2Ns2ua3DM+Ru+Aq9G79m8KlR7UJZ\n",
       "l3Y0YrQK3SkbsLULqXKiAglWnDf2IPlc3Np/G8zij32G1UxBlDU//CJ0FNhDg7bsREVUGBMQVoHN\n",
       "ZaJAyrqYSBPPk7ItcXi3swSgIpGiKFEt8sBcb4vCdFkZtl/juKu4iKKv8gvOPITYY9LpIVT2wqoO\n",
       "LMJyH+szZz14Z453aOCwUnQTPUagTALF6lbnJyX9inNFVNQCC4CPg1mI4N0+dBLRowBLRjdBevXF\n",
       "vJpqsWOu+PCojfkwnT43y/IgN96t1Rdt+OvoT9U6RLwJoF+oPAzgtA7v0U9R2O77VIPPjE53Wld2\n",
       "NGLQ1v7SR06XkAv5asLaOcRmsIkHyefisYX9cI4/9tU3gdzfO9ALwSpvbYPUs8uXP0ywujiOscrF\n",
       "u+efg7XC6Y7uYTskb2BTJKRK1L5S9C1bFKaxSzDDcnwDxER0lxaSaeEhRB8qVacHznViVQeWqgzI\n",
       "PnN2EGU10aGBwwzRTdeMQJkEitWtzk+qfQzO5VExCywAPg5mgQckl5L6JK7V0AMnnauzMeNzM9x4\n",
       "veBeJNWxLhKKb9KI8e2iNQ+ZLH3PGsshrAafo8dbYQL0RXlrTzSa53k1cdiF1SzQqmmqKAFIBRIj\n",
       "MTt3HInIelmiwosFsZ9GSsLEeShGZ5jiTCT16sHdg2y+hsjfROEhQ1AUKDo9cG5q91/yGKsosP6H\n",
       "ZJ85i+N3GKzDA+8RXVbS60CZBIrVrc5PHjh+YPs3WA3AuDwqPlQaAB8HH20/Rpk+eeCFQYXgcvOp\n",
       "/jH8qJW5vt5uCUixcqzYinmNGL8uWvQQKiTLBfZRj8JqRwAWQ2yE3Cf7krw17Sh/6u0HmOzEKq0O\n",
       "LjNILGZFfAe5s1aBlSddeeAifwTajp0Di2R5MoFEvM+GRWRKIiUtrETSE2B2Ok/Z95YgUBIerNkA\n",
       "V4PpQXKJRg5hVQcG8GZe9YkzSP0TlD7r8MBTFOqsS+zoQDlLx+qhzk8e7gmVKNY6hQiPlWGVBiDG\n",
       "QS2wvggfnzzcE1Qzs7L5VK94/JVWwDSSbS3pPf5EK2lPIqYFFy166IPg2gLLeboGuBp6q4kabIaN\n",
       "43nrCxVYT1Jc9Lqi2hZUWH25BksvligkeqvJ28F67Wf05Wt0DvQWo7PoYY4QIRUHab9xtntnlU1g\n",
       "bzW1tftuWjDtorpceJYWWWH1k/KG9K09d44H4B5g6Y5OG0wPintKfPcTcQTGv3kU/V18VwmEP97h\n",
       "gbMvctnnYwQnOlDGQrG61cXJSOE7rMJaKazwqJgFGoAYxy4ZkAgfn8wU9PdGSzQKvnXWE2Wh0dGR\n",
       "VrD6G8/Vdj3rcMfoaCvWJWJacNGih19D4B5+dY1/w1J1tqyvL1/leMdq0FSkNDeAay/ZmlpFXDqB\n",
       "UjxsZ5FDJZJL54Mp1K/vQXJzgf228S5AqiFizupQ8H7Z0tWk4+VfI3UIwiDkKmCZm4WtWZj0nJrg\n",
       "T+Zd7eeNAkUHVhO2u2WSA6trbqkq0fjoBwDqkqvWnUXdjo6bpy1vHc0hN1LEqgVKmYm6X9+D5Fq1\n",
       "9D3gxCpVw0Sd1aPwRLUYLKJA/arDMvLIf6eolf8XC4OVNhybE8ZqyqPVEKsu0YpHy2ynvHWdc1Vp\n",
       "6sEVYuTKL8bcK9Dd38bSp4nV5vSTz/D/DxC7chNX8l1Y+zvJsaarplT+CxP2LHhRKZorAAAAAElF\n",
       "TkSuQmCC\n",
       "\" style=\"display:inline;vertical-align:middle;\" /></a><br>"
      ],
      "text/plain": [
       "<IPython.core.display.HTML object>"
      ]
     },
     "metadata": {},
     "output_type": "display_data"
    }
   ],
   "source": [
    "disassociate = \\\n",
    "    Forall((l,m,n), \n",
    "           Forall((A_1_to_l,B_1_to_m,C_1_to_n), \n",
    "                  Or(A_1_to_l, B_1_to_m, C_1_to_n),\n",
    "                  conditions=[Or(A_1_to_l, Or(B_1_to_m), C_1_to_n)]),\n",
    "           domain=Natural)"
   ]
  },
  {
   "cell_type": "code",
   "execution_count": 49,
   "metadata": {},
   "outputs": [
    {
     "data": {
      "text/html": [
       "<strong id=\"disjunction_eq_quantification\"><a class=\"ProveItLink\" href=\"proofs/disjunction_eq_quantification/thm_proof.ipynb\">disjunction_eq_quantification</a> (conjecture without proof):<br></strong> <a class=\"ProveItLink\" href=\"../__pv_it/theorems/2c70aa0614d3d1b37ec8367f7fc4b694bc3d535f0/theorem_expr.ipynb\"><img src=\"data:image/png;base64,iVBORw0KGgoAAAANSUhEUgAAAqEAAAAZBAMAAADziupcAAAAMFBMVEX///8AAAAAAAAAAAAAAAAA\n",
       "AAAAAAAAAAAAAAAAAAAAAAAAAAAAAAAAAAAAAAAAAAAv3aB7AAAAD3RSTlMAq1RmmUTNIjK7EInv\n",
       "3XZ/CtNrAAAACXBIWXMAAA7EAAAOxAGVKw4bAAAH7UlEQVRo3tVZf4jURRR/++N2v/fd2707tFCr\n",
       "Y6M4K1M3MkMIXbJQLxKxf7JS99KwhHIliCx/3NlfkXqXYXYm+oUgsMhbfxSoRVcighVtYijpxnke\n",
       "iILeRZ0/QZv3Zub7nfl+v7t7t2dgD/Z7M3PvvZn3mTdv3swAlKNA4TgMg0Jz4LalewrZW6PoQiEJ\n",
       "kJaFchQZXmf340cfeNbbBF4GD0Ur6D3qfH2UZoZlWVT5E0oBrJCF/xZRE0ed0CaO1xYUl0n4z3NV\n",
       "99C773EkF9xqRHuUYSGQIVGow9b7SiIawD/BVEXdVqPYOPY7d/PD0YstELVeSLj1uRl0Ws/+c2aQ\n",
       "fSa2X63/uIkGnWMfYwtJJlJ+iD5bKBQODcEeTbe5NQ98WOSaf/DC0/jfJSURDWMojFQWclZKP4VL\n",
       "DN4jsnYSYCk2jsHPBs7qZlA9feQyhmjEcouopLTXMg1bkflzAiHDJZcW89GeoRik6Y5g7ETlhOhp\n",
       "jmgrhoL2koga6McrKlsaz7BfGLszbrBpvSFrjCbhZyp+PqG6hwHpOVnow2GnXSIaKe1tbP1NxDU4\n",
       "XW6PadnhsBHVdNcmhXJCtJNDiwjHkqXjKM7u7soQHWC/GvKUK+x3XdbwL050HOeTG+ZhQJqgIgro\n",
       "waqIRkp7Xwv74YLvkv88IjscNqKa7oWWUE6IRlJUwHKkzM70aMVR3LjGPo0UUPvZ74qsif5pLsN8\n",
       "Pj0MXkQXgS6ikdK+HX/M8qA96EWyw2Ejqun+VionRMPtvPBLofBTGURrCoVTuYoQTeTFyofadr5i\n",
       "sGb2sn5jdcKp4iJAuRm8iO4CXURPZpz2qzyGQBgHvfO0kKQOh42oprsZxjWRckI00cULMwG2lEE0\n",
       "3ALVVkWIBjLStRhY7x4VMxqrwr7JnlEAF+0ApTN4EZ0MuohOdjuzOPpdUnpluibFJanDcIGorlJE\n",
       "Nd3m38GxB0k5IVp1jReWQ5TpN/lW3uKLKGNYrjaF+QZs7/5BVjJUz3SSJ9zzCKe+uw48Rk2stjbM\n",
       "bAkSaK086fBj8CL6MOgiOtntib8O7KGTWpyZnsji9oGSwS4fHx3P4P1RO+PtUS0DgcoHTdI0VXfw\n",
       "8lxjCSknRI0rvFBtxRhLjKfPJ7jc3Z/O2qtm+Fvga/ad98/eeuqrmgcuEgluBkAk4nIyPsvwAxkX\n",
       "Rmc4JOMPEatZNUzU6CeGbDDtBCiNAXPFnwuF3xxE20AXcU29bK/ul5sfM8yEiRaXNPqLrvrQn3bb\n",
       "Otsyh06IgOPWHT5IRrcJRKMDvBDs1jemDaM3wXHYf15FdAJ1HspDLO8gyt1zGxt0neK7xkXG8qK9\n",
       "AaclopcUwMhIvrCDOZnoehi8PvoS6CI62e21GcVqNjFCsqqreBw9JC3X9kWFGpV01NYdXzwTuHJC\n",
       "1BSIQmaqtqKRKWWMTamIRuiEFUhDol9HNPQRisjLEGoP5mUuLn0UV71xXYpgrdnkfIzy74sA5WHw\n",
       "IjoeNBE3yfY2uYvGaes/KSSpQ/84Gu2XlpdDVNPdmVzYwpVzHxWrHnazdLPqNEXG3qQ46oXD2rk+\n",
       "1ogG1SQhXmcjhyKJjTIT3Pmkiqid4BKi2zD+DEh96NQDMdY3P1acuUMEKA+DF9EpoIm4Sbb32TPc\n",
       "LdYiSYbai6/69tU5YXmjBMM5sDFUbEQ13dOszmQ3Kedx9LIorGRW76zFEYeDGZN3+/gDGqLRH7C0\n",
       "xoqOdHyRiRg8pr+FO2qjiqgd6ALtInWJ2EFsF0a0N0X6AfCVMMvLoCH6fVamYbaIiXGiMyMKiqpl\n",
       "doqK8xnql0e3XFFEA2cfOiwsnyzBcFYtpp7zwUf3ndDZkiPl2l4PAea579CC+iKWrqLVbnbn9Lun\n",
       "Ufh54mKP5SCKIg/ux9I8JmDtVRGtku6AKRqsZ6PaflVGe1aDEayXOJ9tkZT7MKiI1v/azFp+B1UE\n",
       "jslAfUxrn3Vzm0x18nJSUTI+p+hNSU0PtHDLjVclGDYxVBgK5310b4TEbIuUE5ChLvU2b5s4x4Re\n",
       "6+jYCLGYZVqe27x6UOMlicxDSO/lWeSsjq0dHSlC1JCI4rQ5aQAPQKK2qljKp7JP0HL4/FDTYUxd\n",
       "MG0gyVXFb/PWPNUC3PLWMTYYjk/h/v2Gn257WPzMVKcgal4jM2qzBjnn3Pcg5kX0oIYoF2mdAUAb\n",
       "wmXfVU+baEhLdmRtetFb/7TPTQm4rlAGR5MgkJxmCcnpxRGdUpUXluMFkgDDuW7K8js0t25lWOq5\n",
       "XmQembSZo2SMzk+5tB04HESjlzVEmQj+WT6GdiajS0U00a3ePcFmbSi8VuK+a3OR9qFff1Vn25JH\n",
       "haRPhzaiDUY+J06OjdIyhseXTora6KNbGZZ69yR8tCGL2wyboBVsfkL1DfuaPYieu25pPtqQFU8Y\n",
       "qDtRJ9qj31zvdnqj0cAObSg79AF5accQkS7xgtAe7p0jJH06zDiaR7SQ5QQdt8w4DOuy0m19EDXb\n",
       "lWERkI+4X0WCdKQ293VsKvcqUu16rsiJI3S1F5MA7hZR7QzCa2dLPOD4P38kKrjzXu1Ini33KsIt\n",
       "98lHF/mnqauVYRGQx92IvhB5vmtw70wuRGEGvLLOOe9Tg/bOdLuS39jme+wnVBpLa1LfmRxKhXut\n",
       "oSFqdDBiTh+zZjdp+pU8Zdz/DNGIe4EQKsbL5REd/Fuo973e887rmgmzCLq3G73u916/1o/z7dKK\n",
       "LpxiQDbxwr+qp1Qc1WfLpAAAAABJRU5ErkJggg==\n",
       "\" style=\"display:inline;vertical-align:middle;\" /></a><br>"
      ],
      "text/plain": [
       "<IPython.core.display.HTML object>"
      ]
     },
     "metadata": {},
     "output_type": "display_data"
    }
   ],
   "source": [
    "disjunction_eq_quantification = Forall(\n",
    "    (i, j), Forall(P, Equals(Or(ExprRange(k, Pk, i, j)),\n",
    "                             Exists(k, Pk, domain=Interval(i,j))),\n",
    "                   conditions=[LessEq(i, Add(j, one))]),\n",
    "    domain=Integer)"
   ]
  },
  {
   "cell_type": "code",
   "execution_count": 50,
   "metadata": {},
   "outputs": [
    {
     "data": {
      "text/html": [
       "<strong id=\"disjunction_from_quantification\"><a class=\"ProveItLink\" href=\"proofs/disjunction_from_quantification/thm_proof.ipynb\">disjunction_from_quantification</a> (conjecture without proof):<br></strong> <a class=\"ProveItLink\" href=\"../__pv_it/theorems/3016e6718f54c03096d27d625e1b5ad334e590d70/theorem_expr.ipynb\"><img src=\"data:image/png;base64,iVBORw0KGgoAAAANSUhEUgAAAqYAAAAZBAMAAAARVvElAAAAMFBMVEX///8AAAAAAAAAAAAAAAAA\n",
       "AAAAAAAAAAAAAAAAAAAAAAAAAAAAAAAAAAAAAAAAAAAv3aB7AAAAD3RSTlMAq1RmmUTNIjK7EInv\n",
       "3XZ/CtNrAAAACXBIWXMAAA7EAAAOxAGVKw4bAAAIIUlEQVRo3tVZfYwTRRSfttvudvdu7y5oAoiX\n",
       "+pFTg0gJH0JUbEBFRM1F/xEVUhRD1IiLRhKUj6IJCZGPikEoEljUoCfKnYgmQDSnhJhgMBeiQJAm\n",
       "PbiEoIE7CZ+9RJw3H7s7s9uW9qLBl8zudvp+M29/++bNmxmEKsmNeQsNQCKtA27CldP5BLqGJYWL\n",
       "mT9YWTE9sH5uHXAT7Huo5AslgzRUv75VucGrrC4nqouEsoD8Gv1vc6qnB9qEyVwzWijJ6XG//szK\n",
       "Dcoys3rbjrtIKJEC5bQRbreU5TQEt3CyJkbiSdKEks/nj7VWgTt15b0hs214Go5Q2wF4OFGK03AH\n",
       "Jmrz5aYPHmH6qAeZsqKsIIp2FPkhFW2DjpG2gSAJ+ijl9EG4zSnLqQJkxGoLiQtdVzerioUX8PfY\n",
       "zx19NtTE7BKcboVLA9bbaDP93xF6CSpD8OYa8R6fgle2PFREARCvDIXLKtE20rGZpkgo3ZTTpRAW\n",
       "smU51RqdWFG1TKuRU+1v7Aa4IAVYPEtiaaoEp5PhshrTMLLA9LGMQXwwxjMoSIHEE/5sFoMgXpkI\n",
       "l/WibZP5n2NYabcJp/D1jUT5eAqfYEdtnJ6vkVPzEi79+KEOXr1I6vaLnG7gD51w6cU09HZQfZA6\n",
       "Eji6cJlPK2QFEjUKXk59EK/Ug++lRds6kaczKLEk4RSsjFWYo0bXPM9oxRo5jffhgm1HLbgY1Pjn\n",
       "RU6Xc2JI85uhZKg+iRREEzxhEq2QFfyc+iBeAb9TEoJtYYcTQEJRsnTeP5DP/1yB0zo8wXTUNml3\n",
       "1chpQ5aOVhI8Yo3hndgLvhI5jTCTFHK/TMck6Os9WMsgk+985ngBCn5OfRAhbUpTX/XYRjre3s2Q\n",
       "UMxOyunDnlFUglMlg+J2TZyG0jVyim1+6yBzTtSevHkhZmEc5xSyCCznPB6J6VK/S1B9I4pfLUI6\n",
       "DWWQWeBBUFTwcypDRBmM0BnRNtJxqi5JkVBIkMKczkMqZlin03omkFOsME9eLzgQMM0SkaY7hLO0\n",
       "iTDkUgKn92BTPpUCBdJ28k/Xe8OeseQBjB/5RmIZ7uJOaY4KP0cjHbRr/rXn61am/7aCbQ4T2vD0\n",
       "Wk+b9Cn4OZUhoixlqZJrG3RsWg0JioSiXaKcxm0D92XQ1o9Q1LAPp+705vwb0Df4Ov3czibCI00T\n",
       "KCS8DqGxLhKhj9OcdDJqBT+9z3EADez/XpoGMmz4sehHZB8uj46n/iHP+1v3kQmilcU4rm/X4W40\n",
       "WjGHLOSCFMDbj+HA1+hwKkNEiVnhlGgbdKyjkTZFQlHPU07DBXGKWjVkLTqMdv/h5fQuco10IaPL\n",
       "5ZR+6U24XU6EAoadwSrPODSlBE7J62vduVZPfBfT97SbnrqcHnqAjIJnJU7Vly2H04a0Rx9ekw3v\n",
       "4Tz39in4/VSGyCsLnqJf8HCK0GMMCUVnnKL0RC9UwfEVJbXbkl5OYyRrC6WQ2SdyGnkfIHyBFCd9\n",
       "d9H0PMhPl8CdEFSBU62f1+Chqp+NwphCI6R4eshyx/7qDlcfzdKpGfCnxoz1KQSMfQkiSddyyTbS\n",
       "MVk+ABKKysY+2oHTzyhZAeg9CbICxFYrwnrfaAGS6hKovtHhFCDmGpa6AdLDqZPwSpxOUP9kS0Ag\n",
       "b2ajYPP2SS6n5nlei8dBpKifhRA9QfTTKHv1OBDT2+rq6+cNrEn/NUexP3wKAXOUBJHkxPWSbaRj\n",
       "MtwBCUW7yDhdiF9tewOQpoTTOm337tsFTtUf4GmJrV6HHE4xRPsRsexDIWQ4nPLIg0JZgdPm176w\n",
       "2qiDp5FeKIo7ZThzjLIsJsajHyRQobR+yaBZkJdTnpiTGPyqR1/re51nWEg/xOp9CgKnxkUkQ/QL\n",
       "/NJO7f8yLdlGOo70MSQUPu9D8oDeHAFKnxspulrTCx3ivtRguNx75rjtcgqQO3bD03SC9HLKXYgm\n",
       "bO4eyi8JDT1J/liWQepHQhqo2zAtziU9KJsv87ddiZtNoB4I77+JnK7n0x1uZuqVTa4+GoS16pmz\n",
       "sfTdr+DlNDTswiAf5Fd+oZMCz/hd26Bj6jWAhBLp9O71bWKpXuTFXG4NMgxbt317fU38IetApgOp\n",
       "N9FcbWpuYy6XJJw6ESla9DahnsPBelwul0toTTYbOx6BVLRFTg3rnSRN7RI5dVK5I0H6i0plvvWZ\n",
       "gHVUeUgpgY5JCrGIFaXRw6leJD01WBpx0CfeQYaf070CpxSydApdJDZYgWOfzLJOE5HsDBW9Sx0Y\n",
       "997+mWgiHn9qp++cwGkKNj8C91DGBOlPLnnwkArYQykPKSVjUChxv82Qk5Gz3ufzbUrHbK5ga6qO\n",
       "FJrh25NWLwqcYgjc5g0lS7YVwrzvLkSmeZsIFVYabEUG8beFTITbkN7hpKwB6cA6/rCg1P5p3PLr\n",
       "l9lqW1dq0z5b9eawtTpxkCEJmu1LMT9ttmDCwVP5Aux9kabmXbN8nJ7qtwU/bbbYEIR36uacqt/2\n",
       "FzxvucLbRNwKjUfqes7plpNEw9J+clw3gNM2LxeBnOpZv3689HZvW0mGqj7EyCo9rQxJ0KPks5Mw\n",
       "iWj6rtzaSmcn0geNdtBYSP1UNDuU8DWxLRec88PACahWmc+bVsmzk8V+/ZNlDpEKwfUnq9/OWOwi\n",
       "CfqwzOnTsac6r+48Sh4kUxjSSWqnVDyPivq2fl5YUXop4AbD2k5w/iPh51GuJJUeuzpONTyF5/CQ\n",
       "ND4RkRFP0jy8xN7rXLnicTgsWpb4P3N61eemr/gP530V0rfQJX4DmkBaEHtqprwtp49d05yCV5j5\n",
       "vf8AiY1vGMpx0EsAAAAASUVORK5CYII=\n",
       "\" style=\"display:inline;vertical-align:middle;\" /></a><br>"
      ],
      "text/plain": [
       "<IPython.core.display.HTML object>"
      ]
     },
     "metadata": {},
     "output_type": "display_data"
    }
   ],
   "source": [
    "disjunction_from_quantification = Forall(\n",
    "    (i, j), Forall(P, Implies(Exists(k, Pk, domain=Interval(i,j)), \n",
    "                              Or(ExprRange(k, Pk, i, j))),\n",
    "                   conditions=[LessEq(i, Add(j, one))]),\n",
    "    domain=Integer)"
   ]
  },
  {
   "cell_type": "code",
   "execution_count": 51,
   "metadata": {},
   "outputs": [
    {
     "data": {
      "text/html": [
       "<strong id=\"quantification_from_disjunction\"><a class=\"ProveItLink\" href=\"proofs/quantification_from_disjunction/thm_proof.ipynb\">quantification_from_disjunction</a> (conjecture without proof):<br></strong> <a class=\"ProveItLink\" href=\"../__pv_it/theorems/88142da7b004b39ed22be21d9f11ff98191677480/theorem_expr.ipynb\"><img src=\"data:image/png;base64,iVBORw0KGgoAAAANSUhEUgAAAlYAAAAZBAMAAAABGn28AAAAMFBMVEX///8AAAAAAAAAAAAAAAAA\n",
       "AAAAAAAAAAAAAAAAAAAAAAAAAAAAAAAAAAAAAAAAAAAv3aB7AAAAD3RSTlMAq1RmmUTNIjK7EInv\n",
       "3XZ/CtNrAAAACXBIWXMAAA7EAAAOxAGVKw4bAAAHdUlEQVRYw9VZb4xTRRCftu/a19dr7y6iAVTS\n",
       "RHKYnEKNiJIgVC4mgJFc4IsagR5gUIxSNCGCIAU/EYE7SZA/EnifSEDlyh8/IBpPCTHBf5UgGLHJ\n",
       "AZcQ0HBn5PibgDuzu+/t69terxwfYJK2u3uzszO/nZ2Z3QOoRA8Xs7rhUAvcxRQonrwzghLFYwCG\n",
       "bFSijH54JH55Ucz6h8DP4KPIbZgQcb+1QsODAiii6vsk67eLxu1hZeFwIunZAurN7mePktrhmq7q\n",
       "rTnjzpx957E6I35nS4gm8kY9/jzSL1YB/AmmPKNR7Daxz/lbHw+bb4PodUMiVTK/lMFL69hfzg70\n",
       "POy41vDJNFImz77MrTTTt6DAyigWi39VEygcRZl0a1tBikas4jY1nke2Bf1iZeCKYa+vL5e+BZcZ\n",
       "cEdl7xTAQooXKNzkDlPKoHrnkEWMMUxIDsev9f71lfE6JmEbMu8k6DJ85sLyflXGk8uQVBSlh9Mg\n",
       "RCNWiXpqrAJ5HstiZSLnUu/oC+xjIOzmTbYRN2WP0ViK/AhTNAc6BqSZstHDrA2RXuTnm/3rK+Nt\n",
       "TOoYlNwsE0xaLngHsHIURel1SWkLYmVdpwZuTSzZf7xCePd5R/vYp5bUuco+N2QPf8lL0IWXgJYB\n",
       "abSKFeBmQhw3TRMclfEeBn4PHr9O+cejzoJEWweDlaMoSp9jS1sopM8jrEKpCpEww9m9VpgIdCMF\n",
       "rl72uSp7qCa5D0I7GbQMfqxQE9owQ2ObMr4DPwyvoKPMPGdBojWDwUoqStK/dmwhrKZyB/u5WPyx\n",
       "Ala1LErmvXtQEOcQ6tr52cCe1c1kxyhbLBG+pWHwY7UXhO/EdQncHb/GDwoYqMye02ImX5Cfyfwg\n",
       "sJKKkvRWaJrGRRNW/3CspiiuWwYrIwdR21vrZaQ7MOnvHxNbHKth7huiTQ/kINEFWgY/VuOoORTg\n",
       "ok4BZ5zhFPkmKT0pXZviM2lBzHqMLg0CK6koSrf+C446zEUTVnP4YVwMEYaexdNcTosVY1hc4q+Y\n",
       "DQiBngcPPUVDrLfaYMxBgoPlgziH18fgx+oxarIs86fOBmc88e+h/VQExBkEiSyGX5wZ7HR5g3Md\n",
       "rIJYM6hYhfY7ZrqxBD6a5qgiFEXpwSszzAVcNGHVlqNG1I4xBWLcCf7g0x76dOoBtRbdCl+y75cv\n",
       "HWgQa4XR74/IGELEenYtk2L2Ai9DRgJoGeDFYvGnYvE3F6s2LjMbTGvrSjke7ZXpgylswRibzzR7\n",
       "FeadR0r86lmn0l0Ljplu4sjxAKAqitKNwzyH9wqsVrZQI9jlDe3rh22Ek/DVBRWr0fQdKkCsINZI\n",
       "S6wuK1CQ+uKYNcmizcfg96tXuU/kw9r7ijNel1GsYZCLmTWKX0XezJZgRbxokye3KNSolFeO9Pj8\n",
       "KSBEE1YdLSLDTVSnGsiUMkelVKzCVC8F0pDoVfwKz6B5Q/Jhr9VipnE44yYv2vwMfqwe5+3CGr01\n",
       "crxNRu44Ha1TYiYtKOLViWxpvFopbaqElaMoSu9IzskJ0dyv+BmEfax8qjlNZXR3Ulw4DMNzH4w1\n",
       "okm1SYjXK1htR236JB/rWX0x5n0co8QT/H7hZ/BjNZ63z96vt0aO98gbSxR3LtInZobcSrqm3Rfb\n",
       "x0f+FjY1SjNd2jPZxcpRFKVPsjuSXVw0j1dZ3ljO7N5ThzobwYzFV3v6UQ9Wke8IXDsyRObBdpGw\n",
       "w06w2IvH+12RchksJ4TWPgYPVt9mZfEB8AU/YxYeho6MaLjjsMgpuXCnQr3y+uCWM0v89dWIdz5f\n",
       "xm0aJ810Kc2AmgUliqL0B6Ajl+ei1TyI6R2W0THYHUvX0NmzuvLed4ah+DXh4hm5VAJjxDombMc1\n",
       "GS1ZD+5js+Ni93klqmFQsWr4tZWN/C6Ov8hax2VAPO4Zn3pruzwuBbldODPuXpA3++/OvyRNbpP5\n",
       "ujTTvY7aLIOFL5QoitI3QGK6zUUTVhPUN5ntok4NvbFlywaIxWzL9r3JNCjvKNd5EvGmFKIV5eoX\n",
       "lX20p9osVPtogukaUyrNXKF5IHPSVeTSFOA2rRrumOkSq/mCb+uku7YQRM8pWFnXyZC6rEkONeND\n",
       "iPmxOqzIOyJvrm75InrN5QxU2Wd60kmqWqzGQiA5yRYzm/t7vwq1z4pwm+C0Y6ZLV/iLSal0Sc3g\n",
       "uQ+KvJxJW3kqQaiGz6edY+xiFblS8s4AmzxL8F4/bxabyowvrfoxLpptSx4TM7ULOlgFutbFxL2k\n",
       "kczE1mdgcfjMTl16jEr3JNHKO4PwqxFZ83uCfilDPtQw4mCrD6vzN5TAiIUd7PIsscu7kJ92VYlh\n",
       "ebLaje4WMVO7YNi1O/AM2USgMDNJ+az5Aw+79TqsrHYVNIQoVF/yhhwkV7MObtk4gDfkAMbbiKcK\n",
       "5r1z/Txj6x+LE9nqX3k/cGeeq/yGzG3S1Fd49WssJ12IpnfRbAlWr4Rf6qzuvf3uJd0r0yzfyGtr\n",
       "y5eoDinv7S6ljG574P/HabrnsAr73Ho6uzebcytjNeD/47x1L/5/MKz7/+BqHed7FR5Liyz7GzY1\n",
       "/gekqhyymRf8NgAAAABJRU5ErkJggg==\n",
       "\" style=\"display:inline;vertical-align:middle;\" /></a><br>"
      ],
      "text/plain": [
       "<IPython.core.display.HTML object>"
      ]
     },
     "metadata": {},
     "output_type": "display_data"
    }
   ],
   "source": [
    "quantification_from_disjunction = Forall(\n",
    "    (i, j), Forall(P, Implies(Or(ExprRange(k, Pk, i, j)),\n",
    "                              Exists(k, Pk, domain=Interval(i,j)))),\n",
    "    domain=Integer)"
   ]
  },
  {
   "cell_type": "code",
   "execution_count": 52,
   "metadata": {},
   "outputs": [
    {
     "name": "stdout",
     "output_type": "stream",
     "text": [
      "These theorems may now be imported from the theory package: proveit.logic.booleans.disjunction\n"
     ]
    }
   ],
   "source": [
    "%end theorems"
   ]
  },
  {
   "cell_type": "code",
   "execution_count": null,
   "metadata": {},
   "outputs": [],
   "source": []
  }
 ],
 "metadata": {
  "kernelspec": {
   "display_name": "Python 3",
   "language": "python",
   "name": "python3"
  },
  "language_info": {
   "codemirror_mode": {
    "name": "ipython",
    "version": 3
   },
   "file_extension": ".py",
   "mimetype": "text/x-python",
   "name": "python",
   "nbconvert_exporter": "python",
   "pygments_lexer": "ipython3",
   "version": "3.7.3"
  }
 },
 "nbformat": 4,
 "nbformat_minor": 1
}
