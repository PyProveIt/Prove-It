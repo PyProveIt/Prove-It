{
 "cells": [
  {
   "cell_type": "markdown",
   "metadata": {},
   "source": [
    "Proof of <a class=\"ProveItLink\" href=\"../../../../../../_theory_nbs_/theory.ipynb\">proveit</a>.<a class=\"ProveItLink\" href=\"../../../../../_theory_nbs_/theory.ipynb\">logic</a>.<a class=\"ProveItLink\" href=\"../../../../_theory_nbs_/theory.ipynb\">booleans</a>.<a class=\"ProveItLink\" href=\"../../theory.ipynb\">disjunction</a>.<a class=\"ProveItLink\" href=\"../../theorems.ipynb#unary_or_lemma\">unary_or_lemma</a> theorem\n",
    "========"
   ]
  },
  {
   "cell_type": "code",
   "execution_count": 1,
   "metadata": {},
   "outputs": [],
   "source": [
    "import proveit\n",
    "from proveit.numbers import num\n",
    "from proveit import A, B, m\n",
    "from proveit.logic.booleans.disjunction  import multi_disjunction_def\n",
    "theory = proveit.Theory() # the theorem's theory"
   ]
  },
  {
   "cell_type": "code",
   "execution_count": 2,
   "metadata": {},
   "outputs": [
    {
     "data": {
      "text/html": [
       "Under these <a href=\"presumptions.txt\">presumptions</a>, we begin our proof of<br><strong id=\"unary_or_lemma\">unary_or_lemma:</strong> <a class=\"ProveItLink\" href=\"../../../__pv_it/theorems/bbb82ba46b9d0534face5960997acdba2ab9bea20/expr.ipynb\"><img src=\"data:image/png;base64,iVBORw0KGgoAAAANSUhEUgAAAOUAAAAVBAMAAABLdTQ8AAAAMFBMVEX///+IiIgiIiIQEBB2dnbu\n",
       "7u5ERETMzMzc3NwyMjK6urpmZmaYmJiqqqpUVFQAAAB6qHgnAAAAAXRSTlMAQObYZgAAAAlwSFlz\n",
       "AAAOxAAADsQBlSsOGwAAA1xJREFUSMeFlk1oE1EQxydpNtk02XZVEJEWQ0WKihKtIvQgQVREaF09\n",
       "FDwI8WAsFUnqwYtgUysFQW2FVooWjXjoRSFIQbQf1osgBYlaFFFoLyp4aRHRFtT65s3sdrObXR9k\n",
       "921m/+83M++9eQvg3/KwupG73FFtNndT/QZTPUTlLVCCw9YD9epJ3g9wr4Kg3nOoKwDVOonm8PmT\n",
       "14sz4GRqKdmPLgiHplzvk/VBpaHuil8diZ7i85AHUulHUo0huhGdmMfJMiuYMOgSkPU1PXzGS6fp\n",
       "zTJ6akjRRUxU2oMZm0JmXKQEwjlijpNlclFcpl2CcTvzOV5Om0PNi5mMF6UI0aGSB7OKMpqg6ZDM\n",
       "pDSELv9Cs+EUJO3MIM+7bIeO5MR1txTFRShRr+n8QMwWcZsgpkZjdAf+YKqcE8pWZmIoMQ5H1Tdg\n",
       "b5hEOxsadnkxR4kpYsRYkRmjJVTUfuOgc865SNmZGGPQtMAsOthKoscAp+Tfhps5TMyaHAR0YlJo\n",
       "1aXID3GLy7AeNWDbDiuBMxO+Aqzi7kPoQn9ekug6qNJdZQ/nZ+D2VnN+txEzMgdBg5jBEnmt/sVX\n",
       "kw4fyWoxxfrcxN0i9CHlLYnCRqggs48z1PmlA/TUtff8ZjPvyiH4yL0q+e7ascmfuH8WnGuuUMaM\n",
       "5rUi15YzY/O4ObpIpOm0hEZ2CP9FogUzdMLBnJE72GIqItHfMcVJf6aWinKpOwpQi6v/Pov65T4C\n",
       "/Y6sE8i8eqA8txCMpMGW25j4bcQxE475dOQWEuet1EIQWW9Y1CLLSQCegCJrgz7WlONXTzIp8KrA\n",
       "vbDOtQ1LWdxZS6TVxqz7RvfqKaqW8IJFPXIJjcAaacI4L6xnTSuTlM1mvcWVrqLH2by1NVYabx6L\n",
       "eYwrQg/6s0ibT4pqZFSj++eN+M1M5izOZ4g158zKPmEyIwlQsksGvFseEOkqOJjCiqlu4lSbFaFt\n",
       "eRC07JKAbbGLAgB9uUiK4gwFzLWfc50rjTbEJdeGbvQ/GtWEXSSmqLZExUEwzcMAa7KDOe2q6PY2\n",
       "7c/EM8MSxfaC8uwW9Iq4tBsDGauOtruY4ZWDvsJxFPb/DOitIFIOZjrK/mhzMZW0H0BJ+zLb/+uV\n",
       "PA5gn/U91ExHimVcV0HQ7fulk5eif3F9ykqVKlDMAAAAAElFTkSuQmCC\n",
       "\" style=\"display:inline;vertical-align:middle;\" /></a><br>(see <a class=\"ProveItLink\" href=\"../../../__pv_it/theorems/9c7e9f5526d692efc758eeb84ae79d7ff5222f320/dependencies.ipynb\">dependencies</a>)<br>"
      ],
      "text/plain": [
       "<IPython.core.display.HTML object>"
      ]
     },
     "metadata": {},
     "output_type": "display_data"
    }
   ],
   "source": [
    "%proving unary_or_lemma"
   ]
  },
  {
   "cell_type": "code",
   "execution_count": 3,
   "metadata": {},
   "outputs": [
    {
     "data": {
      "text/html": [
       "<span style=\"font-size:20px;\"> <a class=\"ProveItLink\" href=\"../../axioms.ipynb#multi_disjunction_def\" style=\"text-decoration: none\">&nbsp;&#x22A2;&nbsp;&nbsp;</a><a class=\"ProveItLink\" href=\"../../../__pv_it/axioms/3a12f2e98e109c481cfba1ef0427fed927129dd10/expr.ipynb\"><img src=\"data:image/png;base64,iVBORw0KGgoAAAANSUhEUgAAAhsAAAAzBAMAAADMadf8AAAAMFBMVEX///+IiIgiIiIQEBB2dnbu\n",
       "7u5ERETMzMzc3NwyMjK6urpmZmaYmJiqqqpUVFQAAAB6qHgnAAAAAXRSTlMAQObYZgAAAAlwSFlz\n",
       "AAAOxAAADsQBlSsOGwAAB+FJREFUaN7lW29sFEUUf3fX7W7vdttriAQjoZcaP6gYT4OCBJr7UBIN\n",
       "gR5I+SKRQ0NLYrAHNRo/SE9QIzGh/SCGKMoRYvADaBNKjPwtmmBQYi+mMUFNemCMQU17GEop/86Z\n",
       "3ZndnbmdvWvc3tYwSXdv3rzZnf3tvDdv3m8LUKa0t7fD3VGk9vZkWaVHizc9vGVtegbCsJGMrVhM\n",
       "lVV+yNNb/81WM9V8bOHNttJJoVYZjvoEUw3k9NNOgfbOqV1c6XNv3y9q0GI+wXGOrQ4bp30C7X1T\n",
       "u3hdQdBwtjg6+kEaAoOiniv9gUNZxBqt8Tq1ojV78LSVo+Aqt5Xf8WELqYwURE1PoitMAOwWjSs4\n",
       "6AscQfaBIsYoImOmVatRm7sVyW3lDD50ksqp64Im5QpAGC0I3wut5Qlf4PiGrYaM09Nt1nPGbC5D\n",
       "JLfja3MZNW9NCJpU1KAiSELCdfQjX+BYwFYvGO8u2pQzRSvQ30lwldtLDdKIEK03A7cFTfXIiuqQ\n",
       "ndYJnccXGR/gCIyz9QHDJmBkkFlMiJ8XyfnFJEh+92u3BE2hFEiX0EyryQu9cN4HOILccPbqx8PQ\n",
       "Yy2/9WgBIA5GJGfKHwCNxq9wTr4qaOrZ0HgZI6ti24k064UdijbuAxw9nC98xHir0IvGts4wczkP\n",
       "QWLhulxqHU1ycqZsA3iATibljqCpKQPaEvzQcWFgesUHOH7j6ot1C3rp+FgK5EZiCnvgF2JZujwC\n",
       "kRgr52Z5Rus3fs0+fuqaoOlF9IfdslwQDu0FH+BocYJjFUBDzIoMh9GDgyVvyCoTrJxbIhN1hheU\n",
       "kCn949wEeNYMofawcHbAUKbqcMi3wMFY0BsMxi04gnKK2gqWq0kChynnSuxVaisA96PQ4tvG/NxO\n",
       "tkm/71iW3MPRd8D6warDEbjOCTZgDzhoRNcUjsAPWcMzEjnUxBg5X+b+aZwP6UG99N0SNAfnsU34\n",
       "vvKk+9OG8lWHozbusFXYgRuuW3BIDxpnKqfbTSKX8GOt76MHgNXGScHX7sooq/pggizgtAnqUNsB\n",
       "HKBHEuKxxQgcOiy/usJRTqXCEuKx3wqwtrgbtK7JhLWrNIItU65sZOTwMDacfnqgkZbUNZmEn4rv\n",
       "Q31UjpMVywzCuu6MXt6sG1xWOLaaAoHjmOG33eAop1JhWd/PxyFph002V96Dd6cEeTqQUgqCHNN2\n",
       "cT/1BoFjG55qKVc4yqlUGnbwcZTaXxYOpfO1o1O5Ry+aH2qq37nxhIubv0LgqEsa8b0LHOVUKiwj\n",
       "JZfYZD32M1ejjm+7WCxM5R6fo3BDuei8VXN7o9JNAoeKXbi7Ky2nUmEZKpnDa6uZG4Rat1TkHbqy\n",
       "PN7cvKDMylJGpcLSVDIcJVpNOOa4NV6jcHwJsLEMHKaKfRZKzvri3HxbEmZueYrCsQsULkTbPpBV\n",
       "W+xwUBVpoU3rWUf/zaiA3DWwnCar4PRMhqOZwlGbrLGtx/K8jqyWXwZH7XBQlRp7gqXN0bkyKgBf\n",
       "A8yiv8dmMBo4wDfg0KJ2N3kcvXPtTAQSdjioysHHLMVwt6Ph21VQ+Qt50P8XHNB3Bv04sWVe4CxJ\n",
       "vmtvfBZl4NBVUIl+YtuB1DnmluwqqCwFab6LsWRgGqmnzFTkprHAChTPrzswGMoH8sbSp6WX/czC\n",
       "sULPyQfgK9tzR5xYHkYF57DPnzJdTFvJODDt5C31ZNcX0Uz7XV0p7ECv+e17oSGNtjiHDDgigRQD\n",
       "xw59JhzEfuAd4x2H04E4HL6P3wUctFyFfv0YPG+GiE0lvncYvKae7PolNJMb/dRiwlGPh3kRuiGY\n",
       "g3MdHR05LS0l+hg4dBUYaB1Lyj8acERaV45DXOJDRqxiq9b3g3JDGIZh2slj6smmT2gmezcX+ukm\n",
       "u8FfCLOhV4ZXjNkBh6OlG/wA2hKkacoyCsoEZOQ4bytIRT15/tiw8eihHIRN9mOEn0qYdvKYerLp\n",
       "E5rJ1s2FfpKuMnAoBTQ/zkbQkoqlWQjkS+FAhtSQw3BICT07g5bU2iyurDEOa4iKNhsWa8j3oHpv\n",
       "ElabxtLDT9IQeE09MfqEZrK6udBP5haOLJt5tIPfdQ/aQeI8xB6S42DgiLSAdPpDDIe8FI7k4bnJ\n",
       "LA5XUaU7Iy9Ch+4cUemU+nCuoTun7mtdvtm8ZQO/0bwAXlNPjD6hmaxuLvSTdts5G7amoyPrmg3D\n",
       "xqLRkSSjVgWAjiSmJYKqrU578kvRAHhNPTH6hGayuoXE9JORuJx6clCehdD+lLrxYsyqQJjMQSkf\n",
       "yNbPseqmL+STg3vBY+qJ1TdoJls3hn7ixlb4D7nSQceKymd3+DrHSepJPE+pJ3Id0wLibDcX+slI\n",
       "XFaXWLjNCRaDx9SToW/dsMB2c6GfeqNVh8ORdvKSeqLXMa03znZzoZ98oJ3giMhYPKKeqD7Zf9Hr\n",
       "0W4s/cSWS1B9OL7g4rAN4C31RPTp/os+He3mRj/5QVkHucBjJXhKPVF9uv+iNBO9nAv9pPrxQQO/\n",
       "tGwFL6knS5/sv0yaiQRhLvQT+fLE34+hMO00DdQT3X8JaaZSuS8fQ8EQGzZg2mkaqCe6/xLSTKXy\n",
       "l8EPOOo4o90E00E9mfsvwcOVysPjvsAhs5/Z6rm36aOeRDRTqTyY8wUOZNPse4pOJ/U0p2K5Tx9h\n",
       "85/oz5AS7qscjvme/nvPxzMRjtdJWNO+qjwcd8G/95DcKf73nn8BFBmnoMJh9jsAAAAASUVORK5C\n",
       "YII=\n",
       "\" style=\"display:inline;vertical-align:middle;\" /></a></span>"
      ],
      "text/plain": [
       "|- forall_{m in Natural} [forall_{A_{1}, A_{2}, ..., A_{m}, B} ((A_{1} or  A_{2} or  ... or  A_{m} or B) =  \\\\ ((A_{1} or  A_{2} or  ... or  A_{m}) or B))]"
      ]
     },
     "metadata": {},
     "output_type": "display_data"
    }
   ],
   "source": [
    "multi_disjunction_def"
   ]
  },
  {
   "cell_type": "code",
   "execution_count": 4,
   "metadata": {},
   "outputs": [
    {
     "data": {
      "text/html": [
       "<span style=\"font-size:20px;\"> <a class=\"ProveItLink\" href=\"../../../__pv_it/_proof_unary_or_lemma/181864b60f5110bec7935d632aa1eb9e4404ea310/proof.ipynb\" style=\"text-decoration: none\">&nbsp;&#x22A2;&nbsp;&nbsp;</a><a class=\"ProveItLink\" href=\"../../../__pv_it/_proof_unary_or_lemma/b6710d6a8c0143d4e4939493052f610e86ad39e60/expr.ipynb\"><img src=\"data:image/png;base64,iVBORw0KGgoAAAANSUhEUgAAAFAAAAAuBAMAAABNF4MvAAAAMFBMVEX///8QEBBmZmaqqqoyMjLc\n",
       "3NxERESYmJju7u5UVFS6urp2dnbMzMwiIiKIiIgAAAAAGtWAAAAAAXRSTlMAQObYZgAAAAlwSFlz\n",
       "AAAOxAAADsQBlSsOGwAAAlpJREFUOMvVlD1oFFEQgOd2b+82l9016UKqIylCEOEUsQkmaSQBi1wg\n",
       "2Ih6CHbiHSKCjVwR0ikpJQRyIUU6CQSLCJKrBAvNihYqERZEU6kBE0VUzpmd2b/n5fU+2Pdm3nzM\n",
       "vDc78+DzLvAQwYJoVCEzHivSB8YnAR5qQXMjlPP7AF5DAXuauDgBg/O8O4EgTCtgMcCl0GZwhHdH\n",
       "D3G6qYb2cZmT0H3hZu/F3zjnmgq4icswg+ZkuHnZ+0YHbSggeiOvBBp8l7L5g/wuKmBPG7yAQXZS\n",
       "qji/cCmG7k+8p/GWzM4iuE0G3QrZDLB+0jn61Dyeg1Mi5Vq092lo9DulbF8FxxBNgTae4w+d4B+P\n",
       "rlODVGgDv5cU2lfOCN6dloAFSv46fjN0mZrq0X4dSZQRiyLWq3Gu0qUwHEmOD3b9oAlnOufxHC1N\n",
       "9eymTJd0ZZYuhBEdWEjq2qrpQDuxFrK98CTumUEunNjyEf7DUdUZk/cAvMqRFPZIKYi1sXBe7wZS\n",
       "Ce1Fis19N87aA5peiMnsUBdFPWs00uBdmq5HphU8frEsWg7SoCsPVDgebbdxHhDtdAbsxZsZcjsr\n",
       "+ErSlIDHMyB5c6PIMEHH2hJ1KgPCMsAXEddgh3rhlqivsuAzgDciluEKvSknRR3MgvmqKdf0rg6t\n",
       "UHHudAfNjbz80vsAx6ixV7uHBv9pHBlcatyzot9QwL0lXksNfsnhthi2FPCepHuWuuYwyR885+el\n",
       "n56XMHuc7oXONJj1A8zPOwHdtr5aLV+E+KcfMYz4Ib+mBy/E0oIeTPxYgY7zoo76C/ocnGINeFw+\n",
       "AAAAAElFTkSuQmCC\n",
       "\" style=\"display:inline;vertical-align:middle;\" /></a></span>"
      ],
      "text/plain": [
       "|- [or](A) =  \\\\ (FALSE or A)"
      ]
     },
     "metadata": {},
     "output_type": "display_data"
    },
    {
     "name": "stdout",
     "output_type": "stream",
     "text": [
      "unary_or_lemma is now readily provable.  Simply execute \"%qed\".\n"
     ]
    }
   ],
   "source": [
    "multi_disjunction_def.instantiate({m:num(0), A:(), B:A})"
   ]
  },
  {
   "cell_type": "code",
   "execution_count": 6,
   "metadata": {},
   "outputs": [
    {
     "name": "stdout",
     "output_type": "stream",
     "text": [
      "proveit.logic.booleans.disjunction.unary_or_lemma has been proven.\n"
     ]
    },
    {
     "data": {
      "text/html": [
       "<table><tr><th>&nbsp;</th><th>step type</th><th>requirements</th><th>statement</th></tr>\n",
       "<tr><td><a name=\"0xc31dedb38c766c7_step0\">0</a></td><td>generalization</td><td><a href=\"#0xc31dedb38c766c7_step1\">1</a></td><td><span style=\"font-size:20px;\"> <a class=\"ProveItLink\" href=\"../../../__pv_it/_proof_unary_or_lemma/766446deb80646a53b58f27236831dd30d2ba2e80/proof.ipynb\" style=\"text-decoration: none\">&nbsp;&#x22A2;&nbsp;&nbsp;</a><a class=\"ProveItLink\" href=\"../../../__pv_it/theorems/bbb82ba46b9d0534face5960997acdba2ab9bea20/expr.ipynb\"><img src=\"data:image/png;base64,iVBORw0KGgoAAAANSUhEUgAAAOUAAAAVBAMAAABLdTQ8AAAAMFBMVEX///+IiIgiIiIQEBB2dnbu\n",
       "7u5ERETMzMzc3NwyMjK6urpmZmaYmJiqqqpUVFQAAAB6qHgnAAAAAXRSTlMAQObYZgAAAAlwSFlz\n",
       "AAAOxAAADsQBlSsOGwAAA1xJREFUSMeFlk1oE1EQxydpNtk02XZVEJEWQ0WKihKtIvQgQVREaF09\n",
       "FDwI8WAsFUnqwYtgUysFQW2FVooWjXjoRSFIQbQf1osgBYlaFFFoLyp4aRHRFtT65s3sdrObXR9k\n",
       "921m/+83M++9eQvg3/KwupG73FFtNndT/QZTPUTlLVCCw9YD9epJ3g9wr4Kg3nOoKwDVOonm8PmT\n",
       "14sz4GRqKdmPLgiHplzvk/VBpaHuil8diZ7i85AHUulHUo0huhGdmMfJMiuYMOgSkPU1PXzGS6fp\n",
       "zTJ6akjRRUxU2oMZm0JmXKQEwjlijpNlclFcpl2CcTvzOV5Om0PNi5mMF6UI0aGSB7OKMpqg6ZDM\n",
       "pDSELv9Cs+EUJO3MIM+7bIeO5MR1txTFRShRr+n8QMwWcZsgpkZjdAf+YKqcE8pWZmIoMQ5H1Tdg\n",
       "b5hEOxsadnkxR4kpYsRYkRmjJVTUfuOgc865SNmZGGPQtMAsOthKoscAp+Tfhps5TMyaHAR0YlJo\n",
       "1aXID3GLy7AeNWDbDiuBMxO+Aqzi7kPoQn9ekug6qNJdZQ/nZ+D2VnN+txEzMgdBg5jBEnmt/sVX\n",
       "kw4fyWoxxfrcxN0i9CHlLYnCRqggs48z1PmlA/TUtff8ZjPvyiH4yL0q+e7ascmfuH8WnGuuUMaM\n",
       "5rUi15YzY/O4ObpIpOm0hEZ2CP9FogUzdMLBnJE72GIqItHfMcVJf6aWinKpOwpQi6v/Pov65T4C\n",
       "/Y6sE8i8eqA8txCMpMGW25j4bcQxE475dOQWEuet1EIQWW9Y1CLLSQCegCJrgz7WlONXTzIp8KrA\n",
       "vbDOtQ1LWdxZS6TVxqz7RvfqKaqW8IJFPXIJjcAaacI4L6xnTSuTlM1mvcWVrqLH2by1NVYabx6L\n",
       "eYwrQg/6s0ibT4pqZFSj++eN+M1M5izOZ4g158zKPmEyIwlQsksGvFseEOkqOJjCiqlu4lSbFaFt\n",
       "eRC07JKAbbGLAgB9uUiK4gwFzLWfc50rjTbEJdeGbvQ/GtWEXSSmqLZExUEwzcMAa7KDOe2q6PY2\n",
       "7c/EM8MSxfaC8uwW9Iq4tBsDGauOtruY4ZWDvsJxFPb/DOitIFIOZjrK/mhzMZW0H0BJ+zLb/+uV\n",
       "PA5gn/U91ExHimVcV0HQ7fulk5eif3F9ykqVKlDMAAAAAElFTkSuQmCC\n",
       "\" style=\"display:inline;vertical-align:middle;\" /></a></span></td></tr>\n",
       "<tr><td><a name=\"0xc31dedb38c766c7_step1\">1</a></td><td>instantiation</td><td><a href=\"#0xc31dedb38c766c7_step2\">2</a>, <a href=\"#0xc31dedb38c766c7_step3\">3</a>, <a href=\"#0xc31dedb38c766c7_step4\">4</a>, <a href=\"#0xc31dedb38c766c7_step5\">5</a><sup>*</sup></td><td><span style=\"font-size:20px;\"> <a class=\"ProveItLink\" href=\"../../../__pv_it/_proof_unary_or_lemma/181864b60f5110bec7935d632aa1eb9e4404ea310/proof.ipynb\" style=\"text-decoration: none\">&nbsp;&#x22A2;&nbsp;&nbsp;</a><a class=\"ProveItLink\" href=\"../../../__pv_it/_proof_unary_or_lemma/b6710d6a8c0143d4e4939493052f610e86ad39e60/expr.ipynb\"><img src=\"data:image/png;base64,iVBORw0KGgoAAAANSUhEUgAAAFAAAAAuBAMAAABNF4MvAAAAMFBMVEX///8QEBBmZmaqqqoyMjLc\n",
       "3NxERESYmJju7u5UVFS6urp2dnbMzMwiIiKIiIgAAAAAGtWAAAAAAXRSTlMAQObYZgAAAAlwSFlz\n",
       "AAAOxAAADsQBlSsOGwAAAlpJREFUOMvVlD1oFFEQgOd2b+82l9016UKqIylCEOEUsQkmaSQBi1wg\n",
       "2Ih6CHbiHSKCjVwR0ikpJQRyIUU6CQSLCJKrBAvNihYqERZEU6kBE0VUzpmd2b/n5fU+2Pdm3nzM\n",
       "vDc78+DzLvAQwYJoVCEzHivSB8YnAR5qQXMjlPP7AF5DAXuauDgBg/O8O4EgTCtgMcCl0GZwhHdH\n",
       "D3G6qYb2cZmT0H3hZu/F3zjnmgq4icswg+ZkuHnZ+0YHbSggeiOvBBp8l7L5g/wuKmBPG7yAQXZS\n",
       "qji/cCmG7k+8p/GWzM4iuE0G3QrZDLB+0jn61Dyeg1Mi5Vq092lo9DulbF8FxxBNgTae4w+d4B+P\n",
       "rlODVGgDv5cU2lfOCN6dloAFSv46fjN0mZrq0X4dSZQRiyLWq3Gu0qUwHEmOD3b9oAlnOufxHC1N\n",
       "9eymTJd0ZZYuhBEdWEjq2qrpQDuxFrK98CTumUEunNjyEf7DUdUZk/cAvMqRFPZIKYi1sXBe7wZS\n",
       "Ce1Fis19N87aA5peiMnsUBdFPWs00uBdmq5HphU8frEsWg7SoCsPVDgebbdxHhDtdAbsxZsZcjsr\n",
       "+ErSlIDHMyB5c6PIMEHH2hJ1KgPCMsAXEddgh3rhlqivsuAzgDciluEKvSknRR3MgvmqKdf0rg6t\n",
       "UHHudAfNjbz80vsAx6ixV7uHBv9pHBlcatyzot9QwL0lXksNfsnhthi2FPCepHuWuuYwyR885+el\n",
       "n56XMHuc7oXONJj1A8zPOwHdtr5aLV+E+KcfMYz4Ib+mBy/E0oIeTPxYgY7zoo76C/ocnGINeFw+\n",
       "AAAAAElFTkSuQmCC\n",
       "\" style=\"display:inline;vertical-align:middle;\" /></a></span></td></tr>\n",
       "<tr><td>&nbsp;</td><td colspan=4 style=\"text-align:left\"><span style=\"font-size:20px;\"><a class=\"ProveItLink\" href=\"../../../../../../__pv_it/common/674a03b9c3ca221b3aabd5636837b31528ff33830/expr.ipynb\"><img src=\"data:image/png;base64,iVBORw0KGgoAAAANSUhEUgAAABIAAAAJBAMAAADN8WE8AAAAMFBMVEX///8yMjJmZmYiIiIQEBCq\n",
       "qqqYmJjMzMxERER2dnbc3Nzu7u5UVFSIiIi6uroAAACibcT0AAAAAXRSTlMAQObYZgAAAAlwSFlz\n",
       "AAAOxAAADsQBlSsOGwAAAF9JREFUCNdj4Luza24v+8w+BgZOjrMM+/MYQhgY3jE3MKy/wJDPwLBh\n",
       "/wOG+A0MigwMDPEMIMoTyDrIwGDJwPeLG8Tj/sfAI7CMges7A9sHBo4JExj4DBh4FRj4dBcAAHmM\n",
       "Fol5FJjkAAAAAElFTkSuQmCC\n",
       "\" style=\"display:inline;vertical-align:middle;\" /></a> : <a class=\"ProveItLink\" href=\"../../../../../../numbers/numerals/__pv_it/common/dd4e19e8b134dfb293470ea55fe3589b0ab9f8040/expr.ipynb\"><img src=\"data:image/png;base64,iVBORw0KGgoAAAANSUhEUgAAAAoAAAAOBAMAAADkjZCYAAAAMFBMVEX///8QEBC6urrMzMxUVFRE\n",
       "RESYmJgiIiLu7u6qqqoyMjLc3NxmZmaIiIh2dnYAAABcDckaAAAAAXRSTlMAQObYZgAAAAlwSFlz\n",
       "AAAOxAAADsQBlSsOGwAAAFdJREFUCNdjYOB7e5qBgWElQ/sGBrYCBr4ABlYHBs4fDPwHGJh/MvQD\n",
       "yW8M+x8wMP8Fk/8Y+h8wMP0FyXL+ZGANYGD7wcAmwMCzgIGhkqHRgIGh560zAwAM3BhN1L/+/wAA\n",
       "AABJRU5ErkJggg==\n",
       "\" style=\"display:inline;vertical-align:middle;\" /></a>, <a class=\"ProveItLink\" href=\"../../../../../../__pv_it/common/09585084922504426caf1db2ff588a23a0932a960/expr.ipynb\"><img src=\"data:image/png;base64,iVBORw0KGgoAAAANSUhEUgAAAA8AAAAPBAMAAADJ+Ih5AAAAMFBMVEX///8QEBAiIiLu7u5ERES6\n",
       "urqYmJiIiIjMzMx2dnZUVFRmZmaqqqoyMjLc3NwAAABb1yYoAAAAAXRSTlMAQObYZgAAAAlwSFlz\n",
       "AAAOxAAADsQBlSsOGwAAAF9JREFUCNdjYACBtwxQcB9K8/yHMrjXP4Aw5s1vANN8BfUHIDIM5xPA\n",
       "jBiG/glgxgaG9wtANLv37vUOIIY5AwO/AkSGgUkASLMCdfB+ADIeAjHLPwYGk/+XGXj8/04AADnq\n",
       "Fzds8Dk2AAAAAElFTkSuQmCC\n",
       "\" style=\"display:inline;vertical-align:middle;\" /></a> : <a class=\"ProveItLink\" href=\"../../../../../../core_expr_types/tuples/__pv_it/axioms/1a4193f1deeaf7a4a6b6289328d46189ae6a257f0/expr.ipynb\"><img src=\"data:image/png;base64,iVBORw0KGgoAAAANSUhEUgAAAAwAAAAVBAMAAACAghKHAAAAMFBMVEX////MzMxUVFRERES6uroi\n",
       "IiIQEBCYmJhmZmYyMjLu7u52dnaqqqqIiIjc3NwAAACW8nlqAAAAAXRSTlMAQObYZgAAAAlwSFlz\n",
       "AAAOxAAADsQBlSsOGwAAAHNJREFUCNdjYGB4wMcABLwHWC4AqdMMDNcZGLgmMDBwLmDgKGBgYG9g\n",
       "YAPJZzGcBFHTGbpB1CYgAwgqGWJA1DGGFBAlD6HcIIJHGWxBVDFQLRB0M4iCqBAGVgEGBr4AkLFg\n",
       "4+0YGB4DxReDWQx8F3gfMAAAcpEVlky+VaAAAAAASUVORK5CYII=\n",
       "\" style=\"display:inline;vertical-align:middle;\" /></a>, <a class=\"ProveItLink\" href=\"../../../../../../__pv_it/common/a9162d1c3cc0470c02e5daf414500903a7a419230/expr.ipynb\"><img src=\"data:image/png;base64,iVBORw0KGgoAAAANSUhEUgAAABAAAAAOBAMAAADUAYG5AAAAMFBMVEX///92dnaqqqoiIiLu7u5m\n",
       "Zma6urqIiIjc3NwQEBDMzMwyMjJUVFRERESYmJgAAAAeMT9/AAAAAXRSTlMAQObYZgAAAAlwSFlz\n",
       "AAAOxAAADsQBlSsOGwAAAHJJREFUCNdjYGB4+//Mmb0LGIBgLgMDzy8gzfGdgYHtK5DBB+TxATkM\n",
       "PB8YGLhnABmcFxhYDoMUr79efvoBSFN9AwPTPBDjJhDLg6T+APH7AgYGrn9AxvkEBgb2H0DObyCH\n",
       "ewIDQ+YWoHH3/5w5fYmBAQBWoiHo17XzsQAAAABJRU5ErkJggg==\n",
       "\" style=\"display:inline;vertical-align:middle;\" /></a> : <a class=\"ProveItLink\" href=\"../../../../../../__pv_it/common/09585084922504426caf1db2ff588a23a0932a960/expr.ipynb\"><img src=\"data:image/png;base64,iVBORw0KGgoAAAANSUhEUgAAAA8AAAAPBAMAAADJ+Ih5AAAAMFBMVEX///8QEBAiIiLu7u5ERES6\n",
       "urqYmJiIiIjMzMx2dnZUVFRmZmaqqqoyMjLc3NwAAABb1yYoAAAAAXRSTlMAQObYZgAAAAlwSFlz\n",
       "AAAOxAAADsQBlSsOGwAAAF9JREFUCNdjYACBtwxQcB9K8/yHMrjXP4Aw5s1vANN8BfUHIDIM5xPA\n",
       "jBiG/glgxgaG9wtANLv37vUOIIY5AwO/AkSGgUkASLMCdfB+ADIeAjHLPwYGk/+XGXj8/04AADnq\n",
       "Fzds8Dk2AAAAAElFTkSuQmCC\n",
       "\" style=\"display:inline;vertical-align:middle;\" /></a></span></td></tr><tr><td><a name=\"0xc31dedb38c766c7_step2\">2</a></td><td>axiom</td><td></td><td><span style=\"font-size:20px;\"> <a class=\"ProveItLink\" href=\"../../axioms.ipynb#multi_disjunction_def\" style=\"text-decoration: none\">&nbsp;&#x22A2;&nbsp;&nbsp;</a><a class=\"ProveItLink\" href=\"../../../__pv_it/axioms/3a12f2e98e109c481cfba1ef0427fed927129dd10/expr.ipynb\"><img src=\"data:image/png;base64,iVBORw0KGgoAAAANSUhEUgAAAhsAAAAzBAMAAADMadf8AAAAMFBMVEX///+IiIgiIiIQEBB2dnbu\n",
       "7u5ERETMzMzc3NwyMjK6urpmZmaYmJiqqqpUVFQAAAB6qHgnAAAAAXRSTlMAQObYZgAAAAlwSFlz\n",
       "AAAOxAAADsQBlSsOGwAAB+FJREFUaN7lW29sFEUUf3fX7W7vdttriAQjoZcaP6gYT4OCBJr7UBIN\n",
       "gR5I+SKRQ0NLYrAHNRo/SE9QIzGh/SCGKMoRYvADaBNKjPwtmmBQYi+mMUFNemCMQU17GEop/86Z\n",
       "3ZndnbmdvWvc3tYwSXdv3rzZnf3tvDdv3m8LUKa0t7fD3VGk9vZkWaVHizc9vGVtegbCsJGMrVhM\n",
       "lVV+yNNb/81WM9V8bOHNttJJoVYZjvoEUw3k9NNOgfbOqV1c6XNv3y9q0GI+wXGOrQ4bp30C7X1T\n",
       "u3hdQdBwtjg6+kEaAoOiniv9gUNZxBqt8Tq1ojV78LSVo+Aqt5Xf8WELqYwURE1PoitMAOwWjSs4\n",
       "6AscQfaBIsYoImOmVatRm7sVyW3lDD50ksqp64Im5QpAGC0I3wut5Qlf4PiGrYaM09Nt1nPGbC5D\n",
       "JLfja3MZNW9NCJpU1KAiSELCdfQjX+BYwFYvGO8u2pQzRSvQ30lwldtLDdKIEK03A7cFTfXIiuqQ\n",
       "ndYJnccXGR/gCIyz9QHDJmBkkFlMiJ8XyfnFJEh+92u3BE2hFEiX0EyryQu9cN4HOILccPbqx8PQ\n",
       "Yy2/9WgBIA5GJGfKHwCNxq9wTr4qaOrZ0HgZI6ti24k064UdijbuAxw9nC98xHir0IvGts4wczkP\n",
       "QWLhulxqHU1ycqZsA3iATibljqCpKQPaEvzQcWFgesUHOH7j6ot1C3rp+FgK5EZiCnvgF2JZujwC\n",
       "kRgr52Z5Rus3fs0+fuqaoOlF9IfdslwQDu0FH+BocYJjFUBDzIoMh9GDgyVvyCoTrJxbIhN1hheU\n",
       "kCn949wEeNYMofawcHbAUKbqcMi3wMFY0BsMxi04gnKK2gqWq0kChynnSuxVaisA96PQ4tvG/NxO\n",
       "tkm/71iW3MPRd8D6warDEbjOCTZgDzhoRNcUjsAPWcMzEjnUxBg5X+b+aZwP6UG99N0SNAfnsU34\n",
       "vvKk+9OG8lWHozbusFXYgRuuW3BIDxpnKqfbTSKX8GOt76MHgNXGScHX7sooq/pggizgtAnqUNsB\n",
       "HKBHEuKxxQgcOiy/usJRTqXCEuKx3wqwtrgbtK7JhLWrNIItU65sZOTwMDacfnqgkZbUNZmEn4rv\n",
       "Q31UjpMVywzCuu6MXt6sG1xWOLaaAoHjmOG33eAop1JhWd/PxyFph002V96Dd6cEeTqQUgqCHNN2\n",
       "cT/1BoFjG55qKVc4yqlUGnbwcZTaXxYOpfO1o1O5Ry+aH2qq37nxhIubv0LgqEsa8b0LHOVUKiwj\n",
       "JZfYZD32M1ejjm+7WCxM5R6fo3BDuei8VXN7o9JNAoeKXbi7Ky2nUmEZKpnDa6uZG4Rat1TkHbqy\n",
       "PN7cvKDMylJGpcLSVDIcJVpNOOa4NV6jcHwJsLEMHKaKfRZKzvri3HxbEmZueYrCsQsULkTbPpBV\n",
       "W+xwUBVpoU3rWUf/zaiA3DWwnCar4PRMhqOZwlGbrLGtx/K8jqyWXwZH7XBQlRp7gqXN0bkyKgBf\n",
       "A8yiv8dmMBo4wDfg0KJ2N3kcvXPtTAQSdjioysHHLMVwt6Ph21VQ+Qt50P8XHNB3Bv04sWVe4CxJ\n",
       "vmtvfBZl4NBVUIl+YtuB1DnmluwqqCwFab6LsWRgGqmnzFTkprHAChTPrzswGMoH8sbSp6WX/czC\n",
       "sULPyQfgK9tzR5xYHkYF57DPnzJdTFvJODDt5C31ZNcX0Uz7XV0p7ECv+e17oSGNtjiHDDgigRQD\n",
       "xw59JhzEfuAd4x2H04E4HL6P3wUctFyFfv0YPG+GiE0lvncYvKae7PolNJMb/dRiwlGPh3kRuiGY\n",
       "g3MdHR05LS0l+hg4dBUYaB1Lyj8acERaV45DXOJDRqxiq9b3g3JDGIZh2slj6smmT2gmezcX+ukm\n",
       "u8FfCLOhV4ZXjNkBh6OlG/wA2hKkacoyCsoEZOQ4bytIRT15/tiw8eihHIRN9mOEn0qYdvKYerLp\n",
       "E5rJ1s2FfpKuMnAoBTQ/zkbQkoqlWQjkS+FAhtSQw3BICT07g5bU2iyurDEOa4iKNhsWa8j3oHpv\n",
       "ElabxtLDT9IQeE09MfqEZrK6udBP5haOLJt5tIPfdQ/aQeI8xB6S42DgiLSAdPpDDIe8FI7k4bnJ\n",
       "LA5XUaU7Iy9Ch+4cUemU+nCuoTun7mtdvtm8ZQO/0bwAXlNPjD6hmaxuLvSTdts5G7amoyPrmg3D\n",
       "xqLRkSSjVgWAjiSmJYKqrU578kvRAHhNPTH6hGayuoXE9JORuJx6clCehdD+lLrxYsyqQJjMQSkf\n",
       "yNbPseqmL+STg3vBY+qJ1TdoJls3hn7ixlb4D7nSQceKymd3+DrHSepJPE+pJ3Id0wLibDcX+slI\n",
       "XFaXWLjNCRaDx9SToW/dsMB2c6GfeqNVh8ORdvKSeqLXMa03znZzoZ98oJ3giMhYPKKeqD7Zf9Hr\n",
       "0W4s/cSWS1B9OL7g4rAN4C31RPTp/os+He3mRj/5QVkHucBjJXhKPVF9uv+iNBO9nAv9pPrxQQO/\n",
       "tGwFL6knS5/sv0yaiQRhLvQT+fLE34+hMO00DdQT3X8JaaZSuS8fQ8EQGzZg2mkaqCe6/xLSTKXy\n",
       "l8EPOOo4o90E00E9mfsvwcOVysPjvsAhs5/Z6rm36aOeRDRTqTyY8wUOZNPse4pOJ/U0p2K5Tx9h\n",
       "85/oz5AS7qscjvme/nvPxzMRjtdJWNO+qjwcd8G/95DcKf73nn8BFBmnoMJh9jsAAAAASUVORK5C\n",
       "YII=\n",
       "\" style=\"display:inline;vertical-align:middle;\" /></a></span></td></tr>\n",
       "<tr><td>&nbsp;</td><td colspan=4 style-\"text-align:left\"><a class=\"ProveItLink\" href=\"../../axioms.ipynb#multi_disjunction_def\">proveit.logic.booleans.disjunction.multi_disjunction_def</a></td></tr><tr><td><a name=\"0xc31dedb38c766c7_step3\">3</a></td><td>axiom</td><td></td><td><span style=\"font-size:20px;\"> <a class=\"ProveItLink\" href=\"../../../../../../numbers/number_sets/natural_numbers/_theory_nbs_/axioms.ipynb#zero_in_nats\" style=\"text-decoration: none\">&nbsp;&#x22A2;&nbsp;&nbsp;</a><a class=\"ProveItLink\" href=\"../../../../../../numbers/number_sets/natural_numbers/__pv_it/axioms/6bc27fa16ea1c04bf3d4c776d5c721085150bfa20/expr.ipynb\"><img src=\"data:image/png;base64,iVBORw0KGgoAAAANSUhEUgAAADMAAAAQBAMAAABJt1qBAAAAMFBMVEX///8QEBC6urrMzMxUVFRE\n",
       "RESYmJgiIiLu7u6qqqoyMjLc3NxmZmaIiIh2dnYAAABcDckaAAAAAXRSTlMAQObYZgAAAAlwSFlz\n",
       "AAAOxAAADsQBlSsOGwAAAPVJREFUGNNjYMAA7V+jGhgeflRgYOB7expNLpLJgYHjA5CxkqF9A6qU\n",
       "+4ZnDAwCDAxsBQx8AahSngFcGxgKGBhYHRg4f4BFeMPLq8AM71zuBSAp/gMMzD9BAkxrG6C6vFkM\n",
       "7oGk+oFS30ACu2AyDN4MAawKQKn9DxiY/4IEVjMgpGw4KqBS/0ACC5Ck2CZMBbqw/wEDE0gXs3h5\n",
       "eXkpVIrBg0UA7AxOkDM4ApB0MbRwgBwfwMAGdnwBshTzBaBKNgEGHrA1d+FSwUB8GWRIJUOjAUiA\n",
       "awJMaiUQg5X3vHUGC3C4akBkrD4CdXAsQA46pqfQgIICADZGPXhRravGAAAAAElFTkSuQmCC\n",
       "\" style=\"display:inline;vertical-align:middle;\" /></a></span></td></tr>\n",
       "<tr><td>&nbsp;</td><td colspan=4 style-\"text-align:left\"><a class=\"ProveItLink\" href=\"../../../../../../numbers/number_sets/natural_numbers/_theory_nbs_/axioms.ipynb#zero_in_nats\">proveit.numbers.number_sets.natural_numbers.zero_in_nats</a></td></tr><tr><td><a name=\"0xc31dedb38c766c7_step4\">4</a></td><td>conjecture</td><td></td><td><span style=\"font-size:20px;\"> <a class=\"ProveItLink\" href=\"../../../../../../core_expr_types/tuples/_theory_nbs_/proofs/tuple_len_0_typical_eq/thm_proof.ipynb\" style=\"text-decoration: none\">&nbsp;&#x22A2;&nbsp;&nbsp;</a><a class=\"ProveItLink\" href=\"../../../../../../core_expr_types/tuples/__pv_it/theorems/e4227b9c4c4eee791197a50fb372df0303979ecf0/expr.ipynb\"><img src=\"data:image/png;base64,iVBORw0KGgoAAAANSUhEUgAAAK0AAAAVBAMAAADGGHNoAAAAMFBMVEX///9UVFREREQiIiIQEBCY\n",
       "mJhmZmYyMjLu7u6qqqrMzMyIiIi6urp2dnbc3NwAAABm9RoHAAAAAXRSTlMAQObYZgAAAAlwSFlz\n",
       "AAAOxAAADsQBlSsOGwAAAh5JREFUOMuV1b9LHEEUB/Cv7v2YvfWWg2irZ9pAEISQBIlXpAhB8FDR\n",
       "MsHgWR0cAcFykyZFiixESBpRyB/gWiSghVxhZ+FqrXBoaWPlBdSYeTu7c7u3vpB7xdybd7ef2Z2d\n",
       "mUMLMlp20KIrVMFGD6EvOZEfljvgQaWJUIWdXtyDoC02g2vXgZ+sa/pA4WlYsWvvN1nz9FcLVrXj\n",
       "igaQdzj3E/Bh+XdYOUPxhmPzrngBrHbcnBwj+5Zzl2iiIncYeMm5s8AxMN9xM5S+4txK3J12MNJi\n",
       "3FFgw0HG0e43qq4wrtmIuw+AEW6Cr4AtF/mqdutUPWLcnB93ZUwyrCC3imJJuytUXgjd3HgQpcgN\n",
       "xo+5hWvGtW+l6yHb0O4zKq8x92u4Sdco/cv1YVa0O0XlLcbNNJPuIrcchHQPPRQuk+7+/7nZErst\n",
       "5PxuuBioJOfhKzO/XfOwDptbZw+BNw7MMe0+ouoMc7/9XuiK4K35sByRNmnRzgHL8oHK2j2ib+qM\n",
       "q9bNH+ALvejzWu1dkIk2wkb3DFe8Dtelcn+QMcG4BflcfYPtIRh09kze3bVV9gRhY8gTAOPyhkV9\n",
       "W24Zo6ldQ3btMW4fP49635HOojCdKDvvnA905tDZc787H/V8pLMoijpbip2/j+kA5Nz+8P0LT69U\n",
       "L+V+1rujHHM/BjTjirLqWLpspdeDHkndhXR3aRDPou5u969V4aKX/6E9NfLmXztat0PHQsIzAAAA\n",
       "AElFTkSuQmCC\n",
       "\" style=\"display:inline;vertical-align:middle;\" /></a></span></td></tr>\n",
       "<tr><td>&nbsp;</td><td colspan=4 style-\"text-align:left\"><a class=\"ProveItLink\" href=\"../../../../../../core_expr_types/tuples/_theory_nbs_/proofs/tuple_len_0_typical_eq/thm_proof.ipynb\">proveit.core_expr_types.tuples.tuple_len_0_typical_eq</a></td></tr><tr><td><a name=\"0xc31dedb38c766c7_step5\">5</a></td><td>theorem</td><td></td><td><span style=\"font-size:20px;\"> <a class=\"ProveItLink\" href=\"../empty_disjunction_eval/thm_proof.ipynb\" style=\"text-decoration: none\">&nbsp;&#x22A2;&nbsp;&nbsp;</a><a class=\"ProveItLink\" href=\"../../../__pv_it/theorems/4520f76c9e36d93f8e46113c31c98d274bdc8bb30/expr.ipynb\"><img src=\"data:image/png;base64,iVBORw0KGgoAAAANSUhEUgAAAFYAAAAVBAMAAAAutAQGAAAAMFBMVEX///8QEBBmZmaqqqoyMjLc\n",
       "3NxERESYmJju7u5UVFS6urp2dnbMzMwiIiKIiIgAAAAAGtWAAAAAAXRSTlMAQObYZgAAAAlwSFlz\n",
       "AAAOxAAADsQBlSsOGwAAAQRJREFUKM9jeHuHAQKgDFaGAAZcYBca6zHDOmLVMm9g4CvAomw5RAVn\n",
       "A5DieQBR2wLEHljU2kHUsj8AUmwHIGrVgbgIt1qGC0AqBOoGASBmbMCtdjOQUoaoZXYAEiwFuNUC\n",
       "zQSZDVLLtAFIcE/ArZbzAAPfA4hasJHsIMMZdO+CwE00tTwTGHgbIGp5DUAOEcBtLoMrgxGUxbgA\n",
       "FH4f8Ki1BqpGUsuFz1xengQGZDdcwO1eBr7KBVAWGyhe2BPwmMtxBcYCBxc44HCpBcUEhMUDsp53\n",
       "AZpCoHMEQc5BS2egRBxLZJosgqYfYtSyBTCwJhCpliMBpBwH2AvPb1JgKo7hKS6lAGOeVYKOIXas\n",
       "AAAAAElFTkSuQmCC\n",
       "\" style=\"display:inline;vertical-align:middle;\" /></a></span></td></tr>\n",
       "<tr><td>&nbsp;</td><td colspan=4 style-\"text-align:left\"><a class=\"ProveItLink\" href=\"../empty_disjunction_eval/thm_proof.ipynb\">proveit.logic.booleans.disjunction.empty_disjunction_eval</a></td></tr><tr><td colspan=4 style=\"text-align:left\"><sup>*</sup>equality replacement requirements</td></tr></table>"
      ],
      "text/plain": [
       "\tstep type\trequirements\tstatement\n",
       "0\tgeneralization\t1\t|- forall_{A in BOOLEAN} ([or](A) = (FALSE or A))\n",
       "1\tinstantiation\t2, 3, 4, 5*\t|- [or](A) =  \\\\ (FALSE or A)\n",
       "\tm : 0, A : (), B : A\n",
       "2\taxiom\t\t|- forall_{m in Natural} [forall_{A_{1}, A_{2}, ..., A_{m}, B} ((A_{1} or  A_{2} or  ... or  A_{m} or B) =  \\\\ ((A_{1} or  A_{2} or  ... or  A_{m}) or B))]\n",
       "\tproveit.logic.booleans.disjunction.multi_disjunction_def\n",
       "3\taxiom\t\t|- 0 in Natural\n",
       "\tproveit.numbers.number_sets.natural_numbers.zero_in_nats\n",
       "4\tconjecture\t\t|- |()| = |(1, 2, ..., 0)|\n",
       "\tproveit.core_expr_types.tuples.tuple_len_0_typical_eq\n",
       "5\ttheorem\t\t|- [or]() = FALSE\n",
       "\tproveit.logic.booleans.disjunction.empty_disjunction_eval"
      ]
     },
     "execution_count": 6,
     "metadata": {},
     "output_type": "execute_result"
    }
   ],
   "source": [
    "%qed"
   ]
  },
  {
   "cell_type": "code",
   "execution_count": null,
   "metadata": {},
   "outputs": [],
   "source": []
  }
 ],
 "metadata": {
  "kernelspec": {
   "display_name": "Python 3",
   "language": "python",
   "name": "python3"
  },
  "language_info": {
   "codemirror_mode": {
    "name": "ipython",
    "version": 3
   },
   "file_extension": ".py",
   "mimetype": "text/x-python",
   "name": "python",
   "nbconvert_exporter": "python",
   "pygments_lexer": "ipython3",
   "version": "3.7.3"
  }
 },
 "nbformat": 4,
 "nbformat_minor": 1
}
