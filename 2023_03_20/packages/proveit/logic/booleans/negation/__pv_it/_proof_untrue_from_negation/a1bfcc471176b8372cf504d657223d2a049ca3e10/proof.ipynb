{
 "cells": [
  {
   "cell_type": "markdown",
   "metadata": {},
   "source": [
    "Show the Proof\n",
    "========"
   ]
  },
  {
   "cell_type": "code",
   "execution_count": 1,
   "metadata": {},
   "outputs": [
    {
     "data": {
      "text/html": [
       "<table><tr><th>&nbsp;</th><th>step type</th><th>requirements</th><th>statement</th></tr>\n",
       "<tr><td><a name=\"proveit.logic.booleans.negation._proof_untrue_from_negation.a1bfcc471176b8372cf504d657223d2a049ca3e10_step0\">0</a></td><td>generalization</td><td><a href=\"#proveit.logic.booleans.negation._proof_untrue_from_negation.a1bfcc471176b8372cf504d657223d2a049ca3e10_step1\">1</a></td><td><span style=\"font-size:20px;\"> <a class=\"ProveItLink\" href=\"proof.ipynb\" style=\"text-decoration: none\">&nbsp;&#x22A2;&nbsp;&nbsp;</a><a class=\"ProveItLink\" href=\"../../theorems/71775e9ea2936cde79b52fcfd4a63545d59edf330/expr.ipynb\"><img src=\"../../theorems/71775e9ea2936cde79b52fcfd4a63545d59edf330/expr.png\" style=\"display:inline;vertical-align:middle;\" /></a></span></td></tr>\n",
       "<tr><td><a name=\"proveit.logic.booleans.negation._proof_untrue_from_negation.a1bfcc471176b8372cf504d657223d2a049ca3e10_step1\">1</a></td><td>instantiation</td><td><a href=\"#proveit.logic.booleans.negation._proof_untrue_from_negation.a1bfcc471176b8372cf504d657223d2a049ca3e10_step2\">2</a>, <a href=\"#proveit.logic.booleans.negation._proof_untrue_from_negation.a1bfcc471176b8372cf504d657223d2a049ca3e10_step3\">3</a>, <a href=\"#proveit.logic.booleans.negation._proof_untrue_from_negation.a1bfcc471176b8372cf504d657223d2a049ca3e10_step4\">4</a></td><td><span style=\"font-size:20px;\"><a class=\"ProveItLink\" href=\"../../theorems/2d607b2877f5542a9baeaa9f0a7ccbda21f95e660/expr.ipynb\"><img src=\"../../theorems/2d607b2877f5542a9baeaa9f0a7ccbda21f95e660/expr.png\" style=\"display:inline;vertical-align:middle;\" /></a> <a class=\"ProveItLink\" href=\"../194390ade2df507b9e18e8b046a1add65d522ae50/proof.ipynb\" style=\"text-decoration: none\">&nbsp;&#x22A2;&nbsp;&nbsp;</a><a class=\"ProveItLink\" href=\"../../theorems/27dadc34853560439593f08a214d3738ebdad7f10/expr.ipynb\"><img src=\"../../theorems/27dadc34853560439593f08a214d3738ebdad7f10/expr.png\" style=\"display:inline;vertical-align:middle;\" /></a></span></td></tr>\n",
       "<tr><td>&nbsp;</td><td colspan=4 style=\"text-align:left\"><span style=\"font-size:20px;\"><a class=\"ProveItLink\" href=\"../1d99392da58b40374b949787020ddefb47f454cd0/expr.ipynb\"><img src=\"../1d99392da58b40374b949787020ddefb47f454cd0/expr.png\" style=\"display:inline;vertical-align:middle;\" /></a> : <a class=\"ProveItLink\" href=\"../ec08e777f26516e8a4b4b69886b97d237069ed4a0/expr.ipynb\"><img src=\"../ec08e777f26516e8a4b4b69886b97d237069ed4a0/expr.png\" style=\"display:inline;vertical-align:middle;\" /></a>, <a class=\"ProveItLink\" href=\"../../../../../../__pv_it/common/a0d9d672aa5e272d907247690c152cc2c6daafb70/expr.ipynb\"><img src=\"../../../../../../__pv_it/common/a0d9d672aa5e272d907247690c152cc2c6daafb70/expr.png\" style=\"display:inline;vertical-align:middle;\" /></a> : <a class=\"ProveItLink\" href=\"../../../../../../__pv_it/common/09585084922504426caf1db2ff588a23a0932a960/expr.ipynb\"><img src=\"../../../../../../__pv_it/common/09585084922504426caf1db2ff588a23a0932a960/expr.png\" style=\"display:inline;vertical-align:middle;\" /></a>, <a class=\"ProveItLink\" href=\"../../../../../../__pv_it/common/ff7dba4ef0bbe791ab573bf2d9c220a304399ac80/expr.ipynb\"><img src=\"../../../../../../__pv_it/common/ff7dba4ef0bbe791ab573bf2d9c220a304399ac80/expr.png\" style=\"display:inline;vertical-align:middle;\" /></a> : <a class=\"ProveItLink\" href=\"../../../../__pv_it/common/e0f123f2e4f322e1eba7f861749cda9fd9d99a120/expr.ipynb\"><img src=\"../../../../__pv_it/common/e0f123f2e4f322e1eba7f861749cda9fd9d99a120/expr.png\" style=\"display:inline;vertical-align:middle;\" /></a></span></td></tr><tr><td><a name=\"proveit.logic.booleans.negation._proof_untrue_from_negation.a1bfcc471176b8372cf504d657223d2a049ca3e10_step2\">2</a></td><td>theorem</td><td></td><td><span style=\"font-size:20px;\"> <a class=\"ProveItLink\" href=\"../../../../../equality/_theory_nbs_/proofs/sub_left_side_into/thm_proof.ipynb\" style=\"text-decoration: none\">&nbsp;&#x22A2;&nbsp;&nbsp;</a><a class=\"ProveItLink\" href=\"../../../../../equality/__pv_it/theorems/fa7b338ac0e02abe373a31648947826ee50d3a400/expr.ipynb\"><img src=\"../../../../../equality/__pv_it/theorems/fa7b338ac0e02abe373a31648947826ee50d3a400/expr.png\" style=\"display:inline;vertical-align:middle;\" /></a></span></td></tr>\n",
       "<tr><td>&nbsp;</td><td colspan=4 style-\"text-align:left\"><a class=\"ProveItLink\" href=\"../../../../../equality/_theory_nbs_/proofs/sub_left_side_into/thm_proof.ipynb\">proveit.logic.equality.sub_left_side_into</a></td></tr><tr><td><a name=\"proveit.logic.booleans.negation._proof_untrue_from_negation.a1bfcc471176b8372cf504d657223d2a049ca3e10_step3\">3</a></td><td>axiom</td><td></td><td><span style=\"font-size:20px;\"> <a class=\"ProveItLink\" href=\"../../../../_theory_nbs_/axioms.ipynb#false_not_true\" style=\"text-decoration: none\">&nbsp;&#x22A2;&nbsp;&nbsp;</a><a class=\"ProveItLink\" href=\"../../../../__pv_it/axioms/eb8cfde2511c6ba3e5c8a65a4e82d309baeb3e560/expr.ipynb\"><img src=\"../../../../__pv_it/axioms/eb8cfde2511c6ba3e5c8a65a4e82d309baeb3e560/expr.png\" style=\"display:inline;vertical-align:middle;\" /></a></span></td></tr>\n",
       "<tr><td>&nbsp;</td><td colspan=4 style-\"text-align:left\"><a class=\"ProveItLink\" href=\"../../../../_theory_nbs_/axioms.ipynb#false_not_true\">proveit.logic.booleans.false_not_true</a></td></tr><tr><td><a name=\"proveit.logic.booleans.negation._proof_untrue_from_negation.a1bfcc471176b8372cf504d657223d2a049ca3e10_step4\">4</a></td><td>instantiation</td><td><a href=\"#proveit.logic.booleans.negation._proof_untrue_from_negation.a1bfcc471176b8372cf504d657223d2a049ca3e10_step5\">5</a>, <a href=\"#proveit.logic.booleans.negation._proof_untrue_from_negation.a1bfcc471176b8372cf504d657223d2a049ca3e10_step6\">6</a></td><td><span style=\"font-size:20px;\"><a class=\"ProveItLink\" href=\"../../theorems/2d607b2877f5542a9baeaa9f0a7ccbda21f95e660/expr.ipynb\"><img src=\"../../theorems/2d607b2877f5542a9baeaa9f0a7ccbda21f95e660/expr.png\" style=\"display:inline;vertical-align:middle;\" /></a> <a class=\"ProveItLink\" href=\"../d534bebcc1e2001d043991854a8d1ef5ea0557b60/proof.ipynb\" style=\"text-decoration: none\">&nbsp;&#x22A2;&nbsp;&nbsp;</a><a class=\"ProveItLink\" href=\"../../../../__pv_it/theorems/df6506bd32d9f7c53b00f834a4c61833f27224860/expr.ipynb\"><img src=\"../../../../__pv_it/theorems/df6506bd32d9f7c53b00f834a4c61833f27224860/expr.png\" style=\"display:inline;vertical-align:middle;\" /></a></span></td></tr>\n",
       "<tr><td>&nbsp;</td><td colspan=4 style=\"text-align:left\"><span style=\"font-size:20px;\"><a class=\"ProveItLink\" href=\"../../../../../../__pv_it/common/09585084922504426caf1db2ff588a23a0932a960/expr.ipynb\"><img src=\"../../../../../../__pv_it/common/09585084922504426caf1db2ff588a23a0932a960/expr.png\" style=\"display:inline;vertical-align:middle;\" /></a> : <a class=\"ProveItLink\" href=\"../../../../../../__pv_it/common/09585084922504426caf1db2ff588a23a0932a960/expr.ipynb\"><img src=\"../../../../../../__pv_it/common/09585084922504426caf1db2ff588a23a0932a960/expr.png\" style=\"display:inline;vertical-align:middle;\" /></a></span></td></tr><tr><td><a name=\"proveit.logic.booleans.negation._proof_untrue_from_negation.a1bfcc471176b8372cf504d657223d2a049ca3e10_step5\">5</a></td><td>axiom</td><td></td><td><span style=\"font-size:20px;\"> <a class=\"ProveItLink\" href=\"../../../_theory_nbs_/axioms.ipynb#negation_elim\" style=\"text-decoration: none\">&nbsp;&#x22A2;&nbsp;&nbsp;</a><a class=\"ProveItLink\" href=\"../../axioms/0fd3f403bc4d76bb1a3bc88358aa217c1bfc7dc50/expr.ipynb\"><img src=\"../../axioms/0fd3f403bc4d76bb1a3bc88358aa217c1bfc7dc50/expr.png\" style=\"display:inline;vertical-align:middle;\" /></a></span></td></tr>\n",
       "<tr><td>&nbsp;</td><td colspan=4 style-\"text-align:left\"><a class=\"ProveItLink\" href=\"../../../_theory_nbs_/axioms.ipynb#negation_elim\">proveit.logic.booleans.negation.negation_elim</a></td></tr><tr><td><a name=\"proveit.logic.booleans.negation._proof_untrue_from_negation.a1bfcc471176b8372cf504d657223d2a049ca3e10_step6\">6</a></td><td>assumption</td><td></td><td><span style=\"font-size:20px;\"><a class=\"ProveItLink\" href=\"../../theorems/2d607b2877f5542a9baeaa9f0a7ccbda21f95e660/expr.ipynb\"><img src=\"../../theorems/2d607b2877f5542a9baeaa9f0a7ccbda21f95e660/expr.png\" style=\"display:inline;vertical-align:middle;\" /></a> <a class=\"ProveItLink\" href=\"../62bc27149aae5522131bc80b219470722f3e45de0/proof.ipynb\" style=\"text-decoration: none\">&nbsp;&#x22A2;&nbsp;&nbsp;</a><a class=\"ProveItLink\" href=\"../../theorems/2d607b2877f5542a9baeaa9f0a7ccbda21f95e660/expr.ipynb\"><img src=\"../../theorems/2d607b2877f5542a9baeaa9f0a7ccbda21f95e660/expr.png\" style=\"display:inline;vertical-align:middle;\" /></a></span></td></tr>\n",
       "</table>"
      ],
      "text/plain": [
       "<proveit._core_.proof._ShowProof at 0x7f7295cb9438>"
      ]
     },
     "execution_count": 1,
     "metadata": {},
     "output_type": "execute_result"
    }
   ],
   "source": [
    "import proveit\n",
    "# Automation is not needed when only showing a stored proof:\n",
    "proveit.defaults.automation = False # This will speed things up.\n",
    "proveit.defaults.inline_pngs = False # Makes files smaller.\n",
    "%show_proof"
   ]
  },
  {
   "cell_type": "code",
   "execution_count": null,
   "metadata": {},
   "outputs": [],
   "source": []
  }
 ],
 "metadata": {
  "kernelspec": {
   "display_name": "Python 3",
   "language": "python",
   "name": "python3"
  },
  "language_info": {
   "codemirror_mode": {
    "name": "ipython",
    "version": 3
   },
   "file_extension": ".py",
   "mimetype": "text/x-python",
   "name": "python",
   "nbconvert_exporter": "python",
   "pygments_lexer": "ipython3",
   "version": "3.7.3"
  }
 },
 "nbformat": 4,
 "nbformat_minor": 1
}