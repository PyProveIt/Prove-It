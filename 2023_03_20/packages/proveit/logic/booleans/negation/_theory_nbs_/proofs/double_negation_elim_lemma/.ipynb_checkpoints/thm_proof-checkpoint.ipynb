{
 "cells": [
  {
   "cell_type": "markdown",
   "metadata": {},
   "source": [
    "Proof of <a class=\"ProveItLink\" href=\"../../../../../../_theory_nbs_/theory.ipynb\">proveit</a>.<a class=\"ProveItLink\" href=\"../../../../../_theory_nbs_/theory.ipynb\">logic</a>.<a class=\"ProveItLink\" href=\"../../../../_theory_nbs_/theory.ipynb\">booleans</a>.<a class=\"ProveItLink\" href=\"../../theory.ipynb\">negation</a>.<a class=\"ProveItLink\" href=\"../../theorems.ipynb#double_negation_elim_lemma\">double_negation_elim_lemma</a> theorem\n",
    "========"
   ]
  },
  {
   "cell_type": "code",
   "execution_count": 1,
   "metadata": {},
   "outputs": [],
   "source": [
    "import proveit\n",
    "from proveit import A\n",
    "from proveit.logic import TRUE, FALSE, Implies, Not, Equals\n",
    "from proveit.logic.booleans  import true_axiom\n",
    "from proveit.logic.booleans.implication import false_antecedent_implication\n",
    "from proveit.logic.booleans.negation  import not_t\n",
    "theory = proveit.Theory() # the theorem's theory"
   ]
  },
  {
   "cell_type": "code",
   "execution_count": 2,
   "metadata": {},
   "outputs": [
    {
     "data": {
      "text/html": [
       "Under these <a href=\"presumptions.txt\">presumptions</a>, we begin our proof of<br><strong id=\"double_negation_elim_lemma\">double_negation_elim_lemma:</strong> <a class=\"ProveItLink\" href=\"../../../__pv_it/theorems/a427462f8899f8227e2e33f72f4eda719ef6d48c0/expr.ipynb\"><img src=\"data:image/png;base64,iVBORw0KGgoAAAANSUhEUgAAAIcAAAAWBAMAAAAY85LfAAAAMFBMVEX///+IiIgiIiIQEBB2dnbu\n",
       "7u5ERETMzMzc3NwyMjK6urpmZmaYmJiqqqpUVFQAAAB6qHgnAAAAAXRSTlMAQObYZgAAAAlwSFlz\n",
       "AAAOxAAADsQBlSsOGwAAAcpJREFUOMulkztIw1AUhv9IUmvb1ICbCEpXF1/gJhm0uIhx6SaIYIaK\n",
       "WBcXQQsFoeATWhEF7SC6KHQQrDpYV6duLqKdXOuog+g9N20eF5GSBm7yn+TPl3NOzgVaPbJsVUm8\n",
       "tAA5ZeuOxKF/hvrDTutsBef8Q8K1NNBhAHLFP2RyOgVEygzknxHUeimDoVhspIVq8MaywA2wwGND\n",
       "NBTd/Uvb0oDk3L/Chs4uOwjy36yM1u25436rR+52P9mKfEXXh3bp7YAhFyiUv9lp5T0JTd9+FiFK\n",
       "1ZbkO2sE0uJ9jWyqZvX1YpBVyGpjEHlWhIQLtiRfR6P0GaCzj8TeI4+1E6CHC31rQoS0OZJ89kyw\n",
       "utoGSEzleWK4hcJf0+6HUyIkayvyQa03JUTz8UEqw+u9QBe/R5msdTsQ2TTNeZwDcSb6LB9CdX6G\n",
       "evpJKsq/ez1eMyIHprlEPZG9mUTxaomq5UO79Sjxk4e6/KU7WWI31a5bmciSCFltQLjPLkc4Llmb\n",
       "K9bUMciKFxJuNLZY90nan9M7BuXhCJusMnU/Z5bFxgbSHl8g/c9OUOJm0olckJDu8SWa31zusS95\n",
       "npT8QWT39owUmod4CndDFMH4C2ZPaMfF2ewAAAAAAElFTkSuQmCC\n",
       "\" style=\"display:inline;vertical-align:middle;\" /></a><br>(see <a class=\"ProveItLink\" href=\"../../../__pv_it/theorems/be90297dc41c0a2948a98580cd0eb7d75b2d77cd0/dependencies.ipynb\">dependencies</a>)<br>"
      ],
      "text/plain": [
       "<IPython.core.display.HTML object>"
      ]
     },
     "metadata": {},
     "output_type": "display_data"
    }
   ],
   "source": [
    "%proving double_negation_elim_lemma"
   ]
  },
  {
   "cell_type": "markdown",
   "metadata": {},
   "source": [
    "Use the above theorem to perform proof-by-cases.  Start with the $A=\\top$ case."
   ]
  },
  {
   "cell_type": "code",
   "execution_count": 3,
   "metadata": {},
   "outputs": [
    {
     "data": {
      "text/html": [
       "<span style=\"font-size:20px;\"> <a class=\"ProveItLink\" href=\"../../../../_theory_nbs_/axioms.ipynb#true_axiom\" style=\"text-decoration: none\">&nbsp;&#x22A2;&nbsp;&nbsp;</a><a class=\"ProveItLink\" href=\"../../../../__pv_it/common/95025295868b9266d37330b4427adf122f6061770/expr.ipynb\"><img src=\"data:image/png;base64,iVBORw0KGgoAAAANSUhEUgAAAA4AAAAOBAMAAADtZjDiAAAAG1BMVEX///+YmJi6urqIiIiqqqpU\n",
       "VFQiIiJmZmYAAAD2GhH1AAAAAXRSTlMAQObYZgAAAAlwSFlzAAAOxAAADsQBlSsOGwAAABhJREFU\n",
       "CNdjKEsDgVQGIHBmgABa0YpADADkogYfXGfJdgAAAABJRU5ErkJggg==\n",
       "\" style=\"display:inline;vertical-align:middle;\" /></a></span>"
      ],
      "text/plain": [
       "|- TRUE"
      ]
     },
     "metadata": {},
     "output_type": "display_data"
    }
   ],
   "source": [
    "true_axiom"
   ]
  },
  {
   "cell_type": "code",
   "execution_count": 4,
   "metadata": {},
   "outputs": [
    {
     "data": {
      "text/html": [
       "<span style=\"font-size:20px;\"> <a class=\"ProveItLink\" href=\"../../../__pv_it/_proof_double_negation_elim_lemma/2e74f74dc23cdc5c9c3827521f7fc96a032b581c0/proof.ipynb\" style=\"text-decoration: none\">&nbsp;&#x22A2;&nbsp;&nbsp;</a><a class=\"ProveItLink\" href=\"../../../__pv_it/_proof_double_negation_elim_lemma/fdabeb3ae9f85093a5ce79fc247d05cc2e822c380/expr.ipynb\"><img src=\"data:image/png;base64,iVBORw0KGgoAAAANSUhEUgAAAHoAAAAVBAMAAAB71edYAAAAMFBMVEX////MzMxUVFRERES6uroi\n",
       "IiIQEBCYmJhmZmYyMjLu7u52dnaqqqqIiIjc3NwAAACW8nlqAAAAAXRSTlMAQObYZgAAAAlwSFlz\n",
       "AAAOxAAADsQBlSsOGwAAASxJREFUOMtjYGB4wAAHSEww4INi3ID3ADYmBLBcgGDc4DQWJkcoGCgw\n",
       "XAdyrmPR1AqWD2LgmgAXQmIyMPCAreRcAMFYwFmwNQVwPhITppu9AYJx6WZD8NkYMHQzZEExFFih\n",
       "6T6J4J/Eons6FEOBMJrubgS/G4vuTVAMBewbUHUjGTwdi+5KKIZFww9U3TEwiQZkJlz3MSiGGzoH\n",
       "RXcKLFkpIDPhuuWhGA5WppCg2w2K4Wl39gM0l8O0xGDRfRSKYf6OfIDicluYlgZkJlx3MRTDEr4B\n",
       "aqghRccmLGHejRqTL9HiWxTBF0XJXpBkGwLFUGCIYLqDCFYBOB+JCQ+kAAjGVQAg5QEs2QGUcVAy\n",
       "Dzqww8qEgsdQjBMsxspEMs8On26+C9iY0KLqAQTjAgCUCle3M+nMKQAAAABJRU5ErkJggg==\n",
       "\" style=\"display:inline;vertical-align:middle;\" /></a></span>"
      ],
      "text/plain": [
       "|- [not]([not](TRUE)) => TRUE"
      ]
     },
     "metadata": {},
     "output_type": "display_data"
    }
   ],
   "source": [
    "true_axiom.as_implication(Not(Not(TRUE)))"
   ]
  },
  {
   "cell_type": "markdown",
   "metadata": {},
   "source": [
    "Now for the $A=\\bot$ case."
   ]
  },
  {
   "cell_type": "code",
   "execution_count": 5,
   "metadata": {},
   "outputs": [
    {
     "data": {
      "text/html": [
       "<span style=\"font-size:20px;\"> <a class=\"ProveItLink\" href=\"../../../__pv_it/_proof_double_negation_elim_lemma/f6745a461d3fa1aa0eab38f7065fa9e336ce5f130/proof.ipynb\" style=\"text-decoration: none\">&nbsp;&#x22A2;&nbsp;&nbsp;</a><a class=\"ProveItLink\" href=\"../../../__pv_it/_proof_double_negation_elim_lemma/7a6983770731bb7d2383243903079dd9cab68bb00/expr.ipynb\"><img src=\"data:image/png;base64,iVBORw0KGgoAAAANSUhEUgAAAFcAAAAVBAMAAADBdm84AAAAMFBMVEX////MzMxERES6uroQEBCY\n",
       "mJgyMjLu7u52dnaqqqqIiIhUVFTc3NwiIiJmZmYAAAAM3gM0AAAAAXRSTlMAQObYZgAAAAlwSFlz\n",
       "AAAOxAAADsQBlSsOGwAAAOdJREFUKM+Nky8OwjAYxd9g/BkBzrAjzGBQExxgJ1jmsCg0R0CjsCQI\n",
       "joCGQECT4ZAkHAHK+9qO7BO85Nf8srxubdMBNn1oyuwFl42qzFiwiRaaAiMz9DJiM1cVWH3HqSB5\n",
       "qGrLuSBJVbXlcEZknQUUdeV2Rpih39RwUS93dwRual1duVV8eZaf3DFYQlFXjlJickSYQFFXDl7k\n",
       "r3IzJXxsvl1Xv4wLMTmjsYaifoMxgTuburqyOU5/pMEFin4OZVKWN2CQEMkVmtqcBEmuavVuVe5X\n",
       "Y6+p/XViYtOJNa1M/3nFQVVmS94AMFEGAgzZTAAAAABJRU5ErkJggg==\n",
       "\" style=\"display:inline;vertical-align:middle;\" /></a></span>"
      ],
      "text/plain": [
       "|- [not]([not]([not](FALSE)))"
      ]
     },
     "metadata": {},
     "output_type": "display_data"
    }
   ],
   "source": [
    "Not(Not(FALSE)).disprove()"
   ]
  },
  {
   "cell_type": "code",
   "execution_count": 6,
   "metadata": {},
   "outputs": [
    {
     "data": {
      "text/html": [
       "<span style=\"font-size:20px;\"> <a class=\"ProveItLink\" href=\"../../../__pv_it/_proof_double_negation_elim_lemma/74a75211013bcde692d77089bc18ab13a5f6974c0/proof.ipynb\" style=\"text-decoration: none\">&nbsp;&#x22A2;&nbsp;&nbsp;</a><a class=\"ProveItLink\" href=\"../../../__pv_it/_proof_double_negation_elim_lemma/197b2c6fd043043704400fb2da5ac19828aa1dbd0/expr.ipynb\"><img src=\"data:image/png;base64,iVBORw0KGgoAAAANSUhEUgAAAHoAAAAVBAMAAAB71edYAAAAMFBMVEX////MzMxUVFRERES6uroi\n",
       "IiIQEBCYmJhmZmYyMjLu7u52dnaqqqqIiIjc3NwAAACW8nlqAAAAAXRSTlMAQObYZgAAAAlwSFlz\n",
       "AAAOxAAADsQBlSsOGwAAATRJREFUOMtjYGB4wAAHSEww4INi3ID3ADYmBLBcgGDc4DRWJgNLAYi8\n",
       "DsVYgDuI4JoA5yMxGRh4wFZyLoBgLOAsiOAogPORmDDd7A0QjEs3G4LPxoChmyELiqHACk33SQT/\n",
       "JBbd06EYCoTRdHcj+N1YdG+CYihg34CqG8ng6Vh0V0IxA0coGPxA1R0Dk2hAZsJ1H4NiuKFzUHSn\n",
       "wJKVAjITrlseiuFgZQoJut2gGJ52Zz9AczlMSwwW3UehGObvyAcoLreFaWlAZsJ1F0MxLP0aoIYa\n",
       "UnRswhLm3agx+RItvkURfAQT6Myw1NBQoA9CGCAYCgyhdGtoaFpoaBADqwBcCokJD6QACMZVACDl\n",
       "ASzZAZRxUDIPOrDDyoSCx1CMEyzGykQyzw6fbr4L2JjQouoBBOMCAGlJV9kddYCKAAAAAElFTkSu\n",
       "QmCC\n",
       "\" style=\"display:inline;vertical-align:middle;\" /></a></span>"
      ],
      "text/plain": [
       "|- [not]([not](FALSE)) => FALSE"
      ]
     },
     "metadata": {},
     "output_type": "display_data"
    }
   ],
   "source": [
    "Implies(Not(Not(FALSE)), FALSE).prove()"
   ]
  },
  {
   "cell_type": "markdown",
   "metadata": {},
   "source": [
    "We will now be able to prove our theorem by cases."
   ]
  },
  {
   "cell_type": "code",
   "execution_count": 7,
   "metadata": {},
   "outputs": [
    {
     "name": "stdout",
     "output_type": "stream",
     "text": [
      "proveit.logic.booleans.negation.double_negation_elim_lemma has been proven.\n"
     ]
    },
    {
     "data": {
      "text/html": [
       "<table><tr><th>&nbsp;</th><th>step type</th><th>requirements</th><th>statement</th></tr>\n",
       "<tr><td><a name=\"-0x4d94ffbe67e4d122_step0\">0</a></td><td>instantiation</td><td><a href=\"#-0x4d94ffbe67e4d122_step1\">1</a>, <a href=\"#-0x4d94ffbe67e4d122_step2\">2</a>, <a href=\"#-0x4d94ffbe67e4d122_step3\">3</a></td><td><span style=\"font-size:20px;\"> <a class=\"ProveItLink\" href=\"../../../__pv_it/_proof_double_negation_elim_lemma/c4be381b63beb7fa97e4e269b5dc024580835f8b0/proof.ipynb\" style=\"text-decoration: none\">&nbsp;&#x22A2;&nbsp;&nbsp;</a><a class=\"ProveItLink\" href=\"../../../__pv_it/theorems/a427462f8899f8227e2e33f72f4eda719ef6d48c0/expr.ipynb\"><img src=\"data:image/png;base64,iVBORw0KGgoAAAANSUhEUgAAAIcAAAAWBAMAAAAY85LfAAAAMFBMVEX///+IiIgiIiIQEBB2dnbu\n",
       "7u5ERETMzMzc3NwyMjK6urpmZmaYmJiqqqpUVFQAAAB6qHgnAAAAAXRSTlMAQObYZgAAAAlwSFlz\n",
       "AAAOxAAADsQBlSsOGwAAAcpJREFUOMulkztIw1AUhv9IUmvb1ICbCEpXF1/gJhm0uIhx6SaIYIaK\n",
       "WBcXQQsFoeATWhEF7SC6KHQQrDpYV6duLqKdXOuog+g9N20eF5GSBm7yn+TPl3NOzgVaPbJsVUm8\n",
       "tAA5ZeuOxKF/hvrDTutsBef8Q8K1NNBhAHLFP2RyOgVEygzknxHUeimDoVhspIVq8MaywA2wwGND\n",
       "NBTd/Uvb0oDk3L/Chs4uOwjy36yM1u25436rR+52P9mKfEXXh3bp7YAhFyiUv9lp5T0JTd9+FiFK\n",
       "1ZbkO2sE0uJ9jWyqZvX1YpBVyGpjEHlWhIQLtiRfR6P0GaCzj8TeI4+1E6CHC31rQoS0OZJ89kyw\n",
       "utoGSEzleWK4hcJf0+6HUyIkayvyQa03JUTz8UEqw+u9QBe/R5msdTsQ2TTNeZwDcSb6LB9CdX6G\n",
       "evpJKsq/ez1eMyIHprlEPZG9mUTxaomq5UO79Sjxk4e6/KU7WWI31a5bmciSCFltQLjPLkc4Llmb\n",
       "K9bUMciKFxJuNLZY90nan9M7BuXhCJusMnU/Z5bFxgbSHl8g/c9OUOJm0olckJDu8SWa31zusS95\n",
       "npT8QWT39owUmod4CndDFMH4C2ZPaMfF2ewAAAAAAElFTkSuQmCC\n",
       "\" style=\"display:inline;vertical-align:middle;\" /></a></span></td></tr>\n",
       "<tr><td>&nbsp;</td><td colspan=4 style=\"text-align:left\"><span style=\"font-size:20px;\"><a class=\"ProveItLink\" href=\"../../../../../../__pv_it/common/179eec53aec5f67dcadb70a64bbe503739c53abe0/expr.ipynb\"><img src=\"data:image/png;base64,iVBORw0KGgoAAAANSUhEUgAAADIAAAAVBAMAAAD2uKAMAAAAMFBMVEX///+6urqYmJgiIiLc3Nx2\n",
       "dnaqqqrMzMwQEBDu7u5mZmYyMjJUVFRERESIiIgAAAAee7pSAAAAAXRSTlMAQObYZgAAAAlwSFlz\n",
       "AAAOxAAADsQBlSsOGwAAAR5JREFUKM9jYEAGDjAGCwMq4EsAU94MDIwPQIy3/++c3TUBxEqFKNgP\n",
       "xI/ArN8MDLydQJpzA5jL9h9IcIOUsv8D8oCYgUsBLMN1Hmgd0wKQ6d+B+CuQwQExLCS+AEiCDOH9\n",
       "AMRAWYZsiLMevAc5ZBMQ819gYKgHuWUpxDCGfJCpMQxgUVczBqgyBgYxhvoAIKUNxO+PhiqCxcDS\n",
       "DAsY/A8AqQwgvg/zaCPYt7dWnb8AMgniHSSZeUCLDYC0BNA7X2EyZhDDGJgbgHQyUPtHmMw9IGYE\n",
       "uosb6A0GXSgNBiCHeoA8+AXsBa77fx9AZYoZGOb+38nAdv830NmGyJHAXIBgsxggy4BDEQqgoQsD\n",
       "VxBMX9Q4nYtVESSY4fHuwAAALZlDXvKbPgMAAAAASUVORK5CYII=\n",
       "\" style=\"display:inline;vertical-align:middle;\" /></a> : <a class=\"ProveItLink\" href=\"../../../../../../__pv_it/common/09585084922504426caf1db2ff588a23a0932a960/expr.ipynb\"><img src=\"data:image/png;base64,iVBORw0KGgoAAAANSUhEUgAAAA8AAAAPBAMAAADJ+Ih5AAAAMFBMVEX///8QEBAiIiLu7u5ERES6\n",
       "urqYmJiIiIjMzMx2dnZUVFRmZmaqqqoyMjLc3NwAAABb1yYoAAAAAXRSTlMAQObYZgAAAAlwSFlz\n",
       "AAAOxAAADsQBlSsOGwAAAF9JREFUCNdjYACBtwxQcB9K8/yHMrjXP4Aw5s1vANN8BfUHIDIM5xPA\n",
       "jBiG/glgxgaG9wtANLv37vUOIIY5AwO/AkSGgUkASLMCdfB+ADIeAjHLPwYGk/+XGXj8/04AADnq\n",
       "Fzds8Dk2AAAAAElFTkSuQmCC\n",
       "\" style=\"display:inline;vertical-align:middle;\" /></a>, <a class=\"ProveItLink\" href=\"../../../../../../__pv_it/common/a3b5f30b31e2e6c8d4ff71eeb41c35c44be51cd10/expr.ipynb\"><img src=\"data:image/png;base64,iVBORw0KGgoAAAANSUhEUgAAADEAAAAVBAMAAAAdjxsPAAAAMFBMVEX///+IiIiqqqq6uroiIiIQ\n",
       "EBBERETu7u7MzMwyMjKYmJhUVFRmZmZ2dnbc3NwAAABtgPhfAAAAAXRSTlMAQObYZgAAAAlwSFlz\n",
       "AAAOxAAADsQBlSsOGwAAAUZJREFUKM9dUTFLw0AU/tLaJNY0FAdHySQ4GVenDhbczA+Qkj8gzeLg\n",
       "lt3BDIKT2NGhQ2cddHGxQh1cCoopOAliEZWqaH3fHY3Rg3vve/e9++69e0BuuRlK8XfNaj4BljW6\n",
       "uT1WoHCl3PQQMFpE/RgzCcG2vrkkDPYZh2I2eHShme63mLbsPUanNIEiKo8jsaUIDj3uYnlGSWJg\n",
       "PPOxFp4ohp4POLqAs8IHb3bQ8xgepipNVtGzv8SVE6xH4q1XMVMqx4H7yQ4C8AxlCpR8wrnL7ps4\n",
       "e4hVhlvJhLGqwAtFA6m36OE8nag5sutUq2HXO3qoNHjRlHSssBzqhzAa1cpJBF0oXHbbTHULO5vX\n",
       "PmI+WoPVfI+wMD4QaVWO6RtqHmu5gdwra3YWlW/nGP27znikM34n6ao/g11X3cMKM8b8N+5BhuaB\n",
       "H6NYTKixq4nwAAAAAElFTkSuQmCC\n",
       "\" style=\"display:inline;vertical-align:middle;\" /></a> : <a class=\"ProveItLink\" href=\"../../../__pv_it/theorems/8ef12b95cfe752515f471cf6fa68ec6d049458490/expr.ipynb\"><img src=\"data:image/png;base64,iVBORw0KGgoAAAANSUhEUgAAADkAAAAVBAMAAAAOWFv7AAAAMFBMVEX////MzMxERES6uroQEBCY\n",
       "mJgyMjLu7u52dnaqqqqIiIhUVFTc3NwiIiJmZmYAAAAM3gM0AAAAAXRSTlMAQObYZgAAAAlwSFlz\n",
       "AAAOxAAADsQBlSsOGwAAAPVJREFUKM9tUT0OAUEYfetvrSxn2BusRqNyBCeQ7eio1I4gLkB0EoUj\n",
       "bCmEkGiJRiUECSEI34SZ+Xb5ivnemzfzvjcZQJaNUPmc9DixPSDPuNXgauIApIqa1wOubVJR1nwT\n",
       "ULcPWkqaF7iYHB5pjdXUWI+ro9RNDFeDM4FQa+ssHAYqJAuIaNO4Uot72C2pVkg3ISEZwb6Lad8s\n",
       "Y8SykBDo7rcnasbhn2p2gKcYoO4KZ6lmqC2E8+yzNUWkAwmRo1YVqRz1/oH+AWHo+vyVxkwi073U\n",
       "0HpVgHRW3ZjjpyYaln5V9jERPyzajsamE1YD50dhtQ+8ATr5PpAdIfbLAAAAAElFTkSuQmCC\n",
       "\" style=\"display:inline;vertical-align:middle;\" /></a>, <a class=\"ProveItLink\" href=\"../../../../../../__pv_it/common/09585084922504426caf1db2ff588a23a0932a960/expr.ipynb\"><img src=\"data:image/png;base64,iVBORw0KGgoAAAANSUhEUgAAAA8AAAAPBAMAAADJ+Ih5AAAAMFBMVEX///8QEBAiIiLu7u5ERES6\n",
       "urqYmJiIiIjMzMx2dnZUVFRmZmaqqqoyMjLc3NwAAABb1yYoAAAAAXRSTlMAQObYZgAAAAlwSFlz\n",
       "AAAOxAAADsQBlSsOGwAAAF9JREFUCNdjYACBtwxQcB9K8/yHMrjXP4Aw5s1vANN8BfUHIDIM5xPA\n",
       "jBiG/glgxgaG9wtANLv37vUOIIY5AwO/AkSGgUkASLMCdfB+ADIeAjHLPwYGk/+XGXj8/04AADnq\n",
       "Fzds8Dk2AAAAAElFTkSuQmCC\n",
       "\" style=\"display:inline;vertical-align:middle;\" /></a> : <a class=\"ProveItLink\" href=\"../../../../../../__pv_it/common/09585084922504426caf1db2ff588a23a0932a960/expr.ipynb\"><img src=\"data:image/png;base64,iVBORw0KGgoAAAANSUhEUgAAAA8AAAAPBAMAAADJ+Ih5AAAAMFBMVEX///8QEBAiIiLu7u5ERES6\n",
       "urqYmJiIiIjMzMx2dnZUVFRmZmaqqqoyMjLc3NwAAABb1yYoAAAAAXRSTlMAQObYZgAAAAlwSFlz\n",
       "AAAOxAAADsQBlSsOGwAAAF9JREFUCNdjYACBtwxQcB9K8/yHMrjXP4Aw5s1vANN8BfUHIDIM5xPA\n",
       "jBiG/glgxgaG9wtANLv37vUOIIY5AwO/AkSGgUkASLMCdfB+ADIeAjHLPwYGk/+XGXj8/04AADnq\n",
       "Fzds8Dk2AAAAAElFTkSuQmCC\n",
       "\" style=\"display:inline;vertical-align:middle;\" /></a></span></td></tr><tr><td><a name=\"-0x4d94ffbe67e4d122_step1\">1</a></td><td>conjecture</td><td></td><td><span style=\"font-size:20px;\"> <a class=\"ProveItLink\" href=\"../../../../_theory_nbs_/proofs/conditioned_forall_over_bool_by_cases/thm_proof.ipynb\" style=\"text-decoration: none\">&nbsp;&#x22A2;&nbsp;&nbsp;</a><a class=\"ProveItLink\" href=\"../../../../__pv_it/theorems/04bd85b23a57ae8e49fc576fe74347ba356f43c80/expr.ipynb\"><img src=\"data:image/png;base64,iVBORw0KGgoAAAANSUhEUgAAAbgAAAAZBAMAAACx0yZ/AAAAMFBMVEX///+IiIgiIiIQEBB2dnbu\n",
       "7u5ERETMzMzc3NwyMjK6urpmZmaYmJiqqqpUVFQAAAB6qHgnAAAAAXRSTlMAQObYZgAAAAlwSFlz\n",
       "AAAOxAAADsQBlSsOGwAABUhJREFUWMPdWG+IG0UUf3vZTTabP01QqiKtIUUKopKKWD+0Jda7iran\n",
       "WywFESSldD1RSKBS8ItNPRFEuTuqhSLSRrBXRD9EW+tp65n654NtwSgoFv/FgqgUzijt2aJ39b2Z\n",
       "3Z3ZnbQeQbnQwGZn583vzfu9efPe7AL0xO9Uvvpfq9TyN/UGNxj7P5SeuKzImX6revmRW8QporJX\n",
       "OLkW3b6df3JpuqUaXeyt8vTUI28zdJF1xNvY2WDk3qPn3fNPLlEju7pJKwtwpTbb2HiAP/+A5GAX\n",
       "I/ckLWRp/snFKISe6Qa7PYOE8IIj/HnyHP4dZ+TiyFlv9sCeI18PdoO9roIXRWSBPepP/4n/EZvI\n",
       "JTE6472QUE50m1fKdCHBFEfv0GYowBtM4y35/K29QC6Szy8pdoOdBoj9jvcER9dTf9P6tRi5dwC2\n",
       "dMLU5YevvdTUYaAny8yhl/1SVUWG5BIViFJaACM8PqEqtoUlSMxc3XQXC8Bqxs7gLcljYQRMZGmV\n",
       "D07+wsy/41o+t5tkrsxO4NAarHE2O04mQHn8r7VTVZTpjnObs8m3wUNw/wQs44hjoMjQFLRihLXv\n",
       "r/C+k3e/9T5rRBXFxnLhfG22fx31QV+Te8KcJQcWGLmorZPsQ4DVRHw3mLdL5F6rwnAVHvLneFUy\n",
       "NZkDPcdlNNgqhhFSr4QwWqqMtssWuIe170MjY4udmqab31UkcpJifUZYEm27jQijuPDw5DStZ5uR\n",
       "S2VYPjmNKQdvX+B1SJBL5dAXJV4M2RxxWxTbdB20NpexwbvCCNErI1hFk2Uuuc95PrG2YrQeRlaa\n",
       "DgNNQU5WvH+ZZwkvc4KcgeA/SEvBTVFHSbQS4GaMDUqjnwlyozhJsg05fw63arAIjjShr8VlbPBg\n",
       "GCF6ZUQfhGWcXDzJ9qAWb/EDBq7cx7YgJyvO7BH1a7u3/CwsKdKXuK4gcoPkP/MsjGAUp2mWO8Xs\n",
       "vxKfgjnmz5Gq4w5znBcoXkZt8zRwGRv8TRjh9oYQz0IQ4ZHTTzIqmcQYbGQsEweWS3tOUqzBu2SJ\n",
       "W+ZqXnySb97Aay9tgBInN0x7ILks+yW5ltywR8xORSLeskr+HJabZ9aiyo+yi2y3g/2NhxGiV0aM\n",
       "gyJj5MxVbIKKVmAm4srF3qwJcpLi/XCFsGSvp4Oyv0mFvFzldYHIpcmn6RaPW4yH2Dkx+wpa92qq\n",
       "5c8Rc1WODABMsaX00wNsCyNEr4z4HhQZ320/s2zXf+9Z+BSXuol7rlgU5CTFB/t/sz1LDl3Y5NWE\n",
       "HBjl8zZ8deFFjNGa9MoT4efxaN2y+xpi9kdhH9zo6pHD0im607kyEWQyQg5Lgdh2kbD0ah/u+8f5\n",
       "ykExI8gJxRrbgKl6uB4uldpPye9zo1TcNmAZ+OSql0HMPvz8+ieQq0goGi+86yiM+AqL1JEFoxhA\n",
       "uL0hhJRQsgo5C7EzvJojubskckIxBu2CpmeJ9DsutY9I5LQyBg1sbcJzP07ZUhE3Jxf/hO+3Q/5B\n",
       "IcqEMfLawjMsAQz5x5khiK0UCLe0c7mMQBVBmUzuQAsePF8zH6Yifs2ax6SE4itOrALjg5dcS+Sf\n",
       "1MPec0Jv4pRMXzcy8gnFqq+XSzfLY4ETki8zEJFSEEYpjBCl2yhd7E18g+PUhNHQyZSNyrFOqOM8\n",
       "g+QscuzoKVsmZ85ej4vm+2RCUenLqLFPQSTU988JBXrp1wGPXFCxagns8FtXq99QkuwMcgPI5GAn\n",
       "uXDAG1FTVXoyOjI2FMQxFaDbimxO5AKKO1ky969fAY8boXsnmT2H3mCfkO281HdLs5Ni49+/W674\n",
       "B9k0kdTS6XCXAAAAAElFTkSuQmCC\n",
       "\" style=\"display:inline;vertical-align:middle;\" /></a></span></td></tr>\n",
       "<tr><td>&nbsp;</td><td colspan=4 style-\"text-align:left\"><a class=\"ProveItLink\" href=\"../../../../_theory_nbs_/proofs/conditioned_forall_over_bool_by_cases/thm_proof.ipynb\">proveit.logic.booleans.conditioned_forall_over_bool_by_cases</a></td></tr><tr><td><a name=\"-0x4d94ffbe67e4d122_step2\">2</a></td><td>deduction</td><td><a href=\"#-0x4d94ffbe67e4d122_step4\">4</a></td><td><span style=\"font-size:20px;\"> <a class=\"ProveItLink\" href=\"../../../__pv_it/_proof_double_negation_elim_lemma/2e74f74dc23cdc5c9c3827521f7fc96a032b581c0/proof.ipynb\" style=\"text-decoration: none\">&nbsp;&#x22A2;&nbsp;&nbsp;</a><a class=\"ProveItLink\" href=\"../../../__pv_it/_proof_double_negation_elim_lemma/fdabeb3ae9f85093a5ce79fc247d05cc2e822c380/expr.ipynb\"><img src=\"data:image/png;base64,iVBORw0KGgoAAAANSUhEUgAAAHoAAAAVBAMAAAB71edYAAAAMFBMVEX////MzMxUVFRERES6uroi\n",
       "IiIQEBCYmJhmZmYyMjLu7u52dnaqqqqIiIjc3NwAAACW8nlqAAAAAXRSTlMAQObYZgAAAAlwSFlz\n",
       "AAAOxAAADsQBlSsOGwAAASxJREFUOMtjYGB4wAAHSEww4INi3ID3ADYmBLBcgGDc4DQWJkcoGCgw\n",
       "XAdyrmPR1AqWD2LgmgAXQmIyMPCAreRcAMFYwFmwNQVwPhITppu9AYJx6WZD8NkYMHQzZEExFFih\n",
       "6T6J4J/Eons6FEOBMJrubgS/G4vuTVAMBewbUHUjGTwdi+5KKIZFww9U3TEwiQZkJlz3MSiGGzoH\n",
       "RXcKLFkpIDPhuuWhGA5WppCg2w2K4Wl39gM0l8O0xGDRfRSKYf6OfIDicluYlgZkJlx3MRTDEr4B\n",
       "aqghRccmLGHejRqTL9HiWxTBF0XJXpBkGwLFUGCIYLqDCFYBOB+JCQ+kAAjGVQAg5QEs2QGUcVAy\n",
       "Dzqww8qEgsdQjBMsxspEMs8On26+C9iY0KLqAQTjAgCUCle3M+nMKQAAAABJRU5ErkJggg==\n",
       "\" style=\"display:inline;vertical-align:middle;\" /></a></span></td></tr>\n",
       "<tr><td><a name=\"-0x4d94ffbe67e4d122_step3\">3</a></td><td>instantiation</td><td><a href=\"#-0x4d94ffbe67e4d122_step5\">5</a>, <a href=\"#-0x4d94ffbe67e4d122_step6\">6</a></td><td><span style=\"font-size:20px;\"> <a class=\"ProveItLink\" href=\"../../../__pv_it/_proof_double_negation_elim_lemma/74a75211013bcde692d77089bc18ab13a5f6974c0/proof.ipynb\" style=\"text-decoration: none\">&nbsp;&#x22A2;&nbsp;&nbsp;</a><a class=\"ProveItLink\" href=\"../../../__pv_it/_proof_double_negation_elim_lemma/197b2c6fd043043704400fb2da5ac19828aa1dbd0/expr.ipynb\"><img src=\"data:image/png;base64,iVBORw0KGgoAAAANSUhEUgAAAHoAAAAVBAMAAAB71edYAAAAMFBMVEX////MzMxUVFRERES6uroi\n",
       "IiIQEBCYmJhmZmYyMjLu7u52dnaqqqqIiIjc3NwAAACW8nlqAAAAAXRSTlMAQObYZgAAAAlwSFlz\n",
       "AAAOxAAADsQBlSsOGwAAATRJREFUOMtjYGB4wAAHSEww4INi3ID3ADYmBLBcgGDc4DRWJgNLAYi8\n",
       "DsVYgDuI4JoA5yMxGRh4wFZyLoBgLOAsiOAogPORmDDd7A0QjEs3G4LPxoChmyELiqHACk33SQT/\n",
       "JBbd06EYCoTRdHcj+N1YdG+CYihg34CqG8ng6Vh0V0IxA0coGPxA1R0Dk2hAZsJ1H4NiuKFzUHSn\n",
       "wJKVAjITrlseiuFgZQoJut2gGJ52Zz9AczlMSwwW3UehGObvyAcoLreFaWlAZsJ1F0MxLP0aoIYa\n",
       "UnRswhLm3agx+RItvkURfAQT6Myw1NBQoA9CGCAYCgyhdGtoaFpoaBADqwBcCokJD6QACMZVACDl\n",
       "ASzZAZRxUDIPOrDDyoSCx1CMEyzGykQyzw6fbr4L2JjQouoBBOMCAGlJV9kddYCKAAAAAElFTkSu\n",
       "QmCC\n",
       "\" style=\"display:inline;vertical-align:middle;\" /></a></span></td></tr>\n",
       "<tr><td>&nbsp;</td><td colspan=4 style=\"text-align:left\"><span style=\"font-size:20px;\"><a class=\"ProveItLink\" href=\"../../../../../../__pv_it/common/09585084922504426caf1db2ff588a23a0932a960/expr.ipynb\"><img src=\"data:image/png;base64,iVBORw0KGgoAAAANSUhEUgAAAA8AAAAPBAMAAADJ+Ih5AAAAMFBMVEX///8QEBAiIiLu7u5ERES6\n",
       "urqYmJiIiIjMzMx2dnZUVFRmZmaqqqoyMjLc3NwAAABb1yYoAAAAAXRSTlMAQObYZgAAAAlwSFlz\n",
       "AAAOxAAADsQBlSsOGwAAAF9JREFUCNdjYACBtwxQcB9K8/yHMrjXP4Aw5s1vANN8BfUHIDIM5xPA\n",
       "jBiG/glgxgaG9wtANLv37vUOIIY5AwO/AkSGgUkASLMCdfB+ADIeAjHLPwYGk/+XGXj8/04AADnq\n",
       "Fzds8Dk2AAAAAElFTkSuQmCC\n",
       "\" style=\"display:inline;vertical-align:middle;\" /></a> : <a class=\"ProveItLink\" href=\"../../../__pv_it/_proof_double_negation_elim_lemma/9a3c7c1fa3c282a3f1c9889099f32e287a69116d0/expr.ipynb\"><img src=\"data:image/png;base64,iVBORw0KGgoAAAANSUhEUgAAADkAAAAVBAMAAAAOWFv7AAAAMFBMVEX////MzMxERES6uroQEBCY\n",
       "mJgyMjLu7u52dnaqqqqIiIhUVFTc3NwiIiJmZmYAAAAM3gM0AAAAAXRSTlMAQObYZgAAAAlwSFlz\n",
       "AAAOxAAADsQBlSsOGwAAALlJREFUKM9jYIABHgY0cACZsxJd1gqJzdmAxDEFEVwBCIEyZG2zwGQ6\n",
       "QuAppmwcQsABU5alAG5tAqYsG9xivgZMWY4NMD5bAKYsawLD27tAcI+BdwIDjAmX5YS65TQDiwED\n",
       "jAmXZfyAT5YZrhdkMros5wWI0DkGpgUMMCbCVQowVyJcj5BF+JLxAlwK6HSXu3dvMzDwGsDFLjJg\n",
       "gLMIZhymLFLEMB1Al+RRQLDZFdBlUdSfQpddw8AAADYfMzGd3BwPAAAAAElFTkSuQmCC\n",
       "\" style=\"display:inline;vertical-align:middle;\" /></a>, <a class=\"ProveItLink\" href=\"../../../../../../__pv_it/common/a9162d1c3cc0470c02e5daf414500903a7a419230/expr.ipynb\"><img src=\"data:image/png;base64,iVBORw0KGgoAAAANSUhEUgAAABAAAAAOBAMAAADUAYG5AAAAMFBMVEX///92dnaqqqoiIiLu7u5m\n",
       "Zma6urqIiIjc3NwQEBDMzMwyMjJUVFRERESYmJgAAAAeMT9/AAAAAXRSTlMAQObYZgAAAAlwSFlz\n",
       "AAAOxAAADsQBlSsOGwAAAHJJREFUCNdjYGB4+//Mmb0LGIBgLgMDzy8gzfGdgYHtK5DBB+TxATkM\n",
       "PB8YGLhnABmcFxhYDoMUr79efvoBSFN9AwPTPBDjJhDLg6T+APH7AgYGrn9AxvkEBgb2H0DObyCH\n",
       "ewIDQ+YWoHH3/5w5fYmBAQBWoiHo17XzsQAAAABJRU5ErkJggg==\n",
       "\" style=\"display:inline;vertical-align:middle;\" /></a> : <a class=\"ProveItLink\" href=\"../../../../__pv_it/common/e0f123f2e4f322e1eba7f861749cda9fd9d99a120/expr.ipynb\"><img src=\"data:image/png;base64,iVBORw0KGgoAAAANSUhEUgAAAA4AAAAPBAMAAAAmOuNHAAAAHlBMVEX///9UVFQQEBAiIiJmZmaI\n",
       "iIiqqqqYmJi6uroAAAAAFVhYAAAAAXRSTlMAQObYZgAAAAlwSFlzAAAOxAAADsQBlSsOGwAAABhJ\n",
       "REFUCNdjYECAdiidSkva2dhYydjYEABIWQamWbU+1AAAAABJRU5ErkJggg==\n",
       "\" style=\"display:inline;vertical-align:middle;\" /></a></span></td></tr><tr><td><a name=\"-0x4d94ffbe67e4d122_step4\">4</a></td><td>axiom</td><td></td><td><span style=\"font-size:20px;\"> <a class=\"ProveItLink\" href=\"../../../../_theory_nbs_/axioms.ipynb#true_axiom\" style=\"text-decoration: none\">&nbsp;&#x22A2;&nbsp;&nbsp;</a><a class=\"ProveItLink\" href=\"../../../../__pv_it/common/95025295868b9266d37330b4427adf122f6061770/expr.ipynb\"><img src=\"data:image/png;base64,iVBORw0KGgoAAAANSUhEUgAAAA4AAAAOBAMAAADtZjDiAAAAG1BMVEX///+YmJi6urqIiIiqqqpU\n",
       "VFQiIiJmZmYAAAD2GhH1AAAAAXRSTlMAQObYZgAAAAlwSFlzAAAOxAAADsQBlSsOGwAAABhJREFU\n",
       "CNdjKEsDgVQGIHBmgABa0YpADADkogYfXGfJdgAAAABJRU5ErkJggg==\n",
       "\" style=\"display:inline;vertical-align:middle;\" /></a></span></td></tr>\n",
       "<tr><td>&nbsp;</td><td colspan=4 style-\"text-align:left\"><a class=\"ProveItLink\" href=\"../../../../_theory_nbs_/axioms.ipynb#true_axiom\">proveit.logic.booleans.true_axiom</a></td></tr><tr><td><a name=\"-0x4d94ffbe67e4d122_step5\">5</a></td><td>conjecture</td><td></td><td><span style=\"font-size:20px;\"> <a class=\"ProveItLink\" href=\"../../../../implication/_theory_nbs_/proofs/untrue_antecedent_implication/thm_proof.ipynb\" style=\"text-decoration: none\">&nbsp;&#x22A2;&nbsp;&nbsp;</a><a class=\"ProveItLink\" href=\"../../../../implication/__pv_it/theorems/f83ccfee3596e58a431052e5ba0ac7335ac95e5d0/expr.ipynb\"><img src=\"data:image/png;base64,iVBORw0KGgoAAAANSUhEUgAAAL0AAAAXCAMAAABpjr6KAAAAOVBMVEX///82NjYbGxsSEhKIiIgi\n",
       "IiIQEBB2dnbu7u5ERETMzMzc3NwyMjK6urpmZmaYmJiqqqpUVFQAAAAnLjGdAAAAAXRSTlMAQObY\n",
       "ZgAAAAlwSFlzAAAOxAAADsQBlSsOGwAAAnFJREFUWMPVV4mWmzAMdFvft/X/H1uE7UQGDOx2S7d6\n",
       "LyQkljWMRrLC2L8w9y22+KTxTGH4T+0ROF7L6z6nh8BnRe883PVLBqAs5o1FChBuDK9tHkqGHsjO\n",
       "APddpVnfCiB8rxmznXxnHqI+DjmOBW6z5oBX1UDEVMT2CGgqP4Re0hvl1Erkzow+kE5bmupTyGVJ\n",
       "alT4p1RPAznOOBzSZg+kUJrIvFzT5RG5FGhSPSUcGiii8I+7RVIT2esiagoUij7abab0Rfx9IZ7c\n",
       "bc0TsGGh3cIbZhTEYBvHguGcl9cGCbPoSr/06NLSDEJUKhry1S6ngwNT2MWUWUzihW8Wizzy4KBM\n",
       "NTZqitf6zrLBz7LTrgIJPygxidVTnqAfHAgPh11MviNxE+PSc8y8t5LFy3ayh7MtF+sz8KFmg5WU\n",
       "rxJrmc/Rjw7F3UWvqxeIWYP0amimPUmpN07Z2k0i4TnzNJcSedUizdEPDkGxc/Rv5TRdC3mse7E5\n",
       "Pm0v7wKVgCxaq/eaYGHRDydESrFQYZst+OoQUeXm1/JKZ+hfhRDS6agQdiS1Y82C75NDRSgJd3YU\n",
       "+Sp7XeIU/ejAE7vgXrVYrvuYw8N2P7x52fTSqe69l1C7NBhVQG9k7yDMQA0OevjtEL0VdSHAiiLj\n",
       "h4OzxmxO4PIa0V7KE2E3vFasdpT9MlnMOubbAZXz84e5Ug4T9mvmd7er9qZF7IBaVVx6LdqZcogD\n",
       "IyPfGfoU/8a0h1+sBaAj+MAssp48KDyr8gQUddiPVhOY5ktG8auZeDZ0Tt0yvzfgf8ksfsFB0B9F\n",
       "f3dMdfzPwfOLBE7/KM7Q58D+A3PfBslvjc4ZWwAWnlsAAAAASUVORK5CYII=\n",
       "\" style=\"display:inline;vertical-align:middle;\" /></a></span></td></tr>\n",
       "<tr><td>&nbsp;</td><td colspan=4 style-\"text-align:left\"><a class=\"ProveItLink\" href=\"../../../../implication/_theory_nbs_/proofs/untrue_antecedent_implication/thm_proof.ipynb\">proveit.logic.booleans.implication.untrue_antecedent_implication</a></td></tr><tr><td><a name=\"-0x4d94ffbe67e4d122_step6\">6</a></td><td>instantiation</td><td><a href=\"#-0x4d94ffbe67e4d122_step7\">7</a>, <a href=\"#-0x4d94ffbe67e4d122_step8\">8</a></td><td><span style=\"font-size:20px;\"> <a class=\"ProveItLink\" href=\"../../../__pv_it/_proof_double_negation_elim_lemma/3a4b59a6e89201b1c03b6a88982119c09c68f7dd0/proof.ipynb\" style=\"text-decoration: none\">&nbsp;&#x22A2;&nbsp;&nbsp;</a><a class=\"ProveItLink\" href=\"../../../__pv_it/_proof_double_negation_elim_lemma/6ccbc40aed825b351faf7657da0e2af5c43225950/expr.ipynb\"><img src=\"data:image/png;base64,iVBORw0KGgoAAAANSUhEUgAAAHUAAAAVCAMAAABPLlHUAAAAPFBMVEX///8NDQ0WFhYLCwsYGBjM\n",
       "zMxUVFRERES6uroiIiIQEBCYmJhmZmYyMjLu7u52dnaqqqqIiIjc3NwAAAB1ELWhAAAAAXRSTlMA\n",
       "QObYZgAAAAlwSFlzAAAOxAAADsQBlSsOGwAAATtJREFUSMe1Vtm2hCAM4y6KrCL3///1buNISpC+\n",
       "TF9yTsaYltYyxvxENSw4Sx6YPkjjKHq2je1A7CLmsbjsevbXI1yJBUQRi20ScE2sxuTEFJz9S6ep\n",
       "LGVEDLuMtZEmylnpGiIilrreaD19tzcaV+MzIpRax9pCj7IknWsKiG3/1xttpFMTd53rviK2CdUb\n",
       "baINTEHnGhLiNa2fH49ppVpX5GTHIdu7Fo94X+ql9ZvcOOuQ7V2XL8Srq9G8znXziPeldics3s9Z\n",
       "csIO8ezK+9tzC1FXK5dojUOWTJNFlEtrVCuZ+SHbu55fmPjSSpxoF0cXN2P/J9r75uzco/9u05Ta\n",
       "3BxuYb9ztrthHeLsvuo3uIYd3RHirkh5LrVVz4pSLeKZ8a5IOFs9yzMTGbqs6s6hZ+E/TkV8juLU\n",
       "8RstTRAgm/xJvQAAAABJRU5ErkJggg==\n",
       "\" style=\"display:inline;vertical-align:middle;\" /></a></span></td></tr>\n",
       "<tr><td>&nbsp;</td><td colspan=4 style=\"text-align:left\"><span style=\"font-size:20px;\"><a class=\"ProveItLink\" href=\"../../../../../../__pv_it/common/09585084922504426caf1db2ff588a23a0932a960/expr.ipynb\"><img src=\"data:image/png;base64,iVBORw0KGgoAAAANSUhEUgAAAA8AAAAPBAMAAADJ+Ih5AAAAMFBMVEX///8QEBAiIiLu7u5ERES6\n",
       "urqYmJiIiIjMzMx2dnZUVFRmZmaqqqoyMjLc3NwAAABb1yYoAAAAAXRSTlMAQObYZgAAAAlwSFlz\n",
       "AAAOxAAADsQBlSsOGwAAAF9JREFUCNdjYACBtwxQcB9K8/yHMrjXP4Aw5s1vANN8BfUHIDIM5xPA\n",
       "jBiG/glgxgaG9wtANLv37vUOIIY5AwO/AkSGgUkASLMCdfB+ADIeAjHLPwYGk/+XGXj8/04AADnq\n",
       "Fzds8Dk2AAAAAElFTkSuQmCC\n",
       "\" style=\"display:inline;vertical-align:middle;\" /></a> : <a class=\"ProveItLink\" href=\"../../../__pv_it/_proof_double_negation_elim_lemma/9a3c7c1fa3c282a3f1c9889099f32e287a69116d0/expr.ipynb\"><img src=\"data:image/png;base64,iVBORw0KGgoAAAANSUhEUgAAADkAAAAVBAMAAAAOWFv7AAAAMFBMVEX////MzMxERES6uroQEBCY\n",
       "mJgyMjLu7u52dnaqqqqIiIhUVFTc3NwiIiJmZmYAAAAM3gM0AAAAAXRSTlMAQObYZgAAAAlwSFlz\n",
       "AAAOxAAADsQBlSsOGwAAALlJREFUKM9jYIABHgY0cACZsxJd1gqJzdmAxDEFEVwBCIEyZG2zwGQ6\n",
       "QuAppmwcQsABU5alAG5tAqYsG9xivgZMWY4NMD5bAKYsawLD27tAcI+BdwIDjAmX5YS65TQDiwED\n",
       "jAmXZfyAT5YZrhdkMros5wWI0DkGpgUMMCbCVQowVyJcj5BF+JLxAlwK6HSXu3dvMzDwGsDFLjJg\n",
       "gLMIZhymLFLEMB1Al+RRQLDZFdBlUdSfQpddw8AAADYfMzGd3BwPAAAAAElFTkSuQmCC\n",
       "\" style=\"display:inline;vertical-align:middle;\" /></a></span></td></tr><tr><td><a name=\"-0x4d94ffbe67e4d122_step7\">7</a></td><td>theorem</td><td></td><td><span style=\"font-size:20px;\"> <a class=\"ProveItLink\" href=\"../untrue_from_negation/thm_proof.ipynb\" style=\"text-decoration: none\">&nbsp;&#x22A2;&nbsp;&nbsp;</a><a class=\"ProveItLink\" href=\"../../../__pv_it/theorems/71775e9ea2936cde79b52fcfd4a63545d59edf330/expr.ipynb\"><img src=\"data:image/png;base64,iVBORw0KGgoAAAANSUhEUgAAAJcAAAAXCAMAAAAx8S2TAAAAPFBMVEX///8NDQ0WFhYLCwsYGBiI\n",
       "iIgiIiIQEBB2dnbu7u5ERETMzMzc3NwyMjK6urpmZmaYmJiqqqpUVFQAAACZSrTsAAAAAXRSTlMA\n",
       "QObYZgAAAAlwSFlzAAAOxAAADsQBlSsOGwAAAdpJREFUSMfNl9lywyAMRenCvhn4/3+tsU0ssCCk\n",
       "40yrh0zsCHG4SKAQ8gYzfzh6YDTAWSzq42V3uKP5Mz6ew3IPVhDwySbMRyuAyIBlHJpBvHtEuEdA\n",
       "WQkUEsql9GU1FKxlFVMXwYy6Ry5fye5jQparIxlxLf6AyybCPVwcPggjkkbkMkMuwlem5VifvSm7\n",
       "YBxDCU3X9bpIxlw2M/Et4bi4aRthHJ8T7FpOWCZXXCKD+01oBQq3qmE/TPLrnADDrVLpJNrK+/4q\n",
       "ldfjWrLoJpaPMhmHKTEqh9pzMxbqJZkUZ+SquQIvUgkHVKxSYsQlrsnDz0BUeb/WYxvAoTtQcelU\n",
       "XoFsdZrTOa7Gs+GS+2+JzchVczl+lOIC3lJi4xxX49ns4yEL43V+fX6cJ3t3H9lxdFkJJiPeTnG1\n",
       "nrt7ie8W/CKy+M1Y5/0+qeER7M06Ice5hNqN4Z5niW8xy/j6wA+d+q64ymETNXglRExyqFfEPfeU\n",
       "3aClSmkTJuQv4rlcD3n3vXfI3uTa1s+5rp5HTD3fbPQ6MNahhuWPcHncE1y6XbPy5as/v9gSTfpk\n",
       "3ZO8xzz7l/IJPSXXVGfzcvsjByPYjFzKvIUrdxE90zNt+Fx/elO7+M/+3PzWfgC8uRMcSEI7IgAA\n",
       "AABJRU5ErkJggg==\n",
       "\" style=\"display:inline;vertical-align:middle;\" /></a></span></td></tr>\n",
       "<tr><td>&nbsp;</td><td colspan=4 style-\"text-align:left\"><a class=\"ProveItLink\" href=\"../untrue_from_negation/thm_proof.ipynb\">proveit.logic.booleans.negation.untrue_from_negation</a></td></tr><tr><td><a name=\"-0x4d94ffbe67e4d122_step8\">8</a></td><td>instantiation</td><td><a href=\"#-0x4d94ffbe67e4d122_step9\">9</a>, <a href=\"#-0x4d94ffbe67e4d122_step10\">10</a></td><td><span style=\"font-size:20px;\"> <a class=\"ProveItLink\" href=\"../../../__pv_it/_proof_double_negation_elim_lemma/f6745a461d3fa1aa0eab38f7065fa9e336ce5f130/proof.ipynb\" style=\"text-decoration: none\">&nbsp;&#x22A2;&nbsp;&nbsp;</a><a class=\"ProveItLink\" href=\"../../../__pv_it/_proof_double_negation_elim_lemma/7a6983770731bb7d2383243903079dd9cab68bb00/expr.ipynb\"><img src=\"data:image/png;base64,iVBORw0KGgoAAAANSUhEUgAAAFcAAAAVBAMAAADBdm84AAAAMFBMVEX////MzMxERES6uroQEBCY\n",
       "mJgyMjLu7u52dnaqqqqIiIhUVFTc3NwiIiJmZmYAAAAM3gM0AAAAAXRSTlMAQObYZgAAAAlwSFlz\n",
       "AAAOxAAADsQBlSsOGwAAAOdJREFUKM+Nky8OwjAYxd9g/BkBzrAjzGBQExxgJ1jmsCg0R0CjsCQI\n",
       "joCGQECT4ZAkHAHK+9qO7BO85Nf8srxubdMBNn1oyuwFl42qzFiwiRaaAiMz9DJiM1cVWH3HqSB5\n",
       "qGrLuSBJVbXlcEZknQUUdeV2Rpih39RwUS93dwRual1duVV8eZaf3DFYQlFXjlJickSYQFFXDl7k\n",
       "r3IzJXxsvl1Xv4wLMTmjsYaifoMxgTuburqyOU5/pMEFin4OZVKWN2CQEMkVmtqcBEmuavVuVe5X\n",
       "Y6+p/XViYtOJNa1M/3nFQVVmS94AMFEGAgzZTAAAAABJRU5ErkJggg==\n",
       "\" style=\"display:inline;vertical-align:middle;\" /></a></span></td></tr>\n",
       "<tr><td>&nbsp;</td><td colspan=4 style=\"text-align:left\"><span style=\"font-size:20px;\"><a class=\"ProveItLink\" href=\"../../../../../../__pv_it/common/09585084922504426caf1db2ff588a23a0932a960/expr.ipynb\"><img src=\"data:image/png;base64,iVBORw0KGgoAAAANSUhEUgAAAA8AAAAPBAMAAADJ+Ih5AAAAMFBMVEX///8QEBAiIiLu7u5ERES6\n",
       "urqYmJiIiIjMzMx2dnZUVFRmZmaqqqoyMjLc3NwAAABb1yYoAAAAAXRSTlMAQObYZgAAAAlwSFlz\n",
       "AAAOxAAADsQBlSsOGwAAAF9JREFUCNdjYACBtwxQcB9K8/yHMrjXP4Aw5s1vANN8BfUHIDIM5xPA\n",
       "jBiG/glgxgaG9wtANLv37vUOIIY5AwO/AkSGgUkASLMCdfB+ADIeAjHLPwYGk/+XGXj8/04AADnq\n",
       "Fzds8Dk2AAAAAElFTkSuQmCC\n",
       "\" style=\"display:inline;vertical-align:middle;\" /></a> : <a class=\"ProveItLink\" href=\"../../../__pv_it/axioms/446a01d9a7ebef169028057d3b157d31652390170/expr.ipynb\"><img src=\"data:image/png;base64,iVBORw0KGgoAAAANSUhEUgAAABwAAAAPBAMAAAAFYbKSAAAAIVBMVEX///8QEBCIiIiqqqqYmJi6\n",
       "urpUVFTc3NwiIiJmZmYAAAB461eaAAAAAXRSTlMAQObYZgAAAAlwSFlzAAAOxAAADsQBlSsOGwAA\n",
       "ACVJREFUCNdjYMAFQlC5RlTmzugAgk5U2TJSuJUELAJaINjR0QYA+eULGF522SwAAAAASUVORK5C\n",
       "YII=\n",
       "\" style=\"display:inline;vertical-align:middle;\" /></a></span></td></tr><tr><td><a name=\"-0x4d94ffbe67e4d122_step9\">9</a></td><td>theorem</td><td></td><td><span style=\"font-size:20px;\"> <a class=\"ProveItLink\" href=\"../double_negation_intro/thm_proof.ipynb\" style=\"text-decoration: none\">&nbsp;&#x22A2;&nbsp;&nbsp;</a><a class=\"ProveItLink\" href=\"../../../__pv_it/theorems/0b22d68afd7bfc707f054cfbe8b4e2370c2f148f0/expr.ipynb\"><img src=\"data:image/png;base64,iVBORw0KGgoAAAANSUhEUgAAAIoAAAAXBAMAAAAmUcrKAAAAMFBMVEX///+IiIgiIiIQEBB2dnbu\n",
       "7u5ERETMzMzc3NwyMjK6urpmZmaYmJiqqqpUVFQAAAB6qHgnAAAAAXRSTlMAQObYZgAAAAlwSFlz\n",
       "AAAOxAAADsQBlSsOGwAAAdpJREFUOMudkz1LA0EQhuc0CZcvPbAVDCkFIYoiWIhFChuTiJDGRgsh\n",
       "YOGhvQkEBBuTJiASNGCRRiFgQNRCbQS7oDaCYP5BbERTSJzd2cttzHKRDLy3z97evMfM3AH0jowS\n",
       "eehCvUOrqRBjH8BnkOps/+bk8qJEjBPUKOma7Q8dTNx5FWIEW3jxJrh2WWVrDi7+OxWyXQO7FKhw\n",
       "MTNXzcFlUIkYi3ETrzNcAfT3OrXlVYlYgDHGXl4kTYXD004uVSViQfDOCoyRLgE2+O2EOLRaKdai\n",
       "nViUXc4hvYDLI+kAdD5t9yw/9FhPrZi0TqBzmEVFRoAK5FjeM8mTcJXY066fTpe4aPmc1Ye6jKBt\n",
       "3jTYaNOkoEHNLU92uPh2DEeXZYDhEPKpUP6eHxnHHS6at96uyEqVEAuCgQjyk9BSgWfBVYeL4Rcf\n",
       "6rqVWpHRxz6QD+QHoSx/aRlGZBefqUWIYvZYJMyyR7/F9JmG+DCq0UZCcvFHY59E23aqjclWAYJb\n",
       "TRz1OJCoDQA5U3IxQP8iGjDbuRK2v+AQieIMW16zXVjZNHn+v0EXyj9o+yf1z4P79sh2uajDarNE\n",
       "Zyk7J9Xlsif0Jzxdd5JKlHxT/3HRDRWKdmZIvV36Cb2fpF/Z+G0JOaUIMgAAAABJRU5ErkJggg==\n",
       "\" style=\"display:inline;vertical-align:middle;\" /></a></span></td></tr>\n",
       "<tr><td>&nbsp;</td><td colspan=4 style-\"text-align:left\"><a class=\"ProveItLink\" href=\"../double_negation_intro/thm_proof.ipynb\">proveit.logic.booleans.negation.double_negation_intro</a></td></tr><tr><td><a name=\"-0x4d94ffbe67e4d122_step10\">10</a></td><td>theorem</td><td></td><td><span style=\"font-size:20px;\"> <a class=\"ProveItLink\" href=\"../not_false/thm_proof.ipynb\" style=\"text-decoration: none\">&nbsp;&#x22A2;&nbsp;&nbsp;</a><a class=\"ProveItLink\" href=\"../../../__pv_it/axioms/446a01d9a7ebef169028057d3b157d31652390170/expr.ipynb\"><img src=\"data:image/png;base64,iVBORw0KGgoAAAANSUhEUgAAABwAAAAPBAMAAAAFYbKSAAAAIVBMVEX///8QEBCIiIiqqqqYmJi6\n",
       "urpUVFTc3NwiIiJmZmYAAAB461eaAAAAAXRSTlMAQObYZgAAAAlwSFlzAAAOxAAADsQBlSsOGwAA\n",
       "ACVJREFUCNdjYMAFQlC5RlTmzugAgk5U2TJSuJUELAJaINjR0QYA+eULGF522SwAAAAASUVORK5C\n",
       "YII=\n",
       "\" style=\"display:inline;vertical-align:middle;\" /></a></span></td></tr>\n",
       "<tr><td>&nbsp;</td><td colspan=4 style-\"text-align:left\"><a class=\"ProveItLink\" href=\"../not_false/thm_proof.ipynb\">proveit.logic.booleans.negation.not_false</a></td></tr></table>"
      ],
      "text/plain": [
       "\tstep type\trequirements\tstatement\n",
       "0\tinstantiation\t1, 2, 3\t|- forall_{A in BOOLEAN | [not]([not](A))} A\n",
       "\tP(A) : A, Q(A) : [not]([not](A)), A : A\n",
       "1\tconjecture\t\t|- forall_{P, Q | Q(TRUE) => P(TRUE), Q(FALSE) => P(FALSE)} [forall_{A in BOOLEAN | Q(A)} P(A)]\n",
       "\tproveit.logic.booleans.conditioned_forall_over_bool_by_cases\n",
       "2\tdeduction\t4\t|- [not]([not](TRUE)) => TRUE\n",
       "3\tinstantiation\t5, 6\t|- [not]([not](FALSE)) => FALSE\n",
       "\tA : [not]([not](FALSE)), B : FALSE\n",
       "4\taxiom\t\t|- TRUE\n",
       "\tproveit.logic.booleans.true_axiom\n",
       "5\tconjecture\t\t|- forall_{A, B | A != TRUE} (A => B)\n",
       "\tproveit.logic.booleans.implication.untrue_antecedent_implication\n",
       "6\tinstantiation\t7, 8\t|- [not]([not](FALSE)) != TRUE\n",
       "\tA : [not]([not](FALSE))\n",
       "7\ttheorem\t\t|- forall_{A | [not](A)} (A != TRUE)\n",
       "\tproveit.logic.booleans.negation.untrue_from_negation\n",
       "8\tinstantiation\t9, 10\t|- [not]([not]([not](FALSE)))\n",
       "\tA : [not](FALSE)\n",
       "9\ttheorem\t\t|- forall_{A | A} [not]([not](A))\n",
       "\tproveit.logic.booleans.negation.double_negation_intro\n",
       "10\ttheorem\t\t|- [not](FALSE)\n",
       "\tproveit.logic.booleans.negation.not_false"
      ]
     },
     "execution_count": 7,
     "metadata": {},
     "output_type": "execute_result"
    }
   ],
   "source": [
    "%qed"
   ]
  },
  {
   "cell_type": "code",
   "execution_count": null,
   "metadata": {},
   "outputs": [],
   "source": []
  }
 ],
 "metadata": {
  "kernelspec": {
   "display_name": "Python 3",
   "language": "python",
   "name": "python3"
  },
  "language_info": {
   "codemirror_mode": {
    "name": "ipython",
    "version": 3
   },
   "file_extension": ".py",
   "mimetype": "text/x-python",
   "name": "python",
   "nbconvert_exporter": "python",
   "pygments_lexer": "ipython3",
   "version": "3.7.3"
  }
 },
 "nbformat": 4,
 "nbformat_minor": 1
}
