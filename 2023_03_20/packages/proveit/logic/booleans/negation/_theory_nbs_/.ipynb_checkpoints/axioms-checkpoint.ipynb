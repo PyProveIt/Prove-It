{
 "cells": [
  {
   "cell_type": "markdown",
   "metadata": {},
   "source": [
    "Axioms for the theory of <a class=\"ProveItLink\" href=\"theory.ipynb\">proveit.logic.booleans.negation</a>\n",
    "========"
   ]
  },
  {
   "cell_type": "code",
   "execution_count": 1,
   "metadata": {},
   "outputs": [
    {
     "name": "stdout",
     "output_type": "stream",
     "text": [
      "Defining axioms for theory 'proveit.logic.booleans.negation'\n",
      "Subsequent end-of-cell assignments will define axioms\n",
      "%end_axioms will finalize the definitions\n"
     ]
    }
   ],
   "source": [
    "import proveit\n",
    "# Prepare this notebook for defining the axioms of a theory:\n",
    "%axioms_notebook # Keep this at the top following 'import proveit'.\n",
    "from proveit.logic import Equals, Not, Implies, Forall, TRUE, FALSE, Boolean, in_bool\n",
    "from proveit import A\n",
    "%begin axioms"
   ]
  },
  {
   "cell_type": "markdown",
   "metadata": {},
   "source": [
    "**Implicit in the following set of axioms is that $\\lnot A$ is in Boolean iff\n",
    "$A$ is in Boolean.  Otherwise, $\\lnot A$ is simply undefined.**"
   ]
  },
  {
   "cell_type": "code",
   "execution_count": 2,
   "metadata": {},
   "outputs": [
    {
     "data": {
      "text/html": [
       "<strong id=\"not_t\">not_t:</strong> <a class=\"ProveItLink\" href=\"../__pv_it/axioms/ee04f0fb924d7a3fe760ca7abdbfa49c164365350/axiom_expr.ipynb\"><img src=\"data:image/png;base64,iVBORw0KGgoAAAANSUhEUgAAAFcAAAAVBAMAAADBdm84AAAAMFBMVEX////MzMxUVFRERES6uroi\n",
       "IiIQEBCYmJhmZmYyMjLu7u52dnaqqqqIiIjc3NwAAACW8nlqAAAAAXRSTlMAQObYZgAAAAlwSFlz\n",
       "AAAOxAAADsQBlSsOGwAAALxJREFUKM9jYGB4wIAK+BhwA94DaAIsF3ArPg1jcISCgQLDdSyqWApA\n",
       "JNcEJCEesKGcCzAVQ2Q4CjCE2BtwKWbDFGLIwqX4JBbF03Ep7saieBMuxdOxKK5ECRwkmRiYcANC\n",
       "8TFcJqfA4k0BoVieFMVuuBTHYFF8FJebbWGKkdxcjMvkTVhCoxuXYlHM5MIQgqYS6KKwVJCLWAUw\n",
       "TOELwJVCsaQalLSFCuwwRB7jTvyLidCOcCF6LuJ9gEspAJfRNxA0/OjkAAAAAElFTkSuQmCC\n",
       "\" style=\"display:inline;vertical-align:middle;\" /></a><br>"
      ],
      "text/plain": [
       "<IPython.core.display.HTML object>"
      ]
     },
     "metadata": {},
     "output_type": "display_data"
    }
   ],
   "source": [
    "not_t = Equals(Not(TRUE), FALSE)"
   ]
  },
  {
   "cell_type": "code",
   "execution_count": 3,
   "metadata": {},
   "outputs": [
    {
     "data": {
      "text/html": [
       "<strong id=\"not_f\">not_f:</strong> <a class=\"ProveItLink\" href=\"../__pv_it/axioms/acd5309aee54270f53dc70f78c5ccd7efa446ce10/axiom_expr.ipynb\"><img src=\"data:image/png;base64,iVBORw0KGgoAAAANSUhEUgAAAFcAAAAVBAMAAADBdm84AAAAMFBMVEX////MzMxUVFRERES6uroi\n",
       "IiIQEBCYmJhmZmYyMjLu7u52dnaqqqqIiIjc3NwAAACW8nlqAAAAAXRSTlMAQObYZgAAAAlwSFlz\n",
       "AAAOxAAADsQBlSsOGwAAALpJREFUKM9jYGB4wIAK+BhwA94DaAIsF3ArPo2srgBEXkdXwhEKBgoM\n",
       "XBOQRHnAhnIuwDQSIsNRgCHE3oBLMRumEEMWLsUnsSiejktxNxbFm3Apno5FcSVKECDJxMCEGxCK\n",
       "j+EyOQUWbwoIxfKkKHbDpTgGi+KjuNxsC1OM5OZiXCZvwhIa3bgUiyInl7BUsL0hmIohSYxVAEOC\n",
       "LwBXCsWSalDSFiqwwxB5jDvxLyZCO8KF6LmI9wEupQCZizcQxYmwMAAAAABJRU5ErkJggg==\n",
       "\" style=\"display:inline;vertical-align:middle;\" /></a><br>"
      ],
      "text/plain": [
       "<IPython.core.display.HTML object>"
      ]
     },
     "metadata": {},
     "output_type": "display_data"
    }
   ],
   "source": [
    "not_f = Equals(Not(FALSE), TRUE)"
   ]
  },
  {
   "cell_type": "code",
   "execution_count": 4,
   "metadata": {},
   "outputs": [
    {
     "data": {
      "text/html": [
       "<strong id=\"negation_elim\">negation_elim:</strong> <a class=\"ProveItLink\" href=\"../__pv_it/axioms/9e1710d9225ce360ff312bab277098008a81198a0/axiom_expr.ipynb\"><img src=\"data:image/png;base64,iVBORw0KGgoAAAANSUhEUgAAAJcAAAAXBAMAAAD0AcCSAAAAMFBMVEX///+IiIgiIiIQEBB2dnbu\n",
       "7u5ERETMzMzc3NwyMjK6urpmZmaYmJiqqqpUVFQAAAB6qHgnAAAAAXRSTlMAQObYZgAAAAlwSFlz\n",
       "AAAOxAAADsQBlSsOGwAAAbxJREFUOMtjYCAaNFAkjQoYL4CpTlzyC4H4AYhxhwjDrkCo+Vik1oAt\n",
       "O8DAsAvEmEHYLNYJYIr3Pxa5i2ByKgNDHZDiSCBsGPcBCPW+AZdhpxkYOAMYGFguEDaMGUJ5+Bfg\n",
       "Mow5gIEHaCMnEUF2E0xyCMhfwGUYJ9AkIyUlEyIM2wLxJcP9A7gMYwHG5XYGhlQwJwCqHAUEwBhz\n",
       "wORahnoHEL1JCQT0UAzjAUZRHwMHOHmwmoOF2FDj0BzG0gWTGxj6H+ByGa8BUHcAywKwK/9iMQwq\n",
       "CARW4LSUvft9Ai7D2D8ADRSAhP9yQyyGQQVhhgUyMPAr4DKMC+gyhgkHwWyBeVgMgwrCvLmBgYHJ\n",
       "AFeY8YKs8Z0K9gHDTkzDYIJAkAiyG5SMPuByGQ8oAJrBQbqcQRjJMLe0tDQFhCAQ+IFUguR/4DKM\n",
       "GxTPfOA0vcXlfQCqyx4gBIGgiIEh7P9UBt78nw6oJgF9bAz2MdMChIcY+gvQDYMLAgFTAaFk3YRc\n",
       "ivBfQDVsA0IQFCIbCBm2B14m2DGw7p+FFgEIQRDIIGAWtqKHDZfiMAKGsTWQYBiHAH7DJBhIMIwc\n",
       "wEGBXgDy3mI9r0RDlwAAAABJRU5ErkJggg==\n",
       "\" style=\"display:inline;vertical-align:middle;\" /></a><br>"
      ],
      "text/plain": [
       "<IPython.core.display.HTML object>"
      ]
     },
     "metadata": {},
     "output_type": "display_data"
    }
   ],
   "source": [
    "negation_elim = Forall(A, Equals(A, FALSE), conditions=[Not(A)])"
   ]
  },
  {
   "cell_type": "code",
   "execution_count": 5,
   "metadata": {},
   "outputs": [
    {
     "data": {
      "text/html": [
       "<strong id=\"operand_is_bool\">operand_is_bool:</strong> <a class=\"ProveItLink\" href=\"../__pv_it/axioms/d01c5ce54fd7bec728b2519568de50fb4c01fa7e0/axiom_expr.ipynb\"><img src=\"data:image/png;base64,iVBORw0KGgoAAAANSUhEUgAAALUAAAAXBAMAAAC/qRN/AAAAMFBMVEX///+IiIgiIiIQEBB2dnbu\n",
       "7u5ERETMzMzc3NwyMjK6urpmZmaYmJiqqqpUVFQAAAB6qHgnAAAAAXRSTlMAQObYZgAAAAlwSFlz\n",
       "AAAOxAAADsQBlSsOGwAAAqtJREFUSMetlU2I00AYht900yZN2934B3rRUkFYRKiLsOBBc9CqBzWC\n",
       "7FGiYFQULCIeteipIO6KFEREI6h7Uai64OoqVvDieongRfCnB/HgpXt0D7J+M5Pf7Y8QnEMm8ybz\n",
       "ZL73+2YCJG+1xA//2SSXd/Vl6sZTi2O/gHt032bClyTsT6K7u0zOaHr9iAOpBbxk45sJ0Okp3hWW\n",
       "utgtuWYBDeAiDVUrATvXEl2n1sXOu+TGByBrArKbgD0kur0Hq57Rx0qjAZtiGjKRp89nk9j9mV9V\n",
       "fYNYmHbdDNY9fNUgKIHHSqVtSdgzwhJ8F97UzcCTNSt/UC+TL8+B41w0vZdFikIXTUi92Lf59TEu\n",
       "GYiVQ0Yb3bmZWHny5RpUXofpcfFIvDEf1gPpTd+HfU9f+/oWfm1iks/GVCSX0jwVSaFM96bsME3+\n",
       "E2Gn2wGb6fepV9bbjiSrX73UYTtP4Om5Di8yhawtbfLYsGiCskB8XaRyemuEnXMCNtNZMc0RVJKx\n",
       "242yDwEjRb4YK7JuWETRyiyat1zT70TYqdBXplORsn1GbPWdGfWEzEqV+bAYY9NyC0zZ3+DR4UWE\n",
       "HR4SXC80McEHuWfj/oOjrPBYAS/w4YoY+yPlkkVyhXs7jVUR9kOgYtt20dM1C484W1ae+G4dYFPZ\n",
       "hN98mHUDtiGvpnhyrH6GeXZmdnXMkP1NvNf2dMXCe/qUS34bhsc4B0wsNVA4u8iV9M8HIs4bNj8H\n",
       "kXLC0DFZDdkXfLbQyZPzYt0wdG9Gqhqvd60i9rzfLgd3FPKI25XLpqdLOpWqYO/x2fnm4H37KjjU\n",
       "diD95lbIztRiOg3VE2zvrKucCSafHIjudbYKtmbERFYkh23b6RL7t0ytHxuzMXG258r0Qey16MuW\n",
       "zYiWd/BfmhqcfpHfVzLUXz44mhSAcVkuAAAAAElFTkSuQmCC\n",
       "\" style=\"display:inline;vertical-align:middle;\" /></a><br>"
      ],
      "text/plain": [
       "<IPython.core.display.HTML object>"
      ]
     },
     "metadata": {},
     "output_type": "display_data"
    }
   ],
   "source": [
    "operand_is_bool = Forall(A, in_bool(A), condition=in_bool(Not(A)))"
   ]
  },
  {
   "cell_type": "code",
   "execution_count": 6,
   "metadata": {},
   "outputs": [
    {
     "name": "stdout",
     "output_type": "stream",
     "text": [
      "These axioms may now be imported from the theory package: proveit.logic.booleans.negation\n"
     ]
    }
   ],
   "source": [
    "%end axioms"
   ]
  },
  {
   "cell_type": "code",
   "execution_count": null,
   "metadata": {},
   "outputs": [],
   "source": []
  }
 ],
 "metadata": {
  "kernelspec": {
   "display_name": "Python 3",
   "language": "python",
   "name": "python3"
  },
  "language_info": {
   "codemirror_mode": {
    "name": "ipython",
    "version": 3
   },
   "file_extension": ".py",
   "mimetype": "text/x-python",
   "name": "python",
   "nbconvert_exporter": "python",
   "pygments_lexer": "ipython3",
   "version": "3.7.3"
  }
 },
 "nbformat": 4,
 "nbformat_minor": 1
}
