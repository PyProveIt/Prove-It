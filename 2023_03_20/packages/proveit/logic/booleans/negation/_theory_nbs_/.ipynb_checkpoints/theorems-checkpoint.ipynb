{
 "cells": [
  {
   "cell_type": "markdown",
   "metadata": {},
   "source": [
    "Theorems (or conjectures) for the theory of <a class=\"ProveItLink\" href=\"theory.ipynb\">proveit.logic.booleans.negation</a>\n",
    "========"
   ]
  },
  {
   "cell_type": "code",
   "execution_count": 1,
   "metadata": {},
   "outputs": [
    {
     "name": "stdout",
     "output_type": "stream",
     "text": [
      "Defining theorems for theory 'proveit.logic.booleans.negation'\n",
      "Subsequent end-of-cell assignments will define theorems\n",
      "'%end theorems' will finalize the definitions\n"
     ]
    }
   ],
   "source": [
    "import proveit\n",
    "# Prepare this notebook for defining the theorems of a theory:\n",
    "%theorems_notebook # Keep this at the top following 'import proveit'.\n",
    "from proveit.logic import Not, FALSE, Forall, Implies, Equals, TRUE, Or, NotEquals, Boolean, in_bool\n",
    "from proveit import A, B\n",
    "%begin theorems"
   ]
  },
  {
   "cell_type": "code",
   "execution_count": 2,
   "metadata": {},
   "outputs": [
    {
     "data": {
      "text/html": [
       "<strong id=\"not_false\"><a class=\"ProveItLink\" href=\"proofs/not_false/thm_proof.ipynb\">not_false</a> (established theorem):<br></strong> <a class=\"ProveItLink\" href=\"../__pv_it/theorems/ac663a8565b8a58847e5b77e80556ed8fe5d9bcb0/theorem_expr.ipynb\"><img src=\"data:image/png;base64,iVBORw0KGgoAAAANSUhEUgAAABwAAAAPBAMAAAAFYbKSAAAAIVBMVEX///8QEBCIiIiqqqqYmJi6\n",
       "urpUVFTc3NwiIiJmZmYAAAB461eaAAAAAXRSTlMAQObYZgAAAAlwSFlzAAAOxAAADsQBlSsOGwAA\n",
       "ACVJREFUCNdjYMAFQlC5RlTmzugAgk5U2TJSuJUELAJaINjR0QYA+eULGF522SwAAAAASUVORK5C\n",
       "YII=\n",
       "\" style=\"display:inline;vertical-align:middle;\" /></a><br>"
      ],
      "text/plain": [
       "<IPython.core.display.HTML object>"
      ]
     },
     "metadata": {},
     "output_type": "display_data"
    }
   ],
   "source": [
    "not_false = Not(FALSE)"
   ]
  },
  {
   "cell_type": "code",
   "execution_count": 3,
   "metadata": {},
   "outputs": [
    {
     "data": {
      "text/html": [
       "<strong id=\"negation_intro\"><a class=\"ProveItLink\" href=\"proofs/negation_intro/thm_proof.ipynb\">negation_intro</a> (established theorem):<br></strong> <a class=\"ProveItLink\" href=\"../__pv_it/theorems/84be464aef8e7289e589b517f5afabe649f0be840/theorem_expr.ipynb\"><img src=\"data:image/png;base64,iVBORw0KGgoAAAANSUhEUgAAAIUAAAAXBAMAAADXWpFHAAAAMFBMVEX///+IiIgiIiIQEBB2dnbu\n",
       "7u5ERETMzMzc3NwyMjK6urpmZmaYmJiqqqpUVFQAAAB6qHgnAAAAAXRSTlMAQObYZgAAAAlwSFlz\n",
       "AAAOxAAADsQBlSsOGwAAAc5JREFUOMtjYCANcKALNDCQDGRRDJzAwLAQSD8Ace4QawSvAzKP8wMD\n",
       "A+MBBoZdIM4MYs2IROHdB5rBMJWBoQ7kpgRizdiDwtv3A0icBrongIGB5QKxZhggc1havgNJ5gAG\n",
       "HqB/OIkOjgnIvEbGv6BAARpgpKRkQqwZ3ChBuoH3D8g1wFjZzsCQChYKgCiDqWDFYgbITjjgusD+\n",
       "BUjxAN3Wx8ABjl9Wc7AMG0xJcAGSjVCaCRhwm5SAQBtsG8c/kP+AYcQWwLIAHEJ/Uc3wRwpoWLwx\n",
       "L4Ay+oBYbPe+b0CKHRjBvAKQIF1uiGIGV7EAfjNYgfKfQApBcTXhIFhYYB6KGYycDzDNYLqAMAMU\n",
       "cMogvygACd+pYD0MO1HMEOCewLAtDQgOIJnBBnNbNwPDGiA1HxSmIMlmsIXLGYSRzeAqYDTAdAcL\n",
       "wm0cIOn8Bmh884EjYIvL+wAkM7hd/L5imsGuAI/5/J8BDNf+TwH6DxZGQK8w9BcgmSHAwPEd0y8M\n",
       "6phppgnOAvqO/wLCDC6gzr+Y7gBlMJzZkNuOgXX/LIQZmx8wRP+EOpIlLc0sLREaqBjFFrY8z4Y3\n",
       "w7Bi6GBrINUMhkZ0AQkGks0gr+AmDADXOGF6BEW7EAAAAABJRU5ErkJggg==\n",
       "\" style=\"display:inline;vertical-align:middle;\" /></a><br>"
      ],
      "text/plain": [
       "<IPython.core.display.HTML object>"
      ]
     },
     "metadata": {},
     "output_type": "display_data"
    }
   ],
   "source": [
    "negation_intro = Forall(A, Not(A), conditions=[Equals(A, FALSE)])"
   ]
  },
  {
   "cell_type": "code",
   "execution_count": 4,
   "metadata": {},
   "outputs": [
    {
     "data": {
      "text/html": [
       "<strong id=\"negation_contradiction\"><a class=\"ProveItLink\" href=\"proofs/negation_contradiction/thm_proof.ipynb\">negation_contradiction</a> (established theorem):<br></strong> <a class=\"ProveItLink\" href=\"../__pv_it/theorems/75f874c67552a9b1fbdea593df32d55412545b760/theorem_expr.ipynb\"><img src=\"data:image/png;base64,iVBORw0KGgoAAAANSUhEUgAAAGsAAAAWBAMAAAA1LX8gAAAAMFBMVEX///+IiIgiIiIQEBB2dnbu\n",
       "7u5ERETMzMzc3NwyMjK6urpmZmaYmJiqqqpUVFQAAAB6qHgnAAAAAXRSTlMAQObYZgAAAAlwSFlz\n",
       "AAAOxAAADsQBlSsOGwAAASpJREFUOMtjYCAPPAARd0jQwHUARO4CETNI0MYrACLrgJgjgWRtnAEM\n",
       "DCwXSNbGA3QqJwPJ2hiMlJRMyNC2nYEhFcwIAJPcMGlWFMWs6Nr6GDjAkcBqDuaywaSDC5C1IXhQ\n",
       "bWwBLAtANMtfVG3+KOGE4EG18QpAQmS5IYo2rmIB5DhG8KDaGCYcBFMC81C0MXI+QNKGxINp850K\n",
       "lmDYiaJNgHsCkjYkHkxbM9ig5QzCyNq4ChgNQB5OS0tLgvNQtPGBA2mLy/sAJG3cLn5foer4kHjc\n",
       "SkrKwIiGu5iRgaG/AEmbAAPHd4Q2JB4qWMPAwH8BoQ2UO/4yhEATAISHBXDbMbDun4XQtvkBQ/TP\n",
       "BcXQyILw8CY5NmQO8TkDWRtXAFnaeIjPFxxEqQIAoa87eDBmvN0AAAAASUVORK5CYII=\n",
       "\" style=\"display:inline;vertical-align:middle;\" /></a><br>"
      ],
      "text/plain": [
       "<IPython.core.display.HTML object>"
      ]
     },
     "metadata": {},
     "output_type": "display_data"
    }
   ],
   "source": [
    "negation_contradiction = Forall(A, FALSE, conditions=[A, Not(A)])"
   ]
  },
  {
   "cell_type": "code",
   "execution_count": 5,
   "metadata": {},
   "outputs": [
    {
     "data": {
      "text/html": [
       "<strong id=\"untrue_from_negation\"><a class=\"ProveItLink\" href=\"proofs/untrue_from_negation/thm_proof.ipynb\">untrue_from_negation</a> (established theorem):<br></strong> <a class=\"ProveItLink\" href=\"../__pv_it/theorems/7e4864597bcd43593c955cb1a50ba474ae9c55890/theorem_expr.ipynb\"><img src=\"data:image/png;base64,iVBORw0KGgoAAAANSUhEUgAAAJcAAAAXCAMAAAAx8S2TAAAAPFBMVEX///8NDQ0WFhYLCwsYGBiI\n",
       "iIgiIiIQEBB2dnbu7u5ERETMzMzc3NwyMjK6urpmZmaYmJiqqqpUVFQAAACZSrTsAAAAAXRSTlMA\n",
       "QObYZgAAAAlwSFlzAAAOxAAADsQBlSsOGwAAAdpJREFUSMfNl9lywyAMRenCvhn4/3+tsU0ssCCk\n",
       "40yrh0zsCHG4SKAQ8gYzfzh6YDTAWSzq42V3uKP5Mz6ew3IPVhDwySbMRyuAyIBlHJpBvHtEuEdA\n",
       "WQkUEsql9GU1FKxlFVMXwYy6Ry5fye5jQparIxlxLf6AyybCPVwcPggjkkbkMkMuwlem5VifvSm7\n",
       "YBxDCU3X9bpIxlw2M/Et4bi4aRthHJ8T7FpOWCZXXCKD+01oBQq3qmE/TPLrnADDrVLpJNrK+/4q\n",
       "ldfjWrLoJpaPMhmHKTEqh9pzMxbqJZkUZ+SquQIvUgkHVKxSYsQlrsnDz0BUeb/WYxvAoTtQcelU\n",
       "XoFsdZrTOa7Gs+GS+2+JzchVczl+lOIC3lJi4xxX49ns4yEL43V+fX6cJ3t3H9lxdFkJJiPeTnG1\n",
       "nrt7ie8W/CKy+M1Y5/0+qeER7M06Ice5hNqN4Z5niW8xy/j6wA+d+q64ymETNXglRExyqFfEPfeU\n",
       "3aClSmkTJuQv4rlcD3n3vXfI3uTa1s+5rp5HTD3fbPQ6MNahhuWPcHncE1y6XbPy5as/v9gSTfpk\n",
       "3ZO8xzz7l/IJPSXXVGfzcvsjByPYjFzKvIUrdxE90zNt+Fx/elO7+M/+3PzWfgC8uRMcSEI7IgAA\n",
       "AABJRU5ErkJggg==\n",
       "\" style=\"display:inline;vertical-align:middle;\" /></a><br>"
      ],
      "text/plain": [
       "<IPython.core.display.HTML object>"
      ]
     },
     "metadata": {},
     "output_type": "display_data"
    }
   ],
   "source": [
    "untrue_from_negation = Forall(A, NotEquals(A, TRUE), conditions=[Not(A)])"
   ]
  },
  {
   "cell_type": "code",
   "execution_count": 6,
   "metadata": {},
   "outputs": [
    {
     "data": {
      "text/html": [
       "<strong id=\"falsified_negation_intro\"><a class=\"ProveItLink\" href=\"proofs/falsified_negation_intro/thm_proof.ipynb\">falsified_negation_intro</a> (established theorem):<br></strong> <a class=\"ProveItLink\" href=\"../__pv_it/theorems/824e96ec5f7288c4cea8aefbdfaa569c1d40b7c10/theorem_expr.ipynb\"><img src=\"data:image/png;base64,iVBORw0KGgoAAAANSUhEUgAAAKoAAAAXBAMAAABpDMkaAAAAMFBMVEX///+IiIgiIiIQEBB2dnbu\n",
       "7u5ERETMzMzc3NwyMjK6urpmZmaYmJiqqqpUVFQAAAB6qHgnAAAAAXRSTlMAQObYZgAAAAlwSFlz\n",
       "AAAOxAAADsQBlSsOGwAAAfVJREFUOMutVb9Lw0AUftW2pLbVgKtgiZsgaFEKDuLg4KLWpbMOQsHB\n",
       "4h9gCwXBxXYpiBQVHLoodBBEHayL4FbURRDsf1BHHaS+d3fJ5dpc6NAPvuS9+y5fLu9+BKAPFATd\n",
       "MLS9DegLgSanxBHAiKnrTkqLgk9f13dBiXPkhJdhA7hyT/cTP9NQmVMi3sFLJN3bNc4+AJUDqsSW\n",
       "n2u0welqaWOVY3WdKyr0ymDTz3VYUGJ1I4fXBZ0rKjEcRcS3rB+CcpLNSRpGVeuKStKy5n1dbwRl\n",
       "AeCLCrKudUXlFmCHxWnxiIAzGdXucV1DfhlvL6y7xdBSXFE5BoO1hVKsJWzPfMo2meHkz9MU1aFE\n",
       "T7xpx4pKOB28oDD4p7iKFLEoyEqKdoHdhzYtmrzWNU8Rn6zanOIqUg/XTYCxBMaXWldSyk8sNM8U\n",
       "V5HKCjiuWIShWYxftXUlZa3CNjvcuV3tFLEtyFzrbFdGvjF+1o6VlCJ7UQ3G3a52KlaQaxUVqdNP\n",
       "92pTXEkZzbFopZ12udopYl+QI9OpQHzvF5fWdPfOtqypJCuGowQASjnp6qSIoRxn9zGa0B6wjnKF\n",
       "E9uUrk7KDwuvo0Q9cDyV6BKEHk8dV5kSsoIqDrVb3EMJ9zZlBFVkta7ZvlwNk1P97RS0P6RCX64D\n",
       "gDEIk3+eGW3dFl04uAAAAABJRU5ErkJggg==\n",
       "\" style=\"display:inline;vertical-align:middle;\" /></a><br>"
      ],
      "text/plain": [
       "<IPython.core.display.HTML object>"
      ]
     },
     "metadata": {},
     "output_type": "display_data"
    }
   ],
   "source": [
    "falsified_negation_intro = Forall(A, Equals(Not(A), FALSE), conditions=[A])"
   ]
  },
  {
   "cell_type": "code",
   "execution_count": 7,
   "metadata": {},
   "outputs": [
    {
     "data": {
      "text/html": [
       "<strong id=\"double_negation_intro\"><a class=\"ProveItLink\" href=\"proofs/double_negation_intro/thm_proof.ipynb\">double_negation_intro</a> (established theorem):<br></strong> <a class=\"ProveItLink\" href=\"../__pv_it/theorems/2a673c5806b436fc7c11c310aa3ce35e5d96fe2e0/theorem_expr.ipynb\"><img src=\"data:image/png;base64,iVBORw0KGgoAAAANSUhEUgAAAIoAAAAXBAMAAAAmUcrKAAAAMFBMVEX///+IiIgiIiIQEBB2dnbu\n",
       "7u5ERETMzMzc3NwyMjK6urpmZmaYmJiqqqpUVFQAAAB6qHgnAAAAAXRSTlMAQObYZgAAAAlwSFlz\n",
       "AAAOxAAADsQBlSsOGwAAAdpJREFUOMudkz1LA0EQhuc0CZcvPbAVDCkFIYoiWIhFChuTiJDGRgsh\n",
       "YOGhvQkEBBuTJiASNGCRRiFgQNRCbQS7oDaCYP5BbERTSJzd2cttzHKRDLy3z97evMfM3AH0jowS\n",
       "eehCvUOrqRBjH8BnkOps/+bk8qJEjBPUKOma7Q8dTNx5FWIEW3jxJrh2WWVrDi7+OxWyXQO7FKhw\n",
       "MTNXzcFlUIkYi3ETrzNcAfT3OrXlVYlYgDHGXl4kTYXD004uVSViQfDOCoyRLgE2+O2EOLRaKdai\n",
       "nViUXc4hvYDLI+kAdD5t9yw/9FhPrZi0TqBzmEVFRoAK5FjeM8mTcJXY066fTpe4aPmc1Ye6jKBt\n",
       "3jTYaNOkoEHNLU92uPh2DEeXZYDhEPKpUP6eHxnHHS6at96uyEqVEAuCgQjyk9BSgWfBVYeL4Rcf\n",
       "6rqVWpHRxz6QD+QHoSx/aRlGZBefqUWIYvZYJMyyR7/F9JmG+DCq0UZCcvFHY59E23aqjclWAYJb\n",
       "TRz1OJCoDQA5U3IxQP8iGjDbuRK2v+AQieIMW16zXVjZNHn+v0EXyj9o+yf1z4P79sh2uajDarNE\n",
       "Zyk7J9Xlsif0Jzxdd5JKlHxT/3HRDRWKdmZIvV36Cb2fpF/Z+G0JOaUIMgAAAABJRU5ErkJggg==\n",
       "\" style=\"display:inline;vertical-align:middle;\" /></a><br>"
      ],
      "text/plain": [
       "<IPython.core.display.HTML object>"
      ]
     },
     "metadata": {},
     "output_type": "display_data"
    }
   ],
   "source": [
    "double_negation_intro = Forall(A, Not(Not(A)), conditions=[A])"
   ]
  },
  {
   "cell_type": "code",
   "execution_count": 8,
   "metadata": {},
   "outputs": [
    {
     "data": {
      "text/html": [
       "<strong id=\"double_negation_elim_lemma\"><a class=\"ProveItLink\" href=\"proofs/double_negation_elim_lemma/thm_proof.ipynb\">double_negation_elim_lemma</a> (conjecture with conjecture-based proof):<br></strong> <a class=\"ProveItLink\" href=\"../__pv_it/theorems/be90297dc41c0a2948a98580cd0eb7d75b2d77cd0/theorem_expr.ipynb\"><img src=\"data:image/png;base64,iVBORw0KGgoAAAANSUhEUgAAAIcAAAAWBAMAAAAY85LfAAAAMFBMVEX///+IiIgiIiIQEBB2dnbu\n",
       "7u5ERETMzMzc3NwyMjK6urpmZmaYmJiqqqpUVFQAAAB6qHgnAAAAAXRSTlMAQObYZgAAAAlwSFlz\n",
       "AAAOxAAADsQBlSsOGwAAAcpJREFUOMulkztIw1AUhv9IUmvb1ICbCEpXF1/gJhm0uIhx6SaIYIaK\n",
       "WBcXQQsFoeATWhEF7SC6KHQQrDpYV6duLqKdXOuog+g9N20eF5GSBm7yn+TPl3NOzgVaPbJsVUm8\n",
       "tAA5ZeuOxKF/hvrDTutsBef8Q8K1NNBhAHLFP2RyOgVEygzknxHUeimDoVhspIVq8MaywA2wwGND\n",
       "NBTd/Uvb0oDk3L/Chs4uOwjy36yM1u25436rR+52P9mKfEXXh3bp7YAhFyiUv9lp5T0JTd9+FiFK\n",
       "1ZbkO2sE0uJ9jWyqZvX1YpBVyGpjEHlWhIQLtiRfR6P0GaCzj8TeI4+1E6CHC31rQoS0OZJ89kyw\n",
       "utoGSEzleWK4hcJf0+6HUyIkayvyQa03JUTz8UEqw+u9QBe/R5msdTsQ2TTNeZwDcSb6LB9CdX6G\n",
       "evpJKsq/ez1eMyIHprlEPZG9mUTxaomq5UO79Sjxk4e6/KU7WWI31a5bmciSCFltQLjPLkc4Llmb\n",
       "K9bUMciKFxJuNLZY90nan9M7BuXhCJusMnU/Z5bFxgbSHl8g/c9OUOJm0olckJDu8SWa31zusS95\n",
       "npT8QWT39owUmod4CndDFMH4C2ZPaMfF2ewAAAAAAElFTkSuQmCC\n",
       "\" style=\"display:inline;vertical-align:middle;\" /></a><br>"
      ],
      "text/plain": [
       "<IPython.core.display.HTML object>"
      ]
     },
     "metadata": {},
     "output_type": "display_data"
    }
   ],
   "source": [
    "double_negation_elim_lemma = Forall(A, A, conditions=[Not(Not(A))],\n",
    "                                domain=Boolean)"
   ]
  },
  {
   "cell_type": "code",
   "execution_count": 9,
   "metadata": {},
   "outputs": [
    {
     "data": {
      "text/html": [
       "<strong id=\"double_negation_elim\"><a class=\"ProveItLink\" href=\"proofs/double_negation_elim/thm_proof.ipynb\">double_negation_elim</a> (conjecture with conjecture-based proof):<br></strong> <a class=\"ProveItLink\" href=\"../__pv_it/theorems/fd52e4b2b5b48580c1af431cf5da1a6839bb9b7c0/theorem_expr.ipynb\"><img src=\"data:image/png;base64,iVBORw0KGgoAAAANSUhEUgAAAHEAAAAWBAMAAAAFoW4BAAAAMFBMVEX///+IiIgiIiIQEBB2dnbu\n",
       "7u5ERETMzMzc3NwyMjK6urpmZmaYmJiqqqpUVFQAAAB6qHgnAAAAAXRSTlMAQObYZgAAAAlwSFlz\n",
       "AAAOxAAADsQBlSsOGwAAAXBJREFUOMtjYCALdALxAxDjDqk65wPxLhBjBokaef8DiTog5kggUSf3\n",
       "+wYGBs4ABgaWCyTq9PAvYGDgOQDUTaJGDgF5kF1GSkompDqW4T7QPobtDAypYH4AVBQpIBrgTKCk\n",
       "AJyzlqHeAUj1MXCAY4bVHCzKhqTzFJwFkkSYuYGhH6SFLYBlAYjL8hddJ+sDOBMkyeUA5TBm734P\n",
       "ig1eAUgALTdE18m9AM4ES06FcgIZGPgVQIwJB8F8gXnoOpkQTLCkL9yxDEwGIIYv2CxGhp3oOjvh\n",
       "LIjkbQiHCxSPH0CsZrB3ljMII3SypKWlJTEsY2BwAzIUYJLLIDqbQap+gFh8BSByi8v7ABQ7+Rju\n",
       "QRgPYJJlYG7Y/6kMvPk/HRDuYegvQNNZBtMJlbyNNVmsAYbXBRSd3LAQ2gCTFMSanuwYWPfPQgsh\n",
       "tgZUyQz8aRJJJzzqoQkjgWidDDtQ3dVAvE6WAAasqRhH3kPmBODkMDAAAKxoTlEx+jPgAAAAAElF\n",
       "TkSuQmCC\n",
       "\" style=\"display:inline;vertical-align:middle;\" /></a><br>"
      ],
      "text/plain": [
       "<IPython.core.display.HTML object>"
      ]
     },
     "metadata": {},
     "output_type": "display_data"
    }
   ],
   "source": [
    "double_negation_elim = Forall(A, A, conditions=[Not(Not(A))])"
   ]
  },
  {
   "cell_type": "code",
   "execution_count": 10,
   "metadata": {},
   "outputs": [
    {
     "data": {
      "text/html": [
       "<strong id=\"closure\"><a class=\"ProveItLink\" href=\"proofs/closure/thm_proof.ipynb\">closure</a> (conjecture with conjecture-based proof):<br></strong> <a class=\"ProveItLink\" href=\"../__pv_it/theorems/5f10acb965841b4c686fb057b9c4be3d2920b7c00/theorem_expr.ipynb\"><img src=\"data:image/png;base64,iVBORw0KGgoAAAANSUhEUgAAAJsAAAAVBAMAAACj9YEXAAAAMFBMVEX///+IiIgiIiIQEBB2dnbu\n",
       "7u5ERETMzMzc3NwyMjK6urpmZmaYmJiqqqpUVFQAAAB6qHgnAAAAAXRSTlMAQObYZgAAAAlwSFlz\n",
       "AAAOxAAADsQBlSsOGwAAAoRJREFUOMuFVE1o1EAUftlmt7vZpMY/EBEsEYRahFoVwYPmoMWLNV56\n",
       "U6JgqBVx61WwxUKhUG2LXREtuqLSi8IeCqIVXC+Ceok/IIKgB+nBy3q0B6nvzbxONtlm/eDLTt6+\n",
       "+fL+ZgBaY5TZiHwL39bQQskIEwCGnXDacX659xfAA1z/IMO3NLnPzAj3kdsSXjnDnjhdAa0G8ILe\n",
       "b6eoZaclI1gr+Ch4SbmaPuoDlAGuUjH8FLliTbLBUscKmdUmOTPENN/LL+lhilwbM8KxEyV87uei\n",
       "nXW6lBwm0eaBiR8vpJXuKzNqqr2dPj0nXowZT0XXMemiDmr1Os6+NLkFZpQrfKfc+2WTPZXs5g0/\n",
       "8VfHhJ8BnBNGr1luTkXCeAojGAW8hVgDc0bX4W7cbmLCNyAvhiV7gHs3e7d7tZa7JYsOgepfhSly\n",
       "/iT+nW5ohfYO22r14NrTK2TT/+JjeGkIbPf6F/Y7yBRlQx3twmKdpmCEDO1YJmcny4H/CC2/UdKW\n",
       "nZjfg2Fg5iinn0qROwmwrhPXD0U6fkN04OewNz0U82ths+/xuNvu5NF4skoO883Qlo/C0hmTw6As\n",
       "shwvixmC5/w9e3Fvif3OMIVcFQwaKkwI3gjL+pjcB2wF7R8TnZiHjcKdoruylf361VAIjNHWP2p4\n",
       "CqGSc/VNGHmRut4hYlk4UvfMW0FwkWqns99lpsTAShmsS8u4Z5c80UuP5eG4GYgbBTIVdckATJXa\n",
       "XRmdrrE1U5JMXnhcNaNPHrJVXFOrJ9izUM4zyg2zlc568rxD8laI8FI5HILsqzswjpFYM7OBch9k\n",
       "xjG+tlrTxZTtC4ZihgFmHINry+X+e7vnbcn4ZZ6ybQvAP5p4k4+auzvCAAAAAElFTkSuQmCC\n",
       "\" style=\"display:inline;vertical-align:middle;\" /></a><br>"
      ],
      "text/plain": [
       "<IPython.core.display.HTML object>"
      ]
     },
     "metadata": {},
     "output_type": "display_data"
    }
   ],
   "source": [
    "closure = Forall(A, in_bool(Not(A)), domain=Boolean)"
   ]
  },
  {
   "cell_type": "code",
   "execution_count": 11,
   "metadata": {},
   "outputs": [
    {
     "data": {
      "text/html": [
       "<strong id=\"double_neg_closure\"><a class=\"ProveItLink\" href=\"proofs/double_neg_closure/thm_proof.ipynb\">double_neg_closure</a> (conjecture with conjecture-based proof):<br></strong> <a class=\"ProveItLink\" href=\"../__pv_it/theorems/79de1ff0c7e69a8f04fa100d47d39809ab8ea75a0/theorem_expr.ipynb\"><img src=\"data:image/png;base64,iVBORw0KGgoAAAANSUhEUgAAALkAAAAVBAMAAADoXVL6AAAAMFBMVEX///+IiIgiIiIQEBB2dnbu\n",
       "7u5ERETMzMzc3NwyMjK6urpmZmaYmJiqqqpUVFQAAAB6qHgnAAAAAXRSTlMAQObYZgAAAAlwSFlz\n",
       "AAAOxAAADsQBlSsOGwAAArFJREFUOMuFVUtoE1EUPUknab51/IGIYIgg1CLUqgguNAstbtRx050S\n",
       "BUOtiKlbwQYLhUK1LTYiKhpR6UYhi4JoBetGUDfxAyIIdiFduIlLu5B637ybN3eSTHvgTN69ee/M\n",
       "nfPuvAFWR4kpQokYM2jp6gjVNEXoYRxI2Jq+NTsuLPf9Bh7ReFElfgSpf2WK0MND4jamRDRhj5+p\n",
       "ILQAvFLxnQDxyJSmCD2kV+gSdzT96gtWKQ+UgWvKuXyAenJBU4Tizzo5m6pqNqmnauTJR31jqxag\n",
       "3sEUoYdjJ4t03c9Uhp/Ldht1eswOBymqJx5k+3emCL12sberou4zaXenHVN710SOZEm6L5vdF6Q+\n",
       "xxShZwx+KqNOMKmFHOPM5g2/6Ncid14A592k06ruFWZCg+cYofrwnilaI5roPtxDaily5yZibldG\n",
       "DnArzNzraezDbs1kVqEqh0AVk2rdFyYwJXY19IEaJt1LY8eqqJz1jy7DS0Owcze+8byDTNfnRTlE\n",
       "6OJ8XbXaCBOdZHF2J6sj/4Qyf+gOtt7U2T1UGdlE6tbptdVPAesyNH7MRCQvakc+Stvcq57orZuz\n",
       "H/BbZ+cmjvqdaUiKIRmDsFr9mQlkfOpUclpljpfdZsVLvr09v7fI884yXcmqHCZUI9OT4x0TWO9T\n",
       "/0S7quRG3U2dxUZ3iar96lae57WbCRmjSuWvr2njNaOeszbRsyVVT3W5lc4dqTup24XCJeW7xfOu\n",
       "MEWoMbBSRvryMi3fBU0yfumpfmVvFdwzEuGKOTaByWJnTtduhTgbLmqKsPmAz2i6L2u/PgkauG5G\n",
       "z6gFavq1IvVhzjadUc3HVes558NrM+kQIm/uYoyKS0/PFMz0QaYI/RhjtkHLyRvpLwz5EgNMEfox\n",
       "2PaeenPX/PTFbE0R+r9yJc122AL8ByW1rBAhnQxmAAAAAElFTkSuQmCC\n",
       "\" style=\"display:inline;vertical-align:middle;\" /></a><br>"
      ],
      "text/plain": [
       "<IPython.core.display.HTML object>"
      ]
     },
     "metadata": {},
     "output_type": "display_data"
    }
   ],
   "source": [
    "double_neg_closure = Forall(A, in_bool(Not(Not(A))), domain=Boolean)"
   ]
  },
  {
   "cell_type": "code",
   "execution_count": 12,
   "metadata": {},
   "outputs": [
    {
     "data": {
      "text/html": [
       "<strong id=\"double_negation_equiv\"><a class=\"ProveItLink\" href=\"proofs/double_negation_equiv/thm_proof.ipynb\">double_negation_equiv</a> (conjecture with conjecture-based proof):<br></strong> <a class=\"ProveItLink\" href=\"../__pv_it/theorems/bce9b9843b683e862f71580bd81275031ab806200/theorem_expr.ipynb\"><img src=\"data:image/png;base64,iVBORw0KGgoAAAANSUhEUgAAAL4AAAAVBAMAAAAKgUmDAAAAMFBMVEX///+IiIgiIiIQEBB2dnbu\n",
       "7u5ERETMzMzc3NwyMjK6urpmZmaYmJiqqqpUVFQAAAB6qHgnAAAAAXRSTlMAQObYZgAAAAlwSFlz\n",
       "AAAOxAAADsQBlSsOGwAAAjdJREFUOMuFlT9oFEEUxt/F3XhJ7nTBTgTDlYrgX4QUcoUGG/Vs7AQt\n",
       "PEJEvNgK5iAQEDR/IAmiIREs0ihcERBNoTaC3aGCCIJX2Z6lFhLfzPvu9s3sTvLBb/PefLtvJ29m\n",
       "9oh2VhOoVKsI8lWk3VRoCypN9ZBoOBFyBLdj4h+h+l+BSlOtM4dAVnDfmvhJoHy8IKg0VXmbL0M1\n",
       "IaOe+8D06Uag/sh7QaXK7PJqlFpC9lG45uVRO1B/D1BpqotXGnw9A3z13BLPaSjU/u9ApenmSA6b\n",
       "aa0Cf+v03ZOVyulQ/U2g0rQB9NO06zLw29N3XxPdskM5q+RNzpnnK5qu8p9PgEYqVh3fnaOiHYvP\n",
       "YuGXnh3trccxQR5t6ZCoRfPmuS/AU+oO1qLnZiT6x5epX5OUVB9/w11jwHa0o0Mq3N7qmm03Dbxz\n",
       "mbrlRJZ34wTPjpvF9aPru9e/SrR/lOMXwJV2Fz7YoWQNJzGpPrrg9qdXVIXcABo4zvFn4PZfu5eW\n",
       "7X9Ebyi25yzZOtVAoZvAFm3pcNhs698cfwSOHHfGvnKDDthhM//7B3Gft/lUOMMM/slu4Rx3n53t\n",
       "5vlurbRSr98x/Y9w3z2gUtG17WUq3/3LW/AICVquKwtONN/YW5X5RwWMDjQElfrndFQI/AD0nZe8\n",
       "4G05aFx/CqPe1yvnQ+Z9AXNcCc5R/O4pzfIEy4tL9f4DE0ClrmZBvnwnHq9Pup0EKnU1kfvW8Hwy\n",
       "n0FBpe45bQqBX9cm/QdH56ELT4uuwgAAAABJRU5ErkJggg==\n",
       "\" style=\"display:inline;vertical-align:middle;\" /></a><br>"
      ],
      "text/plain": [
       "<IPython.core.display.HTML object>"
      ]
     },
     "metadata": {},
     "output_type": "display_data"
    }
   ],
   "source": [
    "double_negation_equiv = Forall(A, Equals(Not(Not(A)), A), domain=Boolean)"
   ]
  },
  {
   "cell_type": "code",
   "execution_count": 13,
   "metadata": {},
   "outputs": [
    {
     "name": "stdout",
     "output_type": "stream",
     "text": [
      "These theorems may now be imported from the theory package: proveit.logic.booleans.negation\n"
     ]
    }
   ],
   "source": [
    "%end theorems"
   ]
  },
  {
   "cell_type": "code",
   "execution_count": null,
   "metadata": {},
   "outputs": [],
   "source": []
  }
 ],
 "metadata": {
  "kernelspec": {
   "display_name": "Python 3",
   "language": "python",
   "name": "python3"
  },
  "language_info": {
   "codemirror_mode": {
    "name": "ipython",
    "version": 3
   },
   "file_extension": ".py",
   "mimetype": "text/x-python",
   "name": "python",
   "nbconvert_exporter": "python",
   "pygments_lexer": "ipython3",
   "version": "3.7.3"
  }
 },
 "nbformat": 4,
 "nbformat_minor": 1
}
