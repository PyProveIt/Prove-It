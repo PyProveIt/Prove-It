{
 "cells": [
  {
   "cell_type": "markdown",
   "metadata": {},
   "source": [
    "Demonstrations for the theory of <a class=\"ProveItLink\" href=\"theory.ipynb\">proveit.logic.booleans.negation</a>\n",
    "========"
   ]
  },
  {
   "cell_type": "code",
   "execution_count": 1,
   "metadata": {},
   "outputs": [],
   "source": [
    "import proveit\n",
    "from proveit import A, B, C\n",
    "from proveit.logic import Not, Equals, NotEquals, TRUE, FALSE, Implies, in_bool, Boolean\n",
    "\n",
    "%begin demonstrations"
   ]
  },
  {
   "cell_type": "markdown",
   "metadata": {},
   "source": [
    "## The Boolean Set\n",
    "\"Boolean\" is a logical term used to denote a type of variable that has two possible values: `True` or `False`.  Negation is the act of outputing the opposite of the original term.  \n",
    "True to the nature of members of the Boolean set, we can perform operations on `True` and `False` themselves.  \n",
    "\n",
    "\n"
   ]
  },
  {
   "cell_type": "code",
   "execution_count": 2,
   "metadata": {},
   "outputs": [
    {
     "data": {
      "text/html": [
       "<span style=\"font-size:20px;\"> <a class=\"ProveItLink\" href=\"proofs/not_false/thm_proof.ipynb\" style=\"text-decoration: none\">&nbsp;&#x22A2;&nbsp;&nbsp;</a><a class=\"ProveItLink\" href=\"../__pv_it/axioms/446a01d9a7ebef169028057d3b157d31652390170/expr.ipynb\"><img src=\"data:image/png;base64,iVBORw0KGgoAAAANSUhEUgAAABwAAAAPBAMAAAAFYbKSAAAAIVBMVEX///8QEBCIiIiqqqqYmJi6\n",
       "urpUVFTc3NwiIiJmZmYAAAB461eaAAAAAXRSTlMAQObYZgAAAAlwSFlzAAAOxAAADsQBlSsOGwAA\n",
       "ACVJREFUCNdjYMAFQlC5RlTmzugAgk5U2TJSuJUELAJaINjR0QYA+eULGF522SwAAAAASUVORK5C\n",
       "YII=\n",
       "\" style=\"display:inline;vertical-align:middle;\" /></a></span>"
      ],
      "text/plain": [
       "|- [not](FALSE)"
      ]
     },
     "execution_count": 2,
     "metadata": {},
     "output_type": "execute_result"
    }
   ],
   "source": [
    "Not(FALSE).prove()"
   ]
  },
  {
   "cell_type": "markdown",
   "metadata": {},
   "source": [
    "Because we know that there are only two possible values in the Boolean set, the opposite or $\\lnot$ of one value must produce the other."
   ]
  },
  {
   "cell_type": "code",
   "execution_count": 3,
   "metadata": {},
   "outputs": [
    {
     "data": {
      "text/html": [
       "<span style=\"font-size:20px;\"><a class=\"ProveItLink\" href=\"../__pv_it/axioms/4b5d0e2c3ed5258a362f83a4694bf4399cbad8750/expr.ipynb\"><img src=\"data:image/png;base64,iVBORw0KGgoAAAANSUhEUgAAABwAAAAOBAMAAADOPWE3AAAAHlBMVEX///+YmJi6urqIiIiqqqpU\n",
       "VFTc3NwiIiJmZmYAAADSBnb8AAAAAXRSTlMAQObYZgAAAAlwSFlzAAAOxAAADsQBlSsOGwAAACZJ\n",
       "REFUCNdjYICA9nIQKGVAAGcGFEAxF2xDBapsKincDMIWKQIxAFaDCwdcGpAiAAAAAElFTkSuQmCC\n",
       "\" style=\"display:inline;vertical-align:middle;\" /></a> <a class=\"ProveItLink\" href=\"../__pv_it/demonstrations/cfa915f546bf4f75106211c0f722847174eea3020/proof.ipynb\" style=\"text-decoration: none\">&nbsp;&#x22A2;&nbsp;&nbsp;</a><a class=\"ProveItLink\" href=\"../../__pv_it/common/e0f123f2e4f322e1eba7f861749cda9fd9d99a120/expr.ipynb\"><img src=\"data:image/png;base64,iVBORw0KGgoAAAANSUhEUgAAAA4AAAAPBAMAAAAmOuNHAAAAHlBMVEX///9UVFQQEBAiIiJmZmaI\n",
       "iIiqqqqYmJi6uroAAAAAFVhYAAAAAXRSTlMAQObYZgAAAAlwSFlzAAAOxAAADsQBlSsOGwAAABhJ\n",
       "REFUCNdjYECAdiidSkva2dhYydjYEABIWQamWbU+1AAAAABJRU5ErkJggg==\n",
       "\" style=\"display:inline;vertical-align:middle;\" /></a></span>"
      ],
      "text/plain": [
       "{[not](TRUE)} |- FALSE"
      ]
     },
     "execution_count": 3,
     "metadata": {},
     "output_type": "execute_result"
    }
   ],
   "source": [
    "FALSE.prove(assumptions=[Not(TRUE)])"
   ]
  },
  {
   "cell_type": "code",
   "execution_count": 4,
   "metadata": {},
   "outputs": [
    {
     "data": {
      "text/html": [
       "<span style=\"font-size:20px;\"> <a class=\"ProveItLink\" href=\"axioms.ipynb#not_f\" style=\"text-decoration: none\">&nbsp;&#x22A2;&nbsp;&nbsp;</a><a class=\"ProveItLink\" href=\"../__pv_it/axioms/b9bd74a578c6b2e794e4ce82c543ff5c79f215890/expr.ipynb\"><img src=\"data:image/png;base64,iVBORw0KGgoAAAANSUhEUgAAAFcAAAAVBAMAAADBdm84AAAAMFBMVEX////MzMxUVFRERES6uroi\n",
       "IiIQEBCYmJhmZmYyMjLu7u52dnaqqqqIiIjc3NwAAACW8nlqAAAAAXRSTlMAQObYZgAAAAlwSFlz\n",
       "AAAOxAAADsQBlSsOGwAAALpJREFUKM9jYGB4wIAK+BhwA94DaAIsF3ArPo2srgBEXkdXwhEKBgoM\n",
       "XBOQRHnAhnIuwDQSIsNRgCHE3oBLMRumEEMWLsUnsSiejktxNxbFm3Apno5FcSVKECDJxMCEGxCK\n",
       "j+EyOQUWbwoIxfKkKHbDpTgGi+KjuNxsC1OM5OZiXCZvwhIa3bgUiyInl7BUsL0hmIohSYxVAEOC\n",
       "LwBXCsWSalDSFiqwwxB5jDvxLyZCO8KF6LmI9wEupQCZizcQxYmwMAAAAABJRU5ErkJggg==\n",
       "\" style=\"display:inline;vertical-align:middle;\" /></a></span>"
      ],
      "text/plain": [
       "|- [not](FALSE) = TRUE"
      ]
     },
     "execution_count": 4,
     "metadata": {},
     "output_type": "execute_result"
    }
   ],
   "source": [
    "Equals(Not(FALSE), TRUE).prove()"
   ]
  },
  {
   "cell_type": "code",
   "execution_count": 5,
   "metadata": {},
   "outputs": [
    {
     "data": {
      "text/html": [
       "<span style=\"font-size:20px;\"> <a class=\"ProveItLink\" href=\"axioms.ipynb#not_t\" style=\"text-decoration: none\">&nbsp;&#x22A2;&nbsp;&nbsp;</a><a class=\"ProveItLink\" href=\"../__pv_it/axioms/fa3556271013b3b54b7b75b637f6a18a1772897d0/expr.ipynb\"><img src=\"data:image/png;base64,iVBORw0KGgoAAAANSUhEUgAAAFcAAAAVBAMAAADBdm84AAAAMFBMVEX////MzMxUVFRERES6uroi\n",
       "IiIQEBCYmJhmZmYyMjLu7u52dnaqqqqIiIjc3NwAAACW8nlqAAAAAXRSTlMAQObYZgAAAAlwSFlz\n",
       "AAAOxAAADsQBlSsOGwAAALxJREFUKM9jYGB4wIAK+BhwA94DaAIsF3ArPg1jcISCgQLDdSyqWApA\n",
       "JNcEJCEesKGcCzAVQ2Q4CjCE2BtwKWbDFGLIwqX4JBbF03Ep7saieBMuxdOxKK5ECRwkmRiYcANC\n",
       "8TFcJqfA4k0BoVieFMVuuBTHYFF8FJebbWGKkdxcjMvkTVhCoxuXYlHM5MIQgqYS6KKwVJCLWAUw\n",
       "TOELwJVCsaQalLSFCuwwRB7jTvyLidCOcCF6LuJ9gEspAJfRNxA0/OjkAAAAAElFTkSuQmCC\n",
       "\" style=\"display:inline;vertical-align:middle;\" /></a></span>"
      ],
      "text/plain": [
       "|- [not](TRUE) = FALSE"
      ]
     },
     "execution_count": 5,
     "metadata": {},
     "output_type": "execute_result"
    }
   ],
   "source": [
    "Equals(Not(TRUE), FALSE).prove()"
   ]
  },
  {
   "cell_type": "code",
   "execution_count": 6,
   "metadata": {},
   "outputs": [
    {
     "data": {
      "text/html": [
       "<span style=\"font-size:20px;\"> <a class=\"ProveItLink\" href=\"../__pv_it/demonstrations/1d582d0e1e698e893b5302e44cb7a147adccf4940/proof.ipynb\" style=\"text-decoration: none\">&nbsp;&#x22A2;&nbsp;&nbsp;</a><a class=\"ProveItLink\" href=\"../__pv_it/demonstrations/5b62c99fff7d74a438b249fd94e7a6c0cd0165e00/expr.ipynb\"><img src=\"data:image/png;base64,iVBORw0KGgoAAAANSUhEUgAAAFwAAAAVBAMAAAA5lpTPAAAAMFBMVEX////MzMxUVFRERES6uroi\n",
       "IiIQEBCYmJhmZmYyMjLu7u52dnaqqqqIiIjc3NwAAACW8nlqAAAAAXRSTlMAQObYZgAAAAlwSFlz\n",
       "AAAOxAAADsQBlSsOGwAAAOVJREFUKM9jYGB4wIAK+BjwAd4DaAIsF/ApPw1jcISCgQLDdewK3UEE\n",
       "1wQkER6wwZwLsCo/CzazAEM5ewNu5WwMGMoZshAiVmjKT2JRPh0hIoymvBuL8k0IEfYNqMqnY1Fe\n",
       "iRRQP1CVx8AkGhDKjyGbMAdFeQosLhUQyuWRbVyZQki5G3KSmP0AzTEYyo8iuT3yAYpjbGHKkdxe\n",
       "jJSADFC9uglLyCAF7ku0cBdFSYyQFBGCEDGE0q2hoWmhoUEMrAIYiYMvAMFGzwxY0hNKqkMHdhgi\n",
       "j/Flj8VEGIDsUvS8xvsAt2IAKd8+6mZ5PjoAAAAASUVORK5CYII=\n",
       "\" style=\"display:inline;vertical-align:middle;\" /></a></span>"
      ],
      "text/plain": [
       "|- [not](TRUE) => FALSE"
      ]
     },
     "execution_count": 6,
     "metadata": {},
     "output_type": "execute_result"
    }
   ],
   "source": [
    "Implies(Not(TRUE),FALSE).prove()"
   ]
  },
  {
   "cell_type": "markdown",
   "metadata": {},
   "source": [
    "**Implicit in the following set of axioms is that $\\lnot A$ is in the Boolean set iff\n",
    "$A$ is in Boolean.  Otherwise, $\\lnot A$ is simply undefined.**  \n",
    "\n",
    "## Boolean Operations\n",
    "\n",
    "These next theorems prove what is implicit in the following axioms.  "
   ]
  },
  {
   "cell_type": "code",
   "execution_count": 7,
   "metadata": {},
   "outputs": [
    {
     "data": {
      "text/html": [
       "<span style=\"font-size:20px;\"><a class=\"ProveItLink\" href=\"../../__pv_it/theorems/a10dbfd9a4efbb6f30af430036ab01697a9460f80/expr.ipynb\"><img src=\"data:image/png;base64,iVBORw0KGgoAAAANSUhEUgAAADYAAAAQBAMAAACvnpHFAAAAMFBMVEX///8QEBAiIiLu7u5ERES6\n",
       "urqYmJiIiIjMzMx2dnZUVFRmZmaqqqoyMjLc3NwAAABb1yYoAAAAAXRSTlMAQObYZgAAAAlwSFlz\n",
       "AAAOxAAADsQBlSsOGwAAAONJREFUGNNjYACBtwwogF3R96/QUijnPqocAwtrwVurADCT5z+GXALn\n",
       "Awcwk3v9Aww5tgMLwMx58xugFjkp6cLlLoBYfAX1B8BSrNcN4Pq4nk0AG8lwPgHiXAO4mcVFK8Gs\n",
       "GIZ+sBqGewj7dOW1wQo3MLyH2HsByS3sqZdBDvDevR7sXg4hJSUlFagcg0MkkGHOwMCvABJhdkDS\n",
       "x+DAAjaSgUkALKSAIscLdDjQjbwfwELlKHLHGRgegtj/wEK8B+ByEzgrNzCY/L/MwOP/F+wJ5iXB\n",
       "kOC56IKIBxhgnQIJMwgAAIdSN5QgoD0bAAAAAElFTkSuQmCC\n",
       "\" style=\"display:inline;vertical-align:middle;\" /></a> <a class=\"ProveItLink\" href=\"../__pv_it/demonstrations/3230ef8ad613179198650231cc19542d9f1d0aad0/proof.ipynb\" style=\"text-decoration: none\">&nbsp;&#x22A2;&nbsp;&nbsp;</a><a class=\"ProveItLink\" href=\"../__pv_it/axioms/17c0164fb2929846c093a14e1eac9efc4bc02ac00/expr.ipynb\"><img src=\"data:image/png;base64,iVBORw0KGgoAAAANSUhEUgAAAFIAAAAVBAMAAAAnX6R8AAAAMFBMVEX////MzMxUVFRERES6uroi\n",
       "IiIQEBCYmJhmZmYyMjLu7u52dnaqqqqIiIjc3NwAAACW8nlqAAAAAXRSTlMAQObYZgAAAAlwSFlz\n",
       "AAAOxAAADsQBlSsOGwAAAWZJREFUKM9jYGB4wIAK+BhwAN4DyLyXDAwsF9AUhFn+TFUBMk6jCM8H\n",
       "4utoZjGzXHi5yIGBawKyIM9/IMG5AF1lAfcDAwaOAmRBDn2gq9kbMFSyH1BgYEMR3LdfAEhmQR1o\n",
       "GhoJVzmB4SSKty/cB/lvOpjDMncB3Eym5xsYulEsZzgPcswmSDAsgNt+66o2TD8U+DDIbwBSlWDO\n",
       "PIQ7I/MjFjDEAE0KBQGQNxoY3isAqWNgBROQfMRbMoshBeZEoBJeiw59AyBbHiTAmArUHgxVyWDg\n",
       "jaJyLQMDfwCQ7QYS4DJAMpPBgBlkO1wl0AGsCUD2UbBIAIpKTgZbmMoGBqAAA+cHILsYLHIXReVZ\n",
       "aIiAwTOQ6D8gAQk5zgNwlRu4bzcwiMIVLv4/i4HH/icwmELAfC5lL0hUTTMGpyVWAYx0yAd1Ictm\n",
       "SGxCAXpyAMVUAfaUbIch8hhHml9MhF5Y+kHPLg+wqgMAM8tSzvefm3cAAAAASUVORK5CYII=\n",
       "\" style=\"display:inline;vertical-align:middle;\" /></a></span>"
      ],
      "text/plain": [
       "{A in BOOLEAN} |- [not](A) in BOOLEAN"
      ]
     },
     "execution_count": 7,
     "metadata": {},
     "output_type": "execute_result"
    }
   ],
   "source": [
    "in_bool(Not(A)).prove(assumptions=[in_bool(A)])"
   ]
  },
  {
   "cell_type": "code",
   "execution_count": 8,
   "metadata": {},
   "outputs": [
    {
     "data": {
      "text/html": [
       "<span style=\"font-size:20px;\"><a class=\"ProveItLink\" href=\"../../__pv_it/theorems/a10dbfd9a4efbb6f30af430036ab01697a9460f80/expr.ipynb\"><img src=\"data:image/png;base64,iVBORw0KGgoAAAANSUhEUgAAADYAAAAQBAMAAACvnpHFAAAAMFBMVEX///8QEBAiIiLu7u5ERES6\n",
       "urqYmJiIiIjMzMx2dnZUVFRmZmaqqqoyMjLc3NwAAABb1yYoAAAAAXRSTlMAQObYZgAAAAlwSFlz\n",
       "AAAOxAAADsQBlSsOGwAAAONJREFUGNNjYACBtwwogF3R96/QUijnPqocAwtrwVurADCT5z+GXALn\n",
       "Awcwk3v9Aww5tgMLwMx58xugFjkp6cLlLoBYfAX1B8BSrNcN4Pq4nk0AG8lwPgHiXAO4mcVFK8Gs\n",
       "GIZ+sBqGewj7dOW1wQo3MLyH2HsByS3sqZdBDvDevR7sXg4hJSUlFagcg0MkkGHOwMCvABJhdkDS\n",
       "x+DAAjaSgUkALKSAIscLdDjQjbwfwELlKHLHGRgegtj/wEK8B+ByEzgrNzCY/L/MwOP/F+wJ5iXB\n",
       "kOC56IKIBxhgnQIJMwgAAIdSN5QgoD0bAAAAAElFTkSuQmCC\n",
       "\" style=\"display:inline;vertical-align:middle;\" /></a> <a class=\"ProveItLink\" href=\"../__pv_it/demonstrations/89434c3d50bafd18cde2cbcebaa431ce4890c4e10/proof.ipynb\" style=\"text-decoration: none\">&nbsp;&#x22A2;&nbsp;&nbsp;</a><a class=\"ProveItLink\" href=\"../__pv_it/theorems/5b4d7d17a639577556c7060d2ae64f0fac10053b0/expr.ipynb\"><img src=\"data:image/png;base64,iVBORw0KGgoAAAANSUhEUgAAAHAAAAAVBAMAAABs93eRAAAAMFBMVEX////MzMxUVFRERES6uroi\n",
       "IiIQEBCYmJhmZmYyMjLu7u52dnaqqqqIiIjc3NwAAACW8nlqAAAAAXRSTlMAQObYZgAAAAlwSFlz\n",
       "AAAOxAAADsQBlSsOGwAAAadJREFUOMt1Uz1IQlEU/krN/M2lWaG2Bh9EUEPW1FANQhkJDQ25tCTU\n",
       "0vbGwMUpQagk50BqL5cCkcglgiISgsKpVpfsvHeP990rzw++97533/nuO+fc8wC0IaFIG1GmKyJ1\n",
       "N0noAN6WoBa/tdDNTZNoOmtNLeKC+MJU4fG2OpfLCBbliiIJ4R5dAhVB3ZgPtQ2M5+WKIq2nJFXs\n",
       "NwUHjP56AmPOypj2/vYuRtd9plXcXCYrjUU0nNCG1tDWh9WqEpOadFaRXxz9rqHgxBa0TPFkZX7N\n",
       "pCZXZKqvzzP97WyUVOM64jW6HTOBc6fG7MF2BTu0ecaCqUrAxE+Cbg9MoKg0J3JUxl6/poQqEZk/\n",
       "SRqk40yM5GjHDTbCWBtmvAIm0qRXmAgayhdheKz8+tGKpEzh2yV9zwTSmjGAxX60qUp6h8Av6UMm\n",
       "8K4ZH7nXNhT5ZQX88RGJYwrUpbEWejMx6UQ7storI7zUpfPYhCAVObUqBuh01v47fDEZrkg5P2lB\n",
       "e3RuxMgxlBEenGaee332HaRcJeOT6Yaqq1S2Sg0xRltukv+ktqAL/gHqGWuswoxWBwAAAABJRU5E\n",
       "rkJggg==\n",
       "\" style=\"display:inline;vertical-align:middle;\" /></a></span>"
      ],
      "text/plain": [
       "{A in BOOLEAN} |- [not]([not](A)) in BOOLEAN"
      ]
     },
     "execution_count": 8,
     "metadata": {},
     "output_type": "execute_result"
    }
   ],
   "source": [
    "in_bool(Not(Not(A))).prove(assumptions=[in_bool(A)])"
   ]
  },
  {
   "cell_type": "code",
   "execution_count": 9,
   "metadata": {},
   "outputs": [
    {
     "data": {
      "text/html": [
       "<span style=\"font-size:20px;\"><a class=\"ProveItLink\" href=\"../__pv_it/axioms/17c0164fb2929846c093a14e1eac9efc4bc02ac00/expr.ipynb\"><img src=\"data:image/png;base64,iVBORw0KGgoAAAANSUhEUgAAAFIAAAAVBAMAAAAnX6R8AAAAMFBMVEX////MzMxUVFRERES6uroi\n",
       "IiIQEBCYmJhmZmYyMjLu7u52dnaqqqqIiIjc3NwAAACW8nlqAAAAAXRSTlMAQObYZgAAAAlwSFlz\n",
       "AAAOxAAADsQBlSsOGwAAAWZJREFUKM9jYGB4wIAK+BhwAN4DyLyXDAwsF9AUhFn+TFUBMk6jCM8H\n",
       "4utoZjGzXHi5yIGBawKyIM9/IMG5AF1lAfcDAwaOAmRBDn2gq9kbMFSyH1BgYEMR3LdfAEhmQR1o\n",
       "GhoJVzmB4SSKty/cB/lvOpjDMncB3Eym5xsYulEsZzgPcswmSDAsgNt+66o2TD8U+DDIbwBSlWDO\n",
       "PIQ7I/MjFjDEAE0KBQGQNxoY3isAqWNgBROQfMRbMoshBeZEoBJeiw59AyBbHiTAmArUHgxVyWDg\n",
       "jaJyLQMDfwCQ7QYS4DJAMpPBgBlkO1wl0AGsCUD2UbBIAIpKTgZbmMoGBqAAA+cHILsYLHIXReVZ\n",
       "aIiAwTOQ6D8gAQk5zgNwlRu4bzcwiMIVLv4/i4HH/icwmELAfC5lL0hUTTMGpyVWAYx0yAd1Ictm\n",
       "SGxCAXpyAMVUAfaUbIch8hhHml9MhF5Y+kHPLg+wqgMAM8tSzvefm3cAAAAASUVORK5CYII=\n",
       "\" style=\"display:inline;vertical-align:middle;\" /></a> <a class=\"ProveItLink\" href=\"../__pv_it/demonstrations/e8d8c2ba92678c17b333dbe98d0bfa10fc2951810/proof.ipynb\" style=\"text-decoration: none\">&nbsp;&#x22A2;&nbsp;&nbsp;</a><a class=\"ProveItLink\" href=\"../../__pv_it/theorems/a10dbfd9a4efbb6f30af430036ab01697a9460f80/expr.ipynb\"><img src=\"data:image/png;base64,iVBORw0KGgoAAAANSUhEUgAAADYAAAAQBAMAAACvnpHFAAAAMFBMVEX///8QEBAiIiLu7u5ERES6\n",
       "urqYmJiIiIjMzMx2dnZUVFRmZmaqqqoyMjLc3NwAAABb1yYoAAAAAXRSTlMAQObYZgAAAAlwSFlz\n",
       "AAAOxAAADsQBlSsOGwAAAONJREFUGNNjYACBtwwogF3R96/QUijnPqocAwtrwVurADCT5z+GXALn\n",
       "Awcwk3v9Aww5tgMLwMx58xugFjkp6cLlLoBYfAX1B8BSrNcN4Pq4nk0AG8lwPgHiXAO4mcVFK8Gs\n",
       "GIZ+sBqGewj7dOW1wQo3MLyH2HsByS3sqZdBDvDevR7sXg4hJSUlFagcg0MkkGHOwMCvABJhdkDS\n",
       "x+DAAjaSgUkALKSAIscLdDjQjbwfwELlKHLHGRgegtj/wEK8B+ByEzgrNzCY/L/MwOP/F+wJ5iXB\n",
       "kOC56IKIBxhgnQIJMwgAAIdSN5QgoD0bAAAAAElFTkSuQmCC\n",
       "\" style=\"display:inline;vertical-align:middle;\" /></a></span>"
      ],
      "text/plain": [
       "{[not](A) in BOOLEAN} |- A in BOOLEAN"
      ]
     },
     "execution_count": 9,
     "metadata": {},
     "output_type": "execute_result"
    }
   ],
   "source": [
    "in_bool(A).prove(assumptions=[in_bool(Not(A))])"
   ]
  },
  {
   "cell_type": "code",
   "execution_count": 10,
   "metadata": {},
   "outputs": [
    {
     "data": {
      "text/html": [
       "<span style=\"font-size:20px;\"><a class=\"ProveItLink\" href=\"../../__pv_it/theorems/a10dbfd9a4efbb6f30af430036ab01697a9460f80/expr.ipynb\"><img src=\"data:image/png;base64,iVBORw0KGgoAAAANSUhEUgAAADYAAAAQBAMAAACvnpHFAAAAMFBMVEX///8QEBAiIiLu7u5ERES6\n",
       "urqYmJiIiIjMzMx2dnZUVFRmZmaqqqoyMjLc3NwAAABb1yYoAAAAAXRSTlMAQObYZgAAAAlwSFlz\n",
       "AAAOxAAADsQBlSsOGwAAAONJREFUGNNjYACBtwwogF3R96/QUijnPqocAwtrwVurADCT5z+GXALn\n",
       "Awcwk3v9Aww5tgMLwMx58xugFjkp6cLlLoBYfAX1B8BSrNcN4Pq4nk0AG8lwPgHiXAO4mcVFK8Gs\n",
       "GIZ+sBqGewj7dOW1wQo3MLyH2HsByS3sqZdBDvDevR7sXg4hJSUlFagcg0MkkGHOwMCvABJhdkDS\n",
       "x+DAAjaSgUkALKSAIscLdDjQjbwfwELlKHLHGRgegtj/wEK8B+ByEzgrNzCY/L/MwOP/F+wJ5iXB\n",
       "kOC56IKIBxhgnQIJMwgAAIdSN5QgoD0bAAAAAElFTkSuQmCC\n",
       "\" style=\"display:inline;vertical-align:middle;\" /></a> <a class=\"ProveItLink\" href=\"../__pv_it/demonstrations/b2344b8d18b869de2faa8d4007136ab54b240cd70/proof.ipynb\" style=\"text-decoration: none\">&nbsp;&#x22A2;&nbsp;&nbsp;</a><a class=\"ProveItLink\" href=\"../__pv_it/theorems/67688735e1e6ab736ec3e16c212a0f1799b056820/expr.ipynb\"><img src=\"data:image/png;base64,iVBORw0KGgoAAAANSUhEUgAAAHUAAAAVBAMAAACK3rzVAAAAMFBMVEX////MzMxUVFRERES6uroi\n",
       "IiIQEBCYmJhmZmYyMjLu7u52dnaqqqqIiIjc3NwAAACW8nlqAAAAAXRSTlMAQObYZgAAAAlwSFlz\n",
       "AAAOxAAADsQBlSsOGwAAAVVJREFUOMt1kz9PQjEUxW8iIBBAFmf4Bji6gJuTA4NuDA5OTCZObG80\n",
       "eYsbiYsmzCTGD6AumhAG3+YoiYkJk6wu4m17297b13eSXzm3hzb99wBgBU7MarWIIjVfYha1Bihl\n",
       "hojWqln6einSO+SDyEul9RtXMotqbLGp3Rty0mn10tXMqqqHu99NDDnptOLrikifntvYjolQOl34\n",
       "eiGOOPtUJzclwgvQaeo7UrEoeFdbeCTCJeuUTSrmP4HOA/5MCKieaXV5OrLdCbcACfyo/70RgUx6\n",
       "YXfQ5Raah9e9A/QdInhPJi0YOwfYG6I/JqQoHfkBzOKioHyO/pWQ+6W0bwck3JbwFGsb9FeEkE3Z\n",
       "BTD7jez80b2l4Vib7vsub2fbW2gc/eI1nIKBy6Xltutj1r2foSEu9tIjj159HvITERpELemLKNAs\n",
       "atlsg+KxrSxm6f2sDHH9A9h/YpVtcK2UAAAAAElFTkSuQmCC\n",
       "\" style=\"display:inline;vertical-align:middle;\" /></a></span>"
      ],
      "text/plain": [
       "{A in BOOLEAN} |- [not]([not](A)) = A"
      ]
     },
     "execution_count": 10,
     "metadata": {},
     "output_type": "execute_result"
    }
   ],
   "source": [
    "Not(Not(A)).double_negation_equivalence(assumptions=[in_bool(A)]).prove()"
   ]
  },
  {
   "cell_type": "markdown",
   "metadata": {},
   "source": [
    "Unless specifically defined otherwise, $A$'s default definition is `True`.  Therefore, since $A$ is `True`, we can define $\\lnot A$ as `False`"
   ]
  },
  {
   "cell_type": "code",
   "execution_count": 11,
   "metadata": {},
   "outputs": [
    {
     "data": {
      "text/html": [
       "<strong id=\"n_aeq_f\">n_aeq_f:</strong> <a class=\"ProveItLink\" href=\"../__pv_it/theorems/0538e70e2732802d141dcc88dd503157a23879040/expr.ipynb\"><img src=\"data:image/png;base64,iVBORw0KGgoAAAANSUhEUgAAAFYAAAAVBAMAAAAutAQGAAAAMFBMVEX////MzMxUVFRERES6uroi\n",
       "IiIQEBCYmJhmZmYyMjLu7u52dnaqqqqIiIjc3NwAAACW8nlqAAAAAXRSTlMAQObYZgAAAAlwSFlz\n",
       "AAAOxAAADsQBlSsOGwAAAQJJREFUKM9jYGB4wIAK+BhwAt4DyLyXDAwsF3CqPY3Cmw/E17GocgcR\n",
       "XBOQhXj+AwnOBZhqz4IIjgJkIQ59oOvZG3CoZUMR2rdfAEhm4VB7EiUILtwH+XQ6DrXdKE5gOA9y\n",
       "0iYcalHM8GGQ3wCkKkHs1lAQCEJWGwM0DSwK8lADw3sFIHUMh7kpMKcCFfFadOgbANnyRKhdy8DA\n",
       "HwBku+FQG4OkFugM1gQg+ygO99rC1DYwsADDgPMDkF2Mw1yk8HkGxMz/0MMRSa0onLv4/ywGHvuf\n",
       "wEALQVMIdE4ayDmsAhhm8AXgSJJYEgpqckIGdhgij3Gm9cVE6EakLfRM9QCHSgB2FECZXl3icwAA\n",
       "AABJRU5ErkJggg==\n",
       "\" style=\"display:inline;vertical-align:middle;\" /></a><br>"
      ],
      "text/plain": [
       "n_aeq_f: [not](A) = FALSE"
      ]
     },
     "execution_count": 11,
     "metadata": {},
     "output_type": "execute_result"
    }
   ],
   "source": [
    "n_aeq_f = Equals(Not(A), FALSE)"
   ]
  },
  {
   "cell_type": "code",
   "execution_count": 12,
   "metadata": {},
   "outputs": [
    {
     "data": {
      "text/html": [
       "<span style=\"font-size:20px;\"><a class=\"ProveItLink\" href=\"../../../../__pv_it/common/09585084922504426caf1db2ff588a23a0932a960/expr.ipynb\"><img src=\"data:image/png;base64,iVBORw0KGgoAAAANSUhEUgAAAA8AAAAPBAMAAADJ+Ih5AAAAMFBMVEX///8QEBAiIiLu7u5ERES6\n",
       "urqYmJiIiIjMzMx2dnZUVFRmZmaqqqoyMjLc3NwAAABb1yYoAAAAAXRSTlMAQObYZgAAAAlwSFlz\n",
       "AAAOxAAADsQBlSsOGwAAAF9JREFUCNdjYACBtwxQcB9K8/yHMrjXP4Aw5s1vANN8BfUHIDIM5xPA\n",
       "jBiG/glgxgaG9wtANLv37vUOIIY5AwO/AkSGgUkASLMCdfB+ADIeAjHLPwYGk/+XGXj8/04AADnq\n",
       "Fzds8Dk2AAAAAElFTkSuQmCC\n",
       "\" style=\"display:inline;vertical-align:middle;\" /></a> <a class=\"ProveItLink\" href=\"../__pv_it/demonstrations/5c5da2af145a325092230e6b378b4df848284c7b0/proof.ipynb\" style=\"text-decoration: none\">&nbsp;&#x22A2;&nbsp;&nbsp;</a><a class=\"ProveItLink\" href=\"../__pv_it/theorems/0538e70e2732802d141dcc88dd503157a23879040/expr.ipynb\"><img src=\"data:image/png;base64,iVBORw0KGgoAAAANSUhEUgAAAFYAAAAVBAMAAAAutAQGAAAAMFBMVEX////MzMxUVFRERES6uroi\n",
       "IiIQEBCYmJhmZmYyMjLu7u52dnaqqqqIiIjc3NwAAACW8nlqAAAAAXRSTlMAQObYZgAAAAlwSFlz\n",
       "AAAOxAAADsQBlSsOGwAAAQJJREFUKM9jYGB4wIAK+BhwAt4DyLyXDAwsF3CqPY3Cmw/E17GocgcR\n",
       "XBOQhXj+AwnOBZhqz4IIjgJkIQ59oOvZG3CoZUMR2rdfAEhm4VB7EiUILtwH+XQ6DrXdKE5gOA9y\n",
       "0iYcalHM8GGQ3wCkKkHs1lAQCEJWGwM0DSwK8lADw3sFIHUMh7kpMKcCFfFadOgbANnyRKhdy8DA\n",
       "HwBku+FQG4OkFugM1gQg+ygO99rC1DYwsADDgPMDkF2Mw1yk8HkGxMz/0MMRSa0onLv4/ywGHvuf\n",
       "wEALQVMIdE4ayDmsAhhm8AXgSJJYEgpqckIGdhgij3Gm9cVE6EakLfRM9QCHSgB2FECZXl3icwAA\n",
       "AABJRU5ErkJggg==\n",
       "\" style=\"display:inline;vertical-align:middle;\" /></a></span>"
      ],
      "text/plain": [
       "{A} |- [not](A) = FALSE"
      ]
     },
     "execution_count": 12,
     "metadata": {},
     "output_type": "execute_result"
    }
   ],
   "source": [
    "n_aeq_f.prove(assumptions=[A])"
   ]
  },
  {
   "cell_type": "markdown",
   "metadata": {},
   "source": [
    "Similarly, given $\\lnot A$ we can show that $A$ = `False`."
   ]
  },
  {
   "cell_type": "code",
   "execution_count": 13,
   "metadata": {},
   "outputs": [
    {
     "data": {
      "text/html": [
       "<strong id=\"AeqF\">AeqF:</strong> <a class=\"ProveItLink\" href=\"../../__pv_it/theorems/df6506bd32d9f7c53b00f834a4c61833f27224860/expr.ipynb\"><img src=\"data:image/png;base64,iVBORw0KGgoAAAANSUhEUgAAADoAAAAPBAMAAABHIsEFAAAAMFBMVEX///8QEBAiIiLu7u5ERES6\n",
       "urqYmJiIiIjMzMx2dnZUVFRmZmaqqqoyMjLc3NwAAABb1yYoAAAAAXRSTlMAQObYZgAAAAlwSFlz\n",
       "AAAOxAAADsQBlSsOGwAAAHtJREFUGNNjYACBtwz4wH0sYmEwBs9/LLLHYQzu9Q/wyM6b34Bblq+g\n",
       "/gBuWW6G8wm4ZWMY+ieA6E1KIKCFJruB4f0CnHrZvXevd8Apa87AwK+AU3YDAwOTAC57WYHu5f2A\n",
       "S+9DIGb5h0PW5P9lBh7/vxNQpYCWCAItAQBcPiViPKBKnQAAAABJRU5ErkJggg==\n",
       "\" style=\"display:inline;vertical-align:middle;\" /></a><br>"
      ],
      "text/plain": [
       "AeqF: A = FALSE"
      ]
     },
     "execution_count": 13,
     "metadata": {},
     "output_type": "execute_result"
    }
   ],
   "source": [
    "AeqF = Equals(A,FALSE)"
   ]
  },
  {
   "cell_type": "code",
   "execution_count": 14,
   "metadata": {},
   "outputs": [
    {
     "data": {
      "text/html": [
       "<span style=\"font-size:20px;\"><a class=\"ProveItLink\" href=\"../__pv_it/theorems/2d607b2877f5542a9baeaa9f0a7ccbda21f95e660/expr.ipynb\"><img src=\"data:image/png;base64,iVBORw0KGgoAAAANSUhEUgAAABwAAAAPBAMAAAAFYbKSAAAAMFBMVEX///8QEBDu7u5ERES6urqY\n",
       "mJiIiIjMzMx2dnaqqqoyMjJUVFTc3NwiIiJmZmYAAABGfvnsAAAAAXRSTlMAQObYZgAAAAlwSFlz\n",
       "AAAOxAAADsQBlSsOGwAAAGtJREFUCNdjYEAAngUMyIDrAwp3Pir39R9kHseJ78jcY2w/kbkPOL8i\n",
       "8VgmsP9gYHh7FwjuAbl8DDy/oTKngTj53evPCC5TAgPDXwSXD0hdhHLPMTC4Aqn1COcLAAn7A1Ae\n",
       "k/0vBYbJ/1cAADCoIK4mExe8AAAAAElFTkSuQmCC\n",
       "\" style=\"display:inline;vertical-align:middle;\" /></a> <a class=\"ProveItLink\" href=\"../__pv_it/demonstrations/f8d5069c19ea581a54064c7e382dcc19395bb9190/proof.ipynb\" style=\"text-decoration: none\">&nbsp;&#x22A2;&nbsp;&nbsp;</a><a class=\"ProveItLink\" href=\"../../__pv_it/theorems/df6506bd32d9f7c53b00f834a4c61833f27224860/expr.ipynb\"><img src=\"data:image/png;base64,iVBORw0KGgoAAAANSUhEUgAAADoAAAAPBAMAAABHIsEFAAAAMFBMVEX///8QEBAiIiLu7u5ERES6\n",
       "urqYmJiIiIjMzMx2dnZUVFRmZmaqqqoyMjLc3NwAAABb1yYoAAAAAXRSTlMAQObYZgAAAAlwSFlz\n",
       "AAAOxAAADsQBlSsOGwAAAHtJREFUGNNjYACBtwz4wH0sYmEwBs9/LLLHYQzu9Q/wyM6b34Bblq+g\n",
       "/gBuWW6G8wm4ZWMY+ieA6E1KIKCFJruB4f0CnHrZvXevd8Apa87AwK+AU3YDAwOTAC57WYHu5f2A\n",
       "S+9DIGb5h0PW5P9lBh7/vxNQpYCWCAItAQBcPiViPKBKnQAAAABJRU5ErkJggg==\n",
       "\" style=\"display:inline;vertical-align:middle;\" /></a></span>"
      ],
      "text/plain": [
       "{[not](A)} |- A = FALSE"
      ]
     },
     "execution_count": 14,
     "metadata": {},
     "output_type": "execute_result"
    }
   ],
   "source": [
    "AeqF.prove(assumptions=[Not(A)])"
   ]
  },
  {
   "cell_type": "markdown",
   "metadata": {},
   "source": [
    "We can also show the inverse is true."
   ]
  },
  {
   "cell_type": "code",
   "execution_count": 15,
   "metadata": {},
   "outputs": [
    {
     "data": {
      "text/html": [
       "<span style=\"font-size:20px;\"><a class=\"ProveItLink\" href=\"../../__pv_it/theorems/df6506bd32d9f7c53b00f834a4c61833f27224860/expr.ipynb\"><img src=\"data:image/png;base64,iVBORw0KGgoAAAANSUhEUgAAADoAAAAPBAMAAABHIsEFAAAAMFBMVEX///8QEBAiIiLu7u5ERES6\n",
       "urqYmJiIiIjMzMx2dnZUVFRmZmaqqqoyMjLc3NwAAABb1yYoAAAAAXRSTlMAQObYZgAAAAlwSFlz\n",
       "AAAOxAAADsQBlSsOGwAAAHtJREFUGNNjYACBtwz4wH0sYmEwBs9/LLLHYQzu9Q/wyM6b34Bblq+g\n",
       "/gBuWW6G8wm4ZWMY+ieA6E1KIKCFJruB4f0CnHrZvXevd8Apa87AwK+AU3YDAwOTAC57WYHu5f2A\n",
       "S+9DIGb5h0PW5P9lBh7/vxNQpYCWCAItAQBcPiViPKBKnQAAAABJRU5ErkJggg==\n",
       "\" style=\"display:inline;vertical-align:middle;\" /></a> <a class=\"ProveItLink\" href=\"../__pv_it/demonstrations/297f288b065eb743abb2fd09172eacc53b267b270/proof.ipynb\" style=\"text-decoration: none\">&nbsp;&#x22A2;&nbsp;&nbsp;</a><a class=\"ProveItLink\" href=\"../__pv_it/theorems/2d607b2877f5542a9baeaa9f0a7ccbda21f95e660/expr.ipynb\"><img src=\"data:image/png;base64,iVBORw0KGgoAAAANSUhEUgAAABwAAAAPBAMAAAAFYbKSAAAAMFBMVEX///8QEBDu7u5ERES6urqY\n",
       "mJiIiIjMzMx2dnaqqqoyMjJUVFTc3NwiIiJmZmYAAABGfvnsAAAAAXRSTlMAQObYZgAAAAlwSFlz\n",
       "AAAOxAAADsQBlSsOGwAAAGtJREFUCNdjYEAAngUMyIDrAwp3Pir39R9kHseJ78jcY2w/kbkPOL8i\n",
       "8VgmsP9gYHh7FwjuAbl8DDy/oTKngTj53evPCC5TAgPDXwSXD0hdhHLPMTC4Aqn1COcLAAn7A1Ae\n",
       "k/0vBYbJ/1cAADCoIK4mExe8AAAAAElFTkSuQmCC\n",
       "\" style=\"display:inline;vertical-align:middle;\" /></a></span>"
      ],
      "text/plain": [
       "{A = FALSE} |- [not](A)"
      ]
     },
     "execution_count": 15,
     "metadata": {},
     "output_type": "execute_result"
    }
   ],
   "source": [
    "Not(A).prove(assumptions=[AeqF])"
   ]
  },
  {
   "cell_type": "markdown",
   "metadata": {},
   "source": [
    "On the other hand, we can also show that $\\lnot A$ is $\\neq$ to `True` because $A$ is equal to `True`. "
   ]
  },
  {
   "cell_type": "code",
   "execution_count": 16,
   "metadata": {},
   "outputs": [
    {
     "data": {
      "text/html": [
       "<strong id=\"AneqT\">AneqT:</strong> <a class=\"ProveItLink\" href=\"../__pv_it/theorems/27dadc34853560439593f08a214d3738ebdad7f10/expr.ipynb\"><img src=\"data:image/png;base64,iVBORw0KGgoAAAANSUhEUgAAADoAAAAUCAMAAADrw95cAAAAPFBMVEX///8NDQ0WFhYLCwsYGBgQ\n",
       "EBAiIiLu7u5ERES6urqYmJiIiIjMzMx2dnZUVFRmZmaqqqoyMjLc3NwAAAC4NerjAAAAAXRSTlMA\n",
       "QObYZgAAAAlwSFlzAAAOxAAADsQBlSsOGwAAALZJREFUOMudktkSwyAIRenmEhcU/v9fm3RJEyUl\n",
       "431ShsMFBoBVVEESWlBVWYpGt6liNsq/eGERdbGNlNA1lpkE0wwqmihxFExJRSlA4NKl+d60Q3EZ\n",
       "dupXRyrqZ8PIqd3l/dbsUkBx6ZnzGdMGDQ5x3rBrJ0XQUPv+sDljukc/xc1jP+v10t1Ni/pJvsQq\n",
       "X+8Gpa+Z259TQfiPWsf8Kl+WR9JN1yaPVRKMqtpRcho3NcOmENWMJ8hkCCGo26y4AAAAAElFTkSu\n",
       "QmCC\n",
       "\" style=\"display:inline;vertical-align:middle;\" /></a><br>"
      ],
      "text/plain": [
       "AneqT: A != TRUE"
      ]
     },
     "execution_count": 16,
     "metadata": {},
     "output_type": "execute_result"
    }
   ],
   "source": [
    "AneqT = NotEquals(A, TRUE)"
   ]
  },
  {
   "cell_type": "code",
   "execution_count": 17,
   "metadata": {},
   "outputs": [
    {
     "data": {
      "text/html": [
       "<span style=\"font-size:20px;\"><a class=\"ProveItLink\" href=\"../__pv_it/theorems/2d607b2877f5542a9baeaa9f0a7ccbda21f95e660/expr.ipynb\"><img src=\"data:image/png;base64,iVBORw0KGgoAAAANSUhEUgAAABwAAAAPBAMAAAAFYbKSAAAAMFBMVEX///8QEBDu7u5ERES6urqY\n",
       "mJiIiIjMzMx2dnaqqqoyMjJUVFTc3NwiIiJmZmYAAABGfvnsAAAAAXRSTlMAQObYZgAAAAlwSFlz\n",
       "AAAOxAAADsQBlSsOGwAAAGtJREFUCNdjYEAAngUMyIDrAwp3Pir39R9kHseJ78jcY2w/kbkPOL8i\n",
       "8VgmsP9gYHh7FwjuAbl8DDy/oTKngTj53evPCC5TAgPDXwSXD0hdhHLPMTC4Aqn1COcLAAn7A1Ae\n",
       "k/0vBYbJ/1cAADCoIK4mExe8AAAAAElFTkSuQmCC\n",
       "\" style=\"display:inline;vertical-align:middle;\" /></a> <a class=\"ProveItLink\" href=\"../__pv_it/demonstrations/c096f8f95dafce0a82162a0b71adcb1d5c297ee50/proof.ipynb\" style=\"text-decoration: none\">&nbsp;&#x22A2;&nbsp;&nbsp;</a><a class=\"ProveItLink\" href=\"../__pv_it/theorems/27dadc34853560439593f08a214d3738ebdad7f10/expr.ipynb\"><img src=\"data:image/png;base64,iVBORw0KGgoAAAANSUhEUgAAADoAAAAUCAMAAADrw95cAAAAPFBMVEX///8NDQ0WFhYLCwsYGBgQ\n",
       "EBAiIiLu7u5ERES6urqYmJiIiIjMzMx2dnZUVFRmZmaqqqoyMjLc3NwAAAC4NerjAAAAAXRSTlMA\n",
       "QObYZgAAAAlwSFlzAAAOxAAADsQBlSsOGwAAALZJREFUOMudktkSwyAIRenmEhcU/v9fm3RJEyUl\n",
       "431ShsMFBoBVVEESWlBVWYpGt6liNsq/eGERdbGNlNA1lpkE0wwqmihxFExJRSlA4NKl+d60Q3EZ\n",
       "dupXRyrqZ8PIqd3l/dbsUkBx6ZnzGdMGDQ5x3rBrJ0XQUPv+sDljukc/xc1jP+v10t1Ni/pJvsQq\n",
       "X+8Gpa+Z259TQfiPWsf8Kl+WR9JN1yaPVRKMqtpRcho3NcOmENWMJ8hkCCGo26y4AAAAAElFTkSu\n",
       "QmCC\n",
       "\" style=\"display:inline;vertical-align:middle;\" /></a></span>"
      ],
      "text/plain": [
       "{[not](A)} |- A != TRUE"
      ]
     },
     "execution_count": 17,
     "metadata": {},
     "output_type": "execute_result"
    }
   ],
   "source": [
    "AneqT.prove(assumptions=[Not(A)])"
   ]
  },
  {
   "cell_type": "markdown",
   "metadata": {},
   "source": [
    "Similarly, the double negation negates the original negation, providing the original statement.  "
   ]
  },
  {
   "cell_type": "code",
   "execution_count": 18,
   "metadata": {},
   "outputs": [
    {
     "data": {
      "text/html": [
       "<span style=\"font-size:20px;\"><a class=\"ProveItLink\" href=\"../__pv_it/theorems/8ef12b95cfe752515f471cf6fa68ec6d049458490/expr.ipynb\"><img src=\"data:image/png;base64,iVBORw0KGgoAAAANSUhEUgAAADkAAAAVBAMAAAAOWFv7AAAAMFBMVEX////MzMxERES6uroQEBCY\n",
       "mJgyMjLu7u52dnaqqqqIiIhUVFTc3NwiIiJmZmYAAAAM3gM0AAAAAXRSTlMAQObYZgAAAAlwSFlz\n",
       "AAAOxAAADsQBlSsOGwAAAPVJREFUKM9tUT0OAUEYfetvrSxn2BusRqNyBCeQ7eio1I4gLkB0EoUj\n",
       "bCmEkGiJRiUECSEI34SZ+Xb5ivnemzfzvjcZQJaNUPmc9DixPSDPuNXgauIApIqa1wOubVJR1nwT\n",
       "ULcPWkqaF7iYHB5pjdXUWI+ro9RNDFeDM4FQa+ssHAYqJAuIaNO4Uot72C2pVkg3ISEZwb6Lad8s\n",
       "Y8SykBDo7rcnasbhn2p2gKcYoO4KZ6lmqC2E8+yzNUWkAwmRo1YVqRz1/oH+AWHo+vyVxkwi073U\n",
       "0HpVgHRW3ZjjpyYaln5V9jERPyzajsamE1YD50dhtQ+8ATr5PpAdIfbLAAAAAElFTkSuQmCC\n",
       "\" style=\"display:inline;vertical-align:middle;\" /></a> <a class=\"ProveItLink\" href=\"../__pv_it/demonstrations/d4207e7f18d6ddda36f4d1a86f66ff31b81765260/proof.ipynb\" style=\"text-decoration: none\">&nbsp;&#x22A2;&nbsp;&nbsp;</a><a class=\"ProveItLink\" href=\"../../../../__pv_it/common/09585084922504426caf1db2ff588a23a0932a960/expr.ipynb\"><img src=\"data:image/png;base64,iVBORw0KGgoAAAANSUhEUgAAAA8AAAAPBAMAAADJ+Ih5AAAAMFBMVEX///8QEBAiIiLu7u5ERES6\n",
       "urqYmJiIiIjMzMx2dnZUVFRmZmaqqqoyMjLc3NwAAABb1yYoAAAAAXRSTlMAQObYZgAAAAlwSFlz\n",
       "AAAOxAAADsQBlSsOGwAAAF9JREFUCNdjYACBtwxQcB9K8/yHMrjXP4Aw5s1vANN8BfUHIDIM5xPA\n",
       "jBiG/glgxgaG9wtANLv37vUOIIY5AwO/AkSGgUkASLMCdfB+ADIeAjHLPwYGk/+XGXj8/04AADnq\n",
       "Fzds8Dk2AAAAAElFTkSuQmCC\n",
       "\" style=\"display:inline;vertical-align:middle;\" /></a></span>"
      ],
      "text/plain": [
       "{[not]([not](A))} |- A"
      ]
     },
     "execution_count": 18,
     "metadata": {},
     "output_type": "execute_result"
    }
   ],
   "source": [
    "A.prove(assumptions=[Not(Not(A))])"
   ]
  },
  {
   "cell_type": "markdown",
   "metadata": {},
   "source": [
    "Again, the inverse is also true."
   ]
  },
  {
   "cell_type": "code",
   "execution_count": 19,
   "metadata": {},
   "outputs": [
    {
     "data": {
      "text/html": [
       "<span style=\"font-size:20px;\"><a class=\"ProveItLink\" href=\"../../../../__pv_it/common/09585084922504426caf1db2ff588a23a0932a960/expr.ipynb\"><img src=\"data:image/png;base64,iVBORw0KGgoAAAANSUhEUgAAAA8AAAAPBAMAAADJ+Ih5AAAAMFBMVEX///8QEBAiIiLu7u5ERES6\n",
       "urqYmJiIiIjMzMx2dnZUVFRmZmaqqqoyMjLc3NwAAABb1yYoAAAAAXRSTlMAQObYZgAAAAlwSFlz\n",
       "AAAOxAAADsQBlSsOGwAAAF9JREFUCNdjYACBtwxQcB9K8/yHMrjXP4Aw5s1vANN8BfUHIDIM5xPA\n",
       "jBiG/glgxgaG9wtANLv37vUOIIY5AwO/AkSGgUkASLMCdfB+ADIeAjHLPwYGk/+XGXj8/04AADnq\n",
       "Fzds8Dk2AAAAAElFTkSuQmCC\n",
       "\" style=\"display:inline;vertical-align:middle;\" /></a> <a class=\"ProveItLink\" href=\"../__pv_it/demonstrations/5b09ae6b055dfc863a3e3d1bf8d7bfbe1f8abf0b0/proof.ipynb\" style=\"text-decoration: none\">&nbsp;&#x22A2;&nbsp;&nbsp;</a><a class=\"ProveItLink\" href=\"../__pv_it/theorems/8ef12b95cfe752515f471cf6fa68ec6d049458490/expr.ipynb\"><img src=\"data:image/png;base64,iVBORw0KGgoAAAANSUhEUgAAADkAAAAVBAMAAAAOWFv7AAAAMFBMVEX////MzMxERES6uroQEBCY\n",
       "mJgyMjLu7u52dnaqqqqIiIhUVFTc3NwiIiJmZmYAAAAM3gM0AAAAAXRSTlMAQObYZgAAAAlwSFlz\n",
       "AAAOxAAADsQBlSsOGwAAAPVJREFUKM9tUT0OAUEYfetvrSxn2BusRqNyBCeQ7eio1I4gLkB0EoUj\n",
       "bCmEkGiJRiUECSEI34SZ+Xb5ivnemzfzvjcZQJaNUPmc9DixPSDPuNXgauIApIqa1wOubVJR1nwT\n",
       "ULcPWkqaF7iYHB5pjdXUWI+ro9RNDFeDM4FQa+ssHAYqJAuIaNO4Uot72C2pVkg3ISEZwb6Lad8s\n",
       "Y8SykBDo7rcnasbhn2p2gKcYoO4KZ6lmqC2E8+yzNUWkAwmRo1YVqRz1/oH+AWHo+vyVxkwi073U\n",
       "0HpVgHRW3ZjjpyYaln5V9jERPyzajsamE1YD50dhtQ+8ATr5PpAdIfbLAAAAAElFTkSuQmCC\n",
       "\" style=\"display:inline;vertical-align:middle;\" /></a></span>"
      ],
      "text/plain": [
       "{A} |- [not]([not](A))"
      ]
     },
     "execution_count": 19,
     "metadata": {},
     "output_type": "execute_result"
    }
   ],
   "source": [
    "Not(Not(A)).prove(assumptions=[A])"
   ]
  },
  {
   "cell_type": "markdown",
   "metadata": {},
   "source": [
    "By going one step further, we can prove that three $\\lnot$'s are the same as a single $\\lnot$."
   ]
  },
  {
   "cell_type": "code",
   "execution_count": 20,
   "metadata": {},
   "outputs": [
    {
     "data": {
      "text/html": [
       "<span style=\"font-size:20px;\"><a class=\"ProveItLink\" href=\"../__pv_it/theorems/2d607b2877f5542a9baeaa9f0a7ccbda21f95e660/expr.ipynb\"><img src=\"data:image/png;base64,iVBORw0KGgoAAAANSUhEUgAAABwAAAAPBAMAAAAFYbKSAAAAMFBMVEX///8QEBDu7u5ERES6urqY\n",
       "mJiIiIjMzMx2dnaqqqoyMjJUVFTc3NwiIiJmZmYAAABGfvnsAAAAAXRSTlMAQObYZgAAAAlwSFlz\n",
       "AAAOxAAADsQBlSsOGwAAAGtJREFUCNdjYEAAngUMyIDrAwp3Pir39R9kHseJ78jcY2w/kbkPOL8i\n",
       "8VgmsP9gYHh7FwjuAbl8DDy/oTKngTj53evPCC5TAgPDXwSXD0hdhHLPMTC4Aqn1COcLAAn7A1Ae\n",
       "k/0vBYbJ/1cAADCoIK4mExe8AAAAAElFTkSuQmCC\n",
       "\" style=\"display:inline;vertical-align:middle;\" /></a> <a class=\"ProveItLink\" href=\"../__pv_it/demonstrations/e20513bb26283ba028b60dd556868d73062bc75d0/proof.ipynb\" style=\"text-decoration: none\">&nbsp;&#x22A2;&nbsp;&nbsp;</a><a class=\"ProveItLink\" href=\"../__pv_it/demonstrations/b2707eee005cbfe42c03f40cbf29640b82da23a20/expr.ipynb\"><img src=\"data:image/png;base64,iVBORw0KGgoAAAANSUhEUgAAAFcAAAAVBAMAAADBdm84AAAAMFBMVEX////MzMxERES6uroQEBCY\n",
       "mJgyMjLu7u52dnaqqqqIiIhUVFTc3NwiIiJmZmYAAAAM3gM0AAAAAXRSTlMAQObYZgAAAAlwSFlz\n",
       "AAAOxAAADsQBlSsOGwAAASBJREFUKM99kjFKA0EUhv+N0ZiwyRn2BkmTxmqPkBOE7bQzlbVHCF7A\n",
       "YCekyBG2lIgSwVaxsQpKFBRFxbzn/ya7IQ8/+Gc+lp2Z94YBAjE8JbllxbmrsjID9sAE6seeCjsL\n",
       "oNFjAkeuCqfyM/YtxqOrwvxbhr7FSF0Fdi9eZKwOGKszg6PCtPGphfcY0iqaaq3191B/0/0njPVc\n",
       "9FpSYGsYfci0nf3l6U64R3MIR+UYxF9aWsool6h24Chw9jx/lSlaMP/+XBsBP1pNyvCznr2pUgVw\n",
       "q2XMGOUalREcRVemQ20wYezuJ3A01pPbOa+zuNJohk2ttd8HOPk9AJodxriBp4Eri9F3tfy2Su+r\n",
       "knsaak+YVX2Jp6Xla1tMXSVjZgmU7VxlfDXrYQAAAABJRU5ErkJggg==\n",
       "\" style=\"display:inline;vertical-align:middle;\" /></a></span>"
      ],
      "text/plain": [
       "{[not](A)} |- [not]([not]([not](A)))"
      ]
     },
     "execution_count": 20,
     "metadata": {},
     "output_type": "execute_result"
    }
   ],
   "source": [
    "Not(Not(Not(A))).prove(assumptions=[Not(A)])"
   ]
  },
  {
   "cell_type": "markdown",
   "metadata": {},
   "source": [
    "We can also prove the inverse. "
   ]
  },
  {
   "cell_type": "code",
   "execution_count": 21,
   "metadata": {},
   "outputs": [
    {
     "data": {
      "text/html": [
       "<span style=\"font-size:20px;\"><a class=\"ProveItLink\" href=\"../__pv_it/demonstrations/b2707eee005cbfe42c03f40cbf29640b82da23a20/expr.ipynb\"><img src=\"data:image/png;base64,iVBORw0KGgoAAAANSUhEUgAAAFcAAAAVBAMAAADBdm84AAAAMFBMVEX////MzMxERES6uroQEBCY\n",
       "mJgyMjLu7u52dnaqqqqIiIhUVFTc3NwiIiJmZmYAAAAM3gM0AAAAAXRSTlMAQObYZgAAAAlwSFlz\n",
       "AAAOxAAADsQBlSsOGwAAASBJREFUKM99kjFKA0EUhv+N0ZiwyRn2BkmTxmqPkBOE7bQzlbVHCF7A\n",
       "YCekyBG2lIgSwVaxsQpKFBRFxbzn/ya7IQ8/+Gc+lp2Z94YBAjE8JbllxbmrsjID9sAE6seeCjsL\n",
       "oNFjAkeuCqfyM/YtxqOrwvxbhr7FSF0Fdi9eZKwOGKszg6PCtPGphfcY0iqaaq3191B/0/0njPVc\n",
       "9FpSYGsYfci0nf3l6U64R3MIR+UYxF9aWsool6h24Chw9jx/lSlaMP/+XBsBP1pNyvCznr2pUgVw\n",
       "q2XMGOUalREcRVemQ20wYezuJ3A01pPbOa+zuNJohk2ttd8HOPk9AJodxriBp4Eri9F3tfy2Su+r\n",
       "knsaak+YVX2Jp6Xla1tMXSVjZgmU7VxlfDXrYQAAAABJRU5ErkJggg==\n",
       "\" style=\"display:inline;vertical-align:middle;\" /></a> <a class=\"ProveItLink\" href=\"../__pv_it/demonstrations/1dbda230d7eb9a121009f93430aab4b9e94367ad0/proof.ipynb\" style=\"text-decoration: none\">&nbsp;&#x22A2;&nbsp;&nbsp;</a><a class=\"ProveItLink\" href=\"../__pv_it/theorems/2d607b2877f5542a9baeaa9f0a7ccbda21f95e660/expr.ipynb\"><img src=\"data:image/png;base64,iVBORw0KGgoAAAANSUhEUgAAABwAAAAPBAMAAAAFYbKSAAAAMFBMVEX///8QEBDu7u5ERES6urqY\n",
       "mJiIiIjMzMx2dnaqqqoyMjJUVFTc3NwiIiJmZmYAAABGfvnsAAAAAXRSTlMAQObYZgAAAAlwSFlz\n",
       "AAAOxAAADsQBlSsOGwAAAGtJREFUCNdjYEAAngUMyIDrAwp3Pir39R9kHseJ78jcY2w/kbkPOL8i\n",
       "8VgmsP9gYHh7FwjuAbl8DDy/oTKngTj53evPCC5TAgPDXwSXD0hdhHLPMTC4Aqn1COcLAAn7A1Ae\n",
       "k/0vBYbJ/1cAADCoIK4mExe8AAAAAElFTkSuQmCC\n",
       "\" style=\"display:inline;vertical-align:middle;\" /></a></span>"
      ],
      "text/plain": [
       "{[not]([not]([not](A)))} |- [not](A)"
      ]
     },
     "execution_count": 21,
     "metadata": {},
     "output_type": "execute_result"
    }
   ],
   "source": [
    "Not(A).prove(assumptions=[Not(Not(Not(A)))])"
   ]
  },
  {
   "cell_type": "code",
   "execution_count": 22,
   "metadata": {},
   "outputs": [
    {
     "data": {
      "text/html": [
       "<span style=\"font-size:20px;\"><a class=\"ProveItLink\" href=\"../__pv_it/demonstrations/c50b73f2d168f6a3012768bd45c62ea92218bcbc0/expr.ipynb\"><img src=\"data:image/png;base64,iVBORw0KGgoAAAANSUhEUgAAADcAAAAQBAMAAABAXPr7AAAAMFBMVEX///92dnaqqqoiIiLu7u5m\n",
       "Zma6urqIiIjc3NwQEBDMzMwyMjJUVFRERESYmJgAAAAeMT9/AAAAAXRSTlMAQObYZgAAAAlwSFlz\n",
       "AAAOxAAADsQBlSsOGwAAAPNJREFUGNNjYMAGiufu32mTAGK9/X/mzN4FqLIX0jm2HAOz5jIw8PxC\n",
       "k8xjkOAFMTi+MzCwfcWQfMQDYvABdfF9B4uxXza2hktygxg8HxgYuGeAWGzbHRA6TzwEMTgvMLAc\n",
       "Bjuo2wHhIHcbARBj/fXy0w/AQjsQdibv/BwCYtQ3MDDNAwttQHZQXTbInJtALA8ylmuysbGxLUyS\n",
       "lw1k7h8gfl8AJFguIOvkZQByuf4BOefBYWWAKgm0hf0HUMFvsFA5iiQT0DTuCQwMmVvAQtwKcMlE\n",
       "BnFRYBDc/3Pm9CWIEMvZFAijeu59aKwgATZZaPBBAACOK0z+8Z1J0AAAAABJRU5ErkJggg==\n",
       "\" style=\"display:inline;vertical-align:middle;\" /></a> <a class=\"ProveItLink\" href=\"../__pv_it/demonstrations/70e57d46e80362da7a9c8f83f1e066aa26e1b01d0/proof.ipynb\" style=\"text-decoration: none\">&nbsp;&#x22A2;&nbsp;&nbsp;</a><a class=\"ProveItLink\" href=\"../__pv_it/demonstrations/841ee3ee9c84c49a3d8de304121695387b590a550/expr.ipynb\"><img src=\"data:image/png;base64,iVBORw0KGgoAAAANSUhEUgAAAHcAAAAVBAMAAACOK2zoAAAAMFBMVEX////MzMxUVFRERES6uroi\n",
       "IiIQEBCYmJhmZmYyMjLu7u52dnaqqqqIiIjc3NwAAACW8nlqAAAAAXRSTlMAQObYZgAAAAlwSFlz\n",
       "AAAOxAAADsQBlSsOGwAAAZFJREFUOMt1kz1Lw1AUht/EtumnZnFuqTh0al2crHZyEz/ArUNBQVyk\n",
       "4OJmFnHoUhAqOIn+AfEP6CSIS3GvZnG2rYI6+HFuTpJ7E5MHHvpy0pzce3IDwIaPEmXhX1GhcBsV\n",
       "XVZc43iIjPu/5fKJiUIbjiGMpXG5Mgdku35JicAWoI+AM7AhUjWgaiIt+yoRk99A4hM4ABvitQ+s\n",
       "Wkgp7dSF0VMNapA6Z0McmmQf97KiROhDILNHttkQVbJnoyMrneCmsrPUPldiQ9BELtaBU1lRIor1\n",
       "QUU80OiywNGmYMO5qr0NHsW/mzQop2ypEc828jt0Od9iQ2fjB7ij3tveeEtqxDz93tCytSEbZILa\n",
       "5UaxN4/hjBOJFhtkqsTvoinvUKL2IUbaoCWvscE9F2nJ+jtQ9+6w1Cg2pX2JgdXYIDQRFGmM17Kk\n",
       "xAytdFkcy/QVG6RHe9mlozMtSzLq4uAviJRssAFmxFcjvsCk6deU6PPiGo1hRUWfY9cYFiOjN7sa\n",
       "G8dlZPROg83GMdmPii5PrtH8ARyHaC6ZlJZxAAAAAElFTkSuQmCC\n",
       "\" style=\"display:inline;vertical-align:middle;\" /></a></span>"
      ],
      "text/plain": [
       "{B in BOOLEAN} |- [not]([not](B)) = B"
      ]
     },
     "execution_count": 22,
     "metadata": {},
     "output_type": "execute_result"
    }
   ],
   "source": [
    "Not(Not(B)).double_negation_equivalence(assumptions=[in_bool(B)])"
   ]
  },
  {
   "cell_type": "code",
   "execution_count": 23,
   "metadata": {},
   "outputs": [],
   "source": [
    "%end demonstrations"
   ]
  }
 ],
 "metadata": {
  "kernelspec": {
   "display_name": "Python 3",
   "language": "python",
   "name": "python3"
  },
  "language_info": {
   "codemirror_mode": {
    "name": "ipython",
    "version": 3
   },
   "file_extension": ".py",
   "mimetype": "text/x-python",
   "name": "python",
   "nbconvert_exporter": "python",
   "pygments_lexer": "ipython3",
   "version": "3.7.3"
  }
 },
 "nbformat": 4,
 "nbformat_minor": 1
}
