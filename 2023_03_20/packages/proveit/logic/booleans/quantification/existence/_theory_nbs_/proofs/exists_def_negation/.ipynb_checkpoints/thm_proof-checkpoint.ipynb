{
 "cells": [
  {
   "cell_type": "markdown",
   "metadata": {},
   "source": [
    "Proof of <a class=\"ProveItLink\" href=\"../../../../../../../_theory_nbs_/theory.ipynb\">proveit</a>.<a class=\"ProveItLink\" href=\"../../../../../../_theory_nbs_/theory.ipynb\">logic</a>.<a class=\"ProveItLink\" href=\"../../../../../_theory_nbs_/theory.ipynb\">booleans</a>.<a class=\"ProveItLink\" href=\"../../../../_theory_nbs_/theory.ipynb\">quantification</a>.<a class=\"ProveItLink\" href=\"../../theory.ipynb\">existence</a>.<a class=\"ProveItLink\" href=\"../../theorems.ipynb#exists_def_negation\">exists_def_negation</a> theorem\n",
    "========"
   ]
  },
  {
   "cell_type": "code",
   "execution_count": 1,
   "metadata": {},
   "outputs": [],
   "source": [
    "import proveit\n",
    "theory = proveit.Theory() # the theorem's theory"
   ]
  },
  {
   "cell_type": "code",
   "execution_count": 2,
   "metadata": {},
   "outputs": [
    {
     "data": {
      "text/html": [
       "Under these <a href=\"presumptions.txt\">presumptions</a>, we begin our proof of<br><strong id=\"exists_def_negation\">exists_def_negation:</strong> <a class=\"ProveItLink\" href=\"../../../__pv_it/theorems/638194aad7fca75c3be466a0c9e9153c8521daf10/expr.ipynb\"><img src=\"data:image/png;base64,iVBORw0KGgoAAAANSUhEUgAAApsAAAA0CAMAAADymQNEAAAAPFBMVEX///8NDQ0WFhYLCwsYGBiI\n",
       "iIgiIiIQEBB2dnbu7u5ERETMzMzc3NwyMjK6urpmZmaYmJiqqqpUVFQAAACZSrTsAAAAAXRSTlMA\n",
       "QObYZgAAAAlwSFlzAAAOxAAADsQBlSsOGwAAC31JREFUeNrtnYmSg6oShjnnXBRE2Xz/d70iiywt\n",
       "Eo0TpzJUzVKgtMHPBmn4g9BvTHREf+kvNeOyphsN6K7rPJJE/TX45xJe7oT6TTB185LE1VoGtls0\n",
       "xYf9+c3PJinfy+KQgjgYmIb3scnf4RsrHzlms/teKsZH2H4zm4h1hZeUz2JTE3TEplj6k67vu55/\n",
       "J5r4k6MZju9iE6nu2WzKCR2yaQ/En71HP8Xh0rUNWg+TCE5Fkc9ekbyLTUT0k9kc+7GRTcG+gk2E\n",
       "Zvuhh97BSacPX9BE72ITdfLBbHYYNbLZoe9gk822SZT7i4T88BVJcRubqqePZVP2qJXN6UvYxDNz\n",
       "f11X3n/8khxAN7CJJvFYNnvSyiYXX8LmMPu/llE1ffySJnkbm3weH8omnmkrm2ZE/hVsuik+Frp0\n",
       "//hSjDVlZCcEUS9tSrtVuFeWO9hEk34om51GLWyqrutmM430BWxaJkcSgjCTJ8J0HBojAc/z1kub\n",
       "0m4Vbi4lYXOd1/NJnzeqEvf0HDbZzJrYdK9Ct/vNSoRL3TP9jYGuRBNC5NawHlK5XIFcbuQaqqD5\n",
       "1FtcSgnR+vXgX2Ige2O5z2/SGT+STX04zA93YBx+gM2sYTDBWFgmJf+px8EPN7chuTNtHmPh2oNh\n",
       "nDm3uFSsbu11TxFVkfuQ+9hEQ/dINnvdzOY6//yjbPLJYGnnX6m+yyTPXwbnaYfN9f/gYxTAni+d\n",
       "lzPGwy4JviPglB6/0W8urnp8IJtsls1sEv7DbPqbL0ymuC9YOtGsTXJYo9U/60utXaoDsBlKJT3L\n",
       "5laFkItvFmlb3DLeXDp1+UA28Tw2s7newpVN08/6rjaqC8wFre4fGTVMuLdyRn6Zyc6Z10xnb8V4\n",
       "zpt0sK6MDtyOgUjy6PjYUVq6/O2i0gM4yiqo5P1CjI/ZOWLu8ZtJ7/kYNofjWeUpfhVa2cQj0gOa\n",
       "Mg8K54J8VI6MGkZ7y2S5yHGqnHnRtEpHnNO8M4GjZkbFci1cxWxSNwTISt0SH1+6/QNkQVWMFJtM\n",
       "/wrtprFuYjMecC5sbqQqeZnN05X1QyObwk4hreuQ5OpJ2Pp6tLmFkMsVrnfA2/lVNkNQwMy/8SE9\n",
       "M7Z81TSPG0GYhR7ZkI85CgXGC8hSpUOOzq4zy0r9BXZ+FVoXnoDw3/YPVIXGYZgZXNBNbJI5YXNr\n",
       "w2m8zObZymjDqmT/uMv4htmhAFPp8j+b25t6DyrdHUrEbEo//lsOVrpq+ZJpdviAdtCDFMabCui3\n",
       "x6Vhx3GvtKwLOKhfjAphH6TR2bqJTRkNYxY2mY6nZi6yebYyNuNmNnV0f1jvFrwmhLjc0f5XtWuP\n",
       "lILLbPVZdP3Dcns5dQtlPD+w5Wum1eEDKkWNTSDoOw6MMbvErml1HVTFOspmam12v9jkJjZjDsx4\n",
       "078dXtyDY539ycrUrJrZDEOSsUdkctOCri8iaS4auM/OfqVHKjzka+njd6F+lBQzF5TpQMs7pgHL\n",
       "FdP4+AEtN6OMZJrJeiIFTu/N5oZ5r7Tsv4CDuPE3mMjE5dzEZtx/Gja9mYvrCCybJyuTDdMcvsrN\n",
       "6wvMCcZ0I4SZSGaUKxgK2awfo1/ZkYsvHqfdOaRRaGyiK2Ogo7C8YxqwXDHdsAuKVvqjOnwtaB4e\n",
       "FK7wJjbRrNP39H6dl+rJO9g8WVnDFFIdd9+zJu6XUN/YgFdOssyCUMnpDpvrEyGcU8lnyEOfDpuG\n",
       "+oMd07RlHDRi9LmEw126jc0hZdM+4gN9C5vnKiMzvcImw70dRCR4TUtvZntLXtaeZJlYjyISVdgc\n",
       "Z+0oTCYlg+Ud04DlXdPiF20evYvNfkrZHLX/dXK0HLOZVMaHWRCh9dboUVw6TqKFzWh/emVqpjH7\n",
       "qG2H0jzffGKzafnCRf6a3Xl46RhvYrPrUjZXL0d2W2bshCmUbs5e1NlMK5OrKeINxnHpJOn5ae1f\n",
       "ewruUYig6C+hrs/YVBjsMRnWg3nbVHp1FW6z3xGbSWVa2NFkOtkhhjNs6ga/+Zee7GwbxEAKNheW\n",
       "ZDnEFu4tF6mlUITO/IjNpDK7AtjF/9O49Ot9+rfdzfFk2Ycu6fichkFq0acjoty8ZLTmJGxFRoop\n",
       "vrweLmwSIUS3/PAam6EyQ6NZBqMdzklcOn8XGv/YzB2NOld2Z+J7swSCNpzTwGb+LmRGgNazRWtO\n",
       "ogkNxZY+XfFWvzlui0lkjzEOYbAkLp3PITXOb74r+v/85INFgIDCBxUUMNzqcbS1WDH3iuBCr3M2\n",
       "fRwwWnPCZczmQiQeGtmMgoo6gTCJS2fvqK1sviv6//gUqSTkAgofVVCYQAdZSqwpXJ7TwGYWF0pf\n",
       "OPyaEzkNa1KWTUrQ1MpmSaP7AHFcOvskM29j813R/8enTSWhEFD4qIICGNFn5QRkzGa74AKNllMX\n",
       "bIY1J4wkftOs+nJDw3Y2x+Ag10ByGpdOP9zxsnf3bLwp+v/41BfjnSCg8FkFhR5wnECwNWazXXAh\n",
       "X+uR0oT8mpMttGMnhfHB5HzJ5jJS8tPUaww5jUvv+vI6m2+K/j9+tLl9vlxA4cMKCoBr4QAaCZvN\n",
       "ggvxmp+czWjNyejHEKyzQ7uX2UytegsCXOzSTY1svin6//gufft8uYCCL6N47dvhvXXVwqbx7l4F\n",
       "pKwSGvonbDYLLsTrKmp7Migx483mQFqdTb5NK+kO6BV0856M90T/n56mbLgZCSj4MmL3ikswbFEt\n",
       "bEm7FUS74d0b+f/+A/awJWxCggtg0um693el7mgPgm9Z8EB5PPnu2uS16P9Jr1Xx/zdMD0D9iNpc\n",
       "SSag4MqYshvP9QDIJ0SF59QT4tqzBuhb3GbKZrPgQrw150F7gFUjmwfR/7eknxZOKJ+FbSd6IaDg\n",
       "yqjbQb78KuUTosJz6glRBcWdyrtE8ElO2GwVXBjj7Q+/UTthJ/p/G5s/IJxQqCZEbBYCCqGMm77G\n",
       "avWUW9RD4Vn1hKj2NL9vcZspm62CC8/UTkCiXXMGjP7fxuaPCCcUM9qhTy8FFELZKgqDewSyGQrP\n",
       "qidsFSTaCbGpdbz57z+gZkLap3dtbOpnas7ww9n3TdfDB+z5Oq+VNQqYCVrcP7AunACfeMluMVsb\n",
       "dv+WAgqhbND+1wZMYDwqPKOesFWQaScUyMCBouxdqFFw4aFaXdG26SM2Q/Qfm+hqtp8RzIQnSfYP\n",
       "rAonwCdes1vssAwzNaWAQigTZru8DVoEaY8wAogKc/WEimgCUEGmnRDPboFXDrHZKLggH6pxePym\n",
       "vo27QvTf3BIT548EDELmkXzBdnaVzVI4ATR70S7PL8OpJEACCr5sGfwSLOwILfjNoJAQFRbqCZBo\n",
       "gtivINFOyO/zjtuM12M0Cy50T9WGfUFTe4OUrC2XChi4zGP5AnfgAZuAcAJo9pLdUjWhq4wQozIy\n",
       "ZYPAWPzAFl5QT7AVxNoJQTzBH90SA2kUXHiupvah45xgm6blEgEDl3ksX+AOfF04ATR7yW7ZM8rK\n",
       "EMeWGXBorzI2yUaVLTypnhBVEGsn5OtMphbcGwUXhnQM/qjvcJnIy2yy5WFDKJZOiDLrygnhwFeF\n",
       "EwqzsN092QTQLqCaUNusvpaZr7yxX2S3ySeEePBWeFI9Yasg1k7Il3/JJrfZJrjA5+d+h4tVFniJ\n",
       "TSXkMG2Q2BUlIfNAOSEc+KpwQm4WtrsrmwDZBUCs7VZfy5QEBrYeP6jwJfUEsPbiQrsWt9kouJDv\n",
       "JnrWdwbi4TU2zbeoDzJuIxVlHiknhANfFU4ozcJ2d2QTALsghzWVhE8pKODsGWIvnVNl89nfGdj0\n",
       "XavJ4Rhxk5tIJ/jMQ+UEf+DLwgmFWdjunmwCYFd8x/7RGpu8uL3vZFO+4evYa7KqEzBPgVOYJZS5\n",
       "p5xQHrjLZiqcAFsAL6bNrvyS7zSusMnSlyqDEn4jm2bILa7WMuz3EtPP7U//YeGEr1BNqIqB0Ox9\n",
       "fzAwDf8Hj0Ci2wCG5ekAAAAASUVORK5CYII=\n",
       "\" style=\"display:inline;vertical-align:middle;\" /></a><br>(see <a class=\"ProveItLink\" href=\"../../../__pv_it/theorems/efdb61e8ec33940dde2722158fabf639623143d90/dependencies.ipynb\">dependencies</a>)<br>"
      ],
      "text/plain": [
       "<IPython.core.display.HTML object>"
      ]
     },
     "metadata": {},
     "output_type": "display_data"
    }
   ],
   "source": [
    "%proving exists_def_negation"
   ]
  },
  {
   "cell_type": "code",
   "execution_count": null,
   "metadata": {},
   "outputs": [],
   "source": []
  }
 ],
 "metadata": {
  "kernelspec": {
   "display_name": "Python 3",
   "language": "python",
   "name": "python3"
  },
  "language_info": {
   "codemirror_mode": {
    "name": "ipython",
    "version": 3
   },
   "file_extension": ".py",
   "mimetype": "text/x-python",
   "name": "python",
   "nbconvert_exporter": "python",
   "pygments_lexer": "ipython3",
   "version": "3.7.3"
  }
 },
 "nbformat": 4,
 "nbformat_minor": 1
}
