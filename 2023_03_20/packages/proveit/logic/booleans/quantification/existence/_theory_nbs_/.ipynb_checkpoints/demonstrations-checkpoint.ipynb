{
 "cells": [
  {
   "cell_type": "markdown",
   "metadata": {},
   "source": [
    "Demonstrations for the theory of <a class=\"ProveItLink\" href=\"theory.ipynb\">proveit.logic.booleans.quantification.existence</a>\n",
    "========"
   ]
  },
  {
   "cell_type": "code",
   "execution_count": 8,
   "metadata": {},
   "outputs": [],
   "source": [
    "import proveit\n",
    "%begin demonstrations\n",
    "\n",
    "from proveit import a, b\n",
    "from proveit.logic import Exists, Equals\n",
    "from proveit.numbers import Add, two, three, five, NaturalPos"
   ]
  },
  {
   "cell_type": "code",
   "execution_count": 3,
   "metadata": {},
   "outputs": [
    {
     "data": {
      "text/html": [
       "<strong id=\"eval_2p3\">eval_2p3:</strong> <span style=\"font-size:20px;\"> <a class=\"ProveItLink\" href=\"../../../../../numbers/numerals/decimals/_theory_nbs_/proofs/add_2_3/thm_proof.ipynb\" style=\"text-decoration: none\">&nbsp;&#x22A2;&nbsp;&nbsp;</a><a class=\"ProveItLink\" href=\"../../../../../numbers/numerals/decimals/__pv_it/theorems/0a82a0ae531775e2b21fcea430221f08505d5d350/expr.ipynb\"><img src=\"data:image/png;base64,iVBORw0KGgoAAAANSUhEUgAAAGEAAAAVBAMAAACkm51HAAAAMFBMVEX////MzMxUVFRERES6uroi\n",
       "IiIQEBCYmJhmZmYyMjLu7u52dnaqqqqIiIjc3NwAAACW8nlqAAAAAXRSTlMAQObYZgAAAAlwSFlz\n",
       "AAAOxAAADsQBlSsOGwAAAXxJREFUOMt1kz1Iw0AUx/9NP61piIOTiOLkZhwcHNQs2kkoQkDUofg1\n",
       "uLS46CIIIkY62EUEp4CLk5SuDnYVKXR20C5CJ6kgSEWML3cOuWvuCHlf97v3knsPQBvRS+VHrqEI\n",
       "LPd5YsAdiSegcz4thoz7Exu5skykepdrQLYKw8KDLYRuof8A1zKRLK17QKYMrY1UkfvyXLw2sj3g\n",
       "UCY0nomeb2i/3NfkYskGESkvkngkpQDtQyAA/QsYKEcSFV5hVyIWaffguEwc1U3giuljLZEYnaBQ\n",
       "uhqoGYetgI57xiewwXasQK6K/pVe7L+kGWCbnWMF71PH2XWcf7jkIdbtJy7anNiHmGMIWGggIeeY\n",
       "JcJkVek1vAuE7wWEXpC+YweYAuZIGwGeBWKTVZW2pBw1YAuoUxetum5BIA7YfWRqEtFBbg8Ypsvw\n",
       "fb8qEAmXOhFJWyIMd5LaIGmGfc2w8RY9BenjsJUPG2eKwZlXjZphKQI3KiKuGlujpQi8RLv/AOIo\n",
       "WWymLqW2AAAAAElFTkSuQmCC\n",
       "\" style=\"display:inline;vertical-align:middle;\" /></a></span><br>"
      ],
      "text/plain": [
       "eval_2p3: |- (2 + 3) = 5"
      ]
     },
     "execution_count": 3,
     "metadata": {},
     "output_type": "execute_result"
    }
   ],
   "source": [
    "eval_2p3 = Add(two, three).evaluation()"
   ]
  },
  {
   "cell_type": "code",
   "execution_count": 7,
   "metadata": {},
   "outputs": [
    {
     "data": {
      "text/html": [
       "<span style=\"font-size:20px;\"> <a class=\"ProveItLink\" href=\"../__pv_it/demonstrations/9a51b9bef8a887e840756744e40f834377854deb0/proof.ipynb\" style=\"text-decoration: none\">&nbsp;&#x22A2;&nbsp;&nbsp;</a><a class=\"ProveItLink\" href=\"../__pv_it/demonstrations/1cbd784bafca0271010316a64c3cf04186d029350/expr.ipynb\"><img src=\"data:image/png;base64,iVBORw0KGgoAAAANSUhEUgAAAJwAAAAWBAMAAADHvejAAAAAMFBMVEX///8yMjJERERUVFTMzMzc\n",
       "3NyYmJh2dnbu7u6qqqqIiIi6uroQEBAiIiJmZmYAAACA3BFiAAAAAXRSTlMAQObYZgAAAAlwSFlz\n",
       "AAAOxAAADsQBlSsOGwAAAhhJREFUOMullD9IG1Ecx78xMV5MGtJFOkmWSnFQhyLiFIdupTnq5tCe\n",
       "TrqUQEGKQ7nWpUOLLi7SoCA0RNriVDqIlFKhVsUDBQv1IEXQLtoMSptKoe/de+/i+xMI9Avfdy+f\n",
       "y33vl/d+eUADtXI3utc8DlTmNim5qKEcLJviE9/3N/UnEgVmTU+3yfBKwztXfVdgQxVPuHV1Ekdc\n",
       "lR78fRRiQ9wRd13v+LVGHK+o3+9DHRviPnDXNc/X7TcdPxvjONbjEhlmPa7No2OHOa6jQVy6wIzh\n",
       "qRE5LjK4NAs8VB/oL92EwHpcxGFOrqPXleJmrlnnwGjwTj9QUNgN3F+huEjAhkgZyvLJlVnm5w5O\n",
       "5OoWXHwBXuqr3eIJHFYXFZ2WWmH+CezTz6Q7t3x/l8y+A7+AvB6XPhc4jEvllLiPsC7k6vaRJK2y\n",
       "qpaWQfpM4DKsyZJNJvnlAenHWn8Qr8pxNaRJqxSVtUt5iFY5JnEv7DyNe+O+5W9bDGzVEM3MSXFn\n",
       "dD0xplTXRhKzApdxitt00sW2jNzuY+5GsVKR4vrRQ8Zj9TCp4LVLMTsCNrFE6Sccstsxj3m6dGsw\n",
       "J8VNPybF4Zu6EfcOf9QxaaWuZ+RaheiZPW7tX8GK8cwHnsDrsYtxq4CvcdF4D7j1IyDYBMcYF+K1\n",
       "iZIT28Cd5XDnbWaz7jaDE5fmVpbZrOvN4PeXP4xwm9RuN4Md/Lf+AWjdo+qNaiWUAAAAAElFTkSu\n",
       "QmCC\n",
       "\" style=\"display:inline;vertical-align:middle;\" /></a></span>"
      ],
      "text/plain": [
       "|- exists_{a, b} ((a + b) = 5)"
      ]
     },
     "execution_count": 7,
     "metadata": {},
     "output_type": "execute_result"
    }
   ],
   "source": [
    "Exists((a, b), Equals(Add(a, b), five)).conclude_via_example((two, three))"
   ]
  },
  {
   "cell_type": "code",
   "execution_count": 9,
   "metadata": {},
   "outputs": [
    {
     "data": {
      "text/html": [
       "<span style=\"font-size:20px;\"> <a class=\"ProveItLink\" href=\"../__pv_it/demonstrations/7c63d400c4cb14cb2fea73059066d228bab4ace90/proof.ipynb\" style=\"text-decoration: none\">&nbsp;&#x22A2;&nbsp;&nbsp;</a><a class=\"ProveItLink\" href=\"../__pv_it/demonstrations/47a2c71d8c1dd99089d917af1927856992b8eac80/expr.ipynb\"><img src=\"data:image/png;base64,iVBORw0KGgoAAAANSUhEUgAAAL4AAAAXBAMAAABHSeiIAAAAMFBMVEX///8yMjJERERUVFTMzMzc\n",
       "3NyYmJh2dnbu7u6qqqqIiIi6uroQEBAiIiJmZmYAAACA3BFiAAAAAXRSTlMAQObYZgAAAAlwSFlz\n",
       "AAAOxAAADsQBlSsOGwAAAnpJREFUSMe1lUFoE0EUhv80MbsxMUQPxZOEgEUtaBAp0lM8eBExi95y\n",
       "0K0nRZGgIFKhrPaggmLB6EENBguGFJXc9CAiYsFYihGECjZlpaJeGnNo0VgEZ3Zms5ndCe6lD/7Z\n",
       "5c/Ml5c38yaA31jH1esz/7Y8KlyyiJY8VgaqRu2lRqMx4wMfyTN54vIsGR557PcbG4ZtV3zwL3F5\n",
       "YwtRwHC7838vdGw//G9cTk10/tImCpvu+Wk4th/+Ky6nYLzm0d90fCvlc9sHP5Jg8vKVOh375fx+\n",
       "v/x4nglHRnMiPzA8OQGccy8YKu+BbffkO+cloDNFp7HLEPg3N6srwIiVRMMKK/VtOFaldpEYtV58\n",
       "Z9c2TDBd17Ek5v/AwDvgvndxX922O/nvS/LGW7iI0+lufqzK9BOYY5nOz7JMvwC/gKykpCu23eEH\n",
       "aUEO7B7ELcWIGzL+a6irYv5ziJIT+sKdfALxZdvu8GMZ8rVfycudkqlgrLnQrIr1Uf8g3BL5bcTJ\n",
       "CS266h+rI9jiNuGr58saeclO7WU9XbiXU4T695UsqW0EE7cF/jLdExx35U9Wx5K2XcENLUv5T4yn\n",
       "qrUFBeXaM4GvpJl2oGiaAn8IO8n43X11mnhsUJvdb00cpO4ARljbF2A+FPihOtN4ef9wRuCPj9EV\n",
       "n927e3TxR5c9g0n6eIPF8KZUajvhXwkI5x8fuTz9y9Kty/8AuE06ZOAqebZQC+VZ/tG74tQzXN77\n",
       "zdpZXd71tj0dWj2h5vEpnCSNR+IU2A/qOnAakzwO/8d+ebKsh2o4NEU8Ut7QBw1BcSrddzXZi7/V\n",
       "jx1hoLOpQdncHJcs1mt+7OdY29DXgPkPz5rCc8sbcKYAAAAASUVORK5CYII=\n",
       "\" style=\"display:inline;vertical-align:middle;\" /></a></span>"
      ],
      "text/plain": [
       "|- exists_{a, b in NaturalPos} ((a + b) = 5)"
      ]
     },
     "execution_count": 9,
     "metadata": {},
     "output_type": "execute_result"
    }
   ],
   "source": [
    "Exists((a, b), Equals(Add(a, b), five), domain=NaturalPos).conclude_via_example((two, three))"
   ]
  },
  {
   "cell_type": "code",
   "execution_count": 2,
   "metadata": {},
   "outputs": [],
   "source": [
    "%end demonstrations"
   ]
  }
 ],
 "metadata": {
  "kernelspec": {
   "display_name": "Python 3",
   "language": "python",
   "name": "python3"
  },
  "language_info": {
   "codemirror_mode": {
    "name": "ipython",
    "version": 3
   },
   "file_extension": ".py",
   "mimetype": "text/x-python",
   "name": "python",
   "nbconvert_exporter": "python",
   "pygments_lexer": "ipython3",
   "version": "3.7.3"
  }
 },
 "nbformat": 4,
 "nbformat_minor": 1
}
