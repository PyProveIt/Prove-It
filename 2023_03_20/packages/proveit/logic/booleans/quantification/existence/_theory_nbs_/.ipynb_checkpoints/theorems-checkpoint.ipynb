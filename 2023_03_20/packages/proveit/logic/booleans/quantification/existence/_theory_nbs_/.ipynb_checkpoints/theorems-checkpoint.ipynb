{
 "cells": [
  {
   "cell_type": "markdown",
   "metadata": {},
   "source": [
    "Theorems (or conjectures) for the theory of <a class=\"ProveItLink\" href=\"theory.ipynb\">proveit.logic.booleans.quantification.existence</a>\n",
    "========"
   ]
  },
  {
   "cell_type": "code",
   "execution_count": 1,
   "metadata": {},
   "outputs": [
    {
     "name": "stdout",
     "output_type": "stream",
     "text": [
      "Defining theorems for theory 'proveit.logic.booleans.quantification.existence'\n",
      "Subsequent end-of-cell assignments will define theorems\n",
      "'%end theorems' will finalize the definitions\n"
     ]
    }
   ],
   "source": [
    "import proveit\n",
    "# Prepare this notebook for defining the theorems of a theory:\n",
    "%theorems_notebook # Keep this at the top following 'import proveit'.\n",
    "from proveit.logic import Forall, Exists, NotExists, Boolean\n",
    "from proveit.logic import Implies, Equals, TRUE, NotEquals, Not, And, in_bool, SubsetEq\n",
    "from proveit.numbers import Natural, NaturalPos, one, Less, LessEq\n",
    "from proveit import n, A, B, P, Q, R, alpha\n",
    "from proveit.core_expr_types import (\n",
    "    x_1_to_n, y_1_to_n, Q__x_1_to_n, Q__y_1_to_n, P__x_1_to_n, P__y_1_to_n)\n",
    "from proveit.logic.booleans.quantification import (\n",
    "    general_forall_Px, general_forall_Py, \n",
    "    general_forall_Px_if_Qx, general_forall_Py_if_Qy,\n",
    "    general_forall__Py_not_T, general_forall__Py_not_T__st_Qy,\n",
    "    general_forall_st_Qx__Px_implies_Rx, \n",
    "    general_exists_Px, general_exists_Px_st_Qx, general_exists_Py_st_Qy, \n",
    "    general_exists_Px_st_Qx, general_exists_Py_st_Qy, general_exists_Rz_st_Qz,\n",
    "    general_exists_in_A_Px_st_Qx, general_exists_in_B_Py_st_Qy, \n",
    "    general_exists_notPx_st_Qx, general_notexists_Px_st_Qx, general_notexists_Py_st_Qy, \n",
    "    general_notexists_notPy_st_Qy)\n",
    "%begin theorems"
   ]
  },
  {
   "cell_type": "markdown",
   "metadata": {},
   "source": [
    "**By our definition for $\\exists$, such an expression is always a Boolean (it acquires this property from $\\forall$):**"
   ]
  },
  {
   "cell_type": "code",
   "execution_count": 2,
   "metadata": {},
   "outputs": [
    {
     "data": {
      "text/html": [
       "<strong id=\"exists_is_bool\"><a class=\"ProveItLink\" href=\"proofs/exists_is_bool/thm_proof.ipynb\">exists_is_bool</a> (conjecture without proof):<br></strong> <a class=\"ProveItLink\" href=\"../__pv_it/theorems/7baa1a1d53d5a2fa237e99418f517b40c4ec3c450/theorem_expr.ipynb\"><img src=\"data:image/png;base64,iVBORw0KGgoAAAANSUhEUgAAAbcAAAAWBAMAAACxjs8nAAAAMFBMVEX///+IiIgiIiIQEBB2dnbu\n",
       "7u5ERETMzMzc3NwyMjK6urpmZmaYmJiqqqpUVFQAAAB6qHgnAAAAAXRSTlMAQObYZgAAAAlwSFlz\n",
       "AAAOxAAADsQBlSsOGwAABURJREFUWMO9mH1oW1UUwM9L8/Je8pL0pWhhtqslUscsG1W2OcaUTMrQ\n",
       "1ckrzIlsaiZYS0Gbbop/TTOmxSFskTERFBbdJgjbjB9javtHZOLH6jDVSpmKdqhVVEqUznb6Rz3n\n",
       "vq/7PtLaPvBB3rvnnLyb87vn3nPPDcCCl5DO+anz0LACAl5y4Ldr+CDXdNt1hYu+yBXYEpQNlgd6\n",
       "O6bizeVEw7qjh1cXmQn9niDVt/PDJemRKDu0Y9Svkk6nrysu1qnGuUcnX9Koy0ywsWn2wkH2FfnI\n",
       "r8yEcO+T5sX54RTyP5rnlWLB7BdDuNjrCkBkLT7vDRj4qOYDdxJujzATwj1JMzQ7P5xE4R10KJXy\n",
       "0uGkPzBo+IHhgHDxki/chSQzIRzRhysLrLkj+NjqUNbB0uGEGfxMY6Mj6Jpda8EJD6ZXWnBRZkK/\n",
       "4xiC6EIJ5TN8FBzKiwHgIlX8IGCiEBTuZdOJ2POaHblfPmQmSoQ3pdNrFoKrw7zhXPzvBICrx1Xw\n",
       "FKYzhbrsbrmnk+vBJXovMfXTY9Ykust04oBmJ5Tu1RlmIrizAA/5dJLh4ZQcRDT3mC0ZDsGeXkX5\n",
       "gPJvSbiktNo2l+i9FGhR3zKFT00n7IyYffXwn2eYieAOgjzh00mJh8NvHMTWa/90TRk5cxWDS9BW\n",
       "sGi4a3/sPE/PEL4Zz8cvJ8uw05ihuih2Tmm1Xv4EPtd+N4UvTbgCn1CaX9fIRHARzbFLy+1b4NyE\n",
       "Cw5jS53EWyFsDOuGAJHrN5MSdiyBgo5JKaNbXVSgdvRy8B43BwwnJFxb6etNuEgsQybyO6Ha+WRg\n",
       "sg++C2uK5oYbZWOTLIFQDQ53hYPDO9UZCQuGxPqiPFP79Rvt5jHDCTHLRy4CWTKxmBU+sObzWapW\n",
       "1FIYuobah4ocXDROLtRVIDTBT0sDLvVuk7nDc037ciqlaaMRYsPyRl7UODgS49o8cLFZuBtGPk7R\n",
       "6H9hOtHqhCuQicFtxV0sPjzQpJczMP71vrB7zUH4Ii2CQ5r8m6HcxcEJ+cmoET6uye1rTqXwt7kl\n",
       "4IBtL/4AYT1yIlgizX7Ry4U+iH3JDsiI5zfCelR8ZDqRcsAlVDIxuP0YjJ3HynV5Pbjj4fuOe+Dk\n",
       "W6l1LrVcs5OwBReHXRLILOWy5qkmZ7nJlFzRVDU7xh/+/vG34ZQO90DBEmG3xkSRZjC7mVJiZkdH\n",
       "rCJ3F+CyviHpTtiDlz0Om7qYicEl8WjwzDKo12KsNB6HUqMHDn6m1pTt4W7gC+dZgL1tugGbHWLV\n",
       "NeSzfC7v/0s15icS7Uglhis6XKjNEmmkSIR2MG4h8ietgfim+s0F9FmNUXlzgwknTp7Q+1y2rp9O\n",
       "BWSy8+QlXIHxF3p6HkG4bVH3PmdcG20XQzmurJM68PzUZjXzkquuIuXIyTHPNLPPYmzNfWWJz8Gz\n",
       "vGh9y9og6nJKKQdyq+VEbLNRfplJv5Xz+2YYkqSMHrnYqP95Tp71r1n3hwsKg9tmNCNFEDMosZuh\n",
       "HM2GPM6OOOGs8ZQffuIMP7yWJ1brEIT25rjq3bvXlzm/q7BiXK9UcH9t8YdrnOa21l67X+WaTVcz\n",
       "uD0VvYlJV7oF9uSl9XgzlMncAW+RaeZQ+Y5pFUTVisvcXJUT7drMap0G4U79oFIDbpDzOzYBV5Vh\n",
       "EOeatDIPyf9wEt/u7pempb6swxr6lbAMujIEzSc8daLjqCW4cqz3N924vbXhej1+i5t7+nwKZ98/\n",
       "I2QVbuP/vxhYU4GYHtmjczjJLBJDeT+MlT2d7At0JhAw8A0bapmExf9FMP/hkWuX/ZT/8/Uvq+Ro\n",
       "UDL5I8IAAAAASUVORK5CYII=\n",
       "\" style=\"display:inline;vertical-align:middle;\" /></a><br>"
      ],
      "text/plain": [
       "exists_is_bool: forall_{n in NaturalPos} [forall_{P} ([exists_{x_{1}, x_{2}, ..., x_{n}} P(x_{1}, x_{2}, ..., x_{n})] in BOOLEAN)]"
      ]
     },
     "execution_count": 2,
     "metadata": {},
     "output_type": "execute_result"
    }
   ],
   "source": [
    "exists_is_bool = Forall(n, Forall(P, in_bool(general_exists_Px)),\n",
    "                      domain=NaturalPos)"
   ]
  },
  {
   "cell_type": "code",
   "execution_count": 3,
   "metadata": {},
   "outputs": [
    {
     "data": {
      "text/html": [
       "<strong id=\"exists_with_conditions_is_bool\"><a class=\"ProveItLink\" href=\"proofs/exists_with_conditions_is_bool/thm_proof.ipynb\">exists_with_conditions_is_bool</a> (conjecture without proof):<br></strong> <a class=\"ProveItLink\" href=\"../__pv_it/theorems/c0ff0a5893722f2a2d7008e0e365458cb53f3f500/theorem_expr.ipynb\"><img src=\"data:image/png;base64,iVBORw0KGgoAAAANSUhEUgAAAkoAAAAZBAMAAAA8iBzaAAAAMFBMVEX///+IiIgiIiIQEBB2dnbu\n",
       "7u5ERETMzMzc3NwyMjK6urpmZmaYmJiqqqpUVFQAAAB6qHgnAAAAAXRSTlMAQObYZgAAAAlwSFlz\n",
       "AAAOxAAADsQBlSsOGwAABqtJREFUWMPVmX+IFFUcwL/7c2Znf9yeypH4o2XEzCy5wlRCYwWVVIw5\n",
       "kCjQcwu8zEpPhaI/7LZMSQrdFCMoak1PEASXqCwV28PoDzXaE+MyI9aw6xfJKWf2A7q+3/fezLy5\n",
       "mb29uxWXHszMe/t93+/O9zPf9+b73gBULz/o2SHlpwES+p3wfy5j9JLn71E8fPo9wzGRG1ocLwBE\n",
       "6u1mtkbVWNFTpmbofPYmUHoM6k/JVxq97j4vSmNmv7dnZh6gi1Mq0+W7KpQSLGa8ccMznNIHuq4/\n",
       "cGvZNA2s733boNr5WggXvWIps0/d+yuA32CUjtFPb1WhFM0TCe+oVpvtWJp0i0PoL4Dw/XgN5Wqx\n",
       "steT0mF4KIwIy4zSi9boG4KSQn23e0uj6bpRUq5ihF+leyjWYuZMBUpf4hAKXWeUIhhSwVK1eYlw\n",
       "L/eWNuTrRsl3A49+rARqMhMwbEq+J/TpFiXy6h1GicSRqrP32cqTeIdRN0rhPjyQFFyoyUykaFHS\n",
       "3jDsWPr5c7x+zN9x9+n6rKqUAro+JV0h1YC6UWrAmaIjiZUPcWhMKEKrJXG2PIrcIVi2KO0w7Nm7\n",
       "ZSZ5PJZTOgqwpiqlaDuEDW/pL/WjhIReYRkfDotgvBm+siTOlkeRO8RyFiX7NZZ5f8+1j/B6xGCU\n",
       "doJa9jCTdlDCLjsr/F+boHQOM4H5I3Iy6mh9M2y9pFm5/fLC06yCqLZEU9BrdXG2PIrcAYGZlHLy\n",
       "7D3xEBLqaGeUwkYwL7/YZyyFU4it4Mwq18BSPB/8Z9kVlg+Ma/zElL476lgKiyszFsuPnO4Gs4J5\n",
       "mhFIwr2wUrjJWqGFV4xKNnh38arsMykpOP3od5iUwhqGyq48oxRP2pP3xt518H3QiBouSt3sHEtB\n",
       "MIXXQ1nYamZPM2qlxI21Dl9PS9vpkkUJh4ZyQ2lMiV+oFYVoqqIR6mDas2IplJFjKQzYXJ0X764u\n",
       "6yEdpTw8WQiCi1IkRnGeKIAPwcfxz6OZmxRLwtixEaaB9OT7zR9ocvoUfM3MGCvUasirNyraYN3B\n",
       "ugMx4lJOSuj5Lj7iYDn+aezExgkAE0nc8+1LQVh2fMbxvEwpeIGCN1ACf5lrxvo8Ke0rg5jltMl8\n",
       "YeNcM1lii5IwlpIVquiKzM33tyl6HI/1EC4zh0MgWjGDKLkHnd2BeQ2xjEWp0UEpjpHRkeWUtuJ/\n",
       "r9xfDGR5vPUEVx1wx5L6IPPIUH8Tr7Wg+SR6ZUqh5HVFCFoajM2u+7PFFiVuTM3JClV0L4o8x3xQ\n",
       "8DAeJ+FIkVFanTNbND2EaFjST6xitVgH5jVfPQhKESu/zhyABcvsdxwk8GFuGw8NhsZ69kChyU0J\n",
       "fqLTqcZJ9Ggov4qYMTEWpNWuuirly6gss9h2Dpq0budAYuJBlLgxLcMUYLsxDN2DfH7Y8If5ttuE\n",
       "R+uCz7KMkn+q2YJNaE3Hw18wJ1A6WR2Y19jOW5RCvZ3c4vjZG9ieAJySd04uwX6IvdnW9ixSWhHx\n",
       "oMTKFX6ZBzwSxTQo75wk0onklqmsehkuBWC1MyBIPIgSNxYvMwXlnDEM3ecGx5m/nc5L+BQDX4No\n",
       "sccVdw85qwN5DfCytI7TFosVillOypTmwHFFSfNY0rpd+RLYeLA8DZ1wt7UKysuU/PlAO3BKd8Ec\n",
       "FQYNHBKfOXxepsSNKRmmwHcqquleHOx2rADBXGi+oIS3zluvwatY9cwFeQfyGuBE5V04cx0nwrkP\n",
       "pvXwHBzztMkVduHUPyko07D19ZYXil57AvRUjwBRWgEwTcN5Yx1VUYVOeCFxd8YvUxLGUlyBKNm6\n",
       "QpGfbN1Gly9rwZ9MpDmlEEYca6lPPo/Zc4t79rY6MK/ZjkglSmJPQARaGcYVYTsGrjI9O/j9YlFq\n",
       "6kcflPmgnpz8o2ptXzTLlOInnmKUNpfg4hc5WtlgVZkLm7PKXNQkcaJ9h0xJGFsLTIEo2bqoQYp0\n",
       "knXXupx5BOJdOI2pS/qT4KPboFZgYKBPytTtrQSzA/c6nB2CUqzs2tENLW5bV31HN05UC/Yj+l2m\n",
       "9ChtXdKIK4Wy4SIsojsq2Zok9sPETkfuzYwdAKbARpytGwcP3ZB7O0xNjn41eNsQ+97gz45y35tc\n",
       "VP+d6r3vfUnLwcZZJdCMRPIQRAauIQTD1iRxK5wvOigxY9EsKShjl4Os2wkeutEaPgVUKpUodY32\n",
       "6wCzt9tedsXTEqXD48S/gtaVNqu2pil2UOLGFkkKVrXopXsabhmlEXxD2V39e1xkNN/jVHdGPKxi\n",
       "3HxIY6Z4U6IVrU+f9x/QIv9TEuhiVwAAAABJRU5ErkJggg==\n",
       "\" style=\"display:inline;vertical-align:middle;\" /></a><br>"
      ],
      "text/plain": [
       "exists_with_conditions_is_bool: forall_{n in NaturalPos} [forall_{P, Q} ([exists_{y_{1}, y_{2}, ..., y_{n} | Q(y_{1}, y_{2}, ..., y_{n})} P(y_{1}, y_{2}, ..., y_{n})] in BOOLEAN)]"
      ]
     },
     "execution_count": 3,
     "metadata": {},
     "output_type": "execute_result"
    }
   ],
   "source": [
    "exists_with_conditions_is_bool = Forall(n, Forall((P, Q), in_bool(general_exists_Py_st_Qy)),\n",
    "                      domain=NaturalPos)"
   ]
  },
  {
   "cell_type": "markdown",
   "metadata": {},
   "source": [
    "**Fold and unfold the definition:**"
   ]
  },
  {
   "cell_type": "code",
   "execution_count": 4,
   "metadata": {},
   "outputs": [
    {
     "data": {
      "text/html": [
       "<strong id=\"exists_unfolding\"><a class=\"ProveItLink\" href=\"proofs/exists_unfolding/thm_proof.ipynb\">exists_unfolding</a> (conjecture with conjecture-based proof):<br></strong> <a class=\"ProveItLink\" href=\"../__pv_it/theorems/de0182ee537f7b0e8d0a937d8a60db55daa35a650/theorem_expr.ipynb\"><img src=\"data:image/png;base64,iVBORw0KGgoAAAANSUhEUgAAArwAAAAzCAMAAABCHStVAAAAPFBMVEX///8NDQ0WFhYLCwsYGBiI\n",
       "iIgiIiIQEBB2dnbu7u5ERETMzMzc3NwyMjK6urpmZmaYmJiqqqpUVFQAAACZSrTsAAAAAXRSTlMA\n",
       "QObYZgAAAAlwSFlzAAAOxAAADsQBlSsOGwAAC8NJREFUeNrtXYmWgyoS9c08FFDZ/P9/HZFFdjCJ\n",
       "LT0dzul0DpAqg9eiKIqbYfhQQUcZbixiHMdl+JbnC9jvBH/0Cj6MtnHbC31bDJ6zTesXNf0Uxn4Y\n",
       "rdiDKpZow58DL/mIdS2MyRe8R1m60P3T4B3mMTS0rDPwCjh8wVuZsp+crwl4DLwDH/sGLyvi82ik\n",
       "oyoT+QM43SdHLARe6Wl0OHz2kthj4B2g6Bm8y7RUwduFAfqxsqnvjCeDXvT09LOix8A7jKxj8I5g\n",
       "+ILX8/M2NSJ8MyND2cOXxOhz4OUT6ha8bBq+4PUn6W3W/42zMD1+TRpAGfDiW4OlK+0WvBP8gjeA\n",
       "wmb+6wAif37RurISeGd8p26yLZ2CF2zoC97A5cWe97B7Dfr5RgAINEOYHoRya1vJytDLppzbwG5d\n",
       "UK6iU/COYviCN+HyLvDczdJmb9inTyDAQMfk58qtbSUrQ0eEXPCaCNBRPrBRVfB6XQPXEXjnbW4B\n",
       "LzehspvBW7gF/KZtAhDPRQJCyJyB1TBm+xWw/T4eWzooDDC6rQhCIV7wQz0NwaqpsmDj6323Bm2g\n",
       "S/CK6lrkRy1vMDAAAkAVaBn5qQfGuLzOskDplo851cMxAxBYR7eVHobxBVPiyAiNTC3agNb7gvB4\n",
       "7BK8k+gXvGSVuFVhaCRu00kCf3FbM+A93lobxBPgNK3b/oGlOqdl7kgycklqlndZ4X072MxZsvUD\n",
       "3nlj3YLXoIPKSnrj1t6K/CGJFj+n93ssvFVeVQK8tpWhl8F7yqBsN+/UH4yszzuudyZfIAcm/YAX\n",
       "bMt18Mqp3MzmTlOyNq0129UZGHvzmZwxx9IH21Une/pre7BFQ4oPY4gwUV4W9J4tjfygdf8/Oq0V\n",
       "bAyxDMTItCPG7H5qyOQsL8H3GhVngu4HvLgefo/AC5ZB4CFcH6Rr0wjKd3UGRhjFcJKTYuGD7arT\n",
       "Pbnn9a6Ry6vjVHybEd2vhXAXvEh7GUGrTsdC1gex7wpvXBkLArLWrPN1tC4D3uXuQLTj9O7gPZHM\n",
       "2fvgfVnahNvA6ybmsMMUSbO4ODs7tpZwUJnjTwEl8NrNExllVJYlrfmC6rRm12xRmZUTep2zMqIU\n",
       "gB3ojPtezaiSBoNWc4GjTSkcaf6N7uTLEMC6utZI5XbY5pvBCzcXvOcgv+esqC/1qjTUEB5MPdTK\n",
       "2Zi5n+ypaicptiY056244GXGB937clHUfEF1QnN9f2pMgMP6vDzhGiz7uC5LrjWWleo07UopVY/a\n",
       "opXlLO/N2N1dN+KAdzZ3Y3nPhVDgfVXavIFXwDtPerw8COnaRb0r61VdGSXMTzZ0Lh/v958gndRk\n",
       "8JXWfEF1SjOvPsGMFsCb2Nxa8DzPKqOyaesr1Wk5XP2ZH+A1mUHsoQwhByjS5zVLXMg/AN5XpfGN\n",
       "XwbvMg1w1dFRPWNCv3bAxFSnXs6uHGCzFEss2KaFITDr3a0xqTmj+qJmUH+CcWjbFrhuUK3jEp+e\n",
       "5HGZLdcaT4CpTkQaJACZZ5OeAq8zRUvwmst409UOfKGL0lhDOCcSSQGBAKATQrPcd3Nq6TzY6nla\n",
       "/Bevq5iDtQb2pl4B5D7VYtETac6ovqgZ12ddlJ/RyuhswW69k73Cp8A7bMKLNkxqBQQ/At4XpTVE\n",
       "yorPg5m8PfsNkbkbKbPu1Y3ykABBafAe5odqsxTuJFi3Ia36imbU4motYHiuAHuXngMv9sCrjMS7\n",
       "mZgGvK9Jgxt6A7wzmJSb4sJvWPcJU03IJCHcq5PbZhyyIQ/eZRMapl5w1mrOqL6kmf6ig/2PgXda\n",
       "PfAuwry86tK74PWkEbxRSIWwd8XJEfA9gBbw1nkbWHt1ZfBxrJ2cVrVZ3hXN7NccywP71PoUeMfR\n",
       "A+9hJmF25JaRykam9zZoBby+NHaoglqhmyPgF7F1dn9KT8lNpwXQ8C0N4J188HKQjkMBgeWamYvD\n",
       "2OgjrFXwetIEVR6tF9Oh+LPg/VLp/OZykX4nBO+ONRYvAyg1Z0/2Rmr9hSp4PWkq7Vblmfs5Atfd\n",
       "hqw5/HOEDsuLbQ9dUvUj2oFukhG6DQPkOjzrJBDZE/oDnznZ17g7eCGldNz/SBG8VprEq8xqUubX\n",
       "zxGIFmwNV57LJPtr4C1l1D11woRkgiAUNXxEg5e0BFKCBZv0QpU/6yQQOWEbPu9uAyfNlnc5M3/Y\n",
       "BAAwW45ejkA45g1x3izfxvF1PpWj0X8x49AXJwlIjrq74e1lToohwWACGu7cJALwykj5AbszgYgw\n",
       "F7w7ZAFuBa+RJt+5MPVyBMKVdh28eb4NlbHzoRyN7oszDl1xkqwpGxsn6nAQf8TG3da68+jvsPlr\n",
       "H5NAxFZ8FK7Ai+CwNoM3xqv6Im6OQPiVtmqcKM+3cVzZp3I0ui/nOPTFSZJKu5jjOdYFb8RgwqrJ\n",
       "HejM0I/AaxOIZuhZXpnkp73TC+BdjI09NvX9HIHgW9YPUuQTXVbvqYX/5+eKp8jX6oSTZIrNZmK/\n",
       "2wVvzGAy1UxvkJjjo20wCUTnHpkKnoPKLkYCvLtTBp2dfz9HIDsb5Dy9tQLeD+VodO/xnt+vM06S\n",
       "2CqRBGY88EYMJmvNhjkZXCF4nQSixbgrsz6VdB28nlKjgaZTl8bauFNYAe+HcjS69xrO75fjJEHg\n",
       "cB+SR0VLbY0+d04CjGpSqw8PvBGDCaxdl5MEUzoGhKD0eZu3LMvgJWfwTIypqaF68r3wTBpv/CM5\n",
       "Gr2XNXB5E5wkUJErsNTGT6mtrWQlnPwROq7w739NXCEH3ojBhNVsmPBOUnyqjLVjL2aA0x1ZbZdC\n",
       "3yIn3kID8F7L0XjN7BWmljtiHCA7DkOek2TmiqpB4JiRxGl7kY/ElR6MwNRgeH3wRgwmvGbDnONi\n",
       "PR19r6yzIiKLE6Y2HbaYo/GJ8uNUJLQwDjlOEqQpF/aXiJHEaXuRj8SREN3CYLZNPuoeeCMGk7ky\n",
       "IyzOiZtfRDrSAN5MjsZd4P0JKhIC8+OQ5yQhchpT/FkRqYNte5mPxJHu108NhtcHb8RgQiqWt0/S\n",
       "kYFOTW5DCbzpHI27wPszVCRR2N6OQ4GT5CBqAtOQAq9te5mP5JTgsZE4qg7f7j//nHtpWbchZDDh\n",
       "lalA9En3RCrbFNEx8IVG4LVZFeQI7AXDlqxMXkq2Y4WK5D21yZ5R1NqOQ5aTZP8vzEvISOK12VzV\n",
       "S4QkVkLARhKCKbNb5i/YQgaTGiA7Jdo7yQMyi1xRizY4ORpAbnEH53eTlelYULZjmYrkPbXpntGB\n",
       "YjsOWU6S3fJJggm17RMwknht5uehCuwjqSojIWAjCYKZuZPQHngjBhMKK15DnxSntXjDPNbBe+Zo\n",
       "yHsmszEcThBbWWMEOT9dAm+CiuQ9tWm9EX2SHocCJ4n0wCGgyjsMGEm8NnuVtjGmIYkJSRwJHhtJ\n",
       "gIBcmgJhMWhO8FZQNPZKLl2j9R/nOnhPFMNjaH1OEF1ZZwTRHcvgTVGRvKc2pTfmIRnnpjGCq+9E\n",
       "unQiqu3kI7lOSKIkuGwklo5Ed27ZK4oYTJax4lr2SutfM735pI01fTVyaD1OEF1ZZwTRHa9Tkbyn\n",
       "NqU3nn1LySuqTSILTdwHLzxRp9ocPpJLhCSOBJeNJEgKWlseh4jBpJJYhD3Xsa+fslrLY5hlNViT\n",
       "JogcZu5kI3Eqy4wgtuNFKpJGtdf0JnhISuwOR5v8STD1W6IxI8nZdvKRXCMkOSW4bCRBMl/TT1NE\n",
       "DCaVhECy9ftTVoqTozB6uB28nDK8nihSiUG2ssIIYjtepCJpU3tNbwKpJXqHo42z2Ls28Ey1XSMk\n",
       "SUoIL3RsMbwRg0mFdCWIlnb2862gfDk5vo0YvGgfBczcUeROZY0RxHa8SkXSqPaC3iRQS7wjT3GS\n",
       "AB9386WPaPCC5VK86Vf9cHZDtMHKAQORtR4biamsMoKYjpepSNrUXtFL/8Sp6CYGExLe5k+ClyGE\n",
       "3s7oeumXZNZEPAb4jwHLVUbjmOqYBW9ARdKm9oJeRoYveLUt95aAEmvgg+CV7v/7v8H1Cjvx+mO8\n",
       "DT9NRfIXeEja6HeQH77AEm34fwt6puo0NUXDAAAAAElFTkSuQmCC\n",
       "\" style=\"display:inline;vertical-align:middle;\" /></a><br>"
      ],
      "text/plain": [
       "exists_unfolding: forall_{n in NaturalPos} [forall_{P, Q} ([exists_{x_{1}, x_{2}, ..., x_{n} | Q(x_{1}, x_{2}, ..., x_{n})} P(x_{1}, x_{2}, ..., x_{n})] =>  \\\\ [not](forall_{y_{1}, y_{2}, ..., y_{n} | Q(y_{1}, y_{2}, ..., y_{n})} (P(y_{1}, y_{2}, ..., y_{n}) != TRUE)))]"
      ]
     },
     "execution_count": 4,
     "metadata": {},
     "output_type": "execute_result"
    }
   ],
   "source": [
    "exists_unfolding = Forall(n, Forall((P, Q), \n",
    "                                   Implies(general_exists_Px_st_Qx,\n",
    "                                           Not(general_forall__Py_not_T__st_Qy)).with_wrap_after_operator()),\n",
    "                  domain=NaturalPos)"
   ]
  },
  {
   "cell_type": "code",
   "execution_count": 5,
   "metadata": {},
   "outputs": [
    {
     "data": {
      "text/html": [
       "<strong id=\"exists_folding\"><a class=\"ProveItLink\" href=\"proofs/exists_folding/thm_proof.ipynb\">exists_folding</a> (conjecture without proof):<br></strong> <a class=\"ProveItLink\" href=\"../__pv_it/theorems/a465e358ab529bfa6fe967d4f9ff49a5d39890f10/theorem_expr.ipynb\"><img src=\"data:image/png;base64,iVBORw0KGgoAAAANSUhEUgAAA6sAAAAmCAMAAAAV+v0sAAAAOVBMVEX///82NjYbGxsSEhKIiIgi\n",
       "IiIQEBB2dnbu7u5ERETMzMzc3NwyMjK6urpmZmaYmJiqqqpUVFQAAAAnLjGdAAAAAXRSTlMAQObY\n",
       "ZgAAAAlwSFlzAAAOxAAADsQBlSsOGwAACN5JREFUeNrtXYm2pCgMdWZQEGTz/z922AUNSrW1vdfk\n",
       "nK6uDkgozCU3waoehieIWo3IoUuXLq8QYQFGnjKU0n05u3R5qUwdq126dKx26dKlY7VLl47VjtUu\n",
       "XTpWu3Tp0rHa5Wmix3FkfRm+QJC5E6pjtUtVlr4EVthX2JayY7VLx+p5TFMfNM4RhNUNZkrew+oz\n",
       "RuryLVgVo5eJ/wWwnNd11npexBa7FP7slCSAVZHuxcLuYfUZI3X5trj60fDyNln9Z54T0SSfJhcL\n",
       "OWKVxnDI5psc+BkjdelY/YDQ1XNOtUbuKT5NDaUA8tUIYKxuYvUZI3XpWP0E41xp+Dsy3+njcwoh\n",
       "vsBq/MeNoB+w+oSRunSsfkDmNf5Ng0d/3ocXecTqMPkaAr6N1SeM1KVj9RPp6lxQYUOBgw8ThDSh\n",
       "uMIUz1ubpD4E1gBWhdtLZnIfq/dH6tKx+ql0leH03EEMaoNJGpFGgxjB685bm6Q+hFwArDIdX1oE\n",
       "n2D1sZGqycM40g6Y9+Rp4FI7J1HxzObFWBUnIeA1xwkISFc1xlhmp1MBtdLMQK5k0GCl6by1SU6G\n",
       "UBOAVRcIcfUYjY3CNspJV9c2PQtxPlLrbsA7iN4m0GK/Na7uzgwQRkh4jEr+ru0hpqubhFNlu5GJ\n",
       "uBxE7pLYvJVgrPXjhLIwsA/2EFYVAutBFOl55g6J2PQL58SnWK2M1LHasdqEVe5O5tlkX8nLHobj\n",
       "e264LhWsurcowgEBXDe2Wlj8IReeEDxLMK6amyOP/YWINTHTKBL5PcUqPNKD9Od3YxUgdi/hervb\n",
       "QCrtX4VVFZxdWKV4nRssZBfBDondlrny1dwdQvLp5YCKrauZLVv/JHfLDJReMYJYxSrMXgpptg+H\n",
       "ofSQ06Co4gxZrGIhxGj+8CpW00hmDvMqsNCaAfQGpD85VjG5zGZ+pnhiV6zNi7ieOOx/eDYy2ReU\n",
       "2tuwam9cee+GqhbcOOo9MydIvi4t/RvPrrxneld1RethEdwKDcTQSj2lIk3EavDNolWSOP8mIgwO\n",
       "sYHPLcIMYpWFXJRIPpkmS0HItoaKGugo3hRX40jOivtoeDzSm2ushmeXyW/7UkD8QNnavOoz5kwv\n",
       "q/fNZXsTVhEb9DwsuwgLa0G8nPTMnEBHw9i4L1tOrrxpWpVOvKxHH3QLplZKhJkLVzlWSaDMu9Z4\n",
       "OyOhTm8AFTREBj4PNAxiddB+Q2ME2THsrxtymWPVIBTNLViNI7m3Pj6vR3pzjdXgL/i3FYQjJcnW\n",
       "5mVcL2N6G7nJFt21V7GaP7svXaCx94JlB3JJyxU6/xDb9adYTQfzi7bUo7wyt3zXNM89T9gH9/eJ\n",
       "G3XuSgRCBthSlRR9HAnQaq4hWat5k6CS3m1vjkNk4PNdOIzV7aaikNTKZXaiPFYJjrvtBVbznNl9\n",
       "iFEf6U0DVoP930aBx+PaeBVH9v1uHUElGEOhjhvTy0PsXLZfxtVYfnFop2okR+1kA8XFDFd2na9O\n",
       "MuaPLPMp2PIt0/Tar6CzrJSvKojnps1EtbBgqFMCnxsuGKtjdbIxVJh9iOIirtoNLNzhVqwyu0Mw\n",
       "H0BKetOCVdf4687h2XJYG68iyG6otHwKFVSCzBrsaJmecDvef+aPPCy6Y4KNWLVjO5cvEBO0bLic\n",
       "ZOgpBZe7L5vlPMtMiJvxR5nhCbZ8z7S6LoNIcYJVCAPMXMBYrfXo5FBwi+BzMVFeYJW5pJ5adG6U\n",
       "w9c+0Mn2DmJVTgihuH0U9Aa4TdhH8XlM7mPp7+seyiyXCkkZSmn82aQbEYh8ZWvjVYxYR7B5Rsb1\n",
       "kvKK6W1Xg0wPSRAbrr0Fq2wa8BIYVeBuuNQOM4/q3UvZU9k5jtXa0sQkQTQ8MzSCliumAcsnplHD\n",
       "WcXMqlglCIqqlFJ3rElaDkLAITbwZd9Vq2KVa1evld54pOH+66iPYlXnyoLenMRVndyH6EGhl2FV\n",
       "FIzIJW7WGJUvtZQWKlubpMKOBJVcLyivmV7oCDI9MsPYoK1YHQTiGPldx8+OWg6facPxnlPTiWUv\n",
       "u56aJm4BOAETGtknClgCy8FyxTRg+cT03FBAJnvvZHhZnZMMkFtO9n+xWGutxy0cSmQ28GVTbPoN\n",
       "F+JiXVPhA8TqVOzmOb1pwuqg2QsfLM4QRPzvgLGpzspvlWMlAJ9sbaLKlhIsCSq4XlBeM73QseCY\n",
       "kQP/+898mwNvhmJSVrAUEp0PSFrULl9HkpMTJ+AiBJ39EwtpXWDTULpUMU2abjN7XaRoKl8/gtUH\n",
       "BMIqixHU8ZGS3tSxmrkPnR2glN3L9skDqIQmVuuX6cKJlmUgDNcuumFQH2tLLGcXYypm8LVkmZny\n",
       "nGSmjgXHDEyP6kocc+2PYZWiyVesCrgtJqKECtnRnwqVPZ9S+NQJ2KoDKotD0WS5YhqwXDUtftLP\n",
       "lrwBq2hecUZaSnrTUluKNECZ7d+5Wx5mo/IqkUsXn2A1RBx79Ox/JwqyeMPgfMiCtrXJ2I4Scl52\n",
       "LHNTXpDM1DHnmGHgHTsRpeFH42r0oGb1VVZxcIJl5FvMbDYtH5jkj3ou7s2/Y6j29KYNqzEucVcc\n",
       "2SVyXnmZyIV+h/rjEauWCYejMsjinxssPJ8f639eRVicScYyk/KKZKaOGccMTK+a9Pt2EKvv/H3g\n",
       "M0OvyYF+0Fc20ThOb8VqoiIbvXkEq8b9fJkrFgIzZUrkSLrt6SXvd6g/iqJcKhHR3BEtyOJNg+Wn\n",
       "BPiXU2k08GXPMqPykmTGjjnHDJaqQdK39y9K/BR5C1YlQG8ewCpC4fkJjxxXA9qUPpFzSnd6nF7K\n",
       "fvv6oyjqbxjPjGy5ZWnxpkG6i6QAscPuOTGED6t2UNZI5rFjZHqqhsXQ3rHasXqD/pTuw1Q8ug5x\n",
       "VRXKkMhV6o+p377+uC8TLVQkB95bvGdQNFCwV7Ay0tbesdqxekNK96E4fssuYFXmypjIVeJN7Heo\n",
       "P+4RNIdnymytfG/xlkH15U80d6z+bVi158Dyte6zFe3zcJgSuWdFHXJu8WGD317I6Fj9CSIswL7R\n",
       "lXD/vaV3Cfor/guM3yL/A2jzdGwKsEbSAAAAAElFTkSuQmCC\n",
       "\" style=\"display:inline;vertical-align:middle;\" /></a><br>"
      ],
      "text/plain": [
       "exists_folding: forall_{n in NaturalPos} [forall_{P, Q | [not](forall_{y_{1}, y_{2}, ..., y_{n} | Q(y_{1}, y_{2}, ..., y_{n})} (P(y_{1}, y_{2}, ..., y_{n}) != TRUE))} [exists_{x_{1}, x_{2}, ..., x_{n} | Q(x_{1}, x_{2}, ..., x_{n})} P(x_{1}, x_{2}, ..., x_{n})]]"
      ]
     },
     "execution_count": 5,
     "metadata": {},
     "output_type": "execute_result"
    }
   ],
   "source": [
    "exists_folding = Forall(n, Forall((P, Q), general_exists_Px_st_Qx ,\n",
    "                                 condition=Not(general_forall__Py_not_T__st_Qy)),\n",
    "                       domain=NaturalPos)"
   ]
  },
  {
   "cell_type": "markdown",
   "metadata": {},
   "source": [
    "**Providing a legitimate example is one way to prove that something exists:**"
   ]
  },
  {
   "cell_type": "code",
   "execution_count": 6,
   "metadata": {},
   "outputs": [
    {
     "data": {
      "text/html": [
       "<strong id=\"existence_by_example\"><a class=\"ProveItLink\" href=\"proofs/existence_by_example/thm_proof.ipynb\">existence_by_example</a> (conjecture without proof):<br></strong> <a class=\"ProveItLink\" href=\"../__pv_it/theorems/5581649757a62c8498033fbfbeda62c93f331bcc0/theorem_expr.ipynb\"><img src=\"data:image/png;base64,iVBORw0KGgoAAAANSUhEUgAAAk0AAAAzBAMAAAB4YyHzAAAAMFBMVEX///+IiIgiIiIQEBB2dnbu\n",
       "7u5ERETMzMzc3NwyMjK6urpmZmaYmJiqqqpUVFQAAAB6qHgnAAAAAXRSTlMAQObYZgAAAAlwSFlz\n",
       "AAAOxAAADsQBlSsOGwAACO1JREFUaN7lm3mME1UYwL8eszM9t4u4iS5HU0KIoKEaiEiAFEKMLIez\n",
       "CYsarkUDAlF2AY3xD9wSjkhMoInBkIBhDWJiAm7lEDkiJSgKSChXCGKkCMIfElySPRCE+o6Zzsx7\n",
       "M+0u09iCL2n7zul7v773zXd0AAonob5eNquvr6+HRzyRJVqtn03ObDZpVj80e/fBZ1DRVM58hLn0\n",
       "szHbiaaazTZ0i1OLef1gOzO5Ud4baYm6g47gN3/JOAVjVi3xB7+oVDxOgXB5cDpq1eBIP/hFvaHi\n",
       "gZpSFpykEcZydXbRtY1kq5+1s7g+xePkTJUDJyf7y/+NxOVwLEATdhbnkYt38IaXA6fDTFm8hWaG\n",
       "XuBL2VmcP1m8DbWxHDgNY6VSF3q1o4zL3uKGa3qH3a3VGi89J0cHq021oRdiBRfsLW6TtkMbbHLy\n",
       "ZErPyZlhKirRRJqxzNqFRFRNCmZpGp+hZKYS6jtM0eq/tyugOkrPqZlVxhGjlc8oG8IdiMLJXIux\n",
       "ZJIMHYi6sSOC01Cbskq4VXpOV9iK/lfHHyMZBGuZLwzXYIZy4yMlYfxNS3FDuyvpjK7hQtoeqNdL\n",
       "z2kMW9GoZkYCyK4QPCtWKQoxKfnAF7a6FumQ25f6DfFxiy1OJ+Ol5iT+A7z6lOMErbLYpRkOuFTZ\n",
       "InVZ35hwdyVt0dWvecnefpqdKjUnx20WXLuaw0JqLziiGidc8st5OJEOBxbX4PxpTT5FNtgU5K5M\n",
       "qTlVRFlwd9TcHPRaBBUZwkkAtQRuVORFVK7DjC0pV1xdFU1f2FU0K8Kl5uRiv9bTpr+xfwetKcJp\n",
       "dkItYT+HgA8nriKZXIl0WPUEVMpUrVAtyIRdTu42PSeyuX4txClINIoUx6kbo81OPnPL9jV2qvbe\n",
       "EvSaNfZgnHByDlRLEvabRRAJJx46BJQ3rcNlKpq0n86+H9B/R89pH/7cUIiTD28pT5zj1I3RZuqT\n",
       "tf/DSZY3QXEAnQOl9BF8iKr4g5fr8DzsF9EmChfRFyXe0nP6AF+zoRAnEW+c1fy568Zok3Qpnc+S\n",
       "dSeE0QqnGNCS9OZ7u1GW757r0AaDztu1olnhd1fPCbsi3OmC8mk9+pzMc+rGaDPNJM+ZmA/OUDAG\n",
       "0oT2EAghoCVXNouERR2/FLWDNwO9U/wvaS/d13Pyo8t7Csvxn9FngufUjdEmqX/cum0aBA7tU2+D\n",
       "WCjmSsCfVqYDglzM1Gm43z0XiQwrzMkViQyImdzvCo82SS/n8XlINny3jnhROb1g4LQHYC6Ynnw9\n",
       "J18T79HBnCxG508HZXgYUsTAaS1IGZNOSSMn1GctVt7uTrwZ13OyGJ0//fVQYIIBBk4VsluvR0pD\n",
       "auFwhuOEdk0tHhAmmrHGiRn9CHMKhDRBvPjaQvjNLftkntMpIsaDSXC06TnpRz/a5w4Sh3J68R6s\n",
       "XYeSbpi4f8j+FgMnjx8LWFda54skyi8e7e1HFXaUPssAdw51zYocZ+Vtr0F21yTZHs3PwSjHYTLS\n",
       "jai9TcJf539Z7ublE7gv4E2wTpb+NNp3eHRdpbxUVWg6RNbI1TWregGrP9Xa/u372hpNAqS1pl4y\n",
       "jdMKtAGIvS0Qxfq8e+bnJpwkMupwVV/ZyAmPXnUaqmE1bpBmhh0N22uMIos059Uza8EXQYpHTyWd\n",
       "o7Hz5oLdxPSM2cPcx4zTXSOnIJo1sbe9ROs/D8lqE05wHb/d5PwFeDRchcviaQIwGAuGokKb8QtR\n",
       "s9FuaTHdTz0PmVcimfkG/t7XbG5HbFewnIR2E78Ktrf9n8yb9zbiNNXD609KGmXuVxmM7FCnTPu6\n",
       "muLs0UPN/n0ntCs2p4rECRvUl/CZOWDXN5DkORntYCVhe1uM0f3kPWXlf5Jum3Ma5G3DnIQYsvdb\n",
       "kbLQAlNxQXnDzYFq0Gz5ymSROGFB1x/POmpXvg3nOQXu8ZyovU0062MA/aw4VbfLppwuHklgTuJo\n",
       "CBxYQJT0pWlxBCyN47c0ab6uc5w5E0XihMMPjYhVwLZTbhPPiXqnjZyovb0afaX4VJy5ixf2Zwrx\n",
       "ihQ5dwF4Fd4Ct4yOgrbmNGkOO47lGAejReLUqZwOH9pTQtUf7+g9GnX9Xhmf94KGAVN4TsE2k3NH\n",
       "R744b6GFHZyXUzD0JYiPoe/cCpe9CdicDYM3B8Ur42YhE5ikSYOO4nBCjKRxeJAHCTwf9Avt0Bte\n",
       "jsvWwSyiLeoHHOU5uRqsOOXxF+Tl5D2kyOgUbOutoNCgaM259d3jOAWwXtBTTo774yeRuTnRyJ/g\n",
       "pHwDBPUPaP64vyOYyhcgpQOUdIbntC5UbE49TmOKs58qVP3DhWbYBHux5dVL/S3Al8B7xnpP0QHq\n",
       "nZPnVPo4J+wsDqfKhI4T0Kjwae3coP2QN0CqhZFJgJTl9DuUnFNriwWnqm9rVNtPl9WSsbJZPc/4\n",
       "3IH3NtTrObXGBTlvgJQMOP5jVZLiZTmVwf8wnElzTo74NU9a9U3msnqHpaGyvzqxihAIC9FdNEY5\n",
       "YZE0reUKCTy4wzQaakyoBx0gHBsFIygOhpO/DP7Xw97wVE5+mCPSWB2QLGspkkotbVYz7gwEuqZH\n",
       "vWnCiYRAL727E7YDCZDmYqOGICkdINUlAE9mF8dJ8YuU1f8ONTsY6XbLBtJKlOUsRdAbBN9k56hC\n",
       "G22ar0MXTyjyCQdEp1cFDiBsGDqJhg4BfZAU9VAGBEPeKF0Lw6kc/neI7sjmfhUxKgEMzGU5SxFX\n",
       "Ht/G/3da8x1hTrqAKAmQnuP6az1cTb5kEwmQMpwWQRlw8sRMOa1wJ3yE01Qly1iKpPJUg5O73nED\n",
       "Jy0gSgOkvNNF67EOnMuaSIDUyMnbUQ6cxBGmnHxPjn2ccFqaplnGUiSVwaY1vCal3gVXbh6rD4iS\n",
       "AKnAh7q0Hl+BYxINkBo5OdPlwIlx3BmniM8dnSVrKdLpQJ+tnK1mWAjDxcF/PUtuPjeJ8nhug3kO\n",
       "aJzeN714WFo1D1lLkXzMgrMp7nrLbXkLcIC010jDsUs8AKcfzJ/Te9rOc4qf5lcczLJ++O/S+3TF\n",
       "9fXV+DnFuu5x+h8+p7hecXCpzyn+C8bmrMlA9KM7AAAAAElFTkSuQmCC\n",
       "\" style=\"display:inline;vertical-align:middle;\" /></a><br>"
      ],
      "text/plain": [
       "existence_by_example: forall_{n in NaturalPos} [forall_{P} [forall_{y_{1}, y_{2}, ..., y_{n}} (P(y_{1}, y_{2}, ..., y_{n}) =>  \\\\ [exists_{x_{1}, x_{2}, ..., x_{n}} P(x_{1}, x_{2}, ..., x_{n})])]]"
      ]
     },
     "execution_count": 6,
     "metadata": {},
     "output_type": "execute_result"
    }
   ],
   "source": [
    "existence_by_example = Forall(n, Forall(P,\n",
    "                                    Forall(y_1_to_n,\n",
    "                                           Implies(P__y_1_to_n, general_exists_Px).with_wrap_after_operator())),\n",
    "                            domain=NaturalPos)"
   ]
  },
  {
   "cell_type": "code",
   "execution_count": 7,
   "metadata": {},
   "outputs": [
    {
     "ename": "ValueError",
     "evalue": "theorems should not have free variables; variables must all be bound (e.g. universally quantified).  Free variables: {x, Q}",
     "output_type": "error",
     "traceback": [
      "\u001b[0;31m---------------------------------------------------------------------------\u001b[0m",
      "\u001b[0;31mValueError\u001b[0m                                Traceback (most recent call last)",
      "\u001b[0;32m<ipython-input-7-257b40b5012b>\u001b[0m in \u001b[0;36m<module>\u001b[0;34m\u001b[0m\n\u001b[1;32m      5\u001b[0m               condition=Q__x_1_to_n),\n\u001b[1;32m      6\u001b[0m     domain=NaturalPos)\n\u001b[0;32m----> 7\u001b[0;31m \u001b[0mproveit\u001b[0m\u001b[0;34m.\u001b[0m\u001b[0mmagics\u001b[0m\u001b[0;34m.\u001b[0m\u001b[0mAssignments\u001b[0m\u001b[0;34m(\u001b[0m\u001b[0;34m[\u001b[0m\u001b[0;34m'existence_by_example_with_conditions'\u001b[0m\u001b[0;34m]\u001b[0m\u001b[0;34m,\u001b[0m \u001b[0;34m[\u001b[0m\u001b[0mexistence_by_example_with_conditions\u001b[0m\u001b[0;34m]\u001b[0m\u001b[0;34m)\u001b[0m\u001b[0;34m\u001b[0m\u001b[0;34m\u001b[0m\u001b[0m\n\u001b[0m",
      "\u001b[0;32m/home/wwitzel/Prove-It/packages/proveit/magics.py\u001b[0m in \u001b[0;36m__init__\u001b[0;34m(self, names, right_sides, beginning_proof)\u001b[0m\n\u001b[1;32m   1050\u001b[0m                         \u001b[0;34m'must all be bound (e.g. universally quantified). '\u001b[0m\u001b[0;34m\u001b[0m\u001b[0;34m\u001b[0m\u001b[0m\n\u001b[1;32m   1051\u001b[0m                         \u001b[0;34m' Free variables: %s'\u001b[0m\u001b[0;34m\u001b[0m\u001b[0;34m\u001b[0m\u001b[0m\n\u001b[0;32m-> 1052\u001b[0;31m                         % (prove_it_magic.kind, free_vars(right_side)))\n\u001b[0m\u001b[1;32m   1053\u001b[0m                 \u001b[0;32mif\u001b[0m \u001b[0mname\u001b[0m \u001b[0;32min\u001b[0m \u001b[0mprove_it_magic\u001b[0m\u001b[0;34m.\u001b[0m\u001b[0mdefinitions\u001b[0m\u001b[0;34m:\u001b[0m\u001b[0;34m\u001b[0m\u001b[0;34m\u001b[0m\u001b[0m\n\u001b[1;32m   1054\u001b[0m                     \u001b[0;32mif\u001b[0m \u001b[0mprove_it_magic\u001b[0m\u001b[0;34m.\u001b[0m\u001b[0mdefinitions\u001b[0m\u001b[0;34m[\u001b[0m\u001b[0mname\u001b[0m\u001b[0;34m]\u001b[0m \u001b[0;34m!=\u001b[0m \u001b[0mright_side\u001b[0m\u001b[0;34m:\u001b[0m\u001b[0;34m\u001b[0m\u001b[0;34m\u001b[0m\u001b[0m\n",
      "\u001b[0;31mValueError\u001b[0m: theorems should not have free variables; variables must all be bound (e.g. universally quantified).  Free variables: {x, Q}"
     ]
    }
   ],
   "source": [
    "existence_by_example_with_conditions = Forall(\n",
    "    n, Forall((P, Q), Forall(y_1_to_n, \n",
    "                        Implies(P__y_1_to_n, general_exists_Px).with_wrap_after_operator(),\n",
    "                        condition=Q__y_1_to_n),\n",
    "              condition=Q__x_1_to_n),\n",
    "    domain=NaturalPos)"
   ]
  },
  {
   "cell_type": "markdown",
   "metadata": {},
   "source": [
    "**If the negation of some instance exists, then it cannot always be true:**"
   ]
  },
  {
   "cell_type": "code",
   "execution_count": null,
   "metadata": {},
   "outputs": [],
   "source": [
    "exists_not_implies_not_forall = Forall(\n",
    "    n, Forall(\n",
    "        (P, Q), Implies(general_exists_notPx_st_Qx, \n",
    "                        Not(general_forall_Py_if_Qy))\n",
    "        .with_wrap_after_operator()),\n",
    "    domain=NaturalPos)"
   ]
  },
  {
   "cell_type": "markdown",
   "metadata": {},
   "source": [
    "**Negating both sides of exists_def:**"
   ]
  },
  {
   "cell_type": "code",
   "execution_count": null,
   "metadata": {},
   "outputs": [],
   "source": [
    "exists_def_negation = Forall(\n",
    "    n, Forall(\n",
    "        (P, Q), Equals(general_notexists_Px_st_Qx, \n",
    "                       general_forall__Py_not_T__st_Qy)\n",
    "        .with_wrap_after_operator()),\n",
    "    domain=NaturalPos)"
   ]
  },
  {
   "cell_type": "code",
   "execution_count": null,
   "metadata": {},
   "outputs": [],
   "source": [
    "not_exists_via_forall = Forall(\n",
    "    n, Forall(\n",
    "        (P, Q), Implies(general_forall__Py_not_T__st_Qy, \n",
    "                        general_notexists_Px_st_Qx)\n",
    "        .with_wrap_after_operator()),\n",
    "    domain=NaturalPos)"
   ]
  },
  {
   "cell_type": "markdown",
   "metadata": {},
   "source": [
    "**\"Unfold\" $\\nexists$ to $\\lnot \\exists$:**"
   ]
  },
  {
   "cell_type": "code",
   "execution_count": null,
   "metadata": {},
   "outputs": [],
   "source": [
    "not_exists_unfolding = Forall(\n",
    "    n, Forall(\n",
    "        (P, Q), Implies(general_notexists_Px_st_Qx, \n",
    "                        Not(general_exists_Py_st_Qy))\n",
    "        .with_wrap_after_operator()),\n",
    "    domain=NaturalPos)"
   ]
  },
  {
   "cell_type": "markdown",
   "metadata": {},
   "source": [
    "**\"Fold\" $\\lnot \\exists$ into $\\nexists$:**"
   ]
  },
  {
   "cell_type": "code",
   "execution_count": null,
   "metadata": {},
   "outputs": [],
   "source": [
    "not_exists_folding = Forall(\n",
    "    n, Forall(\n",
    "        (P, Q), Implies(Not(general_exists_Px_st_Qx), \n",
    "                        general_notexists_Py_st_Qy)\n",
    "        .with_wrap_after_operator()),\n",
    "    domain=NaturalPos)"
   ]
  },
  {
   "cell_type": "markdown",
   "metadata": {},
   "source": [
    "**If all instances are true, then there exists no counter-example:**"
   ]
  },
  {
   "cell_type": "code",
   "execution_count": null,
   "metadata": {},
   "outputs": [],
   "source": [
    "forall_implies_not_exists_not = Forall(\n",
    "    n, Forall(\n",
    "        (P, Q), Implies(general_forall_Px_if_Qx, \n",
    "                        general_notexists_notPy_st_Qy)\n",
    "        .with_wrap_after_operator()),\n",
    "    domain=NaturalPos)"
   ]
  },
  {
   "cell_type": "markdown",
   "metadata": {},
   "source": [
    "**If elements exists in $A$ that satisfies some criteria, they also exist in $B$ given that $A \\subseteq B$ (simply because all elements in $A$ also exist in $B$):**"
   ]
  },
  {
   "cell_type": "code",
   "execution_count": null,
   "metadata": {},
   "outputs": [],
   "source": [
    "exists_in_superset = Forall(\n",
    "    n, Forall(\n",
    "        (P, Q, A, B), Implies(general_exists_in_A_Px_st_Qx,\n",
    "                           general_exists_in_B_Py_st_Qy)\n",
    "        .with_wrap_after_operator(),\n",
    "        conditions=[SubsetEq(A, B)]),\n",
    "    domain=NaturalPos)"
   ]
  },
  {
   "cell_type": "markdown",
   "metadata": {},
   "source": [
    "**If an element exists satisfies some criteria under a certain set of conditions, it also exists under less restrictive criteria:**"
   ]
  },
  {
   "cell_type": "code",
   "execution_count": null,
   "metadata": {},
   "outputs": [],
   "source": [
    "'''\n",
    "exists_more_generally = Forall((i, j, k), \n",
    "                             Forall(l, Forall((P, iter_q1k), \n",
    "                                              Implies(general_exists_Px,\n",
    "                                                      exists_Px_Q1i_Qjk).with_wrap_after_operator()),\n",
    "                                    domain=NaturalPos),\n",
    "                             domain=Natural, \n",
    "                             conditions=[number_ordering(LessEq(one, i), Less(i, j), LessEq(j, k))])\n",
    "'''"
   ]
  },
  {
   "cell_type": "markdown",
   "metadata": {},
   "source": [
    "***If $P(x_{1},\\ldots,x_{l})$ given $R(x_1,\\ldots,x_{l})$ for all appropriately conditioned instances, then existence of a satisfying instance of the former implies existence of a satisfying instance of the latter (e.g., the same instance).***"
   ]
  },
  {
   "cell_type": "code",
   "execution_count": null,
   "metadata": {},
   "outputs": [],
   "source": [
    "existential_implication = Forall(n, Forall((P, Q, R),\n",
    "                                          Implies(general_forall_st_Qx__Px_implies_Rx,\n",
    "                                                  Implies(general_exists_Py_st_Qy,\n",
    "                                                          general_exists_Rz_st_Qz).with_wrap_after_operator()) \\\n",
    "                                          .with_wrap_after_operator()),\n",
    "                                domain=NaturalPos)"
   ]
  },
  {
   "cell_type": "code",
   "execution_count": null,
   "metadata": {},
   "outputs": [],
   "source": [
    "skolem_elim_lemma = Forall(\n",
    "        (n, alpha),\n",
    "        Forall((P, Q),\n",
    "               Implies(And(Exists(y_1_to_n, P__y_1_to_n, conditions=[Q__y_1_to_n]), \n",
    "                       Forall(x_1_to_n,\n",
    "                              Implies(P__x_1_to_n, alpha),\n",
    "                              conditions=[Q__x_1_to_n])), alpha)),\n",
    "        domains=[NaturalPos, Boolean])"
   ]
  },
  {
   "cell_type": "code",
   "execution_count": null,
   "metadata": {},
   "outputs": [],
   "source": [
    "skolem_elim = Forall(\n",
    "        n,\n",
    "        Forall((P, Q, alpha),\n",
    "               Implies(And(Exists(y_1_to_n, P__y_1_to_n, conditions=[Q__y_1_to_n]), \n",
    "                       Forall(x_1_to_n,\n",
    "                              Implies(P__x_1_to_n, alpha),\n",
    "                              conditions=[Q__x_1_to_n])), alpha)),\n",
    "        domain=NaturalPos)"
   ]
  },
  {
   "cell_type": "code",
   "execution_count": null,
   "metadata": {},
   "outputs": [],
   "source": [
    "%end theorems"
   ]
  },
  {
   "cell_type": "code",
   "execution_count": null,
   "metadata": {},
   "outputs": [],
   "source": []
  },
  {
   "cell_type": "code",
   "execution_count": null,
   "metadata": {},
   "outputs": [],
   "source": []
  }
 ],
 "metadata": {
  "kernelspec": {
   "display_name": "Python 3",
   "language": "python",
   "name": "python3"
  },
  "language_info": {
   "codemirror_mode": {
    "name": "ipython",
    "version": 3
   },
   "file_extension": ".py",
   "mimetype": "text/x-python",
   "name": "python",
   "nbconvert_exporter": "python",
   "pygments_lexer": "ipython3",
   "version": "3.7.3"
  }
 },
 "nbformat": 4,
 "nbformat_minor": 1
}
