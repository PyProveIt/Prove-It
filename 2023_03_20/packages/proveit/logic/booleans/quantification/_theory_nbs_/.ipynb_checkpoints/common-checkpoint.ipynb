{
 "cells": [
  {
   "cell_type": "markdown",
   "metadata": {},
   "source": [
    "Common expressions for the theory of <a class=\"ProveItLink\" href=\"theory.ipynb\">proveit.logic.booleans.quantification</a>\n",
    "========"
   ]
  },
  {
   "cell_type": "code",
   "execution_count": 1,
   "metadata": {},
   "outputs": [
    {
     "name": "stdout",
     "output_type": "stream",
     "text": [
      "Defining common sub-expressions for theory 'proveit.logic.booleans.quantification'\n",
      "Subsequent end-of-cell assignments will define common sub-expressions\n",
      "%end_common will finalize the definitions\n"
     ]
    }
   ],
   "source": [
    "import proveit\n",
    "# Prepare this notebook for defining the common expressions of a theory:\n",
    "%common_expressions_notebook # Keep this at the top following 'import proveit'.\n",
    "from proveit import k, A, B\n",
    "from proveit.core_expr_types import (\n",
    "    x_1_to_n, x_1_to_m, y_1_to_n, y_1_to_m, z_1_to_n, \n",
    "    P__x_1_to_n, P__y_1_to_n, P__x_1_to_m_y_1_to_n, \n",
    "    Q__x_1_to_n, Q__x_1_to_m, Q__y_1_to_n, Q__z_1_to_n, R__x_1_to_n, \n",
    "    R__y_1_to_m, R__z_1_to_n, R__x_1_to_m_y_1_to_n)\n",
    "from proveit.logic import TRUE, Implies, Not, Forall, Exists, NotExists, NotEquals\n",
    "from proveit.numbers import Natural, NaturalPos\n",
    "%begin common"
   ]
  },
  {
   "cell_type": "code",
   "execution_count": 2,
   "metadata": {},
   "outputs": [
    {
     "data": {
      "text/html": [
       "<strong id=\"general_forall_Px\">general_forall_Px:</strong> <a class=\"ProveItLink\" href=\"../__pv_it/common/5b2e15c8585001919db7a1e7b28c847ab8611e500/common_expr.ipynb\"><img src=\"data:image/png;base64,iVBORw0KGgoAAAANSUhEUgAAAQIAAAAWBAMAAADZUY9aAAAAMFBMVEX///+IiIgiIiIQEBB2dnbu\n",
       "7u5ERETMzMzc3NwyMjK6urpmZmaYmJiqqqpUVFQAAAB6qHgnAAAAAXRSTlMAQObYZgAAAAlwSFlz\n",
       "AAAOxAAADsQBlSsOGwAAAtlJREFUSMfFVU1oE0EU/pLuJpvfbgUvttpQKIJeUqnQg2BaPLZlC/Ug\n",
       "graIoF66pYIHqY1UCl7sXgQPQgLiTWUVtSoe4sGfWsSo9aRgLvUkUg/W6sH4ZmdnN5tthWURB2b2\n",
       "e2/em3x5780bIORQ/qM3H9tDeSdVoMbAx4COkYm1ryfvMZQphPsDHcAj9r0S1LHVAI5pBA6FDGFC\n",
       "wzmWjbGgjjMUvU808Tgkg7TJSECqBnXs1GmyBOTD1tFepCsUisB+E2wSi4wRlsFVYE9XV29gvzUg\n",
       "/o2+KYqD3LZyesjdahI3GB6LYWABOB6UAP26MsBSl6AIprBDvePuNYkbDI/FInAJSi0og8jvA4Nl\n",
       "BqJE4wVea18gL9p7XBwdXtnUm1vY4x0Q06RyUAaxVRu0kKuOh4Qmt9gqLprYPA7cQtwqKiY1eCG2\n",
       "Gg0MgB62vHV2mfgL8/rm/j0uvEbTeEJL24P2oq1rgO7wKmdEJ2RZQHIdBxsYWOLTvzGwLJaet5k2\n",
       "8aHLlNji54TdFBpgQ+K9yk6Rt5gK+VQ2jwI/inqLEDFA2H8NICzkl/vQR9IzmrNUiGmMx6FYd8KC\n",
       "N9u9tWEp3VESQKoh8+NwPlm1GMg/4YjxbuCowXVewC2UEQPfSXOXZtYK1zow3c2PJZiXV5vYrzfg\n",
       "+/VxcS1zkG+rH17Z4ezSHHGO4hFlB+5myTIFII1tkVWTrKHucm54np7qbgcW403tlimXbiz7wrrT\n",
       "QYxBRnMeflOhunnvs3c1LXrK1KHkbHFWMlIWg1EbxsoE5YJYLOWbsajvxCUPA8mR5s6cJTb+p9vV\n",
       "zCM6rSNVEW1qW/9Wi8FUlcMFBuN9mCqyhSuz+kV/ZxA35EKpHxhx9PvrdYq36qtEV3MLkUFi6t1n\n",
       "WeAVL2mqgHCUUXRc9x3pedibfjHib6bNihMeabK3iiTPZKmeE5DdX46OYLniO/N8qJcx4u886Y1g\n",
       "Gv9w/AHmu7uX+Q2bnwAAAABJRU5ErkJggg==\n",
       "\" style=\"display:inline;vertical-align:middle;\" /></a><br>"
      ],
      "text/plain": [
       "general_forall_Px: forall_{x_{1}, x_{2}, ..., x_{n}} P(x_{1}, x_{2}, ..., x_{n})"
      ]
     },
     "execution_count": 2,
     "metadata": {},
     "output_type": "execute_result"
    }
   ],
   "source": [
    "general_forall_Px = Forall(x_1_to_n, P__x_1_to_n)"
   ]
  },
  {
   "cell_type": "code",
   "execution_count": 3,
   "metadata": {},
   "outputs": [
    {
     "data": {
      "text/html": [
       "<strong id=\"general_forall_Py\">general_forall_Py:</strong> <a class=\"ProveItLink\" href=\"../__pv_it/common/0ffc5f0a14528e814855397bd785073f4fa0ce690/common_expr.ipynb\"><img src=\"data:image/png;base64,iVBORw0KGgoAAAANSUhEUgAAAPoAAAAWBAMAAAAbRJz3AAAAMFBMVEX///+IiIgiIiIQEBB2dnbu\n",
       "7u5ERETMzMzc3NwyMjK6urpmZmaYmJiqqqpUVFQAAAB6qHgnAAAAAXRSTlMAQObYZgAAAAlwSFlz\n",
       "AAAOxAAADsQBlSsOGwAAAy9JREFUSMetVk9IFGEU/+2f2Rlnd9YJRYiN2gQRjGCNxAikLboIKRNJ\n",
       "dDCzQ1AQannoEOVC6bH2EgQFGdIhKFwkiExqPSQkRIsWEXUYYbPrBpolwfa+b7/Z0Z0UxumDN/Nm\n",
       "3u/N7837M98A3lZq664KvC5fbuu+qg6YTPnqzq+u2Ld4z2DaBy+h7wAm2fmuS7/fQKiFzlLaC3uV\n",
       "geusAr3u3OQfgEaCcNYLeyTDAkDQZfV8KyRLpAS8dU0LIhR+lUuvUIGEIsBnb+z3gX319ftdelVT\n",
       "pYaoY/GMSh/Losc2HZ+CZG7iug7eCTwHzrlkJ+abe0XwQS2B97YpOY9IYRPXdfC3wC0opkv2Xfmj\n",
       "s1yhEK6F41hEt2h+OTeBaG9X57eNXEtwseapgEZw1CV7v6UcBIyAjmZ5W1wkFs0I6BlMbOTK4eUc\n",
       "0ujobpuOjXuZHeOGvAItbn3AljE0sIrbAxv5crhYYyTpaXLaiai49dCEoxJrzCy9S5bGiv8CvoTN\n",
       "Hk6jBm82YWfwyNSlGNPnSDruUKtWG4Mid/qynKh0sc183Fct7SxJH0ImZ5f4MJp0AzhCOXb2OwS8\n",
       "eywbYNvTDMkNetXhOdRhhDkop+O+3qex9a3AzfYXsrBmZPAK41nOfoZ1XthU/1B2GiCx8vBb7GBf\n",
       "MfjwdlQbpYFFlGUpjwV5jocbTUb1hFQxNWQu6+H+n7pQL5P0HH6d4uz+BvZ++dgv8PeoJ/FnIA57\n",
       "IAAcvsBLjibrkU1ohZ+z+0cDA6nK5JM5MvkuWZlLPy9vO0p1/1ia6DSUjEIBOVNfAhC8FS9lSrPV\n",
       "LGhUC4xdStITx6l8o+hiF+LAzFod4v/YJ4JpqU2wJ/mjT+QwcuWqgaCz45IowZUCGj+t3aO+zKQZ\n",
       "u9wGbeoC/wAO5uQDGEyxQ46bvyvO/fQ8/Ho0CaV9Sad+pRu7qUg4VCxSpzq7jgAcrpqoJeaRsiEV\n",
       "yvLMaziFiwgaBLQ3vhw3x32zjmSehDY9aY0C/08p96vu3BpJbDgLXayo/hhyTQfwCAtqGg+Kcahl\n",
       "KtVgZsnUjjn/zXQPf2Xlf0J1WnRUFk9qRU3t6trm/7z+Arp1zF9xSZEuAAAAAElFTkSuQmCC\n",
       "\" style=\"display:inline;vertical-align:middle;\" /></a><br>"
      ],
      "text/plain": [
       "general_forall_Py: forall_{y_{1}, y_{2}, ..., y_{n}} P(y_{1}, y_{2}, ..., y_{n})"
      ]
     },
     "execution_count": 3,
     "metadata": {},
     "output_type": "execute_result"
    }
   ],
   "source": [
    "general_forall_Py= Forall(y_1_to_n, P__y_1_to_n)"
   ]
  },
  {
   "cell_type": "code",
   "execution_count": 4,
   "metadata": {},
   "outputs": [
    {
     "data": {
      "text/html": [
       "<strong id=\"general_forall_Px_if_Qx\">general_forall_Px_if_Qx:</strong> <a class=\"ProveItLink\" href=\"../__pv_it/common/4e37f611a66237a7017b23c1a812db0e1604c50f0/common_expr.ipynb\"><img src=\"data:image/png;base64,iVBORw0KGgoAAAANSUhEUgAAAYMAAAAXBAMAAAAbyj7AAAAAMFBMVEX///+IiIgiIiIQEBB2dnbu\n",
       "7u5ERETMzMzc3NwyMjK6urpmZmaYmJiqqqpUVFQAAAB6qHgnAAAAAXRSTlMAQObYZgAAAAlwSFlz\n",
       "AAAOxAAADsQBlSsOGwAABCJJREFUWMPFVl2IE1cU/pLN7EwymewEbFFX1mVh6YMVUhEsxWIUfRBU\n",
       "ZsHqg+JmEUHtg9G1FCmtY5cKhdKGQsGHFld0HwTF+FNddZH4UCgVMcKKFYVGZC2FIquo3fpgPHfm\n",
       "3ps7ye5ijMYD98655+Y7Od/9OecCb1vct4h+PRIqNgQ/RK3ElDtND3zH0wfbfmXaaIOOCsAFphxo\n",
       "+uK35YDNDqDlGnT0E/AVfYxM0ynstYG/qJmFBh1dAaK0FJFi0ynMzVJLAy2NOmpxEKdliDb/Fu9g\n",
       "jWjcatRRlOJf0NW1sPkUngL6Q/qeodbTsX65cg605Nju1dOCVUCE8tE5YEud/28GRn/WkT+EQuEb\n",
       "y1gUP1PLh+6anar3DvvUtG5UQJzywfcwSnVSaOXfGclh8jFYBzIvuDxfvsrDzScHbvxJooCNIjf9\n",
       "jmvOv1i7ZmwqJxzgi5WieJzI4KtROOpiwMWmepBHhIdxrnxEOwKToteTYl2zOO+RnXInfIAYkCfL\n",
       "rvs2+xQs+k8z4xeWl758TqUsCAqUVWzujssH1J7hh+zUaciWaox2AbnL1CWH28VzQ1ErEjD6FNhf\n",
       "xMfRGZgMte8brr0C0ijS9940n5rPuhOu5igUYhP4BL9NR4EB4iM72wXz1VTgQu79KPeuqEoQAaNP\n",
       "4R8WUsrIBSZnJjK/1PxjxWjxyzBXnN0+YN3gPUR4LKxeb0+kwBgu84ZVokEANh4utNDCxVlZHqDb\n",
       "HEefDsPLTJ56vD14PzxjFQWWiqOlWEYFo9BqZ2PXqw4XM/IF5u+Ag2JqDRXpz07juE9B+5++/21I\n",
       "xWhF9G5viN6cb6+MfMA3s9BGFE3GNuG5nwC+7PbdkprSxqvoT9TchcXsQLhWKQhuc6ni9la/iMQ5\n",
       "030KZ8t93LAL2JC0Rop8F7ocaCft21dJ3e94Q4TZxs0D78LdEnAXh5lBrrWeMoBuqbp6qioLkPHK\n",
       "sVGVwqcYwvteUAoY/XAN6oJCxviFq+nKQZISlgfeo2DJo2PkDVcZSrkhtUW4SCfjazEciORML4q1\n",
       "XG0dhJamkddx4/VMWKUw8F3PHsrOnRWwljZSK1nu366AudF6l138kF2d4/MBChE5sf/zLxxlKCUt\n",
       "OY7jvZvAiKyIs5e+40XRX/RVqtn6x+h39Q+p48ZE9luVgnGpY4xWf2sFTIiTR5IOzKwCFsa/6eKj\n",
       "tSbXbRURrXxM9HqkfUm5rA7ldZZrECthRqHmkc3Ogp9aIg791JITvjGMOUOB6hzL91SqFQNzxIqQ\n",
       "CuZaZ+gPB+tqYgpaqjbJnvqJIq5lcE12Liwi5p++g2Xa1iFJ2DduwmghQMF4TnGbrgRzRLT8SAFz\n",
       "TStZq4DammHYDT0XZ07y/lBz4WRGlQJ+ZOlgxSQIVVWMdb2n3qgYNdXmJUV7E9G8AJskCiqNnI/Y\n",
       "AAAAAElFTkSuQmCC\n",
       "\" style=\"display:inline;vertical-align:middle;\" /></a><br>"
      ],
      "text/plain": [
       "general_forall_Px_if_Qx: forall_{x_{1}, x_{2}, ..., x_{n} | Q(x_{1}, x_{2}, ..., x_{n})} P(x_{1}, x_{2}, ..., x_{n})"
      ]
     },
     "execution_count": 4,
     "metadata": {},
     "output_type": "execute_result"
    }
   ],
   "source": [
    "general_forall_Px_if_Qx = Forall(x_1_to_n, P__x_1_to_n, conditions=[Q__x_1_to_n])"
   ]
  },
  {
   "cell_type": "code",
   "execution_count": 5,
   "metadata": {},
   "outputs": [
    {
     "data": {
      "text/html": [
       "<strong id=\"general_forall_Py_if_Qy\">general_forall_Py_if_Qy:</strong> <a class=\"ProveItLink\" href=\"../__pv_it/common/34d51f88855ae1e43a121a55143d842fa944ff630/common_expr.ipynb\"><img src=\"data:image/png;base64,iVBORw0KGgoAAAANSUhEUgAAAXgAAAAXBAMAAADzZkmuAAAAMFBMVEX///+IiIgiIiIQEBB2dnbu\n",
       "7u5ERETMzMzc3NwyMjK6urpmZmaYmJiqqqpUVFQAAAB6qHgnAAAAAXRSTlMAQObYZgAAAAlwSFlz\n",
       "AAAOxAAADsQBlSsOGwAABFpJREFUWMPFV11oHFUU/vZnMrOzO5spDQFJqWsgFKrCVloqYnEV+1Cw\n",
       "ZYKl+FDT9aFQf2i35kFEahdiA4LoIgiCgpHah0IlSxGsMdTNgwVbxG0ascU+TCCt+LZKarWI6zn3\n",
       "3tmZ2TExyer2wp07M+c7Z7659ztn7gB3tZXX7mrgLrdYfe2+pg24fHK9q5T7m4dvfuDw2VwnYTYA\n",
       "Uzy+390J/wPo2UajVukkSsrB6yyfYle5678AFnWka52EyVSZP5L17ir9NvVFOkl0FmcbMvT2qe6q\n",
       "pqdBnV4A1zqL8yHw0ODg1u6S7yWVHqdagc9I9gM1jPim4Wlo7jKuIfge4HPg4KqenQ5dXV25WrwT\n",
       "Iv7Gg2rqklYe3/mYwhVkGsvECMG/Ad6G4a5u1dXYt+4cZc3Eyh2rarx34cmL4oTe4Fg6h5vYr8qO\n",
       "Xj+LbHHvnhtLhZBw1a4QFyc5sRbyp8sYKweX/F/bJ2o84t14BHASNrbo63JKFdiChF3F2aVCCHhr\n",
       "Balo2avMV0neoueli/IzsfLC7JX5FnlMOvptEUx+Nm/heOkO3iktFUPAVTtJvTJDThuRVbc+dhGR\n",
       "UcDskef4JM9c0CEEQySeqsj6omdi4X+BWN4nn65gPb5ehjzDM9NHB/h8lvru9yjLe51RtXL2LT3f\n",
       "7uKbW+R/ZjZ5oxJ0CMEQiWdJ0cfueLbnqB9GjyvIayK2SzeAJ0gg0UoDBd9/spbgHd0F6mM0MSdm\n",
       "0Y9xdjCezcWKnw6E00CYw+S5vKZcsygdjIMezLwcVpIwq4WRY6oRqHU4j8maIH+Akzbtmn/S2gxB\n",
       "Y22JW3zwrxh+4h70OrLSIstrtIB5fVa8bbaQtfNaW70icxv5RzljypYrHY4NebAEDoRd2axqiSCf\n",
       "PvKbusbL1Ece/6osyMc5hLYw8DvELA5Sj/NSicP9UAABnxdyx2bvEZuxHXFBPj6RKJXblUPmzNS3\n",
       "hQD5F3EKDwg+7IAhD2agTTlsvnRmzpdNwCSkvUtmP76XiVGBUTXofaK6kQCCb8eXOq2plyjYZDaY\n",
       "vFagiJNEcAJ7+UId2Gz1IxcgP/bW8Ku0s+ApYwciL2HAC/B9VbzLxTiL3Y5urZIVbYciXxDMnq5j\n",
       "/JXXHCSjyVqAhBsNbPohuK378UKFyes7YE0/Lz67o3X9YYyW+VAX5p+MSoC8cX7jDfqZOQTpMAQP\n",
       "li4FfFW8bOlNdoz8Nx1C3M4WYOxatCmz6cZ9pDw81mxS8kcTlgACbrroI+LjLUO5pyZkY+EZvISk\n",
       "Q0B/q1kX5lzsohP8wprVYfHhYQchGwnbyduAlq+MF8eGU8C+CJ99sGamgruH661KYf/j9sKHi3lT\n",
       "WWWfhr5+N0jI82YFHzVzMFuiMx02a671VGh7YPxFjNNl4XB0a13BUs1fEfCV8UYwR1N1Lvofanew\n",
       "sW6tozkjkxE1nOlTgvSl6ZuD5PEuz9LOgEML5vv68Va1DfrfmhH9dKyoaf85k78BOTYpAg1MfVcA\n",
       "AAAASUVORK5CYII=\n",
       "\" style=\"display:inline;vertical-align:middle;\" /></a><br>"
      ],
      "text/plain": [
       "general_forall_Py_if_Qy: forall_{y_{1}, y_{2}, ..., y_{n} | Q(y_{1}, y_{2}, ..., y_{n})} P(y_{1}, y_{2}, ..., y_{n})"
      ]
     },
     "execution_count": 5,
     "metadata": {},
     "output_type": "execute_result"
    }
   ],
   "source": [
    "general_forall_Py_if_Qy = Forall(y_1_to_n, P__y_1_to_n, conditions=[Q__y_1_to_n])"
   ]
  },
  {
   "cell_type": "code",
   "execution_count": 6,
   "metadata": {},
   "outputs": [
    {
     "data": {
      "text/html": [
       "<strong id=\"general_nested_forall_Pxy_if_Qx\">general_nested_forall_Pxy_if_Qx:</strong> <a class=\"ProveItLink\" href=\"../__pv_it/common/bcf6e911fe04263899a75a6f8b2b61654d4e44510/common_expr.ipynb\"><img src=\"data:image/png;base64,iVBORw0KGgoAAAANSUhEUgAAA1sAAAAZBAMAAAA1ainMAAAAMFBMVEX///+IiIgiIiIQEBB2dnbu\n",
       "7u5ERETMzMzc3NwyMjK6urpmZmaYmJiqqqpUVFQAAAB6qHgnAAAAAXRSTlMAQObYZgAAAAlwSFlz\n",
       "AAAOxAAADsQBlSsOGwAAB0xJREFUaN7tWmtsFFUU/vYxu7M7u9stSEVKcC1pNBiTaiA0RHRRjEEp\n",
       "mUaCGhHKDwIaAwuN8sMgY3hEQkLXHyQkPljDIxpBVnxAmpIsJtTQYtxC+UEgutUKP0xINVQQTep9\n",
       "zOPuzLb7iGSXhJtM55xzz5lz5n5zzz33boGqtUjTQ7jbymiTmrJV9B64swZLq6p3mf4JZe7CVWJz\n",
       "ZavqPhjlcOUoc7k6cEXoLZypYZAaxtZd+UCl1GCVI5nO4eqm9N7qwKWk6E2r5Un1N+CbQ+5SssqB\n",
       "BFQG1zs0MXZUBy4/ndo7ahkt/x9k+pMLSrVzQCjN4KKoebPVgQt7yK2tplesG+S6TghP1UOZw+Ci\n",
       "1UZ1Fn3i9Sy5JWsZLt8IuQhkuFj1UD7kleFjTU2zqwWXp6lpZryW4aojy8QWWpR9Ta72GS8uFPKQ\n",
       "jS3QnBrtPZBy43CFHiAoLOFwHQdWVwsuJQGfWstwEai2PaJ/20i7hpSY1WdjCzSnRvw8QiPjcAWa\n",
       "qHCGw7Ubcq7s10iLTLis2i4qwEU87y7PsVK543KWLIO4f3hhHyMIZiEtNBqxKg4bW6g6cGj4s8cQ\n",
       "6SjMFSp0RIXzHC6f6k2V/T76M1wLGsmI9VU24HTFXI3nylxM+O3QP88Pl+u4ks9xvSGYRwYPCl1n\n",
       "l+uLLWelhdfGTQ+6gdAkPApPVDojckuX/DbeA7iCMdE5XOFoBZUGhyu4F3JrkfTr3J/HBbgGyq00\n",
       "dLhcMQTSUu62wXXA2naZcIENnb/eTG+UVTBRQjTH2nz5UWxJbJgkcmkcG3+sqIJO79cPoZKnKoXr\n",
       "HLm+5ZvdMtoeAa5AKFoRXJE0fEklddvgCvAp479uCNgCdlSTVIRNeChbl5JvjP8YZpCXWpKYzMfN\n",
       "5G6hKzFuJmLqMAabwdVGx6/+RKOxEAik1WxCBhcL9Ee4ycfe+O4JlGreJsDlvUhe55Mc9HkSnMEP\n",
       "pvI/MVGow+XJYn/CXULcYmRFPVnd+k7UdcvoWgUsS/0KLxhcEgw2pNJRUAvkMVOjZ8MMV2+CSeDL\n",
       "YR2HSzW40xQuyQmVqdD/fT3Nzb06XFtJiC7tSkAvOQVSeGubkMEVoYnsaewEpkY6PkKp5pcEuOQn\n",
       "yJtFR/0teuFap3Y6q1lRqMPVNb0xQx0Xi1uMrKgnoTvMF6+AWbeRMvrnN7/CEQ7XyqTJwhuDRHMm\n",
       "lZmEoLF8f8aTc+W4WMkF/2VwMU3O4SmbMSNMBanvcbTyrQSDK0LmYgir/JBZQc/II435iYYJ7XB5\n",
       "6Cr0MQ4BGV80gR1qaeaHBLhwlUD2aszVwX1vP4eG4EB3/ihSoR2u77AsTh9ULG4emdGKeGLd+uRj\n",
       "d2X9X0au3gi8Uh/uyXK43M0mi43ktZvI5aYIPwydsDS234e6hBJnEkjDjTf57KImnPM3c3XLmBKm\n",
       "gtyexCjhZ+X9gELsNjebZItk3w/cdK5dHmLtv4mf6HZSg/+cWpr5WyJcbJbGI1Hd9zCGPFhpsyVC\n",
       "O1y/IzzCHBeNu05MkEU80W69qLPX124TdLZ2XbAwpuiHndnQ0hhCJ9xZQ+JNcri4CeXYZ37B8QBT\n",
       "IRINkjkvx0S4/C0y0GySmpEVxP7+y/1HnhXg8qWDqjvDhr8TGtxqaeaX7HC5U56E7nsW5sqwZyki\n",
       "DHX/EBfhmg9vC3NcLG4aWejk2e7BRAmeaHf/4UErGeafsApwWUcxu/Ae6JLm2OGa1FySHLr8XLII\n",
       "L2Q5XF6Dk9OyJqobzVTwJJR0gp0xm3Bt9SYV9tpLddKXIqQUN/4w4UCHJzUolhqtp+8lu3035JZF\n",
       "ZKdC4SrFvN4BV+Ko7hsPBsnseB15xlQYbkBMgEseRST2qbtw3JalFGeREeN54TgVTeRJ7x7ooBWM\n",
       "y1GwrhXhksxuec2mb8hK6Cw1LI0RMr96FS55gMxqDle7we3Y9LYqqFtLtqHQBffmBPvhwoRLmbZg\n",
       "CnuRziwnj1PS34pOjf7hQl/iZZwUC/ldQ9dUDT4NXx6oVxlcpZivtcMV7nlN941LvUl6MpVnzIRX\n",
       "5aQAV8N11f9+lDguFLd/vm6pEYpFtkZKKlkqn8iT3h1J7KRuHDXmMmP0F12PWqce8IyNjQgnNc5z\n",
       "EQRz2IvdU7jkMl1bt+1bwE0Y9+TYmKied/rDFL6AazEfNduP/zRN8OLKq0YNEqbQjUHEMuKpBj4n\n",
       "n4Wx72XJsLi51GGH6yW8ofuWNF8Gz7iQZ8yEMVefKiTD/A23Le6wlf/5LRaOu0OUm9AT73Zj+kEL\n",
       "HKEOKXOD+H8fi2kOuDbMziLIF6B9YzGDpOPCqRWYhiEtD66uX0gX39j4J7ehFHNFs8M1FEzqviPR\n",
       "zxAY+xN5xlQo5cKLYYdLd2yPGwdNBU5JOVcqMpVyE3ri3SswmDGfXGPN+a81oUJkaLwzQwRmsU+6\n",
       "HPM+2OE6fI+hFzwVdxqbQgdchR0jU4Di3ISerG6EUncIXCU2zbEBL7mZyoFK/s9QrtxxGU2qSbQm\n",
       "zcz8B6SQcM4zhzWkAAAAAElFTkSuQmCC\n",
       "\" style=\"display:inline;vertical-align:middle;\" /></a><br>"
      ],
      "text/plain": [
       "general_nested_forall_Pxy_if_Qx: forall_{x_{1}, x_{2}, ..., x_{m} | Q(x_{1}, x_{2}, ..., x_{m})} [forall_{y_{1}, y_{2}, ..., y_{n} | R(x_{1}, x_{2}, ..., x_{m},y_{1}, y_{2}, ..., y_{n})} P(x_{1}, x_{2}, ..., x_{m},y_{1}, y_{2}, ..., y_{n})]"
      ]
     },
     "execution_count": 6,
     "metadata": {},
     "output_type": "execute_result"
    }
   ],
   "source": [
    "general_nested_forall_Pxy_if_Qx = Forall(x_1_to_m, \n",
    "                                         Forall(y_1_to_n, P__x_1_to_m_y_1_to_n,\n",
    "                                                conditions=R__x_1_to_m_y_1_to_n),\n",
    "                                         conditions=Q__x_1_to_m)"
   ]
  },
  {
   "cell_type": "code",
   "execution_count": 7,
   "metadata": {},
   "outputs": [
    {
     "data": {
      "text/html": [
       "<strong id=\"general_bundled_forall_Pxy_if_Qx\">general_bundled_forall_Pxy_if_Qx:</strong> <a class=\"ProveItLink\" href=\"../__pv_it/common/912bfa96818750d667efbd1eb97d22447b571e5d0/common_expr.ipynb\"><img src=\"data:image/png;base64,iVBORw0KGgoAAAANSUhEUgAAAywAAAAYBAMAAADqo2SIAAAAMFBMVEX///+IiIgiIiIQEBB2dnbu\n",
       "7u5ERETMzMzc3NwyMjK6urpmZmaYmJiqqqpUVFQAAAB6qHgnAAAAAXRSTlMAQObYZgAAAAlwSFlz\n",
       "AAAOxAAADsQBlSsOGwAABtNJREFUaN7tWWtsFFUU/vYxO7OP2U4DotKKtUlDgiFZDAR+iC6KMcRA\n",
       "hogoAUv9QVBiYLEqPwwyBCESErv+MCERtYZHNIpd8EHBqosJqG0MC9T4A6JbLfzRkGpaW9Gknnvv\n",
       "PPdRuiS1JOxNduacM9+595t77rmPWaBaiopyUzd/w5Y7Jrf5iAbkmXCxGgpg2ujGy2/qJKjJSWZS\n",
       "D5xg973VoFD5GwjNo/uqySYS1vEym8xaqjEB5D8oUeiHrslmEsuwyCCYqwYF8A3Tb5CExKRTmYdY\n",
       "lpKmGhMqoQH6UWjU9KRT2Qfc09g4txoTKjU0lW+jTVCUrfjLZzy+2DWHFKjFRaq99PxSr6Uui2ZX\n",
       "DV2Q8mNV4IYvA44B66oxAQ/JK7PZgkvzBzK+vmiD86xALS5RzNCOeixBNYEzjpo8j9jAGBV44N8B\n",
       "r0HJT+TbZtyKalTiql2/ayVrinm/s39xN7v7KS1iRmwonnXWYK9aonyLM/rvHstWiuNlZz+RO4r4\n",
       "WDsrD/w8Tad6sH0iw2Jy8S2qo37trsg1Km6H/nmkv1LX6xg4m0w1QN0hI8pWmDXmMiNUafEVvVwd\n",
       "KRwvsOgBDXPsGiSSA9qKZZfKVSDgVuLSKNQmdsUXYYnshbJg7Nm1xHFXnOt8DQhnpIlL6QP2scUO\n",
       "C10pVeVae+JiahRjTWRzCg0dujzs1BAZwrZUBkfL+jO4Je+nX/rk/xCWc/T7DNEK8/INfo1nEEpH\n",
       "Jy6lwzwH5EFT9fO1vcOQdKh2GJha064Mlx9CI3jMazkOX8KpgdJtCq6iLVWuAg43C+utpezlazvr\n",
       "rLnbJTrFY4zMQNwU382jeBh7jDws/H3OwE9Dv257J8bbktjbBHLYn/JXStLFwsW31GNxbPNdtTbK\n",
       "lBgr239FELxTJVhqTKfXkErMPwTaEE8giZ5vavP164UPNiKUF2FhYSd5I06xsBRPhDY81rW5jsmn\n",
       "6beD2PmMy2FzA+gSXcuix7i8Rm81K9SG5KLTl9fIwxJnU+yD2A3cFm95C+Nt6QK/ttXT5nF3pSRd\n",
       "LBy+JUmqfHEJW/ukIPXHzy98jMMiLGvTtopgA1clNt/xi6Wpw6sTkZzUfS/uwwxhxpfoyIrAMmQ0\n",
       "H/mXbg+UcHbga/ZnA2xgfcK6jPIqhqdkKHyjzMXDdd45gxvtsvMcpmEXi7ryZIOvpRDMjd6wBNgq\n",
       "8TYOAdmQlhK+42jpEL9+jZVJJlZGkrMQaMY3cvZEOZIRdo9u+svc+MnUk6tr1a6cCIu/yVbxnM5V\n",
       "3A3z4mcRbdQhHdEufA9leRrDrE85qHnRV4bIlkaWT/11I1R3k9AcZy5Y8J23o4Y9nWXTJJ+tTbaY\n",
       "kAr32CNupR998jnetfFkXCsCM2NBWGh3KY/gJ3ZqM2D6XrulF/n1N6gD3LUykoyFiSa+AawtR1Iu\n",
       "2LjOdDblrFN/cEK5zqPaKHtaimuUgbNt0BKzBgEIUk6w8agWz2I2vI+v9oq9pMkJBWiyRaNwamLG\n",
       "nos9hx/m2izMh5/X7m8PpIrAzNjzYa8rLKFMRPdneTe3wjB9r92SmMQWIpjgrpWRZCxMNPFV0FqO\n",
       "pJrxPunxhiVpq3vwqlu1T4K2FEhRgg6kOCiYlhaaNQR5nz+ag5JRDBfcOWta8Pn4nBI+ah2RdgTT\n",
       "Uf7GK0wx1E6ilLQu3Hi2JdDeyyCYGRlgXUuP/KkODnagpvFsi9+95C84des+6gooiSV0TmBhGUdL\n",
       "qGU2ZQjxhvf8pUk6jl5Xi1qTzRcbypH0aQUfxwx3WCT7qbJ+y6cu1VlqbamN8iXWkuEgvxZPmmFh\n",
       "gLsoZbFry0u6C+6scyZcGcDMHwlmH9ymL7qFv0NrTojHmCgvQKvBLsIYSq3CF8yOC6fTrGvlhVC7\n",
       "nuFgEgXUMI3x1G73BnlP3xXdYC985ECtzsMyjpbwNKt32qAuv66RaymSTrteV4tak803mipHMlSw\n",
       "p5OsSU1ZMqjZHwEoF0ZHB1xqiY8RHyFsKH06B6knT5g1cMBFthDePzpa8O3C/s7A4ZE8pmbZa3sK\n",
       "y3ixlQnqmiXCNvrRiwbyyklGKMu7VsUTeFaAVSfzudGP+oPuUz4+oDFhng/FJHbtllj/qN6jZRFJ\n",
       "tQxJwUKgOd+HfOVIrizspu2T/A+Dd5hsnptDRMz674w2WCLrEiE1Yzr6DNLi2vuQp9Ch4iD6ImkO\n",
       "xkG7GmFsRm/WE5a2X6gWcWThvuNoKWq46u0sSdJ57nU1WQg04xse/bMcyc4b/zNqrJQYK4BETppD\n",
       "N4sPp8ISgSKjOyzhWXyAV9JSt7ve0q7Oc6+ri4WHbwmSsXbchMUoPBGPv+jX71pBkW7ATvsPqYRJ\n",
       "lyp1eOIAAAAASUVORK5CYII=\n",
       "\" style=\"display:inline;vertical-align:middle;\" /></a><br>"
      ],
      "text/plain": [
       "general_bundled_forall_Pxy_if_Qx: forall_{x_{1}, x_{2}, ..., x_{m}, y_{1}, y_{2}, ..., y_{n} | Q(x_{1}, x_{2}, ..., x_{m}), R(x_{1}, x_{2}, ..., x_{m},y_{1}, y_{2}, ..., y_{n})} P(x_{1}, x_{2}, ..., x_{m},y_{1}, y_{2}, ..., y_{n})"
      ]
     },
     "execution_count": 7,
     "metadata": {},
     "output_type": "execute_result"
    }
   ],
   "source": [
    "general_bundled_forall_Pxy_if_Qx = Forall((x_1_to_m, y_1_to_n), \n",
    "                                          P__x_1_to_m_y_1_to_n,\n",
    "                                          conditions=[Q__x_1_to_m, R__x_1_to_m_y_1_to_n])"
   ]
  },
  {
   "cell_type": "code",
   "execution_count": 8,
   "metadata": {},
   "outputs": [
    {
     "data": {
      "text/html": [
       "<strong id=\"general_forall__Py_not_T\">general_forall__Py_not_T:</strong> <a class=\"ProveItLink\" href=\"../__pv_it/common/72f056882b13a6da2c6b7e84c192b28f524d86000/common_expr.ipynb\"><img src=\"data:image/png;base64,iVBORw0KGgoAAAANSUhEUgAAATkAAAAWCAMAAACMshuUAAAAPFBMVEX///8NDQ0WFhYLCwsYGBiI\n",
       "iIgiIiIQEBB2dnbu7u5ERETMzMzc3NwyMjK6urpmZmaYmJiqqqpUVFQAAACZSrTsAAAAAXRSTlMA\n",
       "QObYZgAAAAlwSFlzAAAOxAAADsQBlSsOGwAAA5FJREFUWMPdWFey6yoQ5AYyIu5/r48gMsLyqZL9\n",
       "6vIhy9MMGnoCAYCPNvFD7Esm/X8sheZn2JNNwrVc0Rcqtvw3+mkjDTlJYs4xa9nRWJexL7hzOW/O\n",
       "GhJR02xWUTLjx9NBSI/y6tIrw3TGPt6OVXQxPvkd9io8B51gT1uoinO5S1YYByfs802rRchZsGMu\n",
       "qmTGyeN1BtcEcfz8JRP2hYbnoGNiy1xU0ae3H08XU7/AXP7lE/aNdJ0CXlqwZy6q4Fj48OMVWtUv\n",
       "ONYlbcEojFlL7bJM7sBbdfZqADJJVjW/Yy6qqOh3Rj/n2cSYIMgMGAEmpK12K/0teKddDqCPYRX9\n",
       "+yevolfMRRVh8+PZVnmCzhJCtBwxbrzpYafkQ5LqIYEbkBJi7duebkcfOME3Qq5nLqmEcCPy+Tos\n",
       "xzI3Yt4OHMzzDw4hGnKtgipGx9vJWgcYOR3skQq8Yi6pBNEHKnRlzh1XmHRhoxTXDTNRU0DnewvH\n",
       "3z8u1NF7Ob4Rcj1zp8oBNDyPFbY7VlwL14eSbceSrdyRK0wFTmG0amaugJr+jLk6gNI+qEtk1U/F\n",
       "Ovf7Vz0tXGYrOrdyaVNHIfBe4XhYkRbC9dK178hgKXPyCmM2P8p0aj1rQG8z6sF9mvYDUC2xX5Jw\n",
       "Di3NXp8pxhUiqQiczBE0mAtZOFAU7SKUBqpdNazaF0tb9uHhLjFlQ07phjlaU7sBAUe0BeeXlSgP\n",
       "ICgMIkfn/VL4sAKvmcsqNke+9QLr67NBDe+nEAcjts49O16tbYkKFY77cI35vRaByok25lAxpQGz\n",
       "ZwuI8nTLSyPKneoAwcpa3ZC8EXJAtvtlNMZQEOBAY8vcKfRffJGzZ0etpF5dfaBNZWowcvTFx7Qz\n",
       "SaDwpAgxgZenFzoOEOaoFEgfFWh1obO/oUOLCcgYV4k5SjohYDILV4/c0YSMRfdO1j0WpkWx6Zkj\n",
       "zZwTKBjnPN1Q3Tr5kGkAF601fHHbcNzxxXxBYZRmR2WOx+8UYTptRCHHon+0HX3yi9U2h23usSKG\n",
       "YEr5cMA4HIHnwnN6tYDYhdaBL5auYYB4LIVELy6J9K2Qm4o59eYzDZpsNY2QUACzcM6IpmNYKLSc\n",
       "fUc3F1kRM3pehGC9ed2A26vLzQCTP9GdkJtDwBdOGYKFQ5wuncL0s/DwfkZZOJXPpmM4UhuyunAT\n",
       "m5mKWyw8cCXcs8DfV0nLB+yDVV8Jpzq16vhPt/8Az/wsjCRha80AAAAASUVORK5CYII=\n",
       "\" style=\"display:inline;vertical-align:middle;\" /></a><br>"
      ],
      "text/plain": [
       "general_forall__Py_not_T: forall_{y_{1}, y_{2}, ..., y_{n}} (P(y_{1}, y_{2}, ..., y_{n}) != TRUE)"
      ]
     },
     "execution_count": 8,
     "metadata": {},
     "output_type": "execute_result"
    }
   ],
   "source": [
    "general_forall__Py_not_T = Forall(y_1_to_n, NotEquals(P__y_1_to_n, TRUE))"
   ]
  },
  {
   "cell_type": "code",
   "execution_count": 9,
   "metadata": {},
   "outputs": [
    {
     "data": {
      "text/html": [
       "<strong id=\"general_forall__Py_not_T__st_Qy\">general_forall__Py_not_T__st_Qy:</strong> <a class=\"ProveItLink\" href=\"../__pv_it/common/053913af2b0772124d1853e6d0c1d7b5492e052f0/common_expr.ipynb\"><img src=\"data:image/png;base64,iVBORw0KGgoAAAANSUhEUgAAAbcAAAAXCAMAAAC/IvGDAAAAPFBMVEX///8NDQ0WFhYLCwsYGBiI\n",
       "iIgiIiIQEBB2dnbu7u5ERETMzMzc3NwyMjK6urpmZmaYmJiqqqpUVFQAAACZSrTsAAAAAXRSTlMA\n",
       "QObYZgAAAAlwSFlzAAAOxAAADsQBlSsOGwAABHdJREFUaN7tWdl2wygM9SzsO/z/vw672eyQtmnm\n",
       "ZIYHN5UAYV1JSPJx/IcG/yLvTUf6d530fQOYr/FeOSRY0xV5sMTW/43+bNgMzhBR56i1VDS6Kbw3\n",
       "GNNS64w2EMJm2LJEycIXn+2ARNSfLv2kiMy8Xx9i5VmUTVYH+iWsOBynn+1uqho2c0kHxoGJ9/tD\n",
       "q4W72eMOt7ik4I3NZ+OGztDkWP6LJ947DjY7HOW3uMUlOtua+GzYzPl+1JW/bOK9I1BOzi7tcY9b\n",
       "XILihYfwZ+OmzvdztAuXlUdAjJfELq/HO+bW/Xq1AZ4oq0yjwy0uUdHqKHml0m784BXZELiz6oQX\n",
       "x9AMPHyYEDC1W215y9wZlxtoMWSOf/9VMscr3OISbsvjZWNIeQAGQCW8tPwlQzlRAs5ijFvBiceM\n",
       "V1yojPxpiR5CZ8MkGFv7tJW3uw+IoA1363FLS4KrYflruMl4Lo74t8LOg3J2ivpIjtfbyPNaQEE5\n",
       "/sEAgEOUO5kqesbTYfLcYER0OI9cRqcOt7QkkF57M7e4mfzKinbV46urohM3J64wlS4URjFbMRMw\n",
       "len8bO7Y87Z07t7T0Ya79bjlJeLQILdQbNdCuSauGzBXExvc6hvHQA9/QOxy5lTV1DjJHL6KoSog\n",
       "CtCxxK0yNfkabucGSnuHVqMh5/vtzz/OzshlnIT5JZN5EnB4m2BoyIMWxHXCdDmxwc0Wa8d+Ihff\n",
       "F7ueacZgQ0G93iYfLzxqy6Mq83TbhukPD3vmfYDsNyBaIp8IoeJWmj7un4x5SVrCUToOJ+G4gIbm\n",
       "SV1didKA27B2rr7DrdYbwsuU9Pti13Ilvcq2xZwRFp4KR3K6wY2cQbVhHgySljn/WJHKBpyAQHJk\n",
       "rlBWBrfCrSyxxeutJ1h/LxvYoJ6JKBzi1rTyxHvcdAlX3t6M/QmxK7lsxI3BfKs6R8Ga57MkDJTj\n",
       "rb/BeqKGWcyrMmFRdv3RkMqkc4Nw1vNWg3LD3Q7ZVudwNORAQAHEVoGZ6CU+CFt5olZS9w32RonU\n",
       "v4/0m0PdaPd7YldyZ7OFNzdSw8Oiv3RMq8fE5H5vzifmZYVKxg3Cqyp1JKG8u0m3PkxwuHgBGY07\n",
       "KZDgjnhQWYirR5loQsyCV3kJ4poAlktduC/2ObkA7PRve15QKkGmxw03Gk9MThlj6RvQVo8JTxvE\n",
       "jIyZhFvf0xY7ljC3wY3SVJwKZFFOJabOSiQyxPtHO9GHXS6u6gCuLAh1K28aqDtin5O76MzSm85M\n",
       "5EGQQm5opgiHQU56smlVJnJhdMwHadOwQWw/ApyU33+G0VvuNqUQxB+f6qMJWKYhYpIbSKsvB+3E\n",
       "kCZoSS77JaG0TK+T6uNNsU/IJYvsiNx8qIo8o+cMqCJzy9zpua02mKwJ7rjbbID+wpTBYBlAqQAK\n",
       "SihE4a0MFuJ0bTYTQxPEYH3d5/KRwuYTKr4t9hm5auVb/EbPfAuDF3RS+4Oy55ekpAX0jqqviNMN\n",
       "sZp4idshakbkvWlT7BNytTz+Hz8w+E5d+oODfLxG/wGxZD3Enrl15AAAAABJRU5ErkJggg==\n",
       "\" style=\"display:inline;vertical-align:middle;\" /></a><br>"
      ],
      "text/plain": [
       "general_forall__Py_not_T__st_Qy: forall_{y_{1}, y_{2}, ..., y_{n} | Q(y_{1}, y_{2}, ..., y_{n})} (P(y_{1}, y_{2}, ..., y_{n}) != TRUE)"
      ]
     },
     "execution_count": 9,
     "metadata": {},
     "output_type": "execute_result"
    }
   ],
   "source": [
    "general_forall__Py_not_T__st_Qy = Forall(y_1_to_n, NotEquals(P__y_1_to_n, TRUE),\n",
    "                                        conditions = [Q__y_1_to_n])"
   ]
  },
  {
   "cell_type": "code",
   "execution_count": 10,
   "metadata": {},
   "outputs": [
    {
     "data": {
      "text/html": [
       "<strong id=\"general_forall_st_Qx__Px_implies_Rx\">general_forall_st_Qx__Px_implies_Rx:</strong> <a class=\"ProveItLink\" href=\"../__pv_it/common/cc60a283b1908da18d7b0b6819909039df3bd0eb0/common_expr.ipynb\"><img src=\"data:image/png;base64,iVBORw0KGgoAAAANSUhEUgAAAlMAAAAYBAMAAAAsb2VdAAAAMFBMVEX///+IiIgiIiIQEBB2dnbu\n",
       "7u5ERETMzMzc3NwyMjK6urpmZmaYmJiqqqpUVFQAAAB6qHgnAAAAAXRSTlMAQObYZgAAAAlwSFlz\n",
       "AAAOxAAADsQBlSsOGwAABYBJREFUWMPlWF1oHFUUPvszO7O7M5tdsbWa0oaFICjiVioGQbrRPFho\n",
       "wwi1PrTU9CEafDBJo/ZBrGNbi6FgAyIU/EmkrS9auo0/SWvAFSxoSukaUkQU3aiNL1ISiPmp0PXe\n",
       "O/d3d5Lsdpct6oE7e74793xn7pl7zr2zALdKnBVQdVyV31/d2oFbJ77c8qhi+aASXzfFjlseg5/q\n",
       "H6pJ1NYWnp9+x2aomrhnvTq756efydWIHbfzGByve6S0AXxdAgg9yFEV8rZXZ0MHGDdqxY7aAfRj\n",
       "dNQ9VFG8DvRZAGuWoWrkolfnq3GAbqdG7KiFUQIEc3UPVYCs7AXU5hiqis7maoirG3sABp0asaNm\n",
       "opCH61+qfiCzmkFtgaFqJCwWjs5TZBCB+Vqx4/ZAMrm5/qH6lBYTkiUEPbHhqTZpdRdBD5FHBPOi\n",
       "/2umoDAdzFN2LXH1he1SqVRhGey4jQB01j9U79Jicvg+hjK+qWiTGFAEPUQeYZLKPZzEcn/G7YvM\n",
       "J9pHGHsUNsSHpVKpwjLYcXsTjHylNVkGVgWnMx/XSIQ2/t42zpDpmH/FRBoVQQ9RRlgpObnd1RBc\n",
       "hD2dzNc3cNn+UwwpgmWw4xayg0MVhipEJ97aiMI0XollhikP40u3hHSI4pWxm27sLtTartnLUVED\n",
       "Cmbkg8hbZEJhNLk55qsHzuE739IhLtzRfrVsdtyseMVV3Q1V5DgYLaBVtCRPKqFaUlAAVS09wZMO\n",
       "wyislIR4BJWIvKr6H3ePVXnQbnB22IRa72180Cby4obLZiceBr66uVBNoPY5RCtakmFbSkB9TknH\n",
       "M45mg8VDg2HDkLGwPBkxoCnSJGpVkh6oz2TB+puzRxbhSfeZgcPrcKynXHbiYTs+jCZGG1nNkVQh\n",
       "SicJFZnEZfCXYexrfG2U7iVsU9mLu6+DQDuHfoOg+0QaMGjayItWOg1bjBjrbcSlRTpEf0h/v7Qh\n",
       "OItSDbNrz8VSkHZDZXN4AYeqNMM1L3bi4RBKIZ8zHaazkFRpskonCVUM5/Jj0L+6MayLdbxH3w8r\n",
       "Vu14ifECg9AvL34Cp91QPT3AIQSbCCQXbUlW3BG7T2QD+ECe5s4MWmOMLejQOBvJEXZrYVcKqxOu\n",
       "MYPwqCBVXZSwEw8xFHgT9upgkP2CqKcb1bwinWqoAtj2ffwOVzOGbChOF3qEvf19yHn3fFygXQlr\n",
       "LOeGyt/MIeyzCQQ/jvG9TEnabMTrd0IDAn7hMURdtbVtAzi33mXXzsZ/vESLBjJmUG92uQipcNHs\n",
       "wS55WAR4pZmrKW2maGUsFteqANpK9UX4uRzjBqf4KO1XioRApCRcEUukU4F8lMiaKTiBrgfFPaNk\n",
       "tORrQjU+YiuQyRUPduFBTyEXzVx19FTR5ok6L348KYUqlInY/iy8VIYx9IFjnr+UlhLQzCiLNqOE\n",
       "SmTTUXhDhkyCQn0IvkDrfWzFM1JGCZUwNjKGI3MxSXuwcw+HggNRMtsdVA0NIVVLswvp/K7DL5f1\n",
       "lgt3oHOw39tYmGppI7UVMtZaQFHw8R24S3m4LjlUGh9kPLv/MwmKrw4x2xm4+/vV/hrpUkIljI/s\n",
       "f9mWIC/r8VJ24SF6V+saMtu+nKuOYFVvgT4HX9zOWE+/fFg4OnXNdiDkeBrrj1BTB2lnTyZs+APX\n",
       "2xDfHncqT8eQsXUuLp3pA4XCjAS5SEeePNyelWg9hfs6PNgqG28pFGRY+k0h2Is94ByiHwV2nKnA\n",
       "O/2w/pR8WoePUPwjaW9jSxQW96fJN25LATKURzTiVX1Rrlv5dg3Yizz0bs5BxC1yg4UmpuLgutoe\n",
       "mMwqoTr2K7ox6mkMpzitq2l5axsf/J8Q00s1vb8BIXwPWUOe47IeGphD8D8To+ToXO4/6v/mWf8D\n",
       "bP+yhnl3VnEAAAAASUVORK5CYII=\n",
       "\" style=\"display:inline;vertical-align:middle;\" /></a><br>"
      ],
      "text/plain": [
       "general_forall_st_Qx__Px_implies_Rx: forall_{x_{1}, x_{2}, ..., x_{n} | Q(x_{1}, x_{2}, ..., x_{n})} (P(x_{1}, x_{2}, ..., x_{n}) => R(x_{1}, x_{2}, ..., x_{n}))"
      ]
     },
     "execution_count": 10,
     "metadata": {},
     "output_type": "execute_result"
    }
   ],
   "source": [
    "general_forall_st_Qx__Px_implies_Rx = Forall(x_1_to_n, Implies(P__x_1_to_n, R__x_1_to_n),\n",
    "                                             conditions=[Q__x_1_to_n])"
   ]
  },
  {
   "cell_type": "code",
   "execution_count": 11,
   "metadata": {},
   "outputs": [
    {
     "data": {
      "text/html": [
       "<strong id=\"general_exists_Px\">general_exists_Px:</strong> <a class=\"ProveItLink\" href=\"../__pv_it/common/46024856e86567c2809f78e878e4b8a37cd160490/common_expr.ipynb\"><img src=\"data:image/png;base64,iVBORw0KGgoAAAANSUhEUgAAAQEAAAAWBAMAAAAyZjRZAAAAMFBMVEX////u7u52dnbMzMyYmJgy\n",
       "MjJERERUVFTc3NyqqqqIiIi6uroQEBAiIiJmZmYAAABr+PKJAAAAAXRSTlMAQObYZgAAAAlwSFlz\n",
       "AAAOxAAADsQBlSsOGwAAArVJREFUSMfFVk1oE0EU/ja7prvbZLNo6aEHG4NFvFW8SYt7lYJE8OJF\n",
       "Ih4UPTQoKBQP0YOIoFTFi1AMgrUNUqM3pWDFi8VLxZOHSJQcxKrElHpQJL7Z2dmfbBrI7sEHs/u9\n",
       "N/Nmvn3z3swCMaX0H71t0Wdjub+g9r1Wq73t13G+ferCcZOh2zE/wOLvxb49N4HkK3pL+ZgxPBKR\n",
       "gfwb0KjBsGIyOByRgb5BrUUgFTePUmY0BskmNWKBu3EZbLOiMcgUgINlAp+pjTzakfNVRIfaRfwj\n",
       "EsVoDGj1Kx8YOEqtrs8Ya15fh9pF/COUPOaoGlf7ZfDkXG7KBkRDKSk/BywMOVXBVSl30dzK2XHg\n",
       "oq1Ei8G0AHSSyDBocbnifBVXDWwdBz5CKM1oDDZ9DCifWUZo7opMzVTVjR4FUHbhoIiBvnT9i6g0\n",
       "D/rKL2CUWwLZyfCyJJk+BkxVzF4M7BGNA0se8UUsDBSOOd0+6EnQqP8R6AwwXL2EBJ9KgqsiQXo4\n",
       "FUx3xNCylaJ7SSk4DKxkeRxXbQ8GB++tBz3tfq+ImwLtAe7v+4bnnMFo3lUxaUJim8VsQcBHXH6I\n",
       "DK1nZMXNlClBnuOcCaYw2nkC+O5RY/qX2MhJYGdFa8xyBul3rqqeoN4aTZiuE/gIBzCLM2IGy8xa\n",
       "FbNO0FWdNgVU6REUMirrh7KdUU27kbE39JbbcRPXyBbaBp/lNX7IwA1HU1fGUGcMpCyHOEsQ28XD\n",
       "NmrzCFWYUg8wcBmqJ/d/gp0PQfEsahPv7wANoX99VjEZA3mVQ2OcwYmS/IY9HON5NXwXnxYTjrXK\n",
       "kNwqS7XblCsj4QPZK8MiHlhQC8GQUog0DnfpLoSL1vSpUFiHAzXb0VkOMei0JAO/afLjvcBTnuzt\n",
       "vwIy4UgqartDU6rlWFfjQthkdYNxf0N6yj+P4cmSFQVXWwAAAABJRU5ErkJggg==\n",
       "\" style=\"display:inline;vertical-align:middle;\" /></a><br>"
      ],
      "text/plain": [
       "general_exists_Px: exists_{x_{1}, x_{2}, ..., x_{n}} P(x_{1}, x_{2}, ..., x_{n})"
      ]
     },
     "execution_count": 11,
     "metadata": {},
     "output_type": "execute_result"
    }
   ],
   "source": [
    "general_exists_Px = Exists(x_1_to_n, P__x_1_to_n)"
   ]
  },
  {
   "cell_type": "code",
   "execution_count": 12,
   "metadata": {},
   "outputs": [
    {
     "data": {
      "text/html": [
       "<strong id=\"general_exists_Px_st_Qx\">general_exists_Px_st_Qx:</strong> <a class=\"ProveItLink\" href=\"../__pv_it/common/b1921585ebb165238ef2d3470ef01b6c7f2cb8190/common_expr.ipynb\"><img src=\"data:image/png;base64,iVBORw0KGgoAAAANSUhEUgAAAYIAAAAXBAMAAAD0CFX+AAAAMFBMVEX////u7u52dnbMzMyYmJgy\n",
       "MjJERERUVFTc3NyqqqqIiIi6uroQEBAiIiJmZmYAAABr+PKJAAAAAXRSTlMAQObYZgAAAAlwSFlz\n",
       "AAAOxAAADsQBlSsOGwAABABJREFUWMPFVl2IE1cU/iaTTSY/Mzu1tAUfdF0s0sWHVEGorJgiirKw\n",
       "RhCsL5rSB0UfXH9QkAqDoBQR3fpSkK5GFH+irlFEEUoboQ9Z+xLpk8iW+MviD6wuymIp6Zm5987c\n",
       "m7iL2ag5MJNzzs13cr+b83OBFovRQvT7kXNNoRM54Pnw8PBfH33fp6sbdq6zSYl1NBfo1Ps4hynJ\n",
       "KyBykz4/azJOm90iBvobOn568LDJQOFKixjEx+h5SUqx2Ug3W8QgMkoPsYhlmo20ukUM2rPAYuoj\n",
       "FhWylt867ytpbfqZTzv7JwMrgDlTYlCRjZjz7sCcUGj3e++4hZgmFjiTey5Hj++2ypNFUQBLMUDd\n",
       "dKhBBlmezF2DtPueBoCWUC5t6/RwJh32cqy0d0BbKmrTCb+IprXOXfZEURiAy69T+g8Yg8R3MErQ\n",
       "+hoZQKL7b+GfyQKQwiPSFl4UbQpWxuU68f/AAOLfbILBAD2PYRUaQa4KxoHPALglwnEnJVt7wRib\n",
       "OMytQP2NM4gPHhgRjS5Qpe6nOD0G3i+shKku5kcG6+sicPIC1F/yFTeLkBjHJzKDPxzNDtuTMPAA\n",
       "vUvyFZ/4OZyNZtfyZUkNRHV6DKJuI5yLfcpi3NnZVtdHJOcx7vlXdNUctM3RIjrYVjR6Pi/8iBB9\n",
       "hsqeWSNUHAyg9fyJEjmWcQbpSC6F/V7tuGri6FMV6K2rDJJuTq/BNcjgMDbpuDGoZpbnZHKN3wVG\n",
       "uR3qQ2xsRjHRzxjMpFM5/vUz3CB9ke2Z2ivu9y0GMKZn8IK898XNrt2BPsCqn9QkZtY2cKe2DpLU\n",
       "CPVx/AIFjHGas9poDXpcKAtYS9rymvdVnQ76Se7YCp4O5m1gRj72kAgZ3zMT/7j+ingN2wIQzSXc\n",
       "gX5XhO6GA9MWqkEvVcgZfrqiQ2IQqSRsM+3tSQLrRQOOXnNXcJ29V48EWRTI377mJfTPvnkIP8mm\n",
       "P338HptMWZUUDN6xjOKXNKZoE1oHU7EZmEaW9+LO2GmU5UoufXuSRroZgOnLB0MZ6vmRQgAWzqNZ\n",
       "063p2h31qgz8u7bxw/x7kulLyNcOw/wmBSvNzSdX8ra7CX2IqRZlfXe/XkK3o5eEc7uRkbvpod27\n",
       "bAcRxwcTwjrfdQJ4IIGFM5qimsfGuguSyM6967sozf2hnaxWRyUzuHL42nXEZwP7lVV3EzGmzorT\n",
       "y28q3FmO99jyTMbv9BNiSHlZxBAhOyeBuWbi1GVo2bo7juKJ1zSxSe4lXJQj0S9Qt77MekX1P+q6\n",
       "fsoxp9YXm63cKnB4D31lJABzxPpqWQJz7QscScOqnxUHmrul1wdMy03wLU6FQdtd78TfgpBUydnQ\n",
       "HeqDilM7ZN5V7A+wmf8BRokcVRmUqfMAAAAASUVORK5CYII=\n",
       "\" style=\"display:inline;vertical-align:middle;\" /></a><br>"
      ],
      "text/plain": [
       "general_exists_Px_st_Qx: exists_{x_{1}, x_{2}, ..., x_{n} | Q(x_{1}, x_{2}, ..., x_{n})} P(x_{1}, x_{2}, ..., x_{n})"
      ]
     },
     "execution_count": 12,
     "metadata": {},
     "output_type": "execute_result"
    }
   ],
   "source": [
    "general_exists_Px_st_Qx = Exists(x_1_to_n, P__x_1_to_n,\n",
    "                                 conditions=[Q__x_1_to_n])"
   ]
  },
  {
   "cell_type": "code",
   "execution_count": 13,
   "metadata": {},
   "outputs": [
    {
     "data": {
      "text/html": [
       "<strong id=\"general_exists_in_A_Px_st_Qx\">general_exists_in_A_Px_st_Qx:</strong> <a class=\"ProveItLink\" href=\"../__pv_it/common/0d8c076ab6ebbaf2e82e3e963510432bd519bfc10/common_expr.ipynb\"><img src=\"data:image/png;base64,iVBORw0KGgoAAAANSUhEUgAAAZoAAAAXBAMAAADAcZTiAAAAMFBMVEX////u7u52dnbMzMyYmJgy\n",
       "MjJERERUVFTc3NyqqqqIiIi6uroQEBAiIiJmZmYAAABr+PKJAAAAAXRSTlMAQObYZgAAAAlwSFlz\n",
       "AAAOxAAADsQBlSsOGwAABC5JREFUWMPNV2toFFcU/mZnzc7sZiejpQr5oTFYpP5aLQotKV0QixKI\n",
       "Kwgioh0RtqVCjdYHSKGDtFIkaPRXEaOriNH1lfhEELq2QmP6Z8X+EUlZRTH4TAw+WpH03Ln37sxm\n",
       "sxnXDbgHZu6Zc+/55n5zzzn3DlBFor1H7/GXYxV5R1LA476+vr/eK4cjw19vXmWSojdUBnR4PL5J\n",
       "xfIcqLlC7YcV4kwwq4CN+h8tC124WyFQMFcFbMJDdD0jJVMp0pUqYFMzQBcx0hOVIi2tAjZ1FvAF\n",
       "1SODioCSXj/nY09ffecHje1jORc4zHx3NjzlkPPafi3DPyUVYrLtJkviODFCZ+qxZ1AuvNXIjoVS\n",
       "4LAAHVShr70DGeUP3lq8OZTupzTsKgPAkMrpDY3NrI3SIizEYnMjlAUyr+3gYCiuNG4xS6FwByH7\n",
       "yl8btTPJJh3418vmvI02G1PK2uzk7rJOtLUEG8M90j47Kd8FI8F4l14f7iBXuXw2T2JOc7bXw0an\n",
       "txkWHpa1ukvc7SbPBnBgO/KDaikg67q0odIwva56WbAJn9rRLwumq3qqaN4YjouwX+Zhs4sYBgeQ\n",
       "hS8Q0v2nbK6J5FWfiR4WaYi8wkQvm99sxQyaY7BxHFrmp3P5j3AMR0PWctHtUV1xjZPFVOUKO2w2\n",
       "sdDLaAn4AoXtzRNEkdovLK9lpU5BWRvKoIFPi6XK5K4fEGDYWSij1iHuoDRfRQ8ZvhRs4jWpGLY7\n",
       "ucbUyN4RQeP0O3KON2dxwsPmd1aSWiMWfIGC+FYV6gVxHhkQz4FW6ENTM5F2h43CAvDA7Ee4RO3n\n",
       "JqYlhI0p+SfuoNUnMEjWO/LUWWdD7eCVg9RaTBu5KdiyCiaTSXrfncYfTZfNVZaCtt4KfyC8kso8\n",
       "XtrWvRC1WqUFeJDav0iETB+BTE3rd+ll2mqKw+tk+4cFZE7eaIRwCKUi7CBxS0I3wUbUlKpGt0Ih\n",
       "Y/DhIgqCOSLQnFyRbL5DN/6Gar0FkJrR0HJujxtprtzIa4yN7lblnfgF2F0Uae6I2piRi0ETlU/L\n",
       "fETbIE1CaeAq1gKT6Mm5CaN+hKV5jSnira7dZdP2U/1cqg5ZHyC6tQUSBvZaUVYPRs6upYBNwP0N\n",
       "W/PJbaD4d8EdsQvRT2MwRIHCgzNpk01CvcZVgz58U7vagyZb7ZHG71maa2tYePwJ5ekKl412v3M9\n",
       "/fp94wNEmnF81kGEYj/DGT3iwCajedtXs+hQ41bp4eEBKKkiNu6IiwjPALYX9LIA0bk6nUIJ+QOS\n",
       "MGbDzTRiUjLp3fLFWSCSI+wzfkBCi+JwNxSr6HhhjXrykUW09NlISMHnUU/QDtDN68zwG5pgPiy5\n",
       "UWnVZxRDihloLylLDdsHSGhTsCcuB3tlR2V/FsWAcW8xHcVYig1WsgWb7gMU9Dg2owql4IMo5Z/B\n",
       "x1X+Byl9M7/9EgH4AAAAAElFTkSuQmCC\n",
       "\" style=\"display:inline;vertical-align:middle;\" /></a><br>"
      ],
      "text/plain": [
       "general_exists_in_A_Px_st_Qx: exists_{x_{1}, x_{2}, ..., x_{n} in A | Q(x_{1}, x_{2}, ..., x_{n})} P(x_{1}, x_{2}, ..., x_{n})"
      ]
     },
     "execution_count": 13,
     "metadata": {},
     "output_type": "execute_result"
    }
   ],
   "source": [
    "general_exists_in_A_Px_st_Qx = Exists(x_1_to_n, P__x_1_to_n, domain=A,\n",
    "                                      conditions=[Q__x_1_to_n])"
   ]
  },
  {
   "cell_type": "code",
   "execution_count": 14,
   "metadata": {},
   "outputs": [
    {
     "data": {
      "text/html": [
       "<strong id=\"general_exists_Py\">general_exists_Py:</strong> <a class=\"ProveItLink\" href=\"../__pv_it/common/28eb577363fe1ad57af7b017109cd5d065416a100/common_expr.ipynb\"><img src=\"data:image/png;base64,iVBORw0KGgoAAAANSUhEUgAAAPkAAAAWBAMAAADwcyf0AAAAMFBMVEX///8yMjKYmJh2dnZERETc\n",
       "3NzMzMzu7u5UVFSqqqqIiIi6uroQEBAiIiJmZmYAAACNxjJKAAAAAXRSTlMAQObYZgAAAAlwSFlz\n",
       "AAAOxAAADsQBlSsOGwAAAwxJREFUSMetVV9IFEEY/+m5t3v77/atRy+IHgzs1IdACM4eSirwIiII\n",
       "qn0KFMONCEwCD+xBfFryIZCspT+QUXb5YvjiURicvfhUUFyYBAUhWZhGENfM7Ozu2argbgOzOzPf\n",
       "b+b3fd9833xArCbE2JtH3DYRY+8M6cuVSuX1zrbJXavDHZ/pKJWNwS5nolmQNoDjFhlciuW4XdHY\n",
       "+xzgDulYisXeHI39qUk6dXopFrtqRWLvop1okDJisddlIrGvAsnf5K8T+weWIBZ8iTiZQf92W2vh\n",
       "iUIUdsIsHLS58tlbqF/xRYlUCfu321sLrzcwTjKuvMNU+dXWWqQDzUbSXoaUE3dzUbe+gOti27C1\n",
       "leIMziepUhTbGzzl1SJEzEN1ep7wFUt1MK+D6LB5c+GeKitR2NNGwA5lHX0mxj3ZrJVcSxeFta32\n",
       "unA+9myfKYDHgvIQUvhR9MUs3b0XjngeuoHHCNg/Qi7VW1uzM3jz3keL1POuhyZEZz3Jc3cgbfWG\n",
       "/BWIWboXvSsgPmwooNNlZ3fdSReQWCA+DjUKoHBx3wvM0ahzA2BCuLog54QjdHx6HPeVsa8bKxkV\n",
       "B9NG1KSMXlB+MHbxO136glmSCBctDBp8iX38GYULAwbW3YR1q4yUlZzut+zIIYyoGNyoNRX7k0/V\n",
       "o17YENeJQ5M/Xdsr1Lb+9m95UDs0etoH8I+2yAEMLjnsyjXPh1pRNeGyv8crAf84n4qbp0ZDvnzD\n",
       "PGC47Ck3zVqAczgF3AyhXQCBq6a+SELvrH+8OQvKfpmcqJBEOAYxSybeh4rHctpmdaIF12yXPcGO\n",
       "FssQDl8g9TdcfBPg8PPQus2aGpVa6mDsvTZu7zGgm0iW0ZtPztFPmYkl80Q48/N4R64KJxvbSbxS\n",
       "KxwpC7VaXSGRGn5lSWfw55BbSTT5oXQFhxg7bDHfkMEBmSgUeIyJNdydDiVDDjcmvdujdKkmL17l\n",
       "cMxTQACnqvM2ohjoeWlDsSTnGeqqf4CAapqJ+zGaCR14JkaJe+CPpu7xhx9KE7+wgCrji/93+wtz\n",
       "d+DmKHwnCAAAAABJRU5ErkJggg==\n",
       "\" style=\"display:inline;vertical-align:middle;\" /></a><br>"
      ],
      "text/plain": [
       "general_exists_Py: exists_{y_{1}, y_{2}, ..., y_{n}} P(y_{1}, y_{2}, ..., y_{n})"
      ]
     },
     "execution_count": 14,
     "metadata": {},
     "output_type": "execute_result"
    }
   ],
   "source": [
    "general_exists_Py = Exists(y_1_to_n, P__y_1_to_n)"
   ]
  },
  {
   "cell_type": "code",
   "execution_count": 15,
   "metadata": {},
   "outputs": [
    {
     "data": {
      "text/html": [
       "<strong id=\"general_exists_Py_st_Qy\">general_exists_Py_st_Qy:</strong> <a class=\"ProveItLink\" href=\"../__pv_it/common/98af65715eb6c41dec97828dea8ccb9a7b951d070/common_expr.ipynb\"><img src=\"data:image/png;base64,iVBORw0KGgoAAAANSUhEUgAAAXcAAAAXBAMAAAACbRIjAAAAMFBMVEX///8yMjKYmJh2dnZERETc\n",
       "3NzMzMzu7u5UVFSqqqqIiIi6uroQEBAiIiJmZmYAAACNxjJKAAAAAXRSTlMAQObYZgAAAAlwSFlz\n",
       "AAAOxAAADsQBlSsOGwAABDNJREFUWMPFVl1oHFUU/pLd+dv5ySAUfcsKothAum0fpKHCVlCLCt2i\n",
       "Igi2+yBCSqQjUohB6EJFQkBY7INSTB20iik1rqUQ7YNZlAipL/ukYInEUH+gFGNpGxFkPfdnZu9k\n",
       "kppk1D1wZ+7O+c7Zb84958wBuilaBtsKuixTGWwv0rq2sLDwzf/KuHDgxvi+X9jOKmVxU8wegC1I\n",
       "nw88EdDmpUxu7uwK+aMh8C4tLGVyM9gV8p9UabGMaWZy4wTdIH+ALXoBy8/kpqfYDfI3AP1PunsU\n",
       "/bElGLVYY0wXMXo7UxWeq22B/KL6w9p4uw3lnYhrD9Zl6ErvoHc5huSsJnbczocK7/UxSa1yflPk\n",
       "y7JVDU0T8YGN23lRj/tj964G27h16PVrMMvG3VI17LXwmrF7PFjHhYBHcWtuIfLC2N4GbU498n8U\n",
       "W3b1fBQ6pwEDl+CERz6WTwInxCUP9Apri4BHb7K8ZfKTtK7Aa2y+Mff5HfKwV3C0yp1xmQ30W30N\n",
       "7da6AeBwuY8if7EGGUP7I5jpT3Gsjshz/zvgJgwSMKT87ZFtPvquUtrA83EOHfI/otDsDdYnz+GD\n",
       "955ldWeJ85kywhVdNt2xvmAkdVoddUTeZOHbi4OqQRKGlL/Tss1Hp5WnBMjXsF+Q53m+nz1ArkUJ\n",
       "khIGYHBj4EvMsYIVKTClvdIqlLVH2f6ZSZyxT11NDn9MnSTvsPDdhQvCAE8FEezz6WQmcbWQC+LW\n",
       "D6XXeTX7Oidv/M4e/YpZakEvBjjuy0f8Ev9icG3Mx4rotGIwM0tmOPwdd3kCEw6OJ1+aqVeRp//Q\n",
       "b+JtYaBPBhGsaSwnbUktd8/z65X2Y1HF0bkbJ6ZvisgvMBejQ79VwKLoMjI/QF7cRQngcDPk6e5G\n",
       "UXIbThWC/GV8rWFV5jD14PmTCvn8oh24Rc6HDOAGEayyOnNI3Xv1/lInbTryLY+/L8hboj/uBA7h\n",
       "aeCtVNoIAMGdqrdIVftczK46C0b+ZfJoU+geh1GiH9GFqU+VXbVg5+778A6wguUGRF7CkG8otsKf\n",
       "dQasuM6uMVrtxKt1QT7HmRnz0B55gQbm9LScg4QfhjtcVcY6a2kfJz9Sx+l7fHhV6PMYqehz7DLP\n",
       "1Wb1oNoqD02MBxXk6TvFDIi8hOFnKLbS3+saq++HV9Mh6+8prfBk/xBVNothaJbgtNvLVPzp0YAW\n",
       "h3+Gwi4KX1yFx/AQJ4+6UckX8UCB3qdzXlzt4r0Z9QuLL+gP6MPDDVjaCFguCFVb4a9VGKCjKae6\n",
       "WBlvxvXN2Frbo05RWHu86MB53IRM2D6OfFWHHZjhp+hp/wXMxFYzXD2Kk8UE+cNvEOOfwAz0c3si\n",
       "WH+7pdgKf0bNolB56THo2Qzj3Qfx7vz7ctiBvV1mWzFWFmN1gnzPZZaIgWIQw2Jbxd9mxqD/Tiqp\n",
       "T8fGJPjXmfwNlapBwq+ThtYAAAAASUVORK5CYII=\n",
       "\" style=\"display:inline;vertical-align:middle;\" /></a><br>"
      ],
      "text/plain": [
       "general_exists_Py_st_Qy: exists_{y_{1}, y_{2}, ..., y_{n} | Q(y_{1}, y_{2}, ..., y_{n})} P(y_{1}, y_{2}, ..., y_{n})"
      ]
     },
     "execution_count": 15,
     "metadata": {},
     "output_type": "execute_result"
    }
   ],
   "source": [
    "general_exists_Py_st_Qy = Exists(y_1_to_n, P__y_1_to_n, conditions=[Q__y_1_to_n])"
   ]
  },
  {
   "cell_type": "code",
   "execution_count": 16,
   "metadata": {},
   "outputs": [
    {
     "data": {
      "text/html": [
       "<strong id=\"general_exists_Rz_st_Qz\">general_exists_Rz_st_Qz:</strong> <a class=\"ProveItLink\" href=\"../__pv_it/common/45c4c0c28500946e6f4ebc379f8550bd8983fc2c0/common_expr.ipynb\"><img src=\"data:image/png;base64,iVBORw0KGgoAAAANSUhEUgAAAXIAAAAXBAMAAADkRNlnAAAAMFBMVEX///9UVFRERETu7u6YmJh2\n",
       "dnbc3NwyMjLMzMyqqqqIiIi6uroQEBAiIiJmZmYAAAA0UOGSAAAAAXRSTlMAQObYZgAAAAlwSFlz\n",
       "AAAOxAAADsQBlSsOGwAAA6JJREFUWMPFV11IFFEU/mp2x5ldHbd6qEdJijDISZTAF6WXCiPWVump\n",
       "WNIK+tOHECrCpZf+FBeiXwy2yId8yX6kh4KE/EF6aMEgIzY2oh+ISA0rhLJzZ+buzOyOMuuWe2Dm\n",
       "nnPnfvd+c++559wL5FHCC0aKyKv4oguG+mPA10Qi8XxR+ZZPLV+tcb6UQy+39eLOok51cQnESSqF\n",
       "1hw6KVDzwLyLVrqcXFypzaETTzIPzO9GgHZiXphTL8/ywLwdkKaovJJTL8fywJxYHwlQ+YEeKRFp\n",
       "Nr/YLQfpHBe5i9Vnz1yxWZddh5RUQJvqrf/MZ21Tz5qA2cZuZYpwYmc917fgBkXF0WyYLzXKnt6P\n",
       "tFH6XOOSRun9gY2lTHlNTxO8Kip5kGGW0LhMnTP/qAhxvTv7OTeYPwrjcBgb3eP6eTwbAKaZomUR\n",
       "IQSpN56a1BAtqRKfu5Oq1F91LZS5TN0rJfiSdQRGcQDCZIr5QaMvXcgq7hN/zZ30Yyn1icFcenWI\n",
       "r3tn2+PMnWGp05m3UGjzTIDGdAv1Grn+aS3kP9xb/LVQTebM8qjzMH8IATu29jLHu2EwVy7s4V8/\n",
       "9yczENY6nflKxmVAJA91C5WN8psK7wzox8vIuAYENOYCuAVvXLfswlZMjmKJUDeIYdI3c28RgxBL\n",
       "9Tb74L+e7gX70r1liK1/wF8C11CtLbV+ocIz449qcU1aU7Y7ojGvaeUWOlXN0l7CT6tyemfPuFjd\n",
       "iu9aTDVOXOeBc2N6UI1Rdquxjy7F0pkPsk0SllkQcwmVdOaNjQ3AJ3Zg6qTpRfdJ3c+LxrjFZoFZ\n",
       "KGKL9JYrCZr0oDzShyUxP+1xvEl5GEWcMcOXmkR0pPtXk+fLtqCF+QY8wEuNjVuonO5JRRFD0fz8\n",
       "Iq8+iv0WKyUyjyqFESUZgcj3xoGr98GGr4J4/ALRWU+aEOQvViffQtzC/HBz9RlKZ3EnqAm0Qn0x\n",
       "50OTwTzIw8e6s+9NyxQvV1pQdC5iHtfeb2/Thu+IKpUjYSgR0qRhdITZS69bJbZamIvvbq6gi8la\n",
       "J6g0agDDVujSjBvQWoPrrukYBP5fhbOzE6ZlSjVX7sFH/rbX9pEtuR66Qj6uIVUX99Wp1hzqT1ab\n",
       "6cUOlZ2gFRlkKpwOBw6WJjHHv9bl/FAUfo1cwexvQ9MoapoQkBts2V+cJLpK2AFKW8AB+nG+vJL1\n",
       "xSpjAT3zajbmOMUSUMipWa1DXRYnnP8l9mu34BYm/GsefwH6LxjeEoUu+AAAAABJRU5ErkJggg==\n",
       "\" style=\"display:inline;vertical-align:middle;\" /></a><br>"
      ],
      "text/plain": [
       "general_exists_Rz_st_Qz: exists_{z_{1}, z_{2}, ..., z_{n} | Q(z_{1}, z_{2}, ..., z_{n})} R(z_{1}, z_{2}, ..., z_{n})"
      ]
     },
     "execution_count": 16,
     "metadata": {},
     "output_type": "execute_result"
    }
   ],
   "source": [
    "general_exists_Rz_st_Qz = Exists(z_1_to_n, R__z_1_to_n, conditions=[Q__z_1_to_n])"
   ]
  },
  {
   "cell_type": "code",
   "execution_count": 17,
   "metadata": {},
   "outputs": [
    {
     "data": {
      "text/html": [
       "<strong id=\"general_exists_in_B_Py_st_Qy\">general_exists_in_B_Py_st_Qy:</strong> <a class=\"ProveItLink\" href=\"../__pv_it/common/6b3c8a77bfc97295a7bffccd26254e8c309fb4970/common_expr.ipynb\"><img src=\"data:image/png;base64,iVBORw0KGgoAAAANSUhEUgAAAZAAAAAXBAMAAADXUwQrAAAAMFBMVEX///8yMjKYmJh2dnZERETc\n",
       "3NzMzMzu7u5UVFSqqqqIiIi6uroQEBAiIiJmZmYAAACNxjJKAAAAAXRSTlMAQObYZgAAAAlwSFlz\n",
       "AAAOxAAADsQBlSsOGwAABC1JREFUWMPNV11oFFcU/pLdmdnZ2R2H4mvLCtKiQbuaglIobEvEtIE6\n",
       "2EBfhKxQhEisgz+gi8UtCQo+lFUpBTFl0DzYUNKoDy2lkKBY0T64+FBpJbJaFUGCP1Ejik3P/Zkf\n",
       "d5t01i2uF+7cc8+c+eZ895577r3AK1PsF/9UwStUkqUX/9ZwgcmJiYnfmuf+0EznwBsOkw42AnNE\n",
       "NN81cSLuAfGz1GpWIygtTrOJqE8AnSrMTCMwrZVmE0k+ojpFQqoxnLPNJhK/S5XIYH9jOK81m8i8\n",
       "HLCZcg7+omUyksGO4FXhGrTiXN+GDVY2SMR8rvd19IjyBCLxyR9ySGP6ON4ObLKH0Xp3LpCwwQIM\n",
       "Uvo9V6//n/3dfj3PI0Mqjg7foBU3Gh2hItsf+tvbuEBses0yBrBFpi+1NIlEbuvKvbPmCW4gO4fr\n",
       "npGNA13kchnJ8RCR4zbW2eGw+M9yUrZrPAXtZU7KxXl1uCwUGs4j5VYwORuEMPBmtl4i5k32TFTk\n",
       "pAoiOv3bzOF2/YmfbSM+EYw56iMOJrbraWzOP0VPftb9nBlI+RdJ5Oci5LIxjiFR+4mvFFtoqoQv\n",
       "MgER9i8iRh5ExomJA4k65b1iC+Uqm2efiGnhe7w1BxFusPTNYRamg4KI5k6r4zIVzHP6avODp9RE\n",
       "TPYcWboHAZEvmWfjioXIONDFIkk+9V59RLUT8aIgwuaL5E5q3hO96rCSBlrbKZwheaEgouwsJ3PK\n",
       "aiZ/Oogh41BVlDClGFKx/y6B9lWIyGkWK0Ujh8g4MMSItPhpieXPWxjLcCIaizizaNynObskevyx\n",
       "2woJ3EApWJjm2VscGhPZhNt7iSP2Y18Ku6tGgJTiKDC/o+NDgFj0jAZETrHVZusUVFFxoHIi5poH\n",
       "3mrdRHXHu3dsMSMTNAla/8hDoNsRPVyhmq54AvsHN0i4BouByxImPZrKQzhwGb8qqI4KUrbeXpSF\n",
       "muVdytdjofT7MX7ERe5bVBwvtIKS5njLROaAzqMpZkGpKLbsPVe+gTRI5c1KHkrZhxkDc2Ar8LtB\n",
       "093FRC3rPZhSH2KrmYeNMg3tSii01q0trKeYK9eBk3Rrj30xSzsnicQ4qV0ldG/43OG96s3QM+hB\n",
       "ujcfHDn1a+9zB/pK+HahBTPPRPUM+mz2EMo9tJrRzQZuwVT79VKIiHLr2F66pK2qAydecx9chbSb\n",
       "yEJZNkUcC6T4kwIRF2ZmRK9qsbuewU9ILie3vBfb8QF3ACXNjmewgh0hghubUJaTbQ60dzq6wmc+\n",
       "L69WCnyTi4yzrca3bdAX+7mB+XlgZDTU+5cjTmDAxlCUfYaFjadLMJyEexwtM8/INz8whVIr6str\n",
       "D6/epfkxeW/a0XFu1N673QYuA/78njgqIxXG4qwn+uEbKGcjgtfZ4KyIjFPPseylFKV2m4pUtP/d\n",
       "k38A35ZiSI7Il34AAAAASUVORK5CYII=\n",
       "\" style=\"display:inline;vertical-align:middle;\" /></a><br>"
      ],
      "text/plain": [
       "general_exists_in_B_Py_st_Qy: exists_{y_{1}, y_{2}, ..., y_{n} in B | Q(y_{1}, y_{2}, ..., y_{n})} P(y_{1}, y_{2}, ..., y_{n})"
      ]
     },
     "execution_count": 17,
     "metadata": {},
     "output_type": "execute_result"
    }
   ],
   "source": [
    "general_exists_in_B_Py_st_Qy = Exists(y_1_to_n, P__y_1_to_n, domain=B,\n",
    "                                      conditions=[Q__y_1_to_n])"
   ]
  },
  {
   "cell_type": "code",
   "execution_count": 18,
   "metadata": {},
   "outputs": [
    {
     "data": {
      "text/html": [
       "<strong id=\"general_exists_notPx\">general_exists_notPx:</strong> <a class=\"ProveItLink\" href=\"../__pv_it/common/72640e0e2618963446b1238532d651b0ce8e532c0/common_expr.ipynb\"><img src=\"data:image/png;base64,iVBORw0KGgoAAAANSUhEUgAAAR8AAAAWBAMAAAALAYUCAAAAMFBMVEX////u7u52dnbMzMyYmJgy\n",
       "MjJERERUVFTc3NyqqqqIiIi6uroQEBAiIiJmZmYAAABr+PKJAAAAAXRSTlMAQObYZgAAAAlwSFlz\n",
       "AAAOxAAADsQBlSsOGwAAAutJREFUSMelVkFoE0EU/Ztd091tslm09ODBxmARbxVv0uJepSARvHiR\n",
       "iAdFDy0KCsVD6kFEUKriRSgGwdoGqdGbUjDixeIl4qmHSJQcxKrElnioSJydPzM7u25LMn3wlvdf\n",
       "ZjZvh/mzC6CEYtdmT7dUvoM9063ZPV4x/qjX6+97nXw3kHOds5dPuRFT6SE9pI+FHudqealoAyTf\n",
       "RE0VHGdUCOR4gdY3AKyNiKmEY4wKgVLySq8TrkVMJaRcpEKg+5JOtgjXI6YSdnhIhUBfJJ0pABwp\n",
       "MXP3k105qdciZQzkEYlJpEKgE5ImYa6tcLNhTzm14LdIGQN5hJGnnCVtv9xjIBLAqftoADy7mBvn\n",
       "plE0fvV5MMD6DUstd8Xd7EZsAsKqIhVWiJ9bJlngCcnUwSFZ9DJ7Ziwd2HyVcAQvWshtBmqHzJS/\n",
       "mywRwC8zFXN9i9YqCdlfRdJA9uLNr7yPAyk1d8hcCQLpayHzdVFzpUB+abhbBaIjmocX2XOwqQsw\n",
       "31c4yYZIMkDYPM8DNcD+I5mDlauQwLtqIEpI1GgZgStGDCx5KfJaNQpIGshLlkbgOt18vux/sBqe\n",
       "TX8X2C8dHi3JfHjwO7zEQEN5UcKYS0t60dqywBHTjyFD/trJUrKXa6YI+ix2A5EpGIo8T0b+MhgL\n",
       "XiITv0uBuadsNWcwUPqDKM3TWEKaNCV84qLuihFTsOS7FSRilHyLpF0uTXIJg5jG6tEsFumRmN0Q\n",
       "mHQj3BE/3IYbcilGBYfBW/ipA9wCJN0M1WFo+IG0LEq4QCTs5BdqWnPAdqvRiDtTGqFAWV6ZZw59\n",
       "lkqBhFBmCz7eA2gCkuLbi7LrB9KXUTojvhwt6u/8CzMvmfzQOBfXMNw0h9dKoIl2TnU6LakM3hpB\n",
       "v0/CIw9Msp/NQnjRySJaKPfaQoJQNXucLfNgXKCQaUeOjf+HRyMmi0jp2Hx6AOA59k7nL5c+UGmT\n",
       "1j6+CKWYQLFm95hnjMCLk9v99OoF/wCmBuaCqnbLjQAAAABJRU5ErkJggg==\n",
       "\" style=\"display:inline;vertical-align:middle;\" /></a><br>"
      ],
      "text/plain": [
       "general_exists_notPx: exists_{x_{1}, x_{2}, ..., x_{n}} [not](P(x_{1}, x_{2}, ..., x_{n}))"
      ]
     },
     "execution_count": 18,
     "metadata": {},
     "output_type": "execute_result"
    }
   ],
   "source": [
    "general_exists_notPx = Exists(x_1_to_n, Not(P__x_1_to_n))"
   ]
  },
  {
   "cell_type": "code",
   "execution_count": 19,
   "metadata": {},
   "outputs": [
    {
     "data": {
      "text/html": [
       "<strong id=\"general_exists_notPx_st_Qx\">general_exists_notPx_st_Qx:</strong> <a class=\"ProveItLink\" href=\"../__pv_it/common/45222648b9d5c3fe0628308866f5e9621e12e9c00/common_expr.ipynb\"><img src=\"data:image/png;base64,iVBORw0KGgoAAAANSUhEUgAAAaAAAAAXBAMAAAC/oIYTAAAAMFBMVEX////u7u52dnbMzMyYmJgy\n",
       "MjJERERUVFTc3NyqqqqIiIi6uroQEBAiIiJmZmYAAABr+PKJAAAAAXRSTlMAQObYZgAAAAlwSFlz\n",
       "AAAOxAAADsQBlSsOGwAABGNJREFUWMPFWF2IE1cU/iaTTSY/MzutaMEH3S6W4tKHtAVBWWmKKMrC\n",
       "moJg+1JTfKjog1tbFMTCICgiotuFUhBXp1TUpu02FlGE0kboQ9SXSJ+KpKTWlsUfWF22LC2Snrk/\n",
       "M3ey2cU4tDlwMueeyXdnvnvv+e5NgO6Y0yZnROrRiNxDFEuPtkl+GanLjMv9Yb1ev/m/ExoLwnPN\n",
       "9/e+a1OQ6ovW51nhkYfmGUwrKI0ZIHGNrosjdtpjc+8GISsfxPrfNDnkuBux03iDezcIZdVymiZ/\n",
       "TEElaq/XhHeB0KdKnJgiJ1KpQtRetwjvAqE7StxbBN4gdbJIE7TSB6+tVO4tPb+of3TBYlQBLwvv\n",
       "nFBDbaScpwe6ylhKIzIHf/FqmurKwnn3ofqg9H6rtmAxqoD1zMdJtq93SKgoVv/ABJEZ6kQMxJUI\n",
       "WHXPaGi+3dPPujBpKjZis/0RtPWyzJ34o2Re699nz9chBwg7JbzzGeKEMm/DqEIb6WTzE1uN3PgM\n",
       "Au+WQlEGcviDojXfSAGEVfBGYf5Z4gA518KfldA4+Z+wyp0g35pLaEYhBNyQPYskLdLesjE9f483\n",
       "gvB74R6h9MTRSSmjQahoayjJCLGnbIYZvlmanJhbU0Fypb/kJCH9sYi9JYfMLJ5TCf3oaHbcXoAQ\n",
       "AwyvKzXEOIwLQheSxXfEV5QwsHCSEUp6MvsKDoVupp29PXNkSUme5pedklAD6X+kfLvQdiUr6ONv\n",
       "pZEvKR9AjK6xGmu2GBUWB2hDP6FKiQ3CPUL5hJvDYVZ7Xpg5eT8MZvfDhLJePWzFZajgOHbquDoR\n",
       "XoYsye1yILDywDIlgtgIUtPLKplRTmg5jdeZVx/gKsVrbdbUZkTeb3GAsbSAR2IzuCMPp70O9HEu\n",
       "JhRmsbxlOHqd1hrKkszqs/gMITBmacvXplrQszJYxS9rA93b/ZfQcp2m4Z57epNYN+YtYFkpdZf4\n",
       "Ge/xJn718g35UbclIOlmvGPGbeHMBukXimnL0KCPsFEyfn9Tn0Io0cjYZp69ogLWKwYcveUU4yWH\n",
       "L40FS87MtSmHn/2IFcInfvM4jqhNfwP0xTybsxo5GKSFhtBDo/IS7Zb0TlofD7ELeJ5a7EMkU+dQ\n",
       "U0Wh+uYXtEGaAZi+fCxWoL0mUQ7AMnmyaHryEJwj59hwmJD/Y8LY/vpvStO3mB+dgLk6x068/qn3\n",
       "3ncl23sn/ToPLRrCwVG9ikFHr8rkh0ZBle3j+/fZDhKODyaE9dXA58DvClgmkzmSD+wQz9vRhlBC\n",
       "ruqD2waoRFx//JvNKaUZnIv86ArSK4DD4B6Y904pHr6Ypg9frkSylh6y1ZMCfqDHyL2SLTmOiNmu\n",
       "AhaRibMXoUnkknbnsmJIGluUcv5zFJRBCg2U/jXtEhe59DSfkMT7a5QntZHUitDRByc+pq9MBmCB\n",
       "2NasKWARvYCxPCw5CYbbhtHRaL/qHe4tllfVtk0yRKjnNpuPNgglVJIdnfu695eN/fRA+79/t38B\n",
       "Xts5CQQItEoAAAAASUVORK5CYII=\n",
       "\" style=\"display:inline;vertical-align:middle;\" /></a><br>"
      ],
      "text/plain": [
       "general_exists_notPx_st_Qx: exists_{x_{1}, x_{2}, ..., x_{n} | Q(x_{1}, x_{2}, ..., x_{n})} [not](P(x_{1}, x_{2}, ..., x_{n}))"
      ]
     },
     "execution_count": 19,
     "metadata": {},
     "output_type": "execute_result"
    }
   ],
   "source": [
    "general_exists_notPx_st_Qx = Exists(x_1_to_n, Not(P__x_1_to_n),\n",
    "                                    conditions=[Q__x_1_to_n])"
   ]
  },
  {
   "cell_type": "code",
   "execution_count": 20,
   "metadata": {},
   "outputs": [
    {
     "data": {
      "text/html": [
       "<strong id=\"general_notexists_Px\">general_notexists_Px:</strong> <a class=\"ProveItLink\" href=\"../__pv_it/common/2ea381a7cb66bd61cdcd2bedebadf00ed5438b4d0/common_expr.ipynb\"><img src=\"data:image/png;base64,iVBORw0KGgoAAAANSUhEUgAAAQEAAAAZBAMAAADDMIaMAAAAMFBMVEX///9UVFQyMjLMzMyIiIiY\n",
       "mJi6uroQEBBmZmYiIiJERESqqqp2dnbc3Nzu7u4AAAA+Hi0BAAAAAXRSTlMAQObYZgAAAAlwSFlz\n",
       "AAAOxAAADsQBlSsOGwAAAvFJREFUSMfFVk1oE0EU/prdbTbZ7KbSgiAechEEQQIKpRddJWKpFvcg\n",
       "RfCSg1BB0YIglKLkYKoFlYIHDYJGFG/aol4KorHgySI5eFBRWbAFKUpLW4RKMb7Z2d3sZpPAuoc+\n",
       "mMn33vzslzfvvRkA+IXNlnebzuDJpjOYjLK4iqirJ0q3Ry/+/xbidCQGp6xe0o+EXThQe7Btp8nQ\n",
       "y2juFw3Wy9nQDLACJC/Tr5aJGAG7WZdAaAbCGqCsMfZGRAYnWBcLz0BcpbZBIB41C+LsLE+HZ5Bc\n",
       "pkYs8Cwqgxhz4qHwDNJlYL9O4Dq1+QPf5zwZ0aA2Ee+MVBdmSuulsbAM6Otf7jKwg1pB7JE9JaVB\n",
       "bSLeGVLGKkihfXBs+9yQBYiGVJX+dhhYsLOCq9rcFrPVYnsBF2UEUMvhGUw5gGqZAJk+LuTsf8VV\n",
       "Ga39wGc4CkWUUgnPYMXDgOKZRYTifpGp6by62iYBdBd2kg9SeWIg9n+44WRaHXrSz2cUNhxkBcP5\n",
       "qmZ6GDBVMtsxsGYU9/bbxGMmMRjsKO+yhz2wLn6j+NtBj4DF/Fak+FYaXBUp0oOhYLozFoaNON1L\n",
       "UpmVRGJgJPUsPlsrGOx8Me5faY3Xk3jZQW+A1/uu4gxnsJRxVfSZ0NhhMZsf8BnfDiJN35MrmLhf\n",
       "KtFppqsQZjhngnEsNVYAzy0sT/1xDrIP+JFTitOcQeKeq6pPabREGyYKBO7ABsxiz+jBMLPmgePW\n",
       "Vr10VSdMB6rU+YWM0vjJSqNXE65nrDh45Q58xFeyBY7BY7mAawLwiVA3NXVkFgXGQKtwiMcE8dPp\n",
       "LKMyEHzLSAUfA5eh+nDPTVjx4Je6RV3GredA0XkhXTmbMxkDYYxDOctgb1W4xDrb2K1mWr7w1NkN\n",
       "HZqbZfFajWJlPliQ62nYhaMGK0ZAvu5ScpHC4XvRhXDRpDgUcOuiL2cbBvUAg0ZL0vfIEw7To/kc\n",
       "D/baugOZcKR1KW8DW6p6pKtxMGgymsGoz5C28g8OrNztslBv8QAAAABJRU5ErkJggg==\n",
       "\" style=\"display:inline;vertical-align:middle;\" /></a><br>"
      ],
      "text/plain": [
       "general_notexists_Px: notexists_{x_{1}, x_{2}, ..., x_{n}} P(x_{1}, x_{2}, ..., x_{n})"
      ]
     },
     "execution_count": 20,
     "metadata": {},
     "output_type": "execute_result"
    }
   ],
   "source": [
    "general_notexists_Px = NotExists(x_1_to_n, P__x_1_to_n)"
   ]
  },
  {
   "cell_type": "code",
   "execution_count": 21,
   "metadata": {},
   "outputs": [
    {
     "data": {
      "text/html": [
       "<strong id=\"general_notexists_Px_st_Qx\">general_notexists_Px_st_Qx:</strong> <a class=\"ProveItLink\" href=\"../__pv_it/common/44f76bd1d099dcfaf0da7e74f800d656d5ffebd40/common_expr.ipynb\"><img src=\"data:image/png;base64,iVBORw0KGgoAAAANSUhEUgAAAYIAAAAaBAMAAABIlkYgAAAAMFBMVEX///9UVFQyMjLMzMyIiIiY\n",
       "mJi6uroQEBBmZmYiIiJERESqqqp2dnbc3Nzu7u4AAAA+Hi0BAAAAAXRSTlMAQObYZgAAAAlwSFlz\n",
       "AAAOxAAADsQBlSsOGwAABDlJREFUWMPVV22IVFUYfmbvfNz5uHdXNCKRmH4IQaQDCUsWdqUxN5dq\n",
       "MFmWRJ1+RKJi88OCkJGh1NhoYyGwhqAmCv+VGwi5ILnJij9a4iKCIoa38oeIH4srguI6vefr3nNn\n",
       "dhfHwV32wD3znPfOc+55zn0/zgWA61jo7c8Fr+DnBa9gaD4fbrXNHqh+/fFH86igty123GF9zOmd\n",
       "83VvqP+w9FmPQHq0vYnWsc7Mzb0C3AJS++j33zbn6WDbkMTcKzBu0/bThQNtThSrMBnzoCA6Sdd9\n",
       "AqV2Z2Ivcvs8KEhN0EUq0tl2Z1rOg2HuFXTWgFcoj5gUyHb+6Zf1onp57X/jw7ORQ4Q/MFK9W93b\n",
       "4vMr+iDtPjzRUYBWf/Fb5sEFUoG1zoA+e3SJOWuJChE28oLW6juoSWce66HV97VANBV4a9k45yVp\n",
       "s7dgm/cE7I0qNt3Yg0jBHl/kzTSLIMj2G5W12iMqiD8Pqwy7q5UCpLL/EfmbKAI5fEJo1esqTcHM\n",
       "Mq0zvwdBUG+T15RHUzBC1+cwi60wVwTlwFcA7FHTSSM5W2fRmpx5mj0BfB/IFElBtOfsoEp0AdSy\n",
       "X8jIFfAnbKNqErqZH+xpjovAKAPQuC/vMC9CfAo3dAUfuLYX82ZRwAn9b+crQjhVtV68Eak9J29r\n",
       "MGhhI1cQYYnwNM6EbkbdpR1NeUQzHpOWOyqrOrAPR0oYFQpsuq4Wn0SGfjNDfNjQKDgEwe77EGUy\n",
       "vMNKMikopJwcLvDYYTB+9GCYyO+HFSSYTz+DHdDJMfxkYGdP2LO4UbQd8iwwIceZLqQnr5Tiw0LB\n",
       "TdqVE2s+w07CL3p8aN+Sdn8kCNblLB6Q9QsMfF+t0tm004UxIqKfYAI3GxO42xgHCUqExhR+RYiM\n",
       "Kaqz9kQDe0qB1SIlHbkn86pBG73fObZZxkHyO+BKPn2ABFm/iCG+YfaK6qqeIkScOCvoh4BNfKpu\n",
       "uEh6ClrUhRsZYwc3j2oKUpW4lyzwNWlko2TBNRrOCszY/97xwIuC9pWPeBz87g/P42996FcfP8cm\n",
       "cmYlB4sy1mIWlaWTVKZoEfaogDgMXKMR76QxvUF9C4lILm99dTlzQp9Mfz6XyVLOTxUDsjIerSVZ\n",
       "TDeuqD+swD9rWz++8KU29FvGR5eQfCkHsyC/0PbvyntsEcZeAU3y+u5ho4xu1ygr42Irq2fT80sW\n",
       "eS5Srk8mhvna2JvApxpZGSO5M9N90KaUd15cOUZu7hftRL0+oQ2DI4eP3kX0FHCBUBB1bBFpAf+K\n",
       "UucnFWkcivZ5ek3GdnqEKlLciwQj4zkaWaIk1u2GXWs644Qs0YYkNsu5ZLpvfGM9ZevdIlfU71LW\n",
       "9V1OGO2u9KnQqQKXnqK/DAZkyVhZH9LIEv2D4wWYzbXibHun9OYJC3oSnMYYUtBxiO/4NAwNasaW\n",
       "zlCPtbmNReZhm/cYFvM/ydtA3t0VDzkAAAAASUVORK5CYII=\n",
       "\" style=\"display:inline;vertical-align:middle;\" /></a><br>"
      ],
      "text/plain": [
       "general_notexists_Px_st_Qx: notexists_{x_{1}, x_{2}, ..., x_{n} | Q(x_{1}, x_{2}, ..., x_{n})} P(x_{1}, x_{2}, ..., x_{n})"
      ]
     },
     "execution_count": 21,
     "metadata": {},
     "output_type": "execute_result"
    }
   ],
   "source": [
    "general_notexists_Px_st_Qx = NotExists(x_1_to_n, P__x_1_to_n, conditions=[Q__x_1_to_n])"
   ]
  },
  {
   "cell_type": "code",
   "execution_count": 22,
   "metadata": {},
   "outputs": [
    {
     "data": {
      "text/html": [
       "<strong id=\"general_notexists_Py\">general_notexists_Py:</strong> <a class=\"ProveItLink\" href=\"../__pv_it/common/1a5f9092e44b12142ff7c1e68b68604a1a0282c80/common_expr.ipynb\"><img src=\"data:image/png;base64,iVBORw0KGgoAAAANSUhEUgAAAPkAAAAZBAMAAAABJZUhAAAAMFBMVEX///9UVFQyMjLMzMyIiIiY\n",
       "mJi6uroQEBBmZmYiIiJERESqqqp2dnbc3Nzu7u4AAAA+Hi0BAAAAAXRSTlMAQObYZgAAAAlwSFlz\n",
       "AAAOxAAADsQBlSsOGwAAA0VJREFUSMfFVd1LFFEU/81+zOy6O+NKPoUP8xfkQIKED06QZG3RUhLS\n",
       "S1so9KRCJsQmWGBgD7VQVPtSq309lftglCC1iD5EEkv0UNDHGEIPJVrWg0Ju99yZ2dGmFcYNvHAv\n",
       "997zu+d37rnnnAsA89jK9nJL2R9uKXt680flCmgLrA9lbpzt27SGeAXsHXwM6h51BEZXakYu0yyS\n",
       "r4A9kKAxpHm9QbUKPDDY5HNFL76DhrBn/zXrwHPWMVgRezsNPs/shzTWyek9FbFL5L5TntlHqTML\n",
       "ImpF7D56+BbP7CuA/ydFDLv/3CCUWEmitCYwu9HRtfBoDOOZ5UzKGzljll/kLOPzTxBcLImikR4c\n",
       "3+jsWnhQ5cXGa8Z9n5lO8njNwZ8bgpBVDluiplAa25WZGqOc4RxuLZilkLNe2ats46UkFPRC0hv2\n",
       "WTuGpKM3hFC58mnCbVMWecWIe093mx3iKpo1jNuybsO/VJ2Ul8qdNeHWnN09mmTsHTFYsSDuhuAu\n",
       "iiUxT3e7wjHPI6RiLxz2Cwj0BI3y7BzefmTPAHmeechnIK7oq34rd+eqjUaXvxwxT/ek/QTMh1Ux\n",
       "DJvs/K2HaQPRNPOxqxGA4MrRM+inqMtSqUNc/poOZOVHBPk4jv3i2MX1PxmJnWU9nJRBKCb+4uzK\n",
       "D9o6j26WCLsMLKjWFh9KK4LLcypWzYQdup3J9EHIC3rTLa6yDrUSFtZbTeLS4lLxrh02zHVKXetv\n",
       "8+4Zutvs1JUC6B5h0nYT1hAesAAcLuj05AgzH7bxF0xKGkz26zgt4y/nk7i9c8Lly6vcA6rJHjHT\n",
       "bBJ4iw/AMxfaBDC4pIUGWOi9Y6ttXL3WDWL/xjSKLBHuQ8mzhT2QeCwb/tc/MYkvOZM9ylUrKch3\n",
       "drL/1/35RmHBPyHcpJl/FE/NyOAIZ2/M4ekxlX268KfQWPD305DiYkF77c78Aq6xp8L7+ikWr3QL\n",
       "XchDKhYXWaS6qyzrHH4CgWleaAAewPO4x9mRUwpVCbwKMIMcj3FxGC1drmTI4nGrnQFEF2mz4zXg\n",
       "jnkCOHAy3Wq1ooqGczmIhqCfhK+4DDhUXVw8i4mES+GbCr64g6VZ5wGr8ENssx7MoUqUxP+7/QHo\n",
       "y+MCmTbHcgAAAABJRU5ErkJggg==\n",
       "\" style=\"display:inline;vertical-align:middle;\" /></a><br>"
      ],
      "text/plain": [
       "general_notexists_Py: notexists_{y_{1}, y_{2}, ..., y_{n}} P(y_{1}, y_{2}, ..., y_{n})"
      ]
     },
     "execution_count": 22,
     "metadata": {},
     "output_type": "execute_result"
    }
   ],
   "source": [
    "general_notexists_Py = NotExists(y_1_to_n, P__y_1_to_n)"
   ]
  },
  {
   "cell_type": "code",
   "execution_count": 23,
   "metadata": {},
   "outputs": [
    {
     "data": {
      "text/html": [
       "<strong id=\"general_notexists_Py_st_Qy\">general_notexists_Py_st_Qy:</strong> <a class=\"ProveItLink\" href=\"../__pv_it/common/2743ed3866001974a5f8a1d0449d10a1320093b00/common_expr.ipynb\"><img src=\"data:image/png;base64,iVBORw0KGgoAAAANSUhEUgAAAXcAAAAaBAMAAAC+8wH9AAAAMFBMVEX///9UVFQyMjLMzMyIiIiY\n",
       "mJi6uroQEBBmZmYiIiJERESqqqp2dnbc3Nzu7u4AAAA+Hi0BAAAAAXRSTlMAQObYZgAAAAlwSFlz\n",
       "AAAOxAAADsQBlSsOGwAABG9JREFUWMPVV11oHFUU/mZnd352diYbmhelD+ODj5oFC0HzkJG2NDaK\n",
       "i4YQFOwqLZQKScBakBhIlRRSUBeU6r7otv49aVeo2EDRpaSItMhSfKiidiIBH7Q0Wn1ooVnP/ZnZ\n",
       "mUxSk65uyYV7d2bOd858c+6555wFgCvYxOP8Zib/yWYmX75jb7bb0G3QnK28/dKhO0V+qA3dvXzN\n",
       "eEMdZZw+eaP7xOvsyqq3Y6bIVqPQWfLocoGPfbr4pS0z97PFRIfJD3jAVzQx05aZUbakOk3+8QJN\n",
       "FjETbZnR2ebt7zT5k2zSB1huW2ZSLOh3dpr8DUD9ix028v7iDJx8KHEGi1i4lWoUnstjrnK9Mrmh\n",
       "d09Hb6zGuvU8+UvE7W9q0nX1L5BZCiE5awJ7bmUjCs+4vEZtzPNVmarmB4n4yPr1jCDH/XHhXIln\n",
       "ihrU2iyUqvOEFPUbZdztXOj21zAh4IHf6MjY1dsir90Heyq65f86NJnVs4Hr9BIcHITubXtEPvF1\n",
       "DwcNGGvVfAEPvmSJV4rbIT9H8yiM0kYTs0jzAXloyxgocGN8jPvqta6SfW1NB3C4vCbP50pEfm8e\n",
       "0ofaw1CSpTgUB+S5/T1UI6IKMRgS9mT3OhDUVQobGC52oUX+FaQnMv7a5Dl89Mkd7NxZtD8pH0OO\n",
       "t6zKpLvY5fcldqslDsgrzH1f42JUIQ5Dwt5pmeaD3cpSAGTzOC7I8zg/zh4gV6YASQwGYHBn5EVM\n",
       "sQNbZQUWQ/Zv5XTV/pRBfp7Dbu3UkXjzx8Rx8jpz3z04IBTwgx/Anh+MRxIXi3FA/PSiletg5LW/\n",
       "OXnnT/boMMYpBT3o46orH/ElvGNwe9HFssi0s+9VKoeg1BWv/11ucit6dFyNfzQTryBP71Bv4jOh\n",
       "oM75AWzCWYrrklhePcTXo80PghNH++5sHbwpPF9hJhbm32iAedFkZN6BXMxpCeBwxWPhDpO8NMzD\n",
       "r6QXIMgfwws2VkQOE4/uOxMhn53WfLPI+ZACTD+ANVZGDokzR56ut8KmNd7k/ncFeUvkx7PAJfwE\n",
       "fJkIGwEguF4wpunUfk93W/hrC+Ng5H8nixq57iM4dboJFiY+VTWjB3bqme338pjjCkRewpAtRXSF\n",
       "PWs3/8OzY5XW6ix+rQnyOc7MmYT9/gPUMCe75Rwk/DLM/oJo63hOtWZOcPJ9NZx+yqUuGeok+hrq\n",
       "FFsmuVgpXIymyks93X4DWapTTIHISxheRURX2ttiu6v93STttyis8GPvPJ1s5kNPqUNvNpfo8Cdb\n",
       "A5oc/izS53h9Avj5uoIPOXnUnEa2iG/T9D2t/eJiEzvHohUW++kFVHi4AgsbAcv5XlRX2CunR2hr\n",
       "qoksVsXn4flmbK3hIFOkV28vWnDuNzF6NBfbXq5B8xXvOaSa14GxUGuMixdwphgjf/kuYvwamIK6\n",
       "63wA622WI7rCnpO3yFVGsg36ro327rHwat+jstmBNiyjrRgKi6E4Rj51jAWiH1EIYaFuxN5G2qD/\n",
       "bzQSpWN9w//PmfwDh8VQHbKkUH8AAAAASUVORK5CYII=\n",
       "\" style=\"display:inline;vertical-align:middle;\" /></a><br>"
      ],
      "text/plain": [
       "general_notexists_Py_st_Qy: notexists_{y_{1}, y_{2}, ..., y_{n} | Q(y_{1}, y_{2}, ..., y_{n})} P(y_{1}, y_{2}, ..., y_{n})"
      ]
     },
     "execution_count": 23,
     "metadata": {},
     "output_type": "execute_result"
    }
   ],
   "source": [
    "general_notexists_Py_st_Qy = NotExists(y_1_to_n, P__y_1_to_n,\n",
    "                                       conditions=[Q__y_1_to_n])"
   ]
  },
  {
   "cell_type": "code",
   "execution_count": 24,
   "metadata": {},
   "outputs": [
    {
     "data": {
      "text/html": [
       "<strong id=\"general_notexists_notPy\">general_notexists_notPy:</strong> <a class=\"ProveItLink\" href=\"../__pv_it/common/8e57371a6032f3392ab8b19ab3ab034537d6971c0/common_expr.ipynb\"><img src=\"data:image/png;base64,iVBORw0KGgoAAAANSUhEUgAAARcAAAAZBAMAAADpgHcjAAAAMFBMVEX///9UVFQyMjLMzMyIiIiY\n",
       "mJi6uroQEBBmZmYiIiJERESqqqp2dnbc3Nzu7u4AAAA+Hi0BAAAAAXRSTlMAQObYZgAAAAlwSFlz\n",
       "AAAOxAAADsQBlSsOGwAAA4JJREFUSMfNVs1LFGEY/637Obs7syt5Cg/zF+RAgoQHJ0iyLFpKQrq0\n",
       "hUInXaiEMMECAzvUQlHupVb7OpV7MEqQWkQPkcQWHgr6GEPoUKJlHRRye79mZ9xdZacIfOA3vPN7\n",
       "nnnn9348z/sCwAK2kL3cSmIebiUxSacfyBWTFVpOYDB181yPw29bKyYrtA4BwKs77CeULTQ9o6vV\n",
       "I1eKSOfmiXEAAc2hmM+2dkQFHhhFpHPbIQDJ6QwP2NpNOvBcLyKdW7sAqpyKSdjahzSCbBHp3PwG\n",
       "B045FBNSbS+jFFoR6dyqYhxodigmYN+qq4D7pyDnB6BECx6lJYa5zfqxh4ejDOOplVSv41GYRoTI\n",
       "LzKCzD6Bd6ngCocSOL5ZP/Zwr8pBap6zmZEytDoRGyL5+H1mOi5Id2YQrrRyWIQ1BpLYrsxUGxt0\n",
       "w8PNpU9wyGmHYvxx0XgNBJcsUsEZ+PX6fYIx/DrOBBDYqL7zcFPZEgepVn8vJqLaSN8amjSMm3Hd\n",
       "hns5EpeXN+qHh4t2giMcJ2I6ohB7ybcbrtJyXXCLZTLFNGVtZEDFXlhiLsKT8Bobi2Hh7Uf29NNl\n",
       "SnJUGWhV9DW3KBTzEaOhZEYtN7GgObdvSYmJ28hgFMNcDNsnw5RAOEkWpMRoAA1Xjp5FH93AaQ6J\n",
       "nHHy16QnLT+iYR/Hsd83dmn9gUzdVppYk4Q6OxmI+n4xMcoPSl1AN0mxXQYWVUGxR+GNhsvzKtZE\n",
       "ZSAYvJ1K9cCVdemNt1i3tajxY3H9QKjbSgNrS17O37WRSm3Lbz4zKTryuamrOdARSrTjIYiH1C8C\n",
       "WLhLp1sFUpyjjS153K+Bi7mB0zKKVoq62zsnxNu1cjuAkWGViwnxfJ6kS/kBeFZaxQ0R7tcC/WQX\n",
       "vwPHNvY3rRtUzDfSq4+k2H0oWfJiPqh7LC3ZTrVyR90kvmS4mDD7k9IL+c5OcsEovV2EIcI/QWrU\n",
       "+DE7YN7zQgMjTExDBk+PqeRWAXcvGnLuPvroZW6X9sbcrLkyYgh5nSwx3tdNkSyg49NdWfjz+SWy\n",
       "/0uPAgIWfgKeaVbrGMDyYQH3mBhklFwwhlceos+aU+aW0Nwlkitdroal8bjFzC3691CbmQWe0mga\n",
       "YIWz4VlDrPGpqD+fgc9w6SdRlV8BugpfdjH3HCbMQ2m23DrN/sOhfVCAW+cBcWDB1yZW2DoOYwX3\n",
       "f7Y/f+H/oPmDeTUAAAAASUVORK5CYII=\n",
       "\" style=\"display:inline;vertical-align:middle;\" /></a><br>"
      ],
      "text/plain": [
       "general_notexists_notPy: notexists_{y_{1}, y_{2}, ..., y_{n}} [not](P(y_{1}, y_{2}, ..., y_{n}))"
      ]
     },
     "execution_count": 24,
     "metadata": {},
     "output_type": "execute_result"
    }
   ],
   "source": [
    "general_notexists_notPy = NotExists(y_1_to_n, Not(P__y_1_to_n))"
   ]
  },
  {
   "cell_type": "code",
   "execution_count": 25,
   "metadata": {},
   "outputs": [
    {
     "data": {
      "text/html": [
       "<strong id=\"general_notexists_notPy_st_Qy\">general_notexists_notPy_st_Qy:</strong> <a class=\"ProveItLink\" href=\"../__pv_it/common/89d6ea0d585195179b1060b87c9467e864c1d3760/common_expr.ipynb\"><img src=\"data:image/png;base64,iVBORw0KGgoAAAANSUhEUgAAAZUAAAAaBAMAAACN5NyxAAAAMFBMVEX///9UVFQyMjLMzMyIiIiY\n",
       "mJi6uroQEBBmZmYiIiJERESqqqp2dnbc3Nzu7u4AAAA+Hi0BAAAAAXRSTlMAQObYZgAAAAlwSFlz\n",
       "AAAOxAAADsQBlSsOGwAABK1JREFUWMPdV11oHFUU/vZvdvZnJhuaF6UP44OPmgULQfOQEVsaG8VF\n",
       "QwgKdpUWSgvJgrUgMRCVFFJQF5TafdFt/XvSrlCxgaJLSRFJKWvpQxVrJxLwQUuj1YcWmvXcn5m5\n",
       "s7upOxX3IQfO7Oz5m/nOPffcMwBwDZuHljcRls82EZZyj59ndC3skhqSFyrvvXKot1jGuhZ2SXsk\n",
       "Awl7rKdQMnXvNn7yVv+Jt1qE4SleEAzo+d5i+UW577OAT50WYXh6UDJS6C2WeeV+xAa+sVuE4WlS\n",
       "MqI9xlJS7p/KE9dbhOEp6QjGvt5iyVjKn5OM8y3C8BQtCMaO3mLR1V1+C4j9JYWr8zBznsYcLWDl\n",
       "TnFU82yO82LlZmUm1MvMBbLc6NrP9nPoEuEwvqtJYf0rJNY8VTZTwu47hVPNE5ZgOirDrUtVNsKl\n",
       "UcIxEWJBxE+qxg41omMU44/z54pSGKstIFI1n5bWw3oZ95rn+50NoglzN6MlwUb1rrBoD8CYVYvi\n",
       "X0kTxZUsyv/fA2k3sSQ0cRBJe9vjUuIkbRzUoW80lAhzF9iaYDql7gbLIvER6MWQp0AQS5/lY4G2\n",
       "jpE8j8tp2ond6CsaNzZMDTeX9yXB2SJh2ZODzLD2KCLtQ4KndrHwZ+yms0l1CJihLd6yV2MulhG3\n",
       "DzChbmEnfCyvI15KOBtj4eaTz2xn2zdTFhx1MGba6zHZ4Vf7nKG29fTVLpYIy+i3uKg6BM3QFu80\n",
       "v6bdwrhMR4u7RkyYzuG4wML3yHEmQLZM1dRGzICZmxMvY5bt/apgSu2Y8Vs5XjU+Z2Y/L2KXdupw\n",
       "cIZl6iCWJMvofdgvHPCj45odGA2WHVcL2u/1T5cGoTRVPaf9zbGYfzLRa5im5vawg+uWFPGL94+Z\n",
       "G6sW1mVLJ174oFI5hEg9Yg+/z8NuxUAS14N5YOoWLPSc2G18IRxii45rVjLXgr6klnePiH3q7+Yj\n",
       "zY/czUtCc+vobbEuFRZtZentBlh+U+y9jkFeUnPSgJtHbLZNkCoKHuf1WkzmIbAcxUsGWsqMqSf3\n",
       "nlGwpOc0J1Xgr0cOSDmuWaO1zEidOPxc3asxvNOp+rkwawksGdGIz7I6vAJ83T47ONI8mdfnqAH8\n",
       "AMFb+Fvkp8Gw/E5RNUrsJzDr9Me9MPWpakrd+7PPP3Y/L1DuQFikGdJFxVfEy+zi33vb/UGw03R4\n",
       "Fr/WBJYsf1FzBsaHD9EXQfvnQBbS/CpSw3kxmc67X5WZ+RMcy1ANp5+16DMAsRkMNWKz7DLD1ZH8\n",
       "RbUnXx7odxpI03HJHAiLNMMbUHxlvC2G5X+LpzuNCiR8l8oRPw0uUb9g2bUjdSSbzTVqKe3zCzE3\n",
       "fwHxc/yI5Ay+Va/hY44FNbORLuBCnOD5K8rVKeyYUs997KOH0PnHHViNCbOsY6u+Il45PkELJx3N\n",
       "aqejr4ovva7BXj4z7vafeOdxyDfn2fEzNKBZ2PZqDZoTsV9EtHkTmPI8p7h6BWcKASxX7yEAb4I5\n",
       "xHYuu2aDzbLiK+KZuQxlT3efdqlTkV36D+Pqk5IF7X1CDmnQxmV5+iNgwVMHsESPssp1FAfPzPNV\n",
       "4oUZ3XpGjbZjqzty/u8X+wfkp2y7/Qz71wAAAABJRU5ErkJggg==\n",
       "\" style=\"display:inline;vertical-align:middle;\" /></a><br>"
      ],
      "text/plain": [
       "general_notexists_notPy_st_Qy: notexists_{y_{1}, y_{2}, ..., y_{n} | Q(y_{1}, y_{2}, ..., y_{n})} [not](P(y_{1}, y_{2}, ..., y_{n}))"
      ]
     },
     "execution_count": 25,
     "metadata": {},
     "output_type": "execute_result"
    }
   ],
   "source": [
    "general_notexists_notPy_st_Qy = NotExists(y_1_to_n, Not(P__y_1_to_n),\n",
    "                                          conditions=[Q__y_1_to_n])"
   ]
  },
  {
   "cell_type": "code",
   "execution_count": 26,
   "metadata": {},
   "outputs": [
    {
     "name": "stdout",
     "output_type": "stream",
     "text": [
      "These common expressions may now be imported from the theory package: proveit.logic.booleans.quantification\n"
     ]
    }
   ],
   "source": [
    "%end common"
   ]
  },
  {
   "cell_type": "code",
   "execution_count": null,
   "metadata": {},
   "outputs": [],
   "source": []
  }
 ],
 "metadata": {
  "kernelspec": {
   "display_name": "Python 3",
   "language": "python",
   "name": "python3"
  },
  "language_info": {
   "codemirror_mode": {
    "name": "ipython",
    "version": 3
   },
   "file_extension": ".py",
   "mimetype": "text/x-python",
   "name": "python",
   "nbconvert_exporter": "python",
   "pygments_lexer": "ipython3",
   "version": "3.7.3"
  }
 },
 "nbformat": 4,
 "nbformat_minor": 1
}
