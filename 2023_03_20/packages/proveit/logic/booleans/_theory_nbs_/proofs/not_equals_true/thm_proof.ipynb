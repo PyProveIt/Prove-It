{
 "cells": [
  {
   "cell_type": "markdown",
   "metadata": {},
   "source": [
    "Proof of <a class=\"ProveItLink\" href=\"../../../../../_theory_nbs_/theory.ipynb\">proveit</a>.<a class=\"ProveItLink\" href=\"../../../../_theory_nbs_/theory.ipynb\">logic</a>.<a class=\"ProveItLink\" href=\"../../theory.ipynb\">booleans</a>.<a class=\"ProveItLink\" href=\"../../theorems.ipynb#not_equals_true\">not_equals_true</a> theorem\n",
    "========"
   ]
  },
  {
   "cell_type": "code",
   "execution_count": 1,
   "metadata": {},
   "outputs": [],
   "source": [
    "import proveit\n",
    "theory = proveit.Theory() # the theorem's theory"
   ]
  },
  {
   "cell_type": "code",
   "execution_count": 2,
   "metadata": {},
   "outputs": [
    {
     "data": {
      "text/html": [
       "Under these <a href=\"presumptions.txt\">presumptions</a>, we begin our proof of<br><strong id=\"not_equals_true\">not_equals_true:</strong> <a class=\"ProveItLink\" href=\"../../../__pv_it/theorems/b81279305ef5bf92e6ddf38d9965bf29373d3b1c0/expr.ipynb\"><img src=\"data:image/png;base64,iVBORw0KGgoAAAANSUhEUgAAAJcAAAAXCAMAAAAx8S2TAAAAPFBMVEX///8AAAAAAAAAAAAAAAAA\n",
       "AAAAAAAAAAAAAAAAAAAAAAAAAAAAAAAAAAAAAAAAAAAAAAAAAAAAAAAAAAAo1xBWAAAAE3RSTlMA\n",
       "q1RmmUTNIjK7EInv3Xbn9enzK1aD6QAAAAlwSFlzAAAOxAAADsQBlSsOGwAAAdpJREFUSMfNl9ly\n",
       "wyAMRQGzb134/3+tsU0ssCCk40yrh0zsCHG4SKAQ8gZTfzh6YJHBWSTqw213uIj5kz6e2XIPFnPw\n",
       "SSbMRxuAGIBlnJhBuHhEuEdAWwnEEspl9GU1EaxlFVMXwZS5Ry5eyc5pQparKRlxLfyAy+bYPVwe\n",
       "PjjlkkbkUkMu4lem5VifvCm7YBwVSUzX9QpKxlwyM/kt4by7aRthHJ4T7FpOWCZXXC6D801oAwq3\n",
       "qmE+TPLrnABDrFLp5NrK+/gsldfjWrLoipaPMpmHKTEqh9pzs8DqJalEZ+SquZgvUjkBVKxSYsTl\n",
       "rsnjz0DRcL7WYxtAoDtQcelUXoFsFdrHOa7Gs+Gy+28pzMhVcwl/lOIC3kYi6RxX49ns4yFL8HV+\n",
       "fX2fJ3t3H8NxdEkLJiNcTnG1nrt7iS8W/CKS+M1Y5/0+qfIU7M06oce5nNkt4J5niW8xy/j6wGed\n",
       "+q64ymFDNXjlHE12qBfFPfeU3aCtSWkThuUv7rlcD3n3vRfI3uTa1s+5rp5HTD3fbPQ6sNChhuWP\n",
       "cHHcE1y6XZP25as/v9gSzfIkxZO8xzz7l/IJPSXXVGfzcvtjByPCjFxGvYUrdxE90zNt+Fx/elO7\n",
       "+M/+3PzWfgCOTg5MBiAUlwAAAABJRU5ErkJggg==\n",
       "\" style=\"display:inline;vertical-align:middle;\" /></a><br>(see <a class=\"ProveItLink\" href=\"../../../__pv_it/theorems/bf4f0f3aadce3e764ded53758cadf195ef692a500/dependencies.ipynb\">dependencies</a>)<br>"
      ],
      "text/plain": [
       "<IPython.core.display.HTML object>"
      ]
     },
     "metadata": {},
     "output_type": "display_data"
    },
    {
     "name": "stdout",
     "output_type": "stream",
     "text": [
      "not_equals_true may now be readily provable (assuming required theorems are usable).  Simply execute \"%qed\".\n"
     ]
    }
   ],
   "source": [
    "%proving not_equals_true"
   ]
  },
  {
   "cell_type": "code",
   "execution_count": null,
   "metadata": {},
   "outputs": [],
   "source": []
  }
 ],
 "metadata": {
  "kernelspec": {
   "display_name": "Python 3",
   "language": "python",
   "name": "python3"
  }
 },
 "nbformat": 4,
 "nbformat_minor": 0
}