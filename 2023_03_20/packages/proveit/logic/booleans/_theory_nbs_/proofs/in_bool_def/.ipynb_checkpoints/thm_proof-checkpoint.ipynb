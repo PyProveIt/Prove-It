{
 "cells": [
  {
   "cell_type": "markdown",
   "metadata": {},
   "source": [
    "Proof of <a class=\"ProveItLink\" href=\"../../../../../_theory_nbs_/theory.ipynb\">proveit</a>.<a class=\"ProveItLink\" href=\"../../../../_theory_nbs_/theory.ipynb\">logic</a>.<a class=\"ProveItLink\" href=\"../../theory.ipynb\">booleans</a>.<a class=\"ProveItLink\" href=\"../../theorems.ipynb#in_bool_def\">in_bool_def</a> theorem\n",
    "========"
   ]
  },
  {
   "cell_type": "code",
   "execution_count": 1,
   "metadata": {},
   "outputs": [],
   "source": [
    "import proveit\n",
    "from proveit import l, x, A\n",
    "from proveit.logic import bools_def, TRUE, FALSE, InSet\n",
    "theory = proveit.Theory() # the theorem's theory"
   ]
  },
  {
   "cell_type": "code",
   "execution_count": 2,
   "metadata": {},
   "outputs": [
    {
     "data": {
      "text/html": [
       "Under these <a href=\"presumptions.txt\">presumptions</a>, we begin our proof of<br><strong id=\"in_bool_def\">in_bool_def:</strong> <a class=\"ProveItLink\" href=\"../../../__pv_it/theorems/9062d7de9a4e0c6a092bb74536354cfce646b9000/expr.ipynb\"><img src=\"data:image/png;base64,iVBORw0KGgoAAAANSUhEUgAAAVMAAAAVBAMAAAAJExCCAAAAMFBMVEX///+IiIgiIiIQEBB2dnbu\n",
       "7u5ERETMzMzc3NwyMjK6urpmZmaYmJiqqqpUVFQAAAB6qHgnAAAAAXRSTlMAQObYZgAAAAlwSFlz\n",
       "AAAOxAAADsQBlSsOGwAAA6xJREFUSMeNVk1oE0EUfpsmadJk2/Wn4qFiSBFRUWJVBA/agwcv1uih\n",
       "4KWsglr10Krg0W5bEQpiAxoQqTZioQgKQQqiLTVeBO0l/iAIQntQhF4qImpArfPzZn9nNj74ht3Z\n",
       "/d775u2btwMgMwuhNNnDBCLEEv8xI1eiUqNVOYiN+J60n651LALclbDWIUj8gsJxkyEjhRBYIIEF\n",
       "OvHR+/wdgti4jxpvMkZ6SqBVAk71Tg5iya++Z6ksswVok5BkBGoPWG4qDp7SiZued2IFDupqOSC1\n",
       "ErVMgGLA81EEsXlJZJ0lNJmn42c6nINwArxmY9HBJZp/05uDCge9XLICUtNV8iXmAp5nEMRmf6mk\n",
       "pst0fE6HUxBOQKlzDug6o1XPOw0IYgcO9fOLNdlswZZKrhryfs85BHF3+adKKuyiQ8QuzxACSqWB\n",
       "EGmSvqT3nQ8I4s9Yz1dxv9XJavNVUmBJf7HqBQ5ig9ofpdQxJo04TVUhnIBSaSCBjmx2p/edKQTx\n",
       "B/NMUqLoFEDryk802oJ/53RyECvrv5VSu8SGjwiSioBSaSCBxwAn2KT9ScfE6uEhDDBnScuRumnf\n",
       "FvJmmuXjEdvY29yrJx2p2vjds+3dUl+y8QvACkFyCG53tlQaSOAaJJi32G4hZyuCLBdG2bOke1tp\n",
       "r0iO9ZwvB5EqB/0Uib/KrL5lI9nLGwRJRUCpNJBAPB8tsUzb9bIHAdrZ6SXWHC7Q1ZooFcwJgEZ/\n",
       "e2kocZAdOD37Qyl1gBegpZcFSUVAqTSQgG7wnE1uD0g9DNCSoRfd7qyCGScfLaeSGiOaviml3sPO\n",
       "z0sqjIBSaSABKLA2B8adQAGQlUdyoru4pJK16RlfcdkFkCJoV9bqG36XuWhXjUOQ1ioNJAAH2fbW\n",
       "4ImQcwzRVBG/PM3wSCVO0qb/N2ZwsP/huDKrL/hd26JNUhHEtjIdwDBb9ySsEu90IYapM/4fue1I\n",
       "7YyuLtttxjHRUBL0M/RZKqm8CcKRgk1SEVCqaIIsYDP7IU3tXxLd6jxH93IR9L4a09Rzhj/Urp9k\n",
       "JyuIlHyOGzMMsb5aHt4v3wgeqvg/YzN24aogKQikFnawWqCBBPB0BzDaL/pOP4fbJo5nPQe1oYCW\n",
       "jYjwA2smSAq3IRfsE1eLOAnQMwU/V6htJjAjzhWhlqoESfUDzbgDpvZC7NktcdeLCMmOGZiKWxyh\n",
       "dkVCqhtIQGbdnlYqM0mImMkRar0SUt1AYUlIGBxqWyuZG0SEmGbJSPUCIf4BYDUNTgcYFQcAAAAA\n",
       "SUVORK5CYII=\n",
       "\" style=\"display:inline;vertical-align:middle;\" /></a><br>(see <a class=\"ProveItLink\" href=\"../../../__pv_it/theorems/a9fd2b67f3555993dbe2c6e49cbc8da900e23b260/dependencies.ipynb\">dependencies</a>)<br>"
      ],
      "text/plain": [
       "<IPython.core.display.HTML object>"
      ]
     },
     "metadata": {},
     "output_type": "display_data"
    }
   ],
   "source": [
    "%proving in_bool_def"
   ]
  },
  {
   "cell_type": "code",
   "execution_count": 3,
   "metadata": {},
   "outputs": [
    {
     "data": {
      "text/html": [
       "<span style=\"font-size:20px;\"> <a class=\"ProveItLink\" href=\"../../axioms.ipynb#bools_def\" style=\"text-decoration: none\">&nbsp;&#x22A2;&nbsp;&nbsp;</a><a class=\"ProveItLink\" href=\"../../../__pv_it/axioms/0ed31a4273b0db746a43c9d8e01361d0476217f00/expr.ipynb\"><img src=\"data:image/png;base64,iVBORw0KGgoAAAANSUhEUgAAAGYAAAAVBAMAAABGR4Y+AAAAMFBMVEX////MzMxmZmaqqqp2dnaY\n",
       "mJju7u7c3Ny6urpUVFQyMjJEREQQEBAiIiKIiIgAAAC05kmmAAAAAXRSTlMAQObYZgAAAAlwSFlz\n",
       "AAAOxAAADsQBlSsOGwAAAQVJREFUOMtjYMAO2DqwixcXAIm3p9evudmAIfeqDbsextkJQHJDH/uy\n",
       "GehSzN8YGJjugsEEmFgrmOQG8Te0Mrhzo+thuQDR+gBJzA4hA9QTzEmGHi7S9UwPIVVPX95NB1L1\n",
       "9K75qwbi6YKD6SZYhmkBLj18ByBue9qVgGZPTQAuPeyfIXq4OdAcV7mCAZcehszFED0MG9BiWzsB\n",
       "px6vBqieBWj+4Z6ASw8ohYD1oMhhhFsCSriBw6CFwc8JX1iz/UIP61en92NJ11A9HODgu5sAdvgZ\n",
       "sMOhMlgAigxzAi4Z3HpYGIjSA45tGMhDloGmECwAHNswgBKoOQG49DAUTcYuXgIUBwDjR3AmSCFG\n",
       "3gAAAABJRU5ErkJggg==\n",
       "\" style=\"display:inline;vertical-align:middle;\" /></a></span>"
      ],
      "text/plain": [
       "|- BOOLEAN = {TRUE, FALSE}"
      ]
     },
     "metadata": {},
     "output_type": "display_data"
    }
   ],
   "source": [
    "bools_def"
   ]
  },
  {
   "cell_type": "code",
   "execution_count": 4,
   "metadata": {},
   "outputs": [
    {
     "data": {
      "text/html": [
       "<strong id=\"Ain_boolSet\">Ain_boolSet:</strong> <a class=\"ProveItLink\" href=\"../../../__pv_it/_proof_in_bool_def/30aba06e963c2e5735460bee5dc3a063360df3b90/expr.ipynb\"><img src=\"data:image/png;base64,iVBORw0KGgoAAAANSUhEUgAAAGYAAAAVBAMAAABGR4Y+AAAAMFBMVEX///8QEBAiIiLu7u5ERES6\n",
       "urqYmJiIiIjMzMx2dnZUVFRmZmaqqqoyMjLc3NwAAABb1yYoAAAAAXRSTlMAQObYZgAAAAlwSFlz\n",
       "AAAOxAAADsQBlSsOGwAAAS9JREFUOMtjYMAOmEOxi795AGO9xZCrDcauh2OJAZR1H12K5zMDwyYl\n",
       "ENCCi4WBSZYFUBX/0fVwKoCp48hix5FlGLjXPyBZz7z5DRBGiZLSBeL08BXUHwAzYouJtoeb4XwC\n",
       "WO9l4t0Ww9A/AUTzInzFfQGXHnYBMLWB4T04AHkR8g8TcOnh+wPW6b17vQOI0QiKDzDr1VUGXHoY\n",
       "rO4ACXMGBn6wI00Qsb3FAKeeuQFgpzEwgR3JhJCHxjYWPaAUwsAKdDrvB7AjC7CGGzNquIGMfwgy\n",
       "9h+YfwerHvsL6GFt8v8yA4//X3BgW7kaoOoBJ0smZQZwghUEJ1hY2oGDSCfUtAMBh7GkRCwARWYC\n",
       "cXqgsQ3JsgXIMtAUggVAYhuqH0XGMAGXHobXa7CLvwSKAwAluVGp9gwp1gAAAABJRU5ErkJggg==\n",
       "\" style=\"display:inline;vertical-align:middle;\" /></a><br>"
      ],
      "text/plain": [
       "<IPython.core.display.HTML object>"
      ]
     },
     "metadata": {},
     "output_type": "display_data"
    }
   ],
   "source": [
    "Ain_boolSet = InSet(A, bools_def.rhs)"
   ]
  },
  {
   "cell_type": "code",
   "execution_count": 5,
   "metadata": {},
   "outputs": [
    {
     "data": {
      "text/html": [
       "<strong id=\"in_bool_set_def\">in_bool_set_def:</strong> <span style=\"font-size:20px;\"> <a class=\"ProveItLink\" href=\"../../../__pv_it/_proof_in_bool_def/f7f3e3b2dbd6b24764d9eac7e2783fa75058b6d60/proof.ipynb\" style=\"text-decoration: none\">&nbsp;&#x22A2;&nbsp;&nbsp;</a><a class=\"ProveItLink\" href=\"../../../__pv_it/_proof_in_bool_def/1d8d5e787b44d5fc8a31fb219b84219e99858a7e0/expr.ipynb\"><img src=\"data:image/png;base64,iVBORw0KGgoAAAANSUhEUgAAALoAAAAuBAMAAABt1x6XAAAAMFBMVEX////MzMxUVFRERES6uroi\n",
       "IiIQEBCYmJhmZmYyMjLu7u52dnaqqqqIiIjc3NwAAACW8nlqAAAAAXRSTlMAQObYZgAAAAlwSFlz\n",
       "AAAOxAAADsQBlSsOGwAAAzdJREFUWMPtl01oE0EUx1/abpNskxiEem2ugtAgCiI09iAWPwpBXEHJ\n",
       "wUNF8BT0oreCSJX2kINQKKLBnsUS0JOoF8VatAuCooe6KBV7qldFrDtvJtudzJvd582DA29mM7Pv\n",
       "vy9vJ29+AYAA6OYeJqdLb0Rvc+ptxWc4bBgLH47RDjsPht0kU31FDnd75ws/Aa57op3sTg00cdgr\n",
       "YmqyxN2W1NrqXRiq4/A6/kAfh4eiW2Cp52QQudHg79SvsNQH5fDkaVlevPW8Fkd9sM1RX5Ybwf8k\n",
       "X+7Rj8zY86zEz8rEwCreXVrgZmaowlGfx/4EjCxhRNvZz7Vs6u9El8Xlnk1ltAb207CJseS3F742\n",
       "beqbIomFc5zYp/AXdeDGaFVc7BKh4NXnW2BTd3eH8pnvbPX7ADswzYvRfOZa26Y+JB48wIq9IRMD\n",
       "Dt7tbC/0V2zqq+K5hTon72PqF57Hb1r0yT3jauqP8K1WObF3xAsUof7Gj7dJ9QctY0fmljjqw2Gy\n",
       "txagcOgH3n5vX1tXn8CEnQ3lPO/0ec+rKHVnnKPulPXPx/frlUC2V/FbUH2dVWey05YFTX3JUJ/h\n",
       "1fea7VSJbTnXj6/cFCWjylNftMyXfsWepJ0IF8QmYB59Jd+y8G0PfX9HFII1+N/+6Rakw0/AmNFf\n",
       "vTKkJSsxqTbJRqwu+fjSkJZsxNQtsAYb2RwipHovTdCSlZii+o6HeZ8ocBkfkh1kIc230QQtWYkp\n",
       "Ukc2ygq//jIkO0h1Ub5CGySIyVSXbFTvpjrJQR0CF9GWTWIi1CUbPQ5tDlIclPo82qxBTJS6ZKMN\n",
       "FX+ig1LvoM0bxKSfxFJdslFfWR28ukMOHbyKpn4VrWEQExW7ZKNMBZw2pDgo9RdoUwYxUeqKje7A\n",
       "SwKxSPURtCmDmCh1xUYroT6kOCj1I2gNg5iovEs2AidTJRCLzPtztDGDmKjYFRsVL40TiEXGfhmt\n",
       "YxIToa7YyD1DIhalLnf6sElMWpuAOBvNkYgV+xcWIdUpECZoySmnnQHryYhFFPg6mio3KW2GiVja\n",
       "X0lhtQRiiiKpMhEral+ULSYQU8TyAROxtMfXFC1ZiUm1NTZidU/GAO0P300UCtl5FzsAAAAASUVO\n",
       "RK5CYII=\n",
       "\" style=\"display:inline;vertical-align:middle;\" /></a></span><br>"
      ],
      "text/plain": [
       "<IPython.core.display.HTML object>"
      ]
     },
     "metadata": {},
     "output_type": "display_data"
    }
   ],
   "source": [
    "in_bool_set_def = Ain_boolSet.definition()"
   ]
  },
  {
   "cell_type": "code",
   "execution_count": 6,
   "metadata": {},
   "outputs": [
    {
     "data": {
      "text/html": [
       "<span style=\"font-size:20px;\"> <a class=\"ProveItLink\" href=\"../../../__pv_it/_proof_in_bool_def/e9986d0d841ab84cb6270c28a95b5c0679a800f00/proof.ipynb\" style=\"text-decoration: none\">&nbsp;&#x22A2;&nbsp;&nbsp;</a><a class=\"ProveItLink\" href=\"../../../__pv_it/_proof_in_bool_def/494cf82ce56dfc5ec75e5eaf9e14e299f7ed09a90/expr.ipynb\"><img src=\"data:image/png;base64,iVBORw0KGgoAAAANSUhEUgAAALoAAAAuBAMAAABt1x6XAAAAMFBMVEX////MzMxUVFRERES6uroi\n",
       "IiIQEBCYmJhmZmYyMjLu7u52dnaqqqqIiIjc3NwAAACW8nlqAAAAAXRSTlMAQObYZgAAAAlwSFlz\n",
       "AAAOxAAADsQBlSsOGwAAAu5JREFUWMPtlz9oE1EYwL/8ufxp7mKWujaDm0MPVNChNZMitRDEFAsZ\n",
       "HNLFxaIOunURhXboZCCIhmYWQmbRLoqlFA9EhAp6IFUy6drF+t73Xnq5vi/vNbyp4IPv3iXH9+uX\n",
       "L7nvfgWAEDRLe/EYy9vErX/k3YVL+0tnAOYt6dtie3nk7VQ66G9UwFu2gk+s4+YeKPTlQugDtKzo\n",
       "OVFcbjpU6NnNMsBDK3pGbG/elsTJp1pt/ZDOzjJtG/oWHovBd/HlXtuNak/+6gLkrRq/KhoDH5FS\n",
       "bEWd2f18lu2Fsg29icfrMNXlez6M6It3b7GuZHmfcjVc4/+hOh5X4Dem5oe/Ve8B+yTubZvaG3jv\n",
       "XHw67fOT07xEX9LBnwNI/LGmvwI4VeUnneHawU8BpK1qr4vGgIMUJ05njXKrNn2fYcFAkMcOeEGM\n",
       "vsO+Vd+m9h6Ln5z2F18+j+jdwlf2mXJdG/oka/ZBC9zL+4jZOC/uTe/ZOZyR4FRs6E4p/nrugpgE\n",
       "g7VnNWeyK/rrT+zm+6z2atG3o3e0V1OWj75ioLv6Df6vE7lCsxSF41pUUQbaEm1M0Zo/nmJFKx2I\n",
       "QFsaYUzwGAfvDdWZRiXIgQvwRQS3pVHGxNcOHvFhnuQDLhGAPsHF+yffxuC2NMqYIjo6U5bnpUqg\n",
       "TxB0Pr5YZAhjUunCmaqDVusSBB3uYGypxkTQhTO9ZrEGhgRJb2KsKsZE0YUz9WX92gRJ72E0FWMa\n",
       "/FCG6ehMkCzJB288If5Ml/RHGHXFmKjahTMlyuC0wZAg6e8xGooxUXTpTC/gA6FYJH0Ko6EYE0WX\n",
       "zrTN+GBIkPQrGHXFmKi+uwLjJHxCsci+v8OYUYyJql06k3evQigWWft9jJ5qTARdOtPEIqlYFF38\n",
       "0idVY4qtq6Il0pnWSMUa+i+sVltYwibdBB7clpyS6Rmwp1csYsBXMeS4gbGcyZwwGI6zRmMinMmU\n",
       "AD9kdIzGRDiTKeGwZm5LemMinMmU4IUY/wB8NvE1Is21HwAAAABJRU5ErkJggg==\n",
       "\" style=\"display:inline;vertical-align:middle;\" /></a></span>"
      ],
      "text/plain": [
       "|- (A in BOOLEAN) =  \\\\ ((A = TRUE) or (A = FALSE))"
      ]
     },
     "metadata": {},
     "output_type": "display_data"
    },
    {
     "name": "stdout",
     "output_type": "stream",
     "text": [
      "in_bool_def is now readily provable.  Simply execute \"%qed\".\n"
     ]
    }
   ],
   "source": [
    "bools_def.sub_left_side_into(in_bool_set_def)"
   ]
  },
  {
   "cell_type": "code",
   "execution_count": null,
   "metadata": {},
   "outputs": [
    {
     "name": "stdout",
     "output_type": "stream",
     "text": [
      "proveit.logic.booleans.in_bool_def has been proven.\n"
     ]
    }
   ],
   "source": [
    "%qed"
   ]
  },
  {
   "cell_type": "code",
   "execution_count": null,
   "metadata": {},
   "outputs": [],
   "source": []
  }
 ],
 "metadata": {
  "kernelspec": {
   "display_name": "Python 3",
   "language": "python",
   "name": "python3"
  },
  "language_info": {
   "codemirror_mode": {
    "name": "ipython",
    "version": 3
   },
   "file_extension": ".py",
   "mimetype": "text/x-python",
   "name": "python",
   "nbconvert_exporter": "python",
   "pygments_lexer": "ipython3",
   "version": "3.7.3"
  }
 },
 "nbformat": 4,
 "nbformat_minor": 1
}
