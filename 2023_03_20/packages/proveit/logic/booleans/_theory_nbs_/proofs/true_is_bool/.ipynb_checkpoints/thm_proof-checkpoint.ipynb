{
 "cells": [
  {
   "cell_type": "markdown",
   "metadata": {},
   "source": [
    "Proof of <a class=\"ProveItLink\" href=\"../../../../../_theory_nbs_/theory.ipynb\">proveit</a>.<a class=\"ProveItLink\" href=\"../../../../_theory_nbs_/theory.ipynb\">logic</a>.<a class=\"ProveItLink\" href=\"../../theory.ipynb\">booleans</a>.<a class=\"ProveItLink\" href=\"../../theorems.ipynb#true_is_bool\">true_is_bool</a> theorem\n",
    "========"
   ]
  },
  {
   "cell_type": "code",
   "execution_count": 1,
   "metadata": {},
   "outputs": [],
   "source": [
    "import proveit\n",
    "from proveit import A\n",
    "from proveit.logic import TRUE, FALSE, Or, Equals\n",
    "from proveit.logic.booleans import fold_is_bool\n",
    "from proveit.logic.booleans.disjunction import true_or_false\n",
    "from proveit.logic.equality import unfold_not_equals, sub_left_side_into\n",
    "theory = proveit.Theory() # the theorem's theory"
   ]
  },
  {
   "cell_type": "code",
   "execution_count": 2,
   "metadata": {},
   "outputs": [
    {
     "data": {
      "text/html": [
       "Under these <a href=\"presumptions.txt\">presumptions</a>, we begin our proof of<br><strong id=\"true_is_bool\">true_is_bool:</strong> <a class=\"ProveItLink\" href=\"../../../__pv_it/theorems/e3b19f0f51dc50d19100f70b446827a15792e4b10/expr.ipynb\"><img src=\"data:image/png;base64,iVBORw0KGgoAAAANSUhEUgAAADYAAAAQBAMAAACvnpHFAAAAMFBMVEX///92dnYQEBDMzMzc3Nzu\n",
       "7u4yMjJERESYmJi6urqIiIiqqqpUVFQiIiJmZmYAAAAWQcNMAAAAAXRSTlMAQObYZgAAAAlwSFlz\n",
       "AAAOxAAADsQBlSsOGwAAAKBJREFUGNNjYMACuC6VfdM9ycDw9i4I3EGVZOdc4BYzAcTahaGRnbOB\n",
       "0aEApxzHhgOocsvv3k2AyyWgyE1bitDH4yGALMeSijBz6dqDDMhybA4IuWv69wJQ5JDdwtWZiixn\n",
       "BPJpAVSOoWAislw4sj6GAnZkOV5UOTZkOa4FKHK7UPyXjZATYFz4AMSaAROKqQyAGJBUDo4HFDCx\n",
       "FhJmEAAA5+0316BwS1YAAAAASUVORK5CYII=\n",
       "\" style=\"display:inline;vertical-align:middle;\" /></a><br>(see <a class=\"ProveItLink\" href=\"../../../__pv_it/theorems/afebcf07176199c7df41cc36bf6e5dd0af111dfa0/dependencies.ipynb\">dependencies</a>)<br>"
      ],
      "text/plain": [
       "true_is_bool: TRUE in BOOLEAN"
      ]
     },
     "execution_count": 2,
     "metadata": {},
     "output_type": "execute_result"
    }
   ],
   "source": [
    "%proving true_is_bool"
   ]
  },
  {
   "cell_type": "code",
   "execution_count": 3,
   "metadata": {},
   "outputs": [
    {
     "data": {
      "text/html": [
       "<span style=\"font-size:20px;\"> <a class=\"ProveItLink\" href=\"../fold_is_bool/thm_proof.ipynb\" style=\"text-decoration: none\">&nbsp;&#x22A2;&nbsp;&nbsp;</a><a class=\"ProveItLink\" href=\"../../../__pv_it/theorems/a19ea2834ec6a52c50351b969cae0bb03d6ff4fe0/expr.ipynb\"><img src=\"data:image/png;base64,iVBORw0KGgoAAAANSUhEUgAAAO0AAAAXBAMAAAAVatXDAAAAMFBMVEX///+IiIgiIiIQEBB2dnbu\n",
       "7u5ERETMzMzc3NwyMjK6urpmZmaYmJiqqqpUVFQAAAB6qHgnAAAAAXRSTlMAQObYZgAAAAlwSFlz\n",
       "AAAOxAAADsQBlSsOGwAAArFJREFUSMe1VT2IE0EUfsntbpJNNq5/YOcRQThEiIcgWOgWctioa3Ol\n",
       "rMoFRcFgYamLVgHxIhIQEY1weo1CigPPHzC2J8gKNoLoFWJhkyu9Qs43b3ZnJslmA+f6in0z3zcz\n",
       "386b92YA/o/5myb/yTIBucYAuufi+vQvgCfYXmXA17R1P3P3eAA2TLtxpg2ZLsBr1r+fsqzeJGdt\n",
       "DOl2Nd8DaAFcx27eS1m32OWu5w/plgKM8AeAggugBSnrTnB3/FQ9PNhzlSmhi7GYcKGEv1ZI+3i/\n",
       "0Ddv7+YbMu+6Yr/l2w4Kouh0pXIwbd0lHmb4zuPdcEWcd277gV7DWL8EmCPQDQfzlPAlJOtAtMbQ\n",
       "D+n7Am440Je2hjl1dB/OKmGs70Ceakk/xCk+YkWB0GZq52s1GzpRf4AOf1fQ+4F352llaCp5lVnB\n",
       "ZLaq2Ha1NsO0P4quvqpAEl+g9cuj6dAO0/YvvelRoeTwKCt7Q13wcFRuDbVtnlaLBxTdYluBJF5w\n",
       "rS6pj6JV3dMAWyZpE56yX/BwqFllUXhPmP1I0c2qkMSx4DyWDqNpJc4Y9WyVupN9urhNiyEnWjwp\n",
       "Xim6jQgq1tAuR7jVwSvVdBJobmdZ8bACXaPu1j7dT5hXLAK36LAWYbui+0yFJG566A03geZ2ki3L\n",
       "0N/ULQRC19F24M8VWZ6X6VJZOtZzpe43FZIL5zy8ZxaSaG5XAWY3WmBdWadC0n8+5YV2r0bvEWTb\n",
       "Su3N16XutQgaDmRzLpHm6VHvr2xzht+Tkd0UreeYfEF/XglIbihjA3x0EmmyUif5Pnsryv4I6O8e\n",
       "SF3DVyB5MSBMxTJIh9eKIZ6fC4myce8f1zWd2AmzUdySabUVZ4Y/SheWYycsDzXiaXyKknR3wUhd\n",
       "zY3hSiINx9CbsHzo4xbWZXMMPdb+AkEQrq55ji94AAAAAElFTkSuQmCC\n",
       "\" style=\"display:inline;vertical-align:middle;\" /></a></span>"
      ],
      "text/plain": [
       "|- forall_{A | (A = TRUE) or (A = FALSE)} (A in BOOLEAN)"
      ]
     },
     "execution_count": 3,
     "metadata": {},
     "output_type": "execute_result"
    }
   ],
   "source": [
    "fold_is_bool"
   ]
  },
  {
   "cell_type": "code",
   "execution_count": 4,
   "metadata": {},
   "outputs": [
    {
     "data": {
      "text/html": [
       "<strong id=\"TeqT\">TeqT:</strong> <span style=\"font-size:20px;\"> <a class=\"ProveItLink\" href=\"../true_eq_true/thm_proof.ipynb\" style=\"text-decoration: none\">&nbsp;&#x22A2;&nbsp;&nbsp;</a><a class=\"ProveItLink\" href=\"../../../__pv_it/theorems/a3c4d9088d0ab0d98fc5c16af22cc7989fca846c0/expr.ipynb\"><img src=\"data:image/png;base64,iVBORw0KGgoAAAANSUhEUgAAADoAAAAOBAMAAACMfhKgAAAAG1BMVEX///+YmJi6urqIiIiqqqpU\n",
       "VFQiIiJmZmYAAAD2GhH1AAAAAXRSTlMAQObYZgAAAAlwSFlzAAAOxAAADsQBlSsOGwAAACVJREFU\n",
       "GNNjKEsDgVQGVIAk6syADTij0QMli+r8oWyvIlZZkCgA3LER73tvWYUAAAAASUVORK5CYII=\n",
       "\" style=\"display:inline;vertical-align:middle;\" /></a></span><br>"
      ],
      "text/plain": [
       "TeqT: |- TRUE = TRUE"
      ]
     },
     "execution_count": 4,
     "metadata": {},
     "output_type": "execute_result"
    }
   ],
   "source": [
    "TeqT = Equals(TRUE, TRUE).prove()"
   ]
  },
  {
   "cell_type": "code",
   "execution_count": 5,
   "metadata": {},
   "outputs": [
    {
     "data": {
      "text/html": [
       "<strong id=\"not_TeqF\">not_TeqF:</strong> <span style=\"font-size:20px;\"> <a class=\"ProveItLink\" href=\"../../../__pv_it/_proof_true_is_bool/5a83fcc00f40764b9759dda7a3dc6f6bc63c2fbe0/proof.ipynb\" style=\"text-decoration: none\">&nbsp;&#x22A2;&nbsp;&nbsp;</a><a class=\"ProveItLink\" href=\"../../../__pv_it/_proof_true_is_bool/debc600a958007de0a4c494e083f5f256f8ab42a0/expr.ipynb\"><img src=\"data:image/png;base64,iVBORw0KGgoAAAANSUhEUgAAAFoAAAAVBAMAAAA0iOSIAAAAMFBMVEX////MzMxERES6uroQEBCY\n",
       "mJgyMjLu7u52dnaqqqqIiIhUVFTc3NwiIiJmZmYAAAAM3gM0AAAAAXRSTlMAQObYZgAAAAlwSFlz\n",
       "AAAOxAAADsQBlSsOGwAAAL5JREFUKM9jYECAAwx4AQ8Kj2sCftXMC5B5Mxj47oLBBkyFASByKZII\n",
       "ewKI5FyAzViIKFsBQoQvgJBq1gcIERYGQqoZ3BEi0wirTkWIvCCsuhshkoqiGjV4oKJhDG9BgveA\n",
       "zJuEzZ4C4Z0GYmfCquVJUm2CUH2TsLvnQnjngFiLsNlBCJFuwqpfIERkkdIPCgA66oov2FGXEYK8\n",
       "AgwEAM8FBBs5zWAHfMj26hBSfQiZU0RINYpxPAvwK+Y6wAAA935Et7MC9d4AAAAASUVORK5CYII=\n",
       "\" style=\"display:inline;vertical-align:middle;\" /></a></span><br>"
      ],
      "text/plain": [
       "not_TeqF: |- [not](TRUE = FALSE)"
      ]
     },
     "execution_count": 5,
     "metadata": {},
     "output_type": "execute_result"
    }
   ],
   "source": [
    "not_TeqF = Equals(TRUE, FALSE).disprove()"
   ]
  },
  {
   "cell_type": "code",
   "execution_count": 6,
   "metadata": {},
   "outputs": [
    {
     "data": {
      "text/html": [
       "<span style=\"font-size:20px;\"> <a class=\"ProveItLink\" href=\"../../../disjunction/_theory_nbs_/proofs/true_or_false/thm_proof.ipynb\" style=\"text-decoration: none\">&nbsp;&#x22A2;&nbsp;&nbsp;</a><a class=\"ProveItLink\" href=\"../../../disjunction/__pv_it/theorems/5be08831a8e37b44b705904bb8ca6529c1f0a5d10/expr.ipynb\"><img src=\"data:image/png;base64,iVBORw0KGgoAAAANSUhEUgAAADUAAAAPBAMAAAC2KZqIAAAAMFBMVEX///8QEBB2dnYyMjLc3NxE\n",
       "RETMzMzu7u6YmJi6urqIiIiqqqpUVFQiIiJmZmYAAAB2rqdQAAAAAXRSTlMAQObYZgAAAAlwSFlz\n",
       "AAAOxAAADsQBlSsOGwAAAHdJREFUGNNjYMAD3t4FgTtoopwNUMYuCMVTACTYFoDZ3AtQ5ThAfNYE\n",
       "rHIMF4DYmQG7nDYQv8Yh5wzVi02OJ4GBawEOObYDDLwFOOQYTBj2MeCS2wSUxSXHyxaAU46rZwJO\n",
       "OfbLDOhyM+BBDPE53927F2Xv3j0AAK2oKhKK3pHbAAAAAElFTkSuQmCC\n",
       "\" style=\"display:inline;vertical-align:middle;\" /></a></span>"
      ],
      "text/plain": [
       "|- TRUE or FALSE"
      ]
     },
     "execution_count": 6,
     "metadata": {},
     "output_type": "execute_result"
    }
   ],
   "source": [
    "true_or_false"
   ]
  },
  {
   "cell_type": "code",
   "execution_count": 7,
   "metadata": {},
   "outputs": [
    {
     "data": {
      "text/html": [
       "<strong id=\"TeqT_or_F\">TeqT_or_F:</strong> <span style=\"font-size:20px;\"> <a class=\"ProveItLink\" href=\"../../../__pv_it/_proof_true_is_bool/9f99e0697166cd4760a4eaa04181aecd95b91e390/proof.ipynb\" style=\"text-decoration: none\">&nbsp;&#x22A2;&nbsp;&nbsp;</a><a class=\"ProveItLink\" href=\"../../../__pv_it/_proof_true_is_bool/65273ab6cf04dc0596bd33c276e065aa784ed4640/expr.ipynb\"><img src=\"data:image/png;base64,iVBORw0KGgoAAAANSUhEUgAAAHAAAAAVBAMAAABs93eRAAAAMFBMVEX////MzMxUVFRERES6uroi\n",
       "IiIQEBCYmJhmZmYyMjLu7u52dnaqqqqIiIjc3NwAAACW8nlqAAAAAXRSTlMAQObYZgAAAAlwSFlz\n",
       "AAAOxAAADsQBlSsOGwAAAQNJREFUOMtjYGB4wIAX8OGS4D2AXyPLBRwSpxk4QsFAAVUcLnodQ4s7\n",
       "iOCaACJ5sBoLEeVcACK1QIQsRPws2OACQhrZG0BkLYgwRNLIxkBII0MWiGAFhdMEJI0nCWucDiK4\n",
       "gWHIcQBJYzdhjZsYoLaxMiBpnI6iETWAoaKVYFKRgeEussYYwjYeA5NCDAxRyBpTCGuUB5OcD3ga\n",
       "SNToBuFs4HyA26lY/XgUwgsQZkDWaEvYxmII77oKisZNhDVCYoxh6QQUjaKQLFCANWNAREOg3oBE\n",
       "f2toaFpoaBADqwADAcAXgFWYvYGQRo4C7OJ2hDQ+xiG+mJBGXCbzXcCvjxd7mQQAPyFL1/xX+UIA\n",
       "AAAASUVORK5CYII=\n",
       "\" style=\"display:inline;vertical-align:middle;\" /></a></span><br>"
      ],
      "text/plain": [
       "TeqT_or_F: |- (TRUE = TRUE) or FALSE"
      ]
     },
     "execution_count": 7,
     "metadata": {},
     "output_type": "execute_result"
    }
   ],
   "source": [
    "TeqT_or_F = true_or_false.inner_expr().operands[0].substitute(TeqT.expr)"
   ]
  },
  {
   "cell_type": "code",
   "execution_count": 8,
   "metadata": {},
   "outputs": [
    {
     "data": {
      "text/html": [
       "<span style=\"font-size:20px;\"> <a class=\"ProveItLink\" href=\"../../../__pv_it/_proof_true_is_bool/aff72e6675deaaca349d66eb0cad6c21fad2289f0/proof.ipynb\" style=\"text-decoration: none\">&nbsp;&#x22A2;&nbsp;&nbsp;</a><a class=\"ProveItLink\" href=\"../../../__pv_it/_proof_true_is_bool/20ff82da95f6c923e2d931a7085e46da2ba25d8e0/expr.ipynb\"><img src=\"data:image/png;base64,iVBORw0KGgoAAAANSUhEUgAAAKsAAAAVBAMAAADLBgMvAAAAMFBMVEX////MzMxUVFRERES6uroi\n",
       "IiIQEBCYmJhmZmYyMjLu7u52dnaqqqqIiIjc3NwAAACW8nlqAAAAAXRSTlMAQObYZgAAAAlwSFlz\n",
       "AAAOxAAADsQBlSsOGwAAAZBJREFUOMuNlD9Lw0AYxp/S5l+bBlEcxQpOTvEDKJ10EqLoIg4ZxMEp\n",
       "4FIHwUUcXLIJTgVxcCt+gi4KIkK2LioBcRT8CObeS6uXHnlzwxPuvbvfPffemwOQorR5FSJqI2B7\n",
       "WD6pkRQjbwx2S8gL7D1qHXVwEh0VVrkDXNDQzjRxk4xGQDOmqYluWxl1+kJXhCwIuaexV61RGb3J\n",
       "TEUc1joXeiZkVcgli+0BJjgsjoUY4q7oZCGLNft45rHXQlrZzdridt2YxToRrnjsA3KnBl3lgMW2\n",
       "OtLKBKsWRR49JV0C3nMr/7FqUcioFeOAd/tEOgvsU5KHrFs3xCGPXZQJS10qCbPLYms/VbAb+V/g\n",
       "pBWxjbCQBG1uH2UvmIMmCbrcugHWeLcnsjdapk89Yd1avqyecqysQdzF4+rhsFkNzstsRNrHS0Z3\n",
       "8wTJ09eCv0dFbVk+jigfRhfGDPPMwQvU/ja3AF/jh6Ss2YWT9FiseIzWuUmfhX495Y7nZ3LLYYv7\n",
       "Nn1mAe3rJeWT2lPmvhnsB/ALYBJzzgLgt8gAAAAASUVORK5CYII=\n",
       "\" style=\"display:inline;vertical-align:middle;\" /></a></span>"
      ],
      "text/plain": [
       "|- (TRUE = TRUE) or (TRUE = FALSE)"
      ]
     },
     "execution_count": 8,
     "metadata": {},
     "output_type": "execute_result"
    }
   ],
   "source": [
    "TeqT_or_F.inner_expr().operands[1].substitute(not_TeqF.operand, auto_simplify=False)"
   ]
  },
  {
   "cell_type": "code",
   "execution_count": 9,
   "metadata": {},
   "outputs": [
    {
     "name": "stdout",
     "output_type": "stream",
     "text": [
      "true_is_bool has been proven.  Now simply execute \"%qed\".\n"
     ]
    },
    {
     "data": {
      "text/html": [
       "<span style=\"font-size:20px;\"> <a class=\"ProveItLink\" href=\"../../../__pv_it/_proof_true_is_bool/149e142b21750128d0198b2cc8561b9e8c676e870/proof.ipynb\" style=\"text-decoration: none\">&nbsp;&#x22A2;&nbsp;&nbsp;</a><a class=\"ProveItLink\" href=\"../../../__pv_it/theorems/e3b19f0f51dc50d19100f70b446827a15792e4b10/expr.ipynb\"><img src=\"data:image/png;base64,iVBORw0KGgoAAAANSUhEUgAAADYAAAAQBAMAAACvnpHFAAAAMFBMVEX///92dnYQEBDMzMzc3Nzu\n",
       "7u4yMjJERESYmJi6urqIiIiqqqpUVFQiIiJmZmYAAAAWQcNMAAAAAXRSTlMAQObYZgAAAAlwSFlz\n",
       "AAAOxAAADsQBlSsOGwAAAKBJREFUGNNjYMACuC6VfdM9ycDw9i4I3EGVZOdc4BYzAcTahaGRnbOB\n",
       "0aEApxzHhgOocsvv3k2AyyWgyE1bitDH4yGALMeSijBz6dqDDMhybA4IuWv69wJQ5JDdwtWZiixn\n",
       "BPJpAVSOoWAislw4sj6GAnZkOV5UOTZkOa4FKHK7UPyXjZATYFz4AMSaAROKqQyAGJBUDo4HFDCx\n",
       "FhJmEAAA5+0316BwS1YAAAAASUVORK5CYII=\n",
       "\" style=\"display:inline;vertical-align:middle;\" /></a></span>"
      ],
      "text/plain": [
       "|- TRUE in BOOLEAN"
      ]
     },
     "execution_count": 9,
     "metadata": {},
     "output_type": "execute_result"
    }
   ],
   "source": [
    "fold_is_bool.instantiate({A:TRUE})"
   ]
  },
  {
   "cell_type": "code",
   "execution_count": 10,
   "metadata": {},
   "outputs": [
    {
     "data": {
      "text/html": [
       "<table><tr><th>&nbsp;</th><th>step type</th><th>requirements</th><th>statement</th></tr>\n",
       "<tr><td><a name=\"0x98fa726e192de62_step0\">0</a></td><td>instantiation</td><td><a href=\"#0x98fa726e192de62_step1\">1</a>, <a href=\"#0x98fa726e192de62_step2\">2</a></td><td><span style=\"font-size:20px;\"> <a class=\"ProveItLink\" href=\"../../../__pv_it/_proof_true_is_bool/149e142b21750128d0198b2cc8561b9e8c676e870/proof.ipynb\" style=\"text-decoration: none\">&nbsp;&#x22A2;&nbsp;&nbsp;</a><a class=\"ProveItLink\" href=\"../../../__pv_it/theorems/e3b19f0f51dc50d19100f70b446827a15792e4b10/expr.ipynb\"><img src=\"data:image/png;base64,iVBORw0KGgoAAAANSUhEUgAAADYAAAAQBAMAAACvnpHFAAAAMFBMVEX///92dnYQEBDMzMzc3Nzu\n",
       "7u4yMjJERESYmJi6urqIiIiqqqpUVFQiIiJmZmYAAAAWQcNMAAAAAXRSTlMAQObYZgAAAAlwSFlz\n",
       "AAAOxAAADsQBlSsOGwAAAKBJREFUGNNjYMACuC6VfdM9ycDw9i4I3EGVZOdc4BYzAcTahaGRnbOB\n",
       "0aEApxzHhgOocsvv3k2AyyWgyE1bitDH4yGALMeSijBz6dqDDMhybA4IuWv69wJQ5JDdwtWZiixn\n",
       "BPJpAVSOoWAislw4sj6GAnZkOV5UOTZkOa4FKHK7UPyXjZATYFz4AMSaAROKqQyAGJBUDo4HFDCx\n",
       "FhJmEAAA5+0316BwS1YAAAAASUVORK5CYII=\n",
       "\" style=\"display:inline;vertical-align:middle;\" /></a></span></td></tr>\n",
       "<tr><td>&nbsp;</td><td colspan=4 style=\"text-align:left\"><span style=\"font-size:20px;\"><a class=\"ProveItLink\" href=\"../../../../../__pv_it/common/09585084922504426caf1db2ff588a23a0932a960/expr.ipynb\"><img src=\"data:image/png;base64,iVBORw0KGgoAAAANSUhEUgAAAA8AAAAPBAMAAADJ+Ih5AAAAMFBMVEX///8QEBAiIiLu7u5ERES6\n",
       "urqYmJiIiIjMzMx2dnZUVFRmZmaqqqoyMjLc3NwAAABb1yYoAAAAAXRSTlMAQObYZgAAAAlwSFlz\n",
       "AAAOxAAADsQBlSsOGwAAAF9JREFUCNdjYACBtwxQcB9K8/yHMrjXP4Aw5s1vANN8BfUHIDIM5xPA\n",
       "jBiG/glgxgaG9wtANLv37vUOIIY5AwO/AkSGgUkASLMCdfB+ADIeAjHLPwYGk/+XGXj8/04AADnq\n",
       "Fzds8Dk2AAAAAElFTkSuQmCC\n",
       "\" style=\"display:inline;vertical-align:middle;\" /></a> : <a class=\"ProveItLink\" href=\"../../../__pv_it/common/95025295868b9266d37330b4427adf122f6061770/expr.ipynb\"><img src=\"data:image/png;base64,iVBORw0KGgoAAAANSUhEUgAAAA4AAAAOBAMAAADtZjDiAAAAG1BMVEX///+YmJi6urqIiIiqqqpU\n",
       "VFQiIiJmZmYAAAD2GhH1AAAAAXRSTlMAQObYZgAAAAlwSFlzAAAOxAAADsQBlSsOGwAAABhJREFU\n",
       "CNdjKEsDgVQGIHBmgABa0YpADADkogYfXGfJdgAAAABJRU5ErkJggg==\n",
       "\" style=\"display:inline;vertical-align:middle;\" /></a></span></td></tr><tr><td><a name=\"0x98fa726e192de62_step1\">1</a></td><td>conjecture</td><td></td><td><span style=\"font-size:20px;\"> <a class=\"ProveItLink\" href=\"../fold_is_bool/thm_proof.ipynb\" style=\"text-decoration: none\">&nbsp;&#x22A2;&nbsp;&nbsp;</a><a class=\"ProveItLink\" href=\"../../../__pv_it/theorems/a19ea2834ec6a52c50351b969cae0bb03d6ff4fe0/expr.ipynb\"><img src=\"data:image/png;base64,iVBORw0KGgoAAAANSUhEUgAAAO0AAAAXBAMAAAAVatXDAAAAMFBMVEX///+IiIgiIiIQEBB2dnbu\n",
       "7u5ERETMzMzc3NwyMjK6urpmZmaYmJiqqqpUVFQAAAB6qHgnAAAAAXRSTlMAQObYZgAAAAlwSFlz\n",
       "AAAOxAAADsQBlSsOGwAAArFJREFUSMe1VT2IE0EUfsntbpJNNq5/YOcRQThEiIcgWOgWctioa3Ol\n",
       "rMoFRcFgYamLVgHxIhIQEY1weo1CigPPHzC2J8gKNoLoFWJhkyu9Qs43b3ZnJslmA+f6in0z3zcz\n",
       "386b92YA/o/5myb/yTIBucYAuufi+vQvgCfYXmXA17R1P3P3eAA2TLtxpg2ZLsBr1r+fsqzeJGdt\n",
       "DOl2Nd8DaAFcx27eS1m32OWu5w/plgKM8AeAggugBSnrTnB3/FQ9PNhzlSmhi7GYcKGEv1ZI+3i/\n",
       "0Ddv7+YbMu+6Yr/l2w4Kouh0pXIwbd0lHmb4zuPdcEWcd277gV7DWL8EmCPQDQfzlPAlJOtAtMbQ\n",
       "D+n7Am440Je2hjl1dB/OKmGs70Ceakk/xCk+YkWB0GZq52s1GzpRf4AOf1fQ+4F352llaCp5lVnB\n",
       "ZLaq2Ha1NsO0P4quvqpAEl+g9cuj6dAO0/YvvelRoeTwKCt7Q13wcFRuDbVtnlaLBxTdYluBJF5w\n",
       "rS6pj6JV3dMAWyZpE56yX/BwqFllUXhPmP1I0c2qkMSx4DyWDqNpJc4Y9WyVupN9urhNiyEnWjwp\n",
       "Xim6jQgq1tAuR7jVwSvVdBJobmdZ8bACXaPu1j7dT5hXLAK36LAWYbui+0yFJG566A03geZ2ki3L\n",
       "0N/ULQRC19F24M8VWZ6X6VJZOtZzpe43FZIL5zy8ZxaSaG5XAWY3WmBdWadC0n8+5YV2r0bvEWTb\n",
       "Su3N16XutQgaDmRzLpHm6VHvr2xzht+Tkd0UreeYfEF/XglIbihjA3x0EmmyUif5Pnsryv4I6O8e\n",
       "SF3DVyB5MSBMxTJIh9eKIZ6fC4myce8f1zWd2AmzUdySabUVZ4Y/SheWYycsDzXiaXyKknR3wUhd\n",
       "zY3hSiINx9CbsHzo4xbWZXMMPdb+AkEQrq55ji94AAAAAElFTkSuQmCC\n",
       "\" style=\"display:inline;vertical-align:middle;\" /></a></span></td></tr>\n",
       "<tr><td>&nbsp;</td><td colspan=4 style-\"text-align:left\"><a class=\"ProveItLink\" href=\"../fold_is_bool/thm_proof.ipynb\">proveit.logic.booleans.fold_is_bool</a></td></tr><tr><td><a name=\"0x98fa726e192de62_step2\">2</a></td><td>instantiation</td><td><a href=\"#0x98fa726e192de62_step3\">3</a>, <a href=\"#0x98fa726e192de62_step4\">4</a>, <a href=\"#0x98fa726e192de62_step5\">5</a></td><td><span style=\"font-size:20px;\"> <a class=\"ProveItLink\" href=\"../../../__pv_it/_proof_true_is_bool/aff72e6675deaaca349d66eb0cad6c21fad2289f0/proof.ipynb\" style=\"text-decoration: none\">&nbsp;&#x22A2;&nbsp;&nbsp;</a><a class=\"ProveItLink\" href=\"../../../__pv_it/_proof_true_is_bool/20ff82da95f6c923e2d931a7085e46da2ba25d8e0/expr.ipynb\"><img src=\"data:image/png;base64,iVBORw0KGgoAAAANSUhEUgAAAKsAAAAVBAMAAADLBgMvAAAAMFBMVEX////MzMxUVFRERES6uroi\n",
       "IiIQEBCYmJhmZmYyMjLu7u52dnaqqqqIiIjc3NwAAACW8nlqAAAAAXRSTlMAQObYZgAAAAlwSFlz\n",
       "AAAOxAAADsQBlSsOGwAAAZBJREFUOMuNlD9Lw0AYxp/S5l+bBlEcxQpOTvEDKJ10EqLoIg4ZxMEp\n",
       "4FIHwUUcXLIJTgVxcCt+gi4KIkK2LioBcRT8CObeS6uXHnlzwxPuvbvfPffemwOQorR5FSJqI2B7\n",
       "WD6pkRQjbwx2S8gL7D1qHXVwEh0VVrkDXNDQzjRxk4xGQDOmqYluWxl1+kJXhCwIuaexV61RGb3J\n",
       "TEUc1joXeiZkVcgli+0BJjgsjoUY4q7oZCGLNft45rHXQlrZzdridt2YxToRrnjsA3KnBl3lgMW2\n",
       "OtLKBKsWRR49JV0C3nMr/7FqUcioFeOAd/tEOgvsU5KHrFs3xCGPXZQJS10qCbPLYms/VbAb+V/g\n",
       "pBWxjbCQBG1uH2UvmIMmCbrcugHWeLcnsjdapk89Yd1avqyecqysQdzF4+rhsFkNzstsRNrHS0Z3\n",
       "8wTJ09eCv0dFbVk+jigfRhfGDPPMwQvU/ja3AF/jh6Ss2YWT9FiseIzWuUmfhX495Y7nZ3LLYYv7\n",
       "Nn1mAe3rJeWT2lPmvhnsB/ALYBJzzgLgt8gAAAAASUVORK5CYII=\n",
       "\" style=\"display:inline;vertical-align:middle;\" /></a></span></td></tr>\n",
       "<tr><td>&nbsp;</td><td colspan=4 style=\"text-align:left\"><span style=\"font-size:20px;\"><a class=\"ProveItLink\" href=\"../../../__pv_it/_proof_true_is_bool/f307345efa93fdd6c2df141d735449c4534792f70/expr.ipynb\"><img src=\"data:image/png;base64,iVBORw0KGgoAAAANSUhEUgAAADsAAAAVBAMAAAAKrYvGAAAAMFBMVEX///+6urqYmJgiIiLc3Nx2\n",
       "dnaqqqrMzMwQEBDu7u5mZmYyMjJUVFRERESIiIgAAAAee7pSAAAAAXRSTlMAQObYZgAAAAlwSFlz\n",
       "AAAOxAAADsQBlSsOGwAAAR1JREFUKM9jYEAGDnh4DAx8CShcOTD59v+ds7smgFipaKoVwNRvBgbe\n",
       "TiDNuQHNtJ0ggv0fAwMbEDNwKaBJa4HN+A7EX4EMDjRZBg6QlbwfgBiohCEbXZobZBz/BQaG+gdA\n",
       "xlKEBMvRJ0AR1gMMYClXM5DYJoS0hAPvTwYGJpBb3x8NVQSLmcFlOZsYuAyADm4Asu/DBBvh0lwf\n",
       "GJgDgH76APE2ujTHBYb5AgwMjEDd7F9hggjD5z9g0AdSbEAL+D7CBO8hpBMYTrM5MDAB/cT9ASYY\n",
       "A5fmfcBmxQV0QgAD1/2/D6CCxUCb7gLBFQbOc+E+zxkYmAWQA4m5AC3UnFF4TAvQpBehcq+gclku\n",
       "oPLnonJ50VITywMU7hMGBgCRA0HPkLXvDgAAAABJRU5ErkJggg==\n",
       "\" style=\"display:inline;vertical-align:middle;\" /></a> : <a class=\"ProveItLink\" href=\"../../../__pv_it/_proof_true_is_bool/2d7a3280b79008e2399f5b31f6c3e234f0f5b7250/expr.ipynb\"><img src=\"data:image/png;base64,iVBORw0KGgoAAAANSUhEUgAAAHoAAAAVBAMAAAB71edYAAAAMFBMVEX////MzMxUVFRERES6uroi\n",
       "IiIQEBCYmJhmZmYyMjLu7u52dnaqqqqIiIjc3NwAAACW8nlqAAAAAXRSTlMAQObYZgAAAAlwSFlz\n",
       "AAAOxAAADsQBlSsOGwAAAS1JREFUOMtjYGB4wIAX8OGV5T2AXzfLBXyypxk4QsFAAVUcLnodj2au\n",
       "CSCSB6sFEFHOBUCCCUQwYqjiKCCkm70BRICYzALoKtgYCOlmyAIRAUD8EkPFScK6p4OIPUDcg6Gi\n",
       "m7DuTQxQewOQJR/tfQs1GK4bNfihopUggkmAgRfZCpY8BvsFDDGE7T4GIhgVGFgXIMktK2BoZWBI\n",
       "IaxbHkzOYziBLNfPwBBNlG43aKqahyyXzMD1hQHN5Vj9fRRMsjIaICeyvwzsHxgYbAnbXQzJD0UO\n",
       "yLr/MDBNOAeJDvy6IZHKFYkiZ8twtKGBQRQS/gVYsxdENATCg6YVYWMgeMCw6LacrgADqwADAcAX\n",
       "gFsOnAfwAo4CPJJ2hHQ/xie5mJBuvMbzXcCvmRdPuQcAFHBR9fa3VwUAAAAASUVORK5CYII=\n",
       "\" style=\"display:inline;vertical-align:middle;\" /></a>, <a class=\"ProveItLink\" href=\"../../../../../__pv_it/common/a0d9d672aa5e272d907247690c152cc2c6daafb70/expr.ipynb\"><img src=\"data:image/png;base64,iVBORw0KGgoAAAANSUhEUgAAAAsAAAAJBAMAAAAWSsseAAAAMFBMVEX///9ERES6uroQEBAyMjLc\n",
       "3NyYmJgiIiJmZmaqqqp2dnbMzMxUVFSIiIju7u4AAAAd7oVFAAAAAXRSTlMAQObYZgAAAAlwSFlz\n",
       "AAAOxAAADsQBlSsOGwAAAENJREFUCNdjYHh75/WqCQwMDbxnOQoY2ALY/vEkMHAzcDgwgADzBTCl\n",
       "H8D3gOGhwmEGLgaG+fuaGTQZGF7c5WybwAAAJTwQ1a2DuB8AAAAASUVORK5CYII=\n",
       "\" style=\"display:inline;vertical-align:middle;\" /></a> : <a class=\"ProveItLink\" href=\"../../../__pv_it/_proof_true_is_bool/b6f40217c9760cfe9d94b2acf22f824ac18d1f5e0/expr.ipynb\"><img src=\"data:image/png;base64,iVBORw0KGgoAAAANSUhEUgAAADoAAAAPBAMAAABHIsEFAAAAHlBMVEX///8QEBCYmJi6urqIiIiq\n",
       "qqpUVFQiIiJmZmYAAACkvjQmAAAAAXRSTlMAQObYZgAAAAlwSFlzAAAOxAAADsQBlSsOGwAAACdJ\n",
       "REFUGNNjYMAL2stBoAxTwghKh2DVFjJIZFGdP5TtNcIaN4JASwB+DhUfMZHZkQAAAABJRU5ErkJg\n",
       "gg==\n",
       "\" style=\"display:inline;vertical-align:middle;\" /></a></span></td></tr><tr><td><a name=\"0x98fa726e192de62_step3\">3</a></td><td>theorem</td><td></td><td><span style=\"font-size:20px;\"> <a class=\"ProveItLink\" href=\"../../../../equality/_theory_nbs_/proofs/substitute_falsehood/thm_proof.ipynb\" style=\"text-decoration: none\">&nbsp;&#x22A2;&nbsp;&nbsp;</a><a class=\"ProveItLink\" href=\"../../../../equality/__pv_it/theorems/128874444b592da08dbd53e29120fb089ebf8c360/expr.ipynb\"><img src=\"data:image/png;base64,iVBORw0KGgoAAAANSUhEUgAAAK4AAAAXBAMAAABg52lgAAAAMFBMVEX///+IiIgiIiIQEBB2dnbu\n",
       "7u5ERETMzMzc3NwyMjK6urpmZmaYmJiqqqpUVFQAAAB6qHgnAAAAAXRSTlMAQObYZgAAAAlwSFlz\n",
       "AAAOxAAADsQBlSsOGwAAAnlJREFUOMutlE1o1EAUx/9pk812k6zZQ0WsH0svgqCsYo+FKq3gQVkv\n",
       "FREkIoae3IJ4tSkVj3UvhUIVFqxHccWCSykSPQjqRRTBg+CKUgQvFVq/LvpmkplNNjmUpgOT9/Kf\n",
       "md/MvHkzwDaWfJfdrrI3tAUbaDPnYxbazn9XVxeq5FgjQtoDLDM7n2mZf4DcENnzUumr4gaLh5MF\n",
       "q/+gpVLFipTMJkNDfZOFq/yiuk5OpaMNwfRp2ZnCkFujSmyr3tHuAEcHB49l4u6gKE5RBhjs2M7u\n",
       "OzdKuz8DPAGuJDs3oz8fxI5TucS8eYgdls/GKZ+NMvASmEWecq1QW3r6LdI5OMlANRvkGonZRNn/\n",
       "dfQVsz20TtMzN4rEf0ehqaps3HPgRIIbqBd5FNlnMY1bC20vYXQYPMpTFG6bH9t3mjjJ5eqy5LLk\n",
       "SUtfyaWvzb73qNafMW8YOEwRHJhuRblcLUtuJCFLrQEvSN/1UOnhjQ89jSZ/S97pOXY1NjBL0dtV\n",
       "dO5GuFzN1yXXkgFWvNW+YBLlr8g3Wul44wtU8l9QnWFPhHmk9J6Mn7MnI1yuFhzJ5e5J13XLJi7p\n",
       "4Z1dC7kqcT5df4wH5C9RLTJSsR0moxeNL1ettuTq4sKT9DvwjNpPO7zPFK8LJWuFbeOg2FevH9hr\n",
       "8CJcrupOMg5t6JXEK3ug8xCXhXebcNpIvnIqzFFHqoicm2JrwVvYnFHrRjf3tfQMXxxDbYwWNoxH\n",
       "i6Vqh8tVYILF9LLr2sh51CcYuft4f+Kh8IR3K95gJfIX8dswHuvTXTQ5aCLecD+da8h1tGJ9EmVa\n",
       "JmFc99O5GBPPdSPWZyslNqPWZTdR/gPXRotAGlsedQAAAABJRU5ErkJggg==\n",
       "\" style=\"display:inline;vertical-align:middle;\" /></a></span></td></tr>\n",
       "<tr><td>&nbsp;</td><td colspan=4 style-\"text-align:left\"><a class=\"ProveItLink\" href=\"../../../../equality/_theory_nbs_/proofs/substitute_falsehood/thm_proof.ipynb\">proveit.logic.equality.substitute_falsehood</a></td></tr><tr><td><a name=\"0x98fa726e192de62_step4\">4</a></td><td>instantiation</td><td><a href=\"#0x98fa726e192de62_step6\">6</a>, <a href=\"#0x98fa726e192de62_step7\">7</a>, <a href=\"#0x98fa726e192de62_step8\">8</a></td><td><span style=\"font-size:20px;\"> <a class=\"ProveItLink\" href=\"../../../__pv_it/_proof_true_is_bool/9f99e0697166cd4760a4eaa04181aecd95b91e390/proof.ipynb\" style=\"text-decoration: none\">&nbsp;&#x22A2;&nbsp;&nbsp;</a><a class=\"ProveItLink\" href=\"../../../__pv_it/_proof_true_is_bool/65273ab6cf04dc0596bd33c276e065aa784ed4640/expr.ipynb\"><img src=\"data:image/png;base64,iVBORw0KGgoAAAANSUhEUgAAAHAAAAAVBAMAAABs93eRAAAAMFBMVEX////MzMxUVFRERES6uroi\n",
       "IiIQEBCYmJhmZmYyMjLu7u52dnaqqqqIiIjc3NwAAACW8nlqAAAAAXRSTlMAQObYZgAAAAlwSFlz\n",
       "AAAOxAAADsQBlSsOGwAAAQNJREFUOMtjYGB4wIAX8OGS4D2AXyPLBRwSpxk4QsFAAVUcLnodQ4s7\n",
       "iOCaACJ5sBoLEeVcACK1QIQsRPws2OACQhrZG0BkLYgwRNLIxkBII0MWiGAFhdMEJI0nCWucDiK4\n",
       "gWHIcQBJYzdhjZsYoLaxMiBpnI6iETWAoaKVYFKRgeEussYYwjYeA5NCDAxRyBpTCGuUB5OcD3ga\n",
       "SNToBuFs4HyA26lY/XgUwgsQZkDWaEvYxmII77oKisZNhDVCYoxh6QQUjaKQLFCANWNAREOg3oBE\n",
       "f2toaFpoaBADqwADAcAXgFWYvYGQRo4C7OJ2hDQ+xiG+mJBGXCbzXcCvjxd7mQQAPyFL1/xX+UIA\n",
       "AAAASUVORK5CYII=\n",
       "\" style=\"display:inline;vertical-align:middle;\" /></a></span></td></tr>\n",
       "<tr><td>&nbsp;</td><td colspan=4 style=\"text-align:left\"><span style=\"font-size:20px;\"><a class=\"ProveItLink\" href=\"../../../__pv_it/_proof_true_is_bool/f307345efa93fdd6c2df141d735449c4534792f70/expr.ipynb\"><img src=\"data:image/png;base64,iVBORw0KGgoAAAANSUhEUgAAADsAAAAVBAMAAAAKrYvGAAAAMFBMVEX///+6urqYmJgiIiLc3Nx2\n",
       "dnaqqqrMzMwQEBDu7u5mZmYyMjJUVFRERESIiIgAAAAee7pSAAAAAXRSTlMAQObYZgAAAAlwSFlz\n",
       "AAAOxAAADsQBlSsOGwAAAR1JREFUKM9jYEAGDnh4DAx8CShcOTD59v+ds7smgFipaKoVwNRvBgbe\n",
       "TiDNuQHNtJ0ggv0fAwMbEDNwKaBJa4HN+A7EX4EMDjRZBg6QlbwfgBiohCEbXZobZBz/BQaG+gdA\n",
       "xlKEBMvRJ0AR1gMMYClXM5DYJoS0hAPvTwYGJpBb3x8NVQSLmcFlOZsYuAyADm4Asu/DBBvh0lwf\n",
       "GJgDgH76APE2ujTHBYb5AgwMjEDd7F9hggjD5z9g0AdSbEAL+D7CBO8hpBMYTrM5MDAB/cT9ASYY\n",
       "A5fmfcBmxQV0QgAD1/2/D6CCxUCb7gLBFQbOc+E+zxkYmAWQA4m5AC3UnFF4TAvQpBehcq+gclku\n",
       "oPLnonJ50VITywMU7hMGBgCRA0HPkLXvDgAAAABJRU5ErkJggg==\n",
       "\" style=\"display:inline;vertical-align:middle;\" /></a> : <a class=\"ProveItLink\" href=\"../../../__pv_it/_proof_true_is_bool/4c2ecfa20ea8a06286025a38a26d917eebcade4c0/expr.ipynb\"><img src=\"data:image/png;base64,iVBORw0KGgoAAAANSUhEUgAAAD4AAAAPBAMAAABOyWF/AAAAMFBMVEX///8yMjKqqqoiIiJmZmaY\n",
       "mJju7u4QEBC6urqIiIh2dnZUVFTc3NxERETMzMwAAAAY8qdrAAAAAXRSTlMAQObYZgAAAAlwSFlz\n",
       "AAAOxAAADsQBlSsOGwAAAKJJREFUGNNjYCAftGIKcScACb4JEI4mpjwrSIr3AU55BgMgPsiAW34R\n",
       "EDthkz+98iQDVK8BFnmOGob7ILdxP2DgnIBFPj2AwRlE821gYE7AIu/PwGAFZsgwqDBgka9lYPsB\n",
       "ZmgBVWDKs/1kYP0AZjHzXcAm/4mBW0AHxOKMbsBm/k0GZQcHsEpDBhT5t3eB4ABD9qw3OyHBCg0d\n",
       "Z2PjcmNjawCOgSNFqV/ssAAAAABJRU5ErkJggg==\n",
       "\" style=\"display:inline;vertical-align:middle;\" /></a>, <a class=\"ProveItLink\" href=\"../../../../../__pv_it/common/a0d9d672aa5e272d907247690c152cc2c6daafb70/expr.ipynb\"><img src=\"data:image/png;base64,iVBORw0KGgoAAAANSUhEUgAAAAsAAAAJBAMAAAAWSsseAAAAMFBMVEX///9ERES6uroQEBAyMjLc\n",
       "3NyYmJgiIiJmZmaqqqp2dnbMzMxUVFSIiIju7u4AAAAd7oVFAAAAAXRSTlMAQObYZgAAAAlwSFlz\n",
       "AAAOxAAADsQBlSsOGwAAAENJREFUCNdjYHh75/WqCQwMDbxnOQoY2ALY/vEkMHAzcDgwgADzBTCl\n",
       "H8D3gOGhwmEGLgaG+fuaGTQZGF7c5WybwAAAJTwQ1a2DuB8AAAAASUVORK5CYII=\n",
       "\" style=\"display:inline;vertical-align:middle;\" /></a> : <a class=\"ProveItLink\" href=\"../../../__pv_it/theorems/a3c4d9088d0ab0d98fc5c16af22cc7989fca846c0/expr.ipynb\"><img src=\"data:image/png;base64,iVBORw0KGgoAAAANSUhEUgAAADoAAAAOBAMAAACMfhKgAAAAG1BMVEX///+YmJi6urqIiIiqqqpU\n",
       "VFQiIiJmZmYAAAD2GhH1AAAAAXRSTlMAQObYZgAAAAlwSFlzAAAOxAAADsQBlSsOGwAAACVJREFU\n",
       "GNNjKEsDgVQGVIAk6syADTij0QMli+r8oWyvIlZZkCgA3LER73tvWYUAAAAASUVORK5CYII=\n",
       "\" style=\"display:inline;vertical-align:middle;\" /></a></span></td></tr><tr><td><a name=\"0x98fa726e192de62_step5\">5</a></td><td>instantiation</td><td><a href=\"#0x98fa726e192de62_step9\">9</a>, <a href=\"#0x98fa726e192de62_step10\">10</a></td><td><span style=\"font-size:20px;\"> <a class=\"ProveItLink\" href=\"../../../__pv_it/_proof_true_is_bool/5a83fcc00f40764b9759dda7a3dc6f6bc63c2fbe0/proof.ipynb\" style=\"text-decoration: none\">&nbsp;&#x22A2;&nbsp;&nbsp;</a><a class=\"ProveItLink\" href=\"../../../__pv_it/_proof_true_is_bool/debc600a958007de0a4c494e083f5f256f8ab42a0/expr.ipynb\"><img src=\"data:image/png;base64,iVBORw0KGgoAAAANSUhEUgAAAFoAAAAVBAMAAAA0iOSIAAAAMFBMVEX////MzMxERES6uroQEBCY\n",
       "mJgyMjLu7u52dnaqqqqIiIhUVFTc3NwiIiJmZmYAAAAM3gM0AAAAAXRSTlMAQObYZgAAAAlwSFlz\n",
       "AAAOxAAADsQBlSsOGwAAAL5JREFUKM9jYECAAwx4AQ8Kj2sCftXMC5B5Mxj47oLBBkyFASByKZII\n",
       "ewKI5FyAzViIKFsBQoQvgJBq1gcIERYGQqoZ3BEi0wirTkWIvCCsuhshkoqiGjV4oKJhDG9BgveA\n",
       "zJuEzZ4C4Z0GYmfCquVJUm2CUH2TsLvnQnjngFiLsNlBCJFuwqpfIERkkdIPCgA66oov2FGXEYK8\n",
       "AgwEAM8FBBs5zWAHfMj26hBSfQiZU0RINYpxPAvwK+Y6wAAA935Et7MC9d4AAAAASUVORK5CYII=\n",
       "\" style=\"display:inline;vertical-align:middle;\" /></a></span></td></tr>\n",
       "<tr><td>&nbsp;</td><td colspan=4 style=\"text-align:left\"><span style=\"font-size:20px;\"><a class=\"ProveItLink\" href=\"../../../../../__pv_it/common/a0d9d672aa5e272d907247690c152cc2c6daafb70/expr.ipynb\"><img src=\"data:image/png;base64,iVBORw0KGgoAAAANSUhEUgAAAAsAAAAJBAMAAAAWSsseAAAAMFBMVEX///9ERES6uroQEBAyMjLc\n",
       "3NyYmJgiIiJmZmaqqqp2dnbMzMxUVFSIiIju7u4AAAAd7oVFAAAAAXRSTlMAQObYZgAAAAlwSFlz\n",
       "AAAOxAAADsQBlSsOGwAAAENJREFUCNdjYHh75/WqCQwMDbxnOQoY2ALY/vEkMHAzcDgwgADzBTCl\n",
       "H8D3gOGhwmEGLgaG+fuaGTQZGF7c5WybwAAAJTwQ1a2DuB8AAAAASUVORK5CYII=\n",
       "\" style=\"display:inline;vertical-align:middle;\" /></a> : <a class=\"ProveItLink\" href=\"../../../__pv_it/common/95025295868b9266d37330b4427adf122f6061770/expr.ipynb\"><img src=\"data:image/png;base64,iVBORw0KGgoAAAANSUhEUgAAAA4AAAAOBAMAAADtZjDiAAAAG1BMVEX///+YmJi6urqIiIiqqqpU\n",
       "VFQiIiJmZmYAAAD2GhH1AAAAAXRSTlMAQObYZgAAAAlwSFlzAAAOxAAADsQBlSsOGwAAABhJREFU\n",
       "CNdjKEsDgVQGIHBmgABa0YpADADkogYfXGfJdgAAAABJRU5ErkJggg==\n",
       "\" style=\"display:inline;vertical-align:middle;\" /></a>, <a class=\"ProveItLink\" href=\"../../../../../__pv_it/common/ff7dba4ef0bbe791ab573bf2d9c220a304399ac80/expr.ipynb\"><img src=\"data:image/png;base64,iVBORw0KGgoAAAANSUhEUgAAAAsAAAANBAMAAACN24kIAAAAMFBMVEX////c3NwyMjK6urpEREQi\n",
       "IiLMzMwQEBCqqqp2dnZUVFSYmJhmZmaIiIju7u4AAADlKNhoAAAAAXRSTlMAQObYZgAAAAlwSFlz\n",
       "AAAOxAAADsQBlSsOGwAAAFhJREFUCNdj4LuzgeEVAwMnRwHDfgaGDJ4AhiUMDA/YLzDUMjAw2D9g\n",
       "+wakDjHwFgApLwaWBUDqFIP9BiD1au55AQYQmATEnAp8FUCK9QLXBCDFsfcwkAQA5QkUAIef7yAA\n",
       "AAAASUVORK5CYII=\n",
       "\" style=\"display:inline;vertical-align:middle;\" /></a> : <a class=\"ProveItLink\" href=\"../../../__pv_it/common/e0f123f2e4f322e1eba7f861749cda9fd9d99a120/expr.ipynb\"><img src=\"data:image/png;base64,iVBORw0KGgoAAAANSUhEUgAAAA4AAAAPBAMAAAAmOuNHAAAAHlBMVEX///9UVFQQEBAiIiJmZmaI\n",
       "iIiqqqqYmJi6uroAAAAAFVhYAAAAAXRSTlMAQObYZgAAAAlwSFlzAAAOxAAADsQBlSsOGwAAABhJ\n",
       "REFUCNdjYECAdiidSkva2dhYydjYEABIWQamWbU+1AAAAABJRU5ErkJggg==\n",
       "\" style=\"display:inline;vertical-align:middle;\" /></a></span></td></tr><tr><td><a name=\"0x98fa726e192de62_step6\">6</a></td><td>theorem</td><td></td><td><span style=\"font-size:20px;\"> <a class=\"ProveItLink\" href=\"../../../../equality/_theory_nbs_/proofs/substitute_truth/thm_proof.ipynb\" style=\"text-decoration: none\">&nbsp;&#x22A2;&nbsp;&nbsp;</a><a class=\"ProveItLink\" href=\"../../../../equality/__pv_it/theorems/2ab51f701f0ff9fb65cd28c535b1265f4bcde8cf0/expr.ipynb\"><img src=\"data:image/png;base64,iVBORw0KGgoAAAANSUhEUgAAAKIAAAAXBAMAAAB624nuAAAAMFBMVEX///+IiIgiIiIQEBB2dnbu\n",
       "7u5ERETMzMzc3NwyMjK6urpmZmaYmJiqqqpUVFQAAAB6qHgnAAAAAXRSTlMAQObYZgAAAAlwSFlz\n",
       "AAAOxAAADsQBlSsOGwAAAmpJREFUOMutlU1o1EAUx//pJtvsJhs3lyL4FXoUFBXrQSwUaQ8iSrzU\n",
       "gyDpwaUntyh6tBHFY7sXQVBhwbY3MWJBEZFVQbCnxQ9QFFxRRCiUFbZ+HvRNkkkmmz1o6IPJe3n7\n",
       "8pvMm/9kgbUxN3Aq1sqkZuCLZaDFgnfZOAN/Tn6+arPoJU9tBO4zfyXjq/0E8kPklRrPFGycY6t3\n",
       "sgH7vwIlGtAaPKV7DAq5mbF732l0KMjFuSHohC9kXHS+TYOoeBPnrgG7Bgd3ZySuo25N0+5ikcaR\n",
       "zUdHaa2HgbvAiVStlrh7HfpyVxXRLm4LXwye9EGzgGfADFRSULG6+PCLsJ7ALfw+uOJCr8uVyp7K\n",
       "RNc8wJZPo0t+QFjd1VcN6uALetiW65R8DOxPEXULsoXjLGRyKI4kiVUe7KV9h+ZLaJq2v+xvzDJN\n",
       "mSIaHqR2IFlfYJdTcoyItOF+U27QqD1i0TCwnbSw4fw9gZhroq8FKyIe8jUT1qC/w4l+M2+5Cinx\n",
       "OStjM6urmPGA9YZzXSDO2uoy1FpEfMsuvAbSL06cAMbrHyFT+JTGBXa09Z3mK3KNfHlKID4xN9ko\n",
       "OhFxAUINCm1OJMm8P3MHN0MhGex3oxVKzBX7uMIupVZEPCvWaNVvXE6ngGNm6QE7elv5LLnwZJ4O\n",
       "vnQhcZ/fLie5al4jWN8Uj1SLR7NUpIyoOw7Ai4nqD9/FO2OKNYLpUSL6ZkjVMXqZYdyeM+2YONDx\n",
       "bybZxQsioUa0SR5cSuZL3XoMbI4HiiPWiDaeQgc235uouUIw35OohnskdXW40ZuIsdAvJWr+z5L/\n",
       "aUro7X959C9VvIbt4M/wLgAAAABJRU5ErkJggg==\n",
       "\" style=\"display:inline;vertical-align:middle;\" /></a></span></td></tr>\n",
       "<tr><td>&nbsp;</td><td colspan=4 style-\"text-align:left\"><a class=\"ProveItLink\" href=\"../../../../equality/_theory_nbs_/proofs/substitute_truth/thm_proof.ipynb\">proveit.logic.equality.substitute_truth</a></td></tr><tr><td><a name=\"0x98fa726e192de62_step7\">7</a></td><td>theorem</td><td></td><td><span style=\"font-size:20px;\"> <a class=\"ProveItLink\" href=\"../../../disjunction/_theory_nbs_/proofs/true_or_false/thm_proof.ipynb\" style=\"text-decoration: none\">&nbsp;&#x22A2;&nbsp;&nbsp;</a><a class=\"ProveItLink\" href=\"../../../disjunction/__pv_it/theorems/5be08831a8e37b44b705904bb8ca6529c1f0a5d10/expr.ipynb\"><img src=\"data:image/png;base64,iVBORw0KGgoAAAANSUhEUgAAADUAAAAPBAMAAAC2KZqIAAAAMFBMVEX///8QEBB2dnYyMjLc3NxE\n",
       "RETMzMzu7u6YmJi6urqIiIiqqqpUVFQiIiJmZmYAAAB2rqdQAAAAAXRSTlMAQObYZgAAAAlwSFlz\n",
       "AAAOxAAADsQBlSsOGwAAAHdJREFUGNNjYMAD3t4FgTtoopwNUMYuCMVTACTYFoDZ3AtQ5ThAfNYE\n",
       "rHIMF4DYmQG7nDYQv8Yh5wzVi02OJ4GBawEOObYDDLwFOOQYTBj2MeCS2wSUxSXHyxaAU46rZwJO\n",
       "OfbLDOhyM+BBDPE53927F2Xv3j0AAK2oKhKK3pHbAAAAAElFTkSuQmCC\n",
       "\" style=\"display:inline;vertical-align:middle;\" /></a></span></td></tr>\n",
       "<tr><td>&nbsp;</td><td colspan=4 style-\"text-align:left\"><a class=\"ProveItLink\" href=\"../../../disjunction/_theory_nbs_/proofs/true_or_false/thm_proof.ipynb\">proveit.logic.booleans.disjunction.true_or_false</a></td></tr><tr><td><a name=\"0x98fa726e192de62_step8\">8</a></td><td>theorem</td><td></td><td><span style=\"font-size:20px;\"> <a class=\"ProveItLink\" href=\"../true_eq_true/thm_proof.ipynb\" style=\"text-decoration: none\">&nbsp;&#x22A2;&nbsp;&nbsp;</a><a class=\"ProveItLink\" href=\"../../../__pv_it/theorems/a3c4d9088d0ab0d98fc5c16af22cc7989fca846c0/expr.ipynb\"><img src=\"data:image/png;base64,iVBORw0KGgoAAAANSUhEUgAAADoAAAAOBAMAAACMfhKgAAAAG1BMVEX///+YmJi6urqIiIiqqqpU\n",
       "VFQiIiJmZmYAAAD2GhH1AAAAAXRSTlMAQObYZgAAAAlwSFlzAAAOxAAADsQBlSsOGwAAACVJREFU\n",
       "GNNjKEsDgVQGVIAk6syADTij0QMli+r8oWyvIlZZkCgA3LER73tvWYUAAAAASUVORK5CYII=\n",
       "\" style=\"display:inline;vertical-align:middle;\" /></a></span></td></tr>\n",
       "<tr><td>&nbsp;</td><td colspan=4 style-\"text-align:left\"><a class=\"ProveItLink\" href=\"../true_eq_true/thm_proof.ipynb\">proveit.logic.booleans.true_eq_true</a></td></tr><tr><td><a name=\"0x98fa726e192de62_step9\">9</a></td><td>theorem</td><td></td><td><span style=\"font-size:20px;\"> <a class=\"ProveItLink\" href=\"../../../../equality/_theory_nbs_/proofs/unfold_not_equals/thm_proof.ipynb\" style=\"text-decoration: none\">&nbsp;&#x22A2;&nbsp;&nbsp;</a><a class=\"ProveItLink\" href=\"../../../../equality/__pv_it/theorems/e42f6f162f844bb3f18b6f3cc764b6573b311a9d0/expr.ipynb\"><img src=\"data:image/png;base64,iVBORw0KGgoAAAANSUhEUgAAAL8AAAAXCAMAAABte263AAAAOVBMVEX///82NjYbGxsSEhKIiIgi\n",
       "IiIQEBB2dnbu7u5ERETMzMzc3NwyMjK6urpmZmaYmJiqqqpUVFQAAAAnLjGdAAAAAXRSTlMAQObY\n",
       "ZgAAAAlwSFlzAAAOxAAADsQBlSsOGwAAAmBJREFUWMPNV4t27RAQ1XbCIF75/4+9CAlHkHSt3NVZ\n",
       "7ZnWDDb2PA4h74t8bLi1nCT/R8A+NYxFQandMW7NK/Ate2qYXogptFZ5eH3lQXB9apjLiqcW+QEk\n",
       "f+X6tXlqmIvRhc6HYfYV/PSx4c6ieGqT7mF9h/3rU8MtAplC0yUIZe/Qh00MCOBQsNnrI0S+4c52\n",
       "lkgftRbhT443wAx3GN5U1+DXBAdEL8cmSyFHdmTEBsKZbSd+eryopcsfMxlFOFOXw4v9BKUrg5EB\n",
       "FBI3jmZh9xO6HYJNwbPrcPWd7W/j752fqo5jMoS31/NQ8AhpKFd0r11iI4W2cDN6B/id/B1+coKa\n",
       "VN0tJPtN7P+k+096JSYtAaCl/8kF2lUFusJfeRLFrmdkmrT4T4Pa/CqIY/7vjwSZN0ulmU1FAGRg\n",
       "2GpTyBN/ZkEv8R+emgf58b/mYgbhn3crdWlAroijMT5nb+/yR4gaXmlJ83hcV6SdMBwP+CX+yjN3\n",
       "JO2MI9O18R4NdhOoPX41LZ7ahZcydfLN2onDbyuI7LzZQY//pyfy3gwill5GiQbUAMRqM6/96Bjo\n",
       "vOWial0sS4vGOpip6OBPnoE/31888qed4UdEB1DXMMjRKcvIpdYHN2l08QxFlrZQ22X+OT1J0QK2\n",
       "M85eq9uE3YeO1NatX9MCalAMICSq6Ooflq/X+fPwrEv354xg7bXl/Em/vsBOzrJTHnbMHj/6DbiZ\n",
       "5n978r2ZUQUHuWm43MTA8U0lH3x0AQpjIKp1Xr8Kl2ZGvKZeeZJAfiMga33NznAGA2xef22RA5oZ\n",
       "f0vk34P0D9r3GG/sNSEOAAAAAElFTkSuQmCC\n",
       "\" style=\"display:inline;vertical-align:middle;\" /></a></span></td></tr>\n",
       "<tr><td>&nbsp;</td><td colspan=4 style-\"text-align:left\"><a class=\"ProveItLink\" href=\"../../../../equality/_theory_nbs_/proofs/unfold_not_equals/thm_proof.ipynb\">proveit.logic.equality.unfold_not_equals</a></td></tr><tr><td><a name=\"0x98fa726e192de62_step10\">10</a></td><td>instantiation</td><td><a href=\"#0x98fa726e192de62_step11\">11</a>, <a href=\"#0x98fa726e192de62_step12\">12</a></td><td><span style=\"font-size:20px;\"> <a class=\"ProveItLink\" href=\"../../../__pv_it/_proof_true_is_bool/95cfabd3a9e3c885d47913ceafb0ad9ae96b70540/proof.ipynb\" style=\"text-decoration: none\">&nbsp;&#x22A2;&nbsp;&nbsp;</a><a class=\"ProveItLink\" href=\"../../../__pv_it/theorems/870a060ad7dcb1bd4612ad00133aadda1058053b0/expr.ipynb\"><img src=\"data:image/png;base64,iVBORw0KGgoAAAANSUhEUgAAADoAAAAUCAMAAADrw95cAAAAPFBMVEX///8QEBANDQ0WFhYLCwsY\n",
       "GBh2dnYyMjLc3NxERETMzMzu7u6YmJi6urqIiIiqqqpUVFQiIiJmZmYAAADirtrwAAAAAXRSTlMA\n",
       "QObYZgAAAAlwSFlzAAAOxAAADsQBlSsOGwAAAIJJREFUOMudk8sSgCAIRbGXiprp/39si5qmFEaC\n",
       "ncDhCiLAyGpgI+VlRx9H33pS/BzzzpX22HqaXBbF/iJS1Dstmojuhah1v9F77utCzF2mSonK0FRB\n",
       "i5Kiol7nidwxiaqlt1eA5goStFlpRvR6MmO4r/IU30BrNmjJqBctalHAYcYJlj0HyMx8b3cAAAAA\n",
       "SUVORK5CYII=\n",
       "\" style=\"display:inline;vertical-align:middle;\" /></a></span></td></tr>\n",
       "<tr><td>&nbsp;</td><td colspan=4 style=\"text-align:left\"><span style=\"font-size:20px;\"><a class=\"ProveItLink\" href=\"../../../../../__pv_it/common/a0d9d672aa5e272d907247690c152cc2c6daafb70/expr.ipynb\"><img src=\"data:image/png;base64,iVBORw0KGgoAAAANSUhEUgAAAAsAAAAJBAMAAAAWSsseAAAAMFBMVEX///9ERES6uroQEBAyMjLc\n",
       "3NyYmJgiIiJmZmaqqqp2dnbMzMxUVFSIiIju7u4AAAAd7oVFAAAAAXRSTlMAQObYZgAAAAlwSFlz\n",
       "AAAOxAAADsQBlSsOGwAAAENJREFUCNdjYHh75/WqCQwMDbxnOQoY2ALY/vEkMHAzcDgwgADzBTCl\n",
       "H8D3gOGhwmEGLgaG+fuaGTQZGF7c5WybwAAAJTwQ1a2DuB8AAAAASUVORK5CYII=\n",
       "\" style=\"display:inline;vertical-align:middle;\" /></a> : <a class=\"ProveItLink\" href=\"../../../__pv_it/common/e0f123f2e4f322e1eba7f861749cda9fd9d99a120/expr.ipynb\"><img src=\"data:image/png;base64,iVBORw0KGgoAAAANSUhEUgAAAA4AAAAPBAMAAAAmOuNHAAAAHlBMVEX///9UVFQQEBAiIiJmZmaI\n",
       "iIiqqqqYmJi6uroAAAAAFVhYAAAAAXRSTlMAQObYZgAAAAlwSFlzAAAOxAAADsQBlSsOGwAAABhJ\n",
       "REFUCNdjYECAdiidSkva2dhYydjYEABIWQamWbU+1AAAAABJRU5ErkJggg==\n",
       "\" style=\"display:inline;vertical-align:middle;\" /></a>, <a class=\"ProveItLink\" href=\"../../../../../__pv_it/common/ff7dba4ef0bbe791ab573bf2d9c220a304399ac80/expr.ipynb\"><img src=\"data:image/png;base64,iVBORw0KGgoAAAANSUhEUgAAAAsAAAANBAMAAACN24kIAAAAMFBMVEX////c3NwyMjK6urpEREQi\n",
       "IiLMzMwQEBCqqqp2dnZUVFSYmJhmZmaIiIju7u4AAADlKNhoAAAAAXRSTlMAQObYZgAAAAlwSFlz\n",
       "AAAOxAAADsQBlSsOGwAAAFhJREFUCNdj4LuzgeEVAwMnRwHDfgaGDJ4AhiUMDA/YLzDUMjAw2D9g\n",
       "+wakDjHwFgApLwaWBUDqFIP9BiD1au55AQYQmATEnAp8FUCK9QLXBCDFsfcwkAQA5QkUAIef7yAA\n",
       "AAAASUVORK5CYII=\n",
       "\" style=\"display:inline;vertical-align:middle;\" /></a> : <a class=\"ProveItLink\" href=\"../../../__pv_it/common/95025295868b9266d37330b4427adf122f6061770/expr.ipynb\"><img src=\"data:image/png;base64,iVBORw0KGgoAAAANSUhEUgAAAA4AAAAOBAMAAADtZjDiAAAAG1BMVEX///+YmJi6urqIiIiqqqpU\n",
       "VFQiIiJmZmYAAAD2GhH1AAAAAXRSTlMAQObYZgAAAAlwSFlzAAAOxAAADsQBlSsOGwAAABhJREFU\n",
       "CNdjKEsDgVQGIHBmgABa0YpADADkogYfXGfJdgAAAABJRU5ErkJggg==\n",
       "\" style=\"display:inline;vertical-align:middle;\" /></a></span></td></tr><tr><td><a name=\"0x98fa726e192de62_step11\">11</a></td><td>theorem</td><td></td><td><span style=\"font-size:20px;\"> <a class=\"ProveItLink\" href=\"../../../../equality/_theory_nbs_/proofs/not_equals_symmetry/thm_proof.ipynb\" style=\"text-decoration: none\">&nbsp;&#x22A2;&nbsp;&nbsp;</a><a class=\"ProveItLink\" href=\"../../../../equality/__pv_it/theorems/b63fa92f9552e2ae14e2571bdff5b7fb61390f030/expr.ipynb\"><img src=\"data:image/png;base64,iVBORw0KGgoAAAANSUhEUgAAAKEAAAAXCAMAAABUHN/sAAAARVBMVEX///8NDQ0WFhYLCwsYGBg2\n",
       "NjYbGxsSEhKIiIgiIiIQEBB2dnbu7u5ERETMzMzc3NwyMjK6urpmZmaYmJiqqqpUVFQAAAA0WiBi\n",
       "AAAAAXRSTlMAQObYZgAAAAlwSFlzAAAOxAAADsQBlSsOGwAAAktJREFUSMfFV4ly3SAMpE3TyNyn\n",
       "//9Tgzhs8AEvnfErk3jGRhLLapF4hLxlqDd6/dMAP563/PKzAXyG7d27pwB6Np6X4m5nCMma+qqf\n",
       "IpXriYGQdzM6kisriUo8RaGdJEeG2ylnC0wczD+FkM4oHCSPRnSu7FA/psJJZBMGkxrR0QUHZY8l\n",
       "uUTmkNLNj4AO+ucAgUtWUsrQ2iadCv7CWsPzMKQBFyMe8+3WGi0xs/z5wGdoF4EAcTYLEROgQn3M\n",
       "xugsMXM3s2Q2pM+rBjGk0CncBCch7yttKtF3v8BrCAc7pKZyTLECp0ejwkNiMKF2V65MjHt48ZwM\n",
       "EAY1QxjBrFjdVjmiMHvsmzC0HGNXvgFYFf9q0wld0+kQdpbEsGuPJsuFGthqT9Lh719Zja2PWWNY\n",
       "nnXtl1IKS1EEhTLRvhwqEjct6SXCzdIKHF/x3114JK/KiAj10TeN7rwJQwJN5yrLMq+paHFzKV5J\n",
       "g+K4ARCXCDvL3D+vPLaCkUgLyE/XYPyxPPhVchsRGt+XqrBrY210EeJ0gDsd7pZc3HkksS/VLDCw\n",
       "qxpRSLgFiLhdVcZyOsGYoi0GTlN5g7BYYpb/foqU5bNHDtN8YPonlx6ilsM7TREi85yV0Ga9PMu7\n",
       "Zd/5jx57+8/gOPVDCqeXDguGAWBNSJEi20JfV5vNsm9HR4/2arBAVkEDfUrhqEdEhDwGFm5aD/2u\n",
       "u5NHq1PvwPaqWmYUjm49hifJGz2v2I3JyaNyAdcXw9mPh9GdGokwDti8p/iGl5PHu4f6H4t+A8S8\n",
       "Hj9YvK5yAAAAAElFTkSuQmCC\n",
       "\" style=\"display:inline;vertical-align:middle;\" /></a></span></td></tr>\n",
       "<tr><td>&nbsp;</td><td colspan=4 style-\"text-align:left\"><a class=\"ProveItLink\" href=\"../../../../equality/_theory_nbs_/proofs/not_equals_symmetry/thm_proof.ipynb\">proveit.logic.equality.not_equals_symmetry</a></td></tr><tr><td><a name=\"0x98fa726e192de62_step12\">12</a></td><td>axiom</td><td></td><td><span style=\"font-size:20px;\"> <a class=\"ProveItLink\" href=\"../../axioms.ipynb#false_not_true\" style=\"text-decoration: none\">&nbsp;&#x22A2;&nbsp;&nbsp;</a><a class=\"ProveItLink\" href=\"../../../__pv_it/axioms/eb8cfde2511c6ba3e5c8a65a4e82d309baeb3e560/expr.ipynb\"><img src=\"data:image/png;base64,iVBORw0KGgoAAAANSUhEUgAAADoAAAAUCAMAAADrw95cAAAAPFBMVEX///8NDQ0WFhYLCwsYGBh2\n",
       "dnYyMjLc3NxERETMzMzu7u5UVFQQEBAiIiJmZmaIiIiqqqqYmJi6uroAAABBDlEnAAAAAXRSTlMA\n",
       "QObYZgAAAAlwSFlzAAAOxAAADsQBlSsOGwAAAH9JREFUOMudk0cSwCAIAElTsUX9/2NziJMxduEI\n",
       "LmtBgFFY2a8H36qgSLqYJFRMuruFCswz2domigqoqOBUNJTSWZTxZTTe5Xmkd7lkrUnn0GCBilal\n",
       "U2fdt//cLFhZfXonUGehj77PoHW5tYa081W+5hdQg0kq6elSQ5YCDlc85V0HMbSWZNIAAAAASUVO\n",
       "RK5CYII=\n",
       "\" style=\"display:inline;vertical-align:middle;\" /></a></span></td></tr>\n",
       "<tr><td>&nbsp;</td><td colspan=4 style-\"text-align:left\"><a class=\"ProveItLink\" href=\"../../axioms.ipynb#false_not_true\">proveit.logic.booleans.false_not_true</a></td></tr></table>"
      ],
      "text/plain": [
       "\tstep type\trequirements\tstatement\n",
       "0\tinstantiation\t1, 2\t|- TRUE in BOOLEAN\n",
       "\tA : TRUE\n",
       "1\tconjecture\t\t|- forall_{A | (A = TRUE) or (A = FALSE)} (A in BOOLEAN)\n",
       "\tproveit.logic.booleans.fold_is_bool\n",
       "2\tinstantiation\t3, 4, 5\t|- (TRUE = TRUE) or (TRUE = FALSE)\n",
       "\tP(_a) : (TRUE = TRUE) or _a, x : TRUE = FALSE\n",
       "3\ttheorem\t\t|- forall_{P, x | P(FALSE), [not](x)} P(x)\n",
       "\tproveit.logic.equality.substitute_falsehood\n",
       "4\tinstantiation\t6, 7, 8\t|- (TRUE = TRUE) or FALSE\n",
       "\tP(_a) : _a or FALSE, x : TRUE = TRUE\n",
       "5\tinstantiation\t9, 10\t|- [not](TRUE = FALSE)\n",
       "\tx : TRUE, y : FALSE\n",
       "6\ttheorem\t\t|- forall_{P, x | P(TRUE), x} P(x)\n",
       "\tproveit.logic.equality.substitute_truth\n",
       "7\ttheorem\t\t|- TRUE or FALSE\n",
       "\tproveit.logic.booleans.disjunction.true_or_false\n",
       "8\ttheorem\t\t|- TRUE = TRUE\n",
       "\tproveit.logic.booleans.true_eq_true\n",
       "9\ttheorem\t\t|- forall_{x, y | x != y} [not](x = y)\n",
       "\tproveit.logic.equality.unfold_not_equals\n",
       "10\tinstantiation\t11, 12\t|- TRUE != FALSE\n",
       "\tx : FALSE, y : TRUE\n",
       "11\ttheorem\t\t|- forall_{x, y | x != y} (y != x)\n",
       "\tproveit.logic.equality.not_equals_symmetry\n",
       "12\taxiom\t\t|- FALSE != TRUE\n",
       "\tproveit.logic.booleans.false_not_true"
      ]
     },
     "execution_count": 10,
     "metadata": {},
     "output_type": "execute_result"
    }
   ],
   "source": [
    "%qed"
   ]
  },
  {
   "cell_type": "code",
   "execution_count": null,
   "metadata": {},
   "outputs": [],
   "source": []
  }
 ],
 "metadata": {
  "kernelspec": {
   "display_name": "Python 3",
   "language": "python",
   "name": "python3"
  },
  "language_info": {
   "codemirror_mode": {
    "name": "ipython",
    "version": 3
   },
   "file_extension": ".py",
   "mimetype": "text/x-python",
   "name": "python",
   "nbconvert_exporter": "python",
   "pygments_lexer": "ipython3",
   "version": "3.7.3"
  }
 },
 "nbformat": 4,
 "nbformat_minor": 1
}
