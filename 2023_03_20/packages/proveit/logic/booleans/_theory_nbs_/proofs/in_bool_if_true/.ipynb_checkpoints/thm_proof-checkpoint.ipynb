{
 "cells": [
  {
   "cell_type": "markdown",
   "metadata": {},
   "source": [
    "Proof of <a class=\"ProveItLink\" href=\"../../../../../_theory_nbs_/theory.ipynb\">proveit</a>.<a class=\"ProveItLink\" href=\"../../../../_theory_nbs_/theory.ipynb\">logic</a>.<a class=\"ProveItLink\" href=\"../../theory.ipynb\">booleans</a>.<a class=\"ProveItLink\" href=\"../../theorems.ipynb#in_bool_if_true\">in_bool_if_true</a> theorem\n",
    "========"
   ]
  },
  {
   "cell_type": "code",
   "execution_count": 1,
   "metadata": {},
   "outputs": [],
   "source": [
    "import proveit\n",
    "from proveit import A\n",
    "from proveit.logic.booleans import true_is_bool\n",
    "theory = proveit.Theory() # the theorem's theory"
   ]
  },
  {
   "cell_type": "code",
   "execution_count": 2,
   "metadata": {},
   "outputs": [
    {
     "data": {
      "text/html": [
       "Under these <a href=\"presumptions.txt\">presumptions</a>, we begin our proof of<br><strong id=\"in_bool_if_true\">in_bool_if_true:</strong> <a class=\"ProveItLink\" href=\"../../../__pv_it/theorems/858f6fea2a9d198e3a6e9cbe3c54c9eff7cff4060/expr.ipynb\"><img src=\"data:image/png;base64,iVBORw0KGgoAAAANSUhEUgAAAIgAAAAXBAMAAAAipBr3AAAAMFBMVEX///+IiIgiIiIQEBB2dnbu\n",
       "7u5ERETMzMzc3NwyMjK6urpmZmaYmJiqqqpUVFQAAAB6qHgnAAAAAXRSTlMAQObYZgAAAAlwSFlz\n",
       "AAAOxAAADsQBlSsOGwAAAiJJREFUOMtjYCACcJAtiQRkIaonoIoKmc2frLeAgUuAgeEBiH8Hrxm8\n",
       "DmCK8wOaeMJCjqmvGBhkGBh2gbgz8BoSCaHuYxiyhsGDDWh4AEMdyKEJeA3ZA6H2/cA05CwfAwPP\n",
       "BpA5DCwX8BpiACZZWr5DuIxJSppwQziBtCkDzwGgg/AHCSRAGxn/gmmuiQEIl7w4AqTnMDAYKSmZ\n",
       "4DWEGxKuG3j/gOnOAETABuqB5PwYGLYzMKSCxSCS3DAlrDAG5wGwAy6wf2FAjYSERZM/bQXSJxkY\n",
       "+hg4wNHMag6WYYMpCS6AMpguQAzn+AfmTkAOWJmVQKsvA3UFsCwAB9xfVEP8YaHNDJYW273vG4hm\n",
       "B3pfSQ1mCBsX0D/1wHATgITrckMUQ7iKBZANYQXyPoEdnIDsEjYGIHcxyH0HwUIC81AMYeR8gOwd\n",
       "UFApg7kKqIYAfXcJyPadCtbEsBPFEAFumOfZQE5aA8TzwVxBFEN4gZLHgOxmsJXLGYSRDeEqYDSA\n",
       "qmUBynOAOPkN4MiCp8yEJQyO3kB6CxDzgaNhi8v7ACRDuF38vkLVsiswsOb/DGC49n8KOFCeLYWI\n",
       "S5rlg3IxA4MWzFRGBob+AiRDBBg4vsPk1FETH5cbNNnDChR4KAH9zH8BYQgXMIH9hcmdxl/acB+A\n",
       "MewYWPfPQhiy+QFD9M8FsJBtwGtIG6YQG6YQK/6SIoMoQxga8ZnB2ECcISQDDjL0AABhh3ZIst9w\n",
       "iAAAAABJRU5ErkJggg==\n",
       "\" style=\"display:inline;vertical-align:middle;\" /></a><br>(see <a class=\"ProveItLink\" href=\"../../../__pv_it/theorems/9369f1f423fb4a33751d1433f87bb08b563588710/dependencies.ipynb\">dependencies</a>)<br>"
      ],
      "text/plain": [
       "in_bool_if_true: forall_{A | A} (A in BOOLEAN)"
      ]
     },
     "execution_count": 2,
     "metadata": {},
     "output_type": "execute_result"
    }
   ],
   "source": [
    "%proving in_bool_if_true"
   ]
  },
  {
   "cell_type": "code",
   "execution_count": 3,
   "metadata": {},
   "outputs": [
    {
     "data": {
      "text/html": [
       "<span style=\"font-size:20px;\"> <a class=\"ProveItLink\" href=\"../true_is_bool/thm_proof.ipynb\" style=\"text-decoration: none\">&nbsp;&#x22A2;&nbsp;&nbsp;</a><a class=\"ProveItLink\" href=\"../../../__pv_it/theorems/e3b19f0f51dc50d19100f70b446827a15792e4b10/expr.ipynb\"><img src=\"data:image/png;base64,iVBORw0KGgoAAAANSUhEUgAAADYAAAAQBAMAAACvnpHFAAAAMFBMVEX///92dnYQEBDMzMzc3Nzu\n",
       "7u4yMjJERESYmJi6urqIiIiqqqpUVFQiIiJmZmYAAAAWQcNMAAAAAXRSTlMAQObYZgAAAAlwSFlz\n",
       "AAAOxAAADsQBlSsOGwAAAKBJREFUGNNjYMACuC6VfdM9ycDw9i4I3EGVZOdc4BYzAcTahaGRnbOB\n",
       "0aEApxzHhgOocsvv3k2AyyWgyE1bitDH4yGALMeSijBz6dqDDMhybA4IuWv69wJQ5JDdwtWZiixn\n",
       "BPJpAVSOoWAislw4sj6GAnZkOV5UOTZkOa4FKHK7UPyXjZATYFz4AMSaAROKqQyAGJBUDo4HFDCx\n",
       "FhJmEAAA5+0316BwS1YAAAAASUVORK5CYII=\n",
       "\" style=\"display:inline;vertical-align:middle;\" /></a></span>"
      ],
      "text/plain": [
       "|- TRUE in BOOLEAN"
      ]
     },
     "execution_count": 3,
     "metadata": {},
     "output_type": "execute_result"
    }
   ],
   "source": [
    "true_is_bool"
   ]
  },
  {
   "cell_type": "code",
   "execution_count": 4,
   "metadata": {},
   "outputs": [
    {
     "data": {
      "text/html": [
       "<strong id=\"AeqT\">AeqT:</strong> <span style=\"font-size:20px;\"><a class=\"ProveItLink\" href=\"../../../../../__pv_it/common/09585084922504426caf1db2ff588a23a0932a960/expr.ipynb\"><img src=\"data:image/png;base64,iVBORw0KGgoAAAANSUhEUgAAAA8AAAAPBAMAAADJ+Ih5AAAAMFBMVEX///8QEBAiIiLu7u5ERES6\n",
       "urqYmJiIiIjMzMx2dnZUVFRmZmaqqqoyMjLc3NwAAABb1yYoAAAAAXRSTlMAQObYZgAAAAlwSFlz\n",
       "AAAOxAAADsQBlSsOGwAAAF9JREFUCNdjYACBtwxQcB9K8/yHMrjXP4Aw5s1vANN8BfUHIDIM5xPA\n",
       "jBiG/glgxgaG9wtANLv37vUOIIY5AwO/AkSGgUkASLMCdfB+ADIeAjHLPwYGk/+XGXj8/04AADnq\n",
       "Fzds8Dk2AAAAAElFTkSuQmCC\n",
       "\" style=\"display:inline;vertical-align:middle;\" /></a> <a class=\"ProveItLink\" href=\"../../../__pv_it/_proof_in_bool_if_true/21b04f8ce2529016e1ffd7a416955c6e437379800/proof.ipynb\" style=\"text-decoration: none\">&nbsp;&#x22A2;&nbsp;&nbsp;</a><a class=\"ProveItLink\" href=\"../../../__pv_it/axioms/bd0a6a631c1aea42bd4e95c9e4e7fa7c531d32e40/expr.ipynb\"><img src=\"data:image/png;base64,iVBORw0KGgoAAAANSUhEUgAAADoAAAAPBAMAAABHIsEFAAAAMFBMVEX///8QEBAiIiLu7u5ERES6\n",
       "urqYmJiIiIjMzMx2dnZUVFRmZmaqqqoyMjLc3NwAAABb1yYoAAAAAXRSTlMAQObYZgAAAAlwSFlz\n",
       "AAAOxAAADsQBlSsOGwAAAHhJREFUGNNjYACBtwz4wH10gU1KIKAFZvP8x6LjOIzBvf4BHtl58xtw\n",
       "y/IV1B/ALcvNcD4Bt2wMQ/8EdIciZDcwvF+AUy+79+71DjhlzRkY+BVwym5gYGASwGUvK9C9vB9w\n",
       "6X0IxCz/cMia/L/MwOP/dwKGbBgQAwArwCVzK582PgAAAABJRU5ErkJggg==\n",
       "\" style=\"display:inline;vertical-align:middle;\" /></a></span><br>"
      ],
      "text/plain": [
       "AeqT: {A} |- A = TRUE"
      ]
     },
     "execution_count": 4,
     "metadata": {},
     "output_type": "execute_result"
    }
   ],
   "source": [
    "AeqT = A.evaluation(assumptions=[A])"
   ]
  },
  {
   "cell_type": "code",
   "execution_count": 5,
   "metadata": {},
   "outputs": [
    {
     "data": {
      "text/html": [
       "<span style=\"font-size:20px;\"><a class=\"ProveItLink\" href=\"../../../../../__pv_it/common/09585084922504426caf1db2ff588a23a0932a960/expr.ipynb\"><img src=\"data:image/png;base64,iVBORw0KGgoAAAANSUhEUgAAAA8AAAAPBAMAAADJ+Ih5AAAAMFBMVEX///8QEBAiIiLu7u5ERES6\n",
       "urqYmJiIiIjMzMx2dnZUVFRmZmaqqqoyMjLc3NwAAABb1yYoAAAAAXRSTlMAQObYZgAAAAlwSFlz\n",
       "AAAOxAAADsQBlSsOGwAAAF9JREFUCNdjYACBtwxQcB9K8/yHMrjXP4Aw5s1vANN8BfUHIDIM5xPA\n",
       "jBiG/glgxgaG9wtANLv37vUOIIY5AwO/AkSGgUkASLMCdfB+ADIeAjHLPwYGk/+XGXj8/04AADnq\n",
       "Fzds8Dk2AAAAAElFTkSuQmCC\n",
       "\" style=\"display:inline;vertical-align:middle;\" /></a> <a class=\"ProveItLink\" href=\"../../../__pv_it/_proof_in_bool_if_true/0e3006781b3ec77d774e1e98f8b4a946234ea7200/proof.ipynb\" style=\"text-decoration: none\">&nbsp;&#x22A2;&nbsp;&nbsp;</a><a class=\"ProveItLink\" href=\"../../../__pv_it/theorems/a10dbfd9a4efbb6f30af430036ab01697a9460f80/expr.ipynb\"><img src=\"data:image/png;base64,iVBORw0KGgoAAAANSUhEUgAAADYAAAAQBAMAAACvnpHFAAAAMFBMVEX///8QEBAiIiLu7u5ERES6\n",
       "urqYmJiIiIjMzMx2dnZUVFRmZmaqqqoyMjLc3NwAAABb1yYoAAAAAXRSTlMAQObYZgAAAAlwSFlz\n",
       "AAAOxAAADsQBlSsOGwAAAONJREFUGNNjYACBtwwogF3R96/QUijnPqocAwtrwVurADCT5z+GXALn\n",
       "Awcwk3v9Aww5tgMLwMx58xugFjkp6cLlLoBYfAX1B8BSrNcN4Pq4nk0AG8lwPgHiXAO4mcVFK8Gs\n",
       "GIZ+sBqGewj7dOW1wQo3MLyH2HsByS3sqZdBDvDevR7sXg4hJSUlFagcg0MkkGHOwMCvABJhdkDS\n",
       "x+DAAjaSgUkALKSAIscLdDjQjbwfwELlKHLHGRgegtj/wEK8B+ByEzgrNzCY/L/MwOP/F+wJ5iXB\n",
       "kOC56IKIBxhgnQIJMwgAAIdSN5QgoD0bAAAAAElFTkSuQmCC\n",
       "\" style=\"display:inline;vertical-align:middle;\" /></a></span>"
      ],
      "text/plain": [
       "{A} |- A in BOOLEAN"
      ]
     },
     "execution_count": 5,
     "metadata": {},
     "output_type": "execute_result"
    }
   ],
   "source": [
    "AeqT.sub_left_side_into(true_is_bool)"
   ]
  },
  {
   "cell_type": "code",
   "execution_count": 6,
   "metadata": {},
   "outputs": [
    {
     "data": {
      "text/html": [
       "<table><tr><th>&nbsp;</th><th>step type</th><th>requirements</th><th>statement</th></tr>\n",
       "<tr><td><a name=\"-0x5fb3a55a2c07552f_step0\">0</a></td><td>generalization</td><td><a href=\"#-0x5fb3a55a2c07552f_step1\">1</a></td><td><span style=\"font-size:20px;\"> <a class=\"ProveItLink\" href=\"../../../__pv_it/_proof_in_bool_if_true/b83030267bb1c15366394a1046fb49683c8302ae0/proof.ipynb\" style=\"text-decoration: none\">&nbsp;&#x22A2;&nbsp;&nbsp;</a><a class=\"ProveItLink\" href=\"../../../__pv_it/theorems/858f6fea2a9d198e3a6e9cbe3c54c9eff7cff4060/expr.ipynb\"><img src=\"data:image/png;base64,iVBORw0KGgoAAAANSUhEUgAAAIgAAAAXBAMAAAAipBr3AAAAMFBMVEX///+IiIgiIiIQEBB2dnbu\n",
       "7u5ERETMzMzc3NwyMjK6urpmZmaYmJiqqqpUVFQAAAB6qHgnAAAAAXRSTlMAQObYZgAAAAlwSFlz\n",
       "AAAOxAAADsQBlSsOGwAAAiJJREFUOMtjYCACcJAtiQRkIaonoIoKmc2frLeAgUuAgeEBiH8Hrxm8\n",
       "DmCK8wOaeMJCjqmvGBhkGBh2gbgz8BoSCaHuYxiyhsGDDWh4AEMdyKEJeA3ZA6H2/cA05CwfAwPP\n",
       "BpA5DCwX8BpiACZZWr5DuIxJSppwQziBtCkDzwGgg/AHCSRAGxn/gmmuiQEIl7w4AqTnMDAYKSmZ\n",
       "4DWEGxKuG3j/gOnOAETABuqB5PwYGLYzMKSCxSCS3DAlrDAG5wGwAy6wf2FAjYSERZM/bQXSJxkY\n",
       "+hg4wNHMag6WYYMpCS6AMpguQAzn+AfmTkAOWJmVQKsvA3UFsCwAB9xfVEP8YaHNDJYW273vG4hm\n",
       "B3pfSQ1mCBsX0D/1wHATgITrckMUQ7iKBZANYQXyPoEdnIDsEjYGIHcxyH0HwUIC81AMYeR8gOwd\n",
       "UFApg7kKqIYAfXcJyPadCtbEsBPFEAFumOfZQE5aA8TzwVxBFEN4gZLHgOxmsJXLGYSRDeEqYDSA\n",
       "qmUBynOAOPkN4MiCp8yEJQyO3kB6CxDzgaNhi8v7ACRDuF38vkLVsiswsOb/DGC49n8KOFCeLYWI\n",
       "S5rlg3IxA4MWzFRGBob+AiRDBBg4vsPk1FETH5cbNNnDChR4KAH9zH8BYQgXMIH9hcmdxl/acB+A\n",
       "MewYWPfPQhiy+QFD9M8FsJBtwGtIG6YQG6YQK/6SIoMoQxga8ZnB2ECcISQDDjL0AABhh3ZIst9w\n",
       "iAAAAABJRU5ErkJggg==\n",
       "\" style=\"display:inline;vertical-align:middle;\" /></a></span></td></tr>\n",
       "<tr><td><a name=\"-0x5fb3a55a2c07552f_step1\">1</a></td><td>instantiation</td><td><a href=\"#-0x5fb3a55a2c07552f_step2\">2</a>, <a href=\"#-0x5fb3a55a2c07552f_step3\">3</a>, <a href=\"#-0x5fb3a55a2c07552f_step4\">4</a></td><td><span style=\"font-size:20px;\"><a class=\"ProveItLink\" href=\"../../../../../__pv_it/common/09585084922504426caf1db2ff588a23a0932a960/expr.ipynb\"><img src=\"data:image/png;base64,iVBORw0KGgoAAAANSUhEUgAAAA8AAAAPBAMAAADJ+Ih5AAAAMFBMVEX///8QEBAiIiLu7u5ERES6\n",
       "urqYmJiIiIjMzMx2dnZUVFRmZmaqqqoyMjLc3NwAAABb1yYoAAAAAXRSTlMAQObYZgAAAAlwSFlz\n",
       "AAAOxAAADsQBlSsOGwAAAF9JREFUCNdjYACBtwxQcB9K8/yHMrjXP4Aw5s1vANN8BfUHIDIM5xPA\n",
       "jBiG/glgxgaG9wtANLv37vUOIIY5AwO/AkSGgUkASLMCdfB+ADIeAjHLPwYGk/+XGXj8/04AADnq\n",
       "Fzds8Dk2AAAAAElFTkSuQmCC\n",
       "\" style=\"display:inline;vertical-align:middle;\" /></a> <a class=\"ProveItLink\" href=\"../../../__pv_it/_proof_in_bool_if_true/0e3006781b3ec77d774e1e98f8b4a946234ea7200/proof.ipynb\" style=\"text-decoration: none\">&nbsp;&#x22A2;&nbsp;&nbsp;</a><a class=\"ProveItLink\" href=\"../../../__pv_it/theorems/a10dbfd9a4efbb6f30af430036ab01697a9460f80/expr.ipynb\"><img src=\"data:image/png;base64,iVBORw0KGgoAAAANSUhEUgAAADYAAAAQBAMAAACvnpHFAAAAMFBMVEX///8QEBAiIiLu7u5ERES6\n",
       "urqYmJiIiIjMzMx2dnZUVFRmZmaqqqoyMjLc3NwAAABb1yYoAAAAAXRSTlMAQObYZgAAAAlwSFlz\n",
       "AAAOxAAADsQBlSsOGwAAAONJREFUGNNjYACBtwwogF3R96/QUijnPqocAwtrwVurADCT5z+GXALn\n",
       "Awcwk3v9Aww5tgMLwMx58xugFjkp6cLlLoBYfAX1B8BSrNcN4Pq4nk0AG8lwPgHiXAO4mcVFK8Gs\n",
       "GIZ+sBqGewj7dOW1wQo3MLyH2HsByS3sqZdBDvDevR7sXg4hJSUlFagcg0MkkGHOwMCvABJhdkDS\n",
       "x+DAAjaSgUkALKSAIscLdDjQjbwfwELlKHLHGRgegtj/wEK8B+ByEzgrNzCY/L/MwOP/F+wJ5iXB\n",
       "kOC56IKIBxhgnQIJMwgAAIdSN5QgoD0bAAAAAElFTkSuQmCC\n",
       "\" style=\"display:inline;vertical-align:middle;\" /></a></span></td></tr>\n",
       "<tr><td>&nbsp;</td><td colspan=4 style=\"text-align:left\"><span style=\"font-size:20px;\"><a class=\"ProveItLink\" href=\"../../../__pv_it/_proof_in_bool_if_true/1d99392da58b40374b949787020ddefb47f454cd0/expr.ipynb\"><img src=\"data:image/png;base64,iVBORw0KGgoAAAANSUhEUgAAADsAAAAVBAMAAAAKrYvGAAAAMFBMVEX///+6urqYmJgiIiLc3Nx2\n",
       "dnaqqqrMzMwQEBDu7u5mZmYyMjJUVFRERESIiIgAAAAee7pSAAAAAXRSTlMAQObYZgAAAAlwSFlz\n",
       "AAAOxAAADsQBlSsOGwAAAR1JREFUKM9jYEAGDnh4DAx8CShcOTD59v+ds7smgFipaKoVwNRvBgbe\n",
       "TiDNuQHNtJ0ggv0fAwMbEDNwKaBJa4HN+A7EX4EMDjRZBg6QlbwfgBiohCEbXZobZBz/BQaG+gdA\n",
       "xlKEBMvRJ0AR1gMMYClXM5DYJoS0hAPvTwYGJpBb3x8NVQSLmcFlOZsYuAyADm4Asu/DBBvh0lwf\n",
       "GJgDgH76APE2ujTHBYb5AgwMjEDd7F9hggjD5z9g0AdSbEAL+D7CBO8hpBMYTrM5MDAB/cT9ASYY\n",
       "A5fmfcBmxQV0QgAD1/2/D6CCxUCb7gLBFQbOc+E+zxkYmAWQA4m5AC3UnFF4TAvQpBehcq+gclku\n",
       "oPLnonJ50VITywMU7hMGBgCRA0HPkLXvDgAAAABJRU5ErkJggg==\n",
       "\" style=\"display:inline;vertical-align:middle;\" /></a> : <a class=\"ProveItLink\" href=\"../../../__pv_it/_proof_in_bool_if_true/d5858da83a81e2d99e13db028817328aa509bfdb0/expr.ipynb\"><img src=\"data:image/png;base64,iVBORw0KGgoAAAANSUhEUgAAAD4AAAAQBAMAAAC8SdExAAAAMFBMVEX///8yMjKqqqoiIiJmZmaY\n",
       "mJju7u4QEBC6urqIiIh2dnZUVFTc3NxERETMzMwAAAAY8qdrAAAAAXRSTlMAQObYZgAAAAlwSFlz\n",
       "AAAOxAAADsQBlSsOGwAAAMxJREFUGNNjYMABOM0vfizewYAb8HJMOJjdgE8+gOvABbzyrAobMMXn\n",
       "GhsLwOUFMKQbpyH0cx9dABc/vfIkiOIRQ5g/bfIuuDRHDcP9BCDNeAAhb1hvkgDjpQcwOINoRmT3\n",
       "cUbATfNnYLAC0c+NgeACVJ7hQhdMvpaB7QeIzkXWz3CBF8ph+8nA+gHEYEaVh1nH9omBW0AHFOwT\n",
       "UOQ1YbybDMoODiCGEEJ+AdcsB4a3d4HgAEP2rDc7H4CEs29A/MQpfhd7/HVdNkYKVQD4kjfiMSG9\n",
       "pwAAAABJRU5ErkJggg==\n",
       "\" style=\"display:inline;vertical-align:middle;\" /></a>, <a class=\"ProveItLink\" href=\"../../../../../__pv_it/common/a0d9d672aa5e272d907247690c152cc2c6daafb70/expr.ipynb\"><img src=\"data:image/png;base64,iVBORw0KGgoAAAANSUhEUgAAAAsAAAAJBAMAAAAWSsseAAAAMFBMVEX///9ERES6uroQEBAyMjLc\n",
       "3NyYmJgiIiJmZmaqqqp2dnbMzMxUVFSIiIju7u4AAAAd7oVFAAAAAXRSTlMAQObYZgAAAAlwSFlz\n",
       "AAAOxAAADsQBlSsOGwAAAENJREFUCNdjYHh75/WqCQwMDbxnOQoY2ALY/vEkMHAzcDgwgADzBTCl\n",
       "H8D3gOGhwmEGLgaG+fuaGTQZGF7c5WybwAAAJTwQ1a2DuB8AAAAASUVORK5CYII=\n",
       "\" style=\"display:inline;vertical-align:middle;\" /></a> : <a class=\"ProveItLink\" href=\"../../../../../__pv_it/common/09585084922504426caf1db2ff588a23a0932a960/expr.ipynb\"><img src=\"data:image/png;base64,iVBORw0KGgoAAAANSUhEUgAAAA8AAAAPBAMAAADJ+Ih5AAAAMFBMVEX///8QEBAiIiLu7u5ERES6\n",
       "urqYmJiIiIjMzMx2dnZUVFRmZmaqqqoyMjLc3NwAAABb1yYoAAAAAXRSTlMAQObYZgAAAAlwSFlz\n",
       "AAAOxAAADsQBlSsOGwAAAF9JREFUCNdjYACBtwxQcB9K8/yHMrjXP4Aw5s1vANN8BfUHIDIM5xPA\n",
       "jBiG/glgxgaG9wtANLv37vUOIIY5AwO/AkSGgUkASLMCdfB+ADIeAjHLPwYGk/+XGXj8/04AADnq\n",
       "Fzds8Dk2AAAAAElFTkSuQmCC\n",
       "\" style=\"display:inline;vertical-align:middle;\" /></a></span></td></tr><tr><td><a name=\"-0x5fb3a55a2c07552f_step2\">2</a></td><td>theorem</td><td></td><td><span style=\"font-size:20px;\"> <a class=\"ProveItLink\" href=\"../../../../equality/_theory_nbs_/proofs/substitute_truth/thm_proof.ipynb\" style=\"text-decoration: none\">&nbsp;&#x22A2;&nbsp;&nbsp;</a><a class=\"ProveItLink\" href=\"../../../../equality/__pv_it/theorems/2ab51f701f0ff9fb65cd28c535b1265f4bcde8cf0/expr.ipynb\"><img src=\"data:image/png;base64,iVBORw0KGgoAAAANSUhEUgAAAKIAAAAXBAMAAAB624nuAAAAMFBMVEX///+IiIgiIiIQEBB2dnbu\n",
       "7u5ERETMzMzc3NwyMjK6urpmZmaYmJiqqqpUVFQAAAB6qHgnAAAAAXRSTlMAQObYZgAAAAlwSFlz\n",
       "AAAOxAAADsQBlSsOGwAAAmpJREFUOMutlU1o1EAUx//pJtvsJhs3lyL4FXoUFBXrQSwUaQ8iSrzU\n",
       "gyDpwaUntyh6tBHFY7sXQVBhwbY3MWJBEZFVQbCnxQ9QFFxRRCiUFbZ+HvRNkkkmmz1o6IPJe3n7\n",
       "8pvMm/9kgbUxN3Aq1sqkZuCLZaDFgnfZOAN/Tn6+arPoJU9tBO4zfyXjq/0E8kPklRrPFGycY6t3\n",
       "sgH7vwIlGtAaPKV7DAq5mbF732l0KMjFuSHohC9kXHS+TYOoeBPnrgG7Bgd3ZySuo25N0+5ikcaR\n",
       "zUdHaa2HgbvAiVStlrh7HfpyVxXRLm4LXwye9EGzgGfADFRSULG6+PCLsJ7ALfw+uOJCr8uVyp7K\n",
       "RNc8wJZPo0t+QFjd1VcN6uALetiW65R8DOxPEXULsoXjLGRyKI4kiVUe7KV9h+ZLaJq2v+xvzDJN\n",
       "mSIaHqR2IFlfYJdTcoyItOF+U27QqD1i0TCwnbSw4fw9gZhroq8FKyIe8jUT1qC/w4l+M2+5Cinx\n",
       "OStjM6urmPGA9YZzXSDO2uoy1FpEfMsuvAbSL06cAMbrHyFT+JTGBXa09Z3mK3KNfHlKID4xN9ko\n",
       "OhFxAUINCm1OJMm8P3MHN0MhGex3oxVKzBX7uMIupVZEPCvWaNVvXE6ngGNm6QE7elv5LLnwZJ4O\n",
       "vnQhcZ/fLie5al4jWN8Uj1SLR7NUpIyoOw7Ai4nqD9/FO2OKNYLpUSL6ZkjVMXqZYdyeM+2YONDx\n",
       "bybZxQsioUa0SR5cSuZL3XoMbI4HiiPWiDaeQgc235uouUIw35OohnskdXW40ZuIsdAvJWr+z5L/\n",
       "aUro7X959C9VvIbt4M/wLgAAAABJRU5ErkJggg==\n",
       "\" style=\"display:inline;vertical-align:middle;\" /></a></span></td></tr>\n",
       "<tr><td>&nbsp;</td><td colspan=4 style-\"text-align:left\"><a class=\"ProveItLink\" href=\"../../../../equality/_theory_nbs_/proofs/substitute_truth/thm_proof.ipynb\">proveit.logic.equality.substitute_truth</a></td></tr><tr><td><a name=\"-0x5fb3a55a2c07552f_step3\">3</a></td><td>conjecture</td><td></td><td><span style=\"font-size:20px;\"> <a class=\"ProveItLink\" href=\"../true_is_bool/thm_proof.ipynb\" style=\"text-decoration: none\">&nbsp;&#x22A2;&nbsp;&nbsp;</a><a class=\"ProveItLink\" href=\"../../../__pv_it/theorems/e3b19f0f51dc50d19100f70b446827a15792e4b10/expr.ipynb\"><img src=\"data:image/png;base64,iVBORw0KGgoAAAANSUhEUgAAADYAAAAQBAMAAACvnpHFAAAAMFBMVEX///92dnYQEBDMzMzc3Nzu\n",
       "7u4yMjJERESYmJi6urqIiIiqqqpUVFQiIiJmZmYAAAAWQcNMAAAAAXRSTlMAQObYZgAAAAlwSFlz\n",
       "AAAOxAAADsQBlSsOGwAAAKBJREFUGNNjYMACuC6VfdM9ycDw9i4I3EGVZOdc4BYzAcTahaGRnbOB\n",
       "0aEApxzHhgOocsvv3k2AyyWgyE1bitDH4yGALMeSijBz6dqDDMhybA4IuWv69wJQ5JDdwtWZiixn\n",
       "BPJpAVSOoWAislw4sj6GAnZkOV5UOTZkOa4FKHK7UPyXjZATYFz4AMSaAROKqQyAGJBUDo4HFDCx\n",
       "FhJmEAAA5+0316BwS1YAAAAASUVORK5CYII=\n",
       "\" style=\"display:inline;vertical-align:middle;\" /></a></span></td></tr>\n",
       "<tr><td>&nbsp;</td><td colspan=4 style-\"text-align:left\"><a class=\"ProveItLink\" href=\"../true_is_bool/thm_proof.ipynb\">proveit.logic.booleans.true_is_bool</a></td></tr><tr><td><a name=\"-0x5fb3a55a2c07552f_step4\">4</a></td><td>assumption</td><td></td><td><span style=\"font-size:20px;\"><a class=\"ProveItLink\" href=\"../../../../../__pv_it/common/09585084922504426caf1db2ff588a23a0932a960/expr.ipynb\"><img src=\"data:image/png;base64,iVBORw0KGgoAAAANSUhEUgAAAA8AAAAPBAMAAADJ+Ih5AAAAMFBMVEX///8QEBAiIiLu7u5ERES6\n",
       "urqYmJiIiIjMzMx2dnZUVFRmZmaqqqoyMjLc3NwAAABb1yYoAAAAAXRSTlMAQObYZgAAAAlwSFlz\n",
       "AAAOxAAADsQBlSsOGwAAAF9JREFUCNdjYACBtwxQcB9K8/yHMrjXP4Aw5s1vANN8BfUHIDIM5xPA\n",
       "jBiG/glgxgaG9wtANLv37vUOIIY5AwO/AkSGgUkASLMCdfB+ADIeAjHLPwYGk/+XGXj8/04AADnq\n",
       "Fzds8Dk2AAAAAElFTkSuQmCC\n",
       "\" style=\"display:inline;vertical-align:middle;\" /></a> <a class=\"ProveItLink\" href=\"../../../__pv_it/_proof_in_bool_if_true/20b7eda420dd18b82917d5b2814aed1ac49439ac0/proof.ipynb\" style=\"text-decoration: none\">&nbsp;&#x22A2;&nbsp;&nbsp;</a><a class=\"ProveItLink\" href=\"../../../../../__pv_it/common/09585084922504426caf1db2ff588a23a0932a960/expr.ipynb\"><img src=\"data:image/png;base64,iVBORw0KGgoAAAANSUhEUgAAAA8AAAAPBAMAAADJ+Ih5AAAAMFBMVEX///8QEBAiIiLu7u5ERES6\n",
       "urqYmJiIiIjMzMx2dnZUVFRmZmaqqqoyMjLc3NwAAABb1yYoAAAAAXRSTlMAQObYZgAAAAlwSFlz\n",
       "AAAOxAAADsQBlSsOGwAAAF9JREFUCNdjYACBtwxQcB9K8/yHMrjXP4Aw5s1vANN8BfUHIDIM5xPA\n",
       "jBiG/glgxgaG9wtANLv37vUOIIY5AwO/AkSGgUkASLMCdfB+ADIeAjHLPwYGk/+XGXj8/04AADnq\n",
       "Fzds8Dk2AAAAAElFTkSuQmCC\n",
       "\" style=\"display:inline;vertical-align:middle;\" /></a></span></td></tr>\n",
       "</table>"
      ],
      "text/plain": [
       "\tstep type\trequirements\tstatement\n",
       "0\tgeneralization\t1\t|- forall_{A | A} (A in BOOLEAN)\n",
       "1\tinstantiation\t2, 3, 4\t{A} |- A in BOOLEAN\n",
       "\tP(_a) : _a in BOOLEAN, x : A\n",
       "2\ttheorem\t\t|- forall_{P, x | P(TRUE), x} P(x)\n",
       "\tproveit.logic.equality.substitute_truth\n",
       "3\tconjecture\t\t|- TRUE in BOOLEAN\n",
       "\tproveit.logic.booleans.true_is_bool\n",
       "4\tassumption\t\t{A} |- A"
      ]
     },
     "execution_count": 6,
     "metadata": {},
     "output_type": "execute_result"
    }
   ],
   "source": [
    "%qed"
   ]
  },
  {
   "cell_type": "code",
   "execution_count": null,
   "metadata": {},
   "outputs": [],
   "source": []
  }
 ],
 "metadata": {
  "kernelspec": {
   "display_name": "Python 3",
   "language": "python",
   "name": "python3"
  },
  "language_info": {
   "codemirror_mode": {
    "name": "ipython",
    "version": 3
   },
   "file_extension": ".py",
   "mimetype": "text/x-python",
   "name": "python",
   "nbconvert_exporter": "python",
   "pygments_lexer": "ipython3",
   "version": "3.7.3"
  }
 },
 "nbformat": 4,
 "nbformat_minor": 1
}
