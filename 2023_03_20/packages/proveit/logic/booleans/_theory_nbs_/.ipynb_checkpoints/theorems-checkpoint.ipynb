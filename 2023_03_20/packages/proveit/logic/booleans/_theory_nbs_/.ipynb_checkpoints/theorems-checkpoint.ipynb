{
 "cells": [
  {
   "cell_type": "markdown",
   "metadata": {},
   "source": [
    "Theorems (or conjectures) for the theory of <a class=\"ProveItLink\" href=\"theory.ipynb\">proveit.logic.booleans</a>\n",
    "========"
   ]
  },
  {
   "cell_type": "code",
   "execution_count": 1,
   "metadata": {},
   "outputs": [],
   "source": [
    "import proveit\n",
    "# Prepare this notebook for defining the theorems of a theory:\n",
    "%theorems_notebook # Keep this at the top following 'import proveit'.\n",
    "from proveit.logic import Boolean, TRUE, FALSE, in_bool, Implies, Not, And, Or, Forall\n",
    "from proveit.logic import Equals, NotEquals, InSet\n",
    "from proveit import A, C, P, Q, PofA, QofA\n",
    "from proveit.logic import PofTrue, PofFalse, QimplPofTrue, QimplPofFalse"
   ]
  },
  {
   "cell_type": "code",
   "execution_count": 2,
   "metadata": {},
   "outputs": [
    {
     "name": "stdout",
     "output_type": "stream",
     "text": [
      "Defining theorems for theory 'proveit.logic.booleans'\n",
      "Subsequent end-of-cell assignments will define theorems\n",
      "'%end theorems' will finalize the definitions\n"
     ]
    }
   ],
   "source": [
    "%begin theorems"
   ]
  },
  {
   "cell_type": "markdown",
   "metadata": {},
   "source": [
    "### Comparisons between Boolean values"
   ]
  },
  {
   "cell_type": "code",
   "execution_count": 3,
   "metadata": {},
   "outputs": [
    {
     "data": {
      "text/html": [
       "<strong id=\"true_eq_true\"><a class=\"ProveItLink\" href=\"proofs/true_eq_true/thm_proof.ipynb\">true_eq_true</a> (established theorem):<br></strong> <a class=\"ProveItLink\" href=\"../__pv_it/theorems/df0ac7cd8e0bd15aeaf18c6cbb52f49b57ce31930/theorem_expr.ipynb\"><img src=\"data:image/png;base64,iVBORw0KGgoAAAANSUhEUgAAADoAAAAOBAMAAACMfhKgAAAAG1BMVEX///+YmJi6urqIiIiqqqpU\n",
       "VFQiIiJmZmYAAAD2GhH1AAAAAXRSTlMAQObYZgAAAAlwSFlzAAAOxAAADsQBlSsOGwAAACVJREFU\n",
       "GNNjKEsDgVQGVIAk6syADTij0QMli+r8oWyvIlZZkCgA3LER73tvWYUAAAAASUVORK5CYII=\n",
       "\" style=\"display:inline;vertical-align:middle;\" /></a><br>"
      ],
      "text/plain": [
       "true_eq_true: TRUE = TRUE"
      ]
     },
     "execution_count": 3,
     "metadata": {},
     "output_type": "execute_result"
    }
   ],
   "source": [
    "true_eq_true = Equals(TRUE, TRUE)"
   ]
  },
  {
   "cell_type": "code",
   "execution_count": 4,
   "metadata": {},
   "outputs": [
    {
     "data": {
      "text/html": [
       "<strong id=\"false_eq_false\"><a class=\"ProveItLink\" href=\"proofs/false_eq_false/thm_proof.ipynb\">false_eq_false</a> (established theorem):<br></strong> <a class=\"ProveItLink\" href=\"../__pv_it/theorems/4c1ca7548bdaa42597e70517d6a63f2225d3e8070/theorem_expr.ipynb\"><img src=\"data:image/png;base64,iVBORw0KGgoAAAANSUhEUgAAADoAAAAPBAMAAABHIsEFAAAAHlBMVEX///9UVFQQEBAiIiJmZmaI\n",
       "iIiqqqqYmJi6uroAAAAAFVhYAAAAAXRSTlMAQObYZgAAAAlwSFlzAAAOxAAADsQBlSsOGwAAACdJ\n",
       "REFUGNNjYCAE2vGKpmKVTR0kss7GIGA41O0FGqeEMI4BYQlIFAB6jxAx84QW2QAAAABJRU5ErkJg\n",
       "gg==\n",
       "\" style=\"display:inline;vertical-align:middle;\" /></a><br>"
      ],
      "text/plain": [
       "false_eq_false: FALSE = FALSE"
      ]
     },
     "execution_count": 4,
     "metadata": {},
     "output_type": "execute_result"
    }
   ],
   "source": [
    "false_eq_false = Equals(FALSE, FALSE)"
   ]
  },
  {
   "cell_type": "code",
   "execution_count": 5,
   "metadata": {},
   "outputs": [
    {
     "data": {
      "text/html": [
       "<strong id=\"true_not_false\"><a class=\"ProveItLink\" href=\"proofs/true_not_false/thm_proof.ipynb\">true_not_false</a> (established theorem):<br></strong> <a class=\"ProveItLink\" href=\"../__pv_it/theorems/781beb7075c2b53ba86ab5b8574ea6e12734ebf90/theorem_expr.ipynb\"><img src=\"data:image/png;base64,iVBORw0KGgoAAAANSUhEUgAAADoAAAAUCAMAAADrw95cAAAAPFBMVEX///8QEBANDQ0WFhYLCwsY\n",
       "GBh2dnYyMjLc3NxERETMzMzu7u6YmJi6urqIiIiqqqpUVFQiIiJmZmYAAADirtrwAAAAAXRSTlMA\n",
       "QObYZgAAAAlwSFlzAAAOxAAADsQBlSsOGwAAAIJJREFUOMudk8sSgCAIRbGXiprp/39si5qmFEaC\n",
       "ncDhCiLAyGpgI+VlRx9H33pS/BzzzpX22HqaXBbF/iJS1Dstmojuhah1v9F77utCzF2mSonK0FRB\n",
       "i5Kiol7nidwxiaqlt1eA5goStFlpRvR6MmO4r/IU30BrNmjJqBctalHAYcYJlj0HyMx8b3cAAAAA\n",
       "SUVORK5CYII=\n",
       "\" style=\"display:inline;vertical-align:middle;\" /></a><br>"
      ],
      "text/plain": [
       "true_not_false: TRUE != FALSE"
      ]
     },
     "execution_count": 5,
     "metadata": {},
     "output_type": "execute_result"
    }
   ],
   "source": [
    "true_not_false = NotEquals(TRUE, FALSE)"
   ]
  },
  {
   "cell_type": "markdown",
   "metadata": {},
   "source": [
    "### `TRUE` and `FALSE` are in the Boolean set:"
   ]
  },
  {
   "cell_type": "code",
   "execution_count": 6,
   "metadata": {},
   "outputs": [
    {
     "data": {
      "text/html": [
       "<strong id=\"fold_is_bool\"><a class=\"ProveItLink\" href=\"proofs/fold_is_bool/thm_proof.ipynb\">fold_is_bool</a> (conjecture with conjecture-based proof):<br></strong> <a class=\"ProveItLink\" href=\"../__pv_it/theorems/20b4fa78f5a8db17ad2802a95fc976c1420c3ee80/theorem_expr.ipynb\"><img src=\"data:image/png;base64,iVBORw0KGgoAAAANSUhEUgAAAO0AAAAXBAMAAAAVatXDAAAAMFBMVEX///+IiIgiIiIQEBB2dnbu\n",
       "7u5ERETMzMzc3NwyMjK6urpmZmaYmJiqqqpUVFQAAAB6qHgnAAAAAXRSTlMAQObYZgAAAAlwSFlz\n",
       "AAAOxAAADsQBlSsOGwAAArFJREFUSMe1VT2IE0EUfsntbpJNNq5/YOcRQThEiIcgWOgWctioa3Ol\n",
       "rMoFRcFgYamLVgHxIhIQEY1weo1CigPPHzC2J8gKNoLoFWJhkyu9Qs43b3ZnJslmA+f6in0z3zcz\n",
       "386b92YA/o/5myb/yTIBucYAuufi+vQvgCfYXmXA17R1P3P3eAA2TLtxpg2ZLsBr1r+fsqzeJGdt\n",
       "DOl2Nd8DaAFcx27eS1m32OWu5w/plgKM8AeAggugBSnrTnB3/FQ9PNhzlSmhi7GYcKGEv1ZI+3i/\n",
       "0Ddv7+YbMu+6Yr/l2w4Kouh0pXIwbd0lHmb4zuPdcEWcd277gV7DWL8EmCPQDQfzlPAlJOtAtMbQ\n",
       "D+n7Am440Je2hjl1dB/OKmGs70Ceakk/xCk+YkWB0GZq52s1GzpRf4AOf1fQ+4F352llaCp5lVnB\n",
       "ZLaq2Ha1NsO0P4quvqpAEl+g9cuj6dAO0/YvvelRoeTwKCt7Q13wcFRuDbVtnlaLBxTdYluBJF5w\n",
       "rS6pj6JV3dMAWyZpE56yX/BwqFllUXhPmP1I0c2qkMSx4DyWDqNpJc4Y9WyVupN9urhNiyEnWjwp\n",
       "Xim6jQgq1tAuR7jVwSvVdBJobmdZ8bACXaPu1j7dT5hXLAK36LAWYbui+0yFJG566A03geZ2ki3L\n",
       "0N/ULQRC19F24M8VWZ6X6VJZOtZzpe43FZIL5zy8ZxaSaG5XAWY3WmBdWadC0n8+5YV2r0bvEWTb\n",
       "Su3N16XutQgaDmRzLpHm6VHvr2xzht+Tkd0UreeYfEF/XglIbihjA3x0EmmyUif5Pnsryv4I6O8e\n",
       "SF3DVyB5MSBMxTJIh9eKIZ6fC4myce8f1zWd2AmzUdySabUVZ4Y/SheWYycsDzXiaXyKknR3wUhd\n",
       "zY3hSiINx9CbsHzo4xbWZXMMPdb+AkEQrq55ji94AAAAAElFTkSuQmCC\n",
       "\" style=\"display:inline;vertical-align:middle;\" /></a><br>"
      ],
      "text/plain": [
       "fold_is_bool: forall_{A | (A = TRUE) or (A = FALSE)} (A in BOOLEAN)"
      ]
     },
     "execution_count": 6,
     "metadata": {},
     "output_type": "execute_result"
    }
   ],
   "source": [
    "fold_is_bool = Forall(A, in_bool(A), \n",
    "                    conditions=[Or(Equals(A, TRUE), Equals(A, FALSE))])"
   ]
  },
  {
   "cell_type": "code",
   "execution_count": 7,
   "metadata": {},
   "outputs": [
    {
     "data": {
      "text/html": [
       "<strong id=\"true_is_bool\"><a class=\"ProveItLink\" href=\"proofs/true_is_bool/thm_proof.ipynb\">true_is_bool</a> (conjecture with conjecture-based proof):<br></strong> <a class=\"ProveItLink\" href=\"../__pv_it/theorems/afebcf07176199c7df41cc36bf6e5dd0af111dfa0/theorem_expr.ipynb\"><img src=\"data:image/png;base64,iVBORw0KGgoAAAANSUhEUgAAADYAAAAQBAMAAACvnpHFAAAAMFBMVEX///92dnYQEBDMzMzc3Nzu\n",
       "7u4yMjJERESYmJi6urqIiIiqqqpUVFQiIiJmZmYAAAAWQcNMAAAAAXRSTlMAQObYZgAAAAlwSFlz\n",
       "AAAOxAAADsQBlSsOGwAAAKBJREFUGNNjYMACuC6VfdM9ycDw9i4I3EGVZOdc4BYzAcTahaGRnbOB\n",
       "0aEApxzHhgOocsvv3k2AyyWgyE1bitDH4yGALMeSijBz6dqDDMhybA4IuWv69wJQ5JDdwtWZiixn\n",
       "BPJpAVSOoWAislw4sj6GAnZkOV5UOTZkOa4FKHK7UPyXjZATYFz4AMSaAROKqQyAGJBUDo4HFDCx\n",
       "FhJmEAAA5+0316BwS1YAAAAASUVORK5CYII=\n",
       "\" style=\"display:inline;vertical-align:middle;\" /></a><br>"
      ],
      "text/plain": [
       "true_is_bool: TRUE in BOOLEAN"
      ]
     },
     "execution_count": 7,
     "metadata": {},
     "output_type": "execute_result"
    }
   ],
   "source": [
    "true_is_bool = InSet(TRUE, Boolean)"
   ]
  },
  {
   "cell_type": "code",
   "execution_count": 8,
   "metadata": {},
   "outputs": [
    {
     "data": {
      "text/html": [
       "<strong id=\"false_is_bool\"><a class=\"ProveItLink\" href=\"proofs/false_is_bool/thm_proof.ipynb\">false_is_bool</a> (conjecture with conjecture-based proof):<br></strong> <a class=\"ProveItLink\" href=\"../__pv_it/theorems/2e401cb5117e855c2c3b49645c27de8d01291cb10/theorem_expr.ipynb\"><img src=\"data:image/png;base64,iVBORw0KGgoAAAANSUhEUgAAADYAAAAQBAMAAACvnpHFAAAAMFBMVEX///92dnbMzMzc3Nzu7u4y\n",
       "MjJERERUVFQQEBAiIiJmZmaIiIiqqqqYmJi6uroAAAAH64KBAAAAAXRSTlMAQObYZgAAAAlwSFlz\n",
       "AAAOxAAADsQBlSsOGwAAAKBJREFUGNNjYMACuGekfu2sAzPfYkiy8W0wdX8AYp3GIneB0SABpxzv\n",
       "gQJUuW0zZwbA5QJQ5J5uQehjtxVAlmMOQZi5ZWchA7IcqwFCbmr/LAcUOWS3cN8LQZbTmAkECVA5\n",
       "hoSHyHJuyPoYEtiQ5ThR5ViR5bg3oMidRvFfDEJOgHHjAoaVM2d2zJw5HSzknucAMSAiDRYPCPAw\n",
       "ExJmEAAAo5Q3lACDAbgAAAAASUVORK5CYII=\n",
       "\" style=\"display:inline;vertical-align:middle;\" /></a><br>"
      ],
      "text/plain": [
       "false_is_bool: FALSE in BOOLEAN"
      ]
     },
     "execution_count": 8,
     "metadata": {},
     "output_type": "execute_result"
    }
   ],
   "source": [
    "false_is_bool = InSet(FALSE, Boolean)"
   ]
  },
  {
   "cell_type": "code",
   "execution_count": 9,
   "metadata": {},
   "outputs": [
    {
     "data": {
      "text/html": [
       "<strong id=\"in_bool_if_true\"><a class=\"ProveItLink\" href=\"proofs/in_bool_if_true/thm_proof.ipynb\">in_bool_if_true</a> (conjecture with conjecture-based proof):<br></strong> <a class=\"ProveItLink\" href=\"../__pv_it/theorems/9369f1f423fb4a33751d1433f87bb08b563588710/theorem_expr.ipynb\"><img src=\"data:image/png;base64,iVBORw0KGgoAAAANSUhEUgAAAIgAAAAXBAMAAAAipBr3AAAAMFBMVEX///+IiIgiIiIQEBB2dnbu\n",
       "7u5ERETMzMzc3NwyMjK6urpmZmaYmJiqqqpUVFQAAAB6qHgnAAAAAXRSTlMAQObYZgAAAAlwSFlz\n",
       "AAAOxAAADsQBlSsOGwAAAiJJREFUOMtjYCACcJAtiQRkIaonoIoKmc2frLeAgUuAgeEBiH8Hrxm8\n",
       "DmCK8wOaeMJCjqmvGBhkGBh2gbgz8BoSCaHuYxiyhsGDDWh4AEMdyKEJeA3ZA6H2/cA05CwfAwPP\n",
       "BpA5DCwX8BpiACZZWr5DuIxJSppwQziBtCkDzwGgg/AHCSRAGxn/gmmuiQEIl7w4AqTnMDAYKSmZ\n",
       "4DWEGxKuG3j/gOnOAETABuqB5PwYGLYzMKSCxSCS3DAlrDAG5wGwAy6wf2FAjYSERZM/bQXSJxkY\n",
       "+hg4wNHMag6WYYMpCS6AMpguQAzn+AfmTkAOWJmVQKsvA3UFsCwAB9xfVEP8YaHNDJYW273vG4hm\n",
       "B3pfSQ1mCBsX0D/1wHATgITrckMUQ7iKBZANYQXyPoEdnIDsEjYGIHcxyH0HwUIC81AMYeR8gOwd\n",
       "UFApg7kKqIYAfXcJyPadCtbEsBPFEAFumOfZQE5aA8TzwVxBFEN4gZLHgOxmsJXLGYSRDeEqYDSA\n",
       "qmUBynOAOPkN4MiCp8yEJQyO3kB6CxDzgaNhi8v7ACRDuF38vkLVsiswsOb/DGC49n8KOFCeLYWI\n",
       "S5rlg3IxA4MWzFRGBob+AiRDBBg4vsPk1FETH5cbNNnDChR4KAH9zH8BYQgXMIH9hcmdxl/acB+A\n",
       "MewYWPfPQhiy+QFD9M8FsJBtwGtIG6YQG6YQK/6SIoMoQxga8ZnB2ECcISQDDjL0AABhh3ZIst9w\n",
       "iAAAAABJRU5ErkJggg==\n",
       "\" style=\"display:inline;vertical-align:middle;\" /></a><br>"
      ],
      "text/plain": [
       "in_bool_if_true: forall_{A | A} (A in BOOLEAN)"
      ]
     },
     "execution_count": 9,
     "metadata": {},
     "output_type": "execute_result"
    }
   ],
   "source": [
    "in_bool_if_true = Forall(A, in_bool(A), conditions=[A])"
   ]
  },
  {
   "cell_type": "code",
   "execution_count": 10,
   "metadata": {},
   "outputs": [
    {
     "data": {
      "text/html": [
       "<strong id=\"in_bool_if_false\"><a class=\"ProveItLink\" href=\"proofs/in_bool_if_false/thm_proof.ipynb\">in_bool_if_false</a> (conjecture with conjecture-based proof):<br></strong> <a class=\"ProveItLink\" href=\"../__pv_it/theorems/bce3aa64e388a6e125166b7c0ec52543337ff79f0/theorem_expr.ipynb\"><img src=\"data:image/png;base64,iVBORw0KGgoAAAANSUhEUgAAAJMAAAAXBAMAAAD96mDoAAAAMFBMVEX///+IiIgiIiIQEBB2dnbu\n",
       "7u5ERETMzMzc3NwyMjK6urpmZmaYmJiqqqpUVFQAAAB6qHgnAAAAAXRSTlMAQObYZgAAAAlwSFlz\n",
       "AAAOxAAADsQBlSsOGwAAAiBJREFUOMtjYCAaNJAtiQ4YL4CpTjRR5cyfRq8YGBYC2Q9AAneIMOoK\n",
       "hJqPJszGJdAZt4CB8QADwy4QfwZhk1gngCne/xhGHWBpSGBgmMrAUAfkciQQNor7AIR634BhFM8F\n",
       "oNdOMzBwBjAwsFwgbBQzhPLwL4AGUpKSJtwooIuZAxh4gLZxEhFUN8Ekh4A8xFquiQFwV/H1OADN\n",
       "AJpjpKRkQoRRWyD+Y7gP8WhnANyDokJPgDQL0JPbGRhSwYIBUMUoAKaDYQ6YXMtQ78CAElFsXJr2\n",
       "2kBVPEBP9jFwgBMEqzlECjXezGEsXTC5gaEfrJhhAlKwM54CRh+vAZAdwLIAJMbyF4tRUEEgsAKH\n",
       "dfbu9+DYZgcGi5Ia1CiGhCVAkQ9A4wQgob7cEItRUEGYUYEMDPwKYNcmILmKIQGoicsA5NaDYDGB\n",
       "eViMggrCPLiBgYHJAMxVQDEK6BhekIjvVLDbGXZiGgUTBIJEUAoAJZwPYK4gilEXgcEOcmczOCCX\n",
       "MwgjGeWWlpamgBAEAj+QSpD8DzCX8wLcKAcWEaBruUExywdOv1tc3geguuoBQhAIihgYwv5PZeDN\n",
       "/wlODazPlkLcPTkNXDIwMC1AeIWhvwDdKLggSGkBaoLjcoNkHBhogrPWAOPmAqpRGxCCQMCzAX9u\n",
       "2APP93YMrPtnoQU7QhAEMvCahK1wYcOlOAyvUWwNJBjFIYDPKAkGEowiHXCQrRMA7iF2J5K9K2MA\n",
       "AAAASUVORK5CYII=\n",
       "\" style=\"display:inline;vertical-align:middle;\" /></a><br>"
      ],
      "text/plain": [
       "in_bool_if_false: forall_{A | [not](A)} (A in BOOLEAN)"
      ]
     },
     "execution_count": 10,
     "metadata": {},
     "output_type": "execute_result"
    }
   ],
   "source": [
    "in_bool_if_false = Forall(A, in_bool(A), conditions=[Not(A)])"
   ]
  },
  {
   "cell_type": "code",
   "execution_count": 11,
   "metadata": {},
   "outputs": [
    {
     "data": {
      "text/html": [
       "<strong id=\"not_equals_false\"><a class=\"ProveItLink\" href=\"proofs/not_equals_false/thm_proof.ipynb\">not_equals_false</a> (established theorem):<br></strong> <a class=\"ProveItLink\" href=\"../__pv_it/theorems/c25e4d83b3d4ba5c64e3e53ea44d3e44c1951d9c0/theorem_expr.ipynb\"><img src=\"data:image/png;base64,iVBORw0KGgoAAAANSUhEUgAAAIwAAAAXCAMAAADuv1eMAAAAPFBMVEX///8NDQ0WFhYLCwsYGBiI\n",
       "iIgiIiIQEBB2dnbu7u5ERETMzMzc3NwyMjK6urpmZmaYmJiqqqpUVFQAAACZSrTsAAAAAXRSTlMA\n",
       "QObYZgAAAAlwSFlzAAAOxAAADsQBlSsOGwAAAc9JREFUSMfFVld2xCAMJIVeZOD+d43BdlbUZctL\n",
       "9OFnI7BGwwhByJvM/Ovy0qjHf7b9SSCH6x1Nz/D77bfnsXiBv2zsTtKqgXALSdMruN9fPE+VLKjw\n",
       "sQ9G6SYHijLYadMXNUY9TwwUpEKIvbx0IDMwG5yIkgn/PBiOP4QRUfeIMVMwhO9AtjMr+4Ji8FpD\n",
       "CY2dxFwgczA2AeEsGRcv7BJeC0k0nVroSbIAIxJayJwqVHZFBUKj1jYOiu12UnRE6CDnyr6/0jNM\n",
       "wGyJXxOuxxWN4y2vdV16szFfYjcxLBFTgvH8IkU4xFex5TUY0QqC3xZTBbBXU3uiALkHRsdrCEnQ\n",
       "aU7HYCpvBUYevsiWiCnBOH4W0oZGKbFhDKbyVtt05s94pZnPj0M5M814dh4xVqJoBOwQTO09ptDq\n",
       "eG/6ge13pVLARyTDA9qGPSIfgWm8t6LM/7nWVEewB3IfzHVABI2GhAhRDsA03kN6mWCpYswM+PQi\n",
       "5sQcBc852jzmmqtAzhAf52rqPTWiH+jpoxsNG/R0XL1q6kVNbmxWPtxs00AWj4RoXQdMzztuggjq\n",
       "EjFLl4alSXI2i60Qo8zbwKRePTS9cm1du9m9cOd6v5m/C/UDzNUSlyQfuK4AAAAASUVORK5CYII=\n",
       "\" style=\"display:inline;vertical-align:middle;\" /></a><br>"
      ],
      "text/plain": [
       "not_equals_false: forall_{A | A} (A != FALSE)"
      ]
     },
     "execution_count": 11,
     "metadata": {},
     "output_type": "execute_result"
    }
   ],
   "source": [
    "not_equals_false = Forall(A, NotEquals(A, FALSE), conditions=[A])"
   ]
  },
  {
   "cell_type": "markdown",
   "metadata": {},
   "source": [
    "### Must equal `TRUE` or `FALSE` if in the Boolean set:"
   ]
  },
  {
   "cell_type": "markdown",
   "metadata": {},
   "source": [
    "***The first form of 'unfold' is a more direct consequence of the Boolean definition.  See also 'unfold_is_bool'.***"
   ]
  },
  {
   "cell_type": "code",
   "execution_count": 12,
   "metadata": {},
   "outputs": [
    {
     "data": {
      "text/html": [
       "<strong id=\"unfold_is_bool_explicit\"><a class=\"ProveItLink\" href=\"proofs/unfold_is_bool_explicit/thm_proof.ipynb\">unfold_is_bool_explicit</a> (conjecture with conjecture-based proof):<br></strong> <a class=\"ProveItLink\" href=\"../__pv_it/theorems/8a173b869451a3cbe9be08a5d0bfa9a364aa986a0/theorem_expr.ipynb\"><img src=\"data:image/png;base64,iVBORw0KGgoAAAANSUhEUgAAAPUAAAAVBAMAAABs27XUAAAAMFBMVEX///+IiIgiIiIQEBB2dnbu\n",
       "7u5ERETMzMzc3NwyMjK6urpmZmaYmJiqqqpUVFQAAAB6qHgnAAAAAXRSTlMAQObYZgAAAAlwSFlz\n",
       "AAAOxAAADsQBlSsOGwAAAqpJREFUSMeNVUuIE0EQrWRn8h8dEURkhRARQUGiq3iTHNSbMnjzIORi\n",
       "lAXZzcWL4I4f9uQnQlZERSMe9uIhyILoyhovgngZFfQimIsKXlxE/IC/7q7q2Z1kqseCV1A99fpN\n",
       "Vf8AzJYjJKQkjUTNJyTYeoKYsMWkFNw4koEAtwl9GbzlspwaQlh+ceBbsaKsD6MxpDiCtLvSpXqI\n",
       "hzK4ymkfIgh7FzOVo0rOe9K/l64JZgK8UH4GcUp2p85pPyIIW/jBaZe60j+R7iiYCaT9HCF/2go4\n",
       "7SpB5Jz7zmnDTunS4RIbCKQ94imURN/z7HK3EMJOp36z2jeUliigGICZQNr5HmJ7pbKD0y7WEMK6\n",
       "zi9W+4De1mlN4gikbfUR9wGOqAFvOFP/nzhIQfZrZHMv136m/EeAVZq0RIB7irA1ol1qIS5CTs1k\n",
       "76L52te36PVPBwihCbk/bN2vlBe7dqMmcQTSdqqIjGd1VB/k8jQ/jINbu/CGMkc6CIA18wvfWO0p\n",
       "bJLvdDWJI5B2dhHhuLjVZreJnxULILStw4PathD5wmrfoSsl74faDIG0C1UEtNTJBPcm4A3l1s7v\n",
       "Hex5UWADu94vMSqfCElLhNj1dsoI2D+j7jl4ALa6Y9z5sUnKzLgIdRXeYut+itHop5DEEfReqyPg\n",
       "rCpiFlZDoYd1n1xHmfos5GR/JnxOew6jg62QxBFIOzy7K1SVc3s+e6UrjcZxud4WZWbLCvbETw9e\n",
       "/20PP2HqZ2Ez3QaBJjEE0f4x1f50B4GWArg0ma1h3VZKD28imB/wcjROJMAZQvi2rQzwkhHaTT1M\n",
       "l77Zir1onEhY/kQJ+m6wH1+DadF+53K7EU6W8RFGmx6IEwny3Rx6O+19jfHoQB1o9xvs2OAsSYT/\n",
       "qki8RgSDpfw4ksnWIv4BKCC8K6RYA9UAAAAASUVORK5CYII=\n",
       "\" style=\"display:inline;vertical-align:middle;\" /></a><br>"
      ],
      "text/plain": [
       "unfold_is_bool_explicit: forall_{A in BOOLEAN} ((A = TRUE) or (A = FALSE))"
      ]
     },
     "execution_count": 12,
     "metadata": {},
     "output_type": "execute_result"
    }
   ],
   "source": [
    "unfold_is_bool_explicit = Forall(A, Or(Equals(A, TRUE), Equals(A, FALSE)), domain=Boolean)"
   ]
  },
  {
   "cell_type": "markdown",
   "metadata": {},
   "source": [
    "### Folding $\\forall$ over the Boolean domain"
   ]
  },
  {
   "cell_type": "code",
   "execution_count": 13,
   "metadata": {},
   "outputs": [
    {
     "data": {
      "text/html": [
       "<strong id=\"forall_over_bool_by_cases\"><a class=\"ProveItLink\" href=\"proofs/forall_over_bool_by_cases/thm_proof.ipynb\">forall_over_bool_by_cases</a> (conjecture with conjecture-based proof):<br></strong> <a class=\"ProveItLink\" href=\"../__pv_it/theorems/d2018f319547b6ba80dc07fa7bab3517da687ca40/theorem_expr.ipynb\"><img src=\"data:image/png;base64,iVBORw0KGgoAAAANSUhEUgAAAPsAAAAXBAMAAAA/2iRsAAAAMFBMVEX///+IiIgiIiIQEBB2dnbu\n",
       "7u5ERETMzMzc3NwyMjK6urpmZmaYmJiqqqpUVFQAAAB6qHgnAAAAAXRSTlMAQObYZgAAAAlwSFlz\n",
       "AAAOxAAADsQBlSsOGwAAA4FJREFUSMetlk1oE0EUx982m2STTeL2UhDUhvQmVFSsglgJ0tYv2q4o\n",
       "vQiSIl0LiikqHm1AKXhpcykICgasPSlEW1AsSv1AaPEQv8CiYg6iQqGt0NpWkTrvze5mskloJVnY\n",
       "zMybmfzezPvPmwWoxCNFetY4MmFVlP+Ztcojp9bqZ4aKqwB+jaZlsfmpbHwIi+B48e6albPfrutY\n",
       "e8cNN9m7gfCPsHmtbLyK6/clSvQvA3gaWOlOUjO4goN1xF/COMTKxntxF/tKdHt/MiR7QeXbo84y\n",
       "PwNpxDMnQM6UH/tBVrSWivgie+dZxcXbB9pRcw04LcAc8lVAeq9YkSzR7ZljL3MBprjotVpc7w1S\n",
       "7PZIZEcF8K5IpC5aonsdC24vUzqM8r2HLxiENsI/AOgSx6bFxgdr+6CYVRPwag94SNzuQjxDX6kH\n",
       "WjA+d6EXHZ0gfD8oTDb++OiTH9TJZTj85/BMAgIpaDFOGoZmOmVbuZeqgGd/0k/1o2YumTp4/7HZ\n",
       "Xfu1aZIq9eYCB1Cobwnv0SlpPAPYJ+ADYZDDcIIihz9DTisO80eFtNMFh6jezuLq3WSkJFn5bHoS\n",
       "t9zcTTt5emwWZ/fStKBGyptmTgr4UBqkOZ4UCO/THVYaNijgX3Pl+c+zkIwxriRDc8Y+9gL+CBND\n",
       "mJW3eLJMPkVjI8AWAe/KQFUWwjaen03BSsNaBbwvQFKQfFmQUFls9S90fuznLXy9Ka6qrax8w/Gt\n",
       "uAZlAfrTAn5AV6ZBSdr4YNphpWEfBbw8RTBNTUIH+aGO7DJ1+9vCd+L24ElnJxFecvxl1EFgW/V7\n",
       "EPDPqzfq4I/ZeF4VrPQzLOCVvTSuR9oKdwgqe+/xm4hg9LQhDv9yiU4h4UMokFDWGsLxM7TkrI33\n",
       "xhxWal8Ub7zvdKab2hZgwjCMDIt9lKSpxn9ZJ/QcQMfKIATjy6xns3BRusbz8XtyTGHzBWvB5lup\n",
       "QFmEC3z1ENUcCaBKuOCVsDBtIJGHV5aonpOepLmjeVYaVu3EY2D/8vzD8Pud+ICQ09j1Y0+T4s15\n",
       "+Jp50lE3WMnFk/A25qyyYew0Os1+ET+ShePLKeUUpp31LWcK8l93rtpX/CtFvHyH7BoTc7DA6o6V\n",
       "+No5ZhjFv3868jxZDa/aIXkIcLvAalfktX61KXY4pARIdavgwQoJpvnxAuskVP7J+2ByO8r8ll42\n",
       "7B/9FekkbPQhsAAAAABJRU5ErkJggg==\n",
       "\" style=\"display:inline;vertical-align:middle;\" /></a><br>"
      ],
      "text/plain": [
       "forall_over_bool_by_cases: forall_{P | P(TRUE), P(FALSE)} [forall_{A in BOOLEAN} P(A)]"
      ]
     },
     "execution_count": 13,
     "metadata": {},
     "output_type": "execute_result"
    }
   ],
   "source": [
    "forall_over_bool_by_cases = Forall(P, Forall(A, PofA, domain=Boolean), conditions=[PofTrue, PofFalse])"
   ]
  },
  {
   "cell_type": "code",
   "execution_count": 14,
   "metadata": {},
   "outputs": [
    {
     "data": {
      "text/html": [
       "<strong id=\"conditioned_forall_over_bool_by_cases\"><a class=\"ProveItLink\" href=\"proofs/conditioned_forall_over_bool_by_cases/thm_proof.ipynb\">conditioned_forall_over_bool_by_cases</a> (conjecture with conjecture-based proof):<br></strong> <a class=\"ProveItLink\" href=\"../__pv_it/theorems/46edd7f2906506240abbd16aad422e507c1cb55a0/theorem_expr.ipynb\"><img src=\"data:image/png;base64,iVBORw0KGgoAAAANSUhEUgAAAbgAAAAZBAMAAACx0yZ/AAAAMFBMVEX///+IiIgiIiIQEBB2dnbu\n",
       "7u5ERETMzMzc3NwyMjK6urpmZmaYmJiqqqpUVFQAAAB6qHgnAAAAAXRSTlMAQObYZgAAAAlwSFlz\n",
       "AAAOxAAADsQBlSsOGwAABUhJREFUWMPdWG+IG0UUf3vZTTabP01QqiKtIUUKopKKWD+0Jda7iran\n",
       "WywFESSldD1RSKBS8ItNPRFEuTuqhSLSRrBXRD9EW+tp65n654NtwSgoFv/FgqgUzijt2aJ39b2Z\n",
       "3Z3ZnbQeQbnQwGZn583vzfu9efPe7AL0xO9Uvvpfq9TyN/UGNxj7P5SeuKzImX6revmRW8QporJX\n",
       "OLkW3b6df3JpuqUaXeyt8vTUI28zdJF1xNvY2WDk3qPn3fNPLlEju7pJKwtwpTbb2HiAP/+A5GAX\n",
       "I/ckLWRp/snFKISe6Qa7PYOE8IIj/HnyHP4dZ+TiyFlv9sCeI18PdoO9roIXRWSBPepP/4n/EZvI\n",
       "JTE6472QUE50m1fKdCHBFEfv0GYowBtM4y35/K29QC6Szy8pdoOdBoj9jvcER9dTf9P6tRi5dwC2\n",
       "dMLU5YevvdTUYaAny8yhl/1SVUWG5BIViFJaACM8PqEqtoUlSMxc3XQXC8Bqxs7gLcljYQRMZGmV\n",
       "D07+wsy/41o+t5tkrsxO4NAarHE2O04mQHn8r7VTVZTpjnObs8m3wUNw/wQs44hjoMjQFLRihLXv\n",
       "r/C+k3e/9T5rRBXFxnLhfG22fx31QV+Te8KcJQcWGLmorZPsQ4DVRHw3mLdL5F6rwnAVHvLneFUy\n",
       "NZkDPcdlNNgqhhFSr4QwWqqMtssWuIe170MjY4udmqab31UkcpJifUZYEm27jQijuPDw5DStZ5uR\n",
       "S2VYPjmNKQdvX+B1SJBL5dAXJV4M2RxxWxTbdB20NpexwbvCCNErI1hFk2Uuuc95PrG2YrQeRlaa\n",
       "DgNNQU5WvH+ZZwkvc4KcgeA/SEvBTVFHSbQS4GaMDUqjnwlyozhJsg05fw63arAIjjShr8VlbPBg\n",
       "GCF6ZUQfhGWcXDzJ9qAWb/EDBq7cx7YgJyvO7BH1a7u3/CwsKdKXuK4gcoPkP/MsjGAUp2mWO8Xs\n",
       "vxKfgjnmz5Gq4w5znBcoXkZt8zRwGRv8TRjh9oYQz0IQ4ZHTTzIqmcQYbGQsEweWS3tOUqzBu2SJ\n",
       "W+ZqXnySb97Aay9tgBInN0x7ILks+yW5ltywR8xORSLeskr+HJabZ9aiyo+yi2y3g/2NhxGiV0aM\n",
       "gyJj5MxVbIKKVmAm4srF3qwJcpLi/XCFsGSvp4Oyv0mFvFzldYHIpcmn6RaPW4yH2Dkx+wpa92qq\n",
       "5c8Rc1WODABMsaX00wNsCyNEr4z4HhQZ320/s2zXf+9Z+BSXuol7rlgU5CTFB/t/sz1LDl3Y5NWE\n",
       "HBjl8zZ8deFFjNGa9MoT4efxaN2y+xpi9kdhH9zo6pHD0im607kyEWQyQg5Lgdh2kbD0ah/u+8f5\n",
       "ykExI8gJxRrbgKl6uB4uldpPye9zo1TcNmAZ+OSql0HMPvz8+ieQq0goGi+86yiM+AqL1JEFoxhA\n",
       "uL0hhJRQsgo5C7EzvJojubskckIxBu2CpmeJ9DsutY9I5LQyBg1sbcJzP07ZUhE3Jxf/hO+3Q/5B\n",
       "IcqEMfLawjMsAQz5x5khiK0UCLe0c7mMQBVBmUzuQAsePF8zH6Yifs2ax6SE4itOrALjg5dcS+Sf\n",
       "1MPec0Jv4pRMXzcy8gnFqq+XSzfLY4ETki8zEJFSEEYpjBCl2yhd7E18g+PUhNHQyZSNyrFOqOM8\n",
       "g+QscuzoKVsmZ85ej4vm+2RCUenLqLFPQSTU988JBXrp1wGPXFCxagns8FtXq99QkuwMcgPI5GAn\n",
       "uXDAG1FTVXoyOjI2FMQxFaDbimxO5AKKO1ky969fAY8boXsnmT2H3mCfkO281HdLs5Ni49+/W674\n",
       "B9k0kdTS6XCXAAAAAElFTkSuQmCC\n",
       "\" style=\"display:inline;vertical-align:middle;\" /></a><br>"
      ],
      "text/plain": [
       "conditioned_forall_over_bool_by_cases: forall_{P, Q | Q(TRUE) => P(TRUE), Q(FALSE) => P(FALSE)} [forall_{A in BOOLEAN | Q(A)} P(A)]"
      ]
     },
     "execution_count": 14,
     "metadata": {},
     "output_type": "execute_result"
    }
   ],
   "source": [
    "conditioned_forall_over_bool_by_cases = Forall((P, Q), Forall(A, PofA, domain=Boolean, \n",
    "                                                              conditions=[QofA]), \n",
    "                                               conditions=[QimplPofTrue, QimplPofFalse])"
   ]
  },
  {
   "cell_type": "code",
   "execution_count": null,
   "metadata": {},
   "outputs": [],
   "source": []
  },
  {
   "cell_type": "code",
   "execution_count": null,
   "metadata": {},
   "outputs": [],
   "source": []
  },
  {
   "cell_type": "code",
   "execution_count": 15,
   "metadata": {},
   "outputs": [
    {
     "data": {
      "text/html": [
       "<strong id=\"from_not_false\"><a class=\"ProveItLink\" href=\"proofs/from_not_false/thm_proof.ipynb\">from_not_false</a> (established theorem):<br></strong> <a class=\"ProveItLink\" href=\"../__pv_it/theorems/4100944ebcd60c6b0070f38989c7673be2676d380/theorem_expr.ipynb\"><img src=\"data:image/png;base64,iVBORw0KGgoAAAANSUhEUgAAAH0AAAAWCAMAAADabWOOAAAAOVBMVEX///82NjYbGxsSEhKIiIgi\n",
       "IiIQEBB2dnbu7u5ERETMzMzc3NwyMjK6urpmZmaYmJiqqqpUVFQAAAAnLjGdAAAAAXRSTlMAQObY\n",
       "ZgAAAAlwSFlzAAAOxAAADsQBlSsOGwAAAZ5JREFUSMfFVYlu7CAMpC3BnOb4/48t5kggu0R9TxVF\n",
       "u4hrGI/tGMb+qBlLfTznwe9kt4l6dOfcbCQPqbDrLt6ondIxpiLWyjqHsJEcDCRNA9/CbXemHGc8\n",
       "VbXioCZgp98p8FU1FhcoeW3Kn8BvTT7M7s1l2TpVuSb2rkOFnvPTgsUDx7x4ydAZA25tZls0qTGS\n",
       "7Ot8HreQMM2jUnmDM2AmBP3AfmLYLOXdh8QVYs75thX4lHNOC15NxMZH7AxkWLOfmNKieWKX9WQ6\n",
       "ep1hfsByZovt3F8rWbsHuWbvmGoKsCf2FoxDdLcFK4eLGJInpBqWEMUUWHUnrxhU1L7y3y/ZnR9L\n",
       "LcVJDIZnEi6GU027Ru5W7CeGzT57x276OZV6fOKlCwEgpuwKb4sQFXrc2dKhJ4bNPntllyql4udA\n",
       "g5cSU+JvqApqmLTnH19cemHI858f6tHzT3Wgosrnc9Wfyq4X7CNmeLX+nR1LAkhM1tGjp3u14RYu\n",
       "ObdLJ8xoM5APBHX8f6qxLHj3bmspKfANz8SSfctLuWIPbssD/TvXfAPNjBAKirIPcgAAAABJRU5E\n",
       "rkJggg==\n",
       "\" style=\"display:inline;vertical-align:middle;\" /></a><br>"
      ],
      "text/plain": [
       "from_not_false: forall_{A in BOOLEAN | A != FALSE} A"
      ]
     },
     "execution_count": 15,
     "metadata": {},
     "output_type": "execute_result"
    }
   ],
   "source": [
    "from_not_false = Forall(A, A, conditions=[NotEquals(A, FALSE)], domain=Boolean)"
   ]
  },
  {
   "cell_type": "code",
   "execution_count": null,
   "metadata": {},
   "outputs": [],
   "source": []
  },
  {
   "cell_type": "code",
   "execution_count": null,
   "metadata": {},
   "outputs": [],
   "source": []
  },
  {
   "cell_type": "markdown",
   "metadata": {},
   "source": [
    "### Evaluation of $\\forall$ over the Boolean domain"
   ]
  },
  {
   "cell_type": "code",
   "execution_count": 16,
   "metadata": {},
   "outputs": [
    {
     "data": {
      "text/html": [
       "<strong id=\"forall_bool_eval_true\"><a class=\"ProveItLink\" href=\"proofs/forall_bool_eval_true/thm_proof.ipynb\">forall_bool_eval_true</a> (conjecture without proof):<br></strong> <a class=\"ProveItLink\" href=\"../__pv_it/theorems/cadaf41ef36618b172728282d1d3a76d81d8e36f0/theorem_expr.ipynb\"><img src=\"data:image/png;base64,iVBORw0KGgoAAAANSUhEUgAAAWoAAAAXBAMAAADQPRh7AAAAMFBMVEX///+IiIgiIiIQEBB2dnbu\n",
       "7u5ERETMzMzc3NwyMjK6urpmZmaYmJiqqqpUVFQAAAB6qHgnAAAAAXRSTlMAQObYZgAAAAlwSFlz\n",
       "AAAOxAAADsQBlSsOGwAAA/5JREFUWMPFl01o1EAUx99us9t0P2qq4EEUl14ERfFbECtLURE/46U3\n",
       "paUY6hddPXgR7EJBENRWUBEVXVDrRWEP9bOgVUGwp+IHKordkwhCq6CiiNb3ZiaTSXYz7WX1QTbZ\n",
       "ef/J+83k5c0EoNqWh6lzJi0VZuIR2suE6ltkGDZMXkp2FCBh4TmsGzlLdPGuetQvKLwuSKTz++iu\n",
       "m0JKdgmPmRWok43MSuS8Rw1nqwYd66Xw2iBTUNJucylaehx/6uyKc52mZ0DOw5QprVWjTg5SeG2Q\n",
       "LkQZsbiUeoxheqeKGmp00qiM4apR17BHrQ0yO4dHlkvR1m/F/7BMQ43OFI6wrnpp/YZRa4N00pHj\n",
       "Unwk1mwa3gUdNToXNzYurR51P3+tdEG+A9R+EVJMEBihTNmio0bnbYCdaiL6ZK/F2QrFSosiG6ns\n",
       "vsCpZRC7TIHEZrOYXrQb0IXZAk8FtSwcKjU6T4CJbYnO/vsfqSXO/X2/No7mIVUwHGe506aMZZ3T\n",
       "7jiWJxlyR1p0FaILt/mcmgfBOrFChD91fp7I88ifNZsKrpRu00PK57q5RmfcNqjTI4BmhTqVASMD\n",
       "O+iS3v1E1usqFFwSK7ktV5S7e+ViJacWQcD4jT/7P+wGK3v8lbjdZ0UKkT0DY9S7S0fdRVfsPfmE\n",
       "L7LCVF+EyGdeZxnC6XJqJkkW3JY6W0MtgsC1RfhkblPKZY3tXrn2qLdhQwbPl3XU6ITeh3TVBLBA\n",
       "YaoZhmgJMhJhczk1k0Rli1rZPGqRISIIWBf5uofUx9aKcp1VpJRn0YV4fqbL62cERPNofoMTRYWp\n",
       "xzY/gdkrEd5C0kHbq1AzyVHZJ12EWyQZ9FG3CWoWBF/ZuxBjTmtgSU6U64IiTVCJpJR5optrdEI3\n",
       "DSS1qOGlOpOPG2bZkGiV1H3lc80kfbIl0VpprrcIahYErsE0BkZzfWiGt+2Q0m662w9eBsOpqUbW\n",
       "06DrS36mUSYqSYSD5dRM8l621FakPiCoWRDoXzNmp844zj7Ka4MJbo23edKW8dOQ7vyJOTO3IjUf\n",
       "MTlFkg76mVZ5IGEZskqORpMh0ZwSHmt6T642y+faCFb4aE7ZQ2fCd6rMKZI076M2f7CT9zY2+Oc6\n",
       "lhUS722MWJXm2rcNuo4FYpgvN0i9PwCTKgY3XZodmdjkrvVRT//K6liHXD46/KtnbZOQxPPuuhPP\n",
       "exIlfocXPrkaYg/OwRGc0/TJU85gkEaJcUTzVcCcAYurf+TKEQtuM9Nupsnlp6VyiJay8LF1zu4w\n",
       "qTqAUOqOCaiT+eCFa1fdiztlF4EktKB5kt+NpsyxCIabujLsQy0/ATW4eTMUlMnHa4glMVWA/2j+\n",
       "L+CYONvhHWy/8p/YXxC0AKRSfyRcAAAAAElFTkSuQmCC\n",
       "\" style=\"display:inline;vertical-align:middle;\" /></a><br>"
      ],
      "text/plain": [
       "forall_bool_eval_true: forall_{P | P(TRUE) = TRUE, P(FALSE) = TRUE} ([forall_{A in BOOLEAN} P(A)] = TRUE)"
      ]
     },
     "execution_count": 16,
     "metadata": {},
     "output_type": "execute_result"
    }
   ],
   "source": [
    "forall_bool_eval_true = Forall(P, Equals(Forall(A, PofA, domain=Boolean), TRUE),\n",
    "                           conditions=[Equals(PofTrue, TRUE), Equals(PofFalse, TRUE)])"
   ]
  },
  {
   "cell_type": "code",
   "execution_count": 17,
   "metadata": {},
   "outputs": [
    {
     "data": {
      "text/html": [
       "<strong id=\"unfold_forall_over_bool\"><a class=\"ProveItLink\" href=\"proofs/unfold_forall_over_bool/thm_proof.ipynb\">unfold_forall_over_bool</a> (conjecture without proof):<br></strong> <a class=\"ProveItLink\" href=\"../__pv_it/theorems/fdd96f875664b549b3d7a09ae81ccad1031c9a510/theorem_expr.ipynb\"><img src=\"data:image/png;base64,iVBORw0KGgoAAAANSUhEUgAAAVUAAAAVBAMAAAAEDWDFAAAAMFBMVEX///+IiIgiIiIQEBB2dnbu\n",
       "7u5ERETMzMzc3NwyMjK6urpmZmaYmJiqqqpUVFQAAAB6qHgnAAAAAXRSTlMAQObYZgAAAAlwSFlz\n",
       "AAAOxAAADsQBlSsOGwAABFdJREFUSMeNV1+IVFUY/+7snf9z3atBRCi7DESUGKsmwUIxLGvEouvk\n",
       "g+BDMBKtm5Iz64MvQXvLEIRyJ1gjcrMNH3xRWGQrSqmpB8F8mTSJIHAe1CTBXUFX16jt+845937n\n",
       "zD2z7AffmXvu9/t+53fP/wGwWQBrnoWVWRA+ZNDtWUHnhE6WMeBBjITNacLQCqUilOwoQM7H36HO\n",
       "kFhNJHSwddHTV5q36MWfJvI3atQWiBqsLtx9+2sFJfsSfW0HrQR5cunArRNlWcsXhbVEgp3VK1F5\n",
       "RrxssH9PLz4zcpJ1atQSYOtGyJtlCSXuJSyyZatWCVkESG2Jap7o0mxZItxmGyvsFtVfRXmc/T2a\n",
       "HRWDPd+gRi0BtnFs7LovoZQxh9OpMGPVKiDpeyjwXlhTWimBbGe9jRUuaFovs9PHucaMgi4xmJYA\n",
       "W08NvSShaK/twDpsMbS+pbGB8xD9flhTWimBbO3fbazQp2ntKkdewA/NmkL+EFotAbYqeU1Csfv9\n",
       "HvqoKUPrIY0NUvPoD8NaqHVKInoPtbF6dU1rtsG+qVh80RQyKxdJPMC2IIdVQHFg4ToN7bChtVBi\n",
       "NuiuyBFWCUrrsKyUsoHJmi9pWt0W+7c8XMqmpNYoUI5JRcbMQDPqmbMwTuyXlFa10P9hNtL54Qbu\n",
       "SqX1kuy4wJsxWbMNTWuhzn4MMqg4V5394bZSskFqlQFcui/J197kifVq/jr/DW6bDqEAMzBByKvm\n",
       "2vK+iNig58bgL1wLtV4VJS7iZ0zWRFPT6vWxp8ouAX4GGFCN9EutKgDuv1iM3doHfunj3yWCpl8E\n",
       "BWf/+TnaMMbb9oHd/RGkCnpCqHVclH8BrDZZu6Y1rel5ds8XK+gOfrypVQXg9EYcVpwQqNV9gzdC\n",
       "bvp1fNGLv6dMrZnJIIIsWrWeCvffnSaroTXXxw71n+jVywAvmHNABcA/Kc8k1PrRVrURljQoTgFI\n",
       "ENEVc74+F0SQ9H3QE0KtV8KTIN80WM050MsO2+lUyDyAY2prhj1KqwiAA99BUpwJ/vnNNbURTmvQ\n",
       "HG0oNHwXjX7NVRjiPAYtIdJ6UQij1usGa8rX11aFHQ7TuihsXH0t5BtWWkUATsMTQg7167tP8/Ef\n",
       "QQ8T+yO5H2laj2qQ7LyeEGkVG5gYvL0Gq9vStNIGFjqsos5a1eJWDiqtIgCzg3PlwqcjI+/QfHUF\n",
       "4JulPQzdtXQcvOoiMj1vaN3LkHx1wde4QX07JQDcpGLMYE3jcJ8rFjcXizgtE9Psajo3uJVETWvU\n",
       "AZiopUuyX12nbaNN1LS11GtoDSyQeILd9GvwB5pLm9DussYlBC9m3U15KKDWsTbS8PrBV56Y6ZB4\n",
       "gt0ua88XNFdXx61aeJQbzb8CyR8/hyN0Sn8yORJjH+XHIx3ur6PLJdgtxT1HV73QbbYr1mjy1ZF9\n",
       "naC6iqHlIfEEuyUrhuzQrf92fBhY4f+tTPRHxEGyNf3LQuIJnez96Okp9v8B2YkybqvymzQAAAAA\n",
       "SUVORK5CYII=\n",
       "\" style=\"display:inline;vertical-align:middle;\" /></a><br>"
      ],
      "text/plain": [
       "unfold_forall_over_bool: forall_{P} ([forall_{A in BOOLEAN} P(A)] => (P(TRUE) and P(FALSE)))"
      ]
     },
     "execution_count": 17,
     "metadata": {},
     "output_type": "execute_result"
    }
   ],
   "source": [
    "unfold_forall_over_bool = Forall(P, Implies(Forall(A, PofA, domain=Boolean), \n",
    "                                         And(PofTrue, PofFalse)))"
   ]
  },
  {
   "cell_type": "markdown",
   "metadata": {},
   "source": [
    "**Various ways for a $\\forall$ expression over the Boolean set to evaluate to `FALSE`:**"
   ]
  },
  {
   "cell_type": "code",
   "execution_count": 18,
   "metadata": {},
   "outputs": [],
   "source": [
    "def _forallBoolEvalFalse(PofTrueVal, PofFalseVal):\n",
    "    return Forall(P, Implies(And(Equals(PofTrue, PofTrueVal), Equals(PofFalse, PofFalseVal)), \n",
    "                             Equals(Forall(A, PofA, domain=Boolean), FALSE)))"
   ]
  },
  {
   "cell_type": "code",
   "execution_count": 19,
   "metadata": {},
   "outputs": [
    {
     "data": {
      "text/html": [
       "<strong id=\"forall_bool_eval_false_via_f_f\"><a class=\"ProveItLink\" href=\"proofs/forall_bool_eval_false_via_f_f/thm_proof.ipynb\">forall_bool_eval_false_via_f_f</a> (conjecture without proof):<br></strong> <a class=\"ProveItLink\" href=\"../__pv_it/theorems/3d3b00fd278c445fad476e18d44bbcb5f1b849e40/theorem_expr.ipynb\"><img src=\"data:image/png;base64,iVBORw0KGgoAAAANSUhEUgAAAgkAAAAVBAMAAAA+x2ACAAAAMFBMVEX///+IiIgiIiIQEBB2dnbu\n",
       "7u5ERETMzMzc3NwyMjK6urpmZmaYmJiqqqpUVFQAAAB6qHgnAAAAAXRSTlMAQObYZgAAAAlwSFlz\n",
       "AAAOxAAADsQBlSsOGwAABV5JREFUWMONWG9oW1UUP699TV76kjb7IhM2U1JEEDbjdAiCEkanU1xX\n",
       "pxSGXzJkUVFM/IMfbbfJYF+6gAwGDpYx8JNC3aqCqxJlCLN+SKf7EJgsH9SJgutga62g9Z5z/7x7\n",
       "X96pvXBecu4v953f+d1z77svAElt2jK3l1oAXAv+pyfovRkbPOnuXrEOG2s2WX7U9DpMvHZkbq9s\n",
       "g3kudi+ylfHOsvzPsuhW8JsbFEGRPS4pscN0rC4611zsR8vuWnv91w8mZG9YpNaFLUkCtPAaR3Jl\n",
       "wai2/Ocrn2oP4COi2Uq4h0ESUTHabw7Rt1ZyUjZZamckpSQVnFhfoHPKwQcakQGsAqR2gvZyNNmZ\n",
       "iQSODuKrwjmAl2Ex9MUJ7cEiXU8mZBEhSegBTCfEhDJcFbtkIbcmKSWp4MR6F5dOxcHDVmSQviVu\n",
       "dkv16lyzs5wKGtkvacA8XqYEdD2vPRV/gVVhgUHnUYU0Fu8xRoQYWQhvThMlXgUVCyfPd9Y/9FsG\n",
       "3oqw29pTucJOTgWNbPldfpbwUhCbU6GsPRW/f4JjhoiFpvTXEpU2zt5ebjdwycKefXWixKugYmWF\n",
       "ahkX71gGqSVhK9rTuZ5mVVDIyDuyk0qihlbXnoqfaXHMELHQtKpUHC3S+V58bTAqxMgG+UKbKPEq\n",
       "6Fg7isWHXXzOMhiuyIqWns51nFVhXG1kcumGtB0uy1pVnorvdzlmiNjoJbVQy6RCf7E4WmZUiJEN\n",
       "4XqLKPEq6FifAxxy8dOW4U3f2xZNssr1MgXRj4weRGxfuVkz4UKBYFc7mn4ZP0sTep5usd1hhoiN\n",
       "PjBrpk2kE9bVGhnozSxG9mOYKhMlqcJ6sWYgEHkM1ua++k3h2yyDws9j35lek+sPbC1IROy59+Jn\n",
       "Hybv/Tv2TNN4On6uxM0PIg7aaevRIh3BdoZ6n1NHoc5T579UP4yRnYUTXaLE14KOlZqg33wDsEvh\n",
       "j1pGa9r0mlynWBUkcgNgE20+TbVawXg6fnqJY4aIgw6831SjkeoheJp69wlV0vdUm54f/KQEccl6\n",
       "r168WSFKvAo6Vi5Pm+MfQskkFVYTVTjHqnBOnzj2m7yHG0kqDLK1gIiDHt8DlgqLcnMcfEsEvCjS\n",
       "93zY3TbHBYvssyL0CFHiVTCxGl+j+xjA9oQVkb4NVq/J9Qq7L1zRZ6awrdfAlN7M3BUxwq1VRGy0\n",
       "eAqsFQGZLEXyMl15xBS1cEk+TGNkxXbSVyJK/L5gYu3FJ3BwB2b0UeigZd7fYPWaXL9la4GQPrwj\n",
       "zlgKOwt6JlJ5e1+qcPODiI1+GI3GdPwO5ZwPGzBJcoQXHlHHBYcsHukzS0SJrwUT6yhOZvbBTVc1\n",
       "Pm5ZZsnuNbnOsSoQQtX1kn4cntE/UY+/RYgeoknMELHQoBGNxnSCx6mU615JvQv46U9kli7Zo6jc\n",
       "X0SJV8HEGsKtZch6Pr8ZWVhbzlu9+p0J7o/dUiyO0R20OAj5BS9vYI2KYvts7aA+/4xQWT5EZdkX\n",
       "Z+YgFpqqR6MpnRsUcWz8DlyuVqttsS+USTOX7OTaScjVVstIyd9grH7rJNdXj8ztNdMzwv7BEEPu\n",
       "Y70j7FvxERcNrNFROnkIVuBtWQtQjr/Qx8jyL+RurBPWWxq+EWlze+33reQWRxZYb55VYZ5BFywV\n",
       "sCb/kccnocKTcRViZHkVnFhebbcFvWyZ26vaMTaDOJKaZrygwpZThUHFaJPOhS68sNoMcO/p3P3E\n",
       "az2/dcmyKrCxRJu0zO3tjcFHlweeCuOl2L/cEElExeh4Os9Xq002hYgSqwIbi97FInN7VeWwGfQi\n",
       "hxlvMyvkZhY9DP5G/3d0yHqjzfVj/Qc4V6hhMj6WqAAAAABJRU5ErkJggg==\n",
       "\" style=\"display:inline;vertical-align:middle;\" /></a><br>"
      ],
      "text/plain": [
       "forall_bool_eval_false_via_f_f: forall_{P} (((P(TRUE) = FALSE) and (P(FALSE) = FALSE)) => ([forall_{A in BOOLEAN} P(A)] = FALSE))"
      ]
     },
     "execution_count": 19,
     "metadata": {},
     "output_type": "execute_result"
    }
   ],
   "source": [
    "forall_bool_eval_false_via_f_f = _forallBoolEvalFalse(FALSE, FALSE)"
   ]
  },
  {
   "cell_type": "code",
   "execution_count": 20,
   "metadata": {},
   "outputs": [
    {
     "data": {
      "text/html": [
       "<strong id=\"forall_bool_eval_false_via_f_t\"><a class=\"ProveItLink\" href=\"proofs/forall_bool_eval_false_via_f_t/thm_proof.ipynb\">forall_bool_eval_false_via_f_t</a> (conjecture without proof):<br></strong> <a class=\"ProveItLink\" href=\"../__pv_it/theorems/eef7fefba697a137efab3c4268644f362e37a1690/theorem_expr.ipynb\"><img src=\"data:image/png;base64,iVBORw0KGgoAAAANSUhEUgAAAgkAAAAVBAMAAAA+x2ACAAAAMFBMVEX///+IiIgiIiIQEBB2dnbu\n",
       "7u5ERETMzMzc3NwyMjK6urpmZmaYmJiqqqpUVFQAAAB6qHgnAAAAAXRSTlMAQObYZgAAAAlwSFlz\n",
       "AAAOxAAADsQBlSsOGwAABWJJREFUWMONWG9oW1UUP69Nk5e+pM2+yITNhBQRhM04HYKghNHpFNfF\n",
       "KYXhlwxZVBQT/+BH220y2JcuIIOBg2UM/KRQt6rgqkQZwqwf0uk+BCbLB3Wi4DrYWitovefcP+/e\n",
       "l3dqH5yXnPvLfed3fvfc++4NQNw1bZnbSpcP3OX/T4vf/zA2eNzTvWIDNnbZZPle0+sw8Tqhua3y\n",
       "Gs5xsfuRrYx3luV/lkW3QqK1QREU2eOSEttNx+qhc83FfrTsrrXXf/2gIluDIl092BInQBvvUSRb\n",
       "Fozqy3++8qn2AD4imu3oA87Tw7cT0o/K3onWCH1rxydlk6XrjKQUp4JhgfYFOqccfKgZGsAqQHIn\n",
       "aC9Lg52uxHB0kIQqnAN4GxVdX6xoDxbpfjImixCJQw9gOgEmlOaq2CUL2TVJKU4FJ9a7OHWqDh60\n",
       "Q4PULfGwW6pV55qZ5VTQyH5JA+bxNiWg6zntqfgLrAoLDDqPKqSweI8xIkTIQnBzmijxKqhYOHgJ\n",
       "Z/7DoGXgrQi7rT2VK+zkVNDIlt/lZwlvebE45cvaU/EHKxwzRCw0qb+WqLRx9PZyq4FLFvbsaxAl\n",
       "XgUVKyNUS7t41zJILglb0Z7O9TSrgkIK78hGKok6WkN7Kn66zTFDxEJTqlKxt0jne/G1yagQIevn\n",
       "8h2ixKugY+0oFh928TnLYLQqK1p6OtcJVoUJtZDJqRvQcrgsa1V5Kn6ixzFDxEYvqYlaJhUGi8Wx\n",
       "MqNChGwA19tEiVdBx/oc4JCLn7YMH/retnCQVa6XKYh+ZfQhYvnKzpoBFwr4uzrh8Mv4mab9YoAI\n",
       "YqMPzJphE+kEDTVHhvozi5D9GKbKREmqsF6sGfBFHsP1ua9+U/g2yyD/8/h3ptXk+gNbCxIRa+69\n",
       "+DmAyXv/jj/TMp6Ony1x44OIg3Y7urdIR7Cdodbn1Fao+9T5L9UPI2Rn4USPKPG1oGMlK/SbbwB2\n",
       "KfxRy2hOm1aT6xSrgkRuAGyixaelZisYT8dPLXHMEHHQofdbqjdSPQRPU+s+oUrqnlrLS/g/KUFc\n",
       "st6rF29WiRKvgo6VzdHi+IdQMk6F1VgVzrEqnNM7jv0m79FmnArDbC0g4qDH94ClwqJcHIffEgEv\n",
       "ivS9BOzumO2CRfZZEbpAlHgVTKzm1+g+BrA9ZkakboPVanK9wq4LV/SeKejoOTClFzN3RhS4uYqI\n",
       "jRZPgTUjIJ2hSF66J7eYohYuyZdphKxYTgZKRIlfF0ysvfgG9u/AjN4KHbTM+xusVpPrt2wtEDKA\n",
       "T8QRS2JjXo9EMmevS1VufBCx0Q/D3phOoks554ImTJIcwYVH1HbBIYtb+vQSUeJrwcQ6ioOZeXDT\n",
       "VY1PWJZesltNrnOsCoRQdb2kX4dn9E/U628RwpdoHDNELNRvhr0xHf9xKuWGV1JngUTqE5mlS/Yo\n",
       "KvcXUeJVMLFGcGkZsd7Pb4YW1JdzVqs+M8H9kUeKyTG2gyYHIb/g7Q2sUVFsn60d1PufApXlQ1SW\n",
       "A9wJhxALTTbC3pTODYo4PnEHLtdqtY5YF8qkmUt2cu0kZOurZaTUp4LDIow1aO3kBhqhua1meArs\n",
       "HwwR5D7WO8Keio+4qG/1DtPJgb8Cb8tagHL0QB8hyx/I3VgnrFManoi0ua32eSv+iiILrDfPqjDP\n",
       "oAuWCliT/8jtk1DhyagKEbK8Ck4sr77bgl62zG1V1zE2gyiSnGY8v8qWU5VBRW+TzoUevLDa8nHt\n",
       "6d79xGt9v3XJsiqwscQ1aZnb2h+Djy43PFXGS7J/uSESi4re0XSer9VabAohJVYFNhadxUJzW1Xl\n",
       "sBn0I4cZbzMr5GYWPQyJjf7v6JD1xlrrx/oPY6qoUHbewwIAAAAASUVORK5CYII=\n",
       "\" style=\"display:inline;vertical-align:middle;\" /></a><br>"
      ],
      "text/plain": [
       "forall_bool_eval_false_via_f_t: forall_{P} (((P(TRUE) = FALSE) and (P(FALSE) = TRUE)) => ([forall_{A in BOOLEAN} P(A)] = FALSE))"
      ]
     },
     "execution_count": 20,
     "metadata": {},
     "output_type": "execute_result"
    }
   ],
   "source": [
    "forall_bool_eval_false_via_f_t = _forallBoolEvalFalse(FALSE, TRUE)"
   ]
  },
  {
   "cell_type": "code",
   "execution_count": 21,
   "metadata": {},
   "outputs": [
    {
     "data": {
      "text/html": [
       "<strong id=\"forall_bool_eval_false_via_t_f\"><a class=\"ProveItLink\" href=\"proofs/forall_bool_eval_false_via_t_f/thm_proof.ipynb\">forall_bool_eval_false_via_t_f</a> (conjecture without proof):<br></strong> <a class=\"ProveItLink\" href=\"../__pv_it/theorems/0140b410400a20c7ace6d871b68f2e9d5041696f0/theorem_expr.ipynb\"><img src=\"data:image/png;base64,iVBORw0KGgoAAAANSUhEUgAAAgkAAAAVBAMAAAA+x2ACAAAAMFBMVEX///+IiIgiIiIQEBB2dnbu\n",
       "7u5ERETMzMzc3NwyMjK6urpmZmaYmJiqqqpUVFQAAAB6qHgnAAAAAXRSTlMAQObYZgAAAAlwSFlz\n",
       "AAAOxAAADsQBlSsOGwAABVZJREFUWMONWF2IW0UUPjd7N7nJTXbTF6mwNSFFBKE1/hRBUELZahW7\n",
       "jVUWii8ppVFRTPzBR3fbSqEv24AUChaaUvBJYW1XBbtKlCLU7UO26kOg0jyoFQW7hXbXFXSdc2bm\n",
       "3pmbe9YdODc582Xu+c43Z+bODUBcmzbM7qXmAde8/+nxBm/GBo+7u1NqwsaaSZYfNb0OE6cbmt0r\n",
       "WybPxR5EtjDeWZb/WRbdAm57gyIossclJXaYjtVH55qN/WDYXWuv//pBVfb6JWp9GIvejUVyFcGo\n",
       "sfznK59qD+AjotmJIRUgsagY7bZH6FsnPimTLLUzwsbiVbBifYHOKQsfboUGsAqQ3AHay9Fkp6sx\n",
       "HC3EVYWzHy+jYujBqvZgka4nY7IIkTh0P6bjY0JproptspBbk5TiVLBivYtLp2ZPbCc0SN0SN7ul\n",
       "enWu2VlOBY3skzRgHi9TArqe156Kv8CqsMCg86hCCov3GCNChCz4N6eJEq+CioWT51rrH4YMA2dF\n",
       "2G3tqVxhB6eCRsZ+l59lvBTE5lSoaE/FH6pyzBAx0KT+WqbSxtnbw+0GNlnYvbdJlHgVVKysUC1t\n",
       "4z3DILkkbEV7OtfTrAoKKb4jO6kkGmhN7an46Q7HDBEDTalKxdEinSvia4tRIULWyxe6RIlXQcd6\n",
       "qFR6xMbnDIPRmqxo6elcJ1gVJtRGJpeuT9vhsqxV5an4bp9jhoiJXlILtUIqDJVKWyuMChGyPlzv\n",
       "ECVeBR3rc4BDNn7aMLzpe9vCSVa5XrYeDAOI2L5ys8GECwW8nd1w+mX8LE3oebrFdosZIib6wGww\n",
       "bSIdv6nWyPBgZhGyH8NUhShJFdaLNQOeyCPTmPvqN4VvMwwKP49/F/QGuX7P1oJExJ57L34mMHnn\n",
       "3/Fn24Gn4+fK3PwgYqG9rh4t0hFsZ6j3eXUU6j19/kv1wwjZWTjRJ0p8LehYySr95huAnQp/zDBa\n",
       "00FvkOsUq4JEbgBsos2nrVYrBJ6On1rimCFiocPvt9VopHoInqHevUKV1D31tuN6PylBbLLOqxdv\n",
       "1ogSr4KOlcvT5viHUDJOhdVYFc6xKpzTJ459Qd6jrTgVMmwtIGKhx3eDocKi3Bwzb4mAF0X6jgu7\n",
       "usFxwSD7nAhdJEq8CkGs1tfoPg6wPWZFpG6D0RvkepXdF67qM5Pf1WtgSm9m9ooocmsVERMtnQJj\n",
       "RUA6S5GcdF8eMUUtXJIP0whZsZ0kykSJ3xeCWHvwCezdgRl9FDpgmPM3GL1Brt+ytUBIAu+IM5bE\n",
       "zoKeiWTe3Jdq3PwgYqIfhqMxHbdHOef9FkySHP6FR9VxwSKbwYfgElHiayGIdRQnM/vgph81PmFY\n",
       "esnsDXKdY1UghKrrJf04PKN/oh5/ixA+ROOYIWKgXiscjel4T1ApN52yehdwU5/ILG2yR1G5v4gS\n",
       "r0IQawS3lhHj+fxmaH5jOW/0SoFFuz/mddJAfsHLG1ijotg+Wzugzz9FKsuHqSwTUWYWYqDJZjia\n",
       "0rlB9Mcn7sDler3eFftChTSzyU6unYRcY7WClNwNxhoyTnKJZmh2bzA9RfYPhghyH+sdYd+Kj9io\n",
       "Z4wO08mDtwJvy1qASvSFPkKWfyG3Y50w3tLwjUib3Wu+b8W3KLLAevOsCvMMumCogJX3jzw+CRWe\n",
       "iqoQIcurYMVyGrsM6GXD7F7VjrEZRJHkNON5NbacagwqRgfpXOjDi6ttD/ee3t1PvjbwW5ssqwIb\n",
       "S7RJw+zewRh8dHngqTFekv3LDZFYVIyOpvNCvd5mUwgpsSqwsehdLDS7V1UOm8EgcpjxNrNCbmbR\n",
       "w+Bu9H9Hi6yztb1+rP8AJteoUMbaOFUAAAAASUVORK5CYII=\n",
       "\" style=\"display:inline;vertical-align:middle;\" /></a><br>"
      ],
      "text/plain": [
       "forall_bool_eval_false_via_t_f: forall_{P} (((P(TRUE) = TRUE) and (P(FALSE) = FALSE)) => ([forall_{A in BOOLEAN} P(A)] = FALSE))"
      ]
     },
     "execution_count": 21,
     "metadata": {},
     "output_type": "execute_result"
    }
   ],
   "source": [
    "forall_bool_eval_false_via_t_f = _forallBoolEvalFalse(TRUE, FALSE)"
   ]
  },
  {
   "cell_type": "markdown",
   "metadata": {},
   "source": [
    "### Must be a true statement or a false statement if in the Boolean set:"
   ]
  },
  {
   "cell_type": "markdown",
   "metadata": {},
   "source": [
    "*** The second form, known as the 'law of excluded middle' can be more useful for unfolding the meaning of being in the Boolean set ***"
   ]
  },
  {
   "cell_type": "code",
   "execution_count": 22,
   "metadata": {},
   "outputs": [
    {
     "data": {
      "text/html": [
       "<strong id=\"in_bool_def\"><a class=\"ProveItLink\" href=\"proofs/in_bool_def/thm_proof.ipynb\">in_bool_def</a> (conjecture with conjecture-based proof):<br></strong> <a class=\"ProveItLink\" href=\"../__pv_it/theorems/a9fd2b67f3555993dbe2c6e49cbc8da900e23b260/theorem_expr.ipynb\"><img src=\"data:image/png;base64,iVBORw0KGgoAAAANSUhEUgAAAVMAAAAVBAMAAAAJExCCAAAAMFBMVEX///+IiIgiIiIQEBB2dnbu\n",
       "7u5ERETMzMzc3NwyMjK6urpmZmaYmJiqqqpUVFQAAAB6qHgnAAAAAXRSTlMAQObYZgAAAAlwSFlz\n",
       "AAAOxAAADsQBlSsOGwAAA6xJREFUSMeNVk1oE0EUfpsmadJk2/Wn4qFiSBFRUWJVBA/agwcv1uih\n",
       "4KWsglr10Krg0W5bEQpiAxoQqTZioQgKQQqiLTVeBO0l/iAIQntQhF4qImpArfPzZn9nNj74ht3Z\n",
       "/d775u2btwMgMwuhNNnDBCLEEv8xI1eiUqNVOYiN+J60n651LALclbDWIUj8gsJxkyEjhRBYIIEF\n",
       "OvHR+/wdgti4jxpvMkZ6SqBVAk71Tg5iya++Z6ksswVok5BkBGoPWG4qDp7SiZued2IFDupqOSC1\n",
       "ErVMgGLA81EEsXlJZJ0lNJmn42c6nINwArxmY9HBJZp/05uDCge9XLICUtNV8iXmAp5nEMRmf6mk\n",
       "pst0fE6HUxBOQKlzDug6o1XPOw0IYgcO9fOLNdlswZZKrhryfs85BHF3+adKKuyiQ8QuzxACSqWB\n",
       "EGmSvqT3nQ8I4s9Yz1dxv9XJavNVUmBJf7HqBQ5ig9ofpdQxJo04TVUhnIBSaSCBjmx2p/edKQTx\n",
       "B/NMUqLoFEDryk802oJ/53RyECvrv5VSu8SGjwiSioBSaSCBxwAn2KT9ScfE6uEhDDBnScuRumnf\n",
       "FvJmmuXjEdvY29yrJx2p2vjds+3dUl+y8QvACkFyCG53tlQaSOAaJJi32G4hZyuCLBdG2bOke1tp\n",
       "r0iO9ZwvB5EqB/0Uib/KrL5lI9nLGwRJRUCpNJBAPB8tsUzb9bIHAdrZ6SXWHC7Q1ZooFcwJgEZ/\n",
       "e2kocZAdOD37Qyl1gBegpZcFSUVAqTSQgG7wnE1uD0g9DNCSoRfd7qyCGScfLaeSGiOaviml3sPO\n",
       "z0sqjIBSaSABKLA2B8adQAGQlUdyoru4pJK16RlfcdkFkCJoV9bqG36XuWhXjUOQ1ioNJAAH2fbW\n",
       "4ImQcwzRVBG/PM3wSCVO0qb/N2ZwsP/huDKrL/hd26JNUhHEtjIdwDBb9ySsEu90IYapM/4fue1I\n",
       "7YyuLtttxjHRUBL0M/RZKqm8CcKRgk1SEVCqaIIsYDP7IU3tXxLd6jxH93IR9L4a09Rzhj/Urp9k\n",
       "JyuIlHyOGzMMsb5aHt4v3wgeqvg/YzN24aogKQikFnawWqCBBPB0BzDaL/pOP4fbJo5nPQe1oYCW\n",
       "jYjwA2smSAq3IRfsE1eLOAnQMwU/V6htJjAjzhWhlqoESfUDzbgDpvZC7NktcdeLCMmOGZiKWxyh\n",
       "dkVCqhtIQGbdnlYqM0mImMkRar0SUt1AYUlIGBxqWyuZG0SEmGbJSPUCIf4BYDUNTgcYFQcAAAAA\n",
       "SUVORK5CYII=\n",
       "\" style=\"display:inline;vertical-align:middle;\" /></a><br>"
      ],
      "text/plain": [
       "in_bool_def: forall_{A} ((A in BOOLEAN) = ((A = TRUE) or (A = FALSE)))"
      ]
     },
     "execution_count": 22,
     "metadata": {},
     "output_type": "execute_result"
    }
   ],
   "source": [
    "in_bool_def = Forall(A, Equals(in_bool(A), Or(Equals(A, TRUE), Equals(A, FALSE))))"
   ]
  },
  {
   "cell_type": "code",
   "execution_count": 23,
   "metadata": {},
   "outputs": [
    {
     "data": {
      "text/html": [
       "<strong id=\"unfold_is_bool\"><a class=\"ProveItLink\" href=\"proofs/unfold_is_bool/thm_proof.ipynb\">unfold_is_bool</a> (conjecture with conjecture-based proof):<br></strong> <a class=\"ProveItLink\" href=\"../__pv_it/theorems/22746b6ca3d14ebb05bedc8ca0ef430f4beef3350/theorem_expr.ipynb\"><img src=\"data:image/png;base64,iVBORw0KGgoAAAANSUhEUgAAAJsAAAAVBAMAAACj9YEXAAAAMFBMVEX///+IiIgiIiIQEBB2dnbu\n",
       "7u5ERETMzMzc3NwyMjK6urpmZmaYmJiqqqpUVFQAAAB6qHgnAAAAAXRSTlMAQObYZgAAAAlwSFlz\n",
       "AAAOxAAADsQBlSsOGwAAAkBJREFUOMuNVD1oFEEU/vaye3d7e2tWBBGJcJyIRZrzB9LJFWonLHYW\n",
       "QhpPCEhyjY0gFxUbNZ5wEUlAY5XGIoggGolnfc1W2gimUcHGIOIP+DfvvZnd1ds1efDt3Hzf7jcz\n",
       "b9494P9R3iLd0dgk9sjX3UzaeCv1PgTrRLzOc/ObPLgbmbQOUq2+4CkRd/LsTsnwhu3e0qOdopFS\n",
       "5wUXabeTeXbPZFj7Rs8X9DibopFSBwI3BOwoz67BT/vKVxoKcRYb6XdEHQkZVXVgNzd1cgWz1k/+\n",
       "Tq3qRQmtQ1S3LzhYrx/Os/Mk5Sv+D3ODhRStQ1R7XfAYOMN0OGxHywGVqPSZp++B7QmtQ6vVrmAO\n",
       "ZS4WZ0IfsLc4bnJZ4B8eyr94qq5tn6Ef1lWMJ6rfEBRDe4kzQxlov5tC0LzxStuNsLJzde2LbLbj\n",
       "ryQ0aCuxWtoQ+IHcxPIBtZI6ubKzT6ftnAD4pKvX7fxrZ9RKQ4Au1xOCu8AY/2heP5Y+rKewV+a1\n",
       "86kciJ1R/ZoAJ6igYeEJHC7nYPXQjH69qJbGA4V7Mh/7kNAU1xK1OinAZb6JZexApS+7u7DbVKiS\n",
       "ynSCaekWJ7sxbf7+RqXi4QLaxnt5dPRjWL3dap2j3Nn65VINzvT3EC9/96QOI0PrSNTCkkDCAm7O\n",
       "lJqyO9sy9P7s8s6gL2lIqBSMRlLPyq5t6EG23SC7WcSdwTsC5/kCrqpz+7d6rbjqi9kddpimpjTU\n",
       "mJzjram/iezWNUzTAsXNu/vsFuldgj/4zZV6TVDgkAAAAABJRU5ErkJggg==\n",
       "\" style=\"display:inline;vertical-align:middle;\" /></a><br>"
      ],
      "text/plain": [
       "unfold_is_bool: forall_{A in BOOLEAN} (A or [not](A))"
      ]
     },
     "execution_count": 23,
     "metadata": {},
     "output_type": "execute_result"
    }
   ],
   "source": [
    "unfold_is_bool = Forall(A, Or(A, Not(A)), domain=Boolean)"
   ]
  },
  {
   "cell_type": "code",
   "execution_count": 24,
   "metadata": {},
   "outputs": [
    {
     "data": {
      "text/html": [
       "<strong id=\"from_excluded_middle\"><a class=\"ProveItLink\" href=\"proofs/from_excluded_middle/thm_proof.ipynb\">from_excluded_middle</a> (conjecture with conjecture-based proof):<br></strong> <a class=\"ProveItLink\" href=\"../__pv_it/theorems/17f1dad058968770de740b3fbab6aeffd10051d70/theorem_expr.ipynb\"><img src=\"data:image/png;base64,iVBORw0KGgoAAAANSUhEUgAAAPoAAAAZBAMAAADqEi4iAAAAMFBMVEX///+IiIgiIiIQEBB2dnbu\n",
       "7u5ERETMzMzc3NwyMjK6urpmZmaYmJiqqqpUVFQAAAB6qHgnAAAAAXRSTlMAQObYZgAAAAlwSFlz\n",
       "AAAOxAAADsQBlSsOGwAAAxlJREFUSMfllk1oE0EUx//bbJrNbhJTRFAPpcSrQitKQaVEaBQ/qisW\n",
       "LwUJlUYPIgsVb0pB8ViLUhAPsojYi4dqi2KLWMGL0sOKBy1VLL0oCPUDxHoo+N5kNzv70QrVeHFg\n",
       "M7uT9+Y3896b9waIafOFAdS/KYUtseND+Ddt+r+mz3H3NkzPcZedqhf2yJmFqUtMn+Cv62G6YVOX\n",
       "rlfsKW0mZjcz/QJ9aeUwPcUmuVwneLLXAoxFpqdNQHUifh+mrqtO9PR2+tFbmZ4h56ajUTddx+A7\n",
       "zJtNjQrI1kJhW5SeKBQ2FesD174J81uC/hDoi9INC42mkAorj3ovZtzUb3zvAvlYuvpVOu+D0DjE\n",
       "lE+d3aZPp7FB8X7Uqo7N7Lv/WLx4EZpsl6dsHi+VqMvYtRFSNBAjgoZFid5oqqSiU849IWebPuyv\n",
       "OSnVXLEVVXtnyXR1SZr5loNGCiMcD3hXL8aIIPHFsynRs3kOule071mZ/rIadHo/mW+SsIqKkiPT\n",
       "R9pQS0lZiuIsu2SiBhOKwzEiaBD0126mHXpKhuaNnJfp6YzwmpKeg8LatPdnpkzP36z2H+m5wgbi\n",
       "tbX4GYUUvTMbEBEnHSi69C5aYa4lnOfVGcHKG0M4JmYzxtplvyt4BLVC7RoZZt4LZ/+QsiJZMyJC\n",
       "Qhx1qunSL9IiE6NhutYh7GcprbgraGrqni3RR7DWlT5gY6dn7rLA9bqKuBMVofZ+CnrJq3E5WlmC\n",
       "zewEatwHYaXOQ9/xnCZ0yO/FokQf7/zsHpHBEjgEsvyImsU1SijiHCIiHHAPFiYCFTZHaspAtMLm\n",
       "of3A2ereUcz7dIU8aQmzVmhNCzSynhNY2aMLRc/yskhcfU/uADZG67tO8bZUTTtE3yvRyRtrqrY6\n",
       "yGfbhmKj24s6w1VEE0Iiy9wuesabzCh9bA49P23tJGebDXtO+1FndCD55AbcfI3k5O51QL+DUwFF\n",
       "91MSWc3dprtS8ZcdqsZyJnZwO/hfGbHJ+g9uVuVl/9FNGIELiTHw1+91y9Mz9JTkgRerulVeXek+\n",
       "v/J+AlY2f3Of3/ULD4DZybg4IgYAAAAASUVORK5CYII=\n",
       "\" style=\"display:inline;vertical-align:middle;\" /></a><br>"
      ],
      "text/plain": [
       "from_excluded_middle: forall_{C} [forall_{A in BOOLEAN | A => C, [not](A) => C} C]"
      ]
     },
     "execution_count": 24,
     "metadata": {},
     "output_type": "execute_result"
    }
   ],
   "source": [
    "from_excluded_middle = Forall(C, Forall(A, C, domain=Boolean,\n",
    "                                            conditions=[Implies(A, C),\n",
    "                                                        Implies(Not(A), C)]))"
   ]
  },
  {
   "cell_type": "markdown",
   "metadata": {},
   "source": [
    "*** New facts may be derived via the 'law of excluded middle' through dual implications ***"
   ]
  },
  {
   "cell_type": "markdown",
   "metadata": {},
   "source": [
    "### The claim that $x\\in \\mathbb{B}$ should itself be in $\\mathbb{B}$"
   ]
  },
  {
   "cell_type": "code",
   "execution_count": 25,
   "metadata": {},
   "outputs": [
    {
     "data": {
      "text/html": [
       "<strong id=\"in_bool_is_bool\"><a class=\"ProveItLink\" href=\"proofs/in_bool_is_bool/thm_proof.ipynb\">in_bool_is_bool</a> (conjecture with conjecture-based proof):<br></strong> <a class=\"ProveItLink\" href=\"../__pv_it/theorems/910bdf03592b01ad40d96060b922ce66397979a30/theorem_expr.ipynb\"><img src=\"data:image/png;base64,iVBORw0KGgoAAAANSUhEUgAAAKAAAAAVBAMAAAAz5vjYAAAAMFBMVEX///+IiIgiIiIQEBB2dnbu\n",
       "7u5ERETMzMzc3NwyMjK6urpmZmaYmJiqqqpUVFQAAAB6qHgnAAAAAXRSTlMAQObYZgAAAAlwSFlz\n",
       "AAAOxAAADsQBlSsOGwAAAi9JREFUOMtjYMACOKAYJ+AgUVwWioEqJqDKCJnNn6y3gIFLgAGn+AMQ\n",
       "/w6KLK8DBAMB5wc0nQkLOaa+YmCQYcApvgvEnYEiGQnFQHAfw8A1DB5sQIsCcIrXgTyWgCK5B4qB\n",
       "YN8PTI1n+RgYeDbgFAfZxXIBRdIAioESLd+hYmJKShNgGjmBtClEmDFJSZMBVZznANChqEE4AYKB\n",
       "oJHxL0RspSjCJS+OAOk5YB7XxABMcSMlJRMUA7kdIBgINvD+gUT2VETgB+qB5PzAvM4ALOLbGRhS\n",
       "wWIwSc4DEAx0wAX2LxChBrjGRZM/bQXSJxlQIxNJvI+BA5x0WM2hckwXIBjoTgaOfxADkQNfZiXQ\n",
       "6stg3gRs4mwBLAvAEQANLgbmBRAMjInd+76BhYqVgCABqpGNC+i3ehCHHRhcSmoMaOK8AhD7lxui\n",
       "G8gKTPefwEJhyC5hYwAavRjsqQSs4hMOgoUE5qF7mRuIlSFCqBqBPr0E5ilgFfcFRyEjw06oHJsA\n",
       "BDOsAeL5kOQmgKyRF8g7BuYJMmATbwbHyXIGYagcywMI5gAl7nxI/M6Fa1zC4OgNpLdAIusCNnG+\n",
       "ApDIFpf30HTDrgDGrPk/Axiu/Z8CFovLgkhKmuWDShUGBi0wl/XZUgZs4mAfM/QXQNnqUIwMliQp\n",
       "IZdkHNDQ43KDZj00cXB48cPcfxqK8QDuAwTEue0YWPfPgsVKAwTjAW0kiYOSF2sCXgMzSBNvhGKc\n",
       "gLEBpzgAKQuiOyXPza8AAAAASUVORK5CYII=\n",
       "\" style=\"display:inline;vertical-align:middle;\" /></a><br>"
      ],
      "text/plain": [
       "in_bool_is_bool: forall_{A} ((A in BOOLEAN) in BOOLEAN)"
      ]
     },
     "execution_count": 25,
     "metadata": {},
     "output_type": "execute_result"
    }
   ],
   "source": [
    "in_bool_is_bool = Forall(A, in_bool(in_bool(A)))"
   ]
  },
  {
   "cell_type": "code",
   "execution_count": 26,
   "metadata": {},
   "outputs": [
    {
     "name": "stdout",
     "output_type": "stream",
     "text": [
      "These theorems may now be imported from the theory package: proveit.logic.booleans\n"
     ]
    }
   ],
   "source": [
    "%end theorems"
   ]
  },
  {
   "cell_type": "code",
   "execution_count": null,
   "metadata": {},
   "outputs": [],
   "source": []
  }
 ],
 "metadata": {
  "kernelspec": {
   "display_name": "Python 3",
   "language": "python",
   "name": "python3"
  },
  "language_info": {
   "codemirror_mode": {
    "name": "ipython",
    "version": 3
   },
   "file_extension": ".py",
   "mimetype": "text/x-python",
   "name": "python",
   "nbconvert_exporter": "python",
   "pygments_lexer": "ipython3",
   "version": "3.7.3"
  }
 },
 "nbformat": 4,
 "nbformat_minor": 1
}
