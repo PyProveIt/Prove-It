{
 "cells": [
  {
   "cell_type": "markdown",
   "metadata": {},
   "source": [
    "Theorems (or conjectures) for the theory of <a class=\"ProveItLink\" href=\"theory.ipynb\">proveit.logic.booleans.implication</a>\n",
    "========"
   ]
  },
  {
   "cell_type": "code",
   "execution_count": 1,
   "metadata": {},
   "outputs": [
    {
     "name": "stdout",
     "output_type": "stream",
     "text": [
      "Defining theorems for theory 'proveit.logic.booleans.implication'\n",
      "Subsequent end-of-cell assignments will define theorems\n",
      "'%end theorems' will finalize the definitions\n"
     ]
    }
   ],
   "source": [
    "import proveit\n",
    "# Prepare this notebook for defining the theorems of a theory:\n",
    "%theorems_notebook # Keep this at the top following 'import proveit'.\n",
    "from proveit.logic import Equals, NotEquals,Implies, TRUE, FALSE, Iff, Forall, And, Not, in_bool, Boolean\n",
    "from proveit import A, B, C\n",
    "%begin theorems"
   ]
  },
  {
   "cell_type": "code",
   "execution_count": 2,
   "metadata": {},
   "outputs": [
    {
     "data": {
      "text/html": [
       "<strong id=\"self_implication\"><a class=\"ProveItLink\" href=\"proofs/self_implication/thm_proof.ipynb\">self_implication</a> (established theorem):<br></strong> <a class=\"ProveItLink\" href=\"../__pv_it/theorems/2dca1ce7b794fc66f18cf57123746550c62ec9060/theorem_expr.ipynb\"><img src=\"data:image/png;base64,iVBORw0KGgoAAAANSUhEUgAAAHIAAAAVBAMAAABoAqesAAAAMFBMVEX///+IiIgiIiIQEBB2dnbu\n",
       "7u5ERETMzMzc3NwyMjK6urpmZmaYmJiqqqpUVFQAAAB6qHgnAAAAAXRSTlMAQObYZgAAAAlwSFlz\n",
       "AAAOxAAADsQBlSsOGwAAAaBJREFUOMtjYMAGGhgIAA4c4owXwFQnDmmgOJcAA8MDEPsOqtQVCDUf\n",
       "h06QuAwDwy4QewaKDOsEMMX7H7tGsDhnAEMdyNUJKFLcByDUe+zeBYvzbABpZmC5gCLFDKE8/Avg\n",
       "QmwBCGmIuCkDD9ACTlRDb0KCT0AeYSA7wlVQ8TkMDEZKSiaoOrdAHMVw/wBC7AjCsRBxPwaG7QwM\n",
       "qWAhuIPmgMm1DPUOIHqTEgjob4DJQsVPMjD0MXCAY4bVHCanCyY3MPQ/QPYCzOlQ8csgz7MsAImw\n",
       "/IUpsgKnhuzd75GDnHXyAgZk8Xpg9AhAAmi5IYrOQAYGfgXkhOMBoWHii4F4wkGwkMA8FNcC/cVk\n",
       "gPCn0gy4YyHil4DYdyrYFQw7YToTgZgLFFkfEFYug9Jw8WNA3AwOiOUMwjBVfiBBUPT/QETiBCgD\n",
       "Lg6KOj5wUtni8h4WLUUMDGH/pzLw5v90gKchaHJCiGvBMxYDQz8ssTEVEM6PHPDQWwMMMliM8Wxg\n",
       "IAi4YemL246Bdf8smHAGYZ1t2IXDCOvEYTiHACGNjA0MAPLyY5uiCKe9AAAAAElFTkSuQmCC\n",
       "\" style=\"display:inline;vertical-align:middle;\" /></a><br>"
      ],
      "text/plain": [
       "self_implication: forall_{A} (A => A)"
      ]
     },
     "execution_count": 2,
     "metadata": {},
     "output_type": "execute_result"
    }
   ],
   "source": [
    "self_implication = Forall(A, Implies(A, A))"
   ]
  },
  {
   "cell_type": "code",
   "execution_count": 3,
   "metadata": {},
   "outputs": [
    {
     "data": {
      "text/html": [
       "<strong id=\"true_implies_true\"><a class=\"ProveItLink\" href=\"proofs/true_implies_true/thm_proof.ipynb\">true_implies_true</a> (established theorem):<br></strong> <a class=\"ProveItLink\" href=\"../__pv_it/theorems/512a56eaa59ef5439c1ea3bc39456d4543d012230/theorem_expr.ipynb\"><img src=\"data:image/png;base64,iVBORw0KGgoAAAANSUhEUgAAAD8AAAAPBAMAAAChCwpBAAAAMFBMVEX////c3NwQEBAyMjJ2dnbM\n",
       "zMzu7u5ERESYmJi6urqIiIiqqqpUVFQiIiJmZmYAAAAk7bSnAAAAAXRSTlMAQObYZgAAAAlwSFlz\n",
       "AAAOxAAADsQBlSsOGwAAAF1JREFUGNNjeHsXBO4woAM+sPjdAyD2LgbsgHsBlEGaAvYEAgpYCwhZ\n",
       "0YJbAcRD9x8QcuTmDQQUsBlNwK9A2BG/G+4aEnDDdALeZDTAVDADJSQD4EzOBmwRwIjGBwDtUjA8\n",
       "ljnJvAAAAABJRU5ErkJggg==\n",
       "\" style=\"display:inline;vertical-align:middle;\" /></a><br>"
      ],
      "text/plain": [
       "true_implies_true: TRUE => TRUE"
      ]
     },
     "execution_count": 3,
     "metadata": {},
     "output_type": "execute_result"
    }
   ],
   "source": [
    "true_implies_true = Implies(TRUE, TRUE)"
   ]
  },
  {
   "cell_type": "code",
   "execution_count": 4,
   "metadata": {},
   "outputs": [
    {
     "data": {
      "text/html": [
       "<strong id=\"false_implies_false\"><a class=\"ProveItLink\" href=\"proofs/false_implies_false/thm_proof.ipynb\">false_implies_false</a> (established theorem):<br></strong> <a class=\"ProveItLink\" href=\"../__pv_it/theorems/a4b15b5c331484ca078cf042063d53d0a24c7fe30/theorem_expr.ipynb\"><img src=\"data:image/png;base64,iVBORw0KGgoAAAANSUhEUgAAAD8AAAAQBAMAAABTi7oPAAAAMFBMVEX////c3NwyMjJ2dnbMzMzu\n",
       "7u5ERERUVFQQEBAiIiJmZmaIiIiqqqqYmJi6uroAAABFEoe0AAAAAXRSTlMAQObYZgAAAAlwSFlz\n",
       "AAAOxAAADsQBlSsOGwAAAGNJREFUKM9jYCACvMUhzncByjiNQwHPBrIUsAUQUMCSQMiKy7gVrJwJ\n",
       "AvMXEHLkoQMEFLBqPMCvQMgQvxtmKhJwwzMC3mRUQFMANLdj5szpiJB0gNBcM2fO6Jw5swAjAhjR\n",
       "+ADZOis9Pba0rAAAAABJRU5ErkJggg==\n",
       "\" style=\"display:inline;vertical-align:middle;\" /></a><br>"
      ],
      "text/plain": [
       "false_implies_false: FALSE => FALSE"
      ]
     },
     "execution_count": 4,
     "metadata": {},
     "output_type": "execute_result"
    }
   ],
   "source": [
    "false_implies_false = Implies(FALSE, FALSE)"
   ]
  },
  {
   "cell_type": "code",
   "execution_count": 5,
   "metadata": {},
   "outputs": [
    {
     "data": {
      "text/html": [
       "<strong id=\"false_implies_true\"><a class=\"ProveItLink\" href=\"proofs/false_implies_true/thm_proof.ipynb\">false_implies_true</a> (established theorem):<br></strong> <a class=\"ProveItLink\" href=\"../__pv_it/theorems/3f891fa760fa7045d4b440ac32f481771b4dbb110/theorem_expr.ipynb\"><img src=\"data:image/png;base64,iVBORw0KGgoAAAANSUhEUgAAAD8AAAAQBAMAAABTi7oPAAAAMFBMVEX////c3NwyMjJ2dnbMzMzu\n",
       "7u5ERERUVFQQEBAiIiJmZmaIiIiqqqqYmJi6uroAAABFEoe0AAAAAXRSTlMAQObYZgAAAAlwSFlz\n",
       "AAAOxAAADsQBlSsOGwAAAGFJREFUKM9jYCACvMUmyDUTDApA7NM4NPJsgDJIU8AWQEABSwIhKy7j\n",
       "VrAS7O75Cwg58tABAgpYNR7gVyBkiN8NMxUJuOEZAW8yKqApAJrbMXPmdERIOsCZfBewRQAjGh8A\n",
       "NtQrTlOiCC8AAAAASUVORK5CYII=\n",
       "\" style=\"display:inline;vertical-align:middle;\" /></a><br>"
      ],
      "text/plain": [
       "false_implies_true: FALSE => TRUE"
      ]
     },
     "execution_count": 5,
     "metadata": {},
     "output_type": "execute_result"
    }
   ],
   "source": [
    "false_implies_true = Implies(FALSE, TRUE)"
   ]
  },
  {
   "cell_type": "code",
   "execution_count": 6,
   "metadata": {},
   "outputs": [
    {
     "data": {
      "text/html": [
       "<strong id=\"implies_t_t\"><a class=\"ProveItLink\" href=\"proofs/implies_t_t/thm_proof.ipynb\">implies_t_t</a> (established theorem):<br></strong> <a class=\"ProveItLink\" href=\"../__pv_it/theorems/8ee8daf40bed00fd1d99983ca571699f559f2a9e0/theorem_expr.ipynb\"><img src=\"data:image/png;base64,iVBORw0KGgoAAAANSUhEUgAAAHoAAAAVBAMAAAB71edYAAAAMFBMVEX////MzMxUVFRERES6uroi\n",
       "IiIQEBCYmJhmZmYyMjLu7u52dnaqqqqIiIjc3NwAAACW8nlqAAAAAXRSTlMAQObYZgAAAAlwSFlz\n",
       "AAAOxAAADsQBlSsOGwAAAOxJREFUOMtjYGB4wEAI4FHBe4Cgbl/cUqcZGFpDQSAIQwomzluAS4Zr\n",
       "Aph7FofZEPFZuGQ4CojQXYFLho0BU7cVum62BTh0n8SiWxhdN2cBDt3dWHSzb0DTza2AQ/d0FN0c\n",
       "4LAM/YGmm30CckAjycRgsZuBZw6qbp4EHHanYNPNsDIFRTfjB1J0881+gKKbBZfdMdj8HfkAzeUB\n",
       "OPxti8VuFgP0UDPAYfcmLLpfosc3xwYcukUhbHdkCUMEEyLO6oCpGyzDKkBEfn6KK4OyNzAQBu04\n",
       "ZewIa+YzwCm1mLBuZtxFE98Fgrrv4ZIAAACATIoBEqbaAAAAAElFTkSuQmCC\n",
       "\" style=\"display:inline;vertical-align:middle;\" /></a><br>"
      ],
      "text/plain": [
       "implies_t_t: (TRUE => TRUE) = TRUE"
      ]
     },
     "execution_count": 6,
     "metadata": {},
     "output_type": "execute_result"
    }
   ],
   "source": [
    "implies_t_t = Equals(Implies(TRUE, TRUE), TRUE)"
   ]
  },
  {
   "cell_type": "code",
   "execution_count": 7,
   "metadata": {},
   "outputs": [
    {
     "data": {
      "text/html": [
       "<strong id=\"implies_f_f\"><a class=\"ProveItLink\" href=\"proofs/implies_f_f/thm_proof.ipynb\">implies_f_f</a> (established theorem):<br></strong> <a class=\"ProveItLink\" href=\"../__pv_it/theorems/5ef304994d4afee01a4e9837492b0a4811b9d84a0/theorem_expr.ipynb\"><img src=\"data:image/png;base64,iVBORw0KGgoAAAANSUhEUgAAAHoAAAAVBAMAAAB71edYAAAAMFBMVEX////MzMxUVFRERES6uroi\n",
       "IiIQEBCYmJhmZmYyMjLu7u52dnaqqqqIiIjc3NwAAACW8nlqAAAAAXRSTlMAQObYZgAAAAlwSFlz\n",
       "AAAOxAAADsQBlSsOGwAAAO9JREFUOMtjYGB4wEAI4FHBe4Cgbl/cUqfBpDsOWbA4bwG6cGsoCAQx\n",
       "cE0Ac8/i0A0Rn4VLhqOACN0VuGTYGDB1W6HrZluAQ/dJLLqF0XVzFuDQ3Y1FN/sGNN3cCjh0T0fR\n",
       "zQEOy9AfaLrZJyAHNJJMDBa7GXjmoOrmScBhdwo23QwrU1B0M34gRTff7Acoullw2R2Dzd+RD9Bc\n",
       "HoDD37ZY7GYxQA81Axx2b8Ki+yV6fHNswKFbFOKkNISTGBgMEXkBIs7qgCP/sAoQkZ+f4sqg7A0M\n",
       "hEE7Thk7wpr5DHBKLSasmxl30cR3gaDue7gkAC+CTKxf+1ThAAAAAElFTkSuQmCC\n",
       "\" style=\"display:inline;vertical-align:middle;\" /></a><br>"
      ],
      "text/plain": [
       "implies_f_f: (FALSE => FALSE) = TRUE"
      ]
     },
     "execution_count": 7,
     "metadata": {},
     "output_type": "execute_result"
    }
   ],
   "source": [
    "implies_f_f = Equals(Implies(FALSE, FALSE), TRUE)"
   ]
  },
  {
   "cell_type": "code",
   "execution_count": 8,
   "metadata": {},
   "outputs": [
    {
     "data": {
      "text/html": [
       "<strong id=\"implies_f_t\"><a class=\"ProveItLink\" href=\"proofs/implies_f_t/thm_proof.ipynb\">implies_f_t</a> (established theorem):<br></strong> <a class=\"ProveItLink\" href=\"../__pv_it/theorems/d7383957adfffad653e74e5f4232aaa2291969a20/theorem_expr.ipynb\"><img src=\"data:image/png;base64,iVBORw0KGgoAAAANSUhEUgAAAHoAAAAVBAMAAAB71edYAAAAMFBMVEX////MzMxUVFRERES6uroi\n",
       "IiIQEBCYmJhmZmYyMjLu7u52dnaqqqqIiIjc3NwAAACW8nlqAAAAAXRSTlMAQObYZgAAAAlwSFlz\n",
       "AAAOxAAADsQBlSsOGwAAAO9JREFUOMtjYGB4wEAI4FHBe4Cgbl/cUqfBpDs2qdZQEAhi4C3AJcM1\n",
       "Acw9i8NsiPgsXDIcBUTorsAlw8aAqdsKXTfbAhy6T2LRLYyum7MAh+5uLLrZN6Dp5lbAoXs6im4O\n",
       "cFiG/kDTzT4BOaCRZGKw2M3AMwdVN08CDrtTsOlmWJmCopvxAym6+WY/QNHNgsvuGGz+jnyA5vIA\n",
       "HP62xWI3iwF6qBngsHsTFt0v0eObYwMO3aIQJ6UhnMTAYIhQA8k9rA6YusEyrAJE5OenuDIoewMD\n",
       "YdCOU8aOsGY+A5xSiwnrZsZdNPFdIKj7Hi4JABjNTJvVRr0pAAAAAElFTkSuQmCC\n",
       "\" style=\"display:inline;vertical-align:middle;\" /></a><br>"
      ],
      "text/plain": [
       "implies_f_t: (FALSE => TRUE) = TRUE"
      ]
     },
     "execution_count": 8,
     "metadata": {},
     "output_type": "execute_result"
    }
   ],
   "source": [
    "implies_f_t = Equals(Implies(FALSE, TRUE), TRUE)"
   ]
  },
  {
   "cell_type": "code",
   "execution_count": 9,
   "metadata": {},
   "outputs": [
    {
     "data": {
      "text/html": [
       "<strong id=\"true_implies_false_negated\"><a class=\"ProveItLink\" href=\"proofs/true_implies_false_negated/thm_proof.ipynb\">true_implies_false_negated</a> (established theorem):<br></strong> <a class=\"ProveItLink\" href=\"../__pv_it/theorems/59c6bd690582a55297b304f46e6535dd5ea7123d0/theorem_expr.ipynb\"><img src=\"data:image/png;base64,iVBORw0KGgoAAAANSUhEUgAAAF4AAAAVBAMAAAA9Y0TyAAAAMFBMVEX////MzMxERES6uroQEBCY\n",
       "mJgyMjLu7u52dnaqqqqIiIhUVFTc3NwiIiJmZmYAAAAM3gM0AAAAAXRSTlMAQObYZgAAAAlwSFlz\n",
       "AAAOxAAADsQBlSsOGwAAAOlJREFUKM9jYECAAwwEAA8Kj2sCIfXMC5B5Mxj47oLBBmxKA0DkUiQR\n",
       "9gQQybkAu9EQcbYChAhfAGH1rA8QIiwMmOrV0dQzuCPkpmFRL4SuPhUh9wKLetYGNPXdCLlUFPXQ\n",
       "oPqHpj6M4S1I+B6QeROL+Qycmajqp0B4p4HYGZt6hjJnFPXyBNTzZBxAUW+CUH8Tm/uvHUB1z1wI\n",
       "7xwQa2Exn1kBzb9BCLluLOqPoYf/C4ScLFK6ggFFuOOu+ILT4WWEHK8AZqpBzxE8F5Di8gEDQcCH\n",
       "bLsOYfWHkDlFhNWjGMmzgJByrgMMAF+FStIQM4NCAAAAAElFTkSuQmCC\n",
       "\" style=\"display:inline;vertical-align:middle;\" /></a><br>"
      ],
      "text/plain": [
       "true_implies_false_negated: [not](TRUE => FALSE)"
      ]
     },
     "execution_count": 9,
     "metadata": {},
     "output_type": "execute_result"
    }
   ],
   "source": [
    "true_implies_false_negated = Not(Implies(TRUE, FALSE))"
   ]
  },
  {
   "cell_type": "code",
   "execution_count": 10,
   "metadata": {},
   "outputs": [
    {
     "data": {
      "text/html": [
       "<strong id=\"false_antecedent_implication\"><a class=\"ProveItLink\" href=\"proofs/false_antecedent_implication/thm_proof.ipynb\">false_antecedent_implication</a> (established theorem):<br></strong> <a class=\"ProveItLink\" href=\"../__pv_it/theorems/d8533ec4bf555420f5f41d641deef4379b158a560/theorem_expr.ipynb\"><img src=\"data:image/png;base64,iVBORw0KGgoAAAANSUhEUgAAAIcAAAAVBAMAAACeZ+BxAAAAMFBMVEX///+IiIgiIiIQEBB2dnbu\n",
       "7u5ERETMzMzc3NwyMjK6urpmZmaYmJiqqqpUVFQAAAB6qHgnAAAAAXRSTlMAQObYZgAAAAlwSFlz\n",
       "AAAOxAAADsQBlSsOGwAAAe9JREFUOMuNVE0oBGEYfsbO2MUuU0oSpXFwUP7LTXNALmquDsrFHpRw\n",
       "VvKXUn5WljaKdeHiICn5iVVuLutCSnFyJclP+Xvfb2ZW2pkd3+H7eb93nu95nu+dD8jcAvBqI54Z\n",
       "KMt8RARYp/GOFzduWSGd+y237ZxHQEoAB7yIuWV1iv7CbfuWQLAIDDOrbreso8wgx2/UnRMjA5CT\n",
       "blm16SDZRmoqT7xS7zMQJEk5rpZE0kH8v7RHpU82hhDqNa3RDSRPd5Bzlppthz6YD93NHtAjQoaD\n",
       "+4k/IDsat5pta5mb9D/TECS6swiIa1aaLAnRlSrbo6ykk7HX1nYeAl/8QS0bJceFS6xv8L4Xqj5z\n",
       "ZaX74k4gyoIZLjo8fmGT6J5DqunrZh1hkzYCkbsygky1m1gq8MSq+AojpyKmrgKlYqJPtzrLMT3R\n",
       "YrYaoILllFPXscghCftQxO2phw0Ddk2oDkw2rJF/hjU2lr8aF75uohC5CZPJUIldTXfpIIGINbKK\n",
       "/hGrDvLFubstD0ZwKRzuY09ku7DKhYYGTav+rViTptL/buDyO0qa4/aWBMwN+HWTiSzZ4cp/vDBj\n",
       "qRkJLEiaVUcgg3b43PvFsX5SdroZyskyJolqaD4aTqS4e79baU+A0hbu/Rvo9gT5xzmjnhnFwA8C\n",
       "fXDWCYECHAAAAABJRU5ErkJggg==\n",
       "\" style=\"display:inline;vertical-align:middle;\" /></a><br>"
      ],
      "text/plain": [
       "false_antecedent_implication: forall_{A in BOOLEAN} (FALSE => A)"
      ]
     },
     "execution_count": 10,
     "metadata": {},
     "output_type": "execute_result"
    }
   ],
   "source": [
    "false_antecedent_implication = Forall(A, Implies(FALSE, A), domain=Boolean)"
   ]
  },
  {
   "cell_type": "code",
   "execution_count": 11,
   "metadata": {},
   "outputs": [
    {
     "data": {
      "text/html": [
       "<strong id=\"falsified_antecedent_implication\"><a class=\"ProveItLink\" href=\"proofs/falsified_antecedent_implication/thm_proof.ipynb\">falsified_antecedent_implication</a> (established theorem):<br></strong> <a class=\"ProveItLink\" href=\"../__pv_it/theorems/6c22169b75f6506394854f227ca2ba282c5b93d70/theorem_expr.ipynb\"><img src=\"data:image/png;base64,iVBORw0KGgoAAAANSUhEUgAAAK8AAAAXBAMAAACPJQJeAAAAMFBMVEX///+IiIgiIiIQEBB2dnbu\n",
       "7u5ERETMzMzc3NwyMjK6urpmZmaYmJiqqqpUVFQAAAB6qHgnAAAAAXRSTlMAQObYZgAAAAlwSFlz\n",
       "AAAOxAAADsQBlSsOGwAAAnFJREFUOMutVE1oE0EU/tJmk02yGyNePAgNuYkIUcQWsZJDEC9q9FDw\n",
       "1iJGQaTBg8e26MlL04MREX8iIr0o7qFU/AGjB0F6cA9eBMHgRYqQRFBsiTa+mdnZ3exGk6U+mJ03\n",
       "79v59r1v3iwQ3Ob+wxu9LGTy6eo/XrlHo86cj0GI34vpbi/sTafRuF5CqAY8Y+sbAXiVBT7pnZ7o\n",
       "fiD5E6gAM7RSJwMQJ2piavYSUv0GxNvAChArAGEzAPGwmI4cLzmxM9LRKFuNyIcL0CiBWBCJP4jU\n",
       "UiOubC5JJ9kitjEaxLo3k9kXhHhJKIFPNSem5WQ5k1A+Uylh6oknspKCR8vupY3e4s9HmOVkiQy3\n",
       "tgXOTm1dZR/U6ITnofKWU0ZFVe38Mlcv0t0Lo9LbzZ8GynUXrN8W88gc9INsnSWCQrjKYuHfoqo0\n",
       "Qlk/sYWSHeCX5PzzZlcrneJhnKbBTjVKWuspcXaLe4T8BrSWn9hCJfEJYEva3WbXRPNt0HiXopZj\n",
       "uS284rHUHSG/iZM1P7GFSikMYCjr0nin4I3+okeTBNDZV49WeHF4yrHyjpUv8BFLlGyKRpz1aMuB\n",
       "45YsoTUiX2eCssAVfgqL2Max11C+uogPF4vFtIOSHWNbGL7mEMsfUoyquM/yTLCWSfImWMo3eUcR\n",
       "a7nanXHdQckuAhOdCvTp9Zz9xlnrekxvNFYvMG+o6tSKMv/AOPC45CW2UbanNMD/97LtPaRjNpUc\n",
       "1B9Qdnk0NgQqb5kxwPV8YV+zQ1Be3oyO4+33/LLpPTyBytW5/ry+36Xu8iN/2zXRnzji1ebBIMRq\n",
       "qi/xdm+gNgjxZk3d3PY/SfaN4jpY6QMAAAAASUVORK5CYII=\n",
       "\" style=\"display:inline;vertical-align:middle;\" /></a><br>"
      ],
      "text/plain": [
       "falsified_antecedent_implication: forall_{A, B | [not](A)} (A => B)"
      ]
     },
     "execution_count": 11,
     "metadata": {},
     "output_type": "execute_result"
    }
   ],
   "source": [
    "falsified_antecedent_implication = Forall((A, B), Implies(A, B), condition=Not(A))"
   ]
  },
  {
   "cell_type": "code",
   "execution_count": 12,
   "metadata": {},
   "outputs": [
    {
     "data": {
      "text/html": [
       "<strong id=\"untrue_antecedent_implication\"><a class=\"ProveItLink\" href=\"proofs/untrue_antecedent_implication/thm_proof.ipynb\">untrue_antecedent_implication</a> (established theorem):<br></strong> <a class=\"ProveItLink\" href=\"../__pv_it/theorems/9e345d7f7f06d2b2b5bf9d3ecf716f161cac82b00/theorem_expr.ipynb\"><img src=\"data:image/png;base64,iVBORw0KGgoAAAANSUhEUgAAAL0AAAAXCAMAAABpjr6KAAAAOVBMVEX///82NjYbGxsSEhKIiIgi\n",
       "IiIQEBB2dnbu7u5ERETMzMzc3NwyMjK6urpmZmaYmJiqqqpUVFQAAAAnLjGdAAAAAXRSTlMAQObY\n",
       "ZgAAAAlwSFlzAAAOxAAADsQBlSsOGwAAAnFJREFUWMPVV4mWmzAMdFvft/X/H1uE7UQGDOx2S7d6\n",
       "LyQkljWMRrLC2L8w9y22+KTxTGH4T+0ROF7L6z6nh8BnRe883PVLBqAs5o1FChBuDK9tHkqGHsjO\n",
       "APddpVnfCiB8rxmznXxnHqI+DjmOBW6z5oBX1UDEVMT2CGgqP4Re0hvl1Erkzow+kE5bmupTyGVJ\n",
       "alT4p1RPAznOOBzSZg+kUJrIvFzT5RG5FGhSPSUcGiii8I+7RVIT2esiagoUij7abab0Rfx9IZ7c\n",
       "bc0TsGGh3cIbZhTEYBvHguGcl9cGCbPoSr/06NLSDEJUKhry1S6ngwNT2MWUWUzihW8Wizzy4KBM\n",
       "NTZqitf6zrLBz7LTrgIJPygxidVTnqAfHAgPh11MviNxE+PSc8y8t5LFy3ayh7MtF+sz8KFmg5WU\n",
       "rxJrmc/Rjw7F3UWvqxeIWYP0amimPUmpN07Z2k0i4TnzNJcSedUizdEPDkGxc/Rv5TRdC3mse7E5\n",
       "Pm0v7wKVgCxaq/eaYGHRDydESrFQYZst+OoQUeXm1/JKZ+hfhRDS6agQdiS1Y82C75NDRSgJd3YU\n",
       "+Sp7XeIU/ejAE7vgXrVYrvuYw8N2P7x52fTSqe69l1C7NBhVQG9k7yDMQA0OevjtEL0VdSHAiiLj\n",
       "h4OzxmxO4PIa0V7KE2E3vFasdpT9MlnMOubbAZXz84e5Ug4T9mvmd7er9qZF7IBaVVx6LdqZcogD\n",
       "IyPfGfoU/8a0h1+sBaAj+MAssp48KDyr8gQUddiPVhOY5ktG8auZeDZ0Tt0yvzfgf8ksfsFB0B9F\n",
       "f3dMdfzPwfOLBE7/KM7Q58D+A3PfBslvjc4ZWwAWnlsAAAAASUVORK5CYII=\n",
       "\" style=\"display:inline;vertical-align:middle;\" /></a><br>"
      ],
      "text/plain": [
       "untrue_antecedent_implication: forall_{A, B | A != TRUE} (A => B)"
      ]
     },
     "execution_count": 12,
     "metadata": {},
     "output_type": "execute_result"
    }
   ],
   "source": [
    "untrue_antecedent_implication = Forall((A, B), Implies(A, B), condition=NotEquals(A, TRUE))"
   ]
  },
  {
   "cell_type": "code",
   "execution_count": 13,
   "metadata": {},
   "outputs": [
    {
     "data": {
      "text/html": [
       "<strong id=\"not_true_via_contradiction\"><a class=\"ProveItLink\" href=\"proofs/not_true_via_contradiction/thm_proof.ipynb\">not_true_via_contradiction</a> (established theorem):<br></strong> <a class=\"ProveItLink\" href=\"../__pv_it/theorems/cbe9ec8b7410c394a6add0a23e8c20ac1634366b0/theorem_expr.ipynb\"><img src=\"data:image/png;base64,iVBORw0KGgoAAAANSUhEUgAAAKkAAAAXCAMAAABHy58YAAAAPFBMVEX///8NDQ0WFhYLCwsYGBiI\n",
       "iIgiIiIQEBB2dnbu7u5ERETMzMzc3NwyMjK6urpmZmaYmJiqqqpUVFQAAACZSrTsAAAAAXRSTlMA\n",
       "QObYZgAAAAlwSFlzAAAOxAAADsQBlSsOGwAAAgVJREFUSMfNl9lyhSAMhumChF3g/d+1oqJBFjkz\n",
       "x7ZcOEpYPv4kgIT8SlF/2PulQh2eV1fbWN7sbmh8+uPbzU+BOsBfOtTaSIGgJ1QiII1o1hwjPCUy\n",
       "z0R0oUoqZLE+ila3CC6TqEo8JanNnGV9qEgiPemRznbHjQXcU6QMf4CCICuSqi4pYQvlvK9YPxal\n",
       "eGRFCQ2lJsaTPqmOlGwNXAaPOR+PbGOglqlby5GMFOJS7OoMgTaJbL+wZYa8RqoRmFnklAGuWf79\n",
       "lbK8RTpHxyifHomE4UAqEi03X/Sr1E0ut6vgRyTNSR1LcoJBSmeBVJBCaOdebf9g59BUWLvk/rWV\n",
       "seSOVIZUhaLeSEY7k1/M+XnRJ+VbxzCNSJqTGran/YxqKdG+M/nFTLy6IT29v0s3sTxOPz/O06jp\n",
       "/WnfSjVHJMTq9uTJDGIvGodtjVSkGc1cP051PUXzjNpGVswj5y40rElamCP0eSLXSGEfXKVuIj+k\n",
       "nCX3pGmr8xJVAfjAW6SFed03gHdI5eo4LkJYxXPxBe4lPVywRYwp7mfr1KHl0NN8eF8I6HufTHL8\n",
       "otW6oU6NdeB9SPTNBOabjNquF+2DYeQgsddjza4By23QpjZ5zSwTxioyiw86cP04lzEk6dA976bR\n",
       "iCK8M8Y0MoBQbyAd+xGiTZMc+bkZu+M/dsH+Z7+V7ys/wdEVEd8SY/kAAAAASUVORK5CYII=\n",
       "\" style=\"display:inline;vertical-align:middle;\" /></a><br>"
      ],
      "text/plain": [
       "not_true_via_contradiction: forall_{A | A => FALSE} (A != TRUE)"
      ]
     },
     "execution_count": 13,
     "metadata": {},
     "output_type": "execute_result"
    }
   ],
   "source": [
    "not_true_via_contradiction = Forall(A, NotEquals(A,TRUE), conditions=Implies(A,FALSE))"
   ]
  },
  {
   "cell_type": "code",
   "execution_count": 14,
   "metadata": {},
   "outputs": [
    {
     "data": {
      "text/html": [
       "<strong id=\"implication_transitivity\"><a class=\"ProveItLink\" href=\"proofs/implication_transitivity/thm_proof.ipynb\">implication_transitivity</a> (established theorem):<br></strong> <a class=\"ProveItLink\" href=\"../__pv_it/theorems/b3e10600494ad398844e952a5162eb605503c9800/theorem_expr.ipynb\"><img src=\"data:image/png;base64,iVBORw0KGgoAAAANSUhEUgAAAQMAAAAXBAMAAAD9zzfBAAAAMFBMVEX///+IiIgiIiIQEBB2dnbu\n",
       "7u5ERETMzMzc3NwyMjK6urpmZmaYmJiqqqpUVFQAAAB6qHgnAAAAAXRSTlMAQObYZgAAAAlwSFlz\n",
       "AAAOxAAADsQBlSsOGwAAA2BJREFUSMe9Vl1IFFEUPqMzu+O4YxuhSFQs9iBRYUURFJbB2ouVg0kR\n",
       "QgTVSg/lgtBLFFq99OIKKkRQbn/4ErTUYqShm29h0IDQS0ESQcGG/aCZ2d859+6dubuurD1MB2bu\n",
       "nXPnnPudc75zZwC8FL3gGx3gsazmQLoXf+MmXpM0ee0NArOODSWf8y1qFVMf9TolBTBEj1e9gXCE\n",
       "D2/yQlhRDuaDFPQBXKBMHfMGwhM+jHzPs3aoGm+jHTCOWbIAVNsbCJvYXb0866pOikkP7gu3AYot\n",
       "CGAxSjyiAqdhp/LL1Z3NjCrTncO9cf8tVVVbvYFQytmYMH+6ugDXQSxE98OIBfvhkciOtZgnh8P/\n",
       "CIECBDBs/zRzU8Vknq81BgUmTFUX6Kwxte08U/PhwSibKelwM8HyCZcHo657f1uyoTXHgMuaZH09\n",
       "nxXZPAL9t1yd62yoEWeSiYTxWWrcrQ4EQqAwGhkbAY6DDKFRZu0YtlW2AZdbNvgyj8XMb8XwyLes\n",
       "Tt1B990i8X7sWDPI2TiwmQ1lCQiwPp7A9VcyBKOdJ4+fY2mAF9kGJuXd3IZXQoKgodFX+czuZfHX\n",
       "MAvMnkF4u5+yteANbmdDE/nSKSnnZQhKySTfk/moBW1DlgHAB6IZZspvS4UgJq2VuLCOV2CUBpVg\n",
       "EC/397EN4DGn6qrx92yjkMAtIARLu2FvJBI5RaTRvzwfiboGKuojPah4KwXso6zdw6vf1RmZUzBG\n",
       "a8SZACkuseAGMqUdAy3NgkvkQDCiouTqEGPA0USWAUpDHHZKEKjfdLJpc7+HVwQLsVHvWKJzy1g0\n",
       "yfAnK1PjGNWwmGDaEoTS8IGZTDnfWcQA/QfIBihd9UCEMkXXhEBrm7Pg5Z9eB0KrmLScSTOrorjQ\n",
       "KOgoymsM92lShiEoHRKEIOizrBCRE5wBBj93mQErRAQDmkJNpXBavYT/g4vODEu2zNbqQJ8BbT1A\n",
       "M2jYOyulQhhIOd62KpEvZkFTAlwDkn10dsRBceIaX/qnDLO8C7TRa/5aeDYdHsT0t9vQklxuSRAe\n",
       "TkLLXDxzsEOgP9xwGlPtGFDeiRva8J5yl4+F/4kWfKRNZyadQr6cl6y8BvnOb63wT8AClHed3rEW\n",
       "h5DXIL90FoRQmatIOR80WBqEFPwX0T32/xd9OtM4bFxBhgAAAABJRU5ErkJggg==\n",
       "\" style=\"display:inline;vertical-align:middle;\" /></a><br>"
      ],
      "text/plain": [
       "implication_transitivity: forall_{A, B, C | A => B, B => C} (A => C)"
      ]
     },
     "execution_count": 14,
     "metadata": {},
     "output_type": "execute_result"
    }
   ],
   "source": [
    "implication_transitivity = Forall((A, B, C), Implies(A, C), conditions=[Implies(A, B), Implies(B, C)])"
   ]
  },
  {
   "cell_type": "code",
   "execution_count": 15,
   "metadata": {},
   "outputs": [
    {
     "data": {
      "text/html": [
       "<strong id=\"modus_tollens_affirmation\"><a class=\"ProveItLink\" href=\"proofs/modus_tollens_affirmation/thm_proof.ipynb\">modus_tollens_affirmation</a> (established theorem):<br></strong> <a class=\"ProveItLink\" href=\"../__pv_it/theorems/d7c13eb22e7ffe1ec494ea74275edda3ba472e890/theorem_expr.ipynb\"><img src=\"data:image/png;base64,iVBORw0KGgoAAAANSUhEUgAAAOoAAAAZBAMAAADNvK/KAAAAMFBMVEX///+IiIgiIiIQEBB2dnbu\n",
       "7u5ERETMzMzc3NwyMjK6urpmZmaYmJiqqqpUVFQAAAB6qHgnAAAAAXRSTlMAQObYZgAAAAlwSFlz\n",
       "AAAOxAAADsQBlSsOGwAAAvhJREFUSMfllk1oE0EUx/+xu8km2cQFwYP0UNKLUAW/wIstOcQeLIWl\n",
       "iDdFxK5YKE0ReilIRCkI2kRIRRRsDmIvgjmUWluI0ZtacL0ogmgOYg89WKW1fut8bHYmbpMqbk8O\n",
       "JDO7s//5zbz35s0ADUs8sRV+l0Bi+xpfhLEeZe7/oGo5Rq3Q9sv61DitYmW/qOFFRp2h7Sv1qdEC\n",
       "rTJ+UV9z6mm67KP1qSFqjBHfLFz6xKhhE1DsBn4dI1W3X1Dl3Aqj6uVGMRPmAZfzi3om8J3H8K5E\n",
       "Yk8jalMi0Zr0i1qMfePUO0Ave2OuTo2mEZS7oryKiQAzEfhDaMQOLXHqKDS2e9S9znD5a222RCW9\n",
       "o6Q19DU1laavgrznkTsUFRaloUMDk10nxKMrZDPWfnBq0FQKzNHU4oNv+2AkLz6Xs0QvDpB/vQWB\n",
       "HYKqVkSEEOENeUUPgE3iyRWSsnm29JFTYwYPpomdZC7E3ISqHJapT1kwxYvQFwWVbWO4wjD3Ac82\n",
       "C8AT6QCpCslUDeCDkxFz99kr4zrQzBrJC/tlalgnH6PJRk9ZUDeIYanQ2Xtx5ux2qNtEtyvkIdHq\n",
       "ULvH2PmDu1BZtjBmd6dlqvKCLiTb/HgegnpeHFxEiFgRnZZlnaSxob2fK6UF1RUCt8hv3KGeZS6a\n",
       "IL6IlPlah7fIVK2DO0tdkKg3wTAtXIiIk92UGebIIzS6FNJ/TBJCo+4dyHBqnE1sMvXO1C9bVj/1\n",
       "q1Jz5sw7zsoWBPUV769wIUIOVXtjUkdqX6pOlYTqwGcTz37mpZOO7LhsOpTka1UC3pOuHbgt7Zyh\n",
       "KpUJqxa2jnNHRlYE1RWucr4Sk2+0ebog1EEPVVuG2gZPNBUdYcDgBqYuyproKeJgdYO6Qi812gH1\n",
       "3lWMkEnFLuWtsof6cCk1ZUvUYKZG6DwO0/05nurqB07Zvwvr3iXUTqtvrbsEp0ZqU/MheJKq7esN\n",
       "xsmI0zUvp70p11wPqiKPqhc8n+n/clvz3oc1eK2p/t19eN8vSybIhEiS//EAAAAASUVORK5CYII=\n",
       "\" style=\"display:inline;vertical-align:middle;\" /></a><br>"
      ],
      "text/plain": [
       "modus_tollens_affirmation: forall_{A in BOOLEAN} [forall_{B | [not](A) => B, [not](B)} A]"
      ]
     },
     "execution_count": 15,
     "metadata": {},
     "output_type": "execute_result"
    }
   ],
   "source": [
    "modus_tollens_affirmation = Forall(A, Forall(B, A, conditions=[Implies(Not(A), B), Not(B)]), domain=Boolean)"
   ]
  },
  {
   "cell_type": "code",
   "execution_count": 16,
   "metadata": {},
   "outputs": [
    {
     "data": {
      "text/html": [
       "<strong id=\"modus_tollens_denial\"><a class=\"ProveItLink\" href=\"proofs/modus_tollens_denial/thm_proof.ipynb\">modus_tollens_denial</a> (established theorem):<br></strong> <a class=\"ProveItLink\" href=\"../__pv_it/theorems/d389baab15ba021c1a3765cb6fdf0f512717a5700/theorem_expr.ipynb\"><img src=\"data:image/png;base64,iVBORw0KGgoAAAANSUhEUgAAAO8AAAAZBAMAAAArlWSOAAAAMFBMVEX///+IiIgiIiIQEBB2dnbu\n",
       "7u5ERETMzMzc3NwyMjK6urpmZmaYmJiqqqpUVFQAAAB6qHgnAAAAAXRSTlMAQObYZgAAAAlwSFlz\n",
       "AAAOxAAADsQBlSsOGwAAAytJREFUSMe9ll1IFFEUgM+6M+7snw32FkLL+JYF/RIEyj6sEpm2+eBb\n",
       "YQ9uYohrD70EKQhCULtWGlGSCxH7UjQPYpRQWw+BJLT9QAhB0kMGPmxB0R9h59w7M3tnZ39k0w7M\n",
       "zL1zzsx37znnnnsBysoHbQQ2QOq1bAWLcdgYCWQ2HlzoMuU/gV02p54H8KkcvET9d6XBdfQIZqoG\n",
       "v7H1pvFq4OCH1L9WGuxP4cNbdYrJNp8FV+lnUQY+R27vKQ32kEvGqp6w3+Yrfw5nENAZmPhStkyM\n",
       "J/HRUTXYbesdPBLH+z4GpvzylkuuhX/KsUVbQqtbaYpTPKt3a9recmC3pjWGqwbP2DwN78nznRx8\n",
       "H6CXvY4WB/vjUCuqdLMRXQt4SuzchWGawjwHJ0BhS0reb2TexI2mrABGbQJbZ35HZilAYCaiac/E\n",
       "0jLxDM60n+TNHThyjURnY04S6jUH10YlWjEg/cHb0Md+UMMX34oFpBcO0coLgWunCGb2Vgk0tVye\n",
       "AmzmrQNmeJHoOjWXo6+HOTio8txK78LBod8RLB0TwS/ZvU6HwGcRTPZWbbG0XFYAXjjBRwE2hbB9\n",
       "yyiZ40+YSr3JiwqCL7SKYG+Aipw7C10ZEUz2JJ9A1HJpBnm75WoLjN6uIbe8MsAdk6ymwgOQ2U/V\n",
       "uT1xESwtUholG54vgwAmeymGciUuajnly8Ij4xcnzFc6+GjhklueGeBRlltpjIovw2d8dosIVlp4\n",
       "2OQVEZw2owjtqby2DUcSoogfN5K/Mz+cUbxqf/AlxsB1bHAzkVw0cDUWG6AYS7bdadkIWzIlgMme\n",
       "txKtghZliSKu/OKd0xa3e3USgoM/cT1tE7dFF34Z94T5jCWXc1tsBrgnLCdmz1wdC4taBsaI+77z\n",
       "Tk3csbSVkAi+gxmX5ZUEwUMOsPIN5CbB1dye5LCllcNGhUlGoctwdUAvum9YYH8LyI+vwxiOL3hp\n",
       "IpZxgOe/RmazebBhT8VCt7SeZgM2HWkfMD/sc4DHipxA5LZYf6UTSMEWKovbbZGa2e1401fl0aen\n",
       "tPXtIu8UtfAsNLL+4LUfkCqCLzvP1etx0K5vzPwF7C7jlKGgZ8YAAAAASUVORK5CYII=\n",
       "\" style=\"display:inline;vertical-align:middle;\" /></a><br>"
      ],
      "text/plain": [
       "modus_tollens_denial: forall_{A in BOOLEAN} [forall_{B | A => B, [not](B)} [not](A)]"
      ]
     },
     "execution_count": 16,
     "metadata": {},
     "output_type": "execute_result"
    }
   ],
   "source": [
    "modus_tollens_denial = Forall(A, Forall(B, Not(A), conditions=[Implies(A, B), Not(B)]), domain=Boolean)"
   ]
  },
  {
   "cell_type": "code",
   "execution_count": 17,
   "metadata": {},
   "outputs": [
    {
     "data": {
      "text/html": [
       "<strong id=\"negated_reflex\"><a class=\"ProveItLink\" href=\"proofs/negated_reflex/thm_proof.ipynb\">negated_reflex</a> (established theorem):<br></strong> <a class=\"ProveItLink\" href=\"../__pv_it/theorems/3f311f52cfac88e33a12603b7afe77185f41a86a0/theorem_expr.ipynb\"><img src=\"data:image/png;base64,iVBORw0KGgoAAAANSUhEUgAAANoAAAAXBAMAAACfRUyCAAAAMFBMVEX///+IiIgiIiIQEBB2dnbu\n",
       "7u5ERETMzMzc3NwyMjK6urpmZmaYmJiqqqpUVFQAAAB6qHgnAAAAAXRSTlMAQObYZgAAAAlwSFlz\n",
       "AAAOxAAADsQBlSsOGwAAAxVJREFUSMetVl9IU1EY/013t+s2bdKr5diLUEEW/aEHYw8rBFFvBkEE\n",
       "4kNNI0Ih8CVoRhD00gZiSEgK/fGlcJQYWdSKCMzAkS9FQXuIIoQtITOLsu87Z9d7vG5pzAvnu+ee\n",
       "75zv953f9ztnA9bp0ddhxtqfTf92XwI8fiDN/fdFg5WHAF/nn8yX9vz+QWpVwDj3+4tGO8qmtA3I\n",
       "duVNZpFMmYFzzGhb0WiP2MSIq5FEPrc320N7TzAgnKmi0WrZTNG+pvzmkMuw3PXNvOXd8CVpi8WX\n",
       "Lc42S623xxxzW4zp/mre0ACwMxjcVTSaN8R2D9BaYw0+t9z4QJtCE3AfOCGGDFsA9eMNG20FyBJr\n",
       "ZRzM/b1y84D4vBvkZ/tSCe8gyulMAJehi1Og7RWO7l/hMSErlxLVN8T2sCI3d+doQ7uVUQkT5fgB\n",
       "TCeVZW9NPSQQY4xpLqZTxHL+loEDcNTa0VqFbVbF9AzYCE8o91XKIVy0zjmvzNF6RWQ4Tj3MchGj\n",
       "VGC/FMnwDvGqSMD31Y4mDqXnjCROXgUzJD+gT0XbQPn7ZtULpF6+D5EvQO/r1OJPZQ2uyXUptCTt\n",
       "aAGRYVla5iNUVwdtG9CoMhmldRU/rboF+5eIRAnz9Zpao0jQgQfCE6ua/Awbmi707ffGcTASiZzk\n",
       "Auuzrx5TGd+ZZ4u3XU1pROPWslu5t4cPGfP1gtoFkfIwlUHWQ5tR0Dh8wMOke7pkPak246K8rQkr\n",
       "oJNj9NKkfYYtRwbgaKQgjDIzQmqj4ayRq0dsaPne0uUcyxtumsuF+WhweXUirduUKHH9aTGTuaII\n",
       "yZWT8JHFPpR3LpCgtpguB4F0yXpgxHYC0uJW8EOfF1uNHJfl9cxbTKJmDb9nesDs3SbZpLQQ9Dlo\n",
       "W211S7BKmHx5RpwsopiBFmKy0pwzuZYLxzyL3v3Qnlx112HiW3gsZVcJOoB7aRxbEBSf5VM5GG44\n",
       "LR052npWR7tov1yVvop2Q52k3HBa28pe4afD9n2zAJq3QObK+PlVwRz2IMkCaDiQP8DLdftbs0xS\n",
       "Wv45xn/G/Atcw7lWRwjGJgAAAABJRU5ErkJggg==\n",
       "\" style=\"display:inline;vertical-align:middle;\" /></a><br>"
      ],
      "text/plain": [
       "negated_reflex: forall_{A, B | [not](A => B)} (B => A)"
      ]
     },
     "execution_count": 17,
     "metadata": {},
     "output_type": "execute_result"
    }
   ],
   "source": [
    "negated_reflex = Forall((A,B), Implies(B,A), condition=Not(Implies(A,B)))"
   ]
  },
  {
   "cell_type": "code",
   "execution_count": 18,
   "metadata": {},
   "outputs": [
    {
     "data": {
      "text/html": [
       "<strong id=\"iff_intro\"><a class=\"ProveItLink\" href=\"proofs/iff_intro/thm_proof.ipynb\">iff_intro</a> (established theorem):<br></strong> <a class=\"ProveItLink\" href=\"../__pv_it/theorems/b5c71b950f3fd03684866bedf9ff06bb58598f010/theorem_expr.ipynb\"><img src=\"data:image/png;base64,iVBORw0KGgoAAAANSUhEUgAAAPEAAAAXBAMAAAAo+LSlAAAAMFBMVEX///+IiIgiIiIQEBB2dnbu\n",
       "7u5ERETMzMzc3NwyMjK6urpmZmaYmJiqqqpUVFQAAAB6qHgnAAAAAXRSTlMAQObYZgAAAAlwSFlz\n",
       "AAAOxAAADsQBlSsOGwAAAypJREFUSMe1VV1IVEEU/lb3und/uxFED4GyPfRQgf2QESn7sEVg6U1B\n",
       "iCCUai0ivBT4EqTUky+tEEZE5EaEL0UXEiOL2nwIwsB96CUIEhFKBNcgUbO0M3Purvfurj/EeuDO\n",
       "zJ35mO/M+c6cATbAOouA+C9zpWTXtQrkEX2jYvC1qMyfuesttPZhaWrqrgFXEhgU//eKSax0yy64\n",
       "VHD1IBCaBXqAG/SnNheT2Z/kLl1ITPUn4FsAhgGvDrhTxWQu5e54vWFNUAw8o9Y4QOcNEHupjgB5\n",
       "6C2qzF/4cFq5dR6hKVqtxdA00R2ijyb3hcMHisrcz8HGN4462kVzWrcC0gxljILhpiC8BC7IST1H\n",
       "rmzGrDOxMoMHsn2GjogcePaHyXb08GJHy+YJ4VGAJLgNVYqgVLGHC9EBKVBZZqdGY3l7T1t/basT\n",
       "lwfbI1sTcdZ2K5+onWNf3ongEZH5lcSguxNizv2XU6ACrkoHc709/4aALU5cHuywFPfy67S8MY1W\n",
       "bik1sjsnkOSjh/QOapxgfXs5BUwEpu3MvmsalqvNJDDixAWTDpjFfArYVCEzbZxnuzj2i/SNENIn\n",
       "vO5+L+e0h5wCKTQk7cwuL3sdktezGspuJw4/HDAr2iZQwiEJhKXtZLX+UJOmGAeFWyel+C68kmvx\n",
       "7cPfYWfW/N04FovFLlXJQvDprbGMc9N87I6RgbG1iAiIuzrN/8Oi8XJZcc0R+7zwR0hxSzrbZ+k3\n",
       "BGXSzuwzMnK6B6W6Z00nDqhN2GGoE3uKDeasKyzSaJDHXgI9Fif1i+CHpM/90bRuCRlP2Jj90boZ\n",
       "q/CN60Jd9TccOLodR+0wXAWalnoQbJuPZOu4VZ9DbYtTE1fEqCSRfdloI4OFxHP7rdKgzspox86z\n",
       "ur5ZZHEy2rFIBsZWYhR4jHOKBW5mR08pF1NKBOoMlF22aAvB+Lq5RT7FdTSYcOBwwgEjRcx11J03\n",
       "2YJVA+XdfU81Pv6KDqRszC9GcWZeRua62LQ3WkvBcuA8pgNGdnFt4rzXMWgbl+Ws6Svg8otr09rM\n",
       "Zbkv6JNVmFfCFTiQtibzttyJ5DqZk9hIU7Gx9g9LyNbxh+PcEgAAAABJRU5ErkJggg==\n",
       "\" style=\"display:inline;vertical-align:middle;\" /></a><br>"
      ],
      "text/plain": [
       "iff_intro: forall_{A, B | A => B, B => A} (A <=> B)"
      ]
     },
     "execution_count": 18,
     "metadata": {},
     "output_type": "execute_result"
    }
   ],
   "source": [
    "iff_intro = Forall((A, B), Iff(A, B), conditions=[Implies(A, B), Implies(B, A)])"
   ]
  },
  {
   "cell_type": "code",
   "execution_count": 19,
   "metadata": {},
   "outputs": [
    {
     "data": {
      "text/html": [
       "<strong id=\"not_iff_via_not_right_impl\"><a class=\"ProveItLink\" href=\"proofs/not_iff_via_not_right_impl/thm_proof.ipynb\">not_iff_via_not_right_impl</a> (established theorem):<br></strong> <a class=\"ProveItLink\" href=\"../__pv_it/theorems/2f87b81f53c9fd549dbe360575d3ecbb9b25b6fc0/theorem_expr.ipynb\"><img src=\"data:image/png;base64,iVBORw0KGgoAAAANSUhEUgAAAPcAAAAXBAMAAAAl5sTiAAAAMFBMVEX///+IiIgiIiIQEBB2dnbu\n",
       "7u5ERETMzMzc3NwyMjK6urpmZmaYmJiqqqpUVFQAAAB6qHgnAAAAAXRSTlMAQObYZgAAAAlwSFlz\n",
       "AAAOxAAADsQBlSsOGwAAA2xJREFUSMe1Vk1oE0EUfmmz2c3mpylC8eBPSA851EP8QfHQ0kP0UqpL\n",
       "PYlQctBUD5KA0ItgW/UiQhvQiojYCGovQoOWilVq9aYRDAgiKJhDUaTQtNIfW7X1zbzZdLO7ocLW\n",
       "B293v5nHfDPvfTOzAJtiSlVga73CN8e2W4GSqR5+V3iRgc8OuQOtVuCdtQn0p1ZnvneBaxK4j7O2\n",
       "mw7Jj9uAL3bkUJsAKKVhED/RL7AMJRySP7cBEz/tIgdCACM5yOMnulcDcBcckseswH15SWCsvVzU\n",
       "O9+l0UNQi6zofky912nJM1bQ5/pDmNUWuvTeEvq1XvAyVvQ9kcg+h+S+VivIBX4T7uY60ETvfoDO\n",
       "KOalSP4E4BRv10wjGsFH9pAsrCF6sTWUjYBakOc5lPdG0BoHqVNerN9xm6k+Q94PCq+IdIAm+is+\n",
       "lmYfHuMOybLnsfR6i5wabevSJ1iDmnnEOJoEYFNXVnlfA62pm2TlQhW+x9kFYuQezc2HdlON/GFw\n",
       "xczknfx51KjLVwBbQKUU12ZFY38ZNDybWOQTFlKTWvjLg0O7UYnyLHkgRHob3s1fwRz4Z83k/DBQ\n",
       "z1GW6USaRtXyvWpLLmHoD37OTVHPFZpmHc7FP4djxcgh85Lqd4cGKkDHpJk8zFPmpVUE+ancDNIu\n",
       "gPZy2svkHLB6NFImI9yiFNCDQwdXcMVhcmjn03fBUzoFtuW/gYmcjumQLwOHk8nkGSYOZe7tBErg\n",
       "E4UK4cFVHTxEH6K2PFehuEZ24ruHiS1BDpf4goaxhFRLadpAztjCKgtT0y5xlrjHuTQ6cwAPqKFo\n",
       "yBIDCotMEWEwq9eNbXEc56BG+5HvySAX8Wi8pIlaDmQrV14MsMF98SMLIhFTGpOGsiI2MchhAzkC\n",
       "KbWswYe16yS1zPr5/XVtZuYGK0tNllycQ8iZplrCiGmrFeUE39PKEk9E8iRJQ13S0w5R4+aP2lze\n",
       "pjMELgonwyLVFaRWUBZAajLVPMcEp6JUaDO6mR4HNOjAtNcb6qpb/h9vovJt5GsB6cUtuRlez8fH\n",
       "CmbBwWmAx0U4scwTdZ5peCjedpY6eKzxt8Sz8T8KK4PlKg0YxzB83zMGGVIoJSrfVmBvbH6WOd6v\n",
       "Qu6rsphye5+xtW9D8q3CK2yyCjkcsh/kDfwnq/gHlexjNGcUfwH7CdiVojGbhQAAAABJRU5ErkJg\n",
       "gg==\n",
       "\" style=\"display:inline;vertical-align:middle;\" /></a><br>"
      ],
      "text/plain": [
       "not_iff_via_not_right_impl: forall_{A, B | [not](A => B)} [not](A <=> B)"
      ]
     },
     "execution_count": 19,
     "metadata": {},
     "output_type": "execute_result"
    }
   ],
   "source": [
    "not_iff_via_not_right_impl = Forall((A, B), Not(Iff(A, B)), condition=Not(Implies(A, B)))"
   ]
  },
  {
   "cell_type": "code",
   "execution_count": 20,
   "metadata": {},
   "outputs": [
    {
     "data": {
      "text/html": [
       "<strong id=\"not_iff_via_not_left_impl\"><a class=\"ProveItLink\" href=\"proofs/not_iff_via_not_left_impl/thm_proof.ipynb\">not_iff_via_not_left_impl</a> (established theorem):<br></strong> <a class=\"ProveItLink\" href=\"../__pv_it/theorems/ed73e1a58285c7e35835db5e2f56c81943774e9f0/theorem_expr.ipynb\"><img src=\"data:image/png;base64,iVBORw0KGgoAAAANSUhEUgAAAPcAAAAXBAMAAAAl5sTiAAAAMFBMVEX///+IiIgiIiIQEBB2dnbu\n",
       "7u5ERETMzMzc3NwyMjK6urpmZmaYmJiqqqpUVFQAAAB6qHgnAAAAAXRSTlMAQObYZgAAAAlwSFlz\n",
       "AAAOxAAADsQBlSsOGwAAA0ZJREFUSMe1Vk1oE0EUfrHZ7OZn0y1C8eBPSA859BJ/UDy09JB60eqi\n",
       "JxFKLrbeGhB6tK16EaEN1IqIaAS1F8GgUrFKrd40BwOCCAruQfxBaKv0x/rT+mbe7Ha6u6HC1gcv\n",
       "M9+82fnevPdmJgDrIlpN4Cv9QtdHtniBVqw9/bpQi4F3Abn1Ni+IzvhMTPQsTX3phtAkcB1nY5cC\n",
       "kh/1Ae/9yKEuDzBdgBHsop5iEcoHJH/sAyZ++M0cMgDulKGCXdSoCRCuBiTPekH47ILAmHvVso0v\n",
       "C6gG1CEragJDHw2a8qIXDIT+EGa5hW7bOo063A9Rxoq6I53eFZA83uYFZf034V5eB6aw7gbozGBc\n",
       "LNIHAMf5uOlaUQZvfCgVAIN6bA+OEIhV1VkO1Z1plKYRMqrzDVuvsKovkg6CxjOi7CFHf+XGCqwT\n",
       "kU9ISTLYcqRgO7gBa+Yu42gWgLmuLXFbI+2pl8oqhFX4Cr3Ts6QRM1ziFUI5SqQglHWTd8oGWw5V\n",
       "IUYhriuJoUEHND6amOceilJTWnkTwRXCWInqDKluUL2NbudNsgyJGTf5uGzQKcixkwY/q77kCtq+\n",
       "83vuA1nOkZv16EviG36cJYXiUz5uXKWFqnB40k2ekg3wmSIYxYU6nLA75BywfDRRJNNcMjShD1dI\n",
       "/sQNpEihg7sfgod0C2yufAIXOb+muSHchTLMU2/EcfQtTRWFB+dtcBv1Go1VeBWKZ2Qbtn2s2PKk\n",
       "cIanZRQ2cvMzUL5K5PuQLBXLywaA/RjZWIFVwC26UCwpSgxoLKI9RJgsibwxGcYP95p0HvmZTPKN\n",
       "3M9N87pEgqHS6p1buiUbMLrt+Gnu4Jw4xKCmJHIESs+iCa+XL1CpFVfu74/LU1MXWVo2lEjFPYRL\n",
       "cyda8O51HTVLzdsGHvYu5rIB2oIddsjIpyDj83i77hA4LZQEk1RfVdpAmwOl2ZXzMiu4FQMcYLWO\n",
       "lYNns0HKqy2Vf3yJnNco3grKk8tqCzyfzY1V3QUHJ0AyqGX8uWfBscUSM/C58t+SyNr/UVgaPE+p\n",
       "Lq8h9W+4rlWnm1/deoG/MP88Pt6sQR6vsRlnfEAeHViTfJPQVTJZgxza/Rd5Af9JtBqhlsUMRvEX\n",
       "ufTbktzOsaMAAAAASUVORK5CYII=\n",
       "\" style=\"display:inline;vertical-align:middle;\" /></a><br>"
      ],
      "text/plain": [
       "not_iff_via_not_left_impl: forall_{A, B | [not](B => A)} [not](A <=> B)"
      ]
     },
     "execution_count": 20,
     "metadata": {},
     "output_type": "execute_result"
    }
   ],
   "source": [
    "not_iff_via_not_left_impl = Forall((A, B), Not(Iff(A, B)), condition=Not(Implies(B, A)))"
   ]
  },
  {
   "cell_type": "code",
   "execution_count": 21,
   "metadata": {},
   "outputs": [
    {
     "data": {
      "text/html": [
       "<strong id=\"true_iff_true\"><a class=\"ProveItLink\" href=\"proofs/true_iff_true/thm_proof.ipynb\">true_iff_true</a> (established theorem):<br></strong> <a class=\"ProveItLink\" href=\"../__pv_it/theorems/4e9617a378eb4ffae6cd2074bd2a5264e4e9d8690/theorem_expr.ipynb\"><img src=\"data:image/png;base64,iVBORw0KGgoAAAANSUhEUgAAAD8AAAAPBAMAAAChCwpBAAAAMFBMVEX///92dnbc3NwQEBDu7u5E\n",
       "RETMzMwyMjKYmJi6urqIiIiqqqpUVFQiIiJmZmYAAACZRlYpAAAAAXRSTlMAQObYZgAAAAlwSFlz\n",
       "AAAOxAAADsQBlSsOGwAAAH1JREFUGNNjeHsXBO4woAM+sPjdAyD2LgbsgHsBlEGCAnYgzsGnYAUQ\n",
       "sybgVsAWACRYSnArSLYFOdzcAZcCrhCIOdE4FLDYQPnOB3CYoCMAppgKcbqhFxJ6CTgVcDwAkUV4\n",
       "wuEkKBImYCiYAVfgDsSqcB5nA0boM4E8gyoEACH5MMx4ip5xAAAAAElFTkSuQmCC\n",
       "\" style=\"display:inline;vertical-align:middle;\" /></a><br>"
      ],
      "text/plain": [
       "true_iff_true: TRUE <=> TRUE"
      ]
     },
     "execution_count": 21,
     "metadata": {},
     "output_type": "execute_result"
    }
   ],
   "source": [
    "true_iff_true = Iff(TRUE, TRUE)"
   ]
  },
  {
   "cell_type": "code",
   "execution_count": 22,
   "metadata": {},
   "outputs": [
    {
     "data": {
      "text/html": [
       "<strong id=\"iff_t_t\"><a class=\"ProveItLink\" href=\"proofs/iff_t_t/thm_proof.ipynb\">iff_t_t</a> (established theorem):<br></strong> <a class=\"ProveItLink\" href=\"../__pv_it/theorems/76410c3fa47f9d4aafc69c158b89eaeddaa3e4450/theorem_expr.ipynb\"><img src=\"data:image/png;base64,iVBORw0KGgoAAAANSUhEUgAAAHoAAAAVBAMAAAB71edYAAAAMFBMVEX////MzMxUVFRERES6uroi\n",
       "IiIQEBCYmJhmZmYyMjLu7u52dnaqqqqIiIjc3NwAAACW8nlqAAAAAXRSTlMAQObYZgAAAAlwSFlz\n",
       "AAAOxAAADsQBlSsOGwAAAQpJREFUOMtjYGB4wEAI4FHBe4Cgbl/cUqcZGFpDQSAIQwomzluAS4Zr\n",
       "Aph7FofZEPFZuGQ4CojQXYFLho0BTTfQLYwKaLrZFuDQfRJNN9iPhmi6OQtw6O5G0y0MIlYuQNXN\n",
       "rYBD93RU3YxpoMAMm4Wqm30CckAjycSg6r4MsVX4AIpungQcdqeg6F4GdSJXEopuxg9E6ebThtAv\n",
       "N6DoZsFlN5rL2cF+Cw1E9TdPAA5/26KFOThhcD5ACzUDHHZvQtPN5AAkWtDim2MDDt2iELY7TBCU\n",
       "7vkQVkHEWR0wdYNlWAWwZGb0hPkUVwZlb2AgDNpxytgR1sxngFNqMWHdzLiLJr4LBHXfwyUBAGCv\n",
       "UWIKJdN9AAAAAElFTkSuQmCC\n",
       "\" style=\"display:inline;vertical-align:middle;\" /></a><br>"
      ],
      "text/plain": [
       "iff_t_t: (TRUE <=> TRUE) = TRUE"
      ]
     },
     "execution_count": 22,
     "metadata": {},
     "output_type": "execute_result"
    }
   ],
   "source": [
    "iff_t_t = Equals(Iff(TRUE, TRUE), TRUE)"
   ]
  },
  {
   "cell_type": "code",
   "execution_count": 23,
   "metadata": {},
   "outputs": [
    {
     "data": {
      "text/html": [
       "<strong id=\"false_iff_false\"><a class=\"ProveItLink\" href=\"proofs/false_iff_false/thm_proof.ipynb\">false_iff_false</a> (established theorem):<br></strong> <a class=\"ProveItLink\" href=\"../__pv_it/theorems/0c2bd0f2753c1fc93f96b5fd401d4aae732c309e0/theorem_expr.ipynb\"><img src=\"data:image/png;base64,iVBORw0KGgoAAAANSUhEUgAAAD8AAAAQBAMAAABTi7oPAAAAMFBMVEX///92dnbc3Nzu7u5ERETM\n",
       "zMwyMjJUVFQQEBAiIiJmZmaIiIiqqqqYmJi6uroAAAC2aNK2AAAAAXRSTlMAQObYZgAAAAlwSFlz\n",
       "AAAOxAAADsQBlSsOGwAAAINJREFUKM9jYCACvMUhzncByjiNQwHPBtIVsAFxOD4Fe4GYJQC3AlYH\n",
       "IMGcjFtBROdMIGgzwKWA2xlijg8OBcztUL5FAQ4T1AXAFFMiTjfcnAkGATgV8C4AkUl4wqEOiLke\n",
       "oCpYOXNmx8yZ0yFCZkCsAmFyzZw5A+jrAtTQZwJ5BlUIANnALF++0kj0AAAAAElFTkSuQmCC\n",
       "\" style=\"display:inline;vertical-align:middle;\" /></a><br>"
      ],
      "text/plain": [
       "false_iff_false: FALSE <=> FALSE"
      ]
     },
     "execution_count": 23,
     "metadata": {},
     "output_type": "execute_result"
    }
   ],
   "source": [
    "false_iff_false = Iff(FALSE, FALSE)"
   ]
  },
  {
   "cell_type": "code",
   "execution_count": 24,
   "metadata": {},
   "outputs": [
    {
     "data": {
      "text/html": [
       "<strong id=\"iff_f_f\"><a class=\"ProveItLink\" href=\"proofs/iff_f_f/thm_proof.ipynb\">iff_f_f</a> (established theorem):<br></strong> <a class=\"ProveItLink\" href=\"../__pv_it/theorems/e2a4f727fd38804e042edd93529d362c967b96000/theorem_expr.ipynb\"><img src=\"data:image/png;base64,iVBORw0KGgoAAAANSUhEUgAAAHoAAAAVBAMAAAB71edYAAAAMFBMVEX////MzMxUVFRERES6uroi\n",
       "IiIQEBCYmJhmZmYyMjLu7u52dnaqqqqIiIjc3NwAAACW8nlqAAAAAXRSTlMAQObYZgAAAAlwSFlz\n",
       "AAAOxAAADsQBlSsOGwAAAQxJREFUOMtjYGB4wEAI4FHBe4Cgbl/cUqfBpDsOWbA4bwG6cGsoCAQx\n",
       "cE0Ac8/i0A0Rn4VLhqOACN0VuGTYGNB0A93CqICmm20BDt0n0XSD/WiIppuzAIfubjTdwiBi5QJU\n",
       "3dwKOHRPR9XNmAYKzLBZqLrZJyAHNJJMDKruyxBbhQ+g6OZJwGF3CoruZVAnciWh6Gb8QJRuPm0I\n",
       "/XIDim4WXHajuZwd7LfQQFR/8wTg8LctWpiDEwbnA7RQM8Bh9yY03UwOQKIFLb45NuDQLQpxUhrM\n",
       "SaB0z2cAzwsQcVYHHPmHVQBLZkZPmE9xZVD2BgbCoB2njB1hzXwGOKUWE9bNjLto4rtAUPc9XBIA\n",
       "j7FRhHwXxLkAAAAASUVORK5CYII=\n",
       "\" style=\"display:inline;vertical-align:middle;\" /></a><br>"
      ],
      "text/plain": [
       "iff_f_f: (FALSE <=> FALSE) = TRUE"
      ]
     },
     "execution_count": 24,
     "metadata": {},
     "output_type": "execute_result"
    }
   ],
   "source": [
    "iff_f_f = Equals(Iff(FALSE, FALSE), TRUE)"
   ]
  },
  {
   "cell_type": "code",
   "execution_count": 25,
   "metadata": {},
   "outputs": [
    {
     "data": {
      "text/html": [
       "<strong id=\"iff_t_f\"><a class=\"ProveItLink\" href=\"proofs/iff_t_f/thm_proof.ipynb\">iff_t_f</a> (established theorem):<br></strong> <a class=\"ProveItLink\" href=\"../__pv_it/theorems/78186bd6e682dcc32d0d3e5916220d0352220f100/theorem_expr.ipynb\"><img src=\"data:image/png;base64,iVBORw0KGgoAAAANSUhEUgAAAHoAAAAVBAMAAAB71edYAAAAMFBMVEX////MzMxUVFRERES6uroi\n",
       "IiIQEBCYmJhmZmYyMjLu7u52dnaqqqqIiIjc3NwAAACW8nlqAAAAAXRSTlMAQObYZgAAAAlwSFlz\n",
       "AAAOxAAADsQBlSsOGwAAAQ1JREFUOMtjYGB4wEAI4FHBe4Cgbl/cUqcZGFpDQSAIm6w72IICXDJc\n",
       "E8DsszjMhojPwiXDUUCE7gpcMmwMaLqBbmFUQNPNtgCH7pNousF+NETTzVmAQ3c3mm5hELFyAapu\n",
       "bgUcuqej6mZMAwV/2CxU3ezgoEWNGrBMDKruyxBbhQ+g6OZJwGF3CoruZVAnciWh6Gb8QJRuPm0I\n",
       "/XIDim4WXHajuZwd7LfQQFR/8wTg8LctWpiDEwbnA7RQM8Bh9yY03UwOQKIFLb45NuDQLYqU5mHp\n",
       "ng9qFdCpaWCnsjqgaYXJsApgyczoCfMprgzK3sBAGLTjlLEjrJnPAKfUYsK6mXEXTXwXCOq+h0sC\n",
       "AIxfUYRJtvjiAAAAAElFTkSuQmCC\n",
       "\" style=\"display:inline;vertical-align:middle;\" /></a><br>"
      ],
      "text/plain": [
       "iff_t_f: (TRUE <=> FALSE) = FALSE"
      ]
     },
     "execution_count": 25,
     "metadata": {},
     "output_type": "execute_result"
    }
   ],
   "source": [
    "iff_t_f = Equals(Iff(TRUE, FALSE), FALSE)"
   ]
  },
  {
   "cell_type": "code",
   "execution_count": 26,
   "metadata": {},
   "outputs": [
    {
     "data": {
      "text/html": [
       "<strong id=\"true_iff_false_negated\"><a class=\"ProveItLink\" href=\"proofs/true_iff_false_negated/thm_proof.ipynb\">true_iff_false_negated</a> (established theorem):<br></strong> <a class=\"ProveItLink\" href=\"../__pv_it/theorems/d7bb1ca13465128e5b6a550f578772ae645398360/theorem_expr.ipynb\"><img src=\"data:image/png;base64,iVBORw0KGgoAAAANSUhEUgAAAF4AAAAVBAMAAAA9Y0TyAAAAMFBMVEX////MzMxERES6uroQEBCY\n",
       "mJgyMjLu7u52dnaqqqqIiIhUVFTc3NwiIiJmZmYAAAAM3gM0AAAAAXRSTlMAQObYZgAAAAlwSFlz\n",
       "AAAOxAAADsQBlSsOGwAAAQpJREFUKM9jYECAAwwEAA8Kj2sCIfXMC5B5Mxj47oLBBmxKA0DkUiQR\n",
       "9gQQybkAu9EQcbYChAhfAGH1rA8QIiwMaOqB9jFuQFXP4I5QPw1NPRfIPkU09akI9S/Q1AuBiLIC\n",
       "VPXdCPWpqOoZXUBBdSUdVX0Yw1uQ8D0g8yaq+kUQk4UmoKifAuGdBmJnFPUlUJ+ye6Ool8elnmcH\n",
       "hD7WgKLeBKEezT2skLi+iOr+uRDeOSDWQgufOHCEHkBVH4QIn2409dwGQOIxWvi/QKiXRUpXsPTE\n",
       "owBJKsCA9QWnw8sI9bwCaEkG5JQCtAxwAcFGTku4AF8AEkeHsPpDyJwiwupRjORZQEg51wEGAD4y\n",
       "T5Tpq27yAAAAAElFTkSuQmCC\n",
       "\" style=\"display:inline;vertical-align:middle;\" /></a><br>"
      ],
      "text/plain": [
       "true_iff_false_negated: [not](TRUE <=> FALSE)"
      ]
     },
     "execution_count": 26,
     "metadata": {},
     "output_type": "execute_result"
    }
   ],
   "source": [
    "true_iff_false_negated = Not(Iff(TRUE, FALSE))"
   ]
  },
  {
   "cell_type": "code",
   "execution_count": 27,
   "metadata": {},
   "outputs": [
    {
     "data": {
      "text/html": [
       "<strong id=\"iff_f_t\"><a class=\"ProveItLink\" href=\"proofs/iff_f_t/thm_proof.ipynb\">iff_f_t</a> (established theorem):<br></strong> <a class=\"ProveItLink\" href=\"../__pv_it/theorems/c119295352bff096eb3dabf47e2fcdd1af77e25f0/theorem_expr.ipynb\"><img src=\"data:image/png;base64,iVBORw0KGgoAAAANSUhEUgAAAHoAAAAVBAMAAAB71edYAAAAMFBMVEX////MzMxUVFRERES6uroi\n",
       "IiIQEBCYmJhmZmYyMjLu7u52dnaqqqqIiIjc3NwAAACW8nlqAAAAAXRSTlMAQObYZgAAAAlwSFlz\n",
       "AAAOxAAADsQBlSsOGwAAAQ5JREFUOMtjYGB4wEAI4FHBe4Cgbl/cUqfBpDs2qdZQEAhi4C3AIgnW\n",
       "wTUBzD6Lw2yI+CxcMhwFROiuwCXDxoCmG+gWRgU03WwLcOg+iaYb7EdDNN2cBTh0d6PpFgYRKxeg\n",
       "6uZWwKF7OqpuxjRQMIfNQtXNPgE5CpBkYlB1X4bYKnwARTdPAg67U1B0L4M6kSsJRTfjB6J082lD\n",
       "6JcbUHSz4LIbzeXsYL+FBqL6mycAh79t0cIcnDA4H6CFmgEOuzeh6WZyABItaPHNsQGHblGIk9Jg\n",
       "TgKlez4D1LzAwOqAmX/AOlgFsGRm9IT5FFcGZW9gIAzaccrYEdbMZ4BTajFh3cy4iya+CwR138Ml\n",
       "AQCN91GEiu87IQAAAABJRU5ErkJggg==\n",
       "\" style=\"display:inline;vertical-align:middle;\" /></a><br>"
      ],
      "text/plain": [
       "iff_f_t: (FALSE <=> TRUE) = FALSE"
      ]
     },
     "execution_count": 27,
     "metadata": {},
     "output_type": "execute_result"
    }
   ],
   "source": [
    "iff_f_t = Equals(Iff(FALSE, TRUE), FALSE)"
   ]
  },
  {
   "cell_type": "code",
   "execution_count": 28,
   "metadata": {},
   "outputs": [
    {
     "data": {
      "text/html": [
       "<strong id=\"false_iff_true_negated\"><a class=\"ProveItLink\" href=\"proofs/false_iff_true_negated/thm_proof.ipynb\">false_iff_true_negated</a> (established theorem):<br></strong> <a class=\"ProveItLink\" href=\"../__pv_it/theorems/bdf4062bdc7144aa144127580b6db21dc99dd8250/theorem_expr.ipynb\"><img src=\"data:image/png;base64,iVBORw0KGgoAAAANSUhEUgAAAF4AAAAVBAMAAAA9Y0TyAAAAMFBMVEX////MzMxERES6uroQEBCY\n",
       "mJgyMjLu7u52dnaqqqqIiIhUVFTc3NwiIiJmZmYAAAAM3gM0AAAAAXRSTlMAQObYZgAAAAlwSFlz\n",
       "AAAOxAAADsQBlSsOGwAAAQtJREFUKM9jYECAAwwEAA8Kj2sCIfXMC5B5M8BCAVjU8d0Fgw0MS5EE\n",
       "2RNAJOcC7EZDxNkKkAwJIKye9QFChIUBTT3QPsYNqOoZ3BHqp6Gp5wLZp4imPhWh/gWaeiEQUVaA\n",
       "qr4boT4VVT2jCyhIrqSjqg9jeAsSvgdk3kRVvwhistAEFPVTILzTQOyMor4E6lN2bxT18rjU8+yA\n",
       "0McaUNSbINSjuYcVEqcXUd0/F8I7B8RaaOETB47QA6jqgxDh042mntsASDxGC/8XCPWy4HR1xReU\n",
       "rmDpiUcBnjQh6fAyQj2vAFqSATmlAC0DXECwkdMSLsCHnNp1CKs/hMwpIqwexUieBYSUcx1gAAAv\n",
       "2k+UVBkTDQAAAABJRU5ErkJggg==\n",
       "\" style=\"display:inline;vertical-align:middle;\" /></a><br>"
      ],
      "text/plain": [
       "false_iff_true_negated: [not](FALSE <=> TRUE)"
      ]
     },
     "execution_count": 28,
     "metadata": {},
     "output_type": "execute_result"
    }
   ],
   "source": [
    "false_iff_true_negated = Not(Iff(FALSE, TRUE))"
   ]
  },
  {
   "cell_type": "code",
   "execution_count": 29,
   "metadata": {},
   "outputs": [
    {
     "data": {
      "text/html": [
       "<strong id=\"iff_implies_right\"><a class=\"ProveItLink\" href=\"proofs/iff_implies_right/thm_proof.ipynb\">iff_implies_right</a> (established theorem):<br></strong> <a class=\"ProveItLink\" href=\"../__pv_it/theorems/ccfec81b8b54fa88ae4b688683e94e7d6d338a640/theorem_expr.ipynb\"><img src=\"data:image/png;base64,iVBORw0KGgoAAAANSUhEUgAAAMEAAAAXBAMAAABACzadAAAAMFBMVEX///+IiIgiIiIQEBB2dnbu\n",
       "7u5ERETMzMzc3NwyMjK6urpmZmaYmJiqqqpUVFQAAAB6qHgnAAAAAXRSTlMAQObYZgAAAAlwSFlz\n",
       "AAAOxAAADsQBlSsOGwAAAtlJREFUSMetVU1oE0EUfttmdjebTboiiIeqIR6K6KGKKAqVHHIr6hJP\n",
       "IpReTPEgWRA82la9eLGFtCKiNh6kF7GBlvpTibE3qeCC0JNgTxUpJK30x7ba+mZmdzNNE1K3DszO\n",
       "25l573vvfW/fAuxiqHVv9MDuxgGO01/7xjOcM1T46gsgHGdLcL7KmZ7eKP7oAqkA8Ja+P/SFcJkv\n",
       "36ohQGMnQMmCQYBbNM5OXwjv+JL/Ve2wzwAYycEUxmgCBGxfCK3sGbi7Ut666kmfLZwGNJqgY6aC\n",
       "/mjgDPdKf8p7Nz2phDPTA0E0fyIWO+kLIcSJzoV/CwTHXekUQEcLRoiV9MqNzaww4AqkBgJ1D0Cz\n",
       "lUV2PcbGunOoLO85+JhCYqD3QWUVS07zONcT4xYVZNfSJatsVUmPtXc5coPNHVE3xNQ94auE9H9B\n",
       "F8JIlmwGsowxnk49ClLrFoSLYh1MAux165Gp7ZvIL28p4bNskdFGAEtAwVIOG5zo4eNsieRAnxcR\n",
       "tBtYdyQHKkvxHFaIiEDw8KfYSAZ4o2jCvOgLqE297f/A9oynXM+GZEFEkIJ4OYJ6r+lbG5BjYpYo\n",
       "W4cFHo44nagbbUTW0P8ovpwfZIbgDf9Smqe+g4hghJCs0VQqlUE+1IVPeZcWGd2HFziHyiFo7rd7\n",
       "CJG6UVGnG3cY0cNOfieBzIkImoW0vGRUTJiUpY6cY4QWokqTkC530HuukEHNM6ZT0hHm1FiiZDqJ\n",
       "7ssKCKHEhSWYZUfTWcqSuubWVRRIetWE6c0BD8Gts9nNYvEBdash6x5JaNjiiYYRsVoNUFdAwSSl\n",
       "rhUYS5rXJFp28D+47UmYzyabxEFdAnJUyJKGZrGMkyg2U5ZMSLpZol1tp90Rc3EOyPtHSht8XEyM\n",
       "2wLC6AxcWc3SXwFBzvShRPt1T1uu/wfb1rXDgixXhE/MSnVSv+lvc+J5TYSqo7fujf2VG4V/Q9jl\n",
       "UP+Tnb+Ujq1ChQyVyQAAAABJRU5ErkJggg==\n",
       "\" style=\"display:inline;vertical-align:middle;\" /></a><br>"
      ],
      "text/plain": [
       "iff_implies_right: forall_{A, B | A <=> B} (A => B)"
      ]
     },
     "execution_count": 29,
     "metadata": {},
     "output_type": "execute_result"
    }
   ],
   "source": [
    "iff_implies_right = Forall((A, B), Implies(A, B), conditions=[Iff(A, B)])"
   ]
  },
  {
   "cell_type": "code",
   "execution_count": 30,
   "metadata": {},
   "outputs": [
    {
     "data": {
      "text/html": [
       "<strong id=\"iff_implies_left\"><a class=\"ProveItLink\" href=\"proofs/iff_implies_left/thm_proof.ipynb\">iff_implies_left</a> (established theorem):<br></strong> <a class=\"ProveItLink\" href=\"../__pv_it/theorems/7c884a8aafeac741955b8daa63d9c9497be3f4ba0/theorem_expr.ipynb\"><img src=\"data:image/png;base64,iVBORw0KGgoAAAANSUhEUgAAAMIAAAAXBAMAAACrPI2eAAAAMFBMVEX///+IiIgiIiIQEBB2dnbu\n",
       "7u5ERETMzMzc3NwyMjK6urpmZmaYmJiqqqpUVFQAAAB6qHgnAAAAAXRSTlMAQObYZgAAAAlwSFlz\n",
       "AAAOxAAADsQBlSsOGwAAAtpJREFUSMetVV9IU1Ec/qa7290f7UavlrIXoYIs+kMPxh72IEh6Mwgi\n",
       "EF9aRYRC0GNbCEEvbTAMCclBlC+VI4f9MWpJBGLgSAiCIJ+MEDaFzDTKfr+znd3jmLqmB865557f\n",
       "Ob/vnO/7zr3AFoq+DTM2Lrs3Dt8C3AYww/0vFQHU+AFv99/M9wul44NU64CX3O+vCOEsN9VdQLan\n",
       "5AZWqXGZuM5sdVWE8IqbCPEwnCgV9mTDdMYEg8CergihiZsp2v+UIYccphVuaeejHYE3RUepTIYo\n",
       "t1mqsbAcc1ps6EY9b3wAOOTzHa4IwePn9ijQ2WgNvrPC+EqbRxvwDDgvhsyiBLKjrYPg4gTOnzv3\n",
       "DIjXpz4uBwqSPEaItzAB3IYuHKsdE4FrvwOjwhoOOfW04hRnd7JVerOKSbD9AqZTCu5nqWkCEc47\n",
       "zeLY4zxi/yMC3gbYmtYgtKs+GAd25bvVvMxBc+1LygQtJrLBdnksy6KESDAjJ/TQQfGoTcA7ryK4\n",
       "r5JTtAR0QfscOUdF2EH79C6oF7kl9zxFsQZ63qcafSuGjHu5dWl0pFQEm4uS1JJbnvNbM7T9Kksh\n",
       "mlu7Yung6y+QhCrm4iPVk30iEV6ISKRu8htUBMNDrhwJBoMx0kNf+PBayuLgW1BP0KGodYSH8uR8\n",
       "CZiL91R7hdBDeX7Hoc2pCO4ekuWJkGLMZJU6pVvsvC5GM45bLtQlWC9nIBcgycyLTSUDWTNPdCSu\n",
       "IHgCbYuYFaFPcVZJX5G+IppnVzOZO4oTHPkDnlntQ033Mkm3V4ZslLgnRzSGVbca0JfgJJKCl1JC\n",
       "JXfBOY1l/A/0Btl7RNKnNT/0RWj7FJaYT7JxR+5DjIiJjsKdmizn4su74jkB7c1dZzMmfgRG0wrC\n",
       "yAzOLcf5V6CRu72DgdYrFiXhzRFuFn/MlL5jTSQMzSxerZXx0b9Y9P5gXYSS5camM2zFx0z9H8IW\n",
       "i75Nef4Bw+Stb4Wz/Q0AAAAASUVORK5CYII=\n",
       "\" style=\"display:inline;vertical-align:middle;\" /></a><br>"
      ],
      "text/plain": [
       "iff_implies_left: forall_{A, B | A <=> B} (B => A)"
      ]
     },
     "execution_count": 30,
     "metadata": {},
     "output_type": "execute_result"
    }
   ],
   "source": [
    "iff_implies_left = Forall((A, B), Implies(B, A), conditions=[Iff(A, B)])"
   ]
  },
  {
   "cell_type": "code",
   "execution_count": 31,
   "metadata": {},
   "outputs": [
    {
     "data": {
      "text/html": [
       "<strong id=\"right_from_iff\"><a class=\"ProveItLink\" href=\"proofs/right_from_iff/thm_proof.ipynb\">right_from_iff</a> (established theorem):<br></strong> <a class=\"ProveItLink\" href=\"../__pv_it/theorems/b3034e8b14e9230efdb7b47fccf97ed4c8b9fafe0/theorem_expr.ipynb\"><img src=\"data:image/png;base64,iVBORw0KGgoAAAANSUhEUgAAAJEAAAAVBAMAAAC01xHeAAAAMFBMVEX///+IiIgiIiIQEBB2dnbu\n",
       "7u5ERETMzMzc3NwyMjK6urpmZmaYmJiqqqpUVFQAAAB6qHgnAAAAAXRSTlMAQObYZgAAAAlwSFlz\n",
       "AAAOxAAADsQBlSsOGwAAAfNJREFUOMullD9IG1Ecx7+hOb3cXdITV9GQpUMXFTE4KA5Z1aPVLoGS\n",
       "pSm69EBwVMHONSCKSChZioug4J9iF6Nb6dCDduyQSVtKEwVt1OKf37275H6pBgz3g+P97vc+7xPu\n",
       "vd8LCqD4AR+hvbku/noNfLJflv2Y8CgFlExMUyqnfJnmdWB9AyEDCFq+TF9NenRoeSDkS4QSPQuz\n",
       "QHcs1uPP1Au8fELjR+CVKBi182olkSqJcb+o+W9Le9ZO3kEWnSDFRX3qX2LHtJOmCvncdI1xtryK\n",
       "AYFz4FveXmEEc3YheOV0RxSBzhrTiHseLoBajEAag2VKwrqz4atdYohsQDvmJmVShwckgbc1GPCY\n",
       "Pkk7sbPMvijo7502s/Asz02BUAEe8JM2cJZjwAyNkUs7G1oUC7DrtFnblyNwk65mUAXU3nR6PM4x\n",
       "oIPMM4KZE7+5ilZRP4D0m5sU090PG1D+iFPdZhi1EkF94lwj4gy2EiXxRvPzOWZSE8NnqAAR0S/h\n",
       "CYbh8KZYXGKXJEAzwthPd4h3gQ657AFTaYosx+7EGp2BJQ1CPoP0lH2dQtt5hVEXgBQlJ5U87P9Q\n",
       "ByDtrTT34/NpYsdips0Ckhe5ScsBgO/ACyp7WJ0Is7yJT1RXycDYQ+7ihzomxWj0VufrmDRf/xVy\n",
       "g/wt7huF726caxcAAAAASUVORK5CYII=\n",
       "\" style=\"display:inline;vertical-align:middle;\" /></a><br>"
      ],
      "text/plain": [
       "right_from_iff: forall_{A, B | A, A <=> B} B"
      ]
     },
     "execution_count": 31,
     "metadata": {},
     "output_type": "execute_result"
    }
   ],
   "source": [
    "right_from_iff = Forall((A, B), B, conditions=[A, Iff(A, B)])"
   ]
  },
  {
   "cell_type": "code",
   "execution_count": 32,
   "metadata": {},
   "outputs": [
    {
     "data": {
      "text/html": [
       "<strong id=\"left_from_iff\"><a class=\"ProveItLink\" href=\"proofs/left_from_iff/thm_proof.ipynb\">left_from_iff</a> (established theorem):<br></strong> <a class=\"ProveItLink\" href=\"../__pv_it/theorems/e0e7d6870604db27e7f6f9bf628cd436405bc1640/theorem_expr.ipynb\"><img src=\"data:image/png;base64,iVBORw0KGgoAAAANSUhEUgAAAJEAAAAWBAMAAAAyQ2NwAAAAMFBMVEX///+IiIgiIiIQEBB2dnbu\n",
       "7u5ERETMzMzc3NwyMjK6urpmZmaYmJiqqqpUVFQAAAB6qHgnAAAAAXRSTlMAQObYZgAAAAlwSFlz\n",
       "AAAOxAAADsQBlSsOGwAAAgpJREFUOMutlE9IFFEcx79b+3bH3Vkd6CokXvOgEXQy9jAHQcxplS5B\n",
       "dGlDQhwQOpbQqUsrhCAedC/ipXRAMf+Abd2ioDl1EvJUBw+boKiJ6O/3m1l7Y+Uq0w/evu97b96H\n",
       "9/u+3z7gv8QLahss1uOSpqitsBiPCcod0c9TasaDmKRsdQRocICkH5PU1esCZoVoMUGGdZXPcr21\n",
       "9Ubc5PCNzoO3wEMZO6eXw1B1SW/wLE/dSxhSCeqmzD45sBddFqnad33u7z3poYXuRxHB4aHEiJST\n",
       "LPMweSizZgsS7RFSr34fH4ArUQEkHq9W+fZzVmD4TId0jR7MnzopM2zRgT0YnAA2gS+ICOAO0NTC\n",
       "YvS9jK1J6S77KFR0UqKBTt5I9bLEo06oNkQEJ4dLkkbPmGzAskyXmj/9gE6ysqPAfLFYfEV+GVuf\n",
       "18S2E0GH5jqSNJ6L4TMn+atNnZRxybZZsWrVYRfve6GdgaD9/PGeOCPsBbvqhPmXyhopa9/ewXdZ\n",
       "+lpmF41foZ2BwN2jMeSG9vO1O0kQwA3yx5xeBRaMXaQpueJARVzM7IZ2BuKPeE3++yoPYwfqmpYd\n",
       "m0DlUSDZzC46KHjor4m/1fstqHcT6U583LYXfY00v4F7+2Xk8lBUMuaU3T0IDPuhOOOd0XQqsjIC\n",
       "pf2b6r8d0/8kRSLj1CVVzkcyL/joXPBpOQZOyINAViiB2gAAAABJRU5ErkJggg==\n",
       "\" style=\"display:inline;vertical-align:middle;\" /></a><br>"
      ],
      "text/plain": [
       "left_from_iff: forall_{A, B | A <=> B, B} A"
      ]
     },
     "execution_count": 32,
     "metadata": {},
     "output_type": "execute_result"
    }
   ],
   "source": [
    "left_from_iff = Forall((A, B), A, conditions=[Iff(A, B), B])"
   ]
  },
  {
   "cell_type": "code",
   "execution_count": 33,
   "metadata": {},
   "outputs": [
    {
     "data": {
      "text/html": [
       "<strong id=\"iff_symmetry\"><a class=\"ProveItLink\" href=\"proofs/iff_symmetry/thm_proof.ipynb\">iff_symmetry</a> (established theorem):<br></strong> <a class=\"ProveItLink\" href=\"../__pv_it/theorems/c7d87c295837a5fa207a8ab6bba630f8898cfcf90/theorem_expr.ipynb\"><img src=\"data:image/png;base64,iVBORw0KGgoAAAANSUhEUgAAAMIAAAAXBAMAAACrPI2eAAAAMFBMVEX///+IiIgiIiIQEBB2dnbu\n",
       "7u5ERETMzMzc3NwyMjK6urpmZmaYmJiqqqpUVFQAAAB6qHgnAAAAAXRSTlMAQObYZgAAAAlwSFlz\n",
       "AAAOxAAADsQBlSsOGwAAAvBJREFUSMetVU1IVFEU/p7Om3nzo71oaymzEaqFRT+0UGYxi0DSl0EQ\n",
       "gbhpKkIcEFo6E4LQxhEmI0JyIMJN5YCD/Rg1uQjEwCGhVZArowRHIZs0ys65b+50HcafRi/cO+e+\n",
       "c+/5zv3Od+8Au2jGHqzYuh3c2n0b8JjAHNufygKoCgC+rj+LX6+W9g9TrwFesn2vLIRLPFR2ANlw\n",
       "yQTWaXBb6GG2OspCeMVDjHgYTZZye7NROmOSQeDIlIXQwMMM5T9jirmbes8/99lWPtpJ+NK2q4wy\n",
       "DPCYpR6Pig/EOZwFwgyzlhMfAo77/SfKQvAGeDwFtNeLuYu51gcLbnym5NECPAOuiE9WUQBp6Jsg\n",
       "uDmA68f+Q0P2vJty9fvPyDBPEOEUpoB+GEKx+mnhuPkrOC5O6pSRLihKcXWlmqU2K5gE7Scwy1DQ\n",
       "7DxdnXl3EjGOO0uRLEeCvzh+C4evDlrDBoRWVQeTwIG8WcnbnLTWkeMEm2RCIl9oNyayTFuECmba\n",
       "hR45Jn6qk/AtqQieblKKnoQhaF8g5agI+yieb5mn/QG7wHds73ny1dHvQ+oDb8Un84G9L4O2tIqg\n",
       "uSlINanlOc8aoR9VWYrQ2uo1+3h+0cKSJFQwFx+onxPl1/BCeGI101+gIpheUuVYKBSK015j+f1r\n",
       "WRYn34Jago4M2PwmlefBw5eAuXhHvVcQN5LndxL6gorgCVNZnopSTFhcpXZ5gR28L04rpHy+sQIT\n",
       "tt3LEUgFSDHzIqlUMGvliY4lFARvsGUF88L1McFVMtakrojm+fXFxbsZ5Z3qs82L64Oo6lql0hyW\n",
       "GtEocNgmGqOqWk0YObiIpND1tKiSJyf31Jf4Myi+PEadtB5T6TN6AMYK9CMKS8wnybgt/yjELLQV\n",
       "nrnpnVz8tDSaoL+572rE1PfgeEZBGJvD5dUE/xXopG7fcLC5s7DbGd0eoa/4MVNs5wZPFLpVvFvf\n",
       "waN/rWj+aFOEku3Wtiu04mOm/w9hl83Yozh/AZXCr4yv/PkVAAAAAElFTkSuQmCC\n",
       "\" style=\"display:inline;vertical-align:middle;\" /></a><br>"
      ],
      "text/plain": [
       "iff_symmetry: forall_{A, B | A <=> B} (B <=> A)"
      ]
     },
     "execution_count": 33,
     "metadata": {},
     "output_type": "execute_result"
    }
   ],
   "source": [
    "iff_symmetry = Forall((A, B), Iff(B, A), conditions=[Iff(A, B)])"
   ]
  },
  {
   "cell_type": "code",
   "execution_count": 34,
   "metadata": {},
   "outputs": [
    {
     "data": {
      "text/html": [
       "<strong id=\"iff_transitivity\"><a class=\"ProveItLink\" href=\"proofs/iff_transitivity/thm_proof.ipynb\">iff_transitivity</a> (established theorem):<br></strong> <a class=\"ProveItLink\" href=\"../__pv_it/theorems/76b63d93504830e665a8c1f8691b850616b988380/theorem_expr.ipynb\"><img src=\"data:image/png;base64,iVBORw0KGgoAAAANSUhEUgAAAQMAAAAXBAMAAAD9zzfBAAAAMFBMVEX///+IiIgiIiIQEBB2dnbu\n",
       "7u5ERETMzMzc3NwyMjK6urpmZmaYmJiqqqpUVFQAAAB6qHgnAAAAAXRSTlMAQObYZgAAAAlwSFlz\n",
       "AAAOxAAADsQBlSsOGwAAA5VJREFUSMe9VktoE1EUPbGZZDpNYkQsIiqhLrpQ8a+gqBXiStSh9YME\n",
       "RBAjFbQBoRtRWnXjxhZUEBGNP9yIBq2/VtroTio4oHSjYBFRoVo/tGr933tfJnmmKdXF+GBm7n1v\n",
       "7ptzzz3vzQO8bOaobzTB4zZFAWkd+Y0zdPWy8dQbBOEaeZS/LzVoVPa/MWt8WaCd3ePeQNikHs9K\n",
       "Qhg/AeGrWRwD9jFTW7yBcEc9Or+UGNtQTbeuJnQTSzbgd7yBMFvu/oOfcz5pItibs4/Qd3EOKLMR\n",
       "omKUeyQFJcNm3w/lc92xXdl+6dtD36bOuVVV872BUKHUmAl/V36j6MMWuyXG942EhWi5CWyTXnuk\n",
       "mfIa/kcInCBgOcEBcYPzqqhNOybO2mjupRBRdRim1MdYpKB+i99IKd764usYVsCdsi5VmD7Y0LZq\n",
       "e1GAalPbVq5U1hhHZWD+FLdS5dgovbPcPSlMggnY/nShOgjF4BMZWTOBrdAhrNVVe4+W1Z8Bqp11\n",
       "EMi5ZTJvZUfnJ0kgJ0RjGd+Xu8QHacWGo0qNF+fII5JBSNbxIxp/okOwdhN5RgamlLgPeKgHJICD\n",
       "nNQCujIaBIOCPsoe+UL1HpLwWcIAsWcx3ta7MhQ9peIc1HINTSZlrw7BV055RIjAW+wthTFDD3hN\n",
       "lNNYCzEVdLRCsJKmKbqqpFWL08WF8DMM1uVqEYgPt5VUJ3e/kuRiLrUuhGgFKedaMpk8QuDNDw86\n",
       "U1pAxcJksp7U9FyrVYAld4mu08rvFo0qEbTwGGsmxNviASnSxVxp78Hok+QyRRCsFJX8siTYYbMC\n",
       "NmcKAdZbUd51LNEg8HozmecG9dkIF6Y9p0JaqOdtd+VGJJu2+Ds7V+MWfrWMYToahIr4mkG8lHd6\n",
       "0qwA8yvyARFZ1+EdYEGF3VUTg9EwZKPn11ElxFbtX5DY1SdqHZN2EftoopSqMa6wEaEUfE0ahCjM\n",
       "zwhSHZL1WVGApfZdFdDIAyeBfuqZ6E5aXeJwULz77M9bVLKxjlEDcxDGdGAdjMXAJK0QFn2XFFpL\n",
       "5mSupY3aDAoBRkxtwHVp+PJ5df/9r4xYXgaj60RwKe4PxG8Q/bsdJNrG2RqEa71IDKX5CGAQl6HT\n",
       "8VU7iep8AB7Tz4/J7lgxoaDH0c9Ew37S4byl7UKBIjINu1QAndHWDzuVjH4IGIbygmtY9kgQRggo\n",
       "3ZpHhTCxuCPrGiH8HYQs/kszPZ7/N2RO4k7epHTTAAAAAElFTkSuQmCC\n",
       "\" style=\"display:inline;vertical-align:middle;\" /></a><br>"
      ],
      "text/plain": [
       "iff_transitivity: forall_{A, B, C | A <=> B, B <=> C} (A <=> C)"
      ]
     },
     "execution_count": 34,
     "metadata": {},
     "output_type": "execute_result"
    }
   ],
   "source": [
    "iff_transitivity = Forall((A, B, C), Iff(A, C), conditions=[Iff(A, B), Iff(B, C)])"
   ]
  },
  {
   "cell_type": "code",
   "execution_count": 35,
   "metadata": {},
   "outputs": [
    {
     "data": {
      "text/html": [
       "<strong id=\"from_contraposition\"><a class=\"ProveItLink\" href=\"proofs/from_contraposition/thm_proof.ipynb\">from_contraposition</a> (established theorem):<br></strong> <a class=\"ProveItLink\" href=\"../__pv_it/theorems/9858a731876efec47f8453b6421a8f4fa22433ca0/theorem_expr.ipynb\"><img src=\"data:image/png;base64,iVBORw0KGgoAAAANSUhEUgAAARkAAAAXBAMAAADNQybgAAAAMFBMVEX///+IiIgiIiIQEBB2dnbu\n",
       "7u5ERETMzMzc3NwyMjK6urpmZmaYmJiqqqpUVFQAAAB6qHgnAAAAAXRSTlMAQObYZgAAAAlwSFlz\n",
       "AAAOxAAADsQBlSsOGwAAA51JREFUSMe9VltIFFEY/ldn3HV3ZtvoJUJQfAsL7EJGZMzDKoFdJgmh\n",
       "h0IJtzDEtcCXIKUgEMo1UolubmT5UrQPYpZRWw9BGrgPQQRR0kMlgmtQqFnaf84/lzPueiHaDpw5\n",
       "l+//53znv80A/KfW8g8k/llzJfjQuoTILeyjbPI+42ze0NCdDns5PzHRFQZXHOAxW1/JNBm5nQ/q\n",
       "fFp0G4B/CqAT4AyuPNWZZuOL05BMFxyebwDeWYBhgFwdQEpkmk02Dbv3h+29WnOioF0UZJStg4Ks\n",
       "czMeNu/ICIF84d5N5sQ/iRS2Y0cqmwsLt2acTR85Cj7G7T1FMw1XDfInNJqEGfXQtJm+wNU0qA5P\n",
       "u8SFAOlOJKVd58/70MwZ+Ap5mzXA5prVY4ylgqHeBh6e5XIJ2W822M+dm0OiQ4aKu6Gv4hhATDhi\n",
       "yE6ZEhMxxDjZjmtFpmM28mcMIqPibW7QmN8C6k62LsZTdSnK9qTfZL8CcBXbbGRL/QXAGoAeIWvt\n",
       "NzPdHlEMGj/XQUC7+NYQ2MENe2Iw6cjeQ3wbjmJn4e3G+FEDFMS9myikYqBM2mx8UVN1HGCEUhB1\n",
       "4g6I6xJiiPnQ/8hGOiyyOQCwqkDM7A5y9Rz2kQBmObNC+3O+F7hJIZWAyrjNJsvSLQV5g1UMvjog\n",
       "rmsgJJbHd7ULZaKn0JdZxULcrCcy7l/4SOLVVEZ1byfF5yOORfKGv4DNptUuUa+fojXVmBTCdjks\n",
       "fnO4rhqzxWTukMDgFrO81GD3sloyaV/Ba3jNNY2MZliQsI1z3P+93N3M7/K4wOYuQDmeXsDi6UjM\n",
       "fkVF1IZIlxAS88bJNqfXGSfvY+ewl07bbMzb5KK9bjOL+FjC+fkF+oJJ3fB7JGqz+UAaoyyePD/x\n",
       "EgabtjIbIl1CSEzpCoXqWdxIxoknAarmO0FtmNEsNkbq+RvmJsbqeVREhUISCZPf4YGQ4U3mkRhP\n",
       "3inLUyFNgEiXPEVibo1sI5lVKCu8gv+Zs9bsHsZ7QtbA8wPkIkiJYqwUOlTiea4AX+8RIa7LkINg\n",
       "itUabBrNuhtbQcF+YhXeXSA/u+ouhVffg/0JgU2OcQOlO1hRb63dMQEiXbY8lTDFzrOAv9QRsj4E\n",
       "x5cnk/InoQpzYuPVnBJVVPjSQAyxvolyeagujd6SLWeh6+6ksIEBp8TAInO+8uqLXzywLJu1Czfi\n",
       "qWwkxwlKVFg4IIYomfsJ8FifZ/GP0iGiL4r8ZfsDBxzwEdbdq8kAAAAASUVORK5CYII=\n",
       "\" style=\"display:inline;vertical-align:middle;\" /></a><br>"
      ],
      "text/plain": [
       "from_contraposition: forall_{A, B | [not](B) => [not](A), B in BOOLEAN} (A => B)"
      ]
     },
     "execution_count": 35,
     "metadata": {},
     "output_type": "execute_result"
    }
   ],
   "source": [
    "from_contraposition = Forall((A, B), Implies(A, B), conditions=[Implies(Not(B), Not(A)), in_bool(B)])"
   ]
  },
  {
   "cell_type": "code",
   "execution_count": 36,
   "metadata": {},
   "outputs": [
    {
     "data": {
      "text/html": [
       "<strong id=\"to_contraposition\"><a class=\"ProveItLink\" href=\"proofs/to_contraposition/thm_proof.ipynb\">to_contraposition</a> (established theorem):<br></strong> <a class=\"ProveItLink\" href=\"../__pv_it/theorems/7cdb936006e93c273c83369af073aa485c623d3a0/theorem_expr.ipynb\"><img src=\"data:image/png;base64,iVBORw0KGgoAAAANSUhEUgAAASQAAAAXBAMAAABQTi9oAAAAMFBMVEX///+IiIgiIiIQEBB2dnbu\n",
       "7u5ERETMzMzc3NwyMjK6urpmZmaYmJiqqqpUVFQAAAB6qHgnAAAAAXRSTlMAQObYZgAAAAlwSFlz\n",
       "AAAOxAAADsQBlSsOGwAAA9JJREFUSMfFVltIFFEY/ldn1nUvNtFbWIovQibZxaTA2IdNBEk3iyAi\n",
       "Mai1DHFN6EVIQxCiUsMLUZJClC+FS4mRRm0SgRi0ZBBC0D6EEYKrkHmJsv/cZs/sjia04A/fzsyZ\n",
       "b875zvm/8+8BSGzYOOIaTaJpPd/+f2zjMIRdM6NaQvLTNUYjCJPnz4lS5HIz8HDW/pn5XgWQbsb9\n",
       "aHjqBUZDDJPn24mSdJJDRHIlQMQPqd54qtpumMsK/hAa4gpJYGWiJL3gENGGeRgIgDMQT3UEDU8R\n",
       "dBahIYgyJZQoSXkcIt77ESgrX2+xigVLNnxYXIZMSssHJ4pNTZiV2hn0iCA6cP49ekuKyMikYbNp\n",
       "GWRZehj2ZGXtS5Qkh5tBj/0AFdl4LY02veHXQcOH8CXIaYhnAOdoc4wFHboPVxnfxLKpQQZ9SX5u\n",
       "3k4XaIz8PMkisYv7qkf+8DE0ujkN0Qo2WgjUAvry8i/PkJ8mXdCP+aUxagdLqrjSAp6szrs5wotJ\n",
       "IQY6eA6WnkWACSJxQhp+krFzcdZUI5EYgLYwp00Qvyl9hKL8ZqUkEyx5BkllsvlHAbawO8qvm6oG\n",
       "zX3zk7BsHwONVuwDe1IW8L5R3v0dlHFQ2Ai1WC6ORCo5DeHSmLv7d9NLGm7ZWVmSvZ7VXlZOp3EH\n",
       "gc53YNZRknJ6FUmbcDjnHN7fl+t0McRKOorUTE4jaH9NX2n3WK8hKA/KkiypYaaV/iUVgroTdD6t\n",
       "ypr7xuGYxAlJjdhT2jLef4h6KYvX5VxJEuYuKY/TCI500ZHhOStu6ePfQJakOdqhyOfzXSDesc29\n",
       "e8msRfgq3dDayF7hNqvGQOM6QAZOo5EUhbfRRXrIr2eEpADYya6Y5TSCZroK/dwjo6BOy5Lsfguv\n",
       "fcowdVoF2zGEbw+yVWrYyrtXwgwiOvD7A17DjreJsiXVhWYy3CKnEaTROQ56Il5ulrY+SZLDUzrP\n",
       "O/vqJU6zLYPgO7t9vhriJUVsyEwGHlMrMzPdNI87otVbrOglvenEShe4apfcjKZTLajEz8wCA3IR\n",
       "0MC2QBPnO8ucZl/Q+SlutkqKRXSTzRF7EsqMPzsl+U1pUeoj9HxIdYNtHtQcKXEkN6w6KCRLbV4o\n",
       "D8Bxzmc1FiXViW7GOdb8i+UHl4ApTac6DoH66k5KIYz98AyFJElPw3BqiSaygXTT6ympAagPMT60\n",
       "4Exdtzp9+ojWJoaYaDGr/udNabFUl3RvXeP/Q+xztchXbTwEVQLfh/8YnVjIlBZLfbCGJPng6l31\n",
       "1VUO45G2yfSYrpnQ4qjB9UlywsaEbYPGhb+vAfmQItCCFgAAAABJRU5ErkJggg==\n",
       "\" style=\"display:inline;vertical-align:middle;\" /></a><br>"
      ],
      "text/plain": [
       "to_contraposition: forall_{A, B | A => B, A in BOOLEAN} ([not](B) => [not](A))"
      ]
     },
     "execution_count": 36,
     "metadata": {},
     "output_type": "execute_result"
    }
   ],
   "source": [
    "to_contraposition = Forall((A, B), Implies(Not(B), Not(A)), conditions=[Implies(A, B), in_bool(A)])"
   ]
  },
  {
   "cell_type": "code",
   "execution_count": 37,
   "metadata": {},
   "outputs": [
    {
     "data": {
      "text/html": [
       "<strong id=\"contrapose_neg_antecedent\"><a class=\"ProveItLink\" href=\"proofs/contrapose_neg_antecedent/thm_proof.ipynb\">contrapose_neg_antecedent</a> (established theorem):<br></strong> <a class=\"ProveItLink\" href=\"../__pv_it/theorems/d21322ed233692daf92dfae0e6a393bd6bbb8c0e0/theorem_expr.ipynb\"><img src=\"data:image/png;base64,iVBORw0KGgoAAAANSUhEUgAAAR4AAAAXBAMAAAAvnz2ZAAAAMFBMVEX///+IiIgiIiIQEBB2dnbu\n",
       "7u5ERETMzMzc3NwyMjK6urpmZmaYmJiqqqpUVFQAAAB6qHgnAAAAAXRSTlMAQObYZgAAAAlwSFlz\n",
       "AAAOxAAADsQBlSsOGwAAA45JREFUSMe9Vk1IVFEUPmPv6Tg/NtEuLAc3Qi6yf1oYb6Ei9GcRQovC\n",
       "TVMY4UjgJsgJQZDKMfxBKmqgHzdFQ4hZBk0RgbloyEUEUbOyInAM+rGi7Nx77r3vzrwZd68DZ96b\n",
       "+33n3u+de+55D8A98wp3DC4X4KKtFZ5jvlARdh9hGXb/1g05QYtcWKDj7/ynYwCVRejXgGMP2f2o\n",
       "G3oOCZe2og0gG4XylsLql/AHsTNs39rc0PNIuLQ47sbdJASSBdn+bAwYxuQaaTf01AmX9jKKjpq2\n",
       "qpFSLVXN+xBGLJDCNLlSPgPkyrLog5iEK2qkzN4Xb6iKJQWxTdXVW9zQ47fIlW0DOFKD17320DOb\n",
       "De9ThN0HOMqH8urMLx4zpkZawFNs8QI1Wp4iV8n4vmodT800+7lXzWyDqqU70G0R1g9efubN7Rzo\n",
       "+t0wEeWbS8QXakJG0GtRMVUsBIcu18paLEmT85VrATyLALNM36w2xxvJTkI8Q1hpi5FgI8YfahNh\n",
       "8NTZesyMimWEG9pciiliO+faIWRdeC2Pd4KcWz/Oh1zjB953a3OYg8TwnJjKthEWDFE5j23klwo8\n",
       "kQu2Hn9CxTICNY9gKodJkB83HvUYh4voWYlPFviC99f1ptxM1/2IhwU28IQPha7SNGk4kLL1lNix\n",
       "jCA6w8ccJkG874as8415+yX1dCO34hfev7Lrp3pUbReU1AlszzDPGDygrlU58wFsPX1KDicEk0YE\n",
       "bTCqMzlk8rMbmtoclc0lRM7tHEAVHoxudv6f2494S77UWO0vCKyHl8gYrObQUzA/a3owogkFhAXB\n",
       "JzrGroTG5JAvRfk5vUaWW4Zc2iBG72DbPW43Hdmeeth6iwKr4E803pDltYFLxBO2nncUkBEE2cH6\n",
       "GzUmhwIjkchJVj+GPN9hcmFzS/PzI3z71tv9WeSydWkYgh0/LQ3DzhLnaD2+ZLTz3iX1EEHsV8TS\n",
       "mRwqsyg/hupRNcLzP3LCxb93bOw2FnjatMD7DcxacNRzkgjgoYLYzWKJeVDEUlNFPZ1yyhnh+X07\n",
       "tUxPl5h/J5iPL5XVw/TXhom0pqc0phPE3zLWFgXzVFpAvZir4MWhiFqOcUtjjjV7l3nH5GNB7Z70\n",
       "+KwcQit1MX1IHmmzKdKew2UnznR+yRxfRk8+dtOhByZzCJOOKXwtRWc/KzzHPLHichxYyqnH0NcL\n",
       "JBxzBOA/mbfAq9t0fdV/r5f1HqpVxZ8AAAAASUVORK5CYII=\n",
       "\" style=\"display:inline;vertical-align:middle;\" /></a><br>"
      ],
      "text/plain": [
       "contrapose_neg_antecedent: forall_{A, B | [not](A) => B, A in BOOLEAN} ([not](B) => A)"
      ]
     },
     "execution_count": 37,
     "metadata": {},
     "output_type": "execute_result"
    }
   ],
   "source": [
    "contrapose_neg_antecedent = Forall((A, B), Implies(Not(B), A), conditions=[Implies(Not(A), B), in_bool(A)])"
   ]
  },
  {
   "cell_type": "code",
   "execution_count": 38,
   "metadata": {},
   "outputs": [
    {
     "data": {
      "text/html": [
       "<strong id=\"contrapose_neg_consequent\"><a class=\"ProveItLink\" href=\"proofs/contrapose_neg_consequent/thm_proof.ipynb\">contrapose_neg_consequent</a> (established theorem):<br></strong> <a class=\"ProveItLink\" href=\"../__pv_it/theorems/d1c42be3ce2d851b9486a79b5ac1e401a327d5d60/theorem_expr.ipynb\"><img src=\"data:image/png;base64,iVBORw0KGgoAAAANSUhEUgAAAR4AAAAXBAMAAAAvnz2ZAAAAMFBMVEX///+IiIgiIiIQEBB2dnbu\n",
       "7u5ERETMzMzc3NwyMjK6urpmZmaYmJiqqqpUVFQAAAB6qHgnAAAAAXRSTlMAQObYZgAAAAlwSFlz\n",
       "AAAOxAAADsQBlSsOGwAAA7pJREFUSMe9VltIVEEY/lfP2fvakd7CctkXIZHsToFxHlbxRd0uCBGJ\n",
       "RZ3MCDXBF6HdEISgWsMLUVJCF1+KlhIlDdoiAvPBJYMSg3wIIwK3IFOLsrnvnN11e2kb+OfM5Z9/\n",
       "vpn/+/85ANkr9kyToTTKdshqWZ9hzhKTe+cBnBqVWdx/lw04Hh3A3fR7/tOJNJOvTb0bSAqojOL+\n",
       "lWzgOYir3HqAeHPKnNplQr6CKkeAyFnst/ps4HmMqzBywf1IypwraurFEZvcESIYlhLLBp5SXE2i\n",
       "u5nU+JA1wBq5Js3KGnyD24m4EVJHVuhDXBJH0i1iycYdMW0KLa0QX0g/lS0+37Zs4HHpuN4BUFeU\n",
       "GHzOvkMmTXiP3VdNZQTgOBkOJNkT3JNH35p0hCMCqXgceA/b9/wN/aT7wIfLJkalflnzHgQx9nEq\n",
       "l8BOYl7dSSbbfvqHSTxYufp+KTzcA6xB1ThmthY8PdeKORdzcMOyBDAlc3eaTpeg8xKAGF8EwhjB\n",
       "FBVrQCGbKL/ojl6wlJrw1EhsrxPAiJpTpz2ytmWuETT94htOWWzVikwpi3Kgd5PNdnPqICCWU2Nx\n",
       "zKsgFY9G6Ty4mXzyIuD+IuNxtlKvkJw5yu0ytV4Qa10j2IG6cljGswbt5/4qZ+JKSMazF6l5Ufsm\n",
       "k66nlAvXqZkY7IvKeCyOWYoAR4mX22VqVSDWFpCGfqFc9lcQ6eT9SPDHxzJviYQHuSwHe+QVkypy\n",
       "SAs8IhrhgomPIOPRXF1QYRjGScQRu0irTG0G+FqVhLI2tpWzzYqvtRAdIijl4jvse4TjiYATJxzs\n",
       "kRdMOsj5B2Et0XgG6mcZj7OZ0gnxYBSc9aAgaEeFGrWP1zqj9H7a17GtFGy2GxnYlQg+cZ7qBMQO\n",
       "vNcSywFY8siJhvxxsg7tEh6Q8Lj81QvM2IeAh7lOqLUBX+vuM4zTmD8Kz33It3Mr8/N9UjhY+eWd\n",
       "EUO1K73gaVpGgbERqLArhzBRLkPvjRzvGtgXib+MYyK/5gm1GbHWptP7USzcZFGGP6Kc1CfW7qVC\n",
       "y11E8piqg30B1GLJX9gNNBEoUcFnl1DLhwNsLU2qCE8LNzmRIXm70z+x4pl17QH1yVVbGYx/8w/H\n",
       "JDwPZ+HQMvFfO64amD5Xa4DWGF0LnejInss9hsh+1lAGQA0pI51MTG+g1LYmzRF23Ur6jUH+4/RQ\n",
       "K4zGlMlVS21ahMkob2fAQ+8xlNx1Blbd81ymf2st+Qc2RMVUon/DA+Wm3kvEBPhPJf3Pvprqw39a\n",
       "/gDxHvR5EWE3NgAAAABJRU5ErkJggg==\n",
       "\" style=\"display:inline;vertical-align:middle;\" /></a><br>"
      ],
      "text/plain": [
       "contrapose_neg_consequent: forall_{A, B | A => [not](B), A in BOOLEAN} (B => [not](A))"
      ]
     },
     "execution_count": 38,
     "metadata": {},
     "output_type": "execute_result"
    }
   ],
   "source": [
    "contrapose_neg_consequent = Forall((A, B), Implies(B, Not(A)), conditions=[Implies(A, Not(B)), in_bool(A)])"
   ]
  },
  {
   "cell_type": "code",
   "execution_count": 39,
   "metadata": {},
   "outputs": [
    {
     "data": {
      "text/html": [
       "<strong id=\"double_negate_consequent\"><a class=\"ProveItLink\" href=\"proofs/double_negate_consequent/thm_proof.ipynb\">double_negate_consequent</a> (established theorem):<br></strong> <a class=\"ProveItLink\" href=\"../__pv_it/theorems/1c40c94df8b3525e25b0b3c28e70126f9202c9830/theorem_expr.ipynb\"><img src=\"data:image/png;base64,iVBORw0KGgoAAAANSUhEUgAAAP0AAAAXBAMAAAAyxFQrAAAAMFBMVEX///+IiIgiIiIQEBB2dnbu\n",
       "7u5ERETMzMzc3NwyMjK6urpmZmaYmJiqqqpUVFQAAAB6qHgnAAAAAXRSTlMAQObYZgAAAAlwSFlz\n",
       "AAAOxAAADsQBlSsOGwAAAyRJREFUSMe9Vk1IVFEU/kbnzbz504kgWvQjtpCwxRRRFBguhjZSPWwV\n",
       "gcyiRlrEDARtghyrTQQ5oEZEpS3CTeBQYmRi5i4MGghaBc0iihBsDH9SS7s/7809780PNlIHPt/h\n",
       "fnfOd+85594rsAnTN8YVTUsRbMZ2yvDp8pzTlfaIIMcHPlYlH2oVH1++POdwg4m12W+dcE2igDE+\n",
       "frcq/TPy8ylfnnO4qI0B35PoZ66JqzyDsar0x+Vn4md5zuGiJwwMZzDNXBM+A3Bnq9KPiL/uG0tq\n",
       "6Lydc7p4l2QIo5aJmgiyGviqK7/su27XbzV22c45XJZ7ht4UfFzUxIHGxoNV6QdkX2VCv9RYsNXG\n",
       "OVzgENDRxHKWU3huZc1whLccrYw+Xzzgz3rnxfRGYauUc7rwLm7ZdZ8vM61wG7o4g9phmcHV6GiS\n",
       "Ox7rR6eTJEBipK3T9Guycpn6Gi3KgwL3lK+nmbpwsVZ9z9YTiih4DPeg6CNZxmADXBGb/inanVPA\n",
       "VussiZ9tezmxaDt4RxUHvjviwsMiu1m7evMKobBsv6H94lOXQTBP9f2XwlB31AzrX6qvMfIHvXb7\n",
       "UhX061mmg3MsZkQB6deCDj+UUbNon6T6Ll9OLkwEboG2j+afd8keUv+9KVIbIUpcdLHIdStszw0K\n",
       "ONEvZPBC3hA7pr+C6ocDaRyPx+MXeH/oc28nrHbw8Lw8YRhQ2/fHCMftFnWxm62ui/ddTAHXxf6G\n",
       "zLpOQZuh+v6ky7xA3GOiOzoyZjx+eHTOJdQ7dpNwxS56WbwjhjyTFlAnNjQS/W6YBe4ZJPqB6MkF\n",
       "s7SfDd4d+op1FhqgJZYNfFjvKwh0Kg7F7pf12dk7vBw1gwpmlZlsUhYYw/T8haEvifzHz8nu8Beu\n",
       "26biOyFVgisx7RqBNFbH+qzWCn0BWjPJv591jDyYbt6VPQbarfyLF6ScTZd06ZM0Tp+mwDFor+55\n",
       "W/BmPjqaJfrPcji7LLJ0hV8OA9G2i4Uongr/vxCueBp/by3YnxQawcEZRRpahWebcMXT+Ios2Oxx\n",
       "Bf0S1r0xrmjadgKbTf6d/j81/b+o/AHMmNh0cUyiuQAAAABJRU5ErkJggg==\n",
       "\" style=\"display:inline;vertical-align:middle;\" /></a><br>"
      ],
      "text/plain": [
       "double_negate_consequent: forall_{A, B | A => B} (A => [not]([not](B)))"
      ]
     },
     "execution_count": 39,
     "metadata": {},
     "output_type": "execute_result"
    }
   ],
   "source": [
    "double_negate_consequent = Forall((A, B), Implies(A, Not(Not(B))), conditions=[Implies(A, B)])"
   ]
  },
  {
   "cell_type": "code",
   "execution_count": 40,
   "metadata": {},
   "outputs": [
    {
     "data": {
      "text/html": [
       "<strong id=\"eq_from_iff\"><a class=\"ProveItLink\" href=\"proofs/eq_from_iff/thm_proof.ipynb\">eq_from_iff</a> (conjecture with conjecture-based proof):<br></strong> <a class=\"ProveItLink\" href=\"../__pv_it/theorems/286974f51f5888baa4e6d0554ab9382f7787420e0/theorem_expr.ipynb\"><img src=\"data:image/png;base64,iVBORw0KGgoAAAANSUhEUgAAANEAAAAXBAMAAABnpbd1AAAAMFBMVEX///+IiIgiIiIQEBB2dnbu\n",
       "7u5ERETMzMzc3NwyMjK6urpmZmaYmJiqqqpUVFQAAAB6qHgnAAAAAXRSTlMAQObYZgAAAAlwSFlz\n",
       "AAAOxAAADsQBlSsOGwAAAtlJREFUSMetVk1oE0EU/tLudpNmN40IIlI11EMPBfGPFg+VHKI3IQgK\n",
       "IkovrliQppdeBNtq8aS20h9Ei9aD9CIYRCtaqdGb5GBA0Yugp6pIkyq1/re+ebNpfsaw4mZgMj/v\n",
       "m/nmvffNToCqFL+LvQ/VKusl31Al+3Wqb0XntUciK8pNYF6xmF1L2Q/H4EsBD8T4kkemg7J5ozKh\n",
       "tgPIJTAKnBJed3hkeiibmW+qaTAM3EoiTR7HAS3jkWkL/2oDX1XTswTVMGrjMCmCAa9pkkro9/1W\n",
       "bTmqw30IEM22pqYdHpmCUhBJ65dqawWONJO/pLx7wFGei1fcKZnvVICIAwP1GWOBh7ebRNnMfWNx\n",
       "1YZxoUFy+wL8rHS9jU09P2NTCRmTkSstMoF5wTgQlAFRw7Ag/EvKIXwkkud0EItSWRfXJjifMshm\n",
       "BD6a7Z7tRDh6/lUJk1acBwfISuYN1kzPLCpMdQTRSCgGXQArLAUxuZWbUBLmPIIUU2LSDpcwMeQQ\n",
       "MFAAFph0kvNnhamB4mV+otCKQw095rnwVbkqg30pNPJM9NzuEiaGvKc49a0AC9ELUt2k5KmXIKEf\n",
       "5E+EBntHOaC4L29aY/oddN47PL09UczEkGCrbR9vywOdEJE7uEn1muLTRjpUL6nBFHucYUFMYjWb\n",
       "nkD/iPqU9OnkumImAamf4+TfdYBO/mgHvwhPl/LNHqbA7Yw7FyHEB78Ty7GGafXghDlm2ydEnrRi\n",
       "JgEJ8Y2wOh2gNBgR6F3f43i5PFJGNLuczY6J2NZMrKiR1jFjO32mEkZU+qT5ipgkpMemMp4HOqub\n",
       "XS/36ZUeRbkho0fh/wK9xbnLxNRdxMQQ6JRa8QY4QFnS//oNpjDugv7ostGOpwuxKfL2LJ3Wujhi\n",
       "pwpMEgK8AA7Q0AE6knB7U5XXwsp39D12Z2G6o+wh31++ke727ChHufF3nPvz1e9iX1s+kfpfpmqV\n",
       "qvyz+QOd7b9uzy5ZUwAAAABJRU5ErkJggg==\n",
       "\" style=\"display:inline;vertical-align:middle;\" /></a><br>"
      ],
      "text/plain": [
       "eq_from_iff: forall_{A, B in BOOLEAN | A <=> B} (A = B)"
      ]
     },
     "execution_count": 40,
     "metadata": {},
     "output_type": "execute_result"
    }
   ],
   "source": [
    "eq_from_iff = Forall((A, B), Equals(A, B), conditions=[Iff(A, B)], domain=Boolean)"
   ]
  },
  {
   "cell_type": "code",
   "execution_count": 41,
   "metadata": {},
   "outputs": [
    {
     "data": {
      "text/html": [
       "<strong id=\"eq_from_mutual_impl\"><a class=\"ProveItLink\" href=\"proofs/eq_from_mutual_impl/thm_proof.ipynb\">eq_from_mutual_impl</a> (conjecture with conjecture-based proof):<br></strong> <a class=\"ProveItLink\" href=\"../__pv_it/theorems/07a08a70dfd2838dc22520d3e64efd00ac4a6e300/theorem_expr.ipynb\"><img src=\"data:image/png;base64,iVBORw0KGgoAAAANSUhEUgAAAQEAAAAXBAMAAAD5Ouf8AAAAMFBMVEX///+IiIgiIiIQEBB2dnbu\n",
       "7u5ERETMzMzc3NwyMjK6urpmZmaYmJiqqqpUVFQAAAB6qHgnAAAAAXRSTlMAQObYZgAAAAlwSFlz\n",
       "AAAOxAAADsQBlSsOGwAAAxFJREFUSMe9Vk1IVFEU/ibf6804700TQUQYiS1auOmPbJExC3VT0dCu\n",
       "RWBUDxLEcdNGKK1oVWmkEgU1EeImyEUYadirRRAumlVtgiKiHwK1sEws7dxz3/9TxxavC9d3POc7\n",
       "9373nHPPHSDWkSxj70TcY5Pk0bOU/Q7Nd0J4ExMBI8ef1FTE8nxhYqK/gIQFjIj/r8fE4Ij8vI0y\n",
       "wG4gMwP0AWdElJpjYvBYfsZ+RQvkG1A5B4xThPKAUoqJwTb+q1yYiVh0UunEoiIPnTKRiqsMZAV2\n",
       "Jf5ETBlKTGoPTdp+R03NrpgYpGUhDhm/I6aKZqjvCxQfugkPgZOszC+50pAj5Fe2swMTB6R0l7Rp\n",
       "5lPDgy8fzh5b+0VYdQrTFSRZqdax6fRcw3BBxrD3Zq0sEKdQbQiCQM8jDFvF7mkk5yMkN3fC2Cs2\n",
       "oVJZnVeKXC8yWXo1EqRt/9iCbO7y6wADxZ9PG+gTEIZV8MLrR8d+Rhgcp3mIeGtUD0ZWFuLgdlki\n",
       "Q9CnkKbcEAPlaICBDTEsD+gXnMZmw2wGahb4HmEgovKSLJWCe89T1mVvSa8SDluoYk3uUmOAgQ3B\n",
       "Zw/oF5DpDMBkFtI0t4TrQBO1OUkEjWoSDvYJXQKP2Ku7avwTVN4zO7qz4GcgIIpJ41rBAboeaCL9\n",
       "qTr/SpRgOiTu0bwdDkGCepQ2K1Io1j7PrAaxjm3PoH5FpSVj0LHRz8CBAPuLNtD1sCtgJAATVy0p\n",
       "wtwWfgNTpL3b51zYDB/0QcMkXyJarLuo95tmq6gDxc/AgdD9abSBrofdaz/k/TCtGmrbbB6vFnpD\n",
       "/ahtfuJLKyeq6IaFlmEm9cD9gpaTMVASPgYM4SyYOQfoenAWzBP+lWhsLds6zrkSZWtNSc0h+QNq\n",
       "rd2jiEG7jwFDWDogjstAz4OjbgVg/O6s7O2idOyD+uSGVo8X0w3D5H+RTmFc7TUtj4GEcHBFj5RA\n",
       "z0OMjgBMlGK530CRV9lw21qT2eKpQzB1MY9Fm7Za7tmPUBxYHLfMOgPL79BVhsGGsML6ZwYW/suI\n",
       "9RftX7dq5cX8XexIAAAAAElFTkSuQmCC\n",
       "\" style=\"display:inline;vertical-align:middle;\" /></a><br>"
      ],
      "text/plain": [
       "eq_from_mutual_impl: forall_{A, B in BOOLEAN | A => B, B => A} (A = B)"
      ]
     },
     "execution_count": 41,
     "metadata": {},
     "output_type": "execute_result"
    }
   ],
   "source": [
    "eq_from_mutual_impl = Forall((A, B), Equals(A, B), conditions=[Implies(A, B), Implies(B, A)], domain=Boolean)"
   ]
  },
  {
   "cell_type": "code",
   "execution_count": 42,
   "metadata": {},
   "outputs": [
    {
     "data": {
      "text/html": [
       "<strong id=\"implication_closure\"><a class=\"ProveItLink\" href=\"proofs/implication_closure/thm_proof.ipynb\">implication_closure</a> (conjecture with conjecture-based proof):<br></strong> <a class=\"ProveItLink\" href=\"../__pv_it/theorems/51b769d88aeae04ad7b371773fa6f8dd8627cd0c0/theorem_expr.ipynb\"><img src=\"data:image/png;base64,iVBORw0KGgoAAAANSUhEUgAAANEAAAAWBAMAAACs+WTQAAAAMFBMVEX///+IiIgiIiIQEBB2dnbu\n",
       "7u5ERETMzMzc3NwyMjK6urpmZmaYmJiqqqpUVFQAAAB6qHgnAAAAAXRSTlMAQObYZgAAAAlwSFlz\n",
       "AAAOxAAADsQBlSsOGwAAAz5JREFUSMe1VV9IU1EY/67uujvddP0xCszGfBDzpaSSAmsPVvRQjIig\n",
       "FxlBsyJwUPSYsyIQIgdqRGTdyJAgaJUYZdmKCMyHbgmBUNRDFBVohVlmab/zZ3d3c/P60gc/7nfO\n",
       "/c75ne93vnMO0TxNk7CPymZRmr8tl8BssdxRhd70tlJxYLLmM9Fl+O9Yx2tbIk9AAOb6muW/u2l6\n",
       "9FMjUVlGf0Ght7VBJyVBdI+1z9ky7ZGAvc3GRPkhorEIuYKZTAlHFL86iY4xPUK2TPclYAO/sgW0\n",
       "QbcbcXLHZzG5Deg2RHwRDsOWaZUEgk/+THXvM73nEQBsa0Vzid8fM5ng5QfJDQVd9tsUE4C1KH9T\n",
       "/UdNbwxoR4ld4K1rpamcik9jf12gqfH719gyFQUEYHHPH0shBJLeOqKGSnx38PLsTKlXuvA9UwIK\n",
       "3klqEJyDiS2JAXVsOMc5t5/blAxwTiwo5+kM8vBoiqlqUzVmdkOQM6TxSldrhR5T9X0RETWy7dYD\n",
       "OSDPEAADadNWWbvkwUGZDLOlDHMma0Uoz5ChB5tcEHTofKeF/G4fKeh1lod1xaG9kaT5ugC2un9g\n",
       "Iq38N4gZMcbBSqWZtQ6zdEOSiULdmA9Hw+MVK+hZzT/FqFT09oNCcdBmI4NJRXl9t14/HUKoEuji\n",
       "/gbnCmvttuZEoQKIzgo39oj3eS+KOQ3ameBnGkzak2CGekVAhWWfquSONGNA8W84L3l4OhNS8fjQ\n",
       "2M4LRaG74gSWDX2Ui1KKbtcmB3gF6DpwyXLPJc/8CjA2s2PwlI/0pjG9QL4s8AQviB5axH89JvWL\n",
       "mBA5OW/qYgArUgaNidCUuplbk047WNczAXp5syvFFHAsjssjUsx3vbd+jCsFmjadBsPhsIF9Csjz\n",
       "4vRxqE2TQXo102EyNcrvh5nR0bN8T1fydsNBIbvSHuZ3OeXp5vUOAs5Yh+srQkdEThRIylApYffu\n",
       "aD7x7d7rT3tcjpse5Cox1ABpP0itZqUvmLYmmYYkbC+TRO4bWgRsJPXheWcdDY7X90EFjckysmzL\n",
       "IVPvqICdncrxFme+Fh7T2xUO69Y/akjAzvZn7561yKu5p2iRmNuUHGkvzexI0P+zf1JdzSjmiBOy\n",
       "AAAAAElFTkSuQmCC\n",
       "\" style=\"display:inline;vertical-align:middle;\" /></a><br>"
      ],
      "text/plain": [
       "implication_closure: forall_{A, B in BOOLEAN} ((A => B) in BOOLEAN)"
      ]
     },
     "execution_count": 42,
     "metadata": {},
     "output_type": "execute_result"
    }
   ],
   "source": [
    "implication_closure = Forall((A, B), in_bool(Implies(A, B)), domain=Boolean)"
   ]
  },
  {
   "cell_type": "code",
   "execution_count": 43,
   "metadata": {},
   "outputs": [
    {
     "data": {
      "text/html": [
       "<strong id=\"iff_closure\"><a class=\"ProveItLink\" href=\"proofs/iff_closure/thm_proof.ipynb\">iff_closure</a> (conjecture with conjecture-based proof):<br></strong> <a class=\"ProveItLink\" href=\"../__pv_it/theorems/71ac7a846feb950fb5708cd86d98373c1443af7d0/theorem_expr.ipynb\"><img src=\"data:image/png;base64,iVBORw0KGgoAAAANSUhEUgAAANEAAAAWBAMAAACs+WTQAAAAMFBMVEX///+IiIgiIiIQEBB2dnbu\n",
       "7u5ERETMzMzc3NwyMjK6urpmZmaYmJiqqqpUVFQAAAB6qHgnAAAAAXRSTlMAQObYZgAAAAlwSFlz\n",
       "AAAOxAAADsQBlSsOGwAAA1lJREFUSMe1VV1IFFEUPqM77qzOrtuPUWC27D5I+VL2Iz1o82BFD8VS\n",
       "EfQiS9BaEbhQ+JhrRSBELpgR0c9EhgRBW4mRlm0Rge1DU0IgFPkgRQVaYZb9aOfec2d/xl3Hlw58\n",
       "zL1nzr3fPd85cwdgnqYI2EflsijM35YL4G6x/FHF3uy5FDg4Vf0J4CqOR5jjjS2RWyOgub7keK82\n",
       "TY99bAQot/iLir1tDTpICYA+Nj9vy7RXAO1dLiYoDAGMR8AVtDIlHFF81QlwjOkRsmV6IIA28DNX\n",
       "QDvqdisOanwWk2qgbkngh3AYtkyrBTD45A/hw3o5R8yAFxEEsq2n6RK/P5ZiwlFhEFRU0GVfphgB\n",
       "rVX6K6qNK6HRjBhHdGCLXeSzG2XpnDynsb4uDK72+9fZMpVoBLS4+w/5mnn9zLpsAGioxOcO3p6d\n",
       "afXKFo4yJTD5ewD7uTM4BxM7EgP2seGc4C7nWj9aQOzpnFxQwdMZ5OHRNNPKTVW4s4qCnAGFiy3X\n",
       "0El/1/dGKGp4252HYkGBQcDMQJmmStDJmqnGErbJEDvKEGfK7AjpOZ7GjUUuCjp0XmmSX/WBhF5n\n",
       "RViXHMpbQVqoE5Cgf2CSPXeJXpDraEdc42Ct0sJmR1i6IcEEoS7cDz8Nt5dO0L2GPzzYqejtRwrJ\n",
       "AZsNC5OM7fWNl2KU3rRR9UqRWP2Kg2tsticzJwgVoeiscWOPuc97mfY0YGeC+gpzehq0qFeCCFDy\n",
       "fm6VFNCCCzy/cPCKh2czYSpuH06286JKcJ++wPLkB3EoqeRujbnAS4CbiCvkS2bWfgU+W9hn8Iyv\n",
       "9GYxvcRzMS1PcMW7YRF/9QTkz7Qh5uS8rdMC1qQMChOhiXb3sHd9YscOFGgjE6CHTy+lmTTH4rj4\n",
       "RDy86j3141wppGnXYTAcDhtYJ00TTezjkJumgvB65iz1Qix9j72fGRs7x2u6is8bDpHsUkeY3+VQ\n",
       "oKeudyTgjLV4fUXgKOUEmilDpYD1p2P9CBUfPbv2+bN+LsdTI5Sr1JA1UL6DXMVan5i2mkxJszB2\n",
       "l0ki/w1NAXUgP7rgrIXBifpeVEFh99nwsi2HU3pHCXZ2Ks+/2Pq3cKdGu8NhPfONHCLY2YHc7lmH\n",
       "vJ5/i1aBuU3Kk/ZSqyMB/8/+ATXn1BOOE/ZJAAAAAElFTkSuQmCC\n",
       "\" style=\"display:inline;vertical-align:middle;\" /></a><br>"
      ],
      "text/plain": [
       "iff_closure: forall_{A, B in BOOLEAN} ((A <=> B) in BOOLEAN)"
      ]
     },
     "execution_count": 43,
     "metadata": {},
     "output_type": "execute_result"
    }
   ],
   "source": [
    "iff_closure = Forall((A, B), in_bool(Iff(A, B)), domain=Boolean)"
   ]
  },
  {
   "cell_type": "code",
   "execution_count": 44,
   "metadata": {},
   "outputs": [
    {
     "name": "stdout",
     "output_type": "stream",
     "text": [
      "These theorems may now be imported from the theory package: proveit.logic.booleans.implication\n"
     ]
    }
   ],
   "source": [
    "%end theorems"
   ]
  },
  {
   "cell_type": "code",
   "execution_count": null,
   "metadata": {},
   "outputs": [],
   "source": []
  }
 ],
 "metadata": {
  "kernelspec": {
   "display_name": "Python 3",
   "language": "python",
   "name": "python3"
  },
  "language_info": {
   "codemirror_mode": {
    "name": "ipython",
    "version": 3
   },
   "file_extension": ".py",
   "mimetype": "text/x-python",
   "name": "python",
   "nbconvert_exporter": "python",
   "pygments_lexer": "ipython3",
   "version": "3.7.3"
  }
 },
 "nbformat": 4,
 "nbformat_minor": 1
}
