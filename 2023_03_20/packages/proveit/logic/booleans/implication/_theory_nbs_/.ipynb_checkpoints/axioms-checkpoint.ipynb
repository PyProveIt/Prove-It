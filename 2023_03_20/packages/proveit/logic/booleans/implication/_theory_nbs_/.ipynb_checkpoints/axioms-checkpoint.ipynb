{
 "cells": [
  {
   "cell_type": "markdown",
   "metadata": {},
   "source": [
    "Axioms for the theory of <a class=\"ProveItLink\" href=\"theory.ipynb\">proveit.logic.booleans.implication</a>\n",
    "========"
   ]
  },
  {
   "cell_type": "code",
   "execution_count": 1,
   "metadata": {},
   "outputs": [
    {
     "name": "stdout",
     "output_type": "stream",
     "text": [
      "Defining axioms for theory 'proveit.logic.booleans.implication'\n",
      "Subsequent end-of-cell assignments will define axioms\n",
      "%end_axioms will finalize the definitions\n"
     ]
    }
   ],
   "source": [
    "import proveit\n",
    "# Prepare this notebook for defining the axioms of a theory:\n",
    "%axioms_notebook # Keep this at the top following 'import proveit'.\n",
    "from proveit.logic import Equals, Implies, TRUE, FALSE, Forall, And, Iff, Not, NotEquals, Boolean\n",
    "from proveit import A, B\n",
    "%begin axioms"
   ]
  },
  {
   "cell_type": "code",
   "execution_count": 2,
   "metadata": {},
   "outputs": [
    {
     "data": {
      "text/html": [
       "<strong id=\"implies_t_f\">implies_t_f:</strong> <a class=\"ProveItLink\" href=\"../__pv_it/axioms/64c4baeb128029e604d2dad66c10560a977838a60/axiom_expr.ipynb\"><img src=\"data:image/png;base64,iVBORw0KGgoAAAANSUhEUgAAAHoAAAAVBAMAAAB71edYAAAAMFBMVEX////MzMxUVFRERES6uroi\n",
       "IiIQEBCYmJhmZmYyMjLu7u52dnaqqqqIiIjc3NwAAACW8nlqAAAAAXRSTlMAQObYZgAAAAlwSFlz\n",
       "AAAOxAAADsQBlSsOGwAAAPBJREFUOMtjYGB4wEAI4FHBe4Cgbl/cUqcZGFpDQSAIm6w72IICXDJc\n",
       "E8DsszjMhojPwiXDUUCE7gpcMmwMmLqt0HWzLcCh+yQW3cLoujkLcOjuxqKbfQOabm4FHLqno+jm\n",
       "AId+6A803ezgoEWNGrBMDBa7GXjmoOrmScBhdwo23QwrU1B0M34gRTff7Acoullw2R2Dzd+RD9Bc\n",
       "HoDD37ZY7GYxQA81Axx2b8Ki+yV6fHNswKFbFCnNw4AhlAY6NQ3sVFYHNK0wGVYBIvLzU1wZlL2B\n",
       "gTBoxyljR1gznwFOqcWEdTPjLpr4LhDUfQ+XBAAsMEysRwILewAAAABJRU5ErkJggg==\n",
       "\" style=\"display:inline;vertical-align:middle;\" /></a><br>"
      ],
      "text/plain": [
       "implies_t_f: (TRUE => FALSE) = FALSE"
      ]
     },
     "execution_count": 2,
     "metadata": {},
     "output_type": "execute_result"
    }
   ],
   "source": [
    "implies_t_f = Equals(Implies(TRUE, FALSE), FALSE)"
   ]
  },
  {
   "cell_type": "code",
   "execution_count": 3,
   "metadata": {},
   "outputs": [
    {
     "data": {
      "text/html": [
       "<strong id=\"affirmation_via_contradiction\">affirmation_via_contradiction:</strong> <a class=\"ProveItLink\" href=\"../__pv_it/axioms/0b2b2394d208dc9b60274818d3b211a689b87bef0/axiom_expr.ipynb\"><img src=\"data:image/png;base64,iVBORw0KGgoAAAANSUhEUgAAAJkAAAAWBAMAAAAhlCOEAAAAMFBMVEX///+IiIgiIiIQEBB2dnbu\n",
       "7u5ERETMzMzc3NwyMjK6urpmZmaYmJiqqqpUVFQAAAB6qHgnAAAAAXRSTlMAQObYZgAAAAlwSFlz\n",
       "AAAOxAAADsQBlSsOGwAAAgtJREFUOMtjYKAa6ATiByDGHWqYNh+Id4EYM6hgGO9/IFEHxBwJVDCN\n",
       "+30DAwNnAAMDywUqmObhX8DAwHMAaCIVDOMQkAe5yUhJyYQaHmW4D3QXw3YGhlQwPwBdwQYIdQMu\n",
       "wMrAIIDLtLUM9Q5Aqo+BA5xKWM2hcTNltjYkHCFxw7MAriO4AOgELPZBmP0gY9gCWMDqWf4CicJn\n",
       "WQwCDr3XkUyLQ+jwv8DA5YBsGiItMGbvfg/i8QpAImG5IdDzQG8DTWOJRVK7C66Dqxjoz6kMSMkd\n",
       "YVogAwO/Aogx4SCYLzCPgUEGzHDocUVSq4CwnxPoF18wk68BzTSgn5kMQAxfsHWMDDsZWMGyAruN\n",
       "CxBqOSbAdQhwA9m3GdzS0tIyzVFN4wKlsw8gVjM4EpYzCIPFQG6rlkKo5UpgYAFqTwKyChiBti+D\n",
       "aGfZhWJaMygCfoBdDXbJFpf3ATzT0tJyQeHGgjCN9wHEa8BAdfH7ysBQBk2sTwKQTAv7P5WBN/8n\n",
       "PIYYGRj6C9gdIG5jYUSYxp4AM02AgeM7zKdpKWjhhgrWAOPkAiQZA00rxIgFbnAwABORIMSjB/CZ\n",
       "xm3HwLp/FkMb0NO8E6ekIavNgCrZ/IAh+ucCKLcaZGJamllaIp7MxuqWloWeNpegqkjAngsJA4hG\n",
       "7gYUTzSQWyxAQ8UVWewU2YVMA7zkQAD8XgQATXx0Ll0Bp0oAAAAASUVORK5CYII=\n",
       "\" style=\"display:inline;vertical-align:middle;\" /></a><br>"
      ],
      "text/plain": [
       "affirmation_via_contradiction: forall_{A in BOOLEAN | [not](A) => FALSE} A"
      ]
     },
     "execution_count": 3,
     "metadata": {},
     "output_type": "execute_result"
    }
   ],
   "source": [
    "affirmation_via_contradiction = Forall(A, A, domain=Boolean, conditions=[Implies(Not(A), FALSE)])"
   ]
  },
  {
   "cell_type": "code",
   "execution_count": 4,
   "metadata": {},
   "outputs": [
    {
     "data": {
      "text/html": [
       "<strong id=\"denial_via_contradiction\">denial_via_contradiction:</strong> <a class=\"ProveItLink\" href=\"../__pv_it/axioms/bb1f6e7975966fafc16cb85a3e06239b6249ef7f0/axiom_expr.ipynb\"><img src=\"data:image/png;base64,iVBORw0KGgoAAAANSUhEUgAAAJ4AAAAXBAMAAAAIFOtYAAAAMFBMVEX///+IiIgiIiIQEBB2dnbu\n",
       "7u5ERETMzMzc3NwyMjK6urpmZmaYmJiqqqpUVFQAAAB6qHgnAAAAAXRSTlMAQObYZgAAAAlwSFlz\n",
       "AAAOxAAADsQBlSsOGwAAAiNJREFUOMtjYKAANKDxORgoAowXkHmdDAxcAgwMD0DsO2SZdwWFNx+I\n",
       "ZRgYdoHYM8gxjnUCMo/3P5DgDGCoA/k7gRzzuA+g8N4DQ5NnA8hIBpYL5JjHjMLz8C8AkqYMPEBb\n",
       "OMkKvpsoUSsgD3LUHAYGIyUlE7LM24LiXYb7IO/7MTBsZ2BIBQsFoGvYAGMEYDVvDjJnLUO9A5A6\n",
       "ycDQx8ABTjOs5tCImjJbGxKesFiCycBcAgW6QLYSCGwA290PMuUyAwNbAMsCkDTLXyBR+CyLQcCh\n",
       "9zqKeWAZOGCDMaxgQQc0iDF793uQ8nqgewQg0bHcEGgf0PNA81hiUcwDyYAcfgC3eYEMDPwKQPZi\n",
       "IJ5wECwsMA+cvkHm9biimAeSAYEXqObpIpkH9DKTAZB9CYh9p4IzI8NOBlawCQK7jQuQzQPJsKQB\n",
       "weQCFPMSYeZtYOACJboPQPYxIG4GR8dyBmGwMMh91VLI5oFkIMB7AbJ5fogwbQaJ/4CmIT6wtVtc\n",
       "3gfwTEtLywWFHwuyeSAZCKvPFdm8IrhxYf+nMvDm/wQmGC142cPA0F/A7gBxHwsjknlgGbB/0xxQ\n",
       "/MtUgJEkORRgrDXACLoASdhA8wqRzIPIgIAPanzwbMBdRHDbMbDun8XQBrSSd+KUtAMI86AyQMAO\n",
       "0u+WlpyWJgDRlIFhXht6keaWloXgoZVirOi6wzDMy8Cb4QmVihwC6BVAA0XmUVp9EQMA2FN4Rg9l\n",
       "nEMAAAAASUVORK5CYII=\n",
       "\" style=\"display:inline;vertical-align:middle;\" /></a><br>"
      ],
      "text/plain": [
       "denial_via_contradiction: forall_{A in BOOLEAN | A => FALSE} [not](A)"
      ]
     },
     "execution_count": 4,
     "metadata": {},
     "output_type": "execute_result"
    }
   ],
   "source": [
    "denial_via_contradiction = Forall(A, Not(A), domain=Boolean, conditions=[Implies(A, FALSE)])"
   ]
  },
  {
   "cell_type": "markdown",
   "metadata": {},
   "source": [
    "**`Iff` (if and only if) is defined as implication in both directions:**"
   ]
  },
  {
   "cell_type": "code",
   "execution_count": 5,
   "metadata": {},
   "outputs": [
    {
     "data": {
      "text/html": [
       "<strong id=\"iff_def\">iff_def:</strong> <a class=\"ProveItLink\" href=\"../__pv_it/axioms/cf803a8534e2e0f4c1cb0b4fb91c17baee212bfa0/axiom_expr.ipynb\"><img src=\"data:image/png;base64,iVBORw0KGgoAAAANSUhEUgAAAXkAAAAWBAMAAADX+PE1AAAAMFBMVEX///+IiIgiIiIQEBB2dnbu\n",
       "7u5ERETMzMzc3NwyMjK6urpmZmaYmJiqqqpUVFQAAAB6qHgnAAAAAXRSTlMAQObYZgAAAAlwSFlz\n",
       "AAAOxAAADsQBlSsOGwAAA95JREFUWMPVlk1IVFEUx88b5/lGZ0YngmghNEyriMgi+pAMFy7caFOB\n",
       "4E6JKIhQClrWpBG0USGNiD6MqDZFQ4hRmk0RQQQ1CwmiQGkTFqiFfYil3XvPOffNvLnTDOamP/xx\n",
       "fOf+3jv33nM/AP6qBLlwq+Uii2OKeruVRgud/Uuza8tHEpNPgV5k2BPy4fs8jcfIQldN8eeLU1Pn\n",
       "O8BKLRs55sZMKpsBxbAfyocXzMnbvWih8KKxxVaAih8A/f9MNrqcjhk0LrJXDPmEnI9Wc/bBFFr+\n",
       "nDaVWeALQPk8wMt/Je11LqdjBo3+BGTIZXEAf55iKyELNeymqSwD7LFSSIxQSHyrJF4EKXUgD2m9\n",
       "GtCcjpFK3Zf7T8spkQw5lMKMTHpLFsMRWUM9rJLv43wqxESWbRdOFUFKHQcz6XNaNadjJMetjFPW\n",
       "b0CGvTkW25In+0GymFEYT7mvsrlaS1rB/iC64p8oTOKQ15nJMVp6g5kx1jP9Kxn+Bciw7/N8xnOy\n",
       "v0QGuAMn8bvHRGdjsR3U9mTbikmZW0gutmBMacJMUpTLOYuU28Y7/UUdA7inmI1JgsrTziwx7G4I\n",
       "qA/a23Bu5+uHuN8byKLT0KMaWdhR5wg2WJOA8E65r1R7+p1LksKXTaQzAb44czrm1iHVXhACC8Sw\n",
       "S+N+tWL8v3Fuo2BxLjVksA4PT6uS2UWRfZjRfmG5KJ0ZT/Y5pFZLjYGsEDt/hDkdc/ffc7imVw2P\n",
       "fgdk2OEILtpbm3A5JSE0481hD0BlVP7oxvoJ9GEDORKvxWfLq/Nlr0neKfsSBrJFZBjV2XNM62wD\n",
       "dkI8+wrIsKH3iYpFruBySsPelHf+ReH5MMGnWL44Mo5cQ9NiXMJRT93nkhRdlzCQ6qx6xJyOcd3H\n",
       "LnDhAKwFZNjQqHYQCx6oJj1VLz9yn9vI5Sk8o2VhJTPOZkucHc6cfOo97gwkrrtWIxnl61BbZox1\n",
       "k/7epmuHZNjQpUbrFqzEwQX7M2NN5C65x//EZ5/kIAzQySVG9brse7DOk72JzLyxZZOhCB8iTZmx\n",
       "jJuZ+ivnsD2BDFsuGbnT1k+rVS9S76Hk4Ci6ebEfwu1zmKEoUThDJ077wtSk2n18A57sTaTUQSNZ\n",
       "Ib/sRJBxY3zWYpna7XNxeLPYhwybplIkrVrVAtzl9e7rQGddUOSLvAdDp/eBiTTe3jtzuZwrkYnp\n",
       "zGJFTVWm7ToIfAN7vT4Zk1zoBTTifbBUsmhmJJMN7gL78UWnFl7M1g+595JD5AIy3FGXShbJsLMU\n",
       "9vzfTC6g0tw78FLJIhl2lm54uxlBF9BqwwAtkSySWW1iU/B/6Q9iy16YN7j9XwAAAABJRU5ErkJg\n",
       "gg==\n",
       "\" style=\"display:inline;vertical-align:middle;\" /></a><br>"
      ],
      "text/plain": [
       "iff_def: forall_{A, B} ((A <=> B) = ((A => B) and (B => A)))"
      ]
     },
     "execution_count": 5,
     "metadata": {},
     "output_type": "execute_result"
    }
   ],
   "source": [
    "iff_def = Forall((A, B), Equals(Iff(A, B), And(Implies(A, B), Implies(B, A))))"
   ]
  },
  {
   "cell_type": "code",
   "execution_count": 6,
   "metadata": {},
   "outputs": [
    {
     "name": "stdout",
     "output_type": "stream",
     "text": [
      "These axioms may now be imported from the theory package: proveit.logic.booleans.implication\n"
     ]
    }
   ],
   "source": [
    "%end axioms"
   ]
  },
  {
   "cell_type": "code",
   "execution_count": null,
   "metadata": {},
   "outputs": [],
   "source": []
  }
 ],
 "metadata": {
  "kernelspec": {
   "display_name": "Python 3",
   "language": "python",
   "name": "python3"
  },
  "language_info": {
   "codemirror_mode": {
    "name": "ipython",
    "version": 3
   },
   "file_extension": ".py",
   "mimetype": "text/x-python",
   "name": "python",
   "nbconvert_exporter": "python",
   "pygments_lexer": "ipython3",
   "version": "3.7.3"
  }
 },
 "nbformat": 4,
 "nbformat_minor": 1
}
