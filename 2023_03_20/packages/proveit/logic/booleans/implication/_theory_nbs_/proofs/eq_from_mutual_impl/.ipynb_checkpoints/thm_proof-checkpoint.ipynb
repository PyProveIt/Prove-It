{
 "cells": [
  {
   "cell_type": "markdown",
   "metadata": {},
   "source": [
    "Proof of <a class=\"ProveItLink\" href=\"../../../../../../_theory_nbs_/theory.ipynb\">proveit</a>.<a class=\"ProveItLink\" href=\"../../../../../_theory_nbs_/theory.ipynb\">logic</a>.<a class=\"ProveItLink\" href=\"../../../../_theory_nbs_/theory.ipynb\">booleans</a>.<a class=\"ProveItLink\" href=\"../../theory.ipynb\">implication</a>.<a class=\"ProveItLink\" href=\"../../theorems.ipynb#eq_from_mutual_impl\">eq_from_mutual_impl</a> theorem\n",
    "========"
   ]
  },
  {
   "cell_type": "code",
   "execution_count": 1,
   "metadata": {},
   "outputs": [],
   "source": [
    "import proveit\n",
    "theory = proveit.Theory() # the theorem's theory"
   ]
  },
  {
   "cell_type": "code",
   "execution_count": 2,
   "metadata": {},
   "outputs": [
    {
     "data": {
      "text/html": [
       "Under these <a href=\"presumptions.txt\">presumptions</a>, we begin our proof of<br><strong id=\"eq_from_mutual_impl\">eq_from_mutual_impl:</strong> <a class=\"ProveItLink\" href=\"../../../__pv_it/theorems/f10a52b8e7a4007b2382936a509145bd26bf96f00/expr.ipynb\"><img src=\"data:image/png;base64,iVBORw0KGgoAAAANSUhEUgAAAQEAAAAXBAMAAAD5Ouf8AAAAMFBMVEX///+IiIgiIiIQEBB2dnbu\n",
       "7u5ERETMzMzc3NwyMjK6urpmZmaYmJiqqqpUVFQAAAB6qHgnAAAAAXRSTlMAQObYZgAAAAlwSFlz\n",
       "AAAOxAAADsQBlSsOGwAAAxFJREFUSMe9Vk1IVFEU/ibf6804700TQUQYiS1auOmPbJExC3VT0dCu\n",
       "RWBUDxLEcdNGKK1oVWmkEgU1EeImyEUYadirRRAumlVtgiKiHwK1sEws7dxz3/9TxxavC9d3POc7\n",
       "9373nHPPHSDWkSxj70TcY5Pk0bOU/Q7Nd0J4ExMBI8ef1FTE8nxhYqK/gIQFjIj/r8fE4Ij8vI0y\n",
       "wG4gMwP0AWdElJpjYvBYfsZ+RQvkG1A5B4xThPKAUoqJwTb+q1yYiVh0UunEoiIPnTKRiqsMZAV2\n",
       "Jf5ETBlKTGoPTdp+R03NrpgYpGUhDhm/I6aKZqjvCxQfugkPgZOszC+50pAj5Fe2swMTB6R0l7Rp\n",
       "5lPDgy8fzh5b+0VYdQrTFSRZqdax6fRcw3BBxrD3Zq0sEKdQbQiCQM8jDFvF7mkk5yMkN3fC2Cs2\n",
       "oVJZnVeKXC8yWXo1EqRt/9iCbO7y6wADxZ9PG+gTEIZV8MLrR8d+Rhgcp3mIeGtUD0ZWFuLgdlki\n",
       "Q9CnkKbcEAPlaICBDTEsD+gXnMZmw2wGahb4HmEgovKSLJWCe89T1mVvSa8SDluoYk3uUmOAgQ3B\n",
       "Zw/oF5DpDMBkFtI0t4TrQBO1OUkEjWoSDvYJXQKP2Ku7avwTVN4zO7qz4GcgIIpJ41rBAboeaCL9\n",
       "qTr/SpRgOiTu0bwdDkGCepQ2K1Io1j7PrAaxjm3PoH5FpSVj0LHRz8CBAPuLNtD1sCtgJAATVy0p\n",
       "wtwWfgNTpL3b51zYDB/0QcMkXyJarLuo95tmq6gDxc/AgdD9abSBrofdaz/k/TCtGmrbbB6vFnpD\n",
       "/ahtfuJLKyeq6IaFlmEm9cD9gpaTMVASPgYM4SyYOQfoenAWzBP+lWhsLds6zrkSZWtNSc0h+QNq\n",
       "rd2jiEG7jwFDWDogjstAz4OjbgVg/O6s7O2idOyD+uSGVo8X0w3D5H+RTmFc7TUtj4GEcHBFj5RA\n",
       "z0OMjgBMlGK530CRV9lw21qT2eKpQzB1MY9Fm7Za7tmPUBxYHLfMOgPL79BVhsGGsML6ZwYW/suI\n",
       "9RftX7dq5cX8XexIAAAAAElFTkSuQmCC\n",
       "\" style=\"display:inline;vertical-align:middle;\" /></a><br>(see <a class=\"ProveItLink\" href=\"../../../__pv_it/theorems/07a08a70dfd2838dc22520d3e64efd00ac4a6e300/dependencies.ipynb\">dependencies</a>)<br>"
      ],
      "text/plain": [
       "<IPython.core.display.HTML object>"
      ]
     },
     "metadata": {},
     "output_type": "display_data"
    }
   ],
   "source": [
    "%proving eq_from_mutual_impl"
   ]
  },
  {
   "cell_type": "code",
   "execution_count": null,
   "metadata": {},
   "outputs": [
    {
     "name": "stdout",
     "output_type": "stream",
     "text": [
      "proveit.logic.booleans.implication.eq_from_mutual_impl has been proven.\n"
     ]
    }
   ],
   "source": [
    "%qed"
   ]
  },
  {
   "cell_type": "code",
   "execution_count": null,
   "metadata": {},
   "outputs": [],
   "source": []
  }
 ],
 "metadata": {
  "kernelspec": {
   "display_name": "Python 3",
   "language": "python",
   "name": "python3"
  },
  "language_info": {
   "codemirror_mode": {
    "name": "ipython",
    "version": 3
   },
   "file_extension": ".py",
   "mimetype": "text/x-python",
   "name": "python",
   "nbconvert_exporter": "python",
   "pygments_lexer": "ipython3",
   "version": "3.7.3"
  }
 },
 "nbformat": 4,
 "nbformat_minor": 1
}
