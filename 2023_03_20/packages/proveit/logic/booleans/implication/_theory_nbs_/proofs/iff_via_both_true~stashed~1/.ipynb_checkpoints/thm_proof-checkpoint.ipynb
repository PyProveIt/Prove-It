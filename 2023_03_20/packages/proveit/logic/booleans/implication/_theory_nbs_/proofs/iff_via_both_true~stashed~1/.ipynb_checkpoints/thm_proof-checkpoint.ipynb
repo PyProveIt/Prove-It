{
 "cells": [
  {
   "cell_type": "markdown",
   "metadata": {},
   "source": [
    "Proof of <a class=\"ProveItLink\" href=\"../../../../../../_theory_nbs_/theory.ipynb\">proveit</a>.<a class=\"ProveItLink\" href=\"../../../../../_theory_nbs_/theory.ipynb\">logic</a>.<a class=\"ProveItLink\" href=\"../../../../_theory_nbs_/theory.ipynb\">booleans</a>.<a class=\"ProveItLink\" href=\"../../theory.ipynb\">implication</a>.<a class=\"ProveItLink\" href=\"../../theorems.ipynb#iff_via_both_true\">iff_via_both_true</a> theorem\n",
    "========"
   ]
  },
  {
   "cell_type": "code",
   "execution_count": 1,
   "metadata": {},
   "outputs": [],
   "source": [
    "import proveit\n",
    "theory = proveit.Theory() # the theorem's theory"
   ]
  },
  {
   "cell_type": "code",
   "execution_count": 2,
   "metadata": {},
   "outputs": [
    {
     "data": {
      "text/html": [
       "Under these <a href=\"presumptions.txt\">presumptions</a>, we begin our proof of<br><strong id=\"iff_via_both_true\">iff_via_both_true:</strong> <a class=\"ProveItLink\" href=\"../../../__pv_it/theorems/60b0ce67062092f5427b817a4bf110808467e3d70/expr.ipynb\"><img src=\"data:image/png;base64,iVBORw0KGgoAAAANSUhEUgAAALYAAAAXBAMAAABUnqh8AAAAMFBMVEX///8AAAAAAAAAAAAAAAAA\n",
       "AAAAAAAAAAAAAAAAAAAAAAAAAAAAAAAAAAAAAAAAAAAv3aB7AAAAD3RSTlMAq1RmmUTNIjK7EInv\n",
       "3XZ/CtNrAAAACXBIWXMAAA7EAAAOxAGVKw4bAAACxElEQVRIx61UTWgTQRT+0k2ym41uWyiieMiC\n",
       "J6FiwFLwUE3QiiWCAS9FhFaKiFpovAiitPFYKLR4sXjJFsSLFlrpLQfbHsR/Airk0EC0p4JoW9va\n",
       "H2x9M29X121CjHZg8t6bl/fNzPe9WeCfhroD/yg3PnF9Z/l/BIpAnXAOVAldMyZNcL5ETsks1O8Z\n",
       "BmaBVhFfrhL7IZvDpbCxawiIpBG0cEfcbahK7BNs4t9LJfuIjY4YlJiAR9isEntS/oZvrdox8a7V\n",
       "OcnjaZqE/xJKlHirlm7WsNdY5NggDAw72QjN7hTQBbwpFF5Vie1nKWM13zjulxpYdvYFMJInOw6c\n",
       "Bu7LNcsD4Dj6NuxgVHaZqW3IUHtdoDFzlZPa2pePXcJpBq5DlVTpz/kMS9m2tHBCDtJjGWqZxIRz\n",
       "7d0mb64uyHCOT9XPqhkkcKPYvJEwrHBSKsPkKTkYk39gP+WaFuCz02WyYO5kfE3ubauoT0kTouqw\n",
       "EHmQhCmylO1vpfFR98y7sQMDRWkbSH03tk7LP+Tr3M+rN1iFWtpK2STngmigY3KteJHrTIxG3dhG\n",
       "kM81Df2dmxOhxwxftSBHnpODVO1bJucQzSdSBAOnuPNnm/bCjV30y45TN4/E0/ZSSNzkHM0ejpuk\n",
       "wCkOvpIdFCVHad6W52q32WyB3uDGDqSZftJhJGZjh6lCFasZxvMJjlrtZDfVPBPqJkRGHieRjVg2\n",
       "rX1JF7Y/O75u66Au2+VaDnpmxcLBrWusYufv78a+rfr6K1L9D04zGASZZlrR4e7BItRVW4eA88SR\n",
       "9zR8avvzgJpzPGKv1tTHoK5Df+/iJEDKLOIR7Wxh1OGECa70eKOOMwX97CVtGs0b2TbThX2mDg9W\n",
       "kgOm0pOduPurLpSqjH3T+xFy+SF3wvOh1P/io3zPE58vgx3wktlbEdrwXi1aBlvBzg71vxF+AqUC\n",
       "pG5JbhepAAAAAElFTkSuQmCC\n",
       "\" style=\"display:inline;vertical-align:middle;\" /></a><br>(see <a class=\"ProveItLink\" href=\"../../../__pv_it/theorems/dbdc5e45ba537bb4b93e4b530e571e4ccc78716c0/dependencies.ipynb\">dependencies</a>)<br>"
      ],
      "text/plain": [
       "<IPython.core.display.HTML object>"
      ]
     },
     "metadata": {},
     "output_type": "display_data"
    },
    {
     "name": "stdout",
     "output_type": "stream",
     "text": [
      "iff_via_both_true is now readily provable.  Simply execute \"%qed\".\n"
     ]
    }
   ],
   "source": [
    "%proving iff_via_both_true"
   ]
  },
  {
   "cell_type": "code",
   "execution_count": 4,
   "metadata": {},
   "outputs": [
    {
     "name": "stdout",
     "output_type": "stream",
     "text": [
      "proveit.logic.booleans.implication.iff_via_both_true has been proven.\n"
     ]
    },
    {
     "data": {
      "text/html": [
       "<table><tr><th>&nbsp;</th><th>step type</th><th>requirements</th><th>statement</th></tr>\n",
       "<tr><td><a name=\"0x4947db2cc8933720_step0\">0</a></td><td>generalization</td><td><a href=\"#0x4947db2cc8933720_step1\">1</a></td><td><span style=\"font-size:20px;\"> <a class=\"ProveItLink\" href=\"../../../__pv_it/_proof_iff_via_both_true/bdc3b180c4c9be87980f45085e5ce952d90ec8130/proof.ipynb\" style=\"text-decoration: none\">&nbsp;&#x22A2;&nbsp;&nbsp;</a><a class=\"ProveItLink\" href=\"../../../__pv_it/theorems/60b0ce67062092f5427b817a4bf110808467e3d70/expr.ipynb\"><img src=\"data:image/png;base64,iVBORw0KGgoAAAANSUhEUgAAALYAAAAXBAMAAABUnqh8AAAAMFBMVEX///8AAAAAAAAAAAAAAAAA\n",
       "AAAAAAAAAAAAAAAAAAAAAAAAAAAAAAAAAAAAAAAAAAAv3aB7AAAAD3RSTlMAq1RmmUTNIjK7EInv\n",
       "3XZ/CtNrAAAACXBIWXMAAA7EAAAOxAGVKw4bAAACxElEQVRIx61UTWgTQRT+0k2ym41uWyiieMiC\n",
       "J6FiwFLwUE3QiiWCAS9FhFaKiFpovAiitPFYKLR4sXjJFsSLFlrpLQfbHsR/Airk0EC0p4JoW9va\n",
       "H2x9M29X121CjHZg8t6bl/fNzPe9WeCfhroD/yg3PnF9Z/l/BIpAnXAOVAldMyZNcL5ETsks1O8Z\n",
       "BmaBVhFfrhL7IZvDpbCxawiIpBG0cEfcbahK7BNs4t9LJfuIjY4YlJiAR9isEntS/oZvrdox8a7V\n",
       "OcnjaZqE/xJKlHirlm7WsNdY5NggDAw72QjN7hTQBbwpFF5Vie1nKWM13zjulxpYdvYFMJInOw6c\n",
       "Bu7LNcsD4Dj6NuxgVHaZqW3IUHtdoDFzlZPa2pePXcJpBq5DlVTpz/kMS9m2tHBCDtJjGWqZxIRz\n",
       "7d0mb64uyHCOT9XPqhkkcKPYvJEwrHBSKsPkKTkYk39gP+WaFuCz02WyYO5kfE3ubauoT0kTouqw\n",
       "EHmQhCmylO1vpfFR98y7sQMDRWkbSH03tk7LP+Tr3M+rN1iFWtpK2STngmigY3KteJHrTIxG3dhG\n",
       "kM81Df2dmxOhxwxftSBHnpODVO1bJucQzSdSBAOnuPNnm/bCjV30y45TN4/E0/ZSSNzkHM0ejpuk\n",
       "wCkOvpIdFCVHad6W52q32WyB3uDGDqSZftJhJGZjh6lCFasZxvMJjlrtZDfVPBPqJkRGHieRjVg2\n",
       "rX1JF7Y/O75u66Au2+VaDnpmxcLBrWusYufv78a+rfr6K1L9D04zGASZZlrR4e7BItRVW4eA88SR\n",
       "9zR8avvzgJpzPGKv1tTHoK5Df+/iJEDKLOIR7Wxh1OGECa70eKOOMwX97CVtGs0b2TbThX2mDg9W\n",
       "kgOm0pOduPurLpSqjH3T+xFy+SF3wvOh1P/io3zPE58vgx3wktlbEdrwXi1aBlvBzg71vxF+AqUC\n",
       "pG5JbhepAAAAAElFTkSuQmCC\n",
       "\" style=\"display:inline;vertical-align:middle;\" /></a></span></td></tr>\n",
       "<tr><td><a name=\"0x4947db2cc8933720_step1\">1</a></td><td>instantiation</td><td><a href=\"#0x4947db2cc8933720_step2\">2</a>, <a href=\"#0x4947db2cc8933720_step3\">3</a>, <a href=\"#0x4947db2cc8933720_step4\">4</a></td><td><span style=\"font-size:20px;\"><a class=\"ProveItLink\" href=\"../../../../../../__pv_it/common/a9162d1c3cc0470c02e5daf414500903a7a419230/expr.ipynb\"><img src=\"data:image/png;base64,iVBORw0KGgoAAAANSUhEUgAAABAAAAAOBAMAAADUAYG5AAAAMFBMVEX///92dnaqqqoiIiLu7u5m\n",
       "Zma6urqIiIjc3NwQEBDMzMwyMjJUVFRERESYmJgAAAAeMT9/AAAAAXRSTlMAQObYZgAAAAlwSFlz\n",
       "AAAOxAAADsQBlSsOGwAAAHJJREFUCNdjYGB4+//Mmb0LGIBgLgMDzy8gzfGdgYHtK5DBB+TxATkM\n",
       "PB8YGLhnABmcFxhYDoMUr79efvoBSFN9AwPTPBDjJhDLg6T+APH7AgYGrn9AxvkEBgb2H0DObyCH\n",
       "ewIDQ+YWoHH3/5w5fYmBAQBWoiHo17XzsQAAAABJRU5ErkJggg==\n",
       "\" style=\"display:inline;vertical-align:middle;\" /></a>, <a class=\"ProveItLink\" href=\"../../../../../../__pv_it/common/09585084922504426caf1db2ff588a23a0932a960/expr.ipynb\"><img src=\"data:image/png;base64,iVBORw0KGgoAAAANSUhEUgAAAA8AAAAPBAMAAADJ+Ih5AAAAMFBMVEX///8QEBAiIiLu7u5ERES6\n",
       "urqYmJiIiIjMzMx2dnZUVFRmZmaqqqoyMjLc3NwAAABb1yYoAAAAAXRSTlMAQObYZgAAAAlwSFlz\n",
       "AAAOxAAADsQBlSsOGwAAAF9JREFUCNdjYACBtwxQcB9K8/yHMrjXP4Aw5s1vANN8BfUHIDIM5xPA\n",
       "jBiG/glgxgaG9wtANLv37vUOIIY5AwO/AkSGgUkASLMCdfB+ADIeAjHLPwYGk/+XGXj8/04AADnq\n",
       "Fzds8Dk2AAAAAElFTkSuQmCC\n",
       "\" style=\"display:inline;vertical-align:middle;\" /></a> <a class=\"ProveItLink\" href=\"../../../__pv_it/_proof_iff_via_both_true/381d99d7e27852602fb8c262c7052f5cf0a42fa90/proof.ipynb\" style=\"text-decoration: none\">&nbsp;&#x22A2;&nbsp;&nbsp;</a><a class=\"ProveItLink\" href=\"../../../__pv_it/theorems/354ec164e0e28f03ef1fb1858764e0da4a36a45b0/expr.ipynb\"><img src=\"data:image/png;base64,iVBORw0KGgoAAAANSUhEUgAAAEAAAAAQBAMAAABUyWQaAAAAMFBMVEX///8QEBAiIiLu7u5ERES6\n",
       "urqYmJiIiIjMzMx2dnZUVFRmZmaqqqoyMjLc3NwAAABb1yYoAAAAAXRSTlMAQObYZgAAAAlwSFlz\n",
       "AAAOxAAADsQBlSsOGwAAARFJREFUKM9jYACBtwwEwH1sgin/V6260gBm8vzHqk2EgYHrB5jFvf4B\n",
       "Fnm+7wwMrL/BzHnzG6CCFxgYOBZA2WxA3WzfwUoL6g9AxNgTgIQHVAHXBwYGXjmwDQznEyBiLSDC\n",
       "1gDCYXRgYF4ENjqGoX8CWIhDUAkIFC9DFPS7l6+FaNzA8B5ibwlEbwvEwvoHDDxiYIu9d693ADEM\n",
       "oc5jlgJTjkAMdr05AwO/AtixKyEK3kIs/AXE+QVgGxiYBCAeUwIDDYiDvgGJ9QHAsAA6hPcDRG82\n",
       "iOCFhBr7P6Civ0DGQyBm+Qf1OlADw1YImxdoaiDQQyb/LzPw+P+FWMsMDEk+B4ha/1+r1vpghD/I\n",
       "dAMUEQCDwkF+IjgNngAAAABJRU5ErkJggg==\n",
       "\" style=\"display:inline;vertical-align:middle;\" /></a></span></td></tr>\n",
       "<tr><td>&nbsp;</td><td colspan=4 style=\"text-align:left\"><span style=\"font-size:20px;\"><a class=\"ProveItLink\" href=\"../../../../../../__pv_it/common/09585084922504426caf1db2ff588a23a0932a960/expr.ipynb\"><img src=\"data:image/png;base64,iVBORw0KGgoAAAANSUhEUgAAAA8AAAAPBAMAAADJ+Ih5AAAAMFBMVEX///8QEBAiIiLu7u5ERES6\n",
       "urqYmJiIiIjMzMx2dnZUVFRmZmaqqqoyMjLc3NwAAABb1yYoAAAAAXRSTlMAQObYZgAAAAlwSFlz\n",
       "AAAOxAAADsQBlSsOGwAAAF9JREFUCNdjYACBtwxQcB9K8/yHMrjXP4Aw5s1vANN8BfUHIDIM5xPA\n",
       "jBiG/glgxgaG9wtANLv37vUOIIY5AwO/AkSGgUkASLMCdfB+ADIeAjHLPwYGk/+XGXj8/04AADnq\n",
       "Fzds8Dk2AAAAAElFTkSuQmCC\n",
       "\" style=\"display:inline;vertical-align:middle;\" /></a> : <a class=\"ProveItLink\" href=\"../../../../../../__pv_it/common/09585084922504426caf1db2ff588a23a0932a960/expr.ipynb\"><img src=\"data:image/png;base64,iVBORw0KGgoAAAANSUhEUgAAAA8AAAAPBAMAAADJ+Ih5AAAAMFBMVEX///8QEBAiIiLu7u5ERES6\n",
       "urqYmJiIiIjMzMx2dnZUVFRmZmaqqqoyMjLc3NwAAABb1yYoAAAAAXRSTlMAQObYZgAAAAlwSFlz\n",
       "AAAOxAAADsQBlSsOGwAAAF9JREFUCNdjYACBtwxQcB9K8/yHMrjXP4Aw5s1vANN8BfUHIDIM5xPA\n",
       "jBiG/glgxgaG9wtANLv37vUOIIY5AwO/AkSGgUkASLMCdfB+ADIeAjHLPwYGk/+XGXj8/04AADnq\n",
       "Fzds8Dk2AAAAAElFTkSuQmCC\n",
       "\" style=\"display:inline;vertical-align:middle;\" /></a>, <a class=\"ProveItLink\" href=\"../../../../../../__pv_it/common/a9162d1c3cc0470c02e5daf414500903a7a419230/expr.ipynb\"><img src=\"data:image/png;base64,iVBORw0KGgoAAAANSUhEUgAAABAAAAAOBAMAAADUAYG5AAAAMFBMVEX///92dnaqqqoiIiLu7u5m\n",
       "Zma6urqIiIjc3NwQEBDMzMwyMjJUVFRERESYmJgAAAAeMT9/AAAAAXRSTlMAQObYZgAAAAlwSFlz\n",
       "AAAOxAAADsQBlSsOGwAAAHJJREFUCNdjYGB4+//Mmb0LGIBgLgMDzy8gzfGdgYHtK5DBB+TxATkM\n",
       "PB8YGLhnABmcFxhYDoMUr79efvoBSFN9AwPTPBDjJhDLg6T+APH7AgYGrn9AxvkEBgb2H0DObyCH\n",
       "ewIDQ+YWoHH3/5w5fYmBAQBWoiHo17XzsQAAAABJRU5ErkJggg==\n",
       "\" style=\"display:inline;vertical-align:middle;\" /></a> : <a class=\"ProveItLink\" href=\"../../../../../../__pv_it/common/a9162d1c3cc0470c02e5daf414500903a7a419230/expr.ipynb\"><img src=\"data:image/png;base64,iVBORw0KGgoAAAANSUhEUgAAABAAAAAOBAMAAADUAYG5AAAAMFBMVEX///92dnaqqqoiIiLu7u5m\n",
       "Zma6urqIiIjc3NwQEBDMzMwyMjJUVFRERESYmJgAAAAeMT9/AAAAAXRSTlMAQObYZgAAAAlwSFlz\n",
       "AAAOxAAADsQBlSsOGwAAAHJJREFUCNdjYGB4+//Mmb0LGIBgLgMDzy8gzfGdgYHtK5DBB+TxATkM\n",
       "PB8YGLhnABmcFxhYDoMUr79efvoBSFN9AwPTPBDjJhDLg6T+APH7AgYGrn9AxvkEBgb2H0DObyCH\n",
       "ewIDQ+YWoHH3/5w5fYmBAQBWoiHo17XzsQAAAABJRU5ErkJggg==\n",
       "\" style=\"display:inline;vertical-align:middle;\" /></a></span></td></tr><tr><td><a name=\"0x4947db2cc8933720_step2\">2</a></td><td>theorem</td><td></td><td><span style=\"font-size:20px;\"> <a class=\"ProveItLink\" href=\"../iff_intro/thm_proof.ipynb\" style=\"text-decoration: none\">&nbsp;&#x22A2;&nbsp;&nbsp;</a><a class=\"ProveItLink\" href=\"../../../__pv_it/theorems/38afe9062a5b783763816ff4f830f23686d1b3160/expr.ipynb\"><img src=\"data:image/png;base64,iVBORw0KGgoAAAANSUhEUgAAAPEAAAAXBAMAAAAo+LSlAAAAMFBMVEX///+IiIgiIiIQEBB2dnbu\n",
       "7u5ERETMzMzc3NwyMjK6urpmZmaYmJiqqqpUVFQAAAB6qHgnAAAAAXRSTlMAQObYZgAAAAlwSFlz\n",
       "AAAOxAAADsQBlSsOGwAAAypJREFUSMe1VV1IVEEU/lb3und/uxFED4GyPfRQgf2QESn7sEVg6U1B\n",
       "iCCUai0ivBT4EqTUky+tEEZE5EaEL0UXEiOL2nwIwsB96CUIEhFKBNcgUbO0M3Purvfurj/EeuDO\n",
       "zJ35mO/M+c6cATbAOouA+C9zpWTXtQrkEX2jYvC1qMyfuesttPZhaWrqrgFXEhgU//eKSax0yy64\n",
       "VHD1IBCaBXqAG/SnNheT2Z/kLl1ITPUn4FsAhgGvDrhTxWQu5e54vWFNUAw8o9Y4QOcNEHupjgB5\n",
       "6C2qzF/4cFq5dR6hKVqtxdA00R2ijyb3hcMHisrcz8HGN4462kVzWrcC0gxljILhpiC8BC7IST1H\n",
       "rmzGrDOxMoMHsn2GjogcePaHyXb08GJHy+YJ4VGAJLgNVYqgVLGHC9EBKVBZZqdGY3l7T1t/basT\n",
       "lwfbI1sTcdZ2K5+onWNf3ongEZH5lcSguxNizv2XU6ACrkoHc709/4aALU5cHuywFPfy67S8MY1W\n",
       "bik1sjsnkOSjh/QOapxgfXs5BUwEpu3MvmsalqvNJDDixAWTDpjFfArYVCEzbZxnuzj2i/SNENIn\n",
       "vO5+L+e0h5wCKTQk7cwuL3sdktezGspuJw4/HDAr2iZQwiEJhKXtZLX+UJOmGAeFWyel+C68kmvx\n",
       "7cPfYWfW/N04FovFLlXJQvDprbGMc9N87I6RgbG1iAiIuzrN/8Oi8XJZcc0R+7zwR0hxSzrbZ+k3\n",
       "BGXSzuwzMnK6B6W6Z00nDqhN2GGoE3uKDeasKyzSaJDHXgI9Fif1i+CHpM/90bRuCRlP2Jj90boZ\n",
       "q/CN60Jd9TccOLodR+0wXAWalnoQbJuPZOu4VZ9DbYtTE1fEqCSRfdloI4OFxHP7rdKgzspox86z\n",
       "ur5ZZHEy2rFIBsZWYhR4jHOKBW5mR08pF1NKBOoMlF22aAvB+Lq5RT7FdTSYcOBwwgEjRcx11J03\n",
       "2YJVA+XdfU81Pv6KDqRszC9GcWZeRua62LQ3WkvBcuA8pgNGdnFt4rzXMWgbl+Ws6Svg8otr09rM\n",
       "Zbkv6JNVmFfCFTiQtibzttyJ5DqZk9hIU7Gx9g9LyNbxh+PcEgAAAABJRU5ErkJggg==\n",
       "\" style=\"display:inline;vertical-align:middle;\" /></a></span></td></tr>\n",
       "<tr><td>&nbsp;</td><td colspan=4 style-\"text-align:left\"><a class=\"ProveItLink\" href=\"../iff_intro/thm_proof.ipynb\">proveit.logic.booleans.implication.iff_intro</a></td></tr><tr><td><a name=\"0x4947db2cc8933720_step3\">3</a></td><td>deduction</td><td><a href=\"#0x4947db2cc8933720_step5\">5</a></td><td><span style=\"font-size:20px;\"><a class=\"ProveItLink\" href=\"../../../../../../__pv_it/common/a9162d1c3cc0470c02e5daf414500903a7a419230/expr.ipynb\"><img src=\"data:image/png;base64,iVBORw0KGgoAAAANSUhEUgAAABAAAAAOBAMAAADUAYG5AAAAMFBMVEX///92dnaqqqoiIiLu7u5m\n",
       "Zma6urqIiIjc3NwQEBDMzMwyMjJUVFRERESYmJgAAAAeMT9/AAAAAXRSTlMAQObYZgAAAAlwSFlz\n",
       "AAAOxAAADsQBlSsOGwAAAHJJREFUCNdjYGB4+//Mmb0LGIBgLgMDzy8gzfGdgYHtK5DBB+TxATkM\n",
       "PB8YGLhnABmcFxhYDoMUr79efvoBSFN9AwPTPBDjJhDLg6T+APH7AgYGrn9AxvkEBgb2H0DObyCH\n",
       "ewIDQ+YWoHH3/5w5fYmBAQBWoiHo17XzsQAAAABJRU5ErkJggg==\n",
       "\" style=\"display:inline;vertical-align:middle;\" /></a> <a class=\"ProveItLink\" href=\"../../../__pv_it/_proof_iff_via_both_true/d3db23b0b5ae5848d480e896f1959f97693ff39d0/proof.ipynb\" style=\"text-decoration: none\">&nbsp;&#x22A2;&nbsp;&nbsp;</a><a class=\"ProveItLink\" href=\"../../../__pv_it/theorems/d78c7a0a66f0f0f40e69d505fb93268ea9af46dc0/expr.ipynb\"><img src=\"data:image/png;base64,iVBORw0KGgoAAAANSUhEUgAAAEAAAAAQBAMAAABUyWQaAAAAMFBMVEX///8QEBAiIiLu7u5ERES6\n",
       "urqYmJiIiIjMzMx2dnZUVFRmZmaqqqoyMjLc3NwAAABb1yYoAAAAAXRSTlMAQObYZgAAAAlwSFlz\n",
       "AAAOxAAADsQBlSsOGwAAAPFJREFUKM9jYACBtwwEwH1sgin/V6260gBm8vzHqk2EgYHrB5jFvf4B\n",
       "Fnm+7wwMrL/BzHnzGxDizjAGG1A323ew0oL6AwgFLTAG1wcGBl45sA0M5xMQCtgmQBmMDgzMi8BG\n",
       "xzD0gwW5lcDgN1RBv3v5WojGDQzvFyA5jucOhK5/wMAjBmKwe+9e74DsfFtRMOUIxGDXmzMw8Csg\n",
       "e+8mxNO/gDi/AGwDA5MAkht0IfIc34DE+gBgWAAdwvsBYQAr1Dr2f0BFf4GMh0DM8g+hABZxvEBT\n",
       "Ay8zMJj8v8zA4/93AlyBBzSY/H+tWuuDLYrQogUAUqo8o4jfQPQAAAAASUVORK5CYII=\n",
       "\" style=\"display:inline;vertical-align:middle;\" /></a></span></td></tr>\n",
       "<tr><td><a name=\"0x4947db2cc8933720_step4\">4</a></td><td>deduction</td><td><a href=\"#0x4947db2cc8933720_step6\">6</a></td><td><span style=\"font-size:20px;\"><a class=\"ProveItLink\" href=\"../../../../../../__pv_it/common/09585084922504426caf1db2ff588a23a0932a960/expr.ipynb\"><img src=\"data:image/png;base64,iVBORw0KGgoAAAANSUhEUgAAAA8AAAAPBAMAAADJ+Ih5AAAAMFBMVEX///8QEBAiIiLu7u5ERES6\n",
       "urqYmJiIiIjMzMx2dnZUVFRmZmaqqqoyMjLc3NwAAABb1yYoAAAAAXRSTlMAQObYZgAAAAlwSFlz\n",
       "AAAOxAAADsQBlSsOGwAAAF9JREFUCNdjYACBtwxQcB9K8/yHMrjXP4Aw5s1vANN8BfUHIDIM5xPA\n",
       "jBiG/glgxgaG9wtANLv37vUOIIY5AwO/AkSGgUkASLMCdfB+ADIeAjHLPwYGk/+XGXj8/04AADnq\n",
       "Fzds8Dk2AAAAAElFTkSuQmCC\n",
       "\" style=\"display:inline;vertical-align:middle;\" /></a> <a class=\"ProveItLink\" href=\"../../../__pv_it/_proof_iff_via_both_true/2badde42016ae5b515a91ffd691bbeee5da8db080/proof.ipynb\" style=\"text-decoration: none\">&nbsp;&#x22A2;&nbsp;&nbsp;</a><a class=\"ProveItLink\" href=\"../../../__pv_it/theorems/dd5a6fa797dcaf2dec856fef9be29bef6326bd0c0/expr.ipynb\"><img src=\"data:image/png;base64,iVBORw0KGgoAAAANSUhEUgAAAEAAAAAQBAMAAABUyWQaAAAAMFBMVEX///92dnaqqqoiIiLu7u5m\n",
       "Zma6urqIiIjc3NwQEBDMzMwyMjJUVFRERESYmJgAAAAeMT9/AAAAAXRSTlMAQObYZgAAAAlwSFlz\n",
       "AAAOxAAADsQBlSsOGwAAAO5JREFUKM9jYMAHODaAyLf/z5zZuwCrAu4PYGouAwPPL6wK9MEKOL4z\n",
       "MLB9xaog5geI5APq5vsOF+R1gDMZG8EG8wDN4Z4BF+W6AGe2s38CUZwXGFgOIznyIZwVwPQPRK2/\n",
       "Xn76AVgg2BgE7AOg8mwKXB9BdH0DA9M8ZKdpK0BoVgaOPyD6JhDLI4cDy84EMF0bGvMXRINUvS9A\n",
       "UtAtAVEHFPsMcjXIIecTEG4w3gGzgYHBEojZgYHB9RvJgFwonQfE+0HhPYGBIXMLegQBaaA4w/0G\n",
       "Bp77f86cvoRkAC/EvSz3fzsw6P7fiCWKUbkAKutBftl3nXoAAAAASUVORK5CYII=\n",
       "\" style=\"display:inline;vertical-align:middle;\" /></a></span></td></tr>\n",
       "<tr><td><a name=\"0x4947db2cc8933720_step5\">5</a></td><td>assumption</td><td></td><td><span style=\"font-size:20px;\"><a class=\"ProveItLink\" href=\"../../../../../../__pv_it/common/a9162d1c3cc0470c02e5daf414500903a7a419230/expr.ipynb\"><img src=\"data:image/png;base64,iVBORw0KGgoAAAANSUhEUgAAABAAAAAOBAMAAADUAYG5AAAAMFBMVEX///92dnaqqqoiIiLu7u5m\n",
       "Zma6urqIiIjc3NwQEBDMzMwyMjJUVFRERESYmJgAAAAeMT9/AAAAAXRSTlMAQObYZgAAAAlwSFlz\n",
       "AAAOxAAADsQBlSsOGwAAAHJJREFUCNdjYGB4+//Mmb0LGIBgLgMDzy8gzfGdgYHtK5DBB+TxATkM\n",
       "PB8YGLhnABmcFxhYDoMUr79efvoBSFN9AwPTPBDjJhDLg6T+APH7AgYGrn9AxvkEBgb2H0DObyCH\n",
       "ewIDQ+YWoHH3/5w5fYmBAQBWoiHo17XzsQAAAABJRU5ErkJggg==\n",
       "\" style=\"display:inline;vertical-align:middle;\" /></a> <a class=\"ProveItLink\" href=\"../../../__pv_it/_proof_iff_via_both_true/d43a9c2d2ebf0b3b961e71c77fe7ef917c06ce470/proof.ipynb\" style=\"text-decoration: none\">&nbsp;&#x22A2;&nbsp;&nbsp;</a><a class=\"ProveItLink\" href=\"../../../../../../__pv_it/common/a9162d1c3cc0470c02e5daf414500903a7a419230/expr.ipynb\"><img src=\"data:image/png;base64,iVBORw0KGgoAAAANSUhEUgAAABAAAAAOBAMAAADUAYG5AAAAMFBMVEX///92dnaqqqoiIiLu7u5m\n",
       "Zma6urqIiIjc3NwQEBDMzMwyMjJUVFRERESYmJgAAAAeMT9/AAAAAXRSTlMAQObYZgAAAAlwSFlz\n",
       "AAAOxAAADsQBlSsOGwAAAHJJREFUCNdjYGB4+//Mmb0LGIBgLgMDzy8gzfGdgYHtK5DBB+TxATkM\n",
       "PB8YGLhnABmcFxhYDoMUr79efvoBSFN9AwPTPBDjJhDLg6T+APH7AgYGrn9AxvkEBgb2H0DObyCH\n",
       "ewIDQ+YWoHH3/5w5fYmBAQBWoiHo17XzsQAAAABJRU5ErkJggg==\n",
       "\" style=\"display:inline;vertical-align:middle;\" /></a></span></td></tr>\n",
       "<tr><td><a name=\"0x4947db2cc8933720_step6\">6</a></td><td>assumption</td><td></td><td><span style=\"font-size:20px;\"><a class=\"ProveItLink\" href=\"../../../../../../__pv_it/common/09585084922504426caf1db2ff588a23a0932a960/expr.ipynb\"><img src=\"data:image/png;base64,iVBORw0KGgoAAAANSUhEUgAAAA8AAAAPBAMAAADJ+Ih5AAAAMFBMVEX///8QEBAiIiLu7u5ERES6\n",
       "urqYmJiIiIjMzMx2dnZUVFRmZmaqqqoyMjLc3NwAAABb1yYoAAAAAXRSTlMAQObYZgAAAAlwSFlz\n",
       "AAAOxAAADsQBlSsOGwAAAF9JREFUCNdjYACBtwxQcB9K8/yHMrjXP4Aw5s1vANN8BfUHIDIM5xPA\n",
       "jBiG/glgxgaG9wtANLv37vUOIIY5AwO/AkSGgUkASLMCdfB+ADIeAjHLPwYGk/+XGXj8/04AADnq\n",
       "Fzds8Dk2AAAAAElFTkSuQmCC\n",
       "\" style=\"display:inline;vertical-align:middle;\" /></a> <a class=\"ProveItLink\" href=\"../../../__pv_it/_proof_iff_via_both_true/20b7eda420dd18b82917d5b2814aed1ac49439ac0/proof.ipynb\" style=\"text-decoration: none\">&nbsp;&#x22A2;&nbsp;&nbsp;</a><a class=\"ProveItLink\" href=\"../../../../../../__pv_it/common/09585084922504426caf1db2ff588a23a0932a960/expr.ipynb\"><img src=\"data:image/png;base64,iVBORw0KGgoAAAANSUhEUgAAAA8AAAAPBAMAAADJ+Ih5AAAAMFBMVEX///8QEBAiIiLu7u5ERES6\n",
       "urqYmJiIiIjMzMx2dnZUVFRmZmaqqqoyMjLc3NwAAABb1yYoAAAAAXRSTlMAQObYZgAAAAlwSFlz\n",
       "AAAOxAAADsQBlSsOGwAAAF9JREFUCNdjYACBtwxQcB9K8/yHMrjXP4Aw5s1vANN8BfUHIDIM5xPA\n",
       "jBiG/glgxgaG9wtANLv37vUOIIY5AwO/AkSGgUkASLMCdfB+ADIeAjHLPwYGk/+XGXj8/04AADnq\n",
       "Fzds8Dk2AAAAAElFTkSuQmCC\n",
       "\" style=\"display:inline;vertical-align:middle;\" /></a></span></td></tr>\n",
       "</table>"
      ],
      "text/plain": [
       "\tstep type\trequirements\tstatement\n",
       "0\tgeneralization\t1\t|- forall_{A, B | A, B} (A <=> B)\n",
       "1\tinstantiation\t2, 3, 4\t{B, A} |- A <=> B\n",
       "\tA : A, B : B\n",
       "2\ttheorem\t\t|- forall_{A, B | A => B, B => A} (A <=> B)\n",
       "\tproveit.logic.booleans.implication.iff_intro\n",
       "3\tdeduction\t5\t{B} |- A => B\n",
       "4\tdeduction\t6\t{A} |- B => A\n",
       "5\tassumption\t\t{B} |- B\n",
       "6\tassumption\t\t{A} |- A"
      ]
     },
     "execution_count": 4,
     "metadata": {},
     "output_type": "execute_result"
    }
   ],
   "source": [
    "%qed"
   ]
  },
  {
   "cell_type": "code",
   "execution_count": null,
   "metadata": {},
   "outputs": [],
   "source": []
  }
 ],
 "metadata": {
  "kernelspec": {
   "display_name": "Python 3",
   "language": "python",
   "name": "python3"
  },
  "language_info": {
   "codemirror_mode": {
    "name": "ipython",
    "version": 3
   },
   "file_extension": ".py",
   "mimetype": "text/x-python",
   "name": "python",
   "nbconvert_exporter": "python",
   "pygments_lexer": "ipython3",
   "version": "3.7.3"
  }
 },
 "nbformat": 4,
 "nbformat_minor": 1
}
