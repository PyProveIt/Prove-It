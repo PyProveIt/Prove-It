{
 "cells": [
  {
   "cell_type": "markdown",
   "metadata": {},
   "source": [
    "Proof of <a class=\"ProveItLink\" href=\"../../../../../../_theory_nbs_/theory.ipynb\">proveit</a>.<a class=\"ProveItLink\" href=\"../../../../../_theory_nbs_/theory.ipynb\">logic</a>.<a class=\"ProveItLink\" href=\"../../../../_theory_nbs_/theory.ipynb\">booleans</a>.<a class=\"ProveItLink\" href=\"../../theory.ipynb\">implication</a>.<a class=\"ProveItLink\" href=\"../../theorems.ipynb#left_from_iff\">left_from_iff</a> theorem\n",
    "========"
   ]
  },
  {
   "cell_type": "code",
   "execution_count": 1,
   "metadata": {},
   "outputs": [],
   "source": [
    "import proveit\n",
    "theory = proveit.Theory() # the theorem's theory"
   ]
  },
  {
   "cell_type": "code",
   "execution_count": 2,
   "metadata": {},
   "outputs": [
    {
     "data": {
      "text/html": [
       "Under these <a href=\"presumptions.txt\">presumptions</a>, we begin our proof of<br><strong id=\"left_from_iff\">left_from_iff:</strong> <a class=\"ProveItLink\" href=\"../../../__pv_it/theorems/945563f030500dc1eceba148c1609f61e35fdc520/expr.ipynb\"><img src=\"data:image/png;base64,iVBORw0KGgoAAAANSUhEUgAAAJEAAAAWBAMAAAAyQ2NwAAAAMFBMVEX///+IiIgiIiIQEBB2dnbu\n",
       "7u5ERETMzMzc3NwyMjK6urpmZmaYmJiqqqpUVFQAAAB6qHgnAAAAAXRSTlMAQObYZgAAAAlwSFlz\n",
       "AAAOxAAADsQBlSsOGwAAAgpJREFUOMutlE9IFFEcx79b+3bH3Vkd6CokXvOgEXQy9jAHQcxplS5B\n",
       "dGlDQhwQOpbQqUsrhCAedC/ipXRAMf+Abd2ioDl1EvJUBw+boKiJ6O/3m1l7Y+Uq0w/evu97b96H\n",
       "9/u+3z7gv8QLahss1uOSpqitsBiPCcod0c9TasaDmKRsdQRocICkH5PU1esCZoVoMUGGdZXPcr21\n",
       "9Ubc5PCNzoO3wEMZO6eXw1B1SW/wLE/dSxhSCeqmzD45sBddFqnad33u7z3poYXuRxHB4aHEiJST\n",
       "LPMweSizZgsS7RFSr34fH4ArUQEkHq9W+fZzVmD4TId0jR7MnzopM2zRgT0YnAA2gS+ICOAO0NTC\n",
       "YvS9jK1J6S77KFR0UqKBTt5I9bLEo06oNkQEJ4dLkkbPmGzAskyXmj/9gE6ysqPAfLFYfEV+GVuf\n",
       "18S2E0GH5jqSNJ6L4TMn+atNnZRxybZZsWrVYRfve6GdgaD9/PGeOCPsBbvqhPmXyhopa9/ewXdZ\n",
       "+lpmF41foZ2BwN2jMeSG9vO1O0kQwA3yx5xeBRaMXaQpueJARVzM7IZ2BuKPeE3++yoPYwfqmpYd\n",
       "m0DlUSDZzC46KHjor4m/1fstqHcT6U583LYXfY00v4F7+2Xk8lBUMuaU3T0IDPuhOOOd0XQqsjIC\n",
       "pf2b6r8d0/8kRSLj1CVVzkcyL/joXPBpOQZOyINAViiB2gAAAABJRU5ErkJggg==\n",
       "\" style=\"display:inline;vertical-align:middle;\" /></a><br>(see <a class=\"ProveItLink\" href=\"../../../__pv_it/theorems/e0e7d6870604db27e7f6f9bf628cd436405bc1640/dependencies.ipynb\">dependencies</a>)<br>"
      ],
      "text/plain": [
       "<IPython.core.display.HTML object>"
      ]
     },
     "metadata": {},
     "output_type": "display_data"
    },
    {
     "name": "stdout",
     "output_type": "stream",
     "text": [
      "left_from_iff is now readily provable.  Simply execute \"%qed\".\n"
     ]
    }
   ],
   "source": [
    "%proving left_from_iff"
   ]
  },
  {
   "cell_type": "code",
   "execution_count": 3,
   "metadata": {},
   "outputs": [
    {
     "name": "stdout",
     "output_type": "stream",
     "text": [
      "proveit.logic.booleans.implication.left_from_iff has been proven.\n"
     ]
    },
    {
     "data": {
      "text/html": [
       "<table><tr><th>&nbsp;</th><th>step type</th><th>requirements</th><th>statement</th></tr>\n",
       "<tr><td><a name=\"0x58c807e5e0696485_step0\">0</a></td><td>generalization</td><td><a href=\"#0x58c807e5e0696485_step1\">1</a></td><td><span style=\"font-size:20px;\"> <a class=\"ProveItLink\" href=\"../../../__pv_it/_proof_left_from_iff/4dd3143890eceb5b0a80acf6813553aff7b5f4570/proof.ipynb\" style=\"text-decoration: none\">&nbsp;&#x22A2;&nbsp;&nbsp;</a><a class=\"ProveItLink\" href=\"../../../__pv_it/theorems/945563f030500dc1eceba148c1609f61e35fdc520/expr.ipynb\"><img src=\"data:image/png;base64,iVBORw0KGgoAAAANSUhEUgAAAJEAAAAWBAMAAAAyQ2NwAAAAMFBMVEX///+IiIgiIiIQEBB2dnbu\n",
       "7u5ERETMzMzc3NwyMjK6urpmZmaYmJiqqqpUVFQAAAB6qHgnAAAAAXRSTlMAQObYZgAAAAlwSFlz\n",
       "AAAOxAAADsQBlSsOGwAAAgpJREFUOMutlE9IFFEcx79b+3bH3Vkd6CokXvOgEXQy9jAHQcxplS5B\n",
       "dGlDQhwQOpbQqUsrhCAedC/ipXRAMf+Abd2ioDl1EvJUBw+boKiJ6O/3m1l7Y+Uq0w/evu97b96H\n",
       "9/u+3z7gv8QLahss1uOSpqitsBiPCcod0c9TasaDmKRsdQRocICkH5PU1esCZoVoMUGGdZXPcr21\n",
       "9Ubc5PCNzoO3wEMZO6eXw1B1SW/wLE/dSxhSCeqmzD45sBddFqnad33u7z3poYXuRxHB4aHEiJST\n",
       "LPMweSizZgsS7RFSr34fH4ArUQEkHq9W+fZzVmD4TId0jR7MnzopM2zRgT0YnAA2gS+ICOAO0NTC\n",
       "YvS9jK1J6S77KFR0UqKBTt5I9bLEo06oNkQEJ4dLkkbPmGzAskyXmj/9gE6ysqPAfLFYfEV+GVuf\n",
       "18S2E0GH5jqSNJ6L4TMn+atNnZRxybZZsWrVYRfve6GdgaD9/PGeOCPsBbvqhPmXyhopa9/ewXdZ\n",
       "+lpmF41foZ2BwN2jMeSG9vO1O0kQwA3yx5xeBRaMXaQpueJARVzM7IZ2BuKPeE3++yoPYwfqmpYd\n",
       "m0DlUSDZzC46KHjor4m/1fstqHcT6U583LYXfY00v4F7+2Xk8lBUMuaU3T0IDPuhOOOd0XQqsjIC\n",
       "pf2b6r8d0/8kRSLj1CVVzkcyL/joXPBpOQZOyINAViiB2gAAAABJRU5ErkJggg==\n",
       "\" style=\"display:inline;vertical-align:middle;\" /></a></span></td></tr>\n",
       "<tr><td><a name=\"0x58c807e5e0696485_step1\">1</a></td><td>modus ponens</td><td><a href=\"#0x58c807e5e0696485_step2\">2</a>, <a href=\"#0x58c807e5e0696485_step3\">3</a></td><td><span style=\"font-size:20px;\"><a class=\"ProveItLink\" href=\"../../../__pv_it/theorems/354ec164e0e28f03ef1fb1858764e0da4a36a45b0/expr.ipynb\"><img src=\"data:image/png;base64,iVBORw0KGgoAAAANSUhEUgAAAEAAAAAQBAMAAABUyWQaAAAAMFBMVEX///8QEBAiIiLu7u5ERES6\n",
       "urqYmJiIiIjMzMx2dnZUVFRmZmaqqqoyMjLc3NwAAABb1yYoAAAAAXRSTlMAQObYZgAAAAlwSFlz\n",
       "AAAOxAAADsQBlSsOGwAAARFJREFUKM9jYACBtwwEwH1sgin/V6260gBm8vzHqk2EgYHrB5jFvf4B\n",
       "Fnm+7wwMrL/BzHnzG6CCFxgYOBZA2WxA3WzfwUoL6g9AxNgTgIQHVAHXBwYGXjmwDQznEyBiLSDC\n",
       "1gDCYXRgYF4ENjqGoX8CWIhDUAkIFC9DFPS7l6+FaNzA8B5ibwlEbwvEwvoHDDxiYIu9d693ADEM\n",
       "oc5jlgJTjkAMdr05AwO/AtixKyEK3kIs/AXE+QVgGxiYBCAeUwIDDYiDvgGJ9QHAsAA6hPcDRG82\n",
       "iOCFhBr7P6Civ0DGQyBm+Qf1OlADw1YImxdoaiDQQyb/LzPw+P+FWMsMDEk+B4ha/1+r1vpghD/I\n",
       "dAMUEQCDwkF+IjgNngAAAABJRU5ErkJggg==\n",
       "\" style=\"display:inline;vertical-align:middle;\" /></a>, <a class=\"ProveItLink\" href=\"../../../../../../__pv_it/common/a9162d1c3cc0470c02e5daf414500903a7a419230/expr.ipynb\"><img src=\"data:image/png;base64,iVBORw0KGgoAAAANSUhEUgAAABAAAAAOBAMAAADUAYG5AAAAMFBMVEX///92dnaqqqoiIiLu7u5m\n",
       "Zma6urqIiIjc3NwQEBDMzMwyMjJUVFRERESYmJgAAAAeMT9/AAAAAXRSTlMAQObYZgAAAAlwSFlz\n",
       "AAAOxAAADsQBlSsOGwAAAHJJREFUCNdjYGB4+//Mmb0LGIBgLgMDzy8gzfGdgYHtK5DBB+TxATkM\n",
       "PB8YGLhnABmcFxhYDoMUr79efvoBSFN9AwPTPBDjJhDLg6T+APH7AgYGrn9AxvkEBgb2H0DObyCH\n",
       "ewIDQ+YWoHH3/5w5fYmBAQBWoiHo17XzsQAAAABJRU5ErkJggg==\n",
       "\" style=\"display:inline;vertical-align:middle;\" /></a> <a class=\"ProveItLink\" href=\"../../../__pv_it/_proof_left_from_iff/87aaca549eecc2bb1b71c0b9235fa9ccc5da6cb70/proof.ipynb\" style=\"text-decoration: none\">&nbsp;&#x22A2;&nbsp;&nbsp;</a><a class=\"ProveItLink\" href=\"../../../../../../__pv_it/common/09585084922504426caf1db2ff588a23a0932a960/expr.ipynb\"><img src=\"data:image/png;base64,iVBORw0KGgoAAAANSUhEUgAAAA8AAAAPBAMAAADJ+Ih5AAAAMFBMVEX///8QEBAiIiLu7u5ERES6\n",
       "urqYmJiIiIjMzMx2dnZUVFRmZmaqqqoyMjLc3NwAAABb1yYoAAAAAXRSTlMAQObYZgAAAAlwSFlz\n",
       "AAAOxAAADsQBlSsOGwAAAF9JREFUCNdjYACBtwxQcB9K8/yHMrjXP4Aw5s1vANN8BfUHIDIM5xPA\n",
       "jBiG/glgxgaG9wtANLv37vUOIIY5AwO/AkSGgUkASLMCdfB+ADIeAjHLPwYGk/+XGXj8/04AADnq\n",
       "Fzds8Dk2AAAAAElFTkSuQmCC\n",
       "\" style=\"display:inline;vertical-align:middle;\" /></a></span></td></tr>\n",
       "<tr><td><a name=\"0x58c807e5e0696485_step2\">2</a></td><td>instantiation</td><td><a href=\"#0x58c807e5e0696485_step4\">4</a>, <a href=\"#0x58c807e5e0696485_step5\">5</a></td><td><span style=\"font-size:20px;\"><a class=\"ProveItLink\" href=\"../../../__pv_it/theorems/354ec164e0e28f03ef1fb1858764e0da4a36a45b0/expr.ipynb\"><img src=\"data:image/png;base64,iVBORw0KGgoAAAANSUhEUgAAAEAAAAAQBAMAAABUyWQaAAAAMFBMVEX///8QEBAiIiLu7u5ERES6\n",
       "urqYmJiIiIjMzMx2dnZUVFRmZmaqqqoyMjLc3NwAAABb1yYoAAAAAXRSTlMAQObYZgAAAAlwSFlz\n",
       "AAAOxAAADsQBlSsOGwAAARFJREFUKM9jYACBtwwEwH1sgin/V6260gBm8vzHqk2EgYHrB5jFvf4B\n",
       "Fnm+7wwMrL/BzHnzG6CCFxgYOBZA2WxA3WzfwUoL6g9AxNgTgIQHVAHXBwYGXjmwDQznEyBiLSDC\n",
       "1gDCYXRgYF4ENjqGoX8CWIhDUAkIFC9DFPS7l6+FaNzA8B5ibwlEbwvEwvoHDDxiYIu9d693ADEM\n",
       "oc5jlgJTjkAMdr05AwO/AtixKyEK3kIs/AXE+QVgGxiYBCAeUwIDDYiDvgGJ9QHAsAA6hPcDRG82\n",
       "iOCFhBr7P6Civ0DGQyBm+Qf1OlADw1YImxdoaiDQQyb/LzPw+P+FWMsMDEk+B4ha/1+r1vpghD/I\n",
       "dAMUEQCDwkF+IjgNngAAAABJRU5ErkJggg==\n",
       "\" style=\"display:inline;vertical-align:middle;\" /></a> <a class=\"ProveItLink\" href=\"../../../__pv_it/_proof_left_from_iff/317c58a207811b563ad6a1b875e31df39facc8980/proof.ipynb\" style=\"text-decoration: none\">&nbsp;&#x22A2;&nbsp;&nbsp;</a><a class=\"ProveItLink\" href=\"../../../__pv_it/theorems/dd5a6fa797dcaf2dec856fef9be29bef6326bd0c0/expr.ipynb\"><img src=\"data:image/png;base64,iVBORw0KGgoAAAANSUhEUgAAAEAAAAAQBAMAAABUyWQaAAAAMFBMVEX///92dnaqqqoiIiLu7u5m\n",
       "Zma6urqIiIjc3NwQEBDMzMwyMjJUVFRERESYmJgAAAAeMT9/AAAAAXRSTlMAQObYZgAAAAlwSFlz\n",
       "AAAOxAAADsQBlSsOGwAAAO5JREFUKM9jYMAHODaAyLf/z5zZuwCrAu4PYGouAwPPL6wK9MEKOL4z\n",
       "MLB9xaog5geI5APq5vsOF+R1gDMZG8EG8wDN4Z4BF+W6AGe2s38CUZwXGFgOIznyIZwVwPQPRK2/\n",
       "Xn76AVgg2BgE7AOg8mwKXB9BdH0DA9M8ZKdpK0BoVgaOPyD6JhDLI4cDy84EMF0bGvMXRINUvS9A\n",
       "UtAtAVEHFPsMcjXIIecTEG4w3gGzgYHBEojZgYHB9RvJgFwonQfE+0HhPYGBIXMLegQBaaA4w/0G\n",
       "Bp77f86cvoRkAC/EvSz3fzsw6P7fiCWKUbkAKutBftl3nXoAAAAASUVORK5CYII=\n",
       "\" style=\"display:inline;vertical-align:middle;\" /></a></span></td></tr>\n",
       "<tr><td>&nbsp;</td><td colspan=4 style=\"text-align:left\"><span style=\"font-size:20px;\"><a class=\"ProveItLink\" href=\"../../../../../../__pv_it/common/09585084922504426caf1db2ff588a23a0932a960/expr.ipynb\"><img src=\"data:image/png;base64,iVBORw0KGgoAAAANSUhEUgAAAA8AAAAPBAMAAADJ+Ih5AAAAMFBMVEX///8QEBAiIiLu7u5ERES6\n",
       "urqYmJiIiIjMzMx2dnZUVFRmZmaqqqoyMjLc3NwAAABb1yYoAAAAAXRSTlMAQObYZgAAAAlwSFlz\n",
       "AAAOxAAADsQBlSsOGwAAAF9JREFUCNdjYACBtwxQcB9K8/yHMrjXP4Aw5s1vANN8BfUHIDIM5xPA\n",
       "jBiG/glgxgaG9wtANLv37vUOIIY5AwO/AkSGgUkASLMCdfB+ADIeAjHLPwYGk/+XGXj8/04AADnq\n",
       "Fzds8Dk2AAAAAElFTkSuQmCC\n",
       "\" style=\"display:inline;vertical-align:middle;\" /></a> : <a class=\"ProveItLink\" href=\"../../../../../../__pv_it/common/09585084922504426caf1db2ff588a23a0932a960/expr.ipynb\"><img src=\"data:image/png;base64,iVBORw0KGgoAAAANSUhEUgAAAA8AAAAPBAMAAADJ+Ih5AAAAMFBMVEX///8QEBAiIiLu7u5ERES6\n",
       "urqYmJiIiIjMzMx2dnZUVFRmZmaqqqoyMjLc3NwAAABb1yYoAAAAAXRSTlMAQObYZgAAAAlwSFlz\n",
       "AAAOxAAADsQBlSsOGwAAAF9JREFUCNdjYACBtwxQcB9K8/yHMrjXP4Aw5s1vANN8BfUHIDIM5xPA\n",
       "jBiG/glgxgaG9wtANLv37vUOIIY5AwO/AkSGgUkASLMCdfB+ADIeAjHLPwYGk/+XGXj8/04AADnq\n",
       "Fzds8Dk2AAAAAElFTkSuQmCC\n",
       "\" style=\"display:inline;vertical-align:middle;\" /></a>, <a class=\"ProveItLink\" href=\"../../../../../../__pv_it/common/a9162d1c3cc0470c02e5daf414500903a7a419230/expr.ipynb\"><img src=\"data:image/png;base64,iVBORw0KGgoAAAANSUhEUgAAABAAAAAOBAMAAADUAYG5AAAAMFBMVEX///92dnaqqqoiIiLu7u5m\n",
       "Zma6urqIiIjc3NwQEBDMzMwyMjJUVFRERESYmJgAAAAeMT9/AAAAAXRSTlMAQObYZgAAAAlwSFlz\n",
       "AAAOxAAADsQBlSsOGwAAAHJJREFUCNdjYGB4+//Mmb0LGIBgLgMDzy8gzfGdgYHtK5DBB+TxATkM\n",
       "PB8YGLhnABmcFxhYDoMUr79efvoBSFN9AwPTPBDjJhDLg6T+APH7AgYGrn9AxvkEBgb2H0DObyCH\n",
       "ewIDQ+YWoHH3/5w5fYmBAQBWoiHo17XzsQAAAABJRU5ErkJggg==\n",
       "\" style=\"display:inline;vertical-align:middle;\" /></a> : <a class=\"ProveItLink\" href=\"../../../../../../__pv_it/common/a9162d1c3cc0470c02e5daf414500903a7a419230/expr.ipynb\"><img src=\"data:image/png;base64,iVBORw0KGgoAAAANSUhEUgAAABAAAAAOBAMAAADUAYG5AAAAMFBMVEX///92dnaqqqoiIiLu7u5m\n",
       "Zma6urqIiIjc3NwQEBDMzMwyMjJUVFRERESYmJgAAAAeMT9/AAAAAXRSTlMAQObYZgAAAAlwSFlz\n",
       "AAAOxAAADsQBlSsOGwAAAHJJREFUCNdjYGB4+//Mmb0LGIBgLgMDzy8gzfGdgYHtK5DBB+TxATkM\n",
       "PB8YGLhnABmcFxhYDoMUr79efvoBSFN9AwPTPBDjJhDLg6T+APH7AgYGrn9AxvkEBgb2H0DObyCH\n",
       "ewIDQ+YWoHH3/5w5fYmBAQBWoiHo17XzsQAAAABJRU5ErkJggg==\n",
       "\" style=\"display:inline;vertical-align:middle;\" /></a></span></td></tr><tr><td><a name=\"0x58c807e5e0696485_step3\">3</a></td><td>assumption</td><td></td><td><span style=\"font-size:20px;\"><a class=\"ProveItLink\" href=\"../../../../../../__pv_it/common/a9162d1c3cc0470c02e5daf414500903a7a419230/expr.ipynb\"><img src=\"data:image/png;base64,iVBORw0KGgoAAAANSUhEUgAAABAAAAAOBAMAAADUAYG5AAAAMFBMVEX///92dnaqqqoiIiLu7u5m\n",
       "Zma6urqIiIjc3NwQEBDMzMwyMjJUVFRERESYmJgAAAAeMT9/AAAAAXRSTlMAQObYZgAAAAlwSFlz\n",
       "AAAOxAAADsQBlSsOGwAAAHJJREFUCNdjYGB4+//Mmb0LGIBgLgMDzy8gzfGdgYHtK5DBB+TxATkM\n",
       "PB8YGLhnABmcFxhYDoMUr79efvoBSFN9AwPTPBDjJhDLg6T+APH7AgYGrn9AxvkEBgb2H0DObyCH\n",
       "ewIDQ+YWoHH3/5w5fYmBAQBWoiHo17XzsQAAAABJRU5ErkJggg==\n",
       "\" style=\"display:inline;vertical-align:middle;\" /></a> <a class=\"ProveItLink\" href=\"../../../__pv_it/_proof_left_from_iff/d43a9c2d2ebf0b3b961e71c77fe7ef917c06ce470/proof.ipynb\" style=\"text-decoration: none\">&nbsp;&#x22A2;&nbsp;&nbsp;</a><a class=\"ProveItLink\" href=\"../../../../../../__pv_it/common/a9162d1c3cc0470c02e5daf414500903a7a419230/expr.ipynb\"><img src=\"data:image/png;base64,iVBORw0KGgoAAAANSUhEUgAAABAAAAAOBAMAAADUAYG5AAAAMFBMVEX///92dnaqqqoiIiLu7u5m\n",
       "Zma6urqIiIjc3NwQEBDMzMwyMjJUVFRERESYmJgAAAAeMT9/AAAAAXRSTlMAQObYZgAAAAlwSFlz\n",
       "AAAOxAAADsQBlSsOGwAAAHJJREFUCNdjYGB4+//Mmb0LGIBgLgMDzy8gzfGdgYHtK5DBB+TxATkM\n",
       "PB8YGLhnABmcFxhYDoMUr79efvoBSFN9AwPTPBDjJhDLg6T+APH7AgYGrn9AxvkEBgb2H0DObyCH\n",
       "ewIDQ+YWoHH3/5w5fYmBAQBWoiHo17XzsQAAAABJRU5ErkJggg==\n",
       "\" style=\"display:inline;vertical-align:middle;\" /></a></span></td></tr>\n",
       "<tr><td><a name=\"0x58c807e5e0696485_step4\">4</a></td><td>theorem</td><td></td><td><span style=\"font-size:20px;\"> <a class=\"ProveItLink\" href=\"../iff_implies_left/thm_proof.ipynb\" style=\"text-decoration: none\">&nbsp;&#x22A2;&nbsp;&nbsp;</a><a class=\"ProveItLink\" href=\"../../../__pv_it/theorems/6956678b2f79c31b3c488463851bb36a09bb497a0/expr.ipynb\"><img src=\"data:image/png;base64,iVBORw0KGgoAAAANSUhEUgAAAMIAAAAXBAMAAACrPI2eAAAAMFBMVEX///+IiIgiIiIQEBB2dnbu\n",
       "7u5ERETMzMzc3NwyMjK6urpmZmaYmJiqqqpUVFQAAAB6qHgnAAAAAXRSTlMAQObYZgAAAAlwSFlz\n",
       "AAAOxAAADsQBlSsOGwAAAtpJREFUSMetVV9IU1Ec/qa7290f7UavlrIXoYIs+kMPxh72IEh6Mwgi\n",
       "EF9aRYRC0GNbCEEvbTAMCclBlC+VI4f9MWpJBGLgSAiCIJ+MEDaFzDTKfr+znd3jmLqmB865557f\n",
       "Ob/vnO/7zr3AFoq+DTM2Lrs3Dt8C3AYww/0vFQHU+AFv99/M9wul44NU64CX3O+vCOEsN9VdQLan\n",
       "5AZWqXGZuM5sdVWE8IqbCPEwnCgV9mTDdMYEg8CergihiZsp2v+UIYccphVuaeejHYE3RUepTIYo\n",
       "t1mqsbAcc1ps6EY9b3wAOOTzHa4IwePn9ijQ2WgNvrPC+EqbRxvwDDgvhsyiBLKjrYPg4gTOnzv3\n",
       "DIjXpz4uBwqSPEaItzAB3IYuHKsdE4FrvwOjwhoOOfW04hRnd7JVerOKSbD9AqZTCu5nqWkCEc47\n",
       "zeLY4zxi/yMC3gbYmtYgtKs+GAd25bvVvMxBc+1LygQtJrLBdnksy6KESDAjJ/TQQfGoTcA7ryK4\n",
       "r5JTtAR0QfscOUdF2EH79C6oF7kl9zxFsQZ63qcafSuGjHu5dWl0pFQEm4uS1JJbnvNbM7T9Kksh\n",
       "mlu7Yung6y+QhCrm4iPVk30iEV6ISKRu8htUBMNDrhwJBoMx0kNf+PBayuLgW1BP0KGodYSH8uR8\n",
       "CZiL91R7hdBDeX7Hoc2pCO4ekuWJkGLMZJU6pVvsvC5GM45bLtQlWC9nIBcgycyLTSUDWTNPdCSu\n",
       "IHgCbYuYFaFPcVZJX5G+IppnVzOZO4oTHPkDnlntQ033Mkm3V4ZslLgnRzSGVbca0JfgJJKCl1JC\n",
       "JXfBOY1l/A/0Btl7RNKnNT/0RWj7FJaYT7JxR+5DjIiJjsKdmizn4su74jkB7c1dZzMmfgRG0wrC\n",
       "yAzOLcf5V6CRu72DgdYrFiXhzRFuFn/MlL5jTSQMzSxerZXx0b9Y9P5gXYSS5camM2zFx0z9H8IW\n",
       "i75Nef4Bw+Stb4Wz/Q0AAAAASUVORK5CYII=\n",
       "\" style=\"display:inline;vertical-align:middle;\" /></a></span></td></tr>\n",
       "<tr><td>&nbsp;</td><td colspan=4 style-\"text-align:left\"><a class=\"ProveItLink\" href=\"../iff_implies_left/thm_proof.ipynb\">proveit.logic.booleans.implication.iff_implies_left</a></td></tr><tr><td><a name=\"0x58c807e5e0696485_step5\">5</a></td><td>assumption</td><td></td><td><span style=\"font-size:20px;\"><a class=\"ProveItLink\" href=\"../../../__pv_it/theorems/354ec164e0e28f03ef1fb1858764e0da4a36a45b0/expr.ipynb\"><img src=\"data:image/png;base64,iVBORw0KGgoAAAANSUhEUgAAAEAAAAAQBAMAAABUyWQaAAAAMFBMVEX///8QEBAiIiLu7u5ERES6\n",
       "urqYmJiIiIjMzMx2dnZUVFRmZmaqqqoyMjLc3NwAAABb1yYoAAAAAXRSTlMAQObYZgAAAAlwSFlz\n",
       "AAAOxAAADsQBlSsOGwAAARFJREFUKM9jYACBtwwEwH1sgin/V6260gBm8vzHqk2EgYHrB5jFvf4B\n",
       "Fnm+7wwMrL/BzHnzG6CCFxgYOBZA2WxA3WzfwUoL6g9AxNgTgIQHVAHXBwYGXjmwDQznEyBiLSDC\n",
       "1gDCYXRgYF4ENjqGoX8CWIhDUAkIFC9DFPS7l6+FaNzA8B5ibwlEbwvEwvoHDDxiYIu9d693ADEM\n",
       "oc5jlgJTjkAMdr05AwO/AtixKyEK3kIs/AXE+QVgGxiYBCAeUwIDDYiDvgGJ9QHAsAA6hPcDRG82\n",
       "iOCFhBr7P6Civ0DGQyBm+Qf1OlADw1YImxdoaiDQQyb/LzPw+P+FWMsMDEk+B4ha/1+r1vpghD/I\n",
       "dAMUEQCDwkF+IjgNngAAAABJRU5ErkJggg==\n",
       "\" style=\"display:inline;vertical-align:middle;\" /></a> <a class=\"ProveItLink\" href=\"../../../__pv_it/_proof_left_from_iff/4ed7de14e9014dea0f565e79680dc42c190d3cdc0/proof.ipynb\" style=\"text-decoration: none\">&nbsp;&#x22A2;&nbsp;&nbsp;</a><a class=\"ProveItLink\" href=\"../../../__pv_it/theorems/354ec164e0e28f03ef1fb1858764e0da4a36a45b0/expr.ipynb\"><img src=\"data:image/png;base64,iVBORw0KGgoAAAANSUhEUgAAAEAAAAAQBAMAAABUyWQaAAAAMFBMVEX///8QEBAiIiLu7u5ERES6\n",
       "urqYmJiIiIjMzMx2dnZUVFRmZmaqqqoyMjLc3NwAAABb1yYoAAAAAXRSTlMAQObYZgAAAAlwSFlz\n",
       "AAAOxAAADsQBlSsOGwAAARFJREFUKM9jYACBtwwEwH1sgin/V6260gBm8vzHqk2EgYHrB5jFvf4B\n",
       "Fnm+7wwMrL/BzHnzG6CCFxgYOBZA2WxA3WzfwUoL6g9AxNgTgIQHVAHXBwYGXjmwDQznEyBiLSDC\n",
       "1gDCYXRgYF4ENjqGoX8CWIhDUAkIFC9DFPS7l6+FaNzA8B5ibwlEbwvEwvoHDDxiYIu9d693ADEM\n",
       "oc5jlgJTjkAMdr05AwO/AtixKyEK3kIs/AXE+QVgGxiYBCAeUwIDDYiDvgGJ9QHAsAA6hPcDRG82\n",
       "iOCFhBr7P6Civ0DGQyBm+Qf1OlADw1YImxdoaiDQQyb/LzPw+P+FWMsMDEk+B4ha/1+r1vpghD/I\n",
       "dAMUEQCDwkF+IjgNngAAAABJRU5ErkJggg==\n",
       "\" style=\"display:inline;vertical-align:middle;\" /></a></span></td></tr>\n",
       "</table>"
      ],
      "text/plain": [
       "\tstep type\trequirements\tstatement\n",
       "0\tgeneralization\t1\t|- forall_{A, B | A <=> B, B} A\n",
       "1\tmodus ponens\t2, 3\t{A <=> B, B} |- A\n",
       "2\tinstantiation\t4, 5\t{A <=> B} |- B => A\n",
       "\tA : A, B : B\n",
       "3\tassumption\t\t{B} |- B\n",
       "4\ttheorem\t\t|- forall_{A, B | A <=> B} (B => A)\n",
       "\tproveit.logic.booleans.implication.iff_implies_left\n",
       "5\tassumption\t\t{A <=> B} |- A <=> B"
      ]
     },
     "execution_count": 3,
     "metadata": {},
     "output_type": "execute_result"
    }
   ],
   "source": [
    "%qed"
   ]
  },
  {
   "cell_type": "code",
   "execution_count": null,
   "metadata": {},
   "outputs": [],
   "source": []
  }
 ],
 "metadata": {
  "kernelspec": {
   "display_name": "Python 3",
   "language": "python",
   "name": "python3"
  },
  "language_info": {
   "codemirror_mode": {
    "name": "ipython",
    "version": 3
   },
   "file_extension": ".py",
   "mimetype": "text/x-python",
   "name": "python",
   "nbconvert_exporter": "python",
   "pygments_lexer": "ipython3",
   "version": "3.7.3"
  }
 },
 "nbformat": 4,
 "nbformat_minor": 1
}
