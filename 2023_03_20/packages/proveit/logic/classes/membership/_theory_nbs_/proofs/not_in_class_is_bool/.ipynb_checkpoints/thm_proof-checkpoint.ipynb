{
 "cells": [
  {
   "cell_type": "markdown",
   "metadata": {},
   "source": [
    "Proof of <a class=\"ProveItLink\" href=\"../../../../../../_theory_nbs_/theory.ipynb\">proveit</a>.<a class=\"ProveItLink\" href=\"../../../../../_theory_nbs_/theory.ipynb\">logic</a>.<a class=\"ProveItLink\" href=\"../../../../_theory_nbs_/theory.ipynb\">classes</a>.<a class=\"ProveItLink\" href=\"../../theory.ipynb\">membership</a>.<a class=\"ProveItLink\" href=\"../../theorems.ipynb#not_in_class_is_bool\">not_in_class_is_bool</a> theorem\n",
    "========"
   ]
  },
  {
   "cell_type": "code",
   "execution_count": 1,
   "metadata": {},
   "outputs": [],
   "source": [
    "import proveit\n",
    "theory = proveit.Theory() # the theorem's theory"
   ]
  },
  {
   "cell_type": "code",
   "execution_count": 2,
   "metadata": {},
   "outputs": [
    {
     "data": {
      "text/html": [
       "Under these <a href=\"presumptions.txt\">presumptions</a>, we begin our proof of<br><strong id=\"not_in_class_is_bool\">not_in_class_is_bool:</strong> <a class=\"ProveItLink\" href=\"../../../__pv_it/theorems/f3bfa2ef16df4a8bd143938ac4bb9461de1814c70/expr.ipynb\"><img src=\"data:image/png;base64,iVBORw0KGgoAAAANSUhEUgAAAR0AAAArCAMAAABy4KxNAAAAP1BMVEX///9jY2MJCQkdHR0NDQ0W\n",
       "FhaIiIgiIiIQEBB2dnbu7u5ERETMzMzc3NwyMjK6urpmZmaYmJiqqqpUVFQAAABqwkwZAAAAAXRS\n",
       "TlMAQObYZgAAAAlwSFlzAAAOxAAADsQBlSsOGwAABHlJREFUaN7lWoty2yAQpGnL+w3//60FIQmQ\n",
       "QEZK0pFiJhM88XIyy7G34ABw2yY2/TFqONz3wP93g7buO03SwXgKvngewkx6iZFTGe7Wt625EzmW\n",
       "1H2ncXf4NoXMOWeACFHgq/mxSImQNNEzwbVaV+FOyURl3fda/vjNfMAwppbVyAykWWAnwIgIL5as\n",
       "XMkX7E6po03d9xo6YpghPkfxceWNHmHH2Hk/TfCFUWLvxA7e9M3MYOjvH9RPLomXZFEpDKbb8aHJ\n",
       "PTvznyLczKsjb6U6su5bKivDrnG8H4P4db15yhpptuMbueOEmaVuguPIIMLkVhuL1D2F0FFOivwW\n",
       "MeePVEn4vOtoIpEUEi72KhRVmULkFiYmuJ6GMnp9LkcrmJ995gHLKi99WHvoINB5wlMNMfAodXZv\n",
       "moLMRg0K7CCJPdK0gAu3/LpKzpAVEPIEPchWvQlTMZ6WT5JbswOdJoSS9S/I7+ZvCxWTPVWGRs1h\n",
       "EzyuKlGf3gWv6TkhyqrqY27qajiPevD7I/xKpVYlHlmeP/ZF9ZoH+Xr81NiGndiRAm7hZzRZDTuB\n",
       "VxW1z870EtbVuiqzdi5HNj8CZSosr0rXOr6ZO9HtsBIuDzfwC9uGxjeMVBd3VvyocaNQWhkdlBV4\n",
       "xvEs2zrvrCW5LTo0SpkdWcKJlZc1WY8nBOBoFMlg2VOmgMPFNKPMQKDWRzvUqlnLiq9aZFg1vsuO\n",
       "hSVc4MuaTP2pUjSaPEvtTb31nOrAjioNq7S5VOLWElk/abjKQl0ppLQNdgKAQKJr+FBJbvtVfQZt\n",
       "2cksSz3VYaWtNtV8qPtQdKtJNUKHI2h5EEOqGs9UubJQYsbyGX0Lv+b4z0Xwoyfd5YSE+utmfhE2\n",
       "nwTcnGrwMLzY7D+1jh+CXyhY/hyejTrypb4d1LlCK2laJKiGTrYnD8KfuKI66QTIcPlnou73S8uq\n",
       "TaQJhMcSePIS4tKdhb6WC6dzbTEktPchT98pMPHl8K0/B/WH9epcAOr59jBOpEa6MVMB6353fjmb\n",
       "5uKr4Xt/XrMjfEs0OXSMqXYAbDYgGEyMsJaDx7WGP6/Z4S23ozXvB0BwA4rsBL9mn8AHhFqEn74/\n",
       "r9kpZGQdWVxuNwLIJFQZNOWOIfQJ5Ajg2OoiW/68Zsf63chSRRsBmN5ILQxphPEjNpaZTjb8yJ9X\n",
       "7Bi8G6kKl9AIkHxbAYq5wzVUz9Caws02/Xknd9aRRrKp2XaAlDsFKOkOII8gh+P8JWnTn/d0ZxnJ\n",
       "yTZRqgBJdwrQzA68PzUCAyInw0dJz5+3a1YeWd4fNwLMNSuDEjv8AeyAsP+TIefYdvz5xu+I7cjg\n",
       "wPmBwU+3ChlkJZSEMQOe1XoG5LVXpiRKSkdmF/t4CLp9U3SIne87Z929to+wc/qMLsGPbuJTuSAJ\n",
       "eKf2XXeDP6NB1zykm3aOWPlW5ADayIb4L0HtOytk34ud1vdZrHemtOjNyAl+eFf747ejTUOA+Lux\n",
       "A8xOeRQxpuUIDAHv10a/2VAIvGNzQ1VdIArek56h//16oNX5B2oqNZ8MH/e8AAAAAElFTkSuQmCC\n",
       "\" style=\"display:inline;vertical-align:middle;\" /></a><br>(see <a class=\"ProveItLink\" href=\"../../../__pv_it/theorems/320991ed97cdb1a6afafa1805270004d8ee04a510/dependencies.ipynb\">dependencies</a>)<br>"
      ],
      "text/plain": [
       "<IPython.core.display.HTML object>"
      ]
     },
     "metadata": {},
     "output_type": "display_data"
    }
   ],
   "source": [
    "%proving not_in_class_is_bool"
   ]
  },
  {
   "cell_type": "code",
   "execution_count": null,
   "metadata": {},
   "outputs": [],
   "source": []
  }
 ],
 "metadata": {
  "kernelspec": {
   "display_name": "Python 3",
   "language": "python",
   "name": "python3"
  },
  "language_info": {
   "codemirror_mode": {
    "name": "ipython",
    "version": 3
   },
   "file_extension": ".py",
   "mimetype": "text/x-python",
   "name": "python",
   "nbconvert_exporter": "python",
   "pygments_lexer": "ipython3",
   "version": "3.7.3"
  }
 },
 "nbformat": 4,
 "nbformat_minor": 1
}
