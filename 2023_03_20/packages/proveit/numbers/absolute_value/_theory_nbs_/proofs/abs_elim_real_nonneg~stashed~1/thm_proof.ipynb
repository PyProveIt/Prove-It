{
 "cells": [
  {
   "cell_type": "markdown",
   "metadata": {},
   "source": [
    "Proof of <a class=\"ProveItLink\" href=\"../../../../../_theory_nbs_/theory.ipynb\">proveit</a>.<a class=\"ProveItLink\" href=\"../../../../_theory_nbs_/theory.ipynb\">numbers</a>.<a class=\"ProveItLink\" href=\"../../theory.ipynb\">absolute_value</a>.<a class=\"ProveItLink\" href=\"../../theorems.ipynb#abs_elim_real_nonneg\">abs_elim_real_nonneg</a> theorem\n",
    "========"
   ]
  },
  {
   "cell_type": "code",
   "execution_count": 1,
   "metadata": {},
   "outputs": [],
   "source": [
    "import proveit\n",
    "theory = proveit.Theory() # the theorem's theory"
   ]
  },
  {
   "cell_type": "code",
   "execution_count": 2,
   "metadata": {},
   "outputs": [
    {
     "data": {
      "text/html": [
       "Under these <a href=\"presumptions.txt\">presumptions</a>, we begin our proof of<br><strong id=\"abs_non_neg_elim\">abs_non_neg_elim:</strong> <a class=\"ProveItLink\" href=\"../../../__pv_it/theorems/f603472b72645bb6ebf1f6bc88784c2b453e90cf0/expr.ipynb\"><img src=\"data:image/png;base64,iVBORw0KGgoAAAANSUhEUgAAAJcAAAAVBAMAAAC5yWGZAAAAMFBMVEX///+IiIgiIiIQEBB2dnbu\n",
       "7u5ERETMzMzc3NwyMjK6urpmZmaYmJiqqqpUVFQAAAB6qHgnAAAAAXRSTlMAQObYZgAAAAlwSFlz\n",
       "AAAOxAAADsQBlSsOGwAAAilJREFUOMuNlEFo1EAUhv+0STObZJfsoVQtLMteBEGJoiCeKihopRJB\n",
       "18NeuqBRPC1Sr5Lau8SD4MFDBC+CxbUuaLtF1oOgiBjFi1iwInqq4EXs0TezJNs6kdkJyfwkL1/+\n",
       "ee9NgCFHSEcm8wOGHlqC6VRP50bco3OdizUl7CNUMK0HrHBxR8UyIiUMt4HrNLFZFczuqWFvgIIP\n",
       "6IkKNgo1bNSHQ98sKFP2aQhYgUgHarWDSlinzzhTOX8skWBG+fvcDK2PavkUuKiE3e3D2tpXu9qH\n",
       "LdX42CcSioq7BDhUpJtg61LxOpRJzL/PGnGvgDmh87vUk5y9wjt/Ayh6wJivx1uefDj5/BbV91TI\n",
       "ax2ld48ImAk7yslZC8t8Mn8R0M3yb1aCWNNxYoq8TcaGh0PbYVQxN7cA+/nFImeIXqT3ui1qZA0v\n",
       "+RtsD6ti9/ZlAo9Cw5dyBmsT58hVleQMtS7KzyZDviE4bLxNJjs+OTucwpoCVo+/QZecGVdKHmgx\n",
       "Dm/9Bcq/Fv4oJHWxxXTW7MHa4JYHOTstYF+uPcGiBCv+aXgWtb1NQJRocQ6aJh4KmH1hFsZPLufX\n",
       "smpeFbBGubiayM4eu5/f0jwyqOMm8DoIgkTT9EW5z0Za6h1wI1OmxzAnnGnWfZ91u92VrYFOWw1b\n",
       "TcWCHtnUcSJnON6WIy8rYYNfj73r6DjYJVIPdk41luXQuhI29s9/+2wQxP/ZnMzFRKonciN2AH8B\n",
       "6nx6/HuEmxQAAAAASUVORK5CYII=\n",
       "\" style=\"display:inline;vertical-align:middle;\" /></a><br>(see <a class=\"ProveItLink\" href=\"../../../__pv_it/theorems/05449f2ed9cfc4415fd80d3373e0934a6ea30cbf0/dependencies.ipynb\">dependencies</a>)<br>"
      ],
      "text/plain": [
       "<IPython.core.display.HTML object>"
      ]
     },
     "metadata": {},
     "output_type": "display_data"
    }
   ],
   "source": [
    "%proving abs_elim_real_nonneg"
   ]
  },
  {
   "cell_type": "code",
   "execution_count": null,
   "metadata": {},
   "outputs": [],
   "source": []
  }
 ],
 "metadata": {
  "kernelspec": {
   "display_name": "Python 3",
   "language": "python",
   "name": "python3"
  }
 },
 "nbformat": 4,
 "nbformat_minor": 0
}