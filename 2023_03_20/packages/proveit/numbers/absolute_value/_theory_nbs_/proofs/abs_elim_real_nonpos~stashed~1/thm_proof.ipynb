{
 "cells": [
  {
   "cell_type": "markdown",
   "metadata": {},
   "source": [
    "Proof of <a class=\"ProveItLink\" href=\"../../../../../_theory_nbs_/theory.ipynb\">proveit</a>.<a class=\"ProveItLink\" href=\"../../../../_theory_nbs_/theory.ipynb\">numbers</a>.<a class=\"ProveItLink\" href=\"../../theory.ipynb\">absolute_value</a>.<a class=\"ProveItLink\" href=\"../../theorems.ipynb#abs_elim_real_nonpos\">abs_elim_real_nonpos</a> theorem\n",
    "========"
   ]
  },
  {
   "cell_type": "code",
   "execution_count": 1,
   "metadata": {},
   "outputs": [],
   "source": [
    "import proveit\n",
    "theory = proveit.Theory() # the theorem's theory"
   ]
  },
  {
   "cell_type": "code",
   "execution_count": 2,
   "metadata": {},
   "outputs": [
    {
     "data": {
      "text/html": [
       "Under these <a href=\"presumptions.txt\">presumptions</a>, we begin our proof of<br><strong id=\"abs_neg_elim\">abs_neg_elim:</strong> <a class=\"ProveItLink\" href=\"../../../__pv_it/theorems/c43151cbbab7394809e23a5cf7988e1d42bf4e300/expr.ipynb\"><img src=\"data:image/png;base64,iVBORw0KGgoAAAANSUhEUgAAALcAAAAVBAMAAAD2lGJJAAAAMFBMVEX///+IiIgiIiIQEBB2dnbu\n",
       "7u5ERETMzMzc3NwyMjK6urpmZmaYmJiqqqpUVFQAAAB6qHgnAAAAAXRSTlMAQObYZgAAAAlwSFlz\n",
       "AAAOxAAADsQBlSsOGwAAAntJREFUOMuNlU9o01Acx7/Z0iZtkpEexvyDpfRSEJQoCuKpgsIcTCLM\n",
       "yuilBa3iqYx5ldYdBYkHwYOHCl4Eh3UKc+2QehCUIUbxIg6siAriwYu4o+9Pm7R5beIr3/S95JfP\n",
       "+/X7fu8V+M9WIx+vG2yqEDwqamyTXMz1+3PC032B8b2eunSwHQn/gBC4kQ+m0uFq0cGdKHbMCYMv\n",
       "CvG3ua5Ry0pRcK0TBt8U4re4EjYgu1HwSYTBLTHeZtJJTolIyz+GwQ1HiE90uA5ns0ci4U8582z6\n",
       "/ElXgGsD6xlLfVueJ150udaBiyPXcHBwl8Ob0hctw+FrWdoO9tP0JkLaXAN0h+sm1O4Itv4D9Xfe\n",
       "RjjA4HpN/zPVETKfGFiyV3hr/yJOWVxxW24MRL4//fwW+VpYp7XkmXmcwRVozgjPJ8n7i+yH5FDF\n",
       "Br2l/OYyTG89lXSlIcmYzePGLPHFwtFhOOGYY+B+O0QvSYsLzov+/XaVbCwJL011P63+DHLDtgCP\n",
       "ajFb8HzQFiR3cI5knOHCPN1OqWd7a3TDUvh0E/pPlvmx/itlBi80vkIWM4+bfhVcmbJAikcvcWGF\n",
       "rKdU+55wC+xYkNUymcQgq+L4np9h8M9Xn2BVhMt+QRh/i1bS5dXJKnSKmKGjrOAhg2sX2GGgtFDf\n",
       "9qplicGLKWPTFeFKxs/8sfnpDXWqwdVrO8DrSqXiSpK8KhbmRDVs++eE+Os99Wa3VCyzzKXkfVtt\n",
       "t9utoapvhsG3MOoo846zFdnRSMUzz3GqKaZ+OQweD/7r0GPWP2q1PSemoV4ivQe788UNEV4Ig8dK\n",
       "I2YLzrhQqTTGnFyqiZl+f0Z4Wg+Md3H9A5XQkQQY8zEiAAAAAElFTkSuQmCC\n",
       "\" style=\"display:inline;vertical-align:middle;\" /></a><br>(see <a class=\"ProveItLink\" href=\"../../../__pv_it/theorems/3196d8add425ebcd718f64ca86a5c7dfc2d236f70/dependencies.ipynb\">dependencies</a>)<br>"
      ],
      "text/plain": [
       "<IPython.core.display.HTML object>"
      ]
     },
     "metadata": {},
     "output_type": "display_data"
    }
   ],
   "source": [
    "%proving abs_elim_real_nonpos"
   ]
  },
  {
   "cell_type": "code",
   "execution_count": null,
   "metadata": {},
   "outputs": [],
   "source": []
  }
 ],
 "metadata": {
  "kernelspec": {
   "display_name": "Python 3",
   "language": "python",
   "name": "python3"
  }
 },
 "nbformat": 4,
 "nbformat_minor": 0
}