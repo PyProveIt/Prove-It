{
 "cells": [
  {
   "cell_type": "markdown",
   "metadata": {},
   "source": [
    "Theorems (or conjectures) for the theory of <a class=\"ProveItLink\" href=\"theory.ipynb\">proveit.numbers.absolute_value</a>\n",
    "========"
   ]
  },
  {
   "cell_type": "code",
   "execution_count": 1,
   "metadata": {},
   "outputs": [],
   "source": [
    "import proveit\n",
    "# Prepare this notebook for defining the theorems of a theory:\n",
    "%theorems_notebook # Keep this at the top following 'import proveit'.\n",
    "from proveit import IndexedVar, ExprRange\n",
    "from proveit import a, b, c, k, n, r, x, y, theta\n",
    "from proveit.logic import And, Equals, Forall, Iff, InSet, NotEquals\n",
    "from proveit.numbers import (Abs, Add, subtract, frac, Mult, Neg, Exp, Sum,\n",
    "                             Less, LessEq, greater, greater_eq, number_ordering)\n",
    "from proveit.numbers import (zero, one, e, i, \n",
    "                             ZeroSet, Natural, NaturalPos, Integer, IntegerNonZero, IntegerNonPos,\n",
    "                             Rational, RationalNonZero, RationalNonNeg, RationalPos, RationalNonPos,\n",
    "                             Real, RealNeg, RealNonNeg, RealPos, RealNonPos, \n",
    "                             Complex, ComplexNonZero)\n",
    "from proveit.core_expr_types import x_1_to_n\n"
   ]
  },
  {
   "cell_type": "code",
   "execution_count": 2,
   "metadata": {},
   "outputs": [
    {
     "name": "stdout",
     "output_type": "stream",
     "text": [
      "Defining theorems for theory 'proveit.numbers.absolute_value'\n",
      "Subsequent end-of-cell assignments will define theorems\n",
      "'%end theorems' will finalize the definitions\n"
     ]
    }
   ],
   "source": [
    "%begin theorems"
   ]
  },
  {
   "cell_type": "markdown",
   "metadata": {},
   "source": [
    "<p style=\"font-size:12pt;font-weight:bold\">Basic closure theorems</p>"
   ]
  },
  {
   "cell_type": "code",
   "execution_count": 3,
   "metadata": {},
   "outputs": [
    {
     "data": {
      "text/html": [
       "<strong id=\"abs_zero_closure\"><a class=\"ProveItLink\" href=\"proofs/abs_zero_closure/thm_proof.ipynb\">abs_zero_closure</a> (conjecture without proof):<br></strong> <a class=\"ProveItLink\" href=\"../__pv_it/theorems/f6b338ae0382635a5cba11e2f294e13fbcfce18b0/theorem_expr.ipynb\"><img src=\"data:image/png;base64,iVBORw0KGgoAAAANSUhEUgAAAKEAAAAXBAMAAACR7DLtAAAAMFBMVEX///8AAAAAAAAAAAAAAAAA\n",
       "AAAAAAAAAAAAAAAAAAAAAAAAAAAAAAAAAAAAAAAAAAAv3aB7AAAAD3RSTlMAq1RmmUTNIjK7EInv\n",
       "3XZ/CtNrAAAACXBIWXMAAA7EAAAOxAGVKw4bAAACtElEQVQ4y62VTWgTQRTHn8kms7tJluihIIIs\n",
       "CL0INgfxoLWtVEXoJVDwouhSEaGHsvWq0hVKLyqJB9EtKNODh1Ih8VspQrEIgihBhZ4CWxBaPw5F\n",
       "hEK9+OZrs+nWbRFfyOzMzsxvZt7/zVuArZiLP2Ek1ne/LJ4XXT5wa2bZ8FRWc+X1feepqOg7sXIG\n",
       "K0XW2pNM3At/J3Yx4OwX3JyBKKsEcIy9vpAINJ0E4iv8Z21zAbsaWB0GuMqcU00kaqVNiIcBXkri\n",
       "fuTjrnN2IjEPceLXZtMJiTf54TkxTyGNG8gmu7EzTjz5LbrHXwAVWxCziHvfbL5LJg4IItm1FEgi\n",
       "GY6e2mTEkiDmUJ4TAJNtgEMlHgxPqHpxThBPu8aaJGZbcXcc+b+RGIA1h800+mIUSDEK1LFj9rtY\n",
       "TdhHTjTnQWsoYjiazEtiHchPbKdwtkFD/fRFvwwpB9JBpsqe0t5worYChbokXm+isQAhHdg2kXg2\n",
       "AJgaQsQKUoNwxaMeW8WBvAerMWK+CrWyJE6HexyfFMp0Ybg8w74MO7rTg8VMz3Me8Jw4RuF1hChO\n",
       "XQugV2ldaDkJIwd8gF4KqTU2m8nzCIUzF/RVuTL6tkLhE2QaatI9QbShI+UKohW0RXg3FyjHlWG+\n",
       "uIwSaH0oyCAfMuEx4geAESX2Q040gtRnTcXjUBuxYJtv5Z3R6lhsQ+/ly1YRDvi+b+vbKTs16tap\n",
       "NnJDaL37xeiyIk7dohGiObDoSWJBqVxzjYP0mkhPRaEMmVPbKHjxW3jqbuQWyi5GvBJeXbcySA0q\n",
       "lbGCTDGiTLpvk0wRIfarVqZ/32MgdyQR8x2NEOF2AvFHK0U58Sw244sIB0WWNp1AHAvz1gMMPmOj\n",
       "z4KKmgiRBLCsPgLeuuHkiERe2oHF0oapZkQ8Jmz4X6ZzFPH+cfofH2rCpVzPe2wAAAAASUVORK5C\n",
       "YII=\n",
       "\" style=\"display:inline;vertical-align:middle;\" /></a><br>"
      ],
      "text/plain": [
       "<IPython.core.display.HTML object>"
      ]
     },
     "metadata": {},
     "output_type": "display_data"
    }
   ],
   "source": [
    "abs_zero_closure = Forall(a, InSet(Abs(a), ZeroSet), domain=ZeroSet)"
   ]
  },
  {
   "cell_type": "code",
   "execution_count": 4,
   "metadata": {},
   "outputs": [
    {
     "data": {
      "text/html": [
       "<strong id=\"abs_integer_closure\"><a class=\"ProveItLink\" href=\"proofs/abs_integer_closure/thm_proof.ipynb\">abs_integer_closure</a> (conjecture without proof):<br></strong> <a class=\"ProveItLink\" href=\"../__pv_it/theorems/ffe5cc463753b4e8528bcceb7d83a595cd2e57e50/theorem_expr.ipynb\"><img src=\"data:image/png;base64,iVBORw0KGgoAAAANSUhEUgAAAIIAAAAVBAMAAAB4Tis1AAAAMFBMVEX///+IiIgiIiIQEBB2dnbu\n",
       "7u5ERETMzMzc3NwyMjK6urpmZmaYmJiqqqpUVFQAAAB6qHgnAAAAAXRSTlMAQObYZgAAAAlwSFlz\n",
       "AAAOxAAADsQBlSsOGwAAAjVJREFUOMuFlEto1EAYx//J5rWb3ZKDr4PKkotFDxbRHkRwL0XBB2mp\n",
       "ghd38RFrTyuKN+2IIAi17KXgQXGhXoQiOQii9pAeFIqoUUEvHiIK4kW8CB79JplJt27S/cIk/5l8\n",
       "+WW+RwKsZxYdUhU4DLBt0Lqpkldh+m5/HtrB/RUHiPnCl3xArVFEgBE9BprAVuA5n9/NJ5xCIWFo\n",
       "WAtRAsoervNoWvmEpXUIn+i1KlANOARalE8Y6Sdsct1OQph1bnMC9qEa0lYK0tDpIzzaKPfAfigN\n",
       "TrgH7HHdvfkEu5E8aX3f4giCNZ9FwQxMc8Jx4ClwPp9QDhPCAjP+CEKZrRLMYGKCxAowByvuTdHo\n",
       "kXNBKtWIE/QDsOuSsOrG8KZ2lsRHqqyX5dnc7ndVpo176bTU5QT7N1TZF5ddspYgDHnfSMxQvpyM\n",
       "/KJN5cG1WfQSSi00u4JwsncPesyjWKDRWabT5PJhKGFyMxBBiCiaDt7JWqi9BFwySHygcYwSrA+b\n",
       "f8UbqnfasnOdhBDhZ42lBMXJupqclKskXtG4SYm0A3MEi8m9cU16aTEnGE5tly374X5WJ96Ez2g8\n",
       "4Rtq85CVGCu+70dojOGESGw9qcXXQ3ObJeH0dJpl88Fo+t1gp0A2mfHSu8JV5XOIMbG6o7+rH55J\n",
       "uzr7QdRl2tnMomdwvmajIldfF39ZWd+GQlSW3h+FdYHU218bLsoOM9hAwq2100nfX+OotwYSpgb8\n",
       "5W5AEaWV1/9MYfgHwsCHOzzs3UYAAAAASUVORK5CYII=\n",
       "\" style=\"display:inline;vertical-align:middle;\" /></a><br>"
      ],
      "text/plain": [
       "<IPython.core.display.HTML object>"
      ]
     },
     "metadata": {},
     "output_type": "display_data"
    }
   ],
   "source": [
    "abs_integer_closure = Forall(\n",
    "    a,\n",
    "    InSet(Abs(a), Natural),\n",
    "    domain=Integer)"
   ]
  },
  {
   "cell_type": "code",
   "execution_count": 5,
   "metadata": {},
   "outputs": [
    {
     "data": {
      "text/html": [
       "<strong id=\"abs_integer_nonzero_closure\"><a class=\"ProveItLink\" href=\"proofs/abs_integer_nonzero_closure/thm_proof.ipynb\">abs_integer_nonzero_closure</a> (conjecture without proof):<br></strong> <a class=\"ProveItLink\" href=\"../__pv_it/theorems/33e917fef293ebecc42686e24f32ef9050a448070/theorem_expr.ipynb\"><img src=\"data:image/png;base64,iVBORw0KGgoAAAANSUhEUgAAAKUAAAAZCAMAAABn/R7mAAAAPFBMVEX///9KSko9PT0oKChfX1+I\n",
       "iIgiIiIQEBB2dnbu7u5ERETMzMzc3NwyMjK6urpmZmaYmJiqqqpUVFQAAAA0nBfpAAAAAXRSTlMA\n",
       "QObYZgAAAAlwSFlzAAAOxAAADsQBlSsOGwAAAqJJREFUWMO1l4mWpCAMRZnpCUsIq///r0NAS0Ws\n",
       "TZvTx1NNdYfL4yVBIe4d0d8SJhw+3DnSTVFx+UB4P6RxNXI/Td9Tigi3U2Lkp+5PXT+zgZETojP8\n",
       "Z2pSvqcUkr/K62nFq5CkxOeUBSkJXzHMdNRSAH8VHhEcXfa8/ooySxK6SsS7DFiG4kdTzUxFTJvv\n",
       "8+nkv6NMOGskB1oKx7TVEhwqXYW0k3mHElCW4TaUVFKE3Bll4F/ibEd3WUqQ4jWld2B6LUlkK0Cf\n",
       "UEJ1u+KtSaUvU2a3g6KsgaCjJGeO/0cVC/2Y0tcjCrbOm+t1CLeUXvHidYUN5ShFmdKGUpKMHLUc\n",
       "O9m65+XxXuVm0QkSHNZzeUNpFDspyE7Lka+YUsQkEqphfWtJyTKep2FWqEP52W2Tz+2woAwbylBr\n",
       "n9R7StvsVQZ2lCKbstRQlkaZYLRHCxmLVUQpZkKbh+VjE4r9bJ5pqXBdYKU0eKalMFmsJ77X0s7H\n",
       "cOyWodm1YBXgRHx8OoTw7yeUPkAcTtonlGbiiHHqc1yeUhZZBI4LHM2lcsk8oyNonoS4u0d1N6mm\n",
       "ZW/MjFvK1LI+0Y4SBpcHnLcLdkjp5zJMKi+dnxr67mQipRqnaPn3T2Atq0EOJgG1OXEsOEm2/W1N\n",
       "747N4zEVhjU7Lm7NdjlmNjjzb6Q0IJZaahZNS45HOtt0y/EM2lIG21GajH5naOsmhduL38F7ffnh\n",
       "i1O9g0SHdfAudUmeEqGW1udFVb3Vx73GfYd8MVzsc54LcSxAdu1EPtmaOub168KXd6IX9XnqpVFs\n",
       "Sx/NthXpai0v37luqF+gjId+40NMUK96tCRezLk4DN1bvSmn+yklPW2E7MsPwzf7Q19IDxOfSHn/\n",
       "e49I+uaAv/EOedv7+JqQNT/+A8zRHV+QRvoBAAAAAElFTkSuQmCC\n",
       "\" style=\"display:inline;vertical-align:middle;\" /></a><br>"
      ],
      "text/plain": [
       "<IPython.core.display.HTML object>"
      ]
     },
     "metadata": {},
     "output_type": "display_data"
    }
   ],
   "source": [
    "abs_integer_nonzero_closure = Forall(\n",
    "    a,\n",
    "    InSet(Abs(a), NaturalPos),\n",
    "    domain=IntegerNonZero)"
   ]
  },
  {
   "cell_type": "code",
   "execution_count": 6,
   "metadata": {},
   "outputs": [
    {
     "data": {
      "text/html": [
       "<strong id=\"abs_rational_closure\"><a class=\"ProveItLink\" href=\"proofs/abs_rational_closure/thm_proof.ipynb\">abs_rational_closure</a> (conjecture without proof):<br></strong> <a class=\"ProveItLink\" href=\"../__pv_it/theorems/e6e5392bac31d05959f35158f5a0daf982e260520/theorem_expr.ipynb\"><img src=\"data:image/png;base64,iVBORw0KGgoAAAANSUhEUgAAAJ0AAAAaBAMAAABfvUOFAAAAMFBMVEX///+IiIgiIiIQEBB2dnbu\n",
       "7u5ERETMzMzc3NwyMjK6urpmZmaYmJiqqqpUVFQAAAB6qHgnAAAAAXRSTlMAQObYZgAAAAlwSFlz\n",
       "AAAOxAAADsQBlSsOGwAAAtFJREFUSMellU1oE0EUx/9J9itf7RQPFQ+l5CBKQYqIinioILVIhT3U\n",
       "4i1RMH5DxIIXMQv1ImIbD4KHohGxHiy1grWipaRIEUFxBUHBIhFFEaF4Cagn38zObrOJm0QcyGTy\n",
       "8uY373MG+M+hHxdfyq6+VrQTxaYqQ6f4vIhJxJvz3rdwZugkTdvQbhmZZqpqAbDk2gh24iCMCiI2\n",
       "GdlkaCVgr1wrta4PZbOPJHC7XkG4hLAJlLlgOYA3imBe6FPO2CSSoPYXiRdhCBHsMZdcC+A9aMAb\n",
       "HATuTvJALOS4v+021ApwnkuCAvk7mKf3UWy1BIOxkpP5ACaAKPms2AG1VannhQ6lNorQ7ifnlFxB\n",
       "/S4S1oFpmh9SLCnk0aBK6K7jxa6Yzs9hnQFJe041ZT3P0ryGPptTqS0BvLaCwzM+r2WSd1HiMBIj\n",
       "Q2Kll74N9+jfOeBwULlkHN4tS6tInpe5mwkKks78lZGnUI7BKPvK6sSKW8LRsuCpOxHvlryCq3Yh\n",
       "Kexbp2dpHJXCcdLRTC9zele2aOyG4joRnhG8+A+E+xyeTtFJrRe2O/Gb9dmXJp0k89LxhMxVLkN9\n",
       "Yfnsi2S4ouCpXmVpB5z8+njjvHQKvO2GFgcQIg9w9h3AmI+XZnjl5rfb3Rpz6s9faXluyL6rdO4G\n",
       "/SeGuWiptMprc/KRtvEtaTm8Dm/vPPXH9CTq8otRsiI+o/diios4i8m7MdQreBpL9sSlfVHPIIX3\n",
       "74yf91RYQU5HitTLzylT9p0qf2NOf6gf94x1Sp765ba7+dKvG3M1BbbgJcbSlswRcWxVPrCjvt9i\n",
       "/U6/0fiaYDW8CXcRsfJTpmaKmoGy3Mr9Qo6xrrc+Ib9fpGfzrwdhHBH13HM954rPNOThw7GtJd9F\n",
       "Xa67cWnTwLlVC+yGvNoRtv4mjS/fL1a9H53uZZNrygt4P04/85Zv/uUpbv6+tfL+VjlG+fwDPBO5\n",
       "LFaaXuIAAAAASUVORK5CYII=\n",
       "\" style=\"display:inline;vertical-align:middle;\" /></a><br>"
      ],
      "text/plain": [
       "<IPython.core.display.HTML object>"
      ]
     },
     "metadata": {},
     "output_type": "display_data"
    }
   ],
   "source": [
    "abs_rational_closure = Forall(\n",
    "    a,\n",
    "    InSet(Abs(a), RationalNonNeg),\n",
    "    domain=Rational)"
   ]
  },
  {
   "cell_type": "code",
   "execution_count": 7,
   "metadata": {},
   "outputs": [
    {
     "data": {
      "text/html": [
       "<strong id=\"abs_rational_nonzero_closure\"><a class=\"ProveItLink\" href=\"proofs/abs_rational_nonzero_closure/thm_proof.ipynb\">abs_rational_nonzero_closure</a> (conjecture without proof):<br></strong> <a class=\"ProveItLink\" href=\"../__pv_it/theorems/2f7ad6e3d68ea370da1bd059e1742a41a48d34740/theorem_expr.ipynb\"><img src=\"data:image/png;base64,iVBORw0KGgoAAAANSUhEUgAAAKcAAAAZCAMAAABjCM7bAAAAPFBMVEX///9KSko9PT0oKChfX1+I\n",
       "iIgiIiIQEBB2dnbu7u5ERETMzMzc3NwyMjK6urpmZmaYmJiqqqpUVFQAAAA0nBfpAAAAAXRSTlMA\n",
       "QObYZgAAAAlwSFlzAAAOxAAADsQBlSsOGwAAAr9JREFUWMO1l9uaqyAMhdmHyCFAAN//XTfHimBb\n",
       "R91cOK3fFH5WkhVg7OHh7DPz0PTh0eGfmla1D1r9B0xp8tTja32Dkzl4nlO59BRj7MW3ZJBCxUH6\n",
       "iJMtMj7CFjJ3G1NzdokTAsf46yWII05IjPSawuj7yS8ucQonskaWbMKjpC1Pj6KcXKOgGB7M19Ve\n",
       "4UTBTBPxlYw9jUm8Rta5/G1MXOUpTlBLHOYVYimrWAIb8Y6T0hdX09LclxMWdoLTGpC7GlIMq4re\n",
       "M8KZE3La87S5hYv7nMHssHQQoGHk1EZOYbdVq/jX+ZnT5jiVHSj5gCupntPyWJgqL9FzTuVq4QUX\n",
       "dW2uQ7t8wrzt9jjp5Ul5DR4mfzCh45Q8rUjLqOeUX1q84KKecFByutRnkvJDRUYPphD0vvOm4E0r\n",
       "LtRx0ppfiYETS5rFoTar7PPzIK6ycHo4qiKEoJRN2xXZ4nx/0JAps7n8pCdX2wodp5ztT0k91/te\n",
       "T6yhmHsotcITOhFK5zQTRPT3D8XWoFM4F/zAKdc0pVunel8mDNv7pz/0O12ts9WgFA5EegmtiSL6\n",
       "/E/AoMvvoueYoEH1nL44QPp5zwnzsYJaPwr2sNnY6suaVyHkogv8Fh0nC3HijHr+/kVJzyzAFKLi\n",
       "cxVLRR4fM5ZG/zSzZKL19+NToeNNCGzBToleCq+tXXWMlGkjbaJY706/23ep9wACdQAcOWVQdsxs\n",
       "TasxK+GbY8NoRtzW04kzKg/P7C7u9Nll+bn+boXq+2aT6u1B07ix/pMzOylTj3itsdXR10vFxfNS\n",
       "AY1KBI/2yJZGdXhKT+tk354wCyxOnU6RX+dkPijD1cEybupBlpyHXHta4ebzC5mA5zq8v875diz6\n",
       "602g5pvGk2f9cj+CcVOANzB/cD8i7whOaeIfOHYNVvCT8zuCOynJU/f3TaNcKf8AmZ8gICZ2wc8A\n",
       "AAAASUVORK5CYII=\n",
       "\" style=\"display:inline;vertical-align:middle;\" /></a><br>"
      ],
      "text/plain": [
       "<IPython.core.display.HTML object>"
      ]
     },
     "metadata": {},
     "output_type": "display_data"
    }
   ],
   "source": [
    "abs_rational_nonzero_closure = Forall(\n",
    "    a,\n",
    "    InSet(Abs(a), RationalPos),\n",
    "    domain=RationalNonZero)"
   ]
  },
  {
   "cell_type": "code",
   "execution_count": 8,
   "metadata": {},
   "outputs": [
    {
     "data": {
      "text/html": [
       "<strong id=\"abs_complex_closure\"><a class=\"ProveItLink\" href=\"proofs/abs_complex_closure/thm_proof.ipynb\">abs_complex_closure</a> (conjecture without proof):<br></strong> <a class=\"ProveItLink\" href=\"../__pv_it/theorems/8e8cb0f0e043cb9cdc42f593900dd5391ba2b7070/theorem_expr.ipynb\"><img src=\"data:image/png;base64,iVBORw0KGgoAAAANSUhEUgAAAJsAAAAaBAMAAABSozPCAAAAMFBMVEX///+IiIgiIiIQEBB2dnbu\n",
       "7u5ERETMzMzc3NwyMjK6urpmZmaYmJiqqqpUVFQAAAB6qHgnAAAAAXRSTlMAQObYZgAAAAlwSFlz\n",
       "AAAOxAAADsQBlSsOGwAAAqFJREFUSMellUtoE1EUhv885pFXE62PjQhGF4ILg4jWXbIR0QojFkGQ\n",
       "mIqZah8aULAomCnu24AoLqrMQhShaBB8oFJTNAuli+iqCxfpQkF8oIuICgXPzNxJZiaZTooH5ubO\n",
       "nZvv3nP+c+8B/s+EYf0nmEl3M/ut54yBMa2dwx1EPOfGyt4r+kap2Y24Iua8ph4FRLOvuE2KDkJs\n",
       "IFCjLXoYLRxUWX+/nXFV/rN5lPX7hAb8FfgloK4NfOhME1OuOPBiPfw1r/W4vSrhAgn4iPVMG7nR\n",
       "GRdJL4dLI3dZW3O2oDkbr4FrAPqISxDj6vK4pyH67/cCkwKYBkLkcLDWGVeU2nHrkslSE8eD+6JL\n",
       "tAr3qX1McawQ0kWJ1WjD3Vtr2d3HLDiJpfEjanvp2ZFM7nTBfWa4ycwEw4nXLM4KY46YPyD2EyDv\n",
       "gpMNXLgPZyUDF1JauD3bN0mO4FAYJyHWbVk+sjjBurcM3OEKHrLdhSxS9FcpiIJMdoqNTZEnvNQM\n",
       "j7BRVrkzSuwke99m4F4CWxjuXJIsx5zNzzu8OU6gWKK55HPabPAQ8Nq+u13g/jLcEWuiXOIdzk5p\n",
       "OVPSztrA3D74SGQcu9g6pwaO+4noD4bzW3GRcUe+FrXIHiS1uK3Cb2PphYXW508Gbgk9pQUD50tY\n",
       "cFxuQ7uyuEJKRMpCCjPaULXa+txrODuI9+Uyy7ubLVwZ87xqw73Smh7yOKDS+X1DItUu3LWvRrjs\n",
       "mvHFAsNlhyXzRvml8KeXbLjZpiYKX5XO6/lNUnBsNNDhzN4+YRyyTjZtdgJKcUbShRIPKMh0caN0\n",
       "MO1GMSz84l0/xCH98r8+UjDzMLUiXLTuKCOybI/ttxXh/Ip3rfCZW13vifOsFbGuqqdZCjwrWRd1\n",
       "1lIKSMl/8WimrxcgWasAAAAASUVORK5CYII=\n",
       "\" style=\"display:inline;vertical-align:middle;\" /></a><br>"
      ],
      "text/plain": [
       "<IPython.core.display.HTML object>"
      ]
     },
     "metadata": {},
     "output_type": "display_data"
    }
   ],
   "source": [
    "abs_complex_closure = Forall(\n",
    "    a,\n",
    "    InSet(Abs(a), RealNonNeg),\n",
    "    domain=Complex)"
   ]
  },
  {
   "cell_type": "code",
   "execution_count": 9,
   "metadata": {},
   "outputs": [
    {
     "data": {
      "text/html": [
       "<strong id=\"abs_nonzero_closure\"><a class=\"ProveItLink\" href=\"proofs/abs_nonzero_closure/thm_proof.ipynb\">abs_nonzero_closure</a> (conjecture without proof):<br></strong> <a class=\"ProveItLink\" href=\"../__pv_it/theorems/34ae69aa2a9324a2659cdc151adf51d44b48ea930/theorem_expr.ipynb\"><img src=\"data:image/png;base64,iVBORw0KGgoAAAANSUhEUgAAAKUAAAAZCAMAAABn/R7mAAAAPFBMVEX///9KSko9PT0oKChfX1+I\n",
       "iIgiIiIQEBB2dnbu7u5ERETMzMzc3NwyMjK6urpmZmaYmJiqqqpUVFQAAAA0nBfpAAAAAXRSTlMA\n",
       "QObYZgAAAAlwSFlzAAAOxAAADsQBlSsOGwAAAo5JREFUWMO1l+uaoyAMhtmd5ZBwCOD93+sS0NEi\n",
       "Wqc6/LCtfYSXL18SFOLZEcMj09Duy5MjPTQrLl8cPg8Jvk3d3XafU4ooH6fEWD9MF3ZzZoPoNeLk\n",
       "lZ4f7iiFgnLJa7TiXUinxc8pGckVipAjwoBSMiF9z+Ddbc+bTylN/bAVCMvQfGmqwVTYbX7Op1O4\n",
       "Q0lO+IGWwjOtn2U26S6kneASpURVhh9Q4oiS+Eec7ehvSymVuEAZvIShlhkgjyhldbvmnSltblNm\n",
       "/0LlspFO9pTOwzjiFtOaGVvKUENEtt6H+3UIt5RBlzWxrrClHORoodReTWqjMb0YydY9L5drlZtF\n",
       "dzLJ3XI+byhBs5NI9Vr6cfbECEeWcy0pWcazNJRIeY7dsk0O225WRRtKmuot01Ha5q8y8DXiCPGg\n",
       "XkOjTHK0RSszIouCuaiW0GyOE8CG1nCmpcZ1gQ0l4EElsnRkOlcjzoj7bknNrmUJqP9FIwwR/fui\n",
       "0gccB1LZE0qY+Kk47XJcHdVLsgcV205uLpVL4oGJ0vBNucgP0YbNkaEFtWnZGzPjljK1rE/ulVLK\n",
       "A8qishzGPMxl2OlZBVCuoa+BSS4tNEXLv3+ItawG2ZlE6k3EsdCk4lTq66VPA0pqhRtH2RGXabNd\n",
       "wsz+Zv7vXUWIq11gyY+S49EdbbrleJbGuixtTwkZA+zORMhlC/00aIDUlx8d5jNI9FhHEtaG1X90\n",
       "XlT1tT4eDL50yDfDxz7neUcRQNi1E83ZI+D968KHZ6I39XnqpdFsy8AhXquCM8SxNRfOzFb/AmXc\n",
       "9ZtAMUkT6znOrs2mhJ/spU6enqdU7rQRsi9/OP3c5WS3JWlvSPn8e49I5uEJf+Md8rH38a6q/Acb\n",
       "KB3+fUJU6QAAAABJRU5ErkJggg==\n",
       "\" style=\"display:inline;vertical-align:middle;\" /></a><br>"
      ],
      "text/plain": [
       "<IPython.core.display.HTML object>"
      ]
     },
     "metadata": {},
     "output_type": "display_data"
    }
   ],
   "source": [
    "abs_nonzero_closure = Forall(\n",
    "    a,\n",
    "    InSet(Abs(a), RealPos),\n",
    "    domain=ComplexNonZero)"
   ]
  },
  {
   "cell_type": "markdown",
   "metadata": {},
   "source": [
    "<p style=\"font-size:12pt;font-weight:bold\">Non-Negativity, Non-Zero, & Positive Definiteness Theorems</p>"
   ]
  },
  {
   "cell_type": "code",
   "execution_count": 10,
   "metadata": {},
   "outputs": [
    {
     "data": {
      "text/html": [
       "<strong id=\"abs_is_non_neg\"><a class=\"ProveItLink\" href=\"proofs/abs_is_non_neg/thm_proof.ipynb\">abs_is_non_neg</a> (conjecture without proof):<br></strong> <a class=\"ProveItLink\" href=\"../__pv_it/theorems/76bf703d95d3de793ab1127f6827b1e89a75e4550/theorem_expr.ipynb\"><img src=\"data:image/png;base64,iVBORw0KGgoAAAANSUhEUgAAAH8AAAAVBAMAAACd/CwcAAAAMFBMVEX///+IiIgiIiIQEBB2dnbu\n",
       "7u5ERETMzMzc3NwyMjK6urpmZmaYmJiqqqpUVFQAAAB6qHgnAAAAAXRSTlMAQObYZgAAAAlwSFlz\n",
       "AAAOxAAADsQBlSsOGwAAAh5JREFUOMuFlMFr1EAUxr/sdpLsdlP2IChIS10KFrwUEfW4BRGxFaZY\n",
       "BEG0gsZDoeZQUDzYrN7LXiyCUtaTl0KXUhDtglt1D9KD0dMehG7/gwoeRBF8M0mGdDM2EwIv8/J+\n",
       "mfe99wIctmy6ouXr/D4y1jAGGpF5Wed/RXdPGN/18U71EMCF4z6MNvBOPDzXA66jD8BeKl8hYOPA\n",
       "M+CxSHVOD2j1AzB7IvZ9AC4CO0Ti9FagB0ykADDGeGgsALsceY4SpVH4jwT1NACliPAHWApQoOjT\n",
       "lcoZPWCwGgKWJ2sJEZ0XonhMANoYoBq8Ae7qAQJPgOJ53OeJKhRX6Qz2TwKUUaJDLsPuJcOM+b1a\n",
       "aOUCCbjaxkayjMWVGFCFQzKZXOVpjbgNtuA7d8LHfEMC3gNjyRRWZQoEWC/D2qeNstJwy6OIGeDT\n",
       "AcBZsN8JEU8pEXcDFOkEqG+LAm9fkn2FG48QD0CYAvuB0n66jC7whcMZJfMKtRMbt37hmnB0uypZ\n",
       "sywBfzFU76Ya6SPwls4jWvApaTjYtCawJhydjgKIGlEKt/Gt2Uy1ci5g58JKY8gT6Ro9fHZdN3jw\n",
       "Wr1jjUrAzSMP97zUMLHNEYrLxfrf8s0OX5SfJRFZtHsSGeOMJ7GR95fWuCn0sad8TEa7O5mAlmqO\n",
       "1tdp2PekTivzXqyi3z/OFbk89cfqG+NZ120cyHMu4wRm1j+tBiP+2lGd/xjwD6gohoP5jVe5AAAA\n",
       "AElFTkSuQmCC\n",
       "\" style=\"display:inline;vertical-align:middle;\" /></a><br>"
      ],
      "text/plain": [
       "<IPython.core.display.HTML object>"
      ]
     },
     "metadata": {},
     "output_type": "display_data"
    }
   ],
   "source": [
    "abs_is_non_neg = Forall(\n",
    "    a,\n",
    "    greater_eq(Abs(a), zero),\n",
    "    domain=Complex)"
   ]
  },
  {
   "cell_type": "code",
   "execution_count": 11,
   "metadata": {},
   "outputs": [
    {
     "data": {
      "text/html": [
       "<strong id=\"abs_not_eq_zero\"><a class=\"ProveItLink\" href=\"proofs/abs_not_eq_zero/thm_proof.ipynb\">abs_not_eq_zero</a> (conjecture without proof):<br></strong> <a class=\"ProveItLink\" href=\"../__pv_it/theorems/6962e0e7129e2c397797db591046d66812ee92bf0/theorem_expr.ipynb\"><img src=\"data:image/png;base64,iVBORw0KGgoAAAANSUhEUgAAALEAAAAXCAMAAABzsl4EAAAARVBMVEX///8NDQ0WFhYLCwsYGBg2\n",
       "NjYbGxsSEhKIiIgiIiIQEBB2dnbu7u5ERETMzMzc3NwyMjK6urpmZmaYmJiqqqpUVFQAAAA0WiBi\n",
       "AAAAAXRSTlMAQObYZgAAAAlwSFlzAAAOxAAADsQBlSsOGwAAAqpJREFUSMfNl4mSpSAMRZm12cKO\n",
       "//+pQ4Ii8tDndJU9Y9WzS9ro4ZLcIGNfedj1N479RfjXHjyVk/LHwfG6HkFPBj3Hc27XKT4MnBS7\n",
       "S2zgcIvigfTliBhagHtYdO3YbWIw3YUrS6MF0bkivdlEtvCwxCHeJja5u4iCbiO8GFZsGkoPE0t2\n",
       "mxj65QbCTwtxynKOa/q6p7PY3Sb2vcRsCST7Qoo6pJUCD6meTgrVE9qsuOUnxIeK0hsxKatwMoGy\n",
       "HPT9d1/W19k/XOyIvSxQQAvdEQfSTvz8gedWX4uqxDS/6Gi62+nMRiHkVZCaWBfA9f3Fjl6WTKT9\n",
       "Di3JpsRc46NpNWL6k+Qm72uc4RkAnw65PCGBukNcJx7L7Px4l/Q7cVhoDlN/Zv64hrqi+qqxocjE\n",
       "J3UXwmqJStfluEWcSR6JoYs9J5ZAKH5KPPaFmsepVp6Xq03Edc21ilzZrbvQSDR+aOo9cQuo8qi6\n",
       "jpifMp1mhSa94jJ6BeXx9281m1uaQnXi6m5JrFa8mjJ2FoPi6EaVbBp7YUfcAgLg8VF+sQzg08TQ\n",
       "9IF3xEifHcNHjxq7sXYjyRpqFsT6civzlgolU/AG314XddTnxC2AsX1hKrHkQ03mPSuQPolArjMQ\n",
       "p1cnwtXR0hw8Mps913gmEyHNIDFjvDknbgEkOGzVjcTLkBVGdF6RuTI2c/NK7F7tUQfFN0Lhh7JE\n",
       "l4xaM7PX2Vp5ndHCJACz4vcvoKyYVx4T5kbPS9eNzIrRgTArPabB3lCsop2emvrxHtBvXzgfO23b\n",
       "xbwjdvrObqq3wpi4irSTM7sdlBQJZpoVe8Cha+KGVp/sby6J4xuJr5qXVrjE0++DeVjibzfI8JZY\n",
       "XEsMn9zCz4lv7P2o0/OhkA/X5vqr67PfHFPi5Nn/e9h/+vY/ZCgmSwF0Rn4AAAAASUVORK5CYII=\n",
       "\" style=\"display:inline;vertical-align:middle;\" /></a><br>"
      ],
      "text/plain": [
       "<IPython.core.display.HTML object>"
      ]
     },
     "metadata": {},
     "output_type": "display_data"
    }
   ],
   "source": [
    "abs_not_eq_zero = Forall(\n",
    "    a,\n",
    "    NotEquals(Abs(a), zero),\n",
    "    domain=Complex,\n",
    "    conditions=[NotEquals(a, zero)])"
   ]
  },
  {
   "cell_type": "code",
   "execution_count": 12,
   "metadata": {},
   "outputs": [
    {
     "data": {
      "text/html": [
       "<strong id=\"abs_pos_def\"><a class=\"ProveItLink\" href=\"proofs/abs_pos_def/thm_proof.ipynb\">abs_pos_def</a> (conjecture without proof):<br></strong> <a class=\"ProveItLink\" href=\"../__pv_it/theorems/92bd3b098daecb9cbb068adf20b50944f59df17e0/theorem_expr.ipynb\"><img src=\"data:image/png;base64,iVBORw0KGgoAAAANSUhEUgAAAPIAAAAVBAMAAACOB66tAAAAMFBMVEX///+IiIgiIiIQEBB2dnbu\n",
       "7u5ERETMzMzc3NwyMjK6urpmZmaYmJiqqqpUVFQAAAB6qHgnAAAAAXRSTlMAQObYZgAAAAlwSFlz\n",
       "AAAOxAAADsQBlSsOGwAAA2JJREFUSMeFVl1IFFEU/tzd2dm/sX2IFCoRC5TCkMqKiFghKqxkSwmi\n",
       "aFeoLRBsibDoIceCoBfzxeihYMOHXoQWESoT0spAfHCyHgwCVxCiN4WEqITOmXvd1Z0728AZ7r1z\n",
       "vvudv3vuAKWegBBTTk03HcVjum5quoMKz1YhzXLarNIJRVWrZZbrps8kKMeTb2odIybEldnX9ArY\n",
       "ooJ+Ue94ZLOJsjHYoBFeeKzWOyfFlfkpzpgIxp1IrU+5YdDS6oB+HsVxh6OeVDOPSnFjjlTDl0Qk\n",
       "60SGx5QbvgOOAlMMzdoW+1yS0iDFjdmfg7EMNMop+annxNCr3rATmIvDy0FqRISsC7qkuU+IK/OG\n",
       "LPQV4IksKvbzihh/Ve/4B+i2EGRFAu2uqdmr1gvHhDBjb1OPkzlBzH+BFjHrsktDJH2Yc7hQWVT2\n",
       "GjOPwceBIdBL4LKamW2z7WtG6ACuxQVzuMZ+GP0wBn0JmLS19T28vK3fnnAYBkz/Mo+HbP1dbMtP\n",
       "Yo4iwnEkUC8CuXUnsWO+R4w8lhBibB3DkNNnZqbNPtuTTcLbLrtm6snBQwhXFzUdZo7B4NohkD/u\n",
       "y8gvelUqo3WaxiVZJhkhxPgW2K6Idgwh8rmbx63SfO0wvw9SbBbhiRVFm5hfRKEvwgYZ0XyBvUlT\n",
       "nZ8GPjiY90H7rawwgypswPZnQaw9iElmbxKJjLPC5iyE2GcG9Y3Tq238uCjOC7fzXbUQbW0JkUU4\n",
       "8uynw0ypnBGHW6zXQkY7EcU01ucZKWA6DoOTwKBTVBRanf4LZ/nj7GzhuEaFEPMKyvtmnZ2kAWGq\n",
       "lo9iNmVXpbgp2onZwg+j6N54D7wmGDcuBt0j88NZvQGD/HFiotCVc0KIsR0z2ayze9ajNS2OED3l\n",
       "HNsRMW5hm42d4SJ9j6XtlyeVQeVpTmdZDpOpVMq6+Tyvp1cLIcaLG2/Np53M55u+03tHoVev9uHr\n",
       "NJ0/1ltR3M6Hq4jMkymAkDD9E/EbtqNUYZpcrZVS8pZEoHrNxStvD0+6xN17dy3Ia3YPxv0MC5ww\n",
       "0YRC5qb+y6y6HVS3yLqLKA8KjX46iYDddNsedawa7DeFlGa+r1q8WuJHJ+kEtaVS606glhRSmllJ\n",
       "ctadmX0pZZn99AhZLZQK5X+P+u8s6rpppQD9A5J41KHDUcVzAAAAAElFTkSuQmCC\n",
       "\" style=\"display:inline;vertical-align:middle;\" /></a><br>"
      ],
      "text/plain": [
       "<IPython.core.display.HTML object>"
      ]
     },
     "metadata": {},
     "output_type": "display_data"
    }
   ],
   "source": [
    "abs_pos_def = Forall(\n",
    "    a,\n",
    "    Iff(Equals(Abs(a), zero), Equals(a, zero)),\n",
    "    domain=Complex)"
   ]
  },
  {
   "cell_type": "markdown",
   "metadata": {},
   "source": [
    "#### Equality"
   ]
  },
  {
   "cell_type": "code",
   "execution_count": 13,
   "metadata": {},
   "outputs": [
    {
     "data": {
      "text/html": [
       "<strong id=\"abs_eq\"><a class=\"ProveItLink\" href=\"proofs/abs_eq/thm_proof.ipynb\">abs_eq</a> (conjecture without proof):<br></strong> <a class=\"ProveItLink\" href=\"../__pv_it/theorems/9763e0bdf84de5caa20dbbe6745749c7e51ed2f40/theorem_expr.ipynb\"><img src=\"data:image/png;base64,iVBORw0KGgoAAAANSUhEUgAAAM0AAAAXBAMAAABaN9YTAAAAMFBMVEX///+IiIgiIiIQEBB2dnbu\n",
       "7u5ERETMzMzc3NwyMjK6urpmZmaYmJiqqqpUVFQAAAB6qHgnAAAAAXRSTlMAQObYZgAAAAlwSFlz\n",
       "AAAOxAAADsQBlSsOGwAAArlJREFUSMe1lk9o03AUx79dm6ZN0izFPxsWRu1FEJQqguCpAy+bKCmO\n",
       "KajQgXbKxihWETxo5vAqvSgeFDoQRJhsTsGhPXTgBPES1MPEgSkOz7sMdvDg+/2SprYLbYn6Csnj\n",
       "9/3lffJ+v/d7KfBXZtDPdZst4jHHrwVMDNf94RYtVHaFWbpazF3zyfmCrjiBKvCGuQ/9YYRSdxzc\n",
       "B26xpcz548jVLjkfgahOQ6Y/ThBdcoI6FHqnqM/t+dotJ0qQw6nUEZ+cV3aU7MCZ46YXJ1uBYDEh\n",
       "RNX2GrjUbg/aaI9szkKgJidtzmKK2UGHk/kMZYMJChXMPUQsr6MxUZtm93AbzgHOUQxlU6165COa\n",
       "i1BzTIilKZDurqRj4kC+LEwZsYudOMc4R4Rc8twfAYcQ1JggbhBLay2DtwWalQXedccBC+ZZB9Im\n",
       "bheYIFE+KC3TJb6UoC4kDUDlpxfnbzodyuYEEtNLzvOzFqymdQPmDUH32h/KcwefEUvSwEk6rQHj\n",
       "Z5QOUbZXL2KUzVpddWLZnH4191jOk00K2qaYdrQxzhkt/0DIM5+whSkuKKwRzNDrKRgTyb37Cbsx\n",
       "x2atrDRxqmGt4LThC8lAvX2c4pzv11/iuSdHtqRfXJAzNKDyCFtcXEcNH+i1zRtPmzjodXu7mlE1\n",
       "x73KOefisYrpyRHWE1tc6HErTUzz3diPo7jGZ1EdCH9wijDsdaNngk5q6Cl06gchu9PeqQ/OhEoy\n",
       "RoB90gYVOlueEwYGXU4kPYQFN/h8/SlloT1nCKftRCvuqd8zuAtFE9/elxAZZyMjDyYKjXxePInr\n",
       "ztRY5Yob63J7zl7aBya0fg9MwQhTUY/k842Tu+38nMWk64+256wlylwIN3+4JV3VnrWG3capSaXG\n",
       "fwANfXW/r7VxFVyhv1lRIC1nOnLmduJ/WOTfhPkNhS+qOk2VZEkAAAAASUVORK5CYII=\n",
       "\" style=\"display:inline;vertical-align:middle;\" /></a><br>"
      ],
      "text/plain": [
       "<IPython.core.display.HTML object>"
      ]
     },
     "metadata": {},
     "output_type": "display_data"
    }
   ],
   "source": [
    "abs_eq = Forall((x, y), Equals(Abs(x), Abs(y)), condition=Equals(x, y), domain=Complex)"
   ]
  },
  {
   "cell_type": "markdown",
   "metadata": {},
   "source": [
    "#### Evenness"
   ]
  },
  {
   "cell_type": "code",
   "execution_count": 14,
   "metadata": {},
   "outputs": [
    {
     "data": {
      "text/html": [
       "<strong id=\"abs_even\"><a class=\"ProveItLink\" href=\"proofs/abs_even/thm_proof.ipynb\">abs_even</a> (conjecture without proof):<br></strong> <a class=\"ProveItLink\" href=\"../__pv_it/theorems/68594ab9f47db38dc652763068eb1de5ae1a7bae0/theorem_expr.ipynb\"><img src=\"data:image/png;base64,iVBORw0KGgoAAAANSUhEUgAAAJ8AAAAVBAMAAACqHiFtAAAAMFBMVEX///+IiIgiIiIQEBB2dnbu\n",
       "7u5ERETMzMzc3NwyMjK6urpmZmaYmJiqqqpUVFQAAAB6qHgnAAAAAXRSTlMAQObYZgAAAAlwSFlz\n",
       "AAAOxAAADsQBlSsOGwAAAgZJREFUOMtjYMALGoAQQwiHAAcWOXTAeIHBC10MpwDLAoaFQOoBiH0H\n",
       "h4FXGEgzkPEAA8MuEHsGdvNYJ5BoIMNUBoY6kO8TsBvIfYBUA08zMHAGAJkXsBvIzECqgcwBDDxA\n",
       "V3DiCMKbJBvICTTNSEnJBIeBW1D1B8qFu2CNdlbBpyW+YANZgHG8nYEhFYeBc1AN3MD4kFsBIsCt\n",
       "BAYPIAZyM8gJbAIbyAOMxj4GjgcoaS/7YSOUqYtiIE8Dz1e+A9hceILhfMAbsIG8BgwMbAEgFhiw\n",
       "y6UtYM1r4E2B8q0gHpoEdk0BOwP3BOxhWMCwExqG7B+AhgrA42R3AVA4kIHhCIqBSLEugCtSDKEG\n",
       "cgFdyDDhIJAQ3CHdAErnDDFV4FyJxcsMDOsbWAOwhSED1w+GUIiXFYACvsDkzdjwjPNCGEj6xg2E\n",
       "AYkoBoYteMzAgs2FrFl8BgwOkEgBZZFmoD08DInsDGtA0kePIpT6oRh4v3Qzw1psBvJ+jzbgugA2\n",
       "kNsBKMBXABL+wcBwMi0t7UL5coTSIhQDowV591zA6sKNArfPQsKQCRa/DOwGHAwl4PQOjBRWqCBT\n",
       "Aak5pQkm2MwygRuYgEAFhXcDgyMs5W0g1cA98HJFylGUgSMdxAyZll0AE84g0UD0YiskLW0BikAY\n",
       "iQayEaoDOAQYxNHFcAowFjBIMDAAACCLgVF+Wtw1AAAAAElFTkSuQmCC\n",
       "\" style=\"display:inline;vertical-align:middle;\" /></a><br>"
      ],
      "text/plain": [
       "<IPython.core.display.HTML object>"
      ]
     },
     "metadata": {},
     "output_type": "display_data"
    }
   ],
   "source": [
    "abs_even = Forall(\n",
    "    x,\n",
    "    Equals(Abs(Neg(x)), Abs(x)),\n",
    "    domain = Complex)"
   ]
  },
  {
   "cell_type": "code",
   "execution_count": 15,
   "metadata": {},
   "outputs": [
    {
     "data": {
      "text/html": [
       "<strong id=\"abs_even_rev\"><a class=\"ProveItLink\" href=\"proofs/abs_even_rev/thm_proof.ipynb\">abs_even_rev</a> (conjecture without proof):<br></strong> <a class=\"ProveItLink\" href=\"../__pv_it/theorems/5ec1e09a251343c1f05038cee7a778558f1e39a90/theorem_expr.ipynb\"><img src=\"data:image/png;base64,iVBORw0KGgoAAAANSUhEUgAAAJ8AAAAVBAMAAACqHiFtAAAAMFBMVEX///8AAAAAAAAAAAAAAAAA\n",
       "AAAAAAAAAAAAAAAAAAAAAAAAAAAAAAAAAAAAAAAAAAAv3aB7AAAAD3RSTlMAq1RmmUTNIjK7EInv\n",
       "3XZ/CtNrAAAACXBIWXMAAA7EAAAOxAGVKw4bAAACBklEQVQ4y2NgwAsKgBDORAXsDJgCBQwEAJ8C\n",
       "w1YYeyuaHHcApkAckBIAsZVxGKjNQJqBfAYMDK4gdjp287gSSDSQIYuBoRHk+wnYDWQxINVAEwYG\n",
       "tgVApgJ2A3kYSDWQZwEDM9AVbDiCUI1kA9mApp29e/c0DgO9Iease7hitwI+A7neSXVvAgtwA+PY\n",
       "g4FhFg4DkyEGOvDJsVyAGMhyFwwEUA1kYXj4wBcswAyMxkIGdgGUtDdFrg7KvAQ2kLmA+RejAT4X\n",
       "mjPYLxAGCzAdYGDgXACX4ng4M4BrYgHTbCj/KNhADgaWBOxhuAzs3BsMDQxuUBs4PgANfQCPE5cG\n",
       "oPA6BgZrFAOBcfeAUKScgwqwAl3IkGAHJN65PykApXOGxa2IbHoJak58AdcCfGHIwPqdYRXEyxeA\n",
       "vE3A5M1XIMmmsBIkp66OUDcPbODKABkGbnwu5JrKeIBhAyRSQFmkBmgfM8M8DoZgkKyVFULPRrCB\n",
       "+l0+DEH4DGT6seQAqwJYgGUDkM/YABL9zsBgNnPmTIWOCISeXrCBS94xOSvgdaHfAxUjiAAvXJDj\n",
       "ADtDN1gdMFK4oIK8DaTmlFoYp4Y7gQWYgEAFxZYChn1QUWYHUg10hqf1p/teMbDPADFXZ05pgAlP\n",
       "J9FA9GJr9cyZqKpWkmggJ6E6gP0BwwsY+wV69dCAKfCcgQEAtviYtEOFEsYAAAAASUVORK5CYII=\n",
       "\" style=\"display:inline;vertical-align:middle;\" /></a><br>"
      ],
      "text/plain": [
       "<IPython.core.display.HTML object>"
      ]
     },
     "metadata": {},
     "output_type": "display_data"
    }
   ],
   "source": [
    "abs_even_rev = Forall(\n",
    "    x,\n",
    "    Equals(Abs(x), Abs(Neg(x))),\n",
    "    domain = Complex)"
   ]
  },
  {
   "cell_type": "code",
   "execution_count": 16,
   "metadata": {},
   "outputs": [
    {
     "data": {
      "text/html": [
       "<strong id=\"abs_non_neg_elim\"><a class=\"ProveItLink\" href=\"proofs/abs_non_neg_elim/thm_proof.ipynb\">abs_non_neg_elim</a> (conjecture without proof):<br></strong> <a class=\"ProveItLink\" href=\"../__pv_it/theorems/cd8a13f996fd1e4bfbcab090273aa113bfd342950/theorem_expr.ipynb\"><img src=\"data:image/png;base64,iVBORw0KGgoAAAANSUhEUgAAAJ8AAAAXBAMAAADn1oBmAAAAMFBMVEX///8AAAAAAAAAAAAAAAAA\n",
       "AAAAAAAAAAAAAAAAAAAAAAAAAAAAAAAAAAAAAAAAAAAv3aB7AAAAD3RSTlMAq1RmmUTNIjK7EInv\n",
       "3XZ/CtNrAAAACXBIWXMAAA7EAAAOxAGVKw4bAAACGklEQVQ4y2NgIAEUACGciV0BSYBPgWErjL0V\n",
       "q4o4IBYAMZSJMlCbgZCBfAYMDK4gRjox5nElEDSQIYuBoRFIsU8gxkAWA8IGmjAwsC1gYOBWIMZA\n",
       "HgbCBvIsYGAG2stGVBCqEWEgG9C0s3fvnibKQG+IOesertitgGEg1zup7k1AvwLj2IOBYRZCwgG3\n",
       "gckQAx345FguQAz0vQsCF8EBzPDwgS8DAzMw4goZ2AUQuhDR0xkApna/hglcAhvIXMD8i9EAw4Xm\n",
       "DPYLhBkYmA4wMHAu4A7AZiDXTlBUMT9ghQkdBRvIwcCSgCUMGxjcQBTHB6ChD5DjBDkBvQSGME8D\n",
       "w3cUA4FCD7BGyjkQwQp0IUOCHZB45/6kAGEglGf5gKF+AcMhFC8zMMQXcC3ACEMG1u8Mq4CuuwBk\n",
       "bgImb74CSTYFuIFwnk1B/wKGy1AD54ENXBkgw8CN4UKuqYwHGDYAQwikvwYYJ8wM8zgQXobxVk9l\n",
       "ABp4DqppI9hA/S4fhiAMA5l+LDnACnQDC9BQBsYGkNB3lDAE80okGEBe/gTV1As2cMk7JmcFTBf6\n",
       "PVAxAtK88PjlOMCOZCCYVyjBgBIpvA2Ec0otjFHDncCCMBDMW+gODs4HrLBUyuxA2EBneEnydN8r\n",
       "hIFg3iqIzO4nC2CKphM0EEuxha8gW0nQQM4Ckgxkf8DwAsZ+gVXFcwY8BnbOBAISax3K6y1MAAAG\n",
       "Op2JAMAlLAAAAABJRU5ErkJggg==\n",
       "\" style=\"display:inline;vertical-align:middle;\" /></a><br>"
      ],
      "text/plain": [
       "<IPython.core.display.HTML object>"
      ]
     },
     "metadata": {},
     "output_type": "display_data"
    }
   ],
   "source": [
    "abs_non_neg_elim = Forall(\n",
    "    x,\n",
    "    Equals(Abs(x), x),\n",
    "    condition = greater_eq(x, zero))"
   ]
  },
  {
   "cell_type": "code",
   "execution_count": 17,
   "metadata": {},
   "outputs": [
    {
     "data": {
      "text/html": [
       "<strong id=\"abs_neg_elim\"><a class=\"ProveItLink\" href=\"proofs/abs_neg_elim/thm_proof.ipynb\">abs_neg_elim</a> (conjecture without proof):<br></strong> <a class=\"ProveItLink\" href=\"../__pv_it/theorems/6be05392bd3b19c68e5200244e8f386a77faadd50/theorem_expr.ipynb\"><img src=\"data:image/png;base64,iVBORw0KGgoAAAANSUhEUgAAAL8AAAAXBAMAAACoi4O2AAAAMFBMVEX///8AAAAAAAAAAAAAAAAA\n",
       "AAAAAAAAAAAAAAAAAAAAAAAAAAAAAAAAAAAAAAAAAAAv3aB7AAAAD3RSTlMAq1RmmUTNIjK7EInv\n",
       "3XZ/CtNrAAAACXBIWXMAAA7EAAAOxAGVKw4bAAACY0lEQVRIx62Wz2vUQBTH3+bHJrvZLlvaiyIS\n",
       "UITiwUUKpRddKP4ArSz+ARrwIHiK96rrsf7AvRRRocyhFOtBtNDTggTBk1hWvfSyMJWKVWERLyue\n",
       "nB9JJpvJDlnwLd+Ql3nJZ957k8kCjGE++cWnabOk4KwopVVd2IrOt6TRLyn/SqgadY7kAhwHBUB7\n",
       "lZ5OnesMda7neX7ZUwHWpfgbXHdp+dp5AEZdBViQ4me5igjAcfMAKqACBHI8YtLJvIq5WnBMBdA8\n",
       "Kb5Y5/rQ673PBbjAn/ty93nHlQBGosfl/sH7m6QuNa7zAE/FYGM04BoHNKqHjS4HLPaofYymG8Ng\n",
       "Fy8C6B7XTbBqYnC43TM+dH5GzicG0H39b6EuZTCRaOMcnEZTpGoBVwk5zRGAGQw6NqNL7xjABsPL\n",
       "6EGFPGOdJbQDLThLL9m/uDSc7HESME/SrrRgMAQgl/AIgLBtejADLvBOkUP/3J4vAMz7TrO+g+Dt\n",
       "UIkArvplJPUgWSIwB/CCzLzLBZvkdav6B4puDGDeA+Y/QvA5vG2VATaah8CRMyhhsYhWCgGQRaW3\n",
       "uWCJ9FiHVVuUiHnaM8QB2+GNrxngxL2LcFkGOGKhaH/WAtPlK5et3kKLXh4M9YB6JiWQEv0Ob3zI\n",
       "AGt9bcGVAXZXZHAJHz1Jq9bkCgMCKwHgnj3tJ5s80VJtFTvSe3MrFLMlxzMEIPKsSVTFZpS83lAB\n",
       "ZiFr+4u3QOPrmx8CEHskj84eioIeqwCl9NeLbtEZ27Rq495QAcrtDGLJHwtgYdiPzvel0dsp/1uo\n",
       "kYDlJ8TG/Grn+uPwn+0fCGW3MAzUzNcAAAAASUVORK5CYII=\n",
       "\" style=\"display:inline;vertical-align:middle;\" /></a><br>"
      ],
      "text/plain": [
       "<IPython.core.display.HTML object>"
      ]
     },
     "metadata": {},
     "output_type": "display_data"
    }
   ],
   "source": [
    "abs_neg_elim = Forall(\n",
    "    x,\n",
    "    Equals(Abs(x), Neg(x)),\n",
    "    condition = LessEq(x, zero))"
   ]
  },
  {
   "cell_type": "code",
   "execution_count": 18,
   "metadata": {},
   "outputs": [
    {
     "data": {
      "text/html": [
       "<strong id=\"abs_diff_reversal\"><a class=\"ProveItLink\" href=\"proofs/abs_diff_reversal/thm_proof.ipynb\">abs_diff_reversal</a> (conjecture without proof):<br></strong> <a class=\"ProveItLink\" href=\"../__pv_it/theorems/69ae5f21f1d5ab8cc8fa9daa24a613dce1b826580/theorem_expr.ipynb\"><img src=\"data:image/png;base64,iVBORw0KGgoAAAANSUhEUgAAAN0AAAAWBAMAAAC2xYReAAAAMFBMVEX///+IiIgiIiIQEBB2dnbu\n",
       "7u5ERETMzMzc3NwyMjK6urpmZmaYmJiqqqpUVFQAAAB6qHgnAAAAAXRSTlMAQObYZgAAAAlwSFlz\n",
       "AAAOxAAADsQBlSsOGwAAArdJREFUSMe1lk1oE0EUx1+y2c3HbpIVhPZUJCgKooiIinhoe1H8YsVQ\n",
       "EMS0qKtQ0EUFxYNu9R6CYPEgEvHgpdC1CIIWmoIRxIOreIjgIYFcPAjpoaCC4Huz+eikM4tInJCw\n",
       "/Oft+83b95/ZAPzFcPEjGYn1sf+QhR8RH47I5mLlPkEaiTNP8LdOl19DeZ/FWdRzm4Q8pgt5kQrA\n",
       "K7p8GIZTS5JVJz1xfaQLefAA4DY1YTKMp1ckvKwv5pEu5r3HxVh4kx/GU2RdmbfEPNLFPMUCA1ef\n",
       "DG3fFxlvXOKXcZlfIImw3bncnlDeiyA20Rw2+YnHG74LeaTzozg2w2Zi6M6XABdCeY+CLE9dbZX3\n",
       "0U+r4Aa8hRyNnW1/ks5FpvbDFYtyGGi9IiTqnYn4bHfPTTdm2pc7giwHQed9nl4FxRTUx3ROO1WB\n",
       "Bbbm9C4AzVpzT5OgI3ZZveymz7e1AyyL3oLoKF6dZqVsJd+WIDsq4DEdy7/PIh3UlgA2M168hUxz\n",
       "jV324fc1hsROArzheMokFPjciJ/3BTymc9peUH8xXgrrg9Iy/uSXD1NpKyMWHQJw5lbvaAyeZ8GE\n",
       "D+u235Il6B/TuUavgNEKnid15DjuenVb/Ad1bUvEm6CQWq0XPhXwfPiW5myQdbCngvqYzvF+Q6ZU\n",
       "Y36hg+Ue2kX34lSqVjFKcxRSrfbCT7AsmpnernNpMhXNE/GYzo0p+OR5xNPJARnsl1KOkEkVR6+/\n",
       "s23bv/GsF3018GfjUHGIX3ZzUXxek86NsxtvNhziRTvRBVer4jPPguJfZ68Z9Iva8YUDA3ofwd3u\n",
       "GenembPyELXe4v6gE/yoC2PtOcMbGK9beGrx4zG45sefm5C4SEJ+dtrpTF4aFK//PRTsmrxt80km\n",
       "BsXT+o45S/IfxYQh6X8Np0+QRuLMMC8Y8P/HH5aWstas9as0AAAAAElFTkSuQmCC\n",
       "\" style=\"display:inline;vertical-align:middle;\" /></a><br>"
      ],
      "text/plain": [
       "<IPython.core.display.HTML object>"
      ]
     },
     "metadata": {},
     "output_type": "display_data"
    }
   ],
   "source": [
    "abs_diff_reversal = Forall(\n",
    "    (a, b), Equals(Abs(subtract(a, b)), Abs(subtract(b, a))),\n",
    "    domain = Complex)"
   ]
  },
  {
   "cell_type": "code",
   "execution_count": 19,
   "metadata": {},
   "outputs": [
    {
     "data": {
      "text/html": [
       "<strong id=\"double_abs_elem\"><a class=\"ProveItLink\" href=\"proofs/double_abs_elem/thm_proof.ipynb\">double_abs_elem</a> (conjecture without proof):<br></strong> <a class=\"ProveItLink\" href=\"../__pv_it/theorems/d9e8e78a95d9d074e6a790aa5f7d5f91401e930a0/theorem_expr.ipynb\"><img src=\"data:image/png;base64,iVBORw0KGgoAAAANSUhEUgAAAJoAAAAVBAMAAABMN+opAAAAMFBMVEX///+IiIgiIiIQEBB2dnbu\n",
       "7u5ERETMzMzc3NwyMjK6urpmZmaYmJiqqqpUVFQAAAB6qHgnAAAAAXRSTlMAQObYZgAAAAlwSFlz\n",
       "AAAOxAAADsQBlSsOGwAAAgVJREFUOMuVlDFIHEEUhv/1br29271jrwhCDIdcGRBO0cZKIZWinGDO\n",
       "whQKuhGFsIgiWOiKYCnXGFJccWBho2gSQRMtFGKIhbhoCkMCnohWaUVLZ/Zmdjm5UeYts/wz8/ab\n",
       "2ffeDPCkOeTReEdDoAMHX2h4xhQXnQgXWY8IX3PrDETMBEpU/hPQfkOChlfAdyo/VYepeSlaNItZ\n",
       "GpDB6jR9X4pmbFIgwm51WghSNLTCIOtHBWH7I0krAM3pdIuAtsVpavJ6sltE6031v3E9Wg+wDYwI\n",
       "aAVO05Eyv/g0Pe1ZidE2lUu9waMdAUvQShU1Nn45z2Qjp/3CSfa/YG+GY9wm9j3aGVCb9V0iKauo\n",
       "fnDiw6zfxmk2vgnjFoGeZ3GbA+Kmn4Rdm3zSC/x4TAOanshCyGRihbT8AXkld+odhaQX72aC0+j/\n",
       "KWL3eCuKGzYcNeuJU9K6l0mwnJuom6PT5+fBwkOMpo4lMmgX7C1XvEK4jP1J2gJZxMBQBGt0+vAw\n",
       "cO1htPjdQCbmCmgXU1+xXqbRikrYdPieJNiyLHd6NXCd4Hv7bP49FsVtIBnfc8u013w0ktEw6RU8\n",
       "yYLKBmtsqbOgNTC9EM7rpFboDdDloIONkmMsQ6OXRPm2eNnxAtp7Kvs+jtvcZVSKtlg51WdZld45\n",
       "KdroMze5ZqIOCt8qEb7mVhcIxcEDhwCX3FKrOXAAAAAASUVORK5CYII=\n",
       "\" style=\"display:inline;vertical-align:middle;\" /></a><br>"
      ],
      "text/plain": [
       "<IPython.core.display.HTML object>"
      ]
     },
     "metadata": {},
     "output_type": "display_data"
    }
   ],
   "source": [
    "double_abs_elem = Forall(\n",
    "    x,\n",
    "    Equals(Abs(Abs(x)), Abs(x)),\n",
    "    domain = Complex)"
   ]
  },
  {
   "cell_type": "code",
   "execution_count": 20,
   "metadata": {},
   "outputs": [
    {
     "data": {
      "text/html": [
       "<strong id=\"abs_ineq\"><a class=\"ProveItLink\" href=\"proofs/abs_ineq/thm_proof.ipynb\">abs_ineq</a> (conjecture without proof):<br></strong> <a class=\"ProveItLink\" href=\"../__pv_it/theorems/f2b457c7acc779e3831d5bebfe6b62ba528dc6f70/theorem_expr.ipynb\"><img src=\"data:image/png;base64,iVBORw0KGgoAAAANSUhEUgAAAb4AAAAXBAMAAACGxzdIAAAAMFBMVEX///+IiIgiIiIQEBB2dnbu\n",
       "7u5ERETMzMzc3NwyMjK6urpmZmaYmJiqqqpUVFQAAAB6qHgnAAAAAXRSTlMAQObYZgAAAAlwSFlz\n",
       "AAAOxAAADsQBlSsOGwAABVVJREFUWMPdWF1oHFUUPruZu7N/M5n4U8WkYRsrgehD/KO+KBOxhRYq\n",
       "kzb+hGBoH4wxtGWl2jft1mpABFnBakELWwRBURPjb2OoGx+KUqRD+yQtmGAaqYr0JbQPPnju386d\n",
       "O3eijU964JvtnJzzzf3mnnvunQL8G8sz5OVtzRhUWyUVouTInRb+zyLTua/d1jNYDXG7zRh0fJVU\n",
       "DsWKnvlJSf/69GHRYIkF6riwNnmOz/A3+jLN9FSGmHWlPKvLQJBqXRFm6f3Rtekb5jDp+1GpyiPp\n",
       "qQwxKwRmEum3woggLvhoPFjgBVqnu9amb47DoO/bz5Ww0+mpDDErT5tJpH9HPSKI5d0exIMFqEz5\n",
       "Tq7V+jmS+q7brIa1iSfjyOyFeCpD3O41k0h/168RgboINgZ6MEcZV0dhjcuvzqHrIw/Gm0GhGa3D\n",
       "p+KpTj3B+o6ZRPorB1oEig1tSAYL3NXTc8/a9JV8DtQ32P3YQ6HQR2ZkQyGdTRjFv/NJYwMbDmKp\n",
       "JaVLDM4BwciHNRLBLfyOX6hJAtJx8dntzDtyh4FE4EuAJ1cTkf4nOi8UqG86s1iqcH3kUqvaLacf\n",
       "zuAqYO/avrsH7dYjsdSC0lv9c1C+DPC9RiK4uR8KNWdaEpSg25uhN6PHTCQCr0F+IVl6G9++xOsj\n",
       "1/LZE3zQA/KdZ0MOq1GulVfcppi/aGjP47iWkYytlXV85g6Eamo2kmGHM+BiozunkQhu4cd2eJsk\n",
       "+A7OBL/TG/eYiUQgF7TWj7BnlifA862XNH0wtJde5+E92TcaHFbDhlK9tf7yrdIK2jy4Ex+KLxR2\n",
       "ipdIHlBTKYbpvPb0EgzFeDiokQhu4f8FoEMSVOGEiHlV1qdKIuB4WnspYcWC55UHdX2Q2YOXTdBe\n",
       "0/UBI032l6nAvoLHCDp/+SXuesXX9bVOHStwsArwbqK/MG7uJyh1hyQA+vK0/qKQSNTn8dLxVSeO\n",
       "utgNLj8peF5mRNF3fIEddMq7Ib8CbaFen6ikRoLk/nACMqjNqbA66+HzBCn1Safpevw5m9gfGDf3\n",
       "052sFAoCKF6FR7T9QSGR2I5LPlNbLmDGYHuwn7DN3vMnuyJ9xFux2SIq32evQFaUTs7jsBqPNn4G\n",
       "y7C/74Mcvpbyrmib592vlZpTNgEM3Yc/pzQSwc39WVoJdU5AJtx+8LX9XSGROEyHALtt/OfLZ2Fd\n",
       "kY3e+2ILRPryT1QydJBkSwP1tYlB0b7P0PjpuU/ho/j5rEqvJ2Gq2doEXFpSs1qq0tpKC8U/8ecz\n",
       "jURwcz8tNbaHYqJzZaS/GM2/85ZGIuGyoVxlQUuwWH5zbGwv1ue2UKlP13dRVP5kldZnuyC1KxxW\n",
       "Y6TDmQsN5+vRgW9wvrJ8kdG1I0+CMtWuRMFkqZMOok/jENzcf5H1P05APvHO/6A/USHpU8nsfvax\n",
       "1AebbJ+vvw82K/qyjTaU9kc11l+gl2O174etiBeVD8Egngq9arBF30Al5ZtO8/em7cqSRILZYate\n",
       "giHMKl7muz3uD2p/yVangPzGdHXAx+rB+fQq+qw6ud90ho5S1bP3VthJu0cz5ZzRTBKA6X1KEgme\n",
       "fcvAjbA/hPOn6jCJs1R8/Q3ydT3S58w9DSQQ+3vrWJ+rMcT1Ed4n6VRnPddP+ToRqQzCNgDdQiZB\n",
       "IxE2aSCQtiPqzBHJZDIpJLVcE5vI2ITCw66Pwx7DIGmrRaTOnzM/q41ETwUSib/QSXnGU8pu3EBg\n",
       "sIhkPJFUDFzv/cSLZtfFYt3EdoghI1/zTcZH3gzpqRzqEcL8vzUG/6H0gzENllA/EaE475v1fXgD\n",
       "tqAxtHH4n1n+vz38vwCPrYZYAESDigAAAABJRU5ErkJggg==\n",
       "\" style=\"display:inline;vertical-align:middle;\" /></a><br>"
      ],
      "text/plain": [
       "<IPython.core.display.HTML object>"
      ]
     },
     "metadata": {},
     "output_type": "display_data"
    }
   ],
   "source": [
    "abs_ineq = Forall(\n",
    "    (x, y),\n",
    "    Iff(LessEq(Abs(x), y),\n",
    "        And(LessEq(Neg(y), x), LessEq(x, y))),\n",
    "    domain = Real,\n",
    "    conditions = [greater_eq(y, zero)])"
   ]
  },
  {
   "cell_type": "markdown",
   "metadata": {},
   "source": [
    "### Bounding the absolute value"
   ]
  },
  {
   "cell_type": "code",
   "execution_count": 21,
   "metadata": {},
   "outputs": [
    {
     "data": {
      "text/html": [
       "<strong id=\"strict_upper_bound\"><a class=\"ProveItLink\" href=\"proofs/strict_upper_bound/thm_proof.ipynb\">strict_upper_bound</a> (conjecture without proof):<br></strong> <a class=\"ProveItLink\" href=\"../__pv_it/theorems/caaacf7e910470c6a89bb2cf9c6db846e49d67b60/theorem_expr.ipynb\"><img src=\"data:image/png;base64,iVBORw0KGgoAAAANSUhEUgAAANQAAAAXBAMAAACBjHwxAAAAMFBMVEX///8AAAAAAAAAAAAAAAAA\n",
       "AAAAAAAAAAAAAAAAAAAAAAAAAAAAAAAAAAAAAAAAAAAv3aB7AAAAD3RSTlMAq1RmmUTNIjK7EInv\n",
       "3XZ/CtNrAAAACXBIWXMAAA7EAAAOxAGVKw4bAAACpUlEQVRIx7WWTWgTQRTH/0022WQ3SevFiyAR\n",
       "QRA/KIhiPcRIkVo8uOBJ7KFYRPC0hSIUPNSjUGkOQlBB9qgUTLQH60UE8aCilNriQVoWevDjIIIH\n",
       "wYM4M29mdjZZEnDrg828yXs7v9k3771dYJvEhy01O8lsY9ukUoXrkarGmORCYIgre1OjDqA3ClvA\n",
       "aT5eSUtyJvuh8gFu8EA20qKs4X6obJ3T4FbTokpIRGWMcL1Blu0nn/qo9iWismtB5DIFvNvYeJsa\n",
       "dZYQ9q7PYYSqfJIk9/tx4DFwBrjbGXn5+L6RzL1RU4Sa8Iu/NWpxU9XUKsaBY8A07KGOG4s0HDX/\n",
       "q/dErQqU8xLWikLNfFDGchvvgYNs3aArZQjlxHZwUWa1keCG9ZVAWT/4srTcwCVtPCfiuMDCFHZl\n",
       "BaEsr6MueCxO6YM2VIUqNdDyulGvxe8EuyZrPLC1p+IAt0KNKkcrPa9RQRR2+MpVqOSuA9gKcRJd\n",
       "AXT+iOEQu55cZdOPhV98vl54oVHXNKnszSPDDit321euQpXuTO4TqoqdGb8rLX4yd2CEadfZmVh1\n",
       "cZPVcOY06oJGjeMBcg3k7vGQCVepkjtEJjNUMcysWVGyP9oM5O1YpnoYYO4lr8KToOQZZ7WHRekO\n",
       "k6Y4iUID86KpCFelqs3cogzcvTz9xSxhKix3qcbGdflnyy+eYNNB30Dd1E/FY8sC6DyrKldSB3Xh\n",
       "lecSG1M2akz2iuph/sL5YBF5D+2EtLgMFxWeAF+HpSup0p2aaZ92yxsyvblGDy+xqNij/FElqqj3\n",
       "PHPkm5yNDJMrqdKdS7MfajY+rcbqKtc2bQ9p2B81K0MV5t6oZvylHMQb05hpHOvdBO0QFZmNaox/\n",
       "EPjxt1dHD3SNdpD18F9Efd4EyQ3vH+UvJw6hHRo7Ct0AAAAASUVORK5CYII=\n",
       "\" style=\"display:inline;vertical-align:middle;\" /></a><br>"
      ],
      "text/plain": [
       "<IPython.core.display.HTML object>"
      ]
     },
     "metadata": {},
     "output_type": "display_data"
    }
   ],
   "source": [
    "strict_upper_bound = Forall((a, c), Less(Abs(a), c), \n",
    "       conditions=number_ordering(Less(Neg(c), a), Less(a, c)))"
   ]
  },
  {
   "cell_type": "code",
   "execution_count": 22,
   "metadata": {},
   "outputs": [
    {
     "data": {
      "text/html": [
       "<strong id=\"weak_upper_bound\"><a class=\"ProveItLink\" href=\"proofs/weak_upper_bound/thm_proof.ipynb\">weak_upper_bound</a> (conjecture without proof):<br></strong> <a class=\"ProveItLink\" href=\"../__pv_it/theorems/49aebfae857b3ee2692dda05a6dcdd522baf7b6a0/theorem_expr.ipynb\"><img src=\"data:image/png;base64,iVBORw0KGgoAAAANSUhEUgAAANQAAAAXBAMAAACBjHwxAAAAMFBMVEX///8AAAAAAAAAAAAAAAAA\n",
       "AAAAAAAAAAAAAAAAAAAAAAAAAAAAAAAAAAAAAAAAAAAv3aB7AAAAD3RSTlMAq1RmmUTNIjK7EInv\n",
       "3XZ/CtNrAAAACXBIWXMAAA7EAAAOxAGVKw4bAAACr0lEQVRIx62WTWgTQRTH/91susluklYQL4JE\n",
       "BEH8oCCKeoiBIrV4cMGT2EOxiOJpC6UgeKjHQqW5BRVkBQ+WIon2YE8iiAcVpdQWBYks9ODHQQQP\n",
       "ggdxZt7s7Gx2SQ7bgc28l/nP+83OvHkJsE3NgyUtK23Ywra1ShWOS2bYx1o+AIa5sS8z6iB6o7AF\n",
       "nOH91awkezIVZUSBB33c4hvZyIoyR9JQuQ1fKXJ1ToNTzYoqIQVV+exrkjfIsfUMZj6q/Smo5S8x\n",
       "yRTwrtN5mxl1jhDW7q9BiHr4QY06P08AT4CzwN3unZeH6mnJ3Bs1RagJr/hXoh5cju7UOsaB48A0\n",
       "rOGuiUXqjunf1ak7EOE1E+sCZb+EuSZRAxGq3MZ74BCL6ycuAqHs2AouUfggIgXa6CuBMn/xsDLc\n",
       "jNrA8yI7Ftk2BYmsIJQZWwHPVJwcUb5mKlSpgZabTIvX4nOCPZM1/n3tmTjArUChylGk5zVxIb6L\n",
       "SyGkZJJcbWArwOlkstv/hHeYPU+vM/dj4Q/3NwsvFGo22mx3AUYdCyK8kJIp5azdJ1QVuwwvcYV/\n",
       "sxLItoFZN9mZmHUxyWzYcwp1UaHG8Qj5Box7fKaQSpPkEJnMUMXA2DBjhekaTccq3YcBJi+5FZ4E\n",
       "JVc7q71A4Q5rTXESBVa88hxAUmmGMW9TBu5Znf6WLLfOSo2JN6XX8oqnmDvkaah5peV7a/BsL+z0\n",
       "Qik3h1S6l+f6VXZrLaxh3uIFfxmDLtopaXEFDioiAawdvpCSKeVUTPugzDBj86NHVthZW6P8VSWq\n",
       "qNY8c/RH6FkkJVPKeWt2ox53ePukUDfi5GrsXuXb+thS78q01O+tmvEfZT9emMb0wbHeKCtARWZj\n",
       "2Mf/EHgxN9dVAx3t5ybHljrP85GmaGa2Fv690VB29qj/AdtVrgcCzw3rAAAAAElFTkSuQmCC\n",
       "\" style=\"display:inline;vertical-align:middle;\" /></a><br>"
      ],
      "text/plain": [
       "<IPython.core.display.HTML object>"
      ]
     },
     "metadata": {},
     "output_type": "display_data"
    }
   ],
   "source": [
    "weak_upper_bound = Forall((a, c), LessEq(Abs(a), c), \n",
    "       conditions=number_ordering(LessEq(Neg(c), a), LessEq(a, c)))"
   ]
  },
  {
   "cell_type": "code",
   "execution_count": 23,
   "metadata": {},
   "outputs": [
    {
     "data": {
      "text/html": [
       "<strong id=\"strict_upper_bound_asym_interval\"><a class=\"ProveItLink\" href=\"proofs/strict_upper_bound_asym_interval/thm_proof.ipynb\">strict_upper_bound_asym_interval</a> (conjecture without proof):<br></strong> <a class=\"ProveItLink\" href=\"../__pv_it/theorems/9f44bb20098a1537ae392c215561b96b84f67e380/theorem_expr.ipynb\"><img src=\"data:image/png;base64,iVBORw0KGgoAAAANSUhEUgAAAUUAAAAXBAMAAABua0AmAAAAMFBMVEX///+IiIgiIiIQEBB2dnbu\n",
       "7u5ERETMzMzc3NwyMjK6urpmZmaYmJiqqqpUVFQAAAB6qHgnAAAAAXRSTlMAQObYZgAAAAlwSFlz\n",
       "AAAOxAAADsQBlSsOGwAABD9JREFUSMfFlk2IFEcUgF/NdE/39MzsdILrD5p1V1YSjIeNaKI5yGzQ\n",
       "oKtii4OQCJkWzYh4cCA55BJtzcGDIJODIogwQi4hyowiiLpo78EVWdFWUDwEdjYm4EHFvyW7ymLq\n",
       "VfVP9dCjO2HAGl7366736n1T9V51AbSxqfTnNqtlF6vBVeWaBe1tH4FUcdWBll18D1eh70/SG0od\n",
       "n/9sC2Im15RR/esF3uLPH0a5bFkSzUhsYHIRn4+1hfEbaD6P6h4aC25ORLscj2aEI8BkLw5gtoVx\n",
       "8C2M8odlep07Hu0y1YRxBJgkDfrotIWxL5IxwxZJ/oBOofLHeKSLNt6EMW4wSdM1SLYnHctRjOlP\n",
       "DcbY+ZrmVmo80kXqbsKYtLksWbBgaVsYUzk+8OH+/UFE0mvwtdYfUF5kHJqxGobf2NUVJd8lOdbl\n",
       "hBn755VwKKnO5TzA9++MX5sGI/5hXLjlsMfwIuZ7vHzUqw7cpYyZ5XABYKORrAQuhSPyRIjxgJMy\n",
       "kTFd5nIY1LrXrRwNRb2z9vKvXDMjehtbzGEBN9tw1pvHQ4v9mtFjJuicsWpB0rwmuIwa8FmIsRfi\n",
       "OjJm+rgkDD+JAP72NaWrWCESrMkFjF6vLJSrwBivsIBXMASP2HEiMNTJhFph+fjtRgvklbbgQif2\n",
       "pcjIzJBKecolowsl84WvXaLpQghc1QVG3qteNvxdL1D9gJ+D/CqKUX5JWPCtj0fp9220Irj0gjYl\n",
       "MsZNl1Hr4wLlIUycoTU4ec+6MKg0T8ftHRk7a8Jas17lieWbo0qNxbWWn0H6adRaw/Y0Mma+hH3U\n",
       "69wyYa2nsENgLOguY6abC2ygO7n8iYKfALKQINMipW8LK0pJ3WYHjKxX22155kxFYz52QmeMU9BR\n",
       "vh9RM1D9B1GyNagetCRjV+AC/2ISD3ipMwBZGrTCasbkAr/QkknVWKSEjVWUMuXSKQaV2mEKNYO9\n",
       "2g6caGbuqtTY3dDqLOA2uFOr+bOyqYdng1bHFeyYQMb5P1v9UKgFLo9gN5/5QpnnowkS23twb0KB\n",
       "jhImBsHijpdSdZ4l14vFokOIdFpgxN4fHJ5H1NxT/SrrZgG/m/HTWEnYw9kGqW6ftEmFPJh8qIzd\n",
       "zvd8NQm3JvXAZZ3NGWMLeV2vutHJ1jrmCmsFK3GVjpWFOA2cpUv4I5tHov1mBIzYK3/teOZczQYH\n",
       "vI8jv4Xptx1YBBfmcTf8nTkAXHhNWvtOGXmIGcOQB7q95hIGy0dYLdQM9gLMtF1zrqKxO8gItHx+\n",
       "HGlgzIUZB/mxgzdt8PZ6unjKGZ1e1cEhQ91J3/4+J7f1glDXZ1gFD9vcnKto7A6SsFpmFFwGeGWJ\n",
       "jHgeazyTOcI1XywGWzuEDO9ZUSqNYLbMKLigBwmfKeg/YCI0zQiuDW16B8z9QNwah1nTPIgELr6H\n",
       "q9D3s+ltdtg+LVz/F+P7bdb7DP4fAEhPRzSPwncAAAAASUVORK5CYII=\n",
       "\" style=\"display:inline;vertical-align:middle;\" /></a><br>"
      ],
      "text/plain": [
       "<IPython.core.display.HTML object>"
      ]
     },
     "metadata": {},
     "output_type": "display_data"
    }
   ],
   "source": [
    "from proveit.numbers import Max\n",
    "strict_upper_bound_asym_interval = (\n",
    "        Forall((a, b, c),\n",
    "               Less(Abs(a), Max(Abs(b), Abs(c))),\n",
    "               domain = Real,\n",
    "               conditions=[number_ordering(Less(b, a), Less(a, c))]))"
   ]
  },
  {
   "cell_type": "code",
   "execution_count": 24,
   "metadata": {},
   "outputs": [
    {
     "data": {
      "text/html": [
       "<strong id=\"weak_upper_bound_asym_interval\"><a class=\"ProveItLink\" href=\"proofs/weak_upper_bound_asym_interval/thm_proof.ipynb\">weak_upper_bound_asym_interval</a> (conjecture without proof):<br></strong> <a class=\"ProveItLink\" href=\"../__pv_it/theorems/a24f05f4e8edf152db30d2236b7ab17a49642d3c0/theorem_expr.ipynb\"><img src=\"data:image/png;base64,iVBORw0KGgoAAAANSUhEUgAAAUUAAAAXBAMAAABua0AmAAAAMFBMVEX///+IiIgiIiIQEBB2dnbu\n",
       "7u5ERETMzMzc3NwyMjK6urpmZmaYmJiqqqpUVFQAAAB6qHgnAAAAAXRSTlMAQObYZgAAAAlwSFlz\n",
       "AAAOxAAADsQBlSsOGwAABExJREFUSMfNll1oHFUUgM/dndmZ/cuOpdEWY0xDQsT6EIvW6kPZiIVa\n",
       "lQ7tUtBAdkrbLeJDFyqlL5ppffBBKOtDtFCEFXwRI7sVQapBJw+NSErdFlp8ELIxLRS0pbUNTVqC\n",
       "vefcm527m1mbhQW9y5k5O/ece765954zF6CNzeQ/2dyWXdwGV1NoLrS3PQFaUao7WnapeUiFP/+c\n",
       "31Cq+P/3tiAm000ZzT9u4y3897Uglz2bghmZByTf4/+TbWF8E4IYkzS4eYjHgvMLwS6nghlhDEje\n",
       "xwGctjBOBDEmNtp409cU+PXx+WCXpSaM00AS5UNolbYwDgYwsj5CBP0RPoXGV/OBLrH5JoxhmyTB\n",
       "1yDanu1YWMmY2SD/6533OXB8PtBF62nCGPWEbOrtfa4tjPG0GPjE0LHlQMPPLHfq1hxfd2ScXLsN\n",
       "pv7xSi/may7R2e5KPeNQVx6H0qpCvgM48ND45VUw4gvjwm2BQ7aIOPIZ+IylClzijMktcAZgpx0t\n",
       "+i7ZMX2hjvF4Je4gY6Ig5ASY1eVu45O6qBdf/fFjoTlq72W/rioqhCoUcLcH38h57FAZQw5YgrHk\n",
       "QtT5WXGZseHZOsY+CFvImBwUErFrmwjgSk0zunNFpsH2tM8oey9bPqKlvFG4SAF/whAy4kfKWrMF\n",
       "s0j78a2dLuhbPcWFT+wdlZHMkMq4KSRpKSnzQk37gW8XxuCspTBS75RXs1FUP+Bm0O8F5Iyl32EU\n",
       "fPj6DJ/8maLi0gexJZUx7EjG2KAQKEziYJPbcfJudWOp0LosLO/I2FlW1hp7H6U6ReZC5cbqWuu3\n",
       "IHEzoPZYsC+BjMmXYJQzfvu8stZL2KEwZi3JmOwRAm/wSq4/ZeAngPUzZHraGNxDATRzr+czYu9h\n",
       "4iJzoaKxGDtiEeMSdBR+W1nDLShdRZRUGUofupr9tu8Cd3ETo4cuGFM8aJFyxhECH/CUiZcpUsTD\n",
       "LIo7en6coOL7HSVnsDe5H0OSuVS5sSxoVQq4Fy6Wy+q38FO8xqq4gh0LyPjke+4QZMu+y1/wjpj5\n",
       "bEHsRwc0qj1Ym1CgI48bg2Fyh/Pxqtglv+RyuQpj2tcKI/XGkEyYS7WWZT0UcGTt0dn8ijPFvkWP\n",
       "Fdnc4jVj9kJmw8uL8Oui5bu85gnGUL/I61fOddJah6RQy7qRszxgCsJ8AVN8v7xL88hiX9g+o+g1\n",
       "/nSXzVFN+dVnAFo+myku5HGp/jtzHISInHRHx+0MhOwpyAAvr+mITfsRtik5g704JzdsMhcqGstB\n",
       "pltnnG5gTNczTohjh2ixiQuv8yQwTlv8ak5M2uZB/vTL9enhM0pen7bkCZnM5TGaG8tBIm4D465e\n",
       "bAP/wqi47BCZpTLieazxTFZRrplczi/tsKrDm+60PI+KC3qw+jMFfwMSpcVs/9rQVnfAPAZM5jg8\n",
       "tsqDiO9S85AKf76O39bV2yeUazPGIzzfc26j+r9o/ynKA1YFVQ7m6GOnAAAAAElFTkSuQmCC\n",
       "\" style=\"display:inline;vertical-align:middle;\" /></a><br>"
      ],
      "text/plain": [
       "<IPython.core.display.HTML object>"
      ]
     },
     "metadata": {},
     "output_type": "display_data"
    }
   ],
   "source": [
    "from proveit.numbers import Max\n",
    "weak_upper_bound_asym_interval = (\n",
    "        Forall((a, b, c),\n",
    "               LessEq(Abs(a), Max(Abs(b), Abs(c))),\n",
    "               domain = Real,\n",
    "               conditions = [number_ordering(LessEq(b, a), LessEq(a, c))]))"
   ]
  },
  {
   "cell_type": "markdown",
   "metadata": {},
   "source": [
    "<p style=\"font-size:12pt;font-weight:bold\">Absolute values of complex numbers in polar form</p>"
   ]
  },
  {
   "cell_type": "code",
   "execution_count": 25,
   "metadata": {},
   "outputs": [
    {
     "data": {
      "text/html": [
       "<strong id=\"complex_unit_length\"><a class=\"ProveItLink\" href=\"proofs/complex_unit_length/thm_proof.ipynb\">complex_unit_length</a> (conjecture without proof):<br></strong> <a class=\"ProveItLink\" href=\"../__pv_it/theorems/56b60867ac3d1b611c3683c6d6279a65cadde0d80/theorem_expr.ipynb\"><img src=\"data:image/png;base64,iVBORw0KGgoAAAANSUhEUgAAAJQAAAAbCAMAAACtBFbrAAAANlBMVEX///8MDAwGBgaIiIgiIiIQ\n",
       "EBB2dnbu7u5ERETMzMzc3NwyMjK6urpmZmaYmJiqqqpUVFQAAADn616FAAAAAXRSTlMAQObYZgAA\n",
       "AAlwSFlzAAAOxAAADsQBlSsOGwAAAipJREFUSMfNl4mywiAMRdGwQ1j+/2cfUMDuFqszL06dVpn0\n",
       "QG5vKCFfDqfIfwhcXDHeTzUC7Iz4cThbMA7+FVIQI85GvJvgJ+GnFEe3lC4dfgxKy5tMwpAdKONa\n",
       "/pivBqGIg3tQ0p1CYZ50VINQhOaCh1c13BCTbrfaQoksdio5D5FchFIFJgVkILQ9nR576PghlGIp\n",
       "VUwH4iUoEdDECiXyiQofaixaclq+vEhMX10paFBTAlOvuB9iUj3LAVTKi56MQxUtuprFjC0UULKA\n",
       "EoFRnENZ3qc5BAVlNKM5Zk58KYJZQAlGvWNhf+wQlC1nWB5bKQYNQS5uGWixJvEGCukswi6UKjai\n",
       "Q/ua96vmE5QbDGZraaanfBZZu7l1reI5slJ6eoLyInG76lcKgpTpRyCprlxvikt7m3qU6U2xr4HH\n",
       "CJSYoDx0mfd+hVi3IJA+xAk4XilWoLzOIe5rSk9dIBHVltP7FfQ6FCgQeA5F4lnPGtSUrhZVzar1\n",
       "K/Ey0lw+LWEjlrAUOrKSQX/r6cttrEK3fmXdDAol3zF7YEtLoMxZoPApFI9tPq6NDlVArV85I0v4\n",
       "qXzcbt3erh0daTTwoU+FwKIJ00rg2uxav1KczDVlLd8qmNnL6zCydXm1BLLuVy8rnSxhK/SjXcJd\n",
       "KLEx4N6vtKwFtQYMJwJx0xoV+wmUCyfAPGvKngrB/wKKju3qru3Rb0Ld3aMTz78Odfttpr33vX8l\n",
       "vv7SjEXlf3uwFBuWzQFaAAAAAElFTkSuQmCC\n",
       "\" style=\"display:inline;vertical-align:middle;\" /></a><br>"
      ],
      "text/plain": [
       "<IPython.core.display.HTML object>"
      ]
     },
     "metadata": {},
     "output_type": "display_data"
    }
   ],
   "source": [
    "complex_unit_length = Forall(\n",
    "    theta, Equals(Abs(Exp(e, Mult(i, theta))), one),\n",
    "    domain=Real)"
   ]
  },
  {
   "cell_type": "code",
   "execution_count": 26,
   "metadata": {},
   "outputs": [
    {
     "data": {
      "text/html": [
       "<strong id=\"complex_polar_mag_using_abs\"><a class=\"ProveItLink\" href=\"proofs/complex_polar_mag_using_abs/thm_proof.ipynb\">complex_polar_mag_using_abs</a> (conjecture without proof):<br></strong> <a class=\"ProveItLink\" href=\"../__pv_it/theorems/2526f4cca28caa5a52b4291507c3f56da4bee6a20/theorem_expr.ipynb\"><img src=\"data:image/png;base64,iVBORw0KGgoAAAANSUhEUgAAAMUAAAAbCAMAAAD70rudAAAANlBMVEX///8MDAwGBgaIiIgiIiIQ\n",
       "EBB2dnbu7u5ERETMzMzc3NwyMjK6urpmZmaYmJiqqqpUVFQAAADn616FAAAAAXRSTlMAQObYZgAA\n",
       "AAlwSFlzAAAOxAAADsQBlSsOGwAAAqdJREFUWMPNmIlyrCAQRUnYl2b5/599gIAYdCI4U3mkJhUz\n",
       "0vaBXi4i9BfDSvQ/D7h3G2XtTwUYz0z98PKa7N7sNC440nxp6gfY3WZu2hVh48etUyjxRgiu0QyF\n",
       "ttWJkK7uUajTa4vfRyHsGgWkpQzy1lRmTq9Jike/B4VdhlDVhQkKnjKcCMZ8QE8ocCKA9p1W66WJ\n",
       "zVNIGp8X4gfgEQUPcTOkf0OeBIPWIiptA1WPKDZjW52L/3TLEDLwRYr4cHDoGUXOLVss6vWtwATd\n",
       "o+CeEugpDGuLt0yB80xK0uja6fTw+kAhmYgtmY3FglPiLPUX/fwWRWe7UpgcCZALneAP6qw4uMKQ\n",
       "iOnORrc8yS2C/0IBpBv+SNHZrhQyV2rl66+f9bNKnFqKCdPg9dhmdJv8naZZpElXt7oiYPve8mN8\n",
       "39mL3nalUFttSdvwM+gOEkdiL0S8AcelQEwN7pGmZr7S3by4W8wE3YrANs5j9+sORW+7usw3CodP\n",
       "c7tJHIAipHH8QZbj672gXaQOjDI4lQZ/kBed7X0vZClPRY04cBaDOkoc3BY2U2AOv1EAuWgrrzTP\n",
       "vbzobO95oUqrKE3DGmqLOGsSh+/dMEWUEniIa3/MbkQu6h1QfibrpvZit32sUUkGbcRS2RhZJXyq\n",
       "xDG2owDBTlo8pgdXVDAX7YJQazDBDyg625XC1pm+niD9/oQqcawWebgtopgZe7w59m5DrgUXCRo/\n",
       "6Red7da7h/JK91WsEkcy1OeFMWzMTjqpox5E1IWOOnSITSRn0dwkzt4Pt0o7Zve0pn0nBR+6aBG4\n",
       "krpO4ihR4s1orBniAENZlvTvKKy/PkYfkpKlvDAvlZT7MwpyeSwys6Jq8ty9RIHl2fWLc/f82dWx\n",
       "j1N8/h1IfR/14J3f2lTIUfMPNIsZWRa1DfYAAAAASUVORK5CYII=\n",
       "\" style=\"display:inline;vertical-align:middle;\" /></a><br>"
      ],
      "text/plain": [
       "<IPython.core.display.HTML object>"
      ]
     },
     "metadata": {},
     "output_type": "display_data"
    }
   ],
   "source": [
    "complex_polar_mag_using_abs = Forall(\n",
    "    (r, theta), Equals(Abs(Mult(r, Exp(e, Mult(i, theta)))), Abs(r)),\n",
    "    domain=Real)"
   ]
  },
  {
   "cell_type": "markdown",
   "metadata": {},
   "source": [
    "<p style=\"font-size:12pt;font-weight:bold\">Triangle Inequality</p>"
   ]
  },
  {
   "cell_type": "code",
   "execution_count": 27,
   "metadata": {},
   "outputs": [
    {
     "data": {
      "text/html": [
       "<strong id=\"triangle_inequality\"><a class=\"ProveItLink\" href=\"proofs/triangle_inequality/thm_proof.ipynb\">triangle_inequality</a> (conjecture without proof):<br></strong> <a class=\"ProveItLink\" href=\"../__pv_it/theorems/3b8663d8ac9e36640107134f29ec51a0e03184ac0/theorem_expr.ipynb\"><img src=\"data:image/png;base64,iVBORw0KGgoAAAANSUhEUgAAAPkAAAAWBAMAAADwcyf0AAAAMFBMVEX///+IiIgiIiIQEBB2dnbu\n",
       "7u5ERETMzMzc3NwyMjK6urpmZmaYmJiqqqpUVFQAAAB6qHgnAAAAAXRSTlMAQObYZgAAAAlwSFlz\n",
       "AAAOxAAADsQBlSsOGwAAAyJJREFUSMe9lk1oE0EUx1+y2U3SZJv11FwsMSoVqhBEEMRD9KL4xSqh\n",
       "IIqJqFEoyKKC4EG3ehTKXqweVCIevBQaQRA04BaMID24gocKHlLIxYNQDwW9OTNvZzeT/TBenPB4\n",
       "2Zn3n9/uzLyZARihmOQXUTJhVZmIxoznTIDoPsWScOBIVFuqFaja7FUON7rPxD0jjlqPPn+LpX+B\n",
       "ULp8oRRGV6sxdK5J2MDsDa1+FAeXrXA6ZNsCQMVeTkPct3PNA2B2m05EI46es4foYzb6gjMIyE/r\n",
       "zHeCdC4gz1yzAsyyRJNy4ugSDNFVDf2SPkBPbEM4VIJ0LiDPXCPpzPLkvbKx0/41in5wAFDbwhut\n",
       "WDrXZG203eXynlj6K6Rn+kVN7Ozpph8ccGanN09V1j2LDqFzTaqH9hrgUiz9MdKfm8qG0Jn8W6+b\n",
       "CDj3xF+KNqOw6CDd0+QttHnI9Lg0veDl+OzanPt3F6PL+yFXEjpTN0DSEDDu05NsWWF0kO5p1Aqa\n",
       "og8kRp++wmSzJV811Ytu3T5Gz61DskpHtlzeSiaLvHDOgkLV1d73Rl6iw9rCaNboC2g916TX0VRt\n",
       "YNHtJfbWIHEnAd4LdKkBdfFTSPdLTmDVIR2jg9/uacYqaGAtU/XyYfrZPyd1ugXB2Vv+Lo0jX9fg\n",
       "k7jmSeq+0wMZhyOP0UG6p1FLaHCc7DnyjvQv2sX2RHuGxq2u+uNxHukOfFdNgW6Q2Q3sNorG6Cw6\n",
       "hM41+QYa3KNz2E7TYVDsvLVI47pdn36C0RVNnc4JnY3bSlvYaR8yAk2lFkYH6Z6GJiY1GDfobCXo\n",
       "spCMXO9js9l0br7w6ddwza8dmp8QM67fCTll0uwYweiQjOOapGus1E2lSwauAJJzg8WRVSfzHDIi\n",
       "9rrwE3Yqdq/j7i6g4Uo17yzqNUjqH0gG0nPnqAkH+IS2I06ZcPpK7CnDXQfPI7e98/kYXHfSLzXI\n",
       "XGYZtDBr8MYr8LfbxakyLVOsRjFHuF3QU3X4ZMWjrtZsiqoZ+Je7jdwYgU5ekdngiOoRdzcNJiJv\n",
       "XUagas6rHG50n4krElcUG/Pwv8sf9YX2hbJjN7EAAAAASUVORK5CYII=\n",
       "\" style=\"display:inline;vertical-align:middle;\" /></a><br>"
      ],
      "text/plain": [
       "<IPython.core.display.HTML object>"
      ]
     },
     "metadata": {},
     "output_type": "display_data"
    }
   ],
   "source": [
    "triangle_inequality = Forall(\n",
    "    (a, b),\n",
    "    LessEq(Abs(Add(a,b)), Add(Abs(a), Abs(b))),\n",
    "    domain=Complex)"
   ]
  },
  {
   "cell_type": "markdown",
   "metadata": {},
   "source": [
    "**Prove the generalized triangle inequality using induction on the triangle inequality**"
   ]
  },
  {
   "cell_type": "code",
   "execution_count": 28,
   "metadata": {},
   "outputs": [
    {
     "data": {
      "text/html": [
       "<strong id=\"generalized_triangle_inequality\"><a class=\"ProveItLink\" href=\"proofs/generalized_triangle_inequality/thm_proof.ipynb\">generalized_triangle_inequality</a> (conjecture without proof):<br></strong> <a class=\"ProveItLink\" href=\"../__pv_it/theorems/2e6cfde1ea02c61146457bfafca3d8557e1c2d740/theorem_expr.ipynb\"><img src=\"data:image/png;base64,iVBORw0KGgoAAAANSUhEUgAAAoMAAAAXBAMAAACCKFjBAAAAMFBMVEX///+IiIgiIiIQEBB2dnbu\n",
       "7u5ERETMzMzc3NwyMjK6urpmZmaYmJiqqqpUVFQAAAB6qHgnAAAAAXRSTlMAQObYZgAAAAlwSFlz\n",
       "AAAOxAAADsQBlSsOGwAABalJREFUWMPtmV9oHEUcx3+Xu83u3e1eNipJpBriVQkSlfMPKIJ6Sisk\n",
       "mrJKjEiijQ+JEhCurVJQkI3WIBTrvfjnQfFK61vFa1RSkyBXiqitxbsghqpoitT6IBJEqfoS5zez\n",
       "/2f27tYzedEJs/djZvb3++5nZ3b+BKBhimUL0Hoyyd8GJEVUpAQi17nDbFp+wIfJCpuDkyj9C48a\n",
       "q8LQRiAUiLs8UDhU745mRQ0FfRwkPweZuYpF39ZXmcEfrdLKo34Jm4VQy28KwhjBgZmYC1j0en2V\n",
       "aYyabGUgSsWNR6ixp3gINgUhvAI0E/NZHNoT9VXK2FVnW3nSdEWk9oi4cSqsvx+ph1AdMOjvUggl\n",
       "22vdylAtPMJTQDMxkyRwotrgRSPx4VYQxoUvvCZurOkhXmp1EMauZAQhF0LJ9lq3MlQLjzBu0ExM\n",
       "lWBONhorn5OfYisIz2w0wpEr7JuLm4QwWaEZzRuy2ZsaIYxns1vzrSB8n6qQOs89OSxAcl/vg9uq\n",
       "ERB62ltAxq5xPhl5WuhpwiP06IiAMBA1sUozmvMAk40QpgvQbrSC8A2qIg29+pwASTl2Nt0XAaGn\n",
       "PUP4yJtOmySbJT1NeIQeHREQBqKqRZrRPADKquDevBchaXGgpYnzWqriU/jC+JlHoprq75lK8wi9\n",
       "7RnCjIuwrYqF3iY8Qo+O5hEGo2o5mtFsN3xfB2VgCE4QpmXfwJ/8J0uSro96bGW3UhUF+BAXOJ/R\n",
       "orls9sZs9jpiyZAmb1Ta9gt29DT5ZpBvC/9Wg+19A3m/M5DjJbqGYE3GixYlj1dyB9MxsuMcVxlY\n",
       "R7gVQ1xUeY1mSlN3Z5NdP07DdwkjbQQR1iLOJuho9Cf4Ku9DCHA91l3ETQ9xgjoN9jBpPJ3E9dDp\n",
       "hCFkTeTOvpDpBHWUYS7adOKPmsrRTN0VjzvU53GnopcTEESYVPVIy0B0tF0HNe8byJD6Ax4AWOaQ\n",
       "vGtKRkdJudAsQmwfsqhhA9lqooUgpDr+gpcLkRD6o6JvkqmAYbLqU5d2bQG4DKtXvp5JwD2LA4sl\n",
       "D8LEGXJzbMvMMVuwa3r2wU4hOpI+Kbm780dRhTSdyeE3NohwtPQDJEA1mkVotaeSuaV1u46FrEkI\n",
       "QkvHx9EQBqOqEzRTAc+TsT5+qBI3JbpJWUk8fJjrhcrtxOjJTNifbY/pJqeQOtJe8uwId6AK7cJY\n",
       "LlXlEX7/1HvwDgbyD2TpT/uysyhoTyX7NnivUbW41ihZLsUIbR1wF1eJkXwhXYTBqLh6Slv78UwB\n",
       "4IVLocNgm5kVKHdxCOE8yZV2vQCz9F2jmaot+BHSemdXpI57lkG7aS88qn9zGniEY53aEj7RbsMv\n",
       "e8C+tJUF7alk/phB7kPFlsuQXmjpkK/iKmkkb0gXYTBqG8uugLNwCNRXp6aeIAhHkjxCmjpMkJcN\n",
       "24zDzoD8DqvfUUfy056TtLaCZ4G/LN5tKJPRdicoWXBS0+8pDPsWsoS9IfLuxIn6HNDsursZFmU5\n",
       "z3phqhZcF1ppD/m2tRm2qZCLP5FCdeF0HpgjMp2A3RHVsgih/9hgP7wY6ZgBJQsQngpByB0zKGXF\n",
       "jH7M4ERdChxpKGvQv8J2KScBeoXbUCU3SPomQSjlmQnTxIQR+0ILtS7os7Y7+45Bwnm5j4sQ+jvh\n",
       "Y3s/iHReTSUzcfdnMfXT8nZTjJDrEbN7nzEiH3Y5UfF0C7PjLrUKl1Rglgw3+WoTMuKYRw93GohQ\n",
       "vo2ZZNtHzD2mfAterMLzCvkQoyOQBqfmHSejrop9b90pPMxZX1+LgpBJ5nuhNOG+9MHf9HCEd6yv\n",
       "Rz8vdKKSN0VzQIB099S0YI/s+/cADmSNmdtjjgmO1Rc7aQgcKTp0b8SRa4z/18VMoLC73h3NiuoO\n",
       "+ujBJQixtkb+t4h88TDA22xDv/6rbWJilrSq3Qv/p4apIjIr/1UafwMvh+Zw4gZWegAAAABJRU5E\n",
       "rkJggg==\n",
       "\" style=\"display:inline;vertical-align:middle;\" /></a><br>"
      ],
      "text/plain": [
       "<IPython.core.display.HTML object>"
      ]
     },
     "metadata": {},
     "output_type": "display_data"
    }
   ],
   "source": [
    "generalized_triangle_inequality = Forall(\n",
    "    n, Forall(x_1_to_n, LessEq(Abs(Add(x_1_to_n)), \n",
    "                               Add(ExprRange(k, Abs(IndexedVar(x, k)), one, n))),\n",
    "              domain=Complex),\n",
    "    domain=NaturalPos)"
   ]
  },
  {
   "cell_type": "markdown",
   "metadata": {},
   "source": [
    "<p style=\"font-size:12pt;font-weight:bold\">Multiplicativity (and Preservation of Division)</p>"
   ]
  },
  {
   "cell_type": "code",
   "execution_count": 29,
   "metadata": {},
   "outputs": [
    {
     "data": {
      "text/html": [
       "<strong id=\"abs_prod\"><a class=\"ProveItLink\" href=\"proofs/abs_prod/thm_proof.ipynb\">abs_prod</a> (conjecture without proof):<br></strong> <a class=\"ProveItLink\" href=\"../__pv_it/theorems/6771b2d7e2f8638ad9b4ef127038acde122ed7f60/theorem_expr.ipynb\"><img src=\"data:image/png;base64,iVBORw0KGgoAAAANSUhEUgAAAkQAAAAXBAMAAAAYS00ZAAAAMFBMVEX///+IiIgiIiIQEBB2dnbu\n",
       "7u5ERETMzMzc3NwyMjK6urpmZmaYmJiqqqpUVFQAAAB6qHgnAAAAAXRSTlMAQObYZgAAAAlwSFlz\n",
       "AAAOxAAADsQBlSsOGwAABSpJREFUWMPtWF1oHFUUPtnMZCY7s9vZoK2aGpZACLogq1QsIrgtVehq\n",
       "yxRipTSa+NAoAWFjlYJSndIaFNHui+KD0IXqm9U1KqkmyIrU2gZxG4sBFU2RFh9E8mBp9GW99575\n",
       "ubNzd++Iuy/iWc5wOPecb8795t5zZxZAKgOj8O9FJz/oCI4U2hFY4szWow5z6HFnX+zE1G4GpdIJ\n",
       "HAFKM3RRXHn7+zeNFiFpAVNirlLPj+0pksfIJFXoGkUR6M5QBJsBtQifUs+b7SmSx8hkH3SNogh0\n",
       "hyjqt1GL8Dzdc5PtKZLHyGSxexQtdokis4paZEQp9fYUyWNkku8eRfkuUQR3ohbBrJH1JGnX8hhZ\n",
       "Kyp3jaIodKcoeguVmHcMD2+RnWjSGIkYBVaEmrn89K7QQNQjkj1DD++ot5ioC82FhCgK/FKK+Foo\n",
       "xm5UYs4DHJBRJI2RSH+NFWHAkDUXnmDEI5JqzyUjy1M0N0zlNg6aCwlRFPilFPG1UIxzqMR8DfRV\n",
       "QU6Bv1GLmNiSqLMivoJv7N9CA1GPQEzHvJqutVhFCM2H8BRxfilFfC0U41tUYvbZoWQ9V4QvCB9V\n",
       "nqKmmJiy8bMbLLR6K6yIEnxCN9c5tsX+pFf0jO2+7HvCwnwaGOWWHQWh3ZDxsjs9xCq6qeqO323M\n",
       "FN1jogxcdQFFL6ASM2UFnXjmyjT8pNiG3UQRHxNLKNDeX+G7QogigNvp2ADz5XCIeqowx3lCgr5e\n",
       "S0IRhmiZrLeKct5Eqd8AstkwU3CPRBW46gKKTqJSs/y53xnm6Vu0VVWgiSIuJl57pkD3WWAWQhsN\n",
       "kuvwEMAyF8k8f8HxUlu89x3VbtGLPGgWkspGTjTq31DRr8U40bA6P3MZlZq7XifbfXFmEN+3YeX7\n",
       "Iwo8sJBbqHDhNAYypwe9D0PODCRwUiD1bMX/kOyzaBHqdDpPe1xAkes5056ivZVfQHFLjEwUoTEk\n",
       "SpGbasegyK1l6WymihhfolLzKOk84ydrvY7KXqBXlEfejqwiGtPjXOl3z1XODCRwMqDUqwGJyiot\n",
       "InVtfz5Z5ynyPLA91BlYx5jw+8/Pz3wIp7DE6EQRGkOiFLl+ULJcZgA/wfU4rEU9fw9sRYyPUKmZ\n",
       "Jk/wxRthg51krX8FqhsjFNEYEx7TQGeHPzNPDYbLZU7cPRTIHLf9IS3LntMH1g9fQ2gVuR5tJNwZ\n",
       "cp7BZH8mtVjHEqMUITSGRCly/fBUKNOHD+7hVafvKcNVxLgV1Ye7RDqT+cbU1JOEorH+CEUo6wCH\n",
       "R3wzr641lbvukUWBtGe5zTPKb5HlyDKftWM0OFqiYLvw0IJehMf0gdhv12krmWeZehbVB7kLFjSt\n",
       "gKsoeaH5vch9YHkdYMQ3HS3f9ECJc+ndi8RgyaRdgzf1pbYU6VXdkVNESxRMdCkGRa/AS3Ep6i0Z\n",
       "1RLNNGqoHoi+BqMr+AZ9HmBI+JfaUaVsMIrGXLOvQky14F2Y88JkAtxX8WOnQfEO6z6nHUWzh56T\n",
       "LyMsMTpRHroFRfrjhz6OS9FxSBxmFM0CqgeSXIXrajBLtoZ2iwNpIUXGTduuZxQdrKM5T01tKxx0\n",
       "6AWd6dLLFJruMXXn1LzfdCaDIo6d2NZU372NhnwRYYnRiXLQ+s4/LBFFvY3GWlyK3oOeB1nmE4Aa\n",
       "/tNVvX9qOpq9PfTvLd1o7nehbXkm+M4EbH5HBHQEekqd+NIXoDRDbxJY4szWo5vI+QxMB+7+pyXO\n",
       "bKlDEnfFiUbWM+lDRutRuFiD/8UUmeZ/drp/A3Z2tBmAKcXiAAAAAElFTkSuQmCC\n",
       "\" style=\"display:inline;vertical-align:middle;\" /></a><br>"
      ],
      "text/plain": [
       "<IPython.core.display.HTML object>"
      ]
     },
     "metadata": {},
     "output_type": "display_data"
    }
   ],
   "source": [
    "abs_prod = Forall(\n",
    "    n,\n",
    "    Forall(x_1_to_n,\n",
    "           Equals(Abs(Mult(x_1_to_n)), \n",
    "                  Mult(ExprRange(k, Abs(IndexedVar(x, k)), one, n))),\n",
    "           domain = Complex),\n",
    "    domain = NaturalPos)"
   ]
  },
  {
   "cell_type": "code",
   "execution_count": 30,
   "metadata": {},
   "outputs": [
    {
     "data": {
      "text/html": [
       "<strong id=\"abs_frac\"><a class=\"ProveItLink\" href=\"proofs/abs_frac/thm_proof.ipynb\">abs_frac</a> (conjecture without proof):<br></strong> <a class=\"ProveItLink\" href=\"../__pv_it/theorems/cf428abf0b643005dbc8328f04e5a0f9276cd25a0/theorem_expr.ipynb\"><img src=\"data:image/png;base64,iVBORw0KGgoAAAANSUhEUgAAAOEAAAAyCAMAAACdx0zJAAAAQlBMVEX///8MDAwGBgZRUVE2NjYb\n",
       "GxsSEhKIiIgiIiIQEBB2dnbu7u5ERETMzMzc3NwyMjK6urpmZmaYmJiqqqpUVFQAAAD5Lv3CAAAA\n",
       "AXRSTlMAQObYZgAAAAlwSFlzAAAOxAAADsQBlSsOGwAABERJREFUaN7NmomymyAUQGlfW3Zk/f9f\n",
       "LaAim4nGRMJMO9FwfZ7clQsADB2MX3yA6F9TRsFXDKuvPoHI/jVHX4FoCfgUITDoCwD1BD5HCIgd\n",
       "Diiw+CQhQHo0IYLrJ9WfoK4RGjzYFTVOH3F/Br5GCCY1lhCTFkVYAgU8T7jJ5YTSiZGA0NGGUAbP\n",
       "ZOmLw4SZXKHTaWiwQbYxR4pDbFDorA5zuYLQuIGeyB1vCJWL6OQsYS5XEFIHByZ73IYUzOJbybOE\n",
       "uVwZedjAtI9tQzj/4tqdjaWFXEmox8Ua7nSH0ATlTsCIk4SZXElI3bCsD4sfd0FhMJSTKmX6o1aa\n",
       "y1X5EQ+Lpgx3Uju1kHBhIT8bSzO5ijA44gZpbtRoDA6frmnCpfdOlW5N93kldeoeQu0jLF+VKNid\n",
       "gaZIVD/9WT/XCeMfmpa8T8x9hMaZe3QYjUUv7jfdGGi0428ihPzxtQsmilEYmNxIWCaLK4TPhgu+\n",
       "pyL2rc0pUpbETwkVysapFIenuLha/3tlPFhl7v9m6iThhSUMWtVXe2wMRFMbXiFTNlukeuHd+fMj\n",
       "CYGt/VvXQXHbOEro+iMnjA8xcCfOpG4fh5axUD0w6x3IMNIlLLuDs1Vo/2zJDhF+Rod4CaO6u5DC\n",
       "S2BSavlAaJyndwhxHsisSLeaCl/d5oezlfpUuCZFSjQkYkuX0Pov4FrOUc1nYxZ9K13mzx2J+CuI\n",
       "iIJNE2nuiqV4Nk6xluAUCf+e61+HiAKovGmmRC1MU9llhMt8xcL45/9p/7BA2HQu4dvyYbVxIfbW\n",
       "oTaZo9dEerB/w9CXlun9NNX0AeEyf2bQi1qjDuHHMn4VIpuA6apYj/0EaHO3Uta/dFQKM4BzyR8Q\n",
       "LvOjMSy3Zyt1pqnaijf5vXoBw6hz+/nyKcnVhNSR6jp05TRdFOVmF+LbpCXS5JkuI1zmByv9+4dF\n",
       "K92JNOUSH/za+n+qe/upDle5mpDXvSgc3FB6U6SByruVZkW5I4gKL0v6+XCdD7YFC4AhW7TRb2/1\n",
       "VGj7hJWucjWhqc1HKm0g0cEZ/TdcQTivq5JtUuJNVvG+la7zixLQZ3zVFjdo6hLKIoscJ0xyNSF8\n",
       "0IrK2SkJNif7/Yie7NM2pcVdQoJeizRJriasSotCm0cL8R7h84WY7itrsj6jmvOESa4mxPvL+sM9\n",
       "m84jjDywyO85HHW+8qDJsA4TbnIVoXhH0/vF5k6nI7zuM6TseZhwk2vaNON2n1Snqw9UNO+Uwg4T\n",
       "bnIVoR3Y1Zd5zl9R4uaKTAZ8mHCTqwhH7swApFrCyKZO7R9Gpk2u3rYYuc+tOzukoVqdNwNPEia5\n",
       "khCNPY7R2eUOB4iYOp8PN7mCcPAud67EtUailqgsTfGjhJtcQchGn6iZ3tK/3F89STf64Bd/x4mh\n",
       "B4TIgNEDsk8SfsGpr7ec3NsllBP4hjFdN6RyoyJd8elLDphePkG7M+gG+B9qKTzcGC6+3QAAAABJ\n",
       "RU5ErkJggg==\n",
       "\" style=\"display:inline;vertical-align:middle;\" /></a><br>"
      ],
      "text/plain": [
       "<IPython.core.display.HTML object>"
      ]
     },
     "metadata": {},
     "output_type": "display_data"
    }
   ],
   "source": [
    "abs_frac = Forall(\n",
    "    (a, b),\n",
    "    Equals(Abs(frac(a, b)), frac(Abs(a), Abs(b))),\n",
    "    domain = Complex,\n",
    "    conditions=[NotEquals(b, zero)])"
   ]
  },
  {
   "cell_type": "markdown",
   "metadata": {},
   "source": [
    "<p style=\"font-size:12pt;font-weight:bold\">See the proveit.trigonometry theory package for facts related to absolute values of complex numbers in polar form.</p>"
   ]
  },
  {
   "cell_type": "code",
   "execution_count": 31,
   "metadata": {},
   "outputs": [
    {
     "name": "stdout",
     "output_type": "stream",
     "text": [
      "These theorems may now be imported from the theory package: proveit.numbers.absolute_value\n"
     ]
    }
   ],
   "source": [
    "%end theorems"
   ]
  },
  {
   "cell_type": "code",
   "execution_count": null,
   "metadata": {},
   "outputs": [],
   "source": []
  }
 ],
 "metadata": {
  "kernelspec": {
   "display_name": "Python 3",
   "language": "python",
   "name": "python3"
  },
  "language_info": {
   "codemirror_mode": {
    "name": "ipython",
    "version": 3
   },
   "file_extension": ".py",
   "mimetype": "text/x-python",
   "name": "python",
   "nbconvert_exporter": "python",
   "pygments_lexer": "ipython3",
   "version": "3.7.3"
  }
 },
 "nbformat": 4,
 "nbformat_minor": 1
}
