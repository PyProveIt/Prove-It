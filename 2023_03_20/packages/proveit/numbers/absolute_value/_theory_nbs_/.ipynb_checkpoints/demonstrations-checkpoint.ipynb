{
 "cells": [
  {
   "cell_type": "markdown",
   "metadata": {},
   "source": [
    "Demonstrations for the theory of <a class=\"ProveItLink\" href=\"theory.ipynb\">proveit.numbers.absolute_value</a>\n",
    "========"
   ]
  },
  {
   "cell_type": "code",
   "execution_count": 1,
   "metadata": {},
   "outputs": [],
   "source": [
    "import proveit\n",
    "from proveit import ExprRange, IndexedVar, used_vars, free_vars\n",
    "from proveit import a, b, c, k, n, r, x, y, theta\n",
    "from proveit.core_expr_types import x_1_to_n\n",
    "from proveit.logic import And, Equals, InSet, NotEquals\n",
    "from proveit.numbers import zero, one, two, three, e, i, pi\n",
    "from proveit.numbers import (Abs, Add, frac, Exp, greater,\n",
    "                            greater_eq, Less, LessEq, Mult, Neg)\n",
    "from proveit.numbers import (Complex, Integer, Natural, NaturalPos,\n",
    "                            Real, RealPos, RealNeg, RealNonNeg, RealNonPos)\n",
    "from proveit.numbers.absolute_value  import abs_val_def_sqrt\n",
    "%begin demonstrations"
   ]
  },
  {
   "cell_type": "markdown",
   "metadata": {},
   "source": [
    "# Absolute Value (and norm) $|a|$"
   ]
  },
  {
   "cell_type": "markdown",
   "metadata": {},
   "source": [
    "<div style=\"line-height:1.4; font-size:14pt\">\n",
    "\n",
    "<a href='#introduction'>Introduction</a><br>\n",
    "<a href='#simple_expressions'>Simple Expressions Involving Absolute Value $|a|$</a><br>\n",
    "<a href='#common_attributes'>Common Attributes of an Absolute Value Expression</a><br>\n",
    "<a href='#axioms'>Axioms</a><br>\n",
    "<a href='#theorems'>Theorems</a><br>\n",
    "<a href='#further_demonstrations'>Further Demonstrations</a><br>\n",
    "    <ol>\n",
    "        <li><a href='#demo01'>Simplifying $|x+1|$ and Deducing Number Sets</a></li>\n",
    "        <li><a href='#demo02'>Simplifying $|a+b+2+3|$ and Deducing Number Sets</a></li>\n",
    "        <li><a href='#demo03'>Simplifying $1 + |x+1|$</a></li>\n",
    "    </ol>\n",
    "<a href='#misc_testing'>Misc Testing (temporary)</a><br>\n",
    "</div>\n"
   ]
  },
  {
   "cell_type": "markdown",
   "metadata": {},
   "source": [
    "## Introduction <a id='introduction'></a>"
   ]
  },
  {
   "cell_type": "markdown",
   "metadata": {},
   "source": [
    "<font size=3>The concept of the absolute value of a real number, and its generalization to the norm if a complex number, is ubiquitous in mathematics and often serves a key role in various proofs. The absolute value of a real number $x$, or the norm of a complex number $x$, is captured with the operation `Abs(x)`, along with a standard axiomatic definition and a variety of related theorems.</font>"
   ]
  },
  {
   "cell_type": "markdown",
   "metadata": {},
   "source": [
    "## Simple Expressions Involving Absolute Value $|a|$ <a id='simple_expressions'></a>"
   ]
  },
  {
   "cell_type": "markdown",
   "metadata": {},
   "source": [
    "<font size=3>It is straightforward to construct absolute value expressions. Here are some basic examples of such expressions:</font>"
   ]
  },
  {
   "cell_type": "code",
   "execution_count": 2,
   "metadata": {},
   "outputs": [
    {
     "data": {
      "text/html": [
       "<strong id=\"abs_value_a\">abs_value_a:</strong> <a class=\"ProveItLink\" href=\"../__pv_it/demonstrations/dd71d8cd292572d95b868027769db810dcd116370/expr.ipynb\"><img src=\"data:image/png;base64,iVBORw0KGgoAAAANSUhEUgAAABMAAAAVBAMAAABWJ8jiAAAAMFBMVEX///8yMjKqqqoiIiJmZmaY\n",
       "mJju7u5EREQQEBBUVFTMzMyIiIi6urp2dnbc3NwAAABRd72LAAAAAXRSTlMAQObYZgAAAAlwSFlz\n",
       "AAAOxAAADsQBlSsOGwAAAFlJREFUCNdjeMAAAXwMDHegTN4DFDD55u7bAGWeeMD+DcJka2VgMYAw\n",
       "WT4wMF+AMDkKGPIPQJj5GxjioSbkKzBMZHoAZrJvYDJhgZow+9bLXaQ6ZxeUyb0AAM4PMllmoBVV\n",
       "AAAAAElFTkSuQmCC\n",
       "\" style=\"display:inline;vertical-align:middle;\" /></a><br>"
      ],
      "text/plain": [
       "<IPython.core.display.HTML object>"
      ]
     },
     "metadata": {},
     "output_type": "display_data"
    }
   ],
   "source": [
    "# basic absolute value expression\n",
    "abs_value_a = Abs(a)"
   ]
  },
  {
   "cell_type": "code",
   "execution_count": 3,
   "metadata": {},
   "outputs": [
    {
     "data": {
      "text/html": [
       "<a class=\"ProveItLink\" href=\"../__pv_it/demonstrations/fb2f4406140c29ea38920eb8650681e703845a1e0/expr.ipynb\"><img src=\"data:image/png;base64,iVBORw0KGgoAAAANSUhEUgAAAKUAAAAVBAMAAADVzzOcAAAAMFBMVEX///8yMjKqqqoiIiJmZmaY\n",
       "mJju7u5EREQQEBBUVFTMzMyIiIi6urp2dnbc3NwAAABRd72LAAAAAXRSTlMAQObYZgAAAAlwSFlz\n",
       "AAAOxAAADsQBlSsOGwAAAfVJREFUOMuVlL9Lw1AQx69pm6S/i4OggxTcpZAKUikUpHMzdDeigx2k\n",
       "HQUHCyJuUl1LoX+BBMeKJaPg0IKbdgjoUrpUhy46+JLXl/T1vcSa5crdfT/vXu/egQkeX5Lncpwm\n",
       "NzmJA0MvZsJgXPeuc8hNRubZgymeZnlMYeDDJJqY6lFnoEgxhQ3bHIBfnUSzuhCMq9imMvPMcE6z\n",
       "bYllEgHyE01lgSno2Pa1OXmsgJHQYJlEgPxEI2t85stcj052STDtyySagGoFk+2eTqesPdwS+dE2\n",
       "OTA0wKLR25jHJJpE0wo+mdKUShE/tZqJmdUVt3GqrY1fw7nGMh1NOI2C4iWEslSKMAVZx8yIywzi\n",
       "JhyrsMep09EIDRQMTSA4sO6mKDsXitJEv9KQGszu/uHcXTZsZhmggJmuAPkdTXSCgnIdagZ1LDqi\n",
       "n2F6NGNegfjDqdPRxK06azrs031Ho1bWmFnCdxe/ITzhMB2NkLWYGbgRTIrZQf8xM/OSbjO/IJLe\n",
       "4jCJJlxHQUkXciEqJaJKReptrtu6pn33M9gsFlmmo0Ejh/reeh116Vlqlzg7JIqXRPXxrtXhzBLR\n",
       "BA3+O+LvurzvOyLm3WOH8JkV3x1CTOnPnXyoWF/e9kjmEjs5Wf/XnhfrSzDRwdD1YsY6jGvsOrvc\n",
       "ZGR6AL9GeNOM/3XlIAAAAABJRU5ErkJggg==\n",
       "\" style=\"display:inline;vertical-align:middle;\" /></a>"
      ],
      "text/plain": [
       "|a + b| <= (|a| + |b|)"
      ]
     },
     "metadata": {},
     "output_type": "display_data"
    }
   ],
   "source": [
    "# a version of the triangle inequality, where Abs() occurs repeatedly\n",
    "# inside a larger expression\n",
    "LessEq(Abs(Add(a, b)), Add(Abs(a),Abs(b)))"
   ]
  },
  {
   "cell_type": "markdown",
   "metadata": {},
   "source": [
    "## Common Attributes of an Absolute Value `Abs` Expression <a id='common_attributes'></a>"
   ]
  },
  {
   "cell_type": "markdown",
   "metadata": {},
   "source": [
    "<font size=3>Let's define a simple absolute value expression, $|a+b|$, and look at some of its attributes.</font>"
   ]
  },
  {
   "cell_type": "code",
   "execution_count": 4,
   "metadata": {},
   "outputs": [
    {
     "data": {
      "text/html": [
       "<strong id=\"abs_value_a_plus_b\">abs_value_a_plus_b:</strong> <a class=\"ProveItLink\" href=\"../__pv_it/demonstrations/a00f412b29eef517678b05e1e976de5f2cef54060/expr.ipynb\"><img src=\"data:image/png;base64,iVBORw0KGgoAAAANSUhEUgAAADUAAAAVBAMAAAAUZLt1AAAAMFBMVEX///8yMjKqqqoiIiJmZmaY\n",
       "mJju7u5EREQQEBBUVFTMzMyIiIi6urp2dnbc3NwAAABRd72LAAAAAXRSTlMAQObYZgAAAAlwSFlz\n",
       "AAAOxAAADsQBlSsOGwAAAMJJREFUKM9jeMCAA/AxMNzBJcd7AKscW4UBTjkGRgdMOZ4ACM2vgCnH\n",
       "tAFCn0/ALXcZ7ha+ufs2oMpJ7p4ElTvxgP0bihzbx4T8B2A5tlYGFgMUOaZvDBwbwHIsHxiYLwBF\n",
       "WIyNLZqNjScAWQIM/BfAchwFDPkHUPQBlZ5XAMvlb2CIR3Un0Hv+CRA5BYaJTA9Q5BYA3QCWY9/A\n",
       "ZMKCoo8zgN0BIsc2+9bLXah+mOuKO1ywxREsrPHEHzFyu3DJcS8AAAoETAOg5Fk0AAAAAElFTkSu\n",
       "QmCC\n",
       "\" style=\"display:inline;vertical-align:middle;\" /></a><br>"
      ],
      "text/plain": [
       "<IPython.core.display.HTML object>"
      ]
     },
     "metadata": {},
     "output_type": "display_data"
    }
   ],
   "source": [
    "abs_value_a_plus_b = Abs(Add(a, b))"
   ]
  },
  {
   "cell_type": "markdown",
   "metadata": {},
   "source": [
    "<font size=3>We can use the `expr_info()` method to look at how the expression is constructed:</font>"
   ]
  },
  {
   "cell_type": "code",
   "execution_count": 5,
   "metadata": {},
   "outputs": [
    {
     "data": {
      "text/html": [
       "<table><tr><th>&nbsp;</th><th>core type</th><th>sub-expressions</th><th>expression</th></tr>\n",
       "<tr><td>0</td><td>Operation</td><td>operator:&nbsp;1<br>operand:&nbsp;3<br></td><td><a class=\"ProveItLink\" href=\"../__pv_it/demonstrations/a00f412b29eef517678b05e1e976de5f2cef54060/expr.ipynb\"><img src=\"data:image/png;base64,iVBORw0KGgoAAAANSUhEUgAAADUAAAAVBAMAAAAUZLt1AAAAMFBMVEX///8yMjKqqqoiIiJmZmaY\n",
       "mJju7u5EREQQEBBUVFTMzMyIiIi6urp2dnbc3NwAAABRd72LAAAAAXRSTlMAQObYZgAAAAlwSFlz\n",
       "AAAOxAAADsQBlSsOGwAAAMJJREFUKM9jeMCAA/AxMNzBJcd7AKscW4UBTjkGRgdMOZ4ACM2vgCnH\n",
       "tAFCn0/ALXcZ7ha+ufs2oMpJ7p4ElTvxgP0bihzbx4T8B2A5tlYGFgMUOaZvDBwbwHIsHxiYLwBF\n",
       "WIyNLZqNjScAWQIM/BfAchwFDPkHUPQBlZ5XAMvlb2CIR3Un0Hv+CRA5BYaJTA9Q5BYA3QCWY9/A\n",
       "ZMKCoo8zgN0BIsc2+9bLXah+mOuKO1ywxREsrPHEHzFyu3DJcS8AAAoETAOg5Fk0AAAAAElFTkSu\n",
       "QmCC\n",
       "\" style=\"display:inline;vertical-align:middle;\" /></a></td></tr>\n",
       "<tr><td>1</td><td>Literal</td><td></td><td><a class=\"ProveItLink\" href=\"../__pv_it/common/eea56c667bc0aad2dc76ed04b44c2bd98b94005f0/expr.ipynb\"><img src=\"data:image/png;base64,iVBORw0KGgoAAAANSUhEUgAAACIAAAAPBAMAAABzWwAZAAAAMFBMVEX///8QEBAiIiLu7u5ERES6\n",
       "urqYmJiIiIjMzMx2dnZUVFRmZmaqqqoyMjLc3NwAAABb1yYoAAAAAXRSTlMAQObYZgAAAAlwSFlz\n",
       "AAAOxAAADsQBlSsOGwAAAMZJREFUGNNdjjELAWEcxn8ciTt3JvN9BIMyYpEyWGwUm00mRjajNx/A\n",
       "WZVypSwGvgFlUBZ8AFGsnPe1uDzDf/j9n6fnAaUr/zqBlrd9wPDkibs+os/PYG18ZOz0oZ76AbPd\n",
       "k/+RP8S2AcfuDKLdhSI1hgLtlcqeKVJVxOU2wXgQaJt3ChJESqt5Dn2HJcxnS1kystkmKKhvcDzx\n",
       "DRFMqDlr2V95QFj2xO9YfS2pFkhykbbQm1gj5HLAcEl7e4zyS2jTJQyaHT6CnjSQ4Bb1BwAAAABJ\n",
       "RU5ErkJggg==\n",
       "\" style=\"display:inline;vertical-align:middle;\" /></a></td></tr>\n",
       "<tr><td>2</td><td>ExprTuple</td><td>3</td><td><a class=\"ProveItLink\" href=\"../__pv_it/demonstrations/9e76af431de2efe789688d6f87850b9b3a54d0250/expr.ipynb\"><img src=\"data:image/png;base64,iVBORw0KGgoAAAANSUhEUgAAADkAAAAVBAMAAAAOWFv7AAAAMFBMVEX////MzMxUVFRERES6uroi\n",
       "IiIQEBCYmJhmZmYyMjLu7u52dnaqqqqIiIjc3NwAAACW8nlqAAAAAXRSTlMAQObYZgAAAAlwSFlz\n",
       "AAAOxAAADsQBlSsOGwAAARlJREFUKM91kaFPw0AUxj/o1h3j6GbmZ8kgqcJBpnBkNSWIiQkIthLH\n",
       "HAJBgyFBNeEPaCHB1xLM8QdsaUjws0zxXUHwkusT7969333v3rsDUMFtdX6nbKAn1r07QPcgoixh\n",
       "kLp0W3O6R0Al/7Otv13PXncF+EKjze86yej8DG9O+lqXT3DLJRgtjaT3iz1ge4gHxseVtxa0+53l\n",
       "FToppowvoSJB9Rq+gZ7hnG2v0C6YU3F8ehHHQ0YpegU2Vpb6IfKx0PLwpERrZivnBteyZ457l0FH\n",
       "OCQtsasrQfvsBZ0QL4Bn9JkS2s3E41OqAgP2vP/8+SEnGt3Y28do911vVdsXi89dv1Cb1R81fD6C\n",
       "kO6piXp2jMA00CXwAz1XQ9cNijcTAAAAAElFTkSuQmCC\n",
       "\" style=\"display:inline;vertical-align:middle;\" /></a></td></tr>\n",
       "<tr><td>3</td><td>Operation</td><td>operator:&nbsp;4<br>operands:&nbsp;5<br></td><td><a class=\"ProveItLink\" href=\"../__pv_it/demonstrations/9df4b739076f4e12b1230310c3d5fc9349486de20/expr.ipynb\"><img src=\"data:image/png;base64,iVBORw0KGgoAAAANSUhEUgAAAC0AAAAQBAMAAABw0OvaAAAAMFBMVEX////MzMwyMjKqqqoiIiJm\n",
       "ZmaYmJju7u5EREQQEBC6urqIiIh2dnZUVFTc3NwAAAAqL9KcAAAAAXRSTlMAQObYZgAAAAlwSFlz\n",
       "AAAOxAAADsQBlSsOGwAAAKZJREFUGNNjYMAA7J0ODFgBUwAqnysBQvMboIozb4DQ6wuwix8Bk3x3\n",
       "9m1AFdfdfRlIrnzA8R1FnP1TQf0DBvZpDKwOKOLM3xk4NzCwfmBgOQDksbq4eE5xcbkAZCkw8B9g\n",
       "4GxgqF+Aoh6obL0BQ/0GhnxU9wCdH1/AUG/AcIn5AYq4ANBOBo4NzK6sKOp5EziAAcF+++Dbjaju\n",
       "vBOG3b/oABZuIAAAkScsjHSDwtkAAAAASUVORK5CYII=\n",
       "\" style=\"display:inline;vertical-align:middle;\" /></a></td></tr>\n",
       "<tr><td>4</td><td>Literal</td><td></td><td><a class=\"ProveItLink\" href=\"../../addition/__pv_it/common/4b7effaab3619a1c2c38fe2dee8601df8ec714590/expr.ipynb\"><img src=\"data:image/png;base64,iVBORw0KGgoAAAANSUhEUgAAAA4AAAAOBAMAAADtZjDiAAAAHlBMVEX///9UVFQQEBAiIiJmZmaI\n",
       "iIiqqqqYmJi6uroAAAAAFVhYAAAAAXRSTlMAQObYZgAAAAlwSFlzAAAOxAAADsQBlSsOGwAAAB9J\n",
       "REFUCNdjYGBgaGeAgFRiaGdjYyVjY0Oi1SPRIHsAgDEGyG9xCpgAAAAASUVORK5CYII=\n",
       "\" style=\"display:inline;vertical-align:middle;\" /></a></td></tr>\n",
       "<tr><td>5</td><td>ExprTuple</td><td>6, 7</td><td><a class=\"ProveItLink\" href=\"../../ordering/__pv_it/theorems/3dcd5ceea6334d8cb48fe14fdae236293aa9a6050/expr.ipynb\"><img src=\"data:image/png;base64,iVBORw0KGgoAAAANSUhEUgAAACkAAAAVBAMAAAAp9toTAAAAMFBMVEX////MzMxUVFRERES6uroi\n",
       "IiIQEBCYmJhmZmYyMjLu7u52dnaqqqqIiIjc3NwAAACW8nlqAAAAAXRSTlMAQObYZgAAAAlwSFlz\n",
       "AAAOxAAADsQBlSsOGwAAAQ9JREFUGNNdkSFPw0AUx39Q2pVx62bwWDJIqnCQKRxZJSETE0uwlTjm\n",
       "EAgaDAmqCR+ghQRfC5jyAVgaEvwsU7y77Ui7E+/+73cv/3vvDqhoLpN3ijV6psNHDbSPIimLRST1\n",
       "uu2phEfw4zrtarsr8Bqew1SCl/LWoK/GJuZWtqA/K5f0/usAdvZ4EH1aOYtlD79pVtFKGIm+xI8M\n",
       "VQu8EjVmIm3McXND/YRuzsZcUy8kGxgqh8OCrbF2yEqu/9u9S1ERx0IL9lXV1rQnd9AKeQGnVOc+\n",
       "mYy+GTsysp+zKz0cPn9/4l6I6t9o9wFuz871bsWPmExtkluh60/s266GJgglPK2Sji119BcF5doP\n",
       "zeAPz407TZ15g6gAAAAASUVORK5CYII=\n",
       "\" style=\"display:inline;vertical-align:middle;\" /></a></td></tr>\n",
       "<tr><td>6</td><td>Variable</td><td></td><td><a class=\"ProveItLink\" href=\"../../../__pv_it/common/c06c606ec12678c58933ac85412ecadc2ae28be60/expr.ipynb\"><img src=\"data:image/png;base64,iVBORw0KGgoAAAANSUhEUgAAAAsAAAAJBAMAAAAWSsseAAAAMFBMVEX////MzMwyMjKqqqoiIiJm\n",
       "ZmaYmJju7u5EREQQEBC6urqIiIh2dnZUVFTc3NwAAAAqL9KcAAAAAXRSTlMAQObYZgAAAAlwSFlz\n",
       "AAAOxAAADsQBlSsOGwAAAEdJREFUCNdjYOC7s28DAwPDygcc3xkY2KcxsDowMLB+YGA5wMDA2cBQ\n",
       "v4CBoX4DQz5QRb0BwyXmBwwcG5hdWYEqbx98u5EBABisEWzRR9jxAAAAAElFTkSuQmCC\n",
       "\" style=\"display:inline;vertical-align:middle;\" /></a></td></tr>\n",
       "<tr><td>7</td><td>Variable</td><td></td><td><a class=\"ProveItLink\" href=\"../../../__pv_it/common/195236b98c6c564a75b5dbada74b173bc52d5c3e0/expr.ipynb\"><img src=\"data:image/png;base64,iVBORw0KGgoAAAANSUhEUgAAAAkAAAAOBAMAAAAPuiubAAAAMFBMVEX///+YmJjMzMzc3NyIiIhU\n",
       "VFR2dna6urqqqqpmZmYyMjIiIiIQEBBERETu7u4AAAD7tRWPAAAAAXRSTlMAQObYZgAAAAlwSFlz\n",
       "AAAOxAAADsQBlSsOGwAAAFBJREFUCNdj4LuzgQEIuCaASP4GEFn/AERmgwiGpS4RDAx8vx68N2Dg\n",
       "+MfA48DAuYCBP4GBO4GhvgGkfP4DBn4FvoMMDKwCvEAj+MImMjAAAMxHEV3T4g9SAAAAAElFTkSu\n",
       "QmCC\n",
       "\" style=\"display:inline;vertical-align:middle;\" /></a></td></tr>\n",
       "</table>\n"
      ],
      "text/plain": [
       "0. |a + b|\n",
       "   core type: Operation\n",
       "   operator: 1\n",
       "   operand: 3\n",
       "1. Abs\n",
       "   core type: Literal\n",
       "   sub-expressions: \n",
       "2. (a + b)\n",
       "   core type: ExprTuple\n",
       "   sub-expressions: 3\n",
       "3. a + b\n",
       "   core type: Operation\n",
       "   operator: 4\n",
       "   operands: 5\n",
       "4. +\n",
       "   core type: Literal\n",
       "   sub-expressions: \n",
       "5. (a, b)\n",
       "   core type: ExprTuple\n",
       "   sub-expressions: 6, 7\n",
       "6. a\n",
       "   core type: Variable\n",
       "   sub-expressions: \n",
       "7. b\n",
       "   core type: Variable\n",
       "   sub-expressions: "
      ]
     },
     "metadata": {},
     "output_type": "display_data"
    }
   ],
   "source": [
    "abs_value_a_plus_b.expr_info()"
   ]
  },
  {
   "cell_type": "markdown",
   "metadata": {},
   "source": [
    "<font size=3>The string version of the absolute value operator is simply the `Abs` string:</font>"
   ]
  },
  {
   "cell_type": "code",
   "execution_count": 6,
   "metadata": {},
   "outputs": [
    {
     "data": {
      "text/html": [
       "<a class=\"ProveItLink\" href=\"../__pv_it/common/eea56c667bc0aad2dc76ed04b44c2bd98b94005f0/expr.ipynb\"><img src=\"data:image/png;base64,iVBORw0KGgoAAAANSUhEUgAAACIAAAAPBAMAAABzWwAZAAAAMFBMVEX///8QEBAiIiLu7u5ERES6\n",
       "urqYmJiIiIjMzMx2dnZUVFRmZmaqqqoyMjLc3NwAAABb1yYoAAAAAXRSTlMAQObYZgAAAAlwSFlz\n",
       "AAAOxAAADsQBlSsOGwAAAMZJREFUGNNdjjELAWEcxn8ciTt3JvN9BIMyYpEyWGwUm00mRjajNx/A\n",
       "WZVypSwGvgFlUBZ8AFGsnPe1uDzDf/j9n6fnAaUr/zqBlrd9wPDkibs+os/PYG18ZOz0oZ76AbPd\n",
       "k/+RP8S2AcfuDKLdhSI1hgLtlcqeKVJVxOU2wXgQaJt3ChJESqt5Dn2HJcxnS1kystkmKKhvcDzx\n",
       "DRFMqDlr2V95QFj2xO9YfS2pFkhykbbQm1gj5HLAcEl7e4zyS2jTJQyaHT6CnjSQ4Bb1BwAAAABJ\n",
       "RU5ErkJggg==\n",
       "\" style=\"display:inline;vertical-align:middle;\" /></a>"
      ],
      "text/plain": [
       "Abs"
      ]
     },
     "metadata": {},
     "output_type": "display_data"
    }
   ],
   "source": [
    "abs_value_a_plus_b.operator"
   ]
  },
  {
   "cell_type": "markdown",
   "metadata": {},
   "source": [
    "<font size=3>And we can test for instances of `Abs()` in the usual way, by testing for the `Abs` class:</font>"
   ]
  },
  {
   "cell_type": "code",
   "execution_count": 7,
   "metadata": {},
   "outputs": [
    {
     "name": "stdout",
     "output_type": "stream",
     "text": [
      "|a + b| is an instance of Abs\n"
     ]
    }
   ],
   "source": [
    "if isinstance(abs_value_a_plus_b, Abs):\n",
    "    print(\"{} is an instance of Abs\".format(abs_value_a_plus_b))"
   ]
  },
  {
   "cell_type": "markdown",
   "metadata": {},
   "source": [
    "<font size=3>We can obtain the operand (the expression inside the absolute value) apart from the `Abs()` expression. We can also get a list of the variables and a separate list of the *free* variables in the expression (of course, in this expression, all the variables are also free variables):</font>"
   ]
  },
  {
   "cell_type": "code",
   "execution_count": 8,
   "metadata": {},
   "outputs": [
    {
     "data": {
      "text/html": [
       "<a class=\"ProveItLink\" href=\"../__pv_it/demonstrations/9df4b739076f4e12b1230310c3d5fc9349486de20/expr.ipynb\"><img src=\"data:image/png;base64,iVBORw0KGgoAAAANSUhEUgAAAC0AAAAQBAMAAABw0OvaAAAAMFBMVEX////MzMwyMjKqqqoiIiJm\n",
       "ZmaYmJju7u5EREQQEBC6urqIiIh2dnZUVFTc3NwAAAAqL9KcAAAAAXRSTlMAQObYZgAAAAlwSFlz\n",
       "AAAOxAAADsQBlSsOGwAAAKZJREFUGNNjYMAA7J0ODFgBUwAqnysBQvMboIozb4DQ6wuwix8Bk3x3\n",
       "9m1AFdfdfRlIrnzA8R1FnP1TQf0DBvZpDKwOKOLM3xk4NzCwfmBgOQDksbq4eE5xcbkAZCkw8B9g\n",
       "4GxgqF+Aoh6obL0BQ/0GhnxU9wCdH1/AUG/AcIn5AYq4ANBOBo4NzK6sKOp5EziAAcF+++Dbjaju\n",
       "vBOG3b/oABZuIAAAkScsjHSDwtkAAAAASUVORK5CYII=\n",
       "\" style=\"display:inline;vertical-align:middle;\" /></a>"
      ],
      "text/plain": [
       "a + b"
      ]
     },
     "metadata": {},
     "output_type": "display_data"
    }
   ],
   "source": [
    "# the \"bare\" operand\n",
    "abs_value_a_plus_b.operand"
   ]
  },
  {
   "cell_type": "code",
   "execution_count": 9,
   "metadata": {},
   "outputs": [
    {
     "data": {
      "text/html": [
       "<a class=\"ProveItLink\" href=\"../__pv_it/demonstrations/9e76af431de2efe789688d6f87850b9b3a54d0250/expr.ipynb\"><img src=\"data:image/png;base64,iVBORw0KGgoAAAANSUhEUgAAADkAAAAVBAMAAAAOWFv7AAAAMFBMVEX////MzMxUVFRERES6uroi\n",
       "IiIQEBCYmJhmZmYyMjLu7u52dnaqqqqIiIjc3NwAAACW8nlqAAAAAXRSTlMAQObYZgAAAAlwSFlz\n",
       "AAAOxAAADsQBlSsOGwAAARlJREFUKM91kaFPw0AUxj/o1h3j6GbmZ8kgqcJBpnBkNSWIiQkIthLH\n",
       "HAJBgyFBNeEPaCHB1xLM8QdsaUjws0zxXUHwkusT7969333v3rsDUMFtdX6nbKAn1r07QPcgoixh\n",
       "kLp0W3O6R0Al/7Otv13PXncF+EKjze86yej8DG9O+lqXT3DLJRgtjaT3iz1ge4gHxseVtxa0+53l\n",
       "FToppowvoSJB9Rq+gZ7hnG2v0C6YU3F8ehHHQ0YpegU2Vpb6IfKx0PLwpERrZivnBteyZ457l0FH\n",
       "OCQtsasrQfvsBZ0QL4Bn9JkS2s3E41OqAgP2vP/8+SEnGt3Y28do911vVdsXi89dv1Cb1R81fD6C\n",
       "kO6piXp2jMA00CXwAz1XQ9cNijcTAAAAAElFTkSuQmCC\n",
       "\" style=\"display:inline;vertical-align:middle;\" /></a>"
      ],
      "text/plain": [
       "(a + b)"
      ]
     },
     "metadata": {},
     "output_type": "display_data"
    }
   ],
   "source": [
    "# the operand in a (1-element) tuple\n",
    "abs_value_a_plus_b.operands"
   ]
  },
  {
   "cell_type": "code",
   "execution_count": 10,
   "metadata": {},
   "outputs": [
    {
     "data": {
      "text/html": [
       "<a class=\"ProveItLink\" href=\"../../ordering/__pv_it/theorems/3dcd5ceea6334d8cb48fe14fdae236293aa9a6050/expr.ipynb\"><img src=\"data:image/png;base64,iVBORw0KGgoAAAANSUhEUgAAACkAAAAVBAMAAAAp9toTAAAAMFBMVEX////MzMxUVFRERES6uroi\n",
       "IiIQEBCYmJhmZmYyMjLu7u52dnaqqqqIiIjc3NwAAACW8nlqAAAAAXRSTlMAQObYZgAAAAlwSFlz\n",
       "AAAOxAAADsQBlSsOGwAAAQ9JREFUGNNdkSFPw0AUx39Q2pVx62bwWDJIqnCQKRxZJSETE0uwlTjm\n",
       "EAgaDAmqCR+ghQRfC5jyAVgaEvwsU7y77Ui7E+/+73cv/3vvDqhoLpN3ijV6psNHDbSPIimLRST1\n",
       "uu2phEfw4zrtarsr8Bqew1SCl/LWoK/GJuZWtqA/K5f0/usAdvZ4EH1aOYtlD79pVtFKGIm+xI8M\n",
       "VQu8EjVmIm3McXND/YRuzsZcUy8kGxgqh8OCrbF2yEqu/9u9S1ERx0IL9lXV1rQnd9AKeQGnVOc+\n",
       "mYy+GTsysp+zKz0cPn9/4l6I6t9o9wFuz871bsWPmExtkluh60/s266GJgglPK2Sji119BcF5doP\n",
       "zeAPz407TZ15g6gAAAAASUVORK5CYII=\n",
       "\" style=\"display:inline;vertical-align:middle;\" /></a>"
      ],
      "text/plain": [
       "(a, b)"
      ]
     },
     "metadata": {},
     "output_type": "display_data"
    }
   ],
   "source": [
    "# the variables appearing in the expression\n",
    "used_vars(abs_value_a_plus_b)"
   ]
  },
  {
   "cell_type": "code",
   "execution_count": 11,
   "metadata": {},
   "outputs": [
    {
     "data": {
      "text/html": [
       "<a class=\"ProveItLink\" href=\"../../ordering/__pv_it/theorems/3dcd5ceea6334d8cb48fe14fdae236293aa9a6050/expr.ipynb\"><img src=\"data:image/png;base64,iVBORw0KGgoAAAANSUhEUgAAACkAAAAVBAMAAAAp9toTAAAAMFBMVEX////MzMxUVFRERES6uroi\n",
       "IiIQEBCYmJhmZmYyMjLu7u52dnaqqqqIiIjc3NwAAACW8nlqAAAAAXRSTlMAQObYZgAAAAlwSFlz\n",
       "AAAOxAAADsQBlSsOGwAAAQ9JREFUGNNdkSFPw0AUx39Q2pVx62bwWDJIqnCQKRxZJSETE0uwlTjm\n",
       "EAgaDAmqCR+ghQRfC5jyAVgaEvwsU7y77Ui7E+/+73cv/3vvDqhoLpN3ijV6psNHDbSPIimLRST1\n",
       "uu2phEfw4zrtarsr8Bqew1SCl/LWoK/GJuZWtqA/K5f0/usAdvZ4EH1aOYtlD79pVtFKGIm+xI8M\n",
       "VQu8EjVmIm3McXND/YRuzsZcUy8kGxgqh8OCrbF2yEqu/9u9S1ERx0IL9lXV1rQnd9AKeQGnVOc+\n",
       "mYy+GTsysp+zKz0cPn9/4l6I6t9o9wFuz871bsWPmExtkluh60/s266GJgglPK2Sji119BcF5doP\n",
       "zeAPz407TZ15g6gAAAAASUVORK5CYII=\n",
       "\" style=\"display:inline;vertical-align:middle;\" /></a>"
      ],
      "text/plain": [
       "(a, b)"
      ]
     },
     "metadata": {},
     "output_type": "display_data"
    }
   ],
   "source": [
    "# the free variables appearing in the expression\n",
    "free_vars(abs_value_a_plus_b)"
   ]
  },
  {
   "cell_type": "markdown",
   "metadata": {},
   "source": [
    "<font size=3>And of course, we can reach into the expression and substitute for variables with other variables in the usual way:</font>"
   ]
  },
  {
   "cell_type": "code",
   "execution_count": 12,
   "metadata": {},
   "outputs": [
    {
     "data": {
      "text/html": [
       "<strong id=\"abs_value_c_plus_b\">abs_value_c_plus_b:</strong> <a class=\"ProveItLink\" href=\"../__pv_it/demonstrations/8bf7ce0714e5ca92f68d2068081636b7ba5cedac0/expr.ipynb\"><img src=\"data:image/png;base64,iVBORw0KGgoAAAANSUhEUgAAADMAAAAVBAMAAAAZessyAAAAMFBMVEX///8yMjJUVFTu7u4QEBBE\n",
       "RERmZmaqqqoiIiKYmJjMzMyIiIi6urp2dnbc3NwAAAApAkVmAAAAAXRSTlMAQObYZgAAAAlwSFlz\n",
       "AAAOxAAADsQBlSsOGwAAALRJREFUKM9jeMCAHfAxMNzBIcV7AJsUc0gDLikGxgQMKZ4JEJq/AEOK\n",
       "fQOEPm+AU+oGwhm3dy5AkRLarQ6VelHAFoAsxfzRwP4BRKqXgWUDshT7Z6AAWIrtM1iAraOjxaOj\n",
       "QwHIEmDgvwCWYglAcwbHBYbzBWAp+w1oUkBv5RuApfiBHj2AIrWA2RPiQqDzeFEczzSBNQHq+Lsz\n",
       "N6MYyKybiTM0sEQKLHhxxxcRUrtwSHEvAACHsUkYSHRg7AAAAABJRU5ErkJggg==\n",
       "\" style=\"display:inline;vertical-align:middle;\" /></a><br>"
      ],
      "text/plain": [
       "<IPython.core.display.HTML object>"
      ]
     },
     "metadata": {},
     "output_type": "display_data"
    }
   ],
   "source": [
    "abs_value_c_plus_b = abs_value_a_plus_b.basic_replaced({a:c})"
   ]
  },
  {
   "cell_type": "markdown",
   "metadata": {},
   "source": [
    "## Axioms <a id='axioms'></a>"
   ]
  },
  {
   "cell_type": "markdown",
   "metadata": {},
   "source": [
    "<font size=3>At this time, there is a single axiom for absolute value, defining $|x|=\\sqrt{x^2}$ for real-valued $x$:</font>"
   ]
  },
  {
   "cell_type": "code",
   "execution_count": 13,
   "metadata": {},
   "outputs": [
    {
     "data": {
      "text/html": [
       "<span style=\"font-size:20px;\"> <a class=\"ProveItLink\" href=\"axioms.ipynb#abs_val_def_sqrt\" style=\"text-decoration: none\">&nbsp;&#x22A2;&nbsp;&nbsp;</a><a class=\"ProveItLink\" href=\"../__pv_it/axioms/183fe76d857d11096c0fef8577619b02def67a260/expr.ipynb\"><img src=\"data:image/png;base64,iVBORw0KGgoAAAANSUhEUgAAALgAAAAmBAMAAACFcUzHAAAAMFBMVEX///+IiIgiIiIQEBB2dnbu\n",
       "7u5ERETMzMzc3NwyMjK6urpmZmaYmJiqqqpUVFQAAAB6qHgnAAAAAXRSTlMAQObYZgAAAAlwSFlz\n",
       "AAAOxAAADsQBlSsOGwAAA0RJREFUSMell09IFFEcx7+zO7s7u7PmehCzQJala7FEQRTFBgYpGJuF\n",
       "ER5aQdcORWJFtxryUBHUdjA6eNigS5C4ZNE/CyM6SAeHiCAILIKgDqKQKJrY+zu67Y5vGB88982b\n",
       "3/vMe9/f7/feE1CU1/BVQoMejMxv/uDoz6ptJnyyEVfPKrLbLxxnlRbRjBfOppXKgmNKXaayXuCX\n",
       "/XlrmycFeqt1Ggsqyee8sCO5qt3dKjHpMEs+WW5WfasvQ83TWdF+p4DXjpM/rfKp1cXqBqmaLZSG\n",
       "mcR91rxtg8n+1WXYFcsL/Depn+R0isY8NDonBEp4SX/vuQybhAe4USBqFGTuZAkcLPfNAgsjI+cC\n",
       "/+UFbhJFzHHnUU8CH2hDm0GURLJuu8APeIGfJDVYvqkEaXrUzCNOvhl1c+gfL/A2Ur+sitRDE5su\n",
       "JLIM7EyldrnB/wrm0aYTzbYLPERkwBNIo5u4TqSgYRIio58BPS5sY1nAS9p3EmEM/jhFyw7Opatn\n",
       "oTEEYWT0XnpK3Mr8OwvcgrF2F/jY8uaOk3oCHrfic5vGK2d+vkQjjra2QxgFV1ZmiNxpIWo4qxcl\n",
       "rClf1HQcllthbJHDIzSsKjWv+Uw4qKPNvZBGHERfYImYJBx/viJ5rGl4n/hv5sT9iWoOjVGfJAVc\n",
       "GPEXaQFH4S39/vOtFlOPwOtLFfARi+hboTlSRI2MkEUY8TUlheZoI/mkWT+jdgcLfd3okhlhiGjp\n",
       "KP6AXi0UJ4sIMF4XpBHP05yMtQHizzi6InjE4Ga3k6+hWQ6fujiK4Wrw2pzYVI5AGvGkzchYYzsm\n",
       "yNY+kc/nbU3Th53B+zi8s65mzK4GNxf4NoJ+SCNWAjREIouOf9MGLrCZa7EHztl2V5GhxlKM+yfQ\n",
       "V9Z/lQkvT5oBvWCSoGSa45B0KEZV6X8uyg+GeKmse0zuYHx9Ww7Ww6Bn4cPGTOcLx2FZBXxkWjRO\n",
       "ly2IeS1cfkIfz+eLZR2nbAU8IE/hjrW9Ycs5xtYpYbraBvnUsM69ykis6d3MV2Up7mRp+C8tqrvq\n",
       "4gbg+zf69XWKplx1sM83PGgrL8IF3/BGtcmQX7axR23TbvmEt9seJjDoE37Gi9E1n/9w0VT/B+K7\n",
       "2dZsOFETAAAAAElFTkSuQmCC\n",
       "\" style=\"display:inline;vertical-align:middle;\" /></a></span>"
      ],
      "text/plain": [
       "|- forall_{x in Real} (|x| = sqrt((x^{2})))"
      ]
     },
     "metadata": {},
     "output_type": "display_data"
    }
   ],
   "source": [
    "abs_val_def_sqrt"
   ]
  },
  {
   "cell_type": "markdown",
   "metadata": {},
   "source": [
    "<font size=3>When the `Conditional` class has been established, the axiomatic definition will use the standard piece-wise definition, and the “square root of the square” could then be a theorem instead. The definition for $|a+bi|$, the norm of complex number $z=a+bi$, is still under development.</font>"
   ]
  },
  {
   "cell_type": "markdown",
   "metadata": {},
   "source": [
    "## Theorems <a id='axioms'></a>"
   ]
  },
  {
   "cell_type": "markdown",
   "metadata": {},
   "source": [
    "<font size=3>Some typical absolute value-related theorems are illustrated below. The full complement of theorems appears in the `proveit.numbers/absolute_value/_theorems_.ipynb` notebook.</font>"
   ]
  },
  {
   "cell_type": "code",
   "execution_count": 14,
   "metadata": {},
   "outputs": [],
   "source": [
    "from proveit.numbers.absolute_value import (\n",
    "        abs_nonzero_closure, abs_is_non_neg, abs_non_neg_elim, triangle_inequality)"
   ]
  },
  {
   "cell_type": "code",
   "execution_count": 15,
   "metadata": {},
   "outputs": [
    {
     "data": {
      "text/html": [
       "<span style=\"font-size:20px;\"> <a class=\"ProveItLink\" href=\"proofs/abs_nonzero_closure/thm_proof.ipynb\" style=\"text-decoration: none\">&nbsp;&#x22A2;&nbsp;&nbsp;</a><a class=\"ProveItLink\" href=\"../__pv_it/theorems/e2f72d79765d2822d85519c954bcb277c2f5ed420/expr.ipynb\"><img src=\"data:image/png;base64,iVBORw0KGgoAAAANSUhEUgAAAKUAAAAZCAMAAABn/R7mAAAAPFBMVEX///9KSko9PT0oKChfX1+I\n",
       "iIgiIiIQEBB2dnbu7u5ERETMzMzc3NwyMjK6urpmZmaYmJiqqqpUVFQAAAA0nBfpAAAAAXRSTlMA\n",
       "QObYZgAAAAlwSFlzAAAOxAAADsQBlSsOGwAAAo5JREFUWMO1l+uaoyAMhtmd5ZBwCOD93+sS0NEi\n",
       "Wqc6/LCtfYSXL18SFOLZEcMj09Duy5MjPTQrLl8cPg8Jvk3d3XafU4ooH6fEWD9MF3ZzZoPoNeLk\n",
       "lZ4f7iiFgnLJa7TiXUinxc8pGckVipAjwoBSMiF9z+Ddbc+bTylN/bAVCMvQfGmqwVTYbX7Op1O4\n",
       "Q0lO+IGWwjOtn2U26S6kneASpURVhh9Q4oiS+Eec7ehvSymVuEAZvIShlhkgjyhldbvmnSltblNm\n",
       "/0LlspFO9pTOwzjiFtOaGVvKUENEtt6H+3UIt5RBlzWxrrClHORoodReTWqjMb0YydY9L5drlZtF\n",
       "dzLJ3XI+byhBs5NI9Vr6cfbECEeWcy0pWcazNJRIeY7dsk0O225WRRtKmuot01Ha5q8y8DXiCPGg\n",
       "XkOjTHK0RSszIouCuaiW0GyOE8CG1nCmpcZ1gQ0l4EElsnRkOlcjzoj7bknNrmUJqP9FIwwR/fui\n",
       "0gccB1LZE0qY+Kk47XJcHdVLsgcV205uLpVL4oGJ0vBNucgP0YbNkaEFtWnZGzPjljK1rE/ulVLK\n",
       "A8qishzGPMxl2OlZBVCuoa+BSS4tNEXLv3+ItawG2ZlE6k3EsdCk4lTq66VPA0pqhRtH2RGXabNd\n",
       "wsz+Zv7vXUWIq11gyY+S49EdbbrleJbGuixtTwkZA+zORMhlC/00aIDUlx8d5jNI9FhHEtaG1X90\n",
       "XlT1tT4eDL50yDfDxz7neUcRQNi1E83ZI+D968KHZ6I39XnqpdFsy8AhXquCM8SxNRfOzFb/AmXc\n",
       "9ZtAMUkT6znOrs2mhJ/spU6enqdU7rQRsi9/OP3c5WS3JWlvSPn8e49I5uEJf+Md8rH38a6q/Acb\n",
       "KB3+fUJU6QAAAABJRU5ErkJggg==\n",
       "\" style=\"display:inline;vertical-align:middle;\" /></a></span>"
      ],
      "text/plain": [
       "|- forall_{a in ComplexNonZero} (|a| in RealPos)"
      ]
     },
     "metadata": {},
     "output_type": "display_data"
    }
   ],
   "source": [
    "# abs value of a non-zero value is a positive real number\n",
    "abs_nonzero_closure"
   ]
  },
  {
   "cell_type": "code",
   "execution_count": 16,
   "metadata": {},
   "outputs": [
    {
     "data": {
      "text/html": [
       "<span style=\"font-size:20px;\"> <a class=\"ProveItLink\" href=\"proofs/abs_is_non_neg/thm_proof.ipynb\" style=\"text-decoration: none\">&nbsp;&#x22A2;&nbsp;&nbsp;</a><a class=\"ProveItLink\" href=\"../__pv_it/theorems/0c910be313edfb6680c9cba73afb7fb911772bd30/expr.ipynb\"><img src=\"data:image/png;base64,iVBORw0KGgoAAAANSUhEUgAAAH8AAAAVBAMAAACd/CwcAAAAMFBMVEX///+IiIgiIiIQEBB2dnbu\n",
       "7u5ERETMzMzc3NwyMjK6urpmZmaYmJiqqqpUVFQAAAB6qHgnAAAAAXRSTlMAQObYZgAAAAlwSFlz\n",
       "AAAOxAAADsQBlSsOGwAAAh5JREFUOMuFlMFr1EAUxr/sdpLsdlP2IChIS10KFrwUEfW4BRGxFaZY\n",
       "BEG0gsZDoeZQUDzYrN7LXiyCUtaTl0KXUhDtglt1D9KD0dMehG7/gwoeRBF8M0mGdDM2EwIv8/J+\n",
       "mfe99wIctmy6ouXr/D4y1jAGGpF5Wed/RXdPGN/18U71EMCF4z6MNvBOPDzXA66jD8BeKl8hYOPA\n",
       "M+CxSHVOD2j1AzB7IvZ9AC4CO0Ti9FagB0ykADDGeGgsALsceY4SpVH4jwT1NACliPAHWApQoOjT\n",
       "lcoZPWCwGgKWJ2sJEZ0XonhMANoYoBq8Ae7qAQJPgOJ53OeJKhRX6Qz2TwKUUaJDLsPuJcOM+b1a\n",
       "aOUCCbjaxkayjMWVGFCFQzKZXOVpjbgNtuA7d8LHfEMC3gNjyRRWZQoEWC/D2qeNstJwy6OIGeDT\n",
       "AcBZsN8JEU8pEXcDFOkEqG+LAm9fkn2FG48QD0CYAvuB0n66jC7whcMZJfMKtRMbt37hmnB0uypZ\n",
       "sywBfzFU76Ya6SPwls4jWvApaTjYtCawJhydjgKIGlEKt/Gt2Uy1ci5g58JKY8gT6Ro9fHZdN3jw\n",
       "Wr1jjUrAzSMP97zUMLHNEYrLxfrf8s0OX5SfJRFZtHsSGeOMJ7GR95fWuCn0sad8TEa7O5mAlmqO\n",
       "1tdp2PekTivzXqyi3z/OFbk89cfqG+NZ120cyHMu4wRm1j+tBiP+2lGd/xjwD6gohoP5jVe5AAAA\n",
       "AElFTkSuQmCC\n",
       "\" style=\"display:inline;vertical-align:middle;\" /></a></span>"
      ],
      "text/plain": [
       "|- forall_{a in Complex} (|a| >= 0)"
      ]
     },
     "metadata": {},
     "output_type": "display_data"
    }
   ],
   "source": [
    "# abs value of any number is non-negative\n",
    "abs_is_non_neg"
   ]
  },
  {
   "cell_type": "code",
   "execution_count": 17,
   "metadata": {},
   "outputs": [
    {
     "data": {
      "text/html": [
       "<span style=\"font-size:20px;\"> <a class=\"ProveItLink\" href=\"proofs/abs_non_neg_elim/thm_proof.ipynb\" style=\"text-decoration: none\">&nbsp;&#x22A2;&nbsp;&nbsp;</a><a class=\"ProveItLink\" href=\"../__pv_it/theorems/f603472b72645bb6ebf1f6bc88784c2b453e90cf0/expr.ipynb\"><img src=\"data:image/png;base64,iVBORw0KGgoAAAANSUhEUgAAAJcAAAAVBAMAAAC5yWGZAAAAMFBMVEX///+IiIgiIiIQEBB2dnbu\n",
       "7u5ERETMzMzc3NwyMjK6urpmZmaYmJiqqqpUVFQAAAB6qHgnAAAAAXRSTlMAQObYZgAAAAlwSFlz\n",
       "AAAOxAAADsQBlSsOGwAAAilJREFUOMuNlEFo1EAUhv+0STObZJfsoVQtLMteBEGJoiCeKihopRJB\n",
       "18NeuqBRPC1Sr5Lau8SD4MFDBC+CxbUuaLtF1oOgiBjFi1iwInqq4EXs0TezJNs6kdkJyfwkL1/+\n",
       "ee9NgCFHSEcm8wOGHlqC6VRP50bco3OdizUl7CNUMK0HrHBxR8UyIiUMt4HrNLFZFczuqWFvgIIP\n",
       "6IkKNgo1bNSHQ98sKFP2aQhYgUgHarWDSlinzzhTOX8skWBG+fvcDK2PavkUuKiE3e3D2tpXu9qH\n",
       "LdX42CcSioq7BDhUpJtg61LxOpRJzL/PGnGvgDmh87vUk5y9wjt/Ayh6wJivx1uefDj5/BbV91TI\n",
       "ax2ld48ImAk7yslZC8t8Mn8R0M3yb1aCWNNxYoq8TcaGh0PbYVQxN7cA+/nFImeIXqT3ui1qZA0v\n",
       "+RtsD6ti9/ZlAo9Cw5dyBmsT58hVleQMtS7KzyZDviE4bLxNJjs+OTucwpoCVo+/QZecGVdKHmgx\n",
       "Dm/9Bcq/Fv4oJHWxxXTW7MHa4JYHOTstYF+uPcGiBCv+aXgWtb1NQJRocQ6aJh4KmH1hFsZPLufX\n",
       "smpeFbBGubiayM4eu5/f0jwyqOMm8DoIgkTT9EW5z0Za6h1wI1OmxzAnnGnWfZ91u92VrYFOWw1b\n",
       "TcWCHtnUcSJnON6WIy8rYYNfj73r6DjYJVIPdk41luXQuhI29s9/+2wQxP/ZnMzFRKonciN2AH8B\n",
       "6nx6/HuEmxQAAAAASUVORK5CYII=\n",
       "\" style=\"display:inline;vertical-align:middle;\" /></a></span>"
      ],
      "text/plain": [
       "|- forall_{x in RealNonNeg} (|x| = x)"
      ]
     },
     "metadata": {},
     "output_type": "display_data"
    }
   ],
   "source": [
    "# we can eliminate the abs value wrapper around a non-negative real number\n",
    "abs_non_neg_elim"
   ]
  },
  {
   "cell_type": "code",
   "execution_count": 18,
   "metadata": {},
   "outputs": [
    {
     "data": {
      "text/html": [
       "<span style=\"font-size:20px;\"> <a class=\"ProveItLink\" href=\"proofs/triangle_inequality/thm_proof.ipynb\" style=\"text-decoration: none\">&nbsp;&#x22A2;&nbsp;&nbsp;</a><a class=\"ProveItLink\" href=\"../__pv_it/theorems/a55ee7f3e37c8c1ffc774ff2cdbc814bb081535a0/expr.ipynb\"><img src=\"data:image/png;base64,iVBORw0KGgoAAAANSUhEUgAAAPkAAAAWBAMAAADwcyf0AAAAMFBMVEX///+IiIgiIiIQEBB2dnbu\n",
       "7u5ERETMzMzc3NwyMjK6urpmZmaYmJiqqqpUVFQAAAB6qHgnAAAAAXRSTlMAQObYZgAAAAlwSFlz\n",
       "AAAOxAAADsQBlSsOGwAAAyJJREFUSMe9lk1oE0EUx1+y2U3SZJv11FwsMSoVqhBEEMRD9KL4xSqh\n",
       "IIqJqFEoyKKC4EG3ehTKXqweVCIevBQaQRA04BaMID24gocKHlLIxYNQDwW9OTNvZzeT/TBenPB4\n",
       "2Zn3n9/uzLyZARihmOQXUTJhVZmIxoznTIDoPsWScOBIVFuqFaja7FUON7rPxD0jjlqPPn+LpX+B\n",
       "ULp8oRRGV6sxdK5J2MDsDa1+FAeXrXA6ZNsCQMVeTkPct3PNA2B2m05EI46es4foYzb6gjMIyE/r\n",
       "zHeCdC4gz1yzAsyyRJNy4ugSDNFVDf2SPkBPbEM4VIJ0LiDPXCPpzPLkvbKx0/41in5wAFDbwhut\n",
       "WDrXZG203eXynlj6K6Rn+kVN7Ozpph8ccGanN09V1j2LDqFzTaqH9hrgUiz9MdKfm8qG0Jn8W6+b\n",
       "CDj3xF+KNqOw6CDd0+QttHnI9Lg0veDl+OzanPt3F6PL+yFXEjpTN0DSEDDu05NsWWF0kO5p1Aqa\n",
       "og8kRp++wmSzJV811Ytu3T5Gz61DskpHtlzeSiaLvHDOgkLV1d73Rl6iw9rCaNboC2g916TX0VRt\n",
       "YNHtJfbWIHEnAd4LdKkBdfFTSPdLTmDVIR2jg9/uacYqaGAtU/XyYfrZPyd1ugXB2Vv+Lo0jX9fg\n",
       "k7jmSeq+0wMZhyOP0UG6p1FLaHCc7DnyjvQv2sX2RHuGxq2u+uNxHukOfFdNgW6Q2Q3sNorG6Cw6\n",
       "hM41+QYa3KNz2E7TYVDsvLVI47pdn36C0RVNnc4JnY3bSlvYaR8yAk2lFkYH6Z6GJiY1GDfobCXo\n",
       "spCMXO9js9l0br7w6ddwza8dmp8QM67fCTll0uwYweiQjOOapGus1E2lSwauAJJzg8WRVSfzHDIi\n",
       "9rrwE3Yqdq/j7i6g4Uo17yzqNUjqH0gG0nPnqAkH+IS2I06ZcPpK7CnDXQfPI7e98/kYXHfSLzXI\n",
       "XGYZtDBr8MYr8LfbxakyLVOsRjFHuF3QU3X4ZMWjrtZsiqoZ+Je7jdwYgU5ekdngiOoRdzcNJiJv\n",
       "XUagas6rHG50n4krElcUG/Pwv8sf9YX2hbJjN7EAAAAASUVORK5CYII=\n",
       "\" style=\"display:inline;vertical-align:middle;\" /></a></span>"
      ],
      "text/plain": [
       "|- forall_{a, b in Complex} (|a + b| <= (|a| + |b|))"
      ]
     },
     "metadata": {},
     "output_type": "display_data"
    }
   ],
   "source": [
    "# abs value version of a triangle inequality thm\n",
    "triangle_inequality"
   ]
  },
  {
   "cell_type": "markdown",
   "metadata": {},
   "source": [
    "## Demonstrations <a id='further_demonstrations'></a>"
   ]
  },
  {
   "cell_type": "markdown",
   "metadata": {},
   "source": [
    "<a id='demo01'></a><font size=4><b>1. Simplifying $|x+1|$ and Deducing Number Sets</b></font><br><br>\n",
    "<font size=3>Consider the very simple absolute value expression $|x+1|$, where the operand is a sum of a variable and known constant:</font>"
   ]
  },
  {
   "cell_type": "code",
   "execution_count": 19,
   "metadata": {},
   "outputs": [
    {
     "data": {
      "text/html": [
       "<strong id=\"demo_expr_01\">demo_expr_01:</strong> <a class=\"ProveItLink\" href=\"../__pv_it/demonstrations/c6e8dd775e1497e55bf6950c38dca48c360d7b1c0/expr.ipynb\"><img src=\"data:image/png;base64,iVBORw0KGgoAAAANSUhEUgAAADcAAAAVBAMAAAAQkWtIAAAAMFBMVEX///9EREQQEBAyMjKYmJgi\n",
       "IiJmZmaqqqpUVFTu7u7MzMyIiIi6urp2dnbc3NwAAADEFDsHAAAAAXRSTlMAQObYZgAAAAlwSFlz\n",
       "AAAOxAAADsQBlSsOGwAAAI5JREFUKM9jeMCAC/AxMNzBKcl7AIckVyRuyRnJPzEleRygDG4skuwb\n",
       "SJOcvWPW3QJckgnc3WwBOCRZHrD85HDAIcnFwGYAEmALDQ1SDQ1tQHMQ0wY8rj3/gHMCDsmJB5oY\n",
       "eHHprF+ZxHAcTZL3H1Ry2m72lAJUSY6mzy24QwhblMEDHm98EiO5C6ck9wIAKnhMdr4Qg8gAAAAA\n",
       "SUVORK5CYII=\n",
       "\" style=\"display:inline;vertical-align:middle;\" /></a><br>"
      ],
      "text/plain": [
       "<IPython.core.display.HTML object>"
      ]
     },
     "metadata": {},
     "output_type": "display_data"
    }
   ],
   "source": [
    "demo_expr_01 = Abs(Add(x, one))"
   ]
  },
  {
   "cell_type": "markdown",
   "metadata": {},
   "source": [
    "<font size=3>The general expression simplification() method can eliminate the absolute value wrapper under the right conditions &mdash; for example, when we know that $x$ is a positive real number:</font>"
   ]
  },
  {
   "cell_type": "code",
   "execution_count": 20,
   "metadata": {},
   "outputs": [
    {
     "data": {
      "text/html": [
       "<a class=\"ProveItLink\" href=\"../__pv_it/demonstrations/c6e8dd775e1497e55bf6950c38dca48c360d7b1c0/expr.ipynb\"><img src=\"data:image/png;base64,iVBORw0KGgoAAAANSUhEUgAAADcAAAAVBAMAAAAQkWtIAAAAMFBMVEX///9EREQQEBAyMjKYmJgi\n",
       "IiJmZmaqqqpUVFTu7u7MzMyIiIi6urp2dnbc3NwAAADEFDsHAAAAAXRSTlMAQObYZgAAAAlwSFlz\n",
       "AAAOxAAADsQBlSsOGwAAAI5JREFUKM9jeMCAC/AxMNzBKcl7AIckVyRuyRnJPzEleRygDG4skuwb\n",
       "SJOcvWPW3QJckgnc3WwBOCRZHrD85HDAIcnFwGYAEmALDQ1SDQ1tQHMQ0wY8rj3/gHMCDsmJB5oY\n",
       "eHHprF+ZxHAcTZL3H1Ry2m72lAJUSY6mzy24QwhblMEDHm98EiO5C6ck9wIAKnhMdr4Qg8gAAAAA\n",
       "SUVORK5CYII=\n",
       "\" style=\"display:inline;vertical-align:middle;\" /></a>"
      ],
      "text/plain": [
       "|x + 1|"
      ]
     },
     "metadata": {},
     "output_type": "display_data"
    }
   ],
   "source": [
    "demo_expr_01"
   ]
  },
  {
   "cell_type": "code",
   "execution_count": 21,
   "metadata": {},
   "outputs": [
    {
     "data": {
      "text/html": [
       "<span style=\"font-size:20px;\"><a class=\"ProveItLink\" href=\"../../number_sets/real_numbers/__pv_it/theorems/7697fc34c81296f04a039eeb9dd22e91165d63b70/expr.ipynb\"><img src=\"data:image/png;base64,iVBORw0KGgoAAAANSUhEUgAAAEAAAAATBAMAAADSXRa0AAAAMFBMVEX///9ERES6uroQEBAyMjLc\n",
       "3NyYmJgiIiJmZmaqqqp2dnbMzMxUVFSIiIju7u4AAAAd7oVFAAAAAXRSTlMAQObYZgAAAAlwSFlz\n",
       "AAAOxAAADsQBlSsOGwAAANxJREFUKM9jYMAHGhgIAAHyFLA5C34pFsNnAiPrAaZjcngVLGAQ2MPA\n",
       "IShoKCiGS0ErCxYTLpaXO8AVMGIqULmHZMK5N3AFb++8XjUBSLP6IVnBLekKV9DAe5ajAEizBCAU\n",
       "mNTXPoCFJFsA2z+eBJACJEcuy3OA87gZOCCczeVAIAC1Qi4NyXHMF8DUQ2Rv7mB8gFCgH8AH4rEj\n",
       "K+DYCvfhQ4XDDFwgBu8FJAV8AtdgvPn7mhk0wSxPhIIGhjRGBSjvxV3Otglg1huhB7DY/BjAKPIT\n",
       "Mw60xMsdMAQB8jw2YYZ9lmsAAAAASUVORK5CYII=\n",
       "\" style=\"display:inline;vertical-align:middle;\" /></a> <a class=\"ProveItLink\" href=\"../__pv_it/demonstrations/46ca06f38b8644d8cfd8846b8e3076699284e3150/proof.ipynb\" style=\"text-decoration: none\">&nbsp;&#x22A2;&nbsp;&nbsp;</a><a class=\"ProveItLink\" href=\"../__pv_it/demonstrations/aa50ecf4a8fa4c2e07ab7862950fdbcb4646d8bd0/expr.ipynb\"><img src=\"data:image/png;base64,iVBORw0KGgoAAAANSUhEUgAAAJMAAAAVBAMAAACwIsHjAAAAMFBMVEX///9EREQQEBAyMjKYmJgi\n",
       "IiJmZmaqqqpUVFTu7u7MzMyIiIi6urp2dnbc3NwAAADEFDsHAAAAAXRSTlMAQObYZgAAAAlwSFlz\n",
       "AAAOxAAADsQBlSsOGwAAAX9JREFUOMtjeMCAC/ARJQQFIGPu4JTlPYAhtB2n4tM4jeKKxGYU+wWc\n",
       "irkdcBg1I/knNqMmM+BUzGCJbtQRKM2N1agUFB6PA5JiBjd0o6rxGqWA6t0NyEYxTSDFKHYDPEYx\n",
       "O4CMmr1j1t0CIoxiA4Y65+7OtdexGcXbADIqgbubLQCXUamhIBDBALGYgY1hx4ZUbEaxGACNYnnA\n",
       "8pPDgQhXsQKd7sfgP6EFm1HsCkCjuBjYIIEAdIAS1AFYjWICCixgSIZ4NjQ0SDU0tAFuFNcHcLAz\n",
       "bSAq2JnAAtrYg51HAWzU+QecE4gIK5AHGXj+MczE6sEAoFETDzQx8BLjKsYNDJwyHAoMF7AGuwDQ\n",
       "qPqVSQzH0Yzi/YfFKGB8s/+apsBTgGYUSDEopdxhmLabPaUA1SiOps8tmEZxBTBwZm8oc0cLK7Bi\n",
       "BtYDOFI79kImCntqB4OnuLIzdqPcsGdnWFYnpehjxFPkCpBmFKcATsUgW3bhlOVegCH0GqfifQwM\n",
       "AJmrjRquruusAAAAAElFTkSuQmCC\n",
       "\" style=\"display:inline;vertical-align:middle;\" /></a></span>"
      ],
      "text/plain": [
       "{x in RealPos} |- |x + 1| = (x + 1)"
      ]
     },
     "metadata": {},
     "output_type": "display_data"
    }
   ],
   "source": [
    "demo_expr_01.simplification(assumptions=[InSet(x, RealPos)])"
   ]
  },
  {
   "cell_type": "markdown",
   "metadata": {},
   "source": [
    "<font size=3>We can deduce that the absolute value expression is in a specific number set (given the right assumptions):</font>"
   ]
  },
  {
   "cell_type": "code",
   "execution_count": 22,
   "metadata": {},
   "outputs": [
    {
     "data": {
      "text/html": [
       "<span style=\"font-size:20px;\"><a class=\"ProveItLink\" href=\"../../ordering/__pv_it/theorems/d1323f34847310a404e8089c2c268d3c2eb89dbf0/expr.ipynb\"><img src=\"data:image/png;base64,iVBORw0KGgoAAAANSUhEUgAAADQAAAAQBAMAAACra0H4AAAAMFBMVEX///9ERES6uroQEBAyMjLc\n",
       "3NyYmJgiIiJmZmaqqqp2dnbMzMxUVFSIiIju7u4AAAAd7oVFAAAAAXRSTlMAQObYZgAAAAlwSFlz\n",
       "AAAOxAAADsQBlSsOGwAAAMtJREFUGNNjYMAAbM6CX4rFGLACRtYDTMfkcEgtYBDYg1OqlQVF6GJ5\n",
       "uQNcihFZRuUekq5zb4CMt3der5oApFn9kAzklnQFMhp4z3IUAGmWAISUSX3tA6AvAtj+8SSApJCc\n",
       "sSwPZCk3AwfYbobN5UAgADVQLg0sxnwBTD1EdvwOxgcgln4AH4hmR5bi2ArU/1DhMAMXSID3ApIU\n",
       "n8A1Bob5+5oZNMEingipBoY0RgWGF3c52yaARd4IPYCF/McARpGfyMGhJQ4JKCgAAF8xNF8aQs/g\n",
       "AAAAAElFTkSuQmCC\n",
       "\" style=\"display:inline;vertical-align:middle;\" /></a> <a class=\"ProveItLink\" href=\"../__pv_it/demonstrations/4cf626afb62ccbef89d13cc30724d431c3ef5b270/proof.ipynb\" style=\"text-decoration: none\">&nbsp;&#x22A2;&nbsp;&nbsp;</a><a class=\"ProveItLink\" href=\"../__pv_it/demonstrations/f2cc84fd87debf892fbd251fcc1d3f24fd48dc5f0/expr.ipynb\"><img src=\"data:image/png;base64,iVBORw0KGgoAAAANSUhEUgAAAHYAAAAYBAMAAADddxQIAAAAMFBMVEX///9EREQQEBAyMjKYmJgi\n",
       "IiJmZmaqqqpUVFTu7u7MzMyIiIi6urp2dnbc3NwAAADEFDsHAAAAAXRSTlMAQObYZgAAAAlwSFlz\n",
       "AAAOxAAADsQBlSsOGwAAAYxJREFUOMtjYCAVLDwApu7uZSAdcF4sAJIsG3gEyNDMsNGBgYFpAcM/\n",
       "hgc4lfDhlHHcwPB+AoM6wx2cKngPoHCdFeVNFR0gbKcH6ycwhODQyxWJoZdB4AXDCccJINZcGQag\n",
       "Xm3semck/8Si9y0DI1cDkPGsiwHk5u+oenmgbmLgxq6X7YEBA8MLoFZIWKHoZd+ARe/G0FADuF4B\n",
       "hhl5YAUbeBoI6z28E2Evx8wGhpkQ3t1tE0B6Z++YdbcAl14+SyQ3LyxGiVKg3gTubrYAXHqZ4aoF\n",
       "Hpl+3cmAqpflActPDgecepHCymUyKD0LAsEDqF4uBjZwWLCFhgaphoY2oOpdFAoEAhC9jFMc0OwF\n",
       "BvgG3GE1EclergRJDL3nH3BOwKWXFTl+sx6i6Z14oImBF6e93BuQ9E7kdkDVW78yieE4ml7ef/D4\n",
       "NYfrfcbA4iCDqnfabvaUAlS9HE2fW2B6Z8hMgOUjOQZB+wI0/2KmK+Q8eFYUkiYxAfa8gCX/EtKL\n",
       "L+9TWe8unDLcCwhoBQD61ZDYLfSOQQAAAABJRU5ErkJggg==\n",
       "\" style=\"display:inline;vertical-align:middle;\" /></a></span>"
      ],
      "text/plain": [
       "{x in Real} |- |x + 1| in RealNonNeg"
      ]
     },
     "metadata": {},
     "output_type": "display_data"
    }
   ],
   "source": [
    "demo_expr_01.deduce_in_number_set(RealNonNeg, assumptions=[InSet(x, Real)])"
   ]
  },
  {
   "cell_type": "markdown",
   "metadata": {},
   "source": [
    "<font size=3>Now when $x \\in \\mathbb{R}^{+}$, we should have $|x+1|>1$ and thus $|x+1| \\in \\mathbb{R}^{+}$. Interestingly, this requires a little more work before Prove-It agrees:</font>"
   ]
  },
  {
   "cell_type": "code",
   "execution_count": 23,
   "metadata": {},
   "outputs": [],
   "source": [
    "from proveit import InstantiationFailure\n",
    "try:\n",
    "    demo_expr_01.deduce_in_number_set(RealPos, assumptions=[InSet(x, RealPos)])\n",
    "except InstantiationFailure as _e:\n",
    "    print(\"SpecializationFailure: \" + str(_e))\n",
    "    "
   ]
  },
  {
   "cell_type": "markdown",
   "metadata": {},
   "source": [
    "<font size=3>We could include the information the system seems to want, <i>i.e.</i>, that $x+1 \\ne 0$, and Prove-It is happy:</font>"
   ]
  },
  {
   "cell_type": "code",
   "execution_count": 24,
   "metadata": {},
   "outputs": [
    {
     "data": {
      "text/html": [
       "<span style=\"font-size:20px;\"><a class=\"ProveItLink\" href=\"../../number_sets/real_numbers/__pv_it/theorems/7697fc34c81296f04a039eeb9dd22e91165d63b70/expr.ipynb\"><img src=\"data:image/png;base64,iVBORw0KGgoAAAANSUhEUgAAAEAAAAATBAMAAADSXRa0AAAAMFBMVEX///9ERES6uroQEBAyMjLc\n",
       "3NyYmJgiIiJmZmaqqqp2dnbMzMxUVFSIiIju7u4AAAAd7oVFAAAAAXRSTlMAQObYZgAAAAlwSFlz\n",
       "AAAOxAAADsQBlSsOGwAAANxJREFUKM9jYMAHGhgIAAHyFLA5C34pFsNnAiPrAaZjcngVLGAQ2MPA\n",
       "IShoKCiGS0ErCxYTLpaXO8AVMGIqULmHZMK5N3AFb++8XjUBSLP6IVnBLekKV9DAe5ajAEizBCAU\n",
       "mNTXPoCFJFsA2z+eBJACJEcuy3OA87gZOCCczeVAIAC1Qi4NyXHMF8DUQ2Rv7mB8gFCgH8AH4rEj\n",
       "K+DYCvfhQ4XDDFwgBu8FJAV8AtdgvPn7mhk0wSxPhIIGhjRGBSjvxV3Otglg1huhB7DY/BjAKPIT\n",
       "Mw60xMsdMAQB8jw2YYZ9lmsAAAAASUVORK5CYII=\n",
       "\" style=\"display:inline;vertical-align:middle;\" /></a> <a class=\"ProveItLink\" href=\"../__pv_it/demonstrations/a66cbf007569a545c3e8394e613366a90f0bc0ea0/proof.ipynb\" style=\"text-decoration: none\">&nbsp;&#x22A2;&nbsp;&nbsp;</a><a class=\"ProveItLink\" href=\"../__pv_it/demonstrations/50687973e2ff86b197fc4aadf3a68fcf67f156ab0/expr.ipynb\"><img src=\"data:image/png;base64,iVBORw0KGgoAAAANSUhEUgAAAG4AAAAXBAMAAAAYWGfBAAAAMFBMVEX///9EREQQEBAyMjKYmJgi\n",
       "IiJmZmaqqqpUVFTu7u7MzMyIiIi6urp2dnbc3NwAAADEFDsHAAAAAXRSTlMAQObYZgAAAAlwSFlz\n",
       "AAAOxAAADsQBlSsOGwAAAT1JREFUOMtjYCADJDCQBwSA+AFOWT68+u7glOU9gMJlMRL8HCRCQB9X\n",
       "JIY+Bka+Bp4WSbz6ZiT/xKbvAoPACgY2QUFFQRFUfTwOUAY3Dn15zFjtY9+ARd/G0FADuD5GovUd\n",
       "3olkX+cMJH2zd8y6W4BLH58lkju5xO2Q9CVwd7MF4NLH/AChTzk+egIsvdxhYHnA8pPDAac+pHC5\n",
       "4mkA591h4GJgA3PZQkODVENDG1D1LQoFAgGoOyVdkPQxMDBtwB0uE5HjYRnjBGR95x9wTsCljxVZ\n",
       "H9s6AYS+iQeaGHhx2se9AUkfp8AWhL76lUkMx9H08f6Dx585Ql8CgwvjAbi+abvZUwpQ9XE0fW6B\n",
       "6ZshMwGWHz4+YBT+juQ/zPSCnI/OioYaYCZ97OkaS/7Dpw9fvqWSvl04ZbgX4NEGADjDcOzoycKG\n",
       "AAAAAElFTkSuQmCC\n",
       "\" style=\"display:inline;vertical-align:middle;\" /></a></span>"
      ],
      "text/plain": [
       "{x in RealPos} |- |x + 1| in RealPos"
      ]
     },
     "metadata": {},
     "output_type": "display_data"
    }
   ],
   "source": [
    "demo_expr_01.deduce_in_number_set(\n",
    "    RealPos,\n",
    "    assumptions=[InSet(x, RealPos), NotEquals(Add(x, one), zero)])"
   ]
  },
  {
   "cell_type": "markdown",
   "metadata": {},
   "source": [
    "<font size=3>But that seems a little clunky, with that additional (and redundant) assumption appearing in the result. Instead we can nudge Prove-It by first having it prove that the operand $x+1$ is itself a positive real value, and then it has no problem proving that the absolute value expression $|x+1|$ itself is also a positive real value:</font>"
   ]
  },
  {
   "cell_type": "code",
   "execution_count": 25,
   "metadata": {},
   "outputs": [
    {
     "data": {
      "text/html": [
       "<span style=\"font-size:20px;\"><a class=\"ProveItLink\" href=\"../../number_sets/real_numbers/__pv_it/theorems/7697fc34c81296f04a039eeb9dd22e91165d63b70/expr.ipynb\"><img src=\"data:image/png;base64,iVBORw0KGgoAAAANSUhEUgAAAEAAAAATBAMAAADSXRa0AAAAMFBMVEX///9ERES6uroQEBAyMjLc\n",
       "3NyYmJgiIiJmZmaqqqp2dnbMzMxUVFSIiIju7u4AAAAd7oVFAAAAAXRSTlMAQObYZgAAAAlwSFlz\n",
       "AAAOxAAADsQBlSsOGwAAANxJREFUKM9jYMAHGhgIAAHyFLA5C34pFsNnAiPrAaZjcngVLGAQ2MPA\n",
       "IShoKCiGS0ErCxYTLpaXO8AVMGIqULmHZMK5N3AFb++8XjUBSLP6IVnBLekKV9DAe5ajAEizBCAU\n",
       "mNTXPoCFJFsA2z+eBJACJEcuy3OA87gZOCCczeVAIAC1Qi4NyXHMF8DUQ2Rv7mB8gFCgH8AH4rEj\n",
       "K+DYCvfhQ4XDDFwgBu8FJAV8AtdgvPn7mhk0wSxPhIIGhjRGBSjvxV3Otglg1huhB7DY/BjAKPIT\n",
       "Mw60xMsdMAQB8jw2YYZ9lmsAAAAASUVORK5CYII=\n",
       "\" style=\"display:inline;vertical-align:middle;\" /></a> <a class=\"ProveItLink\" href=\"../__pv_it/demonstrations/a0385d850ab9f8ebbfd95cb1ae6c6d5b66301df70/proof.ipynb\" style=\"text-decoration: none\">&nbsp;&#x22A2;&nbsp;&nbsp;</a><a class=\"ProveItLink\" href=\"../__pv_it/demonstrations/d1567a1f5f8a4a0bd74c3857effa9d14e998655e0/expr.ipynb\"><img src=\"data:image/png;base64,iVBORw0KGgoAAAANSUhEUgAAAHIAAAAXBAMAAAAlyganAAAAMFBMVEX////MzMxUVFRERES6uroi\n",
       "IiIQEBCYmJhmZmYyMjLu7u52dnaqqqqIiIjc3NwAAACW8nlqAAAAAXRSTlMAQObYZgAAAAlwSFlz\n",
       "AAAOxAAADsQBlSsOGwAAAZFJREFUOMtjYCALNDCQCwzA5ANc0g8I6OQ9gEvaF43PPs34Z5g5Qudp\n",
       "rLoYo4BmFqAJMvMpsKhbwXRyTcCmcVHnLyA5C0PnBgYDIQYOY+NkY3MGDhSDWWA8XpDOCiw6+zhh\n",
       "drKhyPFcQNbJtgDCuRwaOgGukxmm8yQenZwQF3jeQrJTaxFMZzcQr720cPcBLDq5FUBMvllIrmW0\n",
       "mQfTOR2UInh1OQKw6GQHu5HzAUJnZnzsAlgaigEqeMD+i6kAi06eBLBOpBDaXoWIihRg3DFwgPkc\n",
       "oaFhqaGhCnCdjB9ATLFQIDCAutaqHFknMBAvYA0hFrCdi5FjRYJ5AYwXAyL8H3AtwOZasOdZkXVy\n",
       "yBnAeLZAQx3UGLix2ckOSdgXkHRyGVyH8TYxMJyXamPwQdPJ/Q/k8Q1g9hyEzgaGcmYHKE+UgWHF\n",
       "XZ72A6g6mdR+qgPdCVG0yGQBLK98fsBs+Qeqk1UAaxoCg6dQ2ts0FEu+YG/AmuLBoB1/wWCHU4bP\n",
       "AL/OxThlmB/g18l3AZfMPbz6AK9VaNbIpxyAAAAAAElFTkSuQmCC\n",
       "\" style=\"display:inline;vertical-align:middle;\" /></a></span>"
      ],
      "text/plain": [
       "{x in RealPos} |- (x + 1) in RealPos"
      ]
     },
     "metadata": {},
     "output_type": "display_data"
    }
   ],
   "source": [
    "InSet(Add(x, one), RealPos).prove(assumptions=[InSet(x, RealPos)])"
   ]
  },
  {
   "cell_type": "code",
   "execution_count": 26,
   "metadata": {},
   "outputs": [
    {
     "data": {
      "text/html": [
       "<span style=\"font-size:20px;\"><a class=\"ProveItLink\" href=\"../../number_sets/real_numbers/__pv_it/theorems/7697fc34c81296f04a039eeb9dd22e91165d63b70/expr.ipynb\"><img src=\"data:image/png;base64,iVBORw0KGgoAAAANSUhEUgAAAEAAAAATBAMAAADSXRa0AAAAMFBMVEX///9ERES6uroQEBAyMjLc\n",
       "3NyYmJgiIiJmZmaqqqp2dnbMzMxUVFSIiIju7u4AAAAd7oVFAAAAAXRSTlMAQObYZgAAAAlwSFlz\n",
       "AAAOxAAADsQBlSsOGwAAANxJREFUKM9jYMAHGhgIAAHyFLA5C34pFsNnAiPrAaZjcngVLGAQ2MPA\n",
       "IShoKCiGS0ErCxYTLpaXO8AVMGIqULmHZMK5N3AFb++8XjUBSLP6IVnBLekKV9DAe5ajAEizBCAU\n",
       "mNTXPoCFJFsA2z+eBJACJEcuy3OA87gZOCCczeVAIAC1Qi4NyXHMF8DUQ2Rv7mB8gFCgH8AH4rEj\n",
       "K+DYCvfhQ4XDDFwgBu8FJAV8AtdgvPn7mhk0wSxPhIIGhjRGBSjvxV3Otglg1huhB7DY/BjAKPIT\n",
       "Mw60xMsdMAQB8jw2YYZ9lmsAAAAASUVORK5CYII=\n",
       "\" style=\"display:inline;vertical-align:middle;\" /></a> <a class=\"ProveItLink\" href=\"../__pv_it/demonstrations/a66cbf007569a545c3e8394e613366a90f0bc0ea0/proof.ipynb\" style=\"text-decoration: none\">&nbsp;&#x22A2;&nbsp;&nbsp;</a><a class=\"ProveItLink\" href=\"../__pv_it/demonstrations/50687973e2ff86b197fc4aadf3a68fcf67f156ab0/expr.ipynb\"><img src=\"data:image/png;base64,iVBORw0KGgoAAAANSUhEUgAAAG4AAAAXBAMAAAAYWGfBAAAAMFBMVEX///9EREQQEBAyMjKYmJgi\n",
       "IiJmZmaqqqpUVFTu7u7MzMyIiIi6urp2dnbc3NwAAADEFDsHAAAAAXRSTlMAQObYZgAAAAlwSFlz\n",
       "AAAOxAAADsQBlSsOGwAAAT1JREFUOMtjYCADJDCQBwSA+AFOWT68+u7glOU9gMJlMRL8HCRCQB9X\n",
       "JIY+Bka+Bp4WSbz6ZiT/xKbvAoPACgY2QUFFQRFUfTwOUAY3Dn15zFjtY9+ARd/G0FADuD5GovUd\n",
       "3olkX+cMJH2zd8y6W4BLH58lkju5xO2Q9CVwd7MF4NLH/AChTzk+egIsvdxhYHnA8pPDAac+pHC5\n",
       "4mkA591h4GJgA3PZQkODVENDG1D1LQoFAgGoOyVdkPQxMDBtwB0uE5HjYRnjBGR95x9wTsCljxVZ\n",
       "H9s6AYS+iQeaGHhx2se9AUkfp8AWhL76lUkMx9H08f6Dx585Ql8CgwvjAbi+abvZUwpQ9XE0fW6B\n",
       "6ZshMwGWHz4+YBT+juQ/zPSCnI/OioYaYCZ97OkaS/7Dpw9fvqWSvl04ZbgX4NEGADjDcOzoycKG\n",
       "AAAAAElFTkSuQmCC\n",
       "\" style=\"display:inline;vertical-align:middle;\" /></a></span>"
      ],
      "text/plain": [
       "{x in RealPos} |- |x + 1| in RealPos"
      ]
     },
     "metadata": {},
     "output_type": "display_data"
    }
   ],
   "source": [
    "InSet(demo_expr_01, RealPos).prove(assumptions=[InSet(x, RealPos)])"
   ]
  },
  {
   "cell_type": "markdown",
   "metadata": {},
   "source": [
    "<a id='demo02'></a><font size=4><b>2. Simplifying $|a+b+2+3|$ and Deducing Numbers Sets</b></font><br><br>\n",
    "<font size=3>Now consider a simple absolute value expression, where the operand is a sum of variables and known constants: $|a+b+2+3|$</font>"
   ]
  },
  {
   "cell_type": "code",
   "execution_count": 27,
   "metadata": {},
   "outputs": [
    {
     "data": {
      "text/html": [
       "<strong id=\"demo_expr_02\">demo_expr_02:</strong> <a class=\"ProveItLink\" href=\"../__pv_it/demonstrations/fa51483b5697a875cef84f31600e4cd45d515e240/expr.ipynb\"><img src=\"data:image/png;base64,iVBORw0KGgoAAAANSUhEUgAAAHwAAAAVBAMAAAB2y5cfAAAAMFBMVEX///8yMjKqqqoiIiJmZmaY\n",
       "mJju7u5EREQQEBBUVFTMzMyIiIi6urp2dnbc3NwAAABRd72LAAAAAXRSTlMAQObYZgAAAAlwSFlz\n",
       "AAAOxAAADsQBlSsOGwAAAV9JREFUOMtjeMBAAXjAcIcS7XewamerMEATeeJYhSby9koNLu0MjA6o\n",
       "fL4ChvsHUG1wYNBXQNd+FErzK6AKcD5g4GhAEeH+xJAvgK5dG0qfT0AV4PjGwPkPRYSnh4Efp/bL\n",
       "aAKcBgycv1CVMDDoB0C0v7z9Gk275O5J6IqZP6CJ8JhCgo6nj6E+AUWO7WNC/gM07es3oGrn2jkL\n",
       "oj0jgMEZ1XambwwcG9C0WzJgOB4S8v4MDLYgrrOxcYexMUgZiwAD/wVkAaBQAaoSSHiCtLczsP1B\n",
       "NZr5AsN5BVS7ItECk2sBA/snkHa23wysH1DlgNHun4CinekCwztUJd9g2j8xcAroocotYGtF9ela\n",
       "BoZtqClhAszx1QzKDg6o0RzAjirAZ+LiYoAiwhoAi/fMvetmL0CNuLmuaIHx//9/AVT3HHHBzDLa\n",
       "6HkHQwBVBEeWwS2AKnKHFsUFCdp3UaJ9FwDgTHQyhoyLugAAAABJRU5ErkJggg==\n",
       "\" style=\"display:inline;vertical-align:middle;\" /></a><br>"
      ],
      "text/plain": [
       "<IPython.core.display.HTML object>"
      ]
     },
     "metadata": {},
     "output_type": "display_data"
    }
   ],
   "source": [
    "demo_expr_02 = Abs(Add(a, b, two, three))"
   ]
  },
  {
   "cell_type": "markdown",
   "metadata": {},
   "source": [
    "<font size=3>We can obtain simplification equivalences, depending on our assumptions about the nature of the variables $a$ and $b$. If $a$ and $b$ are complex numbers or real numbers, for example, Prove-It simplifies the $2+3$ portion to $5$ and keeps the absolute value:</font>"
   ]
  },
  {
   "cell_type": "code",
   "execution_count": 28,
   "metadata": {},
   "outputs": [
    {
     "data": {
      "text/html": [
       "<span style=\"font-size:20px;\"><a class=\"ProveItLink\" href=\"../__pv_it/theorems/e9f87a0977d5044ea8daf1040d2f219396bb3d5b0/expr.ipynb\"><img src=\"data:image/png;base64,iVBORw0KGgoAAAANSUhEUgAAADMAAAAQBAMAAABJt1qBAAAAMFBMVEX////MzMwyMjKqqqoiIiJm\n",
       "ZmaYmJju7u5EREQQEBC6urqIiIh2dnZUVFTc3NwAAAAqL9KcAAAAAXRSTlMAQObYZgAAAAlwSFlz\n",
       "AAAOxAAADsQBlSsOGwAAANFJREFUGNNjYMACalqU9slgk2DgvpnAHt+KVSp6DQMDG1YpxoB2IHkV\n",
       "RWyHi4sCkOItaACSZcgyi7ZDaA6+AKgI3519G8C0OlTgLeMBKGvlA47vIJrpAVRAhisBwmCfxsDq\n",
       "AJaCGfyUawOEwfqBgQVsgKQLEDSA7YIayNnAUL8AxKiA6eIAuxAI6jcw5IMZLDApLrC/uIBSBgyX\n",
       "mEEu4N4AD421QCIIqH0DsysrWEQZHoZNcewmQL+x3z74diNYpLarABbynV/iUANvTQs4oGAAAKqD\n",
       "MEJAsWyMAAAAAElFTkSuQmCC\n",
       "\" style=\"display:inline;vertical-align:middle;\" /></a>, <a class=\"ProveItLink\" href=\"../__pv_it/theorems/a259ec76dfb0a5be60b7c83d797520fa82c1dba60/expr.ipynb\"><img src=\"data:image/png;base64,iVBORw0KGgoAAAANSUhEUgAAADEAAAAQBAMAAABNQoq8AAAAMFBMVEX///+YmJjMzMzc3NyIiIhU\n",
       "VFR2dna6urqqqqpmZmYyMjIiIiIQEBBERETu7u4AAAD7tRWPAAAAAXRSTlMAQObYZgAAAAlwSFlz\n",
       "AAAOxAAADsQBlSsOGwAAANtJREFUGNNjYMAEz26vclZjYOC7swFNgiVGgG/+TSCDawKazJQyBgZG\n",
       "kAx/A6oE04R7QDISiOsfQIV8d+9eAKRYH1wAkg+BOBsqUeUHoXmZYcYvdYkAUczroHxTpgQIg+/X\n",
       "g/cGIIcYQGXU2AUgDI5/DDwOIBmYCyzZHSAMzgUM/CDtOruB4ALYHqhp3AkM9SB3v4Xp4QW7DeKd\n",
       "+SB3c8Nk2MH+YQfKKPAdBIeJAzwMSoHELKDHBHgh7l8BD7dbk/m6gWJ8YRMhAk+vwwLj2Z3fk1EC\n",
       "rOw2OHRgAAASXDjITT81JQAAAABJRU5ErkJggg==\n",
       "\" style=\"display:inline;vertical-align:middle;\" /></a> <a class=\"ProveItLink\" href=\"../__pv_it/demonstrations/6afde56bd5f2a12bae077c35e0e4d0e499b0e6ef0/proof.ipynb\" style=\"text-decoration: none\">&nbsp;&#x22A2;&nbsp;&nbsp;</a><a class=\"ProveItLink\" href=\"../__pv_it/demonstrations/a22e5b3cb91d1b2d6e3d9454c4032e2c0203352f0/expr.ipynb\"><img src=\"data:image/png;base64,iVBORw0KGgoAAAANSUhEUgAAAPUAAAAVBAMAAABs27XUAAAAMFBMVEX///8yMjKqqqoiIiJmZmaY\n",
       "mJju7u5EREQQEBBUVFTMzMyIiIi6urp2dnbc3NwAAABRd72LAAAAAXRSTlMAQObYZgAAAAlwSFlz\n",
       "AAAOxAAADsQBlSsOGwAAAehJREFUSMfNlr8vA2EYx7/a01artxDW+weE5EQYRMQlHd1iMrhBgkUJ\n",
       "u0H8igHBIEJvZumqA00sHQ0WQnIJidi0iQ5+1VUv4nl6L6904Ka7z73v9/Peve8978FBDYfKgfOr\n",
       "vle1uONZBuTSosBkua9v67F5Pkij1WbkOpGVdFelRfJNXUI3mtn1HeIvlIwiUJB9bp4WXOu1qtyN\n",
       "pndSYGAfWKbkRAvlf3AL0xq8+SKtA2mvUZGBNQsph5BcFj+5hWnfuuMdDGwCKZsQ9+xR0l2V9sWt\n",
       "7h2n6c263SONmdAHRk5NX7dEWsPwhe25c064SFsnW0JvzBR9Zu7DHdtzD+jlo8dzS6SFLfWl4g4t\n",
       "QOmgrdstrDJ3cJ0/t/86l0vDTMWtPCB45l4qut49r+tlRz/wSgCQABhxF6CPWy4Ng86HOzKFZJaO\n",
       "tBeNBTrS+nW2Xg6AOc3HLZM27brtD3cyjREWXIBSpO42qPQbK1mfbjLfMmlunUtV3nlSw0aABj9h\n",
       "3CQgeoaYRciK4J3LpLlzslRxh9OBToWOdBuzFNwYxgAlQ4LvWybtFrFFb53vXt5n6M2Jc5OCvlIp\n",
       "z4qV4b+XyKSpxpYlrGtiQIlcXRP29a/+QkCJ5F4i6vsX/w7/wZ2pxR1jPzO/SYvZ76oX8Y7TMgCm\n",
       "AAAAAElFTkSuQmCC\n",
       "\" style=\"display:inline;vertical-align:middle;\" /></a></span>"
      ],
      "text/plain": [
       "{a in Complex, b in Complex} |- |a + b + 2 + 3| = |a + b + 5|"
      ]
     },
     "metadata": {},
     "output_type": "display_data"
    }
   ],
   "source": [
    "# variables a and b are complex, notated as a tuple\n",
    "demo_expr_02.simplification(assumptions=[InSet(a, Complex), InSet(b, Complex)])"
   ]
  },
  {
   "cell_type": "code",
   "execution_count": 29,
   "metadata": {},
   "outputs": [
    {
     "data": {
      "text/html": [
       "<span style=\"font-size:20px;\"><a class=\"ProveItLink\" href=\"../../ordering/__pv_it/theorems/4aa8d696b1f407d6126de9f51a052e8d90e0848c0/expr.ipynb\"><img src=\"data:image/png;base64,iVBORw0KGgoAAAANSUhEUgAAADMAAAAQBAMAAABJt1qBAAAAMFBMVEX////MzMwyMjKqqqoiIiJm\n",
       "ZmaYmJju7u5EREQQEBC6urqIiIh2dnZUVFTc3NwAAAAqL9KcAAAAAXRSTlMAQObYZgAAAAlwSFlz\n",
       "AAAOxAAADsQBlSsOGwAAAM1JREFUGNNjYMAASTP6VWYkMGAFDW8Z1mYUYJd6w8DBeAGXFOsDBRSh\n",
       "HS4uCnCpBmSZRdsRunjLQQby3dm3ASTAp45koITRAyBj5QOO7yABpgdwqZcqX0AmsE9jYHUASyE5\n",
       "I60IRLN+YGA5AGJIugBBA0SKowzkZc4GhvoFIIEKJF2MAe1Aun4DQz5YgAXZX4EvQFIGDJeYQS7g\n",
       "3oAkVcENNJFjA7MrK1hEGS71lIEtoQvowtsH324Ei9R2FcBCvo+hQ98AOTjWtLgghxwApbZCEcpv\n",
       "FP8AAAAASUVORK5CYII=\n",
       "\" style=\"display:inline;vertical-align:middle;\" /></a>, <a class=\"ProveItLink\" href=\"../../ordering/__pv_it/theorems/6e5cad5b2984ed0d75bd47bd0c542ec447a4f3570/expr.ipynb\"><img src=\"data:image/png;base64,iVBORw0KGgoAAAANSUhEUgAAADEAAAAQBAMAAABNQoq8AAAAMFBMVEX///+YmJjMzMzc3NyIiIhU\n",
       "VFR2dna6urqqqqpmZmYyMjIiIiIQEBBERETu7u4AAAD7tRWPAAAAAXRSTlMAQObYZgAAAAlwSFlz\n",
       "AAAOxAAADsQBlSsOGwAAANZJREFUGNNjYEAHUmfvrz4rAGTw3dmAJnXBlKFU9gGQwTUBXcaMgZcp\n",
       "AMjgb8CU4TRYAGTUP4CK+O7evQAucwHIyIZKVPkh9LC+A5m21CUCxGdeh2SabpcB0G2/Hrw3ADnE\n",
       "AC5js/o3SD/HPwYeB5AMkgsEX4FozgUM/AlAWmc3EFyAyPA+BPmUO4GhHuTut0h6mCbcg3hnPsjd\n",
       "3Mj+mWQLklHgOwjiszggybxlARrHKsALCZ4VcBlLBkaB60BXh02ECDy9/gAW1pcZ7q5HDrOy25DQ\n",
       "gQIAY/lDzDbeA58AAAAASUVORK5CYII=\n",
       "\" style=\"display:inline;vertical-align:middle;\" /></a> <a class=\"ProveItLink\" href=\"../__pv_it/demonstrations/2e70e7efbb96eb96405fc19f0191de7676c3e0160/proof.ipynb\" style=\"text-decoration: none\">&nbsp;&#x22A2;&nbsp;&nbsp;</a><a class=\"ProveItLink\" href=\"../__pv_it/demonstrations/a22e5b3cb91d1b2d6e3d9454c4032e2c0203352f0/expr.ipynb\"><img src=\"data:image/png;base64,iVBORw0KGgoAAAANSUhEUgAAAPUAAAAVBAMAAABs27XUAAAAMFBMVEX///8yMjKqqqoiIiJmZmaY\n",
       "mJju7u5EREQQEBBUVFTMzMyIiIi6urp2dnbc3NwAAABRd72LAAAAAXRSTlMAQObYZgAAAAlwSFlz\n",
       "AAAOxAAADsQBlSsOGwAAAehJREFUSMfNlr8vA2EYx7/a01artxDW+weE5EQYRMQlHd1iMrhBgkUJ\n",
       "u0H8igHBIEJvZumqA00sHQ0WQnIJidi0iQ5+1VUv4nl6L6904Ka7z73v9/Peve8978FBDYfKgfOr\n",
       "vle1uONZBuTSosBkua9v67F5Pkij1WbkOpGVdFelRfJNXUI3mtn1HeIvlIwiUJB9bp4WXOu1qtyN\n",
       "pndSYGAfWKbkRAvlf3AL0xq8+SKtA2mvUZGBNQsph5BcFj+5hWnfuuMdDGwCKZsQ9+xR0l2V9sWt\n",
       "7h2n6c263SONmdAHRk5NX7dEWsPwhe25c064SFsnW0JvzBR9Zu7DHdtzD+jlo8dzS6SFLfWl4g4t\n",
       "QOmgrdstrDJ3cJ0/t/86l0vDTMWtPCB45l4qut49r+tlRz/wSgCQABhxF6CPWy4Ng86HOzKFZJaO\n",
       "tBeNBTrS+nW2Xg6AOc3HLZM27brtD3cyjREWXIBSpO42qPQbK1mfbjLfMmlunUtV3nlSw0aABj9h\n",
       "3CQgeoaYRciK4J3LpLlzslRxh9OBToWOdBuzFNwYxgAlQ4LvWybtFrFFb53vXt5n6M2Jc5OCvlIp\n",
       "z4qV4b+XyKSpxpYlrGtiQIlcXRP29a/+QkCJ5F4i6vsX/w7/wZ2pxR1jPzO/SYvZ76oX8Y7TMgCm\n",
       "AAAAAElFTkSuQmCC\n",
       "\" style=\"display:inline;vertical-align:middle;\" /></a></span>"
      ],
      "text/plain": [
       "{a in Real, b in Real} |- |a + b + 2 + 3| = |a + b + 5|"
      ]
     },
     "metadata": {},
     "output_type": "display_data"
    }
   ],
   "source": [
    "# variables a and b are real, notated individually\n",
    "demo_expr_02.simplification(assumptions=[InSet(a, Real), InSet(b, Real)])"
   ]
  },
  {
   "cell_type": "markdown",
   "metadata": {},
   "source": [
    "<font size=3>We can simplify further if we know that $a$ and $b$ are non-negative reals, with `simplification()` combining the numerical constants *and* removing the absolute value:</font>"
   ]
  },
  {
   "cell_type": "code",
   "execution_count": 30,
   "metadata": {},
   "outputs": [
    {
     "data": {
      "text/html": [
       "<span style=\"font-size:20px;\"><a class=\"ProveItLink\" href=\"../__pv_it/demonstrations/4a4701c918ed0b49c63799c553f955d19a924f1a0/expr.ipynb\"><img src=\"data:image/png;base64,iVBORw0KGgoAAAANSUhEUgAAAEgAAAAUBAMAAADcj2b4AAAAMFBMVEX///8AAAAAAAAAAAAAAAAA\n",
       "AAAAAAAAAAAAAAAAAAAAAAAAAAAAAAAAAAAAAAAAAAAv3aB7AAAAD3RSTlMAIquJdkTvuxBmmd1U\n",
       "zTKBpmoTAAAACXBIWXMAAA7EAAAOxAGVKw4bAAABK0lEQVQoz2NgwAmeB4ApY2cGPIDD/ACQ5HRg\n",
       "LcCnisF9AgMD2wOGj3gVMUx3YJBvYMjBIjM3vf52+gQIe5rA+waGndj0FwgxBE1vALGaSxmAilKw\n",
       "KhJmYOdTADKk9BhA1v3BoYhL4AIDgxBQDYbD3XfvvgBXVMDQtBDEYXFgVUBSE+uBMImpQ4GhA8Iz\n",
       "9gI6j1HZ0QHEYbyBZN3zswIoLggTYP8BonnhwgVit397oAZ+JgPXBrAiJIfP7AXFXTkQQHRyfWDg\n",
       "NgAxnu0GggKIIvbOCSgmsRUw9IOjux3JJL4FFSiK+h0Y5oMZ3MjhtE4cVdEBBl0eAXCAIClqZ0Gx\n",
       "j92BZxcXmHUHrkiKgXNCKYrvVOyE/MCsptIGWCooZCi/fwB76gmuhkQLBgAA7rpMGB8itmIAAAAA\n",
       "SUVORK5CYII=\n",
       "\" style=\"display:inline;vertical-align:middle;\" /></a>, <a class=\"ProveItLink\" href=\"../../addition/__pv_it/theorems/5a49c1d91f28aca05c3a7748e24771596ea841e40/expr.ipynb\"><img src=\"data:image/png;base64,iVBORw0KGgoAAAANSUhEUgAAAEYAAAAUBAMAAADCRlZLAAAAMFBMVEX///+YmJjMzMzc3NyIiIhU\n",
       "VFR2dna6urqqqqpmZmYyMjIiIiIQEBBERETu7u4AAAD7tRWPAAAAAXRSTlMAQObYZgAAAAlwSFlz\n",
       "AAAOxAAADsQBlSsOGwAAATdJREFUKM9jYMAFdAvAVJobA27Al9sAJBkd2C/gUcTgK8DAwKPA8Bmf\n",
       "GgZZBwb7BwwnMCWkzt5ffVYAwpYx0H/AsJGB784GNEUXTBlKZR+AWM+uMwDVHGFg4JqArsaMgZcp\n",
       "AMiwDGIA2fWDgYG/AVMNp8ECBgZToBKom+sfwLyxe/cCuJoLDE8ngzgsDuxAI7OhSqr8EOawvgtg\n",
       "eAfhpXkCzVjqEgFiM69Dsku3ywAlOH89eA8S4IKLXrBZ/dsPxYUc/xh4HEBqkNws+AoUX3eBAKKR\n",
       "cwEDfwKQ1tkNBBcgangfCqCYw53AUA/y/Vskc5gm3ENRAwye+SDfcyOHzyRbVDUKfAchAYGk5i0L\n",
       "imWsAryQyFgBV2PJwChwHcXvYRMhjKfXH8Di/TLD3fUNWFNL2W1IXGAAANC6XS1uoy9DAAAAAElF\n",
       "TkSuQmCC\n",
       "\" style=\"display:inline;vertical-align:middle;\" /></a> <a class=\"ProveItLink\" href=\"../__pv_it/demonstrations/1be0038bef457f01eee2eea366db20a16c11c68b0/proof.ipynb\" style=\"text-decoration: none\">&nbsp;&#x22A2;&nbsp;&nbsp;</a><a class=\"ProveItLink\" href=\"../__pv_it/demonstrations/f2876b05e63407a585a5b0cbbe4ed87bb541f6d60/expr.ipynb\"><img src=\"data:image/png;base64,iVBORw0KGgoAAAANSUhEUgAAAPkAAAAVBAMAAAB251VaAAAAMFBMVEX///8yMjKqqqoiIiJmZmaY\n",
       "mJju7u5EREQQEBBUVFTMzMyIiIi6urp2dnbc3NwAAABRd72LAAAAAXRSTlMAQObYZgAAAAlwSFlz\n",
       "AAAOxAAADsQBlSsOGwAAAnZJREFUSMetls9r02AYx79t0iRL07SgTrzVP2C0+AsvYxU7PMly8ObB\n",
       "3KYXU9GDoIgwpoMNVn9dHLMB/4FcN2Hs4EHwsIK7TDwEJogHYe0hB3/NN61InzdPpKPLoWk+7fP9\n",
       "5H3e922KECMc4VDoP8WfRrEni/PlYepM4Cbep9i1u1WJ2PXjPiXftu9zxROcbHZOAkbnyDnknZSx\n",
       "Z2oS+ILCT3qDNVTKyWKtxI71qHStLE+6wLhkt5z+uViWwCtggZB8F14paVcdLg5dCYz1Xq9I9mzQ\n",
       "P2+5Elh20QoHibWEImM3wMVZkQT6dsPl7R9k8Axo+YQAFSdpP8naC1XWnukF2KsbAf30xJunkFyY\n",
       "koh1llk0l8HFZVbWytR+dUeMpdCMA96FekS+rnVcL5Ts5g+aaK69/GtXT/eOZvz+GJg4eOPabwJ0\n",
       "1xaLOBdPnTYPtUq+no1gBJJdacrd4Nb8KTBxqLhYlFt5W1w9FAHqHpR2fwzn53pjUEsotgeBOC4B\n",
       "EjGipH0JTBwuAL+kYsyEMPdEgNGAt0luVlRv0YlCrkkXjulD77L2ZBwmYXUJuCXsPqx47F6AazRa\n",
       "bPcZl9onYJOVUIz+2QfnXXQ+GSe2uxoRIH77WuKqGtvLeJKl0b6YPLrG2siT+zGabOfvgYnDd1x3\n",
       "CBAz81j0syEC9CB7RiWyMUevUftuvX6RkJzD7vcdMHF4gTsUfEb+kWhaO17zKx+/rtMdtzot9W5q\n",
       "f79Dyds695R5DSYON7YdCuz6c9FJZZP/rUsHlCTsin+AuN2Up0w6oCRhz9UOEDd96P8uHgxfbDcO\n",
       "3T47fLEuNsb6KPZksR0MXbwB/AEJYOBKrJkP7AAAAABJRU5ErkJggg==\n",
       "\" style=\"display:inline;vertical-align:middle;\" /></a></span>"
      ],
      "text/plain": [
       "{a in RealNonNeg, b in RealNonNeg} |- |a + b + 2 + 3| = (a + b + 5)"
      ]
     },
     "metadata": {},
     "output_type": "display_data"
    }
   ],
   "source": [
    "demo_expr_02.simplification(\n",
    "    assumptions=[InSet(a, RealNonNeg), InSet(b, RealNonNeg)])"
   ]
  },
  {
   "cell_type": "markdown",
   "metadata": {},
   "source": [
    "<font size=3>Similarly, given the assumption that $a$ and $b$ are non-negative reals, we can explicitly deduce that the entire expression is also a non-negative real:</font>"
   ]
  },
  {
   "cell_type": "code",
   "execution_count": 31,
   "metadata": {},
   "outputs": [
    {
     "data": {
      "text/html": [
       "<span style=\"font-size:20px;\"><a class=\"ProveItLink\" href=\"../__pv_it/demonstrations/4a4701c918ed0b49c63799c553f955d19a924f1a0/expr.ipynb\"><img src=\"data:image/png;base64,iVBORw0KGgoAAAANSUhEUgAAAEgAAAAUBAMAAADcj2b4AAAAMFBMVEX///8AAAAAAAAAAAAAAAAA\n",
       "AAAAAAAAAAAAAAAAAAAAAAAAAAAAAAAAAAAAAAAAAAAv3aB7AAAAD3RSTlMAIquJdkTvuxBmmd1U\n",
       "zTKBpmoTAAAACXBIWXMAAA7EAAAOxAGVKw4bAAABK0lEQVQoz2NgwAmeB4ApY2cGPIDD/ACQ5HRg\n",
       "LcCnisF9AgMD2wOGj3gVMUx3YJBvYMjBIjM3vf52+gQIe5rA+waGndj0FwgxBE1vALGaSxmAilKw\n",
       "KhJmYOdTADKk9BhA1v3BoYhL4AIDgxBQDYbD3XfvvgBXVMDQtBDEYXFgVUBSE+uBMImpQ4GhA8Iz\n",
       "9gI6j1HZ0QHEYbyBZN3zswIoLggTYP8BonnhwgVit397oAZ+JgPXBrAiJIfP7AXFXTkQQHRyfWDg\n",
       "NgAxnu0GggKIIvbOCSgmsRUw9IOjux3JJL4FFSiK+h0Y5oMZ3MjhtE4cVdEBBl0eAXCAIClqZ0Gx\n",
       "j92BZxcXmHUHrkiKgXNCKYrvVOyE/MCsptIGWCooZCi/fwB76gmuhkQLBgAA7rpMGB8itmIAAAAA\n",
       "SUVORK5CYII=\n",
       "\" style=\"display:inline;vertical-align:middle;\" /></a>, <a class=\"ProveItLink\" href=\"../../addition/__pv_it/theorems/5a49c1d91f28aca05c3a7748e24771596ea841e40/expr.ipynb\"><img src=\"data:image/png;base64,iVBORw0KGgoAAAANSUhEUgAAAEYAAAAUBAMAAADCRlZLAAAAMFBMVEX///+YmJjMzMzc3NyIiIhU\n",
       "VFR2dna6urqqqqpmZmYyMjIiIiIQEBBERETu7u4AAAD7tRWPAAAAAXRSTlMAQObYZgAAAAlwSFlz\n",
       "AAAOxAAADsQBlSsOGwAAATdJREFUKM9jYMAFdAvAVJobA27Al9sAJBkd2C/gUcTgK8DAwKPA8Bmf\n",
       "GgZZBwb7BwwnMCWkzt5ffVYAwpYx0H/AsJGB784GNEUXTBlKZR+AWM+uMwDVHGFg4JqArsaMgZcp\n",
       "AMiwDGIA2fWDgYG/AVMNp8ECBgZToBKom+sfwLyxe/cCuJoLDE8ngzgsDuxAI7OhSqr8EOawvgtg\n",
       "eAfhpXkCzVjqEgFiM69Dsku3ywAlOH89eA8S4IKLXrBZ/dsPxYUc/xh4HEBqkNws+AoUX3eBAKKR\n",
       "cwEDfwKQ1tkNBBcgangfCqCYw53AUA/y/Vskc5gm3ENRAwye+SDfcyOHzyRbVDUKfAchAYGk5i0L\n",
       "imWsAryQyFgBV2PJwChwHcXvYRMhjKfXH8Di/TLD3fUNWFNL2W1IXGAAANC6XS1uoy9DAAAAAElF\n",
       "TkSuQmCC\n",
       "\" style=\"display:inline;vertical-align:middle;\" /></a> <a class=\"ProveItLink\" href=\"../__pv_it/demonstrations/c6c2c10af187fb42a1de49fa31f9cb8bb40d621c0/proof.ipynb\" style=\"text-decoration: none\">&nbsp;&#x22A2;&nbsp;&nbsp;</a><a class=\"ProveItLink\" href=\"../__pv_it/demonstrations/801c213ea7ae044572a1bdf7835888dfe68ab2090/expr.ipynb\"><img src=\"data:image/png;base64,iVBORw0KGgoAAAANSUhEUgAAALwAAAAYBAMAAACy6opgAAAAMFBMVEX///8yMjKqqqoiIiJmZmaY\n",
       "mJju7u5EREQQEBBUVFTMzMyIiIi6urp2dnbc3NwAAABRd72LAAAAAXRSTlMAQObYZgAAAAlwSFlz\n",
       "AAAOxAAADsQBlSsOGwAAAldJREFUSMe9lcFr03AUx7/r0iRLY1vYQUTQ+AfIKnG42wpWBA8aDzJv\n",
       "xoMTD9KC4DyUCcqYoGDUgzCZy21HcxDFDWUHET2toDCQDSIOZg9DN6EXxfnrkqV5ry1DSv0dkl++\n",
       "+b1PXn7vmxegC2N2Yfu08hpdGfKSIY5JTy91h4+XFqC6+AO/E0r74BEP323cwnIneBZ8dvJm/6QV\n",
       "zM/7z2wMtsTLN3JMSRf2ulRZ/1RuwqNUxYcRuz67WobA322dfU+eCWvY85tmkMeA0Yxfh6I5YrI6\n",
       "hfrmbNIVevhmGYMJT4E7REltophthZf8LFAV9KC0ZEXCC86LNhPu25jx44p+D5kIn7pmHmngS7hy\n",
       "elv1dKc1/iMXHgEzLlGAASsM1vfbjez7Rh2MBlcrz+36ivT0G4/S9s0/BINhmCn64E5pv9ixzZk9\n",
       "5DNvvfeVGomVN+yiz/DaL4rXXk3t4A809v5b/88XzLryBKQciU3UoHoM3+vw94mck42V9tzFes8Z\n",
       "E8MP8dIP9FbETDLNodumKTBSFplKXBDjJMAUtRbgNaGYx0K8csli2aslFBdIauJpiwbNNenQYmsu\n",
       "lNDVcimWvZa/zvBFDxdorLD9GZviDyNNqpGpRXjk4r4/tcbxBh4kaKwr6kELWUGKPFB1os3BfBx/\n",
       "OWVRvOIljkqE1mcpeYr/WigcJ0rSavi+x4jwq+JGmTnnyefqHDXm9An2WQ1vbW1Q5W0hamny43dR\n",
       "xxzH2EGjXU+NfUVtBKqEwfpS2BR2adm6xe42CVRZ/tc/Qke/k/+Pn+sEv2vwX55C0DhJbM/NAAAA\n",
       "AElFTkSuQmCC\n",
       "\" style=\"display:inline;vertical-align:middle;\" /></a></span>"
      ],
      "text/plain": [
       "{a in RealNonNeg, b in RealNonNeg} |- |a + b + 2 + 3| in RealNonNeg"
      ]
     },
     "metadata": {},
     "output_type": "display_data"
    }
   ],
   "source": [
    "demo_expr_02.deduce_in_number_set(\n",
    "        RealNonNeg,\n",
    "        assumptions=[InSet(a, RealNonNeg), InSet(b, RealNonNeg)])"
   ]
  },
  {
   "cell_type": "markdown",
   "metadata": {},
   "source": [
    "<font size=3>In fact, as long as we explicitly establish that $a$ and $b$ each belong to some defined subset of the complex numbers, the `deduce_in_number_set()` will be able to deduce that our absolute value expression is an element of the non-negative real numbers:</font>"
   ]
  },
  {
   "cell_type": "code",
   "execution_count": 32,
   "metadata": {},
   "outputs": [
    {
     "data": {
      "text/html": [
       "<span style=\"font-size:20px;\"><a class=\"ProveItLink\" href=\"../__pv_it/theorems/e9f87a0977d5044ea8daf1040d2f219396bb3d5b0/expr.ipynb\"><img src=\"data:image/png;base64,iVBORw0KGgoAAAANSUhEUgAAADMAAAAQBAMAAABJt1qBAAAAMFBMVEX////MzMwyMjKqqqoiIiJm\n",
       "ZmaYmJju7u5EREQQEBC6urqIiIh2dnZUVFTc3NwAAAAqL9KcAAAAAXRSTlMAQObYZgAAAAlwSFlz\n",
       "AAAOxAAADsQBlSsOGwAAANFJREFUGNNjYMACalqU9slgk2DgvpnAHt+KVSp6DQMDG1YpxoB2IHkV\n",
       "RWyHi4sCkOItaACSZcgyi7ZDaA6+AKgI3519G8C0OlTgLeMBKGvlA47vIJrpAVRAhisBwmCfxsDq\n",
       "AJaCGfyUawOEwfqBgQVsgKQLEDSA7YIayNnAUL8AxKiA6eIAuxAI6jcw5IMZLDApLrC/uIBSBgyX\n",
       "mEEu4N4AD421QCIIqH0DsysrWEQZHoZNcewmQL+x3z74diNYpLarABbynV/iUANvTQs4oGAAAKqD\n",
       "MEJAsWyMAAAAAElFTkSuQmCC\n",
       "\" style=\"display:inline;vertical-align:middle;\" /></a>, <a class=\"ProveItLink\" href=\"../__pv_it/demonstrations/885cc228aa47f4d61d07e1691f08d60a4b0eb17d0/expr.ipynb\"><img src=\"data:image/png;base64,iVBORw0KGgoAAAANSUhEUgAAAD0AAAAQBAMAAABXfmoyAAAAMFBMVEX///+YmJjMzMzc3NyIiIhU\n",
       "VFR2dna6urqqqqpmZmYyMjIiIiIQEBBERETu7u4AAAD7tRWPAAAAAXRSTlMAQObYZgAAAAlwSFlz\n",
       "AAAOxAAADsQBlSsOGwAAAOBJREFUGNNjYEAHUmfvrz4rAOfy3dmApuCCKUOp7AM4l2sCurwZAy9T\n",
       "AIPuXSAwYGDgb8CU5zRYAOfWw4zy3b17AVz+Alw+G0pX+SH0s74LgMsvdYkAUczrkMzX7TKAu//X\n",
       "g/cgDhdc5ILN6t9+cO0c/xh4HEDySO4TfIVwLecCBv4EIK2zGwguQOR5HyLChzuBoR7kw7dI+pkm\n",
       "3IPzgN6fD/IhN7L/J9ki5BX4DoJoFgck+bcscAtYBXghAbwCLm/JwChwHe6/sIkQxtPrD2Dxd5nh\n",
       "7voGjIgtu717AYYgAGEMR51YMKm3AAAAAElFTkSuQmCC\n",
       "\" style=\"display:inline;vertical-align:middle;\" /></a> <a class=\"ProveItLink\" href=\"../__pv_it/demonstrations/1f711b22de80bee2c525fe510cf9b86b39c729790/proof.ipynb\" style=\"text-decoration: none\">&nbsp;&#x22A2;&nbsp;&nbsp;</a><a class=\"ProveItLink\" href=\"../__pv_it/demonstrations/801c213ea7ae044572a1bdf7835888dfe68ab2090/expr.ipynb\"><img src=\"data:image/png;base64,iVBORw0KGgoAAAANSUhEUgAAALwAAAAYBAMAAACy6opgAAAAMFBMVEX///8yMjKqqqoiIiJmZmaY\n",
       "mJju7u5EREQQEBBUVFTMzMyIiIi6urp2dnbc3NwAAABRd72LAAAAAXRSTlMAQObYZgAAAAlwSFlz\n",
       "AAAOxAAADsQBlSsOGwAAAldJREFUSMe9lcFr03AUx7/r0iRLY1vYQUTQ+AfIKnG42wpWBA8aDzJv\n",
       "xoMTD9KC4DyUCcqYoGDUgzCZy21HcxDFDWUHET2toDCQDSIOZg9DN6EXxfnrkqV5ry1DSv0dkl++\n",
       "+b1PXn7vmxegC2N2Yfu08hpdGfKSIY5JTy91h4+XFqC6+AO/E0r74BEP323cwnIneBZ8dvJm/6QV\n",
       "zM/7z2wMtsTLN3JMSRf2ulRZ/1RuwqNUxYcRuz67WobA322dfU+eCWvY85tmkMeA0Yxfh6I5YrI6\n",
       "hfrmbNIVevhmGYMJT4E7REltophthZf8LFAV9KC0ZEXCC86LNhPu25jx44p+D5kIn7pmHmngS7hy\n",
       "elv1dKc1/iMXHgEzLlGAASsM1vfbjez7Rh2MBlcrz+36ivT0G4/S9s0/BINhmCn64E5pv9ixzZk9\n",
       "5DNvvfeVGomVN+yiz/DaL4rXXk3t4A809v5b/88XzLryBKQciU3UoHoM3+vw94mck42V9tzFes8Z\n",
       "E8MP8dIP9FbETDLNodumKTBSFplKXBDjJMAUtRbgNaGYx0K8csli2aslFBdIauJpiwbNNenQYmsu\n",
       "lNDVcimWvZa/zvBFDxdorLD9GZviDyNNqpGpRXjk4r4/tcbxBh4kaKwr6kELWUGKPFB1os3BfBx/\n",
       "OWVRvOIljkqE1mcpeYr/WigcJ0rSavi+x4jwq+JGmTnnyefqHDXm9An2WQ1vbW1Q5W0hamny43dR\n",
       "xxzH2EGjXU+NfUVtBKqEwfpS2BR2adm6xe42CVRZ/tc/Qke/k/+Pn+sEv2vwX55C0DhJbM/NAAAA\n",
       "AElFTkSuQmCC\n",
       "\" style=\"display:inline;vertical-align:middle;\" /></a></span>"
      ],
      "text/plain": [
       "{a in Complex, b in RealNeg} |- |a + b + 2 + 3| in RealNonNeg"
      ]
     },
     "metadata": {},
     "output_type": "display_data"
    }
   ],
   "source": [
    "demo_expr_02.deduce_in_number_set(\n",
    "        RealNonNeg,\n",
    "        assumptions=[InSet(a, Complex), InSet(b, RealNeg)])"
   ]
  },
  {
   "cell_type": "markdown",
   "metadata": {},
   "source": [
    "<font size=3>From this, it is straighforward to derive $|a + b + 2 + 3| \\geq 0$ exploiting some automation:</font>"
   ]
  },
  {
   "cell_type": "code",
   "execution_count": 33,
   "metadata": {},
   "outputs": [
    {
     "data": {
      "text/html": [
       "<strong id=\"demo_expr_02_ge_zero\">demo_expr_02_ge_zero:</strong> <span style=\"font-size:20px;\"><a class=\"ProveItLink\" href=\"../__pv_it/theorems/e9f87a0977d5044ea8daf1040d2f219396bb3d5b0/expr.ipynb\"><img src=\"data:image/png;base64,iVBORw0KGgoAAAANSUhEUgAAADMAAAAQBAMAAABJt1qBAAAAMFBMVEX////MzMwyMjKqqqoiIiJm\n",
       "ZmaYmJju7u5EREQQEBC6urqIiIh2dnZUVFTc3NwAAAAqL9KcAAAAAXRSTlMAQObYZgAAAAlwSFlz\n",
       "AAAOxAAADsQBlSsOGwAAANFJREFUGNNjYMACalqU9slgk2DgvpnAHt+KVSp6DQMDG1YpxoB2IHkV\n",
       "RWyHi4sCkOItaACSZcgyi7ZDaA6+AKgI3519G8C0OlTgLeMBKGvlA47vIJrpAVRAhisBwmCfxsDq\n",
       "AJaCGfyUawOEwfqBgQVsgKQLEDSA7YIayNnAUL8AxKiA6eIAuxAI6jcw5IMZLDApLrC/uIBSBgyX\n",
       "mEEu4N4AD421QCIIqH0DsysrWEQZHoZNcewmQL+x3z74diNYpLarABbynV/iUANvTQs4oGAAAKqD\n",
       "MEJAsWyMAAAAAElFTkSuQmCC\n",
       "\" style=\"display:inline;vertical-align:middle;\" /></a>, <a class=\"ProveItLink\" href=\"../__pv_it/demonstrations/885cc228aa47f4d61d07e1691f08d60a4b0eb17d0/expr.ipynb\"><img src=\"data:image/png;base64,iVBORw0KGgoAAAANSUhEUgAAAD0AAAAQBAMAAABXfmoyAAAAMFBMVEX///+YmJjMzMzc3NyIiIhU\n",
       "VFR2dna6urqqqqpmZmYyMjIiIiIQEBBERETu7u4AAAD7tRWPAAAAAXRSTlMAQObYZgAAAAlwSFlz\n",
       "AAAOxAAADsQBlSsOGwAAAOBJREFUGNNjYEAHUmfvrz4rAOfy3dmApuCCKUOp7AM4l2sCurwZAy9T\n",
       "AIPuXSAwYGDgb8CU5zRYAOfWw4zy3b17AVz+Alw+G0pX+SH0s74LgMsvdYkAUczrkMzX7TKAu//X\n",
       "g/cgDhdc5ILN6t9+cO0c/xh4HEDySO4TfIVwLecCBv4EIK2zGwguQOR5HyLChzuBoR7kw7dI+pkm\n",
       "3IPzgN6fD/IhN7L/J9ki5BX4DoJoFgck+bcscAtYBXghAbwCLm/JwChwHe6/sIkQxtPrD2Dxd5nh\n",
       "7voGjIgtu717AYYgAGEMR51YMKm3AAAAAElFTkSuQmCC\n",
       "\" style=\"display:inline;vertical-align:middle;\" /></a> <a class=\"ProveItLink\" href=\"../__pv_it/demonstrations/947fc85a8a86749629205dba10f0966f1e2ab68a0/proof.ipynb\" style=\"text-decoration: none\">&nbsp;&#x22A2;&nbsp;&nbsp;</a><a class=\"ProveItLink\" href=\"../__pv_it/demonstrations/25a9b83aa005531a3768f2bd7a2ec7c5e90915f30/expr.ipynb\"><img src=\"data:image/png;base64,iVBORw0KGgoAAAANSUhEUgAAAKMAAAAVBAMAAADY0UPbAAAAMFBMVEX///8yMjKqqqoiIiJmZmaY\n",
       "mJju7u5EREQQEBBUVFTMzMyIiIi6urp2dnbc3NwAAABRd72LAAAAAXRSTlMAQObYZgAAAAlwSFlz\n",
       "AAAOxAAADsQBlSsOGwAAAd9JREFUOMu1lL1Lw1AUxY+tfTa1tB0U6RZwFGwhOogoFesoFlx0MqMO\n",
       "Ujc/QRdRREQcFSH/gNpBhCqCg84tKDhYsYOLiKJFOvhV89q0yX2mIBSzPHJyz+/d++7NQxY1PPbm\n",
       "TC3IzJ9VNhMWlPu+OUF5ulqwMd8eZqtsVBeh774p3J3RXSMIySUzazZ9MusVkBfG6pepIGXhXiJK\n",
       "Yw7xgGGe7C77h4FrAdlmrCmVCu48pG+ieNfhLyPR2GPEzwIh1R55KQhSGNI7DdHNsYrZZTDfgIPi\n",
       "cTzcPArI4MmWCHC+CIq301Kio4nPE+NIvpF3A4sqiWevajwrIA8SFOlJbltPzRvUEb6vYlwG4zH0\n",
       "0ywdebgTArILvwqXrciWMjKtq0NAD1f7FWVVUbi1PgB/2iro0hQNKfXMLDxYLFxHpniWK2CfNAVn\n",
       "GimZ5jQqNMyjoSFntqej0h6eO/uA64XG62M5pBKkI41nGpK3ICtDNA2M6UPEcpAC7TReY8v05PaA\n",
       "Izqpm2bh5qiPAH28afNojUToGMYaqODriEbDRHHFKnNp+SGdMlvjyInT/R2NDtHugHC4hUIhQPM+\n",
       "j9pcG2wwqVX5IasLVPnD5XYhfv0lUCXzT1cwU4qP9p+3+nEtSFvzD/mykr8C9LnyAAAAAElFTkSu\n",
       "QmCC\n",
       "\" style=\"display:inline;vertical-align:middle;\" /></a></span><br>"
      ],
      "text/plain": [
       "<IPython.core.display.HTML object>"
      ]
     },
     "metadata": {},
     "output_type": "display_data"
    }
   ],
   "source": [
    "demo_expr_02_ge_zero = greater_eq(demo_expr_02, zero).prove(\n",
    "    assumptions=[InSet(a, Complex), InSet(b, RealNeg)])"
   ]
  },
  {
   "cell_type": "markdown",
   "metadata": {},
   "source": [
    "<font size=3>The detailed proof includes a number of steps that establish that all the sub-operands can be found in the complex numbers, but we see toward the top of the proof table the explicit use of the modus ponens-like `right_from_iff` theorem (cited in line 1) and the `in_real_non_neg_iff_nonNegative` theorem (cited in line 5), which we were nudging Prove-It toward by our few steps above:</font>"
   ]
  },
  {
   "cell_type": "code",
   "execution_count": 34,
   "metadata": {},
   "outputs": [
    {
     "data": {
      "text/html": [
       "<table><tr><th>&nbsp;</th><th>step type</th><th>requirements</th><th>statement</th></tr>\n",
       "<tr><td><a name=\"-0x781d8d73d530194_step0\">0</a></td><td>instantiation</td><td><a href=\"#-0x781d8d73d530194_step1\">1</a>, <a href=\"#-0x781d8d73d530194_step2\">2</a></td><td><span style=\"font-size:20px;\"><a class=\"ProveItLink\" href=\"../__pv_it/theorems/e9f87a0977d5044ea8daf1040d2f219396bb3d5b0/expr.ipynb\"><img src=\"data:image/png;base64,iVBORw0KGgoAAAANSUhEUgAAADMAAAAQBAMAAABJt1qBAAAAMFBMVEX////MzMwyMjKqqqoiIiJm\n",
       "ZmaYmJju7u5EREQQEBC6urqIiIh2dnZUVFTc3NwAAAAqL9KcAAAAAXRSTlMAQObYZgAAAAlwSFlz\n",
       "AAAOxAAADsQBlSsOGwAAANFJREFUGNNjYMACalqU9slgk2DgvpnAHt+KVSp6DQMDG1YpxoB2IHkV\n",
       "RWyHi4sCkOItaACSZcgyi7ZDaA6+AKgI3519G8C0OlTgLeMBKGvlA47vIJrpAVRAhisBwmCfxsDq\n",
       "AJaCGfyUawOEwfqBgQVsgKQLEDSA7YIayNnAUL8AxKiA6eIAuxAI6jcw5IMZLDApLrC/uIBSBgyX\n",
       "mEEu4N4AD421QCIIqH0DsysrWEQZHoZNcewmQL+x3z74diNYpLarABbynV/iUANvTQs4oGAAAKqD\n",
       "MEJAsWyMAAAAAElFTkSuQmCC\n",
       "\" style=\"display:inline;vertical-align:middle;\" /></a>, <a class=\"ProveItLink\" href=\"../__pv_it/demonstrations/885cc228aa47f4d61d07e1691f08d60a4b0eb17d0/expr.ipynb\"><img src=\"data:image/png;base64,iVBORw0KGgoAAAANSUhEUgAAAD0AAAAQBAMAAABXfmoyAAAAMFBMVEX///+YmJjMzMzc3NyIiIhU\n",
       "VFR2dna6urqqqqpmZmYyMjIiIiIQEBBERETu7u4AAAD7tRWPAAAAAXRSTlMAQObYZgAAAAlwSFlz\n",
       "AAAOxAAADsQBlSsOGwAAAOBJREFUGNNjYEAHUmfvrz4rAOfy3dmApuCCKUOp7AM4l2sCurwZAy9T\n",
       "AIPuXSAwYGDgb8CU5zRYAOfWw4zy3b17AVz+Alw+G0pX+SH0s74LgMsvdYkAUczrkMzX7TKAu//X\n",
       "g/cgDhdc5ILN6t9+cO0c/xh4HEDySO4TfIVwLecCBv4EIK2zGwguQOR5HyLChzuBoR7kw7dI+pkm\n",
       "3IPzgN6fD/IhN7L/J9ki5BX4DoJoFgck+bcscAtYBXghAbwCLm/JwChwHe6/sIkQxtPrD2Dxd5nh\n",
       "7voGjIgtu717AYYgAGEMR51YMKm3AAAAAElFTkSuQmCC\n",
       "\" style=\"display:inline;vertical-align:middle;\" /></a> <a class=\"ProveItLink\" href=\"../__pv_it/demonstrations/947fc85a8a86749629205dba10f0966f1e2ab68a0/proof.ipynb\" style=\"text-decoration: none\">&nbsp;&#x22A2;&nbsp;&nbsp;</a><a class=\"ProveItLink\" href=\"../__pv_it/demonstrations/25a9b83aa005531a3768f2bd7a2ec7c5e90915f30/expr.ipynb\"><img src=\"data:image/png;base64,iVBORw0KGgoAAAANSUhEUgAAAKMAAAAVBAMAAADY0UPbAAAAMFBMVEX///8yMjKqqqoiIiJmZmaY\n",
       "mJju7u5EREQQEBBUVFTMzMyIiIi6urp2dnbc3NwAAABRd72LAAAAAXRSTlMAQObYZgAAAAlwSFlz\n",
       "AAAOxAAADsQBlSsOGwAAAd9JREFUOMu1lL1Lw1AUxY+tfTa1tB0U6RZwFGwhOogoFesoFlx0MqMO\n",
       "Ujc/QRdRREQcFSH/gNpBhCqCg84tKDhYsYOLiKJFOvhV89q0yX2mIBSzPHJyz+/d++7NQxY1PPbm\n",
       "TC3IzJ9VNhMWlPu+OUF5ulqwMd8eZqtsVBeh774p3J3RXSMIySUzazZ9MusVkBfG6pepIGXhXiJK\n",
       "Yw7xgGGe7C77h4FrAdlmrCmVCu48pG+ieNfhLyPR2GPEzwIh1R55KQhSGNI7DdHNsYrZZTDfgIPi\n",
       "cTzcPArI4MmWCHC+CIq301Kio4nPE+NIvpF3A4sqiWevajwrIA8SFOlJbltPzRvUEb6vYlwG4zH0\n",
       "0ywdebgTArILvwqXrciWMjKtq0NAD1f7FWVVUbi1PgB/2iro0hQNKfXMLDxYLFxHpniWK2CfNAVn\n",
       "GimZ5jQqNMyjoSFntqej0h6eO/uA64XG62M5pBKkI41nGpK3ICtDNA2M6UPEcpAC7TReY8v05PaA\n",
       "Izqpm2bh5qiPAH28afNojUToGMYaqODriEbDRHHFKnNp+SGdMlvjyInT/R2NDtHugHC4hUIhQPM+\n",
       "j9pcG2wwqVX5IasLVPnD5XYhfv0lUCXzT1cwU4qP9p+3+nEtSFvzD/mykr8C9LnyAAAAAElFTkSu\n",
       "QmCC\n",
       "\" style=\"display:inline;vertical-align:middle;\" /></a></span></td></tr>\n",
       "<tr><td>&nbsp;</td><td colspan=4 style=\"text-align:left\"><span style=\"font-size:20px;\"><a class=\"ProveItLink\" href=\"../../../__pv_it/common/a0d9d672aa5e272d907247690c152cc2c6daafb70/expr.ipynb\"><img src=\"data:image/png;base64,iVBORw0KGgoAAAANSUhEUgAAAAsAAAAJBAMAAAAWSsseAAAAMFBMVEX///9ERES6uroQEBAyMjLc\n",
       "3NyYmJgiIiJmZmaqqqp2dnbMzMxUVFSIiIju7u4AAAAd7oVFAAAAAXRSTlMAQObYZgAAAAlwSFlz\n",
       "AAAOxAAADsQBlSsOGwAAAENJREFUCNdjYHh75/WqCQwMDbxnOQoY2ALY/vEkMHAzcDgwgADzBTCl\n",
       "H8D3gOGhwmEGLgaG+fuaGTQZGF7c5WybwAAAJTwQ1a2DuB8AAAAASUVORK5CYII=\n",
       "\" style=\"display:inline;vertical-align:middle;\" /></a> : <a class=\"ProveItLink\" href=\"../__pv_it/demonstrations/fa51483b5697a875cef84f31600e4cd45d515e240/expr.ipynb\"><img src=\"data:image/png;base64,iVBORw0KGgoAAAANSUhEUgAAAHwAAAAVBAMAAAB2y5cfAAAAMFBMVEX///8yMjKqqqoiIiJmZmaY\n",
       "mJju7u5EREQQEBBUVFTMzMyIiIi6urp2dnbc3NwAAABRd72LAAAAAXRSTlMAQObYZgAAAAlwSFlz\n",
       "AAAOxAAADsQBlSsOGwAAAV9JREFUOMtjeMBAAXjAcIcS7XewamerMEATeeJYhSby9koNLu0MjA6o\n",
       "fL4ChvsHUG1wYNBXQNd+FErzK6AKcD5g4GhAEeH+xJAvgK5dG0qfT0AV4PjGwPkPRYSnh4Efp/bL\n",
       "aAKcBgycv1CVMDDoB0C0v7z9Gk275O5J6IqZP6CJ8JhCgo6nj6E+AUWO7WNC/gM07es3oGrn2jkL\n",
       "oj0jgMEZ1XambwwcG9C0WzJgOB4S8v4MDLYgrrOxcYexMUgZiwAD/wVkAaBQAaoSSHiCtLczsP1B\n",
       "NZr5AsN5BVS7ItECk2sBA/snkHa23wysH1DlgNHun4CinekCwztUJd9g2j8xcAroocotYGtF9ela\n",
       "BoZtqClhAszx1QzKDg6o0RzAjirAZ+LiYoAiwhoAi/fMvetmL0CNuLmuaIHx//9/AVT3HHHBzDLa\n",
       "6HkHQwBVBEeWwS2AKnKHFsUFCdp3UaJ9FwDgTHQyhoyLugAAAABJRU5ErkJggg==\n",
       "\" style=\"display:inline;vertical-align:middle;\" /></a></span></td></tr><tr><td><a name=\"-0x781d8d73d530194_step1\">1</a></td><td>conjecture</td><td></td><td><span style=\"font-size:20px;\"> <a class=\"ProveItLink\" href=\"../../number_sets/real_numbers/_theory_nbs_/proofs/nonneg_if_in_real_nonneg/thm_proof.ipynb\" style=\"text-decoration: none\">&nbsp;&#x22A2;&nbsp;&nbsp;</a><a class=\"ProveItLink\" href=\"../../number_sets/real_numbers/__pv_it/theorems/8a8ee12215b64bb91067eb674a5aa946111060970/expr.ipynb\"><img src=\"data:image/png;base64,iVBORw0KGgoAAAANSUhEUgAAAIkAAAAVBAMAAACArtDCAAAAMFBMVEX///+IiIgiIiIQEBB2dnbu\n",
       "7u5ERETMzMzc3NwyMjK6urpmZmaYmJiqqqpUVFQAAAB6qHgnAAAAAXRSTlMAQObYZgAAAAlwSFlz\n",
       "AAAOxAAADsQBlSsOGwAAAjRJREFUOMuNVE1o1FAQ/t42b5NNdktaKKiLy7KXiqcoij1uxYoihSAq\n",
       "SC8t2AgepIeea9beZT0IHlfwUlCsUrHtiqwVQSli9FYstJeKBwUPggUvzsTNT7Nusw8C33sz+TLz\n",
       "zZcH9La07iEXPa/D3UMP6NlmsJlGUqj+//xM0YVoAau8uZ/GcjWOWyHMefIIcA+Y46Yn01hexrA8\n",
       "bQZwDTgLrBOdDSheGou1Zzc41gY3gS0bfTbyVF8uVZb63v1am+YPcMtDjiiOVyon0lgMElcO7MyO\n",
       "Bwcby35vzNKCQhN6AUynsfDXDJTMZ+HJwg7r+YtYTOSp0jvQtpNvySVSC7VPgaEyJNw7fLS/RyzT\n",
       "AUsVBVItayuNGMHn86/uUvyCyxMM5OijjBmsRFkb3/yPEcsTE+pPUs4MxVVLTkMoOMcqFBvSwskY\n",
       "C3AsUvd5qO6WB50nWH8dBJszgBB4y37QjmplDMc6gr6Ly4lJO6A2USgTHCfvYWC56LKVmWVokcpa\n",
       "sqmWkXZ21oS80W+hmnDdG3CbeTbtPIkr3K857woHhKJNtaCzjvVQF5pl4feEpXuJPyDjyVP/fIB+\n",
       "6iOPKRWPfBbj2iTkD4a1zWBGahnyqfnlQ+csS/RyJprOLvDecRxPCOVxp2GG93PT7RCploZZvxah\n",
       "P7S1ZrO5Gk9c7+lXnVfqBjnH1wVjix2J2diFdrHCK6ouuhGMQ6ND0K6zKQ9WJ1Y6WOQ+d0c2cWVe\n",
       "cpxGl9Rad5YDwF/DcYBYMvNXUgAAAABJRU5ErkJggg==\n",
       "\" style=\"display:inline;vertical-align:middle;\" /></a></span></td></tr>\n",
       "<tr><td>&nbsp;</td><td colspan=4 style-\"text-align:left\"><a class=\"ProveItLink\" href=\"../../number_sets/real_numbers/_theory_nbs_/proofs/nonneg_if_in_real_nonneg/thm_proof.ipynb\">proveit.numbers.number_sets.real_numbers.nonneg_if_in_real_nonneg</a></td></tr><tr><td><a name=\"-0x781d8d73d530194_step2\">2</a></td><td>instantiation</td><td><a href=\"#-0x781d8d73d530194_step3\">3</a>, <a href=\"#-0x781d8d73d530194_step4\">4</a></td><td><span style=\"font-size:20px;\"><a class=\"ProveItLink\" href=\"../__pv_it/theorems/e9f87a0977d5044ea8daf1040d2f219396bb3d5b0/expr.ipynb\"><img src=\"data:image/png;base64,iVBORw0KGgoAAAANSUhEUgAAADMAAAAQBAMAAABJt1qBAAAAMFBMVEX////MzMwyMjKqqqoiIiJm\n",
       "ZmaYmJju7u5EREQQEBC6urqIiIh2dnZUVFTc3NwAAAAqL9KcAAAAAXRSTlMAQObYZgAAAAlwSFlz\n",
       "AAAOxAAADsQBlSsOGwAAANFJREFUGNNjYMACalqU9slgk2DgvpnAHt+KVSp6DQMDG1YpxoB2IHkV\n",
       "RWyHi4sCkOItaACSZcgyi7ZDaA6+AKgI3519G8C0OlTgLeMBKGvlA47vIJrpAVRAhisBwmCfxsDq\n",
       "AJaCGfyUawOEwfqBgQVsgKQLEDSA7YIayNnAUL8AxKiA6eIAuxAI6jcw5IMZLDApLrC/uIBSBgyX\n",
       "mEEu4N4AD421QCIIqH0DsysrWEQZHoZNcewmQL+x3z74diNYpLarABbynV/iUANvTQs4oGAAAKqD\n",
       "MEJAsWyMAAAAAElFTkSuQmCC\n",
       "\" style=\"display:inline;vertical-align:middle;\" /></a>, <a class=\"ProveItLink\" href=\"../__pv_it/demonstrations/885cc228aa47f4d61d07e1691f08d60a4b0eb17d0/expr.ipynb\"><img src=\"data:image/png;base64,iVBORw0KGgoAAAANSUhEUgAAAD0AAAAQBAMAAABXfmoyAAAAMFBMVEX///+YmJjMzMzc3NyIiIhU\n",
       "VFR2dna6urqqqqpmZmYyMjIiIiIQEBBERETu7u4AAAD7tRWPAAAAAXRSTlMAQObYZgAAAAlwSFlz\n",
       "AAAOxAAADsQBlSsOGwAAAOBJREFUGNNjYEAHUmfvrz4rAOfy3dmApuCCKUOp7AM4l2sCurwZAy9T\n",
       "AIPuXSAwYGDgb8CU5zRYAOfWw4zy3b17AVz+Alw+G0pX+SH0s74LgMsvdYkAUczrkMzX7TKAu//X\n",
       "g/cgDhdc5ILN6t9+cO0c/xh4HEDySO4TfIVwLecCBv4EIK2zGwguQOR5HyLChzuBoR7kw7dI+pkm\n",
       "3IPzgN6fD/IhN7L/J9ki5BX4DoJoFgck+bcscAtYBXghAbwCLm/JwChwHe6/sIkQxtPrD2Dxd5nh\n",
       "7voGjIgtu717AYYgAGEMR51YMKm3AAAAAElFTkSuQmCC\n",
       "\" style=\"display:inline;vertical-align:middle;\" /></a> <a class=\"ProveItLink\" href=\"../__pv_it/demonstrations/1f711b22de80bee2c525fe510cf9b86b39c729790/proof.ipynb\" style=\"text-decoration: none\">&nbsp;&#x22A2;&nbsp;&nbsp;</a><a class=\"ProveItLink\" href=\"../__pv_it/demonstrations/801c213ea7ae044572a1bdf7835888dfe68ab2090/expr.ipynb\"><img src=\"data:image/png;base64,iVBORw0KGgoAAAANSUhEUgAAALwAAAAYBAMAAACy6opgAAAAMFBMVEX///8yMjKqqqoiIiJmZmaY\n",
       "mJju7u5EREQQEBBUVFTMzMyIiIi6urp2dnbc3NwAAABRd72LAAAAAXRSTlMAQObYZgAAAAlwSFlz\n",
       "AAAOxAAADsQBlSsOGwAAAldJREFUSMe9lcFr03AUx7/r0iRLY1vYQUTQ+AfIKnG42wpWBA8aDzJv\n",
       "xoMTD9KC4DyUCcqYoGDUgzCZy21HcxDFDWUHET2toDCQDSIOZg9DN6EXxfnrkqV5ry1DSv0dkl++\n",
       "+b1PXn7vmxegC2N2Yfu08hpdGfKSIY5JTy91h4+XFqC6+AO/E0r74BEP323cwnIneBZ8dvJm/6QV\n",
       "zM/7z2wMtsTLN3JMSRf2ulRZ/1RuwqNUxYcRuz67WobA322dfU+eCWvY85tmkMeA0Yxfh6I5YrI6\n",
       "hfrmbNIVevhmGYMJT4E7REltophthZf8LFAV9KC0ZEXCC86LNhPu25jx44p+D5kIn7pmHmngS7hy\n",
       "elv1dKc1/iMXHgEzLlGAASsM1vfbjez7Rh2MBlcrz+36ivT0G4/S9s0/BINhmCn64E5pv9ixzZk9\n",
       "5DNvvfeVGomVN+yiz/DaL4rXXk3t4A809v5b/88XzLryBKQciU3UoHoM3+vw94mck42V9tzFes8Z\n",
       "E8MP8dIP9FbETDLNodumKTBSFplKXBDjJMAUtRbgNaGYx0K8csli2aslFBdIauJpiwbNNenQYmsu\n",
       "lNDVcimWvZa/zvBFDxdorLD9GZviDyNNqpGpRXjk4r4/tcbxBh4kaKwr6kELWUGKPFB1os3BfBx/\n",
       "OWVRvOIljkqE1mcpeYr/WigcJ0rSavi+x4jwq+JGmTnnyefqHDXm9An2WQ1vbW1Q5W0hamny43dR\n",
       "xxzH2EGjXU+NfUVtBKqEwfpS2BR2adm6xe42CVRZ/tc/Qke/k/+Pn+sEv2vwX55C0DhJbM/NAAAA\n",
       "AElFTkSuQmCC\n",
       "\" style=\"display:inline;vertical-align:middle;\" /></a></span></td></tr>\n",
       "<tr><td>&nbsp;</td><td colspan=4 style=\"text-align:left\"><span style=\"font-size:20px;\"><a class=\"ProveItLink\" href=\"../../../__pv_it/common/c06c606ec12678c58933ac85412ecadc2ae28be60/expr.ipynb\"><img src=\"data:image/png;base64,iVBORw0KGgoAAAANSUhEUgAAAAsAAAAJBAMAAAAWSsseAAAAMFBMVEX////MzMwyMjKqqqoiIiJm\n",
       "ZmaYmJju7u5EREQQEBC6urqIiIh2dnZUVFTc3NwAAAAqL9KcAAAAAXRSTlMAQObYZgAAAAlwSFlz\n",
       "AAAOxAAADsQBlSsOGwAAAEdJREFUCNdjYOC7s28DAwPDygcc3xkY2KcxsDowMLB+YGA5wMDA2cBQ\n",
       "v4CBoX4DQz5QRb0BwyXmBwwcG5hdWYEqbx98u5EBABisEWzRR9jxAAAAAElFTkSuQmCC\n",
       "\" style=\"display:inline;vertical-align:middle;\" /></a> : <a class=\"ProveItLink\" href=\"../__pv_it/demonstrations/b8d5843210f4c2c14a6480606040ebf846edb0de0/expr.ipynb\"><img src=\"data:image/png;base64,iVBORw0KGgoAAAANSUhEUgAAAHUAAAAQBAMAAADaEy1mAAAAMFBMVEX////MzMwyMjKqqqoiIiJm\n",
       "ZmaYmJju7u5EREQQEBC6urqIiIh2dnZUVFTc3NwAAAAqL9KcAAAAAXRSTlMAQObYZgAAAAlwSFlz\n",
       "AAAOxAAADsQBlSsOGwAAAT5JREFUKM91kzFLw1AUhU9NY2otpc7OomN+gGCHOAhCQQx0zORqFkEH\n",
       "iYuzSxFExAwu3eIPUOvg5lCKuFRtBweXQm3AgIoxL3TwXNM33Xznnndv7nsP+L92GwKU7aWKIPd1\n",
       "H5lrQXy/ofTJZAdaSKDojINQgBfghMmNaYzIqwXjhEiAcxe9PpGmj2xvqSrAA9CrEEmiD/XbT9cB\n",
       "p051r0yRiRoEuVDdN/uFiAVv0fgRmbkv4Z1/ThoxjqFXWVhxcSq8+basq+asD5FvJbFuWWsNy1I5\n",
       "G8A3AaAOCKIGOHMAz+dN11EMucp0W0xvDjgy4QXYFkIIPWLvMsp8RrGbek10NBbesecQyLUw6xI5\n",
       "S3suBNqqznUfccjg1bY3mWyl52t0bweXLOzfOQxqcTwSV88Wb+HPVZgAMoh8CxMBk19VsmvtsBUy\n",
       "HwAAAABJRU5ErkJggg==\n",
       "\" style=\"display:inline;vertical-align:middle;\" /></a></span></td></tr><tr><td><a name=\"-0x781d8d73d530194_step3\">3</a></td><td>conjecture</td><td></td><td><span style=\"font-size:20px;\"> <a class=\"ProveItLink\" href=\"proofs/abs_complex_closure/thm_proof.ipynb\" style=\"text-decoration: none\">&nbsp;&#x22A2;&nbsp;&nbsp;</a><a class=\"ProveItLink\" href=\"../__pv_it/theorems/7766d7e541c55b09fa681415edf67c262db36e2c0/expr.ipynb\"><img src=\"data:image/png;base64,iVBORw0KGgoAAAANSUhEUgAAAJsAAAAaBAMAAABSozPCAAAAMFBMVEX///+IiIgiIiIQEBB2dnbu\n",
       "7u5ERETMzMzc3NwyMjK6urpmZmaYmJiqqqpUVFQAAAB6qHgnAAAAAXRSTlMAQObYZgAAAAlwSFlz\n",
       "AAAOxAAADsQBlSsOGwAAAqFJREFUSMellUtoE1EUhv885pFXE62PjQhGF4ILg4jWXbIR0QojFkGQ\n",
       "mIqZah8aULAomCnu24AoLqrMQhShaBB8oFJTNAuli+iqCxfpQkF8oIuICgXPzNxJZiaZTooH5ubO\n",
       "nZvv3nP+c+8B/s+EYf0nmEl3M/ut54yBMa2dwx1EPOfGyt4r+kap2Y24Iua8ph4FRLOvuE2KDkJs\n",
       "IFCjLXoYLRxUWX+/nXFV/rN5lPX7hAb8FfgloK4NfOhME1OuOPBiPfw1r/W4vSrhAgn4iPVMG7nR\n",
       "GRdJL4dLI3dZW3O2oDkbr4FrAPqISxDj6vK4pyH67/cCkwKYBkLkcLDWGVeU2nHrkslSE8eD+6JL\n",
       "tAr3qX1McawQ0kWJ1WjD3Vtr2d3HLDiJpfEjanvp2ZFM7nTBfWa4ycwEw4nXLM4KY46YPyD2EyDv\n",
       "gpMNXLgPZyUDF1JauD3bN0mO4FAYJyHWbVk+sjjBurcM3OEKHrLdhSxS9FcpiIJMdoqNTZEnvNQM\n",
       "j7BRVrkzSuwke99m4F4CWxjuXJIsx5zNzzu8OU6gWKK55HPabPAQ8Nq+u13g/jLcEWuiXOIdzk5p\n",
       "OVPSztrA3D74SGQcu9g6pwaO+4noD4bzW3GRcUe+FrXIHiS1uK3Cb2PphYXW508Gbgk9pQUD50tY\n",
       "cFxuQ7uyuEJKRMpCCjPaULXa+txrODuI9+Uyy7ubLVwZ87xqw73Smh7yOKDS+X1DItUu3LWvRrjs\n",
       "mvHFAsNlhyXzRvml8KeXbLjZpiYKX5XO6/lNUnBsNNDhzN4+YRyyTjZtdgJKcUbShRIPKMh0caN0\n",
       "MO1GMSz84l0/xCH98r8+UjDzMLUiXLTuKCOybI/ttxXh/Ip3rfCZW13vifOsFbGuqqdZCjwrWRd1\n",
       "1lIKSMl/8WimrxcgWasAAAAASUVORK5CYII=\n",
       "\" style=\"display:inline;vertical-align:middle;\" /></a></span></td></tr>\n",
       "<tr><td>&nbsp;</td><td colspan=4 style-\"text-align:left\"><a class=\"ProveItLink\" href=\"proofs/abs_complex_closure/thm_proof.ipynb\">proveit.numbers.absolute_value.abs_complex_closure</a></td></tr><tr><td><a name=\"-0x781d8d73d530194_step4\">4</a></td><td>instantiation</td><td><a href=\"#-0x781d8d73d530194_step5\">5</a>, <a href=\"#-0x781d8d73d530194_step6\">6</a>, <a href=\"#-0x781d8d73d530194_step7\">7</a>, <a href=\"#-0x781d8d73d530194_step8\">8</a>, <a href=\"#-0x781d8d73d530194_step9\">9</a>, <a href=\"#-0x781d8d73d530194_step10\">10</a>, <a href=\"#-0x781d8d73d530194_step11\">11</a></td><td><span style=\"font-size:20px;\"><a class=\"ProveItLink\" href=\"../__pv_it/theorems/e9f87a0977d5044ea8daf1040d2f219396bb3d5b0/expr.ipynb\"><img src=\"data:image/png;base64,iVBORw0KGgoAAAANSUhEUgAAADMAAAAQBAMAAABJt1qBAAAAMFBMVEX////MzMwyMjKqqqoiIiJm\n",
       "ZmaYmJju7u5EREQQEBC6urqIiIh2dnZUVFTc3NwAAAAqL9KcAAAAAXRSTlMAQObYZgAAAAlwSFlz\n",
       "AAAOxAAADsQBlSsOGwAAANFJREFUGNNjYMACalqU9slgk2DgvpnAHt+KVSp6DQMDG1YpxoB2IHkV\n",
       "RWyHi4sCkOItaACSZcgyi7ZDaA6+AKgI3519G8C0OlTgLeMBKGvlA47vIJrpAVRAhisBwmCfxsDq\n",
       "AJaCGfyUawOEwfqBgQVsgKQLEDSA7YIayNnAUL8AxKiA6eIAuxAI6jcw5IMZLDApLrC/uIBSBgyX\n",
       "mEEu4N4AD421QCIIqH0DsysrWEQZHoZNcewmQL+x3z74diNYpLarABbynV/iUANvTQs4oGAAAKqD\n",
       "MEJAsWyMAAAAAElFTkSuQmCC\n",
       "\" style=\"display:inline;vertical-align:middle;\" /></a>, <a class=\"ProveItLink\" href=\"../__pv_it/demonstrations/885cc228aa47f4d61d07e1691f08d60a4b0eb17d0/expr.ipynb\"><img src=\"data:image/png;base64,iVBORw0KGgoAAAANSUhEUgAAAD0AAAAQBAMAAABXfmoyAAAAMFBMVEX///+YmJjMzMzc3NyIiIhU\n",
       "VFR2dna6urqqqqpmZmYyMjIiIiIQEBBERETu7u4AAAD7tRWPAAAAAXRSTlMAQObYZgAAAAlwSFlz\n",
       "AAAOxAAADsQBlSsOGwAAAOBJREFUGNNjYEAHUmfvrz4rAOfy3dmApuCCKUOp7AM4l2sCurwZAy9T\n",
       "AIPuXSAwYGDgb8CU5zRYAOfWw4zy3b17AVz+Alw+G0pX+SH0s74LgMsvdYkAUczrkMzX7TKAu//X\n",
       "g/cgDhdc5ILN6t9+cO0c/xh4HEDySO4TfIVwLecCBv4EIK2zGwguQOR5HyLChzuBoR7kw7dI+pkm\n",
       "3IPzgN6fD/IhN7L/J9ki5BX4DoJoFgck+bcscAtYBXghAbwCLm/JwChwHe6/sIkQxtPrD2Dxd5nh\n",
       "7voGjIgtu717AYYgAGEMR51YMKm3AAAAAElFTkSuQmCC\n",
       "\" style=\"display:inline;vertical-align:middle;\" /></a> <a class=\"ProveItLink\" href=\"../__pv_it/demonstrations/45009a25d81e13c75b07456f90833f054be14e010/proof.ipynb\" style=\"text-decoration: none\">&nbsp;&#x22A2;&nbsp;&nbsp;</a><a class=\"ProveItLink\" href=\"../__pv_it/demonstrations/f6513f144444d84051c07b39987270fb275fb1d40/expr.ipynb\"><img src=\"data:image/png;base64,iVBORw0KGgoAAAANSUhEUgAAAKsAAAAVBAMAAADLBgMvAAAAMFBMVEX////MzMxUVFRERES6uroi\n",
       "IiIQEBCYmJhmZmYyMjLu7u52dnaqqqqIiIjc3NwAAACW8nlqAAAAAXRSTlMAQObYZgAAAAlwSFlz\n",
       "AAAOxAAADsQBlSsOGwAAAkVJREFUOMulVTtoFFEUPZuZ3ZlMZj8W2gRhERQlarYwQQV1ERQkSNKM\n",
       "WAgR8VNmO+2yEEJWJB+0EMViMIVCil0FK5tpLCTNiJ3gukQClikU2aCsd97MLN7rTOO+4r23Z949\n",
       "78y5d+4C6OD/R3ps3huA9vI/yMbEk/YorZsJp63JGYEUGo9KAnm7UEW+JkUeqlmrJ4lhLUnFcF0A\n",
       "XzHynSMvYf8Cnopzy1OAQbQmu0+PfhU9ARwHbnPki2d1gXucNVM/TfNhIMdg2w/XaVcAcy7GOwy5\n",
       "WAXR5qKDHx0neO0ht0LzC+B9Iu0bCRwExksMod1PcivUfulTCGmFyL0HgftjbZ+zPPx8FIIEsxK5\n",
       "QJQjZZW+2OKtTCvcPA7ep6Ptshir6zY7giTzW9DuP0DyDZXx4bh+R2PnrxHJHZgzLMbeRc4XtNmy\n",
       "VBtUgn1d0cbQNz16epOKYQfZQLvpOFduOQ6Fm2sotv4GaCwAAgnymNkJNvscGhXlbatPm6ugWWVS\n",
       "6JZpj2szyiKJe4BzHnSldj1Wq6lKCE1o+pjnMVS2qy6n3USBu91zA1pbuZft172qWx04Q7Qejtgs\n",
       "plgivxkJZTjPL7qhTDCUunzf7+XzNN0HXpNy375qMpahmlbntNuNxiJH7qq6NUMvn/V7wqkV6x3F\n",
       "7qVKOPZq6wMvsLEl4eRsr9fliN6gVoNsmJTnJ+LPcmPyx0pgSynpK0sHBLIdrVMTDutZRj2p1aQD\n",
       "AllK68RnB+jiKFTSnqwPQqul/usU/AFo2yn4H0dwoQGuQeS0AAAAAElFTkSuQmCC\n",
       "\" style=\"display:inline;vertical-align:middle;\" /></a></span></td></tr>\n",
       "<tr><td>&nbsp;</td><td colspan=4 style=\"text-align:left\"><span style=\"font-size:20px;\"><a class=\"ProveItLink\" href=\"../../../__pv_it/common/ae955345c83abf786c3aff8681cd5465beae262d0/expr.ipynb\"><img src=\"data:image/png;base64,iVBORw0KGgoAAAANSUhEUgAAAAcAAAAOBAMAAAARcxsoAAAALVBMVEX////c3NxUVFQyMjKqqqrM\n",
       "zMwQEBC6urqYmJju7u52dnYiIiJmZmaIiIgAAABgwC6IAAAAAXRSTlMAQObYZgAAAAlwSFlzAAAO\n",
       "xAAADsQBlSsOGwAAADpJREFUCNdjYGC4wwAEuxjQAeedBgYGLvYEBoYQHgMGhglsF4CCfhOAhBEn\n",
       "UPY5FwMD6wMJIFejgQEAGf4JG7xeJHMAAAAASUVORK5CYII=\n",
       "\" style=\"display:inline;vertical-align:middle;\" /></a> : <a class=\"ProveItLink\" href=\"../../numerals/__pv_it/common/48a1d915c1e9490b9a94e5c77a208938d3ee20ce0/expr.ipynb\"><img src=\"data:image/png;base64,iVBORw0KGgoAAAANSUhEUgAAAAoAAAAOBAMAAADkjZCYAAAAKlBMVEX///9EREQQEBC6urrc3Nx2\n",
       "dnYyMjKYmJiIiIhUVFQiIiJmZmbMzMwAAACZN6llAAAAAXRSTlMAQObYZgAAAAlwSFlzAAAOxAAA\n",
       "DsQBlSsOGwAAAD1JREFUCNdjYGBgOM0AAitBBAeYPJ4JIgNAJIcDiHRnAJEBIJLdAUR6MIBIy5kz\n",
       "L00FKdUEm3ARRGy8OwMA4YkNfGvwYbcAAAAASUVORK5CYII=\n",
       "\" style=\"display:inline;vertical-align:middle;\" /></a>, <a class=\"ProveItLink\" href=\"../../../__pv_it/common/c06c606ec12678c58933ac85412ecadc2ae28be60/expr.ipynb\"><img src=\"data:image/png;base64,iVBORw0KGgoAAAANSUhEUgAAAAsAAAAJBAMAAAAWSsseAAAAMFBMVEX////MzMwyMjKqqqoiIiJm\n",
       "ZmaYmJju7u5EREQQEBC6urqIiIh2dnZUVFTc3NwAAAAqL9KcAAAAAXRSTlMAQObYZgAAAAlwSFlz\n",
       "AAAOxAAADsQBlSsOGwAAAEdJREFUCNdjYOC7s28DAwPDygcc3xkY2KcxsDowMLB+YGA5wMDA2cBQ\n",
       "v4CBoX4DQz5QRb0BwyXmBwwcG5hdWYEqbx98u5EBABisEWzRR9jxAAAAAElFTkSuQmCC\n",
       "\" style=\"display:inline;vertical-align:middle;\" /></a> : <a class=\"ProveItLink\" href=\"../__pv_it/demonstrations/e0048a4f667ec7a135922d7887b6b3b4704c18700/expr.ipynb\"><img src=\"data:image/png;base64,iVBORw0KGgoAAAANSUhEUgAAAFAAAAAVBAMAAAAjqnRBAAAAMFBMVEX////MzMxUVFRERES6uroi\n",
       "IiIQEBCYmJhmZmYyMjLu7u52dnaqqqqIiIjc3NwAAACW8nlqAAAAAXRSTlMAQObYZgAAAAlwSFlz\n",
       "AAAOxAAADsQBlSsOGwAAAZ1JREFUKM+FkzFIAmEUx/+Wenp26tJaNkSTuTS0VFs0OhRBBQ5ZQ1AJ\n",
       "TW0HIVw4JDQUTYdBWyhNLoGLQQl5tDS0SNEUQUGLptn7vvu+o8vBG973u/f9773vve8dgAb6PmFm\n",
       "tEp/odciU/vrOd+QMYzjqE1v5SngEVDzrm9PxfqC0BcHVUe9gqCJQMYlbIt1EtjkoLVRzEPR4Xcf\n",
       "piVg10SCV+lNI0JJt3DrEoaSAsaBhDgk6pT0BDmGz9fvti8Yf3CakJJZlslckZRwB3MmdxbP1B+x\n",
       "7+mI9WGM7D7WyF5kkBVZTGwLoS8mQ1PVuEGa6AhYtX2HwLfYPnAO7qcKR7lwHardNNJ7RYMUEdAT\n",
       "xSC55llqtQPlQ7YxIBpUQ5i3J9LiwipmSNjGQP4erJxPdl4GnhI0U2V5Yzz1HtUNEld1XW0STWAa\n",
       "HF4NI8uuBEqG9zGHYfIWnkbiUSxRpEKZnAxS3W4TvhXaXDBoKLAIn+w/hsz/gDtnIJPsuuX19QBK\n",
       "EtjozMqXyx5QLThTR7MqX6we0JzQLFrY6v8raA38Ar3GaseLl9sVAAAAAElFTkSuQmCC\n",
       "\" style=\"display:inline;vertical-align:middle;\" /></a></span></td></tr><tr><td><a name=\"-0x781d8d73d530194_step5\">5</a></td><td>conjecture</td><td></td><td><span style=\"font-size:20px;\"> <a class=\"ProveItLink\" href=\"../../addition/_theory_nbs_/proofs/add_complex_closure/thm_proof.ipynb\" style=\"text-decoration: none\">&nbsp;&#x22A2;&nbsp;&nbsp;</a><a class=\"ProveItLink\" href=\"../../addition/__pv_it/theorems/2b0e4d9bb036ec8dea616e4327156d2a2172252a0/expr.ipynb\"><img src=\"data:image/png;base64,iVBORw0KGgoAAAANSUhEUgAAAaAAAAAWBAMAAAB0/FW2AAAAMFBMVEX///+IiIgiIiIQEBB2dnbu\n",
       "7u5ERETMzMzc3NwyMjK6urpmZmaYmJiqqqpUVFQAAAB6qHgnAAAAAXRSTlMAQObYZgAAAAlwSFlz\n",
       "AAAOxAAADsQBlSsOGwAABIRJREFUWMPNV11oHFUUPtnd+dmd3TgEG4tKCIPF1qAErVJKoZs+VKka\n",
       "phr6YttsSzuWFHVjhIpFO9U2PghxfbAIVhqxIGKEoQgBLZiiKVQf3KSFpKKSgBV8iw8VLUi895w7\n",
       "Pzs7187affDA2Zx7zs3M991755xzAaTSdS/cqrhC2yqyB+o3w7zjll/dUSdtr3zY5FG2b3jnzXLB\n",
       "RNBL3PNjMiF5LJ1cEdpe6ZiJe3q2wDN/eHA3gv6Ce95LJiSPpRKlRtpueTc2Nu4sA1z0IG9z0K/x\n",
       "01dJJiSPpRJjhjQmU8mzp2SPaQp8FxsfVRmTTg+KHgfNaeXqyYTksVSSFRqTueTZc7LHNAWyNv3t\n",
       "tizc/2sqPw5s5R7moIvMyEuSgjyWSq4KbTehPO36J2vEuPKWME5jJnvQsjbKspw0lko+F6r/stZM\n",
       "AChxSwlNDBwnI4fJSvc/JX3pJWENIuhpgINsx9wkQhT7r3Ja6Eeuej0BoMQtI1TYBC/YiLOIBy3v\n",
       "I9bK/ld2CUFPMIqMNS2W3rcDvl4KCFGstaR6eFksJNxPqmwBoxeUSzGA5B4avJaS0NMzcI5wlvqR\n",
       "UFBQPb8yXUbQqp2bpPHoryPwc8427IBQGEsjWo8zqTzvlg6I8WZSYwUyZRjtQt85y3rIsh4A3+1x\n",
       "lFF3TMLAVwD3iPes8N8xiwmm4MoJMfkYgi6Zgqsxzcuo6eXCIxfEUsmXVbaCOwG+aSSUrcAwW5b5\n",
       "2IqT+wa8XU23Q4+AckMcPtyhXcGEg6p/iKm9qV1gc3oACy0s/HA8QghjMHThMf9/I2YowokVfPcr\n",
       "1FRFjtywCd9DMyFyz6YlpPwOxRXECaVe7sgEEz7ldQhozTjoJ1m62HmbreD2LeT2nI0Q4jFlvfan\n",
       "X/tDM9IQCCcu2eJiGNhHOlyH30puMyFyw7Z035DyN3TWFhlOlhQQaYcZdgrsQzdYprhIoN9gw5Pz\n",
       "UMDsvgBed4QQjxme1g86Zjs0P7ur8btCJ1Soos/OhoFBUtUs9RnNOyTc2rpYrviLk60JIxLYB/Oe\n",
       "d5I/xSij44PgRd3vu3v6qEZw0J1VnF485TjPMUJD+QghHstOdizBq/heNPuVlcbCzZ08aTqOUz/y\n",
       "cRh4kVRZfnTijmZCwj1ux3aII8t4wogE9t7+8nIVdz1DC7p3xA667a19PInfF14RlOtVrUw7VJiL\n",
       "XR+GXXXWhnWB6Wr9DYTQecUELG88KSgikKmSkswnFhzd090WOgWGE+B1MTi732poffXeEHSp5lEJ\n",
       "/ZY14zFCWffYFBIaEqY6yUyl7P+g8ycP8NPUH3dhQPwjbxa5xgg1NJvjR47aLTSnHCec/5dmONih\n",
       "ZRfGGXltgwudMUKF83NPACc0VidzmpvaJhhz+Q851Sroz2LKO3U42JRDQrmcODOQBGLr6mpLNxKG\n",
       "U9r/j8dupcp2Z0R+Y+VHjhrvnG36JgTOp0qMi+M0potdDeWiXaLK7uCHbnLN3ha9n49urEOBDseZ\n",
       "1V7f5PtHlrom6ZZvkrZX1sqaLka0a3MrTyommUX4f8k/0I1KBZNcA+UAAAAASUVORK5CYII=\n",
       "\" style=\"display:inline;vertical-align:middle;\" /></a></span></td></tr>\n",
       "<tr><td>&nbsp;</td><td colspan=4 style-\"text-align:left\"><a class=\"ProveItLink\" href=\"../../addition/_theory_nbs_/proofs/add_complex_closure/thm_proof.ipynb\">proveit.numbers.addition.add_complex_closure</a></td></tr><tr><td><a name=\"-0x781d8d73d530194_step6\">6</a></td><td>conjecture</td><td></td><td><span style=\"font-size:20px;\"> <a class=\"ProveItLink\" href=\"../../numerals/decimals/_theory_nbs_/proofs/nat4/thm_proof.ipynb\" style=\"text-decoration: none\">&nbsp;&#x22A2;&nbsp;&nbsp;</a><a class=\"ProveItLink\" href=\"../../numerals/decimals/__pv_it/theorems/5cf9097f623478f61147fb5f5c8bbd61d83cfe3a0/expr.ipynb\"><img src=\"data:image/png;base64,iVBORw0KGgoAAAANSUhEUgAAADMAAAAQBAMAAABJt1qBAAAAMFBMVEX///+qqqru7u5EREQQEBC6\n",
       "urrc3Nx2dnYyMjKYmJiIiIhUVFQiIiJmZmbMzMwAAABQcPw9AAAAAXRSTlMAQObYZgAAAAlwSFlz\n",
       "AAAOxAAADsQBlSsOGwAAANhJREFUGNNjYMAAOp8tFBhKvgSA2G/R5AxZNzAwfQAzT6NJ7UmoZGBw\n",
       "ALG40KU2GnAkMBwAsV52Q0S4bM6cADO2zWJrgEgVQKRYuxSgurZxP1gOluJKgEhlwGQYtjEYMAeA\n",
       "pDIZIFJtDAipt0yHQFIFUKkGJClOAWGgCzkTIFJ8PmfOnDkMlWLYxA2UymKASDEZIOli0GYCGhi9\n",
       "e/eX7SCBA8hSfAsgKr3B5Cq4lB0Qr4NIfQaTHAIwqUYg5gW76vL/XWDLNgdBZF58AepgakAOOtZi\n",
       "aEBBAQCwrzvWHaMaBgAAAABJRU5ErkJggg==\n",
       "\" style=\"display:inline;vertical-align:middle;\" /></a></span></td></tr>\n",
       "<tr><td>&nbsp;</td><td colspan=4 style-\"text-align:left\"><a class=\"ProveItLink\" href=\"../../numerals/decimals/_theory_nbs_/proofs/nat4/thm_proof.ipynb\">proveit.numbers.numerals.decimals.nat4</a></td></tr><tr><td><a name=\"-0x781d8d73d530194_step7\">7</a></td><td>instantiation</td><td><a href=\"#-0x781d8d73d530194_step12\">12</a></td><td><span style=\"font-size:20px;\"> <a class=\"ProveItLink\" href=\"../__pv_it/demonstrations/e0bd06b6f3452ccf6978ae2373b493358d802bd10/proof.ipynb\" style=\"text-decoration: none\">&nbsp;&#x22A2;&nbsp;&nbsp;</a><a class=\"ProveItLink\" href=\"../__pv_it/demonstrations/b1afc536e21203dfe4bc19a8314a775327ce18c50/expr.ipynb\"><img src=\"data:image/png;base64,iVBORw0KGgoAAAANSUhEUgAAAPgAAAAVBAMAAACZJT5kAAAAMFBMVEX///8AAAAAAAAAAAAAAAAA\n",
       "AAAAAAAAAAAAAAAAAAAAAAAAAAAAAAAAAAAAAAAAAAAv3aB7AAAAD3RSTlMAIolEdjJUEM2ZZu/d\n",
       "u6v6CvZmAAAACXBIWXMAAA7EAAAOxAGVKw4bAAADD0lEQVRIx5WWTUhUURTH//P5nJnnMEGbQmOo\n",
       "Nm1yFu2MmAILWqRFLQpBc1OQ0Fu0KEKdnSRk0soRpVlmUEwUtOjDwagQREewRSst3BQxaukoRbzu\n",
       "53v3zXhHvTDv/b33nPt799xz7hUJ0ObD9k1jmfC8dtR80uUQe5/egcsx9vSnKrr5BMHOXcADaeHJ\n",
       "fMNJZajnjVT7hj+LTz04lkIwVwPeRX7tlrDO3m+rgb4MnFXhtz2j92R0imjiqDsIl4F+PdzIwPj+\n",
       "QMAb4f9dAz4D1FkKfMQzWhbveAKxPFOtncYmMK6HR2hUWgX8K/Bazw4SeHRIgec9O7IhRGwD8VWm\n",
       "mlMg8JilhcegwCcsLOvz78ogebxy4eGMOuovyJUXEF8XOvyHBCunhV9X4T+BZf2mJyl8wIVHaL4d\n",
       "OLyXj9YtnXNS11wR4jgB+xe18IcqnLRZfdQTFH7UhdMlBZ5jgTv39Rur0rSDFwUulshSohkHPjpN\n",
       "24wDH/DCQ2ta+H5Q+GMXbpKV3s1hlA/ftPBSyUwRdpKF4bx25R+9cHNRH3UGv+HCY2TCR8AkHx4G\n",
       "fgnLSNFxIlkUWtHCX3jhY1p2NMHgHV74WxiiOCcRkMX2TLwvAQudCOR3CI/qF07yisKbPWE31hBd\n",
       "kWUeEcVGDr49TNgWhYcL2j33hr0LPl2pnSiV/n4Dul14fRpGGfHMVVD3dbr/bJ4LwBmm3rGwR4va\n",
       "lc9LOLUOJRG0jGqw6CKT4akLpzU0j+6hIXqO4Qe+gAnfVDZbYOoJq3NWkVvDWek0JbhfQzY7ij5a\n",
       "GvTBupy/SPsnS5PDQySevafOL7Vhmnx57xFSeVSYtm1nmApkycUCM6WFt5NfaWIwx6xnbXsT5ie6\n",
       "n/QYnZKCdWHMXgLeK8frB6eirEqhqAb92W62VVlfq4670+UrKPBx52itEooa0cP5TeGxTm5V47KE\n",
       "cwq8XibnLVQKV/mKNe7zuUprI12dcE5Xo3qfG/IwcYZdV0fxL9TAeyqtg1sc646aE54tsva3bSf5\n",
       "DJX3FZ/Al97Fv1FBHuiW//PY05o0C24fAAAAAElFTkSuQmCC\n",
       "\" style=\"display:inline;vertical-align:middle;\" /></a></span></td></tr>\n",
       "<tr><td>&nbsp;</td><td colspan=4 style=\"text-align:left\"><span style=\"font-size:20px;\"><a class=\"ProveItLink\" href=\"../../../__pv_it/common/c06c606ec12678c58933ac85412ecadc2ae28be60/expr.ipynb\"><img src=\"data:image/png;base64,iVBORw0KGgoAAAANSUhEUgAAAAsAAAAJBAMAAAAWSsseAAAAMFBMVEX////MzMwyMjKqqqoiIiJm\n",
       "ZmaYmJju7u5EREQQEBC6urqIiIh2dnZUVFTc3NwAAAAqL9KcAAAAAXRSTlMAQObYZgAAAAlwSFlz\n",
       "AAAOxAAADsQBlSsOGwAAAEdJREFUCNdjYOC7s28DAwPDygcc3xkY2KcxsDowMLB+YGA5wMDA2cBQ\n",
       "v4CBoX4DQz5QRb0BwyXmBwwcG5hdWYEqbx98u5EBABisEWzRR9jxAAAAAElFTkSuQmCC\n",
       "\" style=\"display:inline;vertical-align:middle;\" /></a> : <a class=\"ProveItLink\" href=\"../../../__pv_it/common/c06c606ec12678c58933ac85412ecadc2ae28be60/expr.ipynb\"><img src=\"data:image/png;base64,iVBORw0KGgoAAAANSUhEUgAAAAsAAAAJBAMAAAAWSsseAAAAMFBMVEX////MzMwyMjKqqqoiIiJm\n",
       "ZmaYmJju7u5EREQQEBC6urqIiIh2dnZUVFTc3NwAAAAqL9KcAAAAAXRSTlMAQObYZgAAAAlwSFlz\n",
       "AAAOxAAADsQBlSsOGwAAAEdJREFUCNdjYOC7s28DAwPDygcc3xkY2KcxsDowMLB+YGA5wMDA2cBQ\n",
       "v4CBoX4DQz5QRb0BwyXmBwwcG5hdWYEqbx98u5EBABisEWzRR9jxAAAAAElFTkSuQmCC\n",
       "\" style=\"display:inline;vertical-align:middle;\" /></a>, <a class=\"ProveItLink\" href=\"../../../__pv_it/common/195236b98c6c564a75b5dbada74b173bc52d5c3e0/expr.ipynb\"><img src=\"data:image/png;base64,iVBORw0KGgoAAAANSUhEUgAAAAkAAAAOBAMAAAAPuiubAAAAMFBMVEX///+YmJjMzMzc3NyIiIhU\n",
       "VFR2dna6urqqqqpmZmYyMjIiIiIQEBBERETu7u4AAAD7tRWPAAAAAXRSTlMAQObYZgAAAAlwSFlz\n",
       "AAAOxAAADsQBlSsOGwAAAFBJREFUCNdj4LuzgQEIuCaASP4GEFn/AERmgwiGpS4RDAx8vx68N2Dg\n",
       "+MfA48DAuYCBP4GBO4GhvgGkfP4DBn4FvoMMDKwCvEAj+MImMjAAAMxHEV3T4g9SAAAAAElFTkSu\n",
       "QmCC\n",
       "\" style=\"display:inline;vertical-align:middle;\" /></a> : <a class=\"ProveItLink\" href=\"../../../__pv_it/common/195236b98c6c564a75b5dbada74b173bc52d5c3e0/expr.ipynb\"><img src=\"data:image/png;base64,iVBORw0KGgoAAAANSUhEUgAAAAkAAAAOBAMAAAAPuiubAAAAMFBMVEX///+YmJjMzMzc3NyIiIhU\n",
       "VFR2dna6urqqqqpmZmYyMjIiIiIQEBBERETu7u4AAAD7tRWPAAAAAXRSTlMAQObYZgAAAAlwSFlz\n",
       "AAAOxAAADsQBlSsOGwAAAFBJREFUCNdj4LuzgQEIuCaASP4GEFn/AERmgwiGpS4RDAx8vx68N2Dg\n",
       "+MfA48DAuYCBP4GBO4GhvgGkfP4DBn4FvoMMDKwCvEAj+MImMjAAAMxHEV3T4g9SAAAAAElFTkSu\n",
       "QmCC\n",
       "\" style=\"display:inline;vertical-align:middle;\" /></a>, <a class=\"ProveItLink\" href=\"../../../__pv_it/common/ceef4280a2f1cc604b455b54e735507244cc62cd0/expr.ipynb\"><img src=\"data:image/png;base64,iVBORw0KGgoAAAANSUhEUgAAAAkAAAAJBAMAAAASvxsjAAAAKlBMVEX///+6urru7u4QEBBERERm\n",
       "ZmaqqqoiIiLc3NzMzMyYmJiIiIh2dnYAAAD4G3PmAAAAAXRSTlMAQObYZgAAAAlwSFlzAAAOxAAA\n",
       "DsQBlSsOGwAAADdJREFUCNdjYGA4vWsCA0N7AqsDA0MNA/MGBtZLDEDA7AAidTeASN4FDAwCDEAF\n",
       "PECVZ1ZtYgAAGvUKLuGCIxMAAAAASUVORK5CYII=\n",
       "\" style=\"display:inline;vertical-align:middle;\" /></a> : <a class=\"ProveItLink\" href=\"../../numerals/__pv_it/common/af4aab8a07465db063742696e006d04670f30cf10/expr.ipynb\"><img src=\"data:image/png;base64,iVBORw0KGgoAAAANSUhEUgAAAAkAAAAOBAMAAAAPuiubAAAAMFBMVEX///+qqqqYmJiIiIgiIiLu\n",
       "7u4QEBBUVFS6urp2dnbMzMxEREQyMjJmZmbc3NwAAADzFso2AAAAAXRSTlMAQObYZgAAAAlwSFlz\n",
       "AAAOxAAADsQBlSsOGwAAAE9JREFUCNdj4Lt7egEDw2sGzh8MDHUMDGkMDPkBDPUPGEoYGOqBEgwM\n",
       "/iCC6zOIZCkAkbdBBBOYKcnA94CBawIDcwDDk7t3rwAV////hwEAK9UUlDYDfx8AAAAASUVORK5C\n",
       "YII=\n",
       "\" style=\"display:inline;vertical-align:middle;\" /></a>, <a class=\"ProveItLink\" href=\"../../../__pv_it/common/4f5c524ffda87296de1c79b96880123fe2efedd50/expr.ipynb\"><img src=\"data:image/png;base64,iVBORw0KGgoAAAANSUhEUgAAAAsAAAAOBAMAAAALT/umAAAAMFBMVEX///+YmJhERESIiIhUVFTc\n",
       "3NwiIiJ2dnbu7u66urqqqqpmZmYQEBAyMjLMzMwAAAA7oY0NAAAAAXRSTlMAQObYZgAAAAlwSFlz\n",
       "AAAOxAAADsQBlSsOGwAAAFpJREFUCNdjYGBg4LuzgQEE+BeAqfkNYKoMTDLcBmJWd7tfQGpOANMP\n",
       "BgaOgwzcFxgYuD8wsBUwMPAoMPRPYGDoN2CQB6roX8DgyxXAwGTAlc0NVOlcF2LHAAArbBFFIDx4\n",
       "twAAAABJRU5ErkJggg==\n",
       "\" style=\"display:inline;vertical-align:middle;\" /></a> : <a class=\"ProveItLink\" href=\"../../numerals/__pv_it/common/1943b60945420e340d305780feff5c1aff2740ff0/expr.ipynb\"><img src=\"data:image/png;base64,iVBORw0KGgoAAAANSUhEUgAAAAoAAAAOBAMAAADkjZCYAAAAMFBMVEX///9UVFTMzMwiIiKYmJgQ\n",
       "EBAyMjKIiIiqqqru7u66urpERERmZmZ2dnbc3NwAAABametFAAAAAXRSTlMAQObYZgAAAAlwSFlz\n",
       "AAAOxAAADsQBlSsOGwAAAExJREFUCNdjYHh7ZxcDA+cBhv4GBvYfDPMTGLiiGPgTGICg3wFIcJkA\n",
       "CaZCIQawSAOIZP3JwKTAwP2Dgf8niGQVAImwOIDVrzmziwEADhoSVJBN9+MAAAAASUVORK5CYII=\n",
       "\" style=\"display:inline;vertical-align:middle;\" /></a></span></td></tr><tr><td><a name=\"-0x781d8d73d530194_step8\">8</a></td><td>assumption</td><td></td><td><span style=\"font-size:20px;\"><a class=\"ProveItLink\" href=\"../__pv_it/theorems/e9f87a0977d5044ea8daf1040d2f219396bb3d5b0/expr.ipynb\"><img src=\"data:image/png;base64,iVBORw0KGgoAAAANSUhEUgAAADMAAAAQBAMAAABJt1qBAAAAMFBMVEX////MzMwyMjKqqqoiIiJm\n",
       "ZmaYmJju7u5EREQQEBC6urqIiIh2dnZUVFTc3NwAAAAqL9KcAAAAAXRSTlMAQObYZgAAAAlwSFlz\n",
       "AAAOxAAADsQBlSsOGwAAANFJREFUGNNjYMACalqU9slgk2DgvpnAHt+KVSp6DQMDG1YpxoB2IHkV\n",
       "RWyHi4sCkOItaACSZcgyi7ZDaA6+AKgI3519G8C0OlTgLeMBKGvlA47vIJrpAVRAhisBwmCfxsDq\n",
       "AJaCGfyUawOEwfqBgQVsgKQLEDSA7YIayNnAUL8AxKiA6eIAuxAI6jcw5IMZLDApLrC/uIBSBgyX\n",
       "mEEu4N4AD421QCIIqH0DsysrWEQZHoZNcewmQL+x3z74diNYpLarABbynV/iUANvTQs4oGAAAKqD\n",
       "MEJAsWyMAAAAAElFTkSuQmCC\n",
       "\" style=\"display:inline;vertical-align:middle;\" /></a> <a class=\"ProveItLink\" href=\"../__pv_it/demonstrations/ad266309ae4de20a5c15077d716881c3932eebb40/proof.ipynb\" style=\"text-decoration: none\">&nbsp;&#x22A2;&nbsp;&nbsp;</a><a class=\"ProveItLink\" href=\"../__pv_it/theorems/e9f87a0977d5044ea8daf1040d2f219396bb3d5b0/expr.ipynb\"><img src=\"data:image/png;base64,iVBORw0KGgoAAAANSUhEUgAAADMAAAAQBAMAAABJt1qBAAAAMFBMVEX////MzMwyMjKqqqoiIiJm\n",
       "ZmaYmJju7u5EREQQEBC6urqIiIh2dnZUVFTc3NwAAAAqL9KcAAAAAXRSTlMAQObYZgAAAAlwSFlz\n",
       "AAAOxAAADsQBlSsOGwAAANFJREFUGNNjYMACalqU9slgk2DgvpnAHt+KVSp6DQMDG1YpxoB2IHkV\n",
       "RWyHi4sCkOItaACSZcgyi7ZDaA6+AKgI3519G8C0OlTgLeMBKGvlA47vIJrpAVRAhisBwmCfxsDq\n",
       "AJaCGfyUawOEwfqBgQVsgKQLEDSA7YIayNnAUL8AxKiA6eIAuxAI6jcw5IMZLDApLrC/uIBSBgyX\n",
       "mEEu4N4AD421QCIIqH0DsysrWEQZHoZNcewmQL+x3z74diNYpLarABbynV/iUANvTQs4oGAAAKqD\n",
       "MEJAsWyMAAAAAElFTkSuQmCC\n",
       "\" style=\"display:inline;vertical-align:middle;\" /></a></span></td></tr>\n",
       "<tr><td><a name=\"-0x781d8d73d530194_step9\">9</a></td><td>instantiation</td><td><a href=\"#-0x781d8d73d530194_step26\">26</a>, <a href=\"#-0x781d8d73d530194_step15\">15</a>, <a href=\"#-0x781d8d73d530194_step13\">13</a></td><td><span style=\"font-size:20px;\"><a class=\"ProveItLink\" href=\"../__pv_it/demonstrations/885cc228aa47f4d61d07e1691f08d60a4b0eb17d0/expr.ipynb\"><img src=\"data:image/png;base64,iVBORw0KGgoAAAANSUhEUgAAAD0AAAAQBAMAAABXfmoyAAAAMFBMVEX///+YmJjMzMzc3NyIiIhU\n",
       "VFR2dna6urqqqqpmZmYyMjIiIiIQEBBERETu7u4AAAD7tRWPAAAAAXRSTlMAQObYZgAAAAlwSFlz\n",
       "AAAOxAAADsQBlSsOGwAAAOBJREFUGNNjYEAHUmfvrz4rAOfy3dmApuCCKUOp7AM4l2sCurwZAy9T\n",
       "AIPuXSAwYGDgb8CU5zRYAOfWw4zy3b17AVz+Alw+G0pX+SH0s74LgMsvdYkAUczrkMzX7TKAu//X\n",
       "g/cgDhdc5ILN6t9+cO0c/xh4HEDySO4TfIVwLecCBv4EIK2zGwguQOR5HyLChzuBoR7kw7dI+pkm\n",
       "3IPzgN6fD/IhN7L/J9ki5BX4DoJoFgck+bcscAtYBXghAbwCLm/JwChwHe6/sIkQxtPrD2Dxd5nh\n",
       "7voGjIgtu717AYYgAGEMR51YMKm3AAAAAElFTkSuQmCC\n",
       "\" style=\"display:inline;vertical-align:middle;\" /></a> <a class=\"ProveItLink\" href=\"../__pv_it/demonstrations/89b00c1e74c7145c8d126dbab80d9e0530c1ceb60/proof.ipynb\" style=\"text-decoration: none\">&nbsp;&#x22A2;&nbsp;&nbsp;</a><a class=\"ProveItLink\" href=\"../__pv_it/theorems/a259ec76dfb0a5be60b7c83d797520fa82c1dba60/expr.ipynb\"><img src=\"data:image/png;base64,iVBORw0KGgoAAAANSUhEUgAAADEAAAAQBAMAAABNQoq8AAAAMFBMVEX///+YmJjMzMzc3NyIiIhU\n",
       "VFR2dna6urqqqqpmZmYyMjIiIiIQEBBERETu7u4AAAD7tRWPAAAAAXRSTlMAQObYZgAAAAlwSFlz\n",
       "AAAOxAAADsQBlSsOGwAAANtJREFUGNNjYMAEz26vclZjYOC7swFNgiVGgG/+TSCDawKazJQyBgZG\n",
       "kAx/A6oE04R7QDISiOsfQIV8d+9eAKRYH1wAkg+BOBsqUeUHoXmZYcYvdYkAUczroHxTpgQIg+/X\n",
       "g/cGIIcYQGXU2AUgDI5/DDwOIBmYCyzZHSAMzgUM/CDtOruB4ALYHqhp3AkM9SB3v4Xp4QW7DeKd\n",
       "+SB3c8Nk2MH+YQfKKPAdBIeJAzwMSoHELKDHBHgh7l8BD7dbk/m6gWJ8YRMhAk+vwwLj2Z3fk1EC\n",
       "rOw2OHRgAAASXDjITT81JQAAAABJRU5ErkJggg==\n",
       "\" style=\"display:inline;vertical-align:middle;\" /></a></span></td></tr>\n",
       "<tr><td>&nbsp;</td><td colspan=4 style=\"text-align:left\"><span style=\"font-size:20px;\"><a class=\"ProveItLink\" href=\"../../../__pv_it/common/09585084922504426caf1db2ff588a23a0932a960/expr.ipynb\"><img src=\"data:image/png;base64,iVBORw0KGgoAAAANSUhEUgAAAA8AAAAPBAMAAADJ+Ih5AAAAMFBMVEX///8QEBAiIiLu7u5ERES6\n",
       "urqYmJiIiIjMzMx2dnZUVFRmZmaqqqoyMjLc3NwAAABb1yYoAAAAAXRSTlMAQObYZgAAAAlwSFlz\n",
       "AAAOxAAADsQBlSsOGwAAAF9JREFUCNdjYACBtwxQcB9K8/yHMrjXP4Aw5s1vANN8BfUHIDIM5xPA\n",
       "jBiG/glgxgaG9wtANLv37vUOIIY5AwO/AkSGgUkASLMCdfB+ADIeAjHLPwYGk/+XGXj8/04AADnq\n",
       "Fzds8Dk2AAAAAElFTkSuQmCC\n",
       "\" style=\"display:inline;vertical-align:middle;\" /></a> : <a class=\"ProveItLink\" href=\"../../number_sets/real_numbers/__pv_it/common/93cac87a1a47e613f7a83b23ef7891599a1a4cca0/expr.ipynb\"><img src=\"data:image/png;base64,iVBORw0KGgoAAAANSUhEUgAAAA8AAAAPBAMAAADJ+Ih5AAAAMFBMVEX///+IiIiqqqpmZmbMzMx2\n",
       "dnbu7u66urpUVFTc3NwiIiJEREQQEBAyMjKYmJgAAAA9S0TaAAAAAXRSTlMAQObYZgAAAAlwSFlz\n",
       "AAAOxAAADsQBlSsOGwAAAGFJREFUCNdjeHt6/63TDxiAYMMMhorXCSDGVAZulgYIg3nCBRhjA4TB\n",
       "kQaV8tadAGLMufVLDKx96rtcBgiDOw9i4FQWg20QBoPJbCgjmxEkt2EyA9+D7QwMQNt3Muy+rwAA\n",
       "UbUqpptLVNkAAAAASUVORK5CYII=\n",
       "\" style=\"display:inline;vertical-align:middle;\" /></a>, <a class=\"ProveItLink\" href=\"../../../__pv_it/common/a9162d1c3cc0470c02e5daf414500903a7a419230/expr.ipynb\"><img src=\"data:image/png;base64,iVBORw0KGgoAAAANSUhEUgAAABAAAAAOBAMAAADUAYG5AAAAMFBMVEX///92dnaqqqoiIiLu7u5m\n",
       "Zma6urqIiIjc3NwQEBDMzMwyMjJUVFRERESYmJgAAAAeMT9/AAAAAXRSTlMAQObYZgAAAAlwSFlz\n",
       "AAAOxAAADsQBlSsOGwAAAHJJREFUCNdjYGB4+//Mmb0LGIBgLgMDzy8gzfGdgYHtK5DBB+TxATkM\n",
       "PB8YGLhnABmcFxhYDoMUr79efvoBSFN9AwPTPBDjJhDLg6T+APH7AgYGrn9AxvkEBgb2H0DObyCH\n",
       "ewIDQ+YWoHH3/5w5fYmBAQBWoiHo17XzsQAAAABJRU5ErkJggg==\n",
       "\" style=\"display:inline;vertical-align:middle;\" /></a> : <a class=\"ProveItLink\" href=\"../../number_sets/complex_numbers/__pv_it/common/d18a028138f659eda00de597c28a3447fe87eb100/expr.ipynb\"><img src=\"data:image/png;base64,iVBORw0KGgoAAAANSUhEUgAAAA8AAAAPBAMAAADJ+Ih5AAAAMFBMVEX///+qqqq6urpmZmaYmJgQ\n",
       "EBBUVFTMzMzc3NyIiIgyMjIiIiJERER2dnbu7u4AAADcB0J/AAAAAXRSTlMAQObYZgAAAAlwSFlz\n",
       "AAAOxAAADsQBlSsOGwAAAGdJREFUCNdjYGB4e3rVjFoGBgbOVAc++8NAhqUuAwMLkMFucA7IS2Zg\n",
       "YHtwAMh4wsDAw2HAAAZt7BcgjFomBwijmWkChMHDAZXiAesCAiawOUwgk9WAhBXIrlMWfNJgs94e\n",
       "/W3BwAAAW48WPnJ4qt0AAAAASUVORK5CYII=\n",
       "\" style=\"display:inline;vertical-align:middle;\" /></a>, <a class=\"ProveItLink\" href=\"../../../__pv_it/common/a0d9d672aa5e272d907247690c152cc2c6daafb70/expr.ipynb\"><img src=\"data:image/png;base64,iVBORw0KGgoAAAANSUhEUgAAAAsAAAAJBAMAAAAWSsseAAAAMFBMVEX///9ERES6uroQEBAyMjLc\n",
       "3NyYmJgiIiJmZmaqqqp2dnbMzMxUVFSIiIju7u4AAAAd7oVFAAAAAXRSTlMAQObYZgAAAAlwSFlz\n",
       "AAAOxAAADsQBlSsOGwAAAENJREFUCNdjYHh75/WqCQwMDbxnOQoY2ALY/vEkMHAzcDgwgADzBTCl\n",
       "H8D3gOGhwmEGLgaG+fuaGTQZGF7c5WybwAAAJTwQ1a2DuB8AAAAASUVORK5CYII=\n",
       "\" style=\"display:inline;vertical-align:middle;\" /></a> : <a class=\"ProveItLink\" href=\"../../../__pv_it/common/195236b98c6c564a75b5dbada74b173bc52d5c3e0/expr.ipynb\"><img src=\"data:image/png;base64,iVBORw0KGgoAAAANSUhEUgAAAAkAAAAOBAMAAAAPuiubAAAAMFBMVEX///+YmJjMzMzc3NyIiIhU\n",
       "VFR2dna6urqqqqpmZmYyMjIiIiIQEBBERETu7u4AAAD7tRWPAAAAAXRSTlMAQObYZgAAAAlwSFlz\n",
       "AAAOxAAADsQBlSsOGwAAAFBJREFUCNdj4LuzgQEIuCaASP4GEFn/AERmgwiGpS4RDAx8vx68N2Dg\n",
       "+MfA48DAuYCBP4GBO4GhvgGkfP4DBn4FvoMMDKwCvEAj+MImMjAAAMxHEV3T4g9SAAAAAElFTkSu\n",
       "QmCC\n",
       "\" style=\"display:inline;vertical-align:middle;\" /></a></span></td></tr><tr><td><a name=\"-0x781d8d73d530194_step10\">10</a></td><td>instantiation</td><td><a href=\"#-0x781d8d73d530194_step26\">26</a>, <a href=\"#-0x781d8d73d530194_step15\">15</a>, <a href=\"#-0x781d8d73d530194_step14\">14</a></td><td><span style=\"font-size:20px;\"> <a class=\"ProveItLink\" href=\"../__pv_it/demonstrations/aad2ff8ce4765e98e89cbc7d3607ca96dbd9edfe0/proof.ipynb\" style=\"text-decoration: none\">&nbsp;&#x22A2;&nbsp;&nbsp;</a><a class=\"ProveItLink\" href=\"../__pv_it/demonstrations/2c4bd2670ea1c897df5369ee136bb00ac765f0ee0/expr.ipynb\"><img src=\"data:image/png;base64,iVBORw0KGgoAAAANSUhEUgAAADIAAAAQBAMAAACmdTG/AAAAMFBMVEX///+qqqqYmJiIiIgiIiLu\n",
       "7u4QEBBUVFS6urp2dnbMzMxEREQyMjJmZmbc3NwAAADzFso2AAAAAXRSTlMAQObYZgAAAAlwSFlz\n",
       "AAAOxAAADsQBlSsOGwAAANxJREFUGNNjYMAErLN9Dr+awMB39/QCNBnzJIbY3xcYXjNw/kCV4LWY\n",
       "wMCgfYGhjoEhDVVmLXcAAwP7BYb8AIb6B2ARaxeXAyC6lBtklwJDCQNDPdiiHlOong1v4dr9QQTf\n",
       "USiPr2AlTILrM4jkeQDjTmiCybAUgGVgXL4LzTDmbTC5zAUINoDteQmVYAJrYYiGW7uVG8qQZOAD\n",
       "WcECl+kF+YehAWghAzOIxWyACAOgKbwHGJ7cvXsFLHAQrsn67INAX6Bn/v//A+aH7wiAh3W+7wPk\n",
       "8OrcAgkdKAAAj1E5gNF9VKQAAAAASUVORK5CYII=\n",
       "\" style=\"display:inline;vertical-align:middle;\" /></a></span></td></tr>\n",
       "<tr><td>&nbsp;</td><td colspan=4 style=\"text-align:left\"><span style=\"font-size:20px;\"><a class=\"ProveItLink\" href=\"../../../__pv_it/common/09585084922504426caf1db2ff588a23a0932a960/expr.ipynb\"><img src=\"data:image/png;base64,iVBORw0KGgoAAAANSUhEUgAAAA8AAAAPBAMAAADJ+Ih5AAAAMFBMVEX///8QEBAiIiLu7u5ERES6\n",
       "urqYmJiIiIjMzMx2dnZUVFRmZmaqqqoyMjLc3NwAAABb1yYoAAAAAXRSTlMAQObYZgAAAAlwSFlz\n",
       "AAAOxAAADsQBlSsOGwAAAF9JREFUCNdjYACBtwxQcB9K8/yHMrjXP4Aw5s1vANN8BfUHIDIM5xPA\n",
       "jBiG/glgxgaG9wtANLv37vUOIIY5AwO/AkSGgUkASLMCdfB+ADIeAjHLPwYGk/+XGXj8/04AADnq\n",
       "Fzds8Dk2AAAAAElFTkSuQmCC\n",
       "\" style=\"display:inline;vertical-align:middle;\" /></a> : <a class=\"ProveItLink\" href=\"../../number_sets/real_numbers/__pv_it/common/93cac87a1a47e613f7a83b23ef7891599a1a4cca0/expr.ipynb\"><img src=\"data:image/png;base64,iVBORw0KGgoAAAANSUhEUgAAAA8AAAAPBAMAAADJ+Ih5AAAAMFBMVEX///+IiIiqqqpmZmbMzMx2\n",
       "dnbu7u66urpUVFTc3NwiIiJEREQQEBAyMjKYmJgAAAA9S0TaAAAAAXRSTlMAQObYZgAAAAlwSFlz\n",
       "AAAOxAAADsQBlSsOGwAAAGFJREFUCNdjeHt6/63TDxiAYMMMhorXCSDGVAZulgYIg3nCBRhjA4TB\n",
       "kQaV8tadAGLMufVLDKx96rtcBgiDOw9i4FQWg20QBoPJbCgjmxEkt2EyA9+D7QwMQNt3Muy+rwAA\n",
       "UbUqpptLVNkAAAAASUVORK5CYII=\n",
       "\" style=\"display:inline;vertical-align:middle;\" /></a>, <a class=\"ProveItLink\" href=\"../../../__pv_it/common/a9162d1c3cc0470c02e5daf414500903a7a419230/expr.ipynb\"><img src=\"data:image/png;base64,iVBORw0KGgoAAAANSUhEUgAAABAAAAAOBAMAAADUAYG5AAAAMFBMVEX///92dnaqqqoiIiLu7u5m\n",
       "Zma6urqIiIjc3NwQEBDMzMwyMjJUVFRERESYmJgAAAAeMT9/AAAAAXRSTlMAQObYZgAAAAlwSFlz\n",
       "AAAOxAAADsQBlSsOGwAAAHJJREFUCNdjYGB4+//Mmb0LGIBgLgMDzy8gzfGdgYHtK5DBB+TxATkM\n",
       "PB8YGLhnABmcFxhYDoMUr79efvoBSFN9AwPTPBDjJhDLg6T+APH7AgYGrn9AxvkEBgb2H0DObyCH\n",
       "ewIDQ+YWoHH3/5w5fYmBAQBWoiHo17XzsQAAAABJRU5ErkJggg==\n",
       "\" style=\"display:inline;vertical-align:middle;\" /></a> : <a class=\"ProveItLink\" href=\"../../number_sets/complex_numbers/__pv_it/common/d18a028138f659eda00de597c28a3447fe87eb100/expr.ipynb\"><img src=\"data:image/png;base64,iVBORw0KGgoAAAANSUhEUgAAAA8AAAAPBAMAAADJ+Ih5AAAAMFBMVEX///+qqqq6urpmZmaYmJgQ\n",
       "EBBUVFTMzMzc3NyIiIgyMjIiIiJERER2dnbu7u4AAADcB0J/AAAAAXRSTlMAQObYZgAAAAlwSFlz\n",
       "AAAOxAAADsQBlSsOGwAAAGdJREFUCNdjYGB4e3rVjFoGBgbOVAc++8NAhqUuAwMLkMFucA7IS2Zg\n",
       "YHtwAMh4wsDAw2HAAAZt7BcgjFomBwijmWkChMHDAZXiAesCAiawOUwgk9WAhBXIrlMWfNJgs94e\n",
       "/W3BwAAAW48WPnJ4qt0AAAAASUVORK5CYII=\n",
       "\" style=\"display:inline;vertical-align:middle;\" /></a>, <a class=\"ProveItLink\" href=\"../../../__pv_it/common/a0d9d672aa5e272d907247690c152cc2c6daafb70/expr.ipynb\"><img src=\"data:image/png;base64,iVBORw0KGgoAAAANSUhEUgAAAAsAAAAJBAMAAAAWSsseAAAAMFBMVEX///9ERES6uroQEBAyMjLc\n",
       "3NyYmJgiIiJmZmaqqqp2dnbMzMxUVFSIiIju7u4AAAAd7oVFAAAAAXRSTlMAQObYZgAAAAlwSFlz\n",
       "AAAOxAAADsQBlSsOGwAAAENJREFUCNdjYHh75/WqCQwMDbxnOQoY2ALY/vEkMHAzcDgwgADzBTCl\n",
       "H8D3gOGhwmEGLgaG+fuaGTQZGF7c5WybwAAAJTwQ1a2DuB8AAAAASUVORK5CYII=\n",
       "\" style=\"display:inline;vertical-align:middle;\" /></a> : <a class=\"ProveItLink\" href=\"../../numerals/__pv_it/common/af4aab8a07465db063742696e006d04670f30cf10/expr.ipynb\"><img src=\"data:image/png;base64,iVBORw0KGgoAAAANSUhEUgAAAAkAAAAOBAMAAAAPuiubAAAAMFBMVEX///+qqqqYmJiIiIgiIiLu\n",
       "7u4QEBBUVFS6urp2dnbMzMxEREQyMjJmZmbc3NwAAADzFso2AAAAAXRSTlMAQObYZgAAAAlwSFlz\n",
       "AAAOxAAADsQBlSsOGwAAAE9JREFUCNdj4Lt7egEDw2sGzh8MDHUMDGkMDPkBDPUPGEoYGOqBEgwM\n",
       "/iCC6zOIZCkAkbdBBBOYKcnA94CBawIDcwDDk7t3rwAV////hwEAK9UUlDYDfx8AAAAASUVORK5C\n",
       "YII=\n",
       "\" style=\"display:inline;vertical-align:middle;\" /></a></span></td></tr><tr><td><a name=\"-0x781d8d73d530194_step11\">11</a></td><td>instantiation</td><td><a href=\"#-0x781d8d73d530194_step26\">26</a>, <a href=\"#-0x781d8d73d530194_step15\">15</a>, <a href=\"#-0x781d8d73d530194_step16\">16</a></td><td><span style=\"font-size:20px;\"> <a class=\"ProveItLink\" href=\"../__pv_it/demonstrations/593c68854409100f9a1daf0926843552ef7da3f20/proof.ipynb\" style=\"text-decoration: none\">&nbsp;&#x22A2;&nbsp;&nbsp;</a><a class=\"ProveItLink\" href=\"../__pv_it/demonstrations/b7c0ab46a80fa49f5f87317ac1bbf9cb271ca9e60/expr.ipynb\"><img src=\"data:image/png;base64,iVBORw0KGgoAAAANSUhEUgAAADMAAAAQBAMAAABJt1qBAAAAMFBMVEX///9UVFTMzMwiIiKYmJgQ\n",
       "EBAyMjKIiIiqqqru7u66urpERERmZmZ2dnbc3NwAAABametFAAAAAXRSTlMAQObYZgAAAAlwSFlz\n",
       "AAAOxAAADsQBlSsOGwAAAN1JREFUGNNjYMAC5m5Oq9MF0m/v7EKTYRd14Dy/h4GB8wBDfwOq1PG1\n",
       "DAwsQCn2HwzzE1BkmA7sBJIyDAxcUQz8ECn2zcZmIJpxwgYgOQUs1u8AIrnSJ0B0cfMdgBnAZQKm\n",
       "nkFlGB4yXYAZXSgEpvNgSnW5HOD2QlwId8sbrgK4FOtPkOZgY2Nja4hdUAOZFBi4fwBpzg0wldwT\n",
       "oEz+nxApBgO4s8D+4gKaJgAxkKEcERoLgcQxYIg4QP3FBg8u9m3nOJtBfltzBhK8nNIr4SG/9fM5\n",
       "lLDjug0JKBgAAOaXNhncrynMAAAAAElFTkSuQmCC\n",
       "\" style=\"display:inline;vertical-align:middle;\" /></a></span></td></tr>\n",
       "<tr><td>&nbsp;</td><td colspan=4 style=\"text-align:left\"><span style=\"font-size:20px;\"><a class=\"ProveItLink\" href=\"../../../__pv_it/common/09585084922504426caf1db2ff588a23a0932a960/expr.ipynb\"><img src=\"data:image/png;base64,iVBORw0KGgoAAAANSUhEUgAAAA8AAAAPBAMAAADJ+Ih5AAAAMFBMVEX///8QEBAiIiLu7u5ERES6\n",
       "urqYmJiIiIjMzMx2dnZUVFRmZmaqqqoyMjLc3NwAAABb1yYoAAAAAXRSTlMAQObYZgAAAAlwSFlz\n",
       "AAAOxAAADsQBlSsOGwAAAF9JREFUCNdjYACBtwxQcB9K8/yHMrjXP4Aw5s1vANN8BfUHIDIM5xPA\n",
       "jBiG/glgxgaG9wtANLv37vUOIIY5AwO/AkSGgUkASLMCdfB+ADIeAjHLPwYGk/+XGXj8/04AADnq\n",
       "Fzds8Dk2AAAAAElFTkSuQmCC\n",
       "\" style=\"display:inline;vertical-align:middle;\" /></a> : <a class=\"ProveItLink\" href=\"../../number_sets/real_numbers/__pv_it/common/93cac87a1a47e613f7a83b23ef7891599a1a4cca0/expr.ipynb\"><img src=\"data:image/png;base64,iVBORw0KGgoAAAANSUhEUgAAAA8AAAAPBAMAAADJ+Ih5AAAAMFBMVEX///+IiIiqqqpmZmbMzMx2\n",
       "dnbu7u66urpUVFTc3NwiIiJEREQQEBAyMjKYmJgAAAA9S0TaAAAAAXRSTlMAQObYZgAAAAlwSFlz\n",
       "AAAOxAAADsQBlSsOGwAAAGFJREFUCNdjeHt6/63TDxiAYMMMhorXCSDGVAZulgYIg3nCBRhjA4TB\n",
       "kQaV8tadAGLMufVLDKx96rtcBgiDOw9i4FQWg20QBoPJbCgjmxEkt2EyA9+D7QwMQNt3Muy+rwAA\n",
       "UbUqpptLVNkAAAAASUVORK5CYII=\n",
       "\" style=\"display:inline;vertical-align:middle;\" /></a>, <a class=\"ProveItLink\" href=\"../../../__pv_it/common/a9162d1c3cc0470c02e5daf414500903a7a419230/expr.ipynb\"><img src=\"data:image/png;base64,iVBORw0KGgoAAAANSUhEUgAAABAAAAAOBAMAAADUAYG5AAAAMFBMVEX///92dnaqqqoiIiLu7u5m\n",
       "Zma6urqIiIjc3NwQEBDMzMwyMjJUVFRERESYmJgAAAAeMT9/AAAAAXRSTlMAQObYZgAAAAlwSFlz\n",
       "AAAOxAAADsQBlSsOGwAAAHJJREFUCNdjYGB4+//Mmb0LGIBgLgMDzy8gzfGdgYHtK5DBB+TxATkM\n",
       "PB8YGLhnABmcFxhYDoMUr79efvoBSFN9AwPTPBDjJhDLg6T+APH7AgYGrn9AxvkEBgb2H0DObyCH\n",
       "ewIDQ+YWoHH3/5w5fYmBAQBWoiHo17XzsQAAAABJRU5ErkJggg==\n",
       "\" style=\"display:inline;vertical-align:middle;\" /></a> : <a class=\"ProveItLink\" href=\"../../number_sets/complex_numbers/__pv_it/common/d18a028138f659eda00de597c28a3447fe87eb100/expr.ipynb\"><img src=\"data:image/png;base64,iVBORw0KGgoAAAANSUhEUgAAAA8AAAAPBAMAAADJ+Ih5AAAAMFBMVEX///+qqqq6urpmZmaYmJgQ\n",
       "EBBUVFTMzMzc3NyIiIgyMjIiIiJERER2dnbu7u4AAADcB0J/AAAAAXRSTlMAQObYZgAAAAlwSFlz\n",
       "AAAOxAAADsQBlSsOGwAAAGdJREFUCNdjYGB4e3rVjFoGBgbOVAc++8NAhqUuAwMLkMFucA7IS2Zg\n",
       "YHtwAMh4wsDAw2HAAAZt7BcgjFomBwijmWkChMHDAZXiAesCAiawOUwgk9WAhBXIrlMWfNJgs94e\n",
       "/W3BwAAAW48WPnJ4qt0AAAAASUVORK5CYII=\n",
       "\" style=\"display:inline;vertical-align:middle;\" /></a>, <a class=\"ProveItLink\" href=\"../../../__pv_it/common/a0d9d672aa5e272d907247690c152cc2c6daafb70/expr.ipynb\"><img src=\"data:image/png;base64,iVBORw0KGgoAAAANSUhEUgAAAAsAAAAJBAMAAAAWSsseAAAAMFBMVEX///9ERES6uroQEBAyMjLc\n",
       "3NyYmJgiIiJmZmaqqqp2dnbMzMxUVFSIiIju7u4AAAAd7oVFAAAAAXRSTlMAQObYZgAAAAlwSFlz\n",
       "AAAOxAAADsQBlSsOGwAAAENJREFUCNdjYHh75/WqCQwMDbxnOQoY2ALY/vEkMHAzcDgwgADzBTCl\n",
       "H8D3gOGhwmEGLgaG+fuaGTQZGF7c5WybwAAAJTwQ1a2DuB8AAAAASUVORK5CYII=\n",
       "\" style=\"display:inline;vertical-align:middle;\" /></a> : <a class=\"ProveItLink\" href=\"../../numerals/__pv_it/common/1943b60945420e340d305780feff5c1aff2740ff0/expr.ipynb\"><img src=\"data:image/png;base64,iVBORw0KGgoAAAANSUhEUgAAAAoAAAAOBAMAAADkjZCYAAAAMFBMVEX///9UVFTMzMwiIiKYmJgQ\n",
       "EBAyMjKIiIiqqqru7u66urpERERmZmZ2dnbc3NwAAABametFAAAAAXRSTlMAQObYZgAAAAlwSFlz\n",
       "AAAOxAAADsQBlSsOGwAAAExJREFUCNdjYHh7ZxcDA+cBhv4GBvYfDPMTGLiiGPgTGICg3wFIcJkA\n",
       "CaZCIQawSAOIZP3JwKTAwP2Dgf8niGQVAImwOIDVrzmziwEADhoSVJBN9+MAAAAASUVORK5CYII=\n",
       "\" style=\"display:inline;vertical-align:middle;\" /></a></span></td></tr><tr><td><a name=\"-0x781d8d73d530194_step12\">12</a></td><td>conjecture</td><td></td><td><span style=\"font-size:20px;\"> <a class=\"ProveItLink\" href=\"../../numerals/decimals/_theory_nbs_/proofs/tuple_len_4_typical_eq/thm_proof.ipynb\" style=\"text-decoration: none\">&nbsp;&#x22A2;&nbsp;&nbsp;</a><a class=\"ProveItLink\" href=\"../../numerals/decimals/__pv_it/theorems/1e5f5f56d23c5d2fa392d75922cfebe52e53ebbd0/expr.ipynb\"><img src=\"data:image/png;base64,iVBORw0KGgoAAAANSUhEUgAAAU8AAAAWBAMAAACyFQNKAAAAMFBMVEX///+IiIgiIiIQEBB2dnbu\n",
       "7u5ERETMzMzc3NwyMjK6urpmZmaYmJiqqqpUVFQAAAB6qHgnAAAAAXRSTlMAQObYZgAAAAlwSFlz\n",
       "AAAOxAAADsQBlSsOGwAAA+lJREFUSMfNV01oE0EUftntZjfdbLsK2h5USlEURSwqCCIaRVBE6wpF\n",
       "8GIiIngz6FU0VvCoEVEERSJeBaOIoi2YHhSlghHag+Ahag8KauuhaAV/3pu/bnYzTbz5CtOPN2++\n",
       "93XmzdspQEtWwB8BWoglc1p0t8RUaHVFogq7JGhqN9nYVoq4OcHifxGqmAjUCL9tsmJM5hkLOa3D\n",
       "PfFI+1I5UdEL9TIYskx4nKEreX1OuwyKicBjwlfn1mkVRR4Cs5YqN4jtrMJlvdADAAcfTQvPOWj7\n",
       "qU9q4BYqJgSn6E/LzS3UrYg8biWiKW53AhjVCx2m8pFCPwKs0yedj0IVE4JUgLBJ5ZkyjxnVFLdt\n",
       "GBVohfaFhW4JYFJ7TewXtRATgjRuUqpJib6Red5ENcXtGtJVdEK9Yljoe4BJbZG2pWohJgJre3vX\n",
       "NxF6Xwol4Ex0+9x9Y94XEbB1EU/oTHT9QuaaTqibCQtFW6PN2U1CFROBhwBHmgi9LoUSuFVI8kzW\n",
       "TJDlJzdYdXmV87l0UQp1e5nVpFC2QyGh9jddSqdCQhUTgfPg1NTCK3XRe8XBrJZCEVibwOVtyZsG\n",
       "k+/tUgFoDhm9Pt2OGtV6oUZNe/JAQhUTgWQQ4pyoi74gfm+UQhG4U2BkeC8oQidDrsws5uwpnVCz\n",
       "VC/0gfYQnzOhiomA54fu0oa66IUNhJo5yHINqOkOaxem7G5irr2vRaFp7YY6PhOqmBgojuAwMLKT\n",
       "1cwS1hAW+cx1EeJHn/XhlWqjT1iDyorLJee8Hl2NRo5+DBxNe2r/+nVyc2aWiYE92PatFfYP4liW\n",
       "oK/NSruPub6LZYekUATZKnzyChYJzWNNMoBXpESAz0E6p9vRpC+EWuxGZCARWHGVvD2bdJkkEwNn\n",
       "0eOWSRskK3S93JyVZ64psbJfCu2nXN4qF7IY1lFJlhnAK9+WJ8DneBNqKJS3G9wSiobBoaF7HNFg\n",
       "zYQB/vm5EBMDHXkqngRxmHm3JiqJXLL2jkuhCKx3O853gYEPC2sCP4gEYPvLBdzD5sAo6YTaeIId\n",
       "H2Y+82Vr/vyZ4cigc1wlQS9tqXvstz/LZEi2bCH5FKc7wcQq6iwI1wLxjTTyQqihPiTjegCD+m/9\n",
       "8nj0eOzovSDGNKi+5oXTt4MBMIJnMACpEmQGyHVSrEiXRZ60ei9l9IC9PDRCR+PRmQY9NMY0rG7Z\n",
       "8OvdcKJq3/VxdIZHghNV5hJ2VL5Hj8qHn68F4i3WWGiyEI2eRcr2xZiiz7tqbBS2XwrdL5/8oAVC\n",
       "TGOhVi4anYjfej/GlKzvYu1BdAz13y4Jmlo3FxB9F3GCM//yr4hi6q73p2Pjf2R/AQttIh0bXiPp\n",
       "AAAAAElFTkSuQmCC\n",
       "\" style=\"display:inline;vertical-align:middle;\" /></a></span></td></tr>\n",
       "<tr><td>&nbsp;</td><td colspan=4 style-\"text-align:left\"><a class=\"ProveItLink\" href=\"../../numerals/decimals/_theory_nbs_/proofs/tuple_len_4_typical_eq/thm_proof.ipynb\">proveit.numbers.numerals.decimals.tuple_len_4_typical_eq</a></td></tr><tr><td><a name=\"-0x781d8d73d530194_step13\">13</a></td><td>instantiation</td><td><a href=\"#-0x781d8d73d530194_step26\">26</a>, <a href=\"#-0x781d8d73d530194_step17\">17</a>, <a href=\"#-0x781d8d73d530194_step18\">18</a></td><td><span style=\"font-size:20px;\"><a class=\"ProveItLink\" href=\"../__pv_it/demonstrations/885cc228aa47f4d61d07e1691f08d60a4b0eb17d0/expr.ipynb\"><img src=\"data:image/png;base64,iVBORw0KGgoAAAANSUhEUgAAAD0AAAAQBAMAAABXfmoyAAAAMFBMVEX///+YmJjMzMzc3NyIiIhU\n",
       "VFR2dna6urqqqqpmZmYyMjIiIiIQEBBERETu7u4AAAD7tRWPAAAAAXRSTlMAQObYZgAAAAlwSFlz\n",
       "AAAOxAAADsQBlSsOGwAAAOBJREFUGNNjYEAHUmfvrz4rAOfy3dmApuCCKUOp7AM4l2sCurwZAy9T\n",
       "AIPuXSAwYGDgb8CU5zRYAOfWw4zy3b17AVz+Alw+G0pX+SH0s74LgMsvdYkAUczrkMzX7TKAu//X\n",
       "g/cgDhdc5ILN6t9+cO0c/xh4HEDySO4TfIVwLecCBv4EIK2zGwguQOR5HyLChzuBoR7kw7dI+pkm\n",
       "3IPzgN6fD/IhN7L/J9ki5BX4DoJoFgck+bcscAtYBXghAbwCLm/JwChwHe6/sIkQxtPrD2Dxd5nh\n",
       "7voGjIgtu717AYYgAGEMR51YMKm3AAAAAElFTkSuQmCC\n",
       "\" style=\"display:inline;vertical-align:middle;\" /></a> <a class=\"ProveItLink\" href=\"../__pv_it/demonstrations/865ef6ad25977605ae39f5247ba7a82c8eb9c2430/proof.ipynb\" style=\"text-decoration: none\">&nbsp;&#x22A2;&nbsp;&nbsp;</a><a class=\"ProveItLink\" href=\"../../ordering/__pv_it/theorems/6e5cad5b2984ed0d75bd47bd0c542ec447a4f3570/expr.ipynb\"><img src=\"data:image/png;base64,iVBORw0KGgoAAAANSUhEUgAAADEAAAAQBAMAAABNQoq8AAAAMFBMVEX///+YmJjMzMzc3NyIiIhU\n",
       "VFR2dna6urqqqqpmZmYyMjIiIiIQEBBERETu7u4AAAD7tRWPAAAAAXRSTlMAQObYZgAAAAlwSFlz\n",
       "AAAOxAAADsQBlSsOGwAAANZJREFUGNNjYEAHUmfvrz4rAGTw3dmAJnXBlKFU9gGQwTUBXcaMgZcp\n",
       "AMjgb8CU4TRYAGTUP4CK+O7evQAucwHIyIZKVPkh9LC+A5m21CUCxGdeh2SabpcB0G2/Hrw3ADnE\n",
       "AC5js/o3SD/HPwYeB5AMkgsEX4FozgUM/AlAWmc3EFyAyPA+BPmUO4GhHuTut0h6mCbcg3hnPsjd\n",
       "3Mj+mWQLklHgOwjiszggybxlARrHKsALCZ4VcBlLBkaB60BXh02ECDy9/gAW1pcZ7q5HDrOy25DQ\n",
       "gQIAY/lDzDbeA58AAAAASUVORK5CYII=\n",
       "\" style=\"display:inline;vertical-align:middle;\" /></a></span></td></tr>\n",
       "<tr><td>&nbsp;</td><td colspan=4 style=\"text-align:left\"><span style=\"font-size:20px;\"><a class=\"ProveItLink\" href=\"../../../__pv_it/common/09585084922504426caf1db2ff588a23a0932a960/expr.ipynb\"><img src=\"data:image/png;base64,iVBORw0KGgoAAAANSUhEUgAAAA8AAAAPBAMAAADJ+Ih5AAAAMFBMVEX///8QEBAiIiLu7u5ERES6\n",
       "urqYmJiIiIjMzMx2dnZUVFRmZmaqqqoyMjLc3NwAAABb1yYoAAAAAXRSTlMAQObYZgAAAAlwSFlz\n",
       "AAAOxAAADsQBlSsOGwAAAF9JREFUCNdjYACBtwxQcB9K8/yHMrjXP4Aw5s1vANN8BfUHIDIM5xPA\n",
       "jBiG/glgxgaG9wtANLv37vUOIIY5AwO/AkSGgUkASLMCdfB+ADIeAjHLPwYGk/+XGXj8/04AADnq\n",
       "Fzds8Dk2AAAAAElFTkSuQmCC\n",
       "\" style=\"display:inline;vertical-align:middle;\" /></a> : <a class=\"ProveItLink\" href=\"../../number_sets/real_numbers/__pv_it/common/22049b0ceade1b5eb1b88ec78deb486d547c9b580/expr.ipynb\"><img src=\"data:image/png;base64,iVBORw0KGgoAAAANSUhEUgAAABsAAAAPBAMAAADnvanrAAAAMFBMVEX///+IiIiqqqpmZmbMzMx2\n",
       "dnbu7u66urpUVFTc3NwiIiJEREQQEBAyMjKYmJgAAAA9S0TaAAAAAXRSTlMAQObYZgAAAAlwSFlz\n",
       "AAAOxAAADsQBlSsOGwAAAG1JREFUCNdjeHt6/63TDxjgYMMMhorXCQjuVAZulgYG791AMAHMZZ5w\n",
       "AVmWecIGZC5HWgMy11t3AoI759YvMSSLpr7LZUDmcuchO2Mqi8E2ZC6DyWwUbjYjQvWGyQx8D7bD\n",
       "eEAf7WTYfV8BwgMABQIubXu08MoAAAAASUVORK5CYII=\n",
       "\" style=\"display:inline;vertical-align:middle;\" /></a>, <a class=\"ProveItLink\" href=\"../../../__pv_it/common/a9162d1c3cc0470c02e5daf414500903a7a419230/expr.ipynb\"><img src=\"data:image/png;base64,iVBORw0KGgoAAAANSUhEUgAAABAAAAAOBAMAAADUAYG5AAAAMFBMVEX///92dnaqqqoiIiLu7u5m\n",
       "Zma6urqIiIjc3NwQEBDMzMwyMjJUVFRERESYmJgAAAAeMT9/AAAAAXRSTlMAQObYZgAAAAlwSFlz\n",
       "AAAOxAAADsQBlSsOGwAAAHJJREFUCNdjYGB4+//Mmb0LGIBgLgMDzy8gzfGdgYHtK5DBB+TxATkM\n",
       "PB8YGLhnABmcFxhYDoMUr79efvoBSFN9AwPTPBDjJhDLg6T+APH7AgYGrn9AxvkEBgb2H0DObyCH\n",
       "ewIDQ+YWoHH3/5w5fYmBAQBWoiHo17XzsQAAAABJRU5ErkJggg==\n",
       "\" style=\"display:inline;vertical-align:middle;\" /></a> : <a class=\"ProveItLink\" href=\"../../number_sets/real_numbers/__pv_it/common/93cac87a1a47e613f7a83b23ef7891599a1a4cca0/expr.ipynb\"><img src=\"data:image/png;base64,iVBORw0KGgoAAAANSUhEUgAAAA8AAAAPBAMAAADJ+Ih5AAAAMFBMVEX///+IiIiqqqpmZmbMzMx2\n",
       "dnbu7u66urpUVFTc3NwiIiJEREQQEBAyMjKYmJgAAAA9S0TaAAAAAXRSTlMAQObYZgAAAAlwSFlz\n",
       "AAAOxAAADsQBlSsOGwAAAGFJREFUCNdjeHt6/63TDxiAYMMMhorXCSDGVAZulgYIg3nCBRhjA4TB\n",
       "kQaV8tadAGLMufVLDKx96rtcBgiDOw9i4FQWg20QBoPJbCgjmxEkt2EyA9+D7QwMQNt3Muy+rwAA\n",
       "UbUqpptLVNkAAAAASUVORK5CYII=\n",
       "\" style=\"display:inline;vertical-align:middle;\" /></a>, <a class=\"ProveItLink\" href=\"../../../__pv_it/common/a0d9d672aa5e272d907247690c152cc2c6daafb70/expr.ipynb\"><img src=\"data:image/png;base64,iVBORw0KGgoAAAANSUhEUgAAAAsAAAAJBAMAAAAWSsseAAAAMFBMVEX///9ERES6uroQEBAyMjLc\n",
       "3NyYmJgiIiJmZmaqqqp2dnbMzMxUVFSIiIju7u4AAAAd7oVFAAAAAXRSTlMAQObYZgAAAAlwSFlz\n",
       "AAAOxAAADsQBlSsOGwAAAENJREFUCNdjYHh75/WqCQwMDbxnOQoY2ALY/vEkMHAzcDgwgADzBTCl\n",
       "H8D3gOGhwmEGLgaG+fuaGTQZGF7c5WybwAAAJTwQ1a2DuB8AAAAASUVORK5CYII=\n",
       "\" style=\"display:inline;vertical-align:middle;\" /></a> : <a class=\"ProveItLink\" href=\"../../../__pv_it/common/195236b98c6c564a75b5dbada74b173bc52d5c3e0/expr.ipynb\"><img src=\"data:image/png;base64,iVBORw0KGgoAAAANSUhEUgAAAAkAAAAOBAMAAAAPuiubAAAAMFBMVEX///+YmJjMzMzc3NyIiIhU\n",
       "VFR2dna6urqqqqpmZmYyMjIiIiIQEBBERETu7u4AAAD7tRWPAAAAAXRSTlMAQObYZgAAAAlwSFlz\n",
       "AAAOxAAADsQBlSsOGwAAAFBJREFUCNdj4LuzgQEIuCaASP4GEFn/AERmgwiGpS4RDAx8vx68N2Dg\n",
       "+MfA48DAuYCBP4GBO4GhvgGkfP4DBn4FvoMMDKwCvEAj+MImMjAAAMxHEV3T4g9SAAAAAElFTkSu\n",
       "QmCC\n",
       "\" style=\"display:inline;vertical-align:middle;\" /></a></span></td></tr><tr><td><a name=\"-0x781d8d73d530194_step14\">14</a></td><td>instantiation</td><td><a href=\"#-0x781d8d73d530194_step26\">26</a>, <a href=\"#-0x781d8d73d530194_step20\">20</a>, <a href=\"#-0x781d8d73d530194_step19\">19</a></td><td><span style=\"font-size:20px;\"> <a class=\"ProveItLink\" href=\"../__pv_it/demonstrations/0d855b34ee0212d43f05abe2f7d3ebf4f9bd31340/proof.ipynb\" style=\"text-decoration: none\">&nbsp;&#x22A2;&nbsp;&nbsp;</a><a class=\"ProveItLink\" href=\"../__pv_it/demonstrations/371d48b3894e95e20b50c9d70ca5e18a2adb54990/expr.ipynb\"><img src=\"data:image/png;base64,iVBORw0KGgoAAAANSUhEUgAAADIAAAAQBAMAAACmdTG/AAAAMFBMVEX///+qqqqYmJiIiIgiIiLu\n",
       "7u4QEBBUVFS6urp2dnbMzMxEREQyMjJmZmbc3NwAAADzFso2AAAAAXRSTlMAQObYZgAAAAlwSFlz\n",
       "AAAOxAAADsQBlSsOGwAAANlJREFUGNNjYEAHTMd2/3HbBGTw3T29AFWKm6+Ao2grA8NrBs4f6DIT\n",
       "GDYsZ2CoY2BIw5S5x8PAkB/AUP8ALGLt4nIALsPNwFDCwFAPtqjHFElPaTiY6Q8i+I4imca18RyI\n",
       "xfUZRPI8QMjk+DsHgFgsBWAZJBdMUgVbyHAbTC5zAYINUNO2KoH9DNbCEI3s6rXcINMkGfhAVrAg\n",
       "y/CuA+rmmsDADFLAbIAkw7rBiIHhyd27V8ACBxEyFxiUuBsY/P///wMWCN8RAAvr3w+493xECq/O\n",
       "LZDQgQIAelI+b+eBkVAAAAAASUVORK5CYII=\n",
       "\" style=\"display:inline;vertical-align:middle;\" /></a></span></td></tr>\n",
       "<tr><td>&nbsp;</td><td colspan=4 style=\"text-align:left\"><span style=\"font-size:20px;\"><a class=\"ProveItLink\" href=\"../../../__pv_it/common/09585084922504426caf1db2ff588a23a0932a960/expr.ipynb\"><img src=\"data:image/png;base64,iVBORw0KGgoAAAANSUhEUgAAAA8AAAAPBAMAAADJ+Ih5AAAAMFBMVEX///8QEBAiIiLu7u5ERES6\n",
       "urqYmJiIiIjMzMx2dnZUVFRmZmaqqqoyMjLc3NwAAABb1yYoAAAAAXRSTlMAQObYZgAAAAlwSFlz\n",
       "AAAOxAAADsQBlSsOGwAAAF9JREFUCNdjYACBtwxQcB9K8/yHMrjXP4Aw5s1vANN8BfUHIDIM5xPA\n",
       "jBiG/glgxgaG9wtANLv37vUOIIY5AwO/AkSGgUkASLMCdfB+ADIeAjHLPwYGk/+XGXj8/04AADnq\n",
       "Fzds8Dk2AAAAAElFTkSuQmCC\n",
       "\" style=\"display:inline;vertical-align:middle;\" /></a> : <a class=\"ProveItLink\" href=\"../../number_sets/rational_numbers/__pv_it/common/3de3e316334b6ece430a3f1aee01ae68b192ecb30/expr.ipynb\"><img src=\"data:image/png;base64,iVBORw0KGgoAAAANSUhEUgAAABAAAAASBAMAAACgFUNZAAAAMFBMVEX///+qqqoyMjK6urqYmJgi\n",
       "IiLMzMwQEBBUVFSIiIjc3NxmZmZERER2dnbu7u4AAACF9pTcAAAAAXRSTlMAQObYZgAAAAlwSFlz\n",
       "AAAOxAAADsQBlSsOGwAAAIhJREFUCNdjYGB4e+bMLgYg4GxP4Iq4AGRcucLAYG3DwMB2QYGBgYdl\n",
       "AgPPuwYGBt4EBYY3bBMYGBgFtjHkMjswMDA7ODJYsggAFU4QYVjLCBaZzMADUbOPgecVVBczxByg\n",
       "wi1Aky2AJjPwguzaALJ19Sf9bQxg0Aa0CQw4JswQMwCzJA7VOAAAB5Qgh4eE7doAAAAASUVORK5C\n",
       "YII=\n",
       "\" style=\"display:inline;vertical-align:middle;\" /></a>, <a class=\"ProveItLink\" href=\"../../../__pv_it/common/a9162d1c3cc0470c02e5daf414500903a7a419230/expr.ipynb\"><img src=\"data:image/png;base64,iVBORw0KGgoAAAANSUhEUgAAABAAAAAOBAMAAADUAYG5AAAAMFBMVEX///92dnaqqqoiIiLu7u5m\n",
       "Zma6urqIiIjc3NwQEBDMzMwyMjJUVFRERESYmJgAAAAeMT9/AAAAAXRSTlMAQObYZgAAAAlwSFlz\n",
       "AAAOxAAADsQBlSsOGwAAAHJJREFUCNdjYGB4+//Mmb0LGIBgLgMDzy8gzfGdgYHtK5DBB+TxATkM\n",
       "PB8YGLhnABmcFxhYDoMUr79efvoBSFN9AwPTPBDjJhDLg6T+APH7AgYGrn9AxvkEBgb2H0DObyCH\n",
       "ewIDQ+YWoHH3/5w5fYmBAQBWoiHo17XzsQAAAABJRU5ErkJggg==\n",
       "\" style=\"display:inline;vertical-align:middle;\" /></a> : <a class=\"ProveItLink\" href=\"../../number_sets/real_numbers/__pv_it/common/93cac87a1a47e613f7a83b23ef7891599a1a4cca0/expr.ipynb\"><img src=\"data:image/png;base64,iVBORw0KGgoAAAANSUhEUgAAAA8AAAAPBAMAAADJ+Ih5AAAAMFBMVEX///+IiIiqqqpmZmbMzMx2\n",
       "dnbu7u66urpUVFTc3NwiIiJEREQQEBAyMjKYmJgAAAA9S0TaAAAAAXRSTlMAQObYZgAAAAlwSFlz\n",
       "AAAOxAAADsQBlSsOGwAAAGFJREFUCNdjeHt6/63TDxiAYMMMhorXCSDGVAZulgYIg3nCBRhjA4TB\n",
       "kQaV8tadAGLMufVLDKx96rtcBgiDOw9i4FQWg20QBoPJbCgjmxEkt2EyA9+D7QwMQNt3Muy+rwAA\n",
       "UbUqpptLVNkAAAAASUVORK5CYII=\n",
       "\" style=\"display:inline;vertical-align:middle;\" /></a>, <a class=\"ProveItLink\" href=\"../../../__pv_it/common/a0d9d672aa5e272d907247690c152cc2c6daafb70/expr.ipynb\"><img src=\"data:image/png;base64,iVBORw0KGgoAAAANSUhEUgAAAAsAAAAJBAMAAAAWSsseAAAAMFBMVEX///9ERES6uroQEBAyMjLc\n",
       "3NyYmJgiIiJmZmaqqqp2dnbMzMxUVFSIiIju7u4AAAAd7oVFAAAAAXRSTlMAQObYZgAAAAlwSFlz\n",
       "AAAOxAAADsQBlSsOGwAAAENJREFUCNdjYHh75/WqCQwMDbxnOQoY2ALY/vEkMHAzcDgwgADzBTCl\n",
       "H8D3gOGhwmEGLgaG+fuaGTQZGF7c5WybwAAAJTwQ1a2DuB8AAAAASUVORK5CYII=\n",
       "\" style=\"display:inline;vertical-align:middle;\" /></a> : <a class=\"ProveItLink\" href=\"../../numerals/__pv_it/common/af4aab8a07465db063742696e006d04670f30cf10/expr.ipynb\"><img src=\"data:image/png;base64,iVBORw0KGgoAAAANSUhEUgAAAAkAAAAOBAMAAAAPuiubAAAAMFBMVEX///+qqqqYmJiIiIgiIiLu\n",
       "7u4QEBBUVFS6urp2dnbMzMxEREQyMjJmZmbc3NwAAADzFso2AAAAAXRSTlMAQObYZgAAAAlwSFlz\n",
       "AAAOxAAADsQBlSsOGwAAAE9JREFUCNdj4Lt7egEDw2sGzh8MDHUMDGkMDPkBDPUPGEoYGOqBEgwM\n",
       "/iCC6zOIZCkAkbdBBBOYKcnA94CBawIDcwDDk7t3rwAV////hwEAK9UUlDYDfx8AAAAASUVORK5C\n",
       "YII=\n",
       "\" style=\"display:inline;vertical-align:middle;\" /></a></span></td></tr><tr><td><a name=\"-0x781d8d73d530194_step15\">15</a></td><td>conjecture</td><td></td><td><span style=\"font-size:20px;\"> <a class=\"ProveItLink\" href=\"../../number_sets/complex_numbers/_theory_nbs_/proofs/real_within_complex/thm_proof.ipynb\" style=\"text-decoration: none\">&nbsp;&#x22A2;&nbsp;&nbsp;</a><a class=\"ProveItLink\" href=\"../../number_sets/complex_numbers/__pv_it/theorems/38989098df56675752c00127b89e7c6d9bdcbcf90/expr.ipynb\"><img src=\"data:image/png;base64,iVBORw0KGgoAAAANSUhEUgAAADoAAAAQBAMAAAC1onFLAAAAMFBMVEX///+IiIiqqqpmZmbMzMx2\n",
       "dnbu7u66urpUVFTc3NwiIiJEREQQEBAyMjKYmJgAAAA9S0TaAAAAAXRSTlMAQObYZgAAAAlwSFlz\n",
       "AAAOxAAADsQBlSsOGwAAAOxJREFUGNNjeHt6/63TDxjQAVv02otTAhgYNsxgqHidgC4rcY4h+bcB\n",
       "UHYqAzdLA5okszhQ32uILPOEC2iyztxA0zhgshsggtKrVq1aAmK0cYPsfgCW5UiDmOwbCdO7YTKM\n",
       "MZXBW3cC2J0rYZKcDa4w2Tm3fomBWRwFMFmWgDq43ne5EBYv3FGcBoVwWe48SGh4INwMtA7GYDHY\n",
       "BmbNQMhu40YoM5kNZnEhZItB/mUoAMtmM4KNZn6AFFZAPzJfAHuN78F2sNh1hGbpyxOSFjMwAONo\n",
       "J8Pu+wogoez2BEQcnV88AS14S3dBQxIKAGT3TKebrKczAAAAAElFTkSuQmCC\n",
       "\" style=\"display:inline;vertical-align:middle;\" /></a></span></td></tr>\n",
       "<tr><td>&nbsp;</td><td colspan=4 style-\"text-align:left\"><a class=\"ProveItLink\" href=\"../../number_sets/complex_numbers/_theory_nbs_/proofs/real_within_complex/thm_proof.ipynb\">proveit.numbers.number_sets.complex_numbers.real_within_complex</a></td></tr><tr><td><a name=\"-0x781d8d73d530194_step16\">16</a></td><td>instantiation</td><td><a href=\"#-0x781d8d73d530194_step26\">26</a>, <a href=\"#-0x781d8d73d530194_step20\">20</a>, <a href=\"#-0x781d8d73d530194_step21\">21</a></td><td><span style=\"font-size:20px;\"> <a class=\"ProveItLink\" href=\"../__pv_it/demonstrations/5a256eaaf6b9ac17886e38557d07f115942f4ef80/proof.ipynb\" style=\"text-decoration: none\">&nbsp;&#x22A2;&nbsp;&nbsp;</a><a class=\"ProveItLink\" href=\"../__pv_it/demonstrations/461319c14ad605ae443f7641bdd5329eb9aaaa9e0/expr.ipynb\"><img src=\"data:image/png;base64,iVBORw0KGgoAAAANSUhEUgAAADMAAAAQBAMAAABJt1qBAAAAMFBMVEX///9UVFTMzMwiIiKYmJgQ\n",
       "EBAyMjKIiIiqqqru7u66urpERERmZmZ2dnbc3NwAAABametFAAAAAXRSTlMAQObYZgAAAAlwSFlz\n",
       "AAAOxAAADsQBlSsOGwAAANdJREFUGNNjYMAAbtH7k6MdQKy3d3ahyW14yLDQewIDA+cBhv4GNKm3\n",
       "DNxMAgwM7D8Y5idgSPE8AIpxRTHwQ6TYNxubIaQ2gJn9YDu50icgdDHOFACLmYAFnk1AMlC77QGQ\n",
       "wVQoBBbIQ9j1NPlzJYQJcWECkjNcpkGZrD9BmoONjY2toVLcU0DWMykwcP8A0pwbkHQxHdgJpPl/\n",
       "QqQYDJD9deg1yDQBiIEM5chSs9mBJrI4QP3FBg+uDW+AoqCAXXMGEryc0ivhIb+PYXc+csBy3YYG\n",
       "FBQAAG2vRjxIJgfAAAAAAElFTkSuQmCC\n",
       "\" style=\"display:inline;vertical-align:middle;\" /></a></span></td></tr>\n",
       "<tr><td>&nbsp;</td><td colspan=4 style=\"text-align:left\"><span style=\"font-size:20px;\"><a class=\"ProveItLink\" href=\"../../../__pv_it/common/09585084922504426caf1db2ff588a23a0932a960/expr.ipynb\"><img src=\"data:image/png;base64,iVBORw0KGgoAAAANSUhEUgAAAA8AAAAPBAMAAADJ+Ih5AAAAMFBMVEX///8QEBAiIiLu7u5ERES6\n",
       "urqYmJiIiIjMzMx2dnZUVFRmZmaqqqoyMjLc3NwAAABb1yYoAAAAAXRSTlMAQObYZgAAAAlwSFlz\n",
       "AAAOxAAADsQBlSsOGwAAAF9JREFUCNdjYACBtwxQcB9K8/yHMrjXP4Aw5s1vANN8BfUHIDIM5xPA\n",
       "jBiG/glgxgaG9wtANLv37vUOIIY5AwO/AkSGgUkASLMCdfB+ADIeAjHLPwYGk/+XGXj8/04AADnq\n",
       "Fzds8Dk2AAAAAElFTkSuQmCC\n",
       "\" style=\"display:inline;vertical-align:middle;\" /></a> : <a class=\"ProveItLink\" href=\"../../number_sets/rational_numbers/__pv_it/common/3de3e316334b6ece430a3f1aee01ae68b192ecb30/expr.ipynb\"><img src=\"data:image/png;base64,iVBORw0KGgoAAAANSUhEUgAAABAAAAASBAMAAACgFUNZAAAAMFBMVEX///+qqqoyMjK6urqYmJgi\n",
       "IiLMzMwQEBBUVFSIiIjc3NxmZmZERER2dnbu7u4AAACF9pTcAAAAAXRSTlMAQObYZgAAAAlwSFlz\n",
       "AAAOxAAADsQBlSsOGwAAAIhJREFUCNdjYGB4e+bMLgYg4GxP4Iq4AGRcucLAYG3DwMB2QYGBgYdl\n",
       "AgPPuwYGBt4EBYY3bBMYGBgFtjHkMjswMDA7ODJYsggAFU4QYVjLCBaZzMADUbOPgecVVBczxByg\n",
       "wi1Aky2AJjPwguzaALJ19Sf9bQxg0Aa0CQw4JswQMwCzJA7VOAAAB5Qgh4eE7doAAAAASUVORK5C\n",
       "YII=\n",
       "\" style=\"display:inline;vertical-align:middle;\" /></a>, <a class=\"ProveItLink\" href=\"../../../__pv_it/common/a9162d1c3cc0470c02e5daf414500903a7a419230/expr.ipynb\"><img src=\"data:image/png;base64,iVBORw0KGgoAAAANSUhEUgAAABAAAAAOBAMAAADUAYG5AAAAMFBMVEX///92dnaqqqoiIiLu7u5m\n",
       "Zma6urqIiIjc3NwQEBDMzMwyMjJUVFRERESYmJgAAAAeMT9/AAAAAXRSTlMAQObYZgAAAAlwSFlz\n",
       "AAAOxAAADsQBlSsOGwAAAHJJREFUCNdjYGB4+//Mmb0LGIBgLgMDzy8gzfGdgYHtK5DBB+TxATkM\n",
       "PB8YGLhnABmcFxhYDoMUr79efvoBSFN9AwPTPBDjJhDLg6T+APH7AgYGrn9AxvkEBgb2H0DObyCH\n",
       "ewIDQ+YWoHH3/5w5fYmBAQBWoiHo17XzsQAAAABJRU5ErkJggg==\n",
       "\" style=\"display:inline;vertical-align:middle;\" /></a> : <a class=\"ProveItLink\" href=\"../../number_sets/real_numbers/__pv_it/common/93cac87a1a47e613f7a83b23ef7891599a1a4cca0/expr.ipynb\"><img src=\"data:image/png;base64,iVBORw0KGgoAAAANSUhEUgAAAA8AAAAPBAMAAADJ+Ih5AAAAMFBMVEX///+IiIiqqqpmZmbMzMx2\n",
       "dnbu7u66urpUVFTc3NwiIiJEREQQEBAyMjKYmJgAAAA9S0TaAAAAAXRSTlMAQObYZgAAAAlwSFlz\n",
       "AAAOxAAADsQBlSsOGwAAAGFJREFUCNdjeHt6/63TDxiAYMMMhorXCSDGVAZulgYIg3nCBRhjA4TB\n",
       "kQaV8tadAGLMufVLDKx96rtcBgiDOw9i4FQWg20QBoPJbCgjmxEkt2EyA9+D7QwMQNt3Muy+rwAA\n",
       "UbUqpptLVNkAAAAASUVORK5CYII=\n",
       "\" style=\"display:inline;vertical-align:middle;\" /></a>, <a class=\"ProveItLink\" href=\"../../../__pv_it/common/a0d9d672aa5e272d907247690c152cc2c6daafb70/expr.ipynb\"><img src=\"data:image/png;base64,iVBORw0KGgoAAAANSUhEUgAAAAsAAAAJBAMAAAAWSsseAAAAMFBMVEX///9ERES6uroQEBAyMjLc\n",
       "3NyYmJgiIiJmZmaqqqp2dnbMzMxUVFSIiIju7u4AAAAd7oVFAAAAAXRSTlMAQObYZgAAAAlwSFlz\n",
       "AAAOxAAADsQBlSsOGwAAAENJREFUCNdjYHh75/WqCQwMDbxnOQoY2ALY/vEkMHAzcDgwgADzBTCl\n",
       "H8D3gOGhwmEGLgaG+fuaGTQZGF7c5WybwAAAJTwQ1a2DuB8AAAAASUVORK5CYII=\n",
       "\" style=\"display:inline;vertical-align:middle;\" /></a> : <a class=\"ProveItLink\" href=\"../../numerals/__pv_it/common/1943b60945420e340d305780feff5c1aff2740ff0/expr.ipynb\"><img src=\"data:image/png;base64,iVBORw0KGgoAAAANSUhEUgAAAAoAAAAOBAMAAADkjZCYAAAAMFBMVEX///9UVFTMzMwiIiKYmJgQ\n",
       "EBAyMjKIiIiqqqru7u66urpERERmZmZ2dnbc3NwAAABametFAAAAAXRSTlMAQObYZgAAAAlwSFlz\n",
       "AAAOxAAADsQBlSsOGwAAAExJREFUCNdjYHh7ZxcDA+cBhv4GBvYfDPMTGLiiGPgTGICg3wFIcJkA\n",
       "CaZCIQawSAOIZP3JwKTAwP2Dgf8niGQVAImwOIDVrzmziwEADhoSVJBN9+MAAAAASUVORK5CYII=\n",
       "\" style=\"display:inline;vertical-align:middle;\" /></a></span></td></tr><tr><td><a name=\"-0x781d8d73d530194_step17\">17</a></td><td>conjecture</td><td></td><td><span style=\"font-size:20px;\"> <a class=\"ProveItLink\" href=\"../../number_sets/real_numbers/_theory_nbs_/proofs/real_neg_within_real/thm_proof.ipynb\" style=\"text-decoration: none\">&nbsp;&#x22A2;&nbsp;&nbsp;</a><a class=\"ProveItLink\" href=\"../../number_sets/real_numbers/__pv_it/theorems/60b0a65eec5d1057a84ba2045c9a2537540b1c380/expr.ipynb\"><img src=\"data:image/png;base64,iVBORw0KGgoAAAANSUhEUgAAAEgAAAAQBAMAAABHHiTuAAAAMFBMVEX///+IiIiqqqpmZmbMzMx2\n",
       "dnbu7u66urpUVFTc3NwiIiJEREQQEBAyMjKYmJgAAAA9S0TaAAAAAXRSTlMAQObYZgAAAAlwSFlz\n",
       "AAAOxAAADsQBlSsOGwAAAPVJREFUKM9jeHt6/63TDxiwAr47u/+u2QdibZjBUPE6Absqbs4G9r5t\n",
       "IEVTGbhZGhi8dwPBBAxFAQwbPCCKmCdcwGVSAIMlL0zRBhQ56VWrVi2BK+KGKOJIa0BW4xuJbFJb\n",
       "BkSRty6yY9hWIlvHsukmSNGcW7/EkA3iKEBSdHb9wgSwSe9yUVzEi+zwuGdgP22Yyp2HEpgeKL7b\n",
       "9g6iiMVgG7KiGSiKnLkh1jGYzEZWxIWiiNlzA0RRNiOyfcwPkBWxbZADKZrMwPdgO7JR15EUGTC8\n",
       "4y5gAKaCnQy77ysgKcpuT4Cngt8TuPd+whplpbug0QIFAKdRVwFoJQNdAAAAAElFTkSuQmCC\n",
       "\" style=\"display:inline;vertical-align:middle;\" /></a></span></td></tr>\n",
       "<tr><td>&nbsp;</td><td colspan=4 style-\"text-align:left\"><a class=\"ProveItLink\" href=\"../../number_sets/real_numbers/_theory_nbs_/proofs/real_neg_within_real/thm_proof.ipynb\">proveit.numbers.number_sets.real_numbers.real_neg_within_real</a></td></tr><tr><td><a name=\"-0x781d8d73d530194_step18\">18</a></td><td>assumption</td><td></td><td><span style=\"font-size:20px;\"><a class=\"ProveItLink\" href=\"../__pv_it/demonstrations/885cc228aa47f4d61d07e1691f08d60a4b0eb17d0/expr.ipynb\"><img src=\"data:image/png;base64,iVBORw0KGgoAAAANSUhEUgAAAD0AAAAQBAMAAABXfmoyAAAAMFBMVEX///+YmJjMzMzc3NyIiIhU\n",
       "VFR2dna6urqqqqpmZmYyMjIiIiIQEBBERETu7u4AAAD7tRWPAAAAAXRSTlMAQObYZgAAAAlwSFlz\n",
       "AAAOxAAADsQBlSsOGwAAAOBJREFUGNNjYEAHUmfvrz4rAOfy3dmApuCCKUOp7AM4l2sCurwZAy9T\n",
       "AIPuXSAwYGDgb8CU5zRYAOfWw4zy3b17AVz+Alw+G0pX+SH0s74LgMsvdYkAUczrkMzX7TKAu//X\n",
       "g/cgDhdc5ILN6t9+cO0c/xh4HEDySO4TfIVwLecCBv4EIK2zGwguQOR5HyLChzuBoR7kw7dI+pkm\n",
       "3IPzgN6fD/IhN7L/J9ki5BX4DoJoFgck+bcscAtYBXghAbwCLm/JwChwHe6/sIkQxtPrD2Dxd5nh\n",
       "7voGjIgtu717AYYgAGEMR51YMKm3AAAAAElFTkSuQmCC\n",
       "\" style=\"display:inline;vertical-align:middle;\" /></a> <a class=\"ProveItLink\" href=\"../__pv_it/demonstrations/7ef68e31c65dd8a2f4c02136d3d5fdbad2c5b1190/proof.ipynb\" style=\"text-decoration: none\">&nbsp;&#x22A2;&nbsp;&nbsp;</a><a class=\"ProveItLink\" href=\"../__pv_it/demonstrations/885cc228aa47f4d61d07e1691f08d60a4b0eb17d0/expr.ipynb\"><img src=\"data:image/png;base64,iVBORw0KGgoAAAANSUhEUgAAAD0AAAAQBAMAAABXfmoyAAAAMFBMVEX///+YmJjMzMzc3NyIiIhU\n",
       "VFR2dna6urqqqqpmZmYyMjIiIiIQEBBERETu7u4AAAD7tRWPAAAAAXRSTlMAQObYZgAAAAlwSFlz\n",
       "AAAOxAAADsQBlSsOGwAAAOBJREFUGNNjYEAHUmfvrz4rAOfy3dmApuCCKUOp7AM4l2sCurwZAy9T\n",
       "AIPuXSAwYGDgb8CU5zRYAOfWw4zy3b17AVz+Alw+G0pX+SH0s74LgMsvdYkAUczrkMzX7TKAu//X\n",
       "g/cgDhdc5ILN6t9+cO0c/xh4HEDySO4TfIVwLecCBv4EIK2zGwguQOR5HyLChzuBoR7kw7dI+pkm\n",
       "3IPzgN6fD/IhN7L/J9ki5BX4DoJoFgck+bcscAtYBXghAbwCLm/JwChwHe6/sIkQxtPrD2Dxd5nh\n",
       "7voGjIgtu717AYYgAGEMR51YMKm3AAAAAElFTkSuQmCC\n",
       "\" style=\"display:inline;vertical-align:middle;\" /></a></span></td></tr>\n",
       "<tr><td><a name=\"-0x781d8d73d530194_step19\">19</a></td><td>instantiation</td><td><a href=\"#-0x781d8d73d530194_step26\">26</a>, <a href=\"#-0x781d8d73d530194_step23\">23</a>, <a href=\"#-0x781d8d73d530194_step22\">22</a></td><td><span style=\"font-size:20px;\"> <a class=\"ProveItLink\" href=\"../__pv_it/demonstrations/65b3940948d41d20a3439fa181e29998369e49ad0/proof.ipynb\" style=\"text-decoration: none\">&nbsp;&#x22A2;&nbsp;&nbsp;</a><a class=\"ProveItLink\" href=\"../__pv_it/demonstrations/9fcd7e1f9f79a43396482feffbef8cf6ef083bbd0/expr.ipynb\"><img src=\"data:image/png;base64,iVBORw0KGgoAAAANSUhEUgAAADMAAAASBAMAAAAEf/uKAAAAMFBMVEX///8AAAAAAAAAAAAAAAAA\n",
       "AAAAAAAAAAAAAAAAAAAAAAAAAAAAAAAAAAAAAAAAAAAv3aB7AAAAD3RSTlMAIpnNuzKJRKvvEN12\n",
       "ZlQ4bmvwAAAACXBIWXMAAA7EAAAOxAGVKw4bAAABAklEQVQY02NgwARcKS5OAkCaUckkAE3qxFQG\n",
       "6TYgLcLA9h1Vhu3aBQZ2dQcGhkYGhpmoUmHMQMLhDgPD/AUM/QJgoSO7dxuAaK8VQCIVKN/NwNAP\n",
       "tqz4FNQRDjFA8h0TWHA/iGC0gprHmlALJGt5H4DYf0AizAJQKfYD94BkDN8FIMndAJaCuYIx4S1I\n",
       "F08BkFQBi0TuBgIHEAtq1wIGBl6wJoYlcMd7SUBdyPCMgRFkDTdcqgzsr3sgBzHwAPUy8ByASTGB\n",
       "QqMdaLa0kpI2WMQOri0DGIZNIE/9//8ZLLDCfQHMjfrGn1CDvMwbElAMDBwBdxhwgR6evnAcUnwt\n",
       "lr4MAECIOxjlwmF1AAAAAElFTkSuQmCC\n",
       "\" style=\"display:inline;vertical-align:middle;\" /></a></span></td></tr>\n",
       "<tr><td>&nbsp;</td><td colspan=4 style=\"text-align:left\"><span style=\"font-size:20px;\"><a class=\"ProveItLink\" href=\"../../../__pv_it/common/09585084922504426caf1db2ff588a23a0932a960/expr.ipynb\"><img src=\"data:image/png;base64,iVBORw0KGgoAAAANSUhEUgAAAA8AAAAPBAMAAADJ+Ih5AAAAMFBMVEX///8QEBAiIiLu7u5ERES6\n",
       "urqYmJiIiIjMzMx2dnZUVFRmZmaqqqoyMjLc3NwAAABb1yYoAAAAAXRSTlMAQObYZgAAAAlwSFlz\n",
       "AAAOxAAADsQBlSsOGwAAAF9JREFUCNdjYACBtwxQcB9K8/yHMrjXP4Aw5s1vANN8BfUHIDIM5xPA\n",
       "jBiG/glgxgaG9wtANLv37vUOIIY5AwO/AkSGgUkASLMCdfB+ADIeAjHLPwYGk/+XGXj8/04AADnq\n",
       "Fzds8Dk2AAAAAElFTkSuQmCC\n",
       "\" style=\"display:inline;vertical-align:middle;\" /></a> : <a class=\"ProveItLink\" href=\"../../number_sets/integers/__pv_it/common/e6b4e90f9467053e055a4fd2f735c0bb79cb79300/expr.ipynb\"><img src=\"data:image/png;base64,iVBORw0KGgoAAAANSUhEUgAAAA4AAAAPBAMAAAAmOuNHAAAAMFBMVEX///+6urru7u7c3Nx2dnZm\n",
       "ZmbMzMxUVFSIiIiYmJgiIiJEREQQEBAyMjKqqqoAAAB4Cw+YAAAAAXRSTlMAQObYZgAAAAlwSFlz\n",
       "AAAOxAAADsQBlSsOGwAAAHFJREFUCNdj4Lvz5/aqPRMYOLYnMFzgZWBgDWDgmODHwMBuwKDNtIGB\n",
       "gYmBIYw9gQEI2ApSQRQDt8ImMP2EswFMg3QBAccDRwYGBQYGbWagrmIGhjKgCUwfGNgCRIGGLQDq\n",
       "usTAvG8Dg8ze07vPn3YAAOWCGbaz3v97AAAAAElFTkSuQmCC\n",
       "\" style=\"display:inline;vertical-align:middle;\" /></a>, <a class=\"ProveItLink\" href=\"../../../__pv_it/common/a9162d1c3cc0470c02e5daf414500903a7a419230/expr.ipynb\"><img src=\"data:image/png;base64,iVBORw0KGgoAAAANSUhEUgAAABAAAAAOBAMAAADUAYG5AAAAMFBMVEX///92dnaqqqoiIiLu7u5m\n",
       "Zma6urqIiIjc3NwQEBDMzMwyMjJUVFRERESYmJgAAAAeMT9/AAAAAXRSTlMAQObYZgAAAAlwSFlz\n",
       "AAAOxAAADsQBlSsOGwAAAHJJREFUCNdjYGB4+//Mmb0LGIBgLgMDzy8gzfGdgYHtK5DBB+TxATkM\n",
       "PB8YGLhnABmcFxhYDoMUr79efvoBSFN9AwPTPBDjJhDLg6T+APH7AgYGrn9AxvkEBgb2H0DObyCH\n",
       "ewIDQ+YWoHH3/5w5fYmBAQBWoiHo17XzsQAAAABJRU5ErkJggg==\n",
       "\" style=\"display:inline;vertical-align:middle;\" /></a> : <a class=\"ProveItLink\" href=\"../../number_sets/rational_numbers/__pv_it/common/3de3e316334b6ece430a3f1aee01ae68b192ecb30/expr.ipynb\"><img src=\"data:image/png;base64,iVBORw0KGgoAAAANSUhEUgAAABAAAAASBAMAAACgFUNZAAAAMFBMVEX///+qqqoyMjK6urqYmJgi\n",
       "IiLMzMwQEBBUVFSIiIjc3NxmZmZERER2dnbu7u4AAACF9pTcAAAAAXRSTlMAQObYZgAAAAlwSFlz\n",
       "AAAOxAAADsQBlSsOGwAAAIhJREFUCNdjYGB4e+bMLgYg4GxP4Iq4AGRcucLAYG3DwMB2QYGBgYdl\n",
       "AgPPuwYGBt4EBYY3bBMYGBgFtjHkMjswMDA7ODJYsggAFU4QYVjLCBaZzMADUbOPgecVVBczxByg\n",
       "wi1Aky2AJjPwguzaALJ19Sf9bQxg0Aa0CQw4JswQMwCzJA7VOAAAB5Qgh4eE7doAAAAASUVORK5C\n",
       "YII=\n",
       "\" style=\"display:inline;vertical-align:middle;\" /></a>, <a class=\"ProveItLink\" href=\"../../../__pv_it/common/a0d9d672aa5e272d907247690c152cc2c6daafb70/expr.ipynb\"><img src=\"data:image/png;base64,iVBORw0KGgoAAAANSUhEUgAAAAsAAAAJBAMAAAAWSsseAAAAMFBMVEX///9ERES6uroQEBAyMjLc\n",
       "3NyYmJgiIiJmZmaqqqp2dnbMzMxUVFSIiIju7u4AAAAd7oVFAAAAAXRSTlMAQObYZgAAAAlwSFlz\n",
       "AAAOxAAADsQBlSsOGwAAAENJREFUCNdjYHh75/WqCQwMDbxnOQoY2ALY/vEkMHAzcDgwgADzBTCl\n",
       "H8D3gOGhwmEGLgaG+fuaGTQZGF7c5WybwAAAJTwQ1a2DuB8AAAAASUVORK5CYII=\n",
       "\" style=\"display:inline;vertical-align:middle;\" /></a> : <a class=\"ProveItLink\" href=\"../../numerals/__pv_it/common/af4aab8a07465db063742696e006d04670f30cf10/expr.ipynb\"><img src=\"data:image/png;base64,iVBORw0KGgoAAAANSUhEUgAAAAkAAAAOBAMAAAAPuiubAAAAMFBMVEX///+qqqqYmJiIiIgiIiLu\n",
       "7u4QEBBUVFS6urp2dnbMzMxEREQyMjJmZmbc3NwAAADzFso2AAAAAXRSTlMAQObYZgAAAAlwSFlz\n",
       "AAAOxAAADsQBlSsOGwAAAE9JREFUCNdj4Lt7egEDw2sGzh8MDHUMDGkMDPkBDPUPGEoYGOqBEgwM\n",
       "/iCC6zOIZCkAkbdBBBOYKcnA94CBawIDcwDDk7t3rwAV////hwEAK9UUlDYDfx8AAAAASUVORK5C\n",
       "YII=\n",
       "\" style=\"display:inline;vertical-align:middle;\" /></a></span></td></tr><tr><td><a name=\"-0x781d8d73d530194_step20\">20</a></td><td>conjecture</td><td></td><td><span style=\"font-size:20px;\"> <a class=\"ProveItLink\" href=\"../../number_sets/real_numbers/_theory_nbs_/proofs/rational_within_real/thm_proof.ipynb\" style=\"text-decoration: none\">&nbsp;&#x22A2;&nbsp;&nbsp;</a><a class=\"ProveItLink\" href=\"../../number_sets/real_numbers/__pv_it/theorems/e682cd49905f8b52fcd025dd4d0c53b5fa6a75840/expr.ipynb\"><img src=\"data:image/png;base64,iVBORw0KGgoAAAANSUhEUgAAADsAAAASBAMAAAAXqLt+AAAAMFBMVEX///+qqqoyMjK6urqYmJgi\n",
       "IiLMzMwQEBBUVFSIiIjc3NxmZmZERER2dnbu7u4AAACF9pTcAAAAAXRSTlMAQObYZgAAAAlwSFlz\n",
       "AAAOxAAADsQBlSsOGwAAAQ9JREFUKM9jYGB4e+bMLgY04FRzXrXGAcTibE/giriALn9gBYOFzwMg\n",
       "48oVBgZrGwzptQw8bA0MDGwXFBgYeFgmYEpzLwDJvAOq4U1QAAtyHg0NDU2ASx9gYHjDBtTIKLAN\n",
       "JMamuwBJNwdIYy4z0IHMDo4gsacLkA3PEQJyLVkEgNomiIDEmpHsXq76dR6QXssI1j0ZJKaA7DSX\n",
       "RyCaB2L3PpDVDcjSPE9AwcLzCu5yLhRptg3ngDQzxN8CILEAFH9vWwNibAGGmgUk1LagSL/hBJnO\n",
       "CwrzDWAxJgOE9GoGFofDINbqT/rbIGJ8J+wQMXaK4Yw+2Mo2eIgz34EFKhLgmDBDzIABN5A4BIl6\n",
       "TAAAbZ9Tg9u7lbQAAAAASUVORK5CYII=\n",
       "\" style=\"display:inline;vertical-align:middle;\" /></a></span></td></tr>\n",
       "<tr><td>&nbsp;</td><td colspan=4 style-\"text-align:left\"><a class=\"ProveItLink\" href=\"../../number_sets/real_numbers/_theory_nbs_/proofs/rational_within_real/thm_proof.ipynb\">proveit.numbers.number_sets.real_numbers.rational_within_real</a></td></tr><tr><td><a name=\"-0x781d8d73d530194_step21\">21</a></td><td>instantiation</td><td><a href=\"#-0x781d8d73d530194_step26\">26</a>, <a href=\"#-0x781d8d73d530194_step23\">23</a>, <a href=\"#-0x781d8d73d530194_step24\">24</a></td><td><span style=\"font-size:20px;\"> <a class=\"ProveItLink\" href=\"../__pv_it/demonstrations/077950f31f0ff7317de7b41217c9627280193e3e0/proof.ipynb\" style=\"text-decoration: none\">&nbsp;&#x22A2;&nbsp;&nbsp;</a><a class=\"ProveItLink\" href=\"../__pv_it/demonstrations/ed2f86edfb234bf186ff915d4457a63e8d1b9b820/expr.ipynb\"><img src=\"data:image/png;base64,iVBORw0KGgoAAAANSUhEUgAAADQAAAASBAMAAADmo+DzAAAAMFBMVEX///8AAAAAAAAAAAAAAAAA\n",
       "AAAAAAAAAAAAAAAAAAAAAAAAAAAAAAAAAAAAAAAAAAAv3aB7AAAAD3RSTlMAIomZu0QQVHbN72bd\n",
       "Mqv0UZE7AAAACXBIWXMAAA7EAAAOxAGVKw4bAAABAElEQVQY02NgwAKSXFwMQbSQsiuaDMerC4zn\n",
       "FBgY2AwY6gtQpbS1GRiCQ4BKvjPkT0CR4VUA8lm4GxhYlzLwQ6Q4fM6cBNEsaQ8YGJgugAXrN4BI\n",
       "1hkJEF0pvA0MDOwFtiCx02ARSagMwyVWoFLWDduBRve9BYtMhNkVwQ10Fm9DNdhAsAvhbhFiB+tq\n",
       "BbG5voHctebMmTNHwM6A2GXGwHuBgeU7UIDNAaaLJRHqQv5vECmGAzApVoi/Chi4HkAMZOiA+9ka\n",
       "GBpxwNDg3gD1Fyc8uJhAYWgAZAQbQ4KX7UkYTE7453xblLBjVYEEFBC8BYYgDsDX0FcbgEOuznPJ\n",
       "BgA9YEHBOeDJFQAAAABJRU5ErkJggg==\n",
       "\" style=\"display:inline;vertical-align:middle;\" /></a></span></td></tr>\n",
       "<tr><td>&nbsp;</td><td colspan=4 style=\"text-align:left\"><span style=\"font-size:20px;\"><a class=\"ProveItLink\" href=\"../../../__pv_it/common/09585084922504426caf1db2ff588a23a0932a960/expr.ipynb\"><img src=\"data:image/png;base64,iVBORw0KGgoAAAANSUhEUgAAAA8AAAAPBAMAAADJ+Ih5AAAAMFBMVEX///8QEBAiIiLu7u5ERES6\n",
       "urqYmJiIiIjMzMx2dnZUVFRmZmaqqqoyMjLc3NwAAABb1yYoAAAAAXRSTlMAQObYZgAAAAlwSFlz\n",
       "AAAOxAAADsQBlSsOGwAAAF9JREFUCNdjYACBtwxQcB9K8/yHMrjXP4Aw5s1vANN8BfUHIDIM5xPA\n",
       "jBiG/glgxgaG9wtANLv37vUOIIY5AwO/AkSGgUkASLMCdfB+ADIeAjHLPwYGk/+XGXj8/04AADnq\n",
       "Fzds8Dk2AAAAAElFTkSuQmCC\n",
       "\" style=\"display:inline;vertical-align:middle;\" /></a> : <a class=\"ProveItLink\" href=\"../../number_sets/integers/__pv_it/common/e6b4e90f9467053e055a4fd2f735c0bb79cb79300/expr.ipynb\"><img src=\"data:image/png;base64,iVBORw0KGgoAAAANSUhEUgAAAA4AAAAPBAMAAAAmOuNHAAAAMFBMVEX///+6urru7u7c3Nx2dnZm\n",
       "ZmbMzMxUVFSIiIiYmJgiIiJEREQQEBAyMjKqqqoAAAB4Cw+YAAAAAXRSTlMAQObYZgAAAAlwSFlz\n",
       "AAAOxAAADsQBlSsOGwAAAHFJREFUCNdj4Lvz5/aqPRMYOLYnMFzgZWBgDWDgmODHwMBuwKDNtIGB\n",
       "gYmBIYw9gQEI2ApSQRQDt8ImMP2EswFMg3QBAccDRwYGBQYGbWagrmIGhjKgCUwfGNgCRIGGLQDq\n",
       "usTAvG8Dg8ze07vPn3YAAOWCGbaz3v97AAAAAElFTkSuQmCC\n",
       "\" style=\"display:inline;vertical-align:middle;\" /></a>, <a class=\"ProveItLink\" href=\"../../../__pv_it/common/a9162d1c3cc0470c02e5daf414500903a7a419230/expr.ipynb\"><img src=\"data:image/png;base64,iVBORw0KGgoAAAANSUhEUgAAABAAAAAOBAMAAADUAYG5AAAAMFBMVEX///92dnaqqqoiIiLu7u5m\n",
       "Zma6urqIiIjc3NwQEBDMzMwyMjJUVFRERESYmJgAAAAeMT9/AAAAAXRSTlMAQObYZgAAAAlwSFlz\n",
       "AAAOxAAADsQBlSsOGwAAAHJJREFUCNdjYGB4+//Mmb0LGIBgLgMDzy8gzfGdgYHtK5DBB+TxATkM\n",
       "PB8YGLhnABmcFxhYDoMUr79efvoBSFN9AwPTPBDjJhDLg6T+APH7AgYGrn9AxvkEBgb2H0DObyCH\n",
       "ewIDQ+YWoHH3/5w5fYmBAQBWoiHo17XzsQAAAABJRU5ErkJggg==\n",
       "\" style=\"display:inline;vertical-align:middle;\" /></a> : <a class=\"ProveItLink\" href=\"../../number_sets/rational_numbers/__pv_it/common/3de3e316334b6ece430a3f1aee01ae68b192ecb30/expr.ipynb\"><img src=\"data:image/png;base64,iVBORw0KGgoAAAANSUhEUgAAABAAAAASBAMAAACgFUNZAAAAMFBMVEX///+qqqoyMjK6urqYmJgi\n",
       "IiLMzMwQEBBUVFSIiIjc3NxmZmZERER2dnbu7u4AAACF9pTcAAAAAXRSTlMAQObYZgAAAAlwSFlz\n",
       "AAAOxAAADsQBlSsOGwAAAIhJREFUCNdjYGB4e+bMLgYg4GxP4Iq4AGRcucLAYG3DwMB2QYGBgYdl\n",
       "AgPPuwYGBt4EBYY3bBMYGBgFtjHkMjswMDA7ODJYsggAFU4QYVjLCBaZzMADUbOPgecVVBczxByg\n",
       "wi1Aky2AJjPwguzaALJ19Sf9bQxg0Aa0CQw4JswQMwCzJA7VOAAAB5Qgh4eE7doAAAAASUVORK5C\n",
       "YII=\n",
       "\" style=\"display:inline;vertical-align:middle;\" /></a>, <a class=\"ProveItLink\" href=\"../../../__pv_it/common/a0d9d672aa5e272d907247690c152cc2c6daafb70/expr.ipynb\"><img src=\"data:image/png;base64,iVBORw0KGgoAAAANSUhEUgAAAAsAAAAJBAMAAAAWSsseAAAAMFBMVEX///9ERES6uroQEBAyMjLc\n",
       "3NyYmJgiIiJmZmaqqqp2dnbMzMxUVFSIiIju7u4AAAAd7oVFAAAAAXRSTlMAQObYZgAAAAlwSFlz\n",
       "AAAOxAAADsQBlSsOGwAAAENJREFUCNdjYHh75/WqCQwMDbxnOQoY2ALY/vEkMHAzcDgwgADzBTCl\n",
       "H8D3gOGhwmEGLgaG+fuaGTQZGF7c5WybwAAAJTwQ1a2DuB8AAAAASUVORK5CYII=\n",
       "\" style=\"display:inline;vertical-align:middle;\" /></a> : <a class=\"ProveItLink\" href=\"../../numerals/__pv_it/common/1943b60945420e340d305780feff5c1aff2740ff0/expr.ipynb\"><img src=\"data:image/png;base64,iVBORw0KGgoAAAANSUhEUgAAAAoAAAAOBAMAAADkjZCYAAAAMFBMVEX///9UVFTMzMwiIiKYmJgQ\n",
       "EBAyMjKIiIiqqqru7u66urpERERmZmZ2dnbc3NwAAABametFAAAAAXRSTlMAQObYZgAAAAlwSFlz\n",
       "AAAOxAAADsQBlSsOGwAAAExJREFUCNdjYHh7ZxcDA+cBhv4GBvYfDPMTGLiiGPgTGICg3wFIcJkA\n",
       "CaZCIQawSAOIZP3JwKTAwP2Dgf8niGQVAImwOIDVrzmziwEADhoSVJBN9+MAAAAASUVORK5CYII=\n",
       "\" style=\"display:inline;vertical-align:middle;\" /></a></span></td></tr><tr><td><a name=\"-0x781d8d73d530194_step22\">22</a></td><td>instantiation</td><td><a href=\"#-0x781d8d73d530194_step26\">26</a>, <a href=\"#-0x781d8d73d530194_step27\">27</a>, <a href=\"#-0x781d8d73d530194_step25\">25</a></td><td><span style=\"font-size:20px;\"> <a class=\"ProveItLink\" href=\"../__pv_it/demonstrations/288cb3dc7727810780b63ee223c41777e904a1d30/proof.ipynb\" style=\"text-decoration: none\">&nbsp;&#x22A2;&nbsp;&nbsp;</a><a class=\"ProveItLink\" href=\"../__pv_it/demonstrations/bac10758646a1685ada3fe39e190d9fb360007460/expr.ipynb\"><img src=\"data:image/png;base64,iVBORw0KGgoAAAANSUhEUgAAADEAAAAQBAMAAABNQoq8AAAAMFBMVEX///8AAAAAAAAAAAAAAAAA\n",
       "AAAAAAAAAAAAAAAAAAAAAAAAAAAAAAAAAAAAAAAAAAAv3aB7AAAAD3RSTlMAIpnNuzKJRKvvEN12\n",
       "ZlQ4bmvwAAAACXBIWXMAAA7EAAAOxAGVKw4bAAAA6ElEQVQY02NgwACP50/23jKXgYFRySQAVeZI\n",
       "KwMzgwEDgwgD23dUGSUGhrNsDxgYGhkYZqLKNDJwOSwB0vMXMPQLQEzZvdsARC9gYApoBdLdDAz9\n",
       "YIuKT8F1RbAqQBj7QQSjFcI8L5YFYJr1D4hkFoBL8CXcgTC4G8AyCC1gN4OACpiM3A0EDmDmObYC\n",
       "Bi4gzQvWwrAEroXLQYSBgQNo+DMGRpAV3HAZjgCgH9cD7U9g4AG5hOcATCaIXQHsGWklJW2wgB3c\n",
       "zcwLGESeAD3z//9nsMAKd4gn2KdYunj+dEMOrzLv3QZIXAD9XDFvtfFLvQAAAABJRU5ErkJggg==\n",
       "\" style=\"display:inline;vertical-align:middle;\" /></a></span></td></tr>\n",
       "<tr><td>&nbsp;</td><td colspan=4 style=\"text-align:left\"><span style=\"font-size:20px;\"><a class=\"ProveItLink\" href=\"../../../__pv_it/common/09585084922504426caf1db2ff588a23a0932a960/expr.ipynb\"><img src=\"data:image/png;base64,iVBORw0KGgoAAAANSUhEUgAAAA8AAAAPBAMAAADJ+Ih5AAAAMFBMVEX///8QEBAiIiLu7u5ERES6\n",
       "urqYmJiIiIjMzMx2dnZUVFRmZmaqqqoyMjLc3NwAAABb1yYoAAAAAXRSTlMAQObYZgAAAAlwSFlz\n",
       "AAAOxAAADsQBlSsOGwAAAF9JREFUCNdjYACBtwxQcB9K8/yHMrjXP4Aw5s1vANN8BfUHIDIM5xPA\n",
       "jBiG/glgxgaG9wtANLv37vUOIIY5AwO/AkSGgUkASLMCdfB+ADIeAjHLPwYGk/+XGXj8/04AADnq\n",
       "Fzds8Dk2AAAAAElFTkSuQmCC\n",
       "\" style=\"display:inline;vertical-align:middle;\" /></a> : <a class=\"ProveItLink\" href=\"../../number_sets/natural_numbers/__pv_it/common/8b7c321957f52ed3b05b36af612eeae4fa4783bc0/expr.ipynb\"><img src=\"data:image/png;base64,iVBORw0KGgoAAAANSUhEUgAAAA8AAAAPBAMAAADJ+Ih5AAAAMFBMVEX///9mZmbMzMyIiIiYmJjc\n",
       "3NxUVFSqqqq6uroQEBB2dnYyMjJEREQiIiLu7u4AAAAPqInnAAAAAXRSTlMAQObYZgAAAAlwSFlz\n",
       "AAAOxAAADsQBlSsOGwAAAGpJREFUCNdjePvn9AOGlT8bGBiOcyQw8H1gYGDIDVjCwDAByEg/wB3A\n",
       "cAHISHVm3QBhsClYQRgMB3gaIAxFvnsQBktBzQQwgyGPDcp4xgeRYmAyOABkHAJiIxBjOxAzbmBg\n",
       "0P4J5PFtYAAA324hOGf9e3cAAAAASUVORK5CYII=\n",
       "\" style=\"display:inline;vertical-align:middle;\" /></a>, <a class=\"ProveItLink\" href=\"../../../__pv_it/common/a9162d1c3cc0470c02e5daf414500903a7a419230/expr.ipynb\"><img src=\"data:image/png;base64,iVBORw0KGgoAAAANSUhEUgAAABAAAAAOBAMAAADUAYG5AAAAMFBMVEX///92dnaqqqoiIiLu7u5m\n",
       "Zma6urqIiIjc3NwQEBDMzMwyMjJUVFRERESYmJgAAAAeMT9/AAAAAXRSTlMAQObYZgAAAAlwSFlz\n",
       "AAAOxAAADsQBlSsOGwAAAHJJREFUCNdjYGB4+//Mmb0LGIBgLgMDzy8gzfGdgYHtK5DBB+TxATkM\n",
       "PB8YGLhnABmcFxhYDoMUr79efvoBSFN9AwPTPBDjJhDLg6T+APH7AgYGrn9AxvkEBgb2H0DObyCH\n",
       "ewIDQ+YWoHH3/5w5fYmBAQBWoiHo17XzsQAAAABJRU5ErkJggg==\n",
       "\" style=\"display:inline;vertical-align:middle;\" /></a> : <a class=\"ProveItLink\" href=\"../../number_sets/integers/__pv_it/common/e6b4e90f9467053e055a4fd2f735c0bb79cb79300/expr.ipynb\"><img src=\"data:image/png;base64,iVBORw0KGgoAAAANSUhEUgAAAA4AAAAPBAMAAAAmOuNHAAAAMFBMVEX///+6urru7u7c3Nx2dnZm\n",
       "ZmbMzMxUVFSIiIiYmJgiIiJEREQQEBAyMjKqqqoAAAB4Cw+YAAAAAXRSTlMAQObYZgAAAAlwSFlz\n",
       "AAAOxAAADsQBlSsOGwAAAHFJREFUCNdj4Lvz5/aqPRMYOLYnMFzgZWBgDWDgmODHwMBuwKDNtIGB\n",
       "gYmBIYw9gQEI2ApSQRQDt8ImMP2EswFMg3QBAccDRwYGBQYGbWagrmIGhjKgCUwfGNgCRIGGLQDq\n",
       "usTAvG8Dg8ze07vPn3YAAOWCGbaz3v97AAAAAElFTkSuQmCC\n",
       "\" style=\"display:inline;vertical-align:middle;\" /></a>, <a class=\"ProveItLink\" href=\"../../../__pv_it/common/a0d9d672aa5e272d907247690c152cc2c6daafb70/expr.ipynb\"><img src=\"data:image/png;base64,iVBORw0KGgoAAAANSUhEUgAAAAsAAAAJBAMAAAAWSsseAAAAMFBMVEX///9ERES6uroQEBAyMjLc\n",
       "3NyYmJgiIiJmZmaqqqp2dnbMzMxUVFSIiIju7u4AAAAd7oVFAAAAAXRSTlMAQObYZgAAAAlwSFlz\n",
       "AAAOxAAADsQBlSsOGwAAAENJREFUCNdjYHh75/WqCQwMDbxnOQoY2ALY/vEkMHAzcDgwgADzBTCl\n",
       "H8D3gOGhwmEGLgaG+fuaGTQZGF7c5WybwAAAJTwQ1a2DuB8AAAAASUVORK5CYII=\n",
       "\" style=\"display:inline;vertical-align:middle;\" /></a> : <a class=\"ProveItLink\" href=\"../../numerals/__pv_it/common/af4aab8a07465db063742696e006d04670f30cf10/expr.ipynb\"><img src=\"data:image/png;base64,iVBORw0KGgoAAAANSUhEUgAAAAkAAAAOBAMAAAAPuiubAAAAMFBMVEX///+qqqqYmJiIiIgiIiLu\n",
       "7u4QEBBUVFS6urp2dnbMzMxEREQyMjJmZmbc3NwAAADzFso2AAAAAXRSTlMAQObYZgAAAAlwSFlz\n",
       "AAAOxAAADsQBlSsOGwAAAE9JREFUCNdj4Lt7egEDw2sGzh8MDHUMDGkMDPkBDPUPGEoYGOqBEgwM\n",
       "/iCC6zOIZCkAkbdBBBOYKcnA94CBawIDcwDDk7t3rwAV////hwEAK9UUlDYDfx8AAAAASUVORK5C\n",
       "YII=\n",
       "\" style=\"display:inline;vertical-align:middle;\" /></a></span></td></tr><tr><td><a name=\"-0x781d8d73d530194_step23\">23</a></td><td>conjecture</td><td></td><td><span style=\"font-size:20px;\"> <a class=\"ProveItLink\" href=\"../../number_sets/rational_numbers/_theory_nbs_/proofs/int_within_rational/thm_proof.ipynb\" style=\"text-decoration: none\">&nbsp;&#x22A2;&nbsp;&nbsp;</a><a class=\"ProveItLink\" href=\"../../number_sets/rational_numbers/__pv_it/theorems/f82654afbc103bcf8089d3e3a9860276c55562410/expr.ipynb\"><img src=\"data:image/png;base64,iVBORw0KGgoAAAANSUhEUgAAADkAAAASBAMAAAATXWtDAAAAMFBMVEX///+6urru7u7c3Nx2dnZm\n",
       "ZmbMzMxUVFSIiIiYmJgiIiJEREQQEBAyMjKqqqoAAAB4Cw+YAAAAAXRSTlMAQObYZgAAAAlwSFlz\n",
       "AAAOxAAADsQBlSsOGwAAAR1JREFUKM9j4Lvz5/aqPRMYUAGT9+6tBkCaY3sCwwVeNEmG9mMMViVA\n",
       "mjWAgWOCH5oky5QJDIyBGxgY2A0YtJk2oMmmgAzbMANoAwNDGHsCRLB71apVy0CMTepAwg1sH1tB\n",
       "KkQy1xnmpg0ZQPIdK0gTt8ImiNhimMFsDpJAUpLzAZB8wtkAFmMXgMkyNswDkhl8IH/C/IPwFrPD\n",
       "S5BeDqByjgeODAwKQF46ws1Qe4Gi2sxA/xQDeeYI2U3mMDeXAX3M9AHI4ELIioD9C7ScLUAU6KAF\n",
       "oFBDBDYrKKwKN4D8c4mBeR84sC4iNLsDw7kUSMvsPb37/GkHkJB2oQLc1fF3vyagBa/ILmhIAu1K\n",
       "mMGAB1Rw1CXiluWrvrOTAQA3YEQkJkVQqQAAAABJRU5ErkJggg==\n",
       "\" style=\"display:inline;vertical-align:middle;\" /></a></span></td></tr>\n",
       "<tr><td>&nbsp;</td><td colspan=4 style-\"text-align:left\"><a class=\"ProveItLink\" href=\"../../number_sets/rational_numbers/_theory_nbs_/proofs/int_within_rational/thm_proof.ipynb\">proveit.numbers.number_sets.rational_numbers.int_within_rational</a></td></tr><tr><td><a name=\"-0x781d8d73d530194_step24\">24</a></td><td>instantiation</td><td><a href=\"#-0x781d8d73d530194_step26\">26</a>, <a href=\"#-0x781d8d73d530194_step27\">27</a>, <a href=\"#-0x781d8d73d530194_step28\">28</a></td><td><span style=\"font-size:20px;\"> <a class=\"ProveItLink\" href=\"../__pv_it/demonstrations/336698de6242ba2d36d141cc01881c804067f6eb0/proof.ipynb\" style=\"text-decoration: none\">&nbsp;&#x22A2;&nbsp;&nbsp;</a><a class=\"ProveItLink\" href=\"../__pv_it/demonstrations/0f3013e202906f9e4df2f20e44ea5ef8f7131b290/expr.ipynb\"><img src=\"data:image/png;base64,iVBORw0KGgoAAAANSUhEUgAAADIAAAAQBAMAAACmdTG/AAAAMFBMVEX///8AAAAAAAAAAAAAAAAA\n",
       "AAAAAAAAAAAAAAAAAAAAAAAAAAAAAAAAAAAAAAAAAAAv3aB7AAAAD3RSTlMAIomZu0QQVHbN72bd\n",
       "Mqv0UZE7AAAACXBIWXMAAA7EAAAOxAGVKw4bAAAA6klEQVQY02NgwADss35NOeO1gYFBSNkVVYbD\n",
       "7wLDBE4GBjYDhvoCFBlmAwaODepAFd8Z8iegyPAJMKSwOTAwsC5l4IfIcPicOQmi2RgYbPkugIXq\n",
       "N4BI1hkJMF28Dy6DadbTYEoSLsHAkuAGVtD3FsydiLCpiLsBwoC4DckZIDeDAdc3kNY1Z86cOQJx\n",
       "SoEqA0MCA+8FBpbvIBc5wLWkMALZDxn4v0FkGA7AZd4CfcT2gYHrAcQ0hg64mw2Cgd49wMC9Aeof\n",
       "zgK4m6cxMLoDDQw2hoQo25MwiEyU5xKX9UsUkMKLVQUSOlAAAKJNN0u9eQ+gAAAAAElFTkSuQmCC\n",
       "\" style=\"display:inline;vertical-align:middle;\" /></a></span></td></tr>\n",
       "<tr><td>&nbsp;</td><td colspan=4 style=\"text-align:left\"><span style=\"font-size:20px;\"><a class=\"ProveItLink\" href=\"../../../__pv_it/common/09585084922504426caf1db2ff588a23a0932a960/expr.ipynb\"><img src=\"data:image/png;base64,iVBORw0KGgoAAAANSUhEUgAAAA8AAAAPBAMAAADJ+Ih5AAAAMFBMVEX///8QEBAiIiLu7u5ERES6\n",
       "urqYmJiIiIjMzMx2dnZUVFRmZmaqqqoyMjLc3NwAAABb1yYoAAAAAXRSTlMAQObYZgAAAAlwSFlz\n",
       "AAAOxAAADsQBlSsOGwAAAF9JREFUCNdjYACBtwxQcB9K8/yHMrjXP4Aw5s1vANN8BfUHIDIM5xPA\n",
       "jBiG/glgxgaG9wtANLv37vUOIIY5AwO/AkSGgUkASLMCdfB+ADIeAjHLPwYGk/+XGXj8/04AADnq\n",
       "Fzds8Dk2AAAAAElFTkSuQmCC\n",
       "\" style=\"display:inline;vertical-align:middle;\" /></a> : <a class=\"ProveItLink\" href=\"../../number_sets/natural_numbers/__pv_it/common/8b7c321957f52ed3b05b36af612eeae4fa4783bc0/expr.ipynb\"><img src=\"data:image/png;base64,iVBORw0KGgoAAAANSUhEUgAAAA8AAAAPBAMAAADJ+Ih5AAAAMFBMVEX///9mZmbMzMyIiIiYmJjc\n",
       "3NxUVFSqqqq6uroQEBB2dnYyMjJEREQiIiLu7u4AAAAPqInnAAAAAXRSTlMAQObYZgAAAAlwSFlz\n",
       "AAAOxAAADsQBlSsOGwAAAGpJREFUCNdjePvn9AOGlT8bGBiOcyQw8H1gYGDIDVjCwDAByEg/wB3A\n",
       "cAHISHVm3QBhsClYQRgMB3gaIAxFvnsQBktBzQQwgyGPDcp4xgeRYmAyOABkHAJiIxBjOxAzbmBg\n",
       "0P4J5PFtYAAA324hOGf9e3cAAAAASUVORK5CYII=\n",
       "\" style=\"display:inline;vertical-align:middle;\" /></a>, <a class=\"ProveItLink\" href=\"../../../__pv_it/common/a9162d1c3cc0470c02e5daf414500903a7a419230/expr.ipynb\"><img src=\"data:image/png;base64,iVBORw0KGgoAAAANSUhEUgAAABAAAAAOBAMAAADUAYG5AAAAMFBMVEX///92dnaqqqoiIiLu7u5m\n",
       "Zma6urqIiIjc3NwQEBDMzMwyMjJUVFRERESYmJgAAAAeMT9/AAAAAXRSTlMAQObYZgAAAAlwSFlz\n",
       "AAAOxAAADsQBlSsOGwAAAHJJREFUCNdjYGB4+//Mmb0LGIBgLgMDzy8gzfGdgYHtK5DBB+TxATkM\n",
       "PB8YGLhnABmcFxhYDoMUr79efvoBSFN9AwPTPBDjJhDLg6T+APH7AgYGrn9AxvkEBgb2H0DObyCH\n",
       "ewIDQ+YWoHH3/5w5fYmBAQBWoiHo17XzsQAAAABJRU5ErkJggg==\n",
       "\" style=\"display:inline;vertical-align:middle;\" /></a> : <a class=\"ProveItLink\" href=\"../../number_sets/integers/__pv_it/common/e6b4e90f9467053e055a4fd2f735c0bb79cb79300/expr.ipynb\"><img src=\"data:image/png;base64,iVBORw0KGgoAAAANSUhEUgAAAA4AAAAPBAMAAAAmOuNHAAAAMFBMVEX///+6urru7u7c3Nx2dnZm\n",
       "ZmbMzMxUVFSIiIiYmJgiIiJEREQQEBAyMjKqqqoAAAB4Cw+YAAAAAXRSTlMAQObYZgAAAAlwSFlz\n",
       "AAAOxAAADsQBlSsOGwAAAHFJREFUCNdj4Lvz5/aqPRMYOLYnMFzgZWBgDWDgmODHwMBuwKDNtIGB\n",
       "gYmBIYw9gQEI2ApSQRQDt8ImMP2EswFMg3QBAccDRwYGBQYGbWagrmIGhjKgCUwfGNgCRIGGLQDq\n",
       "usTAvG8Dg8ze07vPn3YAAOWCGbaz3v97AAAAAElFTkSuQmCC\n",
       "\" style=\"display:inline;vertical-align:middle;\" /></a>, <a class=\"ProveItLink\" href=\"../../../__pv_it/common/a0d9d672aa5e272d907247690c152cc2c6daafb70/expr.ipynb\"><img src=\"data:image/png;base64,iVBORw0KGgoAAAANSUhEUgAAAAsAAAAJBAMAAAAWSsseAAAAMFBMVEX///9ERES6uroQEBAyMjLc\n",
       "3NyYmJgiIiJmZmaqqqp2dnbMzMxUVFSIiIju7u4AAAAd7oVFAAAAAXRSTlMAQObYZgAAAAlwSFlz\n",
       "AAAOxAAADsQBlSsOGwAAAENJREFUCNdjYHh75/WqCQwMDbxnOQoY2ALY/vEkMHAzcDgwgADzBTCl\n",
       "H8D3gOGhwmEGLgaG+fuaGTQZGF7c5WybwAAAJTwQ1a2DuB8AAAAASUVORK5CYII=\n",
       "\" style=\"display:inline;vertical-align:middle;\" /></a> : <a class=\"ProveItLink\" href=\"../../numerals/__pv_it/common/1943b60945420e340d305780feff5c1aff2740ff0/expr.ipynb\"><img src=\"data:image/png;base64,iVBORw0KGgoAAAANSUhEUgAAAAoAAAAOBAMAAADkjZCYAAAAMFBMVEX///9UVFTMzMwiIiKYmJgQ\n",
       "EBAyMjKIiIiqqqru7u66urpERERmZmZ2dnbc3NwAAABametFAAAAAXRSTlMAQObYZgAAAAlwSFlz\n",
       "AAAOxAAADsQBlSsOGwAAAExJREFUCNdjYHh7ZxcDA+cBhv4GBvYfDPMTGLiiGPgTGICg3wFIcJkA\n",
       "CaZCIQawSAOIZP3JwKTAwP2Dgf8niGQVAImwOIDVrzmziwEADhoSVJBN9+MAAAAASUVORK5CYII=\n",
       "\" style=\"display:inline;vertical-align:middle;\" /></a></span></td></tr><tr><td><a name=\"-0x781d8d73d530194_step25\">25</a></td><td>theorem</td><td></td><td><span style=\"font-size:20px;\"> <a class=\"ProveItLink\" href=\"../../numerals/decimals/_theory_nbs_/proofs/nat2/thm_proof.ipynb\" style=\"text-decoration: none\">&nbsp;&#x22A2;&nbsp;&nbsp;</a><a class=\"ProveItLink\" href=\"../../numerals/decimals/__pv_it/theorems/c5da86d5508e181a625c8aa785bd1ba0345b9e710/expr.ipynb\"><img src=\"data:image/png;base64,iVBORw0KGgoAAAANSUhEUgAAADIAAAAQBAMAAACmdTG/AAAAMFBMVEX///+qqqqYmJiIiIgiIiLu\n",
       "7u4QEBBUVFS6urp2dnbMzMxEREQyMjJmZmbc3NwAAADzFso2AAAAAXRSTlMAQObYZgAAAAlwSFlz\n",
       "AAAOxAAADsQBlSsOGwAAAOlJREFUGNNjYEAHrP67jzJw5mcw8N09vQBVilugnYEhnoHhNQPnD1QZ\n",
       "dj9OBQY2BoY6BoY0NBlphnMMLAwM+QEM9Q/AItYuLgfAMo8M3oBkShgY6sEW9ZjC9DyoYp7AAmb6\n",
       "gwi+o3DTHnAz7ADLcH0GkTwPEDJcF0JCQCyWArAMwgUPGBQZt4FYt8H8ZS5AsAEqwx5QBmQwgbUw\n",
       "RCPrYS0AmSbJwAeyggVZhmExN9D+CQzMAUA+swE8dICeYF7NwPDk7t0rYIGDMBkeASBxB+iZ////\n",
       "gAXCdwSAaa7z2UAyBjm8OrdAQgcKAG3YN+ojYy50AAAAAElFTkSuQmCC\n",
       "\" style=\"display:inline;vertical-align:middle;\" /></a></span></td></tr>\n",
       "<tr><td>&nbsp;</td><td colspan=4 style-\"text-align:left\"><a class=\"ProveItLink\" href=\"../../numerals/decimals/_theory_nbs_/proofs/nat2/thm_proof.ipynb\">proveit.numbers.numerals.decimals.nat2</a></td></tr><tr><td><a name=\"-0x781d8d73d530194_step26\">26</a></td><td>theorem</td><td></td><td><span style=\"font-size:20px;\"> <a class=\"ProveItLink\" href=\"../../../logic/sets/inclusion/_theory_nbs_/proofs/superset_membership_from_proper_subset/thm_proof.ipynb\" style=\"text-decoration: none\">&nbsp;&#x22A2;&nbsp;&nbsp;</a><a class=\"ProveItLink\" href=\"../../../logic/sets/inclusion/__pv_it/theorems/8c2c4c3c91efdbf0b7e86e4a2d99545aea54db000/expr.ipynb\"><img src=\"data:image/png;base64,iVBORw0KGgoAAAANSUhEUgAAAPcAAAAXBAMAAAAl5sTiAAAAMFBMVEX///+IiIgiIiIQEBB2dnbu\n",
       "7u5ERETMzMzc3NwyMjK6urpmZmaYmJiqqqpUVFQAAAB6qHgnAAAAAXRSTlMAQObYZgAAAAlwSFlz\n",
       "AAAOxAAADsQBlSsOGwAAA3hJREFUSMe1ll9IU1Ecx7/L3e1uu5tXohCykutDD/WwIqqHlD2MoEQb\n",
       "RkEIsgoXDMQbRo81K3zUvSgRWIsMCYJmiVZILR+i0NAeo4IRVIihBsk00zr3nN17z6Z3ysAD2z33\n",
       "/H73fM75/TsHKLLZFLWwglhIGNvABAWaPbGOws5CwntshrTW/1wM3Kc9vCkLuTew5vCbfzMzPSps\n",
       "KQp/oQ3dKgbu0fbuilnIz1qMHwJ8GaCbwq9q7gkXA3dqRuuwko9YRMIvwL0EjFG4K0Qek0X5nKwe\n",
       "dVZyf87bdkWJ045Edi2RBZSEtBkkYn1XcQE3Th5xK5fnCB5u03u+OYI7Qn4pGrIHFOVgcfASRakK\n",
       "WIg9RCCUfbtMLSN2G+MlYQhfSY7Z0xQ+DDTT8VDe53pHsIJ7VDjyPjJ0yc7IDLvkJ8iNymvnyqa0\n",
       "BJHiFN4JkaabcJhKrywFh2j2O3T9U0YxcLYO1l404eS7zrwlGbpbSBi9xUToJ4WbCrtj8B7V3OKn\n",
       "cEeI1Qv7MouIStj8OfCTZB5nfSRClj8KbOWKTDNO6EqXvkd1XWZeIlbxnL20KaSxjLqgKZEVOufo\n",
       "DF6ZLax/P4uIJKQ5Hu5uk4FBtqNpYIKDfzDizTNs6hpwgE2JM+bOV8hvgii52c4Rf02H5Tvsq0k0\n",
       "pHi4zZU2crEawj4O7pLINLYd7c9QYeqaZod7Aafpi8F2/iV/s9qWKxm8jsaiLWujroqxH+DhsieO\n",
       "Jr1CjL9UObj9I4m3cl+4Vwibuqw5ZAhRnx80G2yycRwtkAUsat4NM/gNutr+rDdHIUzzcLdKQuAR\n",
       "9HhoSnJwsYZ0Ug5ZdadM3aw4DW+m0e9mJus1koDI73ezVKRwH93MYHA2lHVrV4KDe4L18/gCPR7E\n",
       "P/ypRm1UGoPUE4m0ZHWz9q2EMCB/es/emqIsJX2tKzNTLdQTCe5ctBGmytyKx3yqyRAzuAk9HtyZ\n",
       "VUdqG2LOgKmbbXtyUrDvvJJbC6/zMxDDlk4KAYjzEPZyZtcMugwHqxJdITQk8+Ci/ziSrEwx3Wwb\n",
       "K1wgRzi4pwbCq9vOarz7HRya5OBP02hcTAi0tEh3g7Utqy4TA31lIXSohq4ecbGC15zw6uuIl+s7\n",
       "copphBYZy5uMcCwSzSu0BY9pbWn58AdW8DVq+3pXsPZCwnISZVV58NTG4ZvbxM1H/Ad8JOFpuPeG\n",
       "lQAAAABJRU5ErkJggg==\n",
       "\" style=\"display:inline;vertical-align:middle;\" /></a></span></td></tr>\n",
       "<tr><td>&nbsp;</td><td colspan=4 style-\"text-align:left\"><a class=\"ProveItLink\" href=\"../../../logic/sets/inclusion/_theory_nbs_/proofs/superset_membership_from_proper_subset/thm_proof.ipynb\">proveit.logic.sets.inclusion.superset_membership_from_proper_subset</a></td></tr><tr><td><a name=\"-0x781d8d73d530194_step27\">27</a></td><td>conjecture</td><td></td><td><span style=\"font-size:20px;\"> <a class=\"ProveItLink\" href=\"../../number_sets/integers/_theory_nbs_/proofs/nat_within_int/thm_proof.ipynb\" style=\"text-decoration: none\">&nbsp;&#x22A2;&nbsp;&nbsp;</a><a class=\"ProveItLink\" href=\"../../number_sets/integers/__pv_it/theorems/1cd0ce5701331e1608ae0251ff814274d551a8fa0/expr.ipynb\"><img src=\"data:image/png;base64,iVBORw0KGgoAAAANSUhEUgAAADkAAAAQBAMAAABelcpIAAAAMFBMVEX///9mZmbMzMyIiIiYmJjc\n",
       "3NxUVFSqqqq6uroQEBB2dnYyMjJEREQiIiLu7u4AAAAPqInnAAAAAXRSTlMAQObYZgAAAAlwSFlz\n",
       "AAAOxAAADsQBlSsOGwAAAP9JREFUGNNjePvn9AOGlT8bGFBA9fzZZ+9MATKOcyQw8H1AlWSwSWLg\n",
       "ZtgAZOQGLGFgmIAmK8jAYMJVAGSkH+AOYLiAJpvKwHfgDZjhzLoBJmtz9+7dSyDGAwZGhSSwLJuC\n",
       "FVRWeylCtxqTAMSQAzwNYFm+q0hmn+N5AJFV5LsHlmVD8hb7AmeoA1gKasBu5kbSCvEPSJYhjw0s\n",
       "q4Yka87VwMAHkX3GBzY5DCHJdyAGaFMAWJbJ4ABIiBchy6YAFH4PZBwCYiOwLKMDXFaRA+ifXCBj\n",
       "O0gc4oQdCP9wP2CIqQGGwE+gPj6I7JuMBxBJjjk7z5z8eQoteLvOQkMSCgB/9keS8E/FTAAAAABJ\n",
       "RU5ErkJggg==\n",
       "\" style=\"display:inline;vertical-align:middle;\" /></a></span></td></tr>\n",
       "<tr><td>&nbsp;</td><td colspan=4 style-\"text-align:left\"><a class=\"ProveItLink\" href=\"../../number_sets/integers/_theory_nbs_/proofs/nat_within_int/thm_proof.ipynb\">proveit.numbers.number_sets.integers.nat_within_int</a></td></tr><tr><td><a name=\"-0x781d8d73d530194_step28\">28</a></td><td>conjecture</td><td></td><td><span style=\"font-size:20px;\"> <a class=\"ProveItLink\" href=\"../../numerals/decimals/_theory_nbs_/proofs/nat3/thm_proof.ipynb\" style=\"text-decoration: none\">&nbsp;&#x22A2;&nbsp;&nbsp;</a><a class=\"ProveItLink\" href=\"../../numerals/decimals/__pv_it/theorems/460c23cdbd64b08ccacdbdc6b3661919426e237f0/expr.ipynb\"><img src=\"data:image/png;base64,iVBORw0KGgoAAAANSUhEUgAAADMAAAAQBAMAAABJt1qBAAAAMFBMVEX///9UVFTMzMwiIiKYmJgQ\n",
       "EBAyMjKIiIiqqqru7u66urpERERmZmZ2dnbc3NwAAABametFAAAAAXRSTlMAQObYZgAAAAlwSFlz\n",
       "AAAOxAAADsQBlSsOGwAAAOtJREFUGNNjYMAAk39vm8Bw9esCBoa3d3ahye3gEmDg/MDAwHmAob8B\n",
       "VUr4wRUGhgAGBvYfDPMTUKUkNrA9YDBgYOCKYuCHSLFvNjYDM+Tc+RJAUkDQ7wAiudInQHXJMSrU\n",
       "QqS4TMACz2AyDHIMG7gXgKSYCoXAAnkMCCkdTkuogWAXJiBJsTR0B4CZrD9BmoONjY2toVIMkoxA\n",
       "KSYFBu4fQD7nBiRdDBM5gQby/4RIQV0LlWIqAKpkFYAYyFAOl9oExEVAKRYHqL/Y4MGVAcQ8IFet\n",
       "OQMJXk7plRAZta9AHZwogcd1GxpQUAAAes00QfXZkiEAAAAASUVORK5CYII=\n",
       "\" style=\"display:inline;vertical-align:middle;\" /></a></span></td></tr>\n",
       "<tr><td>&nbsp;</td><td colspan=4 style-\"text-align:left\"><a class=\"ProveItLink\" href=\"../../numerals/decimals/_theory_nbs_/proofs/nat3/thm_proof.ipynb\">proveit.numbers.numerals.decimals.nat3</a></td></tr></table>"
      ],
      "text/plain": [
       "\tstep type\trequirements\tstatement\n",
       "0\tinstantiation\t1, 2\t{a in Complex, b in RealNeg} |- |a + b + 2 + 3| >= 0\n",
       "\tx : |a + b + 2 + 3|\n",
       "1\tconjecture\t\t|- forall_{x in RealNonNeg} (x >= 0)\n",
       "\tproveit.numbers.number_sets.real_numbers.nonneg_if_in_real_nonneg\n",
       "2\tinstantiation\t3, 4\t{a in Complex, b in RealNeg} |- |a + b + 2 + 3| in RealNonNeg\n",
       "\ta : a + b + 2 + 3\n",
       "3\tconjecture\t\t|- forall_{a in Complex} (|a| in RealNonNeg)\n",
       "\tproveit.numbers.absolute_value.abs_complex_closure\n",
       "4\tinstantiation\t5, 6, 7, 8, 9, 10, 11\t{a in Complex, b in RealNeg} |- (a + b + 2 + 3) in Complex\n",
       "\ti : 4, a : (a, b, 2, 3)\n",
       "5\tconjecture\t\t|- forall_{i in Natural} [forall_{a_{1}, a_{2}, ..., a_{i} in Complex} ((a_{1} +  a_{2} +  ... +  a_{i}) in Complex)]\n",
       "\tproveit.numbers.addition.add_complex_closure\n",
       "6\tconjecture\t\t|- 4 in Natural\n",
       "\tproveit.numbers.numerals.decimals.nat4\n",
       "7\tinstantiation\t12\t|- |(a, b, 2, 3)| = |(1, 2, ..., 4)|\n",
       "\ta : a, b : b, c : 2, d : 3\n",
       "8\tassumption\t\t{a in Complex} |- a in Complex\n",
       "9\tinstantiation\t26, 15, 13\t{b in RealNeg} |- b in Complex\n",
       "\tA : Real, B : Complex, x : b\n",
       "10\tinstantiation\t26, 15, 14\t|- 2 in Complex\n",
       "\tA : Real, B : Complex, x : 2\n",
       "11\tinstantiation\t26, 15, 16\t|- 3 in Complex\n",
       "\tA : Real, B : Complex, x : 3\n",
       "12\tconjecture\t\t|- forall_{a, b, c, d} (|(a, b, c, d)| = |(1, 2, ..., 4)|)\n",
       "\tproveit.numbers.numerals.decimals.tuple_len_4_typical_eq\n",
       "13\tinstantiation\t26, 17, 18\t{b in RealNeg} |- b in Real\n",
       "\tA : RealNeg, B : Real, x : b\n",
       "14\tinstantiation\t26, 20, 19\t|- 2 in Real\n",
       "\tA : Rational, B : Real, x : 2\n",
       "15\tconjecture\t\t|- Real proper_subset Complex\n",
       "\tproveit.numbers.number_sets.complex_numbers.real_within_complex\n",
       "16\tinstantiation\t26, 20, 21\t|- 3 in Real\n",
       "\tA : Rational, B : Real, x : 3\n",
       "17\tconjecture\t\t|- RealNeg proper_subset Real\n",
       "\tproveit.numbers.number_sets.real_numbers.real_neg_within_real\n",
       "18\tassumption\t\t{b in RealNeg} |- b in RealNeg\n",
       "19\tinstantiation\t26, 23, 22\t|- 2 in Rational\n",
       "\tA : Integer, B : Rational, x : 2\n",
       "20\tconjecture\t\t|- Rational proper_subset Real\n",
       "\tproveit.numbers.number_sets.real_numbers.rational_within_real\n",
       "21\tinstantiation\t26, 23, 24\t|- 3 in Rational\n",
       "\tA : Integer, B : Rational, x : 3\n",
       "22\tinstantiation\t26, 27, 25\t|- 2 in Integer\n",
       "\tA : Natural, B : Integer, x : 2\n",
       "23\tconjecture\t\t|- Integer proper_subset Rational\n",
       "\tproveit.numbers.number_sets.rational_numbers.int_within_rational\n",
       "24\tinstantiation\t26, 27, 28\t|- 3 in Integer\n",
       "\tA : Natural, B : Integer, x : 3\n",
       "25\ttheorem\t\t|- 2 in Natural\n",
       "\tproveit.numbers.numerals.decimals.nat2\n",
       "26\ttheorem\t\t|- forall_{A, B | A proper_subset B} [forall_{x in A} (x in B)]\n",
       "\tproveit.logic.sets.inclusion.superset_membership_from_proper_subset\n",
       "27\tconjecture\t\t|- Natural proper_subset Integer\n",
       "\tproveit.numbers.number_sets.integers.nat_within_int\n",
       "28\tconjecture\t\t|- 3 in Natural\n",
       "\tproveit.numbers.numerals.decimals.nat3"
      ]
     },
     "metadata": {},
     "output_type": "display_data"
    }
   ],
   "source": [
    "demo_expr_02_ge_zero.proof()"
   ]
  },
  {
   "cell_type": "markdown",
   "metadata": {},
   "source": [
    "<a id='demo03'></a><font size=4><br><b>3. Simplifying $1 + |x+1|$</b></font><br><br>\n",
    "<font size=3>Consider the simple expression $1 + |x+1|$ involving the sum of a constant and an absolute value expression.</font>"
   ]
  },
  {
   "cell_type": "code",
   "execution_count": 35,
   "metadata": {},
   "outputs": [
    {
     "data": {
      "text/html": [
       "<strong id=\"demo_expr_03\">demo_expr_03:</strong> <a class=\"ProveItLink\" href=\"../__pv_it/demonstrations/71867c97d7e49b28612272c8544a2696f609c5380/expr.ipynb\"><img src=\"data:image/png;base64,iVBORw0KGgoAAAANSUhEUgAAAFwAAAAVBAMAAAA5lpTPAAAAMFBMVEX///9ERESqqqq6urqYmJgQ\n",
       "EBDc3Nx2dnaIiIgyMjJmZmZUVFTu7u4iIiLMzMwAAAChWcAIAAAAAXRSTlMAQObYZgAAAAlwSFlz\n",
       "AAAOxAAADsQBlSsOGwAAAMJJREFUKM9jYMAAbAw4QQIWMXYDnMqLGRj47hCn/O0BkPLTK/8Qo5xn\n",
       "13ywcgYOmHJmB2zKTWCMfjTlTA3YlGtQXzlPx57nRcQr52LoblhLvHI3Bv8DW/Ap57p792rs3bsb\n",
       "IMofMKwEK1l7927o3bu3CXs1gqSQYf7GcIZo5TzC3AEMBdiVs3/DUM7071QAswKa8voEkHLurT+3\n",
       "YJi+okHLCc3tu+NnO4BMhwMCsQpNwHBAIImhKycue1CqnOMBTuV9ADZnVPECZrcJAAAAAElFTkSu\n",
       "QmCC\n",
       "\" style=\"display:inline;vertical-align:middle;\" /></a><br>"
      ],
      "text/plain": [
       "<IPython.core.display.HTML object>"
      ]
     },
     "metadata": {},
     "output_type": "display_data"
    }
   ],
   "source": [
    "demo_expr_03 = Add(one, Abs(Add(x, one)))"
   ]
  },
  {
   "cell_type": "markdown",
   "metadata": {},
   "source": [
    "<font size=3>If we know that $x\\in \\mathbb{R}^{+}$, simplification should be able to eliminate the absolute value and commute and combine the known constants:</font>"
   ]
  },
  {
   "cell_type": "code",
   "execution_count": 36,
   "metadata": {},
   "outputs": [
    {
     "data": {
      "text/html": [
       "<span style=\"font-size:20px;\"><a class=\"ProveItLink\" href=\"../../number_sets/real_numbers/__pv_it/theorems/7697fc34c81296f04a039eeb9dd22e91165d63b70/expr.ipynb\"><img src=\"data:image/png;base64,iVBORw0KGgoAAAANSUhEUgAAAEAAAAATBAMAAADSXRa0AAAAMFBMVEX///9ERES6uroQEBAyMjLc\n",
       "3NyYmJgiIiJmZmaqqqp2dnbMzMxUVFSIiIju7u4AAAAd7oVFAAAAAXRSTlMAQObYZgAAAAlwSFlz\n",
       "AAAOxAAADsQBlSsOGwAAANxJREFUKM9jYMAHGhgIAAHyFLA5C34pFsNnAiPrAaZjcngVLGAQ2MPA\n",
       "IShoKCiGS0ErCxYTLpaXO8AVMGIqULmHZMK5N3AFb++8XjUBSLP6IVnBLekKV9DAe5ajAEizBCAU\n",
       "mNTXPoCFJFsA2z+eBJACJEcuy3OA87gZOCCczeVAIAC1Qi4NyXHMF8DUQ2Rv7mB8gFCgH8AH4rEj\n",
       "K+DYCvfhQ4XDDFwgBu8FJAV8AtdgvPn7mhk0wSxPhIIGhjRGBSjvxV3Otglg1huhB7DY/BjAKPIT\n",
       "Mw60xMsdMAQB8jw2YYZ9lmsAAAAASUVORK5CYII=\n",
       "\" style=\"display:inline;vertical-align:middle;\" /></a> <a class=\"ProveItLink\" href=\"../__pv_it/demonstrations/088207da8e836f6960a7900952afd538de9205d80/proof.ipynb\" style=\"text-decoration: none\">&nbsp;&#x22A2;&nbsp;&nbsp;</a><a class=\"ProveItLink\" href=\"../__pv_it/demonstrations/1462cc78b87275d6cf59782091114404dfa811b50/expr.ipynb\"><img src=\"data:image/png;base64,iVBORw0KGgoAAAANSUhEUgAAAMcAAAAVBAMAAAAA3efRAAAAMFBMVEX////MzMxUVFRERES6uroi\n",
       "IiIQEBCYmJhmZmYyMjLu7u52dnaqqqqIiIjc3NwAAACW8nlqAAAAAXRSTlMAQObYZgAAAAlwSFlz\n",
       "AAAOxAAADsQBlSsOGwAAAjhJREFUSMedlT9oE1Ecx79Jk9x5uTuyuOiSxRYEbQZXJVuXiq1wDiL0\n",
       "Bu0mzdhBtCAxKVIIdCh0Ou1ShUIo3doho1LEs7OVgHQUKri00Nb3fl7ovXe/F1p/kIR77/v7fn7v\n",
       "T34HoI9scGP/wucnfWMCqb0eM7NlzCnXcZ8Z/m5MIPWu+OQeXwgiZQLiNTIzbhd+e7nCJUm10wHe\n",
       "Lx5fBEIyAcFqZuoD8BPlP2xpQm3LsrwBpNDgIBODohLIfMaoBdwGZlWTJIS6hDTEjTnIFw1SinRI\n",
       "CMxFGO8rJkkI9ef/gFzRD8UVe34DGK9wEKF+a4Js7L3b7vGQclWD2F36mVFNnP2b13dIvWKCLHi3\n",
       "7CkeYnXkUzOQ8TApVl6+E9XExl7cJPUTA8TqW8f5Bg9xQ20lRVpysaqavMSraIzUT88hdhA8ehYE\n",
       "VYLkYFO9suDZpOABJHeoQUp1+f1aM6lgkRZ4mIZoB1+KTQdfCDmIVdVMgOd0o0PjdgEP+k5k2K4p\n",
       "7Uxou3bha1e4cIqPpL5rgKzVR1E2rMSqaSsZEWm5LrwobeLcyYfoknqTut5pBvL12htMahApk5Dk\n",
       "xqa6ptipg3a7qZi4v9fDQo/UV8VjfvRoTIes77utngohmYQU63rnFPs3c3Z2pJg4S/GnFyB1UWmd\n",
       "w//xSavHQaZ3TXMmSQi1tZAeGN4gB5BWBjLPmZw3T9zDZV9afi0zOjLkVSrVa5eGMI5OzZhAaj9m\n",
       "Zr4Zc7wKfjDDv4wJQv0X6Cu53m1oBIkAAAAASUVORK5CYII=\n",
       "\" style=\"display:inline;vertical-align:middle;\" /></a></span>"
      ],
      "text/plain": [
       "{x in RealPos} |- (1 + |x + 1|) = (2 + x)"
      ]
     },
     "metadata": {},
     "output_type": "display_data"
    }
   ],
   "source": [
    "demo_expr_03.simplification(assumptions=[InSet(x, RealPos)])"
   ]
  },
  {
   "cell_type": "markdown",
   "metadata": {},
   "source": [
    "## Misc Testing\n",
    "<font size=3>The material below was developed to test various absolute_value methods. Some of this material could be integrated into the `_demonstrations_` page eventually and/or deleted as development continues.</font>"
   ]
  },
  {
   "cell_type": "markdown",
   "metadata": {},
   "source": [
    "### Some Example `Abs` Expressions For Testing"
   ]
  },
  {
   "cell_type": "code",
   "execution_count": 37,
   "metadata": {},
   "outputs": [
    {
     "data": {
      "text/html": [
       "<strong id=\"abs_value_1_plus_2\">abs_value_1_plus_2:</strong> <a class=\"ProveItLink\" href=\"../__pv_it/demonstrations/9da6ee63b3e544b3c139152be255039e61f96c740/expr.ipynb\"><img src=\"data:image/png;base64,iVBORw0KGgoAAAANSUhEUgAAADUAAAAVBAMAAAAUZLt1AAAAMFBMVEX///9ERESqqqqYmJgQEBAy\n",
       "MjJmZmZUVFTu7u4iIiLMzMyIiIi6urp2dnbc3NwAAABu19h3AAAAAXRSTlMAQObYZgAAAAlwSFlz\n",
       "AAAOxAAADsQBlSsOGwAAAJ5JREFUKM9jeMCAA/AxMNzBJcd7ACy3sgFNS1rgAogcR1k8mtxDBt4/\n",
       "MH37YXKHIVQdA4MLhpw2hPJvYKh/gEOukoGhfgEOOSCYz4BTjus3bjnOAlS5zJkzXWbOnA6WS2TA\n",
       "qY+5ALecLgMfLj9wXWDgboDK3X+AKvcyLS0Tama5f7gBitz8//+/wuyDA23MOIKDw3jkGIiX24VL\n",
       "jnsBAGBRTeaIOWdEAAAAAElFTkSuQmCC\n",
       "\" style=\"display:inline;vertical-align:middle;\" /></a><br>"
      ],
      "text/plain": [
       "<IPython.core.display.HTML object>"
      ]
     },
     "metadata": {},
     "output_type": "display_data"
    }
   ],
   "source": [
    "abs_value_1_plus_2 = Abs(Add(one, two))"
   ]
  },
  {
   "cell_type": "code",
   "execution_count": 38,
   "metadata": {},
   "outputs": [
    {
     "data": {
      "text/html": [
       "<strong id=\"abs_value_a_plus_b\">abs_value_a_plus_b:</strong> <a class=\"ProveItLink\" href=\"../__pv_it/demonstrations/a00f412b29eef517678b05e1e976de5f2cef54060/expr.ipynb\"><img src=\"data:image/png;base64,iVBORw0KGgoAAAANSUhEUgAAADUAAAAVBAMAAAAUZLt1AAAAMFBMVEX///8yMjKqqqoiIiJmZmaY\n",
       "mJju7u5EREQQEBBUVFTMzMyIiIi6urp2dnbc3NwAAABRd72LAAAAAXRSTlMAQObYZgAAAAlwSFlz\n",
       "AAAOxAAADsQBlSsOGwAAAMJJREFUKM9jeMCAA/AxMNzBJcd7AKscW4UBTjkGRgdMOZ4ACM2vgCnH\n",
       "tAFCn0/ALXcZ7ha+ufs2oMpJ7p4ElTvxgP0bihzbx4T8B2A5tlYGFgMUOaZvDBwbwHIsHxiYLwBF\n",
       "WIyNLZqNjScAWQIM/BfAchwFDPkHUPQBlZ5XAMvlb2CIR3Un0Hv+CRA5BYaJTA9Q5BYA3QCWY9/A\n",
       "ZMKCoo8zgN0BIsc2+9bLXah+mOuKO1ywxREsrPHEHzFyu3DJcS8AAAoETAOg5Fk0AAAAAElFTkSu\n",
       "QmCC\n",
       "\" style=\"display:inline;vertical-align:middle;\" /></a><br>"
      ],
      "text/plain": [
       "<IPython.core.display.HTML object>"
      ]
     },
     "metadata": {},
     "output_type": "display_data"
    }
   ],
   "source": [
    "abs_value_a_plus_b = Abs(Add(a, b))"
   ]
  },
  {
   "cell_type": "code",
   "execution_count": 39,
   "metadata": {},
   "outputs": [
    {
     "data": {
      "text/html": [
       "<strong id=\"abs_value_a_plus_2\">abs_value_a_plus_2:</strong> <a class=\"ProveItLink\" href=\"../__pv_it/demonstrations/9484f5f7ff34612c5e80af6a2721879f6d73a8070/expr.ipynb\"><img src=\"data:image/png;base64,iVBORw0KGgoAAAANSUhEUgAAADYAAAAVBAMAAAD/UwB2AAAAMFBMVEX///8yMjKqqqoiIiJmZmaY\n",
       "mJju7u5EREQQEBBUVFTMzMyIiIi6urp2dnbc3NwAAABRd72LAAAAAXRSTlMAQObYZgAAAAlwSFlz\n",
       "AAAOxAAADsQBlSsOGwAAAL1JREFUKM9jeMCACzxguINT7g52uSeOVbjk+AoY7h9AlzsKoTgfMHA0\n",
       "oMtpQyiObwyc/3DIcRowcP6CyL28/RpVDgiYP4DlePoY6hPQ5dZvAMtlBDA4Y+izhPjBn4HBFsR1\n",
       "NjbuMDa2BEuxFEDk2hnY/qDri4SEC9tvBtYPaHJMFxjegeU+MXAK6KHKrWVg2AY2s5pB2cEBRY7P\n",
       "xMXFACyXuXfd7AUocsz///8XwBEuWOPoKBHxR4TcLpxyuwAVuEqdX+CrQAAAAABJRU5ErkJggg==\n",
       "\" style=\"display:inline;vertical-align:middle;\" /></a><br>"
      ],
      "text/plain": [
       "<IPython.core.display.HTML object>"
      ]
     },
     "metadata": {},
     "output_type": "display_data"
    }
   ],
   "source": [
    "abs_value_a_plus_2 = Abs(Add(a, two))"
   ]
  },
  {
   "cell_type": "code",
   "execution_count": 40,
   "metadata": {},
   "outputs": [
    {
     "data": {
      "text/html": [
       "<strong id=\"abs_value_a_times_b\">abs_value_a_times_b:</strong> <a class=\"ProveItLink\" href=\"../__pv_it/demonstrations/37e71984c583d0e95189e1a5af517ee2962756640/expr.ipynb\"><img src=\"data:image/png;base64,iVBORw0KGgoAAAANSUhEUgAAACoAAAAVBAMAAADCwWEQAAAAMFBMVEX///8yMjKqqqoiIiJmZmaY\n",
       "mJju7u5EREQQEBBUVFTMzMyIiIi6urp2dnbc3NwAAABRd72LAAAAAXRSTlMAQObYZgAAAAlwSFlz\n",
       "AAAOxAAADsQBlSsOGwAAAKVJREFUGNNjeMCACR4w3MEiegddNL0ZmyiDCFbRT9hEeb5hE+U1gIm+\n",
       "vP0aLso4e6cCWJSnj6E+ASaaL8b2DyyaEcDgDFern8DQDRb1Z2CwBSsTABKODAx/waLtDGx/QKLM\n",
       "DgwgeZ5PIFG23wysH5Ccy/INLPqJgVNADyb6C2QNyIRqBmUHB5joVIYSiHsz966bvQAmmnklAFs4\n",
       "YA1JMkR3YRHdBQDf2kMta9s74gAAAABJRU5ErkJggg==\n",
       "\" style=\"display:inline;vertical-align:middle;\" /></a><br>"
      ],
      "text/plain": [
       "<IPython.core.display.HTML object>"
      ]
     },
     "metadata": {},
     "output_type": "display_data"
    }
   ],
   "source": [
    "abs_value_a_times_b = Abs(Mult(a, b))"
   ]
  },
  {
   "cell_type": "code",
   "execution_count": 41,
   "metadata": {},
   "outputs": [
    {
     "data": {
      "text/html": [
       "<strong id=\"abs_value_a_div_b\">abs_value_a_div_b:</strong> <a class=\"ProveItLink\" href=\"../__pv_it/demonstrations/8c72df236a921990eed0e29a8fc3784a0468cfa00/expr.ipynb\"><img src=\"data:image/png;base64,iVBORw0KGgoAAAANSUhEUgAAABgAAAAnCAMAAAAihXiyAAAAOVBMVEX///8yMjKqqqoiIiKYmJju\n",
       "7u5ERES6urqIiIh2dnZUVFTc3NxRUVEMDAwGBgbMzMwQEBBmZmYAAADCt4cgAAAAAXRSTlMAQObY\n",
       "ZgAAAAlwSFlzAAAOxAAADsQBlSsOGwAAAL5JREFUKM+909sOwyAIAFDUesN2Cv//sVOz1kZsspfN\n",
       "B9N4goBVIFgOgrKGMiBhDClI8CUBOLYz2LK1nY2IIG6ziQKKa2HsZ7Dc0m4MEnSdUYFO01auRmhD\n",
       "QKIqDDEnDFk2OHf+WsMLjjUcXxziz4HH+H/yBeyfL+uKucF+i1D0sFX/uwvw12WbIJqHqhSGgFqC\n",
       "ZWXrlATonqIEAaR6ZVFAv8/+KnlAXyL5PoDz+UgmwLrm6NbHeVktRtpGg/kNMrsJtLNZnP4AAAAA\n",
       "SUVORK5CYII=\n",
       "\" style=\"display:inline;vertical-align:middle;\" /></a><br>"
      ],
      "text/plain": [
       "<IPython.core.display.HTML object>"
      ]
     },
     "metadata": {},
     "output_type": "display_data"
    }
   ],
   "source": [
    "abs_value_a_div_b = Abs(frac(a,b))"
   ]
  },
  {
   "cell_type": "code",
   "execution_count": 42,
   "metadata": {},
   "outputs": [
    {
     "data": {
      "text/html": [
       "<strong id=\"abs_value_sin_x\">abs_value_sin_x:</strong> <a class=\"ProveItLink\" href=\"../__pv_it/demonstrations/c6dc86fa0053d2938c2e253623f79d3a09735cf40/expr.ipynb\"><img src=\"data:image/png;base64,iVBORw0KGgoAAAANSUhEUgAAADAAAAAVBAMAAADyTXAxAAAAMFBMVEX///8AAAAAAAAAAAAAAAAA\n",
       "AAAAAAAAAAAAAAAAAAAAAAAAAAAAAAAAAAAAAAAAAAAv3aB7AAAAD3RSTlMAIolEdjJmzRC73e+Z\n",
       "VKsux0h9AAAACXBIWXMAAA7EAAAOxAGVKw4bAAAAy0lEQVQoz2MQYMAKBBiUsUsoQyWkE3BI2B/A\n",
       "IcGByygGkiRCUtwZqx+wVh90eQISavFrVboAkuCYwMDFwP6AgestQzzIUwdYnvAsAEkw72BgYeB8\n",
       "wMC5gYEf6Gg2AbYffAlgo9ZPEQBLTGDgd2BgYGXgKYDa0bT+D5IEAwO3A0SCsYEhPwBZwl6AowEk\n",
       "wevAwJeAkOg0eM3ABNbBu4OBUwAoyg6RuB9xmsEWLMGs4qLM+npf6/t9sfP3MTD0uPAeu0BukJAq\n",
       "4YpdwhUAjRc1QIi4wAwAAAAASUVORK5CYII=\n",
       "\" style=\"display:inline;vertical-align:middle;\" /></a><br>"
      ],
      "text/plain": [
       "<IPython.core.display.HTML object>"
      ]
     },
     "metadata": {},
     "output_type": "display_data"
    }
   ],
   "source": [
    "from proveit.trigonometry import Sin\n",
    "abs_value_sin_x = Abs(Sin(x))"
   ]
  },
  {
   "cell_type": "code",
   "execution_count": 43,
   "metadata": {},
   "outputs": [
    {
     "data": {
      "text/html": [
       "<strong id=\"abs_value_cos_x\">abs_value_cos_x:</strong> <a class=\"ProveItLink\" href=\"../__pv_it/demonstrations/434319fa1c51df9854889a678810b9963878b1690/expr.ipynb\"><img src=\"data:image/png;base64,iVBORw0KGgoAAAANSUhEUgAAADMAAAAVBAMAAAAZessyAAAAMFBMVEX///8AAAAAAAAAAAAAAAAA\n",
       "AAAAAAAAAAAAAAAAAAAAAAAAAAAAAAAAAAAAAAAAAAAv3aB7AAAAD3RSTlMAIolEdjIQmVTvzWbd\n",
       "u6sFjbCZAAAACXBIWXMAAA7EAAAOxAGVKw4bAAAA1ElEQVQoz2MQYMAOGBkYlHFIMRkMIql0JQ0G\n",
       "thJ3A4aQLV5AQTaXZ0EaECnGGQyWATECDFfYLjDwAKXYGfwcaiBSXAsYOgUOMTDEB09jYAFKbWTY\n",
       "n/AaIpWvwMDA+oOBgV/h/BVQ2AQwVMHsindgYOD4DJS6kHT+O9gJU2BS+QVQXYUJDPsDgKLMHxnS\n",
       "4HYxNExnYLC3cGDg28DAdplvAoMC1IWzGZgEIgMYFnFMY+AVYOD4mj6BuQHmrxJHBsYiPQNmFRcg\n",
       "j63EoX0H3YPXFYcUSwAAMjAy97fOMFoAAAAASUVORK5CYII=\n",
       "\" style=\"display:inline;vertical-align:middle;\" /></a><br>"
      ],
      "text/plain": [
       "<IPython.core.display.HTML object>"
      ]
     },
     "metadata": {},
     "output_type": "display_data"
    }
   ],
   "source": [
    "from proveit.trigonometry import Cos\n",
    "abs_value_cos_x = Abs(Cos(x))"
   ]
  },
  {
   "cell_type": "code",
   "execution_count": null,
   "metadata": {},
   "outputs": [],
   "source": []
  },
  {
   "cell_type": "markdown",
   "metadata": {},
   "source": [
    "### Testing the `deduce_in_number_set()` method"
   ]
  },
  {
   "cell_type": "code",
   "execution_count": 44,
   "metadata": {},
   "outputs": [
    {
     "data": {
      "text/html": [
       "<span style=\"font-size:20px;\"> <a class=\"ProveItLink\" href=\"../__pv_it/demonstrations/f6d5eb274ec7c759afdd89dc1df67fd7ace6a6950/proof.ipynb\" style=\"text-decoration: none\">&nbsp;&#x22A2;&nbsp;&nbsp;</a><a class=\"ProveItLink\" href=\"../__pv_it/demonstrations/8bbd2920d69ccfd096b3ac43a798b551fb27ce140/expr.ipynb\"><img src=\"data:image/png;base64,iVBORw0KGgoAAAANSUhEUgAAAGAAAAAVBAMAAABLWfZ5AAAAMFBMVEX///9ERESqqqqYmJgQEBAy\n",
       "MjJmZmZUVFTu7u4iIiLMzMyIiIi6urp2dnbc3NwAAABu19h3AAAAAXRSTlMAQObYZgAAAAlwSFlz\n",
       "AAAOxAAADsQBlSsOGwAAATZJREFUOMtjeMCAA/DhEL+DSwPvARQuc4jg1ynCEA1cM9ANTwtcgK6B\n",
       "gZGvgKdYAqShPfUHmoaHDLx/sGi4wCCwHGwDN0wDjwGErmNgcMGqIY8VVQPTBgjt38BQ/wCmYePM\n",
       "mQFwDYzYNVQyMNQvgGo4ugPJhop27BqAYD7USXwRSE7iEorDpYHrN1QD6wOEBtf5sxtwaeAsgGlA\n",
       "8vRliwAGJA1sM2dO8Zw5swAsmwiLuCUzgUAA6iQJYwYcNjAXwDQ0IgfrMkZcTtJl4IMGKyeyBrZ1\n",
       "Atg1cF1g4G6AaODegKSBQ2AzWAPvPzQNL9PSMmExHYTQkMBgzHgAqIG95Gsxqob5//9/hWlol2mA\n",
       "pdaPDxhFP6Ekb6SIQyTvs5KQpIEtP8ASH7b8QHIGIl/DLlwauBdgFQYAdcl1/5n8WNYAAAAASUVO\n",
       "RK5CYII=\n",
       "\" style=\"display:inline;vertical-align:middle;\" /></a></span>"
      ],
      "text/plain": [
       "|- |1 + 2| in Real"
      ]
     },
     "metadata": {},
     "output_type": "display_data"
    }
   ],
   "source": [
    "abs_value_1_plus_2.deduce_in_number_set(Real)"
   ]
  },
  {
   "cell_type": "code",
   "execution_count": 45,
   "metadata": {},
   "outputs": [
    {
     "data": {
      "text/html": [
       "<span style=\"font-size:20px;\"> <a class=\"ProveItLink\" href=\"../__pv_it/demonstrations/e856f4971a68a869d6fd0fd31fef564391cfe30d0/proof.ipynb\" style=\"text-decoration: none\">&nbsp;&#x22A2;&nbsp;&nbsp;</a><a class=\"ProveItLink\" href=\"../__pv_it/demonstrations/e8c0a7db10e5da929941e904bcbbb34adfd420dd0/expr.ipynb\"><img src=\"data:image/png;base64,iVBORw0KGgoAAAANSUhEUgAAAGwAAAAXBAMAAAAcrbf8AAAAMFBMVEX///9ERESqqqqYmJgQEBAy\n",
       "MjJmZmZUVFTu7u4iIiLMzMyIiIi6urp2dnbc3NwAAABu19h3AAAAAXRSTlMAQObYZgAAAAlwSFlz\n",
       "AAAOxAAADsQBlSsOGwAAAUtJREFUOMtjYCAdJDCQBQSA+AEuST682u7gkuQ9gMJlDhH8OkUYRdvK\n",
       "BjSL0gIXoGtjYOQr4CmWQGjjKItH0/aQgfcPFm0XGASWM7AJCjoKCoNt2w/TdhhC1TEwuGDVlseK\n",
       "7Ei4Nm0I5d/AUP8Apm3jzJkBcG2M+LRVMjDUL4BqO7oDybaKdnzagGA+1JF8EUiO5BKKw6+N6zdU\n",
       "G+sDhDbX+bMbYKkEuzbOApg2pCC5bBEA5yG0Zc6c6TJz5nSwaCIsupfMBAIBqCMljLFoQ7KNuQCm\n",
       "rRE5ApYxNuDVpsvAB40ATmRtbOsE8GnjusDA3QDRxr0BSRuHwGZkbfcfoGp7mZaWCUslQQhtCQzG\n",
       "jAcQ2sr9ww1QtM3///8rTFu7TAMsB3x8wCj6Cck2ONDGknHOSs4MwMxWKNoO485v+LQx0FrbLlwS\n",
       "3Avw6AIAHMt1dEm3rdQAAAAASUVORK5CYII=\n",
       "\" style=\"display:inline;vertical-align:middle;\" /></a></span>"
      ],
      "text/plain": [
       "|- |1 + 2| in RealPos"
      ]
     },
     "metadata": {},
     "output_type": "display_data"
    }
   ],
   "source": [
    "abs_value_1_plus_2.deduce_in_number_set(RealPos)"
   ]
  },
  {
   "cell_type": "code",
   "execution_count": 46,
   "metadata": {},
   "outputs": [
    {
     "data": {
      "text/html": [
       "<span style=\"font-size:20px;\"><a class=\"ProveItLink\" href=\"../../addition/__pv_it/theorems/a6c5109834da253e63c0a4ff791bacc177a5dc8c0/expr.ipynb\"><img src=\"data:image/png;base64,iVBORw0KGgoAAAANSUhEUgAAAGQAAAAVBAMAAABCslYDAAAAMFBMVEX////MzMxUVFRERES6uroi\n",
       "IiIQEBCYmJhmZmYyMjLu7u52dnaqqqqIiIjc3NwAAACW8nlqAAAAAXRSTlMAQObYZgAAAAlwSFlz\n",
       "AAAOxAAADsQBlSsOGwAAAatJREFUOMt1Uz1Iw0AU/trYNq1p2kURXLpqFTqog6B08geRFiFQwcFB\n",
       "7GjBxc0s0sHB4qKIQrCLg9CquHcVEaJ1EixREASXgpOdfLmkkau5B5d3ee++e9/7OQAW/EVkB+IN\n",
       "gWP5nyV2s3r2VgfufU7HpvJ0V6nX/FTExbeOWMUvQlSnz0mPUX6mCNs6ZO6ueVcnbLY7PZAhyQCC\n",
       "OsKc9cHVOXIibDg/TU1jVEYlm3MJd76QW8bOIbD44hozn47ep6WmWyYPOXwdA/pT9lbtpqSmhp3N\n",
       "Ea05S+pwkNiPUbMQYXSi3f4E6m6ma3SgCDnPQZQOwiaUdQbpklZ1t1MbVLw2QlQ+7Gnapqat2OWs\n",
       "IFFHoG0fGNRIMiyXLw8SzqCW5aLQDbkG+liUqlebackjVjOxy1eM2nJgQGFsQx5kwe4LspghSAMj\n",
       "isVBkpQfIoxO3PzrfopxvgYkUynIXJRgSaKJkevs59QL0zy2LgvAAFVs/Or9kS9yumxTchI8nzC8\n",
       "Sd4qEJtQ0q/7TD5cvTSpcbMb0f3GkklZ9MRmRQ41I/JURQ5J+JJVU+BoCey/CZ1miy5Ab9MAAAAA\n",
       "SUVORK5CYII=\n",
       "\" style=\"display:inline;vertical-align:middle;\" /></a> <a class=\"ProveItLink\" href=\"../__pv_it/demonstrations/70a6417357a1efdabcf975b1b51430a8b8471d330/proof.ipynb\" style=\"text-decoration: none\">&nbsp;&#x22A2;&nbsp;&nbsp;</a><a class=\"ProveItLink\" href=\"../__pv_it/demonstrations/d7e95babb6a79210dcd10844e53a46d7308a8cce0/expr.ipynb\"><img src=\"data:image/png;base64,iVBORw0KGgoAAAANSUhEUgAAAF8AAAAVBAMAAADSoS/MAAAAMFBMVEX///8yMjKqqqoiIiJmZmaY\n",
       "mJju7u5EREQQEBBUVFTMzMyIiIi6urp2dnbc3NwAAABRd72LAAAAAXRSTlMAQObYZgAAAAlwSFlz\n",
       "AAAOxAAADsQBlSsOGwAAAVNJREFUOMtjeMCAA/DhEL+DSwPvARRuYHu9cHsADg1sFQYYGhgKXjKc\n",
       "DE/AYQOjAxYNbxnYuSagaTgKpfkVsGpgeSCApkEbSp9PQGjYbmwsANdQgEPDZYSnD25D2MCZBnES\n",
       "39x9G1A1SO6eBNXAJ4bkpOWKD8AaTjxg/4aige1jQv4DiAZGeDwVvBD+vA0crGytDCwGKBqYvjFw\n",
       "bIBqQPJ0aCIk4lg+MDBfALKcjY07jI0tgSwWAQb+CxANK4yBoACigT0VEnEcBQz5B1BsAOo/rwDR\n",
       "kI5kA5dDGVhD/gaGeNRQAkaDfwJEAzNyPHg9h2hQYJjI9ABFwwKgvyAauDcgaUjnDgBpYN/AZMKC\n",
       "YgNnALsDLB6E4BqeMLAG1IBDafatl7tQg3WuKzziMmsSYKm1jqFcXgF7TCMn77PFkKSBNT8cxZ0f\n",
       "SM5A5GvYhUsD9wKswgACxnR/lKwspwAAAABJRU5ErkJggg==\n",
       "\" style=\"display:inline;vertical-align:middle;\" /></a></span>"
      ],
      "text/plain": [
       "{(a + b) in Complex} |- |a + b| in Real"
      ]
     },
     "metadata": {},
     "output_type": "display_data"
    }
   ],
   "source": [
    "# Abs(x) is real when x is complex\n",
    "abs_value_a_plus_b.deduce_in_number_set(\n",
    "    Real, assumptions=[InSet(Add(a,b), Complex)])"
   ]
  },
  {
   "cell_type": "code",
   "execution_count": 47,
   "metadata": {},
   "outputs": [
    {
     "data": {
      "text/html": [
       "<span style=\"font-size:20px;\"><a class=\"ProveItLink\" href=\"../../ordering/__pv_it/theorems/4aa8d696b1f407d6126de9f51a052e8d90e0848c0/expr.ipynb\"><img src=\"data:image/png;base64,iVBORw0KGgoAAAANSUhEUgAAADMAAAAQBAMAAABJt1qBAAAAMFBMVEX////MzMwyMjKqqqoiIiJm\n",
       "ZmaYmJju7u5EREQQEBC6urqIiIh2dnZUVFTc3NwAAAAqL9KcAAAAAXRSTlMAQObYZgAAAAlwSFlz\n",
       "AAAOxAAADsQBlSsOGwAAAM1JREFUGNNjYMAASTP6VWYkMGAFDW8Z1mYUYJd6w8DBeAGXFOsDBRSh\n",
       "HS4uCnCpBmSZRdsRunjLQQby3dm3ASTAp45koITRAyBj5QOO7yABpgdwqZcqX0AmsE9jYHUASyE5\n",
       "I60IRLN+YGA5AGJIugBBA0SKowzkZc4GhvoFIIEKJF2MAe1Aun4DQz5YgAXZX4EvQFIGDJeYQS7g\n",
       "3oAkVcENNJFjA7MrK1hEGS71lIEtoQvowtsH324Ei9R2FcBCvo+hQ98AOTjWtLgghxwApbZCEcpv\n",
       "FP8AAAAASUVORK5CYII=\n",
       "\" style=\"display:inline;vertical-align:middle;\" /></a>, <a class=\"ProveItLink\" href=\"../__pv_it/demonstrations/338bea1169aca2a51c9e3cdb908726f9096b30730/expr.ipynb\"><img src=\"data:image/png;base64,iVBORw0KGgoAAAANSUhEUgAAAD0AAAATBAMAAADR6hicAAAAMFBMVEX///8AAAAAAAAAAAAAAAAA\n",
       "AAAAAAAAAAAAAAAAAAAAAAAAAAAAAAAAAAAAAAAAAAAv3aB7AAAAD3RSTlMAELvv3c2ZVESJq3Yi\n",
       "MmZ3LnoBAAAACXBIWXMAAA7EAAAOxAGVKw4bAAAA+ElEQVQoz2NgwA3YGPADJrLkRT6pCjBM/twA\n",
       "lWdUdkBToM6xgIHxA1w/awKa/JID8xgYDBiSlJSVlB4wMPAXoMkvV2A9wOAA198vABXf5OISAKLX\n",
       "vOYJQJKfApVu3QhlrOG6sBNJPmr3chDFEwgzfw2DAlMDXJ7xq4D8AZAzDyDkrzE6OsDCj/0jA/MG\n",
       "kDwDQp6voMgAHsgBDPwTgPRlFyBQgMgzLOSCy7NMYOgH+VAIST+DFCM80IDezwf5kAVZnneDAlz+\n",
       "AqMdiObeABPRBeK9cHmuB0yQAA6HiYRDXAUFjCvzIAwpDUhAXv0M1MsYgBmxnSoumKIAyg80ctEW\n",
       "W0oAAAAASUVORK5CYII=\n",
       "\" style=\"display:inline;vertical-align:middle;\" /></a> <a class=\"ProveItLink\" href=\"../__pv_it/demonstrations/b29b6b4078ea063dfb5f3e51887d169c7b3073be0/proof.ipynb\" style=\"text-decoration: none\">&nbsp;&#x22A2;&nbsp;&nbsp;</a><a class=\"ProveItLink\" href=\"../__pv_it/demonstrations/d7e95babb6a79210dcd10844e53a46d7308a8cce0/expr.ipynb\"><img src=\"data:image/png;base64,iVBORw0KGgoAAAANSUhEUgAAAF8AAAAVBAMAAADSoS/MAAAAMFBMVEX///8yMjKqqqoiIiJmZmaY\n",
       "mJju7u5EREQQEBBUVFTMzMyIiIi6urp2dnbc3NwAAABRd72LAAAAAXRSTlMAQObYZgAAAAlwSFlz\n",
       "AAAOxAAADsQBlSsOGwAAAVNJREFUOMtjeMCAA/DhEL+DSwPvARRuYHu9cHsADg1sFQYYGhgKXjKc\n",
       "DE/AYQOjAxYNbxnYuSagaTgKpfkVsGpgeSCApkEbSp9PQGjYbmwsANdQgEPDZYSnD25D2MCZBnES\n",
       "39x9G1A1SO6eBNXAJ4bkpOWKD8AaTjxg/4aige1jQv4DiAZGeDwVvBD+vA0crGytDCwGKBqYvjFw\n",
       "bIBqQPJ0aCIk4lg+MDBfALKcjY07jI0tgSwWAQb+CxANK4yBoACigT0VEnEcBQz5B1BsAOo/rwDR\n",
       "kI5kA5dDGVhD/gaGeNRQAkaDfwJEAzNyPHg9h2hQYJjI9ABFwwKgvyAauDcgaUjnDgBpYN/AZMKC\n",
       "YgNnALsDLB6E4BqeMLAG1IBDafatl7tQg3WuKzziMmsSYKm1jqFcXgF7TCMn77PFkKSBNT8cxZ0f\n",
       "SM5A5GvYhUsD9wKswgACxnR/lKwspwAAAABJRU5ErkJggg==\n",
       "\" style=\"display:inline;vertical-align:middle;\" /></a></span>"
      ],
      "text/plain": [
       "{a in Real, b in NaturalPos} |- |a + b| in Real"
      ]
     },
     "metadata": {},
     "output_type": "display_data"
    }
   ],
   "source": [
    "# Abs(a+b) is real if a is real and b a positive natural, etc\n",
    "abs_value_a_plus_b.deduce_in_number_set(\n",
    "    Real, assumptions=[InSet(a, Real), InSet(b, NaturalPos)])"
   ]
  },
  {
   "cell_type": "code",
   "execution_count": 48,
   "metadata": {},
   "outputs": [
    {
     "data": {
      "text/html": [
       "<span style=\"font-size:20px;\"><a class=\"ProveItLink\" href=\"../../ordering/__pv_it/theorems/4aa8d696b1f407d6126de9f51a052e8d90e0848c0/expr.ipynb\"><img src=\"data:image/png;base64,iVBORw0KGgoAAAANSUhEUgAAADMAAAAQBAMAAABJt1qBAAAAMFBMVEX////MzMwyMjKqqqoiIiJm\n",
       "ZmaYmJju7u5EREQQEBC6urqIiIh2dnZUVFTc3NwAAAAqL9KcAAAAAXRSTlMAQObYZgAAAAlwSFlz\n",
       "AAAOxAAADsQBlSsOGwAAAM1JREFUGNNjYMAASTP6VWYkMGAFDW8Z1mYUYJd6w8DBeAGXFOsDBRSh\n",
       "HS4uCnCpBmSZRdsRunjLQQby3dm3ASTAp45koITRAyBj5QOO7yABpgdwqZcqX0AmsE9jYHUASyE5\n",
       "I60IRLN+YGA5AGJIugBBA0SKowzkZc4GhvoFIIEKJF2MAe1Aun4DQz5YgAXZX4EvQFIGDJeYQS7g\n",
       "3oAkVcENNJFjA7MrK1hEGS71lIEtoQvowtsH324Ei9R2FcBCvo+hQ98AOTjWtLgghxwApbZCEcpv\n",
       "FP8AAAAASUVORK5CYII=\n",
       "\" style=\"display:inline;vertical-align:middle;\" /></a> <a class=\"ProveItLink\" href=\"../__pv_it/demonstrations/0e4774d42153635972a15b9760406c5da9dea1eb0/proof.ipynb\" style=\"text-decoration: none\">&nbsp;&#x22A2;&nbsp;&nbsp;</a><a class=\"ProveItLink\" href=\"../__pv_it/demonstrations/4f82ddcfcd134098ca9ce6156bba8eaaa45f49a20/expr.ipynb\"><img src=\"data:image/png;base64,iVBORw0KGgoAAAANSUhEUgAAAGEAAAAVBAMAAACkm51HAAAAMFBMVEX///8yMjKqqqoiIiJmZmaY\n",
       "mJju7u5EREQQEBBUVFTMzMyIiIi6urp2dnbc3NwAAABRd72LAAAAAXRSTlMAQObYZgAAAAlwSFlz\n",
       "AAAOxAAADsQBlSsOGwAAAV1JREFUOMtjeMCAC/DhEL+DUwfvARRuYHu9cHsALh18LuIL0HUwFLxk\n",
       "OBmegEPHcwbeP5g63jKwc01A08ETAKHnMTB0YNPB8kAATQfTBgjdn8Aw/wFUB3exsSFCRwEOHZMZ\n",
       "GOYvgOjgkU5A2MGZBnEV39x9G1B1AIE91FUPE5BctVzxAVjHiQfs39B1cP2G6pBD+OOF8Odt4NBl\n",
       "a2VgMUDXwTwBqkMAyeehiZAYZPnAwHwByGIxNrZoNjaeAJZ2h8YgF1DE2Byqgz0VEoMcBQz5B9Ds\n",
       "YJ0A1cFWgGQHl0MZWEf+BoZ4tLBi0GXgg4auAXJ8eD2H6FBgmMj0AEUH1wUG7gSIjt3IOtK5A0A6\n",
       "2DcwmbCg2vHYxcUZ6nNGBbiOJwysATXgsJp96+UuVB32//9/hOpgm34MnnbrGMrlFbDHOXJq57kO\n",
       "TSVY8wcsJWLLH6TnKAp07MKpg3sBVmEAYkp7thbyMDUAAAAASUVORK5CYII=\n",
       "\" style=\"display:inline;vertical-align:middle;\" /></a></span>"
      ],
      "text/plain": [
       "{a in Real} |- |a + 2| in Real"
      ]
     },
     "metadata": {},
     "output_type": "display_data"
    }
   ],
   "source": [
    "# Abs(a+2) is real if a is real\n",
    "abs_value_a_plus_2.deduce_in_number_set(\n",
    "    Real, assumptions=[InSet(a, Real)])"
   ]
  },
  {
   "cell_type": "code",
   "execution_count": 49,
   "metadata": {},
   "outputs": [
    {
     "data": {
      "text/html": [
       "<span style=\"font-size:20px;\"><a class=\"ProveItLink\" href=\"../__pv_it/theorems/e9f87a0977d5044ea8daf1040d2f219396bb3d5b0/expr.ipynb\"><img src=\"data:image/png;base64,iVBORw0KGgoAAAANSUhEUgAAADMAAAAQBAMAAABJt1qBAAAAMFBMVEX////MzMwyMjKqqqoiIiJm\n",
       "ZmaYmJju7u5EREQQEBC6urqIiIh2dnZUVFTc3NwAAAAqL9KcAAAAAXRSTlMAQObYZgAAAAlwSFlz\n",
       "AAAOxAAADsQBlSsOGwAAANFJREFUGNNjYMACalqU9slgk2DgvpnAHt+KVSp6DQMDG1YpxoB2IHkV\n",
       "RWyHi4sCkOItaACSZcgyi7ZDaA6+AKgI3519G8C0OlTgLeMBKGvlA47vIJrpAVRAhisBwmCfxsDq\n",
       "AJaCGfyUawOEwfqBgQVsgKQLEDSA7YIayNnAUL8AxKiA6eIAuxAI6jcw5IMZLDApLrC/uIBSBgyX\n",
       "mEEu4N4AD421QCIIqH0DsysrWEQZHoZNcewmQL+x3z74diNYpLarABbynV/iUANvTQs4oGAAAKqD\n",
       "MEJAsWyMAAAAAElFTkSuQmCC\n",
       "\" style=\"display:inline;vertical-align:middle;\" /></a>, <a class=\"ProveItLink\" href=\"../__pv_it/theorems/a259ec76dfb0a5be60b7c83d797520fa82c1dba60/expr.ipynb\"><img src=\"data:image/png;base64,iVBORw0KGgoAAAANSUhEUgAAADEAAAAQBAMAAABNQoq8AAAAMFBMVEX///+YmJjMzMzc3NyIiIhU\n",
       "VFR2dna6urqqqqpmZmYyMjIiIiIQEBBERETu7u4AAAD7tRWPAAAAAXRSTlMAQObYZgAAAAlwSFlz\n",
       "AAAOxAAADsQBlSsOGwAAANtJREFUGNNjYMAEz26vclZjYOC7swFNgiVGgG/+TSCDawKazJQyBgZG\n",
       "kAx/A6oE04R7QDISiOsfQIV8d+9eAKRYH1wAkg+BOBsqUeUHoXmZYcYvdYkAUczroHxTpgQIg+/X\n",
       "g/cGIIcYQGXU2AUgDI5/DDwOIBmYCyzZHSAMzgUM/CDtOruB4ALYHqhp3AkM9SB3v4Xp4QW7DeKd\n",
       "+SB3c8Nk2MH+YQfKKPAdBIeJAzwMSoHELKDHBHgh7l8BD7dbk/m6gWJ8YRMhAk+vwwLj2Z3fk1EC\n",
       "rOw2OHRgAAASXDjITT81JQAAAABJRU5ErkJggg==\n",
       "\" style=\"display:inline;vertical-align:middle;\" /></a>, <a class=\"ProveItLink\" href=\"../__pv_it/demonstrations/0bf288f776388558e13fc2105fec0159587992fa0/expr.ipynb\"><img src=\"data:image/png;base64,iVBORw0KGgoAAAANSUhEUgAAAGEAAAAVCAMAAABha3BGAAAAPFBMVEX///8NDQ0WFhYLCwsYGBjM\n",
       "zMxUVFRERES6uroiIiIQEBCYmJhmZmYyMjLu7u52dnaqqqqIiIjc3NwAAAB1ELWhAAAAAXRSTlMA\n",
       "QObYZgAAAAlwSFlzAAAOxAAADsQBlSsOGwAAAY1JREFUSMeVVeu6rCAIde99vIDmJd//XQ9iTtY0\n",
       "TPmjrwxYawGiUrRW9Ww9tVclP3Rw5cOPEC+3c7oZOFqEjZO/NNB2/kqpBFYbl/vklzBeLslaPdtS\n",
       "ZiI0iOCFdJz+1ZFPH64kmOnDs9zUVKHAOR8T7uqLOl6IsHMHWIbL5JGX+wgJ9hy8K3fmIJdValId\n",
       "Rp1Xk8paRITFlGJ6opJ5L9IsIQ4E/yLjkAxsjQJCrFTgWDmQ36UH4PXvrz0H8FpTRygKOqeIno0l\n",
       "DZnxkfcyihJ2hKTQdSK1PSEdiSHCRCww7+F6rsKxu2I3c6RhQ0DL207SwPiud6xDUcKodCbrnqVY\n",
       "WyxfxV7i2KGXKsOxDr8/MMulkvL59mRtS0do3mZReRUQ9KgXudqThPP58DgSu7VdA8oQVBA0GApu\n",
       "N4NwHGb5/Yy35EQkUrrLjaYkvZqipW416TViwMkSyDqkYjgc6NtnempGeDCeL4fYh8m3V9d/k/Bx\n",
       "YN285I519unbxfIY4UQK4jdG5em1e1KtJeP/sCkSC/lzKpMAAAAASUVORK5CYII=\n",
       "\" style=\"display:inline;vertical-align:middle;\" /></a> <a class=\"ProveItLink\" href=\"../__pv_it/demonstrations/bb8a7e35d74864ac6762d568be99546ef6a1a7f00/proof.ipynb\" style=\"text-decoration: none\">&nbsp;&#x22A2;&nbsp;&nbsp;</a><a class=\"ProveItLink\" href=\"../__pv_it/demonstrations/fafc93e43469634550597ec99cf1f3f5f71eafc40/expr.ipynb\"><img src=\"data:image/png;base64,iVBORw0KGgoAAAANSUhEUgAAAGsAAAAXBAMAAAD+cayFAAAAMFBMVEX///8yMjKqqqoiIiJmZmaY\n",
       "mJju7u5EREQQEBBUVFTMzMyIiIi6urp2dnbc3NwAAABRd72LAAAAAXRSTlMAQObYZgAAAAlwSFlz\n",
       "AAAOxAAADsQBlSsOGwAAAXFJREFUOMtjYCAZsDCQBdhBxANcsnx4td3BJct7AIUb2F4v3B6AVxtb\n",
       "hQGGNoaClwwnwxPw2sbogEXbWwZ2rgkM7uUV5eUBqNp4AiA0vwJWbSwPBLDaxrQBQp9PQGjbbmws\n",
       "ANdWgFfbZUSQHNyGsI0zbQKSNr65+zagapPcPQmqjU8MyZHLFR8gaTvxgP0bija2jwn5DyDaGOHx\n",
       "WvBC+PM2eCq5w8DWysBigKKN6RsDxwaoNqQgCU1EeOcOA8sHBuYLIFOMjS2ajY2BzmcRYOC/ANG2\n",
       "whgICiDa2FMDkLRxFDDkH0CxDWjKeQWItnQk27gcypC05W9giEcNSWC0+SdAtDEjx5vXc2RtCgwT\n",
       "mR6gaFsA9C9EG/cGJG3p3AEIbewbmExYUGzjDGB3gMWbEFzbEwbWgBqENrbZt17uQo2Aua7w6M6s\n",
       "SYDlgDqGcnkFuDYsqQQ545wthiQuVIA1KWPJb/i04cmm1NG2C5cE9wI8ugD3Lnx5gHgWVwAAAABJ\n",
       "RU5ErkJggg==\n",
       "\" style=\"display:inline;vertical-align:middle;\" /></a></span>"
      ],
      "text/plain": [
       "{a in Complex, b in Complex, (a + b) != 0} |- |a + b| in RealPos"
      ]
     },
     "metadata": {},
     "output_type": "display_data"
    }
   ],
   "source": [
    "abs_value_a_plus_b.deduce_in_number_set(RealPos,\n",
    "    assumptions=[InSet(a, Complex),\n",
    "                 InSet(b, Complex),\n",
    "                 NotEquals(Add(a,b), zero)])"
   ]
  },
  {
   "cell_type": "code",
   "execution_count": 50,
   "metadata": {},
   "outputs": [
    {
     "data": {
      "text/html": [
       "<span style=\"font-size:20px;\"> <a class=\"ProveItLink\" href=\"../__pv_it/demonstrations/c4416016440248aea29956372db55a9bc78cc98b0/proof.ipynb\" style=\"text-decoration: none\">&nbsp;&#x22A2;&nbsp;&nbsp;</a><a class=\"ProveItLink\" href=\"../__pv_it/demonstrations/2dc04fdf243b8207f8c4af88e8762baffc5566b70/expr.ipynb\"><img src=\"data:image/png;base64,iVBORw0KGgoAAAANSUhEUgAAAHUAAAAYBAMAAAA2QK8LAAAAMFBMVEX///9ERESqqqqYmJgQEBAy\n",
       "MjJmZmZUVFTu7u4iIiLMzMyIiIi6urp2dnbc3NwAAABu19h3AAAAAXRSTlMAQObYZgAAAAlwSFlz\n",
       "AAAOxAAADsQBlSsOGwAAAZlJREFUOMtjYCARcMmAKd7bFxhIB71CINKa4SAZehm4hYGEFwP/A4YH\n",
       "uJTw4dTMLM3A94OBRYHhDi4VvAdQNYQIfp0iDGX7cf1g4DQA6eWagW5lWuACdL0MjHwFPMUSIBbH\n",
       "xQNAvSwbgHrbU3+g6X3IwPsHi94LDALLQSanLwC5mR/sZm6YXh4DCF3HwOCCVW8eK1Br+QJYWCHr\n",
       "ZdoAof0bGOofwPRunDkzAK6XkYGjDBy6uxmOM2DVW8nAUL8AqvfoDiR7K9oZOBqgaSMDu14gmA91\n",
       "M18Ekpu5hOJQvIFdL9dvqF7WBwi9rvNnNxChl7MAphcprC5bAD3OJQgEcmh62WbOnOI5c2YBWDQR\n",
       "ljaWzAQCAaibJYwZCNvLXADT24gcR8sYiXCzLgMfNI44kfWyrRMgqJfrAgN3A0Qv9wYkvRwCm9H1\n",
       "8v5D0/syLS0Tlq6CEHoTGIwZD6DqZS/5Woyqd/7//19hettlGmD56OMDRtFPaPbCAVLaQOTBs5KQ\n",
       "NIkFIOuF5QVs+ZeQXnx5n9p6d+Es0hYQ0goAe26KvmchEYEAAAAASUVORK5CYII=\n",
       "\" style=\"display:inline;vertical-align:middle;\" /></a></span>"
      ],
      "text/plain": [
       "|- |1 + 2| in RealNonNeg"
      ]
     },
     "metadata": {},
     "output_type": "display_data"
    }
   ],
   "source": [
    "abs_value_1_plus_2.deduce_in_number_set(RealNonNeg)"
   ]
  },
  {
   "cell_type": "code",
   "execution_count": 51,
   "metadata": {},
   "outputs": [
    {
     "data": {
      "text/html": [
       "<span style=\"font-size:20px;\"><a class=\"ProveItLink\" href=\"../__pv_it/theorems/e9f87a0977d5044ea8daf1040d2f219396bb3d5b0/expr.ipynb\"><img src=\"data:image/png;base64,iVBORw0KGgoAAAANSUhEUgAAADMAAAAQBAMAAABJt1qBAAAAMFBMVEX////MzMwyMjKqqqoiIiJm\n",
       "ZmaYmJju7u5EREQQEBC6urqIiIh2dnZUVFTc3NwAAAAqL9KcAAAAAXRSTlMAQObYZgAAAAlwSFlz\n",
       "AAAOxAAADsQBlSsOGwAAANFJREFUGNNjYMACalqU9slgk2DgvpnAHt+KVSp6DQMDG1YpxoB2IHkV\n",
       "RWyHi4sCkOItaACSZcgyi7ZDaA6+AKgI3519G8C0OlTgLeMBKGvlA47vIJrpAVRAhisBwmCfxsDq\n",
       "AJaCGfyUawOEwfqBgQVsgKQLEDSA7YIayNnAUL8AxKiA6eIAuxAI6jcw5IMZLDApLrC/uIBSBgyX\n",
       "mEEu4N4AD421QCIIqH0DsysrWEQZHoZNcewmQL+x3z74diNYpLarABbynV/iUANvTQs4oGAAAKqD\n",
       "MEJAsWyMAAAAAElFTkSuQmCC\n",
       "\" style=\"display:inline;vertical-align:middle;\" /></a>, <a class=\"ProveItLink\" href=\"../__pv_it/theorems/a259ec76dfb0a5be60b7c83d797520fa82c1dba60/expr.ipynb\"><img src=\"data:image/png;base64,iVBORw0KGgoAAAANSUhEUgAAADEAAAAQBAMAAABNQoq8AAAAMFBMVEX///+YmJjMzMzc3NyIiIhU\n",
       "VFR2dna6urqqqqpmZmYyMjIiIiIQEBBERETu7u4AAAD7tRWPAAAAAXRSTlMAQObYZgAAAAlwSFlz\n",
       "AAAOxAAADsQBlSsOGwAAANtJREFUGNNjYMAEz26vclZjYOC7swFNgiVGgG/+TSCDawKazJQyBgZG\n",
       "kAx/A6oE04R7QDISiOsfQIV8d+9eAKRYH1wAkg+BOBsqUeUHoXmZYcYvdYkAUczroHxTpgQIg+/X\n",
       "g/cGIIcYQGXU2AUgDI5/DDwOIBmYCyzZHSAMzgUM/CDtOruB4ALYHqhp3AkM9SB3v4Xp4QW7DeKd\n",
       "+SB3c8Nk2MH+YQfKKPAdBIeJAzwMSoHELKDHBHgh7l8BD7dbk/m6gWJ8YRMhAk+vwwLj2Z3fk1EC\n",
       "rOw2OHRgAAASXDjITT81JQAAAABJRU5ErkJggg==\n",
       "\" style=\"display:inline;vertical-align:middle;\" /></a> <a class=\"ProveItLink\" href=\"../__pv_it/demonstrations/cf129d5fbc6e4defbb105dd6fe87d2c6fc1a1dfa0/proof.ipynb\" style=\"text-decoration: none\">&nbsp;&#x22A2;&nbsp;&nbsp;</a><a class=\"ProveItLink\" href=\"../__pv_it/demonstrations/d36c4f0e6920af3c220c1cc260d317a5dc40cf610/expr.ipynb\"><img src=\"data:image/png;base64,iVBORw0KGgoAAAANSUhEUgAAAHQAAAAYBAMAAADZgsQ1AAAAMFBMVEX///8yMjKqqqoiIiJmZmaY\n",
       "mJju7u5EREQQEBBUVFTMzMyIiIi6urp2dnbc3NwAAABRd72LAAAAAXRSTlMAQObYZgAAAAlwSFlz\n",
       "AAAOxAAADsQBlSsOGwAAAbpJREFUOMtjYCARLD8Apu7uZSAZsF1XAJKsG3gKSNfLsD2AgYFjAcM/\n",
       "hge4VPDh1Bu+geF9AkMTwx1cCngPoHAD2+uF2wMg7IgH6xMYTLFqZaswwNDKUPCS4WR4AoiVW8MA\n",
       "1NqN3VZGByxa3zKwc00AMp7MYgA5+BOq1qNQml8Bq1aWBwIMDC+BOiHBhKJVG0qfT0Bo3W5sLADX\n",
       "WsCQ6QficG/gmYBd62VEMB3chrCVM20CQxqEd3dLAkgr39x9G1C1Su6eBNXKJ4bk4OWKKFEJ1Hri\n",
       "Afs3FK1sHxPyH0C0MsIVF7wQ/ryNAVUrWysDiwGKVqZvDBwboFqRgik0EZSGy4HgAVQrywcG5gtA\n",
       "lrOxcYexsSWQxSLAwH8BonWFMRAUQLSypwag2cpRwJB/AMVWoEnnFSBa05Fs5XIoQ9Oav4EhHjWE\n",
       "gdHqnwDRyowcr17P0bUqMExkeoCidQHQ/xCt3BuQtKZzB6BqZd/AZMKCYitnALsDLF6F4FqfMLAG\n",
       "1KCF8OxbL3ehRs5cV3iSyKxJgOWcOoZyeQXUeMVMTciZ7mwxJCFiAqzJH0t+JaSVgV5ad+GS4F5A\n",
       "QCcABeqS4k5Qb4oAAAAASUVORK5CYII=\n",
       "\" style=\"display:inline;vertical-align:middle;\" /></a></span>"
      ],
      "text/plain": [
       "{a in Complex, b in Complex} |- |a + b| in RealNonNeg"
      ]
     },
     "metadata": {},
     "output_type": "display_data"
    }
   ],
   "source": [
    "abs_value_a_plus_b.deduce_in_number_set(RealNonNeg,\n",
    "    assumptions=[InSet(a, Complex), InSet(b, Complex)])"
   ]
  },
  {
   "cell_type": "code",
   "execution_count": 52,
   "metadata": {},
   "outputs": [
    {
     "name": "stdout",
     "output_type": "stream",
     "text": [
      "Expected Exception:  Proof step failed assuming {(a + b) in Complex}:\n",
      "Attempting to instantiate |- forall_{a in Real | a < 0} (a in RealNeg) with {a: |a + b|}:\n",
      "Unsatisfied condition: |a + b| < 0. For debugging purposes, this is accessible via Instantiation.unsatisfied_condition with applicable assumptions in Instantiation.condition_assumptions.\n"
     ]
    }
   ],
   "source": [
    "# what happens if we try to deduce into an incorrect set?\n",
    "try:\n",
    "    abs_value_a_plus_b.deduce_in_number_set(RealNeg,\n",
    "        assumptions=[InSet(Add(a,b), Complex)])\n",
    "    assert False\n",
    "except Exception as _e:\n",
    "    print(\"Expected Exception: \", _e)"
   ]
  },
  {
   "cell_type": "code",
   "execution_count": 53,
   "metadata": {},
   "outputs": [
    {
     "data": {
      "text/html": [
       "<span style=\"font-size:20px;\"><a class=\"ProveItLink\" href=\"../../addition/__pv_it/theorems/a6c5109834da253e63c0a4ff791bacc177a5dc8c0/expr.ipynb\"><img src=\"data:image/png;base64,iVBORw0KGgoAAAANSUhEUgAAAGQAAAAVBAMAAABCslYDAAAAMFBMVEX////MzMxUVFRERES6uroi\n",
       "IiIQEBCYmJhmZmYyMjLu7u52dnaqqqqIiIjc3NwAAACW8nlqAAAAAXRSTlMAQObYZgAAAAlwSFlz\n",
       "AAAOxAAADsQBlSsOGwAAAatJREFUOMt1Uz1Iw0AU/trYNq1p2kURXLpqFTqog6B08geRFiFQwcFB\n",
       "7GjBxc0s0sHB4qKIQrCLg9CquHcVEaJ1EixREASXgpOdfLmkkau5B5d3ee++e9/7OQAW/EVkB+IN\n",
       "gWP5nyV2s3r2VgfufU7HpvJ0V6nX/FTExbeOWMUvQlSnz0mPUX6mCNs6ZO6ueVcnbLY7PZAhyQCC\n",
       "OsKc9cHVOXIibDg/TU1jVEYlm3MJd76QW8bOIbD44hozn47ep6WmWyYPOXwdA/pT9lbtpqSmhp3N\n",
       "Ea05S+pwkNiPUbMQYXSi3f4E6m6ma3SgCDnPQZQOwiaUdQbpklZ1t1MbVLw2QlQ+7Gnapqat2OWs\n",
       "IFFHoG0fGNRIMiyXLw8SzqCW5aLQDbkG+liUqlebackjVjOxy1eM2nJgQGFsQx5kwe4LspghSAMj\n",
       "isVBkpQfIoxO3PzrfopxvgYkUynIXJRgSaKJkevs59QL0zy2LgvAAFVs/Or9kS9yumxTchI8nzC8\n",
       "Sd4qEJtQ0q/7TD5cvTSpcbMb0f3GkklZ9MRmRQ41I/JURQ5J+JJVU+BoCey/CZ1miy5Ab9MAAAAA\n",
       "SUVORK5CYII=\n",
       "\" style=\"display:inline;vertical-align:middle;\" /></a> <a class=\"ProveItLink\" href=\"../__pv_it/demonstrations/ee4ece8fcbd19d87141be9322827e2b30e1279020/proof.ipynb\" style=\"text-decoration: none\">&nbsp;&#x22A2;&nbsp;&nbsp;</a><a class=\"ProveItLink\" href=\"../__pv_it/demonstrations/3ff525b12d2538bd0feab4af8292e545ac7b489e0/expr.ipynb\"><img src=\"data:image/png;base64,iVBORw0KGgoAAAANSUhEUgAAAF8AAAAVBAMAAADSoS/MAAAAMFBMVEX///8yMjKqqqoiIiJmZmaY\n",
       "mJju7u5EREQQEBBUVFTMzMyIiIi6urp2dnbc3NwAAABRd72LAAAAAXRSTlMAQObYZgAAAAlwSFlz\n",
       "AAAOxAAADsQBlSsOGwAAAVZJREFUOMtjeMCAA/DhEL+DSwPvATSB3GLBfWuxa2CrMMDUwD0jgM2/\n",
       "BIcNjA6YGrzPMjCwoms4CqX5FTA0cDmUAckpaBq0ofT5BISG7cbGAkCKM6EASKbi0HAZ4emD2yBC\n",
       "7HwO8FDim7tvA6oGyd2ToBr4xKBCL7kuwDWceMD+DUUD28eE/AcQDYyweFrLEwDTwNbKwGKAooHp\n",
       "GwPHBqgGmGuf8GyAaWD5wMAMss7Z2LjD2NgSyGIRYOC/ANGwwhgICsB+gDuJo4Ah/wCKDUD95xUg\n",
       "GtJhNrCDQwmsIX8DQzxqKAGjwT8BooEZpoEHHA88YA0KDBOZHqBoWAD0F0QD9wZ4TJ8EEo4gDewb\n",
       "mExYUGzgDGB3gMWDEDwtFfqxKTuAQ2n2rZe7UIN1ris84jJrEmCpteKzHwOOmEZO3meLwUkDe344\n",
       "ii8/kJyByNWwC5cG7gVYhQHMN2R+yGQb8QAAAABJRU5ErkJggg==\n",
       "\" style=\"display:inline;vertical-align:middle;\" /></a></span>"
      ],
      "text/plain": [
       "{(a + b) in Complex} |- |a + b| in Complex"
      ]
     },
     "metadata": {},
     "output_type": "display_data"
    }
   ],
   "source": [
    "# but of course, the Complex numbers contain the non-negative Real numbers …\n",
    "# so it would be nice to be able to be able to deduce_in_number_set(X) if\n",
    "# X contains a set Y for which deduce_in_number_set(Y) is possible …\n",
    "abs_value_a_plus_b.deduce_in_number_set(Complex,\n",
    "    assumptions=[InSet(Add(a,b), Complex)])"
   ]
  },
  {
   "cell_type": "markdown",
   "metadata": {},
   "source": [
    "### Testing the `Abs.deduce_not_equal()` method"
   ]
  },
  {
   "cell_type": "code",
   "execution_count": 54,
   "metadata": {},
   "outputs": [
    {
     "data": {
      "text/html": [
       "<a class=\"ProveItLink\" href=\"../__pv_it/demonstrations/a00f412b29eef517678b05e1e976de5f2cef54060/expr.ipynb\"><img src=\"data:image/png;base64,iVBORw0KGgoAAAANSUhEUgAAADUAAAAVBAMAAAAUZLt1AAAAMFBMVEX///8yMjKqqqoiIiJmZmaY\n",
       "mJju7u5EREQQEBBUVFTMzMyIiIi6urp2dnbc3NwAAABRd72LAAAAAXRSTlMAQObYZgAAAAlwSFlz\n",
       "AAAOxAAADsQBlSsOGwAAAMJJREFUKM9jeMCAA/AxMNzBJcd7AKscW4UBTjkGRgdMOZ4ACM2vgCnH\n",
       "tAFCn0/ALXcZ7ha+ufs2oMpJ7p4ElTvxgP0bihzbx4T8B2A5tlYGFgMUOaZvDBwbwHIsHxiYLwBF\n",
       "WIyNLZqNjScAWQIM/BfAchwFDPkHUPQBlZ5XAMvlb2CIR3Un0Hv+CRA5BYaJTA9Q5BYA3QCWY9/A\n",
       "ZMKCoo8zgN0BIsc2+9bLXah+mOuKO1ywxREsrPHEHzFyu3DJcS8AAAoETAOg5Fk0AAAAAElFTkSu\n",
       "QmCC\n",
       "\" style=\"display:inline;vertical-align:middle;\" /></a>"
      ],
      "text/plain": [
       "|a + b|"
      ]
     },
     "metadata": {},
     "output_type": "display_data"
    }
   ],
   "source": [
    "# recall our Abs(Add(a, b)) expression\n",
    "abs_value_a_plus_b"
   ]
  },
  {
   "cell_type": "code",
   "execution_count": 55,
   "metadata": {},
   "outputs": [
    {
     "data": {
      "text/html": [
       "<span style=\"font-size:20px;\"><a class=\"ProveItLink\" href=\"../__pv_it/theorems/e9f87a0977d5044ea8daf1040d2f219396bb3d5b0/expr.ipynb\"><img src=\"data:image/png;base64,iVBORw0KGgoAAAANSUhEUgAAADMAAAAQBAMAAABJt1qBAAAAMFBMVEX////MzMwyMjKqqqoiIiJm\n",
       "ZmaYmJju7u5EREQQEBC6urqIiIh2dnZUVFTc3NwAAAAqL9KcAAAAAXRSTlMAQObYZgAAAAlwSFlz\n",
       "AAAOxAAADsQBlSsOGwAAANFJREFUGNNjYMACalqU9slgk2DgvpnAHt+KVSp6DQMDG1YpxoB2IHkV\n",
       "RWyHi4sCkOItaACSZcgyi7ZDaA6+AKgI3519G8C0OlTgLeMBKGvlA47vIJrpAVRAhisBwmCfxsDq\n",
       "AJaCGfyUawOEwfqBgQVsgKQLEDSA7YIayNnAUL8AxKiA6eIAuxAI6jcw5IMZLDApLrC/uIBSBgyX\n",
       "mEEu4N4AD421QCIIqH0DsysrWEQZHoZNcewmQL+x3z74diNYpLarABbynV/iUANvTQs4oGAAAKqD\n",
       "MEJAsWyMAAAAAElFTkSuQmCC\n",
       "\" style=\"display:inline;vertical-align:middle;\" /></a>, <a class=\"ProveItLink\" href=\"../__pv_it/theorems/a259ec76dfb0a5be60b7c83d797520fa82c1dba60/expr.ipynb\"><img src=\"data:image/png;base64,iVBORw0KGgoAAAANSUhEUgAAADEAAAAQBAMAAABNQoq8AAAAMFBMVEX///+YmJjMzMzc3NyIiIhU\n",
       "VFR2dna6urqqqqpmZmYyMjIiIiIQEBBERETu7u4AAAD7tRWPAAAAAXRSTlMAQObYZgAAAAlwSFlz\n",
       "AAAOxAAADsQBlSsOGwAAANtJREFUGNNjYMAEz26vclZjYOC7swFNgiVGgG/+TSCDawKazJQyBgZG\n",
       "kAx/A6oE04R7QDISiOsfQIV8d+9eAKRYH1wAkg+BOBsqUeUHoXmZYcYvdYkAUczroHxTpgQIg+/X\n",
       "g/cGIIcYQGXU2AUgDI5/DDwOIBmYCyzZHSAMzgUM/CDtOruB4ALYHqhp3AkM9SB3v4Xp4QW7DeKd\n",
       "+SB3c8Nk2MH+YQfKKPAdBIeJAzwMSoHELKDHBHgh7l8BD7dbk/m6gWJ8YRMhAk+vwwLj2Z3fk1EC\n",
       "rOw2OHRgAAASXDjITT81JQAAAABJRU5ErkJggg==\n",
       "\" style=\"display:inline;vertical-align:middle;\" /></a>, <a class=\"ProveItLink\" href=\"../__pv_it/demonstrations/0bf288f776388558e13fc2105fec0159587992fa0/expr.ipynb\"><img src=\"data:image/png;base64,iVBORw0KGgoAAAANSUhEUgAAAGEAAAAVCAMAAABha3BGAAAAPFBMVEX///8NDQ0WFhYLCwsYGBjM\n",
       "zMxUVFRERES6uroiIiIQEBCYmJhmZmYyMjLu7u52dnaqqqqIiIjc3NwAAAB1ELWhAAAAAXRSTlMA\n",
       "QObYZgAAAAlwSFlzAAAOxAAADsQBlSsOGwAAAY1JREFUSMeVVeu6rCAIde99vIDmJd//XQ9iTtY0\n",
       "TPmjrwxYawGiUrRW9Ww9tVclP3Rw5cOPEC+3c7oZOFqEjZO/NNB2/kqpBFYbl/vklzBeLslaPdtS\n",
       "ZiI0iOCFdJz+1ZFPH64kmOnDs9zUVKHAOR8T7uqLOl6IsHMHWIbL5JGX+wgJ9hy8K3fmIJdValId\n",
       "Rp1Xk8paRITFlGJ6opJ5L9IsIQ4E/yLjkAxsjQJCrFTgWDmQ36UH4PXvrz0H8FpTRygKOqeIno0l\n",
       "DZnxkfcyihJ2hKTQdSK1PSEdiSHCRCww7+F6rsKxu2I3c6RhQ0DL207SwPiud6xDUcKodCbrnqVY\n",
       "WyxfxV7i2KGXKsOxDr8/MMulkvL59mRtS0do3mZReRUQ9KgXudqThPP58DgSu7VdA8oQVBA0GApu\n",
       "N4NwHGb5/Yy35EQkUrrLjaYkvZqipW416TViwMkSyDqkYjgc6NtnempGeDCeL4fYh8m3V9d/k/Bx\n",
       "YN285I519unbxfIY4UQK4jdG5em1e1KtJeP/sCkSC/lzKpMAAAAASUVORK5CYII=\n",
       "\" style=\"display:inline;vertical-align:middle;\" /></a> <a class=\"ProveItLink\" href=\"../__pv_it/demonstrations/f328cfd1d9926bdfe2697b454ee490360a9e203a0/proof.ipynb\" style=\"text-decoration: none\">&nbsp;&#x22A2;&nbsp;&nbsp;</a><a class=\"ProveItLink\" href=\"../__pv_it/demonstrations/02cb6aa760e1bdcf1326c0b3bde8023b889bbb4b0/expr.ipynb\"><img src=\"data:image/png;base64,iVBORw0KGgoAAAANSUhEUgAAAF0AAAAVCAMAAAATpBLwAAAAPFBMVEX///8NDQ0WFhYLCwsYGBgy\n",
       "MjKqqqoiIiJmZmaYmJju7u5EREQQEBBUVFTMzMyIiIi6urp2dnbc3NwAAACylXFAAAAAAXRSTlMA\n",
       "QObYZgAAAAlwSFlzAAAOxAAADsQBlSsOGwAAAVVJREFUOMu1leuShiAIhtuDinhE7/9eV6lms4z5\n",
       "2p3PH85Y8PgKiEtZHo8HLpQf0+cugP+ho/NGcIluoFKC8ky7AoHu4tFSNzWmiPRsx3XV9/QYDgvL\n",
       "hyQn0nUaN6t4T3fHVDveSjf71+lk7lOVw3BIDmFsZ91MS6BUkkhXIaWg53R1lI473W6m2bffrqJA\n",
       "x6qwTWOqwPD4/urzrr9UWulpNUVv2VTSrnlvn2baB+m/dFpNofaloVGS9+YgCRSHlCb0DOPNWOl5\n",
       "1+4df8ySdt4796q80NWpN6xx11tWsXaOrWLNcLVDD8857p8f5njIlkC+t3arSGTPoBZdBHrc83PW\n",
       "rs4dxvo9lGzqGkcbWEDQHhrYwaTeNVwK1PRO4ONmiiFRLCFFqSIDgZ3dJnVtjgiUQlyedIKbtqrp\n",
       "b/393MXmLgrf+HpYeufbZCTpyymTr4zBRXT/AYVmEjCsi73fAAAAAElFTkSuQmCC\n",
       "\" style=\"display:inline;vertical-align:middle;\" /></a></span>"
      ],
      "text/plain": [
       "{a in Complex, b in Complex, (a + b) != 0} |- |a + b| != 0"
      ]
     },
     "metadata": {},
     "output_type": "display_data"
    }
   ],
   "source": [
    "abs_value_a_plus_b.deduce_not_equal(\n",
    "    zero,\n",
    "    assumptions=[InSet(a, Complex),\n",
    "                 InSet(b, Complex),\n",
    "                 NotEquals(Add(a,b), zero)])"
   ]
  },
  {
   "cell_type": "code",
   "execution_count": 56,
   "metadata": {},
   "outputs": [
    {
     "data": {
      "text/html": [
       "<span style=\"font-size:20px;\"><a class=\"ProveItLink\" href=\"../__pv_it/demonstrations/4265b9df5555db7a3cbf7b7f81d95c1d73815cbf0/expr.ipynb\"><img src=\"data:image/png;base64,iVBORw0KGgoAAAANSUhEUgAAAGQAAAAVBAMAAABCslYDAAAAMFBMVEX///8AAAAAAAAAAAAAAAAA\n",
       "AAAAAAAAAAAAAAAAAAAAAAAAAAAAAAAAAAAAAAAAAAAv3aB7AAAAD3RSTlMAInZUiRDNmWbv3US7\n",
       "qzJazP2FAAAACXBIWXMAAA7EAAAOxAGVKw4bAAABqElEQVQ4y3VTzytEURT+3jwz7814zFsr9Shl\n",
       "IU2S9Syl6P0BM81IioUaZTHZsBE7ViKbiYXckkkSKw+RX4uJIcuxEqWUWFk4776Hd3n3LO4995zz\n",
       "nfPdc88FYCJcZHYgkpI4tv+c9dGrj40zV+sOiY6elyjX9B+roVTq70/Imw+rECvQMvwPkobzAmhC\n",
       "rj1/T7psZ0Mg4zEgLli7/P3ApiVue4cOxvI/EAPoCYX0cXYegd22QJXbLDBBulJtsUTIWOsNUFdx\n",
       "VWU4QKzxeBAYIX3fNN4FSPTDzpnQOZ2Y+QtZ3FolsmsUsAStJEDUd8QtqAscErh+74ybZYWa9opE\n",
       "mtRJxpYZ2yRNyyOZRuOrG/jESByf2MmcB4k7yJWFKpThIIV6XiUTbPKj4RHLWZgXO0bPMmVD5WwT\n",
       "QYj2QPWOCJLCnWoKkBrdDzqnE7ECkKjTDvSTaqnrmlClYdqgidHS/DD0CylgzijjmTp2PdDcKTa5\n",
       "WnQpeRfMXtrfk/xpGqdvSNTCXp9Lk7/vXDBhdvVC2FhyKcq+2KHMoTgyT0bmMKQ/WbEkjhaJ/Qtc\n",
       "il9+STsuZQAAAABJRU5ErkJggg==\n",
       "\" style=\"display:inline;vertical-align:middle;\" /></a>, <a class=\"ProveItLink\" href=\"../__pv_it/demonstrations/0bf288f776388558e13fc2105fec0159587992fa0/expr.ipynb\"><img src=\"data:image/png;base64,iVBORw0KGgoAAAANSUhEUgAAAGEAAAAVCAMAAABha3BGAAAAPFBMVEX///8NDQ0WFhYLCwsYGBjM\n",
       "zMxUVFRERES6uroiIiIQEBCYmJhmZmYyMjLu7u52dnaqqqqIiIjc3NwAAAB1ELWhAAAAAXRSTlMA\n",
       "QObYZgAAAAlwSFlzAAAOxAAADsQBlSsOGwAAAY1JREFUSMeVVeu6rCAIde99vIDmJd//XQ9iTtY0\n",
       "TPmjrwxYawGiUrRW9Ww9tVclP3Rw5cOPEC+3c7oZOFqEjZO/NNB2/kqpBFYbl/vklzBeLslaPdtS\n",
       "ZiI0iOCFdJz+1ZFPH64kmOnDs9zUVKHAOR8T7uqLOl6IsHMHWIbL5JGX+wgJ9hy8K3fmIJdValId\n",
       "Rp1Xk8paRITFlGJ6opJ5L9IsIQ4E/yLjkAxsjQJCrFTgWDmQ36UH4PXvrz0H8FpTRygKOqeIno0l\n",
       "DZnxkfcyihJ2hKTQdSK1PSEdiSHCRCww7+F6rsKxu2I3c6RhQ0DL207SwPiud6xDUcKodCbrnqVY\n",
       "WyxfxV7i2KGXKsOxDr8/MMulkvL59mRtS0do3mZReRUQ9KgXudqThPP58DgSu7VdA8oQVBA0GApu\n",
       "N4NwHGb5/Yy35EQkUrrLjaYkvZqipW416TViwMkSyDqkYjgc6NtnempGeDCeL4fYh8m3V9d/k/Bx\n",
       "YN285I519unbxfIY4UQK4jdG5em1e1KtJeP/sCkSC/lzKpMAAAAASUVORK5CYII=\n",
       "\" style=\"display:inline;vertical-align:middle;\" /></a> <a class=\"ProveItLink\" href=\"../__pv_it/demonstrations/513c6cad2f81ff7c0a13bd1011e5fa08f84c06b30/proof.ipynb\" style=\"text-decoration: none\">&nbsp;&#x22A2;&nbsp;&nbsp;</a><a class=\"ProveItLink\" href=\"../__pv_it/demonstrations/02cb6aa760e1bdcf1326c0b3bde8023b889bbb4b0/expr.ipynb\"><img src=\"data:image/png;base64,iVBORw0KGgoAAAANSUhEUgAAAF0AAAAVCAMAAAATpBLwAAAAPFBMVEX///8NDQ0WFhYLCwsYGBgy\n",
       "MjKqqqoiIiJmZmaYmJju7u5EREQQEBBUVFTMzMyIiIi6urp2dnbc3NwAAACylXFAAAAAAXRSTlMA\n",
       "QObYZgAAAAlwSFlzAAAOxAAADsQBlSsOGwAAAVVJREFUOMu1leuShiAIhtuDinhE7/9eV6lms4z5\n",
       "2p3PH85Y8PgKiEtZHo8HLpQf0+cugP+ho/NGcIluoFKC8ky7AoHu4tFSNzWmiPRsx3XV9/QYDgvL\n",
       "hyQn0nUaN6t4T3fHVDveSjf71+lk7lOVw3BIDmFsZ91MS6BUkkhXIaWg53R1lI473W6m2bffrqJA\n",
       "x6qwTWOqwPD4/urzrr9UWulpNUVv2VTSrnlvn2baB+m/dFpNofaloVGS9+YgCRSHlCb0DOPNWOl5\n",
       "1+4df8ySdt4796q80NWpN6xx11tWsXaOrWLNcLVDD8857p8f5njIlkC+t3arSGTPoBZdBHrc83PW\n",
       "rs4dxvo9lGzqGkcbWEDQHhrYwaTeNVwK1PRO4ONmiiFRLCFFqSIDgZ3dJnVtjgiUQlyedIKbtqrp\n",
       "b/393MXmLgrf+HpYeufbZCTpyymTr4zBRXT/AYVmEjCsi73fAAAAAElFTkSuQmCC\n",
       "\" style=\"display:inline;vertical-align:middle;\" /></a></span>"
      ],
      "text/plain": [
       "{(a + b) in Real, (a + b) != 0} |- |a + b| != 0"
      ]
     },
     "metadata": {},
     "output_type": "display_data"
    }
   ],
   "source": [
    "# And automation will generally be able to prove\n",
    "# Abs(x) ≠ 0 when x in a defined set with x ≠ 0.\n",
    "NotEquals(abs_value_a_plus_b, zero).prove(\n",
    "    assumptions=[InSet(Add(a,b), Real), NotEquals(Add(a,b), zero)])"
   ]
  },
  {
   "cell_type": "markdown",
   "metadata": {},
   "source": [
    "### Testing the `Abs.abs_elimination()` method"
   ]
  },
  {
   "cell_type": "code",
   "execution_count": 57,
   "metadata": {},
   "outputs": [],
   "source": [
    "# abs_elimination() by itself often needs some\n",
    "# pre-processing of the expression operand\n",
    "try:\n",
    "    abs_value_1_plus_2.abs_elimination()\n",
    "except Exception as _e:\n",
    "    print(\"EXCEPTION: \", _e)"
   ]
  },
  {
   "cell_type": "code",
   "execution_count": 58,
   "metadata": {},
   "outputs": [
    {
     "data": {
      "text/html": [
       "<span style=\"font-size:20px;\"> <a class=\"ProveItLink\" href=\"../__pv_it/demonstrations/62462e55b08f75b20b411205a53036a6d56ae7b10/proof.ipynb\" style=\"text-decoration: none\">&nbsp;&#x22A2;&nbsp;&nbsp;</a><a class=\"ProveItLink\" href=\"../__pv_it/demonstrations/7cad93de1780aa689ab679520542108900453c120/expr.ipynb\"><img src=\"data:image/png;base64,iVBORw0KGgoAAAANSUhEUgAAAHAAAAAXBAMAAAAhP9aaAAAAMFBMVEX////MzMxUVFRERES6uroi\n",
       "IiIQEBCYmJhmZmYyMjLu7u52dnaqqqqIiIjc3NwAAACW8nlqAAAAAXRSTlMAQObYZgAAAAlwSFlz\n",
       "AAAOxAAADsQBlSsOGwAAAaJJREFUOMtjYCAHNDCQCQzA5AMcsg8IaOQ9gEPWF43PPs34Z5g5QuNp\n",
       "IBZdgKqGr2OyAANvAZpOZj4FFnUrmEauCQxcGvPRND5m4P7CwDALQ+MGBgMhBg5j42RjcwYOkLn3\n",
       "YRrdIZQeA0MaA0MFFo19nDAb2RiQNZ6FUPkLGPQfMLBBRXlNQyPhGplhGk9i06jKwKAvwMAJ8STL\n",
       "3AUIG7UWwTR2Y9MIBPEMDNwKYNbLBQinMtrMg2mcjl0j419g+E8AM+ch/JgZH7sAlnJisGtkBdrG\n",
       "kwBmTkBo3F4F5zCkIDS2hoamhYYGgYWbQbZ+ANudGhoaGgx1qlU5No1INrKDvMcCtpHLACk6JJjh\n",
       "MY7dqacZ+B4w8ASA2QFIGjnk4MbYYtPIuIGBdwEDO0TRXSSNXAbXYbxNIGL/A1SNTzs6WhkYODaA\n",
       "OZwH4BobGMqZHaA8USBWyp9UgKIx/v//n8CQhajhUvaC5Y7PD5gt/8DCXQA5OZ5F5jyF0iybIUkO\n",
       "LZehFAPuyJx2/MWAHS4JPgP8GhfjkmB+gF8j3wUcEvfwagMAIv9uAvBEA98AAAAASUVORK5CYII=\n",
       "\" style=\"display:inline;vertical-align:middle;\" /></a></span>"
      ],
      "text/plain": [
       "|- (1 + 2) in RealPos"
      ]
     },
     "metadata": {},
     "output_type": "display_data"
    }
   ],
   "source": [
    "# So prove 1+2 is non-negative real first\n",
    "InSet(Add(one, two), RealPos).prove()"
   ]
  },
  {
   "cell_type": "code",
   "execution_count": 59,
   "metadata": {},
   "outputs": [
    {
     "data": {
      "text/html": [
       "<span style=\"font-size:20px;\"> <a class=\"ProveItLink\" href=\"../__pv_it/demonstrations/4fd56e0bb76f11128c086f47e41dfee33e7407800/proof.ipynb\" style=\"text-decoration: none\">&nbsp;&#x22A2;&nbsp;&nbsp;</a><a class=\"ProveItLink\" href=\"../__pv_it/demonstrations/1da51e342aaa8623ebfe203c115e57a197ca675f0/expr.ipynb\"><img src=\"data:image/png;base64,iVBORw0KGgoAAAANSUhEUgAAAI8AAAAVBAMAAACNsKCFAAAAMFBMVEX///9ERESqqqqYmJgQEBAy\n",
       "MjJmZmZUVFTu7u4iIiLMzMyIiIi6urp2dnbc3NwAAABu19h3AAAAAXRSTlMAQObYZgAAAAlwSFlz\n",
       "AAAOxAAADsQBlSsOGwAAAYRJREFUOMuV1D9Lw0AYBvCnSVubpCn5CO5FyNS5Qxen1kk3ETHQLaAo\n",
       "LjaLuHYQNC7t6lYcHbTQ0aUfQDCOxcWlICjWXP6US+69Yg9KksvD794rlxcBJKP2r6l4MORV9tIc\n",
       "C1MPsuxLAt17uZWdnSEBKVNAvwWRNWwGVU73c9A7zB8CugSujr5AZLEXV/ScQpP4cgG0COgw/Bkp\n",
       "VLW5LBo5qB5f2h56gQg1eUgZcVkUPRI6B3pDAVI6FBRlUbJJKBwDcWvlKQVFWZiuBNK/E6jrs3HD\n",
       "bks2DYVZqB0JpLliRdomDYVZKE0OChdvJYvjgDiQxfESKvv+9bbvu2kW+iddkequhviKWBbVJg1t\n",
       "oRYI/5FkaywLpU9C+hSGJ1RUGFFQlIVqRdBbkIVmjtMVt2ayPZi/OSjKsqMRQmftXTsDDRaLuQjp\n",
       "fWDjZH6chaIstHG2jdRXtpG7zDkf8U+zXD+arIQa/EP60S6/5zUaW0HeTa21oIoly7IlHmUvjaEw\n",
       "9SHLPgF/AlyZfmKUURkAAAAASUVORK5CYII=\n",
       "\" style=\"display:inline;vertical-align:middle;\" /></a></span>"
      ],
      "text/plain": [
       "|- |1 + 2| = (1 + 2)"
      ]
     },
     "metadata": {},
     "output_type": "display_data"
    }
   ],
   "source": [
    "# And then we should be able to use the basic Abs.abs_elimination()\n",
    "abs_value_1_plus_2.abs_elimination()"
   ]
  },
  {
   "cell_type": "code",
   "execution_count": 60,
   "metadata": {},
   "outputs": [
    {
     "data": {
      "text/html": [
       "<span style=\"font-size:20px;\"><a class=\"ProveItLink\" href=\"../../addition/__pv_it/theorems/96d3bc490053a9cc7159a4a275658c0676aaf4e60/expr.ipynb\"><img src=\"data:image/png;base64,iVBORw0KGgoAAAANSUhEUgAAAHAAAAAXBAMAAAAhP9aaAAAAMFBMVEX////MzMxUVFRERES6uroi\n",
       "IiIQEBCYmJhmZmYyMjLu7u52dnaqqqqIiIjc3NwAAACW8nlqAAAAAXRSTlMAQObYZgAAAAlwSFlz\n",
       "AAAOxAAADsQBlSsOGwAAAb5JREFUOMtjYCAHNDCQCQzA5AMcsg8IaOQ9gEPWF43PPs34Z5g5QuNp\n",
       "LHq4zAKAJhagiTLzKbCoW8E0ck3AZhsnyPuzMDRuYDAQYuAwNk42NmfgQDGXBcrjB7m/AovGPk6Y\n",
       "jWwocjwXILT/ApDUAgjncmjoBLhGZpjGk1g1bgW7F2K95y0kG7UWwTR2AzGf9r0LqBon3dVhYOBW\n",
       "ADH5ZiE5ldFmHkzjdCB2e8D8C0Uj188F6x8wsIMdyPkAoTEzPnYBLOXEAJWlM3AEoGjk+cXAdoGB\n",
       "JwGsESlwtlch4iCFgYHjAwPrBiCTIzQ0LDU0FOhAjgkM/BsYGD+AFIiFAoEB1KlW5cga2QwY1jug\n",
       "2Ag0x/8AAwvYxsXI0SHBvADGAzp1/QWGetRQBUZj/wIGHrD7WZE1csgZwHi2QI0HGDR5HqBoFAD6\n",
       "m4EdkpYvIGnkMrgO420CClzgieBAsZGpgBkYcBwbwJw5CI0NDOXMUE8xiAJDVXfjo4uo0aHdDnIk\n",
       "RM0ikwWw3PH5AbPlH6hGVgFsKQcMnkJpb9NQLDmBvQFbIgeDdvzFgB0uCT4D/BoX45JgfoBfI98F\n",
       "HBL38GoDAMrSa1nOZjO+AAAAAElFTkSuQmCC\n",
       "\" style=\"display:inline;vertical-align:middle;\" /></a> <a class=\"ProveItLink\" href=\"../__pv_it/demonstrations/39ae247965a303182285b08a2c57431cc3f924920/proof.ipynb\" style=\"text-decoration: none\">&nbsp;&#x22A2;&nbsp;&nbsp;</a><a class=\"ProveItLink\" href=\"../__pv_it/demonstrations/bd891d2ef2966d747ddcedb0fc0af3077e04bea10/expr.ipynb\"><img src=\"data:image/png;base64,iVBORw0KGgoAAAANSUhEUgAAAI4AAAAVBAMAAABicsu7AAAAMFBMVEX///8yMjKqqqoiIiJmZmaY\n",
       "mJju7u5EREQQEBBUVFTMzMyIiIi6urp2dnbc3NwAAABRd72LAAAAAXRSTlMAQObYZgAAAAlwSFlz\n",
       "AAAOxAAADsQBlSsOGwAAAbpJREFUOMuVlL9Lw0AUx1/TmFb6c1DBLeIiiBiMg4JCRRzFOjmarTrF\n",
       "wUEQXIoi6KCCUykU/APM4mAF6SJ0a0GXikM2cdMOHQTFd21Oct47oQe5I5cvn3zv3XsPfFCMtLzl\n",
       "/yN9UXFStb87CVMhTXo0x9izKM4UxSgUcbpR+InkCI6RJc0MMb0jch6CNWMSHD0vnIW/tfEZyImc\n",
       "yWBtOAQnLrxpXsDrsPmI5jxScR4jOSmLzcOMky7feyJn9O5C5qxCWMo5kdItBqHFOHU/1hE4xofj\n",
       "+l2ObnfHWe+fYSnnuCPGN8A6coxD0C2Bo3Ug7kl+ZiAs5ZxpB04AJpCjv0O0iTvLtn1s2/PMRRYy\n",
       "TYlzCr9StDlX7NlcAvgCuEZOfAfcmuAHtQ2T4oSk3M8iJPHm68hxPdgU7wvTZ82R4oPnCkk5pw06\n",
       "RmyccUw413yBU8FASH72ISzlnE/YwozcQE7M02Z1wc9gPpaTOS0ISznnEna7OYH3VXp+q4r3Xl4h\n",
       "8vAKwlLO2X5iBbJA5zPZN6IVKp97Dcii65TkYDFSdRqUcB997EAlhde++mFBycE/VFXfEhWpDXsq\n",
       "qQ8/k7GGyZOQnXkAAAAASUVORK5CYII=\n",
       "\" style=\"display:inline;vertical-align:middle;\" /></a></span>"
      ],
      "text/plain": [
       "{(a + b) in RealPos} |- |a + b| = (a + b)"
      ]
     },
     "metadata": {},
     "output_type": "display_data"
    }
   ],
   "source": [
    "abs_value_a_plus_b.abs_elimination(\n",
    "    assumptions = [InSet(Add(a,b), RealPos)])"
   ]
  },
  {
   "cell_type": "markdown",
   "metadata": {},
   "source": [
    "### Testing the `Abs.deduce_greater_than_equals_zero()` method"
   ]
  },
  {
   "cell_type": "code",
   "execution_count": 61,
   "metadata": {},
   "outputs": [
    {
     "data": {
      "text/html": [
       "<span style=\"font-size:20px;\"> <a class=\"ProveItLink\" href=\"../__pv_it/demonstrations/3c1f3698bf094b69f484af17f652fa59a7b6c3fc0/proof.ipynb\" style=\"text-decoration: none\">&nbsp;&#x22A2;&nbsp;&nbsp;</a><a class=\"ProveItLink\" href=\"../__pv_it/demonstrations/67f6b1df90ebab01c7f4238bf02ab4b96b80e2ee0/expr.ipynb\"><img src=\"data:image/png;base64,iVBORw0KGgoAAAANSUhEUgAAAGEAAAAVBAMAAACkm51HAAAAMFBMVEX////MzMxUVFRERES6uroi\n",
       "IiIQEBCYmJhmZmYyMjLu7u52dnaqqqqIiIjc3NwAAACW8nlqAAAAAXRSTlMAQObYZgAAAAlwSFlz\n",
       "AAAOxAAADsQBlSsOGwAAAXpJREFUOMt1kztIA0EQhv9gkjOb3HGNtSIIVka0VuxSiSIcCD6iIGmT\n",
       "RrFTkGAkTUiKiI0HljZBSwuvlRASrKz0QNJbWCgice6Zzbm7cOzM7Hw7M3szAGyIl8wO1ZIcrMqI\n",
       "Nn0T5qhNqzR0qKV/vg8vFJjVwGavI8Q70p/AlSuzZmhOWWwXGHdueguInLfNAQXg2FNudwLiELgH\n",
       "kuCJjrcVTWRtJH2ruuULC0DXxJOImAGyOlJBIYqPfAGTFqoiglYeSE8FSubSeWrmECU0xUTsl66u\n",
       "hXy8Th7aDxE9bIuJBN2f2RsSjYBo4WBIlA2jYBgbrsuZE+cjzKruZkXEWo8nuBiKU0I8iKFshpV3\n",
       "LUlWbWg2MuuR110ETkwsiYhYC6oJZT7yB4+AC+DOER/tUaJfqZSpHVqRLklYbJ+akKTpYr00QuQH\n",
       "g29yWIk0Iqs+62TWeVuHV/riZldOeS3HK+eS+ViWDY7mFc4Md3Gp3MiIMdnYaj3JwavY/Ac9AG1m\n",
       "BJetkwAAAABJRU5ErkJggg==\n",
       "\" style=\"display:inline;vertical-align:middle;\" /></a></span>"
      ],
      "text/plain": [
       "|- (1 + 2) >= 0"
      ]
     },
     "metadata": {},
     "output_type": "display_data"
    }
   ],
   "source": [
    "abs_value_1_plus_2.deduce_greater_than_equals_zero()"
   ]
  },
  {
   "cell_type": "code",
   "execution_count": 62,
   "metadata": {},
   "outputs": [
    {
     "data": {
      "text/html": [
       "<span style=\"font-size:20px;\"><a class=\"ProveItLink\" href=\"../../addition/__pv_it/theorems/a6c5109834da253e63c0a4ff791bacc177a5dc8c0/expr.ipynb\"><img src=\"data:image/png;base64,iVBORw0KGgoAAAANSUhEUgAAAGQAAAAVBAMAAABCslYDAAAAMFBMVEX////MzMxUVFRERES6uroi\n",
       "IiIQEBCYmJhmZmYyMjLu7u52dnaqqqqIiIjc3NwAAACW8nlqAAAAAXRSTlMAQObYZgAAAAlwSFlz\n",
       "AAAOxAAADsQBlSsOGwAAAatJREFUOMt1Uz1Iw0AU/trYNq1p2kURXLpqFTqog6B08geRFiFQwcFB\n",
       "7GjBxc0s0sHB4qKIQrCLg9CquHcVEaJ1EixREASXgpOdfLmkkau5B5d3ee++e9/7OQAW/EVkB+IN\n",
       "gWP5nyV2s3r2VgfufU7HpvJ0V6nX/FTExbeOWMUvQlSnz0mPUX6mCNs6ZO6ueVcnbLY7PZAhyQCC\n",
       "OsKc9cHVOXIibDg/TU1jVEYlm3MJd76QW8bOIbD44hozn47ep6WmWyYPOXwdA/pT9lbtpqSmhp3N\n",
       "Ea05S+pwkNiPUbMQYXSi3f4E6m6ma3SgCDnPQZQOwiaUdQbpklZ1t1MbVLw2QlQ+7Gnapqat2OWs\n",
       "IFFHoG0fGNRIMiyXLw8SzqCW5aLQDbkG+liUqlebackjVjOxy1eM2nJgQGFsQx5kwe4LspghSAMj\n",
       "isVBkpQfIoxO3PzrfopxvgYkUynIXJRgSaKJkevs59QL0zy2LgvAAFVs/Or9kS9yumxTchI8nzC8\n",
       "Sd4qEJtQ0q/7TD5cvTSpcbMb0f3GkklZ9MRmRQ41I/JURQ5J+JJVU+BoCey/CZ1miy5Ab9MAAAAA\n",
       "SUVORK5CYII=\n",
       "\" style=\"display:inline;vertical-align:middle;\" /></a> <a class=\"ProveItLink\" href=\"../__pv_it/demonstrations/bda3460cfb192e4bacb0604cbb00c3efd08b46d20/proof.ipynb\" style=\"text-decoration: none\">&nbsp;&#x22A2;&nbsp;&nbsp;</a><a class=\"ProveItLink\" href=\"../__pv_it/demonstrations/f2695d0ec11c6fe2672222673f3a1c2b57ba28630/expr.ipynb\"><img src=\"data:image/png;base64,iVBORw0KGgoAAAANSUhEUgAAAF0AAAAVBAMAAADWVP/xAAAAMFBMVEX///8yMjKqqqoiIiJmZmaY\n",
       "mJju7u5EREQQEBBUVFTMzMyIiIi6urp2dnbc3NwAAABRd72LAAAAAXRSTlMAQObYZgAAAAlwSFlz\n",
       "AAAOxAAADsQBlSsOGwAAAUNJREFUKM9jeMCAA/BhF76DSz3vAaLVs1UYYFN/d8sDHOYzOsDUJwYg\n",
       "BBXY7NDU80Bl+RVg6tkub4BJBjMwXEdTzwSVPJ+AcM/ma1DJSgYG/QTs6i8j+zcYquELA8N6BZB6\n",
       "vrn7NqCql9w9Ccm/in5gl4HUB4DUn3jA/g1FPdvHhPwHSOFzcBooPv4C1W8AqmdrZWAxQFHP9I2B\n",
       "YwOy+jKY+gtA9SwfGJgvAAVYjI0tmo2NJwBZAgz8F5DcMw9sKVD9eZD5HAUM+QdQzAdqP6+A8K8b\n",
       "3L/6IP/mb2CIRw0fYPD7J2CEZzkDQzwoPPMVGCYyPUBRvwDoJ4z4imBgcATFF/sGJhMWFPM5A9gd\n",
       "MNMDswJbF0g92+xbL3ehhudcVyzpjc135wIc6YHY9MwTQFb6R1KfbAwCVuTnr1241HMvwCYKABLa\n",
       "cE7XL+M4AAAAAElFTkSuQmCC\n",
       "\" style=\"display:inline;vertical-align:middle;\" /></a></span>"
      ],
      "text/plain": [
       "{(a + b) in Complex} |- |a + b| >= 0"
      ]
     },
     "metadata": {},
     "output_type": "display_data"
    }
   ],
   "source": [
    "abs_value_a_plus_b.deduce_greater_than_equals_zero(\n",
    "    assumptions=[InSet(Add(a,b), Complex)])"
   ]
  },
  {
   "cell_type": "markdown",
   "metadata": {},
   "source": [
    "### Testing the `Abs.distribution()` method over products and fractions"
   ]
  },
  {
   "cell_type": "code",
   "execution_count": 63,
   "metadata": {},
   "outputs": [
    {
     "data": {
      "text/html": [
       "<a class=\"ProveItLink\" href=\"../__pv_it/demonstrations/37e71984c583d0e95189e1a5af517ee2962756640/expr.ipynb\"><img src=\"data:image/png;base64,iVBORw0KGgoAAAANSUhEUgAAACoAAAAVBAMAAADCwWEQAAAAMFBMVEX///8yMjKqqqoiIiJmZmaY\n",
       "mJju7u5EREQQEBBUVFTMzMyIiIi6urp2dnbc3NwAAABRd72LAAAAAXRSTlMAQObYZgAAAAlwSFlz\n",
       "AAAOxAAADsQBlSsOGwAAAKVJREFUGNNjeMCACR4w3MEiegddNL0ZmyiDCFbRT9hEeb5hE+U1gIm+\n",
       "vP0aLso4e6cCWJSnj6E+ASaaL8b2DyyaEcDgDFern8DQDRb1Z2CwBSsTABKODAx/waLtDGx/QKLM\n",
       "DgwgeZ5PIFG23wysH5Ccy/INLPqJgVNADyb6C2QNyIRqBmUHB5joVIYSiHsz966bvQAmmnklAFs4\n",
       "YA1JMkR3YRHdBQDf2kMta9s74gAAAABJRU5ErkJggg==\n",
       "\" style=\"display:inline;vertical-align:middle;\" /></a>"
      ],
      "text/plain": [
       "|a * b|"
      ]
     },
     "metadata": {},
     "output_type": "display_data"
    }
   ],
   "source": [
    "abs_value_a_times_b"
   ]
  },
  {
   "cell_type": "code",
   "execution_count": 64,
   "metadata": {},
   "outputs": [
    {
     "data": {
      "text/html": [
       "<a class=\"ProveItLink\" href=\"../__pv_it/demonstrations/8c72df236a921990eed0e29a8fc3784a0468cfa00/expr.ipynb\"><img src=\"data:image/png;base64,iVBORw0KGgoAAAANSUhEUgAAABgAAAAnCAMAAAAihXiyAAAAOVBMVEX///8yMjKqqqoiIiKYmJju\n",
       "7u5ERES6urqIiIh2dnZUVFTc3NxRUVEMDAwGBgbMzMwQEBBmZmYAAADCt4cgAAAAAXRSTlMAQObY\n",
       "ZgAAAAlwSFlzAAAOxAAADsQBlSsOGwAAAL5JREFUKM+909sOwyAIAFDUesN2Cv//sVOz1kZsspfN\n",
       "B9N4goBVIFgOgrKGMiBhDClI8CUBOLYz2LK1nY2IIG6ziQKKa2HsZ7Dc0m4MEnSdUYFO01auRmhD\n",
       "QKIqDDEnDFk2OHf+WsMLjjUcXxziz4HH+H/yBeyfL+uKucF+i1D0sFX/uwvw12WbIJqHqhSGgFqC\n",
       "ZWXrlATonqIEAaR6ZVFAv8/+KnlAXyL5PoDz+UgmwLrm6NbHeVktRtpGg/kNMrsJtLNZnP4AAAAA\n",
       "SUVORK5CYII=\n",
       "\" style=\"display:inline;vertical-align:middle;\" /></a>"
      ],
      "text/plain": [
       "|a / b|"
      ]
     },
     "metadata": {},
     "output_type": "display_data"
    }
   ],
   "source": [
    "abs_value_a_div_b"
   ]
  },
  {
   "cell_type": "code",
   "execution_count": 65,
   "metadata": {},
   "outputs": [
    {
     "data": {
      "text/html": [
       "<span style=\"font-size:20px;\"><a class=\"ProveItLink\" href=\"../__pv_it/theorems/e9f87a0977d5044ea8daf1040d2f219396bb3d5b0/expr.ipynb\"><img src=\"data:image/png;base64,iVBORw0KGgoAAAANSUhEUgAAADMAAAAQBAMAAABJt1qBAAAAMFBMVEX////MzMwyMjKqqqoiIiJm\n",
       "ZmaYmJju7u5EREQQEBC6urqIiIh2dnZUVFTc3NwAAAAqL9KcAAAAAXRSTlMAQObYZgAAAAlwSFlz\n",
       "AAAOxAAADsQBlSsOGwAAANFJREFUGNNjYMACalqU9slgk2DgvpnAHt+KVSp6DQMDG1YpxoB2IHkV\n",
       "RWyHi4sCkOItaACSZcgyi7ZDaA6+AKgI3519G8C0OlTgLeMBKGvlA47vIJrpAVRAhisBwmCfxsDq\n",
       "AJaCGfyUawOEwfqBgQVsgKQLEDSA7YIayNnAUL8AxKiA6eIAuxAI6jcw5IMZLDApLrC/uIBSBgyX\n",
       "mEEu4N4AD421QCIIqH0DsysrWEQZHoZNcewmQL+x3z74diNYpLarABbynV/iUANvTQs4oGAAAKqD\n",
       "MEJAsWyMAAAAAElFTkSuQmCC\n",
       "\" style=\"display:inline;vertical-align:middle;\" /></a>, <a class=\"ProveItLink\" href=\"../__pv_it/theorems/a259ec76dfb0a5be60b7c83d797520fa82c1dba60/expr.ipynb\"><img src=\"data:image/png;base64,iVBORw0KGgoAAAANSUhEUgAAADEAAAAQBAMAAABNQoq8AAAAMFBMVEX///+YmJjMzMzc3NyIiIhU\n",
       "VFR2dna6urqqqqpmZmYyMjIiIiIQEBBERETu7u4AAAD7tRWPAAAAAXRSTlMAQObYZgAAAAlwSFlz\n",
       "AAAOxAAADsQBlSsOGwAAANtJREFUGNNjYMAEz26vclZjYOC7swFNgiVGgG/+TSCDawKazJQyBgZG\n",
       "kAx/A6oE04R7QDISiOsfQIV8d+9eAKRYH1wAkg+BOBsqUeUHoXmZYcYvdYkAUczroHxTpgQIg+/X\n",
       "g/cGIIcYQGXU2AUgDI5/DDwOIBmYCyzZHSAMzgUM/CDtOruB4ALYHqhp3AkM9SB3v4Xp4QW7DeKd\n",
       "+SB3c8Nk2MH+YQfKKPAdBIeJAzwMSoHELKDHBHgh7l8BD7dbk/m6gWJ8YRMhAk+vwwLj2Z3fk1EC\n",
       "rOw2OHRgAAASXDjITT81JQAAAABJRU5ErkJggg==\n",
       "\" style=\"display:inline;vertical-align:middle;\" /></a> <a class=\"ProveItLink\" href=\"../__pv_it/demonstrations/bbf3b60c77abbe9784c8f672b591a64088a106d20/proof.ipynb\" style=\"text-decoration: none\">&nbsp;&#x22A2;&nbsp;&nbsp;</a><a class=\"ProveItLink\" href=\"../__pv_it/demonstrations/f8e3db7fc278aa510902e0aa3daefceb09ed20d40/expr.ipynb\"><img src=\"data:image/png;base64,iVBORw0KGgoAAAANSUhEUgAAAJAAAAAVBAMAAABbFXrgAAAAMFBMVEX///8yMjKqqqoiIiJmZmaY\n",
       "mJju7u5EREQQEBBUVFTMzMyIiIi6urp2dnbc3NwAAABRd72LAAAAAXRSTlMAQObYZgAAAAlwSFlz\n",
       "AAAOxAAADsQBlSsOGwAAAapJREFUOMuNlD9MwkAUh39AKRigYVBnDIuLStRRkxpnYp0cZUMmHNxI\n",
       "dDDqoDE6OBETE3ft4iCJhpHRwQVl6GaIC2Fg8F+8Xu2L7V2hHV4u733vu6OvHCyIjyVLuUmNchrV\n",
       "7FVHIhJzqRwlM034Vh2kTaGpvC8VzUAucvE7sWlcJlKzASIXj5SEpr5MpBhBoj88rvub0gOZKIkA\n",
       "EeGH/qZMQSaaChIRPmHH7us7tUTq9zlRVHRw7fLR9IoIb9uzO8VeyS1WJ9UfR6Qs8OcMfD8ualmJ\n",
       "gVdE+DqLWwZWae+5Eo7FE81zkXoApeAVET7N4hqwzA/DZowV4FsUnXCR0kPsyRFxlq0Iv2XxCOqX\n",
       "Tcd02Mp0P0iU3Ea16Yg4y1aEt9BRPxHv/fuMlIH4jpyfVjWx6Zsa4Xkm6mMsO+sWP+xXJpyo5ohy\n",
       "OI9aHhHhGyzWkNd1t3iBHcl31OaihBldVLwnIrzIYuXhpn7lFivPhkR07Uyt/tJteEWEL4W7RmJX\n",
       "GHqNQCuEE7H/5HCRYoS82HZHiN7C3pDlESK2UUMiEnOaSckUDcZdNZCy8AvNPb0+eDvRAwAAAABJ\n",
       "RU5ErkJggg==\n",
       "\" style=\"display:inline;vertical-align:middle;\" /></a></span>"
      ],
      "text/plain": [
       "{a in Complex, b in Complex} |- |a * b| = (|a| * |b|)"
      ]
     },
     "metadata": {},
     "output_type": "display_data"
    }
   ],
   "source": [
    "abs_value_a_times_b.distribution(\n",
    "     assumptions=[InSet(a, Complex), InSet(b, Complex)])"
   ]
  },
  {
   "cell_type": "code",
   "execution_count": 66,
   "metadata": {},
   "outputs": [
    {
     "data": {
      "text/html": [
       "<span style=\"font-size:20px;\"><a class=\"ProveItLink\" href=\"../__pv_it/theorems/e9f87a0977d5044ea8daf1040d2f219396bb3d5b0/expr.ipynb\"><img src=\"data:image/png;base64,iVBORw0KGgoAAAANSUhEUgAAADMAAAAQBAMAAABJt1qBAAAAMFBMVEX////MzMwyMjKqqqoiIiJm\n",
       "ZmaYmJju7u5EREQQEBC6urqIiIh2dnZUVFTc3NwAAAAqL9KcAAAAAXRSTlMAQObYZgAAAAlwSFlz\n",
       "AAAOxAAADsQBlSsOGwAAANFJREFUGNNjYMACalqU9slgk2DgvpnAHt+KVSp6DQMDG1YpxoB2IHkV\n",
       "RWyHi4sCkOItaACSZcgyi7ZDaA6+AKgI3519G8C0OlTgLeMBKGvlA47vIJrpAVRAhisBwmCfxsDq\n",
       "AJaCGfyUawOEwfqBgQVsgKQLEDSA7YIayNnAUL8AxKiA6eIAuxAI6jcw5IMZLDApLrC/uIBSBgyX\n",
       "mEEu4N4AD421QCIIqH0DsysrWEQZHoZNcewmQL+x3z74diNYpLarABbynV/iUANvTQs4oGAAAKqD\n",
       "MEJAsWyMAAAAAElFTkSuQmCC\n",
       "\" style=\"display:inline;vertical-align:middle;\" /></a>, <a class=\"ProveItLink\" href=\"../__pv_it/theorems/a259ec76dfb0a5be60b7c83d797520fa82c1dba60/expr.ipynb\"><img src=\"data:image/png;base64,iVBORw0KGgoAAAANSUhEUgAAADEAAAAQBAMAAABNQoq8AAAAMFBMVEX///+YmJjMzMzc3NyIiIhU\n",
       "VFR2dna6urqqqqpmZmYyMjIiIiIQEBBERETu7u4AAAD7tRWPAAAAAXRSTlMAQObYZgAAAAlwSFlz\n",
       "AAAOxAAADsQBlSsOGwAAANtJREFUGNNjYMAEz26vclZjYOC7swFNgiVGgG/+TSCDawKazJQyBgZG\n",
       "kAx/A6oE04R7QDISiOsfQIV8d+9eAKRYH1wAkg+BOBsqUeUHoXmZYcYvdYkAUczroHxTpgQIg+/X\n",
       "g/cGIIcYQGXU2AUgDI5/DDwOIBmYCyzZHSAMzgUM/CDtOruB4ALYHqhp3AkM9SB3v4Xp4QW7DeKd\n",
       "+SB3c8Nk2MH+YQfKKPAdBIeJAzwMSoHELKDHBHgh7l8BD7dbk/m6gWJ8YRMhAk+vwwLj2Z3fk1EC\n",
       "rOw2OHRgAAASXDjITT81JQAAAABJRU5ErkJggg==\n",
       "\" style=\"display:inline;vertical-align:middle;\" /></a>, <a class=\"ProveItLink\" href=\"../__pv_it/theorems/1157e8bc07ff5d23e5b8809064b9e77def3bc8980/expr.ipynb\"><img src=\"data:image/png;base64,iVBORw0KGgoAAAANSUhEUgAAAC8AAAAUCAMAAAAqRJTwAAAAPFBMVEX///8NDQ0WFhYLCwsYGBiY\n",
       "mJjMzMzc3NyIiIhUVFR2dna6urqqqqpmZmYyMjIiIiIQEBBERETu7u4AAAAYV9lEAAAAAXRSTlMA\n",
       "QObYZgAAAAlwSFlzAAAOxAAADsQBlSsOGwAAANlJREFUKM+VkusSxBAMhe2FkopLvP+7LjG6bK0Z\n",
       "fmhSn+OICPF/IM3+Ugx+iqvYZwAajxo6nPJRdYmzWdnXDclO5U2XSLYAfOKZpj7j0Se82TIJU/tn\n",
       "Ly8SW1bsxBmtzc2S6+Wp8bLEjvLUltHzeL/K3M44ElReN1NBL+S/fP6gY4Mwuh9LTHX5LPoeOLIL\n",
       "+XZfWygm8aop+38+6i2uGkWuvCxUys9IQY7yvy8iA2sV6yajcbRr7w3iSz+E0iFkAKVYy2cKQRs1\n",
       "72MLYms42sLlprzfkxdqtfgBzl0J3RfHeMcAAAAASUVORK5CYII=\n",
       "\" style=\"display:inline;vertical-align:middle;\" /></a> <a class=\"ProveItLink\" href=\"../__pv_it/demonstrations/8c271f67f860edd84adf5e39ccb74cfb445464470/proof.ipynb\" style=\"text-decoration: none\">&nbsp;&#x22A2;&nbsp;&nbsp;</a><a class=\"ProveItLink\" href=\"../__pv_it/theorems/ec4fd589725677f600cee796b185a2ef67ef81dd0/expr.ipynb\"><img src=\"data:image/png;base64,iVBORw0KGgoAAAANSUhEUgAAAFAAAAAyCAMAAAD886zOAAAANlBMVEX///8yMjKqqqoiIiKYmJju\n",
       "7u5ERES6urqIiIh2dnZUVFTc3NwMDAwGBgbMzMwQEBBmZmYAAACUyuhdAAAAAXRSTlMAQObYZgAA\n",
       "AAlwSFlzAAAOxAAADsQBlSsOGwAAAWZJREFUSMftl9mugyAQQAVEtlbg/3/2KgoMU5s6aHIf2nkg\n",
       "gXCODIviMPSH+9hADKM+NfyEfcJw3Dl0C31ddGu003vFnxdWrhUqv2yjKUqqEHCNUPpxzVRQRwi5\n",
       "RhjiWgpDFUKuEfppfVxUVCHkoFDGdVrHOBCFDdcK+VJaNnBHFAKuSXlansRFyBvwdMqQa1fZajM7\n",
       "q2fqKgMObewm/A0n5Sbh87jzs1v4OO78+I+U8wK2DReEJBI0BwHC3iC8fYR9wljjpDAexxfPYZfQ\n",
       "HVUvnGV89rZqObRy8oJ2lvcXYuE2IciNBWLK+wgz9yJMn4cOYeawUOVbA1FYOCw0YugSFg4LmdXa\n",
       "crqwcEgoI5NL4ajCyiEhT1PhNVVYOSQMLK2YoQorh4TpAqXyFjgvrBwSJlWgXDg3Q+WwcM63R6Kw\n",
       "cJuwfArt0jaVwzefFlYOvSukNWHs+K+o3NXflDevr5+QFOi2lKp/O/QUXdbTKEwAAAAASUVORK5C\n",
       "YII=\n",
       "\" style=\"display:inline;vertical-align:middle;\" /></a></span>"
      ],
      "text/plain": [
       "{a in Complex, b in Complex, b != 0} |- |a / b| = (|a| / |b|)"
      ]
     },
     "metadata": {},
     "output_type": "display_data"
    }
   ],
   "source": [
    "# distribution over a fraction works fine\n",
    "abs_value_a_div_b.distribution(\n",
    "    assumptions=[InSet(a, Complex),\n",
    "                 InSet(b, Complex),\n",
    "                 NotEquals(b, zero)])"
   ]
  },
  {
   "cell_type": "code",
   "execution_count": 67,
   "metadata": {},
   "outputs": [
    {
     "data": {
      "text/html": [
       "<span style=\"font-size:20px;\"><a class=\"ProveItLink\" href=\"../../ordering/__pv_it/theorems/d1323f34847310a404e8089c2c268d3c2eb89dbf0/expr.ipynb\"><img src=\"data:image/png;base64,iVBORw0KGgoAAAANSUhEUgAAADQAAAAQBAMAAACra0H4AAAAMFBMVEX///9ERES6uroQEBAyMjLc\n",
       "3NyYmJgiIiJmZmaqqqp2dnbMzMxUVFSIiIju7u4AAAAd7oVFAAAAAXRSTlMAQObYZgAAAAlwSFlz\n",
       "AAAOxAAADsQBlSsOGwAAAMtJREFUGNNjYMAAbM6CX4rFGLACRtYDTMfkcEgtYBDYg1OqlQVF6GJ5\n",
       "uQNcihFZRuUekq5zb4CMt3der5oApFn9kAzklnQFMhp4z3IUAGmWAISUSX3tA6AvAtj+8SSApJCc\n",
       "sSwPZCk3AwfYbobN5UAgADVQLg0sxnwBTD1EdvwOxgcgln4AH4hmR5bi2ArU/1DhMAMXSID3ApIU\n",
       "n8A1Bob5+5oZNMEingipBoY0RgWGF3c52yaARd4IPYCF/McARpGfyMGhJQ4JKCgAAF8xNF8aQs/g\n",
       "AAAAAElFTkSuQmCC\n",
       "\" style=\"display:inline;vertical-align:middle;\" /></a> <a class=\"ProveItLink\" href=\"../__pv_it/demonstrations/37014b83f8a49109cdeb9966a32b9a3eb3c5bb7a0/proof.ipynb\" style=\"text-decoration: none\">&nbsp;&#x22A2;&nbsp;&nbsp;</a><a class=\"ProveItLink\" href=\"../__pv_it/demonstrations/8f8ea4280a681a46f52787e1588cc28fcf81fdcb0/expr.ipynb\"><img src=\"data:image/png;base64,iVBORw0KGgoAAAANSUhEUgAAAIAAAAAVBAMAAAB8u/sIAAAAMFBMVEX///8AAAAAAAAAAAAAAAAA\n",
       "AAAAAAAAAAAAAAAAAAAAAAAAAAAAAAAAAAAAAAAAAAAv3aB7AAAAD3RSTlMAIolEdjJmzRC73e+Z\n",
       "VKsux0h9AAAACXBIWXMAAA7EAAAOxAGVKw4bAAABd0lEQVQ4y2MQYMAKcAhjSAswKGNXoYzfAGUE\n",
       "A8KUTiDCAMZtuA2wP0CEAcx/cBvAQZQXGnAbQHEYUGRASIo7Y/UD1uqDLk9AQi1+rUoXMAxgdXMp\n",
       "EN/HEL5HxM8BYgBMnTLHBAYuBvYHDFxvGeJB0XuA5QnPAogBPKvA4AGQ2cnAsIChjoFh3QXWjxAD\n",
       "YOqUmXcwsDBwPmDg3MDAD4xMNgG2H3wJGC6wbmBwYJjHwDCbgeEb2AC4OmWG9VMEwAZMYOAHuo6V\n",
       "gacASxhw/XRkABkwk4HhC1gark6ZoWn9HyQDGBi4HbAYwKH1/wCKAXB1yowNDPkByAbYC3A0YISB\n",
       "BAPbVzQDoOqUeR0Y+BIQBnQavGZgwnTBFQaGZygGwNUp8+5g4BQA6maHGHA/4jSDLaYBtxsYJoJ0\n",
       "V8IMgKtTZlZxUWZ9va/1/b7Y+fsYGHpceI9dwDTAyMXJIG73i7jfT2/+fgCShqsbDEl5oA1wxa7C\n",
       "Fb8BcGlXANhfeoX0ewUhAAAAAElFTkSuQmCC\n",
       "\" style=\"display:inline;vertical-align:middle;\" /></a></span>"
      ],
      "text/plain": [
       "{x in Real} |- |sin(x)| = sin(|x|)"
      ]
     },
     "metadata": {},
     "output_type": "display_data"
    }
   ],
   "source": [
    "abs_value_sin_x.distribution(assumptions=[InSet(x, Real)])"
   ]
  },
  {
   "cell_type": "code",
   "execution_count": 68,
   "metadata": {},
   "outputs": [
    {
     "data": {
      "text/html": [
       "<span style=\"font-size:20px;\"><a class=\"ProveItLink\" href=\"../__pv_it/demonstrations/e7ea3ade6561bbbb858c02aa3be91f7305b5ebb50/expr.ipynb\"><img src=\"data:image/png;base64,iVBORw0KGgoAAAANSUhEUgAAADMAAAAQBAMAAABJt1qBAAAAMFBMVEX///8AAAAAAAAAAAAAAAAA\n",
       "AAAAAAAAAAAAAAAAAAAAAAAAAAAAAAAAAAAAAAAAAAAv3aB7AAAAD3RSTlMAEHarMolUmd1mIs3v\n",
       "RLtmgJDEAAAACXBIWXMAAA7EAAAOxAGVKw4bAAAA3UlEQVQY02NgwATZ50+/6DvJgA3omTBwM2zA\n",
       "KlXOwKDJmoBVyoqB8YEcqhDTi45uEC3AwO5ggiLDu0kAxnRmKQBRQsoioWCDV8NlGB7ygdkFTEbs\n",
       "DSDGLrgMW8AkEMW5gPMj8wQQC+FcqNNZGNghYiwnOjo6+sBMNdYLDIwgBo8CmM/4AKaJ8cE6Bgbm\n",
       "BUDW/QWMYEsbYFLMDlYMDPIMDHIXbBhYwSJKMCl3XqDTLRgY8h1rGK5BLIeFzUNuAYZ1eQwM4kps\n",
       "lRAxRruLEK+f2/PuzZ+nqMERBwkoKAAA5a8vMuYfrScAAAAASUVORK5CYII=\n",
       "\" style=\"display:inline;vertical-align:middle;\" /></a> <a class=\"ProveItLink\" href=\"../__pv_it/demonstrations/e7539233f3c41e641b1ee740d7ccf90aa130e7cf0/proof.ipynb\" style=\"text-decoration: none\">&nbsp;&#x22A2;&nbsp;&nbsp;</a><a class=\"ProveItLink\" href=\"../__pv_it/demonstrations/ffb2c19693b2d402cb7211d2d571d66727e6b2f70/expr.ipynb\"><img src=\"data:image/png;base64,iVBORw0KGgoAAAANSUhEUgAAAIYAAAAVBAMAAABxpYtPAAAAMFBMVEX///8AAAAAAAAAAAAAAAAA\n",
       "AAAAAAAAAAAAAAAAAAAAAAAAAAAAAAAAAAAAAAAAAAAv3aB7AAAAD3RSTlMAIolEdjIQmVTvzWbd\n",
       "u6sFjbCZAAAACXBIWXMAAA7EAAAOxAGVKw4bAAABqklEQVQ4y+3TvUvDQBgG8CdNc4221psUt9g6\n",
       "OIgEJzsZJSIoSFARBKFB1Exi1YKoHTII4tQKfoFLcXRScHCzOotV7H+gCOLkR62L6CWNOiSlk5s3\n",
       "HJf3Lj/ePFxA4T04VBn0dxGtcMQnVzGiv4t/408MI9IKkuyTMXLcz2pEvR9qdRtkPmLCUBcgDKjZ\n",
       "sjE5OMVqlsHtIqaNUxTIFUJsM4BBJeUYqQtrXFrLJpPfEs5Qp8wAubKR8N8FcrZRm8U6PQfiw9vw\n",
       "s80jnOqP7j4OIG6EJAjFmA7FNoI0+BY+tI1ZCRDegXopX7Aun4ZljzzIM5viJvAc+uguxyAgkHXy\n",
       "iDNVfGHG1US+ZJ/f9DCEVzalWfGDtH0mnExrFMeYTTh9zOk41ViRf8K0Kw9ScvooNSBYdIwuSvTv\n",
       "PGDusEKnAvZ55CacgeSVB8SaBPiXVeDRNmbkB/jKfXB78NExDfviNuooxKKR4U230XSIZmELtdK6\n",
       "jmvbSI8uofP7fiS7wc23y3yLyp5IUlk78bhjZFGlaIzcokPtkW3DUMUV8/+fcxu9FY74tSrGz4u9\n",
       "Xx8Ub8UAiNa1AAAAAElFTkSuQmCC\n",
       "\" style=\"display:inline;vertical-align:middle;\" /></a></span>"
      ],
      "text/plain": [
       "{x in Integer} |- |cos(x)| = cos(|x|)"
      ]
     },
     "metadata": {},
     "output_type": "display_data"
    }
   ],
   "source": [
    "abs_value_cos_x.distribution(assumptions=[InSet(x, Integer)])"
   ]
  },
  {
   "cell_type": "markdown",
   "metadata": {},
   "source": [
    "### Testing Expression simplification() on Abs() Objects"
   ]
  },
  {
   "cell_type": "code",
   "execution_count": 69,
   "metadata": {},
   "outputs": [
    {
     "data": {
      "text/html": [
       "<a class=\"ProveItLink\" href=\"../__pv_it/demonstrations/9da6ee63b3e544b3c139152be255039e61f96c740/expr.ipynb\"><img src=\"data:image/png;base64,iVBORw0KGgoAAAANSUhEUgAAADUAAAAVBAMAAAAUZLt1AAAAMFBMVEX///9ERESqqqqYmJgQEBAy\n",
       "MjJmZmZUVFTu7u4iIiLMzMyIiIi6urp2dnbc3NwAAABu19h3AAAAAXRSTlMAQObYZgAAAAlwSFlz\n",
       "AAAOxAAADsQBlSsOGwAAAJ5JREFUKM9jeMCAA/AxMNzBJcd7ACy3sgFNS1rgAogcR1k8mtxDBt4/\n",
       "MH37YXKHIVQdA4MLhpw2hPJvYKh/gEOukoGhfgEOOSCYz4BTjus3bjnOAlS5zJkzXWbOnA6WS2TA\n",
       "qY+5ALecLgMfLj9wXWDgboDK3X+AKvcyLS0Tama5f7gBitz8//+/wuyDA23MOIKDw3jkGIiX24VL\n",
       "jnsBAGBRTeaIOWdEAAAAAElFTkSuQmCC\n",
       "\" style=\"display:inline;vertical-align:middle;\" /></a>"
      ],
      "text/plain": [
       "|1 + 2|"
      ]
     },
     "metadata": {},
     "output_type": "display_data"
    }
   ],
   "source": [
    "abs_value_1_plus_2"
   ]
  },
  {
   "cell_type": "code",
   "execution_count": 70,
   "metadata": {},
   "outputs": [
    {
     "data": {
      "text/html": [
       "<span style=\"font-size:20px;\"> <a class=\"ProveItLink\" href=\"../__pv_it/demonstrations/accb49ebfc1f2af6af926be744606b514b2bd5000/proof.ipynb\" style=\"text-decoration: none\">&nbsp;&#x22A2;&nbsp;&nbsp;</a><a class=\"ProveItLink\" href=\"../__pv_it/demonstrations/80c188fa57b7e4d17032edb25b42c700cb28aaf20/expr.ipynb\"><img src=\"data:image/png;base64,iVBORw0KGgoAAAANSUhEUgAAAF0AAAAVBAMAAADWVP/xAAAAMFBMVEX///9ERESqqqqYmJgQEBAy\n",
       "MjJmZmZUVFTu7u4iIiLMzMyIiIi6urp2dnbc3NwAAABu19h3AAAAAXRSTlMAQObYZgAAAAlwSFlz\n",
       "AAAOxAAADsQBlSsOGwAAAOtJREFUKM9jeMCAA/BhF76DSz3vAZzqVzagGZ0WuABTPd/dxAMg9Rxl\n",
       "8WjqHzLw/sFU38bA9Ali/n6Y+sMQqo6BwQVT/X4Fjq9o6rUhlH8DQ/0DDPVHDjDgUF/JwFC/AIt/\n",
       "mT5jVw8E87GFz0kDXOq5fkPVZ84EgelgwdXlC3Cp5yzAZj5q+ACNcoEZlYg9voABgdV85gIs6lcx\n",
       "MMgrYFevy8D3AMP9/xtwqee6wMDdgGG+O9w99x+gqn+ZlpaJ6R5jWPiX+4cboKif////V0z1PGmQ\n",
       "9IYEtIlLz3BwmET1DNRXvwuXeu4F2EQBgvFppnKDUOoAAAAASUVORK5CYII=\n",
       "\" style=\"display:inline;vertical-align:middle;\" /></a></span>"
      ],
      "text/plain": [
       "|- |1 + 2| = 3"
      ]
     },
     "metadata": {},
     "output_type": "display_data"
    }
   ],
   "source": [
    "abs_value_1_plus_2.simplification()"
   ]
  },
  {
   "cell_type": "code",
   "execution_count": 71,
   "metadata": {},
   "outputs": [
    {
     "data": {
      "text/html": [
       "<strong id=\"abs_value_neg_three\">abs_value_neg_three:</strong> <a class=\"ProveItLink\" href=\"../__pv_it/demonstrations/cd3b773d6957f98455b414628268021ee0ef57f00/expr.ipynb\"><img src=\"data:image/png;base64,iVBORw0KGgoAAAANSUhEUgAAACEAAAAVBAMAAAA6IZrnAAAAMFBMVEX///9UVFSYmJgQEBCqqqpE\n",
       "RERmZmYiIiIyMjLu7u7MzMyIiIi6urp2dnbc3NwAAABOmDqvAAAAAXRSTlMAQObYZgAAAAlwSFlz\n",
       "AAAOxAAADsQBlSsOGwAAAGtJREFUGNNjeMCAAvgYGO6givAeQBLhu5t6AFVkGgPLF1SR/Q6cP1BF\n",
       "Dh9gQBNhYGD5hC5yXAFNZLXgAgxdULtmlINAFUjIfgKKmlUMDPEOKCL/J6CLGGLoUsJwD08auk8x\n",
       "Q4MUkV2oItwLANJHOYMZfLjFAAAAAElFTkSuQmCC\n",
       "\" style=\"display:inline;vertical-align:middle;\" /></a><br>"
      ],
      "text/plain": [
       "<IPython.core.display.HTML object>"
      ]
     },
     "metadata": {},
     "output_type": "display_data"
    }
   ],
   "source": [
    "abs_value_neg_three = Abs(Neg(three))"
   ]
  },
  {
   "cell_type": "code",
   "execution_count": 72,
   "metadata": {},
   "outputs": [
    {
     "data": {
      "text/html": [
       "<span style=\"font-size:20px;\"> <a class=\"ProveItLink\" href=\"../__pv_it/demonstrations/b53f36d2f12a5122dde1394f8d614d41bbb822b10/proof.ipynb\" style=\"text-decoration: none\">&nbsp;&#x22A2;&nbsp;&nbsp;</a><a class=\"ProveItLink\" href=\"../__pv_it/demonstrations/63a663211961c56dbdf8bfed2fad9270ced7901a0/expr.ipynb\"><img src=\"data:image/png;base64,iVBORw0KGgoAAAANSUhEUgAAAEkAAAAVBAMAAAD4Ed5jAAAAMFBMVEX///9UVFSYmJgQEBCqqqpE\n",
       "RERmZmYiIiIyMjLu7u7MzMyIiIi6urp2dnbc3NwAAABOmDqvAAAAAXRSTlMAQObYZgAAAAlwSFlz\n",
       "AAAOxAAADsQBlSsOGwAAAKtJREFUKM9jeMCAAvgYsII7qFzeAwRU8d1NPYCpCiyKpGoaA8sXTFVg\n",
       "USRV+x04f2CqAosiqTp8gAGLKrAoiutZPmFzPVAURdVxBWyqgKLIqlYLLoCqSi8HgUK4KKqNX7Da\n",
       "CPbjDLDGKpCA/QRsoWo/AcmsVQwM8Q4YqsCiSKr+T4CrQnIXWBRJlSFWGw3RbFTCGl5KaOHFk4Yt\n",
       "tsGiJKcceqnahcrlXoBNEQA5EVQY4/vZ3QAAAABJRU5ErkJggg==\n",
       "\" style=\"display:inline;vertical-align:middle;\" /></a></span>"
      ],
      "text/plain": [
       "|- |-3| = 3"
      ]
     },
     "metadata": {},
     "output_type": "display_data"
    }
   ],
   "source": [
    "# an example suggesting we modify the do_reduced_simplification()\n",
    "# to be on the lookout for double negation results?\n",
    "abs_value_neg_three.simplification()"
   ]
  },
  {
   "cell_type": "code",
   "execution_count": 73,
   "metadata": {},
   "outputs": [
    {
     "data": {
      "text/html": [
       "<span style=\"font-size:20px;\"> <a class=\"ProveItLink\" href=\"../__pv_it/demonstrations/b53f36d2f12a5122dde1394f8d614d41bbb822b10/proof.ipynb\" style=\"text-decoration: none\">&nbsp;&#x22A2;&nbsp;&nbsp;</a><a class=\"ProveItLink\" href=\"../__pv_it/demonstrations/63a663211961c56dbdf8bfed2fad9270ced7901a0/expr.ipynb\"><img src=\"data:image/png;base64,iVBORw0KGgoAAAANSUhEUgAAAEkAAAAVBAMAAAD4Ed5jAAAAMFBMVEX///9UVFSYmJgQEBCqqqpE\n",
       "RERmZmYiIiIyMjLu7u7MzMyIiIi6urp2dnbc3NwAAABOmDqvAAAAAXRSTlMAQObYZgAAAAlwSFlz\n",
       "AAAOxAAADsQBlSsOGwAAAKtJREFUKM9jeMCAAvgYsII7qFzeAwRU8d1NPYCpCiyKpGoaA8sXTFVg\n",
       "USRV+x04f2CqAosiqTp8gAGLKrAoiutZPmFzPVAURdVxBWyqgKLIqlYLLoCqSi8HgUK4KKqNX7Da\n",
       "CPbjDLDGKpCA/QRsoWo/AcmsVQwM8Q4YqsCiSKr+T4CrQnIXWBRJlSFWGw3RbFTCGl5KaOHFk4Yt\n",
       "tsGiJKcceqnahcrlXoBNEQA5EVQY4/vZ3QAAAABJRU5ErkJggg==\n",
       "\" style=\"display:inline;vertical-align:middle;\" /></a></span>"
      ],
      "text/plain": [
       "|- |-3| = 3"
      ]
     },
     "metadata": {},
     "output_type": "display_data"
    }
   ],
   "source": [
    "# we can simplify the double negation manually with a little work\n",
    "abs_value_neg_three.simplification().inner_expr().rhs.simplify()"
   ]
  },
  {
   "cell_type": "code",
   "execution_count": 74,
   "metadata": {},
   "outputs": [
    {
     "data": {
      "text/html": [
       "<span style=\"font-size:20px;\"> <a class=\"ProveItLink\" href=\"../__pv_it/demonstrations/b53f36d2f12a5122dde1394f8d614d41bbb822b10/proof.ipynb\" style=\"text-decoration: none\">&nbsp;&#x22A2;&nbsp;&nbsp;</a><a class=\"ProveItLink\" href=\"../__pv_it/demonstrations/63a663211961c56dbdf8bfed2fad9270ced7901a0/expr.ipynb\"><img src=\"data:image/png;base64,iVBORw0KGgoAAAANSUhEUgAAAEkAAAAVBAMAAAD4Ed5jAAAAMFBMVEX///9UVFSYmJgQEBCqqqpE\n",
       "RERmZmYiIiIyMjLu7u7MzMyIiIi6urp2dnbc3NwAAABOmDqvAAAAAXRSTlMAQObYZgAAAAlwSFlz\n",
       "AAAOxAAADsQBlSsOGwAAAKtJREFUKM9jeMCAAvgYsII7qFzeAwRU8d1NPYCpCiyKpGoaA8sXTFVg\n",
       "USRV+x04f2CqAosiqTp8gAGLKrAoiutZPmFzPVAURdVxBWyqgKLIqlYLLoCqSi8HgUK4KKqNX7Da\n",
       "CPbjDLDGKpCA/QRsoWo/AcmsVQwM8Q4YqsCiSKr+T4CrQnIXWBRJlSFWGw3RbFTCGl5KaOHFk4Yt\n",
       "tsGiJKcceqnahcrlXoBNEQA5EVQY4/vZ3QAAAABJRU5ErkJggg==\n",
       "\" style=\"display:inline;vertical-align:middle;\" /></a></span>"
      ],
      "text/plain": [
       "|- |-3| = 3"
      ]
     },
     "metadata": {},
     "output_type": "display_data"
    }
   ],
   "source": [
    "# after which the system now knows:\n",
    "abs_value_neg_three.simplification()"
   ]
  },
  {
   "cell_type": "code",
   "execution_count": 75,
   "metadata": {},
   "outputs": [
    {
     "data": {
      "text/html": [
       "<span style=\"font-size:20px;\"> <a class=\"ProveItLink\" href=\"../__pv_it/demonstrations/2d7e26b36b4ac0b06c866de91b98c1b4f6d82aa40/proof.ipynb\" style=\"text-decoration: none\">&nbsp;&#x22A2;&nbsp;&nbsp;</a><a class=\"ProveItLink\" href=\"../__pv_it/demonstrations/c84b016ec2a30c12f0d9828a5033d101534af8df0/expr.ipynb\"><img src=\"data:image/png;base64,iVBORw0KGgoAAAANSUhEUgAAAIoAAAAVBAMAAABrmWvBAAAAMFBMVEX///8AAAAAAAAAAAAAAAAA\n",
       "AAAAAAAAAAAAAAAAAAAAAAAAAAAAAAAAAAAAAAAAAAAv3aB7AAAAD3RSTlMAIolEdjKr77sQZpnd\n",
       "VM0QaojEAAAACXBIWXMAAA7EAAAOxAGVKw4bAAABY0lEQVQ4y2MQYMABGAkKwIEAgzIuKSYDQgJw\n",
       "oIzVFM72A8SaMqMGpykMfBuIdstrTFOsoDT/BUKmMC+AMv5imnIFSttPIGQKrwPUtJ+4TdFhINYU\n",
       "pgMwUxiTHB1QTXnmkovVFIRKmCl8KW4XIKaYC3D8RDGF89+E+QIQU/acAYFjUFMQKmGmzH/J+RFs\n",
       "CmcVA/cBFFN4fzKwO2BxC5JKmCn3JzCUgE3h/sDAowCxthxiLfcDBn4FLKbAVHKfOXO85syZBCBz\n",
       "HwPDJ7Ap7A0M8w1Q3AJUan8BiylIKmFuOcTA/BdsynwHhvWocQRMLvsnYAkXJJUwU/4ycP+EmHKB\n",
       "IY9XAMWUAGAIYHELkkqYKV8Zpi8Am8LhwHuaG8UtbAs4NmAzBUklzJQshm5IeuFMURVzRY3ppF1Y\n",
       "Ux2SSpgp07QX4Ey7DESnXWwlgxXRpsBzI+7yhTqlFOmmuOKSYgkgJAAHrgBFIm3fAOUCAwAAAABJ\n",
       "RU5ErkJggg==\n",
       "\" style=\"display:inline;vertical-align:middle;\" /></a></span>"
      ],
      "text/plain": [
       "|- |a + b| = |a + b|"
      ]
     },
     "metadata": {},
     "output_type": "display_data"
    }
   ],
   "source": [
    "# see if we can catch these in the do_reduced_simplification …\n",
    "# add a greater(x, zero) or greater_eq(x, zero) to the routine\n",
    "abs_value_a_plus_b.simplification(\n",
    "    assumptions=[InSet(Add(a, b), Real), greater(Add(a, b), zero)])"
   ]
  },
  {
   "cell_type": "code",
   "execution_count": 76,
   "metadata": {},
   "outputs": [
    {
     "data": {
      "text/html": [
       "<span style=\"font-size:20px;\"><a class=\"ProveItLink\" href=\"../../number_sets/real_numbers/__pv_it/theorems/dd2b896e91f2ac33d7fb1ba61c4378fe7b9a97050/expr.ipynb\"><img src=\"data:image/png;base64,iVBORw0KGgoAAAANSUhEUgAAAD8AAAATBAMAAADVH8ihAAAAMFBMVEX////MzMwyMjKqqqoiIiJm\n",
       "ZmaYmJju7u5EREQQEBC6urqIiIh2dnZUVFTc3NwAAAAqL9KcAAAAAXRSTlMAQObYZgAAAAlwSFlz\n",
       "AAAOxAAADsQBlSsOGwAAAN5JREFUKM9jYMADWBkIAA4yFSTN6FeZkYDPhIa3DGszCvApeMPAwXiB\n",
       "IaKjs6MjAYcC1gcKWEzY4eKiAFfQgKlg0XaECbzlF+AK+O7s2wCm1ZGskDB6AFew8gHHdxDN9ACu\n",
       "4KXKl+3wkGSfxsDqAFaA5Mi0IqTw/sDAcgDEkHQBggaIAo4yhPc4GxjqF4AYFUgmMAa0w3n1Gxjy\n",
       "wQwW5HAIfIFQYMBwiRnkPu4NSAoquOF2cGxgdoXEuzJcwVMGtoQuGI/99sG3G8Gs2q4CWGz2MXTo\n",
       "G2DGwZoWSFCjAAAaDkU0dYR17AAAAABJRU5ErkJggg==\n",
       "\" style=\"display:inline;vertical-align:middle;\" /></a>, <a class=\"ProveItLink\" href=\"../../addition/__pv_it/theorems/b9cae19a628b9412bdeba3850806ec1015c9b6ae0/expr.ipynb\"><img src=\"data:image/png;base64,iVBORw0KGgoAAAANSUhEUgAAAD0AAAATBAMAAADR6hicAAAAMFBMVEX///+YmJjMzMzc3NyIiIhU\n",
       "VFR2dna6urqqqqpmZmYyMjIiIiIQEBBERETu7u4AAAD7tRWPAAAAAXRSTlMAQObYZgAAAAlwSFlz\n",
       "AAAOxAAADsQBlSsOGwAAAOpJREFUKM9jYMANOBnwA16y5KXO3l99VgAuz3dnA5qCC6YMpbIP4Pq5\n",
       "JqDLmzHwMgUwzL175+5doDn8DZjynAYL4PrrH0DFfXfvXgCXvwCXz4ZKV/kh9LO+C4DLL3WJAFHM\n",
       "65DM1+0ygLv/14P3IA6XAVzeZvVvP3j4cfxj4HEAySO5T/AVUiAvYOBPANI6u4HgAkSe96EAXJ47\n",
       "gaEe5MO3SPqZJtyD84Denw/yITey/yfZIuQV+A6CaBYHJPm3LHALWAV4IQG8Ai5vycAocB3G4wub\n",
       "CGE8vf4AFn+XGe6ub8CI2LLbkPBFAQCsf0hmRnY2owAAAABJRU5ErkJggg==\n",
       "\" style=\"display:inline;vertical-align:middle;\" /></a> <a class=\"ProveItLink\" href=\"../__pv_it/demonstrations/e1718944cf8407c74650cf262f58b1a95378b2ba0/proof.ipynb\" style=\"text-decoration: none\">&nbsp;&#x22A2;&nbsp;&nbsp;</a><a class=\"ProveItLink\" href=\"../__pv_it/demonstrations/bd891d2ef2966d747ddcedb0fc0af3077e04bea10/expr.ipynb\"><img src=\"data:image/png;base64,iVBORw0KGgoAAAANSUhEUgAAAI4AAAAVBAMAAABicsu7AAAAMFBMVEX///8yMjKqqqoiIiJmZmaY\n",
       "mJju7u5EREQQEBBUVFTMzMyIiIi6urp2dnbc3NwAAABRd72LAAAAAXRSTlMAQObYZgAAAAlwSFlz\n",
       "AAAOxAAADsQBlSsOGwAAAbpJREFUOMuVlL9Lw0AUx1/TmFb6c1DBLeIiiBiMg4JCRRzFOjmarTrF\n",
       "wUEQXIoi6KCCUykU/APM4mAF6SJ0a0GXikM2cdMOHQTFd21Oct47oQe5I5cvn3zv3XsPfFCMtLzl\n",
       "/yN9UXFStb87CVMhTXo0x9izKM4UxSgUcbpR+InkCI6RJc0MMb0jch6CNWMSHD0vnIW/tfEZyImc\n",
       "yWBtOAQnLrxpXsDrsPmI5jxScR4jOSmLzcOMky7feyJn9O5C5qxCWMo5kdItBqHFOHU/1hE4xofj\n",
       "+l2ObnfHWe+fYSnnuCPGN8A6coxD0C2Bo3Ug7kl+ZiAs5ZxpB04AJpCjv0O0iTvLtn1s2/PMRRYy\n",
       "TYlzCr9StDlX7NlcAvgCuEZOfAfcmuAHtQ2T4oSk3M8iJPHm68hxPdgU7wvTZ82R4oPnCkk5pw06\n",
       "RmyccUw413yBU8FASH72ISzlnE/YwozcQE7M02Z1wc9gPpaTOS0ISznnEna7OYH3VXp+q4r3Xl4h\n",
       "8vAKwlLO2X5iBbJA5zPZN6IVKp97Dcii65TkYDFSdRqUcB997EAlhde++mFBycE/VFXfEhWpDXsq\n",
       "qQ8/k7GGyZOQnXkAAAAASUVORK5CYII=\n",
       "\" style=\"display:inline;vertical-align:middle;\" /></a></span>"
      ],
      "text/plain": [
       "{a in RealPos, b in RealPos} |- |a + b| = (a + b)"
      ]
     },
     "metadata": {},
     "output_type": "display_data"
    }
   ],
   "source": [
    "abs_value_a_plus_b.simplification(\n",
    "    assumptions=[InSet(a, RealPos), InSet(b, RealPos)])"
   ]
  },
  {
   "cell_type": "code",
   "execution_count": 77,
   "metadata": {},
   "outputs": [
    {
     "data": {
      "text/html": [
       "<span style=\"font-size:20px;\"><a class=\"ProveItLink\" href=\"../../addition/__pv_it/theorems/96d3bc490053a9cc7159a4a275658c0676aaf4e60/expr.ipynb\"><img src=\"data:image/png;base64,iVBORw0KGgoAAAANSUhEUgAAAHAAAAAXBAMAAAAhP9aaAAAAMFBMVEX////MzMxUVFRERES6uroi\n",
       "IiIQEBCYmJhmZmYyMjLu7u52dnaqqqqIiIjc3NwAAACW8nlqAAAAAXRSTlMAQObYZgAAAAlwSFlz\n",
       "AAAOxAAADsQBlSsOGwAAAb5JREFUOMtjYCAHNDCQCQzA5AMcsg8IaOQ9gEPWF43PPs34Z5g5QuNp\n",
       "LHq4zAKAJhagiTLzKbCoW8E0ck3AZhsnyPuzMDRuYDAQYuAwNk42NmfgQDGXBcrjB7m/AovGPk6Y\n",
       "jWwocjwXILT/ApDUAgjncmjoBLhGZpjGk1g1bgW7F2K95y0kG7UWwTR2AzGf9r0LqBon3dVhYOBW\n",
       "ADH5ZiE5ldFmHkzjdCB2e8D8C0Uj188F6x8wsIMdyPkAoTEzPnYBLOXEAJWlM3AEoGjk+cXAdoGB\n",
       "JwGsESlwtlch4iCFgYHjAwPrBiCTIzQ0LDU0FOhAjgkM/BsYGD+AFIiFAoEB1KlW5cga2QwY1jug\n",
       "2Ag0x/8AAwvYxsXI0SHBvADGAzp1/QWGetRQBUZj/wIGHrD7WZE1csgZwHi2QI0HGDR5HqBoFAD6\n",
       "m4EdkpYvIGnkMrgO420CClzgieBAsZGpgBkYcBwbwJw5CI0NDOXMUE8xiAJDVXfjo4uo0aHdDnIk\n",
       "RM0ikwWw3PH5AbPlH6hGVgFsKQcMnkJpb9NQLDmBvQFbIgeDdvzFgB0uCT4D/BoX45JgfoBfI98F\n",
       "HBL38GoDAMrSa1nOZjO+AAAAAElFTkSuQmCC\n",
       "\" style=\"display:inline;vertical-align:middle;\" /></a> <a class=\"ProveItLink\" href=\"../__pv_it/demonstrations/39ae247965a303182285b08a2c57431cc3f924920/proof.ipynb\" style=\"text-decoration: none\">&nbsp;&#x22A2;&nbsp;&nbsp;</a><a class=\"ProveItLink\" href=\"../__pv_it/demonstrations/bd891d2ef2966d747ddcedb0fc0af3077e04bea10/expr.ipynb\"><img src=\"data:image/png;base64,iVBORw0KGgoAAAANSUhEUgAAAI4AAAAVBAMAAABicsu7AAAAMFBMVEX///8yMjKqqqoiIiJmZmaY\n",
       "mJju7u5EREQQEBBUVFTMzMyIiIi6urp2dnbc3NwAAABRd72LAAAAAXRSTlMAQObYZgAAAAlwSFlz\n",
       "AAAOxAAADsQBlSsOGwAAAbpJREFUOMuVlL9Lw0AUx1/TmFb6c1DBLeIiiBiMg4JCRRzFOjmarTrF\n",
       "wUEQXIoi6KCCUykU/APM4mAF6SJ0a0GXikM2cdMOHQTFd21Oct47oQe5I5cvn3zv3XsPfFCMtLzl\n",
       "/yN9UXFStb87CVMhTXo0x9izKM4UxSgUcbpR+InkCI6RJc0MMb0jch6CNWMSHD0vnIW/tfEZyImc\n",
       "yWBtOAQnLrxpXsDrsPmI5jxScR4jOSmLzcOMky7feyJn9O5C5qxCWMo5kdItBqHFOHU/1hE4xofj\n",
       "+l2ObnfHWe+fYSnnuCPGN8A6coxD0C2Bo3Ug7kl+ZiAs5ZxpB04AJpCjv0O0iTvLtn1s2/PMRRYy\n",
       "TYlzCr9StDlX7NlcAvgCuEZOfAfcmuAHtQ2T4oSk3M8iJPHm68hxPdgU7wvTZ82R4oPnCkk5pw06\n",
       "RmyccUw413yBU8FASH72ISzlnE/YwozcQE7M02Z1wc9gPpaTOS0ISznnEna7OYH3VXp+q4r3Xl4h\n",
       "8vAKwlLO2X5iBbJA5zPZN6IVKp97Dcii65TkYDFSdRqUcB997EAlhde++mFBycE/VFXfEhWpDXsq\n",
       "qQ8/k7GGyZOQnXkAAAAASUVORK5CYII=\n",
       "\" style=\"display:inline;vertical-align:middle;\" /></a></span>"
      ],
      "text/plain": [
       "{(a + b) in RealPos} |- |a + b| = (a + b)"
      ]
     },
     "metadata": {},
     "output_type": "display_data"
    }
   ],
   "source": [
    "abs_value_a_plus_b.simplification(\n",
    "    assumptions=[InSet(Add(a,b), RealPos)])"
   ]
  },
  {
   "cell_type": "code",
   "execution_count": 78,
   "metadata": {},
   "outputs": [
    {
     "data": {
      "text/html": [
       "<a class=\"ProveItLink\" href=\"../__pv_it/demonstrations/37e71984c583d0e95189e1a5af517ee2962756640/expr.ipynb\"><img src=\"data:image/png;base64,iVBORw0KGgoAAAANSUhEUgAAACoAAAAVBAMAAADCwWEQAAAAMFBMVEX///8yMjKqqqoiIiJmZmaY\n",
       "mJju7u5EREQQEBBUVFTMzMyIiIi6urp2dnbc3NwAAABRd72LAAAAAXRSTlMAQObYZgAAAAlwSFlz\n",
       "AAAOxAAADsQBlSsOGwAAAKVJREFUGNNjeMCACR4w3MEiegddNL0ZmyiDCFbRT9hEeb5hE+U1gIm+\n",
       "vP0aLso4e6cCWJSnj6E+ASaaL8b2DyyaEcDgDFern8DQDRb1Z2CwBSsTABKODAx/waLtDGx/QKLM\n",
       "DgwgeZ5PIFG23wysH5Ccy/INLPqJgVNADyb6C2QNyIRqBmUHB5joVIYSiHsz966bvQAmmnklAFs4\n",
       "YA1JMkR3YRHdBQDf2kMta9s74gAAAABJRU5ErkJggg==\n",
       "\" style=\"display:inline;vertical-align:middle;\" /></a>"
      ],
      "text/plain": [
       "|a * b|"
      ]
     },
     "metadata": {},
     "output_type": "display_data"
    }
   ],
   "source": [
    "abs_value_a_times_b"
   ]
  },
  {
   "cell_type": "code",
   "execution_count": 79,
   "metadata": {},
   "outputs": [
    {
     "data": {
      "text/html": [
       "<span style=\"font-size:20px;\"><a class=\"ProveItLink\" href=\"../__pv_it/demonstrations/3ed34b3b1ec21e2c8d5cb4b30cba49d6c3fcaec60/expr.ipynb\"><img src=\"data:image/png;base64,iVBORw0KGgoAAAANSUhEUgAAAGYAAAAXBAMAAAALjyc1AAAAMFBMVEX///8AAAAAAAAAAAAAAAAA\n",
       "AAAAAAAAAAAAAAAAAAAAAAAAAAAAAAAAAAAAAAAAAAAv3aB7AAAAD3RSTlMAInZUiRDNmWbv3US7\n",
       "qzJazP2FAAAACXBIWXMAAA7EAAAOxAGVKw4bAAABqUlEQVQ4y2NgIBEUMJAODoBJAUwJAQJ6mAww\n",
       "JTah8Tkyz3xbeQKhxwRVmvXkAqA5DWiaeBgvcN84CtPDmoAmzQbyZSqGHgeGA28Z2M+cmXPmBAM7\n",
       "upH8ILe2Y9FTyAazhxPdL/sDQKIBEI7OqlUJcD08MD1m6Hq8wA6E2L5NFcmeq7EwPSVAzHhFUQGu\n",
       "J1fpMgMDywUQkzEVyW18hxNhejKAeKcAz1d4uH0LiBdg4AC7iE0AoWfa+kUBsHSwGKhsBgP7Apgs\n",
       "81cGTgUG5glgPUhh4NGKCODZDAzsHxi4HMBWAAn2BAZ+Bwa+DyC5l6uA4ADUbUc7kPVwHmCI3wBi\n",
       "LwdioO79BgzcYHtikMP6OU8AjAd0W7wCQz9y9NQHMDCD3cqFrIf94QEY7xBQjwHDNWaYd/kfAL3H\n",
       "wAFJigpIelgPaMB4vkABBebl7DA+bwMPMGjYHcCcZISeAoYOng1Q3iug3y/5yerBw/pKBchVEOnY\n",
       "0wGwdP1HgOfYZ6gargfYcokUlN5yalUCpiwH1sxagT+zHsQixngAv54YLGI8Avj1MCpgiini1QEA\n",
       "VRlj0eKHGVsAAAAASUVORK5CYII=\n",
       "\" style=\"display:inline;vertical-align:middle;\" /></a> <a class=\"ProveItLink\" href=\"../__pv_it/demonstrations/0c609bb1bee96597d675c4c87d2a8cd8c2646f950/proof.ipynb\" style=\"text-decoration: none\">&nbsp;&#x22A2;&nbsp;&nbsp;</a><a class=\"ProveItLink\" href=\"../__pv_it/demonstrations/fe935a771c114d0eb523f2ae8a32c688e8db831a0/expr.ipynb\"><img src=\"data:image/png;base64,iVBORw0KGgoAAAANSUhEUgAAAHkAAAAVBAMAAACQ4lxbAAAAMFBMVEX///8yMjKqqqoiIiJmZmaY\n",
       "mJju7u5EREQQEBBUVFTMzMyIiIi6urp2dnbc3NwAAABRd72LAAAAAXRSTlMAQObYZgAAAAlwSFlz\n",
       "AAAOxAAADsQBlSsOGwAAAU1JREFUOMuNlLFKw1AUhv8maRKNbbIouMUHEIL2AbJ0FDO4m80xGQVB\n",
       "XNwcqqsUCr5A5gqlo+DQgJPiEHByq0tn7w0kiOcfciHLz/fl5J6Te1FBrqGMKh59Enuw/J94oaRe\n",
       "pW1fRsw+JJSXyNq9mNh2QCjsSdsPiW0lhMKZtFcpsV0QCm4q7DfWtQMQCr1E28Ppomjz/ecHaZ+A\n",
       "UBhMtP1SOZu2Pz9pVtW2dVyviU53QSj0A2Xbt7CiJjc2cAtR+wiEgnGjbGsNs6xfqCsG8Eth34FQ\n",
       "2F4r282R1fhIPYpYhcyWFHZ07azA+d9BnqZi3+rLJQUj0naIe6M5Bf5MbVDUvgKh0M+V7RTGyGq4\n",
       "rcSJpf0OQsEqdc8fP77n7SymY/K3PIFQMJfdTqg5IxS+Op7vfszscdfb4ZrdQHlX+4JQjprAnOSe\n",
       "2OawkNQC+AUVk3quRuessAAAAABJRU5ErkJggg==\n",
       "\" style=\"display:inline;vertical-align:middle;\" /></a></span>"
      ],
      "text/plain": [
       "{(a * b) in RealPos} |- |a * b| = (a * b)"
      ]
     },
     "metadata": {},
     "output_type": "display_data"
    }
   ],
   "source": [
    "abs_value_a_times_b.simplification(\n",
    "    assumptions=[InSet(Mult(a,b), RealPos)])"
   ]
  },
  {
   "cell_type": "code",
   "execution_count": 80,
   "metadata": {},
   "outputs": [
    {
     "data": {
      "text/html": [
       "<span style=\"font-size:20px;\"><a class=\"ProveItLink\" href=\"../../number_sets/real_numbers/__pv_it/theorems/dd2b896e91f2ac33d7fb1ba61c4378fe7b9a97050/expr.ipynb\"><img src=\"data:image/png;base64,iVBORw0KGgoAAAANSUhEUgAAAD8AAAATBAMAAADVH8ihAAAAMFBMVEX////MzMwyMjKqqqoiIiJm\n",
       "ZmaYmJju7u5EREQQEBC6urqIiIh2dnZUVFTc3NwAAAAqL9KcAAAAAXRSTlMAQObYZgAAAAlwSFlz\n",
       "AAAOxAAADsQBlSsOGwAAAN5JREFUKM9jYMADWBkIAA4yFSTN6FeZkYDPhIa3DGszCvApeMPAwXiB\n",
       "IaKjs6MjAYcC1gcKWEzY4eKiAFfQgKlg0XaECbzlF+AK+O7s2wCm1ZGskDB6AFew8gHHdxDN9ACu\n",
       "4KXKl+3wkGSfxsDqAFaA5Mi0IqTw/sDAcgDEkHQBggaIAo4yhPc4GxjqF4AYFUgmMAa0w3n1Gxjy\n",
       "wQwW5HAIfIFQYMBwiRnkPu4NSAoquOF2cGxgdoXEuzJcwVMGtoQuGI/99sG3G8Gs2q4CWGz2MXTo\n",
       "G2DGwZoWSFCjAAAaDkU0dYR17AAAAABJRU5ErkJggg==\n",
       "\" style=\"display:inline;vertical-align:middle;\" /></a>, <a class=\"ProveItLink\" href=\"../../addition/__pv_it/theorems/b9cae19a628b9412bdeba3850806ec1015c9b6ae0/expr.ipynb\"><img src=\"data:image/png;base64,iVBORw0KGgoAAAANSUhEUgAAAD0AAAATBAMAAADR6hicAAAAMFBMVEX///+YmJjMzMzc3NyIiIhU\n",
       "VFR2dna6urqqqqpmZmYyMjIiIiIQEBBERETu7u4AAAD7tRWPAAAAAXRSTlMAQObYZgAAAAlwSFlz\n",
       "AAAOxAAADsQBlSsOGwAAAOpJREFUKM9jYMANOBnwA16y5KXO3l99VgAuz3dnA5qCC6YMpbIP4Pq5\n",
       "JqDLmzHwMgUwzL175+5doDn8DZjynAYL4PrrH0DFfXfvXgCXvwCXz4ZKV/kh9LO+C4DLL3WJAFHM\n",
       "65DM1+0ygLv/14P3IA6XAVzeZvVvP3j4cfxj4HEAySO5T/AVUiAvYOBPANI6u4HgAkSe96EAXJ47\n",
       "gaEe5MO3SPqZJtyD84Denw/yITey/yfZIuQV+A6CaBYHJPm3LHALWAV4IQG8Ai5vycAocB3G4wub\n",
       "CGE8vf4AFn+XGe6ub8CI2LLbkPBFAQCsf0hmRnY2owAAAABJRU5ErkJggg==\n",
       "\" style=\"display:inline;vertical-align:middle;\" /></a> <a class=\"ProveItLink\" href=\"../__pv_it/demonstrations/8c4dc3b9bab77e9def57f315a50f67178570df6a0/proof.ipynb\" style=\"text-decoration: none\">&nbsp;&#x22A2;&nbsp;&nbsp;</a><a class=\"ProveItLink\" href=\"../__pv_it/demonstrations/fe935a771c114d0eb523f2ae8a32c688e8db831a0/expr.ipynb\"><img src=\"data:image/png;base64,iVBORw0KGgoAAAANSUhEUgAAAHkAAAAVBAMAAACQ4lxbAAAAMFBMVEX///8yMjKqqqoiIiJmZmaY\n",
       "mJju7u5EREQQEBBUVFTMzMyIiIi6urp2dnbc3NwAAABRd72LAAAAAXRSTlMAQObYZgAAAAlwSFlz\n",
       "AAAOxAAADsQBlSsOGwAAAU1JREFUOMuNlLFKw1AUhv8maRKNbbIouMUHEIL2AbJ0FDO4m80xGQVB\n",
       "XNwcqqsUCr5A5gqlo+DQgJPiEHByq0tn7w0kiOcfciHLz/fl5J6Te1FBrqGMKh59Enuw/J94oaRe\n",
       "pW1fRsw+JJSXyNq9mNh2QCjsSdsPiW0lhMKZtFcpsV0QCm4q7DfWtQMQCr1E28Ppomjz/ecHaZ+A\n",
       "UBhMtP1SOZu2Pz9pVtW2dVyviU53QSj0A2Xbt7CiJjc2cAtR+wiEgnGjbGsNs6xfqCsG8Eth34FQ\n",
       "2F4r282R1fhIPYpYhcyWFHZ07azA+d9BnqZi3+rLJQUj0naIe6M5Bf5MbVDUvgKh0M+V7RTGyGq4\n",
       "rcSJpf0OQsEqdc8fP77n7SymY/K3PIFQMJfdTqg5IxS+Op7vfszscdfb4ZrdQHlX+4JQjprAnOSe\n",
       "2OawkNQC+AUVk3quRuessAAAAABJRU5ErkJggg==\n",
       "\" style=\"display:inline;vertical-align:middle;\" /></a></span>"
      ],
      "text/plain": [
       "{a in RealPos, b in RealPos} |- |a * b| = (a * b)"
      ]
     },
     "metadata": {},
     "output_type": "display_data"
    }
   ],
   "source": [
    "abs_value_a_times_b.simplification(\n",
    "    assumptions=[InSet(a, RealPos), InSet(b, RealPos)])"
   ]
  },
  {
   "cell_type": "code",
   "execution_count": 81,
   "metadata": {},
   "outputs": [
    {
     "name": "stdout",
     "output_type": "stream",
     "text": [
      "Expected exception: Proof step failed:\n",
      "Attempting to instantiate |- forall_{n in NaturalPos} [forall_{x_{1}, x_{2}, ..., x_{n} in Complex} (|x_{1} *  x_{2} *  ... *  x_{n}| = (|x_{1}| *  |x_{2}| *  ... *  |x_{n}|))] with {n: 2, x: (a, b)}:\n",
      "Unsatisfied condition: a in Complex. For debugging purposes, this is accessible via Instantiation.unsatisfied_condition with applicable assumptions in Instantiation.condition_assumptions.\n"
     ]
    }
   ],
   "source": [
    "# But if we don't know anything about a and b, 'simplication' will raise an exception.\n",
    "from proveit import InstantiationFailure\n",
    "try:\n",
    "    abs_value_a_times_b.simplification()\n",
    "    assert False\n",
    "except InstantiationFailure as _e:\n",
    "    print(\"Expected exception:\", _e)"
   ]
  },
  {
   "cell_type": "code",
   "execution_count": 82,
   "metadata": {},
   "outputs": [
    {
     "data": {
      "text/html": [
       "<span style=\"font-size:20px;\"><a class=\"ProveItLink\" href=\"../__pv_it/demonstrations/d812cc14384eaa75250d79770b5a732609b7433a0/expr.ipynb\"><img src=\"data:image/png;base64,iVBORw0KGgoAAAANSUhEUgAAAFkAAAAVBAMAAADfv1+LAAAAMFBMVEX///8AAAAAAAAAAAAAAAAA\n",
       "AAAAAAAAAAAAAAAAAAAAAAAAAAAAAAAAAAAAAAAAAAAv3aB7AAAAD3RSTlMAInZUiRDNmWbv3US7\n",
       "qzJazP2FAAAACXBIWXMAAA7EAAAOxAGVKw4bAAABnklEQVQoz3WTPUjDQBiG3xjTpG3aZhaEVHST\n",
       "kkGcHDqqoGSWlhaK4CJ0cOhmcXG0o+BSEClkKiKCU6OCoIK0tjo4dVJ06lKh4OCXS5O2aXJwl7v3\n",
       "nnx/dwdAwVTzkYZtRpvWLj3rnb8HHRuDOrAyuSE8VslC2YPfR5sQerSb92yEijTsesQPZR2oAKLX\n",
       "TMKK7Ngjts2QAnIa9sbc0GkI6/Zi2TCY79YRl7foVS+9ycKxPV4vDcVWrLto0Qc05zpJ1aX3F9rA\n",
       "bNOacm74LZhyneg9mt8oct+tya+eUyAx/yFlRH8JF0SfE3AKserofB9hFXyF0RjRkrZG2hmVpYdI\n",
       "mpmlQcwjkUa8ZzHfBjXTpvEWs+mwiVzd0mrU6b+GhiiznRmzjaxgR5JTcTJe7kMdPIssMk7HVfJy\n",
       "R7SGd95JKNGlNCAx/zNupV6op0jbAmSVr4mOHivLdPRimi0KjlqwM8IPZfe6PZ9yK9gpWTGwPJB9\n",
       "ts/0c2DaNyrS9bvGc8Pv1ZMxceukoh9dCnoNtz4aZwbRGR9NDnxqnDqtJQPYf/KqX8JMSc47AAAA\n",
       "AElFTkSuQmCC\n",
       "\" style=\"display:inline;vertical-align:middle;\" /></a> <a class=\"ProveItLink\" href=\"../__pv_it/demonstrations/e3fc8cd357cd0db4ff9225928dcd77f3d8ebe9170/proof.ipynb\" style=\"text-decoration: none\">&nbsp;&#x22A2;&nbsp;&nbsp;</a><a class=\"ProveItLink\" href=\"../__pv_it/demonstrations/fe935a771c114d0eb523f2ae8a32c688e8db831a0/expr.ipynb\"><img src=\"data:image/png;base64,iVBORw0KGgoAAAANSUhEUgAAAHkAAAAVBAMAAACQ4lxbAAAAMFBMVEX///8yMjKqqqoiIiJmZmaY\n",
       "mJju7u5EREQQEBBUVFTMzMyIiIi6urp2dnbc3NwAAABRd72LAAAAAXRSTlMAQObYZgAAAAlwSFlz\n",
       "AAAOxAAADsQBlSsOGwAAAU1JREFUOMuNlLFKw1AUhv8maRKNbbIouMUHEIL2AbJ0FDO4m80xGQVB\n",
       "XNwcqqsUCr5A5gqlo+DQgJPiEHByq0tn7w0kiOcfciHLz/fl5J6Te1FBrqGMKh59Enuw/J94oaRe\n",
       "pW1fRsw+JJSXyNq9mNh2QCjsSdsPiW0lhMKZtFcpsV0QCm4q7DfWtQMQCr1E28Ppomjz/ecHaZ+A\n",
       "UBhMtP1SOZu2Pz9pVtW2dVyviU53QSj0A2Xbt7CiJjc2cAtR+wiEgnGjbGsNs6xfqCsG8Eth34FQ\n",
       "2F4r282R1fhIPYpYhcyWFHZ07azA+d9BnqZi3+rLJQUj0naIe6M5Bf5MbVDUvgKh0M+V7RTGyGq4\n",
       "rcSJpf0OQsEqdc8fP77n7SymY/K3PIFQMJfdTqg5IxS+Op7vfszscdfb4ZrdQHlX+4JQjprAnOSe\n",
       "2OawkNQC+AUVk3quRuessAAAAABJRU5ErkJggg==\n",
       "\" style=\"display:inline;vertical-align:middle;\" /></a></span>"
      ],
      "text/plain": [
       "{(a * b) in Natural} |- |a * b| = (a * b)"
      ]
     },
     "metadata": {},
     "output_type": "display_data"
    }
   ],
   "source": [
    "abs_value_a_times_b.simplification(\n",
    "    assumptions=[InSet(Mult(a,b), Natural)])"
   ]
  },
  {
   "cell_type": "code",
   "execution_count": 83,
   "metadata": {},
   "outputs": [
    {
     "data": {
      "text/html": [
       "<span style=\"font-size:20px;\"><a class=\"ProveItLink\" href=\"../__pv_it/demonstrations/4a4701c918ed0b49c63799c553f955d19a924f1a0/expr.ipynb\"><img src=\"data:image/png;base64,iVBORw0KGgoAAAANSUhEUgAAAEgAAAAUBAMAAADcj2b4AAAAMFBMVEX///8AAAAAAAAAAAAAAAAA\n",
       "AAAAAAAAAAAAAAAAAAAAAAAAAAAAAAAAAAAAAAAAAAAv3aB7AAAAD3RSTlMAIquJdkTvuxBmmd1U\n",
       "zTKBpmoTAAAACXBIWXMAAA7EAAAOxAGVKw4bAAABK0lEQVQoz2NgwAmeB4ApY2cGPIDD/ACQ5HRg\n",
       "LcCnisF9AgMD2wOGj3gVMUx3YJBvYMjBIjM3vf52+gQIe5rA+waGndj0FwgxBE1vALGaSxmAilKw\n",
       "KhJmYOdTADKk9BhA1v3BoYhL4AIDgxBQDYbD3XfvvgBXVMDQtBDEYXFgVUBSE+uBMImpQ4GhA8Iz\n",
       "9gI6j1HZ0QHEYbyBZN3zswIoLggTYP8BonnhwgVit397oAZ+JgPXBrAiJIfP7AXFXTkQQHRyfWDg\n",
       "NgAxnu0GggKIIvbOCSgmsRUw9IOjux3JJL4FFSiK+h0Y5oMZ3MjhtE4cVdEBBl0eAXCAIClqZ0Gx\n",
       "j92BZxcXmHUHrkiKgXNCKYrvVOyE/MCsptIGWCooZCi/fwB76gmuhkQLBgAA7rpMGB8itmIAAAAA\n",
       "SUVORK5CYII=\n",
       "\" style=\"display:inline;vertical-align:middle;\" /></a>, <a class=\"ProveItLink\" href=\"../../addition/__pv_it/theorems/5a49c1d91f28aca05c3a7748e24771596ea841e40/expr.ipynb\"><img src=\"data:image/png;base64,iVBORw0KGgoAAAANSUhEUgAAAEYAAAAUBAMAAADCRlZLAAAAMFBMVEX///+YmJjMzMzc3NyIiIhU\n",
       "VFR2dna6urqqqqpmZmYyMjIiIiIQEBBERETu7u4AAAD7tRWPAAAAAXRSTlMAQObYZgAAAAlwSFlz\n",
       "AAAOxAAADsQBlSsOGwAAATdJREFUKM9jYMAFdAvAVJobA27Al9sAJBkd2C/gUcTgK8DAwKPA8Bmf\n",
       "GgZZBwb7BwwnMCWkzt5ffVYAwpYx0H/AsJGB784GNEUXTBlKZR+AWM+uMwDVHGFg4JqArsaMgZcp\n",
       "AMiwDGIA2fWDgYG/AVMNp8ECBgZToBKom+sfwLyxe/cCuJoLDE8ngzgsDuxAI7OhSqr8EOawvgtg\n",
       "eAfhpXkCzVjqEgFiM69Dsku3ywAlOH89eA8S4IKLXrBZ/dsPxYUc/xh4HEBqkNws+AoUX3eBAKKR\n",
       "cwEDfwKQ1tkNBBcgangfCqCYw53AUA/y/Vskc5gm3ENRAwye+SDfcyOHzyRbVDUKfAchAYGk5i0L\n",
       "imWsAryQyFgBV2PJwChwHcXvYRMhjKfXH8Di/TLD3fUNWFNL2W1IXGAAANC6XS1uoy9DAAAAAElF\n",
       "TkSuQmCC\n",
       "\" style=\"display:inline;vertical-align:middle;\" /></a> <a class=\"ProveItLink\" href=\"../__pv_it/demonstrations/13c0f185720ce3121fab587dfdf5ac253d55f7390/proof.ipynb\" style=\"text-decoration: none\">&nbsp;&#x22A2;&nbsp;&nbsp;</a><a class=\"ProveItLink\" href=\"../__pv_it/demonstrations/fe935a771c114d0eb523f2ae8a32c688e8db831a0/expr.ipynb\"><img src=\"data:image/png;base64,iVBORw0KGgoAAAANSUhEUgAAAHkAAAAVBAMAAACQ4lxbAAAAMFBMVEX///8yMjKqqqoiIiJmZmaY\n",
       "mJju7u5EREQQEBBUVFTMzMyIiIi6urp2dnbc3NwAAABRd72LAAAAAXRSTlMAQObYZgAAAAlwSFlz\n",
       "AAAOxAAADsQBlSsOGwAAAU1JREFUOMuNlLFKw1AUhv8maRKNbbIouMUHEIL2AbJ0FDO4m80xGQVB\n",
       "XNwcqqsUCr5A5gqlo+DQgJPiEHByq0tn7w0kiOcfciHLz/fl5J6Te1FBrqGMKh59Enuw/J94oaRe\n",
       "pW1fRsw+JJSXyNq9mNh2QCjsSdsPiW0lhMKZtFcpsV0QCm4q7DfWtQMQCr1E28Ppomjz/ecHaZ+A\n",
       "UBhMtP1SOZu2Pz9pVtW2dVyviU53QSj0A2Xbt7CiJjc2cAtR+wiEgnGjbGsNs6xfqCsG8Eth34FQ\n",
       "2F4r282R1fhIPYpYhcyWFHZ07azA+d9BnqZi3+rLJQUj0naIe6M5Bf5MbVDUvgKh0M+V7RTGyGq4\n",
       "rcSJpf0OQsEqdc8fP77n7SymY/K3PIFQMJfdTqg5IxS+Op7vfszscdfb4ZrdQHlX+4JQjprAnOSe\n",
       "2OawkNQC+AUVk3quRuessAAAAABJRU5ErkJggg==\n",
       "\" style=\"display:inline;vertical-align:middle;\" /></a></span>"
      ],
      "text/plain": [
       "{a in RealNonNeg, b in RealNonNeg} |- |a * b| = (a * b)"
      ]
     },
     "metadata": {},
     "output_type": "display_data"
    }
   ],
   "source": [
    "abs_value_a_times_b.simplification(\n",
    "    assumptions=[InSet(a, RealNonNeg), InSet(b, RealNonNeg)])"
   ]
  },
  {
   "cell_type": "code",
   "execution_count": 84,
   "metadata": {},
   "outputs": [
    {
     "data": {
      "text/html": [
       "<span style=\"font-size:20px;\"><a class=\"ProveItLink\" href=\"../../addition/subtraction/__pv_it/theorems/27094ede24067904bb8353fa305df8461a3a4be40/expr.ipynb\"><img src=\"data:image/png;base64,iVBORw0KGgoAAAANSUhEUgAAADMAAAAQBAMAAABJt1qBAAAAMFBMVEX////MzMwyMjKqqqoiIiJm\n",
       "ZmaYmJju7u5EREQQEBC6urqIiIh2dnZUVFTc3NwAAAAqL9KcAAAAAXRSTlMAQObYZgAAAAlwSFlz\n",
       "AAAOxAAADsQBlSsOGwAAAN5JREFUGNNjYMAAJT+aChhO/lzAgAU0c11gYP+ATYbhyoNjDAwTsEpd\n",
       "bmB6wOCAIrTDxUUBRN/L5lNAlVq0Hcq4xyuwByzFd2ffBpAAnzpMzT2GBo4FIKmVDzi+gwSA5sOl\n",
       "RNndgVLs0xhYweYyMSCk2AwsgC5k/cDAcgAkIOkCBA0QKYbrvEApzgaGerDHK5B0MdSyA02q38CQ\n",
       "DxZgQZZi3ADUX2/AcIkZ5ALuDTCpRiDeCJTi2MDsygoWUYZJgRisQM+z3z74diNYpLarAEwL/QTq\n",
       "YFdACag1LS7IAgCEuzrfdn2YkQAAAABJRU5ErkJggg==\n",
       "\" style=\"display:inline;vertical-align:middle;\" /></a>, <a class=\"ProveItLink\" href=\"../../addition/subtraction/__pv_it/theorems/5d56aa038eb34c97b005be8161434236efec38e90/expr.ipynb\"><img src=\"data:image/png;base64,iVBORw0KGgoAAAANSUhEUgAAADEAAAAQBAMAAABNQoq8AAAAMFBMVEX///+YmJjMzMzc3NyIiIhU\n",
       "VFR2dna6urqqqqpmZmYyMjIiIiIQEBBERETu7u4AAAD7tRWPAAAAAXRSTlMAQObYZgAAAAlwSFlz\n",
       "AAAOxAAADsQBlSsOGwAAAOVJREFUGNNjYEAHr//eesCQ86eAge/OBjSpG+wBDHwfgAyuCWgy0QaJ\n",
       "DAwHgAz+BjSZiAtcBgwgg+ofQEV8d+9eAKKDRZgXgGWyoRJVflBGMKuCG1hmqUsEiM+8DmZaMMMF\n",
       "3gKgDN+vB+8NQA4xQMho8u0DynD8Y+BxAMkwIGQYG3qBbuNcwMCfAOTr7AaCCxAZhjhWoAx3AkM9\n",
       "yN1vkfQwPOXbAPbOfJC7uZFlmByAuvkV+A6C+CwOMJlLQOwElGEV4IUEzwqYDIgBtJ2BL2wiRODp\n",
       "dUhgaP0BqudbgBxeZbd3I/MB9+pAMX9TA7AAAAAASUVORK5CYII=\n",
       "\" style=\"display:inline;vertical-align:middle;\" /></a> <a class=\"ProveItLink\" href=\"../__pv_it/demonstrations/38f9d60e3536c4972653b8d5a44d1345a35d46e60/proof.ipynb\" style=\"text-decoration: none\">&nbsp;&#x22A2;&nbsp;&nbsp;</a><a class=\"ProveItLink\" href=\"../__pv_it/demonstrations/fe935a771c114d0eb523f2ae8a32c688e8db831a0/expr.ipynb\"><img src=\"data:image/png;base64,iVBORw0KGgoAAAANSUhEUgAAAHkAAAAVBAMAAACQ4lxbAAAAMFBMVEX///8yMjKqqqoiIiJmZmaY\n",
       "mJju7u5EREQQEBBUVFTMzMyIiIi6urp2dnbc3NwAAABRd72LAAAAAXRSTlMAQObYZgAAAAlwSFlz\n",
       "AAAOxAAADsQBlSsOGwAAAU1JREFUOMuNlLFKw1AUhv8maRKNbbIouMUHEIL2AbJ0FDO4m80xGQVB\n",
       "XNwcqqsUCr5A5gqlo+DQgJPiEHByq0tn7w0kiOcfciHLz/fl5J6Te1FBrqGMKh59Enuw/J94oaRe\n",
       "pW1fRsw+JJSXyNq9mNh2QCjsSdsPiW0lhMKZtFcpsV0QCm4q7DfWtQMQCr1E28Ppomjz/ecHaZ+A\n",
       "UBhMtP1SOZu2Pz9pVtW2dVyviU53QSj0A2Xbt7CiJjc2cAtR+wiEgnGjbGsNs6xfqCsG8Eth34FQ\n",
       "2F4r282R1fhIPYpYhcyWFHZ07azA+d9BnqZi3+rLJQUj0naIe6M5Bf5MbVDUvgKh0M+V7RTGyGq4\n",
       "rcSJpf0OQsEqdc8fP77n7SymY/K3PIFQMJfdTqg5IxS+Op7vfszscdfb4ZrdQHlX+4JQjprAnOSe\n",
       "2OawkNQC+AUVk3quRuessAAAAABJRU5ErkJggg==\n",
       "\" style=\"display:inline;vertical-align:middle;\" /></a></span>"
      ],
      "text/plain": [
       "{a in Natural, b in Natural} |- |a * b| = (a * b)"
      ]
     },
     "metadata": {},
     "output_type": "display_data"
    }
   ],
   "source": [
    "abs_value_a_times_b.simplification(\n",
    "    assumptions=[InSet(a, Natural), InSet(b, Natural)])"
   ]
  },
  {
   "cell_type": "code",
   "execution_count": 85,
   "metadata": {},
   "outputs": [
    {
     "data": {
      "text/html": [
       "<span style=\"font-size:20px;\"><a class=\"ProveItLink\" href=\"../__pv_it/demonstrations/4a4701c918ed0b49c63799c553f955d19a924f1a0/expr.ipynb\"><img src=\"data:image/png;base64,iVBORw0KGgoAAAANSUhEUgAAAEgAAAAUBAMAAADcj2b4AAAAMFBMVEX///8AAAAAAAAAAAAAAAAA\n",
       "AAAAAAAAAAAAAAAAAAAAAAAAAAAAAAAAAAAAAAAAAAAv3aB7AAAAD3RSTlMAIquJdkTvuxBmmd1U\n",
       "zTKBpmoTAAAACXBIWXMAAA7EAAAOxAGVKw4bAAABK0lEQVQoz2NgwAmeB4ApY2cGPIDD/ACQ5HRg\n",
       "LcCnisF9AgMD2wOGj3gVMUx3YJBvYMjBIjM3vf52+gQIe5rA+waGndj0FwgxBE1vALGaSxmAilKw\n",
       "KhJmYOdTADKk9BhA1v3BoYhL4AIDgxBQDYbD3XfvvgBXVMDQtBDEYXFgVUBSE+uBMImpQ4GhA8Iz\n",
       "9gI6j1HZ0QHEYbyBZN3zswIoLggTYP8BonnhwgVit397oAZ+JgPXBrAiJIfP7AXFXTkQQHRyfWDg\n",
       "NgAxnu0GggKIIvbOCSgmsRUw9IOjux3JJL4FFSiK+h0Y5oMZ3MjhtE4cVdEBBl0eAXCAIClqZ0Gx\n",
       "j92BZxcXmHUHrkiKgXNCKYrvVOyE/MCsptIGWCooZCi/fwB76gmuhkQLBgAA7rpMGB8itmIAAAAA\n",
       "SUVORK5CYII=\n",
       "\" style=\"display:inline;vertical-align:middle;\" /></a>, <a class=\"ProveItLink\" href=\"../../addition/subtraction/__pv_it/theorems/5d56aa038eb34c97b005be8161434236efec38e90/expr.ipynb\"><img src=\"data:image/png;base64,iVBORw0KGgoAAAANSUhEUgAAADEAAAAQBAMAAABNQoq8AAAAMFBMVEX///+YmJjMzMzc3NyIiIhU\n",
       "VFR2dna6urqqqqpmZmYyMjIiIiIQEBBERETu7u4AAAD7tRWPAAAAAXRSTlMAQObYZgAAAAlwSFlz\n",
       "AAAOxAAADsQBlSsOGwAAAOVJREFUGNNjYEAHr//eesCQ86eAge/OBjSpG+wBDHwfgAyuCWgy0QaJ\n",
       "DAwHgAz+BjSZiAtcBgwgg+ofQEV8d+9eAKKDRZgXgGWyoRJVflBGMKuCG1hmqUsEiM+8DmZaMMMF\n",
       "3gKgDN+vB+8NQA4xQMho8u0DynD8Y+BxAMkwIGQYG3qBbuNcwMCfAOTr7AaCCxAZhjhWoAx3AkM9\n",
       "yN1vkfQwPOXbAPbOfJC7uZFlmByAuvkV+A6C+CwOMJlLQOwElGEV4IUEzwqYDIgBtJ2BL2wiRODp\n",
       "dUhgaP0BqudbgBxeZbd3I/MB9+pAMX9TA7AAAAAASUVORK5CYII=\n",
       "\" style=\"display:inline;vertical-align:middle;\" /></a> <a class=\"ProveItLink\" href=\"../__pv_it/demonstrations/cd8fb009b888575e2de81e2528fd1535845cec830/proof.ipynb\" style=\"text-decoration: none\">&nbsp;&#x22A2;&nbsp;&nbsp;</a><a class=\"ProveItLink\" href=\"../__pv_it/demonstrations/fe935a771c114d0eb523f2ae8a32c688e8db831a0/expr.ipynb\"><img src=\"data:image/png;base64,iVBORw0KGgoAAAANSUhEUgAAAHkAAAAVBAMAAACQ4lxbAAAAMFBMVEX///8yMjKqqqoiIiJmZmaY\n",
       "mJju7u5EREQQEBBUVFTMzMyIiIi6urp2dnbc3NwAAABRd72LAAAAAXRSTlMAQObYZgAAAAlwSFlz\n",
       "AAAOxAAADsQBlSsOGwAAAU1JREFUOMuNlLFKw1AUhv8maRKNbbIouMUHEIL2AbJ0FDO4m80xGQVB\n",
       "XNwcqqsUCr5A5gqlo+DQgJPiEHByq0tn7w0kiOcfciHLz/fl5J6Te1FBrqGMKh59Enuw/J94oaRe\n",
       "pW1fRsw+JJSXyNq9mNh2QCjsSdsPiW0lhMKZtFcpsV0QCm4q7DfWtQMQCr1E28Ppomjz/ecHaZ+A\n",
       "UBhMtP1SOZu2Pz9pVtW2dVyviU53QSj0A2Xbt7CiJjc2cAtR+wiEgnGjbGsNs6xfqCsG8Eth34FQ\n",
       "2F4r282R1fhIPYpYhcyWFHZ07azA+d9BnqZi3+rLJQUj0naIe6M5Bf5MbVDUvgKh0M+V7RTGyGq4\n",
       "rcSJpf0OQsEqdc8fP77n7SymY/K3PIFQMJfdTqg5IxS+Op7vfszscdfb4ZrdQHlX+4JQjprAnOSe\n",
       "2OawkNQC+AUVk3quRuessAAAAABJRU5ErkJggg==\n",
       "\" style=\"display:inline;vertical-align:middle;\" /></a></span>"
      ],
      "text/plain": [
       "{a in RealNonNeg, b in Natural} |- |a * b| = (a * b)"
      ]
     },
     "metadata": {},
     "output_type": "display_data"
    }
   ],
   "source": [
    "abs_value_a_times_b.simplification(\n",
    "    assumptions=[InSet(a, RealNonNeg), InSet(b, Natural)])"
   ]
  },
  {
   "cell_type": "code",
   "execution_count": 86,
   "metadata": {},
   "outputs": [
    {
     "data": {
      "text/html": [
       "<strong id=\"test_neg\">test_neg:</strong> <a class=\"ProveItLink\" href=\"../__pv_it/demonstrations/a6c948e632936ae78a08814c51c59199163f90120/expr.ipynb\"><img src=\"data:image/png;base64,iVBORw0KGgoAAAANSUhEUgAAAGYAAAAVBAMAAABGR4Y+AAAAMFBMVEX///9UVFREREQQEBCYmJhm\n",
       "ZmaqqqoiIiIyMjLu7u7MzMyIiIi6urp2dnbc3NwAAABrgXSFAAAAAXRSTlMAQObYZgAAAAlwSFlz\n",
       "AAAOxAAADsQBlSsOGwAAAVRJREFUOMt9079Lw0AUB/CvaZqaHw3dHASb3cGgg5tm6V7E0FE3J6Xg\n",
       "EBCkwUXcIi6O+Qukk0NByd4lux1OF4cunURooV7ugjR3SV+GO+7xufdIXkCwGjZ98igmVs4IJoXD\n",
       "VzSTfDspMWOeKKS0tNLY/l0M05PNMyrNF5oL4EE2p7KxPL7uAAdARzaubLQhX48jtAlqkWi0sNps\n",
       "Ae0Ym55o6ik3nx9TydAY0GxLNNkt1FhH2ItkY8wBNRRN45yZJw+9kjoNWkNzudHvgyxioJYwcwbc\n",
       "clMPguvDIGgxc5LVmol1crMPfSHXUTNpueW96XOoM9lcwibQ+qJRhsz8YCO8Eo2RwoygOqLJ3iTt\n",
       "bRcX3a5ovn2/x79G0Rh9Zh7fXrZj0QyWy1/afSLNzk31HOTV5HnrVM/o/xCLRiHr/znbkY3urDcK\n",
       "YYlR4XAKM863oxLzzhJ/uYGJKEqfK5UAAAAASUVORK5CYII=\n",
       "\" style=\"display:inline;vertical-align:middle;\" /></a><br>"
      ],
      "text/plain": [
       "<IPython.core.display.HTML object>"
      ]
     },
     "metadata": {},
     "output_type": "display_data"
    }
   ],
   "source": [
    "# an extra test expression, slightly more interesting\n",
    "test_neg = Abs(Neg(Add(Abs(a), two)))"
   ]
  },
  {
   "cell_type": "code",
   "execution_count": 87,
   "metadata": {},
   "outputs": [
    {
     "data": {
      "text/html": [
       "<strong id=\"test_neg_simp01\">test_neg_simp01:</strong> <span style=\"font-size:20px;\"><a class=\"ProveItLink\" href=\"../../number_sets/real_numbers/__pv_it/theorems/dd2b896e91f2ac33d7fb1ba61c4378fe7b9a97050/expr.ipynb\"><img src=\"data:image/png;base64,iVBORw0KGgoAAAANSUhEUgAAAD8AAAATBAMAAADVH8ihAAAAMFBMVEX////MzMwyMjKqqqoiIiJm\n",
       "ZmaYmJju7u5EREQQEBC6urqIiIh2dnZUVFTc3NwAAAAqL9KcAAAAAXRSTlMAQObYZgAAAAlwSFlz\n",
       "AAAOxAAADsQBlSsOGwAAAN5JREFUKM9jYMADWBkIAA4yFSTN6FeZkYDPhIa3DGszCvApeMPAwXiB\n",
       "IaKjs6MjAYcC1gcKWEzY4eKiAFfQgKlg0XaECbzlF+AK+O7s2wCm1ZGskDB6AFew8gHHdxDN9ACu\n",
       "4KXKl+3wkGSfxsDqAFaA5Mi0IqTw/sDAcgDEkHQBggaIAo4yhPc4GxjqF4AYFUgmMAa0w3n1Gxjy\n",
       "wQwW5HAIfIFQYMBwiRnkPu4NSAoquOF2cGxgdoXEuzJcwVMGtoQuGI/99sG3G8Gs2q4CWGz2MXTo\n",
       "G2DGwZoWSFCjAAAaDkU0dYR17AAAAABJRU5ErkJggg==\n",
       "\" style=\"display:inline;vertical-align:middle;\" /></a> <a class=\"ProveItLink\" href=\"../__pv_it/demonstrations/2bfa3e194c8a7a9da6b80845e7d0731d7c6cf5470/proof.ipynb\" style=\"text-decoration: none\">&nbsp;&#x22A2;&nbsp;&nbsp;</a><a class=\"ProveItLink\" href=\"../__pv_it/demonstrations/47ac6a570295322596a8b58d6906821445c4e45a0/expr.ipynb\"><img src=\"data:image/png;base64,iVBORw0KGgoAAAANSUhEUgAAAL8AAAAVBAMAAADlQyK9AAAAMFBMVEX///9UVFREREQQEBCYmJhm\n",
       "ZmaqqqoiIiIyMjLu7u7MzMyIiIi6urp2dnbc3NwAAABrgXSFAAAAAXRSTlMAQObYZgAAAAlwSFlz\n",
       "AAAOxAAADsQBlSsOGwAAAf5JREFUOMt9lb1PAjEYh38i3+CFzcFE2R0kMrgpizsxEEbdHIwG43AJ\n",
       "iZG4uWFcGPkLjJODiYbBjYVdhtPFgYXJmEii7bVX2ntbX3I5rvd7+rT30UMAvTz2k2WeWLR5tNnS\n",
       "tMhPjJZHrAzl34kFGLFNBXTKUaN4P+mxU+A1rwco1GwCRllmFeWNfvpwCj6wMgdubIK+bfAqb/TT\n",
       "oIJiTezXgSqwbxM0jKPXWN4QVKgg/SD2ez1sBFjuWQQV4+gkltcF6a5bsApsDJCtUQGnqEDldUFq\n",
       "LATvb1MiYHXFzpaogFMC0QUqrwuy4iEp7mKrRwX5HyDZlYKWz+s8ogRiCmReF2SOQsFdDS3LDDIl\n",
       "dlShM+CUQEyBzE/QDwfTYU3Lw1BwCFwKQcr3L3Z8vxQCB3xUMyrglEDCiVXlxKL8JBZl/DZyczqD\n",
       "JNcUK3aBQIwZRHl6iXI/SM6o4BRegHSb3gNGScQQRHldkHgIBV9Y6p7FBfkxCj0ky3QGjJKILlB5\n",
       "XcAeKs5v4rhejws+m81W+EgSAacEogtUXhfk26Hg9vl+bRAXXP3+frPLMaQCTglEF6i8sVR03G+y\n",
       "HJdtLerY3mSVNwT77sWOroY6RRc7lTcEieD/D45XtgkSgeuDw/NGP7ny/wLeFRUwylE8/2S0TFGQ\n",
       "9yp2QtQL21RApxzF8n9hhssf/BYucQAAAABJRU5ErkJggg==\n",
       "\" style=\"display:inline;vertical-align:middle;\" /></a></span><br>"
      ],
      "text/plain": [
       "<IPython.core.display.HTML object>"
      ]
     },
     "metadata": {},
     "output_type": "display_data"
    }
   ],
   "source": [
    "# this one is interesting: reaching down inside an Abs to\n",
    "# simplify another Abs, but not clear how it knows to do that\n",
    "test_neg_simp01 = test_neg.simplification(\n",
    "    assumptions=[InSet(a, RealPos)])"
   ]
  },
  {
   "cell_type": "code",
   "execution_count": 88,
   "metadata": {},
   "outputs": [
    {
     "data": {
      "text/html": [
       "<strong id=\"test_neg_simp02\">test_neg_simp02:</strong> <span style=\"font-size:20px;\"><a class=\"ProveItLink\" href=\"../__pv_it/demonstrations/4a4701c918ed0b49c63799c553f955d19a924f1a0/expr.ipynb\"><img src=\"data:image/png;base64,iVBORw0KGgoAAAANSUhEUgAAAEgAAAAUBAMAAADcj2b4AAAAMFBMVEX///8AAAAAAAAAAAAAAAAA\n",
       "AAAAAAAAAAAAAAAAAAAAAAAAAAAAAAAAAAAAAAAAAAAv3aB7AAAAD3RSTlMAIquJdkTvuxBmmd1U\n",
       "zTKBpmoTAAAACXBIWXMAAA7EAAAOxAGVKw4bAAABK0lEQVQoz2NgwAmeB4ApY2cGPIDD/ACQ5HRg\n",
       "LcCnisF9AgMD2wOGj3gVMUx3YJBvYMjBIjM3vf52+gQIe5rA+waGndj0FwgxBE1vALGaSxmAilKw\n",
       "KhJmYOdTADKk9BhA1v3BoYhL4AIDgxBQDYbD3XfvvgBXVMDQtBDEYXFgVUBSE+uBMImpQ4GhA8Iz\n",
       "9gI6j1HZ0QHEYbyBZN3zswIoLggTYP8BonnhwgVit397oAZ+JgPXBrAiJIfP7AXFXTkQQHRyfWDg\n",
       "NgAxnu0GggKIIvbOCSgmsRUw9IOjux3JJL4FFSiK+h0Y5oMZ3MjhtE4cVdEBBl0eAXCAIClqZ0Gx\n",
       "j92BZxcXmHUHrkiKgXNCKYrvVOyE/MCsptIGWCooZCi/fwB76gmuhkQLBgAA7rpMGB8itmIAAAAA\n",
       "SUVORK5CYII=\n",
       "\" style=\"display:inline;vertical-align:middle;\" /></a>, <a class=\"ProveItLink\" href=\"../__pv_it/demonstrations/54811f013bc59fbeea36022d4e9742328dadd5e70/expr.ipynb\"><img src=\"data:image/png;base64,iVBORw0KGgoAAAANSUhEUgAAAHoAAAAYBAMAAADHS/SGAAAAMFBMVEX///8AAAAAAAAAAAAAAAAA\n",
       "AAAAAAAAAAAAAAAAAAAAAAAAAAAAAAAAAAAAAAAAAAAv3aB7AAAAD3RSTlMAInZUiRDNmWbv3US7\n",
       "qzJazP2FAAAACXBIWXMAAA7EAAAOxAGVKw4bAAACDElEQVQ4y52UP0gbURzHv96hl8vlwhUEKRi8\n",
       "gtIOUjKI0E4OjlZvUOkQMSCCuGhBzCaZRCGlpUUQdQh0SD0RMojgIJxCl0baIOIoDi6KEKW4dGj6\n",
       "e3mavndeWpsf3N3v/fm83+/9/hzw/3KZr3x621GPNPbF6R2yDa8uHJ1pQD/FNalWjS0Nf8EzNtoc\n",
       "fASUeI0dhu2bmF/7PrmW5vqiVXLwGegKIltmvwHP/LNeDLsZh2mDBRD9AY3JIKc9DOTR5PjpZkSi\n",
       "RXb4CZjnP6ClJW/5yLSgv0do+j6tWWQtRjCPmi6tq/yu+g1MCujSXYhdN1mlPYy8YQPFNoroDqLN\n",
       "LMxfwASf3O74Y9scKmKIj3qfOphh1zx6Yks0SfgKeMWDMC54ftktJZidv2NFbvx0ibT5itZU3e89\n",
       "nvzZIfn6iSpvGVrWT2/S84LTQtQWhlmdH5DwI1cB7QrhHlI1111fcV2WEmishkuVHecuicfpyGsp\n",
       "RYzWPYzmfbbfstdORU0ItqPTX/yej9p4J8ccag8eAS95/MR8z7VK9D7RcRyrlkSfARSeDHhiBTqh\n",
       "SK5TViK2mtMk2w25VIriOMMnx6p0C0LpgkhfUMwP+2PPJTpcLpepujb45EjBueuxPRxMiT0ZPg2o\n",
       "tdteuU0jtr66yeAullvBEG8lN1Cw7NVcaX3APypRx7nC7ewaC4r1T/Y3wFh+E/T8hF0AAAAASUVO\n",
       "RK5CYII=\n",
       "\" style=\"display:inline;vertical-align:middle;\" /></a> <a class=\"ProveItLink\" href=\"../__pv_it/demonstrations/1f297d44e1d9c66645a2a8aafa9e49985a4d6f290/proof.ipynb\" style=\"text-decoration: none\">&nbsp;&#x22A2;&nbsp;&nbsp;</a><a class=\"ProveItLink\" href=\"../__pv_it/demonstrations/47ac6a570295322596a8b58d6906821445c4e45a0/expr.ipynb\"><img src=\"data:image/png;base64,iVBORw0KGgoAAAANSUhEUgAAAL8AAAAVBAMAAADlQyK9AAAAMFBMVEX///9UVFREREQQEBCYmJhm\n",
       "ZmaqqqoiIiIyMjLu7u7MzMyIiIi6urp2dnbc3NwAAABrgXSFAAAAAXRSTlMAQObYZgAAAAlwSFlz\n",
       "AAAOxAAADsQBlSsOGwAAAf5JREFUOMt9lb1PAjEYh38i3+CFzcFE2R0kMrgpizsxEEbdHIwG43AJ\n",
       "iZG4uWFcGPkLjJODiYbBjYVdhtPFgYXJmEii7bVX2ntbX3I5rvd7+rT30UMAvTz2k2WeWLR5tNnS\n",
       "tMhPjJZHrAzl34kFGLFNBXTKUaN4P+mxU+A1rwco1GwCRllmFeWNfvpwCj6wMgdubIK+bfAqb/TT\n",
       "oIJiTezXgSqwbxM0jKPXWN4QVKgg/SD2ez1sBFjuWQQV4+gkltcF6a5bsApsDJCtUQGnqEDldUFq\n",
       "LATvb1MiYHXFzpaogFMC0QUqrwuy4iEp7mKrRwX5HyDZlYKWz+s8ogRiCmReF2SOQsFdDS3LDDIl\n",
       "dlShM+CUQEyBzE/QDwfTYU3Lw1BwCFwKQcr3L3Z8vxQCB3xUMyrglEDCiVXlxKL8JBZl/DZyczqD\n",
       "JNcUK3aBQIwZRHl6iXI/SM6o4BRegHSb3gNGScQQRHldkHgIBV9Y6p7FBfkxCj0ky3QGjJKILlB5\n",
       "XcAeKs5v4rhejws+m81W+EgSAacEogtUXhfk26Hg9vl+bRAXXP3+frPLMaQCTglEF6i8sVR03G+y\n",
       "HJdtLerY3mSVNwT77sWOroY6RRc7lTcEieD/D45XtgkSgeuDw/NGP7ny/wLeFRUwylE8/2S0TFGQ\n",
       "9yp2QtQL21RApxzF8n9hhssf/BYucQAAAABJRU5ErkJggg==\n",
       "\" style=\"display:inline;vertical-align:middle;\" /></a></span><br>"
      ],
      "text/plain": [
       "<IPython.core.display.HTML object>"
      ]
     },
     "metadata": {},
     "output_type": "display_data"
    }
   ],
   "source": [
    "test_neg_simp02 = test_neg.simplification(\n",
    "    assumptions=[InSet(a, RealNonNeg),\n",
    "                 InSet(Add(a, two),\n",
    "                 RealNonNeg)])"
   ]
  },
  {
   "cell_type": "code",
   "execution_count": 89,
   "metadata": {},
   "outputs": [
    {
     "data": {
      "text/html": [
       "<span style=\"font-size:20px;\"><a class=\"ProveItLink\" href=\"../__pv_it/demonstrations/4a4701c918ed0b49c63799c553f955d19a924f1a0/expr.ipynb\"><img src=\"data:image/png;base64,iVBORw0KGgoAAAANSUhEUgAAAEgAAAAUBAMAAADcj2b4AAAAMFBMVEX///8AAAAAAAAAAAAAAAAA\n",
       "AAAAAAAAAAAAAAAAAAAAAAAAAAAAAAAAAAAAAAAAAAAv3aB7AAAAD3RSTlMAIquJdkTvuxBmmd1U\n",
       "zTKBpmoTAAAACXBIWXMAAA7EAAAOxAGVKw4bAAABK0lEQVQoz2NgwAmeB4ApY2cGPIDD/ACQ5HRg\n",
       "LcCnisF9AgMD2wOGj3gVMUx3YJBvYMjBIjM3vf52+gQIe5rA+waGndj0FwgxBE1vALGaSxmAilKw\n",
       "KhJmYOdTADKk9BhA1v3BoYhL4AIDgxBQDYbD3XfvvgBXVMDQtBDEYXFgVUBSE+uBMImpQ4GhA8Iz\n",
       "9gI6j1HZ0QHEYbyBZN3zswIoLggTYP8BonnhwgVit397oAZ+JgPXBrAiJIfP7AXFXTkQQHRyfWDg\n",
       "NgAxnu0GggKIIvbOCSgmsRUw9IOjux3JJL4FFSiK+h0Y5oMZ3MjhtE4cVdEBBl0eAXCAIClqZ0Gx\n",
       "j92BZxcXmHUHrkiKgXNCKYrvVOyE/MCsptIGWCooZCi/fwB76gmuhkQLBgAA7rpMGB8itmIAAAAA\n",
       "SUVORK5CYII=\n",
       "\" style=\"display:inline;vertical-align:middle;\" /></a>, <a class=\"ProveItLink\" href=\"../__pv_it/demonstrations/54811f013bc59fbeea36022d4e9742328dadd5e70/expr.ipynb\"><img src=\"data:image/png;base64,iVBORw0KGgoAAAANSUhEUgAAAHoAAAAYBAMAAADHS/SGAAAAMFBMVEX///8AAAAAAAAAAAAAAAAA\n",
       "AAAAAAAAAAAAAAAAAAAAAAAAAAAAAAAAAAAAAAAAAAAv3aB7AAAAD3RSTlMAInZUiRDNmWbv3US7\n",
       "qzJazP2FAAAACXBIWXMAAA7EAAAOxAGVKw4bAAACDElEQVQ4y52UP0gbURzHv96hl8vlwhUEKRi8\n",
       "gtIOUjKI0E4OjlZvUOkQMSCCuGhBzCaZRCGlpUUQdQh0SD0RMojgIJxCl0baIOIoDi6KEKW4dGj6\n",
       "e3mavndeWpsf3N3v/fm83+/9/hzw/3KZr3x621GPNPbF6R2yDa8uHJ1pQD/FNalWjS0Nf8EzNtoc\n",
       "fASUeI0dhu2bmF/7PrmW5vqiVXLwGegKIltmvwHP/LNeDLsZh2mDBRD9AY3JIKc9DOTR5PjpZkSi\n",
       "RXb4CZjnP6ClJW/5yLSgv0do+j6tWWQtRjCPmi6tq/yu+g1MCujSXYhdN1mlPYy8YQPFNoroDqLN\n",
       "LMxfwASf3O74Y9scKmKIj3qfOphh1zx6Yks0SfgKeMWDMC54ftktJZidv2NFbvx0ibT5itZU3e89\n",
       "nvzZIfn6iSpvGVrWT2/S84LTQtQWhlmdH5DwI1cB7QrhHlI1111fcV2WEmishkuVHecuicfpyGsp\n",
       "RYzWPYzmfbbfstdORU0ItqPTX/yej9p4J8ccag8eAS95/MR8z7VK9D7RcRyrlkSfARSeDHhiBTqh\n",
       "SK5TViK2mtMk2w25VIriOMMnx6p0C0LpgkhfUMwP+2PPJTpcLpepujb45EjBueuxPRxMiT0ZPg2o\n",
       "tdteuU0jtr66yeAullvBEG8lN1Cw7NVcaX3APypRx7nC7ewaC4r1T/Y3wFh+E/T8hF0AAAAASUVO\n",
       "RK5CYII=\n",
       "\" style=\"display:inline;vertical-align:middle;\" /></a> <a class=\"ProveItLink\" href=\"../__pv_it/demonstrations/1f297d44e1d9c66645a2a8aafa9e49985a4d6f290/proof.ipynb\" style=\"text-decoration: none\">&nbsp;&#x22A2;&nbsp;&nbsp;</a><a class=\"ProveItLink\" href=\"../__pv_it/demonstrations/47ac6a570295322596a8b58d6906821445c4e45a0/expr.ipynb\"><img src=\"data:image/png;base64,iVBORw0KGgoAAAANSUhEUgAAAL8AAAAVBAMAAADlQyK9AAAAMFBMVEX///9UVFREREQQEBCYmJhm\n",
       "ZmaqqqoiIiIyMjLu7u7MzMyIiIi6urp2dnbc3NwAAABrgXSFAAAAAXRSTlMAQObYZgAAAAlwSFlz\n",
       "AAAOxAAADsQBlSsOGwAAAf5JREFUOMt9lb1PAjEYh38i3+CFzcFE2R0kMrgpizsxEEbdHIwG43AJ\n",
       "iZG4uWFcGPkLjJODiYbBjYVdhtPFgYXJmEii7bVX2ntbX3I5rvd7+rT30UMAvTz2k2WeWLR5tNnS\n",
       "tMhPjJZHrAzl34kFGLFNBXTKUaN4P+mxU+A1rwco1GwCRllmFeWNfvpwCj6wMgdubIK+bfAqb/TT\n",
       "oIJiTezXgSqwbxM0jKPXWN4QVKgg/SD2ez1sBFjuWQQV4+gkltcF6a5bsApsDJCtUQGnqEDldUFq\n",
       "LATvb1MiYHXFzpaogFMC0QUqrwuy4iEp7mKrRwX5HyDZlYKWz+s8ogRiCmReF2SOQsFdDS3LDDIl\n",
       "dlShM+CUQEyBzE/QDwfTYU3Lw1BwCFwKQcr3L3Z8vxQCB3xUMyrglEDCiVXlxKL8JBZl/DZyczqD\n",
       "JNcUK3aBQIwZRHl6iXI/SM6o4BRegHSb3gNGScQQRHldkHgIBV9Y6p7FBfkxCj0ky3QGjJKILlB5\n",
       "XcAeKs5v4rhejws+m81W+EgSAacEogtUXhfk26Hg9vl+bRAXXP3+frPLMaQCTglEF6i8sVR03G+y\n",
       "HJdtLerY3mSVNwT77sWOroY6RRc7lTcEieD/D45XtgkSgeuDw/NGP7ny/wLeFRUwylE8/2S0TFGQ\n",
       "9yp2QtQL21RApxzF8n9hhssf/BYucQAAAABJRU5ErkJggg==\n",
       "\" style=\"display:inline;vertical-align:middle;\" /></a></span>"
      ],
      "text/plain": [
       "{a in RealNonNeg, (a + 2) in RealNonNeg} |- |-(|a| + 2)| = (a + 2)"
      ]
     },
     "metadata": {},
     "output_type": "display_data"
    }
   ],
   "source": [
    "# then it takes a little work to then eliminate the double negative\n",
    "test_neg_simp02.inner_expr().rhs.simplify(\n",
    "    assumptions=[InSet(a, RealNonNeg)])"
   ]
  },
  {
   "cell_type": "code",
   "execution_count": 90,
   "metadata": {},
   "outputs": [
    {
     "data": {
      "text/html": [
       "<span style=\"font-size:20px;\"><a class=\"ProveItLink\" href=\"../__pv_it/demonstrations/86864e4bc25973dc96fd9982130a63d33fdaaaea0/expr.ipynb\"><img src=\"data:image/png;base64,iVBORw0KGgoAAAANSUhEUgAAAEAAAAATBAMAAADSXRa0AAAAMFBMVEX///8AAAAAAAAAAAAAAAAA\n",
       "AAAAAAAAAAAAAAAAAAAAAAAAAAAAAAAAAAAAAAAAAAAv3aB7AAAAD3RSTlMAEHarMolUmd1mIs3v\n",
       "RLtmgJDEAAAACXBIWXMAAA7EAAAOxAGVKw4bAAAA7klEQVQoz2NgwAcKGAiAB+QpYOx/t5GB9fxZ\n",
       "3CbwJVxmYJDHYwVzF+sEBh4G9nfvzr17iVVBHsMuBg4sJuh1dGwAK1ipsBqbgtuKMBMWmDAFIBQI\n",
       "KYuEJgBpro1wKxbwMbxFKChgMmJvANLcCxAKWAokJGAhybmA8yPzBJAChCMXMExjewPjsTCwg13G\n",
       "4NMBBA+gCpgFbBCO41EAU3LIJjAaSCAU3F/AKACkOJAVMDjxwXhyF2wYWEEMJgV4UDsAeX4wXr5j\n",
       "DcM1MGsbTIgb5OtqGE9cia0yAcwSfisAcfb+c0BSGkscXH0BCWoUAACz1jmMfap6cwAAAABJRU5E\n",
       "rkJggg==\n",
       "\" style=\"display:inline;vertical-align:middle;\" /></a> <a class=\"ProveItLink\" href=\"../__pv_it/demonstrations/3d90de0cb64fbf63e520352e7ba982eea27e19f10/proof.ipynb\" style=\"text-decoration: none\">&nbsp;&#x22A2;&nbsp;&nbsp;</a><a class=\"ProveItLink\" href=\"../__pv_it/demonstrations/cdf5349aa99040decf1527a22867e97908c3953d0/expr.ipynb\"><img src=\"data:image/png;base64,iVBORw0KGgoAAAANSUhEUgAAAHYAAAAVBAMAAABh6QfWAAAAMFBMVEX///8AAAAAAAAAAAAAAAAA\n",
       "AAAAAAAAAAAAAAAAAAAAAAAAAAAAAAAAAAAAAAAAAAAv3aB7AAAAD3RSTlMAIolEdjJmzRC73e+Z\n",
       "VKsux0h9AAAACXBIWXMAAA7EAAAOxAGVKw4bAAABDElEQVQ4y2MQYMAKGBmIAMrYhZkMiNbLuI0I\n",
       "vRiKIHqZ/xChF0MR1M0NxLi5ger+JVcvq5tLgfg+hvA9In4OQAEOlxdBuhh6sSpSZuhkYFjAUMfA\n",
       "sO4C60egMA+Dn8MpiF6eVWDwAMjEqkiZwbqBwYFhHgPDbAaGb0DhRIb8hmcY9mJVpMzA9dORASQ8\n",
       "k4HhC1A4gOE4Fv9iVaTMwKH1/wCSMAPDFix6sSpSZpBgYPuKLMz8kaEDw79YFSkzXGFgeIYQ5pjM\n",
       "t4FBAcNerIqUGW43MEwEiVWChXm/9mxgvoChF6siZQYjFyeDuN0v4n4/vfn7AQPHEYc7uZj+xapo\n",
       "4NLkwOh1xS7MEkBYKwCwj36uAUya+wAAAABJRU5ErkJggg==\n",
       "\" style=\"display:inline;vertical-align:middle;\" /></a></span>"
      ],
      "text/plain": [
       "{x in NaturalPos} |- |sin(x)| = sin(x)"
      ]
     },
     "metadata": {},
     "output_type": "display_data"
    }
   ],
   "source": [
    "abs_value_sin_x.simplification(assumptions=[InSet(x, NaturalPos)])"
   ]
  },
  {
   "cell_type": "code",
   "execution_count": 91,
   "metadata": {},
   "outputs": [
    {
     "data": {
      "text/html": [
       "<span style=\"font-size:20px;\"><a class=\"ProveItLink\" href=\"../../ordering/__pv_it/theorems/d1323f34847310a404e8089c2c268d3c2eb89dbf0/expr.ipynb\"><img src=\"data:image/png;base64,iVBORw0KGgoAAAANSUhEUgAAADQAAAAQBAMAAACra0H4AAAAMFBMVEX///9ERES6uroQEBAyMjLc\n",
       "3NyYmJgiIiJmZmaqqqp2dnbMzMxUVFSIiIju7u4AAAAd7oVFAAAAAXRSTlMAQObYZgAAAAlwSFlz\n",
       "AAAOxAAADsQBlSsOGwAAAMtJREFUGNNjYMAAbM6CX4rFGLACRtYDTMfkcEgtYBDYg1OqlQVF6GJ5\n",
       "uQNcihFZRuUekq5zb4CMt3der5oApFn9kAzklnQFMhp4z3IUAGmWAISUSX3tA6AvAtj+8SSApJCc\n",
       "sSwPZCk3AwfYbobN5UAgADVQLg0sxnwBTD1EdvwOxgcgln4AH4hmR5bi2ArU/1DhMAMXSID3ApIU\n",
       "n8A1Bob5+5oZNMEingipBoY0RgWGF3c52yaARd4IPYCF/McARpGfyMGhJQ4JKCgAAF8xNF8aQs/g\n",
       "AAAAAElFTkSuQmCC\n",
       "\" style=\"display:inline;vertical-align:middle;\" /></a> <a class=\"ProveItLink\" href=\"../__pv_it/demonstrations/37014b83f8a49109cdeb9966a32b9a3eb3c5bb7a0/proof.ipynb\" style=\"text-decoration: none\">&nbsp;&#x22A2;&nbsp;&nbsp;</a><a class=\"ProveItLink\" href=\"../__pv_it/demonstrations/8f8ea4280a681a46f52787e1588cc28fcf81fdcb0/expr.ipynb\"><img src=\"data:image/png;base64,iVBORw0KGgoAAAANSUhEUgAAAIAAAAAVBAMAAAB8u/sIAAAAMFBMVEX///8AAAAAAAAAAAAAAAAA\n",
       "AAAAAAAAAAAAAAAAAAAAAAAAAAAAAAAAAAAAAAAAAAAv3aB7AAAAD3RSTlMAIolEdjJmzRC73e+Z\n",
       "VKsux0h9AAAACXBIWXMAAA7EAAAOxAGVKw4bAAABd0lEQVQ4y2MQYMAKcAhjSAswKGNXoYzfAGUE\n",
       "A8KUTiDCAMZtuA2wP0CEAcx/cBvAQZQXGnAbQHEYUGRASIo7Y/UD1uqDLk9AQi1+rUoXMAxgdXMp\n",
       "EN/HEL5HxM8BYgBMnTLHBAYuBvYHDFxvGeJB0XuA5QnPAogBPKvA4AGQ2cnAsIChjoFh3QXWjxAD\n",
       "YOqUmXcwsDBwPmDg3MDAD4xMNgG2H3wJGC6wbmBwYJjHwDCbgeEb2AC4OmWG9VMEwAZMYOAHuo6V\n",
       "gacASxhw/XRkABkwk4HhC1gark6ZoWn9HyQDGBi4HbAYwKH1/wCKAXB1yowNDPkByAbYC3A0YISB\n",
       "BAPbVzQDoOqUeR0Y+BIQBnQavGZgwnTBFQaGZygGwNUp8+5g4BQA6maHGHA/4jSDLaYBtxsYJoJ0\n",
       "V8IMgKtTZlZxUWZ9va/1/b7Y+fsYGHpceI9dwDTAyMXJIG73i7jfT2/+fgCShqsbDEl5oA1wxa7C\n",
       "Fb8BcGlXANhfeoX0ewUhAAAAAElFTkSuQmCC\n",
       "\" style=\"display:inline;vertical-align:middle;\" /></a></span>"
      ],
      "text/plain": [
       "{x in Real} |- |sin(x)| = sin(|x|)"
      ]
     },
     "metadata": {},
     "output_type": "display_data"
    }
   ],
   "source": [
    "abs_value_sin_x.simplification(assumptions=[InSet(x, Real)])"
   ]
  },
  {
   "cell_type": "code",
   "execution_count": 92,
   "metadata": {},
   "outputs": [
    {
     "data": {
      "text/html": [
       "<span style=\"font-size:20px;\"><a class=\"ProveItLink\" href=\"../__pv_it/demonstrations/b7153c0033e407b6f25af7375428bbdcf12a6b600/expr.ipynb\"><img src=\"data:image/png;base64,iVBORw0KGgoAAAANSUhEUgAAADQAAAAQBAMAAACra0H4AAAAMFBMVEX///8AAAAAAAAAAAAAAAAA\n",
       "AAAAAAAAAAAAAAAAAAAAAAAAAAAAAAAAAAAAAAAAAAAv3aB7AAAAD3RSTlMAEHarMolUmd1mIs3v\n",
       "RLtmgJDEAAAACXBIWXMAAA7EAAAOxAGVKw4bAAAA3klEQVQY02NgwACM/e82MrCeP8uABfAlXGZg\n",
       "kMcmw8DcxTqBgQe7VB7DLgYOFCG9jo4NYKmVCqtRpW4rwnQtMGEKAEkJKYuEJgBpro1wAxfwMbwF\n",
       "SRUwGbE3AGnuBQgplgIJCQYGzgWcH5kngKQQzljAMI3tDQMDCwM72G4Gnw4geACVYhawAbF4FMBS\n",
       "csi6GA0kQKz7CxgFgBQHshSDEx9Q8QUbBlaQAJMCPKAcgDw/BoZ8xxqGa2CRbTApbpBfqhkYxJXY\n",
       "KhPAIsJvBcA0y/5zQFIaJaCuvoAEFBQAAFKNLSS7ExREAAAAAElFTkSuQmCC\n",
       "\" style=\"display:inline;vertical-align:middle;\" /></a> <a class=\"ProveItLink\" href=\"../__pv_it/demonstrations/9be203efce99af8eb364f0695c894c386461f0be0/proof.ipynb\" style=\"text-decoration: none\">&nbsp;&#x22A2;&nbsp;&nbsp;</a><a class=\"ProveItLink\" href=\"../__pv_it/demonstrations/bdc086ba20714a55f0e92cc62938e6746fd47be30/expr.ipynb\"><img src=\"data:image/png;base64,iVBORw0KGgoAAAANSUhEUgAAAHsAAAAVBAMAAACUF4xmAAAAMFBMVEX///8AAAAAAAAAAAAAAAAA\n",
       "AAAAAAAAAAAAAAAAAAAAAAAAAAAAAAAAAAAAAAAAAAAv3aB7AAAAD3RSTlMAIolEdjIQmVTvzWbd\n",
       "u6sFjbCZAAAACXBIWXMAAA7EAAAOxAGVKw4bAAABOElEQVQ4y2MQYMAOGBmIAso4xJkMRrXTXHu6\n",
       "kgYDW4m7AUPIFi+gCJvLsyANTO1oqhhS/FKVGoDaGWcwWAbECDBcYbvAwAMUZ2fwc6iBaGc/AwYP\n",
       "QOkATRVDAcsT9gNA7VwLGDoFDjEwxAdPY2ABim9k2J/wGsN2dFXcAtzf+DYAtecrMDCw/mBg4Fc4\n",
       "fwWUBgMYqrD4HV0VKwP7ArDf4x0YGDg+AyUuJJ3/DlY6BYt2TFWcDmDt+QVQcwsTGPYHAIWYPzKk\n",
       "YfgdQxWDvQBbAsTvDA3TgVwLBwagb9gu801gUMDmd2RVDLkGLxmYQLYzzmZgEogMYFjEMY2BV4CB\n",
       "42v6BOYGDO1oqhj6wyoZLCDxXuLIwFikZ8Cs4gLksZU4tO/AkmxQVTGku3BUN4zsLOOKQ5wlgBjd\n",
       "AJ47aEUhFVoSAAAAAElFTkSuQmCC\n",
       "\" style=\"display:inline;vertical-align:middle;\" /></a></span>"
      ],
      "text/plain": [
       "{x in Natural} |- |cos(x)| = cos(x)"
      ]
     },
     "metadata": {},
     "output_type": "display_data"
    }
   ],
   "source": [
    "abs_value_cos_x.simplification(assumptions=[InSet(x, Natural)])"
   ]
  },
  {
   "cell_type": "code",
   "execution_count": 93,
   "metadata": {},
   "outputs": [
    {
     "data": {
      "text/html": [
       "<span style=\"font-size:20px;\"><a class=\"ProveItLink\" href=\"../../number_sets/real_numbers/__pv_it/theorems/41afbdfa99a88a03fa8266d6b83a02fc90cd2c0f0/expr.ipynb\"><img src=\"data:image/png;base64,iVBORw0KGgoAAAANSUhEUgAAAEAAAAAQBAMAAABUyWQaAAAAMFBMVEX///9ERES6uroQEBAyMjLc\n",
       "3NyYmJgiIiJmZmaqqqp2dnbMzMxUVFSIiIju7u4AAAAd7oVFAAAAAXRSTlMAQObYZgAAAAlwSFlz\n",
       "AAAOxAAADsQBlSsOGwAAANNJREFUKM9jYMAAbM6CX4rFGPAARtYDTMfk8CpYwCCwh4FbEAhEcSlo\n",
       "ZcEicbG83AGugBFTXuUekgnn3sDF3955vWoCkGb1Q7KCW9IVrqCB9yxHAZBmCUAoMKmvfQD3dQDb\n",
       "P54EkAIkRy7Lc4DzuBk4IJzN5UAgALVCLg3JccwXwNRDZG/uYHyAUKAfwAfisSMr4NgqAOM9VDjM\n",
       "wAVi8F5AUsAncA3Gm7+vmUETzPJEKGhgSGNUgPJe3OVsmwBmvRF6AIvNjwGMIj8xg1JLvNwBQxAA\n",
       "NyY0wyIjNwIAAAAASUVORK5CYII=\n",
       "\" style=\"display:inline;vertical-align:middle;\" /></a> <a class=\"ProveItLink\" href=\"../__pv_it/demonstrations/ce191011b47f517870ae07f6f870a9988d7e4c860/proof.ipynb\" style=\"text-decoration: none\">&nbsp;&#x22A2;&nbsp;&nbsp;</a><a class=\"ProveItLink\" href=\"../__pv_it/demonstrations/375e2100e256e49d8b611feb3db59aea455261e50/expr.ipynb\"><img src=\"data:image/png;base64,iVBORw0KGgoAAAANSUhEUgAAAJkAAAAVBAMAAACnAFEqAAAAMFBMVEX///8AAAAAAAAAAAAAAAAA\n",
       "AAAAAAAAAAAAAAAAAAAAAAAAAAAAAAAAAAAAAAAAAAAv3aB7AAAAD3RSTlMAIolEdjIQmVTvzWbd\n",
       "u6sFjbCZAAAACXBIWXMAAA7EAAAOxAGVKw4bAAABqElEQVQ4y6WUvUvDQBjGn/QjTT/N4OgQ1KGT\n",
       "ZHDQyRQqioMEdRGEFgcLXfygkzp0E7cM0gouwcG5glC3FqGb0ID9Azq5uCgiOnqXK/24Syk073bv\n",
       "+zy/vLl776DCOyRMCl5BSQtjtAF9Em2TWy/7oSkalwjVfNCKQubBB+1CyNR90CwhE81PTVNsIRWr\n",
       "UVphPg25tKFj72mLJOXs+05apHGqyNAhMAcCXUKTbrFqHqjoyA4SVIdt45LRIq9udOl0cSrSSD+Y\n",
       "A3Gb0GI2rtUXILdbQYjUHtHIfwi98apEeVBjDigWoR2TnsN/wIzW7tB5NnHusW+8KkrqRbfzVs+B\n",
       "8Ceh5QyC/SY657D96zpvPGi8KjpSpw4E3d5Oel89zaNh0uwXjoR941XDf8ocUJps31CuAmsrBlI1\n",
       "yG8pC5rXvg2rkDQGR8ociDv0TO8QUPdN3CsVJFUoPwUrWBZonIqOQ3/0mIMODZ23UgbS2ZIeXMyS\n",
       "lVwyrp49pndUhXBz0BtzIKFPf7NaQmbOxz2te70DU9OS/KstOT5o5IaJ+PUx4pA56SWf5dYZ4B98\n",
       "hIPeICCuCAAAAABJRU5ErkJggg==\n",
       "\" style=\"display:inline;vertical-align:middle;\" /></a></span>"
      ],
      "text/plain": [
       "{x in RealNeg} |- |cos(x)| = cos(-x)"
      ]
     },
     "metadata": {},
     "output_type": "display_data"
    }
   ],
   "source": [
    "abs_value_cos_x.simplification(assumptions=[InSet(x, RealNeg)])"
   ]
  },
  {
   "cell_type": "markdown",
   "metadata": {},
   "source": [
    "### Bounding an absolute value"
   ]
  },
  {
   "cell_type": "code",
   "execution_count": 94,
   "metadata": {},
   "outputs": [
    {
     "data": {
      "text/html": [
       "<span style=\"font-size:20px;\"><a class=\"ProveItLink\" href=\"../__pv_it/demonstrations/9fdd19d7c1b7f1f35070900a674f7861978f51770/expr.ipynb\"><img src=\"data:image/png;base64,iVBORw0KGgoAAAANSUhEUgAAAFAAAAAVBAMAAAAjqnRBAAAAMFBMVEX////MzMxUVFRERES6uroi\n",
       "IiIQEBCYmJhmZmYyMjLu7u52dnaqqqqIiIjc3NwAAACW8nlqAAAAAXRSTlMAQObYZgAAAAlwSFlz\n",
       "AAAOxAAADsQBlSsOGwAAAUFJREFUKM9jYGB4wIAC0LgIwHsAle+LS+FpdI0F2NVxTUAXmYVdIQeG\n",
       "ARXYFbJhiiyAM3nmIYRPYijkhNvBHoHQw9CN5NwbBQyLGBi4FWDeioao47qrJb2HYTpCITdPAkM9\n",
       "0Byo91bHwrzBcOlCK0MMQqEMRwCDMtBhCWDei3CYeB1D/QJ1hhSg0VNDQUBgAdsFhlwGBsYPIFmm\n",
       "OXADBBg6gWQKkjf8FzB+ZGBgSUBTyADSjmw1UCMvUBFPAJrVDCz/GFYx2CIpNGJgBvqY3QDVM1wm\n",
       "TAkMGxg2ISlsYvAHhiHHBih3bSw4eHg+rkhgOcAgiqRw0d5+YCJjdYAHODgguXovnKgBCgsgx8pO\n",
       "IH6K4LIjRSF7AyLAJ3DlAKl2HOnRDs5ivcAEdB6fAQ6FixFppbYFSDLjygt8F1D597ArAwArtkQm\n",
       "v8ImSQAAAABJRU5ErkJggg==\n",
       "\" style=\"display:inline;vertical-align:middle;\" /></a>, <a class=\"ProveItLink\" href=\"../../ordering/__pv_it/theorems/44d10bba886cb9c03d8c1d01224b9827d41c27660/expr.ipynb\"><img src=\"data:image/png;base64,iVBORw0KGgoAAAANSUhEUgAAADMAAAAQBAMAAABJt1qBAAAAMFBMVEX///9ERES6uroQEBAyMjLc\n",
       "3NyYmJgiIiJmZmaqqqp2dnbMzMxUVFSIiIju7u4AAAAd7oVFAAAAAXRSTlMAQObYZgAAAAlwSFlz\n",
       "AAAOxAAADsQBlSsOGwAAALxJREFUGNNjYCAaTAnAJZPeh8x7e+f1qglQ9vV1YIrvRgLDGyDdwHuW\n",
       "owAisvwCRAUXpwFDPgMDWwDbP54EkABrewJU806g2oMMDNwMHA4QgSMwYxkeMF9gsAUxmC+gSzHo\n",
       "P+D+DaYD+B6gGsjQwsBrwMDwUOEwAxcDqjMYZBgYDzAwzN/XzKAJFeG7fg/C6GHQB5rw4i5nG8KS\n",
       "dIjH3qztxwyVFKjQEhzBxeXAZ4lDiv0CzwIcUpy5TUASAGGrMQVvAWw0AAAAAElFTkSuQmCC\n",
       "\" style=\"display:inline;vertical-align:middle;\" /></a> <a class=\"ProveItLink\" href=\"../__pv_it/demonstrations/2e697123e2840683032c87dd2de64c8ba65d185e0/proof.ipynb\" style=\"text-decoration: none\">&nbsp;&#x22A2;&nbsp;&nbsp;</a><a class=\"ProveItLink\" href=\"../__pv_it/demonstrations/b473307caefca1f11a675dc961488f2a46cd08060/expr.ipynb\"><img src=\"data:image/png;base64,iVBORw0KGgoAAAANSUhEUgAAADwAAAAVBAMAAADocZC/AAAAMFBMVEX///9EREQQEBAyMjKYmJgi\n",
       "IiJmZmaqqqpUVFTu7u7MzMyIiIi6urp2dnbc3NwAAADEFDsHAAAAAXRSTlMAQObYZgAAAAlwSFlz\n",
       "AAAOxAAADsQBlSsOGwAAANRJREFUKM9jeMAAAXwMWMEdKM17YFBIs9vhk2YJm4Aszbm7c+11hDR3\n",
       "LER2dgoDZwNQmo1hx4ZUuPTcaKiyC0UMLB+A0n4M/hNaYNLPQqCyXAWpDBwCQOkFDMlwuznMYZZy\n",
       "MmgzMG0AO00bizQDz0+G9QtA0jz/GGZiGM7AZsCwCehyThkOBYYLmE5jbGCQAEqz/5qmwFOA8Njs\n",
       "aIjH2Bp4voB0Z28oc0cJFojHOXu3/cMaqCzQQOU1wBMllxkmFeCRjmboxRehJdtAIrtgMbEAW3QD\n",
       "AK7bTByLbW7jAAAAAElFTkSuQmCC\n",
       "\" style=\"display:inline;vertical-align:middle;\" /></a></span>"
      ],
      "text/plain": [
       "{(-y) < x, x < y} |- |x| < y"
      ]
     },
     "metadata": {},
     "output_type": "display_data"
    }
   ],
   "source": [
    "Abs(x).deduce_strict_upper_bound(y, assumptions=[Less(Neg(y), x), Less(x, y), ])"
   ]
  },
  {
   "cell_type": "code",
   "execution_count": 95,
   "metadata": {},
   "outputs": [
    {
     "data": {
      "text/html": [
       "<span style=\"font-size:20px;\"><a class=\"ProveItLink\" href=\"../__pv_it/demonstrations/3d05ac32934c5ff1eb8cd8143b3625fac7e720840/expr.ipynb\"><img src=\"data:image/png;base64,iVBORw0KGgoAAAANSUhEUgAAAFAAAAAVBAMAAAAjqnRBAAAAMFBMVEX////MzMxUVFRERES6uroi\n",
       "IiIQEBCYmJhmZmYyMjLu7u52dnaqqqqIiIjc3NwAAACW8nlqAAAAAXRSTlMAQObYZgAAAAlwSFlz\n",
       "AAAOxAAADsQBlSsOGwAAAUNJREFUKM9jYGB4wIAC0LgIwHsAle+LS+FpdI0F2NVxTUAXmYVg8sxD\n",
       "sDkwDKiAs9gjFiCE2TDsYIPJ8kYjqWM4iaGQE2rH6lgU4W4k594oYFjEwMCtAOatCIeL39WS3sMw\n",
       "HaGQmyeBoR7oMrD3Fs1BeIPh0oVWhhiEQhmOAAZloFcTQBwmhMI6hvoF6gwpQKOnhoKAwAK2Cwy5\n",
       "DAyMH8DSL+BWCzB0AskUJPf6L2D8yMDAkoDhGaB2ZKuBGnmBingC0IOH5R/DKgZbJIVGDMxAH7Mb\n",
       "oAY4lwlTAsMGhk1ICpsY/IFhyLEBEYUTQcTHFQksBxhEkRQu2tsPTGSsDmipoffCiRqgsACy4E4g\n",
       "foo99bA3IAJ8AlcOkGrHkR7t4CzWC0xA5/FB/LIUHLaBSAoXI5xe2wIkmXHlBb4LqPx72JUBAL6G\n",
       "RnjilsJbAAAAAElFTkSuQmCC\n",
       "\" style=\"display:inline;vertical-align:middle;\" /></a>, <a class=\"ProveItLink\" href=\"../../ordering/__pv_it/theorems/aba6340e84a2dc194f2dc2e8029d9090c42823300/expr.ipynb\"><img src=\"data:image/png;base64,iVBORw0KGgoAAAANSUhEUgAAADMAAAARBAMAAACC64kkAAAAMFBMVEX///9ERES6uroQEBAyMjLc\n",
       "3NyYmJgiIiJmZmaqqqp2dnbMzMxUVFSIiIju7u4AAAAd7oVFAAAAAXRSTlMAQObYZgAAAAlwSFlz\n",
       "AAAOxAAADsQBlSsOGwAAALxJREFUGNNjYEAFUwIYcID0Plwy19fhkOBbfgFV4O2d16smgGXaE2Bq\n",
       "biQwvAHSDbxnOQpA/CMTYKq5OA0Y8hkY2ALY/vGAlSOkdgLVHmRg4GbgcIAIsMINfMB8gcEWxGC+\n",
       "gOEM/Qfcv8F0AN8DNMe3MPAaMDA8VDjMwIXuZRkGxgMMDPP3NTNoIgXUBhDZw6APtPfFXc62Ceie\n",
       "f7O2H2dYMizBIc7lwGeJEoLlYACyi/0CzwIcujhzm4AkACO9NNYnbypiAAAAAElFTkSuQmCC\n",
       "\" style=\"display:inline;vertical-align:middle;\" /></a> <a class=\"ProveItLink\" href=\"../__pv_it/demonstrations/ee3c0c496d45219ae411b5a55eeaff356ee181e10/proof.ipynb\" style=\"text-decoration: none\">&nbsp;&#x22A2;&nbsp;&nbsp;</a><a class=\"ProveItLink\" href=\"../__pv_it/demonstrations/ba617b7ad2a4f3ef2b1c42f784f954aa26c113790/expr.ipynb\"><img src=\"data:image/png;base64,iVBORw0KGgoAAAANSUhEUgAAADwAAAAVBAMAAADocZC/AAAAMFBMVEX///9EREQQEBAyMjKYmJgi\n",
       "IiJmZmaqqqpUVFTu7u7MzMyIiIi6urp2dnbc3NwAAADEFDsHAAAAAXRSTlMAQObYZgAAAAlwSFlz\n",
       "AAAOxAAADsQBlSsOGwAAANhJREFUKM9jeMAAAXwMWMEdKM17gErS7Hb4pFnCJuCR5o6dgMfwudFo\n",
       "dnPu7lx7HSY9LQQmMTuFgbMBKM3GsGNDKlR6hjlc34UiBpYPQGk/Bv8JLVBpDrg0V0EqA4cAUHoB\n",
       "QzLC7mcwwzkZtBmYNoCdpo3NaTw/GdYvAEnz/GOYiekxNgOGTUCXc8pwKDBcwAwWxgYGCaA0+69p\n",
       "CjwFKIFqBdbdwPMFpDt7Q5k7lijh7N32D2+M8Rrgkb7MMKkAXXpqKAhEgZjRDL34kkPJNpDILph3\n",
       "F2BLLACPGE5eo4xr3gAAAABJRU5ErkJggg==\n",
       "\" style=\"display:inline;vertical-align:middle;\" /></a></span>"
      ],
      "text/plain": [
       "{(-y) <= x, x <= y} |- |x| <= y"
      ]
     },
     "metadata": {},
     "output_type": "display_data"
    }
   ],
   "source": [
    "Abs(x).deduce_weak_upper_bound(y, assumptions=[LessEq(Neg(y), x), LessEq(x, y)])"
   ]
  },
  {
   "cell_type": "markdown",
   "metadata": {},
   "source": [
    "### Absolute values involving complex numbers in polar form"
   ]
  },
  {
   "cell_type": "code",
   "execution_count": 96,
   "metadata": {},
   "outputs": [
    {
     "data": {
      "text/html": [
       "<span style=\"font-size:20px;\"><a class=\"ProveItLink\" href=\"../../../trigonometry/__pv_it/theorems/a1b9429f96070e6b5c8221ff574453af02bbc1490/expr.ipynb\"><img src=\"data:image/png;base64,iVBORw0KGgoAAAANSUhEUgAAAEgAAAAUBAMAAADcj2b4AAAAMFBMVEX///9UVFSqqqqIiIi6urru\n",
       "7u4iIiIyMjIQEBCYmJhmZmbc3NxERER2dnbMzMwAAAAssMphAAAAAXRSTlMAQObYZgAAAAlwSFlz\n",
       "AAAOxAAADsQBlSsOGwAAASBJREFUKM9jYMAJ3jiAqbu2DHgA6x0FIMlpwHIAnyoGmwkMDBwPGH7j\n",
       "VcQwx4BhfwBDExaZ6T3ny3omQNgzNrwPYMjEpv/ARgbHOQEgVuwRBqCiZqyK9jLw8AkAGbvkGEDW\n",
       "fcKhiGtDAQPDRqAadIczH0tLRyg6wBC4GixqwCKAUMNSHIAwiTFUgCEUwrtrFcDAd4d7Ldgr2wOQ\n",
       "rHujvgHZAbw8a3kbQIxqhJt2lH0zRXHlTvYErgsgRgGSw2eGg+LuDBBADHzKDwk3vra0tLQcqCKe\n",
       "yAmoHvaHuIX1AJJJfAuOoipaBqUTkMNp3R5URblQ2hhZUQwzin3cX6AMdgW4ol0MnBOOICtigVnD\n",
       "KuMKTwWnGc7UK2BNPCx3oNGCAQAgQFpplzn5ZQAAAABJRU5ErkJggg==\n",
       "\" style=\"display:inline;vertical-align:middle;\" /></a>, <a class=\"ProveItLink\" href=\"../../number_sets/complex_numbers/__pv_it/theorems/5c9b98ec381ed1eef8437437430dde6add03b8720/expr.ipynb\"><img src=\"data:image/png;base64,iVBORw0KGgoAAAANSUhEUgAAADMAAAAQBAMAAABJt1qBAAAAMFBMVEX///9mZmYQEBAyMjLc3NxU\n",
       "VFSqqqq6uroiIiLu7u6YmJhERETMzMx2dnaIiIgAAACOKrHUAAAAAXRSTlMAQObYZgAAAAlwSFlz\n",
       "AAAOxAAADsQBlSsOGwAAAOVJREFUGNNjYMAAi7X3W2gvADP57h5AldvgylC6egKItYuzAU3Kl4Gb\n",
       "JwDI4N3A8AdDitHBAMg4X8DwDWLwjo5mhNQGICOCgfMXSIDdbgJCF+tMoIGc/xjYv4MEnCcgGXg6\n",
       "2QFozB8Gvi8gAROEXU4WP14CaeavofEKIAEDJGesmgyi+TcwzH8ApHk0Ojo6uqFS3LNAXgaKrwfZ\n",
       "wrkBSRePwE6QVAFDI1igAdlfMt4gAwvYNMEC75ClZvMBTWRNmAEJQuYEuJQjA9eC7UA75EQgApzR\n",
       "lfCQ38Kw2z4BKejYb0MDCgoAk+9ECnr2Yc4AAAAASUVORK5CYII=\n",
       "\" style=\"display:inline;vertical-align:middle;\" /></a> <a class=\"ProveItLink\" href=\"../__pv_it/demonstrations/037a641a1e104ada53ff0cd4f3b70eec62b3520e0/proof.ipynb\" style=\"text-decoration: none\">&nbsp;&#x22A2;&nbsp;&nbsp;</a><a class=\"ProveItLink\" href=\"../__pv_it/demonstrations/6ec752b8d928b25e5f39b04c50addd55a962da8f0/expr.ipynb\"><img src=\"data:image/png;base64,iVBORw0KGgoAAAANSUhEUgAAAGUAAAAbCAMAAABSirFMAAAANlBMVEX///+IiIiqqqpUVFS6urru\n",
       "7u4iIiIyMjKYmJjc3NxERER2dnYMDAwGBgbMzMwQEBBmZmYAAAD7e5U3AAAAAXRSTlMAQObYZgAA\n",
       "AAlwSFlzAAAOxAAADsQBlSsOGwAAARlJREFUSMftltGOhCAMRYtCQToj5f9/dgEV3KhRmOFptwlG\n",
       "k/YeWqkV4JmZGT4xfubmKN9OLERNaAqv3ZayCrSqDK2mWBPW0IeizVYvH596U9iGi5/7UVQ8AWiJ\n",
       "Rg/9KLObQhphMUPnisU0Iq0vJRxiHuDLFDU65D1FEg3QRpnJhpYmc4Q4HIwbG8tQZJMrgWUCOoaN\n",
       "mFpE3VEYd5Y3VWTfUcaADnJMByFvtnY/sfdNKjvZV8xMrXJrmbzeUvaL0anK665gRXZJW/4qCnKm\n",
       "DFM01Xg8s6xb63ru5sWz43n+Xors4op0MX1c2szUmEuWdcuHVl60CzojBYo2SpFNrhKvZyl6LRr7\n",
       "pchWT7GmAfhP+cuUD/4Zn4f+AFC+C0rMow4IAAAAAElFTkSuQmCC\n",
       "\" style=\"display:inline;vertical-align:middle;\" /></a></span>"
      ],
      "text/plain": [
       "{r in RealNonNeg, theta in Real} |- |r * e^{i * theta}| = r"
      ]
     },
     "metadata": {},
     "output_type": "display_data"
    }
   ],
   "source": [
    "Abs(Mult(r, Exp(e, Mult(i, theta)))).simplification(assumptions=[InSet(r, RealNonNeg), InSet(theta, Real)])"
   ]
  },
  {
   "cell_type": "code",
   "execution_count": 97,
   "metadata": {},
   "outputs": [
    {
     "data": {
      "text/html": [
       "<span style=\"font-size:20px;\"><a class=\"ProveItLink\" href=\"../../../trigonometry/__pv_it/theorems/a1b9429f96070e6b5c8221ff574453af02bbc1490/expr.ipynb\"><img src=\"data:image/png;base64,iVBORw0KGgoAAAANSUhEUgAAAEgAAAAUBAMAAADcj2b4AAAAMFBMVEX///9UVFSqqqqIiIi6urru\n",
       "7u4iIiIyMjIQEBCYmJhmZmbc3NxERER2dnbMzMwAAAAssMphAAAAAXRSTlMAQObYZgAAAAlwSFlz\n",
       "AAAOxAAADsQBlSsOGwAAASBJREFUKM9jYMAJ3jiAqbu2DHgA6x0FIMlpwHIAnyoGmwkMDBwPGH7j\n",
       "VcQwx4BhfwBDExaZ6T3ny3omQNgzNrwPYMjEpv/ARgbHOQEgVuwRBqCiZqyK9jLw8AkAGbvkGEDW\n",
       "fcKhiGtDAQPDRqAadIczH0tLRyg6wBC4GixqwCKAUMNSHIAwiTFUgCEUwrtrFcDAd4d7Ldgr2wOQ\n",
       "rHujvgHZAbw8a3kbQIxqhJt2lH0zRXHlTvYErgsgRgGSw2eGg+LuDBBADHzKDwk3vra0tLQcqCKe\n",
       "yAmoHvaHuIX1AJJJfAuOoipaBqUTkMNp3R5URblQ2hhZUQwzin3cX6AMdgW4ol0MnBOOICtigVnD\n",
       "KuMKTwWnGc7UK2BNPCx3oNGCAQAgQFpplzn5ZQAAAABJRU5ErkJggg==\n",
       "\" style=\"display:inline;vertical-align:middle;\" /></a>, <a class=\"ProveItLink\" href=\"../../number_sets/complex_numbers/__pv_it/theorems/5c9b98ec381ed1eef8437437430dde6add03b8720/expr.ipynb\"><img src=\"data:image/png;base64,iVBORw0KGgoAAAANSUhEUgAAADMAAAAQBAMAAABJt1qBAAAAMFBMVEX///9mZmYQEBAyMjLc3NxU\n",
       "VFSqqqq6uroiIiLu7u6YmJhERETMzMx2dnaIiIgAAACOKrHUAAAAAXRSTlMAQObYZgAAAAlwSFlz\n",
       "AAAOxAAADsQBlSsOGwAAAOVJREFUGNNjYMAAi7X3W2gvADP57h5AldvgylC6egKItYuzAU3Kl4Gb\n",
       "JwDI4N3A8AdDitHBAMg4X8DwDWLwjo5mhNQGICOCgfMXSIDdbgJCF+tMoIGc/xjYv4MEnCcgGXg6\n",
       "2QFozB8Gvi8gAROEXU4WP14CaeavofEKIAEDJGesmgyi+TcwzH8ApHk0Ojo6uqFS3LNAXgaKrwfZ\n",
       "wrkBSRePwE6QVAFDI1igAdlfMt4gAwvYNMEC75ClZvMBTWRNmAEJQuYEuJQjA9eC7UA75EQgApzR\n",
       "lfCQ38Kw2z4BKejYb0MDCgoAk+9ECnr2Yc4AAAAASUVORK5CYII=\n",
       "\" style=\"display:inline;vertical-align:middle;\" /></a> <a class=\"ProveItLink\" href=\"../__pv_it/demonstrations/d7ca63a9616ddb005e1c59f4eca9d4e469d5142c0/proof.ipynb\" style=\"text-decoration: none\">&nbsp;&#x22A2;&nbsp;&nbsp;</a><a class=\"ProveItLink\" href=\"../__pv_it/demonstrations/b471875eeed0d0040f4ac385e5555b3f9eef2b6c0/expr.ipynb\"><img src=\"data:image/png;base64,iVBORw0KGgoAAAANSUhEUgAAAH8AAAAnCAMAAAARvme7AAAAOVBMVEX///+IiIiqqqpUVFS6urru\n",
       "7u4iIiIyMjKYmJjc3NxERER2dnZRUVEMDAwGBgbMzMwQEBBmZmYAAAChAE0YAAAAAXRSTlMAQObY\n",
       "ZgAAAAlwSFlzAAAOxAAADsQBlSsOGwAAAXdJREFUWMPtlumSgyAMgEFu0i7H+z/sEhXRgl3tqj86\n",
       "ZkbHYOQjhwQSyAmyY1J/Bt/f/C/nd4Zo9zJGr+Nrnr6ESTWB0nnZn80XbKlaQZQghMNF/MAXqtXp\n",
       "6tIDLuIKvsSb0jn6ETXkQ3cJ36gFP9h0i1iNXbiEz23mC8y4tAAslhe7Jv3ZZuZsFpPcZJnvfFJj\n",
       "ukIYrHZNivL8wH9nF/FH13EdJf7PS+svVX0YCo/So/MvmJd1N8UkFD6HXPf9+Ad8BzbtYaBrvJed\n",
       "9qwqQGgv1m4NagH2pkBsAAL1Z0z2/7eoNiDT3JZMzQ9yJpMjBYimRhOVQKH2Kuq8v70IiHZT2Ob/\n",
       "DIimToygMYxR5TDFQRrhFu+G/uLPgIMpX4R4qjgXO4MiDu//E9CPWWqbRfrf80c7/wU4mEpYaXS+\n",
       "X6Y53H+5aNUm8pXfX3rNqaRH8wuwN+VyvdXLqCg5ml+AjzPOn48jU3Wfv2/+zb/5N/8b+e4M/vZJ\n",
       "fwFcDg9pj1/GUAAAAABJRU5ErkJggg==\n",
       "\" style=\"display:inline;vertical-align:middle;\" /></a></span>"
      ],
      "text/plain": [
       "{r in RealNonNeg, theta in Real} |- |r * e^{-(i * theta)}| = r"
      ]
     },
     "metadata": {},
     "output_type": "display_data"
    }
   ],
   "source": [
    "Abs(Mult(r, Exp(e, Neg(Mult(i, theta))))).simplification(assumptions=[InSet(r, RealNonNeg), InSet(theta, Real)])"
   ]
  },
  {
   "cell_type": "code",
   "execution_count": 98,
   "metadata": {},
   "outputs": [
    {
     "data": {
      "text/html": [
       "<span style=\"font-size:20px;\"><a class=\"ProveItLink\" href=\"../../number_sets/complex_numbers/__pv_it/theorems/5c9b98ec381ed1eef8437437430dde6add03b8720/expr.ipynb\"><img src=\"data:image/png;base64,iVBORw0KGgoAAAANSUhEUgAAADMAAAAQBAMAAABJt1qBAAAAMFBMVEX///9mZmYQEBAyMjLc3NxU\n",
       "VFSqqqq6uroiIiLu7u6YmJhERETMzMx2dnaIiIgAAACOKrHUAAAAAXRSTlMAQObYZgAAAAlwSFlz\n",
       "AAAOxAAADsQBlSsOGwAAAOVJREFUGNNjYMAAi7X3W2gvADP57h5AldvgylC6egKItYuzAU3Kl4Gb\n",
       "JwDI4N3A8AdDitHBAMg4X8DwDWLwjo5mhNQGICOCgfMXSIDdbgJCF+tMoIGc/xjYv4MEnCcgGXg6\n",
       "2QFozB8Gvi8gAROEXU4WP14CaeavofEKIAEDJGesmgyi+TcwzH8ApHk0Ojo6uqFS3LNAXgaKrwfZ\n",
       "wrkBSRePwE6QVAFDI1igAdlfMt4gAwvYNMEC75ClZvMBTWRNmAEJQuYEuJQjA9eC7UA75EQgApzR\n",
       "lfCQ38Kw2z4BKejYb0MDCgoAk+9ECnr2Yc4AAAAASUVORK5CYII=\n",
       "\" style=\"display:inline;vertical-align:middle;\" /></a>, <a class=\"ProveItLink\" href=\"../../../trigonometry/__pv_it/theorems/a1b9429f96070e6b5c8221ff574453af02bbc1490/expr.ipynb\"><img src=\"data:image/png;base64,iVBORw0KGgoAAAANSUhEUgAAAEgAAAAUBAMAAADcj2b4AAAAMFBMVEX///9UVFSqqqqIiIi6urru\n",
       "7u4iIiIyMjIQEBCYmJhmZmbc3NxERER2dnbMzMwAAAAssMphAAAAAXRSTlMAQObYZgAAAAlwSFlz\n",
       "AAAOxAAADsQBlSsOGwAAASBJREFUKM9jYMAJ3jiAqbu2DHgA6x0FIMlpwHIAnyoGmwkMDBwPGH7j\n",
       "VcQwx4BhfwBDExaZ6T3ny3omQNgzNrwPYMjEpv/ARgbHOQEgVuwRBqCiZqyK9jLw8AkAGbvkGEDW\n",
       "fcKhiGtDAQPDRqAadIczH0tLRyg6wBC4GixqwCKAUMNSHIAwiTFUgCEUwrtrFcDAd4d7Ldgr2wOQ\n",
       "rHujvgHZAbw8a3kbQIxqhJt2lH0zRXHlTvYErgsgRgGSw2eGg+LuDBBADHzKDwk3vra0tLQcqCKe\n",
       "yAmoHvaHuIX1AJJJfAuOoipaBqUTkMNp3R5URblQ2hhZUQwzin3cX6AMdgW4ol0MnBOOICtigVnD\n",
       "KuMKTwWnGc7UK2BNPCx3oNGCAQAgQFpplzn5ZQAAAABJRU5ErkJggg==\n",
       "\" style=\"display:inline;vertical-align:middle;\" /></a> <a class=\"ProveItLink\" href=\"../__pv_it/demonstrations/56007e0c08a0e0395d8365603b44d247326c8fe60/proof.ipynb\" style=\"text-decoration: none\">&nbsp;&#x22A2;&nbsp;&nbsp;</a><a class=\"ProveItLink\" href=\"../__pv_it/demonstrations/90e594fe8cacac869ce3c5e9d0e6df196e625fa00/expr.ipynb\"><img src=\"data:image/png;base64,iVBORw0KGgoAAAANSUhEUgAAAH8AAAAnCAMAAAARvme7AAAAOVBMVEX///+IiIiqqqpUVFS6urru\n",
       "7u4iIiIyMjKYmJjc3NxERER2dnZRUVEMDAwGBgbMzMwQEBBmZmYAAAChAE0YAAAAAXRSTlMAQObY\n",
       "ZgAAAAlwSFlzAAAOxAAADsQBlSsOGwAAAXdJREFUWMPtluuuxBAQgFGmLruH8f4Pe2ir2qOSNof9\n",
       "sTFJN8Ksb24GgqSDPNjU9eC7wf8yvrR5zNS1Du3IdyabwotVhZQey75n/MVUTmlBZkEINx/gY+m+\n",
       "luFjYRCN6MOfZRpBGX0fFSLfsO58NZcR0eHHxwJl2JMvYnq5LtZAGzPFGOyLD/g/9/nWhYPHlvKz\n",
       "OkmY8uFDXKcfbRrl/TD+tvQ/uu6WnpDi//5o/YWqx7XwKG2dfzE5wBNfF92Pm1T3ae0p3xodepiR\n",
       "Jd4Bk2460+rG6rtBzcBF1RCNhpjybxMs51ucjpuqtiZV8hEOsjuSgVFVSTIHEJaeeZn620GMqNxR\n",
       "/G5RHYBR1YoNtIXRpx5j/Sp/DKvwxe2iPgBXVX4KMeDOZyqKaH7/70C3ZelazdP/vj+u85+BqypU\n",
       "ihrdYqZq7j+crmrleSWl4CSnQFvzM3BR5VC/7sHPlLTmZ+Crx/vz1TJV4/09+IM/+IP/jXzbg39/\n",
       "019oPQ9poPNiiQAAAABJRU5ErkJggg==\n",
       "\" style=\"display:inline;vertical-align:middle;\" /></a></span>"
      ],
      "text/plain": [
       "{theta in Real, r in RealNonNeg} |- |r * e^{i * (-theta)}| = r"
      ]
     },
     "metadata": {},
     "output_type": "display_data"
    }
   ],
   "source": [
    "Abs(Mult(r, Exp(e, Mult(i, Neg(theta))))).simplification(assumptions=[InSet(r, RealNonNeg), InSet(theta, Real)])"
   ]
  },
  {
   "cell_type": "code",
   "execution_count": 99,
   "metadata": {},
   "outputs": [
    {
     "data": {
      "text/html": [
       "<span style=\"font-size:20px;\"><a class=\"ProveItLink\" href=\"../../number_sets/complex_numbers/__pv_it/theorems/5c9b98ec381ed1eef8437437430dde6add03b8720/expr.ipynb\"><img src=\"data:image/png;base64,iVBORw0KGgoAAAANSUhEUgAAADMAAAAQBAMAAABJt1qBAAAAMFBMVEX///9mZmYQEBAyMjLc3NxU\n",
       "VFSqqqq6uroiIiLu7u6YmJhERETMzMx2dnaIiIgAAACOKrHUAAAAAXRSTlMAQObYZgAAAAlwSFlz\n",
       "AAAOxAAADsQBlSsOGwAAAOVJREFUGNNjYMAAi7X3W2gvADP57h5AldvgylC6egKItYuzAU3Kl4Gb\n",
       "JwDI4N3A8AdDitHBAMg4X8DwDWLwjo5mhNQGICOCgfMXSIDdbgJCF+tMoIGc/xjYv4MEnCcgGXg6\n",
       "2QFozB8Gvi8gAROEXU4WP14CaeavofEKIAEDJGesmgyi+TcwzH8ApHk0Ojo6uqFS3LNAXgaKrwfZ\n",
       "wrkBSRePwE6QVAFDI1igAdlfMt4gAwvYNMEC75ClZvMBTWRNmAEJQuYEuJQjA9eC7UA75EQgApzR\n",
       "lfCQ38Kw2z4BKejYb0MDCgoAk+9ECnr2Yc4AAAAASUVORK5CYII=\n",
       "\" style=\"display:inline;vertical-align:middle;\" /></a>, <a class=\"ProveItLink\" href=\"../../../trigonometry/__pv_it/theorems/a1b9429f96070e6b5c8221ff574453af02bbc1490/expr.ipynb\"><img src=\"data:image/png;base64,iVBORw0KGgoAAAANSUhEUgAAAEgAAAAUBAMAAADcj2b4AAAAMFBMVEX///9UVFSqqqqIiIi6urru\n",
       "7u4iIiIyMjIQEBCYmJhmZmbc3NxERER2dnbMzMwAAAAssMphAAAAAXRSTlMAQObYZgAAAAlwSFlz\n",
       "AAAOxAAADsQBlSsOGwAAASBJREFUKM9jYMAJ3jiAqbu2DHgA6x0FIMlpwHIAnyoGmwkMDBwPGH7j\n",
       "VcQwx4BhfwBDExaZ6T3ny3omQNgzNrwPYMjEpv/ARgbHOQEgVuwRBqCiZqyK9jLw8AkAGbvkGEDW\n",
       "fcKhiGtDAQPDRqAadIczH0tLRyg6wBC4GixqwCKAUMNSHIAwiTFUgCEUwrtrFcDAd4d7Ldgr2wOQ\n",
       "rHujvgHZAbw8a3kbQIxqhJt2lH0zRXHlTvYErgsgRgGSw2eGg+LuDBBADHzKDwk3vra0tLQcqCKe\n",
       "yAmoHvaHuIX1AJJJfAuOoipaBqUTkMNp3R5URblQ2hhZUQwzin3cX6AMdgW4ol0MnBOOICtigVnD\n",
       "KuMKTwWnGc7UK2BNPCx3oNGCAQAgQFpplzn5ZQAAAABJRU5ErkJggg==\n",
       "\" style=\"display:inline;vertical-align:middle;\" /></a> <a class=\"ProveItLink\" href=\"../__pv_it/demonstrations/a8f094be1d2a4f116a45f7bf0894c9a0382f16c90/proof.ipynb\" style=\"text-decoration: none\">&nbsp;&#x22A2;&nbsp;&nbsp;</a><a class=\"ProveItLink\" href=\"../__pv_it/demonstrations/81c715c44ea3c5de9dce27e36bbb7a5f2bed0cc10/expr.ipynb\"><img src=\"data:image/png;base64,iVBORw0KGgoAAAANSUhEUgAAAH8AAAAnCAMAAAARvme7AAAAOVBMVEX///+IiIiqqqpUVFS6urru\n",
       "7u4iIiIyMjKYmJjc3NxERER2dnZRUVEMDAwGBgbMzMwQEBBmZmYAAAChAE0YAAAAAXRSTlMAQObY\n",
       "ZgAAAAlwSFlzAAAOxAAADsQBlSsOGwAAAXZJREFUWMPtlumOgyAQgEEBOdoyw/s/7HJYsIuk2pX9\n",
       "0TCJhsDAxxwMECQd5MSi0IMPg/99/Ek1BmhpStuNL1nVpZDS13QH04vP57pLc7Jw32Cmv/+xNl9L\n",
       "/02hFXfRly9q77tAjnwzrX2L7MRXS+0R7X8uJtyEvflM1x7Rxswuj3LzEf9x8PDF9LP6Kf4sOv9h\n",
       "Mtx6vgWV+Y/j/PsxNVvbH0yHVBN++//+H/nnkx7XvKO0V/z5DCIap6vqx0xO+zz4Id8a7YuZkTUe\n",
       "xCRh3qsxL4XorFMLMKoaotEQU0+bRTzoobygatcm1eaj2EiuoQUYVJUkiwdhbaKTz0Ln5/DDN8M7\n",
       "+zfAoGr5Clrd6Z7FxrokaWMtPj+d1BtgUmVuu4jAzJ9UEH75/Z+BsEZpX83Rv74/9uNfgElVNLIb\n",
       "IW5TXW5/BkK6ylgjtAIko4JezS/AqMpE+2wJt1ByNb8Abz3en7crQzXe34M/+IM/+N/Itz34xxf9\n",
       "AWpPD2mG1bBJAAAAAElFTkSuQmCC\n",
       "\" style=\"display:inline;vertical-align:middle;\" /></a></span>"
      ],
      "text/plain": [
       "{theta in Real, r in RealNonNeg} |- |r * e^{(-theta) * i}| = r"
      ]
     },
     "metadata": {},
     "output_type": "display_data"
    }
   ],
   "source": [
    "Abs(Mult(r, Exp(e, Mult(Neg(theta), i)))).simplification(assumptions=[InSet(r, RealNonNeg), InSet(theta, Real)])"
   ]
  },
  {
   "cell_type": "code",
   "execution_count": 100,
   "metadata": {},
   "outputs": [
    {
     "data": {
      "text/html": [
       "<span style=\"font-size:20px;\"><a class=\"ProveItLink\" href=\"../../number_sets/complex_numbers/__pv_it/theorems/5c9b98ec381ed1eef8437437430dde6add03b8720/expr.ipynb\"><img src=\"data:image/png;base64,iVBORw0KGgoAAAANSUhEUgAAADMAAAAQBAMAAABJt1qBAAAAMFBMVEX///9mZmYQEBAyMjLc3NxU\n",
       "VFSqqqq6uroiIiLu7u6YmJhERETMzMx2dnaIiIgAAACOKrHUAAAAAXRSTlMAQObYZgAAAAlwSFlz\n",
       "AAAOxAAADsQBlSsOGwAAAOVJREFUGNNjYMAAi7X3W2gvADP57h5AldvgylC6egKItYuzAU3Kl4Gb\n",
       "JwDI4N3A8AdDitHBAMg4X8DwDWLwjo5mhNQGICOCgfMXSIDdbgJCF+tMoIGc/xjYv4MEnCcgGXg6\n",
       "2QFozB8Gvi8gAROEXU4WP14CaeavofEKIAEDJGesmgyi+TcwzH8ApHk0Ojo6uqFS3LNAXgaKrwfZ\n",
       "wrkBSRePwE6QVAFDI1igAdlfMt4gAwvYNMEC75ClZvMBTWRNmAEJQuYEuJQjA9eC7UA75EQgApzR\n",
       "lfCQ38Kw2z4BKejYb0MDCgoAk+9ECnr2Yc4AAAAASUVORK5CYII=\n",
       "\" style=\"display:inline;vertical-align:middle;\" /></a>, <a class=\"ProveItLink\" href=\"../../../trigonometry/__pv_it/theorems/a1b9429f96070e6b5c8221ff574453af02bbc1490/expr.ipynb\"><img src=\"data:image/png;base64,iVBORw0KGgoAAAANSUhEUgAAAEgAAAAUBAMAAADcj2b4AAAAMFBMVEX///9UVFSqqqqIiIi6urru\n",
       "7u4iIiIyMjIQEBCYmJhmZmbc3NxERER2dnbMzMwAAAAssMphAAAAAXRSTlMAQObYZgAAAAlwSFlz\n",
       "AAAOxAAADsQBlSsOGwAAASBJREFUKM9jYMAJ3jiAqbu2DHgA6x0FIMlpwHIAnyoGmwkMDBwPGH7j\n",
       "VcQwx4BhfwBDExaZ6T3ny3omQNgzNrwPYMjEpv/ARgbHOQEgVuwRBqCiZqyK9jLw8AkAGbvkGEDW\n",
       "fcKhiGtDAQPDRqAadIczH0tLRyg6wBC4GixqwCKAUMNSHIAwiTFUgCEUwrtrFcDAd4d7Ldgr2wOQ\n",
       "rHujvgHZAbw8a3kbQIxqhJt2lH0zRXHlTvYErgsgRgGSw2eGg+LuDBBADHzKDwk3vra0tLQcqCKe\n",
       "yAmoHvaHuIX1AJJJfAuOoipaBqUTkMNp3R5URblQ2hhZUQwzin3cX6AMdgW4ol0MnBOOICtigVnD\n",
       "KuMKTwWnGc7UK2BNPCx3oNGCAQAgQFpplzn5ZQAAAABJRU5ErkJggg==\n",
       "\" style=\"display:inline;vertical-align:middle;\" /></a> <a class=\"ProveItLink\" href=\"../__pv_it/demonstrations/cd83067a244187a7df0a8e1399d0891c81a868af0/proof.ipynb\" style=\"text-decoration: none\">&nbsp;&#x22A2;&nbsp;&nbsp;</a><a class=\"ProveItLink\" href=\"../__pv_it/demonstrations/cfd2e0ffa6a185b1ad7ef073eca9c07507440ef80/expr.ipynb\"><img src=\"data:image/png;base64,iVBORw0KGgoAAAANSUhEUgAAAJ8AAAAnCAMAAAAmXGrKAAAAOVBMVEX///9UVFRERES6uroiIiKY\n",
       "mJgyMjLu7u52dnaqqqqIiIjc3NxRUVEMDAwGBgbMzMwQEBBmZmYAAAAb6nZ0AAAAAXRSTlMAQObY\n",
       "ZgAAAAlwSFlzAAAOxAAADsQBlSsOGwAAAfpJREFUWMPtmNmygyAMhpF9acvy/g97oLjQGkGrZ7iR\n",
       "GTsdSMlHSH6kyKMO7YBT14PP3Xw339V8ymwM6OUrs934GFn3Ga/1R7k62YtPDEAfFogLhIjsv78e\n",
       "CB9m8VHxS4I8zWdqZqY1DwV+ExJa4pNq7OLsZz6tamZE16cxHAgpjh8hVYTyp/mUrNtpVh0mGAgp\n",
       "lnII06iQP/G9xlTmLcPvHPoSl1weFk8tJkSIj/e5Oz7OzHyv/XzPcS9YUz+qh7oF4pdC596J+72/\n",
       "z8P7uyPiThysjxhxn5Na65P5p3jbkjNQ9hx9BwevK5zIqW7nwV/5PFwdVuJ4Bsg8qYQU2FHF3IAA\n",
       "Df7Q6aOiuzh227GJSAhHcpltGBDjgb51Lu2835bI1VDB52nRhrXjbEpB8TMMcToHVwGrDmw6J+Kc\n",
       "YvfJ3Ipf4TibOjKqTLEYi6wYAXLMw7xfgU9dueUFbPGJw4dq4fiDb53iYZmcLLNSP/Epk5q4/P1v\n",
       "dlzb35QdhQQDEhL02fdTOP8Wx9kUb/ihRVUyQIJ9FkVzefxmx25TO96VWew7pEGCOkY01VfzLY6z\n",
       "qaVwFpTdlMAZELhGV/Mtjh+jc9tcEr3ufvQ4vBTWvNK33yD+9f6GGzlucN/7pWj4x6YvHzLVLNdX\n",
       "4t3/H9x8N9/Nd/O1m+3Bt9/pHxJEEXb0wyGxAAAAAElFTkSuQmCC\n",
       "\" style=\"display:inline;vertical-align:middle;\" /></a></span>"
      ],
      "text/plain": [
       "{theta in Real, r in RealNonNeg} |- |(-r) * e^{(-theta) * i}| = r"
      ]
     },
     "metadata": {},
     "output_type": "display_data"
    }
   ],
   "source": [
    "Abs(Mult(Neg(r), Exp(e, Mult(Neg(theta), i)))).simplification(\n",
    "    assumptions=[InSet(r, RealNonNeg), InSet(theta, Real)])"
   ]
  },
  {
   "cell_type": "code",
   "execution_count": 101,
   "metadata": {},
   "outputs": [
    {
     "data": {
      "text/html": [
       "<span style=\"font-size:20px;\"><a class=\"ProveItLink\" href=\"../__pv_it/demonstrations/feb6907de8c994bc6b795116fefe6ced2ad9fc9b0/expr.ipynb\"><img src=\"data:image/png;base64,iVBORw0KGgoAAAANSUhEUgAAAEgAAAAUBAMAAADcj2b4AAAAMFBMVEX///9UVFSqqqqIiIi6urru\n",
       "7u4iIiIyMjIQEBCYmJhmZmbc3NxERER2dnbMzMwAAAAssMphAAAAAXRSTlMAQObYZgAAAAlwSFlz\n",
       "AAAOxAAADsQBlSsOGwAAAR9JREFUKM9jYMALdDYw3LVlIKDGgIHTgOUAXjVzJjAwcDxg+I1PjY0C\n",
       "kNgfwNCERW56z/myHqAZL0BqGN4HMGRiM+HARgbHOQEMTGcDIIqasSray8DDJ8DAwAJSBbTuEw5F\n",
       "XBsKgAw+qQ3oDmc+lpaOUAT2N7dgALMBiwBCDUtxAMIkxlCIDDcDw12rAAa+O9xrJ4D42wOQrHuj\n",
       "vgHZAbw8a3kbQIxqhJt2lH0zRXHlTvYErgsgRgGSw2eGA6k3Z4AAYuBTfrBlDHxtaWlpOVBFPJET\n",
       "UD3sD3EL6wEkk/gWHEVVtAxKJyCH07o9qIpyobQxsqIYZhT7uL9AGewKcEW7GDgnHEFWxAKzhlXG\n",
       "FZ4KTjOcqVfAmnxY7kCjBQMAACk4WJrOe5mxAAAAAElFTkSuQmCC\n",
       "\" style=\"display:inline;vertical-align:middle;\" /></a>, <a class=\"ProveItLink\" href=\"../../number_sets/complex_numbers/__pv_it/theorems/5c9b98ec381ed1eef8437437430dde6add03b8720/expr.ipynb\"><img src=\"data:image/png;base64,iVBORw0KGgoAAAANSUhEUgAAADMAAAAQBAMAAABJt1qBAAAAMFBMVEX///9mZmYQEBAyMjLc3NxU\n",
       "VFSqqqq6uroiIiLu7u6YmJhERETMzMx2dnaIiIgAAACOKrHUAAAAAXRSTlMAQObYZgAAAAlwSFlz\n",
       "AAAOxAAADsQBlSsOGwAAAOVJREFUGNNjYMAAi7X3W2gvADP57h5AldvgylC6egKItYuzAU3Kl4Gb\n",
       "JwDI4N3A8AdDitHBAMg4X8DwDWLwjo5mhNQGICOCgfMXSIDdbgJCF+tMoIGc/xjYv4MEnCcgGXg6\n",
       "2QFozB8Gvi8gAROEXU4WP14CaeavofEKIAEDJGesmgyi+TcwzH8ApHk0Ojo6uqFS3LNAXgaKrwfZ\n",
       "wrkBSRePwE6QVAFDI1igAdlfMt4gAwvYNMEC75ClZvMBTWRNmAEJQuYEuJQjA9eC7UA75EQgApzR\n",
       "lfCQ38Kw2z4BKejYb0MDCgoAk+9ECnr2Yc4AAAAASUVORK5CYII=\n",
       "\" style=\"display:inline;vertical-align:middle;\" /></a> <a class=\"ProveItLink\" href=\"../__pv_it/demonstrations/7f396d8e97aafb924e0fd27c8c3d427b5c6346880/proof.ipynb\" style=\"text-decoration: none\">&nbsp;&#x22A2;&nbsp;&nbsp;</a><a class=\"ProveItLink\" href=\"../__pv_it/demonstrations/02f974e84fabf8d9560ffa74dd81c2b52458c7470/expr.ipynb\"><img src=\"data:image/png;base64,iVBORw0KGgoAAAANSUhEUgAAAIMAAAAbCAMAAABodsx6AAAANlBMVEX///+IiIiqqqpUVFS6urru\n",
       "7u4iIiIyMjKYmJjc3NxERER2dnYMDAwGBgbMzMwQEBBmZmYAAAD7e5U3AAAAAXRSTlMAQObYZgAA\n",
       "AAlwSFlzAAAOxAAADsQBlSsOGwAAAYxJREFUSMfFVouOwyAMA0rCawfh/3/2YOumstIRelctUqdO\n",
       "gG2ckCIEL2wU1wXxpqXwenUk5cxSBvjsAvAgDJxa+m8avC2P+oYGY5+ZyPUfX4NjjM5qIF9+cuQu\n",
       "lerjsJaTGqDWJfoQlsyVr8JIo53TEFOxLpeHiKkBzBgY5nNRLUjcNJIdNx6a11B0k+KWMwc8wWga\n",
       "LAlpq0GHoLgMyvB2dweKwZf2F/bOQUJl03Jyl9SvyJYtLA+gIHyZH/agC95bAow0EG5i2SWwjZbN\n",
       "GvFTSaww2JWd7bM1duJn5AN2m8Mbm0riVs2BlWxNQH7mMeZH9D29DctNryd0Y1J8Z4t5NVQ3diO9\n",
       "xpWrAefqYdWw745bNp1WIML+7Cx5J69fD3jQqBs2hSsQHvRUSnD84Rn64A920LBZ/wBy+cA1wGS1\n",
       "RHlOQ+gf6pat1OYdSOPxGcds5Mn+EPuwLRvqv1xExktxfAt1KK7VYMdXzvpZu1SD8G5kgxdXawDP\n",
       "EXmtBuHk52uUE9drYEX8ytImfgFIzw40NH43qQAAAABJRU5ErkJggg==\n",
       "\" style=\"display:inline;vertical-align:middle;\" /></a></span>"
      ],
      "text/plain": [
       "{r in RealNonPos, theta in Real} |- |r * e^{i * theta}| = (-r)"
      ]
     },
     "metadata": {},
     "output_type": "display_data"
    }
   ],
   "source": [
    "Abs(Mult(r, Exp(e, Mult(i, theta)))).simplification(assumptions=[InSet(r, RealNonPos), InSet(theta, Real)])"
   ]
  },
  {
   "cell_type": "code",
   "execution_count": 102,
   "metadata": {},
   "outputs": [
    {
     "data": {
      "text/html": [
       "<span style=\"font-size:20px;\"><a class=\"ProveItLink\" href=\"../../number_sets/real_numbers/__pv_it/theorems/dd2b896e91f2ac33d7fb1ba61c4378fe7b9a97050/expr.ipynb\"><img src=\"data:image/png;base64,iVBORw0KGgoAAAANSUhEUgAAAD8AAAATBAMAAADVH8ihAAAAMFBMVEX////MzMwyMjKqqqoiIiJm\n",
       "ZmaYmJju7u5EREQQEBC6urqIiIh2dnZUVFTc3NwAAAAqL9KcAAAAAXRSTlMAQObYZgAAAAlwSFlz\n",
       "AAAOxAAADsQBlSsOGwAAAN5JREFUKM9jYMADWBkIAA4yFSTN6FeZkYDPhIa3DGszCvApeMPAwXiB\n",
       "IaKjs6MjAYcC1gcKWEzY4eKiAFfQgKlg0XaECbzlF+AK+O7s2wCm1ZGskDB6AFew8gHHdxDN9ACu\n",
       "4KXKl+3wkGSfxsDqAFaA5Mi0IqTw/sDAcgDEkHQBggaIAo4yhPc4GxjqF4AYFUgmMAa0w3n1Gxjy\n",
       "wQwW5HAIfIFQYMBwiRnkPu4NSAoquOF2cGxgdoXEuzJcwVMGtoQuGI/99sG3G8Gs2q4CWGz2MXTo\n",
       "G2DGwZoWSFCjAAAaDkU0dYR17AAAAABJRU5ErkJggg==\n",
       "\" style=\"display:inline;vertical-align:middle;\" /></a>, <a class=\"ProveItLink\" href=\"../../number_sets/complex_numbers/__pv_it/theorems/5c9b98ec381ed1eef8437437430dde6add03b8720/expr.ipynb\"><img src=\"data:image/png;base64,iVBORw0KGgoAAAANSUhEUgAAADMAAAAQBAMAAABJt1qBAAAAMFBMVEX///9mZmYQEBAyMjLc3NxU\n",
       "VFSqqqq6uroiIiLu7u6YmJhERETMzMx2dnaIiIgAAACOKrHUAAAAAXRSTlMAQObYZgAAAAlwSFlz\n",
       "AAAOxAAADsQBlSsOGwAAAOVJREFUGNNjYMAAi7X3W2gvADP57h5AldvgylC6egKItYuzAU3Kl4Gb\n",
       "JwDI4N3A8AdDitHBAMg4X8DwDWLwjo5mhNQGICOCgfMXSIDdbgJCF+tMoIGc/xjYv4MEnCcgGXg6\n",
       "2QFozB8Gvi8gAROEXU4WP14CaeavofEKIAEDJGesmgyi+TcwzH8ApHk0Ojo6uqFS3LNAXgaKrwfZ\n",
       "wrkBSRePwE6QVAFDI1igAdlfMt4gAwvYNMEC75ClZvMBTWRNmAEJQuYEuJQjA9eC7UA75EQgApzR\n",
       "lfCQ38Kw2z4BKejYb0MDCgoAk+9ECnr2Yc4AAAAASUVORK5CYII=\n",
       "\" style=\"display:inline;vertical-align:middle;\" /></a>, <a class=\"ProveItLink\" href=\"../../addition/__pv_it/theorems/b9cae19a628b9412bdeba3850806ec1015c9b6ae0/expr.ipynb\"><img src=\"data:image/png;base64,iVBORw0KGgoAAAANSUhEUgAAAD0AAAATBAMAAADR6hicAAAAMFBMVEX///+YmJjMzMzc3NyIiIhU\n",
       "VFR2dna6urqqqqpmZmYyMjIiIiIQEBBERETu7u4AAAD7tRWPAAAAAXRSTlMAQObYZgAAAAlwSFlz\n",
       "AAAOxAAADsQBlSsOGwAAAOpJREFUKM9jYMANOBnwA16y5KXO3l99VgAuz3dnA5qCC6YMpbIP4Pq5\n",
       "JqDLmzHwMgUwzL175+5doDn8DZjynAYL4PrrH0DFfXfvXgCXvwCXz4ZKV/kh9LO+C4DLL3WJAFHM\n",
       "65DM1+0ygLv/14P3IA6XAVzeZvVvP3j4cfxj4HEAySO5T/AVUiAvYOBPANI6u4HgAkSe96EAXJ47\n",
       "gaEe5MO3SPqZJtyD84Denw/yITey/yfZIuQV+A6CaBYHJPm3LHALWAV4IQG8Ai5vycAocB3G4wub\n",
       "CGE8vf4AFn+XGe6ub8CI2LLbkPBFAQCsf0hmRnY2owAAAABJRU5ErkJggg==\n",
       "\" style=\"display:inline;vertical-align:middle;\" /></a> <a class=\"ProveItLink\" href=\"../__pv_it/demonstrations/d3b27227b1f843724f8ff322479bfa91459eb9a00/proof.ipynb\" style=\"text-decoration: none\">&nbsp;&#x22A2;&nbsp;&nbsp;</a><a class=\"ProveItLink\" href=\"../__pv_it/demonstrations/73e624afba86e747d02ae465e3aa41c46411c3900/expr.ipynb\"><img src=\"data:image/png;base64,iVBORw0KGgoAAAANSUhEUgAAAKUAAAAbCAMAAAAqNb/tAAAANlBMVEX///8yMjKqqqoiIiKYmJju\n",
       "7u5ERES6urqIiIh2dnZUVFTc3NwMDAwGBgbMzMwQEBBmZmYAAACUyuhdAAAAAXRSTlMAQObYZgAA\n",
       "AAlwSFlzAAAOxAAADsQBlSsOGwAAAgJJREFUWMPNWIuugyAMrZQ3m8D//+wFFCUZjrq5eElc2FLO\n",
       "ObSlxQEQB5/hxhGIdt5sUxe0vgSTPvzpFUIKmMS1mNerlDw97H+qnHiNd8zfvlfpaLzuM5VBpo84\n",
       "f6tSMxqv0mdVinyCUBpjYy9dPdJVMjNK/oqm+UmVs0/+j+kJ3VM8BbJKMY0JK1o+qacjnt3ou0kV\n",
       "GVll4EOTDY2HD1SmrYVuTqkoyCrHFjsaeDG0F9ZjaFUqY/qJb5CsgY0DvqNl6hXRWaNdp6MIj4x7\n",
       "S/K21doyksqwnZ0j3gYNjF0RVc40GV87isVSIgWhJcWUCyKfrVZlwGbYl/Q55G3QgE/wXDzGC2In\n",
       "h3ltN8MoFi6f/fIc2SKrkTribdCAeXiUHZf6h2bfyDqb4zLMGw9Wr5VJsXwMD49a1xzxtmhJxBId\n",
       "L4uN2vYaNpXM5XEc8c20cKlSPzxV5SFvi5bSoiCKmD3LY69qaeqFoCCGJVCjvFwj/o53RwOGq8r8\n",
       "m52AvVTr4AXxapBb+5JnY19Kvao85G3QgMsFMa9iyd2vjU+g50ojwaM2X+gCrV4au6vt8zZouW75\n",
       "pXRrMzurezedgHGihF1YU/veUOWMdc0Rb4MGqH5wY6X0PzzxFuUQblLJT7waZZ/eoxKkI7tSwm0q\n",
       "hSS/Zrn7VIIjFmLt4EaV58Yv/rK4HPMPqeISoEEVYDkAAAAASUVORK5CYII=\n",
       "\" style=\"display:inline;vertical-align:middle;\" /></a></span>"
      ],
      "text/plain": [
       "{a in RealPos, theta in Real, b in RealPos} |- |a * e^{i * theta} * b| = (a * b)"
      ]
     },
     "metadata": {},
     "output_type": "display_data"
    }
   ],
   "source": [
    "Abs(Mult(a, Exp(e, Mult(i, theta)), b)).simplification(\n",
    "    assumptions=[InSet(a, RealPos), InSet(b, RealPos), InSet(theta, Real)])"
   ]
  },
  {
   "cell_type": "code",
   "execution_count": 103,
   "metadata": {},
   "outputs": [
    {
     "data": {
      "text/html": [
       "<span style=\"font-size:20px;\"><a class=\"ProveItLink\" href=\"../../ordering/__pv_it/theorems/4aa8d696b1f407d6126de9f51a052e8d90e0848c0/expr.ipynb\"><img src=\"data:image/png;base64,iVBORw0KGgoAAAANSUhEUgAAADMAAAAQBAMAAABJt1qBAAAAMFBMVEX////MzMwyMjKqqqoiIiJm\n",
       "ZmaYmJju7u5EREQQEBC6urqIiIh2dnZUVFTc3NwAAAAqL9KcAAAAAXRSTlMAQObYZgAAAAlwSFlz\n",
       "AAAOxAAADsQBlSsOGwAAAM1JREFUGNNjYMAASTP6VWYkMGAFDW8Z1mYUYJd6w8DBeAGXFOsDBRSh\n",
       "HS4uCnCpBmSZRdsRunjLQQby3dm3ASTAp45koITRAyBj5QOO7yABpgdwqZcqX0AmsE9jYHUASyE5\n",
       "I60IRLN+YGA5AGJIugBBA0SKowzkZc4GhvoFIIEKJF2MAe1Aun4DQz5YgAXZX4EvQFIGDJeYQS7g\n",
       "3oAkVcENNJFjA7MrK1hEGS71lIEtoQvowtsH324Ei9R2FcBCvo+hQ98AOTjWtLgghxwApbZCEcpv\n",
       "FP8AAAAASUVORK5CYII=\n",
       "\" style=\"display:inline;vertical-align:middle;\" /></a>, <a class=\"ProveItLink\" href=\"../../addition/__pv_it/theorems/b9cae19a628b9412bdeba3850806ec1015c9b6ae0/expr.ipynb\"><img src=\"data:image/png;base64,iVBORw0KGgoAAAANSUhEUgAAAD0AAAATBAMAAADR6hicAAAAMFBMVEX///+YmJjMzMzc3NyIiIhU\n",
       "VFR2dna6urqqqqpmZmYyMjIiIiIQEBBERETu7u4AAAD7tRWPAAAAAXRSTlMAQObYZgAAAAlwSFlz\n",
       "AAAOxAAADsQBlSsOGwAAAOpJREFUKM9jYMANOBnwA16y5KXO3l99VgAuz3dnA5qCC6YMpbIP4Pq5\n",
       "JqDLmzHwMgUwzL175+5doDn8DZjynAYL4PrrH0DFfXfvXgCXvwCXz4ZKV/kh9LO+C4DLL3WJAFHM\n",
       "65DM1+0ygLv/14P3IA6XAVzeZvVvP3j4cfxj4HEAySO5T/AVUiAvYOBPANI6u4HgAkSe96EAXJ47\n",
       "gaEe5MO3SPqZJtyD84Denw/yITey/yfZIuQV+A6CaBYHJPm3LHALWAV4IQG8Ai5vycAocB3G4wub\n",
       "CGE8vf4AFn+XGe6ub8CI2LLbkPBFAQCsf0hmRnY2owAAAABJRU5ErkJggg==\n",
       "\" style=\"display:inline;vertical-align:middle;\" /></a>, <a class=\"ProveItLink\" href=\"../../number_sets/complex_numbers/__pv_it/theorems/5c9b98ec381ed1eef8437437430dde6add03b8720/expr.ipynb\"><img src=\"data:image/png;base64,iVBORw0KGgoAAAANSUhEUgAAADMAAAAQBAMAAABJt1qBAAAAMFBMVEX///9mZmYQEBAyMjLc3NxU\n",
       "VFSqqqq6uroiIiLu7u6YmJhERETMzMx2dnaIiIgAAACOKrHUAAAAAXRSTlMAQObYZgAAAAlwSFlz\n",
       "AAAOxAAADsQBlSsOGwAAAOVJREFUGNNjYMAAi7X3W2gvADP57h5AldvgylC6egKItYuzAU3Kl4Gb\n",
       "JwDI4N3A8AdDitHBAMg4X8DwDWLwjo5mhNQGICOCgfMXSIDdbgJCF+tMoIGc/xjYv4MEnCcgGXg6\n",
       "2QFozB8Gvi8gAROEXU4WP14CaeavofEKIAEDJGesmgyi+TcwzH8ApHk0Ojo6uqFS3LNAXgaKrwfZ\n",
       "wrkBSRePwE6QVAFDI1igAdlfMt4gAwvYNMEC75ClZvMBTWRNmAEJQuYEuJQjA9eC7UA75EQgApzR\n",
       "lfCQ38Kw2z4BKejYb0MDCgoAk+9ECnr2Yc4AAAAASUVORK5CYII=\n",
       "\" style=\"display:inline;vertical-align:middle;\" /></a>, <a class=\"ProveItLink\" href=\"../__pv_it/demonstrations/8c5864665d603ebc7e84fdb786d604e60f56fcc70/expr.ipynb\"><img src=\"data:image/png;base64,iVBORw0KGgoAAAANSUhEUgAAAD0AAAATBAMAAADR6hicAAAAMFBMVEX///9UVFQyMjK6urru7u4Q\n",
       "EBBERERmZmaqqqoiIiLc3NzMzMyYmJiIiIh2dnYAAABC1PP/AAAAAXRSTlMAQObYZgAAAAlwSFlz\n",
       "AAAOxAAADsQBlSsOGwAAAM9JREFUKM9jYMAN2BnwAzay5A+F5WuGHcCjP2Ehg+ExBzzy6xjYuAUY\n",
       "ytJS09IOYJdnX6CAqf/azJkKcPkEDHmjKwj9jC4CCPm3dzYASS4VJPO3NS2Ay69sYAcZxrQALr9U\n",
       "8+cVRPjNY2C9AJJHct8ZJ6RA/gKht84EggSIPJsPwl+sCRDaDUk/d0EKnOd/AUJzIvu/ehmcxw80\n",
       "ygBI815AknfjhVsAdDwfyH8MGnD55Qw8B5LhBrw7AwkYx2QHWPxlMaTpN2CEu10mJHxRAABI1jva\n",
       "YsbopQAAAABJRU5ErkJggg==\n",
       "\" style=\"display:inline;vertical-align:middle;\" /></a> <a class=\"ProveItLink\" href=\"../__pv_it/demonstrations/80d4d50173e82e5cd90e1abcc34f588d7de16d550/proof.ipynb\" style=\"text-decoration: none\">&nbsp;&#x22A2;&nbsp;&nbsp;</a><a class=\"ProveItLink\" href=\"../__pv_it/demonstrations/2ec7296004ab63207cfbaa7399175cd7e3e709490/expr.ipynb\"><img src=\"data:image/png;base64,iVBORw0KGgoAAAANSUhEUgAAAOAAAAAbCAMAAABSpnMJAAAANlBMVEX///8yMjKqqqoiIiKYmJju\n",
       "7u5ERES6urqIiIh2dnZUVFTc3NwMDAwGBgbMzMwQEBBmZmYAAACUyuhdAAAAAXRSTlMAQObYZgAA\n",
       "AAlwSFlzAAAOxAAADsQBlSsOGwAAAnZJREFUWMPdmItyhCAMRSMvCbQC//+zFdQ1u8KQrbZ1yoyd\n",
       "rXW595CQYAFODjXBvUc8+f2Aj48+WvujWt8zeNlM2mgY9O9o/QmgUfMl/h3goLYETfm3CwD9eh1u\n",
       "vjv8tYDRzD/SdBrQ5jXC8eXu4QZjjJYhqk2QXUCdC400iC6dzhaBwATsWgOrOKJD7AJOYc6GNF8x\n",
       "ngXUAwA7gkOvLOea1xVNgpeiOXjBnwWM6g3AjrW5Sce+6Jg0D3BerShOF7QAfMCetTyd7opiI8+1\n",
       "CzJSwBFRwFlAMbwBiJJTAldR79D62jlkcNa6o3MdpFDB8coZWltOdH3AiE88u6saYMMaEQR0q+iY\n",
       "d4+phFynOfV0OuwtJ0vr0ww8L8XaRAhglGS4Q8IvPMRVrYo2rBFBUAN8LvFQRbSSM2X6cIhtUtvh\n",
       "pTskbjN89p8VBJC6qgC2rBFBEAE+ynqmxx+2xdlWunxI+HJ/SsvAZrnfZ9jD/NGvMSMBpK4egF1r\n",
       "VHD2uaRNMOWRfZVkpKsxPurxdn9KwufRTtHHDGVubpF5AqSu9gj2rFHBOcmLqE45niq1Wk087rVk\n",
       "ue8Y5Mn+HqQp+uSqkqINa1QQhFwB87NuAHHYsflwueyFl3IXNPMMvOxWGFkRNJYCElc1wIY1IgjK\n",
       "LKJ5XjHH+Hj0cfkdqHIi0jKo0UpGHJdyhrw2gY6kKHVVAWxZI4K57YSla1ucvLNTpZ9jrJfKKNPA\n",
       "ylNEpazm7cFJ0ipKXNXaRMvaLghy/NWXUIaWnN44izJaMNwNUMUrAXOEbwYIxl8H6A3cD1Cb6wDL\n",
       "Yt0NEMrh+lDu7Df+/Wo93BHw6jH9U61tfAEk4xgQjuIr6QAAAABJRU5ErkJggg==\n",
       "\" style=\"display:inline;vertical-align:middle;\" /></a></span>"
      ],
      "text/plain": [
       "{a in Real, b in RealPos, theta in Real, c in RealPos} |- |a * b * e^{i * theta} * c| = (|a| * b * c)"
      ]
     },
     "metadata": {},
     "output_type": "display_data"
    }
   ],
   "source": [
    "# Since we don't know the sign of 'a', we must take the absolute value.\n",
    "Abs(Mult(a, b, Exp(e, Mult(i, theta)), c)).simplification(\n",
    "    assumptions=[InSet(a, Real), InSet(b, RealPos), InSet(c, RealPos), InSet(theta, Real)])"
   ]
  },
  {
   "cell_type": "markdown",
   "metadata": {},
   "source": [
    "### Triangle inequality"
   ]
  },
  {
   "cell_type": "code",
   "execution_count": 104,
   "metadata": {},
   "outputs": [
    {
     "data": {
      "text/html": [
       "<span style=\"font-size:20px;\"><a class=\"ProveItLink\" href=\"../__pv_it/theorems/e9f87a0977d5044ea8daf1040d2f219396bb3d5b0/expr.ipynb\"><img src=\"data:image/png;base64,iVBORw0KGgoAAAANSUhEUgAAADMAAAAQBAMAAABJt1qBAAAAMFBMVEX////MzMwyMjKqqqoiIiJm\n",
       "ZmaYmJju7u5EREQQEBC6urqIiIh2dnZUVFTc3NwAAAAqL9KcAAAAAXRSTlMAQObYZgAAAAlwSFlz\n",
       "AAAOxAAADsQBlSsOGwAAANFJREFUGNNjYMACalqU9slgk2DgvpnAHt+KVSp6DQMDG1YpxoB2IHkV\n",
       "RWyHi4sCkOItaACSZcgyi7ZDaA6+AKgI3519G8C0OlTgLeMBKGvlA47vIJrpAVRAhisBwmCfxsDq\n",
       "AJaCGfyUawOEwfqBgQVsgKQLEDSA7YIayNnAUL8AxKiA6eIAuxAI6jcw5IMZLDApLrC/uIBSBgyX\n",
       "mEEu4N4AD421QCIIqH0DsysrWEQZHoZNcewmQL+x3z74diNYpLarABbynV/iUANvTQs4oGAAAKqD\n",
       "MEJAsWyMAAAAAElFTkSuQmCC\n",
       "\" style=\"display:inline;vertical-align:middle;\" /></a>, <a class=\"ProveItLink\" href=\"../__pv_it/theorems/a259ec76dfb0a5be60b7c83d797520fa82c1dba60/expr.ipynb\"><img src=\"data:image/png;base64,iVBORw0KGgoAAAANSUhEUgAAADEAAAAQBAMAAABNQoq8AAAAMFBMVEX///+YmJjMzMzc3NyIiIhU\n",
       "VFR2dna6urqqqqpmZmYyMjIiIiIQEBBERETu7u4AAAD7tRWPAAAAAXRSTlMAQObYZgAAAAlwSFlz\n",
       "AAAOxAAADsQBlSsOGwAAANtJREFUGNNjYMAEz26vclZjYOC7swFNgiVGgG/+TSCDawKazJQyBgZG\n",
       "kAx/A6oE04R7QDISiOsfQIV8d+9eAKRYH1wAkg+BOBsqUeUHoXmZYcYvdYkAUczroHxTpgQIg+/X\n",
       "g/cGIIcYQGXU2AUgDI5/DDwOIBmYCyzZHSAMzgUM/CDtOruB4ALYHqhp3AkM9SB3v4Xp4QW7DeKd\n",
       "+SB3c8Nk2MH+YQfKKPAdBIeJAzwMSoHELKDHBHgh7l8BD7dbk/m6gWJ8YRMhAk+vwwLj2Z3fk1EC\n",
       "rOw2OHRgAAASXDjITT81JQAAAABJRU5ErkJggg==\n",
       "\" style=\"display:inline;vertical-align:middle;\" /></a> <a class=\"ProveItLink\" href=\"../__pv_it/demonstrations/5de2eae48b9d4ba893b946284de27d406a07b80b0/proof.ipynb\" style=\"text-decoration: none\">&nbsp;&#x22A2;&nbsp;&nbsp;</a><a class=\"ProveItLink\" href=\"../__pv_it/demonstrations/fb2f4406140c29ea38920eb8650681e703845a1e0/expr.ipynb\"><img src=\"data:image/png;base64,iVBORw0KGgoAAAANSUhEUgAAAKUAAAAVBAMAAADVzzOcAAAAMFBMVEX///8yMjKqqqoiIiJmZmaY\n",
       "mJju7u5EREQQEBBUVFTMzMyIiIi6urp2dnbc3NwAAABRd72LAAAAAXRSTlMAQObYZgAAAAlwSFlz\n",
       "AAAOxAAADsQBlSsOGwAAAfVJREFUOMuVlL9Lw1AQx69pm6S/i4OggxTcpZAKUikUpHMzdDeigx2k\n",
       "HQUHCyJuUl1LoX+BBMeKJaPg0IKbdgjoUrpUhy46+JLXl/T1vcSa5crdfT/vXu/egQkeX5Lncpwm\n",
       "NzmJA0MvZsJgXPeuc8hNRubZgymeZnlMYeDDJJqY6lFnoEgxhQ3bHIBfnUSzuhCMq9imMvPMcE6z\n",
       "bYllEgHyE01lgSno2Pa1OXmsgJHQYJlEgPxEI2t85stcj052STDtyySagGoFk+2eTqesPdwS+dE2\n",
       "OTA0wKLR25jHJJpE0wo+mdKUShE/tZqJmdUVt3GqrY1fw7nGMh1NOI2C4iWEslSKMAVZx8yIywzi\n",
       "JhyrsMep09EIDRQMTSA4sO6mKDsXitJEv9KQGszu/uHcXTZsZhmggJmuAPkdTXSCgnIdagZ1LDqi\n",
       "n2F6NGNegfjDqdPRxK06azrs031Ho1bWmFnCdxe/ITzhMB2NkLWYGbgRTIrZQf8xM/OSbjO/IJLe\n",
       "4jCJJlxHQUkXciEqJaJKReptrtu6pn33M9gsFlmmo0Ejh/reeh116Vlqlzg7JIqXRPXxrtXhzBLR\n",
       "BA3+O+LvurzvOyLm3WOH8JkV3x1CTOnPnXyoWF/e9kjmEjs5Wf/XnhfrSzDRwdD1YsY6jGvsOrvc\n",
       "ZGR6AL9GeNOM/3XlIAAAAABJRU5ErkJggg==\n",
       "\" style=\"display:inline;vertical-align:middle;\" /></a></span>"
      ],
      "text/plain": [
       "{a in Complex, b in Complex} |- |a + b| <= (|a| + |b|)"
      ]
     },
     "metadata": {},
     "output_type": "display_data"
    }
   ],
   "source": [
    "Abs(Add(a, b)).deduce_triangle_bound(assumptions=[InSet(a, Complex), InSet(b, Complex)])"
   ]
  },
  {
   "cell_type": "code",
   "execution_count": 105,
   "metadata": {},
   "outputs": [
    {
     "data": {
      "text/html": [
       "<span style=\"font-size:20px;\"><a class=\"ProveItLink\" href=\"../../number_sets/natural_numbers/__pv_it/theorems/1a8a7907b709bbd24c48a9933f16dbe96429f5cc0/expr.ipynb\"><img src=\"data:image/png;base64,iVBORw0KGgoAAAANSUhEUgAAADUAAAAQBAMAAABEqSrGAAAAMFBMVEX///9mZmYQEBCYmJgyMjKq\n",
       "qqrMzMwiIiJERER2dnbc3Nzu7u5UVFSIiIi6uroAAAA6K1lcAAAAAXRSTlMAQObYZgAAAAlwSFlz\n",
       "AAAOxAAADsQBlSsOGwAAAOZJREFUGNNjYMAE23+0bGCY9OkBAzbQyneAgfsDVimG4wsmMzAoYJc7\n",
       "2sCygKEAVexGebkDiD5ly+WAJvfkNpRxiifhJkiO786uub1gES5vmKJTDA0cD4BynBxnGfYvAImw\n",
       "LEDIJXJXA+XesTcwrE8AyzEg5JgDIoDu3LD/AUP8BpBIUjkQNEDkGE7zgPwQz8BwBKx6B5I+hj3c\n",
       "IHcCJT5zg0TYkeXYLoBM0GRg/c0JEuG9AJNrA+JrQDmubwy8DmZgIVeYHIjBCAwFvgIG7sMBYKE9\n",
       "fWA3MaR8AurhdkANs5ft5cgiADLCQKtntbI7AAAAAElFTkSuQmCC\n",
       "\" style=\"display:inline;vertical-align:middle;\" /></a>, <a class=\"ProveItLink\" href=\"../__pv_it/theorems/e9f87a0977d5044ea8daf1040d2f219396bb3d5b0/expr.ipynb\"><img src=\"data:image/png;base64,iVBORw0KGgoAAAANSUhEUgAAADMAAAAQBAMAAABJt1qBAAAAMFBMVEX////MzMwyMjKqqqoiIiJm\n",
       "ZmaYmJju7u5EREQQEBC6urqIiIh2dnZUVFTc3NwAAAAqL9KcAAAAAXRSTlMAQObYZgAAAAlwSFlz\n",
       "AAAOxAAADsQBlSsOGwAAANFJREFUGNNjYMACalqU9slgk2DgvpnAHt+KVSp6DQMDG1YpxoB2IHkV\n",
       "RWyHi4sCkOItaACSZcgyi7ZDaA6+AKgI3519G8C0OlTgLeMBKGvlA47vIJrpAVRAhisBwmCfxsDq\n",
       "AJaCGfyUawOEwfqBgQVsgKQLEDSA7YIayNnAUL8AxKiA6eIAuxAI6jcw5IMZLDApLrC/uIBSBgyX\n",
       "mEEu4N4AD421QCIIqH0DsysrWEQZHoZNcewmQL+x3z74diNYpLarABbynV/iUANvTQs4oGAAAKqD\n",
       "MEJAsWyMAAAAAElFTkSuQmCC\n",
       "\" style=\"display:inline;vertical-align:middle;\" /></a>, <a class=\"ProveItLink\" href=\"../__pv_it/theorems/a259ec76dfb0a5be60b7c83d797520fa82c1dba60/expr.ipynb\"><img src=\"data:image/png;base64,iVBORw0KGgoAAAANSUhEUgAAADEAAAAQBAMAAABNQoq8AAAAMFBMVEX///+YmJjMzMzc3NyIiIhU\n",
       "VFR2dna6urqqqqpmZmYyMjIiIiIQEBBERETu7u4AAAD7tRWPAAAAAXRSTlMAQObYZgAAAAlwSFlz\n",
       "AAAOxAAADsQBlSsOGwAAANtJREFUGNNjYMAEz26vclZjYOC7swFNgiVGgG/+TSCDawKazJQyBgZG\n",
       "kAx/A6oE04R7QDISiOsfQIV8d+9eAKRYH1wAkg+BOBsqUeUHoXmZYcYvdYkAUczroHxTpgQIg+/X\n",
       "g/cGIIcYQGXU2AUgDI5/DDwOIBmYCyzZHSAMzgUM/CDtOruB4ALYHqhp3AkM9SB3v4Xp4QW7DeKd\n",
       "+SB3c8Nk2MH+YQfKKPAdBIeJAzwMSoHELKDHBHgh7l8BD7dbk/m6gWJ8YRMhAk+vwwLj2Z3fk1EC\n",
       "rOw2OHRgAAASXDjITT81JQAAAABJRU5ErkJggg==\n",
       "\" style=\"display:inline;vertical-align:middle;\" /></a>, <a class=\"ProveItLink\" href=\"../__pv_it/theorems/2de9369b45a908c70ce51ac54a63f9ba591079430/expr.ipynb\"><img src=\"data:image/png;base64,iVBORw0KGgoAAAANSUhEUgAAASUAAAAVBAMAAADyROVdAAAAMFBMVEX////MzMxUVFRERES6uroi\n",
       "IiIQEBCYmJhmZmYyMjLu7u52dnaqqqqIiIjc3NwAAACW8nlqAAAAAXRSTlMAQObYZgAAAAlwSFlz\n",
       "AAAOxAAADsQBlSsOGwAAAxRJREFUSMeVlk1o1EAUx//bbLufSfVQEYu4eCgiFFawUgvK4qEqtVjB\n",
       "hSoeKgiCFxd60VtO1g9ae1OLQtTDFmpx0ZP0Ug8V1INLFfyiZVWEoiAr4kE91JnJzCTbTGabB82+\n",
       "zvz+L29eZl4CoAa9Wf5/IsEKa6Z3AXM+dD79+MSdT5V41RuJBCtMo8dMz63lTgxS92U4tXgW079s\n",
       "vPVGIsEK0+jNrlL6ei/MElneZCiVfFMBRm2kHFmLKLCqluF6jA8AiV5gisQqhVKbDRK/xUbCljeO\n",
       "AqsSD9fH7D5y3QFcANqC06+LRbaenQZdGglzTsxEghWm0IsALU6eXMuEcfA8AB3+wJ38CnduiKlI\n",
       "sMKCehnAsHiBUyVcIz+zi3fn5IGwpoST6+TeIzEXCVZYQO8F+ByruE4mx5Zlm93JIUGlRAuJVQ5y\n",
       "7yJ8NVg3rLCA3gvQGed7LTGJU+RaS/xtKaHsHoqUXII9yL1nYkjC6bntTjNYYd7NZE7CWRGdLTuC\n",
       "M2SNSJJ0Yktu9puKxPJsi3zn/DYhlHAS7lp1sMKkXpoMYFj82cXqFCN7neaYdXO6L/k+gzv9vpgu\n",
       "3F6wfjaD1TnxmwmTAQx27ojFR2g5gaO1tCNyapX8IdpyUAAWfLV34YTj5qSD1c+O68e2vmu8W5z1\n",
       "pzgrzT6Sa6ELGVkns+q15hxYpUdp66EjHozMkAZGsJk7Dfpyf6mt1hhg/AC5XCEbLk+P7qstl3BE\n",
       "5oTbXju7WXswzI/ww0n3nHMYHY4GTv/hikbH0397j/Y1Acy9E+kF0qOSFXQA00vZsXkvp3u7Hfmq\n",
       "Pz9MV3OcFvkkTUTCVp8ORpGMttImSLNkDh3x6bvFvvMCzOz5PUHpAlo3iERFThjoKTa8Ky028YLy\n",
       "El7BDx2cDTw8NuLpT+NyTB3gK3zvzOyQ9s1Jj6qErV0br+rgTGCcjXj6Oo49VQcYI3/7BfbkX8j3\n",
       "2Bf2aNikgNtWV+saGLOBcXdE6OM5fFR/I1j5hhYTZiyQuaZ5aWEEV1ddp96ge9KqNqFM3zd0JFhV\n",
       "hWZ6LAP/Ad9VB8hnvBZOAAAAAElFTkSuQmCC\n",
       "\" style=\"display:inline;vertical-align:middle;\" /></a>, <a class=\"ProveItLink\" href=\"../../addition/__pv_it/theorems/b66b5547fa9b0b910f79351152926c658c2718190/expr.ipynb\"><img src=\"data:image/png;base64,iVBORw0KGgoAAAANSUhEUgAAADEAAAAQBAMAAABNQoq8AAAAMFBMVEX///9UVFQyMjK6urru7u4Q\n",
       "EBBERERmZmaqqqoiIiLc3NzMzMyYmJiIiIh2dnYAAABC1PP/AAAAAXRSTlMAQObYZgAAAAlwSFlz\n",
       "AAAOxAAADsQBlSsOGwAAAMJJREFUGNNjYMAEfplKt/ZhEWfgFT3AUp+OTabWjoGBB5sMd0EKkBRH\n",
       "Fro2c6YCkGJ0SACSPkgSRlcgNBtXAUzo7Z0NQJJLBcpdyP0AylrZwA7SzrQAyt/HfADKmsfAegEk\n",
       "AzNiOfMFCIP9C4TeOhMIEsD2QE1jTYDQbjA9bA5QEX+oXk6YDDPYP8wMDPxA+wxAYXIBHgaGQKII\n",
       "aE8CAx/I1Qwa8HBLqmLpBPnp3RmIFx2THWBhnfqzCiXA7DLBoQMDAANFK7BF6/dnAAAAAElFTkSu\n",
       "QmCC\n",
       "\" style=\"display:inline;vertical-align:middle;\" /></a> <a class=\"ProveItLink\" href=\"../__pv_it/demonstrations/793e437778032088aab043b773619897d1767eb00/proof.ipynb\" style=\"text-decoration: none\">&nbsp;&#x22A2;&nbsp;&nbsp;</a><a class=\"ProveItLink\" href=\"../__pv_it/demonstrations/81f85d72ca3ffffe0ed504bd5429b7824f91f3450/expr.ipynb\"><img src=\"data:image/png;base64,iVBORw0KGgoAAAANSUhEUgAAApYAAAAVBAMAAAAOZ7NmAAAAMFBMVEX///8yMjKqqqoiIiJmZmaY\n",
       "mJju7u5EREQQEBBUVFTMzMyIiIi6urp2dnbc3NwAAABRd72LAAAAAXRSTlMAQObYZgAAAAlwSFlz\n",
       "AAAOxAAADsQBlSsOGwAABIpJREFUWMPNmU2IHEUUx9/OzrQ7mdnOHIzgyQnjQQiaIR1EwUDLEiNI\n",
       "2ImKQhTtQ3SNQfbiQYjoQogRVuIHJAiL0Kh4UNSB4GF3EIIQ0NOuxghrRujbEoJEF5xDzIfVVT3V\n",
       "/epVlVO5ZOpQPfN/1a/+++vq6a63kMC4tEQnJYZgopV9W0L//2bTNh9GyZnwT/2xYUmd1JpS7OsH\n",
       "K/L0WUtCa9DY8FmmnH2od/U5vTfaY8HyfrCwnDs2VizhO0POifD2stzObyWvYWMJd44Xy4kIB89l\n",
       "x61NRVBaveMimwNIz5089Rg/lDuU5bn8+yaV9bhGCRqt6VmqUSZXQsxyR3ZcjRRBaaWui2wOIF06\n",
       "OfObOE4BZblDfq8PqKzHNUrQaE3PUo2m8jt6lufh9rH0zg/F7VaW0+0xY7kt7S9dvKwkvrv3ERaO\n",
       "LL/6R5NO5PVOf/2LA0tlfH7CdO9gZtObkff9fmGS26MsJ5aWmxpchSlcgjaWRdcalkPv6+nNchLe\n",
       "jlBi7+9oPkEzhbWlcptOVIbl7owDS2W81P1dsE/Y9D7ML9k2cS9ze5Tl/F3eDQ2uwhQuQRvLomvK\n",
       "Uno/wPpXOjCDE5cGMNUtCpWkMqh26EQvwIvRKQeWynipT67BYmazwHIX9y7sUZY7I3lOEVdhCpeg\n",
       "jWXRNWUpvd/H+lmAPak+EwTvBsHD6fJpwNa1orAllQBeavDFFQQPHQuCD9jHGB5l/Wvrp7GMGxlP\n",
       "9dlI2vTze/w9Lgp7feyQfWeZrqsy+9PEFN4BAGOQ+1UTmizLs3KWOCq9f8v6E+BdwxeJoV5t4quW\n",
       "rtMtvTZZgIvpD8BwXY/w7FnU6ie0zx7BUtij63IP1De1j5d0iq/OGJ490q/Ts2fR8uyR3n+Evvcv\n",
       "VP7Cidnr5WyEZ1pNvAhKhGX9BrwM1+BKPCJLPp7ozILunYjf45k9ynITygMdLjFFS88y9+vCsuCa\n",
       "sMy9t5jZTag2HsAsY+84EubOfgzTQFh6b1YXYA2eGZVlNv7pg70QW/qH+aXv6kc5S2GPsrya/pIS\n",
       "XNkUepZFv6OzRK7pupTen2X9UWiFIUpc7dyBhZ1fPA4/UJalq4cW6s38fXQ4w3wjfReArFPHe88f\n",
       "h5P4hH0Av6M9JL8265yHsEdZnoLXNbiGlrQsi36VIHcqfSNayDVlKb3vZ/3h779ZinHiT/bimQ71\n",
       "SnubmnX5RPfeJ9NH04PKYzm9Erth2Cnj/SMNGCiWLjwX0R3yZ5yHsEdZHv61o1t6mSX9uiz4VRPu\n",
       "Rr7Ruiy6piyl90f0+x6DQH8vRduInPY91W59wbaHHLbJ2LbvsW9tWrZg6td53yNcm/c9fltf2zAI\n",
       "kiWuVfihn7jUNqbichjbahtZq4TW2oa1fNGyBLlf59qGcG2ubZQ7TrXgkr6sufHl55FLce0KTH4a\n",
       "G2puXsCbCL8Ft1wLblmC3K9zzU24NtfcNpzq6v7P17U38fs3bzoVKn+C2oWRasFzt8zyz3sumoPc\n",
       "rzNL4drMkl34lbH5HwV14neluKIfrMi12JLQGjQ2fJYp5wrUEvgPbkBansNbsUsAAAAASUVORK5C\n",
       "YII=\n",
       "\" style=\"display:inline;vertical-align:middle;\" /></a></span>"
      ],
      "text/plain": [
       "{n in Natural, a in Complex, b in Complex,(x_{1} in Complex), (x_{2} in Complex), ..., (x_{n} in Complex), c in Complex} |- |a + b+ x_{1} +  x_{2} +  ... +  x_{n} + c| <= (|a| + |b|+ |x_{1}| +  |x_{2}| +  ... +  |x_{n}| + |c|)"
      ]
     },
     "metadata": {},
     "output_type": "display_data"
    }
   ],
   "source": [
    "Abs(Add(a, b, x_1_to_n, c)).deduce_triangle_bound(\n",
    "    assumptions=[InSet(a, Complex), InSet(b, Complex), InSet(c, Complex),\n",
    "                 ExprRange(k, InSet(IndexedVar(x, k), Complex), one, n), \n",
    "                 InSet(n, Natural)])"
   ]
  },
  {
   "cell_type": "code",
   "execution_count": 106,
   "metadata": {},
   "outputs": [],
   "source": [
    "%end demonstrations"
   ]
  },
  {
   "cell_type": "code",
   "execution_count": null,
   "metadata": {},
   "outputs": [],
   "source": []
  }
 ],
 "metadata": {
  "kernelspec": {
   "display_name": "Python 3",
   "language": "python",
   "name": "python3"
  },
  "language_info": {
   "codemirror_mode": {
    "name": "ipython",
    "version": 3
   },
   "file_extension": ".py",
   "mimetype": "text/x-python",
   "name": "python",
   "nbconvert_exporter": "python",
   "pygments_lexer": "ipython3",
   "version": "3.7.3"
  }
 },
 "nbformat": 4,
 "nbformat_minor": 1
}
