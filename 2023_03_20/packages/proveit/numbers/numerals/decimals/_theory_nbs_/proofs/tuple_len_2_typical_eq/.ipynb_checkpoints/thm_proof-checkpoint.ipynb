{
 "cells": [
  {
   "cell_type": "markdown",
   "metadata": {},
   "source": [
    "Proof of <a class=\"ProveItLink\" href=\"../../../../../../_theory_nbs_/theory.ipynb\">proveit</a>.<a class=\"ProveItLink\" href=\"../../../../../_theory_nbs_/theory.ipynb\">numbers</a>.<a class=\"ProveItLink\" href=\"../../../../_theory_nbs_/theory.ipynb\">numerals</a>.<a class=\"ProveItLink\" href=\"../../theory.ipynb\">decimals</a>.<a class=\"ProveItLink\" href=\"../../theorems.ipynb#tuple_len_2_typical_eq\">tuple_len_2_typical_eq</a> theorem\n",
    "========"
   ]
  },
  {
   "cell_type": "code",
   "execution_count": 1,
   "metadata": {},
   "outputs": [],
   "source": [
    "import proveit\n",
    "theory = proveit.Theory() # the theorem's theory"
   ]
  },
  {
   "cell_type": "code",
   "execution_count": 2,
   "metadata": {},
   "outputs": [
    {
     "data": {
      "text/html": [
       "Under these <a href=\"presumptions.txt\">presumptions</a>, we begin our proof of<br><strong id=\"tuple_len_2_typical_eq\">tuple_len_2_typical_eq:</strong> <a class=\"ProveItLink\" href=\"../../../__pv_it/theorems/10b037baccf1e1ebd13cf393d16f9c41951216fd0/expr.ipynb\"><img src=\"data:image/png;base64,iVBORw0KGgoAAAANSUhEUgAAAPsAAAAWBAMAAAD0hvfJAAAAMFBMVEX///+IiIgiIiIQEBB2dnbu\n",
       "7u5ERETMzMzc3NwyMjK6urpmZmaYmJiqqqpUVFQAAAB6qHgnAAAAAXRSTlMAQObYZgAAAAlwSFlz\n",
       "AAAOxAAADsQBlSsOGwAAAztJREFUSMe9lkFoE0EUhl92s7tpNpuuB2kPKiFQFIsSRBHEQ/CiFI0r\n",
       "lIIXExGxx6Ce7VpBBKHkongoEulVaARBagOmBwtS0Kj1UPAQMRdBoR6K7anOm523SXYzWfDgCxl+\n",
       "3r79v5nZnZkFkIXLfkIEL/TLikQCIiNBrTugKNaECRK98Yy3E8EbvMT+aHzSxjZe5UYt1F/DRetk\n",
       "uN6V1K5lWH8acryVBzDG5OiHSzcA9gk8Gr1G/SRUp1WEIYpODNVY80iOvwxwZWlLPu8luFiFIcfD\n",
       "o9EdLxsMsyEMzUZ3ehifxJocX8enJcenXVBzkKoJPDPCrsSboUKVDNWe9CJ2XHWk+NxgvLoF6W2A\n",
       "EwLPjFJsdEPhwg0y3OhJn+FPoCHDW5WI0Wcg/QdgXuDR6Fg2ezxc+JIIKBLtUdtLP93zi93ZkuHN\n",
       "/GA8C2UToCDwaPQK4Hq4ap4IKBZc3bPUdpyiC6kKXTSzPFqE5/MyGD/DBvJO4NFoDhItumY8JnWE\n",
       "CExop8HM8Ky1BaoNVk42eqUZiT/K/p8FHo10B5WINolTRGDC3AQl762HCgznwdiU4dVqFN7ERTYj\n",
       "8Ghk2V1v3sl+eLUERa+HrBeLTUjm/h3/HpsFgedGlRXWTK6cw8n/fcAJT37Rhg/+sn/jgJWRPfvI\n",
       "yWe74gOATzT5aHSBbT7aIWMb7xyL1by6q0RgotiEH5arIb7M3gNIlWSj122B18JkPq7bAHsBVunV\n",
       "Q6N7rPNmzcCJ0BspsccWiFBAU2vchCK7km7oNbG8+uL5koyzgWAxb7SdbpEYX17OeIsZ8dwoXcaH\n",
       "FsM71bIpVsFNIjChfTs7NwIKO0m0Nu6qSlWGN5h3+vvOT14MCs7kOIksG76yu7vLunJY4BV654uu\n",
       "/pZdHgZV7L9KWRBQePGFxKx8zz8YKu48dsc/eDICP+tvxu7Mc2cSFGdVJPBYmCDhRZ5EXY5fCxX7\n",
       "Ee85zji+7n8C1D+eh1tN44VNmWkiTNMRbHdOTSledwPFnbjkq/vivA8etN0H3xQRpujzh654iP54\n",
       "rRQo7kSnQ9MCr/d+bSWd7i8DG0ZI9MYob0eC9l7ibvTHVoxTY2Vh5EcK/nv8BVY2zeEbkrzUAAAA\n",
       "AElFTkSuQmCC\n",
       "\" style=\"display:inline;vertical-align:middle;\" /></a><br>(see <a class=\"ProveItLink\" href=\"../../../__pv_it/theorems/ea829ad18bac1edbdfbf6d39ef731724c67380eb0/dependencies.ipynb\">dependencies</a>)<br>"
      ],
      "text/plain": [
       "<IPython.core.display.HTML object>"
      ]
     },
     "metadata": {},
     "output_type": "display_data"
    }
   ],
   "source": [
    "%proving tuple_len_2_typical_eq"
   ]
  },
  {
   "cell_type": "code",
   "execution_count": null,
   "metadata": {},
   "outputs": [],
   "source": []
  }
 ],
 "metadata": {
  "kernelspec": {
   "display_name": "Python 3",
   "language": "python",
   "name": "python3"
  },
  "language_info": {
   "codemirror_mode": {
    "name": "ipython",
    "version": 3
   },
   "file_extension": ".py",
   "mimetype": "text/x-python",
   "name": "python",
   "nbconvert_exporter": "python",
   "pygments_lexer": "ipython3",
   "version": "3.7.3"
  }
 },
 "nbformat": 4,
 "nbformat_minor": 1
}
