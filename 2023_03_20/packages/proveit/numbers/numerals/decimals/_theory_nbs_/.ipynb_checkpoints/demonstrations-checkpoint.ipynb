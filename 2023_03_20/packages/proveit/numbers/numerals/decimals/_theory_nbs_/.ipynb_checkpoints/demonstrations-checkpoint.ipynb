{
 "cells": [
  {
   "cell_type": "markdown",
   "metadata": {},
   "source": [
    "Demonstrations for the theory of <a class=\"ProveItLink\" href=\"theory.ipynb\">proveit.numbers.numerals.decimals</a>\n",
    "========"
   ]
  },
  {
   "cell_type": "code",
   "execution_count": 1,
   "metadata": {},
   "outputs": [],
   "source": [
    "import proveit\n",
    "from proveit import ExprRange, ExprTuple, var_range\n",
    "from proveit.logic import Equals, InSet\n",
    "from proveit.numbers import zero, one, two, three, four, five, six, seven, eight, nine\n",
    "from proveit.numbers import (num, Add, \n",
    "                            Natural, NaturalPos, subtract)\n",
    "from proveit.numbers.numerals.decimals import DecimalSequence\n",
    "from proveit.core_expr_types import Len\n",
    "from proveit import A, a, b, c, d, e, f, g, h, i, j, k, m, n, x\n",
    "from proveit.numbers.numerals.decimals import Digits\n",
    "%begin demonstrations"
   ]
  },
  {
   "cell_type": "markdown",
   "metadata": {},
   "source": [
    "Decimals are defined as numbers within the base-10 number system.  That is, they use the numbers `0` through `9` for each digit.  At the moment, only whole numbers are defined within Prove-It."
   ]
  },
  {
   "cell_type": "markdown",
   "metadata": {},
   "source": [
    "The digits `0` through `9` are individually defined literals that can be imported from `proveit.numbers`."
   ]
  },
  {
   "cell_type": "code",
   "execution_count": 2,
   "metadata": {},
   "outputs": [
    {
     "data": {
      "text/html": [
       "<a class=\"ProveItLink\" href=\"../../__pv_it/common/dd4e19e8b134dfb293470ea55fe3589b0ab9f8040/expr.ipynb\"><img src=\"data:image/png;base64,iVBORw0KGgoAAAANSUhEUgAAAAoAAAAOBAMAAADkjZCYAAAAMFBMVEX///9mZma6urpUVFREREQQ\n",
       "EBDc3NwiIiLu7u6qqqoyMjLMzMyYmJiIiIh2dnYAAADXmt2vAAAAAXRSTlMAQObYZgAAAFFJREFU\n",
       "CNdjYOC785qBgWElQ3sCA08AA98CBhYDBs4fDPwGDEw/GfoFGJj+MuQ/YOAGkgIM3P+gIkBZzp8M\n",
       "LA4MPD+guhgqGVo3MDD03bVmAABi3RThwIkdoQAAAABJRU5ErkJggg==\n",
       "\" style=\"display:inline;vertical-align:middle;\" /></a>"
      ],
      "text/plain": [
       "0"
      ]
     },
     "execution_count": 2,
     "metadata": {},
     "output_type": "execute_result"
    }
   ],
   "source": [
    "# each digit literal is defined as its linguistic counterpart. e.g. 1 is defined as \"one\" \n",
    "zero"
   ]
  },
  {
   "cell_type": "markdown",
   "metadata": {},
   "source": [
    "In order to create numbers larger than a single digit, create a DecimalSequence() object, or use the num() method."
   ]
  },
  {
   "cell_type": "code",
   "execution_count": 3,
   "metadata": {},
   "outputs": [
    {
     "data": {
      "text/html": [
       "<strong id=\"deci_sequence\">deci_sequence:</strong> <a class=\"ProveItLink\" href=\"../__pv_it/demonstrations/5316053abcee2c9241febde5f55c0fef55bdaa350/expr.ipynb\"><img src=\"data:image/png;base64,iVBORw0KGgoAAAANSUhEUgAAABwAAAAPBAMAAAAFYbKSAAAAMFBMVEX///+6urpERETc3NwiIiLM\n",
       "zMwyMjJmZmaIiIiYmJh2dnZUVFTu7u4QEBCqqqoAAAD7YXnbAAAAAXRSTlMAQObYZgAAAHRJREFU\n",
       "CNdjYACDFbMCIAwGvjsMDGwPeJwhrNOr/zAwzGVgWAZhMXACCW0GhvcHwCww8ZuBQf4BnMvzHcht\n",
       "gHOZfzEwxCNxgbLxC3ApBhn1HmEUgxIDw3wki8DOgHA5gATLA56rEBb73m+VDDwrugMgLFQAAKfG\n",
       "N1qeCIFBAAAAAElFTkSuQmCC\n",
       "\" style=\"display:inline;vertical-align:middle;\" /></a><br>"
      ],
      "text/plain": [
       "deci_sequence: 101"
      ]
     },
     "execution_count": 3,
     "metadata": {},
     "output_type": "execute_result"
    }
   ],
   "source": [
    "# DecimalSequence() takes each digit as an argument\n",
    "deci_sequence = DecimalSequence(one, zero, one)"
   ]
  },
  {
   "cell_type": "code",
   "execution_count": 4,
   "metadata": {},
   "outputs": [
    {
     "data": {
      "text/html": [
       "<strong id=\"num_def\">num_def:</strong> <a class=\"ProveItLink\" href=\"../__pv_it/demonstrations/5316053abcee2c9241febde5f55c0fef55bdaa350/expr.ipynb\"><img src=\"data:image/png;base64,iVBORw0KGgoAAAANSUhEUgAAABwAAAAPBAMAAAAFYbKSAAAAMFBMVEX///+6urpERETc3NwiIiLM\n",
       "zMwyMjJmZmaIiIiYmJh2dnZUVFTu7u4QEBCqqqoAAAD7YXnbAAAAAXRSTlMAQObYZgAAAHRJREFU\n",
       "CNdjYACDFbMCIAwGvjsMDGwPeJwhrNOr/zAwzGVgWAZhMXACCW0GhvcHwCww8ZuBQf4BnMvzHcht\n",
       "gHOZfzEwxCNxgbLxC3ApBhn1HmEUgxIDw3wki8DOgHA5gATLA56rEBb73m+VDDwrugMgLFQAAKfG\n",
       "N1qeCIFBAAAAAElFTkSuQmCC\n",
       "\" style=\"display:inline;vertical-align:middle;\" /></a><br>"
      ],
      "text/plain": [
       "num_def: 101"
      ]
     },
     "execution_count": 4,
     "metadata": {},
     "output_type": "execute_result"
    }
   ],
   "source": [
    "# the num() method takes in a python integer as an argument\n",
    "num_def = num(101)"
   ]
  },
  {
   "cell_type": "code",
   "execution_count": 5,
   "metadata": {},
   "outputs": [
    {
     "data": {
      "text/html": [
       "<span style=\"font-size:20px;\"> <a class=\"ProveItLink\" href=\"../__pv_it/demonstrations/45d372fea4183aec13e2e2b9c051130d0bf2f07a0/proof.ipynb\" style=\"text-decoration: none\">&nbsp;&#x22A2;&nbsp;&nbsp;</a><a class=\"ProveItLink\" href=\"../__pv_it/demonstrations/ae9c62ee8a67ce60f8de273ce7876d9c06c72c6c0/expr.ipynb\"><img src=\"data:image/png;base64,iVBORw0KGgoAAAANSUhEUgAAAFcAAAAPBAMAAABjO07FAAAAMFBMVEX///+6urpERETc3NwiIiLM\n",
       "zMwyMjJmZmaIiIiYmJh2dnZUVFTu7u4QEBCqqqoAAAD7YXnbAAAAAXRSTlMAQObYZgAAAOxJREFU\n",
       "KM9jYACDFbMCGHACrs6lMCbfHQYGtgc8zhAWOnh7gIEhj+GIAYR1evUfBoa5DAzLICxUwLNr/wEG\n",
       "zgsMXAlgFgMDJ1CJNgPD+wNgFjqYf4CBaQMD3x8wC6L4NwOD/ANcivk3MDD+Qyjm+Q5U3IBL8fkC\n",
       "BsYfCMXMvxgY4uGKudLAoACm2H4BAyuyYqDJ8QtwmWxfwMD6i0xngDz4Hp8H+ZA8yKAEZqO6eQM8\n",
       "6BTAMnDF4EjBZTI4UqCKOYBKWB7wXIWw0EE/UIkfw9kACIt977dKBp4V3QEQFhqovp8+geFUx1Yo\n",
       "ixQAAP3MfCADdZ3qAAAAAElFTkSuQmCC\n",
       "\" style=\"display:inline;vertical-align:middle;\" /></a></span>"
      ],
      "text/plain": [
       "|- 101 = 101"
      ]
     },
     "execution_count": 5,
     "metadata": {},
     "output_type": "execute_result"
    }
   ],
   "source": [
    "Equals(deci_sequence, num_def).prove()"
   ]
  },
  {
   "cell_type": "markdown",
   "metadata": {},
   "source": [
    "The set `Digits` is defined as the natural numbers from 0 to 9.  "
   ]
  },
  {
   "cell_type": "code",
   "execution_count": 6,
   "metadata": {},
   "outputs": [
    {
     "data": {
      "text/html": [
       "<span style=\"font-size:20px;\"> <a class=\"ProveItLink\" href=\"proofs/N_leq_9_enumSet/thm_proof.ipynb\" style=\"text-decoration: none\">&nbsp;&#x22A2;&nbsp;&nbsp;</a><a class=\"ProveItLink\" href=\"../__pv_it/theorems/8f4f26dcf8b16d307b99ca6f035a0a94f7fd1f6d0/expr.ipynb\"><img src=\"data:image/png;base64,iVBORw0KGgoAAAANSUhEUgAAAQ8AAAAZBAMAAADd+bY/AAAAMFBMVEX///9mZmaqqqrc3NyIiIgi\n",
       "IiJUVFTMzMyYmJi6uroQEBB2dnZEREQyMjLu7u4AAAA1o4RqAAAAAXRSTlMAQObYZgAAA+ZJREFU\n",
       "SMfNlk9oFFccx7+ZTGZns5vJLhX8Q5V4KaWN7YYiFD1khQW9iGlLe2sdtWLqxRGaXFLIHoKUimQv\n",
       "XgQxKK1/ELtBmlo3pUvpoS1pXHOQFFFHMD0YyopW2ibdTn/z3u/Nbnc32fWg8cG++c577zfvM7/f\n",
       "7/12gP+3jTk8B60bpq3HVp5jUxLtmdZ/V5zjWBroTeDvlebYSRwoOnhYM2Ouebo7h1a5FXfHu/y+\n",
       "PRP6q3qddfNp+yB8lrrf//nFxdWFzPxP/pCWN2tCYz6gLrLj6xrA+JQjVWtuskuNHubrrHuYxyIp\n",
       "Nh3Yk8tlpWlqPCPH7ub2Ub/elz+GbFi01/z3/t3H2x9Vbxjpo24Gcwl5q13i8d8QYegeaIEf3+Pr\n",
       "l94i8/4q9wFGPc+zhWoB9srJc9hCcfnK1/udFDBGQp+hCYTz9UDMMUQKcvsJdaw2ABek2tWFxzyo\n",
       "f8Hi5ocMHo1hSqoXAEOqlykSQhhjMGIM8tG04aBPxGAW0WTUqQcStaExgKlAPgcOyc1OZFDiwTdv\n",
       "sLCV+amEUhQWDtIkMCdEZwGRBwyyb9C6LUGgueHUZdQD6bQRflgFcsfFIUUdhCZbA/JzZVYmGW4a\n",
       "V4Qo5qE/UiBacpBB6jcfpBhD+I8qEGq71bmby/JkQoH0j6yWojS0LaPWR/lqeEdlJrcXRKJdFSD4\n",
       "xkxWg3x7y2/XpRUlR28WoVqQMOcjtr7FRPegQKbRK/a3Smm8rQyuKPFdSRpQXDrImaMSxHAP9KF7\n",
       "ippbzyOvkP97Ywgt1oC0Bf7Xz6s0uBHMRsXbWR6wjp/rH04ZybW72eAHvEoh74gJEMvuGFs6Mp+8\n",
       "g6VCEy+vuiD20pwKkBZZCOg8jXJs9AJPHYG+IOG0kaE//aOb9EEwFFoGBCcckaxadbIi+KN+A7gm\n",
       "Yj4PBWIUVJV5n0DS7EFVGqgUDasSaNDzOmzhEZhd+bo5Ih9q0GQ0HwCUQTaiVR5Nz2WQl+LxhVUq\n",
       "C1vkwoNlj3Ta5RAZDCcgRI4coN/lfINTUy5oZZBQFroEuVhxfrigUe1skwbDLtbx3LBy4Rl6NWFq\n",
       "XsJwgk/NjG9WaABCiX/fsUTV0gmk6K/fnBvfL9Wnfh0pFhhKLGuN4bOEUEbWOs2Tr2fZ9KSLEaH0\n",
       "29YsZB0ZWCBvWA1B5lPkuXfptVsOltag7QO/oHneY6nC8RczUmHS6xfL0DOxQRpgfMLhyS0UP6FC\n",
       "e8bZIBfPMEjjFgmKjBYc79ewjCova9KgWZDgSEVQ8bextCova9KgSRBTlSGqm+pTJLmcCpY1a6C+\n",
       "Exq14AstHbBhOZXGExqEzzcHoj2Lb9b/AFbwPNNodldlAAAAAElFTkSuQmCC\n",
       "\" style=\"display:inline;vertical-align:middle;\" /></a></span>"
      ],
      "text/plain": [
       "|- Digits = {0, 1, 2, 3, 4, 5, 6, 7, 8, 9}"
      ]
     },
     "execution_count": 6,
     "metadata": {},
     "output_type": "execute_result"
    }
   ],
   "source": [
    "from proveit.numbers.numerals.decimals import N_leq_9_enumSet\n",
    "N_leq_9_enumSet"
   ]
  },
  {
   "cell_type": "code",
   "execution_count": 7,
   "metadata": {},
   "outputs": [
    {
     "data": {
      "text/html": [
       "<span style=\"font-size:20px;\"> <a class=\"ProveItLink\" href=\"proofs/digit1/thm_proof.ipynb\" style=\"text-decoration: none\">&nbsp;&#x22A2;&nbsp;&nbsp;</a><a class=\"ProveItLink\" href=\"../__pv_it/theorems/60c4a653cddaed90a8072e1a47a480a0a5799f510/expr.ipynb\"><img src=\"data:image/png;base64,iVBORw0KGgoAAAANSUhEUgAAAEcAAAAVBAMAAADm2O7QAAAAMFBMVEX///+6urrc3NzMzMwiIiJE\n",
       "REQyMjJmZmaIiIiYmJh2dnZUVFTu7u4QEBCqqqoAAABhZHJKAAAAAXRSTlMAQObYZgAAARxJREFU\n",
       "KM9jYCAA+KoWEFIRwDCboZ2AmgwGhosM+gfwqeHMZGBg+sTAL4BHDQdQDQPPZwb+B7jVMPqBqYsM\n",
       "9hMwJXnyQ3MYuO5f5FkKtuYpw3wgzXcHTRXrBGsGhvNA1UtB9jB32CswnF79B00RtzNHAwMviNUG\n",
       "VHWAQRTkB5iiqS4uCWBFogc2M7CAhaZNYIhgCEZSZNoDM0l5w7EDEEUMbxgkuhQQinhy4NYpvGDe\n",
       "wIIWZH+gUghFXAIzsCtiRThcgWEPtwkDXygQxKAqsk0DggSootMMuVhNUkU2iXmBLVZFvMiKGOax\n",
       "YlXE3gBXZMDAwKWKFtnQcPKDCbCBYqMMRQ373m+VYMbpQEjiYva/CiSP4UgbUiGQaMEEAL96RAF5\n",
       "xvhdAAAAAElFTkSuQmCC\n",
       "\" style=\"display:inline;vertical-align:middle;\" /></a></span>"
      ],
      "text/plain": [
       "|- 1 in Digits"
      ]
     },
     "execution_count": 7,
     "metadata": {},
     "output_type": "execute_result"
    }
   ],
   "source": [
    "InSet(one, Digits).prove()"
   ]
  },
  {
   "cell_type": "markdown",
   "metadata": {},
   "source": [
    "Prove-It is also able to perform basic arithmetic involving decimal sequences."
   ]
  },
  {
   "cell_type": "code",
   "execution_count": 8,
   "metadata": {},
   "outputs": [
    {
     "data": {
      "text/html": [
       "<span style=\"font-size:20px;\"> <a class=\"ProveItLink\" href=\"../__pv_it/demonstrations/56b24dc78e5beef19449e59d97f81d084975a4510/proof.ipynb\" style=\"text-decoration: none\">&nbsp;&#x22A2;&nbsp;&nbsp;</a><a class=\"ProveItLink\" href=\"../__pv_it/demonstrations/010d78374f193fbe680051e27337c0ee85158a270/expr.ipynb\"><img src=\"data:image/png;base64,iVBORw0KGgoAAAANSUhEUgAAAHYAAAAVBAMAAABh6QfWAAAAMFBMVEX////MzMxUVFRERES6uroi\n",
       "IiIQEBCYmJhmZmYyMjLu7u52dnaqqqqIiIjc3NwAAACW8nlqAAAAAXRSTlMAQObYZgAAAAlwSFlz\n",
       "AAAOxAAADsQBlSsOGwAAATJJREFUOMtjYGB4wIAH8OGTZOA9gE+W5QI+2dNALLoARqAAkMh1TB0g\n",
       "4RedhgwMXBMYuDTmL4AQKAAiwoluIliYz4BhvwMDRwGQf38BjAC7swDKAImwN2DYCxRmesDAlsDA\n",
       "xoChl+cCkl6GLGx62X4xMP1jOElI73Ss9gYwMH1k6CakdxM2vUDA+gFiLD69lWBmaygIBCHplb/A\n",
       "EENI7zEc9gLNSUHTyxEaGpYaGqoAF5bHrpfDAFMvhr1u2PUWATFBNx/F6l+eDQzvGGwJ6S3Gaq80\n",
       "A8MtSBTsfwAjUPSCRbox9AKF+SI6OgIYRIEcpfxJBRACRS9EJARdK0iY9f///xMYWAUwzOVBznd8\n",
       "AbizIJa0Ds8L4DgrwJN/7fCWDAyP8Ukuxq8Xr9F8eEsVXjylGQCn8Yqky9+xCgAAAABJRU5ErkJg\n",
       "gg==\n",
       "\" style=\"display:inline;vertical-align:middle;\" /></a></span>"
      ],
      "text/plain": [
       "|- (11 + 1) = 12"
      ]
     },
     "execution_count": 8,
     "metadata": {},
     "output_type": "execute_result"
    }
   ],
   "source": [
    "Add(num(11), one).evaluation()"
   ]
  },
  {
   "cell_type": "code",
   "execution_count": 9,
   "metadata": {},
   "outputs": [
    {
     "data": {
      "text/html": [
       "<span style=\"font-size:20px;\"> <a class=\"ProveItLink\" href=\"../__pv_it/demonstrations/5f36f43f3563fd294c0fafae3cf35dd8acd18edf0/proof.ipynb\" style=\"text-decoration: none\">&nbsp;&#x22A2;&nbsp;&nbsp;</a><a class=\"ProveItLink\" href=\"../__pv_it/demonstrations/b9eea476e74ac5844ec722bdfe6c00630e19b15a0/expr.ipynb\"><img src=\"data:image/png;base64,iVBORw0KGgoAAAANSUhEUgAAAG0AAAAPBAMAAAAc6lw0AAAAMFBMVEX///+6urpERETc3NwiIiLM\n",
       "zMwyMjJmZmaIiIiYmJh2dnZUVFTu7u4QEBCqqqoAAAD7YXnbAAAAAXRSTlMAQObYZgAAAL1JREFU\n",
       "KM9jYACDFbMCkAlsAF0J3x0GBrYHPM5IBDrApuT06j8MDHMZGJYhEWgAuxJOoKA2A8P7AwgCXSNW\n",
       "JSDB3wwM8g8QBDZ9GEqAgjzfgcweONGARR+mEqAg8y8GhvhmOAHWtywNBNJh+jCVgASBRsQvhhML\n",
       "sNiHqYQCd4I8/f4BgsARLqhKQIJKDAzzDyAIhP+y4fowlHASjHfsSjiAgiwPeK4iEegAmxL2vd8q\n",
       "GXhWdAcgEWiACCVEAwAO3rSxwllQKgAAAABJRU5ErkJggg==\n",
       "\" style=\"display:inline;vertical-align:middle;\" /></a></span>"
      ],
      "text/plain": [
       "|- 1000 = 1000"
      ]
     },
     "execution_count": 9,
     "metadata": {},
     "output_type": "execute_result"
    }
   ],
   "source": [
    "num(999).num_add_eval(one).rhs.simplification()"
   ]
  },
  {
   "cell_type": "code",
   "execution_count": 10,
   "metadata": {},
   "outputs": [
    {
     "data": {
      "text/html": [
       "<span style=\"font-size:20px;\"> <a class=\"ProveItLink\" href=\"../__pv_it/demonstrations/46fbe2e2a3a5db6c5fc49394b034b35614fae7fe0/proof.ipynb\" style=\"text-decoration: none\">&nbsp;&#x22A2;&nbsp;&nbsp;</a><a class=\"ProveItLink\" href=\"../__pv_it/demonstrations/82174e8fe2d5bbc598c1682a4b5d6d9f03b984340/expr.ipynb\"><img src=\"data:image/png;base64,iVBORw0KGgoAAAANSUhEUgAAAJQAAAAVBAMAAABS/tqaAAAAMFBMVEX////MzMxUVFRERES6uroi\n",
       "IiIQEBCYmJhmZmYyMjLu7u52dnaqqqqIiIjc3NwAAACW8nlqAAAAAXRSTlMAQObYZgAAAAlwSFlz\n",
       "AAAOxAAADsQBlSsOGwAAAZRJREFUOMutlLFLAlEcx7+mdZd6KYGtWVM0uTUVTbZKdEsYOEiDS0JT\n",
       "m0sgCCEtLUFCFG5Ka0gtBRFCW0NDB/0BEQSCKfTeHfJ75/3CN/QbPhw/fu9z737v3g+Ag0kxB72w\n",
       "7ieWRF70VM+AWV1V4Y9UA3gNLpPpWOdERbSO6B4WHIJvRXTlQqyZbYyJvPQ5rhwFZhlTBYQzBK94\n",
       "a7TqXawxKoFdibSRQyxDwAyQqCPWJ3ilXVWFEqcKpxHvE/AEtDKwvgmc6oxTJSoIDQioebvqETjV\n",
       "DadqCUGPIN8nOzQkcKoj+WTabqRH6c82QkMC8uI4ipgfEDjVI7crKfghoCjSzbfulwLg2Lb3bXub\n",
       "VIvsB7YRGRJcFbxzIwR2lf2j7fEBQX6gCPdvIgRUD1yvRKnRJ2AdiJfQShI41SH7ixZg1gnymK1d\n",
       "rCkYU93Jm1QLqGQ6j+ukgpRI31Y3VfhUywenZWBn3OSmm50lKJhO8gOj6xtYOZ0Zw9xU/3V2G17W\n",
       "mlcbGjUfeqPv8p9eJ/swedpajo7oF78XyoPfY0m9AAAAAElFTkSuQmCC\n",
       "\" style=\"display:inline;vertical-align:middle;\" /></a></span>"
      ],
      "text/plain": [
       "|- (999 + 1) = 1000"
      ]
     },
     "execution_count": 10,
     "metadata": {},
     "output_type": "execute_result"
    }
   ],
   "source": [
    "Add(num(999), one).evaluation()"
   ]
  },
  {
   "cell_type": "code",
   "execution_count": 11,
   "metadata": {},
   "outputs": [
    {
     "data": {
      "text/html": [
       "<span style=\"font-size:20px;\"> <a class=\"ProveItLink\" href=\"../__pv_it/demonstrations/0892bea0646921530fe71cbaa68df0334e01dfee0/proof.ipynb\" style=\"text-decoration: none\">&nbsp;&#x22A2;&nbsp;&nbsp;</a><a class=\"ProveItLink\" href=\"../__pv_it/demonstrations/ebf79bd3ef40c2d34a546458d573835f4ddc14590/expr.ipynb\"><img src=\"data:image/png;base64,iVBORw0KGgoAAAANSUhEUgAAAHUAAAAVBAMAAACK3rzVAAAAMFBMVEX////MzMxUVFRERES6uroi\n",
       "IiIQEBCYmJhmZmYyMjLu7u52dnaqqqqIiIjc3NwAAACW8nlqAAAAAXRSTlMAQObYZgAAAAlwSFlz\n",
       "AAAOxAAADsQBlSsOGwAAAT9JREFUOMtjYGB4wIAH8OGTZOA9gE+W5QI+2dNALLqAgYF7bx+6FEj4\n",
       "OqYOkDCY4JrAwKUxH8iYw7AU1fUQYc4FaDrBwhA5jgIg//4CBvYABm4DqDsLoMqAwgzsDRj2goTB\n",
       "BBuUx6zAwPMLIsdzAVlRFm69J6E8/gYGxj/Y9E7HrbcbylsP1Psdm95NuPVOh/Leb2Bg/ItNbyWY\n",
       "2RoKAkGoemOQ9P7GpvcYbntTYG7ewMACspcjNDQsNTRUAa5InrBeYFjxYA0rN9x6YW5mNmBgxxpH\n",
       "R3H71xbKY09g4JiATW8xbnvBUbD/AcgBywTQ9IKEIZGIAsDCIEIUSCvlTypgWLFXkQFVL1iYIQRd\n",
       "K1gYTLAKYJjLg5zv+AJwZ0EsaR2eF0CAowBP/rXDWzIwPMYnuRi/XrxG8+EtVXjxlGYAULGPQNNS\n",
       "PooAAAAASUVORK5CYII=\n",
       "\" style=\"display:inline;vertical-align:middle;\" /></a></span>"
      ],
      "text/plain": [
       "|- (10 + 1) = 11"
      ]
     },
     "execution_count": 11,
     "metadata": {},
     "output_type": "execute_result"
    }
   ],
   "source": [
    "Add(num(10), one).evaluation()"
   ]
  },
  {
   "cell_type": "code",
   "execution_count": 12,
   "metadata": {},
   "outputs": [
    {
     "data": {
      "text/html": [
       "<span style=\"font-size:20px;\"> <a class=\"ProveItLink\" href=\"../__pv_it/demonstrations/f4a54d75071c1e8d6d362e04875ce15163c3a6e60/proof.ipynb\" style=\"text-decoration: none\">&nbsp;&#x22A2;&nbsp;&nbsp;</a><a class=\"ProveItLink\" href=\"../__pv_it/demonstrations/86b5f14ba074ae70cbba63835209c8881a6e88420/expr.ipynb\"><img src=\"data:image/png;base64,iVBORw0KGgoAAAANSUhEUgAAASQAAAAVBAMAAAAdho5jAAAAMFBMVEX///9UVFQQEBCqqqoiIiJm\n",
       "ZmYyMjJERESYmJjc3NyIiIi6urp2dnbu7u7MzMwAAAADGpxCAAAAAXRSTlMAQObYZgAAA4BJREFU\n",
       "SMfFVktoE0EY/tNt3jsmeKg1eBBErKKwHoR6kEbwgaIQFNQWwfRQT4K1IkpPe1BoBemKCkUPTdUg\n",
       "RCyL9Cg0gi9qD9tiPdTD5iooLRSK2KY4791kN82e6hxmP/7HzDf/fLMz8Bv+T9tiNXR9pf3oJpI5\n",
       "THvV3JgS6ndZ0EDWZ1EDOY9tvmjUGtyZ2xoOFjKCUIrUjB3J+cSlNI9pR1e9zZXZ3nAwlPenpBzg\n",
       "HaV0r9nsAFOevUerPwLw9jFN+1KafV/lHaV0qsnsuH3wWJSlALz9THP+VYpVeUcoxbNNZsetz2NR\n",
       "swF4+5kiZnNKCbLfTz4+5wvqLZ0XJS5V6Dd+eWKZ79a00HTs3HEuE6XnBT8efZ2vmBcVC3Ipnd0U\n",
       "vNv+dLzwaxwzUXPNKUV1gOReuM5nXbFsNvBjLUqlCG+NaJU5J414WahEzPoZxnI80wilWQWTO/lg\n",
       "y4lnfygq3y6gv6aC7bG8pPTpKml9XkqtWIJzOlzki66K2c5AiIoTdUCYcUO7YL7CmYxVnHimYWUd\n",
       "Qqxej3g8dr5BOv2LaCcgvgYxLEAl27xKLdh9xYLTzIVHs2klwrwyBLSy2oQ6Sg/EEF3829IPi5bI\n",
       "bGGLsUQJw7vF+USrhDyhvGUpGKU9gNbln2RK43PJSW02QirtFe6iDi8ZwrxF6bq4Llszg84BDWcp\n",
       "5SCU8MahNXmoUzopGW62UA0GvCSpsjPEDf4dMeAWjzMlT+G0zTFTFh9TnjIsSGbrtNTrK2+0DKE8\n",
       "u31SJtYO5wa0XLYGbYrB6wBC1fucDeTHcQRgf8xiqlaFydbYMlrKhPKFuOaWd8MqkVM5CHfTZbRC\n",
       "9KJHc2DjtHAaa5mAaCF2VKWmRB7mDRqFf97kiBHCRqjKUBvAKotLLo3SL77qUhU2LK4WJn8NUw2X\n",
       "fSklqrwjlEglZ0s/MyYcw2tEPV9wOc5i+8xQgQKUmXj4mpmKQ7h0JArPCgwlMzNZhu7gFJYB7Tr7\n",
       "3oREj0WdkzgZ4NAwFmvFj1J468ol1tVeKIr8/R/xAAfRKLVfxuOqujJlnJOp1Nwq34K8BOS1q0p7\n",
       "2QMcRKIORnSOKvQ4OpkyzslUA1y7dZSi4nGyIK/5Qj1wIRJ18jtHapUeuAWoj3PiXc4NHicNnnC6\n",
       "lL8HuBCJut/NUbK9qLkzZZwT73LK9W9AaWLTH7rD7HxVGvn/AWFhONRaY/p7AAAAAElFTkSuQmCC\n",
       "\" style=\"display:inline;vertical-align:middle;\" /></a></span>"
      ],
      "text/plain": [
       "|- |(a, b, c, d, e, f, g, h, i, k, m)| = 11"
      ]
     },
     "execution_count": 12,
     "metadata": {},
     "output_type": "execute_result"
    }
   ],
   "source": [
    "Len(ExprTuple(a, b, c, d, e, f, g, h, i, k, m)).evaluation()"
   ]
  },
  {
   "cell_type": "code",
   "execution_count": 13,
   "metadata": {},
   "outputs": [
    {
     "data": {
      "text/html": [
       "<span style=\"font-size:20px;\"> <a class=\"ProveItLink\" href=\"../__pv_it/demonstrations/4e89643faf9f13ba25aaa05eeefe8d15c0ff578f0/proof.ipynb\" style=\"text-decoration: none\">&nbsp;&#x22A2;&nbsp;&nbsp;</a><a class=\"ProveItLink\" href=\"../__pv_it/demonstrations/1a52299f1108eeb284e3a42a4cd27c9d3c2710070/expr.ipynb\"><img src=\"data:image/png;base64,iVBORw0KGgoAAAANSUhEUgAAAZAAAAAVBAMAAACam6UgAAAAMFBMVEX///9UVFQQEBCqqqoiIiJm\n",
       "ZmYyMjJERESYmJjc3NyIiIi6urp2dnbu7u7MzMwAAAADGpxCAAAAAXRSTlMAQObYZgAABF1JREFU\n",
       "WMPFV11oVEcUPrt3s3tv9k6yULBxn4QKWmhhHyzUB3FDS8FCaRS1NIS6LymFak0FtS0U9qERLRRv\n",
       "KYL0Jde2izRtl0XyWMmCFYv1YStNW3zJvogUlGwJiJpscGbOzJ25P7NuUrADd+/ZM2fO/b4558w9\n",
       "F+7B/zOGWhHFfwNyD37j9/NPkcJO/us2IuoNArE8sZqvJ1Pa1F9bkzbw2FhURcbfjmqOlQP5WaOz\n",
       "lGcmEgLS39isE8l6+tRkkv1wKQboynJUlVVsR4zOSMVMJAykr/GnTmQ6NLWcZD8fzWlYvNx4Mtsk\n",
       "Z9fNRKbXn6murxHZo8/ku0n2v8Q0u/thm+TsppnInvUTIVsUEaccolhOsp/sg1qCKslZtmEi4pQ3\n",
       "cHi8r4gMstQ+d/Ub3M9ssSYyxJ2to+BM1EWKkOs1kcbTWw/Ig2P8W1Gjky9fxFlS82XVWNOo+nnz\n",
       "1xf8uxcofnfMRCQMxDScifEXtb9XFZFclebA83BU5P4R8hAXvAInUHXJy4kUmfOcpnDwSHq6BjNY\n",
       "5OS+lyrgFuS3CGel7+erXGqe9MmjhkX1dkUScd/lY0wSUUCGehxfl7xsB+AO4AWnFJEMjcDNKrwl\n",
       "cr8lMGaa8AwC3A4DFZSeg4W22Jc1GZCuLHJrDVII4CthD7tvtf7G87v0GjirYFMIVtkUkQDI0AFz\n",
       "kjE0U3B7P/ALYIcikqZOD7XgdTQ8CGSVC4dkhAe6jBQ/crfPfiHxd4SQnoIltKTo05hSrWGRWvvk\n",
       "gUzICqPMiA51TEQUkLyZCENDvc8BXrAUJrINyJos6zwWxDZQUBfxucOFeBkvVeE7kCGcaQdh5WP0\n",
       "oq+ID5Q50d5EEEgPIgxNO5kIjSgNgtziB4wz28PV4I3RlGftcDPwl5OcznpwXNg1gnPrQxGHFWdF\n",
       "bmSFEZ33WghSr5GClloCSA8iAk1AZC5U7GQZUhXsglZYmiIjsETFwibsaViGiS1O++p9Io60swAv\n",
       "2DwUZNnlGrsjJUg3GdGDTkkr9mhEFJBeRBBNQEQrdnYefgKfFZrkPm8ujgMX9gJ5hws53x51YZE+\n",
       "f7ACCx7X8WTj0qKX6qK0ie4C2uU75/mdlsSai5MzDUb5MKU10DQRCYBwIui9ogn8B9EoIhOKCFv1\n",
       "++w/xQa8Svdz4UcaECa4v36OAinWv/wBMm9Q09ppMQnzbD2T8sUbZZQ+Arjho91Ild9zJaj9hJP0\n",
       "oTWAl87Qd0vbREQB4RFhyzIs70ZBCMwnolFEPkhqUayWUQDYFbK6pmZzY4l2uwDiTuj4o48WhROx\n",
       "4i9G5VMSIeWkptE1C/SVpumswntyts2zLMFOHQzuuptGfNfEC0T53CGuUNOYk93zLTAKQHxNl/m0\n",
       "IiS3yw+tuJ2y1yaf0MZLIM7+f/3IsojPc28W+RVu44PvmSoYBbBB09nYcrGWYoS3ZnE7Za9NBmD7\n",
       "+bCqxojY8Rh9LFbXn/qn7hn+O9iOqDcIxMYY1h8DYWqSBtUvrygAAAAASUVORK5CYII=\n",
       "\" style=\"display:inline;vertical-align:middle;\" /></a></span>"
      ],
      "text/plain": [
       "|- |(a, b, c, d, e, f, g, h, i, k, m)| = |(a_{1}, ..a_{_a}.., a_{11})|"
      ]
     },
     "execution_count": 13,
     "metadata": {},
     "output_type": "execute_result"
    }
   ],
   "source": [
    "Equals(Len(ExprTuple(a, b , c, d, e, f, g, h, i, k, m)), \n",
    "       Len(var_range(a, one, num(11)))\n",
    "      ).prove()"
   ]
  },
  {
   "cell_type": "code",
   "execution_count": 14,
   "metadata": {},
   "outputs": [
    {
     "data": {
      "text/html": [
       "<span style=\"font-size:20px;\"> <a class=\"ProveItLink\" href=\"../__pv_it/demonstrations/f4a54d75071c1e8d6d362e04875ce15163c3a6e60/proof.ipynb\" style=\"text-decoration: none\">&nbsp;&#x22A2;&nbsp;&nbsp;</a><a class=\"ProveItLink\" href=\"../__pv_it/demonstrations/86b5f14ba074ae70cbba63835209c8881a6e88420/expr.ipynb\"><img src=\"data:image/png;base64,iVBORw0KGgoAAAANSUhEUgAAASQAAAAVBAMAAAAdho5jAAAAMFBMVEX///9UVFQQEBCqqqoiIiJm\n",
       "ZmYyMjJERESYmJjc3NyIiIi6urp2dnbu7u7MzMwAAAADGpxCAAAAAXRSTlMAQObYZgAAA4BJREFU\n",
       "SMfFVktoE0EY/tNt3jsmeKg1eBBErKKwHoR6kEbwgaIQFNQWwfRQT4K1IkpPe1BoBemKCkUPTdUg\n",
       "RCyL9Cg0gi9qD9tiPdTD5iooLRSK2KY4791kN82e6hxmP/7HzDf/fLMz8Bv+T9tiNXR9pf3oJpI5\n",
       "THvV3JgS6ndZ0EDWZ1EDOY9tvmjUGtyZ2xoOFjKCUIrUjB3J+cSlNI9pR1e9zZXZ3nAwlPenpBzg\n",
       "HaV0r9nsAFOevUerPwLw9jFN+1KafV/lHaV0qsnsuH3wWJSlALz9THP+VYpVeUcoxbNNZsetz2NR\n",
       "swF4+5kiZnNKCbLfTz4+5wvqLZ0XJS5V6Dd+eWKZ79a00HTs3HEuE6XnBT8efZ2vmBcVC3Ipnd0U\n",
       "vNv+dLzwaxwzUXPNKUV1gOReuM5nXbFsNvBjLUqlCG+NaJU5J414WahEzPoZxnI80wilWQWTO/lg\n",
       "y4lnfygq3y6gv6aC7bG8pPTpKml9XkqtWIJzOlzki66K2c5AiIoTdUCYcUO7YL7CmYxVnHimYWUd\n",
       "Qqxej3g8dr5BOv2LaCcgvgYxLEAl27xKLdh9xYLTzIVHs2klwrwyBLSy2oQ6Sg/EEF3829IPi5bI\n",
       "bGGLsUQJw7vF+USrhDyhvGUpGKU9gNbln2RK43PJSW02QirtFe6iDi8ZwrxF6bq4Llszg84BDWcp\n",
       "5SCU8MahNXmoUzopGW62UA0GvCSpsjPEDf4dMeAWjzMlT+G0zTFTFh9TnjIsSGbrtNTrK2+0DKE8\n",
       "u31SJtYO5wa0XLYGbYrB6wBC1fucDeTHcQRgf8xiqlaFydbYMlrKhPKFuOaWd8MqkVM5CHfTZbRC\n",
       "9KJHc2DjtHAaa5mAaCF2VKWmRB7mDRqFf97kiBHCRqjKUBvAKotLLo3SL77qUhU2LK4WJn8NUw2X\n",
       "fSklqrwjlEglZ0s/MyYcw2tEPV9wOc5i+8xQgQKUmXj4mpmKQ7h0JArPCgwlMzNZhu7gFJYB7Tr7\n",
       "3oREj0WdkzgZ4NAwFmvFj1J468ol1tVeKIr8/R/xAAfRKLVfxuOqujJlnJOp1Nwq34K8BOS1q0p7\n",
       "2QMcRKIORnSOKvQ4OpkyzslUA1y7dZSi4nGyIK/5Qj1wIRJ18jtHapUeuAWoj3PiXc4NHicNnnC6\n",
       "lL8HuBCJut/NUbK9qLkzZZwT73LK9W9AaWLTH7rD7HxVGvn/AWFhONRaY/p7AAAAAElFTkSuQmCC\n",
       "\" style=\"display:inline;vertical-align:middle;\" /></a></span>"
      ],
      "text/plain": [
       "|- |(a, b, c, d, e, f, g, h, i, k, m)| = 11"
      ]
     },
     "execution_count": 14,
     "metadata": {},
     "output_type": "execute_result"
    }
   ],
   "source": [
    "Equals(Len(ExprTuple(a, b , c, d, e, f, g, h, i, k, m)), num(11)).prove()"
   ]
  },
  {
   "cell_type": "code",
   "execution_count": 15,
   "metadata": {},
   "outputs": [
    {
     "data": {
      "text/html": [
       "<span style=\"font-size:20px;\"> <a class=\"ProveItLink\" href=\"../__pv_it/demonstrations/5b3e8ef9a01ac58127a630eadc195b1f32fc5ae70/proof.ipynb\" style=\"text-decoration: none\">&nbsp;&#x22A2;&nbsp;&nbsp;</a><a class=\"ProveItLink\" href=\"../__pv_it/demonstrations/0405797670c280c25dd330ff2e9ec966f2775ba70/expr.ipynb\"><img src=\"data:image/png;base64,iVBORw0KGgoAAAANSUhEUgAAAToAAAAVBAMAAAAk4T84AAAAMFBMVEX///9UVFQQEBCqqqoiIiJm\n",
       "ZmYyMjJERESYmJjc3NyIiIi6urp2dnbu7u7MzMwAAAADGpxCAAAAAXRSTlMAQObYZgAAA+FJREFU\n",
       "SMfFVk1oE0EUftvNf3aanrTWggURpChGT/Ug3YI/CBVSFX+KYDzUc1VE6UEWRFBBXKkHfw4NaBBb\n",
       "rEF6FLqCqNSCi1gP9bABr0oLhWIpaZ2ZN7O7SXaT3jqQ7LfvvXnzvTfvzQ78hU0frXao6iv/f7I5\n",
       "vA7yf63UmB0Z9knIVT0gvqu5Otlc0awW+GdubeDMHYoZzm7u7C3BLla1TCwXYJzJ1ok6e2tlvpnt\n",
       "jZy54eSD2R2wgbTBtxKyu9OMCMB0XXGQ1V8bCCHQmTtmgtiRzh02RG1o6UJ2x5sQoeNjnURd3EAI\n",
       "wc7c8T04dw8pNR2UFc4uqTchQsdQnUTTNxBCsDOvFEph7GIVUNY4uxSrjeSFwb2ouzR+SiZ+vMyf\n",
       "yQuTSyLrM7IVEiePiJJSB1+IrhrqeYVaUiy4UfWc5yD94el4R+vMdhS/3/aMmWi5MHZ0RCqcXdyg\n",
       "f+/MGG4VWbYdXONxNs7LluriFZw3ZSYtWVGSwGcYy4mZptKGeU13iWiWUs//oSg+As4EHEC5daNA\n",
       "VmiIeZfdp8tsDPnYTVucXYRWLtkNUcyAWpEL94PCa5rpkCbZCXNlQWpMAGaPpa+ugYI+RoU9Vb4h\n",
       "Bke/I3kYs+AhHlDZo5Bco2q9Qe768ERpoepoBSLIiTp2eH6iIl9chxlTdo8/kC56xbNlGBZsObMF\n",
       "fdgysdFd0tx2StBri3OQkFVI0K1qXQxnF8157OgaTlmeUNNZsay7voMeMm319b5gwEtENASZ0F7R\n",
       "qpGOEV80pwG63YZX8o3ZFcW3gu0sTZdIRsaAi9y3IyvMp7M8F1ekKxOuC7uSS1kqndKYXPsMK5X0\n",
       "CpFpzhg2pPWaurvkslNz8NTtCicLW1TeDJkSrTNBE3gSPR3bYNkM3V5OREPTmtqTsLEZNClysiKi\n",
       "PfT8pqxGcTtowLbl74ra3P0BeM3Zsb6OFxJ9GjjUWjHiOQ6ibbQFGPB0qTzMmWQZPxWsSRl3U6kg\n",
       "2gKwinbpxSf8ScssU7a4MrnKtjNm4RvN6KdEGaJWILu3NiT7Zwd0zo7ll3RMPpqAyAmKBr8ABzB7\n",
       "t4ASVwfFuzShh1l+0qxkGEp3zOqIbtIpOAPaDXxeg9SgjWY6O1fVcyZ/mwJ4dJvWeDmI3cC+ISO2\n",
       "vr6u137JDoUDD6mMnTYsEdBcC1Rl581Uqz5nvrcfG7lBebcAKxx4iNXU/pghUJk3tAZ1dt5MrfoT\n",
       "2OQWUMsuLm9QpBAKfGie/o79FEir8Jadh1o7z96nrH4Lu0GF3D4TEAp8iGXt/nmB0u3FrJBV23n2\n",
       "PmX1W9xswm5yM2/u9/h/qhym/w+yFFD1hJxS0wAAAABJRU5ErkJggg==\n",
       "\" style=\"display:inline;vertical-align:middle;\" /></a></span>"
      ],
      "text/plain": [
       "|- |(a, b, c, d, e, f, g, h, i, k, m, n)| = 12"
      ]
     },
     "execution_count": 15,
     "metadata": {},
     "output_type": "execute_result"
    }
   ],
   "source": [
    "Equals(Len(ExprTuple(a, b, c, d, e, f, g, h, i, k, m, n)), num(12)).prove()"
   ]
  },
  {
   "cell_type": "code",
   "execution_count": 16,
   "metadata": {},
   "outputs": [
    {
     "data": {
      "text/html": [
       "<strong id=\"nines\">nines:</strong> <a class=\"ProveItLink\" href=\"../__pv_it/demonstrations/71ba9e662a641a8075262d1633c13c7d6bfb5a5f0/expr.ipynb\"><img src=\"data:image/png;base64,iVBORw0KGgoAAAANSUhEUgAAAFwAAAAOBAMAAABQh2aXAAAALVBMVEX////MzMyqqqq6urqIiIhE\n",
       "REQyMjKYmJgQEBDc3NxUVFR2dnZmZmbu7u4AAABDhPggAAAAAXRSTlMAQObYZgAAAM1JREFUKM9l\n",
       "zT8LAXEcx/EP+XvXya5kM1g8BBajDB6ATSm6wWA0MV3daFFGSh6A06WMDDfJIPkTMngObuH38b3l\n",
       "tbz7fj/A0ZlBYmyXNsFliJEnwMFMWgQVrQ9tLcAUmBNUUg3oZwEegEtQOdUQeQmMO1Ad/7BVQcI/\n",
       "ugkw8H8WFVT8gdhT4O+jYyqooI7CVRIthd2cggrC3cxFgnzZTRNUAO0dBAvvDyqxSRC0/vmWuIWs\n",
       "LUDPC70IKpG20ZSg4u1NggqcXTGAvtowqnwAo5S9mmI0H84AAAAASUVORK5CYII=\n",
       "\" style=\"display:inline;vertical-align:middle;\" /></a><br>"
      ],
      "text/plain": [
       "nines: 999999999"
      ]
     },
     "execution_count": 16,
     "metadata": {},
     "output_type": "execute_result"
    }
   ],
   "source": [
    "nines = num(999999999)"
   ]
  },
  {
   "cell_type": "code",
   "execution_count": 17,
   "metadata": {},
   "outputs": [
    {
     "data": {
      "text/html": [
       "<span style=\"font-size:20px;\"> <a class=\"ProveItLink\" href=\"../__pv_it/demonstrations/bfd485b0cfd36a63af636797e232e4ef5d4d835d0/proof.ipynb\" style=\"text-decoration: none\">&nbsp;&#x22A2;&nbsp;&nbsp;</a><a class=\"ProveItLink\" href=\"../__pv_it/demonstrations/157d8685a551856cde2fe4e935beeedd4a6570820/expr.ipynb\"><img src=\"data:image/png;base64,iVBORw0KGgoAAAANSUhEUgAAARIAAAAVBAMAAAB4a3wcAAAAMFBMVEX////MzMxUVFRERES6uroi\n",
       "IiIQEBCYmJhmZmYyMjLu7u52dnaqqqqIiIjc3NwAAACW8nlqAAAAAXRSTlMAQObYZgAAAAlwSFlz\n",
       "AAAOxAAADsQBlSsOGwAAAm1JREFUSMetlkFoE0EUhv9t0ibdTdJF0KvxUsGLQQ+eanMWxCLEQ1GJ\n",
       "UC8eZC+KeLGIYkpRciuIh0Vp6S1BL4JW9ySISBdBEIU2F89aFGrTRJx5aXdmp89Ld9/hI8zPzPvz\n",
       "5s3sAOggaSRfgaIYJF7ibDpOPgD5xjEdaNz1dZhyLKxp8Wc8cMN49aWjw1l5tANWsZuwL+FQRwGL\n",
       "oXVdgynH4ulcV/CxaYSGRwP7sgY8wWJnAFbJexiqI1NRwDhwUoMpU2R3y1CUTm7t3XMxfAN4oSE3\n",
       "BadCYBWMAGNNOF0FbAFvfQVTpiiEupMRn3NyAlj1FTJlFLoEVsF7oFVB8beC/QtYPxOhasick1GP\n",
       "c/IHOBwojM3C6hFYBfODmmwqUE08BVNmnDhlxokts9yO4LVEvk0Cq2AB1Ah9Bdkdk6GCKTNOck35\n",
       "835Nxvnd4dK2yLIWIfzRhtUnsAouiuMzgwM9BSxVreOBgikzTgp1piaU702Etsy3TWAVzIhpy98+\n",
       "bmiwH75edxVMWVwrtdqFq7VaOXJi/eR2R2Q59zVC2Goj2yewCjnB4EgoiBMTgymbNcnW/9Oxq4GC\n",
       "6MtCj8AqcndE0DWhIG6RGEx5z+5MMX0ip97xFcTUXJfAKpgQ61xDy1XAO9/e0GDKXMdWuJrcBOY0\n",
       "5OrINwmsgudi1jROacBnP+NpMOW4E+evbJy26UQODwf2FQ2i/EvuAKxyUH6PGlUdzst7Okw55mRo\n",
       "fOuoyFk1jNCwPf/J1YDllSM7YJVhd19f8KgmFN/TeBTkZvc1LRu73x+k8j45nXyJUiUVJ8+SL5FJ\n",
       "5/lYChMvsZaGj3/XT8mbd7BCnQAAAABJRU5ErkJggg==\n",
       "\" style=\"display:inline;vertical-align:middle;\" /></a></span>"
      ],
      "text/plain": [
       "|- (999999999 + 1) = 1000000000"
      ]
     },
     "execution_count": 17,
     "metadata": {},
     "output_type": "execute_result"
    }
   ],
   "source": [
    "Add(nines, one).evaluation()"
   ]
  },
  {
   "cell_type": "code",
   "execution_count": 18,
   "metadata": {},
   "outputs": [
    {
     "data": {
      "text/html": [
       "<span style=\"font-size:20px;\"> <a class=\"ProveItLink\" href=\"../__pv_it/demonstrations/7cc4c3153a567c0f2803f0d0ae2f8b097cfb507e0/proof.ipynb\" style=\"text-decoration: none\">&nbsp;&#x22A2;&nbsp;&nbsp;</a><a class=\"ProveItLink\" href=\"../__pv_it/demonstrations/7902b9e9c7123cdf69aeb53a78b9f8e0536f057f0/expr.ipynb\"><img src=\"data:image/png;base64,iVBORw0KGgoAAAANSUhEUgAAAL4AAAAVBAMAAAAKgUmDAAAAMFBMVEX////MzMxUVFRERES6uroi\n",
       "IiIQEBCYmJhmZmYyMjLu7u52dnaqqqqIiIjc3NwAAACW8nlqAAAAAXRSTlMAQObYZgAAAAlwSFlz\n",
       "AAAOxAAADsQBlSsOGwAAAeZJREFUOMuVlcErg3EYx7+z8c77brMUV3OhnN44ONH+AZF6HYSm5uK0\n",
       "C8mFi5DSbkoOi8hti6PovUqynERpF2eUGrPJ7/e8vHu3PdLvOXxaT8/v09Pz+73PABSgEErFFGFb\n",
       "pXpE2X8FBDf6eNSGb1J0kwKXxtldwQvjfPsHehr6NDoLHGo9+5slwd16PaVbbX3GA+zhsOAgmEJT\n",
       "An6TgyMI/LYclv6lxgGL9AJw6oE2BsMkoAVoS8MocXDOh/Jef0uG8/cDN5kq/DGESgRcAlkT4TcO\n",
       "nL81xfnfgS67irZV+MoEbDn9FzlwfiPG+HVpXXaRygp1kYAd0PwrHDi/lpY/1ywZ47/pyKewPrrI\n",
       "P+fgqxAwJZ5QEu1lDpw/lGD6J/+Fi5xUfxKQFBXHD9evLMRnYFkTc5YVc/2+F24+wjp67yKfzSFQ\n",
       "IZAfzlvh0NB/IPHH/d7YVYirDZUJcj4i6K1zaJzPGDN/DAArmSrEUa1EwJA4Mo9slAN7vybX/yKw\n",
       "6YGWQDBNwIkomMQgizq/8SUvJFfvl+lmW5/1QEzlKOqgQy6njTiPGn9Tz0evMMXr9JTWt26jHuD4\n",
       "vPsHzdH/FqzbP8WT4nrWVv+rCNRshHXV/T+sVB0xVf0HStV+5T/ISF6l+lHR/g2jdRWQRMp6KAAA\n",
       "AABJRU5ErkJggg==\n",
       "\" style=\"display:inline;vertical-align:middle;\" /></a></span>"
      ],
      "text/plain": [
       "|- (99999 + 1) = 100000"
      ]
     },
     "execution_count": 18,
     "metadata": {},
     "output_type": "execute_result"
    }
   ],
   "source": [
    "Add(num(99999), one).evaluation()"
   ]
  },
  {
   "cell_type": "code",
   "execution_count": 19,
   "metadata": {},
   "outputs": [
    {
     "data": {
      "text/html": [
       "<strong id=\"number\">number:</strong> <a class=\"ProveItLink\" href=\"../__pv_it/demonstrations/608724b9eeb19bb572a6e5c36c37f18090f16eed0/expr.ipynb\"><img src=\"data:image/png;base64,iVBORw0KGgoAAAANSUhEUgAAAEgAAAAOBAMAAAB+wkcFAAAAMFBMVEX///8iIiLMzMyqqqq6urqI\n",
       "iIhEREQyMjKYmJgQEBDc3NxUVFR2dnZmZmbu7u4AAABTw4smAAAAAXRSTlMAQObYZgAAAPZJREFU\n",
       "KM9V0D9Lw3AQxvGv1rRNUhJfgIMvQNDRQbBvQBAXcbKg7o6CoFkc3BwEnUJWQcRVQcTZSDo4Wskm\n",
       "DqIYUekQvN/iXZfPcDz3h4O3/BpD9HSfGTjPN6R4ylmp8JoEqSHos5gQHhH2Fa7gxuBVxJPE23Q+\n",
       "FH6gMEwcu8R7D2+oRN+wfvGPHOXW+dL/pXAi/V1Fjp7CbWj9KrKB/UQhuHuWaVssVIbmcqOYUySw\n",
       "JuMaBzOfBuZXimkD+KlAWI/AbakEGc3KFVuXI7BriGsXaqfMZgqH5fjQ4PcYq/H2oh0Dq+VLYmgn\n",
       "7k/kg66l8/BoYWmwyR8abp+ZyK9zkwAAAABJRU5ErkJggg==\n",
       "\" style=\"display:inline;vertical-align:middle;\" /></a><br>"
      ],
      "text/plain": [
       "number: 9999993"
      ]
     },
     "execution_count": 19,
     "metadata": {},
     "output_type": "execute_result"
    }
   ],
   "source": [
    "number = num(9999993)"
   ]
  },
  {
   "cell_type": "code",
   "execution_count": 20,
   "metadata": {},
   "outputs": [
    {
     "data": {
      "text/html": [
       "<span style=\"font-size:20px;\"> <a class=\"ProveItLink\" href=\"../__pv_it/demonstrations/b50148e08dfce385e054b290da2f94e80ba16d770/proof.ipynb\" style=\"text-decoration: none\">&nbsp;&#x22A2;&nbsp;&nbsp;</a><a class=\"ProveItLink\" href=\"../__pv_it/demonstrations/5bf7056813077006157f7aa0dc85903e3c2b5ba00/expr.ipynb\"><img src=\"data:image/png;base64,iVBORw0KGgoAAAANSUhEUgAAAU0AAAAqBAMAAADFWBShAAAAMFBMVEX///9UVFQQEBCqqqoiIiJm\n",
       "ZmYyMjJERESYmJjc3NyIiIi6urp2dnbu7u7MzMwAAAADGpxCAAAAAXRSTlMAQObYZgAABP9JREFU\n",
       "WMPtl11sFFUUx//7MbO7sztt/WhS1KQoEsSmQYkmmIDdRtEXSBfM+lGpLMYaiJg2aoJg0MUHIw2G\n",
       "kUCiiYkNSYn2xY3xI/HBLomViosMpmBCSNgHeSFN2lKpNLQdz8y5M3t3C2PwaTf2pmX+nXvPub85\n",
       "95x7L6gzUf2NIBM5W8SyVUr4mPMvQTLnH8BnhTe5Sx8czolRicHfWPzZWCjkxctL4nm2sKTiq1O3\n",
       "SlFysd289BA7ad9SKDBHelcRAaOMcwdiKbRxUBXgDkH8Gp5lddCyrAbhsl10PoBD5TkTbvCnylW+\n",
       "kFyssmZZRGmmSUedQeI69IzMGU1Bm0J90ulfA5xjm0gKu1i9AASEc+1efgaWIlAewKP+nPqCcEsu\n",
       "dt5lsFDoyX66gPuAkzJn2EC8BfUOO04Ao2wzZLgeac1FBuCTbfyk0YkJedbYB/6c0QWckgvPNEE/\n",
       "RUfdDzQb+F3mPOx0iHUf2osRtnlD8hnvd5EF58VeaDPyrAnVn7NtAafkQjb9gR89JpqLUHMS54Cz\n",
       "LhvEalgHOKUxPTbg5VTEjYohOIMZO3+ktp85v3tw7Q4cObAk/vLIlib6myRCgycR3br+GVxec0yy\n",
       "kFw09b3kve71VAftRymJ82172X7qEr2npzm59eksnnBNRIhxHoKTVky9Jqdfv4jn8nXX4hvxtRls\n",
       "wWgKjnzEUBoQTkHvRVhegZKLvfjc22S8PTJOtRXNSJxMc5RHhl7saOGZLWCzqEd9wstUwYk9WDsl\n",
       "TwrB+QoFKo+gjR26znJ1MT5nc8ZboclLILuIJN1sKNtAQkmJk7mCrc5jH7QrTPcXbUjiKzWuMYSK\n",
       "Hmeob2xemvNxl5P6x5//cF9WpfhdZYnLwzM2Jzr2GDKn7EJxk72UGWl7P50o54wZiPC3Ee04J+hT\n",
       "xCkWISyS5gI8TsrkOWnZ8y5nN5WMbU+c+Jvlud11zHmh52rF1sQuAlKyP+32aalKTlr3+jnBaa9w\n",
       "gOluL8WzXhTkw+n0lU7XkVzgocb01uXOnrCTvrOfOe142vIt1M2Y4ZQWMz2H5S6oohT3oyfdvkft\n",
       "4MWT5XUUpBTnkSspV3h1xk1sFjbjpU1F7PPRVoyXLSKCPCdxhjNcVpSfjpxFaOZHtUGhzS0g3SRK\n",
       "LhTHhg9ON+J1eWhGeR0Nk02W9k992t5YTPThot0dyOvLWKGNdnpWWAFnmPa6vp0VvXe6gpwb62mK\n",
       "KSimuhKjeZYrkJj/SMkoVEcRg2z4R3JBp/b7hqMQmgW/O1wYvpO+IC9xfkO/36bfAZ6kAqprpHtI\n",
       "eKNtM3y8KNQhSjNWJ6wmZxgK6RwbUFnalZl4b9KO1fcW3WfOdJ6C2jR4N1h+3HnqWBa3/RIf+eJX\n",
       "54LQzpaeCxw53iVUbBlY9VgWFbJaLD83RZZ5N4t18FGlYaGbX19V/+uTZ3kjZyU1WnEP8U7X0ol+\n",
       "c5XAQnWrnAk/ZyVVdg/Bbu+08U4XP+UNk9SC9i/XvPN+zkocmcp7stO8YozCT2VvoCpbvHnS8OPM\n",
       "+jnzVMS9J2vFqv5/x37e8YtYbIttsf1/29nn3q16xtUm9AaczlU3pX5Ps0l3MASXVns8DxJkEoGZ\n",
       "GuBU5xCYrwFO+54zV41sP79qt26JcyhfG/FsR01wKqna4ByoTjbOz20eZyiFT2shnmPAl9XO+ZWJ\n",
       "2IbCpmSVY25a1Z1VLctKYrH91/YP1T2fsiopR/wAAAAASUVORK5CYII=\n",
       "\" style=\"display:inline;vertical-align:middle;\" /></a></span>"
      ],
      "text/plain": [
       "|- |(3, 8, 6, 7, 4, 9, ..4 repeats.., 9, 5, 7, 2)| \\\\  = 12"
      ]
     },
     "execution_count": 20,
     "metadata": {},
     "output_type": "execute_result"
    }
   ],
   "source": [
    "Len(DecimalSequence(three, eight, six, seven, four, ExprRange(i, nine, one, four), five, seven, two).digits).computation()"
   ]
  },
  {
   "cell_type": "code",
   "execution_count": 21,
   "metadata": {},
   "outputs": [],
   "source": [
    "%end demonstrations"
   ]
  },
  {
   "cell_type": "code",
   "execution_count": null,
   "metadata": {},
   "outputs": [],
   "source": []
  }
 ],
 "metadata": {
  "kernelspec": {
   "display_name": "Python 3",
   "language": "python",
   "name": "python3"
  },
  "language_info": {
   "codemirror_mode": {
    "name": "ipython",
    "version": 3
   },
   "file_extension": ".py",
   "mimetype": "text/x-python",
   "name": "python",
   "nbconvert_exporter": "python",
   "pygments_lexer": "ipython3",
   "version": "3.7.3"
  }
 },
 "nbformat": 4,
 "nbformat_minor": 1
}
