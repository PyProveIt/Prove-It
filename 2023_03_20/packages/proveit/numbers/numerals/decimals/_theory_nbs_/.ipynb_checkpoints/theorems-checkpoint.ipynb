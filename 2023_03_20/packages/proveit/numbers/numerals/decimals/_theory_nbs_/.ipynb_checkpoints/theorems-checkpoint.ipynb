{
 "cells": [
  {
   "cell_type": "markdown",
   "metadata": {},
   "source": [
    "Theorems (or conjectures) for the theory of <a class=\"ProveItLink\" href=\"theory.ipynb\">proveit.numbers.numerals.decimals</a>\n",
    "========"
   ]
  },
  {
   "cell_type": "code",
   "execution_count": 1,
   "metadata": {},
   "outputs": [],
   "source": [
    "import proveit\n",
    "# Prepare this notebook for defining the theorems of a theory:\n",
    "%theorems_notebook # Keep this at the top following 'import proveit'.\n",
    "from proveit import ExprRange, ExprTuple, var_range, IndexedVar, Literal, Function\n",
    "from proveit.logic import Forall, Equals, InSet, Set\n",
    "from proveit.numbers import zero, one, two, three, four, five, six, seven, eight, nine\n",
    "from proveit.numbers import (one, num, Add, subtract, Mult, Less,\n",
    "                            Natural, NaturalPos, greater, greater_eq, LessEq, \n",
    "                             number_ordering)\n",
    "from proveit.numbers.numerals.decimals import DecimalSequence\n",
    "from proveit.numbers.numerals.decimals import Digits\n",
    "#from proveit.numbers.numerals.decimals  import N_leq_9\n",
    "from proveit.core_expr_types import Len\n",
    "from proveit.core_expr_types import a_1_to_n, b_1_to_n, f_i_to_j\n",
    "from proveit import a, b, c, d, e, f, g, h, i, j, k, m, n, x"
   ]
  },
  {
   "cell_type": "code",
   "execution_count": 2,
   "metadata": {},
   "outputs": [
    {
     "name": "stdout",
     "output_type": "stream",
     "text": [
      "Defining theorems for theory 'proveit.numbers.numerals.decimals'\n",
      "Subsequent end-of-cell assignments will define theorems\n",
      "'%end theorems' will finalize the definitions\n"
     ]
    }
   ],
   "source": [
    "%begin theorems"
   ]
  },
  {
   "cell_type": "code",
   "execution_count": 3,
   "metadata": {},
   "outputs": [
    {
     "data": {
      "text/html": [
       "<strong id=\"md_nine_add_one\"><a class=\"ProveItLink\" href=\"proofs/md_nine_add_one/thm_proof.ipynb\">md_nine_add_one</a> (conjecture without proof):<br></strong> <a class=\"ProveItLink\" href=\"../__pv_it/theorems/b0f22291f875be08187d94cbca42fb0a16a26d530/theorem_expr.ipynb\"><img src=\"data:image/png;base64,iVBORw0KGgoAAAANSUhEUgAABHYAAAAaBAMAAAAgZsaBAAAAMFBMVEX///+IiIgiIiIQEBB2dnbu\n",
       "7u5ERETMzMzc3NwyMjK6urpmZmaYmJiqqqpUVFQAAAB6qHgnAAAAAXRSTlMAQObYZgAAAAlwSFlz\n",
       "AAAOxAAADsQBlSsOGwAACr1JREFUaN7tW3tsHEcZ/+6x3r27vYfBDUFpXXMQhTYEmUJIZLnNpYSU\n",
       "Nk26aUKlKCnnCmIqk5JL/EdbRao3KbVEEc4JqVWlhmDq8hcgX0NoIA7tkaquQk1zdlLSolKfq4RS\n",
       "oUYOxMrTMvPa3dnZ3bszWR208ieN77vZ+V4zv5n5ZvYMUAsl0p+HOZojjgLpJbU1jNTXL50VQkod\n",
       "jc7uQUUHlVm298vfGrUr/613itlm5P8RO4ESLZRuqJ9Rd/p5FcloqvZa/wLy8tfbbm1OVJPHz2mb\n",
       "ESjjj3eqYieBP+LFugzjSVYIxTPXrE/6dgtlYkNnQOQ4o/fd4phkq17sh0CFqIme6x3VOzW3Wt8C\n",
       "ov6aYXnZXbWArU3hlb9zOuEi/oM1Xd5+G3rw8+spdg7jj2eqYifWjz/0ekBHytMit8QQvjf5oDFS\n",
       "oIo/A926wPFG4VlRcDPEpwGe8naV6IloQu0/f4ZqxFo/A6L+srC87EZKEstSfwr3CiO3CZziIBVg\n",
       "vOTit0lET8SwMQKP4enVURU7Ml6feuuy7MSKtAQmgyi6Iz5oTNL1PdEKDR0CxxuFaVHwxpJ0CeB1\n",
       "7zME0aMag/ArUw71rVpwbDO+BUT9TZYq2j0KsJowaguEhRE+Apy46d80ZPMufhtE9eDnpM0IgVC4\n",
       "VD3fwZNvbV2wE2Il1ppE07TVB42DdCol8xCeEjjeaHRKFBzoB4SdkOdMZHqWsq+j/BiatdZ4+xYQ\n",
       "9XdQq2j3+wDjpEVDGeJCaK28uJnKtOGAnH4bxPQsZTZGQC3WkApHaFadrwt23qZFPdp+44cQ98Pm\n",
       "7fQj2wGBywLHGw27DGv8KoqeJDwJ3blAMz37XMdwnzht/QuI+ns7VLR7BaCHLArJAsj2JZU48TUX\n",
       "teNFQ/4fzn2G6dnHbCBE3JJOf6UG7ITS6c9m6oKdg7RkZ2Zm/g0xbLNv5W4+gT09v8pZwN4eYH/j\n",
       "h8YqcRXsHG80Uo6vEefic6gzw+Q8oSwC2JNzrjtIzzrXMVwnqPIxIOovC8vDroSxQ1CfRWNuj5Y4\n",
       "sR9O/lZceb5gyqNQccS2AKiedawNws4hgK01YCeWgwatLtgxcJ1MHdfInI8uh+2c6QG9YaryMdLe\n",
       "HqRLWlZn2ck5M0855zCaLf7tceFMteMsQouaZ70pdqah55grdkhtLE2IoM+3gKi/RliudhEizyPs\n",
       "EEzuzYBsjxY7IV2Nv9UuJPPN75vyKFZxpjA9x1gbhJ0+UMo1YAc16rt2XNSCviWsZEv3AATRqruh\n",
       "CAc4JLRDrKWiAnt7wJt0CHei1AaP0bXb4nij40+WHhVPkvicFW9lvSl2pqHnhCt2Toh++RYQ9dcI\n",
       "y8MuwU7GGPPzNmnsRPzir2XH+Rqdswz5PY+IM4XpOcFsIOw0aOF+vsVRtn4qi++CV8rW3eBWuOua\n",
       "ofNGTr77G5T1zOahjZWe3Htoq0S+vQzwOYAtLFGITUIwAxvXnfFUQNtzK3QekqQTNzeNXmCHb5Pj\n",
       "jP7mNTqWPyFLBcPJCg3kSdabixymqJ4ezB5Ip7+cTn/RGsMesbFvAVF/WVhediU0zINkLLMZiNrX\n",
       "HexErJ1GuIlEy0ILTZnySlqcKUxPD7OBsBNPRRx6Ycffu+DdsBbTLOyMzj5VfrTDBkNpTQ6dD9j9\n",
       "BnkkP222bWoSsEPTA+zNV0G6DHIjm5uhDsj2I+gd8DRL2vOzLAOD7CRpna6EcxY2etOQ2FsPA2wv\n",
       "QbTVEztUz4DrujPgmu/4ERD11wrL3e4VuoyQHDc+7Rjj4LOHxPsnlJZMm/JO7DA9A8wGOT390b4y\n",
       "4amA1b6TKoStPQsiamq22ElkeBgqB9GGkIWkZmEHTrM5gprGy/Y9S93eeOkGvLpK50BFMz/Oujqb\n",
       "guMAl2FvzuvajLa3Xe+8zCaBdasj3O8gg9J09IKgakbD2GGWXfYspmfMFTtjQr7jX0DUXyssF7uI\n",
       "OgGOa8xFdcqxZ2VLg2LmP0WwM+a1ZzE9Y8wGxs7ap1BcR3Y0B4aJrmGlid45n/rrbh474bdnnSqH\n",
       "cjwM9+AFLVwa1znsLKOj8pKWzElGeA+w8h6gBbIhhcYUEvm3SFdLJGuAD+L6q7irnQ7hBrQ9FxHS\n",
       "TZLC+FLIUiGLA8uoOiVNB+zqbiN7ltrhlitLph4YdsXOsOicbwFRf42wvOy+AvB7Iq+24v2N142c\n",
       "QLjKluyrQahM9qxh11xZM/SQ58MMO4+jSbFloBgqB8jMn/jxhidIZ50K3/88hx3lNhzG3U1GNsmx\n",
       "XKi2yp7GMzwM38DgeXIDv2eda0Y+yWd12KuDsSwbZ8BOZZqejx+AsUKBdHU2j+OOL46R2w1850v/\n",
       "4HqToe25iBLFBpJdBRbCNtrM4pAAkUEGE3npQtgezgi53yEnWu6MTmWwGNFDD8y2MbxH52pN8i0g\n",
       "5i8Ly8tusCQto/JLYEPO0E0+sRMfINjbL13UIrnfOWg/o1MZIob1mHcoBDsJ9P2JTyMY0z76UkmO\n",
       "kpPqKSjM47AD+Px2r95jYINjLbJXfkJbIPEwfLeIMvNGDjuBhYECRL+n4x3YvILYycqEtBy/AwL4\n",
       "VtMjEznS1cGFKJaJO/o+hR4gNo3n0mLcTQWDQbW0PReRdJq9B1g11M+ETA5JEmFksKEEC64TDsdD\n",
       "L+LMgJwlcDcpJOWjMsQU0QM3C9g5u2J/0ao1ybeAqL9mWB52pYPNOSq/eeX7lu7FQJ14CAIvCOvc\n",
       "L4e6zGjwaP+QcFQGixM95PnNwP0GYwK6yS4IypVDoD7d2fkQws7GCI8dTEOoGfRqBhsdPWy3Tp6b\n",
       "tA2O2WG4q19tKnLYaSiq+eh3sLro1i1GOhfM0ULJ3CZIevCmqRs7EXeu8VYDMyLx1K05Od6gk/a4\n",
       "V5umlBZx3bHVCuRPQDZ/K9l90y1aWOQdrYffpjh+TtqY2FkG82CvjBeujucUOUMHPDoqYqcNmkEe\n",
       "0ww2hHJfIf1v5r4tg5ccMDSogyZEsXI37Y77cxeNpbPAv0h83dbV5iKrFBQdws4QM+CISDwYuXBQ\n",
       "4Q2g59vLDP9e0v5O0lYrkD8B2fytZDfjFm2F17tefof556SNgR1lEsF6OAYbIZHaGaYXzX8CEwjG\n",
       "wEsXYds3IagZrGJbZlil+oeRwyfJtJiEWzkY/mhoaKjfjp0khErSagweWYuaeH+QFZrW6VxXS2Zy\n",
       "1/vwLg3WO/Mts4ERkYPWu3C8QedE7HA//Vi+uD73+tGBTwF5+tvrIb/e1Yma/V7PP+8FDjvRMjwD\n",
       "fddBd6lBT7wGvWjo5Zt0+osvft1ZLl9+FWNHylAWujC70fyDK+PzoA3/tigDC9EJRYShDTtBDSfs\n",
       "84p494qYq/B9rNDgjTuiO8+nwDoGrZiZAXBeGlgNjIgclHLheIPeg+1lyn0YvQbXp4A8/X3QQz7l\n",
       "5kTtfqccM9vxm1O6gUirO7uEdxIsm/ozylcQduRbKRvLYbZbl5fjP6zyu1I+VsL1u1BeLMLQhh35\n",
       "BeLScBGiI3dYEz1FC6XddXmJxhkUaX4VyYBee61/AXn56223NieqyePntI2Inajm9T6Lv1nCWR1l\n",
       "vx4wWTC5lngmqBrfRBjasGPQX3SYo48aidhRoTp25E+uBfgFrZ/5l8FiopxUDvQn5vP1VbEzRx8D\n",
       "7HhQxPH/WUU3tujVZA47HzsKpNv/Z7bndqmPPP0Hv0mtCgcG0PoAAAAASUVORK5CYII=\n",
       "\" style=\"display:inline;vertical-align:middle;\" /></a><br>"
      ],
      "text/plain": [
       "<IPython.core.display.HTML object>"
      ]
     },
     "metadata": {},
     "output_type": "display_data"
    }
   ],
   "source": [
    "md_nine_add_one = Forall((m, k), \n",
    "       Forall((var_range(a, one, m), b), \n",
    "              Equals(Add(DecimalSequence(var_range(a, one, m), b, ExprRange(i, nine, one, k)), one), \n",
    "                         DecimalSequence(var_range(a, one, m), Add(b, one), ExprRange(i, zero, one, k))), \n",
    "              domain=Digits, condition=Less(b, nine)), domain= Natural)"
   ]
  },
  {
   "cell_type": "code",
   "execution_count": 4,
   "metadata": {},
   "outputs": [
    {
     "data": {
      "text/html": [
       "<strong id=\"deci_sequence_reduction\"><a class=\"ProveItLink\" href=\"proofs/deci_sequence_reduction/thm_proof.ipynb\">deci_sequence_reduction</a> (established theorem):<br></strong> <a class=\"ProveItLink\" href=\"../__pv_it/theorems/7cc5dccb645983a1def2fffea0d5020d781e624a0/theorem_expr.ipynb\"><img src=\"data:image/png;base64,iVBORw0KGgoAAAANSUhEUgAABWEAAAAaBAMAAAAkmoPQAAAAMFBMVEX///+IiIgiIiIQEBB2dnbu\n",
       "7u5ERETMzMzc3NwyMjK6urpmZmaYmJiqqqpUVFQAAAB6qHgnAAAAAXRSTlMAQObYZgAAAAlwSFlz\n",
       "AAAOxAAADsQBlSsOGwAAC45JREFUeNrtXA+MXEUZ//Z23779e7dXr1CklPPKBaXBHAhyqYgLoYLQ\n",
       "1ld7VptgbxvSg1SM254BDdbbVm3Qht6BKWmAyGotMbGFBQsiV8NW0yP9g+6VNhVsyp2pGhM0V0Nz\n",
       "teY85/+bmTfvbvf61NO7Sd6+b2a++833zfxm3jfzXgtQS/p9SwFm02z6r6U5LZXa/qBvZvZTTEiF\n",
       "gPFg2uAVplDznx0B4mWqPMvYKtIVXAhVgsULKCUyF4/xA7+KgHy+eA+Jl4ixQ7jgVNWMrce3dHlG\n",
       "ETad5dLxoPBWXW+qMJf6JeveZi7Ol4q/9jFZyf5eaWIUrhDyG9PjgfalZo9qrCFxhfnsQox9Fed3\n",
       "Vs3YZBHd4jMrml2Nro3wAuJIX2B4TxlrnqoJJy4GP+5IxWOKUsNkSyRX2OGpCdJnP3vGJtMfcz3E\n",
       "F2LsN3CEkKuasTZek7fOrKBgP7quhEUAyXJgeMpIJcqm8Uv4tbbHM/gpaeFKnFOUn3cmsYYrHPHU\n",
       "BOmzjz2asYZw4JzrIbnKhLiRStWMJVNx2cxibBu6fgpnAcKB4akjlc6Yxi/tF50Oegf/Rrc20qwo\n",
       "3zaZNVwh7KF2kD772KMZ601C4UZ6IcbizVe8hp3X0Rm3AUtjrxce+GcF3goMTx0pzk1zqS9jpcF/\n",
       "2hQrVBdocIW4vpgG6bOfPfFStZHP0/TCdL2+peWGGhgbbmlZmJ1RjE1mwRpHqQ324QjqzDyZSVrW\n",
       "cC7jUUB4EB9eUPFy01zqy9jvN/6FFy3nwvZbeypy45eOTWKdUIgMaRu7IH2+dX7eYI9qrCFJCsvp\n",
       "hRn7M4B1NTA2mYeoM6MYSxafs6lzdJ7vKkTlZ7eW9SavAsbr3GGd93LTXOrHWOvvTiffAh/iYV87\n",
       "fNmZmnUp8uR8sQWnD5OS4HzeUknmvBWasYYgVlI4RC/M2O0QG6qBsUh5+/Rk1r9rHtWhaW6NRUYA\n",
       "rkXCzZCUnt1a1nAE5VXAeO84cJ2Xm+ZSP8amz0GYq7zJ7ivL8HO18b7JrOMK6Ta9Mjifr6KWavao\n",
       "xhqSrPAmvTBjo06kaNBOfYDPj33F1C0uY9GCfNe0JOyv8/bSO6lIY5/0VM7gDCwJo+6xR+vRGCxG\n",
       "j5gRqENRAl/TaLZj+R98Qwqi4MFDA/Ee3ENGL4nCLBSZ4VUDl1q3/9VRS9WEFsGP0EUQDX4Dh+5h\n",
       "99cwOxhw1dbRobZHtMrgfE6ekysEEDGW+WtM1JtfZriHPZSx6Yx547UYG72gq5geWgIvSYwdrHnj\n",
       "ZT/hlUy10g5x1CS66dN5N2ZadBf8agisu/NoW7ualtHDusMatKkhT13SyFgW06EuCeegswgb5vA6\n",
       "ki3Bi37AVMHD2KsgMWY3NmurKS5NivVpsjUWDf7zPMrbxe4fBesCCOBqrVtMHsFtxjg2CJ/DOblC\n",
       "ABFjkxMs2ESB9Bf1cBd7S9t3wBg94ynXj5iRPpCErMTYeKrmd4JnDBJMVBYbMYlu6mX3DX9cD6cj\n",
       "TtKJ7UMLaic0OC5jrSEJOqk0pNJSqUtkjVHBwNkrH6vgJ2RnBn6Dyo6xOpq9AL15H9eZvo43hted\n",
       "tM5YXNpQjI1Wx9iGCrzGlydmj3UWUqi/OHCV1tEupn8kxbHB+dyZUSoUY11/vdEF9aZXeHiMMXbZ\n",
       "DiTs37AgNIBNQNLlJCrIbc6SN3fpTT/OyIyNvFVzwHiTQYKJykI5k+imSxjX0K4RTmVKEdiC52Gk\n",
       "8k7BZSx+Oyego0pDUQVMrfO++omi/q5vbkC/a1GnV+DPKNzA/WcBzx7Eo+ftFVfhyOuNQ/Pvk/BG\n",
       "cYzmYSwuTTlVMzaP4kKEjGOgAR56Qn3fbwlwDdbhocYDrimYfHam5HMD4lERdCBqLPHXMu5KmDcD\n",
       "sSbm4QBj7DfRYnTPrnJ4KISjJizhca+fd6J9Fem4/JK3ZcbGcFBrLW3iUWLHgTu97SmF9tkFji6Z\n",
       "avEpyAECfhkfLEmUwR+jAnmdfvLtzREUxeIe+e5KKSqok6GjoOdUxrp1y1Rb2LFPNNdbIacr0Ux6\n",
       "UZLO+M4+kYXb0M6dFRFB5IiCdfhmuAUWSMdI78IXwctYUipOZcUJQp+EJzG2vhwtYeR2JO9jSGvh\n",
       "WKlEgH2sU9GoAh5qeuim9ovXZ/KHtfuczEEkDx4gaiz2V3VR5KjC8KMrC9TDfYyx9Qjs25ehKUts\n",
       "xhIevPAVkN9DGZsU6xzpsj+h6zOFHsZY64P2ee9MUwpDraGSLplqEcuK3RScP3AkUQYfxZ0AFjHr\n",
       "ZOQLP0K302W0h2yUGPsdGToKek5lrFv3O0h2ofQAswWzGY1/fQb32kbU5vAd2y+ljK1rFVkbiS2o\n",
       "1+owyCJgP0IhtqIPrZ+cVRhvzd1lA2NJKWx01FIBWldST7fO7AeMjLc11zCkNU1fHc4TYD/rXDSh\n",
       "gIca972+xhp8xjBT8Pn2o3OJxSoQNRb7i//KdZH8uArXVWzm4TXy14bD0E0CLCyRML4XxbCH0NBV\n",
       "0nkr2yczFqd+pA5byaa2ZLfB3stVd0mhS4lyqi+2jku6Li7j8svwOQLew8CJmBh8VQcfgXSJv3g/\n",
       "CSUSJDxcTDWVJcY+qzSsNO5lrGvEs6otOF0tJpSYPSQUOyEgsLFp7yPyhDv4qD+uBQ3Pw1gauK+r\n",
       "9g0CRcY7ppi6eSHA1VuHhxpgi8/ZnuKzBFObz3JSgYi/JzxKQiH2Dxz7YQ/x5TL2JhQb9tpU6sf3\n",
       "gURz4St0jYW9GZ2xi9F6bx8ja3ERBRNt1oi2HQ5J5zLhfHJoUyuXPLqoTD6fwL+XMHAihtGWSgPP\n",
       "kQ80Uk90dX0JMbZDP+wgjD3tNvxy171dXWXeOM0JYoo6mn9QtQUn8Y2I+8EJYax4jMZKsQJEvEOT\n",
       "dX0M5WIjeQ1PMFb55mUbPGIoldMetfdKef1zFQJcvXV4qOn3OaZTTsVnF6ZGn3XGRlR/vftdoZDK\n",
       "/TBGP8ghY152d+TDMJCEDixdfdLKwrDdnCUvt1JFEPTjjLXOwwOfhToShxeiB52CrR6NkMIjp47s\n",
       "vYME3hCuQCuXdF1cdmQP/QrzPANfy8CJGINuHXyuE3+kEewsXWMTg7Ctv7+/qDL2QbnhqNK4d411\n",
       "jRBRgRvWRMXB7v1yp1tiDdz60MMOrPDGRhn3bKM+k8qVNLy06Vgndt9DL9Wwqe2Fuk15/WM6svOq\n",
       "3jo81P7f7yk+uzA1+qwzdoXir+V9nKxw1+qNEfq5IL4EYxNDsBO2z4XuCpKayvbHkaHv5mN4q7dx\n",
       "J4DOWGi3LxzEpOqAcKFnjwPRIhIRz9kPKRzMhYuIAx1ID23yWoWk6eKywRzaJ6HckxBBv+32KAHn\n",
       "IqzXwb/uNDy6ir1dPgxiT6MwFiHyhikreeM0x/HcOmIENHKQJ8U0t8RgrmL3bz1zK4p9RXufGB83\n",
       "vXtwFZ6DeCE27Kh4sU+9Z3pfMT4+UgNjn4PQUolVLnAN1uGhlqallhSfM1P1WUoqEPE3NMGrnGih\n",
       "/nXq4f1g+lcz7Eg6zXblXV1F7S0tTT95A8WMiFSI4fsHl5KPE7ordjt0F/APLYzmV8MvSPkLGUIc\n",
       "Jmm6uKw+j/ZJaJpsOzoX/XJwLibzXvAe/MZlK3rm2B8q0H8YoTMWDQFvmJ0HsMZZjuG5dcQId/C3\n",
       "0d0CTpsFFwL45ykyXkApVLh4jHl+FQH5fPEeEi89jE2wObHb/Ifq2y784KYMjzgZQXZB+zo4Ds1l\n",
       "nmvl5SbdOpi/m0+TtAvOxCUhL3jTls+jxeqTXetNZubkdwGt8ukAadx0HsuNsHIwm6Zx8jA2xe7l\n",
       "Khhrv28ZZ/gz482C7IL2a+D9MFxguQ03VJhk0l0Dx8t8muwW4EyMj//NC/5K5A1/tyjrXgHesPuW\n",
       "CzdufOfFjUgWZlnxP8XYSdLj+v9XkDKJKR+V1CS6ZX2ylCcFn4ixkal8zHV4lhTTOc1ZWP6/9ItN\n",
       "q6kw1pllxTRP/wIAOSn61wa2XwAAAABJRU5ErkJggg==\n",
       "\" style=\"display:inline;vertical-align:middle;\" /></a><br>"
      ],
      "text/plain": [
       "<IPython.core.display.HTML object>"
      ]
     },
     "metadata": {},
     "output_type": "display_data"
    }
   ],
   "source": [
    "deci_sequence_reduction = Forall((m, n, k),\n",
    "                                 Forall((var_range(a, one, m), var_range(b, one, n), c, var_range(d, one, k)),\n",
    "                                       Equals(DecimalSequence(var_range(a, one, m), Add(var_range(b, one, n)), \n",
    "                                                              var_range(d, one, k)),\n",
    "                                             DecimalSequence(var_range(a, one, m), c, var_range(d, one, k))),\n",
    "                                       domain=Digits, \n",
    "                                        condition=Equals(Add(var_range(b, one, n)), c)), \n",
    "                                 domain=Natural)"
   ]
  },
  {
   "cell_type": "code",
   "execution_count": 5,
   "metadata": {},
   "outputs": [
    {
     "data": {
      "text/html": [
       "<strong id=\"deci_sequence_reduction_ER\"><a class=\"ProveItLink\" href=\"proofs/deci_sequence_reduction_ER/thm_proof.ipynb\">deci_sequence_reduction_ER</a> (conjecture without proof):<br></strong> <a class=\"ProveItLink\" href=\"../__pv_it/theorems/617e267a20d4b4aa64fb9327d5d9ba4644c6bec40/theorem_expr.ipynb\"><img src=\"data:image/png;base64,iVBORw0KGgoAAAANSUhEUgAABiAAAAAaBAMAAADMAIlPAAAAMFBMVEX///+IiIgiIiIQEBB2dnbu\n",
       "7u5ERETMzMzc3NwyMjK6urpmZmaYmJiqqqpUVFQAAAB6qHgnAAAAAXRSTlMAQObYZgAAAAlwSFlz\n",
       "AAAOxAAADsQBlSsOGwAADOpJREFUeNrtXA+MXEUZ//Z23+273be3e3gUkPY8Ty+oSHIQkEstejXU\n",
       "8ueAh60VEuwtMR5NxbClhj9BvG3FBiS0h6aEiJFFrDECspoi2Ku6xdCmvStsa0mBEHpHikAC5lBI\n",
       "Abmc3zfzZt68/7vZOwLNTvLefTvvm+/PzPeb+ebNawHqKS/3FKFZmuV4LbGeM+prMNrss5qKnDb0\n",
       "D0mPu+jHo9p59oh5NdEExHxMNFVBLfqQ9LhLKjefeh8IerDo4zpiDwivJmCS/rxYMyDa6U+m0gz6\n",
       "sHJIEJmBhmVp3+m2qFVnBepxlNsuXguwsAaBkPx5WX1y85cjbBEMsYDxnwN3GyyNeMS8moAd9Pve\n",
       "mgGRLuGftuZOIjSGcSFNdqdxkr5yDqS1ySG+z0ePj/YyHKlCm1mDQMg6l5iZKFsEw1ZPIM6Zuw2W\n",
       "RjzaygDxI0r98jUDIkkryqZm0IeVNE030y0YdzvndIhnfPT45FEzMDQKRrmWmHnUAZvUOxGmSIZx\n",
       "j9I5c7fB0ohH4wwQNJUkqrXvIQhGlzSDPqzEKVj7sjhl9s3lEHtGN+4/xoshi+N0Ti0x8zXHg0R3\n",
       "hCmSIe5ef+bO3QZLIx7RNQEGTjNtdWyqJ5p766jyPIDx5JJPvQmZ0bkcYs/oPh/U5AiO6S8Z9ZrP\n",
       "eq7EzH1BuVREstXmWpvm0N0GSyMe0YXhfVZPz9l1ACLe0/OZgWbQh5XtAEOzs7P/hTR11OalG5Rn\n",
       "+tGTI14AOfkBftXxpjVmU11Vt55U1xVLr/asEV/E26WM3FgA/TTXYyFQP3rSjEPvSDXCMMmQmHQ+\n",
       "CnTX402ku5Do2KP8WrqwED7Fq9wNekQXAuJxgO/WAYh0AVrNZtCHFZqcs7lnTDblpPrhOqW/Hiy2\n",
       "hue1Ln7Q3jOH+DuMoa3au249idYpGHK94kh2vYr3vTxETiNMODfdQqDTFLfeUMMMWgvSPawwbAS5\n",
       "W5dUbvEZ8Gf718ZqOnR/6+Ru0CODJ0CbQZ+sAxDIvPmjGYcfGZjSaedQ9TKAFpx/VlTgT0o0LoF0\n",
       "eF7r5AfIvANxvqYcMeFMt57ft+Rhi2cOPYJ6/2lF1E3uBUIIJFNGHXr/EmWYZMi4dwsB7nq8iXQX\n",
       "WgZULz8rnA8oDu5GPaILAdFqJko+3ManBUi3l4yv2IDA5eSijyQeni4kBy/gpJUYPufD5amL+b6p\n",
       "UeKnWKN+u81ivEYKL2N6iR37dxpVuMoaqPQ0jeHKS18JFMP5le3qKGR5ioqD97aDFfWYQyUCCsCV\n",
       "bLa2gj+O8+SINYX2uOEiBHJTtL2qXu38f5vhhj3J4jM57XoY4G6tUtUKYpXdRRN+aG+pghv1iC4E\n",
       "RCbnv6dezFbf4VJmchk8pgDiQN176uQ99QZ34pgfaZfL7FHWT78I/jEJ2sUFiIsX4XyVNUpcsare\n",
       "cGBf399VAM++6+Y8KJX7aja6rPQcT6opQr4E2vuQ7LCWhXgeMITLIdMm43fOgY9WrdkyNeMZoSMA\n",
       "r7t6G3Na5HswCBBCIDdl3Qmq3nTI+sUNi7MOTPX57SG87tYq1VEBju6CiN5S37o16FGqz3pntMs3\n",
       "O6NJYAx7M7MrDQMKINqMuj8LOFpvA33aj7TLFuvvun+thZcSZtrUt+NEPgRZUwHEaqFYUb/aIaZ9\n",
       "INYHv3ELb0dvZaVWczppt8FUxriu471FlENob4GBHmSsURnKwTMA7/ukOUIf57dLtiqmwRk+YTpT\n",
       "M0TDB5qjNvsOA8TBoJRJCOSmCD6uN1vSj4UbxnueuaPsIYLcrVWqowIc3RXVWyosG/SILgLEJVvR\n",
       "o53rumK7SS9Sp7K5NL9hgB1mZ279XU4FROL5upP1c+ttEMv7kXZZYK2Rj+PtxVw5ARsJ5onqkaIC\n",
       "iB1CsaJ+h2syTXTTQUwS/XvCnmiwG+RBb7pUs9GyDb32eRlwrFpzoM1A++hzrK81lmvD65niUzTE\n",
       "mneE6GL89nBAtoCpMeM9Rkmv2vek52zcEyQcUuKTLGXa7bep1oRAaQoLH1PqNTF8NN/tmeXIbr2T\n",
       "BYeLwcfdOqQq7sIHOFPL7spiAJZCeotxi4ht2CO6CBA/Roxf9WAlPhkjsBNFYdV+8rP9qxh2Cste\n",
       "UAGh04ZCG+wUufXKXRd49Tkqk2910TgmFoqlxabUF2xyodIGT8l5SVX43ZxgH+wcfmEDRsTTFLg/\n",
       "XaGmTN2WYku9VQfjezrshKilwk4lO9VT35GOV+yjypZIw2WdbENvPIf1Gf4e72o4WC6zER4apZjJ\n",
       "nJ7mZwH0U3sPXATnt4cD2iutZf7kDfie5GMVqAdHOza6x7n5q7BziO3O1668DTVjAkGactBSzu2k\n",
       "ww4m22sdZ5i6awUOfNr94t3HXR+ptpdOqYq79NJoueyudB4ShbDeIm4RsQ17RBcBoh1V/uQUnDmY\n",
       "m0RR/MQXQeFhDoi0nKXZ7oFe6n2jOGIBQvtc8l0veh2Vsd4YDcEXkiLztCkltS2tFyQKL3hJVfgx\n",
       "6irQmFmHE9+mZOWlCrSaHQog9FFLsaXeqtP2LYF+aRkiK0MsuaW2/BPMU7EyPYzlWrgj0nBZlxFa\n",
       "rsdrSuunL3wwSeu8aarARrilF02eWr75JHzQy3/C6eR5WRBUw/jt4QDt6E7x5GKM8x6TNWBtUE+q\n",
       "G7Q3XC/bHxpbS2aBGKs7AEQbZsJR/oWFZQrNpySU2wnXm1yZbVTZwXBmNckGy9UJPu76SZUCnVIV\n",
       "dyExuMuU3QXnT5wY2lvELSK2YY/okp9/T8F69tqMKLYf24L7h70YE9VMQRsYVQFBZQzZYROZkS5j\n",
       "QDxyqrOHWKUsrRWDoV0r6OzEgyh3C8T6t2zhI5ZwRqYO7HALn2bRl2Kz+mEoswzqlpLRWVEAkcpb\n",
       "ivkdrDr98lGwU/FVOaoDuFCZ+a+FvbySym+jDKc6KdzCtsSwzN9ZhDwrGzHnnvVgy66xh8P1JKPk\n",
       "TC0hZ1a6/1bSq/OgQyjz08skGfT/Pc4WHn+lTndrl+px19ldUb01Jd4gNOgRXRN2mr8AtiQ5NUZ/\n",
       "d6e6iz/gKwQ8knMDYjF0QfIgW0lKuNb1ac6tL6tUkvL0JN/N39rLn4KnBXtlIskFlnBGxnG37BKe\n",
       "ZymOcc/w8PcRECvdr8lYZGYmhWJ2B6sO2nOpPriB5n9c43CtSboBcS78jVdSeSnK8LjEh2xjf1g3\n",
       "7hhhmWfoZb2o/JRlALzD4Xqi7hdCPuAL+PDPR+dBh9A74XY/Jslg5H9N/wgo4Cs+p7u1S/W46+iu\n",
       "yN6yIrZhj3YqgNCnEWe707CSqNMOawMwleweYEfSRglkdAtAaO/Ctd+EFvayotj6lFl0pRKscvzF\n",
       "8UeWs30hxBH9WcqxWFwR5W4BmGIZO/YPcOFXW8IZqcN6t/ATzbbbO9hemFaI1AG4c2xsrOQEBMan\n",
       "pZjdZcwiPsrW1LqioH/AU6YBZYin4Tw7ZbohynCqG3/4kJoywRq5NhaVEdYk6DbdeIup/JS5YA5c\n",
       "w+F9crnaYE0wIPw/SPbqZOEjherX3PiYH5NkaM9dnwj+Otrhbh1S3e46uyuqt1jEzoFHzCsBiNQk\n",
       "3AubT4T1VaQ6K8nzsLPfKOjXUKZ6L4AbENCffP8pitmVEC+OPGxCawlJhJF1Y5UH8vESBspK5NuN\n",
       "97YSArUXBIUtbH68/QISmQW46UWyP3mMCRckrHUL/6GZvWuV9cnJPsDVymeFQFlcMb+zprSp3gIt\n",
       "t1qAaDGNc3D/YG2qhYZeI88qxaY6zHBedyBPe2/ZBlbJQbMiR7/w7ZxycvfV2Vm/E0G7RgyH94lj\n",
       "aFcFA2JNxOGhKLfdv1QRGp+dnfY7qszZId++Rwl8d4yq7tYh1e2us7uieotF7Bx4xLzy/BNSay7N\n",
       "WO9zhocdGbMExEP70QaMWQTQzgOD7IOo9dVkP6wv0o1XthauhL+y+j/m8K7vxN1SLwgKWyDsOH8R\n",
       "qTtx+/QqbnqRFMIFmS54hY/Q6eUmDOzk54v8n/F5ALEGuGLrTu0pTv4AsUGxYCztKlI/0FLzGghL\n",
       "bulQhhyJMMN5XXvhDnV+BF1294Z5PZzXA0+EYsX51Hty0IP5dXeePWJeuQGRsvYa2/zbOc+oKavh\n",
       "AEqYOYkliaoWOATdFfGL33sFxVpk7DWSz+mxfaaoJOEWuSzmFd658Qqckb4+vNbPzLx6UKaq957C\n",
       "eabZjLMyZaWfQYZXuacLt4XO183ycSluQBjW30oNgEh+4hIBoPtnuyWWJKpWwydhqmj94vd1Z1ct\n",
       "iloosNvGT4Uzg6KShFtk2+x/vMKfSOwP9ooDIl20+UX7tHfmfML5c5urklNBhvO61XCo4hHULMcD\n",
       "ICLKz9z/L5PhRxo+LL5PKz6UPxkkPAwQsMxH/TI3r+F6/VtxVSbMMMONYEHN8vErsZ4lx6VfFmo1\n",
       "v31fZIW7stYPVbRmPB0P5f+hX7UhBYJmcwAAAABJRU5ErkJggg==\n",
       "\" style=\"display:inline;vertical-align:middle;\" /></a><br>"
      ],
      "text/plain": [
       "<IPython.core.display.HTML object>"
      ]
     },
     "metadata": {},
     "output_type": "display_data"
    }
   ],
   "source": [
    "deci_sequence_reduction_ER = Forall((m, n, k),\n",
    "                                 Forall((var_range(a, one, m), b, var_range(c, one, n), var_range(d, one, k)),\n",
    "                                       Equals(DecimalSequence(var_range(a, one, m), ExprRange(i, b, one, n), \n",
    "                                                              var_range(d, one, k)),\n",
    "                                             DecimalSequence(var_range(a, one, m), var_range(c, one, n), var_range(d, one, k))),\n",
    "                                       domain=Digits, \n",
    "                                        condition=Equals(ExprTuple(ExprRange(i, b, one, n)), ExprTuple(var_range(c, one, n)))), \n",
    "                                 domain=Natural)"
   ]
  },
  {
   "cell_type": "code",
   "execution_count": 6,
   "metadata": {},
   "outputs": [
    {
     "data": {
      "text/html": [
       "<strong id=\"deci_sequence_is_nat\"><a class=\"ProveItLink\" href=\"proofs/deci_sequence_is_nat/thm_proof.ipynb\">deci_sequence_is_nat</a> (conjecture without proof):<br></strong> <a class=\"ProveItLink\" href=\"../__pv_it/theorems/5aa06da46723f581c683555c49d0c780940928170/theorem_expr.ipynb\"><img src=\"data:image/png;base64,iVBORw0KGgoAAAANSUhEUgAAAa0AAAAZBAMAAABwVGzTAAAAMFBMVEX///+IiIgiIiIQEBB2dnbu\n",
       "7u5ERETMzMzc3NwyMjK6urpmZmaYmJiqqqpUVFQAAAB6qHgnAAAAAXRSTlMAQObYZgAAAAlwSFlz\n",
       "AAAOxAAADsQBlSsOGwAABTJJREFUWMPVWH9oG3UUf0nucvl5zUqZij9WMue6FbHInGVMzECnuE5u\n",
       "bRUGaqpiLUUx3UAFmb2pK85Jl/0x8Q9hhelfyohaGWsKS5FN1tmZzh9VkZmibPiPpMLYHGh97/u9\n",
       "++Yul1sOI8w+yOXlk0/efT/fe+/dywHUNzXZBkvKmpNFL7QwLDWLFa6BrpDw9P8kSg38mui62XR8\n",
       "xQaiRBL2z/Id/QdBuncDw1FXicCf6unywPJq8ZTpfdNQnJuqPgeLRwDSHEddE4S9W0+XB5ZX246v\n",
       "HfAx7nC2oThhraq7tUkFCHAcdb1KOdlXT5cHllebxNcKaAeIFhrrDbkqXd/hxvs5jrpInlSsp8sD\n",
       "y6t14OtTWADa24bsLqNKn0quYbreTuwlXYSjLmod4bp9wwPLa3lh9n25curvIvzQYKT3eP84YOSj\n",
       "ql/wpfwcp+XemUyuq98P67M8WjQF8iJaB4xTbv96vbWvjW7aXae7W/gPs+Nes8xUPQiDfo6TrqMA\n",
       "z9SIkLLrcmF5M2uFh6mqFmIX+X4f1oMXLb27E17QrhrJyj8Ftmam6kquu5vjpGsUQqUaEXJ2XS4s\n",
       "T3Ymo3Q9aH7wY5XKf0llgNvR2QjRVpBPGd/1FOATkO/73VUb5xv2NTtmK7pgJv40x0lXUJPGrFe6\n",
       "/SH4vOTQVcXyNBHwSPKWDLaI7SYawDDKJRVXtwGTsgz+FAw1G98dB7gVopalO5KY8Q0bpoOCBZK8\n",
       "zdClar9wnHTFE5WGMHR+EM5JWlRz6LKyvJiIFBrX6XbZpFV0GfWFugJ9kEadZ43v1oN8BZrGQpfc\n",
       "ohp8IyfZFeyzXC+51M1xNkdlp8R2HKWpIpGTYEu+PT9mm6MqLE/dQUR6jcJIxZ91Sx6eXFhxoEh5\n",
       "mE7AVyB0yQsQK0NMc9fF+ae/WJYTv2q16IKhIMeZrq0H0ZkcutEYTeZ+3C0564uxoHfKrBO5q8U5\n",
       "tVZAS6QzJOytHjHuYD9TW5vw+CSuswi/xXW2Qo3KDtTs97gLWHK1mw/j75neCJ344SSDl4nAGbyX\n",
       "vchxput1rKbHDhcCOr+mc9Lj79fQRSy5TblsYN36sFOXAG2RzhWwOsXpJYwT7NtfZP04mIi3R9kO\n",
       "y38CKT2bw/Pu0CBN7YAODBcO44e2ZYGa4jhfnDktMOcYx5kuFYXuuQErIMIGmznILa+hi1jRnNIB\n",
       "Idbv87ATIrMTdl0E8oZtjQSvjMVaxMykYOKoiR6dhkSQ5x8YvY5nVBKvxxMtL89n2An8qyhlaQ3t\n",
       "pkMEzlcTERpa1vItPP8Bj3tovTF8rrX+T5nHcou909//PK6mN+y8fxk17yvBLjolFv0t2OXSdl0E\n",
       "8tnNGqnKVouOnzE90hUXzX0fvAnwrXNQEYRAJppD+UZlRTbzOUq04VarrrshrygpvsuRWZf/X2k9\n",
       "eEID0iVfhuceCZmXxywvAmMTMymwRNqXz+dtd4jTzsGVdEliXc++9JltW80EFt5+8O/KuI7NhAtd\n",
       "oTKsnuMTxTSYu+68XvrwR6RLTkGncuUEwCC5veJAYHw5tSiXSKy+RV0OGO9vHNoEsE2cZHGxDHLC\n",
       "8TtBgCPg6wIYcemZI9b/y5ESYAmMYGYoa/D+5qIrMjmLAVeBcg98OIP8aIbcnbrSSQcDvBDCKneJ\n",
       "ZL/jPGqF7UJ8zt9VKx1w0TXgfA4gb+4frP8cAPMwzr37fcIF4bX6pjW3SMzEaBtKNDA/+/Sr4P/m\n",
       "+cbQuiLwFhRe/AMMl4x7cinetVSeRzmeHxZquQX4v1jzysI/1Y5vQFMoO1QAAAAASUVORK5CYII=\n",
       "\" style=\"display:inline;vertical-align:middle;\" /></a><br>"
      ],
      "text/plain": [
       "<IPython.core.display.HTML object>"
      ]
     },
     "metadata": {},
     "output_type": "display_data"
    }
   ],
   "source": [
    "deci_sequence_is_nat = Forall(n, Forall(a_1_to_n, \n",
    "                                             InSet(DecimalSequence(a_1_to_n), Natural),\n",
    "                                            domain=Digits), domain=NaturalPos)"
   ]
  },
  {
   "cell_type": "code",
   "execution_count": 7,
   "metadata": {},
   "outputs": [
    {
     "data": {
      "text/html": [
       "<strong id=\"deci_sequence_is_nat_pos\"><a class=\"ProveItLink\" href=\"proofs/deci_sequence_is_nat_pos/thm_proof.ipynb\">deci_sequence_is_nat_pos</a> (conjecture without proof):<br></strong> <a class=\"ProveItLink\" href=\"../__pv_it/theorems/a94f0d2a5718b93a792bc3db91a66bb4e9859f560/theorem_expr.ipynb\"><img src=\"data:image/png;base64,iVBORw0KGgoAAAANSUhEUgAAAfgAAAAaBAMAAACp/VNxAAAAMFBMVEX///+IiIgiIiIQEBB2dnbu\n",
       "7u5ERETMzMzc3NwyMjK6urpmZmaYmJiqqqpUVFQAAAB6qHgnAAAAAXRSTlMAQObYZgAAAAlwSFlz\n",
       "AAAOxAAADsQBlSsOGwAABnZJREFUWMPNWH+IFFUc/+7ezs7s7uzuHFxWqNexdGhJsInkIVJrYVhd\n",
       "NdglBHa7Jm6kHa6dUCHmmHQQge0/ilDWhhpFmlv4gzzJvcqg7Mca2oVF7YnWERoneqkHx/W+772Z\n",
       "ebM3O3fmcfiFmf2+7/e7b97nve/7fr/vAXhRLDETJovUwqR8JoKvInl8ibu8LUMwefTr5HwmiK8u\n",
       "yn53w4CX8harXH9vhjd4VbuxwAdLFjv9+nt7r6q9+N/ndHjgYoGDh2YGvoI/v9UG76mfQNpkcdGU\n",
       "LV0yW3SO5U3efdjWvlKVqiNcAWnAXHloZOAP4c+22uA99RNI+8gjN0WIPz4lit9yDKc4Rie29ZYq\n",
       "zWmjFSAJB7LLs1kyMWmdgn8FN1mmNnhP/QTSEK7XgJ/AOyyKh8VGvDxGJ7b1sSrN+UzIgCZr5UMl\n",
       "Cj5E5iBQrg3eUz9xJA9iGkrGNVwfm8KDotFe3bsTwbqOm05JJGgk7e9R8gL4SIaCV0secY0oPPUT\n",
       "Rz4yMPWL+bedh2heEAccu/z+MToRrENs0394E2/3x3INAnhfkkX72YnEHK9o76WfOIoRyOmRkZGL\n",
       "EMF4t3nBRjaAvkbB696pP++dnGzrAA3UirX1+yETLNjgqY8Q8AcBVniB99KPL4OPK9OhH8a1H3W6\n",
       "ZuEWWE39Nr1FumJ3dFVPG16dCNYq9Z+QYYNfJzU3mRUeyJcZ+M2gVIQOlFkPw5cVAXyV/trL1r9g\n",
       "7VeGXVrWmGb8Rrr8OICfLN4TJfiUiv/Q4W5YyjdCdBDqtLbHztbshFpz26SzTukHtfyzHU2UIQY+\n",
       "qAesqnrNnyvh94Ae0QXwol7eOpoTgpZD9uq+gnovQBvxnCQv34KjNukCM6djmIcNudMkVJGvHQG4\n",
       "nYo/A7gk1/OtHMlDPFXk0+JGaG2OBXM6dCYIZRh4OBuzwUscfFSz5idyEAsarRgQ3V7QA5xx4Vy0\n",
       "cmO2EK0shP3wxiLA4mKwCrzEprcH3hdWnu15BH8PGx1OQXgYohy8PwV7y0PwZq4WeGrNAz8FukRY\n",
       "eWiX7HiocLeHfA/xzcNrpgJMQ3nvqY0O8FRv0lwXzkXbTcYX7YlASrkTm49Gr1SBV1YZ7A9xwwav\n",
       "rq6/Oh3dXroA6gBP3JFBCzxJ80f0ox7g0Zoh4f/xi+BlzS5X5Csc/KMkJC7dUaozJKrsDTy90wEe\n",
       "9dDWswj/c6GR7wibE9zelNHiMrr+Ay0F6t8IdVdSAC+1Nhgg/0NQK2QT8/Acw2+fhgvESANpmET/\n",
       "X1B8Gbc/AsGoGc9J81nCk9yjKlpTJGQiKRafZuqfJc/NGWdFgOA3kUl/7VaI62GaG3uhOMUBHvXS\n",
       "TDpXvmYfrzBtTsjVpox6WzS38BTZ0dFzJFvwQTDwi40NCPzzHFY2fl6E08SbVYZZkloGPxVpV+dg\n",
       "FVvFNIkasVKQCOVm1pKuQhVDrSkSYAkTYLs5tu0sZlhRmOd5iKEb9cEOULdmsx0EfFvIAR71kaKc\n",
       "pEcvNa+sAM7tmVqoOpixBAO7GfiID6daPgQ9rcJxErqhk67VgYKM4VtYij6pBQt8sj0bXuqjzt3+\n",
       "SImB9xPI0hmsfLt01oJZZpykTLNpjUhImw2tfSXzxZcvZhyn5khFPNLOhW5ZTrGVDx8fdaStK/jQ\n",
       "vC4Xqaynx0HkktKAAzzKKPNNNpstR3NSKu9yloZ57EwFagtxe6tcn2dZzaj2KLp/T5rRoqgYdsum\n",
       "kyISkmt4a+czibxbZi0J4JUBmNHLiplv+YHPAT5tBI+SOYzjHqXgkTPkpKNHlB3bfQJgLVt52KMp\n",
       "3d3dh5zgSR3y/JOoXyYGPHqqcz+TMPBmTux6cZ1ut2xKOZA4T0cu5ZAugCen3YYSdBFXk+8wIDZ6\n",
       "5Y0Nu/U28Otf04sAzgULhJNS5gtlxzN+LA3YnZyv4rbyLfLQUaJ+m7D18LGp67Stqqo45aFLJAaa\n",
       "oeu+kRGwW3bA0xxIxjqH/jD6Jkd6MLvS/SYnfPh4K3SW5U80Cp5zBynXAp0GvqgslnudDBdj6wvb\n",
       "+E1INfiPviej83WwIme/VdxbNbzkNnCfR8tFEjS8wc+89mussnUFRLmArpkyS+uHabuIZ2SzhVr3\n",
       "Zywrdnjc4W28/nPSLWOU3Nd+hxemkXPNnDLn3h1p4pytbYcTJe/Lw1p0YhJvisd3e+u4t1fHyf0/\n",
       "8JN0b09pP723nw+TSQrcWPQf8vXCE85Tjb0AAAAASUVORK5CYII=\n",
       "\" style=\"display:inline;vertical-align:middle;\" /></a><br>"
      ],
      "text/plain": [
       "<IPython.core.display.HTML object>"
      ]
     },
     "metadata": {},
     "output_type": "display_data"
    }
   ],
   "source": [
    "deci_sequence_is_nat_pos = Forall(\n",
    "    n, Forall((a, b_1_to_n), \n",
    "              InSet(DecimalSequence(a, b_1_to_n), NaturalPos),\n",
    "              domain=Digits, condition=greater(a, zero)), \n",
    "    domain=Natural)"
   ]
  },
  {
   "cell_type": "markdown",
   "metadata": {},
   "source": [
    "### Number sets containing the digits (beyond 0):"
   ]
  },
  {
   "cell_type": "code",
   "execution_count": 8,
   "metadata": {},
   "outputs": [
    {
     "data": {
      "text/html": [
       "<strong id=\"nat1\"><a class=\"ProveItLink\" href=\"proofs/nat1/thm_proof.ipynb\">nat1</a> (established theorem):<br></strong> <a class=\"ProveItLink\" href=\"../__pv_it/theorems/e9f706179081238aa229ec9b355175ebedb3792e0/theorem_expr.ipynb\"><img src=\"data:image/png;base64,iVBORw0KGgoAAAANSUhEUgAAADIAAAAQBAMAAACmdTG/AAAAMFBMVEX///+qqqq6urpERESYmJgQ\n",
       "EBDc3Nx2dnaIiIgyMjJmZmZUVFTu7u4iIiLMzMwAAAAz/ewvAAAAAXRSTlMAQObYZgAAAAlwSFlz\n",
       "AAAOxAAADsQBlSsOGwAAALhJREFUGNNjYEAHPPeN5zCwxwcxMPDdQZNiFtBmYDjPwHB65R80Ge5r\n",
       "7A4MrEAGB4aMMMM0Bl5kmea7dyeAZVIaMlFkNHtgehL2cRQgybDNgZuWwMxghCTDmYCQ4Vtw9iyS\n",
       "DMIFCQyOjKYImad3gcAAKsN9YCtC5jCyHp4NSKbxIsswvGBGyHA0wEPnAZD3GMhg/wYRmAiT4RQA\n",
       "EiuBerf+3AIWOG10AEzzzQ8GkieRw0vdFhI6UAAA1P4101iioN0AAAAASUVORK5CYII=\n",
       "\" style=\"display:inline;vertical-align:middle;\" /></a><br>"
      ],
      "text/plain": [
       "<IPython.core.display.HTML object>"
      ]
     },
     "metadata": {},
     "output_type": "display_data"
    },
    {
     "data": {
      "text/html": [
       "<strong id=\"nat2\"><a class=\"ProveItLink\" href=\"proofs/nat2/thm_proof.ipynb\">nat2</a> (established theorem):<br></strong> <a class=\"ProveItLink\" href=\"../__pv_it/theorems/d64204bc453bceba682a8e0d86bf6f914492a96d0/theorem_expr.ipynb\"><img src=\"data:image/png;base64,iVBORw0KGgoAAAANSUhEUgAAADIAAAAQBAMAAACmdTG/AAAAMFBMVEX///+qqqqYmJiIiIgiIiLu\n",
       "7u4QEBBUVFS6urp2dnbMzMxEREQyMjJmZmbc3NwAAADzFso2AAAAAXRSTlMAQObYZgAAAAlwSFlz\n",
       "AAAOxAAADsQBlSsOGwAAAOlJREFUGNNjYEAHrP67jzJw5mcw8N09vQBVilugnYEhnoHhNQPnD1QZ\n",
       "dj9OBQY2BoY6BoY0NBlphnMMLAwM+QEM9Q/AItYuLgfAMo8M3oBkShgY6sEW9ZjC9DyoYp7AAmb6\n",
       "gwi+o3DTHnAz7ADLcH0GkTwPEDJcF0JCQCyWArAMwgUPGBQZt4FYt8H8ZS5AsAEqwx5QBmQwgbUw\n",
       "RCPrYS0AmSbJwAeyggVZhmExN9D+CQzMAUA+swE8dICeYF7NwPDk7t0rYIGDMBkeASBxB+iZ////\n",
       "gAXCdwSAaa7z2UAyBjm8OrdAQgcKAG3YN+ojYy50AAAAAElFTkSuQmCC\n",
       "\" style=\"display:inline;vertical-align:middle;\" /></a><br>"
      ],
      "text/plain": [
       "<IPython.core.display.HTML object>"
      ]
     },
     "metadata": {},
     "output_type": "display_data"
    },
    {
     "data": {
      "text/html": [
       "<strong id=\"nat3\"><a class=\"ProveItLink\" href=\"proofs/nat3/thm_proof.ipynb\">nat3</a> (conjecture without proof):<br></strong> <a class=\"ProveItLink\" href=\"../__pv_it/theorems/c14ca316388a7a43d005082ed1b319aa351e7b7c0/theorem_expr.ipynb\"><img src=\"data:image/png;base64,iVBORw0KGgoAAAANSUhEUgAAADMAAAAQBAMAAABJt1qBAAAAMFBMVEX///9UVFTMzMwiIiKYmJgQ\n",
       "EBAyMjKIiIiqqqru7u66urpERERmZmZ2dnbc3NwAAABametFAAAAAXRSTlMAQObYZgAAAAlwSFlz\n",
       "AAAOxAAADsQBlSsOGwAAAOtJREFUGNNjYMAAk39vm8Bw9esCBoa3d3ahye3gEmDg/MDAwHmAob8B\n",
       "VUr4wRUGhgAGBvYfDPMTUKUkNrA9YDBgYOCKYuCHSLFvNjYDM+Tc+RJAUkDQ7wAiudInQHXJMSrU\n",
       "QqS4TMACz2AyDHIMG7gXgKSYCoXAAnkMCCkdTkuogWAXJiBJsTR0B4CZrD9BmoONjY2toVIMkoxA\n",
       "KSYFBu4fQD7nBiRdDBM5gQby/4RIQV0LlWIqAKpkFYAYyFAOl9oExEVAKRYHqL/Y4MGVAcQ8IFet\n",
       "OQMJXk7plRAZta9AHZwogcd1GxpQUAAAes00QfXZkiEAAAAASUVORK5CYII=\n",
       "\" style=\"display:inline;vertical-align:middle;\" /></a><br>"
      ],
      "text/plain": [
       "<IPython.core.display.HTML object>"
      ]
     },
     "metadata": {},
     "output_type": "display_data"
    },
    {
     "data": {
      "text/html": [
       "<strong id=\"nat4\"><a class=\"ProveItLink\" href=\"proofs/nat4/thm_proof.ipynb\">nat4</a> (conjecture without proof):<br></strong> <a class=\"ProveItLink\" href=\"../__pv_it/theorems/1675b720ca7921af65e8c094d6fdea521214d6f30/theorem_expr.ipynb\"><img src=\"data:image/png;base64,iVBORw0KGgoAAAANSUhEUgAAADMAAAAQBAMAAABJt1qBAAAAMFBMVEX///+qqqru7u5EREQQEBC6\n",
       "urrc3Nx2dnYyMjKYmJiIiIhUVFQiIiJmZmbMzMwAAABQcPw9AAAAAXRSTlMAQObYZgAAAAlwSFlz\n",
       "AAAOxAAADsQBlSsOGwAAANhJREFUGNNjYMAAOp8tFBhKvgSA2G/R5AxZNzAwfQAzT6NJ7UmoZGBw\n",
       "ALG40KU2GnAkMBwAsV52Q0S4bM6cADO2zWJrgEgVQKRYuxSgurZxP1gOluJKgEhlwGQYtjEYMAeA\n",
       "pDIZIFJtDAipt0yHQFIFUKkGJClOAWGgCzkTIFJ8PmfOnDkMlWLYxA2UymKASDEZIOli0GYCGhi9\n",
       "e/eX7SCBA8hSfAsgKr3B5Cq4lB0Qr4NIfQaTHAIwqUYg5gW76vL/XWDLNgdBZF58AepgakAOOtZi\n",
       "aEBBAQCwrzvWHaMaBgAAAABJRU5ErkJggg==\n",
       "\" style=\"display:inline;vertical-align:middle;\" /></a><br>"
      ],
      "text/plain": [
       "<IPython.core.display.HTML object>"
      ]
     },
     "metadata": {},
     "output_type": "display_data"
    },
    {
     "data": {
      "text/html": [
       "<strong id=\"nat5\"><a class=\"ProveItLink\" href=\"proofs/nat5/thm_proof.ipynb\">nat5</a> (conjecture without proof):<br></strong> <a class=\"ProveItLink\" href=\"../__pv_it/theorems/807ff16d7006d3f72b09e4d524ee42f2729e68460/theorem_expr.ipynb\"><img src=\"data:image/png;base64,iVBORw0KGgoAAAANSUhEUgAAADIAAAAQBAMAAACmdTG/AAAAMFBMVEX///+qqqpmZma6urpERESI\n",
       "iIiYmJhUVFR2dnYiIiIyMjIQEBDc3Nzu7u7MzMwAAADH+sJ6AAAAAXRSTlMAQObYZgAAAAlwSFlz\n",
       "AAAOxAAADsQBlSsOGwAAAOFJREFUGNNj4GNguMOADHjnu6xl4Ni/mYH718q5KDIMLALmDAz3GRg4\n",
       "98+4gCrDPocjgYEbSDOgA3YRhjUMnMgyITNnLgDLHAs4hSJjFQvTc6COtQEkk9r+AMTnWQs37QAL\n",
       "gzNQhuUCz2cQn+sAQoZP4eZNMNMTLINwwQGGREZvMFMfpPz1TCBwgMqwX6hmYPACyoAsuoKsh7cA\n",
       "aNpOBoZ6EJ8TWYbhKQsDQwMDwxYQnzUAHjpAI1ifMDAcYmDdCxZYCJPhEgASWkB/KBVBwu26M4Tm\n",
       "Ww8y4xZyeFl4QkIHCgCAFTfANTAvtgAAAABJRU5ErkJggg==\n",
       "\" style=\"display:inline;vertical-align:middle;\" /></a><br>"
      ],
      "text/plain": [
       "<IPython.core.display.HTML object>"
      ]
     },
     "metadata": {},
     "output_type": "display_data"
    },
    {
     "data": {
      "text/html": [
       "<strong id=\"nat6\"><a class=\"ProveItLink\" href=\"proofs/nat6/thm_proof.ipynb\">nat6</a> (conjecture without proof):<br></strong> <a class=\"ProveItLink\" href=\"../__pv_it/theorems/7cd558ec1243471a3ebd87d0fd130f249f7f2c9c0/theorem_expr.ipynb\"><img src=\"data:image/png;base64,iVBORw0KGgoAAAANSUhEUgAAADMAAAAQBAMAAABJt1qBAAAAMFBMVEX///+YmJhmZmYQEBDu7u6q\n",
       "qqpERESIiIgiIiJUVFS6uroyMjLc3NzMzMx2dnYAAABe+sMRAAAAAXRSTlMAQObYZgAAAAlwSFlz\n",
       "AAAOxAAADsQBlSsOGwAAAPJJREFUGNNjYMAAHt+yHRgef14AZL57dwFVLpVrAgPLByDj9ALOBlSp\n",
       "GQceMjAYABnbGdgSUKWmJnAfYAAqZ/0CE2HP6OgGM+aI82wASbEZQGW4tjtAWXM4L9SBpJj3PtcC\n",
       "C5yGyTDMYUhgWwCU4t/IwBwAEtjDgJC6xNIClPL/wMBkAhLYgCTFGBAGtMe/gYHxF5DPa9HR0dEG\n",
       "lWKYwgmU4t/AwPgRyGdJQNLF4MkCciFUF0MDshRvAVAlK9AusPvL4VK5QFwLMiSPwRnsQu4AmNRW\n",
       "IGYCuYpPaS5YgGXaEojM7c9AHSwbkIOO6xk0oKAAAPEjPtF6KYBsAAAAAElFTkSuQmCC\n",
       "\" style=\"display:inline;vertical-align:middle;\" /></a><br>"
      ],
      "text/plain": [
       "<IPython.core.display.HTML object>"
      ]
     },
     "metadata": {},
     "output_type": "display_data"
    },
    {
     "data": {
      "text/html": [
       "<strong id=\"nat7\"><a class=\"ProveItLink\" href=\"proofs/nat7/thm_proof.ipynb\">nat7</a> (conjecture without proof):<br></strong> <a class=\"ProveItLink\" href=\"../__pv_it/theorems/e0cf33149152f1394d90a52ed5f167a77f2eb50b0/theorem_expr.ipynb\"><img src=\"data:image/png;base64,iVBORw0KGgoAAAANSUhEUgAAADIAAAAQBAMAAACmdTG/AAAAMFBMVEX///+IiIgyMjK6urrMzMxU\n",
       "VFQiIiJmZmZERER2dnYQEBCqqqru7u6YmJjc3NwAAAATNysKAAAAAXRSTlMAQObYZgAAAAlwSFlz\n",
       "AAAOxAAADsQBlSsOGwAAAOFJREFUGNNjeHuAARXw5HfoMHCuX8yw/////wtQpDg2mDIwnGdgmFFe\n",
       "XrYBRYY1j/MCAxcDwwQGhueoxrHuYNBjYGNgAKoPgIhIpKUpgGXeCjwCyTAwcDqAJYxkYHoehDBO\n",
       "AMu8APP5dOCmPeBgaAbLBIP5TA8QMiwFx46BFEPczIRwwQOG29xdIGvA1jJ4pQFBA1SG9UAUkMEG\n",
       "5jKcQNbDEwAy7TzE0WzIMgyOHECGfQGYzygADx2gLxg9gIz9EyAC2jAZJlBgFQHxK2ioHW2GhDqL\n",
       "/gogeQg5vCzbIKEDBQCQSjVwXl1w3AAAAABJRU5ErkJggg==\n",
       "\" style=\"display:inline;vertical-align:middle;\" /></a><br>"
      ],
      "text/plain": [
       "<IPython.core.display.HTML object>"
      ]
     },
     "metadata": {},
     "output_type": "display_data"
    },
    {
     "data": {
      "text/html": [
       "<strong id=\"nat8\"><a class=\"ProveItLink\" href=\"proofs/nat8/thm_proof.ipynb\">nat8</a> (conjecture without proof):<br></strong> <a class=\"ProveItLink\" href=\"../__pv_it/theorems/fccb82e70bf3180a903ecbf18c5d30a3752755b80/theorem_expr.ipynb\"><img src=\"data:image/png;base64,iVBORw0KGgoAAAANSUhEUgAAADMAAAAQBAMAAABJt1qBAAAAMFBMVEX////MzMwQEBDc3NwiIiKI\n",
       "iIhEREQyMjKYmJiqqqpUVFS6urpmZmZ2dnbu7u4AAAABvK+SAAAAAXRSTlMAQObYZgAAAAlwSFlz\n",
       "AAAOxAAADsQBlSsOGwAAAPVJREFUGNNjYMAAT76lP2C49GkDA8Pbu6fR5DK5FzDwfQAyDjBwTUCV\n",
       "WmJwg4FBgYGBo4GBrwBVamUCuwGDAwMD7wKYFGuKizuYsbiVuQAkxfntAU8DSIC79AFU12IugViQ\n",
       "FMP6ryfBAuYwGYbFDAlsG0BSPP+dwQLFDAgpGT4/kNRcs/9gFxYgSXFMmAZy4QGG+XpAPqOKi4uL\n",
       "G1SKYR0XUIrpAQPzTyCfLwFJF8MrPqCB74HsFSABB2QpxgCgSiYDBoZkkEAoXCoRiAOBUtx1DBwB\n",
       "IAF2eHBVgtwNcpXUGUjw8i3bB5ER/wTUgRp43NegAQUFAMfDPNxHXHy7AAAAAElFTkSuQmCC\n",
       "\" style=\"display:inline;vertical-align:middle;\" /></a><br>"
      ],
      "text/plain": [
       "<IPython.core.display.HTML object>"
      ]
     },
     "metadata": {},
     "output_type": "display_data"
    },
    {
     "data": {
      "text/html": [
       "<strong id=\"nat9\"><a class=\"ProveItLink\" href=\"proofs/nat9/thm_proof.ipynb\">nat9</a> (conjecture without proof):<br></strong> <a class=\"ProveItLink\" href=\"../__pv_it/theorems/a8cdf3ffbef03cef8d4748a499777f409efcd7bc0/theorem_expr.ipynb\"><img src=\"data:image/png;base64,iVBORw0KGgoAAAANSUhEUgAAADMAAAAQBAMAAABJt1qBAAAAMFBMVEX///+qqqqYmJi6urp2dnYy\n",
       "MjJERETc3NwQEBDMzMyIiIgiIiLu7u5UVFRmZmYAAAABFGnYAAAAAXRSTlMAQObYZgAAAAlwSFlz\n",
       "AAAOxAAADsQBlSsOGwAAAPVJREFUGNNjYMAAp7+lHmDw+GHAwMD37g6aXCLzBQaeDwwMPLsYZhSg\n",
       "St0ucGJgaGBg4G1gYEtAlbqYwFrAsIGBgT+AgeUPWIQre/dWMOO6FnsASOp8AgPXZ5AAc9QBqK7r\n",
       "vBOWwHR9AgmUwmQYrjMksBlsgNj1CyQQzoCQmsezByjF08ww9yNIIABJiklADOhChnNLpH4CKc7u\n",
       "3bt3b4NKMdzhbQAzwS7kSUDSxXCWZwOYCfHXBmQpzgVAMcYehvMTQAKr4FKZQLwSKMW1hyEJLMAq\n",
       "AJMKBGI+kKtc3hmABXiu2UBkpv4A6uAJQA46ZjdoQEEBADdmQ7yDxUn2AAAAAElFTkSuQmCC\n",
       "\" style=\"display:inline;vertical-align:middle;\" /></a><br>"
      ],
      "text/plain": [
       "<IPython.core.display.HTML object>"
      ]
     },
     "metadata": {},
     "output_type": "display_data"
    }
   ],
   "source": [
    "nat1, nat2, nat3, nat4, nat5, nat6, nat7, nat8, nat9 = [InSet(num(n), Natural) for n in range(1, 10)]"
   ]
  },
  {
   "cell_type": "code",
   "execution_count": 9,
   "metadata": {},
   "outputs": [
    {
     "data": {
      "text/html": [
       "<strong id=\"posnat1\"><a class=\"ProveItLink\" href=\"proofs/posnat1/thm_proof.ipynb\">posnat1</a> (conjecture without proof):<br></strong> <a class=\"ProveItLink\" href=\"../__pv_it/theorems/c0d0667c60bb40204cc4fb13c5c339d9f8e866ef0/theorem_expr.ipynb\"><img src=\"data:image/png;base64,iVBORw0KGgoAAAANSUhEUgAAAD4AAAATBAMAAAA63aOfAAAAMFBMVEX///+qqqq6urpERESYmJgQ\n",
       "EBDc3Nx2dnaIiIgyMjJmZmZUVFTu7u4iIiLMzMwAAAAz/ewvAAAAAXRSTlMAQObYZgAAAAlwSFlz\n",
       "AAAOxAAADsQBlSsOGwAAAM9JREFUKM9jYMADFjDgBwbkyPPcN57DwB4fBJPnu4OmgFlAm4HhPEz/\n",
       "6ZV/0OS5r7E7MLAycBkbBxubMDBwYMgLM0xj4IXbD5fnsL17Eyyf0pCJRZ5pxgGo/oR9HAWY8pkH\n",
       "YOYnMDMYYcpPg9ufwLfg7Fl4+MHkJyDkGRwZTeHOhcrzxd69e/cyVJ77wFZ0eR4DJP08G86iyzNc\n",
       "QJJneMGMId8BD98HQMHHcHn2bxCaU4ABibESbtrWn1sgDtisA3Ho/GAgeRIzYpmKIeGLAgCu9Tlj\n",
       "8FFYswAAAABJRU5ErkJggg==\n",
       "\" style=\"display:inline;vertical-align:middle;\" /></a><br>"
      ],
      "text/plain": [
       "<IPython.core.display.HTML object>"
      ]
     },
     "metadata": {},
     "output_type": "display_data"
    },
    {
     "data": {
      "text/html": [
       "<strong id=\"posnat2\"><a class=\"ProveItLink\" href=\"proofs/posnat2/thm_proof.ipynb\">posnat2</a> (conjecture without proof):<br></strong> <a class=\"ProveItLink\" href=\"../__pv_it/theorems/3a3a433e3041fe8436f686b82d4b6188dbb8fe7d0/theorem_expr.ipynb\"><img src=\"data:image/png;base64,iVBORw0KGgoAAAANSUhEUgAAAD4AAAATBAMAAAA63aOfAAAAMFBMVEX///+qqqqYmJiIiIgiIiLu\n",
       "7u4QEBBUVFS6urp2dnbMzMxEREQyMjJmZmbc3NwAAADzFso2AAAAAXRSTlMAQObYZgAAAAlwSFlz\n",
       "AAAOxAAADsQBlSsOGwAAAPpJREFUKM9jYMADLjDgBxvIkWf1332UgTM/AyrPd/f0AlQF3ALtDAzx\n",
       "MP2vGTh/oMqz+3EqMLAx8O7enb17E0MdA0Mamrw0wzkGFpj+/ACG+gdgceYtLj5g+UcGbxDyJQwM\n",
       "9WAHcBwOgOp/UMU8gQXJ/f5g8k0AzPwH3Aw7kOS5PoOpc3D7H3BdCAlBhB9LAZg6gJBnUGTchnDv\n",
       "bYgpKS4uLt5QefaAMrg0E0Q76wYk/awFIXB5SQY+sP8ckOQZFnPDeFwTGJjBLjeGhy/Qu8yrYbwn\n",
       "d+9eATN4BKAiYMYdmLz///9/IA6oboUYeD4bSMZgRizHbEj4ogAAs21BKpwaNLcAAAAASUVORK5C\n",
       "YII=\n",
       "\" style=\"display:inline;vertical-align:middle;\" /></a><br>"
      ],
      "text/plain": [
       "<IPython.core.display.HTML object>"
      ]
     },
     "metadata": {},
     "output_type": "display_data"
    },
    {
     "data": {
      "text/html": [
       "<strong id=\"posnat3\"><a class=\"ProveItLink\" href=\"proofs/posnat3/thm_proof.ipynb\">posnat3</a> (conjecture without proof):<br></strong> <a class=\"ProveItLink\" href=\"../__pv_it/theorems/01e7adcf3c73f740503a9eea27308b70ce5fb7fa0/theorem_expr.ipynb\"><img src=\"data:image/png;base64,iVBORw0KGgoAAAANSUhEUgAAAD8AAAATBAMAAADVH8ihAAAAMFBMVEX///9UVFTMzMwiIiKYmJgQ\n",
       "EBAyMjKIiIiqqqru7u66urpERERmZmZ2dnbc3NwAAABametFAAAAAXRSTlMAQObYZgAAAAlwSFlz\n",
       "AAAOxAAADsQBlSsOGwAAAPlJREFUKM9jYMADeBgIAG4yFUz+vW0Cw9WvC2AK3t7ZhaZiB5cAA+cH\n",
       "mAmcBxj6G1AVCD+4wsAQwHB699bdux0Y2H8wzE9AVSCxge0BgwHMBK4oBn6ogmpjYzBLzp0vAaEA\n",
       "CPodwNSySihfjlGhFlkBlwmY4suEWSHHsIF7AUIBU6EQmAbaC1egw2lpgBSSEF+wMSAUsDR0ByC5\n",
       "mvUniFQ1BoINEAUMkoxwBUwKDNw/QIzZSCYwTOQ0gPH4f0IVMCMrYCrYADdfAGoFewFMaBMQF8EV\n",
       "sDjAwiEDJgRi8CBCd80ZaGRN3DUBTKt9BermTMASz2s3G2MKAwDBGzm/Pnmx1wAAAABJRU5ErkJg\n",
       "gg==\n",
       "\" style=\"display:inline;vertical-align:middle;\" /></a><br>"
      ],
      "text/plain": [
       "<IPython.core.display.HTML object>"
      ]
     },
     "metadata": {},
     "output_type": "display_data"
    },
    {
     "data": {
      "text/html": [
       "<strong id=\"posnat4\"><a class=\"ProveItLink\" href=\"proofs/posnat4/thm_proof.ipynb\">posnat4</a> (conjecture without proof):<br></strong> <a class=\"ProveItLink\" href=\"../__pv_it/theorems/f617b96f9d58a69fe47f66dbd0369b51423a3ee40/theorem_expr.ipynb\"><img src=\"data:image/png;base64,iVBORw0KGgoAAAANSUhEUgAAAD8AAAATBAMAAADVH8ihAAAAMFBMVEX///+qqqru7u5EREQQEBC6\n",
       "urrc3Nx2dnYyMjKYmJiIiIhUVFQiIiJmZmbMzMwAAABQcPw9AAAAAXRSTlMAQObYZgAAAAlwSFlz\n",
       "AAAOxAAADsQBlSsOGwAAAOpJREFUKM9jYMADeBkIAGYyFeh8tlBgKPkSgFDwFk2FIesGBqYPSCac\n",
       "RlOwJ6GSgcGB4bKxibHxBCCfC13BRgOOBIYDCBNedkMlFp850wCit81ia0BWUABVELEIqnAb94Pl\n",
       "SAq4EiAK2JpgVmxjMGAOQCjIZIAoANoLV/CW6dABeEgWwBQwIBRwCgg7wHicCVAFT84AgQFEAcMm\n",
       "briCLAaoAmUkExi0mQ7AeNG7d3/ZDmLwICvgW2CAFDDeEN8sgPHtgHgdsoLPEKoRxgcxeBsQ8pf/\n",
       "7wLT2qYKYPrFF6BupgYs8RxucwZTGADWQz6DcuiOXQAAAABJRU5ErkJggg==\n",
       "\" style=\"display:inline;vertical-align:middle;\" /></a><br>"
      ],
      "text/plain": [
       "<IPython.core.display.HTML object>"
      ]
     },
     "metadata": {},
     "output_type": "display_data"
    },
    {
     "data": {
      "text/html": [
       "<strong id=\"posnat5\"><a class=\"ProveItLink\" href=\"proofs/posnat5/thm_proof.ipynb\">posnat5</a> (conjecture without proof):<br></strong> <a class=\"ProveItLink\" href=\"../__pv_it/theorems/314bbd9f475dfaf8900cf1189af30e0c561a58550/theorem_expr.ipynb\"><img src=\"data:image/png;base64,iVBORw0KGgoAAAANSUhEUgAAAD4AAAATBAMAAAA63aOfAAAAMFBMVEX///+qqqpmZma6urpERESI\n",
       "iIiYmJhUVFR2dnYiIiIyMjIQEBDc3Nzu7u7MzMwAAADH+sJ6AAAAAXRSTlMAQObYZgAAAAlwSFlz\n",
       "AAAOxAAADsQBlSsOGwAAAPlJREFUKM9jYMADFBjwAwci5PkYGO6gCPLOd1nLwLF/M1Se+9fKuai6\n",
       "WATMGRjuw/Rz7p9xAVWefQ5HAgM3A5OLyxYXNwZ2DFvZRRjWMHDC9CPkWT1nzgLLHws4hUWeeSnU\n",
       "HvYDdawNCPnU9gdg4VMwZ7AfYGFwhsuzXOD5DBZeA7f/AJ/CzZtI4ecJJhcg5BkSGb2RHKx/ABRO\n",
       "O2fOnDkFKs9+oRom6QWUBzmA1wFJP2/BTRhvJwNDPZgxAUme4SkLjNfAwLAFzAiFhy/QONYnMN4h\n",
       "Bta9YAaXAFQEzNCCyfMoFUE8zltiC6b51oPMu4UZ28wtkPBFAQDvRDtB0J+DKAAAAABJRU5ErkJg\n",
       "gg==\n",
       "\" style=\"display:inline;vertical-align:middle;\" /></a><br>"
      ],
      "text/plain": [
       "<IPython.core.display.HTML object>"
      ]
     },
     "metadata": {},
     "output_type": "display_data"
    },
    {
     "data": {
      "text/html": [
       "<strong id=\"posnat6\"><a class=\"ProveItLink\" href=\"proofs/posnat6/thm_proof.ipynb\">posnat6</a> (conjecture without proof):<br></strong> <a class=\"ProveItLink\" href=\"../__pv_it/theorems/33140179840d2a4bee3ae02dc55211050104ca150/theorem_expr.ipynb\"><img src=\"data:image/png;base64,iVBORw0KGgoAAAANSUhEUgAAAD8AAAATBAMAAADVH8ihAAAAMFBMVEX///+YmJhmZmYQEBDu7u6q\n",
       "qqpERESIiIgiIiJUVFS6uroyMjLc3NzMzMx2dnYAAABe+sMRAAAAAXRSTlMAQObYZgAAAAlwSFlz\n",
       "AAAOxAAADsQBlSsOGwAAAQJJREFUKM9jYMADmBgIADYyFXh8y3ZgePx5AVzBu3cXUFWkck1gYPkA\n",
       "N+H0As4GVAUzDjxkYDBgUEtLTksTYGDYzsCWgKpgagL3AYYGmAmsX+ASZR0dG0D0HHGeDQgFbAYw\n",
       "+dUlUMYczgt1CAXMe59rgYV5tsBUzmFIYFsAV8C/kYE5AMQA2gtXcImlpQEWkv4fGJhMwAoYEAoY\n",
       "A8LgNvs3MDD+AjEudwBBAkQBwxROuAL+DQyMH0EMNyQTGDxZ4GHDBjOBA1kBbwE8bFiBbgAbx14A\n",
       "E8oF4lpE4OUxOIN9wbAVJgJiMG2AK+BTmgtheGY5gOnbn4G6WTZgied1GR2YwgBMUUF1q5Wn4wAA\n",
       "AABJRU5ErkJggg==\n",
       "\" style=\"display:inline;vertical-align:middle;\" /></a><br>"
      ],
      "text/plain": [
       "<IPython.core.display.HTML object>"
      ]
     },
     "metadata": {},
     "output_type": "display_data"
    },
    {
     "data": {
      "text/html": [
       "<strong id=\"posnat7\"><a class=\"ProveItLink\" href=\"proofs/posnat7/thm_proof.ipynb\">posnat7</a> (conjecture without proof):<br></strong> <a class=\"ProveItLink\" href=\"../__pv_it/theorems/4d38e67dca889f414c12678ff3d84cf315a51b320/theorem_expr.ipynb\"><img src=\"data:image/png;base64,iVBORw0KGgoAAAANSUhEUgAAAD4AAAATBAMAAAA63aOfAAAAMFBMVEX///+IiIgyMjK6urrMzMxU\n",
       "VFQiIiJmZmZERER2dnYQEBCqqqru7u6YmJjc3NwAAAATNysKAAAAAXRSTlMAQObYZgAAAAlwSFlz\n",
       "AAAOxAAADsQBlSsOGwAAAPRJREFUKM9jYMADChjwgwYi5N8eQBPkye/QYeBcvxgqv/////8LUBRw\n",
       "bDBlYDgP0z+jvLxsA4o8ax7nBQYuBvaOjhUdvQwTGBieo1rAuoNBj4ENph+oNwAiztiWlgSWfyvw\n",
       "CCHPwMDpAKaYFaEuZX0QwjgBSf4FRPgRzCOsDzgYmpHkgyHCenD7H7AUHDsGDz8+qO8UEPIMt7m7\n",
       "4M7lhEiwLEtLS8uAyrMeiILLs0Fs4WlA0s8TcAwufx7qvQQkeQZHDri8PTQWBeHhC/Qvowdcfv8E\n",
       "CM0EC2Uwowgu/woqzhNhA3Go/gogeQgztplnQMIXBQAA3S8+FIQ1IIYAAAAASUVORK5CYII=\n",
       "\" style=\"display:inline;vertical-align:middle;\" /></a><br>"
      ],
      "text/plain": [
       "<IPython.core.display.HTML object>"
      ]
     },
     "metadata": {},
     "output_type": "display_data"
    },
    {
     "data": {
      "text/html": [
       "<strong id=\"posnat8\"><a class=\"ProveItLink\" href=\"proofs/posnat8/thm_proof.ipynb\">posnat8</a> (conjecture without proof):<br></strong> <a class=\"ProveItLink\" href=\"../__pv_it/theorems/2334cee5bf95bafb14d9b42fee870c0eab4b50810/theorem_expr.ipynb\"><img src=\"data:image/png;base64,iVBORw0KGgoAAAANSUhEUgAAAD8AAAATBAMAAADVH8ihAAAAMFBMVEX////MzMwQEBDc3NwiIiKI\n",
       "iIhEREQyMjKYmJiqqqpUVFS6urpmZmZ2dnbu7u4AAAABvK+SAAAAAXRSTlMAQObYZgAAAAlwSFlz\n",
       "AAAOxAAADsQBlSsOGwAAAQNJREFUKM9jYMADeBgIADYyFTz5lv6A4dKnDTAFb++eRlORyb2Age8D\n",
       "3IQDDFwTUBUsMbjBwKDAcCwtKS2tgYGjgYGvAFXBygR2AwYHmAm8C+AKwlxcwKzFrcwFCAWc3x7w\n",
       "NIDlt8dBTVjMJRCLUMCw/utJMM1cB7NiMUMC2waEAp7/zmAaaC9cgQyfnwM8JOea/Qf7gp0BoYBj\n",
       "wjQFGI/jAMN8PRBDyAUIEiAKGNZxwRUwPWBg/gliPEMygeEVnwOM9x6IV4AYLMgKGAMS4CYA3ZYM\n",
       "YrAGwIQSgTgQroC7joEDIlUJEwIxeBChK3UGGlmvsh+AafFPQN3owQ8Ge1NcMIUBfSNAZwgSD3wA\n",
       "AAAASUVORK5CYII=\n",
       "\" style=\"display:inline;vertical-align:middle;\" /></a><br>"
      ],
      "text/plain": [
       "<IPython.core.display.HTML object>"
      ]
     },
     "metadata": {},
     "output_type": "display_data"
    },
    {
     "data": {
      "text/html": [
       "<strong id=\"posnat9\"><a class=\"ProveItLink\" href=\"proofs/posnat9/thm_proof.ipynb\">posnat9</a> (conjecture without proof):<br></strong> <a class=\"ProveItLink\" href=\"../__pv_it/theorems/03cde5c9ff9e98905b977ddaadcdfab939ce8b070/theorem_expr.ipynb\"><img src=\"data:image/png;base64,iVBORw0KGgoAAAANSUhEUgAAAD8AAAATBAMAAADVH8ihAAAAMFBMVEX///+qqqqYmJi6urp2dnYy\n",
       "MjJERETc3NwQEBDMzMyIiIgiIiLu7u5UVFRmZmYAAAABFGnYAAAAAXRSTlMAQObYZgAAAAlwSFlz\n",
       "AAAOxAAADsQBlSsOGwAAAQNJREFUKM9jYMAD+BgIADYyFZz+lnqAweOHAUwB37s7aCoSmS8w8HyA\n",
       "mcCzi2FGAaqC2wVODAwNDM/SMtLSFBh4GxjYElAVXExgLWDYADOBP4CB5Q9EYtnu3QEg+roWewBC\n",
       "wfkEBq7PYHnTNVATrvNOWIJqwicQgz0GZsV1hgQ2A7gCkBt+gRisBQgF83j2bICFJE8zw9yPYAUM\n",
       "CAVMAmINcO65JVI/QfSM3UCQAFHAcIe3AclbEF8cQzKB4SzPBuQgB+vjRlbAuQAeNow9DOcngBhc\n",
       "C2BCmUC8Eq6Aaw9DEoQVCBMCMfgC4Aa6vDOAMM4mHwDTU38AdfMEYIlnk+zdmMIAHpZHEZ00KoYA\n",
       "AAAASUVORK5CYII=\n",
       "\" style=\"display:inline;vertical-align:middle;\" /></a><br>"
      ],
      "text/plain": [
       "<IPython.core.display.HTML object>"
      ]
     },
     "metadata": {},
     "output_type": "display_data"
    }
   ],
   "source": [
    "posnat1, posnat2, posnat3, posnat4, posnat5, posnat6, posnat7, posnat8, posnat9 = [InSet(num(n), NaturalPos) for n in range(1, 10)]"
   ]
  },
  {
   "cell_type": "code",
   "execution_count": 10,
   "metadata": {},
   "outputs": [
    {
     "data": {
      "text/html": [
       "<strong id=\"digit0\"><a class=\"ProveItLink\" href=\"proofs/digit0/thm_proof.ipynb\">digit0</a> (conjecture without proof):<br></strong> <a class=\"ProveItLink\" href=\"../__pv_it/theorems/8f11feba57259d9f0c7790eb53a8b4723735921e0/theorem_expr.ipynb\"><img src=\"data:image/png;base64,iVBORw0KGgoAAAANSUhEUgAAAEgAAAAUBAMAAADcj2b4AAAAMFBMVEX///8QEBC6urrMzMxUVFRE\n",
       "RESYmJgiIiLu7u6qqqoyMjLc3NxmZmaIiIh2dnYAAABcDckaAAAAAXRSTlMAQObYZgAAAAlwSFlz\n",
       "AAAOxAAADsQBlSsOGwAAAVtJREFUKM+Fkj9Iw0AUxj/vmnBJa5vNtaNjHFzEIaCiEoeAiH8G6aKb\n",
       "kEWiThHEIgjt0j1rESGzS91dCuJoiYhuBStYLKJ4l7Sa2BIfXO7dux/fffdyQGrUfLRa+IdpIhMo\n",
       "RiqzUwIKOntPY+6q/NPw8Tpir/y25eKhU5wSDMaKtAvk2zd/qE1igL1A2Xb5gmyc9oA6yn4SWvSf\n",
       "AY3vh9SZ/gHZRt5KQsuW6sPmCV3xQV1iQzKgRPbH152jMDH3sl4IITvvSiVVR+EatCcK5NLtK5kZ\n",
       "vRVByILsPgIVDnXF+mrAwIQlFe24gUYA+imSC/xCs+xgCPoSiReD5GpNw/Qaj+jilQBEKNEJx3H2\n",
       "+xCWMlpciRtXhHFmxZRwwhLHSRbksAV2HKLNRO9kDbnQzv1PaZWP22SDD3Gsi1mtDip1PnJeAjpv\n",
       "z4UzW5iMCjMdrsK80c+HPPV/y1B8A8SBVvXiv7c/AAAAAElFTkSuQmCC\n",
       "\" style=\"display:inline;vertical-align:middle;\" /></a><br>"
      ],
      "text/plain": [
       "<IPython.core.display.HTML object>"
      ]
     },
     "metadata": {},
     "output_type": "display_data"
    },
    {
     "data": {
      "text/html": [
       "<strong id=\"digit1\"><a class=\"ProveItLink\" href=\"proofs/digit1/thm_proof.ipynb\">digit1</a> (conjecture without proof):<br></strong> <a class=\"ProveItLink\" href=\"../__pv_it/theorems/271244a3e5b585723ef55be00a0825f47b12167d0/theorem_expr.ipynb\"><img src=\"data:image/png;base64,iVBORw0KGgoAAAANSUhEUgAAAEcAAAAUBAMAAAAthD11AAAAMFBMVEX///+qqqq6urpERESYmJgQ\n",
       "EBDc3Nx2dnaIiIgyMjJmZmZUVFTu7u4iIiLMzMwAAAAz/ewvAAAAAXRSTlMAQObYZgAAAAlwSFlz\n",
       "AAAOxAAADsQBlSsOGwAAAR9JREFUKM9jYMAHGM0YOCoKGPCrsWBg2M4gjVcNiwmQ+Mdw/gAeNRyG\n",
       "QILtGwO/AqYcz33jOQzs8UF8gWBuEMN7BwYGvjtoqpgFtBkYzjMwCNeAeMpn/AUYTq/8g6aI+xq7\n",
       "AwMrSB6kikeOPwFoNYYiYYZpDLwg1utlDAxvGHQZkBQ13707AawopSETooghew+DCcM8JEWaPTCT\n",
       "EvZxFEAUMSQwqLg/QChimwO3LoGZwYgXLTggijgTEIr4Fpw9i10RwuEJDI6Mpgx8xkBghqro6V0g\n",
       "MIAq4j6wFatJh5FN4tmA3TpeZEUML5ixKuJogEcL0M8cj1EVsX+D0BNhApwCQGIlaiRs/bkFzDht\n",
       "BEk3fPODgeRJHOlH3RYSLZgAAEuQSIHr0N7yAAAAAElFTkSuQmCC\n",
       "\" style=\"display:inline;vertical-align:middle;\" /></a><br>"
      ],
      "text/plain": [
       "<IPython.core.display.HTML object>"
      ]
     },
     "metadata": {},
     "output_type": "display_data"
    },
    {
     "data": {
      "text/html": [
       "<strong id=\"digit2\"><a class=\"ProveItLink\" href=\"proofs/digit2/thm_proof.ipynb\">digit2</a> (conjecture without proof):<br></strong> <a class=\"ProveItLink\" href=\"../__pv_it/theorems/b368719aa678ad15196efb520fc214ed0de555d60/theorem_expr.ipynb\"><img src=\"data:image/png;base64,iVBORw0KGgoAAAANSUhEUgAAAEcAAAAUBAMAAAAthD11AAAAMFBMVEX///+qqqqYmJiIiIgiIiLu\n",
       "7u4QEBBUVFS6urp2dnbMzMxEREQyMjJmZmbc3NwAAADzFso2AAAAAXRSTlMAQObYZgAAAAlwSFlz\n",
       "AAAOxAAADsQBlSsOGwAAAUxJREFUKM9jYMAHGPcxME+ewIBfzWYGhkoGcbxqmDYBiV8M8QF41DBv\n",
       "BBJ8/xj4GzDlWP13H2XgzM/gSgRzMxjWKzDw3T29AFUVt0A7A0M8A4P0VBCvO1RfgOE1A+cPVEXs\n",
       "fpwKDGwgeZAqVin+Bwx1DAxpaIqkGc4xsIBYy+8xMCxlaGFgyA9gqH8AlrR2cTkAVvTI4A1EEcPz\n",
       "UoZNDKcYGEoYGOrBjuoxhZn0oIp5AkQRwwOGJk2Ik/1BBN9RuHUPuBl2sKD5mesziOR5gFDEdSEk\n",
       "BE0RSwFYEcLhDxgUGbcxcO0Ggn0wwdtgcpkLEGyAKmIPKEOLIbBBDNHIJrEWoFknycAHcg4LsiKG\n",
       "xdyozp7AwAyKZmYDeLQA/cy8GkXRk7t3r4AZB2EiPAJA4g6KIv////+AGeE7IOmG63w2kIzBkX46\n",
       "t0CiBRMAAHsSUMO/aGrOAAAAAElFTkSuQmCC\n",
       "\" style=\"display:inline;vertical-align:middle;\" /></a><br>"
      ],
      "text/plain": [
       "<IPython.core.display.HTML object>"
      ]
     },
     "metadata": {},
     "output_type": "display_data"
    },
    {
     "data": {
      "text/html": [
       "<strong id=\"digit3\"><a class=\"ProveItLink\" href=\"proofs/digit3/thm_proof.ipynb\">digit3</a> (conjecture without proof):<br></strong> <a class=\"ProveItLink\" href=\"../__pv_it/theorems/f0cd5465ce656d06a9aae1b4dd864915c21f23570/theorem_expr.ipynb\"><img src=\"data:image/png;base64,iVBORw0KGgoAAAANSUhEUgAAAEgAAAAUBAMAAADcj2b4AAAAMFBMVEX///9UVFTMzMwiIiKYmJgQ\n",
       "EBAyMjKIiIiqqqru7u66urpERERmZmZ2dnbc3NwAAABametFAAAAAXRSTlMAQObYZgAAAAlwSFlz\n",
       "AAAOxAAADsQBlSsOGwAAAU5JREFUKM9jYMALuh8w1NYyEFBTwMB4gUMArxpvBwYGfgXOn/jUVDcA\n",
       "ifcPGH5hkZv8e9sEhqtfF6iC1DCwLmD6wsDw9s4uNFU7uAQYOD8wcOydAORw7Zzyg4HzAEN/A6oi\n",
       "4QdXGBgCgPJgVTMU/jGw/2CYn4CqSGID2wMGAyCDSeYBA9MELgMGrigGfogi9s3GZmCGnDtfAlgR\n",
       "A5/gBG4HNgUQs98BRHKlT4CaJMeoUAtRxMDHwOVyCSxrAuY/g6lhkGPYwL3AAMUFTIVCYDqPAaFI\n",
       "h9PSAM3LEN8lICliaegOYNDeDQQPYIKsoHBnCjY2NraGKmKQZAxAsU2BgfsHkObcgGQSw0ROFOv4\n",
       "f0IUMRggK2Iq2ICsiFUAYh1DOVxoExAXoShicYCGExs8cjKAmAc1FtacgUQwp/RKiIDaV6ApnAnY\n",
       "kw/XbWi0YAAAp2RPCt2H17IAAAAASUVORK5CYII=\n",
       "\" style=\"display:inline;vertical-align:middle;\" /></a><br>"
      ],
      "text/plain": [
       "<IPython.core.display.HTML object>"
      ]
     },
     "metadata": {},
     "output_type": "display_data"
    },
    {
     "data": {
      "text/html": [
       "<strong id=\"digit4\"><a class=\"ProveItLink\" href=\"proofs/digit4/thm_proof.ipynb\">digit4</a> (conjecture without proof):<br></strong> <a class=\"ProveItLink\" href=\"../__pv_it/theorems/b5173cca4fdacf22d5d5189b97441ce2b55d5c450/theorem_expr.ipynb\"><img src=\"data:image/png;base64,iVBORw0KGgoAAAANSUhEUgAAAEgAAAAUBAMAAADcj2b4AAAAMFBMVEX///+qqqru7u5EREQQEBC6\n",
       "urrc3Nx2dnYyMjKYmJiIiIhUVFQiIiJmZmbMzMwAAABQcPw9AAAAAXRSTlMAQObYZgAAAAlwSFlz\n",
       "AAAOxAAADsQBlSsOGwAAAUBJREFUKM9jYMALhBMYli9nIKBmAQN3AeMGvGomT2Bg4H/A9AmfmsUC\n",
       "QCI/geErFjmdzxYKDCVfAp6A1DCwBPD9BNFv0VQZsm5gYPrAwGiuAOSwGml+BAmeRlO0J6GSgcEB\n",
       "KA9WpfjgG5DkQle00YAjgeEAkMG3N4GBT4EVxHzZDZHjsjlzAszYNoutAayIgW23AvMEjgdAVgFE\n",
       "EWuXAtSkbdwPlkMUMbAxsM6sAxmQAFGUAVPDsI3BgDngAIoLMhkgitoYEIreMh1CVVQAVdSApIhT\n",
       "QNiB4bExECSARTgTIIr4fM6cOXMYqohhE7cDskFZDBBFTAZIJjFoM6FYF71795ftIMYBZEV8CwzQ\n",
       "As8bTK6C8+2AeB26os9gkkMAxm8EYt4GVDWX/+8CO2pzEIT/4gvQFKYG7MmHtRgaLRgAAHDrUumI\n",
       "DaDJAAAAAElFTkSuQmCC\n",
       "\" style=\"display:inline;vertical-align:middle;\" /></a><br>"
      ],
      "text/plain": [
       "<IPython.core.display.HTML object>"
      ]
     },
     "metadata": {},
     "output_type": "display_data"
    },
    {
     "data": {
      "text/html": [
       "<strong id=\"digit5\"><a class=\"ProveItLink\" href=\"proofs/digit5/thm_proof.ipynb\">digit5</a> (conjecture without proof):<br></strong> <a class=\"ProveItLink\" href=\"../__pv_it/theorems/5c03f669b2f2a31a0619f030a796caacffe626cb0/theorem_expr.ipynb\"><img src=\"data:image/png;base64,iVBORw0KGgoAAAANSUhEUgAAAEcAAAAUBAMAAAAthD11AAAAMFBMVEX///+qqqpmZma6urpERESI\n",
       "iIiYmJhUVFR2dnYiIiIyMjIQEBDc3Nzu7u7MzMwAAADH+sJ6AAAAAXRSTlMAQObYZgAAAAlwSFlz\n",
       "AAAOxAAADsQBlSsOGwAAAURJREFUKM9jYMAHGH0YWFsbGPCrcWVgqGAQx6uGzQ1I/GO4fwGPGlZH\n",
       "IMHzh4HfgIGPgeEOihzvfJe1DBz7N/NtBHM3M7xPYOD+tXIuqgksAuYMDPcZGER6QTyTu/kCDJz7\n",
       "Z6DZyT6HA6gXJA9SxSvHf4CBHcMt7CIMaxg4QaznOgwMbxksGZAUhcycuQCs6FjAKYgihuO1DG4M\n",
       "65AUWcXCTDpQx9oAUcRwgMEs4wFQKLX9AYjLsxZu3QEWBmdOVL9c4PkMorkOIBTxKdy8ie5ST7Ai\n",
       "hMMPMCQyejPwuQCBD1xUH2TI65lA4ABVxH6hGsUYL6AikKOuIJvEW4Bq3U4GhnoQzYmsiOEpC4oi\n",
       "YGrZAo7OALhXgAazPkFRdIiBdS+YsRAmwiUAJLRQFPEoFUHi7rozhOZbDzL5Fo70Y+EJiRZMAABp\n",
       "e004X+6GwAAAAABJRU5ErkJggg==\n",
       "\" style=\"display:inline;vertical-align:middle;\" /></a><br>"
      ],
      "text/plain": [
       "<IPython.core.display.HTML object>"
      ]
     },
     "metadata": {},
     "output_type": "display_data"
    },
    {
     "data": {
      "text/html": [
       "<strong id=\"digit6\"><a class=\"ProveItLink\" href=\"proofs/digit6/thm_proof.ipynb\">digit6</a> (conjecture without proof):<br></strong> <a class=\"ProveItLink\" href=\"../__pv_it/theorems/1556f6d607386243e96fc2397c748220896ed1d70/theorem_expr.ipynb\"><img src=\"data:image/png;base64,iVBORw0KGgoAAAANSUhEUgAAAEgAAAAUBAMAAADcj2b4AAAAMFBMVEX///+YmJhmZmYQEBDu7u6q\n",
       "qqpERESIiIgiIiJUVFS6uroyMjLc3NzMzMx2dnYAAABe+sMRAAAAAXRSTlMAQObYZgAAAAlwSFlz\n",
       "AAAOxAAADsQBlSsOGwAAAVRJREFUKM9jYMALwg4w1NUxEFBTwMD5gHUCXjViAgwM/BdYvuBTUxYA\n",
       "JM4fYPiFRc7jW7YDw+PPCy6D1DAwL+D9CKTevbuAqiqVawIDywcG1jwHIIcrxfErA8PpBZwNqIpm\n",
       "HHjIwGAAlAercr3wh4FhOwNbAqqiqQncBxhAGnknHWDgdeBqYGCFu509o6MbzJgjzrMBrIiBZ6YD\n",
       "mwD3BQY2A6garu0OUNYczgt1EEUMPAxcgm+Brt/7XAvMPw1TwzCHIYFtAYo7+TcyMIP9uocBoegS\n",
       "SwuKIv8PDEwmIMYGJEWMAWEGDNfSgOAARFEDAyMoSHktOjo62qCKGKZwGqBYt4GBERSkLAlIJjF4\n",
       "sqBYxwY1iaEBWRFvAUrYsQLdBDa6HC6UC8S1qAGcx+AM9h13AExkKxAzbUBRxKc0F0yzTFsCEbj9\n",
       "GWgKywbsyYfrGTRaMAAABGZYpXoDBQcAAAAASUVORK5CYII=\n",
       "\" style=\"display:inline;vertical-align:middle;\" /></a><br>"
      ],
      "text/plain": [
       "<IPython.core.display.HTML object>"
      ]
     },
     "metadata": {},
     "output_type": "display_data"
    },
    {
     "data": {
      "text/html": [
       "<strong id=\"digit7\"><a class=\"ProveItLink\" href=\"proofs/digit7/thm_proof.ipynb\">digit7</a> (conjecture without proof):<br></strong> <a class=\"ProveItLink\" href=\"../__pv_it/theorems/d3c9a6c611d79db3ad75e310a5351c0c8d4ecd5b0/theorem_expr.ipynb\"><img src=\"data:image/png;base64,iVBORw0KGgoAAAANSUhEUgAAAEcAAAAUBAMAAAAthD11AAAAMFBMVEX///+IiIgyMjK6urrMzMxU\n",
       "VFQiIiJmZmZERER2dnYQEBCqqqru7u6YmJjc3NwAAAATNysKAAAAAXRSTlMAQObYZgAAAAlwSFlz\n",
       "AAAOxAAADsQBlSsOGwAAAUNJREFUKM9jYMAHuPsYGCdOYMCvppGBIZJhK141vL1A4gvD+QN41DB2\n",
       "Awm+fwz8Bgxv0dXx5HfoMHCuX8yyGsxdzOB/gWH/////F6Co4thgysBwnoFhxxwQz+LM/Q0MM8rL\n",
       "yzagKGLN47zAwAWSB6ni2cL/gAHoweeo9rHuYNBjYAOxXOsYGHwYzBgYgKYEQCQl0tIUwIreCjyC\n",
       "KGJ4GsPQy6ACYnE6gAWMZGAmPQhhnABRxPCAwfYmWPoFmMunA7fuAQdDMxuan4PBJNMDhCKWgmPH\n",
       "UNXwQQKACeHwBwy3ubsYWDqAoA8qxgl2LYNXGhA0QBWxHohCNYkNLMNwAtkkngA0685DQoANWRGD\n",
       "IweqIvsCSHQKwKMF6GdGD1RF+6GJShsmwASKpSJURa+gMXe0GZIeWPRXAMlDONKPZRskWjABAEnb\n",
       "TrOZKCo/AAAAAElFTkSuQmCC\n",
       "\" style=\"display:inline;vertical-align:middle;\" /></a><br>"
      ],
      "text/plain": [
       "<IPython.core.display.HTML object>"
      ]
     },
     "metadata": {},
     "output_type": "display_data"
    },
    {
     "data": {
      "text/html": [
       "<strong id=\"digit8\"><a class=\"ProveItLink\" href=\"proofs/digit8/thm_proof.ipynb\">digit8</a> (conjecture without proof):<br></strong> <a class=\"ProveItLink\" href=\"../__pv_it/theorems/bddb90d36c019171de004dede3dd3b607151da960/theorem_expr.ipynb\"><img src=\"data:image/png;base64,iVBORw0KGgoAAAANSUhEUgAAAEgAAAAUBAMAAADcj2b4AAAAMFBMVEX////MzMwQEBDc3NwiIiKI\n",
       "iIhEREQyMjKYmJiqqqpUVFS6urpmZmZ2dnbu7u4AAAABvK+SAAAAAXRSTlMAQObYZgAAAAlwSFlz\n",
       "AAAOxAAADsQBlSsOGwAAAVlJREFUKM9jYMALphkwxMYyEFATwMB1gXMBXjVtDQwM/AJ8//CpCZsA\n",
       "JOwNGH5jkXvyLf0Bw6VPG4RAahiYNjD+YGB4e/c0mqpM7gUMfB8YOHMfADnceS9+MjAcYOCagKpo\n",
       "icENBgYFoDxY1UuBzwwcDQx8BaiKViawGzA4ABmMawwYGB9wOzDwLoApYk1xcQczFrcyF4AVMTCv\n",
       "esDWwC7AwPntAU8DSIC79AHUpMVcArEQRQzMDNwdF4H0+q8nwXxzmBqGxQwJbBscUFzA898ZTBcz\n",
       "IBTJ8PmhKppr9h/suwIkRRwTpikwiKUBgQFYhOMAw3w9kE9UXFxc3KCKGNZxKSAbxPSAgRkYWgx8\n",
       "CUgmMbziQ7HuPRCvADEckBUxBiSgmAS0NRnECIULJQJxIIoi7joGjgAQgx0eOZUgP6PGgtQZSATz\n",
       "LdsHERD/BDQFPargZl6DRgsGAACkklX/HMHmdAAAAABJRU5ErkJggg==\n",
       "\" style=\"display:inline;vertical-align:middle;\" /></a><br>"
      ],
      "text/plain": [
       "<IPython.core.display.HTML object>"
      ]
     },
     "metadata": {},
     "output_type": "display_data"
    },
    {
     "data": {
      "text/html": [
       "<strong id=\"digit9\"><a class=\"ProveItLink\" href=\"proofs/digit9/thm_proof.ipynb\">digit9</a> (conjecture without proof):<br></strong> <a class=\"ProveItLink\" href=\"../__pv_it/theorems/8dcd486b33b0169f35cc119a1b3301cd991e28e40/theorem_expr.ipynb\"><img src=\"data:image/png;base64,iVBORw0KGgoAAAANSUhEUgAAAEgAAAAUBAMAAADcj2b4AAAAMFBMVEX///+qqqqYmJi6urp2dnYy\n",
       "MjJERETc3NwQEBDMzMyIiIgiIiLu7u5UVFRmZmYAAAABFGnYAAAAAXRSTlMAQObYZgAAAAlwSFlz\n",
       "AAAOxAAADsQBlSsOGwAAAVZJREFUKM9jYMALxAoYlixhIKBmAQOvA+MFvGrUFBgY+Cfw/MGnZpkA\n",
       "kKgvYPiMRe70t9QDDB4/DGaA1DBwGHB+YmDge3cHTVUi8wUGng8MjCkHgBzmnEMfGXh2McwoQFV0\n",
       "u8CJgaEBKA9WdXDCdwbeBga2BFRFFxNYCxg2ABmc9woYOA8wb2DgD2BggTifK3v3VjDjuhZ7AFgR\n",
       "A/vdA2wKrBMYzicwcIGdzxx1AGrSdd4JSyCKGNgZmJU8GcAmfQLxS2FqGK4zJLAZbEB2AMhNv0CM\n",
       "cAaEonk8e1AU8TQzzP0IYgQgKWISEGtgmJYGBFCPn1si9RPkk+7du3dvgypiuAO0ABWAfceTgGQS\n",
       "w1meDWiKIOG0AVkR5wKUsGPsYTg/AcRYBRfKBOKVKIq49jAkgRmsAjChQCDmC0CxzOWdAcSb12wg\n",
       "AlN/AE3hCcCefJjdoNGCAQDeN1y5jKopdQAAAABJRU5ErkJggg==\n",
       "\" style=\"display:inline;vertical-align:middle;\" /></a><br>"
      ],
      "text/plain": [
       "<IPython.core.display.HTML object>"
      ]
     },
     "metadata": {},
     "output_type": "display_data"
    }
   ],
   "source": [
    "digit0, digit1, digit2, digit3, digit4, digit5, digit6, digit7, digit8, digit9 = [InSet(num(n), Digits) for n in range(0, 10)] "
   ]
  },
  {
   "cell_type": "code",
   "execution_count": 11,
   "metadata": {},
   "outputs": [
    {
     "data": {
      "text/html": [
       "<strong id=\"N_leq_9_enumSet\"><a class=\"ProveItLink\" href=\"proofs/N_leq_9_enumSet/thm_proof.ipynb\">N_leq_9_enumSet</a> (conjecture without proof):<br></strong> <a class=\"ProveItLink\" href=\"../__pv_it/theorems/2d84bf844e651596ef4c0343d7a22632eb89c1360/theorem_expr.ipynb\"><img src=\"data:image/png;base64,iVBORw0KGgoAAAANSUhEUgAAAQ8AAAAYBAMAAAAWpWWaAAAAMFBMVEX///9mZmbMzMyIiIiYmJjc\n",
       "3NxUVFSqqqq6uroQEBB2dnYyMjJEREQiIiLu7u4AAAAPqInnAAAAAXRSTlMAQObYZgAAAAlwSFlz\n",
       "AAAOxAAADsQBlSsOGwAAA+dJREFUSMfFll9oFEccx7/Z+7Pn5rLJgRXE2J5VBK0PZ9+8Cl4xj0I3\n",
       "VAqCkvgvsYp6IH0pwbsnUaT1HtraIphVW8HQlntqA/qwiFj8Fw8ExQfjBosiIic2ojHG7cz8ZiZh\n",
       "L15OQTJwu9+b+f1mPvv7/WZ2gSmtz0E2i9lvfRnEXbN71jnW5YDWtP16tjlW59mly8GLmhH74Ptd\n",
       "OfYNvz5+dcXHmbHiMs6BOUVjtMbws+/fYfY0bCfUtd5/g+3SIX79J9EN+wnMy9wsMfTv87CZyZNl\n",
       "nfpA/jWG1YOkzqWlGmgvKutF8t5/9o5c1xo4SaIQBEGJYjxwQjo0pfaw60Uudzu/Amw8IUgepJ+F\n",
       "QawKu/yNx/SA9xeoItoIS6ZxBKbGvynvtyf+lJSD2E3q91RqYZ6WB3qJ6AaWsXn/4LrXa3bA1zI2\n",
       "OzD8RGU6kGgFlkd/IwpkO/ALqTV5e1x2RhSI3nzNGVwl5QKdpDqAR0LES0h6EmT72lhZgCDW4ydz\n",
       "zenpQJLdlKGpIP0+9lKUDhWhQJb8FQYp6MrI697TCqS1DOu1AomnswSCGBIdJzEdSGsbjOchEBbw\n",
       "vYraVCXu1oBcmjqVtC8MYa4QVQ+RFwoEXrJYqVP/HKTKQEZDIKzdVeK7nBx0FMi27BYSx5av1JW8\n",
       "Ud7jwcq8jsioBllkD4dBFt7hjfLdVGbniwvjvxoQ1YXFPfJR10OBDKGL1h/P4ahy2KHERxOOrhE2\n",
       "ySoCieb7SlhxlTVnuohsyBHIyxqQFh1/tWtcDcLqSjydHQDzZZnESsr8t+vkYP+MpUx15an498RL\n",
       "b87MV4M8ly4StRFpn7TqF2tFnSkgTeIgsCeAL2RurLIc+hzmGMGNZPc9ZUa78gLkvl2nRox2XxSr\n",
       "GS5WRFVAPgaui5x/CQWSLKPpKaWGgcgKapEnAI7LIAg6Np81SBExMl6dGmFbl2/2aHj74lvEKJeB\n",
       "L0EO9PSM7RRdcyqIPxHq2mREqpKcHeSI51QGPbnFz7Pfp94MuyZa4jXrKxBbhMpFxBfqJ54am6yZ\n",
       "5mYWY/GEKrAaIQccaZOuP7L1Ha7M46iyOj8DcXjTxqgLglt4mKbj02Kpr3L7TezEJtXBz5EqzfEK\n",
       "wizWhlW+UEnXPioHC650PexjrVCRYVwAbd9Pxlg07BlBRk6xY4G/xuJfj29DC3/x3Q2CcVKJFHvp\n",
       "CYX2YKswQ+e8D8kBJ+al5eAGlj+hjM0p6TCQKkqQmZulK9nUp/V+1FGTZg06vDWIpfvcemrSrEGH\n",
       "BkEi+pC5p7/ZMvWUNmvUAQsa+5LT3xraM4J6KoO3dLB/aOyrr7P3PX+znmZF/D8dm0a8ufDOlwAA\n",
       "AABJRU5ErkJggg==\n",
       "\" style=\"display:inline;vertical-align:middle;\" /></a><br>"
      ],
      "text/plain": [
       "<IPython.core.display.HTML object>"
      ]
     },
     "metadata": {},
     "output_type": "display_data"
    }
   ],
   "source": [
    "N_leq_9_enumSet = Equals(Digits, Set(zero, one, two, three, four, five, six, seven, eight, nine))"
   ]
  },
  {
   "cell_type": "code",
   "execution_count": 12,
   "metadata": {},
   "outputs": [
    {
     "data": {
      "text/html": [
       "<strong id=\"digits_lower_bound\"><a class=\"ProveItLink\" href=\"proofs/digits_lower_bound/thm_proof.ipynb\">digits_lower_bound</a> (conjecture without proof):<br></strong> <a class=\"ProveItLink\" href=\"../__pv_it/theorems/eb1a944bc879af5773678dd651ee34bb776880700/theorem_expr.ipynb\"><img src=\"data:image/png;base64,iVBORw0KGgoAAAANSUhEUgAAAIsAAAAVBAMAAACEWwD/AAAAMFBMVEX///+IiIgiIiIQEBB2dnbu\n",
       "7u5ERETMzMzc3NwyMjK6urpmZmaYmJiqqqpUVFQAAAB6qHgnAAAAAXRSTlMAQObYZgAAAAlwSFlz\n",
       "AAAOxAAADsQBlSsOGwAAAkhJREFUOMudlE1o02AYx/9rkyXNki6KDMdkSA/OIYKIMPAUZA7xixcV\n",
       "YeDnYUUGjsyroHG6HRTcLhMPHqrz4skeKlO7Q+xuihpBKBNZ62HisYfJRC8+b7e8Sdu1EV94yfO8\n",
       "H788H/8E+Mfh/NdW/Wjzmu89plnmxtdIzOcm64M9Dtpc4DV3HkZR5JmQM+wKM+HJu4FZ4AY56qUo\n",
       "TIcbZh4yfbMADAHviMcAyYvCxGvdrYc3jDGgxBBn0Ok9icjSLNX5hQ3OH+CmhwQx9qdSByIxOd6Q\n",
       "lTtdIpull9X0OMaFRH2aB0Y2vcpC9iOa1pgp/xIrz1Z4UVcJY0KnBtyHWt6M8sFWjh/xnb2AltkF\n",
       "dS3AjPgYC8Y+oJ1JmdBtdc9RLJYhH7OprsP+6kFKQP4N46dI6kc1KcI8N6FUAMMMKjz+fRTLEutg\n",
       "ao4UfhGdLMDAqCDpy6fwQpS45EGjaDDzRqhjnivazEqY4AFKXskJkuKMTpfVNjwNfGQwdpJ5gkSo\n",
       "L4z3ADv4TvHLLYkqwzl3T/svuMy1Y5FGrFr5LQKv6DaX722q8Lk5N+7IVTEXpfNP6bHsUtW2+MdP\n",
       "0py20a3btR9DzJMHKAsOT9LWZDfVQatuF5Ht4s/rGX2bOH+N5hPgwvv6by3XS7djokffMAf9QTp9\n",
       "lTBnGlUds1uJc0JYA8grirUejfYJ9/L5fFgGerYVZkGopYK+4rqa3wK9jSevhOxTKT76AqmJH4RW\n",
       "BhViikJX+h0kGzFnWwTTXvcXlYfSo02OqmZzzHbgL862i2em5z7CAAAAAElFTkSuQmCC\n",
       "\" style=\"display:inline;vertical-align:middle;\" /></a><br>"
      ],
      "text/plain": [
       "<IPython.core.display.HTML object>"
      ]
     },
     "metadata": {},
     "output_type": "display_data"
    }
   ],
   "source": [
    "digits_lower_bound = Forall(n, greater_eq(n, zero), domain=Digits)"
   ]
  },
  {
   "cell_type": "code",
   "execution_count": 13,
   "metadata": {},
   "outputs": [
    {
     "data": {
      "text/html": [
       "<strong id=\"digits_upper_bound\"><a class=\"ProveItLink\" href=\"proofs/digits_upper_bound/thm_proof.ipynb\">digits_upper_bound</a> (conjecture without proof):<br></strong> <a class=\"ProveItLink\" href=\"../__pv_it/theorems/c1ac2150134a6bae24d62720ab75d69a075b98060/theorem_expr.ipynb\"><img src=\"data:image/png;base64,iVBORw0KGgoAAAANSUhEUgAAAIsAAAAVBAMAAACEWwD/AAAAMFBMVEX///+IiIgiIiIQEBB2dnbu\n",
       "7u5ERETMzMzc3NwyMjK6urpmZmaYmJiqqqpUVFQAAAB6qHgnAAAAAXRSTlMAQObYZgAAAAlwSFlz\n",
       "AAAOxAAADsQBlSsOGwAAAk1JREFUOMudVM9rE0EYfW12s5vNbrqKlBbFahCLVEFEUDzlJGKtDm0R\n",
       "xN8HgxTUrVdBYv1xsKC5aD0obFv/gAiFgltkxZuiRBSCIm1E9Gou/jz5fVt3N9k0WXFgMvO+mXn5\n",
       "5n1vFvjHVvivpWjrKLdem6Ze5cmHWJq3LeLOE4EOF3jM4F4ci1yMRgzvzLCp7AbuAJcJqKfiaNJu\n",
       "JKAPCB4+AXngBZAiKJXjaBJRqTZ5LPgFHBJICOj0P6lYad41wtGNf+/6HeizkSKOHdnszliaOS7I\n",
       "52vdpoeObvXjnI0Lieo0D5xZ8aiom9+nnjtvyj8ZnHgQxEmbCyZ0KsAtqNWVWF5ZyoF9PtgGaPZm\n",
       "qD8YZEKaEVv5WoaxHUgKya47rQ7sx7Mq5EGLdD3iR/eQDvJvGN88NBlcSn401GdBqZEBzFDh8S9j\n",
       "WJREWqhz5PCT6BIhDYwaMsVGiblRpTTKBsWngTvm2dFmScIEJyiVlwrhpZijyxWNBYfnG2MDjUNk\n",
       "Qn1hfC2wjsOV91ckUoZ5bo74e0+zd3JYErlG+70RMsmls32vksLHZt1EQfbMXJGOP6Rh0SXVVvk0\n",
       "B6nfttCrW8FjmOLf1SJJnkkzeYaWrveSDprn+ApK3TxesvU1wRO4SH2GSv0yUk5pkN9kZ1Cjj5iF\n",
       "fjefP0c0o82u7rTamXMimO2Coyi55Wy015h0HKfeBnqpHc1C4JYa+ivLbn4OrG/eebZuPpzl1h9a\n",
       "LfhAaFWQEDcodWVLAZlmmsNtkklGvqLy3vxYi62q2ZqmB/gDaXiEepzo22oAAAAASUVORK5CYII=\n",
       "\" style=\"display:inline;vertical-align:middle;\" /></a><br>"
      ],
      "text/plain": [
       "<IPython.core.display.HTML object>"
      ]
     },
     "metadata": {},
     "output_type": "display_data"
    }
   ],
   "source": [
    "digits_upper_bound = Forall(n, LessEq(n, nine), domain=Digits)"
   ]
  },
  {
   "cell_type": "code",
   "execution_count": 14,
   "metadata": {},
   "outputs": [
    {
     "data": {
      "text/html": [
       "<strong id=\"n_in_digits\"><a class=\"ProveItLink\" href=\"proofs/n_in_digits/thm_proof.ipynb\">n_in_digits</a> (conjecture without proof):<br></strong> <a class=\"ProveItLink\" href=\"../__pv_it/theorems/8ede500ae3a5a841f297ccb80e19534f127461e40/theorem_expr.ipynb\"><img src=\"data:image/png;base64,iVBORw0KGgoAAAANSUhEUgAAANoAAAAaBAMAAAAj219cAAAAMFBMVEX///+IiIgiIiIQEBB2dnbu\n",
       "7u5ERETMzMzc3NwyMjK6urpmZmaYmJiqqqpUVFQAAAB6qHgnAAAAAXRSTlMAQObYZgAAAAlwSFlz\n",
       "AAAOxAAADsQBlSsOGwAAA0tJREFUSMe1ll9IU3EUx79zu7t3/1ctIwqRgVT4IiEIQTCJCqLgEhUJ\n",
       "/lmRyyRhIgUR6I3IR91Lf16SkSIUUb6EUT1MigKJWi8OInRGilGGIEsRg87vd3fv3cU1B1sHtvs7\n",
       "53fu73N/53fOuRf4/zKlIBAo22qTm8D88IY8aYyVBeYpvMzbBOCLChn0l4XWVHC2Mkl/gwrW4PaX\n",
       "g3Y5n/Hk70syDi3HexgM1ri4DtQAaaZ9KQEm1eU1dznTEJbguSCT4mxv/gNUAS/Y1L0SaK5QXvNX\n",
       "5ThAD+LkuJboKtAmo5c9XrgEmi+e17wYdiiopoH4Q4EoO2noSMBBaFuyBFqfbM6KYDDGrgsTUozT\n",
       "IP2S7QlHlKIQhpsS1FFKkmw1aQ+3ZwcL3mhApUGC8/1RuloosPuDwfpSaN/pbKrONp5TF76tmRcQ\n",
       "tserTZ7ODDAOtOc//uJoEToJ+yzaFKY4FIN2Xagx08QVYABSOjeha4/hNTfYuW5rDGnNTm8eHbA0\n",
       "6pk4BDyqCGMwymkwaO7kVB2uRkiyt0prtKhs07Oqe74T0zbZJRu0CYxmm50Oo6B9w7Sm1gJyWxwz\n",
       "/J6eIElYpWHOay5FgWgev/5ArnFW6f4xGwxaA3yK2uyy4ma9Y4UVj743zPDjIzmTsze0CuZIShRJ\n",
       "xCZoiVfdu4DdzJb6fCOHJmVgTarNTvWxdDHrqlFmQ2qmrAtMqciliX5zHYtU4ThBedQ8nLAqAp9M\n",
       "2VpGDJqYQUVCbXbcRzzI5w6gT9vtPP3q4cnwR7ToAb9Ivx3hDTmJm5QTt3bCJzv5AimMVZpoVr/a\n",
       "7LgPpg4z8+jpj1pH2MZDZIm949p9bWk2cMVMNDc7Ri/LplkMw30nEuki2imHKZK+ZLbZMR8CMZyQ\n",
       "8mk5+lQGtSXhp0pv7VTP89oy7Usw01x67jfgpSiG1L05P23IEtbsuA9Zep8DV/BAu9Nq7pMj54Ox\n",
       "f1SmQwu+tIQ9KbXKJ/mrQadtwZNss1N9SAbm6J12d5N3QB7R05heRoEE+imm4j4FXuRW9zOt2XEf\n",
       "Jgoev4nqmVZXLO2DWRWORDoNzV7kIovF0vYWmiyW1lSkX+HvEoOW0+xENuwwf3MVeXCFv7mkMn1P\n",
       "akLn/xfJR9nMQwLZPgAAAABJRU5ErkJggg==\n",
       "\" style=\"display:inline;vertical-align:middle;\" /></a><br>"
      ],
      "text/plain": [
       "<IPython.core.display.HTML object>"
      ]
     },
     "metadata": {},
     "output_type": "display_data"
    }
   ],
   "source": [
    "n_in_digits = Forall(n, InSet(n, Digits), \n",
    "                     conditions=[number_ordering(LessEq(zero, n), LessEq(n, nine))], \n",
    "                     domain=Natural)"
   ]
  },
  {
   "cell_type": "markdown",
   "metadata": {},
   "source": [
    "### Sorted order of the digits"
   ]
  },
  {
   "cell_type": "code",
   "execution_count": 15,
   "metadata": {},
   "outputs": [
    {
     "data": {
      "text/html": [
       "<strong id=\"less_0_1\"><a class=\"ProveItLink\" href=\"proofs/less_0_1/thm_proof.ipynb\">less_0_1</a> (conjecture without proof):<br></strong> <a class=\"ProveItLink\" href=\"../__pv_it/theorems/5c340fa402738d4a75ade8399a9f3cb7c64c00dc0/theorem_expr.ipynb\"><img src=\"data:image/png;base64,iVBORw0KGgoAAAANSUhEUgAAADAAAAAQBAMAAACigOGCAAAAMFBMVEX///8QEBC6urrMzMxUVFRE\n",
       "RESYmJgiIiLu7u6qqqoyMjLc3NxmZmaIiIh2dnYAAABcDckaAAAAAXRSTlMAQObYZgAAAAlwSFlz\n",
       "AAAOxAAADsQBlSsOGwAAAKFJREFUGNNjYOB7e5oBHTBXAImVDO0b0MRbTv1gYGArYOALQNfBC5Rg\n",
       "dWDg/AEX4VwNl+A/wMD8EybOVtMAl+gHSnyDmVDXgDBq/wMG5r8Qbl8tsh0giX9g3p4yFMv7HzAw\n",
       "gXWwrER1FdByzp/YJFgDGNh+YDOKTYCBZwE2yxkqGRoNoPzeWqhz+X4DiZ63znAj2CAeYXH85YYW\n",
       "SGyrGQgBAIQ9M6J9mVwxAAAAAElFTkSuQmCC\n",
       "\" style=\"display:inline;vertical-align:middle;\" /></a><br>"
      ],
      "text/plain": [
       "<IPython.core.display.HTML object>"
      ]
     },
     "metadata": {},
     "output_type": "display_data"
    },
    {
     "data": {
      "text/html": [
       "<strong id=\"less_1_2\"><a class=\"ProveItLink\" href=\"proofs/less_1_2/thm_proof.ipynb\">less_1_2</a> (conjecture without proof):<br></strong> <a class=\"ProveItLink\" href=\"../__pv_it/theorems/7e25300cab16e207843760ed7f6b182ad52d73460/theorem_expr.ipynb\"><img src=\"data:image/png;base64,iVBORw0KGgoAAAANSUhEUgAAADAAAAAQBAMAAACigOGCAAAAMFBMVEX///+6urpERESqqqqYmJgQ\n",
       "EBDc3Nx2dnaIiIgyMjJmZmZUVFTu7u4iIiLMzMwAAAA9XO4HAAAAAXRSTlMAQObYZgAAAAlwSFlz\n",
       "AAAOxAAADsQBlSsOGwAAAJdJREFUGNNjYOC7w4AOslbqMTCcXvkHXZxNgaFegIGBA0OCO4GBNQBN\n",
       "wjIBSLD+YeD+hirhuwas4wID9z8Uid4aGIv3A5IET20DXMn7BoQE21oHhJm3GRASOw0Q4lwKOCS8\n",
       "GRiwGsVcwJCG1fLnDAw9DAzs32AKeXp7IHpvrVoF9MrWn1sQHgR7hPf///8T0ILJM4GBEAAA65ov\n",
       "K89YlvsAAAAASUVORK5CYII=\n",
       "\" style=\"display:inline;vertical-align:middle;\" /></a><br>"
      ],
      "text/plain": [
       "<IPython.core.display.HTML object>"
      ]
     },
     "metadata": {},
     "output_type": "display_data"
    },
    {
     "data": {
      "text/html": [
       "<strong id=\"less_2_3\"><a class=\"ProveItLink\" href=\"proofs/less_2_3/thm_proof.ipynb\">less_2_3</a> (conjecture without proof):<br></strong> <a class=\"ProveItLink\" href=\"../__pv_it/theorems/b2d88a2781730da599a2b817d2bbe29ef22758010/theorem_expr.ipynb\"><img src=\"data:image/png;base64,iVBORw0KGgoAAAANSUhEUgAAADAAAAAQBAMAAACigOGCAAAAMFBMVEX///+qqqqYmJiIiIgiIiLu\n",
       "7u4QEBBUVFS6urp2dnbMzMxEREQyMjJmZmbc3NwAAADzFso2AAAAAXRSTlMAQObYZgAAAAlwSFlz\n",
       "AAAOxAAADsQBlSsOGwAAAL9JREFUGNNj4Lt7egEDGng5dwcDw2sGzh9o4qwXGOQFGOoYGNLQJJg/\n",
       "MsQfYMgPYKh/ABeTATE5Mhj4DzCUMDDUwy1RuQplyCuASH+YuMlUKIPDCURyfYbaOcUAKs5lXgWi\n",
       "WArAPL4rCgj7ga5iYLgNYdcIIDmM7SsDA1MBugTXAgbujwwMkgx8D1CN4v8KkuCawMAcgGo5WwHI\n",
       "qCd3716BBYWJKZhmUgD5w////z9wO1UgHum9uwM9XHUeMBACALqtLs8e2gIpAAAAAElFTkSuQmCC\n",
       "\" style=\"display:inline;vertical-align:middle;\" /></a><br>"
      ],
      "text/plain": [
       "<IPython.core.display.HTML object>"
      ]
     },
     "metadata": {},
     "output_type": "display_data"
    },
    {
     "data": {
      "text/html": [
       "<strong id=\"less_3_4\"><a class=\"ProveItLink\" href=\"proofs/less_3_4/thm_proof.ipynb\">less_3_4</a> (conjecture without proof):<br></strong> <a class=\"ProveItLink\" href=\"../__pv_it/theorems/b22a241ec26bee44783019f8b72a416d0ae077730/theorem_expr.ipynb\"><img src=\"data:image/png;base64,iVBORw0KGgoAAAANSUhEUgAAADEAAAAQBAMAAABNQoq8AAAAMFBMVEX///9UVFTMzMwiIiKYmJgQ\n",
       "EBAyMjKIiIiqqqru7u66urpERERmZmZ2dnbc3NwAAABametFAAAAAXRSTlMAQObYZgAAAAlwSFlz\n",
       "AAAOxAAADsQBlSsOGwAAALRJREFUGNNjYHh7ZxcDBmA6wMDAeYChvwFDhlmAgYH9B8P8BAyZYqAM\n",
       "VxQDP0KGIw9imJsAmO53gEmw2EwA07xsYBkuE5gEuy1EgqEOLMNUKASVmGsOZfA5sEFNg7jtDVwv\n",
       "LwNUhvUniGTMgLvDDyzDpMDA/QNVhq8ALMP/EyqDMI1LUFA+8AIDqwDUNCQXMIBEGVgcEP6Zbg51\n",
       "NQP/BiCx5gwiRFmgHuLZ/7EALbxY8hgIAwAQACQbBdLPcwAAAABJRU5ErkJggg==\n",
       "\" style=\"display:inline;vertical-align:middle;\" /></a><br>"
      ],
      "text/plain": [
       "<IPython.core.display.HTML object>"
      ]
     },
     "metadata": {},
     "output_type": "display_data"
    },
    {
     "data": {
      "text/html": [
       "<strong id=\"less_4_5\"><a class=\"ProveItLink\" href=\"proofs/less_4_5/thm_proof.ipynb\">less_4_5</a> (conjecture without proof):<br></strong> <a class=\"ProveItLink\" href=\"../__pv_it/theorems/1911caa9473038ae5be0b3476ae7c1f3e9eb2e3b0/theorem_expr.ipynb\"><img src=\"data:image/png;base64,iVBORw0KGgoAAAANSUhEUgAAADEAAAARBAMAAACGHlkZAAAAMFBMVEX////u7u6qqqpEREQQEBC6\n",
       "urrc3Nx2dnYyMjKYmJiIiIhUVFQiIiJmZmbMzMwAAADCG2+HAAAAAXRSTlMAQObYZgAAAAlwSFlz\n",
       "AAAOxAAADsQBlSsOGwAAAKlJREFUGNNjYMAC+BgYxMCMt+gyLD96DoIZp9FlePyPC4BoLgwZbij9\n",
       "shshxtSGLFOAkOE8K4Akw5UAl+GCGM/APav6AZDKZIDJiJ+CMpgF2L6CDIPJ5J5EcoQN0OgEqAx3\n",
       "E7Lz7icwZDFgylgAZR4wRO/e/WU7mmk+DAz7wQxvdBcUMDA4gxmfYWqlTkFcncvA5QiiL//fBfcp\n",
       "xENsd/cKoIcYZxsDYQAACD4pcIB9F2QAAAAASUVORK5CYII=\n",
       "\" style=\"display:inline;vertical-align:middle;\" /></a><br>"
      ],
      "text/plain": [
       "<IPython.core.display.HTML object>"
      ]
     },
     "metadata": {},
     "output_type": "display_data"
    },
    {
     "data": {
      "text/html": [
       "<strong id=\"less_5_6\"><a class=\"ProveItLink\" href=\"proofs/less_5_6/thm_proof.ipynb\">less_5_6</a> (conjecture without proof):<br></strong> <a class=\"ProveItLink\" href=\"../__pv_it/theorems/690aba65aca3c671e3e23b637a3078a815e0aa220/theorem_expr.ipynb\"><img src=\"data:image/png;base64,iVBORw0KGgoAAAANSUhEUgAAADAAAAARBAMAAABp3DInAAAAMFBMVEX///+qqqpmZma6urpERESI\n",
       "iIiYmJhUVFR2dnYiIiIyMjIQEBDc3Nzu7u7MzMwAAADH+sJ6AAAAAXRSTlMAQObYZgAAAAlwSFlz\n",
       "AAAOxAAADsQBlSsOGwAAAMFJREFUGNNj4GNguMOADXD/WjkXQ7Cj4wED5/4ZF9DFTxmwT2Bgx2LK\n",
       "UgYWBzQJqQNAgvEviIkikakLIlk2gCVS2x/AxCN7Ie5Z16oMlL7A8xkizNsZAGHwL2PgFgAxPMFc\n",
       "Hs0EqMb7HxiY9oIY+iAbGaoEYCben8DA9pnBCyjxAFWCfwED2zeGnQwM9WhGsYB1NDAwbEGznBFo\n",
       "xwaGQwyse6EqeSNjIQwPhtsCDDxKRYiwyoR4hEOpDj2Usg4wEAIABakuTm2zDZUAAAAASUVORK5C\n",
       "YII=\n",
       "\" style=\"display:inline;vertical-align:middle;\" /></a><br>"
      ],
      "text/plain": [
       "<IPython.core.display.HTML object>"
      ]
     },
     "metadata": {},
     "output_type": "display_data"
    },
    {
     "data": {
      "text/html": [
       "<strong id=\"less_6_7\"><a class=\"ProveItLink\" href=\"proofs/less_6_7/thm_proof.ipynb\">less_6_7</a> (conjecture without proof):<br></strong> <a class=\"ProveItLink\" href=\"../__pv_it/theorems/8356d2d1cac1e3046b3b2b6ea15cf1bda384513e0/theorem_expr.ipynb\"><img src=\"data:image/png;base64,iVBORw0KGgoAAAANSUhEUgAAADIAAAARBAMAAABtKeIaAAAAMFBMVEX///+YmJhmZmYQEBDu7u6q\n",
       "qqpERESIiIgiIiJUVFS6uroyMjLc3NzMzMx2dnYAAABe+sMRAAAAAXRSTlMAQObYZgAAAAlwSFlz\n",
       "AAAOxAAADsQBlSsOGwAAAMJJREFUGNNjYMACDjpA6HfvLqDJxP///9+AgeH0As4GNJlnSkoaAQwM\n",
       "2xnYEtBkHjAwHGJgYP2CLMa6B0QC1U9gYGAzQJJgbILazQe0mnnvcy2YBHsfVILhGBDzb2RgDoBw\n",
       "/drhmmcBsf8HBiYTMO9QI1yCB2SFfwMD4y8Qj3Mrwj6+DSDTNjAwfkSX4QD5gw2mB9k0/wkgHwDt\n",
       "MUB3wXoFEJnH4Ax1G4N7O9TV8Q/AtinNRfgU6qHDARjhz7iHgTAAAFyULie3NrgTAAAAAElFTkSu\n",
       "QmCC\n",
       "\" style=\"display:inline;vertical-align:middle;\" /></a><br>"
      ],
      "text/plain": [
       "<IPython.core.display.HTML object>"
      ]
     },
     "metadata": {},
     "output_type": "display_data"
    },
    {
     "data": {
      "text/html": [
       "<strong id=\"less_7_8\"><a class=\"ProveItLink\" href=\"proofs/less_7_8/thm_proof.ipynb\">less_7_8</a> (conjecture without proof):<br></strong> <a class=\"ProveItLink\" href=\"../__pv_it/theorems/73d3ec1cb2897ab9312cde02b09c60adf0f9cab00/theorem_expr.ipynb\"><img src=\"data:image/png;base64,iVBORw0KGgoAAAANSUhEUgAAADAAAAARBAMAAABp3DInAAAAMFBMVEX///+IiIgyMjK6urrMzMxU\n",
       "VFQiIiJmZmZERER2dnYQEBCqqqru7u6YmJjc3NwAAAATNysKAAAAAXRSTlMAQObYZgAAAAlwSFlz\n",
       "AAAOxAAADsQBlSsOGwAAAMNJREFUGNNjeHuAATvY/////wVoYidnFjMwzCgvL9uAJlHAwLqBYQID\n",
       "w3M0cd4LDDwKDEDVAQixTQ+ABGcASAJIO8DFr9WASO4fB9gvAOkXcHGxORA6/mM1iAqGCvNME4Cy\n",
       "2P/nAUk+qGP5yi7AdO588R9oNacChBcEdzRvAcP+NQwMbA3oElwHGPh+MzCcD0A36jwQxzIw2Beg\n",
       "W84F9EwfMLAmwIzgEZMB08w6DLxANa+QQuoaxCOu5cXoYX3pAQMhAADVeTVYCkLuTgAAAABJRU5E\n",
       "rkJggg==\n",
       "\" style=\"display:inline;vertical-align:middle;\" /></a><br>"
      ],
      "text/plain": [
       "<IPython.core.display.HTML object>"
      ]
     },
     "metadata": {},
     "output_type": "display_data"
    },
    {
     "data": {
      "text/html": [
       "<strong id=\"less_8_9\"><a class=\"ProveItLink\" href=\"proofs/less_8_9/thm_proof.ipynb\">less_8_9</a> (conjecture without proof):<br></strong> <a class=\"ProveItLink\" href=\"../__pv_it/theorems/55bb0b47b62bc4190ddf0d8c0b33f41daf0f53020/theorem_expr.ipynb\"><img src=\"data:image/png;base64,iVBORw0KGgoAAAANSUhEUgAAADEAAAAQBAMAAABNQoq8AAAAMFBMVEX////MzMwQEBDc3NwiIiKI\n",
       "iIhEREQyMjKYmJiqqqpUVFS6urpmZmZ2dnbu7u4AAAABvK+SAAAAAXRSTlMAQObYZgAAAAlwSFlz\n",
       "AAAOxAAADsQBlSsOGwAAAM9JREFUGNNjYHh79zQDOjhz6gGQPMDANQFN4kkAozIDA0cDA18Bmswi\n",
       "BoY0BgbeBcgynMUg8jsDw/0HDJzfHvA0wCQ4fEDm831jYIjfwMCw/utJmASr7wMGmB6gap7/zlCJ\n",
       "t64Ie/IDGBjmmv2HuM3GA6b30QbG9RMYOA4wzNcDcbkq4e7gO3ozXoCB6QED8080GQaw294DqRVo\n",
       "pjGA/cNkwMCQjOaCSQ/4PjIwcNcxcARARZ66Qlwd8oAN5EWpM4gQ5YB4iPcOZiBzFDMQBgDwdTwv\n",
       "9HMKYQAAAABJRU5ErkJggg==\n",
       "\" style=\"display:inline;vertical-align:middle;\" /></a><br>"
      ],
      "text/plain": [
       "<IPython.core.display.HTML object>"
      ]
     },
     "metadata": {},
     "output_type": "display_data"
    }
   ],
   "source": [
    "less_0_1, less_1_2, less_2_3, less_3_4, less_4_5, less_5_6, less_6_7, less_7_8, less_8_9 = [Less(num(n), num(n+1)) for n in range(9)]"
   ]
  },
  {
   "cell_type": "code",
   "execution_count": 16,
   "metadata": {},
   "outputs": [
    {
     "data": {
      "text/html": [
       "<strong id=\"sorted_digits\"><a class=\"ProveItLink\" href=\"proofs/sorted_digits/thm_proof.ipynb\">sorted_digits</a> (conjecture without proof):<br></strong> <a class=\"ProveItLink\" href=\"../__pv_it/theorems/5c2575999f6b4a3e315e1c8e3f18f6da5c9c1ee30/theorem_expr.ipynb\"><img src=\"data:image/png;base64,iVBORw0KGgoAAAANSUhEUgAAAWEAAAARBAMAAAD+hACRAAAAMFBMVEX///8QEBC6urrMzMxUVFRE\n",
       "RESYmJgiIiLu7u6qqqoyMjLc3NxmZmaIiIh2dnYAAABcDckaAAAAAXRSTlMAQObYZgAAAAlwSFlz\n",
       "AAAOxAAADsQBlSsOGwAAAxpJREFUSMfVlk9IFHEUx7/rzs7Otu4qUaR1cA+dImhPdQnbUojC0oow\n",
       "ujiHKIhEDyEFGuNJ6N9u1y6zxEKIh6ZDXrK0sIyacA+BHgQHMjJaNQtz16jtt7szu/N7v4N2CGoO\n",
       "y/L5vfd+33m/995vgL/8eIEb61sNa38QMrzwRmD7hAAjr09R9DRzUoy2nwLP2v0rwpaL7wnR8/l8\n",
       "LY+UxUyEOprjBWGDGDCIbcsDqjjYhiXir4xBTwiKL1Pgb7gmBLuHwwR9MM0JEqwaOEKsBtLeHYDc\n",
       "jXAb3WaWbiIZ8JAchHKIJ6ljSFAsieewKY3TBFnsFAk6D1wn6CAKjr4YAtkyu2sIiovIk4X0o4wC\n",
       "Q+ynajNqkjwC9qZAEKe4hHRNQCy/MYLm3IpLaA1Y0lAzBm/OWbjwSshxCUndkL45SO61l3WVIqui\n",
       "2EZuxTY6ISJW21GC9DN4ySNlhSmLIM4Uf7cXpuaFqigj+L84J+8UZlUPCAoZKYqkzrkoQdsbZyI0\n",
       "Fh4JjvmZBEGFHKsYteD9WWqlj2laxy6EA/bf233O3HrXBIKGkaLIpwW/ErSmop4g4BB1xOSqQRCr\n",
       "4450UfGvYgdPqLTz3MiZAiM9rpmUIMhyFLut0M4jJQ8804hVsJY6Bj535Ajqj3hbE4hbqCrm+GhC\n",
       "mBVuVF0aKNKge9ZmeSQbtmLOCpMGh5RVoCtCrMJJ6ngJgWWNR8rbT7PRQucFchtQfA4kpDcKX45H\n",
       "TyAqPssUR3nEyrFLJYr9QkLqgNGE8PZsVvjaIGfXr4qAhcf8GdVkbcUVtLO5efk4OcltQCtB7XaO\n",
       "3VURj5GqUFijS6pQYWwey7WoTq7feY3ANN8HnphdFVwDbaENxO6GrQTprI6p454x6shuN5/Bozua\n",
       "UhixV9Fvjx9latrJvXNvOyjYa5rdNrvVV3wfWa3MYxuxZwUEjSBUR5DPUuqpo25Rx10aOgma0nyF\n",
       "HW8uNFWui9L0bW5IqTzysy+V8gUnl8bjbrPyJWQjvMgfIyhotmjUKjMepehhgsbytpgRgsKZ58KV\n",
       "f9HYCJKH/gH0/zy/AWbINAJPGv6VAAAAAElFTkSuQmCC\n",
       "\" style=\"display:inline;vertical-align:middle;\" /></a><br>"
      ],
      "text/plain": [
       "<IPython.core.display.HTML object>"
      ]
     },
     "metadata": {},
     "output_type": "display_data"
    }
   ],
   "source": [
    "sorted_digits = number_ordering(*[Less(num(n), num(n+1)) for n in range(9)])"
   ]
  },
  {
   "cell_type": "markdown",
   "metadata": {},
   "source": [
    "### Adding digits"
   ]
  },
  {
   "cell_type": "code",
   "execution_count": 17,
   "metadata": {},
   "outputs": [
    {
     "data": {
      "text/html": [
       "<strong id=\"add_0_0\"><a class=\"ProveItLink\" href=\"proofs/add_0_0/thm_proof.ipynb\">add_0_0</a> (conjecture without proof):<br></strong> <a class=\"ProveItLink\" href=\"../__pv_it/theorems/256a64dedaf5517d69ce94bec64bc06bd3a140ee0/theorem_expr.ipynb\"><img src=\"data:image/png;base64,iVBORw0KGgoAAAANSUhEUgAAAGEAAAAVBAMAAACkm51HAAAAMFBMVEX////MzMxUVFRERES6uroi\n",
       "IiIQEBCYmJhmZmYyMjLu7u52dnaqqqqIiIjc3NwAAACW8nlqAAAAAXRSTlMAQObYZgAAAAlwSFlz\n",
       "AAAOxAAADsQBlSsOGwAAAV1JREFUOMt1k79Lw0AUgL/SH2nTtHZxtv4HQWfFrZMoQrYiFYpzF8XN\n",
       "LiJSkG6COBREcTPoKIWsIqXFyUm6OOumWAUvvSC5Sy/L3ftevnvvhRwwZvZj4pQCQ2LdZDxBsX+q\n",
       "wYeXMaVW4t0QY3fhgiu1hUJgb8O5Lkicb2FtUnQlq8llD+7hQDckzkG6ivMt2UAuSzDsketphsSP\n",
       "MNcm9aMYX7AQUNAHkbgDt8L4jBt2mGpRrKpChM/g3Sf1GzfKE5EaYXXDIO9Nn+o/rktjkjB8nIZa\n",
       "I8JN0ZVPJqxx5Hm7nrclyovUxojUh9aVxM3p5E5i8mFAppGcXGDRVdrFUr/uMhz2cDbVOSK8AlaD\n",
       "fFcx9uFEcFerIfGd2NW5rihGNrB3xOm+Zkg8L3Y3/UUUw+48iyOya5oR4UqcDeLB2+yf3WrHo1o8\n",
       "ODbcj1XTxSm7hsSlyUibrm15ZEi8zsZ/QdRrXacVg40AAAAASUVORK5CYII=\n",
       "\" style=\"display:inline;vertical-align:middle;\" /></a><br>"
      ],
      "text/plain": [
       "<IPython.core.display.HTML object>"
      ]
     },
     "metadata": {},
     "output_type": "display_data"
    },
    {
     "data": {
      "text/html": [
       "<strong id=\"add_1_0\"><a class=\"ProveItLink\" href=\"proofs/add_1_0/thm_proof.ipynb\">add_1_0</a> (conjecture without proof):<br></strong> <a class=\"ProveItLink\" href=\"../__pv_it/theorems/6f2a3c643b9eb8d01396459f0d8465df1e5fa2ef0/theorem_expr.ipynb\"><img src=\"data:image/png;base64,iVBORw0KGgoAAAANSUhEUgAAAGAAAAAVBAMAAABLWfZ5AAAAMFBMVEX////MzMxUVFRERES6uroi\n",
       "IiIQEBCYmJhmZmYyMjLu7u52dnaqqqqIiIjc3NwAAACW8nlqAAAAAXRSTlMAQObYZgAAAAlwSFlz\n",
       "AAAOxAAADsQBlSsOGwAAATNJREFUOMtjYGB4wIAd4BLnPYBDwheH+GkgFl2AJrj7xgMG3gIMtYxR\n",
       "DAxcExi4NOajaeA8wBXHwDALXf2izl8MDBwgc+7DNLhDqFIGhs0MDBWYzgdqYGNA1nAWQhkxMJxf\n",
       "wMC2AJuGk9g0/GBgkD/AwFmATUM3Fg1cIA0FDNwK2DRMx6KB7zdQwwUG9gkgDkcoGCjANMTg0rCB\n",
       "gScBmw0pCA2toaFpoaFBQCcBNfhfYGD8QEADiqfPH2BgwWoDNicxGDMw1C9g4AnA5gdbbBrKGBg6\n",
       "GRjYDbDZsAnE2P8AVQPrAa5EoNkb0DVw/wOmOyCtlD+pAEUDV/clAaA2BzT1TGo/1RlYBZCFziJz\n",
       "nmJN3ewNyDx3ZE479vxghyOfMPAZYBdfjEsDM448yncBh4Z7WEUBQJhgm8KX6wwAAAAASUVORK5C\n",
       "YII=\n",
       "\" style=\"display:inline;vertical-align:middle;\" /></a><br>"
      ],
      "text/plain": [
       "<IPython.core.display.HTML object>"
      ]
     },
     "metadata": {},
     "output_type": "display_data"
    },
    {
     "data": {
      "text/html": [
       "<strong id=\"add_2_0\"><a class=\"ProveItLink\" href=\"proofs/add_2_0/thm_proof.ipynb\">add_2_0</a> (conjecture without proof):<br></strong> <a class=\"ProveItLink\" href=\"../__pv_it/theorems/0da16323198ab3d7374a89a3b5d4027258c137df0/theorem_expr.ipynb\"><img src=\"data:image/png;base64,iVBORw0KGgoAAAANSUhEUgAAAGEAAAAVBAMAAACkm51HAAAAMFBMVEX////MzMxUVFRERES6uroi\n",
       "IiIQEBCYmJhmZmYyMjLu7u52dnaqqqqIiIjc3NwAAACW8nlqAAAAAXRSTlMAQObYZgAAAAlwSFlz\n",
       "AAAOxAAADsQBlSsOGwAAAXxJREFUOMt1k79Lw0AUxz+ttrWxDV2cHHRx1aqz4uYkFiHgIFpBuloE\n",
       "xU1BiikuBQfBKeA/UHR0MKuU0uIkDhIQwUkqOPgDjZfEIbn0jpB77/vyee9e7g5w6D9UOnlbEVhS\n",
       "ES14qU9L4vW9Q74qf6qbpwXQGuhFbhYioaytrcO5TDwx/A5DVZIO6XKgLQbTLlzBvkxMQgXS4vki\n",
       "+Rto7WCagY5F2pKIbYsph1tIlki+RYgPGLPJyo1MwFSBE99O9cKE5hFVhsfj/2kDznxjrBsm9G9f\n",
       "yTQ8Z8jwR0AnfmDNt1aIEU1y5ViJlAC3/DxF710zjIphCFgTxHKXRC9GHPFP7IDcecdmMFYj463N\n",
       "W1WuyWuEmIUDi1xJ7qOF7jAnjFF4iBB7UBcZi1KJRJO8xaVodNU0SxEiZWubIntTIp5NswYjIu66\n",
       "biNCaCd34silFuTNcN1PIRfCWjuSsv9hzxyGvcWwc6y4H/Oqi6MXFYELFTGgurZ6VxF47C//AY2V\n",
       "YL0j4YFXAAAAAElFTkSuQmCC\n",
       "\" style=\"display:inline;vertical-align:middle;\" /></a><br>"
      ],
      "text/plain": [
       "<IPython.core.display.HTML object>"
      ]
     },
     "metadata": {},
     "output_type": "display_data"
    },
    {
     "data": {
      "text/html": [
       "<strong id=\"add_3_0\"><a class=\"ProveItLink\" href=\"proofs/add_3_0/thm_proof.ipynb\">add_3_0</a> (conjecture without proof):<br></strong> <a class=\"ProveItLink\" href=\"../__pv_it/theorems/ceb8b12aedc032e6365e2e0a43eeec80db0b523a0/theorem_expr.ipynb\"><img src=\"data:image/png;base64,iVBORw0KGgoAAAANSUhEUgAAAGEAAAAVBAMAAACkm51HAAAAMFBMVEX////MzMxUVFRERES6uroi\n",
       "IiIQEBCYmJhmZmYyMjLu7u52dnaqqqqIiIjc3NwAAACW8nlqAAAAAXRSTlMAQObYZgAAAAlwSFlz\n",
       "AAAOxAAADsQBlSsOGwAAAX1JREFUOMt1k79Lw0AUx7+ladOeaVoHR7H6FxTtqnbRuogiBBcRleJq\n",
       "Fn9sFkSsdOkmOAVc3Cy6CF1uFSktnZy0i5OLm1oL+nIRTC65G3Lv3svn3ve9uwPQR/RQ+ZHhisCy\n",
       "ingE3u6LkrP11EfGln81WyclgDXAqugEE6U52wQuZeIaxhBI2cgMcdPwfGVv2gfugCOZeOHsC0gC\n",
       "WgXZP6LtTdNAx0HSkYjFEoh4EHbHDhCfwARHOlQIjA+g7hraOvwEcwkbI/kQsUCbXNAc600GCPOb\n",
       "iC50ITVliSHo8akcsOGp4iGiCWMrrIp6VRFWckCfU8vataw1UkXEShex9/Dp7TkuEcshPpQrp6ya\n",
       "nGMUmOeuquxAJmaAYwfGqlTHj+MSsyQp76n6Jw6Ac0AvSDl2hKpbitjyeSQ426bdmxJxKM5jjKyl\n",
       "WjHQXbB6j9qYKEmEVnNvYiLn97X9i9foy65X/auyf3GmeB9zqodjFhSBKxURVz1bs6sIPEe7fwGN\n",
       "XGPtURP/dwAAAABJRU5ErkJggg==\n",
       "\" style=\"display:inline;vertical-align:middle;\" /></a><br>"
      ],
      "text/plain": [
       "<IPython.core.display.HTML object>"
      ]
     },
     "metadata": {},
     "output_type": "display_data"
    },
    {
     "data": {
      "text/html": [
       "<strong id=\"add_4_0\"><a class=\"ProveItLink\" href=\"proofs/add_4_0/thm_proof.ipynb\">add_4_0</a> (conjecture without proof):<br></strong> <a class=\"ProveItLink\" href=\"../__pv_it/theorems/b08eb770de564af99853f530fba7230945a29de20/theorem_expr.ipynb\"><img src=\"data:image/png;base64,iVBORw0KGgoAAAANSUhEUgAAAGEAAAAVBAMAAACkm51HAAAAMFBMVEX////MzMxUVFRERES6uroi\n",
       "IiIQEBCYmJhmZmYyMjLu7u52dnaqqqqIiIjc3NwAAACW8nlqAAAAAXRSTlMAQObYZgAAAAlwSFlz\n",
       "AAAOxAAADsQBlSsOGwAAAWdJREFUOMt1079Lw0AUB/BvsWmbtI1dRDdLVhGLzv7ApZMoQjYRLeKc\n",
       "RdFFCyIiXcRFcCr4DwQdXbKKlAZBcCpZxEkQBREc9L20hdxd7obk3bv7XN4lOQAR0psuj3KgGVjR\n",
       "iUe+TEjJ+5cIZU+dnGkC1gVH6+KAGVibwLUqjCpQ4JXKQ1Hv3/aAO+BAFc8kchyMXw4ynf5tFui2\n",
       "kWsrRR2SeODIl8QPMBnAVDZSNEm0uKhIFBYLD8WqLHosrih4gyjsXxIh8vFLKbhxY217LDa4qDTh\n",
       "o7QlFwUWO0A+6otT1911XXptFonVEJkPSRwNxTug7rwbICs9ww4xqGrZcb6nBDEHHLdRWhP3kXWc\n",
       "mYaP+XhKQ3zGPnBO1daUL5gjeBtHX6IwAmubVvcVMUqLjHFw8jctCKv1VCG3JIPC4mcIo5JMdZKd\n",
       "1/SfPd9M9urJzpnmfCzoDo5d0wzc6MSI7tjSd0lvvfT0P9HIVbc4Ja8bAAAAAElFTkSuQmCC\n",
       "\" style=\"display:inline;vertical-align:middle;\" /></a><br>"
      ],
      "text/plain": [
       "<IPython.core.display.HTML object>"
      ]
     },
     "metadata": {},
     "output_type": "display_data"
    },
    {
     "data": {
      "text/html": [
       "<strong id=\"add_5_0\"><a class=\"ProveItLink\" href=\"proofs/add_5_0/thm_proof.ipynb\">add_5_0</a> (conjecture without proof):<br></strong> <a class=\"ProveItLink\" href=\"../__pv_it/theorems/6d0b8492811a8233d4cd3564237a5f56e449a2d50/theorem_expr.ipynb\"><img src=\"data:image/png;base64,iVBORw0KGgoAAAANSUhEUgAAAGEAAAAVBAMAAACkm51HAAAAMFBMVEX////MzMxUVFRERES6uroi\n",
       "IiIQEBCYmJhmZmYyMjLu7u52dnaqqqqIiIjc3NwAAACW8nlqAAAAAXRSTlMAQObYZgAAAAlwSFlz\n",
       "AAAOxAAADsQBlSsOGwAAAXpJREFUOMt1kz1Iw0AUgL9a26ZpG7o4WyfdLIqDgtKtk1iEOKiI4s/g\n",
       "0i6Ki1gE8aeDXUR0CrhLqZsuWUVKi4MIgnQR3KygoAjipQVJLslB7v3le+/eHQ9o4r38/CRMkqge\n",
       "4UmXJwCXQtxB/kw3nLGbxyaJgkyEv09mQS3DzOe1MxQ11QU4l4lQfk5kVkSm1L8v2xEbcAVbMtHV\n",
       "qYSdqHXEENQNwoYncetFfEGvSbTgSZTE1//U5yBUiygQS8nEdjUJp0Ib4y1jJ7QfQTSIlC1D0dvL\n",
       "ooOG9gHz7X+CORdRIb7ofqQRWGkryq/Y9nR9TdenxakEMdUg0HITx02LCJZR3uXO6ybdco1RQSSt\n",
       "U4VzdLUcxDDsGMRzUh+rMAjjEBNQ2kFswiFE0lKNCixDVTRa5MFwECFTXRLZKxLxSmIdeixt98j5\n",
       "gmrpXlx8KCMR2sGAyBxK2n01u/HiPR6Rot3K2o19n4ma8Bs1Le0TuPAjgn5jqzV8As/e7j+uNVtc\n",
       "QkVFfAAAAABJRU5ErkJggg==\n",
       "\" style=\"display:inline;vertical-align:middle;\" /></a><br>"
      ],
      "text/plain": [
       "<IPython.core.display.HTML object>"
      ]
     },
     "metadata": {},
     "output_type": "display_data"
    },
    {
     "data": {
      "text/html": [
       "<strong id=\"add_6_0\"><a class=\"ProveItLink\" href=\"proofs/add_6_0/thm_proof.ipynb\">add_6_0</a> (conjecture without proof):<br></strong> <a class=\"ProveItLink\" href=\"../__pv_it/theorems/6817e17bf3d76320b43850ec51c346eb86ffe60d0/theorem_expr.ipynb\"><img src=\"data:image/png;base64,iVBORw0KGgoAAAANSUhEUgAAAGEAAAAVBAMAAACkm51HAAAAMFBMVEX////MzMxUVFRERES6uroi\n",
       "IiIQEBCYmJhmZmYyMjLu7u52dnaqqqqIiIjc3NwAAACW8nlqAAAAAXRSTlMAQObYZgAAAAlwSFlz\n",
       "AAAOxAAADsQBlSsOGwAAAYZJREFUOMt1kztIA0EQhj89zSVnHjZWFmphHxRtRElnJQbhOpEIIigW\n",
       "aRQ7RXySJoIQEIQDwdaojRCEa0UkwSqVpLGws1B8FTp3Ec2t2YW7vflnv52bnVmgRvOh04m5GseE\n",
       "jriRp1TqDIqlao1Y9t/ajtIZWHl4TLWmA56Ia83AoQrED+iHsOx0hJGsa+P1aRkuYFUlIhUGIQTR\n",
       "j1/ttj4NQNkh5ChE2ReuwcioxBv0uETURIb9d07C7F9tBgjLI7J09CrEQnc1BQVIFAi5jUT8U4gK\n",
       "Zt4zwrY/PPo9yxJMw+kT4cV/RJFoJhjC+oJthzkh0pjPomzZ9rxtT4lLiMkKLU8K8QJrKY9I5DFf\n",
       "1czLLm1KDN6FyHp/ZfzE+CPk1NccomkljyE/xqjUQ/LIBIgV2AMzqdZD8oBz+RrhJHBWtLvWrOxe\n",
       "VAijaMlZdXkNttsXrKCVu5PWbE+pbXK54cmBrr1tNB6aN7u53miNNxo7mvsxprs48aTGcawjDN21\n",
       "jVc0jvvm8jeELWNUHrhgYAAAAABJRU5ErkJggg==\n",
       "\" style=\"display:inline;vertical-align:middle;\" /></a><br>"
      ],
      "text/plain": [
       "<IPython.core.display.HTML object>"
      ]
     },
     "metadata": {},
     "output_type": "display_data"
    },
    {
     "data": {
      "text/html": [
       "<strong id=\"add_7_0\"><a class=\"ProveItLink\" href=\"proofs/add_7_0/thm_proof.ipynb\">add_7_0</a> (conjecture without proof):<br></strong> <a class=\"ProveItLink\" href=\"../__pv_it/theorems/273887e9252aaf292102f195c0320db607b4bc620/theorem_expr.ipynb\"><img src=\"data:image/png;base64,iVBORw0KGgoAAAANSUhEUgAAAGIAAAAVBAMAAABPrCZEAAAAMFBMVEX////MzMxUVFRERES6uroi\n",
       "IiIQEBCYmJhmZmYyMjLu7u52dnaqqqqIiIjc3NwAAACW8nlqAAAAAXRSTlMAQObYZgAAAAlwSFlz\n",
       "AAAOxAAADsQBlSsOGwAAAXBJREFUOMt1kzFLw0AUx//WtmnT9OjibAc/QNDFRenWSSpKNpEK4uTQ\n",
       "RREXuxQjXboJTgE/gFEncblVpDQ4OUlBrI7iIIUO9V1SIbnLBV7uvf/L7+7dXR6AIdIfnY4yZ6ep\n",
       "iQ1F+fTC4RnWdDr9TeYeX4cot2RiQB82YfZQWnXdnUSqyM1d4Eom7l23w1FooQSwdqTVo+GIssCJ\n",
       "TPjAF5AHLCAz0/rRsEwVeMh7EsGBKvAU+rdJYgwschSVjaBUAbrCYXaCMAVB1VYV4p3sUjiZWoJg\n",
       "EyICGD0RFJzwieglsvCQRlAJH1ZTXoIJZV94D2HccZwDx9miqohoBJj7VrbR+ye2oex8wJFV1sjZ\n",
       "s6rMH4lYAc48WJvyPm7Ee40sO5aIY+ACMGx5jYa46DsyayIROW7u0ey+8mMJZUEcwaFEmN0Xuqpc\n",
       "TSZGXExXiUv9ePCR3h5GOx7V48G5pqPWda3GbE3iWkfM69qWBZrEW7r8B6loXQXGovpqAAAAAElF\n",
       "TkSuQmCC\n",
       "\" style=\"display:inline;vertical-align:middle;\" /></a><br>"
      ],
      "text/plain": [
       "<IPython.core.display.HTML object>"
      ]
     },
     "metadata": {},
     "output_type": "display_data"
    },
    {
     "data": {
      "text/html": [
       "<strong id=\"add_8_0\"><a class=\"ProveItLink\" href=\"proofs/add_8_0/thm_proof.ipynb\">add_8_0</a> (conjecture without proof):<br></strong> <a class=\"ProveItLink\" href=\"../__pv_it/theorems/4d53fb8a71b52f4137779ca0510d81b0a12defc90/theorem_expr.ipynb\"><img src=\"data:image/png;base64,iVBORw0KGgoAAAANSUhEUgAAAGEAAAAVBAMAAACkm51HAAAAMFBMVEX////MzMxUVFRERES6uroi\n",
       "IiIQEBCYmJhmZmYyMjLu7u52dnaqqqqIiIjc3NwAAACW8nlqAAAAAXRSTlMAQObYZgAAAAlwSFlz\n",
       "AAAOxAAADsQBlSsOGwAAAYlJREFUOMt1kz9Iw0AUxr/+TRvTUARn3XQQLLoJ1m7FQRQhmxQFcXCQ\n",
       "LGoXsUOllQq6CZ0CTuJg0UUoyK0iJcGpkxTEWUEUwUp9l4Lkzt4b7u69y+++997lAHQw2FRxpJhi\n",
       "Y1FFPACXzbIUbLY7SNnyp3rzNkfjKVBCWBRKMr0A1GUiAUzSaEOzfY5bvj/tADdAUSb2gAsgDgyN\n",
       "/RGt/jQNuA7ijkRc+8Q9YLw7CVsgvoBRhqRciDuLClCj1dTPMYKEzgmba4sW7rWp3jNeUa8gEOY3\n",
       "ER40P9WE5ZtPn3zQJa3yBj/32D+iAWNN0jDu5rvABqCV4G5R4NCyNi1rhbIiYslD6E0iijA+HU5Q\n",
       "T8yuXLnLEJU16NhXxrO6ImdcIGaAAwfGsliHTpphG3OkQeVkBWIXOKJsM5LGNhDp8FuJ1qF5AhFj\n",
       "+jqd3pCIBQf7wAithqtlobvQa49p4nISEZqoUiiWDsZaQedl8M9OrQ1YPuhUFO8jq3o4Zkaxca4i\n",
       "Iqpna3qKjafB4V+L7GkbHLemBwAAAABJRU5ErkJggg==\n",
       "\" style=\"display:inline;vertical-align:middle;\" /></a><br>"
      ],
      "text/plain": [
       "<IPython.core.display.HTML object>"
      ]
     },
     "metadata": {},
     "output_type": "display_data"
    },
    {
     "data": {
      "text/html": [
       "<strong id=\"add_9_0\"><a class=\"ProveItLink\" href=\"proofs/add_9_0/thm_proof.ipynb\">add_9_0</a> (conjecture without proof):<br></strong> <a class=\"ProveItLink\" href=\"../__pv_it/theorems/7507873326036355a927064163171c8a3ba26e690/theorem_expr.ipynb\"><img src=\"data:image/png;base64,iVBORw0KGgoAAAANSUhEUgAAAGEAAAAVBAMAAACkm51HAAAAMFBMVEX////MzMxUVFRERES6uroi\n",
       "IiIQEBCYmJhmZmYyMjLu7u52dnaqqqqIiIjc3NwAAACW8nlqAAAAAXRSTlMAQObYZgAAAAlwSFlz\n",
       "AAAOxAAADsQBlSsOGwAAAYlJREFUOMt1kztIA0EQQF+MMXHzMQjamsrCxqCFlZoulSjCNRIlglhY\n",
       "SBrFThHFSBDSCVYHotgp2ggKXiWIBA9BEARjY68o+Ac3OYW7TXab2ZnZN7MzuwM8UH/p7EQtjWNI\n",
       "R1xCKN+lGE9uH4jmas7ml00QRcQ47d4rNFtiArZUYMf2zcr4ORqy+JOOLe2IOTiCBZXohF5ogpYi\n",
       "4U/HVnJED1yZNJkK8QFnJhewnyT66iHeocOiWSlEvEA5RcHJ8eYmRIXIEU7UyZFjk2odP24i9iUJ\n",
       "m2CxooSM6ko4dQzaZGTIKVq/a4gDIlklx27K120xJXd7d6VnKVYNY9owRmUISQzb+J4UQmycluNV\n",
       "ArVXso4ri8Zs7XvLXmWqm//3+CNk1xdNIiNKHY6nHyIz7Mc9xDysQzCpJDg3hbz9ofyLY/ThIQKW\n",
       "mJTRDxTixvTLJ2qr/Lt8ykuIwrVMGkgpRPh4pRIu7raV3Mpj/c8eXHJrabeyppmPAd3gxJIax7aO\n",
       "8OvGNmZrHPf1zb/4nmamjARYawAAAABJRU5ErkJggg==\n",
       "\" style=\"display:inline;vertical-align:middle;\" /></a><br>"
      ],
      "text/plain": [
       "<IPython.core.display.HTML object>"
      ]
     },
     "metadata": {},
     "output_type": "display_data"
    }
   ],
   "source": [
    "add_0_0, add_1_0, add_2_0, add_3_0, add_4_0, add_5_0, add_6_0, add_7_0, add_8_0, add_9_0 = [Equals(Add(num(n), num(0)), num(n+0)) for n in range(10)]"
   ]
  },
  {
   "cell_type": "code",
   "execution_count": 18,
   "metadata": {},
   "outputs": [
    {
     "data": {
      "text/html": [
       "<strong id=\"add_0_1\"><a class=\"ProveItLink\" href=\"proofs/add_0_1/thm_proof.ipynb\">add_0_1</a> (conjecture without proof):<br></strong> <a class=\"ProveItLink\" href=\"../__pv_it/theorems/7649ab9e1d585de1cfc475f1b1a032c982d5461d0/theorem_expr.ipynb\"><img src=\"data:image/png;base64,iVBORw0KGgoAAAANSUhEUgAAAGAAAAAVBAMAAABLWfZ5AAAAMFBMVEX////MzMxUVFRERES6uroi\n",
       "IiIQEBCYmJhmZmYyMjLu7u52dnaqqqqIiIjc3NwAAACW8nlqAAAAAXRSTlMAQObYZgAAAAlwSFlz\n",
       "AAAOxAAADsQBlSsOGwAAAS1JREFUOMtjYGB4wIAd4BLnPYBDwheH+GkGBu69fWiCjFFAkwow1IKE\n",
       "uSYwMMxhWIpq/6LOX0ByFrp6sDBHAQN7AAO3AUTIHeZOkIYKTOcDhdkYGJgVGHh+QUTOImtgW4BN\n",
       "w0kGBv4GBsY/WDRwFmDT0M3AsB6o4TsWDdwK2DRMZ2B4v4GB8S8WDewTQEyOUDBQgAnHQDT8xqKB\n",
       "JwGbDSlAJ21gYAHZ0BoamhYaGgTXwPgBhwagp3mweZoFqw1AJzEbMLBjC1aeAGx+sAV6LoGBYwI2\n",
       "Txtgs2ETA8iWZQKoGrj/gczegK4BJCwKpFfsVWRA0cCk9lOdgYHVAU09WJhVAFnoLDLnKdbUzd6A\n",
       "zHNH5rRjzw92OPIJA58BdvHFuDQw48ijfBdwaLiHVRQAGpFa+7QueD8AAAAASUVORK5CYII=\n",
       "\" style=\"display:inline;vertical-align:middle;\" /></a><br>"
      ],
      "text/plain": [
       "<IPython.core.display.HTML object>"
      ]
     },
     "metadata": {},
     "output_type": "display_data"
    },
    {
     "data": {
      "text/html": [
       "<strong id=\"add_1_1\"><a class=\"ProveItLink\" href=\"proofs/add_1_1/thm_proof.ipynb\">add_1_1</a> (conjecture without proof):<br></strong> <a class=\"ProveItLink\" href=\"../__pv_it/theorems/2b59f84f73722af3db7fa04fe83842caefd9171d0/theorem_expr.ipynb\"><img src=\"data:image/png;base64,iVBORw0KGgoAAAANSUhEUgAAAGEAAAAVBAMAAACkm51HAAAAMFBMVEX////MzMxUVFRERES6uroi\n",
       "IiIQEBCYmJhmZmYyMjLu7u52dnaqqqqIiIjc3NwAAACW8nlqAAAAAXRSTlMAQObYZgAAAAlwSFlz\n",
       "AAAOxAAADsQBlSsOGwAAAShJREFUOMtjYGB4wIAd4BJn4D2AQ8IXl47TQCy6AE2QMQpoVAG6Ur6O\n",
       "yQIMDFwTGLg05qPpWNT5C0jOQtfxmIH7CwMDB8ik+zAd7jCngnRUoOvQY2BIY2BgY0DWcRZZBxu6\n",
       "W/MXMOg/YDiJWwcnukdUGRj0BRi6cevgVsAMp3gGhum4dbBPADE5QsEAopvxLwNDDG4dPAkYVrAC\n",
       "NaYgdLSGhqaFhgbBdTB+wNDRzICiA90OFgw72EFuw+eqAHR/nGbge8Bgi8fnBuhpZwMD7wKGTSDm\n",
       "/gdoOrj/gUzfgKbjaUdHKzARAllK+ZMKUHQwqf1UBwaMA3pk/P//EygsgCx2FsVI7ImdvQGZ547M\n",
       "aceRP+xwZRw+AxwSi3HpYMaVbfku4JC4h10YALlWWpcMuZJ1AAAAAElFTkSuQmCC\n",
       "\" style=\"display:inline;vertical-align:middle;\" /></a><br>"
      ],
      "text/plain": [
       "<IPython.core.display.HTML object>"
      ]
     },
     "metadata": {},
     "output_type": "display_data"
    },
    {
     "data": {
      "text/html": [
       "<strong id=\"add_2_1\"><a class=\"ProveItLink\" href=\"proofs/add_2_1/thm_proof.ipynb\">add_2_1</a> (conjecture without proof):<br></strong> <a class=\"ProveItLink\" href=\"../__pv_it/theorems/c3b9aedcadb354b8fb1a7922af39ebfa60c38ab80/theorem_expr.ipynb\"><img src=\"data:image/png;base64,iVBORw0KGgoAAAANSUhEUgAAAGEAAAAVBAMAAACkm51HAAAAMFBMVEX////MzMxUVFRERES6uroi\n",
       "IiIQEBCYmJhmZmYyMjLu7u52dnaqqqqIiIjc3NwAAACW8nlqAAAAAXRSTlMAQObYZgAAAAlwSFlz\n",
       "AAAOxAAADsQBlSsOGwAAAVdJREFUOMtjYGB4wIAd4BJn4D2AQ8IXl47TDAwvOg3RBBmjgEYVoCvl\n",
       "293swMDANYGBz4BhvwOK1KLOX0ByFrqOFQw8fxgYOAoYmB4wsCVAxNxhTgXpqEDXcf8A108GBjYg\n",
       "+sXA9A8idhZZB9sCNB1uDgxAHScZGJgCGJg+YtHBieERBp7vDAzdYBbrByw6uBUwdLgCDZkOZslf\n",
       "wKKDfQKIyREKBmDdskoCDAwxYBVBDFh08CRgugoYVilgcwxAZGtoaFpoaBBcB+MHzNjLXwDRUcSA\n",
       "zQ4WdDsEGRjsD4BdxbOB4R02VwWg+eP/ApAOWyBLmoHhFjafG6DZkQR21SZgcono6AhA1cENilGO\n",
       "DWg6ysHxIQqMjP///09A0cGk9lMdKO6ApoOlA5QSWQWQxc4ic55iT+zsDcg8d2ROO478YYcr4/AZ\n",
       "4JBYjEsHM65sy3cBh8Q97MIAM3Zaq0eo4+cAAAAASUVORK5CYII=\n",
       "\" style=\"display:inline;vertical-align:middle;\" /></a><br>"
      ],
      "text/plain": [
       "<IPython.core.display.HTML object>"
      ]
     },
     "metadata": {},
     "output_type": "display_data"
    },
    {
     "data": {
      "text/html": [
       "<strong id=\"add_3_1\"><a class=\"ProveItLink\" href=\"proofs/add_3_1/thm_proof.ipynb\">add_3_1</a> (conjecture without proof):<br></strong> <a class=\"ProveItLink\" href=\"../__pv_it/theorems/1bddec21c1a2004beed809987ffae545623cf1f10/theorem_expr.ipynb\"><img src=\"data:image/png;base64,iVBORw0KGgoAAAANSUhEUgAAAGEAAAAVBAMAAACkm51HAAAAMFBMVEX////MzMxUVFRERES6uroi\n",
       "IiIQEBCYmJhmZmYyMjLu7u52dnaqqqqIiIjc3NwAAACW8nlqAAAAAXRSTlMAQObYZgAAAAlwSFlz\n",
       "AAAOxAAADsQBlSsOGwAAAUZJREFUOMtjYGB4wIAd4BJn4D2AQ8IXl47TDAyvd5igCTJGAY0qwFTM\n",
       "2MDAwDWBgauB4TyqRYs6fwHJWZg6WBUYGDgKGHj/MKyfABFxhzkVpKMCU8dVoA42BgaWFAZ+qI6z\n",
       "yDrYFmA4qhKo4ySYeb4Aiw5ODI9wcwJ1dINYLOEMWHRwK6DruAfSMR1k2SVFbDrYwU7lCAUDkG6+\n",
       "ApCOGIirDmDRwZOA7igGkI4UMJsNpKI1NDQtNDQIroPxA5qOOpgORgEG5j9Y7GBBs4PvAgPUVfy/\n",
       "sOvgCUD1B4uSkn7SBgZboJMUIK7C8LkBRgwClTJsAsoUYMQH9z+Q6RswdPADDREF0h4dJqihy6T2\n",
       "Ux2YiBzQNXDYf7rAwCqALHQWmfMUe2Jnb0DmuSNz2nHkDztcGYfPAIfEYlw6mHFlW2C8YAf3sAsD\n",
       "AAzqUklTt0NyAAAAAElFTkSuQmCC\n",
       "\" style=\"display:inline;vertical-align:middle;\" /></a><br>"
      ],
      "text/plain": [
       "<IPython.core.display.HTML object>"
      ]
     },
     "metadata": {},
     "output_type": "display_data"
    },
    {
     "data": {
      "text/html": [
       "<strong id=\"add_4_1\"><a class=\"ProveItLink\" href=\"proofs/add_4_1/thm_proof.ipynb\">add_4_1</a> (conjecture without proof):<br></strong> <a class=\"ProveItLink\" href=\"../__pv_it/theorems/c134a924b223aa0a4fc13f600b7be1793128ef950/theorem_expr.ipynb\"><img src=\"data:image/png;base64,iVBORw0KGgoAAAANSUhEUgAAAGEAAAAVBAMAAACkm51HAAAAMFBMVEX////MzMxUVFRERES6uroi\n",
       "IiIQEBCYmJhmZmYyMjLu7u52dnaqqqqIiIjc3NwAAACW8nlqAAAAAXRSTlMAQObYZgAAAAlwSFlz\n",
       "AAAOxAAADsQBlSsOGwAAAT9JREFUOMtjYGB4wIAd4BJn4D2AQ8IXQ4SRgWEdkDoNYkugy0UBjSpA\n",
       "18H2cypQnGsCiB2EKrWo8xeQnIWugzU/egEDAwfIJF6YDneYU0E6KtB1MEFsAhHik6BiZ5F1sC3A\n",
       "quMkiNiAVQdnAVYd3SD5B1h1cCug66jdJMDAMB3Ies6AVQc7OFA4QsEApJt5Ad8XBoYYkKOw6+BJ\n",
       "wIwkUwaGFKBZDyA6WkND00JDg+A6GD9g6uh/ANLxlgG7HSzodlgCdQiAXOWkpPRNG5urAtD8kcrA\n",
       "oM/AYAtWkYTV5wZodmxgYEhmYNgEZn9G08H9D2T6BjQdLxh4sxgYREHM5v+6KDqY1H6qA5ORA5oO\n",
       "vg4NYDJgFUAWO4vMeYo9F7A3IPPckTntODKOHa6sxmeAQ2IxLh3MuLIt3wUcEvewCwMAr3JRbpYY\n",
       "+3gAAAAASUVORK5CYII=\n",
       "\" style=\"display:inline;vertical-align:middle;\" /></a><br>"
      ],
      "text/plain": [
       "<IPython.core.display.HTML object>"
      ]
     },
     "metadata": {},
     "output_type": "display_data"
    },
    {
     "data": {
      "text/html": [
       "<strong id=\"add_5_1\"><a class=\"ProveItLink\" href=\"proofs/add_5_1/thm_proof.ipynb\">add_5_1</a> (conjecture without proof):<br></strong> <a class=\"ProveItLink\" href=\"../__pv_it/theorems/118f8a1590306ce1964704865143306bf00025fb0/theorem_expr.ipynb\"><img src=\"data:image/png;base64,iVBORw0KGgoAAAANSUhEUgAAAGEAAAAVBAMAAACkm51HAAAAMFBMVEX////MzMxUVFRERES6uroi\n",
       "IiIQEBCYmJhmZmYyMjLu7u52dnaqqqqIiIjc3NwAAACW8nlqAAAAAXRSTlMAQObYZgAAAAlwSFlz\n",
       "AAAOxAAADsQBlSsOGwAAAVtJREFUOMtjYGB4wIAd4BJn4D3AIMDAhUXaF5eO0wwM+TNDF6AKMkYB\n",
       "jSrAUMu9eyMDA9cEBoawr7tQZRZ1/gKSs9A18E1hUGVg4ACapAAXc4c5FaSjAl0H5wUGYwYGNgZk\n",
       "HWeRdbChOZXhPFjgJG4dnOgeMQOT3UCsflsRmw5uBTQdmdI3HBgYpgNZVgzvHbDoYJ8AYnKEggFI\n",
       "988ChhwGhhiwCuYALDp4ElCt4PrPwNC2gCEFzOH4ByRaQ0PTQkOD4DoYP6Dp+MrAUO8A0sE8gYHj\n",
       "IxY7WNDsYPgJ1FEAchVbAAPTB2yuCkDzhynYDltgmAA1GWDzuQF6fAD9wcCwCRj5DQzXFqDq4Ab5\n",
       "i2MDmg7mDVzAsBIFsl40daHGB5PaT3UGBlYH9GSyo0kAKCyALHQWmfMUe2Jnb0DmuSNz2nHkDztc\n",
       "GYfPAIfEYlw6mHFlW74LOCTuYRcGAMD3WERTOGB+AAAAAElFTkSuQmCC\n",
       "\" style=\"display:inline;vertical-align:middle;\" /></a><br>"
      ],
      "text/plain": [
       "<IPython.core.display.HTML object>"
      ]
     },
     "metadata": {},
     "output_type": "display_data"
    },
    {
     "data": {
      "text/html": [
       "<strong id=\"add_6_1\"><a class=\"ProveItLink\" href=\"proofs/add_6_1/thm_proof.ipynb\">add_6_1</a> (conjecture without proof):<br></strong> <a class=\"ProveItLink\" href=\"../__pv_it/theorems/d5573d54392dad8a2060d7838ee197fa754d864f0/theorem_expr.ipynb\"><img src=\"data:image/png;base64,iVBORw0KGgoAAAANSUhEUgAAAGIAAAAVBAMAAABPrCZEAAAAMFBMVEX////MzMxUVFRERES6uroi\n",
       "IiIQEBCYmJhmZmYyMjLu7u52dnaqqqqIiIjc3NwAAACW8nlqAAAAAXRSTlMAQObYZgAAAAlwSFlz\n",
       "AAAOxAAADsQBlSsOGwAAAVNJREFUOMtjYGB4wIAd4BJn4D2AQ8IXQ+T5AjB1Goh37xZAlWOMAhpV\n",
       "gK7j/P///xMYuCYwMLx0YApAkVrU+QtIzkLXsbmjo/UAAwfQpLkMzAYQMXeYU0E6KtB1bGBgeMHA\n",
       "wMbAwPMLLnYWWQfbAjQdQB8rMDCcZGBgTsCugxPDIwzcQP92A82auLcFmw5uBQwdj4F4OgMD/3QG\n",
       "tgNYdLBPADE5QsEAolsFiGMYGNZ/YODIwqKDJwHdCj6QSApQRwAD+xcgszU0NC00NAiug/EDhjcm\n",
       "QHTwT2Bg/47FDhYMO1gNIK5ihtqB4aoAdH+sB5G2QBmgPxKw+dwA3Q7/BiCxCYitGZahhRX3P5Dp\n",
       "GzASFkhEFCTfoYgaH0xqP9WBrnZA1/EMZDArSqo9i8x5ij0XsDcg89yROe04Mo4drqzGZ4BDYjEu\n",
       "Hcy4si3fBRwS97ALAwCotlqIZlOXOAAAAABJRU5ErkJggg==\n",
       "\" style=\"display:inline;vertical-align:middle;\" /></a><br>"
      ],
      "text/plain": [
       "<IPython.core.display.HTML object>"
      ]
     },
     "metadata": {},
     "output_type": "display_data"
    },
    {
     "data": {
      "text/html": [
       "<strong id=\"add_7_1\"><a class=\"ProveItLink\" href=\"proofs/add_7_1/thm_proof.ipynb\">add_7_1</a> (conjecture without proof):<br></strong> <a class=\"ProveItLink\" href=\"../__pv_it/theorems/5f18672bcac7c10519960b8b080ff19726d9f9870/theorem_expr.ipynb\"><img src=\"data:image/png;base64,iVBORw0KGgoAAAANSUhEUgAAAGEAAAAVBAMAAACkm51HAAAAMFBMVEX////MzMxUVFRERES6uroi\n",
       "IiIQEBCYmJhmZmYyMjLu7u52dnaqqqqIiIjc3NwAAACW8nlqAAAAAXRSTlMAQObYZgAAAAlwSFlz\n",
       "AAAOxAAADsQBlSsOGwAAAVdJREFUOMtjYGB4wIAd4BJn4D3AV4VVwheXjtMMPP////+GKsgYBTSq\n",
       "AF0p1+4dDkByAgO3RUdHDIrUos5fQHIWug4OBgYdIFnAwM3AwNcAEXOHORWkowJdRzkDw0oGBjYG\n",
       "Bh4GBiao2FlkHWwL0HRsAus4CWZvxKaDE90j560Y2hkYukFMPgNsOrgV0HQw/b9xgIFhOpjpgE0H\n",
       "+wSwd0PBAKy7/yswksCB9IwBmw6eBDQ7ePbZ/2FgSAExd4IFWkND00JDg+A6GD+g6ahg4Pm2AKIj\n",
       "GKsdLOh2ZDEwvD8AdhXXJ+yuCkD1BxfQTqYCBluQYT+w6mA3QLMjj4GB+QEoVhh4fqPr4P4HMn0D\n",
       "mg7PBQy1DAyioOjIQdPBpPZTnYGB1QFNB6NGB1CIVQBZ7Cwy5yn2xM7egMxzR+a048gfdrgyDp8B\n",
       "DonFuHQw48q2fBdwSNzDLgwAyplYwxiOYT4AAAAASUVORK5CYII=\n",
       "\" style=\"display:inline;vertical-align:middle;\" /></a><br>"
      ],
      "text/plain": [
       "<IPython.core.display.HTML object>"
      ]
     },
     "metadata": {},
     "output_type": "display_data"
    },
    {
     "data": {
      "text/html": [
       "<strong id=\"add_8_1\"><a class=\"ProveItLink\" href=\"proofs/add_8_1/thm_proof.ipynb\">add_8_1</a> (conjecture without proof):<br></strong> <a class=\"ProveItLink\" href=\"../__pv_it/theorems/acb491ca36eb20dc354d4e25b047e79f4162a9f00/theorem_expr.ipynb\"><img src=\"data:image/png;base64,iVBORw0KGgoAAAANSUhEUgAAAGEAAAAVBAMAAACkm51HAAAAMFBMVEX////MzMxUVFRERES6uroi\n",
       "IiIQEBCYmJhmZmYyMjLu7u52dnaqqqqIiIjc3NwAAACW8nlqAAAAAXRSTlMAQObYZgAAAAlwSFlz\n",
       "AAAOxAAADsQBlSsOGwAAAWVJREFUOMtjYGB4wIAd4BJn4D2AQ8IXl47TDAyrd7egCTJGAY0qwFDb\n",
       "0bSAgYFrAgNDAwMTqkWLOn8ByVnoGpZeYMxjYOAoYGAvAOsDAXeYU0E6KtB1qDEwGDMwsDEwcCvA\n",
       "dZxF1sG2AE3HTwaG/QsYTjIw8HxewFGARQcnmke4PjMw3Hdg6AYy9f/2MGDRAbQb044ChulAFsf/\n",
       "OGw62MFO5QgFAwWIP+wvMMSAAvjx/wNYdPAkoNmxzIFR/wBDCtCsBobzWUCB1tDQtNDQILgOxg9o\n",
       "Orh699wXAOkAhgnfHyx2sCRgxjcwrICuWg9kqWNzVQCaPxjA8WELtAOY5uyw+dwAzYJjC7g+MjBs\n",
       "Ato+i4H9AqoO7n8g0zeg6bi6gBkYRaJAllBHC2roMqn9BDqT1QFNB/cOkDpWAWSxs8icp9gTOzBo\n",
       "kYA7MqcdR/6ww5Vx+AxwSCzGpYMZV7blu4BD4h52YQC98GGXrtdTXgAAAABJRU5ErkJggg==\n",
       "\" style=\"display:inline;vertical-align:middle;\" /></a><br>"
      ],
      "text/plain": [
       "<IPython.core.display.HTML object>"
      ]
     },
     "metadata": {},
     "output_type": "display_data"
    },
    {
     "data": {
      "text/html": [
       "<strong id=\"add_9_1\"><a class=\"ProveItLink\" href=\"proofs/add_9_1/thm_proof.ipynb\">add_9_1</a> (conjecture without proof):<br></strong> <a class=\"ProveItLink\" href=\"../__pv_it/theorems/1513f10120e403df9c4950871daf53816b054fbd0/theorem_expr.ipynb\"><img src=\"data:image/png;base64,iVBORw0KGgoAAAANSUhEUgAAAGwAAAAVBAMAAABRZRb3AAAAMFBMVEX////MzMxUVFRERES6uroi\n",
       "IiIQEBCYmJhmZmYyMjLu7u52dnaqqqqIiIjc3NwAAACW8nlqAAAAAXRSTlMAQObYZgAAAAlwSFlz\n",
       "AAAOxAAADsQBlSsOGwAAAWtJREFUOMtjYGB4wIAd8DHgA7wHcEiwXMCn7TQDA0eHFrqo6AIGhuuY\n",
       "ikHC3Hv7GBi4JjBwxTKIobqUS2M+UJ5zAZomiPAchqUPGDgKGJgSGJgNIBLuMBX3gfLsDRi2AYXZ\n",
       "Axi4DRjYGBj4JzBw/4IIn0XWxpCFTRuzAgPPL4aTDAzrDRh4v2DTNh2bNv4GBsY/DN0Q275j07YJ\n",
       "m7b1QG3fQSaC/PYXm7ZKEIsjFAwUYMLvNzAw/mWIAQZQCoPQH2zajmGzDaTtN0MKkLPi9tmPQKo1\n",
       "NDQtNDQIoU0eqyM3MLD8BWtjwBGSbjiChOcPyJFAAIs3VG1HsfkNqJT9F4MtAwNPFsN6AWzairFG\n",
       "dwIDxwRQIPNGMZgzoGnbD0pt3RjaQMIxDMsEGESBnN0dDmjalPInFTAwhKDrAguv2KvIwMAqgCx+\n",
       "FiXDBeDON6jp1R2ZA0zluIEdTpnH+LLpYjIMBPkAV97nfYBbEwDmw3fJKQ9dDgAAAABJRU5ErkJg\n",
       "gg==\n",
       "\" style=\"display:inline;vertical-align:middle;\" /></a><br>"
      ],
      "text/plain": [
       "<IPython.core.display.HTML object>"
      ]
     },
     "metadata": {},
     "output_type": "display_data"
    }
   ],
   "source": [
    "add_0_1, add_1_1, add_2_1, add_3_1, add_4_1, add_5_1, add_6_1, add_7_1, add_8_1, add_9_1 = [Equals(Add(num(n), num(1)), num(n+1)) for n in range(10)]"
   ]
  },
  {
   "cell_type": "code",
   "execution_count": 19,
   "metadata": {},
   "outputs": [
    {
     "data": {
      "text/html": [
       "<strong id=\"add_0_2\"><a class=\"ProveItLink\" href=\"proofs/add_0_2/thm_proof.ipynb\">add_0_2</a> (conjecture without proof):<br></strong> <a class=\"ProveItLink\" href=\"../__pv_it/theorems/644354a7c5b98eaede7c1c043532e398122861ad0/theorem_expr.ipynb\"><img src=\"data:image/png;base64,iVBORw0KGgoAAAANSUhEUgAAAGEAAAAVBAMAAACkm51HAAAAMFBMVEX////MzMxUVFRERES6uroi\n",
       "IiIQEBCYmJhmZmYyMjLu7u52dnaqqqqIiIjc3NwAAACW8nlqAAAAAXRSTlMAQObYZgAAAAlwSFlz\n",
       "AAAOxAAADsQBlSsOGwAAAVxJREFUOMt1kz1LxDAYx//lzku1L3Zxr4Or1y+guN0kHEI34W44bvVG\n",
       "xwM5LAhScBDEoSCKm8X9wFXkwE8gBXHWQRDfOJ8kIE3aZEnze/LLkydNABSobyYO784Q2DYZD4Az\n",
       "PVaZn5wE8Eb6VIGxlALnuFS38AznHTjTDYntEVgXTiRZR3brwBDY1w2JW0AjhPsl2Ux2exnaBVqZ\n",
       "Zkh8DyyPYf0oxhrQDrCoFyLxEXBDxodiUOvRgYTVcyJ8CrzmsH41gwOW8i87Fi38x7vS+NaMBZrh\n",
       "9ispOB7QrnI0eY5JHA/jeEeEDviCbxWD44Go3FUrB+ObaFZyCEy7akRg6unSRfALuF29DoE3yOzD\n",
       "ThXDyuFlYJGWQuJbkecqUIyXJJnQ6rlmSLxCX9fTVShGbz7/pIPZ0n+GxEGZzZQl6y87G5dHnfLg\n",
       "0PA+Nk0Px48MgQuT0TA9W//REHiqx38jV19V3KJvsAAAAABJRU5ErkJggg==\n",
       "\" style=\"display:inline;vertical-align:middle;\" /></a><br>"
      ],
      "text/plain": [
       "<IPython.core.display.HTML object>"
      ]
     },
     "metadata": {},
     "output_type": "display_data"
    },
    {
     "data": {
      "text/html": [
       "<strong id=\"add_1_2\"><a class=\"ProveItLink\" href=\"proofs/add_1_2/thm_proof.ipynb\">add_1_2</a> (conjecture without proof):<br></strong> <a class=\"ProveItLink\" href=\"../__pv_it/theorems/071c92b07cd9f83ed9db4e03bec8b83984ee19330/theorem_expr.ipynb\"><img src=\"data:image/png;base64,iVBORw0KGgoAAAANSUhEUgAAAGEAAAAVBAMAAACkm51HAAAAMFBMVEX////MzMxUVFRERES6uroi\n",
       "IiIQEBCYmJhmZmYyMjLu7u52dnaqqqqIiIjc3NwAAACW8nlqAAAAAXRSTlMAQObYZgAAAAlwSFlz\n",
       "AAAOxAAADsQBlSsOGwAAAVVJREFUOMt1k79LAzEUx7/FXq9e78I5dBSkIDjZ/gPqLdpJECGbUJHS\n",
       "td10FErxwKXoILh44OJYXDt4q5SCf4E9kO4OggjKmaSIuVwSCHk/8sl7ycsDkEA/THZ4scGxbyIm\n",
       "bFajrI2E1z68nrqVjPsB4AzhbNwpxBsqH8CtSjzA/QbK/KTZH9FcLJtABzhTiVnsfAElyMR0sXQj\n",
       "1BOUlMjYC8CIZx2xDtR9LOcuAvcTuNQRbLSAylqO2GWH3OiJwg9gD7lUpmIIerXmA0d6wmI73ON8\n",
       "Vuyt2v/EgNIOpYfC1edx3vPVY2/S1saweRJFNcYKsBMbspqAJHAPlHukESe2dERhBC+C3VBinIis\n",
       "Hrn4lGSJeRgO2OkjhTgV9agyqda96mWIVpqy4lqBQhRD/hMtX7ZNZWWu/+z2uaw1ZeXC0B/bpsYh\n",
       "DYPj3kQsmdqWvBgcr3rzLzJ0XuPpz/fFAAAAAElFTkSuQmCC\n",
       "\" style=\"display:inline;vertical-align:middle;\" /></a><br>"
      ],
      "text/plain": [
       "<IPython.core.display.HTML object>"
      ]
     },
     "metadata": {},
     "output_type": "display_data"
    },
    {
     "data": {
      "text/html": [
       "<strong id=\"add_2_2\"><a class=\"ProveItLink\" href=\"proofs/add_2_2/thm_proof.ipynb\">add_2_2</a> (conjecture without proof):<br></strong> <a class=\"ProveItLink\" href=\"../__pv_it/theorems/3e052b2e10cb3283e6a7942c91dbc179a0e444b90/theorem_expr.ipynb\"><img src=\"data:image/png;base64,iVBORw0KGgoAAAANSUhEUgAAAGEAAAAVBAMAAACkm51HAAAAMFBMVEX////MzMxUVFRERES6uroi\n",
       "IiIQEBCYmJhmZmYyMjLu7u52dnaqqqqIiIjc3NwAAACW8nlqAAAAAXRSTlMAQObYZgAAAAlwSFlz\n",
       "AAAOxAAADsQBlSsOGwAAAXNJREFUOMt1kzFLw0AUx/+NbdPa9uzi5GApuJr4AdRunYQiBByEFpGu\n",
       "BiddpCDFiEvBQXAq+AWCX0BXKYUsLg6lIAUnqeKioPFdgpi76x0hd+//7vfeu0segDFmD52O0r3G\n",
       "saUjBsDL+ZqoMe+yjJKrbk51gPkemI27muB4RuEDuFaJTAXIuTDGyLZipR5Pq0AbOFKJRyKy9HzB\n",
       "+ImVYTwd9GFRmL5S1DERD4DRgPEmECuAVUZeOUghT8RFXN9UIGg0yV+RiREnrqLlciARqW/A7PFV\n",
       "zokGp5nLid1owzYkgl9KsSUXBU7sR3Fs/u46TttxYviU55lKxMk/cQgph8mLSEs5WIC/qoo+XkVi\n",
       "ADZGsSGeI12tWns+1klcAp4EIuWj1IdpK18wS+AtZdvxvIZATDyvS9F9hVigIIt0L2EY9gSiGYaf\n",
       "pNdkILf5HiBTTkrDpDGZ/bObnaRVTxpnmv7Y0DUOszWOGx0xp2tbFmgco9nyL4YyU2U7ElOyAAAA\n",
       "AElFTkSuQmCC\n",
       "\" style=\"display:inline;vertical-align:middle;\" /></a><br>"
      ],
      "text/plain": [
       "<IPython.core.display.HTML object>"
      ]
     },
     "metadata": {},
     "output_type": "display_data"
    },
    {
     "data": {
      "text/html": [
       "<strong id=\"add_3_2\"><a class=\"ProveItLink\" href=\"proofs/add_3_2/thm_proof.ipynb\">add_3_2</a> (conjecture without proof):<br></strong> <a class=\"ProveItLink\" href=\"../__pv_it/theorems/003650d4f0733c0b8571ec0097a8ad07f17325ab0/theorem_expr.ipynb\"><img src=\"data:image/png;base64,iVBORw0KGgoAAAANSUhEUgAAAGEAAAAVBAMAAACkm51HAAAAMFBMVEX////MzMxUVFRERES6uroi\n",
       "IiIQEBCYmJhmZmYyMjLu7u52dnaqqqqIiIjc3NwAAACW8nlqAAAAAXRSTlMAQObYZgAAAAlwSFlz\n",
       "AAAOxAAADsQBlSsOGwAAAXtJREFUOMt1k79Lw0AUx7+xP1LbJs3iXgfByXaog4PiVhdBhCCoUMHa\n",
       "waUZXYSCFAMOFkSETgF3LZ0cu0opFf8ACUhBcHFwaanUdznB5JJ7w13uvfvkfe/dPQAuok3mh9aT\n",
       "BLZDHgV4oKkPfD6VgiHdvjGgWSKRHN/uA+kW0g0Mg4nekfkG2iKRqB84QMqCNsVji/vKfFoBasCZ\n",
       "SMzxTEC8itwfMeBT3UHBRdKJJJ69cWgFiCWgYGDeiiSu2BDfQ4AgqwCZvEicdw3gjlXtdVEklB9A\n",
       "9aSmTM8YHXN0KsghV9UTiATtyB6FL2kVqPLzT2hommbNNHc9xwXL8xUmrl1GKAZi02AOlYmIiznW\n",
       "iDCYqtwkRPShu8juCOc4oRIC6yQpz1X9E0oHmgO1KOToAMdAlyRY4n2MbLtJf+8IxAe0U2CBvrbs\n",
       "UrC6ldlsTPXahPhAl+kZJAy/b+BfjKK7QG34V2X/4lLSOBuyVtOLksC9jIjJ2lZ/kQTeot2/vcJY\n",
       "XiAuGuAAAAAASUVORK5CYII=\n",
       "\" style=\"display:inline;vertical-align:middle;\" /></a><br>"
      ],
      "text/plain": [
       "<IPython.core.display.HTML object>"
      ]
     },
     "metadata": {},
     "output_type": "display_data"
    },
    {
     "data": {
      "text/html": [
       "<strong id=\"add_4_2\"><a class=\"ProveItLink\" href=\"proofs/add_4_2/thm_proof.ipynb\">add_4_2</a> (conjecture without proof):<br></strong> <a class=\"ProveItLink\" href=\"../__pv_it/theorems/863446cfb0948b5c81eff42f38af324236cb76b60/theorem_expr.ipynb\"><img src=\"data:image/png;base64,iVBORw0KGgoAAAANSUhEUgAAAGEAAAAVBAMAAACkm51HAAAAMFBMVEX////MzMxUVFRERES6uroi\n",
       "IiIQEBCYmJhmZmYyMjLu7u52dnaqqqqIiIjc3NwAAACW8nlqAAAAAXRSTlMAQObYZgAAAAlwSFlz\n",
       "AAAOxAAADsQBlSsOGwAAAXRJREFUOMt1k79Lw0AUx7+ltmnTJmQRBRcpOIm2ILopwaWTIEI2oSJS\n",
       "EAQzuilKNeAiKghOAf+B6CS4uEopdnSSgBQnQfAHdJB4d1HIvfRuuHv3ffe59979ABBicFPpMO4V\n",
       "jiUV0ebdqKyZ3pkFw02tLd1dA/oJN1dkzwtKn8AlBcxzTAAFvpPxT9TjYRpoAjuUKHYxA+S5OXL6\n",
       "p3XiYdtHNUTeJ8SjEB54FxCCxa5aKNJC5kR/zJMKCcFag9U5TojNsScbuGDWK1JE5gfQxKEUHNE4\n",
       "3XexBazypNJEjq0or8kh9Ag49LHB9gpjouU4TceJj+2Ax3knxBewa3PiDakYGk9iiMRAnxEuz2qx\n",
       "UvmelIk2zBDlZVLHrIgxL1asyzEyAQwfWo3eB6sDuBH2h0z0PK/Fdg8IkQ10dlbDos5oSiIaUcRy\n",
       "ztn0mdzuW0y2klInOekNfuzaXnJWT06OFP9jQfVxzJrCcaUisqpva3YVjufB8i+VcVi0I9ET9AAA\n",
       "AABJRU5ErkJggg==\n",
       "\" style=\"display:inline;vertical-align:middle;\" /></a><br>"
      ],
      "text/plain": [
       "<IPython.core.display.HTML object>"
      ]
     },
     "metadata": {},
     "output_type": "display_data"
    },
    {
     "data": {
      "text/html": [
       "<strong id=\"add_5_2\"><a class=\"ProveItLink\" href=\"proofs/add_5_2/thm_proof.ipynb\">add_5_2</a> (conjecture without proof):<br></strong> <a class=\"ProveItLink\" href=\"../__pv_it/theorems/49c4ddc0e34dde6301a707bd50d389221722ea2f0/theorem_expr.ipynb\"><img src=\"data:image/png;base64,iVBORw0KGgoAAAANSUhEUgAAAGIAAAAVBAMAAABPrCZEAAAAMFBMVEX////MzMxUVFRERES6uroi\n",
       "IiIQEBCYmJhmZmYyMjLu7u52dnaqqqqIiIjc3NwAAACW8nlqAAAAAXRSTlMAQObYZgAAAAlwSFlz\n",
       "AAAOxAAADsQBlSsOGwAAAXFJREFUOMt1k7FLw0AUxr8a28S2CVncKyhuNrOgdOskBiFOQjtI1zo6\n",
       "FqVYdAk4iE4B/wCLbp2ySik6uQgSKNVuVtDBQeO7BCR3yR28e3ffu1/ePXIPQIDsIdOh+zBRzAhv\n",
       "pZQ3L3JDoH3peFzI6J2b0A9E4iEMwyaKLrD7NeBDY5Q+gSuRuOv1uj40+lLlX6vHbg1oAYci0Qem\n",
       "QAFJYhS7todqgIInEH509D6LWAGqJhZShaBkAmfkV5+XeIJGg8KVFDEmuyBbx3tNIHI/gOqyleZE\n",
       "I6aXyfailWILRJ5OlJtiCoMp+9FS+6Wp6zgtx9mJhGOWZ5Yqw40JxYX2wedQ2SXmUznyVnyrgo25\n",
       "GU8MYQQo22IdN2zeoFwEWRyR60P3oFpiju0OTbdUTwdPHkdM6DnQ1/uph8WURbLp0Sn/Pxph+E23\n",
       "ronEq8+KMZPSKLmZZLeH2knu6snNiaSjNmWtZliSwLWMUGRtazxKAi/Z8h+4vVnWOJUFkgAAAABJ\n",
       "RU5ErkJggg==\n",
       "\" style=\"display:inline;vertical-align:middle;\" /></a><br>"
      ],
      "text/plain": [
       "<IPython.core.display.HTML object>"
      ]
     },
     "metadata": {},
     "output_type": "display_data"
    },
    {
     "data": {
      "text/html": [
       "<strong id=\"add_6_2\"><a class=\"ProveItLink\" href=\"proofs/add_6_2/thm_proof.ipynb\">add_6_2</a> (conjecture without proof):<br></strong> <a class=\"ProveItLink\" href=\"../__pv_it/theorems/3e2e0cb158e883fa9fbfae5dacfce527ae8167480/theorem_expr.ipynb\"><img src=\"data:image/png;base64,iVBORw0KGgoAAAANSUhEUgAAAGEAAAAVBAMAAACkm51HAAAAMFBMVEX////MzMxUVFRERES6uroi\n",
       "IiIQEBCYmJhmZmYyMjLu7u52dnaqqqqIiIjc3NwAAACW8nlqAAAAAXRSTlMAQObYZgAAAAlwSFlz\n",
       "AAAOxAAADsQBlSsOGwAAAYtJREFUOMt1kz9Iw0AUxr82tqltmnZx10FwENtZUbMVB6EI2YR2kA4O\n",
       "2s0ugqClAQcrDgVBCAiCk8VJKEpWKUVHJwlIByc7+AdFqS+pSO7RO8hd7r373ffeuzsALoY3mR1J\n",
       "R+JYlhFt+lqttGDTraM0kmW+NN66MqivA89GOC+4npB4BY45EQOmqaedTqBkB7bcYJgBSkCFE1vA\n",
       "ORAFtK9/W2cwbNrIuIjajLj0iVtAKXJiEsikMcoTuZtFDdgnmcPrPZGgVgAS44wI9x+osA0g1UDU\n",
       "YUToB1Drfrqm33z64I0OaRW46CG2zogIrdCKTEO7WfwG1ojIQ6ViomqaJdNc8Z27nk6PERVo77ZH\n",
       "pOpQP0QN1QtihGtQIC+OF5XypxEg2tBdaHkxjzhphsuYp/Aoj6JAhJpI2lCzTGODdne9U8EczsRa\n",
       "dS2rSrs3GbFkYxsYo7+ENSGeR6Hf/6R6GYwITVlkigi3thOcdIdfdnUnOMsFJzXJ+1iQPRw9K3Gc\n",
       "yghF9mz1e4njcbj5F50kYKQa8R86AAAAAElFTkSuQmCC\n",
       "\" style=\"display:inline;vertical-align:middle;\" /></a><br>"
      ],
      "text/plain": [
       "<IPython.core.display.HTML object>"
      ]
     },
     "metadata": {},
     "output_type": "display_data"
    },
    {
     "data": {
      "text/html": [
       "<strong id=\"add_7_2\"><a class=\"ProveItLink\" href=\"proofs/add_7_2/thm_proof.ipynb\">add_7_2</a> (conjecture without proof):<br></strong> <a class=\"ProveItLink\" href=\"../__pv_it/theorems/acbaee45d875e1b9faa977dc7fc784a145c3250f0/theorem_expr.ipynb\"><img src=\"data:image/png;base64,iVBORw0KGgoAAAANSUhEUgAAAGEAAAAVBAMAAACkm51HAAAAMFBMVEX////MzMxUVFRERES6uroi\n",
       "IiIQEBCYmJhmZmYyMjLu7u52dnaqqqqIiIjc3NwAAACW8nlqAAAAAXRSTlMAQObYZgAAAAlwSFlz\n",
       "AAAOxAAADsQBlSsOGwAAAXhJREFUOMt1kz9Iw0AUxr+0tqlJGrK4d9HRBlxc1GydBFGyCe0gnUQ7\n",
       "ilNRiwERCg6CU0B0rk4Kgp0EKYUurrYgdfYfoojEu4tD8pq75d5973737r13B2CA5CHTkW+b24mO\n",
       "RRnRgREEwWdMM70jC/nayF5vxwe0JvRZz1uNeZ6gfwAnFDjrKRtArgadHVoPtVI4TQNVYIsSU8AM\n",
       "kAUMIPWvdcNp00dxgKxPiG/g1se9sC/ixCRQtDBOEtHegb6DA5GpHSfYKAN6ISFGDcfcTDmUUH4B\n",
       "tcmtnCtGIcxjoQdRpGdQIsN2GBUS49xRim2scfNaCA3XrbrusrB3eZwXQmiHN30rJFZoDJVfYqwy\n",
       "2m9WK34r7Y0SHZgDGEskD4h+zPHDvgihtJD3odokwJ2vvQKXzDJ+CDH0vAY7vUWIBz/NWjTB27FO\n",
       "iHIQsNpnHELoV3u8jFZU60YXw+THrtajq1J0sS/5H/Oyj2PaEsepjEjLvq3Zkzgek+U/z9pbnch3\n",
       "6tEAAAAASUVORK5CYII=\n",
       "\" style=\"display:inline;vertical-align:middle;\" /></a><br>"
      ],
      "text/plain": [
       "<IPython.core.display.HTML object>"
      ]
     },
     "metadata": {},
     "output_type": "display_data"
    },
    {
     "data": {
      "text/html": [
       "<strong id=\"add_8_2\"><a class=\"ProveItLink\" href=\"proofs/add_8_2/thm_proof.ipynb\">add_8_2</a> (conjecture without proof):<br></strong> <a class=\"ProveItLink\" href=\"../__pv_it/theorems/e66b02a5732ad88f63b1e1a21405613e89961a650/theorem_expr.ipynb\"><img src=\"data:image/png;base64,iVBORw0KGgoAAAANSUhEUgAAAGwAAAAVBAMAAABRZRb3AAAAMFBMVEX////MzMxUVFRERES6uroi\n",
       "IiIQEBCYmJhmZmYyMjLu7u52dnaqqqqIiIjc3NwAAACW8nlqAAAAAXRSTlMAQObYZgAAAAlwSFlz\n",
       "AAAOxAAADsQBlSsOGwAAAZ9JREFUOMudk79Lw0AUx79N2yS2aSxCJweri27GP0BxsmsoBhyKdBAH\n",
       "F4tObh0qVBQpLoIIBkQRHFpcpbSLgkixm+BioIuTP3AQamu8S6n00ksHHyR37+4+97177x0AC3xT\n",
       "McgiVY+JQH0Qdg9cXudcgy87M8Bj/+KYCYTL+0CoAGQhsJKqhso8hkwXFJo6IUPHOLMgZyBlHJha\n",
       "otMIFsQ0pGyf2rMJSUdYg0hU439YrdOITQg/wBoP88ehNHEHKJ8m0ezFBB3CB3DIw4az8LWwS5zp\n",
       "9h4YjFjwHbjiYUWCfTk7yvZyHzZGwr9FO7LhWLyLvZXgayNFc9Cwq24sSb5bnhrFvrECGrEHevtt\n",
       "w1g1jKQzL2tUkXvIEgJtiokm1JZLbYP+FjxCorToIYvEn2QxpYRX4IZ3N78GqYlZokaKeY7FRoEn\n",
       "YJOb7jTkAg1y4AhSncHUpXxeh5Mc1ipEIYXzKGLEGcnn2AQEbdsmdbPopibWDzK4KI+TFdHe8RpT\n",
       "0Lr3u2HrNdHrdCuOa3OeM41Bz/T0HxvSG3i9/YjlDf0C6Bh44I5AbHYAAAAASUVORK5CYII=\n",
       "\" style=\"display:inline;vertical-align:middle;\" /></a><br>"
      ],
      "text/plain": [
       "<IPython.core.display.HTML object>"
      ]
     },
     "metadata": {},
     "output_type": "display_data"
    },
    {
     "data": {
      "text/html": [
       "<strong id=\"add_9_2\"><a class=\"ProveItLink\" href=\"proofs/add_9_2/thm_proof.ipynb\">add_9_2</a> (conjecture without proof):<br></strong> <a class=\"ProveItLink\" href=\"../__pv_it/theorems/2153d4515a96eb5d18cacb6f7cd1eff06382e8300/theorem_expr.ipynb\"><img src=\"data:image/png;base64,iVBORw0KGgoAAAANSUhEUgAAAGsAAAAVBAMAAACzuQ2OAAAAMFBMVEX////MzMxUVFRERES6uroi\n",
       "IiIQEBCYmJhmZmYyMjLu7u52dnaqqqqIiIjc3NwAAACW8nlqAAAAAXRSTlMAQObYZgAAAAlwSFlz\n",
       "AAAOxAAADsQBlSsOGwAAAWRJREFUOMtjYGB4wIAd8DHgA7wHcEiwXMCn7TQDA0eHFprgi05DBobr\n",
       "mIpFF0AJrgkMXLEMYqgu5TNg2O/AwLkATROXxvwFEIKBo4CBKYGB2QAi4Q6hmB4wsCUwsDdg2HZ/\n",
       "AZRgY2Dgn8DA/QsifBZCsf1iYPrHwJCFW9tJBob1Bgy8X1C0MQUwMH1kYJiOW1s3xLbvKNqAgPUD\n",
       "A8Mm3NqAJoL89hddmzww+CtBDI5QMFBA1RYDDKAUBqE/6NqCgPgYbttSgPSK22eBPmFoDQ1NCw0N\n",
       "AstzgIJWHr82BvSQZGAoAhFuuLXFgLmweINp49nA8I6B4Shuv9kC1WQxrBdA1SbNwHCLgaEYt23A\n",
       "QOaNYjBnQNHGF9HREQCOHDSw/wGUEAXSuzscULWx/v//fwIDQwi6LqX8SQUQglUAWfwsSoIOwJ1v\n",
       "UNOrOzIHmMpxAzucMo/xZdPFZBgI8gGuvM/7ALcmAL2ocy0acNTpAAAAAElFTkSuQmCC\n",
       "\" style=\"display:inline;vertical-align:middle;\" /></a><br>"
      ],
      "text/plain": [
       "<IPython.core.display.HTML object>"
      ]
     },
     "metadata": {},
     "output_type": "display_data"
    }
   ],
   "source": [
    "add_0_2, add_1_2, add_2_2, add_3_2, add_4_2, add_5_2, add_6_2, add_7_2, add_8_2, add_9_2 = [Equals(Add(num(n), num(2)), num(n+2)) for n in range(10)]"
   ]
  },
  {
   "cell_type": "code",
   "execution_count": 20,
   "metadata": {},
   "outputs": [
    {
     "data": {
      "text/html": [
       "<strong id=\"add_0_3\"><a class=\"ProveItLink\" href=\"proofs/add_0_3/thm_proof.ipynb\">add_0_3</a> (conjecture without proof):<br></strong> <a class=\"ProveItLink\" href=\"../__pv_it/theorems/e2558c6164b27857806e4fb827f52bd0586cae920/theorem_expr.ipynb\"><img src=\"data:image/png;base64,iVBORw0KGgoAAAANSUhEUgAAAGEAAAAVBAMAAACkm51HAAAAMFBMVEX////MzMxUVFRERES6uroi\n",
       "IiIQEBCYmJhmZmYyMjLu7u52dnaqqqqIiIjc3NwAAACW8nlqAAAAAXRSTlMAQObYZgAAAAlwSFlz\n",
       "AAAOxAAADsQBlSsOGwAAAVlJREFUOMt1kzFLxDAUx/+l1dZrr9bBUah+gn4BtYveJBxCN4dDDldv\n",
       "0/FAREGQboI4FERxs7jKQddDDvwE6uKs26GeaJIn0qRNljS/lx/vvTQB8IL6oeNoFprAhs54ANzB\n",
       "qcz8+4MYzZ66VWA0UuACV3IJN/AmwLlqEHZ6sNtwI2Itmp6LxgewrxqEpwEzhPdJbETTegweyhSD\n",
       "8BCY7cOYSAbgjYGZSiMCnwC3zBgrxhrb7YYVg+Mz4C2H8S0bC0sBYKf800nECP/xFhlfalWsTK9T\n",
       "rYrhLqsqh8VzHCbJTpJsUmw3g/Fe/XsMd0Xnntz5HLBawFJzEGZVmRFs+XR/Mh7y2kofhJdZhx04\n",
       "qWRsi/R2pOQgfAfe/XUgGXvi4J1cMQjP8/syWIRkWMf8yk3FivGHgzIblRev9Zfd7pdXrfLiSPM+\n",
       "VnQPx480gUudYeqerf+oCTzV419HhGOT8Nz42wAAAABJRU5ErkJggg==\n",
       "\" style=\"display:inline;vertical-align:middle;\" /></a><br>"
      ],
      "text/plain": [
       "<IPython.core.display.HTML object>"
      ]
     },
     "metadata": {},
     "output_type": "display_data"
    },
    {
     "data": {
      "text/html": [
       "<strong id=\"add_1_3\"><a class=\"ProveItLink\" href=\"proofs/add_1_3/thm_proof.ipynb\">add_1_3</a> (conjecture without proof):<br></strong> <a class=\"ProveItLink\" href=\"../__pv_it/theorems/6681fa22654907391bf83ea9a65ee9003481803c0/theorem_expr.ipynb\"><img src=\"data:image/png;base64,iVBORw0KGgoAAAANSUhEUgAAAGEAAAAVBAMAAACkm51HAAAAMFBMVEX////MzMxUVFRERES6uroi\n",
       "IiIQEBCYmJhmZmYyMjLu7u52dnaqqqqIiIjc3NwAAACW8nlqAAAAAXRSTlMAQObYZgAAAAlwSFlz\n",
       "AAAOxAAADsQBlSsOGwAAAUhJREFUOMtjYGB4wIAd4BJn4D2AQ8IXl47TQCy6AFWMb3ezAwNvAaZi\n",
       "xgYGBq4JDFwa89F0rGDg+cPAMAtTB6sCAwMHyKT7MB3uEOr+Aa6fDAwVmDquAnWwMSDrOAuh3BwY\n",
       "gDrYFmA4qhKo4yQ2HQwMPN8ZGDgxPMLNCdTRjV2HK1A1twK6jnsgHdOx6pBVEmBgYJ8AYnKEggFI\n",
       "N18BSEcMDlcBw4onAd1RDCAdKQgdraGhaaGhQRDZ/AUMjB/QdNSh60DYIcjAYH+AgQXNDr4LDDhd\n",
       "9X8BSAdPAKo/WJSU9JM2MNhi05EEdhW7AUYMsgE1bgIx9j9A1VEOjg+ODRg6+IGGiAJppfxJBSg6\n",
       "WDqAKZGB1QFdA4f9pwsMrALIQmeROU+xJ3b2BmSeOzKnHUf+sMOVcfgMcEgsxqWDGVe2BcYLdnAP\n",
       "uzAAME5Xj5qp/oUAAAAASUVORK5CYII=\n",
       "\" style=\"display:inline;vertical-align:middle;\" /></a><br>"
      ],
      "text/plain": [
       "<IPython.core.display.HTML object>"
      ]
     },
     "metadata": {},
     "output_type": "display_data"
    },
    {
     "data": {
      "text/html": [
       "<strong id=\"add_2_3\"><a class=\"ProveItLink\" href=\"proofs/add_2_3/thm_proof.ipynb\">add_2_3</a> (conjecture without proof):<br></strong> <a class=\"ProveItLink\" href=\"../__pv_it/theorems/0f860a1514f540378b624fd0cf502435e154d0290/theorem_expr.ipynb\"><img src=\"data:image/png;base64,iVBORw0KGgoAAAANSUhEUgAAAGEAAAAVBAMAAACkm51HAAAAMFBMVEX////MzMxUVFRERES6uroi\n",
       "IiIQEBCYmJhmZmYyMjLu7u52dnaqqqqIiIjc3NwAAACW8nlqAAAAAXRSTlMAQObYZgAAAAlwSFlz\n",
       "AAAOxAAADsQBlSsOGwAAAXxJREFUOMt1kz1Iw0AUx/9NP61piIOTiOLkZhwcHNQs2kkoQkDUofg1\n",
       "uLS46CIIIkY62EUEp4CLk5SuDnYVKXR20C5CJ6kgSEWML3cOuWvuCHlf97v3knsPQBvRS+VHrqEI\n",
       "LPd5YsAdiSegcz4thoz7Exu5skykepdrQLYKw8KDLYRuof8A1zKRLK17QKYMrY1UkfvyXLw2sj3g\n",
       "UCY0nomeb2i/3NfkYskGESkvkngkpQDtQyAA/QsYKEcSFV5hVyIWaffguEwc1U3giuljLZEYnaBQ\n",
       "uhqoGYetgI57xiewwXasQK6K/pVe7L+kGWCbnWMF71PH2XWcf7jkIdbtJy7anNiHmGMIWGggIeeY\n",
       "JcJkVek1vAuE7wWEXpC+YweYAuZIGwGeBWKTVZW2pBw1YAuoUxetum5BIA7YfWRqEtFBbg8Ypsvw\n",
       "fb8qEAmXOhFJWyIMd5LaIGmGfc2w8RY9BenjsJUPG2eKwZlXjZphKQI3KiKuGlujpQi8RLv/AOIo\n",
       "WWymLqW2AAAAAElFTkSuQmCC\n",
       "\" style=\"display:inline;vertical-align:middle;\" /></a><br>"
      ],
      "text/plain": [
       "<IPython.core.display.HTML object>"
      ]
     },
     "metadata": {},
     "output_type": "display_data"
    },
    {
     "data": {
      "text/html": [
       "<strong id=\"add_3_3\"><a class=\"ProveItLink\" href=\"proofs/add_3_3/thm_proof.ipynb\">add_3_3</a> (conjecture without proof):<br></strong> <a class=\"ProveItLink\" href=\"../__pv_it/theorems/519e7a28b3bc7bc76dfbe9885496efac40cfbd340/theorem_expr.ipynb\"><img src=\"data:image/png;base64,iVBORw0KGgoAAAANSUhEUgAAAGEAAAAVBAMAAACkm51HAAAAMFBMVEX////MzMxUVFRERES6uroi\n",
       "IiIQEBCYmJhmZmYyMjLu7u52dnaqqqqIiIjc3NwAAACW8nlqAAAAAXRSTlMAQObYZgAAAAlwSFlz\n",
       "AAAOxAAADsQBlSsOGwAAAYBJREFUOMt1kz9IAzEUxr/S6x+v12sdnESognvB6qbeonURRDhcHESK\n",
       "IAjepluLohZcOgiC04GLm9Wp0OVWkdLi5KQuTi4uIi2F+i4RvHs2GZK89/LL+/KSAHjD8KbyI+0p\n",
       "Aqsq4hH4aBTCPrN5bCHt/Fubat4Beg16Be1wohsYfeCKA+YFpoGkg3QftzXpK8rh1dO7wCEnRjqY\n",
       "AeKAVkLml2jJYdkCEXGXEW3heJBzJ0QAxjdtyQ8yJ/pzv9M2wIglWp3KMWJ3/NkCLmkWeZpkxMRU\n",
       "FkgIqUlbNJ/uOtgDNqUqj6uiWhlb4RT6ADh1URJGvEfdiW3v2Pa6DO+7iHwy4gsoWz4RySLaD+UY\n",
       "BRY9aCyHX7+y46vK9DgxcH3CWGPnmBU55klSTqr6I7aFqkSe3wedA7inmjj8Pg7EfSTrjIjWdarV\n",
       "GM1WqoVwdbUqvUTELP5MGkdU9Fg26GoFjffhjz1RCVrFoHGm+B8Lqo9j5hWBaxURVX1bs6MIvAx3\n",
       "/wBO31+WfFL22AAAAABJRU5ErkJggg==\n",
       "\" style=\"display:inline;vertical-align:middle;\" /></a><br>"
      ],
      "text/plain": [
       "<IPython.core.display.HTML object>"
      ]
     },
     "metadata": {},
     "output_type": "display_data"
    },
    {
     "data": {
      "text/html": [
       "<strong id=\"add_4_3\"><a class=\"ProveItLink\" href=\"proofs/add_4_3/thm_proof.ipynb\">add_4_3</a> (conjecture without proof):<br></strong> <a class=\"ProveItLink\" href=\"../__pv_it/theorems/d45f6ec5d96e68100b0a76be43e46290f3b779470/theorem_expr.ipynb\"><img src=\"data:image/png;base64,iVBORw0KGgoAAAANSUhEUgAAAGIAAAAVBAMAAABPrCZEAAAAMFBMVEX////MzMxUVFRERES6uroi\n",
       "IiIQEBCYmJhmZmYyMjLu7u52dnaqqqqIiIjc3NwAAACW8nlqAAAAAXRSTlMAQObYZgAAAAlwSFlz\n",
       "AAAOxAAADsQBlSsOGwAAAWNJREFUOMtjYGB4wIAd4BJn4D2AQ8IXQ+T5AjB1GkRIoErx7W52YOAt\n",
       "QNdx/v///wkMXBNA7CBUqRUMPH8YGGah69jc0dF6gIEDZBIvTIc7hLp/gOsnA0MFuo4NDAwvGBjY\n",
       "QEzxSVCxsxDKzYEBqINtAZoOoI8VGBhOgjWj6WBg4PnOwMCJ4REGbgEGhm6Qox5g6HAFquZWwNDx\n",
       "GIing0KNAV2HrBLQMHZwoHCEggFEtwoQx4B9hOkqYFjxJKBbwQcSSQGa9QCiozU0NC00FBps+QsY\n",
       "GD9geGMCRMdbBnQ7BBkY7A8wsGDYwWoAcZWTktI3bRQd/xeAdPAEoPtjPYi0BStJQrUjCewqdgN0\n",
       "O/wbgMQmMPMzqo5ycHxwbMBIWCARURCr+b8uig6WDmBKZGB1QNfxDJTOWQWQhc4ic55izwXsDcg8\n",
       "d2ROO46MY4crq/EZ4JBYjEsHM65sy3cBh8Q97MIAOFVaON5Xn60AAAAASUVORK5CYII=\n",
       "\" style=\"display:inline;vertical-align:middle;\" /></a><br>"
      ],
      "text/plain": [
       "<IPython.core.display.HTML object>"
      ]
     },
     "metadata": {},
     "output_type": "display_data"
    },
    {
     "data": {
      "text/html": [
       "<strong id=\"add_5_3\"><a class=\"ProveItLink\" href=\"proofs/add_5_3/thm_proof.ipynb\">add_5_3</a> (conjecture without proof):<br></strong> <a class=\"ProveItLink\" href=\"../__pv_it/theorems/8e379066d9a0f067b8793666cfff6d0598b9b34a0/theorem_expr.ipynb\"><img src=\"data:image/png;base64,iVBORw0KGgoAAAANSUhEUgAAAGEAAAAVBAMAAACkm51HAAAAMFBMVEX////MzMxUVFRERES6uroi\n",
       "IiIQEBCYmJhmZmYyMjLu7u52dnaqqqqIiIjc3NwAAACW8nlqAAAAAXRSTlMAQObYZgAAAAlwSFlz\n",
       "AAAOxAAADsQBlSsOGwAAAYFJREFUOMt1kztIA0EQhv88TOJ5OWJhKUQbLSxSBzTXaLAQgnBWFiJi\n",
       "YWHSJY0QFEnQwnQSqwMb7cRKDMi1IkErEQRNI9glFlEEMc7tgdwOt1vs45/5dmZ3dgF0ENxUOpIO\n",
       "UtACzEsq4g4oNi1b0ozWnolkibtqrSuT+gaw0r+WTWfQf4ATTiSAGeppp/S/lveGV0f7BiqcKAPn\n",
       "QAx+ou0NCyaIiNmMuBTEbRAB6F/AMD/IfRY14JBmU88TnJgn75E0I8KDJwc4plkWXVMmxidTQLwh\n",
       "jmuJJuijPlVhVXhECjwruit9jcXQb3Ikb3j39kvdvmVtWtayZy3aCPUYUYH+abtEpIHEhxRjFMg5\n",
       "iPIYW0DXcbOKFRDuScTAdgm9IJ9DI6dwCbN0JwRlJGJdZBXPsBjblE/HrYpRxaMtEWVRj8QFIxZt\n",
       "7ABjNHvfPZDrEa3TS8SQyYjQdN2VU36t7V+8BT/2eNW/yvsXNcX/mFN9HCOjMJyqiIjq2xoPCsNL\n",
       "sPwHWElf5NmvxsYAAAAASUVORK5CYII=\n",
       "\" style=\"display:inline;vertical-align:middle;\" /></a><br>"
      ],
      "text/plain": [
       "<IPython.core.display.HTML object>"
      ]
     },
     "metadata": {},
     "output_type": "display_data"
    },
    {
     "data": {
      "text/html": [
       "<strong id=\"add_6_3\"><a class=\"ProveItLink\" href=\"proofs/add_6_3/thm_proof.ipynb\">add_6_3</a> (conjecture without proof):<br></strong> <a class=\"ProveItLink\" href=\"../__pv_it/theorems/7a96df65d9307e33d2a7cf30c3c4e0d67fa8f0c60/theorem_expr.ipynb\"><img src=\"data:image/png;base64,iVBORw0KGgoAAAANSUhEUgAAAGEAAAAVBAMAAACkm51HAAAAMFBMVEX////MzMxUVFRERES6uroi\n",
       "IiIQEBCYmJhmZmYyMjLu7u52dnaqqqqIiIjc3NwAAACW8nlqAAAAAXRSTlMAQObYZgAAAAlwSFlz\n",
       "AAAOxAAADsQBlSsOGwAAAYdJREFUOMt1kz1Iw0AYht+atolJ+uPgKFQHVwuOombRTkIRsjkEEQcH\n",
       "7aaj+IMFEepUEAoHYnFTnIQqZhJECl1crYuDW0WhKIJ+SURz19xByN373XPf3x2AJ0QPmY6UKzHM\n",
       "yYh7+hqNLKelG9sWUqWeveUtBugV4MXqK3KWU5hfwJEInLRiq4BGJ9Wg5AOtEPzarv4BbIjEKDAO\n",
       "JAHz809rBr9ZC0QkmUCQdsNwByiOSNApXaBfSER/I+8W9umsw+sdkZih3UYuwkcJVSBTRdLliaER\n",
       "Kp5a8aaa7Y9ckMd0CwvAWQfaihgV1cp0BB91KzbmYomIItR3EnZte9m25wPrGkOsIxD6wVU76xGZ\n",
       "CtQu52OA3LuIO739plpRVMqvj3/im3mEWRTygN+PSYqX8nA4YtGPSs0LDm6Z/gpc0GwCdb5W634/\n",
       "tHOBeGAKFX2QZkZ5mO9HvEw3EQlLIIxLr28J7tY2w4vn6MuuboZXhfBiT/I+pmQPJ52XGI5lhCJ7\n",
       "tumWxPAYLf8ATYNjcJzsNkoAAAAASUVORK5CYII=\n",
       "\" style=\"display:inline;vertical-align:middle;\" /></a><br>"
      ],
      "text/plain": [
       "<IPython.core.display.HTML object>"
      ]
     },
     "metadata": {},
     "output_type": "display_data"
    },
    {
     "data": {
      "text/html": [
       "<strong id=\"add_7_3\"><a class=\"ProveItLink\" href=\"proofs/add_7_3/thm_proof.ipynb\">add_7_3</a> (conjecture without proof):<br></strong> <a class=\"ProveItLink\" href=\"../__pv_it/theorems/a8f06aaa8b63b7c80508b9173ae185a4de50ebca0/theorem_expr.ipynb\"><img src=\"data:image/png;base64,iVBORw0KGgoAAAANSUhEUgAAAGwAAAAVBAMAAABRZRb3AAAAMFBMVEX////MzMxUVFRERES6uroi\n",
       "IiIQEBCYmJhmZmYyMjLu7u52dnaqqqqIiIjc3NwAAACW8nlqAAAAAXRSTlMAQObYZgAAAAlwSFlz\n",
       "AAAOxAAADsQBlSsOGwAAAY5JREFUOMudkz1Iw0AUx/9pa1KT9GPpbHVy7ODgojhZx6IGlw4OxUEE\n",
       "A046ZREKBQkuLoIBUbq1OulQ7KIgUioujhYEFwfBQSVNqZdLheZy6eAbjnvv3e/ufdwD0AFfkhgl\n",
       "iWZyj+uIPY7CHqD2+/0vv/H9agZ4Dh7OWIDSOABkE8psuVz0eWUD7SbGLQaSp0+I6RhnHcR1KCQP\n",
       "w3PkB4E7qJmQjMBrLxakApQcREAFIgNza5BWCSkT2ORh0SxUG/dUvfBjRNo6cMTDUgYEBxVa6xyL\n",
       "xdbIcsnDagT79m6MLDCY8DRJ1l13G9eoZP+wjzqEHmgJ3xAMsgnc8V5zsS5KrnZNbfuatqFpy94B\n",
       "0QYmuEHWEet52ArzmpBG1AEWQ0qiOjRI+ZPBUjbFbnm5RXOQbMy5ZfthMDFLg9zhtnsdcZMWWe0y\n",
       "mKTTvlUC2A0ZlyLO08i4bdtiK7lUJl8Zqyw1tX2oo9ogzRlLD9tbvoErhM+N/7/mhxXyy8NlPtTz\n",
       "OmpMT/9xoZtB2OwnOuHQL3h+ccpOpwJLAAAAAElFTkSuQmCC\n",
       "\" style=\"display:inline;vertical-align:middle;\" /></a><br>"
      ],
      "text/plain": [
       "<IPython.core.display.HTML object>"
      ]
     },
     "metadata": {},
     "output_type": "display_data"
    },
    {
     "data": {
      "text/html": [
       "<strong id=\"add_8_3\"><a class=\"ProveItLink\" href=\"proofs/add_8_3/thm_proof.ipynb\">add_8_3</a> (conjecture without proof):<br></strong> <a class=\"ProveItLink\" href=\"../__pv_it/theorems/99247a5e6441d295cd9e78819c8f1096ae89ffb50/theorem_expr.ipynb\"><img src=\"data:image/png;base64,iVBORw0KGgoAAAANSUhEUgAAAGsAAAAVBAMAAACzuQ2OAAAAMFBMVEX////MzMxUVFRERES6uroi\n",
       "IiIQEBCYmJhmZmYyMjLu7u52dnaqqqqIiIjc3NwAAACW8nlqAAAAAXRSTlMAQObYZgAAAAlwSFlz\n",
       "AAAOxAAADsQBlSsOGwAAAVtJREFUOMtjYGB4wIAd8DHgA7wHcEiwXMCn7TQDw+rdLWiCr3eYMDBc\n",
       "x1QsugBKcE1gYGhgYEK1kquB4fwBBs4FaJq4NOYvgBAMHAUM7AVgzSDgDnX4H4b1ExjYGzBsu78A\n",
       "SrAxMHArwLWdhXorhYEfKJKFW9tJBgaezwuAdiJrA4LzQJHpuLV1A2n9vz0MaNpYwoHEJtzaQCZy\n",
       "/I9D08Z4SRFIVoKYHKFgoICqLQYUB4//H8BwJFDkGG7bUhhAIXYe5PvW0NC00NAgiAK2XwwM8ni1\n",
       "sS1g4PuDYhujAAMzUMQNtzagI9cDmeoo2vh/gbUdxe03W6BtwMRsh6KNTQHsyGLctgEDmWUWA/sF\n",
       "FG3AdAOKt24MbfsfQAlRIC3U0YIWAR4dwKTMEIKuSyl/UgGEYBVAFj+LkuECcOcb1PTqjsyBpTis\n",
       "wA6nzGN82XQxGQaCfIAr7/M+wK0JADWRd2B9K4iGAAAAAElFTkSuQmCC\n",
       "\" style=\"display:inline;vertical-align:middle;\" /></a><br>"
      ],
      "text/plain": [
       "<IPython.core.display.HTML object>"
      ]
     },
     "metadata": {},
     "output_type": "display_data"
    },
    {
     "data": {
      "text/html": [
       "<strong id=\"add_9_3\"><a class=\"ProveItLink\" href=\"proofs/add_9_3/thm_proof.ipynb\">add_9_3</a> (conjecture without proof):<br></strong> <a class=\"ProveItLink\" href=\"../__pv_it/theorems/627d93e92138e9a388dfea6ca02e27aa8b16a0c80/theorem_expr.ipynb\"><img src=\"data:image/png;base64,iVBORw0KGgoAAAANSUhEUgAAAGwAAAAVBAMAAABRZRb3AAAAMFBMVEX////MzMxUVFRERES6uroi\n",
       "IiIQEBCYmJhmZmYyMjLu7u52dnaqqqqIiIjc3NwAAACW8nlqAAAAAXRSTlMAQObYZgAAAAlwSFlz\n",
       "AAAOxAAADsQBlSsOGwAAAZVJREFUOMudkz1Iw0AUx/9N2zRG0xahLg6tTuIUQXBSOlnHUgyKVOhQ\n",
       "HLoYdHLrIkS6BBfHBlzcKk6CQ7soiJQWF0EHAy6CIBYEoVTrJanQSy4dfJC73Lv73fu6B8AEW6IY\n",
       "JVLDZyPUHoXdAYI271K+XS4CD97DCQN4PVoARB3iNqZoT8UyWg2MGS5InKsaiMqopyGo4AoIys5G\n",
       "ZuB4DzUdkbLH2rMBzgRfAA/EdIx3HXVzEFbRUqLEwvguuB/cAjUZ0ieFEWmpwAnTWhZcBxXH2pcL\n",
       "C22Q4YKFEQl/WDdasX3TWOB+howH1q+g2JIawpJt5EmCipjseZwk5bzxsZYDimQ6e2p2yHSoKDuK\n",
       "knMOkMiRZGOC7GBwZzIQR5DYX2Vje+TL28u/ug2wWNfGrpmxTZzjHctkLqEWpzA+ZTu5z7Q2DTxa\n",
       "SZa2sAQKi6h23SoerG4iuqlpWSTI4kpL0xjWNPKUse6mZneP1XC/39cRjg/rm1TDZf37hn6vmeEF\n",
       "eeX+suK78zKqTU//caEVgV/vS6Y/9AucVHIzLsoPAgAAAABJRU5ErkJggg==\n",
       "\" style=\"display:inline;vertical-align:middle;\" /></a><br>"
      ],
      "text/plain": [
       "<IPython.core.display.HTML object>"
      ]
     },
     "metadata": {},
     "output_type": "display_data"
    }
   ],
   "source": [
    "add_0_3, add_1_3, add_2_3, add_3_3, add_4_3, add_5_3, add_6_3, add_7_3, add_8_3, add_9_3 = [Equals(Add(num(n), num(3)), num(n+3)) for n in range(10)]"
   ]
  },
  {
   "cell_type": "code",
   "execution_count": 21,
   "metadata": {},
   "outputs": [
    {
     "data": {
      "text/html": [
       "<strong id=\"add_0_4\"><a class=\"ProveItLink\" href=\"proofs/add_0_4/thm_proof.ipynb\">add_0_4</a> (conjecture without proof):<br></strong> <a class=\"ProveItLink\" href=\"../__pv_it/theorems/ef31f01ce64435d6cbca42359a7711a7e9bb60680/theorem_expr.ipynb\"><img src=\"data:image/png;base64,iVBORw0KGgoAAAANSUhEUgAAAGEAAAAVBAMAAACkm51HAAAAMFBMVEX////MzMxUVFRERES6uroi\n",
       "IiIQEBCYmJhmZmYyMjLu7u52dnaqqqqIiIjc3NwAAACW8nlqAAAAAXRSTlMAQObYZgAAAAlwSFlz\n",
       "AAAOxAAADsQBlSsOGwAAAVVJREFUOMt1k79Lw0AYht/QtElNmnZxj/0HzD/gj62TUIRsDkXEOaMu\n",
       "JYs4CJJNEAdBFDeDe8FVpNDFtbg4Ky6CP8DvuzSSu8vdktzz5uG+7y4H4AX1w8TReTAEWybjCfAm\n",
       "pyq1UnQS/WPCWMqAC1yrJTRD4Fw3GLsJnCG8qCCDMnqm6EA3GLeARgj/qyDTcvVDji61ohg/At0U\n",
       "1o9seG2K2lojAp8Ad2R8ysacIy9UDYHPgLcc1q9kBAlHTsbvbixG+I93CuNbMjxw5I/UogTeo6py\n",
       "2LzGURzvx/E2vY1FZL0rxrg0qHNf6jyYichW1lhgqqoRwZF21+73V3dz+EO5jwVeow5HcDN5r9Di\n",
       "ziPtBBnfg9e56SlGl752c81gvEzP28kKZMPd+JihuakKBe5V0bQ6ea3/2Z20OhtUJ8eG+7FuujhB\n",
       "ZAiuTEbDdG3pXOrHvB7/ARTeUK1hXq42AAAAAElFTkSuQmCC\n",
       "\" style=\"display:inline;vertical-align:middle;\" /></a><br>"
      ],
      "text/plain": [
       "<IPython.core.display.HTML object>"
      ]
     },
     "metadata": {},
     "output_type": "display_data"
    },
    {
     "data": {
      "text/html": [
       "<strong id=\"add_1_4\"><a class=\"ProveItLink\" href=\"proofs/add_1_4/thm_proof.ipynb\">add_1_4</a> (conjecture without proof):<br></strong> <a class=\"ProveItLink\" href=\"../__pv_it/theorems/3978d8ea4924c5cff683fbb039700d8ccb67731d0/theorem_expr.ipynb\"><img src=\"data:image/png;base64,iVBORw0KGgoAAAANSUhEUgAAAGEAAAAVBAMAAACkm51HAAAAMFBMVEX////MzMxUVFRERES6uroi\n",
       "IiIQEBCYmJhmZmYyMjLu7u52dnaqqqqIiIjc3NwAAACW8nlqAAAAAXRSTlMAQObYZgAAAAlwSFlz\n",
       "AAAOxAAADsQBlSsOGwAAAUhJREFUOMtjYGB4wIAd4BJn4D2AQ8IXQ4SRgWEdkDoNxKILMCQbGHgL\n",
       "0AXZfk6NYmDgmsDApTEfQwerAgPDLAzB/GigQg6QSfdhOtxhkleBOirQdTBBbGJA1nEW5qhKoA62\n",
       "BVh1nMSqg5sTqIOzAKuObqw67oF0cCug66jdJMDAMB2bDr4CkA72CSA2RygYgHQzL+D7wsAQg00H\n",
       "NwNIB08CZiSZMjCkIHS0hoamhYYGAVl1YB2MHzB19D9A1gG3g+8CWAcLuh2WQB0CWF3FoqSkn7SB\n",
       "gScAzR+pDAz6DAy2WMOKgQ3kcwM0OzYwMCQzMGwCMfc/QNfBD1TNsQFNxwsG3ixgIgSylPInFaDq\n",
       "4LD/dIGB1QFNB1+HBtAxrALIYmeROU+x5wL2BmSeOzKnHUfGscOV1fgMcEgsxqWDGVe2BUYXdnAP\n",
       "uzAAW8RSBIxeW2kAAAAASUVORK5CYII=\n",
       "\" style=\"display:inline;vertical-align:middle;\" /></a><br>"
      ],
      "text/plain": [
       "<IPython.core.display.HTML object>"
      ]
     },
     "metadata": {},
     "output_type": "display_data"
    },
    {
     "data": {
      "text/html": [
       "<strong id=\"add_2_4\"><a class=\"ProveItLink\" href=\"proofs/add_2_4/thm_proof.ipynb\">add_2_4</a> (conjecture without proof):<br></strong> <a class=\"ProveItLink\" href=\"../__pv_it/theorems/be67d7483c0607f26d2be1e4a85afa962813dcdb0/theorem_expr.ipynb\"><img src=\"data:image/png;base64,iVBORw0KGgoAAAANSUhEUgAAAGEAAAAVBAMAAACkm51HAAAAMFBMVEX////MzMxUVFRERES6uroi\n",
       "IiIQEBCYmJhmZmYyMjLu7u52dnaqqqqIiIjc3NwAAACW8nlqAAAAAXRSTlMAQObYZgAAAAlwSFlz\n",
       "AAAOxAAADsQBlSsOGwAAAXxJREFUOMt1k79Lw0AUx79N2zRp2tjFqYOl4GxEdFO7dRKKEHBwKCKC\n",
       "4BCcdNEiqBWXDoLgVPAfiE6Cg64ixSyCOJQugpNUwaEOxrsLhdyzd4Tj3fe9T9579wNAD6OHSkf+\n",
       "XuFYUhGPwPvJNFUTDeS9f7HW7RWQbcF2cFchvnQJuKCAfYZJwPCg9aDXI606dD4zYocSZoAZQGff\n",
       "D7TfSOsMi9plhN4mxJMQHgCtBu1TJiyTESZtZE7Mp1HZfZnocsIqEWKz+ML6PRf2RCARtseJTIvb\n",
       "hisGpwcetoBVEbIMibDAiVxdTpENgaM21sV/HD4fuu6G63J4TxCJPiG+gf1KRGxDymEHgkiRHBgw\n",
       "whNV5Xx8xIlUuTy15iNXI33MihzzzCoCr/JeQeedO/Q8WB/ANStipdmsEWKMRRs+IZJ+lu3VODuM\n",
       "MAxbMmEsfgVI08uGm4MCCy/EpU588Tb6smca8VU1vjhWvI8F1cOxHYXjUkUkVc/WDhSO7mj5D0LF\n",
       "VRJTkd+ZAAAAAElFTkSuQmCC\n",
       "\" style=\"display:inline;vertical-align:middle;\" /></a><br>"
      ],
      "text/plain": [
       "<IPython.core.display.HTML object>"
      ]
     },
     "metadata": {},
     "output_type": "display_data"
    },
    {
     "data": {
      "text/html": [
       "<strong id=\"add_3_4\"><a class=\"ProveItLink\" href=\"proofs/add_3_4/thm_proof.ipynb\">add_3_4</a> (conjecture without proof):<br></strong> <a class=\"ProveItLink\" href=\"../__pv_it/theorems/463cfa6b85e46e3f11c2371ea3405b5d6f9816060/theorem_expr.ipynb\"><img src=\"data:image/png;base64,iVBORw0KGgoAAAANSUhEUgAAAGIAAAAVBAMAAABPrCZEAAAAMFBMVEX////MzMxUVFRERES6uroi\n",
       "IiIQEBCYmJhmZmYyMjLu7u52dnaqqqqIiIjc3NwAAACW8nlqAAAAAXRSTlMAQObYZgAAAAlwSFlz\n",
       "AAAOxAAADsQBlSsOGwAAAWtJREFUOMt1k71Lw0AYxp/QpEmbNu3iXou7Gbr6sdVFKkJwcShSnDPq\n",
       "IlmKAZduglPBP6BFF8esIqVFcC2C+AEu4lgK8b2cheQud3CXu+fNj/e5jxfAK/KbSkc1UgT2JeVz\n",
       "mHyegO+HlhjUAlR9UZzGcdxFeYBygKmYyGgANyJxH4b9CJaP6hKjAdfaq+ALEWciMQa+gCKg91D7\n",
       "JyYrU+dEFIcCQUZIfuQO/SxhlyhUkjYCuw5csYl+hCwxZ4TdkIg36tfMw/N6lnB8RpiJVctLGqc3\n",
       "qB9zV1GGsMGISldM4TCll0yLCxr6nnfqeYc0u0gI7UfaxoATWh2FZTqHM0sIXcphuNxVbSEQerO5\n",
       "eTJG5UDcx4iNW2SpwV2lzoppMF0xRyeg4Y4ivnQfqNHf1lh6WExZo74XtoT7sHZ+ZzB2ReKDHalR\n",
       "T0uT9OI9vwrMIL1qpxeXisLZVpWa4yoCtyqioCpbuq78Ns+X/wDBNFWI6ehSAQAAAABJRU5ErkJg\n",
       "gg==\n",
       "\" style=\"display:inline;vertical-align:middle;\" /></a><br>"
      ],
      "text/plain": [
       "<IPython.core.display.HTML object>"
      ]
     },
     "metadata": {},
     "output_type": "display_data"
    },
    {
     "data": {
      "text/html": [
       "<strong id=\"add_4_4\"><a class=\"ProveItLink\" href=\"proofs/add_4_4/thm_proof.ipynb\">add_4_4</a> (conjecture without proof):<br></strong> <a class=\"ProveItLink\" href=\"../__pv_it/theorems/87b09643fb348c256942734335e7f028cc15384a0/theorem_expr.ipynb\"><img src=\"data:image/png;base64,iVBORw0KGgoAAAANSUhEUgAAAGEAAAAVBAMAAACkm51HAAAAMFBMVEX////MzMxUVFRERES6uroi\n",
       "IiIQEBCYmJhmZmYyMjLu7u52dnaqqqqIiIjc3NwAAACW8nlqAAAAAXRSTlMAQObYZgAAAAlwSFlz\n",
       "AAAOxAAADsQBlSsOGwAAAW1JREFUOMtjYGB4wIAd4BJn4D2AQ8IXl47TIEICXZSxgYG3AF2Qa/cO\n",
       "ByA5AcQOQpdkVWBgmIUuyMHAoAMkQSbxwnS4wySvAnVUoOsoZ2BYycDABmKKT4KKnYU5qhKog20B\n",
       "mo5NYB0nQcwN6Dq4OYE6ONE9ct6KoZ2BoRvkqAfoOu6BdHAroOlg+n8DGLDTgaznDGg6+ApAOtjB\n",
       "gcIRCgZg3f1fgZEUA3IUug5uBpAOngQ0O3j22f9hYEgBmvUAoqM1NDQtNBQUbHVgHYwf0HRUMPB8\n",
       "WwDS8ZYBzQ6+C2AdLOh2ZDEwvD8AcpWTktI3bWQdLEpK+kkbGHgCUP3BBbSTqYDBFqwmCS2sGNhA\n",
       "PjdAsyOPgYH5AShWgOAzug5+oGqODWg6PBcw1DIwiIKYzf91UXVw2H+6wMDqgJ48NTqAQqwCyGJn\n",
       "kTlPsSd29gZknjsypx1H/rDDlXH4DHBILMalgxlXtgVGF3ZwD7swAKdSVLTcphR/AAAAAElFTkSu\n",
       "QmCC\n",
       "\" style=\"display:inline;vertical-align:middle;\" /></a><br>"
      ],
      "text/plain": [
       "<IPython.core.display.HTML object>"
      ]
     },
     "metadata": {},
     "output_type": "display_data"
    },
    {
     "data": {
      "text/html": [
       "<strong id=\"add_5_4\"><a class=\"ProveItLink\" href=\"proofs/add_5_4/thm_proof.ipynb\">add_5_4</a> (conjecture without proof):<br></strong> <a class=\"ProveItLink\" href=\"../__pv_it/theorems/bcc00e9285129a8480e7443e4ea39f74a2c0fcd70/theorem_expr.ipynb\"><img src=\"data:image/png;base64,iVBORw0KGgoAAAANSUhEUgAAAGEAAAAVBAMAAACkm51HAAAAMFBMVEX////MzMxUVFRERES6uroi\n",
       "IiIQEBCYmJhmZmYyMjLu7u52dnaqqqqIiIjc3NwAAACW8nlqAAAAAXRSTlMAQObYZgAAAAlwSFlz\n",
       "AAAOxAAADsQBlSsOGwAAAXhJREFUOMt1kzFIw1AQhv+YNk2TtnZxjx10bMFN0GbrJBQhTg5FxFE7\n",
       "6iKlKIoidBOdAqJzcRIR7CSIFLLURWhdBDer4uAi3otU0ut7bwj3/ndf7u7dOwDPkC+VjnQLWViS\n",
       "4wUV8QBsnHg+U7Ua0tUR3/06+VkNYOnrmp/FHeCUi+eBtg6Y9CfnXysNjA5pm5yYAmYAA1GiPUhq\n",
       "izSDp/oN3Pq4lxJ2krQkK8T6BHouDsmcfppkRFcQtiOJUcUxWbN4c4eITFUQiYawTS9czl8dxQDL\n",
       "oYteHiJsCCJVYTEuXC3fwmpomz/02fW8Nc9bJGs7JLQ+I6yjm15WEHoD5ns0RiYIiVhltN90V5SV\n",
       "UcZYP0rEcrn8ShOpMqsDYT/mRNYwCsN3BUNUXmAB7nyLcrmkJGp49BkxTt5mkxEdX6cWTZD1Wj9g\n",
       "/TCLHwHiLiPsqx3x5LJRrR3dvMgfe6IW3ZWimz3FfMyrBidTUBycqQhdNbbULvnqyuVf2BlXHkKv\n",
       "tIIAAAAASUVORK5CYII=\n",
       "\" style=\"display:inline;vertical-align:middle;\" /></a><br>"
      ],
      "text/plain": [
       "<IPython.core.display.HTML object>"
      ]
     },
     "metadata": {},
     "output_type": "display_data"
    },
    {
     "data": {
      "text/html": [
       "<strong id=\"add_6_4\"><a class=\"ProveItLink\" href=\"proofs/add_6_4/thm_proof.ipynb\">add_6_4</a> (conjecture without proof):<br></strong> <a class=\"ProveItLink\" href=\"../__pv_it/theorems/a88ad78d88abf86714accc0019117afa329fbe290/theorem_expr.ipynb\"><img src=\"data:image/png;base64,iVBORw0KGgoAAAANSUhEUgAAAGwAAAAVBAMAAABRZRb3AAAAMFBMVEX////MzMxUVFRERES6uroi\n",
       "IiIQEBCYmJhmZmYyMjLu7u52dnaqqqqIiIjc3NwAAACW8nlqAAAAAXRSTlMAQObYZgAAAAlwSFlz\n",
       "AAAOxAAADsQBlSsOGwAAAY1JREFUOMudkztIA0EQhv94MXfmYdIE7YypBBHSiyIWpj3E61IEEYs0\n",
       "BqzsAioIAYlpbBQDYrDLYRuCaRREAnaWHliIhSgoBmKCzp4menu7KRzYZXd2v52ZnRkAFsQyjH4S\n",
       "qksOvDf9sGsa1WqEV48Ct+7L0RIQqO0C/gLwODeg8xcWgaESp/NPHJHqACcWtCxwCCXxfZDsuU6Y\n",
       "mnNZuytB1RFIwAcEWz11o7sYKdKUEWFKjAFXgJJ2YybD9kVYOAdPG3nAt1fb4rCQxbAzEVYhrMle\n",
       "DO/DV3diD2DYBltqhi2xLvZswtNBCqi8QMs4MdPGLkXWGPaBFcJ0qG+k2zaMVcOgL4Rq2diY0EkT\n",
       "3g7DwgWoTYe1J9jYguRLgm3mpPJj7Rebj8ffJ4ELUWyUYrWFGcobxZbmEoBlGuvCdKehFexPnka5\n",
       "zmOvNPIu7JzaJYVyBFHaBHbG+XRvfk4BSzwVXytmcVqj24OO2m84Gk6X942zXpN/N6zKpTIrPbnv\n",
       "16bH/3iQRSDr/ZAlh74AvwJyu/8W0uwAAAAASUVORK5CYII=\n",
       "\" style=\"display:inline;vertical-align:middle;\" /></a><br>"
      ],
      "text/plain": [
       "<IPython.core.display.HTML object>"
      ]
     },
     "metadata": {},
     "output_type": "display_data"
    },
    {
     "data": {
      "text/html": [
       "<strong id=\"add_7_4\"><a class=\"ProveItLink\" href=\"proofs/add_7_4/thm_proof.ipynb\">add_7_4</a> (conjecture without proof):<br></strong> <a class=\"ProveItLink\" href=\"../__pv_it/theorems/bd32d0465b268763ecbd81dffd5d9162f91efb0a0/theorem_expr.ipynb\"><img src=\"data:image/png;base64,iVBORw0KGgoAAAANSUhEUgAAAGsAAAAVBAMAAACzuQ2OAAAAMFBMVEX////MzMxUVFRERES6uroi\n",
       "IiIQEBCYmJhmZmYyMjLu7u52dnaqqqqIiIjc3NwAAACW8nlqAAAAAXRSTlMAQObYZgAAAAlwSFlz\n",
       "AAAOxAAADsQBlSsOGwAAAT1JREFUOMtjYGB4wIAd8DHgA7wH+KqwSrBcwKftNAPP////v6ELSzAw\n",
       "XMdULLoASnBNYOC26OiIQVcQxMDAuQBNjEtj/gIIwcBRwMAN9EcDRMId7nSgNvYGDNvuL4ASbAwM\n",
       "PAwMTFDhszB58UlAIgu3tpNg7kZ0bRtA2qbj1tYNDmsDNG28D0DaNuHWBjaRyQFN23MGkLZKEJMj\n",
       "FAwUULWBg/AZA5q2DWBtx3DblgLi7QSLtYaGpoWGAoOQgf0BWJs8AW3BaLa9ZQBrc8OtDeRIrk9o\n",
       "2pyUlL5pMzAcxe03W1Dq+4HuNwaGJCAuxm0bKJB5fmNq+8wAjRwUsP8BlBAFRVsOhrbm/7oMDCHo\n",
       "upTyJxVACFYBZPGzKBkuAHe+QU2v7sgcYCrHDexwyjzGl00Xk2EgyAe48j7vA9yaAFLkanZ8o93O\n",
       "AAAAAElFTkSuQmCC\n",
       "\" style=\"display:inline;vertical-align:middle;\" /></a><br>"
      ],
      "text/plain": [
       "<IPython.core.display.HTML object>"
      ]
     },
     "metadata": {},
     "output_type": "display_data"
    },
    {
     "data": {
      "text/html": [
       "<strong id=\"add_8_4\"><a class=\"ProveItLink\" href=\"proofs/add_8_4/thm_proof.ipynb\">add_8_4</a> (conjecture without proof):<br></strong> <a class=\"ProveItLink\" href=\"../__pv_it/theorems/221fb638920d905fac89bf1801fcb0c5a6064f680/theorem_expr.ipynb\"><img src=\"data:image/png;base64,iVBORw0KGgoAAAANSUhEUgAAAGwAAAAVBAMAAABRZRb3AAAAMFBMVEX////MzMxUVFRERES6uroi\n",
       "IiIQEBCYmJhmZmYyMjLu7u52dnaqqqqIiIjc3NwAAACW8nlqAAAAAXRSTlMAQObYZgAAAAlwSFlz\n",
       "AAAOxAAADsQBlSsOGwAAAYlJREFUOMudk7FLw0AUxj9Cm8TaFBGKgkNLFwUR6x9gEQe7FjHgICIi\n",
       "Di4GndwKVqjUoXQRXAw4OlhcHdpFQaTYTXAx0EEXRSk4iBrfHbT0kksHH7wk915+993duwfAgdxi\n",
       "6GdGPSARavbD7oDzq4IvPAo8+H+O28DL4QwQKQN5KD7JRWDA9sQiE6c2YmnU5qBb0CwOM8t2l06Y\n",
       "lvepPdlQHKhrUIHBZBdrdPIjFXpsyTD1C8ovboFo2yZNEasy7FiqloPygRINpn+OIGKGw7BLGUYW\n",
       "fucz6u6qB3sGw/bYp25yS/ZgiSZWWA1abl3Eqhy7CVCj49rgJ3bPdn9gmpumSTFoDscSckxPc0yl\n",
       "YnwLaq/g2IIc2yGnRV7Qa1zA5lOpz0ngWrq3aBVvmCU1uswZTwGwTr4rVRsDHtkhh06gNb1Ym7zk\n",
       "w2oOYsvFYg5xGgwXC54CYN+dApa8VGq7YoVd1y0jPNQbbwgNlwvuG/G+ZnsHnRsntUxgptWvTc/+\n",
       "MSHbQVDvG04w9AehKnCSznRAYwAAAABJRU5ErkJggg==\n",
       "\" style=\"display:inline;vertical-align:middle;\" /></a><br>"
      ],
      "text/plain": [
       "<IPython.core.display.HTML object>"
      ]
     },
     "metadata": {},
     "output_type": "display_data"
    },
    {
     "data": {
      "text/html": [
       "<strong id=\"add_9_4\"><a class=\"ProveItLink\" href=\"proofs/add_9_4/thm_proof.ipynb\">add_9_4</a> (conjecture without proof):<br></strong> <a class=\"ProveItLink\" href=\"../__pv_it/theorems/834db37405098aabcd3fb906ad05d89a05c364990/theorem_expr.ipynb\"><img src=\"data:image/png;base64,iVBORw0KGgoAAAANSUhEUgAAAGwAAAAVBAMAAABRZRb3AAAAMFBMVEX////MzMxUVFRERES6uroi\n",
       "IiIQEBCYmJhmZmYyMjLu7u52dnaqqqqIiIjc3NwAAACW8nlqAAAAAXRSTlMAQObYZgAAAAlwSFlz\n",
       "AAAOxAAADsQBlSsOGwAAAYpJREFUOMtjYGB4wIAd8DHgA7wHcEiwXMCn7TQDA0eHFoawBAPDdUzF\n",
       "ogsYGF7vMGFg4JrAwBXLIIbh0iAGBs4FaGJcGvMXMHA1MJw/wMBRwMCUwMBsAJFwhzsdqI29AcO2\n",
       "+wsYeP8wrJ/AwMbAwD+BgfsXRPgsTF58EpDIwqaNJQWk4SQDw3oDBt4vaNo2gLRNx6YNCM4XMHRD\n",
       "bPuOqo33AUjbJuzaWMLBJoL89hdV23MGkLZKEJMjFAwU4NoYLykyMMQAAyiFQegPqrYNYG3HcDny\n",
       "AEMKkFpx++xHINUaGpoWGgoMQgb2B2Bt8ji0sf0Ca2NAD8m3DGBtbti0MQowMP8BORIIYPEG1eak\n",
       "pPRNm4HhKDa/8f8CabNlYODJYlgvgBYBDElAXIzNNjYFkCOBgcwbxWDOgK7tMxB3Y2jb/4CBvQAU\n",
       "b6JAzu4OB3Rtzf91GRhC0HUp5U8qYPDoACZlVgFk8bMoGS4Ad75BTa/uyBxgKscN7HDKPMaXTReT\n",
       "YSDIB7jyPu8D3JoAJ3FugeUGB8cAAAAASUVORK5CYII=\n",
       "\" style=\"display:inline;vertical-align:middle;\" /></a><br>"
      ],
      "text/plain": [
       "<IPython.core.display.HTML object>"
      ]
     },
     "metadata": {},
     "output_type": "display_data"
    }
   ],
   "source": [
    "add_0_4, add_1_4, add_2_4, add_3_4, add_4_4, add_5_4, add_6_4, add_7_4, add_8_4, add_9_4 = [Equals(Add(num(n), num(4)), num(n+4)) for n in range(10)]"
   ]
  },
  {
   "cell_type": "code",
   "execution_count": 22,
   "metadata": {},
   "outputs": [
    {
     "data": {
      "text/html": [
       "<strong id=\"add_0_5\"><a class=\"ProveItLink\" href=\"proofs/add_0_5/thm_proof.ipynb\">add_0_5</a> (conjecture without proof):<br></strong> <a class=\"ProveItLink\" href=\"../__pv_it/theorems/96b57c347e09e52c3c7c2476923eb25755cd1a4f0/theorem_expr.ipynb\"><img src=\"data:image/png;base64,iVBORw0KGgoAAAANSUhEUgAAAGEAAAAVBAMAAACkm51HAAAAMFBMVEX////MzMxUVFRERES6uroi\n",
       "IiIQEBCYmJhmZmYyMjLu7u52dnaqqqqIiIjc3NwAAACW8nlqAAAAAXRSTlMAQObYZgAAAAlwSFlz\n",
       "AAAOxAAADsQBlSsOGwAAAVtJREFUOMt1k79Lw0AUx78xbRNtErO4x83NLA4OilsnoQhZ1KFgdXAx\n",
       "o4vQRRQEzSKCOBREcdLQveAqUvAvkC6Cmw6C+At8yRPJXe5uSO4+j8/de3c8AEOoh47DvS0zA7jG\n",
       "ohoD90C9fyiGah/Hy3Bj2cgxxhLgDBdiCtWtlS5wKhuM7RhWE/WQWYN/I/l3WzYY1wAzgPPJbCCE\n",
       "ukrjDhjvwPhWGKOx0jgAbsh4F42dnk8XEshGjk+AlxTGj2CYXe8NsJJsbkf5CP7xKhtfgkFjBnBa\n",
       "5Zci3KasUlSyM3ajaCOKljh0NITxWjYIt/PKHbHyWQr5qMhnMKaszBCWeLvrwDRl1ZTqYDxHFbZg\n",
       "J4KRAmvEQ+kMxj1k1V/6gvEMd5N2TyWD8QTNrvqTEAxvf4reu7ogGX/YL7JBcfGkbg+rU1w1ios9\n",
       "TUfN61rNCzWBc51h6trWe9AEHtX4F9GsWH2nuXAKAAAAAElFTkSuQmCC\n",
       "\" style=\"display:inline;vertical-align:middle;\" /></a><br>"
      ],
      "text/plain": [
       "<IPython.core.display.HTML object>"
      ]
     },
     "metadata": {},
     "output_type": "display_data"
    },
    {
     "data": {
      "text/html": [
       "<strong id=\"add_1_5\"><a class=\"ProveItLink\" href=\"proofs/add_1_5/thm_proof.ipynb\">add_1_5</a> (conjecture without proof):<br></strong> <a class=\"ProveItLink\" href=\"../__pv_it/theorems/ffebe0a72ee66ace295d30f8c1910573fe75120d0/theorem_expr.ipynb\"><img src=\"data:image/png;base64,iVBORw0KGgoAAAANSUhEUgAAAGEAAAAVBAMAAACkm51HAAAAMFBMVEX////MzMxUVFRERES6uroi\n",
       "IiIQEBCYmJhmZmYyMjLu7u52dnaqqqqIiIjc3NwAAACW8nlqAAAAAXRSTlMAQObYZgAAAAlwSFlz\n",
       "AAAOxAAADsQBlSsOGwAAAVhJREFUOMtjYGB4wIAd4BJn4D2AKcbIwLCOwReXjtNALLoAVYzt59Qo\n",
       "Bt4CDLXcuzcyMHBNYODSmI+mgzU/GigyC10D3xQGVQYGDpBJ92E63CEUE5isQNfBeYHBGOgABmQd\n",
       "Z5F1sKHZzHAeLHAStw5OdI+YgclurDpqNwkA/amApiNT+oYDA8N0bDqYF/B9YWBgnwBic4SCAUj3\n",
       "zwKGHAaGGGw6gMCUgYEnAdUKrv8MDG0LGFIQOlpDQ9NCQ4Mg0v0PGBg/oOn4ysBQ74CsA2GHJVCH\n",
       "AAMLmh0MP4E6CrC7KpWBQR/oqgA0f5iC7bDFpmMDA0My0OcG6PEB9AcDwyYQc/8DVB0vGHizgKZv\n",
       "QNPBvIELGFaiQJZS/qQCFB18HRpAW1kd0JPJjiZgNLEKIAudReY8xZ7Y2RuQee7InHYc+cMOV8bh\n",
       "M8AhsRiXDmZc2ZbvAg6Je9iFAU25WwU0C7RqAAAAAElFTkSuQmCC\n",
       "\" style=\"display:inline;vertical-align:middle;\" /></a><br>"
      ],
      "text/plain": [
       "<IPython.core.display.HTML object>"
      ]
     },
     "metadata": {},
     "output_type": "display_data"
    },
    {
     "data": {
      "text/html": [
       "<strong id=\"add_2_5\"><a class=\"ProveItLink\" href=\"proofs/add_2_5/thm_proof.ipynb\">add_2_5</a> (conjecture without proof):<br></strong> <a class=\"ProveItLink\" href=\"../__pv_it/theorems/4ebc975b291eba6feaf1e4ef96ce565e5817e2b60/theorem_expr.ipynb\"><img src=\"data:image/png;base64,iVBORw0KGgoAAAANSUhEUgAAAGIAAAAVBAMAAABPrCZEAAAAMFBMVEX////MzMxUVFRERES6uroi\n",
       "IiIQEBCYmJhmZmYyMjLu7u52dnaqqqqIiIjc3NwAAACW8nlqAAAAAXRSTlMAQObYZgAAAAlwSFlz\n",
       "AAAOxAAADsQBlSsOGwAAAXZJREFUOMtjYGB4wIAd4BJn4D2AKcbIwLCOwRdD+PkCMHWageFFpyGq\n",
       "FNvPqVEMvAXoOs7///8/gYFrAgOfAcN+BxQp1vxooHGz0HVs7uhoPcDAUcDA9ICBLQEi5g6hmMBk\n",
       "BbqODUDnAB0ARL8YmP5BxM4i62BbgKYD6GMFBoaTQPkABqaPWHRwYniEgVuAgaEb4vAPqDpqNwGl\n",
       "uBUwdDwG4ulglvwFFB3MC/i+MDCwTwCxOULBAKJbBYhjwKwgBhQdQGDKwMCTgG4FH0gkBWyOAYhs\n",
       "DQ1NCw2Fau5/wMD4AcMbE2A6ihhQ7bAE6hBgYMGwg9UA6iqeDQzvUHSkMjDoA4UD0P2xHkTaArE0\n",
       "A8MtFB3AqEoG+twA3Q7/BiCxCeifiI6OABQdLxh4s4Cmb8BIWCARUaDrgAlsAooOvg4NYHyzOqDr\n",
       "eAZK56wCyEJnkTlPsWcP9gZknjsypx1HjrLDldX4DHBILMalgxlXtuW7gEPiHnZhAEaBWF9b+X2W\n",
       "AAAAAElFTkSuQmCC\n",
       "\" style=\"display:inline;vertical-align:middle;\" /></a><br>"
      ],
      "text/plain": [
       "<IPython.core.display.HTML object>"
      ]
     },
     "metadata": {},
     "output_type": "display_data"
    },
    {
     "data": {
      "text/html": [
       "<strong id=\"add_3_5\"><a class=\"ProveItLink\" href=\"proofs/add_3_5/thm_proof.ipynb\">add_3_5</a> (conjecture without proof):<br></strong> <a class=\"ProveItLink\" href=\"../__pv_it/theorems/822898849d9a9c432c69eaeb561ba9af1283a80d0/theorem_expr.ipynb\"><img src=\"data:image/png;base64,iVBORw0KGgoAAAANSUhEUgAAAGEAAAAVBAMAAACkm51HAAAAMFBMVEX////MzMxUVFRERES6uroi\n",
       "IiIQEBCYmJhmZmYyMjLu7u52dnaqqqqIiIjc3NwAAACW8nlqAAAAAXRSTlMAQObYZgAAAAlwSFlz\n",
       "AAAOxAAADsQBlSsOGwAAAYJJREFUOMt1kz9Iw0AUxr/+r7VJs7jXrYNghzooqN2qgyBCENRBsDo4\n",
       "aDa7FLpICw7tIoJTwMlFS6eCIFlFSsXJSboIgoMOKlgC+pII5p65G17u3uXH9717dwAGCB6yPBTr\n",
       "fy4EXGBJRtwCL92CmIt/Ha9BMfivqatukWILqRr6olBsf90ETjmRBCYoGlBsXLa8XMn7hN1Y4cQB\n",
       "cE4GgGgZmV+i5yfiJiM6LnHjzvtGADHCC+nPoA4cOdPoKkSi2tGA0Swjwt8PVO+Jc5j34yIRMdV3\n",
       "IOFaTerucOnmBzVpw9OzBILGFJDeZBrp63kbKHtFDikc6vqOrq94u80BQm+MqCD9aTpESEPEFjSm\n",
       "idAQ5Rq7wKvluMoMObENTJKJZbGOFGmGDcySpazn6o9oA1tUeZ5p7NGZDJyuJAzej2co5CDZZsSi\n",
       "iSowRrOFRkE8XbWRo37HivxK5xqUimn+XM+/eAq+7Imaf1XyL+qS9zEnezhqXrJxJiMismer3kk2\n",
       "HoPTP8GYXV8y/W8UAAAAAElFTkSuQmCC\n",
       "\" style=\"display:inline;vertical-align:middle;\" /></a><br>"
      ],
      "text/plain": [
       "<IPython.core.display.HTML object>"
      ]
     },
     "metadata": {},
     "output_type": "display_data"
    },
    {
     "data": {
      "text/html": [
       "<strong id=\"add_4_5\"><a class=\"ProveItLink\" href=\"proofs/add_4_5/thm_proof.ipynb\">add_4_5</a> (conjecture without proof):<br></strong> <a class=\"ProveItLink\" href=\"../__pv_it/theorems/8394bf1f5c49e2897391afea737bc1e390dcc2790/theorem_expr.ipynb\"><img src=\"data:image/png;base64,iVBORw0KGgoAAAANSUhEUgAAAGEAAAAVBAMAAACkm51HAAAAMFBMVEX////MzMxUVFRERES6uroi\n",
       "IiIQEBCYmJhmZmYyMjLu7u52dnaqqqqIiIjc3NwAAACW8nlqAAAAAXRSTlMAQObYZgAAAAlwSFlz\n",
       "AAAOxAAADsQBlSsOGwAAAXNJREFUOMtjYGB4wIAd4BJn4D2AKcbIwLCOwReXjtMgQgJVjO3n1CgG\n",
       "3gIMtR1NCxgYuCaAmEGoMqz50UCpWegall5gzGNg4ACZxAvT4Q6hmMBkBboONQYGY6ADQEzxSVCx\n",
       "s8g62Bag6fjJwLB/AcNJEHMDVh2caB7h+szAcN+BoRvkqAfoOmo3CTAwcCtgsaOAYTqQ9ZwBTQfz\n",
       "Ar4vDAzs4EDhCAUDBYg/7C8wxIAcha4DCEwZGHgS0OxY5sCof4AhBWjWA4iO1tDQtNBQaLD1P2Bg\n",
       "/ICmg6t3z30BkI63DOh2WAJ1CDCwJGDGNzCsgK5yUlL6po2iI5WBQR/oqgA0fzCA48MWzEhCtWMD\n",
       "A0My0LUGaBYcW8D1kYFhE5j9GVXHCwbeLKDpG9B0XF3ADIwiURCz+b8uig6+Dg1gfLM6oOng3tEC\n",
       "SnQCyGJnkTlPsSd29gZknjsypx1H/rDDlXH4DHBILMalgxlXtuW7gEPiHnZhALiJWUldNTMTAAAA\n",
       "AElFTkSuQmCC\n",
       "\" style=\"display:inline;vertical-align:middle;\" /></a><br>"
      ],
      "text/plain": [
       "<IPython.core.display.HTML object>"
      ]
     },
     "metadata": {},
     "output_type": "display_data"
    },
    {
     "data": {
      "text/html": [
       "<strong id=\"add_5_5\"><a class=\"ProveItLink\" href=\"proofs/add_5_5/thm_proof.ipynb\">add_5_5</a> (conjecture without proof):<br></strong> <a class=\"ProveItLink\" href=\"../__pv_it/theorems/78acabf0e783887acdd57b9fec56d8c065e5472b0/theorem_expr.ipynb\"><img src=\"data:image/png;base64,iVBORw0KGgoAAAANSUhEUgAAAGwAAAAVBAMAAABRZRb3AAAAMFBMVEX////MzMxUVFRERES6uroi\n",
       "IiIQEBCYmJhmZmYyMjLu7u52dnaqqqqIiIjc3NwAAACW8nlqAAAAAXRSTlMAQObYZgAAAAlwSFlz\n",
       "AAAOxAAADsQBlSsOGwAAAW1JREFUOMtjYGB4wIAd8DHgA7wHGAQYuND0gkRYLuDTdpqBIX9m6AJU\n",
       "QbDIdUzFokB13Hv7GBi4JjAwhH3dhSYNFuFEM4uBS2M+UGgOw9IHDBwFDAwKcAl3KA0WYW/AsO3+\n",
       "Agb2AAZuAwY2BmRtZ5G1MWRh08aswMDzi+EkHm3TsWnjb2Bg/MPQDeSo31ZE0wYR2YRN23qgtu9g\n",
       "E60Y3jugaoOIVIKYHKFgoADT9n4DA+NfhhgwlzkAVRtE5Bg220DafjOkgLkc/4BEa2hoWmhoEANc\n",
       "RB6rIzcwsPwFaWOewMDxEcU2qIgbjiDh+QNyJFsAA9MHFG1QkaPY/MZswMD+i8EWmFqA6gxQtEFF\n",
       "irFGdwIDxwRQIPM1MFxbgKINKtKNoW0/MMnHMCwTYBAFcl40daHFG0QkBF2XUv6kAoYVe4FxyiqA\n",
       "LH4WJcMF4M43qOnVHZkDSuU4gR1Omcf4suliMgwE+QBX3ud9gFsTAPuscZnEdHtMAAAAAElFTkSu\n",
       "QmCC\n",
       "\" style=\"display:inline;vertical-align:middle;\" /></a><br>"
      ],
      "text/plain": [
       "<IPython.core.display.HTML object>"
      ]
     },
     "metadata": {},
     "output_type": "display_data"
    },
    {
     "data": {
      "text/html": [
       "<strong id=\"add_6_5\"><a class=\"ProveItLink\" href=\"proofs/add_6_5/thm_proof.ipynb\">add_6_5</a> (conjecture without proof):<br></strong> <a class=\"ProveItLink\" href=\"../__pv_it/theorems/f462b9f331be3987be8fcb82bad588b532cf64ac0/theorem_expr.ipynb\"><img src=\"data:image/png;base64,iVBORw0KGgoAAAANSUhEUgAAAGsAAAAVBAMAAACzuQ2OAAAAMFBMVEX////MzMxUVFRERES6uroi\n",
       "IiIQEBCYmJhmZmYyMjLu7u52dnaqqqqIiIjc3NwAAACW8nlqAAAAAXRSTlMAQObYZgAAAAlwSFlz\n",
       "AAAOxAAADsQBlSsOGwAAAVxJREFUOMtjYGB4wIAd8DHgA7wHsAgKMHA9YLmAT9tpIN69WwBVMH9m\n",
       "6AKG65iKRRdACa4JDAwvHZgCUKXDvu5iYOBcgKaJS2P+AgjBwFHAwDCXgdkAIuEOVaAAItgbMGy7\n",
       "vwBKsDEw8PyCC59F1saQhVvbSQYG5gQc2qbj1tYNtHDi3hY0beq3FYHkJtzagCbyT2dgO4CqzYrh\n",
       "vQMDQyWIyREKBgqo2mIYGNZ/YODIQtUGdDkwbI/hti0FqC2Agf0LkNsaGpoWGhoEUcDxj4FBHq82\n",
       "/gkM7N9RbGOewMDxkYHBDbe2GLB7wLYhtLEFMDB9YGA4ittvtsB4A/otAUUbN1AnMAEU47YNFMjW\n",
       "DMtQQ5KvgeEaJHLQwP4HUEIUZHiHIlq8vWjqApIh6LqU8icVQAhWlLR/FiXDBeDON6jp1R2ZA0rl\n",
       "OIEdTpnH+LLpYjIMBPkAV97nfYBbEwDQJHHnFdQ0pAAAAABJRU5ErkJggg==\n",
       "\" style=\"display:inline;vertical-align:middle;\" /></a><br>"
      ],
      "text/plain": [
       "<IPython.core.display.HTML object>"
      ]
     },
     "metadata": {},
     "output_type": "display_data"
    },
    {
     "data": {
      "text/html": [
       "<strong id=\"add_7_5\"><a class=\"ProveItLink\" href=\"proofs/add_7_5/thm_proof.ipynb\">add_7_5</a> (conjecture without proof):<br></strong> <a class=\"ProveItLink\" href=\"../__pv_it/theorems/c71dc51dbf76d31c89bbb8afa3313b2d09f628950/theorem_expr.ipynb\"><img src=\"data:image/png;base64,iVBORw0KGgoAAAANSUhEUgAAAGwAAAAVBAMAAABRZRb3AAAAMFBMVEX////MzMxUVFRERES6uroi\n",
       "IiIQEBCYmJhmZmYyMjLu7u52dnaqqqqIiIjc3NwAAACW8nlqAAAAAXRSTlMAQObYZgAAAAlwSFlz\n",
       "AAAOxAAADsQBlSsOGwAAAYZJREFUOMudkzFLw1AQx/+kbYxpGrp0crC66Bg3EZROdg3ViIODgziI\n",
       "0KKTTkUQol2KizgZ8Auomy51URApdFLQwYAgnbQVFFFovSQdkpeXDh7kXu7e/d69d9wBsMEXFf0k\n",
       "daVuh5xpyHa80Q+7g9Ltdr+CzuKRYeEhHJyxgObeBCBXkZw0zaXg9sLnJTBoMZA8fmxB1VDLQSoh\n",
       "Se8oexv5XkDWUQPlULZnC4INcRkioABCz133Y1jjYeIPhA5uXfOMix1ys+kQ2qi4tdYYbOxphPQ5\n",
       "DyNJtLwThRyDTeGdXFvOr2S4kvVhww24JXwFgwExHbiJyFYAVpz1wvXtGsaqYRS8AKlDp/IxSeth\n",
       "c0y2WBVSG5jlYxv0OZeUPxhMpGq1gGvu25RTvGGajPg3g1EDiHSTTW62IeDRLbLyy2DUNPcUUAlh\n",
       "NRvqomnqyDhR62wlmzv7pOdZarR4UEpQ41eRSPv99cDA6dFzE+zXvN+gLo+Wmcidl35jevKPA50X\n",
       "RM1+yo6G/gD1OWoo+wu0pgAAAABJRU5ErkJggg==\n",
       "\" style=\"display:inline;vertical-align:middle;\" /></a><br>"
      ],
      "text/plain": [
       "<IPython.core.display.HTML object>"
      ]
     },
     "metadata": {},
     "output_type": "display_data"
    },
    {
     "data": {
      "text/html": [
       "<strong id=\"add_8_5\"><a class=\"ProveItLink\" href=\"proofs/add_8_5/thm_proof.ipynb\">add_8_5</a> (conjecture without proof):<br></strong> <a class=\"ProveItLink\" href=\"../__pv_it/theorems/ccc437abe774ec978dd89520fc6fa63d29e63cc60/theorem_expr.ipynb\"><img src=\"data:image/png;base64,iVBORw0KGgoAAAANSUhEUgAAAGwAAAAVBAMAAABRZRb3AAAAMFBMVEX////MzMxUVFRERES6uroi\n",
       "IiIQEBCYmJhmZmYyMjLu7u52dnaqqqqIiIjc3NwAAACW8nlqAAAAAXRSTlMAQObYZgAAAAlwSFlz\n",
       "AAAOxAAADsQBlSsOGwAAAZNJREFUOMudkz1Iw0AUx/9tYxpT+4HQ2eiimw5OguJkHYsYXcSpOLg0\n",
       "4OQWpEKxDsFFdDHg6FBwEh3MoiBSWhx0cDDQRXBQEZdSre9aLb300sE3XO5e3u/ex70HwIVYYugl\n",
       "UUegTEB1pUov7BY4uch5lNkD3cZDt3HSBl7OJgHVAkwEPS6XPs+BftsDqWNHNlQTZQeKgbDRhJmk\n",
       "fg00toTNLm9PNqJ1FC3IQERrY6VODOsiTMogbuEGGPiwyacA2xdhJGUDBfqMf+2Cx0Yfh2k9FWPS\n",
       "cutGpbHqwabwOgtssq2iN0VrY4E7unKFvUG14fAYEEoD135BOsg0K1Zm2W/r+pquL7QMlG9gyAeT\n",
       "awyTbcTqnLeQBeUdmBNhgQRCdRZkkdWAw+Q0gm/AlSi3eI1h02REzTzDYRFSTgAbIm+yxoKkIkuH\n",
       "CFc4LGbinrIodGGXLusperckHQbzOc8DPG/t0LropUayewbm89TKfYlOfYkbuLT/3PD9muo8/HWc\n",
       "UGZ8/1R7jenxPy5kGfjNftT1h34AYwNzYGCcIu0AAAAASUVORK5CYII=\n",
       "\" style=\"display:inline;vertical-align:middle;\" /></a><br>"
      ],
      "text/plain": [
       "<IPython.core.display.HTML object>"
      ]
     },
     "metadata": {},
     "output_type": "display_data"
    },
    {
     "data": {
      "text/html": [
       "<strong id=\"add_9_5\"><a class=\"ProveItLink\" href=\"proofs/add_9_5/thm_proof.ipynb\">add_9_5</a> (conjecture without proof):<br></strong> <a class=\"ProveItLink\" href=\"../__pv_it/theorems/3009253ef7d7ab56fa495c5c67dc6b89e289f95f0/theorem_expr.ipynb\"><img src=\"data:image/png;base64,iVBORw0KGgoAAAANSUhEUgAAAGwAAAAVBAMAAABRZRb3AAAAMFBMVEX////MzMxUVFRERES6uroi\n",
       "IiIQEBCYmJhmZmYyMjLu7u52dnaqqqqIiIjc3NwAAACW8nlqAAAAAXRSTlMAQObYZgAAAAlwSFlz\n",
       "AAAOxAAADsQBlSsOGwAAAYpJREFUOMudkztIA0EQhn8STc6LFw/BR2dMoyhCuoCgBAvTHsGzEAWR\n",
       "YJEmASu7oAhBm3CNWHlgY5dgqYU2CiIBKy1SeGChjaj4AvE1excle9lL4RSzu7PzzexjBoAFsYTR\n",
       "TJQjgVGFbLWcN8POAKkw5DJmt3QTl43OXSbTvYBchDyHbtdJp1/2gTbTBcmD27YpRZly8M3DH3M2\n",
       "kjWHCFPBfEO2K4YphAWAjiJC7465Uo8hI8Z6DOAUKMWgPIuwTTFWJmzDyfbGYwPVftJ7QkyxDDsi\n",
       "u9snj43iPgEss6mk2xL5w25A2Cw9UBqdHzwG+DXgRJitzLA0LXarlUca1nR9UddTjoP0BfSJsKD1\n",
       "i8H9kv4iJAo0KcLuUDsk84txWECD7wE4Ft1tIhp9HcYY0J5BSeWwEJEUaEn8AViwH1mZQRwcFs7j\n",
       "wrQ/xyWHdhE+UXHScFBI8BhuV9ZJT7mpaNbIAavfI2hV6+0VruE0777h6zVZv6Aq95Zxz53rZm26\n",
       "84+A7AZeva9Y3tAPGXZrexIb+qsAAAAASUVORK5CYII=\n",
       "\" style=\"display:inline;vertical-align:middle;\" /></a><br>"
      ],
      "text/plain": [
       "<IPython.core.display.HTML object>"
      ]
     },
     "metadata": {},
     "output_type": "display_data"
    }
   ],
   "source": [
    "add_0_5, add_1_5, add_2_5, add_3_5, add_4_5, add_5_5, add_6_5, add_7_5, add_8_5, add_9_5 = [Equals(Add(num(n), num(5)), num(n+5)) for n in range(10)]"
   ]
  },
  {
   "cell_type": "code",
   "execution_count": 23,
   "metadata": {},
   "outputs": [
    {
     "data": {
      "text/html": [
       "<strong id=\"add_0_6\"><a class=\"ProveItLink\" href=\"proofs/add_0_6/thm_proof.ipynb\">add_0_6</a> (conjecture without proof):<br></strong> <a class=\"ProveItLink\" href=\"../__pv_it/theorems/1904b39b29edb0b6d099dd7271b22cecb467b5ac0/theorem_expr.ipynb\"><img src=\"data:image/png;base64,iVBORw0KGgoAAAANSUhEUgAAAGEAAAAVBAMAAACkm51HAAAAMFBMVEX////MzMxUVFRERES6uroi\n",
       "IiIQEBCYmJhmZmYyMjLu7u52dnaqqqqIiIjc3NwAAACW8nlqAAAAAXRSTlMAQObYZgAAAAlwSFlz\n",
       "AAAOxAAADsQBlSsOGwAAAWRJREFUOMt1kz1Iw0AUx/8htYlJGrs4ucTBPSC6Kdk6CUXI5tChCIJD\n",
       "RjeLoA6CZBAEcQiI4mZ0KkjBVaTY0UlcnHURqR/oS16R3Jm7IXf3e/nd3bsPAE8oLyqO2o0isKQy\n",
       "7gC7ty9B+/oStejfvxmGFQPHOBWX4B5gBjiSBcZmBKMJ22fW4Gp8gFlgQzYYVwHdg/PBrM/VfZJ9\n",
       "q4lkML4FJjrQvgRjnoeUE2G8B1yQ8S4Ya1MPAeXpSQbjQ+AlhfYtGMMI64ARZ20zzIv3h1fY+Cwa\n",
       "1g+wk8BpiVOMcJtWlaKSzbEdhqthuEyhN2AzgPYqGYzbeeaOmPmQQhEq0hwjTKvSfRji7s7lgzlN\n",
       "KQ/GC5RhC2YsngctmLgvn0eOr5Blf1YXDD21aFPMVDIYT1LrvDcNwUB3i4YYC+RrwrheRP1i57n8\n",
       "shudYq9R7Owq3sei6uG4viJwojJ01bN1B4rAYzn+BRQvYq9Uyl6oAAAAAElFTkSuQmCC\n",
       "\" style=\"display:inline;vertical-align:middle;\" /></a><br>"
      ],
      "text/plain": [
       "<IPython.core.display.HTML object>"
      ]
     },
     "metadata": {},
     "output_type": "display_data"
    },
    {
     "data": {
      "text/html": [
       "<strong id=\"add_1_6\"><a class=\"ProveItLink\" href=\"proofs/add_1_6/thm_proof.ipynb\">add_1_6</a> (conjecture without proof):<br></strong> <a class=\"ProveItLink\" href=\"../__pv_it/theorems/09fd667ce0339f9358616b0cbfd9cf960fdac1070/theorem_expr.ipynb\"><img src=\"data:image/png;base64,iVBORw0KGgoAAAANSUhEUgAAAGIAAAAVBAMAAABPrCZEAAAAMFBMVEX////MzMxUVFRERES6uroi\n",
       "IiIQEBCYmJhmZmYyMjLu7u52dnaqqqqIiIjc3NwAAACW8nlqAAAAAXRSTlMAQObYZgAAAAlwSFlz\n",
       "AAAOxAAADsQBlSsOGwAAAVBJREFUOMtjYGB4wIAd4BJn4D2AQ8IXQ+T5AjB1GohFF6DJce/eyMBb\n",
       "gK7j/P///xMYuCYwcGnMR9PBN4VBlYFhFrqOzR0drQcYOEAm3YfpcIdQnBcYjBkYKtB1bGBgeMHA\n",
       "wMaArOMs1Hownw3drUAfKzAwnMSmwwxiE4ZHGLgFGBi6senIlL7hAJRWwNDxGIinY9Pxs4Ahh4GB\n",
       "fQKIzREKBhDdKkAcg0UH138GhrYFDDwJ6FbwgURSEDpaQ0PTQkODgDq+MjDUOzAwfsDwxgRUHUiu\n",
       "AuooYGDBsIPVAIerGEzBdvAEoPtjPYi0xRofQH8AfW6Abod/A5DYBGLtf4Cqg3kDFzCsODZgJCyQ\n",
       "iCgQK+VPKkDRwbCjCRhVrA7oOp6B0jmrALLQWWTOU+y5gL0BmeeOzGnHkXHscGU1PgMcEotx6WDG\n",
       "lW35LuCQuIddGACh9F+DsTYU2gAAAABJRU5ErkJggg==\n",
       "\" style=\"display:inline;vertical-align:middle;\" /></a><br>"
      ],
      "text/plain": [
       "<IPython.core.display.HTML object>"
      ]
     },
     "metadata": {},
     "output_type": "display_data"
    },
    {
     "data": {
      "text/html": [
       "<strong id=\"add_2_6\"><a class=\"ProveItLink\" href=\"proofs/add_2_6/thm_proof.ipynb\">add_2_6</a> (conjecture without proof):<br></strong> <a class=\"ProveItLink\" href=\"../__pv_it/theorems/07cd5be63a9d33ef0a1a060665d66a91320d20cf0/theorem_expr.ipynb\"><img src=\"data:image/png;base64,iVBORw0KGgoAAAANSUhEUgAAAGEAAAAVBAMAAACkm51HAAAAMFBMVEX////MzMxUVFRERES6uroi\n",
       "IiIQEBCYmJhmZmYyMjLu7u52dnaqqqqIiIjc3NwAAACW8nlqAAAAAXRSTlMAQObYZgAAAAlwSFlz\n",
       "AAAOxAAADsQBlSsOGwAAAYpJREFUOMt1kz9Iw0AUxr8m9o9pGro4ddBFcHCIiA6Cmq04CEUIODh0\n",
       "EEERCS52EUXQVhzsIAhOASe36FQoaFeR0ozFQboITlqHCooYXy9L7ugd4d3d9+6Xd+/eHYAOBjeZ\n",
       "jkxD4liWEU/A2+mUIKbrt8g44lKtXrPIVmGYeLA4l3GBceBKJFLAJFkHSgeJYqjlw27YxzRQEok9\n",
       "4AZI0PcD5S/UmmHXcvs24QrEHSMeAaUA5ZMjZsNIYiKtOZSBMzaOdzliM9emxNJjAqEEbTrYSzYe\n",
       "9Tni28E2kKyydG3WGH3eoyKtsSUriBJaAJy40ItCDP1+8RdYZ/8x+/bYtjdsm2CtBxxYiHUFogT9\n",
       "yw2JXYDfFREOhsQYW8BHg+1K9/DOETMshl7g89AopuJgnsQc8MzXg/KgzE0hxg6gdvpVMVYrlQJH\n",
       "qJ5GZ5XyBGLJxT4wQsUIgqDKEagdZUm3BCI2USEpno1qzejkdfBlTx5GZ/nopCx5Hwuyh2OYEse1\n",
       "jFBlz9bwJY6XwfI/l2RhZwOuLdcAAAAASUVORK5CYII=\n",
       "\" style=\"display:inline;vertical-align:middle;\" /></a><br>"
      ],
      "text/plain": [
       "<IPython.core.display.HTML object>"
      ]
     },
     "metadata": {},
     "output_type": "display_data"
    },
    {
     "data": {
      "text/html": [
       "<strong id=\"add_3_6\"><a class=\"ProveItLink\" href=\"proofs/add_3_6/thm_proof.ipynb\">add_3_6</a> (conjecture without proof):<br></strong> <a class=\"ProveItLink\" href=\"../__pv_it/theorems/5e93ae37dc56e16c82433eb13c0776845e00095b0/theorem_expr.ipynb\"><img src=\"data:image/png;base64,iVBORw0KGgoAAAANSUhEUgAAAGEAAAAVBAMAAACkm51HAAAAMFBMVEX////MzMxUVFRERES6uroi\n",
       "IiIQEBCYmJhmZmYyMjLu7u52dnaqqqqIiIjc3NwAAACW8nlqAAAAAXRSTlMAQObYZgAAAAlwSFlz\n",
       "AAAOxAAADsQBlSsOGwAAAYNJREFUOMt1kztIA0EQhv/j8nLN4xorm1hoa8Bop14XG0GEw8YiRRAE\n",
       "kS3tDMFHQIQUgmB1ELQ1WgUUTCWIhByCYGVsrGwUsUgI6Nytxd3mdovZeezHzOzsAnhD+FL5kWop\n",
       "Assq4hH4aOYl5+jNFVJ86Gy1YgOsBlZGJ5gofYJJ4EwGzh1tG0hwpAa4rAlfQWwjDmaAHZmYguuO\n",
       "AZESMv9EW2wd25UxWyJ6wJ2NB3GEB4g5kUlqhH0DXRNHrh5ZQ4DYHH8xqf1sSA6OU9K0p4kg0ePY\n",
       "AuJeqQnLW1nRx6KDdVFVy0+wX+DARrIo5bgwtekWSp4e65PYt6wNy1ol4gfYNaF9SgQ7vu0aLqEZ\n",
       "0AfBqojgiBSH5013RVVl+jIx6+VIrkh9wJvHPJWUFVX55kF9UOc5KcG9zb6Aa4pweR56g9FdJRoS\n",
       "8WzrdG6MtKVqPni7aFYMIGrK77O5RzJq+H1tv/Ee/tjjZb9V8BuHiv+xoPo46ZwiUFcRuurbph1F\n",
       "4DXc/QcjXWMloS/8OQAAAABJRU5ErkJggg==\n",
       "\" style=\"display:inline;vertical-align:middle;\" /></a><br>"
      ],
      "text/plain": [
       "<IPython.core.display.HTML object>"
      ]
     },
     "metadata": {},
     "output_type": "display_data"
    },
    {
     "data": {
      "text/html": [
       "<strong id=\"add_4_6\"><a class=\"ProveItLink\" href=\"proofs/add_4_6/thm_proof.ipynb\">add_4_6</a> (conjecture without proof):<br></strong> <a class=\"ProveItLink\" href=\"../__pv_it/theorems/b1e0177fcbb769564e9ca392acaa9a615ce920d30/theorem_expr.ipynb\"><img src=\"data:image/png;base64,iVBORw0KGgoAAAANSUhEUgAAAGwAAAAVBAMAAABRZRb3AAAAMFBMVEX////MzMxUVFRERES6uroi\n",
       "IiIQEBCYmJhmZmYyMjLu7u52dnaqqqqIiIjc3NwAAACW8nlqAAAAAXRSTlMAQObYZgAAAAlwSFlz\n",
       "AAAOxAAADsQBlSsOGwAAAYVJREFUOMtjYGB4wIAd8DHgA7wHcEiwXMCn7TSIkEAX3b1bgOE6pmLR\n",
       "BQwM3Hv7GBi4JoC4QWjSLx2YAhg4F6CJcmnMBwrNYVj6gIGjAORQmDZ3KD2XgdmAgb0Bw7b7CxjY\n",
       "Axi4DRjYQDzxSVDhsxCK5xeYysKmjVkBJH0SxNuApo05AUxNx6aNv4GB8Q9DN8iND9C0sU3c2wKk\n",
       "NmHTth6o7TvYxOcMaNr4pzOwAeOlEsTmCAUDBZi29xsYGP8yxIDciK5t/QcGDqDHjmGzDaTtN0MK\n",
       "AwP7A4i21tDQtNBQUKCuD2Bg/8LAII/VkRsYWP6CtL1lwHDkBAb27wwMbjiChOcPyJFOSkrftFFD\n",
       "EmLbUWx+A0XoLwZbMDcJLd6AfgPGQTHW6E5g4JgADeTPqNoYrBmWAUOyG0PbfmB2iWFYJsAgCuI1\n",
       "/9dF1cbdoQgkQ9B1KeVPKmBYsRcoxyqALH4WJcMF4M43qOnVHZkDTuW4gB1Omcf4suliMgwE+QBX\n",
       "3ud9gFsTAGwKcru5bRrhAAAAAElFTkSuQmCC\n",
       "\" style=\"display:inline;vertical-align:middle;\" /></a><br>"
      ],
      "text/plain": [
       "<IPython.core.display.HTML object>"
      ]
     },
     "metadata": {},
     "output_type": "display_data"
    },
    {
     "data": {
      "text/html": [
       "<strong id=\"add_5_6\"><a class=\"ProveItLink\" href=\"proofs/add_5_6/thm_proof.ipynb\">add_5_6</a> (conjecture without proof):<br></strong> <a class=\"ProveItLink\" href=\"../__pv_it/theorems/a98e2bee651e04b1143beacdb3a09304eaea7bec0/theorem_expr.ipynb\"><img src=\"data:image/png;base64,iVBORw0KGgoAAAANSUhEUgAAAGsAAAAVBAMAAACzuQ2OAAAAMFBMVEX////MzMxUVFRERES6uroi\n",
       "IiIQEBCYmJhmZmYyMjLu7u52dnaqqqqIiIjc3NwAAACW8nlqAAAAAXRSTlMAQObYZgAAAAlwSFlz\n",
       "AAAOxAAADsQBlSsOGwAAAVhJREFUOMtjYGB4wIAd8DHgA7wHGAQYuLDoZbmAT9tpBob8maEL0ER3\n",
       "7xZguI6pWHQBlOCawMAQ9nUXmvRLB6YABk50s7g05i+AEAwcBQwMCnAJdyg9l4HZgIG9AcO2+wug\n",
       "BBsDsrazEIrnF5jKwq3tJDZtzAlgajpubd1AWv22Iqo2tol7W4DUJtzaQCZaMbx3QNHGP52B7QAD\n",
       "QyWIzREKBgqo2mIgrgpA0bb+AwMH0GPHcNuWAuZy/AMSraGhaaGhQSBtAQzsXxgY5PFqY57AwPER\n",
       "1ZETGNi/MzC44dYGdCRbAAPTB9SQhNh2FLffbBkYuIE6DVDjDeg3YBwU47YNGMh8DQzXFqBoY7Bm\n",
       "WHYAEjmoYP8DKCEKpF80daHGGwN3BygmQ9B1KeVPKoAQrALI4mdRMlwA7nyDml7dkTmgVI4T2OGU\n",
       "eYwvmy4mw0CQD3Dlfd4HuDUBAJx2cefL96sgAAAAAElFTkSuQmCC\n",
       "\" style=\"display:inline;vertical-align:middle;\" /></a><br>"
      ],
      "text/plain": [
       "<IPython.core.display.HTML object>"
      ]
     },
     "metadata": {},
     "output_type": "display_data"
    },
    {
     "data": {
      "text/html": [
       "<strong id=\"add_6_6\"><a class=\"ProveItLink\" href=\"proofs/add_6_6/thm_proof.ipynb\">add_6_6</a> (conjecture without proof):<br></strong> <a class=\"ProveItLink\" href=\"../__pv_it/theorems/493ee42998780be3c621f359dea20de65b07eda60/theorem_expr.ipynb\"><img src=\"data:image/png;base64,iVBORw0KGgoAAAANSUhEUgAAAGwAAAAVBAMAAABRZRb3AAAAMFBMVEX////MzMxUVFRERES6uroi\n",
       "IiIQEBCYmJhmZmYyMjLu7u52dnaqqqqIiIjc3NwAAACW8nlqAAAAAXRSTlMAQObYZgAAAAlwSFlz\n",
       "AAAOxAAADsQBlSsOGwAAAXBJREFUOMudkz1Iw0AYhl8S82NtU5dODlUnxziL0smuoRhwcMggDl0s\n",
       "Ork5KFS6RJdOYkBwVVyLtIuCSKGb4GLARRepIAgdjJfkKLn0LoMfHMk9d8999wvABz8MZEWhJ2iY\n",
       "GmRpT6R0OrMpGpLnyc4lD3g/WQZyLvBRkSy2OSLTXkrKLV14MEx0K9AbwDlkM26o0g4R0Q4nsr16\n",
       "kHyoDlQgPxrjfvyhpM7T1BGkXzwCspPWKGlzs1mQvtAC1NO7I1aj5JankVCG4YjFNtQeo1FyEP7r\n",
       "dhTzCa08wBZwPYReZzRKHgTZasA26WRB+ya1Y9vese0axqTM13Qz0ooutB92kjFZ52t7pJBJyjRb\n",
       "Yidjcs9dW/4Gn1glX7IShz23mOxzs80BL9Emr+CK3UlKWhNa14ex2WxaKJHKTHOBPTdKNtLW4u5Z\n",
       "QwmCwIXC3P0+8+As8bth72s1WQlvuTDWhC1vWc/08h8DhisQvf2CL5b+AAIwcrs8P1mmAAAAAElF\n",
       "TkSuQmCC\n",
       "\" style=\"display:inline;vertical-align:middle;\" /></a><br>"
      ],
      "text/plain": [
       "<IPython.core.display.HTML object>"
      ]
     },
     "metadata": {},
     "output_type": "display_data"
    },
    {
     "data": {
      "text/html": [
       "<strong id=\"add_7_6\"><a class=\"ProveItLink\" href=\"proofs/add_7_6/thm_proof.ipynb\">add_7_6</a> (conjecture without proof):<br></strong> <a class=\"ProveItLink\" href=\"../__pv_it/theorems/5d3dfa4ae25d4391ae57951677f16d431436adb20/theorem_expr.ipynb\"><img src=\"data:image/png;base64,iVBORw0KGgoAAAANSUhEUgAAAGwAAAAVBAMAAABRZRb3AAAAMFBMVEX////MzMxUVFRERES6uroi\n",
       "IiIQEBCYmJhmZmYyMjLu7u52dnaqqqqIiIjc3NwAAACW8nlqAAAAAXRSTlMAQObYZgAAAAlwSFlz\n",
       "AAAOxAAADsQBlSsOGwAAAYxJREFUOMudkz9Iw0AUxr82Nalp+mfpbHVy7OAgiNLJOgY1uDg4FAcR\n",
       "DDjp1EEh0KW6dBIDgmvRSSliFgWRUnFxtCAI4iIiKrVQ7y5FmutdB9/ycu/ld+/ed/cANCG2BAZZ\n",
       "3EtsCxORu0HYLYxOp/PJRWu1FB76f067wOvZBKCXEZt0nOVg+iUXNjHscpA+fuhCL6LhIWojRvoo\n",
       "+ol894cDKFloxb5qjy7ibVTLUAEDCHfDdd8ZLebWRFikgGQZN2x5EsSUFeYqIoxYw0aJaZ0NYure\n",
       "xQ5xp2IsstTdMZwLYskKVA/Yot9Ri1nmDwvdjwJMwmcEseoboqSxa9khPRSoP2exXctatax5ipnQ\n",
       "PoARCaa2fGyBq0ak0r6AWREWSkFps0Pq7xym+NWuRL0lWxSbptJ8c5hBeiN3sCmqpmboIanIxg+H\n",
       "YQrHRMlSH3bZhGbTe0vTa1vnsZhDRMYiT41t7NuYc8hTHkr1xuuBgTPlcxN8r/neBXnlcpuRZp4G\n",
       "jenRPzakHchmP96UQ79Gum4Ydgy/VgAAAABJRU5ErkJggg==\n",
       "\" style=\"display:inline;vertical-align:middle;\" /></a><br>"
      ],
      "text/plain": [
       "<IPython.core.display.HTML object>"
      ]
     },
     "metadata": {},
     "output_type": "display_data"
    },
    {
     "data": {
      "text/html": [
       "<strong id=\"add_8_6\"><a class=\"ProveItLink\" href=\"proofs/add_8_6/thm_proof.ipynb\">add_8_6</a> (conjecture without proof):<br></strong> <a class=\"ProveItLink\" href=\"../__pv_it/theorems/2abc6c7f6a1cc81d741c2251fc8691f057e23a6d0/theorem_expr.ipynb\"><img src=\"data:image/png;base64,iVBORw0KGgoAAAANSUhEUgAAAGwAAAAVBAMAAABRZRb3AAAAMFBMVEX////MzMxUVFRERES6uroi\n",
       "IiIQEBCYmJhmZmYyMjLu7u52dnaqqqqIiIjc3NwAAACW8nlqAAAAAXRSTlMAQObYZgAAAAlwSFlz\n",
       "AAAOxAAADsQBlSsOGwAAAYxJREFUOMudkz9IAlEcx7+o3V3amQRRW+ZSEFF7JNGQq0i3RUREQ0tC\n",
       "U5uQgVCDuQhBdBC0NCitR+RSECG5NXbgEA1BYBREYb/3zsR3vnPoN7zf+/d5v/f7B8CGXMLoJXrF\n",
       "4yBQ64XdAxdW1r1rWRE8dl8eNtk4CgTzQAY+l8mXBV8S/aYLCk6e8q0UoKWhpjnMJNG6cAL/LNRM\n",
       "l7UnhumEKUAo2saqjhr44mpLjo0UgDu61DDJZifmX+OqKMfKhB2Qnvk5hIApR1csSJdSTLcLzota\n",
       "c1XEBotQKEi7bK4ZXKJt7BmErbAc1JsVASu9QSPHbqXWygzbAIvYA/N+3zA2DSPFsCTUd2BMhql2\n",
       "C1NMhL/FT+ahfgJLMuwVrU+WaD0hRtKxdiPzbTEW+5jCPFmjYo6LeSPfKAc78gRgnQc5cAy1JmCY\n",
       "w3nFSY4o17xdGlScpIZyWTEBCOXGaVx2U7HtAtXFXnMafZHO/arQcEnvvhHrNdG5+Ks4qcQ9T+q9\n",
       "2vTsHw8yD7x6X7e9oV/koXF8qu+yaAAAAABJRU5ErkJggg==\n",
       "\" style=\"display:inline;vertical-align:middle;\" /></a><br>"
      ],
      "text/plain": [
       "<IPython.core.display.HTML object>"
      ]
     },
     "metadata": {},
     "output_type": "display_data"
    },
    {
     "data": {
      "text/html": [
       "<strong id=\"add_9_6\"><a class=\"ProveItLink\" href=\"proofs/add_9_6/thm_proof.ipynb\">add_9_6</a> (conjecture without proof):<br></strong> <a class=\"ProveItLink\" href=\"../__pv_it/theorems/a362db44f1192c830b610f527fb9a297b69738ec0/theorem_expr.ipynb\"><img src=\"data:image/png;base64,iVBORw0KGgoAAAANSUhEUgAAAGwAAAAVBAMAAABRZRb3AAAAMFBMVEX////MzMxUVFRERES6uroi\n",
       "IiIQEBCYmJhmZmYyMjLu7u52dnaqqqqIiIjc3NwAAACW8nlqAAAAAXRSTlMAQObYZgAAAAlwSFlz\n",
       "AAAOxAAADsQBlSsOGwAAAZRJREFUOMudlDFIw0AUhn9aTWNq2yDU1eqiOGUTFCWTXYMYB1HoUBy6\n",
       "tODkVkSh6FJdioMYEMSt4GgRuyiIFDrp0MGCi062oAii4rtEpJfedfAt7+5dvnv3v3cXAE2ILYpe\n",
       "FqlKFvrq4rgOjTLdAmph0r9Wqei470biDpA9sB1oRWirGPad9NkMWBhwfJA2cUShpbdzypRDIIWg\n",
       "4S0kfz84ZJFQvivbA2EJNlCAWBHhDy9c89ygN83IsRugbCDyymHBlOtKcmzXy/bOYcrexRa5MyE2\n",
       "3hh1d2TavjgsVoJCfdlgY9V2LfGHTePFxAoVKI2hTw4rt6CSsGthNtJgIU3utFFrk9u27TXbXmCY\n",
       "hRCpHZFg6reLwV9JUhsitfMiLFiE2maHZGkNvpJetiuRNsVCoIVZ6lIGZZ3vG2mjHqyLsoWp0AYr\n",
       "cmQZU+AwzOCk6jbHZ5dNRPO4cxBn97Zg+rBwgXqDRT81lt3P4WlzB+jXO+M17sFZ8ufG39dk54Ru\n",
       "udzmpCuPvV738T82ZArqsr9FUw79ABvQcBeLoWK1AAAAAElFTkSuQmCC\n",
       "\" style=\"display:inline;vertical-align:middle;\" /></a><br>"
      ],
      "text/plain": [
       "<IPython.core.display.HTML object>"
      ]
     },
     "metadata": {},
     "output_type": "display_data"
    }
   ],
   "source": [
    "add_0_6, add_1_6, add_2_6, add_3_6, add_4_6, add_5_6, add_6_6, add_7_6, add_8_6, add_9_6 = [Equals(Add(num(n), num(6)), num(n+6)) for n in range(10)]"
   ]
  },
  {
   "cell_type": "code",
   "execution_count": 24,
   "metadata": {},
   "outputs": [
    {
     "data": {
      "text/html": [
       "<strong id=\"add_0_7\"><a class=\"ProveItLink\" href=\"proofs/add_0_7/thm_proof.ipynb\">add_0_7</a> (conjecture without proof):<br></strong> <a class=\"ProveItLink\" href=\"../__pv_it/theorems/7d0a9293ce03c525ae21fb0392a0e4177c946c750/theorem_expr.ipynb\"><img src=\"data:image/png;base64,iVBORw0KGgoAAAANSUhEUgAAAGIAAAAVBAMAAABPrCZEAAAAMFBMVEX////MzMxUVFRERES6uroi\n",
       "IiIQEBCYmJhmZmYyMjLu7u52dnaqqqqIiIjc3NwAAACW8nlqAAAAAXRSTlMAQObYZgAAAAlwSFlz\n",
       "AAAOxAAADsQBlSsOGwAAAVpJREFUOMt1kz1Lw1AUht/Q1kSbxizuEfwB+QOKWyexCNkcMohzR8cs\n",
       "xYIg2QRxKIji1qBzoatIqb9ABPFj003wg3jOvSC59+YG8nGfw5Nz3pAL4BH1h42jMzXZ64guW/UY\n",
       "uAPak2O1NC/LMu30dUNgLOXAGS7UEW6Gw8EUp7ohsdeH20M7lqwrbwXwBhzohsQLQCOC/yXZTN4o\n",
       "WkSlkWZIfAssZ3B+FIOihcCiEUTgI2BMxqdmPHE5MgzGJ8B7AedXM9bodHN+8hJxRP94VxrfqhGk\n",
       "dPFTvYXAezRVgSb3GCTJfpLsiHn59c6HESOXBiX3teQt/tpNo4fANFUjhqt+XYx5bL+n5xB4nRKm\n",
       "8HLV2M44eaz3EPha9LkMVWNe8NsL48diskLn1WQVqvHCP3RrUzckDqtoVl08128PN6uuutXFoWVH\n",
       "bdi2WhBbCuc2o2HbtsG9pfBQj/8A9vZheZPQtT8AAAAASUVORK5CYII=\n",
       "\" style=\"display:inline;vertical-align:middle;\" /></a><br>"
      ],
      "text/plain": [
       "<IPython.core.display.HTML object>"
      ]
     },
     "metadata": {},
     "output_type": "display_data"
    },
    {
     "data": {
      "text/html": [
       "<strong id=\"add_1_7\"><a class=\"ProveItLink\" href=\"proofs/add_1_7/thm_proof.ipynb\">add_1_7</a> (conjecture without proof):<br></strong> <a class=\"ProveItLink\" href=\"../__pv_it/theorems/0f9f6c7d0a90715e82b34be32881073d6b6b37740/theorem_expr.ipynb\"><img src=\"data:image/png;base64,iVBORw0KGgoAAAANSUhEUgAAAGEAAAAVBAMAAACkm51HAAAAMFBMVEX////MzMxUVFRERES6uroi\n",
       "IiIQEBCYmJhmZmYyMjLu7u52dnaqqqqIiIjc3NwAAACW8nlqAAAAAXRSTlMAQObYZgAAAAlwSFlz\n",
       "AAAOxAAADsQBlSsOGwAAAVpJREFUOMtjYGB4wIAd4BJn4D2AKfZ8AZDwxaXjNBCLLkAVO/////8E\n",
       "3gJ0pVy7dzgAyQkMXBrz0XRs7uhoPcAwC10HBwODDpAEmXQfpsMdQm1gYHjBwFCBrqOcgWElAwMb\n",
       "A7KOsxAK6DUFoBSazQybwDpOYtPBwMAtwMDAie6R81YM7QwM3dh1PAbpUkDTwfT/BtD26dh1qAAx\n",
       "+wSwd0PBAKy7/yswkmKw6uBLABI8CWh28Oyz/8PAkILQ0RoamhYaGgT2Bsh4xg9oOioYeL4tQNaB\n",
       "ZAerAZBgQbcji4Hh/QEcrloPcjZPAKo/uIB2MhUw2GLV4d8A8rkBmh15DAzMD0CxwsCw/wGajvMb\n",
       "QKZvQNPhuYChFpgIgSyl/EkFqDqegRI0qwOaDkaNDqAQqwCy2FlkzlPsiZ29AZnnjsxpx5E/7HBl\n",
       "HD4DHBKLcelgxpVt+S7gkLiHXRgAgXJi13BcCk8AAAAASUVORK5CYII=\n",
       "\" style=\"display:inline;vertical-align:middle;\" /></a><br>"
      ],
      "text/plain": [
       "<IPython.core.display.HTML object>"
      ]
     },
     "metadata": {},
     "output_type": "display_data"
    },
    {
     "data": {
      "text/html": [
       "<strong id=\"add_2_7\"><a class=\"ProveItLink\" href=\"proofs/add_2_7/thm_proof.ipynb\">add_2_7</a> (conjecture without proof):<br></strong> <a class=\"ProveItLink\" href=\"../__pv_it/theorems/b691d9594e377584fa42c345a79d8d440d3445920/theorem_expr.ipynb\"><img src=\"data:image/png;base64,iVBORw0KGgoAAAANSUhEUgAAAGEAAAAVBAMAAACkm51HAAAAMFBMVEX////MzMxUVFRERES6uroi\n",
       "IiIQEBCYmJhmZmYyMjLu7u52dnaqqqqIiIjc3NwAAACW8nlqAAAAAXRSTlMAQObYZgAAAAlwSFlz\n",
       "AAAOxAAADsQBlSsOGwAAAYFJREFUOMt1kz1Iw0AUx/9N7YdpG7o4OdhBXI04q9k6iUUIODhkEEcp\n",
       "To5FLEZE6CY4BURXQ10chGYSREqzuDjYgvgxScVJB+u7y5K75o7kPv53v/fu3bsDMEByUekoBePa\n",
       "u0fVqop4AD6OFkStNxqNnFJ9bK27T6b0FgwTHUuYuXbdZoAzGbgIUztAvg5tgKwTadWo8ckvsCcT\n",
       "c8AikKXvF9pfpHWjhkKrkO5JxA/Q8XAPaDVoXwIBFMrApBSI/g30LRzzQWYoES+MqiT4qOOU92dC\n",
       "iZilP9divbzNSyWKYyXEJl+wDpEw2EkUHcnHpZWaD7DF7Zisbtr2tm1zuMDMp4YSoZ/c9ssRsQvJ\n",
       "R4aZmHDG801nxXZV9PEpElds28WaFAd4PpaomQaeRGKtwSI3JQd3nk5ZaFOYG65bE4mez6z7EvHo\n",
       "pSlFU7RpunctkXhjFzpjSUTh5oDJ5bjWjQ9eky97rhEfVeODQ8X7WFY9HMNUTJyriLTq2RqhYuI5\n",
       "Wf4Hh7VheTF2peUAAAAASUVORK5CYII=\n",
       "\" style=\"display:inline;vertical-align:middle;\" /></a><br>"
      ],
      "text/plain": [
       "<IPython.core.display.HTML object>"
      ]
     },
     "metadata": {},
     "output_type": "display_data"
    },
    {
     "data": {
      "text/html": [
       "<strong id=\"add_3_7\"><a class=\"ProveItLink\" href=\"proofs/add_3_7/thm_proof.ipynb\">add_3_7</a> (conjecture without proof):<br></strong> <a class=\"ProveItLink\" href=\"../__pv_it/theorems/093c9fcdfe6a9d2a55444fb9953ee450db982d1d0/theorem_expr.ipynb\"><img src=\"data:image/png;base64,iVBORw0KGgoAAAANSUhEUgAAAGwAAAAVBAMAAABRZRb3AAAAMFBMVEX////MzMxUVFRERES6uroi\n",
       "IiIQEBCYmJhmZmYyMjLu7u52dnaqqqqIiIjc3NwAAACW8nlqAAAAAXRSTlMAQObYZgAAAAlwSFlz\n",
       "AAAOxAAADsQBlSsOGwAAAZBJREFUOMtjYGB4wIAd8DHgA7wHsOioAhIsF/BpO83A8HqHCaoYz///\n",
       "/78xXMdULLqAgYF7bx8DA9cEBq4GhvOoVnJbdHTEMHAuQNPEpTEfKDSHYekDBo4CBt4/DOsnQCTc\n",
       "odqA7mxgYG/AsO3+Agb2AAZuAwY2oCdSGPih2s5CHcnAwASksrBpY1Zg4PnFcBLMPV+Aog0INgLx\n",
       "dGza+BsYGP8wdIN4LOEMaNr4DIDEJmza1gO1fQebyHhJEV0bkwOQqASxOELBQAGm7f0GBsa/DDEQ\n",
       "Rx5A0/YMRBzDZhtI22+GFDCX7ReQaA0NTQsNDQIL7AQR8lgduYGB5S9IG6MAA/MfNNuCQYQbjiDh\n",
       "+QNyJP8vDG1cn0DkUWx+YzZgYP/FYAt0oQLEkUjaWH6AyGKs0Z3AwDEBFMjsBRjxxvMbRHZjaNsP\n",
       "zC4xDMsEGESBHI8OE7QI4MsBkSHoupTyJxUwrNgLjC5WAWTxsyjZJwB3vkFNr+7IHI4CPPnNDqfM\n",
       "Y3zZdDEZBoJ8gCvv8z7ArQkA4eRxymBELeQAAAAASUVORK5CYII=\n",
       "\" style=\"display:inline;vertical-align:middle;\" /></a><br>"
      ],
      "text/plain": [
       "<IPython.core.display.HTML object>"
      ]
     },
     "metadata": {},
     "output_type": "display_data"
    },
    {
     "data": {
      "text/html": [
       "<strong id=\"add_4_7\"><a class=\"ProveItLink\" href=\"proofs/add_4_7/thm_proof.ipynb\">add_4_7</a> (conjecture without proof):<br></strong> <a class=\"ProveItLink\" href=\"../__pv_it/theorems/f6dabb407a9cb663c2ed111900f3f8e2fdac75d10/theorem_expr.ipynb\"><img src=\"data:image/png;base64,iVBORw0KGgoAAAANSUhEUgAAAGsAAAAVBAMAAACzuQ2OAAAAMFBMVEX////MzMxUVFRERES6uroi\n",
       "IiIQEBCYmJhmZmYyMjLu7u52dnaqqqqIiIjc3NwAAACW8nlqAAAAAXRSTlMAQObYZgAAAAlwSFlz\n",
       "AAAOxAAADsQBlSsOGwAAATdJREFUOMtjYGB4wIAd8DHgA7wHsOioAhIsF/BpOw0iJFDFeP7///+N\n",
       "4TqmYtEFUIJrAogbhCrLbdHREcPAuQBNE5fG/AUQgoGjAORQmDZ3qDagOxsY2BswbLu/AEqwgXji\n",
       "k6DCZ6GOZGBgAlJZuLWdBPE2oGkDgo1APB23tm6QGx9gaOMzABKbcGsDmficAUMbkwOQqASxOELB\n",
       "QAFVWwzIjZjanoGIY7htS2FgYH8A0dYaGpoWGgoJ1J0gQh6vtrcMmLYFgwg33NqAjnRSUvqmjaqN\n",
       "6xOIPIrbb7ZgbhKabSw/QGQxbtsggfwZTRvPbxDZjaFt/wMoIQriNf/XRdXGlwMiQ9B1KeVPKoAQ\n",
       "rALI4mdRsk8A7nyDml7dkTngVI4L2OGUeYwvmy4mw0CQD3Dlfd4HuDUBAGaUanZUzeggAAAAAElF\n",
       "TkSuQmCC\n",
       "\" style=\"display:inline;vertical-align:middle;\" /></a><br>"
      ],
      "text/plain": [
       "<IPython.core.display.HTML object>"
      ]
     },
     "metadata": {},
     "output_type": "display_data"
    },
    {
     "data": {
      "text/html": [
       "<strong id=\"add_5_7\"><a class=\"ProveItLink\" href=\"proofs/add_5_7/thm_proof.ipynb\">add_5_7</a> (conjecture without proof):<br></strong> <a class=\"ProveItLink\" href=\"../__pv_it/theorems/f2e3685ee68d250381395c84a4cbf4bea4a0a1bd0/theorem_expr.ipynb\"><img src=\"data:image/png;base64,iVBORw0KGgoAAAANSUhEUgAAAGwAAAAVBAMAAABRZRb3AAAAMFBMVEX////MzMxUVFRERES6uroi\n",
       "IiIQEBCYmJhmZmYyMjLu7u52dnaqqqqIiIjc3NwAAACW8nlqAAAAAXRSTlMAQObYZgAAAAlwSFlz\n",
       "AAAOxAAADsQBlSsOGwAAAYZJREFUOMtjYGB4wIAd8DHgA7wHGAQYuFD18lUBCZYL+LSdZmDInxm6\n",
       "AEWM5////98YrmMqFgWqe9FpyMDANYGBIezrLlRZbouOjhgGzgVomrg05i9g4DNg2O/AwFHAwKAA\n",
       "l3CHagO6s4GBvQHDtvsLGJgeMLAlMLAxIGs7C3UkAwMTkMrCpo3tFwPTP4aT2LQBwUYgno7VtgAG\n",
       "po8M3UCO+m1FdG1AHzAwbMKmDQhYP4BNtGJ474CmjQkkUAlicYSCgQKSNvkLDDFgLnMAmrZnIOIY\n",
       "DtuCGBhSwFyOf0CiNTQ0LTQ0CCywE2wqdm0cBmBtzBMYOD6i2RYMItywaysCYqAj2YBh8wFVG9cn\n",
       "EHkUq994NjC8Y7AFRy6bAao2lh8gshirbdIMDLdAgQxMENcWoGrj+Q0iuzG07X/AwBfR0RHAIArk\n",
       "vGjqQos3vhwQGYKuSyl/UgErMJlPYGAVQBY/i5J9AnDnG9T06o7MAaVynMAOp8xjfNl0MRkGgnyA\n",
       "K+/zPsCtCQAoQmoo0LDZOAAAAABJRU5ErkJggg==\n",
       "\" style=\"display:inline;vertical-align:middle;\" /></a><br>"
      ],
      "text/plain": [
       "<IPython.core.display.HTML object>"
      ]
     },
     "metadata": {},
     "output_type": "display_data"
    },
    {
     "data": {
      "text/html": [
       "<strong id=\"add_6_7\"><a class=\"ProveItLink\" href=\"proofs/add_6_7/thm_proof.ipynb\">add_6_7</a> (conjecture without proof):<br></strong> <a class=\"ProveItLink\" href=\"../__pv_it/theorems/047450fe71704c24d5208ae86f6552528dc93e640/theorem_expr.ipynb\"><img src=\"data:image/png;base64,iVBORw0KGgoAAAANSUhEUgAAAGwAAAAVBAMAAABRZRb3AAAAMFBMVEX////MzMxUVFRERES6uroi\n",
       "IiIQEBCYmJhmZmYyMjLu7u52dnaqqqqIiIjc3NwAAACW8nlqAAAAAXRSTlMAQObYZgAAAAlwSFlz\n",
       "AAAOxAAADsQBlSsOGwAAAY5JREFUOMudkz9Iw0AUxr82Mamx/5bOtk6ODg6CKJ2sY1GDS4cOxaEI\n",
       "Bpx06qAQ6FJdOokBwbXopBQxi4JIqbg4WhAEcRERlVqo92opzfWugw/uSy4vv3vv7t4D0IDYwhhm\n",
       "IVdAbDNR74Zht2xUq1HPt2C73f7Ew+DPMQd4PZsGjBLwkvSnPd6xGdvOYNThIGPy0IFRQN1FwAIO\n",
       "oEz9OVJdjOVZgF4YiPboINRCpQSNpdTsfa51kwT87JEXYWoOkRJuACXLY8xO2CiLMGZ1C0VA27vY\n",
       "4bEwZX0qxtTVzoqRMjSXw/xJJlv0FjA7Fu9hvvsEkAEqbwjkOeyZ5FqWpIscw9LQP9hs1zTXTHOp\n",
       "4z8nGZdgWpMwdjD6FxdtmWRBhPmiUFqUpNKN1ocZ76RXor1FmoTNsVtie8t6MfWbdFMUTYtTknTI\n",
       "szjmTjL4Q1ocwC4b0C26txjVkp3g7i28TrrCUxMb+xYWbVbKI57ar3naJy3vG2+9pvonVOVSm5d6\n",
       "noa16dE/FqQdyHo/1JBDv61ibhic9BjnAAAAAElFTkSuQmCC\n",
       "\" style=\"display:inline;vertical-align:middle;\" /></a><br>"
      ],
      "text/plain": [
       "<IPython.core.display.HTML object>"
      ]
     },
     "metadata": {},
     "output_type": "display_data"
    },
    {
     "data": {
      "text/html": [
       "<strong id=\"add_7_7\"><a class=\"ProveItLink\" href=\"proofs/add_7_7/thm_proof.ipynb\">add_7_7</a> (conjecture without proof):<br></strong> <a class=\"ProveItLink\" href=\"../__pv_it/theorems/80c57d59b1b704a4fb3759c5fb8f03ad5dc8c03d0/theorem_expr.ipynb\"><img src=\"data:image/png;base64,iVBORw0KGgoAAAANSUhEUgAAAGwAAAAVBAMAAABRZRb3AAAAMFBMVEX////MzMxUVFRERES6uroi\n",
       "IiIQEBCYmJhmZmYyMjLu7u52dnaqqqqIiIjc3NwAAACW8nlqAAAAAXRSTlMAQObYZgAAAAlwSFlz\n",
       "AAAOxAAADsQBlSsOGwAAAU9JREFUOMtjYGB4wIAd8DHgA7wH+KowdIBEWC7g03aagef////fUMQg\n",
       "ItcxFYsuAJESDAxcExi4LTo6YlBkISKcC9A0cWnMBwsFMTBwFDBwA13VAJFwh2oDi7A3YNh2H6SN\n",
       "F6iNDegkBgYmqPBZqCMhIlnYtYlPYmA4CeZuRNUGFZmOXdsGoLZucMgZoGsDi2zCqo33wSSoiUwO\n",
       "6NrAIpUgFkcoGCjAtT1nAGoDB+EzBnRtYJFjWG3bANKWAuLtBIu1hoamhYYGMcBF5LFpY38A1xaM\n",
       "YRtYxA2btrcMMEdyfULXBhE5is1vTkpK37QZbEGp7we6NohIMfYIYEiCBDLPb3RtEJFuDG37wdnl\n",
       "MzBxgiIpB10bRCQEXZdS/qQCBobm/7oMrALI4mdRsk8A7nyDml7dkTnAVI4b2OGUeYwvmy4mw0CQ\n",
       "D3Dlfd4HuDUBACInY6GN6jFcAAAAAElFTkSuQmCC\n",
       "\" style=\"display:inline;vertical-align:middle;\" /></a><br>"
      ],
      "text/plain": [
       "<IPython.core.display.HTML object>"
      ]
     },
     "metadata": {},
     "output_type": "display_data"
    },
    {
     "data": {
      "text/html": [
       "<strong id=\"add_8_7\"><a class=\"ProveItLink\" href=\"proofs/add_8_7/thm_proof.ipynb\">add_8_7</a> (conjecture without proof):<br></strong> <a class=\"ProveItLink\" href=\"../__pv_it/theorems/10377ec72192e7a5d7adae5fd0ed9a65fcce5ec10/theorem_expr.ipynb\"><img src=\"data:image/png;base64,iVBORw0KGgoAAAANSUhEUgAAAGwAAAAVBAMAAABRZRb3AAAAMFBMVEX////MzMxUVFRERES6uroi\n",
       "IiIQEBCYmJhmZmYyMjLu7u52dnaqqqqIiIjc3NwAAACW8nlqAAAAAXRSTlMAQObYZgAAAAlwSFlz\n",
       "AAAOxAAADsQBlSsOGwAAAYtJREFUOMtjYGB4wIAd8DHgA7wHsOioAhIsF7BrEGDgAtp0moFh9e4W\n",
       "VBme////f2O4jqlFdAEDQ/7M0AUMXBMYGBoYmFCt5Lbo6Ihh4FyApolLYz5QKOzrLgYGjgIG9gKw\n",
       "ZhBwh2oDurOBgb0Bw7b7QG0KIAYbUJECXNtZqCMZGJiAVBZubSeBij4vANqJrA0INgLxdNzauoFY\n",
       "/28PA5o2PgMgsQmrNvXbihATOf7HoWtjcgASlSAWRygYKMC1WTG8d2CIAXJOP/5/AE3bMxBxDKtt\n",
       "DAzMAQwpDKAQOw/yfWtoaFpoaBBYfieIkMehjeMfSBvbAga+P2i2BYMIN2zamCcwcHwEOXI9kK+O\n",
       "qo3rE4g8is1vbAEMTB8YbIG2AZOYHao2lh8gshibbcCkwGYACmSWWQzsF1C18fyGRQ4q2P8AlHyu\n",
       "LWAQBXKEOlrQIoAvB0SGoOtSyp9UwPCiqYuBgVUAWfwsSvYJwJ3dUNOrOzIHluKwAjucMo/x5e7F\n",
       "ZBgI8sEFXKXFA9yaAEDKbYVB7/t9AAAAAElFTkSuQmCC\n",
       "\" style=\"display:inline;vertical-align:middle;\" /></a><br>"
      ],
      "text/plain": [
       "<IPython.core.display.HTML object>"
      ]
     },
     "metadata": {},
     "output_type": "display_data"
    },
    {
     "data": {
      "text/html": [
       "<strong id=\"add_9_7\"><a class=\"ProveItLink\" href=\"proofs/add_9_7/thm_proof.ipynb\">add_9_7</a> (conjecture without proof):<br></strong> <a class=\"ProveItLink\" href=\"../__pv_it/theorems/6a23ec1f510b1b35c4ed4b3f9c8a3ca738b52ae10/theorem_expr.ipynb\"><img src=\"data:image/png;base64,iVBORw0KGgoAAAANSUhEUgAAAGwAAAAVBAMAAABRZRb3AAAAMFBMVEX////MzMxUVFRERES6uroi\n",
       "IiIQEBCYmJhmZmYyMjLu7u52dnaqqqqIiIjc3NwAAACW8nlqAAAAAXRSTlMAQObYZgAAAAlwSFlz\n",
       "AAAOxAAADsQBlSsOGwAAAZBJREFUOMtjYGB4wIAd8DHgA7wHsOioAhIsF/BpO83AwNGhhSrG8///\n",
       "/28M1zEViy4AErt3CzBwTWDgimUQQ3Upt0VHRwwD5wI0TVwa84FCLx2YAhg4ChiYEhiYDSAS7lBt\n",
       "QHc2MLA3YNh2H6htLkg1GwMD/wQG7l8Q4bNQRzIwMAGpLGzaeMBKTzIwrDdg4P2Cog0INgLxdGza\n",
       "mBNAjG6Ibd/RtPGBXL0Jmza2iXtbwCaC/PYXTRuTA5CoBLE4QsFAAaaNfzoD2wGGGGAApTAI/UHT\n",
       "9gxEHMNm2/oPDBxZDClAzorbZz8CqdbQ0LTQ0CCw/E4QIY9VWwAD+xewNgb0kGRgCAYRbti0AUOC\n",
       "/TvIkUAAizeYNq5PIPIoNr8xg22zBcZSFsN6AVRtLD9AZDHWeAP6LQEUyLxRDOYMqNp4fkMjBw3s\n",
       "ByZCa4ZlBxhEQWmzwwFNG18OiAxB16WUP6mAgbtDkYGBVQBZ/CxK9gnAnW9Q06s7MgeYynEDO5wy\n",
       "j/Fl08VkGAjyAa68z/sAtyYA58ttQpuayCUAAAAASUVORK5CYII=\n",
       "\" style=\"display:inline;vertical-align:middle;\" /></a><br>"
      ],
      "text/plain": [
       "<IPython.core.display.HTML object>"
      ]
     },
     "metadata": {},
     "output_type": "display_data"
    }
   ],
   "source": [
    "add_0_7, add_1_7, add_2_7, add_3_7, add_4_7, add_5_7, add_6_7, add_7_7, add_8_7, add_9_7 = [Equals(Add(num(n), num(7)), num(n+7)) for n in range(10)]"
   ]
  },
  {
   "cell_type": "code",
   "execution_count": 25,
   "metadata": {},
   "outputs": [
    {
     "data": {
      "text/html": [
       "<strong id=\"add_0_8\"><a class=\"ProveItLink\" href=\"proofs/add_0_8/thm_proof.ipynb\">add_0_8</a> (conjecture without proof):<br></strong> <a class=\"ProveItLink\" href=\"../__pv_it/theorems/2f860c700e375a534f382cace6ea5ace3aca37780/theorem_expr.ipynb\"><img src=\"data:image/png;base64,iVBORw0KGgoAAAANSUhEUgAAAGEAAAAVBAMAAACkm51HAAAAMFBMVEX////MzMxUVFRERES6uroi\n",
       "IiIQEBCYmJhmZmYyMjLu7u52dnaqqqqIiIjc3NwAAACW8nlqAAAAAXRSTlMAQObYZgAAAAlwSFlz\n",
       "AAAOxAAADsQBlSsOGwAAAWVJREFUOMt1kz1Iw0AYht801cTkWru4x83BIbOgdisOQhGyOXQoDg6S\n",
       "TRehi1QQNJsgDgFRdDJ0EqTSVaTo6CRdnHVRwR/0a74iuSN3y+Wey3PfT3IABsgfOo5ST7OxrDPu\n",
       "ALe7LzPn+qqKUqi+mmI4EXCMUzkFG5gFjlSDsR3CqsP1mdV42gQugC3VYDwOmB7EJ7M+Tx3eihWD\n",
       "8S0w2YLxLRn3c2gDE2ohjPeASzI+JKPw+0gddD3FYHwIvCQwfiQDB2/UCitKyw3S4f3jVTa+JEPc\n",
       "LFKaoqHEYNykrBIUhzF2gmAtCFYw7JJ4j2G8KgbjZlq5kCtfp8A9FNUYjCkr04clddehwwshRF2u\n",
       "Y4TnqcIG7EiKsUHHDGD5SgzG9FUozllFMpZibNPpiWIwnqKn8+40JMOY2aVfbqyqGCNcybJ+dvGc\n",
       "/7Nbreyqll20NfdjQXdxyr5m40RnmLprW37QbDzl4z87kWlXRmRQyAAAAABJRU5ErkJggg==\n",
       "\" style=\"display:inline;vertical-align:middle;\" /></a><br>"
      ],
      "text/plain": [
       "<IPython.core.display.HTML object>"
      ]
     },
     "metadata": {},
     "output_type": "display_data"
    },
    {
     "data": {
      "text/html": [
       "<strong id=\"add_1_8\"><a class=\"ProveItLink\" href=\"proofs/add_1_8/thm_proof.ipynb\">add_1_8</a> (conjecture without proof):<br></strong> <a class=\"ProveItLink\" href=\"../__pv_it/theorems/b174d6be351617f8a8a05a4be0f81adcf5c3f36b0/theorem_expr.ipynb\"><img src=\"data:image/png;base64,iVBORw0KGgoAAAANSUhEUgAAAGEAAAAVBAMAAACkm51HAAAAMFBMVEX////MzMxUVFRERES6uroi\n",
       "IiIQEBCYmJhmZmYyMjLu7u52dnaqqqqIiIjc3NwAAACW8nlqAAAAAXRSTlMAQObYZgAAAAlwSFlz\n",
       "AAAOxAAADsQBlSsOGwAAAWVJREFUOMtjYGB4wIAd4BJn4D2AQ8IXl47TQCy6AFWMa/cOBwbeAgy1\n",
       "HU1AhVwTGLg05qPp4GBg0GFgmIWuYekFxjygJMik+zAd7hCqnIFhJQNDBboONQYGYwYGNgZkHWch\n",
       "1CawDjY0mxl+MjDsX8BwEpuO81YM7QwMnGge4foMVOnA0I1NB9P/G8AQ5FbAYkcBw3RsOhj6vwJj\n",
       "g30COBRCwUAB4g/7Cwwx2HTw7LP/AyQT0OxY5sCof4AhBaGjNTQ0LTQ0iAEUSjzfFjAwfkDTwdW7\n",
       "574Asg6EHVkMDO8PMLAkYMY3MKywuYoLaDhTAQNPAJo/GMDxYYvNDmDMMj9gYDdAs+DYAq6P4MgC\n",
       "2vUAVYfnAoZaoOkb0HRcXcAMjCJRIEspf1IBig5GjQ4HBgZWBzQd3DtagCSrALLYWWTOU+yJnb0B\n",
       "meeOzGnHkT/scGUcPgMcEotx6WDGlW35LuCQuIddGADW0WdzfFeEVgAAAABJRU5ErkJggg==\n",
       "\" style=\"display:inline;vertical-align:middle;\" /></a><br>"
      ],
      "text/plain": [
       "<IPython.core.display.HTML object>"
      ]
     },
     "metadata": {},
     "output_type": "display_data"
    },
    {
     "data": {
      "text/html": [
       "<strong id=\"add_2_8\"><a class=\"ProveItLink\" href=\"proofs/add_2_8/thm_proof.ipynb\">add_2_8</a> (conjecture without proof):<br></strong> <a class=\"ProveItLink\" href=\"../__pv_it/theorems/82ab21d233f4a1cefcb74046c58c22bd6ae4e7270/theorem_expr.ipynb\"><img src=\"data:image/png;base64,iVBORw0KGgoAAAANSUhEUgAAAGwAAAAVBAMAAABRZRb3AAAAMFBMVEX////MzMxUVFRERES6uroi\n",
       "IiIQEBCYmJhmZmYyMjLu7u52dnaqqqqIiIjc3NwAAACW8nlqAAAAAXRSTlMAQObYZgAAAAlwSFlz\n",
       "AAAOxAAADsQBlSsOGwAAAZ9JREFUOMudk79Lw1AQx79Na1PbNBahk0Ori27GP8DiZNcgBhyKdBAH\n",
       "F4tObh0UKhUpLoIIBkQRHFpcpbSLgpRiN8HFQBcnf+Ag1NZ4SRT62pcOHuS93F0+dy/37gAY4IuM\n",
       "QRKuujh8jUFYDXjenekxXl5vAw/9H0d1IFTeB4IFyAoqc6w7C6GKYb0HCk6dkOkYZwYCGQgG/GnH\n",
       "kXQ2MWOFE7N92Z50iCpCCvyAvwXh2zHXnS0UtzCs8TBvHFILd4CgQnhnMOlDp1PgkIeNZOFpI2+r\n",
       "Q28MhunOHq1XPKxI2OdvxFiDxQLmMq1b9qtmS/wPey3B00HKVhfAYrWmSdd5y8tmYV9YsSMq1rqj\n",
       "aauaZkWgGt5TPWLcQ5bg6zjYBthsfh1yG5h3KYnUtg8plfDCYEV6JoEb3r95FYgtzJIyBjyy2ai9\n",
       "E8Am97rTCBSsIstLuZzKYL4jiFTbfB9WoXgpnEcQpUszTbPAVnI0R62MxV5qYv0gg4vyODGRbnud\n",
       "GTjVfW7Yfk12K1Z/uUrC1dMcNKan/who/YHb7IcNd+gHq4544LoIuHcAAAAASUVORK5CYII=\n",
       "\" style=\"display:inline;vertical-align:middle;\" /></a><br>"
      ],
      "text/plain": [
       "<IPython.core.display.HTML object>"
      ]
     },
     "metadata": {},
     "output_type": "display_data"
    },
    {
     "data": {
      "text/html": [
       "<strong id=\"add_3_8\"><a class=\"ProveItLink\" href=\"proofs/add_3_8/thm_proof.ipynb\">add_3_8</a> (conjecture without proof):<br></strong> <a class=\"ProveItLink\" href=\"../__pv_it/theorems/183280f3048f60e19dccc79125f7a45b51d4e5f10/theorem_expr.ipynb\"><img src=\"data:image/png;base64,iVBORw0KGgoAAAANSUhEUgAAAGsAAAAVBAMAAACzuQ2OAAAAMFBMVEX////MzMxUVFRERES6uroi\n",
       "IiIQEBCYmJhmZmYyMjLu7u52dnaqqqqIiIjc3NwAAACW8nlqAAAAAXRSTlMAQObYZgAAAAlwSFlz\n",
       "AAAOxAAADsQBlSsOGwAAAVhJREFUOMtjYGB4wIAd8DHgA7wHcEiwXMCn7TQDw+sdJmiCq3e3MDBc\n",
       "x1QsugBKcE1g4GpgOI9mZQMD0wEGzgVomrg05i+AEAwcBQy8fxjWT4BIuEMo9gKQcewNGLbdXwAl\n",
       "2ICeSGHgh2o7C6G4FUDaGLJwazsJ5p4vQNHG83kB0BUM03Fr6wYHWjgDijYG/b89QHITbm0gExkv\n",
       "KaJp4/gfByQrwcxQMFBA1RYDceQBVG2nH/8HihzDbVsKmMv2C0i0hoamhYYGgUISGCXA8JDHq41R\n",
       "gIH5D4ptbAsY+IAibri1AR3J/wtd23ogVmdgOIrbb7ZAsxUgjkSyDZi87RgYinHbtgmcJtDijWUW\n",
       "A/sFaOSggP0PoIQokPboMEGLAKEOYFJmCEHXpZQ/qQBCsAogi59FyXABuPMNanp1R+ZwFODJb3Y4\n",
       "ZR7jy6aLyTAQ5ANceZ/3AW5NAAw5d2AviNzCAAAAAElFTkSuQmCC\n",
       "\" style=\"display:inline;vertical-align:middle;\" /></a><br>"
      ],
      "text/plain": [
       "<IPython.core.display.HTML object>"
      ]
     },
     "metadata": {},
     "output_type": "display_data"
    },
    {
     "data": {
      "text/html": [
       "<strong id=\"add_4_8\"><a class=\"ProveItLink\" href=\"proofs/add_4_8/thm_proof.ipynb\">add_4_8</a> (conjecture without proof):<br></strong> <a class=\"ProveItLink\" href=\"../__pv_it/theorems/0cd2c11fa2625f54dc34d94c18c738922e2302910/theorem_expr.ipynb\"><img src=\"data:image/png;base64,iVBORw0KGgoAAAANSUhEUgAAAGwAAAAVBAMAAABRZRb3AAAAMFBMVEX////MzMxUVFRERES6uroi\n",
       "IiIQEBCYmJhmZmYyMjLu7u52dnaqqqqIiIjc3NwAAACW8nlqAAAAAXRSTlMAQObYZgAAAAlwSFlz\n",
       "AAAOxAAADsQBlSsOGwAAAYRJREFUOMtjYGB4wIAd8DHgA7wHcEiwXMCn7TSIkEATXL27hYHhOqZi\n",
       "0QUMDC86DRkYuCaAuEFo0g0MTAcYOBegiXJpzF/AwGfAsN+BgaMA5FCYNncIxV4AMo69AcO2+wsY\n",
       "mB4wsCUwsIF44pOgwmchFLcC2BVZ2LSx/WJg+sdwEsTbgKaN5/MCkCumY7UtgIHpI0M3yI0P0LQx\n",
       "6P/tAZKbsGkDAtYPYBOfM6Br4/gfByQrwcxQMFBA0iZ/gSEG5EYMbacf/wdG5zEctgEDMAUYbg8g\n",
       "2lpDQ9NCQ0GBCgzD88DwkMeujcMArO0tA7ptbMDo+cPA4IZdWxEQAx3ppKT0TRtF23ogVmdgOIrV\n",
       "bzwbGN4x2IK5SWi2AZO3HQNDMVbbpBkYbkED+TOqNpZZDOzAhNyNoW3/Awa+iI6OAAZREK/5vy5q\n",
       "SAp1AJMyQwi6LqX8SQWs////n8DAKoAsfhYlwwXgzjeo6dUdmQNO5biAHU6Zx/iy6WIyDAT5AFfe\n",
       "532AWxMAIhxwkgzp7q0AAAAASUVORK5CYII=\n",
       "\" style=\"display:inline;vertical-align:middle;\" /></a><br>"
      ],
      "text/plain": [
       "<IPython.core.display.HTML object>"
      ]
     },
     "metadata": {},
     "output_type": "display_data"
    },
    {
     "data": {
      "text/html": [
       "<strong id=\"add_5_8\"><a class=\"ProveItLink\" href=\"proofs/add_5_8/thm_proof.ipynb\">add_5_8</a> (conjecture without proof):<br></strong> <a class=\"ProveItLink\" href=\"../__pv_it/theorems/9dd3f05c1d2563525593653370f368447d9c7f630/theorem_expr.ipynb\"><img src=\"data:image/png;base64,iVBORw0KGgoAAAANSUhEUgAAAGwAAAAVBAMAAABRZRb3AAAAMFBMVEX////MzMxUVFRERES6uroi\n",
       "IiIQEBCYmJhmZmYyMjLu7u52dnaqqqqIiIjc3NwAAACW8nlqAAAAAXRSTlMAQObYZgAAAAlwSFlz\n",
       "AAAOxAAADsQBlSsOGwAAAZNJREFUOMudkz9Iw0AUxr+2Ma3R/kHobHTRTQcnQXGyjkWMLuJUHFwa\n",
       "cHILolCsQ3ARXQw4OhScRAezKEgpFQcdHCx0ERxUxKVU67sESi+96+Ab7nK5+7337t33ANQgtgR6\n",
       "WdxFCpqAVe57YWUgf2Q4/M+zqx3gqftwms69XUwBmg0sf18Gti2EXfQHfEEbP3GgWai6iJmA3t7I\n",
       "+FPUZO6iVle0FwfxJko2VHRiFX8a0L0sNkSYkkPSxp0IG/xyWBaHIoysaqJI09jzCI9h4mefxnMx\n",
       "pqz4HqfxPsdjsdYajVvep+GZ3sZCDxRk1VtGsjxWrrdc4FaWpIuc7/2Xhl3DWDeMRVZJKjLVY1iC\n",
       "qQ2GRWzEPrloqoNEE5gXYaEUIk2WpJpF+IPDSqxOwI3obskGw2bolYic5KORRGeBTVE0VWdJUpET\n",
       "Fh4dDlOOESUhF7uw6xpTEL1bmhav23uBdxsqkJSxFKRG8wcmFgok5b5U5/8K13BZed/wes10Lpi+\n",
       "pDYr3an3atPTfzhkN5D1frwmh/4AAz9zYPRLQ3gAAAAASUVORK5CYII=\n",
       "\" style=\"display:inline;vertical-align:middle;\" /></a><br>"
      ],
      "text/plain": [
       "<IPython.core.display.HTML object>"
      ]
     },
     "metadata": {},
     "output_type": "display_data"
    },
    {
     "data": {
      "text/html": [
       "<strong id=\"add_6_8\"><a class=\"ProveItLink\" href=\"proofs/add_6_8/thm_proof.ipynb\">add_6_8</a> (conjecture without proof):<br></strong> <a class=\"ProveItLink\" href=\"../__pv_it/theorems/94f1f50397c1ac574c8eb61ba075e9af84bed0020/theorem_expr.ipynb\"><img src=\"data:image/png;base64,iVBORw0KGgoAAAANSUhEUgAAAGwAAAAVBAMAAABRZRb3AAAAMFBMVEX////MzMxUVFRERES6uroi\n",
       "IiIQEBCYmJhmZmYyMjLu7u52dnaqqqqIiIjc3NwAAACW8nlqAAAAAXRSTlMAQObYZgAAAAlwSFlz\n",
       "AAAOxAAADsQBlSsOGwAAAY5JREFUOMtjYGB4wIAd8DHgA7wHcEiwXMCn7TQQ794tgCq4encLA8N1\n",
       "TMWiC0CkBAMD1wQGhpcOTAGo0g0MTAcYOBegaeLSmA8WCmJg4ChgYJjLwGwAkXCHUOwFIOPYGzBs\n",
       "uw/SxgvUxsbAwPMLLnwWQnErgF2RhV2b+CQGhpMMDMwJ6Np4Pi8AuWI6dm0bgNq6gRZO3NuCqo1B\n",
       "/28PkNyEVRvvg0lgE/mnM7AdQNXG8T8OSFaCmaFgoADX9pwBqC2GgWH9BwaOLFRtpx//Bxp0DKtt\n",
       "G0DaUoDaAhjYvwDFWkND00JDg0Ah2cBwHmiQPDZt7A+g2viBYf0dxTa2BQx8fxgY3LBpe8sAdSQz\n",
       "1DaEtvVArM7AcBSb35yUlL5pM9gCgxvotwRU24DJ246BoRh7BDAkQQLZmmEZakiyzGJgvwCOHDSw\n",
       "H5xdPgMTJyhRdCiixZtQBygmQ9B1KeVPAqaC5v+6DKwoaf8sSoYLwJ1vUNOrOzIHlL5wAjucMo/x\n",
       "ZdPFZBgI8gGuvM/7ALcmALiLcXyM1ivqAAAAAElFTkSuQmCC\n",
       "\" style=\"display:inline;vertical-align:middle;\" /></a><br>"
      ],
      "text/plain": [
       "<IPython.core.display.HTML object>"
      ]
     },
     "metadata": {},
     "output_type": "display_data"
    },
    {
     "data": {
      "text/html": [
       "<strong id=\"add_7_8\"><a class=\"ProveItLink\" href=\"proofs/add_7_8/thm_proof.ipynb\">add_7_8</a> (conjecture without proof):<br></strong> <a class=\"ProveItLink\" href=\"../__pv_it/theorems/f7dce0165d6632e85ff2ab89260f8272fd0c290d0/theorem_expr.ipynb\"><img src=\"data:image/png;base64,iVBORw0KGgoAAAANSUhEUgAAAGwAAAAVBAMAAABRZRb3AAAAMFBMVEX////MzMxUVFRERES6uroi\n",
       "IiIQEBCYmJhmZmYyMjLu7u52dnaqqqqIiIjc3NwAAACW8nlqAAAAAXRSTlMAQObYZgAAAAlwSFlz\n",
       "AAAOxAAADsQBlSsOGwAAAY1JREFUOMudlD1IAzEUx/9c6/W8nqUIna0udbOjCJZOdi3qOYmTOIjQ\n",
       "gpNOhygUdSguoosHHR1EN3Wwi4KUYicdHCwUxM0vFMGPM8kVadKkgw8uH+/xy0te/jkAdcgtgk7W\n",
       "U44sSwPBmhyIwiSZKrA8z3vnQ/unq8BNOxJzgdyO7cIsIjxcKEzzYQdaGd2uAJmDe8Q19XYCGHmE\n",
       "yTkcP5Dxu1CeLhdy2rLdESxOBzpgAVrTXfW7cJximFdjl2x6yGPWq0t2gW01tsFqneQxDH1vkvZI\n",
       "iiVu+5sramkBM7wZ0i6xoc0s/oeN4DENVsJ7CFil4ZWBC2k2IJDFLO2PmW/Ntudse5xW0sEVqUef\n",
       "AjN+fGxCyKa7iHwBYzIsUITxzDZpvgjYAfkSwLnsbHoW2hNGqfo+xGxEdClgUZaNiENPsiJbnwIW\n",
       "3EWo1rwczs7qVFDXLmL02hbESvYWiJQxKVIDua08HlbWga5oq7/KPbis+rnxes20Tqi+lJZSRhqd\n",
       "XnfpHwvSE9RUf4u6GvoFrf1thahGWnMAAAAASUVORK5CYII=\n",
       "\" style=\"display:inline;vertical-align:middle;\" /></a><br>"
      ],
      "text/plain": [
       "<IPython.core.display.HTML object>"
      ]
     },
     "metadata": {},
     "output_type": "display_data"
    },
    {
     "data": {
      "text/html": [
       "<strong id=\"add_8_8\"><a class=\"ProveItLink\" href=\"proofs/add_8_8/thm_proof.ipynb\">add_8_8</a> (conjecture without proof):<br></strong> <a class=\"ProveItLink\" href=\"../__pv_it/theorems/dd2aa6d993eee06157e94d2fc56a8f79dcbe487f0/theorem_expr.ipynb\"><img src=\"data:image/png;base64,iVBORw0KGgoAAAANSUhEUgAAAGwAAAAVBAMAAABRZRb3AAAAMFBMVEX////MzMxUVFRERES6uroi\n",
       "IiIQEBCYmJhmZmYyMjLu7u52dnaqqqqIiIjc3NwAAACW8nlqAAAAAXRSTlMAQObYZgAAAAlwSFlz\n",
       "AAAOxAAADsQBlSsOGwAAAW9JREFUOMtjYGB4wIAd8DHgA7wHcEiwXMCn7TQDw+rdLWiCYJHrmIpF\n",
       "FwCJ3bsFGLgmMDA0MDChWQkW4VyApolLYz5Q6KUDUwADRwEDewFYMwi4QyiICHsDhm33gdrmMjAb\n",
       "MLAxMHArwLWdhVBQkSxs2nh+gRgnGRh4Pi8A2omsDSoyHZs25gQQoxuI9f/2MKBog4pswqaNbeLe\n",
       "FoiJHP/j0LRBRCrBzFAwUIBp45/OwHaAIQYUB4//H0DVBhE5hs229R8YOLIYUhhAIXYe5PvW0NC0\n",
       "0NAgBriIPFZtAQzsX0Da2BYw8P1BsQ0q4oZNGz8wZr6DHLkeyFdH0QYVOYrNb8xg22yBZgMTsx2q\n",
       "bRCRYqzxBvRbAiiQWWYxsF9A0QYV6cbQth9onjXDsgMMokCOUEcLWgRARELQdSnlTypg4O5QZGBg\n",
       "FUAWP4uS4QJw5xvU9OqOzIGlOKzADqfMY3zZdDEZBoJ8gCvv8z7ArQkAPJB4i2ZZXckAAAAASUVO\n",
       "RK5CYII=\n",
       "\" style=\"display:inline;vertical-align:middle;\" /></a><br>"
      ],
      "text/plain": [
       "<IPython.core.display.HTML object>"
      ]
     },
     "metadata": {},
     "output_type": "display_data"
    },
    {
     "data": {
      "text/html": [
       "<strong id=\"add_9_8\"><a class=\"ProveItLink\" href=\"proofs/add_9_8/thm_proof.ipynb\">add_9_8</a> (conjecture without proof):<br></strong> <a class=\"ProveItLink\" href=\"../__pv_it/theorems/976e6855aea3b7691acdb92384b399634c4a02800/theorem_expr.ipynb\"><img src=\"data:image/png;base64,iVBORw0KGgoAAAANSUhEUgAAAG0AAAAVBAMAAAC+p33JAAAAMFBMVEX////MzMxUVFRERES6uroi\n",
       "IiIQEBCYmJhmZmYyMjLu7u52dnaqqqqIiIjc3NwAAACW8nlqAAAAAXRSTlMAQObYZgAAAAlwSFlz\n",
       "AAAOxAAADsQBlSsOGwAAAZpJREFUOMudlD1Iw1AQx//E2tY0jaWgq8VFcbGbLpZOdhU1i6g4FIci\n",
       "WHDSqYNCQIfiIrgYcBEcim7SwS4KUordHBwsFNz9QEUt8V6exb70JYMH9961x+/u3r17AdCAXHT4\n",
       "SrTi4QjU5eG2+F4FwuaYy3la3gbuuqEBC5pt22+AWoS6hEFXsQUoFfRZLkodPbIQmTTNRcqVh7KC\n",
       "niT3ZPgWyrN4oUJXvgfiqFRyBIH+IiKf/P8a3yIJxiEn4zRAIesGKCURfRU47cWiOnAg40jOSHd5\n",
       "vneBw3hrj9ZzOaezQ1FMdr6WyIXtZVo3HdNwJPHHKWlaqDVqFvFvkas2bbrWa3m+R2ZlSU/ua0+0\n",
       "7RjGqmHMsn4WcEtNGZJzF20O7n4GLehUwbScmwOvk6R9f79ciXQEuJKeT31m1hR1PYdSTMxH45MC\n",
       "NqT5Ah/gvY4uYAICFzhEqO7ckUsuKaD25UwqadlMixziJs015t3Y8Pp+HvoaM3tjnY6a8GJmfJ6f\n",
       "OLyZzh9s1Lwl5elp+r73439EdE5R9/qANHyoH4Vqb7Vfx7ZSAAAAAElFTkSuQmCC\n",
       "\" style=\"display:inline;vertical-align:middle;\" /></a><br>"
      ],
      "text/plain": [
       "<IPython.core.display.HTML object>"
      ]
     },
     "metadata": {},
     "output_type": "display_data"
    }
   ],
   "source": [
    "add_0_8, add_1_8, add_2_8, add_3_8, add_4_8, add_5_8, add_6_8, add_7_8, add_8_8, add_9_8 = [Equals(Add(num(n), num(8)), num(n+8)) for n in range(10)]"
   ]
  },
  {
   "cell_type": "code",
   "execution_count": 26,
   "metadata": {},
   "outputs": [
    {
     "data": {
      "text/html": [
       "<strong id=\"add_0_9\"><a class=\"ProveItLink\" href=\"proofs/add_0_9/thm_proof.ipynb\">add_0_9</a> (conjecture without proof):<br></strong> <a class=\"ProveItLink\" href=\"../__pv_it/theorems/1d2a49bd2e84a7894a4bd9ca1fbd1ce7526dba690/theorem_expr.ipynb\"><img src=\"data:image/png;base64,iVBORw0KGgoAAAANSUhEUgAAAGEAAAAVBAMAAACkm51HAAAAMFBMVEX////MzMxUVFRERES6uroi\n",
       "IiIQEBCYmJhmZmYyMjLu7u52dnaqqqqIiIjc3NwAAACW8nlqAAAAAXRSTlMAQObYZgAAAAlwSFlz\n",
       "AAAOxAAADsQBlSsOGwAAAWNJREFUOMt1kzFIw0AUhv+Q2sQkrVnc4+JqwFnN1kkoQrYOGYqjZHQs\n",
       "oiiIkk0Qh4C0uBmcHCx2EkQKWVyti7OKg1gVvPQVyV1yN+TuvruP995dDsAzypuMozaQLKzLjAfA\n",
       "7B8L8GAnRi0s7M0wjAg4Q5dPoZsqW8CpKBDWQ2hNmC6xBnWLwDKwLRqEq4DqwBoTG1L3BdzGqMaC\n",
       "QfgemOtA+ckbxgcw8jArFDLFh8AlMz4LMUKYTkmMECfAawLllzNYwmsptCgb6/6kOf+4RcY3Z/Q8\n",
       "ZWkAKxBiEG6zrBJUshh7vr/p+xtZxkc3IxvKm2AQbk8qt7jKs8YOpRIU75thlpXqQhuLBjt4qynU\n",
       "QXgF0ALoEWfcxcY7464QgPAVG7XQsznjMVbZXeiJYBCeZ6OL/gI4w7zeZd8ZTzCm2M6zYX7yUv6z\n",
       "a538rJGf7Evex6rs4dRdycK5zFBlz7aeShaeyvEfVtVqsSv1XyUAAAAASUVORK5CYII=\n",
       "\" style=\"display:inline;vertical-align:middle;\" /></a><br>"
      ],
      "text/plain": [
       "<IPython.core.display.HTML object>"
      ]
     },
     "metadata": {},
     "output_type": "display_data"
    },
    {
     "data": {
      "text/html": [
       "<strong id=\"add_1_9\"><a class=\"ProveItLink\" href=\"proofs/add_1_9/thm_proof.ipynb\">add_1_9</a> (conjecture without proof):<br></strong> <a class=\"ProveItLink\" href=\"../__pv_it/theorems/bec1edccd83c0a9598a6b06c095872f1111808fb0/theorem_expr.ipynb\"><img src=\"data:image/png;base64,iVBORw0KGgoAAAANSUhEUgAAAGwAAAAVBAMAAABRZRb3AAAAMFBMVEX////MzMxUVFRERES6uroi\n",
       "IiIQEBCYmJhmZmYyMjLu7u52dnaqqqqIiIjc3NwAAACW8nlqAAAAAXRSTlMAQObYZgAAAAlwSFlz\n",
       "AAAOxAAADsQBlSsOGwAAAWtJREFUOMudk7FLAlEcxz+mpZ1eSmBr1hRNbk1FU64S3RIGDtLgktDU\n",
       "5hIIQkhLS1AQhZvSGlJLQYTQ1tDQQX9ABIFgCr3nIXrnezf0g7t3773v5/1+7/e7H2Cjtjn8zHzQ\n",
       "bIRe/bAX8SQvPYuRyiq8TYqlMNo6AaOGsXLhwYw9FmxmvYc5wnOubSIlMf8YCjLOMJUnmCZcnvAm\n",
       "hOEs0TQzjGNtZ4jXiHahqMKCKWJdnlVYI435A2cqLF4m0KOq89aBWxXWEFjHOdGLybv14WiQVGtg\n",
       "qSH21STQJ6fCjALzPXhSeZPYL4URdmxZ+5a1LT/r7+1vWFQG2STUH8dG3oTJTG5pUhLrqYMUJurG\n",
       "o+pusqBd1lVYrEgjAYfKcueJ1Jwk39tuzNxlTQzVCUwKc9wkSIrJ8sFpyR3kXWVTvHe81EBYby3B\n",
       "dGJ8ve1quKy+b9z/a8bVPSWfftvQ7nz6tenVPw6UN9D1vmnroT8HcnfJ66u44QAAAABJRU5ErkJg\n",
       "gg==\n",
       "\" style=\"display:inline;vertical-align:middle;\" /></a><br>"
      ],
      "text/plain": [
       "<IPython.core.display.HTML object>"
      ]
     },
     "metadata": {},
     "output_type": "display_data"
    },
    {
     "data": {
      "text/html": [
       "<strong id=\"add_2_9\"><a class=\"ProveItLink\" href=\"proofs/add_2_9/thm_proof.ipynb\">add_2_9</a> (conjecture without proof):<br></strong> <a class=\"ProveItLink\" href=\"../__pv_it/theorems/9863672efac8680ed537f6c0ccdd67ffaec691dc0/theorem_expr.ipynb\"><img src=\"data:image/png;base64,iVBORw0KGgoAAAANSUhEUgAAAGsAAAAVBAMAAACzuQ2OAAAAMFBMVEX////MzMxUVFRERES6uroi\n",
       "IiIQEBCYmJhmZmYyMjLu7u52dnaqqqqIiIjc3NwAAACW8nlqAAAAAXRSTlMAQObYZgAAAAlwSFlz\n",
       "AAAOxAAADsQBlSsOGwAAAWBJREFUOMtjYGB4wIAd8DHgA7wHcEiwXMCn7TQDw4tOQzRBjg4tBobr\n",
       "mIpFF0AJrgkMfAYM+x1QZLliGcQeMHAuQNPEpTF/AYRg4ChgYHrAwJYAkXCHUEwJDMwGDOwNGLbd\n",
       "XwAl2IDoFwPTP4jwWQjFP4GB+xcDQxZubSeBZgcwMH1E0bbegIH3CwPDdNzausFc1g8Ytn1nYNiE\n",
       "WxvERPkLKNpAfvvLwFAJDtRQMFBA1RYD5gYxoGjjSmEQ+sPAcAy3bSlgEw1AZGtoaFpoKNiEFbfP\n",
       "An0rT0BbEQOqbUAACkk33NpAjuTZwPAOXRsw3hiO4vabLZCWZmC4haKNJ4thvQADQzFu24CBzBfR\n",
       "0RGAoo03isGcARY5yGD/AyghCoy0////T0B15O4OUCINQdellD+pAEKwCiCLn0XJcAG48w1qenVH\n",
       "yT0FePKbHU6Zx/iy6WIyDAT5AFfe532AWxMAuYJzLYL4ymcAAAAASUVORK5CYII=\n",
       "\" style=\"display:inline;vertical-align:middle;\" /></a><br>"
      ],
      "text/plain": [
       "<IPython.core.display.HTML object>"
      ]
     },
     "metadata": {},
     "output_type": "display_data"
    },
    {
     "data": {
      "text/html": [
       "<strong id=\"add_3_9\"><a class=\"ProveItLink\" href=\"proofs/add_3_9/thm_proof.ipynb\">add_3_9</a> (conjecture without proof):<br></strong> <a class=\"ProveItLink\" href=\"../__pv_it/theorems/95663c19815e16f31f4d99600f5fbc41ea5b9a200/theorem_expr.ipynb\"><img src=\"data:image/png;base64,iVBORw0KGgoAAAANSUhEUgAAAGwAAAAVBAMAAABRZRb3AAAAMFBMVEX////MzMxUVFRERES6uroi\n",
       "IiIQEBCYmJhmZmYyMjLu7u52dnaqqqqIiIjc3NwAAACW8nlqAAAAAXRSTlMAQObYZgAAAAlwSFlz\n",
       "AAAOxAAADsQBlSsOGwAAAZJJREFUOMudkz9Iw1AQhz+rrTU2tQh1cfDPJE4VBCfFSR2LGBRR6FAc\n",
       "uhh0cusiRLoUF0cLLm4VJ8FBFwWRUnERdDDgIgiiIAilWl8Swb72pYMHyXHv5Xu/u3s5wEZtUVqZ\n",
       "fu6z0XHTCruGl5PxhsWwNQp3zR/HC/C8MwZaHi1LWZbUVumz6So0QNrIfoFogrNpwiZ6lWLe25j1\n",
       "XCBFe4LObJPaY4GATShFSBSRpucXK3lOhN0VyKiwUIXAN1duWDYlrJhA/4A9pVqSwDs5t2mLNKl9\n",
       "wrEKExZ8c09sux2SMae2L9hym2q4NliHDdyw4iV5LmFamt4qXPqozUPaDUWdsG0Ya4Yx78SHD6V3\n",
       "caoaCydcrC1Ge1VSE+Z0ckaNbYhHJNlTUWDi3rhQ1hY54pVJkeGgl+QfFslQjMGmUq0f7p0md5qN\n",
       "96YvMyFcrgk7s4kuWVaSuAjmrHH5Aji1psV7oZEaXt81g7VaLU8wVr9ekgYu6T838v86K02P2WLe\n",
       "pnx3nlqN6cE/DnQq8Jt93faHfgCrYHIzI9PPCgAAAABJRU5ErkJggg==\n",
       "\" style=\"display:inline;vertical-align:middle;\" /></a><br>"
      ],
      "text/plain": [
       "<IPython.core.display.HTML object>"
      ]
     },
     "metadata": {},
     "output_type": "display_data"
    },
    {
     "data": {
      "text/html": [
       "<strong id=\"add_4_9\"><a class=\"ProveItLink\" href=\"proofs/add_4_9/thm_proof.ipynb\">add_4_9</a> (conjecture without proof):<br></strong> <a class=\"ProveItLink\" href=\"../__pv_it/theorems/e74bb156519c6a134694b6cd830ababd8fec54580/theorem_expr.ipynb\"><img src=\"data:image/png;base64,iVBORw0KGgoAAAANSUhEUgAAAGwAAAAVBAMAAABRZRb3AAAAMFBMVEX////MzMxUVFRERES6uroi\n",
       "IiIQEBCYmJhmZmYyMjLu7u52dnaqqqqIiIjc3NwAAACW8nlqAAAAAXRSTlMAQObYZgAAAAlwSFlz\n",
       "AAAOxAAADsQBlSsOGwAAAYVJREFUOMtjYGB4wIAd8DHgA7wHcEiwXMCn7TSIkEAT5OjQYmC4jqlY\n",
       "dAEDw+sdJgwMXBNA3CBUWa5YBrEHDJwL0DRxacxfwMDVwHD+AANHAcihMG3uEIopgYHZgIG9AcO2\n",
       "+wsYeP8wrJ/AwAbiiU+CCp+FUPwTGLh/MTBkYdPGkgKSPgnibUDTtt6AgfcLA8N0bNqA4HwBQzfI\n",
       "jQ+w2PadgWETdm0s4RATnzOgaQP57S8DQyU4UEPBQAGujfGSIgNDDMiN6Nq4UhiE/jAwHMPlyAMM\n",
       "KQwM7A8g2lpDQ9NCQ8GBuuL22Y8MDPI4tLH9Aml7y4BuGxCAQtINmzZGAQbmPyBHOikpfdNG1waM\n",
       "N4aj2PzG/wukzRbMTUK1jSeLYb0AA0MxNtvYFECOhATyZ1RtvFEM5kCqG0Pb/gcM7AWgeBMF8Zr/\n",
       "66I6cneHA5AMQdellD+pgMGjA5iUWQWQxc+iZLgA3PkGNb26o+SeAjz5zQ6nzGN82XQxGQaCfIAr\n",
       "7/M+wK0JAOC4boHnIxhHAAAAAElFTkSuQmCC\n",
       "\" style=\"display:inline;vertical-align:middle;\" /></a><br>"
      ],
      "text/plain": [
       "<IPython.core.display.HTML object>"
      ]
     },
     "metadata": {},
     "output_type": "display_data"
    },
    {
     "data": {
      "text/html": [
       "<strong id=\"add_5_9\"><a class=\"ProveItLink\" href=\"proofs/add_5_9/thm_proof.ipynb\">add_5_9</a> (conjecture without proof):<br></strong> <a class=\"ProveItLink\" href=\"../__pv_it/theorems/8dac91357cdb6dafc1db05f9d1bd25a4e68b9d690/theorem_expr.ipynb\"><img src=\"data:image/png;base64,iVBORw0KGgoAAAANSUhEUgAAAGwAAAAVBAMAAABRZRb3AAAAMFBMVEX////MzMxUVFRERES6uroi\n",
       "IiIQEBCYmJhmZmYyMjLu7u52dnaqqqqIiIjc3NwAAACW8nlqAAAAAXRSTlMAQObYZgAAAAlwSFlz\n",
       "AAAOxAAADsQBlSsOGwAAAYVJREFUOMudkz1IQlEUgD+01F49k6CfLXMpisAtCIpoqFWi1xAFEdLg\n",
       "otDUJkUgtYhLNCW0tCmNNdRSECE01eDQg4ZaoqQ/iP7ue0+iq1eHzvAO99z7nfPOH2CiFj/1RD8m\n",
       "gKZgGy7qYecQ3zaystGX6oer6sft9rsu0NIw83Ig32rzdJg0VfhC69uxTVPCbwKCvxeTjnIt4A7j\n",
       "TVZFu7YwXWAe/mIFR7WmaX6HmBrrzMCZCsuF0Z9hS43lBbYpdG+xpzraG+wrMd3MOB6HeRiTMCu3\n",
       "T1ixi2rYEvzFbhHYnH10RyRMi9L2AafKaHkLizp9+hKfdcNYMowp67xXLJSgW4V5zTLmTuMrSdGE\n",
       "WJWcUGH3lH/SE8H1WImJvnGiym08FHodYEQ4FmRYwlpi5AKwrG4Ai3aR/UkusxKmzzKE0xxZjuyR\n",
       "fxLDKdTd6obcNw5TVkemK6lQPCNmce17kMbAX3tBWrhI7b2R53VS2p5EnX0brXlzU29Nd//h0Mqg\n",
       "1u7rZm3oB/IHa3sww252AAAAAElFTkSuQmCC\n",
       "\" style=\"display:inline;vertical-align:middle;\" /></a><br>"
      ],
      "text/plain": [
       "<IPython.core.display.HTML object>"
      ]
     },
     "metadata": {},
     "output_type": "display_data"
    },
    {
     "data": {
      "text/html": [
       "<strong id=\"add_6_9\"><a class=\"ProveItLink\" href=\"proofs/add_6_9/thm_proof.ipynb\">add_6_9</a> (conjecture without proof):<br></strong> <a class=\"ProveItLink\" href=\"../__pv_it/theorems/46e6bb1d7257e4b2e0196a7d1630b31eac7bcd1a0/theorem_expr.ipynb\"><img src=\"data:image/png;base64,iVBORw0KGgoAAAANSUhEUgAAAGwAAAAVBAMAAABRZRb3AAAAMFBMVEX////MzMxUVFRERES6uroi\n",
       "IiIQEBCYmJhmZmYyMjLu7u52dnaqqqqIiIjc3NwAAACW8nlqAAAAAXRSTlMAQObYZgAAAAlwSFlz\n",
       "AAAOxAAADsQBlSsOGwAAAZRJREFUOMudlD9Iw0AUxj8abWP6F6Guti6KUzdBUTLZNYhxEIUOxaFL\n",
       "C05uRRSKLtWlOIgBQdwKjhaxi4JIoZMOHQy46GQLSkFUfJdI4dK7Dr4hd7zH7757790LABtii2CQ\n",
       "heuSwFBT7I9BI6V72tVqMT6klqaBx34kbgH5I9OCVgZedZ/BRbV1jNkYsTyQNnVCrpWPSzq3ABxD\n",
       "SbmBtLv4MswTKPapPRGWYBs/EPrsuRvuEi0jSM6cHLsDlIwXq6YQfgcqcmyfBA+udvrVusCFEJts\n",
       "JZ0ToxX46xzGcvsGtpyimo4letgs3nSs0ZXaUHMcpmUx+gXcCtUoKwNZwgwEKBPsmuaGaS6xwHmr\n",
       "0QHGJZj6wzDKJNDl1MhYJRdFmFKG2mGXVP7UOIx18kaUm9+Ar4156hvlluGwUA5Vem6bIrUglT7l\n",
       "FHkOZ3wlw6uYcZvjsWsbkSIeLMRZHqUk3zfUSjp9l73URP6wgJftPWCYe/sNbuAM+bjx7zXNTU9h\n",
       "wJguSCPPg6b79B8Hsgyasr+FLYd+ASgecBdViqoXAAAAAElFTkSuQmCC\n",
       "\" style=\"display:inline;vertical-align:middle;\" /></a><br>"
      ],
      "text/plain": [
       "<IPython.core.display.HTML object>"
      ]
     },
     "metadata": {},
     "output_type": "display_data"
    },
    {
     "data": {
      "text/html": [
       "<strong id=\"add_7_9\"><a class=\"ProveItLink\" href=\"proofs/add_7_9/thm_proof.ipynb\">add_7_9</a> (conjecture without proof):<br></strong> <a class=\"ProveItLink\" href=\"../__pv_it/theorems/1034b5d2a8ed71f24b62d2a1586dd5b28a6b62850/theorem_expr.ipynb\"><img src=\"data:image/png;base64,iVBORw0KGgoAAAANSUhEUgAAAGwAAAAVBAMAAABRZRb3AAAAMFBMVEX////MzMxUVFRERES6uroi\n",
       "IiIQEBCYmJhmZmYyMjLu7u52dnaqqqqIiIjc3NwAAACW8nlqAAAAAXRSTlMAQObYZgAAAAlwSFlz\n",
       "AAAOxAAADsQBlSsOGwAAAY1JREFUOMtjYGB4wIAd8DHgA7wH+KqwSrBcwKftNAPP////v6EKcnRo\n",
       "MTBcx1QsugBI7N4twMA1gYHboqMjBkWWK5ZB7AED5wI0TVwa84FCLx2YAhg4Chi4gf5ogEi4Qyim\n",
       "BAZmAwb2Bgzb7gO1zQXJsTEw8ADVQYXPQih+oBN+MTBkYdPG8wvEOAnmbkTVtt6AgfcLA8N0bNqY\n",
       "E0CMbnBYG2Da9p2BYRM2bWwT97ZATWRyQNUG8ttfBoZKcKCGgoECTBv/dAa2AwzgIHzGgKqNK4VB\n",
       "6A8DwzFstq3/wMCRxZAC4u0Ei7WGhqaFhgaBmCtun/3IwCCPVVsAA/sXiLZgNNuAABSSbti0Af3N\n",
       "/h3sSK5PmNqAccNwFJvfmMG22YJS3w80bTxZDOsFGBiKscYb0G8J4EDm+Y2mjTeKwRwWOShgPzC7\n",
       "WDMsO8AgCoq2HHRH7u4ARUkIui6l/EnAtNihyMDAKoAsfhYlwwXgzjeo6dUdJfcU4MlvdjhlHuPL\n",
       "povJMBDkA1x5n/cBbk0AjXFtQjdKEMAAAAAASUVORK5CYII=\n",
       "\" style=\"display:inline;vertical-align:middle;\" /></a><br>"
      ],
      "text/plain": [
       "<IPython.core.display.HTML object>"
      ]
     },
     "metadata": {},
     "output_type": "display_data"
    },
    {
     "data": {
      "text/html": [
       "<strong id=\"add_8_9\"><a class=\"ProveItLink\" href=\"proofs/add_8_9/thm_proof.ipynb\">add_8_9</a> (conjecture without proof):<br></strong> <a class=\"ProveItLink\" href=\"../__pv_it/theorems/0f474cc302f879e1c46496ce6531429335237e840/theorem_expr.ipynb\"><img src=\"data:image/png;base64,iVBORw0KGgoAAAANSUhEUgAAAG0AAAAVBAMAAAC+p33JAAAAMFBMVEX////MzMxUVFRERES6uroi\n",
       "IiIQEBCYmJhmZmYyMjLu7u52dnaqqqqIiIjc3NwAAACW8nlqAAAAAXRSTlMAQObYZgAAAAlwSFlz\n",
       "AAAOxAAADsQBlSsOGwAAAZhJREFUOMudlD9Iw1AQxj9qbWuaxlLQ1eKiuJhNF4uTXUXNIlUcikMR\n",
       "DDjp1KFCQIfiIrg04CI4FN2kg10URIrdHBwMFNz9g4q2xHtJ0b70NYMHL3fk+N2Xd+9dAFgQmwJf\n",
       "i1V7JIJ1cbkd198Cp5WCJxkxJoD7bmjIhGzb9jsgFYE8AryotIJhCwOmh5LGSyai04aRoco6wrpD\n",
       "M0u7LrCGPhXhfJfeI3H0qZQIAdHkL1dz3WAR0S8gJ+JkKkvRDSC/mqTayZVVxN6AQxFHdkZrj9Zk\n",
       "ax9deh/AuZhTVLg1I/Yqz7H9tYBtp7WaY8k/LjBLjww7ioZd5Tgpi0QTuBbrPbEoC9a3O9aCXU1b\n",
       "17QF9vbkofYMjIi5izYXMqE0OT0y1s85MbcI9zvL5Ma8HJ0froT7k15YNEN6dLNTHCfnUI4DW0K9\n",
       "4CeLqNfBI4TrHBdbxlT7jHi7JAn527mptBJGgT8HVAzW6yUvNrp5oEPZYGF/vDNR4yZm3mf8+Mub\n",
       "5oZJ95vbVM9Mw3fej/9R0dlFvdcPxPKhfgC9zm+1WycOYwAAAABJRU5ErkJggg==\n",
       "\" style=\"display:inline;vertical-align:middle;\" /></a><br>"
      ],
      "text/plain": [
       "<IPython.core.display.HTML object>"
      ]
     },
     "metadata": {},
     "output_type": "display_data"
    },
    {
     "data": {
      "text/html": [
       "<strong id=\"add_9_9\"><a class=\"ProveItLink\" href=\"proofs/add_9_9/thm_proof.ipynb\">add_9_9</a> (conjecture without proof):<br></strong> <a class=\"ProveItLink\" href=\"../__pv_it/theorems/fba1d9a29c5a1d2ea2704622e287466ae6c1b4130/theorem_expr.ipynb\"><img src=\"data:image/png;base64,iVBORw0KGgoAAAANSUhEUgAAAGwAAAAVBAMAAABRZRb3AAAAMFBMVEX////MzMxUVFRERES6uroi\n",
       "IiIQEBCYmJhmZmYyMjLu7u52dnaqqqqIiIjc3NwAAACW8nlqAAAAAXRSTlMAQObYZgAAAAlwSFlz\n",
       "AAAOxAAADsQBlSsOGwAAAXRJREFUOMtjYGB4wIAd8DHgA7wHcEiwXMCn7TQDA0eHFpogWOQ6pmLR\n",
       "BQwMq3e3MDBwTWDgimUQQ3UpRIRzAZomLo35QKEGBqYDDBwFDEwJDMwGEAl3CAURYW/AsO3+Agb2\n",
       "ApBVbAwM/BMYuH9BhM9CKKhIFjZt3AogbScZGNYbMPB+QdEGFZmOTRvP5wVAF3ZDzP6OYRtQZBM2\n",
       "bQz6f3vAJoJ88hdFG1SkEhyooWCgANfG8T+OgSEGGEApDEJ/ULRBRY5hte304/8HGFKAnBW3z34E\n",
       "Uq2hoWmhoUEMcBF5rCHZwHA+C6yNAT0koSJu2LSxLWDg+wNyJBDA4g2hDSRyFJvf1gMpdQZbBgae\n",
       "LIb1AijaoCLFWG0DJig7UCDzRjGYM6Bog4p0Y2jb/4CBZRYD+wUGUSBnd4cDqjaoSAi6LqX8SQUM\n",
       "Qh3ApMwqgCx+FiXDBeDON6jp1R0l9xTgyW92OGUe48umi8kwEOQDXHmf9wFuTQACk3S6CfbxsQAA\n",
       "AABJRU5ErkJggg==\n",
       "\" style=\"display:inline;vertical-align:middle;\" /></a><br>"
      ],
      "text/plain": [
       "<IPython.core.display.HTML object>"
      ]
     },
     "metadata": {},
     "output_type": "display_data"
    }
   ],
   "source": [
    "add_0_9, add_1_9, add_2_9, add_3_9, add_4_9, add_5_9, add_6_9, add_7_9, add_8_9, add_9_9 = [Equals(Add(num(n), num(9)), num(n+9)) for n in range(10)]"
   ]
  },
  {
   "cell_type": "code",
   "execution_count": 27,
   "metadata": {},
   "outputs": [
    {
     "data": {
      "text/html": [
       "<strong id=\"md_only_nine_add_one\"><a class=\"ProveItLink\" href=\"proofs/md_only_nine_add_one/thm_proof.ipynb\">md_only_nine_add_one</a> (conjecture without proof):<br></strong> <a class=\"ProveItLink\" href=\"../__pv_it/theorems/3f6aa1c59d180e620a0e902285573afb03a486870/theorem_expr.ipynb\"><img src=\"data:image/png;base64,iVBORw0KGgoAAAANSUhEUgAAAkMAAAAVBAMAAAC3X/drAAAAMFBMVEX///+IiIgiIiIQEBB2dnbu\n",
       "7u5ERETMzMzc3NwyMjK6urpmZmaYmJiqqqpUVFQAAAB6qHgnAAAAAXRSTlMAQObYZgAAAAlwSFlz\n",
       "AAAOxAAADsQBlSsOGwAABd9JREFUWMOtWG9oW1UUP2nz8qfJa6L4QdCuIUMmzkkVxTGKZuj8MtZm\n",
       "qwyGYCJiLII2FD/4RZtVGfhBFz8IA+uM7ougo+3smFuHpBUqo0If6wYqQrPtwxT/tbi6la3Wc+65\n",
       "L+9Pbt5ak0tPOXn3nXN+73fPPfcPwDpaQYpoIe93QxvusEfZgFUI1tcaA1RYXxCfwcKtw/vlut1t\n",
       "8duE+XRjVh3rpKgxQCQV+vGz56sXpIimpwAmv0nLX5ZmdWsvJtwe3tn9CsC9HiHIj6/sfjqYrm9F\n",
       "OIL3yR9P3yNH27/za2gKIPJIgEjO0IMjXgxpRZZgIoK8HwDYFw9u5y5LMxt2Q3jM7WEMFgwIp+uG\n",
       "YD8fuqx++wQtFFaDMC4CPX96mR+EDe1+1j6GfYVmAGKPBAjlLZqVWS+KImUW32ILhjoLcAUgx12W\n",
       "ZjbshpjhnqmrkClCdKxuCPYza84AM5068RsUVp2wlQP5JEXTAM8IJZoAf7YZgNgjAZrlUfIbXhS1\n",
       "Sol0xTCLugBWAHp5ACzNbNgNo+7RadsBMUzDx+qGYD+t0k6P2yhSWH0FSxzIpOg1gAVhG6iAvgxN\n",
       "AMQeCRBKFIcs7FmKfmSJTnd3/gF6EbR/EHxJ5GtVq858DAxPKZwsYJgRof2CcsiV9+wnXFZRNOJ2\n",
       "9f3mqX8NEcik6CbAkBjl2BgEV6FxQNIjASJ5JJl81JOiCZbM2tra3xBJ8ZiXq6PvKLLUDUfhwkn3\n",
       "sD2I/3qEOpyH0BZFFpXBX1FR1OOuI4hjrUsEkhRp9EECRgYpugWNA5IeCRDJKYCXPCkakRKLz6UF\n",
       "qVg5BuJmDRlwLJ3Urd3Sf+h2ughuuor/z/F2ZAuBqqlF6CdaVFHEVieS1B4S+lJ0mTNOUhS6hh8k\n",
       "bA6nILgEjQOSHgkQyfsQqtTy4rfUbVIyRi9ACyZ0Xyn4F1cvS5ONuvUbx4M1SyQuIDDP6vAb7iSS\n",
       "fvQuFUXzNSvsqn9RBHJQlDIpugaNA5IeCRBJIO3HcjJtwhqeKEWfwAS13t8hZSh/GasXvquN7+lk\n",
       "2i3NLO3YHenmRwfEwMvorfg1QzJ+Ml/z1cJPcJFmRjK5Ged+pUrRkPvl4PX2hAhUnWj4QaMCfyYF\n",
       "bc4s+n+ApEcCRKLHw9IVpl+upFd2wUkVRVyLWrk6W+uYc0Wj7paPTrk/Kg8BrKLH6lLEftqUWXRM\n",
       "WYvsFFFxXTDLtb4KTQDEHgmQAFWcohQVe1x8VZ+KQMpBkZxo0YE7Vjo4we27oVxNXmeMUVfI2LJA\n",
       "dL7uRGM/ekJF0Xl3LZpZ6vzAsE80sp3jRT8L0eVmAGKPBEiA2kObyJnQXXwC0N/8PJ7yT56YPGO+\n",
       "/oKUy7QdCSD8+bR2HTTqsjTZqHsunTGcx5/WisjrGWV1TJt+IJpVUTTjht+ewP0ZBapS9C3AaQEj\n",
       "2gWRIqQbByQ8CkAC1Ns07y+911fYL/Dld/3kzKIeKbnQKq+Bd6YDZdqd2jRthf64+1fI5FMORLj3\n",
       "om3IhHONZRthJvzwAm2nqLcAppX9q7OHDd4g+G+YqaI9zoC2QV9eeGwQkPAoAAlQ7UThw0YQvmSK\n",
       "Ir6sg6JBKZe07XRQw7C7McNa6AhpaVvFn+h+FXzjru3sF5N4aoQHhE6r7btCY5tkWvqBlpKToj+f\n",
       "PFo2rexZFO8riEDtV1Z+5/I0sSnPMJ7beZU9NghIeBSATFAQuokV7VwulzP0vJYqOihqybNwq07b\n",
       "i1Cr2boV9zMJ9ZG9in4YXFnkYaUIdLHWYxMADVczL/tZCF7nLILjcce+iE571onPPGuClbr2JJ71\n",
       "Pg6D1w7srPsY62GlCJRS7OkaB3TWSt5BP+6QiJAS+FxbyX4pXAnkZYNWHWrNPuiB+td0h9SP91YH\n",
       "NbsBq9pAFoy90DxAFqhAof07CL1MVeeIvGaz2n4pjETa+KybBQfQ+vcq/erHce+P6a93i+UO5Kv1\n",
       "2ARAblDP5nIl1ZyNs3A76H2bWbfbd7tr4Ls3ZnVwnRezjQFC+Q/n6ALQU+aRTgAAAABJRU5ErkJg\n",
       "gg==\n",
       "\" style=\"display:inline;vertical-align:middle;\" /></a><br>"
      ],
      "text/plain": [
       "<IPython.core.display.HTML object>"
      ]
     },
     "metadata": {},
     "output_type": "display_data"
    }
   ],
   "source": [
    "md_only_nine_add_one = Forall(k, Equals(Add(DecimalSequence(ExprRange(i, nine, one, k)), one), \n",
    "                         DecimalSequence(one, ExprRange(i, zero, one, k))), \n",
    "              domain= NaturalPos)"
   ]
  },
  {
   "cell_type": "markdown",
   "metadata": {},
   "source": [
    "### Multiplying digits"
   ]
  },
  {
   "cell_type": "code",
   "execution_count": 28,
   "metadata": {},
   "outputs": [
    {
     "data": {
      "text/html": [
       "<strong id=\"mult_0_0\"><a class=\"ProveItLink\" href=\"proofs/mult_0_0/thm_proof.ipynb\">mult_0_0</a> (conjecture without proof):<br></strong> <a class=\"ProveItLink\" href=\"../__pv_it/theorems/cf4676a3315179268f46707de7d45e138d8bae930/theorem_expr.ipynb\"><img src=\"data:image/png;base64,iVBORw0KGgoAAAANSUhEUgAAAFcAAAAVBAMAAADBdm84AAAAMFBMVEX////MzMxUVFRERES6uroi\n",
       "IiIQEBCYmJhmZmYyMjLu7u52dnaqqqqIiIjc3NwAAACW8nlqAAAAAXRSTlMAQObYZgAAAAlwSFlz\n",
       "AAAOxAAADsQBlSsOGwAAAVBJREFUKM910zFLw0AYxvF/adO0SVq7OFu/QdBZ8QuIRXArUqEfoIvi\n",
       "ZhcRKUg3QRwKorg16CiFrMWhwclJujjrplgFL17S2svlpsuPJ2/eN7kAYxJLQ3KV/KRtpoUfwR6c\n",
       "za4fnseUWolYyFhduOR6+uCib+3ChZqVXGhh1rDdWPfhHg7VsOQ8ZKs4X7GuwKhHvqeEJQ9hoU3m\n",
       "O9ZPWPIpqk1L7kBfhD8itEJtYVfnsxGfw5tH5ifS8kRogNkNL453wrU947oMT/6HPZzGfOWIm6IN\n",
       "j1xYuS/KWUK3AjLvShuSm38DOuGARltOMvLJNZIDChZtZF3M6atbhaMeTm2+54jXwGxQ6MbhAzgV\n",
       "5CqVJd+JXZ2bSqyGb+2J7+opYcmLYnc7WJ6N0nkSNxobSjjiiu4ovupPqNnW6UnKeV7XWNlNCV9p\n",
       "LJv2X5WDpL3oo78fG2HnBTvpbQAAAABJRU5ErkJggg==\n",
       "\" style=\"display:inline;vertical-align:middle;\" /></a><br>"
      ],
      "text/plain": [
       "<IPython.core.display.HTML object>"
      ]
     },
     "metadata": {},
     "output_type": "display_data"
    },
    {
     "data": {
      "text/html": [
       "<strong id=\"mult_1_0\"><a class=\"ProveItLink\" href=\"proofs/mult_1_0/thm_proof.ipynb\">mult_1_0</a> (conjecture without proof):<br></strong> <a class=\"ProveItLink\" href=\"../__pv_it/theorems/c62efb1d7ff61d87f5c02ca4e3752da9c8fc2ed70/theorem_expr.ipynb\"><img src=\"data:image/png;base64,iVBORw0KGgoAAAANSUhEUgAAAFcAAAAVBAMAAADBdm84AAAAMFBMVEX////MzMxUVFRERES6uroi\n",
       "IiIQEBCYmJhmZmYyMjLu7u52dnaqqqqIiIjc3NwAAACW8nlqAAAAAXRSTlMAQObYZgAAAAlwSFlz\n",
       "AAAOxAAADsQBlSsOGwAAASdJREFUKM91k7FLwkEUx7+R+tNLf7g4F06NUrPhPxBK0BZh4J5L0pZL\n",
       "hLhIi9DiD/oDkhwdulUc/NHUZC7tjUJLd7wfXffufg8O7n3uw+Md9w7ABk54EEVJuuw0TV6qVYlM\n",
       "Pv/YoNR1NI0hRhCHEyMXpLgEnrhLOK+LfBr5BpgBt1wmnIMtHwGrCLmIyYQXTN4C+xIF3jThoS0L\n",
       "TbvYO7DdBI9tOfxRNEYw0sn9uY4zgy888hTFtl05wR0jv6hyQtFmjJ1v1gbhf3K2TzdZSWTa7gUV\n",
       "Zm3gGLiLUGzZPSe4zuQeMACCGqtM+FVv38yYZaW4Uu86ZTLhitpVrx//HkEM38vqrMHkBJd9o/jl\n",
       "n9Cg76MPKfN84mFhLUV+9rDdtH8Vxi5b+9VfAJtfViC4XvUAAAAASUVORK5CYII=\n",
       "\" style=\"display:inline;vertical-align:middle;\" /></a><br>"
      ],
      "text/plain": [
       "<IPython.core.display.HTML object>"
      ]
     },
     "metadata": {},
     "output_type": "display_data"
    },
    {
     "data": {
      "text/html": [
       "<strong id=\"mult_2_0\"><a class=\"ProveItLink\" href=\"proofs/mult_2_0/thm_proof.ipynb\">mult_2_0</a> (conjecture without proof):<br></strong> <a class=\"ProveItLink\" href=\"../__pv_it/theorems/fc2dd8ad78baae0f0cdff38136fd2e6bc96bf9df0/theorem_expr.ipynb\"><img src=\"data:image/png;base64,iVBORw0KGgoAAAANSUhEUgAAAFcAAAAVBAMAAADBdm84AAAAMFBMVEX////MzMxUVFRERES6uroi\n",
       "IiIQEBCYmJhmZmYyMjLu7u52dnaqqqqIiIjc3NwAAACW8nlqAAAAAXRSTlMAQObYZgAAAAlwSFlz\n",
       "AAAOxAAADsQBlSsOGwAAAU5JREFUKM910zFLw0AUB/C/0SZtTEMXJ4f6EaLOSr+AGAqCQ5EIfoAg\n",
       "KG52EVu6ZBOcAn4Ag44OZhWHBidxKFkEJ6mbKBjvcnfWXC5HKO/9+HO8B1cAKUpHQew047JtVYUf\n",
       "gbfh6qy/e07R9EsxyjAD2A7uOwIbsbkHXMpZxnUfWgrdE3oE3AIncpixTr4vaD9C14BxCD2Uwowf\n",
       "AM2F9iH0E2jHaMhDMx7ldW3K0aTqY3GlmOV8kTfthKv9nTdGQJuzHXq6M+7lmS7+hyNYXvFmzge0\n",
       "rjv095pcZxLdTjA3lcZgnIcP2eB9tsk4xoJXXpAwHcOK8C50HTgNYbnFmTlvkGoZeBHhY2AIGI50\n",
       "M+MbMv3uYOAKrcXmPlkiksKMl0iRZVnwt8roqUWoI4U5t1RP8VX9Qo2+Ss8r3vOmwmynInylsPmq\n",
       "/5WdlG2ijv4CDrxdS1n5w4EAAAAASUVORK5CYII=\n",
       "\" style=\"display:inline;vertical-align:middle;\" /></a><br>"
      ],
      "text/plain": [
       "<IPython.core.display.HTML object>"
      ]
     },
     "metadata": {},
     "output_type": "display_data"
    },
    {
     "data": {
      "text/html": [
       "<strong id=\"mult_3_0\"><a class=\"ProveItLink\" href=\"proofs/mult_3_0/thm_proof.ipynb\">mult_3_0</a> (conjecture without proof):<br></strong> <a class=\"ProveItLink\" href=\"../__pv_it/theorems/dad96d13101489c7a4cacce8c6eabf6a9a2f65200/theorem_expr.ipynb\"><img src=\"data:image/png;base64,iVBORw0KGgoAAAANSUhEUgAAAFcAAAAVBAMAAADBdm84AAAAMFBMVEX////MzMxUVFRERES6uroi\n",
       "IiIQEBCYmJhmZmYyMjLu7u52dnaqqqqIiIjc3NwAAACW8nlqAAAAAXRSTlMAQObYZgAAAAlwSFlz\n",
       "AAAOxAAADsQBlSsOGwAAAU1JREFUKM91kz9Lw0AYh3+haWrPJs3ibP0GRV0VRxdRBHERqdAPkEVx\n",
       "M4uodOkmOAX8ABZdBJes0iGhk5N0cXJxlNrBN3nzp7lc3iHcPfdw+d3lDYApSqVAXKZfZntV8hj4\n",
       "ft3M528fU5hOSYswxBDCRZBt3/TFKfAgu4yXHJhzPA1Teg68AJeyzNgA9D7ambwOBB4MT5IZv8fj\n",
       "IAv5C6z6aMqhGQ+ioX6cQhFRB8udopvgexpqk7WUWn9EQzTiWNdHUR3m+IRj+IvyCK1ececE9+OJ\n",
       "MaNHdCWC6H4I7UeKwZhkzUZtTqTu8knoNXqvfEDCFKM9YzmuDeDKQ+ugmDnBW5ShwzHiugDugEZX\n",
       "2pnxM604C/dc98UZfdeRJDNeodHubd5IYjCxaW1HkhNsq1rxS92hDVdFbyr6eVvBrG6F/Khgtar/\n",
       "ygrL7FOt/gN5rl5cvAQcIgAAAABJRU5ErkJggg==\n",
       "\" style=\"display:inline;vertical-align:middle;\" /></a><br>"
      ],
      "text/plain": [
       "<IPython.core.display.HTML object>"
      ]
     },
     "metadata": {},
     "output_type": "display_data"
    },
    {
     "data": {
      "text/html": [
       "<strong id=\"mult_4_0\"><a class=\"ProveItLink\" href=\"proofs/mult_4_0/thm_proof.ipynb\">mult_4_0</a> (conjecture without proof):<br></strong> <a class=\"ProveItLink\" href=\"../__pv_it/theorems/43764812da1cd4c6356d135a66dd9a8e53b0607f0/theorem_expr.ipynb\"><img src=\"data:image/png;base64,iVBORw0KGgoAAAANSUhEUgAAAFcAAAAVBAMAAADBdm84AAAAMFBMVEX////MzMxUVFRERES6uroi\n",
       "IiIQEBCYmJhmZmYyMjLu7u52dnaqqqqIiIjc3NwAAACW8nlqAAAAAXRSTlMAQObYZgAAAAlwSFlz\n",
       "AAAOxAAADsQBlSsOGwAAAUFJREFUKM91kzFLw0AUx/+ibezZhC6im9JVhKKzIu6iFNxEqvgBuihu\n",
       "FkREuoiL4BTwAxh0dLlVHBqcOpUs4iQIgggOei8vXsjd5Ybw7pcfj/8jLwASWMeB+PjSZhtl8jM9\n",
       "ZvP74zCB37U0whCXVLY1rEmxC9yYLuNJauLn8iHwABybMuMqlTNXmi4BgxDV0JAZP1EZ5fI3MCdR\n",
       "M0Mz7lOKRMuCaBdT80U3w9eqfIOWgx9FY3jp2GfbdNo53qEUhhyh3il2zvAB4CUs36l2QtHNGGMf\n",
       "RgzGSn4Hy5UeTzKQmOjYAyqsYqw3m18L/3QZOAlR3ypmzvBKquzrFkfAhUrWMjozvk/rT00rUuyp\n",
       "7xoZMuNpKk9/F/Uo/ZeGerdmyBluuFbx1b2hXs9Fz0v2edXBglaJfOtg42X/VRDbbORW/wCWmlmZ\n",
       "s/5qjQAAAABJRU5ErkJggg==\n",
       "\" style=\"display:inline;vertical-align:middle;\" /></a><br>"
      ],
      "text/plain": [
       "<IPython.core.display.HTML object>"
      ]
     },
     "metadata": {},
     "output_type": "display_data"
    },
    {
     "data": {
      "text/html": [
       "<strong id=\"mult_5_0\"><a class=\"ProveItLink\" href=\"proofs/mult_5_0/thm_proof.ipynb\">mult_5_0</a> (conjecture without proof):<br></strong> <a class=\"ProveItLink\" href=\"../__pv_it/theorems/4410372ed53ba021598255a6802db4b466053b6e0/theorem_expr.ipynb\"><img src=\"data:image/png;base64,iVBORw0KGgoAAAANSUhEUgAAAFcAAAAVBAMAAADBdm84AAAAMFBMVEX////MzMxUVFRERES6uroi\n",
       "IiIQEBCYmJhmZmYyMjLu7u52dnaqqqqIiIjc3NwAAACW8nlqAAAAAXRSTlMAQObYZgAAAAlwSFlz\n",
       "AAAOxAAADsQBlSsOGwAAAU1JREFUKM91kzFLw0AUx/8am6TXNmRxtk6uQTdB6RcQg1AnkQrudlHc\n",
       "DIKIdskmOgX8ABbddLlVHBocRBCki+CmDoIgiC+9NO1dLm8I7/3ux+M97gKgj1xokIgahwsmH68U\n",
       "yQ/Aznkzyuq75z5q7ZyWYLAQWP++zWCZs03gQnUFtqlJfYzuAjfAvioLbEKW54FeBDNSZIHvFfkH\n",
       "mOEoq0ML3KFs7mV2CFlC26jUZTfFZ5Qu4qORUueXaAwrTIqjZhJrI7wxcAx/XO6i2pI7p3h7UNh/\n",
       "9LmidozoaoyJT2UMgUk2QthfREqB2KTHMdXKL0iYxjB9TGadFoCDCFVfnjnFS0CFfG8o7wEngOUp\n",
       "nQW+pukDPGWXUOJsi3boKrLA05S9H56OVuk8unTWUOQUu7qn+KZ/oVago8cF73lZwxyvQL7UMKPo\n",
       "v3LiPHvVq/97dltWUgu0fgAAAABJRU5ErkJggg==\n",
       "\" style=\"display:inline;vertical-align:middle;\" /></a><br>"
      ],
      "text/plain": [
       "<IPython.core.display.HTML object>"
      ]
     },
     "metadata": {},
     "output_type": "display_data"
    },
    {
     "data": {
      "text/html": [
       "<strong id=\"mult_6_0\"><a class=\"ProveItLink\" href=\"proofs/mult_6_0/thm_proof.ipynb\">mult_6_0</a> (conjecture without proof):<br></strong> <a class=\"ProveItLink\" href=\"../__pv_it/theorems/501dd0fee90fd7e7dd4a5bfcca055b6e7c5dca070/theorem_expr.ipynb\"><img src=\"data:image/png;base64,iVBORw0KGgoAAAANSUhEUgAAAFcAAAAVBAMAAADBdm84AAAAMFBMVEX////MzMxUVFRERES6uroi\n",
       "IiIQEBCYmJhmZmYyMjLu7u52dnaqqqqIiIjc3NwAAACW8nlqAAAAAXRSTlMAQObYZgAAAAlwSFlz\n",
       "AAAOxAAADsQBlSsOGwAAAVNJREFUKM910zFLw0AUB/C/xiRtmqZdnNVvEHQUpV9ADIKblAhOTl0U\n",
       "NzsoKl3iVBCEgODaomMQbhWHhk5O0sXBrYOg6OKLl6TJ5XIQyP3483h3eQEwQWFJiK86K9pWWfiF\n",
       "niBopvvgdYJ6pxCLGIYHfLTmnQSrzGgDN2KWc4WK3EKxEz0CHoETMcxZA8yfjK4CIx+aL4Q5PwOK\n",
       "m9FvYImhKjbNuUfFr5/OEjQi7aC2nM/G3AcafWjJ/Vm/pCF0L9qc70ZrZ8Z7wGCKymE2PITp5ivH\n",
       "fEBhB/onyYDKGaTbIeamQhucKdzwoH+RqF1+khHDgls8IDG1ocSV/9cacOrDdPI9x7xB90w9p5WO\n",
       "gStAt4XKnB/obR336TSpzNin7zoUwpwX6a12uTI7Sm9MQ6W2hHDMTdkovssnVO/K9KJknjclZtkl\n",
       "4TuJKWX/lRUW7U0e/QNFLF415BwqkAAAAABJRU5ErkJggg==\n",
       "\" style=\"display:inline;vertical-align:middle;\" /></a><br>"
      ],
      "text/plain": [
       "<IPython.core.display.HTML object>"
      ]
     },
     "metadata": {},
     "output_type": "display_data"
    },
    {
     "data": {
      "text/html": [
       "<strong id=\"mult_7_0\"><a class=\"ProveItLink\" href=\"proofs/mult_7_0/thm_proof.ipynb\">mult_7_0</a> (conjecture without proof):<br></strong> <a class=\"ProveItLink\" href=\"../__pv_it/theorems/7d794fa1ba32246762ec6eecda63a344a343d48f0/theorem_expr.ipynb\"><img src=\"data:image/png;base64,iVBORw0KGgoAAAANSUhEUgAAAFcAAAAVBAMAAADBdm84AAAAMFBMVEX////MzMxUVFRERES6uroi\n",
       "IiIQEBCYmJhmZmYyMjLu7u52dnaqqqqIiIjc3NwAAACW8nlqAAAAAXRSTlMAQObYZgAAAAlwSFlz\n",
       "AAAOxAAADsQBlSsOGwAAAUZJREFUKM910z1Lw0AYB/C/tW3s9Xp0cdaPEHRxUfoFRFHcpFRwdOii\n",
       "iItZxEqXboJTwA9g1Ulcbi0ODU6dpIvO4iCFDvFe8mIul5ue++XP8TzJBcAUuWUhvRqcXZi2XRR+\n",
       "Aw3D8DfZv06maHRzMckgA9Q3er3DGGuctIE7M6t5qYs6wLxYT4Fn4NwMa64CFCglugaMfVR9I6x5\n",
       "pOrHRGfACkfNbFpzX5bMjZFIFZ2tZrMR38q61IqVzYUGcAZyc3Ug117K6jV8IRMegnayJ0d8LOsX\n",
       "JQ/iOCJ0J8DCt9GGZhXeV1Lx9CRjjnInP6Bg2Qb5SXUduPRBd7M9R7wpqvIsDZ8BN4DjGidrfhIV\n",
       "nada4eRIfNehEda8LGc9+TdK/70pnrWMcMRN21X8tN9Qx7PpdcF93rIYcwvC9xZbLPqvWJC3D3v0\n",
       "D8pwWIHdkSXYAAAAAElFTkSuQmCC\n",
       "\" style=\"display:inline;vertical-align:middle;\" /></a><br>"
      ],
      "text/plain": [
       "<IPython.core.display.HTML object>"
      ]
     },
     "metadata": {},
     "output_type": "display_data"
    },
    {
     "data": {
      "text/html": [
       "<strong id=\"mult_8_0\"><a class=\"ProveItLink\" href=\"proofs/mult_8_0/thm_proof.ipynb\">mult_8_0</a> (conjecture without proof):<br></strong> <a class=\"ProveItLink\" href=\"../__pv_it/theorems/1ddb45e286ab1eda580806750270bca6917028780/theorem_expr.ipynb\"><img src=\"data:image/png;base64,iVBORw0KGgoAAAANSUhEUgAAAFcAAAAVBAMAAADBdm84AAAAMFBMVEX////MzMxUVFRERES6uroi\n",
       "IiIQEBCYmJhmZmYyMjLu7u52dnaqqqqIiIjc3NwAAACW8nlqAAAAAXRSTlMAQObYZgAAAAlwSFlz\n",
       "AAAOxAAADsQBlSsOGwAAAVJJREFUKM9107FLw0AUBvBPbZv0TEMRnHVztOhs8R8QRXArpYKTUxbF\n",
       "zQyKSh3chE4BR4cWHbvcWhwSnDpJQdwFF0GlvuvlmuZyedPll68v75IrgBEyZSBZFZ61nbzwC/DY\n",
       "v0iu+8MRKl4mJhjsDvAxP21f5qwJdPSsZNuD5U1+IusEeAbO9LDkErC4OhPeAMIApUALSx4Azldg\n",
       "T4f8BlY4yvrQktu0Wv+7VciEeuJhqYr5npb2uKnU/SGNYE3GujwQtZ9wQ7y99zGfDffgtNKdYz4C\n",
       "LB/hMUmX2jHS3Qhzn9oYkilMW3d/SYq+3EnIUWhlN0hMY3TpYk3pJnAewNlLzxzzFnWmD1lX4VPg\n",
       "hiaraZ0lPwGFDqxIaZGzQ3o/PS0seZlWS9fJQWLt1yrd29bCMVdNR/HDfEIt36RXOee5bjC3lhN+\n",
       "MNhC3v/KjbL2Zo7+A6fFYKi1+yRhAAAAAElFTkSuQmCC\n",
       "\" style=\"display:inline;vertical-align:middle;\" /></a><br>"
      ],
      "text/plain": [
       "<IPython.core.display.HTML object>"
      ]
     },
     "metadata": {},
     "output_type": "display_data"
    },
    {
     "data": {
      "text/html": [
       "<strong id=\"mult_9_0\"><a class=\"ProveItLink\" href=\"proofs/mult_9_0/thm_proof.ipynb\">mult_9_0</a> (conjecture without proof):<br></strong> <a class=\"ProveItLink\" href=\"../__pv_it/theorems/b7752f274bdeee7a225e0853980ccbfbceb4812e0/theorem_expr.ipynb\"><img src=\"data:image/png;base64,iVBORw0KGgoAAAANSUhEUgAAAFcAAAAVBAMAAADBdm84AAAAMFBMVEX////MzMxUVFRERES6uroi\n",
       "IiIQEBCYmJhmZmYyMjLu7u52dnaqqqqIiIjc3NwAAACW8nlqAAAAAXRSTlMAQObYZgAAAAlwSFlz\n",
       "AAAOxAAADsQBlSsOGwAAAVJJREFUKM91071Lw0AcxvGv1jZt+mIRdNXZKejgpPQfEEVwkSoROjl1\n",
       "UdzsIla6dBOcCi5uLTq6ZBWRBidBkC7uCoLiC3jJJY29XG7J3Ycn95ZfgAGxpiHZik7cVpPCd5Bt\n",
       "zkfjm8cBxXos5jFmG3ObmeHCOcfcgXM1KzlbZ9wmZYW6D9dwqIYlZ2CyTf4r1AXod8h0lLDkW+ha\n",
       "FN9D/YRZh5y6acktOfNHgKandfJzo9mAz/D3/Bto6Vuoi9H2BsebXtuIuCpeqzH18z/co2CPzhxw\n",
       "TXQvn+7fxKMrpjOFrrmMvSrbkFzzB/5tpBvyJH2HCTt+QMFVvx/d8yIcdSisj+454GUo7NEth+ED\n",
       "OAXDUmaWfCVKaYuloaYdc1d8154SljztFUmzEh2l9SBWSVeUcMBlXSm+6CvUaOj0JKGeVzRWshLC\n",
       "FxpLJf1XJTduz/roH19iXYYMAyWzAAAAAElFTkSuQmCC\n",
       "\" style=\"display:inline;vertical-align:middle;\" /></a><br>"
      ],
      "text/plain": [
       "<IPython.core.display.HTML object>"
      ]
     },
     "metadata": {},
     "output_type": "display_data"
    }
   ],
   "source": [
    "mult_0_0, mult_1_0, mult_2_0, mult_3_0, mult_4_0, mult_5_0, mult_6_0, mult_7_0, mult_8_0, mult_9_0 = [Equals(Mult(num(n), num(0)), num(n*0)) for n in range(10)]"
   ]
  },
  {
   "cell_type": "code",
   "execution_count": 29,
   "metadata": {},
   "outputs": [
    {
     "data": {
      "text/html": [
       "<strong id=\"mult_0_1\"><a class=\"ProveItLink\" href=\"proofs/mult_0_1/thm_proof.ipynb\">mult_0_1</a> (conjecture without proof):<br></strong> <a class=\"ProveItLink\" href=\"../__pv_it/theorems/fe1d980a68f66f53fbe730378a83f09366d353080/theorem_expr.ipynb\"><img src=\"data:image/png;base64,iVBORw0KGgoAAAANSUhEUgAAAFcAAAAVBAMAAADBdm84AAAAMFBMVEX////MzMxUVFRERES6uroi\n",
       "IiIQEBCYmJhmZmYyMjLu7u52dnaqqqqIiIjc3NwAAACW8nlqAAAAAXRSTlMAQObYZgAAAAlwSFlz\n",
       "AAAOxAAADsQBlSsOGwAAAVRJREFUKM91kzFLw1AUhU9M06QvMXZxti66Bp0V/4BYBBcpEsEfkEVx\n",
       "M4tIKUg2QRyCorg16CiFrOLQ4OQkLs66qa2K91lIeS8vd3jcnHycd264AfCCQimkUU2mRW21DH4A\n",
       "7N7x+FnbJIOggN090XUsAs5wmV983h7QeSqztZRtAVYAswnbG8fi8L4M7wK3QBXQG3AGIlyNJXgB\n",
       "6Me4B6ZCaN8iXJNDfwIzKTpAl+APEbYbIss4HOAEeEug/YiwGfH2cIPXOnXukOAMrRE8FGHHF53/\n",
       "4QQ7FCNBhTt3oxzW3qUYBK9lHKYBHT6gEeZwxS8O2E95DN2DKX06pylmxiJwEGOJpvFhRdKAnuS8\n",
       "B7SBG+pauKrnsv1Lh5VIsJGybWCauuvebK5OzH3N07sVCWadR/Iz6qpVfFVvqBmq1KOSfV5WaK5X\n",
       "Al8oNL3sv3KzovasRv8AvnNZtsgO5A0AAAAASUVORK5CYII=\n",
       "\" style=\"display:inline;vertical-align:middle;\" /></a><br>"
      ],
      "text/plain": [
       "<IPython.core.display.HTML object>"
      ]
     },
     "metadata": {},
     "output_type": "display_data"
    },
    {
     "data": {
      "text/html": [
       "<strong id=\"mult_1_1\"><a class=\"ProveItLink\" href=\"proofs/mult_1_1/thm_proof.ipynb\">mult_1_1</a> (conjecture without proof):<br></strong> <a class=\"ProveItLink\" href=\"../__pv_it/theorems/31b2d52899854fea88cca580bd5f2ca6300e73680/theorem_expr.ipynb\"><img src=\"data:image/png;base64,iVBORw0KGgoAAAANSUhEUgAAAFYAAAAVBAMAAAAutAQGAAAAMFBMVEX////MzMxUVFRERES6uroi\n",
       "IiIQEBCYmJhmZmYyMjLu7u52dnaqqqqIiIjc3NwAAACW8nlqAAAAAXRSTlMAQObYZgAAAAlwSFlz\n",
       "AAAOxAAADsQBlSsOGwAAAOFJREFUKM9jYGB4wIABsAiBAe8BTDFfHGpPA7HoAgSfMQqovwBDGUiY\n",
       "awIDl8Z8hNpFnb+A5Cx0pWBhDpAR95HM5QWprcB0KlCYjQGbWrYF2NSexKqWswCb2m6sarkVsKmd\n",
       "jlUt+wQQszUUBILgwjFY1fIkYDM3BaF2/QS4WsYPBNSyNsDVsmA1F4cbArC51xa73wywmbsJxNiP\n",
       "lLC4/wEJjg3oakHCokBaKX8SPOyZ1H6qA53ugKYULMwqgC3xPcWaJNkbsIm2Y0+/dljE+Aywq12M\n",
       "RYwZRybiu4Apdg+rSgBMGE70pmjznQAAAABJRU5ErkJggg==\n",
       "\" style=\"display:inline;vertical-align:middle;\" /></a><br>"
      ],
      "text/plain": [
       "<IPython.core.display.HTML object>"
      ]
     },
     "metadata": {},
     "output_type": "display_data"
    },
    {
     "data": {
      "text/html": [
       "<strong id=\"mult_2_1\"><a class=\"ProveItLink\" href=\"proofs/mult_2_1/thm_proof.ipynb\">mult_2_1</a> (conjecture without proof):<br></strong> <a class=\"ProveItLink\" href=\"../__pv_it/theorems/783fbf7e562f7dd9726e403135ab4541b05fed550/theorem_expr.ipynb\"><img src=\"data:image/png;base64,iVBORw0KGgoAAAANSUhEUgAAAFcAAAAVBAMAAADBdm84AAAAMFBMVEX////MzMxUVFRERES6uroi\n",
       "IiIQEBCYmJhmZmYyMjLu7u52dnaqqqqIiIjc3NwAAACW8nlqAAAAAXRSTlMAQObYZgAAAAlwSFlz\n",
       "AAAOxAAADsQBlSsOGwAAAU5JREFUKM9jYGB4wIABsAhBAO8BTDFfXIpPMzC86DRE8BmjgAYUoKvi\n",
       "65gswMDANYGBz4BhvwNMdFHnLyA5C13xYwbuLwwMHAUMTA8Y2BIQzgIprkBXrMfAkMbAwAZEvxiY\n",
       "/qEqZluApjh/AYP+A4aTDAxMAQxMH1EVc6I7WpWBQV+AoRvMZv2AqphbATMk4hkYpoMZ8hdQFbNP\n",
       "ADFbQ0EgCBpKfxkYYsCsIAZUxTwJGAazAi1LATE4DEDk+glwxYwfMBQ3M0AVF0H0NsAVs2CYzA7y\n",
       "BcgZPBsY3qE5IwDdzacZ+B4w2AIZ0gwMt9A8aIBmMOMGBt4FDJuA8R7R0REAF+YGxQ/HBjTFTzs6\n",
       "WhkYRIFu/f///wSYKJPaT3WgkAN6IP///xMoLIAtKT7FnkLZG7CJtuNIz3ZYxPgMcChejEWMGVe+\n",
       "4ruAKXYPu1IANmRPFpGxcWMAAAAASUVORK5CYII=\n",
       "\" style=\"display:inline;vertical-align:middle;\" /></a><br>"
      ],
      "text/plain": [
       "<IPython.core.display.HTML object>"
      ]
     },
     "metadata": {},
     "output_type": "display_data"
    },
    {
     "data": {
      "text/html": [
       "<strong id=\"mult_3_1\"><a class=\"ProveItLink\" href=\"proofs/mult_3_1/thm_proof.ipynb\">mult_3_1</a> (conjecture without proof):<br></strong> <a class=\"ProveItLink\" href=\"../__pv_it/theorems/21188066e23a6267c022d6a7db3dfa383bd9a84f0/theorem_expr.ipynb\"><img src=\"data:image/png;base64,iVBORw0KGgoAAAANSUhEUgAAAFcAAAAVBAMAAADBdm84AAAAMFBMVEX////MzMxUVFRERES6uroi\n",
       "IiIQEBCYmJhmZmYyMjLu7u52dnaqqqqIiIjc3NwAAACW8nlqAAAAAXRSTlMAQObYZgAAAAlwSFlz\n",
       "AAAOxAAADsQBlSsOGwAAAUVJREFUKM9jYGB4wIABsAhBAO8BTDFfXIpPMzC83mGC4DNGAQ0oQFfF\n",
       "t7vZgYGBawIDVwPDebjxizp/AclZ6IpXMPD8YWDgKGDg/cOwfgLCWSDFFeiK7x/g+snAwMbAwJLC\n",
       "wI+mmG0BmmI3Bwag4pNg9vkCVMWcGI5m4PnOwNANYrCEM6Aq5lbAUOwK1D8dFACXFNEUs4Od1RoK\n",
       "AkFgYVklAQaGGIgzDqAq5knAdAYwNFLALDaQCkiQgBUzfsCMkPwFIMWMAgzMQG0MrA1wxSzoJgsy\n",
       "MNgfADmD/xdEMbIzAtDc/H8BSLEt0A0KEGcge9AAzeQksDM2AWUKkMOZ+x+Q4NiAprgcHM6iQJZH\n",
       "ByIhMan9VAc63wFNMUsHKCGxCmBLik+xp1D2Bmyi7TjSsx0WMT4DHIoXYxFjxpWv+C5git3DrhQA\n",
       "tYpSRndFx0wAAAAASUVORK5CYII=\n",
       "\" style=\"display:inline;vertical-align:middle;\" /></a><br>"
      ],
      "text/plain": [
       "<IPython.core.display.HTML object>"
      ]
     },
     "metadata": {},
     "output_type": "display_data"
    },
    {
     "data": {
      "text/html": [
       "<strong id=\"mult_4_1\"><a class=\"ProveItLink\" href=\"proofs/mult_4_1/thm_proof.ipynb\">mult_4_1</a> (conjecture without proof):<br></strong> <a class=\"ProveItLink\" href=\"../__pv_it/theorems/f77d542749adeaa75b8c1f27f330f60d2ea76a9c0/theorem_expr.ipynb\"><img src=\"data:image/png;base64,iVBORw0KGgoAAAANSUhEUgAAAFcAAAAVBAMAAADBdm84AAAAMFBMVEX////MzMxUVFRERES6uroi\n",
       "IiIQEBCYmJhmZmYyMjLu7u52dnaqqqqIiIjc3NwAAACW8nlqAAAAAXRSTlMAQObYZgAAAAlwSFlz\n",
       "AAAOxAAADsQBlSsOGwAAASZJREFUKM9jYGB4wIABsAhBAO8BTDFfXIpPgwgJBJ8xCmhAAaY6xgYG\n",
       "Bq4JIFYQXGxR5y8gOQtTMasCAwMHyBDeICRngRRXYCq+ClTMBmKIT0JTzLYAwxWVQMUnQawN6Io5\n",
       "MRzNzQlU3A2Sf4CumFsBXfE9kOLpQMZzBnTF7GBvt4aCANg/fAUgxTEgV2Ao5klAdwUDSHEK0JgH\n",
       "EMXrJ8AVM35AU1wHU/yWAaKYtQGumAXNZL4LDFBnOCkpfdNGc0YAqptZlJT0kzYw2IJVJKF70AAj\n",
       "UtiAJm8Csz4jeeUfkODYgKGYH6hfFMRo/q8LE2NS+6kOdL4DuloO+08XGFgFsCXFp9hTKHsDNtF2\n",
       "HOnZDosYnwEOxYuxiDHjylfA8MYA97ArBQAOEEQQRp4fLQAAAABJRU5ErkJggg==\n",
       "\" style=\"display:inline;vertical-align:middle;\" /></a><br>"
      ],
      "text/plain": [
       "<IPython.core.display.HTML object>"
      ]
     },
     "metadata": {},
     "output_type": "display_data"
    },
    {
     "data": {
      "text/html": [
       "<strong id=\"mult_5_1\"><a class=\"ProveItLink\" href=\"proofs/mult_5_1/thm_proof.ipynb\">mult_5_1</a> (conjecture without proof):<br></strong> <a class=\"ProveItLink\" href=\"../__pv_it/theorems/d88e53a20c663a5e3ab9adaac89ce94c8690d6820/theorem_expr.ipynb\"><img src=\"data:image/png;base64,iVBORw0KGgoAAAANSUhEUgAAAFcAAAAVBAMAAADBdm84AAAAMFBMVEX////MzMxUVFRERES6uroi\n",
       "IiIQEBCYmJhmZmYyMjLu7u52dnaqqqqIiIjc3NwAAACW8nlqAAAAAXRSTlMAQObYZgAAAAlwSFlz\n",
       "AAAOxAAADsQBlSsOGwAAAUJJREFUKM9jYGB4wIABsAhBAO8BBgEGLlRpXwxVjAwM64DUaQaG/Jmh\n",
       "CxDCUUADCtAVs/2cChTnmsDAEPZ1F1x0UecvIDkLXTFrfjTQPA6gIQoozgIprkBXzAQxnwGbYrYF\n",
       "WBWfxKqYswCr4m4gVr+tiKaYWwFdce0mAQaG6UCWFcN7B1TF7BNAzNZQEAgCMZkX8H1hYIgBq2AO\n",
       "QFXMk4AZIaYMDClgBsc/ILF+Alwx4wdMxf0PQIqZJzBwfASFZQNcMQu6yZZAxQIgZ7AFMDB9QHNG\n",
       "AJqbUxkY9BkYbIFeB6o3QPOgAZrJGxgYkhkYNjEw8DUwXENEAjfI+Rwb0BS/YODNYmAQBbGauhAB\n",
       "qvZTHeh8BzTFfB0aQPNYBbCl26fYkzN7AzbRdhyJ3w6LGJ8BDsWLsYgx48pXfBcwxe5hVwoABzVJ\n",
       "tUOLtWsAAAAASUVORK5CYII=\n",
       "\" style=\"display:inline;vertical-align:middle;\" /></a><br>"
      ],
      "text/plain": [
       "<IPython.core.display.HTML object>"
      ]
     },
     "metadata": {},
     "output_type": "display_data"
    },
    {
     "data": {
      "text/html": [
       "<strong id=\"mult_6_1\"><a class=\"ProveItLink\" href=\"proofs/mult_6_1/thm_proof.ipynb\">mult_6_1</a> (conjecture without proof):<br></strong> <a class=\"ProveItLink\" href=\"../__pv_it/theorems/64d7d8ba4c80bb698ca3203e9391c52d1b511d530/theorem_expr.ipynb\"><img src=\"data:image/png;base64,iVBORw0KGgoAAAANSUhEUgAAAFcAAAAVBAMAAADBdm84AAAAMFBMVEX////MzMxUVFRERES6uroi\n",
       "IiIQEBCYmJhmZmYyMjLu7u52dnaqqqqIiIjc3NwAAACW8nlqAAAAAXRSTlMAQObYZgAAAAlwSFlz\n",
       "AAAOxAAADsQBlSsOGwAAAVhJREFUKM9jYGB4wIABsAhBAO8BTDFfXIpPA/Hu3QJwPmMU0IACDGXc\n",
       "uzcyMHBNYGB46cAUABNc1PkLSM5CV8s3hUGVgYEDaMhcBmYDhLNAiivQFXNeYDBmYGBjYOD5heIH\n",
       "EI9tAZri82CBkwwMzAkYijnRHW0GJruBxkzc24KmmFsBTXGm9A0HBobpDAz80xnYDqAqZp8AYraG\n",
       "gkAQiPmzgCGHgSGGgWH9BwaOLFTFPAmoBnP9Z2BoW8CQAlQcwMD+BSiyfgJcMeMHNMVfGRjqHUCK\n",
       "+ScwsH8HirA2wBWzoJnM8BOouADkDGaoycjOCEBzsynYZFugDNDNCWgeNEAPZ6CbGRg2AVnWDMsQ\n",
       "ocH9D0hwbEBTzLyBCxgaoiD5DkW4KJPaT3Wg8x3Q43tHEzCtsQpgS4pPsadQ9gZsou040rMdFjE+\n",
       "AxyKF2MRY8aVr/guYIrdw64UAC+qUa2Mk99/AAAAAElFTkSuQmCC\n",
       "\" style=\"display:inline;vertical-align:middle;\" /></a><br>"
      ],
      "text/plain": [
       "<IPython.core.display.HTML object>"
      ]
     },
     "metadata": {},
     "output_type": "display_data"
    },
    {
     "data": {
      "text/html": [
       "<strong id=\"mult_7_1\"><a class=\"ProveItLink\" href=\"proofs/mult_7_1/thm_proof.ipynb\">mult_7_1</a> (conjecture without proof):<br></strong> <a class=\"ProveItLink\" href=\"../__pv_it/theorems/e60279dcfef95069a55da93e1a1872f57a07db320/theorem_expr.ipynb\"><img src=\"data:image/png;base64,iVBORw0KGgoAAAANSUhEUgAAAFgAAAAVBAMAAAAwfTS1AAAAMFBMVEX////MzMxUVFRERES6uroi\n",
       "IiIQEBCYmJhmZmYyMjLu7u52dnaqqqqIiIjc3NwAAACW8nlqAAAAAXRSTlMAQObYZgAAAAlwSFlz\n",
       "AAAOxAAADsQBlSsOGwAAAThJREFUKM9jYGB4wIABsAhBAO8Bvip0MV8MVc8XgKnTDDz/////Bhdm\n",
       "jAIaUICu+DxQTQID1wQGbouOjhiY6KLOX0ByFrrizR0drQcYOAoYuBkY+BoQzgIprkBXvIGB4QUD\n",
       "AxsDAw8DAxMDqmK2BWiKDzAwKDAwnASzN6Ip5sRwNAO3AANDN4jBZ4CmmFsBQ/FjIJ4OYjA5oClm\n",
       "nwBitoaCQBBEXAWIwcHwjAFNMU8CusF8IJEUEGsnmL9+Alwx4wcMJ0+AKQ4G81kb4IpZMExmNYA6\n",
       "g+sThjMC0N28HuRlW5A5P9AVsxugm+wPsnYTyJzfyI77ByQ4NmAkDpCIKMinOQhBJrWf6kAXOqAr\n",
       "fnYA5HABbOn2KfbkzN6ATbQdR+K3wyLGZ4BD8WIsYsy48hXfBUyxe9iVAgBtwktenJ98kwAAAABJ\n",
       "RU5ErkJggg==\n",
       "\" style=\"display:inline;vertical-align:middle;\" /></a><br>"
      ],
      "text/plain": [
       "<IPython.core.display.HTML object>"
      ]
     },
     "metadata": {},
     "output_type": "display_data"
    },
    {
     "data": {
      "text/html": [
       "<strong id=\"mult_8_1\"><a class=\"ProveItLink\" href=\"proofs/mult_8_1/thm_proof.ipynb\">mult_8_1</a> (conjecture without proof):<br></strong> <a class=\"ProveItLink\" href=\"../__pv_it/theorems/08da18fe2cfbc65115628a11676fd1fb887fdb6e0/theorem_expr.ipynb\"><img src=\"data:image/png;base64,iVBORw0KGgoAAAANSUhEUgAAAFcAAAAVBAMAAADBdm84AAAAMFBMVEX////MzMxUVFRERES6uroi\n",
       "IiIQEBCYmJhmZmYyMjLu7u52dnaqqqqIiIjc3NwAAACW8nlqAAAAAXRSTlMAQObYZgAAAAlwSFlz\n",
       "AAAOxAAADsQBlSsOGwAAAVdJREFUKM9jYGB4wIABsAhBAO8BTDFfXIpPMzCs3t2C4DNGAQ0oQFfF\n",
       "tXuHA5CcwMDQwMAEN35R5y8gOQtdMQcDgw6QLGBgLwBrgTkLpLgCXXE5A8NKBgY2BgZuBQzFbAvQ\n",
       "FG8CKz7JwMDzeQFHAapiTnRHn7diaGdg6Aay9P/2MKAqBlqGCpj+3wB6azrI9f/j0BSzg53VGgoC\n",
       "QWDh/q/AwI8Bhd7j/wdQFfMkoJnMs8/+DwNDCtCYBobzWUCB9RPgihk/oCmuYOD5tgCkGOh1PqA2\n",
       "BtYGuGIWdJOBhr0/AHLGeiBHHc0ZAahu5gLaxFTAYAs0Geh0OzQPGqCZnMfAwPwAFNossxjYL8CF\n",
       "uf+BwmcDmmLPBQy1DAyiQJZQByIhMan9BDqJ1QFNMaNGB1CIVQBbUnyKPYWyN2ATbceRnu2wiPEZ\n",
       "4FC8GIsYM658xXcBU+wedqUAtNlXdLnPhD0AAAAASUVORK5CYII=\n",
       "\" style=\"display:inline;vertical-align:middle;\" /></a><br>"
      ],
      "text/plain": [
       "<IPython.core.display.HTML object>"
      ]
     },
     "metadata": {},
     "output_type": "display_data"
    },
    {
     "data": {
      "text/html": [
       "<strong id=\"mult_9_1\"><a class=\"ProveItLink\" href=\"proofs/mult_9_1/thm_proof.ipynb\">mult_9_1</a> (conjecture without proof):<br></strong> <a class=\"ProveItLink\" href=\"../__pv_it/theorems/bd56db24a54a97703aff88812ae772107f18c44d0/theorem_expr.ipynb\"><img src=\"data:image/png;base64,iVBORw0KGgoAAAANSUhEUgAAAFcAAAAVBAMAAADBdm84AAAAMFBMVEX////MzMxUVFRERES6uroi\n",
       "IiIQEBCYmJhmZmYyMjLu7u52dnaqqqqIiIjc3NwAAACW8nlqAAAAAXRSTlMAQObYZgAAAAlwSFlz\n",
       "AAAOxAAADsQBlSsOGwAAAVFJREFUKM9jYGB4wIABsAhBAO8BTDFfXIpPMzBwdGgh+IxRQAMKMJR1\n",
       "NC1gYOCawMAVyyAGt3hR5y8gOQtd7dILjHlAUwsYmBIYmA0QzgIprkBXrMbAYMzAwMbAwD+BgfsX\n",
       "qmK2BWiKfzIw7F/AcJKBYb0BA+8XVMWcaI7m+szAcN+BoRti8ndUxdwKWEwuYJjOAHbzX1TF7BNA\n",
       "zNZQEAiCutn+AkMM0I4UBqE/qIp5EtBMXubAqH+AIQXIWnH77EcgtX4CXDHjBzTFXL177guAFTNA\n",
       "QoO1Aa6YJQEz9oChEQNmoIczTwCamxnA4WwLlMliWC+A5kEDNGOPLeACunQTUDqKwRwhzP0PSHBs\n",
       "QFN8dQEzMOhFgazdHQ5wUSa1n+pA5zugKebe0QLylQC2pPgUewplb8Am2o4jPdthEeMzwKF4MRYx\n",
       "Zlz5iu8Cptg97EoBshhU/73gUEMAAAAASUVORK5CYII=\n",
       "\" style=\"display:inline;vertical-align:middle;\" /></a><br>"
      ],
      "text/plain": [
       "<IPython.core.display.HTML object>"
      ]
     },
     "metadata": {},
     "output_type": "display_data"
    }
   ],
   "source": [
    "mult_0_1, mult_1_1, mult_2_1, mult_3_1, mult_4_1, mult_5_1, mult_6_1, mult_7_1, mult_8_1, mult_9_1 = [Equals(Mult(num(n), num(1)), num(n*1)) for n in range(10)]"
   ]
  },
  {
   "cell_type": "code",
   "execution_count": 30,
   "metadata": {},
   "outputs": [
    {
     "data": {
      "text/html": [
       "<strong id=\"mult_0_2\"><a class=\"ProveItLink\" href=\"proofs/mult_0_2/thm_proof.ipynb\">mult_0_2</a> (conjecture without proof):<br></strong> <a class=\"ProveItLink\" href=\"../__pv_it/theorems/0655eec2d7c30d9dcfccb4f80f2c51ecee9bfd2d0/theorem_expr.ipynb\"><img src=\"data:image/png;base64,iVBORw0KGgoAAAANSUhEUgAAAFcAAAAVBAMAAADBdm84AAAAMFBMVEX////MzMxUVFRERES6uroi\n",
       "IiIQEBCYmJhmZmYyMjLu7u52dnaqqqqIiIjc3NwAAACW8nlqAAAAAXRSTlMAQObYZgAAAAlwSFlz\n",
       "AAAOxAAADsQBlSsOGwAAAXRJREFUKM91k79LAmEYxz+i1+mpl0tzNrTmUXPRPxBJ0CZlEK25FG0J\n",
       "IRlCCA1BNBxE0eZRYwi3RoPS1BRCONcQVFrY+yrnj7vzmZ77Ph++7/O873NAA0/4SL2I215tZRz8\n",
       "BNHqaf9TL54liOc82MOLOE4rwyXX/YPfiH7ChZuN2NoGhHOoaaKGo87BDhy44T24hwkIJom1HHXX\n",
       "JNVgwnTB81AzeYTJPIFfR52FVIKIu+lvmLYpQUXAX0OFTTFycpTVJJzjHN4tAn+DgszVsswK6zLW\n",
       "5B21BVwn04PbA1gRrrHsqHMXttgWbViEpHOla8eRdP9wtSHg1bqExYAxOaCSl7oq2w1lvQPWbNlG\n",
       "0EBtDb2o3iCWHu2ZBTg0WRReWcLl/ngWcRPVcDnvwwnciSzDTcJRm8ViQbyr5YIVW9uCKZHdVmcG\n",
       "l9zp/IjasgvWSs/CT0n4rWLTf0PVvJ96PGafl3w03RgDX/lowXH/lV73aq/+6D8dAFvjYsS32QAA\n",
       "AABJRU5ErkJggg==\n",
       "\" style=\"display:inline;vertical-align:middle;\" /></a><br>"
      ],
      "text/plain": [
       "<IPython.core.display.HTML object>"
      ]
     },
     "metadata": {},
     "output_type": "display_data"
    },
    {
     "data": {
      "text/html": [
       "<strong id=\"mult_1_2\"><a class=\"ProveItLink\" href=\"proofs/mult_1_2/thm_proof.ipynb\">mult_1_2</a> (conjecture without proof):<br></strong> <a class=\"ProveItLink\" href=\"../__pv_it/theorems/087f86ec0e4607dbfc721c301a3fb5c0c5119c420/theorem_expr.ipynb\"><img src=\"data:image/png;base64,iVBORw0KGgoAAAANSUhEUgAAAFcAAAAVBAMAAADBdm84AAAAMFBMVEX////MzMxUVFRERES6uroi\n",
       "IiIQEBCYmJhmZmYyMjLu7u52dnaqqqqIiIjc3NwAAACW8nlqAAAAAXRSTlMAQObYZgAAAAlwSFlz\n",
       "AAAOxAAADsQBlSsOGwAAASNJREFUKM9jYGB4wIABsAhBAO8BTDFfXIpPA7HoAjiXr2OyAANvAboq\n",
       "sDAD1wQGLo35CMWPGbi/MDDMQlcMEeYAGXIfoViPgSGNgaECXTFEmI0BVXH+Agb9BwxsC9AUQ4RP\n",
       "oilWZWDQF2DgRHc0RLgbTTEQxDMwcCtghgRQeDqGYsa/DAzsE0Cs1lAQCEIIx2AoZgWaypOAYTBI\n",
       "OAWheD3YOIZmkDEfMBSDhJEUszaASHaQc1kwTAYLYzjjNAPfAwaeAHQ3g4Vt0RQzbmDgXcDAboBm\n",
       "MER4E4i5H5HMnnZ0tALjdQOaYoiwKJCllD8JHgnx////BDrfAT2QIcIC2JLiU+wplL0Bm2g7jvRs\n",
       "h0WMzwCH4sVYxJhx5Su+C5hi97ArBQCGwVNOg5TV7wAAAABJRU5ErkJggg==\n",
       "\" style=\"display:inline;vertical-align:middle;\" /></a><br>"
      ],
      "text/plain": [
       "<IPython.core.display.HTML object>"
      ]
     },
     "metadata": {},
     "output_type": "display_data"
    },
    {
     "data": {
      "text/html": [
       "<strong id=\"mult_2_2\"><a class=\"ProveItLink\" href=\"proofs/mult_2_2/thm_proof.ipynb\">mult_2_2</a> (conjecture without proof):<br></strong> <a class=\"ProveItLink\" href=\"../__pv_it/theorems/ab344d56b73fa1a131b0495c9a62abdc4bd29a540/theorem_expr.ipynb\"><img src=\"data:image/png;base64,iVBORw0KGgoAAAANSUhEUgAAAFcAAAAVBAMAAADBdm84AAAAMFBMVEX////MzMxUVFRERES6uroi\n",
       "IiIQEBCYmJhmZmYyMjLu7u52dnaqqqqIiIjc3NwAAACW8nlqAAAAAXRSTlMAQObYZgAAAAlwSFlz\n",
       "AAAOxAAADsQBlSsOGwAAAWJJREFUKM91kzFLw0AUx//GtkltErM4OVgKrjZ+ALVfQAgFwUGwiLga\n",
       "nHSRghQjLgEHwangBzD0C+gqLllcHEpACk5SxUVB47uE1Hh3OcLx8s/v3v3f3QuACMKQSOkw7kRt\n",
       "vQh+AF7OlievpndhwXBFbqoLzPgwbdy2Mu0ZtQ/gSoTLdUBzoUSodDJtCdgDDkX4keAKPV9QfjJt\n",
       "v48mLe4LLo4IvgcUB8pbJi4CTQtVwXStSvB5amic07fpU52Hhwy+TMKFMLfhN6D6LOptsNFODsll\n",
       "8FYCtLmy9Q7vAgzeZaFms/kmSYcTln3Mwcd/8EGasstmldktcZnNEJkNPcBr7kbNCLrz33Op0Wju\n",
       "BFihcB54mpQXwOhDtYVLqVDmAe2x6XlOpo08r0dFBAI8S+vnyGscx/7kkOP4k6QWz2pr7yHKlqwV\n",
       "R/IOVbsy9bSgn1clmmkXwNcSbbrovzJDURvK0V/koUnv9nVLIgAAAABJRU5ErkJggg==\n",
       "\" style=\"display:inline;vertical-align:middle;\" /></a><br>"
      ],
      "text/plain": [
       "<IPython.core.display.HTML object>"
      ]
     },
     "metadata": {},
     "output_type": "display_data"
    },
    {
     "data": {
      "text/html": [
       "<strong id=\"mult_3_2\"><a class=\"ProveItLink\" href=\"proofs/mult_3_2/thm_proof.ipynb\">mult_3_2</a> (conjecture without proof):<br></strong> <a class=\"ProveItLink\" href=\"../__pv_it/theorems/37ff7b3f7f6f066b57a2a0fa47e5edb2c28e3be80/theorem_expr.ipynb\"><img src=\"data:image/png;base64,iVBORw0KGgoAAAANSUhEUgAAAFcAAAAVBAMAAADBdm84AAAAMFBMVEX////MzMxUVFRERES6uroi\n",
       "IiIQEBCYmJhmZmYyMjLu7u52dnaqqqqIiIjc3NwAAACW8nlqAAAAAXRSTlMAQObYZgAAAAlwSFlz\n",
       "AAAOxAAADsQBlSsOGwAAAXBJREFUKM91k79Lw0AUx78hbWLTJs3i5FIHV1vwx6ZkdBFEEBehDkUQ\n",
       "BDO6WZRqwKWgIDgF/AOMTgUXV3FocXKSgnRycdChpVLf5WyMl8sNj3fffHj3vXcvALpILInEl/mQ\n",
       "1FbT4CfgvTUfbS3v3IbpJrD8/S1gNGHU0Y7KvyH/CVyJrHWBGWDChTnETXOszgI7wIEI5zqYAzQg\n",
       "U0Mxgvd9lLvQfAFuh8IjzyOTdFjZRk40vRjGMxYym/EPVbpOSYB3p14c4JIy5Xk6pivfgB7aamyw\n",
       "tc7Svos9YIvbiDU7S1UL2/8LGyPgxEct3GgDCr8tOWbVPwT4Czh0GKzYUIesZJ3pOrObESqjT7DL\n",
       "bBQHHB6/qNVFYU3wvBBWXiIPJW6DXy+A6UOviH0mz8AdHezG+tzzvAa9ayDAamBQNyYpW/H+Bqk6\n",
       "GpG/rCO+d+vIJtmWjWJPPqF6XaaepszzskSzKinwtURT0/4rq5PUXuXoD8KqVAHZ2QPdAAAAAElF\n",
       "TkSuQmCC\n",
       "\" style=\"display:inline;vertical-align:middle;\" /></a><br>"
      ],
      "text/plain": [
       "<IPython.core.display.HTML object>"
      ]
     },
     "metadata": {},
     "output_type": "display_data"
    },
    {
     "data": {
      "text/html": [
       "<strong id=\"mult_4_2\"><a class=\"ProveItLink\" href=\"proofs/mult_4_2/thm_proof.ipynb\">mult_4_2</a> (conjecture without proof):<br></strong> <a class=\"ProveItLink\" href=\"../__pv_it/theorems/f91eec4b138d7ed71c629bced92b4e3e9e953c220/theorem_expr.ipynb\"><img src=\"data:image/png;base64,iVBORw0KGgoAAAANSUhEUgAAAFcAAAAVBAMAAADBdm84AAAAMFBMVEX////MzMxUVFRERES6uroi\n",
       "IiIQEBCYmJhmZmYyMjLu7u52dnaqqqqIiIjc3NwAAACW8nlqAAAAAXRSTlMAQObYZgAAAAlwSFlz\n",
       "AAAOxAAADsQBlSsOGwAAAWlJREFUKM91kz9Iw1AQxr+2ttE2CVlERykIgn/aWVCLm4MggpugiDg4\n",
       "aDe7CAUpDTgodRCcAk5OBidBkK7ioKOTBKQ4iYJaEJT4LoEkvbzccFy+/Phyd+8FgINYSCQ/tHZc\n",
       "W0yC7ykNB4+6eWJAq3Iqf3NdEfmY6uVAfUHhCzjjcD8wITKZaCE8BWwBNQ7vARdAjsqhVqDuWig5\n",
       "yFkMvvLgOyrtEB4FSgYGeNMP02gCh9SF04q+WAMKIwxOu09ia6eiekUUTv0Bijd2Y4XCn+foWyx/\n",
       "lbrogbPCVV1nzurt3C+wKWwcH7707HBA7h8MrkHtWgS/wYezdcoKtdvHnbeB9za1MV8sdscjJ6o7\n",
       "UJd6e86LL6WrmPGIjXA8G5oFpcycd4CMQ9sW8RmoHdNsiHO1GbxgYR8Y9GZyJ4Mlu+6PaL/C4NSY\n",
       "KaSsIbuKHfkNVeoytZlwn2clml5OgM8lWibpv9If49qzHP0HAjtSktQa4/8AAAAASUVORK5CYII=\n",
       "\" style=\"display:inline;vertical-align:middle;\" /></a><br>"
      ],
      "text/plain": [
       "<IPython.core.display.HTML object>"
      ]
     },
     "metadata": {},
     "output_type": "display_data"
    },
    {
     "data": {
      "text/html": [
       "<strong id=\"mult_5_2\"><a class=\"ProveItLink\" href=\"proofs/mult_5_2/thm_proof.ipynb\">mult_5_2</a> (conjecture without proof):<br></strong> <a class=\"ProveItLink\" href=\"../__pv_it/theorems/b0e99973cd4bcb73cf9b37c994016efb75617a750/theorem_expr.ipynb\"><img src=\"data:image/png;base64,iVBORw0KGgoAAAANSUhEUgAAAGEAAAAVBAMAAACkm51HAAAAMFBMVEX////MzMxUVFRERES6uroi\n",
       "IiIQEBCYmJhmZmYyMjLu7u52dnaqqqqIiIjc3NwAAACW8nlqAAAAAXRSTlMAQObYZgAAAAlwSFlz\n",
       "AAAOxAAADsQBlSsOGwAAAYRJREFUOMt9kz1LQlEYgJ+01K56uUtzNVRbSm1B4R+IJKghog+I1lyK\n",
       "tqSQtBahIWq61A9IaqvlrtGQNEQQhBBBWwUFfVD2HkG96eme4XDej+f9OOc9QImmpVG5VtTBwvjr\n",
       "M+pJXMDS3oRdFc3sjkU01eTWMiXb2Y1ENvIw+XZas9wTfoX9RuAg9wntjjEDIQnX5TL1wyKsNhcv\n",
       "xDKcQIC/xJJNrETA1hEDcGlz3kD0QMyiPaUj3qHTYVukvttut3EWwl0awlBEil2RhnhKuG7lG4J5\n",
       "dcpMqDVeJcwvIYpMV2R/sk60SfzInCZHhSiwUJFDP7IdVQKzofI866oSYqyoCH+e0IsKnlamoGqh\n",
       "de6fzi8dVVUgie/ZNQNmiUhS0weDsGYzLBcjULzWd4GoTTCuy7ECOTiWUUpzXXuxh2w2I30VGomw\n",
       "dNrmGPPQIdLj+lb9McrlD7ElGgBf70cfxvaVJTZLN9APHsMeTOu0m17/Y0SjM+NexKFG5/f8tmax\n",
       "WXfn4f8LSPFkaSrn4mMAAAAASUVORK5CYII=\n",
       "\" style=\"display:inline;vertical-align:middle;\" /></a><br>"
      ],
      "text/plain": [
       "<IPython.core.display.HTML object>"
      ]
     },
     "metadata": {},
     "output_type": "display_data"
    },
    {
     "data": {
      "text/html": [
       "<strong id=\"mult_6_2\"><a class=\"ProveItLink\" href=\"proofs/mult_6_2/thm_proof.ipynb\">mult_6_2</a> (conjecture without proof):<br></strong> <a class=\"ProveItLink\" href=\"../__pv_it/theorems/cb3c9856fa3349bd7472eefec28fd3d2a0a3841f0/theorem_expr.ipynb\"><img src=\"data:image/png;base64,iVBORw0KGgoAAAANSUhEUgAAAGEAAAAVBAMAAACkm51HAAAAMFBMVEX////MzMxUVFRERES6uroi\n",
       "IiIQEBCYmJhmZmYyMjLu7u52dnaqqqqIiIjc3NwAAACW8nlqAAAAAXRSTlMAQObYZgAAAAlwSFlz\n",
       "AAAOxAAADsQBlSsOGwAAAWJJREFUOMt9k7FLw0AUxr80mqumTbO466BuNrso/QeEILiIYAdxcLGj\n",
       "Y0GLEZeKQ0EQioJrS9ciuIqLf4EUpINbB0Ea0Pou6bWhedzBQe773ffevcs7AD2kBiMlRv4lre1o\n",
       "HW80u11XLZ3g1kW+ktpm7I8ZFuvAVynjK/IJ+xu4mzU8XIWKZSncPUxPoQ3gGDhLHz5UzAJyYYKc\n",
       "NlHswWpyjpi9AmY5QVaBoouFCueI2TWluXm+SMJDwF7mHDFrAIUGrMQVG7+AqMuv2p4cuwmHZAdA\n",
       "a4DsydQxT/FzZT6HZEfk8CHo1tCKAuNcxhrwDsnIUahD/MgAVSkKWcIcnyNidCpznEP1gNNDzmfr\n",
       "iNgWHZrqmMQ02sg3ITwuR8w6tNrE0+Su+kFQo05ozzrsP8WW5CpYmf6M0WhIJZVmDJm14bpiLtfQ\n",
       "fU2ziyqnXurexzajOZ7O8chopvbZOu9p7UOz/x9uPmFEeOLRqgAAAABJRU5ErkJggg==\n",
       "\" style=\"display:inline;vertical-align:middle;\" /></a><br>"
      ],
      "text/plain": [
       "<IPython.core.display.HTML object>"
      ]
     },
     "metadata": {},
     "output_type": "display_data"
    },
    {
     "data": {
      "text/html": [
       "<strong id=\"mult_7_2\"><a class=\"ProveItLink\" href=\"proofs/mult_7_2/thm_proof.ipynb\">mult_7_2</a> (conjecture without proof):<br></strong> <a class=\"ProveItLink\" href=\"../__pv_it/theorems/7e719e867901cdc64c837f2428c9ad86f241219f0/theorem_expr.ipynb\"><img src=\"data:image/png;base64,iVBORw0KGgoAAAANSUhEUgAAAGEAAAAVBAMAAACkm51HAAAAMFBMVEX////MzMxUVFRERES6uroi\n",
       "IiIQEBCYmJhmZmYyMjLu7u52dnaqqqqIiIjc3NwAAACW8nlqAAAAAXRSTlMAQObYZgAAAAlwSFlz\n",
       "AAAOxAAADsQBlSsOGwAAAXBJREFUOMt9k79Lw1AQx7+NbWKbH3ZxLwV1sx1d1P4DgiguIigiToIZ\n",
       "1UEKUoy4FBwEp6B/gNHNzVVcuriWgNRZiohVNL57kjQmR254yd29z927e/cA+EgJY4qJeW8dJG0L\n",
       "mcQjjCAI3kPVcs7KMO3UttyqXJtAqQ19xnHWQs8z9DfgIglcnnzSp1ABRm3oInIzdE0D28Be+vCS\n",
       "eBKEChiAEnl2XdR8qC5L5PYF8SD1m8gzAdTKKNosoRcFcSrLrced68JVYYkuEeekKo14V74BrU1/\n",
       "rRWSpYiwbCJkk17i0agfxgaXQwcRW6TeSeO1DIwjyvPKEYdDYvkvuGyxRiXkuRxWB+GpSv1/M2D5\n",
       "MBaZOvLVam3TwyxF/IjV7cF0odX5G1RFjlvxNb6Gnp7jtMQkeElC/6F1TEQap+vYiV1GEAxESY0E\n",
       "oEwOpkSg+X4HhTI30L2MYdeanPU4633MMTarnkVcMbaRzGcr7iUl3Yz9v+ghVDwiC5XdAAAAAElF\n",
       "TkSuQmCC\n",
       "\" style=\"display:inline;vertical-align:middle;\" /></a><br>"
      ],
      "text/plain": [
       "<IPython.core.display.HTML object>"
      ]
     },
     "metadata": {},
     "output_type": "display_data"
    },
    {
     "data": {
      "text/html": [
       "<strong id=\"mult_8_2\"><a class=\"ProveItLink\" href=\"proofs/mult_8_2/thm_proof.ipynb\">mult_8_2</a> (conjecture without proof):<br></strong> <a class=\"ProveItLink\" href=\"../__pv_it/theorems/526789533fcec06d6f601527fa3d99522ae3c5360/theorem_expr.ipynb\"><img src=\"data:image/png;base64,iVBORw0KGgoAAAANSUhEUgAAAGEAAAAVBAMAAACkm51HAAAAMFBMVEX////MzMxUVFRERES6uroi\n",
       "IiIQEBCYmJhmZmYyMjLu7u52dnaqqqqIiIjc3NwAAACW8nlqAAAAAXRSTlMAQObYZgAAAAlwSFlz\n",
       "AAAOxAAADsQBlSsOGwAAAYZJREFUOMt9UzFLw1AQ/mxt0yZtCIKTi4u6mYLoZskfEERwEbEOIiiC\n",
       "Gd0MajWig2BB6BR0dGh0Erq4ikM7OkmhdBfUoWKN91KMoTlykPDed++77+7ePQAtRIyBQpZ/jGIL\n",
       "sYxn4LZ+FGxV+1JD3owcG1qhn1K/A+QLwEIiEGpD+QCqg4Tr0y+KVsEEkDEhmT6vb9PAJrAXTZ4Y\n",
       "2SZmgDRpjYcYuw70FtIOx2j46BOQe3cyQeIkq2vImhxjzl+d0af3zsPOki/LMLbGXgzginYZby3c\n",
       "lR4g+VmWl4UtBYyuiR1gVTS47YUuJUXxc+uMhuwBxw42KKCFxjaBtX75h0LnjWN8AvuGYFBj1G8R\n",
       "3BIuSZQwzGmgSwxTZFUjYCo0A2oLuUWujllfY540aPCKQd0u8g6kAnsfVAdwTylUITX/PB3bLlP3\n",
       "3EGG8gMkXZl6NUq7Eft/EkueR+mmjAFCYrJLiT8caOTTuIHuxAy7ZHHoSdz7KDKYWohj3DBYMvbZ\n",
       "qs0o9hpz/hftsWVkcXMkmQAAAABJRU5ErkJggg==\n",
       "\" style=\"display:inline;vertical-align:middle;\" /></a><br>"
      ],
      "text/plain": [
       "<IPython.core.display.HTML object>"
      ]
     },
     "metadata": {},
     "output_type": "display_data"
    },
    {
     "data": {
      "text/html": [
       "<strong id=\"mult_9_2\"><a class=\"ProveItLink\" href=\"proofs/mult_9_2/thm_proof.ipynb\">mult_9_2</a> (conjecture without proof):<br></strong> <a class=\"ProveItLink\" href=\"../__pv_it/theorems/3c8263b595ec7672a49025c1566ea3ec633762de0/theorem_expr.ipynb\"><img src=\"data:image/png;base64,iVBORw0KGgoAAAANSUhEUgAAAGEAAAAVBAMAAACkm51HAAAAMFBMVEX////MzMxUVFRERES6uroi\n",
       "IiIQEBCYmJhmZmYyMjLu7u52dnaqqqqIiIjc3NwAAACW8nlqAAAAAXRSTlMAQObYZgAAAAlwSFlz\n",
       "AAAOxAAADsQBlSsOGwAAAY9JREFUOMt9kz1Iw0AUx/9NbaPNh0HQ2cUPRGw2QVC7OggiuBTFDsWh\n",
       "g2azi1CQ0oiDBQfBKeiiU4uTUJCuIqKjIEhAOqtQlRY1vktpWpojb0ju3nu/93V3AGz4hKPqEqXq\n",
       "1y0HEndAvznlbVXzWINi+NxCSSBWuU7Qt4jYBka8Ol4h1YHTXuDsoEmRgWn6GhBSCOtt0wywBWT9\n",
       "xROxC1wCUWCwCKnZtuxYiNuIWjziyiVugZIOpd62jAFxDQMGj3iYQwE4bOX47jJuAtIojxCcJxrs\n",
       "Cdw+frumQmuxyFb5NSarHoGjT5rQOo0rjaGfDhGh+HKKl0O+WSS/NO0unu8/6FdyA2Of5XnnEVnI\n",
       "X5ZLoDWrSI4tRdZCHzdHBnirsqpIOudBd0C1Ia9w+ohRYsHAPJWXQUnz+i5DsSDqvBzbFNpmp6Ik\n",
       "MetZaqaZp5tQ7iWkP2DJwh4wTLuKmegchuM0qKVEDyCMNyYQmmSOEY13oWsBl13M8bSFoPexwNGp\n",
       "ehBxztGFA5+t+ujXvQT4/wPB+WWWmeSsHwAAAABJRU5ErkJggg==\n",
       "\" style=\"display:inline;vertical-align:middle;\" /></a><br>"
      ],
      "text/plain": [
       "<IPython.core.display.HTML object>"
      ]
     },
     "metadata": {},
     "output_type": "display_data"
    }
   ],
   "source": [
    "mult_0_2, mult_1_2, mult_2_2, mult_3_2, mult_4_2, mult_5_2, mult_6_2, mult_7_2, mult_8_2, mult_9_2 = [Equals(Mult(num(n), num(2)), num(n*2)) for n in range(10)]"
   ]
  },
  {
   "cell_type": "code",
   "execution_count": 31,
   "metadata": {},
   "outputs": [
    {
     "data": {
      "text/html": [
       "<strong id=\"mult_0_3\"><a class=\"ProveItLink\" href=\"proofs/mult_0_3/thm_proof.ipynb\">mult_0_3</a> (conjecture without proof):<br></strong> <a class=\"ProveItLink\" href=\"../__pv_it/theorems/d08ff5557386f1df36deed216c2a8017a770448c0/theorem_expr.ipynb\"><img src=\"data:image/png;base64,iVBORw0KGgoAAAANSUhEUgAAAFcAAAAVBAMAAADBdm84AAAAMFBMVEX////MzMxUVFRERES6uroi\n",
       "IiIQEBCYmJhmZmYyMjLu7u52dnaqqqqIiIjc3NwAAACW8nlqAAAAAXRSTlMAQObYZgAAAAlwSFlz\n",
       "AAAOxAAADsQBlSsOGwAAAXFJREFUKM91k71Lw1AUR09p09Q0rXVwFKt/QdFZ7aKbWAS3IlXc7eLH\n",
       "ZkFERZBsgjgERHFr0LEUsopDi5OTujjrVrUVfa8lqc3HG8LLyeHe33vcAK/4VgDqrZTtZ4th8gMk\n",
       "66fua7q2nydV9mm1J9FOM+CCK7fxDXoHzr3ukK2tQqKMWiCZc+iLrX3BrlfegjuIQzSL/u3QhTxC\n",
       "jpseeQoaJvcwXCHS6XO9Jbp6Q3/CuM0JVIXc6vN5ISazg64m5TJn8G4R+XH52GQGVENuD1bkWpZ3\n",
       "1BZyk2JPbv+LISLppcHKXdliQ8SwiMnKVaP3ZdMk8uGJIeSlppTFAWU1lIp4jMCcTazkP2DDljGi\n",
       "OVT36n5NKeuFwcxMw57JjDhNiYThyOvdGGrOU3kbjuFW7IpcZxy6073nhOWRFVtbg1E5D/UJl8aO\n",
       "xCCh5D2ydvIo6imZoFF8C55QtRJED0PmeTaApXMh8mUAi4b9V+mmnz0Hq39h/V4CpRrM2AAAAABJ\n",
       "RU5ErkJggg==\n",
       "\" style=\"display:inline;vertical-align:middle;\" /></a><br>"
      ],
      "text/plain": [
       "<IPython.core.display.HTML object>"
      ]
     },
     "metadata": {},
     "output_type": "display_data"
    },
    {
     "data": {
      "text/html": [
       "<strong id=\"mult_1_3\"><a class=\"ProveItLink\" href=\"proofs/mult_1_3/thm_proof.ipynb\">mult_1_3</a> (conjecture without proof):<br></strong> <a class=\"ProveItLink\" href=\"../__pv_it/theorems/d66624d3f47688c690c7ee74965f2df461d358380/theorem_expr.ipynb\"><img src=\"data:image/png;base64,iVBORw0KGgoAAAANSUhEUgAAAFcAAAAVBAMAAADBdm84AAAAMFBMVEX////MzMxUVFRERES6uroi\n",
       "IiIQEBCYmJhmZmYyMjLu7u52dnaqqqqIiIjc3NwAAACW8nlqAAAAAXRSTlMAQObYZgAAAAlwSFlz\n",
       "AAAOxAAADsQBlSsOGwAAARxJREFUKM9jYGB4wIABsAhBAO8BTDFfXIpPA7HoAjiXb3ezAwNvAboq\n",
       "sDAD1wQGLo35CMUrGHj+MDDMQlcMEeYAGXIfofj+Aa6fDAwV6IohwmwMqIrdHBhAogvQFEOET6Ip\n",
       "ZmDg+c7AwInhaLBwN4ZiV6BCbgUMxSDh6eiKZZUEGBjYJ4CYraEgEIQQjsF0BtDbPAmYzgAKpyAU\n",
       "r58AEc5fwMD4ATNCgMJIilkbgIQgA4P9AQYWdJMhwujO+L8AJMoTgOZmiLAtmuIksH3sBmgmQ4Q3\n",
       "gZj7EcmsHBygHBvQFEOERYEspfxJ8Ehg6QClGFYHNMVQYQFsSfEp9hTK3oBNtB1HerbDIsZngEPx\n",
       "YixizLjyFd8FTLF72JUCAN/yV4yQ531oAAAAAElFTkSuQmCC\n",
       "\" style=\"display:inline;vertical-align:middle;\" /></a><br>"
      ],
      "text/plain": [
       "<IPython.core.display.HTML object>"
      ]
     },
     "metadata": {},
     "output_type": "display_data"
    },
    {
     "data": {
      "text/html": [
       "<strong id=\"mult_2_3\"><a class=\"ProveItLink\" href=\"proofs/mult_2_3/thm_proof.ipynb\">mult_2_3</a> (conjecture without proof):<br></strong> <a class=\"ProveItLink\" href=\"../__pv_it/theorems/c5e720ee92e7eabb9fdad611ac54c5224aee52480/theorem_expr.ipynb\"><img src=\"data:image/png;base64,iVBORw0KGgoAAAANSUhEUgAAAFcAAAAVBAMAAADBdm84AAAAMFBMVEX////MzMxUVFRERES6uroi\n",
       "IiIQEBCYmJhmZmYyMjLu7u52dnaqqqqIiIjc3NwAAACW8nlqAAAAAXRSTlMAQObYZgAAAAlwSFlz\n",
       "AAAOxAAADsQBlSsOGwAAAXNJREFUKM91kz9Iw1AQh3+mf03TUAenIorgHhHd1Cy6CaUgODgUcREE\n",
       "g4tuLYpacckgCE4BFzerk9DBruJgR3HQLoKT1EGkIsZ7L7xWX14e4bh8+TgulwuAFkJHgYKTbYTZ\n",
       "QpR8B7wejndvzfqujawT0jL1S0B3YVq4sQU8h/ENnMqueYwxIO1AayFZEvS5oXeAbVnub2ICSNL1\n",
       "Be1H0HkbJCc9Sb7n4BbQCtDee9z4pEJy01M8HvGYaPf4HImZEUleyz/Qa53wfLjZxUOjOSDlsnRv\n",
       "kZ0iSzsO1oFlbhT/FGHTMEr/C+s+sO9hleVpi8ULN3iy4aGvLckfQNkO5M2g8QqFAWC2gbhUmU2o\n",
       "7PA2jBreBPU9JhsFqedJXnmasjzwKOQV3kbKkudMPQNX9CmXqtWCoFt8zumaJMdqOk1jkHr1fd8V\n",
       "NF6lRULClr/39Q5NNJFTreKLekNTFRU9iNjnGQUzrQj5TMFiUf+V2QyzJ7X6C5y1VQ+r6jdEAAAA\n",
       "AElFTkSuQmCC\n",
       "\" style=\"display:inline;vertical-align:middle;\" /></a><br>"
      ],
      "text/plain": [
       "<IPython.core.display.HTML object>"
      ]
     },
     "metadata": {},
     "output_type": "display_data"
    },
    {
     "data": {
      "text/html": [
       "<strong id=\"mult_3_3\"><a class=\"ProveItLink\" href=\"proofs/mult_3_3/thm_proof.ipynb\">mult_3_3</a> (conjecture without proof):<br></strong> <a class=\"ProveItLink\" href=\"../__pv_it/theorems/6eff9cc2713d37caf6b058acd324a82ca58693a30/theorem_expr.ipynb\"><img src=\"data:image/png;base64,iVBORw0KGgoAAAANSUhEUgAAAFcAAAAVBAMAAADBdm84AAAAMFBMVEX////MzMxUVFRERES6uroi\n",
       "IiIQEBCYmJhmZmYyMjLu7u52dnaqqqqIiIjc3NwAAACW8nlqAAAAAXRSTlMAQObYZgAAAAlwSFlz\n",
       "AAAOxAAADsQBlSsOGwAAAW5JREFUKM91kz1Iw1AUhU9ImtQ0TePgKFQHVwu6qlkUF0EEcXEo0lmz\n",
       "6Vj8wYII3QSnB2JxU5wKCmYSxKFBcLUuTi6Kg1gKevNi2/Dycodwc/Jx38nJDYBXJEoiRZX3k9pS\n",
       "GvwIvDen+7f2zZ6LvJfAarsMMOswq2j1x1/A6gKnInseKJtA1kO+i8t6T2375g+wI8ITwBSgA1oF\n",
       "hT684IJgnQkwaXcMD7xvxUxa38CQYNr8ojNdHIW9thZ7ME9griiZ7OGEOuVpbCCPjjuAwW0drIa1\n",
       "8u95LsB6ZCMWdpiGVRYmN1xl0keF93qHLr1IthiUDwE2j2/bTggrDlSahkyVLsN0ng+tnPx6lAbZ\n",
       "KHQimNcvC2FrWfAMnvMMeShGNnhtcBtGSRh7z8xP4Jpe3YvlvM1zzl4J8DNTCRmhbrE2WCStRouE\n",
       "jCvAueZ++FaObBXf5BtqVGXqYco+z0o0u5QCn0k0Ne2/soOk9iJH/wBv7lohMCCVngAAAABJRU5E\n",
       "rkJggg==\n",
       "\" style=\"display:inline;vertical-align:middle;\" /></a><br>"
      ],
      "text/plain": [
       "<IPython.core.display.HTML object>"
      ]
     },
     "metadata": {},
     "output_type": "display_data"
    },
    {
     "data": {
      "text/html": [
       "<strong id=\"mult_4_3\"><a class=\"ProveItLink\" href=\"proofs/mult_4_3/thm_proof.ipynb\">mult_4_3</a> (conjecture without proof):<br></strong> <a class=\"ProveItLink\" href=\"../__pv_it/theorems/e5ed2801fcf46f78c2cbb298e6a2d8a8fd0f5bcd0/theorem_expr.ipynb\"><img src=\"data:image/png;base64,iVBORw0KGgoAAAANSUhEUgAAAGEAAAAVBAMAAACkm51HAAAAMFBMVEX////MzMxUVFRERES6uroi\n",
       "IiIQEBCYmJhmZmYyMjLu7u52dnaqqqqIiIjc3NwAAACW8nlqAAAAAXRSTlMAQObYZgAAAAlwSFlz\n",
       "AAAOxAAADsQBlSsOGwAAAXZJREFUOMt9kzFLw1AQx//RpqltEuIgughSUAfR9guoRdBNkIKLCJUi\n",
       "rnbTsVCKEZdSh4JT0MXN4urSVbr4CTQgxUkQFKWixnuvNMbmyA0v3P3f793dyz0ALkLGhAJmtMKx\n",
       "9UiiLZYJ3zVvKjkYpdA2ZYs0+9QCkjXh533lEvoXcDYInB9/Ao9IvQEJcZzxRzy0kl3gMFw8EQvA\n",
       "HhAX7njdV9ZyICLucMS+g4yLW+E26wFN/wBGShwxDWQsnAjPDRKrtDs1xRFkBaBBnycEiMk03Ycm\n",
       "76O6KSwfIJRvYFsUhX9V0V3pO3wOlXLv0oFuj7iq9URqUHnhiQok8YweoZZpGQWWW4jxOTTRHlW1\n",
       "kk6/z/UVzxGEvsH20YbpYlH6Rf+soqxKy3I5lCYMB9fSf/WVA/k/Es1BIvUDdGy7CozJhrz5vhKz\n",
       "aRKh5gaAoZnuLAqeR/OgWtxAdyKGXStz0aOo97HExMxsFHHBxIYjn615F47dR+z/BYkMXscSsC2l\n",
       "AAAAAElFTkSuQmCC\n",
       "\" style=\"display:inline;vertical-align:middle;\" /></a><br>"
      ],
      "text/plain": [
       "<IPython.core.display.HTML object>"
      ]
     },
     "metadata": {},
     "output_type": "display_data"
    },
    {
     "data": {
      "text/html": [
       "<strong id=\"mult_5_3\"><a class=\"ProveItLink\" href=\"proofs/mult_5_3/thm_proof.ipynb\">mult_5_3</a> (conjecture without proof):<br></strong> <a class=\"ProveItLink\" href=\"../__pv_it/theorems/00b303298fe8f2e0f13f4154c91a6f47e058001f0/theorem_expr.ipynb\"><img src=\"data:image/png;base64,iVBORw0KGgoAAAANSUhEUgAAAGEAAAAVBAMAAACkm51HAAAAMFBMVEX////MzMxUVFRERES6uroi\n",
       "IiIQEBCYmJhmZmYyMjLu7u52dnaqqqqIiIjc3NwAAACW8nlqAAAAAXRSTlMAQObYZgAAAAlwSFlz\n",
       "AAAOxAAADsQBlSsOGwAAAYJJREFUOMt9kz1Iw0AUx/9tmjSmSYiDo1AdrJtZHBTULLoJRaiDOogf\n",
       "i0u76SIERax2MIuITkEXJy0ddekqLk4ugnYRuqmgSEXUl0hDmlzyIJd7H7937+7eAWggJAyTT5Q6\n",
       "NEidMdPs0ARwQb9boHhcsNtW9XrbgFIKR88BQuuQRskCZj+uPM855G/gJAic7n0BfHGeMouULutz\n",
       "PdWlFrARLp6IpDsT0ElMGSBCsKOJmwAByJ9AVymaqNCXe+jz+SYpOpNlEps1DTgibRQvhufq7Sdr\n",
       "2nKmOwVHZjyCs9V3YMHVubyvKjoreZG1BskwsOJOxB8aLq1/Z9FG4jWCOGg4BGdBfCONN2noBibq\n",
       "SDHXGCFCc6oS8kh6OX9th5DzrH2sAkPAGB0MQXqbWHKrSuusNarAMlCjVjJx793YunsfYjVIZGin\n",
       "TShrQA9pza19z5MqUyeCNwJAcqCVg1oepMy8xurr55jnkTZZ1t24FzXOsKl6HHHGsHGxz1a9C9se\n",
       "Y+L/ADKKXRgk8yiyAAAAAElFTkSuQmCC\n",
       "\" style=\"display:inline;vertical-align:middle;\" /></a><br>"
      ],
      "text/plain": [
       "<IPython.core.display.HTML object>"
      ]
     },
     "metadata": {},
     "output_type": "display_data"
    },
    {
     "data": {
      "text/html": [
       "<strong id=\"mult_6_3\"><a class=\"ProveItLink\" href=\"proofs/mult_6_3/thm_proof.ipynb\">mult_6_3</a> (conjecture without proof):<br></strong> <a class=\"ProveItLink\" href=\"../__pv_it/theorems/0ffae6712cd748861096b70fdb1872db8fcc9c880/theorem_expr.ipynb\"><img src=\"data:image/png;base64,iVBORw0KGgoAAAANSUhEUgAAAGEAAAAVBAMAAACkm51HAAAAMFBMVEX////MzMxUVFRERES6uroi\n",
       "IiIQEBCYmJhmZmYyMjLu7u52dnaqqqqIiIjc3NwAAACW8nlqAAAAAXRSTlMAQObYZgAAAAlwSFlz\n",
       "AAAOxAAADsQBlSsOGwAAAY9JREFUOMt9kz1Iw0AUx/9N2qa21w8HR0Ed1MGhs6LNouAgFMFFHIo4\n",
       "OWi3dhEKKq04mE4FQQgKolPFSQhKVnHQ0Um7ODjZwQ9axPoumhibIw9y5N7/fu+9e3cHoAGPCVwu\n",
       "i5te35wvcUOfYaTsacLYVBHPe5YFFoGocaHSqAHPqpS1lROwT2C/GzjcaQMRYIxGCncAOW1Lj2a0\n",
       "BRS9xRNRAE6BMMDaLmVGBRFhXUScW8Q1IOf+aewD6MmLiNtxlIFdCli93HJp07Q6NiAipM49NbYG\n",
       "JGsI/7W4f4j6pmj8d3uB27xDYO+NTmoJqDcRWXVVRb1iOVEOdpUhbYWILJRXcta1H3FdR6ApIopg\n",
       "7zonkhoU2i1CJRp6gYyJoDAHFfJi8qrk3xyWdXROsKxgH1FKLOUxSeXRPpyYy1ZVSlqUY42iN/ip\n",
       "YALHTq8K1nlEzrqJ2Bcwq2MD6OOzyqCjBCt0ExFSuwBpuDWCwGiFaynRhX7yuexKSeQt+72PKYEv\n",
       "kfYjjgQ+2ffZJu68vgef9d/13mhkEqlXtQAAAABJRU5ErkJggg==\n",
       "\" style=\"display:inline;vertical-align:middle;\" /></a><br>"
      ],
      "text/plain": [
       "<IPython.core.display.HTML object>"
      ]
     },
     "metadata": {},
     "output_type": "display_data"
    },
    {
     "data": {
      "text/html": [
       "<strong id=\"mult_7_3\"><a class=\"ProveItLink\" href=\"proofs/mult_7_3/thm_proof.ipynb\">mult_7_3</a> (conjecture without proof):<br></strong> <a class=\"ProveItLink\" href=\"../__pv_it/theorems/21e07204a668fd98c447d1e9e5d9fc9b7829986f0/theorem_expr.ipynb\"><img src=\"data:image/png;base64,iVBORw0KGgoAAAANSUhEUgAAAGAAAAAVBAMAAABLWfZ5AAAAMFBMVEX////MzMxUVFRERES6uroi\n",
       "IiIQEBCYmJhmZmYyMjLu7u52dnaqqqqIiIjc3NwAAACW8nlqAAAAAXRSTlMAQObYZgAAAAlwSFlz\n",
       "AAAOxAAADsQBlSsOGwAAAX1JREFUOMt9k79Lw0AUx7+pTVOTNNTBUQiCutmMLmoW3QRRXERQRJwE\n",
       "uylOhVKMuBQcBKdQFzerm7hklS7+BVqQOouIWn/FuwvphUuam+59v/e5e+/dHYA2YiNB4qPgGQei\n",
       "tpAGtKD7vv8ehsZt1UahLK4ynJMiIK0Cah3alOOshc4F9B/gTASeoL2hcfQF5MvQyAaV0Hn01C6w\n",
       "LwKTwDZJnwA5QAcyPWfeBgFyrgDsuii1GXDH4quIp38Ag2IRY0CpyIBjVpIV8ebIYs2Md2c9SOmU\n",
       "zjM210dGSTuUOp3WVuhYCnTpNwBYe56jO9Eu6RuxA2QzALZocMOky3qvQOklBlQRAZaDPWhvh4BZ\n",
       "D9nYCYoJnpL6yg3fpYC+KNbQghG0dZoE2U8ObLKUFEs4QGqi4DLgmpb5zZ09dg/5pgB0HKdGuv0H\n",
       "DNNr2OFO1iGPD7ItXoLvd5EZ705ALiY94U7/161UktTDlP8wk6AZVgpwnqANpP1R4z6uPfRf/g/i\n",
       "hF2vvz6KgAAAAABJRU5ErkJggg==\n",
       "\" style=\"display:inline;vertical-align:middle;\" /></a><br>"
      ],
      "text/plain": [
       "<IPython.core.display.HTML object>"
      ]
     },
     "metadata": {},
     "output_type": "display_data"
    },
    {
     "data": {
      "text/html": [
       "<strong id=\"mult_8_3\"><a class=\"ProveItLink\" href=\"proofs/mult_8_3/thm_proof.ipynb\">mult_8_3</a> (conjecture without proof):<br></strong> <a class=\"ProveItLink\" href=\"../__pv_it/theorems/7d7d7a927c3617067a50820f6692521e923602c40/theorem_expr.ipynb\"><img src=\"data:image/png;base64,iVBORw0KGgoAAAANSUhEUgAAAGEAAAAVBAMAAACkm51HAAAAMFBMVEX////MzMxUVFRERES6uroi\n",
       "IiIQEBCYmJhmZmYyMjLu7u52dnaqqqqIiIjc3NwAAACW8nlqAAAAAXRSTlMAQObYZgAAAAlwSFlz\n",
       "AAAOxAAADsQBlSsOGwAAAZlJREFUOMt9k7FLw1AQxr9o26RN+qyCo1AK4mb6D9h20U0QwU1Uiji4\n",
       "mE1dJFCLAR0KDkKngIvg0OLapat0MItrLdTuooIILfGSmja8hNxyed/L7929u3sAeghYiOSzdDuo\n",
       "bUYSHeCxdTlZslalhLTG/8WM2ww5QQdSNUDHzCTQA5QhUOeJPuRvcvEsIGkQNZcb21s79Quc8cQq\n",
       "cETulYgEIGd9xEYJRCRMjjgxofYgnBPxDChfpuRLXPkBkvxFlgE1AzlJxDUt1dGNb3Ndc8MGbB/o\n",
       "OsQdfUv23nRjKUdFEd0sqzuObY91YQSmOcSuU+C+7WuKUyvlIBCCyiTDIQ7pQB0vx6Q1apNbCh8B\n",
       "ogJceAQVhg2dU6g9mAeKbcQCMcQsmIX/rBokrHg7tukQyhZ/jw7Yey6nlptYoxg0eAWPKLtZiXku\n",
       "hNBEmnqUoBhPQKwO0fK2Tt1+SE2OGBhGldwcnbRIfsGYTmLMoElEvMQ3w7ZpFKTip4V4JmygBxHD\n",
       "Luph6lXU+yiEaCwfRdyHaLORz5ZZQa0b8f8f4uxgr2wth0AAAAAASUVORK5CYII=\n",
       "\" style=\"display:inline;vertical-align:middle;\" /></a><br>"
      ],
      "text/plain": [
       "<IPython.core.display.HTML object>"
      ]
     },
     "metadata": {},
     "output_type": "display_data"
    },
    {
     "data": {
      "text/html": [
       "<strong id=\"mult_9_3\"><a class=\"ProveItLink\" href=\"proofs/mult_9_3/thm_proof.ipynb\">mult_9_3</a> (conjecture without proof):<br></strong> <a class=\"ProveItLink\" href=\"../__pv_it/theorems/ff08abd4c3c26d19d22645a4966e747ddfe7a7100/theorem_expr.ipynb\"><img src=\"data:image/png;base64,iVBORw0KGgoAAAANSUhEUgAAAGIAAAAVBAMAAABPrCZEAAAAMFBMVEX////MzMxUVFRERES6uroi\n",
       "IiIQEBCYmJhmZmYyMjLu7u52dnaqqqqIiIjc3NwAAACW8nlqAAAAAXRSTlMAQObYZgAAAAlwSFlz\n",
       "AAAOxAAADsQBlSsOGwAAAZtJREFUOMt9Uz1Iw1AQ/mqbpjY/RkE3oYguDjabk9pFN1EEF1EsUhxc\n",
       "7KZjoRQDLgEHwSng4paiY5euUqTughak6qhQKEol3ktsWl5CDi7v8d19ufveuweghYCFQEOm1IPY\n",
       "enjqu+UuDSBlzPuoWivnoBT5ZNW40NB0HCePtIn0Hqb8Pm4g94ArnvEKqYM7w6jUkSpiJI+43g+9\n",
       "1NPfwCnPWAAOUQU+gCQwZkL66YfWciBG0uIYxxayLVKcAe4BW4fSGQTlLjDKC5kDshogkZ97NbqD\n",
       "4CplS5ngSe27coBLuDp+/cD0DP1HNNm2ss1sy8NjLGWWfBdIFzDRG+qK9nI+UEKgsiqDC+xEnx6+\n",
       "aLFNX2XsM8Aok0vmPwPeWQkl+owDK3UkAjVEpkzQva7IBvfhWIwhb/I6GlBbsBltiZo+gq31GQdu\n",
       "V6LOlYhVoVjYYF3c0izuYNEPnbj3kapyjDYNCNBk8CR5zcj5oYRBkwghx1+G49AovLE5F7SwuW5H\n",
       "PA+xFIaeRb2o5RBM1aMY1yFYPPLZqo9B7Dki/w/aQGXzIBzLBwAAAABJRU5ErkJggg==\n",
       "\" style=\"display:inline;vertical-align:middle;\" /></a><br>"
      ],
      "text/plain": [
       "<IPython.core.display.HTML object>"
      ]
     },
     "metadata": {},
     "output_type": "display_data"
    }
   ],
   "source": [
    "mult_0_3, mult_1_3, mult_2_3, mult_3_3, mult_4_3, mult_5_3, mult_6_3, mult_7_3, mult_8_3, mult_9_3 = [Equals(Mult(num(n), num(3)), num(n*3)) for n in range(10)]"
   ]
  },
  {
   "cell_type": "code",
   "execution_count": 32,
   "metadata": {},
   "outputs": [
    {
     "data": {
      "text/html": [
       "<strong id=\"mult_0_4\"><a class=\"ProveItLink\" href=\"proofs/mult_0_4/thm_proof.ipynb\">mult_0_4</a> (conjecture without proof):<br></strong> <a class=\"ProveItLink\" href=\"../__pv_it/theorems/43a4aa92bbd35a1ee88b3047e246f443fe139ed10/theorem_expr.ipynb\"><img src=\"data:image/png;base64,iVBORw0KGgoAAAANSUhEUgAAAFcAAAAVBAMAAADBdm84AAAAMFBMVEX////MzMxUVFRERES6uroi\n",
       "IiIQEBCYmJhmZmYyMjLu7u52dnaqqqqIiIjc3NwAAACW8nlqAAAAAXRSTlMAQObYZgAAAAlwSFlz\n",
       "AAAOxAAADsQBlSsOGwAAAWpJREFUKM91kz1Lw1AUht/QpkmT9GNxtvYPGHT24w+IRXArUsUfkEXR\n",
       "RbOISEGyCeJQEMWtQUcpZBWHBkFwKi7OiotiFTynpU1zc3Omy8PDm/ckNwBekRgJGk4hSLKVNPkR\n",
       "MDunE0BxUXAS2v0LPc7wgAtcTTxYrQDnopsPjA1Ad6DVYNoRfyZ5T5R3gDsgB2QqsH6iFvsk51qC\n",
       "PAd0W3gASi6U3zE28yTnxdLfwHSAJtAm+WuMeyyblbhrsOzgDHj3ofyNcNFhWfP4fLTOs8a0T3KI\n",
       "+lDuj1uAZasRTx7IPrapho8sJ7c57mAgKx9CDZJXQ5ZpQYsXVF2KCAdytpFcsBtwjYwNbfTqstXq\n",
       "7JYPqxbvjHngsIUF2qYB3YtCcrygLSTvAifALZ3quC5HvESi7guyGhibwBSdbjozEdaXPkOoy4Js\n",
       "NJ8oTy3LruKb/IZqrowep9znRQkr2inypYRl0v4r+gyJ6cnVf8QkVI/tnX8WAAAAAElFTkSuQmCC\n",
       "\" style=\"display:inline;vertical-align:middle;\" /></a><br>"
      ],
      "text/plain": [
       "<IPython.core.display.HTML object>"
      ]
     },
     "metadata": {},
     "output_type": "display_data"
    },
    {
     "data": {
      "text/html": [
       "<strong id=\"mult_1_4\"><a class=\"ProveItLink\" href=\"proofs/mult_1_4/thm_proof.ipynb\">mult_1_4</a> (conjecture without proof):<br></strong> <a class=\"ProveItLink\" href=\"../__pv_it/theorems/4b109d19269d0324df2fd16d9d37bff7887348cc0/theorem_expr.ipynb\"><img src=\"data:image/png;base64,iVBORw0KGgoAAAANSUhEUgAAAFcAAAAVBAMAAADBdm84AAAAMFBMVEX////MzMxUVFRERES6uroi\n",
       "IiIQEBCYmJhmZmYyMjLu7u52dnaqqqqIiIjc3NwAAACW8nlqAAAAAXRSTlMAQObYZgAAAAlwSFlz\n",
       "AAAOxAAADsQBlSsOGwAAARBJREFUKM91k78OwVAUh0+jpVXKYpdONl7AnxeQiMRmELEzsjRdxGAR\n",
       "i8RC4gGIF2AVi8WKxS6ewD2XpHXO7Uma3nz5cvLruacA8ABWCvSt9JGzepR8Fk9uHQKaD+kB9wSG\n",
       "5AyShVVYNvIASy4jNrHJPSxfBR1yGXEciKyNkK5ZCsQnKtuWoBYLLfGUyjekdp7KEi+I7AyQJmZ4\n",
       "HrewmgFuE9kGpKkOTSFxL5C32M6TVHsR2aOyIcbuXCTVSecfJjF01y12d5Bq/Gf+4TKdBsTxA0vs\n",
       "UhDv8XAIr1lGiOaOyYhz4u3258ElmNX3BYwadb84q1rFp3pDE76KTiL2uaJgTilC3ihYLOq/EvNm\n",
       "dVOrH32zRKaICh6RAAAAAElFTkSuQmCC\n",
       "\" style=\"display:inline;vertical-align:middle;\" /></a><br>"
      ],
      "text/plain": [
       "<IPython.core.display.HTML object>"
      ]
     },
     "metadata": {},
     "output_type": "display_data"
    },
    {
     "data": {
      "text/html": [
       "<strong id=\"mult_2_4\"><a class=\"ProveItLink\" href=\"proofs/mult_2_4/thm_proof.ipynb\">mult_2_4</a> (conjecture without proof):<br></strong> <a class=\"ProveItLink\" href=\"../__pv_it/theorems/e6b5efb14e2377c9ff9276ae9fa3885a919a34e10/theorem_expr.ipynb\"><img src=\"data:image/png;base64,iVBORw0KGgoAAAANSUhEUgAAAFcAAAAVBAMAAADBdm84AAAAMFBMVEX////MzMxUVFRERES6uroi\n",
       "IiIQEBCYmJhmZmYyMjLu7u52dnaqqqqIiIjc3NwAAACW8nlqAAAAAXRSTlMAQObYZgAAAAlwSFlz\n",
       "AAAOxAAADsQBlSsOGwAAAW5JREFUKM91kz9Iw0AUh39J2/RfGl2cHCydHATjKmi7OgilIDg4FHFy\n",
       "kOBiHZQu0oiD3QSngpOTxUkQtKs4mEUQh9JFcNIq6CBifHfRnl4uRzgeHx8vvzxeAPQQOgoUnFwn\n",
       "zOaj5GvgcXfqD9DqyDmylTk/K9HdhGXjsiR4Ig8cynIKmKDbgd6DURX8luSaLG8Ax4BBzwf0L5Fi\n",
       "k2SjJcmnXL4C9DL0lwHOpklOy6FvptEA9oKc/QHuMjmbl2Tdv6OpHfB6zPullsPkZJPVOwvsVDjf\n",
       "f6PhL/GyIlKAyWZV6mxeFD+BFT4Ym90nrN02l7W+JNdgvrcCeT0IXqcUHpfjcudV4LnDY5htPP3A\n",
       "eKEwudyGWf6fOUNv0h3MUDkK3IsmBvtAW+q8BsR6bNrWouuWBR8iMdWW5LkWtoARyur7flNsQfHV\n",
       "Q6Ikydq4SygxrFrFB/WGJusq2ojY51kFs+wI+UjBYlH/leWFWVetfgMhgU7wjJHwtgAAAABJRU5E\n",
       "rkJggg==\n",
       "\" style=\"display:inline;vertical-align:middle;\" /></a><br>"
      ],
      "text/plain": [
       "<IPython.core.display.HTML object>"
      ]
     },
     "metadata": {},
     "output_type": "display_data"
    },
    {
     "data": {
      "text/html": [
       "<strong id=\"mult_3_4\"><a class=\"ProveItLink\" href=\"proofs/mult_3_4/thm_proof.ipynb\">mult_3_4</a> (conjecture without proof):<br></strong> <a class=\"ProveItLink\" href=\"../__pv_it/theorems/7cfbac99c91a0d1d9799f4df604eddf44a8daa470/theorem_expr.ipynb\"><img src=\"data:image/png;base64,iVBORw0KGgoAAAANSUhEUgAAAGEAAAAVBAMAAACkm51HAAAAMFBMVEX////MzMxUVFRERES6uroi\n",
       "IiIQEBCYmJhmZmYyMjLu7u52dnaqqqqIiIjc3NwAAACW8nlqAAAAAXRSTlMAQObYZgAAAAlwSFlz\n",
       "AAAOxAAADsQBlSsOGwAAAXJJREFUOMt9k7tLA0EQxr81yeVxuUdjHwNqZ1LY+ihtBBFEECEiwdYr\n",
       "tZEDCZ7YBCwEq6B/gMHK0lZSJAi24UBS2YjYJETj7EZyR2646ebx2/lmdheAj4gxoZAZz9HYZizR\n",
       "Aj6elkMB4cJwImViDzC9axvI1ZFz0Q41ShWA22ng7nIAvEP/BjIOjCEe6kHyjYiTqHgiloAjQAOS\n",
       "VVgBIU6J0BoccdxAyceL8tuBcD1LRNbhiHmgZONKusndINWVhF7gCLIKcCOFvM5NMqYjibRSWduR\n",
       "th0ixA+wP1Y12ZUOSeQP+B5yj1Xla9JXCztThPjkiXMoQthIDOUBLonqKCLJ90jL8UiVNRgTagfF\n",
       "YumwifwWO0cLpo8VklQYq/o3TU5e5nqIJowGHinthO8DFlVnmtOE/gv0PK8GzJK34YVeYmbtq4PU\n",
       "+hQws9BfRGU06tO4NvegezGPPe1y0Yu4/7HKxMxyHHHPxBKx35buLGLdmPo/4qxaF18LoP0AAAAA\n",
       "SUVORK5CYII=\n",
       "\" style=\"display:inline;vertical-align:middle;\" /></a><br>"
      ],
      "text/plain": [
       "<IPython.core.display.HTML object>"
      ]
     },
     "metadata": {},
     "output_type": "display_data"
    },
    {
     "data": {
      "text/html": [
       "<strong id=\"mult_4_4\"><a class=\"ProveItLink\" href=\"proofs/mult_4_4/thm_proof.ipynb\">mult_4_4</a> (conjecture without proof):<br></strong> <a class=\"ProveItLink\" href=\"../__pv_it/theorems/6e5bbead6df677f8114e02920a5fc929b5c78c1d0/theorem_expr.ipynb\"><img src=\"data:image/png;base64,iVBORw0KGgoAAAANSUhEUgAAAGEAAAAVBAMAAACkm51HAAAAMFBMVEX////MzMxUVFRERES6uroi\n",
       "IiIQEBCYmJhmZmYyMjLu7u52dnaqqqqIiIjc3NwAAACW8nlqAAAAAXRSTlMAQObYZgAAAAlwSFlz\n",
       "AAAOxAAADsQBlSsOGwAAAXBJREFUOMt9kz1LA0EQht+Y77skphEFm3CgFiIGRDs12AsSsBELCTaC\n",
       "xZXa6KGoiI2IIFgF/QGeVoKNrViYRrAK14iVIIrCWRhnNhKXu+GmWO6d2Wc+dm8BeAiZ4NIsfxv2\n",
       "zUYS97z0aY6Yg7wd2hZboMW8uQSMQ9ZVLZYsAadB4Gz/GygcYwDIcLq8TjwSsRZunohsA2NAimXv\n",
       "kVZ+nYhUXSIelPeOF1cjzCwRWVsiJtTXAStPI5pMmCWJWOl/qgAnpF7wTxRsJtLqPHbm2aodwrex\n",
       "CixyUxphgoncklDDaAG7dSxTQq9NXHDiDUXE3iTiE9isMPGKNpF0qKmGIhJSDfhE2NzVjGV9Df8F\n",
       "EpY1WnORm5PmGFc1JpWuadlSPHlZvA+aA7hS+kOLddPujBskzB8g7hp0Vj0st1sjnVBm+r2BZCUA\n",
       "dA36Q8D1VpHGLUo/9HPEz552JO9e1PuYEnyFchRxLvjikc+W7ixkzYj9v7jnVwH8BVxNAAAAAElF\n",
       "TkSuQmCC\n",
       "\" style=\"display:inline;vertical-align:middle;\" /></a><br>"
      ],
      "text/plain": [
       "<IPython.core.display.HTML object>"
      ]
     },
     "metadata": {},
     "output_type": "display_data"
    },
    {
     "data": {
      "text/html": [
       "<strong id=\"mult_5_4\"><a class=\"ProveItLink\" href=\"proofs/mult_5_4/thm_proof.ipynb\">mult_5_4</a> (conjecture without proof):<br></strong> <a class=\"ProveItLink\" href=\"../__pv_it/theorems/8fad5f83b8b28a8976230279f26457cf87c2b7cf0/theorem_expr.ipynb\"><img src=\"data:image/png;base64,iVBORw0KGgoAAAANSUhEUgAAAGEAAAAVBAMAAACkm51HAAAAMFBMVEX////MzMxUVFRERES6uroi\n",
       "IiIQEBCYmJhmZmYyMjLu7u52dnaqqqqIiIjc3NwAAACW8nlqAAAAAXRSTlMAQObYZgAAAAlwSFlz\n",
       "AAAOxAAADsQBlSsOGwAAAZtJREFUOMt9kz1Lw2AQx/+xTZqmbczibCyImy26CWq/gFiEOolviGu7\n",
       "KLpoUcRql4KD6BTwAxh00yWrdGgRFEEoBSm4+YKCIlrvCdq0T0JuCPnf3e+eu+cFQB0u83C1WcyC\n",
       "BqUzZ8KXKAPZo4zhOIQ8Yjk+Sy0caMDlHVVWSsD0+0VbUNSBY554QOQNYUuZBWQqp3cEb0iu8cQg\n",
       "sIwV4ByQwBHCOknJ4IisgUR9CKgYuOKJSJhkmB+kH0hoH0CvhSLJgfs+J1ZjRER3b9GcwogcDul/\n",
       "BE+p1qbkGBEqsf+dDLOpv26/1S8iqpixZSDdagqMiM67lhB1mzCxZEv5hz6nrPCGTQjPLmIbChGT\n",
       "VUYESpBfWJU8NVW1iaBrjRB5aY6KxbqS0uj6rxmMxxOLJqJpfo4y1PowsGlglLUOKelUk9jkSW4J\n",
       "wUTMWAX2gDPqJI/bthPrpmzZ5IhGobAD0VIWgB6Sj1v7Tkwef61CTPGH0Wx+Qile03UUNa8L3fC5\n",
       "7KG8l3fX732MefjUpB9x4uEL+D5bOjOX1XzyfwGg9l9CNXr96QAAAABJRU5ErkJggg==\n",
       "\" style=\"display:inline;vertical-align:middle;\" /></a><br>"
      ],
      "text/plain": [
       "<IPython.core.display.HTML object>"
      ]
     },
     "metadata": {},
     "output_type": "display_data"
    },
    {
     "data": {
      "text/html": [
       "<strong id=\"mult_6_4\"><a class=\"ProveItLink\" href=\"proofs/mult_6_4/thm_proof.ipynb\">mult_6_4</a> (conjecture without proof):<br></strong> <a class=\"ProveItLink\" href=\"../__pv_it/theorems/8e7c83ce423bb0f9e82b6be1d48867c0400e2b060/theorem_expr.ipynb\"><img src=\"data:image/png;base64,iVBORw0KGgoAAAANSUhEUgAAAGEAAAAVBAMAAACkm51HAAAAMFBMVEX////MzMxUVFRERES6uroi\n",
       "IiIQEBCYmJhmZmYyMjLu7u52dnaqqqqIiIjc3NwAAACW8nlqAAAAAXRSTlMAQObYZgAAAAlwSFlz\n",
       "AAAOxAAADsQBlSsOGwAAAXVJREFUOMt9k79Lw0AUx78xbZPa5sfiHguupruo/QeEILgJFhEHFzvq\n",
       "IgUtBlwqDgVBKAiuDa5FcJUuXVxLQTu4FRFEQeq75tqEu5AHgeT7ue97795dAAwhRYIUC+NZ1rZS\n",
       "HT16ul07EpQ6jJq4yvRv7JBhsQl8VBa8CGYd4FZ0vKHwxZlO6e6gliP4SuqJ6FgFDjnLAcXfOFNO\n",
       "mdoWHMdtuMOQvQBqNc4KeVLz4kZWANcO2RUlvH66iNiAqQVHHtEeZy3AaiE3H7FZY6rWZO+NHRbb\n",
       "vNs/znaBzhj60bwpMLVYlUrQmEJ2QA4PGhtdhyU+m6rKWHKczxg5rCa0b5aFjsfsT9WMVENzZoy6\n",
       "UnkNFplSyd0PUPTEffRgvodsnZqmfcRy5tjOy0IJJYDRDtkjfa7hIXYdLVqtB4Jj5PsNzpbYfPzl\n",
       "iOmbn31kK+JhTCY/M2YnXehRymXX6knqZdr/sZGgmeU0x32Cpqb+tnQuUgxS1v8Dk1RUySNQCcUA\n",
       "AAAASUVORK5CYII=\n",
       "\" style=\"display:inline;vertical-align:middle;\" /></a><br>"
      ],
      "text/plain": [
       "<IPython.core.display.HTML object>"
      ]
     },
     "metadata": {},
     "output_type": "display_data"
    },
    {
     "data": {
      "text/html": [
       "<strong id=\"mult_7_4\"><a class=\"ProveItLink\" href=\"proofs/mult_7_4/thm_proof.ipynb\">mult_7_4</a> (conjecture without proof):<br></strong> <a class=\"ProveItLink\" href=\"../__pv_it/theorems/386dad92949c6bb9fbe440468fad66bb92e301a50/theorem_expr.ipynb\"><img src=\"data:image/png;base64,iVBORw0KGgoAAAANSUhEUgAAAGEAAAAVBAMAAACkm51HAAAAMFBMVEX////MzMxUVFRERES6uroi\n",
       "IiIQEBCYmJhmZmYyMjLu7u52dnaqqqqIiIjc3NwAAACW8nlqAAAAAXRSTlMAQObYZgAAAAlwSFlz\n",
       "AAAOxAAADsQBlSsOGwAAAZRJREFUOMt9kz1Iw0AYht+kf2lyjV3cS0FwENtRBG1WB0EUN0ERcRDR\n",
       "bP6AUpDSgIMFB8Ep4ORkdVIE6Sod7CI4lYLUwUUpWhSVeHcVEy4h35S83z3f7x2AFnwWIHksVdO3\n",
       "RW0ylKiDOI7TdQWpiJQpntKtwzTU60sDUCvQRixrznXGMsCxSDxCe4MCDAGKCY2GKLrOe0psisQw\n",
       "sIwN4BSIAwSQPUVtUSJuC8S6jVzrghO3XDh3fVqSEkmxkQEgl74bRRnY533lXV+TEVrGP6J5yM5D\n",
       "DThiP7LhDsVkRKLCvkuzzKb/qv0BDt7ppviQnjxFgRFkwZeCjpDcFL6BJfZ3xbUzFniXE9Krj9hj\n",
       "EyRdu0fM9KLQEesNTkR9ORJUXQFearwqtfPviGazucUqyJTYRx36M00smxhjxz680eKs87yQQqoi\n",
       "Za8BkRboVkC+vM4+elqpCkTbskqYsLED9LOJrnp8SqHTQMwQl+E4n5AGLarH0kEXuh1y2RPFILUc\n",
       "9j7GAzQ9H0acBGiR0GdLd+azZsj5X8WuW2rYAXDnAAAAAElFTkSuQmCC\n",
       "\" style=\"display:inline;vertical-align:middle;\" /></a><br>"
      ],
      "text/plain": [
       "<IPython.core.display.HTML object>"
      ]
     },
     "metadata": {},
     "output_type": "display_data"
    },
    {
     "data": {
      "text/html": [
       "<strong id=\"mult_8_4\"><a class=\"ProveItLink\" href=\"proofs/mult_8_4/thm_proof.ipynb\">mult_8_4</a> (conjecture without proof):<br></strong> <a class=\"ProveItLink\" href=\"../__pv_it/theorems/8c76772ba4ffc9bb66c73aff3d6d34bd60f141df0/theorem_expr.ipynb\"><img src=\"data:image/png;base64,iVBORw0KGgoAAAANSUhEUgAAAGEAAAAVBAMAAACkm51HAAAAMFBMVEX////MzMxUVFRERES6uroi\n",
       "IiIQEBCYmJhmZmYyMjLu7u52dnaqqqqIiIjc3NwAAACW8nlqAAAAAXRSTlMAQObYZgAAAAlwSFlz\n",
       "AAAOxAAADsQBlSsOGwAAAZZJREFUOMt9k79Lw0AUx7/VtkmbNEbBUSgFcTP9B6xddBNEcBMrRRxc\n",
       "zKYuEqjFgA6Cg9Ap4CI4tLh26SodzOJaC6W7qCCFlvjuqCZcQt5y3Pfu837dOwB9hCxCCliuE9a2\n",
       "Yoku8NS+DAgJCzlTvKW1a2Vo9p0OZG8BCzOBQKk80BCJR6hjDKB8A7IJyeTcn70RcSYS753sCKvA\n",
       "EZAGlHyQSJwTkXYEYrOMEU4cGH28AOqXI/uJKxkiMqFCoP5gGTB0XNPGmNz4Jz1GUFjRNriTCnBP\n",
       "i+zt+00xGSHxLOu7zHa4vlTQWcoTYI81eOD990oBI9SDcFbjaR8PyaGF12PaNpnjC04kPsIPR3Wj\n",
       "Bk5QYzTuwKKkXE4kxRjzwHoHEiuPsmrSsjI9SRYKRrUFdVuow3MY0YXWxxrFoMEr+e7SrPKiEKPK\n",
       "skq0kHPwTH4bkFz/cI5uyy2BOGXvMbTtOrBI2wU7MIny+qeLVFkgkjZNYsXzRlSuHjXQw5hhp9ZG\n",
       "2FXc/yhFaFoxjniI0GZjv63mhrVezP1f5ORgryf//2YAAAAASUVORK5CYII=\n",
       "\" style=\"display:inline;vertical-align:middle;\" /></a><br>"
      ],
      "text/plain": [
       "<IPython.core.display.HTML object>"
      ]
     },
     "metadata": {},
     "output_type": "display_data"
    },
    {
     "data": {
      "text/html": [
       "<strong id=\"mult_9_4\"><a class=\"ProveItLink\" href=\"proofs/mult_9_4/thm_proof.ipynb\">mult_9_4</a> (conjecture without proof):<br></strong> <a class=\"ProveItLink\" href=\"../__pv_it/theorems/24040798b337964fd60d8304cce96841bddad92f0/theorem_expr.ipynb\"><img src=\"data:image/png;base64,iVBORw0KGgoAAAANSUhEUgAAAGEAAAAVBAMAAACkm51HAAAAMFBMVEX////MzMxUVFRERES6uroi\n",
       "IiIQEBCYmJhmZmYyMjLu7u52dnaqqqqIiIjc3NwAAACW8nlqAAAAAXRSTlMAQObYZgAAAAlwSFlz\n",
       "AAAOxAAADsQBlSsOGwAAAaJJREFUOMt9kz1Iw1AQx/+1TT+S9ENBFxFKwcXFgKiTNotuggguolBK\n",
       "F0Uwm7poUdSCSwdBcAq4iEurk9Clq4i0iyAI1cVdRSmRSr2XQhJeQm7Jy937vfvfvXsA3uAyD5fD\n",
       "4nW3b8GXeACipTGHI1BEXON3JWqHKiDVbgCxDHENQw4dQhq44IkryB0kzjBK52voyyGo2MEnInZ4\n",
       "4rUuGog1MQGEgWQZ0q8tapeIsM4R8yoMNEzvPVBREP+2YlKMiJirEMhtTJmL016OthVpMUJKu4g5\n",
       "DevDz1T+Ocw6/qymaIyIlNn6aJnZkukfyaRgaNgEVqldBQx0LFFghJxzq+qIXeBYR4G17uXxkz4V\n",
       "dvCeSQQ+3Be3df0D7KsmgV6vhCKJappEiM/RD2TrBhEaU0Vm3UcokxnPVyEvcnV0dSImzRwzpHAD\n",
       "lZR9XJhVrnA58qRKb1AdwC3N4gqmHcEk7Y5WOWKb3UewKlKvBum3VlLtWDT71YSgckSoxCbx7oC0\n",
       "CCmvgX73GfZI0ct74vc+Zj18CcWPuPTwBX2fLd2Zy1o++/8BMO9fOu2GIMUAAAAASUVORK5CYII=\n",
       "\" style=\"display:inline;vertical-align:middle;\" /></a><br>"
      ],
      "text/plain": [
       "<IPython.core.display.HTML object>"
      ]
     },
     "metadata": {},
     "output_type": "display_data"
    }
   ],
   "source": [
    "mult_0_4, mult_1_4, mult_2_4, mult_3_4, mult_4_4, mult_5_4, mult_6_4, mult_7_4, mult_8_4, mult_9_4 = [Equals(Mult(num(n), num(4)), num(n*4)) for n in range(10)]"
   ]
  },
  {
   "cell_type": "code",
   "execution_count": 33,
   "metadata": {},
   "outputs": [
    {
     "data": {
      "text/html": [
       "<strong id=\"mult_0_5\"><a class=\"ProveItLink\" href=\"proofs/mult_0_5/thm_proof.ipynb\">mult_0_5</a> (conjecture without proof):<br></strong> <a class=\"ProveItLink\" href=\"../__pv_it/theorems/6f7f3cfdd78e5456925cb8b679975ac6125f91720/theorem_expr.ipynb\"><img src=\"data:image/png;base64,iVBORw0KGgoAAAANSUhEUgAAAFcAAAAVBAMAAADBdm84AAAAMFBMVEX////MzMxUVFRERES6uroi\n",
       "IiIQEBCYmJhmZmYyMjLu7u52dnaqqqqIiIjc3NwAAACW8nlqAAAAAXRSTlMAQObYZgAAAAlwSFlz\n",
       "AAAOxAAADsQBlSsOGwAAAXlJREFUKM91kz1Lw1AUhp/aph/ph12crZubQXFwUPwDYhFctEhFXVzs\n",
       "oriIXUSloF1EEIeAKE421FEKWcWhxclJughuOgh+VMGTllSTpme4nPvm4Zzz3nsD1OkID6kVcdOx\n",
       "9cEVU93gO4hWDtrb4OfRHPFcB3bzIO3UIpxy3m6srM3rcOJmI6a6AOEcoTRRzVZ7muumG16Ha2kL\n",
       "/hSxLycc1F3wMFR1bqE3j+/bCUfcQ39Av0kBSgK/t+GtclIsp5ysasE5juHFwPdjy3498QahopXv\n",
       "zFoxI1miIXCNTAtu/CszCrGss3ITNliWMQwCVuVSsfXlsI7v1TWGwNM1CxaDMcugkpdlTOAkgWyn\n",
       "wappjeHXCLWPbgWGZIy0c2ZGYFtnXNxkCRdt2IAlkTRX5Q3Yh7JkGS6StvpMfFXu1XDBiqkuQp9k\n",
       "l5WBP997g3J7yqQLVgv3Uk9Jej3FJ+8XGsp7qbtd3vOEh5bQusBnHpq/23+VqHVqj97oLzJUWHe5\n",
       "MxNOAAAAAElFTkSuQmCC\n",
       "\" style=\"display:inline;vertical-align:middle;\" /></a><br>"
      ],
      "text/plain": [
       "<IPython.core.display.HTML object>"
      ]
     },
     "metadata": {},
     "output_type": "display_data"
    },
    {
     "data": {
      "text/html": [
       "<strong id=\"mult_1_5\"><a class=\"ProveItLink\" href=\"proofs/mult_1_5/thm_proof.ipynb\">mult_1_5</a> (conjecture without proof):<br></strong> <a class=\"ProveItLink\" href=\"../__pv_it/theorems/16daae46b30cd103220dacfa1848c5bd49cb95780/theorem_expr.ipynb\"><img src=\"data:image/png;base64,iVBORw0KGgoAAAANSUhEUgAAAFcAAAAVBAMAAADBdm84AAAAMFBMVEX////MzMxUVFRERES6uroi\n",
       "IiIQEBCYmJhmZmYyMjLu7u52dnaqqqqIiIjc3NwAAACW8nlqAAAAAXRSTlMAQObYZgAAAAlwSFlz\n",
       "AAAOxAAADsQBlSsOGwAAAR1JREFUKM9jYGB4wIABsAhBAO8BFC4jA8M6Bl8MVWBhBobTQCy6AC7K\n",
       "9nNqFANvAbpisDAD1wQGLo35CMWs+dFAzix0xRBhDpAh9xGKmcBkBbpiiDAbAzbFbAuwKj6JVTFn\n",
       "AVbF3eiKazcJMDBwK6ArBgtPR1PMvIDvCwMD+wQQuzUUBIIQwjFoioHAlIGBJwEzQoDCKQjF6ydA\n",
       "RPsfMDB+wFQMFEZSzNoAJCyBogIMLOgmQ4TRnZHKwKAPdEYAmpshwrZoijcwMCQDPWiAZjJEeBOI\n",
       "uR+RzF4w8GYB43UDmmKIsCiQpZQ/CR4JfB0aQGtYHdAUQ4UFsKXbp9iTM3sDNtF2HInfDosYnwEO\n",
       "xYuxiDHjyld8FzDF7mFXCgAALEx2PDUynQAAAABJRU5ErkJggg==\n",
       "\" style=\"display:inline;vertical-align:middle;\" /></a><br>"
      ],
      "text/plain": [
       "<IPython.core.display.HTML object>"
      ]
     },
     "metadata": {},
     "output_type": "display_data"
    },
    {
     "data": {
      "text/html": [
       "<strong id=\"mult_2_5\"><a class=\"ProveItLink\" href=\"proofs/mult_2_5/thm_proof.ipynb\">mult_2_5</a> (conjecture without proof):<br></strong> <a class=\"ProveItLink\" href=\"../__pv_it/theorems/4fa72666e6825dda048e3b57d9129403125885a80/theorem_expr.ipynb\"><img src=\"data:image/png;base64,iVBORw0KGgoAAAANSUhEUgAAAGEAAAAVBAMAAACkm51HAAAAMFBMVEX////MzMxUVFRERES6uroi\n",
       "IiIQEBCYmJhmZmYyMjLu7u52dnaqqqqIiIjc3NwAAACW8nlqAAAAAXRSTlMAQObYZgAAAAlwSFlz\n",
       "AAAOxAAADsQBlSsOGwAAAYlJREFUOMt9k79Lw1AQx79NTX+k7aOLk0Od1M2oODgo/QfEUhCkilTU\n",
       "xcUgKC5iF7Glg1lEcAq6a6ijg1nFocVJHKSL0EkqONgK1kvCK23zzCMc7+57n9wd7z0AdXiWINSz\n",
       "ElafGwBusOhLPAGN0lTXDbXOc0honrRAjsz9C1VXdDAVD2muyLurBnA5CFyV2kDUUtaBiAapjlCe\n",
       "S5JjD73NE7EP3FEX9LUh/fYTIUNETANVA4+UlIH02U9ENRHxDaQslN3um13iqJIEYqMCQrEJDReO\n",
       "n6pxJWiwLyCs2/uTZXtlOcF+nMQ1x8/2/m4WiOcFNRzCxJbtRlTb3uqueFZHoCnqioilmkvsucMU\n",
       "yMwRkcRQ/p/Jq5bTVdzEB1e2gUmKZARzYAY4NjBP3gjwygkT2KTJVVGNA6AEVAC2UixmuNJAYocG\n",
       "MweJGJ2xbCkbwDBtOp2OzhVWnKDzltMDgDTWGodSfqazkpOiC/3uc9nDBVH01O99LAhiTPUjrgWx\n",
       "oO+zZTVv7M0n/w/FimLy9pLIUgAAAABJRU5ErkJggg==\n",
       "\" style=\"display:inline;vertical-align:middle;\" /></a><br>"
      ],
      "text/plain": [
       "<IPython.core.display.HTML object>"
      ]
     },
     "metadata": {},
     "output_type": "display_data"
    },
    {
     "data": {
      "text/html": [
       "<strong id=\"mult_3_5\"><a class=\"ProveItLink\" href=\"proofs/mult_3_5/thm_proof.ipynb\">mult_3_5</a> (conjecture without proof):<br></strong> <a class=\"ProveItLink\" href=\"../__pv_it/theorems/6ed3c54d788857618f2a19ba09a513fb97f7e3bc0/theorem_expr.ipynb\"><img src=\"data:image/png;base64,iVBORw0KGgoAAAANSUhEUgAAAGEAAAAVBAMAAACkm51HAAAAMFBMVEX////MzMxUVFRERES6uroi\n",
       "IiIQEBCYmJhmZmYyMjLu7u52dnaqqqqIiIjc3NwAAACW8nlqAAAAAXRSTlMAQObYZgAAAAlwSFlz\n",
       "AAAOxAAADsQBlSsOGwAAAVZJREFUOMtjYGB4wIABsAghAd4DKFxGBoZ1DL7YlYLlGBhOMzC83mEC\n",
       "F2X7OTWKgbcAU3UUVI6BawIDVwPDebhFrPnRCxgYZqFrWNT5CybHUcDA+4dh/QSYFBOYrMB0/C+Y\n",
       "HBsDA0sKAz+aDrYFuHWcBJPnC1B1cBbg1tENIljC4TJMtZsEGBi4FbDqAMtNB4XDJUW4DPMCvi8M\n",
       "DOxgV7aGgkAQXAdELgbiKuRIMWVg4EnAZgdELgXiUxAfFmD9DxgYP+DQAZQD6mAUYGD+A4qKBiBh\n",
       "CRQVYGDBagdEDugq/l8QHWCQysCgD3RVADZ/QORsgU5SgLgKDDYwMCQDfW6AzQ6I3CagdAFSfLxg\n",
       "4M0CpoQN6Dq4/8HkRIE8jw5ESuTr0ADGN6sDmgYmtZ/qMDkBbOn6KZ7swd6ATbQdX46ywyLGZ4BP\n",
       "x2IsYsx4sy3fBUyxe3jUAwCAIlqTz0gjswAAAABJRU5ErkJggg==\n",
       "\" style=\"display:inline;vertical-align:middle;\" /></a><br>"
      ],
      "text/plain": [
       "<IPython.core.display.HTML object>"
      ]
     },
     "metadata": {},
     "output_type": "display_data"
    },
    {
     "data": {
      "text/html": [
       "<strong id=\"mult_4_5\"><a class=\"ProveItLink\" href=\"proofs/mult_4_5/thm_proof.ipynb\">mult_4_5</a> (conjecture without proof):<br></strong> <a class=\"ProveItLink\" href=\"../__pv_it/theorems/944639dee3b6261bfb26ca6405b1aec29d883f7e0/theorem_expr.ipynb\"><img src=\"data:image/png;base64,iVBORw0KGgoAAAANSUhEUgAAAGEAAAAVBAMAAACkm51HAAAAMFBMVEX////MzMxUVFRERES6uroi\n",
       "IiIQEBCYmJhmZmYyMjLu7u52dnaqqqqIiIjc3NwAAACW8nlqAAAAAXRSTlMAQObYZgAAAAlwSFlz\n",
       "AAAOxAAADsQBlSsOGwAAAZdJREFUOMt9kz1Iw0AUx/+xprWpCVlEN0tBEERbFAcHRdxFEVxU/NbB\n",
       "pV0UF7EgxUgHiyKCU8BdQx1dskqHFicnCUjRRRAsYhGp71JN6yXkDce99+73Pu7eAbDgEg9Tk8jm\n",
       "P1UArjDpSxTY0uWowerZHOQUf0rRTlXg9oGySzlmmHFcYnJeBy544gmRCsKmtAi0sXByg2ix112e\n",
       "GAA2sQ3cUBVM7zzhiKDOEUkdcWsQKOq4Y7rBE2G+kR4grn4C3SayrCiridjLU4uRqPuKliRGpHBO\n",
       "+2c0iICuVICQfR+ZWSa/PQrfyhcRJSywopoIkmGgfdmVQozahIF1CmjVietc3XdsQXhzEQeQiJgq\n",
       "MeIVdUJM0zJChIpWV44QdUZ9FE1W1UQs9tH359mgS6Gqpvk+ClCsIWBfx6itrzqxDGCNIia4FIIB\n",
       "Wd8BjoC8bXh3XC+Qt2gSDI4oa1oGoimtAB12V7X+xsj10nuL4/xj1GpVSNl7eitR9Rross+wh9Je\n",
       "1kO//zHmYVMSfsSlhy3g+22Vktv26HP+B5TuYW1pzovXAAAAAElFTkSuQmCC\n",
       "\" style=\"display:inline;vertical-align:middle;\" /></a><br>"
      ],
      "text/plain": [
       "<IPython.core.display.HTML object>"
      ]
     },
     "metadata": {},
     "output_type": "display_data"
    },
    {
     "data": {
      "text/html": [
       "<strong id=\"mult_5_5\"><a class=\"ProveItLink\" href=\"proofs/mult_5_5/thm_proof.ipynb\">mult_5_5</a> (conjecture without proof):<br></strong> <a class=\"ProveItLink\" href=\"../__pv_it/theorems/30f5bdab2a0636d1d4f2cae432f042caad718de70/theorem_expr.ipynb\"><img src=\"data:image/png;base64,iVBORw0KGgoAAAANSUhEUgAAAGEAAAAVBAMAAACkm51HAAAAMFBMVEX////MzMxUVFRERES6uroi\n",
       "IiIQEBCYmJhmZmYyMjLu7u52dnaqqqqIiIjc3NwAAACW8nlqAAAAAXRSTlMAQObYZgAAAAlwSFlz\n",
       "AAAOxAAADsQBlSsOGwAAAXhJREFUOMtjYGB4wIABsAghAd4DDAIMXHA1jAwM6xh8sSsFyzEwnGZg\n",
       "yJ8ZugAmyvZzahQDbwG6Yr6OyQIQOQauCQwMYV93waVY86OBumeh63jMwP0FKscBNE4BSYoJTFag\n",
       "69BjYEiDyrExYNPBtgBNR/4CBv0HELmTWHVwontElYFBXwAi1w3E6rcVETpqNwkwMHArYIZUPFRu\n",
       "OpBtxfDeASbOvIDvCwMD+wQQuzUUBIKgQfsXKhcDUReAZJgpAwNPAoYVrApQuRQwl+MfkFg/ASLX\n",
       "/4CB8QOGjmaYHFAH8wQGjo8gUxqAhCVQVICBBcMOdgWYHNBVbAEMTHAzU4GBAnRVALo/TjPwPYDI\n",
       "2QIDBqjJAKZjAwNDMtBEA/QktYGBdwFEbhMwzTQwXIPH2AsG3iygvzag6Xja0dEKlRMFqWrqQkpy\n",
       "GkDdrA7okfH//0+YnAC2dP0UT/Zgb8Am2o4vR9lhEeMzwKdjMRYxZrzZlu8Cptg9POoB9FRZunXW\n",
       "1yEAAAAASUVORK5CYII=\n",
       "\" style=\"display:inline;vertical-align:middle;\" /></a><br>"
      ],
      "text/plain": [
       "<IPython.core.display.HTML object>"
      ]
     },
     "metadata": {},
     "output_type": "display_data"
    },
    {
     "data": {
      "text/html": [
       "<strong id=\"mult_6_5\"><a class=\"ProveItLink\" href=\"proofs/mult_6_5/thm_proof.ipynb\">mult_6_5</a> (conjecture without proof):<br></strong> <a class=\"ProveItLink\" href=\"../__pv_it/theorems/0d6b9c4c3b8121b91fe86cd8fd8571ff362cae0e0/theorem_expr.ipynb\"><img src=\"data:image/png;base64,iVBORw0KGgoAAAANSUhEUgAAAGEAAAAVBAMAAACkm51HAAAAMFBMVEX////MzMxUVFRERES6uroi\n",
       "IiIQEBCYmJhmZmYyMjLu7u52dnaqqqqIiIjc3NwAAACW8nlqAAAAAXRSTlMAQObYZgAAAAlwSFlz\n",
       "AAAOxAAADsQBlSsOGwAAAbRJREFUOMt9kz9oE2EUwH/JNbnkmlzj0LGonbo1KA4i1VvqJg2FLiqS\n",
       "Wl26JIu1i1iopSkZPIcSEIQDoRQHG9oxCLeKQ4OTk2YRdOsgxLQBfXdp/vS74x7cx733vt/73p/v\n",
       "A1oEJMQ0Iln3ghqDj9yLJL7I12jk+mqys3ufbFndZTY2Ldn3TU43bPhtxQt9V6L0wIG3KrFPpkva\n",
       "NR5BSsK9Q8v3XXF/XVeJH67R4RkcSRaQOR1x9YikoxB3LTpcg2OHz6AVA0Q6UAiZNn/hsktVAr75\n",
       "9GpIvDiULoxfCRDzZcMjytRgokZy0GLNMf+Abnv/W0ueLPr2qemceSZEk4dwcEJqdSTaDUmhGMyq\n",
       "6xN1nghRQJe4HNg93+sWsZPg4EofhFhoesSEjd72RrEhy00hcoypZ1yCO67Ucex6WWnnZ/jyFGYl\n",
       "hYJSxz9HiOvw0mFO3FLHIGYdVqTyvHLGY8nKWYMdOBT1FnuDXv0iK11I1RXiuTePhGssw6So45Wr\n",
       "wytXmZF5JyyFGKvITTSqX2VWiVzYhf4Zcdn1jTDrdtT7uB1iM/NRxPsQmxb5bM1m0PY9Yv9/s4No\n",
       "KKctdvwAAAAASUVORK5CYII=\n",
       "\" style=\"display:inline;vertical-align:middle;\" /></a><br>"
      ],
      "text/plain": [
       "<IPython.core.display.HTML object>"
      ]
     },
     "metadata": {},
     "output_type": "display_data"
    },
    {
     "data": {
      "text/html": [
       "<strong id=\"mult_7_5\"><a class=\"ProveItLink\" href=\"proofs/mult_7_5/thm_proof.ipynb\">mult_7_5</a> (conjecture without proof):<br></strong> <a class=\"ProveItLink\" href=\"../__pv_it/theorems/735d62b15e17428e9cad55cbd373479008d0449e0/theorem_expr.ipynb\"><img src=\"data:image/png;base64,iVBORw0KGgoAAAANSUhEUgAAAGEAAAAVBAMAAACkm51HAAAAMFBMVEX////MzMxUVFRERES6uroi\n",
       "IiIQEBCYmJhmZmYyMjLu7u52dnaqqqqIiIjc3NwAAACW8nlqAAAAAXRSTlMAQObYZgAAAAlwSFlz\n",
       "AAAOxAAADsQBlSsOGwAAAXNJREFUOMtjYGB4wIABsAghAd4DfFVIXEYGhnUMvtiVguUYGE4z8Pz/\n",
       "//8bTJTt59QoBt4CdMV8u5sdIHIMXBMYuC06OmJgUqz50QsYGGah61jBwPMHKsdRwMANNKIBJsUE\n",
       "JivQddw/wPUTKsfGwMADU4fQwbYATYebAwNMx0kwuRFNByeGRxh4vkPlusH+MkDoqN0kwMDArYCh\n",
       "w7UAKjcdrMwBLsG8gO8LAwP7BBC7NRQEgsDiskoCUDlwID1DMc0U6IQETFf9gcqlgOidYLH1EyBy\n",
       "/Q8YGD9gxl/+AogcWEcwJCpAQWwJFBVgYEG3Q5CBwf4ARA7kKq5PCKlUBgZ9oBMC0PzxfwFQB0TO\n",
       "Fshl+YHQsYGBIRnocwM0O5JAroLIbQJ56jdC6gUDbxYwJWxA01EOig+InCgoOnKQklyHBtCHrA5o\n",
       "Olg6gCkRKieALV0/xZM92Buwibbjy1F2WMT4DPDpWIxFjBlvtuW7gCl2D496ABTnWQTYF1NOAAAA\n",
       "AElFTkSuQmCC\n",
       "\" style=\"display:inline;vertical-align:middle;\" /></a><br>"
      ],
      "text/plain": [
       "<IPython.core.display.HTML object>"
      ]
     },
     "metadata": {},
     "output_type": "display_data"
    },
    {
     "data": {
      "text/html": [
       "<strong id=\"mult_8_5\"><a class=\"ProveItLink\" href=\"proofs/mult_8_5/thm_proof.ipynb\">mult_8_5</a> (conjecture without proof):<br></strong> <a class=\"ProveItLink\" href=\"../__pv_it/theorems/b3ccfb4194ee73862619eea7a1bfdea2fbe906090/theorem_expr.ipynb\"><img src=\"data:image/png;base64,iVBORw0KGgoAAAANSUhEUgAAAGEAAAAVBAMAAACkm51HAAAAMFBMVEX////MzMxUVFRERES6uroi\n",
       "IiIQEBCYmJhmZmYyMjLu7u52dnaqqqqIiIjc3NwAAACW8nlqAAAAAXRSTlMAQObYZgAAAAlwSFlz\n",
       "AAAOxAAADsQBlSsOGwAAAaJJREFUOMt9k79Lw1AQx7/9keZHbSyCs6GLbi2Kg4PVf0AUwUWl+HNx\n",
       "MYuig5pBsVJBFxE6BRwFG+rYJas4NAiCUymI4CjqoKjUS9pGmxdyQ8jde59337t7D0AdjPmE/lnC\n",
       "7HBDwBUmAolb4LKy77qxz7NZJFR2X0gDKg+UXToFNITdRNz6nA4UWYJTIJpSDhBU8KrDNS3sfLdY\n",
       "4l7BBnBNKoC4whAxnRG1rWAQqOq4AbredEHtJESmkLio4APoM1EgL/1z7K6Ed8pJJ63HaqIi2YSK\n",
       "c/KERs5diejyO8A7Kg9mbJu2f2VVVOQvIizM2w1+bPwfyjAJXfCKQoswsEIHaqiuUbTUKv+kjtCL\n",
       "h9glQiJi0rIJaoz8bXecZoQRIpKIenLIFpqVV01bVYlC/e21VWoEqZrqrCOaSqWXjCFgT8co5aDR\n",
       "Z9uEASyT0AwzwZiCTeAIKNMBRfBWe+EZCapJMBiiOwPOlBaBXnJ68n83Uc4P0Ly5cS8gjL1aUuGO\n",
       "ZsUl/S70U8Bl5zW/6GHQ+8j6xORMEHHhE4sEPlvZYmO1gP2/cfdhKP/ah9AAAAAASUVORK5CYII=\n",
       "\" style=\"display:inline;vertical-align:middle;\" /></a><br>"
      ],
      "text/plain": [
       "<IPython.core.display.HTML object>"
      ]
     },
     "metadata": {},
     "output_type": "display_data"
    },
    {
     "data": {
      "text/html": [
       "<strong id=\"mult_9_5\"><a class=\"ProveItLink\" href=\"proofs/mult_9_5/thm_proof.ipynb\">mult_9_5</a> (conjecture without proof):<br></strong> <a class=\"ProveItLink\" href=\"../__pv_it/theorems/1dbdb449c9d4ed962f4ae9a261bf1585a47edf520/theorem_expr.ipynb\"><img src=\"data:image/png;base64,iVBORw0KGgoAAAANSUhEUgAAAGEAAAAVBAMAAACkm51HAAAAMFBMVEX////MzMxUVFRERES6uroi\n",
       "IiIQEBCYmJhmZmYyMjLu7u52dnaqqqqIiIjc3NwAAACW8nlqAAAAAXRSTlMAQObYZgAAAAlwSFlz\n",
       "AAAOxAAADsQBlSsOGwAAAXxJREFUOMtjYGB4wIABsAghAd4DKFxGBoZ1DL7YlYLlGBhOMzBwdGjB\n",
       "Rdl+To1i4C3AorwBIsfANYGBK5ZBDO4O1vzoBQwMszB1sCpA5TgKGJgSGJgNYBJMYLICU8dVBagc\n",
       "GwMD/wQG7l+oOtgWYDiqEqbjJAPDegMG3i+oOjgxPMLNCdPRDbHjO1xH7SYBoLwCuo57IB1guekM\n",
       "YH/8hckwL+AD2sc+AcRuDQWBIBCTrwCoAyIXAwyuFAahP0jGmTIw8CSgO4qBUwEqlwKkVtw++xFI\n",
       "rZ8Ake1/wMD4AU1HHVQHUC4FYgQorFgbgIQlUFSAgQXNDr4LIB0QuRiI6+HxkcrAoA90VQCqP1iU\n",
       "lPSTNkDkbIHSWQzrBWA6NjAwJAN9boARg2wKULlNwLQYxWAOl3jBwJsFTAkbMHTwG0DlRIGc3R0O\n",
       "CBd3aADjm9UBXQOH/acLUDkBbOn6KZ7swd6ATbQdX46ywyLGZ4BPx2IsYsx4sy0wcjDAPTzqAQ1X\n",
       "VJbENCutAAAAAElFTkSuQmCC\n",
       "\" style=\"display:inline;vertical-align:middle;\" /></a><br>"
      ],
      "text/plain": [
       "<IPython.core.display.HTML object>"
      ]
     },
     "metadata": {},
     "output_type": "display_data"
    }
   ],
   "source": [
    "mult_0_5, mult_1_5, mult_2_5, mult_3_5, mult_4_5, mult_5_5, mult_6_5, mult_7_5, mult_8_5, mult_9_5 = [Equals(Mult(num(n), num(5)), num(n*5)) for n in range(10)]"
   ]
  },
  {
   "cell_type": "code",
   "execution_count": 34,
   "metadata": {},
   "outputs": [
    {
     "data": {
      "text/html": [
       "<strong id=\"mult_0_6\"><a class=\"ProveItLink\" href=\"proofs/mult_0_6/thm_proof.ipynb\">mult_0_6</a> (conjecture without proof):<br></strong> <a class=\"ProveItLink\" href=\"../__pv_it/theorems/7ec60d143a117c8ee29f014e98fe33626a661e560/theorem_expr.ipynb\"><img src=\"data:image/png;base64,iVBORw0KGgoAAAANSUhEUgAAAFcAAAAVBAMAAADBdm84AAAAMFBMVEX////MzMxUVFRERES6uroi\n",
       "IiIQEBCYmJhmZmYyMjLu7u52dnaqqqqIiIjc3NwAAACW8nlqAAAAAXRSTlMAQObYZgAAAAlwSFlz\n",
       "AAAOxAAADsQBlSsOGwAAAXZJREFUKM91k71Lw1AUR0/pp2lauzg5WAf3oOim9B8Qi+BWpIKL4JBF\n",
       "cWsRVKQgHQRBHAKiuDXqIpRCVnFocOokLs66iB9V9L2WtPQlfUN4OTm5+d3LC/CMbwWg7ko5frY4\n",
       "TH6AZOOof5+sX5MyfVq9JT6nVeGMi96H08dMwanqjjjaKiRM4nmSRo+6zMCOKm/BLcQgnEX/9mjT\n",
       "kteYpcjTnSf3MFom9OPRuW59NfQnTDhUoCbkD49ujLdyosvsoKtJ2eQEXm1Cvx7+MtmEeFXu91bk\n",
       "WpZtt4XsUujKba/EH+xb6MXByh3ZZl3EsInIyjVRTnuHUo7QmxJDyEuulEWDumwwWpYxhGwSKfob\n",
       "bDoyRtgg3hvdbKeynh/MLGdfspgX3RRJVHtzFpkFMpTK23AIN2JX4DLj0bCtiWkkbEWOOtoajInd\n",
       "VWOyj+92xYvRnCJrlUeJM0FH8SX4hMbLQfRgyHleCGBpY4h8HsDCw/6rtOtnT8HqPwZhXZAvXwNK\n",
       "AAAAAElFTkSuQmCC\n",
       "\" style=\"display:inline;vertical-align:middle;\" /></a><br>"
      ],
      "text/plain": [
       "<IPython.core.display.HTML object>"
      ]
     },
     "metadata": {},
     "output_type": "display_data"
    },
    {
     "data": {
      "text/html": [
       "<strong id=\"mult_1_6\"><a class=\"ProveItLink\" href=\"proofs/mult_1_6/thm_proof.ipynb\">mult_1_6</a> (conjecture without proof):<br></strong> <a class=\"ProveItLink\" href=\"../__pv_it/theorems/940d7050220fdf3ec095fd87eebbe211522b6b2e0/theorem_expr.ipynb\"><img src=\"data:image/png;base64,iVBORw0KGgoAAAANSUhEUgAAAFcAAAAVBAMAAADBdm84AAAAMFBMVEX////MzMxUVFRERES6uroi\n",
       "IiIQEBCYmJhmZmYyMjLu7u52dnaqqqqIiIjc3NwAAACW8nlqAAAAAXRSTlMAQObYZgAAAAlwSFlz\n",
       "AAAOxAAADsQBlSsOGwAAASJJREFUKM9jYGB4wIABsAhBAO8BTDFfXIpPA7HoAgSfe/dGBt4CDGUg\n",
       "YQauCQxcGvMRivmmMKgyMMxCVwsR5gAZch+hmPMCgzEDQwW6YogwGwOq4vNgJtsCNMUQ4ZNois0g\n",
       "BqE7GiLcjaY4U/qGA9A7CmiKIcLT0RT/LGDIYWBgnwBit4aCQBBCOAZVMdd/Boa2BQw8CagGQ4VT\n",
       "EIrXA43j+srAUO/AwPgBTTFEGEkxawPIPqBoAQMLmslQYTRnMJiCjeAJQHMzRNgWPZyBjgN60AA9\n",
       "nMHCm0DM/YhkxryBC+htjg1oiiHCokCWUv4kRCTsaBIAOt8BPb4hwgLYkuJT7CmUvQGbaDuO9GyH\n",
       "RYzPAIfixVjEmHHlK74LmGL3sCsFADL4Vqhall2mAAAAAElFTkSuQmCC\n",
       "\" style=\"display:inline;vertical-align:middle;\" /></a><br>"
      ],
      "text/plain": [
       "<IPython.core.display.HTML object>"
      ]
     },
     "metadata": {},
     "output_type": "display_data"
    },
    {
     "data": {
      "text/html": [
       "<strong id=\"mult_2_6\"><a class=\"ProveItLink\" href=\"proofs/mult_2_6/thm_proof.ipynb\">mult_2_6</a> (conjecture without proof):<br></strong> <a class=\"ProveItLink\" href=\"../__pv_it/theorems/ea86a8cbdec1653fa20696103d7d85e330f38f9d0/theorem_expr.ipynb\"><img src=\"data:image/png;base64,iVBORw0KGgoAAAANSUhEUgAAAGEAAAAVBAMAAACkm51HAAAAMFBMVEX////MzMxUVFRERES6uroi\n",
       "IiIQEBCYmJhmZmYyMjLu7u52dnaqqqqIiIjc3NwAAACW8nlqAAAAAXRSTlMAQObYZgAAAAlwSFlz\n",
       "AAAOxAAADsQBlSsOGwAAAYtJREFUOMt9kzFLw0AUx/9JTVuTNmRx6qCLutmI6Kb0CwilIIgI7SCC\n",
       "IBic3CxKNcWloCA4Bf0ARifBQVfpYEdxkIAUnKSCDi1ofJd6tTRHHuF49/73u/de7g6Ah5AJQn2W\n",
       "vg/HFiOJOvBWnf6fa7dXSFuhZdIKoNvHBqDWoJu4y3FFP8E4cDYInFc7wCu0TyBpQfYQL3FpuIEZ\n",
       "YCdcPBFTwDoQp68D+Ycrjw4b446I2HKQ9fAAyHnIH1yZ62ayRASVmzVwFMyVFlc2Mk/UkzYmIsiK\n",
       "wGngjDa40rawCSRqzK8sMSv0EdI3sBrMCxxQfeDAQaokzqFQ7jXmJE02XtLG6hewm4PUEhP7+CO2\n",
       "u82UWVVEWBgS50iw9lhVKRfvXJkNcqTywj7q0D3Mk5MBnnvnQX3QZqYoh+Qi7eCaLsaybee5EnNV\n",
       "+ldJd5DQ6Iybtl0BRqh+3/drPelmj26bkhsA5In2JIq+T20qhuhCNyMue6Isih5GvY8FQUw3o4gL\n",
       "QSwW+Wz1Rjj2ErH+F3DfYgfxLOeaAAAAAElFTkSuQmCC\n",
       "\" style=\"display:inline;vertical-align:middle;\" /></a><br>"
      ],
      "text/plain": [
       "<IPython.core.display.HTML object>"
      ]
     },
     "metadata": {},
     "output_type": "display_data"
    },
    {
     "data": {
      "text/html": [
       "<strong id=\"mult_3_6\"><a class=\"ProveItLink\" href=\"proofs/mult_3_6/thm_proof.ipynb\">mult_3_6</a> (conjecture without proof):<br></strong> <a class=\"ProveItLink\" href=\"../__pv_it/theorems/9fea526130c6279af704d1b8e50a33dbf3d80f540/theorem_expr.ipynb\"><img src=\"data:image/png;base64,iVBORw0KGgoAAAANSUhEUgAAAGEAAAAVBAMAAACkm51HAAAAMFBMVEX////MzMxUVFRERES6uroi\n",
       "IiIQEBCYmJhmZmYyMjLu7u52dnaqqqqIiIjc3NwAAACW8nlqAAAAAXRSTlMAQObYZgAAAAlwSFlz\n",
       "AAAOxAAADsQBlSsOGwAAAYxJREFUOMt9kztIA0EQhr88TOLlYRorm1j4KCwEH4WgptRCEEEEsbCw\n",
       "UUSu00YMgi8stBAEq0MrK6NVICBpxSLBKpWksbLQJkJE1Nk7PENuuSkW5t/9bv6Z3QNqeEIjNUWy\n",
       "5NVmfIlHeC0M/+fx4i1J03MssAhGsZCV9RQjR9ktlDqjBy5agcujT4jBgKwmyS9uTv+22isMwZbX\n",
       "vBCbcA0RCK/Q4RJlS60RS0fc2cSDc841PupUMnVEeYwDOFZpeMHdWe2qSnfxjI4I/lSl33M1h6du\n",
       "d6dhsg5R2+XevIo5l+CkLje15Lj6m5XxA/sWiWVdjcT95Bes2HlEfUENzKjDTpbAu47YIvFhKSKQ\n",
       "JiQsbTnlSgiTsLbGGryVlKuOT4ewY8SukZjV9GFI4aDJuFjKOK6cjqQP6XxQV2MDQjV1K1Gz6T5C\n",
       "eUNmFcu3EvFvmLbYhk7Jpg6bXmJhNy0tZVuAYG+jj0D/oehtad2DfvF57NGcTj3w+z8mNFpq0I+4\n",
       "0mgh3982VfFqzz7nfwHJfmgZPX0KJwAAAABJRU5ErkJggg==\n",
       "\" style=\"display:inline;vertical-align:middle;\" /></a><br>"
      ],
      "text/plain": [
       "<IPython.core.display.HTML object>"
      ]
     },
     "metadata": {},
     "output_type": "display_data"
    },
    {
     "data": {
      "text/html": [
       "<strong id=\"mult_4_6\"><a class=\"ProveItLink\" href=\"proofs/mult_4_6/thm_proof.ipynb\">mult_4_6</a> (conjecture without proof):<br></strong> <a class=\"ProveItLink\" href=\"../__pv_it/theorems/a65a19205fd209c610926dac44e9d4969aa2ff310/theorem_expr.ipynb\"><img src=\"data:image/png;base64,iVBORw0KGgoAAAANSUhEUgAAAGEAAAAVBAMAAACkm51HAAAAMFBMVEX////MzMxUVFRERES6uroi\n",
       "IiIQEBCYmJhmZmYyMjLu7u52dnaqqqqIiIjc3NwAAACW8nlqAAAAAXRSTlMAQObYZgAAAAlwSFlz\n",
       "AAAOxAAADsQBlSsOGwAAAZJJREFUOMt9k79Lw0AUx7+hpj+SJnYRBZcScBJtQXRTi7sggpugFBEE\n",
       "wYy6aFGqBRepguAU8A8wOgkurtLBLoJTCWhxEsRf4CDxXfrj5C7kDXm59+7zfty7A+BBkhDTPzFu\n",
       "ZdtsJFFjnwG+1m8uYdjiLrNynCGllADtiBnmuesEQ8CZSDxB/ySlZoEkC2dwIlXHGLApEqPAKqkH\n",
       "IuJs3V/tuu4d9o07ArHhIOdB2SLijq1dTky0MomNUKW5DPQUEYesKI8Ta4OPBWo/Kx/REtBgxCn9\n",
       "v4ATPzbWgURwHuUFJu0elV+YNiMWWVGc0Hxg30F6WUpBx6SDESsU0GsRFxRY+wJ2ClDeJGIP2O4Q\n",
       "r2gRaolVRYSNHilHIguzjnZVM5b1PdzxjAc50nNiHzWYz5aVK7qYDNZFPg/qgyLmhRSKC4NmFKcc\n",
       "V4Hho+uKuRqdVdIViGalUibVS5H6gq78ka7vepeunFoQh+H71GFy+r0ONRN2oZsRlz1RCrMeRL2P\n",
       "qRCbmY8izkNsschnS3ORpBGx/w8NVFkusoxbcQAAAABJRU5ErkJggg==\n",
       "\" style=\"display:inline;vertical-align:middle;\" /></a><br>"
      ],
      "text/plain": [
       "<IPython.core.display.HTML object>"
      ]
     },
     "metadata": {},
     "output_type": "display_data"
    },
    {
     "data": {
      "text/html": [
       "<strong id=\"mult_5_6\"><a class=\"ProveItLink\" href=\"proofs/mult_5_6/thm_proof.ipynb\">mult_5_6</a> (conjecture without proof):<br></strong> <a class=\"ProveItLink\" href=\"../__pv_it/theorems/88f55371453ee5e9e61428644674d298079bf3af0/theorem_expr.ipynb\"><img src=\"data:image/png;base64,iVBORw0KGgoAAAANSUhEUgAAAGEAAAAVBAMAAACkm51HAAAAMFBMVEX////MzMxUVFRERES6uroi\n",
       "IiIQEBCYmJhmZmYyMjLu7u52dnaqqqqIiIjc3NwAAACW8nlqAAAAAXRSTlMAQObYZgAAAAlwSFlz\n",
       "AAAOxAAADsQBlSsOGwAAAaZJREFUOMt9kz1Iw1AQx/+afqSvaamDk4hVENei6CCoWXQTi1AnERUX\n",
       "QWgWP7aWip9dOgiiU8BFXKy6iF2yikOLgxQEdRHc1KFosVgvUdP2JeSGkLt7v/t4dw/AEyxiY6qT\n",
       "gIYQWOOZcUfiBogfxFRT9+fOEFD4U8HcugzkihSZZYCp0lXNtYdu4JAnjiFV4NPYDCBSuHCdy1dA\n",
       "H7DGE48aK2MZuAA8aCTyRn0elSPGZJTRa7ivOWLgN5OlEUgf+AQ6NKRJ6bnvNB2LbUVq0R+2EKMK\n",
       "0wkF+6QM4lX+d5QVLAHejP6/EdNl0rC3d4WCX0QUMG3oQvQPYFVgU4U0a62qYhBZLBiq+E2fUwrM\n",
       "SkBCRtObdXDxEyImCjohZCC+k8md1KsiQoGLz9ECjGjUR17Tq/JE0WzG7DdySFGuj6pKBA0qoWKI\n",
       "LoagiDkP6oM6j3A55qkqdQXYAc5pMZK4MycmZBndlZjliFV9Hm6NzQGtpL6kdmu+y1SIWpI5wrVN\n",
       "m8jSt7ovZLfQzw7L7k3aWbec3sewjS0YcSKObGyC47MNFqy2B4fzPzmLamK7MKanAAAAAElFTkSu\n",
       "QmCC\n",
       "\" style=\"display:inline;vertical-align:middle;\" /></a><br>"
      ],
      "text/plain": [
       "<IPython.core.display.HTML object>"
      ]
     },
     "metadata": {},
     "output_type": "display_data"
    },
    {
     "data": {
      "text/html": [
       "<strong id=\"mult_6_6\"><a class=\"ProveItLink\" href=\"proofs/mult_6_6/thm_proof.ipynb\">mult_6_6</a> (conjecture without proof):<br></strong> <a class=\"ProveItLink\" href=\"../__pv_it/theorems/5f955d90466c0d3b4dbe6cadd6cce53d7b4c5b5c0/theorem_expr.ipynb\"><img src=\"data:image/png;base64,iVBORw0KGgoAAAANSUhEUgAAAGEAAAAVBAMAAACkm51HAAAAMFBMVEX////MzMxUVFRERES6uroi\n",
       "IiIQEBCYmJhmZmYyMjLu7u52dnaqqqqIiIjc3NwAAACW8nlqAAAAAXRSTlMAQObYZgAAAAlwSFlz\n",
       "AAAOxAAADsQBlSsOGwAAAYhJREFUOMt9kz9Iw0AUxj9N29SY/nFwEkEF94LoImoW3YQiuDkUcVEE\n",
       "s+lm8W/BpUKhIAgBQcSl1UkIQldxaEcndXFw66CUSqG+y52x3IUcJOS+333v3ru8A/AOZQRIPSNR\n",
       "U7XlUMczPa6b9ueD7h0Strwq6R5anMEoAp9Wf9ZHJUwCF7LjBmZHsDiFu4SW+UMDDUwBe7LjrWa0\n",
       "BYsB5k8PqjvsHXMkx5KFtmBPgJbrQTN8J6UQmC3Bzijg+eORDzZHXliJY4pj0RasDKTKiPlH3Lax\n",
       "DehF9n28ysaKp49OpAVbAypNxLeEwegCJw7MnJpVR7ANcmShf5FWocDGN7Bvoa+p/ridW87IkSpC\n",
       "b5EUzbOsSLURkfcYAhZqnFFWmtjDG9NeHDMr1dF1yMHZHGVIdfgx65QrVZ6R9linrBzO7mk6i2v/\n",
       "rLSqQecRr0qOXfY/OBtmzVcY/2cPB9SVUUtyRAqsEzlLBzX0R0iz6/kg9TTsfswHaMlMmOMqQNNC\n",
       "r22yoWqvIet/AcP3aOr8VerWAAAAAElFTkSuQmCC\n",
       "\" style=\"display:inline;vertical-align:middle;\" /></a><br>"
      ],
      "text/plain": [
       "<IPython.core.display.HTML object>"
      ]
     },
     "metadata": {},
     "output_type": "display_data"
    },
    {
     "data": {
      "text/html": [
       "<strong id=\"mult_7_6\"><a class=\"ProveItLink\" href=\"proofs/mult_7_6/thm_proof.ipynb\">mult_7_6</a> (conjecture without proof):<br></strong> <a class=\"ProveItLink\" href=\"../__pv_it/theorems/f8c7f419d4fa38951f12300cae777270637e0a040/theorem_expr.ipynb\"><img src=\"data:image/png;base64,iVBORw0KGgoAAAANSUhEUgAAAGEAAAAVBAMAAACkm51HAAAAMFBMVEX////MzMxUVFRERES6uroi\n",
       "IiIQEBCYmJhmZmYyMjLu7u52dnaqqqqIiIjc3NwAAACW8nlqAAAAAXRSTlMAQObYZgAAAAlwSFlz\n",
       "AAAOxAAADsQBlSsOGwAAAZdJREFUOMt9k79Lw0AUx7/p7yZp7OLkEgquJiCKi5p/QBDFTaiICELB\n",
       "jOqgRakGXAoWBKeAf4Cpk+LiKg7tIjiVgtRZiopFJN5dbVJzIW9I8t73PnfvvbwD0AZnIaEhy90r\n",
       "e8HYQiTxCNl13U/Pl+7qyJn8OqEMxTrLA2IV0oxlrQ4EpYZx4IInkipeIL0DGRMSWVceCNkmJoEd\n",
       "nnhSMQFsAilABmKe0LDpM2VzSe2q2LahtfHA/LqnTPdP4gqRsipNV8vjlCWve8rW2LNBdDVItLIs\n",
       "VATO6TtmeErPRAlIV+l3ZYXaEtvTZITwA7AmvXqA6ALHNuS1YFJgBGkYNqh/y6JXZGPxAzgwILwF\n",
       "iP0+cYQ/YrnfcdriHiFMJAJnKE1GpClFsxK7vjbFzpAX/9eRKBS0dYfMh9LGLPW/fKJB6iCb6dwf\n",
       "TKkQHORsXBNH/vaFuCOSXmUcjhjR0bGsCjBKsywNKTeHZNqSRhDIzHebRdclZSbzYQPdiRj2dDks\n",
       "ehJ1P+ZCYooeRVyGxOKR15b8HM5aEet/Aa/KWBZGqBdJAAAAAElFTkSuQmCC\n",
       "\" style=\"display:inline;vertical-align:middle;\" /></a><br>"
      ],
      "text/plain": [
       "<IPython.core.display.HTML object>"
      ]
     },
     "metadata": {},
     "output_type": "display_data"
    },
    {
     "data": {
      "text/html": [
       "<strong id=\"mult_8_6\"><a class=\"ProveItLink\" href=\"proofs/mult_8_6/thm_proof.ipynb\">mult_8_6</a> (conjecture without proof):<br></strong> <a class=\"ProveItLink\" href=\"../__pv_it/theorems/ffdf30a1c127255d31bc47348153b99f3dd831fb0/theorem_expr.ipynb\"><img src=\"data:image/png;base64,iVBORw0KGgoAAAANSUhEUgAAAGEAAAAVBAMAAACkm51HAAAAMFBMVEX////MzMxUVFRERES6uroi\n",
       "IiIQEBCYmJhmZmYyMjLu7u52dnaqqqqIiIjc3NwAAACW8nlqAAAAAXRSTlMAQObYZgAAAAlwSFlz\n",
       "AAAOxAAADsQBlSsOGwAAAahJREFUOMt9kztIw1AUhv++0zSNRXByCQXRQWhBdBBsuzoIIriJiLgo\n",
       "ItmsgxpEbUFBB0HoFHASh1anYkG6ikOzCJ1KQZwVpYJQqeemNNbckDMEzn/ud8/rBkATnDlIfRat\n",
       "8tqcK/EE3FQO//xI5RZRlT/n0SBWyhlAPAc0eK1E8gVGgAJPBBQIwDggqAipJte1sIEJIMsTzwq2\n",
       "gWsgSHUofURNZ9+gzhW1o+DOJB4B6VMXrMKnupm4RiJhBbVp5IAT8hI/p1ZkfbieMdParEGEt1On\n",
       "fi/JEzrLVuRbxSYQMqs8WmS2YA5EJQJnLdrUEhvwS6c3K7EDHOuQVuxFgQjpId0G1uhCDbUNUot0\n",
       "sdgC9jPwvNuIPUZkIX3pjKDByG02cY1VRYQKvy2HbDCCrn2rsqqKJI32YpNmDmn+fx/+eDyxek+J\n",
       "vSpmKAe1k7L2QX1QoUlug0EFW4CvybbiLyBk9AK+kkizEkocMZDErI5dYIicwXzfSywfxKiljB0Q\n",
       "0h+GZyxPeiDm9KBfXR57SHNSc27/R8pBk5NuxJWD5nP9bWWD1xou538Bb9ZlPsQ+3gUAAAAASUVO\n",
       "RK5CYII=\n",
       "\" style=\"display:inline;vertical-align:middle;\" /></a><br>"
      ],
      "text/plain": [
       "<IPython.core.display.HTML object>"
      ]
     },
     "metadata": {},
     "output_type": "display_data"
    },
    {
     "data": {
      "text/html": [
       "<strong id=\"mult_9_6\"><a class=\"ProveItLink\" href=\"proofs/mult_9_6/thm_proof.ipynb\">mult_9_6</a> (conjecture without proof):<br></strong> <a class=\"ProveItLink\" href=\"../__pv_it/theorems/3577214e58dcf0b5fbccbd57014626f8db6e39de0/theorem_expr.ipynb\"><img src=\"data:image/png;base64,iVBORw0KGgoAAAANSUhEUgAAAGEAAAAVBAMAAACkm51HAAAAMFBMVEX////MzMxUVFRERES6uroi\n",
       "IiIQEBCYmJhmZmYyMjLu7u52dnaqqqqIiIjc3NwAAACW8nlqAAAAAXRSTlMAQObYZgAAAAlwSFlz\n",
       "AAAOxAAADsQBlSsOGwAAAaRJREFUOMt9k79Lw0AUx79tmv5I27QIughSCoK4NCAqDmr/AUEEl6pQ\n",
       "tA4WwYw6qEVQCw52UASngIuTrZ2ELq4iYhZBEEoXwVGlIhVF37VNKpeQW97jffO573t3OQA1WJZN\n",
       "6d8KX1trU5aKC7gw8lvAnx/saMHKJcIqT3gbxykG5gCpAGkBPWYf8hH6gVOeENfmNBZitL8KdxqC\n",
       "YkgBHUPAOk+4W+GBCC8QKSD4ZUj3WrMJzZZwbRBxAxQVhOuGNNJyUm2JYICIg5bHpyGt9D4mSYrx\n",
       "xGY5ClQZcYLmHD+G1FCxCvgKLN+dZWuGpYIm1yGrjJin48qg67sNSL/AnoZQ2npJwwiCERnKz5/u\n",
       "3igUaWPpA9hOwvVqJQ5rWyaB1lmJOdYVESo8vMcYEX062l2xNpWON/MITXNzLAMJTzyeWCxhHAhl\n",
       "UYya90Fz0OQK51ECltg9kUeZ/sUURk1JKEl0Vv4SR7wgnKUQoZ26KVbyyY52tUN+YpIj5PwA/Qb+\n",
       "yXcdYtTuCTw7PA9fzq667/SiJmxqsuJEnNnUBMdnK+vWWtXh+z8WPVmv2kv8BAAAAABJRU5ErkJg\n",
       "gg==\n",
       "\" style=\"display:inline;vertical-align:middle;\" /></a><br>"
      ],
      "text/plain": [
       "<IPython.core.display.HTML object>"
      ]
     },
     "metadata": {},
     "output_type": "display_data"
    }
   ],
   "source": [
    "mult_0_6, mult_1_6, mult_2_6, mult_3_6, mult_4_6, mult_5_6, mult_6_6, mult_7_6, mult_8_6, mult_9_6 = [Equals(Mult(num(n), num(6)), num(n*6)) for n in range(10)]"
   ]
  },
  {
   "cell_type": "code",
   "execution_count": 35,
   "metadata": {},
   "outputs": [
    {
     "data": {
      "text/html": [
       "<strong id=\"mult_0_7\"><a class=\"ProveItLink\" href=\"proofs/mult_0_7/thm_proof.ipynb\">mult_0_7</a> (conjecture without proof):<br></strong> <a class=\"ProveItLink\" href=\"../__pv_it/theorems/a42f0b65f244f03ffd074efea5de001eec483fae0/theorem_expr.ipynb\"><img src=\"data:image/png;base64,iVBORw0KGgoAAAANSUhEUgAAAFcAAAAVBAMAAADBdm84AAAAMFBMVEX////MzMxUVFRERES6uroi\n",
       "IiIQEBCYmJhmZmYyMjLu7u52dnaqqqqIiIjc3NwAAACW8nlqAAAAAXRSTlMAQObYZgAAAAlwSFlz\n",
       "AAAOxAAADsQBlSsOGwAAAXRJREFUKM91k79Kw1AUxr/SxtQkjVmcreADBJ0VX0BaBLciEXyALoqb\n",
       "WYqVgnQTxCEgiluCjlLIKg4NTk4iiH823RSr1HNampCbmwu5nPvll++ec3MugCdkhkQaj0qYWr55\n",
       "NK3lwXeA3juKl/3hcOhUmhns5oG207rAKc7jja/b7VaIE5GdDrVNoNyEWoduT9QAeAf2RHiHbIAp\n",
       "oFiF8TNRqYIqqZ4AL1KCHm6BGReF30TXLdpVTPobmAvRAXyCvxL9mT+oplmN4SaOgY8Ahb/kxQI9\n",
       "apej1gaPdYrMAcERGmN4ELOmQ5PhpJ1HcIBtSiNAiZ39kZ3Oc+FTSIPgWsQwFWhwgYrLusKnWHKy\n",
       "BfZDTqNoQ42PDj7XZtTTOWMJ2PewTNU4KHdjuMb+qi047wKHwBVFDVxYSXPQP0Q5EGAl1LaAWYou\n",
       "e/OJ/MpdqKwKsNa5Jz/FkrXii7xDVVemHuT084pEM+0c+EyiFfPulRlltUc5+g+xOVz1x0wsxgAA\n",
       "AABJRU5ErkJggg==\n",
       "\" style=\"display:inline;vertical-align:middle;\" /></a><br>"
      ],
      "text/plain": [
       "<IPython.core.display.HTML object>"
      ]
     },
     "metadata": {},
     "output_type": "display_data"
    },
    {
     "data": {
      "text/html": [
       "<strong id=\"mult_1_7\"><a class=\"ProveItLink\" href=\"proofs/mult_1_7/thm_proof.ipynb\">mult_1_7</a> (conjecture without proof):<br></strong> <a class=\"ProveItLink\" href=\"../__pv_it/theorems/bf0fc5a80bde370c46b9f5212b3cce4814d6e7af0/theorem_expr.ipynb\"><img src=\"data:image/png;base64,iVBORw0KGgoAAAANSUhEUgAAAFgAAAAVBAMAAAAwfTS1AAAAMFBMVEX////MzMxUVFRERES6uroi\n",
       "IiIQEBCYmJhmZmYyMjLu7u52dnaqqqqIiIjc3NwAAACW8nlqAAAAAXRSTlMAQObYZgAAAAlwSFlz\n",
       "AAAOxAAADsQBlSsOGwAAARtJREFUKM9jYGB4wIABsAhBAO8BFO7zBUDCF0MVWJiB4TQQiy6Ai57/\n",
       "//9/Am8BumKwMAPXBAYujfkIxZs7OloPMMxCVwwR5gAZch+heAMDwwsGhgp0xRBhNgZUxUAfKABF\n",
       "F6AphgifRFPMwMAtwMDAieFosHA3huLHIBkFDMUg4ekYilWAmH0CiNUaCgJBCOEYdMV8CUCCJwHd\n",
       "YLBwCkLxerBx3CCS8QOGkyegKmZtAJMGQIIFw2SwMIYz1oP8xhOA7mawsC26Yn+Q+ewG6CaDhTeB\n",
       "WPuRktl5YGQxcGzASBwgEVEgVsqfhIiEZ6BUyOqArhgiLIAt3T7FnpzZG7CJtuNI/HZYxPgMcChe\n",
       "jEWMGVe+4ruAKXYPu1IAlqRVcg5yAw4AAAAASUVORK5CYII=\n",
       "\" style=\"display:inline;vertical-align:middle;\" /></a><br>"
      ],
      "text/plain": [
       "<IPython.core.display.HTML object>"
      ]
     },
     "metadata": {},
     "output_type": "display_data"
    },
    {
     "data": {
      "text/html": [
       "<strong id=\"mult_2_7\"><a class=\"ProveItLink\" href=\"proofs/mult_2_7/thm_proof.ipynb\">mult_2_7</a> (conjecture without proof):<br></strong> <a class=\"ProveItLink\" href=\"../__pv_it/theorems/b120b876f94e64a66bb13eeb5444478947f270ef0/theorem_expr.ipynb\"><img src=\"data:image/png;base64,iVBORw0KGgoAAAANSUhEUgAAAGEAAAAVBAMAAACkm51HAAAAMFBMVEX////MzMxUVFRERES6uroi\n",
       "IiIQEBCYmJhmZmYyMjLu7u52dnaqqqqIiIjc3NwAAACW8nlqAAAAAXRSTlMAQObYZgAAAAlwSFlz\n",
       "AAAOxAAADsQBlSsOGwAAAXNJREFUOMtjYGB4wIABsAghAd4DKNznC4CEL14dpxkYXnQawrnn////\n",
       "n8BbgKGMMQpMNjAwcE1g4DNg2O8Ak9nc0dF6gGEWuoZFnb9AFKsCAwNHAQPTAwa2BJjUBqCVDAwV\n",
       "mI4H67gK1MEGRL8YmP7BZIC+AokuwKqDsRIod5KBgSmAgekjQo5bgIGBswCrDm5OoI5uMJ/1A0Lu\n",
       "MUhKAauOeyAd08F8+QsIORUgZp8AYrWGgkAQXAdfAUhHDJgfhNDABwoEngRsdnAzgHSkgLgcBiBy\n",
       "PdhgbhDJ+AGbjjqEjiKIZxrAJEg3CzY7+C4wwFzFs4HhHVxqPcjTPAFY/MGipKSftIHBFsiTZmC4\n",
       "BdfhD7KJ3QB7DLIBjdsE9GtER0cAImFtAHlsA7oObnAc8wNNEgW6HJj4JsClnoHSMqsDmgYmtZ/q\n",
       "QIPsP11gYBXAlqCf4kns7A3YRNvx5Q87LGJ8Bvh0LMYixow32/JdwBS7h0c9AKVWWhjAXXhuAAAA\n",
       "AElFTkSuQmCC\n",
       "\" style=\"display:inline;vertical-align:middle;\" /></a><br>"
      ],
      "text/plain": [
       "<IPython.core.display.HTML object>"
      ]
     },
     "metadata": {},
     "output_type": "display_data"
    },
    {
     "data": {
      "text/html": [
       "<strong id=\"mult_3_7\"><a class=\"ProveItLink\" href=\"proofs/mult_3_7/thm_proof.ipynb\">mult_3_7</a> (conjecture without proof):<br></strong> <a class=\"ProveItLink\" href=\"../__pv_it/theorems/34c095138a44dec4ddb37de634c308540207867a0/theorem_expr.ipynb\"><img src=\"data:image/png;base64,iVBORw0KGgoAAAANSUhEUgAAAGAAAAAVBAMAAABLWfZ5AAAAMFBMVEX////MzMxUVFRERES6uroi\n",
       "IiIQEBCYmJhmZmYyMjLu7u52dnaqqqqIiIjc3NwAAACW8nlqAAAAAXRSTlMAQObYZgAAAAlwSFlz\n",
       "AAAOxAAADsQBlSsOGwAAAX9JREFUOMt9k79Lw0AUx7+xP1KbJs3iHsEfm83gqji6iCKIIIIdiqsZ\n",
       "HQNSjLgUHASnoH9Agy6OXaVDxT9AClIVXBxcWqrxXU6T9pLmQY577+5z7/vuXgB0EbOEUGRqa8x9\n",
       "c2nYSAPawMf9cuh2fN+vqpa4S3MudEDaA4oNFG10wjR3jlNv4UoEXqB84fpsABQsqEM0G/8rHvAO\n",
       "HIvAEnBI8gnIA9kayiFAqQyKugJw5KLSDYAHrnxEtEJip8Ui5oGKHgDnzM3ujsklyIjfzgGXdElT\n",
       "6Wl2ZGGOPjmQWN9hts3D0jcH9rmk6DG0Kg2laixBzuBALfDyNPu7KoWN0mcMOEEISDoyQ3aGHZxk\n",
       "sqJiGWQDoaTygAPcmmyltCXW0IbGr3WF9BhcErdNlkc2hQSSB9UNgFtatUbfoUNvjYInAD3qGKrv\n",
       "B5ghb92Jmg+v7MJya+Ij+H4fUwv9ReT0pBbuTe5u2U6Knqb8D6sJMc1MAW4SYpm0f1R7jMeeJ2//\n",
       "BSDMYn0RHvZkAAAAAElFTkSuQmCC\n",
       "\" style=\"display:inline;vertical-align:middle;\" /></a><br>"
      ],
      "text/plain": [
       "<IPython.core.display.HTML object>"
      ]
     },
     "metadata": {},
     "output_type": "display_data"
    },
    {
     "data": {
      "text/html": [
       "<strong id=\"mult_4_7\"><a class=\"ProveItLink\" href=\"proofs/mult_4_7/thm_proof.ipynb\">mult_4_7</a> (conjecture without proof):<br></strong> <a class=\"ProveItLink\" href=\"../__pv_it/theorems/8cfe41c1337ed6196c6f4b3b53a196ab1683027a0/theorem_expr.ipynb\"><img src=\"data:image/png;base64,iVBORw0KGgoAAAANSUhEUgAAAGEAAAAVBAMAAACkm51HAAAAMFBMVEX////MzMxUVFRERES6uroi\n",
       "IiIQEBCYmJhmZmYyMjLu7u52dnaqqqqIiIjc3NwAAACW8nlqAAAAAXRSTlMAQObYZgAAAAlwSFlz\n",
       "AAAOxAAADsQBlSsOGwAAAZdJREFUOMt9Uz1Iw1AQ/tIaU9skZBEdS1EQ/GlnQS1uDqIIboJFxMFB\n",
       "u+kiFKS04KDUQXAKODm11EUQpKt0qKOTBKQqgiioBUGJ914lTV9CHuTgvst3d9+9ewAseI4P5Dpa\n",
       "rct9MsnMBzLqzAw6bsO27YyWFf/Si8cGoleXaSB6xIAlJ3RRLOZrOBUZD4h9IgKMARGWTuswKsAz\n",
       "sCsyJoAN7ADnQC/zB0pOiFTFCTUFxraJpFXljBueuOQKxgygTxQyDCSNxiQKwAFryip1tUysuHdE\n",
       "qwjZd9TCCZso3Iwh+hQ+j/wyO/8apV/g8ItuaoWrdTH0DBk14ykhx6Fez/wA65TQajPKPHGMWend\n",
       "w9hnE1RbJmO8os2Qc9ymyPR4aiikbBN4q7GuZhOJ1qgTKjPR6qKoow79hQqHspji/lon2QKrpKSE\n",
       "ElIFmrkFhC1UOfDRiTXo1hGpCIwmLQ/mTOwB/VyVPe7EHtkuy2nxMmz7G9JIkXDZ8FvoZsCyKzk/\n",
       "tBD0PqZ9MD0VxDjzwcKBz1a/9WL3Af//AfozZOir/ebVAAAAAElFTkSuQmCC\n",
       "\" style=\"display:inline;vertical-align:middle;\" /></a><br>"
      ],
      "text/plain": [
       "<IPython.core.display.HTML object>"
      ]
     },
     "metadata": {},
     "output_type": "display_data"
    },
    {
     "data": {
      "text/html": [
       "<strong id=\"mult_5_7\"><a class=\"ProveItLink\" href=\"proofs/mult_5_7/thm_proof.ipynb\">mult_5_7</a> (conjecture without proof):<br></strong> <a class=\"ProveItLink\" href=\"../__pv_it/theorems/c41fa1fe3253aa2017d87f15a49351e04dc765a90/theorem_expr.ipynb\"><img src=\"data:image/png;base64,iVBORw0KGgoAAAANSUhEUgAAAGEAAAAVBAMAAACkm51HAAAAMFBMVEX////MzMxUVFRERES6uroi\n",
       "IiIQEBCYmJhmZmYyMjLu7u52dnaqqqqIiIjc3NwAAACW8nlqAAAAAXRSTlMAQObYZgAAAAlwSFlz\n",
       "AAAOxAAADsQBlSsOGwAAAZ9JREFUOMt9kz1Iw0AUx/9tmrT2I8TBUagi6GYWBwU1i25iEeqgDsWP\n",
       "xaXddBGKUgw62EVEp4CLky110yWrONTJRdCCqN1UUKRQjO+Cbeol5OBe7n383r2XuwNQg2t4mDpG\n",
       "woSCaDvm1SAx4x0aAM7pcwNkj9NGy1q1LCuTyPHB8tWOBqlxuABEi8D812XbdaHrBRMnPHGGeBNi\n",
       "dpEyRyhdssNVBurAJk88mtEGgvZSwn/CtFXJ4IhpDS3imiOAmAJ0uRpB/PuP2Kc5eN/X4XpiVNJF\n",
       "TOUQ3KpQtiNSxvCmOa4BmuEiWxXSbMzZ1t5+BYIhfwJLti6knP+YYSVk3FU1mRwBVm018kOiZCeO\n",
       "MRl4d59flv2NgxojhCIiH6SJeeYQVRIhfo9uYNIcJUJhVUkpBJ2cJdZ0PMX1YRlErAHDwDjVQZDa\n",
       "JmbZTmGV22OZVUWnuwJUqNc87pwTq5ZZX2WO2GDnUUdiHeghtb695/heTNaMxhEhnW6irA9RZlHx\n",
       "utfPPs8jnPey7vq9qAkPm6z6EaceNsH32cq3btuDT/wvVXRgV28CKEkAAAAASUVORK5CYII=\n",
       "\" style=\"display:inline;vertical-align:middle;\" /></a><br>"
      ],
      "text/plain": [
       "<IPython.core.display.HTML object>"
      ]
     },
     "metadata": {},
     "output_type": "display_data"
    },
    {
     "data": {
      "text/html": [
       "<strong id=\"mult_6_7\"><a class=\"ProveItLink\" href=\"proofs/mult_6_7/thm_proof.ipynb\">mult_6_7</a> (conjecture without proof):<br></strong> <a class=\"ProveItLink\" href=\"../__pv_it/theorems/7e3c2f8fda12f4e1da9f8023c7a2da325c1ee2f50/theorem_expr.ipynb\"><img src=\"data:image/png;base64,iVBORw0KGgoAAAANSUhEUgAAAGEAAAAVBAMAAACkm51HAAAAMFBMVEX////MzMxUVFRERES6uroi\n",
       "IiIQEBCYmJhmZmYyMjLu7u52dnaqqqqIiIjc3NwAAACW8nlqAAAAAXRSTlMAQObYZgAAAAlwSFlz\n",
       "AAAOxAAADsQBlSsOGwAAAZhJREFUOMt9k79Lw0AUx78xbZOaNu3iHouuNruo/QfEIrgJLSIOLnbU\n",
       "RQpaDLhUHAqCEBC6NuhYhK7i0C6upVDqj62IIAoS312tTXMhD+7Ive993r337gKgB8ECXB5LtqaW\n",
       "LzZN66HEI41mMz1etl3XLSZL4j6pDN26pH2zVeAtN5MfC3eWVWnhSiSiBvrQPgCVwl1DNseCA7wC\n",
       "hyLxZGAJ2ANiQOLbI1BVBnltIakjAwc2sj08AHJxStMo17hQiBY3sAhk0zingBf3px6tz3TDT3Tj\n",
       "3FUAakCqhpinxQs0lCr7qmwx22SfeokT0g+wDTSGUPf/AZ3lmCj6kwInqGHYJSIPhbqGBg+ssVka\n",
       "+ojjEXECTqSqUD5ZgDLvO2t0xHeG3uGEwijKSv47Y2QN5k3kp+uIZDLZHYfeh97DCslUxyTmBjtJ\n",
       "MYUbjBmQHCRt3NJiGfVJr9p061AdgUiZGNALAuZYsdb8RHlmcDTnB9S1907Bdb9ISwc96EHIY1fK\n",
       "Qd6zsP9jNcCnm2HETYBPDv1t6XIE64bs/wVqXl0vUN4FpwAAAABJRU5ErkJggg==\n",
       "\" style=\"display:inline;vertical-align:middle;\" /></a><br>"
      ],
      "text/plain": [
       "<IPython.core.display.HTML object>"
      ]
     },
     "metadata": {},
     "output_type": "display_data"
    },
    {
     "data": {
      "text/html": [
       "<strong id=\"mult_7_7\"><a class=\"ProveItLink\" href=\"proofs/mult_7_7/thm_proof.ipynb\">mult_7_7</a> (conjecture without proof):<br></strong> <a class=\"ProveItLink\" href=\"../__pv_it/theorems/635a8cf99d9d6976a459a09cd0fb0782bfb918bc0/theorem_expr.ipynb\"><img src=\"data:image/png;base64,iVBORw0KGgoAAAANSUhEUgAAAGEAAAAVBAMAAACkm51HAAAAMFBMVEX////MzMxUVFRERES6uroi\n",
       "IiIQEBCYmJhmZmYyMjLu7u52dnaqqqqIiIjc3NwAAACW8nlqAAAAAXRSTlMAQObYZgAAAAlwSFlz\n",
       "AAAOxAAADsQBlSsOGwAAAYxJREFUOMt9Uz1Lw1AUPel3Phq7uIcirg24uGjzB0RR3ByKOIpkVAcp\n",
       "YjEgQjfBKSC6tuqiIJhJEIdm6doKYnXUCqI41HdTKs+8kAt55Nzzzn334z0AjxAswsVZ3tO3Ofji\n",
       "smUuVvEAbTAYfI5gi4FK3hb3SVXA2WXxlDrUacdZGRGXjlPzcCwq0gZOfWkDyNlQAb06IprAK7Ap\n",
       "KtoGJoEpIANoQOKP8ACDeV0hqS0D38Cti/sAn3OcWgBkoRBVNpQPoGvhgKBuctwT8UZY0ZGHZ9g4\n",
       "IpiwOG6Cfdk6/dWWyRaDmLYc1FH2ETSpxwn0Clu0SjgpMMWZJZU8rBG+DryNILBKq/QWUuyQQjm8\n",
       "6RaGiqVhx4MWp6mmVOgM3ScFgl5RVkqfIxvEaAv/60gVi6VVNiqaxwzhL04xTydlTWGCGQN3rvIO\n",
       "XFDEH45pUahcU1CMmWi7STanccpynWN6HhVjhQW5ct9Xr/aIK0Rd6OeYy56tRnn3497HbIRPN+MU\n",
       "JxG+ZOyzZcMRrBOz/xfvnl0pPsT6VAAAAABJRU5ErkJggg==\n",
       "\" style=\"display:inline;vertical-align:middle;\" /></a><br>"
      ],
      "text/plain": [
       "<IPython.core.display.HTML object>"
      ]
     },
     "metadata": {},
     "output_type": "display_data"
    },
    {
     "data": {
      "text/html": [
       "<strong id=\"mult_8_7\"><a class=\"ProveItLink\" href=\"proofs/mult_8_7/thm_proof.ipynb\">mult_8_7</a> (conjecture without proof):<br></strong> <a class=\"ProveItLink\" href=\"../__pv_it/theorems/573ebcd2aee61332a93af8326c749b497970c3880/theorem_expr.ipynb\"><img src=\"data:image/png;base64,iVBORw0KGgoAAAANSUhEUgAAAGEAAAAVBAMAAACkm51HAAAAMFBMVEX////MzMxUVFRERES6uroi\n",
       "IiIQEBCYmJhmZmYyMjLu7u52dnaqqqqIiIjc3NwAAACW8nlqAAAAAXRSTlMAQObYZgAAAAlwSFlz\n",
       "AAAOxAAADsQBlSsOGwAAAaZJREFUOMt9U79Lw0AU/tpaU/sjBMHJpYOimwWp4GDpPyCK4KIiBXWw\n",
       "CGZ0EYNYDSjUQRE6BRwFG+sidOkqDunoJEJRi5OgDgUlvjsxjZeQB/e4++6++969dw/AIzzmA7ks\n",
       "1fi3fDHITXtOhYDLv/kdcFHfc7Ys27YLKVVk9HZOF4BE/QqIHwMawo7Qta6XGqiIjOjmogH5BMNA\n",
       "TIWkct6vmUAb2BIZYeb6mhgnOdJKuxgklibU8GNYHL0Fku9GzBV4QqHbVD/GBJ8e0hj7PnJttsBl\n",
       "BcZ2TcH64H0eOKNlzF52bQ7RkHiUpXlmc2waMeQPdFRsAEsswS27WxS5QC5Z8BYuG7eBfQOrdKEG\n",
       "q0hQlV+cYD705mWUXz+BnTxjUGLkL5ZzjWc+Q65H1JgkhtIhhsqiqhIy4uxV2aOTs8I71ig/yHKN\n",
       "KdKgj5dzGDNMScoIGlTYFVj0DqBGIVQgNbsfy2TZMwVGG6kiImaccjVAy369+xPxzNIWzQsMWR+l\n",
       "gt/sUnWjil8LPAW0h6T5oQdBHZXzweRMEOPcB4sEtq3c9GIPAed/AC7jZTesCAskAAAAAElFTkSu\n",
       "QmCC\n",
       "\" style=\"display:inline;vertical-align:middle;\" /></a><br>"
      ],
      "text/plain": [
       "<IPython.core.display.HTML object>"
      ]
     },
     "metadata": {},
     "output_type": "display_data"
    },
    {
     "data": {
      "text/html": [
       "<strong id=\"mult_9_7\"><a class=\"ProveItLink\" href=\"proofs/mult_9_7/thm_proof.ipynb\">mult_9_7</a> (conjecture without proof):<br></strong> <a class=\"ProveItLink\" href=\"../__pv_it/theorems/7705e55c874b4a0433662c79dc49ad6a3fbb7b2d0/theorem_expr.ipynb\"><img src=\"data:image/png;base64,iVBORw0KGgoAAAANSUhEUgAAAGEAAAAVBAMAAACkm51HAAAAMFBMVEX////MzMxUVFRERES6uroi\n",
       "IiIQEBCYmJhmZmYyMjLu7u52dnaqqqqIiIjc3NwAAACW8nlqAAAAAXRSTlMAQObYZgAAAAlwSFlz\n",
       "AAAOxAAADsQBlSsOGwAAAadJREFUOMt9Uz1Iw1AQ/rStremPVdBFhCK6OAVEndQsuokiuIhCkC5K\n",
       "wWy6tShqwKWDIDgVXLq16iJ0ySoi7SgIKog/o4JSKpV4l9KmfQ15kLx3d++7u+/uHoBntC0HVdMK\n",
       "Gy3ie4Z+C66IWyCgjzXEommaalhruxYsXCBS2FcAKQ1pHQONPK50/cDAmQiInGAUWYSq5F9DpwqP\n",
       "XDflgQ9gV0R0lzCOJ0OqAF1ATxrB37qJWMVImxEQRVbMKyDEDZCTEf5uyjhKLkUik7UtVAaOazHK\n",
       "tvGFUTEBsTl4T6QxR55OYfH4s40j9PnTfDpY4bXMx4qGBDA0TPHXqFxx9FXtqqgcXW0NIZnAIVHh\n",
       "WsVJzj7cfdGWsxwH+d/xKSB+gCSntZ2xEKjVypfio48L7RVicI2SWi8wa3BWtOx+IMekQ0sCjwmO\n",
       "YWYYMU3mLeSiDcQiR/LLYj+IBzasrC5pFlcx1WSjriOQFxCevJTAjtWPfhILumLb3niWfYo4Jtd7\n",
       "UXh1nkRf1GmgX12G3Z9y0h65vY8ZB11EdkOcO+g8rs82UmrXPbrc/wcqY2egnHLW4wAAAABJRU5E\n",
       "rkJggg==\n",
       "\" style=\"display:inline;vertical-align:middle;\" /></a><br>"
      ],
      "text/plain": [
       "<IPython.core.display.HTML object>"
      ]
     },
     "metadata": {},
     "output_type": "display_data"
    }
   ],
   "source": [
    "mult_0_7, mult_1_7, mult_2_7, mult_3_7, mult_4_7, mult_5_7, mult_6_7, mult_7_7, mult_8_7, mult_9_7 = [Equals(Mult(num(n), num(7)), num(n*7)) for n in range(10)]"
   ]
  },
  {
   "cell_type": "code",
   "execution_count": 36,
   "metadata": {},
   "outputs": [
    {
     "data": {
      "text/html": [
       "<strong id=\"mult_0_8\"><a class=\"ProveItLink\" href=\"proofs/mult_0_8/thm_proof.ipynb\">mult_0_8</a> (conjecture without proof):<br></strong> <a class=\"ProveItLink\" href=\"../__pv_it/theorems/41e584c845d1815f88baa8538671d1549a2f26710/theorem_expr.ipynb\"><img src=\"data:image/png;base64,iVBORw0KGgoAAAANSUhEUgAAAFcAAAAVBAMAAADBdm84AAAAMFBMVEX////MzMxUVFRERES6uroi\n",
       "IiIQEBCYmJhmZmYyMjLu7u52dnaqqqqIiIjc3NwAAACW8nlqAAAAAXRSTlMAQObYZgAAAAlwSFlz\n",
       "AAAOxAAADsQBlSsOGwAAAX9JREFUKM91kztIw1AUhr8+U9O0dnG2bg4ORTdB7eogFsFNpIKTg3RR\n",
       "u4hdpEpBuwniEBBFpwZdhFLJKg4tTp2ki7MuPrCKnrSk0CQ9Q7j575f/nHPvCdDCFR5SN2KmW1sY\n",
       "BD9CtHbUe1Wrd2liORdWbUo6tQxnXPQSR2ACTp3skKmuymYOJUM0Zas7cA15J7wFtxCGQBLt21Zv\n",
       "OnBYd8CTUNd5gOECvh9brU9TlKzOor9g1KQEFYE/bdX/15TjiSb7WdWCc5zAq4Hvt6cfv0uzStla\n",
       "7i9bsSSreFvgBitduG2z2v2clKRl+507sMG6lGEQtJwrll0e7UPH9+YoQ+DFhgVLg5rVYKggjw3J\n",
       "ZBLMuhusm1YZgRSKfXSqWPpzaJn+mpmCPZ0Z6SZLpGxbbMrHLZSUw3kbDjuXIO6XCVud19mVezUc\n",
       "cMhU12BEVle1sZ7qGz9Iy17aAaulJ/ELJbxG8cV7QpWCl1ocMM+zHlo8NQA+99ACg/6reMOtPXuj\n",
       "/3WDYOTvYryrAAAAAElFTkSuQmCC\n",
       "\" style=\"display:inline;vertical-align:middle;\" /></a><br>"
      ],
      "text/plain": [
       "<IPython.core.display.HTML object>"
      ]
     },
     "metadata": {},
     "output_type": "display_data"
    },
    {
     "data": {
      "text/html": [
       "<strong id=\"mult_1_8\"><a class=\"ProveItLink\" href=\"proofs/mult_1_8/thm_proof.ipynb\">mult_1_8</a> (conjecture without proof):<br></strong> <a class=\"ProveItLink\" href=\"../__pv_it/theorems/2ee981cbc1c7a518d9b5d3251845773944ac24a20/theorem_expr.ipynb\"><img src=\"data:image/png;base64,iVBORw0KGgoAAAANSUhEUgAAAFcAAAAVBAMAAADBdm84AAAAMFBMVEX////MzMxUVFRERES6uroi\n",
       "IiIQEBCYmJhmZmYyMjLu7u52dnaqqqqIiIjc3NwAAACW8nlqAAAAAXRSTlMAQObYZgAAAAlwSFlz\n",
       "AAAOxAAADsQBlSsOGwAAASlJREFUKM9jYGB4wIABsAhBAO8BTDFfXIpPA7HoAjiXa/cOBwbeAnRV\n",
       "YGEGrgkMXBrzEYo5GBh0GBhmoSuGCHOADLmPUFzOwLCSgaECXTFEmI0BVfEmiOgCNMUQ4ZNois9b\n",
       "MbQzMHCiOxoi3I2mmOn/DWDwcCugKYYIT0dTzND/FRjK7BNAzNZQEAhCCMegKebZZ/8HSCagmQwR\n",
       "TkEoXg8yroKB59sCBsYPaIohwkiKWRuARBYDw/sDDCzoJkOE0ZzBBTSSqYCBJwDVzVBhWzQ35zEw\n",
       "MD9gYDdAMxkivAnE3I9IZp4LGGqB8boBTTFEWBTIUsqfBI8ERo0OYIphdUBTDBUWwJYUn2JPoewN\n",
       "2ETbcaRnOyxifAY4FC/GIsaMK1/xXcAUu4ddKQDEsF1Q8JcKbwAAAABJRU5ErkJggg==\n",
       "\" style=\"display:inline;vertical-align:middle;\" /></a><br>"
      ],
      "text/plain": [
       "<IPython.core.display.HTML object>"
      ]
     },
     "metadata": {},
     "output_type": "display_data"
    },
    {
     "data": {
      "text/html": [
       "<strong id=\"mult_2_8\"><a class=\"ProveItLink\" href=\"proofs/mult_2_8/thm_proof.ipynb\">mult_2_8</a> (conjecture without proof):<br></strong> <a class=\"ProveItLink\" href=\"../__pv_it/theorems/f8d8c42f079a749c96f8482ff261f661456df3ec0/theorem_expr.ipynb\"><img src=\"data:image/png;base64,iVBORw0KGgoAAAANSUhEUgAAAGEAAAAVBAMAAACkm51HAAAAMFBMVEX////MzMxUVFRERES6uroi\n",
       "IiIQEBCYmJhmZmYyMjLu7u52dnaqqqqIiIjc3NwAAACW8nlqAAAAAXRSTlMAQObYZgAAAAlwSFlz\n",
       "AAAOxAAADsQBlSsOGwAAAZJJREFUOMt9Uz1Iw0AU/nq1rbZp6OLUQRd/BoeI6CCoWR2EUhBEHDq4\n",
       "KCLBxS5iEbQtDnYQBKegk5PRqVDQruLQjsVBughOWocKLWJ8uXJBmiNHeOR93/ve3XvvDkATniWB\n",
       "/q141Yut+CqegffitOtGK2UdccMTFlgnE6vcUUQJqoZHXTCDwBRw2S+4KnYB9RxjFGGANRHOCGof\n",
       "uAGy3sOTYqiOGSBMXxfsVzD3XBE2ZYoaR58AlgL7EkxtHnnKZsgUc/zvlNtQSzDMblDzYqMyxVay\n",
       "QfVecH+k7lJnbZpGpOT8Hq86K+0qOgZ2gA3up12B8rD0QzYj2SNqAycmNnlLNcfeOomzUL5NBFoy\n",
       "RRs41HuKvV4xOTLbwGcVA7I90CGFwU+lWPgQI6fkzICSktUxy/dYIC8JvIhcu0CwiYgmnQfVwSem\n",
       "rhUKKcEsmzigwqx+RYxmHLSi1KthOr9t2yX3xk0WqOchvU/AxjsTQPkoQVxCdqHffC57JCdD837v\n",
       "Y1GCqZqf4lqCBX2frVr3Yq8+8X8gqGcIuN4nLQAAAABJRU5ErkJggg==\n",
       "\" style=\"display:inline;vertical-align:middle;\" /></a><br>"
      ],
      "text/plain": [
       "<IPython.core.display.HTML object>"
      ]
     },
     "metadata": {},
     "output_type": "display_data"
    },
    {
     "data": {
      "text/html": [
       "<strong id=\"mult_3_8\"><a class=\"ProveItLink\" href=\"proofs/mult_3_8/thm_proof.ipynb\">mult_3_8</a> (conjecture without proof):<br></strong> <a class=\"ProveItLink\" href=\"../__pv_it/theorems/444d2b9d0a791991f73306ee51be4dc5f4c33c570/theorem_expr.ipynb\"><img src=\"data:image/png;base64,iVBORw0KGgoAAAANSUhEUgAAAGEAAAAVBAMAAACkm51HAAAAMFBMVEX////MzMxUVFRERES6uroi\n",
       "IiIQEBCYmJhmZmYyMjLu7u52dnaqqqqIiIjc3NwAAACW8nlqAAAAAXRSTlMAQObYZgAAAAlwSFlz\n",
       "AAAOxAAADsQBlSsOGwAAAaJJREFUOMt9kz1Iw0AUx//pV2zTpFncY0FwENvBSdB21EEQQVwERYqD\n",
       "g2azDkpBSgMOCg6CU8DJyeJUEKSrdGgRBKdS0E4OiqhgqdR3iU3LJeQN97h373f3vg5ACy7xMA2J\n",
       "XHXbFn2JGvBamXa2sdtKFrLOeynGmUpKKJDHKWIF1J2HRoBJ4IInniF9kgpr5KFD7uL6tH+0B1wB\n",
       "eZ6YArZIPRIRAUI5JBzixiIiJkfsmki1IOwTcW8Z6k7g9RmUgCifyDiQUiFFiThm+9CqcxToPVFO\n",
       "kuYu0TrQZMQ5q8DD2ODg5Iu6IVpRFleYLNt24ReKzog1OxanVvG7TJfWDdcTVCYJjMhZ20iHFqtg\n",
       "ecS/TQjvLuIIOOwTgopgl91C7cE28FZFyPWGqEFp4D+qRMcmrJbT5QEd8SU+jxqUl2QytVnGLIWk\n",
       "2VFZsgMEWxDT3BNCGbJpubKOifpQPxZMHNAklDmibRhFUgm6aZT0vDGYRGHCyFJKWb4Zvd4PXZT5\n",
       "aCCseg1022fYxYKXteT3P+Y8bEraj7j0sAV9vy31xSVNH/8/5tNhRfcsWB8AAAAASUVORK5CYII=\n",
       "\" style=\"display:inline;vertical-align:middle;\" /></a><br>"
      ],
      "text/plain": [
       "<IPython.core.display.HTML object>"
      ]
     },
     "metadata": {},
     "output_type": "display_data"
    },
    {
     "data": {
      "text/html": [
       "<strong id=\"mult_4_8\"><a class=\"ProveItLink\" href=\"proofs/mult_4_8/thm_proof.ipynb\">mult_4_8</a> (conjecture without proof):<br></strong> <a class=\"ProveItLink\" href=\"../__pv_it/theorems/cf3283afbc5b26e175268a97a4da7ad6a334362a0/theorem_expr.ipynb\"><img src=\"data:image/png;base64,iVBORw0KGgoAAAANSUhEUgAAAGEAAAAVBAMAAACkm51HAAAAMFBMVEX////MzMxUVFRERES6uroi\n",
       "IiIQEBCYmJhmZmYyMjLu7u52dnaqqqqIiIjc3NwAAACW8nlqAAAAAXRSTlMAQObYZgAAAAlwSFlz\n",
       "AAAOxAAADsQBlSsOGwAAAZ5JREFUOMt9kz1Iw1AQx//pV7RNQx1EF0EKguBHOwvaICg4CCK4CZUi\n",
       "Dg7arV2EQikNOCg6CE4BF50sTkJBskoHHZ00IMVJFNRKoRLvpTQpLyE3vHAfv3t37y4ADLjEw9Qn\n",
       "cd1tW/UlGuwYtdVo/VZBPM9HyfWyAlk9TVDEMTOs264BYBo454lLSB28IvZNESxd3CEKwBVQ5IkX\n",
       "PdrGLLADRJg+cmK7biwionHEsoI29jWkDNwzveYQD3OoAoOuRiD9YgJIJXDIijIcImA+0ePFxl3E\n",
       "kpUkC5zR5w0OgaMfmoZovUdlg0m3x7EkPROEP2CTFdVHSHeZDp1b7qrIjDDdvU0JjS5xzRIXIbU0\n",
       "CJ/uwVHfKMMi3tElwiU6doEPHSH+jiEgo0Nk7VFVi8lka6o3ckoeyENa4/owNUY0IBuYtwJzdrI9\n",
       "IGhATHN35FhVQg1xjU2M5Mt2rWg4oE2ocUSBzaOpqhVgmOllc6bnEiZVhVpSOCKk0iZmTbNNvoTX\n",
       "Qjd9ll0seVmrfv/HgodNTvsRFx62oO9vKz+6bc8+8f+PK2X14zEmNAAAAABJRU5ErkJggg==\n",
       "\" style=\"display:inline;vertical-align:middle;\" /></a><br>"
      ],
      "text/plain": [
       "<IPython.core.display.HTML object>"
      ]
     },
     "metadata": {},
     "output_type": "display_data"
    },
    {
     "data": {
      "text/html": [
       "<strong id=\"mult_5_8\"><a class=\"ProveItLink\" href=\"proofs/mult_5_8/thm_proof.ipynb\">mult_5_8</a> (conjecture without proof):<br></strong> <a class=\"ProveItLink\" href=\"../__pv_it/theorems/5c50faf24202d110b892b4dab2e61f1f92a9ada30/theorem_expr.ipynb\"><img src=\"data:image/png;base64,iVBORw0KGgoAAAANSUhEUgAAAGEAAAAVBAMAAACkm51HAAAAMFBMVEX////MzMxUVFRERES6uroi\n",
       "IiIQEBCYmJhmZmYyMjLu7u52dnaqqqqIiIjc3NwAAACW8nlqAAAAAXRSTlMAQObYZgAAAAlwSFlz\n",
       "AAAOxAAADsQBlSsOGwAAAapJREFUOMt9kz9IW0EYwH8m5iXvjK9ZOvfqooPQoJugyepQGgp2KsWW\n",
       "Tg41S1s7qEEQtQ7NVuz0oFOnhnYpCvLW0iFBUISCuAhuVkERKrbfRRPNu8e74bjvz++7788dsI+1\n",
       "IlS3Vm9ADtXp8zCW+AXTaxN+S1QbP4r0lm2/rgps7EpkVYUnp+ttQwYG4ZNNpDRuoJ6Jh4TTtwxv\n",
       "4QvM2MS25jV8B4dO4luTcHwrqXeaIaj7/AwR9RGWwLUK6XE153AvYFWk/t/325bEv91A7DpM7Lla\n",
       "GaLMR5FGOCq2TR9OpR/pqjkuTpj12By9squ9v0I0eNp0S5ZaQHazcCH7ZDgprokaL696einbVxN4\n",
       "huyZT9efEDEnhBLiUcMQySqZY9NxmRFTcBTQHbrDa3BVeT0wWTklEq2YSg6JMtlSZx3dfX0PXtSG\n",
       "Yd5n1OSIk29FeyV37pPOWxN0NG9gpTkxr8JOe2LjPrNSV80i7uRJBeo53BXhcOH9zWwHlqXTqWIY\n",
       "yBROGmp1Kye2XNSDPoh57OlKlHYp7n+MRei8fBzxOUKXjP22Mhxr7cX4/wcoRmRDxIUwgwAAAABJ\n",
       "RU5ErkJggg==\n",
       "\" style=\"display:inline;vertical-align:middle;\" /></a><br>"
      ],
      "text/plain": [
       "<IPython.core.display.HTML object>"
      ]
     },
     "metadata": {},
     "output_type": "display_data"
    },
    {
     "data": {
      "text/html": [
       "<strong id=\"mult_6_8\"><a class=\"ProveItLink\" href=\"proofs/mult_6_8/thm_proof.ipynb\">mult_6_8</a> (conjecture without proof):<br></strong> <a class=\"ProveItLink\" href=\"../__pv_it/theorems/bfaf1d7e32c21448a10691e7b44d83303149916e0/theorem_expr.ipynb\"><img src=\"data:image/png;base64,iVBORw0KGgoAAAANSUhEUgAAAGEAAAAVBAMAAACkm51HAAAAMFBMVEX////MzMxUVFRERES6uroi\n",
       "IiIQEBCYmJhmZmYyMjLu7u52dnaqqqqIiIjc3NwAAACW8nlqAAAAAXRSTlMAQObYZgAAAAlwSFlz\n",
       "AAAOxAAADsQBlSsOGwAAAYhJREFUOMt9kz9Iw0AUxr82bZO2adPFPXZyEMysaLs6CEFwcyji5CDd\n",
       "rIPSQWnBwToVBCEgCJ0qTmJQuoqDXQSn0sXBySL+ARH0nXdpay7kQY7L+9337u69dwD6kCzANWaZ\n",
       "juxbClXc0ee6Oe835V4WkSnL6yJVzpBqAM/FqO0BDZgGjmVF3BRMo3AnUCwPbAEtoCIrHkzBEoD+\n",
       "NQYuuNeRDrVtCnYLKKUxcj+LGpCULpJOmoIdUMCj670hif48UvLSpl/RIwVnTcBoIjFK8eE7VUNt\n",
       "sOn+CrNlNs2WScHZKtAeQNvwBPpN4ZvGkv9QIAVn66Swob6Rt80CV6B/OIgMfIpdpuCMFEYD6ifL\n",
       "eJUG2uylg5hvj2yXKTijUylij7+SU/BoGbr9/x6xfH5m7YqzeTo03WMYc5Mi9KFaUgUTpmBUFczh\n",
       "bJirRQc71AnnksKwBJtgiahPjmo7Vaduixf9Aq3w2hUsF9TQTyHNrlaDvLWw97EQ4MtaYYrTAJ8S\n",
       "+mypOJL1Qtb/AqAdZh/t8XJ0AAAAAElFTkSuQmCC\n",
       "\" style=\"display:inline;vertical-align:middle;\" /></a><br>"
      ],
      "text/plain": [
       "<IPython.core.display.HTML object>"
      ]
     },
     "metadata": {},
     "output_type": "display_data"
    },
    {
     "data": {
      "text/html": [
       "<strong id=\"mult_7_8\"><a class=\"ProveItLink\" href=\"proofs/mult_7_8/thm_proof.ipynb\">mult_7_8</a> (conjecture without proof):<br></strong> <a class=\"ProveItLink\" href=\"../__pv_it/theorems/2a1ec472c9b5203679ee7638ea9c02f9577343120/theorem_expr.ipynb\"><img src=\"data:image/png;base64,iVBORw0KGgoAAAANSUhEUgAAAGEAAAAVBAMAAACkm51HAAAAMFBMVEX////MzMxUVFRERES6uroi\n",
       "IiIQEBCYmJhmZmYyMjLu7u52dnaqqqqIiIjc3NwAAACW8nlqAAAAAXRSTlMAQObYZgAAAAlwSFlz\n",
       "AAAOxAAADsQBlSsOGwAAAaJJREFUOMt9Uz1Iw1AQ/vpnNU1DFicXF8FBsCAVFdSsDoIoLuogqINS\n",
       "NJtFKBZBG3BoB0VwCji5aNtJEaSrONTRSVwUcVFEi0Uh3ns1TXkJueFx9919d7m7HIBHuMQDapF4\n",
       "RdkSsUlXVAA4s/VbyJZl1WxTurrQENdFRlv9cA6IXZUoooDYkGEs2K52oA84FhmRjXkTygF6KEJH\n",
       "DFCytmsTOAXSIiPIno47DFA5QP4HuJQ5o830YlQ5esOBUtNVHUGOsulejEGu7rNHSTgu675CLXaL\n",
       "jExZxWrXvQYccVtzfPkv2ka0wNTdWSbTTA2ZyifqOlIAH9KzQ5Cvx3/pXXQvLilZwJ6JZWZccuic\n",
       "JU5DrpkIvLsZ+dcvYFtrMGYaM2cjXgPeKgiLNYaJodaJofOvkj6aHomSB3XIU0IfK0A/krzGKJnh\n",
       "byfZOnX5iGhCqFEEllClPvjGIP84rgkTGfoTigLjBfE1hIoSzaqTrSPV8pP2GjTqiCYwFKOXFn6x\n",
       "o5JP9TqBJ5/ziGa90JzfRY15YErCj3HigYV8z1a5c2MPPvF/pJZg/+hgzKUAAAAASUVORK5CYII=\n",
       "\" style=\"display:inline;vertical-align:middle;\" /></a><br>"
      ],
      "text/plain": [
       "<IPython.core.display.HTML object>"
      ]
     },
     "metadata": {},
     "output_type": "display_data"
    },
    {
     "data": {
      "text/html": [
       "<strong id=\"mult_8_8\"><a class=\"ProveItLink\" href=\"proofs/mult_8_8/thm_proof.ipynb\">mult_8_8</a> (conjecture without proof):<br></strong> <a class=\"ProveItLink\" href=\"../__pv_it/theorems/f2f49a464cbd76dbadc44f19c402474d7e03e99c0/theorem_expr.ipynb\"><img src=\"data:image/png;base64,iVBORw0KGgoAAAANSUhEUgAAAGEAAAAVBAMAAACkm51HAAAAMFBMVEX////MzMxUVFRERES6uroi\n",
       "IiIQEBCYmJhmZmYyMjLu7u52dnaqqqqIiIjc3NwAAACW8nlqAAAAAXRSTlMAQObYZgAAAAlwSFlz\n",
       "AAAOxAAADsQBlSsOGwAAAa5JREFUOMt9kz1Iw0AUx//9TD9jEZxcSkF0EFoQHQTbDC4OgghuIiIu\n",
       "SpFs1sFaRG1BQQdB6BRwEodWp0JBuopDswidSkGcFaVCoRLfpTZtryFvyLv8737v3Xt3B6CBITOR\n",
       "+ixYGdaWLYkX4L58Yvz6yiUJQXlomb/8QF9bhlZcARnYjUQeYBrI84B4jQlyrjCtkCHIOtexfeAO\n",
       "SPGEV8UMuVci3JQw3Ec86oRb4YiqLtgOiHgGAt+Kx9h4dR5ZCskXMtcpxkvEOQ2ivxfGlF2rVfS0\n",
       "g7YzXpOAOiNuWLXaRm/uskmnIei7PF1jtsqGLRlJiDIj1lmD3zSjV4GnRJu+m4MpfBpwpvjBiG0K\n",
       "mEF1l+QCC5xC4EeB7ZMjmsCRlO4S1BixzZpNxwNCPypwcjnQIiKt4n9XBVImu8EouF1GYIWrY5aI\n",
       "xUgkulXEAuWgUuPdYHuAowEhxp8H1UHOHdZPzJmHoHanlhQcUveKHOEo+pLkRijSGPnRXO8m2qZy\n",
       "1HiXxF+T0nGIAiW+VLhCZhf63eKyCxkzNWv1PuImmhizIm5NNIflsxXVYa1usf4P+gtlPtWD8ZkA\n",
       "AAAASUVORK5CYII=\n",
       "\" style=\"display:inline;vertical-align:middle;\" /></a><br>"
      ],
      "text/plain": [
       "<IPython.core.display.HTML object>"
      ]
     },
     "metadata": {},
     "output_type": "display_data"
    },
    {
     "data": {
      "text/html": [
       "<strong id=\"mult_9_8\"><a class=\"ProveItLink\" href=\"proofs/mult_9_8/thm_proof.ipynb\">mult_9_8</a> (conjecture without proof):<br></strong> <a class=\"ProveItLink\" href=\"../__pv_it/theorems/596561867ef0a7593561d4815297b0f7571d47650/theorem_expr.ipynb\"><img src=\"data:image/png;base64,iVBORw0KGgoAAAANSUhEUgAAAGEAAAAVBAMAAACkm51HAAAAMFBMVEX////MzMxUVFRERES6uroi\n",
       "IiIQEBCYmJhmZmYyMjLu7u52dnaqqqqIiIjc3NwAAACW8nlqAAAAAXRSTlMAQObYZgAAAAlwSFlz\n",
       "AAAOxAAADsQBlSsOGwAAAahJREFUOMt9Uz1Iw0AU/tIaU5smBkHnDgoiYrsJgtrVQRTBRSrtUBw6\n",
       "aDe7CAUpDThYcBCcAi46pegiFKSriOgoCBIoVTcVqqIo8SUhUXIhN9zd+9773t+9A2CAWQHQvyW1\n",
       "WGyeQR61v/slEFPHPDHePMtAKvkZ16Zp5mV1TyGLOuKrGPLyiAHjwIGfcaqq1VYbYpcsSojkEU27\n",
       "qk3gGCj7GQ3gCRPAGtAL9NchfrmqE5vRq/kYVGwSGxpSBi4APQ2p6yU8hRrQxxQCUcEIkFKw48T4\n",
       "cBUR85b8iUmG0bb3HLAPu44fT7P7Rl0Q6ta1umytJQcftjaO7LLUrgIGvl1C4nyW7om8P4RsIzzF\n",
       "LtB5dHf1SoduOS4j8a6Be2HKsKNuw2HA6RVfoa0IPLfQw8Tgrf4LVnlZW/beI07OIyUkFv116El7\n",
       "PmQD05R0Ebri+lonugEh7Y+xQAlwDUia9WLSCiY9zZyGLZqEBjNYhHRoVIBBkppqxtNwo5bAZ/yM\n",
       "B3qlnGl+kk4J+gKdkO8hVILQWtiPmgnA5HQY4zAAi4Z+W/mGxe5D7H8BiTlo1Stp0aoAAAAASUVO\n",
       "RK5CYII=\n",
       "\" style=\"display:inline;vertical-align:middle;\" /></a><br>"
      ],
      "text/plain": [
       "<IPython.core.display.HTML object>"
      ]
     },
     "metadata": {},
     "output_type": "display_data"
    }
   ],
   "source": [
    "mult_0_8, mult_1_8, mult_2_8, mult_3_8, mult_4_8, mult_5_8, mult_6_8, mult_7_8, mult_8_8, mult_9_8 = [Equals(Mult(num(n), num(8)), num(n*8)) for n in range(10)]"
   ]
  },
  {
   "cell_type": "code",
   "execution_count": 37,
   "metadata": {},
   "outputs": [
    {
     "data": {
      "text/html": [
       "<strong id=\"mult_0_9\"><a class=\"ProveItLink\" href=\"proofs/mult_0_9/thm_proof.ipynb\">mult_0_9</a> (conjecture without proof):<br></strong> <a class=\"ProveItLink\" href=\"../__pv_it/theorems/5416e108199eb3900e8e51a21588987b2d2efac40/theorem_expr.ipynb\"><img src=\"data:image/png;base64,iVBORw0KGgoAAAANSUhEUgAAAFcAAAAVBAMAAADBdm84AAAAMFBMVEX////MzMxUVFRERES6uroi\n",
       "IiIQEBCYmJhmZmYyMjLu7u52dnaqqqqIiIjc3NwAAACW8nlqAAAAAXRSTlMAQObYZgAAAAlwSFlz\n",
       "AAAOxAAADsQBlSsOGwAAAXdJREFUKM91kz1Lw1AUQE/oR9r0wy7O1sXVoLPaPyAWwa1IBWfporhZ\n",
       "RFEpSjdBHALS4taii6DFTII4NAiCk3VxVnFQWwXfs6a2Sfqmm3MP9917eQEecR0P1D4x082m+8k3\n",
       "EKnt/X9vrxvEci7t/F5cpxXhkFLn4pKlLMGB0w2b2jyEcqhpIrpNR2AcVp3yMpxCEHxJok2bfsKl\n",
       "QdBwyGNQN7iGgTzK1x/U3qCRIuxs+gOGTApQEfJ7d+UckWSvq0k5xz48V1G+u3qeslCLMt6ck2dW\n",
       "RPGWkC0ybblly+WUMmoSzfZW/pWrLIo2qvhl5Yosp+1eNBIoL442hDxjSVkMGJUDBvLtjNiGP+se\n",
       "sG7KNnw6arMrIfYcTff2LNmawQSoWUJF27wytFeBdEflFdiBExFlKCdsemf4xI5DVYccMLUFGBTR\n",
       "cW24QyNnGzKXcsha4VbUCyS8nuKT9wtV8150q897nvRgcb2PfOTBfP3+q7jlZg/e6g/KsGGR1VY/\n",
       "0gAAAABJRU5ErkJggg==\n",
       "\" style=\"display:inline;vertical-align:middle;\" /></a><br>"
      ],
      "text/plain": [
       "<IPython.core.display.HTML object>"
      ]
     },
     "metadata": {},
     "output_type": "display_data"
    },
    {
     "data": {
      "text/html": [
       "<strong id=\"mult_1_9\"><a class=\"ProveItLink\" href=\"proofs/mult_1_9/thm_proof.ipynb\">mult_1_9</a> (conjecture without proof):<br></strong> <a class=\"ProveItLink\" href=\"../__pv_it/theorems/bbfc1c33eb90a185e365161a496fffa4d10b3a900/theorem_expr.ipynb\"><img src=\"data:image/png;base64,iVBORw0KGgoAAAANSUhEUgAAAFcAAAAVBAMAAADBdm84AAAAMFBMVEX////MzMxUVFRERES6uroi\n",
       "IiIQEBCYmJhmZmYyMjLu7u52dnaqqqqIiIjc3NwAAACW8nlqAAAAAXRSTlMAQObYZgAAAAlwSFlz\n",
       "AAAOxAAADsQBlSsOGwAAASJJREFUKM9jYGB4wIABsAhBAO8BTDFfXIpPA7HoAgS/o2kBA28BhjKQ\n",
       "MAPXBAYujfkIxUsvMOYxMMxCVwsR5gAZch+hWI2BwZiBoQJdMUSYjQFV8U8Ghv0LGNgWoCmGCJ9E\n",
       "Vcz1GchzYOBEczRUuBuLyQUM3ApYTC5gmM6A4Wb7CwzsE0Ds1lAQCEIIx6ApXubAqH+AgScBzWSI\n",
       "cApC8XqQcVy9e+4LMDB+QFMMEUZSzNoAkQB6myUBM/aAwujOYAAHKE8AmpshwrZoio8t4PrIwMBu\n",
       "gGYsRHgT2AZEMru6gBkYxhwb0BRDhEWBLKX8SfBI4N7RAnK+A5piqLAAtqT4FHsKZW/AJtqOIz3b\n",
       "YRHjM8CheDEWMWZc+YrvAqbYPexKAV+OXqq75xoPAAAAAElFTkSuQmCC\n",
       "\" style=\"display:inline;vertical-align:middle;\" /></a><br>"
      ],
      "text/plain": [
       "<IPython.core.display.HTML object>"
      ]
     },
     "metadata": {},
     "output_type": "display_data"
    },
    {
     "data": {
      "text/html": [
       "<strong id=\"mult_2_9\"><a class=\"ProveItLink\" href=\"proofs/mult_2_9/thm_proof.ipynb\">mult_2_9</a> (conjecture without proof):<br></strong> <a class=\"ProveItLink\" href=\"../__pv_it/theorems/7213f8a03507e80d8417d5da21c4da99ab4bd6b30/theorem_expr.ipynb\"><img src=\"data:image/png;base64,iVBORw0KGgoAAAANSUhEUgAAAGEAAAAVBAMAAACkm51HAAAAMFBMVEX////MzMxUVFRERES6uroi\n",
       "IiIQEBCYmJhmZmYyMjLu7u52dnaqqqqIiIjc3NwAAACW8nlqAAAAAXRSTlMAQObYZgAAAAlwSFlz\n",
       "AAAOxAAADsQBlSsOGwAAAZJJREFUOMt9Uz1Iw0AYfUltU9M0dHFy0Kk6CEbcBG1WB6EUBBGHDk4O\n",
       "ElzsIhRRmiJiN8EpKApOFqeCYjsJ4mAWQRxsF8FJK6LQIsYvqamhOfIRjnzv3bvv7w5AAz5jQB6L\n",
       "1/zYXKDiFngpTvz7+qaBuObbxi0C4kVFpbUEWUFVdZljk1sFDnoFh8U2EAXGaNXANxDJulQSmARy\n",
       "/uRJsQ6cAhH62uB/XKYFVA1EDJbi3FHcAHwa/PsfIX4AdRX9GktxN4UCsOP44aY3hobYMEvBWw/U\n",
       "2H3HHzI9daRMCCX7f3vetkxXgb1PmtSS42e6Z52o3HgNUpYVQ7pKfQPLthtV7PXMPljcvawnwDVZ\n",
       "ihykL6OjWOsUk++Q1Ks+ZowV4K3mZCWV8eohaR5SmlGHSIF5DdPkDQKP7vZrQ6ROCworBl2GUMOe\n",
       "iryg62mXuTdCNItouVcRoxnPGtgABih/y7JKXaayZZek9gj4ZGsE3KhOeDjButDPAZddyLPQQtD7\n",
       "mGFgshKkOGJgocBnK5t+7Clg/y+m1GsJOTyVBwAAAABJRU5ErkJggg==\n",
       "\" style=\"display:inline;vertical-align:middle;\" /></a><br>"
      ],
      "text/plain": [
       "<IPython.core.display.HTML object>"
      ]
     },
     "metadata": {},
     "output_type": "display_data"
    },
    {
     "data": {
      "text/html": [
       "<strong id=\"mult_3_9\"><a class=\"ProveItLink\" href=\"proofs/mult_3_9/thm_proof.ipynb\">mult_3_9</a> (conjecture without proof):<br></strong> <a class=\"ProveItLink\" href=\"../__pv_it/theorems/a67821e4fb795390548b16984e1fdb2100195c420/theorem_expr.ipynb\"><img src=\"data:image/png;base64,iVBORw0KGgoAAAANSUhEUgAAAGIAAAAVBAMAAABPrCZEAAAAMFBMVEX////MzMxUVFRERES6uroi\n",
       "IiIQEBCYmJhmZmYyMjLu7u52dnaqqqqIiIjc3NwAAACW8nlqAAAAAXRSTlMAQObYZgAAAAlwSFlz\n",
       "AAAOxAAADsQBlSsOGwAAAZxJREFUOMt9Uz1Iw0AU/kJ/TZo0i3sFdbQFXdWOLqII4iLYoThqRsei\n",
       "FgMiFBwEpwPRtUWXDoKdBOnQIrjaglQFF0UXSyW+u9AfLiEP3iX3vfvufe/dHYA2POYDjZhe82LL\n",
       "/kvfmPjUgY/q3BC29xl0S15s2KcmGo7j5KCWoBbQGCS6bCo7wLnMeIH2gxvbLtYQt6D3UC71Q9PA\n",
       "LLAnM2aAbVSAdyAKhPNIDhi/wB1DlEmMXYZ0m4SkgAcBNPrC1W+glcWYXMgUkDYBjfyYz8MbGM1h\n",
       "QUt5O7UlygHOyJXHCYzUsdhETKgsrnNbcwPKHw2T5JuuqkGvrrJKuoZEzpMiQmkNDufFNNqlQTRM\n",
       "PbltmVA+PYwDcq3kMhQToR7fpeDGqFdhT44YryyScVUluy6jb3QeiVW5jjqMNsqcNk+SUq4qYfdM\n",
       "/aIdM1IKpQKdYYWruKawNTwPPLEQ/ccrEqNDF4QaxOFx8iV7eBO16iEXnJUPw3HopF55SyOm373u\n",
       "BDyPWMEPPQp6UQs+mJEJYlz4YKHAZ2s0vdhzwPp/kBpqWHG5O7AAAAAASUVORK5CYII=\n",
       "\" style=\"display:inline;vertical-align:middle;\" /></a><br>"
      ],
      "text/plain": [
       "<IPython.core.display.HTML object>"
      ]
     },
     "metadata": {},
     "output_type": "display_data"
    },
    {
     "data": {
      "text/html": [
       "<strong id=\"mult_4_9\"><a class=\"ProveItLink\" href=\"proofs/mult_4_9/thm_proof.ipynb\">mult_4_9</a> (conjecture without proof):<br></strong> <a class=\"ProveItLink\" href=\"../__pv_it/theorems/51efaf0124ca8c07dcdffe38c835d42157d4e48a0/theorem_expr.ipynb\"><img src=\"data:image/png;base64,iVBORw0KGgoAAAANSUhEUgAAAGEAAAAVBAMAAACkm51HAAAAMFBMVEX////MzMxUVFRERES6uroi\n",
       "IiIQEBCYmJhmZmYyMjLu7u52dnaqqqqIiIjc3NwAAACW8nlqAAAAAXRSTlMAQObYZgAAAAlwSFlz\n",
       "AAAOxAAADsQBlSsOGwAAAZ5JREFUOMt9UztIw1AUPaW1nzQNdRAFEaSgi4gF0U0Ngm6CCG4OIi6C\n",
       "2Gy6tbR+CiJIEQSngCjiYnUqVDCTIA7NIjjZLuIkKEWlUKjvJpjGl5A3hNxz7nn3nvveA1CDY7lA\n",
       "thXTnNicp+KRPj3tOJ9VEVP4LKmck4Fo+RoQDglYsKgz3bcBnPCKC4hNSEcYAMK0XaytGARGgS1e\n",
       "UdWEBiI6cUGKuwsW1QDuVARVTjErM6ZioA/0KVoKoc72kxFxGIH4g3HjZ5+aqv2voSDa71DMKFjr\n",
       "fWb2j1nwhoLdx5SOkDGPnUVapse+RBwNBevAEjVlU5zLvhEN4rKzq6bQAnZVrAKhmqm4oo2Fg9tq\n",
       "HL4P58GlLr+AtEyKd5iKjoxJsVkF+BqdrFmNeUwr1NV0IvE9ZGPZzMV5zkdLZYoxo8aEkbRipd+r\n",
       "widrNMnVYAkptcJ8ADcGULeoJ9XPziJc5BSbdB7+osBm1UVxrjX8R0VL22RJ5hSBPN3EUjbOuLjb\n",
       "hX71uOyhjBu65/U+Jl0wKemlOHXB/J7PVtKd2ItH/i+NGmhPRaCJ3QAAAABJRU5ErkJggg==\n",
       "\" style=\"display:inline;vertical-align:middle;\" /></a><br>"
      ],
      "text/plain": [
       "<IPython.core.display.HTML object>"
      ]
     },
     "metadata": {},
     "output_type": "display_data"
    },
    {
     "data": {
      "text/html": [
       "<strong id=\"mult_5_9\"><a class=\"ProveItLink\" href=\"proofs/mult_5_9/thm_proof.ipynb\">mult_5_9</a> (conjecture without proof):<br></strong> <a class=\"ProveItLink\" href=\"../__pv_it/theorems/f9a7288d12b88f3a82300a44b1f06648ce6ecdb90/theorem_expr.ipynb\"><img src=\"data:image/png;base64,iVBORw0KGgoAAAANSUhEUgAAAGEAAAAVBAMAAACkm51HAAAAMFBMVEX////MzMxUVFRERES6uroi\n",
       "IiIQEBCYmJhmZmYyMjLu7u52dnaqqqqIiIjc3NwAAACW8nlqAAAAAXRSTlMAQObYZgAAAAlwSFlz\n",
       "AAAOxAAADsQBlSsOGwAAAZ1JREFUOMt9k79Lw0AUx78xbZqmbcziHjuoWwPioKDNPyAUoQ7qIP5Y\n",
       "HGxHHZRQFIsidhHRKSA6aukkIthJEJcsdRHaLkI3fw9dxLtoapMLeZDk7r33eT/u5QA0wYiPqksS\n",
       "VSiQ3D6T/q4ccEE+D0DuOGt21MWCiUTex92A0D6cAaQSMP113TGcWdwqcMISYRXh3CyJLJJwapdh\n",
       "ABgG1liipqLHXghwE23g1oRgMkWtO8S9m5A+gIaOKNNILOoQe+QZfOp35cgjpnqJOiU2KgpwRHZj\n",
       "eNG7+khbiJToejtLZYou5TwheFP+BOZsPz7jEOc6l6oiPu8tClE77QiwZCvEb/K6pIGl/ZuGAu7V\n",
       "Q2z+EQdNSvAliG/0xI1fKzmrkCeHbFFilBAKrUrIoKc7JplHPOPuI5RMphbKy0AKGKc1QtAc9ztT\n",
       "IvkiGjNBQUUZWAQqJKWBx87EaiZPZiGWGaJXQwuJFaCPbFqF3f9DudqiLeleQEy/W3JxiEQOK37/\n",
       "9XPA9YgYftqdoBs14aOTtSDi1EfHB15bMhxG6gH+P3WKW4Ccy5FbAAAAAElFTkSuQmCC\n",
       "\" style=\"display:inline;vertical-align:middle;\" /></a><br>"
      ],
      "text/plain": [
       "<IPython.core.display.HTML object>"
      ]
     },
     "metadata": {},
     "output_type": "display_data"
    },
    {
     "data": {
      "text/html": [
       "<strong id=\"mult_6_9\"><a class=\"ProveItLink\" href=\"proofs/mult_6_9/thm_proof.ipynb\">mult_6_9</a> (conjecture without proof):<br></strong> <a class=\"ProveItLink\" href=\"../__pv_it/theorems/b22798badbe6aca46818372e6cfd9ea49f39fcf20/theorem_expr.ipynb\"><img src=\"data:image/png;base64,iVBORw0KGgoAAAANSUhEUgAAAGEAAAAVBAMAAACkm51HAAAAMFBMVEX////MzMxUVFRERES6uroi\n",
       "IiIQEBCYmJhmZmYyMjLu7u52dnaqqqqIiIjc3NwAAACW8nlqAAAAAXRSTlMAQObYZgAAAAlwSFlz\n",
       "AAAOxAAADsQBlSsOGwAAAaFJREFUOMt9k79LAmEYx7/nqXfe6enSGuYQbQrREFHePxBI0FIN0o+l\n",
       "oRxrKCSKhIhsCCEIDiLHFKfAIqcgWm5xVZegNishbOp50TN777gXjvfl+73P89z7PPcAaMG2HKSh\n",
       "FarZtXmbIgC31vmFnmo1MvByBwZCGZ7wdy+WGJgFlDzwrntSlnVjClvAJU/4tpcNtkUBmcJdQUxY\n",
       "1jgwCezwhKe31YnwA8GfIasLPBrwG46EsEvEMyCm/xzlC2jqCGQcCTVAxAmlOX84/JcjAzXKE3sV\n",
       "Kk6DEQUgXIC/NnSPpAkpz85Hi2wtsKNoaB1oGUasAKU25E2LKOpCvIZg2t6kKahgxDoRKUgdkkos\n",
       "sHJ634xAaNuJs9a+RYTzkL5ZsbM9i2rl5XNMEzFqov9VYj+HtagfwRR3jw0g7o3F4qtlzJJN9xjE\n",
       "fDKUD0BKcDnKwBr7WShHhfYZFAe1qhsi9UIuc8QbQqw4YYo0whqTGxtY6h3rjU/nCC03Qb+BnPw0\n",
       "4Ys4jcCry3hIWSf12G2i5hw0LeFGXDtoouvYaqZda7i8/wv4aF5fQcEjswAAAABJRU5ErkJggg==\n",
       "\" style=\"display:inline;vertical-align:middle;\" /></a><br>"
      ],
      "text/plain": [
       "<IPython.core.display.HTML object>"
      ]
     },
     "metadata": {},
     "output_type": "display_data"
    },
    {
     "data": {
      "text/html": [
       "<strong id=\"mult_7_9\"><a class=\"ProveItLink\" href=\"proofs/mult_7_9/thm_proof.ipynb\">mult_7_9</a> (conjecture without proof):<br></strong> <a class=\"ProveItLink\" href=\"../__pv_it/theorems/38a25ac598be87a54740d5b45379008dc0ccd4360/theorem_expr.ipynb\"><img src=\"data:image/png;base64,iVBORw0KGgoAAAANSUhEUgAAAGEAAAAVBAMAAACkm51HAAAAMFBMVEX////MzMxUVFRERES6uroi\n",
       "IiIQEBCYmJhmZmYyMjLu7u52dnaqqqqIiIjc3NwAAACW8nlqAAAAAXRSTlMAQObYZgAAAAlwSFlz\n",
       "AAAOxAAADsQBlSsOGwAAAaBJREFUOMt9UztIA0EQffmZ5HI5zsJKBBG0NSCKjXqNdoIodhYiNkLQ\n",
       "6xSbhPg7ECGFIFgdiGJnYhWJ4FWCWHiNYGVstPaDPxTOnY35bY7b5m7e7JuZNzML4AFNxwWqO3FL\n",
       "WRWxcU/GNWTHcT6qtpExEdebrsWKeSjFNQ2QsogNGsZMxXNo+xaBfZGg7KIbx5B/gYiOGAPSFVcP\n",
       "0AesiIyozeCSJX0DLYAM+KsuBl2YaDEFxg0BYxq5rziQr3ikN6CkISoKGSh/5E9gm1eZaMjBCu0U\n",
       "GAvtd0w0RlmkPbL9Gup0jNgIZ+l/Y5rOJA+kIwl0dKkAb9JTLdiR5uu1IM82ppAcYJNJoV7NE3DG\n",
       "4RMKLO2cl1T4ngXGO5CiQpbMMmOKw6H/FrNeBYUcJC+lt7KKLV6V9NrgZfOQJwQd/ZTDMYkxxMzg\n",
       "V+36pSm9AOGEOA+mA3O8qlPq8k/NdWsGWAcjOYERyElJLPN5tNE4knUbV1gnSZq4JoWMiqBBmxhS\n",
       "3Rb60WPZw2k3dMvrfQy7YErCi3HgggU8n61iN2P3Hvf/AFIJZzd0o2gmAAAAAElFTkSuQmCC\n",
       "\" style=\"display:inline;vertical-align:middle;\" /></a><br>"
      ],
      "text/plain": [
       "<IPython.core.display.HTML object>"
      ]
     },
     "metadata": {},
     "output_type": "display_data"
    },
    {
     "data": {
      "text/html": [
       "<strong id=\"mult_8_9\"><a class=\"ProveItLink\" href=\"proofs/mult_8_9/thm_proof.ipynb\">mult_8_9</a> (conjecture without proof):<br></strong> <a class=\"ProveItLink\" href=\"../__pv_it/theorems/e44412560512e9ce048f11f806fe16c38105756e0/theorem_expr.ipynb\"><img src=\"data:image/png;base64,iVBORw0KGgoAAAANSUhEUgAAAGEAAAAVBAMAAACkm51HAAAAMFBMVEX////MzMxUVFRERES6uroi\n",
       "IiIQEBCYmJhmZmYyMjLu7u52dnaqqqqIiIjc3NwAAACW8nlqAAAAAXRSTlMAQObYZgAAAAlwSFlz\n",
       "AAAOxAAADsQBlSsOGwAAAadJREFUOMt9k7tLI1EUxn9jjJPNYxiE7VP46EzAWs0/IIpgt2wsZAuL\n",
       "NaVl8IEDKggWgtUF0cYiwW0WFEwlyBZJs+0aCNndUsk2C8p4ZkLMcGeYU9zHd+93v3POPQdoE7II\n",
       "KGC5RhhbDCF/1HD9A65udod7Z1uRq+iMpuu6a5ZzYkP6GKqMvAtdtIyvcKYzvjnOXqND5h+kKpgV\n",
       "n9e3KZiFLZ1Rh7/MwBcYg0w+wPgPd4oxpTHEhzybikKbB8j2VGrgeLoHjyU+hAIhYzMJBZsD2RRe\n",
       "DwlqVDxZ3Tr+WIZTmVLuZwJxLLQwfS/3Vj1b6R9MeIPxCp+8BHfc91xdloxCg+yaLmH5SFK018Gs\n",
       "0tyQbc17OH10+2hjPIXC8FV38BmSGOvFe6DaP5RcjYY0kkUZTC888aom03TgUP4ju6zHUcv79WG1\n",
       "mRMNKbz5wfV7lX6Wx4q6xpI4YNTJKa5h9AyzNTj5qRLyF6l6qLAE6UqpwEfZjTvDSsx899bJks74\n",
       "Ldksu658V9KOaoFuTHuY1Sh0P66j5iMwqxjHOI/AErFta7XC2K+Y+287LGyk1Un3vgAAAABJRU5E\n",
       "rkJggg==\n",
       "\" style=\"display:inline;vertical-align:middle;\" /></a><br>"
      ],
      "text/plain": [
       "<IPython.core.display.HTML object>"
      ]
     },
     "metadata": {},
     "output_type": "display_data"
    },
    {
     "data": {
      "text/html": [
       "<strong id=\"mult_9_9\"><a class=\"ProveItLink\" href=\"proofs/mult_9_9/thm_proof.ipynb\">mult_9_9</a> (conjecture without proof):<br></strong> <a class=\"ProveItLink\" href=\"../__pv_it/theorems/e6299df7c63996d709b742dfc6a958ddc26d22020/theorem_expr.ipynb\"><img src=\"data:image/png;base64,iVBORw0KGgoAAAANSUhEUgAAAGAAAAAVBAMAAABLWfZ5AAAAMFBMVEX////MzMxUVFRERES6uroi\n",
       "IiIQEBCYmJhmZmYyMjLu7u52dnaqqqqIiIjc3NwAAACW8nlqAAAAAXRSTlMAQObYZgAAAAlwSFlz\n",
       "AAAOxAAADsQBlSsOGwAAAZhJREFUOMt9kz1Iw1AQx/9p7IdpWougs1MVEQw4CII2q4MggktR6NCp\n",
       "g2Szi1BEaUXEboJTUBSdKk6FimYSRMQugiDYLs4qftFSPy4JSetrmlvy3t39cv979x6AKtrMwdW0\n",
       "kNbum3EDroFAbri5z62qCClsllAqygAXp1UewiL6bREHZW4J2GWBADCCvY06rRR4EuAlKxIFxoA0\n",
       "CywDxySfAB/Qk0ewbkVqwIUKn8oApzZwBRQkhN4trW9ARUY328TtBLImsGlW+GqtoCA4wACe33vN\n",
       "BHZg9PDd0kOsDH9eX6/P6zZn+Lc/qiawQDKS6G1YwKHMjWoQE0wF8TzWMIEk7Y4ebl7pU9B/K2yd\n",
       "VSLgXhggDfFTtQGYp+TNmEE6pS62Qgp41ixJZM05wJiDOPu/B4EqehQDmKRoCoWIlX2pCiTPLzEV\n",
       "aPp81QBoIqE4xu3IncrTDAInDDCtYoWU/wB9tCvlZDsSLK7p7cgMwA1RjidaG4Q34nSFnzrfbn/G\n",
       "yZt1eQ9TDr6w5ALsO/h4tzcaLrf7Hjun/wFFAmtElYKYowAAAABJRU5ErkJggg==\n",
       "\" style=\"display:inline;vertical-align:middle;\" /></a><br>"
      ],
      "text/plain": [
       "<IPython.core.display.HTML object>"
      ]
     },
     "metadata": {},
     "output_type": "display_data"
    }
   ],
   "source": [
    "mult_0_9, mult_1_9, mult_2_9, mult_3_9, mult_4_9, mult_5_9, mult_6_9, mult_7_9, mult_8_9, mult_9_9 = [Equals(Mult(num(n), num(9)), num(n*9)) for n in range(10)]"
   ]
  },
  {
   "cell_type": "markdown",
   "metadata": {},
   "source": [
    "### Tuple lengths and length reductions for 1-9"
   ]
  },
  {
   "cell_type": "code",
   "execution_count": 38,
   "metadata": {},
   "outputs": [
    {
     "data": {
      "text/html": [
       "<strong id=\"count_to_2_range\"><a class=\"ProveItLink\" href=\"proofs/count_to_2_range/thm_proof.ipynb\">count_to_2_range</a> (conjecture without proof):<br></strong> <a class=\"ProveItLink\" href=\"../__pv_it/theorems/9214132c54d09a64a2550527afe496168f0b26c00/theorem_expr.ipynb\"><img src=\"data:image/png;base64,iVBORw0KGgoAAAANSUhEUgAAAJkAAAAVBAMAAACnAFEqAAAAMFBMVEX////MzMxUVFRERES6uroi\n",
       "IiIQEBCYmJhmZmYyMjLu7u52dnaqqqqIiIjc3NwAAACW8nlqAAAAAXRSTlMAQObYZgAAAAlwSFlz\n",
       "AAAOxAAADsQBlSsOGwAAAddJREFUOMuVlb9LHEEUxz853bvzfizXWFkogpAqXv6AiJVd4JAIIgde\n",
       "IRY2HtqYThBxg81hCiGNB9bBw39Amwhqc51goQsiWImCjUKyzqx7487MwpIvzPBm9rNvZ+a9eQv4\n",
       "6HJJkE+qQqR8bMz2d23SghL0VXbnog22o5m7H5/hwiY1yJbr/axQbkKhReHjXgS6VY4mGbBe06AE\n",
       "3VB8gl+QFx65jsCMT7ZBbt2kNShBn2AR1iBLDMy+kPkHSyatQQlabjMuFtLmNA5mamQeYdekT1O8\n",
       "jcF4hYEm2wboPMChSW+neBOah+LI2zpi4LDIj+/hWc2EGpH2bqq3D38h16JugNOinZhsPdWbI75a\n",
       "arCgg/mqXJ/JLqR625DrezDBFdlN/be3nDyQ/oaxiVKHe/hjnlvqTs9xfUo1vvTAkB2CS1g1YR3S\n",
       "r0kYgw7lNrnqWzYc+RSe5c2a9bxalBBxaVDYHbRiBreetyl202FQDEaXd5rMiO86QRCIp99MbxrE\n",
       "rIzhes+Yk8kWBMKzM4lT6R2Z2oVbs+JvQ0pnyrrl/YoX9Tuuh8yGlDrK2hJtIrJ/x+qLJRtSUVC1\n",
       "1ZWpuh8NutarMdmQqsrK6pOl3DWJcsI/wO2mV/IreAUn/o3TLfCdLwAAAABJRU5ErkJggg==\n",
       "\" style=\"display:inline;vertical-align:middle;\" /></a><br>"
      ],
      "text/plain": [
       "<IPython.core.display.HTML object>"
      ]
     },
     "metadata": {},
     "output_type": "display_data"
    },
    {
     "data": {
      "text/html": [
       "<strong id=\"count_to_3_range\"><a class=\"ProveItLink\" href=\"proofs/count_to_3_range/thm_proof.ipynb\">count_to_3_range</a> (conjecture without proof):<br></strong> <a class=\"ProveItLink\" href=\"../__pv_it/theorems/400a41641567d9f8914052231bc26dfdd561a8d70/theorem_expr.ipynb\"><img src=\"data:image/png;base64,iVBORw0KGgoAAAANSUhEUgAAAL8AAAAVBAMAAADlQyK9AAAAMFBMVEX////MzMxUVFRERES6uroi\n",
       "IiIQEBCYmJhmZmYyMjLu7u52dnaqqqqIiIjc3NwAAACW8nlqAAAAAXRSTlMAQObYZgAAAAlwSFlz\n",
       "AAAOxAAADsQBlSsOGwAAAjFJREFUOMuVVb9rFEEYfWuyt8ne7qFFSiEE/FGZ+wfUa7QTVAiIBHJI\n",
       "sE06UwaO4IlN0EKwyaJNUgQXWwuvNWnuDxBzEFIGUgTkJHrOzM58OzPfbeAe3PLNzPvemx/fzAEY\n",
       "oArjRhqYAEog7VWOPxrT93MSAyVwKH5zmZ5e9/1VHX3rtJCus5QkB4Ln8OljVmoE4m3Et3e0wTHq\n",
       "50W0i+QC+Mjy9oBPb/7Ap3OQwIyc5ZE2uAO8LKKjXjwENljea7mpxqCkc5BADZbBWobF4mQftiDG\n",
       "a5mf17YNSjoHCfywDW4Ai2ZXk9/ArH8IybZtYNM5tMBb20BgxQQPhHh93kuayW0Dm86hBT64BsFf\n",
       "HVxfEHOL5ISxtSTxVIZqSZYB0TmMwLJrENKcZREkbS8r7LkG4Xz1CrTAqmvQKQniCIMzL6nWcg06\n",
       "l12zQsA1iMyMrgH3e5huX24QVS+ABNwtOkSjqLtRJseTx94ZeFtEdA4SuGsMpEeQI81i2fNCrTBq\n",
       "emlTfW2gSCXdRWYLfJU93weQ9w4n3e4WvsjSeaXKWFWlDVW39X8oSERXyepDLRKYE42FtXfrWBK+\n",
       "K6PREKF8y6a74q1C2PIMArFnV24ObxWkkv4M+hNuio+UIoGQbi5V0gHpnbDVP+GkA16gmSUQbZrV\n",
       "03juPG0uNjgpZ6S6I3BPx/umM+7Tm95kuVMDn1RGhH1H4LNuEC9lahbipk9KeRX1HYFGv/Ky/BrT\n",
       "dzrJX6YQ+A9PDrgoxqF1VgAAAABJRU5ErkJggg==\n",
       "\" style=\"display:inline;vertical-align:middle;\" /></a><br>"
      ],
      "text/plain": [
       "<IPython.core.display.HTML object>"
      ]
     },
     "metadata": {},
     "output_type": "display_data"
    },
    {
     "data": {
      "text/html": [
       "<strong id=\"count_to_4_range\"><a class=\"ProveItLink\" href=\"proofs/count_to_4_range/thm_proof.ipynb\">count_to_4_range</a> (conjecture without proof):<br></strong> <a class=\"ProveItLink\" href=\"../__pv_it/theorems/59db635227b61749de531dfcf38dc54cb10fdd450/theorem_expr.ipynb\"><img src=\"data:image/png;base64,iVBORw0KGgoAAAANSUhEUgAAANMAAAAVBAMAAAAumMZDAAAAMFBMVEX////MzMxUVFRERES6uroi\n",
       "IiIQEBCYmJhmZmYyMjLu7u52dnaqqqqIiIjc3NwAAACW8nlqAAAAAXRSTlMAQObYZgAAAAlwSFlz\n",
       "AAAOxAAADsQBlSsOGwAAAo9JREFUSMeVVc9rE0EUfkmzSbq/1ENPIoaAP05m/QO0uehNiIVCEaGh\n",
       "iNcEL9aLBEpxSy9BD4IXF73oQVy8emiutpe9eBFpA1LwolQRJEVdZ15mZmdnMto8SPbbyTffN/Pm\n",
       "zQsADOH/MYnjwxSBAt7gCMxrE8Y+TmOFAjvkMxexkc8bF9mS3641Oa3QA6+rTXZj8ssNvsPw0XGz\n",
       "DxOw+2Cff8qs/AC2xg4vwP3FmVYN4Ik2/yXAs41D9vIJnB9mKyZQpevdY1bFIZTbiPYG9ogz3xPm\n",
       "qjb/AU0+t7oAcNtsxQTKIFmVD6H4B9HVJnCrwj3CLEfq/LZs1YmgYSwvLvBOtiq2oPiNn8VPBpxZ\n",
       "wpxVD8vty1ZnABrGw+ICm7IVzesBA1e4+C5lOjVlfjWWrUgsG/PHBR4rVqeT8fNUna3S71JmhW4C\n",
       "1hdpLFCI25SsCr9NTkLgpmK1IDLEKtABynTbalUN8lZWzZg/LnArb1UNBKUzHryPzMKBIlBu5q3W\n",
       "jPkTAorVHfY8ATCPbcRPkFlq/9uqYtxUJpBPIGkBXxGkEbMq1euNlRjclnJWSgJ3wDcUeyZwiVuh\n",
       "20mAD4hWaAJttgF6qoGiMJMwKyQVYvA4XY5IFnhD8dYQsDn4S2HYQnSX3qvXWHZwLGC1nTtsmjGH\n",
       "3Hck7YfhOiKcjEPiTQjMEVjvPOzCIlmBlaZpH1EpJO3Wwm5anf+egNVUWwDJaPHs6NyYtJymozFa\n",
       "osnt8S8qJQQsfsldURoZ2hbK+1puruukbb39R5JApSfKHzQU55prPlZ1UjzhTskClxl+JUYFshNR\n",
       "sYGmMjNUSRnSpVDgOXvJeAJ5mq4UdqCSPL0Ck5yAnxzh/3p3wtiXaf7wicBfUVi+2eUw6EUAAAAA\n",
       "SUVORK5CYII=\n",
       "\" style=\"display:inline;vertical-align:middle;\" /></a><br>"
      ],
      "text/plain": [
       "<IPython.core.display.HTML object>"
      ]
     },
     "metadata": {},
     "output_type": "display_data"
    },
    {
     "data": {
      "text/html": [
       "<strong id=\"count_to_5_range\"><a class=\"ProveItLink\" href=\"proofs/count_to_5_range/thm_proof.ipynb\">count_to_5_range</a> (conjecture without proof):<br></strong> <a class=\"ProveItLink\" href=\"../__pv_it/theorems/91e415d80a093d7c8a47926a579352bd8aed56d20/theorem_expr.ipynb\"><img src=\"data:image/png;base64,iVBORw0KGgoAAAANSUhEUgAAAOcAAAAVBAMAAABPgOQBAAAAMFBMVEX////MzMxUVFRERES6uroi\n",
       "IiIQEBCYmJhmZmYyMjLu7u52dnaqqqqIiIjc3NwAAACW8nlqAAAAAXRSTlMAQObYZgAAAAlwSFlz\n",
       "AAAOxAAADsQBlSsOGwAAAqhJREFUSMeVlj9oE1Ecx3+55K7JXXLGoZOIIYN2axwcHGyz6CbEQKFU\n",
       "h1B1cUnoYh2UgEhTHAwFEVw8dNEhGro6NKu63OIi0t4idFFUBEkQ43vv3nv3/qV4P0jue7/75fO9\n",
       "93t/CABEkCZM1X5qQGn0v+UZgNdw2fDgc2rAB/SZD2j6cPssffm39+u8thtfnfHjNSh1NFZxiGrW\n",
       "VIIhOMDtg7vwjJr6NdiLvV5C8Q+rtSv02r6K6p5qrFcAz7cnKsEQHJDHb35ATa0InBZRByN3zGo/\n",
       "UlOLfG9qrC08SROVYAgOcEAwdSZg/SXqUh2YaeaOZOoEKqslmCaEmaYI8E40tRpg/WAz9ZsKryCZ\n",
       "FtRJLfbFkQqEGaYI8FA0xX3/TsVFBt/npnd3y+gdKgoqPxRMRYJuygBPFNNTYXw9WS3TpdFhptnA\n",
       "/wUwhwcGD1ZwNPnQBVNG0IMDrimmTd41uno9KCRjO4fy6jqxR7Jp86itGgNuyKb5Gn/ejpP3RNNH\n",
       "EWTU7jl1yVQgGCIGKKYb9HocYJkcVX7ITc+j35Qh1zradGO2IwfI7UWHyzcipgE1zVWri+tDkrsJ\n",
       "sIhKGsqcyu3lBENwwAVmSnxPAHwiah2316VDqQBRyPo6Wgdq+7IhNXUlghKBCNjFmb0IyAHkr/Z6\n",
       "DaJu4336hixUOFaL1SGUbtEdIgbZQx46EXBRQiBfOJXcccA8uqm2dzqwgt7Fnk6nfaJyPXTg2+QU\n",
       "zy//DInyewu4Rj1aM6jf1unxGVKeEGAVt75LBUlxgF1mk8F7kqj3oKsvWueuaEVFvb9JCgHmuqxL\n",
       "Sb+4GhrUlsbb1Io8fU49CbBE9YBnuXJDXfn6NsxGatFANx1IgBf0Jjm8uCqBrrL6/xW3phYZDsJQ\n",
       "Avhhqv9I+4bc15SAfx6d1fvPz4ncAAAAAElFTkSuQmCC\n",
       "\" style=\"display:inline;vertical-align:middle;\" /></a><br>"
      ],
      "text/plain": [
       "<IPython.core.display.HTML object>"
      ]
     },
     "metadata": {},
     "output_type": "display_data"
    },
    {
     "data": {
      "text/html": [
       "<strong id=\"count_to_6_range\"><a class=\"ProveItLink\" href=\"proofs/count_to_6_range/thm_proof.ipynb\">count_to_6_range</a> (conjecture without proof):<br></strong> <a class=\"ProveItLink\" href=\"../__pv_it/theorems/d3faa1008c40a274cd2267f65fc7692581e858000/theorem_expr.ipynb\"><img src=\"data:image/png;base64,iVBORw0KGgoAAAANSUhEUgAAAPsAAAAVBAMAAAByEoVnAAAAMFBMVEX////MzMxUVFRERES6uroi\n",
       "IiIQEBCYmJhmZmYyMjLu7u52dnaqqqqIiIjc3NwAAACW8nlqAAAAAXRSTlMAQObYZgAAAAlwSFlz\n",
       "AAAOxAAADsQBlSsOGwAAAzhJREFUSMedVk1IVFEU/mbG+fHNj7Nx5UITKndOlEGE06yiTTBIkpgL\n",
       "KVskgQ/b5KIaop8RF01RCEE0JLQzJ1eChG4KrIVDEEULG4jACMKiiBmk6dyf9zP3Pkk98N773n1n\n",
       "vu/ec849dwBUsCtLeA3uiIs7x5e36+4DnjlvTWXdY/tczE6y2xu6WotyZH3ygETfFg7ZsjnxDFUf\n",
       "DMqhxcUk3uuEjMs3qHF5WHTxOeImYBRgdD2W8okUljIcGTmsWksJdsjn2Bnp9zXjz6K5qHISF55M\n",
       "1lQur8zdx17gIRChKeCTZPJXEBoWYdzEXEH6vpPyfvvXjxBIIZxTSTlXvKZyeVhzGQeByxRRuORD\n",
       "Nfj/isyOoEXK+yZU+ZhQGFVJOZcl73B52CoXDBWx4pankPp/2C6mTFOzKh8Qq5pWSVfc8g1cqh0W\n",
       "MTAx5ZZnCd6wKvu0BGu2/JX5pFjY3Rc36DGvkk655d1cml1o+0B1Ee0QS3DJt8v95Hu7R1aJackH\n",
       "iolfHLRMI0R1OcFfbvYz67PD4ZJvL28lXzVxEQgXMKTI9zn5EZUfhSVP1sPvcxuIUOJfqaRDinzf\n",
       "VupGHbhVRGwYI43ykZRTSILnqlv+Du9Uc1mEKQ7tKutIo7yLS5X/DVzLwLehyo9brSaJwCaPfdmW\n",
       "P0LyPPm0J8J/gOP/kR/fuutUSd5E07AS/FgJ30V6a1K+qbOz+2yJj50HukURiNW/VHPfGHyby8N6\n",
       "+OpjWfRa8nwGbcBHjkIdLPhiVoQN9qRJnOMoRrmnvXdJJe215I0GLiXwvK4o91R6KbF7liowqizS\n",
       "A/l8lqOwSfueI4pESnTAdcRHBTqKp8tyn7mNc0Wp1zAnh4vf2JANECgZVPmRElrppXPsnol+mmiw\n",
       "Xq8XOMKJPB05HEWO/SwH2TmSyHcVwVE0z3blKVWecfn3VfdzJxfXAOsBOQvwI2nhOlVRMINg0kqV\n",
       "HScv9BoaSmRVeZvLcYrp0XeovsA5OKLOYeiBSjqKmCqxcwiVdAYPqtt0pSWetUc9kFHW0WedOa05\n",
       "zeqlZ39LsL4wI1+cBumB4tBRWpef0Zz0tut8C1REX9mVxT3+1+2Maw34BwH98TzAaRJrAAAAAElF\n",
       "TkSuQmCC\n",
       "\" style=\"display:inline;vertical-align:middle;\" /></a><br>"
      ],
      "text/plain": [
       "<IPython.core.display.HTML object>"
      ]
     },
     "metadata": {},
     "output_type": "display_data"
    },
    {
     "data": {
      "text/html": [
       "<strong id=\"count_to_7_range\"><a class=\"ProveItLink\" href=\"proofs/count_to_7_range/thm_proof.ipynb\">count_to_7_range</a> (conjecture without proof):<br></strong> <a class=\"ProveItLink\" href=\"../__pv_it/theorems/5c887baa6cf8956a4eac3a8866458deaa9ea23200/theorem_expr.ipynb\"><img src=\"data:image/png;base64,iVBORw0KGgoAAAANSUhEUgAAAQ4AAAAVBAMAAABF+R16AAAAMFBMVEX////MzMxUVFRERES6uroi\n",
       "IiIQEBCYmJhmZmYyMjLu7u52dnaqqqqIiIjc3NwAAACW8nlqAAAAAXRSTlMAQObYZgAAAAlwSFlz\n",
       "AAAOxAAADsQBlSsOGwAAAxpJREFUSMellj9oU0Ecx39JkzR9TV6zdOrQGlC7NeIfdGh0EsdSLRbN\n",
       "IFoHS6GPdqqgBgdJ6WAQpaMPO6uxU8WhXRSqQx6CKA4aEKQgiBYVU4vx/vzu3uXuUlt6w70vd/c+\n",
       "9313v/vdA4Aa7LK4tsbaTgHple0OjwA80glXSRULzLHbpYaAV3SGc9i8NnsA1ZelQ3L+In8m6vfE\n",
       "uM5nT9gz1Wg0fsFbk0+p3b5BNYoEOGWAB7Mb6C4HyyeYcopQFZ8U78Pn5Hkku3dhL/dztFQqQIev\n",
       "4wnV6b/v61SzSEDSo6uIPqI1SFzg67oJj8s49g36iMq3OwI4yDFkliK0F3U8o370darFhwAkQPGR\n",
       "2IDoX6ZiY9CFPiIzho+qWIAUbx3X8YwqfIRUy74IwKrqIzoE0e9yMg8tdxg+jigkGijzOn5V9dFE\n",
       "NQsHzKk+aBB8QxE7i+KD9HFtMcPVlZ53YsPJ5gMs6uw51YdKtZwYDpjXfPTiIYy83oPjPOGjzXd/\n",
       "cFX3YALHR6mhGRYTI6ywwfOaj96gpQ8EFDQfw2EQrGAkCR+kHOanoQFwCyf5TKsXOryg+RhuvS0I\n",
       "GGv2kcyFscYbr6s+brM06fwEuIEb85R9rg4fa/ahUI2CAM3HlMhdGWjbZNsSSB/HiA8eIHXiA6P4\n",
       "NK1O/sfH1BYZFQHN+5KqwFcmujbQRyybHbhYYW2XAQbk9uB6OOu0fq7HR/O+SKqlCMCg8OFQ0QPw\n",
       "HujriT66LxxENOskbi5xVSXxwVXsN62ndfqg8OE3UTULKoAduU6SZmj6dEdLpSGHrDq0eyR/MEXW\n",
       "Jsdz6xqkx7lqqzgTXKX+yGOqFkZdrgEjhFRW0fekkIBuenT21fdDnNxhcXLrlGGEWj9VIvccU8nj\n",
       "6wHtBLfU77NhAEs3M1y57Pye0X1QanbyjscICnWU5pKiECognhHvvpS51jeV7LQpd0j3Iak2lhUQ\n",
       "3lEV5e4xVGUrlfT0GSTVxrID8iJqZMp7CIYKO23qkzlFvjUL7IAF8Qcl+wNThZ02lTd9LLRmtQC4\n",
       "wW7/T9OWf9EdUQngH3Hp/DjXRYzqAAAAAElFTkSuQmCC\n",
       "\" style=\"display:inline;vertical-align:middle;\" /></a><br>"
      ],
      "text/plain": [
       "<IPython.core.display.HTML object>"
      ]
     },
     "metadata": {},
     "output_type": "display_data"
    },
    {
     "data": {
      "text/html": [
       "<strong id=\"count_to_8_range\"><a class=\"ProveItLink\" href=\"proofs/count_to_8_range/thm_proof.ipynb\">count_to_8_range</a> (conjecture without proof):<br></strong> <a class=\"ProveItLink\" href=\"../__pv_it/theorems/930eaa9c2c1c480f40a87adac05e59b793557ecb0/theorem_expr.ipynb\"><img src=\"data:image/png;base64,iVBORw0KGgoAAAANSUhEUgAAASEAAAAVBAMAAAD7r0UnAAAAMFBMVEX////MzMxUVFRERES6uroi\n",
       "IiIQEBCYmJhmZmYyMjLu7u52dnaqqqqIiIjc3NwAAACW8nlqAAAAAXRSTlMAQObYZgAAAAlwSFlz\n",
       "AAAOxAAADsQBlSsOGwAAA3xJREFUSMetlk1oE0EUx/9Jukm6u0nroUchDWp7EJtzRZuLggcxChUR\n",
       "oaGIBw8mN+tBKdbSqAejHoqCuCiIHiShXsSg5qo9NBdFUNqAVOtBWsUqFW2cna/9mCRY6IMmb2ff\n",
       "/N4/897MFEAdm2bNUPENA2LV/w3vhu5P+dnyPB5sMuvDRhRRwCz56+HgeOFmN/cqE2kRFhhn37lb\n",
       "w0JApcLi5hqNRpZ6euVpGrG8ksMsE8Bx+PmqSYBehN5/l2f6COMH8x7C/CNitQT7Prr6jI98SQcz\n",
       "1HlSKEyyNY4CO4HbSqJHwL3Lv+HnqyYBUftnLXBFu4BTzFuo6msi9g1XlJCz7yCUog5ZgCU2dJYm\n",
       "H1MSTdmNIRQ5fNUkIAyXopyFAdYq+9MQigLn/IpMkQFVOTpDgWHLnyjrVuTwVZOAV25F24EBUWjz\n",
       "F3eMTr+iUNYBGTx+btBejk5/I5lFtyI3328ScNWtiNiIcPYJ+LxQ1Pe+lznh688vQbYGs2DjHVkw\n",
       "I+HvjrJbkZvvNwmY9ioK/OXO1qTYdXmhaBDLbP91TSMszoxtYua1VVKPiL0kmBy27Yjt0kVzKZJ8\n",
       "1QTghFeR5jQL32sGOp1ysR1WWkH0NNcrCmi+GCITzKwvjVb1KtISrQRJwEmvogknJMcGL7gURdeZ\n",
       "ogwifBcbRf5qDOZPC4EVX55w2qtoouUSSYBXUUQk3wIM0cLEa0JRqIjoN1a1IiK877UUn0DWbLmK\n",
       "jmx7RZGWS+QAvFWbRZztzobFFXUkkwOjZQrPILgiiifWqMRT6ORNMA8z4+sjX9UkXz2yJWCPUGSL\n",
       "CpQRs3R7ZNSums5/ZwI6bSiEUzTMJH2UpR4OkRuGhp0hQuuIpHyJQjWuiAY5fK9ZbsCMPfKyDnpE\n",
       "L5JLAaUiPUHJeVRiTdKVol58HG8tdpLvxgN+ps+R5aNhByyc55vdbfQ4MNZ5kOTTyfRDPklAD3lI\n",
       "5m7kYd+iI43GGjT7XuwokJuWeogOfa9Rb+niFdAwGIVe7n0iVaEvA/0F0jJa2qcoQMoY3LHWx4Ic\n",
       "/jHwD82+xm2UBGjyjJb77TXaeE5YswmLSkEOt6OqKAKIjIv1le/L7TwnrNmEqSabug1VRdmAvdx/\n",
       "LLu+1s6TYc0mxFNKslC9NUtFUcB9/iDjYmjn1VQvpqR37+pUa5aKooB4bfP+z55vMvZ1g4B/RU0m\n",
       "0vIWGTsAAAAASUVORK5CYII=\n",
       "\" style=\"display:inline;vertical-align:middle;\" /></a><br>"
      ],
      "text/plain": [
       "<IPython.core.display.HTML object>"
      ]
     },
     "metadata": {},
     "output_type": "display_data"
    },
    {
     "data": {
      "text/html": [
       "<strong id=\"count_to_9_range\"><a class=\"ProveItLink\" href=\"proofs/count_to_9_range/thm_proof.ipynb\">count_to_9_range</a> (conjecture without proof):<br></strong> <a class=\"ProveItLink\" href=\"../__pv_it/theorems/20927c886a6e9291c7774ec5f917c2197fc46ab90/theorem_expr.ipynb\"><img src=\"data:image/png;base64,iVBORw0KGgoAAAANSUhEUgAAATUAAAAVBAMAAADV6mS1AAAAMFBMVEX////MzMxUVFRERES6uroi\n",
       "IiIQEBCYmJhmZmYyMjLu7u52dnaqqqqIiIjc3NwAAACW8nlqAAAAAXRSTlMAQObYZgAAAAlwSFlz\n",
       "AAAOxAAADsQBlSsOGwAAA+VJREFUSMe1V01IVFEUPm/+ffPmZQtXEY1C6iLyRZswytkUtAimwpAQ\n",
       "HCRaROTQJgsKsaJnEU21iILoURS1CCdXlpWzCspFb2NEhQ6EYYvSLC3tZ7rv3J95vp8hFz7Q+737\n",
       "zvnOd8+951wGAIqwDI8XqbpkgkThf82rQXaGVI/72O70mHu/FG1IMEL+agw2M9m3gQUdOpXiZlIP\n",
       "HbuutXK7oaFqHJVSqTSHSB4a5A56rwGJrCuakidU+/ii9CvVvro4gZwDufEmi6lqMEwj3APlNzcN\n",
       "J+m4d/Yxm/mUCqQRxDfpejuiGMA6+vGOKR0GuO6KeB/gVt8Ce/kA8e9+0gRBzFrgONMWKEIkg2i8\n",
       "IM9z21GmLSm8b0BQo9rIemhWj2Jw66kH2AjQ7Qp51jpAXNt6gAN+2gRBBGzaIgsQ+Itoewq4NumY\n",
       "U5uyIBBZD0UDQhvxGzYgYjhDZuzaugxo8itCQfDCro3sVOArD/uDgXiVU1swY2N6SIdXzZgYcki+\n",
       "Eb4UVDkPnJKza1sL0ORz4MoE5+3arMM1zcA2Tj7GtTW8q2XpvfT0tKhUjS2r9KZQXnYW4klHyFje\n",
       "ro08HVAhb0hw1aFtjUnH1XVsWWqWa2uGKVooK65ChHeeAK/Oi7NFcVxaTIhaaYIzrdaz24KYSJs2\n",
       "6U+F80YJ2h3ados9YHUah6ryZtLq7J+G2EE29ZGbP2thDndTUlMBlIwjYriwWFs46adNEOxfrC2m\n",
       "CZMuOnnSpi1GC6U/DVHeAR6xsRuUOeogX3gyXg3StCNiJLVY2ynf9iYIHNqOsHElyStum2pybcEc\n",
       "xGihrMhBlFfKHjaSPE6JG4aUWShTWVs0WelWoASL95T07i8ISgbTFqqra+rMIzkp4mm+tTxv8gwb\n",
       "yZeAKE3SnpS047w59nQE1AoXOSXYwrWhvFUAbxF1WnsqsxUnQaZ9NqLhR4Wctwx1CP0E6ko6ebCI\n",
       "Ds8NmaQ3qjnCBU2mDY2kPCQ4v/0x7AQDmMIi4DWgtul6GtFRq7/15+gWaojIBfDaoLfFZrjL7g3l\n",
       "F1DXHQacoA6jRjDLWob9waYSJwcWjSZ0/QwidMYp8SYIashLXdflLFj3eJhc3TlEIZ3c9WG8mWMt\n",
       "Myaiyd5zgB8hrtcypB4CiqRGnTnEB63mF045tElkkwP18w3UqKNUmqeozTLu4f8sKkEQ5t1ZEfVQ\n",
       "Ri/BhbzMvBwmXNu1qwIruKkIQbSH57ycfYHybuRl5uVw1hW2uwKrB5VFsJXhB2JWINl0Iw8zLwdV\n",
       "c4UNFv1Z3VRIcJu9lO0ESoAbmZVQwiXE3lI1f1Y3FRKo5nL8XhjzmPu8RIJ/JSpAiy6B3dgAAAAA\n",
       "SUVORK5CYII=\n",
       "\" style=\"display:inline;vertical-align:middle;\" /></a><br>"
      ],
      "text/plain": [
       "<IPython.core.display.HTML object>"
      ]
     },
     "metadata": {},
     "output_type": "display_data"
    }
   ],
   "source": [
    "def count_from_one(count):\n",
    "    return [num(k) for k in range(1, count+1)]\n",
    "count_to_2_range, count_to_3_range, count_to_4_range, count_to_5_range, count_to_6_range, count_to_7_range, count_to_8_range, count_to_9_range = \\\n",
    "    [Equals(count_from_one(count), [ExprRange(k, k, one, num(count))]) for count in range(2, 10)]"
   ]
  },
  {
   "cell_type": "code",
   "execution_count": 39,
   "metadata": {},
   "outputs": [
    {
     "data": {
      "text/html": [
       "<strong id=\"reduce_0_repeats\"><a class=\"ProveItLink\" href=\"proofs/reduce_0_repeats/thm_proof.ipynb\">reduce_0_repeats</a> (conjecture without proof):<br></strong> <a class=\"ProveItLink\" href=\"../__pv_it/theorems/bb3e1abe350064c7ee673d62e43121f70ee7c3430/theorem_expr.ipynb\"><img src=\"data:image/png;base64,iVBORw0KGgoAAAANSUhEUgAAAQgAAAAVBAMAAABI5209AAAAMFBMVEX///+IiIgiIiIQEBB2dnbu\n",
       "7u5ERETMzMzc3NwyMjK6urpmZmaYmJiqqqpUVFQAAAB6qHgnAAAAAXRSTlMAQObYZgAAAAlwSFlz\n",
       "AAAOxAAADsQBlSsOGwAAAxhJREFUSMeVVk1oE1EQnm12878hOQjiTw2BIihCFHvpQSP02rIerJQc\n",
       "bA9C8GIURU8aUxC8SC6CBw/RnMX4g7891ItYqhhqPRQFI+LPQcSL2IKi8/6y77287OKwX9idycx8\n",
       "+968mQXolxpHkMT7Xf7n/9wrPsgCVochULaqj9fDSCSzpkRES9Alj+9k2wpHkLgl/x3H7zfBWghj\n",
       "saVftcK0iMfk8apkchoMgTLt35bB/QNwJYxEwtM1JAnRIs6Rl5mRbKkFhkCZ92+3dZx1gKUwEum2\n",
       "riFJiBZBuNhyBUQ4AqXo37aagCQiXpjLqK6ICO0opJFPQratcgSWhLJd7m8MwdbuK+Ki2eearlgV\n",
       "WsSeQmGvbLvHcXD48DhbISf36dSEupIl+ekGErBpgUO9CvHtWjIeaFInQZJQLeIBwFGdMUHb+pDK\n",
       "s5QwnL2jVplcMye+V3Fj2dogA+ShCg+0SEMVqHR7S7PIcBniXdlnF0O6lv6ZYbmewyvvmxJ3SGkj\n",
       "5HS4vErqZ/WFEIFe6ytBElEtIurZTdk2xhCDlNj4KjzSawo9puk70ZT7PYj94F2joC+ECHReJzEm\n",
       "tAg3mwADCczkN7ndBhJCzgAc70CyOIiECNQykmhxNJ7iT+7h5pqyHQC3ag4/d8k1ODRwO/56hISb\n",
       "H7QdItCyXhM0yTLHBHY7q/Y5wQPPMkw1P4INgN7OsUwRSuBIYaPSJNhHtyM9YypM4sMDwTOdG0lE\n",
       "tQRzyCsNszFu44fm/em7cBNIM3R/lYvJDhwh7XydasSBpPKC9gl+aHtHFP/NLh6In0hZJuWGkKHU\n",
       "14TtJEM5587j2hQ8cG5n377ELRhBw056QSwvzccnOMBgiFXJF8QlumFteo30AsEOnQRJRLU9S6wo\n",
       "5vpQlYEfP78dv5EC9G183dwmfZ94XreRJETbs8zZjZQ0afxpY/tOcpdcCphospSUcdU/0pRpmdp0\n",
       "YIMwVjhYz/WLTP4siWqfUsocBpOPYaJUmNY4a6Y4qPhRLCW6ljRq/r6zlIyGRBWzBd8qyxAoF9TH\n",
       "jWGD3KqZEhEt4h8Id8LFtCu6WgAAAABJRU5ErkJggg==\n",
       "\" style=\"display:inline;vertical-align:middle;\" /></a><br>"
      ],
      "text/plain": [
       "<IPython.core.display.HTML object>"
      ]
     },
     "metadata": {},
     "output_type": "display_data"
    }
   ],
   "source": [
    "reduce_0_repeats = Forall(x, Equals([ExprRange(i, x, one, zero)], ExprTuple()))"
   ]
  },
  {
   "cell_type": "code",
   "execution_count": 40,
   "metadata": {},
   "outputs": [
    {
     "data": {
      "text/html": [
       "<strong id=\"reduce_2_repeats\"><a class=\"ProveItLink\" href=\"proofs/reduce_2_repeats/thm_proof.ipynb\">reduce_2_repeats</a> (conjecture without proof):<br></strong> <a class=\"ProveItLink\" href=\"../__pv_it/theorems/c856adf46d0fd4d513adcca75a96b08a51b604480/theorem_expr.ipynb\"><img src=\"data:image/png;base64,iVBORw0KGgoAAAANSUhEUgAAAPAAAAAVBAMAAACK8n6QAAAAMFBMVEX///+IiIgiIiIQEBB2dnbu\n",
       "7u5ERETMzMzc3NwyMjK6urpmZmaYmJiqqqpUVFQAAAB6qHgnAAAAAXRSTlMAQObYZgAAAAlwSFlz\n",
       "AAAOxAAADsQBlSsOGwAAAs9JREFUSMeVVj2IE0EU/pLLJJvsJmwKQfwJISAnihJFEawiHHYnsfBE\n",
       "rtArFLGQINp6aw4sJY1gYRGxFuN54A9XRAVRRAz+FKKQE9HKwkLxxMb528zs7NwtecyX7L739n37\n",
       "3sybWSAugcS4YnvGsWoc6/OpgcDYcsui2xrTFHyBFXbzWbe8lzBlanNCGVL9mKrYiLttEXjMrm9o\n",
       "etIRMCU/INsTUr4e05yweOWbHJdZyU9percvYMpT4HAC8auYZtni5fU4GH9Gn9EJCVPOA8Pm+sQT\n",
       "MXvd5rafw6PJ5XX1RwlT/gHz7AVLgVEirYhmoYodm9tNgb212j5dvSRxtHJ8SqsEYcQssDMJtFvR\n",
       "UKT87eI0rdyKQeE2RjaokEfA8QA4bXkf9FJf3KrWfr8osc+u2i3GHSVAxV+kM8cTXKwx2R2WQNqg\n",
       "Qr4ExzU4kRfdJeAF3u9S3yDmzeFMmgnjBd40f9DKmlOaHoxsUCHfgSPbzHR154MCObiRCSKU+C7P\n",
       "GG0zYbTwiP3lfpqrrTuyQYWcFyj6kbUVEtOnfHNxDQdrEAN7+KZUtxBLG1TI2xKdJ/Sn/DDcl2Sp\n",
       "aX4B0dvjDGjN1ig1Cqs4RnOoGnPMSi1tUCHfQmCabjip4HteLuE5gZnuV2QARf0MsmbG4qIe5Fyp\n",
       "Djr/ntllWT+0EYxC4rnEAl1bHuZy0lku9uGl+7gD8pfeneywkR6QA9DbidrEQPHPbL0wEN0TEdpf\n",
       "0kYDyJCqYUu8cKuh8wWB2XJxmcaq0YTSPTbIUoU7MneHL5KdfFAPcs//9JpVtmsQ56qhLb1tFBI7\n",
       "JIRLPTwj0y0Bufc0kw5DzaMdM6o5+aAasyrAZSHTcaN7eFisxFM4s96RoI6Nhv0Ucjcd2hAazkqI\n",
       "XS6RWHlYdvBseIQT1ZtXJWIyI8HFTyT24yzathO+S0rpIolFPop8gbFlo0V3Jf6dEnD8B36xuxmh\n",
       "yK6mAAAAAElFTkSuQmCC\n",
       "\" style=\"display:inline;vertical-align:middle;\" /></a><br>"
      ],
      "text/plain": [
       "<IPython.core.display.HTML object>"
      ]
     },
     "metadata": {},
     "output_type": "display_data"
    },
    {
     "data": {
      "text/html": [
       "<strong id=\"reduce_3_repeats\"><a class=\"ProveItLink\" href=\"proofs/reduce_3_repeats/thm_proof.ipynb\">reduce_3_repeats</a> (conjecture without proof):<br></strong> <a class=\"ProveItLink\" href=\"../__pv_it/theorems/02b09853752843a40dfcf4200fe36ddad38d12b10/theorem_expr.ipynb\"><img src=\"data:image/png;base64,iVBORw0KGgoAAAANSUhEUgAAARsAAAAVBAMAAACEflfWAAAAMFBMVEX///+IiIgiIiIQEBB2dnbu\n",
       "7u5ERETMzMzc3NwyMjK6urpmZmaYmJiqqqpUVFQAAAB6qHgnAAAAAXRSTlMAQObYZgAAAAlwSFlz\n",
       "AAAOxAAADsQBlSsOGwAAAr1JREFUSMellr+LE0EUx1/izm2S3Q2bQhDFEAISQZBVBNsIh91BrlA5\n",
       "rvAstLCQFNrqmusljWAZ/wC58xT8QYpTG0HEbawUciJaWVgontj45sdmZ2Z3doo89nvcvtnPd1/e\n",
       "zOwuQD5qQgtEbLAtBeLioaNCC8RDg20pQLVHTz7LI0GfqySWj8Tl5VR2c6lySwpQvaQnD+SRNSFz\n",
       "1BNy3NKe+7nMmh1A3aazuiEPTIXM8RrgvKWcd7nM1A6g6gMAJ5EHIiFz3ACYDcrdD+TGIzuA8nHC\n",
       "6socj7lK4h/AHfoLmrHe2Ww+9cVjsWQA1elu94yc9/pcpPXt5gpPrbYvLUsNJLQcertaD2A0VG0F\n",
       "5uxptzNaSgDVM4CrRWV60A53eGq78sXrSA+QX1hOSP8bDWlF6m055rNm7HRpnExtCy0lgOoe1JRf\n",
       "Uk243sKHwQ+W8WP/d3NXK4dt21pPb06KBfpSMVpKANXSwJkoa2rCNYQXIuOCp0w8wXK2WHdgpDcn\n",
       "xdyf+lI1WUoAVRDWoagcgFNZLtSX8iwxlCOwRlRQjsFyDjBo/Ar/tJ6nD9p0sqCxDxcEsBUTeeNe\n",
       "A2ywYbIEFnS0tWO2zAAGreDDsBJ/r4u9sxQykevNCPpAMHNx8hUcgKygNyC6ri1lvEJg4Ov732Qp\n",
       "AwzaxJXswxVXcGLHBX/Wo0YCl3GKZ7eewCMgf3EQT/GoJuQsyBsdx/iRYmxfK2GylAEGNVm/91PO\n",
       "7TCRx+Gn99jjYwDrrWCKQBd/S3WbHuRpmzGUrLEleYIdeIXAoDrRyjFZykAGudH8c6QnxONj9lwd\n",
       "2D4rpCtGuUGL5UiGNp2xp73MRGRNd6xfOU7ZC9Niqby4vcPnDs4XXczFnzHZfly1lpNdUfAmK7ek\n",
       "QPHrj2xw8c+iLB9aywnz91ZtzZZKD9S4K7RAHDLYlgKo/xJv3jWQGIuTAAAAAElFTkSuQmCC\n",
       "\" style=\"display:inline;vertical-align:middle;\" /></a><br>"
      ],
      "text/plain": [
       "<IPython.core.display.HTML object>"
      ]
     },
     "metadata": {},
     "output_type": "display_data"
    },
    {
     "data": {
      "text/html": [
       "<strong id=\"reduce_4_repeats\"><a class=\"ProveItLink\" href=\"proofs/reduce_4_repeats/thm_proof.ipynb\">reduce_4_repeats</a> (conjecture without proof):<br></strong> <a class=\"ProveItLink\" href=\"../__pv_it/theorems/76e9ed74e80a5bec02ada49c5143bcda400b9c490/theorem_expr.ipynb\"><img src=\"data:image/png;base64,iVBORw0KGgoAAAANSUhEUgAAAS8AAAAVBAMAAADlZnWUAAAAMFBMVEX///+IiIgiIiIQEBB2dnbu\n",
       "7u5ERETMzMzc3NwyMjK6urpmZmaYmJiqqqpUVFQAAAB6qHgnAAAAAXRSTlMAQObYZgAAAAlwSFlz\n",
       "AAAOxAAADsQBlSsOGwAAAsdJREFUSMelVj2IE0EUfpvbTTbZTdgUgqgcISCCIkTRxiqC7R2xUIsD\n",
       "zRWCWAVRsNLlDg5sJI1gYRGxFuMP6MkVZyOKiIeexaFg5PCnsLA5zHXOzJu5mUxmdhfy2C/38u37\n",
       "vrzZmdk5gPGIOSaIOCNnCN9a6qwhJon7ZtssUYpQPqBfvqp31jkSorA/xd1ZHaPWsw5qH8pf0vyu\n",
       "wntdREKcX95Kc7+jEymWShRbTH6DTmtb4YNVROIDSW3snU6kWcoI+0xO+3PV6Z/imKyxqZZOZF+g\n",
       "x5k8JCMpqvQGR4bGfhMsWeZDf0Ab2Ru7h/Kj9foxlX7GcXr63Cl8kl71x9UZU2MLHfAP6GsJi92B\n",
       "xlstJSnSWZQ/B7io9cvQd74HNVweMB09MTVGuiK9aWsJi0O61oM6iwEkWUpSpG9Rfhv8kdEdRoRx\n",
       "uFXB+XgDH1p/jGts4br+wERxuaHxNkuFFOknlOdbbk91OIEoQCA2eAeWLYvfr+sPTBQX/mq8zVIh\n",
       "RXoT5eWoCIbGyM6Idrgj2RvjxaXGeGMWS4XE9AGXd1+Rj+qLvfHIVAI8ij2+50tDOJN1Knlxuaat\n",
       "MbulJHn6kctnyGvWiX8W+daYR5ztbYILQOq8y5UGNMFLX/yyGMK21q/NUpIihddcvkhGFMJ8gTvM\n",
       "Ir5dewoPwdsm3f+ba5TW4AKdf/JB/7rD0dcFKcNLFEPQ1BqzWUqSp+zNwuQVNuihcLiCmKuWV8gP\n",
       "1FvgPY6+vAfI0YM716dXZXObbalfBLeY6BC7ZDHkelpjNktJihQOqvJCw+dZroPAKMuj5XPqK1sp\n",
       "XtDvpVgqpF9T5ItuN1DOUAoMV1o3UxtTildMR3OCpTt63O/Igz0nd4n8EgeeEvKsiVIbk8V+e+xm\n",
       "sqUk6elrkNPNwcFCSp3001cW52Ojrd0yGhlB3vi/tR8hJondZtss4cRM/h+JF+lYU/FXmQAAAABJ\n",
       "RU5ErkJggg==\n",
       "\" style=\"display:inline;vertical-align:middle;\" /></a><br>"
      ],
      "text/plain": [
       "<IPython.core.display.HTML object>"
      ]
     },
     "metadata": {},
     "output_type": "display_data"
    },
    {
     "data": {
      "text/html": [
       "<strong id=\"reduce_5_repeats\"><a class=\"ProveItLink\" href=\"proofs/reduce_5_repeats/thm_proof.ipynb\">reduce_5_repeats</a> (conjecture without proof):<br></strong> <a class=\"ProveItLink\" href=\"../__pv_it/theorems/adabb2e574dae7a349e5651e39721c0c2898ff480/theorem_expr.ipynb\"><img src=\"data:image/png;base64,iVBORw0KGgoAAAANSUhEUgAAAUUAAAAVBAMAAAAjo+EtAAAAMFBMVEX///+IiIgiIiIQEBB2dnbu\n",
       "7u5ERETMzMzc3NwyMjK6urpmZmaYmJiqqqpUVFQAAAB6qHgnAAAAAXRSTlMAQObYZgAAAAlwSFlz\n",
       "AAAOxAAADsQBlSsOGwAAAtZJREFUSMells+L00AUx19r0qZNUtKDIIpLKUgPght/3K3gdSF7UFn2\n",
       "4Hrw4qkHvUrsgkfZy4rH+geIawV/tQe9CYvYg3tSsCqKB2H1IK5e1vnVJDPJm9D2kW9DvpP3yevM\n",
       "ZCYA6bCE5ogQwU5PCbObjgrNEfcR7PQUqjG9+JBscdtceFiDux09vfAyZemRKIXqBb24l2xZEcLj\n",
       "Nhj/cvCbKWdlhuHY5LpJ+2Ut2TAUwuM7wOkc+nbKGc5Q4zZXJQAwRskGXwiPswHshnr6gUB1/Blq\n",
       "pBQih4x3RZo3G1ya+AywSydkLVTHIIqKOiFzkIBSqE41m2eSvt3mMutfry9xa3nh0vmRnL3I3p0W\n",
       "QFd5e0SaMVYehyJ1JqVQPQW4mlW7DQten1tbhU92Q3pi+Rc7dTu0TLkWnuawbus3aZyYYDOROpNS\n",
       "qO6AJf3n4ojrNbwNfjDHCZ3fNXnsijzFaqndOElz1emHInUmpVCVAqMnzdMeVweeTzoNbHUyPRHn\n",
       "rtqNk7TyT3X6Y0idSSlUrleBrBoBTsaeJz/QGaM1irSqn1EjgsRNSmGkjVfkp/7sSCiPNVT34IJI\n",
       "eBia0lryDqwQGWuR5jaU+YgjNSalMNISWckL4beKeHNLHpN5reZDG0ziXOx9AQMgrrLchkKQ8c4Q\n",
       "T6SBoy5JGFJnMgojrZOBc+BKWcDE++7+WfWrI7hMZsjHG4/hAZh/SSO5JEd3MOhLaw9p48ckjS01\n",
       "UmBInRmtg1Bjw7UXdVKDyXzkvX9DhugYwGrdHZKEJvmDxS16LO7v04JZpsWm+XF2kDtEGhR7So0Y\n",
       "UmcySkwq+9HnXUuIx068UwR520Lijm6qMQe5g1Ei0rqxYSsbuYh4zIzcrcvQfUHkINsYJSLZh88d\n",
       "jGZ3yMU3pXg1WM6tMb4jYxfXIzNNSsn+HjDXuPhnZux7uTV66YJkLI4sYJRS9gfWLaE54hCCnZ5C\n",
       "9B/6Ov2yI/sWawAAAABJRU5ErkJggg==\n",
       "\" style=\"display:inline;vertical-align:middle;\" /></a><br>"
      ],
      "text/plain": [
       "<IPython.core.display.HTML object>"
      ]
     },
     "metadata": {},
     "output_type": "display_data"
    },
    {
     "data": {
      "text/html": [
       "<strong id=\"reduce_6_repeats\"><a class=\"ProveItLink\" href=\"proofs/reduce_6_repeats/thm_proof.ipynb\">reduce_6_repeats</a> (conjecture without proof):<br></strong> <a class=\"ProveItLink\" href=\"../__pv_it/theorems/30d71d1ef68459ebc2d035e53cd0055b3dd8a60a0/theorem_expr.ipynb\"><img src=\"data:image/png;base64,iVBORw0KGgoAAAANSUhEUgAAAVoAAAAVBAMAAAD1BjtIAAAAMFBMVEX///+IiIgiIiIQEBB2dnbu\n",
       "7u5ERETMzMzc3NwyMjK6urpmZmaYmJiqqqpUVFQAAAB6qHgnAAAAAXRSTlMAQObYZgAAAAlwSFlz\n",
       "AAAOxAAADsQBlSsOGwAAAutJREFUSMelVz1oFFEQnk12c/+XvcJGwxEOJOAPXIJpUp1gJ5GzMBYp\n",
       "NIUQUh2iYGWWJARs5JqARYqApYjnD/hbaCNaiEFjERTuRPwpbA9jEfC9N29vd9+btwvusN/d3syb\n",
       "780bZmfnAHTxJP5fsmCgTUNIkoK1jUgheZemTUXI0eM/voQtOxJmWTu9lMA+pqt2Up1/DPGM398K\n",
       "6Z02wixOB7oJico1Nad2qmg5IcN1XhEXQ/rCS4RZrH24kLB3saNq4ikThRMy8KDtcKaGJWKKaAZG\n",
       "kzI1rSqGIZ1MCxTZmXNh9a5ErHRFpn4xrNMLNlXFbspoNxFTtdqJsPqRxNnq+VOYc6fy/cpsNLvH\n",
       "xNdKC7ITCqt0O6PuZqQklbqdEzI8BrhEHAI61tfCOJYcVN0H4SWZ6k/sghM84KhIt7fCsSakB3GU\n",
       "pFK3c0KGm5Dthbc7jih6xX4Zn4w38L75W6kEzMbKNTW1vttHNbcmSnof3c4JGUaa9laYdgaRgYL/\n",
       "JLXgqfbM9DG5NTW1vtuy6mGipPfR7cuIkpsDIloWUfBCmoxG1IKRfUO0vtttIloDJb3PJEHI0X7F\n",
       "PipPDnmRSgC45zmyx+f34Fxo49G+H61eCb7bB7VuzZSkUrNzQo7ZDdbwvR852XQXEHNb38AGYOuc\n",
       "pXIdGuAEh+3JSlCfsubADV6rhzBRkkrdLgg5VtnZi7CQkbSyVXSvPoS74PxlpfJnvp7fFq8v9pNd\n",
       "rEVjvx10MNTzxeiGDSsiJkpSqdmDxloW6dnzaS8j5iulFyzbtSY4993P7wCGDjPDUXHdeY5TDe9j\n",
       "N8Qd6tli6QZH1GhNlKRStwvCAWmm7o+PQy0ESikYTz4lvm+Cxdlx1ZZASe8T3HLCAemq3S5E5wcp\n",
       "duDaSIzWjplhEijpfRr0rFU4ePKAb1iUwPdeMPK5idEGi4npIZ6SVIZu100jyZyEkGC9lTx5uHpo\n",
       "UVozJam0omddJP8DuYgUYnk0bSpChn/r3w19HdlKDwAAAABJRU5ErkJggg==\n",
       "\" style=\"display:inline;vertical-align:middle;\" /></a><br>"
      ],
      "text/plain": [
       "<IPython.core.display.HTML object>"
      ]
     },
     "metadata": {},
     "output_type": "display_data"
    },
    {
     "data": {
      "text/html": [
       "<strong id=\"reduce_7_repeats\"><a class=\"ProveItLink\" href=\"proofs/reduce_7_repeats/thm_proof.ipynb\">reduce_7_repeats</a> (conjecture without proof):<br></strong> <a class=\"ProveItLink\" href=\"../__pv_it/theorems/e0d36935cb8cc0e6e1715be03c164006dc141a6e0/theorem_expr.ipynb\"><img src=\"data:image/png;base64,iVBORw0KGgoAAAANSUhEUgAAAW8AAAAVBAMAAAB73HI0AAAAMFBMVEX///+IiIgiIiIQEBB2dnbu\n",
       "7u5ERETMzMzc3NwyMjK6urpmZmaYmJiqqqpUVFQAAAB6qHgnAAAAAXRSTlMAQObYZgAAAAlwSFlz\n",
       "AAAOxAAADsQBlSsOGwAAAtxJREFUSMetVr+LE0EUfsntXrLZ3bgRhKB4hIBcIcgq1hLB9iBXqBxX\n",
       "GAsbG69QsJI1B8I1kubAMvcHiPEs/EGKs1MOMY2Vgifij0JOG/FsxHkzs9nZ2Z39QfaxX2C/mffx\n",
       "ZfbNmwGIRpVjhvAUsgWEp5AncZxjhthSyBYQWxx7+PJBHLE7DElRGSWPl3YiVJpk1kBpxAt8eSCO\n",
       "rHAkRXkvZcJmhFmBgmKT4Q5WX08cGHMkxeE047sRZlyU8V0GowugTcQBlyOpUl6nGZ/ryoxblHGU\n",
       "JrBIuRihWhwwJIVmUOPfCe7FzzDkIk+TzB4ojTjTbp8VebPDoDe+3Fxi1PLC5Quhj9JkxvtrUF2U\n",
       "ZHmaJn8SpWRuEqURTwGuxf0hExacbUaNSp/MltiRd5hx4pp4lwyyNIsu8HYb45QvGyuZm0RpxH2o\n",
       "hlanPGF4BW+7PyhjedbvuvjpNWDGoX9bXnA/zZZLWimZm0RpxHxXG4Zqf8iwBs/9rQjmQDLHjVfb\n",
       "8oL7aZVf8pZSSeYmURphOwbEGQc4HXBO6Ox2EozztJobY1whmZNEaSo/eEl+Gs+OeeFSgdoBXOQJ\n",
       "jzxdaG+1/f2f5zqKUuFpdkuqcbVkXhKlqfwSOYZK3leD9415h0K/XnehAzphLg0/k7IGsTPPxW5O\n",
       "MoOngdWT/o9KMjdJpan8OjFhwdWKv/NYt7H/rLq1CVwhBfbx1hN4CPpfMkhekYFDvVA7JGPs8dNo\n",
       "9wu3foVkbnLar6FOF+1geiq2KPTHzvs35AufAFht2GOS0Cb/ujzCB8wb/7DwvhFs0KST9CEzeBqU\n",
       "h/Jhq5DMTVLpQL7iTq/Lixws3gVnXzftTBNm9CODKZLZyb4ov64NTOkSw6MjdO+00JKuVCmS2cnQ\n",
       "JdA8ev7IdBt5DOyYDXrRcqrxYEa1FxlMlsxOonSMPE7vMbBre8A7qcadqMuwrFoyOxla13Dc5Zgh\n",
       "mgrZAqLJ8B85wB19Zi7w+gAAAABJRU5ErkJggg==\n",
       "\" style=\"display:inline;vertical-align:middle;\" /></a><br>"
      ],
      "text/plain": [
       "<IPython.core.display.HTML object>"
      ]
     },
     "metadata": {},
     "output_type": "display_data"
    },
    {
     "data": {
      "text/html": [
       "<strong id=\"reduce_8_repeats\"><a class=\"ProveItLink\" href=\"proofs/reduce_8_repeats/thm_proof.ipynb\">reduce_8_repeats</a> (conjecture without proof):<br></strong> <a class=\"ProveItLink\" href=\"../__pv_it/theorems/9ce3c48afd4e33ff958d77a81b7972486901f06a0/theorem_expr.ipynb\"><img src=\"data:image/png;base64,iVBORw0KGgoAAAANSUhEUgAAAYQAAAAVBAMAAAC03oSyAAAAMFBMVEX///+IiIgiIiIQEBB2dnbu\n",
       "7u5ERETMzMzc3NwyMjK6urpmZmaYmJiqqqpUVFQAAAB6qHgnAAAAAXRSTlMAQObYZgAAAAlwSFlz\n",
       "AAAOxAAADsQBlSsOGwAAAvZJREFUSMe1Vk1oE0EUfmmyzSabhC3qRUsJESkohSj24sUKeqzEg/XQ\n",
       "g+2hUDwFUfBklxYKImgugkIPgZ7F+Ic/iOhF9CAWrYeiYET8OfQggjS9ObNvNrs7mZknafrIl6bf\n",
       "m/e9eTuzMw+g0zyB7s0GjWxPzdZlgsQKQm9VsMzzybpq2d4az8LR5P98jnpWBfR29FapYlYf7KRW\n",
       "oec2iHjKf9+M8FYNYbC9f04Q4pmOEgnJroxnYbjMN9RUhHdeIAzWJMVzDZkhJLsynoWBV5KKbtOk\n",
       "wJZKgFGZSMI22KiPHHs6mSi9JvAfJfxiWFQPWZKJte0oYQlxqFQ6HKUfCJwaOnMcV8ca+H5hPDpk\n",
       "fedP/+98FexhSVWEnZSzaSUJ0ujnWRgeAcwoKoNG4qtTxG0MQ+696JAZuF73D+ZhXkXcRNgbP7Dk\n",
       "WxNMkgRp9PMsDNfAju3tEUTOy/0t4Cv4Gt5V1uMT7UfR+UvyIgRhH+RV0ElSpNHPszD0V1L1aK4j\n",
       "iDQ4tfZN9qTjfGnh/ViSFyEIm5MjdJIUafTPIfJuBhQlsDMkvGIPxpegBs6GpoQgbFlRgkaSIg3+\n",
       "ZYHaS/Y18HiPF9tIAHc8S1xQ2Racjk6yCIXfmo0UhL2X3wW9JEGa/DwLx/gN1sB4PzLiBJhGTNS/\n",
       "QQqAjbPOFcowBlZ7koxOTqle50o7DF7JlekkCdLo97NwLLCnlIPptMglDqovF+/DbbA22U7bmCxn\n",
       "V+Asbzw2+cduwI5K7FBFng/GMDxDY6aTJEiTP7wACv6DbAW5ziMmB/LP2Lqwfs666356C9C3jzkO\n",
       "+J+rzx/6Q/ntcMX/hTwbLMJgv1yCTpIgjX4/SztTuhx03n1VBFo+7Nc+kpdlONguyj5CkiKVfp6l\n",
       "nWkhVXPivVO47wMbI0tIGZo6QpIilf5YR+rsPrYrcMwK4E0edssuWUI4WNE5mSUJUu1f1PVoEwK+\n",
       "heMTdNflds43LquXJEi1f1adie0uF7EFS3hq2d4az8LwD6bMK42D0bYCAAAAAElFTkSuQmCC\n",
       "\" style=\"display:inline;vertical-align:middle;\" /></a><br>"
      ],
      "text/plain": [
       "<IPython.core.display.HTML object>"
      ]
     },
     "metadata": {},
     "output_type": "display_data"
    },
    {
     "data": {
      "text/html": [
       "<strong id=\"reduce_9_repeats\"><a class=\"ProveItLink\" href=\"proofs/reduce_9_repeats/thm_proof.ipynb\">reduce_9_repeats</a> (conjecture without proof):<br></strong> <a class=\"ProveItLink\" href=\"../__pv_it/theorems/4d80a022877b8aa5cee405de1b4a2b4dfa91bea20/theorem_expr.ipynb\"><img src=\"data:image/png;base64,iVBORw0KGgoAAAANSUhEUgAAAZkAAAAVBAMAAABmjo7qAAAAMFBMVEX///+IiIgiIiIQEBB2dnbu\n",
       "7u5ERETMzMzc3NwyMjK6urpmZmaYmJiqqqpUVFQAAAB6qHgnAAAAAXRSTlMAQObYZgAAAAlwSFlz\n",
       "AAAOxAAADsQBlSsOGwAAAxJJREFUWMO1V81rE0EUf0l387W7ZXMQisUSApKDVKJ4UShEKHiQSnqw\n",
       "Ij2YKop4CtKCJ1lTELxILoKIh/QPEGMr+EGReBOKNAc9iEKq4sfBgwhie9J5M7Pdncl+CLv72F92\n",
       "9zfz3i9v583sLMCw5TgimPWfXFxm+cffxxHBVoapVD/BbFY4tvDmg7vFqDEEmDJ9Ijh6qjdEvUkw\n",
       "GaqHeI43d90tZzn8LXcPPoWEvyMTajvJbKgewXX8dw13wzqHv+VNuBQSfUMmtF6i2Www5OukcISS\n",
       "rnL426AeGn1E7jKSaDJUj0AnzywvTJs2Q4Bd4OfvBDd9hk8einfJZoN6iMPl8hGhJGoMavHL4gyj\n",
       "ZifOTLuH7+jieAfPrSbkKvL8YG7KlsQ/Bp+Q8ZCoh3gCcNErSw0mzFVGdVMftZKry04PpuhqUMGE\n",
       "pPnB3HQ6uqtltIN4eR98QsZDoh7iNuSE55juM7yCzfoPyuiW/nvUVTnqX4A1Oi9a1+Shsd0MeeZN\n",
       "gk/IeEjUQ2TqSkeYTx2GJjzjTBY0YR6pvwA2qU+uLA+N7Zb9KfHHwCdkPCTqIQwzD17ZABxyOFPo\n",
       "skOy6flkw90KVY9sfELGQaIe1Wy/JD/Fp+OWWGlQ2IbT3OGhpbpX3PP22HhUGnczStK8mQS/kLGQ\n",
       "qEc1Z8g7NGV9zfNVK2NSqFdGq1ADlTBznc+gADj5DMi88VoFSA/uBnpDSnIBvEPGQ1I9qrlMFgEd\n",
       "FrL2Hoytdcaf+WqhD+dIfQ6W1uABqKS+8JYcmZo6JazQpI0dthtd4wU7Bd4h4yF33yswSh/vti2b\n",
       "LVGoj8z3r0nN7QeYLxrrxKFMHkW6iwecfEF9vhHcok4H6EF6cDdId6RsroJ3yHhIqudoZqu7XzQV\n",
       "DmZvnU1C6H7G1aMlt6WbwSEjki235rLS1qQNHDenYpTQ7YUibl0F07vBISOSwlZZ23t8j32dsRjY\n",
       "u8VZCWdDs3F65BpDjZchKGREEvU8NLF7g4F9Bjm8GZqN0yMz/Fk7B0EhI5LCCIh2gyOCjXl84pmQ\n",
       "nI0x/APpKUD9FhcAAgAAAABJRU5ErkJggg==\n",
       "\" style=\"display:inline;vertical-align:middle;\" /></a><br>"
      ],
      "text/plain": [
       "<IPython.core.display.HTML object>"
      ]
     },
     "metadata": {},
     "output_type": "display_data"
    }
   ],
   "source": [
    "def listvar(count):\n",
    "    return [x for k in range(1, count+1)]\n",
    "reduce_2_repeats, reduce_3_repeats, reduce_4_repeats, reduce_5_repeats, reduce_6_repeats, reduce_7_repeats, reduce_8_repeats, reduce_9_repeats = \\\n",
    "    [Forall(x, Equals([ExprRange(i, x, one, num(count))], listvar(count))) for count in range(2, 10)]"
   ]
  },
  {
   "cell_type": "code",
   "execution_count": 41,
   "metadata": {},
   "outputs": [
    {
     "data": {
      "text/html": [
       "<strong id=\"tuple_len_1_typical_eq\"><a class=\"ProveItLink\" href=\"proofs/tuple_len_1_typical_eq/thm_proof.ipynb\">tuple_len_1_typical_eq</a> (conjecture without proof):<br></strong> <a class=\"ProveItLink\" href=\"../__pv_it/theorems/a13f1515d746034b6a3eb75a9e56492eaa09acbd0/theorem_expr.ipynb\"><img src=\"data:image/png;base64,iVBORw0KGgoAAAANSUhEUgAAAKQAAAAVBAMAAAA6DViiAAAAMFBMVEX///+IiIgiIiIQEBB2dnbu\n",
       "7u5ERETMzMzc3NwyMjK6urpmZmaYmJiqqqpUVFQAAAB6qHgnAAAAAXRSTlMAQObYZgAAAAlwSFlz\n",
       "AAAOxAAADsQBlSsOGwAAAj9JREFUOMuNlT9II0EUh180m2xMIikOrlFOgqAIiogeYnPaiWhuQRFs\n",
       "/FMI6QxWVmaDYClpDizC3YGtRRDh4BCMhYJc40ULBYtYC6LdcSD43syb2UnMiBvY/DLve99udnZn\n",
       "AV5vPn5oc8H4chspV8F1P1xotoUuYEqETvm7LUX78M8GTA4gHDDYR6FG8dZkr0Aqk+M80PGGEmFY\n",
       "95ihPgy/Ke4aqFNk5YIaiXlWJcLO/Q+PGerDsElXYtlA4xVWHqmRRNmqJBg+ecxQHwbShy8MtBVY\n",
       "OaiHRqxKgoVSMKJvBBJ4nJiJ3nApWdRDJavyRitLSolhKJ0eNtFDLsVpdnYmCrjPWJWHWplRSgy/\n",
       "AFZNtMSlGJ5+2yisIX+ulQdp2ga0sqSV50qJYQfcmqns51ILXuDZChxgvLSeZb9WXiolhohXT49x\n",
       "qRVHjwG6MeatyjGtzCslhmSqbnbqlJ/B+Y9x7x3KPaWkUDzB3dzJ5Os/7jxB4hFj1Xotgz9eVUoK\n",
       "M9/wKeiN/mPlCpciKXCeob14DXBmPcsVrTxTSgpbODvxclTd2RkuhWvUUS2X5a3SXCluna++up2m\n",
       "OLTn6MKF1LSvcynaBbD4YeMOq31WJcEPX75XJCP6+ri+5EdOPRlbcvxA9uiVscuqJDhgqE8Gml4/\n",
       "v+8Fi4RQ/jEXEotSrhaKoT4ZaAk9+jut2CwrIz4PbL+xXmZNhvq2m63q86x0loNjWJXzJkN92WZK\n",
       "NwUfRSjwi0OcbSjX+D7JMRww2IfhBRgDlrGemMzBAAAAAElFTkSuQmCC\n",
       "\" style=\"display:inline;vertical-align:middle;\" /></a><br>"
      ],
      "text/plain": [
       "<IPython.core.display.HTML object>"
      ]
     },
     "metadata": {},
     "output_type": "display_data"
    }
   ],
   "source": [
    "# This first case is special because we cannot represent an\n",
    "# ExprRange that is trivially singular (that is, \"(1, ..., 1)\"\n",
    "# is immediately reduced to \"(1)\").\n",
    "tuple_len_1_typical_eq = Forall(a, Equals(Len([a]), Len([one])))"
   ]
  },
  {
   "cell_type": "code",
   "execution_count": 42,
   "metadata": {},
   "outputs": [
    {
     "data": {
      "text/html": [
       "<strong id=\"tuple_len_2_typical_eq\"><a class=\"ProveItLink\" href=\"proofs/tuple_len_2_typical_eq/thm_proof.ipynb\">tuple_len_2_typical_eq</a> (conjecture without proof):<br></strong> <a class=\"ProveItLink\" href=\"../__pv_it/theorems/ea829ad18bac1edbdfbf6d39ef731724c67380eb0/theorem_expr.ipynb\"><img src=\"data:image/png;base64,iVBORw0KGgoAAAANSUhEUgAAAPsAAAAWBAMAAAD0hvfJAAAAMFBMVEX///+IiIgiIiIQEBB2dnbu\n",
       "7u5ERETMzMzc3NwyMjK6urpmZmaYmJiqqqpUVFQAAAB6qHgnAAAAAXRSTlMAQObYZgAAAAlwSFlz\n",
       "AAAOxAAADsQBlSsOGwAAAztJREFUSMe9lkFoE0EUhl92s7tpNpuuB2kPKiFQFIsSRBHEQ/CiFI0r\n",
       "lIIXExGxx6Ce7VpBBKHkongoEulVaARBagOmBwtS0Kj1UPAQMRdBoR6K7anOm523SXYzWfDgCxl+\n",
       "3r79v5nZnZkFkIXLfkIEL/TLikQCIiNBrTugKNaECRK98Yy3E8EbvMT+aHzSxjZe5UYt1F/DRetk\n",
       "uN6V1K5lWH8acryVBzDG5OiHSzcA9gk8Gr1G/SRUp1WEIYpODNVY80iOvwxwZWlLPu8luFiFIcfD\n",
       "o9EdLxsMsyEMzUZ3ehifxJocX8enJcenXVBzkKoJPDPCrsSboUKVDNWe9CJ2XHWk+NxgvLoF6W2A\n",
       "EwLPjFJsdEPhwg0y3OhJn+FPoCHDW5WI0Wcg/QdgXuDR6Fg2ezxc+JIIKBLtUdtLP93zi93ZkuHN\n",
       "/GA8C2UToCDwaPQK4Hq4ap4IKBZc3bPUdpyiC6kKXTSzPFqE5/MyGD/DBvJO4NFoDhItumY8JnWE\n",
       "CExop8HM8Ky1BaoNVk42eqUZiT/K/p8FHo10B5WINolTRGDC3AQl762HCgznwdiU4dVqFN7ERTYj\n",
       "8Ghk2V1v3sl+eLUERa+HrBeLTUjm/h3/HpsFgedGlRXWTK6cw8n/fcAJT37Rhg/+sn/jgJWRPfvI\n",
       "yWe74gOATzT5aHSBbT7aIWMb7xyL1by6q0RgotiEH5arIb7M3gNIlWSj122B18JkPq7bAHsBVunV\n",
       "Q6N7rPNmzcCJ0BspsccWiFBAU2vchCK7km7oNbG8+uL5koyzgWAxb7SdbpEYX17OeIsZ8dwoXcaH\n",
       "FsM71bIpVsFNIjChfTs7NwIKO0m0Nu6qSlWGN5h3+vvOT14MCs7kOIksG76yu7vLunJY4BV654uu\n",
       "/pZdHgZV7L9KWRBQePGFxKx8zz8YKu48dsc/eDICP+tvxu7Mc2cSFGdVJPBYmCDhRZ5EXY5fCxX7\n",
       "Ee85zji+7n8C1D+eh1tN44VNmWkiTNMRbHdOTSledwPFnbjkq/vivA8etN0H3xQRpujzh654iP54\n",
       "rRQo7kSnQ9MCr/d+bSWd7i8DG0ZI9MYob0eC9l7ibvTHVoxTY2Vh5EcK/nv8BVY2zeEbkrzUAAAA\n",
       "AElFTkSuQmCC\n",
       "\" style=\"display:inline;vertical-align:middle;\" /></a><br>"
      ],
      "text/plain": [
       "<IPython.core.display.HTML object>"
      ]
     },
     "metadata": {},
     "output_type": "display_data"
    },
    {
     "data": {
      "text/html": [
       "<strong id=\"tuple_len_3_typical_eq\"><a class=\"ProveItLink\" href=\"proofs/tuple_len_3_typical_eq/thm_proof.ipynb\">tuple_len_3_typical_eq</a> (conjecture without proof):<br></strong> <a class=\"ProveItLink\" href=\"../__pv_it/theorems/9910b0525b62e71e9713397a4eb7fa98245ad8290/theorem_expr.ipynb\"><img src=\"data:image/png;base64,iVBORw0KGgoAAAANSUhEUgAAAS4AAAAWBAMAAACMMGwEAAAAMFBMVEX///+IiIgiIiIQEBB2dnbu\n",
       "7u5ERETMzMzc3NwyMjK6urpmZmaYmJiqqqpUVFQAAAB6qHgnAAAAAXRSTlMAQObYZgAAAAlwSFlz\n",
       "AAAOxAAADsQBlSsOGwAAA91JREFUSMfFVk1oE0EUfpvNbpJuYtaD6KHWUixKVRr8QSiCUQSl/q1Q\n",
       "BE+JiFA8hXq3a5UeSy6KB6kRjwpGEQUbMD0oiILx7yAIjVJQEbUeCipIfW92JtnN9oX25AQm3868\n",
       "b963b968HYD2LY4/0VzOwpV2Sxtu70syl8BaC9ES/Ws1zuK66D0rXxuU9GW0DlsyCdQJvudMU1np\n",
       "8Y1v0DjV7XvSqrwupAOMODIcU5cLrKaLB88AdComgocEr3DmJ6RHo+gfTZT9T5d4XUg3vl6TusYh\n",
       "+ofzY5RhpgYJRzIRnKM3yXP2FenRqvpH04FNfcbrqlC3Tur6DLCN86P9hVwRkmXJREAao2zyZKRH\n",
       "PTB62/E/6Q6rK+PXtduBH9zp6RiANG7JDsXcAUmMRIJNr6L0+C4wvDfwlKhyulJFv66PAD/4BIMZ\n",
       "XOaqYiLY2tOznbO1stLjPdrt2TXegYHJld+kwZ7OAkTrnC6iN3Vh629zGDdjd0QxETwAOM0ZUyiE\n",
       "R3qRG6457yXpbyfnbchYzcpDsqh0WT2i1dXqIpI+XbGfrKxY1yfsnyomggmI1xuzl4PWkZr0uAXV\n",
       "7ALLqw+pedC9yK0nkMpw8YrUgroi9TbVC88jvFZMBKbjW3M2aKuXpMcBDMYcRLLe7hYhLZAl4heb\n",
       "43TppaCu++2qqo6LjSomgpTtS/udvC49DznPOcq7LSKhi/rSkVmiriQfrlgBzL+YKopJoDiN3dD0\n",
       "AZEAXeLQd9rhfczZ8KJRvh4JXzlhlurm8qtlH99AnKsT6Xmh65ViEjiMBdvYGPtF5a1Xo9LWF8t4\n",
       "5qYtPZ5EETX4knINWqSAuSYA5nUJknkuXqatdJG0WBY0xwhrojm9LvbxiWISuIDvZ5WFFLNKh8vK\n",
       "G7LOUAkQHo+Qk9Qmi6oyrKiaZQHwMEYLXjVYVJeoIHDUxRNMh3dq6q6giU4MNQBWUapf9xSTwIoC\n",
       "ZYJGa+gFq67SQmx7t/Q4gvwP+ydWQ6QX0Sx+XwjAvuerEJU4XUSH77snq9CDQelfWPjt0SK0KZsU\n",
       "oDm4OXWGNkox++QqOdd8jNNp0DEl0s0s2CA9RhqF+m0IjPHfxw2ND4cTokF4Lt4tmXF1YdHd0VvO\n",
       "EEScJzAEiRJkm99k4THZuEFkQ6DC63qmnqIQokF4zrsdDPquCR2Vl4fgbC12x8Y+XplWr2C60uOw\n",
       "upDYrcC7jCyuy1SRPwattGZrzOFNSDLHgxY1Xy+XyUuPx9WFBFqB53txXYa6QNkhWrM1lQ4r5nDw\n",
       "0+k0e9XOgyZSK25zJXGN56/1prBa0pfRNFcytWCZS/r6/93+ATQu/EdC4VXcAAAAAElFTkSuQmCC\n",
       "\" style=\"display:inline;vertical-align:middle;\" /></a><br>"
      ],
      "text/plain": [
       "<IPython.core.display.HTML object>"
      ]
     },
     "metadata": {},
     "output_type": "display_data"
    },
    {
     "data": {
      "text/html": [
       "<strong id=\"tuple_len_4_typical_eq\"><a class=\"ProveItLink\" href=\"proofs/tuple_len_4_typical_eq/thm_proof.ipynb\">tuple_len_4_typical_eq</a> (conjecture without proof):<br></strong> <a class=\"ProveItLink\" href=\"../__pv_it/theorems/832a535427d344622a1a104d77976d09fe0844cf0/theorem_expr.ipynb\"><img src=\"data:image/png;base64,iVBORw0KGgoAAAANSUhEUgAAAU8AAAAWBAMAAACyFQNKAAAAMFBMVEX///+IiIgiIiIQEBB2dnbu\n",
       "7u5ERETMzMzc3NwyMjK6urpmZmaYmJiqqqpUVFQAAAB6qHgnAAAAAXRSTlMAQObYZgAAAAlwSFlz\n",
       "AAAOxAAADsQBlSsOGwAAA+lJREFUSMfNV01oE0EUftntZjfdbLsK2h5USlEURSwqCCIaRVBE6wpF\n",
       "8GIiIngz6FU0VvCoEVEERSJeBaOIoi2YHhSlghHag+Ahag8KauuhaAV/3pu/bnYzTbz5CtOPN2++\n",
       "93XmzdspQEtWwB8BWoglc1p0t8RUaHVFogq7JGhqN9nYVoq4OcHifxGqmAjUCL9tsmJM5hkLOa3D\n",
       "PfFI+1I5UdEL9TIYskx4nKEreX1OuwyKicBjwlfn1mkVRR4Cs5YqN4jtrMJlvdADAAcfTQvPOWj7\n",
       "qU9q4BYqJgSn6E/LzS3UrYg8biWiKW53AhjVCx2m8pFCPwKs0yedj0IVE4JUgLBJ5ZkyjxnVFLdt\n",
       "GBVohfaFhW4JYFJ7TewXtRATgjRuUqpJib6Red5ENcXtGtJVdEK9Yljoe4BJbZG2pWohJgJre3vX\n",
       "NxF6Xwol4Ex0+9x9Y94XEbB1EU/oTHT9QuaaTqibCQtFW6PN2U1CFROBhwBHmgi9LoUSuFVI8kzW\n",
       "TJDlJzdYdXmV87l0UQp1e5nVpFC2QyGh9jddSqdCQhUTgfPg1NTCK3XRe8XBrJZCEVibwOVtyZsG\n",
       "k+/tUgFoDhm9Pt2OGtV6oUZNe/JAQhUTgWQQ4pyoi74gfm+UQhG4U2BkeC8oQidDrsws5uwpnVCz\n",
       "VC/0gfYQnzOhiomA54fu0oa66IUNhJo5yHINqOkOaxem7G5irr2vRaFp7YY6PhOqmBgojuAwMLKT\n",
       "1cwS1hAW+cx1EeJHn/XhlWqjT1iDyorLJee8Hl2NRo5+DBxNe2r/+nVyc2aWiYE92PatFfYP4liW\n",
       "oK/NSruPub6LZYekUATZKnzyChYJzWNNMoBXpESAz0E6p9vRpC+EWuxGZCARWHGVvD2bdJkkEwNn\n",
       "0eOWSRskK3S93JyVZ64psbJfCu2nXN4qF7IY1lFJlhnAK9+WJ8DneBNqKJS3G9wSiobBoaF7HNFg\n",
       "zYQB/vm5EBMDHXkqngRxmHm3JiqJXLL2jkuhCKx3O853gYEPC2sCP4gEYPvLBdzD5sAo6YTaeIId\n",
       "H2Y+82Vr/vyZ4cigc1wlQS9tqXvstz/LZEi2bCH5FKc7wcQq6iwI1wLxjTTyQqihPiTjegCD+m/9\n",
       "8nj0eOzovSDGNKi+5oXTt4MBMIJnMACpEmQGyHVSrEiXRZ60ei9l9IC9PDRCR+PRmQY9NMY0rG7Z\n",
       "8OvdcKJq3/VxdIZHghNV5hJ2VL5Hj8qHn68F4i3WWGiyEI2eRcr2xZiiz7tqbBS2XwrdL5/8oAVC\n",
       "TGOhVi4anYjfej/GlKzvYu1BdAz13y4Jmlo3FxB9F3GCM//yr4hi6q73p2Pjf2R/AQttIh0bXiPp\n",
       "AAAAAElFTkSuQmCC\n",
       "\" style=\"display:inline;vertical-align:middle;\" /></a><br>"
      ],
      "text/plain": [
       "<IPython.core.display.HTML object>"
      ]
     },
     "metadata": {},
     "output_type": "display_data"
    },
    {
     "data": {
      "text/html": [
       "<strong id=\"tuple_len_5_typical_eq\"><a class=\"ProveItLink\" href=\"proofs/tuple_len_5_typical_eq/thm_proof.ipynb\">tuple_len_5_typical_eq</a> (conjecture without proof):<br></strong> <a class=\"ProveItLink\" href=\"../__pv_it/theorems/831416d8afd15f5a40c06a3513744e4ffeb97e790/theorem_expr.ipynb\"><img src=\"data:image/png;base64,iVBORw0KGgoAAAANSUhEUgAAAW8AAAAWBAMAAAD9SACaAAAAMFBMVEX///+IiIgiIiIQEBB2dnbu\n",
       "7u5ERETMzMzc3NwyMjK6urpmZmaYmJiqqqpUVFQAAAB6qHgnAAAAAXRSTlMAQObYZgAAAAlwSFlz\n",
       "AAAOxAAADsQBlSsOGwAABFdJREFUSMfNl01oVFcUx8+bzHszmZmME7Aq0koICRGlOLVqC104rlps\n",
       "2t7SIHWTRKEL6cIHdtFCqWMUN0JMC0rBTbrvIgq1tRnIzKIVcTMtFboQOmoXBYUoKDZSP84599z3\n",
       "MW9uOuPKG7jzf+fe93+/d995590A9NCy+Ceih1aN9InwczhlO5j9T3sF0vMiemjfcb+3Pby3J6cM\n",
       "wMfihAwkWqSvd3XyQEXAUYRt3/YOU794K9RO3Q5OTplR80AXz/q2a/etfDMqTshA4mfS33YFvh8E\n",
       "fH8sfK7T3McRfcYOjk6Tlx5I5CSkH9mundo9osSJGFB8Rbc63RV4zYDXrIym5R5EDq7awcnJMXP/\n",
       "AXjddu1i6EQMKPrxRtLNrsDLBrxsZTQtPRR9zMoKXo6C71awXF0VnJ2IAUUB06W/uxSfE3ASFkbT\n",
       "+heiB3UbODsF4DcBlv1VwdmJGEhsHx7e0RV4viLgJGB2zzHBurFJHlh68LIWs3uOSmhi8AeMt2zg\n",
       "7OREHtk2a6o03vfFiRhI/AjwSVfgdJcMTiL3JhxWHJ464/6ri8KrcFEnTzCWG4PPAApzBjw/zK1l\n",
       "wHkFI+CZe7aLeyr7SJyIgcQsZFvBiWdjsz+IPbhUU8BJfFSHCzr8l4LX9HhFBI5d0mOn67ARE6Js\n",
       "W3FyioKnWqss3EFxIgYSnpKvCrW/Y1NPx0vpvICTWAIY0WFkvM9iScnEcOzw4Fqcm7lrAyenKPjF\n",
       "1Z74UlU7pcVyoBR5N9+ITV1nB98FrtTcEcjpgrjLTAzHnuiEKXcJXrAv+CEE97UTMbCYa9Bb1HiH\n",
       "c2wTF5yXSxz6mt+vRj2ZKu49KNw1ZTzPV3ZNfkbGdGhgyJbjbanyB2Rt5RA/z8vixKlC4j38DLmb\n",
       "M/SGOaMO1bEtmTKHHhLGGMg6eCUBR+E+huLcn0B3+ZBymsR/uBAkImOYMQO4kNO2FSdLBnf5DauA\n",
       "o9wkNDlV+ImyE7+cJI4jWH6BWMGr0+uan3Z9DtG6FVsnZMWpBDE4iQPw+8KCu4JHd+BTYIEJ+jaL\n",
       "cOwKuD9J0esIrssbLtkUlYuZxcULrPhc7oKjU+DsFCdiYFH0Kdkc8ujz8y3JPArRbfXVrpmSMyTg\n",
       "JCbXfn7Dh2FcjMl38cZIpMcbSkeCMWec0jA1bwMnp+KtlTuQoo3WtqdPV7TaCtKlKAHIKbt4W4kT\n",
       "MaRMPZmqer/gwBrow6xbU5XQS8occBszn/yx4GOqrCKiZux7lcDpGiSVxYkYZoKKUT36vZqAlPoV\n",
       "JqB/HioTFPoSQ14TKuFmSYNfDT73dhFRNTt44BRulCvJjU/ciRiCbV6u9ts4HGlmzpewz9Ya6khT\n",
       "Qu75hrlhryrgnnkKH4JVhErvPTuDGye3ZMKhsjkhQ/t2tpnoIbpvdKcF3DXnBRdJilBpuM7gxskJ\n",
       "/+1IVpU2J2Tw4lUzp9p78yPtGDi+iB7aBu7Xt4fXP68TMmyIxwuJ3vy8gO0ZCvc9ODf9bUoAAAAA\n",
       "SUVORK5CYII=\n",
       "\" style=\"display:inline;vertical-align:middle;\" /></a><br>"
      ],
      "text/plain": [
       "<IPython.core.display.HTML object>"
      ]
     },
     "metadata": {},
     "output_type": "display_data"
    },
    {
     "data": {
      "text/html": [
       "<strong id=\"tuple_len_6_typical_eq\"><a class=\"ProveItLink\" href=\"proofs/tuple_len_6_typical_eq/thm_proof.ipynb\">tuple_len_6_typical_eq</a> (conjecture without proof):<br></strong> <a class=\"ProveItLink\" href=\"../__pv_it/theorems/5cb7434a68e6f9d14cfedb5422e9391a929fb7df0/theorem_expr.ipynb\"><img src=\"data:image/png;base64,iVBORw0KGgoAAAANSUhEUgAAAZMAAAAWBAMAAAD3OGyNAAAAMFBMVEX///+IiIgiIiIQEBB2dnbu\n",
       "7u5ERETMzMzc3NwyMjK6urpmZmaYmJiqqqpUVFQAAAB6qHgnAAAAAXRSTlMAQObYZgAAAAlwSFlz\n",
       "AAAOxAAADsQBlSsOGwAABOZJREFUWMPNV12IG1UUPpNkJj+TbEZo3UJrKYt1xaJNa/EPF7OyUGm1\n",
       "jrgIpbBpFUXwL7g++CCaruLjNiItoj5ERX0RTFtR2100eWhfttCptNCC1KwtqFDorljqFst6z7k/\n",
       "ucnMLSZPTmDy5cy93znfPeeeuQHo46qwD14p6O8yzO6DVE2p9BeJFcA2Arf0KeUTuidqXeY+SBUT\n",
       "ghbin3uK5LTwmitqxqc2R4xMvl8P2dwx32qYpSBpcr2wpGYOlI1hJMa2gmJCcBTxB70osavC684O\n",
       "80dRY/NByLRjMoD9ZimMdOLIFWF5FxLXTGGkPoRfoc3EwJto3d2LFLchvM52mK9Hjf3aD5lGvvBh\n",
       "ziwFSS0p5XeAu01hpD14DtpMDKSZs0TQi5S49FrQrZkrUWMfDlloXNw3SinoUh7y4bJpQ/9Cq6SY\n",
       "GMiyNU73tFXOCa+5akflrosaG646GpdumKQQqZLCKuiyabM8w3MjmRBsHhra0pOUb4RXF3f99Ohe\n",
       "ke/5tTK3o2u4+9TFQVF19uhqUWnZC3exTpBomaQQqaVleKMpjPtfW13TmBB8B/BsT1I+Fl5xHTL3\n",
       "wSs8yNJ++2/+fCpw+d77rOKImD4tJ2W3y3soqCqluEN0tUAj1aUkF01hLDVgRGNCMA2plpp4oGP0\n",
       "43pyd8ldfqfwGmNZeLIBh1TpbuLoVoh7lIoHweU1mPoHLJmCfciZK5iygqS6lFjL1EeXAQ77bSYE\n",
       "jq9xXuwYvk//8eKXAjwgvMbZtB8xcrqOAPzFG5yMw12AGM+Fs3jTNrVbackWTFKQVJfyrfGV8CfA\n",
       "yVqbCUHO03b9vR3Db9Z/KHpdyj1gX5O5yPCNEZednYESjzbf6uppmcJ/lJJtGet8iUlptJkIVJvs\n",
       "Nt58hCpzLTW3NR6Z3gP6ojfq+S1BuMDsRcguyNeKSEfJE+MYOKntD3G9TK/0daa90lVgpyFlasZP\n",
       "U1YUE4HH2IvSvj2Jm9Zab+FJ445kgUxXMZHD/GyTVa/RPcKr44F9HQaqZwHlX8V9gyDPlNdslBLA\n",
       "H7kKIqyzAHh72KTIIrPieEKKTYVYBMu3wzJ8XqmHNSYCb7NQ3TpGD04DG4G72y6TCRd8oPUOZcVV\n",
       "p6kdwiu2vz3wU71us1zDJXgBCLD2lSiXqhhVboMLiBjprgo9hBTVI7XcSCm8ubJlxXkwNTNziBBN\n",
       "ppv65RTtEY2JwEAZS9RCjnjZbYl6RRMKjc+e4Vu3IT2+KrwmWUonVrw+X4YhtkoT29kABDB2YiXE\n",
       "2IHQnt86PUgIVpzwxMMc1WOsZpKCpAMXli7xeRuXl5c42gDiFsMlJartP5Q1pphkK1WcY+xxHuKs\n",
       "VvMVYVrpyx+oUvXHsjhjDEtLzu8GcAZCiB66VK1T5jPY8A0YIOSwzTSlzlWVt77yxyHmH4dxSNeg\n",
       "OI6mN5jJCaBos+SV1OxsXXidU4eREIBiGOHD8+lAHUSjpczdgAHCfhSTOttmZk89CpNB8qDH7qnZ\n",
       "pj8ZCJN9sOknWVFOtomeF14d2VyegG5ge2GED2+jPwb8JB4tRZJGMUDIj2LqPtwHobv4ymmrxf5l\n",
       "Ca+2nK58KWBBGOHD5vftcKOlSNIoBgj5UUxOZ8/O+N13+fU5vPSb9qfHg0ECe/v8Q7yKh9h95u2D\n",
       "VDGt6rRnQ3f51YBRD/7v17//42DMHlhKZAAAAABJRU5ErkJggg==\n",
       "\" style=\"display:inline;vertical-align:middle;\" /></a><br>"
      ],
      "text/plain": [
       "<IPython.core.display.HTML object>"
      ]
     },
     "metadata": {},
     "output_type": "display_data"
    },
    {
     "data": {
      "text/html": [
       "<strong id=\"tuple_len_7_typical_eq\"><a class=\"ProveItLink\" href=\"proofs/tuple_len_7_typical_eq/thm_proof.ipynb\">tuple_len_7_typical_eq</a> (conjecture without proof):<br></strong> <a class=\"ProveItLink\" href=\"../__pv_it/theorems/8bcbf85274f428551a55906a6afee84ab8d821c00/theorem_expr.ipynb\"><img src=\"data:image/png;base64,iVBORw0KGgoAAAANSUhEUgAAAbIAAAAWBAMAAABXpwRjAAAAMFBMVEX///+IiIgiIiIQEBB2dnbu\n",
       "7u5ERETMzMzc3NwyMjK6urpmZmaYmJiqqqpUVFQAAAB6qHgnAAAAAXRSTlMAQObYZgAAAAlwSFlz\n",
       "AAAOxAAADsQBlSsOGwAABXxJREFUWMPVWGtoHFUUPvuY3dnszmaCrbG01hD6kISEWpoqxeJGhNiH\n",
       "yRRDoRS67Q8xUB9D4g9/iDslEgQhXZGKYNCgqH8EN6U+agLNgq0UxYytBQvSbrAiokiCDfXRGs+5\n",
       "j8nMzt7QJL+8LTPfnD3z3fPde8+5dwKw7ObgP2o6rLDptWl02c1SmfCVFcUUcWE3A3evVFmdSdf4\n",
       "aJWZG7Cb2xN11mPCuAhUCP6wjHi+A67MyPmM+7fW8Ey+VgrZ0o9YCw/rFlGG3UC/9H3l9JOqcIz5\n",
       "+fk/OBPFheBzgm8sXZhWFMoOBMxv1vKtD49794DPlrKUyrAb7de3hTL9MPSMKuKJHx0fb+NMFBeC\n",
       "F/kbS27pSaFsImC+Vcv3Iytk2vm+z5YpKZVRN3CP8M06ENuiUoYySpyJ4kJAKuPu0pXFQCgLdFU3\n",
       "V8v34XBqBf06lMqoG09ZbA6yf6pWIwoXTCyuDsjgoKSWkWaXBYNRDETTVMs3vESr/EaUyi77lWWb\n",
       "IHtDHVKXYGJxIdja3LxtGcpOCYY0FZDhzmMiY6bXi/mPN3wpkuNao1iiWudaEWLmx3ZRVIzOu3Bo\n",
       "u5XKTvmVYYvOqKsj5VS3VIbgU4AnlqFsRDCkMLC6B+BZ3nn+hMaXi94Gn3DHd52EWHrv2ElZR+tN\n",
       "AXbBIAZ03lN2splau6dspEpZwVRGlCX/81IZgmHQK159fj3g22P7Hg4GS0WbYIjiHD0+CSe59aoF\n",
       "9/GxzQmgPQhpvmD1mxCR83JcMBtzTORF5Zy1VSlrV4/1IF0uSmUIEpaP81rA97j/4akPAr/tEAwx\n",
       "fPkMwAZuPQ1wnYEzMpj0DKmklpht2C3fvirrUAUKeMgoKJXtCCpLL1LFd7E5lcoQGKavgNwf8L3T\n",
       "/1BV9fzKtoP2N7dugDqeVNu9GnoY8jzm+kq4WhZcuINW7O0q+2aR/NgEgonFRaBYxktv+VFajbPr\n",
       "2aa5zmSmV4HdaEuBK9uoNGQayuHVqM1CZkZuZ2k2AmgSLW/CVFVuYXtG3KccBi8o8yy4GvG887Ly\n",
       "6PAvCCYWF4HHTqD53iRlfmRjhGpWS3ILM1GF1TbzA1iGrYO1XkxHBEPCBO0WZIvfA3V/g3KOwE2s\n",
       "KwzkXfjFcDSeeuACD5JykNAUaOgJ55RzdkQqY+89B7Aawtu+xrbIf0AwsbgIDGLk6RKJgcRkpkiL\n",
       "WbOZiSYiW3mJzVmaJOtzvFiJ8koM8Qp1f6FU0v7Cp9/gKDCAhbGLgYRptKYhj7RIfdBhNtBx8TKU\n",
       "d7JzorbXVsaqeI/DvfXW8fEm/l5REHhPYFyXmxGLi0DWpmyJ0MzE7HSFpw4z0TTFJi7x/Cd9GJw8\n",
       "A/QLhiTuuYdWPT9tQzMO5qE96EYgvrdsMaBNdw03QnQjuq762uQ/gkFjRqhueg/t2S1KZdTN7w+9\n",
       "Ncm8o3jqLXJE49wK4sLY9Z0gmFhcLTIbnMRZfKEeYphN9Y4wrbbkA4mmzvjUsrJui9PVZu98YykB\n",
       "wKWAF42f+DWFMepNSmVRO8RlhJejx86YKC5dHnJiTuFDqxei1jnohdQo5HrJ9AKaEi7kNMyQvIW/\n",
       "GJVsxXeKZcq+8p1JVQAg57ddSbkcJX+Cgi2OvbWVZUohrni4euT853QWFweUfhPf7oUBNzlm4lWf\n",
       "KFsDrjBpY2UriRM9gP9dGFvjFbg+oSwhP3r3gRKAZvptmw4IlO3QqP4OLfJ91hfi2heuIB77kPw+\n",
       "Gwp6uKGruBl8alyxKPlHplCmyc3Tow8DiIDfVv5MIEyzURm9Qtn+EFf4fLXA3ieV9QU/Lazqq7y9\n",
       "B0//TA/9sGbhAGpCIwPHVvrXggib9YhdbbZFN0tlwrgiwb+eZEJXeZuETpMehr74GP4v7T8DrXFB\n",
       "WDCTPwAAAABJRU5ErkJggg==\n",
       "\" style=\"display:inline;vertical-align:middle;\" /></a><br>"
      ],
      "text/plain": [
       "<IPython.core.display.HTML object>"
      ]
     },
     "metadata": {},
     "output_type": "display_data"
    },
    {
     "data": {
      "text/html": [
       "<strong id=\"tuple_len_8_typical_eq\"><a class=\"ProveItLink\" href=\"proofs/tuple_len_8_typical_eq/thm_proof.ipynb\">tuple_len_8_typical_eq</a> (conjecture without proof):<br></strong> <a class=\"ProveItLink\" href=\"../__pv_it/theorems/3a490914dc70467083ea308a29c73796d59f91500/theorem_expr.ipynb\"><img src=\"data:image/png;base64,iVBORw0KGgoAAAANSUhEUgAAAdYAAAAWBAMAAACPq6BpAAAAMFBMVEX///+IiIgiIiIQEBB2dnbu\n",
       "7u5ERETMzMzc3NwyMjK6urpmZmaYmJiqqqpUVFQAAAB6qHgnAAAAAXRSTlMAQObYZgAAAAlwSFlz\n",
       "AAAOxAAADsQBlSsOGwAABctJREFUWMPVWF1MHFUUPvszu7PsD0NCxaaoSFrbtGmLtWjSWLsYjIZo\n",
       "OyaEhPRhaYzJPqjZwKuha2t4MoAxbZqUVKJRX0y7kPoHNO4mlWhsdFR4aGLK1hJ/Yi3wgJZGgufc\n",
       "n9kZZm/RhRcvcOe7Z+6c+333nnvuDADrLTr+sJKFDSu6o/aY/9NA9iP6RvC6D4LDdPVZG6e1yqCa\n",
       "+3WUCgbinqCNgSLBHyunFU8KClMOo/ZCg7dn+K2cxxZtNVdZOvZRXX8XrTRQt3hMHz+dUVJrbx0T\n",
       "nlArgTGCZyrX2ikoaINOayRXpmu1d0EO93hsZ9nzplIrDqT9/rbQ2gfBO0pqOUhY3BNpRdBLs9NV\n",
       "udYJQSGaX0MWwAXTYzr4vse2TFUsp9TKBnpAPPYrwCMqZrE8zQvzRFoRkO7gOrZak6AQWEsWwJPe\n",
       "3bSoMjUrtbKBpNZDJsypUlWwyIKtWWhFgOohso7tOigoXF1DloxON50GlWlIqfWqU+tPAHOqDRv/\n",
       "06QYGJJaEexrbNxfudZoUlC4SHth9l6e9uBczR+iQ0s956LP1i2LxNWyRTCN3dgj9/VUzRtip1+6\n",
       "nKaNrNR60akVy14lt7mFS8IT04rgE4AXK9cayQsKNH3vZkM8ArUlM8VD64QV5cnAvgfvZMJJua0N\n",
       "qWJQf5Sj1Bm4hZevbK2jjVT22FqH3FrDC+p1WNkhPDGtCPpBL9oPnnZ1PuIMj6MTpV3/oA39lqCw\n",
       "GxU+DlEegfFFCHAZWwWgezxT63+DTy7YgBxgxgTBeSYDP+PlB+W67nZr9ReVWqf6VizuiWlFEDId\n",
       "PmddnQecjZc+KOHHbBQYFhQO4DzOg5+vGMqqZigqk0/pXmihpk0+PSPBExC+zdFnND8Ax5VaD7i1\n",
       "fqyUiol3ppl7YloRxI1IORFU7nE2HClTbyqrNdAFKU4PZV1guT0gT7PSveqiN4WFl8EnfG4F/S8K\n",
       "+X+pNaZe1oAJ+jL3xLQSGCzQO0bhGRb897NDvN5gpjfZ20eBnZzX9hP5WA11jt2czJSJ4ZQB39rH\n",
       "6+eMTUpuSMc9o0TnFcn4NoQ4ae0OBEn198r96o7hKdBVZ04K/25yT0wrgedO4RA7WAz5tvkoMe4M\n",
       "NzETTbC2nb9GxtgKbWH0EoM+OZ0hQ1A4hs4t+C2e1UhPBvcnAzhPwwRK9yiULeBcH6YByPk8pPLM\n",
       "hiiQ/BJgUrmux6RW6o5ZzmdqXp1kCuAkpLknppXASeQdzZE8COVjmECiXVqGmeZJV/F1tq5RmgR9\n",
       "kaXBQCaaLB3YnMJh0h3fFYUUekjkQzkGMAkHMwRK93CEo1ltie0Fer8jm3Yb5kxmS3ThRCX5yVJe\n",
       "KztDjmSBdT8xPj7KPHA3SyAqalWdgpghzqg2cVglMrTt2EqhiCLfg8xESxmYmOYLSIqRJy3/SRa6\n",
       "fKc1CArdOMr1p/vrwL8N0SwmbQLQemUTt9j3oPYKMmikVYnTZDLb+dpRbsNhfC0UWkqtOBDcOnQu\n",
       "z7rvXVlZ4h78tBa7QFTM1Ds+JjwxrTtlbGdDX+Cj1RBAEdVZYdpkygZNAw3Gl38SBsJy/O2Cgt8+\n",
       "n6bVoITipDVaLNnOCpvIfg1KrfZApe7T3iCednkirbp8Rwtkj39otoPfnIR2iAxDsp1Mr6IpZEFS\n",
       "w6BKmXgnXkwUsXEdvglKX18LCjH7yyapBiVEz1+LWMLWa1JuCDpeA/JKrfZAQa9X8Jr4N0mb4+Ok\n",
       "auK7Z6HHCo8YWOsTBbPHEiZtpGCGDwL04K8FI5sNbKSh/ynpK5QVnNIyLRhK4EDP499DndJ2w+w0\n",
       "uA3kt5r6+zXtcLHKK3hNffL7tc/dw/LU4hJn60cNDOW422uXoNAhDD5QAgciLoVPpe187ZiwiZK+\n",
       "i9YOh4tVXssMlJZa0+7PKXN1LS/vwcu/UKMbNlPDVV4DH9tBurFx/4PxsSThW/0FU8FA3BPUSWC/\n",
       "VHlqeclDi0GNvssfUeN/Wv4BbougqCRyrx8AAAAASUVORK5CYII=\n",
       "\" style=\"display:inline;vertical-align:middle;\" /></a><br>"
      ],
      "text/plain": [
       "<IPython.core.display.HTML object>"
      ]
     },
     "metadata": {},
     "output_type": "display_data"
    },
    {
     "data": {
      "text/html": [
       "<strong id=\"tuple_len_9_typical_eq\"><a class=\"ProveItLink\" href=\"proofs/tuple_len_9_typical_eq/thm_proof.ipynb\">tuple_len_9_typical_eq</a> (conjecture without proof):<br></strong> <a class=\"ProveItLink\" href=\"../__pv_it/theorems/fa88c3cbce1f8ba706a650ea4e08f625c8e86a6a0/theorem_expr.ipynb\"><img src=\"data:image/png;base64,iVBORw0KGgoAAAANSUhEUgAAAfEAAAAWBAMAAAAiKrjAAAAAMFBMVEX///+IiIgiIiIQEBB2dnbu\n",
       "7u5ERETMzMzc3NwyMjK6urpmZmaYmJiqqqpUVFQAAAB6qHgnAAAAAXRSTlMAQObYZgAAAAlwSFlz\n",
       "AAAOxAAADsQBlSsOGwAABjJJREFUWMPVWHGIFGUUf7O33+zczs7eSFcqmlxHZijmZmohSXslWWo2\n",
       "0VGJdLsSkZDV4v3TH+WNGv4VuhJKkMSVVP8EnVKW3YF7UUYoOZpCguhcaiUIntBx3aHY977vfevs\n",
       "zswVd/pHo8y8efP2997vfe+9b+YAbs7h8n94GHDzjxjkcTg01Nm9acFpHiwXwp23gPlH4pzsrlOP\n",
       "w2HaJiSE9FE+PdHgTlAgVj6gfG5+hGXqvZ6Qzlzq1CrYSy1VeRpolXjm6DA1Uy1p765SbIhm7wWA\n",
       "6YSEkN+i/P4EibMyBbK6Rv1BlG2TF1Kt6qzXNd5Iz90AO+OZc4cdB4ZIsxWSo7Eh3gWdLjQ6hMQh\n",
       "N2KuihNkblYokL4a9bUo2y+ckGrJp86Y6Tkczxwdaor5nwAPxIWYzYFehEwPIXFIzELSmyDzBhVI\n",
       "rqarhqJsHw1339C/pKfBiWWeCzJ/xIHLcbOrqQxJbreQkDhkhi9X40Tb/BQFYpWD2mRLlG24BSLs\n",
       "atPTWIljLhxWmf8GcDmu0QtF0Hgr7CYkhJzf2rpgosy/pEBMHHDb2jZRwAMzqJiSk36kGXR+MrUA\n",
       "a5tG65o5dx91tdU2pULpOf24XDw2jWuSfhxz4VAL1Mw8GGPNr/KRQkgI+TXAy+Nl/AJdd1MgmMn0\n",
       "Q/CG5FTYyf6WfOfCfmm4x9UpzI9LKbUPNNkkPAlb5MRhI27WlzlL83rOlBVzs1UcPgQcBpmnrozV\n",
       "5/zhT4SEkNvA8Ks/3FVj/XSwdNYEptd3FGsb3c+lQBJ8jZ+twD6pPevA/UJI5ElgD4MpG8K4Cppa\n",
       "xO3kxhpSSbCGIStz8DbaW7m4NUeHQeYJP3a2L4aNvNx+ISSE1J0A5vka6+3Bm/WfBUZOXTctpkAa\n",
       "ONJBsRHhcQDgLyEcVPPKHMQs4KFfmbRc/fqsQvWhS9Y4p0t2TgPPRWowjjk6DDLfH1+fa5qPDQN0\n",
       "ERJCWnZgwD1YY3xH8CY4gLdAPPNFwEbVTpyWTb2omrEiFCSBJj88zro8uA1UkahC4IUD6dx/ZJ7x\n",
       "x+pNnO17CElAlvv5qb3/CdEmM8QGMt0Wqh0gLmLqnFmAhZWZhMbw85FXxGulH652dgUyg2o7N0VM\n",
       "rNp8BRuO1vU2P16n61FXiTw9j5HyQ8YXpyWuz+uq/QQYY7yR8/0cjqtqR8in+PsMuzeFw0ibqeGY\n",
       "nZ3KCdUwhj1LvuBmivJVUsR2EWbgI1u5XEuB6Dawa5At/wqYwGHseRT4TE0LoeDBRctlclXBA9kF\n",
       "OANQOgrsqpJgQUbYsdEk+Y5cc90m5kyMqTxoDgtTRkhrIRR4GR1SEw4ht3BmZg+SBb2CM88sspJQ\n",
       "4dpl/XfEmpuYEmNIjHHeFLiPGS+qjXgVBYJ7xVo43tPDRvjdJXgVhMC7b5kQdNuaY0KhLGbrGlfo\n",
       "wBgFaVZws0NS+p2nLSnsUoPv0t4VyVzud3zR0BY29/bukxKeJKYStJmwnvZfRBKQ2RL2i+aLyWX6\n",
       "1Dyowrw09J2UpYL8ebxYGkZO1LfMOB4bKJAUT0VH85sDJWjlee5YwX+DQnJlvyMENrBs22RI4BdG\n",
       "8xFbPgQLE4xSemBFi5R4jM22tLvEMRLdcczRYfbcyCVpO+/69REpJXCd5ihBuFnaiwCzCSmh0Aqu\n",
       "/gN/3AQNvHGaXFLd7qgbGudJWRqZojGIt4Xn1WZSopfJWSosy4kVAE7WWGGy6Sl+qETYbY5/b58V\n",
       "wgxIoWDAUBNjc3Xoul2fO+2QcA5BOzR2Q74dVW9xle5BnvHSKDj8ieXzF4x2yNoZH5WnTDVTeyiQ\n",
       "w9U5Gi8A5IO6M42elFIXoKsUadcXz/xwCBPy4aFe82klkKovJ+m+Yyuh00vttfnZ6Ot3Oj1Ssb39\n",
       "TmoJQCf/78HeqWigu8Z5VHZMUb9fR4HoarQ+A7ECn4xB3T2rScouZDsi7eSnZDRz5fAGJrNDzG9A\n",
       "biWk+q9TL3SmiyWT68mip0dW8I8QFAhTiFX3YQE0COr6vyGJt3l3pJ1kF81cOdQi0CHseh0h6bWb\n",
       "X9qpP6vLJ/DaH3izAaZWdVwZ+AOXDZOFsOkW/DVKVpZW/xU2DoeaS0hTavWZ0FldKtBm483W77+q\n",
       "6qAC/+vjH0zHteCeOcXeAAAAAElFTkSuQmCC\n",
       "\" style=\"display:inline;vertical-align:middle;\" /></a><br>"
      ],
      "text/plain": [
       "<IPython.core.display.HTML object>"
      ]
     },
     "metadata": {},
     "output_type": "display_data"
    }
   ],
   "source": [
    "cur_vars = vars()\n",
    "def nvars(count):\n",
    "    return [cur_vars[chr(ord('a')+k)] for k in range(count)]\n",
    "tuple_len_2_typical_eq, tuple_len_3_typical_eq, tuple_len_4_typical_eq, tuple_len_5_typical_eq, tuple_len_6_typical_eq, tuple_len_7_typical_eq, tuple_len_8_typical_eq, tuple_len_9_typical_eq = \\\n",
    "    [Forall(nvars(count), Equals(Len(nvars(count)), Len([ExprRange(k, k, one, num(count))]))) for count in range(2, 10)]"
   ]
  },
  {
   "cell_type": "code",
   "execution_count": 43,
   "metadata": {},
   "outputs": [
    {
     "data": {
      "text/html": [
       "<strong id=\"tuple_len_1\"><a class=\"ProveItLink\" href=\"proofs/tuple_len_1/thm_proof.ipynb\">tuple_len_1</a> (conjecture without proof):<br></strong> <a class=\"ProveItLink\" href=\"../__pv_it/theorems/84b4d4ed31036ae6433448543fda05b5bf4e49ce0/theorem_expr.ipynb\"><img src=\"data:image/png;base64,iVBORw0KGgoAAAANSUhEUgAAAIEAAAAVBAMAAACTeZA2AAAAMFBMVEX///+IiIgiIiIQEBB2dnbu\n",
       "7u5ERETMzMzc3NwyMjK6urpmZmaYmJiqqqpUVFQAAAB6qHgnAAAAAXRSTlMAQObYZgAAAAlwSFlz\n",
       "AAAOxAAADsQBlSsOGwAAAeVJREFUOMtjYMAEDUAIAhwMyFQDA1al2ADjBQYvMEMWwucSAFNe2NQu\n",
       "BOIHIMYdZNErUNW8DlABGewmsKsCbTvAwLALxJmBJME6Aao6EibCGYDNhLidX4HkVAaGOpBPE5Bk\n",
       "uA9AVe+BifBswOoGRpAJpyEWsFxAkmCGqTaAC5niNoE5gIEHaCUnssRNqGreCXChObhN4ARqN1JS\n",
       "MkGW2AJVzQ0KyD7HRiDph9sEFmBMbGdgSEWWmANVDTKdy4IhH+jLk3ATNimBgB7CBB6gS/sYOB4g\n",
       "m6ALVc0EDJzgAwybgMzLuN3ACwwttgCWBcgSVlDVzEDR/QwMKkBmPW4T2D8ATRFACUgUE8wYWH8B\n",
       "mYtxm8AFirEJB4FEyEEPTF+wfmTgAdrBcAl3OPAqAAlfYLpi1WD/ATUhEaqaTYCB9S8D34QbDAzH\n",
       "cLuBB5QYm4EByb2BHZaA/KCqQfGUyHBpwwZIBGOawPIDFud8BSBPM8IipAiqmh3ovjiRiodAWS1s\n",
       "JvA9/vkG6FdYLMQ3sB0NgDCZCqCq1WFqORRw5m6GJnhmaKhfE4DIR2DVp5HzGi4T4NmPa89FHxg7\n",
       "A6qaDVYAteEuYVByNRyEQVWzJiCMxGUCG9ZijkOAQRzMaITGGkSVODa1EgwMACTgcB6fbxj/AAAA\n",
       "AElFTkSuQmCC\n",
       "\" style=\"display:inline;vertical-align:middle;\" /></a><br>"
      ],
      "text/plain": [
       "<IPython.core.display.HTML object>"
      ]
     },
     "metadata": {},
     "output_type": "display_data"
    },
    {
     "data": {
      "text/html": [
       "<strong id=\"tuple_len_2\"><a class=\"ProveItLink\" href=\"proofs/tuple_len_2/thm_proof.ipynb\">tuple_len_2</a> (conjecture with conjecture-based proof):<br></strong> <a class=\"ProveItLink\" href=\"../__pv_it/theorems/7eb0124019b0941ed3aafb7b8e9b41ab615ec3c50/theorem_expr.ipynb\"><img src=\"data:image/png;base64,iVBORw0KGgoAAAANSUhEUgAAAJ8AAAAWBAMAAAAsilPDAAAAMFBMVEX///+IiIgiIiIQEBB2dnbu\n",
       "7u5ERETMzMzc3NwyMjK6urpmZmaYmJiqqqpUVFQAAAB6qHgnAAAAAXRSTlMAQObYZgAAAAlwSFlz\n",
       "AAAOxAAADsQBlSsOGwAAAotJREFUOMutVU1oE0EU/pLN/mQ3qTkI9aClhIoiaLX+4sV6k6plxVLw\n",
       "0tqDIHhwaS+ebFrBY8mlRbAHxauHNYiiKZgeLEgvsfagINiKBw9CW1CshVLfy86sm+zszQk7mbzJ\n",
       "9703733zFkgaJfrwsFrsltxWYpJHqo6+xmJfy4ZdaHz1qUCP6Vnhxef43rLA5HsjxsEemvYqCa3q\n",
       "jIdUDXjNvx7E+PSywFxrMj+kJ+uqCO8jswVMA3eZ/XqM0KkJzFyTeZuenK8i/A4cBxYDf5l6jFCT\n",
       "mKNN+fvF80kV4TkXayVoLnIUSjaewk8Cky9HrZlOnmdVhF+BNQ9ZYuspFk/ECZ8LjMM1mTo/EViz\n",
       "qx10mP6EKneTR6rxS+BGfHNWYNilfQa3G4XA8LS+CbwLCStFHkcCiLlB+aUDTcFakTTmjFwdFpg0\n",
       "RXS1hkpg/eLiGPBBHWGaaPKUcsPNPAqN3+TirMBotPcG6Aqsr4CfwLia8AVHtE6khUhNTqsIT0Hf\n",
       "CqxdsEk4T5SEOT6nzaIoz9M0MH+hkYYON3ZkfQO5dSlDh4SzpMzhMqwS8iyDyyRv/aC5yRd4f8oP\n",
       "oCMCYxSgb6Ot/BHs6TfnEwuqCM1epEiEfEXuUayOb3KwRi0ndNcvMKyDESz5vv6Hfv3ALSGpGOFk\n",
       "tVoRKmvzOFUpToHmOaLiowJj0hmGdt9Z9VCkEIcuUoA4pCLs3tkhl2lZ3+GS8ZYAu6CJW5j2BOaA\n",
       "RORd2Vc6E9sXJsOrWxp/6g4g7S7ImvkCsxheu2jfSCIMW4k99/4Sxurms4K03BQYQ3bhK/8aVSJh\n",
       "a9uKNp1BgdHlf6KukgiN5neA7UadFdDeWEy0vhsCULuKcE+L1vEfxl+eZ5VfkgxTNwAAAABJRU5E\n",
       "rkJggg==\n",
       "\" style=\"display:inline;vertical-align:middle;\" /></a><br>"
      ],
      "text/plain": [
       "<IPython.core.display.HTML object>"
      ]
     },
     "metadata": {},
     "output_type": "display_data"
    },
    {
     "data": {
      "text/html": [
       "<strong id=\"tuple_len_3\"><a class=\"ProveItLink\" href=\"proofs/tuple_len_3/thm_proof.ipynb\">tuple_len_3</a> (conjecture with conjecture-based proof):<br></strong> <a class=\"ProveItLink\" href=\"../__pv_it/theorems/b3101406cdfe01ab2b8a3895035cd56d1056d3510/theorem_expr.ipynb\"><img src=\"data:image/png;base64,iVBORw0KGgoAAAANSUhEUgAAAL8AAAAWBAMAAABj11ATAAAAMFBMVEX///+IiIgiIiIQEBB2dnbu\n",
       "7u5ERETMzMzc3NwyMjK6urpmZmaYmJiqqqpUVFQAAAB6qHgnAAAAAXRSTlMAQObYZgAAAAlwSFlz\n",
       "AAAOxAAADsQBlSsOGwAAAuBJREFUSMetVU1oE0EU/jab3Wyy2WZ7soeqpVCUSqWKPyCiQYR6qGUP\n",
       "RRAPiYjgzVUP3uyq4LHkongQifYqNIpU0IDJwYpUMP4dBA8RevGgtIeCBUXf/Gy6m+zoxSmdvHnz\n",
       "vvfNvPfmLfD3YdEfH4HaYmPuHgH+OTYjXWW/WktlkXPZLKy6xz36bzPhswrtFCX0Q0RpnBmK2gwm\n",
       "ElhHF6rQGsBTtrqtIjgpoUYlqs3WYisvieAUnF/ATeAKYyurCOoSajei2kIsXvlaEsHWlrEOLAn+\n",
       "tDLA4xKqx7TzXmy5N4lgrgoi0D3k6WxZZQoqEvoppj4St7qTnGTnJ3km77uHh/eoCOyihD5mgVwe\n",
       "cIX6bv83aZDufwlMJRPcJ+dpqqEnwFkVATsAh7JDzgXmmqiida8kKtwawwLwqkPwaJiNnXzvwnef\n",
       "8kMhmIXVDh1mbsUJUi0JHSO3B2GL8nTWoIu7pIrYBbxXhIiqyKEkml5kczluo1cl9ACFa4X544Gr\n",
       "oCCk5zzbM4qHdthDZoVI3EiO96sJ9DJK1fDc86Lu9omCSSK4DJxvIUc3QKVJ03TzGAvR6hb+agbd\n",
       "3hCVXLzpPANxdGOVr98l5eC3xwgcFtTj9NyM7ZkfrOOMaOzVjGbGhSvTldDTRNDCVycwGIFP+WAC\n",
       "qBBzwGLSDQ7xEOXZE75OObZr3KfZYGm3y4Yvq7AtoVOMzNlho0T7fQ2zxgVWQhOihnsIXvN3wOoc\n",
       "fT4LtsZKSffttoi8rKohCb1Il/wyMbsJqRGSlqmDMAHpySbFajSJIPeMmh1SoboUmC/ItACdol7Y\n",
       "aOPbJDTlh5qPPYI1pGzXuNYpl2DmgTeNlLeIaWSrKEr9koTmO/2z2CPwRqggqHcuVH87iUutzEOX\n",
       "ZqveDLuZGUjoufBb4HYLuKH+4HS36VZklm7KEnpCKjR0C4I7mcCMfzNz3sYcjqvQePgtV9WvNO5E\n",
       "85P2BuLLfGT+b+MPD4eyGQSVergAAAAASUVORK5CYII=\n",
       "\" style=\"display:inline;vertical-align:middle;\" /></a><br>"
      ],
      "text/plain": [
       "<IPython.core.display.HTML object>"
      ]
     },
     "metadata": {},
     "output_type": "display_data"
    },
    {
     "data": {
      "text/html": [
       "<strong id=\"tuple_len_4\"><a class=\"ProveItLink\" href=\"proofs/tuple_len_4/thm_proof.ipynb\">tuple_len_4</a> (conjecture with conjecture-based proof):<br></strong> <a class=\"ProveItLink\" href=\"../__pv_it/theorems/d4f9379d7d41f75f19b85e6e269359a70bd48d0f0/theorem_expr.ipynb\"><img src=\"data:image/png;base64,iVBORw0KGgoAAAANSUhEUgAAAN8AAAAWBAMAAACyMFRjAAAAMFBMVEX///+IiIgiIiIQEBB2dnbu\n",
       "7u5ERETMzMzc3NwyMjK6urpmZmaYmJiqqqpUVFQAAAB6qHgnAAAAAXRSTlMAQObYZgAAAAlwSFlz\n",
       "AAAOxAAADsQBlSsOGwAAAyhJREFUSMe1Vk1oU0EQniTvJ8lLmqeo6UFLCRVFqdQiVUQkeqnUqk8M\n",
       "Qi9NehAEDw324kE01XuNSEXQQ8WrYCyiKIUmB//owSgeFART6EWQ2oJSFSvO7M5Lk2bT5OIW9k2/\n",
       "mfd9u7MzbwPQ1MjgHw1/U7Ers9LVxPAUoU8YW5oIvivmvnquEhmfGnC8Z4JwvAI83a2ING/kPHm1\n",
       "oJkDcj0j+9baenqWCQaq4Nuq2EgRxtWCXtwbui7RyaTWFrTyTDBVBS+rYh84MKMWXI+C6Ao4AFpx\n",
       "bUGfS9BViQZ/qGIPY7ijEjRfl4QrhKsPNDjCj0wQzlaiWrsqFvMcyKsEtUBJurpjsT0NBB8xgUU1\n",
       "M3ZoVKKB2TbOjLbupTT8c1HMs1ZSCbaSILmeAJxpIHiHCWh9wX0w7Ag0Oa7/lDKd8FgG3ssYmOdQ\n",
       "1hWcjNHYJYLyJEiuMfCXynm+WSV0Ii2fnUzgxR2dysOkRD87sFuWX5wN/QBYyBjuUuxQAxIkl+Fo\n",
       "E2V4riroGj/3M4EPA6cBOiT6FOC7MKYdt5oXSBzMBYXgKyFIrrBdUTN7q4I2KQR7QP8t0Q4Iysbo\n",
       "KVdzCpIYElTs0G8LQeHKFnBKFI5QShfbaLXaZltA16EmpfoihBbcNrREYyDEI2nDGyrm9tozDM7P\n",
       "fzsYl65j2P76dpMKwLPVk8PHDrNLQEtMNMQEhg36MrRkPwAta4nOk4w/yCeMZBG+hDMQSikb30dF\n",
       "Q66raFg50gAjT2VkpfS0gHgrcJwJqKiH4F0up//C/77CORAGlmivMAw7vNPi7qkVjKTY1ZKm0/FQ\n",
       "qfrSVkkelYDcL955JjAxIYMbLsymIYYbGjyKXUKG1l9whKHP9o5FMfMTKkFr+K8tXSL7GeM5vhEB\n",
       "H1Z+JMPQRi4/b5oJtrlvh526BsCVuteTdIntZC7fdxLgdV5AAgITEE8QdJFJQjkmmFnpqroGf+LV\n",
       "guWvf3DqbT+MFM2HNs7+qYIzUhQQj7NMYLhX9kmoa/DdoxRcfS0Va2b3rmUC3X3BhroGr0opaFT/\n",
       "xgg6q+eKto0KY7SJnxitYo7Wd5VHqGb+D+Mfc6nJZy3fezUAAAAASUVORK5CYII=\n",
       "\" style=\"display:inline;vertical-align:middle;\" /></a><br>"
      ],
      "text/plain": [
       "<IPython.core.display.HTML object>"
      ]
     },
     "metadata": {},
     "output_type": "display_data"
    },
    {
     "data": {
      "text/html": [
       "<strong id=\"tuple_len_5\"><a class=\"ProveItLink\" href=\"proofs/tuple_len_5/thm_proof.ipynb\">tuple_len_5</a> (conjecture with conjecture-based proof):<br></strong> <a class=\"ProveItLink\" href=\"../__pv_it/theorems/ed67f0f10d120db7f2ca0845df203aceb8e56cfb0/theorem_expr.ipynb\"><img src=\"data:image/png;base64,iVBORw0KGgoAAAANSUhEUgAAAP8AAAAWBAMAAAD9bVezAAAAMFBMVEX///+IiIgiIiIQEBB2dnbu\n",
       "7u5ERETMzMzc3NwyMjK6urpmZmaYmJiqqqpUVFQAAAB6qHgnAAAAAXRSTlMAQObYZgAAAAlwSFlz\n",
       "AAAOxAAADsQBlSsOGwAAA45JREFUSMe1ll1o01AUx0+bJv1IPzLY3JApo2xMFGUMv1DBTgRF5oxY\n",
       "RF9sVQR9WnA+KIiL0zdhq4Lig0jFV2GdKH4Vlj4oiIJRHCj40MFeRMTtYegGE8/9SJasCbQP3rGb\n",
       "k3PubX73/s+5CUADLYJ/tOmNzNL9pzT0O9jWQKhIrgGzkVkPaH9ghTcMcIyGquTuW12/lMhwgM8O\n",
       "p3i6w2PopZ3LdsDwAhAWbnXR0Etyd7cugOPAAMSC0xsteY1dcti3vQCCuztVGrpCtM3XBVDmALLh\n",
       "9Ka89IjNO27eeQEkrVAUOUL1adrDAQSXd1z1GBpy6iKovgAYiuNyovWlQIEDfHW593iNdekSNXwB\n",
       "SKg3nd5cF4Cc4QBPiGozbQpz32/6yQf0tWvMGO0b5nuabXqKk6peAJUBjYWeAZypC4DQUoB7+P9Q\n",
       "l5jM4oKaY+U8Ysosl2LbYZDpEuuGCwDxggXwOE3aJmJKamSRhUYhUrWL847rkYc0V96aHGAjPnYX\n",
       "yEzmxDwIbC86LeOIAS/YlDEDVuOQHo8dwHaKhSSVFTdtM64RY+7KLXKAHSjHLAQzTJgCpKgl24k/\n",
       "SWBoG2xqxgnhWW+ASZ2GEoojB7e5RqzyBRDykGPYyDFOBRfsWt4K4iKz/jIhvHbgHAJoLFSokGyp\n",
       "7CcSzK0l4oXaFeq6SfOoYtRKkFPgg30MTFLBc4p1Ns5BfJaZc0ylDo8c6AX4xUMH8TgS14X/kFOz\n",
       "K0DqZ324h7p+k5/rBp4iksIBTuLTTPie0EUCoGE+UAM5i8QQlyBZ+AIqTQtIYKblPXYgQ3aKha7h\n",
       "A+QSeSZIBklLOS9q1EXWkaxe5ztASoYCDBCYxAYZcjg4aUglamAJhDRiIOCnUklcQOstiM9Z/dYA\n",
       "3IDAFh5KakTfAFmnoMlVJjZ1ETyhPGWVSAcHOI+rnN432grBLrRm8IQmBux938KME80XpzVI4xYE\n",
       "+om8waIHQOTVD5WHqIC69BrvUyCg0Cmdu1pU64a2bg4QtKtzyt+AhH1Ej4B3FVghulx9+JGahaD6\n",
       "BrIQLUImS1yX0SWZkFl+qVCAeMkhpJ8BIedLzA+gbL+9yh/7YcgMTyjYR8oVdcjkLnGiYi1F0vn3\n",
       "wFkr3xVfA+Cwvdl5X4CVr2Gzpgfne1LMc4Cj1qcG+BoANoqk+wJI7m+ymLqyty68XYUAlT+iNPJJ\n",
       "1kb7Vv+Q3eI1vXX5j+0f7PrhWGIsglEAAAAASUVORK5CYII=\n",
       "\" style=\"display:inline;vertical-align:middle;\" /></a><br>"
      ],
      "text/plain": [
       "<IPython.core.display.HTML object>"
      ]
     },
     "metadata": {},
     "output_type": "display_data"
    },
    {
     "data": {
      "text/html": [
       "<strong id=\"tuple_len_6\"><a class=\"ProveItLink\" href=\"proofs/tuple_len_6/thm_proof.ipynb\">tuple_len_6</a> (conjecture without proof):<br></strong> <a class=\"ProveItLink\" href=\"../__pv_it/theorems/65aa554d3785645f943ee2c4ade7cda33224bf4c0/theorem_expr.ipynb\"><img src=\"data:image/png;base64,iVBORw0KGgoAAAANSUhEUgAAASMAAAAWBAMAAAB5zue0AAAAMFBMVEX///+IiIgiIiIQEBB2dnbu\n",
       "7u5ERETMzMzc3NwyMjK6urpmZmaYmJiqqqpUVFQAAAB6qHgnAAAAAXRSTlMAQObYZgAAAAlwSFlz\n",
       "AAAOxAAADsQBlSsOGwAABANJREFUSMedVl2IU0cU/m5yb5JNctcsWC31h2VRthQsuvgvC9liUXS1\n",
       "V1wEKbjbli2CFYPrg4J0oxYfd7cPltJW2CKlL4JRV21L0ORBiwg1agttKW0sBR/aByMVa6nVc+bn\n",
       "3mQzcUnmcmfOnDMz55sz3/wAzacYfSJl0VJ6Xu8Wh1wAe5JLq9Ra/3hKFJtMts/pL7PwSzMjumkF\n",
       "6ftq7Y4eQ9ND6+p1U69jvhmSvX4DrALwDVc+bgbSTkhIzkSN+lNT2yd1GvteL9o8E6TYJ/gdOAG8\n",
       "z5WhZiDlFaREYQbvtEQP61Thn4eRzJkgtaXwLnADArHdFCmWKkjhmbxTu8461RmO0AoTpN9E7MIe\n",
       "kjTXtqaoNKEg/TSTdxo4V6d6jbPPTJDekV0IT09X1/JmICXSCtIU18b6jijvdxeqWNsd30phrG9U\n",
       "qQY6Lqje3/X8SflWE6Q1B+bRsDbtt0vAcDOQeBoCEk81vhr7RLwxeML5R7J0CS7KpfRt8W4c0N0r\n",
       "nF33IZ3r4vQqi48L6AWStAhjiJV1++hHNd7fyFRV3szLMlRSkJbQv72Acz4Tlkl7Wglk+1raxgt4\n",
       "SW+rR5zfMUTJeQqc9+ASVSOePGVE+qOm1Xh15b0v1ZaZVJDW0n8FWCTV5P1vIVzxVIfAtq9jtnbh\n",
       "3ud81ATpAXBzElFq4Kaq2L2qptWc6oreUTWQVsL5V6oXIS6PgZW6Q2D7f/ouOGXi0mOCVECcooSJ\n",
       "IhOwuJEXrrKQ52jPTwnVh4KaRXH+/Lq8VL9wTgXJ+/pYSgjQTkXPOrBVAr8RQZLbJi69LaLkMuYt\n",
       "dGA6L0eZnNZii7ftK9GlQsXr7nTLOyepj9NISkF6i4xP0D7xI3gaj5g7LPxHdGahykbr58KRMRb3\n",
       "2zXjuURcUn6OkctEjlEgUmDCJ4acjFDxJNvLH4goJfQRw7tUQNoqYN3O5RwKOf7CHgiBttsGIQS2\n",
       "63C+wqC4f8YFqaZMkCJpp1eeMWjPMEEsjkU4kyhLtggVAw7nf5Ad9PUR7VSQ9tO/a/bBuxl0USh2\n",
       "baYGLNj9RU9qfJvVT9wILVah4GUwXrubLxOSkN4Ig9nIVeo7C2FiyqysUr3g6Qqj1T27FaSQr3G9\n",
       "hkKVJKZ2WZwEnQ0fJzjqX4bZ0dPeAELeNQygbRLpAVYdJlWkhLRDwRz0h76hICX928JuLFRJNIhb\n",
       "Pgn/wt7U6FJXl2b+Vj9GStGzKcpj+aI3UlIq52zRi9IajwRrnlXvpd1as62xEEgOETs0LAh1vPET\n",
       "bvqjpFSXq8IVsdFjDylIO7Qm1VgIJIsDOy8bzMUIKVL70o1703NdfIG994J2R2AJGsVSrT10Lel2\n",
       "rsn2Ym01WZfrooC+Ft23kJ4B5t8LfIK7hgEAAAAASUVORK5CYII=\n",
       "\" style=\"display:inline;vertical-align:middle;\" /></a><br>"
      ],
      "text/plain": [
       "<IPython.core.display.HTML object>"
      ]
     },
     "metadata": {},
     "output_type": "display_data"
    },
    {
     "data": {
      "text/html": [
       "<strong id=\"tuple_len_7\"><a class=\"ProveItLink\" href=\"proofs/tuple_len_7/thm_proof.ipynb\">tuple_len_7</a> (conjecture without proof):<br></strong> <a class=\"ProveItLink\" href=\"../__pv_it/theorems/6ae780ed5e6e33c84be807b3c23623f5e67c1c1c0/theorem_expr.ipynb\"><img src=\"data:image/png;base64,iVBORw0KGgoAAAANSUhEUgAAAUMAAAAWBAMAAACoKePEAAAAMFBMVEX///+IiIgiIiIQEBB2dnbu\n",
       "7u5ERETMzMzc3NwyMjK6urpmZmaYmJiqqqpUVFQAAAB6qHgnAAAAAXRSTlMAQObYZgAAAAlwSFlz\n",
       "AAAOxAAADsQBlSsOGwAABGZJREFUSMe9V11oHFUUPruz87M7O7sTak1Ko5TQWqlYUmkRxEIixZ+o\n",
       "dYQglD5MRAQfVIbmtbhTI31R2hRRBIusivoiZFMUxQbcBS1IC5na9kEozRQjYqHQPgRbaUnPuffO\n",
       "X+YuIRvwJnPvuefeOfOdc79zZhag5+bjHzUD1tmMyJ70IetohQDGmPDAeiFWbDaMrVB/4GD3OV4h\n",
       "zS73YPiiMGqNpJTqa1vyO/UPWzmduc9JJoNSiAvLy8vDhTbATzT7ZO0I1Wlh9EBGXW5J9taDnGr/\n",
       "ZEpXdmQQnz59+lQAHwG8Q2SYWDtEsy2Mzq2GBmDGyan2fp3SVVsyiHg67wOc5R6UgrVDVCKjw6uh\n",
       "AXgqT7+lzHSPDGLAWKg4UMVolHug4h/CqDW9Chpsn+Y0pSxlT8og4i4PsSG+x4aGdvcA8Tth1KRs\n",
       "MRYHeFbCZ33XxYbRQY+XlMX+u4K+o5tFjKt/7hSctUYHEMN+OcSjBBMj+QPA6z1APCmMkpfwpa/x\n",
       "k1NvOy4vZe8GJmd4vAZfeHqU/XXhETwHU7jttxjiqSFqO/niNfIGT+kYGGFcHj7OwHjJS00OZvPi\n",
       "UWG0iJRRnwSTn5y1BAp/+lYh0BrngnEHCk1x93FhGfcT2gvSKBpEcws7zSk1Y+1iZs/x9OTNbzJr\n",
       "TwijCt5s3oAijw+iqTPJjPIhWdNu9sUoFqKkC6GBUW9IIZbINf0GwrRT2fJ4Zs/96Uk2BzMQlQlw\n",
       "uZuIZoaVByWqY8laPcxnVSOADUQGKcQi2ahQKKc72I13niXINx8kQpcGbaY6AWwgtsGV3fToal9H\n",
       "ctCuDfNxWfyZpYQbkS21ZidPf1uM8z4Tf5dy0SWfLGLQi1jA1Yf1W/Te3VagTNuhDzPVv8Sl7fwd\n",
       "WWVh2Rwbf1UY1fDBbgD/WL5KMDzkHhPQryYJyRqddwA8p3fhRdI8qHdwOCON4kwreu4UQjBbhAq0\n",
       "NiWQOaF6TIU0gFr4HouiSfuNJV7CgNeJMVEUNNt6xAQXb621tRYTMJ1LHgnJGpo+6Ku3WSL8R8lP\n",
       "Dvi1JVHB8hAXRqKiVvOIUQWKleKZIacXU5EDytwlTvY2rwC3xP2HhFEdD0K9+syxfihuQ2kR854E\n",
       "2HduI9fEa3DfOYz4EAXPIudJqlx9ng5yhxTiFFGrGOWy62u/4h11UFBd94VqoxNNCD2FjAebcdkT\n",
       "RrfHJi91FxLJIohmGEnsu8PYIi/drL7Gb1y/8a0zDkXnDIxDuQkj46Q6jCotgBEVg+06uGKFtTD1\n",
       "6mdGz6bf+92ERCpR6pUDLul/QcPjnyTdIMbVuDJ3/gWYDPRZG3tjruNMBkKlznYcfS/AJP4HMLsp\n",
       "Tss3hFEt+jBW7a5CSnoZr4cOCKm2Rz0hXnRdIK78CAtyvRgsHqxAnDdrrwijamSkAF2FlERYOz8K\n",
       "CanY5N52g6hlfxlUnJV9NHwFb/1Nk0OwKfHPhn4mHFnvD4MCh9EvWxvITqu5PhraMGrT5Ogv38P/\n",
       "3u4BmP0fwKtSnzIAAAAASUVORK5CYII=\n",
       "\" style=\"display:inline;vertical-align:middle;\" /></a><br>"
      ],
      "text/plain": [
       "<IPython.core.display.HTML object>"
      ]
     },
     "metadata": {},
     "output_type": "display_data"
    },
    {
     "data": {
      "text/html": [
       "<strong id=\"tuple_len_8\"><a class=\"ProveItLink\" href=\"proofs/tuple_len_8/thm_proof.ipynb\">tuple_len_8</a> (conjecture without proof):<br></strong> <a class=\"ProveItLink\" href=\"../__pv_it/theorems/fc6fe884553a0d1dfce85f5b837c77bfb1ede7690/theorem_expr.ipynb\"><img src=\"data:image/png;base64,iVBORw0KGgoAAAANSUhEUgAAAWcAAAAWBAMAAADun0BuAAAAMFBMVEX///+IiIgiIiIQEBB2dnbu\n",
       "7u5ERETMzMzc3NwyMjK6urpmZmaYmJiqqqpUVFQAAAB6qHgnAAAAAXRSTlMAQObYZgAAAAlwSFlz\n",
       "AAAOxAAADsQBlSsOGwAABPhJREFUSMfFV29oG2UYfy7JJdfkLr1AdZudo5SNijKpZXZj/uE6lA2t\n",
       "88QyGIKJSHEf1IbVDwqyxk32Sdr4QRlMJTJEBNnSsek2o01kTseGxrmBitgbFscY004pdmLV53n/\n",
       "pJfcWz+kBd+t9/7e5/1zv+fvewFYbDPwH2s5WLL2XycuyWtuhkiBeq26dKTjNuseUM29jX8egR+a\n",
       "P99yBOnzPqH+ZIdi6Qt3BWVH7m8QbOuh50olaf2+BwuglQFO0Ghf86S3Ayet5/3SlqJq7VxAErl0\n",
       "T6NoP9vvqkgnAK4CvAawi0Io0zzpkiCdKPulrapYic8EROHvB5WamUUV6bPMRme4TpFFhGO3IB2u\n",
       "kx5yFUsjwZgJrhOa3akivZWRDrtgooVaFhHSeUH6uzrxJtVaRcxsWkizN1SkJwfJsS3IuKezc13z\n",
       "pBOOIH2EwmxqOU97eCt1VZJIfc7BaN+IcOhA6qiY/LLnikDnU68IzT4+uYMbNUg6+U87HhHB2vEh\n",
       "wGDzpEltRppMcyAX5c7Vr7tpXk+NtfABd/sGGOKxEO+C5+T2a1K1vNHLUXof/ILd6Rrpw53UbmeT\n",
       "E7/hqSY6dxQMT54Re72O0cNZ3+Cx0jz+1JYoVBWk1yLVuyHBnWvNQJgvCTlwBwOPluE43zJWhpvk\n",
       "JfKHdLwr+U9m4WfsvlFZ2toyhGlqYRpFXV5nWZuqWzTmHzz9ri/pa9qEC4L0RgyVaeLIgiYPrRxN\n",
       "yEybAFjN0VCqTb7QmhbgXojNcnScrxtRkT4D1u8uxHCTZfvycH3dohv9A3+92gMq0uEMpAvSvod4\n",
       "APfKhb2g/8nR38F6EpsDrZvD1dz8B1SksaSMVSFOK/MVSo7KFtp8bRVZJrLSZqJXWdpUWAX+cR2x\n",
       "MFMVlkBnn1KER9qGr2plmptYl0GLwJyuj2NsURGY5qyEqFmESJ1TxLSOByTLYJGmD+EVo9/C3KOt\n",
       "0ags3RrrZiJSWe/iN73JLqB2eJa6y7BKvtYWpJ9A0lW4bOV0Ip3F+CYAf2HiAfLX5yCZ/5YQed/i\n",
       "kyzwCaE+6bJEYecLgFMqS2/A9+U4kz1IKlEknhAtU2omMnqWicg0Se9lZukEaWPM8AK6nlU45mBP\n",
       "kN5KCli3JSCdJ3tEiwxQ6disX2dKnSsWGToN+jE+CWO4k5A+C7+6fGcGNXZ4BQ2Qfs+FCq+ykMxS\n",
       "aGoeS7CEx+OUiUilcOkCNylRR5XIIUY3RQOPxg5Beie++uLm0WUQWoNoCksNAYj0V1zoRAM/3vb8\n",
       "xSxDWn9FTMIkCHSw7TBH+Bqtj5ytIh278hG+KiTTOJ2LfobntUIYY7Q1J0Q3uHIgCkaEO8TMGNOy\n",
       "fnQJ0qFaQbkQAJYbRGzyk/ll+/0bwOhY8NMUdteKQG7kfXcAQu4pGICWAjgDJHoRRdEqODo6JO3i\n",
       "jOUlPeyStuk5tTLESZu1O9oJgAgEEU5a3psC7XJZ/jjzF215YdK1+yJe+rofhquxcRufRqniDleF\n",
       "SB+vuDH8fhzG/1UYX0ELojljSpoMM4PX+R2yTtiNAB6BAKLJ0GBeoJ/c7bZ/A+xd+EdA4ydpNfAU\n",
       "ncUsSgOKkrpvQj0jSG8TAg0aAdhBRJNme06gg20n6jYICyhJR+t/b8Xdxqfs3oFnLtFgJ6yoyWR7\n",
       "CTQWzoa9dD+3NE5smWpuef3QDDxlV4Y+mwZ7Tx6tyf7H9i+T+k37D71EMAAAAABJRU5ErkJggg==\n",
       "\" style=\"display:inline;vertical-align:middle;\" /></a><br>"
      ],
      "text/plain": [
       "<IPython.core.display.HTML object>"
      ]
     },
     "metadata": {},
     "output_type": "display_data"
    },
    {
     "data": {
      "text/html": [
       "<strong id=\"tuple_len_9\"><a class=\"ProveItLink\" href=\"proofs/tuple_len_9/thm_proof.ipynb\">tuple_len_9</a> (conjecture without proof):<br></strong> <a class=\"ProveItLink\" href=\"../__pv_it/theorems/8a683ebfdc3afc6cfde82198b926e5af6aaf3b490/theorem_expr.ipynb\"><img src=\"data:image/png;base64,iVBORw0KGgoAAAANSUhEUgAAAYMAAAAWBAMAAADQlu1lAAAAMFBMVEX///+IiIgiIiIQEBB2dnbu\n",
       "7u5ERETMzMzc3NwyMjK6urpmZmaYmJiqqqpUVFQAAAB6qHgnAAAAAXRSTlMAQObYZgAAAAlwSFlz\n",
       "AAAOxAAADsQBlSsOGwAABS1JREFUWMPNV2toHFUUPvu4M7s7O7sTbU0htQ3BWlEsUaItYiGrxUdj\n",
       "29EGtRS7KeLjR7SD+eMPNdPGn5JsEEVQZFXUP0I3paBosLuCgjTY8VGwUNINjUrBR/IjxoQWvOfe\n",
       "cyezmd0E3BS8C3PPPY875zv3nDN3AdZmuPyHIwFrP1ba2V2zt0Q82C2I668ChPfEM15sJKsicb7Z\n",
       "t/wEEoLZHWCyJ9vDmvrrpRDP2GXXMoKWbRAp14fwxZe2kH2Oi7eaRMAKBOFADTtZqqOb9UKsvQPL\n",
       "eQHLGwDeqAvhEUvfIWSvYJr1NQnBKBOE8dW8BThuh1g7P7JXxHm6LoSLAE8LWZJbx70mIcSAIHSu\n",
       "5i3APSFOam4VnDG7HoQFgH02ytI8gMlmS+EcQTALq3jLx9shTrx9FZzJch0I7G+AzUUhu72jo6tZ\n",
       "CCcJgoHVPJw7Sux3W/4gKrfRkZ1xuvUKeZBro0inL26jzDdzG8qE8/x9sl2yNs6JVxudQlnIPgV4\n",
       "6r+6/jjN7xAEDElqBxyRzrEFOy8dOeYZstw+cDXKmvcdXXWvrEXEgzDUR5ZupipPKMVzM13wIZzo\n",
       "wLGNauGIJWTDkKj6He/NGg/3OYHFwUCpfkUvzdH6VoIQ5UW1vwwnKKhzELOoq0iC3Q2GzLXEZYio\n",
       "sI44vj6hMechI8G8jPpmZ71T2F/U//KETLMDwukapZHgov/jQH05tbvdRRBifKdTog+KPlWArIi0\n",
       "oerVmIGojL0227JbWV9Qu1Zh0FWWpGcjdn2mHgQ2tmezI2SmFajm7TVK1wUXwbYxBI0h3AlsUXK5\n",
       "F8dFr4upps2JvPQkWw3X7qAH1/qW6mgu8KRMdTb4OvOOJGSFCn/0Vh7ARJrdJPrXRkuwRkFMosQm\n",
       "u4Q3FSH6buIZ8XWvhhOJzUJ6xm/up0RV5FWyc+LMsvzn43maz7iK5DjvVS2B8Si316sFEN8FIdvD\n",
       "P3DsJv0fvOpsiWBzuFnvFKx5PK6t8g6SFpGMlDRcXYJNKLLUyRwmCJoF7ApkCj8Dup51eO4zJHgQ\n",
       "ikjkPbhkukzGGTyQZX8bJgxCAHZZUdCVFnpsMU7vDp3CjzabJ9kQd8ooodeglbHAjT7mCBZGM1N9\n",
       "VZyCIRrfiC169HbRRhNPqIa+lyBghzsMP5RKbAFNy1oJ8mJDiDtIaJZ5iyFY/D0HXaEFiUVsQQjQ\n",
       "zcxJ6leA+bjQ02deo14dgnCNrZVJlnEwiSNVUaZGVWa0YCHA2PhZWX8CyLeQ5QWX6BSpg0GX4wWC\n",
       "oHNMh9a9OOVABw8mm+ZNLLqF83dNrBcEm7p/uFWy1k1wY9QCEyOFVGqqp11S/VxuSb3f+XujxXoQ\n",
       "4j14v4sqdt7VvuamWYjxjM+6xFpvq4VqQj0wIJIqMYPL/GNkHnXogrFV7W/6N4SzIWKJEloYNdLH\n",
       "292Spa93rPFlW8qEg+7gJ3YvRO1voBeSRejuRdZLnKV50M34YeVt4NMk/MkVMla6isxzBpmnSwTh\n",
       "tB8i/x3dIWKJQq3JpCcp/RcYdIKWvt74ChD8r1Vq/PuHYMDTxyz+TIxX7AGPWGysYus7AaPPJ6Nl\n",
       "lPM0NzGNzEMblP2zBEFT/6Ie9ru3tZwIUKh14wGiMnew0aClrycv0vUhLL9ke6EnTaaMrym/HCQy\n",
       "A5aPEgSmdvS9jISIAIValc+I4qVQDFr6ejIu9SFotf88U/byp5o+hOd+w0lvjxQUjzMDwbCgVRBH\n",
       "r8IfT3nWEaexzB/p0FNNZchhcMqJ/h5b8aAM/4/xL8pQXs7ooDURAAAAAElFTkSuQmCC\n",
       "\" style=\"display:inline;vertical-align:middle;\" /></a><br>"
      ],
      "text/plain": [
       "<IPython.core.display.HTML object>"
      ]
     },
     "metadata": {},
     "output_type": "display_data"
    }
   ],
   "source": [
    "tuple_len_1, tuple_len_2, tuple_len_3, tuple_len_4, tuple_len_5, tuple_len_6, tuple_len_7, tuple_len_8, tuple_len_9 = \\\n",
    "    [Forall(nvars(count), Equals(Len(nvars(count)), num(count))) for count in range(1, 10)]"
   ]
  },
  {
   "cell_type": "code",
   "execution_count": 44,
   "metadata": {},
   "outputs": [
    {
     "data": {
      "text/html": [
       "<strong id=\"range_1_expansion\"><a class=\"ProveItLink\" href=\"proofs/range_1_expansion/thm_proof.ipynb\">range_1_expansion</a> (conjecture without proof):<br></strong> <a class=\"ProveItLink\" href=\"../__pv_it/theorems/b7a92fc224218299b6c680334a9d1a9bae4f03710/theorem_expr.ipynb\"><img src=\"data:image/png;base64,iVBORw0KGgoAAAANSUhEUgAAAa8AAAAXBAMAAABOq92eAAAAMFBMVEX///+IiIgiIiIQEBB2dnbu\n",
       "7u5ERETMzMzc3NwyMjK6urpmZmaYmJiqqqpUVFQAAAB6qHgnAAAAAXRSTlMAQObYZgAAAAlwSFlz\n",
       "AAAOxAAADsQBlSsOGwAABGRJREFUWMPdV02IFEcUfjPTPX89szu5LazKsskmEFE2SyQgLBjRU1BG\n",
       "CEk8RM1hxYOI6FmdGMhJdC4BCUlYCXp1DYb4l6AXIQkkQ34OG4IO7MFDPKyHxdWT9areq37VVT3u\n",
       "eIsPvup6/d5UfV91/Q3Ai1iHIH3nhRtZ8+usVW1ZfV4rHcmrAy9mhZ6B9AEu5GSG7MLaOlqvy3rL\n",
       "YFDjKQVGH1/8O5ywvwgAV3eyPw6F2zJHRlyrTEEm17dkR1uVzW2YPgfr1GNdmIZPgXEDX58fSlfc\n",
       "NQCIHsySD68BfCFy3Ii0fddXwM0N2O7j+AX26m/RhZpSifBphCgQTuIEPjCUsOS2AUDpnzngOsCv\n",
       "IseN6AnF9cJKJjdgs5dQxy3yGgsGPo0QBQKORNQbSliJAHC5DbaunmJQ3QhasyWFldqDeqiv6Mc0\n",
       "+1sIHo0QBUJDaa0Nt8QWCQDbrY9WE9/HjfjCagMXWTShf9Fl/yuCRyNEgTEzOfn2cMKuEuC3mf/I\n",
       "j8dVS1HfpmQivjCR61tjaTNOvAT3jj0bcMkRPBohCowfAOZs8kdm3zJzGISTBuX4PWI/qqtp0+im\n",
       "vboRX5jM9W20ZWfAQkmVP4MBJJPa+jCAAuMsVDEvvonNvKvTikexLINwwAYBNhGg+pj9E4lqqTmd\n",
       "nqxuxBcmcgN2TvdZxOOyM6rKP8HAsTwKjHI7mkcZvxzN/LCc1+1WAjSX2W+XFO3Kcrqg3AiO9Ksz\n",
       "NNJamMgN2H2zEyheMdxXe8EpMPBohCgwmi29d4x629TzhZk1ruvYfX06s/ptxP9i9YFfbLsVBvCd\n",
       "wrcEX1iAAgO6d7DbpV14FdFDuudHIYwcG5RTsdy3/jexamMiHRQ3EpiKE4OEHQGeiuZ8/4PgrLE8\n",
       "CgzYpW8Bd3GdtfT5sbAohCknOajsMAWVfUKAUov9+GmkViye80ZGJhLYPNJc5zZhHm8ZAviL6lMi\n",
       "dzebm0eBAZ9p0TexkY9RaNx+LxXGDgdBbr7n5tmvLJ+h7Xl/NxBxhEWrIHLjJ9kKiaEjobEsDxjn\n",
       "2pVDgQEjetc4bMeIN9IyCCcNAhwj0BrX9YdqTy1iJ8WpQEQKG1l68lDmbsTKAlemxI5QwZEcwbF/\n",
       "k+BYHgUG2TtY7P9Q11elsFWaihw0B4A+BH5yD4TTuvwb/IjzxbK5juk3Ca3mN2iuVScMXMujcNo2\n",
       "r6fcCsTbYDGB99VITQthFbt9LSbunbTZ/zr1wd5Z1STwIs4l2M3NGL65V+vxlXak93tb3rqd+0kO\n",
       "hVvi+qz5V2Zh3xio/wuFvhBWsHcfFSQ7pFGc6wqf/yPEaoSzkcBfY5ub2Tzwzet7efJ3TvVwv/uc\n",
       "kLEwBYb4Ck1d6/EFtezdbNk+0GiMd4SPNPRAYGOZiG9pbuZPMRZ3rrHMA8n4vB3IAI0QBQZ1dE9N\n",
       "0ot6xrS/PC4OaHbc8W4ZSB9gLCczZGNru25/atR2DAY1nlIYc5qPXlGF/jYNuPK9EMbOy2TV/zX7\n",
       "Z7ABWwi4TE1GAAAAAElFTkSuQmCC\n",
       "\" style=\"display:inline;vertical-align:middle;\" /></a><br>"
      ],
      "text/plain": [
       "<IPython.core.display.HTML object>"
      ]
     },
     "metadata": {},
     "output_type": "display_data"
    }
   ],
   "source": [
    "range_1_expansion = Forall(\n",
    "        (f, i, j),\n",
    "        Equals(ExprTuple(f_i_to_j),[Function(f, i)]),\n",
    "        conditions=[Equals(j, i)])"
   ]
  },
  {
   "cell_type": "code",
   "execution_count": 45,
   "metadata": {},
   "outputs": [
    {
     "data": {
      "text/html": [
       "<strong id=\"range_2_expansion\"><a class=\"ProveItLink\" href=\"proofs/range_2_expansion/thm_proof.ipynb\">range_2_expansion</a> (conjecture without proof):<br></strong> <a class=\"ProveItLink\" href=\"../__pv_it/theorems/9d1d1df006447a69d98cf9294d89de68abedf3c60/theorem_expr.ipynb\"><img src=\"data:image/png;base64,iVBORw0KGgoAAAANSUhEUgAAAikAAAAXBAMAAAA8UsLZAAAAMFBMVEX///+IiIgiIiIQEBB2dnbu\n",
       "7u5ERETMzMzc3NwyMjK6urpmZmaYmJiqqqpUVFQAAAB6qHgnAAAAAXRSTlMAQObYZgAAAAlwSFlz\n",
       "AAAOxAAADsQBlSsOGwAABSxJREFUWMPlWE1oXFUUPpl5b37y5iWjq8BgCLHVhaTEIAqBQAy6ksgL\n",
       "aLUL+7OIZFFKbMCdOlZdCGJnUxDxZ7IwLh0lYrVV0o1gCjqUuoiWdCQLF3YRF4NtV97/e+5PxtyM\n",
       "Kz1wpve+893vnJ5737nnBeBfkbpQPDcemJZ9P7al5HfnYzlQCPX9h/LPMtDmiucAq3sgfbK6P0f3\n",
       "afRqb/KDhSC1Qx/c6DMr14UCJE9kYlyDgQ2MWX8SlMWU4mGwsK5w3nSWwhcZ2rPiuuMoNASp39CH\n",
       "7/WXlLjBlcjTK20xPgRwAWGi32dAW7Ac/7oLJtYjjBeOsb1ucPQFXxi2o9AQhL5K39aT/WUl2eBK\n",
       "ZGYtU2O4ijD5XxZBW6gMyvFA18J6hPHCZTm96lvByU1HoSEILRNvUbu/rOSFEjddUGPyb6Yxn2XY\n",
       "QiWt4pAw1hXOC5OAmJ0VeY+j0BCEVki6yn2WlS2hJL9joMaEF23LHGCLG1K5Z2HhvGkDELOzYsvj\n",
       "KDQEqVPj44/0mZV1oVDZOdLi47hGqKOOgvw49QcgixsSwroieBNabBdGBdpZse5xFBqC1K8AFtXK\n",
       "53lF5q+peLasMluHGF/mkhI+EAowXBXzaJCc9kpDg/8EbHFDwlhXOC/b+FZ+g6PZimScSQdUCKaj\n",
       "0BCkvgslyhlfoi4fZ5gcS0RBrHhQsm4SPkkT/6DTBhNCAc4vi/krCaFOJ3X79RdgixsSwnqE8+Zo\n",
       "W1QfbnO0s2LC4yg0BKmFLGrSHGwuW04K9sUnDyM9zC/dS0rgrHgwLRTgppxneeKwuKvf4F3DQvf4\n",
       "/imxxywkhPUI582TQGO4mXG0s2La4yg0BKlplRXbYecOsLOSNMWA3ePXUMegszKn5jT2wUmrXCqL\n",
       "u1GDPc/KnMoKwBcC7ayY9jgKDUERN65Q+848bXZZ4ha+RVmJa/LazhH8qJGVeecNOqPmH8WEdEyn\n",
       "uGNYPMd3rFdWOG+OhXJIoNkKXFcmPI5CQ1DE82zLv6cZqLK2oLWFspKkjeRFIqfhbZIvdqJUVn4V\n",
       "nKeEAjws5/HdiJQtiuQB5KuGxVPqNNaQDPEW6IrSXYGu2L3nKY+j0BAU8Rssh5eowxdoluLsKZSV\n",
       "Z6OWWLkG8NY146ysyXZcKI+YjYu774ib9ASrbOebhsUIKboNCBvfwQP2I3nZNVvZFehk1v4q8DgK\n",
       "DUERD7Eye1pthrziClYftM0STQ7Oo+TgsKy8LCxnhcqCRse3yLIcjSN3WJdLZcEhDe3cuYWxD9FB\n",
       "SwxgPNO8RbppQ3RTKDrXtLJy1uMoNASL+DH6c+I5Nr6NszJcF28QyUHcXfa9QfQmZ7d50kE3O8A5\n",
       "9vsz/fkODIuxUTbWkDTTvKxJYC/CObUCCSO3HIWGYBLHXYhnYSuBZ8iWTOKsrICutmmjhbNyj2w9\n",
       "W1y3y201B/UxR85j2vkQDIvxaWZi7V4fNC/5bhtq/yQ/Ey87HXDLdRQagklMMlGcgeMjQL7YBzo4\n",
       "K6OqhpPW9re6yMqbH5OGb0malrg+cAzN5ad4TPYjt9gwLJ4/simsJQuAeAv119oTAu350F9yHIWG\n",
       "YBHTDKZs1JaVpACoyABq2uSqWC0/yvXKRTRnaaTlnbLX6obFFY21hOZJ8cYnk1pToAvuXxKPOo5C\n",
       "QzCJC9vkbfuE/d+z91dQF1f+VLdBF1Fvyy5ttbxU5YrnACO+Dan6QxrZ33fo6xo90pv8YCGYxBEt\n",
       "EeyIVODzL1FWkprueSOr/d2E/6GU9uio9pr+h+Rv1Hi9Ie1Bf0YAAAAASUVORK5CYII=\n",
       "\" style=\"display:inline;vertical-align:middle;\" /></a><br>"
      ],
      "text/plain": [
       "<IPython.core.display.HTML object>"
      ]
     },
     "metadata": {},
     "output_type": "display_data"
    },
    {
     "data": {
      "text/html": [
       "<strong id=\"range_3_expansion\"><a class=\"ProveItLink\" href=\"proofs/range_3_expansion/thm_proof.ipynb\">range_3_expansion</a> (conjecture without proof):<br></strong> <a class=\"ProveItLink\" href=\"../__pv_it/theorems/fa38b6530b6444dd20378cab800c3c2fb2a3638c0/theorem_expr.ipynb\"><img src=\"data:image/png;base64,iVBORw0KGgoAAAANSUhEUgAAAoEAAAAYBAMAAAB3izopAAAAMFBMVEX///+IiIgiIiIQEBB2dnbu\n",
       "7u5ERETMzMzc3NwyMjK6urpmZmaYmJiqqqpUVFQAAAB6qHgnAAAAAXRSTlMAQObYZgAAAAlwSFlz\n",
       "AAAOxAAADsQBlSsOGwAABihJREFUWMPtWU1oXFUUPpOZNzOZv44LoRANQ2wtWBpi8QcKwRDsMvEF\n",
       "aqGbdlwkdiEhGNGFaF4rBkGxswm4UJlSrUuHUtQ2ItOFgq3UQSv4RztSxIVdxEVom028P+fee967\n",
       "790ZGHf2wn15533fPeebc3/evS8A/0nJY6V26IEuQbyDoP84yA6SYeNxYAlBsoygf9l9lAexUhsK\n",
       "VZuY6sQ7ON1/HGSfToZNoEElJHCFWyWiy5/8PmACy1OyAhSf9tFOteABypHINRBIqOR2s2dtdwTj\n",
       "F3Lzgh3TgkrAQCEJ5w8CIiPQS0Ii9+0Lz4Nwq0Rc5E/fGzCDR7ACzC538H5oCoZ9whGI15AILUcv\n",
       "bLLrmjuC8QuphmSvxcqIBKISMn9NAiK7oIeERG6+Ds80pVsU8bp8Olj5EivA5Flf30OJDjaBFEk/\n",
       "F9R9isu/4o4Q8ivZV2JlRAJRCelf56FfCYncSgDpCekWRfBsZjoDZnACKxQ2tc3L40SAQNJ0zlWp\n",
       "/LTvChDxK9h2i4mYQETCp37/EhK56U2o3JFuUUSJpXZ40GWwISvri5qyRXmfTAuB/JIof9i5EEb8\n",
       "CrbVgkrQgYiEaehfQiK3UoPKbelWidg/NvbYgBksTskKpZvjLbTn+JSa1RREzgMilvxM1xGA+IW5\n",
       "UWRbLagEHchIuLr/b5CIN9LuIcHFhaEN6VaJ+BxgfsAMmhGxo6rsqTPs5lvDkQjvOoFY8ksNVwTj\n",
       "F1rptmTLFufGeBnXcDQQkfCPGpSZwkQvCQ4urFSlWyXiXcib3Htyi7gkuhSfLWn0Z4XLYjqlIyvA\n",
       "qSW0c50L7OZHQ5bIPkDEkl+ecGVQ+4VUsKMj2VYLKkEHMhLytwGR14qNHhJcXBhHt0pE1s80ee7W\n",
       "eQ9mJG0Pv2SxwR49l5oKBzg0+6dOMaSbsgLcULYHj/LeMj9PIgcAkeLY2ENs/ehq+bkNVwa1X9b8\n",
       "hi/ZVgsqQQcyEsobCvHT1R4SXNxiHd0qEeWqeJFkLy9FBGWjP+Mo/m2Jeg4KU1YGp7Vd5prORJfm\n",
       "A4CINQAKzjE4TVJ0DtlWCypBBzoTeRsJ5IbfQ4KLexXQrRbRuCSWD2tvYGXwIv7lfbDFZ8uaNYsX\n",
       "tT3cZQ5/MI0X1bSQiD2Faq4MLpJpugvZsgVZB6kEHchIyHY18qEHbgkOLjv4vCXdahEzPBHlmzM8\n",
       "q6NiMRzpmAyiwUsNcZ7Br3kGZ1S8qqwg5o28P9ZkI/Qb7kByJPIcIGIv43XDpcWHsF/IbyG7FD0H\n",
       "UAk6kJGQrirE28qAW4KD+xLA/dKtFvGGyDd/BHNiJBblxkpmkBufLbDSzjcQr6uJ9Zsa82pvIX6d\n",
       "vF/Jt+We4phwhgjfBAiEys/cUVsRzvXuqkbaon6htEH3T6FNYzcmkJFwqqmQ3MY74JLg4ub3rq/X\n",
       "pFstoiIWwHV+eVOM+WczLZNBNPgArSNeV2fxs+pcXpNVLcD8vvIdu3mEz63dZGl+ERAh8is3795i\n",
       "tKbi7uU3LXUZ88N+ocLDc/ZQM/p5oBYTyEiQrxiB3Gq7JTi4Q9vb2w10Gxbxgh78amOVBWJwF12O\n",
       "FxcWnlhg5FX2y14G8rrmtdgNvb7zYmH5CQwytBRzIBDlJGhu+KDhR/yKCXZSt6Bljx2ISPgK+pfQ\n",
       "iyvcRkQ8KRa9TdFkR0AyyAw5i3N1xPkgyLfygZ7F6ox9fbhjbH0w5+NcIfSgX2jbXwWm7PMchPxW\n",
       "Ot/7oU8ZtFyxA2kJ5e4H0K+E3lzhNizCY0vpIXaybHnMwzJ9Fy+DeZMwHDO4+sqrPtyn1/BA1IeP\n",
       "EJuThGfedxo5nvTxua654TJHW2eDlc4+ZMd8UKISMJCWMDTf6FtCb+6qLSLH9jXLHe+PIDcJMEoz\n",
       "OKo5x4HhmMGntreJf68u6qUviK3ip/hFI4cTJMmcp2ygSlt79eJI0/RYtFAJhyEsoTQS9C2hN/e4\n",
       "LUKMVzEByup7Rjb6ceMjsh8keeLlBFZqswNYTEdX4yXt7O8EfsKwdybDJtCgEhK4wm1YRPY6W+AK\n",
       "Yu/18fAnEyaDyhCTPzBnEmrfK3y95ktaSdy2iyO+yaAyRDkYbnT5Xt7cxf5PoRd3XPi/l38BMBwI\n",
       "RfpxCyYAAAAASUVORK5CYII=\n",
       "\" style=\"display:inline;vertical-align:middle;\" /></a><br>"
      ],
      "text/plain": [
       "<IPython.core.display.HTML object>"
      ]
     },
     "metadata": {},
     "output_type": "display_data"
    },
    {
     "data": {
      "text/html": [
       "<strong id=\"range_4_expansion\"><a class=\"ProveItLink\" href=\"proofs/range_4_expansion/thm_proof.ipynb\">range_4_expansion</a> (conjecture without proof):<br></strong> <a class=\"ProveItLink\" href=\"../__pv_it/theorems/f9dff376a649c77f4cc14d2fc925c633f30d01380/theorem_expr.ipynb\"><img src=\"data:image/png;base64,iVBORw0KGgoAAAANSUhEUgAAAtYAAAAYBAMAAAAsQ6cYAAAAMFBMVEX///+IiIgiIiIQEBB2dnbu\n",
       "7u5ERETMzMzc3NwyMjK6urpmZmaYmJiqqqpUVFQAAAB6qHgnAAAAAXRSTlMAQObYZgAAAAlwSFlz\n",
       "AAAOxAAADsQBlSsOGwAABr5JREFUaN7tmU2MFEUUx998907PrMPBBAPCZPxKIJJdlJgYkYHgyQBN\n",
       "NCAxyhrDyoHoCAZPyqgJ0WhkPZgYgzi4ysnExSACu5rlQiIgjqiHNQYmIdEDSpbDho+wWevjve7q\n",
       "7urq3sweqaRmuub9q96vXldVV/UAzEVqYlbLvh8oWfr61iz8SLUVbZ5DhNlom9HI1iy6GJdSbZnV\n",
       "MsBBjfJufQPFSmI/qNbVmHuEWWhV52o6qAB3+A9/dRfr3zEDHHmCygsgNa5qhKVcFxZ/2ukALIzx\n",
       "4LULux2hXqjHMCDYax1ESI3EIURr3z/+klbLHQa01tqjLYmAwCf4r590FerckMwA2X9WYhnuBfhY\n",
       "0UjLFpAWtfLlzxlqj2P0oLQLd0l1uEYcwvpdbURI1+MQIrXWAGxoabTCYUD7LJSnJQICvykb6CbZ\n",
       "4zIDZP7cBnQNcEbRSMuY8svXdLGYgZRGjB787Qp1uEYcwspDTmKESG1vEzJ9Gq2tzKAiXi9u525I\n",
       "BATmIc+2u4p1BjPANw641+xbufvS0qfU+lXtKKwwevC3K9UrdBgGhOIUJEaI1mamoPe6RptRpGVc\n",
       "zodbcAMRJHCJ3YSe7pbrCcwAa9wyTz3KvRaW8lBkR/cbPfjbler9OgwDQraaHCFa21uF3msa7YQm\n",
       "1uzqFiIg8PJa7eHuYn0EM5xbfhnLuQXMQ7bjSqTFrqMl3NH1Jgdeu5Cb10H1eh1GNELp0rIRRNg4\n",
       "BmYEoxbSkxotd05aL9ZfEAICfw+wrbtYe6PsKpWzRTb/Ssq4uEqjTFjCHf3J6MFtF2x4DNWihl0T\n",
       "qQPxCHdUCKE+DDEIJi3sqWi03Dlp3Vi/eqWBCAj8IVje+HtGfBbEJ67/BW9uNNGOO0q6eBAzWNeo\n",
       "/IbNPJS99U5a0m20hDv6mynUXrswH6ZRHaoRg7CvgQiF9nGIQTBpYZlOyxy6WmUNmUYEBM472Raf\n",
       "nKN8bq+Ws0RUx82JLPB0muysSz8vatDNgEcxQ3mSyk6G+StMerdJXGZaaIFva7WHarVlXkf3mGLt\n",
       "tQtOeQrVoRoxCBcBEXLQDzEIJq09oNMyh1LLZto9y3GmAaxyJAIClyvi0Zg/3QiwBzeCOaxv80dE\n",
       "PdUHXwZjLR8T4voioy/2BR4gPNbCEh5Uw8bttdcu2FVUD2tjHY2whuIH5SmIQTBpz4FOyx2Slsb1\n",
       "6wCvtCUCAQ+dFMtO6GwQjLXdkt95vrA0WKdoR++uIfmOWz6QYz6rbl1p4WuIsIQ7et4Ua6VdeV44\n",
       "TzXU9ToG4WUghJ6OE4Ng0LKz5LsaLXdIWor1jMNjLRAIeB0/2ZQvreOHd0G68Qcl1ljgrtGel6Vx\n",
       "d1v+AmbIVKicu5llTwXegnQvLfkKWsIdPQWu1jeXwN8uWx5bqD4V1MYg9AMhbG3VYxAM2tcA7pRa\n",
       "HDP9rnPSUqwfF2uIQCDgd0SARe2KmAUjE0qsWcEeZGkHvId2EevUR6xNXLDdHdi+FpULkx/gFu8G\n",
       "eBa+/REWX0c3NGk/x7Vbh/DCLantAvzi22WqyYxg3QRC2GONGxFMWmvp6GhVaiUbarlz0lKsz4r9\n",
       "NUdwgXvFQj3K6z3Hx3vOedKLNRVYOoR2Oa43VaCIq8xOzPiYENf/Mrdp3u+a41kKVbSoHb2y6gD7\n",
       "ZQmgNs1v4FLAj/R9gXbhb/6xBLP/BZIRAR+aHKH3LBgRTNr0zMzMkNRKNtRyh6SlWBdHj7YQwQ+8\n",
       "g2aNu1MdAKXA0gVhPzr44uAgIytcg4KyUxG7lR/9O5e3hWMRa7Q8oDu0idFR9bS+9AcE2u1HtVUN\n",
       "Ss0Idic5QkKtYENtuqE7NxJCAPgR/rF1s7i+rsb6Oq0hu9HOx/VTDeuWu4bgm5Vy5zOvDPTqhq/O\n",
       "ruWM7sWP994oG34s1sHX7n+lKd/LLjUZES70tBMjJNXWFa36NqroQxsLAeemIFeHCRueZkO2T4l1\n",
       "oU95Nk7YGOu0U1oBKbp/20VObxtSyvT2cCNXkyUf8ecF7AXSBp6NFVDbLUyLrcxet4YvmRDu3wKJ\n",
       "ERJqOZun3R51DhsIAbOQFlbC8/NhVxtSHSXWKfdQyTwzO+75Vi9qeiibRC4tUMtEyoFcSy7q5a0k\n",
       "Df/dkVJrs3YPn/DubSiZEE4eg8QICbXi3OxqN0XtV5shYD4HyuKqTS/HBgJvyop1b3/tb96qyKyW\n",
       "+XE6nN6K+HOrmejFC/rgal2NuUeYhdaK+Btvfgg4f4Gt7V+JiDqf7lLOMlTg6Zh3blTLt9PsUnYe\n",
       "+xAjuASHv1NiTQUh8m8TSq3bcZurFJ4ojuZMdzslTv8DoRxaw+PsVCMAAAAASUVORK5CYII=\n",
       "\" style=\"display:inline;vertical-align:middle;\" /></a><br>"
      ],
      "text/plain": [
       "<IPython.core.display.HTML object>"
      ]
     },
     "metadata": {},
     "output_type": "display_data"
    },
    {
     "data": {
      "text/html": [
       "<strong id=\"range_5_expansion\"><a class=\"ProveItLink\" href=\"proofs/range_5_expansion/thm_proof.ipynb\">range_5_expansion</a> (conjecture without proof):<br></strong> <a class=\"ProveItLink\" href=\"../__pv_it/theorems/65aaf99650d584688416287f6fdc82090ea3322a0/theorem_expr.ipynb\"><img src=\"data:image/png;base64,iVBORw0KGgoAAAANSUhEUgAAAy0AAAAYBAMAAAAFYQ+2AAAAMFBMVEX///+IiIgiIiIQEBB2dnbu\n",
       "7u5ERETMzMzc3NwyMjK6urpmZmaYmJiqqqpUVFQAAAB6qHgnAAAAAXRSTlMAQObYZgAAAAlwSFlz\n",
       "AAAOxAAADsQBlSsOGwAAB1BJREFUaN7tWV1sFFUUPvu/3dkpi4lJDRg2618CkbQoMTECK8EnA0wT\n",
       "gxKjrTFUHohUSvBJWTEhGon0xcQYxMUqTyYWgwi0aHkh8hNcUR9qDExCog9gKQ8NP7HW+3PunTsz\n",
       "d+5ssyW+cJKzO3fPd+/57jlzfxdgLqSGqpZ9PwjJ6+vnZ+GHo/PR5jmkMBtszUS5eWwt2jxrSTS4\n",
       "qmWAAxrk/foGCqWm/SBaV2PuKcwCqzpX5QDMDivUpT/80VpefkUFOPyMKC+AxJiKYRa7yix+2eYA\n",
       "LIzx4LULOxyGXqinYaBgrXGQQmI4jkI09oNjr2mx1GEAm19zpK6LApILSG6YYYUep7993FJaMoNc\n",
       "AdJ/rcAyPAjwkYLhlo3ALWrlK5+RbrU5Rg9Ku3AfR4drxFFYN9BACslqHIVIbL4X1tc1WOYwgH0R\n",
       "7GldFAQ5vyRdjkV9mztrRawxrgCp3zeBeAY4q2C4ZVT55SvxsIh0sjhs9OBvl6HDNeIorDjoNE0h\n",
       "Etteg1SnBmspw6KAz4samVu6KOiwAPe4HItKU59utJSXFCrA1w7IZ/KtvFXc0qnU+lkNCiw3evC3\n",
       "y9HLdTQMFApT0DSFaGxqCtpvarApBWrj8jNUh1u6KOiwkDvtcixqkSSsrbXlZRwVYLUsU2lT3gtm\n",
       "sQcjg7LP6MHfLkfv09EwUEiXm6cQjW0vQ/sNDXZcF2uw/9FEQY9Nt7kcK3RZpfJ4a3k5jArnl13B\n",
       "cmYBaTntSgi3WFW0hIOyzuTAaxcy811Er9PRiKZQvLx0GCl0j4KZghELyUkNljoXWC8vn+uiIMn5\n",
       "sB00L2lFvwPY1FpevLf3uiinC2QOKCrv23Xx9jJLOCinjR5ku2DBU4hmNawKExfiKcwrCQrVIYih\n",
       "YMLCzpIGS50LrIz1GxP9mihIcio2P0bzQrFCP4S8l9EX+FzHPnFty3ljroZ23IWLh0dRIX9DlN+y\n",
       "SMu2Nz9zS7KBlnBQfjGlxWsXOmAa0aEaMRT29iOFXOMYxFAwYWGpDkscSqwyj01roiDJqdg00LxQ\n",
       "rNCsk67TCWKEjqyn+UhlrnCTxgtUzgg7e5lk4uBJVLAnRdlJEX+5SS+l7DFVRwt8U6k8Vqks9YKy\n",
       "05QXr11w7ClEh2rEULgESCEDXRBDwYS1enVY4pBjyQh+YBmOYIBVTjgKkpyK/ZHlhWKF2iW27GfP\n",
       "9Af6Gdw8Z9CXxbsC8EUwL3wJZM+XSE8LnYHFkeaFWcIv65Dx+OK1C1YZ0UPavERTWC1iDfYUxFAw\n",
       "Yc+DDksdCqwYA28CbG2EoyDJKdh8ieWFYoXC4Ek2TYbOacG8WHX+nWW7w0veSUzOY1lXlvdniM+y\n",
       "rMstdB5jlnBQLpjyorTLz24XRA11fYmh8DoICm2uE0PBgLWr8J4GSx0KrMjLjEPzEoqCJKdgCxMT\n",
       "11ZWGVYorKUnTPvyWnoxwyp2n1DyggVKE+0sL9093rHnFVRIlUQ5cztNVi/aAqfKLdkSWsJBOQUS\n",
       "6xuj4G+XTOd1RJ8KYmModIGg0FOvxlAwYLcD3MuxGNku6VxgRV5WsnmMUQj2Q0bBW4tSLqcrFN5l\n",
       "yWCeSmwkDo8reSEFq4/IFngf7SwvJZIXGxcYuWvdWxfl3OQe3BbfAs+SdtHiC8r6mtgDU2zPID7I\n",
       "ktouwE++nbkqZgr52yAo7MyPGSmYsPklIyNljuXcEEudC6yI9Tl2fqEUQv2QUfDyMq+XY4VCO1tY\n",
       "RqiPl+j4yTjPenkRBSIH0Z5lWzOSlwLOdNtQcQlkz1cJxSSlUXE8S66MFjUoE6v2k18WA2KTNNlL\n",
       "AD+SDwXahT/px2JU/+WjkQKuuZRC+zkwUjBhkzMzM4Mcy7khljoUWBHrwsiROlII9eNq8Pxibf23\n",
       "xLBCUbaIkStPAr2gFIhcZPYjfa/29Y3tAZKXnLJjY7u27/07uF3MMcsLWh7RHbbZW1f2sD75DQLt\n",
       "diE6Xw5d/BkpWG7zFJrEMm6ITfbrzvuSQrgfkdhdsg6TJ+hHz/Ps+aaal5tiHtuBdjpetq/5Ya2c\n",
       "x/Aa0XY/9cogrv3oPCotZ3WXht6dYzq85FfB1+7fxSnfRakqRgoX2xpNU2gWW1Ww6k1mwUdtVNcP\n",
       "A3bUd2GamYJMFcYteI6Mg04lL7lOZd0ft8T6AnsdSIhcb2aa3DSolMUtdTetKSzZqH/idoPABtb9\n",
       "Eqjt5qbZlm63rOETE4WHN0LTFJrEUm4ednPUmbhX0w8DVqi4zuyE3Ap4uQMGGpBwlbwk5GUAYUns\n",
       "mJfitRMe7Q1MiwvUsugVJS8tmag/FDjT8N+ACbU2affQce89CImJwsmj0DSFJrHsvkNiN0Tt8Wu6\n",
       "fkRjhSp/adjsqSFuQHsDN7KFqnJ+8TVPTkVM1TK9MgnLO3pCiVpTF3Hog6J1Neaewiyw+Yi/wjtg\n",
       "dtgOX53sRbIWfcmi73wyoJwrRYHKUfW875Xvyp2T9HzywUZGEQ59q+RFFBjIv10q1u/G7f+Q8GB1\n",
       "NGfxu3JH5D8g2KN2RggX8QAAAABJRU5ErkJggg==\n",
       "\" style=\"display:inline;vertical-align:middle;\" /></a><br>"
      ],
      "text/plain": [
       "<IPython.core.display.HTML object>"
      ]
     },
     "metadata": {},
     "output_type": "display_data"
    },
    {
     "data": {
      "text/html": [
       "<strong id=\"range_6_expansion\"><a class=\"ProveItLink\" href=\"proofs/range_6_expansion/thm_proof.ipynb\">range_6_expansion</a> (conjecture without proof):<br></strong> <a class=\"ProveItLink\" href=\"../__pv_it/theorems/b88a681a44078bc0bfdd68d74f26fe8c5d0111370/theorem_expr.ipynb\"><img src=\"data:image/png;base64,iVBORw0KGgoAAAANSUhEUgAAA4UAAAAYBAMAAAC/7kWTAAAAMFBMVEX///+IiIgiIiIQEBB2dnbu\n",
       "7u5ERETMzMzc3NwyMjK6urpmZmaYmJiqqqpUVFQAAAB6qHgnAAAAAXRSTlMAQObYZgAAAAlwSFlz\n",
       "AAAOxAAADsQBlSsOGwAAB+JJREFUaN7tmm2IVFUYx595vzt3Zh17gQ0Nh7EXUJJdS4JIHUW/FOoV\n",
       "wpJIN2I3P0huGgZBORlIYeR+ESrMxrb8JLSG77vJ+kXyBRstP2yEXhAy0LY1WFylbTsvz7n33HvP\n",
       "nHvX2cgPHjiz98zzO+f87/Pce95mASYjVTDLZc8XIhnq+sYE+uG0Ud88iRImwlZ0kiedNVRubyTF\n",
       "ajzLZYA9CvJhdQPZQuR+kFbVmHwJE2DlzuW0Byad7YJUhUnYg9mm3/7aWAx/xgxwYKkoT4PYgMww\n",
       "S77MLN600QKYHtKD2y5sthg9XS1DI8FcYqGEWG+YhPrs9qOvK1naoY81lhyqqryA4nwp0xuVXfhZ\n",
       "ifuA8jQfo99+2lAIU908AySvzscyPAKwU2K4ZTVwi1z52pfEBU2WtgepXXiI08EaYRKWb6qhhHg5\n",
       "TEJd1miHFVUFyzr0sS9DfkzlBSHOm+J2VHbmX0tR7k6e3+PCGknmAM8AiV86QFwDnJEYbumXvtkn\n",
       "LmYQNblebQ/edhkdrBEmYf5eK7KEumxzBRKtCtaUXqEsXs+opW6pvKBiAe6zw1gh1xY+YPwZHs9k\n",
       "raEYJjADfGuBc03+Sk8rt7RKtc7LDoR52h687XJ6nkqGRkJ2BCJLqM8mRqB5VMEmJDSP02VPFW6p\n",
       "vKBiIXPKDmPPyzFkEihPco4Euqmx6XAQM8Bip0xTk/QMMUu+u64Dd2l78LbL6V0qGRoJyWJ0CfXZ\n",
       "5iI031Swg6q4QP5vhRfUbLLJDmO9MdyFt0fz3FLpqcZieAAznJt7DcupaaTlpO0g3GKW0RJ04HJd\n",
       "B267kJpqI71cJaO+hNyVOb0oYWU/6CVoWYgPK1jauWDdGH6l8oIjzsO20BjqWSHh+gNXUW4S6xwG\n",
       "6Ggshu5bcUOUk1kyDuWk5/iGeCuYJejAU9oenHbBhGeRZjXMEks2hEuYUhASyj0QIkHHwpaCgqWd\n",
       "C9aJy5tDXQovOOJk1higMdSzQkIH7KhyCZSn+RMw3Oi/xMdm9onzdsZ97ytox52LuHgCMxg3Rfld\n",
       "k7Scd+cTbonX0BJ04E+6ELrtQguMIR2oESJhRxdKyNSOQogEHQtzVCzp0GGlsXRM4QVHnMwmgcZQ\n",
       "z7oS0kUugfI0p61klQ5SffSNXcRHCyYLF6u8QNNpYSc9PLevJoIMz2CG/LAoWwmiLTPshp9dJqpo\n",
       "ge9KpSdLpTmuA7foYui2C1Z+BOlAjRAJlwElpKANQiToWLNdxZIOOUtGhplzcWQgWzkr6AVHnMz+\n",
       "wGKoYWUJYI5yCZSnOV9gS5r06S6fT/wbjhTqMulibCHZs3ztjyGf3tn1ZeKVbKtv4qcxZJbgS9Cj\n",
       "3R667YJZRLpHGcP6EhaLuEB+BEIk6NhzoGJph4IV79bbABtqQS844iTWKLAY6lmUkO4G8yaXQHlW\n",
       "p/sEG9YDe2Z/DM0qtkEr04CLna4zlqZtp7w7RfQV3ZffFmMpswQdeEEXQ6ldvo++IGrI82GIhDdA\n",
       "SGiyrRAJGjZfhg8VLO1QsCKG4xaNYcALjjiJzQ4N/bmgHMKK7Q1ZGg9zCZRndZbR3X7+yjJ6+MYq\n",
       "rvxeiiEW6C2hncXwnYvutvJVzJAoiHLqdpLMtrQFflvcki6gJejAk+CwnncfvO0Cm84ZfdLPhkho\n",
       "AyFhbbUcIkHDvgXwIGfRs21O54IVMVzAxlImwX8fjhfcuTNhQwh7XkydkGjnEijP6nzAAsdUFdho\n",
       "0DsoxZAUzE6S1sNHaGcx/H0NecJwQnRW+juqopwZ/hi3ErfAtSRttHgcuKIi9g2UXduNF05Jbhfg\n",
       "R89uRk56CcZtEBK2GANaCTrWmN3XV+Qs14Ys7VywIi5n2f6QSgjch+MFN4ZT2sNYIaEX7re4BMqz\n",
       "Os1sIuyj1lfoe5mynndjKAok7UV7mi9XhyGLo+1GzDi9s+vr5HbiVEbJci2ZIlpkBw4t3E2+mQXI\n",
       "xumDMRvwI/6or134jX7Mwuw9uNZKwDUCldB8FrQSdGx8fHy8m7NcG7K0Q8GKuGT7DlVRQuA+rvv3\n",
       "h+aGfwohrJC7/fhBvP+4aJ+n9WL0cHZa7SAVSLrE7Ic6X+vsHMiTNxwy0sqVrV6Pe1eyW5lIFkO0\n",
       "PK46JGHPVtFlPeki+NptQ9ooBg6NtRJMO7qEiCzThmy8S3VO40gI3scdsEEJW506LD1NP9a+yK5H\n",
       "5RiOirF0M9rpezilyxh1xlI8gs7bX7hlEEfGdCx3LGdUB87ueXUyuJwpg6fdP3IjnkN2OWklXGqq\n",
       "RZYQlS1LrHwKnvVI61fdxx2xQQn9noP51AikyjBowgtkDGmVYphpldY0gybG0LRiNsTEM7SO5XhH\n",
       "t1QWv4aspDWFJV2ps/LcBoL1rWkKILebGWNL221ODU/SSXhsNUSWEJGl2lx2Xb3ziXbFfUwCuw15\n",
       "6TcnEqrMfFjTAptqELOlGMacQxxyR8TOY5hatES6xVUs56bJZWGmN+pYUvV+5OJKgz+Px+TapN39\n",
       "x9xnJpB0Ek4cgcgSIrLsnMphV9XbF1VU99E4uw556Tmj72yeXdXE6Xm77+Q/W3b3h97myQ6VZblM\n",
       "j8WC6X21oFgl0sEs9kFpVY3JlzAB1qjz7yQt8J+wTEKLp076Epk7v2GRsj7fJO3xRYGmI+45jVy+\n",
       "l+6OlJxKPtgbl4P9B6UYigKDvMvGXPWe3+72FBwwLMUZyr30v6d/AaId8unYt7z9AAAAAElFTkSu\n",
       "QmCC\n",
       "\" style=\"display:inline;vertical-align:middle;\" /></a><br>"
      ],
      "text/plain": [
       "<IPython.core.display.HTML object>"
      ]
     },
     "metadata": {},
     "output_type": "display_data"
    },
    {
     "data": {
      "text/html": [
       "<strong id=\"range_7_expansion\"><a class=\"ProveItLink\" href=\"proofs/range_7_expansion/thm_proof.ipynb\">range_7_expansion</a> (conjecture without proof):<br></strong> <a class=\"ProveItLink\" href=\"../__pv_it/theorems/428fafba596911d3daf3ab94bda93103ef2970000/theorem_expr.ipynb\"><img src=\"data:image/png;base64,iVBORw0KGgoAAAANSUhEUgAAA9wAAAAYBAMAAAD67+gRAAAAMFBMVEX///+IiIgiIiIQEBB2dnbu\n",
       "7u5ERETMzMzc3NwyMjK6urpmZmaYmJiqqqpUVFQAAAB6qHgnAAAAAXRSTlMAQObYZgAAAAlwSFlz\n",
       "AAAOxAAADsQBlSsOGwAACDFJREFUaN7tml9sFEUcx3/3f3t71x6KSU0xXA7/JBBJizYmROAgJT4Y\n",
       "YIkGJURbo608EKlg8El7akIkGHs+GNQgHqLEBxMPAwgUyfFC5E/wQHmoMbAJiTyAtZg0lIZaZ2Zn\n",
       "dmZ352b3uPqAYZK57tzvOzOf/f3mZmdmCzAdqUCzWHZ8wZImr6/V0Y+l1mqbpxGhHm1BhTzt2npx\n",
       "tTq87JdCVSuLZYDdEuUD8gaSmcD9ULWsxvQj1KEVOxfTbph2bT/ECvXismziL35vLNy/0gywfzkr\n",
       "t0GoImqIJZ0nFmfaZADM8umBtwtbDKKeJcdQIOhdBkUIlf0Qamu3H35VqsUdurRa18GSzAsUzpUS\n",
       "5aDaJZ/mjKC40NXVb/sL5SP4u08ainasaGWA6JVFtAwPAnwsaCzLWrAsYuWrXyDUJkPZg9Au3G+p\n",
       "vTX8EFZurlKEcN4PoaZW64FVJYmWdOjSroP0pMwLDM6ZwmZQ7Zy/lwfFhW2l5qztL5Tftu6hkaRX\n",
       "rAwQ+a0X2DXAaUFjWY4K33zLLmYjkFRZ2YOzXaL21vBDWLTXCIxQU9tcgEi7RKsLP8wkvZ5djd2U\n",
       "eUGmBbjH9NMyXJP5IMCtfQTxHttfKOOoR6sNhTtCM8B3BtjX6K8wAC1Lu1DrnOhr6FT24GzXUnfK\n",
       "MBQIyTEIjFBbGxmD5nGJNiJI0/S5uqcEN2VekGkhcdL0054Twx0MNz3m8FcnpNDwaWrs0T1MM8Ay\n",
       "u4xTkzAyiSVdrOnrncoenO1a6p0yDAVCNBscobYWTY3NNyTaYVkIIX1L4gW5Ntpk+mmd4Q6EG293\n",
       "+AvlBbnc442Fez/NcHbBVVqOtSHwqGlLLIuepxavr1eqOuDtQmyGSdUrZRi1EVKX55cpwuqjoEZQ\n",
       "aiE8KtHizpmWh/tLmRdsOIe2FYdbrWUI12ZeCYob2bH0iOAvlH8A6G0s3Py3dp2Vo0k0rFLCcLvO\n",
       "fmvE4vX1SWUPdrugw5NUTWroOZJM8EdoyTCE/B7wQVBpYSAj0eLOmdYO4esj/RIv2HCiVqvgcKu1\n",
       "DKEXBksBcVt2QqTK/YXyh6DxMfW89Rwhn3QtkOATT4Ha6Y6QXTxKM2g3WPktHYGn+cPEsoSr1OL1\n",
       "9S+qaPN2oRUmqdpTwwdhsJ8iJKqHwQdBpYX5Mi3q0NYKk/mkxAs2nKiNAg63WssR4tmAuN2joHdy\n",
       "f6EcN6IlPEsO4SljqTVdkep0uW4VcDrF7BhvRoWNB1hIM6RHWdmIoNtIjPKRQi4jJWqB73O5x3K5\n",
       "+dzXA6pw83bBIIuPAVkNH4RLQBFi0AE+CCqt3iPTog4tLZpv5iyg8w3aIhteL9hwovYnEm6FVkQA\n",
       "fTwgbncWUhPcXwN4fJGVWvxUv8t97t1ZjN6Cjj92ILKv3OG2lgzk+hJyYLLdtZjA4SYW709rj3Lb\n",
       "zdsFPUvVe6Thro2wjPmELVcVCCrtWZBpF/JlsP2LfRNgY9XrBRtO0GoZEm61li2/iqDfCIjbUoTU\n",
       "Le4vnIvHicFzbOEOt16i3WGYMvDDBnsyj5t2eVcM9Z3ls4/JJnNi8fr6vCrcQrvWOcJ5VkN8dvsg\n",
       "vAYMock0fBAU2nQe3pdocYdMy8I9ZeBwe7xgwwna5MjIX4vzPlq2/EKbg9GAuHHr131e8NkKfJaT\n",
       "vrwCH9qSPlb/KISbFnBz1I7DHfnmAt+uv0QzRDKsHJuIooUHbsHq3rLEM9Ti9fUJsLWOGQWc7QJZ\n",
       "pRD1CbfWB6EDGEJ3Ke+DoNC+AXCfpaVB6LA7Z1oW7sVkMicI7vuwvcCf8xETfLTn2GMeIj0BcdEj\n",
       "QW/n/sL5PRJjcgMZMheUh4Vwo4Leh9IG2EbtONzdT62rQJo+vO1t0WCJlROjH9B9103glqhJLQ5f\n",
       "ryqwTRbWdhfphV0S2wX42bH1E5MaQZsAhjCgVZQIKq02b2goa2ktNqrFnTMtC+EZsu/GCJ77sL3A\n",
       "w93S46dlCGW41wiIC6/AM1XuL5ybyUN7CNd7AU8mMeNpHm5WQGkvteNwD1Zi45Ck0/0mmumSgVxf\n",
       "Q92GMXHO4JZEllpEoJElu9A3c4Fqw3gMzQP6EX7I1S78gT/m0ux8z6FEoEsfjNB8BpQIKm14amqq\n",
       "aGktNqrFHTItC2Fy6GCJInju45p7361v/Cfjo2W4248dgIC4EB26IviL+2wDmw/sHWwPOE9vLhL7\n",
       "wb6X+/oqLf1wCxLC2p2s34851/Lvkvsh4aaWR2RHWmSAZrnWkS6Aq90OqtaynncMSgTdDI4QUEvY\n",
       "qDbcLztVsxG893Eb2oZwXT57gmzTniPX42K4x9lkvoXa8a8bDcMJezKnp+9p83NeBnZkj587tuW0\n",
       "7P0Ef70R9a7S8uBo98/UmOOdjJiUCBebqoERgmrzglZ8Y5F0oB2V3cdtaRvCdfosNgaxPAzr8Cya\n",
       "FdqFcCfahaXasE7DnSqjqSPERuZ6ksO9RaHM3rOtxjWZJV6osfbeCkzrWqplQGw3MUkW91vtGo6k\n",
       "Qnh4LQRGCKjFbFy7vtYRUY/kPqZBWy+u02coqolF8GIrbK5CyBTCHbKP3FBryG6FG2a2Gbz5NSSn\n",
       "2sQy6x37xLbEar1ptW7K+x8aIbE2anffET68PEmFcPwQBEYIqCWnirZ2Ta1NZEF2H41r68V1+gxP\n",
       "GmlyVWXvZXpc75SSeb7vdpJoGSuLZXze6U3vyHlChUCH87QPrJbVmH6EOrRajf+/aoX/RFsvrtNn\n",
       "8YtoSfA1Carx2WbhmIUVcDoknKoJ5bvpjkvRGeiD/I5TsO+AEG5WICLnwjlVuuu3/1HyTheG5MTr\n",
       "brqT0r/d3UFXao/1XwAAAABJRU5ErkJggg==\n",
       "\" style=\"display:inline;vertical-align:middle;\" /></a><br>"
      ],
      "text/plain": [
       "<IPython.core.display.HTML object>"
      ]
     },
     "metadata": {},
     "output_type": "display_data"
    },
    {
     "data": {
      "text/html": [
       "<strong id=\"range_8_expansion\"><a class=\"ProveItLink\" href=\"proofs/range_8_expansion/thm_proof.ipynb\">range_8_expansion</a> (conjecture without proof):<br></strong> <a class=\"ProveItLink\" href=\"../__pv_it/theorems/0b9379b8af86446a9b01765039c982fff0145c190/theorem_expr.ipynb\"><img src=\"data:image/png;base64,iVBORw0KGgoAAAANSUhEUgAABDQAAAAYBAMAAAD34bAXAAAAMFBMVEX///+IiIgiIiIQEBB2dnbu\n",
       "7u5ERETMzMzc3NwyMjK6urpmZmaYmJiqqqpUVFQAAAB6qHgnAAAAAXRSTlMAQObYZgAAAAlwSFlz\n",
       "AAAOxAAADsQBlSsOGwAACJNJREFUaN7tmlmMFEUYx7+5e6dndscrWQPGyXglGsmCEhMiMhD0xQBN\n",
       "NCoxumMU5MFjFQNPyqgJkWBkfTAeQRxEfTJxIYjAIllfjFd0QH1YYqATEkkUcTXZcCiOdXxVXT1d\n",
       "U13rrC9KJTXbNd+/qn711TfV1dULMB2pjlkth74QydHXd6bQD1c7nc3TiDAVbd2EPO3arnGdzgjO\n",
       "FGYkLiWaPKtlgG0a5WX6BvIl635Qrasx/QhT0Kqdq2kbTLt2CDL1bnE12hc9RBD+9em3P3QXGt9h\n",
       "Bth1qyjPgMSYqmGWYpVZwulJgjQzpoegXVjrMfVMPYYBwV3sIUJiJA6hs3bT3oe1Wtphm9ZZvLuh\n",
       "8wLCtaXciK12wesVzxYXFi8estQebbVaAwwB/buPfvtaV5GRGeYZIH18PpbhSoBXFA23rABuUSv/\n",
       "/BZB7fGMPSjtwqVcHa0Rh7B0TRMRktU4hI5apwbLGhot67BNey8Uz+m8IODCKenbaq/4/VZbXNjY\n",
       "6C1bam8bHd3ZZAjo32f4eLtJ7hjPAKnDK0FcA3ypaLhlv/LN++LicgJSGDH2EG6XqaM14hDmv+dZ\n",
       "I3TU9tYhNaDRusoPPo/XlzczZ3Re0GkBLvTjtALXFz6wGNrLkK1ZakmgbOII6F8aIelmV6GRwgzw\n",
       "gQfymvxVgpVbBpRaB9V5gbnGHsLtcvVcHYYBIT8J1gidtalJ6D2t0aYUaRHv7dsbcEbnBZ0Wcp/7\n",
       "cdqDamjY4RYn7bVN1nLKk/4tkLDs6W6rMY4ZYJEs09SjRDyzFIc7zssWYw/hdrl6iw7DgJAu2yN0\n",
       "1pLlufeURjuum24o/qnxgl6b7vHjtOHQsMLNDthriW0IEdC/cyqVG7sLjV2Y4es5P2M5M4P0kPal\n",
       "hFvcKlqi87LU1EHQLmQu8FG9VIfRGaFwbNYIIizfD2YEoxaSExot7Vxog9B4W+cFCRfS9tPQMGsF\n",
       "womLj9vipl5duM9+aBsAEdC/HwGs7C40gt/wb6KczpNwLSih+Zv4DTNLdF4+N/Yg2wUXbkY1q+FW\n",
       "WPIhHqGvJBCq2yEGwaSF9SWNlnYutHK6nzg5pPGChFO1zhgNDbNWIKyEzQ1L3L4tkGpaD+0nQAT0\n",
       "70vgBLF6D7/vsU/cu+SCxa+Odn4ikhDfX48ZnFOi/LRLeigGNzRuSTbREp2Xb02REbQL/XAO1ZEa\n",
       "MQibhxAh19wLMQgmLczSaUmHUqvcUM5pvCDhVG0aaGiYtQFCtmyJOzgB7lzboTm0d4aA/s166QZd\n",
       "qUfpsrWQL5msOj628AJNXwg7+bU+um6diB2YhxmKE6LspciQcxNBVLHLVAMtsLNSuaFSmRXMy3pT\n",
       "aATtgsc2Vut1NWIQjgIiZGA2xCCYtG5NpyUdci1Zx66Yg+sYwAIv6gUJp2o/Y6Fh0KoI4J62xB0s\n",
       "Q+Gs7dDSNAQZAvq3WGK70OwXQ22ubn+izeBwXaputf6Ad9pDg29x2PVR4uz8QNvmh4YGs0R/stuN\n",
       "xxpBu+CWUb1dGxqdERYJn4htuwHBpP0adNp5weOAXAnWATzejHpBwilap8RCw6wVW8thcE9Z4vYN\n",
       "Q+FP26El6YwzBOHf4U9YI5EjpPbQcBuIxsNjRJ6kyBtK1pflrRnSdzlYAX1xQ2GW6LwcMoWG0i4/\n",
       "pzkkaqh7jRiEx0Ag9PheDIJBW6zCCxot7VBoRWi0PBoaES9IOEWbP3ny11uqMVqxtSQPSROWuFm+\n",
       "atgNbZB2yRCEf5fQA7DisSX0BJ3xLP9YCQ0s0ObQnmV7jbQnj0MewAypkihnzqbJjoa2wLvnlmwJ\n",
       "LdF5+RSkNrRSQbhdYDswpv60XRuDMBsEwmCjGoNg0D4FcAnX4oTNlp0LrQiNW9gNhSG0j0N6IdiX\n",
       "pHyI0R4U2xJI1SxxyW3JHbAd2gd0h8AQhH+fZ/HABltia8zIuBIapOCuIukR2Ij2LPv+MOkXNxvy\n",
       "UXJzQ5RzEy/is+oZCCxpHy2heVlWFw+mVDs4jBeypLYL8E3ocVlNZgTnLAiE9c6YEcGkda4bHS1z\n",
       "LWdDLe1caMV0f8XONShCZBzSC0Fo9NXitAJhBC7yLHHhIbijaas9WsXHWunfXrbJGKX17qOrSca7\n",
       "PQgNUSDpPbSz0MgQax5vOU9ixi0Ouz5Buk3S0VW8wJIro0UFOrlgK/nmWkBtksbbdYAfyava2oUf\n",
       "6ce1mMPvyIwIuK2jCL1fgRHBpE22Wq1hruVsqKUdCq2Y7vzo7gYiRMZxov1cw338r1KMVuBuOvAh\n",
       "WOJCevS4tfZ5ehdgCGH/PiLWGXlCUIPwSdoRZt+96sFVq8agQIIrpzzDsOeYA+FnmufY2FlooOUa\n",
       "3RkcC+ZyoA2l76Gt3dmodsqR91NGBNe3R7DUMjbUJod0p6ESITqOf6DtEtdO+1zUvzexjcjd7Pq0\n",
       "GhqnxQ1lLdqz4sxE3FDwbUzRfzMog3iFQ++T0vKl7t1W8GosHd2BViHU7i+FydD7PDUZEY70NK0R\n",
       "bLVVRau+wcqH0PbrxvGPtF3i2mn3R/ybmYRMFcZduJOsBgNKaOQGlG3ouCtCo4/UTIiIX81ycuWw\n",
       "Uhbvc5fTmsKSrXd4BtkAQtu2DS2B2m7uHHvI2SBrhJIJ4eoVYI1gqaVsgXZ1p+O6mmYc06CdMq6d\n",
       "liGE/UsiIDcf7u+HNU1I+EpoJORRKWmN2DE06EInm7+L5cIMtSzM1H/Skql1gOcOiP43UkKtTdrd\n",
       "sS8IxUgyIXyyB6wRLLXsNFhq7+r04F3XjaN77ZRx7bQMIexfunAV8d0svv+rtb27zFeDc40wtVPi\n",
       "WS3TM+1oelYPlKhbvazBPqhaV2P6EaagdTr8D2M//CvabnE7afsj/s0eIavAuywAvDfWKEdeokDT\n",
       "nuA0VC2fT//plL6AfLD1oQA7PlRCQxSYKPwAUWic99v/NEWXIU9zUnk+/VfT361gjNvlcnvvAAAA\n",
       "AElFTkSuQmCC\n",
       "\" style=\"display:inline;vertical-align:middle;\" /></a><br>"
      ],
      "text/plain": [
       "<IPython.core.display.HTML object>"
      ]
     },
     "metadata": {},
     "output_type": "display_data"
    },
    {
     "data": {
      "text/html": [
       "<strong id=\"range_9_expansion\"><a class=\"ProveItLink\" href=\"proofs/range_9_expansion/thm_proof.ipynb\">range_9_expansion</a> (conjecture without proof):<br></strong> <a class=\"ProveItLink\" href=\"../__pv_it/theorems/5c2624d7b3dd05d878b8d53b872e43c41665411a0/theorem_expr.ipynb\"><img src=\"data:image/png;base64,iVBORw0KGgoAAAANSUhEUgAABIsAAAAYBAMAAACIHGCjAAAAMFBMVEX///+IiIgiIiIQEBB2dnbu\n",
       "7u5ERETMzMzc3NwyMjK6urpmZmaYmJiqqqpUVFQAAAB6qHgnAAAAAXRSTlMAQObYZgAAAAlwSFlz\n",
       "AAAOxAAADsQBlSsOGwAACTNJREFUaN7tmm2IXUcZx5/7fvaeeze3WmEllV5utUKL4SYaKsU0t2Ur\n",
       "Qkh6glItontFN/ZDMWsj9ZPm2kKwpJj1g/hCrLdGC4LQTWljm5vWzZdim1Bvqn5YkeyBogGTptva\n",
       "JS80rvP2zMw5Z86c2dz12w48mzP7/Gfm98x5ds6cOQFYi9ITptcjv8Dimdt7qxiHq7109xoirEbb\n",
       "syGvuXZkXG9tcHvp7lWX3JCbXgd4yqD8iLmDasN5HKE2tVh7hFVo9cH18hSsuXYGSr1RcQ3aJ4Lr\n",
       "wEUL6S/+MVoa/VUYwHP3Yn0j5OZ1DfPUO8wTLQ8T/JsyRlD9wiMBU99kxrAg+JOBQMjNZSGkaw++\n",
       "+E2jlg4Y03qTx/qmWRBwsVKZc9Vu/3krcMWFyckZR+3iyspKO4qgQoshlCZ38NDQjtPf/mykLCrN\n",
       "cgMontsm6vBRgJ9oGu55ALhHb3z+VwR1LLCOoPULH+bqZIsshF37hgIh38lCSNV6Xbivb9CyAWPa\n",
       "L0P9mmkWEC5a8qGr9pZ373XFhcf7401H7WcHg2eHEQQttBiCD/AWxxX2fT43oxR/nhtA4e/TgNcA\n",
       "pzQN95zQfvN7vLiZBFmbs44Q7Zepky2yELY9HTgjpGrHe1BoG7S+9ldcFdc3D0tXTLNg0gJ8IMzS\n",
       "Im6Ic+AQ2o+h3HXUkqQ6GEVID+00S8RTII1manE4UhoVhAE8E4C8Jv9qfwTc09ZandHvIWy1jhDt\n",
       "l6u3mjAsCNVlcEZI1xaWYfyyQVvQpHWxFznShyumWTBpofJqmKU9o6eRG2592V07ZD3rCOmh7WJp\n",
       "RLXCaiS/xkbbGi0IA7hH1mkZ09KYeeqzqffwsHWEaL9cfdiEYUEoNt0R0rXkETF+yaBdMKUG1N83\n",
       "zIJZWxwLs7TRNHLCLbfdtcQ3E0VID21xmq5nVIu2pdX61Ghp9JwweH3LeVEvbSQ9F0Mp4R6/IzzJ\n",
       "e7jLNoDqF0o3hEK9y4SRjlB7c9OcQNh9AuwIVi3klwxaOjhqVRr92jQLEi6inaBpZNciwoUbz7ni\n",
       "Fn5693H30A5ABEGFlsAdX9k45Fq0PwBMj5ZGam14B+vFKvkzqGkp/w6uDcyTvIevWkeQ/ZK93WeE\n",
       "mrXwW6yEkI2woYEInSOQgWDTwv6GQUsHR61MjW9fnDHMgoTTtd48TSO7FhGm4VDfEXfDYSgMnUP7\n",
       "N0QRZGgJXPjjuz2uRfsReCoBv8Sf0+yn2JdV1IrWE35xnIAXnxAG3iWsf88nPdfVA5h78kPhSd7D\n",
       "v9iySPULE3BNqBMtMhAOzQiEyvBFyECwaWGTSUsGlFrtoXbNMAsSTtcWgaaRXasQyk1H3Kkl8Le6\n",
       "hubR0TUEFVoCt/65vSI0tHJQ7NOnxYCuW3fzZZs1F69vvELLa+gn5eSOHuYZ3CkM6ktYDwpkvMqS\n",
       "ykB2WegLDzzban2y1dqk7uF+WxqpfiFgm8b9phYZCIsgEEqwGTIQbFq/a9KSAbmWrI+3bBHrI8D2\n",
       "IDkLEk7X/omlkUWrI4B/2RF3qgm1q66hFWmuaAgqtATuKaj/h4eGVm+wHXb5tZnYbYmfApRCeWYA\n",
       "uV6pC7+JpxHfkrHrRXJjqu3YZo2mEfMkl4Ij1mMj1S/4TaE+YkyjdIR7cP7w9cWCYNO+Dibtneq1\n",
       "SP7Jfhdg7zA5CxJO03oNlkZ2LW6bZ8G/5Ii7YRZq77uGlqd3XEPQQovh0le/Qzw0NJg9yQZMHOfF\n",
       "08jvizCo9WFWnmrJh1o5lPUnS2TMplqFQ3yoMU/yHr5hSyOtX35m9ga20PdGGQjfAkQYC4MMBIu2\n",
       "3oEfGrR0QNTiXK8ENI0SsyDhNG314sW37+pkaHHbTF4Wlxxxy3w1cgttig6pIWihxXBLZPzxeaZF\n",
       "g530ILL+5k76dYSx735JSyNRoUMLP02j3Hu1eXnc9DVhUGhgvXS1SHZetAeOyj3lhvAk7+ErILWR\n",
       "FRCi/QLbXTL1K3FtBsJmQISpficDwaL9DsCHuFbM7GY5OGoxje5iDzWGEI9DzoLaRxVCyNCewW0U\n",
       "FLqOuOTR6LddQ3uG7lI0BBVaAvfTpIse06LBYyx32MQ02Do3t6ClEan4e0h5CB4X/jKb+PdIn3Py\n",
       "LIq/Uh7qY72y9IR4v78CylMMhSdyD+/r4cs81U7NigtZ0/sF+HPkiCFycm9F8K4CIuz35q0INq13\n",
       "+2DQ5FrOJrR0cNTiXJ9m50YUIRGHnAWVRhu6WVpEmIMPBo648A34/NBVu9iBCIIKLYH7uwBOci0a\n",
       "jLNN0YC2+wpdnUrBDpVGWCHlaeGnaVQ59/YcVMVj72FhYkvGri8QxDydiVagPJWm8OjwF7c/SX5z\n",
       "Gwhtnubm7SB+5D8W6xf+RX/cJiz6fdWKILasFGH8NFgRbNr8ysrKLNdyNqGlA6IW57o6ONYXCIk4\n",
       "LsTPjfy9/21kaBH34MvPgyMuFAfnnLWP0aeLhqCFFsetnB+I0NBEeQjXOnkC04XoCehZ5j+25+t7\n",
       "9syPQfUOqGjvcux97uXou92jbGCWRsLzcdPZKUv8ptJGyt8g1u9mofaaiW+bVgQ/dEdw1DI2oc3P\n",
       "mE6xJUIyjuvQjojrptUQnEJ7VLZh5Q62yfoiu76sp9FlfKg9Ivxlft65Uz7UxJfSevhLVQf8/Ecf\n",
       "qtJzyvRdVH1WLSZ31x2I9PtWbTnyLVgvVoSzY0NnBFdtR9PqXz+rEbQTpjiuSzsirptWIjiGdiLy\n",
       "nbe0DKUOLPjwBbJitbU0qrS1LfaCL9KIvKT9E3KYmg8yy0/PanX8fwO7aUv0lHsp72IHALWxLXYD\n",
       "9H4r19jL3gHZIlJsCLc+AM4IjlrKprQPph2ddg1xrIF21bhuWoXgFhoafmBuQ2UbfHUC9g0hF2pp\n",
       "lJNH3GRk4udp5B29sadQ7mdW26jXkZQCSU+pm0LESZP/Sy+ntyb9Hj2u0jZRbAgnXwBnBEctO8WX\n",
       "2vvTDit6pjhG164a102rENxCQ1NPBKizqyF+5O3GvpFXO+rcKNq91+Cm1+l3i2T5gRko13P6eCfG\n",
       "oGpTi7VHWIXWS/l/wBPwf9GOipumXS3uRKRN+SzZR/2WJUvwi33a8SNWaHlBnWLr9fWyXvC98Aby\n",
       "g607NTj6vJZGWGGi6ItUrb8+b+slsySXwsBwwrxe1gvA/wBsYdzp1l1JiAAAAABJRU5ErkJggg==\n",
       "\" style=\"display:inline;vertical-align:middle;\" /></a><br>"
      ],
      "text/plain": [
       "<IPython.core.display.HTML object>"
      ]
     },
     "metadata": {},
     "output_type": "display_data"
    }
   ],
   "source": [
    "range_2_expansion, range_3_expansion, range_4_expansion, range_5_expansion, range_6_expansion, range_7_expansion, range_8_expansion, range_9_expansion = \\\n",
    "        [Forall((f, i, j),\n",
    "                Equals(ExprTuple(f_i_to_j),\n",
    "                       [Function(f, i)]+[Function(f, Add(i, num(a))) for a in list(range(1, n))]),\n",
    "                conditions=[Equals(j, Add(i, num(n-1)))]) for n in range(2,10)]"
   ]
  },
  {
   "cell_type": "code",
   "execution_count": 46,
   "metadata": {},
   "outputs": [
    {
     "name": "stdout",
     "output_type": "stream",
     "text": [
      "These theorems may now be imported from the theory package: proveit.numbers.numerals.decimals\n"
     ]
    }
   ],
   "source": [
    "%end theorems"
   ]
  },
  {
   "cell_type": "code",
   "execution_count": null,
   "metadata": {},
   "outputs": [],
   "source": []
  }
 ],
 "metadata": {
  "kernelspec": {
   "display_name": "Python 3",
   "language": "python",
   "name": "python3"
  },
  "language_info": {
   "codemirror_mode": {
    "name": "ipython",
    "version": 3
   },
   "file_extension": ".py",
   "mimetype": "text/x-python",
   "name": "python",
   "nbconvert_exporter": "python",
   "pygments_lexer": "ipython3",
   "version": "3.7.3"
  }
 },
 "nbformat": 4,
 "nbformat_minor": 1
}
