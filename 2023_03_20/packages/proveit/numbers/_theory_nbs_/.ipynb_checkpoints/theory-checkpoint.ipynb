{
 "cells": [
  {
   "cell_type": "markdown",
   "metadata": {},
   "source": [
    "Theory of <a class=\"ProveItLink\" href=\"../../_theory_nbs_/theory.ipynb\">proveit</a>.numbers\n",
    "========\n",
    "\n",
    "Covers all generic number concepts: sets of numbers (integers, reals, and complexes), number relations (<, $\\leq$, >, $\\geq$), and numeric operations (+, -, $\\times$, /, mod, exp), and operations over numeric functions ($\\sum$, $\\prod$, $\\partial$, $\\nabla$, $\\int$)."
   ]
  },
  {
   "cell_type": "code",
   "execution_count": 1,
   "metadata": {},
   "outputs": [
    {
     "data": {
      "text/html": [
       "<h3>Local content of this theory</h3>"
      ],
      "text/plain": [
       "<IPython.core.display.HTML object>"
      ]
     },
     "metadata": {},
     "output_type": "display_data"
    },
    {
     "data": {
      "text/html": [
       "<table><tr>\n",
       "<th><a class=\"ProveItLink\" href=\"common.ipynb\">common expressions</a></th>\n",
       "<th><a class=\"ProveItLink\" href=\"axioms.ipynb\">axioms</a></th>\n",
       "<th><a class=\"ProveItLink\" href=\"theorems.ipynb\">theorems</a></th>\n",
       "<th><a class=\"ProveItLink\" href=\"demonstrations.ipynb\">demonstrations</a></th>\n",
       "</tr></table>\n",
       "<h3>Sub-theories</h3>\n",
       "<table>\n",
       "<tr><th><a class=\"ProveItLink\" href=\"../number_sets/_theory_nbs_/theory.ipynb\">number_sets</a></th><td>defining standard number sets: integers, reals, complexes, and important subsets of these</td></tr>\n",
       "<tr><th><a class=\"ProveItLink\" href=\"../rounding/_theory_nbs_/theory.ipynb\">rounding</a></th><td>rounding of real numbers, such as round, floor, and ceiling</td></tr>\n",
       "<tr><th><a class=\"ProveItLink\" href=\"../absolute_value/_theory_nbs_/theory.ipynb\">absolute_value</a></th><td>absolute value of reals (and subsets) and norm of complex numbers</td></tr>\n",
       "<tr><th><a class=\"ProveItLink\" href=\"../numerals/_theory_nbs_/theory.ipynb\">numerals</a></th><td>number representions: binary, decimal, hexidecimal</td></tr>\n",
       "<tr><th><a class=\"ProveItLink\" href=\"../addition/_theory_nbs_/theory.ipynb\">addition</a></th><td>adding numbers (repetitive counting)</td></tr>\n",
       "<tr><th><a class=\"ProveItLink\" href=\"../negation/_theory_nbs_/theory.ipynb\">negation</a></th><td>negating numbers (subtraction from zero)</td></tr>\n",
       "<tr><th><a class=\"ProveItLink\" href=\"../ordering/_theory_nbs_/theory.ipynb\">ordering</a></th><td>ordering relations of numbers: <, &leq; >, &geq;</td></tr>\n",
       "<tr><th><a class=\"ProveItLink\" href=\"../multiplication/_theory_nbs_/theory.ipynb\">multiplication</a></th><td>multiplying numbers (repetitive addition)</td></tr>\n",
       "<tr><th><a class=\"ProveItLink\" href=\"../division/_theory_nbs_/theory.ipynb\">division</a></th><td>dividing numbers (inverse of multiplication)</td></tr>\n",
       "<tr><th><a class=\"ProveItLink\" href=\"../divisibility/_theory_nbs_/theory.ipynb\">divisibility</a></th><td>divisibility operations such as x|y to indicate x is a factor of y</td></tr>\n",
       "<tr><th><a class=\"ProveItLink\" href=\"../modular/_theory_nbs_/theory.ipynb\">modular</a></th><td>modular arithmetic (i.e., remainders of division)</td></tr>\n",
       "<tr><th><a class=\"ProveItLink\" href=\"../exponentiation/_theory_nbs_/theory.ipynb\">exponentiation</a></th><td>exponentiating numbers (repetitive multiplication)</td></tr>\n",
       "<tr><th><a class=\"ProveItLink\" href=\"../logarithms/_theory_nbs_/theory.ipynb\">logarithms</a></th><td>logarithms (inverse of exponentiation)</td></tr>\n",
       "<tr><th><a class=\"ProveItLink\" href=\"../summation/_theory_nbs_/theory.ipynb\">summation</a></th><td>add function evaluation instances: &sum;</td></tr>\n",
       "<tr><th><a class=\"ProveItLink\" href=\"../product/_theory_nbs_/theory.ipynb\">product</a></th><td>multiply function evaluation instances: &prod;</td></tr>\n",
       "<tr><th><a class=\"ProveItLink\" href=\"../differentiation/_theory_nbs_/theory.ipynb\">differentiation</a></th><td>rates of change; calculus: &part;, &nabla;, etc.</td></tr>\n",
       "<tr><th><a class=\"ProveItLink\" href=\"../integration/_theory_nbs_/theory.ipynb\">integration</a></th><td>summation over infinitesimals, inverse of differentiation: &int;</td></tr>\n",
       "<tr><th><a class=\"ProveItLink\" href=\"../functions/_theory_nbs_/theory.ipynb\">functions</a></th><td>complex- and real-valued functions of one or more variables</td></tr>\n",
       "</table>\n"
      ],
      "text/plain": [
       "<IPython.core.display.HTML object>"
      ]
     },
     "metadata": {},
     "output_type": "display_data"
    },
    {
     "data": {
      "text/html": [
       "<h3>All axioms contained within this theory</h3>"
      ],
      "text/plain": [
       "<IPython.core.display.HTML object>"
      ]
     },
     "metadata": {},
     "output_type": "display_data"
    },
    {
     "data": {
      "text/html": [
       "This theory contains no axioms directly."
      ],
      "text/plain": [
       "<IPython.core.display.HTML object>"
      ]
     },
     "metadata": {},
     "output_type": "display_data"
    },
    {
     "data": {
      "text/html": [
       "<h4>proveit.numbers.number_sets</h4>"
      ],
      "text/plain": [
       "<IPython.core.display.HTML object>"
      ]
     },
     "metadata": {},
     "output_type": "display_data"
    },
    {
     "data": {
      "text/html": [
       "<dt><a class=\"ProveItLink\" href=\"../number_sets/natural_numbers/_theory_nbs_/axioms.ipynb#zero_in_nats\">proveit.numbers.number_sets.natural_numbers.zero_in_nats</a></dt><dd><a class=\"ProveItLink\" href=\"../number_sets/natural_numbers/__pv_it/axioms/6bc27fa16ea1c04bf3d4c776d5c721085150bfa20/expr.ipynb\"><img src=\"data:image/png;base64,iVBORw0KGgoAAAANSUhEUgAAADMAAAAQBAMAAABJt1qBAAAAMFBMVEX///8QEBC6urrMzMxUVFRE\n",
       "RESYmJgiIiLu7u6qqqoyMjLc3NxmZmaIiIh2dnYAAABcDckaAAAAAXRSTlMAQObYZgAAAAlwSFlz\n",
       "AAAOxAAADsQBlSsOGwAAAPVJREFUGNNjYMAA7V+jGhgeflRgYOB7expNLpLJgYHjA5CxkqF9A6qU\n",
       "+4ZnDAwCDAxsBQx8AahSngFcGxgKGBhYHRg4f4BFeMPLq8AM71zuBSAp/gMMzD9BAkxrG6C6vFkM\n",
       "7oGk+oFS30ACu2AyDN4MAawKQKn9DxiY/4IEVjMgpGw4KqBS/0ACC5Ck2CZMBbqw/wEDE0gXs3h5\n",
       "eXkpVIrBg0UA7AxOkDM4ApB0MbRwgBwfwMAGdnwBshTzBaBKNgEGHrA1d+FSwUB8GWRIJUOjAUiA\n",
       "awJMaiUQg5X3vHUGC3C4akBkrD4CdXAsQA46pqfQgIICADZGPXhRravGAAAAAElFTkSuQmCC\n",
       "\" style=\"display:inline;vertical-align:middle;\" /></a></dd>"
      ],
      "text/plain": [
       "<IPython.core.display.HTML object>"
      ]
     },
     "metadata": {},
     "output_type": "display_data"
    },
    {
     "data": {
      "text/html": [
       "<dt><a class=\"ProveItLink\" href=\"../number_sets/natural_numbers/_theory_nbs_/axioms.ipynb#successor_in_nats\">proveit.numbers.number_sets.natural_numbers.successor_in_nats</a></dt><dd><a class=\"ProveItLink\" href=\"../number_sets/natural_numbers/__pv_it/axioms/a3ae0a8e821daec9b64e4404a6b570bcd10c30650/expr.ipynb\"><img src=\"data:image/png;base64,iVBORw0KGgoAAAANSUhEUgAAAK4AAAAVBAMAAAAtL8hrAAAAMFBMVEX///+IiIgiIiIQEBB2dnbu\n",
       "7u5ERETMzMzc3NwyMjK6urpmZmaYmJiqqqpUVFQAAAB6qHgnAAAAAXRSTlMAQObYZgAAAAlwSFlz\n",
       "AAAOxAAADsQBlSsOGwAAAp1JREFUOMuFlU1oE0EUx/9pdrPJJtnuQYPFD8KK1o+DIn6AF/fkQVCW\n",
       "IoKgNSgGCSgJgkfd+lEQRHOpeFBMbS9eJAehVHuICIKWQlQwIKKRol485CJWT77Zmd0k25364J/M\n",
       "vuz89uU/82aBFSMpFB3uCrNWjvVC0TEZulZ3FCegHNivm0CbJT5JJmZtrojQNgGxRiiZaD4BTgHr\n",
       "gGfs+p6Ee1xoeYzO/qLPiVDW2KI0EAdSDi4zPwoS7pxQN3S/xBjjzoe5H6jEASBTZ2goTQl3p1CP\n",
       "M2YvN+7wi5xlVT3uLfMm42IPMlRASmZvlUvKTfHqH6/263V/xGzGvQ/ssqzdEm7a5pr8dj1nRnEV\n",
       "b9WTgc2Gm0CJcY8AM8BZCZeVw2RfMNWlKG7G+zMpt8vV6iMjNHgN3Eay3buntx/CS5EYaHrSa5uR\n",
       "/B3FzXrmd200XCxkz9DgPe05R6n5+cr3Ej4rTlosR7zmSVX/IsswacvaSLa1A67WYcOLFkVBcA1n\n",
       "kQZXWAXB89IzrEfMuoI+LrIdGNWoenWv3mO99apt5sMUqfqCjJqrrPXaBGh9HPO5wgcGHWw4UT7k\n",
       "vdt6uagkaPCOdJiW88RUI+6q3n9pKSen/bY0ueI2vjh21Lp5M2Jm0MdlurpEg1eka+TXjSEMOryX\n",
       "WqjnxG1sGzHdKWMoU+7nKktiI1I8CDYQa7BZ0lNWPJvxlSzJ3C0WzxP3qG+4lud6ROfBQr+/xuKf\n",
       "n+QAX/HREjdJe7hXHCjb/Cftw3NNs3m9+ls/OywU0W9eXBXf06etvrZM5v1BB8Mt3h9vgA3+7/PL\n",
       "zha9ET6XIhvVv0tvY1UD4+SItpX2YLAOLpfsvSA7B8dD5/3BYqk/UeCShPSR5/73HhoTio41knzM\n",
       "xT9g15xFU/NAAwAAAABJRU5ErkJggg==\n",
       "\" style=\"display:inline;vertical-align:middle;\" /></a></dd>"
      ],
      "text/plain": [
       "<IPython.core.display.HTML object>"
      ]
     },
     "metadata": {},
     "output_type": "display_data"
    },
    {
     "data": {
      "text/html": [
       "<dt><a class=\"ProveItLink\" href=\"../number_sets/natural_numbers/_theory_nbs_/axioms.ipynb#successor_is_injective\">proveit.numbers.number_sets.natural_numbers.successor_is_injective</a></dt><dd><a class=\"ProveItLink\" href=\"../number_sets/natural_numbers/__pv_it/axioms/0776530ed61db0ef0dfad4b23c9ae9d1109d9aa50/expr.ipynb\"><img src=\"data:image/png;base64,iVBORw0KGgoAAAANSUhEUgAAAQ8AAAAXBAMAAADn89dPAAAAMFBMVEX///+IiIgiIiIQEBB2dnbu\n",
       "7u5ERETMzMzc3NwyMjK6urpmZmaYmJiqqqpUVFQAAAB6qHgnAAAAAXRSTlMAQObYZgAAAAlwSFlz\n",
       "AAAOxAAADsQBlSsOGwAAAyVJREFUSMe9lk9IFFEcx7/r7ji7M7M6holSyeIhiSAioq7bIaFAmIME\n",
       "gZlQDSEZK0bHGMs66l6Kbo0pXTq0dNBQDxOBkBFZF6OitkNBN4OiiA793vx9M7PuFLQ+WPY3v9/v\n",
       "vfm89/vzBtiSka1vNrBVY1d98wz9qkx412COfLG+PWUBi0y43WCQk0kON4ErLILDDQZZTnJ4BuQ0\n",
       "ILPWYJD9SQ5pDQqFJ9foFCkneeSI4kBPz8EGg8iUqzOfJjvUaLEw3aU+k2JCNbMAnEtYqOL8va6R\n",
       "7pwcM6v8fosXVeEne3jYw8Y+JjLdbzNPgVPozKaQrdZuQnuP44ltcnJZMSMOg2WfMWYWntJBeA9N\n",
       "a5DM3cj+CM+3dV+hbFDwCKZZy5hxirHPI3if0WQtABniD5t+YlsBmPNVQ6EDHNtGL/K6R9qEIPxC\n",
       "/nv4Ha5Opv2IDEatkavyAmtzaiWDAGSRszfbOVhwig4Rs+3+yukOHgjyG2iJ5izpiCJNvBKrq/Jj\n",
       "Otflse7USgm2tAPYyfzW30zwIAXOywcJKr/gTuVA+oPQMIpWSwvnCOmainhgaPZS6CfwwVkrXU2x\n",
       "hGCSIdhrrWdOzQUg2TLn5YPkK5jXaViu2eBB3nrnR2lL+/6gRTo96U6b+JK1oLA512jl611oLbEq\n",
       "syVNsmwQVDoCEGmY8/JBJK8pu2aNB7nn2lhxTpfQpZTCIKR7AZzNOAWOFmb+iHH7BJk0C+WWro8S\n",
       "yEAuAMlXfa95/QydgQ0ieiCOeRayrh/SLzggl12bSI53KZ2fR3KEdBTL+50UPL9eDqMD06IjLYli\n",
       "0TkR6WUAwl7pe8VD45iXxFqhQW9Sy7vq94wN2s6KjAEm9a47LW4V6A4lq+fFgaTUIFmdqRxIG3en\n",
       "/eWtKFXpU2BqO8bXSGq3cIPCJe4x0MKBnPe9HJDssW8qmv2PK9vcbrnuk3eOMJWXrQmfYDWuf7ca\n",
       "hT59BOHGwPUu90TYOOGr5iLutIi/vJDwnREHlbRafs4yshHurPZ4FKiMyNXET5ioD9IZ0yjYHARH\n",
       "4xb+gomZV//7Ne7uTIhbhE1ke2j/8o4/dlDZqTClS6AAAAAASUVORK5CYII=\n",
       "\" style=\"display:inline;vertical-align:middle;\" /></a></dd>"
      ],
      "text/plain": [
       "<IPython.core.display.HTML object>"
      ]
     },
     "metadata": {},
     "output_type": "display_data"
    },
    {
     "data": {
      "text/html": [
       "<dt><a class=\"ProveItLink\" href=\"../number_sets/natural_numbers/_theory_nbs_/axioms.ipynb#zero_not_successor\">proveit.numbers.number_sets.natural_numbers.zero_not_successor</a></dt><dd><a class=\"ProveItLink\" href=\"../number_sets/natural_numbers/__pv_it/axioms/8b77cfd77a7c54e07d6a512fd86c0934d1514ab90/expr.ipynb\"><img src=\"data:image/png;base64,iVBORw0KGgoAAAANSUhEUgAAAKsAAAAVCAMAAAAO9u4uAAAAPFBMVEX///8NDQ0WFhYLCwsYGBiI\n",
       "iIgiIiIQEBB2dnbu7u5ERETMzMzc3NwyMjK6urpmZmaYmJiqqqpUVFQAAACZSrTsAAAAAXRSTlMA\n",
       "QObYZgAAAAlwSFlzAAAOxAAADsQBlSsOGwAAAm1JREFUSMe1V1mWpCAQZKY7IQFZvf9dm0VUFm2o\n",
       "ecOH+bRCDCLXIuRf1tbYD179H+jRAlfblaXh4QfDH9H+vHd28XMOazu3JM1kYPw5Ke53iGC2E210\n",
       "ea4WheaqtlPveKP2Qzg1EpAIebtRwWGcbgUti7CbWJTV2NqOXd39CIWrNSNZ/e3G0qStONHleLga\n",
       "dKyx4ziBR66EDYQVd+eKRNzlFyLaHidXq9GqarvOVfUO0XdZyZ6Ul7s70YzGxXA1BLCyGjzfEATM\n",
       "c0XfbVrlDC9c7Yk2KZoFX+RaVDksBo9B3H+b5movj5ikF/3+itczg3bMXOFEb75cxmWYGgy1wrIG\n",
       "Qd3dak2oSPvLaa6Ovcp6ccULHSVF3ackeCHCY+cJ8r5GM323PCiqr0Q4pWI5wvyIq9zbaK0rA88k\n",
       "ddY1o+PZ+wQxRpYeAcREJ79xjSxTa1Hz8arZq6wlt1zOrQOtiIWj5FkJYOq24qTTG3Rc6xgoLEMe\n",
       "8OkYoHW8/v1DayeIXFnzCwcaXS6y3GoWKLJwPH51BidDDDjdci0ZX2wqJDEEcDq3mu7TNTKbpDTq\n",
       "jt6OvNk4xOdxs1u/CVxDDEDb1krFOWxOqvC+le9c8awUpj6+6/tY9BlnskL7sn8sOykwrBJpucyV\n",
       "YxfRklZW09zvrXuNV+/ZrnwWgup3WcN2BqFwo232xzMYQySRWOlKdC8QlbWd7Fu3Yjic2ubQ0ZHp\n",
       "25Hd1RtsOhB0BbjMHsMZ5Hl26WYf8jZ2PaGPdgxo09gli49zKfGPc4b4aGpv5jqLK+g2VjDGq35D\n",
       "iNqureaElK+gP5AGarv0/6f5uPwd/QMWTxzGvQ1NCAAAAABJRU5ErkJggg==\n",
       "\" style=\"display:inline;vertical-align:middle;\" /></a></dd>"
      ],
      "text/plain": [
       "<IPython.core.display.HTML object>"
      ]
     },
     "metadata": {},
     "output_type": "display_data"
    },
    {
     "data": {
      "text/html": [
       "<dt><a class=\"ProveItLink\" href=\"../number_sets/natural_numbers/_theory_nbs_/axioms.ipynb#induction\">proveit.numbers.number_sets.natural_numbers.induction</a></dt><dd><a class=\"ProveItLink\" href=\"../number_sets/natural_numbers/__pv_it/axioms/220a014824abc1d908bda5bedda393ae441a602b0/expr.ipynb\"><img src=\"data:image/png;base64,iVBORw0KGgoAAAANSUhEUgAAAfEAAAAXBAMAAADpdmtlAAAAMFBMVEX///+IiIgiIiIQEBB2dnbu\n",
       "7u5ERETMzMzc3NwyMjK6urpmZmaYmJiqqqpUVFQAAAB6qHgnAAAAAXRSTlMAQObYZgAAAAlwSFlz\n",
       "AAAOxAAADsQBlSsOGwAABbxJREFUWMPlWFuIG1UY/pNmMklmks4WL8VLjaFaKlRi1Zd90CzSKoNb\n",
       "Q60LpbidCqZrURiWIki9jFsR+qIRLOxDq6kX8KHCWlasWunui6hFGy8IugpBaF2plpWqLVpdz3+u\n",
       "k8mZafrcH752z/+f5Pu+mXMNwMVFEEJ8j3CkKn7iN+Y4Yotx+WWr4spBXxYuLlJthZg4EGlnWslf\n",
       "eS2HNgpOQt6NKceI2/jXI3W460zrABfZweQP/Tr/RiEzdLinPDdd+yw1E3WeSFGsMWhivA5wDWhJ\n",
       "aN7VlplA1ovE6Fp8DvQJPVbogLEAKBDxAeYm+zRuNBX2w8bomMk6MLIAe3lrWDhPpNjM0ct16lXi\n",
       "PF8HLQnmXV2ZieO9SFz/5Erxfn8K7gWoAhVI8DTOGq9P59aMhF2GTPRjHwLYTTjGBawWzhMpjnCo\n",
       "OCj+uI7YsqdAS4J5V1dmAnkv+nI3d8Ck3X7z8gGUgQo8xp5apt2n8yUK2Q4U/2TT6qEKN3mWTsAl\n",
       "7D2kvmhx54kUVQ4VX4adw+2gJcG8q8oYD4dEil5QIvjFf42OzvnZXBOdo0ACmzyhfL/T/DuFpVNg\n",
       "/ksXm5fEiCucBzB9yLOJnjY97jyJothkiHW+D7QkmHdlmcbjIZGiF2TwqS0O0sJ8yb8MnaNAxNpK\n",
       "5bZ+nU8rbCXOz2Nuj5xqxuLd1GqHrzOTYm1PoLBqDMbAiZ3DOucbQEuCeVeWadg1JVL04p9h/82D\n",
       "l22VmUDEe2qcYEwlOd+n8GINzN8jS9fxxf8CPr8wPyecRyjCIZ6/BSucQzrnn4KWBPOuKFsVGv8o\n",
       "kaJXV8zDLuOGMhOIeAFy+JLeGJilJw6+EtFmptFoBBPTLfsO/tk1Cuj8D8yFhqpxxSKZskU6bc0O\n",
       "pOvcOadQIcjInGgzfALH67/qnH8NWhLMu7LMZ85+KVL0Eg+lw5zb7W+5QES2jmeNogPPgHJOm8YO\n",
       "+mdnHbzLv3tQYWsNCvjOTTKUKzfKwfs3ydDdpORDyuHOGQUNc0WjpcjIStNi8OF92j5Uqdxaqdys\n",
       "nNOOvSSYd0VZ7pCDQqToFXnncKJUZQIRRSfPFsRSyDltZul4Kc5aUOt1Tla4Iq5whtquyKA1SKpQ\n",
       "5fu0UebOGQXbk/wwmXIOcIt+hXsdtCSYd0VZHGlfDoRI0SvqfBQ1oUAqsjlL/lk6ww/BjIM2n2Ov\n",
       "/6m3nFrvaM96YNNdrSyHIRlSOZIqlsU55iNxeqUUA4evDtgBT5Kp0Q6Fc/CAzvlXoCXBvCvKfEiv\n",
       "DoRI2Svq3HQ8JpCKHN5LV/5HIeScNn9kzv113wvn2xTsKlh09g3IaVZmy7TtCa17hHOkSAUn8+0R\n",
       "9e3yRIYwdpBhWNM5/xi0JJh3ZZntd54UKXt1zfPtBFd6TCAVuZumHzzaCTmnzYPcuZUSg21DCGvg\n",
       "frpK5cUZxVrJCpTSxjme9blzpLBhmynOZ4JM7jDFs1uqhXbE+X0B36M0JJh3ZZntfEqk7NUVuADi\n",
       "2xI7Ka5FAHUoLISc0+Yod27UxNI6HsKWoZ/Z+Dv5JhdVOHUaBaZx2pbwfZkOd04p4BzZhMhu0VZk\n",
       "pEuZwnjHmfs8Ms9P3/kKmRs36Ukw74Iog3ilXKTsFY4nznjsUI8C02LJJc+bn6w91WQnzqIPb4vL\n",
       "YNpXUKNsvThYspiIuaWa1Rzs7CYjsYpDc4ajq1ZZT4J5V5XDt/K0f4Hz2ERYpNWBUqCc8+Y0fofd\n",
       "gpQYm3hBEIiNI3rnuzNNi+xvXWQgrw+6G4u8fsTcnVx9OVFczyXJ2jV9T2iF483CenKSGZ/klzyM\n",
       "sRDifi7x9M6tq4Yuh9z2LjJcCwLg26c2nk/IuzHlsWTjKFB3dUy+sI6EEBNRG92/yWxqNLp/o8Gt\n",
       "2ognHUvIuzHlkWTncc862XnOUYiJ5dFfoy7wO9yzHPpfv4L4/LLBmHKCOCFwOSQ6LzXw3A6XSlwy\n",
       "Tv8HtZbIPnkfGKcAAAAASUVORK5CYII=\n",
       "\" style=\"display:inline;vertical-align:middle;\" /></a></dd>"
      ],
      "text/plain": [
       "<IPython.core.display.HTML object>"
      ]
     },
     "metadata": {},
     "output_type": "display_data"
    },
    {
     "data": {
      "text/html": [
       "<dt><a class=\"ProveItLink\" href=\"../number_sets/natural_numbers/_theory_nbs_/axioms.ipynb#boolean_natural_membership\">proveit.numbers.number_sets.natural_numbers.boolean_natural_membership</a></dt><dd><a class=\"ProveItLink\" href=\"../number_sets/natural_numbers/__pv_it/axioms/006d7445932ac3cda43afbc2d55b6ae3298c3a050/expr.ipynb\"><img src=\"data:image/png;base64,iVBORw0KGgoAAAANSUhEUgAAAJoAAAAVBAMAAABMN+opAAAAMFBMVEX///+IiIgiIiIQEBB2dnbu\n",
       "7u5ERETMzMzc3NwyMjK6urpmZmaYmJiqqqpUVFQAAAB6qHgnAAAAAXRSTlMAQObYZgAAAAlwSFlz\n",
       "AAAOxAAADsQBlSsOGwAAAkVJREFUOMuVlEtoE0EYx/9pdzeP3SwbwYNaJOQgKliLaA69mIKIIJa0\n",
       "h4p4cKsoxYtRqEcdKAgFkZUS8FBofB0EHwEVH3ioIIKHQlERBMFIoYpHQfDozHyzdSbbFfLBf5n9\n",
       "zcx/Ht/MAMlgSimR64lnlkndYe8+04S1f7gQdFVsqC7MDbYgeEf8f9ErPyolwll+CJwABrorwpu5\n",
       "5k/JX4rfG/oUIlIy/O3WIvqBfL3b7T4OOZJfEisOtSp3kbSO2yc+bB/gtZNuS77kYiBL36V+JW0j\n",
       "T1Z2SLerwaxwwz6TS7e85B6fRl7v+1lpLQrX1cp89j1TE27zJhduP94Q31Op7NU7P1Ea23r0gJzz\n",
       "bNzJZw7OCrdRGJxnYWywRvwZcFp3m1dqZ765ZSNFPsu2x8d54R3M1IW35n49JX4NuY7utovkMe+3\n",
       "L5MR/XPDUvEUL3yAwcVKB+7VJXfqVkt3GyZl4VLzLN+Kyjbl5tdXeOGyyYWbU6hJXgyMJMRuPLF0\n",
       "5u1Qm5vdESu9bXLphpB49Jp/Ss+3MGOlwCNmy30ua244z08p3sPg5BYRP9LkR4et5tWhmyRNtFZg\n",
       "SVBau1kN3vAiL7w1uXQrBsRneBI8TGZV1Sjp6/RjPJAgHoYKL9QB0jjCOxg5rLjfEORPXHWBdLxU\n",
       "fEXN7dW7lI6FKv8e49ppcGyqnhNvSMxF06H4eeprkLTLcFDdoPghK/+fY8aKXFUUdzpxr41Y/03Q\n",
       "uLt5ZGMMp5RS40ovfEIpNaZ64bmAlBYZlsr/ArKKjmwnkR1cAAAAAElFTkSuQmCC\n",
       "\" style=\"display:inline;vertical-align:middle;\" /></a></dd>"
      ],
      "text/plain": [
       "<IPython.core.display.HTML object>"
      ]
     },
     "metadata": {},
     "output_type": "display_data"
    },
    {
     "data": {
      "text/html": [
       "<dt><a class=\"ProveItLink\" href=\"../number_sets/natural_numbers/_theory_nbs_/axioms.ipynb#natural_pos_def\">proveit.numbers.number_sets.natural_numbers.natural_pos_def</a></dt><dd><a class=\"ProveItLink\" href=\"../number_sets/natural_numbers/__pv_it/axioms/3dac39f5064fe3a6661936f9e9338e3a96b32c0d0/expr.ipynb\"><img src=\"data:image/png;base64,iVBORw0KGgoAAAANSUhEUgAAAMAAAAAZBAMAAACVwzzTAAAAMFBMVEX///9mZmbMzMyIiIiYmJjc\n",
       "3NxUVFSqqqq6uroQEBB2dnYyMjJEREQiIiLu7u4AAAAPqInnAAAAAXRSTlMAQObYZgAAAAlwSFlz\n",
       "AAAOxAAADsQBlSsOGwAAAmxJREFUSMfFls9rE0EUx7+J2TTdxGkVe9EqKz16cCvSQ9PCggftQYwI\n",
       "ikW0IKWXGpYoIih0wYtV1NC/IAcP/qiSWz14CB7aiotEQS/+YA9SUSlEQbQi4tvdJDMNO7uhWnyH\n",
       "7LyZl/3Me2++zAJNi2GdLfNfAOyK4CjhLziWC5pd/vXUwZ0VSwLI3hAc1QoFxCedoOmF1BhYTZJB\n",
       "x2+0B7jbT9vPjAUtncndAorotZ/YttG6qFbbA6RN9rI1umETlXQOVUkG7QIOArMywPg+pbw2wGee\n",
       "8Dww5cgASW1wbQB2X28MvwC7TRkAlYwVBricHx3SBQD3MfygjnIBhhSwk72rCkre/ta1V766y0Bp\n",
       "XmffBAD3qfY7fIH8JICODcVgQMK8VJQ077iBlPUGylcOEHyyiz1NQAnK92AA8kkJ4OhDSp/9aMjB\n",
       "Awi+a9fy7hwBblLZluaCAUusKtFmL2mzo4ZkWSgR9z3As3qTp0zgnhUMiOsVYULsgatNeluX4XAA\n",
       "990SjXsPGzjktOheeX4bI/T/xzTeU5H0wD0XnSU64yUO4D41ucd/jgDbaJ1Xum9yEedVJ0Ybmasf\n",
       "FinglIZsQuMA7jePKTaabEZUTWwz/ZzTu1Vg1wrtnoUBrlOT9gs9aPpsuCk0tnVA86MTW/r6gb3u\n",
       "ZOHCETXqjghV8rIREP1+2ujMMa/kBfXD1b8CBEafzKLLSXnoArqHogCrtRkF8Fp5GtNIPLLtBQJ8\n",
       "SkcBVmszCvDR3fgMNsXjJT+D1NnIi/rwhJiPFho76sYqNbwowFPfAWDg33860AU8aOAEbSX+Oofk\n",
       "en2hsFl70R/9AS7ovi9Na5gfAAAAAElFTkSuQmCC\n",
       "\" style=\"display:inline;vertical-align:middle;\" /></a></dd>"
      ],
      "text/plain": [
       "<IPython.core.display.HTML object>"
      ]
     },
     "metadata": {},
     "output_type": "display_data"
    },
    {
     "data": {
      "text/html": [
       "<dt><a class=\"ProveItLink\" href=\"../number_sets/integers/_theory_nbs_/axioms.ipynb#integers_def\">proveit.numbers.number_sets.integers.integers_def</a></dt><dd><a class=\"ProveItLink\" href=\"../number_sets/integers/__pv_it/axioms/e46a1d95134476e91de118c3fe06344dbd4ecad30/expr.ipynb\"><img src=\"data:image/png;base64,iVBORw0KGgoAAAANSUhEUgAAAL8AAAAZBAMAAACSgeLGAAAAMFBMVEX///+6urru7u7c3Nx2dnZm\n",
       "ZmbMzMxUVFSIiIiYmJgiIiJEREQQEBAyMjKqqqoAAAB4Cw+YAAAAAXRSTlMAQObYZgAAAAlwSFlz\n",
       "AAAOxAAADsQBlSsOGwAAAtVJREFUSMellk1oE1EQx//ZfOwm24ZUkSKKLqggLZIclKJUEnvxA5Eo\n",
       "iYJF2INSUWkXhKJgJXipB4V4sBRRCXjrxahgha3SoiAlh6bpqfUrYj15iOYgCCLO23zubl40zYOE\n",
       "fW/ezm9m3szsAzjDG0Dbw91M+LV9/XCm+TIhy1nvsir50oQwST//+9/vpmaSVpGcFB7rObgW5szr\n",
       "t9dZdw495QN8CiBNq8h22kT9xMh3A0Hzsr9o1zLNB0gaHUQUUvKYTRQDxEeuJDrYxAjlDvbnStm1\n",
       "HGkSaLJHDKFXsB/GD5J8wxJ8bGJo7VsDAMsEAU6KqlXgYei9if3tAgYNZdo5e/BSzLdRKdIm4JaR\n",
       "MIo9D8QsA8h40gTgGN926MU/AFspjbDqTZTqbsoYmgFNM4An2tNjBrjrysMlX0EwVLaSM0ZY8Bsk\n",
       "KTo14/gf+mfMgP66gunypREmBeE8HxCmhiPlDwCKtUKiBkBUrpkAfYss91YMT1UlGECBXhTG+ATa\n",
       "gl7WMS439kDQaiEaYvkwWG9JARhjoVpsoNlV9oA8HGWKvlvOoAzAeZnNnlX6CmStTglp/0VZXjC5\n",
       "vy8W8L6tNtKREDzRDaTLmn0ieSUTXbrIZptYU8vZ0vQNdQ6y9Gitesb1gF8bwIkqgLJIVnJwvrKW\n",
       "sjRLXrDQnjE60EcI91QrwPkTUnaiPk3jtMc/6UakCrgPbH6Z0RcyEQvAUYTnU4YedhnT3SsfbsBW\n",
       "BykIV/MlwN2Jm6ynMWOG1ycirvjp+HG25xT3+OcaL3MqWbgzj9foNbxVBz7XPFjmAmItAZw7syhi\n",
       "YwngltIVgFDkAi5xGvysfY0dk5hwzOKBrut5vypEshWAV+MCxMbF4/xj7/nz9NehuqPq2ZIH2JKo\n",
       "1IEv1PI3ec91K/IgMyUM37AqK6XbiKTVf5N5Y7Wl+0M3pMNwPqenC0uA9h+3ijXdi7bruuktN7n0\n",
       "F8ThsLbbNjvSAAAAAElFTkSuQmCC\n",
       "\" style=\"display:inline;vertical-align:middle;\" /></a></dd>"
      ],
      "text/plain": [
       "<IPython.core.display.HTML object>"
      ]
     },
     "metadata": {},
     "output_type": "display_data"
    },
    {
     "data": {
      "text/html": [
       "<dt><a class=\"ProveItLink\" href=\"../number_sets/integers/_theory_nbs_/axioms.ipynb#integer_interval_is_subset_of_integers\">proveit.numbers.number_sets.integers.integer_interval_is_subset_of_integers</a></dt><dd><a class=\"ProveItLink\" href=\"../number_sets/integers/__pv_it/axioms/673538a27ac778b35a8fffac94ede61aae34577c0/expr.ipynb\"><img src=\"data:image/png;base64,iVBORw0KGgoAAAANSUhEUgAAAMIAAAAWBAMAAABgYF47AAAAMFBMVEX///+IiIgiIiIQEBB2dnbu\n",
       "7u5ERETMzMzc3NwyMjK6urpmZmaYmJiqqqpUVFQAAAB6qHgnAAAAAXRSTlMAQObYZgAAAAlwSFlz\n",
       "AAAOxAAADsQBlSsOGwAAAvNJREFUSMe1VVtIFFEY/mZ3Z6+jLeRLUCKLUfRUUlsPQVYYkSlj2UIv\n",
       "2s0tiWyhHoJIN4JeKhsoJayHBemlfJgiCktofEiQIDYL6iFohKALFUlJEgj9/1x2R9c91UMHzplz\n",
       "zvef853/OsCfW5i6fEsk8Fp09C/aMupLbookujvm71Rc+d6fOGhE44DJ6zei4xX11KfLoak6Hrvm\n",
       "b0tdGWgRYCnwkNfXRAx7qQdqysLXedgyfzemQzKagIiKbrbWPhHDiJhhdkGGyixSMl2r6EyCQF7E\n",
       "sFrIEJ32MkgHEolEhiMDeFDJk3VQDFJF6AZNyGAjDkPoarYAhMzT/LkB1CUSa0UMsXr3nt7NZ0vh\n",
       "yGR1vsCwq0iAoGoFWDMpA3SIGCIG05Ai0Q04rpbA7X3yDLDYXnzyAC+VOH/G6WUImwXN+l1HJRsP\n",
       "6fbUx046RzS7DdwtfcBbFWuAy7YnNQ+g2bZ/wdoEcoXtd0xTnc75soEW571+QnsHaPIYqC1lGAZ+\n",
       "kGM/5i3TexIivwOgK3rIk3GPo9dTf0QhoODMRRQZQvdJNgn5VylDLaIUr4EBq0Z4GFKcAh+AQVZn\n",
       "lIbW0e38iKlqVTIsCd0xkm2loAl5Csq3hdIhNm3Zipsn4t5TRsgkP0Hzpj7ScmVohlVbLukpS0C5\n",
       "lHFjIm7HkjyLSq20xP1k/2BrMTkdj+q3yZvEOMZeNDnJQ5xYQUPRhiyJlkAh4E0nWvdjwlasXXMH\n",
       "ap9xtJgPkVwxVvsQPkaGusdxk2FjS3yRPxMzx9PpdB71DdjjvKbGYWirOjVpKebT3YFaW6NRZJC7\n",
       "3BI82JlMb0pSKq1yozobfEKmXAR//qRVC14ZaHCwFeK6BG/ViG5zqkbhB+Ee9Gd7htRW+NQx0o9v\n",
       "jCHqYk//gaG0Ihgu98jznTiRD92JI3yY1s++VnW6oRekUiCtFjMMlwPOz13aidmaTue8u1yEw7NC\n",
       "AnljOeTI3EKsLizF9e7CF9F/urlc+Zeyc5YK/kf7DUc7rjDs7b1hAAAAAElFTkSuQmCC\n",
       "\" style=\"display:inline;vertical-align:middle;\" /></a></dd>"
      ],
      "text/plain": [
       "<IPython.core.display.HTML object>"
      ]
     },
     "metadata": {},
     "output_type": "display_data"
    },
    {
     "data": {
      "text/html": [
       "<dt><a class=\"ProveItLink\" href=\"../number_sets/integers/_theory_nbs_/axioms.ipynb#integer_interval_element_bounds\">proveit.numbers.number_sets.integers.integer_interval_element_bounds</a></dt><dd><a class=\"ProveItLink\" href=\"../number_sets/integers/__pv_it/axioms/462e2f2b82759427daac478b6eebdbf64dc2e01b0/expr.ipynb\"><img src=\"data:image/png;base64,iVBORw0KGgoAAAANSUhEUgAAARwAAAAZBAMAAAARYIzUAAAAMFBMVEX///+IiIgiIiIQEBB2dnbu\n",
       "7u5ERETMzMzc3NwyMjK6urpmZmaYmJiqqqpUVFQAAAB6qHgnAAAAAXRSTlMAQObYZgAAAAlwSFlz\n",
       "AAAOxAAADsQBlSsOGwAAA6RJREFUSMe9l11IFFEUx//7MTv7MetuYVBUiyyFvgQSoj74sApGkMVI\n",
       "FgWRSjVREK3oQy/amFQvZdtD1kux6VsIbkIIKTgGFVLE1osJgStYEFToQ/RBQffe2Zmdj61xCT3g\n",
       "yD37PzO/uffcc88AjlYWr8K6mCu+axWqANbNXq4hjr8ktbzWONtLUt9XcXL03zsHHGeR3cKJ1Sq5\n",
       "ExUkcRSG85g67jjgOIvsdtTqmJftItUXyJDLLYbTR1e5wwHHWWS3Kcv4ySO7Ju+LZMnlBcMJiIA3\n",
       "64DjLLJbtXm4sdku0Xxj5PbwiBRHUJySlfzqLLKnTsqUHk1Re8rovib2GIXtrN3xeI3jznIU2SxE\n",
       "M3mwsV998riSdwdjRxo7LT7c2/CZzH6O4UwApxxxbCKhpai2R08Q+rLBepyn68B91Bfa61tEu2z2\n",
       "cT9E4hJSDGcQ/pz2Az+kHQy1+05mDDhGEbNuOwoLPqCN3ORpBxWMs0Hh0Q/cHbiRNPvCX+GJIlzN\n",
       "cHyiN63fconeNial3bK3VTTgGEVdH86SHVpkamiw7vcQ/TSwQy3Q+sKI7WksiGZfKIVIAvwywwlH\n",
       "DUlaR/4mCbyA3mvGxTKIQhNAcZw6K04tuJ/WtF0g82LxuRMYyyKozg5SM+TSNrOXTsxKTHSp0JmM\n",
       "6ZCgImGqayuwDRqOGlNYLBJcwCGLxa1AWLZuasLyizP7SNmZFhGuUHH2k3rIVfHf6RG/05U5rKbq\n",
       "9aQJh4qOjSgemVOr4aweU+gPSDCGtZEvCu43ylJvLSWvhqSK1+yLJLkG8sQOFWeAJGkow9Oy5VOE\n",
       "1CgTtnrNRygVXd6CiBhkk8ff1mN0o8EIbNK2EAnoxJvCJGOevqD/G1yp52ZfmeLLqJWB4pQl6Uq7\n",
       "6M7xJEO5WUmSskg045ARh4qwiBEIQ5J0Dn3v9RjdaDDCN7WlI3N/vPzCYtKcX8EKcJ8s9Z1bogeK\n",
       "O11oMNpl31OS7xF4sj0sak5Bs63BqMMkz6sHdUyP0Y0GY0AfVpbYj1wy9Dse+eKo2Aa3+IzsaTrV\n",
       "IfoeFhz/Mirn8uVwPh9DMxocQ6TBhh33AqUfuRpOcOp1C7qz/MMo/KfJ+NWX8jM5K04wh3IFV5J5\n",
       "HBZDK6LM17PlIcEGHF+hn+DizEzrZvWxhsHcDapr2iZJ6X90g9we6S9l0FyPuNIaEkZvwgmKq29O\n",
       "hx1x0F8SzmZbryyU0CsHokW1/N21/5Io+p3VW1R79f++sxr+AL3J/4jU7SLvAAAAAElFTkSuQmCC\n",
       "\" style=\"display:inline;vertical-align:middle;\" /></a></dd>"
      ],
      "text/plain": [
       "<IPython.core.display.HTML object>"
      ]
     },
     "metadata": {},
     "output_type": "display_data"
    },
    {
     "data": {
      "text/html": [
       "<dt><a class=\"ProveItLink\" href=\"../number_sets/rational_numbers/_theory_nbs_/axioms.ipynb#rationals_def\">proveit.numbers.number_sets.rational_numbers.rationals_def</a></dt><dd><a class=\"ProveItLink\" href=\"../number_sets/rational_numbers/__pv_it/axioms/76f0ca3554aa173e3c2b96df26193413f06c41b10/expr.ipynb\"><img src=\"data:image/png;base64,iVBORw0KGgoAAAANSUhEUgAAANkAAAAqCAMAAAAJZg7zAAAAPFBMVEX///8NDQ0WFhYLCwsYGBiq\n",
       "qqoyMjK6urqYmJgiIiLMzMwQEBBUVFSIiIjc3NxmZmZERER2dnbu7u4AAABmFFgXAAAAAXRSTlMA\n",
       "QObYZgAAAAlwSFlzAAAOxAAADsQBlSsOGwAAA4tJREFUaN7dWYmSIiEMZXeWm0CA///XBdpuaMU+\n",
       "FMdxUlM1lsbA61wvkZBHBKQirxAhBXmnWMns8tp4sDDMNJcsvBGYNvUmOmHEOO42Qcr3ITMVSNA5\n",
       "etzIy/D4voCUbHnpYnnDjzSv3duQNcGoMTsu8heZfx+yEHPtEJH8QmQ05x0j1P4yZASTz6h0ZJUa\n",
       "9gchCx6TOHv66GDAK2tg1bf9obRz4RuQgdEq91/jhzzUFllA3W8JCttveKiPdSAyL3xpIdxxHI2M\n",
       "ENYv4ti4mdHcoe1wZMqTS4NCImA4slJkbg81LVks38LhyDCEiy2vCBuNjPeZFzY5jcUenRWHIQtI\n",
       "1MVTlBJ3gMPHM8h8N814ayKWeFWzcyUbF4z8wtTSf0H3v7BH7FbImAEwN0ZZ47IwI7uY9aP4NYcF\n",
       "TvIdnW/tZCMrJ7G9Z7qqjTFNJSHatdV/X41VG/2EbM5xiWOQWb/AST4Dvhu8uwNUi2zKHg33XVaR\n",
       "zT0nMBzjtXWehb3JsL1krHIHmSsOjutGyVeNIEyf8lgti6jG1EZ7vDZa5nafZ4usDDj8qvKzNdmZ\n",
       "8oxWJSrHDOm87WeL9bt55rU6gaxc1y01oVj9+2dtFXHyUzh8wlFxMwcxhziI0WeQqXnwblx25XWh\n",
       "a9wWD48b9/zMGw9NszbCcWQmgcK1WXpziszsanEUjtw9WBcZi+5gEJxixMa7q/Z3W1uD82DUak4f\n",
       "uLVRxzjjNbIel9+eYujeQDEYGTGQhhmq+Gmf3XL5bWS77XD4TE0NMo3iNLJbLr+JTHjy3cgeHOc7\n",
       "XH4TmQyfgqzD5WGrEinyKcj6XP51Gx6j0bv0Nz8ohtsKDx99xeVfh0yBQUxhnpcKPsAS08vu5p7C\n",
       "o0f3ufx4ZG5utqnEKWproZsb/F2FM9LOT10uPwxZ8AJ8jgdob9quN9NUByZsKJySdvTscvnnthdx\n",
       "uVbeZ6kc6aFNJmFpLUOQai24DYVzNLNJqysuP4LEVusuYVR6GokrciBNhOQGLNiGwrmnKmtT6nH5\n",
       "pwQa/2uet7zZCwyL5I98qg/pzFDTzJkNhbPrrgVLh8s/tW6SzQ/gpeSiSHdU1Qmcqny2v1w8z/Ka\n",
       "biicp2LqLpd/CtmKvuicZlyEPPcvwVqqA5e5vEyURiDpK/xg4U5QKFOxnZflwhgDHpnJGZhiTzko\n",
       "Haen8Bky/Vp0RUjpnsKnCg/kl8pOfv8H4bQvabav32IAAAAASUVORK5CYII=\n",
       "\" style=\"display:inline;vertical-align:middle;\" /></a></dd>"
      ],
      "text/plain": [
       "<IPython.core.display.HTML object>"
      ]
     },
     "metadata": {},
     "output_type": "display_data"
    },
    {
     "data": {
      "text/html": [
       "<dt><a class=\"ProveItLink\" href=\"../number_sets/rational_numbers/_theory_nbs_/axioms.ipynb#rationals_pos_def\">proveit.numbers.number_sets.rational_numbers.rationals_pos_def</a></dt><dd><a class=\"ProveItLink\" href=\"../number_sets/rational_numbers/__pv_it/axioms/21c91a6ba1803ea3b86e2bd6ce4e8493c1471fc80/expr.ipynb\"><img src=\"data:image/png;base64,iVBORw0KGgoAAAANSUhEUgAAALoAAAAbBAMAAAA5YIiJAAAAMFBMVEX///+qqqoyMjK6urqYmJgi\n",
       "IiLMzMwQEBBUVFSIiIjc3NxmZmZERER2dnbu7u4AAACF9pTcAAAAAXRSTlMAQObYZgAAAAlwSFlz\n",
       "AAAOxAAADsQBlSsOGwAAArpJREFUSMe9lk1oE0EUx/9xt/neZRERb4l4FRoUQbHoqhRRD/EiSKCw\n",
       "HnuQ9iCeIsQeKpWiq22lIkK8aKEGYylFiq219aCwyFriRWoJUrGKNanFg0rFmd3sR5rJkkJ0LjPM\n",
       "e/vbN++9/+wCzsjjX46Z/04X9zrrsOfT97LM7RVNm6xLv3nIWQsJL7q/v8jYDV1Rwmf1OnTfHzRC\n",
       "f3+HBB7NMCyFAnCwDRFNS2svNhqF043Qt0hiaoOvdSA9Tl7Lq+zYG6O3AwtsevQbOZCgxDdN/yDb\n",
       "y5dArMikf/WTsH3SxKbp4lvVWv4GuiQm/TxHYuDkIx70cN/iLRd95O5nxVgMLVbeQ+kyk36Al0jy\n",
       "1W2OViNnjGF0QIRmbF82WHboXArXrXxPmzpYJ3QVoe5aes5nxD7ArtcDYhQvIBh36J9k9FjmrZM2\n",
       "XUd4lVFVM+/TTPjILhp/GS26Q38GdNgOe67RzBD6YUJZ3llL/2L3DKNdnxL9BWbwKOHQ0wivOfTX\n",
       "larGSH7nazuWM/tdcnbceaf6K6lIOj0j/gRftjNz1Zg0IFms1jXEhSfUOE60ur+tjk5oH5QkzLro\n",
       "q4haB2037yccB8aI2a5qZ/8ccjoKJGSB3jN5D3pU5ddd/f4KSR1VHYkWSbzo0kaEiuedhKWTZB79\n",
       "3joBD7rYd2PNRV++HTNmcchWkzg1rFToKyeOYZBW7FwWoRA19vKqFx1Woi2tmlX4KLMiSfl/iVSV\n",
       "/BIq9KA6vD3hRTfb3ab31PeN5P3dVPwGOSQY+ztm0zL7CVN/Ab2KfontS3UdSIQy/G5Ne87ZmfEY\n",
       "hv6E1g43ff6HzvQlIkYpG1X9htmqqucYvew6iOLlmaOegWyXAkNhnRm8kZv84efGyUXxUDEu6LHe\n",
       "5v9YHKUy1eZIHu/LzadP2avHpwaaDRfS9m+Nf1D5Cxj9wglCHhznAAAAAElFTkSuQmCC\n",
       "\" style=\"display:inline;vertical-align:middle;\" /></a></dd>"
      ],
      "text/plain": [
       "<IPython.core.display.HTML object>"
      ]
     },
     "metadata": {},
     "output_type": "display_data"
    },
    {
     "data": {
      "text/html": [
       "<dt><a class=\"ProveItLink\" href=\"../number_sets/rational_numbers/_theory_nbs_/axioms.ipynb#rationals_neg_def\">proveit.numbers.number_sets.rational_numbers.rationals_neg_def</a></dt><dd><a class=\"ProveItLink\" href=\"../number_sets/rational_numbers/__pv_it/axioms/3d8c09bc0c64c97929c8521791819244ed748b4f0/expr.ipynb\"><img src=\"data:image/png;base64,iVBORw0KGgoAAAANSUhEUgAAALoAAAAZBAMAAAB0qCmCAAAAMFBMVEX///+qqqoyMjK6urqYmJgi\n",
       "IiLMzMwQEBBUVFSIiIjc3NxmZmZERER2dnbu7u4AAACF9pTcAAAAAXRSTlMAQObYZgAAAAlwSFlz\n",
       "AAAOxAAADsQBlSsOGwAAAphJREFUSMetlk1o1EAUx9+6aXaTbEIOIt66xVsRuhdBsWCqiKiHelCw\n",
       "lUI8ikh7KJ56WHuoVHpIadGCl/XiRZfWUkoRqrW9iIQSZXuRKgsW/MB1V70pFd9MksnUncRS9sFu\n",
       "5mUyv7x57/9mF+A/9qHAhmrigw9Kwts1130au0Y5VGVjvZBElyeqovW3bfWyF7emnVsST393HwPP\n",
       "FQUzlQrA8W6QXbRXTbMbsAv6PtPox+kLgg15eXyt5MQs3BX9NMCmmJ77hhvS7fze6KlO8v2SZlBE\n",
       "/ypj2ClzcU906Qoty2+AQVNIv5G2ANJWTwJdHX9/l6OHLgpigMINQreE9GOSicl39kd3tEvUfAXM\n",
       "4+dIKdvg6KELtb6gD7aR7oAy1Ewvp2jsU+LQ1WEMbRiy+YjO3EcXgaN7oH4XVNXP+zMxfBSBWgPa\n",
       "vIgeutmO8CkD6SeQ8qmjmf4lSTPX1wEyKzBbiOihG9FJVdsxv2+aNZX29W7G5B3FVnegl9MMc1lm\n",
       "wAXorULqD881Npfu4GUBe/VoN8Rrpm7CKk8PXVZVOEOrr7OqXptYg7IHFQxZJ+fMXAI950jbHJ25\n",
       "AJ/7/FOozTRucr2qkeZ5a8LWObLDH12LkEA3xid/cnTmkm4KBL88Ywf02tlTME0OmKslUBQyORZ7\n",
       "ygS9KjV29Grg0mEn18pIN/rlX8YKmdiCgJ51Zg4Ukui+vhk9KxYYoWtz8hBpfkpWdHr/4OqIFUO/\n",
       "R0Xo7aBnxL8GGr40U1CK0mHXfZFmmUmyWVL3rgGeHrr/2keMsF7KOTJ9eVjVRFOXok5Q7KQny7fI\n",
       "tkqDNqxTVRbhtQWttfTCc4DHJApjY34MWm4nSZu6a5jAh1br6cts9OT8VKvh+gj7WyNP238B8ny9\n",
       "jpkvuYsAAAAASUVORK5CYII=\n",
       "\" style=\"display:inline;vertical-align:middle;\" /></a></dd>"
      ],
      "text/plain": [
       "<IPython.core.display.HTML object>"
      ]
     },
     "metadata": {},
     "output_type": "display_data"
    },
    {
     "data": {
      "text/html": [
       "<dt><a class=\"ProveItLink\" href=\"../number_sets/rational_numbers/_theory_nbs_/axioms.ipynb#rationals_non_neg_def\">proveit.numbers.number_sets.rational_numbers.rationals_non_neg_def</a></dt><dd><a class=\"ProveItLink\" href=\"../number_sets/rational_numbers/__pv_it/axioms/3ee9c4b92353fbf95bce881b634cd0e06ca372f30/expr.ipynb\"><img src=\"data:image/png;base64,iVBORw0KGgoAAAANSUhEUgAAAMIAAAAcBAMAAADB+31dAAAAMFBMVEX///+qqqoyMjK6urqYmJgi\n",
       "IiLMzMwQEBBUVFSIiIjc3NxmZmZERER2dnbu7u4AAACF9pTcAAAAAXRSTlMAQObYZgAAAAlwSFlz\n",
       "AAAOxAAADsQBlSsOGwAAAupJREFUSMe1lk9o01Acx3+1adqkTRZExNsqXoUVQZgoGJUh08O8KDIQ\n",
       "4lFEtsPYQXbYPEynQyKbOvFSL160bI5RhrC5Px5UwqjSHZQ5ik4UsbbqTVnx916T19c1SfWQHzTJ\n",
       "r+/1fd7v9/v+XgNgm7hMb8rbHARlxUVy7YRDgRFAeo6XfmhJB4cQXoJcgajWMPAxxR5l3xUeuO+u\n",
       "aFlPbcRlsQIRvSG4PQX2rKT8COJowS05Vw35LC2vupZCQtTcOqOV+5k34f19DCAx6DKSzwMcJOWV\n",
       "Zw2SpZaGLK2CF+FDLd5tmtqNw6dcAsslES2YIF8zPCrtTVBXWcAdAGvuhMR3DEwxkuoNuvI9aId/\n",
       "JwDcXrcfXtBsuhG+ibiNkJZVC3bHzf8XATpsxB+AHs2VcCmMuQzrR3wUQgjyyPodjuC4aNupEFVC\n",
       "0F0JBwSsrGjuqP82fppaVRnT+NmfjpU5guMS23eTIDeRYILU20jIhGgMY6KF9sotBLkPt9gHsWSN\n",
       "wFxKWHEIOZB/uFS6Wod5zxzJV3DReBkiuRqBuSRL1ykTCYdxpS+7Gwlfq1ryLsNF3GN0ASZTNQJz\n",
       "sdLzrNKtmO83jR0ZrvaD5lMHFGLJhC5OS8ytqdUC6CpAqFLXLmuzJMAZ7Ol23yMbtVTSYIkn2C7X\n",
       "ccepIhRW6Qujy5DJQR63rpBzaaoJIWEKmxzBcblTI6Kp/VxPx7N4eafBxgm8P/rZloUmBHXk1i+O\n",
       "wFwuI3MThk0odh6DcXIgnU+DJJHBYcFsRsCTvVzX00LZdSohqN3ib3WBzNkAmxAzJ3ammhFs/TuE\n",
       "WNKTEJ8Se8lBQVeXFPr9rqUB3Ydwlwo0V0eoup+o4s5wGkRwNCUNCnstazHMstTMJoke2s7xBMfd\n",
       "ap9xp6V0whTpBpxKNzV5ttYtkuE3MzNEwkv3GLBCFTsIr/UAXijCM88AHhu0XaaHg3lpOUra2cJX\n",
       "POWhHgxhjj09OTkWBEAZYH/14rjxF+E+2LsF5sLiAAAAAElFTkSuQmCC\n",
       "\" style=\"display:inline;vertical-align:middle;\" /></a></dd>"
      ],
      "text/plain": [
       "<IPython.core.display.HTML object>"
      ]
     },
     "metadata": {},
     "output_type": "display_data"
    },
    {
     "data": {
      "text/html": [
       "<dt><a class=\"ProveItLink\" href=\"../number_sets/real_numbers/_theory_nbs_/axioms.ipynb#real_pos_def\">proveit.numbers.number_sets.real_numbers.real_pos_def</a></dt><dd><a class=\"ProveItLink\" href=\"../number_sets/real_numbers/__pv_it/axioms/988052b728edd5e8d053df0f4486c5f7407797eb0/expr.ipynb\"><img src=\"data:image/png;base64,iVBORw0KGgoAAAANSUhEUgAAALkAAAAZBAMAAACfn5KBAAAAMFBMVEX///+IiIiqqqpmZmbMzMx2\n",
       "dnbu7u66urpUVFTc3NwiIiJEREQQEBAyMjKYmJgAAAA9S0TaAAAAAXRSTlMAQObYZgAAAAlwSFlz\n",
       "AAAOxAAADsQBlSsOGwAAAlJJREFUSMdjYIADZgZaAm76m55egGBPwKebUxOb6NvT+2+dfoDLdMbr\n",
       "CQhOOF7HeWzDJrphBkPF6wQcpusjGY7bdNZASyC5A6vpUxm4WRoYrHfv2b37AbpkFAMxpl9iyJqA\n",
       "phbJdOYJF3C4nSjT+RYwsG7AZ/oGkk1nu4dIDg0MTN9wm86R1kC621MXwlj8Bgwsn3Cb7q07AY/p\n",
       "rhsmxyFMZ4nmNIVED+NSaJTnA03/h8v0Obd+iSHlVeZVYNAA5tgCccDmgBiE6azcpqwHoOG9GGL8\n",
       "/AAGlo8MDDLY3f4uF2cWOQfED24xmCJMn8e7gDkAKs10eQLM9K9ASgGr6dx5D3AY3gvMqSwJ/5DD\n",
       "3Y0fSTH7DZDr8wMY2IFuZ+tVwGY6i8E2HG53Bkmwf0OJ1XqkDMZ+OwESq0zAWGW9jj1WTWYj8VHC\n",
       "HZT/mBegmG6FUMp0Axwy3BsY+L6h5WutWIuLUNOzGXEEDTgdcAWgmL4UkYsWQ8o1vgMMzMDsGAMT\n",
       "Z5HYXcDIyhAJ0rdhMgPfg+14TJ9fgGw653d4CQdLkQyLGHIckFKkMZDDyMjwTABcRu5k2H1fAbfp\n",
       "VSi5iR0WTonw3MSQHNgCVausJzwBHBBA08UMCJX5eEqCddjUPj/Hq5AN9hgr58YH5JuOVS3LvAss\n",
       "DHVg05m3biBYX8mQYDooX3OAwnr37t0KjIysRQRNR8l/+E1nA+ZrBh5gCnAFu52RvTSBkOmcFkjG\n",
       "i+BVGQFSOR+U/BPA4c4QRjBWSQUeIHu2AIla2YBkW5o0LlJ374ZmEQBsDaOtULtofAAAAABJRU5E\n",
       "rkJggg==\n",
       "\" style=\"display:inline;vertical-align:middle;\" /></a></dd>"
      ],
      "text/plain": [
       "<IPython.core.display.HTML object>"
      ]
     },
     "metadata": {},
     "output_type": "display_data"
    },
    {
     "data": {
      "text/html": [
       "<dt><a class=\"ProveItLink\" href=\"../number_sets/real_numbers/_theory_nbs_/axioms.ipynb#in_IntervalOO_def\">proveit.numbers.number_sets.real_numbers.in_IntervalOO_def</a></dt><dd><a class=\"ProveItLink\" href=\"../number_sets/real_numbers/__pv_it/axioms/91fd9d4243b18056ed6f0bd2871364db106dd3dd0/expr.ipynb\"><img src=\"data:image/png;base64,iVBORw0KGgoAAAANSUhEUgAAAc0AAAAWBAMAAABQ5dp2AAAAMFBMVEX///+IiIgiIiIQEBB2dnbu\n",
       "7u5ERETMzMzc3NwyMjK6urpmZmaYmJiqqqpUVFQAAAB6qHgnAAAAAXRSTlMAQObYZgAAAAlwSFlz\n",
       "AAAOxAAADsQBlSsOGwAABWBJREFUWMPdWF2IG1UUPpNkMtnMJDtbWFwVlzRaa6lKFKkgPsTFahW3\n",
       "TGEbkRUy609c+mLQ6qOO3UUohSUtVHzwJ0V9EFqbrkqtrpoKLS5VG2V9KBXc4looKFRhcX3z3J+Z\n",
       "uXfmJtm+euDbZO+95zv3u3PuuXcC0Nc2bFY0ehxdutYzNMPRzbx1tPRx59CK9XU4PKpo0zoMXbok\n",
       "O8IRtZs4ora47flD29oKny4Bu9gRAakmLJO2X3rrjI9Z4lCY2Kw/XcDptRkiliszxM2dg4/OOnGf\n",
       "pfVKlMISoM7PScebvXXGxugNBlUMqXmghX8Oc8j2BIdC5yykjeXQZ1zF3NOksIepzlfILnF764yN\n",
       "MdsMCpObB0mqneOQbYFDqdP0GoGPvkXF3NOksOeozgEHPzq9dcbGJDmEvfNUcUvQFdpxhzQ5DLKV\n",
       "OOIUVKcb+Gg/NBXMJPMVaXjBi4VFoE4LV2mgTx2KjbnAEVj2oCN0hTZGs6jNIE+ywaCgQJ353cuB\n",
       "T8JwFcwA1tbY2sE3n8bDIlAn3F0s3tOv3kbHfMKxa/TxB+lz3u+IXZmVEZv9987Qn5gKywxyfpcZ\n",
       "9KHf947LFKjzZfJcuM8SLw0yM2i3MIeAgByB2xVhEUTnSYBn++mMjnmLo6VdMgtykSLN73npVTaH\n",
       "f52qBxY+Nos+uvkisTvF1TZh1J6XKdyZQ38Pg++DHRfjzDCx0V8wnwD0Mb4GclgE0TkHmWCtjTf4\n",
       "l58e+eqgoFMcQ+wOBsuzVvM0uRpil34/MPWQW4WkDTnchrlSZPUSHYZv4bzzh0zhzn5HCzHzwcqb\n",
       "cGLMB273RwcEmXl/b8hhEURn2kk1gxArhHi01tRSsKMc6pTGoN3HYIDJZmdgYhdv9bvMq5Bgztg9\n",
       "WAbjKlBIlmwy1OFUlMKdTT9Jpsx88nXQ7Chz/u2AyCeAK0GllMMiyOxztlBi7kV8gZckTYMzdqhT\n",
       "GhPqBLJsNFFcsSvpQpUtC07qeAeyuKjZUhedAHdFKdxZo0W2CfPBR6sXosyCTp9A0CmHzbLnCY3T\n",
       "JN1P7yAr+NeoQ68hqHO4Jdz76Jihz270pLzFAu7pNKcKYt5WbTgfnGNfO5DD3lwhsj/9vIXsGuyW\n",
       "KbAOnXwdfB9SY76MMYd5GxCEeSuHRVCd43hh0G8z1oi8TVqrQotZKjPVFnSSMZp3eYAv2RRDpfkb\n",
       "pGjDUBAVm6sduJLzdBKwjjsKLJdBsrRNoe/Jl6AsU6DOCllt5kPE7peYpToUEoR1SA6LoDpnsMSY\n",
       "LYMkSbptNY5SneYzrniPJ2MsmDJ4006GX1/6GI6xi1aQMzvJ9HNbTaji1s23063wCJGMV/zcP5Ol\n",
       "bEemcA/gib2H+1hk7um6yMxs10aaSSEBCt0wTD/lsAiqEzc67hSNFNRk3VxerNVqHU1LHRN15umL\n",
       "zZrf9ALD5FBugYXQL38QdumXHp67DhKb8NsKudklmgySGQUK/YR98XuZAt9XpqH2bof55IkawxaZ\n",
       "/XsCPUBDAnpPoAeoHBYRVNGqlz6DXoOQ7Oylz1PLvu9E38uMkv+6mKgzCLeZh/ilLWz+2f+yj0O2\n",
       "zRxxCtFPPImiL5GW4t636EE07D4IdSa9V486E3hQncUzhO5P2N6K6JxJNfycsVoMCguby71v7Orb\n",
       "ffSmr2Reny2ECHRmF358DF7sGCdsyDyH/394fXnyVESnecMDwz7HNIfC/GbdP5fIm47ijSjtMXS1\n",
       "mM/0Ncn0wxLIpz+wvTZRqzX7/Z5Q4ejSRVO/jyByYOq9XghjPpVr0umHJZB1Zh2lw5ji96GMzQDq\n",
       "LslGOKL2Gkc3G+nL3NNGQmg3Szot+P/af9l8myefhnKhAAAAAElFTkSuQmCC\n",
       "\" style=\"display:inline;vertical-align:middle;\" /></a></dd>"
      ],
      "text/plain": [
       "<IPython.core.display.HTML object>"
      ]
     },
     "metadata": {},
     "output_type": "display_data"
    },
    {
     "data": {
      "text/html": [
       "<dt><a class=\"ProveItLink\" href=\"../number_sets/real_numbers/_theory_nbs_/axioms.ipynb#in_IntervalOC_def\">proveit.numbers.number_sets.real_numbers.in_IntervalOC_def</a></dt><dd><a class=\"ProveItLink\" href=\"../number_sets/real_numbers/__pv_it/axioms/dfdd8678cea43c1488ad4f19204191779287d9020/expr.ipynb\"><img src=\"data:image/png;base64,iVBORw0KGgoAAAANSUhEUgAAAcsAAAAWBAMAAABd+6oxAAAAMFBMVEX///+IiIgiIiIQEBB2dnbu\n",
       "7u5ERETMzMzc3NwyMjK6urpmZmaYmJiqqqpUVFQAAAB6qHgnAAAAAXRSTlMAQObYZgAAAAlwSFlz\n",
       "AAAOxAAADsQBlSsOGwAABV5JREFUWMPdWFuIG1UY/ifJZJJMkp0UFtcLyzZaL1RhFakgPsTFahUr\n",
       "07JdkRUy6yWWvhi19lGH7iJIYUkLig9eUtQHoXXTqtRq0FRosah0lPpQFExxW6koVGFxffOc/5yZ\n",
       "OWfmTNJ99YdvCeec7/vPd+ZcF2BorLtJUehyJFQJoVWbypYDFFQyQ1onyrusB8PjIUWZ5jEkVEmR\n",
       "acPBNSic3vTsgU09iHMS8iXEQQGkB31a9vNgm/E2ZzkUIRbrT05gEq2nbKZWcBbhw1N2nHP2Sh1i\n",
       "Vkr3QXrwGa14Y7DNWBu9xaDKIRXnO5gEXlM1S1BwFiBr9ANOxlMJJ8Q518+KdA7Sg5fIr5wz2Gas\n",
       "jdljUIRcPOIxm9+omiUoEJum2wo421sqYXV89UmQFekcpAd5OxywJJuxNmkOYeE8Ub0lqApjyWY2\n",
       "03ZEdIAC2nQCznW/g0KYRCk2B9dtDrMinYP0oEgGKT9kC4q1OccRRGG/LVSFMcU2AMhHP8UABWKz\n",
       "vKMfcCb2qIQBihsjQ6dPWUJWpHPQHtxRrd45bKeNtvmYY9v4o/fhV37VFqtyy2M849uVPzFJph8R\n",
       "9RX0yoXdW2UFYnMPXWOMU6rlXYUwaDcwQiCgHw2GkmZFOgftwTGAp4fZjLZ5k6OjnTcn5P2JFr/r\n",
       "ZldYH/616y5NUqQLzKxi9EUFE8ato7KCM3/g71HgHMi7pU5cGKbX+4ucC+iXglWFWZHOQXuwCLlg\n",
       "qI3X+Y8fHvxiv2BTbEPjNoaiW1wp4xi2xCr9HmDmobQCaYsmKU1Gxo4rwNdwxv5DVnAWvn0Mycgh\n",
       "29+GuPC+W/3WgUBoE7MinYP2IGvTvzyWqdfxRlvLwJZaaFNqQ+JuBgNM1juDzOrqjX6VeRlSjEyq\n",
       "R2qUalyO2OQK0ITjUQVnIfs4HTvG+Q2gEhMuvxUI+QKQCyYtZkU6Bw60JewudxF8Tq5GmgYnrdCm\n",
       "1EboJB01nCaOWJV2oM5GhXRqyaNJCpMJNgFujyo4C0aHLhHk0NNye0xYsOkLCFsQZkU6B36j1gk6\n",
       "109soQP417iNtw9ic7QjXPawTeXTa115ysGSq+NOMCHOxroFZ4Jj80ucCKWJyNoMFAqrsENWIFvQ\n",
       "sVeAc+g5Znox4XDSBgLhgYJZkc6BNreSe4J+s7FK3W3QOjO4j2Vycz3BJm2juRfzfP7PMcy0f4UM\n",
       "FlSCrKS47sGlkqvThE2ynHALil5AuIK+qzwJNVmB2JyhY42cFJ2OLUlY2oJCgfB6gFmRzoE258nw\n",
       "mh2DTpFsr9g6hDbNpxzx6k7bFGHO4EWPMPzy4kdwmF3qgvVPirNWaaMJddK5ci/bwSRmLWKTK5T+\n",
       "mZ0seLKCs48c1Ls4h84ieEYSZrFtPU6jUIAdrvQtglmRzoE2y6Qq3dboXEo3zf7pRqPhaVrmsGiz\n",
       "jE+ZVb/oeYbZSqnLUugX3w+r9PMPLF4FKbJB6stddj1ItSM2uYJ+xPrpO1mBvFB2QuMdj3Eu0KLn\n",
       "JGH/eoAHZygg3BNoVqRzBPtn3c2eJKwRSHu78Wtqhffs6EPMmMzxX6kmg3CJuZ9f1cLiH8OHGOyN\n",
       "HsYDFPzYG2fI16CBDw6kcwQ20+7Lh+xpSNmnyOGBaxM2dyI25zMtf8YUOwyKCItrgs2uqlmCgh/d\n",
       "JOEri26IwGah+/3D8IJnHLEgR1fCB1fXZo9HbJrX3Dvqa+zkUIRfrFuhTcUTaIACPwedBOGERybb\n",
       "xpsi3Yd86ANbZ9ONRnvYfw9mOBKqcN4L/z3IumtRYBHjzKzpY1K6D9lmwVYSphT/C8pZDKCukh5Y\n",
       "17dhbE0KLMaGCQ+OsRC0B+Lsh/9t/AeSHaH3AV1VpgAAAABJRU5ErkJggg==\n",
       "\" style=\"display:inline;vertical-align:middle;\" /></a></dd>"
      ],
      "text/plain": [
       "<IPython.core.display.HTML object>"
      ]
     },
     "metadata": {},
     "output_type": "display_data"
    },
    {
     "data": {
      "text/html": [
       "<dt><a class=\"ProveItLink\" href=\"../number_sets/real_numbers/_theory_nbs_/axioms.ipynb#in_IntervalCO_def\">proveit.numbers.number_sets.real_numbers.in_IntervalCO_def</a></dt><dd><a class=\"ProveItLink\" href=\"../number_sets/real_numbers/__pv_it/axioms/bb5e867afdfac71f56ccb8e1154e66d5ca8810460/expr.ipynb\"><img src=\"data:image/png;base64,iVBORw0KGgoAAAANSUhEUgAAAcsAAAAWBAMAAABd+6oxAAAAMFBMVEX///+IiIgiIiIQEBB2dnbu\n",
       "7u5ERETMzMzc3NwyMjK6urpmZmaYmJiqqqpUVFQAAAB6qHgnAAAAAXRSTlMAQObYZgAAAAlwSFlz\n",
       "AAAOxAAADsQBlSsOGwAABV5JREFUWMPdWFtoHFUY/ie7s7O7M7uZLQbjhRDX1ipVSEWiiA/bYLUW\n",
       "K9OYRiTSTLyspS9dtRafdGyCIIWwLVR98LJFfRBaM41KrQa7FVoMVTqWPlgU3GBaqSikQjAVBM9t\n",
       "Zs6Zy8766g9fsjn7f99/vjPnNgFIjFVrIxothuTsuMxYBe77pJYEOoNUrnVA2BzRJjkUHWQfYuhU\n",
       "YX5w14HBZgQnul5cHOKQbkALt/3U3mY45zxDe5vyU/2od02KQMQrmNPw8WkjzDnfqUOhLAay+QX+\n",
       "4q32NkM5cp0i6WnmbPTjIIPYlXgFcwoySsvjpB2fIUQhttdC2YPE5svoU9ZsbzOUozYpkmx24y6e\n",
       "YRCijQKyqVp1jzNc9xl8aOuMuB4LZc8QmznDH7A4m6GcFAO3cJ4s3xa2OYN7kjIohGijQGyaHufG\n",
       "33wGn746yuUFK1QWAdnU0CDlEragUM4FBi/y+42opzlEplCTAjpUQDaL21oep3+Pz/Bj5Kaorn79\n",
       "WbgsArIJd5bLdyXttMGcTxm29j12P3nKrxtc9vSGV9kf75b+QPOgRQFRCnLp4u4togKyuQc/Fcop\n",
       "VHKWx8gu9urkj7HbvUXuCuDDbGNEWQRs8xjAM0k2gzlvM9jSgtov7k+bIX8P7KJ9lq8a4xZoaHFh\n",
       "gFom0eIVVOjTZ0UFc/LAnz3AOJCzCrZX830rs4w/b3/HX+SuAMhDOkSURcA2pyHrDbXyBvtw7qGv\n",
       "9vPPh8vBcQeFZmnLRTK16pzNR5swy/bCZUjpUBgAAohQgG/grPG7qGBOffs4YRMO2v7WuAz5PqCj\n",
       "WvRtegLZWXdhiGURsM2MgX+yWMRe+6oNKQ2bKr5NIQfFvRQKqLR3CprV5VtY9gmA1Wyk69BdAWUJ\n",
       "CCBCAWpwPKhgTmWewD2mnF8BSi5DXYIu2qt93qR1BeCyt0eKZRFw5ws6t7vcjfAluhpJEpzSfZtC\n",
       "DtdJPGpkmpjc0xwE+W/6GfVpxoE8GtL8QIxNgPVBBXNKsfESIRx8Wg67jJQJ443QFrQ+aFMsm6dP\n",
       "E+onMe3kJjyAV/oMcvtANntsbu8kOaXPb7DEKQczlkyWYb9vU74C2pJ3fp0woIC+xBDWpqeQX4Ft\n",
       "ogLago69BoyDzzHVYYxxHc6GDhRXwJ+0YlkEYnMLuifItyormLtGskeJSDo70eRs4hzJupRjIzZB\n",
       "Mdr4BdKkocTZ/AeK9R8Ad6K7hlYTaCaFEExB3lkcgIqogGyO4rEmnC5soM4Y4w5cLljC9cAX8Lcg\n",
       "sSwCsTmJhle1FTxFMk2tfpjYVJ82+XsNztFgQmFNj1D8/OIncIRerxw/ewLO2bZ8Fe8UzQyaEmqF\n",
       "QgimUPhrbCDviArmPnRQ72QcPIvgWcbI6IV1qn/ZexN4AeRzVQ/5LZZFIDaLaC2mGhKeS6ma2pqv\n",
       "VquOJKWP8DaL5FVmxW16nmKsVJijJeRLH3rZ2695aaEGZTTW8uIcfiANCiGYgnxU//E7UQG9oeyA\n",
       "6nsO5VzETc8xhrzw4PS1gbuxJ0CuB+TgFMsiePvnuJU5hfrVDSlnN3maUv6D0L1GGci6i7xGwV1i\n",
       "Hghc9grecb+XQYg2CjwvwEiMeQuCZfeCbzNlvXLYGIEu4zQ6PMjahI12wOZkuu7OGM2maHN1T3st\n",
       "cwzixTtegecFGP8l5nx4NvNz3z8MLzjKUR2yeCV8dF1l7Hig4+r1G3pcjR0M8Ta3ug341SbiFShe\n",
       "geOFGCyGyZa9NonuQjz0ga6zkWq1kfTfg1GGeJvuqQsZi6JjBY4XYnQeblkM0WY++gVuKGLUsjpF\n",
       "B9m9DB0rcLwQo/Po9SHdLNjU4H8b/wKAWp5811niYQAAAABJRU5ErkJggg==\n",
       "\" style=\"display:inline;vertical-align:middle;\" /></a></dd>"
      ],
      "text/plain": [
       "<IPython.core.display.HTML object>"
      ]
     },
     "metadata": {},
     "output_type": "display_data"
    },
    {
     "data": {
      "text/html": [
       "<dt><a class=\"ProveItLink\" href=\"../number_sets/real_numbers/_theory_nbs_/axioms.ipynb#in_IntervalCC_def\">proveit.numbers.number_sets.real_numbers.in_IntervalCC_def</a></dt><dd><a class=\"ProveItLink\" href=\"../number_sets/real_numbers/__pv_it/axioms/4e2e4d57090b17d20133ba7fac7880bb2e660bfb0/expr.ipynb\"><img src=\"data:image/png;base64,iVBORw0KGgoAAAANSUhEUgAAAcgAAAAWBAMAAAC2zBEyAAAAMFBMVEX///+IiIgiIiIQEBB2dnbu\n",
       "7u5ERETMzMzc3NwyMjK6urpmZmaYmJiqqqpUVFQAAAB6qHgnAAAAAXRSTlMAQObYZgAAAAlwSFlz\n",
       "AAAOxAAADsQBlSsOGwAABZlJREFUWMPdWG9oW1UUP6/Je3nJS7LX4kSxK1lWqf/thn/7QaI42Oom\n",
       "b1orUuhSsbFOxWAnDIQtRSiIUCJSLeggsH4RNky7iptWzYQOx6ZmdR8sE9aiQ4R+cGBdJxS8/9+9\n",
       "770k7VcP/Ghye37n3N975557bwAamZbOB4wWGBp6t3SAGeBnMtQycx0jDegcaAYNLVwK0lKlWId3\n",
       "N8Rsv98WBq/FP8jd2PYaBHC2bEQkpnOgGSzisV/rikziP4mKPHiJob7I3h0kBbT63BIZCr8Z5mJs\n",
       "edDPCfYOMpK1VUI3fInHJ+qKtPDEo3Jx6kWKRm/yYyoy6njdXmAIEpmB7GGXs1diKLbgXy2JCZEV\n",
       "0zm64TCu3GxdkRH8tkflMatC0UjkGhUZL3vdZhmCRZ6KCo5+p8SQ7bvP/aV+tyOyYjpHN5EartZf\n",
       "k+PSEyUWYnDt5nS66BMZW6Ei4UFv0E4GfwAi0hAc7ceSy5D72U5/n2h33KyEztANcfRCog0azwX0\n",
       "RynOBQZhn24OepPhFBP5ibeuihQBAbDIq/2C0xTJCoa0XJ7w97KerXJWQmdAM9iRTj/QQGQond6m\n",
       "rPsZhn1tzz+Jq8Acl8t17PER+iW61FYlIp/2xLQyFHrz1YOkRNwASGTk9QnBucT6BfYWgfVpvlRE\n",
       "AOi7h0cgWQmdAc3gC4DBBiKtPBhK7+CPqawtWSmlKyHv2CPwBvXeP66vEpHn8LfpNLb7yDwqFBa0\n",
       "2dOgBDDMR+/f6nAOkngZOIMH1v8Uy0sE6D8qJkeyEjoDmsEYmIv8/5EP2Yf53d+8704bOYwpwu+l\n",
       "iBfiK0n8UKPyI3m2AtP0yxUHthORP3seXFOV4nv4yVkGJYBh7pkjpUk4qOc1OZwhArsiRYCkK5Jk\n",
       "JXQGNAPDkdbR7zhwW66khWFXxi3AQTJV17ooImDRpTKM31GWeX8L0E7dTgP8TZhHPCJDJYo8dlED\n",
       "oHIdxD2AcpJ50GzOEIFNUa4iALwnypVkJXQGNIOELfWdhxG+QgczTYM52xV5Ue07XCTKTZ165Tf5\n",
       "EOj/0i/tEFsjIo/VEAn4masBkMi3ydo4xnZHPcUZbmCp8Wz3NR6SldAZ8AyKZ7DLmV34JV5rczT8\n",
       "lJDIzWVXZDSOgmq3jZxSyxXgs4KOJ9QkidSvQfwvvk1aKyTFvGdN8nKF2Co8B0oAJNI6lOUc3FS+\n",
       "ZgwpsLuF8ADSFkKyEjoDnsFe1Nn0OyKr2O92rUweqhY2ByquyPAC4t+SzPLCH6DoLf0GYeJuSyLX\n",
       "IFn8BXDC63gZ4RRnvTu+TaAfSHZCRg2AROrZVs7Bb/FdxmCB5cOAG0A6DJCshM6AZ/AO6jtWOYJ3\n",
       "W6MSLx4nSa2XstKmYD6GPlQMm98wWG++8tZJOEEGjkrlOgDz5bJ+A31Zhldpihlvx14kSFzv64xV\n",
       "1QCGWYYLRolycAGBkWcMEtjdq9GwFIBsph8Bzyp2uRk6A7S4UclruMWG8tbiuVwuV9W08Al5e/8D\n",
       "f9ok+vybFH3NiVmaov+AI7z7bzq0lIc0Guh/qkJT3OURGUkR6FP25R9ACYBuIf8UjFfWKCeJByM2\n",
       "Y9DAyqHADeAayUroDLxp7i8YcyjgJghVD5I3qcUmHe8ZZljcIJvyFK5Nvug51iUccdUCM+WdSAeD\n",
       "P4C4Eab8jI1cKFMuuMhQ4chxpwftSWfpto+2kJ1lVaTZuRt4sfCjb50Deti9Twac5c8z1DYv5/zG\n",
       "RPIrhFVxRcZmL+6B4WpkygbzZXyUvDXTd9oz7anJZnHsGWKoLXKfJHLUf9coUNS20QAGL1LSptWf\n",
       "IJ4hQx0KnUPd4+n66snlSo1+GehV9rYgb1sS6X8cepaitg0FMDZgQxIUkTEncNpBv/GYNkVj75Yu\n",
       "0AJe2QhDzV+WCkGMdRumc7R0KZdO+J/af6zvli7PrREBAAAAAElFTkSuQmCC\n",
       "\" style=\"display:inline;vertical-align:middle;\" /></a></dd>"
      ],
      "text/plain": [
       "<IPython.core.display.HTML object>"
      ]
     },
     "metadata": {},
     "output_type": "display_data"
    },
    {
     "data": {
      "text/html": [
       "<dt><a class=\"ProveItLink\" href=\"../number_sets/complex_numbers/_theory_nbs_/axioms.ipynb#imaginary_number_def\">proveit.numbers.number_sets.complex_numbers.imaginary_number_def</a></dt><dd><a class=\"ProveItLink\" href=\"../number_sets/complex_numbers/__pv_it/axioms/5b16aa60a4b2f6340d52cd72e6d8400fdd89acf00/expr.ipynb\"><img src=\"data:image/png;base64,iVBORw0KGgoAAAANSUhEUgAAAGsAAAAVBAMAAACzuQ2OAAAAMFBMVEX////MzMxUVFRERES6uroi\n",
       "IiIQEBCYmJhmZmYyMjLu7u52dnaqqqqIiIjc3NwAAACW8nlqAAAAAXRSTlMAQObYZgAAAAlwSFlz\n",
       "AAAOxAAADsQBlSsOGwAAATdJREFUOMtjYGB4wIAMUHkQwMeAqYT3AHsMTADI8sWi7Q4qF6zkNAPv\n",
       "H5gAkMVbgKGLZwOCzRjFAFbCNQFN0SwMbSsRzEWdvyBKONBNr8DQ1o7E5v0FUcKGrohtAbpIAro2\n",
       "oJKTQLd/hPsCyOJEt55nAro2oJJudG3cCmjaODagawMqmY6ujR1seGsoCAQxMKBZD9YGVBKDro0n\n",
       "Ac021gPo2oBKUqDauH5CtTF+QA8jB2AcgC0PhGoDKoFpY4iAamNJwKIN1TagEkxHBqD5DYsjAxhs\n",
       "MYLEAM025gsYQWLAsAldG0p4MzCgxQj3P0iUiKJrY3VA08YYgGAzqf1UBythFUBT9RQjTQYyYCph\n",
       "b8CTcHEkbpASO7ScbIChjfkBFiWL8asBpQQDLEr4LqCI3cNSKLxlQFcCAKwIWvk2r4m2AAAAAElF\n",
       "TkSuQmCC\n",
       "\" style=\"display:inline;vertical-align:middle;\" /></a></dd>"
      ],
      "text/plain": [
       "<IPython.core.display.HTML object>"
      ]
     },
     "metadata": {},
     "output_type": "display_data"
    },
    {
     "data": {
      "text/html": [
       "<dt><a class=\"ProveItLink\" href=\"../number_sets/complex_numbers/_theory_nbs_/axioms.ipynb#complex_numbers_def\">proveit.numbers.number_sets.complex_numbers.complex_numbers_def</a></dt><dd><a class=\"ProveItLink\" href=\"../number_sets/complex_numbers/__pv_it/axioms/72b04c8a6bf0c174867bd6817c704499d6f811210/expr.ipynb\"><img src=\"data:image/png;base64,iVBORw0KGgoAAAANSUhEUgAAANoAAAAWBAMAAABUGZ8nAAAAMFBMVEX///+IiIgiIiIQEBB2dnbu\n",
       "7u5ERETMzMzc3NwyMjK6urpmZmaYmJiqqqpUVFQAAAB6qHgnAAAAAXRSTlMAQObYZgAAAAlwSFlz\n",
       "AAAOxAAADsQBlSsOGwAAAzNJREFUSMe1Vk1o1EAUftmf7E+SNh5aq0gpAUFdKuIPghQMglpBSw6l\n",
       "l6K7VbuKp6X1JtigogehbA+KYJWV9iJWGqUgatHtoYXiwbR6ETysUA8ehHqo2oPgm59kM+427MUP\n",
       "vnTmvWm+eW/mvSxAA7A563saWwmQhIYguYz1PGqnYHjEKSJ+bOfYLTOtA1TI9HOo2kfOeh7pj//K\n",
       "cx0oX2YU0d4F/T8d2AbwikzvhYnFi4z1PVWkHHzc4QxC2WoCLDiQsuAqyWguTE0pM1YxFfBU0UyS\n",
       "/Y4ziCuyBdDkgEoFIeaGqUU5q1gKeKqYtojJYiRoNQwa/FeZ5AF3dgBUfKZCj+0TZ60aWrVfvvUI\n",
       "TWeZEfG4hTtyt/lgHGCvYewPVZvhTK606aLajKD2cNN3TFOFEZd7x5esXOajHoAXAIOhauOcE7a8\n",
       "JqqNB9Xi61bWBhVzp9L8pby6S5jeOS8CjKK49x+Ju3ywfOLNmGfsZIx3gdIhqnUG1bQ1iOqg7QHK\n",
       "wPEkHa8CPwDIVqzkx7FCJNvzJSkG3Sa3HWJUViFCTM8NY59h7OYeqhZfJxe0CM0mJFaBEmDYQNDL\n",
       "nrvB3zSC6/XAJTmIfF3ACpVgXhfVojnIlsTYPDXIIHEr0y6kMa40ja3Pf+mgzAcTyOIcPnrnuklY\n",
       "P9ot2gpQrcURM5nV4T2EZBLL7a0FGiZbowmP+GpPSL0B7nQZ/5zCyxPfkfhNRLZLDt2TFEsOeKU7\n",
       "wJh14ZtmC2oDgloBTxbUHCO+Qq/2kgpNNCzg5DoZOwkSvlxWi/QCScp5v7/0MMq6llHE2HqCak1l\n",
       "GbOhmIyIB35wrfft0xleR014TtGSRC5mtKBUFvP5vCtJsafe2iHG+Jfjo5tFtSGhAlZmSf5KjIgz\n",
       "lyz/G3A4Q7Kyi8+ztjyPvmaIurQUJSk96a2NFBhre4lopbjGSTB51hDadrLD63j2yJTVCxFrAeiR\n",
       "YgUc9W4JNlPK2q4sWilmOTdq7xTp2aWTMOwmnumQvEB63Baz/6W36iJnLWqs5Guy4Rflpjhln4Le\n",
       "fL4kmPuE6vnXI0C2GRvYW9ra4AeFzljfI6CNs+7PCnEXKvxv/AWmxcq0x7P9rgAAAABJRU5ErkJg\n",
       "gg==\n",
       "\" style=\"display:inline;vertical-align:middle;\" /></a></dd>"
      ],
      "text/plain": [
       "<IPython.core.display.HTML object>"
      ]
     },
     "metadata": {},
     "output_type": "display_data"
    },
    {
     "data": {
      "text/html": [
       "<h4>proveit.numbers.rounding</h4>"
      ],
      "text/plain": [
       "<IPython.core.display.HTML object>"
      ]
     },
     "metadata": {},
     "output_type": "display_data"
    },
    {
     "data": {
      "text/html": [
       "<dt><a class=\"ProveItLink\" href=\"../rounding/_theory_nbs_/axioms.ipynb#ceil_is_an_int\">proveit.numbers.rounding.ceil_is_an_int</a></dt><dd><a class=\"ProveItLink\" href=\"../rounding/__pv_it/axioms/ed765b9ce39bef24b7b045c119fd287b533000200/expr.ipynb\"><img src=\"data:image/png;base64,iVBORw0KGgoAAAANSUhEUgAAAIoAAAAVBAMAAABrmWvBAAAAMFBMVEX///+IiIgiIiIQEBB2dnbu\n",
       "7u5ERETMzMzc3NwyMjK6urpmZmaYmJiqqqpUVFQAAAB6qHgnAAAAAXRSTlMAQObYZgAAAAlwSFlz\n",
       "AAAOxAAADsQBlSsOGwAAAj5JREFUOMuNlD9oFEEYxd/orrd/7o69IoV/CLKFoCCcoilsPAtFhQtX\n",
       "6DVpcmrWKCiHpBN0ISDYyAaJWKQ4iBaiwiqCRkHOQtFCXDSNaHGN0cJCsDCl38zuzN6FvU22uP1m\n",
       "Z+Z3b968GSD38WG5riPKkut2M8cYWOdhEYrpVCsc7C3d/nvHPdu16F96vP19CGUZeRR2uY3ABHYA\n",
       "L3n7bjZED3IpdgjWrQNmA9f4yiazKXY3l1L20dRpajHkIGhRNmUzMinsjLtbSAWel9tUHBSjzCG2\n",
       "fM2kWHMN+aXQu8pfC8B+1z0whPIsoeiVHzN1RbmpINjSmOKvcRIFTA2hLCQUG6POU0Xp24rlosjS\n",
       "B+AWjF7fzM8nXs/Jem9CeY9Pjd+KEqSDg9iLL1yV1pHLHPU6TMPxWtI+lFDaWEp9KZAF7q4klCcB\n",
       "Wt91SqCjzH1FhjOGt84aCrAvpehpLJo8Ir+ARS7rDf1UXmz3GZ9AlJFwzYpgreK0WtFORflJidH/\n",
       "kAtU1+dprr9iRk2hUjNacnNbMUW/WK6ipigVtc/hQ4oeQd9RY5bMLaJVwCNBsc8pyeMxpfRvompF\n",
       "imJGap/nYVyajBMh4odV2jDP8yLGtMeSciXR8sT59jFNnb5yP+5evDDmHR4jkXuUuqqBGaGFWfdk\n",
       "rDa1M0+AdSw+AeqCkU7NaoFNCoUvOCrdpWOWdxr7D21cbDsyAuM8VQ+21iaWZP/0hig3BpunPK8z\n",
       "8KG5Icr0Ojem4aCU3hqFWva16uM/9GKLn67j8F4AAAAASUVORK5CYII=\n",
       "\" style=\"display:inline;vertical-align:middle;\" /></a></dd>"
      ],
      "text/plain": [
       "<IPython.core.display.HTML object>"
      ]
     },
     "metadata": {},
     "output_type": "display_data"
    },
    {
     "data": {
      "text/html": [
       "<dt><a class=\"ProveItLink\" href=\"../rounding/_theory_nbs_/axioms.ipynb#ceil_of_x_greater_eq_x\">proveit.numbers.rounding.ceil_of_x_greater_eq_x</a></dt><dd><a class=\"ProveItLink\" href=\"../rounding/__pv_it/axioms/7a7abe75957c0525b4d0ab245d81779e724009d50/expr.ipynb\"><img src=\"data:image/png;base64,iVBORw0KGgoAAAANSUhEUgAAAIoAAAAVBAMAAABrmWvBAAAAMFBMVEX///+IiIgiIiIQEBB2dnbu\n",
       "7u5ERETMzMzc3NwyMjK6urpmZmaYmJiqqqpUVFQAAAB6qHgnAAAAAXRSTlMAQObYZgAAAAlwSFlz\n",
       "AAAOxAAADsQBlSsOGwAAAhdJREFUOMuNlD1oFEEUx/9jdt29/Tj2ihRJ5IhLKkU4gzapTlDQIuGE\n",
       "eBbXeKBrsFoktnEhkFLOQgkYwoFpBEPWKGhUJBaKFuISbUQhEdHKVkzpm8lsLrvMmRvYnbfz3vz2\n",
       "fc0A/x0RLN/3hOj6/rrSxsQ+gyVwOlutWGlk0V+2uPCtC+UzeqDgEPCcz/Nqtd5SUPSFvFmhhhke\n",
       "2SU1xV5X+TJ5OGfmxBwELVFT+qCMiI3UsnYnhVWhS1q+qClwchiKcdT3T3ShPJEUvfRzenxvdt17\n",
       "kZjPly+epjgmgKfAlS6UBUmxUfZWMzWyFoU3MftuDwPvgVswt/bs3Dj36nYqH5OUd/hY+52l3OUU\n",
       "J3L+FEn/CThY09pSZ5SDNtNwtiq/xyQlxFq2X9xFEZEBu8Xnm7Ti7Sb3RUgFYHjj5SjA8Wx2j6bZ\n",
       "7ROm9+lpvaZX6dlQxPgGovTHuYhgbeOCstIrkU7yBknjd0gR/SokdWGimc20uM0din6tWEFV0XX1\n",
       "9g9oNL+lZ5aS66Bp4KGg2Jd3O3lih+L+bVSsRHECNm88xrLsiGLIV7apYEEQJIxpy6nVdenLI+/r\n",
       "B9VpbJTcl7ztj6QLRsXEtPCFWUtp2AfCns60OSyFWa1lU81FXnAm7hyzXih2amIPnuqHeZWkBwPV\n",
       "xlqqn1LdDL4YYYcyl4VOBkE7s1DvyZepfW5M04PbuTWMqvpajfAPRmKEABDjpe4AAAAASUVORK5C\n",
       "YII=\n",
       "\" style=\"display:inline;vertical-align:middle;\" /></a></dd>"
      ],
      "text/plain": [
       "<IPython.core.display.HTML object>"
      ]
     },
     "metadata": {},
     "output_type": "display_data"
    },
    {
     "data": {
      "text/html": [
       "<dt><a class=\"ProveItLink\" href=\"../rounding/_theory_nbs_/axioms.ipynb#ceil_of_x_less_eq\">proveit.numbers.rounding.ceil_of_x_less_eq</a></dt><dd><a class=\"ProveItLink\" href=\"../rounding/__pv_it/axioms/2e6b37719bd1a646b926904102c63034e5b9db880/expr.ipynb\"><img src=\"data:image/png;base64,iVBORw0KGgoAAAANSUhEUgAAAN4AAAAXBAMAAACWruz4AAAAMFBMVEX///+IiIgiIiIQEBB2dnbu\n",
       "7u5ERETMzMzc3NwyMjK6urpmZmaYmJiqqqpUVFQAAAB6qHgnAAAAAXRSTlMAQObYZgAAAAlwSFlz\n",
       "AAAOxAAADsQBlSsOGwAAAylJREFUSMe1lU9IFFEcx7+jMzvrzOw2UgqlyboEhnWwKDoFE6QkUYxl\n",
       "VkiiYFNJxUbmKWpC6hLEdujPoWKzOkiKS0VZSYxEUtRh0UNBRrsoegsvQocOvTczOzO7zKaw9mB2\n",
       "3pv5/X6f+b3f9/cWWKERBAaitdZ8Mrq5kM2KjfXAF3f11NdGkIE0nUwXjQspy+ChGnhD73eL5h1F\n",
       "IV7IE7xMxSW6r51F88YK8aRNqvtYSlIk2FTRvIYCPGaD6jXbDskgaRZfvrg/r7U21+4esDUa3VY0\n",
       "T1RsXkvN4d0ph9fu9EXLGDgizf3AK+D48oImC78qM2xeksmIkSyv475joExBWgA+ATcQTHs8J5vf\n",
       "3cyNNdP9cq85cVXVl8jjlaQsnqRLi2Ejyws7PD71DGHiPwUEVDbrzddoCYbFHsWJc26uBxvRWJHH\n",
       "45ryFFaasHg8xLinftez+8lhC0pJt18mpZYdubyNEUEx+CA7ZSGbDYP/ZuTxgErDlwczqo9ehEVc\n",
       "JtEfkWl8nPyUj1bpDI1BeBW0UA/T5OiptqgiXJ5QgzC9T8iWU+5+AiM6p/r0A0l7Na0WufbdIo/1\n",
       "ubJUm2nABrsIl5MX+QbOyujjVw+vZZV63ly9100n61VAtnhtiRmwfv0eSOMs/Upy9RO5SOjiMWTy\n",
       "xG4aN3gswnQK5qZxsuLhXZ1EpblTPZaTNdi0xft54TmG886zO2Z+aeEPub2gKorRB7+JWDVNSzEM\n",
       "O2xqSwnL0m1NOwOWVTnVrd8sMlQJ87aTrbSIxWsvD42l/M5rbraKGtc7Dg1B9Jr5McJjGr0kURrj\n",
       "zcSGL4L18OqxgzTRfNbJHnVY6v+BJcINRuxFPxsXSWeY9UNjklNQEhuxDwIliQGPPuuEBXSMOk72\n",
       "+LwErxkHSd5iVtXiul0VCJ4gs8G1SvtrfidCY6eAa2SrpV+Zpgce3veJOA65TvYI6D68A1E6aOqo\n",
       "JXUg8XI/olXT7NYP4QhO077WetzXJo/TA4bPgUal/K/8pqto5JOFzsMnyAjx/IcmLywP+npcAX64\n",
       "q15fG0YvxDMwtAa+PGGciKiPKFnT8Z/HSgD+Ajvyz7YMYWbsAAAAAElFTkSuQmCC\n",
       "\" style=\"display:inline;vertical-align:middle;\" /></a></dd>"
      ],
      "text/plain": [
       "<IPython.core.display.HTML object>"
      ]
     },
     "metadata": {},
     "output_type": "display_data"
    },
    {
     "data": {
      "text/html": [
       "<dt><a class=\"ProveItLink\" href=\"../rounding/_theory_nbs_/axioms.ipynb#floor_is_an_int\">proveit.numbers.rounding.floor_is_an_int</a></dt><dd><a class=\"ProveItLink\" href=\"../rounding/__pv_it/axioms/ef4a67e9ee571b0eb9e3e2cb5f0ed83035f4ae030/expr.ipynb\"><img src=\"data:image/png;base64,iVBORw0KGgoAAAANSUhEUgAAAIoAAAAVBAMAAABrmWvBAAAAMFBMVEX///+IiIgiIiIQEBB2dnbu\n",
       "7u5ERETMzMzc3NwyMjK6urpmZmaYmJiqqqpUVFQAAAB6qHgnAAAAAXRSTlMAQObYZgAAAAlwSFlz\n",
       "AAAOxAAADsQBlSsOGwAAAj1JREFUOMuNlD9oFEEUxr/RXW//3B17RYpECbKFoCCcwaSw8VIkqHDh\n",
       "Cr0mTU7NGgXDIekCyUJAsJENEkmR4iBaiAqrCBoFOQtFC3HRNKLFNUksLAIpTOmb/TN7F/Y2meLm\n",
       "vZudH2++980AqcOGXGnPkoaCfQbzkG2KTHM7V3MPdh6a15qaAbR4/rsLZR1pFDZdh6MCx4C3PF9O\n",
       "hshOKkV3wZplQK1gjp9sIpmiN1MpeRtVmbZmXQ6C5CVTDiORwq6aJ/1Sgdf5OgWD/ldqF1l+JlK0\n",
       "RdG2TGuWTyvAgGme7UJ5FVLkwsZMWVDuxb0/Upnk0xgVBUx2oayEFB39xktBaWvFetbg0xfgPpRW\n",
       "287vF98vRvHpkPIZ3yp/BcWJP3YCLX7wqqRGdMx+q8EkXCiF+bmQUsdarEuGJDBPhKa8BND55smB\n",
       "hhD3HQnOGD4aeyjAmZgix7aocov8AVZ5WR/op/DmqM34BqL0uHtOBG0XV8SJjgvKFjlG3iYVKC4v\n",
       "0V57U/WqfpWSUouaWwso8q18ESVBKYg+u0/JegT9RMkCiZtFLYNnPkW/LkoeCyi5f+NFzRMU1RN9\n",
       "XoJyeyJwhG8/7FLDLMvyGJOeR5Q7YS0vjF9fY9fJm4+D5dWbQ9b5ISrylKiuqGDGr4VpjyJbHaon\n",
       "3gBtNLgB4oGJlFqQHJ0q9HXBSKQuXbO029h+aYOgb7gHyg2KnvSWxtei9akDUe52ppctq9HxR/VA\n",
       "lKl9XkzFQG7ADEyYM00j+Vm18R+N5oqz+Jl61AAAAABJRU5ErkJggg==\n",
       "\" style=\"display:inline;vertical-align:middle;\" /></a></dd>"
      ],
      "text/plain": [
       "<IPython.core.display.HTML object>"
      ]
     },
     "metadata": {},
     "output_type": "display_data"
    },
    {
     "data": {
      "text/html": [
       "<dt><a class=\"ProveItLink\" href=\"../rounding/_theory_nbs_/axioms.ipynb#floor_of_x_less_eq_x\">proveit.numbers.rounding.floor_of_x_less_eq_x</a></dt><dd><a class=\"ProveItLink\" href=\"../rounding/__pv_it/axioms/c68b5cfacaa00a4f0a64b832bc3c745ba71851820/expr.ipynb\"><img src=\"data:image/png;base64,iVBORw0KGgoAAAANSUhEUgAAAIoAAAAVBAMAAABrmWvBAAAAMFBMVEX///+IiIgiIiIQEBB2dnbu\n",
       "7u5ERETMzMzc3NwyMjK6urpmZmaYmJiqqqpUVFQAAAB6qHgnAAAAAXRSTlMAQObYZgAAAAlwSFlz\n",
       "AAAOxAAADsQBlSsOGwAAAhRJREFUOMuNlE1IG0EUx/9bd5vNfoRNwYMfBNljQYhiL57SUqE9KBE0\n",
       "HnIxULfiKYhedUHoscRDoQcPgfZSqHSrLX4iKrToQVxsL1KhilQQvIoendnMbjZhtubB7ryZefPj\n",
       "vTfvDfBfsSFlwzOeyLhHBBfadjBTHK6RYgCnVDmJoPxGAxS0A+t0fM/flkqRlONQdPEsZmhko3yK\n",
       "uh1F2f0eMtMcCoLo8ilNiKA86quxe+JZxSPScsynSM+MWrsFoNs0eyIo3xhFSv6b6g8o0lIAHkyN\n",
       "PCdxDAArwFgEZYFRVKSMJZ8iXVbjd4QztQPYB95CPg2dPHq5Ne/rnYyyh8PsVeBLlaLZ2nWC7P8C\n",
       "HmbFMluNpayyIOJFhs17GaWItVBe5CCiGNQSHWcB3QiSu1Ek5Srgh1FHAboistvkaR/IV9ohv+Rq\n",
       "my3QA4TS7NRFBOUWw9yb/mLTPjsiWv87cta+iLs5r3VEueB7XKhQpIlEGhlO1eXK5xDJ+JN8cyS5\n",
       "GgoxfPYo6qugkgcqFP0mn1bcug4gwePv9DIWWUUk6AJuyYVZluUKgrjom04yX74afw543ZhP6pv0\n",
       "wh77C7G0jCnPF0H56D8pD4oN9bTcwZQ5saSSO/fygj6n2maNUFTfRG192gz5NdE+tWTya/7+OIci\n",
       "mZ4Uq5Q3tdAhyyrXLOQa8mX8nhdTNqB3m5Ua003T4D+rNu4A/aOIEBga5bUAAAAASUVORK5CYII=\n",
       "\" style=\"display:inline;vertical-align:middle;\" /></a></dd>"
      ],
      "text/plain": [
       "<IPython.core.display.HTML object>"
      ]
     },
     "metadata": {},
     "output_type": "display_data"
    },
    {
     "data": {
      "text/html": [
       "<dt><a class=\"ProveItLink\" href=\"../rounding/_theory_nbs_/axioms.ipynb#floor_of_x_greater_eq\">proveit.numbers.rounding.floor_of_x_greater_eq</a></dt><dd><a class=\"ProveItLink\" href=\"../rounding/__pv_it/axioms/8a943a94e0b6aa3a308f4498efe5fa3690a6b9500/expr.ipynb\"><img src=\"data:image/png;base64,iVBORw0KGgoAAAANSUhEUgAAAN4AAAAXBAMAAACWruz4AAAAMFBMVEX///+IiIgiIiIQEBB2dnbu\n",
       "7u5ERETMzMzc3NwyMjK6urpmZmaYmJiqqqpUVFQAAAB6qHgnAAAAAXRSTlMAQObYZgAAAAlwSFlz\n",
       "AAAOxAAADsQBlSsOGwAAAyxJREFUSMe1lV1IFFEUx/+jM+7uzOy2Vgqlybovhk8WRU/BFClJFGsf\n",
       "VkigYFNJxYbVU+SE1GNsD0UPEdvXg6S49Gm1xBokRT0sCpYktIsmQSC+CD300Ll3ZtcZHVNYuzAz\n",
       "d/aec357zv3fM8AKDS9wyPHmbrNiYwPwee7tsauNHAQybDJeMM6vLYOHSuA1e94umHcULryjqXlW\n",
       "vggus7q2FsxLuvGknUGnlZpgSIjpgnl1cK3n6nqn2VaolLOv8O2LufPwzgm8A2wOh7cUzFM0i9dU\n",
       "dXhX2q6XsQH+aEpCImnuA14Cx5cXNLH4ki9l8RJCVgk59Nnzg921EagzwEfgOrwZm+dw49sbzlgT\n",
       "7S/28IlTVaOG7aUobfJUQ50NpJw8lo0n/QQB8h8BSiJi3FryVOlxQcRuLW98bqoDG1FftpA36pBe\n",
       "cdzkeaDEnOdv7CdXKjahmDy6aKuDebm8iQKCgPf5UAoVGynP19QC3pDzaOV44FHtenlutZZZdFH0\n",
       "BzSNDdKtdKDCEFgM4pWxjbqXodZTaVIVzPHkKgSAcn6CmJOznkC/IUVczgOlvYbtFl17bxLFmPKl\n",
       "m9mCIHrbiCsFZz11kpnRhy82XtOqSCc6OY47mUslQZPXHJ+A6HbeSzI4y8pCVzfJRUWbB708iNLO\n",
       "4nqPhYRWmRdNCmo23tVhlMPfHoHlZA4xY/K+X3iKPrd+pmTkP/R4Rlcgyn74TWLVdT0tCCJzQEAL\n",
       "BNVbun4GohhhJcrt3ySyVFUOZE6W0kImr6XUn0y79WtpsoIZ1+Yd6rw4z/MT5IcsVlG8OOrhifVd\n",
       "gmjj1WIbs/9lmE7WqMFS3weRhOsNWS/dYkyhk8H3D/UJSUNRtN9qBFoC9236rJFn+LdzOsKdrPFp\n",
       "CV4jDlDeSq7AyvodZfCeYMdzndbyyrMd/uQp4BqVWp3ONty18b4NxayPNXfK6cFw4e0Ps8FSRzXt\n",
       "A8Vz/omDum4dfT+O4DRVvUHvmFvmPMkoSbk0NCblf+U3XsEin1ysHz5CVo7N/5HzAsEeV48r1KzC\n",
       "1VZPzE3mDcFYjJdC71q48uRBEtFFUrJu4D+PlQD8BXgJ083u62e2AAAAAElFTkSuQmCC\n",
       "\" style=\"display:inline;vertical-align:middle;\" /></a></dd>"
      ],
      "text/plain": [
       "<IPython.core.display.HTML object>"
      ]
     },
     "metadata": {},
     "output_type": "display_data"
    },
    {
     "data": {
      "text/html": [
       "<dt><a class=\"ProveItLink\" href=\"../rounding/_theory_nbs_/axioms.ipynb#round_is_an_int\">proveit.numbers.rounding.round_is_an_int</a></dt><dd><a class=\"ProveItLink\" href=\"../rounding/__pv_it/axioms/7e9ffadf6c95626d0d18d18d4e0a54f55a70f30d0/expr.ipynb\"><img src=\"data:image/png;base64,iVBORw0KGgoAAAANSUhEUgAAAMIAAAAVBAMAAADm9CyVAAAAMFBMVEX///+IiIgiIiIQEBB2dnbu\n",
       "7u5ERETMzMzc3NwyMjK6urpmZmaYmJiqqqpUVFQAAAB6qHgnAAAAAXRSTlMAQObYZgAAAAlwSFlz\n",
       "AAAOxAAADsQBlSsOGwAAAypJREFUSMeNVUtoE1EUPdPMJJNMkqaLUrQSYiiCilCldiGiidT6gcoI\n",
       "EoWCSdVGRSxB7UrUwYIgSE0pFUEXA9WFn9KghfqjxIWKq4a2CwWhCUq14KIixSIK3nkzk5+dpAPJ\n",
       "vHfeuf973wAVHwVYEUG0OBaryXOZFRJcvrIDz+DPW8HjaQ3PavtPFgpmrHU7BlPFhDXlpnsSSDoZ\n",
       "/kLb315ei5Cs4H5tppjglEtPpRS4dAfDL2vZii2vREpXsDAqFxPcqdJTr4KIEGO4Zpy3SLetUgl2\n",
       "lRK2Gtk5FlzPwgfGvQmGu8kNp4WSj5Us3Ckl3NUrPpDPliN70cC3BIMtFkrGiNcujpEPYb8qNKbh\n",
       "lV3+I+EuyuuXhr86AQf9h9soBweYxPVCOexyt/YifBzotrBA9nn7GN+Mq6q4xHuaMUn7HKIKhhX7\n",
       "ouF4istJAeA9ylpmxs06mPB+iNkirVP7JgbM9SbghjMghbAWaLpEeubxsCaGmwlhO6SkTnAr7kUv\n",
       "RTnNJIqaL6nnflqLhlfN1PnjKsdjb8jYbwN6a0laWgB2yDYfNkOOqpiVCagJ6QSHbgtXmAJKeXCd\n",
       "MYv7AZnhHl++0C+p+ByHN76CBdaUthjEH7QSfwGzoEgIiKoGATZGH2YdVGj7iDYC33Q8+Zr+6p41\n",
       "KpzW3WShPlXIEp7QL+oDv0QrbkFTjz8CAZMmAaOKQF5MMYlA3sJXmghhQcc7hkivMufMRFh0vNhl\n",
       "zhE1DZq08U3DFkIP7LE3aIFnkY9mMO9RGCGifgZPnLdMoi7fq6lHNHYBHe+jQrvR5cBjZkE6kQ+V\n",
       "Ok38rc12FmeACZwPhShRXPKd3efZKOmE2d6nGDEalyYrk+/VIYhnYzrORg9L1FjxeDzDcfyIaeEc\n",
       "jRCLu62Rsn40/CGXoL3wPSPk9vQ36ITOOs8rTe0G/Sabu6+LDp9uje9sDZm4FlWziAssBs51zxyb\n",
       "mkSVy7tAEI0KuNr1W6McRx+flCgyVgfsTllcZ/89BYLVJZnHpdXheognafVgVajzuXl+qtonKk+4\n",
       "ZkEoww/F42oJEKlmIVLNl2o+ir4VEjiLDzrh/wByn8PaYLzubAAAAABJRU5ErkJggg==\n",
       "\" style=\"display:inline;vertical-align:middle;\" /></a></dd>"
      ],
      "text/plain": [
       "<IPython.core.display.HTML object>"
      ]
     },
     "metadata": {},
     "output_type": "display_data"
    },
    {
     "data": {
      "text/html": [
       "<dt><a class=\"ProveItLink\" href=\"../rounding/_theory_nbs_/axioms.ipynb#round_is_closest_int\">proveit.numbers.rounding.round_is_closest_int</a></dt><dd><a class=\"ProveItLink\" href=\"../rounding/__pv_it/axioms/cc9d1ec84be91daccfd48f3d0a22897fe10690e40/expr.ipynb\"><img src=\"data:image/png;base64,iVBORw0KGgoAAAANSUhEUgAAAUUAAAAWBAMAAAClN5ODAAAAMFBMVEX///+IiIgiIiIQEBB2dnbu\n",
       "7u5ERETMzMzc3NwyMjK6urpmZmaYmJiqqqpUVFQAAAB6qHgnAAAAAXRSTlMAQObYZgAAAAlwSFlz\n",
       "AAAOxAAADsQBlSsOGwAABDdJREFUSMfNV11oHFUU/mb3zs7sz2wnYkg1uqyhEMGXUfpoZbY00SqF\n",
       "EbRWgtkN1BXjDyu2byrTFnySuiqKIMjUnwelIbHWn9SQToVipZQMfbGikF2qgUCR+BASRMF779zd\n",
       "zoSdnQn44Ans3rn3u99+c86559wA2zOV/sVjfLN7L9uxE8ElG9u2O0GceIxvp3ovPxw7EVxiJC02\n",
       "/DWpRM3sp1F5Z87H+Ca5/4FGRnKODd9PqvFJ9PXjDs/HCHs3TuPPdqxGRvIaS6BaUo0L/TXOWj5G\n",
       "2OUYjd9/Fe9HRpKltMRLqtHor3GvwAhLW3013jKWINaMpEDjnU2cjs3+Gj8QGGFZt49Gea+eJB85\n",
       "yX0jI7uTasybTKMyrp6lGyslRx52UbRypUOVKZoxvw39IzDywO9HDlBoK7z90dIT+zwhST7j3hTC\n",
       "eCYjsIzkG+DppBrZOxGHZM4SA8cddZNoBpZAMm1UbXxsZ9YFJo+SfgYoNMPb56R2vuxrlFe9gLN8\n",
       "nt5YRnISavB1r+5ffCuMvn7460fEMOUxjW9ky9RZdwG7XqU0q/g8VcObDfl+5JsCcwlL1g0adiNE\n",
       "VLAL60VX+DGkkfGsRGAZScbqZphSqjsSwUNmF/rSyjTuxthg5xA4TOPRHcxVa8ADVlrHvbCqDpYt\n",
       "OpEyBaaBec63xjz29gizBn30X8LXqAZj7fPQssWhowhiGYmmd4/Md5RIknBR7+YfTQS4yjU3pJGX\n",
       "mHQN6p90pG4Ay9QtbKLqCAz4LyJnbMmVtB5xZmYtZSMCy0maF+jHwLfDNu8LVOMg6xanWrQF3eEr\n",
       "zSMUa9BUQ1UH2aQjaY0JxN8ynVjqYJDbxOP09ctb66ctWz1rzzwkIwLLSQ7QSi7ZK1nvIG9gRJ2i\n",
       "WmV9XTFkv7Zf+qmzL6NzjbtYS3GRNvEiMrWL2A1tnVQ9rGo2x8jTRQM07oVwbzjoXAfpXcMpTysC\n",
       "y0lO0NUCphSc5hrzh9mk+lRZquV4jGW9m5+sDhBH/Ys5t4XngEW8bJo03FLzh4yu3ZP3MdrGhJHz\n",
       "/DIUsOWjX2Im3AsbQuMiZt0ILCcpcuAm8GO9Xvckicyw56JZ1Avv1esvgBBLFg1DKTONOR7CfcM0\n",
       "8SYr19oN+izf8OT2gyeHfIz8hf7LFRb2cLmfGNAWvN53isnKeTsCe5NEMVQc4X6Ucp9YnD/dULgf\n",
       "Zl4B6TS1UcTfzUa7o+PbuPfsj8J2SU6QZp5WIZ6PGJuTTaQas6K4m3P4KHBLiNV4OXgDSaaRNOU9\n",
       "UdguSf72yiDUZ+jos9vMiXllD7SFZ4HXaRoU/miPf9g9NHa8xkwnahHXKb/PjHSqJptI6UUzAruV\n",
       "5LF6XQjQcAjPU6bx+nQIQU96rEa5tlVsrB+1C+ei7hSZyH8WPkU71+y1cAxSI66rHxPfO3svD8VO\n",
       "BJd2Rq65OH0r/i/2LzAFJpG//qQ7AAAAAElFTkSuQmCC\n",
       "\" style=\"display:inline;vertical-align:middle;\" /></a></dd>"
      ],
      "text/plain": [
       "<IPython.core.display.HTML object>"
      ]
     },
     "metadata": {},
     "output_type": "display_data"
    },
    {
     "data": {
      "text/html": [
       "<dt><a class=\"ProveItLink\" href=\"../rounding/_theory_nbs_/axioms.ipynb#round_up\">proveit.numbers.rounding.round_up</a></dt><dd><a class=\"ProveItLink\" href=\"../rounding/__pv_it/axioms/52e1dc378643a3ca4d15b31ae377fbc593b0a0270/expr.ipynb\"><img src=\"data:image/png;base64,iVBORw0KGgoAAAANSUhEUgAAAWwAAAAXBAMAAADdI2g8AAAAMFBMVEX///+IiIgiIiIQEBB2dnbu\n",
       "7u5ERETMzMzc3NwyMjK6urpmZmaYmJiqqqpUVFQAAAB6qHgnAAAAAXRSTlMAQObYZgAAAAlwSFlz\n",
       "AAAOxAAADsQBlSsOGwAABIdJREFUWMO9l12IG1UUx/+TnZlMZjLpBKxaa9c1iEJBSGUV0ZdZdNGC\n",
       "q1O0K7KwZEHjolCDrkVf7JSKIMJuFAUfFGJdCoLFtIpuP6jxQdFqMWx9qFRtim4fxIf2YekiFjz3\n",
       "zsedNDMZH8xeyOSce/+59zdnzj13AqxX01IVbqJwf+lmzzBLpdZ/mOl/bFvSBFLb+9atnqEfhKk3\n",
       "uaDD7F8GT23ayWMv38uuPwXujSnYTHCU2e8OHvuJfoNX6KPUAy/npGCT4BWWTZXBYx/vM6av0sVo\n",
       "BW6+mYJNAnZrcnvw2OU+Y/IIXYaEf2cKNgnydJO5dUjtep/BHEP5WfjvpWGT4I5SaXTw2AbtyLnK\n",
       "Gw9RaIt/YgelzAo+WHn1WioK82N72NP+jD47hh+/n+yH47CV4srchI9Ngi+Ap2IX8sPkRjuDrFNs\n",
       "SJHuM8hUeUnKVt/umiSsZTl6qPaz9n3QtmLBtU8jfxH2LktZg343nnP8EDel8wYlzHd8/RJvnQDb\n",
       "wLB12McmwTy0TmSh5e0n3uSG6vknuzACpdIUt0BbpIFCYE/F3TuQaUNrvUUhzVjIPNA+jEJdb9wK\n",
       "7TIebeEIU9xO87j51QLd3+m4aH+LH52/fGwSqI7c8Eezw9WGJONBW2ArnUTsxbB3GknYelCthxrI\n",
       "Ov+Q8SXZK9iGIUtR/oa5yjpuYYp7aH0YfAvsicOueXfHsUlgWuGOPFajs0rC15bANhqJ2KK8Hk3E\n",
       "xjsC26tzdwELFlkLNZgXKebUQfgeNsn40h/Gb8ltITYT1L+iS3FpsyuxyknYG5sCO0M9m/cuRbC5\n",
       "y7BF2RzxsNkcEWzuTogkAUtb5RLwiEvWTWDMG1o7L7E095IE+MRVKBjLcbkNfQ07fWwmmKCISO6F\n",
       "XHuSvxnI2kxLYL8OXF+ovB/B5i7DNpv4vEqtpdU5Np9DYHvuWd9TKYwZljGUKKNQO6jmnSEb55zx\n",
       "K4R/hgZmgMnG75DJ/CYm2sozhTJsH5sJ9hFLHjNZfMxXM56sRLbkAaClWrUINncZth6crcwo+HMI\n",
       "bM89EJwo9MsFlnAnoDZhdLKjMsuTTfnaDJabflE79+KnOOjXwquxzctTZb3tYzNBgUOtUVmh0LUl\n",
       "ST4Ywf6NPhtcKmzUZr3cJpdjZwNss+Pn9pqX27uZ2PXc3cFupwTZz/nHaCcof2yZv47506cwfc1L\n",
       "5xnB8/TbonmcZd7WuGgfss6eCnI7FGTLGuZ4tCV90RHYbNkX4Ea3JHO7kiTrRZvPEclt7gZJgtvS\n",
       "DqRM+Ei1kZRTMhTsk+sGlUKe2xjv2pJaebso0R3fZdiS1b0l+RwC23OLgft9GrZ4gRIvVQnYocC4\n",
       "YWwjtKfJ+miTPXVEYKsuDi0WnUi0ucuw1fAZzHJsPofA9tzZwFXdNO5Q+lra+/ZVgseqVVGm1e7z\n",
       "orduT4a9i4l1W6n0Wkltsoc/CXu2zyz+4b6UiC1GDDfxcBcx3pv6Z9MKKmfP0K/CzNpxgh5s2UnA\n",
       "zkfOz/Ek7JNY7xb8P+7CvrDLqy/VNpRoLoh/00rXJM6A4P4F8Qw9LCqvCq8AAAAASUVORK5CYII=\n",
       "\" style=\"display:inline;vertical-align:middle;\" /></a></dd>"
      ],
      "text/plain": [
       "<IPython.core.display.HTML object>"
      ]
     },
     "metadata": {},
     "output_type": "display_data"
    },
    {
     "data": {
      "text/html": [
       "<h4>proveit.numbers.absolute_value</h4>"
      ],
      "text/plain": [
       "<IPython.core.display.HTML object>"
      ]
     },
     "metadata": {},
     "output_type": "display_data"
    },
    {
     "data": {
      "text/html": [
       "<dt><a class=\"ProveItLink\" href=\"../absolute_value/_theory_nbs_/axioms.ipynb#abs_val_def_sqrt\">proveit.numbers.absolute_value.abs_val_def_sqrt</a></dt><dd><a class=\"ProveItLink\" href=\"../absolute_value/__pv_it/axioms/183fe76d857d11096c0fef8577619b02def67a260/expr.ipynb\"><img src=\"data:image/png;base64,iVBORw0KGgoAAAANSUhEUgAAALgAAAAmBAMAAACFcUzHAAAAMFBMVEX///+IiIgiIiIQEBB2dnbu\n",
       "7u5ERETMzMzc3NwyMjK6urpmZmaYmJiqqqpUVFQAAAB6qHgnAAAAAXRSTlMAQObYZgAAAAlwSFlz\n",
       "AAAOxAAADsQBlSsOGwAAA0RJREFUSMell09IFFEcx7+zO7s7u7PmehCzQJala7FEQRTFBgYpGJuF\n",
       "ER5aQdcORWJFtxryUBHUdjA6eNigS5C4ZNE/CyM6SAeHiCAILIKgDqKQKJrY+zu67Y5vGB88982b\n",
       "3/vMe9/f7/feE1CU1/BVQoMejMxv/uDoz6ptJnyyEVfPKrLbLxxnlRbRjBfOppXKgmNKXaayXuCX\n",
       "/XlrmycFeqt1Ggsqyee8sCO5qt3dKjHpMEs+WW5WfasvQ83TWdF+p4DXjpM/rfKp1cXqBqmaLZSG\n",
       "mcR91rxtg8n+1WXYFcsL/Depn+R0isY8NDonBEp4SX/vuQybhAe4USBqFGTuZAkcLPfNAgsjI+cC\n",
       "/+UFbhJFzHHnUU8CH2hDm0GURLJuu8APeIGfJDVYvqkEaXrUzCNOvhl1c+gfL/A2Ur+sitRDE5su\n",
       "JLIM7EyldrnB/wrm0aYTzbYLPERkwBNIo5u4TqSgYRIio58BPS5sY1nAS9p3EmEM/jhFyw7Opatn\n",
       "oTEEYWT0XnpK3Mr8OwvcgrF2F/jY8uaOk3oCHrfic5vGK2d+vkQjjra2QxgFV1ZmiNxpIWo4qxcl\n",
       "rClf1HQcllthbJHDIzSsKjWv+Uw4qKPNvZBGHERfYImYJBx/viJ5rGl4n/hv5sT9iWoOjVGfJAVc\n",
       "GPEXaQFH4S39/vOtFlOPwOtLFfARi+hboTlSRI2MkEUY8TUlheZoI/mkWT+jdgcLfd3okhlhiGjp\n",
       "KP6AXi0UJ4sIMF4XpBHP05yMtQHizzi6InjE4Ga3k6+hWQ6fujiK4Wrw2pzYVI5AGvGkzchYYzsm\n",
       "yNY+kc/nbU3Th53B+zi8s65mzK4GNxf4NoJ+SCNWAjREIouOf9MGLrCZa7EHztl2V5GhxlKM+yfQ\n",
       "V9Z/lQkvT5oBvWCSoGSa45B0KEZV6X8uyg+GeKmse0zuYHx9Ww7Ww6Bn4cPGTOcLx2FZBXxkWjRO\n",
       "ly2IeS1cfkIfz+eLZR2nbAU8IE/hjrW9Ycs5xtYpYbraBvnUsM69ykis6d3MV2Up7mRp+C8tqrvq\n",
       "4gbg+zf69XWKplx1sM83PGgrL8IF3/BGtcmQX7axR23TbvmEt9seJjDoE37Gi9E1n/9w0VT/B+K7\n",
       "2dZsOFETAAAAAElFTkSuQmCC\n",
       "\" style=\"display:inline;vertical-align:middle;\" /></a></dd>"
      ],
      "text/plain": [
       "<IPython.core.display.HTML object>"
      ]
     },
     "metadata": {},
     "output_type": "display_data"
    },
    {
     "data": {
      "text/html": [
       "<h4>proveit.numbers.numerals</h4>"
      ],
      "text/plain": [
       "<IPython.core.display.HTML object>"
      ]
     },
     "metadata": {},
     "output_type": "display_data"
    },
    {
     "data": {
      "text/html": [
       "<dt><a class=\"ProveItLink\" href=\"../numerals/binaries/_theory_nbs_/axioms.ipynb#single_bit_reduction\">proveit.numbers.numerals.binaries.single_bit_reduction</a></dt><dd><a class=\"ProveItLink\" href=\"../numerals/binaries/__pv_it/axioms/c2580fa18a89b8886aabfd2fcbcf83972f4f38450/expr.ipynb\"><img src=\"data:image/png;base64,iVBORw0KGgoAAAANSUhEUgAAAKkAAAAVBAMAAADP89MSAAAAMFBMVEX///+IiIgiIiIQEBB2dnbu\n",
       "7u5ERETMzMzc3NwyMjK6urpmZmaYmJiqqqpUVFQAAAB6qHgnAAAAAXRSTlMAQObYZgAAAAlwSFlz\n",
       "AAAOxAAADsQBlSsOGwAAAuRJREFUOMuNVUFIFGEU/mZ3Z2d0Zprx1iG3xZJACDYzipAYAiGQakAR\n",
       "urRGNAUdmqJTYJlBlyCWwBCKmOjSoXACI3KF1g6CeGipLoXQKkYQClpJebDt/bPr6j9OTT+8f+cN\n",
       "7//e+7/93hvg/1Y/58kb9ojQfy2hyLmN/l5vhMY+JCuxh+ko1Pecp5noaaXfbcEw8XSaKigAo8wb\n",
       "igAVc4CUVgyl7Nd8guweWZ0VDKzzaBsErjKCeiNQFUovLMY8cbjA3DGyVTLVCwbqLOtUJV+iGIEa\n",
       "Z8gZ3YDuo2aI02X2sC8YOMyqj1tQKa4uitYPVNfr9u0LFVSN+Eik2fv7wcDDPg0U1NrU1BaFOgJk\n",
       "y+Xyd+idez9DMenkTIoueCwY+KBhgTKSAl4AZ8L+oI0Oq0k33ljQV6Z3WKyW7KD4C5j0SW/yFxOT\n",
       "uGJl+6HSXW5DLm0GVb9AXk+2myxbPE7QOXR5Maryk4U9wLvAKW0ZcQMa8Z60Ei6ku9X3AyOuegjo\n",
       "phv0NdeiD5Jdc2ZZwUhk4i7wEvhB74JayUE3IS0SvsH+rDkyKWW7WqkDz3HrCIvhUKu8FqAtMtSd\n",
       "qCdtPQqgxkwMF1FPtSI3Ttt+srxDOcYVmHILeFRiQL3QsNLIKhEyjIFVKKSttwFeSa6vLGhMH0ep\n",
       "F6SllCX4qul7bJhQv/Kop8hmsUTH0oh7Ser/n+ii8IlgEzhiOxXAmuoGZRGaBa/H59vp+EjC0eY5\n",
       "VKYgW6Yr67+v3LGYcuZxvqI4bm0pJKndmPKwhS6eLKi5JxVURWCppFFcbKu13CWyGfEAEZf65tFE\n",
       "AE52spu1BOU4x5o55q61pKOUJm3bLmqOaOY26SzmcO6utTGbDu2ZgRohiBcvV2rFU0PO5/OjnHr5\n",
       "MTK1YeiErLFaMdYECZeddyGENMU5zktWx/3NUND1CSg9MyCfZQwOVQc5v3p4+nrDcgVzVle3bbt/\n",
       "GS8y/zG5XvnshH+htgJ/AOmRtTb1ciYVAAAAAElFTkSuQmCC\n",
       "\" style=\"display:inline;vertical-align:middle;\" /></a></dd>"
      ],
      "text/plain": [
       "<IPython.core.display.HTML object>"
      ]
     },
     "metadata": {},
     "output_type": "display_data"
    },
    {
     "data": {
      "text/html": [
       "<dt><a class=\"ProveItLink\" href=\"../numerals/decimals/_theory_nbs_/axioms.ipynb#one_def\">proveit.numbers.numerals.decimals.one_def</a></dt><dd><a class=\"ProveItLink\" href=\"../numerals/decimals/__pv_it/axioms/2ccccb8b1272c6c33b2e567a94aa7d476677c2ba0/expr.ipynb\"><img src=\"data:image/png;base64,iVBORw0KGgoAAAANSUhEUgAAAGAAAAAVBAMAAABLWfZ5AAAAMFBMVEX///9ERES6urqqqqqYmJgQ\n",
       "EBDc3Nx2dnaIiIgyMjJmZmZUVFTu7u4iIiLMzMwAAAD4QZJGAAAAAXRSTlMAQObYZgAAAAlwSFlz\n",
       "AAAOxAAADsQBlSsOGwAAAThJREFUOMtjYMAG2BgYSBJnaMYhztQAJPjuYIgzFzAwlHcloIm+PcDA\n",
       "0MLAcHrlHwwNJxkYOA14rqGI8eyaD9TACcQcmBqWMDD4MjAUQp3hABXtBypmWYBVQwADgzQDg/0B\n",
       "iPsakDQwxGDTwDyBgeEXA8N7AywapmDTwFXAwAPS4IBFQzVcw9q7IHAbxOR0YGD7DtTQgEWDJzYb\n",
       "eA0gGgqwaDDFpoFVgYEHqEEfqJLr7t2rsXfvboBreI9DA8jT9tg8rYrND0AnMQgyMPhjC1ZbbDYw\n",
       "ApW4MjCsZMCiwZGBgf0bugb2DSBbeOLQNNSDEtdyBu6tP7egaeC7AEw6y7sfoGrYHT8bGDGXsKbi\n",
       "eyjx3oCcIS5g1eCFkgcckBOBA1YNjAm4clYidmEeAVwaxHCIZ+AQ50hgAAAcJmOa8Tpt1gAAAABJ\n",
       "RU5ErkJggg==\n",
       "\" style=\"display:inline;vertical-align:middle;\" /></a></dd>"
      ],
      "text/plain": [
       "<IPython.core.display.HTML object>"
      ]
     },
     "metadata": {},
     "output_type": "display_data"
    },
    {
     "data": {
      "text/html": [
       "<dt><a class=\"ProveItLink\" href=\"../numerals/decimals/_theory_nbs_/axioms.ipynb#two_def\">proveit.numbers.numerals.decimals.two_def</a></dt><dd><a class=\"ProveItLink\" href=\"../numerals/decimals/__pv_it/axioms/d413b22246cc8399a743d40ccfbcde6da49a48d40/expr.ipynb\"><img src=\"data:image/png;base64,iVBORw0KGgoAAAANSUhEUgAAAGAAAAAVBAMAAABLWfZ5AAAAMFBMVEX///+qqqqYmJiIiIgiIiLu\n",
       "7u4QEBBUVFS6urp2dnbMzMxEREQyMjJmZmbc3NwAAADzFso2AAAAAXRSTlMAQObYZgAAAAlwSFlz\n",
       "AAAOxAAADsQBlSsOGwAAAS5JREFUOMtjYMAG+BgYSBJnMMQhzmEA1HT39AJ0ccYJDAxcruiiSwIY\n",
       "GIwYGF4zcP5Al4phYAi/8xVVjLX2PFADTwBDHQNDGrqGS0DMDNPAoQBl2AM1MF1gyA9gqH+ApiEB\n",
       "WQOjAZIGhlSGEgaGejRPMB7AreEQiOWPZgHvBNwapgMx12cQ94oLCLiDmDwKuDXoADFLAZoNLAK4\n",
       "NYgB8W30QGJrgGvgdXFxS3FxKYBrWA8MqQI8GjBsaGNgkGTge4DqB3xOEmHgmsDAHIBqA7cBbg3a\n",
       "DE/u3r2C5iROkCM5/6FrmA9yyE0G/////6Bp4HJgYGAv+1OEqqE8/zgwuD2wpmIvlHg3QM4QDlg1\n",
       "6KLkAQXkRKCAVQP3A1w56zV2YdYNuDTswyH+GIc48wMGAIpqSvorC1zOAAAAAElFTkSuQmCC\n",
       "\" style=\"display:inline;vertical-align:middle;\" /></a></dd>"
      ],
      "text/plain": [
       "<IPython.core.display.HTML object>"
      ]
     },
     "metadata": {},
     "output_type": "display_data"
    },
    {
     "data": {
      "text/html": [
       "<dt><a class=\"ProveItLink\" href=\"../numerals/decimals/_theory_nbs_/axioms.ipynb#three_def\">proveit.numbers.numerals.decimals.three_def</a></dt><dd><a class=\"ProveItLink\" href=\"../numerals/decimals/__pv_it/axioms/9164cdb0502f5b9f20ded32bf4210b3e301f339e0/expr.ipynb\"><img src=\"data:image/png;base64,iVBORw0KGgoAAAANSUhEUgAAAGEAAAAVBAMAAACkm51HAAAAMFBMVEX///9UVFTMzMwiIiKYmJgQ\n",
       "EBAyMjKIiIiqqqru7u66urpERERmZmZ2dnbc3NwAAABametFAAAAAXRSTlMAQObYZgAAAAlwSFlz\n",
       "AAAOxAAADsQBlSsOGwAAAVdJREFUOMtjYMAKHjCQJs7A3oBDYjmIeHtnF4ZELwPDm2Ob0ASZLIFG\n",
       "OTAwcB5g6Ec3kTOBgW8Dw/0FKIITj/0EkplAXT8Y5ieg6eBxYGB8wMAaAOEtgTkVpMOHgYErioEf\n",
       "XQcrEP1kYPwH4bUj62CdAGL2O6DpaGNgYDRgYPyERQcbSC2XCbrHz4JJ5g9YdPAKAIOgUAjsdmMw\n",
       "EACxU8Aq9Auw6GAB+wAjrCzApCEDFh0c4OBg/YmmIwps6QYQedjYONTY2BCug+kDA5MCA/cPbDoc\n",
       "GbDZwRXAwP8TogPZHyBXcVxgeIfNVQYMrAKYrtoOxLoMDJXYfL6BgcUBMz4uMjDw2Zw5Y4CqgxcU\n",
       "ozwXGBjWnMFIicrAyPj//38Cig5G0W8iQPEFWNM0swIyrx2Z8xh7LmA5gMxbgsw5giPj7MOV1fg2\n",
       "4JCYjUsHN65sy1eAQ6KOgQEA3XhWFOSiBQIAAAAASUVORK5CYII=\n",
       "\" style=\"display:inline;vertical-align:middle;\" /></a></dd>"
      ],
      "text/plain": [
       "<IPython.core.display.HTML object>"
      ]
     },
     "metadata": {},
     "output_type": "display_data"
    },
    {
     "data": {
      "text/html": [
       "<dt><a class=\"ProveItLink\" href=\"../numerals/decimals/_theory_nbs_/axioms.ipynb#four_def\">proveit.numbers.numerals.decimals.four_def</a></dt><dd><a class=\"ProveItLink\" href=\"../numerals/decimals/__pv_it/axioms/c91ac013cdf53f6d75bbec3db989932dbd8bd4760/expr.ipynb\"><img src=\"data:image/png;base64,iVBORw0KGgoAAAANSUhEUgAAAGEAAAAVBAMAAACkm51HAAAAMFBMVEX////u7u6qqqpEREQQEBC6\n",
       "urrc3Nx2dnYyMjKYmJiIiIhUVFQiIiJmZmbMzMwAAADCG2+HAAAAAXRSTlMAQObYZgAAAAlwSFlz\n",
       "AAAOxAAADsQBlSsOGwAAAUNJREFUOMtjYMAKEhhIE2fgUsAhEQWh3mJIqDMwpNeaognyHQQaNQHM\n",
       "PI2ugbGBgfECgz6qRdI3PgLJRrATMHTwTmDg+sQg3wDhRcKcCtIxF8R62Y2ug4WBgdWVgR+qQwtZ\n",
       "B4sAkCjA0KEBJvUnYNHBARTkSsDQcR1EsJ5kwKKDfQMDQyYDWAfvGTDYAGJ3gkJm9T5sOjiBTi1g\n",
       "wLDjEMRVClh0MDkwcCZg6nCF+B+k4s6ZMy5nzpyG6+D7wJDFgFUH3wMG5k9Y7GB1YIjevfvLdjR/\n",
       "AF3F/xG7DqYDIKY3uh1WQCdtgLgKw+cGIOZndB3VQJkJGPHB/g3klAIgcfn/LjQdb4A49q4pauhy\n",
       "b/mxk4GBJwBrmuZ5gMzTQubkYM8FnBeQeZHInJs4Mo4ZrqzGZoBDQhiXDmZc2ZZtAQ6JZQwMAM87\n",
       "WNkPSreeAAAAAElFTkSuQmCC\n",
       "\" style=\"display:inline;vertical-align:middle;\" /></a></dd>"
      ],
      "text/plain": [
       "<IPython.core.display.HTML object>"
      ]
     },
     "metadata": {},
     "output_type": "display_data"
    },
    {
     "data": {
      "text/html": [
       "<dt><a class=\"ProveItLink\" href=\"../numerals/decimals/_theory_nbs_/axioms.ipynb#five_def\">proveit.numbers.numerals.decimals.five_def</a></dt><dd><a class=\"ProveItLink\" href=\"../numerals/decimals/__pv_it/axioms/f5a5795727e00e986481dca4966902ab43b42b120/expr.ipynb\"><img src=\"data:image/png;base64,iVBORw0KGgoAAAANSUhEUgAAAGAAAAAVBAMAAABLWfZ5AAAAMFBMVEX///+qqqpmZma6urpERESI\n",
       "iIiYmJhUVFR2dnYiIiIyMjIQEBDc3Nzu7u7MzMwAAADH+sJ6AAAAAXRSTlMAQObYZgAAAAlwSFlz\n",
       "AAAOxAAADsQBlSsOGwAAAUVJREFUOMtjYMAGeBgYcIrzMTDcwZAIxKGBOYCBgfvXyrno4owNIJMU\n",
       "0ERfXmBgCGNg4Nw/4wK6hlsggrMARYy3aD1QHdcFBnYsNquBiEioBuYEqGg8UAObAlYNG0AuyoJq\n",
       "YAxA0sCwF5sGxgVAgoMLq4ZlDOyp7Q/QNDCB/ByDXUM7A8sFns8gruZMEJgOYnIBXc2TgF1DFojl\n",
       "iWYDpwDQRQzYNUiDWPoHUDVwGzAw5EA0MM2cOXvnzJkFcA3vGbyAGh5gaOAJwGGDNcNOBoZ6ND8A\n",
       "ncRcXl6/vQGLBkkGoOgWND+wgJVwY7UhheEQA+teNA0cYKX8Dmga+kFe1WDgUSpCT0t8E0De9f8e\n",
       "gKKhfP9yYHBPxpqK56HEewByhpiAVUMSSh5IQE4ECVg1sBzAkYEYjmAX5nXApcEHh/hRHOKsBxgA\n",
       "/mFSSSnXUDIAAAAASUVORK5CYII=\n",
       "\" style=\"display:inline;vertical-align:middle;\" /></a></dd>"
      ],
      "text/plain": [
       "<IPython.core.display.HTML object>"
      ]
     },
     "metadata": {},
     "output_type": "display_data"
    },
    {
     "data": {
      "text/html": [
       "<dt><a class=\"ProveItLink\" href=\"../numerals/decimals/_theory_nbs_/axioms.ipynb#six_def\">proveit.numbers.numerals.decimals.six_def</a></dt><dd><a class=\"ProveItLink\" href=\"../numerals/decimals/__pv_it/axioms/ffff94ca8f01a14d5caf2067e459420ddbc6fa640/expr.ipynb\"><img src=\"data:image/png;base64,iVBORw0KGgoAAAANSUhEUgAAAGEAAAAVBAMAAACkm51HAAAAMFBMVEX///+YmJhmZmYQEBDu7u6q\n",
       "qqpERESIiIgiIiJUVFS6uroyMjLc3NzMzMx2dnYAAABe+sMRAAAAAXRSTlMAQObYZgAAAAlwSFlz\n",
       "AAAOxAAADsQBlSsOGwAAAVlJREFUOMtjYMAKDjCQJs7AHsBwgYEFi/RyMPnu3QV0iTgGBvvdHQ6o\n",
       "grwtQKMEgIzTCzgb0DSwbGBgaP7xBFXQU/sLkNwCxNsZ2BLQdDABTZoA5y2EORWkQ4iBgfULpmuZ\n",
       "GZB1hCPrYHZgYDPA1BGNWwe3AAPz3uda6Dr0gHhi3VxsOvgmMPBvZGAOALm9AwzARm8E4hSG8wuw\n",
       "6GDcwOD/gYHJBM2OVjDJ1oBFB6sBg38DA+MvNB1WkBD7AyQ0OjqMOzo64Tp4PzDwb2Bg/Iipg20D\n",
       "A9NfLHZwGYDsBtuB7A+gq5gbGDg/YHNVAwMr0B/oAZwODBOgpgRsPgcK5jE4B6DpeMnAwKPAUOyA\n",
       "qoMP5C+mB0CG0lz0+LgBxIc0VVDjg3Py74kMDBwLsCZ2DpTEHI7MOYE9ezAqIPMWInMUceSoHFxZ\n",
       "jScBh4QbLh1suLItTwEOiRoGBgBfv1dYiyegpgAAAABJRU5ErkJggg==\n",
       "\" style=\"display:inline;vertical-align:middle;\" /></a></dd>"
      ],
      "text/plain": [
       "<IPython.core.display.HTML object>"
      ]
     },
     "metadata": {},
     "output_type": "display_data"
    },
    {
     "data": {
      "text/html": [
       "<dt><a class=\"ProveItLink\" href=\"../numerals/decimals/_theory_nbs_/axioms.ipynb#seven_def\">proveit.numbers.numerals.decimals.seven_def</a></dt><dd><a class=\"ProveItLink\" href=\"../numerals/decimals/__pv_it/axioms/93ade1e9e9bc9f0f2d3818243da4fef204a68cd00/expr.ipynb\"><img src=\"data:image/png;base64,iVBORw0KGgoAAAANSUhEUgAAAGAAAAAVBAMAAABLWfZ5AAAAMFBMVEX///+IiIgyMjK6urrMzMxU\n",
       "VFQiIiJmZmZERER2dnYQEBCqqqru7u6YmJjc3NwAAAATNysKAAAAAXRSTlMAQObYZgAAAAlwSFlz\n",
       "AAAOxAAADsQBlSsOGwAAAVdJREFUOMt1k7FLw1AQxj+r2MRGyeYgYkEcxc4udhKcDIi6FtQMTl1s\n",
       "URA6iThIBkWdFIcuCnZycGnwHzC46GadFMGlg2v8oqEk10vgPZLv+N1393IP0J4xIFP/9pXARAYw\n",
       "aAPtMAyvhF7wAPPiRKiLTD0JnNfrtZYIPdJ8GmspzVqfI5DzwWQf0nmfERuHcRlBrE4RGK2C2R0J\n",
       "sMR2r7WCnQBwy2WWZQtF4Ag6MMv1KQ3yLPN6abykAadcK3+fNTd6tqLXHKvuBrjRgGeehzxUDLdg\n",
       "hcCerwAPbKEogZESrB/gjTXlXXe76bpOD1hmvoYCoEsgUBzmgSdH9sCScPDv0AfcAwtV6WBEE8Me\n",
       "tKZfGfIkYNLT8Cx5SpcdbrvAl5wkDFW4ne2U08Dq3Qyb2lCneDP13+3khaiowEvqDgTJIQhUwOhk\n",
       "XKD+MYpnv5EFHGfo7xn6QAe/2aRWrJslCWcAAAAASUVORK5CYII=\n",
       "\" style=\"display:inline;vertical-align:middle;\" /></a></dd>"
      ],
      "text/plain": [
       "<IPython.core.display.HTML object>"
      ]
     },
     "metadata": {},
     "output_type": "display_data"
    },
    {
     "data": {
      "text/html": [
       "<dt><a class=\"ProveItLink\" href=\"../numerals/decimals/_theory_nbs_/axioms.ipynb#eight_def\">proveit.numbers.numerals.decimals.eight_def</a></dt><dd><a class=\"ProveItLink\" href=\"../numerals/decimals/__pv_it/axioms/648c22bf23e345c13ac82d561bcea5c60702a8600/expr.ipynb\"><img src=\"data:image/png;base64,iVBORw0KGgoAAAANSUhEUgAAAGEAAAAVBAMAAACkm51HAAAAMFBMVEX////MzMwQEBDc3NwiIiKI\n",
       "iIhEREQyMjKYmJiqqqpUVFS6urpmZmZ2dnbu7u4AAAABvK+SAAAAAXRSTlMAQObYZgAAAAlwSFlz\n",
       "AAAOxAAADsQBlSsOGwAAAVNJREFUOMtjYMAKDBhIE2dgncDch1ViK4h4e/c0hsRcBs7///9/QhVk\n",
       "9AMa1QBkHGDgmoCmga+AgTfnzBlPFMFXx/8ByToGBo4GkAJUwNPAwMvAwHwAwtsBcypIRw8DA+8C\n",
       "TB1MDAycDAxcUN5UZB1MDxg4vz3gaUDTMR1MXsSmgx2odv3Xk+gePwsimBOw6QA6iYHnvzPY7S5g\n",
       "sADErgARXBuw6eAA+mCu2X/0sAIHkhEDNh2cCgwcBxjm66Hp0AYR18HMIy4uSi4uXnAdjB9Anmf+\n",
       "iU2HG1Y7uBUY3gOpFWj+ALmK7xd2VzkwMAETVzKaHakgw/5g1cGRwMBdx8ARgKbjFsiwv+g6eD+D\n",
       "nHKBgUHqDEZKFAFFhyaaDq5F34GuZ9mANU2zCCDzpiJzTLBnD44DyLwdyJwTOHJUMq6sBk866OAZ\n",
       "Lh1suLItcwAOiWAGBgCybVeRgjDIZQAAAABJRU5ErkJggg==\n",
       "\" style=\"display:inline;vertical-align:middle;\" /></a></dd>"
      ],
      "text/plain": [
       "<IPython.core.display.HTML object>"
      ]
     },
     "metadata": {},
     "output_type": "display_data"
    },
    {
     "data": {
      "text/html": [
       "<dt><a class=\"ProveItLink\" href=\"../numerals/decimals/_theory_nbs_/axioms.ipynb#nine_def\">proveit.numbers.numerals.decimals.nine_def</a></dt><dd><a class=\"ProveItLink\" href=\"../numerals/decimals/__pv_it/axioms/8b429c3529aa742e1358196c78dbf1f22f4449ac0/expr.ipynb\"><img src=\"data:image/png;base64,iVBORw0KGgoAAAANSUhEUgAAAGEAAAAVBAMAAACkm51HAAAAMFBMVEX///+qqqqYmJi6urp2dnYy\n",
       "MjJERETc3NwQEBDMzMyIiIgiIiLu7u5UVFRmZmYAAAABFGnYAAAAAXRSTlMAQObYZgAAAAlwSFlz\n",
       "AAAOxAAADsQBlSsOGwAAAWZJREFUOMtjYMAKChhIE2fgEsAhYQUi+N7dwZAQYWA44vIYTZBzD9Ao\n",
       "BQYGnl0MM9Dt4glgYHjAwItq0dmnf4BkDAMDbwMDWwKaDj4FBiYFsD4QMII5FaRDj4GBP4CB5Q+a\n",
       "Dg4GBpYLcB1SyDo4DjCcT2Dg+oymQ5SBgfHbAaBNmDpYFcB2fELT8QSI7/96yIBFB9BukD9+gdy+\n",
       "GwwugOSCQPz/27HpYApg4GlmmPsRzY6NoAAu+y+ARQdjAwPDuSVSP9F0NAPNesAg3wNkvt69u2P3\n",
       "7r1wHZwfQEyMsGoGhwn7Ryx2MDeAmOD4QPYH0FXngdQlbK7awMDYw3B+ApodWUA7gOkgHZvPgZGx\n",
       "hyEJPVn5Am2PYWBagKqD5TvIKQ4MDC7vDNB1zAbiue8eo4Yu742vQGdyG2BN09wozpRC5lRjzwXA\n",
       "oEUCRsicRzgyTjqurMaegEPiGC4dbLiyLfsCHBLLGRgAGQRhOHmpH1sAAAAASUVORK5CYII=\n",
       "\" style=\"display:inline;vertical-align:middle;\" /></a></dd>"
      ],
      "text/plain": [
       "<IPython.core.display.HTML object>"
      ]
     },
     "metadata": {},
     "output_type": "display_data"
    },
    {
     "data": {
      "text/html": [
       "<dt><a class=\"ProveItLink\" href=\"../numerals/decimals/_theory_nbs_/axioms.ipynb#N_leq_9_def\">proveit.numbers.numerals.decimals.N_leq_9_def</a></dt><dd><a class=\"ProveItLink\" href=\"../numerals/decimals/__pv_it/axioms/657fcfc0830904624e93dba2069392e90dcc8c110/expr.ipynb\"><img src=\"data:image/png;base64,iVBORw0KGgoAAAANSUhEUgAAAVsAAAAaBAMAAADrkuKjAAAAMFBMVEX///+IiIgiIiIQEBB2dnbu\n",
       "7u5ERETMzMzc3NwyMjK6urpmZmaYmJiqqqpUVFQAAAB6qHgnAAAAAXRSTlMAQObYZgAAAAlwSFlz\n",
       "AAAOxAAADsQBlSsOGwAABLFJREFUWMPNWE2IHEUU/uanp2cm072NWaNBJeugrhrRQfzDiwMePOhq\n",
       "s4ogxs2gZo3BnwmBgAhu+xcIijuXRQ9RO8aLF40SFM0aZhEEjZHByHpQcDREV0RdCIkxKFivuqqm\n",
       "u6s6Dh5WP3hvq3ve1+/r6veqqxf4t1gMMDqK/wM+Ve40aj24TaePVSumKiuTs1e6bHzcBUba1nGU\n",
       "WyslNyvTXcplYk2PudkAp4AF05WFZWYe4oxCIH9eMP/+kHJpTJ540MeNx8JtpBaF0P4TyPt63HnC\n",
       "0rCumJ5D8Ybrq56JkYHdzDiBMvXpzDeJG21Ip+Phah/WMpz7SWN104a/gFxfr6ZmZDpKvTeBjcC5\n",
       "BoYJ+w/4yLG64wTK9AGdfSlR0k3pdHwf3AKwO6lyvfe0T7IZO26sJnMxuRcXuygAFfFIJuL1l9DP\n",
       "JU169nXAHCICZXpCK+KRUDodv7QqAcbYwP45gO1XabhLi5oXZpC7yKYmD9SiRrYuiTHiqK3n93ME\n",
       "mAYOQhB2RbKLvXjojC9drLXq9Q79XVood7hclH/1S91Km43e1UQ1hOl893lvJ8nF1fx07vNwwIgh\n",
       "d0GU/g/gNh8FXxBYphqrjEoi9gzlFN44UwyW3PZoJJc1a/Wzm2iwWnuQncgMfDf4MdfMq0eSt1uK\n",
       "EcMd54vOPAGsC1HpCgJlurJevyoR/JN0u48+s4a3cHlO/raEVikcS6p7K700UN2TGfhuUMIWknsr\n",
       "P/xSdE0iGndfJsNpdrso9gWBMr0HbEpkm5au+YhnnaSDSjCQ+7h1YUruDFUE3qkTLufh3cgMfDew\n",
       "905OssEniFr8a0iGip56WV2a1e6jHmodQaBML6CcXIpeEa4aXoTy7/xqGMit9RYb2D7NIDXMprsy\n",
       "3+Nm4rsBDjn3scFhOrL7YtVORLsDubeH9m89OA1BoEwlv5jMt144yzoFh69S22jiWpFcHHVTfbEx\n",
       "LbcQcjPxmVzXP0ITxY/ayHmCMYjGc6oYrLcn1rVhLwsCZXK8ZKep2YWzDJf3wJ2x2cWUlSqG2bZZ\n",
       "ronP5Fp9KoY9YrWNLpaIHrQaga0M1YYg8Ewd9i6uzW89R5PL2CNdelj5uFzbS201ZoJU7YpiMPGZ\n",
       "XGwtscEX8iXxoWSo6NhCFjWRMyYIPNME69sNe7oFWYs/SFdo4luf3m459Yp/gNlZrX9YGUpeZAZ+\n",
       "ic1Pbjvt6OiIZOyUDBUde00c9i1WzrWWIPBMT7NOe3YtRmTW1dKxuV9b409aFT8NViUXSXyUXndp\n",
       "4SEz8Cv0Qnqf2T7S5IkbSEXzlfhFvvqzV5HYEOyTmVyK+S6qJjVb5F5jhXqIn5raEt3LY8fYjVop\n",
       "uQfScu2xyHS+/eo1YoNwKSWmk7aHdHTsxm+mLU0+FIRBpmux3451SuQGeP3eeidrg6fvGcaFZfPL\n",
       "YzojE09JgspUXsb4V0PsyEx7WH1HdlDYaT5kujojE/OCMMjEtrGj8gp2Q7qhUNP3u6UgsmzsMDDU\n",
       "NwBfY8aTHz07zJn4LlG5YZDXdVmtyLKx2cDIAr+VzeZMQ36rxWD6gnpSWBZygYmRgbMlIeNbjX+J\n",
       "OEMW73//JTzU/xlU0/gr9n8GlulvDw5Lfa8SlksAAAAASUVORK5CYII=\n",
       "\" style=\"display:inline;vertical-align:middle;\" /></a></dd>"
      ],
      "text/plain": [
       "<IPython.core.display.HTML object>"
      ]
     },
     "metadata": {},
     "output_type": "display_data"
    },
    {
     "data": {
      "text/html": [
       "<dt><a class=\"ProveItLink\" href=\"../numerals/decimals/_theory_nbs_/axioms.ipynb#single_digit_reduction\">proveit.numbers.numerals.decimals.single_digit_reduction</a></dt><dd><a class=\"ProveItLink\" href=\"../numerals/decimals/__pv_it/axioms/0cd14f1ce5e880b5bb2db65ae9990f9b87200b9d0/expr.ipynb\"><img src=\"data:image/png;base64,iVBORw0KGgoAAAANSUhEUgAAAKcAAAAVBAMAAADROuOhAAAAMFBMVEX///+IiIgiIiIQEBB2dnbu\n",
       "7u5ERETMzMzc3NwyMjK6urpmZmaYmJiqqqpUVFQAAAB6qHgnAAAAAXRSTlMAQObYZgAAAAlwSFlz\n",
       "AAAOxAAADsQBlSsOGwAAAn1JREFUOMuNVN9r01AU/tYmS9ombQYyHDodfXDIUIoIiviQJxF/BhRB\n",
       "UDsfLDJwZr4K2s0fDwraF8UHHzLnH1BkMLB9qPqmqBWEosjWDfRNqIj4A6Se2+4mabJLvHC4J19O\n",
       "vnvuOd8J8J+ryB01CIgCo1dfnXvDq/usIJLhTeZ8iiR9zx3d5MfUBMcT/pQ5D6I45RKgjKQM4KSL\n",
       "3RPEEn6FlWk8ijRFx/e1YmWg6mKvBLGEJyxAqkeRxhlxLkOZ5jzMEsRa0CiHRGRJPwDa872bv0Iv\n",
       "uVhCUFSG78hmd0aSzgP5drv9HSnq0+zn64OUs9QM9t3DF4BzaxL5b/eQLGO8tTppmJOG/ItS7yT9\n",
       "JMvWdub68DtQm2txvrGVQ/v5wzayfP0oEKsj6WyB+pPElev9wI/3W5Lje6WOHcCLJuSDNnXH1c8e\n",
       "sqv2CnXBgSz/gf6DJNYKyM6H64bXp6kvE1iUrJSlztO05ZGxPNJuTYkUegtpumIykGkPXnrmqnGB\n",
       "TZdRljDDkpfqS0Xv+trFgd/D7Prsy0zNgj4SqKkfP0wjoFWnNgAb2avGx2mJKspYbx3jx50lW8E3\n",
       "Kha1N25iyTKhBUfGj1+jPp2aq8WLcieqIZ1+TNtijao9wOOPkBXUv1293LUxpNkddfUsP562gRtD\n",
       "VL9kR80NlAfZftnR1rnyvkS2LO9mPwDgEXDmNQnBCZCG8GXMQbtfKFwg0uPhCYvZ3Bt1sRnBoHj4\n",
       "LlQUxexmmnyH25VKxZ+IVg7/RqoCUhdXWxhtdCfrJbApHHmeO/1cEKJfm4cnm6AC3qRLKluLSIdD\n",
       "T7gSHw+yB1YQl/cVJgR3Ug3uTa/u6wWRhP8Dm9qn3QrUHngAAAAASUVORK5CYII=\n",
       "\" style=\"display:inline;vertical-align:middle;\" /></a></dd>"
      ],
      "text/plain": [
       "<IPython.core.display.HTML object>"
      ]
     },
     "metadata": {},
     "output_type": "display_data"
    },
    {
     "data": {
      "text/html": [
       "<h4>proveit.numbers.addition</h4>"
      ],
      "text/plain": [
       "<IPython.core.display.HTML object>"
      ]
     },
     "metadata": {},
     "output_type": "display_data"
    },
    {
     "data": {
      "text/html": [
       "<dt><a class=\"ProveItLink\" href=\"../addition/_theory_nbs_/axioms.ipynb#nat_plus_zero\">proveit.numbers.addition.nat_plus_zero</a></dt><dd><a class=\"ProveItLink\" href=\"../addition/__pv_it/axioms/bea0fccac2a58cc474226d079eea64e39ed7de2b0/expr.ipynb\"><img src=\"data:image/png;base64,iVBORw0KGgoAAAANSUhEUgAAAKkAAAAVBAMAAADP89MSAAAAMFBMVEX///+IiIgiIiIQEBB2dnbu\n",
       "7u5ERETMzMzc3NwyMjK6urpmZmaYmJiqqqpUVFQAAAB6qHgnAAAAAXRSTlMAQObYZgAAAAlwSFlz\n",
       "AAAOxAAADsQBlSsOGwAAAlxJREFUOMuFVT9o1FAc/u5fcnfJ02x2EDkyiaIcWpcikg5FBy2Hli4O\n",
       "OQejYxBXbajg2HYROlSIdHE44ZCKoh16g0Jx8KouisMJgrhVsOCg4O/lvVwvycv5wZe8JL/35Zff\n",
       "vwBjEUiqUB2zZywKfUEl6pb6/iPigC++5Gz8KJlBefoFcDjHlS3gJV+sqp9XVgSzeIjLAWot9bYH\n",
       "wF0eobb6sbEluI+OOJkNlNswu+ptbxG9sJwTupLkPnbESRuA7QFncra1YJIvtZywfpLMqB7sQv8L\n",
       "rKm31UjylG1P5qhuSFa/TVgJVZdU/wCzmWKLDMtUAc+B6zmqa5LrgbaXUF12oP8EtqPg2xGiWhKG\n",
       "JiV4CdXBiNLiRmiek+sTgpWzMBoZ1V/Ah3TNCEPWpMi3yqG8qx/xQjaYwTN5PSVo7KLo0PKpbZ+2\n",
       "7ZM8Ag7q5OtCumaEob5LytYwWa98uuwZcJKqpTbcMJ0tRtlaTydfGNbJV6z06DDXuxA1Bdidx5aT\n",
       "jIBr4V2qsqhYKYDvU3GVhoyH6xL1QuWo/hvz3Ij5M59j1WuCbh8/WDCqajZhUErepHyVhiZvqnv0\n",
       "GqOrN0XjMN8oxK02K6hZ7LiR8JW+4Iovqm4U0tDgXh2g56WwMMC253l95lecuPVvCVa+nl86lFS9\n",
       "Ov2djsfSNSAMi3H23UB73botfMWTeMQVfcFMb8mab6jLfHGYvWCh09L4DDJDFOL65eMjOUI66eGj\n",
       "wuZwAm/uXET1Bv/iVTlzOW5KqnE/5x+RmoBznhcmbsxLqpHzPu1/v5iqJaie+Tm7J4B/onaXPi+g\n",
       "YjsAAAAASUVORK5CYII=\n",
       "\" style=\"display:inline;vertical-align:middle;\" /></a></dd>"
      ],
      "text/plain": [
       "<IPython.core.display.HTML object>"
      ]
     },
     "metadata": {},
     "output_type": "display_data"
    },
    {
     "data": {
      "text/html": [
       "<dt><a class=\"ProveItLink\" href=\"../addition/_theory_nbs_/axioms.ipynb#nat_plus_successor\">proveit.numbers.addition.nat_plus_successor</a></dt><dd><a class=\"ProveItLink\" href=\"../addition/__pv_it/axioms/d3201edcad63f2d484dff912040f1af275c55b980/expr.ipynb\"><img src=\"data:image/png;base64,iVBORw0KGgoAAAANSUhEUgAAAU4AAAAWBAMAAABd12h0AAAAMFBMVEX///+IiIgiIiIQEBB2dnbu\n",
       "7u5ERETMzMzc3NwyMjK6urpmZmaYmJiqqqpUVFQAAAB6qHgnAAAAAXRSTlMAQObYZgAAAAlwSFlz\n",
       "AAAOxAAADsQBlSsOGwAABCJJREFUSMfNV01oE0EUfmmy+dtsG0GwB1tLrCgVpf5LEY2CKPi3YAl4\n",
       "aVrEWPBgUA9etNsKHksulYKiES8eKsZSkWqh6UFBejBqD1YEU+xF/KEFg61Q8L3Z2bKzO1n15sBs\n",
       "kvfm+/ab996+nQD8eYTpYkhdxj8iDMtZDfRPCMdowOkryTxyK0A0jpe7VdY3gAfINe5yT5l+fPCS\n",
       "qSXxMiV1TYFyuslpvKADrCZRRcl6Tuccqa1ggoQRWsdZ0POUDINeOk/hVHIyD1kjBYftyx3UGcEJ\n",
       "A7L1jM49bgIH2UbHaIWzoOcq5b/TS+cYTlWIzRD/JGudlfqotWQN3i5G6iedTIxlTMi1BVoCDrLz\n",
       "+yqcBT20iUDJS2crTr9gec0/yfrQCoIWt+mEHeR2xMdkaRVqioOipIiB7PxMp9+ki+GOIp7lScma\n",
       "luok6wGQ6rxF2XIW6LRF59IZYFV+S6aTsaBnayKx3UunSnU/QtUxWx8Xech6e8U3mc7jdPOyg2rE\n",
       "ouvf3yuCIjONJRPk0slY0PME4IyXTms/cM8IVkQetCqLetqQ6HxJVcVCN5ygsRlsQY7uhvO6AEoP\n",
       "KAsmyKWTsaCnH8LL+w7d4F/6RvKxvebXGireTahoD6hNIg9atQr44xKdb8nS6tjyJk53sgjDYjw/\n",
       "6rDFBLl0Mhb0BPVAfplplsQ2ZvJa+SA85sVP3jZM2BzUJM34bOPxIWsO6tCqJhJrsYDKyzp7iGjO\n",
       "obON040DNIMAGgX4YYLs/EwnY+mhLdkeo104n2XROKFCUtTp74R0XtwvWlH6w5IknvfoIW6tonMn\n",
       "KL/EeDZDdMkEueLJWMiTm8BL+8Rh0j7fqLMXgHblfjwp5j0dh1fgyju2z3FdovMNWZoc9cnzrsxD\n",
       "bE7UuQRqxQS5897E6Y5hx1c2hBbIsc5XSDF89uB7rjNIVF2oswSfNUPgQWtdFutWovMFPQHO10eX\n",
       "SacsQW3unQD6STXLQO7nqJPTXcMCUQshCm+wGMsNmTpVH7+L1ReCcW2jKvKgtbYYLDh0njDsLcg+\n",
       "rGbVBW8KBQH0Fc5xkJ0/sGDvi7VZqhofyfFn1fLLTCZT0rJKkjfkEMX9AoZ85lD/KpGHrLNjjpb9\n",
       "fd9tDE0LpTjvPKFwuo6Vl2eyAqjjCFVbi6iz9tPiV85iedJG8Dmmqw78pUtmPOGBFZ/1dMus7H0k\n",
       "WDX7sSxMm+tztmK2fj14guz8Zou0e/xGz5DeDjX6C+xTVBR58FldddJ+RBDOCYI1WvQ8cSyvnwRP\n",
       "kJ3ffQyKjr0+ChdLoUdxCJ+lDA3ykykVLdVbt/Rd1V3tJXZdfgrrtuiqgtyn/E63x2yE7ZmMUFgK\n",
       "rUxJmVPVbllFUMqi+/tdS6IU1eV4OjOEpX8K5FZsKEReX2V9L3iAXKPe7YnB/zt+A65XIEeXV4JR\n",
       "AAAAAElFTkSuQmCC\n",
       "\" style=\"display:inline;vertical-align:middle;\" /></a></dd>"
      ],
      "text/plain": [
       "<IPython.core.display.HTML object>"
      ]
     },
     "metadata": {},
     "output_type": "display_data"
    },
    {
     "data": {
      "text/html": [
       "<dt><a class=\"ProveItLink\" href=\"../addition/_theory_nbs_/axioms.ipynb#empty_addition\">proveit.numbers.addition.empty_addition</a></dt><dd><a class=\"ProveItLink\" href=\"../addition/__pv_it/axioms/3d075160c5b0d229ccc6ad0fbe727e0d3196138a0/expr.ipynb\"><img src=\"data:image/png;base64,iVBORw0KGgoAAAANSUhEUgAAAFMAAAAVBAMAAADInc9CAAAAMFBMVEX///9EREQyMjLu7u7c3NxU\n",
       "VFQQEBBmZmaqqqqYmJi6urp2dnbMzMwiIiKIiIgAAAB47hPVAAAAAXRSTlMAQObYZgAAAAlwSFlz\n",
       "AAAOxAAADsQBlSsOGwAAARFJREFUKM9jeHuHAQqgLBYGBwbsYBc68wXDOiKVcmxg4JuAoWr3cwdM\n",
       "pUZArIyukqmB+QpUnmsCXGklEE9HVzqXgWEjzNYHcKUJQMxmgKZUlIGh3wBdKYcCyD50x35nYDjf\n",
       "gK6UfQOQ4A5AVckMUjoBXSnYQE6Q0Qy1d0HgKiiofwOVPkBXytsA4iagmgpWugEoz3737rXcu3cD\n",
       "wErZFgAJng9oDgAqXY9hKlgpVwKmt/obsDvgAqpbGQQZGOZjBBYjiMUpgGbqNAaGIowoAIcTOMSQ\n",
       "AW8Dcw6GUh6Q3bwL0JQyVz89gBmxoETriycRIiWX6dAkQ0R6ZXRgYBEgTimzAEg1VrAXkbeywJQf\n",
       "wxPsKgFtN2rIQzKpCAAAAABJRU5ErkJggg==\n",
       "\" style=\"display:inline;vertical-align:middle;\" /></a></dd>"
      ],
      "text/plain": [
       "<IPython.core.display.HTML object>"
      ]
     },
     "metadata": {},
     "output_type": "display_data"
    },
    {
     "data": {
      "text/html": [
       "<dt><a class=\"ProveItLink\" href=\"../addition/_theory_nbs_/axioms.ipynb#multi_addition_def\">proveit.numbers.addition.multi_addition_def</a></dt><dd><a class=\"ProveItLink\" href=\"../addition/__pv_it/axioms/da0e4b4b13fc617f8c632335cd523265199f2bed0/expr.ipynb\"><img src=\"data:image/png;base64,iVBORw0KGgoAAAANSUhEUgAAAf4AAAAzBAMAAACEQHfIAAAAMFBMVEX///+IiIgiIiIQEBB2dnbu\n",
       "7u5ERETMzMzc3NwyMjK6urpmZmaYmJiqqqpUVFQAAAB6qHgnAAAAAXRSTlMAQObYZgAAAAlwSFlz\n",
       "AAAOxAAADsQBlSsOGwAABuZJREFUaN7dW31oHEUUf3eXvb27vUsPrfWTNKQtSIsSa2tjkXoVSkWb\n",
       "9NBcQZB8CIkBxV4bQUU061f/TPJPRLDSg/wjmNCzpoi20guSQKiSS9o/jBRy0YoIBRNoakyN58x+\n",
       "3c3szH3fNHYhtzPv7czOb+ftm/fmtwHIc0iRSBhu0yMSieS9xplOx8u/kzu6nnBLXfr5aPpGfvyx\n",
       "StzxGllVhcD0cDXHTZOeFIO/NkRUHUkh+H1BniZQLxb/FFm9XH3sR3ainwe46hah+D1N5Os3KGDy\n",
       "P0V/Xq7ndiZE4neShqgkbFeMsBuO8Cw7wb2X2WQN/fm5njuwWyT+78mqy37FDLvhDG/43DfbbOJb\n",
       "xr+7c5qHMPy7yOqcAPw1moc7yb3stCoOv2OZrI9hl3D1niADKEfMxd+//z02fu9CXTLj5uyHNyUO\n",
       "vzNF1vGsDKvuZQZQjpiH39cER8NM/O1D0oqx7igN2kEOIrAsDn8fFfw9hJaAJ0CpB2mKGrUubm35\n",
       "rUD8zyfgDHv+58PwCMAlfgi4JA7/r1R9L5qTRXCG4NgdWv1MQ8OjDQ0PgymO66AyYvJA87llpz6f\n",
       "FwC2ZqsyTb4BuI6ePH9QL4nDv8+O39UB7ajjWWrWdPEqDEQLm//HQFplz/9W8KEVcJg/qGlVFH75\n",
       "H7DZf3sQpsGOXxdPFIofGbF/Efznj9U5JqNkT2ugLBv9M99/aE+Iwu9YoQSd6O5J+COg2vHrYniq\n",
       "sPdfWoPawZ9eHE64Uo4U2eQv7BtywXOlROF3N9qDb3cwsEOxz78hlrdRbvFv/GwGjUKW/XfCbDz+\n",
       "0b2wIaqEyCbX4BVjpeWNql7Hrz2GKznx12q3TJSKH73UVPaJgCwc7L/bjt8QnwhT878DDyRuFLLw\n",
       "t218cyEKC9ALziTZpO1ZPN7t/FHVLOr4v8WnT3LiV7AJeEvO2dvpKNxprYezzIXeE/eoxcR/e2AT\n",
       "DMiMnjz1/FH5V3X87+LrOnLil7GNnCh9+aeD1UxaMstMdE688Xa4iPzHs4gsYFJh9KTksFl5SceP\n",
       "c8SaZO73fwidm0vGP2/rvcc4f3hqP6vBk+l0UdscKWS//XcxNLnmTLqp4/ejZ+TN4/9+QOfSc/Zp\n",
       "297fEUH7fD25lP8a/h+FUrvy4HehiCtU8ig22zyHJygEviOny7ph4P8aoCsPfiUK7tI3wQ+vz/3z\n",
       "xw38/eChQqP3x2L+fdn40QX9xQZ9H1vFC+sTf4OB3x2uyQpx5LruWCB1AM4S8U8XPFNs91et0p/r\n",
       "Ej5sMfAHgtnu7xxyVoFxBUIE/pni3d+e/wt+GBwHK4dw4BUz8M7nQRK/1488lnRoo+lQWseftndI\n",
       "COWlujDf/lWoEgfiKVho2T80o+XdzCG0lSkQPfAzib9mDmF4Tu0zxiw9KK/YF1RC6NjmMKOcwzak\n",
       "mP+oDgfCpDzYPIjp/+AD5P7MHGJEx684Ogj8HuwOz6EwWw/NlbjcCKP3k5mRJsykFwm/+cpstq3/\n",
       "l6FqHAhNefB5kH0m/lo8PiOHmOru7k4GolJokMz/fte2LepAnsX4XTFkKo3SIpnmxBxZ64grqqR4\n",
       "8Q/mP6rFgdgoDy4PcpPIf40c4nV9/mE0aMt/pRV4NQJO3FW76p4IqzKZ12rCi1cujh7EtQ3gMg18\n",
       "ns6gcVhePgfCVli5RT4eRLqejd/MIbQwxx+DzFRm8v8meXUC428Fl9o3EgZ3DBWlkPmjCWc6XDFk\n",
       "2a3oOuvR9tFQXVAJDoSj2E1quTyImf+QOYTnZZyfo3SYgf+LHzcmMP7epO/8zCEtcOxNyk3Qq+If\n",
       "XeiOvgDfafIvLQvaQD/9OagEB8JRnCS1XB4ksMbc/2nt7o7l2v/B9q8bdk04aBbxoZecyK/VJ7Ll\n",
       "SEa/6mNQCQ7EUpAcSAup5fIg+q5csftf8p3N4NO9yal0vVnEBqSX2uA+WFCz5Ni/NjKmqHwOxLJw\n",
       "kgOZonYUMzwIedQulrr/52cV/bxLUIWiv/D+bwU4EFNBcSCXSC2XB9F35YTsf69Rgr1QNgeSpaA4\n",
       "kD5Sy+VBBoKi8LP4jwpwIKaC4kCGSS2XBxHHf8BXbPsvkwMxFDQHMkv2lsWDkMcvIAz/aaqLTqgE\n",
       "B2LipziQSbIZlwcRyH86qQCgBSrBgZgKigMZI7U8HsQvkP+mF4DjUAkOxGI6SA5kO6Xl8CDGNwm3\n",
       "5PsXzH+Uz4GQCpMDsSiPPDyIyO9fYDpsy1HK50AIhcWBWHlVHh7kNRCI3xsi6z1QNQ6ESXnYhb5l\n",
       "kfjlJmpTAqrGgfQUJjTpUkHfv26iNuSC1eJAmJQHQyj2+1f6++dbfvgGC8c/UYn/f/hsfeF/S4cU\n",
       "iWzKj/92/P+HIf18NH3jP1dfheu83FKXAAAAAElFTkSuQmCC\n",
       "\" style=\"display:inline;vertical-align:middle;\" /></a></dd>"
      ],
      "text/plain": [
       "<IPython.core.display.HTML object>"
      ]
     },
     "metadata": {},
     "output_type": "display_data"
    },
    {
     "data": {
      "text/html": [
       "<h4>proveit.numbers.negation</h4>"
      ],
      "text/plain": [
       "<IPython.core.display.HTML object>"
      ]
     },
     "metadata": {},
     "output_type": "display_data"
    },
    {
     "data": {
      "text/html": [
       "<dt><a class=\"ProveItLink\" href=\"../negation/_theory_nbs_/axioms.ipynb#negation_is_injunctive\">proveit.numbers.negation.negation_is_injunctive</a></dt><dd><a class=\"ProveItLink\" href=\"../negation/__pv_it/axioms/bb0cbaf988ea7c65f5d196c4c1dbcdc2b58d31e10/expr.ipynb\"><img src=\"data:image/png;base64,iVBORw0KGgoAAAANSUhEUgAAAPAAAAAXBAMAAADHOt+bAAAAMFBMVEX///+IiIgiIiIQEBB2dnbu\n",
       "7u5ERETMzMzc3NwyMjK6urpmZmaYmJiqqqpUVFQAAAB6qHgnAAAAAXRSTlMAQObYZgAAAAlwSFlz\n",
       "AAAOxAAADsQBlSsOGwAAAw5JREFUSMe1Vk1oE1EQ/vKfZhNdoaAHCaUoiKJoURQRyaUo2MqitUcT\n",
       "D8aCPQQrvWkXBcFLyaVS0MNCRQQrRKlYrYf00EILYvy5+IOm0IvgQUGxCAVn9u+93WalIDvMvsyb\n",
       "2Xnfvvl5L0CIpAcZ0giVIo0gS0YFmix8CgX4XUttfxcNW4HnPBkPAzdRba2/TU+bhqsc8lIYwEq9\n",
       "tX6VnmyNsRFvhAEcC8jvLx4PIEvf1RZKit+3Vsc7eLwDdHV27g8FeIqTuLxF9anblvIU4JPAU+D8\n",
       "PxJl/eR0ZqlThCjrVdlCm8KEnjQj+7iTaQ+LxbHECrAAjCLddN5N3bKFa1NG9igLSWu+aLJENVda\n",
       "lHwV2bKbCvsIlA7fVr5o2Ae8paW1uOFql3mFfNnINbvxRAAnmswy3XWbpin5ZgqS5TB9yHdECz7g\n",
       "Z8BPYIRCpUq1dZCemQopZxUUBLBiMHsypTm5MGTfMclCwLESioYPeBsy1FATJFVnaeibPc6b/ZHX\n",
       "Itx+uSv3VQk4arKzx552XXSgq2df9Eq9SaEuqngFX45XoVDa35DUS5+Z2JFa4ZrZHqn1mxVT6f4g\n",
       "Ad802aZT+giVWk0pEw0KPfviI7k6ST5HwA18zfmuit84TVubJ+k6ZUmppfYyTD1bnbSAlUhJAN8z\n",
       "2aYZDFE2ncPO1bMvz1wLdUxSze1SfKH+hot2r22gnMaMCBdJrKI0F2gjjVwlUagK4M8mp3iPA5S7\n",
       "PMnO8qQfZr3OvhiWLJcokEvHRjf7gM+e4FzutGdFPTlHRbERscZla8d4qArgYZPtFK9g8IwItatn\n",
       "X0+oo5Xg4yHtNFlMH5nU+hDV5qm9+BA3YIagVXEdSv2ZQ0T1Fxf7YhOEJVtbxwWSefG6B0ON1CMV\n",
       "6QscpnH7praAkzqzTQ9ettfF1BXYFwOSgidBdMM7tRqhr1wWvWcB08GQ8R4E/e5lI+sTJckiSWvI\n",
       "+00Zbe0b9pE5bbJE0y0kiqAuz9Nq4J8ib4tlEQgc15ilV0VMZP2ix/Jf5Pwf1EwWMZVkzSMm1rnw\n",
       "X6CGvGEQzuT9AAAAAElFTkSuQmCC\n",
       "\" style=\"display:inline;vertical-align:middle;\" /></a></dd>"
      ],
      "text/plain": [
       "<IPython.core.display.HTML object>"
      ]
     },
     "metadata": {},
     "output_type": "display_data"
    },
    {
     "data": {
      "text/html": [
       "<dt><a class=\"ProveItLink\" href=\"../negation/_theory_nbs_/axioms.ipynb#neg_def_add_inv\">proveit.numbers.negation.neg_def_add_inv</a></dt><dd><a class=\"ProveItLink\" href=\"../negation/__pv_it/axioms/a78cc718fb00b1c938f71461a971fc79f471ce9e0/expr.ipynb\"><img src=\"data:image/png;base64,iVBORw0KGgoAAAANSUhEUgAAAQ8AAAAXBAMAAADn89dPAAAAMFBMVEX///+IiIgiIiIQEBB2dnbu\n",
       "7u5ERETMzMzc3NwyMjK6urpmZmaYmJiqqqpUVFQAAAB6qHgnAAAAAXRSTlMAQObYZgAAAAlwSFlz\n",
       "AAAOxAAADsQBlSsOGwAAAzRJREFUSMe9VkFo1EAU/dvdJLubTTc9iD1oWQpSUYQqoiAiUSj10EIO\n",
       "i9KLGyhGDx6CFW9qrEeh7KVSPEhEEQ+VrqAVasHdg4pWMN5EPazQiwehPRQq9OBMZiY7mSa1YvDD\n",
       "n82+efl58/+fSQBStzz1WHP/Av1X20091u4nom188S1FHZpBPN4yTQGQxisEXcD/ZlIUMkY9waZF\n",
       "oNAg6HVcUStFIYvUE2xJBMo+QQsmQM5PUcgg9QTLmgIwZxK0hMpTSLNF6sSTrCA2ySmGHurvP5yi\n",
       "ENUgDrmet8K2Xu7VEdwWbrjX85OgLwDO/zF8g/x8FmA9fsXY8wdgPjrzwJXXAEo4W2p/YFiT9Mus\n",
       "uQE6BflQpHIncuvkM690Irgi3VzyuEnMVTcL6fKpG3Awuk+Pg4p2qib0j7YGWT1AZTPXib/ceU6f\n",
       "7WntIXjOCTkX5p9yi5vPi6xH/BVpyrFg6QP4nhUsDpQVoZR1KBsBqulcrx4Nr146aKqlgsEJWWCT\n",
       "MuNOJwo5smnCghrCi0JGkLg5n6D1FhqqrdM4Dat9eCG5XXpwAmrXHuu8kArjyYw7GgY82YqURloV\n",
       "hdR0+IhjVqI9go4RlLwAHUXLkvYq6/gA3pPBbblPGTwT1M8Z+sIJydcZT2bcr6DayC5BlzdBk6UT\n",
       "30CLjwrx4YeG2lI4PMsOah6C3kLC1IaCkyM3cfuqluTMEiFqxuoIKVohj3EfsXjzcJZc4I2IHW2Z\n",
       "4cgTZV3br9KtzVl3U25QtNvBVc3gPGUdtU1K/A6t09ccyah3hGhtwpu3x227GXCvsnjHwiavEM+N\n",
       "tKJnqPR9eGonKpsnvPSW8fsgRGuu/BrdV4YsKnEZfR5cIRmBJ3pHiGIxHs5IwA1Lsx5GHqCeYJNb\n",
       "o1n3xqxZhS7zDVSh4IEhm+TcyLQjzRrwiBDMhR4W4C7kuLfa0tbvxC3Q4uKnEZjwlac6GvOLLTN/\n",
       "AaGXZ+j3ChVykfDorkFchFC7/WEH6wWXeMLnm7Ud1OfGqm1z1STEh5FzBBc4JizGpMTviniJAlo0\n",
       "O6NgJLDq8icrD/B2k3qs9W4HLXFjrBAYEuD38L+NrlwSYDO9J/wGfC7QJBn2em0AAAAASUVORK5C\n",
       "YII=\n",
       "\" style=\"display:inline;vertical-align:middle;\" /></a></dd>"
      ],
      "text/plain": [
       "<IPython.core.display.HTML object>"
      ]
     },
     "metadata": {},
     "output_type": "display_data"
    },
    {
     "data": {
      "text/html": [
       "<h4>proveit.numbers.ordering</h4>"
      ],
      "text/plain": [
       "<IPython.core.display.HTML object>"
      ]
     },
     "metadata": {},
     "output_type": "display_data"
    },
    {
     "data": {
      "text/html": [
       "<dt><a class=\"ProveItLink\" href=\"../ordering/_theory_nbs_/axioms.ipynb#less_eq_def\">proveit.numbers.ordering.less_eq_def</a></dt><dd><a class=\"ProveItLink\" href=\"../ordering/__pv_it/axioms/77d6ff7c532a194c5fae4b1c6707b9c6decf64260/expr.ipynb\"><img src=\"data:image/png;base64,iVBORw0KGgoAAAANSUhEUgAAAUcAAAAWBAMAAAChwkO+AAAAMFBMVEX///+IiIgiIiIQEBB2dnbu\n",
       "7u5ERETMzMzc3NwyMjK6urpmZmaYmJiqqqpUVFQAAAB6qHgnAAAAAXRSTlMAQObYZgAAAAlwSFlz\n",
       "AAAOxAAADsQBlSsOGwAAA0lJREFUSMfNl01oE0EUx1/SbNJsNutWUIrFkgZB/CSKIAhCKnjwUNlC\n",
       "FUQo7UEoHiRYr0ps8VAEyUXIQSEePVWDoi1WUw8iFG2QXkI9RNCC4MFbe3Rm583szuxsN0cf/EIz\n",
       "ef83b2bevp0CRFoV2eVn1fqRniXV+Ol3cQFItBlR9kwzdhDpVRIXn9OlA981ThtI5CJaoaF8mdGz\n",
       "JC4+Z5kO1MM+Ro0hWyew+Y9DmmtIpHkS2yUfGQd08VVn5B4to6mwS67FkOzj68CXtZDmHRJpnsSi\n",
       "+aUroIkfckayZF0pTWn0IUHbe1HycFVNCZFroK5KCoQF0MRXMnAFFllNVuPSQQIFcMGRvmfVfcjX\n",
       "GJJZx1xVMkZYgVB81agz53SxeEbj8goxBn7dGfNybPKkjKEWTJL976oVUmYICS3/Q25IsoC7KccP\n",
       "7IbvzHkDcEOT5BMkB8NOkyp/i5pI5UuwTvbI27RmkdrJ4NK5hNjEiEZiVyDhgBI/58UpdmVnziPo\n",
       "72qSPIF8hnX3Dx3wk7ybK8AWOVm1/JJthpDAw+M6SaYLSRfU+L4FnDlpN9XQJHkOqcASvk3Ecbt9\n",
       "Dpwic/1VK73BEBL7KWglddgUcwhn3wLOnLyje25EkkD9lQdn0c1sA5iliCSFxE9SlmxgY5bjg8aZ\n",
       "A7VV8jHwdoj0aXMYbOW4wdyBK0oLWoIEPYaCUpP8uH2JOG5JAsnMlJiDOwdqMuDMgTHS0hPVrSwJ\n",
       "P77HncWo0wzjpl2CstLMb0GaBLPUV0Da8QhK+IMjSxJfG3wOOX7ImQPzdACmM+TPB99gPzpeZuS3\n",
       "r5dMv9d36IsC3sNii3UbybBfSJLxEdYmJYlxRMyhxAfFmUM7ArEd7+ef8AMdbzOMl87mF7VmJkc/\n",
       "kNpIqs9bpuAhSyzWKGXJipgjJj4HJyh598CjcJb3kwpDb5cIc6HRw4j8yqlHSuLjzwVF86laDibI\n",
       "FCbvK9YLhsZSNeO89iqxpr12REvi40tXltyB0X0w24bNT+LdO4PwBsSePrr2pGOXtVendJURtgjJ\n",
       "DOzuzAla26imxa3hKhK2/OoyaLMxphg9S+Lia1Zturbz3P9/xWFE2aBm7D7SqyQu/mBYZIG5Wob/\n",
       "0P4B8UwLoxXirbkAAAAASUVORK5CYII=\n",
       "\" style=\"display:inline;vertical-align:middle;\" /></a></dd>"
      ],
      "text/plain": [
       "<IPython.core.display.HTML object>"
      ]
     },
     "metadata": {},
     "output_type": "display_data"
    },
    {
     "data": {
      "text/html": [
       "<dt><a class=\"ProveItLink\" href=\"../ordering/_theory_nbs_/axioms.ipynb#transitivity_less_less\">proveit.numbers.ordering.transitivity_less_less</a></dt><dd><a class=\"ProveItLink\" href=\"../ordering/__pv_it/axioms/5b78a7ab6ba3fa1d1e3ffb772b8741309cc27b2a0/expr.ipynb\"><img src=\"data:image/png;base64,iVBORw0KGgoAAAANSUhEUgAAANEAAAAXBAMAAABnpbd1AAAAMFBMVEX///+IiIgiIiIQEBB2dnbu\n",
       "7u5ERETMzMzc3NwyMjK6urpmZmaYmJiqqqpUVFQAAAB6qHgnAAAAAXRSTlMAQObYZgAAAAlwSFlz\n",
       "AAAOxAAADsQBlSsOGwAAArxJREFUSMetVU1oE0EU/tJks5v96waqFIslLULx57CKID0I66EFkcoW\n",
       "IigqxINgRSEa8dBDSa09aEHiQeilEKEGlIJWkFbpIUUQQcTgxUM9pGDFg4dexB59s7ObbDduaGEH\n",
       "km/mvdn93n7vzRsguiGFu4qIdOwPdz2lX51NvkdBpFnhvlgVeMcms1EwXWjnfAJMMIFzUTCttHN+\n",
       "AlI2kKhFwWS2yOmTKm5DJQVTkaSpFDCoh+3mIkU0x/r7j0fBpFBBCOmNOyNeERxwiW4PSFUkqPKW\n",
       "gKthD++GiUWtoNd4zZfZPtcuPB4+Sx9IX/wIUj3k4eRumDoo2R/xxf7trGaONM6zjSHSlrKYtBPl\n",
       "nTHZLRv8lji9JY+3fKHP+TxZ2iZuEpsRWhDbmWY2gv5tlrgT79FWJsmgP5lVZmmV/tLLPdSb5F7o\n",
       "ThJnXzSZYj2TywQTv6ip1J2e4gKziAcflpvqQd7CuYB6WIBA35Oh2Qid31jxZ4p2jnbaBeZcmn/V\n",
       "ZOrWcxRhhdgE449oNoBZoIyf8QQwIFzXTViBitBqLHqVNYcpik/FFZGm01+x13Hf96lXTRp5VIaY\n",
       "DpczsZwHjoUWXrejOtb+XjRlrwuM9vEs3h3uGuBnAHqeGbYc8w+sMxANf546ixBPcvkt3XDBteCW\n",
       "J5KYgbBorH1unlx+oCxtkPTtaFSdaDq3yyGc4NJO+5gKdL1kbzq5KMfzHnCLXJW8AhwIFozq60b3\n",
       "vMlUoqQgS7vlTQJpbjzXYJLM06CsxW4wivxLCJYDruXBt4qvie6g/Sr7Tu1BoYa1DyUC5dJgsflN\n",
       "i/NpFrZKL9ZWxpiQDFzLm/eNwJNtLtbgbVETiknqKbX/nyftGs6D0XHgFt8Q2tw9gShkWzeeMwjt\n",
       "Rusyta9nHFrHZDhTdyCDkFctBqFMC12s6jlEOqQoX/YPqHuZChTTWQ4AAAAASUVORK5CYII=\n",
       "\" style=\"display:inline;vertical-align:middle;\" /></a></dd>"
      ],
      "text/plain": [
       "<IPython.core.display.HTML object>"
      ]
     },
     "metadata": {},
     "output_type": "display_data"
    },
    {
     "data": {
      "text/html": [
       "<dt><a class=\"ProveItLink\" href=\"../ordering/_theory_nbs_/axioms.ipynb#max_def_unary\">proveit.numbers.ordering.max_def_unary</a></dt><dd><a class=\"ProveItLink\" href=\"../ordering/__pv_it/axioms/c619de107728b41083d1940d72422213f1ece1390/expr.ipynb\"><img src=\"data:image/png;base64,iVBORw0KGgoAAAANSUhEUgAAALQAAAAVBAMAAAAdo9lKAAAAMFBMVEX///+IiIgiIiIQEBB2dnbu\n",
       "7u5ERETMzMzc3NwyMjK6urpmZmaYmJiqqqpUVFQAAAB6qHgnAAAAAXRSTlMAQObYZgAAAAlwSFlz\n",
       "AAAOxAAADsQBlSsOGwAAApVJREFUOMuFVU1oE0EU/tZsks3upmzAHKyalhwEBW0Q68FLoragB2WD\n",
       "Eg891IDG3iyiIB7qQqEHDyU9+IMUCdiLYDWg4C81HhR6C60HC4oVwZPgQYrF1J83k93sZpNxH+zu\n",
       "2++b+WbmzZs3wH/NCmIUAa0gwKR6EKMa3XmGrzLng0DgHaYHMszJ7rH8jG3bBF0Jf86+t7rT4TIw\n",
       "tUGO/t3qZJoWM7v3JXyCBeZ0d1qrAfmdbPmvzE6maXq1e1/C2aiyIKQhevJ9NOErfumQ6w4KIjII\n",
       "ncaPCdgVJj1K0zL80iuuOyvoTPjedHqfgH3MpHtoH2skrSeGTP38hvrjpsOkTg3Rco/7e7n4E+Cs\n",
       "eGDk1d+ImyS9bGllyGu47TBV6bPWDyzy2Ke58XRz8Wkoqx65paMLM46/m0ljByRwaXUduKGP24xu\n",
       "6Ws9FM1l//65eMSUKzYaTZUqkowjOfv/AJfus64xaYTnSPrEN4eJQuMZeNUn7cHjRmsXX9CMJAlv\n",
       "jDbp0ZzBpMMLH0k6/qvFIMTb3e1MrBZefk2vxNOtlsSSlaST1baARDI1HpBKlKS1w6bD4KEVpp8l\n",
       "f6w9+LHrJGh9jdULvDjIStE5D0Uurf4xmXQD6vplDEfKNlOofIFM7lvfnL34JI2loxjFfS6tnWmd\n",
       "TZZXD4D9AB30BqSf72Uj3LCZT5ceYd7OQ6958R6+57TYxVKpVJcked5pdYFKSHYWvUhl71gT25OH\n",
       "Ng+U9b8zTWYkEX/JTvEun3QHHs0ouMhnLalzztHbNC6qqS6j9AsKtoNPymWN0pDHGsPVgNLjZdxC\n",
       "JShgWu/BJJRz5N3bkht55vBjwkuixUwJGvjwk6VSpX23hdKFoNHHAi4wxQhiJMHtSfg/uliygooP\n",
       "I/sAAAAASUVORK5CYII=\n",
       "\" style=\"display:inline;vertical-align:middle;\" /></a></dd>"
      ],
      "text/plain": [
       "<IPython.core.display.HTML object>"
      ]
     },
     "metadata": {},
     "output_type": "display_data"
    },
    {
     "data": {
      "text/html": [
       "<dt><a class=\"ProveItLink\" href=\"../ordering/_theory_nbs_/axioms.ipynb#min_def_unary\">proveit.numbers.ordering.min_def_unary</a></dt><dd><a class=\"ProveItLink\" href=\"../ordering/__pv_it/axioms/7df364387f7097a264361920ef692dfc45f0c4230/expr.ipynb\"><img src=\"data:image/png;base64,iVBORw0KGgoAAAANSUhEUgAAALAAAAAVBAMAAAAUSHkwAAAAMFBMVEX///+IiIgiIiIQEBB2dnbu\n",
       "7u5ERETMzMzc3NwyMjK6urpmZmaYmJiqqqpUVFQAAAB6qHgnAAAAAXRSTlMAQObYZgAAAAlwSFlz\n",
       "AAAOxAAADsQBlSsOGwAAAnhJREFUOMuNlU1oE0EUx/9bN8km2aSbQw9WSUsOgoIaxHrwkERQ0IOy\n",
       "AUkPPbQBXb01iF4E7UKggocSKYKHIgG9CNYGFKwfmHhQ8Baql4JgSsGb9CR4UPHN7G72IzupD5K8\n",
       "/N68/8y+eTMLDDVzOFcEYQW7mNQdzhNaeJzxHnO+CoS/YOlonjnFI2a94+W27RckEn/Nfh+EhyMN\n",
       "YPE3OeqOibWWj1sW18Mzid9mJZkLDydpkeWD7NHbOiJ+bpnaCs8kzuaUBaXcQ5/yBG3UzbYe5LZN\n",
       "CWoxBZVmjwuim0x4lhal+YU3XXdFkEr8WC53XBB9wYTTtHudtq4s92LL65mtPs9On6YHvRDMcflL\n",
       "4LJ4WpQTf5DSacXxHkZ+YMG0eUvaSk4Cn3jNc9x4g7l8CUrPI7Zx7t09xz/MhHEAEkg42kM0j9GO\n",
       "xVVT/Zkm/3Nw11we1eWmTWNZoynJOFuy/5/kwhPmXUd4DqOaxWNI8p5bCAh7eErr792bGnWWhA+a\n",
       "T3i2pA0KU2vwUY8GW6nPG+/pK7O+z5TYY5LwWMtXimi+ExBmHGtmhFplI1hjDz9/n+TM7/FuhV8D\n",
       "slJ1+r/KhRN/9YAw8UpzGzK5HwPr9fI6zaSiGsNTLpy81D+HrJeeAScAOtKkGreFiX+78Ryrdud5\n",
       "zcvTNUZ+UYsYhtGVJHnVGXWNroriCsaRLT68s12Y3incmi9YfCaTesvO66GA8ACP5RVc5yuWEo+d\n",
       "YzZSC+9vlyuTggvZ4XW5kaTG4zXGmdbuV8zAdTR4fVnO+KkxKFfIe7K3NPPKiV8VHMk+XxQMCPCL\n",
       "htH077Egr/LfM4veXdpwLgneicT/AXrlqVcsRbV+AAAAAElFTkSuQmCC\n",
       "\" style=\"display:inline;vertical-align:middle;\" /></a></dd>"
      ],
      "text/plain": [
       "<IPython.core.display.HTML object>"
      ]
     },
     "metadata": {},
     "output_type": "display_data"
    },
    {
     "data": {
      "text/html": [
       "<dt><a class=\"ProveItLink\" href=\"../ordering/_theory_nbs_/axioms.ipynb#max_def_bin\">proveit.numbers.ordering.max_def_bin</a></dt><dd><a class=\"ProveItLink\" href=\"../ordering/__pv_it/axioms/112a9c7f7c68b65c22eb9c549f5045dd5acb93350/expr.ipynb\"><img src=\"data:image/png;base64,iVBORw0KGgoAAAANSUhEUgAAAV4AAAAyBAMAAADmRK68AAAAMFBMVEX///+IiIgiIiIQEBB2dnbu\n",
       "7u5ERETMzMzc3NwyMjK6urpmZmaYmJiqqqpUVFQAAAB6qHgnAAAAAXRSTlMAQObYZgAAAAlwSFlz\n",
       "AAAOxAAADsQBlSsOGwAABjhJREFUaN7FWltoHFUY/ieZ2dmdmd1M1Io0NTcrohGJxWorGDZiCwpt\n",
       "NjVaNNCsBiMGjNHogw81o9H4VlesRYiW9VFFdm291qCblyqIZlX61EI23SZUUIia2E1Sq2fO3M5c\n",
       "Mnu2M9BDyG7+3Tnnm//8l+98EwDK8SQEHZPpQJdzT9Ty7UQhKFxmPRVsgudquf5cYPf2eN+xtJl2\n",
       "gngr/WJSJihcYd1tm0C38N54lnaKvfSrTShB8UaW3LZcHqTWQ+Q2c+/6TFFHH5NtgcOhwSPbOJQX\n",
       "Jbupz2el+HbqcOgMjHeg5J3HeWdabt04raZoF6tPBsebp8ML0saAc7RR2ZIKE29v8/77iug1+laJ\n",
       "L3eVSBPe9ikMi2sqwAH7HLES5WK3QZh488y82Kqvr8evacKl5KjqHjbeCbOOAF6hW4u/ECZeSZFW\n",
       "tPYTMfBaJoz3iIr3ILqBRUd+/knZ3DrDxMuDqFdzE69lUr14FMdDql6G2x2TPE6ZbqVQ4wEQEjte\n",
       "y4R83aEnSy7l2tdZuoQbL4SLN6dwKQdew0TUs6+Ace7rAB2QFt/birosii/eh7NlYO3+tUxEvxhR\n",
       "P7+sjR70/fR6l+V9X7xzLxyHjzW8afWHNJH9+BvIOd0ZaQWM+Iw/3juxG8/+jW/xr/OOIuPuJUzB\n",
       "D29/Y3wa11pUfPeXL8mkiRwHur91bhS7BCfU13f8mbJGraLPqDB+qjg+fcTjirep+5vvuN/V+9bg\n",
       "JRWJP/PntbLHXaXWnCZnzZ72uOKHEPCyGe4eDyQxlI5s0Z8o/6vhbUSu5T9y4vWqzfXu/j1ORUG4\n",
       "djxGVfYoJ5IeOy2hTY5VYWdaGeQ2obhgRAfeuBeTj7kDuCVbo3/jMyfcxksA29rb76hy8tJClpPL\n",
       "CLuKd+aaXXDyv0JuJ/KDmFQ9v/D8HiBICuuuO9sgjPEPwBcAVU6e7IqON1eEUwhvfAeq5dCTimV1\n",
       "V4rQLB/TvqqRFHx8ErW91aCLO0LBuxPgEETd3ohvnfrN7JCigbcuDbKGFzHRWPo7fEhBsf89zKZ+\n",
       "x9/RSUrcFdTHR0PB245qcIp1hNazi8MgJ9lXTbqzpONlKtEsBv9ojwJcFw7SenTxqOpvIEgK7zys\n",
       "7VsIBS7cgHwhO9JNRBECsiz1uvByywx2dv8fc6iSz2UNvGARKY2kCE7/7vssNLyQmUG/Gr9sQhCE\n",
       "ZkjAFsB4mX5XPMCgpP4RvxvG0Zc/3W7EAwgVeIgkKVgqsMVvePEAe1A3YpTFGFq4tyE1xuHmIScn\n",
       "t5j5ZtQHyC2oeBvykHtdYVNP4ZYuAzeMCHJSPe0aJEVyNaAN841eL9HzDSbUBeAxHr197Re4VsBh\n",
       "KX++26pnWv0VSlCfhkRFxdtyUOnWWhYqXfEL/Z1CEQYyJkkR3c3hZgiklwxoZb5LDU+8VRVddpqX\n",
       "jgwNPY3i4YGivV9EB1cLTJYpr57n53/ua7t3FWZXUQnhW4H7RD79I4qMG02SUpel6hduvWRjrURr\n",
       "56ZIxHdiGnsL3MUntfj9cJdZ3Nb8ZrrJfHfKJCmvAFU/9tBLqrTrZWNn2IwIfWhxYUnrHqiemfnG\n",
       "X/Sbw+I2SZOkTF+m/uArR1nMCwXc5u5NMFaE0yczMIniQ3jzMPe1yQzWfYUxg6SifNRJihffo9NL\n",
       "+tpomJcxipwSKQC3e2i4eq5YPjHAMSZJiSj+esk0cCWbXmJpI9bxjZRQHEzGOPenEvIHXpDKvjf9\n",
       "sstynf95M/krSEs2vYTQRszjsU1CsXcuow6AMOPJUmeDy1Gk/lA8Bom07bxJaiO6HGWXUAxenaY7\n",
       "zxfDxMuh7q3JDSZemzaiyVE2CcUYb8hXQi8RVmB81K4/kNqIJkeREkqteokYqh6lOu5qh75DaCO6\n",
       "HEVIKNY4S7eWsBYqXgRzxIHX0kakDsWhqhCDUu+DjnD9WxIu2vUSSxsx65mlqhAFgVJPDaNAEHi5\n",
       "c00Vu15iaiO9bS5VhSQRtHkU9vMANuOtjXC3+s5B/TyAeiN88JYIaA8Wq2sjHmOEerXDgfESz7Pa\n",
       "XE9LvbQRj7Sn99qYEhRvxFrsTFOWRhtxc2D6tsWkg+LllwNvUQ3PY8N43h20qQu1PMOOBaYQzHrA\n",
       "CV6sqahe+f/XwKLy/1A60n0tp2mfAAAAAElFTkSuQmCC\n",
       "\" style=\"display:inline;vertical-align:middle;\" /></a></dd>"
      ],
      "text/plain": [
       "<IPython.core.display.HTML object>"
      ]
     },
     "metadata": {},
     "output_type": "display_data"
    },
    {
     "data": {
      "text/html": [
       "<dt><a class=\"ProveItLink\" href=\"../ordering/_theory_nbs_/axioms.ipynb#min_def_bin\">proveit.numbers.ordering.min_def_bin</a></dt><dd><a class=\"ProveItLink\" href=\"../ordering/__pv_it/axioms/752760836d3f86f4583cb4dcf21cfa9aec6caa870/expr.ipynb\"><img src=\"data:image/png;base64,iVBORw0KGgoAAAANSUhEUgAAAVoAAAAyBAMAAADvrw7GAAAAMFBMVEX///+IiIgiIiIQEBB2dnbu\n",
       "7u5ERETMzMzc3NwyMjK6urpmZmaYmJiqqqpUVFQAAAB6qHgnAAAAAXRSTlMAQObYZgAAAAlwSFlz\n",
       "AAAOxAAADsQBlSsOGwAABg1JREFUaN7FWlts21QY/t3acWI7mVtUhNap7QoIARoq436rMsQmgbSR\n",
       "jsseKq0ZFQVVopQVHvZAGyhU4mUEMSakAQqPgFC6jnIZFaR9QCAEtYAhTZtEtqxllXgotGVZWyaO\n",
       "7fj4cmznZLbgqEnaP4nPd/7zX77zuQCU4ykINsbSgb7OPVnLpxOFYGCZtVSwC+yv5fvnArr2YffV\n",
       "ShtpLxBvo59MygYDK6yRtlG0gHdHcrSX2EU/22gmGNrIImnLj4PUdpDc4JPuc9XRx+LmgIGwwSXH\n",
       "OJQNRdI8M+kRCrdRB0JHQLQ9RffcHSdMjdu9rnGEdrL6ZFC043Rouftlz2vkaaOxNRUe2q6WPQ8o\n",
       "6DX6ZpEvdRatJuAmjODkmguw136NWJFyspsgPLTjzBmxrTJ7JW4NE7egGJ9i4x0w6wjcFbq5+Avh\n",
       "oZUy0oreaiIGWtNkon0RwZ93RMmflI2sIzy0PIiV2o3RmqYojoRUvQw3Oy7yBGWSFUOMBKiXHWhN\n",
       "kyXL8iliR2fp0mykECbafIZLOdAaJksF+wIY54720MFo9VlUhsJiRft4rgSs3bemydIdBtT3L2uL\n",
       "e324lUKY3vdF+9sLx+BjHW1a/bGZ9M47qD5/BXmnKyNtoOE97Y/2di0Dzi5pC/zrfPRe861fXBZQ\n",
       "8EPb3RCf0laIiu2e0iXZarKOvdu+dm4SuwjH1de3/ZmwTqCiz6owfixbCRXnxs3eou5lvuNBov+v\n",
       "wrCKw5/X83qh4xpVaM2oRpudTXQL/O9DQMtmuftccMTQ1KziT4T/0dE2lNE3PrJ1lHrXgkf26REq\n",
       "osG1a0ON2zo5kXTZYwl5J1aFgemFj2tCEcCINrQn3T4fIx3emqvRt/Hp46TxEsDW9vZbq5ypyjpa\n",
       "uYSQI7SvdcKBe15qURPkE83nc8/vtFIRlqw0WyGM8TfAZwBVzpPsSgVtXoETqm/fQzxH4dU1vKPG\n",
       "LrTIE1Yqoh2LRH1XdeDinaGgvQvgIERJX8SvObKAmaZooK1Lg6z+MaCV4HVk24Ie38Js6g8rFYkT\n",
       "tOLYYCho21HNTbGOoHpuvh/kJPsKJjWLFbRMOZqroO0DUCvF3egxiLqkjYrwzkPY7rlQwMLVyBOy\n",
       "I8lEFBsgy1IXgZZbZoBECyZZ0qmI4PTt7snQ0EJ2Gj01fN6MWofQAgnYBBpappuIBOiVHGi3aMfv\n",
       "MjxmpSLa0d8Wt+FFAuxEvYfJzMdQ0e3akBritFYhJ8c24SwzagLk5xxo9yFzP6K/SfUEa1ARiWg2\n",
       "nllGr35UsgxG1QlgH49+ffUnuFLQqqX86Q6zgun1VihCfRoSZQ3qYR3tLuTJC90dggI9WUxFRLIV\n",
       "XA+B1I8evcF3qmGpbVO5IiCdkQ739T2DIuEhxd4dor0XC0yOKV08P3zL3PDS778uoVXuR749Kp/6\n",
       "ATWfazEVqctRdQcv9cNN+dAbN+YnfEdUfbkB7uCTetx+iA/28VXvy5gBeQJTkZeBqvN6qB8+jXnZ\n",
       "2BU2K8KjANcJi3qvQBUMZxm/7t2UTbaSxFRk6vL1BG9hyWRXKNQ2bmuCIQVOfZOFMeQv4Y1D3JeY\n",
       "Da55r/dpvHDZoCJujI4e7cxkNXZlDIXLRArA7ejrr54jxsEFpyKmIpGMv/oxBVzRpn5YlQ7jWIYF\n",
       "EZKvGLJlKiF/4Aap5I02SipBV/mfIpM/g7RoUz9MpcM88mKNxLoTth4pgTDtykNngwpLVj1BmYBE\n",
       "2naKxEqHKSeYgoiVN6fpTuhKeGg51Kd1+QCjxUqHKdWYgohlvC7/9+qHsAIjg3Y9wVA6FhRSI6ld\n",
       "/RBDVJZUp13h0GoMpcOMBJsgYoyzdHMJqyGiRSAHHGix0oGzzC6IVAalagc3hunborBuVz8sSgfX\n",
       "2AQugoieeZSKaPCiYEHLnWsu29UPm9Ixsx08BJE62uwJV8lns35Kx3deuUSt5FNvgifaogXYI0p1\n",
       "pcNlDFDPdiggWssdqM3EfU03pcMl1ek9NpQJhjZiTnW6OUejdJDklL5FMelgaPnlwIeyGu6cBr8r\n",
       "HbR5C7XcaY4FnI1ZC4j2QE1F9P/+bwpNFP4XCVnVquJcMAkAAAAASUVORK5CYII=\n",
       "\" style=\"display:inline;vertical-align:middle;\" /></a></dd>"
      ],
      "text/plain": [
       "<IPython.core.display.HTML object>"
      ]
     },
     "metadata": {},
     "output_type": "display_data"
    },
    {
     "data": {
      "text/html": [
       "<dt><a class=\"ProveItLink\" href=\"../ordering/_theory_nbs_/axioms.ipynb#max_def_multi\">proveit.numbers.ordering.max_def_multi</a></dt><dd><a class=\"ProveItLink\" href=\"../ordering/__pv_it/axioms/52da64a97548ec1c4da6644196d73ab5884d998f0/expr.ipynb\"><img src=\"data:image/png;base64,iVBORw0KGgoAAAANSUhEUgAAAtoAAAAXBAMAAADHKfVDAAAAMFBMVEX///+IiIgiIiIQEBB2dnbu\n",
       "7u5ERETMzMzc3NwyMjK6urpmZmaYmJiqqqpUVFQAAAB6qHgnAAAAAXRSTlMAQObYZgAAAAlwSFlz\n",
       "AAAOxAAADsQBlSsOGwAABpxJREFUaN7tWX1sFEUUf3e9vbve7ZZtA4qCpWmoHxClElBC+DiQgqlK\n",
       "toGQGA13/sHRoIYrNRE10BWxMZqUIxEkQuBMNTEGTENAIkU4/rCm9g+PggkYjNdETUiIntEG5MM6\n",
       "b/Zzdrrc9rhG/+Alu5178+u+33vz5s3MLkBxqXkAyidqCT1jkvD/gIvKMQp7jmNzGYPty429Z2wS\n",
       "kf97Lh9xjCirZsjj74tFou0B5FHOQdesRmwsfkR19ty+rJlNblOdWneL48XFl+UYTaWBPI66PUWi\n",
       "7QHkTYQ0QOcN0hB/V/me25e95KpUnFp3i+PFZRfHCK9m2IpFJVEk2h5A3iRKBr3lIRz9Uwrfc/ty\n",
       "E4PX49S6WxwvLgMcI7yaacwDuSLR9gDyJhXo+zSSSq87PawoS80exvtcLtquFseLS4XCMZqLgRTJ\n",
       "OFYWWyU9gLzJBfQwToZZdnp4oRyPD9ThfR8XbVeL48WlMssx2ke3G7Pr6+cU3ZMUB3mTI+hhFVma\n",
       "ssRDsXqZIm68EfnzA70n/PNk+4aia8mbt34aB6gcqiUzcCUXbVeL5ePC4gN5jtFKGshjAOuKRrs4\n",
       "yJvgILdEboKkEA/PqtE0BIbhQ6OnWw0O28rCPNio3LJucID4LuEqQD+tvfVUqNfuFsvGxYEX0xyj\n",
       "fhrILgjnR5+Wtmi7gsYoD6OHcD/4gHoYIUx2iym9R1gA0ToLuyoLh2/5MB7wkwKPApzlctvNYvm4\n",
       "OPBSI8foLA1kUAlk2P/cdiQjLiLZYYs2Dyoqr+l7GGn63kvmHJtPPZymvosegvAx8XDVZaMnWgB/\n",
       "DIR+HXsKYDoIy35zzSkKYORLgL8AOvhou1gsHxcNb0qowDHqoIGUZPv6F6pNZqR8Exxlo82CPEkV\n",
       "Gm/7dQPIscB2NtrxmIweCid/JB5K14yeigTEM9BWo2MfA+EaIWFPGVYogJHpQCoDdPPRdrFYPi4a\n",
       "3qo8jRyjbu1Qnj5t+69eMpWk01GIsdFmQd42QeRJUVLvQZbFFraSBBuzdPZmQsTD6BOK3hOX4TvS\n",
       "GtTn5h8gFmBCJnzFbfJSgGO7HR3WH8DUbTeLZeNi4M1KUscxGtQC+Qw5+Ign2mp9fSntyClt+ZTk\n",
       "Y+/h3uNWtBEEq08/aTzO1rSEUXZU/6IdomXZ95yhfIF6GPlHQQ+vQ+TqZmgKpvWeeA4uSSqlhlP7\n",
       "JlSlz4sK8VDgTVkAnTlq4AoWWOjjc9vFYglcgC8mSE/DD3xTnZ+6HlfJBDgZ9WmBfIuM//Pd2Yq8\n",
       "Lw9r6MCkmn5w5jaChAdx/DUDVtNmlVHWKFMEWrrlWKf56gK3Qp/jxARyWr4OvivnA7JwXe8JytLM\n",
       "KE0C4W/q82BPD92xxjEGeKN6s0EBBnOquQwv6hs4RlwtlsCFpWAyo3jh2wWwCGpxZsXAyeiIFsgq\n",
       "khhv3wMTUgRyUIt21JdwRBtB0Z5QI4TpTpA2D01hV06qNOUl6I/QPb78xXJTuQmgc/E+uBdqF+9X\n",
       "t943aenEWWlxZKfWIwyt6Lpbm3b1JC/WTtw8RKxuUsDfQFR+PJDPNBomwGCuaZ5CizOcr0lcLZbA\n",
       "hf5kuSA9ig+3pEkyY2j9GXAymmF7mToE7eDPQX8ymcxJKSGWdkSbVuIMyaEtDWazUWDLJlWa8jic\n",
       "FHcnky+TStJsHvr9KbfCZ/Wgh5I5X+nofs/BLYDO3NKE67wtLCVykfhSYtKrkkm+4XqwjeGIjPBq\n",
       "tmJzF+wIwStabsMhmd1vayuBGvxagQazqdpT2VAOXBw4tAJ/FWBhKKbV7c+azF1/j5uHVs+gfa8P\n",
       "78E7ADH3w4DB3NJ4fadUIpcAj49ZOwNfIlwgY3WC4YiM8DICGS6QHOmLkn01GsuAPUmt3FY7DtJo\n",
       "r9abwQxpCjHjRpVnEhWZc/i7gawU67S6HTBXSWh1db7V7qG5iQmvf/UoCPwHAgugM7c0nV53TSVx\n",
       "sX5a65VJbwfJbjHRo78vZRh12gIZycMe6JpEHohlaw/AaNGOnDjzNGC023Na8xg2Q/OgXcWbpgym\n",
       "noWvILQQ3qgmJsgwR3a+L/SaL4zXuH8J0P9uP7CEjJCZLSMjBXLa48QEGMwtTavnbw+lcAF+5H22\n",
       "5bhSDQ+RNFQZjq36xX0EW51McofGpcz3NKwkWh0OKLLRBFPph3NQlwVJG/XlyQ2Olzeu37HCnr9w\n",
       "FfluonpFjh+XyRwjvGrmj/lBbXNyENHK/4GROqOJSaa11pJFfkiFT+COlEnE0ZoiA8neidIo8i9u\n",
       "jp4IQMKpswAAAABJRU5ErkJggg==\n",
       "\" style=\"display:inline;vertical-align:middle;\" /></a></dd>"
      ],
      "text/plain": [
       "<IPython.core.display.HTML object>"
      ]
     },
     "metadata": {},
     "output_type": "display_data"
    },
    {
     "data": {
      "text/html": [
       "<dt><a class=\"ProveItLink\" href=\"../ordering/_theory_nbs_/axioms.ipynb#min_def_multi\">proveit.numbers.ordering.min_def_multi</a></dt><dd><a class=\"ProveItLink\" href=\"../ordering/__pv_it/axioms/2feb8dd0c2add876f2a7b1fde3bad224b0994da00/expr.ipynb\"><img src=\"data:image/png;base64,iVBORw0KGgoAAAANSUhEUgAAAs4AAAAXBAMAAADpbNTRAAAAMFBMVEX///+IiIgiIiIQEBB2dnbu\n",
       "7u5ERETMzMzc3NwyMjK6urpmZmaYmJiqqqpUVFQAAAB6qHgnAAAAAXRSTlMAQObYZgAAAAlwSFlz\n",
       "AAAOxAAADsQBlSsOGwAABrVJREFUaN7tWWtsFFUUPvuY3dlXO218U0vTUFEIWgkoIVAWI2Kqkmkk\n",
       "GKJh1x8uDWrYgomvYAfBajQpNYghoZFNGhNjQBtSRCna5Yc1tT8sBRM1JO7GR0KiUhMJaEQ8987z\n",
       "7p3bnWX3JyeZyZ1vz97z3W/OPffODEB5a5wPtTPNHZZr1L1cJQ8hflXhZePwpmBnDWX2Tbnjt9ao\n",
       "/6hSHQ8RfnXhySWFOqFArs+W0dmDk0c7A/13tZPGqju1XXkLTiRr0PeGxXhqKkVd44l4IF6dNfFs\n",
       "mqiExwm2v4zOHpy8mTQA0PcvNuLnNfh42MI31iSZD+ARUUtRt3giHgSvyhzhTTbk6IRXSAlJl9HZ\n",
       "g5M3i2HqdN1B5ueYCpKNn6iJzpeJcMOlqFs8EY9YvkoKjvAmG3J0UrWDU2V09uDkzQJk3HNxrXlp\n",
       "jMm79prU5gvkvJTT2SVeYBa8OlvKs1lKJIzjHYyUWwc9OHmz78n4UniDFWZ8iYFadB5sIedBTmc+\n",
       "nogHxauzQZ7NIN1KLG5tXVJ2v1HeyZuNkPHVYfbmx1R5byG899OGIpmuZBmUf77JuVr3r945e1+c\n",
       "Q6TYjHNuHaczH0/Eg+KV8mD91/Fs1lEJjwE8VVbn8k7e73ZX9DIkVMyjSAH8v0Mvzt4IKYtDWuiC\n",
       "owgsg63qrFWCc0jtky4BTNA620qN7pNc4ol4ULxCHiX+EzybCSphP8gF92no0FnoVKEtIuOD28AH\n",
       "OL5QAULtUI8a+/HOSysg1mJ7PpqHI7N2xTv8qMLdAKe5fObjiXgQvFIeJf6neTanqYQhNZhj//nq\n",
       "SC7egTnh0Jl3KmsvGvuTxLwD56x5tZyOb672pjm+NNTjjwHsPDYD/iRIZj6MAcwD6f4/hLlEHRj7\n",
       "DOAvgF5eZy6eiAfBK+Wh+1vWy7PppRImFOcKF27O5BKFNXCU1Zl18mR1JHjPr1tASQZ3szqnkgqv\n",
       "cyANqRz0NBqe94D0D1Jwpgpr1IGxeYCVAIZ4nbl4Ih4Er5SH7m9XEZ7NkP5IPXDS8a/RLIp6MgZJ\n",
       "VmfWydsWDnuKYV0HRYl3sXUj1J5nx0fqRkqBb/DXaWM2/gnxGajPyRdF05U6lGyfYxeMDpj6zMcT\n",
       "8SB4hTxMf9OmeTbTuoSP7MO99ImeZt94FnykSCV2fIA5OHpk9LitM3GC9ScfNHtxNG1jwN6GX/Sn\n",
       "UEXxPW6CT9LxRf9T2fGF8EhNwbmERonhHJUuQ93Ad3EVxyfxgWwHgzdB4CIppjDO5zMXT8SD4EIe\n",
       "oLrxMPwnv2ooNG0GIzzLZlyXcBfe9SeG8oGCrwAbaEXNrvmhNJ+Jk3R7+JKZTXbTkWIM2KjOkWiJ\n",
       "VpJ9Tc5dz0dkMgI+7+LgIvr4ggWidWJhjN586W864unhYboLTZHNNTlR3GpQB5M3RX6Dp42tGWMu\n",
       "8UQ8CC7kwYa3GtRf+noFdECzEb6EzYguYR2mw2s3Q30Wd7GHdJ1jvnSJzsQpNhxuB5nu72jz8Bx2\n",
       "baSgZc/ARJQ+xSqfPGCB2wD6Vg3CLdC86r3Xf+p47HzHjq245Iax+knFtf036hOtFfNh03UvFDHm\n",
       "NhX8bQj5yfPsQrNhOZi8deQhEm9B6esNl3giHgQX8qCXPA/qL3cNYAKPmOFZNgscrzyLsJ1UyYlM\n",
       "JjOVyErJgRKdacXNYebsaLOa7RJbIClo2b3wRfzdTOZZrBud1iO7P+te5OYz9S1hzVB6V7/l3G0H\n",
       "g7eNyC1eFg8RDxt34ZFQxTzqFMyxRWZ4hg05Om1VboA9YXhOz2c4rLD7Z73ia6EvVWizmlqYfS1B\n",
       "wcmzk4fXkqsZWBlO6vX5wzUur1kYm2R0tiLDW/AGQFK8tTd524i3N0EiHjbuwiM4C49A1peWZ7JG\n",
       "eIYNOUwJ5RnMjPEY7pNJsBw4E9POZ633ENV5vdEM5bApJc0TBU+lA7kz5LotntafIXFNtdZB6HYf\n",
       "X0hzjs/ansibnz8KEv/q3nYweNtIn7fdUHc5nOdhX/I8YA9mdDw9bIRn2PQ5JIwWYD/0X48dkiK1\n",
       "H8BN5+iJUw8D0Xn7lN48RprhZbBdIycdDGU3wucQXgkvN2AInIbRt9+RRq33RBsEuzTzpevug6vx\n",
       "zlhZcuXKDD6zcWY5mLxtpNvjN4EyuAsPUMQ8cFGNaHJRNcIzbLrdPkmtz2S4B7/7mK9bpG7o9Tao\n",
       "KmYTLNAPZ6AlDwldvgcyW0peugi+K+2s1XcxzZufiIes1DI8uSRH4/KKe+pZMgVRvcwfvNJiNklq\n",
       "6a1NuIgXNXgfrlnVFndrxhmX/DWVGPsfo1mB4nmHy/UAAAAASUVORK5CYII=\n",
       "\" style=\"display:inline;vertical-align:middle;\" /></a></dd>"
      ],
      "text/plain": [
       "<IPython.core.display.HTML object>"
      ]
     },
     "metadata": {},
     "output_type": "display_data"
    },
    {
     "data": {
      "text/html": [
       "<h4>proveit.numbers.multiplication</h4>"
      ],
      "text/plain": [
       "<IPython.core.display.HTML object>"
      ]
     },
     "metadata": {},
     "output_type": "display_data"
    },
    {
     "data": {
      "text/html": [
       "<dt><a class=\"ProveItLink\" href=\"../multiplication/_theory_nbs_/axioms.ipynb#mult_def\">proveit.numbers.multiplication.mult_def</a></dt><dd><a class=\"ProveItLink\" href=\"../multiplication/__pv_it/axioms/b16352cec32b4c35b440b7e621eeb07a3af49ab50/expr.ipynb\"><img src=\"data:image/png;base64,iVBORw0KGgoAAAANSUhEUgAAAbAAAAAWBAMAAABTUtReAAAAMFBMVEX///+IiIgiIiIQEBB2dnbu\n",
       "7u5ERETMzMzc3NwyMjK6urpmZmaYmJiqqqpUVFQAAAB6qHgnAAAAAXRSTlMAQObYZgAAAAlwSFlz\n",
       "AAAOxAAADsQBlSsOGwAABJJJREFUWMPVWF1oFFcUPkl2spOdnXUDVmrVGFboUkNka5WCD3YF6UOL\n",
       "MkIaKdo2AZ1KRLv+IfRBJ7HNow2FSh/6sJpCXxTXH9SaPESqpdZKN60QW6VuKPpUJC+ilpb2nDuz\n",
       "c+/O3LvO9K2HPcvMnLvnft+555x7ZwFiioOqywy6anQc0ZvOG9mFDrGlpYpfS2SWVFYxOo4sUVqO\n",
       "R3VBOEhrdHM38sy3UM2i1LRYPjqOyD3r6y+UoWUqqpPFrl6m68+j/kgbw6+35bYOSzo6jsg9bwHz\n",
       "b4DPojohHKiHKCQDUX9kUNwm5bZ0RTqa50g45icD93LPS6vaU4AbalQnQzhQiV8icim00VdBYVwt\n",
       "Hc3zLFyE04F7uefxMiCxNkuJajqMYzWkMY4dkXPlFwKoSrAvZKPjEFN6Nv9CkGzBM44kwabDOFBX\n",
       "5nKrIhM7TwmGFX78/kcLOM5NXZvX46JvlI32bAIxrfP+/g1SRGHPnpxAUgnW5vQ8wEhJQUzAgXoR\n",
       "YHtkYhQMCl1xd1Z74j+ttMwa3QDXGbgck1p9tGcTiBnQlT0rJRb27Mqeh0gl7S7nSIm4yYkJOFCP\n",
       "gl4Te2vPG/BNrXE32jk77F32orZWIVV+EfTHfrU66UcZxPRzcMJebhOIfQc/Wn9IiYU8+6mIXdF0\n",
       "C1DPhxas7kbEgdpuJcp+aB4MwW8Jy/DrNNlll7XdjrnNu19DLaEMmvYnmI8orZ7SIDBYNA8HJ1zD\n",
       "bbiQy1a6C1mCr5n1bC73Si63Qmw2oudP2cp7JF6zIDnnXo4EFoy7EXEcpkD6vcO4SJt1tpLwfzWB\n",
       "jhObAK42EgNzDjLMSY+LiC3GuIRY3dbQPF5WVH2DZy4HAT7AtSzIiYluOA7SsSu4ipN7Fnlnh5lf\n",
       "hxmxzkuLHLbdb/2QH768VKS5503x/nva0fDmp2CN9XKbSCz1BN5SpWLQM8k/FhEzu5+ViiIO0g24\n",
       "p28dn2pzNNZGZxLvfEmF5TzoqPbTg9u3uYtB1HYE2FaEe1b9/NNf/h0oFt8GJxzkNk5MG8oUoCgl\n",
       "FvLsylqWiumBZzUPEQfpEYzuxwthnuUeDWagsoAqEQaT7pZ+7Rp3QZ2U+u4nJViYrkfu3oFzcMrr\n",
       "7g2ykds4MfPxlkKq2oAIK5UVa8izKz+wfcwoNrb798boI7oRcZBmaNwsZmX6mG3vQmJ9btFh071u\n",
       "23b14Fd8jr1Uo5gTJwDevemf5TrNSUK6PEhsL7cJK3Yme+dmIId63GINefZSdwIPwdDKWhyB1Rmf\n",
       "1gp9RDciDh/LqzCRTBbdFUuxgcmCDvvpgpqHVq8CCkJe8SLUHXzSWop5pMo32UJHIOKRinD4WPQ5\n",
       "yM+4G/X3AF3QB0cSYwZuBWR704F14kH3RpMDcpNjcYRDcJODruroHXZDOHwsqRrMn4JRjHDyJQcy\n",
       "sK9qvLDuOdDfJ2PfsZ1+6HdQjcvfZkfDj3bEfG1pV78nR38DGQ1j0V63h7xLry76bLvcMIT6pCaf\n",
       "Q8KiPyYxbeC/cJbgUEY0pXpH0KlQhqV/GjiK0XFkWGl5PvKfF44ci1cd8H+XfwFWwUSNKcYUCAAA\n",
       "AABJRU5ErkJggg==\n",
       "\" style=\"display:inline;vertical-align:middle;\" /></a></dd>"
      ],
      "text/plain": [
       "<IPython.core.display.HTML object>"
      ]
     },
     "metadata": {},
     "output_type": "display_data"
    },
    {
     "data": {
      "text/html": [
       "<dt><a class=\"ProveItLink\" href=\"../multiplication/_theory_nbs_/axioms.ipynb#empty_mult\">proveit.numbers.multiplication.empty_mult</a></dt><dd><a class=\"ProveItLink\" href=\"../multiplication/__pv_it/axioms/10dffaa04e752db94cb43e4f7f74b09821cd2f250/expr.ipynb\"><img src=\"data:image/png;base64,iVBORw0KGgoAAAANSUhEUgAAAEgAAAAVBAMAAAAX07VdAAAAMFBMVEX///9UVFRERESYmJiqqqrc\n",
       "3NwQEBBmZmYyMjLu7u66urp2dnbMzMwiIiKIiIgAAABzc/GgAAAAAXRSTlMAQObYZgAAAAlwSFlz\n",
       "AAAOxAAADsQBlSsOGwAAAMlJREFUKM9jeHuHgYEBTDAwsDIEMGAFu5DIJwzrCCpi2cDAZ4ChgOcm\n",
       "iqIZQNyJrmZixU8URcVAbI5hEh+qogQgZpuAXxFLA5DgMMCviH0DkOAWwK8IbAgzyDiG2rsgcBGL\n",
       "Il4HkJ0J2E3i/AFRxLYAFCofcFh3HUkRVwJ+N0Gsu4DfTUwPQA5XwG8S2PfgcEAB3F+RFfGAbOJd\n",
       "gKaGUeyHMHK0gBJVLKGkYg6NZLyKmAIYWBUIKeJUAKnDBvaC03gWmB3H8BSrGgDABVJjGxCsBwAA\n",
       "AABJRU5ErkJggg==\n",
       "\" style=\"display:inline;vertical-align:middle;\" /></a></dd>"
      ],
      "text/plain": [
       "<IPython.core.display.HTML object>"
      ]
     },
     "metadata": {},
     "output_type": "display_data"
    },
    {
     "data": {
      "text/html": [
       "<dt><a class=\"ProveItLink\" href=\"../multiplication/_theory_nbs_/axioms.ipynb#multi_mult_def\">proveit.numbers.multiplication.multi_mult_def</a></dt><dd><a class=\"ProveItLink\" href=\"../multiplication/__pv_it/axioms/2dcbd4d37bf5e18d61fe3876c719b26b6bfff9d00/expr.ipynb\"><img src=\"data:image/png;base64,iVBORw0KGgoAAAANSUhEUgAAAmAAAAAXBAMAAABe/e6zAAAAMFBMVEX///+IiIgiIiIQEBB2dnbu\n",
       "7u5ERETMzMzc3NwyMjK6urpmZmaYmJiqqqpUVFQAAAB6qHgnAAAAAXRSTlMAQObYZgAAAAlwSFlz\n",
       "AAAOxAAADsQBlSsOGwAABQBJREFUWMPtWF1oHFUUPvszu5OdTbKG4g8NIYSG2gQhlkZD6UMiorKt\n",
       "YYohTzUbQdfSoG5aoSLUTFGDIsR9aRAMdGEVX6KsEgnagls0kbQP3SSFRBHdhSIIIlswtAol3nPv\n",
       "/NyZndkfufsiHjjDmXN/vrnfnTnn3AGoIh37QZRougoUuYk4ssu9XJuRuLDF+QpMRUok1jwc59x4\n",
       "T31xKOL9T16EVWttRG7oKkrGD5JLZxNxOl2wOiklX6PvAy/CqrU2IFKaqTj5kGiL2jwcfm4DCzUO\n",
       "b+DXOelFWLXWBkTJMxUnd4lGc83D4ec2sFDjlLZgwYuwaq0NSEBXcfFrB6+DTcQZdMEaREqiZENa\n",
       "PIN+tdYG5AddhUmwG68LTcRZcMFaoHnwYE/PIe8sWaW1AVnSVb55vyP9zI2cryPJVwxrKXWR9360\n",
       "iTijLlijlJJlgBe8CavS2uB2oWa10I790xqCV9SawyuGQeKCdAdgjcatHipFwThrLlhrlJI5kIve\n",
       "hFVpbUAeYiodAaXb1vBMHr6onWMrhsEvKjwMsNlEnE0XrE1KSUgNZvjXsj8O3xZNwhyttSU8bxaR\n",
       "UyXjMzjMVCmDfxgktnkJTP/fAOwD6fE/cPelv1zWgD42zNxwHPcVwJ8AM87u/xqHdrLhzLhgzVBK\n",
       "WmNWVJ/+9RT8HFQV1SSMb61PbiJrXcmM9LLW+rx9IYFJSGRguoP6/Ji4HwHpb1D0je13mQ19bJgh\n",
       "dNw+iJBkn/UgrHEc2smGk3XByrLDT/qKWcYsY10fywW5o5HVWqc8SvRSiiSX4wDf2T+VRAyuE2vD\n",
       "eoFuQbQM7Rn5drUZ9WH2MkzZ0SfiY5hAnA0XrA1GydMXSE12eXqvfh7Y+vE8Txi2wtiVp4zhnGkJ\n",
       "5wzf6lJ9WDueeN06wz7HNFGA31o1fiF3oS29HVVrLIQOu/b9PVYxeRujEqw6ewrEWXXBWmWUvEk2\n",
       "50Q2H9AkWtJvBZ/9iCMMW6UHw3cMaMvkIg3n9PX6cuNobG9bHfScHIq19iv85pHVbeRyRqljRhMa\n",
       "ZRLmEYcOk64egSGz1+8wpVcQNhGIs+SCtcQoaSPfz9sPQLsaoYeKLcjdyxGGrUouPAAyLS+o+ele\n",
       "eyKgTgM1H00vorGyYnU4zVQqPTl3n20hE3teKxGA06o9mvQbBtsPHCYfT4NVKkwcxWftcxImEKfP\n",
       "BauP+4FTIhEtOp9MvkQIG2tx/N4JZHxFONdrmgNS2X4iQadhp5TiWjKZLJz9hIupKabO8GBk5npK\n",
       "vbZYZMAxrLsidgvDcc6N96hxK1RfCoeH2RsWWXcQltBCKyr0mqYWtj86dV5bpP9V2iFQeJWeKEjQ\n",
       "l7ijrHWcrVjIe/BOHefRlJJLVRy1K4/MYnCccxvHeoMSuQz7t1hNfxWgy/mGaTOLlLAx3QxliCkN\n",
       "GxfqXJ/0Ywe/ukqKN5zyqAYjBt5JXV0XIr949svaC3kf/OfshM1WdhKG45x7VleDkkgR9uRhljxQ\n",
       "+IAGbQ7CIpfXjwESdqbAzGU0w0NwRsMLc7al3qXez2PkyWjqnJ8yFziuK8pbF0cce7q7W669kM/A\n",
       "d6ySHeePRVE4Jz12wv4TWnoieYq/f8z2Bxs/SfanJ6jGDBNMpx86PzbssWTSnhbkGFOR4nP5dy8K\n",
       "xzk33qN2HK5/julDBYiwLHNxt9sw8f1j1gTcyHPe/4UGVTcz6t7hPyr/ACx9wZ2ZIKSnAAAAAElF\n",
       "TkSuQmCC\n",
       "\" style=\"display:inline;vertical-align:middle;\" /></a></dd>"
      ],
      "text/plain": [
       "<IPython.core.display.HTML object>"
      ]
     },
     "metadata": {},
     "output_type": "display_data"
    },
    {
     "data": {
      "text/html": [
       "<h4>proveit.numbers.division</h4>"
      ],
      "text/plain": [
       "<IPython.core.display.HTML object>"
      ]
     },
     "metadata": {},
     "output_type": "display_data"
    },
    {
     "data": {
      "text/html": [
       "This sub-theory contains no axioms."
      ],
      "text/plain": [
       "<IPython.core.display.HTML object>"
      ]
     },
     "metadata": {},
     "output_type": "display_data"
    },
    {
     "data": {
      "text/html": [
       "<h4>proveit.numbers.divisibility</h4>"
      ],
      "text/plain": [
       "<IPython.core.display.HTML object>"
      ]
     },
     "metadata": {},
     "output_type": "display_data"
    },
    {
     "data": {
      "text/html": [
       "<dt><a class=\"ProveItLink\" href=\"../divisibility/_theory_nbs_/axioms.ipynb#divides_def\">proveit.numbers.divisibility.divides_def</a></dt><dd><a class=\"ProveItLink\" href=\"../divisibility/__pv_it/axioms/4db0f292ce4a27734d1fb2121a85530bf79b23460/expr.ipynb\"><img src=\"data:image/png;base64,iVBORw0KGgoAAAANSUhEUgAAANwAAAAmBAMAAABdfejNAAAAMFBMVEX///+IiIgiIiIQEBB2dnbu\n",
       "7u5ERETMzMzc3NwyMjK6urpmZmaYmJiqqqpUVFQAAAB6qHgnAAAAAXRSTlMAQObYZgAAAAlwSFlz\n",
       "AAAOxAAADsQBlSsOGwAABE1JREFUWMONV19oFEcY/y63e3u3d3u5PGj/pA3hEPsHlLO0trVNm0Ap\n",
       "JJCy2jZ9EEy0KsVWOZr6VJociil5aa60KX3IQ/rggw8lqRaq8V+CIIqIh0hBFBr/NFroQ4qGSGpo\n",
       "Z77Z2dnszOztB/fbuZ3Z+c183ze//RYgwk5DXMvWIjrNUYFRc8zGpjtDpmuehm3q3s9dgXq7GJst\n",
       "VwUwnBJc0XTPCtSa9Upsun6y8K+yrTCn6d8bQJ1l2mPTfU9+brIAGzT977sCdfaHG5fNWaA44VqL\n",
       "kVkQnQtrYm+uAf1wAhIlzYD0I4G60C3EphtEP+yDlHb5OwOotnwfXire3/A1aHPeYZiY1k12LoBq\n",
       "a8RnE/z8dnnXnxRDHyNu6zgbXsv1t1/fsfZN0hjBaQji/m+qPITPXoMQXULegcVj0hnuWX0PMlCl\n",
       "0Z0EhlP0+qOCDo+sWQ3TgaxFuXmKRtVsC/ecBHjGoBvL4jwEB2jK9Cno/sIB0xLdJTnKOFdDIS8d\n",
       "1Ptg9vWgT+Y9zJCsMlQC+xaFJEh0Sek4JjEgzsyUfyexo/gCvbqQLd/DzkUPc2T9GVWqPMRYy3QZ\n",
       "KXiN4V3Z3/pLGrAwatYyx5eKxZdBl26/kt/mlo/eqRE6T/KNWXUOB2xYOGBXCtvmY46/kXsqIcD1\n",
       "jJHfZOIWUd8uLvk5jNTRIrX1AH6WB0xkntM+wxr/cPwG0ioxYNtfR6av5Bby04TOk3xHUqrBMF1V\n",
       "yDxvP+SYco1xBZ29RHET4WVZ3MUl35oPD52gzzf+Rw37LBKf4lrsepbMbdLGv+ChU1BmCtvdJsy8\n",
       "AksVJvl23d2ZfaI1RM5JJUgHVerepuPN5K7dAvmwMwlNxXQpHZN8pzUcO8mZrf6JLN8H6F0RO+gm\n",
       "OpGozGXIQ5sb3X6eKphL2wF6xu+Agbtjkp+TNGEknJlNvPGlTY7BbSGrFA/SOWC7RZqHrsJq7gdc\n",
       "z3vkLbv/GPyMdEzys5J29BbCdQDf7i4iIkO/+3mOmC/TJpPZu3CLP/MGVk8AW5ucUzWkY5LfICVW\n",
       "cjJc6c0dZum28bvdHz+gbzkLE48htkppenkRXuV3fkAhLK9QFSr5B+SiRnKv/S4TsVB54fA39kGj\n",
       "moUPAJ6z/TQ/hmI/Keg8yT8lVyKluu97o1UgfeLpjlXQX4Mb5/0jegXV5xNBxyRf8fbI1S8zWFkR\n",
       "Ki5qZiXlZ1kvxrtH0DHJT8nVg7lcl47J6kpxtd184YhYEPoxzbPuCe/6pGKyT+vSTVQE+k4Be0Zk\n",
       "ea5+RFYUPmbTn19060Z0qouLoIuWYtP10rORhZbCUd2ItgBGriiOGTS/LpDk+lszgNW7iUh/Jcux\n",
       "+ehhLRNN1U5VExj1FRXT2KfZBm3/UwHU2lhsOqxf7EfwoeYT4TWBettSiUtnPg/mnnwJNJ9oW2oC\n",
       "9ZYejb29YddZ3FqyNRN+FsAI+zo2Xbps/lK4cVmz93Ef/wfPvBbpG4o92QAAAABJRU5ErkJggg==\n",
       "\" style=\"display:inline;vertical-align:middle;\" /></a></dd>"
      ],
      "text/plain": [
       "<IPython.core.display.HTML object>"
      ]
     },
     "metadata": {},
     "output_type": "display_data"
    },
    {
     "data": {
      "text/html": [
       "<h4>proveit.numbers.modular</h4>"
      ],
      "text/plain": [
       "<IPython.core.display.HTML object>"
      ]
     },
     "metadata": {},
     "output_type": "display_data"
    },
    {
     "data": {
      "text/html": [
       "<dt><a class=\"ProveItLink\" href=\"../modular/_theory_nbs_/axioms.ipynb#mod_greater_eq_zero\">proveit.numbers.modular.mod_greater_eq_zero</a></dt><dd><a class=\"ProveItLink\" href=\"../modular/__pv_it/axioms/196a21f904e9d1535c0b84f29ae08cffd48bf27e0/expr.ipynb\"><img src=\"data:image/png;base64,iVBORw0KGgoAAAANSUhEUgAAAPEAAAAXBAMAAAAo+LSlAAAAMFBMVEX///+IiIgiIiIQEBB2dnbu\n",
       "7u5ERETMzMzc3NwyMjK6urpmZmaYmJiqqqpUVFQAAAB6qHgnAAAAAXRSTlMAQObYZgAAAAlwSFlz\n",
       "AAAOxAAADsQBlSsOGwAAA4ZJREFUSMfFlklo1FAYx/+ZyTJb2owgVVwoRbHgpYhQECtRbN0higgy\n",
       "hxnRRiguFbyI6IwLXgSpuCAIOqIeFKVzcK9orXioHozeBKEVVFQQi7jrwfe992bVsRlB/ODLJP/k\n",
       "5fe+5b0M8BcWku7DMjXJo9ok6T7sVHV5mE6e1gQ2beFVbcwsOmprGwGl/5e78ydkuHyDLo7VRF4t\n",
       "vXo1vvGfcI4djoghxQmEPa2ZyzvpyVRN5JvSq5sg13vs8ICfavOs/L0BoIPLYQdQvZrILdJHI/ey\n",
       "VyPoyAq0y3ubgCGH5BjLQ7i2MvcIH5U8jyc3n+cBif4OpD0uz2hqmlkTOWoLR+j5OMqhcehafE0k\n",
       "3gUk4tQ16twGQT4Rf8uuhvPjnlzjeSdyP5evAp0+eMVepunySE5n9I8kBN4ifR93YTRDt6C1QeVk\n",
       "7auTzCBWzM65FzTdD4xscfkAQsM+yLnCWcATrs1GtJEEvQX1KaS7AzaMz9B7ZG+bHxG0YBY74lxn\n",
       "nmxzWXfUbAnh8aJbB+l3m+x3c8rx11YZOZgVHh1BgGdCT6HeZmRWPnxAkoXNydEeko2RQrZf8Uww\n",
       "cq/FZdMqNJgx2c0qKhbS++rosOVlFyxb3ftbcjCFZDZPthh5iF19olQKMptWr4dIPuaBy4UOG5Jy\n",
       "z538O/u62aaj4B7FGGTnUdYDsKzYcizpm96Xrcg2C+4hSskU8/dizGw533ZgNlasKhd4KOVltM2s\n",
       "vLNQ7HSMPJbiS8dfYCI4WUmUxcy6iHvSw2szU0IO5hD5hnBK1rm+m3UCYqmKneQucF3Ke1iDac3G\n",
       "F6yiG4oaWkMzGONM0Pggy943sYxMC4Jct8zpUd7sgpw1WhG2EZqFuh8k1/XrObn+SnfPgKe1SrmO\n",
       "8pozWnCBk6PrOHADBiP8cetKR3lvG43CtWcLDjTQ9bs5OzbPUU9Owf75b9h1Ym7De1ot2nPaYgPZ\n",
       "ikWiXZrcXSIHs8owBl3X9RRFvUhKK27FjrruRpbtxV7ZesY06b5s9yhyMqPfc7bymJXIGdpqR9Bm\n",
       "2KLO59vLRz0ofAh8fl7+JAcz6QuO7vA6oz2n2ZjKeqBT1FlNlI/SM8J9/X0R28KKJrJplTKzyM1H\n",
       "SxFaTxvNeDtx3WjD9jiwjxUkcvCw1lf+faDO03x+WKvMsFJe6bqy8KZAdLhdvxu3S7oPG1eTzOws\n",
       "/pf1/3vETz7C7myEKd7XAAAAAElFTkSuQmCC\n",
       "\" style=\"display:inline;vertical-align:middle;\" /></a></dd>"
      ],
      "text/plain": [
       "<IPython.core.display.HTML object>"
      ]
     },
     "metadata": {},
     "output_type": "display_data"
    },
    {
     "data": {
      "text/html": [
       "<dt><a class=\"ProveItLink\" href=\"../modular/_theory_nbs_/axioms.ipynb#mod_less_modulus\">proveit.numbers.modular.mod_less_modulus</a></dt><dd><a class=\"ProveItLink\" href=\"../modular/__pv_it/axioms/ec0b206860a2c96fc353e339e7e8086f2022b3a40/expr.ipynb\"><img src=\"data:image/png;base64,iVBORw0KGgoAAAANSUhEUgAAAPAAAAAXBAMAAADHOt+bAAAAMFBMVEX///+IiIgiIiIQEBB2dnbu\n",
       "7u5ERETMzMzc3NwyMjK6urpmZmaYmJiqqqpUVFQAAAB6qHgnAAAAAXRSTlMAQObYZgAAAAlwSFlz\n",
       "AAAOxAAADsQBlSsOGwAAA69JREFUSMfFVl1oHFUU/jY7s7M7O5udFQXFWrbtiqEVWYNaH2yZlrbU\n",
       "/k5IKEggP9SONiqJ4IMiuptW+lLQFG0Rqu1K9aGlJUsJakxpUyRC7Ms2vvhQSAIqKIakYG2MBDzn\n",
       "3tnZznbX7AZKD5w7Z+6de797zvnOvQMsQ8Ku1iDZqgssRx5ztQb5omKvbgJTbNyoCzdmSa0mgTU5\n",
       "fqj7k2SPlo/ua6ZmBfAdv3xaF/BLrlaVjwQwInlqjt81epKHbLzPIe+qC/iSq1UlLoHjBWqu3TW6\n",
       "SGrkGRtKoS7gtKtLAQ/S0gjapRSJwOq3uH0WBiUhUl+KB6QuCbxZxNtLsrFO7EFJcvsZ0Lx69TN1\n",
       "AUctqfhwUz+/ax9/m+jWEz1Ae4IZsyWRkcCnEjOEM1WkXEr6HpleSQHeA3wDHKgBrsRi9oFVfx69\n",
       "Yq2GGWR+xPfQmhAy0VrAXsnqf+zOLAw3Nm2r3Omdx9V5YJz2jfBUDcB5z2ooSG0dxUXREUoj3oVM\n",
       "X4MF7TYOFlkdu4WgiZhkw9Eni9MnbTwN/ETTbCV3B8DEi5eP8fMdl+mx1MnfTR9wMCf1CpCSwF2I\n",
       "WwScod38pd4kp8SC0QHu1ubYbvzcmz5MHwEZWtn0uKWtdHIBBds5rI3cvPlbD0xL+aAi8HNQFzxg\n",
       "k4AnqfNvzQOmAAwWoKfLgFPQqaDOkDVwtdg30kccCGCMPQySHaX8wzSNFuwcWTeS84eaXDPmfMDs\n",
       "8b8lj6mMr9iIJctCvYgoFdQEWbv5cGm7ul0ebwT8EHuXSfzKBxsDB9p9HhOBWNVFNA78fCdwMA99\n",
       "ASeKOY73qS9QEXWVkes2kwM/kHWYuKU2afPYJ1ivhLt5Aw/Yj6pijmkdWeED5gJh7cZEXvRGJHBO\n",
       "W4+IhcM5zIrabRwN5d3CY2lZJcvpT7xG7RB/wEHNa2mcF8DRlwXe6xjXxXzz621+VmtJqR0Pvj3d\n",
       "x++zG9/r3aicTuHolj/Ih6FE5ilRTr/wudrgMdeQhdyxk5dd6xEmMIVxx3EKgYBygXvW47JxwnHe\n",
       "oFDvKPjqGE+4WpMcKplG6S4KJ4tVnQ2N2W8JjwP6l7yzOWzQLJnjc1v9a12rePb/z41S4fQrHqTB\n",
       "bOa8HbJFjrE1r1p4nFhxQOZYaffPCmWl1vSzUvniO+L9Ely6vgvhV8g6+4jVPqxtwLsJGqYU6sc+\n",
       "UUf8VwKTTq3xJq2ywVf9r22O41IhJhG2OT2VpvW7WoM8XPkfpWq8vsJ9ktF7jvAfxdfpiNpFoh4A\n",
       "AAAASUVORK5CYII=\n",
       "\" style=\"display:inline;vertical-align:middle;\" /></a></dd>"
      ],
      "text/plain": [
       "<IPython.core.display.HTML object>"
      ]
     },
     "metadata": {},
     "output_type": "display_data"
    },
    {
     "data": {
      "text/html": [
       "<dt><a class=\"ProveItLink\" href=\"../modular/_theory_nbs_/axioms.ipynb#mod_is_remainder\">proveit.numbers.modular.mod_is_remainder</a></dt><dd><a class=\"ProveItLink\" href=\"../modular/__pv_it/axioms/cd7e386997cf4ed862bd282f0474da403ee3b4ea0/expr.ipynb\"><img src=\"data:image/png;base64,iVBORw0KGgoAAAANSUhEUgAAAY0AAAAXBAMAAAAFAw5zAAAAMFBMVEX///+IiIgiIiIQEBB2dnbu\n",
       "7u5ERETMzMzc3NwyMjK6urpmZmaYmJiqqqpUVFQAAAB6qHgnAAAAAXRSTlMAQObYZgAAAAlwSFlz\n",
       "AAAOxAAADsQBlSsOGwAABTdJREFUWMPVl2toHFUUx8/szuxzdjNbKqmYhrBGWixKrNqWYMqkmlqb\n",
       "WjZaAxLobrBdbVQaHx8UqTtV6Rc1btGKUNHV6ge10qWIWhPaLVIhBnQbBS0I3UAVKlajtLZWC55z\n",
       "753HTmbTaQmIF/6TnTsnM+d3zzn3AXDpbd6i2Z5GGvQbQhe3Nnx5YdiS0sOXgQFrZ3260LtbqnK5\n",
       "WkzztPTR3nJILkGN+n64RI796XS60/thQvfu/1bI0fqX4qXF07JhKrCvKve1IW7FFnJ8Rg9eu4x4\n",
       "NBj3e727lSJXXduNimY8LBsn7Xn2J1rGyy5byPE0Pc3NHceYd3e8wlXXLqDUsrjZ67Bs3DhHE6Xe\n",
       "hC3koPGQq3PH0eHdHRSqq40zdL1Z3B11WF6MYx8FMZixhBwq4kdhzjgSDbLimJCzyW10fd3FccwH\n",
       "xyqWXBVLyAFL0+mb5o4jTmU+0r3d3f+RUGSqp9nsi061YiKsd3EwqxMLaB4Lv/xpajCWGgIYSFEd\n",
       "y93NnOON1Cm8q1kijk8ANvtwXvfHQQMUWwFbKfDxNGs1c9RJbxvJadM2u0s5BzDu4iCrPUaI5Vzg\n",
       "FBS+hM8hvBhCGihdIDMO5a9M1gAVQy9EHCMQqfngKDs5JtG9Lrsjuax3k3gewBG+uwL73f9+HZdy\n",
       "CyStzDuegRsAvnFxcKs4y7lQBzTloDAc0CF8FkJFMV8lzkBQgwSWohBxhDJ0tdrkHQd30t8nxRyW\n",
       "aN99UnNzOOIRbs2XAobcJ6bPIL7rEEC7m6OTKz4NAYpslmAOAJwGKNBjXJBuTKevh3orCOWgSUeO\n",
       "QpVMsxgSxhEvUncYAytEBAnNKnPySZJhDb0jSZdHfhoCTZefm4VjFLcEKmx7AWyOZeJzHhzBHLxE\n",
       "oxag17VDDGfePa54cKtsyeTQkOM43v0JBZMDIfdVIYaxEGKRKB42P0Y+SRIcofEP4u841g5omtoH\n",
       "vaNLRktuDmVdS0nis33ZxMS8Un4HldWAsz5EXuGQfu1YPuJYBZMz88qyMjkoHn/b8cDl41AGEph6\n",
       "QozjTloUNxxew1Z44riCnCqkfuR7Bk2TBrzjcZdRMPrZb/VFc6NG5XgBa+B7VzwGubJV2GL1naVK\n",
       "gi9cHNzqZMJwcATLEDsP0Zyoj6ZhrCBQc5YYx7M4YMri8DlgPklyZJB45mWuUliJaPqOFm+OUXhM\n",
       "rMJ9srUm1MiTyXLZxbGeK6Spp62+X+BBMc86OZhVYkmczX6coxReDlEdIp2Q/IfNK5VQmU/xQowj\n",
       "SRlUDndwn6T4Jub+QzAeYzmjfbx6xnzF94md0Arj+Xy+CnoP3CNKDAO9cf4TU+6N9KNcytRCu3Q2\n",
       "9tIHrnVxMKvbR2iVCf+2ctvWlfKb7fD8bT/j/UB38x+UpcoJ2v0ESpasmSpYkmrcJ0mSP6Se5XBQ\n",
       "fTWffxjzam3Va/0AnPwH4XG2wfiuAj3iYYOzSWCYS5SOY+fX5uII+D1LPGPL4sgaoSMZ5pMkxd6h\n",
       "OXQausI6r4/3e7zPHytoTidbOQ4x050J74/SdpBtCZPFmRvIun2iWvbJMWbLjodR2JthPuG821NW\n",
       "dLgGy2czrw95wJvjg4lpiNyPP776df4Wcy0NNTjNPSAUdJ1Pdnha+mi0STdlccTGjq7jPr13pT5w\n",
       "INwFT6XwGxji2M5XlNGi93mQdgUb8vlS3fGhwRmgn4uS/SJe9/vjoAEzVbeSO31KcJ9W54c83rBq\n",
       "kXNT6G7bGwyfxuU+xBqelj7aAlvS1aUGRu/6etWtPlPgv2sV+J+1fwHgXXALkUN51wAAAABJRU5E\n",
       "rkJggg==\n",
       "\" style=\"display:inline;vertical-align:middle;\" /></a></dd>"
      ],
      "text/plain": [
       "<IPython.core.display.HTML object>"
      ]
     },
     "metadata": {},
     "output_type": "display_data"
    },
    {
     "data": {
      "text/html": [
       "<dt><a class=\"ProveItLink\" href=\"../modular/_theory_nbs_/axioms.ipynb#mod_abs_def\">proveit.numbers.modular.mod_abs_def</a></dt><dd><a class=\"ProveItLink\" href=\"../modular/__pv_it/axioms/dcdd087ff4180dd75da040d314fc2fe2278309ca0/expr.ipynb\"><img src=\"data:image/png;base64,iVBORw0KGgoAAAANSUhEUgAAAcYAAAAXBAMAAABjWfIkAAAAMFBMVEX///+IiIgiIiIQEBB2dnbu\n",
       "7u5ERETMzMzc3NwyMjK6urpmZmaYmJiqqqpUVFQAAAB6qHgnAAAAAXRSTlMAQObYZgAAAAlwSFlz\n",
       "AAAOxAAADsQBlSsOGwAABa1JREFUWMPdWGuME1UU/qbtzPTdWaIsCi4bAioSsRJfARe6JiAPJYMS\n",
       "jFlDuyLVoISK/vAR2EHMmvhjKfKIkZWUoD806BZDFFwC3RhIiIlWfEQTE7sRNSQSlpcgAeO59067\n",
       "ne20zMAPE+/mzE6n57s933nd0wJXsfz0Zy4DV7+Ma1A2nNmJYUtdrpvgy5m386+eolS8BuUdTkBB\n",
       "TUiJvfjZlXGRhEuOPXfE2b9ZU431heGn3zVAjJrOrvKy1nrKUqExFEum0WWckM/Zg7ddcXwcbuPY\n",
       "fYku4ZMG+vKVZ3K2UZZd5P8C+brKW64AxTaG17msZY9Trjjud81x0WTm+oM65OFnoUIjhDA0Vqyr\n",
       "/OUVoLjM3Jrnwqj6iq44xt1zHE894hXiWLW8uDLHPr2usldvDA2eY9e7uYTJQwF35Zh1zzFJDtWs\n",
       "HH9ywPGB+sqBQmOoj5dyr5BpEybc5YpjKCE49rSvc8wxSrEvHNT9m0rqpr1Ng+zZHlYkx8Zo7P7l\n",
       "GetGaztG5yDvHks7+9qbhaHbm06IDfZUFxwH+UriVT1oYLCFsnMhuHwGLHdgZsLiQeIYvA+r9AYc\n",
       "QxP44qYsCl5GRKc4BkrwnECXYbp4p6HwlMLUonopF45jtYFOyG3wcUPlv/WkOAh7qzYWoHC5C9lD\n",
       "kdwiXwCOgEsP/CUHHIcboqfIOT5awCeO44ibIYE4KiUoccRYnt1OHO5HSJwOy4C/oJ7HRKAro2TN\n",
       "5hg5By+PM1Ou9GMBisTN1/ZQ/KLjTuBbcFH0SnGxdXTegY08B8xeG5m47bhm4ejNcY4HwbZ1ynG8\n",
       "8WaZYwoxtiEdY6EheER+pIGzZKhKzTCWSGqQuaGhLL3i75Oy/BbPi4wJUofMve2h2MceowtcIlql\n",
       "5agt6Zzkw1y2b5Rdnv99BbSE73U7jvfw3ZxyTCa0Wo7eFJK5sqGnyNAI7RhLdZUNJS59xTLHyscL\n",
       "UDA+zNEGSv6n+sBOCMkOlOH9GTrFJBxiJnjpPkS1Ck0LL8KC/in9OUuuyqcQHqrhKLWRp7bW1iNl\n",
       "aGEER0o/8vrXFkN5MPKVYNDxaPbiqlw1QZFWNILS8Riiqj0KIQ+zkWHxwFwxHxHH61nMupp+46MQ\n",
       "cZQ6LHFUNM7xMqLZH2vi+C7JMZs4Bv/RR3DsJHOLOB4xqgzFDDoTc4GUWVSxDBUfHxs6qzgKUDhl\n",
       "5TgCivOsYeAwhKwnV8u3qhewhEfC5+9kXEfpY2W+jZboHmfhyLo25WonjubzNRxXktxbw/FjUGqD\n",
       "ZjkiGDA5LmTeikwJcYWt3NCLeCGDzfBPR5QNf4gWlDySWaE87GIOCpUbvT0Uf+JZ88xhEmVZmVfj\n",
       "2MU5hp7i1J7DkSA/ZrVP51j7qtrKOS697qXBDObLT65peeKrHKSB2UDTAMVRPdUyYgbpntWLG9Ey\n",
       "a/sbv8587OTMNatm0sPV5NnBB3uamcLaM3/8cKY073TCv2chlURHe/NpluPyMRobPZOEcqWvCpDH\n",
       "LJ06UCxdwKy/zRTRR6QSjqTT6aIk+T4CD8aB8NZ0eiXl6vyi5XzELZY5Z0MxkKLiWIFHmG+pHqVJ\n",
       "Ut5BH/JkHM4c39sqv+boC2SrEJHkhnJIf5HHUQq+x8IwhDY1Ierxw9k143A1R11JqHFq5Yq2QWf1\n",
       "qBTCWQefH8475JiwVd7vaCQrVI3zXqNrl67ovB4xOy8nMImKermoR1+HFakYFo6IamqcBo1ovo/3\n",
       "HG8m5GSowDPOKMqanbKzr0rdpogpff83D8H/NN19cEOiY5/ahleb6G3KkODGzXK/NS7Ui2o4UhwD\n",
       "Zhxj8Dr6HrPE4S8AtsqK4dSNI7yzOJ02bY8IMnPSK+yg6yCV66OZOCrEkcit16MFP9WjRz/s7Fch\n",
       "zc1PSCOUxzhyjyHEfr3v+MPlk/kv3uk5C1/TXqB9YHIG6m43xv93q4D/0foX3LLFixx3QhcAAAAA\n",
       "SUVORK5CYII=\n",
       "\" style=\"display:inline;vertical-align:middle;\" /></a></dd>"
      ],
      "text/plain": [
       "<IPython.core.display.HTML object>"
      ]
     },
     "metadata": {},
     "output_type": "display_data"
    },
    {
     "data": {
      "text/html": [
       "<h4>proveit.numbers.exponentiation</h4>"
      ],
      "text/plain": [
       "<IPython.core.display.HTML object>"
      ]
     },
     "metadata": {},
     "output_type": "display_data"
    },
    {
     "data": {
      "text/html": [
       "<dt><a class=\"ProveItLink\" href=\"../exponentiation/_theory_nbs_/axioms.ipynb#nat_exp_def\">proveit.numbers.exponentiation.nat_exp_def</a></dt><dd><a class=\"ProveItLink\" href=\"../exponentiation/__pv_it/axioms/6d47ab1332566898f17e2e8eb5976189ece78a0c0/expr.ipynb\"><img src=\"data:image/png;base64,iVBORw0KGgoAAAANSUhEUgAAAXEAAAAWBAMAAADEL7HBAAAAMFBMVEX///+IiIgiIiIQEBB2dnbu\n",
       "7u5ERETMzMzc3NwyMjK6urpmZmaYmJiqqqpUVFQAAAB6qHgnAAAAAXRSTlMAQObYZgAAAAlwSFlz\n",
       "AAAOxAAADsQBlSsOGwAAA/ZJREFUSMfFV0toE1EUvUkzTZqZidOFUhVr6cIuihDFhYifCHblhxS0\n",
       "IhXbgkaxUEepCIIypq41CEoXLlJFdNFq/H/aRQsWP1XMwoU/aIvUlUg3pSqK3vvm05nJZPrGjQ9e\n",
       "ZvLueSdn7rv3zg1AwBEzrmPPqgulVi0Qx7/t17h/xzmW6Rfh5XpYW2IMFYNweIw+jt19xpygL5+4\n",
       "hcspw23NOZgpsb4NxOE6iC0P8hAann87YWg+oS+93Mr3mDcJJZ50G4VcMA7HaAX5N8BFjv0X9Xma\n",
       "HredW/mQeVOhigXVZRSHg3E4xvKi8APTh2P/mD6r0gCRIrdyy8/nIXzKrbwiIIdjXM0DKq9Iz7+f\n",
       "MDgl9FMVf5hb8XATQtvc1vcBOdyGXyiFHVtC8wsEwtBcXV+/hlu5iMklVE91b/e03sPZXLt7i3WE\n",
       "nlDi6Js6u0hxG66gmgirGLEGgKxawm/QEYbmQ4AD3MrpUUWoVe7M6ahng/3gZZyF0KRYZxkdUBtH\n",
       "qksRvrvWj35DrZJ+IFmVxJc8s05HGJrnIDbhKDqdk2cc+Oy9vLTRuA+jO5/Dm/RXz+daiYyaNJOw\n",
       "EtUTihzx/AqIzZZEC9YWWU+CWIOHy006wtCsTEfyhiVam8kLXZq838LSijzRBPfN5ECoCo/LnMg6\n",
       "3ACi7rU2uphQqhpzCZYHQfgJMr0OhAvsxAyVm9IQnTbc5XK5nY4wNGXFStBBZIg0AzwF+4o8IkLK\n",
       "phxgVXnlCNHjN6z3Bga00akc5GlIuBL1BMARPI2kt3I7HWEYLjeCH9WPlmrsBbb3pN5XsL6Ercin\n",
       "bigpW7RA/Dvs8ozzlfRxSxPmKpsDauNA2QuGnQXwT5qUy3U+0WLQEYbhtuP7KKR9qSq2kPHdO1tf\n",
       "wlZktemDqbxSAeFwIgme72/oAGjJf4aIVQs8ocgBFSkYTzstG1m0SO3lM9SkIwzD9aC/JOiIQj+Z\n",
       "R0dtfUm/rlwMmbUVi5E825qMe7+6dgCMH78LA1bKOaAY7CzeqaCdV2Gx5PTqK1bPxZSzKmJ8t+Vc\n",
       "dIRhuASDYI16kclkiieu2/oStiKrQsrcHK0D4bby8bV3nB/D7qNaHprT6oQ26vGOHHAFYJ+LJD6I\n",
       "HReEWSKRpFjOiO9wwUUXtnBMUjIG3cyrmKGC2Zd06z6HAeut0eBX7cMq10vBjyPLsT9rx/VEciLW\n",
       "RzqorRpsFlJ6X8JWJGw+J+zdTtkhFbiUjwXuxkoxFk5csnkhxA7S7c5LnWp0g96XsJVjvUYXz9LL\n",
       "99/IIS7lPhw8XSth3LidmYwRPnLJihlrvtQtXMp9OCo1vgcvj7tWdt8ZX3coXNLLc9Rw7K7xxfH9\n",
       "Rfiv4y8KQhGCBY8kYQAAAABJRU5ErkJggg==\n",
       "\" style=\"display:inline;vertical-align:middle;\" /></a></dd>"
      ],
      "text/plain": [
       "<IPython.core.display.HTML object>"
      ]
     },
     "metadata": {},
     "output_type": "display_data"
    },
    {
     "data": {
      "text/html": [
       "<h4>proveit.numbers.logarithms</h4>"
      ],
      "text/plain": [
       "<IPython.core.display.HTML object>"
      ]
     },
     "metadata": {},
     "output_type": "display_data"
    },
    {
     "data": {
      "text/html": [
       "This sub-theory contains no axioms."
      ],
      "text/plain": [
       "<IPython.core.display.HTML object>"
      ]
     },
     "metadata": {},
     "output_type": "display_data"
    },
    {
     "data": {
      "text/html": [
       "<h4>proveit.numbers.summation</h4>"
      ],
      "text/plain": [
       "<IPython.core.display.HTML object>"
      ]
     },
     "metadata": {},
     "output_type": "display_data"
    },
    {
     "data": {
      "text/html": [
       "<dt><a class=\"ProveItLink\" href=\"../summation/_theory_nbs_/axioms.ipynb#sum_single\">proveit.numbers.summation.sum_single</a></dt><dd><a class=\"ProveItLink\" href=\"../summation/__pv_it/axioms/dd7c47b6a5a43e230e1d3347ec2de5e0db1e52380/expr.ipynb\"><img src=\"data:image/png;base64,iVBORw0KGgoAAAANSUhEUgAAAUAAAAA/BAMAAABjvQw5AAAAMFBMVEX///+IiIgiIiIQEBB2dnbu\n",
       "7u5ERETMzMzc3NwyMjK6urpmZmaYmJiqqqpUVFQAAAB6qHgnAAAAAXRSTlMAQObYZgAAAAlwSFlz\n",
       "AAAOxAAADsQBlSsOGwAABvBJREFUaN6lmmtsFFUUx892d2YfM22XgIYExU19QDSxC4rio7YSMaIg\n",
       "E5EPYCJrpI0haNfgBz8Yd5EEExNpYyKRhEd9fqiaLoT4gtglBIMP7IIfxEfoEqJ80MBuoXSpLeM8\n",
       "7jzO7Dzu9p6k/JntmTu/e++5Z869XYB6G5LlFATZfocGGfcuUNs6Sde4LE+7/X5ocDAb1EaoH2uw\n",
       "XU8PGMroGh0cdAekaGMojzXY+C56wo3m/zpmCMg9iBXg6SOPBdzSQQ+4psQKKPRjBW5htBZwzy8S\n",
       "NWDzElbAXBYrCIVoOuCepgL9EN7BCrjXoRAeCJWDhqVGDziaZwM0nmU9c0OePxY0hTvpAeMZNsCm\n",
       "DFZlBPO5z4IAR7P0QTjBBpgrYQVIHD65MuiucANB+AAb4EWH0plQofcdZgLk/sNKaYkpet+hIgug\n",
       "OIGV1u6jdw33swDyFazU85anD4caC2BrBit1divSL+MpFsChLqy01lemdo1dYwEcHrDrPtmyqn9g\n",
       "pek7cxcL4D7JrqOynoC5t+Z3XvKP3XF6wF6JAXAMaYtVf4vtJd9CdJoe8KbSzAFjV7C2X7MWn++y\n",
       "aW4gb44WZg5oPMfQnGytzq9wV4iS9BK94tdtfEsuM3PAUNWhslVIicjzRqLvkzfPmE+rxDeRJOVR\n",
       "igBqK/9PJ2CLNkIeaUuYxgq99Q8+uFxtwEhDIdKS7NrcI5Ld9waSYysE8BtV3nMCCmoCiXskfn4C\n",
       "K6yRnXVK5Lw6N+vMa7LnbHeryJ7cUrL7xnWfpnEC+Lo67xknYFQd2O1e1WQNKyTqtq/h37uVfw+b\n",
       "1z+SvOTW5Y5PJLuvWLA33qEBR0p1Mah2eZVXvh3HCrD6kmNohrRrKy+H9d/3DrjUOHorlq++YeIn\n",
       "CaCohEe8fpH8pPx47clJeJiqHgE4fJdpMWx9GNeD8KJLmoykHL679ew6bazixW1td9cDhtvabu6i\n",
       "BuQ6LyOPnxf/o0a/0gA3669XlJmIlL0AxXN3Fogv7Hh4qxqTDsAvAbrrAYUs8BI1oPm6M6xqDJsA\n",
       "85MHFAx9gIb1gRTaNNOhW5OGb2Kp9oL7XveZMgB3QEz15A4V7YDKZzvsTzy38YsnzB1cBavanLwE\n",
       "JV1tfTcp43UcRqR/lRlM2wFxiZM1fNcU4YC6wXcA8lJEDV3+hyxK1N3wuHH98t+bYCEsv84ETGPV\n",
       "EgiqY5or+l4ZIAtfa+8QvS+rky7vNDB8lX3ILeo7RA/NqgHYnNTWSKuE3yQnzTUiKEEAxejpoh9g\n",
       "X6o+8MPaml2kLdW0J+AyE/Ae4NSl+6EDEPqPqH0+twoDxkWlMW7lnDxJ7YIAfoCzUYbjy8a0QaIG\n",
       "a5XmU3ZAFIMvAfHlqiCqA33KCbhKS/PfOd7Fkd+UIX0qn8tzehY//qvfIkng7VNYA+GTwG1qSYOy\n",
       "QMWMZwwuAsN3Glr6TxskVgzCNq0nhxyAsYe0D7dAQmuUS3b5AeZw/ujTJlfJLc0Tz6QTJZJFXAFj\n",
       "ekJW89BzcKqgpJyDTsAWbXVsdlYz55Wf+2E+iDt7el6ESETiJO88uMgt8KMp4PYn/zihzuCAVx7U\n",
       "15PqC8/OefWswnK7Iw8Su9el3OJqsHltVOv8569BxAAMV7AqAesoFr7VZYH5wRvgBSiUHb6xlCsg\n",
       "N+5WDy6NTh7T03hXAT4wj47GsQL04EEp70ElglUK9NYdH52Jlxy+QtFeKpmA9uNHC/DTE3OKsF1p\n",
       "Vbxw9tG9nuWWcKsFp4J3kwzFG0vbKJfa66qZ24wyy/QlNVRTDQOKBc+Kmnu0ZxOelUmscNR6rhpw\n",
       "4jxyzWUcT++sm+Ejxh7B9H0BxY8ByJ/JNlDyT2G15ZhmvPPdSnQuUb9dKfENkb60phFgZFYDexLx\n",
       "MtY+M/S5Yd8jwNhYA6cQqZlvmhLXkFo55u2LcpbmRqrzt/LMAbmrSONXd2nW1inL/kMkVukBR5IM\n",
       "JwvtSIdtZzP+R5RCA+eJw1mWw6N8w+d9+lg3cJ64j+XwaKSIldZaU/S+YyyAfQWstJajP0+MXmYB\n",
       "DKewUp9Y0f+hJDTBAhgZx0prz9O78mkWwFgVK6VxDaTBDWUWQNjlUDpr5K8WI1kmwJE8Vsos00DI\n",
       "vgNMgBu6bBqat9UsSdRNlvfip89KsSk2QCFt07ktmT1Cj2KbtU2W912r6QcwUmED5Ko2LfJJI32o\n",
       "m6zAm6jWSJINEGbbtdUcNXWT5T3sDYTgAWAEbEradAvk9SnWNlneIThAH4KTrICJmqmx9Aoo2DdZ\n",
       "XnaBfgBbyqyAsMLS/R/NkuybLK8suIQe8KjEDMgnsQbbNvoXcczapLsDUny5jFuANdh2N5DRi8bJ\n",
       "svuXy9ZTfLkM3nRoYI/olwisN2quwcGP/wcTYzwnOirLmAAAAABJRU5ErkJggg==\n",
       "\" style=\"display:inline;vertical-align:middle;\" /></a></dd>"
      ],
      "text/plain": [
       "<IPython.core.display.HTML object>"
      ]
     },
     "metadata": {},
     "output_type": "display_data"
    },
    {
     "data": {
      "text/html": [
       "<dt><a class=\"ProveItLink\" href=\"../summation/_theory_nbs_/axioms.ipynb#sum_split_last\">proveit.numbers.summation.sum_split_last</a></dt><dd><a class=\"ProveItLink\" href=\"../summation/__pv_it/axioms/c382484991dfcefb9338964fba21be0b9b8d1b4a0/expr.ipynb\"><img src=\"data:image/png;base64,iVBORw0KGgoAAAANSUhEUgAAAiMAAAA/BAMAAADAj9VLAAAAMFBMVEX///+IiIgiIiIQEBB2dnbu\n",
       "7u5ERETMzMzc3NwyMjK6urpmZmaYmJiqqqpUVFQAAAB6qHgnAAAAAXRSTlMAQObYZgAAAAlwSFlz\n",
       "AAAOxAAADsQBlSsOGwAACzpJREFUeNq1XG1sHEcZnvvYu71P222ogIJzBKVFIGonpaQtWHarRgLR\n",
       "1JePBkp+nKM2JqBADlJ+UER9NAgkoNiq1KgVpXZVqZVMkS8pKoVE9YWqFQEVXwkS4kOxURpAAho7\n",
       "iWMndbLs7My7szO7OzuDtSMl73k88zyzz868887HGSFfylvWObS6VOikHw4rVjAeV0BzUaPSfVVN\n",
       "Wpd+3LLaAeXylyefX6Uk76E2MUZs9lBUjesU0Gz7jSH3aU6EV0gMqTb0OsE+NDkVKMn8KgVB+WX6\n",
       "YapBP7wVVSUzEImGbdkt9tVrJGgPqLYUaBl9Kh5Jtrfom/wk5GyK7MJ9kWjYpupu9h9kDWirjpw+\n",
       "kT4mSX4JToCOG5Rd6I4a3ierUWjYjnSdUZGkdItqU4HWpY9HkuwS/TAC7zSxPtGMqJRsRqA59prq\n",
       "9SqSoI+othVoXfp4JMnN0Q9Pu0O2VRyLqFRajkBz7D50QkmS2YZiW4HWpY9HEmgPe8pUvTAXVetQ\n",
       "BJpjN6FXssN22hshSU55zjkk2HgkuQE6pduujmAm/tHrcjTHzqM+pV5SWlJ+f3XexiJJ9gq4Ehc9\n",
       "WX09slqqKUUjdn1xSEkS9AnV1gKta+OQpAz1z7LnOhwdeBbmpWjEfrML8r8zfocMbVo50J7nbSyS\n",
       "1Kjexjt68d2KFK3W1EKbamnSgo1Fkhk6KotLevVuk6LN1LXAUmO6tLfFKMl+mHk1caYbMrT9mgvP\n",
       "ZV1aamOR5CJMM0N69WZbMrSLemClFV1aauOQJH8BhvOAXsXROQmai6qYzKu6tNTGIUnhMvTICb2K\n",
       "qV4Jmouqmm7WpaU2Dklyi7AdU6WbMm5akC/UFyVoxOY8YJZ8Xt+vuo0EtNTGIUlHhX4gW3OzFpkq\n",
       "jO9395+XVkxckaARW7LoLPa5Z05bvVK0tar7A0BLbRySjFKvahKHWLZAIlTskTaz9I4EjdqzbAv0\n",
       "11fkXlM1jgFaauOQBNoCVD3M0RWkc1D2ogSN2qTFfPBL0maMqM53QEttHJKspWM8QT3HiMUm15f5\n",
       "WYFaGhgY5yRo1GYtNrkW+DimwYPWKuFNbATRUhuHJNMUswBj1GJRU5Er+X5qn6HWkqCBXWsxIbg4\n",
       "JkEL5KmGHeFPQYuKtBZI4nTEv4mS+HPVg1caeWcgnt/ve/uFu/B0UIK4JUGfracajuaiWr63//PN\n",
       "+P8/wo/vo4vvoPkLihr3V/y0xNqS/ArbJ0RJ/LnKaZy+xhx0ju2W6OnuOYDf033uz4/zNYPQwBr9\n",
       "ohNO/xNvoRjumiZX5ekDi+aaflpibUkexuNvSJTEn6uc+qnoKXhNeUucG/qew2WOuT//jvaEiXA0\n",
       "sGhKPHtK/WUP7njuKCqSF5BxY7sXAop2tP20xNqSYFHTbVESf65ygqHJBvPgeX5E5IlYLK5Ikd+f\n",
       "bYejuX4mbQm771Okv7MM8vuy+x7eDCjqfBJoibUlKdqa5Xzu1Z+7CklyFr9ST5Owi2XmWuqSoPFL\n",
       "fIk7nf//zDKeCpWEFb0zgNaVBG1ct+5j/hnHl7sKSYx+bs1WPH0T7tsF27saXWce3GJrRIKN6ZaK\n",
       "JNstbjn5+43/dhyn/W9r92fvsh/oHuLCV3ySeIo+3fVfHy2xWJJfILTHL4kvVzUZ0PgamwUhqAex\n",
       "OuEdFVB35xFbpDFv246sw+kmDs1gkrhBPU0LbtdoJv5esDvgiTBJWFHjUrXWEGg9kvwImVgt42jL\n",
       "KwnNDVvtSiSBhUyN+YoCP/5HHYGSNvdv0Ez1P/ZTkqKDnaFohmd5NM25JpMI9FFb2EZxsWw/xEky\n",
       "Ohd8krCipUWU6hRpicWSZKpp7Gozv617JaG5JGSEM47yxz/zgOPPM2LTPSf6AZKgHm4NPEt8qo1f\n",
       "J6eb2XkdSZLcGrhE6t5uo9AD1xGvJHaXuxm6HCtqF+wYEGmZJKVOx492VLmBQ3NJwuf+2e7hiWQj\n",
       "vbUaIEnVc6IfKMloxe8QU47kGxxGrV5invP7avycCL95Oz0b1ktY0eQAmmqLtEwSNHYcS3B6Cx/Q\n",
       "O7k04XP/o3Ucj3/rh8gvyQ/OeE/0/e4VoWu5IOwrCAYOviBxr01eCfMlAe4VJW7ltjvmYDTguxtG\n",
       "FQ54AnwJK2qHJdNVgdbjS9AWJ4p7XVjjOLk7jn8KkXN/Gv02mx5JjLvX4Ed9+F/ciX6AJHneIW4g\n",
       "GJ3I+FK5F9n9i55Xqc04aIrz1aRnoN0I7Zw4jdLukwRIwop21PE9D4HWI8lBR7yjgiQ41/hQFofF\n",
       "+Nx/J5k/H617JNnWGLEleQ4vbz0n+gGSjHABh0niSnsKLC3t6s23yXysHJdk+Vh4lLg8e+ad/fqL\n",
       "6Gd0kg2MS1jRcivT9NGyuASVncfcJ0iCcwvNLB5u+NyfRMVb08gjyVF0wFZkM6ntnuj3wzthcckG\n",
       "fs+G/CJbQcbhzr++gcfQRKgk/YK14xLe4xBfjb6G0K6u0jGM8OEwSVhR461jflqPJMxfiJsDqYkE\n",
       "7kH43P/E8PBwGw1sxkMfJLkddaNsH639iju7VMWlaI5f9sElghvdnEf41a438ctUnH7MF6C8Sbeu\n",
       "WeEX4kwSsegjQYttJomxGCBJrZF5rUrO/R90fvOnFtrsSmIso333oh1fxp89J/q+zQE0zD3DqVyb\n",
       "W+yxBWBPI3pzAGW4xWhp7ifcYo8tAJPLwrLPX1Sg7WnwkmR7g3pJY+SF6g7n3D+D31K6gPIV1ktu\n",
       "zV5+zfY0eMh5TvThrMI9ZiisZ09g/7sBNgUyoAAsufuDtpAmhBOQIyxOsxuf3AMrpb2Q+11x3EI4\n",
       "IxYVafuFXTWmskeS/LE370YH2vjc3/wCXiS8veaLc0ySn76xBr+R4j7viT5aSx14Alz+q+zlY8dx\n",
       "HHYbjSFBm6ANfEADW2QzcNFufPF6AN+J+AfuEDfwfUVF2vO8JJlT9dCNRlJmx/Aw287g45LSXu9P\n",
       "MzRqK17wzcAlvpnfpvbdQSGYgAbWMwOf5DdyYcu3ERQdBhUVaE1h7zXdFbr3mg/Y/stI1n1T1Hvm\n",
       "6c78KPNX09KDhPxVCRq1JpuBd8nvakzNKa5TgZZale3oItKTpEaHrHFJmIEfPWtJL0QUFyRo1Loz\n",
       "sHnKkt/VmFG9XQ601P6/O/Sm5HdJqN5DZuBLTzppXX/U1fzCkgSN2nEC9tgHLcuqyA8KVO+jAC21\n",
       "sRyTw+xHLmxMe05x5RcccvMSNGIL3jPhlnxXXLW9QEttHJIU4cFnWnoVOyoStOKKZjPO6dJSG4ck\n",
       "Jri9Ub3bZWhkQIJm6l18Q9kLurTUxnILaSMEehW9emvrMrSNemCJJV1aamORZJDO2ulFvXr3S9EG\n",
       "q1pgmV5dWmpjkWSUTn/mgt4+9lUp2minFlptTpMWbCyS5GAt8aSeW16SouXGtNCU74QCLdhYJCnC\n",
       "LDzT0FKyIkUrLms14jFdWrCxSGKAs68NaI23lhTN0LrSaK7o0oKN55sWL0KYhV1c18vuCpTs5IZ6\n",
       "5Qg0x6qipZWfYVCw8UhSo57QWMAL03/k2i/hr9C06E5uWN9aiEDDVhmtpuqMgdalj0eSBEyA1+JF\n",
       "4+4sdJpmVjIzFioRaNgqox1RXn5UBPqYvu74AViz4XfFvrpFdnLDxvREFJpj1dBM5YvDQOvSxyQJ\n",
       "fD0Yf7M322si0tXpTm5IejsSDVtFtLJqVOLSuvQxSZKGGOLT6GB6DM7UnZ3c0Jn7lkg026qivaoa\n",
       "6gIto49JEnygRsLqzsJ773gX4OKd3LB0sB6NthspopmbVBsKtIw+WJLV/xmGbZTBuFG1xlMKaNtU\n",
       "I9JcS5cWbMifYTAmV/1nGExo/PdU58IJBTRTVZLPI01al/6hycnq/wAmNysWP62l6wAAAABJRU5E\n",
       "rkJggg==\n",
       "\" style=\"display:inline;vertical-align:middle;\" /></a></dd>"
      ],
      "text/plain": [
       "<IPython.core.display.HTML object>"
      ]
     },
     "metadata": {},
     "output_type": "display_data"
    },
    {
     "data": {
      "text/html": [
       "<dt><a class=\"ProveItLink\" href=\"../summation/_theory_nbs_/axioms.ipynb#breakup_sum\">proveit.numbers.summation.breakup_sum</a></dt><dd><a class=\"ProveItLink\" href=\"../summation/__pv_it/axioms/85378f0ada67eb98b7706ce21519b64be1c810960/expr.ipynb\"><img src=\"data:image/png;base64,iVBORw0KGgoAAAANSUhEUgAAAmEAAABABAMAAACgtL3CAAAAMFBMVEX///+IiIgiIiIQEBB2dnbu\n",
       "7u5ERETMzMzc3NwyMjK6urpmZmaYmJiqqqpUVFQAAAB6qHgnAAAAAXRSTlMAQObYZgAAAAlwSFlz\n",
       "AAAOxAAADsQBlSsOGwAAC5JJREFUeNrlXFtsXEcZnrX37J692Nk2aURFm5hUaVD64CRtLm1B3kpU\n",
       "oiLI2zrl+mCjBgNSJC8UIVEEPqhIlYCwVqVWBKquoQ9IppKdgNKWVPUmVY0iKDZUhJeKOALEAyix\n",
       "nSZxrodzmX9u55/ZibI6L8yD/6OzM9/55jsz//xzOSakc6no+yuan0oVenHYiPD5muHHwyoWmpwX\n",
       "9L+ZSyZpABbDbPr+AumkYlemfqX56U5qMxNGhMyI4bcJBevbeOb1eog7LSvCaKxX7DNT051VbEn7\n",
       "yyq9mPbMEPv1P0FRhtVbRfPlqm1ZtE37FSyO2Z2SYkMt2rw/1gZiSEuIFQUs0l3HM368HYv2CWgA\n",
       "FsdMS7E3wJGwTpm9C/UpPTu1PmhCwSLjt/0LzflerQ0Lmh45rq0JowFYDDMlxfKXoJKsWWzNb0Oz\n",
       "3qcDh6IMi9xe+zCas2umDQuabfJpfVXuU7AYZkqKFRbpxcusxYw4eJ86rXN0L6tY5AA5iTeQ1TYs\n",
       "4nSUfFZfFaABWAwzJcXU5wcPntSJqxktWVEu6W7yFp73RWLzMh4yVYXReFGxKSl2L7RxJscaXVPq\n",
       "uYTfZ0XvZbeWiMbHn64bWdBkHDgZDcACm45i+evgi9jjCpNEEwQ8rHFjCwoWIZvLmvbYPWNkQdPP\n",
       "SNZQl4cVLGZTUawX7p9jt9w3j2tGtFn89jkVi5Dv3KYbVpeMLGj60R/vMNRlVsECm45iw/T9OFct\n",
       "QKbRoIkVHZ6x4HHNxMIuAQ3AApuOYvPUB5QvWYB0o/MoVnS+boHxoImFXWI0HpRtOoqNwZxjyQKk\n",
       "hHpkVnTMhsisZ2BhlxgNwKI2HcUuwgA5YgHSg3YpVvSiDZHTLQMLu8RoABa1qShW/AB8Q9UCxL2B\n",
       "upWqgmVMjUUDC7vEaAAWtakoVroCDXzSBuV+tJ9NKlhmJ7TNwMIy3a9gUZuKYoUL9KIZBRRNn6dl\n",
       "zN9gYUezJmIVBAgfmdHnLhhYtGcg0QAsalNRbE0fvYgXaE/78aDl/HDDwHkk+0aM04qE1ePTofNz\n",
       "v/iHj7SnzHUDi/YMJBqARW0qijWo13Zj39vrM+7lfuT5p5G4yb0oY53jq+MnEHV6rupZWDCQaAAW\n",
       "takopj67n/v2EjJ6jo8YJKBYXf6isAaRnBBdNL+INgwkGoBFbSqKbaSeJkN9xrjPB//Xkdi8D+lm\n",
       "yzJW3ucxSCkZfDkrehYWDCQagEVtKorN0oeUwCP4PEgtIw4HQYGiDGujz3VCgi9fz8KCgUzDl2yg\n",
       "WNS83++YYgjcGJ2e5GCmM7ZiQulCBjpeFLD8PhNGf3K8HRMnSWYGMg3Aim2g2O9C+9OOKYbANWlz\n",
       "KMCLHfJNk+LCquEeYDkDxll90zPfMjPAHxnbQLHvhUPRSMcUQ+AG6EvqhrdW9K8bUHJIqMmKAhaZ\n",
       "Nm61jkGsXGypLCwYyDQAK7aBYoUAKbvQMcUQOD/hoAbPG/a+e69bOBWS9XcamJwDBj0V3LUZGcg0\n",
       "ACu2gWLl4C0UOuf5EbikYgV/4lYVI83Lt6KYkUEbxciOTZse6OBYmYRLKuYMSNPi7Cf+LY6L16wU\n",
       "G/KrWggy22qjmMLARAOwYhsq9hohX267WmSvWALOAa7DS4l5ShzQbyVD3kGVamlTlBalog6vN5sp\n",
       "IRCIYo4ScEgMDDQwxX5CXBZA5+WNq95dn9ofDSo56fYpD/Kd8hKKiXAxV5i6DfMZYEn0Qt0Vkpu5\n",
       "g5yglcsik2Mo6gjTwFnBFSkQZLCSUEyZQJYSflBHA7BiGyqWq2X5Ksw/+Uxjw+hkl5d9vJZQ7FQF\n",
       "8p2qJNuYBKdTjPQLssyGRwSqbAvTVrEuYdVCgaC1C5rpPTtoM1UVkxgYaSQV66kInno3uzpWD+Ph\n",
       "7/6YqIrNtSDfXAvplRKcVrGGEIDuCug9UCMNcnOKuStaCIs2JjEw0kgqRibCExv7jn8ybFjLG8I2\n",
       "lb2rkonVmJkRFIvyrF+AfNGVeOQkniVFcNnjVUfv+QlZy7uzE1DLBgPTnLtO68cQz08ye7QQ7T2/\n",
       "xMBEA/Nj5NMvBPk/mg9j3MzmTCjR1vy2z8STroN1rliU5+lIpjBffCUeOYkVC+HIFnIma1CsKO4q\n",
       "hVQDjDMHh7ybGCvJdF0LYaFYMbGvpaOBKPZs8B5LM1HFc63yRHyM5NUo1+O02pFiUZ6e/TWaL74S\n",
       "j5zEikVwi+TklEGxcTHGPUrIH5bqZPtC/mbiMWmLW4FoH4/JDIw0kvEY6a2HJ0cyYfvvrgd1jZzf\n",
       "ydHR0QVSfZQ8yRSL8xRDoaJ88dWkunYRw5FXWLg0AIMRj8e2S3HQ3uO131bcq6/pI1hWdIDHYxU9\n",
       "BKbYgNwHtyfDMQ0NRLHItXq5d4L6r4nuhMdIvhlJ8LcWeZQpRvPk/+PRfNGVh632BHfHa+pCAl+U\n",
       "KCDz4PLIL115ncK0kEDIzw0QfKGCKyYvZxR0M/EkDcCKLVOs2xt/tbaPdNXmyL7oGEkuGgFKpNjH\n",
       "21iYJxykztbCfPGVeOSEKxbcHXS0qz1kFJuVVL4Ru4CuVYvVHpIbMUCQfi8xE5dWe1AGGhqA1e9J\n",
       "ihXf/PPewKvnD1eCv+ExEvcrwd0/nV33tUWmWJQnEoqE+eIr8cgJV8w9837pbhbo0I7L9r9Km3nk\n",
       "zkXxen+vdF4h3kxs4B3hTWYhAaF0QbmkloGGxoBklTXYBeHvvtFR/ozcLa1a0/ecgdHnbd6T30W8\n",
       "PLY5dE3BKvPQoowsvJzXs7BgINM4L1lZsWKN/1WUvxXF5mm3LX+QGNh7EHUayOoqFGVYQmjxXjK7\n",
       "u6JnYcFAogFYLrbOX9YufHPFvhWMoaOefNVGsWk6zyzSHZwGe6gzO6PPLiHfkH90+Xj6xauG7BrY\n",
       "NgxQ1tTa7oy4t9LGhulSlHNZGdgPnvORE0rzyCa3c1nGYqGF+3cfGVrLy3oWFgwkGoBFbSp7SV1w\n",
       "uz8eRy8fitKmAfwzplmsDv0yVjOGeP4e38e2SEqXDCzaM5BoABa16ZxUkY9izQqnHrCTT02Uvydi\n",
       "lcRzFy1kV2PJwKI9A4kGYFGbimJlYDXfskFB3zoULV+zgVjTZ2BhmVYULGpTUcwF39ywOYmaR895\n",
       "QVHX5igtGa8aWNglRgOwqE3njOIOmFj0WYBk0MOyrOgOGyIb6wYWdonRACxq01FskEZ42QsWIDk0\n",
       "QGJFB2sWGE+ZWNglRuMp2aajWIMO1O6yBcjwItqzlxUsU3JumFjYJaABWGDTUawAodAhCxDNIfJD\n",
       "KpYh4afgbUomaQAW2HQUK8PAPh/GCCfM7/p5TQ08Aav8ESNEoU/LQijJP5p2TuppABbYdBRzYNwZ\n",
       "rhLDZ29x99MEAcNVEcv43RpptPQseMn4o+lwDP767XoagAU2pW/ffgNRZOhOG0aMrAajtE3Acs2f\n",
       "UgzqWQgl44+mo4b2Fz2NQcWmpNgw7Yjhfg3f8IENLDRrooUsCxnKI9+HiMvZu87TZUWghZLxR9Ma\n",
       "xSTGImZKimWggawl8WbN0XDdo0U3sKR0RAe+VsDq/dBf95RCiAPkCW9cVazUp2chlIw/mtYodkTB\n",
       "YphpfVkP/rYreHVswwc2sCT/of1OoavCsbrvJjCiHiOJr70bk3oWQsn4o2lcMUYDsBhmWooJ/6uC\n",
       "b/jABpaYehe14MK/zGgcYyHIQ2SDmvOsgYVQcjd5K2htu4LWllSM0TirYqalWBZiocfizZq4V9LN\n",
       "KTG9rQ/MH+NYc8U+L+5bzio58KQSRew0sOAl6UfTeBsDGoDFMdNSjHwJJh8VvuHDNqeE3rDbMG+p\n",
       "MKwz+T7w33vyV96R8z1bN7AQSsYfTaOKMRqAxTE7rJh+ge4J+khnC9/w4ZtTPPY0rAc5WxjWV8l/\n",
       "oQq/fnedUuYlPYRUMv5oOlTsB81HNDReUmyn/9ORM6X9T0cu8HzOiPAF04/PqVg4CUOAjJQcMdEA\n",
       "LIb5zNRUjfyfp5mbLvE/TPrMDX4yajgAAAAASUVORK5CYII=\n",
       "\" style=\"display:inline;vertical-align:middle;\" /></a></dd>"
      ],
      "text/plain": [
       "<IPython.core.display.HTML object>"
      ]
     },
     "metadata": {},
     "output_type": "display_data"
    },
    {
     "data": {
      "text/html": [
       "<h4>proveit.numbers.product</h4>"
      ],
      "text/plain": [
       "<IPython.core.display.HTML object>"
      ]
     },
     "metadata": {},
     "output_type": "display_data"
    },
    {
     "data": {
      "text/html": [
       "This sub-theory contains no axioms."
      ],
      "text/plain": [
       "<IPython.core.display.HTML object>"
      ]
     },
     "metadata": {},
     "output_type": "display_data"
    },
    {
     "data": {
      "text/html": [
       "<h4>proveit.numbers.differentiation</h4>"
      ],
      "text/plain": [
       "<IPython.core.display.HTML object>"
      ]
     },
     "metadata": {},
     "output_type": "display_data"
    },
    {
     "data": {
      "text/html": [
       "This sub-theory contains no axioms."
      ],
      "text/plain": [
       "<IPython.core.display.HTML object>"
      ]
     },
     "metadata": {},
     "output_type": "display_data"
    },
    {
     "data": {
      "text/html": [
       "<h4>proveit.numbers.integration</h4>"
      ],
      "text/plain": [
       "<IPython.core.display.HTML object>"
      ]
     },
     "metadata": {},
     "output_type": "display_data"
    },
    {
     "data": {
      "text/html": [
       "This sub-theory contains no axioms."
      ],
      "text/plain": [
       "<IPython.core.display.HTML object>"
      ]
     },
     "metadata": {},
     "output_type": "display_data"
    },
    {
     "data": {
      "text/html": [
       "<h4>proveit.numbers.functions</h4>"
      ],
      "text/plain": [
       "<IPython.core.display.HTML object>"
      ]
     },
     "metadata": {},
     "output_type": "display_data"
    },
    {
     "data": {
      "text/html": [
       "This sub-theory contains no axioms."
      ],
      "text/plain": [
       "<IPython.core.display.HTML object>"
      ]
     },
     "metadata": {},
     "output_type": "display_data"
    }
   ],
   "source": [
    "import proveit\n",
    "%theory # toggles between interactive and static modes"
   ]
  },
  {
   "cell_type": "code",
   "execution_count": null,
   "metadata": {},
   "outputs": [],
   "source": []
  }
 ],
 "metadata": {
  "kernelspec": {
   "display_name": "Python 3",
   "language": "python",
   "name": "python3"
  },
  "language_info": {
   "codemirror_mode": {
    "name": "ipython",
    "version": 3
   },
   "file_extension": ".py",
   "mimetype": "text/x-python",
   "name": "python",
   "nbconvert_exporter": "python",
   "pygments_lexer": "ipython3",
   "version": "3.7.3"
  }
 },
 "nbformat": 4,
 "nbformat_minor": 1
}
