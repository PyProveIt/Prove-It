{
 "cells": [
  {
   "cell_type": "markdown",
   "metadata": {},
   "source": [
    "Demonstrations for the theory of <a class=\"ProveItLink\" href=\"theory.ipynb\">proveit.numbers</a>\n",
    "========"
   ]
  },
  {
   "cell_type": "code",
   "execution_count": 1,
   "metadata": {},
   "outputs": [],
   "source": [
    "import proveit\n",
    "from proveit import defaults\n",
    "%begin demonstrations"
   ]
  },
  {
   "cell_type": "markdown",
   "metadata": {},
   "source": [
    "### Demonstration of '...\\_both\\_sides' methods for number relations"
   ]
  },
  {
   "cell_type": "code",
   "execution_count": 2,
   "metadata": {},
   "outputs": [],
   "source": [
    "from proveit import a, b, c, d, x, y\n",
    "from proveit.logic import Equals, NotEquals, InSet\n",
    "from proveit.numbers import Add, Mult, Less, LessEq, greater, greater_eq, Real, RealPos, Complex, zero"
   ]
  },
  {
   "cell_type": "code",
   "execution_count": 3,
   "metadata": {},
   "outputs": [
    {
     "data": {
      "text/html": [
       "<strong id=\"basic_assumptions\">basic_assumptions:</strong> <a class=\"ProveItLink\" href=\"../__pv_it/demonstrations/79402aa3d020c1984e1091751b6a7954741833770/expr.ipynb\"><img src=\"data:image/png;base64,iVBORw0KGgoAAAANSUhEUgAAAocAAAAVCAMAAAAD+7SxAAAAPFBMVEX///8NDQ0WFhYLCwsYGBjM\n",
       "zMxUVFRERES6uroiIiIQEBCYmJhmZmYyMjLu7u52dnaqqqqIiIjc3NwAAAB1ELWhAAAAAXRSTlMA\n",
       "QObYZgAAAAlwSFlzAAAOxAAADsQBlSsOGwAABRxJREFUaN7tmuly6ygQhZm5A4itAen933WQZDss\n",
       "3VhgJ66ZCj+SSuzPpzk0zSIzltrKfttv+1R7ZF8Ml95vnJZyc0pLMyo1j74g+p+F/7/NAvLPJZ6/\n",
       "g7/6MZKtInHCyOLzQGo1ic6Lno07bb9H9qMwY95HWy5TV1xGwVnBSwYPKXKJcvGYq+BGvPXHLy7K\n",
       "F5ydRtmL5Ba+R/ajMHOpV6DWjsvgzGVwVpA0OLh1RlFyXNHtU9WaUW9TFruRZOii7DVy2eB7ZD8K\n",
       "m6PyedlzGbyKF8FZQcJgo7L1dUCxmJE5Z/YJpmkwSpWaQ7yVT2KtSRKdF70Vd/Um2U/BaF2Tx4iF\n",
       "0lbEZeXhAki1rKrRnFd90QFFuVKchhQMhS0uAjrHBYDoxtqSJDov2q5VL8h+EMbq2nb0ipcF0Cus\n",
       "jpWZiIJUCcyqGs2VW6422OuKiyC5NBft/ZSyCh/XTGR1gK81XObbg+NjRIwi9EgSTfbGaPiE6BFw\n",
       "3v8RWUgBA/c+TMAQj61Mll9DHa59Ruoa3AfJdFx+FLXskICDpcWYJM7VBjOwqi7ehCImWRhRcl6w\n",
       "+7Kw6PQ2mZVXt2Leaqc2VU1+2NI4wLZ2SAplq0r9tHJc9FLAJJxMiCIyqyZgz8K+lzHblHITdluc\n",
       "2Lr5c5Bix+WsGAvogZXFWFVDuTpSEK4teihZSlp1tH/+7D8FyhnH1PnZoM2BZOmL772NaQ7Y5yKv\n",
       "Y4ekUKb8M5QgbwG7bsAUbNY9j4AJMw7zcNok5Ixy6zNS1x6D5DsuZ3kooQdWFrO1rWoY1xrczUPf\n",
       "GVVkspZcmth6OZN2e/A3u7W6NVmuNRJM1Y0z1kckGEmiZWEYEb0SMAXzyuERGG4Of9k81uEqbKyu\n",
       "wenlUhSZyuWv/BX5utyClcVoNuFcE+mKrctYqMipZbEdjm/3PNTyeHHJrk2JuwhuWXU1e8S6PDYS\n",
       "GEmhWlZ3tWPks4ApmNXTdQg+Dq5842y2w3nYaF07N0+h2PxXLmPrOQpWFqN5SHJ1pNQ5pQxVI4bU\n",
       "e5eCW/RtXYYjL7MtT+o3dSdm+Srbe61sDih2FYWt6pUaI58FTEV8jGgyBmAGPipT1DPKSNhYXZPn\n",
       "tVpRVmqX8XubBmwsxqoaySGR1vc2baiV5LE//Puvc8UQKBcUk/FEwzFVWPh66hwJb9P0vz2JuTvE\n",
       "77sJkiTRk1qGRa8FTMFyYUIfR46JmM+rL5ndQgwot2Hf61r+D6Mf+f5QrV3G77FbsLYYRVuOirS5\n",
       "x8ZCbSWbG4WMS3/I/ch82Bb3rLTMlg9eGm/319OeJw3kfoC7VfokKy3rkRR6nqk8Hxe9FDABh42D\n",
       "TT4sYSZmZvcHx8VFxXUYCRura/sqBZrnqpXLxHO9FmwsPu+eqoN8y6GRPoo374XaSgZLR7oDaQuj\n",
       "bofy6PkqYsaCkEse6/kdkv1SXEq3zxal4PZGXz4crEkaZT4dKnNHBkSfBkzCYFMFC9aEuZhTf6Mt\n",
       "LlCuw23Ye0q0Bwfrozjek6teeASLgLXF6BV4yyEGX1VsJZEL1i8ukWmqKlpo8bJ8WFVPC5glX0BD\n",
       "5wnSC7KDsHdvUgb1JLnC1Pd1roDGrW8VpMknX+la91po7Kws8+wD6Aui74H3FAQdfkr5x8FvGBrX\n",
       "T+2zzsvZr2NDnI54Hn1B9E3wvowK/1PKFAgqa/yNiiQ3r2ielENJX39daS8MavwA+S44mGiXH1P+\n",
       "cfAbhkb1y+G9EK4vDc9v+21PWv+oE/c0/Bd+v3RFZWak9AAAAABJRU5ErkJggg==\n",
       "\" style=\"display:inline;vertical-align:middle;\" /></a><br>"
      ],
      "text/plain": [
       "<IPython.core.display.HTML object>"
      ]
     },
     "metadata": {},
     "output_type": "display_data"
    }
   ],
   "source": [
    "basic_assumptions = (InSet(a, Real), InSet(b, Real), InSet(c, Real), InSet(d, Real), \n",
    "                     InSet(x, Real), InSet(y, Real), \n",
    "                     greater(a, zero), greater_eq(b, zero), Less(c, zero), LessEq(d, zero), NotEquals(c, zero))"
   ]
  },
  {
   "cell_type": "code",
   "execution_count": 4,
   "metadata": {},
   "outputs": [
    {
     "data": {
      "text/html": [
       "<strong id=\"defaults.assumptions\">defaults.assumptions:</strong> <a class=\"ProveItLink\" href=\"../__pv_it/demonstrations/86639f89f83c3ecb8d1d3efdcaf66bc29ce4abce0/expr.ipynb\"><img src=\"data:image/png;base64,iVBORw0KGgoAAAANSUhEUgAAAsMAAAAVCAMAAACUqhNrAAAAPFBMVEX///8AAAAAAAAAAAAAAAAA\n",
       "AAAAAAAAAAAAAAAAAAAAAAAAAAAAAAAAAAAAAAAAAAAAAAAAAAAAAAAAAAAo1xBWAAAAE3RSTlMA\n",
       "InZUiRDNmWbv3US7qzLn9enz+YF6hwAAAAlwSFlzAAAOxAAADsQBlSsOGwAABXhJREFUaN7tmuty\n",
       "rCoQhQFpQATOxfd/14OoEy4NI2hqsk+FH0lVMt+s7tXYIEqIH5T8jt/xJ47XzGXTpc8rMRuzCj0b\n",
       "1Ss1jt4Q/WPh/++Q8PAXLmz/PfGrhCHUes4qk8YCZtaD6LjoPpyY5bfIfhT2g3MmaafJKDeqd83g\n",
       "LkVnnog0GSz0CBA9deHhl7PZf4QcRslNcp2+RfajsDfUZwWa1k0Goa5yo3p1gydBRxSNeyDSPPCt\n",
       "RUjVWxd/9YieidRGyT1yWeFbZD8KExVaLjcNk4Frdo0b1asZrHS0J+hQTK7m0UiLyLcLe240aqP9\n",
       "EEhdzJs8c7KOjoseK5J+RrZf+ZmE8X5qQrmnxNZyMjHN4T1XHVE3bXBcN0U7FA0djbQ1ZvCJVPfL\n",
       "ggHaWyyAbeZZknV0XLRYYG/Ijig/kzDeT9eQlUs6L9dY/0xnMcZVW2/UTRtcuoMpgr2uuNjBSN9s\n",
       "JhSR5x0dtZzRKEAqAF8fnYm3Q/v3WMbs1CDrKOGMKTciGiKOTOiRBR8vOM6ngXSBhe1XNDe7Es59\n",
       "xvopnBVWVZO/mml0Y4RymcWYZIXLDCYgdb5oVEhMMjEC58qyoFd9UgBuybmULbOXMFFrFxSryyz0\n",
       "qvOmA6svIqy0TlZRqn280gyIFhH3yHoDmWVE6oF0OZm2/ZdayYhy4XPZFL0rK98rzKomx4uAhQaX\n",
       "W4x1U5TLQwUryrmFk4mk1GH89ff20za5oiwHuw+LFkAJove4YFYBiS4b/D5FqfIgY9/VzKxOVlHN\n",
       "Y7JH9IhYtAKuwYpuFgCxqj9dN+02WTOiXPqM9dNXhXnV5HgOG2hwucWElt0U5QqDm3OYN6qKXOgo\n",
       "h5QFuzVMC+Dn87zsE359aR+fnM/pb9L10YDKJfY8z3AwsobKtCF1iWYR98i6tDhdynBU56tEfQln\n",
       "PqP9FHYvl7hLpSZHc9/GewmEy3o+NhMxDgmVYnsJlCz3Vot8z5VlQbcSaQHces7h2YQvXqIj9cp5\n",
       "kZMkP7YPeS7nxgkja+icfrZHNI+4R5YUbaJHORwQuNWNKBc+o/30uOOZ4jue1GR8D4JxmcXoHMY4\n",
       "NNTaPR1CksZuuMIRfKHBj/vOAizzsZeAcD1EWzzvWe3MUzpqkNPhr4tPk6sorFnE10XLiK/L7j54\n",
       "UwFG0g2tgs0jyojPWD8lJlAq7meZyZWztYIrLMa6KaZXCzU/W6uRJNnT/vNvuqfFOKQs6H44LcCk\n",
       "iWG77BQuUTJ9vUXBKnXxbed4wvey1527pxpZQ4/b0qVftIz4uiyYhdg53B2QgXTD0aaxTbamXPp8\n",
       "9tPkD2p+1QpwkyvPOBAusxhFEa4Wav6MoyQxyeLkBlNEyoIfNMcFUGY7mgh/ZtuMliTatZRrjq/L\n",
       "9n+/x/Nq243yuTz5mE2TrKH7vSt3A6JlxJdlp9WB9GYtMXBdWW4vQqTHXpcTRnzG+mlYHmF2EZmZ\n",
       "XHnWXHKFxfvxVHZgUnJ4qOei4VpkKTnJC5GiZcFGUgDpt2z6ODhh3FHLIl2wZonz3N/F2h62GCO2\n",
       "i1Trs7tYnjyxzskGyv3Ne+xmj2ge8WVZkL5zTlKlz2570mUyOeS6njASNUP6qQ+RMxs+9EXyC68F\n",
       "lFxhMfp4BOGQKXFRsZREDtCRDLGyoJJxAbRvEboe48JN+gA1vxxhlLyBTo2nkzdkO5W5eEgZ9LuJ\n",
       "OQ0+jn3LKUGf1GuQb16NHFE8C0C3HqzkaMiEkw+gN0SfgTf3YJ5+fML855RGwJOKSQH2tcmMvv8G\n",
       "bDjbcfSG6EPwtvRb/umEIb5jdw8qVrlxRcUf9SYuwHHsA6Pvv92YEOwD5FPwpJhcfn7C7OeURsOj\n",
       "inEBzgZMb5X2d/yON8N92zezbQr/BytLUEHQVKaXAAAAAElFTkSuQmCC\n",
       "\" style=\"display:inline;vertical-align:middle;\" /></a><br>"
      ],
      "text/plain": [
       "<IPython.core.display.HTML object>"
      ]
     },
     "metadata": {},
     "output_type": "display_data"
    }
   ],
   "source": [
    "defaults.assumptions = (*basic_assumptions, Equals(x, y))"
   ]
  },
  {
   "cell_type": "code",
   "execution_count": 5,
   "metadata": {},
   "outputs": [
    {
     "data": {
      "text/html": [
       "<strong id=\"num_rel\">num_rel:</strong> <span style=\"font-size:20px;\"><a class=\"ProveItLink\" href=\"../../logic/equality/__pv_it/theorems/8dc625ee9fbf5f96228c059ed58b16ec83d4e40d0/expr.ipynb\"><img src=\"data:image/png;base64,iVBORw0KGgoAAAANSUhEUgAAADMAAAANBAMAAAD2/0vEAAAAMFBMVEX///9ERES6uroQEBAyMjLc\n",
       "3NyYmJgiIiJmZmaqqqp2dnbMzMxUVFSIiIju7u4AAAAd7oVFAAAAAXRSTlMAQObYZgAAAAlwSFlz\n",
       "AAAOxAAADsQBlSsOGwAAAJpJREFUGNNjYHh75/WqCQwogO9GAsMbIN3Ae5ajAEhzlIPBASCTi9OA\n",
       "IZ+BgS2A7R9PAqqunUC1BxkYuBk4HBjQwAPmCwy2IAaQRgf6D7h/g+kAvgeodjG0MPAaMDA8VDjM\n",
       "wIWuS4aBEahk/r5mBk10qR4GfaDLXtzlbJuALvVmbX8AAy6wBIc4lwOfJQ4p9gs8C3BIceY2AUkA\n",
       "2hAptbp3A+oAAAAASUVORK5CYII=\n",
       "\" style=\"display:inline;vertical-align:middle;\" /></a> <a class=\"ProveItLink\" href=\"../__pv_it/demonstrations/276c4ebb34a4a5319cb0cc822d5c4c4923b4578f0/proof.ipynb\" style=\"text-decoration: none\">&nbsp;&#x22A2;&nbsp;&nbsp;</a><a class=\"ProveItLink\" href=\"../../logic/equality/__pv_it/theorems/8dc625ee9fbf5f96228c059ed58b16ec83d4e40d0/expr.ipynb\"><img src=\"data:image/png;base64,iVBORw0KGgoAAAANSUhEUgAAADMAAAANBAMAAAD2/0vEAAAAMFBMVEX///9ERES6uroQEBAyMjLc\n",
       "3NyYmJgiIiJmZmaqqqp2dnbMzMxUVFSIiIju7u4AAAAd7oVFAAAAAXRSTlMAQObYZgAAAAlwSFlz\n",
       "AAAOxAAADsQBlSsOGwAAAJpJREFUGNNjYHh75/WqCQwogO9GAsMbIN3Ae5ajAEhzlIPBASCTi9OA\n",
       "IZ+BgS2A7R9PAqqunUC1BxkYuBk4HBjQwAPmCwy2IAaQRgf6D7h/g+kAvgeodjG0MPAaMDA8VDjM\n",
       "wIWuS4aBEahk/r5mBk10qR4GfaDLXtzlbJuALvVmbX8AAy6wBIc4lwOfJQ4p9gs8C3BIceY2AUkA\n",
       "2hAptbp3A+oAAAAASUVORK5CYII=\n",
       "\" style=\"display:inline;vertical-align:middle;\" /></a></span><br>"
      ],
      "text/plain": [
       "<IPython.core.display.HTML object>"
      ]
     },
     "metadata": {},
     "output_type": "display_data"
    }
   ],
   "source": [
    "num_rel = Equals(x, y).prove()"
   ]
  },
  {
   "cell_type": "code",
   "execution_count": 6,
   "metadata": {},
   "outputs": [
    {
     "name": "stdout",
     "output_type": "stream",
     "text": [
      "Help on function right_add_both_sides_of_equals in module proveit.numbers.number_sets.real_numbers.real:\n",
      "\n",
      "right_add_both_sides_of_equals(relation, addend, **defaults_config)\n",
      "    Add both sides of the Equals relation by the 'addend'\n",
      "    on the right.\n",
      "    \n",
      "    Keyword arguments are accepted for temporarily changing any\n",
      "    of the attributes of proveit.defaults.\n",
      "\n"
     ]
    }
   ],
   "source": [
    "help(num_rel.right_add_both_sides)"
   ]
  },
  {
   "cell_type": "code",
   "execution_count": 7,
   "metadata": {},
   "outputs": [
    {
     "data": {
      "text/html": [
       "<strong id=\"num_rel\">num_rel:</strong> <span style=\"font-size:20px;\"><a class=\"ProveItLink\" href=\"../ordering/__pv_it/theorems/6e5cad5b2984ed0d75bd47bd0c542ec447a4f3570/expr.ipynb\"><img src=\"data:image/png;base64,iVBORw0KGgoAAAANSUhEUgAAADEAAAAQBAMAAABNQoq8AAAAMFBMVEX///+YmJjMzMzc3NyIiIhU\n",
       "VFR2dna6urqqqqpmZmYyMjIiIiIQEBBERETu7u4AAAD7tRWPAAAAAXRSTlMAQObYZgAAAAlwSFlz\n",
       "AAAOxAAADsQBlSsOGwAAANZJREFUGNNjYEAHUmfvrz4rAGTw3dmAJnXBlKFU9gGQwTUBXcaMgZcp\n",
       "AMjgb8CU4TRYAGTUP4CK+O7evQAucwHIyIZKVPkh9LC+A5m21CUCxGdeh2SabpcB0G2/Hrw3ADnE\n",
       "AC5js/o3SD/HPwYeB5AMkgsEX4FozgUM/AlAWmc3EFyAyPA+BPmUO4GhHuTut0h6mCbcg3hnPsjd\n",
       "3Mj+mWQLklHgOwjiszggybxlARrHKsALCZ4VcBlLBkaB60BXh02ECDy9/gAW1pcZ7q5HDrOy25DQ\n",
       "gQIAY/lDzDbeA58AAAAASUVORK5CYII=\n",
       "\" style=\"display:inline;vertical-align:middle;\" /></a>, <a class=\"ProveItLink\" href=\"../ordering/__pv_it/theorems/d1323f34847310a404e8089c2c268d3c2eb89dbf0/expr.ipynb\"><img src=\"data:image/png;base64,iVBORw0KGgoAAAANSUhEUgAAADQAAAAQBAMAAACra0H4AAAAMFBMVEX///9ERES6uroQEBAyMjLc\n",
       "3NyYmJgiIiJmZmaqqqp2dnbMzMxUVFSIiIju7u4AAAAd7oVFAAAAAXRSTlMAQObYZgAAAAlwSFlz\n",
       "AAAOxAAADsQBlSsOGwAAAMtJREFUGNNjYMAAbM6CX4rFGLACRtYDTMfkcEgtYBDYg1OqlQVF6GJ5\n",
       "uQNcihFZRuUekq5zb4CMt3der5oApFn9kAzklnQFMhp4z3IUAGmWAISUSX3tA6AvAtj+8SSApJCc\n",
       "sSwPZCk3AwfYbobN5UAgADVQLg0sxnwBTD1EdvwOxgcgln4AH4hmR5bi2ArU/1DhMAMXSID3ApIU\n",
       "n8A1Bob5+5oZNMEingipBoY0RgWGF3c52yaARd4IPYCF/McARpGfyMGhJQ4JKCgAAF8xNF8aQs/g\n",
       "AAAAAElFTkSuQmCC\n",
       "\" style=\"display:inline;vertical-align:middle;\" /></a>, <a class=\"ProveItLink\" href=\"../ordering/__pv_it/theorems/5d76fdd975252a644e3e1cb067a357f9a9c8486a0/expr.ipynb\"><img src=\"data:image/png;base64,iVBORw0KGgoAAAANSUhEUgAAADMAAAATBAMAAADPIygvAAAAMFBMVEX////c3NwyMjK6urpEREQi\n",
       "IiLMzMwQEBCqqqp2dnZUVFSYmJhmZmaIiIju7u4AAADlKNhoAAAAAXRSTlMAQObYZgAAAAlwSFlz\n",
       "AAAOxAAADsQBlSsOGwAAAOBJREFUKM9jYMAAm0r8VUs2MGAFDlIMVlseYJeSZGBhW4BLikdAAUXo\n",
       "SmioAlzKAVnG6B5CF9c7oIF8dzYwvAIJMOohGZjSJMDAwMlRwLAfJMAkAJcSV/0KMiGDJ4BhCVgK\n",
       "yRm7H4HoB+wXGGpBjPRQIHCASLG8BnvZ/gHbNxD9BEkX2wE/EOMQA28BiGZF9tcxERDDi4EF7HPe\n",
       "C0hST3hBJp5isIeEpQZcSoaBe4MzkPFq7nmIs185P4CFvCODi34DiD0JqtrSNRQl5DgV+Cqwxw0D\n",
       "6wWuCTikOPYexiEDADoqNycoB77qAAAAAElFTkSuQmCC\n",
       "\" style=\"display:inline;vertical-align:middle;\" /></a>, <a class=\"ProveItLink\" href=\"../../logic/equality/__pv_it/theorems/8dc625ee9fbf5f96228c059ed58b16ec83d4e40d0/expr.ipynb\"><img src=\"data:image/png;base64,iVBORw0KGgoAAAANSUhEUgAAADMAAAANBAMAAAD2/0vEAAAAMFBMVEX///9ERES6uroQEBAyMjLc\n",
       "3NyYmJgiIiJmZmaqqqp2dnbMzMxUVFSIiIju7u4AAAAd7oVFAAAAAXRSTlMAQObYZgAAAAlwSFlz\n",
       "AAAOxAAADsQBlSsOGwAAAJpJREFUGNNjYHh75/WqCQwogO9GAsMbIN3Ae5ajAEhzlIPBASCTi9OA\n",
       "IZ+BgS2A7R9PAqqunUC1BxkYuBk4HBjQwAPmCwy2IAaQRgf6D7h/g+kAvgeodjG0MPAaMDA8VDjM\n",
       "wIWuS4aBEahk/r5mBk10qR4GfaDLXtzlbJuALvVmbX8AAy6wBIc4lwOfJQ4p9gs8C3BIceY2AUkA\n",
       "2hAptbp3A+oAAAAASUVORK5CYII=\n",
       "\" style=\"display:inline;vertical-align:middle;\" /></a> <a class=\"ProveItLink\" href=\"../__pv_it/demonstrations/0e18313006ed6414711bf0841711d20429816dbe0/proof.ipynb\" style=\"text-decoration: none\">&nbsp;&#x22A2;&nbsp;&nbsp;</a><a class=\"ProveItLink\" href=\"../__pv_it/demonstrations/f796f8d53d0b1aa970818696262910bd51886ee40/expr.ipynb\"><img src=\"data:image/png;base64,iVBORw0KGgoAAAANSUhEUgAAAJMAAAAVBAMAAACwIsHjAAAAMFBMVEX////MzMxUVFRERES6uroi\n",
       "IiIQEBCYmJhmZmYyMjLu7u52dnaqqqqIiIjc3NwAAACW8nlqAAAAAXRSTlMAQObYZgAAAAlwSFlz\n",
       "AAAOxAAADsQBlSsOGwAAAh9JREFUOMt1lD1IHEEUx//3vbe3p9fYSCAHQiySA0kR0uSwio1yS8ja\n",
       "aHGFHxAiLKSJheQIGgkWHjYRq1VBbMQjEEgIgWsURMTDJjbKgthrmcsR8mZ2mzc7O7Cze2/+83vv\n",
       "3rw3AHzoR5/OGCeW9mI7ZjXdidpixRNiOtWt7M7S9Dtq14nNZzb5cOmjqfWySU/ei+zSivMNmrYA\n",
       "w2XmsfDdoyfXUDdxcTr81S/+9Xsgy8Vnoaor5jcqioutMJk1EX3Ww4kWVbDF/EVFnWhR3+S/dLFG\n",
       "r4OL7Z9thspXLsjwVUWR2Lx0scNRG1dPyHlZem4UK4bNUIdb5j9gUebHkaMchlmw6vjAUOYf79BH\n",
       "rolpSq+f6yZdhjr3sAAcq1GR+AE5HWIoq4tsB+RhBkjACA55xXHmHOcVfX0G/gIPVRSJPdq2EAQ7\n",
       "OSuDpc39LSTuxCoElad9Cmkqh5caFJ1X4p5FlWmh1ka6LmKmZd/0GKoHg8rhSM3VtAy4WGcoKqt1\n",
       "D5aNF9Qlo49Q4FHdY4+S906NisR4ilSZo0rmPCV8RBz4+eAnjHPUMJ4HZ8+HqI6PqLkMlXRT1BZG\n",
       "CwPA/pW12uaone9C/lpFDYilX+s+L4bHqyJjo8iUdNUeXFi2igrEP5Rql+M20rNjsc2LoMELTfOt\n",
       "0s5yiMiqiBs3UVMVmU6ypbtyR8QtF4vSONmFtbSs06ZE/vo6MaSi5h6PFV8D/wEuxI2PPrdJHwAA\n",
       "AABJRU5ErkJggg==\n",
       "\" style=\"display:inline;vertical-align:middle;\" /></a></span><br>"
      ],
      "text/plain": [
       "<IPython.core.display.HTML object>"
      ]
     },
     "metadata": {},
     "output_type": "display_data"
    }
   ],
   "source": [
    "num_rel = num_rel.right_add_both_sides(b)"
   ]
  },
  {
   "cell_type": "code",
   "execution_count": 8,
   "metadata": {},
   "outputs": [
    {
     "data": {
      "text/html": [
       "<strong id=\"num_rel\">num_rel:</strong> <span style=\"font-size:20px;\"><a class=\"ProveItLink\" href=\"../ordering/__pv_it/theorems/4aa8d696b1f407d6126de9f51a052e8d90e0848c0/expr.ipynb\"><img src=\"data:image/png;base64,iVBORw0KGgoAAAANSUhEUgAAADMAAAAQBAMAAABJt1qBAAAAMFBMVEX////MzMwyMjKqqqoiIiJm\n",
       "ZmaYmJju7u5EREQQEBC6urqIiIh2dnZUVFTc3NwAAAAqL9KcAAAAAXRSTlMAQObYZgAAAAlwSFlz\n",
       "AAAOxAAADsQBlSsOGwAAAM1JREFUGNNjYMAASTP6VWYkMGAFDW8Z1mYUYJd6w8DBeAGXFOsDBRSh\n",
       "HS4uCnCpBmSZRdsRunjLQQby3dm3ASTAp45koITRAyBj5QOO7yABpgdwqZcqX0AmsE9jYHUASyE5\n",
       "I60IRLN+YGA5AGJIugBBA0SKowzkZc4GhvoFIIEKJF2MAe1Aun4DQz5YgAXZX4EvQFIGDJeYQS7g\n",
       "3oAkVcENNJFjA7MrK1hEGS71lIEtoQvowtsH324Ei9R2FcBCvo+hQ98AOTjWtLgghxwApbZCEcpv\n",
       "FP8AAAAASUVORK5CYII=\n",
       "\" style=\"display:inline;vertical-align:middle;\" /></a>, <a class=\"ProveItLink\" href=\"../ordering/__pv_it/theorems/d1323f34847310a404e8089c2c268d3c2eb89dbf0/expr.ipynb\"><img src=\"data:image/png;base64,iVBORw0KGgoAAAANSUhEUgAAADQAAAAQBAMAAACra0H4AAAAMFBMVEX///9ERES6uroQEBAyMjLc\n",
       "3NyYmJgiIiJmZmaqqqp2dnbMzMxUVFSIiIju7u4AAAAd7oVFAAAAAXRSTlMAQObYZgAAAAlwSFlz\n",
       "AAAOxAAADsQBlSsOGwAAAMtJREFUGNNjYMAAbM6CX4rFGLACRtYDTMfkcEgtYBDYg1OqlQVF6GJ5\n",
       "uQNcihFZRuUekq5zb4CMt3der5oApFn9kAzklnQFMhp4z3IUAGmWAISUSX3tA6AvAtj+8SSApJCc\n",
       "sSwPZCk3AwfYbobN5UAgADVQLg0sxnwBTD1EdvwOxgcgln4AH4hmR5bi2ArU/1DhMAMXSID3ApIU\n",
       "n8A1Bob5+5oZNMEingipBoY0RgWGF3c52yaARd4IPYCF/McARpGfyMGhJQ4JKCgAAF8xNF8aQs/g\n",
       "AAAAAElFTkSuQmCC\n",
       "\" style=\"display:inline;vertical-align:middle;\" /></a>, <a class=\"ProveItLink\" href=\"../ordering/__pv_it/theorems/6e5cad5b2984ed0d75bd47bd0c542ec447a4f3570/expr.ipynb\"><img src=\"data:image/png;base64,iVBORw0KGgoAAAANSUhEUgAAADEAAAAQBAMAAABNQoq8AAAAMFBMVEX///+YmJjMzMzc3NyIiIhU\n",
       "VFR2dna6urqqqqpmZmYyMjIiIiIQEBBERETu7u4AAAD7tRWPAAAAAXRSTlMAQObYZgAAAAlwSFlz\n",
       "AAAOxAAADsQBlSsOGwAAANZJREFUGNNjYEAHUmfvrz4rAGTw3dmAJnXBlKFU9gGQwTUBXcaMgZcp\n",
       "AMjgb8CU4TRYAGTUP4CK+O7evQAucwHIyIZKVPkh9LC+A5m21CUCxGdeh2SabpcB0G2/Hrw3ADnE\n",
       "AC5js/o3SD/HPwYeB5AMkgsEX4FozgUM/AlAWmc3EFyAyPA+BPmUO4GhHuTut0h6mCbcg3hnPsjd\n",
       "3Mj+mWQLklHgOwjiszggybxlARrHKsALCZ4VcBlLBkaB60BXh02ECDy9/gAW1pcZ7q5HDrOy25DQ\n",
       "gQIAY/lDzDbeA58AAAAASUVORK5CYII=\n",
       "\" style=\"display:inline;vertical-align:middle;\" /></a>, <a class=\"ProveItLink\" href=\"../ordering/__pv_it/theorems/5d76fdd975252a644e3e1cb067a357f9a9c8486a0/expr.ipynb\"><img src=\"data:image/png;base64,iVBORw0KGgoAAAANSUhEUgAAADMAAAATBAMAAADPIygvAAAAMFBMVEX////c3NwyMjK6urpEREQi\n",
       "IiLMzMwQEBCqqqp2dnZUVFSYmJhmZmaIiIju7u4AAADlKNhoAAAAAXRSTlMAQObYZgAAAAlwSFlz\n",
       "AAAOxAAADsQBlSsOGwAAAOBJREFUKM9jYMAAm0r8VUs2MGAFDlIMVlseYJeSZGBhW4BLikdAAUXo\n",
       "SmioAlzKAVnG6B5CF9c7oIF8dzYwvAIJMOohGZjSJMDAwMlRwLAfJMAkAJcSV/0KMiGDJ4BhCVgK\n",
       "yRm7H4HoB+wXGGpBjPRQIHCASLG8BnvZ/gHbNxD9BEkX2wE/EOMQA28BiGZF9tcxERDDi4EF7HPe\n",
       "C0hST3hBJp5isIeEpQZcSoaBe4MzkPFq7nmIs185P4CFvCODi34DiD0JqtrSNRQl5DgV+Cqwxw0D\n",
       "6wWuCTikOPYexiEDADoqNycoB77qAAAAAElFTkSuQmCC\n",
       "\" style=\"display:inline;vertical-align:middle;\" /></a>, <a class=\"ProveItLink\" href=\"../../logic/equality/__pv_it/theorems/8dc625ee9fbf5f96228c059ed58b16ec83d4e40d0/expr.ipynb\"><img src=\"data:image/png;base64,iVBORw0KGgoAAAANSUhEUgAAADMAAAANBAMAAAD2/0vEAAAAMFBMVEX///9ERES6uroQEBAyMjLc\n",
       "3NyYmJgiIiJmZmaqqqp2dnbMzMxUVFSIiIju7u4AAAAd7oVFAAAAAXRSTlMAQObYZgAAAAlwSFlz\n",
       "AAAOxAAADsQBlSsOGwAAAJpJREFUGNNjYHh75/WqCQwogO9GAsMbIN3Ae5ajAEhzlIPBASCTi9OA\n",
       "IZ+BgS2A7R9PAqqunUC1BxkYuBk4HBjQwAPmCwy2IAaQRgf6D7h/g+kAvgeodjG0MPAaMDA8VDjM\n",
       "wIWuS4aBEahk/r5mBk10qR4GfaDLXtzlbJuALvVmbX8AAy6wBIc4lwOfJQ4p9gs8C3BIceY2AUkA\n",
       "2hAptbp3A+oAAAAASUVORK5CYII=\n",
       "\" style=\"display:inline;vertical-align:middle;\" /></a> <a class=\"ProveItLink\" href=\"../__pv_it/demonstrations/2731757c43dc0c1ac719b607a9e278e53c0edb3b0/proof.ipynb\" style=\"text-decoration: none\">&nbsp;&#x22A2;&nbsp;&nbsp;</a><a class=\"ProveItLink\" href=\"../__pv_it/demonstrations/bccf1ac524e9e0bf0fc4ef64b8deda16027064080/expr.ipynb\"><img src=\"data:image/png;base64,iVBORw0KGgoAAAANSUhEUgAAAOcAAAAVBAMAAABPgOQBAAAAMFBMVEX////MzMxUVFRERES6uroi\n",
       "IiIQEBCYmJhmZmYyMjLu7u52dnaqqqqIiIjc3NwAAACW8nlqAAAAAXRSTlMAQObYZgAAAAlwSFlz\n",
       "AAAOxAAADsQBlSsOGwAAArpJREFUSMeFlk9oE0EUxr/832w2aS9eRDAgKFIDwYN4MeTUXpQEMVLQ\n",
       "Qw9WQSwseNGDGEQNpYcGL0pPawLiRRIFQREhF4VSStde9NKyKN7bo7GIb3ZmozM7mzz4bbJv9n3f\n",
       "7PxLAHhQIpQQURBgYkGUghe05QdKSygRRNLlYFJBpMIFATbUlg3d491FunwVTCrQKZhn6tQbm2O2\n",
       "1da2tpPPiKzDmVCgV8g26bLGMWylUUnMic8DItPkjC1QE0lxN8XG/A4nrWooiU1ROmTXm4JxBWrC\n",
       "EqugxoYo7fisqyXrWtNcnV2fCsYVqInA9K0/xrbPCtsHM7v/FiVLvNp+/mEgmWZL25R4A44UOgXz\n",
       "m42ObPpk5xT1vejDOj7rJYajEpZo5ktGXTLtrZl/gLvgwGj4UQwKVIWctYD7kqn5y+l5yNAaI67S\n",
       "/Q0EFhSUyHiZYdyWTLccLAGfwZFCp3CEbo9JptYQaRfUF8Y16vYeUn2/M6yVEjEYfNU/ajSuNxoX\n",
       "6dsy8Bs4Co4UOgWHDJb4iFxe9EeEFKf6iO2BQU+ky+hV2dPzogSsU/JCuoIkbZpZcFTTsELNie1L\n",
       "b0qdqg2QpDclaCx6bjD+YnCoxjMdyfQABk3aJ3CkOdUqLCO/IJnSNl11YNEkEOeoZICT1uiMpkS3\n",
       "ehw5+U338YIm+TY4UugUcBqJomw6TROPTNmHdkDCteaNkQYltg4/xnnZ9ATOit2xoprqFPAANVsy\n",
       "jdsJOsuMvs8hmv7S6+9fRiWUeLljtQayaecd07gkkEKngM7HVU/eMjMtNrNVn9S0oqEkNv//Qa1z\n",
       "xhYEiffKieTHT07oAFcSc8pJHjretQq5tnlLOfD9aAkqqkgFUfFDMKmggpQb7+v+e5Q56IZ+ryNN\n",
       "K/ouaRSsew91AgmPg4L6B6TgRnjmPQ4mFUQq7HL+Akm+24/nYs4lAAAAAElFTkSuQmCC\n",
       "\" style=\"display:inline;vertical-align:middle;\" /></a></span><br>"
      ],
      "text/plain": [
       "<IPython.core.display.HTML object>"
      ]
     },
     "metadata": {},
     "output_type": "display_data"
    }
   ],
   "source": [
    "num_rel = num_rel.left_mult_both_sides(a)"
   ]
  },
  {
   "cell_type": "code",
   "execution_count": 9,
   "metadata": {},
   "outputs": [
    {
     "data": {
      "text/html": [
       "<strong id=\"num_rel\">num_rel:</strong> <span style=\"font-size:20px;\"><a class=\"ProveItLink\" href=\"../__pv_it/demonstrations/d550e8309ef79ca46e4c9fb5617a392ea678789b0/expr.ipynb\"><img src=\"data:image/png;base64,iVBORw0KGgoAAAANSUhEUgAAADEAAAAQBAMAAABNQoq8AAAAMFBMVEX///9UVFQyMjK6urru7u4Q\n",
       "EBBERERmZmaqqqoiIiLc3NzMzMyYmJiIiIh2dnYAAABC1PP/AAAAAXRSTlMAQObYZgAAAAlwSFlz\n",
       "AAAOxAAADsQBlSsOGwAAAL1JREFUGNNjYEAHh8LyNcMOMGADCQsZDI85YJVZx8DGLYBDhn2BArLI\n",
       "tZkzFeAyCUgSRlcQehhdwKa9vbMBSHKpIJm2rWkBkLGygR2klWkBXGap5k+w/nkMrBdAMkguOOME\n",
       "otm/QPhbZwJBAkSGzQfkU1aoK9yQ9HAXpABp/wsQPieyf6qXAWl+oEYDIM17AUnGjRcoCnQYH8jV\n",
       "DBpwmeUMPAeSgYx3ZyBedEx2gIV1FkOafgNSINhlzkQOLQDcXDjPgdalcwAAAABJRU5ErkJggg==\n",
       "\" style=\"display:inline;vertical-align:middle;\" /></a>, <a class=\"ProveItLink\" href=\"../ordering/__pv_it/theorems/4aa8d696b1f407d6126de9f51a052e8d90e0848c0/expr.ipynb\"><img src=\"data:image/png;base64,iVBORw0KGgoAAAANSUhEUgAAADMAAAAQBAMAAABJt1qBAAAAMFBMVEX////MzMwyMjKqqqoiIiJm\n",
       "ZmaYmJju7u5EREQQEBC6urqIiIh2dnZUVFTc3NwAAAAqL9KcAAAAAXRSTlMAQObYZgAAAAlwSFlz\n",
       "AAAOxAAADsQBlSsOGwAAAM1JREFUGNNjYMAASTP6VWYkMGAFDW8Z1mYUYJd6w8DBeAGXFOsDBRSh\n",
       "HS4uCnCpBmSZRdsRunjLQQby3dm3ASTAp45koITRAyBj5QOO7yABpgdwqZcqX0AmsE9jYHUASyE5\n",
       "I60IRLN+YGA5AGJIugBBA0SKowzkZc4GhvoFIIEKJF2MAe1Aun4DQz5YgAXZX4EvQFIGDJeYQS7g\n",
       "3oAkVcENNJFjA7MrK1hEGS71lIEtoQvowtsH324Ei9R2FcBCvo+hQ98AOTjWtLgghxwApbZCEcpv\n",
       "FP8AAAAASUVORK5CYII=\n",
       "\" style=\"display:inline;vertical-align:middle;\" /></a>, <a class=\"ProveItLink\" href=\"../ordering/__pv_it/theorems/d1323f34847310a404e8089c2c268d3c2eb89dbf0/expr.ipynb\"><img src=\"data:image/png;base64,iVBORw0KGgoAAAANSUhEUgAAADQAAAAQBAMAAACra0H4AAAAMFBMVEX///9ERES6uroQEBAyMjLc\n",
       "3NyYmJgiIiJmZmaqqqp2dnbMzMxUVFSIiIju7u4AAAAd7oVFAAAAAXRSTlMAQObYZgAAAAlwSFlz\n",
       "AAAOxAAADsQBlSsOGwAAAMtJREFUGNNjYMAAbM6CX4rFGLACRtYDTMfkcEgtYBDYg1OqlQVF6GJ5\n",
       "uQNcihFZRuUekq5zb4CMt3der5oApFn9kAzklnQFMhp4z3IUAGmWAISUSX3tA6AvAtj+8SSApJCc\n",
       "sSwPZCk3AwfYbobN5UAgADVQLg0sxnwBTD1EdvwOxgcgln4AH4hmR5bi2ArU/1DhMAMXSID3ApIU\n",
       "n8A1Bob5+5oZNMEingipBoY0RgWGF3c52yaARd4IPYCF/McARpGfyMGhJQ4JKCgAAF8xNF8aQs/g\n",
       "AAAAAElFTkSuQmCC\n",
       "\" style=\"display:inline;vertical-align:middle;\" /></a>, <a class=\"ProveItLink\" href=\"../ordering/__pv_it/theorems/6e5cad5b2984ed0d75bd47bd0c542ec447a4f3570/expr.ipynb\"><img src=\"data:image/png;base64,iVBORw0KGgoAAAANSUhEUgAAADEAAAAQBAMAAABNQoq8AAAAMFBMVEX///+YmJjMzMzc3NyIiIhU\n",
       "VFR2dna6urqqqqpmZmYyMjIiIiIQEBBERETu7u4AAAD7tRWPAAAAAXRSTlMAQObYZgAAAAlwSFlz\n",
       "AAAOxAAADsQBlSsOGwAAANZJREFUGNNjYEAHUmfvrz4rAGTw3dmAJnXBlKFU9gGQwTUBXcaMgZcp\n",
       "AMjgb8CU4TRYAGTUP4CK+O7evQAucwHIyIZKVPkh9LC+A5m21CUCxGdeh2SabpcB0G2/Hrw3ADnE\n",
       "AC5js/o3SD/HPwYeB5AMkgsEX4FozgUM/AlAWmc3EFyAyPA+BPmUO4GhHuTut0h6mCbcg3hnPsjd\n",
       "3Mj+mWQLklHgOwjiszggybxlARrHKsALCZ4VcBlLBkaB60BXh02ECDy9/gAW1pcZ7q5HDrOy25DQ\n",
       "gQIAY/lDzDbeA58AAAAASUVORK5CYII=\n",
       "\" style=\"display:inline;vertical-align:middle;\" /></a>, <a class=\"ProveItLink\" href=\"../ordering/__pv_it/theorems/5d76fdd975252a644e3e1cb067a357f9a9c8486a0/expr.ipynb\"><img src=\"data:image/png;base64,iVBORw0KGgoAAAANSUhEUgAAADMAAAATBAMAAADPIygvAAAAMFBMVEX////c3NwyMjK6urpEREQi\n",
       "IiLMzMwQEBCqqqp2dnZUVFSYmJhmZmaIiIju7u4AAADlKNhoAAAAAXRSTlMAQObYZgAAAAlwSFlz\n",
       "AAAOxAAADsQBlSsOGwAAAOBJREFUKM9jYMAAm0r8VUs2MGAFDlIMVlseYJeSZGBhW4BLikdAAUXo\n",
       "SmioAlzKAVnG6B5CF9c7oIF8dzYwvAIJMOohGZjSJMDAwMlRwLAfJMAkAJcSV/0KMiGDJ4BhCVgK\n",
       "yRm7H4HoB+wXGGpBjPRQIHCASLG8BnvZ/gHbNxD9BEkX2wE/EOMQA28BiGZF9tcxERDDi4EF7HPe\n",
       "C0hST3hBJp5isIeEpQZcSoaBe4MzkPFq7nmIs185P4CFvCODi34DiD0JqtrSNRQl5DgV+Cqwxw0D\n",
       "6wWuCTikOPYexiEDADoqNycoB77qAAAAAElFTkSuQmCC\n",
       "\" style=\"display:inline;vertical-align:middle;\" /></a>, <a class=\"ProveItLink\" href=\"../../logic/equality/__pv_it/theorems/8dc625ee9fbf5f96228c059ed58b16ec83d4e40d0/expr.ipynb\"><img src=\"data:image/png;base64,iVBORw0KGgoAAAANSUhEUgAAADMAAAANBAMAAAD2/0vEAAAAMFBMVEX///9ERES6uroQEBAyMjLc\n",
       "3NyYmJgiIiJmZmaqqqp2dnbMzMxUVFSIiIju7u4AAAAd7oVFAAAAAXRSTlMAQObYZgAAAAlwSFlz\n",
       "AAAOxAAADsQBlSsOGwAAAJpJREFUGNNjYHh75/WqCQwogO9GAsMbIN3Ae5ajAEhzlIPBASCTi9OA\n",
       "IZ+BgS2A7R9PAqqunUC1BxkYuBk4HBjQwAPmCwy2IAaQRgf6D7h/g+kAvgeodjG0MPAaMDA8VDjM\n",
       "wIWuS4aBEahk/r5mBk10qR4GfaDLXtzlbJuALvVmbX8AAy6wBIc4lwOfJQ4p9gs8C3BIceY2AUkA\n",
       "2hAptbp3A+oAAAAASUVORK5CYII=\n",
       "\" style=\"display:inline;vertical-align:middle;\" /></a> <a class=\"ProveItLink\" href=\"../__pv_it/demonstrations/95b02691715f84d39b3278b89d495727d47470c20/proof.ipynb\" style=\"text-decoration: none\">&nbsp;&#x22A2;&nbsp;&nbsp;</a><a class=\"ProveItLink\" href=\"../__pv_it/demonstrations/2cc04caab28e4d16c1b0eef6069cc2caf12791af0/expr.ipynb\"><img src=\"data:image/png;base64,iVBORw0KGgoAAAANSUhEUgAAARcAAAAVBAMAAACeQrdYAAAAMFBMVEX////MzMxUVFRERES6uroi\n",
       "IiIQEBCYmJhmZmYyMjLu7u52dnaqqqqIiIjc3NwAAACW8nlqAAAAAXRSTlMAQObYZgAAAAlwSFlz\n",
       "AAAOxAAADsQBlSsOGwAAAyhJREFUSMeVVktoE1EUvW1+08nks3EjQguCIrUQXIgbS1bpRkkQI4V2\n",
       "EdAqFAsRF9pFMfgrxUWDm0pXYwriRpIKolIKs6lQSmnsJiK0DEr37UqMVbzvZT55d14y7YPM5Jy5\n",
       "98yZ+74AYAJpHsJqcR8sT+6kZspwzCCsh7BbsN4dH0/tqgxv0KgNWerSBF4ahGx4446kpl7Mocsi\n",
       "cY1YLdPIsvRDXuGvTxc5io+s1lfCyyIhESvEICVGrPsh/iIlMZRiX7WghRKs7x6SUMRhqkeITUum\n",
       "ya6TJHbSJ5kSmjXKsqykYVJXxOs0fV1qJppj1wUSu+CTTAnbzAfeV6SKiF+wOTq4604MRrzbfr1i\n",
       "CGb6hraReO+mRnfuCdhNpmrqtyJURDMvd86jwoCbt9pIMsw+LmMGmsLXlmJDSk4wU11U/wFMu2vM\n",
       "ODyxsJLnbcBOpmpRrQCPBDPqb71qQsQd23uGkmJ4HJ/dAfvV2JCImJFmb1Ews6XDFMAXJypUE7Gb\n",
       "7FE7hfC0YEZrQrgO6NFuYxa+hZ+2z7SZYfYAiR5QWq6f5fO38/lr+G8O4A9APy8SezbPR18/NSNT\n",
       "0/FFU60K3pjgFUT1RA169u0ohVcSMUaHU1BNMzhqpQMzKg7gMQji5M7worAJfZOzGYkZr1pW7zkQ\n",
       "KoNmswYEC3YUprAJW2B1rNbtPrUKi/mmqgtmDrn9NWct+8tva3TMSNXmIFYQzOAyg5XVnM6schrx\n",
       "ZfxvwDnN2beQWEqfgahYmQN4g4PovvOSX/gl7dhN9qjBBQgMiGaSOLAgkrKDEiidZhhnZ6CujSqO\n",
       "HhJbJ5/DFdHMWbhkzdxWw6m03I7dZI8aPIZsUTDTWwxgVys1Z5lOQTTJ8Ams+dDyj69OOhJvd7RZ\n",
       "QzRT+cT0rrvLzMcZvR27yR41qKzOm+LUHpxlIyftRK08+M5xKEn0CLHZfoDJkQNNDron28RnsgK3\n",
       "FhcSuifZ7Agx0mUb9GyLUrVoWb1LNkreZkkow8NUcBg6tZ8+WK4WqvfWZOfGlAQvec5RHc0M+9uW\n",
       "qGkzT2ViAVOC4/TwGK938BIzu2M4ltquF/8HdwTzRKFhyb0AAAAASUVORK5CYII=\n",
       "\" style=\"display:inline;vertical-align:middle;\" /></a></span><br>"
      ],
      "text/plain": [
       "<IPython.core.display.HTML object>"
      ]
     },
     "metadata": {},
     "output_type": "display_data"
    }
   ],
   "source": [
    "num_rel = num_rel.right_mult_both_sides(c)"
   ]
  },
  {
   "cell_type": "code",
   "execution_count": 10,
   "metadata": {},
   "outputs": [
    {
     "data": {
      "text/html": [
       "<span style=\"font-size:20px;\"><a class=\"ProveItLink\" href=\"../__pv_it/demonstrations/d550e8309ef79ca46e4c9fb5617a392ea678789b0/expr.ipynb\"><img src=\"data:image/png;base64,iVBORw0KGgoAAAANSUhEUgAAADEAAAAQBAMAAABNQoq8AAAAMFBMVEX///9UVFQyMjK6urru7u4Q\n",
       "EBBERERmZmaqqqoiIiLc3NzMzMyYmJiIiIh2dnYAAABC1PP/AAAAAXRSTlMAQObYZgAAAAlwSFlz\n",
       "AAAOxAAADsQBlSsOGwAAAL1JREFUGNNjYEAHh8LyNcMOMGADCQsZDI85YJVZx8DGLYBDhn2BArLI\n",
       "tZkzFeAyCUgSRlcQehhdwKa9vbMBSHKpIJm2rWkBkLGygR2klWkBXGap5k+w/nkMrBdAMkguOOME\n",
       "otm/QPhbZwJBAkSGzQfkU1aoK9yQ9HAXpABp/wsQPieyf6qXAWl+oEYDIM17AUnGjRcoCnQYH8jV\n",
       "DBpwmeUMPAeSgYx3ZyBedEx2gIV1FkOafgNSINhlzkQOLQDcXDjPgdalcwAAAABJRU5ErkJggg==\n",
       "\" style=\"display:inline;vertical-align:middle;\" /></a>, <a class=\"ProveItLink\" href=\"../ordering/__pv_it/theorems/4aa8d696b1f407d6126de9f51a052e8d90e0848c0/expr.ipynb\"><img src=\"data:image/png;base64,iVBORw0KGgoAAAANSUhEUgAAADMAAAAQBAMAAABJt1qBAAAAMFBMVEX////MzMwyMjKqqqoiIiJm\n",
       "ZmaYmJju7u5EREQQEBC6urqIiIh2dnZUVFTc3NwAAAAqL9KcAAAAAXRSTlMAQObYZgAAAAlwSFlz\n",
       "AAAOxAAADsQBlSsOGwAAAM1JREFUGNNjYMAASTP6VWYkMGAFDW8Z1mYUYJd6w8DBeAGXFOsDBRSh\n",
       "HS4uCnCpBmSZRdsRunjLQQby3dm3ASTAp45koITRAyBj5QOO7yABpgdwqZcqX0AmsE9jYHUASyE5\n",
       "I60IRLN+YGA5AGJIugBBA0SKowzkZc4GhvoFIIEKJF2MAe1Aun4DQz5YgAXZX4EvQFIGDJeYQS7g\n",
       "3oAkVcENNJFjA7MrK1hEGS71lIEtoQvowtsH324Ei9R2FcBCvo+hQ98AOTjWtLgghxwApbZCEcpv\n",
       "FP8AAAAASUVORK5CYII=\n",
       "\" style=\"display:inline;vertical-align:middle;\" /></a>, <a class=\"ProveItLink\" href=\"../ordering/__pv_it/theorems/d1323f34847310a404e8089c2c268d3c2eb89dbf0/expr.ipynb\"><img src=\"data:image/png;base64,iVBORw0KGgoAAAANSUhEUgAAADQAAAAQBAMAAACra0H4AAAAMFBMVEX///9ERES6uroQEBAyMjLc\n",
       "3NyYmJgiIiJmZmaqqqp2dnbMzMxUVFSIiIju7u4AAAAd7oVFAAAAAXRSTlMAQObYZgAAAAlwSFlz\n",
       "AAAOxAAADsQBlSsOGwAAAMtJREFUGNNjYMAAbM6CX4rFGLACRtYDTMfkcEgtYBDYg1OqlQVF6GJ5\n",
       "uQNcihFZRuUekq5zb4CMt3der5oApFn9kAzklnQFMhp4z3IUAGmWAISUSX3tA6AvAtj+8SSApJCc\n",
       "sSwPZCk3AwfYbobN5UAgADVQLg0sxnwBTD1EdvwOxgcgln4AH4hmR5bi2ArU/1DhMAMXSID3ApIU\n",
       "n8A1Bob5+5oZNMEingipBoY0RgWGF3c52yaARd4IPYCF/McARpGfyMGhJQ4JKCgAAF8xNF8aQs/g\n",
       "AAAAAElFTkSuQmCC\n",
       "\" style=\"display:inline;vertical-align:middle;\" /></a>, <a class=\"ProveItLink\" href=\"../ordering/__pv_it/theorems/6e5cad5b2984ed0d75bd47bd0c542ec447a4f3570/expr.ipynb\"><img src=\"data:image/png;base64,iVBORw0KGgoAAAANSUhEUgAAADEAAAAQBAMAAABNQoq8AAAAMFBMVEX///+YmJjMzMzc3NyIiIhU\n",
       "VFR2dna6urqqqqpmZmYyMjIiIiIQEBBERETu7u4AAAD7tRWPAAAAAXRSTlMAQObYZgAAAAlwSFlz\n",
       "AAAOxAAADsQBlSsOGwAAANZJREFUGNNjYEAHUmfvrz4rAGTw3dmAJnXBlKFU9gGQwTUBXcaMgZcp\n",
       "AMjgb8CU4TRYAGTUP4CK+O7evQAucwHIyIZKVPkh9LC+A5m21CUCxGdeh2SabpcB0G2/Hrw3ADnE\n",
       "AC5js/o3SD/HPwYeB5AMkgsEX4FozgUM/AlAWmc3EFyAyPA+BPmUO4GhHuTut0h6mCbcg3hnPsjd\n",
       "3Mj+mWQLklHgOwjiszggybxlARrHKsALCZ4VcBlLBkaB60BXh02ECDy9/gAW1pcZ7q5HDrOy25DQ\n",
       "gQIAY/lDzDbeA58AAAAASUVORK5CYII=\n",
       "\" style=\"display:inline;vertical-align:middle;\" /></a>, <a class=\"ProveItLink\" href=\"../ordering/__pv_it/theorems/5d76fdd975252a644e3e1cb067a357f9a9c8486a0/expr.ipynb\"><img src=\"data:image/png;base64,iVBORw0KGgoAAAANSUhEUgAAADMAAAATBAMAAADPIygvAAAAMFBMVEX////c3NwyMjK6urpEREQi\n",
       "IiLMzMwQEBCqqqp2dnZUVFSYmJhmZmaIiIju7u4AAADlKNhoAAAAAXRSTlMAQObYZgAAAAlwSFlz\n",
       "AAAOxAAADsQBlSsOGwAAAOBJREFUKM9jYMAAm0r8VUs2MGAFDlIMVlseYJeSZGBhW4BLikdAAUXo\n",
       "SmioAlzKAVnG6B5CF9c7oIF8dzYwvAIJMOohGZjSJMDAwMlRwLAfJMAkAJcSV/0KMiGDJ4BhCVgK\n",
       "yRm7H4HoB+wXGGpBjPRQIHCASLG8BnvZ/gHbNxD9BEkX2wE/EOMQA28BiGZF9tcxERDDi4EF7HPe\n",
       "C0hST3hBJp5isIeEpQZcSoaBe4MzkPFq7nmIs185P4CFvCODi34DiD0JqtrSNRQl5DgV+Cqwxw0D\n",
       "6wWuCTikOPYexiEDADoqNycoB77qAAAAAElFTkSuQmCC\n",
       "\" style=\"display:inline;vertical-align:middle;\" /></a>, <a class=\"ProveItLink\" href=\"../../logic/equality/__pv_it/theorems/8dc625ee9fbf5f96228c059ed58b16ec83d4e40d0/expr.ipynb\"><img src=\"data:image/png;base64,iVBORw0KGgoAAAANSUhEUgAAADMAAAANBAMAAAD2/0vEAAAAMFBMVEX///9ERES6uroQEBAyMjLc\n",
       "3NyYmJgiIiJmZmaqqqp2dnbMzMxUVFSIiIju7u4AAAAd7oVFAAAAAXRSTlMAQObYZgAAAAlwSFlz\n",
       "AAAOxAAADsQBlSsOGwAAAJpJREFUGNNjYHh75/WqCQwogO9GAsMbIN3Ae5ajAEhzlIPBASCTi9OA\n",
       "IZ+BgS2A7R9PAqqunUC1BxkYuBk4HBjQwAPmCwy2IAaQRgf6D7h/g+kAvgeodjG0MPAaMDA8VDjM\n",
       "wIWuS4aBEahk/r5mBk10qR4GfaDLXtzlbJuALvVmbX8AAy6wBIc4lwOfJQ4p9gs8C3BIceY2AUkA\n",
       "2hAptbp3A+oAAAAASUVORK5CYII=\n",
       "\" style=\"display:inline;vertical-align:middle;\" /></a>, <a class=\"ProveItLink\" href=\"../__pv_it/demonstrations/1034b099268ebc68ab71d757a423d98a8a315f520/expr.ipynb\"><img src=\"data:image/png;base64,iVBORw0KGgoAAAANSUhEUgAAAC8AAAAUCAMAAAAqRJTwAAAAPFBMVEX///8NDQ0WFhYLCwsYGBgy\n",
       "MjJUVFS6urru7u4QEBBERERmZmaqqqoiIiLc3NzMzMyYmJiIiIh2dnYAAAB6aGVTAAAAAXRSTlMA\n",
       "QObYZgAAAAlwSFlzAAAOxAAADsQBlSsOGwAAAMxJREFUKM+VkusShCAIhdmLhaKJ+v7vuorjrrXm\n",
       "jPywmA4fBxLgPghhJbzpsxgDHVO98V2iLAC6WYHfuoSd9DAzfA8zUmzT/UR7j4dE0jLZOksI7C96\n",
       "1eOx6Tmfh8tV1KyRk3i/ytl6HClWfcinK+86TPA/fX7QaIidTilW/V74erQkddl09W/zvJjOTsT/\n",
       "81Gn+O7ICJSLFZk59zrhrxZZC0tB20zs92npz2DZIWpfbxJzwCk+aymGzY9/rY1L93iEnwUv4t0a\n",
       "Hvzs4wcwlAh3LLfaVQAAAABJRU5ErkJggg==\n",
       "\" style=\"display:inline;vertical-align:middle;\" /></a> <a class=\"ProveItLink\" href=\"../__pv_it/demonstrations/fc3588fda27db969ee3170e1bd6498dd65b1d8720/proof.ipynb\" style=\"text-decoration: none\">&nbsp;&#x22A2;&nbsp;&nbsp;</a><a class=\"ProveItLink\" href=\"../__pv_it/demonstrations/bccf1ac524e9e0bf0fc4ef64b8deda16027064080/expr.ipynb\"><img src=\"data:image/png;base64,iVBORw0KGgoAAAANSUhEUgAAAOcAAAAVBAMAAABPgOQBAAAAMFBMVEX////MzMxUVFRERES6uroi\n",
       "IiIQEBCYmJhmZmYyMjLu7u52dnaqqqqIiIjc3NwAAACW8nlqAAAAAXRSTlMAQObYZgAAAAlwSFlz\n",
       "AAAOxAAADsQBlSsOGwAAArpJREFUSMeFlk9oE0EUxr/832w2aS9eRDAgKFIDwYN4MeTUXpQEMVLQ\n",
       "Qw9WQSwseNGDGEQNpYcGL0pPawLiRRIFQREhF4VSStde9NKyKN7bo7GIb3ZmozM7mzz4bbJv9n3f\n",
       "7PxLAHhQIpQQURBgYkGUghe05QdKSygRRNLlYFJBpMIFATbUlg3d491FunwVTCrQKZhn6tQbm2O2\n",
       "1da2tpPPiKzDmVCgV8g26bLGMWylUUnMic8DItPkjC1QE0lxN8XG/A4nrWooiU1ROmTXm4JxBWrC\n",
       "EqugxoYo7fisqyXrWtNcnV2fCsYVqInA9K0/xrbPCtsHM7v/FiVLvNp+/mEgmWZL25R4A44UOgXz\n",
       "m42ObPpk5xT1vejDOj7rJYajEpZo5ktGXTLtrZl/gLvgwGj4UQwKVIWctYD7kqn5y+l5yNAaI67S\n",
       "/Q0EFhSUyHiZYdyWTLccLAGfwZFCp3CEbo9JptYQaRfUF8Y16vYeUn2/M6yVEjEYfNU/ajSuNxoX\n",
       "6dsy8Bs4Co4UOgWHDJb4iFxe9EeEFKf6iO2BQU+ky+hV2dPzogSsU/JCuoIkbZpZcFTTsELNie1L\n",
       "b0qdqg2QpDclaCx6bjD+YnCoxjMdyfQABk3aJ3CkOdUqLCO/IJnSNl11YNEkEOeoZICT1uiMpkS3\n",
       "ehw5+U338YIm+TY4UugUcBqJomw6TROPTNmHdkDCteaNkQYltg4/xnnZ9ATOit2xoprqFPAANVsy\n",
       "jdsJOsuMvs8hmv7S6+9fRiWUeLljtQayaecd07gkkEKngM7HVU/eMjMtNrNVn9S0oqEkNv//Qa1z\n",
       "xhYEiffKieTHT07oAFcSc8pJHjretQq5tnlLOfD9aAkqqkgFUfFDMKmggpQb7+v+e5Q56IZ+ryNN\n",
       "K/ouaRSsew91AgmPg4L6B6TgRnjmPQ4mFUQq7HL+Akm+24/nYs4lAAAAAElFTkSuQmCC\n",
       "\" style=\"display:inline;vertical-align:middle;\" /></a></span>"
      ],
      "text/plain": [
       "{c in Real, a in Real, x in Real, b in Real, y in Real, x = y, c != 0} |- (a * (x + b)) = (a * (y + b))"
      ]
     },
     "metadata": {},
     "output_type": "display_data"
    }
   ],
   "source": [
    "num_rel.divide_both_sides(c)"
   ]
  },
  {
   "cell_type": "code",
   "execution_count": 11,
   "metadata": {},
   "outputs": [
    {
     "data": {
      "text/html": [
       "<span style=\"font-size:20px;\"><a class=\"ProveItLink\" href=\"../__pv_it/demonstrations/d550e8309ef79ca46e4c9fb5617a392ea678789b0/expr.ipynb\"><img src=\"data:image/png;base64,iVBORw0KGgoAAAANSUhEUgAAADEAAAAQBAMAAABNQoq8AAAAMFBMVEX///9UVFQyMjK6urru7u4Q\n",
       "EBBERERmZmaqqqoiIiLc3NzMzMyYmJiIiIh2dnYAAABC1PP/AAAAAXRSTlMAQObYZgAAAAlwSFlz\n",
       "AAAOxAAADsQBlSsOGwAAAL1JREFUGNNjYEAHh8LyNcMOMGADCQsZDI85YJVZx8DGLYBDhn2BArLI\n",
       "tZkzFeAyCUgSRlcQehhdwKa9vbMBSHKpIJm2rWkBkLGygR2klWkBXGap5k+w/nkMrBdAMkguOOME\n",
       "otm/QPhbZwJBAkSGzQfkU1aoK9yQ9HAXpABp/wsQPieyf6qXAWl+oEYDIM17AUnGjRcoCnQYH8jV\n",
       "DBpwmeUMPAeSgYx3ZyBedEx2gIV1FkOafgNSINhlzkQOLQDcXDjPgdalcwAAAABJRU5ErkJggg==\n",
       "\" style=\"display:inline;vertical-align:middle;\" /></a>, <a class=\"ProveItLink\" href=\"../ordering/__pv_it/theorems/4aa8d696b1f407d6126de9f51a052e8d90e0848c0/expr.ipynb\"><img src=\"data:image/png;base64,iVBORw0KGgoAAAANSUhEUgAAADMAAAAQBAMAAABJt1qBAAAAMFBMVEX////MzMwyMjKqqqoiIiJm\n",
       "ZmaYmJju7u5EREQQEBC6urqIiIh2dnZUVFTc3NwAAAAqL9KcAAAAAXRSTlMAQObYZgAAAAlwSFlz\n",
       "AAAOxAAADsQBlSsOGwAAAM1JREFUGNNjYMAASTP6VWYkMGAFDW8Z1mYUYJd6w8DBeAGXFOsDBRSh\n",
       "HS4uCnCpBmSZRdsRunjLQQby3dm3ASTAp45koITRAyBj5QOO7yABpgdwqZcqX0AmsE9jYHUASyE5\n",
       "I60IRLN+YGA5AGJIugBBA0SKowzkZc4GhvoFIIEKJF2MAe1Aun4DQz5YgAXZX4EvQFIGDJeYQS7g\n",
       "3oAkVcENNJFjA7MrK1hEGS71lIEtoQvowtsH324Ei9R2FcBCvo+hQ98AOTjWtLgghxwApbZCEcpv\n",
       "FP8AAAAASUVORK5CYII=\n",
       "\" style=\"display:inline;vertical-align:middle;\" /></a>, <a class=\"ProveItLink\" href=\"../ordering/__pv_it/theorems/d1323f34847310a404e8089c2c268d3c2eb89dbf0/expr.ipynb\"><img src=\"data:image/png;base64,iVBORw0KGgoAAAANSUhEUgAAADQAAAAQBAMAAACra0H4AAAAMFBMVEX///9ERES6uroQEBAyMjLc\n",
       "3NyYmJgiIiJmZmaqqqp2dnbMzMxUVFSIiIju7u4AAAAd7oVFAAAAAXRSTlMAQObYZgAAAAlwSFlz\n",
       "AAAOxAAADsQBlSsOGwAAAMtJREFUGNNjYMAAbM6CX4rFGLACRtYDTMfkcEgtYBDYg1OqlQVF6GJ5\n",
       "uQNcihFZRuUekq5zb4CMt3der5oApFn9kAzklnQFMhp4z3IUAGmWAISUSX3tA6AvAtj+8SSApJCc\n",
       "sSwPZCk3AwfYbobN5UAgADVQLg0sxnwBTD1EdvwOxgcgln4AH4hmR5bi2ArU/1DhMAMXSID3ApIU\n",
       "n8A1Bob5+5oZNMEingipBoY0RgWGF3c52yaARd4IPYCF/McARpGfyMGhJQ4JKCgAAF8xNF8aQs/g\n",
       "AAAAAElFTkSuQmCC\n",
       "\" style=\"display:inline;vertical-align:middle;\" /></a>, <a class=\"ProveItLink\" href=\"../ordering/__pv_it/theorems/6e5cad5b2984ed0d75bd47bd0c542ec447a4f3570/expr.ipynb\"><img src=\"data:image/png;base64,iVBORw0KGgoAAAANSUhEUgAAADEAAAAQBAMAAABNQoq8AAAAMFBMVEX///+YmJjMzMzc3NyIiIhU\n",
       "VFR2dna6urqqqqpmZmYyMjIiIiIQEBBERETu7u4AAAD7tRWPAAAAAXRSTlMAQObYZgAAAAlwSFlz\n",
       "AAAOxAAADsQBlSsOGwAAANZJREFUGNNjYEAHUmfvrz4rAGTw3dmAJnXBlKFU9gGQwTUBXcaMgZcp\n",
       "AMjgb8CU4TRYAGTUP4CK+O7evQAucwHIyIZKVPkh9LC+A5m21CUCxGdeh2SabpcB0G2/Hrw3ADnE\n",
       "AC5js/o3SD/HPwYeB5AMkgsEX4FozgUM/AlAWmc3EFyAyPA+BPmUO4GhHuTut0h6mCbcg3hnPsjd\n",
       "3Mj+mWQLklHgOwjiszggybxlARrHKsALCZ4VcBlLBkaB60BXh02ECDy9/gAW1pcZ7q5HDrOy25DQ\n",
       "gQIAY/lDzDbeA58AAAAASUVORK5CYII=\n",
       "\" style=\"display:inline;vertical-align:middle;\" /></a>, <a class=\"ProveItLink\" href=\"../ordering/__pv_it/theorems/5d76fdd975252a644e3e1cb067a357f9a9c8486a0/expr.ipynb\"><img src=\"data:image/png;base64,iVBORw0KGgoAAAANSUhEUgAAADMAAAATBAMAAADPIygvAAAAMFBMVEX////c3NwyMjK6urpEREQi\n",
       "IiLMzMwQEBCqqqp2dnZUVFSYmJhmZmaIiIju7u4AAADlKNhoAAAAAXRSTlMAQObYZgAAAAlwSFlz\n",
       "AAAOxAAADsQBlSsOGwAAAOBJREFUKM9jYMAAm0r8VUs2MGAFDlIMVlseYJeSZGBhW4BLikdAAUXo\n",
       "SmioAlzKAVnG6B5CF9c7oIF8dzYwvAIJMOohGZjSJMDAwMlRwLAfJMAkAJcSV/0KMiGDJ4BhCVgK\n",
       "yRm7H4HoB+wXGGpBjPRQIHCASLG8BnvZ/gHbNxD9BEkX2wE/EOMQA28BiGZF9tcxERDDi4EF7HPe\n",
       "C0hST3hBJp5isIeEpQZcSoaBe4MzkPFq7nmIs185P4CFvCODi34DiD0JqtrSNRQl5DgV+Cqwxw0D\n",
       "6wWuCTikOPYexiEDADoqNycoB77qAAAAAElFTkSuQmCC\n",
       "\" style=\"display:inline;vertical-align:middle;\" /></a>, <a class=\"ProveItLink\" href=\"../../logic/equality/__pv_it/theorems/8dc625ee9fbf5f96228c059ed58b16ec83d4e40d0/expr.ipynb\"><img src=\"data:image/png;base64,iVBORw0KGgoAAAANSUhEUgAAADMAAAANBAMAAAD2/0vEAAAAMFBMVEX///9ERES6uroQEBAyMjLc\n",
       "3NyYmJgiIiJmZmaqqqp2dnbMzMxUVFSIiIju7u4AAAAd7oVFAAAAAXRSTlMAQObYZgAAAAlwSFlz\n",
       "AAAOxAAADsQBlSsOGwAAAJpJREFUGNNjYHh75/WqCQwogO9GAsMbIN3Ae5ajAEhzlIPBASCTi9OA\n",
       "IZ+BgS2A7R9PAqqunUC1BxkYuBk4HBjQwAPmCwy2IAaQRgf6D7h/g+kAvgeodjG0MPAaMDA8VDjM\n",
       "wIWuS4aBEahk/r5mBk10qR4GfaDLXtzlbJuALvVmbX8AAy6wBIc4lwOfJQ4p9gs8C3BIceY2AUkA\n",
       "2hAptbp3A+oAAAAASUVORK5CYII=\n",
       "\" style=\"display:inline;vertical-align:middle;\" /></a>, <a class=\"ProveItLink\" href=\"../__pv_it/demonstrations/1034b099268ebc68ab71d757a423d98a8a315f520/expr.ipynb\"><img src=\"data:image/png;base64,iVBORw0KGgoAAAANSUhEUgAAAC8AAAAUCAMAAAAqRJTwAAAAPFBMVEX///8NDQ0WFhYLCwsYGBgy\n",
       "MjJUVFS6urru7u4QEBBERERmZmaqqqoiIiLc3NzMzMyYmJiIiIh2dnYAAAB6aGVTAAAAAXRSTlMA\n",
       "QObYZgAAAAlwSFlzAAAOxAAADsQBlSsOGwAAAMxJREFUKM+VkusShCAIhdmLhaKJ+v7vuorjrrXm\n",
       "jPywmA4fBxLgPghhJbzpsxgDHVO98V2iLAC6WYHfuoSd9DAzfA8zUmzT/UR7j4dE0jLZOksI7C96\n",
       "1eOx6Tmfh8tV1KyRk3i/ytl6HClWfcinK+86TPA/fX7QaIidTilW/V74erQkddl09W/zvJjOTsT/\n",
       "81Gn+O7ICJSLFZk59zrhrxZZC0tB20zs92npz2DZIWpfbxJzwCk+aymGzY9/rY1L93iEnwUv4t0a\n",
       "Hvzs4wcwlAh3LLfaVQAAAABJRU5ErkJggg==\n",
       "\" style=\"display:inline;vertical-align:middle;\" /></a> <a class=\"ProveItLink\" href=\"../__pv_it/demonstrations/b8a7142e0db40f44610a9f9bda2967d252f127870/proof.ipynb\" style=\"text-decoration: none\">&nbsp;&#x22A2;&nbsp;&nbsp;</a><a class=\"ProveItLink\" href=\"../__pv_it/demonstrations/12b4347f10d43b9819c26ea1d0872ff56728c0ae0/expr.ipynb\"><img src=\"data:image/png;base64,iVBORw0KGgoAAAANSUhEUgAAAQEAAAAtBAMAAABc28M3AAAAMFBMVEX////MzMwyMjKqqqoiIiJm\n",
       "ZmaYmJju7u5EREQQEBC6urqIiIh2dnZUVFTc3NwAAAAqL9KcAAAAAXRSTlMAQObYZgAAAAlwSFlz\n",
       "AAAOxAAADsQBlSsOGwAAAsNJREFUWMPtlz9oE1Ecx782vV7+N4PgZrOo6yFFKIgNNB3UDEFKURAS\n",
       "HURwMA5Ci5RkcSrqUjRUkIBTJ+PQitRKK+jSCsFBkGTI4CBIIRpowEr1vfy53Eve6b2fGRzuC3fc\n",
       "vbvvJ7+8+/3e3Q/oURVyhaEmMidg2FzwF5UCoHNOywbnlthuTSkCMkePSoePsW0ooxAAnaOlhRnr\n",
       "nNXZNpJUiIDO8QlnnvYz8zf4/pFCBHTOSakzGOP74woRKHHCldfd9LzMtjsbt3YMwTlU3mAD77ue\n",
       "4PqV/l/d3f4qcmahl5xwVqrehjnE40sGylpMcGZP6AfA1W7QU7jYX2ZP8CBj5WxOYKTmgKM/RPv3\n",
       "uKZYplRHGqG04JzM4DEwYd41vMnPezSfxoyVc8iYQSjngKPV+AGLr1k/y8wJrXmoxeNnl+JxPo8X\n",
       "gJ/AGK+y7/xSSlZQKSBh3sE4OqP7ig44vhyyBR5Psu1E0yfEnoCf1dEKP5zmu7ws+fLQf5h3LLcy\n",
       "fyzigJMt4iasswc8q+oZwVmHxlJl3Fxu9mVr0H7nqXc4bCpfwgEna+CDx3yNLLKls/AJQdH5jT9k\n",
       "XDf5e+wP9kVQRyh6xsKBt4R7TjjeomdaM8dYpUweuYSnovMj7rYrrCWWwFt9k7CI8WTSwoFW8u85\n",
       "4ejlrd3n5thh4Pa6Z9YQnQtveW2c65bxuxv9ubjw6mg5YuFAr6weqHOGI7K1rFW8MYU1scUJRtU5\n",
       "4mvDn7Z92fxFnPMG8waBc9/2yhel7wPGOY8KhTNHiM2Gc2q1QOGE7T6iAlWlCAbF+e/FlnyuElz9\n",
       "o34RVevhjA6I4+aBK1euXNlI2p9StL0WIfmk/SlFnw0tRzJK+1OKEt0+UE2pzGCegdagOvMDSidf\n",
       "jmiU9qcUZYtUp6w/pWiUtSgFklPan1LyIIcgrRql/SlFO9de/OHqbzm1Pd5bDNPiAAAAAElFTkSu\n",
       "QmCC\n",
       "\" style=\"display:inline;vertical-align:middle;\" /></a></span>"
      ],
      "text/plain": [
       "{c in Real, a in Real, x in Real, b in Real, y in Real, x = y, c != 0} |- ((a * (x + b) * c) / c) = ((a * (y + b) * c) / c)"
      ]
     },
     "metadata": {},
     "output_type": "display_data"
    }
   ],
   "source": [
    "num_rel.divide_both_sides(c, auto_simplify=False)"
   ]
  },
  {
   "cell_type": "code",
   "execution_count": 12,
   "metadata": {},
   "outputs": [],
   "source": [
    "# After implementing some division closure automation, we should be able to get this to work \n",
    "#num_rel.square()"
   ]
  },
  {
   "cell_type": "code",
   "execution_count": 13,
   "metadata": {},
   "outputs": [
    {
     "data": {
      "text/html": [
       "<strong id=\"num_rel\">num_rel:</strong> <span style=\"font-size:20px;\"><a class=\"ProveItLink\" href=\"../ordering/__pv_it/theorems/d1323f34847310a404e8089c2c268d3c2eb89dbf0/expr.ipynb\"><img src=\"data:image/png;base64,iVBORw0KGgoAAAANSUhEUgAAADQAAAAQBAMAAACra0H4AAAAMFBMVEX///9ERES6uroQEBAyMjLc\n",
       "3NyYmJgiIiJmZmaqqqp2dnbMzMxUVFSIiIju7u4AAAAd7oVFAAAAAXRSTlMAQObYZgAAAAlwSFlz\n",
       "AAAOxAAADsQBlSsOGwAAAMtJREFUGNNjYMAAbM6CX4rFGLACRtYDTMfkcEgtYBDYg1OqlQVF6GJ5\n",
       "uQNcihFZRuUekq5zb4CMt3der5oApFn9kAzklnQFMhp4z3IUAGmWAISUSX3tA6AvAtj+8SSApJCc\n",
       "sSwPZCk3AwfYbobN5UAgADVQLg0sxnwBTD1EdvwOxgcgln4AH4hmR5bi2ArU/1DhMAMXSID3ApIU\n",
       "n8A1Bob5+5oZNMEingipBoY0RgWGF3c52yaARd4IPYCF/McARpGfyMGhJQ4JKCgAAF8xNF8aQs/g\n",
       "AAAAAElFTkSuQmCC\n",
       "\" style=\"display:inline;vertical-align:middle;\" /></a>, <a class=\"ProveItLink\" href=\"../ordering/__pv_it/theorems/5d76fdd975252a644e3e1cb067a357f9a9c8486a0/expr.ipynb\"><img src=\"data:image/png;base64,iVBORw0KGgoAAAANSUhEUgAAADMAAAATBAMAAADPIygvAAAAMFBMVEX////c3NwyMjK6urpEREQi\n",
       "IiLMzMwQEBCqqqp2dnZUVFSYmJhmZmaIiIju7u4AAADlKNhoAAAAAXRSTlMAQObYZgAAAAlwSFlz\n",
       "AAAOxAAADsQBlSsOGwAAAOBJREFUKM9jYMAAm0r8VUs2MGAFDlIMVlseYJeSZGBhW4BLikdAAUXo\n",
       "SmioAlzKAVnG6B5CF9c7oIF8dzYwvAIJMOohGZjSJMDAwMlRwLAfJMAkAJcSV/0KMiGDJ4BhCVgK\n",
       "yRm7H4HoB+wXGGpBjPRQIHCASLG8BnvZ/gHbNxD9BEkX2wE/EOMQA28BiGZF9tcxERDDi4EF7HPe\n",
       "C0hST3hBJp5isIeEpQZcSoaBe4MzkPFq7nmIs185P4CFvCODi34DiD0JqtrSNRQl5DgV+Cqwxw0D\n",
       "6wWuCTikOPYexiEDADoqNycoB77qAAAAAElFTkSuQmCC\n",
       "\" style=\"display:inline;vertical-align:middle;\" /></a>, <a class=\"ProveItLink\" href=\"../../logic/equality/__pv_it/theorems/8dc625ee9fbf5f96228c059ed58b16ec83d4e40d0/expr.ipynb\"><img src=\"data:image/png;base64,iVBORw0KGgoAAAANSUhEUgAAADMAAAANBAMAAAD2/0vEAAAAMFBMVEX///9ERES6uroQEBAyMjLc\n",
       "3NyYmJgiIiJmZmaqqqp2dnbMzMxUVFSIiIju7u4AAAAd7oVFAAAAAXRSTlMAQObYZgAAAAlwSFlz\n",
       "AAAOxAAADsQBlSsOGwAAAJpJREFUGNNjYHh75/WqCQwogO9GAsMbIN3Ae5ajAEhzlIPBASCTi9OA\n",
       "IZ+BgS2A7R9PAqqunUC1BxkYuBk4HBjQwAPmCwy2IAaQRgf6D7h/g+kAvgeodjG0MPAaMDA8VDjM\n",
       "wIWuS4aBEahk/r5mBk10qR4GfaDLXtzlbJuALvVmbX8AAy6wBIc4lwOfJQ4p9gs8C3BIceY2AUkA\n",
       "2hAptbp3A+oAAAAASUVORK5CYII=\n",
       "\" style=\"display:inline;vertical-align:middle;\" /></a> <a class=\"ProveItLink\" href=\"../__pv_it/demonstrations/4932f3bb22d4011370dceeea98d4e7186fb5c91c0/proof.ipynb\" style=\"text-decoration: none\">&nbsp;&#x22A2;&nbsp;&nbsp;</a><a class=\"ProveItLink\" href=\"../__pv_it/demonstrations/447f795e46923c1d445c309675762e4be827f6cd0/expr.ipynb\"><img src=\"data:image/png;base64,iVBORw0KGgoAAAANSUhEUgAAAEQAAAAXBAMAAABAJ/TYAAAAMFBMVEX///9ERES6uroQEBAyMjLc\n",
       "3NyYmJgiIiJmZmaqqqp2dnbMzMxUVFSIiIju7u4AAAAd7oVFAAAAAXRSTlMAQObYZgAAAAlwSFlz\n",
       "AAAOxAAADsQBlSsOGwAAAOhJREFUKM9jYAADvlVnHjBgAUjiHAwcBdiUIInzK7D+xqYESZztAXYl\n",
       "KOJcWC1CEd/+ALsShDirHHYVSOIRDKFYlSDEWaV392E1BCHO/P//B2xKIOJv77xeNQGL7Ns2Br4D\n",
       "EGYD71lEyLaXg0ANiLlgMgMbxGS2ALZ/PAmYhnBPaGfgEYAwGTgcsEYggy0D8wWYky5g9S7TP4b9\n",
       "G6Bs/QC+B1jcAjT8MkTwocJhBi5spjAeYJCBsObva2bQxJpUDjB9g7Be3OVsm4DVvadufGUgBLgc\n",
       "CChYwvB4AgEltQynCFkz7YYChAEAAN9Gse01wZMAAAAASUVORK5CYII=\n",
       "\" style=\"display:inline;vertical-align:middle;\" /></a></span><br>"
      ],
      "text/plain": [
       "<IPython.core.display.HTML object>"
      ]
     },
     "metadata": {},
     "output_type": "display_data"
    }
   ],
   "source": [
    "num_rel = Equals(x, y)\n",
    "num_rel = num_rel.square_both_sides()"
   ]
  },
  {
   "cell_type": "code",
   "execution_count": 15,
   "metadata": {},
   "outputs": [
    {
     "data": {
      "text/html": [
       "<span style=\"font-size:20px;\"><a class=\"ProveItLink\" href=\"../ordering/__pv_it/theorems/d1323f34847310a404e8089c2c268d3c2eb89dbf0/expr.ipynb\"><img src=\"data:image/png;base64,iVBORw0KGgoAAAANSUhEUgAAADQAAAAQBAMAAACra0H4AAAAMFBMVEX///9ERES6uroQEBAyMjLc\n",
       "3NyYmJgiIiJmZmaqqqp2dnbMzMxUVFSIiIju7u4AAAAd7oVFAAAAAXRSTlMAQObYZgAAAAlwSFlz\n",
       "AAAOxAAADsQBlSsOGwAAAMtJREFUGNNjYMAAbM6CX4rFGLACRtYDTMfkcEgtYBDYg1OqlQVF6GJ5\n",
       "uQNcihFZRuUekq5zb4CMt3der5oApFn9kAzklnQFMhp4z3IUAGmWAISUSX3tA6AvAtj+8SSApJCc\n",
       "sSwPZCk3AwfYbobN5UAgADVQLg0sxnwBTD1EdvwOxgcgln4AH4hmR5bi2ArU/1DhMAMXSID3ApIU\n",
       "n8A1Bob5+5oZNMEingipBoY0RgWGF3c52yaARd4IPYCF/McARpGfyMGhJQ4JKCgAAF8xNF8aQs/g\n",
       "AAAAAElFTkSuQmCC\n",
       "\" style=\"display:inline;vertical-align:middle;\" /></a>, <a class=\"ProveItLink\" href=\"../ordering/__pv_it/theorems/5d76fdd975252a644e3e1cb067a357f9a9c8486a0/expr.ipynb\"><img src=\"data:image/png;base64,iVBORw0KGgoAAAANSUhEUgAAADMAAAATBAMAAADPIygvAAAAMFBMVEX////c3NwyMjK6urpEREQi\n",
       "IiLMzMwQEBCqqqp2dnZUVFSYmJhmZmaIiIju7u4AAADlKNhoAAAAAXRSTlMAQObYZgAAAAlwSFlz\n",
       "AAAOxAAADsQBlSsOGwAAAOBJREFUKM9jYMAAm0r8VUs2MGAFDlIMVlseYJeSZGBhW4BLikdAAUXo\n",
       "SmioAlzKAVnG6B5CF9c7oIF8dzYwvAIJMOohGZjSJMDAwMlRwLAfJMAkAJcSV/0KMiGDJ4BhCVgK\n",
       "yRm7H4HoB+wXGGpBjPRQIHCASLG8BnvZ/gHbNxD9BEkX2wE/EOMQA28BiGZF9tcxERDDi4EF7HPe\n",
       "C0hST3hBJp5isIeEpQZcSoaBe4MzkPFq7nmIs185P4CFvCODi34DiD0JqtrSNRQl5DgV+Cqwxw0D\n",
       "6wWuCTikOPYexiEDADoqNycoB77qAAAAAElFTkSuQmCC\n",
       "\" style=\"display:inline;vertical-align:middle;\" /></a>, <a class=\"ProveItLink\" href=\"../../logic/equality/__pv_it/theorems/8dc625ee9fbf5f96228c059ed58b16ec83d4e40d0/expr.ipynb\"><img src=\"data:image/png;base64,iVBORw0KGgoAAAANSUhEUgAAADMAAAANBAMAAAD2/0vEAAAAMFBMVEX///9ERES6uroQEBAyMjLc\n",
       "3NyYmJgiIiJmZmaqqqp2dnbMzMxUVFSIiIju7u4AAAAd7oVFAAAAAXRSTlMAQObYZgAAAAlwSFlz\n",
       "AAAOxAAADsQBlSsOGwAAAJpJREFUGNNjYHh75/WqCQwogO9GAsMbIN3Ae5ajAEhzlIPBASCTi9OA\n",
       "IZ+BgS2A7R9PAqqunUC1BxkYuBk4HBjQwAPmCwy2IAaQRgf6D7h/g+kAvgeodjG0MPAaMDA8VDjM\n",
       "wIWuS4aBEahk/r5mBk10qR4GfaDLXtzlbJuALvVmbX8AAy6wBIc4lwOfJQ4p9gs8C3BIceY2AUkA\n",
       "2hAptbp3A+oAAAAASUVORK5CYII=\n",
       "\" style=\"display:inline;vertical-align:middle;\" /></a> <a class=\"ProveItLink\" href=\"../__pv_it/demonstrations/3d69520bfa8f5e830b38847da1917493178311970/proof.ipynb\" style=\"text-decoration: none\">&nbsp;&#x22A2;&nbsp;&nbsp;</a><a class=\"ProveItLink\" href=\"../__pv_it/demonstrations/a7e08be8e75d323ccb683bf6e2b7ab13ef161f630/expr.ipynb\"><img src=\"data:image/png;base64,iVBORw0KGgoAAAANSUhEUgAAAI4AAAAZBAMAAAAVsAvAAAAAMFBMVEX///8AAAAAAAAAAAAAAAAA\n",
       "AAAAAAAAAAAAAAAAAAAAAAAAAAAAAAAAAAAAAAAAAAAv3aB7AAAAD3RSTlMAqzK7Is1EmVQQid12\n",
       "Zu9LO9+JAAAACXBIWXMAAA7EAAAOxAGVKw4bAAACWElEQVQ4y42UTWgTQRTH/9lsdzP5MvbWghjq\n",
       "QWgPTaUIngxE8aDQHLx4EHLzIjUXoTYWc6sgLbmI+EFpD4Wil+BBKApGEOrBSktbqr2YmwiCsZaC\n",
       "B9E3uzObme4kZGAmO/N+88+bN/MeINvJf6HWgrkZ0MBmZdBr64pGsz3rdEVP9SzTHe2nbovvJ0sD\n",
       "wXd3lD0/XkNesdlFGj6ISRkVOI1OMirqwq3jpmKMlIDYopgcYiKL9U46KnqsZO8judE2XqT+UE6+\n",
       "cJ2+WgcdFU3VSAfX2sYp6jPt6QtCyh10dDReB3aDGeNnbrZfyCoN380yR9ARcjsduB6v0pmLgbHA\n",
       "DdfNOjpqn6OhLwjQUx57ih37ODC8Arts010umXUk+mwGLINLuEDS/IE/5sZ1oeriXaOCwtBpcmjH\n",
       "u9jXXvMzQUMX55Fq2WeG7lAoyT3rGzdSsJAgh7fxtXYCP728mw/llYpa1QoiubSXzDEK1/3ztJ7k\n",
       "jy5N7yKL28G20aM6GsrwA2nxVi1eGG6RjwkIHZBVtslQaDTU+YNRkbAOv74EOboHcS44B34UqD0I\n",
       "xUdD3SI+CTLGz5o6BFa9ctAAOxtpQmbHVsgfFUU0gzG5nuPjb5EtdHux/UdNpyqs0+E7V1C4Geev\n",
       "WHa9xXt5P5WsOtjdxuxnuelVWEdBwQbXDsRywovsRPmGP32pl4d6WEdH4/JVX/bLZOuqP93V9rgb\n",
       "hoqqoMtYkBHws9b5Jep2VC1sKBhyQkXfYFB6nvN/34r9LKfuGTcll4LOrZWg//+mpK4oO5J5k44R\n",
       "fU/9PzAZvJES+i+iAAAAAElFTkSuQmCC\n",
       "\" style=\"display:inline;vertical-align:middle;\" /></a></span>"
      ],
      "text/plain": [
       "{x in Real, y in Real, x = y} |- sqrt((x^{2})) = sqrt((y^{2}))"
      ]
     },
     "metadata": {},
     "output_type": "display_data"
    }
   ],
   "source": [
    "num_rel.square_root_both_sides(auto_simplify=False)"
   ]
  },
  {
   "cell_type": "code",
   "execution_count": 16,
   "metadata": {},
   "outputs": [
    {
     "data": {
      "text/html": [
       "<strong id=\"num_rel\">num_rel:</strong> <span style=\"font-size:20px;\"><a class=\"ProveItLink\" href=\"../ordering/__pv_it/theorems/d1323f34847310a404e8089c2c268d3c2eb89dbf0/expr.ipynb\"><img src=\"data:image/png;base64,iVBORw0KGgoAAAANSUhEUgAAADQAAAAQBAMAAACra0H4AAAAMFBMVEX///9ERES6uroQEBAyMjLc\n",
       "3NyYmJgiIiJmZmaqqqp2dnbMzMxUVFSIiIju7u4AAAAd7oVFAAAAAXRSTlMAQObYZgAAAAlwSFlz\n",
       "AAAOxAAADsQBlSsOGwAAAMtJREFUGNNjYMAAbM6CX4rFGLACRtYDTMfkcEgtYBDYg1OqlQVF6GJ5\n",
       "uQNcihFZRuUekq5zb4CMt3der5oApFn9kAzklnQFMhp4z3IUAGmWAISUSX3tA6AvAtj+8SSApJCc\n",
       "sSwPZCk3AwfYbobN5UAgADVQLg0sxnwBTD1EdvwOxgcgln4AH4hmR5bi2ArU/1DhMAMXSID3ApIU\n",
       "n8A1Bob5+5oZNMEingipBoY0RgWGF3c52yaARd4IPYCF/McARpGfyMGhJQ4JKCgAAF8xNF8aQs/g\n",
       "AAAAAElFTkSuQmCC\n",
       "\" style=\"display:inline;vertical-align:middle;\" /></a>, <a class=\"ProveItLink\" href=\"../ordering/__pv_it/theorems/5d76fdd975252a644e3e1cb067a357f9a9c8486a0/expr.ipynb\"><img src=\"data:image/png;base64,iVBORw0KGgoAAAANSUhEUgAAADMAAAATBAMAAADPIygvAAAAMFBMVEX////c3NwyMjK6urpEREQi\n",
       "IiLMzMwQEBCqqqp2dnZUVFSYmJhmZmaIiIju7u4AAADlKNhoAAAAAXRSTlMAQObYZgAAAAlwSFlz\n",
       "AAAOxAAADsQBlSsOGwAAAOBJREFUKM9jYMAAm0r8VUs2MGAFDlIMVlseYJeSZGBhW4BLikdAAUXo\n",
       "SmioAlzKAVnG6B5CF9c7oIF8dzYwvAIJMOohGZjSJMDAwMlRwLAfJMAkAJcSV/0KMiGDJ4BhCVgK\n",
       "yRm7H4HoB+wXGGpBjPRQIHCASLG8BnvZ/gHbNxD9BEkX2wE/EOMQA28BiGZF9tcxERDDi4EF7HPe\n",
       "C0hST3hBJp5isIeEpQZcSoaBe4MzkPFq7nmIs185P4CFvCODi34DiD0JqtrSNRQl5DgV+Cqwxw0D\n",
       "6wWuCTikOPYexiEDADoqNycoB77qAAAAAElFTkSuQmCC\n",
       "\" style=\"display:inline;vertical-align:middle;\" /></a>, <a class=\"ProveItLink\" href=\"../../logic/equality/__pv_it/theorems/8dc625ee9fbf5f96228c059ed58b16ec83d4e40d0/expr.ipynb\"><img src=\"data:image/png;base64,iVBORw0KGgoAAAANSUhEUgAAADMAAAANBAMAAAD2/0vEAAAAMFBMVEX///9ERES6uroQEBAyMjLc\n",
       "3NyYmJgiIiJmZmaqqqp2dnbMzMxUVFSIiIju7u4AAAAd7oVFAAAAAXRSTlMAQObYZgAAAAlwSFlz\n",
       "AAAOxAAADsQBlSsOGwAAAJpJREFUGNNjYHh75/WqCQwogO9GAsMbIN3Ae5ajAEhzlIPBASCTi9OA\n",
       "IZ+BgS2A7R9PAqqunUC1BxkYuBk4HBjQwAPmCwy2IAaQRgf6D7h/g+kAvgeodjG0MPAaMDA8VDjM\n",
       "wIWuS4aBEahk/r5mBk10qR4GfaDLXtzlbJuALvVmbX8AAy6wBIc4lwOfJQ4p9gs8C3BIceY2AUkA\n",
       "2hAptbp3A+oAAAAASUVORK5CYII=\n",
       "\" style=\"display:inline;vertical-align:middle;\" /></a> <a class=\"ProveItLink\" href=\"../__pv_it/demonstrations/a9d47987afd1332125120c345062c90b8bb1f33b0/proof.ipynb\" style=\"text-decoration: none\">&nbsp;&#x22A2;&nbsp;&nbsp;</a><a class=\"ProveItLink\" href=\"../../logic/equality/__pv_it/theorems/8dc625ee9fbf5f96228c059ed58b16ec83d4e40d0/expr.ipynb\"><img src=\"data:image/png;base64,iVBORw0KGgoAAAANSUhEUgAAADMAAAANBAMAAAD2/0vEAAAAMFBMVEX///9ERES6uroQEBAyMjLc\n",
       "3NyYmJgiIiJmZmaqqqp2dnbMzMxUVFSIiIju7u4AAAAd7oVFAAAAAXRSTlMAQObYZgAAAAlwSFlz\n",
       "AAAOxAAADsQBlSsOGwAAAJpJREFUGNNjYHh75/WqCQwogO9GAsMbIN3Ae5ajAEhzlIPBASCTi9OA\n",
       "IZ+BgS2A7R9PAqqunUC1BxkYuBk4HBjQwAPmCwy2IAaQRgf6D7h/g+kAvgeodjG0MPAaMDA8VDjM\n",
       "wIWuS4aBEahk/r5mBk10qR4GfaDLXtzlbJuALvVmbX8AAy6wBIc4lwOfJQ4p9gs8C3BIceY2AUkA\n",
       "2hAptbp3A+oAAAAASUVORK5CYII=\n",
       "\" style=\"display:inline;vertical-align:middle;\" /></a></span><br>"
      ],
      "text/plain": [
       "<IPython.core.display.HTML object>"
      ]
     },
     "metadata": {},
     "output_type": "display_data"
    }
   ],
   "source": [
    "num_rel = num_rel.square_root_both_sides()"
   ]
  },
  {
   "cell_type": "code",
   "execution_count": null,
   "metadata": {},
   "outputs": [],
   "source": [
    "num_rel.rhs.simplification()"
   ]
  },
  {
   "cell_type": "code",
   "execution_count": null,
   "metadata": {},
   "outputs": [],
   "source": [
    "num_rel.left_add_both_sides(c)"
   ]
  },
  {
   "cell_type": "code",
   "execution_count": null,
   "metadata": {},
   "outputs": [],
   "source": [
    "defaults.assumptions = (*basic_assumptions, Less(x, y))"
   ]
  },
  {
   "cell_type": "code",
   "execution_count": null,
   "metadata": {},
   "outputs": [],
   "source": [
    "num_rel = Less(x, y).prove()"
   ]
  },
  {
   "cell_type": "code",
   "execution_count": null,
   "metadata": {},
   "outputs": [],
   "source": [
    "num_rel = num_rel.left_add_both_sides(a)"
   ]
  },
  {
   "cell_type": "code",
   "execution_count": null,
   "metadata": {},
   "outputs": [],
   "source": [
    "num_rel = num_rel.right_add_both_sides(b)"
   ]
  },
  {
   "cell_type": "code",
   "execution_count": null,
   "metadata": {},
   "outputs": [],
   "source": [
    "num_rel = num_rel.left_mult_both_sides(c)"
   ]
  },
  {
   "cell_type": "code",
   "execution_count": null,
   "metadata": {},
   "outputs": [],
   "source": [
    "# After implementing NumberRelations for greater and greater_eq (or, better yet,\n",
    "# Issue #180 which makes 'greater' as a style variant of Less, etc.), this should work\n",
    "#num_rel.mult_left(d)"
   ]
  },
  {
   "cell_type": "code",
   "execution_count": null,
   "metadata": {},
   "outputs": [],
   "source": [
    "num_rel = Less(x, y).prove()\n",
    "num_rel.left_mult_both_sides(d)"
   ]
  },
  {
   "cell_type": "code",
   "execution_count": null,
   "metadata": {},
   "outputs": [],
   "source": [
    "num_rel = Less(x, y).prove()\n",
    "num_rel.right_mult_both_sides(c)"
   ]
  },
  {
   "cell_type": "code",
   "execution_count": null,
   "metadata": {},
   "outputs": [],
   "source": [
    "num_rel = Less(x, y).prove()\n",
    "num_rel.right_mult_both_sides(d)"
   ]
  },
  {
   "cell_type": "code",
   "execution_count": null,
   "metadata": {},
   "outputs": [],
   "source": [
    "num_rel = Less(x, y).prove()\n",
    "num_rel.divide_both_sides(a)"
   ]
  },
  {
   "cell_type": "code",
   "execution_count": null,
   "metadata": {},
   "outputs": [],
   "source": [
    "try:\n",
    "    num_rel = Less(x, y).prove()\n",
    "    num_rel.divide_both_sides(b)\n",
    "    assert False, \"Expected Exception\"\n",
    "except Exception as e:\n",
    "    print(\"Expected error: \", e)"
   ]
  },
  {
   "cell_type": "code",
   "execution_count": null,
   "metadata": {},
   "outputs": [],
   "source": [
    "# Need some work on LesserSequences to get this to work.\n",
    "#num_rel.square()"
   ]
  },
  {
   "cell_type": "code",
   "execution_count": null,
   "metadata": {},
   "outputs": [],
   "source": [
    "defaults.assumptions = (*basic_assumptions, NotEquals(x, y))"
   ]
  },
  {
   "cell_type": "code",
   "execution_count": null,
   "metadata": {},
   "outputs": [],
   "source": [
    "num_rel = NotEquals(x, y).prove()"
   ]
  },
  {
   "cell_type": "code",
   "execution_count": null,
   "metadata": {},
   "outputs": [],
   "source": [
    "help(num_rel.divide_both_sides)"
   ]
  },
  {
   "cell_type": "code",
   "execution_count": null,
   "metadata": {},
   "outputs": [],
   "source": [
    "num_rel.divide_both_sides(c)"
   ]
  },
  {
   "cell_type": "code",
   "execution_count": null,
   "metadata": {},
   "outputs": [],
   "source": [
    "num_rel.left_mult_both_sides(c)"
   ]
  },
  {
   "cell_type": "markdown",
   "metadata": {},
   "source": [
    "### Test deducing bounds through multiple layers of operations"
   ]
  },
  {
   "cell_type": "code",
   "execution_count": null,
   "metadata": {},
   "outputs": [],
   "source": [
    "expr = Add(Mult(Add(a, b), Add(b, c)), Mult(Add(x, a), Add(c, y)))"
   ]
  },
  {
   "cell_type": "code",
   "execution_count": null,
   "metadata": {},
   "outputs": [],
   "source": [
    "defaults.assumptions = (InSet(a, RealPos), InSet(b, RealPos), InSet(c, RealPos), InSet(d, RealPos), \n",
    "                        InSet(x, RealPos), InSet(y, RealPos),\n",
    "                        greater(a, d), greater(x, y))"
   ]
  },
  {
   "cell_type": "code",
   "execution_count": null,
   "metadata": {},
   "outputs": [],
   "source": [
    "InSet(Add(b, c), RealPos).prove()"
   ]
  },
  {
   "cell_type": "code",
   "execution_count": null,
   "metadata": {},
   "outputs": [],
   "source": [
    "InSet(Add(c, y), RealPos).prove()"
   ]
  },
  {
   "cell_type": "code",
   "execution_count": null,
   "metadata": {},
   "outputs": [],
   "source": [
    "expr.deduce_bound(greater(a, d))"
   ]
  },
  {
   "cell_type": "code",
   "execution_count": null,
   "metadata": {},
   "outputs": [],
   "source": [
    "expr.deduce_bound([greater(a, d), greater(x, y)])"
   ]
  },
  {
   "cell_type": "code",
   "execution_count": null,
   "metadata": {},
   "outputs": [],
   "source": [
    "%end demonstrations"
   ]
  },
  {
   "cell_type": "code",
   "execution_count": null,
   "metadata": {},
   "outputs": [],
   "source": []
  }
 ],
 "metadata": {
  "kernelspec": {
   "display_name": "Python 3",
   "language": "python",
   "name": "python3"
  },
  "language_info": {
   "codemirror_mode": {
    "name": "ipython",
    "version": 3
   },
   "file_extension": ".py",
   "mimetype": "text/x-python",
   "name": "python",
   "nbconvert_exporter": "python",
   "pygments_lexer": "ipython3",
   "version": "3.7.3"
  }
 },
 "nbformat": 4,
 "nbformat_minor": 1
}
