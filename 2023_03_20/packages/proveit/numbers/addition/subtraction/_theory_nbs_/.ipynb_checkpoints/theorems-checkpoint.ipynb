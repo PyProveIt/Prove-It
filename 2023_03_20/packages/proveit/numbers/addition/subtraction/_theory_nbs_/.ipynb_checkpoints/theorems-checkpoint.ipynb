{
 "cells": [
  {
   "cell_type": "markdown",
   "metadata": {},
   "source": [
    "Theorems (or conjectures) for the theory of <a class=\"ProveItLink\" href=\"theory.ipynb\">proveit.numbers.addition.subtraction</a>\n",
    "========"
   ]
  },
  {
   "cell_type": "code",
   "execution_count": 1,
   "metadata": {},
   "outputs": [],
   "source": [
    "import proveit\n",
    "# Prepare this notebook for defining the theorems of a theory:\n",
    "%theorems_notebook # Keep this at the top following 'import proveit'.\n",
    "from proveit import ExprRange, IndexedVar\n",
    "from proveit.logic import Forall, Equals, NotEquals, InSet\n",
    "from proveit.numbers import (zero, one, Natural, NaturalPos, Complex, \n",
    "                             Add, Neg, subtract, Less, LessEq, greater, greater_eq,\n",
    "                             Exp)\n",
    "from proveit import a, b, c, d, i, j, k\n",
    "from proveit.core_expr_types import a_1_to_i, b_1_to_j, c_1_to_j, c_1_to_k, d_1_to_k"
   ]
  },
  {
   "cell_type": "code",
   "execution_count": 2,
   "metadata": {},
   "outputs": [
    {
     "name": "stdout",
     "output_type": "stream",
     "text": [
      "Defining theorems for theory 'proveit.numbers.addition.subtraction'\n",
      "Subsequent end-of-cell assignments will define theorems\n",
      "'%end theorems' will finalize the definitions\n"
     ]
    }
   ],
   "source": [
    "%begin theorems"
   ]
  },
  {
   "cell_type": "code",
   "execution_count": 3,
   "metadata": {},
   "outputs": [
    {
     "data": {
      "text/html": [
       "<strong id=\"subtract_from_add\"><a class=\"ProveItLink\" href=\"proofs/subtract_from_add/thm_proof.ipynb\">subtract_from_add</a> (conjecture without proof):<br></strong> <a class=\"ProveItLink\" href=\"../__pv_it/theorems/69cb637363c839c851d4bc9f49381007c0cc00260/theorem_expr.ipynb\"><img src=\"data:image/png;base64,iVBORw0KGgoAAAANSUhEUgAAAQ8AAAAXBAMAAADn89dPAAAAMFBMVEX///+IiIgiIiIQEBB2dnbu\n",
       "7u5ERETMzMzc3NwyMjK6urpmZmaYmJiqqqpUVFQAAAB6qHgnAAAAAXRSTlMAQObYZgAAAAlwSFlz\n",
       "AAAOxAAADsQBlSsOGwAAAzlJREFUSMe9Vk1oE0EUfs1mN5tsttkexB60hIJUFKGKKIiHVJAKtrBC\n",
       "UApiAtVVqEigouBBt3oUSi4t4kEiil4KjZcKtWACVvEHXG+CHlLoxYPQHgoVPDhvZnazPxNacfHB\n",
       "mwxfvpn95v3MLkDspnIXmf1X8D/abu4ie9wZbuHke4w69ALzsMnjeYCuhnANwos4eRCjkDHuEUvX\n",
       "yTAjXkTg25jRcoxClrhHLOeQ4aN4EYHTJkDSiVHIIPeIzZMngWQKFxE4S9KTjrNEqsyjdoLmR1wk\n",
       "CB/q7z8coxCtwBySPe+C/zzq+UnQVrjZV3sNBr8EuLTl9nX28zUEG+KzoasHYCHYNb/Mkg1ZDJbW\n",
       "T41qemIrG0DhaVA9lanZUFtNrEzRCavmbM33H3K1qJCEw70AB4M52wDJAD1UPvJx0EhbI6yYyfb+\n",
       "q+3n9Fk1+ZqtX/QJueDFn3Mz0ftCqjF/zapyjJ59ANdUIVeA1Fook2somcK64avVo97sVYVk7gzA\n",
       "G5+QRfdPxeXOdBRyJBKqAsw7kAlFRCpDibApXG2Sodg8hWFY78ODJHcZ9Ao8f8t9azAheZenuNxR\n",
       "b8ehZiA18rrgGiFR0vPBGikZ8BnzhvAoOZa8N7WJNbGnC8tyX2rwLK1NrzipELXq8hSX+w00i9hV\n",
       "SNQmebAM5r/JMYNCKqQeIBu6O0sO/NBtBt8jyrR6CoOjNLB8tbJcmUPW8nJASKbs8VzuM5ewAOfY\n",
       "BBsRnbTMcOCR3Q2lzjvbZ4qh79c43F3BrHZhoKSK1mIpfk/O6dx8HhCitxhvwRq3rAbl3nAJx7wi\n",
       "zzNPjjSDl6i8ihd/ohbqmpXh6Z0+uGQry2RdDiSS4hz5PLhOT0eKVW4LSZVdHkaEcr3UbHpbD3AX\n",
       "290tYMm+M2cWIWG+hSKka1BQ8DjqaRuGAsVKeUwIcqHH3eAhJNvvr06vtk6vQx+cWfoyApNO6oVB\n",
       "RnWpaaqXES7OTlR8Qq4wHu8awiUIt/ufdrhZt5mLv97K24Id31i0LF86GfFp4B7BDAv2RUzu9F3R\n",
       "QWEIzpjtMWRsY83236x+wG9T3EXWuy046xuFQuBkCP4A/9v4yeUQbMb3hD+qBc1udIjykAAAAABJ\n",
       "RU5ErkJggg==\n",
       "\" style=\"display:inline;vertical-align:middle;\" /></a><br>"
      ],
      "text/plain": [
       "subtract_from_add: forall_{a, b, c in Complex | (a + b) = c} ((c - b) = a)"
      ]
     },
     "execution_count": 3,
     "metadata": {},
     "output_type": "execute_result"
    }
   ],
   "source": [
    "subtract_from_add = Forall((a, b, c), Equals(subtract(c, b), a), conditions=[Equals(Add(a, b), c)], domain=Complex)"
   ]
  },
  {
   "cell_type": "code",
   "execution_count": 4,
   "metadata": {},
   "outputs": [
    {
     "data": {
      "text/html": [
       "<strong id=\"negated_add\"><a class=\"ProveItLink\" href=\"proofs/negated_add/thm_proof.ipynb\">negated_add</a> (conjecture without proof):<br></strong> <a class=\"ProveItLink\" href=\"../__pv_it/theorems/70a88086b4c33be231e293df91e03ad50d96c3800/theorem_expr.ipynb\"><img src=\"data:image/png;base64,iVBORw0KGgoAAAANSUhEUgAAAUAAAAAXBAMAAACIQotiAAAAMFBMVEX///+IiIgiIiIQEBB2dnbu\n",
       "7u5ERETMzMzc3NwyMjK6urpmZmaYmJiqqqpUVFQAAAB6qHgnAAAAAXRSTlMAQObYZgAAAAlwSFlz\n",
       "AAAOxAAADsQBlSsOGwAAA7NJREFUSMfNlk1oE0EUx1+a7OZjkyYFBQ+1lKJUBKGIX4iHVDwIWlkx\n",
       "FApiU6qxUNBFpYoHu60geJEgtHgoEhHqpdAoUkULTcEW2nqI1UNFkRR6FdpDQQXBeTM7+zG7SYpE\n",
       "8MHb7E5+s/OfN2/eDkDNLWR4RdOrtulbec1f2U7DK9oTd5Ov6CIiCYASPnytob5YknlZk3qbiZqC\n",
       "q/2ToBeJRoA3+PCohgK7DC9v4Ty5jLh0Z4UGJMIq3MGlTtdQ4LTh5S2Oa7kktipiTJGI5lEjBIo1\n",
       "FNhmeHmbJEOCXxVa/SJGiYMQJcLDtUzBLPMKdpyusxiwz65MQGIMYH9Ly4EaClSSzE170D4kII8b\n",
       "vpNVKwmtL+0P7Y0aI84AvAK4VHXYPIuOWL0SHjug4IxO5Ahcda6m9FPt1iGKUVZaqFGtYzZkuKik\n",
       "GbFAZgghczLBUWGr96+y6bNdtGj/D1nFLbCuyJzbuQK8EJJgE/wJiIl5us92v8skPgLIaiBn/rNm\n",
       "jd+UyUlX9NhFS6BkTkQx2Ii73vlzzLtobFphBocD65l0zkI8CcF1oeNRMsBDCmnKJlWAxCCZUMK2\n",
       "Rw6bd281kidnAd5ZAhVzIjJnR8oK5HYIpF9CjJMwWYRIm1ug+Q46HCWeEs/Okktq9iSK3mjCfAk0\n",
       "JmgdP3+bfw5pjzqTkznbwd9JungusbQB0XVXGZxRIdYs5KBtibvpuyixTLyDhEHaE/yBObfbh9th\n",
       "b7CtE5GVFd6FCrxvcjJnv8BUhlgBuxjBTTDnAn9DfXbFKVCTjpESLH4cemwEiU6OEfPE75IJKHk6\n",
       "gFzAraOkJW0Cwbk5h8Bxi+PsOE9K0sUIZclZQnpgOZ93KKkvyHmhFAErKGaKpyGgMQKLT72GWePD\n",
       "l/o1pcRSaIHEpXjzmUPgN4ObyvSSoFF2wJZ5xuZqZs7twrZbq5qzzKzhl7AuJwi8Zrs/8X67Qezl\n",
       "q67LcyT74uAn6RMn5e4GjQbZJJIlcMDkMIKU5Usctypkq+FVbNhVnzQPIsSn6tcHJ9QU1KnzkIJw\n",
       "DpIybpbQKR3aHZuEckwgstDAyzPpYvvGL23tTOGwaN6DME8QkekPp+F6Mfg8Qa6h6Vk1dBmbU6P9\n",
       "miVQ1hln7GLCQh8/RZMuvATpzKscu90HqD4P4p6zrWi7pjIZW5awwpR01EFMJ49zGrZJVc9vHlPo\n",
       "9CCcoiOqdRWMDfja8SXBX69IDRle0XZ4BDXhInzO90dtV0+BAVH7IvwvZsxEFKj++5H/ADi76MNy\n",
       "FNVGAAAAAElFTkSuQmCC\n",
       "\" style=\"display:inline;vertical-align:middle;\" /></a><br>"
      ],
      "text/plain": [
       "negated_add: forall_{a, b, c in Complex | (a + b) = c} ((-a - b) = (-c))"
      ]
     },
     "execution_count": 4,
     "metadata": {},
     "output_type": "execute_result"
    }
   ],
   "source": [
    "negated_add = Forall((a, b, c), Equals(Add(Neg(a), Neg(b)), Neg(c)), conditions=[Equals(Add(a, b), c)], domain=Complex)"
   ]
  },
  {
   "cell_type": "code",
   "execution_count": 5,
   "metadata": {},
   "outputs": [
    {
     "data": {
      "text/html": [
       "<strong id=\"subtract_from_add_reversed\"><a class=\"ProveItLink\" href=\"proofs/subtract_from_add_reversed/thm_proof.ipynb\">subtract_from_add_reversed</a> (conjecture without proof):<br></strong> <a class=\"ProveItLink\" href=\"../__pv_it/theorems/3d22dde0d0b0191d15e9dacc731b8f931a5da1920/theorem_expr.ipynb\"><img src=\"data:image/png;base64,iVBORw0KGgoAAAANSUhEUgAAAS8AAAAXBAMAAACortSfAAAAMFBMVEX///+IiIgiIiIQEBB2dnbu\n",
       "7u5ERETMzMzc3NwyMjK6urpmZmaYmJiqqqpUVFQAAAB6qHgnAAAAAXRSTlMAQObYZgAAAAlwSFlz\n",
       "AAAOxAAADsQBlSsOGwAAA5RJREFUSMfFVktoE0EY/pPsbh6b2O3JHmopRalUCrH4APEQTxXayoqh\n",
       "IIiNqLFQkEWlgge7VRC8lCC0CHqICPXSQwWpr4AJ2Errwfg4VBRNoRfBQwuKHiw4z33MTugl4sC3\n",
       "j3++2f3mn///ZwAa3mIMdboCzQ6+2vAv2jYGSUsYQVuo6n+/x1DDL58bqCuVIRjskXW2Bk0fRKFl\n",
       "imf45XYDhR1nuCPrjJuiRS2IlkmKq3jpcw0UVmLYkHUmZ0WLXhYtrynwHJRqA4WlKRI/pb17RUMk\n",
       "QImYBEmkON7IECtQKO3S7rui4WNwucsUPR0dexooTM9QxFfahHVQml8BHBH5j7zVZLUFpa1So3gM\n",
       "cHbT39HQSIn1RZL9fL5Dk+pvfw3rhjmARSK+g7Sa6ML7toYCIFmgmIBYjfdEp4TUHVkZJw80O5a8\n",
       "fZirB4WFqxRfTdjt78hgw3uR3+1J0IOgowBIpSk0Uyk6favuf9vyRfW8nTrjClOdCeiMm8gEQ7dI\n",
       "8RTgBy4cxDed6OkFqRRjIv8A+u4tQrL0NaweomsUKcMT+/udp+cWWumjAC9dYbozAY1zJ+sK2w4J\n",
       "f8HYR1dLIswZmoMhNDKRpoBCBV2ylcPYTetteF5Kq4FrL5y4wrc3Iizs8DTOHXAiu9XwL+UG6L6C\n",
       "oa6T2zsxxjxLOWTAGxzJ7RQwgKat7oziUA3tCOEw74qmBzFzeZmPIcJuOjyNcz/BXB61Mh7CnGlQ\n",
       "/IJj/tL5B/kBYEH02CmPsCp8Q/mVRD/DgOtIuT5LPqyVcTroOdWawcz5eZ+waZfHudM86NAQ5jqW\n",
       "7N9hxK8ApWSvvzqQ5qkfmpHapbsFB7ZYOCpC2LERS6/REFlEfqhefuAT9oXx5vKnkZMId9QTWSxp\n",
       "2ilO9gl7jdJfQWHSJQq74Fntld6JrSgQihTUi7Y2j4Y1QQSFRxMqV5fIt1Dwq66wUYeHPUa4fCmb\n",
       "3ArXySA/kAX2g7AlWq4x0BnbYzNmFsLmAmQhXoSMhpMg1mfDIV/wEx4VhrnQzMsqGuLfg+vsC+XN\n",
       "t3V+CqAnuNLbfrhYjT400DVWqpixc9icnRqxXGGaTXksKxEXhrknShV+oEEsAmm7ETQNi07NBY87\n",
       "Vc81m8+7dZcKc8upxqNCcl7CNrXeOWo4aBoU3iUTS5juVWj0R098lR/fZZ4ZZ5C0kIQfEzbcFgbv\n",
       "cnuuUmGKqHkJ/ndjMxWFmf/uj38ByLnlm3uMAxQAAAAASUVORK5CYII=\n",
       "\" style=\"display:inline;vertical-align:middle;\" /></a><br>"
      ],
      "text/plain": [
       "subtract_from_add_reversed: forall_{a, b, c in Complex | (a + b) = c} ((b - c) = (-a))"
      ]
     },
     "execution_count": 5,
     "metadata": {},
     "output_type": "execute_result"
    }
   ],
   "source": [
    "subtract_from_add_reversed = Forall((a, b, c), Equals(subtract(b, c), Neg(a)), conditions=[Equals(Add(a, b), c)], domain=Complex)"
   ]
  },
  {
   "cell_type": "code",
   "execution_count": 6,
   "metadata": {},
   "outputs": [
    {
     "data": {
      "text/html": [
       "<strong id=\"add_from_subtract\"><a class=\"ProveItLink\" href=\"proofs/add_from_subtract/thm_proof.ipynb\">add_from_subtract</a> (conjecture without proof):<br></strong> <a class=\"ProveItLink\" href=\"../__pv_it/theorems/26aa96c2749750017dbf6d093f0fdbe10831a9090/theorem_expr.ipynb\"><img src=\"data:image/png;base64,iVBORw0KGgoAAAANSUhEUgAAAQ8AAAAXBAMAAADn89dPAAAAMFBMVEX///+IiIgiIiIQEBB2dnbu\n",
       "7u5ERETMzMzc3NwyMjK6urpmZmaYmJiqqqpUVFQAAAB6qHgnAAAAAXRSTlMAQObYZgAAAAlwSFlz\n",
       "AAAOxAAADsQBlSsOGwAAA0ZJREFUSMe9Vk1oE0EUfk2ym59Nmu1B7EFLKYiiKPUHC+Ih9VLBFlYI\n",
       "iiAkoKZCRQKVCh50qycRSi8W8SARoV4KjR6qaMEGrGIV3N4KirTQiwehPRQqePC9mdnd7GSCFRcf\n",
       "vNnhy7ez38z7mQCEbgnhKrP/Cv5H2ylcZY+bw8s0+RqijkyOu2zahU6AljnlOwS/osmDEIWcE95g\n",
       "ySoO99UvIXyTIloMUciscM+mxDPr4PBR/RLCSQsg5oQopFu4Z4viOY1fgqilfAnhNIYnGWaKjHNv\n",
       "FHKCxUedJAQf6uo6EqIQI8cdYm3vg0Ietf1AdFku9tV2k8MvAC79cfkq361c76Z6b+SJ/TATEKL9\n",
       "tAo2pNlhPe8iO0DTJ7a+AQweg4SnMj4hldXQyiib8GxeqP+NuEajkIgjPAcHA0IyGxA1IdMtFfVx\n",
       "MLCsCdatWMXDV/3vdJQq2lU7c9EXogWPFbmpxn4RrXB/w7MS936Y790Yh2wO4mtSJNdIMoMzZl2u\n",
       "9niz12WM3GmAt74QoxJYo0fZFlwhR+Vkxe9NO5CSTiRahAKyGTxewyFfO0nHsN5BG4ntMFkLPH/D\n",
       "vTWYkIjHA5c74K3YWwuERluXhWAbwVPKdAZzpGDCZ4obwQO4LW1PfJNyYlcLpeXeePcZ4i8tuYsx\n",
       "IXc9HrjcL2CU0K5ApDLMYd3k/gu3GRRSxnyAtNQ7Cw58xxpg8B0MvVGN0+Hoc5S+RlErs3Y4Px8Q\n",
       "MunxwOVOuoQZOMsnVIjkWDJ9ASGtc3pVVHad6WZmnyHg1jJFtYUyMVo2lnmIP+A+netPA0K+Cd4I\n",
       "HYLNuCMu4ZiX5J3cY/01K1i+q9T4IxWpalb6xrbXwQVbn8f3shDFEGexXVxju8Nk1XwhIx6PHTVx\n",
       "vdBsekvvFt7QWZndVvcpD47at6asPESsd5CHZAVyOn0uccqG3kCyMp7ISuRCm7vAQ4j591fwapuS\n",
       "r8QmNyWz1OxiPww78WcmjonZmpUYJDg/MVT2heg254kYIBcuuwvc+7TNjbrNXf3vrbgl2Kkb86VS\n",
       "XTgZsbF9aYp1CdOa/a9oolCCU5Y/SsYXftlww6nWHRWusvYtwem6USkkJmtcgP9tYueyECu8L/wG\n",
       "mtTXnLC2nIgAAAAASUVORK5CYII=\n",
       "\" style=\"display:inline;vertical-align:middle;\" /></a><br>"
      ],
      "text/plain": [
       "add_from_subtract: forall_{a, b, c in Complex | (a - b) = c} ((c + b) = a)"
      ]
     },
     "execution_count": 6,
     "metadata": {},
     "output_type": "execute_result"
    }
   ],
   "source": [
    "add_from_subtract = Forall((a, b, c), Equals(Add(c, b), a), conditions=[Equals(subtract(a, b), c)], domain=Complex)"
   ]
  },
  {
   "cell_type": "code",
   "execution_count": 7,
   "metadata": {},
   "outputs": [
    {
     "data": {
      "text/html": [
       "<strong id=\"add_cancel_basic\"><a class=\"ProveItLink\" href=\"proofs/add_cancel_basic/thm_proof.ipynb\">add_cancel_basic</a> (conjecture without proof):<br></strong> <a class=\"ProveItLink\" href=\"../__pv_it/theorems/f2515326ace5c9fd30b594ac2e48f34f5c12c6c00/theorem_expr.ipynb\"><img src=\"data:image/png;base64,iVBORw0KGgoAAAANSUhEUgAAAKkAAAAVBAMAAADP89MSAAAAMFBMVEX///+IiIgiIiIQEBB2dnbu\n",
       "7u5ERETMzMzc3NwyMjK6urpmZmaYmJiqqqpUVFQAAAB6qHgnAAAAAXRSTlMAQObYZgAAAAlwSFlz\n",
       "AAAOxAAADsQBlSsOGwAAAiJJREFUOMuVlEFIG0EUhl+y2c3GzcreKhSC5FKhtIQiCNJDhKKF2rJC\n",
       "EIRCFOoqCBJEEDzoqvfgpcWDhxUPvQSUIpRWD7FtDtKDK3iwIBjBS28eWhC8dGbemDjjjtof/mX2\n",
       "m31vZt9jBuBW+dzKyfvjpmIhOlpralyng2NF3CG3Ys3qDfTioc/wV/qyEh2mL6NVei+DVKh3MDxH\n",
       "Xszh6Cirilbppwy+AfQynHIBEorSadwqaa4EJgFOXIrTZC8pRdQvbpVS8n9cAsyHDD/LZjsVUVvc\n",
       "5lmbI84gSdSlPtCsVYY/A4wqsq5yr/vGX3EGSZp18lOW6ild6w/J6jBcBlNYMjZxusCHT9D6c7Da\n",
       "xU0hsXPSH9CseYYNNxFwmsx4gT7p2+/4ezfaOod4ngyH2KYeQYMkz6UKkKwbDsO202jWdonUagDg\n",
       "h5hVG4ZiIDYfSUvuZrdOQsTLu+RR2H2JZ+XtLPkTsQJFB/bFaE7sdrGu4AHsu4hfk7OgdyQvYJBO\n",
       "HB01g0fQxRB+28KdwUlaPj3fAb4A4iXSLGszmYMKnajVmh+9QRuO/dgSojmx8lLWeKh3cdxKqqkF\n",
       "sTrseZ4XznxsfjSF1k/7yg/EtiCJB/LFsZUpXcNF36i503REu6VfLV1Cq7R4B9b8+Ypr0GNtvvKh\n",
       "h9P0JlqlnTtwy85BP5hjdFj4MNHY3jh3tBRXnYwLnidWapA7Wob/P/jasg46Wm1K/A9wiYwrsqub\n",
       "MAAAAABJRU5ErkJggg==\n",
       "\" style=\"display:inline;vertical-align:middle;\" /></a><br>"
      ],
      "text/plain": [
       "add_cancel_basic: forall_{a in Complex} ((a - a) = 0)"
      ]
     },
     "execution_count": 7,
     "metadata": {},
     "output_type": "execute_result"
    }
   ],
   "source": [
    "add_cancel_basic = Forall(a, Equals(subtract(a, a), zero), domain=Complex)"
   ]
  },
  {
   "cell_type": "code",
   "execution_count": 8,
   "metadata": {},
   "outputs": [
    {
     "data": {
      "text/html": [
       "<strong id=\"add_cancel_reverse\"><a class=\"ProveItLink\" href=\"proofs/add_cancel_reverse/thm_proof.ipynb\">add_cancel_reverse</a> (conjecture without proof):<br></strong> <a class=\"ProveItLink\" href=\"../__pv_it/theorems/0c2637dac44291dbf84a12f36304aa6b7d36f8240/theorem_expr.ipynb\"><img src=\"data:image/png;base64,iVBORw0KGgoAAAANSUhEUgAAALkAAAAVBAMAAADoXVL6AAAAMFBMVEX///+IiIgiIiIQEBB2dnbu\n",
       "7u5ERETMzMzc3NwyMjK6urpmZmaYmJiqqqpUVFQAAAB6qHgnAAAAAXRSTlMAQObYZgAAAAlwSFlz\n",
       "AAAOxAAADsQBlSsOGwAAAj5JREFUOMuVlE1o1EAUx99+JJttNpKbBaGUPRVEWVQQxMMKRQU/iLD0\n",
       "JGwFjUKhLCIIHtqp3ksRKh48RDx4KVikIGoPW3UP4qEpeKggdAtevPWgIHhxZt5LtjObD/vgH2Z+\n",
       "mfzz8l5mADKDkXIX/T8eRCFEZcfzdNwXg+8pz30l5eTQHUKTR5jE78TkafJjxhIqL5Z1UA2NCYnn\n",
       "+MSaTn7K7qKGY0WZfdFvfwA4L3HVAyinlLZEGo4tdZ2n3Z4F2PEErvHcqilf/I2U517Vv+8vwHwo\n",
       "8Yl6/VSK+xopCuvHqKu6Iyn3tX4J967EbwBupbg/I0Xxgpm/VXckNdn513URx8U7f3F3V+JFsJRX\n",
       "F2Z2F2h4jBSldBbsccWdiNNQs5LuTYlNrxwQrYz5gTHLnJs0P4MyHsusOvYeFJuY5ElMkkhlT6sM\n",
       "d3/lSuy4cVPfd3gNrwF8Ut3jX2Ma2oGSO5GRxnBXd0LESxv80tq4iHvu+gP+ZcmVabuwqf4zRJxx\n",
       "te7gA2x6iK/wPWVMVP7AlLixvT2wu0GK3EP46TDFHUlN340fAd4C4ke8qfZqpYEbsNcbLLpKojBd\n",
       "56it5E7EbmruxdA4TfgQr3YpKPThs+/74f2Xg0V3SVGzdi8sHlb/GSTFQD+g1sY6+3CbmT3vnhiJ\n",
       "rhpRCh1U3l59mLxdYlxi8yueKY4L6xKDc0Rrq6i8U2w92T3GI+tbl8G6LYatJzNxundI2ZFyxOq4\n",
       "5ftqBadI2WGyg+B9r3dR2TGaiv8BEEGYoHgBAH4AAAAASUVORK5CYII=\n",
       "\" style=\"display:inline;vertical-align:middle;\" /></a><br>"
      ],
      "text/plain": [
       "add_cancel_reverse: forall_{a in Complex} ((-a + a) = 0)"
      ]
     },
     "execution_count": 8,
     "metadata": {},
     "output_type": "execute_result"
    }
   ],
   "source": [
    "add_cancel_reverse = Forall(a, Equals(Add(Neg(a), a), zero), domain=Complex)"
   ]
  },
  {
   "cell_type": "code",
   "execution_count": 9,
   "metadata": {},
   "outputs": [
    {
     "data": {
      "text/html": [
       "<strong id=\"add_cancel_triple_12\"><a class=\"ProveItLink\" href=\"proofs/add_cancel_triple_12/thm_proof.ipynb\">add_cancel_triple_12</a> (conjecture without proof):<br></strong> <a class=\"ProveItLink\" href=\"../__pv_it/theorems/8bfbcfef1692ddf7064f9b94389e4937c404a4e90/theorem_expr.ipynb\"><img src=\"data:image/png;base64,iVBORw0KGgoAAAANSUhEUgAAANYAAAAWBAMAAABOJX+pAAAAMFBMVEX///+IiIgiIiIQEBB2dnbu\n",
       "7u5ERETMzMzc3NwyMjK6urpmZmaYmJiqqqpUVFQAAAB6qHgnAAAAAXRSTlMAQObYZgAAAAlwSFlz\n",
       "AAAOxAAADsQBlSsOGwAAAtNJREFUSMe1VU9o01AY/7VZ0q5pbDy5g44ylImC6FS8eKheFKYSsQwG\n",
       "YgdqJwykoCB4cJmCx9HLhqBIZQcvg1URRB3YgR2MHUz1soNgB7sIChMszsPA7+W9pE2WxVz84Pfy\n",
       "8nt53/e+P+8L8G9JCkQUc1slEWSPQER5FsimdKDJJl/C9mo5jggiX80CsZqfHhqgYTfwlr08ClMw\n",
       "LBBFuqs0TG2hH7MlA/dYLEfC9s8LhMmseGYsGpa3LG8S0lVmDl1WmJ7DAmHSEM850gbJ8Oeqxcbj\n",
       "SFN0u0PTVeaIZOu0HUh/wrqybHwCDPT1HQtTo+Y4kFzr0X117DKOrac7f5Dqpj+Lq70UuQvAa+B6\n",
       "aLpr4qQzptLyLrUZYUv+YxRMpO0ovOxjcohNC1PyBrAETCLpniMx7cxiY6sTfBa3OOSTULPeCm8z\n",
       "wpbWgqRD82f3q4EjwGdAMboqLrvGDPYWK/JNU7vGKanCoa4jzkI5bJ+3H22GPDjKPVDLyOSQWPfZ\n",
       "egP8AsbpLHpHaZwgvCtRyC8CH7y2pBEUKh4VHYzwi0zPWUj5/dqLFFX9DM3KCzTkF84yl372Gva1\n",
       "v3zX7WBODAs6PnpVdDAN93q9N6BlffnahEp5/USz83TP5f2JDZalfbHqEFtdWXE1KjpHwcI3zdNX\n",
       "OxjHVolyiLS/NfzGJXJgkWYPqDTUaoI5rtTSZbsF1Ovty9HkUHTtoOpR0cEIWztqSlXckE75jjEa\n",
       "X7EPSiwhMVaMUkltLhWLRevOc/fDRJZDXj0zuctbh23Gqfk11sziFZ+tK4MsLweccJhKnTpLBpJ1\n",
       "23aGakMWa/0CUfqGLfeDf2DOhZHM8Vkjj7ixSHeALQyaOCXWlgPbaXDvdZt1QP9xOldqvnEOt6zE\n",
       "Cx3JUUbkp8dKTlpMjqiyzV/jofeVt/t8segJuDzCEVW2OdcNb+s3gjdPCESUnkA25j1BGv9X/gJ6\n",
       "YbBkMxzpkwAAAABJRU5ErkJggg==\n",
       "\" style=\"display:inline;vertical-align:middle;\" /></a><br>"
      ],
      "text/plain": [
       "add_cancel_triple_12: forall_{a, b in Complex} ((a - a + b) = b)"
      ]
     },
     "execution_count": 9,
     "metadata": {},
     "output_type": "execute_result"
    }
   ],
   "source": [
    "add_cancel_triple_12 = Forall((a, b), Equals(Add(a, Neg(a), b), b), domain=Complex)"
   ]
  },
  {
   "cell_type": "code",
   "execution_count": 10,
   "metadata": {},
   "outputs": [
    {
     "data": {
      "text/html": [
       "<strong id=\"add_cancel_triple_21\"><a class=\"ProveItLink\" href=\"proofs/add_cancel_triple_21/thm_proof.ipynb\">add_cancel_triple_21</a> (conjecture without proof):<br></strong> <a class=\"ProveItLink\" href=\"../__pv_it/theorems/76c3ec810db615500e7a8594f8c2f92b0acff2820/theorem_expr.ipynb\"><img src=\"data:image/png;base64,iVBORw0KGgoAAAANSUhEUgAAAOcAAAAWBAMAAADJFJavAAAAMFBMVEX///+IiIgiIiIQEBB2dnbu\n",
       "7u5ERETMzMzc3NwyMjK6urpmZmaYmJiqqqpUVFQAAAB6qHgnAAAAAXRSTlMAQObYZgAAAAlwSFlz\n",
       "AAAOxAAADsQBlSsOGwAAAwNJREFUSMe9Vk1IFFEc/63rzLo7szpBkIeQZTKIoij7JDpolwJLJlo8\n",
       "hatUWyDUUkHRIaeCjrIESpDEhocugpsEUQmukIJ0aLUOBkEueAkKFJIsEPq/nY/tvR0n59Iffm9n\n",
       "33vzfv/vecAGxLQRTOrWP2wDEipaCCgxzXP6KWGBPXz2ffujjQDS2ULDVnFWOp8g9QvAa/bvkd8B\n",
       "UtZCIHlMiBribDRPwwBwh3m/2+99pWDBw4HVsyP27xpBzYurDSxI7yx1an0DFrZRLfHqqM3a6qyw\n",
       "8aC4OspsDxtQSduor6c+2QhCWptg45C4erzsY2Js0fUDvqQvbLilsNioCaT9bXd50mipibzXIR71\n",
       "ZNN3Uohy9yVw0Zd0SNB52JRXeNLYEVw1ONLUgLQKzJRTQi8LqxLpl5EyoVJS9qNuwTkvMujWZm/J\n",
       "UX63DSeZj0FJ8KRnCxjjLf1iYB/wQQzHCsIa4nsB2ajNudOLjLkpnZOumPEL9txRC9LDssYZZQk1\n",
       "rZYF21osCyaAZrZzTNf36/oeenoF/AD6xDrIoqEVkSWm7l95dJjwJkN+PwO85UndZO5GKsdbegjS\n",
       "b97SZsSoaIYFUlJ2tIgYWYrsJA3JyZPMyOUmg3UMnLtd6Z2Ce1Ma3vPZKy1DXeJJ16BQ3OeEmFKZ\n",
       "ThiIs+CcphYh7YisskhuD+U72c75+QpLjw2HtIivcZMjXUN9dp4j/cnijGmxN2QoIaCyVnSflFDy\n",
       "EWa0XFCz5Z4yNVXZ2gEu+WUtvkvh3duDuXyeI/2GXqHQmNQXZNqmsIyopxiGcyFmfzijLMyk0+ni\n",
       "zWeVrddsONlbOtG/hSft2nyrlOFIu9pZkHaKXXxxnEXWyduUKU9RpTUgXLxR7iiUSJIT/oyFIB3J\n",
       "6iIJz7q/56ak2TdiJFFjTFMJsf3tJtrsNda3q3v3Pxq+86XwkHH39fHZU7hejDzXUHeJTSQHe13j\n",
       "LtsIKg+8LxTCJ8362CTT6Rz/RbYRVLwVlfn7SsxY57KjWQgoIe/bUCP/V8V/kj+dT7ihinZd2wAA\n",
       "AABJRU5ErkJggg==\n",
       "\" style=\"display:inline;vertical-align:middle;\" /></a><br>"
      ],
      "text/plain": [
       "add_cancel_triple_21: forall_{a, b in Complex} ((-a + a + b) = b)"
      ]
     },
     "execution_count": 10,
     "metadata": {},
     "output_type": "execute_result"
    }
   ],
   "source": [
    "add_cancel_triple_21 = Forall((a, b), Equals(Add(Neg(a), a, b), b), domain=Complex)"
   ]
  },
  {
   "cell_type": "code",
   "execution_count": 11,
   "metadata": {},
   "outputs": [
    {
     "data": {
      "text/html": [
       "<strong id=\"add_cancel_triple_13\"><a class=\"ProveItLink\" href=\"proofs/add_cancel_triple_13/thm_proof.ipynb\">add_cancel_triple_13</a> (conjecture without proof):<br></strong> <a class=\"ProveItLink\" href=\"../__pv_it/theorems/02f5e3bc8fb6971b1996046b37336e89d2c66ccf0/theorem_expr.ipynb\"><img src=\"data:image/png;base64,iVBORw0KGgoAAAANSUhEUgAAANYAAAAWBAMAAABOJX+pAAAAMFBMVEX///+IiIgiIiIQEBB2dnbu\n",
       "7u5ERETMzMzc3NwyMjK6urpmZmaYmJiqqqpUVFQAAAB6qHgnAAAAAXRSTlMAQObYZgAAAAlwSFlz\n",
       "AAAOxAAADsQBlSsOGwAAAtJJREFUSMe1VU1oE0EU/vKzmzS7a9eTPWgIQakoSK2KFw/Vi0JVVgyF\n",
       "gpiCugoBCSgIHuxWwWPJpUVQJNKDl0KjCKIWTMEWSg9u9dKDYAK5CAoVLNZDwZmdyaYz2ay5+OCb\n",
       "nX37Zr/35r15A/xbkhxditPxJ13IHo4u5VmgNmUCNTr5ErbWGGJoE+VKJsg+UpU1I4Nk2A28pS+P\n",
       "wrhGOdqlpxKonmrTPKbGFu7RvRwL45rnaMksf/a6gQtW2jRbBHqF0iHuhnENcLRklT/nrMAFMVmd\n",
       "2qDjMehkd3tC01ViCOA6FbyiR05Y3MvrE2Awmz0axqUNMSDZ6DNFrqc7f0iF7ZnEazJ5PU127jzw\n",
       "GrgWxkW99DydcdQNgUv5Y+XFw8RMdG8XXmapHKLT/JSyCSwDk0j6fiSm/cIt1CfYLOoyKCegZQQu\n",
       "YwMxUzgEzMQYkNz9auEw8BlQrXjZ1zYoYdouKzcd4yrPdJlBW0d0iPl7hPmrldBLNKNeAP3wTRLr\n",
       "Etcb4BcwTrwwt5XGcYJ3RbLlF4APIldsDPmyEBf575xQwdwkJce1FylS9TNkVlogQ27hDA3pZ9ry\n",
       "jv2lu34Ha+5h3sRHsQ7J8XovlDc3MTJSvragkTR+IrNz5Jwr+xObNEv7IpUR+nVtzf+BajLkXXwz\n",
       "HIGrSBIkcDETXW4Nv3GRBLBEZg9IaWiVBA1creolryksLrYOR41BNY2DmhDXjqoqNiluosnN8zsK\n",
       "ZHxFlxRpQiK0GGNFrbZs27Z757lvmMgwKPXTk7vEmm/MS82YmUTLEtflYZqXA83oHXWRbH0vYu5t\n",
       "LxhSGwr/1s/R3jc6yP3gC6x5KcSc8Vkrh6i1RM4A/TDs4OS2VroS2HtDmnVA/2l2rtT86lncchMv\n",
       "TCSvU0VuulBsZsFh6FY63BoPxVd2WHK2LWy4MsbQrXTw64bY+oOvCExwdCl9gdqI6IGO/yt/AZn5\n",
       "sGTzRy6OAAAAAElFTkSuQmCC\n",
       "\" style=\"display:inline;vertical-align:middle;\" /></a><br>"
      ],
      "text/plain": [
       "add_cancel_triple_13: forall_{a, b in Complex} ((a + b - a) = b)"
      ]
     },
     "execution_count": 11,
     "metadata": {},
     "output_type": "execute_result"
    }
   ],
   "source": [
    "add_cancel_triple_13 = Forall((a, b), Equals(Add(a, b, Neg(a)), b), domain=Complex)"
   ]
  },
  {
   "cell_type": "code",
   "execution_count": 12,
   "metadata": {},
   "outputs": [
    {
     "data": {
      "text/html": [
       "<strong id=\"add_cancel_triple_31\"><a class=\"ProveItLink\" href=\"proofs/add_cancel_triple_31/thm_proof.ipynb\">add_cancel_triple_31</a> (conjecture without proof):<br></strong> <a class=\"ProveItLink\" href=\"../__pv_it/theorems/69cddc92b99611dd989bd01c2174138840f73ea60/theorem_expr.ipynb\"><img src=\"data:image/png;base64,iVBORw0KGgoAAAANSUhEUgAAAOcAAAAWBAMAAADJFJavAAAAMFBMVEX///+IiIgiIiIQEBB2dnbu\n",
       "7u5ERETMzMzc3NwyMjK6urpmZmaYmJiqqqpUVFQAAAB6qHgnAAAAAXRSTlMAQObYZgAAAAlwSFlz\n",
       "AAAOxAAADsQBlSsOGwAAAvxJREFUSMe9VktoE1EUPWk6kzQzaUcQ7EJKqBVEEbT4Q1y0bhSqZcTQ\n",
       "lZgWNQoFDSooLuxUwWUJQotgkYgLN4VGEUQtNAVbKC4cq4sKgg10Iyi0YPADAe/LvEzyXiZDs/HC\n",
       "mSQnb965993PDLABszgas3D9zTZgAdtBgxYxPOnHhBX25Yvv3Z846tpAtye9VSaUczFyPwe8Zr8e\n",
       "+G2ppB342ENPtsWsYbJ0GQdus9Mf9NtRyznwOMAyW5SJkulZ+YY2lqR3jjvNvgkLctRalGctUpAI\n",
       "bvvlG6ZZ7EETOjnX4nt2nznqizbHvEUn5RuOls6YFLs7O/f5ir7gcFthtd0QNVryHbYoOtY7Std+\n",
       "eatHm36Qi1S7L4ELvqKTks9PLLUgiibGld/ieR/CFTrJxVJJdJaMdYnyx0xY0KkoxxBeKe8XmnB7\n",
       "czg/yr/u5igX8xFoMVH0q4m9AnE6h+f08VFORwFBA9E9gGo2Z1x6lSl3JDPKZSt6nnOHHSj3Sx6n\n",
       "tDU09TgRbOt2IngF/BSIWaCLPkbkPkijrQehNeZdVR0dJLxJ0bmfAt6Kom4xDyKRESPtQqQoEAeg\n",
       "/GWJkETJ2WkbEYoU6Tm6xOeOsyDXO0w2MXDmVmV2SsebMPBeKtYitEI1oaxDp3CwJOWU2nTWRJQl\n",
       "5ySNCGVHiJVCYHsgO8BWLi9XVIY4yqI2vkUtQfQXS2K1aBGtadphQZ4NKSoI6GwU3SUntGyIBa3m\n",
       "9PQU+3t+vrK0Xyx+1Yju0sRIv2NYJIawlM2KjcasNacSq7GKaKUcBjMBFn8wpa0sJpNJ+8bTytKr\n",
       "HOXqzR8b2yJqnO3LScTmm3nadac8xVdnWGbLdZuw1HlqrDYE7eulGUOFpJTTn3JQfyLVIcIxz76/\n",
       "45akNTJlxtFkLlALsfV9Fnqr5nbt7K6d7zWE91MCM+7qmQ8ncM0OPTMQvsiI+MSwG9wljkbtnvcL\n",
       "hfRIcwZoPJnMiM9ojkbN21FVfF+JmHVedgwHDVrA+22oXfyp4z/ZP9p2sU4A0I+wAAAAAElFTkSu\n",
       "QmCC\n",
       "\" style=\"display:inline;vertical-align:middle;\" /></a><br>"
      ],
      "text/plain": [
       "add_cancel_triple_31: forall_{a, b in Complex} ((-a + b + a) = b)"
      ]
     },
     "execution_count": 12,
     "metadata": {},
     "output_type": "execute_result"
    }
   ],
   "source": [
    "add_cancel_triple_31 = Forall((a, b), Equals(Add(Neg(a), b, a), b), domain=Complex)"
   ]
  },
  {
   "cell_type": "code",
   "execution_count": 13,
   "metadata": {},
   "outputs": [
    {
     "data": {
      "text/html": [
       "<strong id=\"add_cancel_triple_23\"><a class=\"ProveItLink\" href=\"proofs/add_cancel_triple_23/thm_proof.ipynb\">add_cancel_triple_23</a> (conjecture without proof):<br></strong> <a class=\"ProveItLink\" href=\"../__pv_it/theorems/24ca6fc7bd090a710b9a88596ade93c0952a22ce0/theorem_expr.ipynb\"><img src=\"data:image/png;base64,iVBORw0KGgoAAAANSUhEUgAAANYAAAAWBAMAAABOJX+pAAAAMFBMVEX///+IiIgiIiIQEBB2dnbu\n",
       "7u5ERETMzMzc3NwyMjK6urpmZmaYmJiqqqpUVFQAAAB6qHgnAAAAAXRSTlMAQObYZgAAAAlwSFlz\n",
       "AAAOxAAADsQBlSsOGwAAAsVJREFUSMe1VUtoE0EY/vLYzWOzzXqyBw0hKBUFqVXx4iF6UajKiqFQ\n",
       "EBNQUyEgAQXBg90qeCy5tAiKRHrwUmgUQdSAKZhC8eBWLz0IJpCLoFDBYD0UnNmZbHe2eezFH75h\n",
       "9tud+d//AoMlzOFRjJ6XeJC9HB7lWVc2qgENuvna76yatiBdTXrT5au5mYkxsuwB3tKHR/3OTnJE\n",
       "Kh4dm9vBPKbHddyjscz1O1rliJucWByg6+MOZosgVqHqEDT7HR3lWNI5sTZAV0B356pN1+OIkehG\n",
       "+qarxIDT8Kgr4k5Y0Mr0E2AslTrW76SSZsDTXT9FXeHWsOYqbIsJNtzKmwkSuQvAa+D6ICsppL96\n",
       "1hB0LRhyW/yWMTEaBbxMUTlMt9k5aRNYBWYRtu0IzduFW2jOsJ3fZFDbCGhOXdJJKGIbcEYddZn7\n",
       "TccR4Asg68GyzbaowkS+LN001Gs802UGpYR42jL3KDNX2YCfxnbScmBkmwltuHS9AX4D08QKzVEa\n",
       "JwjeFUnILwIfRF3kliXT6Vcgh2xZLEDGRN1+7UOUVP0C2ZWWyZJZPktd+pXQrba/fNeeYJ0YkvZ6\n",
       "rzt1ZTV8Eu/kjJp05WsLCknjZ7I7T/pcOhDapFna76tM0Lfr6/YFssYQL5J0CLpMfFeFQcuZmHs0\n",
       "/MEl4sAK2T0gpaFUQtRxuRYrWVOhXt9ujgbDUE2uCLpkTT2kCHdyxuoQp/xAgayvCIaKNCE+WoyB\n",
       "otJYzefz5p3n9oehJIPUqoq9LDXPzO4W65Ax/rJL15VxmpeDHe8NuU6SEUfAvG05Q2pD4u9GOOB1\n",
       "btzv/gPr9EfAmF7UM/DrK6QH6ItxA6cco1QYp4Nmb7X7/OlMrmh17RxumaEXGsJTlMjMF4qdLBgM\n",
       "XqXHX+Oh+MjaJ5PPCwGXcgxepYddN8TRr3c/PMPhUYa7/61FC2L4v/IPAo2wZIjWbU4AAAAASUVO\n",
       "RK5CYII=\n",
       "\" style=\"display:inline;vertical-align:middle;\" /></a><br>"
      ],
      "text/plain": [
       "add_cancel_triple_23: forall_{a, b in Complex} ((b + a - a) = b)"
      ]
     },
     "execution_count": 13,
     "metadata": {},
     "output_type": "execute_result"
    }
   ],
   "source": [
    "add_cancel_triple_23 = Forall((a, b), Equals(Add(b, a, Neg(a)), b), domain=Complex)"
   ]
  },
  {
   "cell_type": "code",
   "execution_count": 14,
   "metadata": {},
   "outputs": [
    {
     "data": {
      "text/html": [
       "<strong id=\"add_cancel_triple_32\"><a class=\"ProveItLink\" href=\"proofs/add_cancel_triple_32/thm_proof.ipynb\">add_cancel_triple_32</a> (conjecture without proof):<br></strong> <a class=\"ProveItLink\" href=\"../__pv_it/theorems/1d571eb77c0c7ede986057c8e90c25735f2c14860/theorem_expr.ipynb\"><img src=\"data:image/png;base64,iVBORw0KGgoAAAANSUhEUgAAANYAAAAWBAMAAABOJX+pAAAAMFBMVEX///+IiIgiIiIQEBB2dnbu\n",
       "7u5ERETMzMzc3NwyMjK6urpmZmaYmJiqqqpUVFQAAAB6qHgnAAAAAXRSTlMAQObYZgAAAAlwSFlz\n",
       "AAAOxAAADsQBlSsOGwAAAslJREFUSMe1VU1oE0EU/ppkd5NstllP9qAlFKWiILUqXjxELwpVWTEU\n",
       "CmIKahQCElAQPNitgseSS4ugSKQHL4VGEUQN2IIplB7c6qUHwQRyERQqWKyHgm92JjGzTda9+OAb\n",
       "Zt78fPN+5g3wb4kKBBS76yEBZLdAQHnaURs3gRrrfPbba6RdKJdTwbh6Frya0WFqdgFv2OCh394x\n",
       "gVg5oGHT2zSP2HYLd5kvx/22VgSSTtclc9JoZdv8FiFRZnSIOH5cQwLzVtclq9Io7F0Y32DtUSTI\n",
       "uzHfcBU5cBIBuWLegEXcSD8GhgcGjvhx6WkOPNnx3ZPGjT5T5uKaSM1zRKzeT547B7wCrvpxsVsy\n",
       "KL+trPx0Zm11Q+bimgTzAl4MMDnIutlpZRNYBqYQbd1Dm2klbr4+yXshh8PYQNhsp1KOQ09JXEJj\n",
       "DHmu+8XCIeAToFqRUkvbYIT9uZJywzauiEiXOPQikuTKMfe6g8y56wiluQGHuQFCo617uF4DP4EJ\n",
       "uoXZlhrHCG8L5PLzwHuZi06Zl/I1PI5sSbJLaOJeu/YgTlk/S73iIjWZxdPMpB/9lvvsL95pVbCm\n",
       "D+l5vZOSOWvig5yHQmOkPPHagk5h/Ei9s/TOlX3aJovS3p7yKJtdW2sdqZocyQKFQ+Jy8NWwJS6u\n",
       "SXhLwy9cIAOWqHefUkMva8xwdSFRdGtAtfr3cdQ4ehdUuUippnFAl+wSGveFtMs35Kl9SegtsID0\n",
       "sGQMF/Taci6Xc24/ay3UUhxKoyKfoNRPTe2U85BrQiUP16URFpf9TX/YapWCkUTYueUaQ7mhiLlB\n",
       "AQStG/c6f2DNbyJsT8xZGYSsJXoDbGLExom2UrrizzW3rVh3qD/NyhWvrJ7BTUd7biJ6jSkyM/lC\n",
       "My42R1Dp8ms8kIf8+WRyOcnhyjhHUOlyr+ty6e/yaUwKBJS+zr+1fIME/q/8AUC2sGTLwxizAAAA\n",
       "AElFTkSuQmCC\n",
       "\" style=\"display:inline;vertical-align:middle;\" /></a><br>"
      ],
      "text/plain": [
       "add_cancel_triple_32: forall_{a, b in Complex} ((b - a + a) = b)"
      ]
     },
     "execution_count": 14,
     "metadata": {},
     "output_type": "execute_result"
    }
   ],
   "source": [
    "add_cancel_triple_32 = Forall((a, b), Equals(Add(b, Neg(a), a), b), domain=Complex)"
   ]
  },
  {
   "cell_type": "code",
   "execution_count": 15,
   "metadata": {},
   "outputs": [
    {
     "ename": "NameError",
     "evalue": "name 'greater' is not defined",
     "output_type": "error",
     "traceback": [
      "\u001b[0;31m---------------------------------------------------------------------------\u001b[0m",
      "\u001b[0;31mNameError\u001b[0m                                 Traceback (most recent call last)",
      "\u001b[0;32m<ipython-input-15-3807750c1f20>\u001b[0m in \u001b[0;36m<module>\u001b[0;34m\u001b[0m\n\u001b[0;32m----> 1\u001b[0;31m \u001b[0mpos_difference\u001b[0m \u001b[0;34m=\u001b[0m \u001b[0mForall\u001b[0m\u001b[0;34m(\u001b[0m\u001b[0;34m(\u001b[0m\u001b[0ma\u001b[0m\u001b[0;34m,\u001b[0m \u001b[0mb\u001b[0m\u001b[0;34m)\u001b[0m\u001b[0;34m,\u001b[0m \u001b[0mgreater\u001b[0m\u001b[0;34m(\u001b[0m\u001b[0msubtract\u001b[0m\u001b[0;34m(\u001b[0m\u001b[0ma\u001b[0m\u001b[0;34m,\u001b[0m \u001b[0mb\u001b[0m\u001b[0;34m)\u001b[0m\u001b[0;34m,\u001b[0m \u001b[0mzero\u001b[0m\u001b[0;34m)\u001b[0m\u001b[0;34m,\u001b[0m \u001b[0mcondition\u001b[0m\u001b[0;34m=\u001b[0m\u001b[0mgreater\u001b[0m\u001b[0;34m(\u001b[0m\u001b[0ma\u001b[0m\u001b[0;34m,\u001b[0m \u001b[0mb\u001b[0m\u001b[0;34m)\u001b[0m\u001b[0;34m)\u001b[0m\u001b[0;34m\u001b[0m\u001b[0;34m\u001b[0m\u001b[0m\n\u001b[0m\u001b[1;32m      2\u001b[0m \u001b[0mproveit\u001b[0m\u001b[0;34m.\u001b[0m\u001b[0mmagics\u001b[0m\u001b[0;34m.\u001b[0m\u001b[0mAssignments\u001b[0m\u001b[0;34m(\u001b[0m\u001b[0;34m[\u001b[0m\u001b[0;34m'pos_difference'\u001b[0m\u001b[0;34m]\u001b[0m\u001b[0;34m,\u001b[0m \u001b[0;34m[\u001b[0m\u001b[0mpos_difference\u001b[0m\u001b[0;34m]\u001b[0m\u001b[0;34m)\u001b[0m\u001b[0;34m\u001b[0m\u001b[0;34m\u001b[0m\u001b[0m\n",
      "\u001b[0;31mNameError\u001b[0m: name 'greater' is not defined"
     ]
    }
   ],
   "source": [
    "pos_difference = Forall((a, b), greater(subtract(a, b), zero), condition=greater(a, b))"
   ]
  },
  {
   "cell_type": "code",
   "execution_count": null,
   "metadata": {},
   "outputs": [],
   "source": [
    "nonneg_difference = Forall((a, b), greater_eq(subtract(a, b), zero), \n",
    "                           condition=greater_eq(a, b))"
   ]
  },
  {
   "cell_type": "code",
   "execution_count": null,
   "metadata": {},
   "outputs": [],
   "source": [
    "neg_difference = Forall((a, b), Less(subtract(a, b), zero), condition=Less(a, b))"
   ]
  },
  {
   "cell_type": "code",
   "execution_count": null,
   "metadata": {},
   "outputs": [],
   "source": [
    "nonpos_difference = Forall((a, b), LessEq(subtract(a, b), zero), \n",
    "                           condition=LessEq(a, b))"
   ]
  },
  {
   "cell_type": "code",
   "execution_count": null,
   "metadata": {},
   "outputs": [],
   "source": [
    "nonzero_difference_if_different = Forall((a, b), NotEquals(subtract(a, b), zero), condition=NotEquals(a, b))"
   ]
  },
  {
   "cell_type": "code",
   "execution_count": null,
   "metadata": {},
   "outputs": [],
   "source": [
    "subtract_nat_closure_bin = Forall((a, b), InSet(subtract(a, b), Natural), domain=Natural,\n",
    "                               conditions=[LessEq(b, a)])"
   ]
  },
  {
   "cell_type": "code",
   "execution_count": null,
   "metadata": {},
   "outputs": [],
   "source": [
    "sub_one_is_nat = Forall(a, InSet(subtract(a, one), Natural), domain=NaturalPos)"
   ]
  },
  {
   "cell_type": "markdown",
   "metadata": {},
   "source": [
    "Need to deal with cancelation in 3 operand cases in which only a single term remains."
   ]
  },
  {
   "cell_type": "code",
   "execution_count": null,
   "metadata": {},
   "outputs": [],
   "source": [
    "add_cancel_general = Forall((i,j,k), \n",
    "                          Forall((a_1_to_i,b,c_1_to_j,d_1_to_k), \n",
    "                                 Equals(Add(a_1_to_i, b, c_1_to_j, Neg(b), d_1_to_k),\n",
    "                                        Add(a_1_to_i, c_1_to_j, d_1_to_k)),\n",
    "                                 domain=Complex), \n",
    "                          domain=Natural)"
   ]
  },
  {
   "cell_type": "code",
   "execution_count": null,
   "metadata": {},
   "outputs": [],
   "source": [
    "add_cancel_general_rev = Forall((i,j,k), \n",
    "                             Forall((a_1_to_i,b,c_1_to_j,d_1_to_k), \n",
    "                                    Equals(Add(a_1_to_i, Neg(b), c_1_to_j, b, d_1_to_k), \n",
    "                                           Add(a_1_to_i, c_1_to_j, d_1_to_k)),\n",
    "                                    domain=Complex), \n",
    "                             domain=Natural)"
   ]
  },
  {
   "cell_type": "code",
   "execution_count": null,
   "metadata": {},
   "outputs": [],
   "source": [
    "subtraction_disassociation = \\\n",
    "    Forall((i,j,k), \n",
    "           Forall((a_1_to_i,b_1_to_j,c_1_to_k), \n",
    "                  Equals(Add(a_1_to_i, Neg(Add(b_1_to_j)), c_1_to_k),\n",
    "                         Add(a_1_to_i, ExprRange(a, Neg(IndexedVar(b, a)), one, j), c_1_to_k)) \\\n",
    "                  .with_wrapping_at(2),\n",
    "                  domain=Complex),\n",
    "           domain=Natural)"
   ]
  },
  {
   "cell_type": "code",
   "execution_count": null,
   "metadata": {},
   "outputs": [],
   "source": [
    "%end theorems"
   ]
  },
  {
   "cell_type": "code",
   "execution_count": null,
   "metadata": {},
   "outputs": [],
   "source": []
  }
 ],
 "metadata": {
  "kernelspec": {
   "display_name": "Python 3",
   "language": "python",
   "name": "python3"
  },
  "language_info": {
   "codemirror_mode": {
    "name": "ipython",
    "version": 3
   },
   "file_extension": ".py",
   "mimetype": "text/x-python",
   "name": "python",
   "nbconvert_exporter": "python",
   "pygments_lexer": "ipython3",
   "version": "3.7.3"
  }
 },
 "nbformat": 4,
 "nbformat_minor": 1
}
