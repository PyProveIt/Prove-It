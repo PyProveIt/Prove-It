{
 "cells": [
  {
   "cell_type": "markdown",
   "metadata": {},
   "source": [
    "Demonstrations for the theory of <a class=\"ProveItLink\" href=\"theory.ipynb\">proveit.numbers.addition</a>\n",
    "========"
   ]
  },
  {
   "cell_type": "code",
   "execution_count": 1,
   "metadata": {},
   "outputs": [],
   "source": [
    "import proveit\n",
    "from proveit import defaults\n",
    "from proveit import ExprTuple, ExprRange\n",
    "from proveit import a, b, c, d, e, f, g, k, l, m, n, x, y, A, B, C\n",
    "from proveit.core_expr_types import a_k\n",
    "from proveit.logic import Forall, Equals, InSet\n",
    "from proveit.numbers import Less, greater, LessEq, greater_eq, Neg, Exp, Mult, frac\n",
    "from proveit.numbers import zero, one,two, three,four, five, six, seven, eight\n",
    "from proveit.numbers import Integer, Natural, NaturalPos, Real, RealPos, RealNeg, RealPos, RealNonNeg, RealNonPos\n",
    "from proveit.numbers import Add, Complex, Neg, subtract, num\n",
    "%begin demonstrations"
   ]
  },
  {
   "cell_type": "markdown",
   "metadata": {},
   "source": [
    "## Basic addition with numerals"
   ]
  },
  {
   "cell_type": "code",
   "execution_count": 2,
   "metadata": {},
   "outputs": [
    {
     "data": {
      "text/html": [
       "<span style=\"font-size:20px;\"> <a class=\"ProveItLink\" href=\"../../numerals/decimals/_theory_nbs_/proofs/add_2_5/thm_proof.ipynb\" style=\"text-decoration: none\">&nbsp;&#x22A2;&nbsp;&nbsp;</a><a class=\"ProveItLink\" href=\"../../numerals/decimals/__pv_it/theorems/761f991852148979b5d4e9db838fa371a3f0876a0/expr.ipynb\"><img src=\"data:image/png;base64,iVBORw0KGgoAAAANSUhEUgAAAGIAAAAVBAMAAABPrCZEAAAAMFBMVEX////MzMxUVFRERES6uroi\n",
       "IiIQEBCYmJhmZmYyMjLu7u52dnaqqqqIiIjc3NwAAACW8nlqAAAAAXRSTlMAQObYZgAAAAlwSFlz\n",
       "AAAOxAAADsQBlSsOGwAAAXZJREFUOMtjYGB4wIAd4BJn4D2AKcbIwLCOwRdD+PkCMHWageFFpyGq\n",
       "FNvPqVEMvAXoOs7///8/gYFrAgOfAcN+BxQp1vxooHGz0HVs7uhoPcDAUcDA9ICBLQEi5g6hmMBk\n",
       "BbqODUDnAB0ARL8YmP5BxM4i62BbgKYD6GMFBoaTQPkABqaPWHRwYniEgVuAgaEb4vAPqDpqNwGl\n",
       "uBUwdDwG4ulglvwFFB3MC/i+MDCwTwCxOULBAKJbBYhjwKwgBhQdQGDKwMCTgG4FH0gkBWyOAYhs\n",
       "DQ1NCw2Fau5/wMD4AcMbE2A6ihhQ7bAE6hBgYMGwg9UA6iqeDQzvUHSkMjDoA4UD0P2xHkTaArE0\n",
       "A8MtFB3AqEoG+twA3Q7/BiCxCeifiI6OABQdLxh4s4Cmb8BIWCARUaDrgAlsAooOvg4NYHyzOqDr\n",
       "eAZK56wCyEJnkTlPsWcP9gZknjsypx1HjrLDldX4DHBILMalgxlXtuW7gEPiHnZhAEaBWF9b+X2W\n",
       "AAAAAElFTkSuQmCC\n",
       "\" style=\"display:inline;vertical-align:middle;\" /></a></span>"
      ],
      "text/plain": [
       "|- (2 + 5) = 7"
      ]
     },
     "execution_count": 2,
     "metadata": {},
     "output_type": "execute_result"
    }
   ],
   "source": [
    "Add(num(2), num(5)).evaluation()"
   ]
  },
  {
   "cell_type": "code",
   "execution_count": 3,
   "metadata": {},
   "outputs": [
    {
     "data": {
      "text/html": [
       "<span style=\"font-size:20px;\"> <a class=\"ProveItLink\" href=\"../__pv_it/demonstrations/ad206a1c88365cd99f4c2f13694f2b9c958a30620/proof.ipynb\" style=\"text-decoration: none\">&nbsp;&#x22A2;&nbsp;&nbsp;</a><a class=\"ProveItLink\" href=\"../__pv_it/demonstrations/8f6c0bfac979cb082c33f5c41a915a2e02406a820/expr.ipynb\"><img src=\"data:image/png;base64,iVBORw0KGgoAAAANSUhEUgAAAHIAAAAVBAMAAABoAqesAAAAMFBMVEX///8AAAAAAAAAAAAAAAAA\n",
       "AAAAAAAAAAAAAAAAAAAAAAAAAAAAAAAAAAAAAAAAAAAv3aB7AAAAD3RSTlMAInZUiRDNmWbv3US7\n",
       "qzJazP2FAAAACXBIWXMAAA7EAAAOxAGVKw4bAAABTklEQVQ4y2NgYBBgwA8YcUkwGRDQya2AQ8IE\n",
       "yXSXmg3o0s8ZGDQwNfEtZWBgTUDwwxmYP6OrWcvAwBaALhhb9pWBgb0BIaBvwPoN6kKYKBNQJ0cB\n",
       "pheBOjmR+Ds3MEB1MsP89iIXSEzFqtMMRYT5B5pOB5DODKw6S1BEdjWg6mQSAOn0xaoTxbxHdx+g\n",
       "6pRgAOlsA7OrVoHAWrjOxaiu/Yyq0wGs0xKrnbOBdBjYtHUgofnAGGBftWrlrFWrLgBDVQCs8z1O\n",
       "nTDwjoHhvAGynUIMYJ07sepEdu3/ADSde+/e/XmFgcEKqz8PIemcC3EtcqyAxBh6sNqJHOIdmPHJ\n",
       "8IcBPeZAgOUjA8Mr5FxRDkvxcJ01/y8xMKxG18h789sNBq4H2DIQM3LOYlyANZNhSc7IKR4EkDMF\n",
       "MjjIQAjI4BCPIagTl9mMCgQ0MmEvqAC9+VwZiT0CZgAAAABJRU5ErkJggg==\n",
       "\" style=\"display:inline;vertical-align:middle;\" /></a></span>"
      ],
      "text/plain": [
       "|- (-3 + 4) = 1"
      ]
     },
     "execution_count": 3,
     "metadata": {},
     "output_type": "execute_result"
    }
   ],
   "source": [
    "Add(num(-3), num(4)).evaluation()"
   ]
  },
  {
   "cell_type": "code",
   "execution_count": 4,
   "metadata": {},
   "outputs": [
    {
     "data": {
      "text/html": [
       "<span style=\"font-size:20px;\"> <a class=\"ProveItLink\" href=\"../__pv_it/demonstrations/9ea9467ac82581d1d2f00850a8dc2044928d64a30/proof.ipynb\" style=\"text-decoration: none\">&nbsp;&#x22A2;&nbsp;&nbsp;</a><a class=\"ProveItLink\" href=\"../__pv_it/demonstrations/0768ef11b6aec68a323a5c5feda875043acfbfbd0/expr.ipynb\"><img src=\"data:image/png;base64,iVBORw0KGgoAAAANSUhEUgAAAIAAAAAVBAMAAAB8u/sIAAAAMFBMVEX///8AAAAAAAAAAAAAAAAA\n",
       "AAAAAAAAAAAAAAAAAAAAAAAAAAAAAAAAAAAAAAAAAAAv3aB7AAAAD3RSTlMAInZUiRDNmWbv3US7\n",
       "qzJazP2FAAAACXBIWXMAAA7EAAAOxAGVKw4bAAABgElEQVQ4y3WUMUgCYRTH/3dgaYUe0dDQ4NgS\n",
       "NYigi25N0k1NQo4SSA5CS8NNTq5NEgUuUdQaDg26tkgETYZb4eIgDkFQ73sXpe999+A+vnv87nfv\n",
       "fd99B8CDPRxb0tOIuxchWE3rnIAZyQAb+08KfQe2tSAzNx/7jMQqiNVRUGXcAUu+TBL8N3098RlZ\n",
       "DuBOcVSRtZIgXpcCgv9j12ckQZ20kZKCjxoN51KQgBAQkuWbQiDQohFUpSCrBFU0eDWvZQeeEZSk\n",
       "oKEEJX5LcudNkJswgib3fcMxgCyJBU10whbELhRZkJMVdJQgh3a4OjMaDvlV9zSLeyyYSAHBsWOm\n",
       "Rr+CicklR1ibLoDrYEHXIhAVdE1VqZkUPA6Hny9AXq6BbiGPPtU/CFtYiAu6WjLZV4KW2ap4oL8D\n",
       "fMldg9zXA4+RMY0Pp+ownX0/A7cyO56bDy9rgUFWRogK50pmFEyIPjH2o8OhYIP0IgVbOtWzIOVI\n",
       "gUVdtiBOOuJ51/KzFDAhP1a0YulYp9T7AAAAAElFTkSuQmCC\n",
       "\" style=\"display:inline;vertical-align:middle;\" /></a></span>"
      ],
      "text/plain": [
       "|- (3 - 4) = (-1)"
      ]
     },
     "execution_count": 4,
     "metadata": {},
     "output_type": "execute_result"
    }
   ],
   "source": [
    "Add(num(3), num(-4)).evaluation()"
   ]
  },
  {
   "cell_type": "code",
   "execution_count": 5,
   "metadata": {},
   "outputs": [
    {
     "data": {
      "text/html": [
       "<span style=\"font-size:20px;\"> <a class=\"ProveItLink\" href=\"../__pv_it/demonstrations/4c12187e39cb34c1fdce0f68cca0400bda0221b90/proof.ipynb\" style=\"text-decoration: none\">&nbsp;&#x22A2;&nbsp;&nbsp;</a><a class=\"ProveItLink\" href=\"../__pv_it/demonstrations/364de0b75984162139c684ef225e531a737bc70f0/expr.ipynb\"><img src=\"data:image/png;base64,iVBORw0KGgoAAAANSUhEUgAAAJAAAAAVBAMAAABbFXrgAAAAMFBMVEX///8AAAAAAAAAAAAAAAAA\n",
       "AAAAAAAAAAAAAAAAAAAAAAAAAAAAAAAAAAAAAAAAAAAv3aB7AAAAD3RSTlMAInZUiRDNmWbv3US7\n",
       "qzJazP2FAAAACXBIWXMAAA7EAAAOxAGVKw4bAAABkklEQVQ4y4WUv0vDQBTHX1prG422gzg5dHQR\n",
       "Mohgl4IUnARXoZDiFBwkQ6GgSyYnhy6dsgRcRBHcxM0WNxf/gpLZRaEUBBfz7kL67t3R3JLkw/f7\n",
       "vffuRwCgAcuHZYINXVJyC4LWmzpjJiHZX3xvHX8wgyC7ehAxQaeToKTSy0klgLY6kySrpzyHmGD7\n",
       "eSNGSTVc1DsDr6d2IEgt4EHEBOfgvKHEJp1GUFeDMjLiQcRUnovHCA4URTvkHiQ+h8TkDMXDh75S\n",
       "wb22ZUhOOCUm+/LoWkjobJt7U+aQ5Ea8Xz3geJLz56Pug+2i5E5tRDtUSA45JCbvB6ojlETpZl6I\n",
       "uRIsFJeOfEvyzYOIyYuh9oeSiPSRgDNTO5Pk1RCUt5Yej1+UkCrrcx6UkRZfI2JyZEUtmJAN+JSt\n",
       "aeSWV0RM5XSNhighW1sL+TnKSJ8H0fPwDmcuSr4IexnwSyvJIw+ippXBVEjWEigaVsyJZkol+o2E\n",
       "ZVc0azkwSMaFQTs6Ghsk3cIgw1Rdg8RqFuSUDD91Zkol/0sscfgZgWC6AAAAAElFTkSuQmCC\n",
       "\" style=\"display:inline;vertical-align:middle;\" /></a></span>"
      ],
      "text/plain": [
       "|- (-3 - 3) = (-6)"
      ]
     },
     "execution_count": 5,
     "metadata": {},
     "output_type": "execute_result"
    }
   ],
   "source": [
    "Add(num(-3), num(-3)).evaluation()"
   ]
  },
  {
   "cell_type": "code",
   "execution_count": 6,
   "metadata": {},
   "outputs": [
    {
     "data": {
      "text/html": [
       "<span style=\"font-size:20px;\"> <a class=\"ProveItLink\" href=\"../__pv_it/demonstrations/102a12b10aeed8c37b70c13f7c5afad4a30a59110/proof.ipynb\" style=\"text-decoration: none\">&nbsp;&#x22A2;&nbsp;&nbsp;</a><a class=\"ProveItLink\" href=\"../__pv_it/demonstrations/69c191779b413d33d84a2df73bc7ea5ccd7ac0080/expr.ipynb\"><img src=\"data:image/png;base64,iVBORw0KGgoAAAANSUhEUgAAAG0AAAAVBAMAAAC+p33JAAAAMFBMVEX///8AAAAAAAAAAAAAAAAA\n",
       "AAAAAAAAAAAAAAAAAAAAAAAAAAAAAAAAAAAAAAAAAAAv3aB7AAAAD3RSTlMAInZUiRDNmWbv3US7\n",
       "qzJazP2FAAAACXBIWXMAAA7EAAAOxAGVKw4bAAABjUlEQVQ4y4WUPUjDUBDH/zGNbdqm1ElwioOL\n",
       "SzOI4FZQcJK+TRSHLoIIoogY8QO66SLUWaQFB0EoBDedorOomzgUgzh18ANRHMT4ktbWd23iQeBx\n",
       "9//d3bt7BEAaYRYY7TJCuZOgwBD/agzoXb0iEWls00JXoY0wt7hcyUO5XWSQbOQsMT4J+Q2Ypdi0\n",
       "ntoDol6+DIOWhloUBRlD+QC2KXcHXAIq6pz6Du1VFJxa4JzKCMd9OYbhBqeVoX3T1PIn0E0uqHxx\n",
       "vYWVBsct/kK5M85EbjrUK2CuxT3rRPFQdYBY3juuH3tWadzvWsdhi6u0Tdybp0ymhSkrdW9gv8lF\n",
       "bb/9eT+zU9eUGFK0e2V5NOP84XZptSfekIFEsf2t8Hk2+5Sz6BGjLvM4uUzuB39/F7/cIzAgcgd+\n",
       "nzGbFBthCl/YhF83DenINMuiYMffXzRLuEGW5Oup8VO1tFCIu66bFwUJk79rxMmrRWR8w1u2g3Dr\n",
       "6+yOLf3DrQX4z8MxyQ4IzIRzyaAfhaSHcv2d3T9maGiTnk22iAAAAABJRU5ErkJggg==\n",
       "\" style=\"display:inline;vertical-align:middle;\" /></a></span>"
      ],
      "text/plain": [
       "|- (12 - 3) = 9"
      ]
     },
     "execution_count": 6,
     "metadata": {},
     "output_type": "execute_result"
    }
   ],
   "source": [
    "Add(num(12), num(-3)).evaluation()"
   ]
  },
  {
   "cell_type": "code",
   "execution_count": 7,
   "metadata": {},
   "outputs": [
    {
     "data": {
      "text/html": [
       "<span style=\"font-size:20px;\"> <a class=\"ProveItLink\" href=\"../__pv_it/demonstrations/0167a0cdb61de52a431c6ace75e289c1e3e18d1c0/proof.ipynb\" style=\"text-decoration: none\">&nbsp;&#x22A2;&nbsp;&nbsp;</a><a class=\"ProveItLink\" href=\"../__pv_it/demonstrations/a2240caeb2c7ff7cdd5d96286fa2df973f2378ac0/expr.ipynb\"><img src=\"data:image/png;base64,iVBORw0KGgoAAAANSUhEUgAAAHUAAAAVBAMAAACK3rzVAAAAMFBMVEX///8AAAAAAAAAAAAAAAAA\n",
       "AAAAAAAAAAAAAAAAAAAAAAAAAAAAAAAAAAAAAAAAAAAv3aB7AAAAD3RSTlMAInZUiRDNmWbv3US7\n",
       "qzJazP2FAAAACXBIWXMAAA7EAAAOxAGVKw4bAAABP0lEQVQ4y2NgYBBgwAMY8UkyMBngk+VWwCdr\n",
       "AsSvAhgYWJwK0aVAwhqYOkDCYII1gYH1ej6QkcwQhep6iDBbAJpOsDBEjr0ByNcPYOBYwMByAOrO\n",
       "BqgyoDADRwGGvSBhMMEJ5fFcYGD+CpFjVkBWNBW3XjMoj7+Age8zNr0ZuPWWQHnxQL0/sOn1xa03\n",
       "A8qTd2Dg+4RNbxuYWbUKBNai6l2MpPcLNr2WuO2dDXOzAwM3yF72VatWzlq16gJc0XvCeoFhxYw1\n",
       "rHbi1gtzM88BBg6scWSF27+HoDyOCQzsCdj09uC2FxwF/gIgB0Q+QNMLEoZEIgoAC4OIV0D67vzc\n",
       "BoZwp3sMqHrBwgyr0bWChcEE1wMMc5mR8x3jAtxZEEtah+cFEGBvwJN/D+ItGRhk8EnG4NeL12hG\n",
       "vKUKE57SDADvUmD+bShnHwAAAABJRU5ErkJggg==\n",
       "\" style=\"display:inline;vertical-align:middle;\" /></a></span>"
      ],
      "text/plain": [
       "|- (10 + 1) = 11"
      ]
     },
     "execution_count": 7,
     "metadata": {},
     "output_type": "execute_result"
    }
   ],
   "source": [
    "Add(num(10), num(1)).evaluation()"
   ]
  },
  {
   "cell_type": "code",
   "execution_count": 8,
   "metadata": {},
   "outputs": [
    {
     "data": {
      "text/html": [
       "<span style=\"font-size:20px;\"> <a class=\"ProveItLink\" href=\"../__pv_it/demonstrations/c914a8b4d750987870c3745d83290fa68d5a305f0/proof.ipynb\" style=\"text-decoration: none\">&nbsp;&#x22A2;&nbsp;&nbsp;</a><a class=\"ProveItLink\" href=\"../__pv_it/demonstrations/95a7ff00c1beb75431ac50b210657dc5991bc48b0/expr.ipynb\"><img src=\"data:image/png;base64,iVBORw0KGgoAAAANSUhEUgAAAHYAAAAVBAMAAABh6QfWAAAAMFBMVEX///8AAAAAAAAAAAAAAAAA\n",
       "AAAAAAAAAAAAAAAAAAAAAAAAAAAAAAAAAAAAAAAAAAAv3aB7AAAAD3RSTlMAInZUiRDNmWbv3US7\n",
       "qzJazP2FAAAACXBIWXMAAA7EAAAOxAGVKw4bAAABqklEQVQ4y32UMUjDQBSG/zatSW1j4+Qi2EHB\n",
       "TRERdCrFVZqtKEICLi5ihWLBKZOTQpcudjAoIkYKXd2ik5N0ESelg4sFqbYWCkLrpUlre0nv4ODu\n",
       "vffde/fevQMggTF8LCX8iyxtOMbSLpNZlQE++0yrLPG8C5g6fAICiQMgqCL4si8jeIGP4ei7YozJ\n",
       "9C1MJEvYwZYEXiP7BRliDhHTiVNzzIgYQppiRQmhnKAjYCLkGEVVBJq2losNsMhTbKgJ8TtSBtfE\n",
       "imOkmPD/erG7tF8dYjuaxkQDmQG/LS92w53e8S+FsC37WOe+dS/2uLs8MqxRtOW12EwcE3VcOkbB\n",
       "Aj4bXuyq228RFvuDQs8oNbvUJkveMG7ODKPcZ2sulDehxBGu/7MYkec7F3sKkFxxjX7MZPTqO8yu\n",
       "0ffl4pgkpkITD44Rl4dS8WJPaLfvwJyQA6/aJUhK8F/hERSbtB5phn6T19msTsLdrKBKtq/nexrW\n",
       "syWK7YpxSxe30+moSCXeyLLiygU32Hc+fXQLut76QC90C6Ix+vee+TNgmqXcZrPMo33MX8XP+M3+\n",
       "AKXFc+jFiLISAAAAAElFTkSuQmCC\n",
       "\" style=\"display:inline;vertical-align:middle;\" /></a></span>"
      ],
      "text/plain": [
       "|- (19 + 1) = 20"
      ]
     },
     "execution_count": 8,
     "metadata": {},
     "output_type": "execute_result"
    }
   ],
   "source": [
    "Add(num(19), num(1)).evaluation()"
   ]
  },
  {
   "cell_type": "code",
   "execution_count": 9,
   "metadata": {},
   "outputs": [
    {
     "name": "stdout",
     "output_type": "stream",
     "text": [
      "Currently, add_eval only works for the addition of Decimal Sequences and one, not 19, 10\n",
      "because multi-digit addition is not implemented beyond adding 1\n"
     ]
    }
   ],
   "source": [
    "# multi-digit addition is currently only implemented for adding 1.\n",
    "try:\n",
    "    Add(num(19), num(10)).evaluation()\n",
    "except NotImplementedError as _e:\n",
    "    print(_e)\n",
    "    print('because multi-digit addition is not implemented beyond adding 1')"
   ]
  },
  {
   "cell_type": "code",
   "execution_count": 10,
   "metadata": {},
   "outputs": [
    {
     "name": "stdout",
     "output_type": "stream",
     "text": [
      "<class 'proveit.numbers.division.divide.Div'> (x_{1}, x_{2}, ..., x_{n})\n",
      "<class 'proveit.numbers.division.divide.Div'> (x_{1}, x_{2}, ..., x_{n})\n"
     ]
    },
    {
     "data": {
      "text/html": [
       "<span style=\"font-size:20px;\"> <a class=\"ProveItLink\" href=\"../__pv_it/demonstrations/3231ea994f48bcacab31f1c7921de100fea960460/proof.ipynb\" style=\"text-decoration: none\">&nbsp;&#x22A2;&nbsp;&nbsp;</a><a class=\"ProveItLink\" href=\"../__pv_it/demonstrations/e78b51e512894feab350d881407908c75de7f0010/expr.ipynb\"><img src=\"data:image/png;base64,iVBORw0KGgoAAAANSUhEUgAAAHgAAAAyBAMAAABliQLrAAAAMFBMVEX///8AAAAAAAAAAAAAAAAA\n",
       "AAAAAAAAAAAAAAAAAAAAAAAAAAAAAAAAAAAAAAAAAAAv3aB7AAAAD3RSTlMAuzKrZonNIu/ddhCZ\n",
       "VERetuGgAAAACXBIWXMAAA7EAAAOxAGVKw4bAAACRUlEQVRIx5WWQUsbQRTHX7Imu4nGhN56y8WD\n",
       "JwMtaKEQoSDest9gKx6LND2VQg9KKbEnA/HgUovpuYdsKfSaeAkKC3oR7Cmeek0QUTC0cXdnEsLO\n",
       "ezPjg2SWffllZv5v3psHEFiiCBL76cm88FzqTX6VeQ07/F70KO6PDF4LPrMv34rwr+4wHFIlmjVr\n",
       "0dBCZs5GMOzTcKapgi9pydZBBac7JPxZCc/fUSz/gQyGTXLLJTXcoza9VFTD7SYBr4AaTtQJ+JMG\n",
       "PEMolrzRgGdvCLHHf+pURWfqLra8mCW22fhsb3NVyJiVW55wT3HYKoCGOXjGtTs6cOUKzbglMYTz\n",
       "q+JhaKJi9s6F1znxl8j6QrhS1IHzJRRuVbXgAgo7ng5svY6GUze0xgQ+04IzdXTmMnschTYIHuZc\n",
       "9+CL64Z7zEcvGbwtg1Uz4/Cjlh3fs1N9hGBCqLTibJXQjNM8JB0043r8yH/sPhFg09/gf9228frH\n",
       "ssAsgHMVT4x3kPpPJsbUgowqWEI4lgF2ee09x8s209EagiFUuT0PyiwYSAZEU7L5jDoY13Hfi+AM\n",
       "sU2X8RoxM5ysYYC4j9iwQ5Tef5JqAcl7Jue9ouhDg77IqKIPJ3ycw8roMYwVwa3Pw/sKE4Sfyjx1\n",
       "0WVYoHM2vBd8F2BGMapQVyyXewHghyCXDVmPkmOqrTAPfV/Y2AffP5W3FWxNmaDgCDl7NBrdRvcZ\n",
       "3YilbdVl06dbqWRNBX+T+L4rWFn7yBtX2v5KvVvylvmN1C1v1n+Tcj0AIxC9MOB9oHoAAAAASUVO\n",
       "RK5CYII=\n",
       "\" style=\"display:inline;vertical-align:middle;\" /></a></span>"
      ],
      "text/plain": [
       "|- ((1 / 2) + (1 / 2)) = 1"
      ]
     },
     "execution_count": 10,
     "metadata": {},
     "output_type": "execute_result"
    }
   ],
   "source": [
    "Add(frac(one, two), frac(one, two)).evaluation()"
   ]
  },
  {
   "cell_type": "code",
   "execution_count": 11,
   "metadata": {},
   "outputs": [
    {
     "data": {
      "text/html": [
       "<span style=\"font-size:20px;\"> <a class=\"ProveItLink\" href=\"../__pv_it/demonstrations/61ef6e622df850e294d0ba71c4625d214728da3a0/proof.ipynb\" style=\"text-decoration: none\">&nbsp;&#x22A2;&nbsp;&nbsp;</a><a class=\"ProveItLink\" href=\"../__pv_it/demonstrations/09f376210d59c34d7c931fb1801ed0a09ed2f1980/expr.ipynb\"><img src=\"data:image/png;base64,iVBORw0KGgoAAAANSUhEUgAAAHcAAAAyBAMAAACUgllmAAAAMFBMVEX///8AAAAAAAAAAAAAAAAA\n",
       "AAAAAAAAAAAAAAAAAAAAAAAAAAAAAAAAAAAAAAAAAAAv3aB7AAAAD3RSTlMAuzKrZonNIu/ddhCZ\n",
       "VERetuGgAAAACXBIWXMAAA7EAAAOxAGVKw4bAAACP0lEQVRIx52WwUsbQRSHX7LRZNVNxJ6kIHux\n",
       "0FOC9aAgKAjSWwJeCwn0aMW9lF4KFqRaKGhADy70kNJjD+Y/SE6lQsCcvSSHHgtqWylkjTY7swlJ\n",
       "9v1mQueQDPny7bydmfdmiDotYhNqk49J0xYV7GlZ7Ro5hWcVWfb6xZzsbPABr+yIQTdZWKVG3e/E\n",
       "D0BEZ0I21xg00aZKQdCSUrY+Mih5SCkhPyelTK942hARvdfIVw4HkycifE8jj2cYFv2yIF45o5Et\n",
       "/ulittO2Rp5ssTThP3OJNDLNMlHbFGl3vve0cjY8YylPyNE/WrkS3iaJjAh74i+U807vn8MttibW\n",
       "OfIOuc+OXsohI0xu/Kz5iZGY1qbe2DUilWp/CrEtdo9IujQ4O/QjvC4tJMu07JMvw8l7h+SsrZXp\n",
       "N1xMRy/fwMUs6+V98Tnlita/6BcjyC4aeXVgL5677gfXPfa7D36TK3wasgK4SvqRT9HIo4fNvHPe\n",
       "GXXCuKWyBx/CyXuaTdJLIU6GO6zRHPqhJ7/9NhNsz9uwJmF6uEx0EyM+TfkmSowApqro7HQoIQuF\n",
       "1UbQLAC5U6MMWaKYShVAA5Uho0jGL9m7RjDm4VPflFa3UoVhtI3loMrsliDERZ+OYdHvwu/QnQrC\n",
       "Xcbwqonk9eC7haGJFtrK0RtReT0M4XTPE32FB3gXgmtF/FOtVkTXih7M8meF2Sk0Yvc9UsHxnPJ+\n",
       "mPRUNHqglM26En9W0s3/u7jKqAuaK/O2gj3RXJmVl/UthfcPzwrDzTp/yIwAAAAASUVORK5CYII=\n",
       "\" style=\"display:inline;vertical-align:middle;\" /></a></span>"
      ],
      "text/plain": [
       "|- (1 + (1 / 2)) = (3 / 2)"
      ]
     },
     "execution_count": 11,
     "metadata": {},
     "output_type": "execute_result"
    }
   ],
   "source": [
    "Add(one, frac(one, two)).evaluation()"
   ]
  },
  {
   "cell_type": "code",
   "execution_count": 12,
   "metadata": {},
   "outputs": [
    {
     "data": {
      "text/html": [
       "<span style=\"font-size:20px;\"> <a class=\"ProveItLink\" href=\"../__pv_it/demonstrations/6fd9c25877b3a77161fd17c20a139612c1c69e200/proof.ipynb\" style=\"text-decoration: none\">&nbsp;&#x22A2;&nbsp;&nbsp;</a><a class=\"ProveItLink\" href=\"../__pv_it/demonstrations/1fc91a214ed10ec9ac5dc8a83e304d9a484446270/expr.ipynb\"><img src=\"data:image/png;base64,iVBORw0KGgoAAAANSUhEUgAAAHcAAAAyBAMAAACUgllmAAAAMFBMVEX///8AAAAAAAAAAAAAAAAA\n",
       "AAAAAAAAAAAAAAAAAAAAAAAAAAAAAAAAAAAAAAAAAAAv3aB7AAAAD3RSTlMAuzKrZonNIu/ddhCZ\n",
       "VERetuGgAAAACXBIWXMAAA7EAAAOxAGVKw4bAAACOklEQVRIx52Wz0sCQRTHxx+lq+V27SIeugSB\n",
       "kgURgXuKbu4fECh4jGgPdelkSEiXEvRQRGD0B2iXrtqtQ1DHOhkEnQILhCIR250flu17M9KAjr75\n",
       "fmbezLy3+wixmydGsHZZJ4q2gA95TxWsz3S+Z+E1HjFqjnWr9ie8sgXDYwkELtPvQJF2NWR3Fdgc\n",
       "YrBWlcIPsH0mR7s1IoXHm6DZZPC+HI58gF5bFA515TDJQcZtZtYSCrgFDZgMjscUcKPqtvktBi8R\n",
       "BewpuW27fDcFFewHTuw5mfxctIO3o4LDHdDsLBoS82YsLIoLoPXd2VGe/U4e5QwEnoaM1/1lQoJT\n",
       "eLrxRMuggkYTGxkkWvoJk8Tdtxgxhs8QkIj4uXeZJqvDMO5cOqaEdex5QGqWGkbPNFNXwsEs7SZO\n",
       "aPvtxp0a1krYyinW9Z32xuY/PuDzCzjvorg8RdQr57GVR3cb2HPGGvXAoKuS3DOfOJj4R5CIRNPR\n",
       "CGvxqN9Zj7pWFrljujEmj7MsCDd/ojxiKHOHy7lPoR5pZEfPHS7XGBI5JHp29PDnct8gAlqGPAj/\n",
       "+mPL/V0xWQU70z3wFebIvT1eP1zMI2zgCyo3mLwgORf0oS/kN+JfsIuULHBGUnmbRok3Rjw9GNaB\n",
       "55+Qa/Si9S4Kp4H3kJCz47aDH3O7DPks5LSs8BvYPYNlxUDO3Hq9jSKvZzAhhXzclNaHbWn16S1K\n",
       "4TN57XkuG0TLx6HCFWkvqpJ5U7KnDRUsKdavZMf1DZt/wCWJBJnMAAAAAElFTkSuQmCC\n",
       "\" style=\"display:inline;vertical-align:middle;\" /></a></span>"
      ],
      "text/plain": [
       "|- ((1 / 3) + 1) = (4 / 3)"
      ]
     },
     "execution_count": 12,
     "metadata": {},
     "output_type": "execute_result"
    }
   ],
   "source": [
    "Add(frac(one, three), one).evaluation()"
   ]
  },
  {
   "cell_type": "code",
   "execution_count": 13,
   "metadata": {},
   "outputs": [
    {
     "data": {
      "text/html": [
       "<span style=\"font-size:20px;\"> <a class=\"ProveItLink\" href=\"../__pv_it/demonstrations/4f175cbce7a5560995dc72fd20c12eda62191e4c0/proof.ipynb\" style=\"text-decoration: none\">&nbsp;&#x22A2;&nbsp;&nbsp;</a><a class=\"ProveItLink\" href=\"../__pv_it/demonstrations/5f045493196f2eebd7b18d787f35b7c6d040e2fe0/expr.ipynb\"><img src=\"data:image/png;base64,iVBORw0KGgoAAAANSUhEUgAAAHcAAAAyBAMAAACUgllmAAAAMFBMVEX///8AAAAAAAAAAAAAAAAA\n",
       "AAAAAAAAAAAAAAAAAAAAAAAAAAAAAAAAAAAAAAAAAAAv3aB7AAAAD3RSTlMAuzKrZonNIu/ddhCZ\n",
       "VERetuGgAAAACXBIWXMAAA7EAAAOxAGVKw4bAAAB50lEQVRIx52Wv0oDQRCHJ3fR3CWeBq3E5hoF\n",
       "qwS0UBAiCGKXQB4gAUsVr7MRFEQtLAzaKFjE2kIr26QSi4C+gb6B/xFyRo23p3i4v5ngFMnBx7e7\n",
       "t7M7N0TtiLmEIjVEQowzbPSMd80C4zkVftBZ/YKnlgNe5CAltsGKTgNuTzOQ7CorOzucPEesTIsc\n",
       "3BTkOw/DpC/I3VlmQ7KC7PgYZlxBTjUxnCBBpkEMN0Q57yFoPItybRrB5CuUS+GMVhbB2Dpyx3bn\n",
       "1ZSxCoJWWrx6XfeI1OqRW6KL+DsimWp0dzRhNBG5uRbl1BsieVeU6Qkm05PlB5jMM1neCn57DoP4\n",
       "nfSrDuRDBHKRs3geDL739fjxFSrDB3+sEOZInvkAgc6XrXnnktfphulS5UYH0cWGcEh+rpAu4Am7\n",
       "uUVk9aI/PJ4vCGbQhIk0lW7RxQhhXx19Oz2yVKFwWgjaZSBbPpmqRGkqVQhNVIbMCpmP6ukewbiP\n",
       "U2Qr67tS/YVGC8thlVmrQoiLPu0zRV/BS+j2hMudxPAOnpKZ8L+JoY0S7RRoJai8PoZwu4eJTuAH\n",
       "/BuCtiJx1GhUUFvxA/P6m2y3C01w+gY42F1g+8Nen6PGNivb1yw+Zmnxf42rWnVZaJmXGDYitMxs\n",
       "s77AeJ/m/7dN7Yx8YAAAAABJRU5ErkJggg==\n",
       "\" style=\"display:inline;vertical-align:middle;\" /></a></span>"
      ],
      "text/plain": [
       "|- (1 - (1 / 2)) = (1 / 2)"
      ]
     },
     "execution_count": 13,
     "metadata": {},
     "output_type": "execute_result"
    }
   ],
   "source": [
    "subtract(one, frac(one, two)).evaluation()"
   ]
  },
  {
   "cell_type": "code",
   "execution_count": 14,
   "metadata": {},
   "outputs": [
    {
     "data": {
      "text/html": [
       "<span style=\"font-size:20px;\"> <a class=\"ProveItLink\" href=\"../__pv_it/demonstrations/1168f6b7f5f0b0e1b6f2237a3be14edabe5d72380/proof.ipynb\" style=\"text-decoration: none\">&nbsp;&#x22A2;&nbsp;&nbsp;</a><a class=\"ProveItLink\" href=\"../__pv_it/demonstrations/535ee34ead7f44c529719b8c4109e1b2234a12040/expr.ipynb\"><img src=\"data:image/png;base64,iVBORw0KGgoAAAANSUhEUgAAAIUAAAAyBAMAAACAOwXCAAAAMFBMVEX///8AAAAAAAAAAAAAAAAA\n",
       "AAAAAAAAAAAAAAAAAAAAAAAAAAAAAAAAAAAAAAAAAAAv3aB7AAAAD3RSTlMAuzKrZonNIu/ddhCZ\n",
       "VERetuGgAAAACXBIWXMAAA7EAAAOxAGVKw4bAAADC0lEQVRIx61XTWgTQRR+m027u/lpiuJBBA2C\n",
       "gl5SWkELQgKKeEug5CJC6s/JH9weVATBQtAWBBOohwYEIx49ZI8ehLQXsbBoLl68JAcPCkKj1gqJ\n",
       "adydmd2SnZ8dwQeZGd588+W9mffezAI4oqSBL/EDICMnhLPHLAkKtQCg2ZdoY25fPOi0ySqfGyMc\n",
       "Oef8FmBsh/JiDdotp59junj6luUjQFtympMAy0FYbADNeac3ckw7GpaPAKPuNBULsmYANPEEUi4i\n",
       "+ZjH4SHgvNvMAmQZp9NGJtzgcfiIh0T3nIZNPEXdpsnlwIhYH6siPQoVeTmN+vEpHgdBGARgsIB4\n",
       "15N9gS8uIkO2YZ2F09HqeI/PgRCnsCZKmxFJgzJAo/0cDg9RxpqPoAV3LtX3OPImm4MgIlv4PwsQ\n",
       "C+aFPkV8gWaOzUEQsd9Icc+2N4KgaI6cvoulpWR6CGURB8dwuE2hvtkkoxRG2s1UruQIQp+UyOyx\n",
       "rnC6uSbBEd0RTmfqlOozfco9IQeOxBH5RBeLP0KOfFqCA34KORqmDMd3IUfJkuF4hNpEDQkVLB+k\n",
       "OGpCO7I4NYauuKONWm25Vltxh0iHI2OVWjf0pUs4wuxYFdrxL77w9qNkyu8p92yl4qP8H2JMHKft\n",
       "Duq04nqH4rj/dg+J9V/sxcUisiCDq8wbSA6COadNQqkjyrk7HRUVlhTO/UYrTtUg1QQdV6hd/hG5\n",
       "BgqqPga6L+FLB7YZF4OKKyUpmAHxrx110dNsUXZUQf2BR8w6pnhLox7ZV1btNvBidsHUL194j7eL\n",
       "uHp8Js2vcg/qLI7UVdBbI+HD3LcV4N9R0OxCAj9N3nmqCp05CeLDLLucV71ivYlC4DDAIbqyniE9\n",
       "OzycJ1AUH4SBAmRoMTiSBbg7su+Bc/HtwIAyy5cjAK+4TxPnL5z9IMeL3lJnGfGhPbPtKv8tBbAP\n",
       "XhPb8+hdZe/mnB8cTqFDUbyXd4Xa02Q0Xgi5KSf6oZdpZCkEYLTCb+QXIfNzkm9+kSvzMt8eN4Wz\n",
       "R2W+PUK+ga6HLf8LLqr5e7AVQjEAAAAASUVORK5CYII=\n",
       "\" style=\"display:inline;vertical-align:middle;\" /></a></span>"
      ],
      "text/plain": [
       "|- ((2 / 3) + (3 / 2)) = (13 / 6)"
      ]
     },
     "execution_count": 14,
     "metadata": {},
     "output_type": "execute_result"
    }
   ],
   "source": [
    "Add(frac(num(2), num(3)), frac(num(3), num(2))).evaluation()"
   ]
  },
  {
   "cell_type": "code",
   "execution_count": 118,
   "metadata": {},
   "outputs": [
    {
     "name": "stdout",
     "output_type": "stream",
     "text": [
      "Evaluation of (5 / 4) + (3 / 2) under assumptions (a in RealNeg, b in RealNeg, c in Real, d in RealNeg) is not known\n",
      "because multi-digit addition is not implemented beyond adding 1\n"
     ]
    }
   ],
   "source": [
    "# This one fails because mult-digit addition is not implemented\n",
    "from proveit.logic import EvaluationError\n",
    "try:\n",
    "    Add(frac(num(5), num(4)), frac(num(3), num(2))).evaluation()\n",
    "except EvaluationError as _e:\n",
    "    print(_e)\n",
    "    print('because multi-digit addition is not implemented beyond adding 1')"
   ]
  },
  {
   "cell_type": "markdown",
   "metadata": {},
   "source": [
    "### `quick_simplification` method\n",
    "\n",
    "The `quick_simplification` method performs simplifications with respect to combining integers and expanding expression ranges in a quick-n-dirty manner that is appropriate for displaying purposes (e.g, expression ranges) where an actual proof is not necessary."
   ]
  },
  {
   "cell_type": "code",
   "execution_count": 16,
   "metadata": {},
   "outputs": [
    {
     "data": {
      "text/html": [
       "<a class=\"ProveItLink\" href=\"../__pv_it/demonstrations/384242558bbf10e06099ee2492a30bad7e0f794b0/expr.ipynb\"><img src=\"data:image/png;base64,iVBORw0KGgoAAAANSUhEUgAAAMUAAAAVBAMAAAAEKDfsAAAAMFBMVEX///8AAAAAAAAAAAAAAAAA\n",
       "AAAAAAAAAAAAAAAAAAAAAAAAAAAAAAAAAAAAAAAAAAAv3aB7AAAAD3RSTlMAInZUiRDNmWbv3US7\n",
       "qzJazP2FAAAACXBIWXMAAA7EAAAOxAGVKw4bAAACh0lEQVRIx42VT2gTQRTGv912myabJsGLIh5W\n",
       "TyJIcxChXgx4KAjB8VipNJdiEQpFxBb/0MWDXjyoIEhVDLQejBSCNw/S6kFRCkotqIfS3BQvKjUB\n",
       "sVTfm91A5+2Q+uBLdl7e/r6dtzMTAAVEsoU17/x3ZTvvFiPJyAEn8dR2mx8kczaCDk04pOW9qYof\n",
       "062zj+CGiZu+APuTKKIMz8jk5BWlCV4lUs+EKMg8nFPAaII2T7VKJpmAMyJ5Ksjd0oRUGCnfnqwf\n",
       "P3qf/rwusnDJo1c+jyZgXdR+BpY0IY1IC+1n6wq2eqSVmcXXcfq4Iz2Y4DcFoQWcUEw4TAPWcVg9\n",
       "ekLhUWKPMenBhO6qSfA2gP46E87TiDW+74PwuFpu0I3vzaxbYI+y9GBCz/LBYmIeIRPGosfyWmqk\n",
       "YFRklfOHWl8xPXaBPa7p64s1jnnEExsZ9X4atfQ+3gVMmKUBqauJdGB2BXhLo5umR0l7DMh5MOWo\n",
       "wm2jdqieWysy4R4NSKkK8iX6qtUez9RqcYOmC8j9wNZsb0F7fJceTLkA/DII3rlj/Q0mxB6ZEhbM\n",
       "br4ijwZ8cx47oD2e2Tzm4K/LTtC6IkLcK9oe08qooF27RqOq4fF8dfX3CnBEvo9ZvT1STemxpAkv\n",
       "6YqUb3h3Zedxn5qzKNYuHpBuyHkwZRNDoVE7oLxNTShHS7EvzE6YtJ1waaulStJjI16qRjDlE16b\n",
       "tQdUNtSEbzQgeStTYg86kx+peZm68Lj8dxl4Ij2YcnpQ7NfuwUvQhAxtNBbkPo9ity3ryDN6GwKf\n",
       "b8YZ5xvH+ZQtm0qc+NsQXsSyhrNoy+5JpjoThmNZI2v9C7UAOxOcIJI19tqSrsW4E+EfDC+r3Q0j\n",
       "yfkAAAAASUVORK5CYII=\n",
       "\" style=\"display:inline;vertical-align:middle;\" /></a>"
      ],
      "text/plain": [
       "((b + 5) + 4) = (b + 9)"
      ]
     },
     "execution_count": 16,
     "metadata": {},
     "output_type": "execute_result"
    }
   ],
   "source": [
    "Add(Add(b, num(5)), num(4)).quick_simplification()"
   ]
  },
  {
   "cell_type": "code",
   "execution_count": 17,
   "metadata": {},
   "outputs": [
    {
     "data": {
      "text/html": [
       "<a class=\"ProveItLink\" href=\"../__pv_it/demonstrations/f550d56b515e145e8e6d71307b2e1185bb6cbcb10/expr.ipynb\"><img src=\"data:image/png;base64,iVBORw0KGgoAAAANSUhEUgAAAGwAAAAVBAMAAABRZRb3AAAAMFBMVEX////MzMxUVFRERES6uroi\n",
       "IiIQEBCYmJhmZmYyMjLu7u52dnaqqqqIiIjc3NwAAACW8nlqAAAAAXRSTlMAQObYZgAAAAlwSFlz\n",
       "AAAOxAAADsQBlSsOGwAAAW1JREFUOMtjYGB4wIAd8DHgA7wHGAQYuND0gkRYLuDTdpqBIX9m6AJU\n",
       "QbDIdUzFokB13Hv7GBi4JjAwhH3dhSYNFuFEM4uBS2M+UGgOw9IHDBwFDAwKcAl3KA0WYW/AsO3+\n",
       "Agb2AAZuAwY2BmRtZ5G1MWRh08aswMDzi+EkHm3TsWnjb2Bg/MPQDeSo31ZE0wYR2YRN23qgtu9g\n",
       "E60Y3jugaoOIVIKYHKFgoADT9n4DA+NfhhgwlzkAVRtE5Bg220DafjOkgLkc/4BEa2hoWmhoEANc\n",
       "RB6rIzcwsPwFaWOewMDxEcU2qIgbjiDh+QNyJFsAA9MHFG1QkaPY/MZswMD+i8EWmFqA6gxQtEFF\n",
       "irFGdwIDxwRQIPM1MFxbgKINKtKNoW0/MMnHMCwTYBAFcl40daHFG0QkBF2XUv6kAoYVe4FxyiqA\n",
       "LH4WJcMF4M43qOnVHZkDSuU4gR1Omcf4suliMgwE+QBX3ud9gFsTAPuscZnEdHtMAAAAAElFTkSu\n",
       "QmCC\n",
       "\" style=\"display:inline;vertical-align:middle;\" /></a>"
      ],
      "text/plain": [
       "(5 + 5) = 10"
      ]
     },
     "execution_count": 17,
     "metadata": {},
     "output_type": "execute_result"
    }
   ],
   "source": [
    "Add(num(5), num(5)).quick_simplification()"
   ]
  },
  {
   "cell_type": "code",
   "execution_count": 18,
   "metadata": {},
   "outputs": [
    {
     "data": {
      "text/html": [
       "<a class=\"ProveItLink\" href=\"../__pv_it/demonstrations/5a971d822067f36c0d326b83e73073e69e1aa26c0/expr.ipynb\"><img src=\"data:image/png;base64,iVBORw0KGgoAAAANSUhEUgAAAGEAAAAVBAMAAACkm51HAAAAMFBMVEX////MzMxUVFRERES6uroi\n",
       "IiIQEBCYmJhmZmYyMjLu7u52dnaqqqqIiIjc3NwAAACW8nlqAAAAAXRSTlMAQObYZgAAAAlwSFlz\n",
       "AAAOxAAADsQBlSsOGwAAAWpJREFUOMt1kztLA0EUhb8kbh6rWdJYq5V2BsVCQckfEGMRCxWJqI1N\n",
       "0ig2YrDxkcI0IlotWNlIiJ0224pFgoUIgqQR7FRQUATx7qaaSWaKYfac+c7eO7MLNOk8TDpJjxS2\n",
       "aofgkmkTcQeF05yraNGf43mSxba9N4+SbFdg7utadazCgkSc6UDCs5cgLkn9uhUO5i1d3oArKQAj\n",
       "EXU1eQTqLrdmIqE38g19HmVZDT4NaMR2LQXdWpLtE0VOZDnBW0bxIq7zCbGKv47ngiG08ytEg8XW\n",
       "lqxe2Bj05FUpIKqsBg/xP5kugrDZln3UJPSuVSXETMMnIhXiH4o3LkSKrnx753XPryqaJazGrcGw\n",
       "VJVV+2AUdlwm5UwESitEFVak87T2jk04gJp0VOJBvaxXkuuSXtUIy7OXodffsHuoncr+kERYGY2w\n",
       "y/dyTVbK9FHz0lmOlYzEnkGfMgFO2mCcm4iI6bd1GgbjubP8D2bUUhH4CHNfAAAAAElFTkSuQmCC\n",
       "\" style=\"display:inline;vertical-align:middle;\" /></a>"
      ],
      "text/plain": [
       "(5 - 5) = 0"
      ]
     },
     "execution_count": 18,
     "metadata": {},
     "output_type": "execute_result"
    }
   ],
   "source": [
    "Add(num(5), num(-5)).quick_simplification()"
   ]
  },
  {
   "cell_type": "code",
   "execution_count": 19,
   "metadata": {},
   "outputs": [
    {
     "data": {
      "text/html": [
       "<a class=\"ProveItLink\" href=\"../__pv_it/demonstrations/c2220e70c4539e38c088c337349febcbb0e748890/expr.ipynb\"><img src=\"data:image/png;base64,iVBORw0KGgoAAAANSUhEUgAAAJEAAAAVBAMAAAC01xHeAAAAMFBMVEX////MzMxUVFRERES6uroi\n",
       "IiIQEBCYmJhmZmYyMjLu7u52dnaqqqqIiIjc3NwAAACW8nlqAAAAAXRSTlMAQObYZgAAAAlwSFlz\n",
       "AAAOxAAADsQBlSsOGwAAAitJREFUOMuNlD9IHEEUxj9vb9d19dZtrGMqAyZ4jcEEFCs7cQ1Zi5ji\n",
       "wEhAEBdsTBE4AmKihYcg/qmWCIE0egiBkMomgZAiR4pYqOEgBGyCCqbwcojf7nlwM7MLLuzM7ntv\n",
       "fu/Ne28GQBmxj31jIa4ZmT1V4cAqp0sxKw5VUROwjeHw6xus+66kndnwAuyrq9qK2JqUZMbF6hNk\n",
       "fMAqAC15STv27xOlgUJ6z3ddkukz4zTcBEzS2usbTPu1uTMcmvMKaYFvVbJNReMcg+M0UvfeVmog\n",
       "YUoh5QioSLY1khHgK6cPiCWtKWliJlrdWFKLjyVOK0d3RW3XwW2OuzLJLHLJvR97IunlrkMHnaFj\n",
       "6yLYKQvahzgZBF5E3/Ne+Dy6doydTetSsNUC+5xJLeApZRUYJUFLPTfxRY5JZzTfA0xLtujlXw7P\n",
       "GHQB7Yzb9LyxSc+r5cik41syyWCgb4D/ki2Wy2g6DUl6ESPC3rUCzDNgKI40jnRViOkBSQ7SuXB3\n",
       "bKfloFFruEidAp/lPIW7q8KsCCT2fA//XPST5FjPhdq1EpYFZuWYNKrP8M4XSMzLBDOeDUud8rW8\n",
       "QLLz+Mkgl2QSS40u9Ikdc4zMVNQgHeyC7gWp245fLXJ8rBx7FvTtR1+0tV/foVd9ELrT2MSNN4nt\n",
       "KqdlNMkWf6RzWj+VtUbwFdJckm10tgcSrkH8VkVawv0KmwXCVhIpxoWVTbCNXNileGUmzv/fBNIv\n",
       "4AqkOoz86hroVQAAAABJRU5ErkJggg==\n",
       "\" style=\"display:inline;vertical-align:middle;\" /></a>"
      ],
      "text/plain": [
       "(b + 5) = (b + 5)"
      ]
     },
     "execution_count": 19,
     "metadata": {},
     "output_type": "execute_result"
    }
   ],
   "source": [
    "Add(b, num(5)).quick_simplification()"
   ]
  },
  {
   "cell_type": "code",
   "execution_count": 20,
   "metadata": {},
   "outputs": [
    {
     "data": {
      "text/html": [
       "<a class=\"ProveItLink\" href=\"../__pv_it/demonstrations/27ba6049719e61ccc029d3ee8be5bcab247065600/expr.ipynb\"><img src=\"data:image/png;base64,iVBORw0KGgoAAAANSUhEUgAAAF8AAAAVBAMAAADSoS/MAAAAMFBMVEX///8AAAAAAAAAAAAAAAAA\n",
       "AAAAAAAAAAAAAAAAAAAAAAAAAAAAAAAAAAAAAAAAAAAv3aB7AAAAD3RSTlMAInZUiRDNmWbv3US7\n",
       "qzJazP2FAAAACXBIWXMAAA7EAAAOxAGVKw4bAAABYUlEQVQ4y3VTv0vDQBT+0jQ1bWqTP0CwODl2\n",
       "EEGn0FEQsokitODiIkRwEBczOTm4CKJLoJMn/gFOrW5uBZ0ls4vgLxx9uWsg98g9uFxy+b733n3v\n",
       "PQABKs2CwWq96nOvayCswHlO2Vm9fwgsc6TCOUOgEbNfe9gJ0Ig4Q+LmEsAvsvISubkp6hO43I3C\n",
       "NWmNC1+2yrs9hf0DXHKCxK3S2oBO8GN0voB9TpC4I1oHSy8aYUCEP2CTEySO3Di/0SAoExZDdD6B\n",
       "M/lxInK7R4EbIc+32eWEb2CNBVC4GxJqCD+kTYjbayGmlFIIjyJ8MILCEaEVYtxjl7bp0g+MoHAj\n",
       "Ke9ppMlKRSBZ19kdFO6JXjLnSlPJvcjD45zXTeJIu/mkHWsECrudKcXLpnDvJNfrsV44bPXf6HnH\n",
       "m0/iWllZuHJLW2lld2stNmu+mYpJ9Tw8miZrwXC+ayKYPFmGUaxVz/o/OmRT6mpkPuYAAAAASUVO\n",
       "RK5CYII=\n",
       "\" style=\"display:inline;vertical-align:middle;\" /></a>"
      ],
      "text/plain": [
       "(b + 0) = b"
      ]
     },
     "execution_count": 20,
     "metadata": {},
     "output_type": "execute_result"
    }
   ],
   "source": [
    "Add(b, num(0)).quick_simplification()"
   ]
  },
  {
   "cell_type": "code",
   "execution_count": 21,
   "metadata": {},
   "outputs": [
    {
     "data": {
      "text/html": [
       "<a class=\"ProveItLink\" href=\"../__pv_it/demonstrations/7c0a4002d68ef42d7645785e3711c29158ee301e0/expr.ipynb\"><img src=\"data:image/png;base64,iVBORw0KGgoAAAANSUhEUgAAAPUAAAAVBAMAAABs27XUAAAAMFBMVEX///8AAAAAAAAAAAAAAAAA\n",
       "AAAAAAAAAAAAAAAAAAAAAAAAAAAAAAAAAAAAAAAAAAAv3aB7AAAAD3RSTlMAInZUiRDNmWbv3US7\n",
       "qzJazP2FAAAACXBIWXMAAA7EAAAOxAGVKw4bAAAC3ElEQVRIx41VTWgTURCeTXe7zZ9ZvBSCYKwK\n",
       "9SAEKQW9GERRhMh6KQiR5FItBSGHVoMoDT1YDyJBKKgRGkg8WLEET3pqUlDRU1HBnnTPvfhTW0Sh\n",
       "OO/tLt15+5rdB7ubzMy338z3Zt4CgAGSJTXuLGW3GAVCLg6OZCUeqdFZFmhGPIM/XkqcB0PQ7gG4\n",
       "aINHQHvfEN0jPaALVxZNGGYJVn2+vhwUHgdxR7cmn3KwVgLoLwteZtx1Pft7BiEm/hr3+cbwuhrE\n",
       "HVtomRysI3/KVfiV89SrPaCr7DbA0p3z+Sp4bQRxJ/kdwVF8LJuO9ZirCgRxwzwLM0VfDSC+GY4b\n",
       "waP4OA8C92gw9wRe/aI8fbhXaiMcN4Kn8HFt6BPlnvKGnhq2CHTt0Fe85/FSV4W36jl858ejwpCo\n",
       "Q/cp92ze4mDMX9syiwbhnvBEprN6h0DfwP42wB226bwlby6y9cKpBYrj2k868k24RQwJU/nHwU1U\n",
       "ahOiGcLd9ES2XKcHjLIeZxLXxA7Gik+a8IAac4IB1wcOrqNSJUjleP6PnPzRqE3ycizdbh33ry0t\n",
       "FvadHRI/xMlFQa4D/CbxM3ZHjnHDkh04YzBwnSe2nCV11z2v64hFl0DfBniNP+M1CXcL4nTKnohF\n",
       "v0Vui4GbfLyd3CSaF0XBow1IYr0nmOYNYb+Z5hugkynTfoncePB94+AV5La0h7TPV3YCU9g+bdK1\n",
       "thb3WK/5NMFEt+ESHb0/KBAx5LgWCMZZSVYTZcqd94xNB1QyY0oZjpj2GLKRotOEQ7cG76gRm/wC\n",
       "MQxCZJ6D11GVzxXhbFn3RJ6+e5i+a/D2NN6fM4nb4hcKN+HyWeHEUc/N0vNPufHF5OCYtyiXO2YF\n",
       "nU0K2+q0z7wEoVfa+SiA8C0ZKAch+dem4jPPhedm4K7M0Q1C7mO1d3zmhBGWmoMLMk8hCNqVE2md\n",
       "sNwcrGRkWWV6IyMMeUDi2BuWG8H/Aczzr8cSwhezAAAAAElFTkSuQmCC\n",
       "\" style=\"display:inline;vertical-align:middle;\" /></a>"
      ],
      "text/plain": [
       "(b + (-c - 5)) = (b - c - 5)"
      ]
     },
     "execution_count": 21,
     "metadata": {},
     "output_type": "execute_result"
    }
   ],
   "source": [
    "Add(b, Add(Neg(c), num(-5))).quick_simplification()"
   ]
  },
  {
   "cell_type": "code",
   "execution_count": 22,
   "metadata": {},
   "outputs": [
    {
     "data": {
      "text/html": [
       "<a class=\"ProveItLink\" href=\"../__pv_it/demonstrations/360c1ce308fd29d8146ed19a3b83f6de7a28d61d0/expr.ipynb\"><img src=\"data:image/png;base64,iVBORw0KGgoAAAANSUhEUgAAARkAAAAVBAMAAACAi4frAAAAMFBMVEX////MzMxUVFRERES6uroi\n",
       "IiIQEBCYmJhmZmYyMjLu7u52dnaqqqqIiIjc3NwAAACW8nlqAAAAAXRSTlMAQObYZgAAAAlwSFlz\n",
       "AAAOxAAADsQBlSsOGwAAA1NJREFUSMeNlkFoU0EQhqdJ30v6kqa5ePLQCkIPKsSLiKDkZE/SKKYI\n",
       "7SGgVRDEqAf1IASlNNWDwUu1p4cFwVNiRRRFzEWhlNLgwUK1EijVXtT2IGKtrbM7LzYz+5pmYbLN\n",
       "5JuZf2d33ysAVIHMZ8R8fI3QapM5fIcObi+T+Y3WiuHyQ+PgVDV6zCfHpyaEfHVrwVPanAMpQSyN\n",
       "7AeYNQKnfJJdfJB2NdqeNX6LlmB8cDs1MxsbGxkV7BTI2nKiwQl4k4Q2V8Qp1Bh9P18CoWPGb4/R\n",
       "7m+n5mk+P1RWweEsWUdtB3poClTBzkAox70a3dxI70uX+tDoNaPQMNqa4I0EJdwKHWwDWW+tC9M0\n",
       "2asQWAc4z70a3dyFSp0ajdqyl5DBmquCNxKUdQ4MnsQvyp4BrxtIQWAFYFSomdxajULb5OqjuLOR\n",
       "1HZqkInr4Dv4p7J783t5XQBrGWBCqFEovJ6Ns2TdH3cBoZEuUS+Mm9C2732ZF4/MXxJqFih4lFbl\n",
       "/HaLVaGmE9nrQo3CF8vhBEt2CH4kCQ3pQz6UVuMEeM0qjjnrjI8NwC2hZjcFD+CEFl0FuyLUqHTv\n",
       "hBqF99fQzWTBFKHRjOiNhV2ZceEC462ScEAsQ8FncEILF6CjpFd11lsV6AZ0emuteRVKhzKcTvcN\n",
       "ptO0NeF1QluWhRobmzYC8Ifxd12ZIFKgYE8Nyu0t895cVh9HRW8QtRPiEAYLEF4htDXjo6YfWtdY\n",
       "K04bp9hKULC3U/i4IcX/6+JD9DvAW3OnihWRzMbrt0xoNCXOjdqptVo7Pd75a6gpdlHwYZzQOuLO\n",
       "OV53J8AcwBWhRqF4MJP1ySLUL4WGEqI3QURW4FGWFf+FfeBqenMUPEF3M5AN5ljd2Kl8PuXd6Do1\n",
       "E/o8RdgNj+Xgg0uoutBsqCvfDQd5K/BCPeFqZkoUvAMnNGfPMK9r4YsMj9ZJoUbhr67O8exLN28D\n",
       "oVZSqGnBFT18keV85PkNl6v5UqZgC5dpxevip9m7MyW8DGXPVo0uGu+p41vxpmORXnah+vd3D3uU\n",
       "ZoWXoewtqNFhQ821rXjToYKPeOY7FgxPQzSWMNzBarP/++ngcc98h1m7IepT2kk0q0YHxypkfqPd\n",
       "zN4Q/ezzw7dm1WDwPzkSCBmnPrg/AAAAAElFTkSuQmCC\n",
       "\" style=\"display:inline;vertical-align:middle;\" /></a>"
      ],
      "text/plain": [
       "((b + 2) + (c + 5)) = (b + c + 7)"
      ]
     },
     "execution_count": 22,
     "metadata": {},
     "output_type": "execute_result"
    }
   ],
   "source": [
    "Add(Add(b, num(2)), Add(c, num(5))).quick_simplification()"
   ]
  },
  {
   "cell_type": "code",
   "execution_count": 23,
   "metadata": {},
   "outputs": [
    {
     "data": {
      "text/html": [
       "<a class=\"ProveItLink\" href=\"../__pv_it/demonstrations/53ecc984380cad509e8345419a46bc6ca152ff8a0/expr.ipynb\"><img src=\"data:image/png;base64,iVBORw0KGgoAAAANSUhEUgAAANcAAAAVBAMAAAAnc2Y5AAAAMFBMVEX///8AAAAAAAAAAAAAAAAA\n",
       "AAAAAAAAAAAAAAAAAAAAAAAAAAAAAAAAAAAAAAAAAAAv3aB7AAAAD3RSTlMAInZUiRDNmWbv3US7\n",
       "qzJazP2FAAAACXBIWXMAAA7EAAAOxAGVKw4bAAACfElEQVRIx32WwWsTQRTGv2SbZDdpkvUklB5S\n",
       "QRBPPUhBT3sWivsHCOYiFFHIoZhSBOOlXhRyEbRFXOhBjEiLN0+tvXnRiJ6Ekhw89WIV2otofDNv\n",
       "1+y8neSDX7K8vG/ezOzs2wDwwViUs8QmpBq/T8zJLzI2VRrW9Kl6G2PVJU3hQyTiZ+9+BC5Y01lZ\n",
       "S659e4h8BxqpWossTabYEsZ9XNtFMRQWlZpIWjCPmd/ATTBC5T5Q6jD1ZHsqPKuqD68Lt2VGdWoi\n",
       "acFn4BnwEIzQRSrmgdlL1uDwffJOUP0JPDGjOjWRtOBFiAHNkcJemNnFDSq2BOYqTGc1QvUvsCLG\n",
       "W0r5pQXfgMEQRVpnMXPTZopUbBXMnXNfTCft8jGwLMZbTfktFuzQsH3G1IIqpqZOFE7DG75w/qCr\n",
       "DVFsJXVWLJbaL8BtMsB6T+mNPm8dVWwbGucEXkM4VdZlUWx7XMxmUUfO6TLmLkIV24Km1EQ9oK9e\n",
       "79Vmr6c3obSvVqevxlFKLdzSEx5aLLinVnfMGHqQLlYOsLdoTvOx+ngnVraVenCyFleVrHQZ46lt\n",
       "ILWN9MzcDw2nE+AMcGXyNmYt1F5yPhxqLE5k3rPK4eHgeYADuiTqw8JTc9jvwHngkSh2kCqWsdQC\n",
       "5EO4tP0KIa/PZ5uodmZbhjP3st2Oxkc9GW957M5YMNdur9NNDBihOtU/gqbwdc0ctjwajej8vhbF\n",
       "jlJHX1qwMxqdknOXMVX69KeB8hAayHbA64tE1Ei1WjAXY5FqtW66fVfSneZ/302ibsv22jOa01qM\n",
       "Te9jrJq3pk8VvZs0Vl2PmTiTbPpUzfqMfSYNxvqXwbemT9VCjEX/APaxsZS8lpNrAAAAAElFTkSu\n",
       "QmCC\n",
       "\" style=\"display:inline;vertical-align:middle;\" /></a>"
      ],
      "text/plain": [
       "((b + 2) + (-b + 2)) = 4"
      ]
     },
     "execution_count": 23,
     "metadata": {},
     "output_type": "execute_result"
    }
   ],
   "source": [
    "Add(Add(b, num(2)), Add(Neg(b), num(2))).quick_simplification()"
   ]
  },
  {
   "cell_type": "code",
   "execution_count": 24,
   "metadata": {},
   "outputs": [
    {
     "data": {
      "text/html": [
       "<a class=\"ProveItLink\" href=\"../__pv_it/demonstrations/03745230a08bc8700356ace6830d38140c5d88a20/expr.ipynb\"><img src=\"data:image/png;base64,iVBORw0KGgoAAAANSUhEUgAAAPYAAAAVBAMAAACH7A7XAAAAMFBMVEX///8AAAAAAAAAAAAAAAAA\n",
       "AAAAAAAAAAAAAAAAAAAAAAAAAAAAAAAAAAAAAAAAAAAv3aB7AAAAD3RSTlMAInZUiRDNmWbv3US7\n",
       "qzJazP2FAAAACXBIWXMAAA7EAAAOxAGVKw4bAAACwUlEQVRIx5WVQWgTURCGJ8luNpukJjehCMai\n",
       "UA9CKKXQXgyiKEJlT4JQSS7VXIQcVIooBg/qQaQIBa2CgfTSFSV4ak+Ngoi3oh56kpy9VK0V8VCc\n",
       "ebvr7sy+BDMwb7f/fvv+N5P3ugBQBC81kdBog9DikHyy7KWMHpjFXCkmD0Rfw3/xFIqfVGl+aImH\n",
       "zy+5DozH3pnUzPMPTTZ1/Nyyzhx5s+ZluiGerf45haojVEJjEaLzoOMv67yRt3CplIWgN2v+dZOG\n",
       "TEOoVlMzTYjek48UvxP0Ofoy8jZeKDeCCieiE8KSUG3o561QW/aJ+Nyu/0eKbZ8lmMKR8ixovetC\n",
       "nervTWhatoV4o6X1rsNVHCmvjH3iLluHv+A4K7wJhRPjPWYQosam8CY+/fFYmXsbYw+Jr3srNn85\n",
       "1SJzeQcHOwB3hTfho2WrywxCNKO24g2X4mXAV+fN78w70YabxLfxHjO1C3aJuQDksVfTwpvwlQCF\n",
       "GJpaFA+IP+7AI+adrZAwDU/xHtOqQaGiVvzEXzFquNptv45AJdTbOudVca84uu+b8KbprwP8RMR1\n",
       "V5ddl36U22pHbgfeuJSNcrTCfA2sPYB1UTeidlcWHaK5RY33CuR2WN3P1Lge9ByPt7eawMVuwQgW\n",
       "MRPveVU2PIKmWuL3bqvj7bfK9zZ/qMsMvMURs9AzHzMXwyvwgfAmFM9RJ+odQTOyJzT9Hlxosrp/\n",
       "Y4OIn/VOx0gz32AuiQYcdfwzFfFGFDe5wc5YBLUqwpum34L3/HzjJj9H/Fe8xzQ/LwiX/beu4fhC\n",
       "qISfvH+EG4RotiO8ib94usm9jTN3HOKzWEI2WsYEK6kl1GwP+oRCR6XKePZ/DXn6BGSi37C12Kcg\n",
       "qmYa/bwVuiBVxrNvCfFvwEttHIgpA9FEdzh+zk9txN8ciOaLw/GJkpe6SMbnGogegmH4v4h5xanz\n",
       "dnSRAAAAAElFTkSuQmCC\n",
       "\" style=\"display:inline;vertical-align:middle;\" /></a>"
      ],
      "text/plain": [
       "((b + 5) + (c - 5)) = (b + c)"
      ]
     },
     "execution_count": 24,
     "metadata": {},
     "output_type": "execute_result"
    }
   ],
   "source": [
    "Add(Add(b, num(5)), Add(c, num(-5))).quick_simplification()"
   ]
  },
  {
   "cell_type": "code",
   "execution_count": 25,
   "metadata": {},
   "outputs": [
    {
     "data": {
      "text/html": [
       "<a class=\"ProveItLink\" href=\"../__pv_it/demonstrations/8c5e0df2b1c0def287c2add59ab73fbaabe175db0/expr.ipynb\"><img src=\"data:image/png;base64,iVBORw0KGgoAAAANSUhEUgAAATQAAAAVBAMAAAA6KA+LAAAAMFBMVEX///8AAAAAAAAAAAAAAAAA\n",
       "AAAAAAAAAAAAAAAAAAAAAAAAAAAAAAAAAAAAAAAAAAAv3aB7AAAAD3RSTlMAInZUiRDNmWbv3US7\n",
       "qzJazP2FAAAACXBIWXMAAA7EAAAOxAGVKw4bAAADV0lEQVRIx5VWTWgTURCe/Gz+m4ReBBGsLUIv\n",
       "Yigi6MVQBEWorpdKpZKCFItQrFBURGjowXgQCUJBq9BA4sGIoXiqp6YeFD0VFepFzbkXtWmLIIgz\n",
       "22yzM29fYh5sSCbzffPtvJl5DwCSAOAB95VUTTpXJ8TNpx3Oxdubwo8+9c84wHl4pdr79Hy7kGhP\n",
       "RziXZTEcwceXhtF58Wd4++oz8GYlBl21qwnpBxec8b7QVtK6CeAfvG4xGGNoGMbninCKLJTQbVxi\n",
       "h1vwNiEB0w0XmGojzFi7hsDLcDFJDEF6yVv41O1UNhLVZX3mhNVyVbKvQEKKCMIlUjpNS/aXwyaE\n",
       "CuCvEkOYDHmk37Iz3+OMEza5lVzVzVIhc9KHcMumTtqAQ1psFXxbxHCUqHFT/QXXOIEst5JrG2kW\n",
       "ZEK6EO4M/I+0xBTE68Qwjb+DWNqBj4dSPM7sUA0Vr/LoQWcX+Hsf6CBDIraFm+z9JMyD/TVFWgal\n",
       "/SaGicZ7ZsaNXyxOzPT8waIZ49ICjpb1FOGODnLX0lO21moDZ2ybGT4o96aCVUXa/jTEN4ihSJ2F\n",
       "+TphwkNeVQAf8FeeS4s4KjmS1kOOyeZFHFZQmA+8km2Q0jaJ4QkV7iLADYBN6z2fz++8J66ZJMR/\n",
       "ArOS67CViwrMmAA6yA858hAXHINEuglHw07r3S6XH5fLL3c3NA3RDWKwpZUgWmcpeItxahAVWSNX\n",
       "ez2VbeCAvHaRhlleZuMjXNW0ga9ODPaG1u13sOPg6fAdfxW0G2psSGkOyHFRa4TDsTbDxkemx3V4\n",
       "4FDbIoY3VL7o8hdGsixO2kpLqMqjxxzFgm0U1UHui6wRLlEzHjFjAiMuKtJCedp6ZKAup3b/Au+4\n",
       "iD3gnWsOC9tqDxNa2J5ndZBpIY1wXdkYPySwPf1ieJzDFi7CSI0Y1unGgFtw6ZQYrp6ba5j9yCK3\n",
       "xh0ntP/0rKmDvJCXEsQZn+Upd/LeQb6hXxcms3Bh8JvFECHZFZfR3pg80lppcRo0IR7ljlFpea4P\n",
       "qBe2ws5BnHM5q/lpvmvNtTjem5CgcpnKtZS2pFiIYYWKNKm7bFalRevKIPugY5xYxDBKc6CqcVAJ\n",
       "ta4MsgId48QiBg8VSrfG4YBq6m7DSRBvsnMcX8jwD7wU6WAyLM0hAAAAAElFTkSuQmCC\n",
       "\" style=\"display:inline;vertical-align:middle;\" /></a>"
      ],
      "text/plain": [
       "((b + 5) + (-c + 5)) = (b - c + 10)"
      ]
     },
     "execution_count": 25,
     "metadata": {},
     "output_type": "execute_result"
    }
   ],
   "source": [
    "Add(Add(b, num(5)), Add(Neg(c), num(5))).quick_simplification()"
   ]
  },
  {
   "cell_type": "code",
   "execution_count": 26,
   "metadata": {},
   "outputs": [
    {
     "data": {
      "text/html": [
       "<a class=\"ProveItLink\" href=\"../__pv_it/demonstrations/e82de9aa23e3fc4579d35d6c0dd28dea903f26ed0/expr.ipynb\"><img src=\"data:image/png;base64,iVBORw0KGgoAAAANSUhEUgAAAKQAAAAVBAMAAAA6DViiAAAAMFBMVEX////MzMxUVFRERES6uroi\n",
       "IiIQEBCYmJhmZmYyMjLu7u52dnaqqqqIiIjc3NwAAACW8nlqAAAAAXRSTlMAQObYZgAAAAlwSFlz\n",
       "AAAOxAAADsQBlSsOGwAAAeNJREFUOMtjYGB4wIAP4JDlwyPHwHsAzhRg4HqAWxZFGcsFIMMXh5Gn\n",
       "Ecz8maELcMuiKrsOsq8Aq4lcExDssK+78MiiKuMEWT4Lq5EcSDYpwFnuWGQZWAqQlLE3AIkKrEay\n",
       "MWAz8iwWWQaeC8jKskDSC7AZeRKvkSdxGzkdiDmxBmY3Elv9tiKakWDZvdcFUIyEKNsExNwK6MZx\n",
       "3y0EWwYDVgzvHVCNBMk+PcBhgGIkRFklKEDBsdcaCgJB4OQaw9DMEINiCXMAqpEg2WgGtgsoRkKU\n",
       "HQOJJKA5knUDQy5DCjClTAVbA/Idxz+IrWlQW4GyHL8gcR8aGpYaGgrxKUiZPJBm/IBmZP8CiCa4\n",
       "3RMYOD6iuhIoy2aAFj1QZW6gZIXuymSY12ApJoCB6QOGx9dfQDMSquwoSCQANSy5/oL4tkixhXAS\n",
       "zEigLD8woTggGwlVVgyKHgM0V34HuhycFmClSwPDtQWoRgJlgdHNjZKIoMpA6YtjA5qRzQwMGxlE\n",
       "kQReNHWhpUuQ7O7yW6hJHaIsBBTBDujJcnvtAgZWAWwZAGYkiiwiEYHcCgrGp1jzODj7YwB3bLIs\n",
       "BejFTTv28tIOb6GOU/YxyKUG2OUW4zVyMT67mHHVIhfwGYlLlhdk2j2sUgDD3YBU9FknogAAAABJ\n",
       "RU5ErkJggg==\n",
       "\" style=\"display:inline;vertical-align:middle;\" /></a>"
      ],
      "text/plain": [
       "(-5 + (c + 5)) = c"
      ]
     },
     "execution_count": 26,
     "metadata": {},
     "output_type": "execute_result"
    }
   ],
   "source": [
    "Add(num(-5), Add(c, num(5))).quick_simplification()"
   ]
  },
  {
   "cell_type": "code",
   "execution_count": 27,
   "metadata": {},
   "outputs": [
    {
     "data": {
      "text/html": [
       "<a class=\"ProveItLink\" href=\"../__pv_it/demonstrations/f61a0d905653c11a4f25ffb2ba8ecf6e18e23fa50/expr.ipynb\"><img src=\"data:image/png;base64,iVBORw0KGgoAAAANSUhEUgAAAHMAAAAVBAMAAACHwMySAAAAMFBMVEX////MzMxUVFRERES6uroi\n",
       "IiIQEBCYmJhmZmYyMjLu7u52dnaqqqqIiIjc3NwAAACW8nlqAAAAAXRSTlMAQObYZgAAAAlwSFlz\n",
       "AAAOxAAADsQBlSsOGwAAAY9JREFUOMuNlDtIA0EQhn/z8nImxzXWaqWdolgoKFa2RvFSqAiiadIk\n",
       "IAoWYhAENYVpROwWrGwkxE6baxTEIoeFCjYBm3QqKCiCOJdocrO5M06xDDP7zc7OziyAEv4WzdMT\n",
       "NWtqC3DCnTrUUsDyQq/rauhjf4Y7U4eGwF0jdH5Puaq5uiGYmhV8S/ztDAgLmQyb6jygpOsWX00L\n",
       "/Fg77aU1I6MrwCklCTc0YjlQJGW0HygKXP0DPZDRd6DDRNaJrhd0jnY/dNFakEjVRtMsol9orxwd\n",
       "xtMYsFbRtwxbpuyX/iTUwhwPOMhRChcDLuUmsdE8lkg9rsSbtK179F6KYcQThlG9p/JF2+SECZ2w\n",
       "KuivDBGqO0/156C8AOMuZSqaLOEE0MsSDsXgewYupLtiANgQGHGgeWCRoW1E9wHL8qmrwA4vfBnR\n",
       "JEO1DG6pC7MyGjTVBaDdWbntHsErXN7cpXVaRtXsDdUkqLuNU8Q5aFrMfeYae9vZ/tX3SXvM6yia\n",
       "yaOX46gp6hlcs5qQUY/P6xulgl86S+FEBAAAAABJRU5ErkJggg==\n",
       "\" style=\"display:inline;vertical-align:middle;\" /></a>"
      ],
      "text/plain": [
       "(-5 + 5) = 0"
      ]
     },
     "execution_count": 27,
     "metadata": {},
     "output_type": "execute_result"
    }
   ],
   "source": [
    "Add(num(-5), num(5)).quick_simplification()"
   ]
  },
  {
   "cell_type": "markdown",
   "metadata": {},
   "source": [
    "Can also handle ranges of terms."
   ]
  },
  {
   "cell_type": "code",
   "execution_count": 28,
   "metadata": {},
   "outputs": [
    {
     "data": {
      "text/html": [
       "<a class=\"ProveItLink\" href=\"../__pv_it/demonstrations/ae8c57f3de6286d26981100982781be734055bf50/expr.ipynb\"><img src=\"data:image/png;base64,iVBORw0KGgoAAAANSUhEUgAAAkgAAAAVBAMAAABPvwycAAAAMFBMVEX///8AAAAAAAAAAAAAAAAA\n",
       "AAAAAAAAAAAAAAAAAAAAAAAAAAAAAAAAAAAAAAAAAAAv3aB7AAAAD3RSTlMAInZUiRDNmWbv3US7\n",
       "qzJazP2FAAAACXBIWXMAAA7EAAAOxAGVKw4bAAAEuklEQVRYw7WYT4gTZxTA3+zsOJnsn6RLS0Eq\n",
       "HVex4qGsUhb0UBYpRQorwYNYUJJLoQjSHLYYRHDwsDkoNhYKti4lsAVppEvoqR6Kq9BDL7psxZsQ\n",
       "7W0PNdgqhUL1ff8m37+ZTCR58M1m3/fe9/3e+/7OAEARWBm1WPpw0uyd4SM4gqOYjS/2GZtjZeTy\n",
       "s6nalWa/a/gIEyHnsLAk5YD6fMDLKMX7vYkUka52F1J8UitfV/YC4zBZMAeU0urjVVgZrWyr4uMz\n",
       "XXs8zeX4SDhKnMNgITmglDYfH3Pqm3n9xT71oqR5HKXrC2Qu13XjWlo8taydJEJZYshVOUddryE5\n",
       "KFhXHPoE+Ccwaw7Yl0CYtDbCdP1tMoJBSTNupCWpkbWTRChbDN9wDsESSyAobT7z+JwfeZI+ofM2\n",
       "UpVu2iq3VA4jSZ9zjm369JsXlDafJXyS4jzYGVo62HF4ZqAkqfax/szsHwDjG6rSl7fm8dkr6vRf\n",
       "SO49I5SIQQ5tERiHYIllSVAqQqkWaWpJuVWcfG52MHEV7pcGSJJmL/Tei1K5CLmKaiyPprMK59Xt\n",
       "MkrsPSuUSJIc2jLZZCqsgN+issGnGKNU7kiUahlW8TcW7xr4TbODTyM4N8hM0uyF3n0OQQhuQzXO\n",
       "S/tkfgG+VloklQm9Z4XiMSihHSQODYhZYlkVlAoEpToI1/E3Fr9LNN4yrTvXan3bav2Evy4A/ADe\n",
       "R49KLO8/fsfzrq6MXgW1N/V+BQoLMN1VjYM2HvR0LNfgAp0a3mn6b4dXstZOVGyd9IPqxcBC4/IU\n",
       "C+GgLLJcF5QyBKN6KpIUrEO5DU/2aaOwAt5/4Mcj0XcmUXtTj5C352BCm0kkD0JW9BZJJW1terZp\n",
       "6yQDFI+BhSaWHlmuDYhZ5CQxSllWuA9fbuUQvsJfh9QOvGeQ60Kh7fyfLUnM3tTjBQQHxW0mLjd0\n",
       "1AQreWtu09ZJBiieJB4aExIgaZA2Ku9Jq4JSvmA+4z538YmlPAcP3aKRpL9hqrI/V8qcJGZfe/Ke\n",
       "lqQObgyQW1dbmZRa+xcHV2kRK1lrZpKyQokk0dDqV2bJRfIyMA7BEstdQSkLo7pMz8RFwuTe8I2Z\n",
       "hK6Hqtj2uDYHyuRd5gXwh1RB7U/cioKiop+KJqu9I18Yy8cwHiJH1cN3Q/SuJ6kvVLmixEBD8y5d\n",
       "g6v8pCccvv5muCgoZWFUS7CFv7F4m0d3vG8m6dTux5u4g21pd+U8aewGiEevgtq/tQcKqoP3gLxk\n",
       "5Nuq8bR0nI4fuahed0kl691IUj+ofFU93UhozrEKkHvATc6Rb2tJ2hKUykhRqpuQx+5I6S1Z87bq\n",
       "/DbYjXuT7o+GfruuXEt7LYkrjSRlhVJimArJXu00Ocd2Yw/sJH6EatJXvlzVSJLycvg2vDHQC+73\n",
       "cHbaoq/pxvW0JNWNJKmd9IdSYgg6frXDXuVrttfnXDUJhPjcAVbUJCmpvPfXlwN9/+vC2ocWtb5X\n",
       "wmTaB9G40m0OA+pdyP/ZgXc4h8nSy4EuxOckL0Te/OKwxSp4+bI70Pe/DdgdpUTdO2LX0z7U8Urn\n",
       "43/CIUD9CmNHWCYIh2V4TiZ5Eh8nZGXkstNUzaTZzwwfYazIOSwsSTlAn1eLgXWesm8J+AAAAABJ\n",
       "RU5ErkJggg==\n",
       "\" style=\"display:inline;vertical-align:middle;\" /></a>"
      ],
      "text/plain": [
       "((a_{1} +  a_{2} +  ... +  a_{n} + b) + (-c - (a_{1} +  a_{2} +  ... +  a_{n}))) = (b - c)"
      ]
     },
     "execution_count": 28,
     "metadata": {},
     "output_type": "execute_result"
    }
   ],
   "source": [
    "Add(Add(ExprRange(k, a_k, one, n), b), \n",
    "    Add(Neg(c), Neg(Add(ExprRange(k, a_k, one, n))))).quick_simplification()"
   ]
  },
  {
   "cell_type": "code",
   "execution_count": 29,
   "metadata": {},
   "outputs": [
    {
     "data": {
      "text/html": [
       "<a class=\"ProveItLink\" href=\"../__pv_it/demonstrations/5b3b2079786415b758529bbe88525a0b866b534d0/expr.ipynb\"><img src=\"data:image/png;base64,iVBORw0KGgoAAAANSUhEUgAAA6AAAAAVBAMAAACqBJ7ZAAAAMFBMVEX///8AAAAAAAAAAAAAAAAA\n",
       "AAAAAAAAAAAAAAAAAAAAAAAAAAAAAAAAAAAAAAAAAAAv3aB7AAAAD3RSTlMAInZUiRDNmWbv3US7\n",
       "qzJazP2FAAAACXBIWXMAAA7EAAAOxAGVKw4bAAAFDklEQVRo3sWaXWgcVRTHz2Qymf3KZlsUQVI6\n",
       "jUVFsMQgAfOgoYgWoWUQkQotuy/Fvoj7UDWUQhdB86DUVhBqLbpQpbhiCT61D9JYEPFFQ2zFF2Gt\n",
       "D0If6mqaIhQaz8y9O7vnfsyHmRkPnEn4z9l7z++ee2fv3AQAasA8a1P0YeTQraHrJw/mnM3nHJlm\n",
       "nrl9JUsP5NBt2WEuWi7MOZvP+Tj3LM36vo0j2BJlcz4Pyoe5C5Y1Mxw4k39FkdNqMM/Wxpp4OSSq\n",
       "L+YCOeYyF+ZY5szwcv4FRU4b140trR24qF7SLd1ab4XrE97zbVEMXohuIZmszLvQZE4tNrNOjmSG\n",
       "NW3gxQxZi/ijKN+ZUTZhOpq2dTf6+mVvhRRdIfhkdAvJZHXeH3AnFptZJ0cyl9e1gTMZss7idTbz\n",
       "gj7nPw9aVDQb+RT0MHdis5kXdLT9PxT0MBzBq+fG1R2OInjb7q2JCkrjA/2VqZ+QcIWKtrcnGp06\n",
       "EdZClKyDHMbZy51YCLNGTso8tvroNA3ss0aN7qZY+9P3Uq2yLgeXT8GPboKCCvF93brt1mtQaAjE\n",
       "uGKNc3AsrIUIWQs5jPM2d7A7vq1AKLNOTsgM9UPWX0QIWCNGd3Os5/CKbp0Guy0Hv9SCo0lWqBDf\n",
       "1811KDpgnqTBJZzApXl4P6yFCFkHSXCe4E5Mz6yRkzLDU66AFrBGjO7mWD/CK7rd8/qz/IkMRzud\n",
       "DzudL/G34wCfgvX0ry6b35+f4fObbhgHN/x4WbcbMDEP1R4NLi7hB1xlC/sbKjkqkUHeDIfbn9yJ\n",
       "6ZmZ/MLea1ROygyvA9yiga5qdNNm5QUtLkN9Ca4/IlT/LFh3wA5mQOQK9eNlHTu8PA1lYYV6BT2r\n",
       "bKE61VbJMRLheTOc/iOJu1hQDTOTm8EqmflvzFiU8poQqBrdtFn5I7fuwHv42xwNtv6GQg8mloy7\n",
       "8QrK4mUdX0Nxeppt6ZGLH1C2YLZVcoxEOCTHYTbXBxv+DtUyc/kObO/GKqiOGV9D7XUhUDW6abNe\n",
       "wSt6fRp+NmtSQddgvPFYwY1dUBa/cP0hoaBdfNBDYZm2UsGf/+AeQG5BhoybSB/Sx1k8MeUdKLzL\n",
       "nZiWmctvxS6ohhnuel+Gw0LASkY3bVa+p6845nlbnq1XYK7ZHLxSBRs477zwNvDL0A0/fv+lVrFG\n",
       "9PFWpclfU4Zf1HCp4LZvn9yCBKlJZJBDvUHy9nGsd07DKf6GckQcDT0zl9m789C4NYbBo5nhF/iO\n",
       "CgErHd2YrIO+w1lv4BXdWt23bZcMd3Dnb6s4UW8IZzwlbzKch/5lcMOPv/dBmKAfsK56p3ylJRpc\n",
       "xYxH97zpyi3IkJpEghxKTbrz83CM5xvgPfS+4E5Mz8zl6mdU9nsYgEcyw8FnhYOUgJWOblzWoO9w\n",
       "1hJ+tNQd/rqRnzPGt8lOilaDPQjR7xfFC9oWTPUpS3QiJO9xx9uHGW3m1KKYYdJNdFKkYY5xUpQy\n",
       "Kz26nlMe/N4HWxIdzn8Mb1QV+oIYvKhtIYCkcnQiJO9i1252NX9+iGI2mkYtyeG8hjnG4XzarN8A\n",
       "cwpH2H64+VqSv+EYPbjwpEJeFpWK9p8GzHYaiWyH0u9dmPSWm3wznBkmb/7hbp45jqXNeoC7Z/e8\n",
       "ulsRW9zY6CVpu7wCOxWzSi6ftawbnmduOSkk8jWM7BFm7MDCmeGTjY0UmONMhbRZDYd55rZDlrbm\n",
       "0O1Ijbk0kHkw52zI+S86MTUrcb25zwAAAABJRU5ErkJggg==\n",
       "\" style=\"display:inline;vertical-align:middle;\" /></a>"
      ],
      "text/plain": [
       "((a_{1} +  a_{2} +  ... +  a_{n} + b) + (c+ a_{1} +  a_{2} +  ... +  a_{n})) = (a_{1} +  a_{2} +  ... +  a_{n} + b + c+ a_{1} +  a_{2} +  ... +  a_{n})"
      ]
     },
     "execution_count": 29,
     "metadata": {},
     "output_type": "execute_result"
    }
   ],
   "source": [
    "Add(Add(ExprRange(k, a_k, one, n), b), \n",
    "    Add(c, ExprRange(k, a_k, one, n))).quick_simplification()"
   ]
  },
  {
   "cell_type": "code",
   "execution_count": 30,
   "metadata": {},
   "outputs": [
    {
     "data": {
      "text/html": [
       "<a class=\"ProveItLink\" href=\"../__pv_it/demonstrations/2f324d2ef033203f5514915eb91f7672c017efbc0/expr.ipynb\"><img src=\"data:image/png;base64,iVBORw0KGgoAAAANSUhEUgAAAtEAAAAVBAMAAAByAa+/AAAAMFBMVEX///8AAAAAAAAAAAAAAAAA\n",
       "AAAAAAAAAAAAAAAAAAAAAAAAAAAAAAAAAAAAAAAAAAAv3aB7AAAAD3RSTlMAInZUiRDNmWbv3US7\n",
       "qzJazP2FAAAACXBIWXMAAA7EAAAOxAGVKw4bAAAFFklEQVRYw7VZX2hbZRQ/tzd3N0nTJhZFKA7v\n",
       "uqnDh1HHKJgHKWXIGDiCD2PCJHkRRBDzsGEZg118sIIyO0GYbkigwjBiCT6tD9J04IMgWmrxTYjz\n",
       "rYgGdUMQ3L6/ud//3NDcAydJz3fOd36/8/253/0KABWgmrUYcngufy9TNJ6gaaCOgfvEPNXM5Wvd\n",
       "dNjlfzhTNJNRoqqMvxyE+wmmWUrwXQvhj1Wzv+iIcTaOQY4KqsiJ/VLVxw5xDxpUs5UDTfTxmmo9\n",
       "6wo5mzWkWqJKsRr7pqoJ4h7GVBW5bV5ysW0txm57Ga/HFdV52YV4OW0SK6jbzorkm4nKEsbObSd2\n",
       "Zysbtx7EvQBUFTluXtGRbalHbvsmnjiFmuK86mK0mjaJFdRx9+T7WFBJCs4wWzqebbNmakXcF9DX\n",
       "QuaVPk3WVSwbfdcqNTSOudKvCyrJwr4qfdq8p8RwAX1h9XYPRYa4g0szI1Va9h/Y35z7CSC3LRtD\n",
       "8ZmXm7sqL+FFe/aUoDgHhRqXlwSV5II9xkGVZyNUJVk62sPc+ahuVEr39LjJa/BjbYRKK/7cHtyv\n",
       "1SuQb8jOB4Qdz1uDy+oksGVPC4pzV6hxeVdQCNtEtsFcjhRUWTZKVZTZ+bCLua+h30iD6xC29LhX\n",
       "Yrg0ypxW/LndvweFCPxV2bkoPDuKi/CR1CNutGRPC4pzV6hxeV5QSdbsMQ6qLBulKsrnjPsN9Btp\n",
       "2MdkAzK+cKnd/qTd/gr9uoIdg5O/1Oiwf/EpG3Z5oScNxF+3hw0oL8J0X3YudNBZjkyldbhCpkfw\n",
       "Bvmzxxppb+capiTDQCUcKDXxFEdD/xRUkhuGGAsKQzZCVWASkrWBuLNKF7pQ78DdZ5URugnBfxAO\n",
       "xnfonCb+uh2h3pyHSWVO42Jyuak9rDust+m5lilJClCMA6UmzgwauiGoWmktxoJCz0apikS6ZK9Z\n",
       "5btHPYIP0a+qHBf8Bfk+lDve/+kqTf11Ozpjoknrt6y7BwpUBDWy3vyWKUkKUIw7o5YIC60KKu3T\n",
       "a4YYCwo9G6UqSD1i4XfQF9L6PPzsV7RK/w1TjefytdSVpv7Ld59RKt1DGx/ku3IvJaG3f9GwSz2i\n",
       "RtqbzjEtKF5pQm3l6hx/RWGhHwgqyR1DjA1FQpVXmlAVxxU92juYOzvnlCL/VqjNaZS02kTJcsps\n",
       "rONX+PvAPoQG4n9uIy5UJPtUXGompzrunBN2V3TwOCMBxI00u8pxKKh6Q+JAqAXvX4drSectdpjj\n",
       "qh7/9BgzCoEqy0apintVF3I9zH0P/YE02Dlz8Jhe6VeP/LqDdvU95e2uiDu7BfwjaSD+jz0NZTkg\n",
       "2MXv1sWO7DwtPN1zp96R361wI82ucRwGqtiUzx6YmvdyA5JjGwn9UlBJ9kwxZhQCVZ5tV71GOPne\n",
       "U4R7EWHGSqVqfL/yvh3tHXFn8JSR7LOqcd31LrZu5ZgWlMRhKkIPpd+/R1KhoV4rUeUR0TPEWFAk\n",
       "VN1vpLPqJUvVeDvzODwy0g3TZ/D2tMG+rDqvuLCtaJWWkwwHJXEo9MJmTwzlV2v6fdKgHGKMBUVC\n",
       "1X2fhblvMZUrLc2eH/64OMq9odeH9RcM5q5qKbn+tzFo9FvjAPUkFH/riaFPQKKKbOkxNhRmqmbu\n",
       "55liefStJdM91IMH/VFITW7DkdhRuuRs13VdqbNG78V/ojGA+gYmTkmhW+osS+S8HmNBYaFq5u5F\n",
       "VDOXQ7ppxuU/kymaiUqi2gyMMuD+EHaW0RaLVAsZAAAAAElFTkSuQmCC\n",
       "\" style=\"display:inline;vertical-align:middle;\" /></a>"
      ],
      "text/plain": [
       "((a_{1} +  a_{2} +  ... +  a_{n} + b) + (-c - (a_{1} +  a_{2} +  ... +  a_{n - 2}))) = (a_{n - 1} + a_{n} + b - c)"
      ]
     },
     "execution_count": 30,
     "metadata": {},
     "output_type": "execute_result"
    }
   ],
   "source": [
    "Add(Add(ExprRange(k, a_k, one, n), b), \n",
    "    Add(Neg(c), Neg(Add(ExprRange(k, a_k, one, subtract(n, two)))))).quick_simplification()"
   ]
  },
  {
   "cell_type": "code",
   "execution_count": 31,
   "metadata": {},
   "outputs": [
    {
     "data": {
      "text/html": [
       "<a class=\"ProveItLink\" href=\"../__pv_it/demonstrations/93625df77fc404fb395a5b90e29c5f6f3ef959e40/expr.ipynb\"><img src=\"data:image/png;base64,iVBORw0KGgoAAAANSUhEUgAAA+sAAAAVBAMAAADMXmKOAAAAMFBMVEX///8AAAAAAAAAAAAAAAAA\n",
       "AAAAAAAAAAAAAAAAAAAAAAAAAAAAAAAAAAAAAAAAAAAv3aB7AAAAD3RSTlMAInZUiRDNmWbv3US7\n",
       "qzJazP2FAAAACXBIWXMAAA7EAAAOxAGVKw4bAAAFnUlEQVRo3t1aXWgcVRQ+k93p7G7+1qAIIaXT\n",
       "tGrxQeIiAfMgIRQphZZBpFRQdl8EEcR9UAxF6CJoBKWmglC16EKVYsQQfEoeJFvBB0E0xOhbYa0P\n",
       "QpG6qClCwXjm3rk792/uzrS5G/CDs7s595x7z3fOnTv3zgQAykDFNjRjOCZ7x2o0DidpQv0fgbAb\n",
       "mKJiHV+qqkMm+0NWoxn0Y5HRl3TsHUghHonEJtxvm5jMhqzOzRp8jI27gCOcSOhLOvYOYSHcGhW7\n",
       "2FfHj2dl7SmTyynbIQWxSFXpTzr2DlgIr0FFwqp+ZWwkLZkNs340XDYXZON5U0/zaQdJDGrVyL1Q\n",
       "j0WEvXSwbkYT7yLZOCYyNFPHQhSBioSKfuH1k1Zk36xfDy+pYiAZL5p6Wkw7SGJQFfOcf48TAfbS\n",
       "wbpZDyCbZ4I6kaGZOhZiGr+mrZf9OFnaGqIyVzN4aBp3uezPcSJg2nrZj8Oelh0L8RJ+heJsHfQ1\n",
       "fvvnxjLxFO27+hcmfwTIb4hKj9+05SfPqY0Jo6cMinGQqDGc4ESAvXSwbkg6BMwdaafhmBBWRupY\n",
       "CDbf18pD26rf4Hn4IcjAU7JnevdmUC1DoSYa7+NuWM4leFVpTBg9bVCMu0SN4Q1OwFsi2ACr6Yi6\n",
       "oengMT7ltdJw1IeVlToW4hJ+obgXwGuqfk814EyW6S3ZM31uG4o+5BZF4xK3sSnNwrtKY8LoaYNi\n",
       "SZaoMTzKiQB76Yi6oeng8QlTmDkmhJWVOhbiQ/xC8Tph5l0y8+HM0tL7S0tf4K+zYUTu0asBvSA+\n",
       "+yC6IMSdb9xA7FW9V4PRWRjpiMbFFTymkYtsGc4GoDbS3k7XdIP0CirmQKnxBzTq+gcnAiylg4uI\n",
       "pAPc5wl5XN29bb2nTJ2G9eSJn8T+slLHQkRlL7agugLXHpSmy0Vwb4HXnTI9pzexV/U49voUDEpX\n",
       "e1hZhotyT2Ej6W1ksqkbJEVQEQdKja8LdV3jRC67pXRUgEsHv7VuaT0V6jSsench6HW1J1DHQkSL\n",
       "fNWHd/DXjOjn/gmFDoyuOP+m40ntVT2eU/FyzjUTF3l0BKUx6i3X1A2SIqiIe0QtRuQ6w4lwb7eX\n",
       "jgpw6eBQ9fWeMnUa1i040E5X9gTq2O3X+AdKdQp+zpUVnn/BcO3hQpCaJ7Wfv/aAVPY23mWg0BJ7\n",
       "GeJ6+wfnoNxIe1PLnjYoxp1QWzg3yZ7LRK5vcyLAXjpY2Uk6+Grg/nVF9VTLTsJ6PX3Z9dSxENER\n",
       "ZsjPXfaU6Y0ZmKmjS166TqvhE92bEH1wDcT+9FqjWBb0w42henxgY8Z57r6I2/iTSiMdXebeM6hq\n",
       "TeBAqLlvXYDz8QmmGZ3TmMgnu9tMR7VmTkfUDU0Hv/a2IN/WcJSpR2F1z/3dkwEbOx11LMR1/Ini\n",
       "bp7c/5DK85nDv2xiPNel52ulMOrLwD7iBmJ/z/0wKjq4W+Gj1tKKaDzCbTLzx14LlEY6ulL2XkGV\n",
       "6mJSQmrOEzWIjzLE9XNOBNx+OtjISelgEW3JT56PvnmfjqOy0NGwRj6V7u3dsdNRx0KUkEapzZQz\n",
       "2qOB8022x1Kb3W2SoB+XlcumnrqNStnTBiVwGPZxI/P7d4gydXWasYiwl45Kz7ckomcC9Ykg01M6\n",
       "hfq4/DZiRvss/164K9O7h4/glRGNfl42XjD1tKBwFwfpHZTAodj26m3elb2DUl+82EvHas+yi556\n",
       "6k7dKWd5FaNQDwtxJRKRpzC7v7/xMmSA04HlxzTqlqwZMv0XS7cx19yNoA5A6dc27zoBsUjoSzrS\n",
       "QE994sZvwZ1QJ4V4OpIQd784p3ths7PTyTLM4AYcbhjqGB/bWoZeWKPz+N/+LgT1FQwcE1yvyFM+\n",
       "Rl/SkWbC6Kl/vLMDd0KdFMLxqVjHQVU1ZrIfsxrNQDkWJd39SMfeAQvxH9tmaoU4wV+iAAAAAElF\n",
       "TkSuQmCC\n",
       "\" style=\"display:inline;vertical-align:middle;\" /></a>"
      ],
      "text/plain": [
       "((a_{1} +  a_{2} +  ... +  a_{n} + b) + (-c + (a_{1} +  a_{2} +  ... +  a_{n - 2}))) = (a_{1} +  a_{2} +  ... +  a_{n} + b - c+ a_{1} +  a_{2} +  ... +  a_{n - 2})"
      ]
     },
     "execution_count": 31,
     "metadata": {},
     "output_type": "execute_result"
    }
   ],
   "source": [
    "Add(Add(ExprRange(k, a_k, one, n), b), \n",
    "    Add(Neg(c), Add(ExprRange(k, a_k, one, subtract(n, two))))).quick_simplification()"
   ]
  },
  {
   "cell_type": "code",
   "execution_count": 32,
   "metadata": {},
   "outputs": [
    {
     "data": {
      "text/html": [
       "<a class=\"ProveItLink\" href=\"../__pv_it/demonstrations/b1f1d167da3f66d5a0aca7a548918f3d1a710fb50/expr.ipynb\"><img src=\"data:image/png;base64,iVBORw0KGgoAAAANSUhEUgAAAy0AAAAVBAMAAAC5/xxoAAAAMFBMVEX///8AAAAAAAAAAAAAAAAA\n",
       "AAAAAAAAAAAAAAAAAAAAAAAAAAAAAAAAAAAAAAAAAAAv3aB7AAAAD3RSTlMAInZUiRDNmWbv3US7\n",
       "qzJazP2FAAAACXBIWXMAAA7EAAAOxAGVKw4bAAAFh0lEQVRo3r1ZXWhcRRQ+N7s3d3+SzRoUJVh6\n",
       "+6MWIRpDCZgHG2LAIliWPhQLkV2Eogjign+hCLkoNIJSU6FQa5GFCsWIYfGpeZBuCiKC2BCL+CKu\n",
       "1aciGq0pBaF1Zu5M7syZuZN70+4eOLt3z5yZOd935u/OAkAZQu20GPpwbP5OR6NxJE0SajeFdd8z\n",
       "EmrH5UvdtMvmv6uj0RT9SLF0hY7NmNrLtZPiftsgaANszkxY6lgL74DskRTJ3q5lYPq0yUqZcmuh\n",
       "dlZ66+TjCLYeslU51OmQKpGiUVTr3tR4wWglTHlBqEjOmyd/ELcqBHb7AF0Z5rDzjC3imaSdxAZ1\n",
       "3spIrh6pKrdPx+YxCPs1YylhKg+hIhk1ry1+3KLj2+0X6KDMV5DzvA3RfNJOYoMatVN2UlJFbp+O\n",
       "zWPg9uK6sZQwNUa+xjqel6fZyhGoxoxtvTAU3uG8vCipImPdy0u2YV5jA3iNfFF1Lu/wDe1tmxxM\n",
       "lRfVf8P+8s4fSBArqtGTd/bszuPqYjIR33vCoAQGBE3IM5Iqkp4OhDpBDNzeuzqMz36Te9qUKTFi\n",
       "lsp964Z5dgIuVVLkBfkLu3u9Ui1DrqY690rLs3MW3sJDJq73pEEJThA0IcckBW+ByQpshQ6MOkEM\n",
       "3F494v6tVhga8VqUqbPkmah7CryGXu9wAEfTzBfkL+yZdcj7kJlXnQvSUClMwIdKi7QwpvekQXEM\n",
       "GJqQxyVVJDUdGHWCGLh9XwXBhk85Ux+TZ6LeGqXGZWMHji4sfLSw8AV5mqWO7tTPlXBIfXaaDyl1\n",
       "yYkKmL9u92owMAGlNdU53ySnYTZMF2GWjTf3JfazzQtZa847w21jJ71gCyrCEEKTz8Ehnr8kVSQ1\n",
       "HQpq1sMxawyR/Q2AfyFigTiyWUWY4nnJt6DahCsPo3yeAfc/8DZyvel8Yf66ncR0YQSKaL5Q6oWc\n",
       "0Y4kTd5a/0TPvLGTRxPOlxCaPI5CPEuS4rykowOj1itqMYyK2VFUT8rEkS6M82Idq/rwAXkaV+u5\n",
       "/0BuDQaazs1keQn9dTt5fSETItOIXcdIRSSkMGyt1M42TJ0U9yXMC4cWCcczLqmyv6SlQ0OtVdRj\n",
       "GBWvL5669VVZk4Spi+SLaHUEfsyUtUCuQX/tsVwlcV5C/5krD6G8tMkCC7mW2kqf1NoNQrTSIikM\n",
       "WyMpCgydwMFq0rwwaHPHd4oXSI7nfUkVSUuHhtqQFxwDt9+ke5MyZsjPJmWKnxT7/Mw5T2/vIozX\n",
       "69ExW1BQpZc314F/SAXM/9mlIF9W7P1BXz06FwvnrLQrkMPYASVAWhj23vM8GDoBH+dlI6hqTcHA\n",
       "oLnvnYITUeMNfhwWig/Q6ejAqPWKWgzc/hN8g/bqFmTblKmr5AdRd/XAtkf09p7b/esq2XWvojf1\n",
       "Ak37ORAfUQHzv+dBGFAruJfprUqhqTqXpBNKdv/b6kmTFvLep31DJ5kyzstGUIW6ehai0JyDNYhW\n",
       "DIbnc0kVSU0HRq1X1GIQDT6Fr3Km3n2AMVUg/VA1t8dfLr5O976/urGXKvYhbFy0vSlHhSXTKnof\n",
       "JF3HQun3yWb6x3dEyiEepxEp2tq2RgdFXaIdLMdVZDEkuYsYwld348b7tnvhrlT3lp/AmyWDfQY7\n",
       "z9liE4WH284NQ2O/T80+mebeMt/26m0Zj7iw1W8pt0hHhDquohSD/U6VMrXMVW1PGR/f//l6mrtr\n",
       "Zw0WnzCYW9jSZ/tfUBQWKrmTRoftlTRBbYfCb20Zz/0QKZIt0aGgHt8sBjuBlKlprlTufmXSdLt5\n",
       "69ZaGgqKK7A7iCdaev1qWVoRhaXJYWP6cr+8miaor6Bnv4JnGY/JSLZEh4zaXFGOwSqMKccPteOy\n",
       "QzcN2vwHOxpNTzlSbbx2gw47U/8DXjsIFuBMNdEAAAAASUVORK5CYII=\n",
       "\" style=\"display:inline;vertical-align:middle;\" /></a>"
      ],
      "text/plain": [
       "((a_{1} +  a_{2} +  ... +  a_{n} + b) + (-c - (a_{3} +  a_{4} +  ... +  a_{n - 2}))) = (a_{1} + a_{2} + a_{n - 1} + a_{n} + b - c)"
      ]
     },
     "execution_count": 32,
     "metadata": {},
     "output_type": "execute_result"
    }
   ],
   "source": [
    "Add(Add(ExprRange(k, a_k, one, n), b), \n",
    "    Add(Neg(c), Neg(Add(ExprRange(k, a_k, three, subtract(n, two)))))).quick_simplification()"
   ]
  },
  {
   "cell_type": "code",
   "execution_count": 33,
   "metadata": {},
   "outputs": [
    {
     "data": {
      "text/html": [
       "<a class=\"ProveItLink\" href=\"../__pv_it/demonstrations/4f5fcbd945969175a1879c29fd724681e38c53bf0/expr.ipynb\"><img src=\"data:image/png;base64,iVBORw0KGgoAAAANSUhEUgAAA+sAAAAVBAMAAADMXmKOAAAAMFBMVEX///8AAAAAAAAAAAAAAAAA\n",
       "AAAAAAAAAAAAAAAAAAAAAAAAAAAAAAAAAAAAAAAAAAAv3aB7AAAAD3RSTlMAInZUiRDNmWbv3US7\n",
       "qzJazP2FAAAACXBIWXMAAA7EAAAOxAGVKw4bAAAFvUlEQVRo3t1ab2gcRRR/e3fbvbsklzMoSrB0\n",
       "m7ZahOo1SMB80BADloJl6YdioXKHIIggHqgYipBFwQhqTYVC1SIHFYoRQ9AvyQfJVfCDIBrS4Dfx\n",
       "rH4qooeaWhCsb3d2svNvN7Nt5wI+eHeXN2/evN/7zczu7AYAqkDUtCjGsNL8LaPZWIzqpPo/khBd\n",
       "rkbUuHwmm/ak+e8xmk2fG6soPSnH9klIxIORmhT76xYW0xfN+YmUPqmNt0D2MypIT8qxfRIQYTeI\n",
       "mpUdTfx4WrQeS+tyzHRKXqwCK70px/YJEuH4RAVZUu+MftKW6afbB4Ntc1Z0nk6LNK07SGJSS6nY\n",
       "i81YeTFXDhpmMPEqkg1jIsJ06EhECYgKMqreeN2kHdlNt68ES6rkCc5zaZHmdAdJTGo0fc6fYZQT\n",
       "c+WgYVY8yNYzwZyIMB06EjGGX2PGaT8cbm0+b8w3UnooGm8x7c8wysmYcdoPw7bSjkS8iF+BWuu7\n",
       "XUW/nZNDmXDy/pv250YuARRWeaPD3rQVRk7JjQmjayZFMQjQqDzOKCfmykHDhOXgZHJ/RwdjQloZ\n",
       "oSMRdL4vV/s35H59p+E7LwNOwZ/a7atevQrFBu+8g7lgWefhFakxYXTdpCh2ARqV1xkFZz6UVTBa\n",
       "jigMKQcrwzWnrYNRnVZW6EjEefxCtc+C05L7HffhZJbpLfhTe34DSi7k53jnMnNjU56Ad6XGhNF1\n",
       "k6JFFqBReYhRTsyVIwpDysHKR9SQjjEhrazQkYgP8AvV6QaVt8OZDyfn59+bn/8Uf80EGdlTP3hk\n",
       "QXz8frQg+DvfuCH0l+1OAwYnoNLlnUuLeEwLF9kCzHggN4bRrNcOdJSD7IC0pGIMBBp7QCN4fmeU\n",
       "E0PlYDIKywH2syF4ROdsKHtK0CmUBh8vK3QkIqK91Ib6Ily+T5gu58D+B5zNKbPl9A79ZTuOvVKD\n",
       "PmG1B8xSOSdGChrDaAMTuTnlIA9ornYCjeWF4FlmVKTdUDlGgSkHe2vdVvaUoEdQcl3N1Z4AHYmI\n",
       "Nvm6C+/gr3G+n/0HFLswuGj9q4eT+Mt2PKfics63Ejd57AhSI4lW6RRaqkH6HtGkPYIWS4RnnFHu\n",
       "2m6uHKPAlIORuqvsKUGP0vpcl/YE6EjEl/gHar0G3+erEs4/YaBxsOhp4yT+05fvFWjv4FUGim0+\n",
       "Sj8T7RryKDaSaDgDfMUgcLSuS3sIbfbUCH0uE+F5i1FOzJWD0h6Wg2UDES4qMIrQSVr2Pm3a1dCR\n",
       "iOgI0+/mLzjS9MYKjDexizDpoB480b0K0QfTEPo/seyXqpx9wO9vxgc26lxgrot4G39EaiSj554C\n",
       "xSDgirRvJlVvcBhCaPabZ+F0fIJpRec0quLJ7gbLUW+klyMKQ8rB7r1tKHQUGEXoJK2c3RVPBnRs\n",
       "PehIxBX8iWqvHdl5v4zzyb0/rWE+V4Tna+Ug6wtAP+KG0P+Oe2CQ72CvB49ay4u8c4W5ySwcetWT\n",
       "GqPRT7iKQfJVkfbNpMpNvigBNOtoA+KjTIjnE0Y5ufFy0JGTykEzWhefPE+9sU/RU4JO0joo0h6P\n",
       "rQcdiShj8HKHGseVRwPrq2yPpdY2b5M4+7BoXEiLFDdWVHvqXaC7yUcrzMUbmV+/QakSPFYrVl7M\n",
       "lWN0y7ckQkgVdMu3dTf5BOjD4tuIceWz/DvhtkzvHj6ElysK+7ToPJsWiTYe71jXFMF+mZp5NMur\n",
       "mFLHaXZYPPQdlPzixVw5lrakneuphl6ZeuyvWpZXMRL0gIiLkfI4udn97W8vQQaxurDwsMLcFi39\n",
       "af/FQhvLXvGM0mGXlyWpXVD+ucPiuRtiFaQn5dCQJOjWBtwM9JCIE5EGcvvzk6oXNtevd7MM07cK\n",
       "e/1kHpmHB+2UKLSxMnlAOTuKP76QJakvIHeIw3NRnPKx9KQcGpIE/e2/azcDPSTCcokal92yaSjN\n",
       "f8hoNrlqrNJq6kU5tk+QiP8AMm9osNMGCp4AAAAASUVORK5CYII=\n",
       "\" style=\"display:inline;vertical-align:middle;\" /></a>"
      ],
      "text/plain": [
       "((a_{1} +  a_{2} +  ... +  a_{n} + b) + (-c + (a_{3} +  a_{4} +  ... +  a_{n - 2}))) = (a_{1} +  a_{2} +  ... +  a_{n} + b - c+ a_{3} +  a_{4} +  ... +  a_{n - 2})"
      ]
     },
     "execution_count": 33,
     "metadata": {},
     "output_type": "execute_result"
    }
   ],
   "source": [
    "Add(Add(ExprRange(k, a_k, one, n), b), \n",
    "    Add(Neg(c), Add(ExprRange(k, a_k, three, subtract(n, two))))).quick_simplification()"
   ]
  },
  {
   "cell_type": "code",
   "execution_count": 34,
   "metadata": {},
   "outputs": [
    {
     "data": {
      "text/html": [
       "<a class=\"ProveItLink\" href=\"../__pv_it/demonstrations/b1f34775f413bde80f6a68534a9ba7c6647153540/expr.ipynb\"><img src=\"data:image/png;base64,iVBORw0KGgoAAAANSUhEUgAAAy0AAAAVBAMAAAC5/xxoAAAAMFBMVEX///8AAAAAAAAAAAAAAAAA\n",
       "AAAAAAAAAAAAAAAAAAAAAAAAAAAAAAAAAAAAAAAAAAAv3aB7AAAAD3RSTlMAInZUiRDNmWbv3US7\n",
       "qzJazP2FAAAACXBIWXMAAA7EAAAOxAGVKw4bAAAFuklEQVRo3r1Zb2gcRRR/m7vt5i7/zoBYSkqu\n",
       "aa31i8ZQAvaDhhqkFFqOIqVC5e6LIIJwYMVQhCyCRlFqKgjVlnoQSzViCH5KPkguAT8IojFGv7Wu\n",
       "f0AIkga1RSgY3+7M3r6ZnZnserk8eLfpm/fmvd97M29npwBQAMatJoUPy6RvtTQai3CSUHeSAvdt\n",
       "g4xbTp/HRftN+vtbGk1HMWKZdiQdW2XqMOdWkv1VDdG6sjgzYrAxDm4DHSIs0eFmoTZJfqbsCuPW\n",
       "0q4q/jwrS0+bTE63OqRSxFJqK01DbZIwU47LWKI59eZ3dV3BNct7/M4wISuPmWIbS+pEG9ScEXt7\n",
       "NWKRHNfYAF2zt55taIKYqRwwlmhI3VuKuqZTNMsX/EWZK0nKk6bYJpM60QY1ZAb/HmGBckYznbvQ\n",
       "20Kp+bpgpobxMdzyuhwPdrgrCjOmfqEY3Oa6PEdYoOGm6nJ8O3qsC+fw4bO1uq+o8LL3aG+quoj6\n",
       "DfkLA98DZJdFoUPf7NmBC2IzGdF7TxhUiEGCFtIJwgKd09sYoIbeAqgCHT3kiQLJMh4mZipcMfOF\n",
       "zttxLx0X4dtSirpI+qHcvlMqF6C9IirvIp3amoJX5CWj8540qDBTErSQXicMznRAy6BORwKo3BuD\n",
       "SmnPoFMX31CSZTxMzNQUPpDtS+DU4l6eduF8mv0i6YfyzG3IFSEzKSrnyRsyPwLvCjP6gxrvSYMK\n",
       "MyVBC+lRwgJN6W0MULk3BpXSR7JAtoyHiZm6jA9kZ8NPze6hm774/PT0+9PTn+Ff4/60uHj5kvrk\n",
       "A76kxJYTDXB9We5UoGcEujdE5dwsnoaDZToD48ECsp8P/unxQTbbmYrKiT16o2QKKsLAoNEMMNNb\n",
       "hAW6rLDRRKHwFkAlSBy2CQg0CovoBS6fOvEDSjFTvC65OpRnYRUeFKt/Bey7+Hg46X7h+rIcHS4M\n",
       "Qoe0X/zUh3QldiSZ5bN1D9RUTpzG6tpqvzBodB0x03nCcl1iNpoo4t4YVAqkLs8vwQIaZjXYSpgp\n",
       "3sfKRXgHYL1xmmBe7D+hHRd5x+MJ68L1Y3I80+OGyNS0fQwNJcJBPlumpnLSM2v9m6wuDBohbnqE\n",
       "sPB+mVLYaKKIe2NQCZXl8GRYQMO8C/1eMLaEIuTyIPyYwffVx2Jd/oKuyiNwqpy0LoF++9gvD0h1\n",
       "8bB7QntdnKWTzPYPVl+YEQe591hGmJNS4roE0CYuDIQfkNz0bcICLSlsdFFEUMO6BFDpKsADjLD1\n",
       "ZFhAw3wtqAtmip8UO4uZ6w7AwaLoZQmOVKtQlOtS9i9v7gD/IQOB/pl5N1cQ5F1uZzU6F4fKWfJW\n",
       "wMPYSSFMf5B5lzPCxZCtaYIqVwQMATT7rUtwMZq8xo/DIcsH6LiNOgoClXtjUGnXrEPWk+ouwAIS\n",
       "Jv/+wUyt4QPZXjm59yF8LIl1eebAzytepiDXJe+7vg7hTzQQ6N97EHrET3t71b9Vyc+Kyt0ksuyx\n",
       "V8Wjoz8YzBbPCBPDWkkTVL4qnsd8aNapCkQH38D0U8ICrals1FEQqKG3VfkCafSN+0WBBAtImIj7\n",
       "GstUHhHmo3re8uLfyrshaR/jtNJ4lwryPbJwxvTNO6PNCP/i+TLV935XEV+mf3yNVGCmVi1i6dXm\n",
       "KWw0UURQh1J+02fU5/C+EssUvbqzr0K/G7/z+210/IlU95ZX4eVuhXxMVp7Y4u5OAiA6uQ/uSXNv\n",
       "mfOcqkdNwwvb+C1l4yaT2miiiKDObUtdrKpVYJla5OzTNXhTeevWn+ouztqAmccU4tiBsdP0/4KN\n",
       "QQ2Ab9ZfShNUP+R/9ahpH0Qs0WLcRheFGur/r0vf+u8llqmznIOdMfCd8kr8pxfTeOxYhgOuIdFR\n",
       "S60bZgkHrSf/VjWq3ObmRpqgvoC2Y4LporQmCZ2N22ii0EBNsnjVE364uckzZRUZt5z2xUW9Jv3e\n",
       "lkbTVog4lrOdSIc5U/8BlTYJzGbUxPEAAAAASUVORK5CYII=\n",
       "\" style=\"display:inline;vertical-align:middle;\" /></a>"
      ],
      "text/plain": [
       "((a_{3} +  a_{4} +  ... +  a_{n} + b) + (-c - (a_{1} +  a_{2} +  ... +  a_{n - 2}))) = (a_{n - 1} + a_{n} + b - c - a_{1} - a_{2})"
      ]
     },
     "execution_count": 34,
     "metadata": {},
     "output_type": "execute_result"
    }
   ],
   "source": [
    "Add(Add(ExprRange(k, a_k, three, n), b), \n",
    "    Add(Neg(c), Neg(Add(ExprRange(k, a_k, one, subtract(n, two)))))).quick_simplification()"
   ]
  },
  {
   "cell_type": "code",
   "execution_count": 35,
   "metadata": {},
   "outputs": [
    {
     "data": {
      "text/html": [
       "<a class=\"ProveItLink\" href=\"../__pv_it/demonstrations/e01ec85cce7041bbd41ec5867282ed9becd708d20/expr.ipynb\"><img src=\"data:image/png;base64,iVBORw0KGgoAAAANSUhEUgAAA9oAAAAVBAMAAABLb4uIAAAAMFBMVEX///8AAAAAAAAAAAAAAAAA\n",
       "AAAAAAAAAAAAAAAAAAAAAAAAAAAAAAAAAAAAAAAAAAAv3aB7AAAAD3RSTlMAInZUiRDNmWbv3US7\n",
       "qzJazP2FAAAACXBIWXMAAA7EAAAOxAGVKw4bAAAF70lEQVRo3s1aXWhcRRQ+dzc3m91NNmtRhJKQ\n",
       "bWxrECOxSKB50BCKipCyiEiFyq4PxSCI+1A1FCGLYCMYahQKtVZdSCWYYlh8ah6kW0HEl3aJVfoi\n",
       "rH0R+9CupilCoXF+7s+cuXfuD+wsHvgumzkzZ75zzszcmbkBgDxw6BcjUpEgGmjlQe2xAf8LyeuJ\n",
       "PPMuMcHRBckWPEWPBNXXQes7AbHIdE10eE0jz6L/lAXNcvQseYzJpcnpoDY6aCWqLmKR6YiYP9dC\n",
       "62hJxhiHWebQLq8T9BalwpcDQ6OF1jEBMch0SHoroQNCi9c08gQpMsZT3nF+0X9BqKpWiiqEabYI\n",
       "+ipS4XwQQz20FgVgmY9q+KKKsVLhaAZDl+nIXseiQSNPkCY/017tAV8zyYLCvlLhaLLb9Hlaqr4c\n",
       "5LceWumiCyzLUQ0fUDFWKhzNpWJYtiN7HY/GaYZJ8pzsQrZ72AtrDhcmA1ctPbR6qy5w5XIXsv1C\n",
       "6Jo7qSfbcwzHyZPCuLan4NNgeGZXrLDi+oKmd3OcLGKzuDAl7ot6Rk/hpnpo9TRd4CV0Wm0YF4eG\n",
       "WWItaN4c/UVqMzPW8nit6E8RDCUN0cosw5yV9418/7a3QfYTuFqMEVapvqApHTP/BjgpDQFhfhkr\n",
       "8J53OHaeVl/ZBcCJNSrf2mQUhqXi0DBLrF2NebdYwsfp3ROphsdrRX/+wVDSQFZOMqyQJ4F5BlI1\n",
       "b4NXqnAiziSS6guaZ4rwKcBBXJgR9iyZaVpBFD20kssukFAyCsNScViYZdauJrkNaUz2vFywouxP\n",
       "EQwlDWTlIMPn5EmQatNwm3zukQH/GR/wC5SOeeh3OkRSa2vfnF1ba3p3ka6C1ffVvANwB+A2LkzX\n",
       "ybmHza51WODD0P5TG61c2wXeHtXtikfKfu2t/lwWkrgKztpXU4bBadHJFJ+s5huspMW9RjRksy/N\n",
       "/grRaKBk3Gawsp1uQKkONx6Thsc5MO9ByhlSoZOI1ffVnIcsOYNt4EIaYFvOeYzqoZVdduHJNquY\n",
       "G635tXf7C5tUnLWfhmTrEjqDpRs+Xss0kNmKM2HDaKBkbDBYK3mpAB+TX1O4gfkP9LVhsG7cjxZW\n",
       "Xt834FtsGE8pV3LSVBY9tJI1F+i9TchYFZM1v/Zuf2Fhtlj7aMhxewHta0oFH69lGsjsPRhpRaKB\n",
       "kzHF8AN5EpQm4Ldk3hPWLRgoP9lXjBxWXn/+xnhiqYWb3KevEVjChf2CvX/JdMNGO0/rUbpLa7hA\n",
       "Qsjwit5sS/2FZpuxXjw12hy7ImW7RV6+ogySoNRlr2UayOwHkbMtes0iv2TtzImrydWUZxKRrqcq\n",
       "FfuwLGyw6XXrXbAegoLVP7JRTTcTTay5Dj/ZxwvhEC68bcmG/DAmrYFWnh+0bCChZLhhOdtyf84G\n",
       "2+qTP1wFY21+dAa+gHFMfKDaj69OyYa8pyV7LdMQzQpndpmG7TWKkuW1ddK+SZ4E5ubh4Se8YX11\n",
       "7x+bhMzNorQCU8qrYD9cBav/0H4yhu1gOprn6GnrAi7MCVvMnuffl+6ZNNAiDTJ1F0goGW7Yk22p\n",
       "P3tSrdp9Zio4/pS18WKZLGjHpcxck69nD324z+O1TEM0S3h+DQoaqz5Rsrxmkb8AGeJFpiWu7t5V\n",
       "wvgx3qXVJvzlvJKRxpC3VetBt0qdp0W3KrsFYFkXX+0+7Z3+ol1iDRRyy2xbFHzLpvZazrYlQ8VY\n",
       "NLjXNPIE1nW5HFZ0sf4wPBDr88OX8DiM5Hw09o2/U7gY5Hfnab2b498+5n2/gSx6wozbO/1F+xyR\n",
       "biUaRrsV9r1E7bVDAzU2KkY+Dg3utf3x6zJw4LAi+1duvQ0xxGiTAbWU8tEMyQX9gf+n0XFa60+D\n",
       "QTZnNlRkkrVO9DdCZndfowJx5TIE0hi69Wcxttcs8hRHLVB58K0Zv68yOzvtOHSzTXgNhvcFOeKc\n",
       "uxpBhjpOa2+VpdSGgozx7J1CB/r7HnrzxmYxdrZtrxU0vtrZie+1M6eNAkcXJOGN8K7AcamB1h4B\n",
       "sch0TXR4TSNP8B+XAWS0o++IwQAAAABJRU5ErkJggg==\n",
       "\" style=\"display:inline;vertical-align:middle;\" /></a>"
      ],
      "text/plain": [
       "((a_{1} +  a_{2} +  ... +  a_{m} + b) + (-c - (a_{1} +  a_{2} +  ... +  a_{n}))) = (a_{1} +  a_{2} +  ... +  a_{m} + b - c - (a_{1} +  a_{2} +  ... +  a_{n}))"
      ]
     },
     "execution_count": 35,
     "metadata": {},
     "output_type": "execute_result"
    }
   ],
   "source": [
    "Add(Add(ExprRange(k, a_k, one, m), b), \n",
    "    Add(Neg(c), Neg(Add(ExprRange(k, a_k, one, n))))).quick_simplification()"
   ]
  },
  {
   "cell_type": "code",
   "execution_count": 36,
   "metadata": {},
   "outputs": [
    {
     "data": {
      "text/html": [
       "<a class=\"ProveItLink\" href=\"../__pv_it/demonstrations/00b9f2166567cebaeb4907ee30078b0307fbc8420/expr.ipynb\"><img src=\"data:image/png;base64,iVBORw0KGgoAAAANSUhEUgAAA/oAAAAVBAMAAAAEMohYAAAAMFBMVEX///8AAAAAAAAAAAAAAAAA\n",
       "AAAAAAAAAAAAAAAAAAAAAAAAAAAAAAAAAAAAAAAAAAAv3aB7AAAAD3RSTlMAInZUiRDNmWbv3US7\n",
       "qzJazP2FAAAACXBIWXMAAA7EAAAOxAGVKw4bAAAGW0lEQVRo3s2aXWgcVRTHz+xms9lNslmLIpSG\n",
       "pGmrQYzEQQLdBw2haBFSFpFSIWXXh2IQxH2IGoqQRbARDHUrFGqrNZBKMcUQfEoepNuCiC9tWKv4\n",
       "Ioz1QcxDu5qmCIXGe+/Mnfu58wE7gwfOpJyde+/v3P/cr5kCQB5sj8+MQCHOIsDLQ+vMDfhfmRFN\n",
       "laTaxKjtMVr3oBLa53V/FHjfch4KJn7bF40CRIXnHI/Jps6jy7AcTY57lYkCL1FlHgqmrZb6cdH3\n",
       "nkhwhm1PlW2Pzd5A3lmUgkc9uygSvBOch4Bps3VWfG+JBAcrgDyNnv10NYbZnraxhbyL5rzm/J31\n",
       "KqrBW/NuI8gP85yLNhuD6jSBPv9FbTZonmt+jXGGFUCeQf/MxJBu0lnru7fx9awTNZ2/Na+iGjzT\n",
       "s41AP2SKzEWrxdAdNIGrRd9ba0HzNP0a4+0s8TF0HYtR/Q6y0E2LXEnPuX0sEvU7q8zFm8sxqv+y\n",
       "f8eVI1F/mvgMus7wZ4Fbe3V1twi3tP6JXXrizsYImuwmRa40v7HpGDotFp1R2ze1WP7qc1gdG8zF\n",
       "hWbcKw/PcMsDltJ7NIG3hn6S7p0YtlQcsT1dOkHU5zEmiU9zIxHber5nW1NBi3DLVf4M3CxqBSid\n",
       "SP0NcErk4sefsQTvq4+p1L6pxfJVn8fqKjMHOLmM7RsZRs3DK9zS1N5zEkjdL5bENw67R9N1ZY6S\n",
       "2tOlE0R9HuMU8SV0XeL21+cgrTmEtAi3tNeqcFIvwAtF+BTgoMiV5fY+2XF8A29LavumFstXfR4r\n",
       "WWMuGA+j5uEVbnloUXuPLnnbkBGhL8kBjCO1p0sngPoCxkHiF9AVeepN8vBb6Sbu/pQ9No+S2Aqe\n",
       "fkj41cmfxbCUpFMH+uccToObvZaXvz6/vIzn2HcB7gHcdcbbZ/Z4y6yyWueKUtsYT8Bi5Xgsrg1p\n",
       "Jmc/8Fi5JnNxO8jDkALHyrr0Uod+K4ph6aQm9R4zLoEy9I3zdaS35a7EODyGnI6DweqUTO4tx+4S\n",
       "d9R3U69DaRVuPyX3CAlXAj/xn0PqgX74XYJudOZbF59KnCErKtsFFcvUYvmOfR6ru8ZcUV/IIze0\n",
       "qEsvHXg6tDF1wxGpcXVUulWDI2EI6TAMv7EvYKwTl2b+0iB8gv4UpPJ2+AEMWMGmun+gq6kXYIs8\n",
       "3oWWMz8qKtuSimVqsfzUF7CSi8yFdV+EwQWSi7r0+laNh8HUd+g1gqDj/lxRulVdiGQMIR2G4ae+\n",
       "gFEgfh1dr3Otj8IvybyqPgl/GFj9LegtP9s1e3sksWCJ6j/EqxUsiFw9XM7/ouEo1nZdxTK1WL7q\n",
       "U6wn8a6vzlwwDsYuoKpv11MMrD7BnD89tDF8Q1LfQosxb32oc1ZlHBlDTKcYWH2Kgd+1LRCfBHb+\n",
       "Im0lL6fVse+E5eNpCb8mvg/ORRCsUKkcW69mNhIbovq/wg/cGdNkpy9qaMN/RKxsUsUytVjuuULG\n",
       "oj+4WHn7JEVdMB6GFFDUd8LOuwv2ULhNlspq76U+PgdfwIiYQG+1R3zVizb8HZaCI2EI6TAMk8Mg\n",
       "BBTDlDDOOArMwCa6bnIZNI70P6Oq74RzX0mzEka/DPTC7Pj+3xvWY0+gZ5t2LiU+/hI+UF0ROyHH\n",
       "dWPH4Q+kw9SmimVqsWgbCpbbOMVCLWRXmQvGw5ACqvp2GDYlULfJbEXtPeOVMpr4pMc+dUt+j3vo\n",
       "owMqjoQhpMMwTA6DEFAMU8LYdhS4AllUPKvM5wX9FLInzCEXoAF/uauoMCsbi9IhZcWrGoZX0B9u\n",
       "KFbAd30NsuXZzbloCkxSv7szvg/VG72DuZq7xTKDl1tRMMR0XIxg7/p6B/E+FyuA3HndH0h9o2KE\n",
       "+n8WF+FpGMhpvky4323o94d5r2oYXkH73cLFCviV5yK8l7M/nlAXbT6g+o/DI2F6I2Ml6kbT0iTg\n",
       "bfMKhpiOixHsK0/GSlcs9+PeNbA9gPp77vwZZvAbTTTMFtK6iuRAj+dTda3dWCvPg4E2e9T9YPTq\n",
       "GzfuvBNG/QE07LrqFQhrLk67MLJ/WEQB7FOO8/bo2xO6gl/u7IRpp3sDXof+A15yuitj3auiqXZj\n",
       "7a+SPqXuA2O8eE+3pGR2dpph2v0OOvNGoxhafYrTNozEYTbmjUHbY7SE2uOeH02iwNvLeSiY+G1X\n",
       "NAog/w82l1VUVNnNqQAAAABJRU5ErkJggg==\n",
       "\" style=\"display:inline;vertical-align:middle;\" /></a>"
      ],
      "text/plain": [
       "((- a_{1} -  a_{2} -  ... -  a_{m} + b) + (-c - (a_{1} +  a_{2} +  ... +  a_{n}))) = (- a_{1} -  a_{2} -  ... -  a_{m} + b - c - (a_{1} +  a_{2} +  ... +  a_{n}))"
      ]
     },
     "execution_count": 36,
     "metadata": {},
     "output_type": "execute_result"
    }
   ],
   "source": [
    "Add(Add(ExprRange(k, Neg(a_k), one, m), b), \n",
    "    Add(Neg(c), Neg(Add(ExprRange(k, a_k, one, n))))).quick_simplification()"
   ]
  },
  {
   "cell_type": "code",
   "execution_count": 37,
   "metadata": {},
   "outputs": [
    {
     "data": {
      "text/html": [
       "<a class=\"ProveItLink\" href=\"../__pv_it/demonstrations/86537b3cedce3b525661941ce1e3902074b8b6430/expr.ipynb\"><img src=\"data:image/png;base64,iVBORw0KGgoAAAANSUhEUgAAAp8AAAAVBAMAAADycpisAAAAMFBMVEX///8AAAAAAAAAAAAAAAAA\n",
       "AAAAAAAAAAAAAAAAAAAAAAAAAAAAAAAAAAAAAAAAAAAv3aB7AAAAD3RSTlMAInZUiRDNmWbv3US7\n",
       "qzJazP2FAAAACXBIWXMAAA7EAAAOxAGVKw4bAAAEr0lEQVRYw7WYX2gURxzHf5u7zd6fNDmlUCgV\n",
       "z1aoFJQoGjB9aAhCS0vCPpSWgnL3Ikof9B5UgggegvpSNBYKagUDpkivNFz7FN9SS+lbm4a29KVw\n",
       "+iIopLExKgQ8f7Ozf+Y3OzPZJdkffG/1m9nf77OzM7OzCwAV4Mo4rESWEBvPVAH91VobVQB6Brmy\n",
       "jnI1Zr1lap8B04+CUrGkKQB7fWUZB6/jzw7ZzY2YzsmAqacZKc7iQa6/gF3nyjaOoHpdyfzEdEYm\n",
       "TIcFxVmObEgBp8klxaz6hFndfG6a7WVUoSGZEya0xEya0so/XBREY8KHXGdg4iJwSbFHfYLGhlzV\n",
       "aJdX2O9XUttJE1piJk1p5R+KbiQakwHk+gITD+FhKOsOzU+x36PUzBkn9VAWHdrbjETb1gPI9QUm\n",
       "PoEHJuvPbVUFvMbWwm8Z3aywexd24jN7jJqO+EzKv3mJZjQwqWskYcrPR6ILzEgACSYoWllhY+Kj\n",
       "/tC5U+lbUcBrbO3cvgK/u3G7dth+DHBB6mVhmFi34AzNqGfS1EjCVKhHAjjdYvF9wMIhwQAlVVbY\n",
       "mPgWHlD2VXCm4vAaWwv/WRNOK+z3XPgSYD81S8J4KI2wBmLomTQ1zEx8356bjESCsXBIMEBJlYkd\n",
       "FvgaDyhniZ1v80GEt+4av3Xc/njsL2pL86XV+vZ6q8Wm0VmAabA+mh2k9imAJwD/UbPYxt2KN0hm\n",
       "4Cy/w8F/jUxeDfvAvy5NZ2Zyfl5cBOhfikQfJu0A0v7cY+iwE2UoLxMuBGxqie1IAb9Di3NQa8P9\n",
       "d6TRwO1GeGPWGqE3wF6F8s1pyZ6GMu5J7lCTXUQQN2IZ9UxeDSccvGuOUK99X7f7DCfnZKRYh3JI\n",
       "MEB5meCYfDtoAX/K16pwGf81LMFzexW2dhJ1qP0/FJag3JGvaRmclTC5YsrjeXJomXiNgbb1IlmH\n",
       "8vYO4LCA3FQksoYyFg4JeiieKd+AtsIOC9xFC1UbhL9zlXiHevb5xB26DK/Ud5cf7ZM69AVbZ+AL\n",
       "avYJPfEcby7NqGXiNQpu4g712luQxwlcmItEgrFwSNBD8UzFH/ZJ/UwLsL3MGMuYu+3ER6hvw4dS\n",
       "P9f9H/spvaq7MNxolP84NEjtf+BXfyckbk6FlQ+fpuMUU8/k1Yi2jeFOIsCp1RVMAO/6u6NAdIM0\n",
       "H0CCAcrLVBv/tAlxOyzwEA8oe2F8y644vG/3f0PtUiP4uU3hD22/t9CJFv3Qfp8xfEfNfuEJnv/g\n",
       "nLQf0TP5NR660goS4JQaKiabDcpSOxIJxsIhwQDlZdralHZXUoESspXCRW9YvT96w03zppTz1u6Y\n",
       "bclPkRnTO8daTNYv6d6UCmxQvi6Ixkzil6GBDlsL4hEUYJ8sgs8WAjz5EGE1rEqKjyMDHeuxwg4+\n",
       "d4TmRRP3WkyvwaZUH0e814gJQfHPJskCB+Gq5q2TJ/7JF4WnA3TxgZvihdZxe+ZVWWSjz/hN3sxk\n",
       "/bZ4MtVb9gBerzUXKRULvdP9U6YCcNAXi1ePj6ra3ux207DboweMPRS2mzN+lDYyFbvdpVQdypYQ\n",
       "1muBUrGQ2P62ayoAVpUr6+iJX8VmU/sMmLYJSsWSosBLYtKzFJbZ1rYAAAAASUVORK5CYII=\n",
       "\" style=\"display:inline;vertical-align:middle;\" /></a>"
      ],
      "text/plain": [
       "((a_{1} +  a_{2} +  ... +  a_{5} + b) + (-c - (a_{1} +  a_{2} +  ... +  a_{7}))) = (b - c - a_{6} - a_{7})"
      ]
     },
     "execution_count": 37,
     "metadata": {},
     "output_type": "execute_result"
    }
   ],
   "source": [
    "Add(Add(ExprRange(k, a_k, one, num(5)), b), \n",
    "    Add(Neg(c), Neg(Add(ExprRange(k, a_k, one, num(7)))))).quick_simplification()"
   ]
  },
  {
   "cell_type": "code",
   "execution_count": 38,
   "metadata": {},
   "outputs": [
    {
     "data": {
      "text/html": [
       "<a class=\"ProveItLink\" href=\"../__pv_it/demonstrations/b2d56bc8c86a523d4a27cf85a2b1d99db0a0a52b0/expr.ipynb\"><img src=\"data:image/png;base64,iVBORw0KGgoAAAANSUhEUgAAAPYAAAAVBAMAAACH7A7XAAAAMFBMVEX///8AAAAAAAAAAAAAAAAA\n",
       "AAAAAAAAAAAAAAAAAAAAAAAAAAAAAAAAAAAAAAAAAAAv3aB7AAAAD3RSTlMAInZUiRDNmWbv3US7\n",
       "qzJazP2FAAAACXBIWXMAAA7EAAAOxAGVKw4bAAACY0lEQVRIx7WWT2jTUBzHv1mMSZrOVhEEYZjJ\n",
       "QBCUKuKhF8soCILyrsJGehl6EXtQGbusJz3676LTQ8HBNCAUT3paHYh40VKHeBGqRw+uM9aLsPl7\n",
       "aQLNewk0hwRe+vp+v9/38/783nsBUETmTxJiopQ9+1VC+5lssdqHJo2vITbPrXBbLeMx763Ta0Fq\n",
       "vkJFl7qE17EaViNBPMEQqhT4mt6RzB4VU446Haul2gnsBEOoss44hYkdHtDrbNbsC/7Ei3Ozh7IA\n",
       "N6gom9N2TNTU7IFU7Kh/qHLt6GdCdcQs6J4o4SpV3hTzAznKuo9PLAVb8A9UtL/MKcLwM3rJ5c9L\n",
       "XnUWtG08I/Mj6E1ot4Woyw0sQat+Y2OyfX9UZ6Iq6gCmDfWeEHSO4QGeUKr3kavgx3EEfXs87Nsy\n",
       "sAqdd4tcXPfFiut2JPCIwfc3bKsdUdFrKFSwry/E3QL+cLbZhtMCysK4n0L7h0JL2Rlz3L6/2cN2\n",
       "RIVGtV6CJY57FZbH59yxcRcSW/sNow+Djcse+h9heBhh0/ZeZlCbwnp70AfYIHYJX9SixPYwWTsV\n",
       "7IZx2L7/FsPzKLtH6QSjLQTt8PS4CORtdU2X53wD5Tqdhz+FXHNqPHmDyqjB99/iOTSqMtnIk4he\n",
       "Edhf8Z6kSal7aeqkzJ6f+d7tQXknLGuOn89rYWXE4PvTnHvRPba5yH1bAnv+PJ02uV74txx7rh3C\n",
       "/jTnmpRrw+dwbKRRl9ijd4ny8dfNNHfJhG11Ym6kxfjQt8HvweuzMVZzd7ef6sqsHmNyo9KOd57L\n",
       "/rMF+YSPJsXOnj0d2/ofrdOnaDXSfmQAAAAASUVORK5CYII=\n",
       "\" style=\"display:inline;vertical-align:middle;\" /></a>"
      ],
      "text/plain": [
       "(a_{1} +  a_{2} +  ... +  a_{0} + b) = b"
      ]
     },
     "execution_count": 38,
     "metadata": {},
     "output_type": "execute_result"
    }
   ],
   "source": [
    "Add(ExprRange(k, a_k, one, zero), b).quick_simplification()"
   ]
  },
  {
   "cell_type": "markdown",
   "metadata": {},
   "source": [
    "### Simplification\n",
    "\n",
    "The following simplifications come with actual proofs."
   ]
  },
  {
   "cell_type": "code",
   "execution_count": 39,
   "metadata": {},
   "outputs": [
    {
     "data": {
      "text/html": [
       "<span style=\"font-size:20px;\"><a class=\"ProveItLink\" href=\"../__pv_it/theorems/a259ec76dfb0a5be60b7c83d797520fa82c1dba60/expr.ipynb\"><img src=\"data:image/png;base64,iVBORw0KGgoAAAANSUhEUgAAADEAAAAQBAMAAABNQoq8AAAAMFBMVEX///+YmJjMzMzc3NyIiIhU\n",
       "VFR2dna6urqqqqpmZmYyMjIiIiIQEBBERETu7u4AAAD7tRWPAAAAAXRSTlMAQObYZgAAAAlwSFlz\n",
       "AAAOxAAADsQBlSsOGwAAANtJREFUGNNjYMAEz26vclZjYOC7swFNgiVGgG/+TSCDawKazJQyBgZG\n",
       "kAx/A6oE04R7QDISiOsfQIV8d+9eAKRYH1wAkg+BOBsqUeUHoXmZYcYvdYkAUczroHxTpgQIg+/X\n",
       "g/cGIIcYQGXU2AUgDI5/DDwOIBmYCyzZHSAMzgUM/CDtOruB4ALYHqhp3AkM9SB3v4Xp4QW7DeKd\n",
       "+SB3c8Nk2MH+YQfKKPAdBIeJAzwMSoHELKDHBHgh7l8BD7dbk/m6gWJ8YRMhAk+vwwLj2Z3fk1EC\n",
       "rOw2OHRgAAASXDjITT81JQAAAABJRU5ErkJggg==\n",
       "\" style=\"display:inline;vertical-align:middle;\" /></a> <a class=\"ProveItLink\" href=\"../__pv_it/demonstrations/c700428af9a83ed4298f43f6779e9f1267211f720/proof.ipynb\" style=\"text-decoration: none\">&nbsp;&#x22A2;&nbsp;&nbsp;</a><a class=\"ProveItLink\" href=\"../__pv_it/demonstrations/7834699968cb4aef3db74e85b7cf092ed30fae310/expr.ipynb\"><img src=\"data:image/png;base64,iVBORw0KGgoAAAANSUhEUgAAAMoAAAAVBAMAAAD1I2xhAAAAMFBMVEX////MzMxUVFRERES6uroi\n",
       "IiIQEBCYmJhmZmYyMjLu7u52dnaqqqqIiIjc3NwAAACW8nlqAAAAAXRSTlMAQObYZgAAAAlwSFlz\n",
       "AAAOxAAADsQBlSsOGwAAAi1JREFUSMedlT9oFEEUxr94e+feXrKXxtpwjYVKUgUb/1RJmVNcEUwR\n",
       "JFEIBBbSJI1cI0FS5LAxpDoSEKzuEATLNAoih4sgNioHqVMkXaKIb/Zmdmbn7SayC/f2+O2373sz\n",
       "b2YWwAAFL///WIzG9ou6OBFnP3Jkn+FNN9P8fIC9JQrfWcbRHoWRFpN5baDassTnA2wL2rHpGxHK\n",
       "E0zmhkBdTdqsvCfACXMA/tDvIvPeEOGb4SJlFbrNqZr68p6A0SgHOKciLtsuC2LC1rWLkn2i+A6W\n",
       "SwJUUgZqcaNe2W1pi0dV7aJkmxRf/ryWdkmASspA9fpXmsS3losrmv/LcFEyKsc76XQHposGMikD\n",
       "6O54f4F18fd5IK57cVLqmh8aLko2T2+eohKZLhrIpAzgSwcrwEdrLGUqvAbDRckWaZxt1HtxTU+G\n",
       "NUngBsGDpSCYyAB4AfwGLlsulTvAs6GLdwJDRi7lHub2zbFoIEtnAI/g0CKd4S5+JMfy0JTNx5th\n",
       "q2O6aCCTMkD7wKVF+sHqC82Y02hMPu7p7TKU3aQc497T1BrTQLnYAEd4TZ1etcZSip9WdF+UjBbj\n",
       "hbDUSrloIJMygCu4QXHTcqnF+etTCVCyS9SoqxvpXamBWsk2wO57cdTct1xGxCZ0bx8nh7WSlccN\n",
       "VZ+dsdFZwLdPatzN/A410yfeLPs2hGcB136KtSwXIbuFwtcBI6VBjmyvuAsv0JvKkflRUZOxjMIP\n",
       "M2X/AG6dvAbE97AJAAAAAElFTkSuQmCC\n",
       "\" style=\"display:inline;vertical-align:middle;\" /></a></span>"
      ],
      "text/plain": [
       "{b in Complex} |- (b + b + b + b) = (4 * b)"
      ]
     },
     "execution_count": 39,
     "metadata": {},
     "output_type": "execute_result"
    }
   ],
   "source": [
    "Add(b, b, b, b).simplification(assumptions=[InSet(b, Complex)])"
   ]
  },
  {
   "cell_type": "code",
   "execution_count": 40,
   "metadata": {},
   "outputs": [
    {
     "data": {
      "text/html": [
       "<a class=\"ProveItLink\" href=\"../__pv_it/demonstrations/8d9988757869431ac5d760705674977c5bf036d50/expr.ipynb\"><img src=\"data:image/png;base64,iVBORw0KGgoAAAANSUhEUgAAACIAAAAOBAMAAAC4B9O8AAAAMFBMVEX///+qqqru7u5EREQQEBC6\n",
       "urrc3Nx2dnYyMjKYmJiIiIhUVFQiIiJmZmbMzMwAAABQcPw9AAAAAXRSTlMAQObYZgAAAAlwSFlz\n",
       "AAAOxAAADsQBlSsOGwAAAIdJREFUCNdjYGBgeMsAA8o+EPo0XIShF0xyIYl8BJMvu+ECrJ/AVAFC\n",
       "hP0AWFMCQoRj12oBBoZMBoSIfhPTN6AmJBF5BQYvBs4EiIh+A5C4wcDwnSGLASLCcwFIHGdg/cgQ\n",
       "vXv3l+0I5/CC7feGm/OPQWUCiP4MF9nJYAuiLv/fBRPRrp3AAADSwiNRf+o7ZgAAAABJRU5ErkJg\n",
       "gg==\n",
       "\" style=\"display:inline;vertical-align:middle;\" /></a>"
      ],
      "text/plain": [
       "4 * b"
      ]
     },
     "execution_count": 40,
     "metadata": {},
     "output_type": "execute_result"
    }
   ],
   "source": [
    "Add(b, b, b, b).simplified(assumptions=[InSet(b, Complex)])"
   ]
  },
  {
   "cell_type": "code",
   "execution_count": 41,
   "metadata": {},
   "outputs": [
    {
     "name": "stdout",
     "output_type": "stream",
     "text": [
      "Help on method simplified in module proveit._core_.expression.expr:\n",
      "\n",
      "simplified(*args, **kwargs) method of proveit.numbers.addition.add.Add instance\n",
      "    Return an equivalent form of this expression derived via 'simplification'.\n",
      "\n"
     ]
    }
   ],
   "source": [
    "help(Add(b, b, b, b).simplified)"
   ]
  },
  {
   "cell_type": "code",
   "execution_count": 42,
   "metadata": {},
   "outputs": [
    {
     "name": "stdout",
     "output_type": "stream",
     "text": [
      "Help on function simplify in module proveit._core_.expression.inner_expr:\n",
      "\n",
      "simplify(*args, **kwargs)\n",
      "    Derive an equivalent form of the top-level judgment by replacing the inner expression via 'simplification'.\n",
      "\n"
     ]
    }
   ],
   "source": [
    "help(Equals(c, Add(b, b, b, b)).prove(\n",
    "    assumptions=[Equals(c, Add(b, b, b, b))]).inner_expr().rhs.simplify)"
   ]
  },
  {
   "cell_type": "code",
   "execution_count": 43,
   "metadata": {},
   "outputs": [
    {
     "data": {
      "text/html": [
       "<span style=\"font-size:20px;\"><a class=\"ProveItLink\" href=\"../__pv_it/theorems/a259ec76dfb0a5be60b7c83d797520fa82c1dba60/expr.ipynb\"><img src=\"data:image/png;base64,iVBORw0KGgoAAAANSUhEUgAAADEAAAAQBAMAAABNQoq8AAAAMFBMVEX///+YmJjMzMzc3NyIiIhU\n",
       "VFR2dna6urqqqqpmZmYyMjIiIiIQEBBERETu7u4AAAD7tRWPAAAAAXRSTlMAQObYZgAAAAlwSFlz\n",
       "AAAOxAAADsQBlSsOGwAAANtJREFUGNNjYMAEz26vclZjYOC7swFNgiVGgG/+TSCDawKazJQyBgZG\n",
       "kAx/A6oE04R7QDISiOsfQIV8d+9eAKRYH1wAkg+BOBsqUeUHoXmZYcYvdYkAUczroHxTpgQIg+/X\n",
       "g/cGIIcYQGXU2AUgDI5/DDwOIBmYCyzZHSAMzgUM/CDtOruB4ALYHqhp3AkM9SB3v4Xp4QW7DeKd\n",
       "+SB3c8Nk2MH+YQfKKPAdBIeJAzwMSoHELKDHBHgh7l8BD7dbk/m6gWJ8YRMhAk+vwwLj2Z3fk1EC\n",
       "rOw2OHRgAAASXDjITT81JQAAAABJRU5ErkJggg==\n",
       "\" style=\"display:inline;vertical-align:middle;\" /></a> <a class=\"ProveItLink\" href=\"../__pv_it/demonstrations/0c0159f522db5dc8cc48b4f4088dba5bedca0a200/proof.ipynb\" style=\"text-decoration: none\">&nbsp;&#x22A2;&nbsp;&nbsp;</a><a class=\"ProveItLink\" href=\"../__pv_it/demonstrations/59cbb610037f32b2d7d9fc470e0f319f0b3d20820/expr.ipynb\"><img src=\"data:image/png;base64,iVBORw0KGgoAAAANSUhEUgAAATMAAAAVBAMAAADY9BTyAAAAMFBMVEX////MzMxUVFRERES6uroi\n",
       "IiIQEBCYmJhmZmYyMjLu7u52dnaqqqqIiIjc3NwAAACW8nlqAAAAAXRSTlMAQObYZgAAAAlwSFlz\n",
       "AAAOxAAADsQBlSsOGwAAArZJREFUSMedVj9oE2EUfzG56+USL1ncSxcHFW8SFzVbJ2kVKkIdilid\n",
       "hNvURbJIEQeLS6XTYUFwyiEIgghZRYpBEEG0ZOkoqFtjEN9335/c+/4kRx68Nvml7/f7vZf3fVcA\n",
       "GIItIpg3hmDnLK2jCI73rSXf57Z2WaQW5XUUwUdrRTODvU0Nmw2E51bRQ8JTC6cOQKVrJQi3rSWv\n",
       "MJ/r4GygzkR2RVLXbh3wFq0EQWIt2cIci9c1+ScSgGUX0GLf2n2RJKbowJeJtSKBb1+YDXQ0kkMf\n",
       "CIsSgH0HACsp/vBTniTcOlB5MLFWJPhgXwEcf2NVs6YA6cQA4E3+pSQ8Sbh1oFGfWCsSPGGv339t\n",
       "a+PH7ayf+dwn1hQgnRgAPPtxGqUWeZJw68BBwVqRYAffH/aDGH89WmNxVfru7Yb/iDUFSCcGEB6l\n",
       "vSEs4ChYQpATruXCbp0omVgjBDcQWAd/QLvxcBqfUrhLrClAOjGA5ogxNXGBWJJw6zRgYo0Q3MLm\n",
       "RsYO+B2AxwB/886vbfLOOcCavs2bNoBgG1oZVH5BniTcOg+5tfBIJ8ASP7aWrENtTKamADkkA/Ay\n",
       "WOlDjR3vDdOaXScaiKld1wlw0D0hXdgBNuixbFNaU4B0YgB4Kz1NoYkHlyXZNadObWnp7M0MLAQX\n",
       "8D3uYod2U0WW3/AyIdYUIJ0YQKsd3sENjnmScOvg7NSuEYLX2FwMDe1Qs+N7Es7Te00B0okBHEuq\n",
       "XX4jBJlmza2DhlQfhOAEAu/ufdOIKjjSF28Tak0B0okBhKfYg8fr8CTh1oHg0h95cAmB17Ze01eK\n",
       "V/ZA/3R/KnAokl4Ts3V0goWutaT4eK4ZT+blqcCWfGwXo4SOQXDRWlIdzv2vZBTz1KK8jiLYs5aE\n",
       "8dzWmJpFsbyOIogG1pqfc1s7EKnPorSOIPgP8IYHtRHwuXUAAAAASUVORK5CYII=\n",
       "\" style=\"display:inline;vertical-align:middle;\" /></a></span>"
      ],
      "text/plain": [
       "{b in Complex} |- (c = (b + b + b + b)) = (c = (4 * b))"
      ]
     },
     "execution_count": 43,
     "metadata": {},
     "output_type": "execute_result"
    }
   ],
   "source": [
    "Equals(c, Add(b, b, b, b)).prove(\n",
    "    assumptions=[Equals(c, Add(b, b, b, b))]).inner_expr().rhs.simplification(\n",
    "        assumptions=[InSet(b, Complex)])"
   ]
  },
  {
   "cell_type": "code",
   "execution_count": 44,
   "metadata": {},
   "outputs": [
    {
     "data": {
      "text/html": [
       "<span style=\"font-size:20px;\"> <a class=\"ProveItLink\" href=\"../__pv_it/demonstrations/ca100e6b6aeae044bf5a107f7af1155d70f622490/proof.ipynb\" style=\"text-decoration: none\">&nbsp;&#x22A2;&nbsp;&nbsp;</a><a class=\"ProveItLink\" href=\"../__pv_it/demonstrations/c1ad255c3dcb310c751af460e5d8a06def4b31440/expr.ipynb\"><img src=\"data:image/png;base64,iVBORw0KGgoAAAANSUhEUgAAAKkAAAAVBAMAAADP89MSAAAAMFBMVEX///8AAAAAAAAAAAAAAAAA\n",
       "AAAAAAAAAAAAAAAAAAAAAAAAAAAAAAAAAAAAAAAAAAAv3aB7AAAAD3RSTlMAInZUiRDNmWbv3US7\n",
       "qzJazP2FAAAACXBIWXMAAA7EAAAOxAGVKw4bAAACAklEQVQ4y6WVP0jkUBDGv5isyZo1bm3jWgk2\n",
       "LiLX3p4IVmIqRRFckAMbUeFAEeH2LE5LLSxURMHKgLBYiFpFwXoFC6vV5UoLEf+hB4c32ay4M0ka\n",
       "90HyXr738pt58yYTAEl8vkW+W5eugbofNdFF140tRK17Wq6zpviz0jOfR11OLov19ObpnkXsclJS\n",
       "xzAsN9dwzp8HoT4A3yVVBy7o7lnreKce+p2xDc1lCtBeoZoV9zrSsWdgUVKXgAEgjmpqp98lzqE+\n",
       "MQXW7wpVTfn9UR5Ejctd9pWpX8KoTVOwHjhVqxdUGr0A9TKwX88wC/wIo44S9YVTW4PUYyJqItpo\n",
       "fGujpBoPo7ZkYN0zRckFqH+KJTqBrDecc7y2V5Z//qVz3omiPjJFQ0gEKEjqsvBV/VYgeeODShbX\n",
       "fIujGZj3TPnlU3XH2V13nIqBLRvWnaAuQn21q6nstFR2Wkoq4OstUEjDlL6u0k7T4RFIuDBYZpnF\n",
       "4vVmhlHfbI+qbvO4xsj3xhxOw6jGMvQszwHEha+b5QgYrvB1hXxKelkL9Cc5lXYwVBLUJpdTl8r5\n",
       "qmcE9cDGAhUWGhW3JnKcMdh9JezohX8pRjVnqLqgIS+L0OWMJ5eqtc5ASQsoH5nltebwQmiwAncY\n",
       "mA8oJvtGZyPq60kNRRuKGzExUgs1EfWLUVI1UFvD5f+0R4yySPz8bAAAAABJRU5ErkJggg==\n",
       "\" style=\"display:inline;vertical-align:middle;\" /></a></span>"
      ],
      "text/plain": [
       "|- (1 + 0 + 4 + 3) = 8"
      ]
     },
     "execution_count": 44,
     "metadata": {},
     "output_type": "execute_result"
    }
   ],
   "source": [
    "Add(one, zero, four, three).evaluation()"
   ]
  },
  {
   "cell_type": "code",
   "execution_count": 45,
   "metadata": {},
   "outputs": [
    {
     "data": {
      "text/html": [
       "<span style=\"font-size:20px;\"> <a class=\"ProveItLink\" href=\"../__pv_it/demonstrations/058160544dc15ae92a0b4a811b6060ba31abd3080/proof.ipynb\" style=\"text-decoration: none\">&nbsp;&#x22A2;&nbsp;&nbsp;</a><a class=\"ProveItLink\" href=\"../__pv_it/demonstrations/e2f68792821947c5ab6e53d0eb7d1c776ecdbc090/expr.ipynb\"><img src=\"data:image/png;base64,iVBORw0KGgoAAAANSUhEUgAAAKoAAAAVBAMAAAAkxGgRAAAAMFBMVEX////MzMxUVFRERES6uroi\n",
       "IiIQEBCYmJhmZmYyMjLu7u52dnaqqqqIiIjc3NwAAACW8nlqAAAAAXRSTlMAQObYZgAAAAlwSFlz\n",
       "AAAOxAAADsQBlSsOGwAAAddJREFUOMullb1Lw0AUwF9jP2Kbhjp0ErEUUcf4B6hdtJNYChERhyLq\n",
       "2uKiY0GKKS7FRXCx6OJm0dGhXUWKnR1sQfyYpE7SIsa7xtS8u8tiDy53/eX6y8vL5QUAWvD/5vrf\n",
       "cG0A6xJHXsu94Y70aJk591acwUC92U8wazxrJKQca703TTMDwRIEp08Zq6pBFUsuQPnCa86KXXI8\n",
       "Ya3XhlGogUyv1rStSWuQWuDPINKsBTvWzGuHF6bWPdZaITcK4AentW4N/i5I34gsJuDXqjScVj+b\n",
       "O/KUYgC3IquUAukDEWL7FFmHucRCKAJwKLKS5mszZCEnsoZinPWJ9GMX63gDk7F4RGQNlOi0oNOW\n",
       "tvgE6esu1jRL7D2ArUqGDVWlZPPPSq64bV9R1lgCWbJI1vWVLV2P9a2eNpfWErY6I9sBTEYA5muC\n",
       "WL1crD7NNQNKBd4RMctiq5Ji83pJb2RWaB0FeEBkw8oA/7Q0NtblPDlc0Vm1ha3qqmGkENnl92uI\n",
       "vidyhSsElERJj2ePcsjhIyWihIjXsKuLbZUmO1NkJVtz4IUmyhdxojq3pznSj7XXnsUVMpB3/kpy\n",
       "5zniRe/ogUvhnRugaNOSKW7ng1iH3D4xamMA66MY/wAknZqE0/oykgAAAABJRU5ErkJggg==\n",
       "\" style=\"display:inline;vertical-align:middle;\" /></a></span>"
      ],
      "text/plain": [
       "|- (1 + 2 + 3 + 1) = 7"
      ]
     },
     "execution_count": 45,
     "metadata": {},
     "output_type": "execute_result"
    }
   ],
   "source": [
    "Equals(Add(one, two, three, one), seven).prove()"
   ]
  },
  {
   "cell_type": "code",
   "execution_count": 46,
   "metadata": {},
   "outputs": [
    {
     "data": {
      "text/html": [
       "<span style=\"font-size:20px;\"><a class=\"ProveItLink\" href=\"../__pv_it/theorems/a259ec76dfb0a5be60b7c83d797520fa82c1dba60/expr.ipynb\"><img src=\"data:image/png;base64,iVBORw0KGgoAAAANSUhEUgAAADEAAAAQBAMAAABNQoq8AAAAMFBMVEX///+YmJjMzMzc3NyIiIhU\n",
       "VFR2dna6urqqqqpmZmYyMjIiIiIQEBBERETu7u4AAAD7tRWPAAAAAXRSTlMAQObYZgAAAAlwSFlz\n",
       "AAAOxAAADsQBlSsOGwAAANtJREFUGNNjYMAEz26vclZjYOC7swFNgiVGgG/+TSCDawKazJQyBgZG\n",
       "kAx/A6oE04R7QDISiOsfQIV8d+9eAKRYH1wAkg+BOBsqUeUHoXmZYcYvdYkAUczroHxTpgQIg+/X\n",
       "g/cGIIcYQGXU2AUgDI5/DDwOIBmYCyzZHSAMzgUM/CDtOruB4ALYHqhp3AkM9SB3v4Xp4QW7DeKd\n",
       "+SB3c8Nk2MH+YQfKKPAdBIeJAzwMSoHELKDHBHgh7l8BD7dbk/m6gWJ8YRMhAk+vwwLj2Z3fk1EC\n",
       "rOw2OHRgAAASXDjITT81JQAAAABJRU5ErkJggg==\n",
       "\" style=\"display:inline;vertical-align:middle;\" /></a> <a class=\"ProveItLink\" href=\"../__pv_it/demonstrations/33abd005bc4655d9c1e5fa2aaf5f608c49ab0b1c0/proof.ipynb\" style=\"text-decoration: none\">&nbsp;&#x22A2;&nbsp;&nbsp;</a><a class=\"ProveItLink\" href=\"../__pv_it/demonstrations/d1e180c2f809ca0eb944fde73fe5b18cc45bea750/expr.ipynb\"><img src=\"data:image/png;base64,iVBORw0KGgoAAAANSUhEUgAAANkAAAAVBAMAAAA5ulaKAAAAMFBMVEX////MzMxUVFRERES6uroi\n",
       "IiIQEBCYmJhmZmYyMjLu7u52dnaqqqqIiIjc3NwAAACW8nlqAAAAAXRSTlMAQObYZgAAAAlwSFlz\n",
       "AAAOxAAADsQBlSsOGwAAAm5JREFUSMeNlTFs00AUhp8bJ2mc1M7CbjrAABIdEBvQsUvVgmRAqEOE\n",
       "glg9lgV5QQV1wGJB6hS1U6daSEiMXiuGWkjdSpSlE0JCbIkqxHtn++y7d5Z4Us658+f/v3v3fAaA\n",
       "GQC4wGL230OG4UbBlRSbC35zk40I0kBtGtyaBL/hb5AAWM/luHNvG7VDHUfy59e7nOKkEAQrYqgT\n",
       "Y+8Y4PD9ooJ7xB1oCkg6EZylnDpgbsfUtH2GLtPE9ihPNTePJHeLjl1MHcmVKziJObXL3EgQzn2G\n",
       "dqgz0ty2Jth0JkVWsvyKpD0GL+ZUSVZBgtZrn6GnpBdrbl/E6kPV7VS0ZyGnevrGCcF+z2foPuUo\n",
       "0dw+/riNtK+67Yu0PjVQfV9zE4LTmluJfipXUXNz5pOTGXRj1Y1I6/t1A5WTbwOKx+WC3bByk+gO\n",
       "FU+qug0W0MlgMFLddvJMppwqSRkk2IfKTaJj2r516ebMKRExeAlYv+lvEDx5GQT03DivFcJEYVaU\n",
       "IOtBgm9yN1VQc4NnNLUEtlKwtbUhaQ2hdUVApFD2iLu5WbE2RdCUSXw7PkxgsM0y6S1yN43Kydq+\n",
       "oaC9unrnRaKj97HTyjS3ofMK935NdUOy4+eZ1KiSlCEEidbRz1BUcP+vhJfCVlSUcc0NyW5Ye98q\n",
       "qiRl5K+Et8bQa1TXmImlG/ObsmBv0cnTXlfdiNx4VzuVJVWSMkgQlh/+yXS0PcTrI8M3Ay5BdROk\n",
       "kbpko02C3ch4rJYna+1U7kZN1B4bbRR8QLtq+Py6+tYL0kRxslnwiPLKecMDR2CmDNKNgi5tyy9+\n",
       "c8onl5mpqWEWZsF/DAzPpCL4kJIAAAAASUVORK5CYII=\n",
       "\" style=\"display:inline;vertical-align:middle;\" /></a></span>"
      ],
      "text/plain": [
       "{b in Complex} |- ((1 * b) + (3 * b)) = (4 * b)"
      ]
     },
     "execution_count": 46,
     "metadata": {},
     "output_type": "execute_result"
    }
   ],
   "source": [
    "Add(Mult(one, b), Mult(three, b)).simplification(assumptions=[InSet(b, Complex)])"
   ]
  },
  {
   "cell_type": "code",
   "execution_count": 47,
   "metadata": {},
   "outputs": [
    {
     "data": {
      "text/html": [
       "<span style=\"font-size:20px;\"><a class=\"ProveItLink\" href=\"../__pv_it/theorems/a259ec76dfb0a5be60b7c83d797520fa82c1dba60/expr.ipynb\"><img src=\"data:image/png;base64,iVBORw0KGgoAAAANSUhEUgAAADEAAAAQBAMAAABNQoq8AAAAMFBMVEX///+YmJjMzMzc3NyIiIhU\n",
       "VFR2dna6urqqqqpmZmYyMjIiIiIQEBBERETu7u4AAAD7tRWPAAAAAXRSTlMAQObYZgAAAAlwSFlz\n",
       "AAAOxAAADsQBlSsOGwAAANtJREFUGNNjYMAEz26vclZjYOC7swFNgiVGgG/+TSCDawKazJQyBgZG\n",
       "kAx/A6oE04R7QDISiOsfQIV8d+9eAKRYH1wAkg+BOBsqUeUHoXmZYcYvdYkAUczroHxTpgQIg+/X\n",
       "g/cGIIcYQGXU2AUgDI5/DDwOIBmYCyzZHSAMzgUM/CDtOruB4ALYHqhp3AkM9SB3v4Xp4QW7DeKd\n",
       "+SB3c8Nk2MH+YQfKKPAdBIeJAzwMSoHELKDHBHgh7l8BD7dbk/m6gWJ8YRMhAk+vwwLj2Z3fk1EC\n",
       "rOw2OHRgAAASXDjITT81JQAAAABJRU5ErkJggg==\n",
       "\" style=\"display:inline;vertical-align:middle;\" /></a> <a class=\"ProveItLink\" href=\"../__pv_it/demonstrations/1d0d7ab7ae0024fe102c3bac9737994b5e36dbb30/proof.ipynb\" style=\"text-decoration: none\">&nbsp;&#x22A2;&nbsp;&nbsp;</a><a class=\"ProveItLink\" href=\"../__pv_it/demonstrations/39f0bf47e27d7846360097f454ac15f45e20e2730/expr.ipynb\"><img src=\"data:image/png;base64,iVBORw0KGgoAAAANSUhEUgAAAK8AAAAVBAMAAADC7aNVAAAAMFBMVEX////MzMxUVFRERES6uroi\n",
       "IiIQEBCYmJhmZmYyMjLu7u52dnaqqqqIiIjc3NwAAACW8nlqAAAAAXRSTlMAQObYZgAAAAlwSFlz\n",
       "AAAOxAAADsQBlSsOGwAAAiNJREFUOMuNlTGIE0EUhv+Y3c1ms7fJFZbCklbBVHZ6abSTuxNWLK4I\n",
       "h2JpOs9GAiIRLAw2gtWCjVYGwcomrdikue4801gKYiMngr6Z2ZndtzOBPPgzu7Nf/rx583YCYAVH\n",
       "JPbUCm52DYqthcv4xJ66WWhDFF8QXdmrP4nnSD49GepbSWyNlWwUaEwsNJoB7Umdfge8RfzX3Evi\n",
       "dSELBfzUQkMy7+pqeDqhKfBtEZ0ZWhJHhXhMxcdxaqEBDbu5XtayuBgBN4YojSUR5Eo8RqISj1IL\n",
       "/UzDR9SM45n8/G1oSbTHSrzEAu20Uwt9TsPLr5e4cSg2BNdLE0l0UiUWEj2tGGv0Fe3fWf5+xYxl\n",
       "Xhf6PbPVkmhRci25lqeZiFsaTcalsUEPyO4PgiUz9uVull2hiJjKKcRCoB2Uxga9S6uZoUsLCrPs\n",
       "9r0sE0igOvhBLjKAJho/IcVCoI+VMUfJ2J9jd8EyFvQ2sCNm70ATHmXrjWzjZFlkzNAD2XkvcqsU\n",
       "/3JlXPQmETG9U/FercaEev3+5cN5Hb1K173oPu+KJo2HqhSKlkRroMSiKb8SmBob9ANwbtyccGPR\n",
       "VA8rfawI0VnhvGas+q87sNDzVPSL09oL0qAFe88qh5Ak/KESC4Ei3Pm1rKN+r/oa6cf7rqP0eyEe\n",
       "69BW9WQzh9CRi57qI4fFWvSa60HT8VeRDJQ2RPHGZRwN3D/mcFmHivZ2xA976rTQZuh/+M+pJY9T\n",
       "mC4AAAAASUVORK5CYII=\n",
       "\" style=\"display:inline;vertical-align:middle;\" /></a></span>"
      ],
      "text/plain": [
       "{b in Complex} |- (b + (3 * b)) = (4 * b)"
      ]
     },
     "execution_count": 47,
     "metadata": {},
     "output_type": "execute_result"
    }
   ],
   "source": [
    "Add(b, Mult(three, b)).factorization(b, pull='right', assumptions=[InSet(a, Complex), InSet(c, Complex), InSet(b, Complex)])"
   ]
  },
  {
   "cell_type": "code",
   "execution_count": 48,
   "metadata": {},
   "outputs": [
    {
     "data": {
      "text/html": [
       "<span style=\"font-size:20px;\"><a class=\"ProveItLink\" href=\"../__pv_it/theorems/a259ec76dfb0a5be60b7c83d797520fa82c1dba60/expr.ipynb\"><img src=\"data:image/png;base64,iVBORw0KGgoAAAANSUhEUgAAADEAAAAQBAMAAABNQoq8AAAAMFBMVEX///+YmJjMzMzc3NyIiIhU\n",
       "VFR2dna6urqqqqpmZmYyMjIiIiIQEBBERETu7u4AAAD7tRWPAAAAAXRSTlMAQObYZgAAAAlwSFlz\n",
       "AAAOxAAADsQBlSsOGwAAANtJREFUGNNjYMAEz26vclZjYOC7swFNgiVGgG/+TSCDawKazJQyBgZG\n",
       "kAx/A6oE04R7QDISiOsfQIV8d+9eAKRYH1wAkg+BOBsqUeUHoXmZYcYvdYkAUczroHxTpgQIg+/X\n",
       "g/cGIIcYQGXU2AUgDI5/DDwOIBmYCyzZHSAMzgUM/CDtOruB4ALYHqhp3AkM9SB3v4Xp4QW7DeKd\n",
       "+SB3c8Nk2MH+YQfKKPAdBIeJAzwMSoHELKDHBHgh7l8BD7dbk/m6gWJ8YRMhAk+vwwLj2Z3fk1EC\n",
       "rOw2OHRgAAASXDjITT81JQAAAABJRU5ErkJggg==\n",
       "\" style=\"display:inline;vertical-align:middle;\" /></a> <a class=\"ProveItLink\" href=\"../__pv_it/demonstrations/b94cd15ac0837ad3cca56f5b44795927aa8e25d20/proof.ipynb\" style=\"text-decoration: none\">&nbsp;&#x22A2;&nbsp;&nbsp;</a><a class=\"ProveItLink\" href=\"../__pv_it/demonstrations/7d7740dd53df6707e83183125027c12b010516d30/expr.ipynb\"><img src=\"data:image/png;base64,iVBORw0KGgoAAAANSUhEUgAAAPsAAAAVBAMAAAByEoVnAAAAMFBMVEX////MzMxUVFRERES6uroi\n",
       "IiIQEBCYmJhmZmYyMjLu7u52dnaqqqqIiIjc3NwAAACW8nlqAAAAAXRSTlMAQObYZgAAAAlwSFlz\n",
       "AAAOxAAADsQBlSsOGwAAArtJREFUSMeV1j9oE1EcB/BvzP9Lco1DJxGK4KTYgtiteotupVWIOAQM\n",
       "UhWhYDazNVhqAh0MKhQ6HXTRySgIQpeskqEZHbQeSEbBQZGIEt+fvrt77/cO6htyycvnfX93L+/d\n",
       "BUAAS3NpV3DsruA/AisDW/lPtGuZ9NiGLltlcuAQzuKq+U25D3d/01Mfhag0TTVkF9V9XiWKSh6I\n",
       "0v4bQp0eUGyb+hXwEuU/4Wchdg3Eh35F6QdVu7AEui9wltACO4UZNYkZddod4MvAmYRaiJah+NAL\n",
       "wD2qWqQ8CyyOcJHQHDus+GqKRkdvGsA1D1F5IXK+rvjQhz7mA6KUjBoLPIh3KvqBHd7BKF/uiddf\n",
       "oRai2NQVH8qmc75KVNH88XngYrxD0W12ePb5vB5c6PPXq1GIEKU5XW3Lw22qlAwbD3xw6qNH6A5b\n",
       "QhP/daAFi7M/fSZa00Lke3r5HfGa+kuVlFs13m6owEkT64TWWdxv5EZacFasxWjlS1Fu6OXr0s5R\n",
       "pWTYWKAzBZ74Jl1jM9PDDJucQq12826txtNycpbYuoJY/lKkvkNTawJtyqvRlJDxxgKdn8CGZ1KW\n",
       "ke1jZaCvacZOAld47y0okTGuXpTPy4vXVaZBy/N9tNE0aV3swac+mfypL8sf7VImyquWyR/CDYiS\n",
       "Mvbb88BL8up1usTeV537enCaHe/IyZdaiPyCrpb4wuujQpWSYeOBB+y3h0nfAiea6bYezDfOo9i+\n",
       "l0Jux0ixoRh3u1tUKRk2HpjuO+uEzrLFcK5j3HZSbPIy3dgjR4isp6tZvumn0wlVWc8ozwPx/nGV\n",
       "0Gw1fnNSN93rtofw2FDaUE2NSW9SYD7+tAsfOS2b7hgq305SHdKbGHjZ9kXa8ofFNdeTdShXVCYH\n",
       "7tnKOwvHOaW9hBO31EoMdEe2+t9o1yE9/ZFdHR478B+QjviacVuACgAAAABJRU5ErkJggg==\n",
       "\" style=\"display:inline;vertical-align:middle;\" /></a></span>"
      ],
      "text/plain": [
       "{b in Complex} |- (b + (3 * b) + (2 * b)) = (6 * b)"
      ]
     },
     "execution_count": 48,
     "metadata": {},
     "output_type": "execute_result"
    }
   ],
   "source": [
    "Add(b, Mult(three, b), Mult(two, b)).factorization(b, pull='right', assumptions=[InSet(a, Complex), InSet(c, Complex), InSet(b, Complex)])"
   ]
  },
  {
   "cell_type": "code",
   "execution_count": 49,
   "metadata": {},
   "outputs": [
    {
     "data": {
      "text/html": [
       "<span style=\"font-size:20px;\"><a class=\"ProveItLink\" href=\"../__pv_it/theorems/a259ec76dfb0a5be60b7c83d797520fa82c1dba60/expr.ipynb\"><img src=\"data:image/png;base64,iVBORw0KGgoAAAANSUhEUgAAADEAAAAQBAMAAABNQoq8AAAAMFBMVEX///+YmJjMzMzc3NyIiIhU\n",
       "VFR2dna6urqqqqpmZmYyMjIiIiIQEBBERETu7u4AAAD7tRWPAAAAAXRSTlMAQObYZgAAAAlwSFlz\n",
       "AAAOxAAADsQBlSsOGwAAANtJREFUGNNjYMAEz26vclZjYOC7swFNgiVGgG/+TSCDawKazJQyBgZG\n",
       "kAx/A6oE04R7QDISiOsfQIV8d+9eAKRYH1wAkg+BOBsqUeUHoXmZYcYvdYkAUczroHxTpgQIg+/X\n",
       "g/cGIIcYQGXU2AUgDI5/DDwOIBmYCyzZHSAMzgUM/CDtOruB4ALYHqhp3AkM9SB3v4Xp4QW7DeKd\n",
       "+SB3c8Nk2MH+YQfKKPAdBIeJAzwMSoHELKDHBHgh7l8BD7dbk/m6gWJ8YRMhAk+vwwLj2Z3fk1EC\n",
       "rOw2OHRgAAASXDjITT81JQAAAABJRU5ErkJggg==\n",
       "\" style=\"display:inline;vertical-align:middle;\" /></a> <a class=\"ProveItLink\" href=\"../__pv_it/demonstrations/b94cd15ac0837ad3cca56f5b44795927aa8e25d20/proof.ipynb\" style=\"text-decoration: none\">&nbsp;&#x22A2;&nbsp;&nbsp;</a><a class=\"ProveItLink\" href=\"../__pv_it/demonstrations/7d7740dd53df6707e83183125027c12b010516d30/expr.ipynb\"><img src=\"data:image/png;base64,iVBORw0KGgoAAAANSUhEUgAAAPsAAAAVBAMAAAByEoVnAAAAMFBMVEX////MzMxUVFRERES6uroi\n",
       "IiIQEBCYmJhmZmYyMjLu7u52dnaqqqqIiIjc3NwAAACW8nlqAAAAAXRSTlMAQObYZgAAAAlwSFlz\n",
       "AAAOxAAADsQBlSsOGwAAArtJREFUSMeV1j9oE1EcB/BvzP9Lco1DJxGK4KTYgtiteotupVWIOAQM\n",
       "UhWhYDazNVhqAh0MKhQ6HXTRySgIQpeskqEZHbQeSEbBQZGIEt+fvrt77/cO6htyycvnfX93L+/d\n",
       "BUAAS3NpV3DsruA/AisDW/lPtGuZ9NiGLltlcuAQzuKq+U25D3d/01Mfhag0TTVkF9V9XiWKSh6I\n",
       "0v4bQp0eUGyb+hXwEuU/4Wchdg3Eh35F6QdVu7AEui9wltACO4UZNYkZddod4MvAmYRaiJah+NAL\n",
       "wD2qWqQ8CyyOcJHQHDus+GqKRkdvGsA1D1F5IXK+rvjQhz7mA6KUjBoLPIh3KvqBHd7BKF/uiddf\n",
       "oRai2NQVH8qmc75KVNH88XngYrxD0W12ePb5vB5c6PPXq1GIEKU5XW3Lw22qlAwbD3xw6qNH6A5b\n",
       "QhP/daAFi7M/fSZa00Lke3r5HfGa+kuVlFs13m6owEkT64TWWdxv5EZacFasxWjlS1Fu6OXr0s5R\n",
       "pWTYWKAzBZ74Jl1jM9PDDJucQq12826txtNycpbYuoJY/lKkvkNTawJtyqvRlJDxxgKdn8CGZ1KW\n",
       "ke1jZaCvacZOAld47y0okTGuXpTPy4vXVaZBy/N9tNE0aV3swac+mfypL8sf7VImyquWyR/CDYiS\n",
       "Mvbb88BL8up1usTeV537enCaHe/IyZdaiPyCrpb4wuujQpWSYeOBB+y3h0nfAiea6bYezDfOo9i+\n",
       "l0Jux0ixoRh3u1tUKRk2HpjuO+uEzrLFcK5j3HZSbPIy3dgjR4isp6tZvumn0wlVWc8ozwPx/nGV\n",
       "0Gw1fnNSN93rtofw2FDaUE2NSW9SYD7+tAsfOS2b7hgq305SHdKbGHjZ9kXa8ofFNdeTdShXVCYH\n",
       "7tnKOwvHOaW9hBO31EoMdEe2+t9o1yE9/ZFdHR478B+QjviacVuACgAAAABJRU5ErkJggg==\n",
       "\" style=\"display:inline;vertical-align:middle;\" /></a></span>"
      ],
      "text/plain": [
       "{b in Complex} |- (b + (3 * b) + (2 * b)) = (6 * b)"
      ]
     },
     "execution_count": 49,
     "metadata": {},
     "output_type": "execute_result"
    }
   ],
   "source": [
    "Add(b, Mult(three, b), Mult(two, b)).simplification(\n",
    "    assumptions=[InSet(a, Complex), InSet(c, Complex), InSet(b, Complex)])"
   ]
  },
  {
   "cell_type": "code",
   "execution_count": 50,
   "metadata": {},
   "outputs": [
    {
     "data": {
      "text/html": [
       "<span style=\"font-size:20px;\"><a class=\"ProveItLink\" href=\"../__pv_it/theorems/b66b5547fa9b0b910f79351152926c658c2718190/expr.ipynb\"><img src=\"data:image/png;base64,iVBORw0KGgoAAAANSUhEUgAAADEAAAAQBAMAAABNQoq8AAAAMFBMVEX///9UVFQyMjK6urru7u4Q\n",
       "EBBERERmZmaqqqoiIiLc3NzMzMyYmJiIiIh2dnYAAABC1PP/AAAAAXRSTlMAQObYZgAAAAlwSFlz\n",
       "AAAOxAAADsQBlSsOGwAAAMJJREFUGNNjYMAEfplKt/ZhEWfgFT3AUp+OTabWjoGBB5sMd0EKkBRH\n",
       "Fro2c6YCkGJ0SACSPkgSRlcgNBtXAUzo7Z0NQJJLBcpdyP0AylrZwA7SzrQAyt/HfADKmsfAegEk\n",
       "AzNiOfMFCIP9C4TeOhMIEsD2QE1jTYDQbjA9bA5QEX+oXk6YDDPYP8wMDPxA+wxAYXIBHgaGQKII\n",
       "aE8CAx/I1Qwa8HBLqmLpBPnp3RmIFx2THWBhnfqzCiXA7DLBoQMDAANFK7BF6/dnAAAAAElFTkSu\n",
       "QmCC\n",
       "\" style=\"display:inline;vertical-align:middle;\" /></a>, <a class=\"ProveItLink\" href=\"../__pv_it/theorems/a259ec76dfb0a5be60b7c83d797520fa82c1dba60/expr.ipynb\"><img src=\"data:image/png;base64,iVBORw0KGgoAAAANSUhEUgAAADEAAAAQBAMAAABNQoq8AAAAMFBMVEX///+YmJjMzMzc3NyIiIhU\n",
       "VFR2dna6urqqqqpmZmYyMjIiIiIQEBBERETu7u4AAAD7tRWPAAAAAXRSTlMAQObYZgAAAAlwSFlz\n",
       "AAAOxAAADsQBlSsOGwAAANtJREFUGNNjYMAEz26vclZjYOC7swFNgiVGgG/+TSCDawKazJQyBgZG\n",
       "kAx/A6oE04R7QDISiOsfQIV8d+9eAKRYH1wAkg+BOBsqUeUHoXmZYcYvdYkAUczroHxTpgQIg+/X\n",
       "g/cGIIcYQGXU2AUgDI5/DDwOIBmYCyzZHSAMzgUM/CDtOruB4ALYHqhp3AkM9SB3v4Xp4QW7DeKd\n",
       "+SB3c8Nk2MH+YQfKKPAdBIeJAzwMSoHELKDHBHgh7l8BD7dbk/m6gWJ8YRMhAk+vwwLj2Z3fk1EC\n",
       "rOw2OHRgAAASXDjITT81JQAAAABJRU5ErkJggg==\n",
       "\" style=\"display:inline;vertical-align:middle;\" /></a> <a class=\"ProveItLink\" href=\"../__pv_it/demonstrations/bb3e1f5935a7ca19e7f4498242d963fb7d789f9f0/proof.ipynb\" style=\"text-decoration: none\">&nbsp;&#x22A2;&nbsp;&nbsp;</a><a class=\"ProveItLink\" href=\"../__pv_it/demonstrations/87326b8c0c81b42a2971345bd81dd04ae6af116b0/expr.ipynb\"><img src=\"data:image/png;base64,iVBORw0KGgoAAAANSUhEUgAAAjYAAAAVBAMAAACnP7m3AAAAMFBMVEX////MzMxUVFRERES6uroi\n",
       "IiIQEBCYmJhmZmYyMjLu7u52dnaqqqqIiIjc3NwAAACW8nlqAAAAAXRSTlMAQObYZgAAAAlwSFlz\n",
       "AAAOxAAADsQBlSsOGwAABMZJREFUWMOtWE2IW1UUPsnkJZn8NZtZdTFR0LrRRvzBzZRZVTdClEaL\n",
       "BqbgtGBR+mw3dSEtltoMWTioUOnG0AHBVdPZOOCis2lhKDJDNxXxZ2AoCGJpQZEZ08Zz333359x3\n",
       "mBsmuXBfws13vu+c7537fgIAmyCnM5ilIUYyqgLjXaoMJzsWmfKqnO54fS/WMESZjcTSLzACikGy\n",
       "+Y9D5nY8p7rGt/aXVSiHTsTScb83SPTnyos05K4LKvUA/lh4fghU6h1n8S6HjGRtQkNQ/OG6XyYq\n",
       "l5MpLEaz8Mw3xpstKP4NcMWl+dprjSA6D+urJGSy66C+Q/frcGPWi7q6sOMsClQCKWQpoZb5Cp4C\n",
       "r4wsl5HJY3uICb+bqOcATgCcVR2mGqivfn/VTU4tIFG5D9cW9Q8iJHfeQV0CSG9C9pgXBWXXG4HS\n",
       "SD1Q1iK0CCY34AVgZXRRl1S5jEwWv4ppe3OqCwdRK14oxXs0oxP90U1OLSBRZh72aW9kyEkHhTVk\n",
       "dyD92ItKehOhTrqLWUJoEazbXUJkVFECJctlZNbwuOZ4g314sAqTIaUpNrzeRESwrq9UMuQyRZXQ\n",
       "unQD0g+9KMabyxZSjzVCaBG8bKOIjCpKoGS5jEwHjx3HGxxzyFWjNJPP3lmlVhR//YguRESZt82+\n",
       "jUKWadX5XvQRPPCjiDeRmkAtu950CKFF8P7+n2b5ZFRRcTJzrIw+EcSb1CPccIuU5tqVAu3aSgsu\n",
       "UG8EUerOE5pGhnxMq477cXrDj7K9kWoCFSHzzWjUTC8oQotgO4QP+GT0CQ9VuYxMC4+thDcBapaO\n",
       "URrcvB8S9aDnLEgi6z4lQ27RqgP585vgR9neSDWBuuX2TYsQGoLCAOCzLiujipLJBDVWZh6P88ab\n",
       "+B4j+iH1QJ6et47L07MA8B9+XGw2TzSbIpHPpaxZkETiuhgTyZBpispGbZ6vgx8lvSlsg1abjicZ\n",
       "84aQEBT+ATg3qwiMjFWUTOYCL+N4E0T3uJwIyzh98y5k+uTMvJe4FiNRqgoTfUUkQw5TlEznNIAf\n",
       "FffNUaN2GAySenMakgRY7blQERAZVVQkk6vxMuyeug2VTSg1KE0f8ju2euFRwhsk2rcjvbFCbjK7\n",
       "BR9H7/tR1p6K1W7Gk1xvWoTQInhJ9g0jQ/ZUVC4jM4PHGcebVA/KXcjVKc1D+DYk6v9ib1FvkChb\n",
       "k3vKCjlDq54QfPsBfvaj7OuNVBOoM27fzBBCi2AdrzfAyqiiBEqWy8jom+IN8/hzr92+qG9vmuYA\n",
       "vELTx116nXqDRLnQer6RIR0aJp4NKkfb7YYXBcXHxgCp1rGQeiwTQotgolcw9ykiox/aaqpcRmZK\n",
       "vGbifPLUF7qkucEAd2owS2muroRO+t9/0qXeCKLX2uZdU4YcoWEprCEYDAaLXlT66e0D5rkjUjti\n",
       "IfWYIoQWAax8WuWTUUUJlCyXkQkwOKhyL473wHm8Bu9zMUtUaTioN2AklEaa+26VS2ZXGV3UbjL8\n",
       "25t62SOvZeB912SJ8qGDOgsjofKJfKjsUDK6qF1lDoGcCe/qe/hviyPachcmNkdCbQ0nOw6ZpXgO\n",
       "FeQbS8P4VaiPhDo0nOw4ZCobcrrjt738J8oQlZMe/wUjoBgkm//oMv8DKQYNnz9jNKgAAAAASUVO\n",
       "RK5CYII=\n",
       "\" style=\"display:inline;vertical-align:middle;\" /></a></span>"
      ],
      "text/plain": [
       "{c in Complex, b in Complex} |- ((1 * 2) + b + c + (3 * b) + (2 * b) + (1 * c)) = (2 + (6 * b) + (2 * c))"
      ]
     },
     "execution_count": 50,
     "metadata": {},
     "output_type": "execute_result"
    }
   ],
   "source": [
    "Add(Mult(one, two), b, c, Mult(three, b), Mult(two, b), Mult(one, c)).simplification(\n",
    "    assumptions=[InSet(a, Complex), InSet(c, Complex), InSet(b, Complex)])"
   ]
  },
  {
   "cell_type": "code",
   "execution_count": 51,
   "metadata": {},
   "outputs": [
    {
     "data": {
      "text/html": [
       "<span style=\"font-size:20px;\"><a class=\"ProveItLink\" href=\"../__pv_it/theorems/b66b5547fa9b0b910f79351152926c658c2718190/expr.ipynb\"><img src=\"data:image/png;base64,iVBORw0KGgoAAAANSUhEUgAAADEAAAAQBAMAAABNQoq8AAAAMFBMVEX///9UVFQyMjK6urru7u4Q\n",
       "EBBERERmZmaqqqoiIiLc3NzMzMyYmJiIiIh2dnYAAABC1PP/AAAAAXRSTlMAQObYZgAAAAlwSFlz\n",
       "AAAOxAAADsQBlSsOGwAAAMJJREFUGNNjYMAEfplKt/ZhEWfgFT3AUp+OTabWjoGBB5sMd0EKkBRH\n",
       "Fro2c6YCkGJ0SACSPkgSRlcgNBtXAUzo7Z0NQJJLBcpdyP0AylrZwA7SzrQAyt/HfADKmsfAegEk\n",
       "AzNiOfMFCIP9C4TeOhMIEsD2QE1jTYDQbjA9bA5QEX+oXk6YDDPYP8wMDPxA+wxAYXIBHgaGQKII\n",
       "aE8CAx/I1Qwa8HBLqmLpBPnp3RmIFx2THWBhnfqzCiXA7DLBoQMDAANFK7BF6/dnAAAAAElFTkSu\n",
       "QmCC\n",
       "\" style=\"display:inline;vertical-align:middle;\" /></a>, <a class=\"ProveItLink\" href=\"../__pv_it/theorems/a259ec76dfb0a5be60b7c83d797520fa82c1dba60/expr.ipynb\"><img src=\"data:image/png;base64,iVBORw0KGgoAAAANSUhEUgAAADEAAAAQBAMAAABNQoq8AAAAMFBMVEX///+YmJjMzMzc3NyIiIhU\n",
       "VFR2dna6urqqqqpmZmYyMjIiIiIQEBBERETu7u4AAAD7tRWPAAAAAXRSTlMAQObYZgAAAAlwSFlz\n",
       "AAAOxAAADsQBlSsOGwAAANtJREFUGNNjYMAEz26vclZjYOC7swFNgiVGgG/+TSCDawKazJQyBgZG\n",
       "kAx/A6oE04R7QDISiOsfQIV8d+9eAKRYH1wAkg+BOBsqUeUHoXmZYcYvdYkAUczroHxTpgQIg+/X\n",
       "g/cGIIcYQGXU2AUgDI5/DDwOIBmYCyzZHSAMzgUM/CDtOruB4ALYHqhp3AkM9SB3v4Xp4QW7DeKd\n",
       "+SB3c8Nk2MH+YQfKKPAdBIeJAzwMSoHELKDHBHgh7l8BD7dbk/m6gWJ8YRMhAk+vwwLj2Z3fk1EC\n",
       "rOw2OHRgAAASXDjITT81JQAAAABJRU5ErkJggg==\n",
       "\" style=\"display:inline;vertical-align:middle;\" /></a> <a class=\"ProveItLink\" href=\"../__pv_it/demonstrations/788c6bfcd7753184cf44b27ff62a3b40a99e603b0/proof.ipynb\" style=\"text-decoration: none\">&nbsp;&#x22A2;&nbsp;&nbsp;</a><a class=\"ProveItLink\" href=\"../__pv_it/demonstrations/a03d7bacd3608b80f529806b563e73ee26c191120/expr.ipynb\"><img src=\"data:image/png;base64,iVBORw0KGgoAAAANSUhEUgAAAlgAAAAVBAMAAABoEY10AAAAMFBMVEX///8AAAAAAAAAAAAAAAAA\n",
       "AAAAAAAAAAAAAAAAAAAAAAAAAAAAAAAAAAAAAAAAAAAv3aB7AAAAD3RSTlMAInZUiRDNmWbv3US7\n",
       "qzJazP2FAAAACXBIWXMAAA7EAAAOxAGVKw4bAAAE/UlEQVRYw6VYTWibZRz/v0nTfDVZFGEweogO\n",
       "YZdhkTFoL81tXuriRRA6lstwDMUdQiNDWNhhu1QpQg9bhQayUU3RFS/aW7aDgoJUL5uCNgdPu3Rb\n",
       "TBkMFp/3ed6P5/+R9LG+8KTl399XfnneN+9bACiBWeQQRg4HZ3lwyJErzXPL8X+iRDaJGbPo8e1h\n",
       "uhKE8mU2Og4uKFeaRJXekKvvcSgCvCPbnArWo2pcZOODHiSaRGTx1sHvRwm9cuZnTDlBQcmKcRiL\n",
       "4m6KBsU7ZHhCMtA5ji79IgiwqZQuu3/pDk+nVqqmV+rBR3FZ0zDxHOAClXn/wK58ocswP4Mok1WC\n",
       "ejd0GItibop2bmlAhj6NUf0cXhfObjEBPpXS5dZvV3k6tdJqA/kL3oj//ivATYAb4R4Mt1ifDqLj\n",
       "++CnEkr04Xwt+oNPyVwmqI9DBxEFxM2mQYKW5dMY1c9RKEF2hQlYU0uAoViQwCarfvWXXdZ6FXaV\n",
       "ajBIBqd1PgyaZOf5m8FPJZRfgyNRWYaySlAroYOIAuJm03hZmrZKhypHdgCFJ0zAmtoCBFXgQYzN\n",
       "afV6mpT1B8BuDyabuJuJ1oFlaSGYj3aeoVzEqGQtdBBRQNxsmlDWRU7VOQotKLxgAtbUFqAoHsTY\n",
       "1NVrnZSljrsKtYO7mfzt5Awua+K1z3BZWij/ZXxB0JQFHCddCR1EFBA3RENlaXuftkDL0jkg91jy\n",
       "Dae2AEEVri30hHQL8SeDyio+VedoDZd1/kLqCRp4bfgEl+ULFU/+FckYynUcx+xY30FEAXFDNLss\n",
       "Y+/TNDXd0cdOvFv2yoJvNLUFCGqq6j0X0l2Htnpts7JyyjO5gsuar8LnaJCrBIOorLYBRt+GhjKL\n",
       "4+RmQgcRBcQN0eyyjL1Pm6U7y+T4WvKNprYAR/0kpJuFNfW6FpcVfJP5O6b42HxeX90yn9cSwD9o\n",
       "cNXUe6XTudnp6Axr5vI6CIUMZQ+jsluhA6T2AaFSl/Tu6EVDSjNlGZqx3wsWOnSOdFfyNVOdLhZg\n",
       "KLha4un2aFk5/U2a8bvIk511G/J9NPiCXeCVULEHU/1QyFC2MUrHyZiNtQEMBcQN0YKdtRHbbwOj\n",
       "Bm/oUxB8g6lOFwsQ1A+qrB5Pty2fhqfAK0GyhcvqQ3pgD1JPWVlK6MjAlGVR5oSNrh1EFBC3Uadh\n",
       "YD8XLHTNaps78Ze4QDy1BQhK3bPvAk83B/fV631SVrECiSpkurisF/BeEw2eqd2Hy1JC2R1zGlqU\n",
       "ZRxnqhw6iCggbjYNXbOMvU9bpjvLf0N/A7zOBeKpLUBQFfusidMtx1+9Z+MH9WONxpXoqzbq5iH8\n",
       "iAfqsvM2LksJZZrWfZah1HEc/5bEOIgoIG42DSasO0pjX+dUncPbaDRaTMCa2gIEdRQSq0K6Ojzy\n",
       "n6HV+nP9w+g93h0O1bUtt4W7OXeG3qW+da2Ky/KFvmvED9KGsonjFFuhg4gC4mbTCr/vP4zvkrT9\n",
       "JqfqHLnhcFhjAtbUFiAor/GgKqTbhJy6kuV60lPxsVE37KPv4EUhr0VQ38A4FIwSH0njVJzDzdfF\n",
       "Rn4SDR9cxefm0Q/SolC6SVA3YBwKRomPpHEqzuHm62RzD8xiZXYP8c8/SWiaDqZKLihwpk275XD0\n",
       "HWuzGCwn0kHHokuBqa5jzY60e245HH3H2nhls+jx6mH+rSwIJXjpL4MLypUmUb3yfxBwtvkXWUDU\n",
       "oHfXrNoAAAAASUVORK5CYII=\n",
       "\" style=\"display:inline;vertical-align:middle;\" /></a></span>"
      ],
      "text/plain": [
       "{c in Complex, b in Complex} |- ((1 * 2) + b + c + (3 * b) + (2 * b) - b + (1 * c)) = (2 + (2 * c) + (5 * b))"
      ]
     },
     "execution_count": 51,
     "metadata": {},
     "output_type": "execute_result"
    }
   ],
   "source": [
    "Add(Mult(one, two), b, c, Mult(three, b), Mult(two, b), Neg(b), Mult(one, c)).simplification(\n",
    "    assumptions=[InSet(a, Complex), InSet(c, Complex), InSet(b, Complex)])"
   ]
  },
  {
   "cell_type": "code",
   "execution_count": 52,
   "metadata": {},
   "outputs": [],
   "source": [
    "#Add(Mult(c,b), Mult(b,c), Mult(c, a), a, b, c, one, two, three, Mult(two, c), Mult(three,b), Mult(four, a)).simplification([InSet(a, Complex), InSet(b, Complex), InSet(c, Complex)])"
   ]
  },
  {
   "cell_type": "code",
   "execution_count": 53,
   "metadata": {},
   "outputs": [],
   "source": [
    "#Add(Mult(a,b), c, b,a).simplification([InSet(a, Complex), InSet(b, Complex), InSet(c, Complex)])"
   ]
  },
  {
   "cell_type": "code",
   "execution_count": 54,
   "metadata": {},
   "outputs": [
    {
     "data": {
      "text/html": [
       "<span style=\"font-size:20px;\"><a class=\"ProveItLink\" href=\"../__pv_it/theorems/e9f87a0977d5044ea8daf1040d2f219396bb3d5b0/expr.ipynb\"><img src=\"data:image/png;base64,iVBORw0KGgoAAAANSUhEUgAAADMAAAAQBAMAAABJt1qBAAAAMFBMVEX////MzMwyMjKqqqoiIiJm\n",
       "ZmaYmJju7u5EREQQEBC6urqIiIh2dnZUVFTc3NwAAAAqL9KcAAAAAXRSTlMAQObYZgAAAAlwSFlz\n",
       "AAAOxAAADsQBlSsOGwAAANFJREFUGNNjYMACalqU9slgk2DgvpnAHt+KVSp6DQMDG1YpxoB2IHkV\n",
       "RWyHi4sCkOItaACSZcgyi7ZDaA6+AKgI3519G8C0OlTgLeMBKGvlA47vIJrpAVRAhisBwmCfxsDq\n",
       "AJaCGfyUawOEwfqBgQVsgKQLEDSA7YIayNnAUL8AxKiA6eIAuxAI6jcw5IMZLDApLrC/uIBSBgyX\n",
       "mEEu4N4AD421QCIIqH0DsysrWEQZHoZNcewmQL+x3z74diNYpLarABbynV/iUANvTQs4oGAAAKqD\n",
       "MEJAsWyMAAAAAElFTkSuQmCC\n",
       "\" style=\"display:inline;vertical-align:middle;\" /></a> <a class=\"ProveItLink\" href=\"../__pv_it/demonstrations/71e85b4ec50a713ba0212024eef40b1c49aeab4c0/proof.ipynb\" style=\"text-decoration: none\">&nbsp;&#x22A2;&nbsp;&nbsp;</a><a class=\"ProveItLink\" href=\"../__pv_it/demonstrations/c24b0d9f7048f36bbf53c2a678f99788fbce2a9a0/expr.ipynb\"><img src=\"data:image/png;base64,iVBORw0KGgoAAAANSUhEUgAAAOMAAAAVBAMAAABGa0R7AAAAMFBMVEX////MzMxUVFRERES6uroi\n",
       "IiIQEBCYmJhmZmYyMjLu7u52dnaqqqqIiIjc3NwAAACW8nlqAAAAAXRSTlMAQObYZgAAAAlwSFlz\n",
       "AAAOxAAADsQBlSsOGwAAAjZJREFUSMeVVUFLG0EUfmlMsk02ixfvImhbpLp/wJKTnoQobJEimIO1\n",
       "Rz3mZkHEiBdpD4VeFD15MvoHzFVE2N7FLi05Fjz0koC1b/fNbJw3Izs++BLyzbfv2zfz5gUAIrAO\n",
       "k9QTsNEKttqxt5w3cDcCNlrBXhmXRg5NbHVDo9x2Aq/1dThLm/tAbHnfkLr8+sBoCd815oTwGyp/\n",
       "M7RHu31iHeVlhuSvn9JyTnmsqVnuEKYA1thKk+es9oktqtsUcstrZb2oFd8grB/CNGsYqU1zJpbI\n",
       "Xj7L8iU/IHefMA4wzQ5TalVLZPfiHp+8DbMsSVMZZZZOm4CxMrg3ila1RPYbfs1G+X6WJWlKSbNt\n",
       "B3EsylKonNx9avlYyy2RXcb+/AROPcNSaNwGq7LQIeBnugFMq1oiu4obcweFeG+cIHj/MQhGB5ZY\n",
       "zhqVIzS5O2ZZrBEAthK3HtM+zplYIouWRR9OaxlVCs1Q4ynLEhW5pGvVKpHFjT0NYTOrY4XGrbOz\n",
       "TDf2Cjx5SRSttrF1mEFJB964UYYlaUo+qzIfEnJtqMpHmJa1jw/n8SPuksOWLyLVUmjEfRhEfBNi\n",
       "dFut7cFrKNo0Z+Uf3aoRPPO3Z79+qMtj61821I4lTaHGR3WdsPLw0Es7VtXKnC8meq8StjBsnD5p\n",
       "qNOnq83YBQE9usacyJY+G8d6GnPaENeHd9NouWPMGbPv7P+hwfM1Kh8RbLSSPX6GpSF32SfYaCXr\n",
       "hfaWtwbuj4CNNmH/AzfE0vfZ3xa5AAAAAElFTkSuQmCC\n",
       "\" style=\"display:inline;vertical-align:middle;\" /></a></span>"
      ],
      "text/plain": [
       "{a in Complex} |- (a + 1 + a) = ((2 * a) + 1)"
      ]
     },
     "execution_count": 54,
     "metadata": {},
     "output_type": "execute_result"
    }
   ],
   "source": [
    "Add(a, one, a).simplification(assumptions=[InSet(a, Complex)])"
   ]
  },
  {
   "cell_type": "code",
   "execution_count": 55,
   "metadata": {},
   "outputs": [
    {
     "data": {
      "text/html": [
       "<span style=\"font-size:20px;\"><a class=\"ProveItLink\" href=\"../__pv_it/demonstrations/d6724abdc9486f838f4cf63bc1115e85255ce4c00/expr.ipynb\"><img src=\"data:image/png;base64,iVBORw0KGgoAAAANSUhEUgAAADMAAAAQBAMAAABJt1qBAAAAMFBMVEX///+YmJhERESIiIhUVFTc\n",
       "3NwiIiJ2dnbu7u66urqqqqpmZmYQEBAyMjLMzMwAAAA7oY0NAAAAAXRSTlMAQObYZgAAAAlwSFlz\n",
       "AAAOxAAADsQBlSsOGwAAAOBJREFUGNNjYMAC2tXumj4Hs/jubECRYfYR4NivDWHzL0CR2jydgYER\n",
       "KjW/AVmGb4MGkPSGcMoglFFa2gUgxdKgACQbIWK3weRcCwiPiRVmNau73S8wfQMqEMJXAGXNCWD6\n",
       "AaJ5A6ACzzkFIAyOgwzcF8BSMGdEcxpAGNwfGNjABrxJAwIFsF1QA3kUGPongBhNMF1MYBcCQb8B\n",
       "gzyYwQaT4gT7ixMotYDBlwvkAmYDeGhMARJ7gdoNuLK5wSK34GGou5VjGdBvHM51IXZgkRZNWHi1\n",
       "63zbihoX09XAAQUDAHO5MBAUDGSbAAAAAElFTkSuQmCC\n",
       "\" style=\"display:inline;vertical-align:middle;\" /></a>, <a class=\"ProveItLink\" href=\"../__pv_it/theorems/a259ec76dfb0a5be60b7c83d797520fa82c1dba60/expr.ipynb\"><img src=\"data:image/png;base64,iVBORw0KGgoAAAANSUhEUgAAADEAAAAQBAMAAABNQoq8AAAAMFBMVEX///+YmJjMzMzc3NyIiIhU\n",
       "VFR2dna6urqqqqpmZmYyMjIiIiIQEBBERETu7u4AAAD7tRWPAAAAAXRSTlMAQObYZgAAAAlwSFlz\n",
       "AAAOxAAADsQBlSsOGwAAANtJREFUGNNjYMAEz26vclZjYOC7swFNgiVGgG/+TSCDawKazJQyBgZG\n",
       "kAx/A6oE04R7QDISiOsfQIV8d+9eAKRYH1wAkg+BOBsqUeUHoXmZYcYvdYkAUczroHxTpgQIg+/X\n",
       "g/cGIIcYQGXU2AUgDI5/DDwOIBmYCyzZHSAMzgUM/CDtOruB4ALYHqhp3AkM9SB3v4Xp4QW7DeKd\n",
       "+SB3c8Nk2MH+YQfKKPAdBIeJAzwMSoHELKDHBHgh7l8BD7dbk/m6gWJ8YRMhAk+vwwLj2Z3fk1EC\n",
       "rOw2OHRgAAASXDjITT81JQAAAABJRU5ErkJggg==\n",
       "\" style=\"display:inline;vertical-align:middle;\" /></a>, <a class=\"ProveItLink\" href=\"../__pv_it/theorems/e9f87a0977d5044ea8daf1040d2f219396bb3d5b0/expr.ipynb\"><img src=\"data:image/png;base64,iVBORw0KGgoAAAANSUhEUgAAADMAAAAQBAMAAABJt1qBAAAAMFBMVEX////MzMwyMjKqqqoiIiJm\n",
       "ZmaYmJju7u5EREQQEBC6urqIiIh2dnZUVFTc3NwAAAAqL9KcAAAAAXRSTlMAQObYZgAAAAlwSFlz\n",
       "AAAOxAAADsQBlSsOGwAAANFJREFUGNNjYMACalqU9slgk2DgvpnAHt+KVSp6DQMDG1YpxoB2IHkV\n",
       "RWyHi4sCkOItaACSZcgyi7ZDaA6+AKgI3519G8C0OlTgLeMBKGvlA47vIJrpAVRAhisBwmCfxsDq\n",
       "AJaCGfyUawOEwfqBgQVsgKQLEDSA7YIayNnAUL8AxKiA6eIAuxAI6jcw5IMZLDApLrC/uIBSBgyX\n",
       "mEEu4N4AD421QCIIqH0DsysrWEQZHoZNcewmQL+x3z74diNYpLarABbynV/iUANvTQs4oGAAAKqD\n",
       "MEJAsWyMAAAAAElFTkSuQmCC\n",
       "\" style=\"display:inline;vertical-align:middle;\" /></a>, <a class=\"ProveItLink\" href=\"../__pv_it/theorems/b66b5547fa9b0b910f79351152926c658c2718190/expr.ipynb\"><img src=\"data:image/png;base64,iVBORw0KGgoAAAANSUhEUgAAADEAAAAQBAMAAABNQoq8AAAAMFBMVEX///9UVFQyMjK6urru7u4Q\n",
       "EBBERERmZmaqqqoiIiLc3NzMzMyYmJiIiIh2dnYAAABC1PP/AAAAAXRSTlMAQObYZgAAAAlwSFlz\n",
       "AAAOxAAADsQBlSsOGwAAAMJJREFUGNNjYMAEfplKt/ZhEWfgFT3AUp+OTabWjoGBB5sMd0EKkBRH\n",
       "Fro2c6YCkGJ0SACSPkgSRlcgNBtXAUzo7Z0NQJJLBcpdyP0AylrZwA7SzrQAyt/HfADKmsfAegEk\n",
       "AzNiOfMFCIP9C4TeOhMIEsD2QE1jTYDQbjA9bA5QEX+oXk6YDDPYP8wMDPxA+wxAYXIBHgaGQKII\n",
       "aE8CAx/I1Qwa8HBLqmLpBPnp3RmIFx2THWBhnfqzCiXA7DLBoQMDAANFK7BF6/dnAAAAAElFTkSu\n",
       "QmCC\n",
       "\" style=\"display:inline;vertical-align:middle;\" /></a> <a class=\"ProveItLink\" href=\"../__pv_it/demonstrations/a34816f7b5fed1ff736dda88914225cca5af34ee0/proof.ipynb\" style=\"text-decoration: none\">&nbsp;&#x22A2;&nbsp;&nbsp;</a><a class=\"ProveItLink\" href=\"../__pv_it/demonstrations/a025d3bf9d7a7900130caf5f87d2b4654808d71b0/expr.ipynb\"><img src=\"data:image/png;base64,iVBORw0KGgoAAAANSUhEUgAAAZoAAAAVBAMAAACNuTXpAAAAMFBMVEX////MzMxUVFRERES6uroi\n",
       "IiIQEBCYmJhmZmYyMjLu7u52dnaqqqqIiIjc3NwAAACW8nlqAAAAAXRSTlMAQObYZgAAAAlwSFlz\n",
       "AAAOxAAADsQBlSsOGwAABFtJREFUWMOtV01oVFcUPpnMX948X+KiqyIRNyJRGC1IN7WzabqSjOJI\n",
       "wCBRowWhOG2x2oUYEDGSRUMXjWQ1KIiuZlREIYizsVBEfLpRxJ9HpdBNJa40qTWee8+7795z5w7O\n",
       "SA58701Ozj3f+e6977z7ACACArcAVsaiNj6XP3DzRp0xyZGrmgTL0uGKiHFkBtgew7anMRzhHZis\n",
       "+C7hn7ObE/+Fg3h5ZAV7W8ufoEZkn39szm7P75Orqiiz2hLrNySC+VMlRuoIdRpW7M1IBEW4neSA\n",
       "c4i+mhXcN9m9GJG9r+ntNX39TZjD21xL8GXCJfDfcdK5zsiw4jwKR6QiyI4nfpEtp4r/VlfBHdpa\n",
       "POl4OkX2owDXzP+N1OA43o63ZDlDeNH0Fk3pOjRdbccjDSvO4g2RXYLU+yRmSVwPx3/d01Vwh7YW\n",
       "jx8/dSL7FoD75jpfR3eNwG2cMFyCRVO6DvXDdjxkh+FPvCJSZUi9Vt6CfEJmrVKvQ/dqRPa3AINm\n",
       "L8Bt3Fcl8DEzBLy+MaXr0I+pmYVpvE7L35mFZANueoj0V61Sf3u2kTuCoeehpebWowHGgpk9oSap\n",
       "PBh6gNu4sJbALN8gAHyjhUpSFaqyauJETeHZD6Li2WQVBhOd9TkPd90vXI23WKtHrPbhqHeJq/m7\n",
       "mS8yFswc/GempjG5GQLA6YqwnWoF5CqsWTeQdBFJSqE6qyZO9I3BKVHxGP4ek56dyYTgNv8e4A+u\n",
       "xl+CbMjkfQf5MlezR4UolrFYTQP0GLGhxgnMMk0CGD2NSFVonNUgVjyZBlU8gb8n5ELLWa2LaTgL\n",
       "IEqI5+4QzR1W0d9gjgWRhHloxvKVyu6DlcpayuxhqpFQTLMe07NAYJYtEdCO1FS8JJWhOqsiNnh+\n",
       "lX1iUKv5kUROyilO4+wM87XBBCNN05EtQr0Elsd6OieoC9wXA0f1mPQ4walmNcDXKp5I03xtDGLF\n",
       "c4B2YLLT8CX8Sr9uxCzf4Wqw89MMKEc9hJM8pB7aakTmLwBOqm4cj/HLBPbcqJ22XCM1mtTn+8og\n",
       "Vnvvf3m7A1/hVeBzgCeqltdwEZ/Gnyw1A7hfWe1N2OCzvtCPo0pMjcj8s9y6bEwOFzFXtNamNyTs\n",
       "p51mkKpQpUYTKx5s6WlRsejDiGB0aio5h62HL5O+nZSaqvZOMkdv6I/mmQcfvQLv0FflnHv7dMVy\n",
       "jG7Ghqm2fcx43xCpCo2zGsSKBxvaFVHxZ/gbkVleXp5ROc7fFI1yl9Whh85Yjk1X/nrAe9r8sSec\n",
       "RWT3ph/qjktjMiUCs54yIT1lnDolaYY/JQax4incOFETFWeQKTPg+lwot3vRd3EWcGbG91IMbjti\n",
       "OMM7OAtgxeJwmXOdjvPVdkfKLk6dOfe5Oz5fWuY+ixqhHzl1ioq3AcG2lyvytbbN+ZVYJNhtICK4\n",
       "wjsxUfGFGB3V0bW5Mrcr2ysSXOGdzlwQEuxP4GhF1ASuD/LnMWz7N4YjvJOP9gg+ALKXfS/hVnvh\n",
       "AAAAAElFTkSuQmCC\n",
       "\" style=\"display:inline;vertical-align:middle;\" /></a></span>"
      ],
      "text/plain": [
       "{d in Complex, b in Complex, a in Complex, c in Complex} |- ((2 * b) + b + a + c + (0 * d)) = ((3 * b) + a + c)"
      ]
     },
     "execution_count": 55,
     "metadata": {},
     "output_type": "execute_result"
    }
   ],
   "source": [
    "Add(Mult(two, b), b, a, c, Mult(zero, d)).simplification(\n",
    "    assumptions=[InSet(a, Complex), InSet(c, Complex), InSet(b, Complex), InSet(d, Complex)])"
   ]
  },
  {
   "cell_type": "code",
   "execution_count": 56,
   "metadata": {},
   "outputs": [
    {
     "data": {
      "text/html": [
       "<span style=\"font-size:20px;\"><a class=\"ProveItLink\" href=\"../__pv_it/theorems/e9f87a0977d5044ea8daf1040d2f219396bb3d5b0/expr.ipynb\"><img src=\"data:image/png;base64,iVBORw0KGgoAAAANSUhEUgAAADMAAAAQBAMAAABJt1qBAAAAMFBMVEX////MzMwyMjKqqqoiIiJm\n",
       "ZmaYmJju7u5EREQQEBC6urqIiIh2dnZUVFTc3NwAAAAqL9KcAAAAAXRSTlMAQObYZgAAAAlwSFlz\n",
       "AAAOxAAADsQBlSsOGwAAANFJREFUGNNjYMACalqU9slgk2DgvpnAHt+KVSp6DQMDG1YpxoB2IHkV\n",
       "RWyHi4sCkOItaACSZcgyi7ZDaA6+AKgI3519G8C0OlTgLeMBKGvlA47vIJrpAVRAhisBwmCfxsDq\n",
       "AJaCGfyUawOEwfqBgQVsgKQLEDSA7YIayNnAUL8AxKiA6eIAuxAI6jcw5IMZLDApLrC/uIBSBgyX\n",
       "mEEu4N4AD421QCIIqH0DsysrWEQZHoZNcewmQL+x3z74diNYpLarABbynV/iUANvTQs4oGAAAKqD\n",
       "MEJAsWyMAAAAAElFTkSuQmCC\n",
       "\" style=\"display:inline;vertical-align:middle;\" /></a>, <a class=\"ProveItLink\" href=\"../__pv_it/theorems/a259ec76dfb0a5be60b7c83d797520fa82c1dba60/expr.ipynb\"><img src=\"data:image/png;base64,iVBORw0KGgoAAAANSUhEUgAAADEAAAAQBAMAAABNQoq8AAAAMFBMVEX///+YmJjMzMzc3NyIiIhU\n",
       "VFR2dna6urqqqqpmZmYyMjIiIiIQEBBERETu7u4AAAD7tRWPAAAAAXRSTlMAQObYZgAAAAlwSFlz\n",
       "AAAOxAAADsQBlSsOGwAAANtJREFUGNNjYMAEz26vclZjYOC7swFNgiVGgG/+TSCDawKazJQyBgZG\n",
       "kAx/A6oE04R7QDISiOsfQIV8d+9eAKRYH1wAkg+BOBsqUeUHoXmZYcYvdYkAUczroHxTpgQIg+/X\n",
       "g/cGIIcYQGXU2AUgDI5/DDwOIBmYCyzZHSAMzgUM/CDtOruB4ALYHqhp3AkM9SB3v4Xp4QW7DeKd\n",
       "+SB3c8Nk2MH+YQfKKPAdBIeJAzwMSoHELKDHBHgh7l8BD7dbk/m6gWJ8YRMhAk+vwwLj2Z3fk1EC\n",
       "rOw2OHRgAAASXDjITT81JQAAAABJRU5ErkJggg==\n",
       "\" style=\"display:inline;vertical-align:middle;\" /></a>, <a class=\"ProveItLink\" href=\"../__pv_it/theorems/b66b5547fa9b0b910f79351152926c658c2718190/expr.ipynb\"><img src=\"data:image/png;base64,iVBORw0KGgoAAAANSUhEUgAAADEAAAAQBAMAAABNQoq8AAAAMFBMVEX///9UVFQyMjK6urru7u4Q\n",
       "EBBERERmZmaqqqoiIiLc3NzMzMyYmJiIiIh2dnYAAABC1PP/AAAAAXRSTlMAQObYZgAAAAlwSFlz\n",
       "AAAOxAAADsQBlSsOGwAAAMJJREFUGNNjYMAEfplKt/ZhEWfgFT3AUp+OTabWjoGBB5sMd0EKkBRH\n",
       "Fro2c6YCkGJ0SACSPkgSRlcgNBtXAUzo7Z0NQJJLBcpdyP0AylrZwA7SzrQAyt/HfADKmsfAegEk\n",
       "AzNiOfMFCIP9C4TeOhMIEsD2QE1jTYDQbjA9bA5QEX+oXk6YDDPYP8wMDPxA+wxAYXIBHgaGQKII\n",
       "aE8CAx/I1Qwa8HBLqmLpBPnp3RmIFx2THWBhnfqzCiXA7DLBoQMDAANFK7BF6/dnAAAAAElFTkSu\n",
       "QmCC\n",
       "\" style=\"display:inline;vertical-align:middle;\" /></a> <a class=\"ProveItLink\" href=\"../__pv_it/demonstrations/b7d123081d3b2051ba07e69580a2c6e4b3994fe70/proof.ipynb\" style=\"text-decoration: none\">&nbsp;&#x22A2;&nbsp;&nbsp;</a><a class=\"ProveItLink\" href=\"../__pv_it/demonstrations/727a04b89a5ecb33fe7c876c14231600042ce40f0/expr.ipynb\"><img src=\"data:image/png;base64,iVBORw0KGgoAAAANSUhEUgAAAeEAAAAVBAMAAACDEEuGAAAAMFBMVEX////MzMxUVFRERES6uroi\n",
       "IiIQEBCYmJhmZmYyMjLu7u52dnaqqqqIiIjc3NwAAACW8nlqAAAAAXRSTlMAQObYZgAAAAlwSFlz\n",
       "AAAOxAAADsQBlSsOGwAAA/dJREFUWMO9mE9IFFEcx3/qrrvurut26FhEEBFm7Sm6lHvJTuEabAgK\n",
       "SqadKjvpJRIkNDq01KHotBREnVwDKYhgLx1Cqq1LUGqL4VEwCEJbs997b96f35vRGVvYga/Dfufz\n",
       "+/3mN+/NmxkBoAL13bzqJR0FYJO1UJxsLdW543Me3oKjAOxCLRQn573O6snw7juJncgG4lpHXVai\n",
       "yJV8PZnxYxk2fT9FivpSKhdTLO95Wg//Y/BaJoJxj1zOc6FnkKj6sYj9gPgvWtSXUrlQUXJ9QvJX\n",
       "1TZgOwPgrLNvK1mGG+HbuOvwlND3UmzdOjJul0XsGMCIAnhRX0rlQjXT2VB2Qjcsw0UY23tn312w\n",
       "DDfCt+aCfXhQqCsDdseSVWURu1aA42qx4kV9KZUL9c6zn3j2Pzqeg2Adt9jTJJEXwr+/7TtllJZl\n",
       "2CGA4+oWnQtEqVyoO2wpb18q05CWjs8l2mB88To1lt+sWu3cWzxKDZ1XdfzmSwriB6y2okUhgDP6\n",
       "YohgycqyAoMBhfGivpSqi3qAP7sqTRs0ZOZR7C8xkv0wSef9VegskHZi64WZCulP55XOSimahggf\n",
       "zls5tp03Lj7AvoN6VERwJG8NBb8kDZtqreZF/ShdF9WPUZchmqUhHwtwhRjhomU8HYVbdIwTG9Bc\n",
       "JpdA55Ud9zEkMWiNcbgkBMZa7QRLVp0Hx8JqloiifpSui7qEc2CNNYT7XO7CcC7HuNsAf4hxl4+n\n",
       "abA0YqhGxFBF89BWJIaT13D4kDes2ctTRgj4egN8wXaCOWuUFdikGF5V1JdSdVHYcXMaZjL0IvVB\n",
       "qEqMIXvlGoLYLzrGeILdJdMw8mqH3RCD23S8B6CTZejVwSFr9HgvETF4vaqoH6XronBWz5ThptVP\n",
       "1bks0ohtWh2jEVmjHeOTUcwEaRh5tcNSZK37WM7qrYLo2AhOZD3m6zwkK2AW9aN0XdQp/F2CI4kK\n",
       "CfnJ7lPTwKdGiHRchcb8B9pxCu890p/OKxFMmoFI2hrjprLQRTGrzWDJyvNgWEMRWiUmivpSqi7q\n",
       "BTue6I3SkMNwkhp4T8wS4xS8nZggDTaONlHDyOs4uGDGU/LZoTfnsQFjxvPYCZaselFAbGV6Wi6a\n",
       "TlE/StdF7cXx6phd/kRDHr+ynunxlzcKlPi2vyNFn07tU3QOG3nlWv167CvOOetzARqyQqFp/SXh\n",
       "BIetBYZhA1tb6tVMFPWjdF1UOLXjG9Vu3rkg4DvXiutwjyP3tmKX7amNQkUmdvxO2M2XxPYGdaZc\n",
       "h8c9vy9MVpUdr41iOl3nfwhAMu2ymipCAVgvLDjFySf17tjjbGJpoQCsFxac4mSyXOeOlzy8VUcB\n",
       "2NVaKNQ/Zv+m7sKTNUwAAAAASUVORK5CYII=\n",
       "\" style=\"display:inline;vertical-align:middle;\" /></a></span>"
      ],
      "text/plain": [
       "{a in Complex, b in Complex, c in Complex} |- (a + b + c + a + b + a + c) = ((3 * a) + (2 * b) + (2 * c))"
      ]
     },
     "execution_count": 56,
     "metadata": {},
     "output_type": "execute_result"
    }
   ],
   "source": [
    "Add(a,b,c,a,b,a,c).simplification(assumptions=[InSet(a, Complex), InSet(b, Complex), InSet(c, Complex)])"
   ]
  },
  {
   "cell_type": "code",
   "execution_count": 57,
   "metadata": {},
   "outputs": [
    {
     "data": {
      "text/html": [
       "<span style=\"font-size:20px;\"><a class=\"ProveItLink\" href=\"../__pv_it/theorems/e9f87a0977d5044ea8daf1040d2f219396bb3d5b0/expr.ipynb\"><img src=\"data:image/png;base64,iVBORw0KGgoAAAANSUhEUgAAADMAAAAQBAMAAABJt1qBAAAAMFBMVEX////MzMwyMjKqqqoiIiJm\n",
       "ZmaYmJju7u5EREQQEBC6urqIiIh2dnZUVFTc3NwAAAAqL9KcAAAAAXRSTlMAQObYZgAAAAlwSFlz\n",
       "AAAOxAAADsQBlSsOGwAAANFJREFUGNNjYMACalqU9slgk2DgvpnAHt+KVSp6DQMDG1YpxoB2IHkV\n",
       "RWyHi4sCkOItaACSZcgyi7ZDaA6+AKgI3519G8C0OlTgLeMBKGvlA47vIJrpAVRAhisBwmCfxsDq\n",
       "AJaCGfyUawOEwfqBgQVsgKQLEDSA7YIayNnAUL8AxKiA6eIAuxAI6jcw5IMZLDApLrC/uIBSBgyX\n",
       "mEEu4N4AD421QCIIqH0DsysrWEQZHoZNcewmQL+x3z74diNYpLarABbynV/iUANvTQs4oGAAAKqD\n",
       "MEJAsWyMAAAAAElFTkSuQmCC\n",
       "\" style=\"display:inline;vertical-align:middle;\" /></a>, <a class=\"ProveItLink\" href=\"../__pv_it/theorems/a259ec76dfb0a5be60b7c83d797520fa82c1dba60/expr.ipynb\"><img src=\"data:image/png;base64,iVBORw0KGgoAAAANSUhEUgAAADEAAAAQBAMAAABNQoq8AAAAMFBMVEX///+YmJjMzMzc3NyIiIhU\n",
       "VFR2dna6urqqqqpmZmYyMjIiIiIQEBBERETu7u4AAAD7tRWPAAAAAXRSTlMAQObYZgAAAAlwSFlz\n",
       "AAAOxAAADsQBlSsOGwAAANtJREFUGNNjYMAEz26vclZjYOC7swFNgiVGgG/+TSCDawKazJQyBgZG\n",
       "kAx/A6oE04R7QDISiOsfQIV8d+9eAKRYH1wAkg+BOBsqUeUHoXmZYcYvdYkAUczroHxTpgQIg+/X\n",
       "g/cGIIcYQGXU2AUgDI5/DDwOIBmYCyzZHSAMzgUM/CDtOruB4ALYHqhp3AkM9SB3v4Xp4QW7DeKd\n",
       "+SB3c8Nk2MH+YQfKKPAdBIeJAzwMSoHELKDHBHgh7l8BD7dbk/m6gWJ8YRMhAk+vwwLj2Z3fk1EC\n",
       "rOw2OHRgAAASXDjITT81JQAAAABJRU5ErkJggg==\n",
       "\" style=\"display:inline;vertical-align:middle;\" /></a>, <a class=\"ProveItLink\" href=\"../__pv_it/theorems/b66b5547fa9b0b910f79351152926c658c2718190/expr.ipynb\"><img src=\"data:image/png;base64,iVBORw0KGgoAAAANSUhEUgAAADEAAAAQBAMAAABNQoq8AAAAMFBMVEX///9UVFQyMjK6urru7u4Q\n",
       "EBBERERmZmaqqqoiIiLc3NzMzMyYmJiIiIh2dnYAAABC1PP/AAAAAXRSTlMAQObYZgAAAAlwSFlz\n",
       "AAAOxAAADsQBlSsOGwAAAMJJREFUGNNjYMAEfplKt/ZhEWfgFT3AUp+OTabWjoGBB5sMd0EKkBRH\n",
       "Fro2c6YCkGJ0SACSPkgSRlcgNBtXAUzo7Z0NQJJLBcpdyP0AylrZwA7SzrQAyt/HfADKmsfAegEk\n",
       "AzNiOfMFCIP9C4TeOhMIEsD2QE1jTYDQbjA9bA5QEX+oXk6YDDPYP8wMDPxA+wxAYXIBHgaGQKII\n",
       "aE8CAx/I1Qwa8HBLqmLpBPnp3RmIFx2THWBhnfqzCiXA7DLBoQMDAANFK7BF6/dnAAAAAElFTkSu\n",
       "QmCC\n",
       "\" style=\"display:inline;vertical-align:middle;\" /></a> <a class=\"ProveItLink\" href=\"../__pv_it/demonstrations/8d2f063121e5ce6c2848e202e0bb89485618a5b40/proof.ipynb\" style=\"text-decoration: none\">&nbsp;&#x22A2;&nbsp;&nbsp;</a><a class=\"ProveItLink\" href=\"../__pv_it/demonstrations/86872a36532971243327b81ede1a9d6bdcca250e0/expr.ipynb\"><img src=\"data:image/png;base64,iVBORw0KGgoAAAANSUhEUgAAAm4AAAAVBAMAAAAN/H8LAAAAMFBMVEX////MzMxUVFRERES6uroi\n",
       "IiIQEBCYmJhmZmYyMjLu7u52dnaqqqqIiIjc3NwAAACW8nlqAAAAAXRSTlMAQObYZgAAAAlwSFlz\n",
       "AAAOxAAADsQBlSsOGwAABKBJREFUWMPVWUGIU0cY/neTfZt9iUl68Ni69iJiF3IopRRW9+Lam1sx\n",
       "VnAP0q4tCK0pHqwHMVRE2z009LJtTw8Xip4ShVKpCLmsINLuq4cKtbbBUigUqUJL2TRaZ968eTP/\n",
       "zD/JbuIlD34Wfr75vu//38ybmSwAtGAYnzyVbAFZTv4Zp6L0puZQ9i0d2jleCosi+K1e2J/XxehA\n",
       "RchbhCn/lbmNV7J8ZONj+hISzx07dUvEsS/KQQ9srgHw59WXsXcKlb92ZsbmYuHXKFMT1T4q+byP\n",
       "MX0JiZGB9RJqIg78820v7CWGrMJqE3mnUBch17G5WGQqenJP/LfQNBJqnlacmY4TYtP0FrJpcGLc\n",
       "6jgvhcekRZVgpco5tqA7UFdzpuNA/dr012wuFh5Kfhf/3RsYCTV3Q1cm3XZCbJreQjaNkThqDvDi\n",
       "sPuWYKXKYWZ3AQpJ34R3AjU7A2sE11G4SZbzNWy8b9m5PvrmFurZtyVzwM04iL4tYZWcaNhqMoGF\n",
       "dxKV+5fgWoJFvq/u+CXE7j+795JRzvU7RWz+/vUHuJyJqdtNB8SmcQopLwlN9t4HFO8VszmLcWy7\n",
       "u1UlMTZWyTSiSfam+mhF3knUbu3rEDm5EvHx7s22Um00wl8L6i1Uzu/NTAmvyvdhV4Ay9S/9Jw6I\n",
       "TeMUUl4kTX4ezlC8J6PaytEzqSYCwGvwV7IH6lilMsF7MXJbtVd4p1DPv1hUZ7fICUedhHlm/l3I\n",
       "zOEZ2gYvROUckglp/qsKnMX1rQbwngNi07iENC+SZqxB894w59t8HACp5HRjYGOVMbEw1H4qvJMo\n",
       "bT8VTm5EfAvsnT3kGYCz5fI75fI+/hZrUGighJgD7O0eOCLe7qe8CSjzMcB/FMSm6SYUe9FpAlp6\n",
       "i9m3hTgYmE/8aLfUsUrFE/PRa0uY8E6jjgV8XUDiZEsUTMgrQX0Gd7oBe5t6wiuZH+e3wf8bZw5B\n",
       "uuOA2DRdhKQXRUNLzzr6lqpB5hHnrtpYqcIkRoqQ6kiY8E6gngPYxQ0eVE5mo2ATux7CaTyCnapE\n",
       "b2WiHhrm/ccw/hCX05HTyYbYNF2ETltKtPSK+X2L16k3B6NSF2HxCiy0Rd807wTq/0D0TXOyEsU0\n",
       "89qE7Tn0dS4U2XcGJdgncgaZ78Bo7XvUt0f8Y0JDbBqXkOZF8rJzQJriPW7Ot2kRWW1em9hYJcWY\n",
       "vEmxTjXvBOotsU51Jxx1nO+qqTB3MINGjFZSVbwllyCLzyHTsFKtosw2eBUcEJvGJaR5kTRsC7tM\n",
       "8S6afRMHBMhX4cdA9RJhY5Usm5/jFe38JrwTqBP6+U04EcedzeylTF2+/wM+h+w4Z2yE1078hKu5\n",
       "cPeFKdzJC1crLohN4xLSvCTn6W9OBRTvfrNvm+P446NPkpyBjVVG+H77+nl1rxfeCVT6vHavF072\n",
       "R8ix4rrO9eu4L3SBrIN3w/eFvPVLCi8Fl2Nhpcobg6FY4Ovxnp4X8i73eujjXu9O9OLNVKjb+zj5\n",
       "+0qClSofDobisROG8/nNTu0ERzkWNtUaCMVjeUj7RjRo2VWOhfVLA6F45MOhbNsm6v8IIV0OgX0w\n",
       "CIrFUxo8Ep2EyDaHAAAAAElFTkSuQmCC\n",
       "\" style=\"display:inline;vertical-align:middle;\" /></a></span>"
      ],
      "text/plain": [
       "{a in Complex, b in Complex, c in Complex} |- (a + b + c + a + b + a + c + b + a + c + a) = ((5 * a) + (3 * b) + (3 * c))"
      ]
     },
     "execution_count": 57,
     "metadata": {},
     "output_type": "execute_result"
    }
   ],
   "source": [
    "Add(a,b,c,a,b,a,c,b,a,c,a).simplification(assumptions=[InSet(a, Complex), InSet(b, Complex), InSet(c, Complex)])"
   ]
  },
  {
   "cell_type": "code",
   "execution_count": 58,
   "metadata": {},
   "outputs": [
    {
     "data": {
      "text/html": [
       "<span style=\"font-size:20px;\"> <a class=\"ProveItLink\" href=\"../__pv_it/demonstrations/75466b8652302711aa5f3ed075b5db4497ab84e70/proof.ipynb\" style=\"text-decoration: none\">&nbsp;&#x22A2;&nbsp;&nbsp;</a><a class=\"ProveItLink\" href=\"../__pv_it/demonstrations/4d22568d1365e42cc4c11d84d09fffea1fa87ac70/expr.ipynb\"><img src=\"data:image/png;base64,iVBORw0KGgoAAAANSUhEUgAAAJAAAAAVBAMAAABbFXrgAAAAMFBMVEX////MzMxUVFRERES6uroi\n",
       "IiIQEBCYmJhmZmYyMjLu7u52dnaqqqqIiIjc3NwAAACW8nlqAAAAAXRSTlMAQObYZgAAAAlwSFlz\n",
       "AAAOxAAADsQBlSsOGwAAAZBJREFUOMuFlL9LAzEYhl/P9qrFXm/p5OCPybGCq8VJHIsoOnRw6OTi\n",
       "YSe3LkKlSxGko0L/AMXJzS4VxKHFRXCx4CIIomsp1nyB1uTLkWQo1++e97nkvuQA9GEfQVyxbyKZ\n",
       "tkOU6Jk1FpLIk1LIXbHAx9kq8GKKlNDn3ZpE0o1JKb1yyURBHvcbmOV6LVRFt03ITKQAbyzi9eEf\n",
       "IFXlIiWUGeK6QYgPi8gfwPsFDrlICSXKyDYIebSJvCK8H6DJRVoI3YiQuk0kRvIbuOVFLZTYAyFN\n",
       "h2hBdPZEXp3u0timSzU09bwEQkoOEQUfeLGkL61NSFl08EI+KxyL/v+L/uRpVlykhaglAinbZ3RM\n",
       "P5sxosnKQkwPCbEvbe4GX0CHvyMllB1IUQfrVtE88ApU+IyUkL8ol1bRW3vPvgTBfq1WZN0GtP2Q\n",
       "iuQ+qiOn3F8+Oo/0TTQajcS23eEiNbRVE4dWIMkQrhEUjV0amoh5ImE5ouP1VGOQglP0bpYKMUjL\n",
       "KYp5VCsGCXoOTybmo85CAvkDtBhxGEdJJGQAAAAASUVORK5CYII=\n",
       "\" style=\"display:inline;vertical-align:middle;\" /></a></span>"
      ],
      "text/plain": [
       "|- (-1 - 2) = (-3)"
      ]
     },
     "execution_count": 58,
     "metadata": {},
     "output_type": "execute_result"
    }
   ],
   "source": [
    "Add(Neg(one), Neg(two)).evaluation()"
   ]
  },
  {
   "cell_type": "code",
   "execution_count": 59,
   "metadata": {},
   "outputs": [],
   "source": [
    "# Multi-digit arithmetic needs to be implemented in order to\n",
    "# get this to work w.r.t. indexing.  So we comment this out for now.\n",
    "#Add(a,b,c,a,b,a,c,b,a,c,a,a).simplification([InSet(a, Complex), InSet(b, Complex), InSet(c, Complex)]).proof()"
   ]
  },
  {
   "cell_type": "code",
   "execution_count": 60,
   "metadata": {},
   "outputs": [
    {
     "data": {
      "text/html": [
       "<span style=\"font-size:20px;\"><a class=\"ProveItLink\" href=\"../__pv_it/theorems/b66b5547fa9b0b910f79351152926c658c2718190/expr.ipynb\"><img src=\"data:image/png;base64,iVBORw0KGgoAAAANSUhEUgAAADEAAAAQBAMAAABNQoq8AAAAMFBMVEX///9UVFQyMjK6urru7u4Q\n",
       "EBBERERmZmaqqqoiIiLc3NzMzMyYmJiIiIh2dnYAAABC1PP/AAAAAXRSTlMAQObYZgAAAAlwSFlz\n",
       "AAAOxAAADsQBlSsOGwAAAMJJREFUGNNjYMAEfplKt/ZhEWfgFT3AUp+OTabWjoGBB5sMd0EKkBRH\n",
       "Fro2c6YCkGJ0SACSPkgSRlcgNBtXAUzo7Z0NQJJLBcpdyP0AylrZwA7SzrQAyt/HfADKmsfAegEk\n",
       "AzNiOfMFCIP9C4TeOhMIEsD2QE1jTYDQbjA9bA5QEX+oXk6YDDPYP8wMDPxA+wxAYXIBHgaGQKII\n",
       "aE8CAx/I1Qwa8HBLqmLpBPnp3RmIFx2THWBhnfqzCiXA7DLBoQMDAANFK7BF6/dnAAAAAElFTkSu\n",
       "QmCC\n",
       "\" style=\"display:inline;vertical-align:middle;\" /></a> <a class=\"ProveItLink\" href=\"../__pv_it/demonstrations/64136974a3ea1cd505f9adb0a76db2e16598e80a0/proof.ipynb\" style=\"text-decoration: none\">&nbsp;&#x22A2;&nbsp;&nbsp;</a><a class=\"ProveItLink\" href=\"../__pv_it/demonstrations/28c42f8e4143745a654c258386131b62aff2c4a70/expr.ipynb\"><img src=\"data:image/png;base64,iVBORw0KGgoAAAANSUhEUgAAAWsAAAAVBAMAAAByN9JOAAAAMFBMVEX////MzMxUVFRERES6uroi\n",
       "IiIQEBCYmJhmZmYyMjLu7u52dnaqqqqIiIjc3NwAAACW8nlqAAAAAXRSTlMAQObYZgAAAAlwSFlz\n",
       "AAAOxAAADsQBlSsOGwAAAvJJREFUSMe9Vz1oU1EUPvl7ifl5iUMnEWNxcHxCVzWLP4uYFqIFHYJE\n",
       "1waXZgxIaYpLcBFcDLjolKCLUKRZRSTBRShiAxIVpFInMQTjufea5N1zz8uzDnnwtfBxvi/fPffm\n",
       "vBsA6MF8H+7zbLbS5sXSINWec+wrDPcBvjQ4lhVLgzeIhYbfZ33dOkOYby+XfBOyvqmyQSVb0BmN\n",
       "RkWDtbfv5QyxQLwO8dOP/WLbDuzo+ngVOj775OX7yGCeAbyo1TbaBvsUkkNTjIiJte+N7S9Rw7Bq\n",
       "TbAHVlErSQ2hWZ8t8vKtGLE3AVq4o0SN7F47/ksvrShYmv1bY/u68p81gOBvrSRcgnR9tsjL1zL2\n",
       "ADuCnc4SNbIXc0BiCzHi9T/FDuYh+IOWdMr/F/sIPdxJuf5ERlcrNvlTrxVixH3e/tX7jJ4AIgek\n",
       "JHzdV8T7JrIkdqwl/n4ii1bsBdcax2LEQ9a+3445JPaJrl4SeHfSV8T7RmUbNwriWZm2/xSJLdnj\n",
       "i5lJ6okYcZO1vwFWl8ReMfZ7PEm8Rbxvkgw6iAgju0hiS9Y9SSZiRGlqj+u/o9YfG6htKhSu3S4U\n",
       "5J6qRk5L1PfUR8T7Bg5IbEvM1kSdqC01cdfQQ46TqRhR4rpiOca36y7oJYEMhIZ+It43XORiRxyi\n",
       "FuxRgPOi6auaGMEekmaXJsA31netJD2gsU2Rh28yT862PA7NLHNIRg0VWxcjznL2afw25DSPYwC7\n",
       "euOy6pDMEnn4Rh3S7ZCov1olsQV7Sx0SIkY8F8xOT7fHg5zQZpm9WqvltZJomc5tQ+Tlqyab65ET\n",
       "sdMisQW77prbUzFiAYnFtQfkzbG9vqt5RPCiQ96Jl2tLMFvk5RvJkdgB0ZHPbRJbsOGa6yo1ESMi\n",
       "GbeB9wvPu+TQor7hsMyql7l7WF8hWnWT3rci75JDizYNhwqrrnCxN//i3Jx/JYhLMH1C7C8sjhVi\n",
       "afBk3rGZNHGHva87vFga2N05x/7IcPts5T4vRvwBfOY8v41Xw+sAAAAASUVORK5CYII=\n",
       "\" style=\"display:inline;vertical-align:middle;\" /></a></span>"
      ],
      "text/plain": [
       "{c in Complex} |- (1 + c + 2 + 3 + c + 1 + c) = (7 + (3 * c))"
      ]
     },
     "execution_count": 60,
     "metadata": {},
     "output_type": "execute_result"
    }
   ],
   "source": [
    "Add(one, c, two, three, c, one,c).simplification(assumptions=[InSet(c, Complex)])"
   ]
  },
  {
   "cell_type": "code",
   "execution_count": 61,
   "metadata": {},
   "outputs": [
    {
     "data": {
      "text/html": [
       "<strong id=\"expr\">expr:</strong> <a class=\"ProveItLink\" href=\"../__pv_it/demonstrations/7dbfccdea90db35969ea6cb2050b82bf722e47d00/expr.ipynb\"><img src=\"data:image/png;base64,iVBORw0KGgoAAAANSUhEUgAAAHcAAAAVBAMAAACOK2zoAAAAMFBMVEX////u7u6qqqpEREQQEBC6\n",
       "urrc3Nx2dnYyMjKYmJiIiIhUVFQiIiJmZmbMzMwAAADCG2+HAAAAAXRSTlMAQObYZgAAAAlwSFlz\n",
       "AAAOxAAADsQBlSsOGwAAAbJJREFUOMtjYCAKJBAlhB1wKWCKRUGot6iijCYH0BWqMzCw3W1+gGrg\n",
       "BDB1Gk0pxwU0AcYGBoZkBvavqKKNYCNgmiOhND/MkawQwxl4gfQ2BgYXVM1zQcTLbihPC0rHC0AZ\n",
       "TAsgNAsQ+wsw7EcNIxaQsgJ0zTUMaJo1gHgPA8N+VE9zAN3DlYCuuXvVJlTN1yHUeYTGqpUPGNg3\n",
       "MDBkMqBpZvwhIJ+AorkTTPL9guvNUeA1YOAEBmMBumamjwwsC1A0HwKTPBvgmo+DVDA5MHAmQDTf\n",
       "OXPG5cwZUMDzNjDwFwCpM2eO+Jw5A9LhCtZxGeIskIqPYJd8YMhiQLeZp4AhXgHFZrBmTojFZ0Hh\n",
       "bACOSAeG6N27v2xH0QyM5vsCmM5WZ2CDRZU8WJwJnBC9UW3mf8DoiRraViBHFjBwweKfHxhJAQyc\n",
       "YPs/o2rmnsB8AVVzNSiA7969AwsvYFCzP2DgLQAFxP9dqFG1/SZaInkDiuT//3/AQ7t85kJg2AQg\n",
       "Jxkt9MwE08zzAFs+zUHhRaJLwzIG5wVsmm8SWRiYYRFjMyBSszAWMWZiyyG2BZhiyxgYAOCVaUAz\n",
       "ABxgAAAAAElFTkSuQmCC\n",
       "\" style=\"display:inline;vertical-align:middle;\" /></a><br>"
      ],
      "text/plain": [
       "expr: 4 + b + (2 * c)"
      ]
     },
     "execution_count": 61,
     "metadata": {},
     "output_type": "execute_result"
    }
   ],
   "source": [
    "expr = Add(c, Neg(one), b, Add(two, three), Neg(c), Add(c, zero, c)).simplified(\n",
    "    assumptions=[InSet(c, Complex),InSet(b, Complex)])"
   ]
  },
  {
   "cell_type": "code",
   "execution_count": 62,
   "metadata": {},
   "outputs": [
    {
     "data": {
      "text/html": [
       "<span style=\"font-size:20px;\"> <a class=\"ProveItLink\" href=\"../__pv_it/demonstrations/7f28a1e36ec219c06d0dbd969d229c0ff7eba1c70/proof.ipynb\" style=\"text-decoration: none\">&nbsp;&#x22A2;&nbsp;&nbsp;</a><a class=\"ProveItLink\" href=\"../__pv_it/demonstrations/c2c3b6dd7876f1188c72104cc41347fc60a538c80/expr.ipynb\"><img src=\"data:image/png;base64,iVBORw0KGgoAAAANSUhEUgAAANsAAAAVBAMAAAA9T4a3AAAAMFBMVEX////MzMxUVFRERES6uroi\n",
       "IiIQEBCYmJhmZmYyMjLu7u52dnaqqqqIiIjc3NwAAACW8nlqAAAAAXRSTlMAQObYZgAAAAlwSFlz\n",
       "AAAOxAAADsQBlSsOGwAAAZ9JREFUSMdjYGB4wEA+wKaXD69i3gMUWOeLRewOXsWngVh0AboUughf\n",
       "x2QBLCK8BRiG8mzAp5hrAgOXxnw0wzFFHjNwf8EmMgvDupV4FXOA3Hcfw3dwEXcIpcfAkIaqAiJS\n",
       "gWFdO17FbAz4rTsLofIXMOijpguICBuGzgS8ik8SZ50qA4M+anxARDjRI49nAl7F3cRZBwTxGOEG\n",
       "FOFWQBPj2IBX8XRirWP8i64GJMI+AcRqDQWBIBAT4l2cimOItY4V3R9gEZ4EdMEDeBWnIAxfCXZj\n",
       "IJJ1QFenQV3N0AzOIVPBagTgIowf0Ixlc8CrOIVI37FjuBcswpKAzTrciokNzNMMfGgFJFiEJwAt\n",
       "7sCBiVuxLXHWMW5g4EVVBBFhN0DTyHwBr+JNIN5+jJIdLgK17mlHRyuqCogINN0jAChn4FEsCuQo\n",
       "5U9Cy60IEah18f///0TLR2ARVgf0BB+AVzGrAP4q5ix+6acYIoF4FbM34DfPHb90O4ZIBX7FdhTU\n",
       "rgx8BhhCzA/wKl5MiXVYzOYywKuY7wIF1t3DIvYWj2IAlXuyNaXMfCwAAAAASUVORK5CYII=\n",
       "\" style=\"display:inline;vertical-align:middle;\" /></a></span>"
      ],
      "text/plain": [
       "|- (1 - 1 + 2 - 2) = (2 - 2)"
      ]
     },
     "execution_count": 62,
     "metadata": {},
     "output_type": "execute_result"
    }
   ],
   "source": [
    "Add(one, Neg(one), two, Neg(two)).cancelation(0, 1, auto_simplify=False)"
   ]
  },
  {
   "cell_type": "code",
   "execution_count": 63,
   "metadata": {},
   "outputs": [
    {
     "data": {
      "text/html": [
       "<span style=\"font-size:20px;\"> <a class=\"ProveItLink\" href=\"../__pv_it/demonstrations/7173ceab890ff4967cf4ca128f039ef0daecbbc50/proof.ipynb\" style=\"text-decoration: none\">&nbsp;&#x22A2;&nbsp;&nbsp;</a><a class=\"ProveItLink\" href=\"../__pv_it/demonstrations/74bbf0346ef1037b24a23277bea3b4f03b192e890/expr.ipynb\"><img src=\"data:image/png;base64,iVBORw0KGgoAAAANSUhEUgAAAKkAAAAVBAMAAADP89MSAAAAMFBMVEX////MzMxUVFRERES6uroi\n",
       "IiIQEBCYmJhmZmYyMjLu7u52dnaqqqqIiIjc3NwAAACW8nlqAAAAAXRSTlMAQObYZgAAAAlwSFlz\n",
       "AAAOxAAADsQBlSsOGwAAAZ1JREFUOMullT9Iw0AUh39F27RpG7o4WwTByRadFbdO4h9wE1tBuraL\n",
       "4qYgxUqXoojgYqCTW9HRwaxSSouTkxaku4ODIlLvciVt3iUhmIOQ47t3X17uXS4Aevh/c52bNAJY\n",
       "V90GWuya0imlRKtepBxIsiz5Hl7YC6h1qHM3xCGTd8Q/ncg1lcYMdQeI8qe9SblaJCdu80DRHiHI\n",
       "IZ24D9wDEXhb2+JW0pGxl0aQCJ25AHR0PPmzzgIZ+8IKEqML+wVMG6j5s7KWlwrDSDxNKsKtZVz5\n",
       "tYZ+aQwnSp33Klu8bfKd8cOsXWz7tYbTNIaTRIHsN25tYm/kuDWfuDFmZTkURQ7AifmCl2ZMyiKh\n",
       "D7ICzLrWHbd65qpIqZpksiBXq2P4XoEWtB79KBlJrNvXFYvAkY4lf9ZQE0l7kCBKlkw8AM6AO959\n",
       "lM4eiwyt/Wq1Yo8QJNqkJTTUXXaMsN5M6Zxs5hEZWvODwTfZrCYJrxCrWntmtQynvM+6tvdw3xkr\n",
       "x97Tct7Dpy58OcChDS3rMtAIYp1w+8Vo3QDWV2f8B72UjgnequK/AAAAAElFTkSuQmCC\n",
       "\" style=\"display:inline;vertical-align:middle;\" /></a></span>"
      ],
      "text/plain": [
       "|- (1 - 1 + 2 - 2) = 0"
      ]
     },
     "execution_count": 63,
     "metadata": {},
     "output_type": "execute_result"
    }
   ],
   "source": [
    "Add(one, Neg(one), two, Neg(two)).cancelation(0, 1, auto_simplify=True)"
   ]
  },
  {
   "cell_type": "code",
   "execution_count": 64,
   "metadata": {},
   "outputs": [
    {
     "data": {
      "text/html": [
       "<span style=\"font-size:20px;\"><a class=\"ProveItLink\" href=\"../__pv_it/theorems/e9f87a0977d5044ea8daf1040d2f219396bb3d5b0/expr.ipynb\"><img src=\"data:image/png;base64,iVBORw0KGgoAAAANSUhEUgAAADMAAAAQBAMAAABJt1qBAAAAMFBMVEX////MzMwyMjKqqqoiIiJm\n",
       "ZmaYmJju7u5EREQQEBC6urqIiIh2dnZUVFTc3NwAAAAqL9KcAAAAAXRSTlMAQObYZgAAAAlwSFlz\n",
       "AAAOxAAADsQBlSsOGwAAANFJREFUGNNjYMACalqU9slgk2DgvpnAHt+KVSp6DQMDG1YpxoB2IHkV\n",
       "RWyHi4sCkOItaACSZcgyi7ZDaA6+AKgI3519G8C0OlTgLeMBKGvlA47vIJrpAVRAhisBwmCfxsDq\n",
       "AJaCGfyUawOEwfqBgQVsgKQLEDSA7YIayNnAUL8AxKiA6eIAuxAI6jcw5IMZLDApLrC/uIBSBgyX\n",
       "mEEu4N4AD421QCIIqH0DsysrWEQZHoZNcewmQL+x3z74diNYpLarABbynV/iUANvTQs4oGAAAKqD\n",
       "MEJAsWyMAAAAAElFTkSuQmCC\n",
       "\" style=\"display:inline;vertical-align:middle;\" /></a>, <a class=\"ProveItLink\" href=\"../__pv_it/theorems/a259ec76dfb0a5be60b7c83d797520fa82c1dba60/expr.ipynb\"><img src=\"data:image/png;base64,iVBORw0KGgoAAAANSUhEUgAAADEAAAAQBAMAAABNQoq8AAAAMFBMVEX///+YmJjMzMzc3NyIiIhU\n",
       "VFR2dna6urqqqqpmZmYyMjIiIiIQEBBERETu7u4AAAD7tRWPAAAAAXRSTlMAQObYZgAAAAlwSFlz\n",
       "AAAOxAAADsQBlSsOGwAAANtJREFUGNNjYMAEz26vclZjYOC7swFNgiVGgG/+TSCDawKazJQyBgZG\n",
       "kAx/A6oE04R7QDISiOsfQIV8d+9eAKRYH1wAkg+BOBsqUeUHoXmZYcYvdYkAUczroHxTpgQIg+/X\n",
       "g/cGIIcYQGXU2AUgDI5/DDwOIBmYCyzZHSAMzgUM/CDtOruB4ALYHqhp3AkM9SB3v4Xp4QW7DeKd\n",
       "+SB3c8Nk2MH+YQfKKPAdBIeJAzwMSoHELKDHBHgh7l8BD7dbk/m6gWJ8YRMhAk+vwwLj2Z3fk1EC\n",
       "rOw2OHRgAAASXDjITT81JQAAAABJRU5ErkJggg==\n",
       "\" style=\"display:inline;vertical-align:middle;\" /></a> <a class=\"ProveItLink\" href=\"../__pv_it/demonstrations/0c8db1b96d919e28650aca2b2629cff1b61839790/proof.ipynb\" style=\"text-decoration: none\">&nbsp;&#x22A2;&nbsp;&nbsp;</a><a class=\"ProveItLink\" href=\"../__pv_it/demonstrations/675a9e32ec5b8eccac538a03afea2bc7fe9ba21d0/expr.ipynb\"><img src=\"data:image/png;base64,iVBORw0KGgoAAAANSUhEUgAAAKcAAAAVBAMAAADROuOhAAAAMFBMVEX///8AAAAAAAAAAAAAAAAA\n",
       "AAAAAAAAAAAAAAAAAAAAAAAAAAAAAAAAAAAAAAAAAAAv3aB7AAAAD3RSTlMAInZUiRDNmWbv3US7\n",
       "qzJazP2FAAAACXBIWXMAAA7EAAAOxAGVKw4bAAAB5klEQVQ4y6VVzysEURz/rDE7+0u7fwA1XLjQ\n",
       "HKS42INSQnNSitZFpNQeNsnFnhSpLaW0SkTJiFydFhcpSkiOe3ZBLDf5vskz897OtO16Na/X98fn\n",
       "vff5ft53ACRQ8wj4OeqM2kGjuo+j08OmXm1XBBzL09RWZu5rpZurE14ZwXTlY06xOFNONNQdQMt6\n",
       "JcT9OYnyhHf6QvLmK8AgEPbMLJi+oMovj9ESm9cl7w3Qa6LLM3MAFUHrbdqnJe8X8GIgw5Tx0CyV\n",
       "cbblXhLPXwgHDd61E0dDUoUZaNbe6jQRK4m+TzMlytcJ4aCpSfUNWGLLBYuNI7b3B4Hq2CWIDWii\n",
       "hJQSwsLZXSEclKhbA7qlCzHQJDZJAK+IJMkyYm94TCttAnGyqDO2peiEaJZ1kLesW1rOAQxBuj6Z\n",
       "CjoDDZ8hdSL4CKAgiMoVwk+6hyiJ6rS8UL0Gu35KR65MpouCqFwhHPQdGrHcI3KKayBn4oIyDDwq\n",
       "Ql3iRSJRAHVCOOg3RukZrEonXbZ5IU3EdGVfE1wN2Zj4VFwhHPQJlzRnJNCIoW4Bz8Tu3XBTh8j3\n",
       "w7xUACeEg473s/d6KLeiTDvVNVKsst0pbq0FvLtZKF1tD3V3IO92BJzjH6PRr9n+B9TvRAG9dsw6\n",
       "7//bDy76eHb/gpLrAAAAAElFTkSuQmCC\n",
       "\" style=\"display:inline;vertical-align:middle;\" /></a></span>"
      ],
      "text/plain": [
       "{a in Complex, b in Complex} |- (a - b - a + b) = 0"
      ]
     },
     "execution_count": 64,
     "metadata": {},
     "output_type": "execute_result"
    }
   ],
   "source": [
    "Add(a, Neg(b), Neg(a), b).cancelations(assumptions=[InSet(a, Complex), InSet(b, Complex)], auto_simplify=False)"
   ]
  },
  {
   "cell_type": "code",
   "execution_count": 65,
   "metadata": {},
   "outputs": [
    {
     "data": {
      "text/html": [
       "<span style=\"font-size:20px;\"><a class=\"ProveItLink\" href=\"../__pv_it/theorems/e9f87a0977d5044ea8daf1040d2f219396bb3d5b0/expr.ipynb\"><img src=\"data:image/png;base64,iVBORw0KGgoAAAANSUhEUgAAADMAAAAQBAMAAABJt1qBAAAAMFBMVEX////MzMwyMjKqqqoiIiJm\n",
       "ZmaYmJju7u5EREQQEBC6urqIiIh2dnZUVFTc3NwAAAAqL9KcAAAAAXRSTlMAQObYZgAAAAlwSFlz\n",
       "AAAOxAAADsQBlSsOGwAAANFJREFUGNNjYMACalqU9slgk2DgvpnAHt+KVSp6DQMDG1YpxoB2IHkV\n",
       "RWyHi4sCkOItaACSZcgyi7ZDaA6+AKgI3519G8C0OlTgLeMBKGvlA47vIJrpAVRAhisBwmCfxsDq\n",
       "AJaCGfyUawOEwfqBgQVsgKQLEDSA7YIayNnAUL8AxKiA6eIAuxAI6jcw5IMZLDApLrC/uIBSBgyX\n",
       "mEEu4N4AD421QCIIqH0DsysrWEQZHoZNcewmQL+x3z74diNYpLarABbynV/iUANvTQs4oGAAAKqD\n",
       "MEJAsWyMAAAAAElFTkSuQmCC\n",
       "\" style=\"display:inline;vertical-align:middle;\" /></a>, <a class=\"ProveItLink\" href=\"../__pv_it/theorems/a259ec76dfb0a5be60b7c83d797520fa82c1dba60/expr.ipynb\"><img src=\"data:image/png;base64,iVBORw0KGgoAAAANSUhEUgAAADEAAAAQBAMAAABNQoq8AAAAMFBMVEX///+YmJjMzMzc3NyIiIhU\n",
       "VFR2dna6urqqqqpmZmYyMjIiIiIQEBBERETu7u4AAAD7tRWPAAAAAXRSTlMAQObYZgAAAAlwSFlz\n",
       "AAAOxAAADsQBlSsOGwAAANtJREFUGNNjYMAEz26vclZjYOC7swFNgiVGgG/+TSCDawKazJQyBgZG\n",
       "kAx/A6oE04R7QDISiOsfQIV8d+9eAKRYH1wAkg+BOBsqUeUHoXmZYcYvdYkAUczroHxTpgQIg+/X\n",
       "g/cGIIcYQGXU2AUgDI5/DDwOIBmYCyzZHSAMzgUM/CDtOruB4ALYHqhp3AkM9SB3v4Xp4QW7DeKd\n",
       "+SB3c8Nk2MH+YQfKKPAdBIeJAzwMSoHELKDHBHgh7l8BD7dbk/m6gWJ8YRMhAk+vwwLj2Z3fk1EC\n",
       "rOw2OHRgAAASXDjITT81JQAAAABJRU5ErkJggg==\n",
       "\" style=\"display:inline;vertical-align:middle;\" /></a> <a class=\"ProveItLink\" href=\"../__pv_it/demonstrations/0c8db1b96d919e28650aca2b2629cff1b61839790/proof.ipynb\" style=\"text-decoration: none\">&nbsp;&#x22A2;&nbsp;&nbsp;</a><a class=\"ProveItLink\" href=\"../__pv_it/demonstrations/675a9e32ec5b8eccac538a03afea2bc7fe9ba21d0/expr.ipynb\"><img src=\"data:image/png;base64,iVBORw0KGgoAAAANSUhEUgAAAKcAAAAVBAMAAADROuOhAAAAMFBMVEX///8AAAAAAAAAAAAAAAAA\n",
       "AAAAAAAAAAAAAAAAAAAAAAAAAAAAAAAAAAAAAAAAAAAv3aB7AAAAD3RSTlMAInZUiRDNmWbv3US7\n",
       "qzJazP2FAAAACXBIWXMAAA7EAAAOxAGVKw4bAAAB5klEQVQ4y6VVzysEURz/rDE7+0u7fwA1XLjQ\n",
       "HKS42INSQnNSitZFpNQeNsnFnhSpLaW0SkTJiFydFhcpSkiOe3ZBLDf5vskz897OtO16Na/X98fn\n",
       "vff5ft53ACRQ8wj4OeqM2kGjuo+j08OmXm1XBBzL09RWZu5rpZurE14ZwXTlY06xOFNONNQdQMt6\n",
       "JcT9OYnyhHf6QvLmK8AgEPbMLJi+oMovj9ESm9cl7w3Qa6LLM3MAFUHrbdqnJe8X8GIgw5Tx0CyV\n",
       "cbblXhLPXwgHDd61E0dDUoUZaNbe6jQRK4m+TzMlytcJ4aCpSfUNWGLLBYuNI7b3B4Hq2CWIDWii\n",
       "hJQSwsLZXSEclKhbA7qlCzHQJDZJAK+IJMkyYm94TCttAnGyqDO2peiEaJZ1kLesW1rOAQxBuj6Z\n",
       "CjoDDZ8hdSL4CKAgiMoVwk+6hyiJ6rS8UL0Gu35KR65MpouCqFwhHPQdGrHcI3KKayBn4oIyDDwq\n",
       "Ql3iRSJRAHVCOOg3RukZrEonXbZ5IU3EdGVfE1wN2Zj4VFwhHPQJlzRnJNCIoW4Bz8Tu3XBTh8j3\n",
       "w7xUACeEg473s/d6KLeiTDvVNVKsst0pbq0FvLtZKF1tD3V3IO92BJzjH6PRr9n+B9TvRAG9dsw6\n",
       "7//bDy76eHb/gpLrAAAAAElFTkSuQmCC\n",
       "\" style=\"display:inline;vertical-align:middle;\" /></a></span>"
      ],
      "text/plain": [
       "{a in Complex, b in Complex} |- (a - b - a + b) = 0"
      ]
     },
     "execution_count": 65,
     "metadata": {},
     "output_type": "execute_result"
    }
   ],
   "source": [
    "Add(a, Neg(b), Neg(a), b).cancelations(assumptions=[InSet(a, Complex), InSet(b, Complex)], auto_simplify=True)"
   ]
  },
  {
   "cell_type": "code",
   "execution_count": 66,
   "metadata": {},
   "outputs": [
    {
     "data": {
      "text/html": [
       "<span style=\"font-size:20px;\"><a class=\"ProveItLink\" href=\"../__pv_it/theorems/e9f87a0977d5044ea8daf1040d2f219396bb3d5b0/expr.ipynb\"><img src=\"data:image/png;base64,iVBORw0KGgoAAAANSUhEUgAAADMAAAAQBAMAAABJt1qBAAAAMFBMVEX////MzMwyMjKqqqoiIiJm\n",
       "ZmaYmJju7u5EREQQEBC6urqIiIh2dnZUVFTc3NwAAAAqL9KcAAAAAXRSTlMAQObYZgAAAAlwSFlz\n",
       "AAAOxAAADsQBlSsOGwAAANFJREFUGNNjYMACalqU9slgk2DgvpnAHt+KVSp6DQMDG1YpxoB2IHkV\n",
       "RWyHi4sCkOItaACSZcgyi7ZDaA6+AKgI3519G8C0OlTgLeMBKGvlA47vIJrpAVRAhisBwmCfxsDq\n",
       "AJaCGfyUawOEwfqBgQVsgKQLEDSA7YIayNnAUL8AxKiA6eIAuxAI6jcw5IMZLDApLrC/uIBSBgyX\n",
       "mEEu4N4AD421QCIIqH0DsysrWEQZHoZNcewmQL+x3z74diNYpLarABbynV/iUANvTQs4oGAAAKqD\n",
       "MEJAsWyMAAAAAElFTkSuQmCC\n",
       "\" style=\"display:inline;vertical-align:middle;\" /></a>, <a class=\"ProveItLink\" href=\"../__pv_it/demonstrations/c2054066c99464bcec280845683c41843957fd240/expr.ipynb\"><img src=\"data:image/png;base64,iVBORw0KGgoAAAANSUhEUgAAADgAAAAQBAMAAACxV6F2AAAAMFBMVEX///8QEBAiIiLu7u5ERES6\n",
       "urqYmJiIiIjMzMx2dnZUVFRmZmaqqqoyMjLc3NwAAABb1yYoAAAAAXRSTlMAQObYZgAAAAlwSFlz\n",
       "AAAOxAAADsQBlSsOGwAAAOlJREFUGNNjYACBtwxogHmK7vUXEyDs++iSVWIM1l82gJk8/9HkuEuB\n",
       "ulIgktzrH6BKdrMYMDBwQSTnzW+ACJYoKV0A0YtZQPYmgJh8BfUHwHKxxVCdDq8RNjCchyi6DBXg\n",
       "W9AJl4xh6Ae7mhdmM8eEMLjkBob3C8CSMAG+DeEwJrv37vUOIEajEhCAWQ4vYZLmDAz8CiCGCdws\n",
       "ZxaEqQxMAiAGE1wyGuRPhgAGBlagS3k/gM0vQIQQ0BHcQC8/BHJY/oHF7sC1ltx+YKMNtOj/ZQYe\n",
       "/79gv1i5GsBjRV4bLUgZIp0gwQcFACCLN6cKcudwAAAAAElFTkSuQmCC\n",
       "\" style=\"display:inline;vertical-align:middle;\" /></a>, <a class=\"ProveItLink\" href=\"../__pv_it/theorems/a259ec76dfb0a5be60b7c83d797520fa82c1dba60/expr.ipynb\"><img src=\"data:image/png;base64,iVBORw0KGgoAAAANSUhEUgAAADEAAAAQBAMAAABNQoq8AAAAMFBMVEX///+YmJjMzMzc3NyIiIhU\n",
       "VFR2dna6urqqqqpmZmYyMjIiIiIQEBBERETu7u4AAAD7tRWPAAAAAXRSTlMAQObYZgAAAAlwSFlz\n",
       "AAAOxAAADsQBlSsOGwAAANtJREFUGNNjYMAEz26vclZjYOC7swFNgiVGgG/+TSCDawKazJQyBgZG\n",
       "kAx/A6oE04R7QDISiOsfQIV8d+9eAKRYH1wAkg+BOBsqUeUHoXmZYcYvdYkAUczroHxTpgQIg+/X\n",
       "g/cGIIcYQGXU2AUgDI5/DDwOIBmYCyzZHSAMzgUM/CDtOruB4ALYHqhp3AkM9SB3v4Xp4QW7DeKd\n",
       "+SB3c8Nk2MH+YQfKKPAdBIeJAzwMSoHELKDHBHgh7l8BD7dbk/m6gWJ8YRMhAk+vwwLj2Z3fk1EC\n",
       "rOw2OHRgAAASXDjITT81JQAAAABJRU5ErkJggg==\n",
       "\" style=\"display:inline;vertical-align:middle;\" /></a>, <a class=\"ProveItLink\" href=\"../__pv_it/demonstrations/9a461f11fbe8b092e14486d50d696d80e31269c90/expr.ipynb\"><img src=\"data:image/png;base64,iVBORw0KGgoAAAANSUhEUgAAADkAAAAQBAMAAABelcpIAAAAMFBMVEX///92dnaqqqoiIiLu7u5m\n",
       "Zma6urqIiIjc3NwQEBDMzMwyMjJUVFRERESYmJgAAAAeMT9/AAAAAXRSTlMAQObYZgAAAAlwSFlz\n",
       "AAAOxAAADsQBlSsOGwAAAPxJREFUGNNjYMAOHC/vrlgIYrz9f+bM3gWokuwnH7DEXwUz5zIw8PxC\n",
       "lQ1PZGDgA8tyfGdgYPuKIskVcAVIHgUx+YD6+L5DhGuNjTcAKR6HC0DSDyTC84GBgXsGWDK7BKKI\n",
       "lyMAZgznBQaWw2BXcWyBCvVwCcBk118vP/0AzOJugAotZHsAk61vYGCaB5GFCbWyFcCYN4FYHmzy\n",
       "SmMguAC2F27yHyB+D1brCxPiBbsZ7Ld/QOJ8AojJDJNlA/uXDRRoP4AqfkPCD25beA6QiAY5ZQID\n",
       "QybUK5vg4Xw7gkUZ6Gee+3/OnL4EFfS55gCLo5ufIzAiLvEyOCRhAADAUULeSJUTFAAAAABJRU5E\n",
       "rkJggg==\n",
       "\" style=\"display:inline;vertical-align:middle;\" /></a>, <a class=\"ProveItLink\" href=\"../__pv_it/demonstrations/fe95df3a50620aec3827d14034cdef9991669a250/expr.ipynb\"><img src=\"data:image/png;base64,iVBORw0KGgoAAAANSUhEUgAAADgAAAAQBAMAAACxV6F2AAAAMFBMVEX///+6uroyMjLMzMwiIiJm\n",
       "ZmaqqqoQEBB2dnbc3NyYmJhUVFRERESIiIju7u4AAABBACUiAAAAAXRSTlMAQObYZgAAAAlwSFlz\n",
       "AAAOxAAADsQBlSsOGwAAAOxJREFUGNNjYMAK+HqcdCc3gBh3du/ibECVvF3F8PRPAJBx/R4DW8gC\n",
       "FDnWi0DFa4CSb5yBvPgJKJKmPA8YGLiBkupAmkEcInjHxUUBRO/jAVm3gIHjG1gpWE7oHlTngakQ\n",
       "er4DiHwMIjj1oHKcGywgjP4LcJuYYBYzN0hBGP4IpzDBGJwBshBGPZgEOYrB3AUIDoDtnAHVCSLY\n",
       "DEDkG7gZ53ggNNiHHGAmC1xSFORPBgGG+SAH9YGFeC8gQmgDkFBgYPvFwCDxACKmBtd6R3XCM1cg\n",
       "/fT0VgGo0OuDD+CxUu86AS2mJI5Agg8KALEnOioowOnoAAAAAElFTkSuQmCC\n",
       "\" style=\"display:inline;vertical-align:middle;\" /></a>, <a class=\"ProveItLink\" href=\"../__pv_it/theorems/b66b5547fa9b0b910f79351152926c658c2718190/expr.ipynb\"><img src=\"data:image/png;base64,iVBORw0KGgoAAAANSUhEUgAAADEAAAAQBAMAAABNQoq8AAAAMFBMVEX///9UVFQyMjK6urru7u4Q\n",
       "EBBERERmZmaqqqoiIiLc3NzMzMyYmJiIiIh2dnYAAABC1PP/AAAAAXRSTlMAQObYZgAAAAlwSFlz\n",
       "AAAOxAAADsQBlSsOGwAAAMJJREFUGNNjYMAEfplKt/ZhEWfgFT3AUp+OTabWjoGBB5sMd0EKkBRH\n",
       "Fro2c6YCkGJ0SACSPkgSRlcgNBtXAUzo7Z0NQJJLBcpdyP0AylrZwA7SzrQAyt/HfADKmsfAegEk\n",
       "AzNiOfMFCIP9C4TeOhMIEsD2QE1jTYDQbjA9bA5QEX+oXk6YDDPYP8wMDPxA+wxAYXIBHgaGQKII\n",
       "aE8CAx/I1Qwa8HBLqmLpBPnp3RmIFx2THWBhnfqzCiXA7DLBoQMDAANFK7BF6/dnAAAAAElFTkSu\n",
       "QmCC\n",
       "\" style=\"display:inline;vertical-align:middle;\" /></a> <a class=\"ProveItLink\" href=\"../__pv_it/demonstrations/aad40d96fd1ee18c8685ced1e214307ec127bec10/proof.ipynb\" style=\"text-decoration: none\">&nbsp;&#x22A2;&nbsp;&nbsp;</a><a class=\"ProveItLink\" href=\"../__pv_it/demonstrations/5779a87d85ad047ddcd722ceb2f0f0f9d30e321f0/expr.ipynb\"><img src=\"data:image/png;base64,iVBORw0KGgoAAAANSUhEUgAAAtUAAAAVBAMAAAB76g/FAAAAMFBMVEX////MzMxUVFRERES6uroi\n",
       "IiIQEBCYmJhmZmYyMjLu7u52dnaqqqqIiIjc3NwAAACW8nlqAAAAAXRSTlMAQObYZgAAAAlwSFlz\n",
       "AAAOxAAADsQBlSsOGwAABeZJREFUWMPdWV9oW2UUP03S9PYmvY0PA0G0tYLdmKVxggyhpi/WB5V2\n",
       "YsbQodN2ioI2Kjp9kIaOstY+NExYtT4stiB7kWaKKCuzF2SDIdrYwSYdXcOkMpHZdH/Q/ks835eb\n",
       "9p5zb5rbtA9ugf773fOdc36/79zznXsLACm47T+aHeiUVwo2sxo2EqVKd2z/5/9SaMzKk7TCyCsA\n",
       "anHJbPhrMYBntjhL6e8n/NoWd2R/nANjvzEuIwe5SUXoet2Ohzmqnq+r1xJFwpU9zzUYO9xsn9VF\n",
       "K4y8Oj8LFyeGdlf7aIKVadyCCMv40bZNURP+1Bio24870tqfZUClrr7IoE8tq7xBgMYAAy9Mgb8n\n",
       "sn644b5FhpwA/7J9VpUWAsgL9t46VZQU2mlBGCd7OIFawxAnG90cNfSnCHgmn+qTFhMTojQaVewx\n",
       "XL0H8A1FIK/FKgBzeH+3Rik4sge/DaSYJV9atciQGV1d4O5zWVVYhBC8au1YMATtXCnwHjBf687g\n",
       "tw9Y8Gp9c9TQnxfMWv9sycmE/DBu7KHfaI+7sATiBPHk5fGvdtAuXNSVpOAxsaqFW/KlVdxZSzMs\n",
       "WBblsnrDUnNg1rowL7TzLoIrY7rk+2teXIjTUK3xzVFDf+cca60lZ3Tq41+AGp0gvjZLQo0igRS1\n",
       "ktV/94a1xt/+4YiR1SDP+5xDrdHO1QauedOla1Uiv8oIDfUtbI4a+uu31frK6WuWLBWYoOFVoXWE\n",
       "eK1smNRZmHbsvHto7Dm5I1+whHzTbxfV+okIR4ysvuZaCl71l+5nLLSdl5MUkfyhPG1aGpU76qul\n",
       "oY5OPwSlUjt9MSD8Ddpp7XkLQnGu9dNQkyA+tCXUmt5Co0NqhoYpuzE9Ocg0G0/alLG2Hw4X0/re\n",
       "ugDna2T1odQ9LD9SJBHzMZhrpixaUu5FiuRyqzFl5NHLlsSUEaOFtRAfTZVIbVZXgsLffjutv4xA\n",
       "j6WuozBXa9U6Qbxi+36TCYban2XV+FLKJqHyhGWpTQ9Z5oiR1Vle15IXuNsIC/U1UChi2D1rPlVB\n",
       "uy5CHCCh/IvgTZZI7QWxFP11rGndEw6/Gg6LsAPiOkHQ8+7exmCuePYelMWjotatSTMCfQBLBAA3\n",
       "puybJ+ugUzqMU3AgDhQwtDYjuDTObIysarjWHTndMoSFkhZbSnhJOyUob8pcJZ/v7b4hqjZNgisx\n",
       "qE6URk2RPNBfh11dt4N6k9f1Vzj2tFnOxgmd7aBnmW5+NQarWGGbL/9g7aC9+Nl4F0CIHQf5rFps\n",
       "tHbHQJknLHAgHmVdRfJ/J3dnyfFNRde3RCuhdY171KqXRs0rdxL92fUQdQUq0lxrTKSchodHcOSh\n",
       "M9+ysYlrCYnD03WTrpPjp48Kqa4U1zobt2idz+oM79fIy4vzRZqwGE1CF1h7iD8Bf5taCD4ECZAW\n",
       "Fo7XA/HSqI3KH+ivyU7rZXDFfqE5ibm8Mk0dvy+bhhmZF62eJDSDwWti7LAWP08xIfHs9xTR+pVc\n",
       "DzHP8/ms3uV13SQp50pqTWsddvhThJfgfw/AFHnIEY/9FUGqdQCbfWnUqjHJZuFPDkvjKbrbTXAm\n",
       "GqVa/yEaVIYdZ7r6MkXqYTdL6BgK8jp7LBAz1VP80QCHkJNsCMwwk0OW+Xo1q36uNfLSonCBTlPu\n",
       "pH+fQnkJu329vasvOzRxl4RQD4UOXa6IO1oiNTwNfAHhbxv+Udd5NEIyGL50X0OAICPZIfCHFujU\n",
       "ofZPsqY7/D07lx/I1tV9ovPucGLX9mbeMnzffURr1vXgQj018fTm3z0ZyFpWz3GtBa+r3R/TGlIb\n",
       "Tl75lWqNduXZbDaWfz0SWojDj9nPEaWh1J1HoFRqY4empL/yQIEn8oKIzaPeOg9/GwcdeLcgmuUl\n",
       "nFNe5YECL6Vmt5jaLH9rs+67J+vbocKIJ+JonbOlxRHFYuGUl/WtlfE5ssXUhL/H4Q74/G6FnPIq\n",
       "YKcFt/hfR8LfyJ2gtY1gTnkVsHOntjZD6U9L3v5SV9kI45RXAbvLW5wi+vsP39Z+cuGTgY0AAAAA\n",
       "SUVORK5CYII=\n",
       "\" style=\"display:inline;vertical-align:middle;\" /></a></span>"
      ],
      "text/plain": [
       "{a in Complex, A in Complex, b in Complex, B in Complex, C in Complex, c in Complex} |- (1 + a + A + 0 + b + B + C + c + 1 + 3 + A) = (5 + a + (2 * A) + b + B + C + c)"
      ]
     },
     "execution_count": 66,
     "metadata": {},
     "output_type": "execute_result"
    }
   ],
   "source": [
    "Add(one, a, A, zero, b, B, C, c, one, three, A).simplification(\n",
    "    assumptions=[InSet(a, Complex), InSet(A, Complex), InSet(b, Complex), InSet(B, Complex), \n",
    "                 InSet(c, Complex), InSet(C, Complex)])"
   ]
  },
  {
   "cell_type": "code",
   "execution_count": 67,
   "metadata": {},
   "outputs": [
    {
     "data": {
      "text/html": [
       "<span style=\"font-size:20px;\"><a class=\"ProveItLink\" href=\"../__pv_it/theorems/e9f87a0977d5044ea8daf1040d2f219396bb3d5b0/expr.ipynb\"><img src=\"data:image/png;base64,iVBORw0KGgoAAAANSUhEUgAAADMAAAAQBAMAAABJt1qBAAAAMFBMVEX////MzMwyMjKqqqoiIiJm\n",
       "ZmaYmJju7u5EREQQEBC6urqIiIh2dnZUVFTc3NwAAAAqL9KcAAAAAXRSTlMAQObYZgAAAAlwSFlz\n",
       "AAAOxAAADsQBlSsOGwAAANFJREFUGNNjYMACalqU9slgk2DgvpnAHt+KVSp6DQMDG1YpxoB2IHkV\n",
       "RWyHi4sCkOItaACSZcgyi7ZDaA6+AKgI3519G8C0OlTgLeMBKGvlA47vIJrpAVRAhisBwmCfxsDq\n",
       "AJaCGfyUawOEwfqBgQVsgKQLEDSA7YIayNnAUL8AxKiA6eIAuxAI6jcw5IMZLDApLrC/uIBSBgyX\n",
       "mEEu4N4AD421QCIIqH0DsysrWEQZHoZNcewmQL+x3z74diNYpLarABbynV/iUANvTQs4oGAAAKqD\n",
       "MEJAsWyMAAAAAElFTkSuQmCC\n",
       "\" style=\"display:inline;vertical-align:middle;\" /></a>, <a class=\"ProveItLink\" href=\"../__pv_it/theorems/b66b5547fa9b0b910f79351152926c658c2718190/expr.ipynb\"><img src=\"data:image/png;base64,iVBORw0KGgoAAAANSUhEUgAAADEAAAAQBAMAAABNQoq8AAAAMFBMVEX///9UVFQyMjK6urru7u4Q\n",
       "EBBERERmZmaqqqoiIiLc3NzMzMyYmJiIiIh2dnYAAABC1PP/AAAAAXRSTlMAQObYZgAAAAlwSFlz\n",
       "AAAOxAAADsQBlSsOGwAAAMJJREFUGNNjYMAEfplKt/ZhEWfgFT3AUp+OTabWjoGBB5sMd0EKkBRH\n",
       "Fro2c6YCkGJ0SACSPkgSRlcgNBtXAUzo7Z0NQJJLBcpdyP0AylrZwA7SzrQAyt/HfADKmsfAegEk\n",
       "AzNiOfMFCIP9C4TeOhMIEsD2QE1jTYDQbjA9bA5QEX+oXk6YDDPYP8wMDPxA+wxAYXIBHgaGQKII\n",
       "aE8CAx/I1Qwa8HBLqmLpBPnp3RmIFx2THWBhnfqzCiXA7DLBoQMDAANFK7BF6/dnAAAAAElFTkSu\n",
       "QmCC\n",
       "\" style=\"display:inline;vertical-align:middle;\" /></a>, <a class=\"ProveItLink\" href=\"../__pv_it/theorems/a259ec76dfb0a5be60b7c83d797520fa82c1dba60/expr.ipynb\"><img src=\"data:image/png;base64,iVBORw0KGgoAAAANSUhEUgAAADEAAAAQBAMAAABNQoq8AAAAMFBMVEX///+YmJjMzMzc3NyIiIhU\n",
       "VFR2dna6urqqqqpmZmYyMjIiIiIQEBBERETu7u4AAAD7tRWPAAAAAXRSTlMAQObYZgAAAAlwSFlz\n",
       "AAAOxAAADsQBlSsOGwAAANtJREFUGNNjYMAEz26vclZjYOC7swFNgiVGgG/+TSCDawKazJQyBgZG\n",
       "kAx/A6oE04R7QDISiOsfQIV8d+9eAKRYH1wAkg+BOBsqUeUHoXmZYcYvdYkAUczroHxTpgQIg+/X\n",
       "g/cGIIcYQGXU2AUgDI5/DDwOIBmYCyzZHSAMzgUM/CDtOruB4ALYHqhp3AkM9SB3v4Xp4QW7DeKd\n",
       "+SB3c8Nk2MH+YQfKKPAdBIeJAzwMSoHELKDHBHgh7l8BD7dbk/m6gWJ8YRMhAk+vwwLj2Z3fk1EC\n",
       "rOw2OHRgAAASXDjITT81JQAAAABJRU5ErkJggg==\n",
       "\" style=\"display:inline;vertical-align:middle;\" /></a> <a class=\"ProveItLink\" href=\"../__pv_it/demonstrations/eaf1ae73010cef393a8f4ca4e3abaee975aa96a50/proof.ipynb\" style=\"text-decoration: none\">&nbsp;&#x22A2;&nbsp;&nbsp;</a><a class=\"ProveItLink\" href=\"../__pv_it/demonstrations/b63469cba8c7b598cc4782b4ae8e5c45b7a6deae0/expr.ipynb\"><img src=\"data:image/png;base64,iVBORw0KGgoAAAANSUhEUgAAApEAAAAVBAMAAADsu6gfAAAAMFBMVEX////MzMxUVFRERES6uroi\n",
       "IiIQEBCYmJhmZmYyMjLu7u52dnaqqqqIiIjc3NwAAACW8nlqAAAAAXRSTlMAQObYZgAAAAlwSFlz\n",
       "AAAOxAAADsQBlSsOGwAABZ9JREFUWMPVWE1oXFUUPpnMX95MpnGRVdGUgqjU2FGxuGk7G9OVZJRE\n",
       "AgYb7Y8oakeLpl1IBkPslCwyVKHSjUMDoquZRMRCKH2bFEpp8+ymRW07tATcVFJQNGna8dx3333v\n",
       "nXvvm/eCq1y4GXLmO9/5znnn3nfnAkATNuNoBhk1X+SiEOb+j8kO2m1uykq+qrGxVHTpxK0IhL9H\n",
       "8gtA2Woua3l7a5Lhj5PPh0gxdhXD9S7caG7cSW6ChckCdJfULy7zqUq9LiMzC3OSJdvgvO39GKry\n",
       "VY/7/+whjmJqjKquKE9/K1Uyl4cLhZAMu8qhRegyjbc27CSP7yG7DnBGVV21p0Zql5zN1/Ck5PyD\n",
       "4G3nx1B3IfOXZ/jGQaGaNHm2cfHfbcGxj3/EmpAcIxZvCMMWU2ZReD8F+JFagp1UFifQbdNYBTim\n",
       "VJKlgtMnVYxUmTJ0WfCiFOSE4NX5+VHPARz2EOsOCtUkafdaciWv8I/kGsQeEYs3hGGwJrMovC8A\n",
       "LNWIJdhJZXECDRQAM07K/WKnkiRS3fE+ZViqKUHGBK/Oz486UoOd7g4VX3NQqOZStErGihC7H1LJ\n",
       "nyC0kv8C9JnEEuwUWEn86h/sK6VlL/Hpk+qO05RhlxIkWxW8Oj8/CreFne5GmSk6KFQzzbaNHbes\n",
       "kEriSKxIlvPXe4jh1M1nKYvCa7BKlghGcYLMzY/1Bi/yK8iR2SZXctqZnlQcd87fw7/zNJv3tt4o\n",
       "0KjphuAFf9R5HQr2extp/zXTRqEaVvWBZudaeCX7LGpZNtN5v8FYrdWbhEXhzT1waURtFafcKEzq\n",
       "DW7kx7fjI0zZXZQetsc20UCniVRcfh/BXkzlOM1mtQQf0ITtDrd5wR/1uAYFHQ9dVP2M8chGoZpR\n",
       "zOZdSBfDK/m6ZHkTkpbfkF0TBlElhdeuZMNvUZwg0YAP9Qbf6saNPjsm9+SoMz2pAN+VYAo/LhLt\n",
       "RgvgS7pdJ0zBC/6oF0GDSnirATdcjkI1B/G5rjA/+/m+cch5vrySU8PDh4eHuS7egJ4lzdvNZ6jC\n",
       "loafReU1sJKDFsHITjBTA9AYiBa27XesyJU86ExHap017Qx74vj4CIPxN8BEgQRJFgQv8Bc4j9oH\n",
       "GtQkX0zs70mABzYK1WDoZB7qhdCe/ETa95N5yYBVGyRvEw0v7pNLBKM4wQH5ZXBAfuM8BrDXhPhY\n",
       "YCW51ETZdjbY6W9AWt1YSbpdsxpxXoARL+oAKChI8ZYc4esyvm6jUA0uh7oFE2Hvbna6/5NY6paU\n",
       "IJ4MZ8iS0fDiKW6CYBQn46FUSc8gArVqLONsUd4nxer2pDLnFOvdRcrwEu9Jad1yXvBHXdSs7suQ\n",
       "a3rHSbY0EYVqdmPGJjyTbYZUcivAr7Rw+FALxNCDGyOppMr7mb0g/JWUnQAPInG9QQR6x16Fqbzc\n",
       "k7ud6UkFYx1i1asAR6XzJO6TNGqnJXjBH/WoiupoQLeLus82YoZCNfPs++xIWurJC00aOzdSqRSJ\n",
       "BTejDDkFxUqdZcKi4U2YxtvEojixXWhObxCBxu1zn3Mi8Y15Pn1SWWUXy2VxOHIZOhuG9O5mZ6px\n",
       "/3mSR51WUcuVypSLegpe5kcvVNOLD65/7s4v1GX7kVMlugm2Wq0q7dKFcdqkxo4T0rpUeY3paz0U\n",
       "IztB5ufPa3qDCBSvsJuGhHIN0MunTyrA2d+e6MeIQ9IKO/cFlQEdRcEL/qhDKmp/q+X9Ejp7jpVp\n",
       "yFaT6In4uyLYcgVCf51EsGzkN459nFWEsVRoOu7hsBgq9bV2fuGoZd+P+/a3Bu0s+yD07iGCJfoN\n",
       "hnuZAOp9Q0p7teRe0wRLPdbOLxzF1OzZlBe97O5MGXuC0rkbztfZjOIXhLLVzG7OSupymg1KJ0K3\n",
       "GPkofkEoW03O2pSVvKXrU0ufTnczAuG9SH4BKFTzH8T3QO2xpmVGAAAAAElFTkSuQmCC\n",
       "\" style=\"display:inline;vertical-align:middle;\" /></a></span>"
      ],
      "text/plain": [
       "{a in Complex, c in Complex, b in Complex} |- (a + 1 + 2 + c + b + a + 0 + b + c + c + 3) = ((2 * a) + 6 + (3 * c) + (2 * b))"
      ]
     },
     "execution_count": 67,
     "metadata": {},
     "output_type": "execute_result"
    }
   ],
   "source": [
    "Add(a, one, two , c, b, a, zero, b, c, c, three).simplification(\n",
    "    assumptions=[InSet(a, Complex), InSet(b, Complex), InSet(c, Complex)])"
   ]
  },
  {
   "cell_type": "code",
   "execution_count": 68,
   "metadata": {},
   "outputs": [
    {
     "data": {
      "text/html": [
       "<span style=\"font-size:20px;\"><a class=\"ProveItLink\" href=\"../__pv_it/theorems/e9f87a0977d5044ea8daf1040d2f219396bb3d5b0/expr.ipynb\"><img src=\"data:image/png;base64,iVBORw0KGgoAAAANSUhEUgAAADMAAAAQBAMAAABJt1qBAAAAMFBMVEX////MzMwyMjKqqqoiIiJm\n",
       "ZmaYmJju7u5EREQQEBC6urqIiIh2dnZUVFTc3NwAAAAqL9KcAAAAAXRSTlMAQObYZgAAAAlwSFlz\n",
       "AAAOxAAADsQBlSsOGwAAANFJREFUGNNjYMACalqU9slgk2DgvpnAHt+KVSp6DQMDG1YpxoB2IHkV\n",
       "RWyHi4sCkOItaACSZcgyi7ZDaA6+AKgI3519G8C0OlTgLeMBKGvlA47vIJrpAVRAhisBwmCfxsDq\n",
       "AJaCGfyUawOEwfqBgQVsgKQLEDSA7YIayNnAUL8AxKiA6eIAuxAI6jcw5IMZLDApLrC/uIBSBgyX\n",
       "mEEu4N4AD421QCIIqH0DsysrWEQZHoZNcewmQL+x3z74diNYpLarABbynV/iUANvTQs4oGAAAKqD\n",
       "MEJAsWyMAAAAAElFTkSuQmCC\n",
       "\" style=\"display:inline;vertical-align:middle;\" /></a>, <a class=\"ProveItLink\" href=\"../__pv_it/theorems/b66b5547fa9b0b910f79351152926c658c2718190/expr.ipynb\"><img src=\"data:image/png;base64,iVBORw0KGgoAAAANSUhEUgAAADEAAAAQBAMAAABNQoq8AAAAMFBMVEX///9UVFQyMjK6urru7u4Q\n",
       "EBBERERmZmaqqqoiIiLc3NzMzMyYmJiIiIh2dnYAAABC1PP/AAAAAXRSTlMAQObYZgAAAAlwSFlz\n",
       "AAAOxAAADsQBlSsOGwAAAMJJREFUGNNjYMAEfplKt/ZhEWfgFT3AUp+OTabWjoGBB5sMd0EKkBRH\n",
       "Fro2c6YCkGJ0SACSPkgSRlcgNBtXAUzo7Z0NQJJLBcpdyP0AylrZwA7SzrQAyt/HfADKmsfAegEk\n",
       "AzNiOfMFCIP9C4TeOhMIEsD2QE1jTYDQbjA9bA5QEX+oXk6YDDPYP8wMDPxA+wxAYXIBHgaGQKII\n",
       "aE8CAx/I1Qwa8HBLqmLpBPnp3RmIFx2THWBhnfqzCiXA7DLBoQMDAANFK7BF6/dnAAAAAElFTkSu\n",
       "QmCC\n",
       "\" style=\"display:inline;vertical-align:middle;\" /></a>, <a class=\"ProveItLink\" href=\"../__pv_it/theorems/a259ec76dfb0a5be60b7c83d797520fa82c1dba60/expr.ipynb\"><img src=\"data:image/png;base64,iVBORw0KGgoAAAANSUhEUgAAADEAAAAQBAMAAABNQoq8AAAAMFBMVEX///+YmJjMzMzc3NyIiIhU\n",
       "VFR2dna6urqqqqpmZmYyMjIiIiIQEBBERETu7u4AAAD7tRWPAAAAAXRSTlMAQObYZgAAAAlwSFlz\n",
       "AAAOxAAADsQBlSsOGwAAANtJREFUGNNjYMAEz26vclZjYOC7swFNgiVGgG/+TSCDawKazJQyBgZG\n",
       "kAx/A6oE04R7QDISiOsfQIV8d+9eAKRYH1wAkg+BOBsqUeUHoXmZYcYvdYkAUczroHxTpgQIg+/X\n",
       "g/cGIIcYQGXU2AUgDI5/DDwOIBmYCyzZHSAMzgUM/CDtOruB4ALYHqhp3AkM9SB3v4Xp4QW7DeKd\n",
       "+SB3c8Nk2MH+YQfKKPAdBIeJAzwMSoHELKDHBHgh7l8BD7dbk/m6gWJ8YRMhAk+vwwLj2Z3fk1EC\n",
       "rOw2OHRgAAASXDjITT81JQAAAABJRU5ErkJggg==\n",
       "\" style=\"display:inline;vertical-align:middle;\" /></a> <a class=\"ProveItLink\" href=\"../__pv_it/demonstrations/96b4b2f248977068e853cef10821df6fd1e79cbb0/proof.ipynb\" style=\"text-decoration: none\">&nbsp;&#x22A2;&nbsp;&nbsp;</a><a class=\"ProveItLink\" href=\"../__pv_it/demonstrations/6536a6ce8aa1340a88a9e1885e68b60533e48e160/expr.ipynb\"><img src=\"data:image/png;base64,iVBORw0KGgoAAAANSUhEUgAAAm8AAAAVBAMAAADiPhQ1AAAAMFBMVEX////MzMxUVFRERES6uroi\n",
       "IiIQEBCYmJhmZmYyMjLu7u52dnaqqqqIiIjc3NwAAACW8nlqAAAAAXRSTlMAQObYZgAAAAlwSFlz\n",
       "AAAOxAAADsQBlSsOGwAABQZJREFUWMPVmF9oW2UYxp/8T0/SJDeiINg6UJFaG3GIN3PFi84bWTdW\n",
       "LaywotuEgTO4C7srg7M0o+jCvJgUL8LGil4lDgYFLctNCzK0cTAKc25hpShItWVDaU2N35+kzfue\n",
       "s++cam966BfaJ78vfc7zvec93wmAKnbAkfCoeSYdpKpnSpHt5Z0QXLBi1247kre9zXbAXodXSpHX\n",
       "gV/PvsDe/W1qt23GY9sRQGz6UxfCeqmfKZeOiZd5GxgvAbmPCnY1kfssxdR5eMDaMy6UsiYpOaw8\n",
       "Emlc66Xms5izFeLB7QjuC1x2aw1tWa58LlWeEL4CLld8J+3qAmIP+GcWvGATcKGUtQk9ohn4qwgP\n",
       "63f2NbKvoZgnitCawe2znaoHJahXM9KPWNqMIFlmAmpypi3OMeBp4EXGCvV54Dhjm7PN2AhcKGVt\n",
       "RI+w+FmD/x/9zveNmUeRzBMFePQ8mLJxeFDiussEOhFfMyPYX2BCUM04wXmx1qvAtQJhpfpeAT28\n",
       "rE/AAxYuuFDKmqTE+A7w98O/ws9mLsOU0nYEl8zCV3MJ7ioXYqrpXeB4HtZ94G4vYYWKp4Ae3uQu\n",
       "wAPWlnGhrjYpMcaVElpmZxN8k0XQXuXB3ZteYkqi606Ffc70fKrVS1EE95cZwfmfn6P+27pviEvk\n",
       "CosiWtIVlyGsVMVxZJPTNq/ABZMuYp0ulLImKTH0UnSwE/bdeJKF8gtYcMGT2FugTF81wK7DxXI0\n",
       "3erljxJ862bEWi0Uq8R/ccISneS0/HV0QB4HmwsvetzeCg1Z5dj8H5s2T8OMKReRvJnS1iQlxhC5\n",
       "Y7ZcqmWqlHhwkxmMUsV6B9F+OuswwhUe3N9mRPRAKmCugHeBWVZxIWFwstfXUyZsSP0Z6tzAGjZn\n",
       "YcaUi/iwmdLWJCXGUVWT6cZyHm8sp7pjtCqRqg5uUzkn/xtRossIlaiiCzA6MPDGsYEBYaBYQnDd\n",
       "jETzSJZaBZwFRNgdLLiwaG7WJ9/eTRE2rFreGV0f2LTZASOmXfiWXShlTVJiqODeZ03dl0KA9nDR\n",
       "J1jFvQ3rAVXCaRR7uWK7OcRrZkRkv59W0WEExZw+h+Bgu6sqNaJrZLDFZh+MmHYRHDZT2pqkxBjS\n",
       "G+Tfydkk13hwr+7a9WdXq2KtI7JMgytW8KFNYdsR0UjWzIjYK52jYdRUQcywHqevo+Y+jlxd15Fo\n",
       "7iCaNmfMmHYR7zdT2pqkxNgjhMeBW7QMOvWlSrreWyQUqwZ//geaQRnPxqtkAUR3JduFyLCsdyOS\n",
       "TIleSfyvyEaFU6ziAuLd2YK1Qlmp+kpob+4FmzZPmTHtIpJ2oZQ1SYkh7tOJwVyONvVIxr6Pw31a\n",
       "TXswk80SJVCJD0aJInpnjO41hjCZMiP+TCBL/T+Dl8XrOH/qFZfQzUKAbb2kupjLjW5gDZvjZky7\n",
       "aGw/Hkppa5IS4xFRkfV6nT0nvJbbze+zZ+rdRLn40xPdNAOr++t7P9JZ33xwi3r5cprvczhidY2x\n",
       "DfDFKZnOIRacT6x1bOpjxkr1SL2+uoE1bB5ywZSLUK+Z0tYkJUYotcVngP/15LAlhAgJ/p0JDjiy\n",
       "B5y/pOv3gi3CK7XIH57/0wP8Fh7yt4QQIWr7gBFHdsQxuOZsMzYGr5Qcr2BHHAs2JeD4/ZSzuuAF\n",
       "S6S9Uoq8tDOCs6+vlXb8HjTtabYTZo/pYZQiE5WdkFu7w9ovOZJL3mY7YHfglRLjX0/tJ29oBOlP\n",
       "AAAAAElFTkSuQmCC\n",
       "\" style=\"display:inline;vertical-align:middle;\" /></a></span>"
      ],
      "text/plain": [
       "{a in Complex, c in Complex, b in Complex} |- (2 + 3 + 4 + a + a + c + 0 + c + b + b) = (9 + (2 * a) + (2 * c) + (2 * b))"
      ]
     },
     "execution_count": 68,
     "metadata": {},
     "output_type": "execute_result"
    }
   ],
   "source": [
    "Add(two, three, four, a, a, c, zero, c, b, b).simplification(\n",
    "    assumptions=[InSet(a, Complex), InSet(b, Complex), InSet(c, Complex)])"
   ]
  },
  {
   "cell_type": "code",
   "execution_count": 69,
   "metadata": {},
   "outputs": [
    {
     "data": {
      "text/html": [
       "<span style=\"font-size:20px;\"> <a class=\"ProveItLink\" href=\"../__pv_it/demonstrations/0fa2cbcf92c8b01568f7527671ef489ac6ab41fe0/proof.ipynb\" style=\"text-decoration: none\">&nbsp;&#x22A2;&nbsp;&nbsp;</a><a class=\"ProveItLink\" href=\"../__pv_it/demonstrations/c53c48155d3fa0170e1cdbf4bc999ed2c4058d3b0/expr.ipynb\"><img src=\"data:image/png;base64,iVBORw0KGgoAAAANSUhEUgAAAJAAAAAVBAMAAABbFXrgAAAAMFBMVEX///8AAAAAAAAAAAAAAAAA\n",
       "AAAAAAAAAAAAAAAAAAAAAAAAAAAAAAAAAAAAAAAAAAAv3aB7AAAAD3RSTlMAInZUiRDNmWbv3US7\n",
       "qzJazP2FAAAACXBIWXMAAA7EAAAOxAGVKw4bAAABWElEQVQ4y2NgYBBgwA8YsQkKYCphMiBgELcC\n",
       "phiaJrASEySBVwHoOkAiGpgGIWkSLzsHVsKaABdivZ6PZhBEhA3DeCRNjAcY/DeAlLA3ICnQx9AC\n",
       "EuEoQBdF0sQrwMA5AaSEk4GgQQxT0UWRNHF+ZeD9CFJiRoRBGeiiSJp4FzDw/gMpKSHCIF90URRN\n",
       "DFwfQEoyiDCoDcysWgUCaxkwnPheAaRkMREGWaKLomhiWAtWMhsYmVlgux7ADELwoSLv0Q1C0cR+\n",
       "AKxkNhEu2onFIAToZQArIcZrVuhhhKyJ2YFBEKTkEBEG9aCLImt6wsCgClKCErX+GCUBWKQEXRRJ\n",
       "E+Py8vIFICWvkOTvzs9tQNUBEVmNkZWREtH///8TQEq4HjAQAowL0EUwNAGVYOZIBjxZFAowNIGU\n",
       "HCRokAym0EEsSmIIGoTFqhgsShgVCJjDhKVQR9MEVAIApE5jR7dlLw4AAAAASUVORK5CYII=\n",
       "\" style=\"display:inline;vertical-align:middle;\" /></a></span>"
      ],
      "text/plain": [
       "|- (-1 - 1) = (-2)"
      ]
     },
     "execution_count": 69,
     "metadata": {},
     "output_type": "execute_result"
    }
   ],
   "source": [
    "Add(Neg(one), Neg(one)).simplification()"
   ]
  },
  {
   "cell_type": "code",
   "execution_count": 70,
   "metadata": {},
   "outputs": [
    {
     "data": {
      "text/html": [
       "<span style=\"font-size:20px;\"> <a class=\"ProveItLink\" href=\"../__pv_it/demonstrations/153677892fd85c6d9576cf1ef60ee46dd5587da40/proof.ipynb\" style=\"text-decoration: none\">&nbsp;&#x22A2;&nbsp;&nbsp;</a><a class=\"ProveItLink\" href=\"../__pv_it/demonstrations/1850dedbc919fc4a9b29e581733d5645f88543c50/expr.ipynb\"><img src=\"data:image/png;base64,iVBORw0KGgoAAAANSUhEUgAAAGEAAAAVBAMAAACkm51HAAAAMFBMVEX////MzMxUVFRERES6uroi\n",
       "IiIQEBCYmJhmZmYyMjLu7u52dnaqqqqIiIjc3NwAAACW8nlqAAAAAXRSTlMAQObYZgAAAAlwSFlz\n",
       "AAAOxAAADsQBlSsOGwAAAUZJREFUOMt1k7FLw1AQxr/Y2NSmSbO410HdbAdXxdFF0EEEEXQormZ0\n",
       "LIgYcSk4CE5BJyeLU8eu0qHiHyAB6eTi4NJSre+9gOC9uzeE4+797r67dwGQgT+SH0FPCGxJRB/4\n",
       "6K4Sp7OvUsX0aphcR0C5jXILg/+F7i7H6ntLiXf4X0ApRjDBY5tI1cQpJVaAY6AIuE1UOaKYEuIk\n",
       "RT3Ds7EHMUPM0UYWgXqEK226e2AIv2bP6RC40ZN5XeAIz0gt7ZqT0843cJCr6jFE5cgqMavAprGK\n",
       "+saDSbbzRzifFnEGQzgRChOmhmvV8LQ2pao65onKNu2jjzDDmpJUy1VZnTfo7nQQpHhSkdh6D/9H\n",
       "Z+8QYpgk58C8sjYTsokzS6NlNZgN+hjT6Ui5I2mpMeTdXkskLgT/ugSEDSFwLxEF6bcNX4TAG+/+\n",
       "BdGIUFLd620NAAAAAElFTkSuQmCC\n",
       "\" style=\"display:inline;vertical-align:middle;\" /></a></span>"
      ],
      "text/plain": [
       "|- (3 - 1) = 2"
      ]
     },
     "execution_count": 70,
     "metadata": {},
     "output_type": "execute_result"
    }
   ],
   "source": [
    "subtract(three, one).evaluation()"
   ]
  },
  {
   "cell_type": "code",
   "execution_count": 71,
   "metadata": {},
   "outputs": [
    {
     "data": {
      "text/html": [
       "<span style=\"font-size:20px;\"> <a class=\"ProveItLink\" href=\"../__pv_it/demonstrations/362a69ada63aae01a8f9ac611d86998d5f07a5540/proof.ipynb\" style=\"text-decoration: none\">&nbsp;&#x22A2;&nbsp;&nbsp;</a><a class=\"ProveItLink\" href=\"../__pv_it/demonstrations/d8f12494ef400d4df507fc6698fdf3f4cbdd859e0/expr.ipynb\"><img src=\"data:image/png;base64,iVBORw0KGgoAAAANSUhEUgAAAKkAAAAVBAMAAADP89MSAAAAMFBMVEX///8AAAAAAAAAAAAAAAAA\n",
       "AAAAAAAAAAAAAAAAAAAAAAAAAAAAAAAAAAAAAAAAAAAv3aB7AAAAD3RSTlMAInZUiRDNmWbv3US7\n",
       "qzJazP2FAAAACXBIWXMAAA7EAAAOxAGVKw4bAAACKklEQVQ4y6WVP2gTURjAf5fLNcnlj3ESXIyD\n",
       "OIlHEdcepaPFcxJFMCCCOFUojYjg4aIVxCwO1j+NqIgHheJUXYwODuKfbk7qIU4OtjZtLQjGd14C\n",
       "+d4li3nLu/vdvd9973vvfQeU+f82cGzKGcL6NEFKcER1ByA9fk57tmPmvQTGxMVF7Z2JvWVSvm7N\n",
       "bZ59BFYVTnFcTsVoclhKjmK25PARx7oPp3WrPf/Qg4xPtkG6GbOluCuWydUF2e9Ym/FVvhPeNTgE\n",
       "V3RrMY4YCsuYGzEb7Uxjg+JPQZ4t0rGalbh/B2MeOa+v9SBsm6LUEo5ig+IfQZRtS1p/wYrDiN/X\n",
       "Og0nlXVLc2CvauS5L6xWZPVJL+vWy5MhnIFdLqU13bpSkeTrp1BYjfV/72Sr0c2FIGoL0WXBM37D\n",
       "g9i6rlsX0DPQSlpdzHpyE7+B2yoDLvm1+Iu3Ol8k00QjzEc7JgiezAWBmralrC8qlFaT1kvlyKpW\n",
       "y2xpkV1HxvoDPjj6ao055PVYXytrGGWg0CQrdxamy3ZB2p5ufQs3PMyGltc5+AKvIFsnU5XWb7BH\n",
       "kLtxBnqsszCjxja1WF24A5NEK3YsFA7jca3WEORqYr/ajnVPJdrVKwipm/A9OuTjn2UW7Xa7LaPP\n",
       "17rVpWu1pvepUGy95hi1j2pOdtjLRhMLmiBda9x29q+Q2aneu6XE8wTJizN6fkDhfTlE0Y5KZv92\n",
       "YhhrYdAvxqgMYd3dH/8F8ZaU5ZT4gsAAAAAASUVORK5CYII=\n",
       "\" style=\"display:inline;vertical-align:middle;\" /></a></span>"
      ],
      "text/plain": [
       "|- (0 + 2 + 3 + 0) = 5"
      ]
     },
     "execution_count": 71,
     "metadata": {},
     "output_type": "execute_result"
    }
   ],
   "source": [
    "Add(zero, two, three, zero).evaluation()"
   ]
  },
  {
   "cell_type": "code",
   "execution_count": 72,
   "metadata": {},
   "outputs": [
    {
     "data": {
      "text/html": [
       "<span style=\"font-size:20px;\"> <a class=\"ProveItLink\" href=\"../__pv_it/demonstrations/11a4218e81b4fc80052169908962ab8872e8df360/proof.ipynb\" style=\"text-decoration: none\">&nbsp;&#x22A2;&nbsp;&nbsp;</a><a class=\"ProveItLink\" href=\"../__pv_it/demonstrations/42772b1d3c715b4224b5fd42d448c4240599bda80/expr.ipynb\"><img src=\"data:image/png;base64,iVBORw0KGgoAAAANSUhEUgAAAKkAAAAVBAMAAADP89MSAAAAMFBMVEX///8AAAAAAAAAAAAAAAAA\n",
       "AAAAAAAAAAAAAAAAAAAAAAAAAAAAAAAAAAAAAAAAAAAv3aB7AAAAD3RSTlMAInZUiRDNmWbv3US7\n",
       "qzJazP2FAAAACXBIWXMAAA7EAAAOxAGVKw4bAAAB2klEQVQ4y6XVvUsCYRwH8K/emZen5ha0ZH9B\n",
       "ItF8SGt0TVEUCRFEEBVERQRJS40uDb1hUA0dBNJUTdbQ0JJbNVTS2BC9KUFD/c5T9HnuOQ7yAXke\n",
       "f/fc53n1J4AI/l8c3/XGGlBPbJEw0E9VF31edO6ZnJjlex9yAU/PchbeFK82lyappy8J3+00r45h\n",
       "iF3cyHyR6zIA6RMY59VA5oAwvzlaZ1U9tSplD3KOicBbVdXK9DpjvhKwxqsha8aoV+NWFcxDKjKR\n",
       "mipFrfosC1KbdaHaLVJbZhD+dFGp9Q00pYTqnEgdJfXbVT0nUc7z6mpvAZgQqe0awh9u6vMDva4k\n",
       "zeaSYZbj8ubpnh9g30n9ct8B2iQpbb/E18B2TaURN60RRzWoH0ykovoN42jLMCrLzugIv9nVlUi9\n",
       "ypyW5HZar8BNDCo/1ytSC+IdCOaguN2sX91UpT1uX7eAJ+BSpCpp+JMu6m55B5QcN1cN2AF6zWZf\n",
       "hFVpBYMFNiK/c+p6+b76NU5thXeDEgu1HjJTKdYYSDyy44TuS3esqi5QdkEgyyedhVtaeKBQH4vb\n",
       "DtQWqd0ss7SJM6QyU//t1PbcFlGZ3+iiQ+K9aCBpw5NzeDDciBp0+ovxRBtQO8ThPx8wiDwx/2IP\n",
       "AAAAAElFTkSuQmCC\n",
       "\" style=\"display:inline;vertical-align:middle;\" /></a></span>"
      ],
      "text/plain": [
       "|- (1 + 0 + 1 + 3) = 5"
      ]
     },
     "execution_count": 72,
     "metadata": {},
     "output_type": "execute_result"
    }
   ],
   "source": [
    "Add(one, zero, one, three).evaluation()"
   ]
  },
  {
   "cell_type": "code",
   "execution_count": 73,
   "metadata": {},
   "outputs": [
    {
     "data": {
      "text/html": [
       "<span style=\"font-size:20px;\"><a class=\"ProveItLink\" href=\"../../ordering/__pv_it/theorems/4aa8d696b1f407d6126de9f51a052e8d90e0848c0/expr.ipynb\"><img src=\"data:image/png;base64,iVBORw0KGgoAAAANSUhEUgAAADMAAAAQBAMAAABJt1qBAAAAMFBMVEX////MzMwyMjKqqqoiIiJm\n",
       "ZmaYmJju7u5EREQQEBC6urqIiIh2dnZUVFTc3NwAAAAqL9KcAAAAAXRSTlMAQObYZgAAAAlwSFlz\n",
       "AAAOxAAADsQBlSsOGwAAAM1JREFUGNNjYMAASTP6VWYkMGAFDW8Z1mYUYJd6w8DBeAGXFOsDBRSh\n",
       "HS4uCnCpBmSZRdsRunjLQQby3dm3ASTAp45koITRAyBj5QOO7yABpgdwqZcqX0AmsE9jYHUASyE5\n",
       "I60IRLN+YGA5AGJIugBBA0SKowzkZc4GhvoFIIEKJF2MAe1Aun4DQz5YgAXZX4EvQFIGDJeYQS7g\n",
       "3oAkVcENNJFjA7MrK1hEGS71lIEtoQvowtsH324Ei9R2FcBCvo+hQ98AOTjWtLgghxwApbZCEcpv\n",
       "FP8AAAAASUVORK5CYII=\n",
       "\" style=\"display:inline;vertical-align:middle;\" /></a>, <a class=\"ProveItLink\" href=\"../__pv_it/demonstrations/d550e8309ef79ca46e4c9fb5617a392ea678789b0/expr.ipynb\"><img src=\"data:image/png;base64,iVBORw0KGgoAAAANSUhEUgAAADEAAAAQBAMAAABNQoq8AAAAMFBMVEX///9UVFQyMjK6urru7u4Q\n",
       "EBBERERmZmaqqqoiIiLc3NzMzMyYmJiIiIh2dnYAAABC1PP/AAAAAXRSTlMAQObYZgAAAAlwSFlz\n",
       "AAAOxAAADsQBlSsOGwAAAL1JREFUGNNjYEAHh8LyNcMOMGADCQsZDI85YJVZx8DGLYBDhn2BArLI\n",
       "tZkzFeAyCUgSRlcQehhdwKa9vbMBSHKpIJm2rWkBkLGygR2klWkBXGap5k+w/nkMrBdAMkguOOME\n",
       "otm/QPhbZwJBAkSGzQfkU1aoK9yQ9HAXpABp/wsQPieyf6qXAWl+oEYDIM17AUnGjRcoCnQYH8jV\n",
       "DBpwmeUMPAeSgYx3ZyBedEx2gIV1FkOafgNSINhlzkQOLQDcXDjPgdalcwAAAABJRU5ErkJggg==\n",
       "\" style=\"display:inline;vertical-align:middle;\" /></a>, <a class=\"ProveItLink\" href=\"../../ordering/__pv_it/theorems/6e5cad5b2984ed0d75bd47bd0c542ec447a4f3570/expr.ipynb\"><img src=\"data:image/png;base64,iVBORw0KGgoAAAANSUhEUgAAADEAAAAQBAMAAABNQoq8AAAAMFBMVEX///+YmJjMzMzc3NyIiIhU\n",
       "VFR2dna6urqqqqpmZmYyMjIiIiIQEBBERETu7u4AAAD7tRWPAAAAAXRSTlMAQObYZgAAAAlwSFlz\n",
       "AAAOxAAADsQBlSsOGwAAANZJREFUGNNjYEAHUmfvrz4rAGTw3dmAJnXBlKFU9gGQwTUBXcaMgZcp\n",
       "AMjgb8CU4TRYAGTUP4CK+O7evQAucwHIyIZKVPkh9LC+A5m21CUCxGdeh2SabpcB0G2/Hrw3ADnE\n",
       "AC5js/o3SD/HPwYeB5AMkgsEX4FozgUM/AlAWmc3EFyAyPA+BPmUO4GhHuTut0h6mCbcg3hnPsjd\n",
       "3Mj+mWQLklHgOwjiszggybxlARrHKsALCZ4VcBlLBkaB60BXh02ECDy9/gAW1pcZ7q5HDrOy25DQ\n",
       "gQIAY/lDzDbeA58AAAAASUVORK5CYII=\n",
       "\" style=\"display:inline;vertical-align:middle;\" /></a> <a class=\"ProveItLink\" href=\"../__pv_it/demonstrations/e076d3e6ff20d761b92b2398386be68da081e5950/proof.ipynb\" style=\"text-decoration: none\">&nbsp;&#x22A2;&nbsp;&nbsp;</a><a class=\"ProveItLink\" href=\"../__pv_it/demonstrations/b63469cba8c7b598cc4782b4ae8e5c45b7a6deae0/expr.ipynb\"><img src=\"data:image/png;base64,iVBORw0KGgoAAAANSUhEUgAAApEAAAAVBAMAAADsu6gfAAAAMFBMVEX////MzMxUVFRERES6uroi\n",
       "IiIQEBCYmJhmZmYyMjLu7u52dnaqqqqIiIjc3NwAAACW8nlqAAAAAXRSTlMAQObYZgAAAAlwSFlz\n",
       "AAAOxAAADsQBlSsOGwAABZ9JREFUWMPVWE1oXFUUPpnMX95MpnGRVdGUgqjU2FGxuGk7G9OVZJRE\n",
       "AgYb7Y8oakeLpl1IBkPslCwyVKHSjUMDoquZRMRCKH2bFEpp8+ymRW07tATcVFJQNGna8dx3333v\n",
       "nXvvm/eCq1y4GXLmO9/5znnn3nfnAkATNuNoBhk1X+SiEOb+j8kO2m1uykq+qrGxVHTpxK0IhL9H\n",
       "8gtA2Woua3l7a5Lhj5PPh0gxdhXD9S7caG7cSW6ChckCdJfULy7zqUq9LiMzC3OSJdvgvO39GKry\n",
       "VY/7/+whjmJqjKquKE9/K1Uyl4cLhZAMu8qhRegyjbc27CSP7yG7DnBGVV21p0Zql5zN1/Ck5PyD\n",
       "4G3nx1B3IfOXZ/jGQaGaNHm2cfHfbcGxj3/EmpAcIxZvCMMWU2ZReD8F+JFagp1UFifQbdNYBTim\n",
       "VJKlgtMnVYxUmTJ0WfCiFOSE4NX5+VHPARz2EOsOCtUkafdaciWv8I/kGsQeEYs3hGGwJrMovC8A\n",
       "LNWIJdhJZXECDRQAM07K/WKnkiRS3fE+ZViqKUHGBK/Oz486UoOd7g4VX3NQqOZStErGihC7H1LJ\n",
       "nyC0kv8C9JnEEuwUWEn86h/sK6VlL/Hpk+qO05RhlxIkWxW8Oj8/CreFne5GmSk6KFQzzbaNHbes\n",
       "kEriSKxIlvPXe4jh1M1nKYvCa7BKlghGcYLMzY/1Bi/yK8iR2SZXctqZnlQcd87fw7/zNJv3tt4o\n",
       "0KjphuAFf9R5HQr2extp/zXTRqEaVvWBZudaeCX7LGpZNtN5v8FYrdWbhEXhzT1waURtFafcKEzq\n",
       "DW7kx7fjI0zZXZQetsc20UCniVRcfh/BXkzlOM1mtQQf0ITtDrd5wR/1uAYFHQ9dVP2M8chGoZpR\n",
       "zOZdSBfDK/m6ZHkTkpbfkF0TBlElhdeuZMNvUZwg0YAP9Qbf6saNPjsm9+SoMz2pAN+VYAo/LhLt\n",
       "RgvgS7pdJ0zBC/6oF0GDSnirATdcjkI1B/G5rjA/+/m+cch5vrySU8PDh4eHuS7egJ4lzdvNZ6jC\n",
       "loafReU1sJKDFsHITjBTA9AYiBa27XesyJU86ExHap017Qx74vj4CIPxN8BEgQRJFgQv8Bc4j9oH\n",
       "GtQkX0zs70mABzYK1WDoZB7qhdCe/ETa95N5yYBVGyRvEw0v7pNLBKM4wQH5ZXBAfuM8BrDXhPhY\n",
       "YCW51ETZdjbY6W9AWt1YSbpdsxpxXoARL+oAKChI8ZYc4esyvm6jUA0uh7oFE2Hvbna6/5NY6paU\n",
       "IJ4MZ8iS0fDiKW6CYBQn46FUSc8gArVqLONsUd4nxer2pDLnFOvdRcrwEu9Jad1yXvBHXdSs7suQ\n",
       "a3rHSbY0EYVqdmPGJjyTbYZUcivAr7Rw+FALxNCDGyOppMr7mb0g/JWUnQAPInG9QQR6x16Fqbzc\n",
       "k7ud6UkFYx1i1asAR6XzJO6TNGqnJXjBH/WoiupoQLeLus82YoZCNfPs++xIWurJC00aOzdSqRSJ\n",
       "BTejDDkFxUqdZcKi4U2YxtvEojixXWhObxCBxu1zn3Mi8Y15Pn1SWWUXy2VxOHIZOhuG9O5mZ6px\n",
       "/3mSR51WUcuVypSLegpe5kcvVNOLD65/7s4v1GX7kVMlugm2Wq0q7dKFcdqkxo4T0rpUeY3paz0U\n",
       "IztB5ufPa3qDCBSvsJuGhHIN0MunTyrA2d+e6MeIQ9IKO/cFlQEdRcEL/qhDKmp/q+X9Ejp7jpVp\n",
       "yFaT6In4uyLYcgVCf51EsGzkN459nFWEsVRoOu7hsBgq9bV2fuGoZd+P+/a3Bu0s+yD07iGCJfoN\n",
       "hnuZAOp9Q0p7teRe0wRLPdbOLxzF1OzZlBe97O5MGXuC0rkbztfZjOIXhLLVzG7OSupymg1KJ0K3\n",
       "GPkofkEoW03O2pSVvKXrU0ufTnczAuG9SH4BKFTzH8T3QO2xpmVGAAAAAElFTkSuQmCC\n",
       "\" style=\"display:inline;vertical-align:middle;\" /></a></span>"
      ],
      "text/plain": [
       "{a in Real, c in Real, b in Real} |- (a + 1 + 2 + c + b + a + 0 + b + c + c + 3) = ((2 * a) + 6 + (3 * c) + (2 * b))"
      ]
     },
     "execution_count": 73,
     "metadata": {},
     "output_type": "execute_result"
    }
   ],
   "source": [
    "Add(a, one, two , c, b, a, zero, b, c, c, three).simplification(\n",
    "    assumptions=[InSet(a, Real), InSet(b, Real), InSet(c, Real)])"
   ]
  },
  {
   "cell_type": "code",
   "execution_count": 74,
   "metadata": {},
   "outputs": [
    {
     "data": {
      "text/html": [
       "<span style=\"font-size:20px;\"><a class=\"ProveItLink\" href=\"../../negation/__pv_it/theorems/d8d02d2a77383d238ed10b8fda7965dfafa87db90/expr.ipynb\"><img src=\"data:image/png;base64,iVBORw0KGgoAAAANSUhEUgAAADIAAAAQBAMAAACmdTG/AAAAMFBMVEX////MzMwyMjKqqqoiIiJm\n",
       "ZmaYmJju7u5EREQQEBC6urqIiIh2dnZUVFTc3NwAAAAqL9KcAAAAAXRSTlMAQObYZgAAAAlwSFlz\n",
       "AAAOxAAADsQBlSsOGwAAAN5JREFUGNNjYMAAzJo/NVw6EzAlGLh7BRgUmLBIMLAGMHAnHMYmw/uA\n",
       "oYK9AcWUFhcnEM3OwBDIK4AkwaVdAGMyXhAFUXx39m0A0Y/gEgwcBe0gauUDju8gWg+h3YYNpJZ9\n",
       "GgOrA4irgJCBuJn1AwPLAZDZU1xcXDwgTjE4xcBQwMDZwFC/AKQX4c4KPiD7HkP9BoZ8MN8BLnMR\n",
       "6CP2Dwz1BgyXmB8A+bvhbg5YCvSuAwPHBmZXVpAAkwHczeoMfM0NDOy3D77dCPb6jeUQmZVNMzrm\n",
       "zziAHAgnIKEDBQC4NTJlmjuxlwAAAABJRU5ErkJggg==\n",
       "\" style=\"display:inline;vertical-align:middle;\" /></a>, <a class=\"ProveItLink\" href=\"../__pv_it/theorems/035e0ae7bd8c0fe127ee5d2062443d6c874adcdd0/expr.ipynb\"><img src=\"data:image/png;base64,iVBORw0KGgoAAAANSUhEUgAAADAAAAAQBAMAAACigOGCAAAAMFBMVEX///+YmJjMzMzc3NyIiIhU\n",
       "VFR2dna6urqqqqpmZmYyMjIiIiIQEBBERETu7u4AAAD7tRWPAAAAAXRSTlMAQObYZgAAAAlwSFlz\n",
       "AAAOxAAADsQBlSsOGwAAAOpJREFUGNNjYEAHHGv+rN19R4CB784GVAmWqwoMC7iADK4JqBKcExhY\n",
       "BDKADP4GVAlWA4a3fBeAjPoHUCNu794FovkYGCaxKgAZ2RBx9iUPYHqYAjRB1FKXCBBlBRdn4H1w\n",
       "D6Tz14P3BkB6McKWNkYHkLP/MfCA6AUICbBjGTgXMPAnAM09vXv37r0QVzSkMzA8YOBOYKgHOhjs\n",
       "QAh4ywxkB4O8MR9kL8L/QUCf8H1g4FfgOwjiusAdO6ES6MsNDKwCvOAw4WqAO3YdA/ONCwx8YRPB\n",
       "fL7YOohEza2zd8+fTUA4kj0XEiRQAABokT0f5e0fIgAAAABJRU5ErkJggg==\n",
       "\" style=\"display:inline;vertical-align:middle;\" /></a> <a class=\"ProveItLink\" href=\"../__pv_it/demonstrations/e138003758d2a76e5957aca46b6a2f8521b166bc0/proof.ipynb\" style=\"text-decoration: none\">&nbsp;&#x22A2;&nbsp;&nbsp;</a><a class=\"ProveItLink\" href=\"../__pv_it/theorems/e4f420a48b4a0f820d245c6fc1d5a245cc98cc2f0/expr.ipynb\"><img src=\"data:image/png;base64,iVBORw0KGgoAAAANSUhEUgAAAGMAAAAVBAMAAACgbk16AAAAMFBMVEX////MzMxUVFRERES6uroi\n",
       "IiIQEBCYmJhmZmYyMjLu7u52dnaqqqqIiIjc3NwAAACW8nlqAAAAAXRSTlMAQObYZgAAAAlwSFlz\n",
       "AAAOxAAADsQBlSsOGwAAAbBJREFUOMtjYGB4wIAd8DHgArwHcEiwXEATOJmfaRqcDmScxqZ8cSqQ\n",
       "uI4meFmRgZNhAgMD1wSsVswAYs4FqGIdQFO4gW7iKEBxDIz3B4jZG1C16DFwGSwG0mwoojxQ97P8\n",
       "ApFZUN+ahkaC6AUMHAKKID9h1cIdACKnQ7TPhTtQiBFkcTcoOLXvXUDVwql7CejoTWD2S4SXrJgX\n",
       "QE1ye8D8C1XL+llc/xgYKsHseQg3bKgFUTHAQEtn4AhA1XJ+AUMuA8MxMBsRpJwQdgow0D4wsG4A\n",
       "MjlCQ8NSQ0MVgMxOBobfDAzyIAWMQKHQYLCWO9wODFxgLWwGDOsdUG2JZmABBrMbiMllALOEy+Ax\n",
       "AwPTA5DD1l9gqEcLsT8MHEDfHQWzA2BamAT0gIoZGGyB5AEGTZ4HKFo+MiwDRmoxmH0XpkWCBRjE\n",
       "quCAZL7AE8GBaos6gwU0AoCehqVbK2AKenyYgUEU6EbdjY8uompZtAOUckIgXlD2gkRp8jRjs2/W\n",
       "DAysAthiH5JhoL5g2QxJMDCAmvZYkBMpaopFAnY4M99jXBKLcWrBaRjfBVw5HEehAACrbWU6Brv9\n",
       "XwAAAABJRU5ErkJggg==\n",
       "\" style=\"display:inline;vertical-align:middle;\" /></a></span>"
      ],
      "text/plain": [
       "{a in Integer, b in Integer} |- (a + b) in Integer"
      ]
     },
     "execution_count": 74,
     "metadata": {},
     "output_type": "execute_result"
    }
   ],
   "source": [
    "InSet(Add(a,b), Integer).prove(assumptions=[InSet(a, Integer), InSet(b,Integer)])"
   ]
  },
  {
   "cell_type": "code",
   "execution_count": 75,
   "metadata": {},
   "outputs": [
    {
     "data": {
      "text/html": [
       "<span style=\"font-size:20px;\"><a class=\"ProveItLink\" href=\"../../negation/__pv_it/theorems/d8d02d2a77383d238ed10b8fda7965dfafa87db90/expr.ipynb\"><img src=\"data:image/png;base64,iVBORw0KGgoAAAANSUhEUgAAADIAAAAQBAMAAACmdTG/AAAAMFBMVEX////MzMwyMjKqqqoiIiJm\n",
       "ZmaYmJju7u5EREQQEBC6urqIiIh2dnZUVFTc3NwAAAAqL9KcAAAAAXRSTlMAQObYZgAAAAlwSFlz\n",
       "AAAOxAAADsQBlSsOGwAAAN5JREFUGNNjYMAAzJo/NVw6EzAlGLh7BRgUmLBIMLAGMHAnHMYmw/uA\n",
       "oYK9AcWUFhcnEM3OwBDIK4AkwaVdAGMyXhAFUXx39m0A0Y/gEgwcBe0gauUDju8gWg+h3YYNpJZ9\n",
       "GgOrA4irgJCBuJn1AwPLAZDZU1xcXDwgTjE4xcBQwMDZwFC/AKQX4c4KPiD7HkP9BoZ8MN8BLnMR\n",
       "6CP2Dwz1BgyXmB8A+bvhbg5YCvSuAwPHBmZXVpAAkwHczeoMfM0NDOy3D77dCPb6jeUQmZVNMzrm\n",
       "zziAHAgnIKEDBQC4NTJlmjuxlwAAAABJRU5ErkJggg==\n",
       "\" style=\"display:inline;vertical-align:middle;\" /></a>, <a class=\"ProveItLink\" href=\"../__pv_it/theorems/035e0ae7bd8c0fe127ee5d2062443d6c874adcdd0/expr.ipynb\"><img src=\"data:image/png;base64,iVBORw0KGgoAAAANSUhEUgAAADAAAAAQBAMAAACigOGCAAAAMFBMVEX///+YmJjMzMzc3NyIiIhU\n",
       "VFR2dna6urqqqqpmZmYyMjIiIiIQEBBERETu7u4AAAD7tRWPAAAAAXRSTlMAQObYZgAAAAlwSFlz\n",
       "AAAOxAAADsQBlSsOGwAAAOpJREFUGNNjYEAHHGv+rN19R4CB784GVAmWqwoMC7iADK4JqBKcExhY\n",
       "BDKADP4GVAlWA4a3fBeAjPoHUCNu794FovkYGCaxKgAZ2RBx9iUPYHqYAjRB1FKXCBBlBRdn4H1w\n",
       "D6Tz14P3BkB6McKWNkYHkLP/MfCA6AUICbBjGTgXMPAnAM09vXv37r0QVzSkMzA8YOBOYKgHOhjs\n",
       "QAh4ywxkB4O8MR9kL8L/QUCf8H1g4FfgOwjiusAdO6ES6MsNDKwCvOAw4WqAO3YdA/ONCwx8YRPB\n",
       "fL7YOohEza2zd8+fTUA4kj0XEiRQAABokT0f5e0fIgAAAABJRU5ErkJggg==\n",
       "\" style=\"display:inline;vertical-align:middle;\" /></a>, <a class=\"ProveItLink\" href=\"../__pv_it/theorems/ab9efd361cdf04a40e51b5b0d3fd587cd7505e5a0/expr.ipynb\"><img src=\"data:image/png;base64,iVBORw0KGgoAAAANSUhEUgAAADAAAAAQBAMAAACigOGCAAAAMFBMVEX///8AAAAAAAAAAAAAAAAA\n",
       "AAAAAAAAAAAAAAAAAAAAAAAAAAAAAAAAAAAAAAAAAAAv3aB7AAAAD3RSTlMAiXZmMiLdVJm77xBE\n",
       "zatgdeJyAAAACXBIWXMAAA7EAAAOxAGVKw4bAAAAzElEQVQY02NgQAfst37dTJtlgCHOwDTPgeEC\n",
       "L6Y4A0cDA5OBOBYJvgCGndwTkI2YlpYLorkZGFr4HBDiPJc2wJgsDzzAtJAySD4WLs7AuWE2iAor\n",
       "4ACZeBWhuZBZAUQlMnCB6AsICYhjOX5DzF2WlpaWCXFFgQwDwwYGLojLkBy4kxXIfsqwXwHCTYBL\n",
       "PAH6hPsDAz8wVA4AuUpwxzacAPoygQHoJEaQc3kL4I69zcA6HWiaoLE22JKXpyESp+aunLl+pQCS\n",
       "1yUhQQIFAA/aLo4ZZrU0AAAAAElFTkSuQmCC\n",
       "\" style=\"display:inline;vertical-align:middle;\" /></a>, <a class=\"ProveItLink\" href=\"../__pv_it/theorems/281ba5ce706314e3783f416248e235040ec067e70/expr.ipynb\"><img src=\"data:image/png;base64,iVBORw0KGgoAAAANSUhEUgAAADIAAAAQBAMAAACmdTG/AAAAMFBMVEX///8AAAAAAAAAAAAAAAAA\n",
       "AAAAAAAAAAAAAAAAAAAAAAAAAAAAAAAAAAAAAAAAAAAv3aB7AAAAD3RSTlMAMs3vmVREEIndIqt2\n",
       "u2aBbGR5AAAACXBIWXMAAA7EAAAOxAGVKw4bAAAA70lEQVQY02NgwACsyp91Z15+AGIyKjsgy/Dc\n",
       "FmBQYIKw+QOQZVgcGHgetELY+QXIMtwLGGrZL0DYnRBTbs6cBKLZGRgcuQUgMioggk0HrpNxgwiI\n",
       "4tpx8CuIXoQwkrfgOohKXsD7HURrIWyK4DsAMtWOgUUBxFVAyEDczPKBgbMBZLblzJkz50KcEtDG\n",
       "wFDAwHyBoT4BpPcCXEstF5C9i6H+AMN7MH8CXGYj0EfsHxjqAxg2sS4A8s/A3eyQAvTuBAbeA6xT\n",
       "WEACTAFwN6szcF29wMC+p3H1QbDX96ZDZJIv2d61t21ACi+2XkjoQAEAkGM3rHcIm38AAAAASUVO\n",
       "RK5CYII=\n",
       "\" style=\"display:inline;vertical-align:middle;\" /></a> <a class=\"ProveItLink\" href=\"../__pv_it/demonstrations/ce7f7fe0ada6daeedb8d51c97537321d763077c00/proof.ipynb\" style=\"text-decoration: none\">&nbsp;&#x22A2;&nbsp;&nbsp;</a><a class=\"ProveItLink\" href=\"../__pv_it/demonstrations/3765d9fc93f2a45e3c76353437b25fb9fb8ef5830/expr.ipynb\"><img src=\"data:image/png;base64,iVBORw0KGgoAAAANSUhEUgAAAKkAAAAVBAMAAADP89MSAAAAMFBMVEX///8AAAAAAAAAAAAAAAAA\n",
       "AAAAAAAAAAAAAAAAAAAAAAAAAAAAAAAAAAAAAAAAAAAv3aB7AAAAD3RSTlMAInZUiRDNmWbv3US7\n",
       "qzJazP2FAAAACXBIWXMAAA7EAAAOxAGVKw4bAAACNElEQVQ4y2NgYBBgIBsw4pRhMiDfVG4FNAGz\n",
       "+dNOrZkBZJhgUx4ziwgzn01n0EAT0rnHwMaQwMDAmoBVRzoxTv3MwBaAKlLOwKDBAvQ8ewOKlxrg\n",
       "GtAEGDAFuL8ycBSgyl5kYD0QA6Q5UUSZFeAaUAUwVAABywIGhqnQyDm1ahmIDmBgf3APFL5Y9YA0\n",
       "EDSVDejQDIgjkuAh8ZYP5PwSUAK5oqiAqoftkq4BqiEsSn2oArJO74FKfMFsMUTwHuUBsUGW7RTg\n",
       "+Ypqanwq60cUAcbFDDWoYTSR4TxQfxuYk4jwikMTiFoMTAYzGNgXoJpqH8AwCUWAywFNILKBoQxI\n",
       "WYI5iHTEBmHPBiaDDyBNQHrVqpWzVq26AGQCNXxBEagH+xFZgIFhCZB6DxLmA4qtWgM2VZllAwMr\n",
       "2FTOAwzxG1DduoSB+zOKwBz02JrDwPobFHggNusBmCzrARkGBl4BUAjEKzD0o+n5zMD+FVmA9ROa\n",
       "qUABjg9A2grMg6UYBt4HF4HmMTAcApIGDNeYBVBM/QcKN2SBH8D4QTH1MwNvgiEDQw+YpwQz9Tk3\n",
       "MF3dAicNHgXm5eyobr3BcBxVAJgA/FAEDjFYFRRAEiYwjmAl1FFgFpaxYWB4BbT3kp+sHqohse4N\n",
       "aNnCoykAVYXKw0sPGBhWQ1x+Zyskuc3JPHPy5xFgknmAI+cQJcAIDVFuH0iOhQHU8gFfYYJNgL0B\n",
       "R3F2kIECIINLIoYSU3E6iVGBfEOZcNR5AHz7iCcTAUU/AAAAAElFTkSuQmCC\n",
       "\" style=\"display:inline;vertical-align:middle;\" /></a></span>"
      ],
      "text/plain": [
       "{a in Integer, b in Integer, c in Integer, d in Integer} |- (a + b + c + d) in Integer"
      ]
     },
     "execution_count": 75,
     "metadata": {},
     "output_type": "execute_result"
    }
   ],
   "source": [
    "InSet(Add(a,b,c,d), Integer).prove(\n",
    "    assumptions=[InSet(a,Integer),InSet(b, Integer), InSet(c, Integer), InSet(d,Integer)])"
   ]
  },
  {
   "cell_type": "code",
   "execution_count": 76,
   "metadata": {},
   "outputs": [
    {
     "data": {
      "text/html": [
       "<span style=\"font-size:20px;\"><a class=\"ProveItLink\" href=\"../../negation/__pv_it/theorems/27094ede24067904bb8353fa305df8461a3a4be40/expr.ipynb\"><img src=\"data:image/png;base64,iVBORw0KGgoAAAANSUhEUgAAADMAAAAQBAMAAABJt1qBAAAAMFBMVEX////MzMwyMjKqqqoiIiJm\n",
       "ZmaYmJju7u5EREQQEBC6urqIiIh2dnZUVFTc3NwAAAAqL9KcAAAAAXRSTlMAQObYZgAAAAlwSFlz\n",
       "AAAOxAAADsQBlSsOGwAAAN5JREFUGNNjYMAAJT+aChhO/lzAgAU0c11gYP+ATYbhyoNjDAwTsEpd\n",
       "bmB6wOCAIrTDxUUBRN/L5lNAlVq0Hcq4xyuwByzFd2ffBpAAnzpMzT2GBo4FIKmVDzi+gwSA5sOl\n",
       "RNndgVLs0xhYweYyMSCk2AwsgC5k/cDAcgAkIOkCBA0QKYbrvEApzgaGerDHK5B0MdSyA02q38CQ\n",
       "DxZgQZZi3ADUX2/AcIkZ5ALuDTCpRiDeCJTi2MDsygoWUYZJgRisQM+z3z74diNYpLarAEwL/QTq\n",
       "YFdACag1LS7IAgCEuzrfdn2YkQAAAABJRU5ErkJggg==\n",
       "\" style=\"display:inline;vertical-align:middle;\" /></a>, <a class=\"ProveItLink\" href=\"../subtraction/__pv_it/theorems/5d56aa038eb34c97b005be8161434236efec38e90/expr.ipynb\"><img src=\"data:image/png;base64,iVBORw0KGgoAAAANSUhEUgAAADEAAAAQBAMAAABNQoq8AAAAMFBMVEX///+YmJjMzMzc3NyIiIhU\n",
       "VFR2dna6urqqqqpmZmYyMjIiIiIQEBBERETu7u4AAAD7tRWPAAAAAXRSTlMAQObYZgAAAAlwSFlz\n",
       "AAAOxAAADsQBlSsOGwAAAOVJREFUGNNjYEAHr//eesCQ86eAge/OBjSpG+wBDHwfgAyuCWgy0QaJ\n",
       "DAwHgAz+BjSZiAtcBgwgg+ofQEV8d+9eAKKDRZgXgGWyoRJVflBGMKuCG1hmqUsEiM+8DmZaMMMF\n",
       "3gKgDN+vB+8NQA4xQMho8u0DynD8Y+BxAMkwIGQYG3qBbuNcwMCfAOTr7AaCCxAZhjhWoAx3AkM9\n",
       "yN1vkfQwPOXbAPbOfJC7uZFlmByAuvkV+A6C+CwOMJlLQOwElGEV4IUEzwqYDIgBtJ2BL2wiRODp\n",
       "dUhgaP0BqudbgBxeZbd3I/MB9+pAMX9TA7AAAAAASUVORK5CYII=\n",
       "\" style=\"display:inline;vertical-align:middle;\" /></a> <a class=\"ProveItLink\" href=\"../__pv_it/demonstrations/4c03169ae023b47fc0982b689ef025fcaaa89ceb0/proof.ipynb\" style=\"text-decoration: none\">&nbsp;&#x22A2;&nbsp;&nbsp;</a><a class=\"ProveItLink\" href=\"../__pv_it/theorems/a15e4ee9d247bc510c6a0dacbe0fa69a74e91f040/expr.ipynb\"><img src=\"data:image/png;base64,iVBORw0KGgoAAAANSUhEUgAAAGQAAAAVBAMAAABCslYDAAAAMFBMVEX////MzMxUVFRERES6uroi\n",
       "IiIQEBCYmJhmZmYyMjLu7u52dnaqqqqIiIjc3NwAAACW8nlqAAAAAXRSTlMAQObYZgAAAAlwSFlz\n",
       "AAAOxAAADsQBlSsOGwAAAbBJREFUOMt1Uz1Iw0AU/prYNm3THxDdhLoIUoWCtZsiDoqItAgBB1FB\n",
       "0dGODoJdpIiDxUUoosHSwalRcA84iQgRN8ESBBG3rnby5VLbXsm94e79ffe+d/cOgA1vEfmBqCkI\n",
       "rPTZ4c2pCiL7O8CzR3Y4m6ezCn1e2ZwH6hQte1UIFWmp9DmljUgBAUDhzlps73GH7UE/5BFX8MNB\n",
       "9chLe8/ptAR013jTNEZF+rZ+HMiTJ+SBsXMJLL3/V7FHowZBTkmPpRoWDzn/mAAiSUeNdVqSbBkZ\n",
       "glyQvmDLLQ4S/tXrNoKMTsjuQnzFWg1Yp4Q9KHkOorYQsKBuMUi3fRuHahagl1Ga8BvkOta0XU1b\n",
       "JU0pI27A13QShzWSdBsi6WMMEkijPsdVoRNyJgZYlWpvlXDSJVa3cMTfGD3LmQ6VsfX3QjAiAzME\n",
       "MTGu2hwkQf0hyOhErc7AJMgaBO5JtdQ1hasiFWSaGMVgxmVnipyROAGG6MYm7z5f+UtOlRxKboM3\n",
       "GXcKfNfbtN6SP+H1+ky+2vvytMbNbrDoNZZMSqIvNisKxNKiSFUUkIU/OWYJAg2B/w8IlmYISgsq\n",
       "WgAAAABJRU5ErkJggg==\n",
       "\" style=\"display:inline;vertical-align:middle;\" /></a></span>"
      ],
      "text/plain": [
       "{a in Natural, b in Natural} |- (a + b) in Natural"
      ]
     },
     "execution_count": 76,
     "metadata": {},
     "output_type": "execute_result"
    }
   ],
   "source": [
    "InSet(Add(a,b), Natural).prove(assumptions=[InSet(a, Natural), InSet(b, Natural)])"
   ]
  },
  {
   "cell_type": "code",
   "execution_count": 77,
   "metadata": {},
   "outputs": [
    {
     "data": {
      "text/html": [
       "<span style=\"font-size:20px;\"><a class=\"ProveItLink\" href=\"../../negation/__pv_it/theorems/27094ede24067904bb8353fa305df8461a3a4be40/expr.ipynb\"><img src=\"data:image/png;base64,iVBORw0KGgoAAAANSUhEUgAAADMAAAAQBAMAAABJt1qBAAAAMFBMVEX////MzMwyMjKqqqoiIiJm\n",
       "ZmaYmJju7u5EREQQEBC6urqIiIh2dnZUVFTc3NwAAAAqL9KcAAAAAXRSTlMAQObYZgAAAAlwSFlz\n",
       "AAAOxAAADsQBlSsOGwAAAN5JREFUGNNjYMAAJT+aChhO/lzAgAU0c11gYP+ATYbhyoNjDAwTsEpd\n",
       "bmB6wOCAIrTDxUUBRN/L5lNAlVq0Hcq4xyuwByzFd2ffBpAAnzpMzT2GBo4FIKmVDzi+gwSA5sOl\n",
       "RNndgVLs0xhYweYyMSCk2AwsgC5k/cDAcgAkIOkCBA0QKYbrvEApzgaGerDHK5B0MdSyA02q38CQ\n",
       "DxZgQZZi3ADUX2/AcIkZ5ALuDTCpRiDeCJTi2MDsygoWUYZJgRisQM+z3z74diNYpLarAEwL/QTq\n",
       "YFdACag1LS7IAgCEuzrfdn2YkQAAAABJRU5ErkJggg==\n",
       "\" style=\"display:inline;vertical-align:middle;\" /></a>, <a class=\"ProveItLink\" href=\"../subtraction/__pv_it/theorems/5d56aa038eb34c97b005be8161434236efec38e90/expr.ipynb\"><img src=\"data:image/png;base64,iVBORw0KGgoAAAANSUhEUgAAADEAAAAQBAMAAABNQoq8AAAAMFBMVEX///+YmJjMzMzc3NyIiIhU\n",
       "VFR2dna6urqqqqpmZmYyMjIiIiIQEBBERETu7u4AAAD7tRWPAAAAAXRSTlMAQObYZgAAAAlwSFlz\n",
       "AAAOxAAADsQBlSsOGwAAAOVJREFUGNNjYEAHr//eesCQ86eAge/OBjSpG+wBDHwfgAyuCWgy0QaJ\n",
       "DAwHgAz+BjSZiAtcBgwgg+ofQEV8d+9eAKKDRZgXgGWyoRJVflBGMKuCG1hmqUsEiM+8DmZaMMMF\n",
       "3gKgDN+vB+8NQA4xQMho8u0DynD8Y+BxAMkwIGQYG3qBbuNcwMCfAOTr7AaCCxAZhjhWoAx3AkM9\n",
       "yN1vkfQwPOXbAPbOfJC7uZFlmByAuvkV+A6C+CwOMJlLQOwElGEV4IUEzwqYDIgBtJ2BL2wiRODp\n",
       "dUhgaP0BqudbgBxeZbd3I/MB9+pAMX9TA7AAAAAASUVORK5CYII=\n",
       "\" style=\"display:inline;vertical-align:middle;\" /></a>, <a class=\"ProveItLink\" href=\"../__pv_it/demonstrations/7148739d216dc58b8d7f448f4eb1e3fc97450b970/expr.ipynb\"><img src=\"data:image/png;base64,iVBORw0KGgoAAAANSUhEUgAAADEAAAAQBAMAAABNQoq8AAAAMFBMVEX///9UVFQyMjK6urru7u4Q\n",
       "EBBERERmZmaqqqoiIiLc3NzMzMyYmJiIiIh2dnYAAABC1PP/AAAAAXRSTlMAQObYZgAAAAlwSFlz\n",
       "AAAOxAAADsQBlSsOGwAAAM9JREFUGNNjYEAHnt+SHBiefjVgwAQZzAIMLB+wSDBILnjDwBCATUYi\n",
       "gWkBwwRkkWszZyqAaKmzXAooMkZXoAwpxg33IDJv72wAklwqMCVSDAlsBiCZlQ3sCUAKaDZcZjvL\n",
       "FJDMPAbWCyAZBoQMT0Mb0G3sXyD8rTOBIAEiwyDCCJRhTYDIuCHpYXBkAZrmfwHC50SW4b4AVM9/\n",
       "gIEBFEa8F2Ay2UB8GygDdBgfyNUMGjAZEIMd5Od3ZyBedEx2ANObvgLVsyggh45d5kxkPgAvlDAq\n",
       "d9SAlAAAAABJRU5ErkJggg==\n",
       "\" style=\"display:inline;vertical-align:middle;\" /></a>, <a class=\"ProveItLink\" href=\"../__pv_it/demonstrations/51d6f7d63462c7f89f21491a05fc1730fb25de860/expr.ipynb\"><img src=\"data:image/png;base64,iVBORw0KGgoAAAANSUhEUgAAADMAAAAQBAMAAABJt1qBAAAAMFBMVEX///+YmJhERESIiIhUVFTc\n",
       "3NwiIiJ2dnbu7u66urqqqqpmZmYQEBAyMjLMzMwAAAA7oY0NAAAAAXRSTlMAQObYZgAAAAlwSFlz\n",
       "AAAOxAAADsQBlSsOGwAAAOtJREFUGNNjYMAAbZ90Gxhq/kwAsfnubECR0+J0YOD4AGHzL0CRcgso\n",
       "ZGA4AGHPb0CR8lLgDWBIgLDLIJRRWtoFEO0qzHoBJnUbTM61gOpyZXlgDpZidbf7BRJgvQEz0JVB\n",
       "gWkCSGpOANMPkADQfLjUa44MoBTHQQZusA28DAgpxgWLgC7k/sDAVgASeJMGBAoQKQYPFqAUjwJD\n",
       "P9jjTUi6GFo4gAb2GzDIgwXYkKX4DID6+xcw+HKBXMBsAJPSA2I7oBSTAVc2N1jkFkwKxAA5jcO5\n",
       "LsQOLNKiCQmvt3+AOjguoITddLU0ZAEAy3o2QX902jUAAAAASUVORK5CYII=\n",
       "\" style=\"display:inline;vertical-align:middle;\" /></a> <a class=\"ProveItLink\" href=\"../__pv_it/demonstrations/2ff48ff74bbf2e03f2848633f2f593303d49fa290/proof.ipynb\" style=\"text-decoration: none\">&nbsp;&#x22A2;&nbsp;&nbsp;</a><a class=\"ProveItLink\" href=\"../__pv_it/demonstrations/691d2cb621dc88fb4cbdc00df6ab1270f520d6b70/expr.ipynb\"><img src=\"data:image/png;base64,iVBORw0KGgoAAAANSUhEUgAAAKoAAAAVBAMAAAAkxGgRAAAAMFBMVEX///8AAAAAAAAAAAAAAAAA\n",
       "AAAAAAAAAAAAAAAAAAAAAAAAAAAAAAAAAAAAAAAAAAAv3aB7AAAAD3RSTlMAInZUiRDNmWbv3US7\n",
       "qzJazP2FAAAACXBIWXMAAA7EAAAOxAGVKw4bAAACSElEQVQ4y6WVT2jUQBTGv242TXc36eYkIhai\n",
       "WOhBJIoIFg+leBKUPQmWSlak4EXMQUS8NCCIB0E8iP8KVhTEEbEHkXqQrr3VCpZaBC+yehAUocWy\n",
       "Xrz4ZrJ/8oYElu0cdiZfkt97+fJlFoCLnkdf5pmc3zu15PFj8+WHKeQfPgAOplxtLs12wfxxByOa\n",
       "ZPtvgYAA1bQb+sNuWt1Ef4UrzqN8hAJgRUl1vjmXW7aUIv2hO0KpgQGtunMEZ1CEBCfGgea80OrB\n",
       "0JxLCnmy6Xa83CuEemZnu7dNUg+lUo+hC6q06ZxavR5u9ep+zY0R9aIMyNouj1PP7/6kQcZH6lwY\n",
       "Gl8nm46rgE21HXBtLBfjYm9cu8Go5t9K4DLIDt+qMaF0Cx/JpmuqabdDHQwnJoDHxLgLa5ZRjQYK\n",
       "HoM80YVTES7RdFhRO2/LxVVjCaDEWhsojpF0RYh7QryglVVFmRRLiGf3hVihVfwsHQHTshKwLuWf\n",
       "gkatSXUqXxS1UEMwx3qlIgt+srVCTX9bMzD/SfPkejLZq7kSOxB4uMkzQHGdriQhgadRzT8Y2KB5\n",
       "VDWRpOK7DSzSLT4+Gy6j1snrJKRM2Z9j1E041f3ADbWVtGvaFJTcbxUN2zOeWqxXJ7JDRqUA5Hmy\n",
       "FjEahnEwgbPtCEvf6C3+orqrJ4b28WStXdZsPHp9mAun93xbpTrP44Pl2K/BCzP0e5I8qad9W+jm\n",
       "25L5byby1XvBdim+P8wjezNJE6woYzt7hy2MnVknJrdCzWypz+sdmsv4z/sPafKBMocoVvAAAAAA\n",
       "SUVORK5CYII=\n",
       "\" style=\"display:inline;vertical-align:middle;\" /></a></span>"
      ],
      "text/plain": [
       "{a in Natural, b in Natural, c in Natural, d in Natural} |- (a + b + c + d) in Natural"
      ]
     },
     "execution_count": 77,
     "metadata": {},
     "output_type": "execute_result"
    }
   ],
   "source": [
    "InSet(Add(a,b,c,d), Natural).prove(assumptions=[InSet(a,Natural), InSet(b, Natural), InSet(c,Natural), InSet(d, Natural)])"
   ]
  },
  {
   "cell_type": "code",
   "execution_count": 78,
   "metadata": {},
   "outputs": [
    {
     "data": {
      "text/html": [
       "<span style=\"font-size:20px;\"><a class=\"ProveItLink\" href=\"../../ordering/__pv_it/theorems/4aa8d696b1f407d6126de9f51a052e8d90e0848c0/expr.ipynb\"><img src=\"data:image/png;base64,iVBORw0KGgoAAAANSUhEUgAAADMAAAAQBAMAAABJt1qBAAAAMFBMVEX////MzMwyMjKqqqoiIiJm\n",
       "ZmaYmJju7u5EREQQEBC6urqIiIh2dnZUVFTc3NwAAAAqL9KcAAAAAXRSTlMAQObYZgAAAAlwSFlz\n",
       "AAAOxAAADsQBlSsOGwAAAM1JREFUGNNjYMAASTP6VWYkMGAFDW8Z1mYUYJd6w8DBeAGXFOsDBRSh\n",
       "HS4uCnCpBmSZRdsRunjLQQby3dm3ASTAp45koITRAyBj5QOO7yABpgdwqZcqX0AmsE9jYHUASyE5\n",
       "I60IRLN+YGA5AGJIugBBA0SKowzkZc4GhvoFIIEKJF2MAe1Aun4DQz5YgAXZX4EvQFIGDJeYQS7g\n",
       "3oAkVcENNJFjA7MrK1hEGS71lIEtoQvowtsH324Ei9R2FcBCvo+hQ98AOTjWtLgghxwApbZCEcpv\n",
       "FP8AAAAASUVORK5CYII=\n",
       "\" style=\"display:inline;vertical-align:middle;\" /></a>, <a class=\"ProveItLink\" href=\"../../ordering/__pv_it/theorems/6e5cad5b2984ed0d75bd47bd0c542ec447a4f3570/expr.ipynb\"><img src=\"data:image/png;base64,iVBORw0KGgoAAAANSUhEUgAAADEAAAAQBAMAAABNQoq8AAAAMFBMVEX///+YmJjMzMzc3NyIiIhU\n",
       "VFR2dna6urqqqqpmZmYyMjIiIiIQEBBERETu7u4AAAD7tRWPAAAAAXRSTlMAQObYZgAAAAlwSFlz\n",
       "AAAOxAAADsQBlSsOGwAAANZJREFUGNNjYEAHUmfvrz4rAGTw3dmAJnXBlKFU9gGQwTUBXcaMgZcp\n",
       "AMjgb8CU4TRYAGTUP4CK+O7evQAucwHIyIZKVPkh9LC+A5m21CUCxGdeh2SabpcB0G2/Hrw3ADnE\n",
       "AC5js/o3SD/HPwYeB5AMkgsEX4FozgUM/AlAWmc3EFyAyPA+BPmUO4GhHuTut0h6mCbcg3hnPsjd\n",
       "3Mj+mWQLklHgOwjiszggybxlARrHKsALCZ4VcBlLBkaB60BXh02ECDy9/gAW1pcZ7q5HDrOy25DQ\n",
       "gQIAY/lDzDbeA58AAAAASUVORK5CYII=\n",
       "\" style=\"display:inline;vertical-align:middle;\" /></a> <a class=\"ProveItLink\" href=\"../__pv_it/demonstrations/b2d16f3875d9a662e21127269100d655c2d8d8940/proof.ipynb\" style=\"text-decoration: none\">&nbsp;&#x22A2;&nbsp;&nbsp;</a><a class=\"ProveItLink\" href=\"../__pv_it/theorems/5d597c4a40c58c5ef1eadf61ffae99c0ec00aa990/expr.ipynb\"><img src=\"data:image/png;base64,iVBORw0KGgoAAAANSUhEUgAAAGQAAAAVBAMAAABCslYDAAAAMFBMVEX////MzMxUVFRERES6uroi\n",
       "IiIQEBCYmJhmZmYyMjLu7u52dnaqqqqIiIjc3NwAAACW8nlqAAAAAXRSTlMAQObYZgAAAAlwSFlz\n",
       "AAAOxAAADsQBlSsOGwAAAahJREFUOMtjYGB4wIAd4BJnYOA9gEPCF43PPs34Z5g5iHUai2ouswCg\n",
       "WQVoosx8CizqVkDZCdhs4GwAErMwtGxgMBBiYOBAMcsdSvODXFuBRUsfJwMDG4roWSjtvwBIsC2A\n",
       "cC6Hhk6Aa2FmYDiJVctWsOsgDvC8hWSL1iIGhm4gm0/73gVULZPu6jAwcCuAmHyzkBzGaDOPgWE6\n",
       "kO32gPkXihaunwvWP2BgBzuH8wFCS2Z8LNCxMUAF6QwcAShaeH4xsF1g4EkAa0Hy/vYqkCkpwED7\n",
       "wMC6AchsDQ1NCw0NArI4JjDwb2Bg/ABSKBYKBAZQh1mVQ7SwGTCsd0CxBWiC/wEGFrAti5EDWYIZ\n",
       "4rD1FxjqUUMMGC39Cxh4wK5lRdbCIQe0zxao5QCDJs8DFC0CQP8xsIOdw3sBSQuXwXUGhk1A5gWe\n",
       "CA4UW5gKmIEphmMDmDMHoaWBoZzZgUEUGGK6Gx9dRA1k7XaQkyAeXGSyAJaSPz9gtvzDwCqALfbB\n",
       "4CmU9jYNRUm77A3YkiUYtOPKYna4JPgMcMksxiXBjDMn813AIXEPhzgAC19m+RG1whkAAAAASUVO\n",
       "RK5CYII=\n",
       "\" style=\"display:inline;vertical-align:middle;\" /></a></span>"
      ],
      "text/plain": [
       "{a in Real, b in Real} |- (a + b) in Real"
      ]
     },
     "execution_count": 78,
     "metadata": {},
     "output_type": "execute_result"
    }
   ],
   "source": [
    "InSet(Add(a,b), Real).prove(assumptions=[InSet(a, Real), InSet(b,Real)])"
   ]
  },
  {
   "cell_type": "code",
   "execution_count": 79,
   "metadata": {},
   "outputs": [
    {
     "data": {
      "text/html": [
       "<span style=\"font-size:20px;\"><a class=\"ProveItLink\" href=\"../../ordering/__pv_it/theorems/4aa8d696b1f407d6126de9f51a052e8d90e0848c0/expr.ipynb\"><img src=\"data:image/png;base64,iVBORw0KGgoAAAANSUhEUgAAADMAAAAQBAMAAABJt1qBAAAAMFBMVEX////MzMwyMjKqqqoiIiJm\n",
       "ZmaYmJju7u5EREQQEBC6urqIiIh2dnZUVFTc3NwAAAAqL9KcAAAAAXRSTlMAQObYZgAAAAlwSFlz\n",
       "AAAOxAAADsQBlSsOGwAAAM1JREFUGNNjYMAASTP6VWYkMGAFDW8Z1mYUYJd6w8DBeAGXFOsDBRSh\n",
       "HS4uCnCpBmSZRdsRunjLQQby3dm3ASTAp45koITRAyBj5QOO7yABpgdwqZcqX0AmsE9jYHUASyE5\n",
       "I60IRLN+YGA5AGJIugBBA0SKowzkZc4GhvoFIIEKJF2MAe1Aun4DQz5YgAXZX4EvQFIGDJeYQS7g\n",
       "3oAkVcENNJFjA7MrK1hEGS71lIEtoQvowtsH324Ei9R2FcBCvo+hQ98AOTjWtLgghxwApbZCEcpv\n",
       "FP8AAAAASUVORK5CYII=\n",
       "\" style=\"display:inline;vertical-align:middle;\" /></a>, <a class=\"ProveItLink\" href=\"../../ordering/__pv_it/theorems/6e5cad5b2984ed0d75bd47bd0c542ec447a4f3570/expr.ipynb\"><img src=\"data:image/png;base64,iVBORw0KGgoAAAANSUhEUgAAADEAAAAQBAMAAABNQoq8AAAAMFBMVEX///+YmJjMzMzc3NyIiIhU\n",
       "VFR2dna6urqqqqpmZmYyMjIiIiIQEBBERETu7u4AAAD7tRWPAAAAAXRSTlMAQObYZgAAAAlwSFlz\n",
       "AAAOxAAADsQBlSsOGwAAANZJREFUGNNjYEAHUmfvrz4rAGTw3dmAJnXBlKFU9gGQwTUBXcaMgZcp\n",
       "AMjgb8CU4TRYAGTUP4CK+O7evQAucwHIyIZKVPkh9LC+A5m21CUCxGdeh2SabpcB0G2/Hrw3ADnE\n",
       "AC5js/o3SD/HPwYeB5AMkgsEX4FozgUM/AlAWmc3EFyAyPA+BPmUO4GhHuTut0h6mCbcg3hnPsjd\n",
       "3Mj+mWQLklHgOwjiszggybxlARrHKsALCZ4VcBlLBkaB60BXh02ECDy9/gAW1pcZ7q5HDrOy25DQ\n",
       "gQIAY/lDzDbeA58AAAAASUVORK5CYII=\n",
       "\" style=\"display:inline;vertical-align:middle;\" /></a>, <a class=\"ProveItLink\" href=\"../__pv_it/demonstrations/d550e8309ef79ca46e4c9fb5617a392ea678789b0/expr.ipynb\"><img src=\"data:image/png;base64,iVBORw0KGgoAAAANSUhEUgAAADEAAAAQBAMAAABNQoq8AAAAMFBMVEX///9UVFQyMjK6urru7u4Q\n",
       "EBBERERmZmaqqqoiIiLc3NzMzMyYmJiIiIh2dnYAAABC1PP/AAAAAXRSTlMAQObYZgAAAAlwSFlz\n",
       "AAAOxAAADsQBlSsOGwAAAL1JREFUGNNjYEAHh8LyNcMOMGADCQsZDI85YJVZx8DGLYBDhn2BArLI\n",
       "tZkzFeAyCUgSRlcQehhdwKa9vbMBSHKpIJm2rWkBkLGygR2klWkBXGap5k+w/nkMrBdAMkguOOME\n",
       "otm/QPhbZwJBAkSGzQfkU1aoK9yQ9HAXpABp/wsQPieyf6qXAWl+oEYDIM17AUnGjRcoCnQYH8jV\n",
       "DBpwmeUMPAeSgYx3ZyBedEx2gIV1FkOafgNSINhlzkQOLQDcXDjPgdalcwAAAABJRU5ErkJggg==\n",
       "\" style=\"display:inline;vertical-align:middle;\" /></a>, <a class=\"ProveItLink\" href=\"../__pv_it/demonstrations/41c3ad9f29c40b69fd61c49f41684c1b813e9e850/expr.ipynb\"><img src=\"data:image/png;base64,iVBORw0KGgoAAAANSUhEUgAAADMAAAAQBAMAAABJt1qBAAAAMFBMVEX///+YmJhERESIiIhUVFTc\n",
       "3NwiIiJ2dnbu7u66urqqqqpmZmYQEBAyMjLMzMwAAAA7oY0NAAAAAXRSTlMAQObYZgAAAAlwSFlz\n",
       "AAAOxAAADsQBlSsOGwAAANxJREFUGNNjYMAAsof0rx0SgLD57mxAkVMIYZgi1ABh8y9AlQpnYOJz\n",
       "gLDnN6BLcQdcgLDLIJRRWtoFuJQCROw2mJxrgdDF0gEykNXd7hdIgPUGkoGP1gYAGXMCmH6ABHgD\n",
       "4FIx176BTOA4yMANtoEXyRmCvSCa+wMDWwGI8SYNCBQgUkyNIC/zKDD0TwAJNCHp4tugAaT7DRjk\n",
       "wQJsyP7aFwSSWsDgywVyAbMBklQTM9BEJgOubG6wyC24VDQDo4Am0IXOdSF2YJEWzQZYyKsyKN1H\n",
       "CdfpamkXkLgAdQoz5LsD3PAAAAAASUVORK5CYII=\n",
       "\" style=\"display:inline;vertical-align:middle;\" /></a> <a class=\"ProveItLink\" href=\"../__pv_it/demonstrations/d4c1541cf2ce477c86b512ded2e62c9498713e3a0/proof.ipynb\" style=\"text-decoration: none\">&nbsp;&#x22A2;&nbsp;&nbsp;</a><a class=\"ProveItLink\" href=\"../__pv_it/demonstrations/eb388604128b41906bd2db1d44642133b27499120/expr.ipynb\"><img src=\"data:image/png;base64,iVBORw0KGgoAAAANSUhEUgAAAKoAAAAVBAMAAAAkxGgRAAAAMFBMVEX///8AAAAAAAAAAAAAAAAA\n",
       "AAAAAAAAAAAAAAAAAAAAAAAAAAAAAAAAAAAAAAAAAAAv3aB7AAAAD3RSTlMAInZUiRDNmWbv3US7\n",
       "qzJazP2FAAAACXBIWXMAAA7EAAAOxAGVKw4bAAACOklEQVQ4y6WVT2jTYBjGn65L0y6ZzVkcRHHQ\n",
       "g0gVGbjTGB5EUHoVNloRQQ9CBBHxslwcPQiyg/89DBVkn4g9iMzT4mTiP3DMKR67i6IgG5buogff\n",
       "L2nt934mULpcvjdPmt/35smTtwAc9HykEq/0FXunWi4/z555vzn3WlYHYn5tvJntgvn1BgqaZKeW\n",
       "rS9LBKjE3ZDxumm1gUxJp44h+AmYvqrOt9Z82xbL1x+6I1hNZL3/qecyQI6p+1vrQruHtOacKvST\n",
       "Tdeico8QlX9UGxiJpR5BF1Rp0+mwejas9PppEjgvA7K60+XUs7s+apDxQp0LQ+PrZNPRMGCnFAe2\n",
       "vTwRbfbcsZuMamyWyg6DbC+aAROsGXwgm6bDpp0O9fqTeyTfJ8ZNmLOMmm4i5zLIA1047uMCLQdD\n",
       "qvK2Dl+WBt+hGGxgYIzKS0LcEuIxVWYFeVJMIeZuC7FMVfQsHQFTcidgXcrfBR1By4GlakTNBSjX\n",
       "WK+0yUJRbS0X6G/rLozf0jxZT6jJ+mZHDpRdXOUZoLhOlVRI2dWoxi9kN2gdDZtQqeYadbBItxTx\n",
       "Oe0wap28ViF5yn6NURsYrOwDroSjxFWoRlAIo2G76Ycm63XQtz1GpQD082QtYtTzomACJztUD1W7\n",
       "hh+078qxob08WasXNRsPVYe5MLl7bYX2eRSdvCu1Z9Yfx37VwEA97ttCN9+WzH8rkU/fCjal+HyY\n",
       "R/IwiRNMP2GcvcAWjh1JFya2Qk1sKeX2Du1L+M/7CxtOihkKxzT1AAAAAElFTkSuQmCC\n",
       "\" style=\"display:inline;vertical-align:middle;\" /></a></span>"
      ],
      "text/plain": [
       "{a in Real, b in Real, c in Real, d in Real} |- (a + b + c + d) in Real"
      ]
     },
     "execution_count": 79,
     "metadata": {},
     "output_type": "execute_result"
    }
   ],
   "source": [
    "InSet(Add(a,b,c,d), Real).prove(assumptions=[InSet(a,Real), InSet(b,Real), InSet(c, Real), InSet(d, Real)])"
   ]
  },
  {
   "cell_type": "code",
   "execution_count": 80,
   "metadata": {},
   "outputs": [
    {
     "data": {
      "text/html": [
       "<span style=\"font-size:20px;\"><a class=\"ProveItLink\" href=\"../__pv_it/theorems/e9f87a0977d5044ea8daf1040d2f219396bb3d5b0/expr.ipynb\"><img src=\"data:image/png;base64,iVBORw0KGgoAAAANSUhEUgAAADMAAAAQBAMAAABJt1qBAAAAMFBMVEX////MzMwyMjKqqqoiIiJm\n",
       "ZmaYmJju7u5EREQQEBC6urqIiIh2dnZUVFTc3NwAAAAqL9KcAAAAAXRSTlMAQObYZgAAAAlwSFlz\n",
       "AAAOxAAADsQBlSsOGwAAANFJREFUGNNjYMACalqU9slgk2DgvpnAHt+KVSp6DQMDG1YpxoB2IHkV\n",
       "RWyHi4sCkOItaACSZcgyi7ZDaA6+AKgI3519G8C0OlTgLeMBKGvlA47vIJrpAVRAhisBwmCfxsDq\n",
       "AJaCGfyUawOEwfqBgQVsgKQLEDSA7YIayNnAUL8AxKiA6eIAuxAI6jcw5IMZLDApLrC/uIBSBgyX\n",
       "mEEu4N4AD421QCIIqH0DsysrWEQZHoZNcewmQL+x3z74diNYpLarABbynV/iUANvTQs4oGAAAKqD\n",
       "MEJAsWyMAAAAAElFTkSuQmCC\n",
       "\" style=\"display:inline;vertical-align:middle;\" /></a>, <a class=\"ProveItLink\" href=\"../__pv_it/theorems/a259ec76dfb0a5be60b7c83d797520fa82c1dba60/expr.ipynb\"><img src=\"data:image/png;base64,iVBORw0KGgoAAAANSUhEUgAAADEAAAAQBAMAAABNQoq8AAAAMFBMVEX///+YmJjMzMzc3NyIiIhU\n",
       "VFR2dna6urqqqqpmZmYyMjIiIiIQEBBERETu7u4AAAD7tRWPAAAAAXRSTlMAQObYZgAAAAlwSFlz\n",
       "AAAOxAAADsQBlSsOGwAAANtJREFUGNNjYMAEz26vclZjYOC7swFNgiVGgG/+TSCDawKazJQyBgZG\n",
       "kAx/A6oE04R7QDISiOsfQIV8d+9eAKRYH1wAkg+BOBsqUeUHoXmZYcYvdYkAUczroHxTpgQIg+/X\n",
       "g/cGIIcYQGXU2AUgDI5/DDwOIBmYCyzZHSAMzgUM/CDtOruB4ALYHqhp3AkM9SB3v4Xp4QW7DeKd\n",
       "+SB3c8Nk2MH+YQfKKPAdBIeJAzwMSoHELKDHBHgh7l8BD7dbk/m6gWJ8YRMhAk+vwwLj2Z3fk1EC\n",
       "rOw2OHRgAAASXDjITT81JQAAAABJRU5ErkJggg==\n",
       "\" style=\"display:inline;vertical-align:middle;\" /></a> <a class=\"ProveItLink\" href=\"../__pv_it/demonstrations/b4a5ed4a1251cf78acdd06c31fbf5c604bc00f500/proof.ipynb\" style=\"text-decoration: none\">&nbsp;&#x22A2;&nbsp;&nbsp;</a><a class=\"ProveItLink\" href=\"../__pv_it/theorems/a6c5109834da253e63c0a4ff791bacc177a5dc8c0/expr.ipynb\"><img src=\"data:image/png;base64,iVBORw0KGgoAAAANSUhEUgAAAGQAAAAVBAMAAABCslYDAAAAMFBMVEX////MzMxUVFRERES6uroi\n",
       "IiIQEBCYmJhmZmYyMjLu7u52dnaqqqqIiIjc3NwAAACW8nlqAAAAAXRSTlMAQObYZgAAAAlwSFlz\n",
       "AAAOxAAADsQBlSsOGwAAAatJREFUOMt1Uz1Iw0AU/trYNq1p2kURXLpqFTqog6B08geRFiFQwcFB\n",
       "7GjBxc0s0sHB4qKIQrCLg9CquHcVEaJ1EixREASXgpOdfLmkkau5B5d3ee++e9/7OQAW/EVkB+IN\n",
       "gWP5nyV2s3r2VgfufU7HpvJ0V6nX/FTExbeOWMUvQlSnz0mPUX6mCNs6ZO6ueVcnbLY7PZAhyQCC\n",
       "OsKc9cHVOXIibDg/TU1jVEYlm3MJd76QW8bOIbD44hozn47ep6WmWyYPOXwdA/pT9lbtpqSmhp3N\n",
       "Ea05S+pwkNiPUbMQYXSi3f4E6m6ma3SgCDnPQZQOwiaUdQbpklZ1t1MbVLw2QlQ+7Gnapqat2OWs\n",
       "IFFHoG0fGNRIMiyXLw8SzqCW5aLQDbkG+liUqlebackjVjOxy1eM2nJgQGFsQx5kwe4LspghSAMj\n",
       "isVBkpQfIoxO3PzrfopxvgYkUynIXJRgSaKJkevs59QL0zy2LgvAAFVs/Or9kS9yumxTchI8nzC8\n",
       "Sd4qEJtQ0q/7TD5cvTSpcbMb0f3GkklZ9MRmRQ41I/JURQ5J+JJVU+BoCey/CZ1miy5Ab9MAAAAA\n",
       "SUVORK5CYII=\n",
       "\" style=\"display:inline;vertical-align:middle;\" /></a></span>"
      ],
      "text/plain": [
       "{a in Complex, b in Complex} |- (a + b) in Complex"
      ]
     },
     "execution_count": 80,
     "metadata": {},
     "output_type": "execute_result"
    }
   ],
   "source": [
    "InSet(Add(a,b), Complex).prove(assumptions=[InSet(a, Complex), InSet(b, Complex)])"
   ]
  },
  {
   "cell_type": "code",
   "execution_count": 81,
   "metadata": {},
   "outputs": [
    {
     "data": {
      "text/html": [
       "<span style=\"font-size:20px;\"><a class=\"ProveItLink\" href=\"../__pv_it/theorems/e9f87a0977d5044ea8daf1040d2f219396bb3d5b0/expr.ipynb\"><img src=\"data:image/png;base64,iVBORw0KGgoAAAANSUhEUgAAADMAAAAQBAMAAABJt1qBAAAAMFBMVEX////MzMwyMjKqqqoiIiJm\n",
       "ZmaYmJju7u5EREQQEBC6urqIiIh2dnZUVFTc3NwAAAAqL9KcAAAAAXRSTlMAQObYZgAAAAlwSFlz\n",
       "AAAOxAAADsQBlSsOGwAAANFJREFUGNNjYMACalqU9slgk2DgvpnAHt+KVSp6DQMDG1YpxoB2IHkV\n",
       "RWyHi4sCkOItaACSZcgyi7ZDaA6+AKgI3519G8C0OlTgLeMBKGvlA47vIJrpAVRAhisBwmCfxsDq\n",
       "AJaCGfyUawOEwfqBgQVsgKQLEDSA7YIayNnAUL8AxKiA6eIAuxAI6jcw5IMZLDApLrC/uIBSBgyX\n",
       "mEEu4N4AD421QCIIqH0DsysrWEQZHoZNcewmQL+x3z74diNYpLarABbynV/iUANvTQs4oGAAAKqD\n",
       "MEJAsWyMAAAAAElFTkSuQmCC\n",
       "\" style=\"display:inline;vertical-align:middle;\" /></a>, <a class=\"ProveItLink\" href=\"../__pv_it/theorems/a259ec76dfb0a5be60b7c83d797520fa82c1dba60/expr.ipynb\"><img src=\"data:image/png;base64,iVBORw0KGgoAAAANSUhEUgAAADEAAAAQBAMAAABNQoq8AAAAMFBMVEX///+YmJjMzMzc3NyIiIhU\n",
       "VFR2dna6urqqqqpmZmYyMjIiIiIQEBBERETu7u4AAAD7tRWPAAAAAXRSTlMAQObYZgAAAAlwSFlz\n",
       "AAAOxAAADsQBlSsOGwAAANtJREFUGNNjYMAEz26vclZjYOC7swFNgiVGgG/+TSCDawKazJQyBgZG\n",
       "kAx/A6oE04R7QDISiOsfQIV8d+9eAKRYH1wAkg+BOBsqUeUHoXmZYcYvdYkAUczroHxTpgQIg+/X\n",
       "g/cGIIcYQGXU2AUgDI5/DDwOIBmYCyzZHSAMzgUM/CDtOruB4ALYHqhp3AkM9SB3v4Xp4QW7DeKd\n",
       "+SB3c8Nk2MH+YQfKKPAdBIeJAzwMSoHELKDHBHgh7l8BD7dbk/m6gWJ8YRMhAk+vwwLj2Z3fk1EC\n",
       "rOw2OHRgAAASXDjITT81JQAAAABJRU5ErkJggg==\n",
       "\" style=\"display:inline;vertical-align:middle;\" /></a>, <a class=\"ProveItLink\" href=\"../__pv_it/theorems/b66b5547fa9b0b910f79351152926c658c2718190/expr.ipynb\"><img src=\"data:image/png;base64,iVBORw0KGgoAAAANSUhEUgAAADEAAAAQBAMAAABNQoq8AAAAMFBMVEX///9UVFQyMjK6urru7u4Q\n",
       "EBBERERmZmaqqqoiIiLc3NzMzMyYmJiIiIh2dnYAAABC1PP/AAAAAXRSTlMAQObYZgAAAAlwSFlz\n",
       "AAAOxAAADsQBlSsOGwAAAMJJREFUGNNjYMAEfplKt/ZhEWfgFT3AUp+OTabWjoGBB5sMd0EKkBRH\n",
       "Fro2c6YCkGJ0SACSPkgSRlcgNBtXAUzo7Z0NQJJLBcpdyP0AylrZwA7SzrQAyt/HfADKmsfAegEk\n",
       "AzNiOfMFCIP9C4TeOhMIEsD2QE1jTYDQbjA9bA5QEX+oXk6YDDPYP8wMDPxA+wxAYXIBHgaGQKII\n",
       "aE8CAx/I1Qwa8HBLqmLpBPnp3RmIFx2THWBhnfqzCiXA7DLBoQMDAANFK7BF6/dnAAAAAElFTkSu\n",
       "QmCC\n",
       "\" style=\"display:inline;vertical-align:middle;\" /></a>, <a class=\"ProveItLink\" href=\"../__pv_it/demonstrations/d6724abdc9486f838f4cf63bc1115e85255ce4c00/expr.ipynb\"><img src=\"data:image/png;base64,iVBORw0KGgoAAAANSUhEUgAAADMAAAAQBAMAAABJt1qBAAAAMFBMVEX///+YmJhERESIiIhUVFTc\n",
       "3NwiIiJ2dnbu7u66urqqqqpmZmYQEBAyMjLMzMwAAAA7oY0NAAAAAXRSTlMAQObYZgAAAAlwSFlz\n",
       "AAAOxAAADsQBlSsOGwAAAOBJREFUGNNjYMAC2tXumj4Hs/jubECRYfYR4NivDWHzL0CR2jydgYER\n",
       "KjW/AVmGb4MGkPSGcMoglFFa2gUgxdKgACQbIWK3weRcCwiPiRVmNau73S8wfQMqEMJXAGXNCWD6\n",
       "AaJ5A6ACzzkFIAyOgwzcF8BSMGdEcxpAGNwfGNjABrxJAwIFsF1QA3kUGPongBhNMF1MYBcCQb8B\n",
       "gzyYwQaT4gT7ixMotYDBlwvkAmYDeGhMARJ7gdoNuLK5wSK34GGou5VjGdBvHM51IXZgkRZNWHi1\n",
       "63zbihoX09XAAQUDAHO5MBAUDGSbAAAAAElFTkSuQmCC\n",
       "\" style=\"display:inline;vertical-align:middle;\" /></a> <a class=\"ProveItLink\" href=\"../__pv_it/demonstrations/668399e031a8e9b286565bb10441ad86730ffa7c0/proof.ipynb\" style=\"text-decoration: none\">&nbsp;&#x22A2;&nbsp;&nbsp;</a><a class=\"ProveItLink\" href=\"../__pv_it/demonstrations/a12abcbb76f4eed389e805c4f75ae4624d95ce870/expr.ipynb\"><img src=\"data:image/png;base64,iVBORw0KGgoAAAANSUhEUgAAAKoAAAAVBAMAAAAkxGgRAAAAMFBMVEX///8AAAAAAAAAAAAAAAAA\n",
       "AAAAAAAAAAAAAAAAAAAAAAAAAAAAAAAAAAAAAAAAAAAv3aB7AAAAD3RSTlMAInZUiRDNmWbv3US7\n",
       "qzJazP2FAAAACXBIWXMAAA7EAAAOxAGVKw4bAAACQ0lEQVQ4y6VVQWgTQRR9bbrdptmYPRQEsbKK\n",
       "hYJVUhHBnkrxJCoBDyJUEhTRi7AHKeKlexIPBfEgtipYUAyOCEVE66lrwYN6MNTqOYIo7aXFEi96\n",
       "8M/sZrN/2IWQzmV+3u6+/+fN+z8AbHS8ulKfdBc7Z805OmKcfHphzzhwJOFt48N8G5w/72FYxw7O\n",
       "4uw/F0Yl6YNet51St9Bb4oh5gOqccWF6cXQx3AtNWXKefugWkGugT8v+y6I0eRdZhh4O96VmDRld\n",
       "uRjQQzLdDcIRIdSZv1pSPw9HE1lPoA1WKdMVFb0eCiF/Z7BfkwZZ3etw1qv7vmgkE8N1DgxObJBM\n",
       "p5TBLjWdVvsRBDLZW9tqMFbjT6lsM5JdRdNnQO4OPpNMN1XRTcvvGA8v5jFxzMKcZ6yZBrIOI3mi\n",
       "A+c8TNF2TLFGXeG+DIIHZIdN9JMhcEOIOSFeSINUUCDEFOLZfSFqFAVnaQGYlpmADQmvCVrqKP5A\n",
       "xJr1UV5gtVKSpWK8tKyv39ZDGH+leDKejC7wvRUpUHZwm3uA7DpdipOUHY3V+I2+TdrHVBER6xvp\n",
       "VyxgmT4p4lvGZqx10jpOUvDku3HWLeQro9RHapQ4rd6qKf3IGpaTqZqs1rxnuYyVDNDDnbWMMdcN\n",
       "jAlcjIoduWyfqQLrlHfl9OAh7qzV65qMx28NceD8/u8rlOd58ONTKZpZj6p07P56Um+hnd6SVgod\n",
       "+eqjYFOKz4dFpA+TJMD0UsbZO2xj7U57MLkd1tSSupzOSbtT/vP+A1R4g2HsTj6xAAAAAElFTkSu\n",
       "QmCC\n",
       "\" style=\"display:inline;vertical-align:middle;\" /></a></span>"
      ],
      "text/plain": [
       "{a in Complex, b in Complex, c in Complex, d in Complex} |- (a + b + c + d) in Complex"
      ]
     },
     "execution_count": 81,
     "metadata": {},
     "output_type": "execute_result"
    }
   ],
   "source": [
    "InSet(Add(a,b,c,d), Complex).prove(assumptions=[InSet(a, Complex), InSet(b, Complex), InSet(c, Complex), InSet(d,Complex)])"
   ]
  },
  {
   "cell_type": "code",
   "execution_count": 82,
   "metadata": {},
   "outputs": [
    {
     "data": {
      "text/html": [
       "<span style=\"font-size:20px;\"><a class=\"ProveItLink\" href=\"../../negation/__pv_it/theorems/27094ede24067904bb8353fa305df8461a3a4be40/expr.ipynb\"><img src=\"data:image/png;base64,iVBORw0KGgoAAAANSUhEUgAAADMAAAAQBAMAAABJt1qBAAAAMFBMVEX////MzMwyMjKqqqoiIiJm\n",
       "ZmaYmJju7u5EREQQEBC6urqIiIh2dnZUVFTc3NwAAAAqL9KcAAAAAXRSTlMAQObYZgAAAAlwSFlz\n",
       "AAAOxAAADsQBlSsOGwAAAN5JREFUGNNjYMAAJT+aChhO/lzAgAU0c11gYP+ATYbhyoNjDAwTsEpd\n",
       "bmB6wOCAIrTDxUUBRN/L5lNAlVq0Hcq4xyuwByzFd2ffBpAAnzpMzT2GBo4FIKmVDzi+gwSA5sOl\n",
       "RNndgVLs0xhYweYyMSCk2AwsgC5k/cDAcgAkIOkCBA0QKYbrvEApzgaGerDHK5B0MdSyA02q38CQ\n",
       "DxZgQZZi3ADUX2/AcIkZ5ALuDTCpRiDeCJTi2MDsygoWUYZJgRisQM+z3z74diNYpLarAEwL/QTq\n",
       "YFdACag1LS7IAgCEuzrfdn2YkQAAAABJRU5ErkJggg==\n",
       "\" style=\"display:inline;vertical-align:middle;\" /></a>, <a class=\"ProveItLink\" href=\"../subtraction/__pv_it/theorems/5d56aa038eb34c97b005be8161434236efec38e90/expr.ipynb\"><img src=\"data:image/png;base64,iVBORw0KGgoAAAANSUhEUgAAADEAAAAQBAMAAABNQoq8AAAAMFBMVEX///+YmJjMzMzc3NyIiIhU\n",
       "VFR2dna6urqqqqpmZmYyMjIiIiIQEBBERETu7u4AAAD7tRWPAAAAAXRSTlMAQObYZgAAAAlwSFlz\n",
       "AAAOxAAADsQBlSsOGwAAAOVJREFUGNNjYEAHr//eesCQ86eAge/OBjSpG+wBDHwfgAyuCWgy0QaJ\n",
       "DAwHgAz+BjSZiAtcBgwgg+ofQEV8d+9eAKKDRZgXgGWyoRJVflBGMKuCG1hmqUsEiM+8DmZaMMMF\n",
       "3gKgDN+vB+8NQA4xQMho8u0DynD8Y+BxAMkwIGQYG3qBbuNcwMCfAOTr7AaCCxAZhjhWoAx3AkM9\n",
       "yN1vkfQwPOXbAPbOfJC7uZFlmByAuvkV+A6C+CwOMJlLQOwElGEV4IUEzwqYDIgBtJ2BL2wiRODp\n",
       "dUhgaP0BqudbgBxeZbd3I/MB9+pAMX9TA7AAAAAASUVORK5CYII=\n",
       "\" style=\"display:inline;vertical-align:middle;\" /></a>, <a class=\"ProveItLink\" href=\"../__pv_it/demonstrations/51d6f7d63462c7f89f21491a05fc1730fb25de860/expr.ipynb\"><img src=\"data:image/png;base64,iVBORw0KGgoAAAANSUhEUgAAADMAAAAQBAMAAABJt1qBAAAAMFBMVEX///+YmJhERESIiIhUVFTc\n",
       "3NwiIiJ2dnbu7u66urqqqqpmZmYQEBAyMjLMzMwAAAA7oY0NAAAAAXRSTlMAQObYZgAAAAlwSFlz\n",
       "AAAOxAAADsQBlSsOGwAAAOtJREFUGNNjYMAAbZ90Gxhq/kwAsfnubECR0+J0YOD4AGHzL0CRcgso\n",
       "ZGA4AGHPb0CR8lLgDWBIgLDLIJRRWtoFEO0qzHoBJnUbTM61gOpyZXlgDpZidbf7BRJgvQEz0JVB\n",
       "gWkCSGpOANMPkADQfLjUa44MoBTHQQZusA28DAgpxgWLgC7k/sDAVgASeJMGBAoQKQYPFqAUjwJD\n",
       "P9jjTUi6GFo4gAb2GzDIgwXYkKX4DID6+xcw+HKBXMBsAJPSA2I7oBSTAVc2N1jkFkwKxAA5jcO5\n",
       "LsQOLNKiCQmvt3+AOjguoITddLU0ZAEAy3o2QX902jUAAAAASUVORK5CYII=\n",
       "\" style=\"display:inline;vertical-align:middle;\" /></a> <a class=\"ProveItLink\" href=\"../__pv_it/demonstrations/72096131f004ebcde53dcaadb662a804f7eeabaf0/proof.ipynb\" style=\"text-decoration: none\">&nbsp;&#x22A2;&nbsp;&nbsp;</a><a class=\"ProveItLink\" href=\"../__pv_it/demonstrations/f5be4aaa5b7242c2fc8ed278339e0dc5d19f26df0/expr.ipynb\"><img src=\"data:image/png;base64,iVBORw0KGgoAAAANSUhEUgAAALgAAAAXBAMAAABKV5jPAAAAMFBMVEX////MzMxUVFRERES6uroi\n",
       "IiIQEBCYmJhmZmYyMjLu7u52dnaqqqqIiIjc3NwAAACW8nlqAAAAAXRSTlMAQObYZgAAAAlwSFlz\n",
       "AAAOxAAADsQBlSsOGwAAAihJREFUSMe1lT1I61AUx08S08Y0/QDRTdDFx6NPKNSPSREHQUR0iYjI\n",
       "ew9U3mhHB8FsIg6Kg4qIFksHp1ahe8BJXCJughIEETdXy0M8TXLT3GtMhGAgac7/nv+vJ+fe3AB8\n",
       "16HBNx4562pGIJgh8KQeAT7JxPKf/AEklhcJ/MrHIw9MsxI39yGL29WSBUYT9FGACqlc3varqJWd\n",
       "jpON+sestA4HjMT/ThQgBlI+v5AfBIn675aCa6MFSNZZBWCqCCss/AKOQCSVx6gxxXBttNCEuwpA\n",
       "De1O4o2qWi3gn4znJvzSF16Dr8D3sX/2c4zfksrN7mTVhW/imcreG7Rz5+5XGDyVvf4PkOiy7t3W\n",
       "86YAfS58D88xU6hTTvm1WDFD4LYpbjWj1WzCOa1cJm/oPKL+gTRNOZU6xIxgeMOEYOWvBW9OqAmr\n",
       "ygCJcL1LLyBW8VZS1ZklVcUHRVu66hUI3JNim7iXhtyh4pFz4HyxxwOP5aAyQpWFtik9uHLH1GJV\n",
       "XvJWLneVSYRtqRiwRjtxmW8Vg+GOSbH6KXrh0CmQaAjzdPipUPOXzmBLQ+C2KW7vT+7yFDIYtZHo\n",
       "HAVDmZUoJ18QNAaeeKPhjkmqWtGhu280urlBonac+N6zh2t6KWTXmYXH97z+oFNsk2hP1kmf3UXu\n",
       "eAGvpwQuZvze0M8FRnl0fif6VZ8dMK75bVyfC4yyHrzfD0f5lqVyweOlKHAh5BuZMiLA7wNH3wFt\n",
       "4qcniO/OHAAAAABJRU5ErkJggg==\n",
       "\" style=\"display:inline;vertical-align:middle;\" /></a></span>"
      ],
      "text/plain": [
       "{a in Natural, b in Natural, d in Natural} |- (a + b + 1 + d) in NaturalPos"
      ]
     },
     "execution_count": 82,
     "metadata": {},
     "output_type": "execute_result"
    }
   ],
   "source": [
    "InSet(Add(a,b,one,d), NaturalPos).prove(assumptions=[InSet(a, Natural), InSet(b, Natural), InSet(c, Natural), InSet(d, Natural)])"
   ]
  },
  {
   "cell_type": "code",
   "execution_count": 83,
   "metadata": {},
   "outputs": [
    {
     "data": {
      "text/html": [
       "<span style=\"font-size:20px;\"><a class=\"ProveItLink\" href=\"../__pv_it/theorems/a259ec76dfb0a5be60b7c83d797520fa82c1dba60/expr.ipynb\"><img src=\"data:image/png;base64,iVBORw0KGgoAAAANSUhEUgAAADEAAAAQBAMAAABNQoq8AAAAMFBMVEX///+YmJjMzMzc3NyIiIhU\n",
       "VFR2dna6urqqqqpmZmYyMjIiIiIQEBBERETu7u4AAAD7tRWPAAAAAXRSTlMAQObYZgAAAAlwSFlz\n",
       "AAAOxAAADsQBlSsOGwAAANtJREFUGNNjYMAEz26vclZjYOC7swFNgiVGgG/+TSCDawKazJQyBgZG\n",
       "kAx/A6oE04R7QDISiOsfQIV8d+9eAKRYH1wAkg+BOBsqUeUHoXmZYcYvdYkAUczroHxTpgQIg+/X\n",
       "g/cGIIcYQGXU2AUgDI5/DDwOIBmYCyzZHSAMzgUM/CDtOruB4ALYHqhp3AkM9SB3v4Xp4QW7DeKd\n",
       "+SB3c8Nk2MH+YQfKKPAdBIeJAzwMSoHELKDHBHgh7l8BD7dbk/m6gWJ8YRMhAk+vwwLj2Z3fk1EC\n",
       "rOw2OHRgAAASXDjITT81JQAAAABJRU5ErkJggg==\n",
       "\" style=\"display:inline;vertical-align:middle;\" /></a> <a class=\"ProveItLink\" href=\"../__pv_it/demonstrations/306c88a73c1db9b5a5cf032eab4aadb745af9d550/proof.ipynb\" style=\"text-decoration: none\">&nbsp;&#x22A2;&nbsp;&nbsp;</a><a class=\"ProveItLink\" href=\"../__pv_it/demonstrations/ce414699ebcf5aa7595d8f1791cb9ebf6212d2430/expr.ipynb\"><img src=\"data:image/png;base64,iVBORw0KGgoAAAANSUhEUgAAAF8AAAAVBAMAAADSoS/MAAAAMFBMVEX////MzMxUVFRERES6uroi\n",
       "IiIQEBCYmJhmZmYyMjLu7u52dnaqqqqIiIjc3NwAAACW8nlqAAAAAXRSTlMAQObYZgAAAAlwSFlz\n",
       "AAAOxAAADsQBlSsOGwAAAVdJREFUOMt1k71Lw0AYh381tYlpbLO411mHTG6KWydpENw6dCi6ZnTM\n",
       "Ih0EDS6COAREcWsQHAtdRQr9B5QuzrqJHwXfuyuS97i7Idw9x/N+XO4AzGAeNr46tmzsWfgzUB+d\n",
       "ceZvxRQpgYHCz4Br3Gr5V1L6XOmxJfUSuDHqkULtxVZT1HmsC5LWAKeF4FuhyWKrk4utXBMkfSIx\n",
       "ReWXC4+yAr0JSU+BIQmfXLh42aSzaGmCpJfAe4HKnAn+Vz6cwc3E/ORAjP1/2lXCDxOopdoUQY8n\n",
       "ULRPJRWozlWsQxXLy9CkKB9cULQvmw5408sFOmNUtQyKUklOBJcfKx34eY4g5j0oug24PZGNCaF/\n",
       "RDzS/pukDzTr4i5kwlLi0C3wCi4oukaz+9E6+LFuDETNu9rlUzQss0l58Wa83W5aXrXLi4H5PexY\n",
       "3gkakZnf2ATH8kYbU4vwaqR/tUNgn0zxsqEAAAAASUVORK5CYII=\n",
       "\" style=\"display:inline;vertical-align:middle;\" /></a></span>"
      ],
      "text/plain": [
       "{b in Complex} |- (0 + b) = b"
      ]
     },
     "execution_count": 83,
     "metadata": {},
     "output_type": "execute_result"
    }
   ],
   "source": [
    "Add(zero, b).zero_eliminations(assumptions=[InSet(b,Complex)])"
   ]
  },
  {
   "cell_type": "code",
   "execution_count": 84,
   "metadata": {},
   "outputs": [
    {
     "data": {
      "text/html": [
       "<span style=\"font-size:20px;\"><a class=\"ProveItLink\" href=\"../../ordering/__pv_it/theorems/4aa8d696b1f407d6126de9f51a052e8d90e0848c0/expr.ipynb\"><img src=\"data:image/png;base64,iVBORw0KGgoAAAANSUhEUgAAADMAAAAQBAMAAABJt1qBAAAAMFBMVEX////MzMwyMjKqqqoiIiJm\n",
       "ZmaYmJju7u5EREQQEBC6urqIiIh2dnZUVFTc3NwAAAAqL9KcAAAAAXRSTlMAQObYZgAAAAlwSFlz\n",
       "AAAOxAAADsQBlSsOGwAAAM1JREFUGNNjYMAASTP6VWYkMGAFDW8Z1mYUYJd6w8DBeAGXFOsDBRSh\n",
       "HS4uCnCpBmSZRdsRunjLQQby3dm3ASTAp45koITRAyBj5QOO7yABpgdwqZcqX0AmsE9jYHUASyE5\n",
       "I60IRLN+YGA5AGJIugBBA0SKowzkZc4GhvoFIIEKJF2MAe1Aun4DQz5YgAXZX4EvQFIGDJeYQS7g\n",
       "3oAkVcENNJFjA7MrK1hEGS71lIEtoQvowtsH324Ei9R2FcBCvo+hQ98AOTjWtLgghxwApbZCEcpv\n",
       "FP8AAAAASUVORK5CYII=\n",
       "\" style=\"display:inline;vertical-align:middle;\" /></a>, <a class=\"ProveItLink\" href=\"../../ordering/__pv_it/theorems/6e5cad5b2984ed0d75bd47bd0c542ec447a4f3570/expr.ipynb\"><img src=\"data:image/png;base64,iVBORw0KGgoAAAANSUhEUgAAADEAAAAQBAMAAABNQoq8AAAAMFBMVEX///+YmJjMzMzc3NyIiIhU\n",
       "VFR2dna6urqqqqpmZmYyMjIiIiIQEBBERETu7u4AAAD7tRWPAAAAAXRSTlMAQObYZgAAAAlwSFlz\n",
       "AAAOxAAADsQBlSsOGwAAANZJREFUGNNjYEAHUmfvrz4rAGTw3dmAJnXBlKFU9gGQwTUBXcaMgZcp\n",
       "AMjgb8CU4TRYAGTUP4CK+O7evQAucwHIyIZKVPkh9LC+A5m21CUCxGdeh2SabpcB0G2/Hrw3ADnE\n",
       "AC5js/o3SD/HPwYeB5AMkgsEX4FozgUM/AlAWmc3EFyAyPA+BPmUO4GhHuTut0h6mCbcg3hnPsjd\n",
       "3Mj+mWQLklHgOwjiszggybxlARrHKsALCZ4VcBlLBkaB60BXh02ECDy9/gAW1pcZ7q5HDrOy25DQ\n",
       "gQIAY/lDzDbeA58AAAAASUVORK5CYII=\n",
       "\" style=\"display:inline;vertical-align:middle;\" /></a>, <a class=\"ProveItLink\" href=\"../__pv_it/demonstrations/d550e8309ef79ca46e4c9fb5617a392ea678789b0/expr.ipynb\"><img src=\"data:image/png;base64,iVBORw0KGgoAAAANSUhEUgAAADEAAAAQBAMAAABNQoq8AAAAMFBMVEX///9UVFQyMjK6urru7u4Q\n",
       "EBBERERmZmaqqqoiIiLc3NzMzMyYmJiIiIh2dnYAAABC1PP/AAAAAXRSTlMAQObYZgAAAAlwSFlz\n",
       "AAAOxAAADsQBlSsOGwAAAL1JREFUGNNjYEAHh8LyNcMOMGADCQsZDI85YJVZx8DGLYBDhn2BArLI\n",
       "tZkzFeAyCUgSRlcQehhdwKa9vbMBSHKpIJm2rWkBkLGygR2klWkBXGap5k+w/nkMrBdAMkguOOME\n",
       "otm/QPhbZwJBAkSGzQfkU1aoK9yQ9HAXpABp/wsQPieyf6qXAWl+oEYDIM17AUnGjRcoCnQYH8jV\n",
       "DBpwmeUMPAeSgYx3ZyBedEx2gIV1FkOafgNSINhlzkQOLQDcXDjPgdalcwAAAABJRU5ErkJggg==\n",
       "\" style=\"display:inline;vertical-align:middle;\" /></a>, <a class=\"ProveItLink\" href=\"../__pv_it/demonstrations/41c3ad9f29c40b69fd61c49f41684c1b813e9e850/expr.ipynb\"><img src=\"data:image/png;base64,iVBORw0KGgoAAAANSUhEUgAAADMAAAAQBAMAAABJt1qBAAAAMFBMVEX///+YmJhERESIiIhUVFTc\n",
       "3NwiIiJ2dnbu7u66urqqqqpmZmYQEBAyMjLMzMwAAAA7oY0NAAAAAXRSTlMAQObYZgAAAAlwSFlz\n",
       "AAAOxAAADsQBlSsOGwAAANxJREFUGNNjYMAAsof0rx0SgLD57mxAkVMIYZgi1ABh8y9AlQpnYOJz\n",
       "gLDnN6BLcQdcgLDLIJRRWtoFuJQCROw2mJxrgdDF0gEykNXd7hdIgPUGkoGP1gYAGXMCmH6ABHgD\n",
       "4FIx176BTOA4yMANtoEXyRmCvSCa+wMDWwGI8SYNCBQgUkyNIC/zKDD0TwAJNCHp4tugAaT7DRjk\n",
       "wQJsyP7aFwSSWsDgywVyAbMBklQTM9BEJgOubG6wyC24VDQDo4Am0IXOdSF2YJEWzQZYyKsyKN1H\n",
       "CdfpamkXkLgAdQoz5LsD3PAAAAAASUVORK5CYII=\n",
       "\" style=\"display:inline;vertical-align:middle;\" /></a> <a class=\"ProveItLink\" href=\"../__pv_it/demonstrations/3f1d092af4c84b5517175170edcba78c81c9df3e0/proof.ipynb\" style=\"text-decoration: none\">&nbsp;&#x22A2;&nbsp;&nbsp;</a><a class=\"ProveItLink\" href=\"../__pv_it/demonstrations/8dc0b831600ecfb8eb3b7369cad6f150145aeec20/expr.ipynb\"><img src=\"data:image/png;base64,iVBORw0KGgoAAAANSUhEUgAAAJYAAAAuBAMAAAA4tv3JAAAAMFBMVEX///8AAAAAAAAAAAAAAAAA\n",
       "AAAAAAAAAAAAAAAAAAAAAAAAAAAAAAAAAAAAAAAAAAAv3aB7AAAAD3RSTlMAInZUiRDNmWbv3US7\n",
       "qzJazP2FAAAACXBIWXMAAA7EAAAOxAGVKw4bAAACbElEQVRIx+2WMWgUQRSG/+Syt7nshdtaEljF\n",
       "QJrIGUTwGiUIAUG5VkjYa4I2whUSxCZXSQpBFMQkWgQMiCuBlLHKmUasDGcIlmdjYZPo5mwEyZvc\n",
       "xbw32YHhthKd4mbn35l/3755s98B8NF169HGvcXuvbxAji8kzHE+LFs4fX2GUbmskjQtW7UJK0a2\n",
       "zMdujY/WO33h6MW9mv5ax4LXQr94Zk7MHO/0G0fPy2gZ4UIfJeIpv3cx0esaLLxUIm7ze3fV1m6f\n",
       "DqTXnTOftKUTo00pDE/sUiKucy9l/NbPt4SX87Mc+mLpqaJbF4L3GB8pEQ/U9f1ItVW8pJULcJeF\n",
       "V6aFXCCWrujCzRpmqbvE43pOW7mHgStt+0VlT0oFBVLcKHq9FEVbdNWO+1jAnPIHdjWvXB3hmoiL\n",
       "rDeKPIxcXc/9Czi/VHq4F71jGOCR3Ecqr7kyXxoGmpfzA/171Jd4vjZpYhE7GV94NSmHfGmBKnRN\n",
       "eMUYrJwHHvK4aFPzQeaVK+IarOWrwos2sU/WxCZK1Wq7pP60b/SMxo3hc7Imtu9p6bk6PyKF6bNf\n",
       "GuT+hnsNNJPqHjZ1r6pcfE/k6VyH+SgnCfLLgHdI0YbkcCqNlxZIT9C9Va+P/y1N+4tYa0KrqMsl\n",
       "+rFhrQGtot1SKLJgrQGtQolPnOZk1prQykF0aG3BWhNamdK2tmCtCa1MyTbGrFhrRCtTwhnne4e1\n",
       "jEMnWWtEK1Mul/HEirUmtDKFrPdtWGtEq/hX4MU2rDWilXnFh9GXuFcya01oZV6/VQ4tWGtEK1M+\n",
       "4z1sWGtEK1cm1WFKxVqppGOtVP451h4A+FrOhO20ETQAAAAASUVORK5CYII=\n",
       "\" style=\"display:inline;vertical-align:middle;\" /></a></span>"
      ],
      "text/plain": [
       "{a in Real, b in Real, c in Real, d in Real} |- (a + b + c + d) =  \\\\ (a + c + d + b)"
      ]
     },
     "execution_count": 84,
     "metadata": {},
     "output_type": "execute_result"
    }
   ],
   "source": [
    "Add(a,b,c,d).commutation(1,3, assumptions=[InSet(a,Real), InSet(b,Real), InSet(c, Real), InSet(d,Real)])"
   ]
  },
  {
   "cell_type": "code",
   "execution_count": 85,
   "metadata": {},
   "outputs": [
    {
     "data": {
      "text/html": [
       "<span style=\"font-size:20px;\"> <a class=\"ProveItLink\" href=\"../__pv_it/demonstrations/40ac62ed41998ab56c13f9b7504c94387f5803390/proof.ipynb\" style=\"text-decoration: none\">&nbsp;&#x22A2;&nbsp;&nbsp;</a><a class=\"ProveItLink\" href=\"../__pv_it/demonstrations/1a261800a9827484c067b9ffa8df29409ab24d430/expr.ipynb\"><img src=\"data:image/png;base64,iVBORw0KGgoAAAANSUhEUgAAAQQAAAAuBAMAAAA8ZnrdAAAAMFBMVEX////MzMxUVFRERES6uroi\n",
       "IiIQEBCYmJhmZmYyMjLu7u52dnaqqqqIiIjc3NwAAACW8nlqAAAAAXRSTlMAQObYZgAAAAlwSFlz\n",
       "AAAOxAAADsQBlSsOGwAAA2FJREFUWMPtl01oE0EUx1+SzUeTbJpLUOjBWlALIkZsBQ8twUu9BEIg\n",
       "KtpD0FZQCg2eehGLok3pwVCUQi8Ge9c1p4KHei2lJHgSD5pLsSBKxQ9IKMbZbLbd93Yn2Z1KTh3Y\n",
       "hPnnvZn/vpmd7A8AqtDtRmeU3/2vkV0Ar2wFJkl/g12xIhG3588R5evqkGmoo7jrqz2/TiJCb99Q\n",
       "nyxEziEpWIDg4AtiIRKHtQQOm4WyqVxp3PVO36DjPIMTWHk5X2efy0gLqI4+66lj2pe7Cr4sUuRd\n",
       "eF1ACtPSJGtvUKl1mz0VOI8VkFULM7h6YLSw2RLr4P6LFGkCegtIATiyiLP2LYQr2ne5SBXNgg9V\n",
       "a93KgjsF7h9kQijniKJ0tHABrC30oM2wYGVBXdgdokhXSYxcpRbul6J4wjt9HxJWFkL9RgtLHAvH\n",
       "KlhxvT9OYr4AseApRn7hCWs5mLKy4G+u6eOM2tIwzrGQNin6E6ErCrXA2jCaMNgAeFK0sBDOGqsw\n",
       "sW+Bubqtumo+KHGqqHvUqPirmgUU85QdfIFM5spkJsNqHfwN8CBhVFoWXDscC8b7uQdYcUXBs4uU\n",
       "b0CrcJFZiOKFYBZyFlWQUBWsFyKswHek9NaphUsDA39OI2US4Cxe+WGtCuaFSBn3woilhT6Aj/ik\n",
       "6NcWAq38TZylANwi5wLbC5bbMW6sQkn9WKviwSLX8vkUUvw587kAP3HWNsh38YQeJUifiJB65AUU\n",
       "o4UYuwamF/Hw3kajQc7Cy/khul8eNc5g4/nBIplw9SE5Kdwna6fY+OgPyBs19jZN/4ZCyp4FjrKF\n",
       "fvPPGntjpuGFFCnXXpnDP452/aVJfRdAbaX7FjzkzS1S6bqFT3DYDptNsDh4ZtVhvjjKWGU2cSZp\n",
       "c4DkgVFmg4czsulwbIs04igTLHBxZhmcII04yjQzrXFmxhHSiKOMj48zvqITpBFHmXU+zuioYg9p\n",
       "xFFmgY8zOqrYQxpxlFni44y/4ARpxFFmnI8zOqrYQxphlFEzeTjTRBXbSCOMMmomD2ekLDhAGmGU\n",
       "UTN5OBNOOUEacZQZ4eOMjir2kEYcZUp8nNFRxR7SiKNMjI8z3oQTpBFHmTaZW46QRhxl2mTOOUMa\n",
       "cZQZtYsqneLEUWbFLqp0ihNHGW6mXVTR4v4B9aLIkb4OeaoAAAAASUVORK5CYII=\n",
       "\" style=\"display:inline;vertical-align:middle;\" /></a></span>"
      ],
      "text/plain": [
       "|- (1 + 2 + 3 + 4 + 5 + 6 + 1) =  \\\\ (1 + 2 + 3 + (4 + 5) + 6 + 1)"
      ]
     },
     "execution_count": 85,
     "metadata": {},
     "output_type": "execute_result"
    }
   ],
   "source": [
    "Add(one, two, three, four, five, six, one).association(3, length=2, assumptions = [], auto_simplify=False)\n",
    "#Equals(subtract(two, one),one), Equals(subtract(one, one), zero), Equals(subtract(three, one), two), Less(zero,Less(one, Less(two, three)))"
   ]
  },
  {
   "cell_type": "code",
   "execution_count": 86,
   "metadata": {},
   "outputs": [
    {
     "data": {
      "text/html": [
       "<a class=\"ProveItLink\" href=\"../__pv_it/demonstrations/9633bd47681fd34d000c170ab4a695e6e4932de80/expr.ipynb\"><img src=\"data:image/png;base64,iVBORw0KGgoAAAANSUhEUgAAAKkAAAAVBAMAAADP89MSAAAAMFBMVEX////MzMxUVFRERES6uroi\n",
       "IiIQEBCYmJhmZmYyMjLu7u52dnaqqqqIiIjc3NwAAACW8nlqAAAAAXRSTlMAQObYZgAAAAlwSFlz\n",
       "AAAOxAAADsQBlSsOGwAAAddJREFUOMtjYGB4wEA+wKmX9wAFpvrikjgNxKIL0ARfdBqiCvDtbnZA\n",
       "U8MYBXRSAbpxEIVcExi4NOajmcpnwLAf1ZAVDDx/UNUs6vwFJGehmwpRyAGy7T7MVHcIxfSAgS0B\n",
       "ReT+Aa6fEBYLzHm8IFMr0E2FKGRjQDb1LIRi+8XA9A9FxM2BAWoqzwVkU9nAOlciAgKi8CQ2U5kC\n",
       "GJg+oogATfuOzVROsHlcWy8gXAtS2I3NVCBg/YAm4lqAzVRuBQjn6i4GZIXTcZgqfwFVRFZJAJup\n",
       "7BOgvNIuZIUxOEwNQheBpQFUU3kSYPIn+5AUpiBMbQ0NTQsNhRjHYYAuwpAPVMQRGhqWGhqqADeV\n",
       "8QPcHZ5aDHCFKdjdWsSAKiLIwGB/AItbWRIQplohFGIPAZ4NDO9QRP4vwG4qTwA8BPSQFNpiNVWa\n",
       "geEWikgSJAQwY8sAFlt9yAo3gZj7H6CayhfR0RGAIlKOmV65QfmEYwNayoIoFAWylPInFaCYwfr/\n",
       "//8JKCIsHbDSBWYqk9pPdaBKsCjXVXgugChkFUDOxWcxijQMEZ4LyLynYHIpetHF3oDMc8cwFUOE\n",
       "BcWEdhzlqx0FhTaoyMQOFlNiKjOuKobvAgWm3sMuDACEB6RheaB20AAAAABJRU5ErkJggg==\n",
       "\" style=\"display:inline;vertical-align:middle;\" /></a>"
      ],
      "text/plain": [
       "(1 + 2 + 3 + 1) > 3"
      ]
     },
     "execution_count": 86,
     "metadata": {},
     "output_type": "execute_result"
    }
   ],
   "source": [
    "greater(Add(one, two, three, one), three)"
   ]
  },
  {
   "cell_type": "code",
   "execution_count": 87,
   "metadata": {},
   "outputs": [
    {
     "data": {
      "text/html": [
       "<span style=\"font-size:20px;\"><a class=\"ProveItLink\" href=\"../__pv_it/demonstrations/461319c14ad605ae443f7641bdd5329eb9aaaa9e0/expr.ipynb\"><img src=\"data:image/png;base64,iVBORw0KGgoAAAANSUhEUgAAADMAAAAQBAMAAABJt1qBAAAAMFBMVEX///9UVFTMzMwiIiKYmJgQ\n",
       "EBAyMjKIiIiqqqru7u66urpERERmZmZ2dnbc3NwAAABametFAAAAAXRSTlMAQObYZgAAAAlwSFlz\n",
       "AAAOxAAADsQBlSsOGwAAANdJREFUGNNjYMAAbtH7k6MdQKy3d3ahyW14yLDQewIDA+cBhv4GNKm3\n",
       "DNxMAgwM7D8Y5idgSPE8AIpxRTHwQ6TYNxubIaQ2gJn9YDu50icgdDHOFACLmYAFnk1AMlC77QGQ\n",
       "wVQoBBbIQ9j1NPlzJYQJcWECkjNcpkGZrD9BmoONjY2toVLcU0DWMykwcP8A0pwbkHQxHdgJpPl/\n",
       "QqQYDJD9deg1yDQBiIEM5chSs9mBJrI4QP3FBg+uDW+AoqCAXXMGEryc0ivhIb+PYXc+csBy3YYG\n",
       "FBQAAG2vRjxIJgfAAAAAAElFTkSuQmCC\n",
       "\" style=\"display:inline;vertical-align:middle;\" /></a>, <a class=\"ProveItLink\" href=\"../__pv_it/demonstrations/dd26aa67cb4e8893fb7a9529c3b6d0d2087b1b3d0/expr.ipynb\"><img src=\"data:image/png;base64,iVBORw0KGgoAAAANSUhEUgAAAD4AAAATBAMAAAA63aOfAAAAMFBMVEX///+qqqq6urpERESYmJgQ\n",
       "EBDc3Nx2dnaIiIgyMjJmZmZUVFTu7u4iIiLMzMwAAAAz/ewvAAAAAXRSTlMAQObYZgAAAAlwSFlz\n",
       "AAAOxAAADsQBlSsOGwAAAMNJREFUKM9jYMADFjDgBwbkyLNMNf551QQhz3cHTQEz2wamLTYw+dMr\n",
       "/2DIFzAYvGbgMjYONgaaw4FNfhkn3Hy4PIft3ZtweWYMeaYZBxD695zGkM88gDCfz3Aahvw0hP2R\n",
       "928cgIcfTH4CQr7EZwLCuVB5vti7d+9ehppv44Ihz2OA5L9XzAfQ5RkuIMlzPTPAkO9AkucxaIHL\n",
       "s3+D0JwCcPkFDC7MClAe99afWyAO2KwDi7/PCcyWHzEilqkYEr4oAAC1DD03LVaigQAAAABJRU5E\n",
       "rkJggg==\n",
       "\" style=\"display:inline;vertical-align:middle;\" /></a>, <a class=\"ProveItLink\" href=\"../__pv_it/demonstrations/9bbb96d1e015674e4da1c462903db3e95a69bb7f0/expr.ipynb\"><img src=\"data:image/png;base64,iVBORw0KGgoAAAANSUhEUgAAAD4AAAATBAMAAAA63aOfAAAAMFBMVEX///+qqqqYmJiIiIgiIiLu\n",
       "7u4QEBBUVFS6urp2dnbMzMxEREQyMjJmZmbc3NwAAADzFso2AAAAAXRSTlMAQObYZgAAAAlwSFlz\n",
       "AAAOxAAADsQBlSsOGwAAAOtJREFUKM9jYMADLjDgBxvIkWc6tvuP2ya4PN/d0wtQFXDzFXAUbYXJ\n",
       "v2bg/IEuP4Fhw3IG3t27s3dvYqhjYEjDlL/HA9OfH8BQ/wAszrzFxQcuzw2TL2FgqAc7gONwAEJ/\n",
       "aTiS+/3B5JsAhPlcG88h5Lk+g6lzCPtz/J0DEOHHUgCmDiDkJ6keQHLvbYgpKS4uLt5Q87cqIYUX\n",
       "RDvrBiT/reUOgMtLMvCB/eeAJM+7Dq6aawIDM1ixMZI86wYjGO/J3btXwAweAbj8BQYl7gYoz///\n",
       "/z8QB1S3wuLv9wPuPR8xIpZjNiR8UQAA005Hr7zxR/oAAAAASUVORK5CYII=\n",
       "\" style=\"display:inline;vertical-align:middle;\" /></a> <a class=\"ProveItLink\" href=\"../__pv_it/demonstrations/19d8561688cb241d4536765d841c3e41d12a9f790/proof.ipynb\" style=\"text-decoration: none\">&nbsp;&#x22A2;&nbsp;&nbsp;</a><a class=\"ProveItLink\" href=\"../__pv_it/demonstrations/9633bd47681fd34d000c170ab4a695e6e4932de80/expr.ipynb\"><img src=\"data:image/png;base64,iVBORw0KGgoAAAANSUhEUgAAAKkAAAAVBAMAAADP89MSAAAAMFBMVEX////MzMxUVFRERES6uroi\n",
       "IiIQEBCYmJhmZmYyMjLu7u52dnaqqqqIiIjc3NwAAACW8nlqAAAAAXRSTlMAQObYZgAAAAlwSFlz\n",
       "AAAOxAAADsQBlSsOGwAAAddJREFUOMtjYGB4wEA+wKmX9wAFpvrikjgNxKIL0ARfdBqiCvDtbnZA\n",
       "U8MYBXRSAbpxEIVcExi4NOajmcpnwLAf1ZAVDDx/UNUs6vwFJGehmwpRyAGy7T7MVHcIxfSAgS0B\n",
       "ReT+Aa6fEBYLzHm8IFMr0E2FKGRjQDb1LIRi+8XA9A9FxM2BAWoqzwVkU9nAOlciAgKi8CQ2U5kC\n",
       "GJg+oogATfuOzVROsHlcWy8gXAtS2I3NVCBg/YAm4lqAzVRuBQjn6i4GZIXTcZgqfwFVRFZJAJup\n",
       "7BOgvNIuZIUxOEwNQheBpQFUU3kSYPIn+5AUpiBMbQ0NTQsNhRjHYYAuwpAPVMQRGhqWGhqqADeV\n",
       "8QPcHZ5aDHCFKdjdWsSAKiLIwGB/AItbWRIQplohFGIPAZ4NDO9QRP4vwG4qTwA8BPSQFNpiNVWa\n",
       "geEWikgSJAQwY8sAFlt9yAo3gZj7H6CayhfR0RGAIlKOmV65QfmEYwNayoIoFAWylPInFaCYwfr/\n",
       "//8JKCIsHbDSBWYqk9pPdaBKsCjXVXgugChkFUDOxWcxijQMEZ4LyLynYHIpetHF3oDMc8cwFUOE\n",
       "BcWEdhzlqx0FhTaoyMQOFlNiKjOuKobvAgWm3sMuDACEB6RheaB20AAAAABJRU5ErkJggg==\n",
       "\" style=\"display:inline;vertical-align:middle;\" /></a></span>"
      ],
      "text/plain": [
       "{3 in Real, 1 in RealPos, 2 in RealPos} |- (1 + 2 + 3 + 1) > 3"
      ]
     },
     "execution_count": 87,
     "metadata": {},
     "output_type": "execute_result"
    }
   ],
   "source": [
    "greater(Add(one, two, three, one), three).prove(\n",
    "    assumptions=[InSet(two, RealPos), InSet(three, Real), InSet(one, RealPos)])"
   ]
  },
  {
   "cell_type": "code",
   "execution_count": 88,
   "metadata": {},
   "outputs": [
    {
     "data": {
      "text/html": [
       "<span style=\"font-size:20px;\"><a class=\"ProveItLink\" href=\"../__pv_it/demonstrations/879f99c300f9269857d5c4cb0626278f8c71a27f0/expr.ipynb\"><img src=\"data:image/png;base64,iVBORw0KGgoAAAANSUhEUgAAAF0AAAAVBAMAAADWVP/xAAAAMFBMVEX////MzMxUVFRERES6uroi\n",
       "IiIQEBCYmJhmZmYyMjLu7u52dnaqqqqIiIjc3NwAAACW8nlqAAAAAXRSTlMAQObYZgAAAAlwSFlz\n",
       "AAAOxAAADsQBlSsOGwAAATtJREFUKM9jYGB4wIAM+BgIAN4DKFyWC2jylcn2U5MLEPzTSHKiCxgY\n",
       "rqMbaPCIwal4AYzHNQEuwaUxHyjMuQBd/WsGZkYFBmFjIHjAwIFkFcN9oFr2Bkz1HA/gprIxoKln\n",
       "yIJyLoeGToCrN4ApOYmhfjqE7XkLYT7TKgWYkm4M9Zsg4ToLyT3CJ+GBPh1DfSWYyQlXYfBs6tdb\n",
       "cCUxGOqPQdQj+bd8JUJJCjAcp4aCgABUvTxYXAwkZABRz7y8AFk9mvluYOZiJPMZG6zwuOcomMmK\n",
       "HP6Nj+E8Wwz1xZBkdQFJ/WJeuIM2Iavf/wARwnPg6l8wsBeYwJMYknKl/ElAc0IgnEUmC2Dp047B\n",
       "eD4sFbMKoCUXvgAow9s0dAJm8sdIXigJEAuwQ+M/JpC/FhPQjw74UDMg7wO8qgEw7Vww0ABk6QAA\n",
       "AABJRU5ErkJggg==\n",
       "\" style=\"display:inline;vertical-align:middle;\" /></a>, <a class=\"ProveItLink\" href=\"../__pv_it/demonstrations/848d97b53c207de8b25fe65dfea204e4b39adb320/expr.ipynb\"><img src=\"data:image/png;base64,iVBORw0KGgoAAAANSUhEUgAAAF0AAAAVBAMAAADWVP/xAAAAMFBMVEX////MzMxUVFRERES6uroi\n",
       "IiIQEBCYmJhmZmYyMjLu7u52dnaqqqqIiIjc3NwAAACW8nlqAAAAAXRSTlMAQObYZgAAAAlwSFlz\n",
       "AAAOxAAADsQBlSsOGwAAAWhJREFUKM9jYGB4wIAM+BgIAN4DKFyWC2jylcn2U5MLEPzTCOaLTkMG\n",
       "huvoBho8YnAqXgDjcU1AOMWAYb8DA+cCdPWvGZgZFRiEjYHgAQMHwiqmBwxsCQzsDZjqOR7ATWVD\n",
       "SLD9YmD6x8CQBeVeDg2dAFdvAFN0EqGeKYCB6SMDw3QIz/MWwnymVQowRd0odrN+YGDYBPHMLCT3\n",
       "CJ+EB/p0FPXywNCsBLM44SoMnk39eguuIgZFfRAQH4OoR/Jv+UqEihRgkE4NBQEBBgYOkLfkweJi\n",
       "ICEDiHrm5QXI6hGgCES4gZmLkcxnbLDC6h6eDQzvGBiOQnyOHP6Nj+E8WyT10gwMQI8VQ5LVBST1\n",
       "i3nhDtqElDQjOjoC4CE8B67+BQN7gQmMJ4oU+P///wfGaAiEt8hkASx92jEYz4elYlYBtOTCFwBl\n",
       "eJuGTsBM/hjJCykBYgV2aPzHBPLXYgL60QEfagbkfYBXNQD6Ulolr1bUSAAAAABJRU5ErkJggg==\n",
       "\" style=\"display:inline;vertical-align:middle;\" /></a>, <a class=\"ProveItLink\" href=\"../__pv_it/demonstrations/461319c14ad605ae443f7641bdd5329eb9aaaa9e0/expr.ipynb\"><img src=\"data:image/png;base64,iVBORw0KGgoAAAANSUhEUgAAADMAAAAQBAMAAABJt1qBAAAAMFBMVEX///9UVFTMzMwiIiKYmJgQ\n",
       "EBAyMjKIiIiqqqru7u66urpERERmZmZ2dnbc3NwAAABametFAAAAAXRSTlMAQObYZgAAAAlwSFlz\n",
       "AAAOxAAADsQBlSsOGwAAANdJREFUGNNjYMAAbtH7k6MdQKy3d3ahyW14yLDQewIDA+cBhv4GNKm3\n",
       "DNxMAgwM7D8Y5idgSPE8AIpxRTHwQ6TYNxubIaQ2gJn9YDu50icgdDHOFACLmYAFnk1AMlC77QGQ\n",
       "wVQoBBbIQ9j1NPlzJYQJcWECkjNcpkGZrD9BmoONjY2toVLcU0DWMykwcP8A0pwbkHQxHdgJpPl/\n",
       "QqQYDJD9deg1yDQBiIEM5chSs9mBJrI4QP3FBg+uDW+AoqCAXXMGEryc0ivhIb+PYXc+csBy3YYG\n",
       "FBQAAG2vRjxIJgfAAAAAAElFTkSuQmCC\n",
       "\" style=\"display:inline;vertical-align:middle;\" /></a> <a class=\"ProveItLink\" href=\"../__pv_it/demonstrations/d4b8ba4cd08e3f2482de9d445b161d3a5b4ecd550/proof.ipynb\" style=\"text-decoration: none\">&nbsp;&#x22A2;&nbsp;&nbsp;</a><a class=\"ProveItLink\" href=\"../__pv_it/demonstrations/38da9b42a70c8c016ef1a444db36ee519416b4800/expr.ipynb\"><img src=\"data:image/png;base64,iVBORw0KGgoAAAANSUhEUgAAALkAAAAVBAMAAADoXVL6AAAAMFBMVEX////MzMxUVFRERES6uroi\n",
       "IiIQEBCYmJhmZmYyMjLu7u52dnaqqqqIiIjc3NwAAACW8nlqAAAAAXRSTlMAQObYZgAAAAlwSFlz\n",
       "AAAOxAAADsQBlSsOGwAAAcVJREFUOMtjYGB4wEA5wGkG7wEqmO6LS+I0Elt0AZrki05DVAG+3c0O\n",
       "aGoYo4BOLEA3FqKQawJcgEtjPprpfAYM+1ENW8HA8wdVzaLOX0ByFrrpEIUcyLbeRzOd6QEDWwKE\n",
       "6Q5VcYDrJ3rQgkyvQDcdopCNAY/pbL8YmP5BmGchlJsDA1bT2RA6eeYhFJ7EZzpTAAPTRxTTgZq/\n",
       "YzOdEx4E7BELEAq78ZkOBKwf0Ex3LcBmOrcCjBe9AEnhdAKmy19ANV1WSQCb6ezQxLE6lgFZYQwB\n",
       "04MY0EPmDzbTeSCR/yIcIQ5SmAJMiVNDQUAAZvpKMDcQrITDAES2hoamhYZCLcpfgKwFajojOACZ\n",
       "5iBbC1SYgt/tRQyobhdkYLA/gMXtLAlopkMU4g8Zng0M71BM/78Au+k8AWghA1Foi9d0aQaGWyim\n",
       "J0FCBjNWDdBiFaJwE7LC/WhlHV9ER0cAiunlmOmdG5TfODZAeWtjFyApFEVSp5Q/CTUxs/7//38C\n",
       "iuksHeilGJPaT3WgSrgoOyTBQxSyChBXxp7FL/0UwWSfh8RuIM50d/zS7TjE7ahQeYCKauxgMTVM\n",
       "Z8ZV9fFdoILp97ALAwBqMZEv9uZoXwAAAABJRU5ErkJggg==\n",
       "\" style=\"display:inline;vertical-align:middle;\" /></a></span>"
      ],
      "text/plain": [
       "{(-1) in RealNeg, (-2) in RealNeg, 3 in Real} |- (-1 - 2 + 3 - 1) < 3"
      ]
     },
     "execution_count": 88,
     "metadata": {},
     "output_type": "execute_result"
    }
   ],
   "source": [
    "Less(Add(Neg(one), Neg(two), three, Neg(one)), three).prove(\n",
    "    assumptions=[InSet(two, RealNeg), InSet(three, Real), InSet(one, RealNeg),\n",
    "                 InSet(Neg(one), RealNeg), InSet(Neg(two), RealNeg)])"
   ]
  },
  {
   "cell_type": "code",
   "execution_count": 89,
   "metadata": {},
   "outputs": [
    {
     "data": {
      "text/html": [
       "<span style=\"font-size:20px;\"><a class=\"ProveItLink\" href=\"../../negation/__pv_it/theorems/6bf1a18c2e3498be826f1c5ef7caab578b7ee8c80/expr.ipynb\"><img src=\"data:image/png;base64,iVBORw0KGgoAAAANSUhEUgAAADQAAAAQBAMAAACra0H4AAAAMFBMVEX///9ERES6uroQEBAyMjLc\n",
       "3NyYmJgiIiJmZmaqqqp2dnbMzMxUVFSIiIju7u4AAAAd7oVFAAAAAXRSTlMAQObYZgAAAAlwSFlz\n",
       "AAAOxAAADsQBlSsOGwAAANJJREFUGNNjYMAC+BaW+EYvwCbDcMeM4cXHBmwyHJeAOhKxSu1gfMDA\n",
       "wIMidbG83AFEn2ME2ZeAJKNyD8oQiIAy3t55vWoCkGb1gwqwHtgFZTXwnuUoANIsAVAB7gVqEAZb\n",
       "ANs/HpC5LDCDWRt0oWoYOMB2M2wuBwIBsF1RMFXMF8DUQ7h75BhhLP0APqA/GNjhUhogfzEoMDxU\n",
       "OMzABRLgvYAIjQMMIGvm72tm0ASLeCL87hHwsoKB4cVdzrYJYIE3Qg/gIW9fEYASdlrikICCAgDf\n",
       "OzMVc9WQZAAAAABJRU5ErkJggg==\n",
       "\" style=\"display:inline;vertical-align:middle;\" /></a> <a class=\"ProveItLink\" href=\"../__pv_it/demonstrations/857456ad02a3c252aad46769b00f69f0be5bf7890/proof.ipynb\" style=\"text-decoration: none\">&nbsp;&#x22A2;&nbsp;&nbsp;</a><a class=\"ProveItLink\" href=\"../__pv_it/demonstrations/ca49ba9a2301752cd854eee2e0227e9de2c3b6a50/expr.ipynb\"><img src=\"data:image/png;base64,iVBORw0KGgoAAAANSUhEUgAAAGUAAAAVBAMAAACtcD09AAAAMFBMVEX////MzMxUVFRERES6uroi\n",
       "IiIQEBCYmJhmZmYyMjLu7u52dnaqqqqIiIjc3NwAAACW8nlqAAAAAXRSTlMAQObYZgAAAAlwSFlz\n",
       "AAAOxAAADsQBlSsOGwAAAWBJREFUOMt9kzFLw1AUhU9rbNLXJGRx0UEnBUEo6qr0ByhWwU0kgquQ\n",
       "RXEQ7VKLFMFNcIp0qYIQdKxDRsWhIZNLJYu7bqIg3hen99KXN4TLuflyzz1JACRQHWXHCpXMqqrx\n",
       "okRgeRmp90rD2YWawZUslEO2DRheDnMoC/vAA1DKQVDyJWEe6Pt4zmPKsokvYDJEm6q7+LonpscG\n",
       "sxOPQGVKRBhnPFxS2bDmjLrQNBBHTUBPA2pu8rNBlf1DTIQt6iT6d1F0cYwTfwYwXXFOygTYBQow\n",
       "/gO/SR+4TpWDMy4UPiRvxKxFnKF8osz6e/yiudkM+iH3RmzCpFS1X9ySt7q4DxZAprEEdGrTqIge\n",
       "FosuAtq0Ks05ADd9T9PGT7EitMzPrqtR+kYgMaMh2wHGgO7AbEmv5zx6OuK31CSGtWOHZCfnO3gf\n",
       "LuuNHKal0JfViF1VNDpqZkT1c9uRknkbLv8BcXhT5kS+EjgAAAAASUVORK5CYII=\n",
       "\" style=\"display:inline;vertical-align:middle;\" /></a></span>"
      ],
      "text/plain": [
       "{x in Complex} |- (x - x) = 0"
      ]
     },
     "execution_count": 89,
     "metadata": {},
     "output_type": "execute_result"
    }
   ],
   "source": [
    "subtract(x,x).evaluation(assumptions=[InSet(x, Complex)])"
   ]
  },
  {
   "cell_type": "code",
   "execution_count": 90,
   "metadata": {},
   "outputs": [
    {
     "data": {
      "text/html": [
       "<span style=\"font-size:20px;\"> <a class=\"ProveItLink\" href=\"../__pv_it/demonstrations/34f45de9b1ac7f559eb16d906cf33a5f352277d50/proof.ipynb\" style=\"text-decoration: none\">&nbsp;&#x22A2;&nbsp;&nbsp;</a><a class=\"ProveItLink\" href=\"../__pv_it/demonstrations/5a8110d4ec8f7a3c2d9e62f6fd4ff77d76d341ee0/expr.ipynb\"><img src=\"data:image/png;base64,iVBORw0KGgoAAAANSUhEUgAAAGEAAAAVBAMAAACkm51HAAAAMFBMVEX////MzMxUVFRERES6uroi\n",
       "IiIQEBCYmJhmZmYyMjLu7u52dnaqqqqIiIjc3NwAAACW8nlqAAAAAXRSTlMAQObYZgAAAAlwSFlz\n",
       "AAAOxAAADsQBlSsOGwAAASFJREFUOMtjYGB4wIAd4BJn4D2AQ8IXl47TQCy6AE2QMQpoVAGG2t03\n",
       "gBZzTWDg0piPpmNR5y8gOQtdA+cBrjgGBg6QSffR7eAF6ahA11HKwLCZgYGNAacONnRRIwaG8wsY\n",
       "TuLWwYnukR8MDPIHGLpx6+BWQBXkAukoYJiOWwf7BBCTIxQMgLr5fgN1XGCIwa2DJwFVEKxjA0MK\n",
       "QsdKsGGBcB2MH9BcBdThfwFZB7odLAmYPj9/AK+rAlD9wWDMwFC/gMEWj88N0ETLGBg6GRg2gZj7\n",
       "0dMp9z+Q6RvQRFkPcCUCEyGQpZQ/CTWymNR+qgMVOKDp4Oq+JAAUFsCVqBmeYhdmb8Cpox2HuB0u\n",
       "DXwGOCQW49LBjCvb8l3AIXEPuzAAlR1XUMHljkgAAAAASUVORK5CYII=\n",
       "\" style=\"display:inline;vertical-align:middle;\" /></a></span>"
      ],
      "text/plain": [
       "|- (1 - 1) = 0"
      ]
     },
     "execution_count": 90,
     "metadata": {},
     "output_type": "execute_result"
    }
   ],
   "source": [
    "subtract(one,one).evaluation()"
   ]
  },
  {
   "cell_type": "code",
   "execution_count": 91,
   "metadata": {},
   "outputs": [
    {
     "data": {
      "text/html": [
       "<span style=\"font-size:20px;\"> <a class=\"ProveItLink\" href=\"../__pv_it/demonstrations/7bedd5084db1197760a530ca57c822a46d05b82c0/proof.ipynb\" style=\"text-decoration: none\">&nbsp;&#x22A2;&nbsp;&nbsp;</a><a class=\"ProveItLink\" href=\"../__pv_it/demonstrations/78af53a9c05d89d2d5bc37a5e8872e74422cb8570/expr.ipynb\"><img src=\"data:image/png;base64,iVBORw0KGgoAAAANSUhEUgAAAFEAAAAVBAMAAADMaB9/AAAAMFBMVEX////MzMxUVFRERES6uroi\n",
       "IiIQEBCYmJhmZmYyMjLu7u52dnaqqqqIiIjc3NwAAACW8nlqAAAAAXRSTlMAQObYZgAAAAlwSFlz\n",
       "AAAOxAAADsQBlSsOGwAAATJJREFUKM9jYGB4wIAM+BhwAt4DKFyWC2jylcn2U5MLQKzTSKKiCxgY\n",
       "rqMbZfCIwakYKME1AS7EpTEfKMC5AF3lawZmRgUGBo4CJMH7QFXsDZgqOR4AzWNjQFPJkAXlXA4N\n",
       "nQBXacDAcBJD5XQI2/MWwkymVUDbuzFUboKE1iwk24VPPoCbgKSyEszkhAezwbOpX0Hmx2CoPAZR\n",
       "ieSj8pUgOgUYOlNDQUAAqlIeLC8GEjKAqGReXgBRiWamG5i5GMlMxgYrrLYfBTNZkcOz8TGQtsVQ\n",
       "WQxJDheQVC7mLYCFCRTsB3kYGm5z4CpfMLAXmAATBZJCpfxJQL0hEM4ikwWwtGTHYDz/AAOrAFo0\n",
       "8wVAGd6moROQJTASBEqSQQF2aPzHONP8YgI6kdyFmh14H+BQBwD7o1pxbUJ9FwAAAABJRU5ErkJg\n",
       "gg==\n",
       "\" style=\"display:inline;vertical-align:middle;\" /></a></span>"
      ],
      "text/plain": [
       "|- (-1) in Real"
      ]
     },
     "execution_count": 91,
     "metadata": {},
     "output_type": "execute_result"
    }
   ],
   "source": [
    "InSet(Neg(one), Real).prove()"
   ]
  },
  {
   "cell_type": "code",
   "execution_count": 92,
   "metadata": {},
   "outputs": [
    {
     "data": {
      "text/html": [
       "<span style=\"font-size:20px;\"><a class=\"ProveItLink\" href=\"../../ordering/__pv_it/theorems/6e5cad5b2984ed0d75bd47bd0c542ec447a4f3570/expr.ipynb\"><img src=\"data:image/png;base64,iVBORw0KGgoAAAANSUhEUgAAADEAAAAQBAMAAABNQoq8AAAAMFBMVEX///+YmJjMzMzc3NyIiIhU\n",
       "VFR2dna6urqqqqpmZmYyMjIiIiIQEBBERETu7u4AAAD7tRWPAAAAAXRSTlMAQObYZgAAAAlwSFlz\n",
       "AAAOxAAADsQBlSsOGwAAANZJREFUGNNjYEAHUmfvrz4rAGTw3dmAJnXBlKFU9gGQwTUBXcaMgZcp\n",
       "AMjgb8CU4TRYAGTUP4CK+O7evQAucwHIyIZKVPkh9LC+A5m21CUCxGdeh2SabpcB0G2/Hrw3ADnE\n",
       "AC5js/o3SD/HPwYeB5AMkgsEX4FozgUM/AlAWmc3EFyAyPA+BPmUO4GhHuTut0h6mCbcg3hnPsjd\n",
       "3Mj+mWQLklHgOwjiszggybxlARrHKsALCZ4VcBlLBkaB60BXh02ECDy9/gAW1pcZ7q5HDrOy25DQ\n",
       "gQIAY/lDzDbeA58AAAAASUVORK5CYII=\n",
       "\" style=\"display:inline;vertical-align:middle;\" /></a> <a class=\"ProveItLink\" href=\"../__pv_it/demonstrations/a02fd3d68dacb493c40895cd407282d0df0cbb070/proof.ipynb\" style=\"text-decoration: none\">&nbsp;&#x22A2;&nbsp;&nbsp;</a><a class=\"ProveItLink\" href=\"../__pv_it/demonstrations/71f93cb9a646eed73acf034507d72c3b2dfcd6560/expr.ipynb\"><img src=\"data:image/png;base64,iVBORw0KGgoAAAANSUhEUgAAAZgAAAAVBAMAAACJTOXUAAAAMFBMVEX///8AAAAAAAAAAAAAAAAA\n",
       "AAAAAAAAAAAAAAAAAAAAAAAAAAAAAAAAAAAAAAAAAAAv3aB7AAAAD3RSTlMAInZUiRDNmWbv3US7\n",
       "qzJazP2FAAAACXBIWXMAAA7EAAAOxAGVKw4bAAADpklEQVRYw51XQUhUQRj+1+e67j533SIIooMR\n",
       "gRdRJIK66CHwFO7JCBT3InqJPIgr0WFP2SFBgg4p4YKFtZFIl7TT1qWDUNIlOxgSnTyUYkont5k3\n",
       "b+bNP//sY+iDee/t/773f/PNzP5vHgDkQTSMBPxnCBxZdll35G0iTT2iGfA7SOgiuLDAjdVA1h1v\n",
       "bCKXRTs7/UnFhxfYodN82uuHxPV7a/GsIEgCnbQvFlmBMwObJnevYARyz9lIlKlIshi0RA0Go36O\n",
       "s9ZiZhgCuAneIcSzxsESICy7bHBjEvrwhCW/3jEeH5k+YscxKpJiBlnL5iE9r+7xHrdOhj/Ww/MM\n",
       "QHdP8hisLL+sBRFQLgUqG8o0HcJoEQtDtzkWTdzMLBVJsxNr6SPIHqjlx7nwOPzVG56Z6MYaRGYQ\n",
       "y+vQg/pSRrkUqGwo4y9CexELNzCTLhCRK+zIWrYC2RN5r7nCjxPYjBdIeH/BypJmRFADzqVAZVXX\n",
       "oa/sZKalTESm2HEqiGT25b2WL11s2d7AZlL9/PguyoBY0owIasC5FKis6rr/ApzMNG8RkQk1br9V\n",
       "AR0dS7K5v49zBgPxY2cXrCxpRgQ1aKxUNcCWnCosK7ue6/ruZqa1SESW2fVyEHkdzXMBHgFcxTkz\n",
       "wYhr1QyxpBkR1IBzKVBZbZn1OJnx5onIIrteDMatFnjkdqcB/rAh47/vVqtPqlUumBYldIklFiUt\n",
       "YrEhf7kghlwEYSiYg1WcS4chG8lAUBVwRJiJcgozuX3SYZV1Tow/L6LPwGcTsIGHjJv5BfCZD9sK\n",
       "mCw5MyKoAeeiZuYAy+R2oe3QaWb8edJhOd/s/X4qqtopxr5Gl1m9IMxQljQjgugNoFj6f4bKhjLt\n",
       "R65mvAoR+cCuefsJcEneO4Fb7N/+EJtpY919KpaZhSXNiKAGnEuBysoFsCWWmUMBqBERXjRZS6yU\n",
       "SsrpNnxUlVPl5JXwgf6eQSxpRgQ14FwKVDaUaS3T98yguUNuPlDvCiSyxzdybBHV63VV6kYGeLpX\n",
       "xmJmon5J22giljQjgvo+CuWK9o5EVnb9bWnTqG87S7dx0uy34232LO1Khr04Mru2j5CKkXMVYlhe\n",
       "7LdAwtwXWGR7yVO98d8A56gI3wPSfWC4FUT7vVmIYfnlON0UuUtl18lT6/FmZiwi70E0E+fNQFve\n",
       "hWWFhdVI1hmJmkVkOGw2NfxdUXNhWWFhNZJ1BhlbLpLoEM2sfnQeToMLC9xYDWTdcYGK/APjVlHX\n",
       "DCXn1AAAAABJRU5ErkJggg==\n",
       "\" style=\"display:inline;vertical-align:middle;\" /></a></span>"
      ],
      "text/plain": [
       "{b in Real} |- ((2 * b) + (3 * b) + b - b) = ((2 + 3 + 1 - 1) * b)"
      ]
     },
     "execution_count": 92,
     "metadata": {},
     "output_type": "execute_result"
    }
   ],
   "source": [
    "#test = Add(Mult(two, b), Mult(three,b), b, Neg(b)).factor(b, assumptions=[InSet(two, Complex), InSet(three, Complex), InSet(b, Exp(Complex,one)),InSet(one, Complex), InSet(Neg(one), Complex), InSet(b, Real)])\n",
    "#test = Add(Mult(two, b), Mult(three,b), b, Neg(b)).factor(b, assumptions=[InSet(Neg(one), Complex), InSet(b, Real)])\n",
    "Add(Mult(two, b), Mult(three,b), b, Neg(b)).factorization(\n",
    "    b, pull='right', assumptions=[InSet(b, Real)], auto_simplify=False)"
   ]
  },
  {
   "cell_type": "code",
   "execution_count": 93,
   "metadata": {},
   "outputs": [
    {
     "data": {
      "text/html": [
       "<span style=\"font-size:20px;\"><a class=\"ProveItLink\" href=\"../../ordering/__pv_it/theorems/6e5cad5b2984ed0d75bd47bd0c542ec447a4f3570/expr.ipynb\"><img src=\"data:image/png;base64,iVBORw0KGgoAAAANSUhEUgAAADEAAAAQBAMAAABNQoq8AAAAMFBMVEX///+YmJjMzMzc3NyIiIhU\n",
       "VFR2dna6urqqqqpmZmYyMjIiIiIQEBBERETu7u4AAAD7tRWPAAAAAXRSTlMAQObYZgAAAAlwSFlz\n",
       "AAAOxAAADsQBlSsOGwAAANZJREFUGNNjYEAHUmfvrz4rAGTw3dmAJnXBlKFU9gGQwTUBXcaMgZcp\n",
       "AMjgb8CU4TRYAGTUP4CK+O7evQAucwHIyIZKVPkh9LC+A5m21CUCxGdeh2SabpcB0G2/Hrw3ADnE\n",
       "AC5js/o3SD/HPwYeB5AMkgsEX4FozgUM/AlAWmc3EFyAyPA+BPmUO4GhHuTut0h6mCbcg3hnPsjd\n",
       "3Mj+mWQLklHgOwjiszggybxlARrHKsALCZ4VcBlLBkaB60BXh02ECDy9/gAW1pcZ7q5HDrOy25DQ\n",
       "gQIAY/lDzDbeA58AAAAASUVORK5CYII=\n",
       "\" style=\"display:inline;vertical-align:middle;\" /></a> <a class=\"ProveItLink\" href=\"../__pv_it/demonstrations/eccd6395a30ac3e2da9b5a2bef113fc8e96f3bbe0/proof.ipynb\" style=\"text-decoration: none\">&nbsp;&#x22A2;&nbsp;&nbsp;</a><a class=\"ProveItLink\" href=\"../__pv_it/demonstrations/8db4309c518ed592067890df21dc434987cf39a70/expr.ipynb\"><img src=\"data:image/png;base64,iVBORw0KGgoAAAANSUhEUgAAAZgAAAAVBAMAAACJTOXUAAAAMFBMVEX///8AAAAAAAAAAAAAAAAA\n",
       "AAAAAAAAAAAAAAAAAAAAAAAAAAAAAAAAAAAAAAAAAAAv3aB7AAAAD3RSTlMAInZUiRDNmWbv3US7\n",
       "qzJazP2FAAAACXBIWXMAAA7EAAAOxAGVKw4bAAAEEUlEQVRYw6VXQUhUQRj+n8/ddfe57hZBEB22\n",
       "IvAiikhgFz0EQhDuyQgM9yJ6kTyIKxG0J+1gEEFQSrhgYW0k0iXtonaJEEoqyA6GRCcPmdhKJ+2f\n",
       "mTfz5p/3Wp/1w8zy/+97//d/M/NmZgEgDaJRs+AfQxASlT7AP4ylJUlVk2iGORlf6AyEQUE4lEkZ\n",
       "UEJ4eyFJWkQ7PvxOPeuewK7efMNuB+vCjbnKKB70Ber9/C0QeVskPilB2LGOFfO9zawRqHuMI1EQ\n",
       "JJEcb9YSdHp19mGLmm91AVwGewcqo/ogIOBDcdroIPFpCTw4CG10wiKfrxmprg6Xse8VJDEUhS2Z\n",
       "hvgdhWAV10iqefd3BKCxKbILgSinoAWJkVzKGG2qifhaCS5l1Q705GgR0GiOSxUTMyZI4viDLV6G\n",
       "5LZa4+w53HO9ZvcXiRbmwBNDUHZGD+rfC8mljNEuZomvleBSOpOQytEi/iImnuUk57DHlixCck8+\n",
       "r+aLuZ+KsXla+zcEoqSY6qLBRXMpY7QXqa+VoEqHtkIoMdECJxnCfohHEz/l8+iHBlwBl6iYWDvr\n",
       "XxUgECXFiKBmNJcyRjlw+iPxvRJU6c4TCCWmehUYSb8aty21gfb0RnC+R2keLv7b+gYEoqQYEdRM\n",
       "Q8VK3FbdqYrsZnvU4UJLkKXXNXwNJ6aGLZtRmMZ+mkefe3ObhbsArTRPgo+4tpsRlBQjgprRXMqQ\n",
       "0i5DPKP5WgnaMmsKJcZmO0crTGI/ycdtiQ8kkzgM8AuHifnXS6UHpRIjiYttcyrLxhQICof86YQY\n",
       "chGELj4HszSXbkgZy0GqXSbTSvAoge8KNCLEePmFmDq2Prc8MbfF+LNN9BE4OAELdJiYmB8A79lQ\n",
       "zYCJkjMjgprRXLqYRDssqmRaCR5l3QbU7oSaGYfNzIJaZni+H/GOhhgizvuX2X5WiPGjpBgRJMeM\n",
       "QunfzDQ/Zm5m9WXmleBSpsphxdhszzwPr7Fn7TvAWfl8D67g1z5OxdRiuQ/FMgtASTEiqBnNpQwp\n",
       "UxuR+7qvlSAXw6pYZiE2ALZAx/mmic2ayefVEbEGb9RuqfKw3e+Wfs4QlBQjgprRXMqQMlmoHdR9\n",
       "rQSXsqbgP2c6zdt19bY8N4Zgk13ecBHt7+/n1H2ng6V4ZixgJHLy2kWToKQYEdTvTiSXd1/EL//T\n",
       "CPG1EmTpL/Mrxv62PjVACZJfdtfw3TlOksCDI7ER9CekaOSZhQoou+J/Acu8F/goqd/sy9Bc+T/A\n",
       "CUHC7oD+e6B7FSR3vDGogHIKlbhivqcmJfXnfRnmK4sZcUmWQTTTTpqB2nQYVKAFoJYP8A9l1pJL\n",
       "0u22g9ggshQGFWgBqO4D/EMZH2dGYmVEM3c8/zwchTAoCIcyKa3Mf4g5JUj+APhyT0NB6U+hAAAA\n",
       "AElFTkSuQmCC\n",
       "\" style=\"display:inline;vertical-align:middle;\" /></a></span>"
      ],
      "text/plain": [
       "{b in Real} |- ((2 * b) + (3 * b) + b - b) = (b * (2 + 3 + 1 - 1))"
      ]
     },
     "execution_count": 93,
     "metadata": {},
     "output_type": "execute_result"
    }
   ],
   "source": [
    "Add(Mult(two, b), Mult(three,b), b, Neg(b)).factorization(\n",
    "    b, pull='left', assumptions=[InSet(b, Real)], auto_simplify=False)"
   ]
  },
  {
   "cell_type": "code",
   "execution_count": 94,
   "metadata": {},
   "outputs": [
    {
     "data": {
      "text/html": [
       "<span style=\"font-size:20px;\"><a class=\"ProveItLink\" href=\"../../ordering/__pv_it/theorems/6e5cad5b2984ed0d75bd47bd0c542ec447a4f3570/expr.ipynb\"><img src=\"data:image/png;base64,iVBORw0KGgoAAAANSUhEUgAAADEAAAAQBAMAAABNQoq8AAAAMFBMVEX///+YmJjMzMzc3NyIiIhU\n",
       "VFR2dna6urqqqqpmZmYyMjIiIiIQEBBERETu7u4AAAD7tRWPAAAAAXRSTlMAQObYZgAAAAlwSFlz\n",
       "AAAOxAAADsQBlSsOGwAAANZJREFUGNNjYEAHUmfvrz4rAGTw3dmAJnXBlKFU9gGQwTUBXcaMgZcp\n",
       "AMjgb8CU4TRYAGTUP4CK+O7evQAucwHIyIZKVPkh9LC+A5m21CUCxGdeh2SabpcB0G2/Hrw3ADnE\n",
       "AC5js/o3SD/HPwYeB5AMkgsEX4FozgUM/AlAWmc3EFyAyPA+BPmUO4GhHuTut0h6mCbcg3hnPsjd\n",
       "3Mj+mWQLklHgOwjiszggybxlARrHKsALCZ4VcBlLBkaB60BXh02ECDy9/gAW1pcZ7q5HDrOy25DQ\n",
       "gQIAY/lDzDbeA58AAAAASUVORK5CYII=\n",
       "\" style=\"display:inline;vertical-align:middle;\" /></a> <a class=\"ProveItLink\" href=\"../__pv_it/demonstrations/582038447afff02b19310800a90ad013c7bbc0f30/proof.ipynb\" style=\"text-decoration: none\">&nbsp;&#x22A2;&nbsp;&nbsp;</a><a class=\"ProveItLink\" href=\"../__pv_it/demonstrations/c635f8bee5f08f11e892536c8700eb2925ad29140/expr.ipynb\"><img src=\"data:image/png;base64,iVBORw0KGgoAAAANSUhEUgAAAR0AAAAVBAMAAACJYCeRAAAAMFBMVEX///8AAAAAAAAAAAAAAAAA\n",
       "AAAAAAAAAAAAAAAAAAAAAAAAAAAAAAAAAAAAAAAAAAAv3aB7AAAAD3RSTlMAInZUiRDNmWbv3US7\n",
       "qzJazP2FAAAACXBIWXMAAA7EAAAOxAGVKw4bAAACyElEQVRIx52WT2gTQRTGvyTGZDfZJIpQ6Ckq\n",
       "HoUg0mtzEwrFeOlJaC6FIgg5FBO8dPHSk5CLoEYwUKUitBQvekv0IKggBQVvmoMnL1ZKehGMb2Y2\n",
       "k5md2XXxg7fb+ebXnbdv/mwAVCAipP+2kIxKRWDpmoiwXhhOMsomG3UeJeCaiV0WMXfro/Sz7/o0\n",
       "uh9+AlFnrnyIp7hpGOazkKnDOb7x1MCyTR6pIa7uS/hkiy5roScQlW1hsRZPcdMw1ox8VgD38ZOG\n",
       "geV8Hl4FTld2ltmgW0HjVXAnKn2E1WY8VQ5PqkbN1AE8G+aAhzOG90t2DljeTpD8pcAkqtBDuRlP\n",
       "DRqhgTVqpm4onym2QDcKrw/vj+xc4hX09ZEW+HXRj6eWwgNr1Gz5NEP5TLENum1wxz2UnTfPfQJO\n",
       "HOgjcarwDPEUN1VplFSuTvncWR4Z2Dr9vc6dn1W5co8bqxXkm/pIjCpd/IpYSpjqLlCo28+ZdqcF\n",
       "KzZSvw1smxrb3NqdFXMMp4pMV89HULP9ZaWEqU6MRkm54jHvDaxHjR6v4JBd+fbJNVGuo3QoXulB\n",
       "8Eo9sarHsZQwscIrsadTqhxxuGxWWGlUTOZzV+TNjgG3jkENhVB9iCqNUDyKpYSpFkKjtHzeUj5s\n",
       "Ae2o2HS+6Lw8pZwFmw1k+sZ8lccin2hKmPq5Iill/bD5egh8M7A31GDxHbggO0fZ+0B+qOdDlHMg\n",
       "5iuaEqaaj0ZJFWmR0bw+MrBlalCkdtpt+eXx/GJLbEk1H6LyvnL+WClhKtIpKXYAzCF9z8B+UIPC\n",
       "nUwm8uTNfu6wku7r+TDyZVv5ntooYar7XaOkSvTyqfaXhoG5tKLcke1Hwjz0fJJRds0bzl4Elm+J\n",
       "gO2Lp30pk1F2dQxnKwp7HYTx+y28BBNSSEYVKxHY9SD+/Q/JKCSjssMILFUVEdZZM/1ElE026rQV\n",
       "+wthm+1YSZ6fPgAAAABJRU5ErkJggg==\n",
       "\" style=\"display:inline;vertical-align:middle;\" /></a></span>"
      ],
      "text/plain": [
       "{b in Real} |- ((2 * b) + (3 * b) + b - b) = (5 * b)"
      ]
     },
     "execution_count": 94,
     "metadata": {},
     "output_type": "execute_result"
    }
   ],
   "source": [
    "Add(Mult(two, b), Mult(three,b), b, Neg(b)).factorization(\n",
    "    b, pull='left', assumptions=[InSet(b, Real)])"
   ]
  },
  {
   "cell_type": "code",
   "execution_count": 95,
   "metadata": {},
   "outputs": [
    {
     "data": {
      "text/html": [
       "<span style=\"font-size:20px;\"><a class=\"ProveItLink\" href=\"../../ordering/__pv_it/theorems/4aa8d696b1f407d6126de9f51a052e8d90e0848c0/expr.ipynb\"><img src=\"data:image/png;base64,iVBORw0KGgoAAAANSUhEUgAAADMAAAAQBAMAAABJt1qBAAAAMFBMVEX////MzMwyMjKqqqoiIiJm\n",
       "ZmaYmJju7u5EREQQEBC6urqIiIh2dnZUVFTc3NwAAAAqL9KcAAAAAXRSTlMAQObYZgAAAAlwSFlz\n",
       "AAAOxAAADsQBlSsOGwAAAM1JREFUGNNjYMAASTP6VWYkMGAFDW8Z1mYUYJd6w8DBeAGXFOsDBRSh\n",
       "HS4uCnCpBmSZRdsRunjLQQby3dm3ASTAp45koITRAyBj5QOO7yABpgdwqZcqX0AmsE9jYHUASyE5\n",
       "I60IRLN+YGA5AGJIugBBA0SKowzkZc4GhvoFIIEKJF2MAe1Aun4DQz5YgAXZX4EvQFIGDJeYQS7g\n",
       "3oAkVcENNJFjA7MrK1hEGS71lIEtoQvowtsH324Ei9R2FcBCvo+hQ98AOTjWtLgghxwApbZCEcpv\n",
       "FP8AAAAASUVORK5CYII=\n",
       "\" style=\"display:inline;vertical-align:middle;\" /></a>, <a class=\"ProveItLink\" href=\"../../ordering/__pv_it/theorems/6e5cad5b2984ed0d75bd47bd0c542ec447a4f3570/expr.ipynb\"><img src=\"data:image/png;base64,iVBORw0KGgoAAAANSUhEUgAAADEAAAAQBAMAAABNQoq8AAAAMFBMVEX///+YmJjMzMzc3NyIiIhU\n",
       "VFR2dna6urqqqqpmZmYyMjIiIiIQEBBERETu7u4AAAD7tRWPAAAAAXRSTlMAQObYZgAAAAlwSFlz\n",
       "AAAOxAAADsQBlSsOGwAAANZJREFUGNNjYEAHUmfvrz4rAGTw3dmAJnXBlKFU9gGQwTUBXcaMgZcp\n",
       "AMjgb8CU4TRYAGTUP4CK+O7evQAucwHIyIZKVPkh9LC+A5m21CUCxGdeh2SabpcB0G2/Hrw3ADnE\n",
       "AC5js/o3SD/HPwYeB5AMkgsEX4FozgUM/AlAWmc3EFyAyPA+BPmUO4GhHuTut0h6mCbcg3hnPsjd\n",
       "3Mj+mWQLklHgOwjiszggybxlARrHKsALCZ4VcBlLBkaB60BXh02ECDy9/gAW1pcZ7q5HDrOy25DQ\n",
       "gQIAY/lDzDbeA58AAAAASUVORK5CYII=\n",
       "\" style=\"display:inline;vertical-align:middle;\" /></a>, <a class=\"ProveItLink\" href=\"../__pv_it/demonstrations/d550e8309ef79ca46e4c9fb5617a392ea678789b0/expr.ipynb\"><img src=\"data:image/png;base64,iVBORw0KGgoAAAANSUhEUgAAADEAAAAQBAMAAABNQoq8AAAAMFBMVEX///9UVFQyMjK6urru7u4Q\n",
       "EBBERERmZmaqqqoiIiLc3NzMzMyYmJiIiIh2dnYAAABC1PP/AAAAAXRSTlMAQObYZgAAAAlwSFlz\n",
       "AAAOxAAADsQBlSsOGwAAAL1JREFUGNNjYEAHh8LyNcMOMGADCQsZDI85YJVZx8DGLYBDhn2BArLI\n",
       "tZkzFeAyCUgSRlcQehhdwKa9vbMBSHKpIJm2rWkBkLGygR2klWkBXGap5k+w/nkMrBdAMkguOOME\n",
       "otm/QPhbZwJBAkSGzQfkU1aoK9yQ9HAXpABp/wsQPieyf6qXAWl+oEYDIM17AUnGjRcoCnQYH8jV\n",
       "DBpwmeUMPAeSgYx3ZyBedEx2gIV1FkOafgNSINhlzkQOLQDcXDjPgdalcwAAAABJRU5ErkJggg==\n",
       "\" style=\"display:inline;vertical-align:middle;\" /></a>, <a class=\"ProveItLink\" href=\"../__pv_it/demonstrations/41c3ad9f29c40b69fd61c49f41684c1b813e9e850/expr.ipynb\"><img src=\"data:image/png;base64,iVBORw0KGgoAAAANSUhEUgAAADMAAAAQBAMAAABJt1qBAAAAMFBMVEX///+YmJhERESIiIhUVFTc\n",
       "3NwiIiJ2dnbu7u66urqqqqpmZmYQEBAyMjLMzMwAAAA7oY0NAAAAAXRSTlMAQObYZgAAAAlwSFlz\n",
       "AAAOxAAADsQBlSsOGwAAANxJREFUGNNjYMAAsof0rx0SgLD57mxAkVMIYZgi1ABh8y9AlQpnYOJz\n",
       "gLDnN6BLcQdcgLDLIJRRWtoFuJQCROw2mJxrgdDF0gEykNXd7hdIgPUGkoGP1gYAGXMCmH6ABHgD\n",
       "4FIx176BTOA4yMANtoEXyRmCvSCa+wMDWwGI8SYNCBQgUkyNIC/zKDD0TwAJNCHp4tugAaT7DRjk\n",
       "wQJsyP7aFwSSWsDgywVyAbMBklQTM9BEJgOubG6wyC24VDQDo4Am0IXOdSF2YJEWzQZYyKsyKN1H\n",
       "CdfpamkXkLgAdQoz5LsD3PAAAAAASUVORK5CYII=\n",
       "\" style=\"display:inline;vertical-align:middle;\" /></a>, <a class=\"ProveItLink\" href=\"../__pv_it/demonstrations/771bca1b7668afe1f4a079455244c3543a69d15a0/expr.ipynb\"><img src=\"data:image/png;base64,iVBORw0KGgoAAAANSUhEUgAAADIAAAAQBAMAAACmdTG/AAAAMFBMVEX///8QEBAyMjKqqqpUVFRE\n",
       "RESYmJjc3NzMzMwiIiK6urpmZmaIiIh2dnbu7u4AAAAMEBwRAAAAAXRSTlMAQObYZgAAAAlwSFlz\n",
       "AAAOxAAADsQBlSsOGwAAAMFJREFUGNNjYEAHbIqhnyaGMWADrOwOXG5x2GUuMAS04JLZzoQscnTm\n",
       "TAW4DCuSxKJzSHr8ngAZfHdOPwBS7HpIpnEEqwMZKxs4LgAppgKEjND8OUDF7N8YeBaAZJBccC0P\n",
       "ZCHrnzO3QPzGmUAQADUtLg1I8ztAVD5FdnU3K9A0/gMQPieyDHc7UDcn0HoDIJ/nAJIMX8AxYAAq\n",
       "MLwGO0sZIbOBIY0V6KqzaRDVT6IewML6awFr0GekQFgbCQkdKAAAB+s3fiERkhcAAAAASUVORK5C\n",
       "YII=\n",
       "\" style=\"display:inline;vertical-align:middle;\" /></a>, <a class=\"ProveItLink\" href=\"../__pv_it/demonstrations/43462719e9cd53d7943bf9d012670db2b04e1e660/expr.ipynb\"><img src=\"data:image/png;base64,iVBORw0KGgoAAAANSUhEUgAAADQAAAATBAMAAAAt/zNWAAAAMFBMVEX///8yMjLc3NyIiIiYmJgi\n",
       "IiJERES6urqqqqoQEBDMzMxUVFTu7u52dnZmZmYAAAD1zdHuAAAAAXRSTlMAQObYZgAAAAlwSFlz\n",
       "AAAOxAAADsQBlSsOGwAAANpJREFUKM9jYMAALJJpHyNTIGy+uwdQ5NiYNrBvyQEzb69sQJO6wJCw\n",
       "GsycUXYAQ+oRI4jF/gcqZBYaKgCXYgOxeAMgMoU2SLr2nAY5aGf0A5AAkwySgVwZQiAWvwFYgFEB\n",
       "ITUxPhhsvf4CiBSSM674gC1l6IcIrAwFggSogTkuYLGrEKljyI5fxwY2MBsiwIosxbcIrH8yRIDZ\n",
       "AEmKJ8EE5OjvUBEJhNQDBhe2AgYGjg9QkdPpB2Ah/02BLfEHMNw3wFTXpkICCga6GRsYcICwg7hk\n",
       "GJwf4ZIBAEnlNwDq5V/dAAAAAElFTkSuQmCC\n",
       "\" style=\"display:inline;vertical-align:middle;\" /></a>, <a class=\"ProveItLink\" href=\"../__pv_it/demonstrations/87e016319e283ab0085ec31c893e4bd9170922980/expr.ipynb\"><img src=\"data:image/png;base64,iVBORw0KGgoAAAANSUhEUgAAADMAAAATBAMAAADPIygvAAAAMFBMVEX///8iIiJmZma6urrMzMxU\n",
       "VFTu7u5EREQQEBAyMjKYmJjc3NyIiIh2dnaqqqoAAADvjgrBAAAAAXRSTlMAQObYZgAAAAlwSFlz\n",
       "AAAOxAAADsQBlSsOGwAAAN1JREFUKM9jYMAAK9vrJ7YvYMAKCrYymC5PwC61l4GdJQCXFNOGCShC\n",
       "xwUFJ8ClCpBlLI8hdLGmgQ18e2YXiOKehmSg+8sNQAbvBO52kADnBrjUjokfwSa8T2D4A5ZCcsaq\n",
       "TDCjlYHlN4j2EASCAogUexbIyyz/GHgaQALpSLpYFMqANNdvBnawaxiR/aWyHST1gSEfHGA8B5Ck\n",
       "0nmAYmy/GeIh4TUPLrWJgWtBMZBhelYRIpJanAAL+WqG8vkPQOxJUNW2hYIoIeeawPIFe9wwRCRk\n",
       "HsAhZXpWGYcMAFaSQwzSRn8bAAAAAElFTkSuQmCC\n",
       "\" style=\"display:inline;vertical-align:middle;\" /></a> <a class=\"ProveItLink\" href=\"../__pv_it/demonstrations/e9c88901b439254e3e78dce167f3973d6f5d1d7e0/proof.ipynb\" style=\"text-decoration: none\">&nbsp;&#x22A2;&nbsp;&nbsp;</a><a class=\"ProveItLink\" href=\"../__pv_it/demonstrations/9fecaeb5e3b34e30672d241b984df5e699418f4f0/expr.ipynb\"><img src=\"data:image/png;base64,iVBORw0KGgoAAAANSUhEUgAAAQQAAAAuBAMAAAA8ZnrdAAAAMFBMVEX////MzMxUVFRERES6uroi\n",
       "IiIQEBCYmJhmZmYyMjLu7u52dnaqqqqIiIjc3NwAAACW8nlqAAAAAXRSTlMAQObYZgAAAAlwSFlz\n",
       "AAAOxAAADsQBlSsOGwAAA15JREFUWMPtV19IU1EY/5Zz/9zmCAoiKJ+MEGn01Is5jOopMmMR6ENk\n",
       "Vg8V68l6kAYlUYHtqcSni0EkPUwjMRBhBD2EVNcIisZEBOnRGYJgU/puOnd/37lrC7YLgQfGvD+/\n",
       "73d+9zvnOzs/Ipoju4ecMZCyXcIp8TxtFfSspwymPVdLx3gmNRUMxODRl7BMHSznbXKlQ17ttiry\n",
       "EMoERc6YYHfGZPrJQvCqRNSka8c0C55bEO6CJ7+O7FtAYXzY+quuXSJKUhEeF6zOe8vkPPtfJXjj\n",
       "JSUU4fFCTR7xJ9g0q2Okt/lzClPrMjdxwvmp/SlEfFPfNExyN3bEhYTpzA8mazBLeMqfE3M1qxiZ\n",
       "HPKtAxDsorswofMGtWoo4XjIMSpeuV6X5U0Eu1nanx7ojxqjg7pY/RXytGPkJ42uA1A7ugnkJ3we\n",
       "owe4NMEVCkSEhMUQKcRr/HTBXIVL3BRZYwb+jkbP9USjRpGY/RcAjzfemIVfNoQzQNSJSM1a5jWy\n",
       "8IwbXVeALpKDy+vICgmuMCUjKLaTnDkAuuV27CbfMiL1Dep2HBeQI0cBroATqsALkdTpjkjOkWfV\n",
       "DPjWhAQG3FkhQVclHBaQe51qWKm/3bwXWlhCig765yB5yVhrM7DC0kFCjnYkPoIEYzFFG+X3T0FC\n",
       "lpJM7A7DCcqLqPvPe1D/ATqCALfDGEzYQu/ieC7wNn+BL0LBZSGB++wQ7yrPqFnCLsabx+ZncMbh\n",
       "NzHRTBN92ILD6X3NIWzKdK84XciflWvTlu43ChYxS6gNWZ9rZZyORZGtJI/FDjV+ABcg3B0v8gNT\n",
       "+meqKJJPeutNCWin5ljir/sYf7R6V5OzIxJp1Ea4HMGwuJ1UT0LfgETa0veMQ0zc3IK67Re3Wdoe\n",
       "26NMY7FtZf7JyijD8SRut5VRRn3KZiujhpzWbLYyasi43VZGDRmsqpV5mXkoJEx9DaHVaJrJURWt\n",
       "jPMM7UUJCylPGEJUlhJWxnSDLsfKLMboC0roJJcO10JmSVAVrUxrJh0B47J5yS+EWLBU1sr8lNvR\n",
       "FRbb0YKlolaGpJUxkjDHgqWElcmPMq0M+0c/eif+P5hYC5bKWpnb5BsACdwOddCUFiyVtTKBiT5x\n",
       "NE32fkd2lcU2K6OG2G5l1JBtK/NfWpnf5yOtKQAvmo4AAAAASUVORK5CYII=\n",
       "\" style=\"display:inline;vertical-align:middle;\" /></a></span>"
      ],
      "text/plain": [
       "{a in Real, b in Real, c in Real, d in Real, e in Real, f in Real, g in Real} |- (a + b + c + d + e + f + g) =  \\\\ (a + b + e + c + d + f + g)"
      ]
     },
     "execution_count": 95,
     "metadata": {},
     "output_type": "execute_result"
    }
   ],
   "source": [
    "Add(a,b,c,d,e,f,g).commutation(4, 2, assumptions=[InSet(a,Real),InSet(b,Real),InSet(c,Real),InSet(d,Real),InSet(e,Real),InSet(f,Real),InSet(g,Real)])"
   ]
  },
  {
   "cell_type": "code",
   "execution_count": 96,
   "metadata": {},
   "outputs": [],
   "source": [
    "#m.prove([Add(m, subtract(one, one))])"
   ]
  },
  {
   "cell_type": "markdown",
   "metadata": {},
   "source": [
    "Testing `deduce_bound` method."
   ]
  },
  {
   "cell_type": "code",
   "execution_count": 97,
   "metadata": {},
   "outputs": [
    {
     "data": {
      "text/html": [
       "<span style=\"font-size:20px;\"><a class=\"ProveItLink\" href=\"../../ordering/__pv_it/theorems/6e5cad5b2984ed0d75bd47bd0c542ec447a4f3570/expr.ipynb\"><img src=\"data:image/png;base64,iVBORw0KGgoAAAANSUhEUgAAADEAAAAQBAMAAABNQoq8AAAAMFBMVEX///+YmJjMzMzc3NyIiIhU\n",
       "VFR2dna6urqqqqpmZmYyMjIiIiIQEBBERETu7u4AAAD7tRWPAAAAAXRSTlMAQObYZgAAAAlwSFlz\n",
       "AAAOxAAADsQBlSsOGwAAANZJREFUGNNjYEAHUmfvrz4rAGTw3dmAJnXBlKFU9gGQwTUBXcaMgZcp\n",
       "AMjgb8CU4TRYAGTUP4CK+O7evQAucwHIyIZKVPkh9LC+A5m21CUCxGdeh2SabpcB0G2/Hrw3ADnE\n",
       "AC5js/o3SD/HPwYeB5AMkgsEX4FozgUM/AlAWmc3EFyAyPA+BPmUO4GhHuTut0h6mCbcg3hnPsjd\n",
       "3Mj+mWQLklHgOwjiszggybxlARrHKsALCZ4VcBlLBkaB60BXh02ECDy9/gAW1pcZ7q5HDrOy25DQ\n",
       "gQIAY/lDzDbeA58AAAAASUVORK5CYII=\n",
       "\" style=\"display:inline;vertical-align:middle;\" /></a>, <a class=\"ProveItLink\" href=\"../../ordering/__pv_it/theorems/4aa8d696b1f407d6126de9f51a052e8d90e0848c0/expr.ipynb\"><img src=\"data:image/png;base64,iVBORw0KGgoAAAANSUhEUgAAADMAAAAQBAMAAABJt1qBAAAAMFBMVEX////MzMwyMjKqqqoiIiJm\n",
       "ZmaYmJju7u5EREQQEBC6urqIiIh2dnZUVFTc3NwAAAAqL9KcAAAAAXRSTlMAQObYZgAAAAlwSFlz\n",
       "AAAOxAAADsQBlSsOGwAAAM1JREFUGNNjYMAASTP6VWYkMGAFDW8Z1mYUYJd6w8DBeAGXFOsDBRSh\n",
       "HS4uCnCpBmSZRdsRunjLQQby3dm3ASTAp45koITRAyBj5QOO7yABpgdwqZcqX0AmsE9jYHUASyE5\n",
       "I60IRLN+YGA5AGJIugBBA0SKowzkZc4GhvoFIIEKJF2MAe1Aun4DQz5YgAXZX4EvQFIGDJeYQS7g\n",
       "3oAkVcENNJFjA7MrK1hEGS71lIEtoQvowtsH324Ei9R2FcBCvo+hQ98AOTjWtLgghxwApbZCEcpv\n",
       "FP8AAAAASUVORK5CYII=\n",
       "\" style=\"display:inline;vertical-align:middle;\" /></a>, <a class=\"ProveItLink\" href=\"../__pv_it/demonstrations/d550e8309ef79ca46e4c9fb5617a392ea678789b0/expr.ipynb\"><img src=\"data:image/png;base64,iVBORw0KGgoAAAANSUhEUgAAADEAAAAQBAMAAABNQoq8AAAAMFBMVEX///9UVFQyMjK6urru7u4Q\n",
       "EBBERERmZmaqqqoiIiLc3NzMzMyYmJiIiIh2dnYAAABC1PP/AAAAAXRSTlMAQObYZgAAAAlwSFlz\n",
       "AAAOxAAADsQBlSsOGwAAAL1JREFUGNNjYEAHh8LyNcMOMGADCQsZDI85YJVZx8DGLYBDhn2BArLI\n",
       "tZkzFeAyCUgSRlcQehhdwKa9vbMBSHKpIJm2rWkBkLGygR2klWkBXGap5k+w/nkMrBdAMkguOOME\n",
       "otm/QPhbZwJBAkSGzQfkU1aoK9yQ9HAXpABp/wsQPieyf6qXAWl+oEYDIM17AUnGjRcoCnQYH8jV\n",
       "DBpwmeUMPAeSgYx3ZyBedEx2gIV1FkOafgNSINhlzkQOLQDcXDjPgdalcwAAAABJRU5ErkJggg==\n",
       "\" style=\"display:inline;vertical-align:middle;\" /></a>, <a class=\"ProveItLink\" href=\"../__pv_it/demonstrations/dd86d1372efbf67698edf88c9b06d2401dec63b90/expr.ipynb\"><img src=\"data:image/png;base64,iVBORw0KGgoAAAANSUhEUgAAADAAAAAOBAMAAACbXIJpAAAAMFBMVEX////MzMwyMjKqqqoiIiJm\n",
       "ZmaYmJju7u5EREQQEBC6urqIiIh2dnZUVFTc3NwAAAAqL9KcAAAAAXRSTlMAQObYZgAAAAlwSFlz\n",
       "AAAOxAAADsQBlSsOGwAAAJVJREFUGNNjYCAOMOthF2dzLUBw+O7s2wBlcvtAxXl2JzIwrHzA8R3C\n",
       "rfGGqXVmiGBgn8bA6gDmPnWDGcJygGE2A+sHEA0EvMpw0+NBJnI2MNQvQJOYASLqNzDkM6Aaxf4b\n",
       "LGHAcIn5Aarl3xgYuBg4NjC7skIFqr0hzo1gYDjIwH774NuNcA9CPMJzLLsA3et6BEMNACzTIu4J\n",
       "PNLrAAAAAElFTkSuQmCC\n",
       "\" style=\"display:inline;vertical-align:middle;\" /></a> <a class=\"ProveItLink\" href=\"../__pv_it/demonstrations/058307db3e475350ee4d741b6ebf0eff21df36200/proof.ipynb\" style=\"text-decoration: none\">&nbsp;&#x22A2;&nbsp;&nbsp;</a><a class=\"ProveItLink\" href=\"../__pv_it/demonstrations/0f950c51e0bcbca09609d25357fbcca8d44455310/expr.ipynb\"><img src=\"data:image/png;base64,iVBORw0KGgoAAAANSUhEUgAAAJEAAAAVBAMAAAC01xHeAAAAMFBMVEX////MzMxUVFRERES6uroi\n",
       "IiIQEBCYmJhmZmYyMjLu7u52dnaqqqqIiIjc3NwAAACW8nlqAAAAAXRSTlMAQObYZgAAAAlwSFlz\n",
       "AAAOxAAADsQBlSsOGwAAAiBJREFUOMt1VE1IG0EU/tQ1P2tMcvGq3qS0Qk6lF1tP9SQGcb3oQWht\n",
       "QbAslNJ6yyWU2kOCF4unRcFrgiCIIuSiIKKGggiKIhWPBYVe1LT0vdnE5G1mBnZ+3nzvm/fefLMA\n",
       "LqFvcZ3RAFbmzpKBySo320zgYe72dTsr09SdNNs1YPt5mk5waZLXHvKDvqjX5KUDRzPULQERV2RU\n",
       "W1XoC2eCTgI8VB0TnPEXICSgsWptrHvuZ+obe6qmAnxQHUc49JCHPS1TR5r7xUf7p3mfT8e0rlJ0\n",
       "8Z3HX9u/JVO0/yfFvFZzOt70RwXePkkKpoXzZ3R0rzrX+oBXnmAqLNn/gLlqnddremDwdSmSamSy\n",
       "77zCJcJ5TNJi1UVWxnTkYRbY9RWafawzgycQKjcyxe7ZEJvCW1rkeJ9uxnHGpx2nl6bfgAegR0Gf\n",
       "1NVI4Ii6C2Qd553jjLJXHokiWm4U0xvYf2RME7BIB681TKFUoOLtRYyUYE1xwPZfhG8kU0WdvaPJ\n",
       "rlAOMJGcch5iaQwQUwWt+UPBdMu1w8dgxQmcIPugYEra70nFKXXTA9jJZARTH17ULp2pjk/9CYHp\n",
       "4jqEClrdNvKNFNFFi+Wz7v6kYFre4IzG6sr0BcXgrc+nIjv76Veu1iDakzqN+wVK1+dz6rUI8EGj\n",
       "43XwmVqu6b2qJsBDjTsc10uY2lWzyQSOszZWjEwaNxO4jZOPlw27nZp/tgl8AfwHz5WSRngE1LEA\n",
       "AAAASUVORK5CYII=\n",
       "\" style=\"display:inline;vertical-align:middle;\" /></a></span>"
      ],
      "text/plain": [
       "{b in Real, a in Real, c in Real, a < c} |- (a + b) < (c + b)"
      ]
     },
     "execution_count": 97,
     "metadata": {},
     "output_type": "execute_result"
    }
   ],
   "source": [
    "term_relations = [Less(a, c), Less(b, d)]\n",
    "assumptions = term_relations + [InSet(a, Real), InSet(b, Real), InSet(c, Real), InSet(d, Real)]\n",
    "Add(a, b).deduce_bound(term_relations[0], assumptions=assumptions)"
   ]
  },
  {
   "cell_type": "code",
   "execution_count": 98,
   "metadata": {},
   "outputs": [
    {
     "data": {
      "text/html": [
       "<span style=\"font-size:20px;\"><a class=\"ProveItLink\" href=\"../../ordering/__pv_it/theorems/4aa8d696b1f407d6126de9f51a052e8d90e0848c0/expr.ipynb\"><img src=\"data:image/png;base64,iVBORw0KGgoAAAANSUhEUgAAADMAAAAQBAMAAABJt1qBAAAAMFBMVEX////MzMwyMjKqqqoiIiJm\n",
       "ZmaYmJju7u5EREQQEBC6urqIiIh2dnZUVFTc3NwAAAAqL9KcAAAAAXRSTlMAQObYZgAAAAlwSFlz\n",
       "AAAOxAAADsQBlSsOGwAAAM1JREFUGNNjYMAASTP6VWYkMGAFDW8Z1mYUYJd6w8DBeAGXFOsDBRSh\n",
       "HS4uCnCpBmSZRdsRunjLQQby3dm3ASTAp45koITRAyBj5QOO7yABpgdwqZcqX0AmsE9jYHUASyE5\n",
       "I60IRLN+YGA5AGJIugBBA0SKowzkZc4GhvoFIIEKJF2MAe1Aun4DQz5YgAXZX4EvQFIGDJeYQS7g\n",
       "3oAkVcENNJFjA7MrK1hEGS71lIEtoQvowtsH324Ei9R2FcBCvo+hQ98AOTjWtLgghxwApbZCEcpv\n",
       "FP8AAAAASUVORK5CYII=\n",
       "\" style=\"display:inline;vertical-align:middle;\" /></a>, <a class=\"ProveItLink\" href=\"../../ordering/__pv_it/theorems/6e5cad5b2984ed0d75bd47bd0c542ec447a4f3570/expr.ipynb\"><img src=\"data:image/png;base64,iVBORw0KGgoAAAANSUhEUgAAADEAAAAQBAMAAABNQoq8AAAAMFBMVEX///+YmJjMzMzc3NyIiIhU\n",
       "VFR2dna6urqqqqpmZmYyMjIiIiIQEBBERETu7u4AAAD7tRWPAAAAAXRSTlMAQObYZgAAAAlwSFlz\n",
       "AAAOxAAADsQBlSsOGwAAANZJREFUGNNjYEAHUmfvrz4rAGTw3dmAJnXBlKFU9gGQwTUBXcaMgZcp\n",
       "AMjgb8CU4TRYAGTUP4CK+O7evQAucwHIyIZKVPkh9LC+A5m21CUCxGdeh2SabpcB0G2/Hrw3ADnE\n",
       "AC5js/o3SD/HPwYeB5AMkgsEX4FozgUM/AlAWmc3EFyAyPA+BPmUO4GhHuTut0h6mCbcg3hnPsjd\n",
       "3Mj+mWQLklHgOwjiszggybxlARrHKsALCZ4VcBlLBkaB60BXh02ECDy9/gAW1pcZ7q5HDrOy25DQ\n",
       "gQIAY/lDzDbeA58AAAAASUVORK5CYII=\n",
       "\" style=\"display:inline;vertical-align:middle;\" /></a>, <a class=\"ProveItLink\" href=\"../__pv_it/demonstrations/41c3ad9f29c40b69fd61c49f41684c1b813e9e850/expr.ipynb\"><img src=\"data:image/png;base64,iVBORw0KGgoAAAANSUhEUgAAADMAAAAQBAMAAABJt1qBAAAAMFBMVEX///+YmJhERESIiIhUVFTc\n",
       "3NwiIiJ2dnbu7u66urqqqqpmZmYQEBAyMjLMzMwAAAA7oY0NAAAAAXRSTlMAQObYZgAAAAlwSFlz\n",
       "AAAOxAAADsQBlSsOGwAAANxJREFUGNNjYMAAsof0rx0SgLD57mxAkVMIYZgi1ABh8y9AlQpnYOJz\n",
       "gLDnN6BLcQdcgLDLIJRRWtoFuJQCROw2mJxrgdDF0gEykNXd7hdIgPUGkoGP1gYAGXMCmH6ABHgD\n",
       "4FIx176BTOA4yMANtoEXyRmCvSCa+wMDWwGI8SYNCBQgUkyNIC/zKDD0TwAJNCHp4tugAaT7DRjk\n",
       "wQJsyP7aFwSSWsDgywVyAbMBklQTM9BEJgOubG6wyC24VDQDo4Am0IXOdSF2YJEWzQZYyKsyKN1H\n",
       "CdfpamkXkLgAdQoz5LsD3PAAAAAASUVORK5CYII=\n",
       "\" style=\"display:inline;vertical-align:middle;\" /></a>, <a class=\"ProveItLink\" href=\"../__pv_it/demonstrations/23fd8ccee81d3b6ba487f212961ed277aff750ff0/expr.ipynb\"><img src=\"data:image/png;base64,iVBORw0KGgoAAAANSUhEUgAAADAAAAAQBAMAAACigOGCAAAAMFBMVEX///8AAAAAAAAAAAAAAAAA\n",
       "AAAAAAAAAAAAAAAAAAAAAAAAAAAAAAAAAAAAAAAAAAAv3aB7AAAAD3RSTlMAELvv3c2ZVESJq3Yi\n",
       "MmZ3LnoBAAAACXBIWXMAAA7EAAAOxAGVKw4bAAAAwklEQVQY02NgVHZgwARXzRgYWBOwSDB8Z2Dg\n",
       "L8AizvGRgaFfAMFnj4EyOIHmT0GI87nBFIHMj9q9HMrj9oSKn5p9v4CB8auA/AEwV9IbZoENg74A\n",
       "A/tHBuYNIO4xP5iJwg8YUhkY2AIY+CcAeVzhcKvyGRg8GRhYJjD0F6BKGDEw/gB7I18AxSjG3wx8\n",
       "H4ASFxjtGFAsZ/zOwBVQw8D1gAkWJtLeEOdqM5QkJDAwrsxDeBDiEamdd1ZfQA0ivhgGggAAVKYn\n",
       "YGY5ThMAAAAASUVORK5CYII=\n",
       "\" style=\"display:inline;vertical-align:middle;\" /></a> <a class=\"ProveItLink\" href=\"../__pv_it/demonstrations/246398646bcea9eb9d0b55b409cfeaed5dc4f27d0/proof.ipynb\" style=\"text-decoration: none\">&nbsp;&#x22A2;&nbsp;&nbsp;</a><a class=\"ProveItLink\" href=\"../__pv_it/demonstrations/e95b6b6bd98a6b68ddad009322321b6ff6b413ff0/expr.ipynb\"><img src=\"data:image/png;base64,iVBORw0KGgoAAAANSUhEUgAAAJQAAAAVBAMAAABS/tqaAAAAMFBMVEX///8AAAAAAAAAAAAAAAAA\n",
       "AAAAAAAAAAAAAAAAAAAAAAAAAAAAAAAAAAAAAAAAAAAv3aB7AAAAD3RSTlMAInZUiRDNmWbv3US7\n",
       "qzJazP2FAAAACXBIWXMAAA7EAAAOxAGVKw4bAAACJ0lEQVQ4y3VUPWgUQRT+cuvmdu8nWdII4sFG\n",
       "U1jJKUFIqpBSiCxBBEG5ExFsAlsEkTS5yjRCkiKYv+KIgZgVw2FlqpzprJQYrM/GwiaH4WxsfG93\n",
       "7o6XnRnYmd3vzXzvfW/eWwAe9EOHDxj2JoZM2WD9qMGum6jyPk3jGoP9pU4+aincmtIT/XqDG3Sq\n",
       "qrMNhjQ9S8EPTEGdYzBAVvj+pNZhVr2UOvFSaOqfzHfghHDF3ttqPQpocoO+sifxsiLU+r3XS5SP\n",
       "NdzRUt2NVfbcOnsxq1U1UHE+nmOeb/J01JdUc9e+k69v6iuzm8SX5ayXpkcuUJWmzygfM0QGHHqF\n",
       "jqCy/wYVD44K4v5O1zmFmV/F10BQKeQV3tLBdWTrgsrqwPVhJam5/K6rI0fOH9awIKMi5AUtE9ii\n",
       "uNvIcegLUbQRRR9YSRXDUxhq887i015K3AawCOzyjija34wiToFCzpjKbaLSEFER81EZ+RUN1Tbs\n",
       "fzIqhRyywIqPZXmDVFaLAax6WqD9B05bUHWRSRwTVRk/LE9QtSh/cJoX0l7wYZ+jWL0lqBTymu6Q\n",
       "dlh7WRFVsVYI1d3zmN1J7oyr4xiTYSgEKmQev4n35F7ppiyGU26RXKNXoklhDZHix2M/T1qCSiHv\n",
       "kWvpqj0eV/qvTtI4B4Zq5zKvcxtq2jndvPFYMrQzVwd9fTb+GJspqGD64wJX6XlkMmrO2U0jFUc0\n",
       "4BuMoxpsxMSU8fAfu717zg4f7kMAAAAASUVORK5CYII=\n",
       "\" style=\"display:inline;vertical-align:middle;\" /></a></span>"
      ],
      "text/plain": [
       "{a in Real, b in Real, d in Real, b < d} |- (a + b) < (a + d)"
      ]
     },
     "execution_count": 98,
     "metadata": {},
     "output_type": "execute_result"
    }
   ],
   "source": [
    "Add(a, b).deduce_bound(term_relations[1], assumptions=assumptions)"
   ]
  },
  {
   "cell_type": "code",
   "execution_count": 99,
   "metadata": {},
   "outputs": [
    {
     "data": {
      "text/html": [
       "<span style=\"font-size:20px;\"><a class=\"ProveItLink\" href=\"../../ordering/__pv_it/theorems/6e5cad5b2984ed0d75bd47bd0c542ec447a4f3570/expr.ipynb\"><img src=\"data:image/png;base64,iVBORw0KGgoAAAANSUhEUgAAADEAAAAQBAMAAABNQoq8AAAAMFBMVEX///+YmJjMzMzc3NyIiIhU\n",
       "VFR2dna6urqqqqpmZmYyMjIiIiIQEBBERETu7u4AAAD7tRWPAAAAAXRSTlMAQObYZgAAAAlwSFlz\n",
       "AAAOxAAADsQBlSsOGwAAANZJREFUGNNjYEAHUmfvrz4rAGTw3dmAJnXBlKFU9gGQwTUBXcaMgZcp\n",
       "AMjgb8CU4TRYAGTUP4CK+O7evQAucwHIyIZKVPkh9LC+A5m21CUCxGdeh2SabpcB0G2/Hrw3ADnE\n",
       "AC5js/o3SD/HPwYeB5AMkgsEX4FozgUM/AlAWmc3EFyAyPA+BPmUO4GhHuTut0h6mCbcg3hnPsjd\n",
       "3Mj+mWQLklHgOwjiszggybxlARrHKsALCZ4VcBlLBkaB60BXh02ECDy9/gAW1pcZ7q5HDrOy25DQ\n",
       "gQIAY/lDzDbeA58AAAAASUVORK5CYII=\n",
       "\" style=\"display:inline;vertical-align:middle;\" /></a>, <a class=\"ProveItLink\" href=\"../../ordering/__pv_it/theorems/4aa8d696b1f407d6126de9f51a052e8d90e0848c0/expr.ipynb\"><img src=\"data:image/png;base64,iVBORw0KGgoAAAANSUhEUgAAADMAAAAQBAMAAABJt1qBAAAAMFBMVEX////MzMwyMjKqqqoiIiJm\n",
       "ZmaYmJju7u5EREQQEBC6urqIiIh2dnZUVFTc3NwAAAAqL9KcAAAAAXRSTlMAQObYZgAAAAlwSFlz\n",
       "AAAOxAAADsQBlSsOGwAAAM1JREFUGNNjYMAASTP6VWYkMGAFDW8Z1mYUYJd6w8DBeAGXFOsDBRSh\n",
       "HS4uCnCpBmSZRdsRunjLQQby3dm3ASTAp45koITRAyBj5QOO7yABpgdwqZcqX0AmsE9jYHUASyE5\n",
       "I60IRLN+YGA5AGJIugBBA0SKowzkZc4GhvoFIIEKJF2MAe1Aun4DQz5YgAXZX4EvQFIGDJeYQS7g\n",
       "3oAkVcENNJFjA7MrK1hEGS71lIEtoQvowtsH324Ei9R2FcBCvo+hQ98AOTjWtLgghxwApbZCEcpv\n",
       "FP8AAAAASUVORK5CYII=\n",
       "\" style=\"display:inline;vertical-align:middle;\" /></a>, <a class=\"ProveItLink\" href=\"../__pv_it/demonstrations/d550e8309ef79ca46e4c9fb5617a392ea678789b0/expr.ipynb\"><img src=\"data:image/png;base64,iVBORw0KGgoAAAANSUhEUgAAADEAAAAQBAMAAABNQoq8AAAAMFBMVEX///9UVFQyMjK6urru7u4Q\n",
       "EBBERERmZmaqqqoiIiLc3NzMzMyYmJiIiIh2dnYAAABC1PP/AAAAAXRSTlMAQObYZgAAAAlwSFlz\n",
       "AAAOxAAADsQBlSsOGwAAAL1JREFUGNNjYEAHh8LyNcMOMGADCQsZDI85YJVZx8DGLYBDhn2BArLI\n",
       "tZkzFeAyCUgSRlcQehhdwKa9vbMBSHKpIJm2rWkBkLGygR2klWkBXGap5k+w/nkMrBdAMkguOOME\n",
       "otm/QPhbZwJBAkSGzQfkU1aoK9yQ9HAXpABp/wsQPieyf6qXAWl+oEYDIM17AUnGjRcoCnQYH8jV\n",
       "DBpwmeUMPAeSgYx3ZyBedEx2gIV1FkOafgNSINhlzkQOLQDcXDjPgdalcwAAAABJRU5ErkJggg==\n",
       "\" style=\"display:inline;vertical-align:middle;\" /></a>, <a class=\"ProveItLink\" href=\"../__pv_it/demonstrations/dd86d1372efbf67698edf88c9b06d2401dec63b90/expr.ipynb\"><img src=\"data:image/png;base64,iVBORw0KGgoAAAANSUhEUgAAADAAAAAOBAMAAACbXIJpAAAAMFBMVEX////MzMwyMjKqqqoiIiJm\n",
       "ZmaYmJju7u5EREQQEBC6urqIiIh2dnZUVFTc3NwAAAAqL9KcAAAAAXRSTlMAQObYZgAAAAlwSFlz\n",
       "AAAOxAAADsQBlSsOGwAAAJVJREFUGNNjYCAOMOthF2dzLUBw+O7s2wBlcvtAxXl2JzIwrHzA8R3C\n",
       "rfGGqXVmiGBgn8bA6gDmPnWDGcJygGE2A+sHEA0EvMpw0+NBJnI2MNQvQJOYASLqNzDkM6Aaxf4b\n",
       "LGHAcIn5Aarl3xgYuBg4NjC7skIFqr0hzo1gYDjIwH774NuNcA9CPMJzLLsA3et6BEMNACzTIu4J\n",
       "PNLrAAAAAElFTkSuQmCC\n",
       "\" style=\"display:inline;vertical-align:middle;\" /></a>, <a class=\"ProveItLink\" href=\"../__pv_it/demonstrations/41c3ad9f29c40b69fd61c49f41684c1b813e9e850/expr.ipynb\"><img src=\"data:image/png;base64,iVBORw0KGgoAAAANSUhEUgAAADMAAAAQBAMAAABJt1qBAAAAMFBMVEX///+YmJhERESIiIhUVFTc\n",
       "3NwiIiJ2dnbu7u66urqqqqpmZmYQEBAyMjLMzMwAAAA7oY0NAAAAAXRSTlMAQObYZgAAAAlwSFlz\n",
       "AAAOxAAADsQBlSsOGwAAANxJREFUGNNjYMAAsof0rx0SgLD57mxAkVMIYZgi1ABh8y9AlQpnYOJz\n",
       "gLDnN6BLcQdcgLDLIJRRWtoFuJQCROw2mJxrgdDF0gEykNXd7hdIgPUGkoGP1gYAGXMCmH6ABHgD\n",
       "4FIx176BTOA4yMANtoEXyRmCvSCa+wMDWwGI8SYNCBQgUkyNIC/zKDD0TwAJNCHp4tugAaT7DRjk\n",
       "wQJsyP7aFwSSWsDgywVyAbMBklQTM9BEJgOubG6wyC24VDQDo4Am0IXOdSF2YJEWzQZYyKsyKN1H\n",
       "CdfpamkXkLgAdQoz5LsD3PAAAAAASUVORK5CYII=\n",
       "\" style=\"display:inline;vertical-align:middle;\" /></a>, <a class=\"ProveItLink\" href=\"../__pv_it/demonstrations/23fd8ccee81d3b6ba487f212961ed277aff750ff0/expr.ipynb\"><img src=\"data:image/png;base64,iVBORw0KGgoAAAANSUhEUgAAADAAAAAQBAMAAACigOGCAAAAMFBMVEX///8AAAAAAAAAAAAAAAAA\n",
       "AAAAAAAAAAAAAAAAAAAAAAAAAAAAAAAAAAAAAAAAAAAv3aB7AAAAD3RSTlMAELvv3c2ZVESJq3Yi\n",
       "MmZ3LnoBAAAACXBIWXMAAA7EAAAOxAGVKw4bAAAAwklEQVQY02NgVHZgwARXzRgYWBOwSDB8Z2Dg\n",
       "L8AizvGRgaFfAMFnj4EyOIHmT0GI87nBFIHMj9q9HMrj9oSKn5p9v4CB8auA/AEwV9IbZoENg74A\n",
       "A/tHBuYNIO4xP5iJwg8YUhkY2AIY+CcAeVzhcKvyGRg8GRhYJjD0F6BKGDEw/gB7I18AxSjG3wx8\n",
       "H4ASFxjtGFAsZ/zOwBVQw8D1gAkWJtLeEOdqM5QkJDAwrsxDeBDiEamdd1ZfQA0ivhgGggAAVKYn\n",
       "YGY5ThMAAAAASUVORK5CYII=\n",
       "\" style=\"display:inline;vertical-align:middle;\" /></a> <a class=\"ProveItLink\" href=\"../__pv_it/demonstrations/7152561fd8b388d8c36b830fd5bdf4cd70348e910/proof.ipynb\" style=\"text-decoration: none\">&nbsp;&#x22A2;&nbsp;&nbsp;</a><a class=\"ProveItLink\" href=\"../__pv_it/demonstrations/6b9ea4073a71fb23621995b95d3513ab2ec47c040/expr.ipynb\"><img src=\"data:image/png;base64,iVBORw0KGgoAAAANSUhEUgAAAJIAAAAVBAMAAABf4KrdAAAAMFBMVEX///8AAAAAAAAAAAAAAAAA\n",
       "AAAAAAAAAAAAAAAAAAAAAAAAAAAAAAAAAAAAAAAAAAAv3aB7AAAAD3RSTlMAInZUiRDNmWbv3US7\n",
       "qzJazP2FAAAACXBIWXMAAA7EAAAOxAGVKw4bAAACNklEQVQ4y3VUPUgcURD+7vbW3b0fXdIEQoTV\n",
       "pEglFwmCVkeqEIgsQQJCwp0EIU3gChGRgIeFNsE/CPmzOFQw2aAcVrHyYpdKUUl9aSzSKJELARtn\n",
       "dte7e7fvPdj3dufnm/nmzSwAG/Ilk8cUtr48nlVodySyOwrblEPbA4lC/1mmEKWIXMtJcU7f4x45\n",
       "FWS6jiJt4xHxM0VKF+hwYQiRv4dnF1Oej3hMtRJqOqbqMIuwBNP+8NxzabPcJq0x/1hqZeo0XhNU\n",
       "i3cYkCI99ik2opqbPqhWkCNxLV5hgu/wpMcRkV73HlOow/ArvhFkZ3DBE70LIlL3wzOqxRPCAnbt\n",
       "dF1A0v+5eRtmmMLI2nVsSjK2jjcCUmoZBxRoDuvk9wFGWUDS6rAcaEFZbn65ZpGk2MkcVgSk0RIm\n",
       "6RjEZ0r6nPXAtOd99LwtplFAVw6d52yZedmoh1UBZnyihud9/eR5TH8G2KDjjJGsKvIVIScC3ssi\n",
       "tSRBWm2v+Cr0S64Qs8s7WBTvjtqJYmvlKDv9bxsSCUzOfQj7hJTFL80WkGpUO5jVtoqnyfk/1VhA\n",
       "ukCmcB94S7dHBtqmIeSUKaWL4aXzeroWdAG3BV3csMBuH0NFMp7AH4I9Gu7uE7vghOciWWl0ZtBQ\n",
       "nUQ38WjWFZBe3P19VAO+IVmT9bi/bjVfzWBatuU9zs1d5tGTTHBkXoM1L59gbgv6+gHVf7AaEaVV\n",
       "/1fcpue5Silx06sqY84n5iiUPRLZDYVt3MYV9nF1GIr+BgQAAAAASUVORK5CYII=\n",
       "\" style=\"display:inline;vertical-align:middle;\" /></a></span>"
      ],
      "text/plain": [
       "{b in Real, a in Real, c in Real, a < c, d in Real, b < d} |- (a + b) < (c + d)"
      ]
     },
     "execution_count": 99,
     "metadata": {},
     "output_type": "execute_result"
    }
   ],
   "source": [
    "Add(a, b).deduce_bound(term_relations, assumptions=assumptions)"
   ]
  },
  {
   "cell_type": "code",
   "execution_count": 100,
   "metadata": {},
   "outputs": [
    {
     "data": {
      "text/html": [
       "<strong id=\"assumptions\">assumptions:</strong> <a class=\"ProveItLink\" href=\"../__pv_it/demonstrations/5eb4d267226e3aef7f4ef8af30d4753f95b33c9d0/expr.ipynb\"><img src=\"data:image/png;base64,iVBORw0KGgoAAAANSUhEUgAAAWIAAAAVBAMAAACOIvmEAAAAMFBMVEX////MzMxUVFRERES6uroi\n",
       "IiIQEBCYmJhmZmYyMjLu7u52dnaqqqqIiIjc3NwAAACW8nlqAAAAAXRSTlMAQObYZgAAAAlwSFlz\n",
       "AAAOxAAADsQBlSsOGwAAA8JJREFUSMfVl11IFFEUx886+zE77q5LUdSLCj1EljGgFkl+0INgPbhQ\n",
       "U5ZJDxZ9PMSCxGIvbQ8RFehgmBFmg1JhIbsVEhTCvhhsQWyECIYxKEURgVA9KBt078y9dz52Zh6k\n",
       "F+/Dzpn5zfmfc++c+7EAoML6aTH8E839P8HQnbqVo3vdaF9Py1BPci2QCfsL6OadZw7CnoTD063n\n",
       "XF7nYtX+7Y1uruIiHOhVXFxt0BaCCs8hXdl72MJpp6dF14yzIG5wcxV/AOerdsvYBouOwmEF+KR3\n",
       "xhVOReNf9ci4P+zmipLiVdk9YzO0haDCoTQETRUw7CDUoX+oCUvHyu3fO9ogHWfCnNWVQT0p0eb6\n",
       "UZJkB0hCUMqEL0De5Py0uzTjKdKbqYJHqfjvK8ZQ1IxZXRnESZU9sVVF+7wz1EMwyoSH4RZeM3Z+\n",
       "1vOJdrHSn56La9fBhV36g9lXFC1OV+Wo9VO7flcMYd/+UXJDXBnESW3Mq5YAsXuOkIQwKBN+DrgS\n",
       "2lSOVE2ok8h/yfHaFxJWlAyRuXSTjNlFaFGs1qghfP5UN5GgrqNGqX4d+kMHjQQIq06QChuUCffB\n",
       "SSR9FnhamJG7+ktdENSGPbJKDNTy/drlURJuALWuaYZsCL+8TG+oq2yaXKkJapMAYUdIQ4ShRPgN\n",
       "nAbglyGQZSU5iHvC05nKy1DBWHsN/h3A4cBs+c5IknSYfLzGlNXVgCgp7jGZwTTAZgQl0QaZsEGZ\n",
       "cBXOOChCppVlfBtnHKSTFnWlgy1S7dre0APCb/2eWoJoKrctnGJxNSBKypcm2wsNMO4EmfA4lAi3\n",
       "4arIFOAKJZFBrSoyBWNNHaAzJ79bS+8vhJbBaiVMwnylaHVNmJfcq0u6SQMEnCATDkCJ8Aw0Ie8c\n",
       "7IioZObp1wr0fVoFbMRRlZOZp5exUIQy+T0ozEJtwSQsiGgnVUyuC+akxqNJEGgAvDoVHCATNigV\n",
       "hl60WgBXiHTy1tUNzePyeAaVelmSS9tWtyaYSaeFFWppMyTHhNOQ4lo1Sl0ZBPEbhJL1gHW1APjZ\n",
       "iAM0hEfAKgxoNd6EulT7bPEDfjxp7CCvU/MQOIHYzuv6yM6y7o59qqyNg6RQC9NtB+kR65fK7Stq\n",
       "lLkSiI9nzVD3IId1tQCaWr1SCpkwpUwYjkAgbuzSx2z73VvDfGg/fkQsZzD/C7IRO1E7NOsCHGqQ\n",
       "ZFdYQmMJfLRwbVmPE1K55/nJm2bXDLWDW7P72bjg4TrpKexJPXU9IcCSZc2zt6iXq7ewJ42uGerj\n",
       "Gyuso/95URX+AXeiZ2PNiGLzAAAAAElFTkSuQmCC\n",
       "\" style=\"display:inline;vertical-align:middle;\" /></a><br>"
      ],
      "text/plain": [
       "assumptions: (a > c, b > d, a in Real, b in Real, c in Real, d in Real)"
      ]
     },
     "execution_count": 100,
     "metadata": {},
     "output_type": "execute_result"
    }
   ],
   "source": [
    "term_relations = [greater(a, c), greater(b, d)]\n",
    "assumptions = term_relations + [InSet(a, Real), InSet(b, Real), InSet(c, Real), InSet(d, Real)]"
   ]
  },
  {
   "cell_type": "code",
   "execution_count": 101,
   "metadata": {},
   "outputs": [
    {
     "data": {
      "text/html": [
       "<span style=\"font-size:20px;\"><a class=\"ProveItLink\" href=\"../../ordering/__pv_it/theorems/6e5cad5b2984ed0d75bd47bd0c542ec447a4f3570/expr.ipynb\"><img src=\"data:image/png;base64,iVBORw0KGgoAAAANSUhEUgAAADEAAAAQBAMAAABNQoq8AAAAMFBMVEX///+YmJjMzMzc3NyIiIhU\n",
       "VFR2dna6urqqqqpmZmYyMjIiIiIQEBBERETu7u4AAAD7tRWPAAAAAXRSTlMAQObYZgAAAAlwSFlz\n",
       "AAAOxAAADsQBlSsOGwAAANZJREFUGNNjYEAHUmfvrz4rAGTw3dmAJnXBlKFU9gGQwTUBXcaMgZcp\n",
       "AMjgb8CU4TRYAGTUP4CK+O7evQAucwHIyIZKVPkh9LC+A5m21CUCxGdeh2SabpcB0G2/Hrw3ADnE\n",
       "AC5js/o3SD/HPwYeB5AMkgsEX4FozgUM/AlAWmc3EFyAyPA+BPmUO4GhHuTut0h6mCbcg3hnPsjd\n",
       "3Mj+mWQLklHgOwjiszggybxlARrHKsALCZ4VcBlLBkaB60BXh02ECDy9/gAW1pcZ7q5HDrOy25DQ\n",
       "gQIAY/lDzDbeA58AAAAASUVORK5CYII=\n",
       "\" style=\"display:inline;vertical-align:middle;\" /></a>, <a class=\"ProveItLink\" href=\"../__pv_it/demonstrations/d550e8309ef79ca46e4c9fb5617a392ea678789b0/expr.ipynb\"><img src=\"data:image/png;base64,iVBORw0KGgoAAAANSUhEUgAAADEAAAAQBAMAAABNQoq8AAAAMFBMVEX///9UVFQyMjK6urru7u4Q\n",
       "EBBERERmZmaqqqoiIiLc3NzMzMyYmJiIiIh2dnYAAABC1PP/AAAAAXRSTlMAQObYZgAAAAlwSFlz\n",
       "AAAOxAAADsQBlSsOGwAAAL1JREFUGNNjYEAHh8LyNcMOMGADCQsZDI85YJVZx8DGLYBDhn2BArLI\n",
       "tZkzFeAyCUgSRlcQehhdwKa9vbMBSHKpIJm2rWkBkLGygR2klWkBXGap5k+w/nkMrBdAMkguOOME\n",
       "otm/QPhbZwJBAkSGzQfkU1aoK9yQ9HAXpABp/wsQPieyf6qXAWl+oEYDIM17AUnGjRcoCnQYH8jV\n",
       "DBpwmeUMPAeSgYx3ZyBedEx2gIV1FkOafgNSINhlzkQOLQDcXDjPgdalcwAAAABJRU5ErkJggg==\n",
       "\" style=\"display:inline;vertical-align:middle;\" /></a>, <a class=\"ProveItLink\" href=\"../../ordering/__pv_it/theorems/4aa8d696b1f407d6126de9f51a052e8d90e0848c0/expr.ipynb\"><img src=\"data:image/png;base64,iVBORw0KGgoAAAANSUhEUgAAADMAAAAQBAMAAABJt1qBAAAAMFBMVEX////MzMwyMjKqqqoiIiJm\n",
       "ZmaYmJju7u5EREQQEBC6urqIiIh2dnZUVFTc3NwAAAAqL9KcAAAAAXRSTlMAQObYZgAAAAlwSFlz\n",
       "AAAOxAAADsQBlSsOGwAAAM1JREFUGNNjYMAASTP6VWYkMGAFDW8Z1mYUYJd6w8DBeAGXFOsDBRSh\n",
       "HS4uCnCpBmSZRdsRunjLQQby3dm3ASTAp45koITRAyBj5QOO7yABpgdwqZcqX0AmsE9jYHUASyE5\n",
       "I60IRLN+YGA5AGJIugBBA0SKowzkZc4GhvoFIIEKJF2MAe1Aun4DQz5YgAXZX4EvQFIGDJeYQS7g\n",
       "3oAkVcENNJFjA7MrK1hEGS71lIEtoQvowtsH324Ei9R2FcBCvo+hQ98AOTjWtLgghxwApbZCEcpv\n",
       "FP8AAAAASUVORK5CYII=\n",
       "\" style=\"display:inline;vertical-align:middle;\" /></a>, <a class=\"ProveItLink\" href=\"../__pv_it/demonstrations/da2e2bd5e470732caa010f12d6cacc52043340bf0/expr.ipynb\"><img src=\"data:image/png;base64,iVBORw0KGgoAAAANSUhEUgAAADAAAAAOBAMAAACbXIJpAAAAMFBMVEX////MzMwyMjKqqqoiIiJm\n",
       "ZmaYmJju7u5EREQQEBC6urqIiIh2dnZUVFTc3NwAAAAqL9KcAAAAAXRSTlMAQObYZgAAAAlwSFlz\n",
       "AAAOxAAADsQBlSsOGwAAAJpJREFUGNNjYCAIihJwSLAf2YAqwHdnH1Rky3GYGM/uRAaGlQ84vkP5\n",
       "KeFQtc4MEQzs0xhYHWAqjeLAFMsBhtkMrB9ANAwsug4i4wuABGcDQ/0ChEQ7iJwBIuo3MOTDxY3u\n",
       "gd33GyxhwHCJ+QHUcogVDN8YGLgYODYwu7KiOTeCgeEgA/vtg283gg3YAvcgz7HsAoRHSxIYiAIA\n",
       "yzUoDJC4xmQAAAAASUVORK5CYII=\n",
       "\" style=\"display:inline;vertical-align:middle;\" /></a> <a class=\"ProveItLink\" href=\"../__pv_it/demonstrations/e55fc27495060d55813a8923286aabf0d143700d0/proof.ipynb\" style=\"text-decoration: none\">&nbsp;&#x22A2;&nbsp;&nbsp;</a><a class=\"ProveItLink\" href=\"../__pv_it/demonstrations/6b5f5c03337d9e7de937c02aba0502dd4ff3cfe80/expr.ipynb\"><img src=\"data:image/png;base64,iVBORw0KGgoAAAANSUhEUgAAAJEAAAAVBAMAAAC01xHeAAAAMFBMVEX////MzMxUVFRERES6uroi\n",
       "IiIQEBCYmJhmZmYyMjLu7u52dnaqqqqIiIjc3NwAAACW8nlqAAAAAXRSTlMAQObYZgAAAAlwSFlz\n",
       "AAAOxAAADsQBlSsOGwAAAilJREFUOMt1VE1IVFEU/tLn/DzHmdm4LXctSphVtLFc5SocwpfCFAj5\n",
       "A4HxoEW1exsJaeEwLhJXDwU3ITMEQSDCbBQkrKGNUBiiuBQU2miTeM6dN+/Nmbn3wrs/53znu+fv\n",
       "PgCH0I+0TmgAK3Ff1cBk1TplJvBjnr7pNGvTNO13yjVg+16ebnBpU9Reskxf0u+w0oGTHk0rQMIV\n",
       "ETVPdfriXruRAI8Ea4YjfgvEBDQV5Ma65Pml8uNjpBbgvWAdZddjPna1TL15nhscn56H6l0d0xcV\n",
       "oosPvB5tnUqm5OBP8vlzULBCM2EKvLWfFUylg7t09YC613qFh75gKq/YV8C7ABufCKgYfFJN5FqZ\n",
       "7Au/fIh4Ec/osO5iXvr0w8ccsBMGvdzoSAYXEKu1MqUuWZCaxBQdFllPlXGcp9OOM0DbBeAfcCuq\n",
       "aUl5ReCEqgXmHWfGcZ6wVRGZCm6cKaYXsP9KnwqwqA8eRUxLTaZYri3jPRWMVmFNssP2f8TPJFNd\n",
       "3b0dRlcKoyvX2pionRZ9pPIYIqY6uorfBdM55w6vw4wHD5fAGZIPC6asPUuQnKr0ELY9TzDdxv1m\n",
       "0Vu7gMBUuF7RBV1uN9kmKuinw+rvm4NZwbT6ld/FmNpvRJ3J4M03v0R09p33nK1h9GR1Pd74QalG\n",
       "t8cjiQDvtRqetD9TyzW910bCPM0LVoP9egDTOO4UmcBp7o01I5PGzATu5uKmawZtn+afbQL/Aa4B\n",
       "ZlCPqfTKm7EAAAAASUVORK5CYII=\n",
       "\" style=\"display:inline;vertical-align:middle;\" /></a></span>"
      ],
      "text/plain": [
       "{b in Real, c in Real, a in Real, a > c} |- (a + b) > (c + b)"
      ]
     },
     "execution_count": 101,
     "metadata": {},
     "output_type": "execute_result"
    }
   ],
   "source": [
    "Add(a, b).deduce_bound(term_relations[0], assumptions=assumptions)"
   ]
  },
  {
   "cell_type": "code",
   "execution_count": 102,
   "metadata": {},
   "outputs": [
    {
     "data": {
      "text/html": [
       "<span style=\"font-size:20px;\"><a class=\"ProveItLink\" href=\"../../ordering/__pv_it/theorems/4aa8d696b1f407d6126de9f51a052e8d90e0848c0/expr.ipynb\"><img src=\"data:image/png;base64,iVBORw0KGgoAAAANSUhEUgAAADMAAAAQBAMAAABJt1qBAAAAMFBMVEX////MzMwyMjKqqqoiIiJm\n",
       "ZmaYmJju7u5EREQQEBC6urqIiIh2dnZUVFTc3NwAAAAqL9KcAAAAAXRSTlMAQObYZgAAAAlwSFlz\n",
       "AAAOxAAADsQBlSsOGwAAAM1JREFUGNNjYMAASTP6VWYkMGAFDW8Z1mYUYJd6w8DBeAGXFOsDBRSh\n",
       "HS4uCnCpBmSZRdsRunjLQQby3dm3ASTAp45koITRAyBj5QOO7yABpgdwqZcqX0AmsE9jYHUASyE5\n",
       "I60IRLN+YGA5AGJIugBBA0SKowzkZc4GhvoFIIEKJF2MAe1Aun4DQz5YgAXZX4EvQFIGDJeYQS7g\n",
       "3oAkVcENNJFjA7MrK1hEGS71lIEtoQvowtsH324Ei9R2FcBCvo+hQ98AOTjWtLgghxwApbZCEcpv\n",
       "FP8AAAAASUVORK5CYII=\n",
       "\" style=\"display:inline;vertical-align:middle;\" /></a>, <a class=\"ProveItLink\" href=\"../__pv_it/demonstrations/41c3ad9f29c40b69fd61c49f41684c1b813e9e850/expr.ipynb\"><img src=\"data:image/png;base64,iVBORw0KGgoAAAANSUhEUgAAADMAAAAQBAMAAABJt1qBAAAAMFBMVEX///+YmJhERESIiIhUVFTc\n",
       "3NwiIiJ2dnbu7u66urqqqqpmZmYQEBAyMjLMzMwAAAA7oY0NAAAAAXRSTlMAQObYZgAAAAlwSFlz\n",
       "AAAOxAAADsQBlSsOGwAAANxJREFUGNNjYMAAsof0rx0SgLD57mxAkVMIYZgi1ABh8y9AlQpnYOJz\n",
       "gLDnN6BLcQdcgLDLIJRRWtoFuJQCROw2mJxrgdDF0gEykNXd7hdIgPUGkoGP1gYAGXMCmH6ABHgD\n",
       "4FIx176BTOA4yMANtoEXyRmCvSCa+wMDWwGI8SYNCBQgUkyNIC/zKDD0TwAJNCHp4tugAaT7DRjk\n",
       "wQJsyP7aFwSSWsDgywVyAbMBklQTM9BEJgOubG6wyC24VDQDo4Am0IXOdSF2YJEWzQZYyKsyKN1H\n",
       "CdfpamkXkLgAdQoz5LsD3PAAAAAASUVORK5CYII=\n",
       "\" style=\"display:inline;vertical-align:middle;\" /></a>, <a class=\"ProveItLink\" href=\"../../ordering/__pv_it/theorems/6e5cad5b2984ed0d75bd47bd0c542ec447a4f3570/expr.ipynb\"><img src=\"data:image/png;base64,iVBORw0KGgoAAAANSUhEUgAAADEAAAAQBAMAAABNQoq8AAAAMFBMVEX///+YmJjMzMzc3NyIiIhU\n",
       "VFR2dna6urqqqqpmZmYyMjIiIiIQEBBERETu7u4AAAD7tRWPAAAAAXRSTlMAQObYZgAAAAlwSFlz\n",
       "AAAOxAAADsQBlSsOGwAAANZJREFUGNNjYEAHUmfvrz4rAGTw3dmAJnXBlKFU9gGQwTUBXcaMgZcp\n",
       "AMjgb8CU4TRYAGTUP4CK+O7evQAucwHIyIZKVPkh9LC+A5m21CUCxGdeh2SabpcB0G2/Hrw3ADnE\n",
       "AC5js/o3SD/HPwYeB5AMkgsEX4FozgUM/AlAWmc3EFyAyPA+BPmUO4GhHuTut0h6mCbcg3hnPsjd\n",
       "3Mj+mWQLklHgOwjiszggybxlARrHKsALCZ4VcBlLBkaB60BXh02ECDy9/gAW1pcZ7q5HDrOy25DQ\n",
       "gQIAY/lDzDbeA58AAAAASUVORK5CYII=\n",
       "\" style=\"display:inline;vertical-align:middle;\" /></a>, <a class=\"ProveItLink\" href=\"../__pv_it/demonstrations/9f6013127c33e7427643bddb078ad86f3a5ee8e00/expr.ipynb\"><img src=\"data:image/png;base64,iVBORw0KGgoAAAANSUhEUgAAADAAAAAQBAMAAACigOGCAAAAMFBMVEX///+YmJjMzMzc3NyIiIhU\n",
       "VFR2dna6urqqqqpmZmYyMjIiIiIQEBBERETu7u4AAAD7tRWPAAAAAXRSTlMAQObYZgAAAAlwSFlz\n",
       "AAAOxAAADsQBlSsOGwAAAMdJREFUGNNj4LuzgQETaJ1kYOCagEWC4QcDA38DFnH2fwwM9Q/AzFcC\n",
       "yBJsQPOzIUy+bAckCZD5S10iIBzvPJiwaYp+AwPfrwfvDSB86XlQCw4z3H/AwPGPgQdmSNdkMPVG\n",
       "gGEWAwPnAgb+BJgZVXEgcj4DwzYGBu4Ehnq4g6vugcizDHzfwd6Y/wBmVDDYfV8YGD8AJRT4DkLF\n",
       "pSFW8P1gYF3QzMAqwDsBzblXGLonTGDgC5sIUecN9+BTN+UQBbhfXwswEAcAH+sw1xXTle4AAAAA\n",
       "SUVORK5CYII=\n",
       "\" style=\"display:inline;vertical-align:middle;\" /></a> <a class=\"ProveItLink\" href=\"../__pv_it/demonstrations/aeeccc5de8534e870d7972a0aa2f0a91a1a8c9090/proof.ipynb\" style=\"text-decoration: none\">&nbsp;&#x22A2;&nbsp;&nbsp;</a><a class=\"ProveItLink\" href=\"../__pv_it/demonstrations/da2d88f4d6bda7fb907d3c7c2f1ab64a2b30575d0/expr.ipynb\"><img src=\"data:image/png;base64,iVBORw0KGgoAAAANSUhEUgAAAJQAAAAVBAMAAABS/tqaAAAAMFBMVEX///8AAAAAAAAAAAAAAAAA\n",
       "AAAAAAAAAAAAAAAAAAAAAAAAAAAAAAAAAAAAAAAAAAAv3aB7AAAAD3RSTlMAInZUiRDNmWbv3US7\n",
       "qzJazP2FAAAACXBIWXMAAA7EAAAOxAGVKw4bAAACLklEQVQ4y3VUQUgUYRT+dBp3Z3fVwaO0MFaH\n",
       "8BBbhJAnEboIyZyCoti9BF2CCSzCi3tKCME8SFoeFgzEEUU8SJ7chA6dKrPO68VDF5dku3Tpvdl/\n",
       "xn3N/w/s/+9873/fe+/73xsALvSPDu8ynG0buksG644Gu2yiynu03NQY7M81ilFN4daYnujkDa6S\n",
       "V0Vn6wloeZSC75qSOkOPj4yI/UHt/Vz1bMrjhajp3DPfQjaAI87eUPu+T4vjR5l0xHotqvWSvxdI\n",
       "j0WMaKkmoiojEnsicbEqBirW4zGm+CaPhjxJ9eTSd4r1tf0yfFuhGVa9OD7wH1Vx/JT0uENkwJ5b\n",
       "aAkq+49fdpGNk3j1TAWnNPML+OILKoW8xCo5LiFTE1RWC44HK5Fm5Gm05Sj4vSqmZVaEPKftFt5R\n",
       "3k3kOPXpMFwOw02upIL+MfQ1EzF2f/DqbAMzwHs+EYbrb8OQJVDIKVM5dZS3RVbEvF9C/vzCdj/F\n",
       "VCuw/8qsFLLHBZY9zMsbpLaa8WHVkgK/xQXav5FtCqoYGcUBUZXw03IFVYP0Q7Yey96WCgUP9hl6\n",
       "K9cFlULm6A7phLWWEVn1VguBuvvOZuDuOMBoEIgCFTKFX8R7OFm8JpvhiEckFwloDyet2EcVP7xy\n",
       "fNgQVArZQK6h6/boGYzW+x2Ds2Xodm7zGo+hZpzTwxs9s4Zx5u6gt4/GD2M9BRVMX1zgIv0emIwa\n",
       "P7tupOKMujyDcUiDDZiYul38AwxWfHxjZe2NAAAAAElFTkSuQmCC\n",
       "\" style=\"display:inline;vertical-align:middle;\" /></a></span>"
      ],
      "text/plain": [
       "{a in Real, d in Real, b in Real, b > d} |- (a + b) > (a + d)"
      ]
     },
     "execution_count": 102,
     "metadata": {},
     "output_type": "execute_result"
    }
   ],
   "source": [
    "Add(a, b).deduce_bound(term_relations[1], assumptions=assumptions)"
   ]
  },
  {
   "cell_type": "code",
   "execution_count": 103,
   "metadata": {},
   "outputs": [
    {
     "data": {
      "text/html": [
       "<span style=\"font-size:20px;\"><a class=\"ProveItLink\" href=\"../__pv_it/demonstrations/d550e8309ef79ca46e4c9fb5617a392ea678789b0/expr.ipynb\"><img src=\"data:image/png;base64,iVBORw0KGgoAAAANSUhEUgAAADEAAAAQBAMAAABNQoq8AAAAMFBMVEX///9UVFQyMjK6urru7u4Q\n",
       "EBBERERmZmaqqqoiIiLc3NzMzMyYmJiIiIh2dnYAAABC1PP/AAAAAXRSTlMAQObYZgAAAAlwSFlz\n",
       "AAAOxAAADsQBlSsOGwAAAL1JREFUGNNjYEAHh8LyNcMOMGADCQsZDI85YJVZx8DGLYBDhn2BArLI\n",
       "tZkzFeAyCUgSRlcQehhdwKa9vbMBSHKpIJm2rWkBkLGygR2klWkBXGap5k+w/nkMrBdAMkguOOME\n",
       "otm/QPhbZwJBAkSGzQfkU1aoK9yQ9HAXpABp/wsQPieyf6qXAWl+oEYDIM17AUnGjRcoCnQYH8jV\n",
       "DBpwmeUMPAeSgYx3ZyBedEx2gIV1FkOafgNSINhlzkQOLQDcXDjPgdalcwAAAABJRU5ErkJggg==\n",
       "\" style=\"display:inline;vertical-align:middle;\" /></a>, <a class=\"ProveItLink\" href=\"../__pv_it/demonstrations/41c3ad9f29c40b69fd61c49f41684c1b813e9e850/expr.ipynb\"><img src=\"data:image/png;base64,iVBORw0KGgoAAAANSUhEUgAAADMAAAAQBAMAAABJt1qBAAAAMFBMVEX///+YmJhERESIiIhUVFTc\n",
       "3NwiIiJ2dnbu7u66urqqqqpmZmYQEBAyMjLMzMwAAAA7oY0NAAAAAXRSTlMAQObYZgAAAAlwSFlz\n",
       "AAAOxAAADsQBlSsOGwAAANxJREFUGNNjYMAAsof0rx0SgLD57mxAkVMIYZgi1ABh8y9AlQpnYOJz\n",
       "gLDnN6BLcQdcgLDLIJRRWtoFuJQCROw2mJxrgdDF0gEykNXd7hdIgPUGkoGP1gYAGXMCmH6ABHgD\n",
       "4FIx176BTOA4yMANtoEXyRmCvSCa+wMDWwGI8SYNCBQgUkyNIC/zKDD0TwAJNCHp4tugAaT7DRjk\n",
       "wQJsyP7aFwSSWsDgywVyAbMBklQTM9BEJgOubG6wyC24VDQDo4Am0IXOdSF2YJEWzQZYyKsyKN1H\n",
       "CdfpamkXkLgAdQoz5LsD3PAAAAAASUVORK5CYII=\n",
       "\" style=\"display:inline;vertical-align:middle;\" /></a>, <a class=\"ProveItLink\" href=\"../../ordering/__pv_it/theorems/6e5cad5b2984ed0d75bd47bd0c542ec447a4f3570/expr.ipynb\"><img src=\"data:image/png;base64,iVBORw0KGgoAAAANSUhEUgAAADEAAAAQBAMAAABNQoq8AAAAMFBMVEX///+YmJjMzMzc3NyIiIhU\n",
       "VFR2dna6urqqqqpmZmYyMjIiIiIQEBBERETu7u4AAAD7tRWPAAAAAXRSTlMAQObYZgAAAAlwSFlz\n",
       "AAAOxAAADsQBlSsOGwAAANZJREFUGNNjYEAHUmfvrz4rAGTw3dmAJnXBlKFU9gGQwTUBXcaMgZcp\n",
       "AMjgb8CU4TRYAGTUP4CK+O7evQAucwHIyIZKVPkh9LC+A5m21CUCxGdeh2SabpcB0G2/Hrw3ADnE\n",
       "AC5js/o3SD/HPwYeB5AMkgsEX4FozgUM/AlAWmc3EFyAyPA+BPmUO4GhHuTut0h6mCbcg3hnPsjd\n",
       "3Mj+mWQLklHgOwjiszggybxlARrHKsALCZ4VcBlLBkaB60BXh02ECDy9/gAW1pcZ7q5HDrOy25DQ\n",
       "gQIAY/lDzDbeA58AAAAASUVORK5CYII=\n",
       "\" style=\"display:inline;vertical-align:middle;\" /></a>, <a class=\"ProveItLink\" href=\"../__pv_it/demonstrations/9f6013127c33e7427643bddb078ad86f3a5ee8e00/expr.ipynb\"><img src=\"data:image/png;base64,iVBORw0KGgoAAAANSUhEUgAAADAAAAAQBAMAAACigOGCAAAAMFBMVEX///+YmJjMzMzc3NyIiIhU\n",
       "VFR2dna6urqqqqpmZmYyMjIiIiIQEBBERETu7u4AAAD7tRWPAAAAAXRSTlMAQObYZgAAAAlwSFlz\n",
       "AAAOxAAADsQBlSsOGwAAAMdJREFUGNNj4LuzgQETaJ1kYOCagEWC4QcDA38DFnH2fwwM9Q/AzFcC\n",
       "yBJsQPOzIUy+bAckCZD5S10iIBzvPJiwaYp+AwPfrwfvDSB86XlQCw4z3H/AwPGPgQdmSNdkMPVG\n",
       "gGEWAwPnAgb+BJgZVXEgcj4DwzYGBu4Ehnq4g6vugcizDHzfwd6Y/wBmVDDYfV8YGD8AJRT4DkLF\n",
       "pSFW8P1gYF3QzMAqwDsBzblXGLonTGDgC5sIUecN9+BTN+UQBbhfXwswEAcAH+sw1xXTle4AAAAA\n",
       "SUVORK5CYII=\n",
       "\" style=\"display:inline;vertical-align:middle;\" /></a>, <a class=\"ProveItLink\" href=\"../../ordering/__pv_it/theorems/4aa8d696b1f407d6126de9f51a052e8d90e0848c0/expr.ipynb\"><img src=\"data:image/png;base64,iVBORw0KGgoAAAANSUhEUgAAADMAAAAQBAMAAABJt1qBAAAAMFBMVEX////MzMwyMjKqqqoiIiJm\n",
       "ZmaYmJju7u5EREQQEBC6urqIiIh2dnZUVFTc3NwAAAAqL9KcAAAAAXRSTlMAQObYZgAAAAlwSFlz\n",
       "AAAOxAAADsQBlSsOGwAAAM1JREFUGNNjYMAASTP6VWYkMGAFDW8Z1mYUYJd6w8DBeAGXFOsDBRSh\n",
       "HS4uCnCpBmSZRdsRunjLQQby3dm3ASTAp45koITRAyBj5QOO7yABpgdwqZcqX0AmsE9jYHUASyE5\n",
       "I60IRLN+YGA5AGJIugBBA0SKowzkZc4GhvoFIIEKJF2MAe1Aun4DQz5YgAXZX4EvQFIGDJeYQS7g\n",
       "3oAkVcENNJFjA7MrK1hEGS71lIEtoQvowtsH324Ei9R2FcBCvo+hQ98AOTjWtLgghxwApbZCEcpv\n",
       "FP8AAAAASUVORK5CYII=\n",
       "\" style=\"display:inline;vertical-align:middle;\" /></a>, <a class=\"ProveItLink\" href=\"../__pv_it/demonstrations/da2e2bd5e470732caa010f12d6cacc52043340bf0/expr.ipynb\"><img src=\"data:image/png;base64,iVBORw0KGgoAAAANSUhEUgAAADAAAAAOBAMAAACbXIJpAAAAMFBMVEX////MzMwyMjKqqqoiIiJm\n",
       "ZmaYmJju7u5EREQQEBC6urqIiIh2dnZUVFTc3NwAAAAqL9KcAAAAAXRSTlMAQObYZgAAAAlwSFlz\n",
       "AAAOxAAADsQBlSsOGwAAAJpJREFUGNNjYCAIihJwSLAf2YAqwHdnH1Rky3GYGM/uRAaGlQ84vkP5\n",
       "KeFQtc4MEQzs0xhYHWAqjeLAFMsBhtkMrB9ANAwsug4i4wuABGcDQ/0ChEQ7iJwBIuo3MOTDxY3u\n",
       "gd33GyxhwHCJ+QHUcogVDN8YGLgYODYwu7KiOTeCgeEgA/vtg283gg3YAvcgz7HsAoRHSxIYiAIA\n",
       "yzUoDJC4xmQAAAAASUVORK5CYII=\n",
       "\" style=\"display:inline;vertical-align:middle;\" /></a> <a class=\"ProveItLink\" href=\"../__pv_it/demonstrations/a5135a0116884d044ecafdaf70ed99fdab7cbafe0/proof.ipynb\" style=\"text-decoration: none\">&nbsp;&#x22A2;&nbsp;&nbsp;</a><a class=\"ProveItLink\" href=\"../__pv_it/demonstrations/8a10208f79c6a95d7636550a3ceea2e03ccb629c0/expr.ipynb\"><img src=\"data:image/png;base64,iVBORw0KGgoAAAANSUhEUgAAAJIAAAAVBAMAAABf4KrdAAAAMFBMVEX///8AAAAAAAAAAAAAAAAA\n",
       "AAAAAAAAAAAAAAAAAAAAAAAAAAAAAAAAAAAAAAAAAAAv3aB7AAAAD3RSTlMAInZUiRDNmWbv3US7\n",
       "qzJazP2FAAAACXBIWXMAAA7EAAAOxAGVKw4bAAACPUlEQVQ4y3VUTUgbURD+4mbdbBJ16VEUVtuD\n",
       "eJBYilBPoVAQQdmT0NKSXAq9FFKwIkUw9FChlP5B6Y8eAgriiiI9SHsyFXroSWttz+nFQy9KJSJ4\n",
       "6czLZt3nvreQ97Lz883MNzMLwIH6UckTGlshb8lptJ8Usssa24xLxzWFwvxeoRDlmNzIK3EO3qGP\n",
       "nIoqXWuJjnsx8YQmpWO0erCkyJ+Du4NLnot5TEcLOnfM1JEqwZZMrwb3lkeH7Yk8IqFeRSt1w79J\n",
       "4uIthpRIo6JEgWGOhi5GUY3EXNzHJPdwv8eVkR70/qRQu42X/puB1GLCk70vZKTuG4fExRhhAV+c\n",
       "bF1CMk+8goNUM4Vnj4LYlGRiETMSUuY1doiGp1gkv/ewKhKSUYftwghpGXoorjTFTufxRkK6VcYU\n",
       "XdcxT0kfsR547PsffH+NyyiiI4/2o5CJzV982hvArGiD5fsrH32fy58Flug6ZCS7isKGlBMBb+WQ\n",
       "OW/V5rcm0sJFxhdgnjFDXF3BxUu5dzROFNuohNX9aFZn/ruARIIU5z6MbULK4bfhSEg14g6papPx\n",
       "Bk3IkvMpcSwhHaOtOAg8p+6RgbFsSTm1lbOloOnRKeCxoMaNS9VtY7hExpP4S7B7490D8hTs816k\n",
       "BXlmfziC7VRucuSJJyHdvfJnrwasIl1Tzbh4OsV5O7It6+oZ5+Gu8OopNji2r41nTr3BPBb09hW6\n",
       "72A1Jsrqvq/oot8dnVLhZlZ1xpxPwtUoexSySxrbFgf/AT7MdcbmZr2DAAAAAElFTkSuQmCC\n",
       "\" style=\"display:inline;vertical-align:middle;\" /></a></span>"
      ],
      "text/plain": [
       "{c in Real, d in Real, b in Real, b > d, a in Real, a > c} |- (a + b) > (c + d)"
      ]
     },
     "execution_count": 103,
     "metadata": {},
     "output_type": "execute_result"
    }
   ],
   "source": [
    "Add(a, b).deduce_bound(term_relations, assumptions=assumptions)"
   ]
  },
  {
   "cell_type": "code",
   "execution_count": 104,
   "metadata": {},
   "outputs": [
    {
     "data": {
      "text/html": [
       "<span style=\"font-size:20px;\"><a class=\"ProveItLink\" href=\"../../negation/__pv_it/theorems/5a0c211ed8c0f89e15d717d80d4627baae693acb0/expr.ipynb\"><img src=\"data:image/png;base64,iVBORw0KGgoAAAANSUhEUgAAAD8AAAATBAMAAADVH8ihAAAAMFBMVEX////MzMwyMjKqqqoiIiJm\n",
       "ZmaYmJju7u5EREQQEBC6urqIiIh2dnZUVFTc3NwAAAAqL9KcAAAAAXRSTlMAQObYZgAAAAlwSFlz\n",
       "AAAOxAAADsQBlSsOGwAAAN5JREFUKM9jYMADWBkIAA4yFSTN6FeZkYDPhIa3DGszCvApeMPAwXiB\n",
       "IaKjs6MjAYcC1gcKWEzY4eKiAFfQgKlg0XaECbzlF+AK+O7s2wCm1ZGskDB6AFew8gHHdxDN9ACu\n",
       "4KXKl+3wkGSfxsDqAFaA5Mi0IqTw/sDAcgDEkHQBggaIAo4yhPc4GxjqF4AYFUgmMAa0w3n1Gxjy\n",
       "wQwW5HAIfIFQYMBwiRnkPu4NSAoquOF2cGxgdoXEuzJcwVMGtoQuGI/99sG3G8Gs2q4CWGz2MXTo\n",
       "G2DGwZoWSFCjAAAaDkU0dYR17AAAAABJRU5ErkJggg==\n",
       "\" style=\"display:inline;vertical-align:middle;\" /></a>, <a class=\"ProveItLink\" href=\"../__pv_it/demonstrations/8c5864665d603ebc7e84fdb786d604e60f56fcc70/expr.ipynb\"><img src=\"data:image/png;base64,iVBORw0KGgoAAAANSUhEUgAAAD0AAAATBAMAAADR6hicAAAAMFBMVEX///9UVFQyMjK6urru7u4Q\n",
       "EBBERERmZmaqqqoiIiLc3NzMzMyYmJiIiIh2dnYAAABC1PP/AAAAAXRSTlMAQObYZgAAAAlwSFlz\n",
       "AAAOxAAADsQBlSsOGwAAAM9JREFUKM9jYMAN2BnwAzay5A+F5WuGHcCjP2Ehg+ExBzzy6xjYuAUY\n",
       "ytJS09IOYJdnX6CAqf/azJkKcPkEDHmjKwj9jC4CCPm3dzYASS4VJPO3NS2Ay69sYAcZxrQALr9U\n",
       "8+cVRPjNY2C9AJJHct8ZJ6RA/gKht84EggSIPJsPwl+sCRDaDUk/d0EKnOd/AUJzIvu/ehmcxw80\n",
       "ygBI815AknfjhVsAdDwfyH8MGnD55Qw8B5LhBrw7AwkYx2QHWPxlMaTpN2CEu10mJHxRAABI1jva\n",
       "YsbopQAAAABJRU5ErkJggg==\n",
       "\" style=\"display:inline;vertical-align:middle;\" /></a>, <a class=\"ProveItLink\" href=\"../__pv_it/demonstrations/47bc8cc554bef16e22bc6aac513e386b62872e270/expr.ipynb\"><img src=\"data:image/png;base64,iVBORw0KGgoAAAANSUhEUgAAAD8AAAATBAMAAADVH8ihAAAAMFBMVEX///+YmJhERESIiIhUVFTc\n",
       "3NwiIiJ2dnbu7u66urqqqqpmZmYQEBAyMjLMzMwAAAA7oY0NAAAAAXRSTlMAQObYZgAAAAlwSFlz\n",
       "AAAOxAAADsQBlSsOGwAAAPFJREFUKM9jYMADuBkIACYyFcge0r92SABZAd+dDSgqFEIYpgg1IJvA\n",
       "vwBVQTgDE58DwyYlHSUlsEkM8xvQFXAHXEA2oQxCGaWlXYArUEBWcBtMzrVAmMDS4QBXwOpu9wtM\n",
       "30Cy4tHaALiCOQFMP0A0bwBcQcy1bxbwkOQ4yMANtpkXyZGCvUjh/YGBrQDEeJMGBAoQBUyNAnAF\n",
       "PAoM/RNAjCYkE/g2aMB5/QYM8mAGG3I47AtCKFjA4MsFch+zAZKCJma4HUwGXNmQeL8FVxDNwCig\n",
       "CeNxONeF2IFZLZoNsNhUZVC6vwAznqerQYIaBQAAB/g1XnlcBd0AAAAASUVORK5CYII=\n",
       "\" style=\"display:inline;vertical-align:middle;\" /></a>, <a class=\"ProveItLink\" href=\"../../ordering/__pv_it/theorems/6e5cad5b2984ed0d75bd47bd0c542ec447a4f3570/expr.ipynb\"><img src=\"data:image/png;base64,iVBORw0KGgoAAAANSUhEUgAAADEAAAAQBAMAAABNQoq8AAAAMFBMVEX///+YmJjMzMzc3NyIiIhU\n",
       "VFR2dna6urqqqqpmZmYyMjIiIiIQEBBERETu7u4AAAD7tRWPAAAAAXRSTlMAQObYZgAAAAlwSFlz\n",
       "AAAOxAAADsQBlSsOGwAAANZJREFUGNNjYEAHUmfvrz4rAGTw3dmAJnXBlKFU9gGQwTUBXcaMgZcp\n",
       "AMjgb8CU4TRYAGTUP4CK+O7evQAucwHIyIZKVPkh9LC+A5m21CUCxGdeh2SabpcB0G2/Hrw3ADnE\n",
       "AC5js/o3SD/HPwYeB5AMkgsEX4FozgUM/AlAWmc3EFyAyPA+BPmUO4GhHuTut0h6mCbcg3hnPsjd\n",
       "3Mj+mWQLklHgOwjiszggybxlARrHKsALCZ4VcBlLBkaB60BXh02ECDy9/gAW1pcZ7q5HDrOy25DQ\n",
       "gQIAY/lDzDbeA58AAAAASUVORK5CYII=\n",
       "\" style=\"display:inline;vertical-align:middle;\" /></a> <a class=\"ProveItLink\" href=\"../__pv_it/demonstrations/99c90527010d75b6ab8d75cc5e27964f78a0cd2f0/proof.ipynb\" style=\"text-decoration: none\">&nbsp;&#x22A2;&nbsp;&nbsp;</a><a class=\"ProveItLink\" href=\"../__pv_it/demonstrations/19ecc285e8a2d431c5911ae026c7eafc9ea3d5510/expr.ipynb\"><img src=\"data:image/png;base64,iVBORw0KGgoAAAANSUhEUgAAAKcAAAAVBAMAAADROuOhAAAAMFBMVEX///8AAAAAAAAAAAAAAAAA\n",
       "AAAAAAAAAAAAAAAAAAAAAAAAAAAAAAAAAAAAAAAAAAAv3aB7AAAAD3RSTlMAInZUiRDNmWbv3US7\n",
       "qzJazP2FAAAACXBIWXMAAA7EAAAOxAGVKw4bAAAB+klEQVQ4y2NgYBBgIBsw4pJgMiDfUG4FHBIm\n",
       "2ARjZhFh5LPpDBroYqwnF4DIBKwa0olx6GcGtgB0MbYCIMHegOKfBrh6NAE42IFQ/JWBowBdmh8U\n",
       "mpwoQswKcPWoAghgBGexAH06FeznDIT0fpDbzbAaClJP0FCQTyHGhSyCC3qBiBIQIeskhGoG2yVd\n",
       "A1RDWZT6UA2VdXoPVOILTUJLYIGbq3QZYhX3RIbzAShmxKeyfkQRYFzMUINiKFRPG9QsjuUQA1i/\n",
       "BcQLMCwGsiIbGKpQXWofwDAJRYDLASoAMxSopwxIWcIDLh2ciZi/MnAqMMwGsuoZGJaAEsKqVStn\n",
       "rVp1AcgEqv+CIlAPcUjVqlUzV61ai9DzHpEWckFK2BMY+B3Ahs5hYP2N6tIlDNyfUQTmoEcUVM9O\n",
       "hKE5ARAf7TcAeZ/1EwPHB1RDPzOwf0UWACpBNRSmxwru/VwBaDIFeuoQUMFnBt4EQxRD/4HCDFng\n",
       "B9ApKIZC9fTAIwpSLvE/YJ0BSROHGKwKClDMuMFwHNXpwKj3Q/E+VE8JWpLibeABir4CsmJVHl56\n",
       "gGJGrHsDWm7waApAMRSqZzWYEwRP/KxXKkAh+wBbjsItgJSjQMkXnPNYV6CpQS0SMMoPfAUKRnGE\n",
       "AAcZKAAyOMRjKDEUl4sYFcg3kwl7/QYATzN9dHJAtXwAAAAASUVORK5CYII=\n",
       "\" style=\"display:inline;vertical-align:middle;\" /></a></span>"
      ],
      "text/plain": [
       "{a in RealPos, c in RealPos, d in RealPos, b in Real} |- (a + b + c + d) > b"
      ]
     },
     "execution_count": 104,
     "metadata": {},
     "output_type": "execute_result"
    }
   ],
   "source": [
    "Add(a, b, c, d).bound_by_term(\n",
    "    1, assumptions=[InSet(a, RealPos), InSet(b, Real), InSet(c, RealPos), InSet(d, RealPos)])"
   ]
  },
  {
   "cell_type": "code",
   "execution_count": 105,
   "metadata": {},
   "outputs": [
    {
     "data": {
      "text/html": [
       "<span style=\"font-size:20px;\"><a class=\"ProveItLink\" href=\"../../negation/__pv_it/theorems/d70a380bc05b43e909cb7708fe500d703d016a270/expr.ipynb\"><img src=\"data:image/png;base64,iVBORw0KGgoAAAANSUhEUgAAAD8AAAAQBAMAAABTi7oPAAAAMFBMVEX////MzMwyMjKqqqoiIiJm\n",
       "ZmaYmJju7u5EREQQEBC6urqIiIh2dnZUVFTc3NwAAAAqL9KcAAAAAXRSTlMAQObYZgAAAAlwSFlz\n",
       "AAAOxAAADsQBlSsOGwAAANRJREFUKM9jYMAASTP6VWYkMOABDW8Z1mYU4FPwhoGD8QKDRAcQPMCh\n",
       "gPWBAhaJHS4uCnAFDZjyi7YjTOAtvwAX57uzbwOYVkeyQsIIYfnKBxzfQTQTXKjhpcqX7XB59mkM\n",
       "rA5gBUiOTCtC2Mz6gYHlAIgh6QIEDRAFHGWIgOJsYKhfAGJUIJnAGNAO59VvYMgHM1iQwyHwBUKB\n",
       "AcMlZpD7uDcgKajghtvBsYHZlRXMUoYreMrAltAF98Xtg283glm1XQWw2Oxj6NA3wAzKNS0umDEA\n",
       "AAUQRSmiS78yAAAAAElFTkSuQmCC\n",
       "\" style=\"display:inline;vertical-align:middle;\" /></a>, <a class=\"ProveItLink\" href=\"../../division/__pv_it/theorems/885cc228aa47f4d61d07e1691f08d60a4b0eb17d0/expr.ipynb\"><img src=\"data:image/png;base64,iVBORw0KGgoAAAANSUhEUgAAAD0AAAAQBAMAAABXfmoyAAAAMFBMVEX///+YmJjMzMzc3NyIiIhU\n",
       "VFR2dna6urqqqqpmZmYyMjIiIiIQEBBERETu7u4AAAD7tRWPAAAAAXRSTlMAQObYZgAAAAlwSFlz\n",
       "AAAOxAAADsQBlSsOGwAAAOBJREFUGNNjYEAHUmfvrz4rAOfy3dmApuCCKUOp7AM4l2sCurwZAy9T\n",
       "AIPuXSAwYGDgb8CU5zRYAOfWw4zy3b17AVz+Alw+G0pX+SH0s74LgMsvdYkAUczrkMzX7TKAu//X\n",
       "g/cgDhdc5ILN6t9+cO0c/xh4HEDySO4TfIVwLecCBv4EIK2zGwguQOR5HyLChzuBoR7kw7dI+pkm\n",
       "3IPzgN6fD/IhN7L/J9ki5BX4DoJoFgck+bcscAtYBXghAbwCLm/JwChwHe6/sIkQxtPrD2Dxd5nh\n",
       "7voGjIgtu717AYYgAGEMR51YMKm3AAAAAElFTkSuQmCC\n",
       "\" style=\"display:inline;vertical-align:middle;\" /></a>, <a class=\"ProveItLink\" href=\"../__pv_it/demonstrations/9c6c52ba5891078b8630ed0cff8bb5268ec7f9270/expr.ipynb\"><img src=\"data:image/png;base64,iVBORw0KGgoAAAANSUhEUgAAAD8AAAAQBAMAAABTi7oPAAAAMFBMVEX///+YmJhERESIiIhUVFTc\n",
       "3NwiIiJ2dnbu7u66urqqqqpmZmYQEBAyMjLMzMwAAAA7oY0NAAAAAXRSTlMAQObYZgAAAAlwSFlz\n",
       "AAAOxAAADsQBlSsOGwAAAOZJREFUKM9jYMAAsof0rx0SQBbhu7MBRYVCCMMUoQZkEf4FqArCGZj4\n",
       "HBgeKQFBAFhkfgO6Au6AC8giZRDKKC3tAlyBArKC22ByrgXCBJYOB7gsq7vdLzB9A8mKR2sD4Arm\n",
       "BDD9ANG8cCGFmGvfLODyHAcZuME28yI5UrAXYT/3Bwa2AhDjTRoQKEAUMDUiAopHgaF/AojRhGQC\n",
       "3wYNOK/fgEEezGBDDod9QQgFCxh8uUDuYzZAUtDEDLeDyYArmxvMugVXEM3AKKAJ94VzXYgdmNWi\n",
       "2QCLTVUGpfsLMON5ulraBQxBAHN1NZ5Ja5ExAAAAAElFTkSuQmCC\n",
       "\" style=\"display:inline;vertical-align:middle;\" /></a>, <a class=\"ProveItLink\" href=\"../__pv_it/demonstrations/d550e8309ef79ca46e4c9fb5617a392ea678789b0/expr.ipynb\"><img src=\"data:image/png;base64,iVBORw0KGgoAAAANSUhEUgAAADEAAAAQBAMAAABNQoq8AAAAMFBMVEX///9UVFQyMjK6urru7u4Q\n",
       "EBBERERmZmaqqqoiIiLc3NzMzMyYmJiIiIh2dnYAAABC1PP/AAAAAXRSTlMAQObYZgAAAAlwSFlz\n",
       "AAAOxAAADsQBlSsOGwAAAL1JREFUGNNjYEAHh8LyNcMOMGADCQsZDI85YJVZx8DGLYBDhn2BArLI\n",
       "tZkzFeAyCUgSRlcQehhdwKa9vbMBSHKpIJm2rWkBkLGygR2klWkBXGap5k+w/nkMrBdAMkguOOME\n",
       "otm/QPhbZwJBAkSGzQfkU1aoK9yQ9HAXpABp/wsQPieyf6qXAWl+oEYDIM17AUnGjRcoCnQYH8jV\n",
       "DBpwmeUMPAeSgYx3ZyBedEx2gIV1FkOafgNSINhlzkQOLQDcXDjPgdalcwAAAABJRU5ErkJggg==\n",
       "\" style=\"display:inline;vertical-align:middle;\" /></a> <a class=\"ProveItLink\" href=\"../__pv_it/demonstrations/0cfb638e63ab20574dfaf20a6524c94055d0e5000/proof.ipynb\" style=\"text-decoration: none\">&nbsp;&#x22A2;&nbsp;&nbsp;</a><a class=\"ProveItLink\" href=\"../__pv_it/demonstrations/f45b9837d454aa6030586376427d5f7c616feec00/expr.ipynb\"><img src=\"data:image/png;base64,iVBORw0KGgoAAAANSUhEUgAAAKcAAAAVBAMAAADROuOhAAAAMFBMVEX///8AAAAAAAAAAAAAAAAA\n",
       "AAAAAAAAAAAAAAAAAAAAAAAAAAAAAAAAAAAAAAAAAAAv3aB7AAAAD3RSTlMAInZUiRDNmWbv3US7\n",
       "qzJazP2FAAAACXBIWXMAAA7EAAAOxAGVKw4bAAAB+klEQVQ4y6WVTShEURTH/2M+njFk1qIeUVI0\n",
       "JMWGRKRotorGRixngYWUyUKSiJLPxRQlT8qS3bCxpEmyHBsLGx9DKSXnvjfzrvO8h8bZ3Pv+99zf\n",
       "/Tjn3AcgiJzN5TSQF8odGlAdBhrtxIHNPyDv1lBtP+IdspVH/rLRNHxh2wElxs4TM/0tgmnH0vkV\n",
       "+VFbqJ99uVXTnwvSGsyeJw6syoEmGfEmW6jw/xXqo22Oml/z49JnTGTGVbnKGb5kbYhDPRWLHFrW\n",
       "/kAuvVlOTWem016d0pc6CRa+cmhk2PvEBNcOphg0sIwLitJsJtw92cVLQkoCO6SsQ4lzaGsYK0wo\n",
       "aMsIWWh/DBPUNBtLTprx3IVfxRYlwKOYQ62m7W9q2iV1yf+FCdNG7kxq2oamHQpBzAcedPnaLCBF\n",
       "PzJB/QlEjvhOdxFIM2HbGqhteN/FzVmgxCKj40dULFmCnc4smRW8zxYoCfmP1LZYjh/R/c+oE8K1\n",
       "O8igH+LOvgpvFBoGTaNoqB5YsASqmKYdiZwoVN17Ct/pDc65QKHvY8c/Q0s0amSkTq2pMu40AU8K\n",
       "9yQk+8rqOGOwK2aphu6ZMIMOVt4mU8CBTH4jUTvmiF6QsqsoZ+FLRYnLjMv+rCxT/iR8ez9+elC+\n",
       "PUfSTvEPK3XQB/4DddqRS82dmWf/f/sE75B0km0YEX0AAAAASUVORK5CYII=\n",
       "\" style=\"display:inline;vertical-align:middle;\" /></a></span>"
      ],
      "text/plain": [
       "{a in RealNeg, b in RealNeg, d in RealNeg, c in Real} |- (a + b + c + d) < c"
      ]
     },
     "execution_count": 105,
     "metadata": {},
     "output_type": "execute_result"
    }
   ],
   "source": [
    "Add(a, b, c, d).bound_by_term(\n",
    "    2, assumptions=[InSet(a, RealNeg), InSet(b, RealNeg), InSet(c, Real), InSet(d, RealNeg)])"
   ]
  },
  {
   "cell_type": "code",
   "execution_count": 106,
   "metadata": {},
   "outputs": [
    {
     "data": {
      "text/html": [
       "<span style=\"font-size:20px;\"><a class=\"ProveItLink\" href=\"../__pv_it/demonstrations/5a49c1d91f28aca05c3a7748e24771596ea841e40/expr.ipynb\"><img src=\"data:image/png;base64,iVBORw0KGgoAAAANSUhEUgAAAEYAAAAUBAMAAADCRlZLAAAAMFBMVEX///+YmJjMzMzc3NyIiIhU\n",
       "VFR2dna6urqqqqpmZmYyMjIiIiIQEBBERETu7u4AAAD7tRWPAAAAAXRSTlMAQObYZgAAAAlwSFlz\n",
       "AAAOxAAADsQBlSsOGwAAATdJREFUKM9jYMAFdAvAVJobA27Al9sAJBkd2C/gUcTgK8DAwKPA8Bmf\n",
       "GgZZBwb7BwwnMCWkzt5ffVYAwpYx0H/AsJGB784GNEUXTBlKZR+AWM+uMwDVHGFg4JqArsaMgZcp\n",
       "AMiwDGIA2fWDgYG/AVMNp8ECBgZToBKom+sfwLyxe/cCuJoLDE8ngzgsDuxAI7OhSqr8EOawvgtg\n",
       "eAfhpXkCzVjqEgFiM69Dsku3ywAlOH89eA8S4IKLXrBZ/dsPxYUc/xh4HEBqkNws+AoUX3eBAKKR\n",
       "cwEDfwKQ1tkNBBcgangfCqCYw53AUA/y/Vskc5gm3ENRAwye+SDfcyOHzyRbVDUKfAchAYGk5i0L\n",
       "imWsAryQyFgBV2PJwChwHcXvYRMhjKfXH8Di/TLD3fUNWFNL2W1IXGAAANC6XS1uoy9DAAAAAElF\n",
       "TkSuQmCC\n",
       "\" style=\"display:inline;vertical-align:middle;\" /></a>, <a class=\"ProveItLink\" href=\"../__pv_it/demonstrations/84cbcf197510cc837caa3d8421cfcaf73391b1600/expr.ipynb\"><img src=\"data:image/png;base64,iVBORw0KGgoAAAANSUhEUgAAAEYAAAAUBAMAAADCRlZLAAAAMFBMVEX///9UVFQyMjK6urru7u4Q\n",
       "EBBERERmZmaqqqoiIiLc3NzMzMyYmJiIiIh2dnYAAABC1PP/AAAAAXRSTlMAQObYZgAAAAlwSFlz\n",
       "AAAOxAAADsQBlSsOGwAAASBJREFUKM9jYMAFthmAqXf3GHADlmcNQJLnAnMCHkUM1w4wMLBuYPiF\n",
       "Tw3DsQsM6x0YIjAlDoXla4YdgLCPLtjvwDAHi+6EhQyGxxxALL9kBqCaWGxq1jGwcQsAGculGUB2\n",
       "/cCuhn2BAgPDQqASdDdfmzlTAa4mgcGxCsThvcAsgFBidAVhDqOLAIMLhPfuOshpb+9sAJJcKkh2\n",
       "bWtagGL9ygZ2UEgywUUTlmr+vILqxHkMrBdAapDcfMYJFF9pQADRyP4FIrN1JhAkQNSw+RxAMYYV\n",
       "GmVuSOZwF6SgqPG/AKE5kcOnehmKGn6gsQbggEBS48aLYhnQU3wgvzNowNUsZ+A5kIxi0LszEI86\n",
       "JjvA4j2LIU2/AWtqscuExAUGAAD9A1VPRCby3gAAAABJRU5ErkJggg==\n",
       "\" style=\"display:inline;vertical-align:middle;\" /></a>, <a class=\"ProveItLink\" href=\"../__pv_it/demonstrations/4ee54216f1cc7e85ae647f149b54da0bdd6d29820/expr.ipynb\"><img src=\"data:image/png;base64,iVBORw0KGgoAAAANSUhEUgAAAEgAAAAUBAMAAADcj2b4AAAAMFBMVEX///+YmJhERESIiIhUVFTc\n",
       "3NwiIiJ2dnbu7u66urqqqqpmZmYQEBAyMjLMzMwAAAA7oY0NAAAAAXRSTlMAQObYZgAAAAlwSFlz\n",
       "AAAOxAAADsQBlSsOGwAAATtJREFUKM9jYMAJHk0AU+XmDHgAR9ECIMlowKmATxWDkQADA88Dhq94\n",
       "FTEIGTDENzCcwiIje0j/2iEBCFsm4H0DQyKIxXdnA4oqhRCGKUINIFa7JgNQ0WGwKP8CVEXhDEx8\n",
       "DkBGtB8DyLpfYNH5DeiKuAMuMDCEANUgHF4G9Uxa2gW4IgWGlq0gDrMBpwNY9jaYnGuBMImlw4Gh\n",
       "A8Irtwbaw+puB7aU9QaSdY/WBqC4YE4A0w8QzQsXVoi59s0CNfAPMnCDXcKL5HDBXlDcKQEBRCf3\n",
       "Bwa2AhDjTRoQKEAUMTUKoJjEo8DQD47uJiST+DZooCjqN2CQBzPYkMNpXxCqogUMvlwB4ABBUtTE\n",
       "jGIfkwFXNjeYdQuuKJqBUUATxXfOdSF2YFaLZgMsFagyKN1fgD31TFeDRAsGAACt3UrSmLTBEQAA\n",
       "AABJRU5ErkJggg==\n",
       "\" style=\"display:inline;vertical-align:middle;\" /></a>, <a class=\"ProveItLink\" href=\"../../ordering/__pv_it/theorems/4aa8d696b1f407d6126de9f51a052e8d90e0848c0/expr.ipynb\"><img src=\"data:image/png;base64,iVBORw0KGgoAAAANSUhEUgAAADMAAAAQBAMAAABJt1qBAAAAMFBMVEX////MzMwyMjKqqqoiIiJm\n",
       "ZmaYmJju7u5EREQQEBC6urqIiIh2dnZUVFTc3NwAAAAqL9KcAAAAAXRSTlMAQObYZgAAAAlwSFlz\n",
       "AAAOxAAADsQBlSsOGwAAAM1JREFUGNNjYMAASTP6VWYkMGAFDW8Z1mYUYJd6w8DBeAGXFOsDBRSh\n",
       "HS4uCnCpBmSZRdsRunjLQQby3dm3ASTAp45koITRAyBj5QOO7yABpgdwqZcqX0AmsE9jYHUASyE5\n",
       "I60IRLN+YGA5AGJIugBBA0SKowzkZc4GhvoFIIEKJF2MAe1Aun4DQz5YgAXZX4EvQFIGDJeYQS7g\n",
       "3oAkVcENNJFjA7MrK1hEGS71lIEtoQvowtsH324Ei9R2FcBCvo+hQ98AOTjWtLgghxwApbZCEcpv\n",
       "FP8AAAAASUVORK5CYII=\n",
       "\" style=\"display:inline;vertical-align:middle;\" /></a> <a class=\"ProveItLink\" href=\"../__pv_it/demonstrations/b73aab432835b705d95af9059e8e06fc2be1b2000/proof.ipynb\" style=\"text-decoration: none\">&nbsp;&#x22A2;&nbsp;&nbsp;</a><a class=\"ProveItLink\" href=\"../__pv_it/demonstrations/d4e614594071453f102ac6d4db6d33c53bc7815c0/expr.ipynb\"><img src=\"data:image/png;base64,iVBORw0KGgoAAAANSUhEUgAAAKkAAAAVBAMAAADP89MSAAAAMFBMVEX///8AAAAAAAAAAAAAAAAA\n",
       "AAAAAAAAAAAAAAAAAAAAAAAAAAAAAAAAAAAAAAAAAAAv3aB7AAAAD3RSTlMAInZUiRDNmWbv3US7\n",
       "qzJazP2FAAAACXBIWXMAAA7EAAAOxAGVKw4bAAAB9klEQVQ4y2NgYBBgIBsw4pRhMiDfVG4FXDIm\n",
       "2ARjZhFh5rPpDBo4pFgTsAqnE+PUzwxsAWAzMtBl2BtQvNQA14AmAAc7EIq/MnAUgFkhi9AUcaLw\n",
       "mBXgGlAFEMAIzmJZwMAwFRo5SwJQFJlhNRWkgaCpbECHwvzOgWpsCYiQdRJCNYTtkq4BqqksSn2o\n",
       "pso6vQcq8YW7Jx2SQhmvKCpALOOeyHA+AMWQ+FTWjygCjIsZalBMheppQ4RyLtiInQI8wNBbDGRF\n",
       "NjBUobrVPoBhEooAlwNUAGYqUE8ZkLJEmJoDMpV1BgM7MPRmA5n1DAxLQMlh1aqVs1atugBkAjV8\n",
       "QRGoh/ilatWqmatWrUXoeQ8PgVxwCLB/ADkAbOocBtbfqG5dwsD9GUVgDnpsQfXshMXWcoi1nAcY\n",
       "4jeAQ4D1EwPHB1RTPzOwf0UWACpBNRWmxwotZcUrMPQDqUNAFZ8ZeBMMUUz9Bwo3ZIEfwIBDMRWq\n",
       "pwctF8QbMFxjFgAnjUMMVgUFKIbcYDiO6nhgAvBDCQGonhK0HMujwLycnYHhFZAZq/Lw0gMUQ2Ld\n",
       "G9CyhUdTAIqpUD2r0YuVS36yesAk8wBb3sItgJS3QMl4AfZyB1o+4CpM8JUuGGUTEjjIQAGQgXh7\n",
       "FRgg+zqGElNxOolRgXxDmXDUeQDwHH/IuqDTsgAAAABJRU5ErkJggg==\n",
       "\" style=\"display:inline;vertical-align:middle;\" /></a></span>"
      ],
      "text/plain": [
       "{b in RealNonNeg, c in RealNonNeg, d in RealNonNeg, a in Real} |- (a + b + c + d) >= a"
      ]
     },
     "execution_count": 106,
     "metadata": {},
     "output_type": "execute_result"
    }
   ],
   "source": [
    "Add(a, b, c, d).bound_by_term(\n",
    "    0, assumptions=[InSet(a, Real), InSet(b, RealNonNeg), InSet(c, RealNonNeg), InSet(d, RealNonNeg)])"
   ]
  },
  {
   "cell_type": "code",
   "execution_count": 107,
   "metadata": {},
   "outputs": [
    {
     "data": {
      "text/html": [
       "<span style=\"font-size:20px;\"><a class=\"ProveItLink\" href=\"../../negation/__pv_it/theorems/920e908aac1d27ffc5f20d5112616345b2d7d7690/expr.ipynb\"><img src=\"data:image/png;base64,iVBORw0KGgoAAAANSUhEUgAAAEgAAAAUBAMAAADcj2b4AAAAMFBMVEX////MzMwyMjKqqqoiIiJm\n",
       "ZmaYmJju7u5EREQQEBC6urqIiIh2dnZUVFTc3NwAAAAqL9KcAAAAAXRSTlMAQObYZgAAAAlwSFlz\n",
       "AAAOxAAADsQBlSsOGwAAASlJREFUKM9jYMALLB4wnNnDQEDNBga2DVwNeNVkJDAwcAow/MOnZocB\n",
       "kHhfwDAZi1zSjH6VGUAzJEFqGOQLGNywmdDwlmFtRgEDc08BRNFsrIreMHAwXmBg4AKpAlr3GYci\n",
       "1gcKQAbj1QcYDt/h4qIAVwT2N9/dAu4NXBeQ1CzajjCJtxwiw8fAcGYr0FK+O/s2gPnqSNZJGD1A\n",
       "ccHKBxzfQTQTXLjhpcqX7Shq2KcxsDqAFSE5PK0ISEl0AAFEJ+sHBpYDIIakCxA0QBRxlCWgmMTZ\n",
       "wFC/AMSoQDKJMaAdRVH9BoZ8MIMFOZwCX6AqMmC4xAyymXsDkqIKbhT7ODYwu7KCWcpwRU8Z2BK6\n",
       "UHx3++DbjWBWbVcBLBX0MXToG2BPP2taINGCAQAAX10FJNEZyAAAAABJRU5ErkJggg==\n",
       "\" style=\"display:inline;vertical-align:middle;\" /></a>, <a class=\"ProveItLink\" href=\"../__pv_it/demonstrations/ef31ab76b1665d54d012852a7775bae2ca16d98e0/expr.ipynb\"><img src=\"data:image/png;base64,iVBORw0KGgoAAAANSUhEUgAAAEYAAAAUBAMAAADCRlZLAAAAMFBMVEX///+YmJjMzMzc3NyIiIhU\n",
       "VFR2dna6urqqqqpmZmYyMjIiIiIQEBBERETu7u4AAAD7tRWPAAAAAXRSTlMAQObYZgAAAAlwSFlz\n",
       "AAAOxAAADsQBlSsOGwAAATVJREFUKM9jYMAHeg0Y0twY8CtxYGB0YL+AT4msAAMDjwLDZzxKfBuA\n",
       "hP0DhhOYUlJn768+CzRBB6SEQf8Bw0YGvjsb0BRdMGUolX3AwHHtAUTNEQYGrgnoaswYeJkCGBjY\n",
       "QYqAdv1gYOBvwFTDabAAyGCKNIC6uf4BzI27dy+AqwF7mDn0AYsDO9DIbKiSKj+EOazvAsBMZgaG\n",
       "NE+gGUtdIsDcdUh26XYZINvO9+vBe5AAF1z0gs3q334oLuT4x8DjAFKD5GbBV0BK9y4QQDRyLmDg\n",
       "TwDSOruB4AJEDe9DARRzuBMY6kG+f4tkDtOEeyhqgMEzH+R7buTwmWSLqkaB7yCIZnFAUvOWBcUy\n",
       "VgFeSGSsgKuxZGAUuI7i97CJEMbT6w9g8X6Z4e76Bqzppew2JC4wAACOOV3Lr7CF0AAAAABJRU5E\n",
       "rkJggg==\n",
       "\" style=\"display:inline;vertical-align:middle;\" /></a>, <a class=\"ProveItLink\" href=\"../__pv_it/demonstrations/2cd9230215602db1f965a727ff99482a36ab0fcd0/expr.ipynb\"><img src=\"data:image/png;base64,iVBORw0KGgoAAAANSUhEUgAAAEYAAAAUBAMAAADCRlZLAAAAMFBMVEX///9UVFQyMjK6urru7u4Q\n",
       "EBBERERmZmaqqqoiIiLc3NzMzMyYmJiIiIh2dnYAAABC1PP/AAAAAXRSTlMAQObYZgAAAAlwSFlz\n",
       "AAAOxAAADsQBlSsOGwAAARxJREFUKM9jYMAH2hYwvLvHgF/JBQaeC8wJ+JQcO8DAwLqB4RceJdca\n",
       "gMR6B4YITKlDYfmaYUATtoKUMOx3YJiDRX/CQgbDYw4MHHkOEDWx2NSsY2DjFmBgYAYpAtr1A7sa\n",
       "9gUKQAa3+AJ0N1+bOVMBrgbsYS5BB94LzAIIJUZXEOYwukAkuBgY3l0HOevtnQ0grgqSXduaFqBY\n",
       "v7KBHWQwE1w0YanmzyuoTpzHwHoBpAbJzWecgNS2NCCAaGT/ApHZOhMIEiBq2HwOoBjDCo0yNyRz\n",
       "uAtSUNT4X4DQnMjhU70MRQ0/0FgDIM17AUmNGy+KZUBP8YH8zqABV7OcgedAMopB785APOqY7ACL\n",
       "9yyGNP0GrOnFLhMSFxgAAF7wVFsLIIXvAAAAAElFTkSuQmCC\n",
       "\" style=\"display:inline;vertical-align:middle;\" /></a>, <a class=\"ProveItLink\" href=\"../__pv_it/demonstrations/41c3ad9f29c40b69fd61c49f41684c1b813e9e850/expr.ipynb\"><img src=\"data:image/png;base64,iVBORw0KGgoAAAANSUhEUgAAADMAAAAQBAMAAABJt1qBAAAAMFBMVEX///+YmJhERESIiIhUVFTc\n",
       "3NwiIiJ2dnbu7u66urqqqqpmZmYQEBAyMjLMzMwAAAA7oY0NAAAAAXRSTlMAQObYZgAAAAlwSFlz\n",
       "AAAOxAAADsQBlSsOGwAAANxJREFUGNNjYMAAsof0rx0SgLD57mxAkVMIYZgi1ABh8y9AlQpnYOJz\n",
       "gLDnN6BLcQdcgLDLIJRRWtoFuJQCROw2mJxrgdDF0gEykNXd7hdIgPUGkoGP1gYAGXMCmH6ABHgD\n",
       "4FIx176BTOA4yMANtoEXyRmCvSCa+wMDWwGI8SYNCBQgUkyNIC/zKDD0TwAJNCHp4tugAaT7DRjk\n",
       "wQJsyP7aFwSSWsDgywVyAbMBklQTM9BEJgOubG6wyC24VDQDo4Am0IXOdSF2YJEWzQZYyKsyKN1H\n",
       "CdfpamkXkLgAdQoz5LsD3PAAAAAASUVORK5CYII=\n",
       "\" style=\"display:inline;vertical-align:middle;\" /></a> <a class=\"ProveItLink\" href=\"../__pv_it/demonstrations/450716633be631d807401d720cebd4b2796e40a40/proof.ipynb\" style=\"text-decoration: none\">&nbsp;&#x22A2;&nbsp;&nbsp;</a><a class=\"ProveItLink\" href=\"../__pv_it/demonstrations/a95f111e995021fef170f67df057c5b1cb46122b0/expr.ipynb\"><img src=\"data:image/png;base64,iVBORw0KGgoAAAANSUhEUgAAAKgAAAAVBAMAAAAgMbgsAAAAMFBMVEX///8AAAAAAAAAAAAAAAAA\n",
       "AAAAAAAAAAAAAAAAAAAAAAAAAAAAAAAAAAAAAAAAAAAv3aB7AAAAD3RSTlMAInZUiRDNmWbv3US7\n",
       "qzJazP2FAAAACXBIWXMAAA7EAAAOxAGVKw4bAAAB/ElEQVQ4y6WVP0hCQRjAv7TX01R0C6LgFQVO\n",
       "8YoIcpJoCoo3BFEkGi0thYNEtOQUDUE0RH+HKMG6KBpr0tyaCotmWxpalKKWlr57T733PZ4geoN3\n",
       "/t6939199909AAhAw6Wl1gOH2rjUo9R4MGzDpMfTOpQf+xC0x1LMrn9bvJ6JfkObVv3jXBBYTpq7\n",
       "3ZVrv2oBYsWiv+cHXNXBXWlNYDd5ZahcZzQLEBMSYWzFGO1VdialmfCIrXQC6pDyGC0ZzekzEroE\n",
       "z4zXHoU6lntfLNKxYIFKu8eKGKNJvT1zUVXqmA91H/D+EIf0q0UDRNqpylki9ezCE654k7cjiyLO\n",
       "Oj5HxQHIp0TqxFgrRJqqgIp0NgmrWI3ytk9IDXwMIJegPYxgnbFDxq6xJcfAHybAWInM2OURY8/Y\n",
       "3OADARR13lFdvoFR6s5C9JbMFMfIqGbgzlo36gSkPx45y0YZGJcfVWCHbjam6YZmBlHFIpW+wFXC\n",
       "OkRTqoxz+IYKb06yL/4CxpkATPlbIv0GX2wQYJsmfxljTngVZ1omDl/SGycAt76VplQOQnHskxAJ\n",
       "vCLwJ+rzU90DNKVe1yzJP77VT2Ma6XvP4zBXlrNh4PaC3YmCek4UPzb2t5krbneh1AYecgHR60iU\n",
       "B2iidOm/c4yXGxOfb0Zaa0YtSuNOh/337R/Ru4Qp5PSbSgAAAABJRU5ErkJggg==\n",
       "\" style=\"display:inline;vertical-align:middle;\" /></a></span>"
      ],
      "text/plain": [
       "{a in RealNonPos, b in RealNonPos, c in RealNonPos, d in Real} |- (a + b + c + d) <= d"
      ]
     },
     "execution_count": 107,
     "metadata": {},
     "output_type": "execute_result"
    }
   ],
   "source": [
    "Add(a, b, c, d).bound_by_term(\n",
    "    3, assumptions=[InSet(a, RealNonPos), InSet(b, RealNonPos), InSet(c, RealNonPos), InSet(d, Real)])"
   ]
  },
  {
   "cell_type": "markdown",
   "metadata": {},
   "source": [
    "### Automation via canonical forms\n",
    "\n",
    "Two expressions that have the same canonical form can be proven to be equal via automation."
   ]
  },
  {
   "cell_type": "code",
   "execution_count": 108,
   "metadata": {},
   "outputs": [
    {
     "data": {
      "text/html": [
       "<strong id=\"defaults.assumptions\">defaults.assumptions:</strong> <a class=\"ProveItLink\" href=\"../__pv_it/demonstrations/ac951fedcec5967e00a5a9caa29dd87e93acc4260/expr.ipynb\"><img src=\"data:image/png;base64,iVBORw0KGgoAAAANSUhEUgAAARwAAAAZBAMAAAARYIzUAAAAMFBMVEX///8AAAAAAAAAAAAAAAAA\n",
       "AAAAAAAAAAAAAAAAAAAAAAAAAAAAAAAAAAAAAAAAAAAv3aB7AAAAD3RSTlMAZkRUmRDNuyLviTJ2\n",
       "3asqG0tJAAAACXBIWXMAAA7EAAAOxAGVKw4bAAADB0lEQVRIx82XTWgTQRTH/012s2mS2kRQD4p6\n",
       "UdCD5qJXc/EDPLgetAiSLNhCC1a31ZpeijmIRQ8lXuzFQgqCh+JNqF40HkSltQSsnxhMEVsoPdgW\n",
       "a7EKzsx+ZCbZ3a70koHs7sz77fzfzJt5swGwGQ1SUvQSTDWKO4P0crZRvEFTkVx6nAxd2ZVPPeu8\n",
       "7IPB1uHr3cNxv9Z3QDjvBCrhSmCmT2hqG1mfqS/6EA5sU61atCvlYcUUIBWc3SlAf4polpR+s63d\n",
       "B1Pvzm0o0YpdbU06WcdpFzkgo6J1t5s7J0Ji27IPxskdKafZ1YOqlzUUxzMBeFkua7aUIrwa+Gk+\n",
       "xAbK710Yu1iMIajb7Q89rZKON3wve19wI/+eFhQiJdOti6orY7tuMVRw05lqsNo9rbE8ZsktPP+K\n",
       "7jGEO7hARK90ChKhhSkW+JuqO4PI5HaBoYLjh3PGc3h+YtndagQgS277cgqLRChXdefu1y9inDMd\n",
       "8iq9d3ow4bc4LjDQb3X/tabcknG20o23hkuAfAcSi0SIW6ajWzRx4EdU3KN3zYNpKdQwZPwJK89S\n",
       "Gc3VykazhGmygn7Qfkh5UiZFNwPRlxCljgG/6QhGCPPBhTllTFaVIYLKaTPRWTLOVubwEp2dZh0Z\n",
       "tt3b+E38SBED8RkBGnlZ92CGzW51bvzRlJkqLRlnK5sdFqxMEbuMuebdkR7rNWlHYpEvuTPyH/Oh\n",
       "xGeWk4Pm4rNkHK1sVlcxR7gkZoN0FceKnJSsP7c5OgdrOMfmddKDWSS7Q2CoYFssDhmcTJ2V21mv\n",
       "Sb/F4LTE6heqUikkFCthyyvkMoOrxoZPujNkW40JDPQbaIr3IqNxMnVW+1TO07QtL4wNTbB6ule1\n",
       "TutfOeWafSyUSXP6vjEMeW6PKxMZ3aHyDD2z+5G9nGwhh7UtU2e1s3IFzcKZtX+grDlk2SC/YgMP\n",
       "zBT/P8whrN8DPbOcT/SaEtkw40eFnujRvA/u/EYZuejHnZ3k980HV9woE/P1dfqx8b6Vg4VGccdI\n",
       "iA3zP+so8A/ychhdJXBgpAAAAABJRU5ErkJggg==\n",
       "\" style=\"display:inline;vertical-align:middle;\" /></a><br>"
      ],
      "text/plain": [
       "defaults.assumptions: (a in RealNeg, b in RealNeg, c in Real, d in RealNeg)"
      ]
     },
     "execution_count": 108,
     "metadata": {},
     "output_type": "execute_result"
    }
   ],
   "source": [
    "defaults.assumptions = [InSet(a, RealNeg), InSet(b, RealNeg), InSet(c, Real), InSet(d, RealNeg)]"
   ]
  },
  {
   "cell_type": "code",
   "execution_count": 109,
   "metadata": {},
   "outputs": [
    {
     "data": {
      "text/html": [
       "<a class=\"ProveItLink\" href=\"../__pv_it/demonstrations/c5f8e6cc7c0fbf981c02009c3147d805757f244f0/expr.ipynb\"><img src=\"data:image/png;base64,iVBORw0KGgoAAAANSUhEUgAAAMMAAAAlBAMAAAANTEAGAAAAMFBMVEX///8AAAAAAAAAAAAAAAAA\n",
       "AAAAAAAAAAAAAAAAAAAAAAAAAAAAAAAAAAAAAAAAAAAv3aB7AAAAD3RSTlMAMs3vmVREEIndIqt2\n",
       "u2aBbGR5AAAACXBIWXMAAA7EAAAOxAGVKw4bAAACRElEQVRIx7VXQUvcQBh9MYm6iVn32JsLLfRQ\n",
       "hIWeCraK5OLBdY89Cl4FQ//Arsde7Jauh6UHc+hFW0EEYRXBeCgF8ZDSP7CCtwrdCu1CkW4niRl3\n",
       "ZrOd8TBzyebN9/K+fPPNmyygclitswBqx4rvdNUqjL2AUVcrYXSQq6mV0ENUl9VKVAP8ULza1Qr2\n",
       "TV+2+wYhCaoTmA1DNp/Pg9CqREcdr388jX9pD+cEsWYNljtdoNRvpBUn2vep2WRFEPAK2MX4b3o/\n",
       "EuX0+D4Sa158GeXzokAZOAKesjld8lEYBpDx+rYcvJ9QoATMejjxmZx0T0TrG48EsWYROAROCkxO\n",
       "I21ZCat1+oubGj+/YAAjcYEtynlyfkCi9gS0DDdMp6xNLDJAkq92Qzvq2qv6yBcFtH435GKJdc2w\n",
       "QNxxuT1aiS70AGZJQOPd0Gg23z1rNqPHLMXr2AfosZctJi8QTRUxWYPWEdDQi0an3w1T9ef8usUS\n",
       "+eQlGkm+axWMlgS0DDe8nRq74WPjQr2E5d9tC5KyWRfQMtwwnfpLdg8DOOSq1TDhpRIFsoLIh/g/\n",
       "LcMN0ylS9HUGiNpz23UXUo7dduZoKw+nDbrh3RM3rjwG0EhJtnq9a8pplaPyLQtoWX46dJu+zQrf\n",
       "FtLwYf6rwL4ocJklURbSrBBvZM9uJ+OIs0Ihzfahl2Q/iEI5Wf4LpAv7j+yJ8mkQOhOz7Drsn1A9\n",
       "ch3lElOBcon3yhWMULnEd+UK5PtrR7HEA+CLWgWr4bqK/8LkyLlaxD9jY8ChRliE+wAAAABJRU5E\n",
       "rkJggg==\n",
       "\" style=\"display:inline;vertical-align:middle;\" /></a>"
      ],
      "text/plain": [
       "d + c + (2 * b) + c + (a / 2)"
      ]
     },
     "metadata": {},
     "output_type": "display_data"
    },
    {
     "data": {
      "text/html": [
       "<a class=\"ProveItLink\" href=\"../__pv_it/demonstrations/54abb3d8b51e15d1c3b282dec0a6b970cd61af630/expr.ipynb\"><img src=\"data:image/png;base64,iVBORw0KGgoAAAANSUhEUgAAAP8AAAAyBAMAAABhUBCTAAAAMFBMVEX///8AAAAAAAAAAAAAAAAA\n",
       "AAAAAAAAAAAAAAAAAAAAAAAAAAAAAAAAAAAAAAAAAAAv3aB7AAAAD3RSTlMAInZUiRDNmWbv3US7\n",
       "qzJazP2FAAAACXBIWXMAAA7EAAAOxAGVKw4bAAAEOElEQVRYw71ZS2gTQRj+Nuk27zR6EYpCRQUP\n",
       "WqOIYC8NIgiCtidBUBKQooJiD2K0CObkA5S2ouATAyrViBo8iJ6MXgQPWov4AmkET14aWyuCYJ2Z\n",
       "zT7msUtEnCHdZf+dnfnmf3z/P1PgX1qyrpLu6Ieu9l4pTd/UNX8qR69fpQX36AJwnPyZ7w5IANrG\n",
       "9cxvjLLbKtnkt/QAiHf5AVivxw1PwQ9A+6AWAOd8ASS+6Zg/NOsLAPu1uMC4P4BeHU4wVfcHkO/S\n",
       "AOAD/AEkyxoAXA0AENXghemfAQDMn38xUkamuJaCwF5kXyZAPcGjsi9DWTmMW3Gh5Ih1/3Rtf0l+\n",
       "+0IWLZFFD+hlLbDg0Es3mV8il+UKje8V2C1WC4LXJ0nCORjFfXwBESLQzQKMGvqqjnA3pVKFWTsE\n",
       "TeUD6Xa4Kkq2AQvR9osXDgCRElIZxEYc2Qx1YnvwR27fJ/28ZCrQTs7bhG2fw8Br4CLf7QTRJPnN\n",
       "IuWETYIR7Pnm0xq372ZB0psNAuDoJ2wjIUu81o9J3mNj/VhHCpsyUr+dYoJRyB4ZwG5BMlwPAtAx\n",
       "LgAIF4CPwCT/VXsJBy1ebziiiZVkaVsEAMab7hkBwCpV9GHRhvkWgJoAIMLKN9x3u25YXqe10x7B\n",
       "oPkB85tVbHmne5xJzgoA+lT5JjGKV0weKwgA2pkvpKedrp3ZSA3RAq6zp7vePHaWlDQ8APMCIgUB\n",
       "wDEVgO0lDFkqLQsA4llvBiXtBmJdCI/gMtMPU1ieznEI+E40Qp+HKpWLlQrFFmkgnuMkxJrWOHO0\n",
       "Neyvj9GB2UwsrCKVyu1LlQqdNcbi8ihbzg/6imk03bAAnLE+GmTAEsTaj3kNENLJVwUNTIrlAf36\n",
       "CsxfHgAeDTAAUUsBYw6PJUaYCQhJzXNpgGLr4QGQ9D6MFkxgTiPaCDDBWhgZrmIIl/GM3L4Ay+wx\n",
       "flM74rQAIIu34YzghIooMGeQKqxWOmGS3NM5hGzYHWSWKqI1GnDGWLFYdndbz8n1IA8g2RUei4hh\n",
       "qOKBZ+gZZBQUE3mAblY6i8Uhuydxu7Y6Dc6vRDvEjWzA2LmJxssdIQomti7qboWIdi79PMHkHSIT\n",
       "pskS78/N/XC6bjxJtB6vIq4axyjLTChKepte6U2lHirOiVR8T8VbnZ68422RkpyMRMmU1YdPpQHJ\n",
       "6IQKAMlQeKqQL2yhIGkqmU+l8E9VSYXTGjQWdygGf9rKtsByGy6Vuk3OFKaigGGgDDmvhzKtHA5Y\n",
       "6+ZSqdsmZdF8WbT4X6ri6Kyji4b89oqGsnwmoDYypjVuTDypVOvGBEdcTpMdRMfW7Ekz/M+oYlTH\n",
       "5jQ+aNf78+SqXMf2vBkG3lSKALf4X0c0XCrVe0Rj6ZlLpQ7D6TkobM/5+qeeY7r0qN+b63oOKrHC\n",
       "R67rqLZ5WC23h9DVdqlNM6ANgPofFtv+xgX/AGn+CsvueIvrAAAAAElFTkSuQmCC\n",
       "\" style=\"display:inline;vertical-align:middle;\" /></a>"
      ],
      "text/plain": [
       "(2 * b) + d + ((1 / 2) * a) + (2 * c)"
      ]
     },
     "execution_count": 109,
     "metadata": {},
     "output_type": "execute_result"
    }
   ],
   "source": [
    "expr1 = Add(d, c, Mult(two, b), c, frac(a, two))\n",
    "display(expr1)\n",
    "expr1.canonical_form()"
   ]
  },
  {
   "cell_type": "code",
   "execution_count": 110,
   "metadata": {},
   "outputs": [
    {
     "data": {
      "text/html": [
       "<a class=\"ProveItLink\" href=\"../__pv_it/demonstrations/976b0fa7e0df8b0960dc0442bf3b9577a5b01d530/expr.ipynb\"><img src=\"data:image/png;base64,iVBORw0KGgoAAAANSUhEUgAAAOcAAAAlBAMAAABL+uOsAAAAMFBMVEX///8AAAAAAAAAAAAAAAAA\n",
       "AAAAAAAAAAAAAAAAAAAAAAAAAAAAAAAAAAAAAAAAAAAv3aB7AAAAD3RSTlMAIquJdkTvuxBmmd1U\n",
       "zTKBpmoTAAAACXBIWXMAAA7EAAAOxAGVKw4bAAACpUlEQVRYw8WXv2sTYRjHv9e0yeVy+UERHLJE\n",
       "0k2lAbsVJMUOClIyiJCpcamIgxnE1eDgJsmqi9lK0qHBQocemIjdXIKDii7xP8hQoUNLfN/Lvfe+\n",
       "b+6OO0N9+yyB732f93Pvc+9zzwXwi+W1K1AdS4/wsqEa+rqFPeU73QcOlEMfQ/+jmqmfIDlWDj3D\n",
       "wvCTaupzfGm3L2QlzSvlAqyv7vxeGV0I9L5XevAPJX/R82iZb+0Qi1mC1v0u3/9iKzo17VPv7CDE\n",
       "8ga4ithMJ/wIh1VnAVV+bXv62lpqzViYgA5wDdiRV3wXDj2WAVwgse4UsTxjYQJqwLMGVuWzE29E\n",
       "hq7DC/0pM1wLE8whcB1YlR9qmtRBK26UI0C/bt6QBa24dSYzXAsTjJL90+errd0bIVYAHuYSp+FQ\n",
       "/bzRzElQnucwuIVB0/azzZy4i+UHRh3JIfQnMHrhUPMU8bJ0FyRvKEG5hUFT9slKFdzFDqjDrMEY\n",
       "I0WroP+yaNDyZyc0qGnPsnYs6wOt1BDZkiQ4eYZlHT61rIJr4QLiFbrI7rQM1GuXJjNGvI5mJXyn\n",
       "BLA9EAUhz9kYt7Cd2tDkdKNH0xzaUDU0y3gf4fSSHtxviIKQ5zC4RSrvZ2isZZq2bvbQHOCmmQuH\n",
       "jshDlKA8j0FdC4MmyG+mhEXWmFlysCpI1skF88gI3+lCK9GWBCHPYXALg9LmyHe77qcPObqxEW0k\n",
       "feX28laElil2ZgSex1rGtTBohrRFfzI5dxe79fYuKbr/ERInw3HQ20KYJeUg4aPf6nn/3YmToRo0\n",
       "AYQv1laQ4Ptu7/hDvZNhzkj4nFCt7u/1ToZ5v7bq0W6EhncyzBs+/042gt19qA9hMqgLYTKoi91L\n",
       "YCYvY6PCZFB3jITJoCzEyaAspMnwH+IvhCPBd3AAwhYAAAAASUVORK5CYII=\n",
       "\" style=\"display:inline;vertical-align:middle;\" /></a>"
      ],
      "text/plain": [
       "a - (a / 2) + b + d + b + (2 * c)"
      ]
     },
     "metadata": {},
     "output_type": "display_data"
    },
    {
     "data": {
      "text/html": [
       "<a class=\"ProveItLink\" href=\"../__pv_it/demonstrations/54abb3d8b51e15d1c3b282dec0a6b970cd61af630/expr.ipynb\"><img src=\"data:image/png;base64,iVBORw0KGgoAAAANSUhEUgAAAP8AAAAyBAMAAABhUBCTAAAAMFBMVEX///8AAAAAAAAAAAAAAAAA\n",
       "AAAAAAAAAAAAAAAAAAAAAAAAAAAAAAAAAAAAAAAAAAAv3aB7AAAAD3RSTlMAInZUiRDNmWbv3US7\n",
       "qzJazP2FAAAACXBIWXMAAA7EAAAOxAGVKw4bAAAEOElEQVRYw71ZS2gTQRj+Nuk27zR6EYpCRQUP\n",
       "WqOIYC8NIgiCtidBUBKQooJiD2K0CObkA5S2ouATAyrViBo8iJ6MXgQPWov4AmkET14aWyuCYJ2Z\n",
       "zT7msUtEnCHdZf+dnfnmf3z/P1PgX1qyrpLu6Ieu9l4pTd/UNX8qR69fpQX36AJwnPyZ7w5IANrG\n",
       "9cxvjLLbKtnkt/QAiHf5AVivxw1PwQ9A+6AWAOd8ASS+6Zg/NOsLAPu1uMC4P4BeHU4wVfcHkO/S\n",
       "AOAD/AEkyxoAXA0AENXghemfAQDMn38xUkamuJaCwF5kXyZAPcGjsi9DWTmMW3Gh5Ih1/3Rtf0l+\n",
       "+0IWLZFFD+hlLbDg0Es3mV8il+UKje8V2C1WC4LXJ0nCORjFfXwBESLQzQKMGvqqjnA3pVKFWTsE\n",
       "TeUD6Xa4Kkq2AQvR9osXDgCRElIZxEYc2Qx1YnvwR27fJ/28ZCrQTs7bhG2fw8Br4CLf7QTRJPnN\n",
       "IuWETYIR7Pnm0xq372ZB0psNAuDoJ2wjIUu81o9J3mNj/VhHCpsyUr+dYoJRyB4ZwG5BMlwPAtAx\n",
       "LgAIF4CPwCT/VXsJBy1ebziiiZVkaVsEAMab7hkBwCpV9GHRhvkWgJoAIMLKN9x3u25YXqe10x7B\n",
       "oPkB85tVbHmne5xJzgoA+lT5JjGKV0weKwgA2pkvpKedrp3ZSA3RAq6zp7vePHaWlDQ8APMCIgUB\n",
       "wDEVgO0lDFkqLQsA4llvBiXtBmJdCI/gMtMPU1ieznEI+E40Qp+HKpWLlQrFFmkgnuMkxJrWOHO0\n",
       "Neyvj9GB2UwsrCKVyu1LlQqdNcbi8ihbzg/6imk03bAAnLE+GmTAEsTaj3kNENLJVwUNTIrlAf36\n",
       "CsxfHgAeDTAAUUsBYw6PJUaYCQhJzXNpgGLr4QGQ9D6MFkxgTiPaCDDBWhgZrmIIl/GM3L4Ay+wx\n",
       "flM74rQAIIu34YzghIooMGeQKqxWOmGS3NM5hGzYHWSWKqI1GnDGWLFYdndbz8n1IA8g2RUei4hh\n",
       "qOKBZ+gZZBQUE3mAblY6i8Uhuydxu7Y6Dc6vRDvEjWzA2LmJxssdIQomti7qboWIdi79PMHkHSIT\n",
       "pskS78/N/XC6bjxJtB6vIq4axyjLTChKepte6U2lHirOiVR8T8VbnZ68422RkpyMRMmU1YdPpQHJ\n",
       "6IQKAMlQeKqQL2yhIGkqmU+l8E9VSYXTGjQWdygGf9rKtsByGy6Vuk3OFKaigGGgDDmvhzKtHA5Y\n",
       "6+ZSqdsmZdF8WbT4X6ri6Kyji4b89oqGsnwmoDYypjVuTDypVOvGBEdcTpMdRMfW7Ekz/M+oYlTH\n",
       "5jQ+aNf78+SqXMf2vBkG3lSKALf4X0c0XCrVe0Rj6ZlLpQ7D6TkobM/5+qeeY7r0qN+b63oOKrHC\n",
       "R67rqLZ5WC23h9DVdqlNM6ANgPofFtv+xgX/AGn+CsvueIvrAAAAAElFTkSuQmCC\n",
       "\" style=\"display:inline;vertical-align:middle;\" /></a>"
      ],
      "text/plain": [
       "(2 * b) + d + ((1 / 2) * a) + (2 * c)"
      ]
     },
     "execution_count": 110,
     "metadata": {},
     "output_type": "execute_result"
    }
   ],
   "source": [
    "expr2 = Add(a, Neg(frac(a, two)), b, d, b, Mult(two, c))\n",
    "display(expr2)\n",
    "expr2.canonical_form()"
   ]
  },
  {
   "cell_type": "code",
   "execution_count": 111,
   "metadata": {},
   "outputs": [
    {
     "data": {
      "text/html": [
       "<span style=\"font-size:20px;\"><a class=\"ProveItLink\" href=\"../../negation/__pv_it/theorems/d70a380bc05b43e909cb7708fe500d703d016a270/expr.ipynb\"><img src=\"data:image/png;base64,iVBORw0KGgoAAAANSUhEUgAAAD8AAAAQBAMAAABTi7oPAAAAMFBMVEX////MzMwyMjKqqqoiIiJm\n",
       "ZmaYmJju7u5EREQQEBC6urqIiIh2dnZUVFTc3NwAAAAqL9KcAAAAAXRSTlMAQObYZgAAAAlwSFlz\n",
       "AAAOxAAADsQBlSsOGwAAANRJREFUKM9jYMAASTP6VWYkMOABDW8Z1mYU4FPwhoGD8QKDRAcQPMCh\n",
       "gPWBAhaJHS4uCnAFDZjyi7YjTOAtvwAX57uzbwOYVkeyQsIIYfnKBxzfQTQTXKjhpcqX7XB59mkM\n",
       "rA5gBUiOTCtC2Mz6gYHlAIgh6QIEDRAFHGWIgOJsYKhfAGJUIJnAGNAO59VvYMgHM1iQwyHwBUKB\n",
       "AcMlZpD7uDcgKajghtvBsYHZlRXMUoYreMrAltAF98Xtg283glm1XQWw2Oxj6NA3wAzKNS0umDEA\n",
       "AAUQRSmiS78yAAAAAElFTkSuQmCC\n",
       "\" style=\"display:inline;vertical-align:middle;\" /></a>, <a class=\"ProveItLink\" href=\"../__pv_it/demonstrations/9c6c52ba5891078b8630ed0cff8bb5268ec7f9270/expr.ipynb\"><img src=\"data:image/png;base64,iVBORw0KGgoAAAANSUhEUgAAAD8AAAAQBAMAAABTi7oPAAAAMFBMVEX///+YmJhERESIiIhUVFTc\n",
       "3NwiIiJ2dnbu7u66urqqqqpmZmYQEBAyMjLMzMwAAAA7oY0NAAAAAXRSTlMAQObYZgAAAAlwSFlz\n",
       "AAAOxAAADsQBlSsOGwAAAOZJREFUKM9jYMAAsof0rx0SQBbhu7MBRYVCCMMUoQZkEf4FqArCGZj4\n",
       "HBgeKQFBAFhkfgO6Au6AC8giZRDKKC3tAlyBArKC22ByrgXCBJYOB7gsq7vdLzB9A8mKR2sD4Arm\n",
       "BDD9ANG8cCGFmGvfLODyHAcZuME28yI5UrAXYT/3Bwa2AhDjTRoQKEAUMDUiAopHgaF/AojRhGQC\n",
       "3wYNOK/fgEEezGBDDod9QQgFCxh8uUDuYzZAUtDEDLeDyYArmxvMugVXEM3AKKAJ94VzXYgdmNWi\n",
       "2QCLTVUGpfsLMON5ulraBQxBAHN1NZ5Ja5ExAAAAAElFTkSuQmCC\n",
       "\" style=\"display:inline;vertical-align:middle;\" /></a>, <a class=\"ProveItLink\" href=\"../__pv_it/demonstrations/d550e8309ef79ca46e4c9fb5617a392ea678789b0/expr.ipynb\"><img src=\"data:image/png;base64,iVBORw0KGgoAAAANSUhEUgAAADEAAAAQBAMAAABNQoq8AAAAMFBMVEX///9UVFQyMjK6urru7u4Q\n",
       "EBBERERmZmaqqqoiIiLc3NzMzMyYmJiIiIh2dnYAAABC1PP/AAAAAXRSTlMAQObYZgAAAAlwSFlz\n",
       "AAAOxAAADsQBlSsOGwAAAL1JREFUGNNjYEAHh8LyNcMOMGADCQsZDI85YJVZx8DGLYBDhn2BArLI\n",
       "tZkzFeAyCUgSRlcQehhdwKa9vbMBSHKpIJm2rWkBkLGygR2klWkBXGap5k+w/nkMrBdAMkguOOME\n",
       "otm/QPhbZwJBAkSGzQfkU1aoK9yQ9HAXpABp/wsQPieyf6qXAWl+oEYDIM17AUnGjRcoCnQYH8jV\n",
       "DBpwmeUMPAeSgYx3ZyBedEx2gIV1FkOafgNSINhlzkQOLQDcXDjPgdalcwAAAABJRU5ErkJggg==\n",
       "\" style=\"display:inline;vertical-align:middle;\" /></a>, <a class=\"ProveItLink\" href=\"../../division/__pv_it/theorems/885cc228aa47f4d61d07e1691f08d60a4b0eb17d0/expr.ipynb\"><img src=\"data:image/png;base64,iVBORw0KGgoAAAANSUhEUgAAAD0AAAAQBAMAAABXfmoyAAAAMFBMVEX///+YmJjMzMzc3NyIiIhU\n",
       "VFR2dna6urqqqqpmZmYyMjIiIiIQEBBERETu7u4AAAD7tRWPAAAAAXRSTlMAQObYZgAAAAlwSFlz\n",
       "AAAOxAAADsQBlSsOGwAAAOBJREFUGNNjYEAHUmfvrz4rAOfy3dmApuCCKUOp7AM4l2sCurwZAy9T\n",
       "AIPuXSAwYGDgb8CU5zRYAOfWw4zy3b17AVz+Alw+G0pX+SH0s74LgMsvdYkAUczrkMzX7TKAu//X\n",
       "g/cgDhdc5ILN6t9+cO0c/xh4HEDySO4TfIVwLecCBv4EIK2zGwguQOR5HyLChzuBoR7kw7dI+pkm\n",
       "3IPzgN6fD/IhN7L/J9ki5BX4DoJoFgck+bcscAtYBXghAbwCLm/JwChwHe6/sIkQxtPrD2Dxd5nh\n",
       "7voGjIgtu717AYYgAGEMR51YMKm3AAAAAElFTkSuQmCC\n",
       "\" style=\"display:inline;vertical-align:middle;\" /></a> <a class=\"ProveItLink\" href=\"../__pv_it/demonstrations/90f11bc9d60b377dfc54a282366f38969d32cfa00/proof.ipynb\" style=\"text-decoration: none\">&nbsp;&#x22A2;&nbsp;&nbsp;</a><a class=\"ProveItLink\" href=\"../__pv_it/demonstrations/5bc8da1b2eecdd4218d46bca049b0acf7f6c79f50/expr.ipynb\"><img src=\"data:image/png;base64,iVBORw0KGgoAAAANSUhEUgAAAfUAAAAmBAMAAAAvux8XAAAAMFBMVEX///8AAAAAAAAAAAAAAAAA\n",
       "AAAAAAAAAAAAAAAAAAAAAAAAAAAAAAAAAAAAAAAAAAAv3aB7AAAAD3RSTlMAmVSrZs0y7xCJ3bsi\n",
       "RHYwvcNTAAAACXBIWXMAAA7EAAAOxAGVKw4bAAAGEUlEQVRo3sVZXWhcRRQ+d/9/k40miO2D+yLS\n",
       "UmIQ+xCV9JZafRA0YsBqX/ZFiiIkVbGltbogIlhkI2rBPMRNAmqC0i2CvkhdCVZIxeRB8M0sWmqF\n",
       "UpclLRGSxvm7c2fuzOy9JR0c0mxzZs4535k5M2e+WQAApwzW2ztVQ8cd8H80DudOu34Wp38BSH2h\n",
       "73SGtOLC8NWWTUwenMSo1dCLb8D3aJYP6HsP6sW/NfPrVlExOEeqVr2868IO9JHXbqzUca1O5jVw\n",
       "6lZRMTjP2U35ewDmcTjaKJOT+p3QhtykVVQUTsxucsFJyGwaT5X79TmXbkBtxS4sAsf2BN+ERBv/\n",
       "Z7mp6Z3XK9Va8JTlk57AGbe73TMdiI/uwTtMM8cpQ87VyrA31rS74TGchyMPb0YSBdt52F0q4XIy\n",
       "ofbFGwZgrdiMc1tCLJhEBM5aVDM9mpP693C1t/9+eaSCXXbUvl7XkCwjZxYv35bY/9AUXXJzwHBS\n",
       "Gyz9ni2FmNkF8MPANz6+b1EV6nGjw5hRRePR85q4C7YXjkp/nj4RHBCbhELf4YosvOTBoQcRXoOQ\n",
       "m21mFAoN+NQ/fpN4sg5Fj31AFd3KgZbUrU0gl55W7q4AFyG7GbBUZXDi3q1ulZ55vyopwpbWcSHe\n",
       "hLS/a8lk7Wd/GNX89o8KfW+Ue6EbWBvBcnFdlnSCQ/oBHgE4JltMlBictHehnqIfg0rasIt1Gv2s\n",
       "Q3yDd5DJSldD1IRaXlHiejVC7J6h1apqOVuXJMX14BC0Um9VYV9gax1ncHon5XwxBnEvypE6xG/w\n",
       "DjJZSTdy7OPqpvr3FmKf0lhm+8CTZOuBITGU1A8B7AvM+hiDQ4/awvDlTiCI6UsVyc7d5HeuzS08\n",
       "c+0B5G4oRE0o2uq5uOYTvdDYiTvJ8uI0m05Pkhz5UxY4dGHP+tay1x4D+JDBWS7LvMkLYqnsNCQ7\n",
       "Y3TxeEiZ69Vak5NAo5pQ0KhkxwJuc8DLHiN6IbFTd1KGcz1PUjuU2ZAng0x36qZf22dhJyOPCA6Z\n",
       "OsybAkHMQ7ol2Zklv+d8TOt4RGwiRE2IXbnYpToC0QuJnboTLSO9ATkTEDt4UxLkyMLm/DcCdIFH\n",
       "I+5jcFZXBN6E1uQYXROHpoGzsPD5iYUFrHyK/E0WtYbnCU0WUk+1Q9R6t3AjzpQiVdwUid7zJCHI\n",
       "jiE6bckQdSdaZnqCZICcIIIgTSryTpo3xBdJlHEGh6y7wJsGOZMK7LdTPuXPlegUrpahOBGiJqx7\n",
       "Sb/uHtHrvu7UnWjZ1/Mk81DsyLUJB5UY8q9WJ+nLiBi7wJsGOZMKBDFLr0k/C+UdzWKsHqLWbb+T\n",
       "2DnR6x47dSceAL6e56vj5Z2U87ug0PRJJW67GZxlV+ZNg/5Ne0Wycx79exHgCg+lgk4JSDSgu1q3\n",
       "y3thTSR6IbETd2Lsvp7n6wY+A0RBHn2mJqGnKhSWIsATDA5ZKYE3sSDQxs7KxQoVhsJMXx+/Vcfd\n",
       "fIlXEbOawJjLGm4vEL3usVN38mJ4ep7kQTgnD8EVeKmvzz9K0dY/w8o1gpMuybzJO7A/efSKbOcl\n",
       "lELoBOIPm5nhfpxVKyFqwt1GfYk5KhK9kBpH3ImWfT0u+cCVh6TQSp3d2rrul/ePnkQ58BWDkwxQ\n",
       "aOMFLafFtxSm5vMozfvUYVPAAmFUJlGdVfOQz7Scvs7gOIEnBSMpSWjzsj+Uy3AeNaVq32V6cRAI\n",
       "o0KKVJZkHrJf+xLqMjiJyE+V3+lBhjXOo77WcFjDfU4mjNt5mdI9EFz04GQ6Ue2cjmpbbpxHrWnf\n",
       "5fTvtBJh3M5rYcO4iBjOuchPXy1VdjVczeNRRU0wecP5LhPG7TQNS+ohK0HgPA7WG+FRWc1XXwlz\n",
       "YufadjEROLa/BPB4VFqT310us+Mtu6AInOyo7dgpj/pL1/WxUWnOMigK53XbsRMeBa9oZ990qXEa\n",
       "lkFROActe6E8qkebXsbvvw9YBsXgJF27biiP+klfDccMF1mBMFppDE7mS7snHeFRmVl973v6KREJ\n",
       "o43G4fxYtemG8qi8IbkK2i83JMJoo3E4hYrV4k541Pum7gvayiASRhuNwPkPyk7wqYGxi3EAAAAA\n",
       "SUVORK5CYII=\n",
       "\" style=\"display:inline;vertical-align:middle;\" /></a></span>"
      ],
      "text/plain": [
       "{a in RealNeg, d in RealNeg, c in Real, b in RealNeg} |- (d + c + (2 * b) + c + (a / 2)) = (a - (a / 2) + b + d + b + (2 * c))"
      ]
     },
     "execution_count": 111,
     "metadata": {},
     "output_type": "execute_result"
    }
   ],
   "source": [
    "Equals(expr1, expr2).prove()"
   ]
  },
  {
   "cell_type": "code",
   "execution_count": 112,
   "metadata": {},
   "outputs": [
    {
     "data": {
      "text/html": [
       "<span style=\"font-size:20px;\"><a class=\"ProveItLink\" href=\"../__pv_it/demonstrations/d550e8309ef79ca46e4c9fb5617a392ea678789b0/expr.ipynb\"><img src=\"data:image/png;base64,iVBORw0KGgoAAAANSUhEUgAAADEAAAAQBAMAAABNQoq8AAAAMFBMVEX///9UVFQyMjK6urru7u4Q\n",
       "EBBERERmZmaqqqoiIiLc3NzMzMyYmJiIiIh2dnYAAABC1PP/AAAAAXRSTlMAQObYZgAAAAlwSFlz\n",
       "AAAOxAAADsQBlSsOGwAAAL1JREFUGNNjYEAHh8LyNcMOMGADCQsZDI85YJVZx8DGLYBDhn2BArLI\n",
       "tZkzFeAyCUgSRlcQehhdwKa9vbMBSHKpIJm2rWkBkLGygR2klWkBXGap5k+w/nkMrBdAMkguOOME\n",
       "otm/QPhbZwJBAkSGzQfkU1aoK9yQ9HAXpABp/wsQPieyf6qXAWl+oEYDIM17AUnGjRcoCnQYH8jV\n",
       "DBpwmeUMPAeSgYx3ZyBedEx2gIV1FkOafgNSINhlzkQOLQDcXDjPgdalcwAAAABJRU5ErkJggg==\n",
       "\" style=\"display:inline;vertical-align:middle;\" /></a>, <a class=\"ProveItLink\" href=\"../../division/__pv_it/theorems/885cc228aa47f4d61d07e1691f08d60a4b0eb17d0/expr.ipynb\"><img src=\"data:image/png;base64,iVBORw0KGgoAAAANSUhEUgAAAD0AAAAQBAMAAABXfmoyAAAAMFBMVEX///+YmJjMzMzc3NyIiIhU\n",
       "VFR2dna6urqqqqpmZmYyMjIiIiIQEBBERETu7u4AAAD7tRWPAAAAAXRSTlMAQObYZgAAAAlwSFlz\n",
       "AAAOxAAADsQBlSsOGwAAAOBJREFUGNNjYEAHUmfvrz4rAOfy3dmApuCCKUOp7AM4l2sCurwZAy9T\n",
       "AIPuXSAwYGDgb8CU5zRYAOfWw4zy3b17AVz+Alw+G0pX+SH0s74LgMsvdYkAUczrkMzX7TKAu//X\n",
       "g/cgDhdc5ILN6t9+cO0c/xh4HEDySO4TfIVwLecCBv4EIK2zGwguQOR5HyLChzuBoR7kw7dI+pkm\n",
       "3IPzgN6fD/IhN7L/J9ki5BX4DoJoFgck+bcscAtYBXghAbwCLm/JwChwHe6/sIkQxtPrD2Dxd5nh\n",
       "7voGjIgtu717AYYgAGEMR51YMKm3AAAAAElFTkSuQmCC\n",
       "\" style=\"display:inline;vertical-align:middle;\" /></a>, <a class=\"ProveItLink\" href=\"../__pv_it/demonstrations/9c6c52ba5891078b8630ed0cff8bb5268ec7f9270/expr.ipynb\"><img src=\"data:image/png;base64,iVBORw0KGgoAAAANSUhEUgAAAD8AAAAQBAMAAABTi7oPAAAAMFBMVEX///+YmJhERESIiIhUVFTc\n",
       "3NwiIiJ2dnbu7u66urqqqqpmZmYQEBAyMjLMzMwAAAA7oY0NAAAAAXRSTlMAQObYZgAAAAlwSFlz\n",
       "AAAOxAAADsQBlSsOGwAAAOZJREFUKM9jYMAAsof0rx0SQBbhu7MBRYVCCMMUoQZkEf4FqArCGZj4\n",
       "HBgeKQFBAFhkfgO6Au6AC8giZRDKKC3tAlyBArKC22ByrgXCBJYOB7gsq7vdLzB9A8mKR2sD4Arm\n",
       "BDD9ANG8cCGFmGvfLODyHAcZuME28yI5UrAXYT/3Bwa2AhDjTRoQKEAUMDUiAopHgaF/AojRhGQC\n",
       "3wYNOK/fgEEezGBDDod9QQgFCxh8uUDuYzZAUtDEDLeDyYArmxvMugVXEM3AKKAJ94VzXYgdmNWi\n",
       "2QCLTVUGpfsLMON5ulraBQxBAHN1NZ5Ja5ExAAAAAElFTkSuQmCC\n",
       "\" style=\"display:inline;vertical-align:middle;\" /></a>, <a class=\"ProveItLink\" href=\"../../negation/__pv_it/theorems/d70a380bc05b43e909cb7708fe500d703d016a270/expr.ipynb\"><img src=\"data:image/png;base64,iVBORw0KGgoAAAANSUhEUgAAAD8AAAAQBAMAAABTi7oPAAAAMFBMVEX////MzMwyMjKqqqoiIiJm\n",
       "ZmaYmJju7u5EREQQEBC6urqIiIh2dnZUVFTc3NwAAAAqL9KcAAAAAXRSTlMAQObYZgAAAAlwSFlz\n",
       "AAAOxAAADsQBlSsOGwAAANRJREFUKM9jYMAASTP6VWYkMOABDW8Z1mYU4FPwhoGD8QKDRAcQPMCh\n",
       "gPWBAhaJHS4uCnAFDZjyi7YjTOAtvwAX57uzbwOYVkeyQsIIYfnKBxzfQTQTXKjhpcqX7XB59mkM\n",
       "rA5gBUiOTCtC2Mz6gYHlAIgh6QIEDRAFHGWIgOJsYKhfAGJUIJnAGNAO59VvYMgHM1iQwyHwBUKB\n",
       "AcMlZpD7uDcgKajghtvBsYHZlRXMUoYreMrAltAF98Xtg283glm1XQWw2Oxj6NA3wAzKNS0umDEA\n",
       "AAUQRSmiS78yAAAAAElFTkSuQmCC\n",
       "\" style=\"display:inline;vertical-align:middle;\" /></a> <a class=\"ProveItLink\" href=\"../__pv_it/demonstrations/6ad7bfdb64be8e0feb926db8280abef3e3806a850/proof.ipynb\" style=\"text-decoration: none\">&nbsp;&#x22A2;&nbsp;&nbsp;</a><a class=\"ProveItLink\" href=\"../__pv_it/demonstrations/693b670e8482a5946cd90b5fe968c7d6b56662d00/expr.ipynb\"><img src=\"data:image/png;base64,iVBORw0KGgoAAAANSUhEUgAAAR8AAAAVBAMAAACNlfesAAAAMFBMVEX///8AAAAAAAAAAAAAAAAA\n",
       "AAAAAAAAAAAAAAAAAAAAAAAAAAAAAAAAAAAAAAAAAAAv3aB7AAAAD3RSTlMAInZUiRDNmWbv3US7\n",
       "qzJazP2FAAAACXBIWXMAAA7EAAAOxAGVKw4bAAACsklEQVRIx6WWP2gTURzHf5fL9ZJc2gbHYuEq\n",
       "Cp1KLCLYqRSngpJVUJJF1EHIUES6NJM6CK2D+HcIKIgRITi1U2I3J0sNznFxcGkwxMXF33v3Lvd+\n",
       "v/ckkHvDXe77fvf5fd/v3p8AQAmmbo5NTMGTr2bK0wOC0NTS8D6JywVT9740TfHnMwth2ZQkb+5O\n",
       "fSLQ0jINjK1ZOmbqFnFoC6wYg4l48+XJQEu7CeA39E+gHsa4IOkNRlzBljMSKV4ncroPDLhvfnYd\n",
       "+BAgr3e6ak50KkzAlm1yRbSnnK94m9FtFRhw1TBEgPkKXLR1blqiVdWZoducr3i3aP4xcIKhmQZs\n",
       "ifvGcp903j3zjUUvbpyUuXIKr1c4X/Cc3sqQ5h8DY8HpLYUshTCRPZJDXCj7Xb3T+1Oplkh08AS+\n",
       "VmzKAzlvWrIdxSU7KBVHJH8CjA0lITFQmsjV4A3+fgv5UO90R0yAaw24B1zZxtslXiHkec/BrxFD\n",
       "CTB2iCFNCpQm3D14hQOMvOI437+U40Tc/LouwI54waaccEOCN4ACvg7brdaLVusjjIGaoEK0nNLE\n",
       "3EAA8l02wTC2Q2fMa/D+gk05sBhCXrVNKpQAlaCFKGBkItgTJa6GzBDuGjtkxni/ITcAm7LG51DE\n",
       "26WLKgEqQQtRwMiE24RDDMetqU0M9fEbk/RDmK2dtymPeYWQVy3Dd5fM4QQYG0pC4pzSRK4r1i3O\n",
       "7ixZ9rONYp1+oENYq9dtyhY3hLxi6L7zSf4EqAQtRAEjE/46/MKHy4/O0YL07rNd68bZH8d9m/KB\n",
       "G0Ked3x1cYUu+zEwFpKQGChNFNpQ6P9v17QKTHGMU5zwzI15wk69wI5HenLaBKb4Rj89bo2zdMLh\n",
       "Kgr5GVK006aUhueItX89jSFL9jS8olh4Tjg9IGP5/5yGtwTwD2Fhy9Kl/pMMAAAAAElFTkSuQmCC\n",
       "\" style=\"display:inline;vertical-align:middle;\" /></a></span>"
      ],
      "text/plain": [
       "{c in Real, b in RealNeg, d in RealNeg, a in RealNeg} |- (c + b + d + a) = (d + b + a + c)"
      ]
     },
     "execution_count": 112,
     "metadata": {},
     "output_type": "execute_result"
    }
   ],
   "source": [
    "Equals(Add(c, b, d, a), Add(d, b, a, c)).prove()"
   ]
  },
  {
   "cell_type": "code",
   "execution_count": 113,
   "metadata": {},
   "outputs": [
    {
     "data": {
      "text/html": [
       "<span style=\"font-size:20px;\"><a class=\"ProveItLink\" href=\"../__pv_it/demonstrations/9c6c52ba5891078b8630ed0cff8bb5268ec7f9270/expr.ipynb\"><img src=\"data:image/png;base64,iVBORw0KGgoAAAANSUhEUgAAAD8AAAAQBAMAAABTi7oPAAAAMFBMVEX///+YmJhERESIiIhUVFTc\n",
       "3NwiIiJ2dnbu7u66urqqqqpmZmYQEBAyMjLMzMwAAAA7oY0NAAAAAXRSTlMAQObYZgAAAAlwSFlz\n",
       "AAAOxAAADsQBlSsOGwAAAOZJREFUKM9jYMAAsof0rx0SQBbhu7MBRYVCCMMUoQZkEf4FqArCGZj4\n",
       "HBgeKQFBAFhkfgO6Au6AC8giZRDKKC3tAlyBArKC22ByrgXCBJYOB7gsq7vdLzB9A8mKR2sD4Arm\n",
       "BDD9ANG8cCGFmGvfLODyHAcZuME28yI5UrAXYT/3Bwa2AhDjTRoQKEAUMDUiAopHgaF/AojRhGQC\n",
       "3wYNOK/fgEEezGBDDod9QQgFCxh8uUDuYzZAUtDEDLeDyYArmxvMugVXEM3AKKAJ94VzXYgdmNWi\n",
       "2QCLTVUGpfsLMON5ulraBQxBAHN1NZ5Ja5ExAAAAAElFTkSuQmCC\n",
       "\" style=\"display:inline;vertical-align:middle;\" /></a>, <a class=\"ProveItLink\" href=\"../__pv_it/demonstrations/d550e8309ef79ca46e4c9fb5617a392ea678789b0/expr.ipynb\"><img src=\"data:image/png;base64,iVBORw0KGgoAAAANSUhEUgAAADEAAAAQBAMAAABNQoq8AAAAMFBMVEX///9UVFQyMjK6urru7u4Q\n",
       "EBBERERmZmaqqqoiIiLc3NzMzMyYmJiIiIh2dnYAAABC1PP/AAAAAXRSTlMAQObYZgAAAAlwSFlz\n",
       "AAAOxAAADsQBlSsOGwAAAL1JREFUGNNjYEAHh8LyNcMOMGADCQsZDI85YJVZx8DGLYBDhn2BArLI\n",
       "tZkzFeAyCUgSRlcQehhdwKa9vbMBSHKpIJm2rWkBkLGygR2klWkBXGap5k+w/nkMrBdAMkguOOME\n",
       "otm/QPhbZwJBAkSGzQfkU1aoK9yQ9HAXpABp/wsQPieyf6qXAWl+oEYDIM17AUnGjRcoCnQYH8jV\n",
       "DBpwmeUMPAeSgYx3ZyBedEx2gIV1FkOafgNSINhlzkQOLQDcXDjPgdalcwAAAABJRU5ErkJggg==\n",
       "\" style=\"display:inline;vertical-align:middle;\" /></a>, <a class=\"ProveItLink\" href=\"../../division/__pv_it/theorems/885cc228aa47f4d61d07e1691f08d60a4b0eb17d0/expr.ipynb\"><img src=\"data:image/png;base64,iVBORw0KGgoAAAANSUhEUgAAAD0AAAAQBAMAAABXfmoyAAAAMFBMVEX///+YmJjMzMzc3NyIiIhU\n",
       "VFR2dna6urqqqqpmZmYyMjIiIiIQEBBERETu7u4AAAD7tRWPAAAAAXRSTlMAQObYZgAAAAlwSFlz\n",
       "AAAOxAAADsQBlSsOGwAAAOBJREFUGNNjYEAHUmfvrz4rAOfy3dmApuCCKUOp7AM4l2sCurwZAy9T\n",
       "AIPuXSAwYGDgb8CU5zRYAOfWw4zy3b17AVz+Alw+G0pX+SH0s74LgMsvdYkAUczrkMzX7TKAu//X\n",
       "g/cgDhdc5ILN6t9+cO0c/xh4HEDySO4TfIVwLecCBv4EIK2zGwguQOR5HyLChzuBoR7kw7dI+pkm\n",
       "3IPzgN6fD/IhN7L/J9ki5BX4DoJoFgck+bcscAtYBXghAbwCLm/JwChwHe6/sIkQxtPrD2Dxd5nh\n",
       "7voGjIgtu717AYYgAGEMR51YMKm3AAAAAElFTkSuQmCC\n",
       "\" style=\"display:inline;vertical-align:middle;\" /></a>, <a class=\"ProveItLink\" href=\"../../negation/__pv_it/theorems/d70a380bc05b43e909cb7708fe500d703d016a270/expr.ipynb\"><img src=\"data:image/png;base64,iVBORw0KGgoAAAANSUhEUgAAAD8AAAAQBAMAAABTi7oPAAAAMFBMVEX////MzMwyMjKqqqoiIiJm\n",
       "ZmaYmJju7u5EREQQEBC6urqIiIh2dnZUVFTc3NwAAAAqL9KcAAAAAXRSTlMAQObYZgAAAAlwSFlz\n",
       "AAAOxAAADsQBlSsOGwAAANRJREFUKM9jYMAASTP6VWYkMOABDW8Z1mYU4FPwhoGD8QKDRAcQPMCh\n",
       "gPWBAhaJHS4uCnAFDZjyi7YjTOAtvwAX57uzbwOYVkeyQsIIYfnKBxzfQTQTXKjhpcqX7XB59mkM\n",
       "rA5gBUiOTCtC2Mz6gYHlAIgh6QIEDRAFHGWIgOJsYKhfAGJUIJnAGNAO59VvYMgHM1iQwyHwBUKB\n",
       "AcMlZpD7uDcgKajghtvBsYHZlRXMUoYreMrAltAF98Xtg283glm1XQWw2Oxj6NA3wAzKNS0umDEA\n",
       "AAUQRSmiS78yAAAAAElFTkSuQmCC\n",
       "\" style=\"display:inline;vertical-align:middle;\" /></a> <a class=\"ProveItLink\" href=\"../__pv_it/demonstrations/14090ee47309950bc520042e3d0f71702d59be4f0/proof.ipynb\" style=\"text-decoration: none\">&nbsp;&#x22A2;&nbsp;&nbsp;</a><a class=\"ProveItLink\" href=\"../__pv_it/demonstrations/b7c0ce64568e134cb86519db0a3606f925ca4d8a0/expr.ipynb\"><img src=\"data:image/png;base64,iVBORw0KGgoAAAANSUhEUgAAAR8AAAAVBAMAAACNlfesAAAAMFBMVEX///8AAAAAAAAAAAAAAAAA\n",
       "AAAAAAAAAAAAAAAAAAAAAAAAAAAAAAAAAAAAAAAAAAAv3aB7AAAAD3RSTlMAInZUiRDNmWbv3US7\n",
       "qzJazP2FAAAACXBIWXMAAA7EAAAOxAGVKw4bAAACxElEQVRIx6WWQWgTQRSGX7LZbDZJm+CxWNiK\n",
       "Qi+WKKXQXgxFEApKrkIleynVg5CDiPTSPVkPQqsg1Ooh0IIYEYInPTX2Ip4sMYjHePViNMaLIM7s\n",
       "zDb73kzSkp3D7vBn5vvfvJk3GwDIw8gtphMj8Pyp8cLogIyjalF4b/hjlj/Gb1WGD13e0crTqjQL\n",
       "5sfqCcx1lnEPwHT9bu64da1q1WSJKpyXrJwkHTrLFQDL83v7gvxW2RRPdrpU8FtKsea8IysFF1ak\n",
       "JQJuANiityReFynAkKck0yOCbE/oBLtvpcGFlSUN0C7BHNqRgQElqvqAbtIJc32rYwJa1QCTHtzh\n",
       "1dua6ZLxi9NtNDzZPF/A8ycXT7HnVerIebfPfMa4WGvKoUpgeQTklolDf4nv8tkeHj9RsBpoeHnF\n",
       "/In38BF8Yjtz3z83Nb8dypSZf0rlPMKpBn0lAPqWKRd2GWAbLBeP3wPbQcMvleAxEq57sMZe8zRD\n",
       "jGf0gtkSxw2qQBUXB+RbGlvwjC2wA+kik9Zqtae12mu+ZBE9W/nLHbHyuwC/kbDOEQA/aECc50Ku\n",
       "iHCqgVT6QGE53uEAuwHlOlqA3aCHeg8yXSQ8B/MvT70mIGa1XyA41SBQJFBYZrZ4issObOIiKDs0\n",
       "oG6QNSmYvyDVYe8FeoZ2/WtovURwqsEmdhCWRhUOWL8AXwx0CnPssqqjgP7xQxMOqAtj7gWAhzRD\n",
       "jJdrsyOC7BWDkCKBwjLV4HWbdYwXFiKw857AZf8VPuCUHcBCpSKqHDXGG/OyFYRTDUKKBApLqwjf\n",
       "2Wqb1yZncJVdfnAO+9+44hHh7Lcmi/kVDYjzWvfwBqkGISUA+pbpOqTbAy5S7cVMhZjyXUe8oTe1\n",
       "DjhBP4+DP656waI/Y97Qj6sOyFP7HiK006oUhRfjtb8cJSCNexRelhdezBkdENf8f47CmwL4D/51\n",
       "ysT1x4uiAAAAAElFTkSuQmCC\n",
       "\" style=\"display:inline;vertical-align:middle;\" /></a></span>"
      ],
      "text/plain": [
       "{d in RealNeg, c in Real, b in RealNeg, a in RealNeg} |- (d + c + b + a) = (b + a + d + c)"
      ]
     },
     "execution_count": 113,
     "metadata": {},
     "output_type": "execute_result"
    }
   ],
   "source": [
    "Equals(Add(d, c, b, a), Add(b, a, d, c)).prove()"
   ]
  },
  {
   "cell_type": "markdown",
   "metadata": {},
   "source": [
    "This even works in a nested manner"
   ]
  },
  {
   "cell_type": "code",
   "execution_count": 114,
   "metadata": {},
   "outputs": [
    {
     "data": {
      "text/html": [
       "<span style=\"font-size:20px;\"><a class=\"ProveItLink\" href=\"../../division/__pv_it/theorems/885cc228aa47f4d61d07e1691f08d60a4b0eb17d0/expr.ipynb\"><img src=\"data:image/png;base64,iVBORw0KGgoAAAANSUhEUgAAAD0AAAAQBAMAAABXfmoyAAAAMFBMVEX///+YmJjMzMzc3NyIiIhU\n",
       "VFR2dna6urqqqqpmZmYyMjIiIiIQEBBERETu7u4AAAD7tRWPAAAAAXRSTlMAQObYZgAAAAlwSFlz\n",
       "AAAOxAAADsQBlSsOGwAAAOBJREFUGNNjYEAHUmfvrz4rAOfy3dmApuCCKUOp7AM4l2sCurwZAy9T\n",
       "AIPuXSAwYGDgb8CU5zRYAOfWw4zy3b17AVz+Alw+G0pX+SH0s74LgMsvdYkAUczrkMzX7TKAu//X\n",
       "g/cgDhdc5ILN6t9+cO0c/xh4HEDySO4TfIVwLecCBv4EIK2zGwguQOR5HyLChzuBoR7kw7dI+pkm\n",
       "3IPzgN6fD/IhN7L/J9ki5BX4DoJoFgck+bcscAtYBXghAbwCLm/JwChwHe6/sIkQxtPrD2Dxd5nh\n",
       "7voGjIgtu717AYYgAGEMR51YMKm3AAAAAElFTkSuQmCC\n",
       "\" style=\"display:inline;vertical-align:middle;\" /></a>, <a class=\"ProveItLink\" href=\"../../negation/__pv_it/theorems/d70a380bc05b43e909cb7708fe500d703d016a270/expr.ipynb\"><img src=\"data:image/png;base64,iVBORw0KGgoAAAANSUhEUgAAAD8AAAAQBAMAAABTi7oPAAAAMFBMVEX////MzMwyMjKqqqoiIiJm\n",
       "ZmaYmJju7u5EREQQEBC6urqIiIh2dnZUVFTc3NwAAAAqL9KcAAAAAXRSTlMAQObYZgAAAAlwSFlz\n",
       "AAAOxAAADsQBlSsOGwAAANRJREFUKM9jYMAASTP6VWYkMOABDW8Z1mYU4FPwhoGD8QKDRAcQPMCh\n",
       "gPWBAhaJHS4uCnAFDZjyi7YjTOAtvwAX57uzbwOYVkeyQsIIYfnKBxzfQTQTXKjhpcqX7XB59mkM\n",
       "rA5gBUiOTCtC2Mz6gYHlAIgh6QIEDRAFHGWIgOJsYKhfAGJUIJnAGNAO59VvYMgHM1iQwyHwBUKB\n",
       "AcMlZpD7uDcgKajghtvBsYHZlRXMUoYreMrAltAF98Xtg283glm1XQWw2Oxj6NA3wAzKNS0umDEA\n",
       "AAUQRSmiS78yAAAAAElFTkSuQmCC\n",
       "\" style=\"display:inline;vertical-align:middle;\" /></a>, <a class=\"ProveItLink\" href=\"../__pv_it/demonstrations/9c6c52ba5891078b8630ed0cff8bb5268ec7f9270/expr.ipynb\"><img src=\"data:image/png;base64,iVBORw0KGgoAAAANSUhEUgAAAD8AAAAQBAMAAABTi7oPAAAAMFBMVEX///+YmJhERESIiIhUVFTc\n",
       "3NwiIiJ2dnbu7u66urqqqqpmZmYQEBAyMjLMzMwAAAA7oY0NAAAAAXRSTlMAQObYZgAAAAlwSFlz\n",
       "AAAOxAAADsQBlSsOGwAAAOZJREFUKM9jYMAAsof0rx0SQBbhu7MBRYVCCMMUoQZkEf4FqArCGZj4\n",
       "HBgeKQFBAFhkfgO6Au6AC8giZRDKKC3tAlyBArKC22ByrgXCBJYOB7gsq7vdLzB9A8mKR2sD4Arm\n",
       "BDD9ANG8cCGFmGvfLODyHAcZuME28yI5UrAXYT/3Bwa2AhDjTRoQKEAUMDUiAopHgaF/AojRhGQC\n",
       "3wYNOK/fgEEezGBDDod9QQgFCxh8uUDuYzZAUtDEDLeDyYArmxvMugVXEM3AKKAJ94VzXYgdmNWi\n",
       "2QCLTVUGpfsLMON5ulraBQxBAHN1NZ5Ja5ExAAAAAElFTkSuQmCC\n",
       "\" style=\"display:inline;vertical-align:middle;\" /></a>, <a class=\"ProveItLink\" href=\"../__pv_it/demonstrations/d550e8309ef79ca46e4c9fb5617a392ea678789b0/expr.ipynb\"><img src=\"data:image/png;base64,iVBORw0KGgoAAAANSUhEUgAAADEAAAAQBAMAAABNQoq8AAAAMFBMVEX///9UVFQyMjK6urru7u4Q\n",
       "EBBERERmZmaqqqoiIiLc3NzMzMyYmJiIiIh2dnYAAABC1PP/AAAAAXRSTlMAQObYZgAAAAlwSFlz\n",
       "AAAOxAAADsQBlSsOGwAAAL1JREFUGNNjYEAHh8LyNcMOMGADCQsZDI85YJVZx8DGLYBDhn2BArLI\n",
       "tZkzFeAyCUgSRlcQehhdwKa9vbMBSHKpIJm2rWkBkLGygR2klWkBXGap5k+w/nkMrBdAMkguOOME\n",
       "otm/QPhbZwJBAkSGzQfkU1aoK9yQ9HAXpABp/wsQPieyf6qXAWl+oEYDIM17AUnGjRcoCnQYH8jV\n",
       "DBpwmeUMPAeSgYx3ZyBedEx2gIV1FkOafgNSINhlzkQOLQDcXDjPgdalcwAAAABJRU5ErkJggg==\n",
       "\" style=\"display:inline;vertical-align:middle;\" /></a> <a class=\"ProveItLink\" href=\"../__pv_it/demonstrations/9ebbd226acb66835906cdf09b03d8eb3c0a38bc90/proof.ipynb\" style=\"text-decoration: none\">&nbsp;&#x22A2;&nbsp;&nbsp;</a><a class=\"ProveItLink\" href=\"../__pv_it/demonstrations/98fb936110190ae167dff50a73ddea1aa5b02eea0/expr.ipynb\"><img src=\"data:image/png;base64,iVBORw0KGgoAAAANSUhEUgAAAXQAAAAVBAMAAACkkggrAAAAMFBMVEX///8AAAAAAAAAAAAAAAAA\n",
       "AAAAAAAAAAAAAAAAAAAAAAAAAAAAAAAAAAAAAAAAAAAv3aB7AAAAD3RSTlMAInZUiRDNmWbv3US7\n",
       "qzJazP2FAAAACXBIWXMAAA7EAAAOxAGVKw4bAAADP0lEQVRIx51XMUhbQRj+Y3zGaDTSUSokpQUn\n",
       "sY8QqJNIJ8HiWrDoUmqHQgYHcTFT7VBoOxTa2kGwIE0piJOdjG6dKlY629WlUrFLl/737u7d/f/d\n",
       "o5cc/C/Jl//7v+/9d7l3AYARkMGGBwobOR8YWC3YRyLSMymDj71urQ9WXMwnAGFpe9kitSSir1u8\n",
       "TNPJH37cCDEw7kK1MHqNfkxMeXwokWhJRp9T9qGbXw5qXt88R4RAAF2lWZUafh9SpIA3JcItu6Hn\n",
       "xtz2wTxHwAP0O10oNG36Pv96n6axVm1kiRTxpWjKWqOokLxZu7MO4gVeO6UIPeZfxzQNaKs8PqRI\n",
       "Ha91U9aekqZDeRRmfZmXqhN6pvU6/2I2w4cUWcGriCc3vpud57SKab3HlJI7nbhkRWbGzygwNnMN\n",
       "r3Pcwgqhp9Y1PSZpVWMxMcV9pCLLskvRn/nFdAf9MlK6wtW0RCkStZHRyUKbAIOv4BtO79Nk4baS\n",
       "caynwdC105QeW7Nl0rQp7iMV2cYPGPkrKOq7it5AAXel/EtCESgr8kFzNHC/CWv4cod3fZvQtdOU\n",
       "HtO0dJuWppgPI7KJVwwsW54W9yn6dQED+H74Qvbu47ukdwq1EdkeA8C68APwi1vfNPS1Vuttq/UZ\n",
       "UroB7DRpJDHFfBgRZR3zD8ROtCN+0m1Y3MWJoXerUIqwn+l7iP6KSfdYt+iqyYYee9KEEWmK+TAi\n",
       "asHgDrqut8fFCrwQqVuEolCKUCD6Df2iRVN8rW8TegyMbi0YK02bYj6MyBFeMcpnuMq09Un4kcef\n",
       "R5salaiFlHHX2iVVL2Fo6TbAc971I0JXTg099qZpU8yHEZmTm9lQs5Q+A0uV/E4B2zZNKAq1ENwf\n",
       "eunmeARTjYbc5MiYI3Tl1NBjb5o2xXwYkXP8gBGdrpqjxMm9sQlcaXRlK9QucvfZLQo8uPnzBN18\n",
       "4tbPCV07TemxN02bYj6MyABeB858B5xRyHh2/u9pmuOHUCaQ+TTtxAeKiLNSv/cwuuo99gQcv5xT\n",
       "FBPIPH514kOIHIIM539Iu9v/Gtdd6DCM2YEPIbKggo9S1//wPAYWwpgd+BAiuYoMPqrdOu/xaPkE\n",
       "ICytmiXyD8OpC57sz1cCAAAAAElFTkSuQmCC\n",
       "\" style=\"display:inline;vertical-align:middle;\" /></a></span>"
      ],
      "text/plain": [
       "{b in RealNeg, a in RealNeg, d in RealNeg, c in Real} |- ((b * a) + d + c + a) = (d + c + (a * b) + a)"
      ]
     },
     "execution_count": 114,
     "metadata": {},
     "output_type": "execute_result"
    }
   ],
   "source": [
    "Equals(Add(Mult(b, a), d, c, a), Add(d, c, Mult(a, b), a)).prove()"
   ]
  },
  {
   "cell_type": "code",
   "execution_count": 115,
   "metadata": {},
   "outputs": [],
   "source": [
    "%end demonstrations"
   ]
  },
  {
   "cell_type": "code",
   "execution_count": null,
   "metadata": {},
   "outputs": [],
   "source": []
  }
 ],
 "metadata": {
  "kernelspec": {
   "display_name": "Python 3",
   "language": "python",
   "name": "python3"
  },
  "language_info": {
   "codemirror_mode": {
    "name": "ipython",
    "version": 3
   },
   "file_extension": ".py",
   "mimetype": "text/x-python",
   "name": "python",
   "nbconvert_exporter": "python",
   "pygments_lexer": "ipython3",
   "version": "3.7.3"
  }
 },
 "nbformat": 4,
 "nbformat_minor": 1
}
