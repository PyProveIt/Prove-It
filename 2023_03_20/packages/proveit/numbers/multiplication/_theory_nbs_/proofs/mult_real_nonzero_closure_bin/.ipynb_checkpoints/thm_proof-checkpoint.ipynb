{
 "cells": [
  {
   "cell_type": "markdown",
   "metadata": {},
   "source": [
    "Proof of <a class=\"ProveItLink\" href=\"../../../../../_theory_nbs_/theory.ipynb\">proveit</a>.<a class=\"ProveItLink\" href=\"../../../../_theory_nbs_/theory.ipynb\">numbers</a>.<a class=\"ProveItLink\" href=\"../../theory.ipynb\">multiplication</a>.<a class=\"ProveItLink\" href=\"../../theorems.ipynb#mult_real_nonzero_closure_bin\">mult_real_nonzero_closure_bin</a> theorem\n",
    "========"
   ]
  },
  {
   "cell_type": "code",
   "execution_count": 1,
   "metadata": {},
   "outputs": [],
   "source": [
    "import proveit\n",
    "theory = proveit.Theory() # the theorem's theory"
   ]
  },
  {
   "cell_type": "code",
   "execution_count": 2,
   "metadata": {},
   "outputs": [
    {
     "data": {
      "text/html": [
       "Under these <a href=\"presumptions.txt\">presumptions</a>, we begin our proof of<br><strong id=\"mult_real_nonzero_closure_bin\">mult_real_nonzero_closure_bin:</strong> <a class=\"ProveItLink\" href=\"../../../__pv_it/theorems/e2c9b529d5753900bc138ee2e21963a787488bc60/expr.ipynb\"><img src=\"data:image/png;base64,iVBORw0KGgoAAAANSUhEUgAAANcAAAAbCAMAAADYiepIAAAARVBMVEX///82NjYbGxsSEhJKSko9\n",
       "PT0oKChfX1+IiIgiIiIQEBB2dnbu7u5ERETMzMzc3NwyMjK6urpmZmaYmJiqqqpUVFQAAABvRl5h\n",
       "AAAAAXRSTlMAQObYZgAAAAlwSFlzAAAOxAAADsQBlSsOGwAAA5NJREFUWMPdWNd27CAM9O00UUT5\n",
       "/0+9CDBm3ZPj7EOcE6+zdoCRZkbC0/QNDjV9y0O6cpZMvmlC794xi4llLjZNDvIFfvmEAd8SvWjo\n",
       "LHQ+pXxp4KtZb3tE78X9c9O4wj6TSGQitMx95QG+XbBwb4FX6/FWACTLRRsZgY5f+ddPuuDi5Qan\n",
       "y7jQxj9LezGPey5nBYI3/JcLgCImFz10C2z/VHGJEhpGmLBr25pHcaFc0/HosLMOrbrGJcuHjj0q\n",
       "LYoFVyrMUHTdn3hab6kFDC+zkGaeeryHC81kGw9//oDCw8U3KD5+CJIMj8KqxCBuXOoq9TSJ14Qx\n",
       "4Pmwe7haEnpWJkY+3/5CuutbPO2z6WJNNOFyXMkXRo65dZap/XxFpRqCRWdUl7H9xUosBQWFi4eL\n",
       "dbSvMsuKl8zsWZ6NjMVKFhkH39lRW8WlITQvCOyEAahXyJ9xeXhNgRN5KZC2s6iUAaiqDD8kd8/G\n",
       "Mi5heeJzIu2RBvTch5j4qdJLyTAsMLOThfrJayaUIHzId7qSwaHDIEZ74Bved4cNB32aqZ5FqZI7\n",
       "j2i7ssjApcVol+Tj7M7bRfDmbaIOjKl8KYcszWOUiyRroJfJqzzyASsegvIXFqsqLmLpbkbjvAzN\n",
       "IkB+lk35G2nk2NcqsTWyIV8Nl4BlvhfcFaurXu/EUK6PfF7jlWhM4SGB2u+phG4hxXbB8s/kVT5J\n",
       "RPz3F3NVN8Qtrs95qBJN4NNR9cIqvDDwlB/WL9QXtVa3OibD7D1KeiZNv52NSo39TcHFFA4sbPna\n",
       "CCy2qYFVXKF6ZNg8SLGt6svAh/UydoQrp/K85ZorohEtuIqbDpZKkJoYjowgHhqgQXO+/vxGyleh\n",
       "8JbGrFGqWTfBC5l7244i5tEAV0WhZDzs4cJacuFsa+dnOsdOOBLs2JBn53V+wIUgG8w5a+SH3hzG\n",
       "TFc+qcikNpHprcij7K0Wdy83wKltPw9UL8Cmk/YI1+ZOImdxlFd+xNuyH4BQeShdHREvCl4zjB3p\n",
       "Heudr7dW8NpH3TysX/sjxcKrtuJUd2paTqO+nJPqzh5/5pS/v2vGZ3ZKalP9BcnLeVULbpZXEfKw\n",
       "2Sk+r26ttPMZ7u5/ntpR+E2P4dAHJj0tKpNNY/UkA7p3olZmYeEtarSeb78S7bZeD20A+dk44aVd\n",
       "In199OVSb3fMvRcO7CFYp+833ANtcHjX+7wPsPkRBb/n/eHafEpG/gPg8TBU4C2EIQAAAABJRU5E\n",
       "rkJggg==\n",
       "\" style=\"display:inline;vertical-align:middle;\" /></a><br>(see <a class=\"ProveItLink\" href=\"../../../__pv_it/theorems/2b2f605ef969bfca289eaad02053c55ef1eacd750/dependencies.ipynb\">dependencies</a>)<br>"
      ],
      "text/plain": [
       "<IPython.core.display.HTML object>"
      ]
     },
     "metadata": {},
     "output_type": "display_data"
    },
    {
     "name": "stdout",
     "output_type": "stream",
     "text": [
      "[Real, Real]\n",
      "mult_real_nonzero_closure_bin may now be readily provable (assuming required theorems are usable).  Simply execute \"%qed\".\n"
     ]
    }
   ],
   "source": [
    "%proving mult_real_nonzero_closure_bin"
   ]
  },
  {
   "cell_type": "code",
   "execution_count": null,
   "metadata": {},
   "outputs": [],
   "source": []
  }
 ],
 "metadata": {
  "kernelspec": {
   "display_name": "Python 3",
   "language": "python",
   "name": "python3"
  },
  "language_info": {
   "codemirror_mode": {
    "name": "ipython",
    "version": 3
   },
   "file_extension": ".py",
   "mimetype": "text/x-python",
   "name": "python",
   "nbconvert_exporter": "python",
   "pygments_lexer": "ipython3",
   "version": "3.7.3"
  }
 },
 "nbformat": 4,
 "nbformat_minor": 1
}
