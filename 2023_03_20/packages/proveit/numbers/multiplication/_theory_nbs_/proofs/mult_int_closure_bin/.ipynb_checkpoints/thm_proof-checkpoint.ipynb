{
 "cells": [
  {
   "cell_type": "markdown",
   "metadata": {},
   "source": [
    "Proof of <a class=\"ProveItLink\" href=\"../../../../../_theory_nbs_/theory.ipynb\">proveit</a>.<a class=\"ProveItLink\" href=\"../../../../_theory_nbs_/theory.ipynb\">numbers</a>.<a class=\"ProveItLink\" href=\"../../theory.ipynb\">multiplication</a>.<a class=\"ProveItLink\" href=\"../../theorems.ipynb#mult_int_closure_bin\">mult_int_closure_bin</a> theorem\n",
    "========"
   ]
  },
  {
   "cell_type": "code",
   "execution_count": 1,
   "metadata": {},
   "outputs": [],
   "source": [
    "import proveit\n",
    "theory = proveit.Theory() # the theorem's theory"
   ]
  },
  {
   "cell_type": "code",
   "execution_count": 2,
   "metadata": {},
   "outputs": [
    {
     "data": {
      "text/html": [
       "Under these <a href=\"presumptions.txt\">presumptions</a>, we begin our proof of<br><strong id=\"mult_int_closure_bin\">mult_int_closure_bin:</strong> <a class=\"ProveItLink\" href=\"../../../__pv_it/theorems/9eeae2d464b9d169dcd94b8265b407c3cb28791a0/expr.ipynb\"><img src=\"data:image/png;base64,iVBORw0KGgoAAAANSUhEUgAAAKkAAAAWBAMAAABJZ6G8AAAAMFBMVEX///+IiIgiIiIQEBB2dnbu\n",
       "7u5ERETMzMzc3NwyMjK6urpmZmaYmJiqqqpUVFQAAAB6qHgnAAAAAXRSTlMAQObYZgAAAAlwSFlz\n",
       "AAAOxAAADsQBlSsOGwAAAttJREFUOMutVU1oE1EQ/tJk87PZxghFPGgJodafkxaNCoLxUBGqssVa\n",
       "8NLG2q6KBwN6EMQ2VSgIWiJSEfQQEW89RBFELZgeLJSCxApaQTAVsT2ItKhYhIIz+95us/nTgwPf\n",
       "vnmT9+bN+2bmBfi7+CUqmCtJCv8k6yVKRA2XGN7v3d3TvAf3SC3w/EMtp/VxgWLpbKHPupKFa+YQ\n",
       "QBquHPCM57dreT0m4ZA7hIDutD2ngzx5YAToZ4YStbyOSThkmaBlnbZ5KIlOGqfEgXxAddkq4eD0\n",
       "J393iImrJ7qZRx3B5ByNbh0asRCoSWtawCGeCH/vihNu2Ez0+zj8ALlsiUa31/IajAtgeN+gbQzM\n",
       "NtL9Dpv61RV6+7yse6gCntCkllc+maHuwll7f/eIsgRMwpnq+vg4DxrdbBj+gmX23ZJKKNbWK3NR\n",
       "lxc4ksMje/9HHduAN6a+wk5A6PWUBa/uydj2z+y60cjUpTztMjB3RuAF0GSGyTufAj+AATMSojDa\n",
       "LNqFPClkWSDP4aJk7eSyS9IlcOkanF5jUH6bsfMdmqBSbd3nuWKXpZIYolumoHLFpJmMjvEDfO5i\n",
       "o86tQZK1ilEyoCxCWygq1yDV1rSpRyxjKDlPV6E42XKIekHZ5FviytvgynaaK7TrSbnWGzahLCOU\n",
       "nrEc/GKaMWHqqy3jRZUi+UR7OforlKxg1sdhe3NaetRc0e6xS7MgcBzTdvz4ijP0fSxyZPVQH3XU\n",
       "0FtZh6EkE+fiQnAng4VJwzDyiLfiqKyLiEBXw4VZK350tTFPWwSdXx6IbojdNE587yW+rOx3p7wv\n",
       "Keer4M6fN1e8y6FV/rZRovyBlYyq+0XHWnLZUtypgVG9A3X6BER7BKFaWZiSKO+6XPXnSBw39vog\n",
       "zuV9D8Pwn6T5q28Np63e8KYEymSoyl9HyQsoaO8wjEyxlQtSqfRWnqrstSQCVa+8bFCiRFxV/qDW\n",
       "Oqca/pf8AdwYp0aYVz0RAAAAAElFTkSuQmCC\n",
       "\" style=\"display:inline;vertical-align:middle;\" /></a><br>(see <a class=\"ProveItLink\" href=\"../../../__pv_it/theorems/3f4e5b043071cdf87d36a7a74dc03869149aa50e0/dependencies.ipynb\">dependencies</a>)<br>"
      ],
      "text/plain": [
       "<IPython.core.display.HTML object>"
      ]
     },
     "metadata": {},
     "output_type": "display_data"
    },
    {
     "name": "stdout",
     "output_type": "stream",
     "text": [
      "mult_int_closure_bin may now be readily provable (assuming required theorems are usable).  Simply execute \"%qed\".\n"
     ]
    }
   ],
   "source": [
    "%proving mult_int_closure_bin"
   ]
  },
  {
   "cell_type": "code",
   "execution_count": null,
   "metadata": {},
   "outputs": [],
   "source": []
  }
 ],
 "metadata": {
  "kernelspec": {
   "display_name": "Python 3",
   "language": "python",
   "name": "python3"
  },
  "language_info": {
   "codemirror_mode": {
    "name": "ipython",
    "version": 3
   },
   "file_extension": ".py",
   "mimetype": "text/x-python",
   "name": "python",
   "nbconvert_exporter": "python",
   "pygments_lexer": "ipython3",
   "version": "3.7.3"
  }
 },
 "nbformat": 4,
 "nbformat_minor": 1
}
