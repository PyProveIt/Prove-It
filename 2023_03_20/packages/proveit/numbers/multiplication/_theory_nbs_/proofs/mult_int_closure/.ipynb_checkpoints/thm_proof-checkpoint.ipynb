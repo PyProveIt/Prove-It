{
 "cells": [
  {
   "cell_type": "markdown",
   "metadata": {},
   "source": [
    "Proof of <a class=\"ProveItLink\" href=\"../../../../../_theory_nbs_/theory.ipynb\">proveit</a>.<a class=\"ProveItLink\" href=\"../../../../_theory_nbs_/theory.ipynb\">numbers</a>.<a class=\"ProveItLink\" href=\"../../theory.ipynb\">multiplication</a>.<a class=\"ProveItLink\" href=\"../../theorems.ipynb#mult_int_closure\">mult_int_closure</a> theorem\n",
    "========"
   ]
  },
  {
   "cell_type": "code",
   "execution_count": 1,
   "metadata": {},
   "outputs": [],
   "source": [
    "import proveit\n",
    "theory = proveit.Theory() # the theorem's theory"
   ]
  },
  {
   "cell_type": "code",
   "execution_count": 2,
   "metadata": {},
   "outputs": [
    {
     "data": {
      "text/html": [
       "Under these <a href=\"presumptions.txt\">presumptions</a>, we begin our proof of<br><strong id=\"mult_int_closure\">mult_int_closure:</strong> <a class=\"ProveItLink\" href=\"../../../__pv_it/theorems/7b5ce20c0d7f6fa07cc9d4f3bb657d12e6eeb86b0/expr.ipynb\"><img src=\"data:image/png;base64,iVBORw0KGgoAAAANSUhEUgAAAYsAAAAWBAMAAADDQa2RAAAAMFBMVEX///+IiIgiIiIQEBB2dnbu\n",
       "7u5ERETMzMzc3NwyMjK6urpmZmaYmJiqqqpUVFQAAAB6qHgnAAAAAXRSTlMAQObYZgAAAAlwSFlz\n",
       "AAAOxAAADsQBlSsOGwAABMZJREFUWMPFV29oG2UYf5Lc5S53SZZpmRPnKNmYziIM0VqlagZ2yuzk\n",
       "qlk/6RLnes6imK6Cgmy9qSsOtUZE8YNgZfrJIkEcg7Vghkzp6p+kDmNFJBVZ55cRleEcSH3e97m7\n",
       "vMl6zcoNfOB577n37v3ze5+/L8AyFEjmwDdZNvsk1Xv6VtuUxv0vHygR+yUt0dQxd88duzd1wwe0\n",
       "zyrr+tkLRpw9YkUfy5+22Teta3pfswARyEOgyGEcZ13vesHQmT4iPmxCzhP7p4jR+D6JyCRU89sc\n",
       "xgFmd1kvGApT1qiPxfUisX+KFhrfz4Kc7cfnDIfBQEolT99ArLDDx+Ihm68A3WY72+7kZvY0QM8t\n",
       "sNkNts8oHlXE28W/xocfm5iz+QrQe+Tqb7rGdUBhCooUeSi6JZm81RtGKJnckPKx9mc2q7+tbQo1\n",
       "Y1sPXkaYFYY9yNvDdRcZCDNZqnIYx/DdG4aeg7Dh8wgZH7HC5xsDaBc803picdg0NEajWOoE95k8\n",
       "hzEGalXE37Edvqi6MPDb2Eq3Hu98YI/jjzcTy92gt4M8Xf/p4SJ8CvK955aFQsNs+p63dQuPkBzb\n",
       "wmGEjXqWGzozCL9Ihm7U098AbF8JBGW9OR60pD5nd3cS6zUIpmDoKt6XYct/DrARdNql/M+lE/Gf\n",
       "aJhNI3x+9IHkJv5+PW5Pxp4a32cs4Xq4foylwkRBErJ4eWUePol1QRT2vwaNMEJZyOBks7wvyFTV\n",
       "CfJFWDWu/s16Oi6diP9kD7MNjOvHzQ1yFhNB3AKNtAF5NLHo1NB1dqKs/HRQhBGJoo/JvW1OChTE\n",
       "OqVP3G9HQ0oRBTfG20aVScB34MDg0/wB0RpEDYLhRTRs5qvVBXewa2Px3Fn8AdXQTjB2YG545Egx\n",
       "ZBHSivTohwIMaQ7t4yFrxNm7INb3dKNygaR+ylSvu7XaY8SZEvwes0QY/0I8/yNO374sDDbs0Klu\n",
       "6MKXL3nXaufbCxpi+xUXyxKMl9ChD10LqwyNH2UFCmsEGOrdPPEPYzI3wBa18vHGVF1QtpA0wds+\n",
       "CcQoiRxOxDp0URuIbZbpbJ/r4txBeJNxzZgPU/vycN6O22gdTqoewMQ9+gMuniIYcXZ082h60XdM\n",
       "82mEkY6IFe4Ct+71oMwaYIshpkwxVY8H7Ng2bZpmCVI9sNP+tI9Ynr9v7JoGGLvanp/PgSrE+g6n\n",
       "CbomScPiCY2d0k3UdeYjCtidb5mP/7UH/x4XKvHbYVJRUqQNrdxUqMsX4KmdEDQcUWXKEXVvhU8a\n",
       "MxNYyD7LV6gUocfx1Bwx0Wyz1bwKr1xGQZPTC4jYNj9tGxUjDr0oXCjUGtxQoTR4CvC8m+4bXcrF\n",
       "kwyGnCIRBpmYpiYNIWtkwihng0CpUtJBaxcKunpR1wxDfeK5o61hvAHB/TnPAnNK2KdWhbYijOKx\n",
       "KZstiDfD+Pgb/IowlLtIxNyO4rCldGEzXNKmyr1om4fZvvDvb8+1Pelm1L02M3r5/a1N57y4WGsN\n",
       "4xMI9HrW2aw6b7reydvMQe/bHzOqGIk9AVdEIqcLwjq02rRpNs7Z78Yvn7R36e6w1fKWKomXXOVq\n",
       "LNjJvSKLfzoi0yQFm11weim1qwli35dhj7vbWvy0YaWX7eISYhT+f/oP2SQ/rVgAIUUAAAAASUVO\n",
       "RK5CYII=\n",
       "\" style=\"display:inline;vertical-align:middle;\" /></a><br>(see <a class=\"ProveItLink\" href=\"../../../__pv_it/theorems/34b9bef747bc8d4e40e45cee54af43d51640e71c0/dependencies.ipynb\">dependencies</a>)<br>"
      ],
      "text/plain": [
       "<IPython.core.display.HTML object>"
      ]
     },
     "metadata": {},
     "output_type": "display_data"
    }
   ],
   "source": [
    "%proving mult_int_closure"
   ]
  },
  {
   "cell_type": "code",
   "execution_count": null,
   "metadata": {},
   "outputs": [],
   "source": []
  }
 ],
 "metadata": {
  "kernelspec": {
   "display_name": "Python 3",
   "language": "python",
   "name": "python3"
  },
  "language_info": {
   "codemirror_mode": {
    "name": "ipython",
    "version": 3
   },
   "file_extension": ".py",
   "mimetype": "text/x-python",
   "name": "python",
   "nbconvert_exporter": "python",
   "pygments_lexer": "ipython3",
   "version": "3.7.3"
  }
 },
 "nbformat": 4,
 "nbformat_minor": 1
}
