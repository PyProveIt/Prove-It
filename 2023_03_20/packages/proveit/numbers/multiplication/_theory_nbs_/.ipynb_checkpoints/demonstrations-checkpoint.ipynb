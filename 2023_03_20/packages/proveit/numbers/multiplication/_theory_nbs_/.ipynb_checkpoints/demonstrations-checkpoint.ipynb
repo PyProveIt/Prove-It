{
 "cells": [
  {
   "cell_type": "markdown",
   "metadata": {},
   "source": [
    "Demonstrations for the theory of <a class=\"ProveItLink\" href=\"theory.ipynb\">proveit.numbers.multiplication</a>\n",
    "========"
   ]
  },
  {
   "cell_type": "code",
   "execution_count": 1,
   "metadata": {},
   "outputs": [],
   "source": [
    "import proveit\n",
    "from proveit import defaults\n",
    "from proveit import a, b, c, d, f, j, k, m, n, w, x, y, z, delta, theta\n",
    "from proveit.core_expr_types import b_1_to_m\n",
    "from proveit.logic import InSet, NotEquals, Equals\n",
    "from proveit.numbers import (\n",
    "    Natural, NaturalPos, Integer, IntegerNeg, IntegerNonPos, Interval,\n",
    "    Rational, RationalPos, RationalNeg, RationalNonNeg, RationalNonPos,\n",
    "    Real, RealPos, RealNeg, RealNonNeg, Complex)\n",
    "from proveit.numbers import zero, one, two, three, four, five, e, i, pi\n",
    "from proveit.numbers import (Add, Neg, Exp, frac, Less, LessEq, Mult, \n",
    "                             sqrt, sqrd, num, subtract, Sum)\n",
    "from proveit.numbers.exponentiation import products_of_complex_powers\n",
    "%begin demonstrations"
   ]
  },
  {
   "cell_type": "markdown",
   "metadata": {},
   "source": [
    "## Basic arithmetic with numerals"
   ]
  },
  {
   "cell_type": "code",
   "execution_count": 2,
   "metadata": {},
   "outputs": [
    {
     "data": {
      "text/html": [
       "<span style=\"font-size:20px;\"> <a class=\"ProveItLink\" href=\"../../numerals/decimals/_theory_nbs_/proofs/mult_2_5/thm_proof.ipynb\" style=\"text-decoration: none\">&nbsp;&#x22A2;&nbsp;&nbsp;</a><a class=\"ProveItLink\" href=\"../../numerals/decimals/__pv_it/theorems/ed432a65d10478f3066bdf088f57aa66bd7f3e760/expr.ipynb\"><img src=\"data:image/png;base64,iVBORw0KGgoAAAANSUhEUgAAAGEAAAAVBAMAAACkm51HAAAAMFBMVEX////MzMxUVFRERES6uroi\n",
       "IiIQEBCYmJhmZmYyMjLu7u52dnaqqqqIiIjc3NwAAACW8nlqAAAAAXRSTlMAQObYZgAAAAlwSFlz\n",
       "AAAOxAAADsQBlSsOGwAAAYlJREFUOMt9k79Lw1AQx79NTX+k7aOLk0Od1M2oODgo/QfEUhCkilTU\n",
       "xcUgKC5iF7Glg1lEcAq6a6ijg1nFocVJHKSL0EkqONgK1kvCK23zzCMc7+57n9wd7z0AdXiWINSz\n",
       "ElafGwBusOhLPAGN0lTXDbXOc0honrRAjsz9C1VXdDAVD2muyLurBnA5CFyV2kDUUtaBiAapjlCe\n",
       "S5JjD73NE7EP3FEX9LUh/fYTIUNETANVA4+UlIH02U9ENRHxDaQslN3um13iqJIEYqMCQrEJDReO\n",
       "n6pxJWiwLyCs2/uTZXtlOcF+nMQ1x8/2/m4WiOcFNRzCxJbtRlTb3uqueFZHoCnqioilmkvsucMU\n",
       "yMwRkcRQ/p/Jq5bTVdzEB1e2gUmKZARzYAY4NjBP3gjwygkT2KTJVVGNA6AEVAC2UixmuNJAYocG\n",
       "MweJGJ2xbCkbwDBtOp2OzhVWnKDzltMDgDTWGodSfqazkpOiC/3uc9nDBVH01O99LAhiTPUjrgWx\n",
       "oO+zZTVv7M0n/w/FimLy9pLIUgAAAABJRU5ErkJggg==\n",
       "\" style=\"display:inline;vertical-align:middle;\" /></a></span>"
      ],
      "text/plain": [
       "|- (2 * 5) = 10"
      ]
     },
     "metadata": {},
     "output_type": "display_data"
    }
   ],
   "source": [
    "Mult(num(2), num(5)).evaluation()"
   ]
  },
  {
   "cell_type": "code",
   "execution_count": 3,
   "metadata": {},
   "outputs": [
    {
     "data": {
      "text/html": [
       "<span style=\"font-size:20px;\"> <a class=\"ProveItLink\" href=\"../__pv_it/demonstrations/b5f8f4b6c179dd00aa91c2032d29ac65ca3f394a0/proof.ipynb\" style=\"text-decoration: none\">&nbsp;&#x22A2;&nbsp;&nbsp;</a><a class=\"ProveItLink\" href=\"../__pv_it/demonstrations/320b98ee5d2a87ef3e6c89b02f8a335c6e97b0470/expr.ipynb\"><img src=\"data:image/png;base64,iVBORw0KGgoAAAANSUhEUgAAAKAAAAAVBAMAAAAz5vjYAAAAMFBMVEX///8AAAAAAAAAAAAAAAAA\n",
       "AAAAAAAAAAAAAAAAAAAAAAAAAAAAAAAAAAAAAAAAAAAv3aB7AAAAD3RSTlMAInZUiRDNmWbv3US7\n",
       "qzJazP2FAAAACXBIWXMAAA7EAAAOxAGVKw4bAAACEUlEQVQ4y4VVMUtbURT+osTkpU3zlEI7dMhS\n",
       "6CI6SCBddHMK5gcIZgyFUIfQLB0ydarg4iRiIINFEbqJgxBdBREROkUchBYXWySFQml67rkvybnn\n",
       "PvTAubzzve989573zr0XQAjrI0tAmQfAyxnxxmatC3uSV0QPgJcz4s1FHtnzxVPgjUP7rgE2kYPb\n",
       "MvDiwxnzkhXrkSVXMT+LibJM3YcCmChyvr0vI9HB0lfDSzXBPijkHisVpFdlbSToAGwiB5gpIxsi\n",
       "WDe8gOJAfIVN5GjuDcH+UYMLsAVwBYMesr8Mr0BxwaHO09xVES8YwaoWLCjBbAvZf4ZXp7ju/Kkv\n",
       "NJRExWHNBazVlSBZ5qfhVdX0z6avaPw0Al6iNgBSu2zn0Eu2gnd5w2vTU9stmRqsKCpmwaJeYdsX\n",
       "3GfeJo3kyXc8+bX53D2ajNvhNw3pkAXvtKCTw4KpDvMiwWHF13h6DxxysEM+BRY8jBFUK1wD81TJ\n",
       "uR4Lvh0CR93un8sIkN/QK3l8AZOGd0LxiWivcy75s6RvQQFwc6zgDfDa8EpuT6Sb3IdOU/zVXQLd\n",
       "R0shEjuNRsvwbs3eFu8OGnQ4YE8gH/sXLmDPA/Hc3a41M/1+v2J4GfpJxt1zrfUY4OcMeGbbe1vf\n",
       "2fmxQMxxMeAdw7q0V3gM8HOGvOXIHyTHZC/HCRpeIm9dnoD6uhiLuz/iroUQ/wEUKonAPGAiXwAA\n",
       "AABJRU5ErkJggg==\n",
       "\" style=\"display:inline;vertical-align:middle;\" /></a></span>"
      ],
      "text/plain": [
       "|- ((-3) * 4) = (-12)"
      ]
     },
     "metadata": {},
     "output_type": "display_data"
    }
   ],
   "source": [
    "Mult(num(-3), num(4)).evaluation()"
   ]
  },
  {
   "cell_type": "code",
   "execution_count": 4,
   "metadata": {},
   "outputs": [
    {
     "data": {
      "text/html": [
       "<span style=\"font-size:20px;\"> <a class=\"ProveItLink\" href=\"../__pv_it/demonstrations/14aabe1dd13e101653a0f786b1477e9b3842fbfe0/proof.ipynb\" style=\"text-decoration: none\">&nbsp;&#x22A2;&nbsp;&nbsp;</a><a class=\"ProveItLink\" href=\"../__pv_it/demonstrations/34dd1524704c9a6474daf76b25840b5aaf3fb0220/expr.ipynb\"><img src=\"data:image/png;base64,iVBORw0KGgoAAAANSUhEUgAAAKAAAAAVBAMAAAAz5vjYAAAAMFBMVEX///8AAAAAAAAAAAAAAAAA\n",
       "AAAAAAAAAAAAAAAAAAAAAAAAAAAAAAAAAAAAAAAAAAAv3aB7AAAAD3RSTlMAInZUiRDNmWbv3US7\n",
       "qzJazP2FAAAACXBIWXMAAA7EAAAOxAGVKw4bAAAB90lEQVQ4y4WUvUtjQRTFz4vEfKzRpwhrYWEj\n",
       "2IgWEtBGOysxf0BASxHEFGHTWKSyUrCxEjGQQlEEO7EQNK0gIoJVJIWwkkZFUiwsm507M8mbe1+I\n",
       "B86D3Pm98+bOTAaADyFe8KzRHWuziEyLqij8GDNGd6zNYgYYXrxzqjMu8huYgLGQi9UzwM9f95qL\n",
       "riKaw3zwOVVwdA70Zoy5HCz6vJmBd4PlC+JiRUS+sBIMq4LTlwqM54y5GDaVQcpHYo+4hOr8AANB\n",
       "YMJ97W1DPfatmRimAhMNpD6JS+vKfPC9tEsuUOCaNVNaBKZKSP0jLq935yQYzLsd+xS4ZM2UF4FK\n",
       "yQ/i6NP9ky/BoDuXEVDgtjVip1oPErOB72PElU3LwS6X3Y514Kw1UzkceK65A7PEDfUwW60K0XU9\n",
       "k1rc14Hv1kwOZgNjN5pTA/019H3RGuQs2dIQdOCVtQwUM9yF5tTUBxomMNTLdbX65wmYgzFbw1DL\n",
       "PQsYJK6i+n0wLRtV2EQOlXesmSoy8BUYJ06dh3jRPYf8gPy1JyQvAxm27MM7LhRKxNXV78uCcznU\n",
       "XXKr+QicwZjJxapHG8Vks9lcJS5ZE2So4JWMv8FabOhvHyrQNcCugs5Ym72VRVkYtf4Ga7NZWcx2\n",
       "eLPD29lOgcR58noXhYhvjO5Yi/0Pu/2JV7mxmn8AAAAASUVORK5CYII=\n",
       "\" style=\"display:inline;vertical-align:middle;\" /></a></span>"
      ],
      "text/plain": [
       "|- (3 * (-4)) = (-12)"
      ]
     },
     "metadata": {},
     "output_type": "display_data"
    }
   ],
   "source": [
    "Mult(num(3), num(-4)).evaluation()"
   ]
  },
  {
   "cell_type": "code",
   "execution_count": 5,
   "metadata": {},
   "outputs": [
    {
     "data": {
      "text/html": [
       "<span style=\"font-size:20px;\"> <a class=\"ProveItLink\" href=\"../__pv_it/demonstrations/bc3bc6db4d0246599e4ea16e37248f6673c170690/proof.ipynb\" style=\"text-decoration: none\">&nbsp;&#x22A2;&nbsp;&nbsp;</a><a class=\"ProveItLink\" href=\"../__pv_it/demonstrations/6a4852498e749660a61d6ad74974667f034d0d810/expr.ipynb\"><img src=\"data:image/png;base64,iVBORw0KGgoAAAANSUhEUgAAAJkAAAAVBAMAAACnAFEqAAAAMFBMVEX///8AAAAAAAAAAAAAAAAA\n",
       "AAAAAAAAAAAAAAAAAAAAAAAAAAAAAAAAAAAAAAAAAAAv3aB7AAAAD3RSTlMAInZUiRDNmWbv3US7\n",
       "qzJazP2FAAAACXBIWXMAAA7EAAAOxAGVKw4bAAACLUlEQVQ4y41UPUgcQRT+7tbVOz3OI6QKKU7S\n",
       "SCC4hQjaKCRgJdkqogi5JiBWEoST/MBVJoWFFlYScmCRkBBZ0ohWp62CthYmR0oLFURJEZK8N3vu\n",
       "mzcr4ge3N/PeN+9/BkAJQAYKpRt2mbTIQjagzwMt+54iCLrKLsFGP/28EXH95E2EbM0htHB3dBfo\n",
       "ZQ+1lJ3q2xDwK7R6JsJxeOfACxEYQms5i+EA7XTKJsSYLBeXgQ72Mi/SvsC/BN6JoEPCyJ7jeQW5\n",
       "WShCjENgD8jzckmkmxHIWj5MBHmrZKvopkhXoAgx6NDTEANctoot934D7RLQgDo0TIppKEJchD+U\n",
       "VoQ5TmbEVmwRse0g2c6phn6mzxgUQWKrpR39OmoCOYl22tIVH/2g7wKuCK++ML616rZfxhqtOtVE\n",
       "cU89qeSazpSog1CEGBNR8WeAVS5pRENi3Kyz4mOI4hnX4pJ3RPBnjLLJ1AvglKM8c6z5Lx/3NRNr\n",
       "VzihiAN0GdefWtaSRJsoUOCbXMCl9D2gnrqZ/gvZmle/LtPuC2NtiDOtO3WDmbcd+iuU5cQHk2mu\n",
       "kQh2RJc/MJkuchcaTmCDof833e73Zt6smRkTXa5m5i09VISHYYFUx1yPujVRVbr16JRKHltHNqp0\n",
       "6/EVihCjbfQ1i7lT625B78nSENQDV9cEG9ff4XmHYMN9JxS2uQ3OW5ppOAQb912CjSkePUeprE/d\n",
       "wr3EweNxR8t6UgTrYS+5BMF/+3yIxqG6F7sAAAAASUVORK5CYII=\n",
       "\" style=\"display:inline;vertical-align:middle;\" /></a></span>"
      ],
      "text/plain": [
       "|- ((-3) * (-3)) = 9"
      ]
     },
     "metadata": {},
     "output_type": "display_data"
    }
   ],
   "source": [
    "Mult(num(-3), num(-3)).evaluation()"
   ]
  },
  {
   "cell_type": "code",
   "execution_count": 6,
   "metadata": {},
   "outputs": [
    {
     "name": "stdout",
     "output_type": "stream",
     "text": [
      "Evaluation of 12 * (-3) under assumptions {} is not known\n",
      "because multi-digit multiplication is not implemented\n"
     ]
    }
   ],
   "source": [
    "# multi-digit multiplication is not yet implemented\n",
    "from proveit.logic import EvaluationError\n",
    "try:\n",
    "    Mult(num(12), num(-3)).evaluation()\n",
    "except EvaluationError as _e:\n",
    "    print(_e)\n",
    "    print('because multi-digit multiplication is not implemented')"
   ]
  },
  {
   "cell_type": "code",
   "execution_count": 7,
   "metadata": {},
   "outputs": [
    {
     "data": {
      "text/html": [
       "<span style=\"font-size:20px;\"> <a class=\"ProveItLink\" href=\"../__pv_it/demonstrations/f8b70743306cc24ec5a35d8c097e9e0a54f5d6220/proof.ipynb\" style=\"text-decoration: none\">&nbsp;&#x22A2;&nbsp;&nbsp;</a><a class=\"ProveItLink\" href=\"../__pv_it/demonstrations/86b44d371b83874819e5ed035b41513d4b3587750/expr.ipynb\"><img src=\"data:image/png;base64,iVBORw0KGgoAAAANSUhEUgAAAGwAAAAyBAMAAABLzCN5AAAAMFBMVEX///8AAAAAAAAAAAAAAAAA\n",
       "AAAAAAAAAAAAAAAAAAAAAAAAAAAAAAAAAAAAAAAAAAAv3aB7AAAAD3RSTlMAuzKrZonNIu/ddhCZ\n",
       "VERetuGgAAAACXBIWXMAAA7EAAAOxAGVKw4bAAACi0lEQVRIx41WQWgTQRR92aRNNummRU8i1CAo\n",
       "6KVBC7anFBTxlkDxJqSeVYgHEUGwELSCYAN6sCgY8eihAa9C20tRWLAXz8lRQWjUmkBiGndnJjqz\n",
       "O382A5m/+cPb+X/e/28W8EYsB+3IHIdpzFMLZxoGVLwEJN3rypZ3rs16s1MzwC57v9uYOJTD20Zz\n",
       "z7PLNCq55k0XgMeSLz3A1opn7SUSZte9ab2BQuW/L/sU0z7MeULCrvjTIlBQz7PJNrpJwh4K+1rx\n",
       "Zp8zs18hUOk+t1ZP9lpvzzE7madSy6v2X5D+ScLpE7A5kdJOwJ9igEyPgC1wk1A2s3KIDdjTMQJW\n",
       "5eYLklL20/0RrKg/E+uAmxLSUgGm8iJIbOkJT3eZuee6nyRvYknw5r9AN2KrnLThsCO7v7uzYl1f\n",
       "zakZY09hoh3O66UX+7YZljgMet7velnP1c0wq6etK14M9Mj80cKKOTMMv7SwzUoE7IcWVm5EwB6x\n",
       "eWqDjfwI9jkKtqHdrcBrcOgPVky+FoD95Yy9MMCk9gvyqIeNGWQwt3JlrCMJERDFWzVcpt0x6A5V\n",
       "SXyhM49mi0vz1Z2WvHZ/94gort96BeLd+AHOQBb4GZRbVCkzxviBb+5l5DaNV5Di/au8TeKJ0Yuv\n",
       "LXRUtYt3ZdEIJbgqHpwD2VtD/Cd/auu7dyS73wISZbdNomGJ2M+eDzAh2v5B3UxnMPdnMMkrPo4e\n",
       "1pXqnBLBLRJVsM/4OQmcUFTlorDU1cE7ZdhQYU4Jd5UT0x9lNRDkKeCd7tYLXMKXVN6Sr1y3ZryE\n",
       "UfR3ybpKKdueJrDyOUp2xmSJ7ppsn5brNRpmGzT7Db20HPGpRsS4Yur7W9TCaaOskZ+hNyjEXwly\n",
       "t7znBzuHAAAAAElFTkSuQmCC\n",
       "\" style=\"display:inline;vertical-align:middle;\" /></a></span>"
      ],
      "text/plain": [
       "|- ((2 / 3) * (3 / 2)) = 1"
      ]
     },
     "metadata": {},
     "output_type": "display_data"
    }
   ],
   "source": [
    "Mult(frac(num(2), num(3)), frac(num(3), num(2))).evaluation()"
   ]
  },
  {
   "cell_type": "code",
   "execution_count": 8,
   "metadata": {},
   "outputs": [
    {
     "data": {
      "text/html": [
       "<span style=\"font-size:20px;\"> <a class=\"ProveItLink\" href=\"../__pv_it/demonstrations/9c15341f50b13fdfcf3159019819380b39ab5d000/proof.ipynb\" style=\"text-decoration: none\">&nbsp;&#x22A2;&nbsp;&nbsp;</a><a class=\"ProveItLink\" href=\"../__pv_it/demonstrations/a601e1438d291d7df2d8fbfa7e33ad89074d36640/expr.ipynb\"><img src=\"data:image/png;base64,iVBORw0KGgoAAAANSUhEUgAAAHsAAAAyBAMAAACOvrnoAAAAMFBMVEX///8AAAAAAAAAAAAAAAAA\n",
       "AAAAAAAAAAAAAAAAAAAAAAAAAAAAAAAAAAAAAAAAAAAv3aB7AAAAD3RSTlMAuzKrZonNIu/ddhCZ\n",
       "VERetuGgAAAACXBIWXMAAA7EAAAOxAGVKw4bAAADA0lEQVRIx6VXzWsTQRR/u9k0H5uv6kkKmouC\n",
       "p4bqQUFoQBBvCfRWKwkIXrS4F/FSaKHUHgQb0EMDChERFA/JsQUhgYKKBu3RW/oHCI0ftZi1xvna\n",
       "zU52ZnbBB9mdN+/9dmbe17wAINLyICRzCsLQef9UHkwL4GwrBDpSRo+lt8e8cxs36wiarokR+LPR\n",
       "+XeUuYJ+sRxU9jwKm7+v4dec8EyX7iD4ImxbmIut4x1YEF/xqBToK1EUrt5sgVGDaI6oNNAjbkPk\n",
       "0A9PP5DBtQKkbTy+Ss5fg8h3Pxxuy+DZDuhHeLzG5hJ9rzNezJD3viWBtxH8JxombTY33fAoTMEy\n",
       "seREQQJfLoM+wIs6Co94FY04LW0r4Ad4URZyqRyvkiKWNAeyzZchg2UX2NRlbukqpKglT8hNl8am\n",
       "W2UuKsO9kTyOHEEtWbIkjsuBgQ5GzIfoNMDrkTyKvkAP0y5KwmYFUlVkeBossSfdrifAYx14SdMl\n",
       "LjJ9BW3pKWwhq2k0VBPD4bDqUVja+eh1AE/nNm4U4c08jox4Tp2O0b5SjKJHScZfpZiLNQHpA6W4\n",
       "t6uGm3+U4lI+oBb9UEqbVgD8m1JaCaqG92kG1An5guBzELyulM7S1xATdnG7yrGoaPogQ5f6Dtyl\n",
       "xHgcbCpXD7l52dkrVijTSR0X5PfV/wsbddT12NV0d+Gkd9plzQMhrLtDbTZNq4nZ4aJ/xIpTZruh\n",
       "r5NBljoqecQ8DmMsqYc+QvV1kvqZamUeQtYDH7HJQxH8lxPtEfde7fFFkbERUbUxUR41idEM5xrJ\n",
       "POY0HFZczPDq5PM6O5v+fIYrMg673JCc/VSDD4uxusNY4TUBW3v6LJW/d28W/jZk7EVxCftwnYXr\n",
       "PjGBngfN46IROwioMzRDszYHd1nDlsEnWSG32V3k3bzLJoTtAXxpmU4rQ5oTo8j53WXFzQm8ammO\n",
       "dokc4muXSxmHPS65uhY+OcOJsjwfM3ZgT8pyR0iJ3eCe9plcNBe2JRbvvRqmIV+UCc6Eacjlfwdu\n",
       "BSH/ATYu7SZpZHA7AAAAAElFTkSuQmCC\n",
       "\" style=\"display:inline;vertical-align:middle;\" /></a></span>"
      ],
      "text/plain": [
       "|- ((2 / 3) * (5 / 3)) = (10 / 9)"
      ]
     },
     "metadata": {},
     "output_type": "display_data"
    }
   ],
   "source": [
    "Mult(frac(num(2), num(3)), frac(num(5), num(3))).evaluation()"
   ]
  },
  {
   "cell_type": "code",
   "execution_count": 9,
   "metadata": {},
   "outputs": [
    {
     "data": {
      "text/html": [
       "<span style=\"font-size:20px;\"> <a class=\"ProveItLink\" href=\"../__pv_it/demonstrations/33484406267c783ecd4dd795d082eb8b86e389570/proof.ipynb\" style=\"text-decoration: none\">&nbsp;&#x22A2;&nbsp;&nbsp;</a><a class=\"ProveItLink\" href=\"../__pv_it/demonstrations/759aaf9fbd3fc7b85fe815d531cee080a5aaf2ca0/expr.ipynb\"><img src=\"data:image/png;base64,iVBORw0KGgoAAAANSUhEUgAAALkAAAAyBAMAAADy9Gd0AAAAMFBMVEX///8AAAAAAAAAAAAAAAAA\n",
       "AAAAAAAAAAAAAAAAAAAAAAAAAAAAAAAAAAAAAAAAAAAv3aB7AAAAD3RSTlMAuzKrZonNIu/ddhCZ\n",
       "VERetuGgAAAACXBIWXMAAA7EAAAOxAGVKw4bAAAD60lEQVRYw5VYTWgTQRR+u0ma7OZvERG9aFCE\n",
       "6iWlVShYaEAR8ZIF6aUIKRQPRcRcRA8FU4oUKbSFqmB/oCKePGS9+AOFxIs/EGiO6iU9iYLQEmoD\n",
       "pm3c7G52387MdjZzSPbtzvftzHvfvDezAHoTUnB4e6N5PzvCQ1zwxooA7/TfZc8OgQwbZyMCKro9\n",
       "+ck1mMjuRLvfd0/2i9g4p484NPoZMOIqeh5WILeJbGn+aXuOoT4P8uCYcx0duqv3vQMf8ggRnsET\n",
       "zUOkgG3r/4kH+4M8tooaBBcgpCCEtIY90YRAg8H+zSOuS0CwC30QbyLENVeQFiBQZ7D3lNmOKZDs\n",
       "yTKI+wjxiEBI25j9+g1DrokGkz2ikuwlnX3HQchNApHGnhK08IFxMc5kL2qk+VAF8Z+DkEg5LBL2\n",
       "CeO3xnT8IrDY/zqItDHz6MTzdtOvYwrBsGHIorTGWjN1ir2kQsIcu4EYJBCXXdYxnd14vbDAWqgF\n",
       "YEQ1vg82YtrdIa7CfWQ+Bhg21cEKa6SPYhcUCDZthBlgp50FeI1MXRNT5kLcYbCnMxS7rtHYmI2Q\n",
       "3WMKr1Qq2AeTIM+aV9MsyeTddk63V+F9ykYIbtdJrVZrDL+tMqRh6bjbcbc5MD+egfXRfkdsEQX8\n",
       "tRzj3hQPUSr7ZM9uUreiezxEes0nO6OjtSgPQdSqPtkZk7SEfQgim/LJnqQLSLDOQ5Ci8u5Lh19u\n",
       "8BA5zSd7xBTqVyMfmdkr1OQhNvyyS3SiiTV5CDOLQAu3dvmI7hqTM2yzb4FOYtuu9OomMBDDXm9e\n",
       "IUfixe499kLXnsF+53sml+8uqriFGjxE0a/eI7Te5ToP4X81lbteTWWooeR07+ZJskd45KPVoaTS\n",
       "meCAFmnlkpMJVFxeomU666zbyYSVxah6FV2C3jzKYmjC8j6UyNAVq6bwgZnu9hhlXLAzho6QHL7E\n",
       "HCRJ9l+bsMuucu32jHL1GEoPOsK9aajRe/24NX3Wshukkq4Csh0MHRHEKyLB2Ej/znhXuazGGPsO\n",
       "qosiqgDiy36K4PyAKdkwqw6lqwy/dzoaCNdOghE6SzO+dksQnYMzneEaiC/gPhxQbV6zNvZ0i1GZ\n",
       "bf3Vj7pzFADYspeTmAKBrJSnAU4Z80myqnuCXk6OZgyEZAs+2aTZW5rFntX8pOn25lTBIXdEo3uR\n",
       "8sx0xzOL7C0L8c74LJRSrr29fbIJZmi9X7H07u9kA/IyHO14rUG8/0+FymKJipnFBPaBNUjOdaTS\n",
       "CaOF6FF95N8tjxJ2i4cQZ3ywr3rc783zEC/45J4neVnhIQJ81/z09xWCibjDIxdvez7qqfIQ3K8/\n",
       "b7v++mMi/gN1L0YYNLhzUAAAAABJRU5ErkJggg==\n",
       "\" style=\"display:inline;vertical-align:middle;\" /></a></span>"
      ],
      "text/plain": [
       "|- (((-2) / 3) * (5 / 3)) = (-(10 / 9))"
      ]
     },
     "metadata": {},
     "output_type": "display_data"
    }
   ],
   "source": [
    "Mult(frac(num(-2), num(3)), frac(num(5), num(3))).evaluation()"
   ]
  },
  {
   "cell_type": "code",
   "execution_count": 10,
   "metadata": {},
   "outputs": [
    {
     "data": {
      "text/html": [
       "<span style=\"font-size:20px;\"> <a class=\"ProveItLink\" href=\"../__pv_it/demonstrations/088711354e7d1962715166c7d1110945af830c0a0/proof.ipynb\" style=\"text-decoration: none\">&nbsp;&#x22A2;&nbsp;&nbsp;</a><a class=\"ProveItLink\" href=\"../__pv_it/demonstrations/e80fc2d264689bd920ee97d32e3bb8f9786e098d0/expr.ipynb\"><img src=\"data:image/png;base64,iVBORw0KGgoAAAANSUhEUgAAAJIAAAAyBAMAAABFSZ9TAAAAMFBMVEX///8AAAAAAAAAAAAAAAAA\n",
       "AAAAAAAAAAAAAAAAAAAAAAAAAAAAAAAAAAAAAAAAAAAv3aB7AAAAD3RSTlMAuzKrZonNIu/ddhCZ\n",
       "VERetuGgAAAACXBIWXMAAA7EAAAOxAGVKw4bAAADC0lEQVRIx6VXzWsTQRR/2U2bTTZfKApS0FwU\n",
       "PFVaDwpCA0IVLwmEXlRIEBHqB+RivQSqBC1SsAEVEvQQEVHxYG56S0AQwaD5D9o/QGi0VbFrGycz\n",
       "m92Z2Zn9qO+yO/NmfzPz3u99LACSUAZ8iT7hteI4+JSjLXe9mqcGlY97HAvm5sxDJ2oSCKWDH7PU\n",
       "VCQNxTVu2cKaOkIoSJCix/DHS/T5yqDd5pZdhVB69EVWjPQaI0Wb1JRmgPqbXZUwqPdl8eVmMdJZ\n",
       "xmY1UH+wy0L0Ga8LkcbGMdJd/s59dqxdOv/FGqyXRUgvMVLM4KYnm+w4dRm03mhANuckksXTUV73\n",
       "kBu3+xBfFhnNvhzZYBJzRZ9vDAW9x9M8Ug3COxbNtwRIZwjSCW76NL8uVYLwpjU6ILhckyBVOZ/n\n",
       "4RbnO/pMkHOaPDk9PVPNg7LJTh8GeMNhIzvZRGgLuamhM8VYHkaedrt8cO2D9z3mG6ek0hzvkCcH\n",
       "g0GJd013irmrU+KHNpqgpSGQjPVlmnYnGBJlfA9Ge4myJdOs9oIh6X9lmlwmGBJsyBRvywGRvssU\n",
       "xVZApHvE7zhMGzS5vgZFasgUM+QxoGVImXZJOA1QdxIca0dIzmoh41lddqZd3k5gp2J5VxYXsSAo\n",
       "n6r/ycwM6ObhBRxXAN6haKFq982LB2VIK1caxKD6T0Ge+zX/BEWwnQP1jjwK638uyCM4uvIYbZOy\n",
       "vR3bNlkkEMtJiW1Bs0Pw7G+TD4Z1xAOJy9YUkspk39WsF5LalyGF6aKafCRt+16YuVyUrdVzBcQA\n",
       "hbq38nxKhjQBi8TJi4IcG2pFdnimuWRQs6jkxDExLM2fgG3E2FxrtQsQJ6Y+KQlftMG6RU0lA6Ft\n",
       "yYFKECcNmqgg7EdIGTp9pAwpklYznRYWdT33SZqzdahQa4akXo6cFhUVc9SF32G6w3BWyqdIB161\n",
       "pN1hBWK4VctZue5bVxrBlQ+f8XOvcJ/uKYwxnvefnJKGa31e8o8Uda/Yz/wjFQL8AblfruSx4IZf\n",
       "pCNehcj3n+I1F+U/6xjXMuBdS9AAAAAASUVORK5CYII=\n",
       "\" style=\"display:inline;vertical-align:middle;\" /></a></span>"
      ],
      "text/plain": [
       "|- (((-2) / 3) * (6 / (-5))) = (4 / 5)"
      ]
     },
     "metadata": {},
     "output_type": "display_data"
    }
   ],
   "source": [
    "Mult(frac(num(-2), num(3)), frac(num(6), num(-5))).evaluation()"
   ]
  },
  {
   "cell_type": "code",
   "execution_count": 11,
   "metadata": {},
   "outputs": [
    {
     "data": {
      "text/html": [
       "<strong id=\"expr\">expr:</strong> <a class=\"ProveItLink\" href=\"../__pv_it/demonstrations/4ffd70d2a98ba12abc33e07d1c482d1790c8812f0/expr.ipynb\"><img src=\"data:image/png;base64,iVBORw0KGgoAAAANSUhEUgAAAKMAAAAqBAMAAAAt/fajAAAAMFBMVEX///8AAAAAAAAAAAAAAAAA\n",
       "AAAAAAAAAAAAAAAAAAAAAAAAAAAAAAAAAAAAAAAAAAAv3aB7AAAAD3RSTlMAMpndq3ZmzYkiRO+7\n",
       "EFRAb64nAAAACXBIWXMAAA7EAAAOxAGVKw4bAAABx0lEQVRIx2NgoCoQvkBd8xh4neqpbSQDQ/yo\n",
       "kaNGjhpJJuifgFWYTU00iJAIDuCyvyQBzBBCiM1oOsVwbXUCN7JlQmginEo1AigasAATRFGiwPD+\n",
       "wdxwBv4LKNKoInMYOH6haMA0kRVhJOs/hvsFDK4Mq9GkUUQ8GRh2o2rAAGIlcCbXLgb+AoaNDEqM\n",
       "qNIoIvsvMPhPQNGAARpKkHnvEzg/MBg+RJFGFXFmYPAXQNaA6e8JyEZymTFwOTBEJKBIo4oAgT2K\n",
       "BgwwjQHJSMYQR3zSMFVf8WgAeQxVD3oENmAxktkBjwZgMp4A0QOLOO6/8ATyHUkaAqCKdODSMA0Q\n",
       "if8g8IFhKgNED7MCyBsCDDz/4AYYATFMGuo8BbArHODSMA0QCShY4uLy2wPG4f+LbCSGNBS8YOCc\n",
       "gFMDBGyBs7gdkDyOKQ2NkQYG1gv4NADBH0TAJmBJZn/Q+JOVlJTxagAG9n9XOHuR0il80pBE+f//\n",
       "dxwaBBh4J1C5uNxfbkztMtj6cy+1C3UHqlcTQ8RItwhHaht5lmH+Aqq7k8eA6kYy/aSyEwsYmD5S\n",
       "10huAwaWD9Q1kgNo6gHqGsmpwBBN7Tw+SUWXgQEAAGiRoL1aQSgAAAAASUVORK5CYII=\n",
       "\" style=\"display:inline;vertical-align:middle;\" /></a><br>"
      ],
      "text/plain": [
       "<IPython.core.display.HTML object>"
      ]
     },
     "metadata": {},
     "output_type": "display_data"
    }
   ],
   "source": [
    "expr = Mult(four, Exp(three, n), Exp(four, n), two, three, frac(one, five))"
   ]
  },
  {
   "cell_type": "code",
   "execution_count": 12,
   "metadata": {},
   "outputs": [
    {
     "data": {
      "text/html": [
       "<span style=\"font-size:20px;\"><a class=\"ProveItLink\" href=\"../../number_sets/natural_numbers/__pv_it/theorems/132c57ec1224a4beaf274a23bd799047020206590/expr.ipynb\"><img src=\"data:image/png;base64,iVBORw0KGgoAAAANSUhEUgAAAEEAAAATBAMAAAA9n32KAAAAMFBMVEX///9mZmYQEBCYmJgyMjKq\n",
       "qqrMzMwiIiJERER2dnbc3Nzu7u5UVFSIiIi6uroAAAA6K1lcAAAAAXRSTlMAQObYZgAAAAlwSFlz\n",
       "AAAOxAAADsQBlSsOGwAAAPlJREFUKM9jYMAHGBkIAQ6yVWz/0bKBYdKnB3jMaOU7wMD9AZ8txxdM\n",
       "ZmBQYJDoaOroMMCq4mgDywKGAmxm3CgvdwDRp2y5HLCqeHIbyjjFk3AToYLvzq65vWBxLm+Y0lMM\n",
       "DRwP4Co4Oc4y7F8AYrEsQKhI5K4ugIXpO/YGhvUJYBUMCBXMAREKMN6G/Q8Y4jeAWEnlQNAAUcFw\n",
       "mgeugiGegeEImLEDyQyGPdwFcC5Q+jM3iMGOrILtQgOcq8nA+psTxOC9ABNqA+JrcBVc3xh4HczA\n",
       "TFeYGIjB6ADj8RUwcB8OADP39IFdzJDyCaif2wFbfLxsL8cUBwB3/0NP0Yie0QAAAABJRU5ErkJg\n",
       "gg==\n",
       "\" style=\"display:inline;vertical-align:middle;\" /></a> <a class=\"ProveItLink\" href=\"../__pv_it/demonstrations/eb6e22035d7e3d3de9bb23bafe720f0775c4e3430/proof.ipynb\" style=\"text-decoration: none\">&nbsp;&#x22A2;&nbsp;&nbsp;</a><a class=\"ProveItLink\" href=\"../__pv_it/demonstrations/1e9ce65899fdbe8316df79a82d31400957382e810/expr.ipynb\"><img src=\"data:image/png;base64,iVBORw0KGgoAAAANSUhEUgAAAVkAAAAyBAMAAAAEmLXFAAAAMFBMVEX///8AAAAAAAAAAAAAAAAA\n",
       "AAAAAAAAAAAAAAAAAAAAAAAAAAAAAAAAAAAAAAAAAAAv3aB7AAAAD3RSTlMAuzKrZonNIu/ddhCZ\n",
       "VERetuGgAAAACXBIWXMAAA7EAAAOxAGVKw4bAAAFF0lEQVRo3rVaX4gbRRj/skluN3u55PBJEWwQ\n",
       "BS2VC00PaxFyqFQfxORBnxQuUvRFxAgVtRYbPaU+eYcnYvXEE6n/IRHEBxEuhyIWAwZB0KcLFOQE\n",
       "oe15XNX0Ls7OzE5md2d2J83OB93tzTf5fb/MfP9m7gCQJAoQu3zZkuuuGQvuUPxkwXhXqkrOjQOX\n",
       "rMbM9FZnIX6XqmfRP7PzqLOhRlsVk8EdjZfr5J1POWzTRYk+VUOPpyG9h16ZoiqqC2eejtsLmtjJ\n",
       "3pRon6ujx+0Ar6HXp8psXbjMqh62v0ni7B3nsdiCch2Mo+psKdx9oIfthNgnUw3neQdAuQDpCXW2\n",
       "FO5VTWxzl4VKy43p9wE+HoEtgbP7mtjCsTAlGP+BOTcCWwKXKepiuyF03GX6RnbTMApbDDdT0MV2\n",
       "TRS+xhb9zzrAvSOxxXCHQRfbxJKokDVosBXBXB2JLYZb0MY2JQozi/L7FcwXS6XygnoddeCMbW1s\n",
       "J0XQM6RJMKpgt4bclWokgrPFeQbuv+szX75Mfb//CzXc+Tp5i7atSXTPdzrn0Cs/PYJZBJdoiL/I\n",
       "A6+AryJ/tTln1VXIlhaPkQW8TqC8libbwWAHILvv71V1swjOcr/dAaY3H1rvmd/UwJOID8ALH0F+\n",
       "mJNO/sB1qc88coNwjQVjL0m/ZKRZBLfW9uVBgG9haheSq7mGL00egc0h9DTM99iKtGGjK7Bf6QX3\n",
       "7IqUbaRZBDdDt8Iesm12J3fAKmTbXCZ21C9Dx2CJqA4Wg7V3Ya0miqhgwkUVTBqbUWYRnLsoNw3r\n",
       "5GYPduAUZG7jPobU5kV44xeWiPqQZPGZex3yIrZrwb4GLZ9MIs0iuArVVfmqPrUN58F+kBtB6lwR\n",
       "zrIzSnIJklt8WRSdXvLB/JTaCgnPCLMIjmYUu86z/dNv26umhf4i1yAJW+9AfpInTBWzCG6exNtx\n",
       "vmPaX/L3DscFDRXnlcaHB4XNIXGPc2ccIXGRDun4oswiuJ8J26pnPOBdVQHbZU+DJMoJmWCjkA3r\n",
       "TyPMIrgycac6GXdDe5ElVjziqkkS2iF2p/kPWH32w8AR7CWZYOVJEvfJD5iIzWIjHrMYjrA94Ta7\n",
       "ThTfCLCPLRUeOeFprVfw8+6h2ihAYtf9wQsvYevfhIBZbMRr1oEjnnC+VPpn1h0dtPiPBdR016rw\n",
       "LHP/PmEr8QTeb0M8IdIsgnM7EK4FWeC3BEDcodwM8DnXBVp9eZR5rgXkOSHSLIJrunF4iY3e4yQ+\n",
       "v1zyFfWVTofFUGpOnG8F/aAtz7eRZhGcWx3WB0dY8uysBwo8pya7guJjuHJ/dfiupgCTZMPy7bDq\n",
       "wKapmkVwG73Ym/HFx8/Qg1nwYDC1F5ymfDCrur18nPL2vw/Lu5rt4DRVQXD5duxsi2El40pwmvIR\n",
       "vQuZmj62TcFR462rZ4vgkg19bMsC5eGrZ4vgUvFfLB06e1B+qqm0AtNUBcEZu7GzvR5O4URjis4J\n",
       "M13/NFXBcBpuP+gtTejth/QyJ/T2A37UwDZ7mZ4vBKqGf5qqYLgLcZeHRA2yuGLlRbd2uT3/NFXB\n",
       "cJm4E661RPvCirBUrfinqQqGiz0ppN0rlWW5UX6aqhC4uG/yzTZ84jCKuMl3p6kKhau0YqZ78ruf\n",
       "sGOK0z/bSzpNORwI3EQVtMgFySo8NhaccVoP2/ck47fUx4L7QAtZ6W9O7emx4JJaXOEPqWZ2PLgn\n",
       "NZA1npCqJrpjwSUK8bP9Ot6/piBw/wMxY6n36WJPWQAAAABJRU5ErkJggg==\n",
       "\" style=\"display:inline;vertical-align:middle;\" /></a></span>"
      ],
      "text/plain": [
       "{n in NaturalPos} |- (4 * 3^{n} * 4^{n} * 2 * 3 * (1 / 5)) = ((24 / 5) * 3^{n} * 4^{n})"
      ]
     },
     "metadata": {},
     "output_type": "display_data"
    }
   ],
   "source": [
    "expr.simplification(assumptions=[InSet(n, NaturalPos)])"
   ]
  },
  {
   "cell_type": "code",
   "execution_count": 13,
   "metadata": {},
   "outputs": [
    {
     "data": {
      "text/html": [
       "<span style=\"font-size:20px;\"><a class=\"ProveItLink\" href=\"../../number_sets/natural_numbers/__pv_it/theorems/132c57ec1224a4beaf274a23bd799047020206590/expr.ipynb\"><img src=\"data:image/png;base64,iVBORw0KGgoAAAANSUhEUgAAAEEAAAATBAMAAAA9n32KAAAAMFBMVEX///9mZmYQEBCYmJgyMjKq\n",
       "qqrMzMwiIiJERER2dnbc3Nzu7u5UVFSIiIi6uroAAAA6K1lcAAAAAXRSTlMAQObYZgAAAAlwSFlz\n",
       "AAAOxAAADsQBlSsOGwAAAPlJREFUKM9jYMAHGBkIAQ6yVWz/0bKBYdKnB3jMaOU7wMD9AZ8txxdM\n",
       "ZmBQYJDoaOroMMCq4mgDywKGAmxm3CgvdwDRp2y5HLCqeHIbyjjFk3AToYLvzq65vWBxLm+Y0lMM\n",
       "DRwP4Co4Oc4y7F8AYrEsQKhI5K4ugIXpO/YGhvUJYBUMCBXMAREKMN6G/Q8Y4jeAWEnlQNAAUcFw\n",
       "mgeugiGegeEImLEDyQyGPdwFcC5Q+jM3iMGOrILtQgOcq8nA+psTxOC9ABNqA+JrcBVc3xh4HczA\n",
       "TFeYGIjB6ADj8RUwcB8OADP39IFdzJDyCaif2wFbfLxsL8cUBwB3/0NP0Yie0QAAAABJRU5ErkJg\n",
       "gg==\n",
       "\" style=\"display:inline;vertical-align:middle;\" /></a> <a class=\"ProveItLink\" href=\"../__pv_it/demonstrations/eb6e22035d7e3d3de9bb23bafe720f0775c4e3430/proof.ipynb\" style=\"text-decoration: none\">&nbsp;&#x22A2;&nbsp;&nbsp;</a><a class=\"ProveItLink\" href=\"../__pv_it/demonstrations/1e9ce65899fdbe8316df79a82d31400957382e810/expr.ipynb\"><img src=\"data:image/png;base64,iVBORw0KGgoAAAANSUhEUgAAAVkAAAAyBAMAAAAEmLXFAAAAMFBMVEX///8AAAAAAAAAAAAAAAAA\n",
       "AAAAAAAAAAAAAAAAAAAAAAAAAAAAAAAAAAAAAAAAAAAv3aB7AAAAD3RSTlMAuzKrZonNIu/ddhCZ\n",
       "VERetuGgAAAACXBIWXMAAA7EAAAOxAGVKw4bAAAFF0lEQVRo3rVaX4gbRRj/skluN3u55PBJEWwQ\n",
       "BS2VC00PaxFyqFQfxORBnxQuUvRFxAgVtRYbPaU+eYcnYvXEE6n/IRHEBxEuhyIWAwZB0KcLFOQE\n",
       "oe15XNX0Ls7OzE5md2d2J83OB93tzTf5fb/MfP9m7gCQJAoQu3zZkuuuGQvuUPxkwXhXqkrOjQOX\n",
       "rMbM9FZnIX6XqmfRP7PzqLOhRlsVk8EdjZfr5J1POWzTRYk+VUOPpyG9h16ZoiqqC2eejtsLmtjJ\n",
       "3pRon6ujx+0Ar6HXp8psXbjMqh62v0ni7B3nsdiCch2Mo+psKdx9oIfthNgnUw3neQdAuQDpCXW2\n",
       "FO5VTWxzl4VKy43p9wE+HoEtgbP7mtjCsTAlGP+BOTcCWwKXKepiuyF03GX6RnbTMApbDDdT0MV2\n",
       "TRS+xhb9zzrAvSOxxXCHQRfbxJKokDVosBXBXB2JLYZb0MY2JQozi/L7FcwXS6XygnoddeCMbW1s\n",
       "J0XQM6RJMKpgt4bclWokgrPFeQbuv+szX75Mfb//CzXc+Tp5i7atSXTPdzrn0Cs/PYJZBJdoiL/I\n",
       "A6+AryJ/tTln1VXIlhaPkQW8TqC8libbwWAHILvv71V1swjOcr/dAaY3H1rvmd/UwJOID8ALH0F+\n",
       "mJNO/sB1qc88coNwjQVjL0m/ZKRZBLfW9uVBgG9haheSq7mGL00egc0h9DTM99iKtGGjK7Bf6QX3\n",
       "7IqUbaRZBDdDt8Iesm12J3fAKmTbXCZ21C9Dx2CJqA4Wg7V3Ya0miqhgwkUVTBqbUWYRnLsoNw3r\n",
       "5GYPduAUZG7jPobU5kV44xeWiPqQZPGZex3yIrZrwb4GLZ9MIs0iuArVVfmqPrUN58F+kBtB6lwR\n",
       "zrIzSnIJklt8WRSdXvLB/JTaCgnPCLMIjmYUu86z/dNv26umhf4i1yAJW+9AfpInTBWzCG6exNtx\n",
       "vmPaX/L3DscFDRXnlcaHB4XNIXGPc2ccIXGRDun4oswiuJ8J26pnPOBdVQHbZU+DJMoJmWCjkA3r\n",
       "TyPMIrgycac6GXdDe5ElVjziqkkS2iF2p/kPWH32w8AR7CWZYOVJEvfJD5iIzWIjHrMYjrA94Ta7\n",
       "ThTfCLCPLRUeOeFprVfw8+6h2ihAYtf9wQsvYevfhIBZbMRr1oEjnnC+VPpn1h0dtPiPBdR016rw\n",
       "LHP/PmEr8QTeb0M8IdIsgnM7EK4FWeC3BEDcodwM8DnXBVp9eZR5rgXkOSHSLIJrunF4iY3e4yQ+\n",
       "v1zyFfWVTofFUGpOnG8F/aAtz7eRZhGcWx3WB0dY8uysBwo8pya7guJjuHJ/dfiupgCTZMPy7bDq\n",
       "wKapmkVwG73Ym/HFx8/Qg1nwYDC1F5ymfDCrur18nPL2vw/Lu5rt4DRVQXD5duxsi2El40pwmvIR\n",
       "vQuZmj62TcFR462rZ4vgkg19bMsC5eGrZ4vgUvFfLB06e1B+qqm0AtNUBcEZu7GzvR5O4URjis4J\n",
       "M13/NFXBcBpuP+gtTejth/QyJ/T2A37UwDZ7mZ4vBKqGf5qqYLgLcZeHRA2yuGLlRbd2uT3/NFXB\n",
       "cJm4E661RPvCirBUrfinqQqGiz0ppN0rlWW5UX6aqhC4uG/yzTZ84jCKuMl3p6kKhau0YqZ78ruf\n",
       "sGOK0z/bSzpNORwI3EQVtMgFySo8NhaccVoP2/ck47fUx4L7QAtZ6W9O7emx4JJaXOEPqWZ2PLgn\n",
       "NZA1npCqJrpjwSUK8bP9Ot6/piBw/wMxY6n36WJPWQAAAABJRU5ErkJggg==\n",
       "\" style=\"display:inline;vertical-align:middle;\" /></a></span>"
      ],
      "text/plain": [
       "{n in NaturalPos} |- (4 * 3^{n} * 4^{n} * 2 * 3 * (1 / 5)) = ((24 / 5) * 3^{n} * 4^{n})"
      ]
     },
     "metadata": {},
     "output_type": "display_data"
    }
   ],
   "source": [
    "expr.simplification(assumptions=[InSet(n, NaturalPos)])"
   ]
  },
  {
   "cell_type": "code",
   "execution_count": 14,
   "metadata": {},
   "outputs": [
    {
     "data": {
      "text/html": [
       "<span style=\"font-size:20px;\"><a class=\"ProveItLink\" href=\"../../number_sets/natural_numbers/__pv_it/theorems/132c57ec1224a4beaf274a23bd799047020206590/expr.ipynb\"><img src=\"data:image/png;base64,iVBORw0KGgoAAAANSUhEUgAAAEEAAAATBAMAAAA9n32KAAAAMFBMVEX///9mZmYQEBCYmJgyMjKq\n",
       "qqrMzMwiIiJERER2dnbc3Nzu7u5UVFSIiIi6uroAAAA6K1lcAAAAAXRSTlMAQObYZgAAAAlwSFlz\n",
       "AAAOxAAADsQBlSsOGwAAAPlJREFUKM9jYMAHGBkIAQ6yVWz/0bKBYdKnB3jMaOU7wMD9AZ8txxdM\n",
       "ZmBQYJDoaOroMMCq4mgDywKGAmxm3CgvdwDRp2y5HLCqeHIbyjjFk3AToYLvzq65vWBxLm+Y0lMM\n",
       "DRwP4Co4Oc4y7F8AYrEsQKhI5K4ugIXpO/YGhvUJYBUMCBXMAREKMN6G/Q8Y4jeAWEnlQNAAUcFw\n",
       "mgeugiGegeEImLEDyQyGPdwFcC5Q+jM3iMGOrILtQgOcq8nA+psTxOC9ABNqA+JrcBVc3xh4HczA\n",
       "TFeYGIjB6ADj8RUwcB8OADP39IFdzJDyCaif2wFbfLxsL8cUBwB3/0NP0Yie0QAAAABJRU5ErkJg\n",
       "gg==\n",
       "\" style=\"display:inline;vertical-align:middle;\" /></a> <a class=\"ProveItLink\" href=\"../__pv_it/demonstrations/eb6e22035d7e3d3de9bb23bafe720f0775c4e3430/proof.ipynb\" style=\"text-decoration: none\">&nbsp;&#x22A2;&nbsp;&nbsp;</a><a class=\"ProveItLink\" href=\"../__pv_it/demonstrations/1e9ce65899fdbe8316df79a82d31400957382e810/expr.ipynb\"><img src=\"data:image/png;base64,iVBORw0KGgoAAAANSUhEUgAAAVkAAAAyBAMAAAAEmLXFAAAAMFBMVEX///8AAAAAAAAAAAAAAAAA\n",
       "AAAAAAAAAAAAAAAAAAAAAAAAAAAAAAAAAAAAAAAAAAAv3aB7AAAAD3RSTlMAuzKrZonNIu/ddhCZ\n",
       "VERetuGgAAAACXBIWXMAAA7EAAAOxAGVKw4bAAAFF0lEQVRo3rVaX4gbRRj/skluN3u55PBJEWwQ\n",
       "BS2VC00PaxFyqFQfxORBnxQuUvRFxAgVtRYbPaU+eYcnYvXEE6n/IRHEBxEuhyIWAwZB0KcLFOQE\n",
       "oe15XNX0Ls7OzE5md2d2J83OB93tzTf5fb/MfP9m7gCQJAoQu3zZkuuuGQvuUPxkwXhXqkrOjQOX\n",
       "rMbM9FZnIX6XqmfRP7PzqLOhRlsVk8EdjZfr5J1POWzTRYk+VUOPpyG9h16ZoiqqC2eejtsLmtjJ\n",
       "3pRon6ujx+0Ar6HXp8psXbjMqh62v0ni7B3nsdiCch2Mo+psKdx9oIfthNgnUw3neQdAuQDpCXW2\n",
       "FO5VTWxzl4VKy43p9wE+HoEtgbP7mtjCsTAlGP+BOTcCWwKXKepiuyF03GX6RnbTMApbDDdT0MV2\n",
       "TRS+xhb9zzrAvSOxxXCHQRfbxJKokDVosBXBXB2JLYZb0MY2JQozi/L7FcwXS6XygnoddeCMbW1s\n",
       "J0XQM6RJMKpgt4bclWokgrPFeQbuv+szX75Mfb//CzXc+Tp5i7atSXTPdzrn0Cs/PYJZBJdoiL/I\n",
       "A6+AryJ/tTln1VXIlhaPkQW8TqC8libbwWAHILvv71V1swjOcr/dAaY3H1rvmd/UwJOID8ALH0F+\n",
       "mJNO/sB1qc88coNwjQVjL0m/ZKRZBLfW9uVBgG9haheSq7mGL00egc0h9DTM99iKtGGjK7Bf6QX3\n",
       "7IqUbaRZBDdDt8Iesm12J3fAKmTbXCZ21C9Dx2CJqA4Wg7V3Ya0miqhgwkUVTBqbUWYRnLsoNw3r\n",
       "5GYPduAUZG7jPobU5kV44xeWiPqQZPGZex3yIrZrwb4GLZ9MIs0iuArVVfmqPrUN58F+kBtB6lwR\n",
       "zrIzSnIJklt8WRSdXvLB/JTaCgnPCLMIjmYUu86z/dNv26umhf4i1yAJW+9AfpInTBWzCG6exNtx\n",
       "vmPaX/L3DscFDRXnlcaHB4XNIXGPc2ccIXGRDun4oswiuJ8J26pnPOBdVQHbZU+DJMoJmWCjkA3r\n",
       "TyPMIrgycac6GXdDe5ElVjziqkkS2iF2p/kPWH32w8AR7CWZYOVJEvfJD5iIzWIjHrMYjrA94Ta7\n",
       "ThTfCLCPLRUeOeFprVfw8+6h2ihAYtf9wQsvYevfhIBZbMRr1oEjnnC+VPpn1h0dtPiPBdR016rw\n",
       "LHP/PmEr8QTeb0M8IdIsgnM7EK4FWeC3BEDcodwM8DnXBVp9eZR5rgXkOSHSLIJrunF4iY3e4yQ+\n",
       "v1zyFfWVTofFUGpOnG8F/aAtz7eRZhGcWx3WB0dY8uysBwo8pya7guJjuHJ/dfiupgCTZMPy7bDq\n",
       "wKapmkVwG73Ym/HFx8/Qg1nwYDC1F5ymfDCrur18nPL2vw/Lu5rt4DRVQXD5duxsi2El40pwmvIR\n",
       "vQuZmj62TcFR462rZ4vgkg19bMsC5eGrZ4vgUvFfLB06e1B+qqm0AtNUBcEZu7GzvR5O4URjis4J\n",
       "M13/NFXBcBpuP+gtTejth/QyJ/T2A37UwDZ7mZ4vBKqGf5qqYLgLcZeHRA2yuGLlRbd2uT3/NFXB\n",
       "cJm4E661RPvCirBUrfinqQqGiz0ppN0rlWW5UX6aqhC4uG/yzTZ84jCKuMl3p6kKhau0YqZ78ruf\n",
       "sGOK0z/bSzpNORwI3EQVtMgFySo8NhaccVoP2/ck47fUx4L7QAtZ6W9O7emx4JJaXOEPqWZ2PLgn\n",
       "NZA1npCqJrpjwSUK8bP9Ot6/piBw/wMxY6n36WJPWQAAAABJRU5ErkJggg==\n",
       "\" style=\"display:inline;vertical-align:middle;\" /></a></span>"
      ],
      "text/plain": [
       "{n in NaturalPos} |- (4 * 3^{n} * 4^{n} * 2 * 3 * (1 / 5)) = ((24 / 5) * 3^{n} * 4^{n})"
      ]
     },
     "metadata": {},
     "output_type": "display_data"
    }
   ],
   "source": [
    "with Mult.temporary_simplification_directives() as tmp_directives:\n",
    "    tmp_directives.combine_numeric_rationals=False\n",
    "    display(expr.simplification(assumptions=[InSet(n, NaturalPos)]))"
   ]
  },
  {
   "cell_type": "code",
   "execution_count": 15,
   "metadata": {},
   "outputs": [
    {
     "data": {
      "text/html": [
       "<span style=\"font-size:20px;\"><a class=\"ProveItLink\" href=\"../../number_sets/natural_numbers/__pv_it/theorems/132c57ec1224a4beaf274a23bd799047020206590/expr.ipynb\"><img src=\"data:image/png;base64,iVBORw0KGgoAAAANSUhEUgAAAEEAAAATBAMAAAA9n32KAAAAMFBMVEX///9mZmYQEBCYmJgyMjKq\n",
       "qqrMzMwiIiJERER2dnbc3Nzu7u5UVFSIiIi6uroAAAA6K1lcAAAAAXRSTlMAQObYZgAAAAlwSFlz\n",
       "AAAOxAAADsQBlSsOGwAAAPlJREFUKM9jYMAHGBkIAQ6yVWz/0bKBYdKnB3jMaOU7wMD9AZ8txxdM\n",
       "ZmBQYJDoaOroMMCq4mgDywKGAmxm3CgvdwDRp2y5HLCqeHIbyjjFk3AToYLvzq65vWBxLm+Y0lMM\n",
       "DRwP4Co4Oc4y7F8AYrEsQKhI5K4ugIXpO/YGhvUJYBUMCBXMAREKMN6G/Q8Y4jeAWEnlQNAAUcFw\n",
       "mgeugiGegeEImLEDyQyGPdwFcC5Q+jM3iMGOrILtQgOcq8nA+psTxOC9ABNqA+JrcBVc3xh4HczA\n",
       "TFeYGIjB6ADj8RUwcB8OADP39IFdzJDyCaif2wFbfLxsL8cUBwB3/0NP0Yie0QAAAABJRU5ErkJg\n",
       "gg==\n",
       "\" style=\"display:inline;vertical-align:middle;\" /></a> <a class=\"ProveItLink\" href=\"../__pv_it/demonstrations/eb6e22035d7e3d3de9bb23bafe720f0775c4e3430/proof.ipynb\" style=\"text-decoration: none\">&nbsp;&#x22A2;&nbsp;&nbsp;</a><a class=\"ProveItLink\" href=\"../__pv_it/demonstrations/1e9ce65899fdbe8316df79a82d31400957382e810/expr.ipynb\"><img src=\"data:image/png;base64,iVBORw0KGgoAAAANSUhEUgAAAVkAAAAyBAMAAAAEmLXFAAAAMFBMVEX///8AAAAAAAAAAAAAAAAA\n",
       "AAAAAAAAAAAAAAAAAAAAAAAAAAAAAAAAAAAAAAAAAAAv3aB7AAAAD3RSTlMAuzKrZonNIu/ddhCZ\n",
       "VERetuGgAAAACXBIWXMAAA7EAAAOxAGVKw4bAAAFF0lEQVRo3rVaX4gbRRj/skluN3u55PBJEWwQ\n",
       "BS2VC00PaxFyqFQfxORBnxQuUvRFxAgVtRYbPaU+eYcnYvXEE6n/IRHEBxEuhyIWAwZB0KcLFOQE\n",
       "oe15XNX0Ls7OzE5md2d2J83OB93tzTf5fb/MfP9m7gCQJAoQu3zZkuuuGQvuUPxkwXhXqkrOjQOX\n",
       "rMbM9FZnIX6XqmfRP7PzqLOhRlsVk8EdjZfr5J1POWzTRYk+VUOPpyG9h16ZoiqqC2eejtsLmtjJ\n",
       "3pRon6ujx+0Ar6HXp8psXbjMqh62v0ni7B3nsdiCch2Mo+psKdx9oIfthNgnUw3neQdAuQDpCXW2\n",
       "FO5VTWxzl4VKy43p9wE+HoEtgbP7mtjCsTAlGP+BOTcCWwKXKepiuyF03GX6RnbTMApbDDdT0MV2\n",
       "TRS+xhb9zzrAvSOxxXCHQRfbxJKokDVosBXBXB2JLYZb0MY2JQozi/L7FcwXS6XygnoddeCMbW1s\n",
       "J0XQM6RJMKpgt4bclWokgrPFeQbuv+szX75Mfb//CzXc+Tp5i7atSXTPdzrn0Cs/PYJZBJdoiL/I\n",
       "A6+AryJ/tTln1VXIlhaPkQW8TqC8libbwWAHILvv71V1swjOcr/dAaY3H1rvmd/UwJOID8ALH0F+\n",
       "mJNO/sB1qc88coNwjQVjL0m/ZKRZBLfW9uVBgG9haheSq7mGL00egc0h9DTM99iKtGGjK7Bf6QX3\n",
       "7IqUbaRZBDdDt8Iesm12J3fAKmTbXCZ21C9Dx2CJqA4Wg7V3Ya0miqhgwkUVTBqbUWYRnLsoNw3r\n",
       "5GYPduAUZG7jPobU5kV44xeWiPqQZPGZex3yIrZrwb4GLZ9MIs0iuArVVfmqPrUN58F+kBtB6lwR\n",
       "zrIzSnIJklt8WRSdXvLB/JTaCgnPCLMIjmYUu86z/dNv26umhf4i1yAJW+9AfpInTBWzCG6exNtx\n",
       "vmPaX/L3DscFDRXnlcaHB4XNIXGPc2ccIXGRDun4oswiuJ8J26pnPOBdVQHbZU+DJMoJmWCjkA3r\n",
       "TyPMIrgycac6GXdDe5ElVjziqkkS2iF2p/kPWH32w8AR7CWZYOVJEvfJD5iIzWIjHrMYjrA94Ta7\n",
       "ThTfCLCPLRUeOeFprVfw8+6h2ihAYtf9wQsvYevfhIBZbMRr1oEjnnC+VPpn1h0dtPiPBdR016rw\n",
       "LHP/PmEr8QTeb0M8IdIsgnM7EK4FWeC3BEDcodwM8DnXBVp9eZR5rgXkOSHSLIJrunF4iY3e4yQ+\n",
       "v1zyFfWVTofFUGpOnG8F/aAtz7eRZhGcWx3WB0dY8uysBwo8pya7guJjuHJ/dfiupgCTZMPy7bDq\n",
       "wKapmkVwG73Ym/HFx8/Qg1nwYDC1F5ymfDCrur18nPL2vw/Lu5rt4DRVQXD5duxsi2El40pwmvIR\n",
       "vQuZmj62TcFR462rZ4vgkg19bMsC5eGrZ4vgUvFfLB06e1B+qqm0AtNUBcEZu7GzvR5O4URjis4J\n",
       "M13/NFXBcBpuP+gtTejth/QyJ/T2A37UwDZ7mZ4vBKqGf5qqYLgLcZeHRA2yuGLlRbd2uT3/NFXB\n",
       "cJm4E661RPvCirBUrfinqQqGiz0ppN0rlWW5UX6aqhC4uG/yzTZ84jCKuMl3p6kKhau0YqZ78ruf\n",
       "sGOK0z/bSzpNORwI3EQVtMgFySo8NhaccVoP2/ck47fUx4L7QAtZ6W9O7emx4JJaXOEPqWZ2PLgn\n",
       "NZA1npCqJrpjwSUK8bP9Ot6/piBw/wMxY6n36WJPWQAAAABJRU5ErkJggg==\n",
       "\" style=\"display:inline;vertical-align:middle;\" /></a></span>"
      ],
      "text/plain": [
       "{n in NaturalPos} |- (4 * 3^{n} * 4^{n} * 2 * 3 * (1 / 5)) = ((24 / 5) * 3^{n} * 4^{n})"
      ]
     },
     "metadata": {},
     "output_type": "display_data"
    }
   ],
   "source": [
    "with Mult.temporary_simplification_directives() as mult_directives:\n",
    "    mult_directives.combine_numeric_rationals=False\n",
    "    mult_directives.combine_all_exponents=True\n",
    "    with Exp.temporary_simplification_directives() as exp_directives:\n",
    "        exp_directives.factor_numeric_rational=False\n",
    "        expr.simplification(assumptions=[InSet(n, NaturalPos)])"
   ]
  },
  {
   "cell_type": "markdown",
   "metadata": {},
   "source": [
    "## Deduce in a number set"
   ]
  },
  {
   "cell_type": "code",
   "execution_count": 16,
   "metadata": {},
   "outputs": [
    {
     "data": {
      "text/html": [
       "<span style=\"font-size:20px;\"><a class=\"ProveItLink\" href=\"../../number_sets/integers/__pv_it/theorems/d848ea4cca362c5030c34cd42ba44608433755680/expr.ipynb\"><img src=\"data:image/png;base64,iVBORw0KGgoAAAANSUhEUgAAAD4AAAAQBAMAAAC8SdExAAAAMFBMVEX////MzMwyMjKqqqoiIiJm\n",
       "ZmaYmJju7u5EREQQEBC6urqIiIh2dnZUVFTc3NwAAAAqL9KcAAAAAXRSTlMAQObYZgAAAAlwSFlz\n",
       "AAAOxAAADsQBlSsOGwAAAOVJREFUGNNjYMAAzJo/NVw6ExhwAe5eAQYFJpzSDKwBDNwJhxkYO4Cg\n",
       "D4s87wOGCvYGLOa2uDiBaHYGhkBeAQxpLu0CGJPxgihCnO/Ovg0g+hFcmoGjoB0hv/IBx3cQrYcQ\n",
       "smHbAGezT2NgdQAxFBDyyL5j/cDAcgBk5xQXFxcPiEMNTjEwwGzjbGCoXwAyB+GjCj4g+x6UU7+B\n",
       "IR/McIDLXwSGAPsHmLwBwyXmB0DGbrjvApYCAwmmnGMDsysriMFkAPedOgNfM8w69tsH324EM24s\n",
       "h3q4aUbH/BkHMAPwBCR8UQAASOw1FPuXnCUAAAAASUVORK5CYII=\n",
       "\" style=\"display:inline;vertical-align:middle;\" /></a>, <a class=\"ProveItLink\" href=\"../__pv_it/theorems/338bea1169aca2a51c9e3cdb908726f9096b30730/expr.ipynb\"><img src=\"data:image/png;base64,iVBORw0KGgoAAAANSUhEUgAAAD0AAAATBAMAAADR6hicAAAAMFBMVEX///+YmJjMzMzc3NyIiIhU\n",
       "VFR2dna6urqqqqpmZmYyMjIiIiIQEBBERETu7u4AAAD7tRWPAAAAAXRSTlMAQObYZgAAAAlwSFlz\n",
       "AAAOxAAADsQBlSsOGwAAAPpJREFUKM9jYMANOBnwA16y5F//vfWAIedPAVSe784GNAU32AMY+D7A\n",
       "9XNNQJOPNkhkYDjAMPfunbt3BRgY+BvQ5CMucBkwbIDrr38AFffdvXsBiA4WYV6AJJ8Nla7ygzKC\n",
       "WRXckOSXukSAKOZ1MPODGS7wFsDl+X49eG8AcqYBQl6Tb98GWPhx/GPgcQDJMyDkGRt6D8ADeQED\n",
       "fwKQ1tkNBBcg8gxxrHB57gSGepAP3yLpZ3jKBw80oPfng3zIjSzP5HABLq/AdxBEszjARC4BsRNc\n",
       "nlWAFxLAK2AiKyCuggK+sIkQxtPrkIDU+gPUy7cAM2LLbu/GFAUAVfdEy4QZ+SEAAAAASUVORK5C\n",
       "YII=\n",
       "\" style=\"display:inline;vertical-align:middle;\" /></a> <a class=\"ProveItLink\" href=\"../__pv_it/demonstrations/0f50aa8ea20e561cfbe61cdc0211ec94488755d90/proof.ipynb\" style=\"text-decoration: none\">&nbsp;&#x22A2;&nbsp;&nbsp;</a><a class=\"ProveItLink\" href=\"../__pv_it/theorems/b95fa19825462832f7487b3b4176f7765b4f81970/expr.ipynb\"><img src=\"data:image/png;base64,iVBORw0KGgoAAAANSUhEUgAAAGQAAAAVBAMAAABCslYDAAAAMFBMVEX///8AAAAAAAAAAAAAAAAA\n",
       "AAAAAAAAAAAAAAAAAAAAAAAAAAAAAAAAAAAAAAAAAAAv3aB7AAAAD3RSTlMAInZUiRDNmWbv3US7\n",
       "qzJazP2FAAAACXBIWXMAAA7EAAAOxAGVKw4bAAABr0lEQVQ4y31TPUvDUBQ9Mdak35kcBCHtD5AO\n",
       "xbng5hf5AYVUoaCgkMGhk3Zz1FG0YEFQCA5FEOnUVlGoVKhanES6CU5dKrh5X9q8tGnIgyT3ntyP\n",
       "8859D4CCieUBja6p1CR24/LF7b8ds1m03fT430CzTGWKrrIvXeRmeEjOVXHGoFd+HJMMqrKEWItW\n",
       "A5KrIOKM6OE4FlWQDdRtL+jeR01jqDYg9GxeWlSA/WjXjlh0pyxb7Kze4U3NRmPtbx6xR4/QSagc\n",
       "2E2+A9NtZs7yDES0R25v0VNVIn0ux6+mK5AtUTac3mnZKXpBUSeQynwEfQRViMfMHhHTkRg4Iwl7\n",
       "CGXI1FmIlEM8g1iP8T81TfN6OO8VQHNSgnXoFTJDbCKUXEshzLo4siIrkP3qENNVHI2O5UCDaBHl\n",
       "bPFFkwn0hs49paTwIdonMd6lrUG2GiS5xMYdzdOusEYCquKVxAddjBA/KWNNJ8UlzkN4sHn+EOe3\n",
       "9fkFLnKnwHZUsezP2wFYfSq1zkuZYUio63Uj5gaf8OrgwIwv2fBKKfhesYYHJtR9U7IeWMT/Jgvq\n",
       "JJbwS/gHEBda1Q8LObwAAAAASUVORK5CYII=\n",
       "\" style=\"display:inline;vertical-align:middle;\" /></a></span>"
      ],
      "text/plain": [
       "{a in IntegerNeg, b in NaturalPos} |- (a * b) in IntegerNeg"
      ]
     },
     "metadata": {},
     "output_type": "display_data"
    }
   ],
   "source": [
    "InSet(Mult(a, b), IntegerNeg).prove(assumptions=[InSet(a, IntegerNeg), \n",
    "                                                 InSet(b, NaturalPos)])"
   ]
  },
  {
   "cell_type": "code",
   "execution_count": 17,
   "metadata": {},
   "outputs": [
    {
     "data": {
      "text/html": [
       "<span style=\"font-size:20px;\"><a class=\"ProveItLink\" href=\"../__pv_it/theorems/c466b12b4db001d3d173b799a64ef69d49ed2e7a0/expr.ipynb\"><img src=\"data:image/png;base64,iVBORw0KGgoAAAANSUhEUgAAAEoAAAAWBAMAAACVshfOAAAAMFBMVEX////MzMwyMjKqqqoiIiJm\n",
       "ZmaYmJju7u5EREQQEBC6urqIiIh2dnZUVFTc3NwAAAAqL9KcAAAAAXRSTlMAQObYZgAAAAlwSFlz\n",
       "AAAOxAAADsQBlSsOGwAAAVZJREFUKM9jYMANJBaAqTN7GPAB9hMGQJJtA1cDXmUMOxIYGDgFGP7h\n",
       "V8WQsYHhfQHDZBxWdbQ+gDAzH8gXMLhhVbV3IsOTO2BWTRcDUNVsbIp4chIYuKJATn56kQFk42ds\n",
       "qmSYgERDNgPDW6AiDNfvcHFRANHttUDiIBNDbRyIx72B6wKSokXboW5vkAaSxqwC5RD+ma0FDAx8\n",
       "d/ZtAHH41KGqGQ8sA5LL2AyQ7Vn5gOM7iGaC+p2Ba0MykJRmTkAOm2kMrA5gVTARvgNmILO4F0h0\n",
       "AAFEL+sHBpYDIIakCxCAYwzqrgIkszgbGOrBcV8BF2p/C/EjEqjfwJAPZrDAhdaAwysZRZUBwyXm\n",
       "B+BwgQmxgsL+Fkpy4djA7MoKZinDxc4C4/EqavzfPvh2I5hV2wVzL1+80lcBXIlpTQskhhgYeAWy\n",
       "GYgAt7kvSxFWxXxDsw2JCwBJdVliYwwIswAAAABJRU5ErkJggg==\n",
       "\" style=\"display:inline;vertical-align:middle;\" /></a>, <a class=\"ProveItLink\" href=\"../__pv_it/demonstrations/1336308b4bf2bd3616e3ce7244f5cfb38dc9c8230/expr.ipynb\"><img src=\"data:image/png;base64,iVBORw0KGgoAAAANSUhEUgAAAD8AAAASBAMAAAAeQxsEAAAAMFBMVEX///8AAAAAAAAAAAAAAAAA\n",
       "AAAAAAAAAAAAAAAAAAAAAAAAAAAAAAAAAAAAAAAAAAAv3aB7AAAAD3RSTlMAELvv3c2ZVESJq3Yi\n",
       "MmZ3LnoBAAAACXBIWXMAAA7EAAAOxAGVKw4bAAABCklEQVQoz2NgwASMk5TUDiB4yg7oCnbZMhxZ\n",
       "ieCyJqDJc758wMCRocBwSQkIgCbxF6ApuMkKJBRew/n9AlDGJheXABCtKAUk5rLCFUyB0q0boY5S\n",
       "uA0ky9kuwBRE7V4OongCoXzeCX1Aso8PZjPjVwF5kJ9YYR7j2PAcSN5mfwDls39kYN4AUgAzkWdC\n",
       "HcgE7gYony2AgX8CkL7sAgQKIBGoG2BuZ5nA0A+yTgjuasVTKL4ABkM+SDELXEEnOByewxVcYLQD\n",
       "0dwbYCJsoJBcoQDjcj1ggoR1ONyIWcC4WIaIrJV5EIaUBsxZPPmh3y5gieVOFUhQA0298JoBP1jN\n",
       "vfwGXgXsi4L1oEwA5HI+Dr6IHKAAAAAASUVORK5CYII=\n",
       "\" style=\"display:inline;vertical-align:middle;\" /></a> <a class=\"ProveItLink\" href=\"../__pv_it/demonstrations/26c3863d08eea7342b1b816e1f621bcb3ffe5ae30/proof.ipynb\" style=\"text-decoration: none\">&nbsp;&#x22A2;&nbsp;&nbsp;</a><a class=\"ProveItLink\" href=\"../__pv_it/theorems/099b8b61f07801fc21b2ea8b1d91aa16b10fad110/expr.ipynb\"><img src=\"data:image/png;base64,iVBORw0KGgoAAAANSUhEUgAAAHAAAAAYBAMAAADQaWRPAAAAMFBMVEX///8AAAAAAAAAAAAAAAAA\n",
       "AAAAAAAAAAAAAAAAAAAAAAAAAAAAAAAAAAAAAAAAAAAv3aB7AAAAD3RSTlMAInZUiRDNmWbv3US7\n",
       "qzJazP2FAAAACXBIWXMAAA7EAAAOxAGVKw4bAAACGUlEQVQ4y2NgIBnYCDC4qDCQoU+BgUOB+wDJ\n",
       "+noaGBg4HzB8BDIFMGUFcOrTMQAS8gEMkxkYmAwwpTdhiLD6nDkONO4lWPH7AIYVDAwmaCpOLgAa\n",
       "1oCuUXceg9QVBgbmIwEQjZMYWBPQlLAVAIlUNEGWlgYG7mpgiHCDdAKd+pmBHd1wfpBr2tEEn7AB\n",
       "iQNNQILvugAkcDjRHbUf5BjOAGhYrFoFdtHRWCDhB9LNwHg3gEmB+wKDGbpGL7B7Ie7Ypgr1+IFH\n",
       "QNKY/QFYJwODi3oAQwmIeUVRAa4xV+ky0E8XwEpgXuVz2AEkd3AgR0AGEO8U4PkKD9VvAfECDBxg\n",
       "B7LB4pNboRlIPmJGDo/FQLUzGNgXwPjMXxk4FRiYJ4A1wgQZHSxANjJteHMGCCDGzWZgYP/AwOUA\n",
       "tgxIsCcw8Dsw8H0Ayb1cBQTgVAn1YwCSjUCNnAcY4jeA2MuBGGjEfgMGbrCNMXBVR2XhoYrk1HgF\n",
       "hn7kaKwPYGAGO50LLroFHI/NyBoPATUaMFxjhoUD/wOglxk4wA5kgoc1Oyjl3EbJS74MDDwKzMvZ\n",
       "YXzeBh5gmmN3AHOSEcqAafU6Sny/AgbKJT9ZPXh0XKkAORLsZ4bY07DgYKxP+/4ARSPXA2zZTgrm\n",
       "t1OroJmA90ETqhKOAmwaKzCFLjFdfo0icBCLPkYsRQrzncwTKAIxWDTyCBBR+jAqYIopEtYGAFPd\n",
       "emN9sqA/AAAAAElFTkSuQmCC\n",
       "\" style=\"display:inline;vertical-align:middle;\" /></a></span>"
      ],
      "text/plain": [
       "{a in RationalNonNeg, b in RationalNeg} |- (a * b) in RationalNonPos"
      ]
     },
     "metadata": {},
     "output_type": "display_data"
    }
   ],
   "source": [
    "InSet(Mult(a, b), RationalNonPos).prove(assumptions=[InSet(a, RationalNonNeg), \n",
    "                                                     InSet(b, RationalNeg)])"
   ]
  },
  {
   "cell_type": "code",
   "execution_count": null,
   "metadata": {},
   "outputs": [],
   "source": [
    "InSet(Mult(a, b, c, d), RealPos).prove(assumptions=[InSet(a, RationalNeg), \n",
    "                                                    InSet(b, NaturalPos),\n",
    "                                                    InSet(c, RationalNeg),\n",
    "                                                    InSet(d, RealPos)])"
   ]
  },
  {
   "cell_type": "markdown",
   "metadata": {},
   "source": [
    "## Miscellaneous examples that need to be organized better"
   ]
  },
  {
   "cell_type": "code",
   "execution_count": null,
   "metadata": {},
   "outputs": [],
   "source": [
    "Mult(four, a).conversion_to_addition(assumptions=[InSet(a, Complex)])"
   ]
  },
  {
   "cell_type": "code",
   "execution_count": null,
   "metadata": {},
   "outputs": [],
   "source": [
    "complex_assumptions = \\\n",
    "    [InSet(a, Complex), InSet(b, Complex), InSet(c, Complex), InSet(d, Complex), InSet(f, Complex)]"
   ]
  },
  {
   "cell_type": "code",
   "execution_count": null,
   "metadata": {},
   "outputs": [],
   "source": [
    "Mult(a,b,c,d,f).association(0,2, assumptions=complex_assumptions)"
   ]
  },
  {
   "cell_type": "code",
   "execution_count": null,
   "metadata": {},
   "outputs": [],
   "source": [
    "naturals_assumptions = \\\n",
    "    [InSet(a, Natural), InSet(b, Natural), InSet(c, Natural), InSet(d, Natural), InSet(f, Natural)]"
   ]
  },
  {
   "cell_type": "code",
   "execution_count": null,
   "metadata": {},
   "outputs": [],
   "source": [
    "InSet(Mult(a,b),Natural).prove(assumptions=naturals_assumptions)"
   ]
  },
  {
   "cell_type": "code",
   "execution_count": null,
   "metadata": {},
   "outputs": [],
   "source": [
    "naturals_pos_assumptions = \\\n",
    "    [InSet(a, NaturalPos), InSet(b, NaturalPos), InSet(c, NaturalPos), InSet(d, NaturalPos), InSet(f, NaturalPos)]"
   ]
  },
  {
   "cell_type": "code",
   "execution_count": null,
   "metadata": {},
   "outputs": [],
   "source": [
    "InSet(Mult(a,b),NaturalPos).prove(assumptions=naturals_pos_assumptions)"
   ]
  },
  {
   "cell_type": "code",
   "execution_count": null,
   "metadata": {},
   "outputs": [],
   "source": [
    "integers_assumptions = \\\n",
    "    [InSet(a, Integer), InSet(b, Integer), InSet(c, Integer), InSet(d, Integer), InSet(f, Integer)]"
   ]
  },
  {
   "cell_type": "code",
   "execution_count": null,
   "metadata": {},
   "outputs": [],
   "source": [
    "InSet(Mult(a,b,c,d,f),Integer).prove(assumptions=integers_assumptions)"
   ]
  },
  {
   "cell_type": "code",
   "execution_count": null,
   "metadata": {},
   "outputs": [],
   "source": [
    "reals_assumptions = \\\n",
    "    [InSet(a, Real), InSet(b, Real), InSet(c, Real), InSet(d, Real), InSet(f, Real)]"
   ]
  },
  {
   "cell_type": "code",
   "execution_count": null,
   "metadata": {},
   "outputs": [],
   "source": [
    "InSet(Mult(a,b,c,d,f),Real).prove(assumptions=reals_assumptions)"
   ]
  },
  {
   "cell_type": "code",
   "execution_count": null,
   "metadata": {},
   "outputs": [],
   "source": [
    "reals_pos_assumptions = \\\n",
    "    [InSet(a, RealPos), InSet(b, RealPos), InSet(c, RealPos), InSet(d, RealPos), InSet(f, RealPos)]"
   ]
  },
  {
   "cell_type": "code",
   "execution_count": null,
   "metadata": {},
   "outputs": [],
   "source": [
    "InSet(Mult(a,b,c,d,f),RealPos).prove(assumptions=reals_pos_assumptions)"
   ]
  },
  {
   "cell_type": "markdown",
   "metadata": {},
   "source": [
    "*Broken demonstrations below need to be fixed*<br/>\n",
    "*Shown as markdown instead of code temporarily*"
   ]
  },
  {
   "cell_type": "markdown",
   "metadata": {},
   "source": [
    "## Distribution"
   ]
  },
  {
   "cell_type": "code",
   "execution_count": null,
   "metadata": {},
   "outputs": [],
   "source": [
    "assumptions = [InSet(var, Complex) for var in [c, d, w, x, y, z]]\n",
    "assumptions = assumptions + [InSet(var, Integer) for var in [a, b]]"
   ]
  },
  {
   "cell_type": "code",
   "execution_count": null,
   "metadata": {},
   "outputs": [],
   "source": [
    "expr = Mult(a, b, Add(x, y, z), c, d)"
   ]
  },
  {
   "cell_type": "code",
   "execution_count": null,
   "metadata": {},
   "outputs": [],
   "source": [
    "expr.distribution(2, assumptions=assumptions)"
   ]
  },
  {
   "cell_type": "code",
   "execution_count": null,
   "metadata": {},
   "outputs": [],
   "source": [
    "expr = Mult(a, b, subtract(x, y), c, d)"
   ]
  },
  {
   "cell_type": "code",
   "execution_count": null,
   "metadata": {},
   "outputs": [],
   "source": [
    "expr.distribution(2, assumptions=assumptions)"
   ]
  },
  {
   "cell_type": "markdown",
   "metadata": {},
   "source": [
    "### We can specify specific factors to distribute on the left and right\n",
    "\n",
    "via expressions:"
   ]
  },
  {
   "cell_type": "code",
   "execution_count": null,
   "metadata": {},
   "outputs": [],
   "source": [
    "expr.distribution(2, left_factors=[b], right_factors=[d], assumptions=assumptions)"
   ]
  },
  {
   "cell_type": "markdown",
   "metadata": {},
   "source": [
    "or via indices:"
   ]
  },
  {
   "cell_type": "code",
   "execution_count": null,
   "metadata": {},
   "outputs": [],
   "source": [
    "expr.distribution(2, left_factors=[4], right_factors=[1, 3], assumptions=assumptions)"
   ]
  },
  {
   "cell_type": "code",
   "execution_count": null,
   "metadata": {},
   "outputs": [],
   "source": [
    "expr.distribution(2, left_factors=[0, 4], right_factors=[1], assumptions=assumptions)"
   ]
  },
  {
   "cell_type": "code",
   "execution_count": null,
   "metadata": {},
   "outputs": [],
   "source": [
    "expr.distribution(2, left_factors=[0, 4], right_factors=[1, 3], assumptions=assumptions)"
   ]
  },
  {
   "cell_type": "markdown",
   "metadata": {},
   "source": [
    "### Mult.distribution must be updated for the Sum case."
   ]
  },
  {
   "cell_type": "code",
   "execution_count": null,
   "metadata": {},
   "outputs": [],
   "source": [
    "expr = Mult(Add(a, b), Sum(k, k, domain=Interval(a, b)), frac(a, b))"
   ]
  },
  {
   "cell_type": "code",
   "execution_count": null,
   "metadata": {},
   "outputs": [],
   "source": [
    "assumptions = [InSet(var, Integer) for var in [a, b]] + [NotEquals(b, num(0))]"
   ]
  },
  {
   "cell_type": "markdown",
   "metadata": {},
   "source": [
    "InSet(k, Integer).prove(assumptions=[InSet(k, Interval(a, b))]).generalize(k, domain=Interval(a, b))"
   ]
  },
  {
   "cell_type": "markdown",
   "metadata": {},
   "source": [
    "InSet(Sum(k, k, domain=Interval(a, b)), Complex).prove()"
   ]
  },
  {
   "cell_type": "markdown",
   "metadata": {},
   "source": [
    "expr.distribute(0, assumptions)"
   ]
  },
  {
   "cell_type": "markdown",
   "metadata": {},
   "source": [
    "expr.distribute(1, assumptions)"
   ]
  },
  {
   "cell_type": "markdown",
   "metadata": {},
   "source": [
    "expr.distribute(2, assumptions)"
   ]
  },
  {
   "cell_type": "code",
   "execution_count": null,
   "metadata": {},
   "outputs": [],
   "source": [
    "expr = Mult(z, y, Sum(x, x, domain=Interval(a, b)), z, y)"
   ]
  },
  {
   "cell_type": "markdown",
   "metadata": {},
   "source": [
    "expr.distribution(2, assumptions=assumptions)"
   ]
  },
  {
   "cell_type": "markdown",
   "metadata": {},
   "source": [
    "## Factoring"
   ]
  },
  {
   "cell_type": "code",
   "execution_count": null,
   "metadata": {},
   "outputs": [],
   "source": [
    "assumptions = [InSet(var, Complex) for var in [c, d, w, x, y, z]]\n",
    "assumptions = assumptions + [InSet(var, Integer) for var in [a, b]]"
   ]
  },
  {
   "cell_type": "code",
   "execution_count": null,
   "metadata": {},
   "outputs": [],
   "source": [
    "expr = Mult(x, y)"
   ]
  },
  {
   "cell_type": "code",
   "execution_count": null,
   "metadata": {},
   "outputs": [],
   "source": [
    "expr.factorization(x, 'left', assumptions=assumptions)"
   ]
  },
  {
   "cell_type": "code",
   "execution_count": null,
   "metadata": {},
   "outputs": [],
   "source": [
    "expr.factorization(x, 'right', assumptions=assumptions)"
   ]
  },
  {
   "cell_type": "code",
   "execution_count": null,
   "metadata": {},
   "outputs": [],
   "source": [
    "expr.factorization(y, 'left', assumptions=assumptions)"
   ]
  },
  {
   "cell_type": "code",
   "execution_count": null,
   "metadata": {},
   "outputs": [],
   "source": [
    "expr.factorization(y, 'right', assumptions=assumptions)"
   ]
  },
  {
   "cell_type": "code",
   "execution_count": null,
   "metadata": {},
   "outputs": [],
   "source": [
    "expr = Mult(x, y, z)"
   ]
  },
  {
   "cell_type": "code",
   "execution_count": null,
   "metadata": {},
   "outputs": [],
   "source": [
    "expr.factorization(x, 'left', assumptions=assumptions)"
   ]
  },
  {
   "cell_type": "code",
   "execution_count": null,
   "metadata": {},
   "outputs": [],
   "source": [
    "expr.factorization(x, 'left', group_remainder=True, assumptions=assumptions)"
   ]
  },
  {
   "cell_type": "code",
   "execution_count": null,
   "metadata": {},
   "outputs": [],
   "source": [
    "expr.factorization(x, 'right', assumptions=assumptions)"
   ]
  },
  {
   "cell_type": "code",
   "execution_count": null,
   "metadata": {},
   "outputs": [],
   "source": [
    "expr.factorization(x, 'right', group_remainder=True, assumptions=assumptions)"
   ]
  },
  {
   "cell_type": "code",
   "execution_count": null,
   "metadata": {},
   "outputs": [],
   "source": [
    "expr.factorization(y, 'left', assumptions=assumptions)"
   ]
  },
  {
   "cell_type": "code",
   "execution_count": null,
   "metadata": {},
   "outputs": [],
   "source": [
    "expr.factorization(y, 'right', assumptions=assumptions)"
   ]
  },
  {
   "cell_type": "code",
   "execution_count": null,
   "metadata": {},
   "outputs": [],
   "source": [
    "expr.factorization(z, 'left', assumptions=assumptions)"
   ]
  },
  {
   "cell_type": "code",
   "execution_count": null,
   "metadata": {},
   "outputs": [],
   "source": [
    "expr.factorization(z, 'right', assumptions=assumptions)"
   ]
  },
  {
   "cell_type": "markdown",
   "metadata": {},
   "source": [
    "### Factor multiple factors\n",
    "\n",
    "Note: the functionality is the same whether we provide the factors as an iterable or as a `Mult`."
   ]
  },
  {
   "cell_type": "code",
   "execution_count": null,
   "metadata": {},
   "outputs": [],
   "source": [
    "expr.factorization(Mult(x, y), 'left', assumptions=assumptions)"
   ]
  },
  {
   "cell_type": "code",
   "execution_count": null,
   "metadata": {},
   "outputs": [],
   "source": [
    "expr.factorization((x, y), 'right', assumptions=assumptions)"
   ]
  },
  {
   "cell_type": "code",
   "execution_count": null,
   "metadata": {},
   "outputs": [],
   "source": [
    "expr.factorization((y, z), 'left', assumptions=assumptions)"
   ]
  },
  {
   "cell_type": "code",
   "execution_count": null,
   "metadata": {},
   "outputs": [],
   "source": [
    "expr.factorization(Mult(y, z), 'right', assumptions=assumptions)"
   ]
  },
  {
   "cell_type": "code",
   "execution_count": null,
   "metadata": {},
   "outputs": [],
   "source": [
    "expr.factorization(Mult(x, z), 'left', assumptions=assumptions)"
   ]
  },
  {
   "cell_type": "code",
   "execution_count": null,
   "metadata": {},
   "outputs": [],
   "source": [
    "expr.factorization((x, z), 'right', assumptions=assumptions)"
   ]
  },
  {
   "cell_type": "code",
   "execution_count": null,
   "metadata": {},
   "outputs": [],
   "source": [
    "expr = Mult(x, y, z, w)"
   ]
  },
  {
   "cell_type": "code",
   "execution_count": null,
   "metadata": {},
   "outputs": [],
   "source": [
    "expr.factorization((x, z), 'left', assumptions=assumptions)"
   ]
  },
  {
   "cell_type": "code",
   "execution_count": null,
   "metadata": {},
   "outputs": [],
   "source": [
    "expr.factorization((x, w), 'left', assumptions=assumptions, group_remainder=True)"
   ]
  },
  {
   "cell_type": "code",
   "execution_count": null,
   "metadata": {},
   "outputs": [],
   "source": [
    "expr.factorization((y, w), 'left', assumptions=assumptions, group_factors=False)"
   ]
  },
  {
   "cell_type": "code",
   "execution_count": null,
   "metadata": {},
   "outputs": [],
   "source": [
    "expr.factorization((x, z), 'right', assumptions=assumptions)"
   ]
  },
  {
   "cell_type": "code",
   "execution_count": null,
   "metadata": {},
   "outputs": [],
   "source": [
    "expr.factorization(Mult(y, w), 'right', assumptions=assumptions, group_remainder=True)"
   ]
  },
  {
   "cell_type": "code",
   "execution_count": null,
   "metadata": {},
   "outputs": [],
   "source": [
    "expr.factorization(Mult(x, w), 'right', assumptions=assumptions, group_factors=False, group_remainder=True)"
   ]
  },
  {
   "cell_type": "markdown",
   "metadata": {},
   "source": [
    "### Canceling Factors Appearing in Numerator/Denominator: `Mult.cancelations()`"
   ]
  },
  {
   "cell_type": "code",
   "execution_count": null,
   "metadata": {},
   "outputs": [],
   "source": [
    "mult_3_factors_01 = Mult(a, Mult(b, frac(c, a)))"
   ]
  },
  {
   "cell_type": "code",
   "execution_count": null,
   "metadata": {},
   "outputs": [],
   "source": [
    "mult_3_factors_02 = Mult(Mult(a, b), frac(c, a))"
   ]
  },
  {
   "cell_type": "code",
   "execution_count": null,
   "metadata": {},
   "outputs": [],
   "source": [
    "mult_3_factors_03 = Mult(Mult(a, b), frac(one, a))"
   ]
  },
  {
   "cell_type": "code",
   "execution_count": null,
   "metadata": {},
   "outputs": [],
   "source": [
    "temp_assumptions_for_cancelation = (\n",
    "    [InSet(a, Real), InSet(b, Real), InSet(c, Real), NotEquals(a, zero)])"
   ]
  },
  {
   "cell_type": "code",
   "execution_count": null,
   "metadata": {},
   "outputs": [],
   "source": [
    "mult_3_factors_01.cancelations(assumptions=temp_assumptions_for_cancelation)"
   ]
  },
  {
   "cell_type": "code",
   "execution_count": null,
   "metadata": {},
   "outputs": [],
   "source": [
    "mult_3_factors_01.simplification(assumptions=temp_assumptions_for_cancelation)"
   ]
  },
  {
   "cell_type": "code",
   "execution_count": null,
   "metadata": {},
   "outputs": [],
   "source": [
    "mult_3_factors_02.cancelations(assumptions=temp_assumptions_for_cancelation)"
   ]
  },
  {
   "cell_type": "code",
   "execution_count": null,
   "metadata": {},
   "outputs": [],
   "source": [
    "mult_3_factors_02.simplification(assumptions=temp_assumptions_for_cancelation)"
   ]
  },
  {
   "cell_type": "code",
   "execution_count": null,
   "metadata": {},
   "outputs": [],
   "source": [
    "mult_3_factors_03.cancelations(assumptions=temp_assumptions_for_cancelation)"
   ]
  },
  {
   "cell_type": "code",
   "execution_count": null,
   "metadata": {},
   "outputs": [],
   "source": [
    "mult_3_factors_03.simplification(assumptions=temp_assumptions_for_cancelation)"
   ]
  },
  {
   "cell_type": "markdown",
   "metadata": {},
   "source": [
    "###  `Mult.combining_exponents()`: Combining Exponential Factors with the Same Base"
   ]
  },
  {
   "cell_type": "code",
   "execution_count": null,
   "metadata": {},
   "outputs": [],
   "source": [
    "# some example products of exponentials\n",
    "mult_exps_01, mult_exps_02, mult_exps_03, mult_exps_04 = (\n",
    "    Mult(Exp(two, three), Exp(two, four)),\n",
    "    Mult(Exp(a, b), Exp(a, c)),\n",
    "    Mult(Exp(a, b), Exp(a, c), Exp(a, b)),\n",
    "    Mult(Exp(a, b), Exp(a, c), Exp(a, b), Exp(a, d)))"
   ]
  },
  {
   "cell_type": "code",
   "execution_count": null,
   "metadata": {},
   "outputs": [],
   "source": [
    "# some useful assumptions for the testing\n",
    "temp_assumptions = [InSet(a, RealPos), InSet(b, Real), InSet(c, Real), InSet(d, Real)]"
   ]
  },
  {
   "cell_type": "code",
   "execution_count": null,
   "metadata": {},
   "outputs": [],
   "source": [
    "mult_exps_01.combining_exponents(auto_simplify=False)"
   ]
  },
  {
   "cell_type": "code",
   "execution_count": null,
   "metadata": {},
   "outputs": [],
   "source": [
    "mult_exps_02.combining_exponents(assumptions=temp_assumptions)"
   ]
  },
  {
   "cell_type": "code",
   "execution_count": null,
   "metadata": {},
   "outputs": [],
   "source": [
    "# here notice: the combo of 3 operands and the simplification\n",
    "mult_exps_03.combining_exponents(assumptions=temp_assumptions)"
   ]
  },
  {
   "cell_type": "code",
   "execution_count": null,
   "metadata": {},
   "outputs": [],
   "source": [
    "# here notice: the combo of 4 operands and the simplification\n",
    "mult_exps_04.combining_exponents(assumptions=temp_assumptions)"
   ]
  },
  {
   "cell_type": "code",
   "execution_count": null,
   "metadata": {},
   "outputs": [],
   "source": [
    "# define a product with a non-matching base\n",
    "mult_of_exps_with_non_exp = Mult(Exp(a, b), Exp(a, c), Exp(a, b), Exp(a, d), b)"
   ]
  },
  {
   "cell_type": "code",
   "execution_count": null,
   "metadata": {},
   "outputs": [],
   "source": [
    "# without specifying what to combine, we have an error:\n",
    "try:\n",
    "    mult_of_exps_with_non_exp.combining_exponents(assumptions=temp_assumptions)\n",
    "except Exception as the_exception:\n",
    "    print(\"Error: {}\".format(the_exception))"
   ]
  },
  {
   "cell_type": "code",
   "execution_count": null,
   "metadata": {},
   "outputs": [],
   "source": [
    "# But if we specify the factors to combine:\n",
    "mult_of_exps_with_non_exp.combining_exponents(start_idx = 1, end_idx=3, assumptions=temp_assumptions)"
   ]
  },
  {
   "cell_type": "markdown",
   "metadata": {},
   "source": [
    "Trying the newly-coded method (in progress):"
   ]
  },
  {
   "cell_type": "code",
   "execution_count": null,
   "metadata": {},
   "outputs": [],
   "source": [
    "# special case where only start index is specified\n",
    "mult_exps_04.combining_exponents(start_idx = 0, assumptions=temp_assumptions)"
   ]
  },
  {
   "cell_type": "code",
   "execution_count": null,
   "metadata": {},
   "outputs": [],
   "source": [
    "# special case where only end index is specified\n",
    "mult_exps_04.combining_exponents(end_idx=2, assumptions=temp_assumptions)"
   ]
  },
  {
   "cell_type": "code",
   "execution_count": null,
   "metadata": {},
   "outputs": [],
   "source": [
    "# using start and end indices\n",
    "mult_exps_04.combining_exponents(start_idx = 1, end_idx=3, assumptions=temp_assumptions)"
   ]
  },
  {
   "cell_type": "code",
   "execution_count": null,
   "metadata": {},
   "outputs": [],
   "source": [
    "# an example expression with all numeric values\n",
    "mult_exps_pows_of_2 = Mult(Exp(two, one), Exp(two, two), Exp(two, three))"
   ]
  },
  {
   "cell_type": "code",
   "execution_count": null,
   "metadata": {},
   "outputs": [],
   "source": [
    "# by default, combine all exponentials into a single exponential\n",
    "# and simplify the resulting exponent\n",
    "mult_exps_pows_of_2.combining_exponents(auto_simplify=False)"
   ]
  },
  {
   "cell_type": "code",
   "execution_count": null,
   "metadata": {},
   "outputs": [],
   "source": [
    "# special case of same bases but one without an exponent\n",
    "mult_exps_left_without_exp = Mult(two, Exp(two, two))"
   ]
  },
  {
   "cell_type": "code",
   "execution_count": null,
   "metadata": {},
   "outputs": [],
   "source": [
    "# combine exponents for the special case\n",
    "mult_exps_left_without_exp.combining_exponents(auto_simplify=False)"
   ]
  },
  {
   "cell_type": "code",
   "execution_count": null,
   "metadata": {},
   "outputs": [],
   "source": [
    "# special case of same bases but one without an exponent\n",
    "mult_exps_right_without_exp = Mult(Exp(three, two), three)"
   ]
  },
  {
   "cell_type": "code",
   "execution_count": null,
   "metadata": {},
   "outputs": [],
   "source": [
    "# combine exponents for the special case\n",
    "mult_exps_right_without_exp.combining_exponents(auto_simplify=False)"
   ]
  },
  {
   "cell_type": "code",
   "execution_count": null,
   "metadata": {},
   "outputs": [],
   "source": [
    "# variable version of a special case\n",
    "mult_exps_right_without_exp_var = Mult(Exp(a, b), a)"
   ]
  },
  {
   "cell_type": "code",
   "execution_count": null,
   "metadata": {},
   "outputs": [],
   "source": [
    "mult_exps_right_without_exp_var.combining_exponents(assumptions=temp_assumptions)"
   ]
  },
  {
   "cell_type": "code",
   "execution_count": null,
   "metadata": {},
   "outputs": [],
   "source": [
    "# Recall this from earlier:\n",
    "mult_exps_03.combining_exponents(assumptions=temp_assumptions)"
   ]
  },
  {
   "cell_type": "code",
   "execution_count": null,
   "metadata": {},
   "outputs": [],
   "source": [
    "# and the same thing, but now disallow the simplification of the resulting exponent\n",
    "mult_exps_03.combining_exponents(auto_simplify=False, assumptions=temp_assumptions)"
   ]
  },
  {
   "cell_type": "markdown",
   "metadata": {},
   "source": [
    "### `Mult.common_power_extraction()`: Combining Exponential Factors with the Same Exponent"
   ]
  },
  {
   "cell_type": "code",
   "execution_count": null,
   "metadata": {},
   "outputs": [],
   "source": [
    "# some example products of exponentials\n",
    "mult_exps_05, mult_exps_06, mult_exps_07 = (\n",
    "    Mult(Exp(two, three), Exp(three, three)),\n",
    "    Mult(Exp(a, d), Exp(b, d)),\n",
    "    Mult(Exp(a, d), Exp(b, d), Exp(c, d)))"
   ]
  },
  {
   "cell_type": "code",
   "execution_count": null,
   "metadata": {},
   "outputs": [],
   "source": [
    "# some useful assumptions for the testing\n",
    "temp_assumptions_02 = [InSet(a, RealPos), InSet(b, RealPos), InSet(c, RealPos), InSet(d, RealPos)]"
   ]
  },
  {
   "cell_type": "code",
   "execution_count": null,
   "metadata": {},
   "outputs": [],
   "source": [
    "# automatic reductions of the new base are not performed (but see next cell)\n",
    "example_exponent_combination = mult_exps_05.common_power_extraction(\n",
    "    exp_factor=three, assumptions=temp_assumptions_02, auto_simplify=False)"
   ]
  },
  {
   "cell_type": "code",
   "execution_count": null,
   "metadata": {},
   "outputs": [],
   "source": [
    "# We can dig into the inner_expr, though, to simplify/evaluate:\n",
    "example_exponent_combination.inner_expr().rhs.base.evaluate()"
   ]
  },
  {
   "cell_type": "code",
   "execution_count": null,
   "metadata": {},
   "outputs": [],
   "source": [
    "mult_exps_06.common_power_extraction(exp_factor=d, \n",
    "                                     assumptions=temp_assumptions_02)"
   ]
  },
  {
   "cell_type": "code",
   "execution_count": null,
   "metadata": {},
   "outputs": [],
   "source": [
    "mult_exps_07.common_power_extraction(exp_factor=d, assumptions=temp_assumptions_02)"
   ]
  },
  {
   "cell_type": "code",
   "execution_count": null,
   "metadata": {},
   "outputs": [],
   "source": [
    "mult_exps_08 = Mult(Exp(a, Mult(i, j)), Exp(b, Mult(j, k)))"
   ]
  },
  {
   "cell_type": "code",
   "execution_count": null,
   "metadata": {},
   "outputs": [],
   "source": [
    "mult_exps_08.common_power_extraction(\n",
    "        exp_factor = j,\n",
    "        assumptions=[NotEquals(a, zero), InSet(a, Real),\n",
    "                     NotEquals(b, zero), InSet(b, Real),\n",
    "                     InSet(j, Integer), InSet(k, Integer)])"
   ]
  },
  {
   "cell_type": "code",
   "execution_count": null,
   "metadata": {},
   "outputs": [],
   "source": [
    "mult_exps_09 = Exp(a, j)"
   ]
  },
  {
   "cell_type": "markdown",
   "metadata": {},
   "source": [
    "An example expression similar to one found in the QPE package:"
   ]
  },
  {
   "cell_type": "code",
   "execution_count": null,
   "metadata": {},
   "outputs": [],
   "source": [
    "mult_exps_10 = Mult(Exp(e, Mult(two, pi, i, k, delta)), Exp(e, Mult(two, pi, i, theta, k)))"
   ]
  },
  {
   "cell_type": "code",
   "execution_count": null,
   "metadata": {},
   "outputs": [],
   "source": [
    "mult_exps_10.common_power_extraction(\n",
    "        exp_factor = k,\n",
    "        assumptions=[InSet(k, Integer), InSet(delta, Integer), InSet(theta, RealPos)])"
   ]
  },
  {
   "cell_type": "code",
   "execution_count": null,
   "metadata": {},
   "outputs": [],
   "source": [
    "# here we specify the factors we want to extract from\n",
    "# in this case consisting of the entire expression\n",
    "mult_exps_10.common_power_extraction(\n",
    "        start_idx=0, end_idx=1,\n",
    "        exp_factor = k,\n",
    "        assumptions=[InSet(k, Integer), InSet(delta, Integer), InSet(theta, RealPos)])"
   ]
  },
  {
   "cell_type": "markdown",
   "metadata": {},
   "source": [
    "Another one, this time with common exponent factor in just a subset of the exponential multiplicands (_i.e._ at indices 1 and 2):"
   ]
  },
  {
   "cell_type": "code",
   "execution_count": null,
   "metadata": {},
   "outputs": [],
   "source": [
    "mult_exps_11 = Mult(\n",
    "        Exp(e, Mult(two, pi, i, a)),\n",
    "        Exp(e, Mult(two, pi, i, k, delta)),\n",
    "        Exp(e, Mult(two, pi, i, theta, k)),\n",
    "        Exp(e, Mult(two, pi, i, b)))"
   ]
  },
  {
   "cell_type": "code",
   "execution_count": null,
   "metadata": {},
   "outputs": [],
   "source": [
    "mult_exps_11.common_power_extraction(\n",
    "        start_idx=1, end_idx=2,\n",
    "        exp_factor = k,\n",
    "        assumptions=[InSet(k, Integer), InSet(delta, Integer),\n",
    "                     InSet(theta, RealPos), InSet(a, Real), InSet(b, Real)])"
   ]
  },
  {
   "cell_type": "code",
   "execution_count": null,
   "metadata": {},
   "outputs": [],
   "source": [
    "# and a potential error case, where the Mult has non-Exp operands:\n",
    "mult_exps_12 = Mult(\n",
    "        Add(a, b),\n",
    "        Exp(e, Mult(two, pi, i, k, delta)),\n",
    "        Exp(e, Mult(two, pi, i, theta, k)),\n",
    "        Exp(e, Mult(two, pi, i, b)))"
   ]
  },
  {
   "cell_type": "code",
   "execution_count": null,
   "metadata": {},
   "outputs": [],
   "source": [
    "# specifying multiplicands that are not Exps should give\n",
    "# an informative error message\n",
    "try:\n",
    "    mult_exps_12.common_power_extraction(\n",
    "            start_idx=0, end_idx=2,\n",
    "            exp_factor = k,\n",
    "            assumptions=[InSet(k, Integer), InSet(delta, Integer),\n",
    "                         InSet(theta, RealPos), InSet(a, Real), InSet(b, Real)])\n",
    "except ValueError as the_error:\n",
    "    print(\"ValueError: {}\".format(the_error))"
   ]
  },
  {
   "cell_type": "code",
   "execution_count": null,
   "metadata": {},
   "outputs": [],
   "source": [
    "# but still works if Mult contains non-Exp multiplicands\n",
    "# but index-specified pieces are indeed Exps\n",
    "mult_exps_12.common_power_extraction(\n",
    "            start_idx=1, end_idx=2,\n",
    "            exp_factor = k,\n",
    "            assumptions=[InSet(k, Integer), InSet(delta, Integer),\n",
    "                         InSet(theta, RealPos), InSet(a, Real), InSet(b, Real)])"
   ]
  },
  {
   "cell_type": "code",
   "execution_count": null,
   "metadata": {},
   "outputs": [],
   "source": [
    "# another potential error case, where the Mult has Exp operands,\n",
    "# but one or more of those operands have the exp_factor alone as an exponent\n",
    "mult_exps_13 = Mult(\n",
    "        Exp(a, k),\n",
    "        Exp(e, Mult(two, pi, i, theta, k)),\n",
    "        Exp(Add(a, b), k),\n",
    "        Exp(e, Mult(two, pi, i, b)))"
   ]
  },
  {
   "cell_type": "code",
   "execution_count": null,
   "metadata": {},
   "outputs": [],
   "source": [
    "mult_exps_13.common_power_extraction(\n",
    "            start_idx=1, end_idx=2,\n",
    "            exp_factor = k,\n",
    "            assumptions=[InSet(k, Integer), InSet(delta, Integer), NotEquals(a, zero),\n",
    "                         NotEquals(Add(a, b), zero),\n",
    "                         InSet(theta, RealPos), InSet(a, Real), InSet(b, Real)])"
   ]
  },
  {
   "cell_type": "markdown",
   "metadata": {},
   "source": [
    "## Deduce bounds"
   ]
  },
  {
   "cell_type": "code",
   "execution_count": null,
   "metadata": {},
   "outputs": [],
   "source": [
    "relations = [Less(a, x), Less(b, y), Less(c, z)]\n",
    "assumptions = relations + [InSet(_x, RealPos) for _x in (a, b, c, x, y, z)]\n",
    "Mult(a, b, c).deduce_bound(relations, assumptions=assumptions)"
   ]
  },
  {
   "cell_type": "code",
   "execution_count": null,
   "metadata": {},
   "outputs": [],
   "source": [
    "relations = [Less(a, x), LessEq(b, y), Less(c, z)]\n",
    "assumptions = relations + [InSet(_x, RealNonNeg) for _x in (a, b, c, x, y, z)]\n",
    "Mult(a, b, c).deduce_bound(relations, assumptions=assumptions)"
   ]
  },
  {
   "cell_type": "code",
   "execution_count": null,
   "metadata": {},
   "outputs": [],
   "source": [
    "relations = [Less(a, x)]\n",
    "assumptions = relations + [InSet(a, Real), InSet(b, RealNeg), InSet(x, Real)]\n",
    "Mult(a, b).deduce_bound(relations, assumptions=assumptions)"
   ]
  },
  {
   "cell_type": "markdown",
   "metadata": {},
   "source": [
    "### Automation via canonical forms\n",
    "\n",
    "Two expressions that have the same canonical form can be proven to be equal via automation."
   ]
  },
  {
   "cell_type": "code",
   "execution_count": null,
   "metadata": {},
   "outputs": [],
   "source": [
    "defaults.assumptions = [InSet(a, RealNeg), InSet(b, RealNeg), InSet(c, Real), InSet(d, RealNeg)]"
   ]
  },
  {
   "cell_type": "code",
   "execution_count": null,
   "metadata": {},
   "outputs": [],
   "source": [
    "expr1 = Mult(a, sqrt(b), two, sqrd(d), frac(two, three), c)\n",
    "display(expr1)\n",
    "expr1.canonical_form()"
   ]
  },
  {
   "cell_type": "code",
   "execution_count": null,
   "metadata": {},
   "outputs": [],
   "source": [
    "expr2 = frac(Mult(d, b, four, a, frac(one, three), d, c), sqrt(b))\n",
    "display(expr2)\n",
    "expr2.canonical_form()"
   ]
  },
  {
   "cell_type": "code",
   "execution_count": null,
   "metadata": {},
   "outputs": [],
   "source": [
    "Equals(expr1, expr2).prove()"
   ]
  },
  {
   "cell_type": "code",
   "execution_count": null,
   "metadata": {},
   "outputs": [],
   "source": [
    "Equals(Mult(a, b, d, c), Mult(d, b, c, a)).prove()"
   ]
  },
  {
   "cell_type": "code",
   "execution_count": null,
   "metadata": {},
   "outputs": [],
   "source": [
    "Equals(Mult(d, b, a, c), Mult(c, b, d, a)).prove()"
   ]
  },
  {
   "cell_type": "code",
   "execution_count": null,
   "metadata": {},
   "outputs": [],
   "source": [
    "Equals(Mult(b, a, d, c), Mult(d, c, b, a)).prove()"
   ]
  },
  {
   "cell_type": "markdown",
   "metadata": {},
   "source": [
    "This even works in a nested manner"
   ]
  },
  {
   "cell_type": "code",
   "execution_count": null,
   "metadata": {},
   "outputs": [],
   "source": [
    "Equals(Mult(d, c, Add(a, b), a), Mult(Add(b, a), d, c, a)).prove()"
   ]
  },
  {
   "cell_type": "code",
   "execution_count": null,
   "metadata": {},
   "outputs": [],
   "source": [
    "%end demonstrations"
   ]
  },
  {
   "cell_type": "code",
   "execution_count": null,
   "metadata": {},
   "outputs": [],
   "source": []
  }
 ],
 "metadata": {
  "kernelspec": {
   "display_name": "Python 3",
   "language": "python",
   "name": "python3"
  },
  "language_info": {
   "codemirror_mode": {
    "name": "ipython",
    "version": 3
   },
   "file_extension": ".py",
   "mimetype": "text/x-python",
   "name": "python",
   "nbconvert_exporter": "python",
   "pygments_lexer": "ipython3",
   "version": "3.7.3"
  }
 },
 "nbformat": 4,
 "nbformat_minor": 1
}
