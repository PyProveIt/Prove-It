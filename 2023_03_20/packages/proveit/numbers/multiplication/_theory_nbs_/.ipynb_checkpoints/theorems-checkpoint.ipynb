{
 "cells": [
  {
   "cell_type": "markdown",
   "metadata": {},
   "source": [
    "Theorems (or conjectures) for the theory of <a class=\"ProveItLink\" href=\"theory.ipynb\">proveit.numbers.multiplication</a>\n",
    "========"
   ]
  },
  {
   "cell_type": "code",
   "execution_count": 1,
   "metadata": {},
   "outputs": [],
   "source": [
    "import proveit\n",
    "## 72 spaces ===========================================================\n",
    "\n",
    "# Prepare this notebook for defining the theorems of a theory:\n",
    "%theorems_notebook # Keep this at the top following 'import proveit'.\n",
    "theory = proveit.Theory('.') # adds theory root to sys.path if necessary\n",
    "from proveit import ExprTuple, ExprRange, IndexedVar\n",
    "\n",
    "from proveit import a, b, c, d, f, i, j, k, n, x, y, Q, S\n",
    "from proveit.core_expr_types import (\n",
    "    a_1_to_i, a_1_to_n, b_1_to_j, c_1_to_j, c_1_to_k, d_1_to_k)\n",
    "\n",
    "from proveit.logic import Or, Forall, Set, InSet, Equals, NotEquals, Implies, Boolean\n",
    "from proveit.numbers import (ZeroSet, Natural, NaturalPos, Integer, IntegerNonZero, IntegerNeg, IntegerNonPos,\n",
    "                             Rational, RationalPos, RationalNeg, RationalNonNeg, RationalNonPos, RationalNonZero,\n",
    "                             Real, RealPos, RealNeg, RealNonNeg, RealNonPos, RealNonZero,\n",
    "                             Complex, ComplexNonZero)\n",
    "from proveit.numbers import (Mult, Neg, Add, subtract, Abs, Sum, num, zero, one, two, Exp,\n",
    "                            Less, LessEq, greater, greater_eq)\n",
    "from proveit.numbers.summation import summation_b1toj_fQ\n",
    "from proveit._core_.expression.operation import Function"
   ]
  },
  {
   "cell_type": "code",
   "execution_count": 2,
   "metadata": {},
   "outputs": [
    {
     "name": "stdout",
     "output_type": "stream",
     "text": [
      "Defining theorems for theory 'proveit.numbers.multiplication'\n",
      "Subsequent end-of-cell assignments will define theorems\n",
      "'%end theorems' will finalize the definitions\n"
     ]
    }
   ],
   "source": [
    "%begin theorems"
   ]
  },
  {
   "cell_type": "code",
   "execution_count": 3,
   "metadata": {},
   "outputs": [
    {
     "data": {
      "text/html": [
       "<strong id=\"unary_mult_reduction\"><a class=\"ProveItLink\" href=\"proofs/unary_mult_reduction/thm_proof.ipynb\">unary_mult_reduction</a> (conjecture without proof):<br></strong> <a class=\"ProveItLink\" href=\"../__pv_it/theorems/4b0b2d83883c6dc174f7c556b84c3e883451c4ac0/theorem_expr.ipynb\"><img src=\"data:image/png;base64,iVBORw0KGgoAAAANSUhEUgAAAIUAAAAVBAMAAACakjBMAAAAMFBMVEX///+IiIgiIiIQEBB2dnbu\n",
       "7u5ERETMzMzc3NwyMjK6urpmZmaYmJiqqqpUVFQAAAB6qHgnAAAAAXRSTlMAQObYZgAAAAlwSFlz\n",
       "AAAOxAAADsQBlSsOGwAAAgZJREFUOMt1lE0oRFEUx//z8d58vBm9pFhQmhSRkpBkgQ2JaYqUjRkL\n",
       "ZUdWVuahLKfZKAsLsrWYpJSUsaA0C+NjQVlQNnYsFEo5933Nvc91au67c857v3vP+Z97gb9moLqZ\n",
       "HuYAhME/JC/LzFfGqDmxxgbLG9XljF36PbHJI++9A8+ID9juejnDVwSO2WSLcyp5gTHt+CMpOWQT\n",
       "WGG5ZjifVhQYJ44/VpAzShY+WOZ8AQiMDjfQLWcEUojRshHe9yAw4nk3sC1nRAjQmUh08b5DgaGx\n",
       "kuYGV2lMer8Ov9SRWEFS5QiY4yPbAoOtEu3FAmV8aVYrYZqp5p6hflCdaKc5hJ94RrvA8FOpJoo4\n",
       "oOmtZxtKP7RGypYqpqaCO3yoz/xa+bIYAYqdAk00zXoY2hv8lGnojTi6UFKbgbYKowfKN9u6V5AM\n",
       "0hSNMuXyZzRMno38l4vyjhithRtPPdI6rphylA/GqdOUltCnzZgVGKoO5QdV+XvgwrOPdBmvcQMx\n",
       "1qDrBNUKIaeZkgKDKTeLm0LBEp03VY+3abb6VYssbZ8jzpLACNFOZ2qWn+mdVq8uz8O5WsrWUSRt\n",
       "qOf2mfIvCr3e7HZUo7xP19waG9n9VOVscYwSfxZl5h7K6Mn1mDOfFxiqc1FtyBHCmXdtSmAomQpa\n",
       "Zqr0MgzrGDLv0z7z76p9X8kvTtQBvw3Zbj86VMVUAAAAAElFTkSuQmCC\n",
       "\" style=\"display:inline;vertical-align:middle;\" /></a><br>"
      ],
      "text/plain": [
       "<IPython.core.display.HTML object>"
      ]
     },
     "metadata": {},
     "output_type": "display_data"
    }
   ],
   "source": [
    "unary_mult_reduction = Forall(a, Equals(Mult(a), a))"
   ]
  },
  {
   "cell_type": "code",
   "execution_count": 4,
   "metadata": {},
   "outputs": [
    {
     "data": {
      "text/html": [
       "<strong id=\"mult_def_rev\"><a class=\"ProveItLink\" href=\"proofs/mult_def_rev/thm_proof.ipynb\">mult_def_rev</a> (conjecture without proof):<br></strong> <a class=\"ProveItLink\" href=\"../__pv_it/theorems/6727f4ae0b780714aa7b16bba50900109d1990a30/theorem_expr.ipynb\"><img src=\"data:image/png;base64,iVBORw0KGgoAAAANSUhEUgAAAg4AAAAZBAMAAACr2bsAAAAAMFBMVEX///+IiIgiIiIQEBB2dnbu\n",
       "7u5ERETMzMzc3NwyMjK6urpmZmaYmJiqqqpUVFQAAAB6qHgnAAAAAXRSTlMAQObYZgAAAAlwSFlz\n",
       "AAAOxAAADsQBlSsOGwAABdVJREFUWMPdWWtoHFUUPvuYndmd3c0GY0xNDctWLRqUUF9Bom7EB23T\n",
       "MtE1IkaTgF0l1To1Sn3QdmJtfqarYPWHwvYh/vC1VqElCbiiUZpucBOFNCJ2o7bFf1EMakDiuY+Z\n",
       "nZ2dLTuy0tIL387NnTNn7nz3nHPPuQFw1n6KaXDRNVfsOqePpOCibLnzyoPEUeNmq1KrNKidfx6u\n",
       "4KhxC0RsTD9vJ3mAA3kokMsPDngIk0soW4P5huIMNW+ry4e+sw8MWQbkYYz8/aYDHuQ0Xvy1iJYP\n",
       "cdS8+RXriFDBjl/nyMEu4lD9DngQiQWN1GK6ExwWq7Y3tfcrabG5EcxYR+QK9nuCI0e58+adxAfC\n",
       "36Za8NDGYfGWiK3wTCUtdjdusg54KjzsURhyEESm/I7iZK5G4TKUYvgfeHjLOjBfyYOyDPhN62Kx\n",
       "Gx3x4InF1tQiuslxBhjtHLbhQfqlKeKEB7P8ZqvQp4julgfvMgz/wOlXGlHcW2BAHo4CbHHEg6yC\n",
       "T3H81cEuehE3Kta1CLTD00o5D4c035ITHszyxynPMdoKuoFkXAtyVJeIb4sIf+GsUgzIwyhIBXMS\n",
       "0roBviiU7i5bF4ZNPKD4qPPVH+JXr6HbnWe4PwtHAHpTpTwIHYCzTmw+XSUPTJ63b61CmDcHteBS\n",
       "WA+XgfTVIP2JL2tjQB58ijeti28/Mwg/ehXZWB6xJZkWtmmhx8x51BbY4IgCotXw0GJE8KQZPgO4\n",
       "EsT6KF/DNevoGsqL4I5DhlAEcCQWuyEWu75cdfEGk+dtt1XuVvwUkOmrhb/Jj7AMITQfcZEhR/g3\n",
       "wqR8lORUkYzXeH5cxRXsBvjSzMOMszBJtZ6Dh5sBJwWhaKk9ePqhLw3LsE+tzh6YvO4jNjygCNPc\n",
       "St+yCGGcSaCNgcb+z9FoJrY38zxs7vthykP9sWaN5lq9L5pSdvIV/iAqFLoa9FzK1DVlLsbgaj1i\n",
       "u5qHj5l44H4h/AbBxXIe+iLwDcBk1Tww+RNf15PcYdYaH2g9+ZEmGIaOJNRlFfpWAsLDJkwIeg9l\n",
       "PZpA06k57yOHSVDQzvjzPWTg5ElLfeGdR3X3abv1jzd1i80YZFpJ6GoK978NAcOJfREK4R+c1Mly\n",
       "HvLwawg13FllfKDye6c6oB3/+MoqNADQk/4ZiobuicMpJQ5BnBwB4WEPMrZ3FdQpLJObg0wjie8w\n",
       "ILJcbXLSwoN0O/EYEvlGKL+kG5gZK33zuB4ZmVbxDYCsL4KL+6piipgEAzCbyZTx4IuEWmV87ipL\n",
       "OCTe3ZfSf4o3qLzUnYIlvk2WNNxITz33CXxgDKCZrQqqxt5NeAgTy1tAnwruTyafQh4SLGDgtnI8\n",
       "mUzmd7xrrTfPUo9rAXFWAd71QJ/VI1v4hkm17iJxv45YyLy+y4tRhkcbnl9Qy3gQFu4dvUxn2mQP\n",
       "xLvdGf3HRBCVD0eIt8O1Vh6eAXi4PjRRzJsP4nunUUmawai7b4FxUYwzewhQ1WKbBM/SdcM4KVjr\n",
       "btx8n3wA3IrelYyN0XQ/ODYdB6aVsjKExb5UzKTXcrDPj9rlk1JG0pzkkx5VzqggRa1CbtX+4Zc5\n",
       "dB6kRVg7x/KpKTLnBOzxpmSWL0kbNegsO39oF5cnCQ9CnHVhkHQTxg8ZDDVCVM/S5pGB9bgPmjJp\n",
       "vcgp5aGkzhrZ8ZLipM7aB+6dqk1VVV55lZZ6Og+BAjRkYQRZE6/RIAxDefnyzktBepzcTOzfqpbx\n",
       "8N40PoA8iLexLmaZ2B3SxHbywwfPSig/ovL94uPD9YqZB5/GQBdi/R92dcUdKyuOUpUPwdVlWw0/\n",
       "YX9y1c+L7dLzKOGe5CDvck9KJJPpc5xHEb8Ise7dLqMLRi/qmlK41vL8ge4kQj/Uvtl8dI+toLES\n",
       "lc7lAko153LiJVh/v8OKhZXf9S5prCcUQl2mwGTlAYY5an38bHNIJNlWsU0cFXkIVn8+mbXrlh97\n",
       "+PlEXsjDBdgcn9O+9p//f7GTrYt6AbLginX8C9oHoWb8XhTXAAAAAElFTkSuQmCC\n",
       "\" style=\"display:inline;vertical-align:middle;\" /></a><br>"
      ],
      "text/plain": [
       "<IPython.core.display.HTML object>"
      ]
     },
     "metadata": {},
     "output_type": "display_data"
    }
   ],
   "source": [
    "mult_def_rev = \\\n",
    "    Forall((n, x), Forall(a_1_to_n, \n",
    "                          Equals(Add(a_1_to_n), Mult(x, n)),\n",
    "                          domain=Set(x)),\n",
    "           domains=(Natural, Complex))"
   ]
  },
  {
   "cell_type": "code",
   "execution_count": 5,
   "metadata": {},
   "outputs": [
    {
     "data": {
      "text/html": [
       "<strong id=\"repeated_addition_to_mult\"><a class=\"ProveItLink\" href=\"proofs/repeated_addition_to_mult/thm_proof.ipynb\">repeated_addition_to_mult</a> (conjecture without proof):<br></strong> <a class=\"ProveItLink\" href=\"../__pv_it/theorems/343135257455eaebf5260eac29fddfff841161da0/theorem_expr.ipynb\"><img src=\"data:image/png;base64,iVBORw0KGgoAAAANSUhEUgAAAbAAAAAWBAMAAABTUtReAAAAMFBMVEX///+IiIgiIiIQEBB2dnbu\n",
       "7u5ERETMzMzc3NwyMjK6urpmZmaYmJiqqqpUVFQAAAB6qHgnAAAAAXRSTlMAQObYZgAAAAlwSFlz\n",
       "AAAOxAAADsQBlSsOGwAABLtJREFUWMPVWF1oHFUUPrs7k53MzG42oKW1uoQVXGytrLVFyNMGxAdL\n",
       "yxRitLSaBHQNKZZtrSg+2ElaA77ovlh86MPWCoI/uNZC1ezDFq1apThqIa2Ku0FaW+hDXkKrWPCc\n",
       "O3cze+cnuRt98ZIZ7tw55zv3O3PuOWcD0OWw8dJWoxQ6tH8FYf9nGwSIOXi7azVKoUPPyGIcl4U9\n",
       "zmFb9PCr9B4v4JUqdknsQujqkW2TAHdKO6chCcsEEfZzenhLFl6t4G1Xl7yYUnC1Bk0Hei1ZlDfl\n",
       "YF1BhH2FQnJMFt0gd9SFpQ+C8dUIUQp69haMVsCsRdrywXwXupeQQYIISy5THFliCboVhKUfAkKp\n",
       "TIhScN+D0Ic+3xppyweTsEAGlgtuBRN590pH1SUyWOmS2KUotCbaPsZmV/GaWR6mtwFysEwQYTfn\n",
       "clukiZ2iEMDcofZfPrhdJLYz+/jDTigxVNKzTwyNB77ZfXjbwabTZdDyEcS4LaUVshfPKOXDy0fW\n",
       "ZLggwp4GeEaa2DHuEQOymZMisVps3hgIJYZKSs88jPrKTjL7B97PufUsT9zCiXFbJgWKkWOj1d6L\n",
       "ZxRHcV9GvckFEfZ10Dp9oW18FL4QnRPbOz/Fp5vwiqOLvoHvresCMdM2F9ONUGKo9F58DN4oB0IR\n",
       "kX5yp9Mv5aMimttKFSAA22EUA6B6D2g3uCDC9lhKtS27/8ok/KZYhuV5tVRV99mpp/nzIB1OFC/D\n",
       "Z+z5ZC73YC53P0mCwc4e+vTuzdynnpI1WoUmoe5iHuckEosAh7g/cyLtDhhuK7ngIzboGaX8Cqr6\n",
       "F6QWueAhcsxS7jBOU7HO1JQl5Vk0p+wE+NJHDOCBQPJIZCKSByk1Aa75IrEMPbcAToQTE2CYLb0Q\n",
       "JLZkNE5VI7UA6QoXJNjKGfym9f3reRsw9/MUI9b/6XqbVfE9L3vNVzsUQb8Jj/mIfWSrVlQoEqu/\n",
       "VWG1b5ER+3HFUOS2UgO+M7ZJMIoDWfU1LFeQYLdjqd5zopGwVVan55Qn36GDZV/pdUZo4eJFzxhl\n",
       "tp4MqJPpAhQFYiPV30EJ/2KktAWjRBHLTYuF4lcrJY+2LdPfRYwLRgmxiOFedAUJ9jDyf3Ud9Flu\n",
       "qZ+D2hpKBjCedLuKs2c9MErOmE5TN3YXdEcg1nzhE/hQJIaBT7FPSnioY5WvhX1hAaU6dkpM9+qf\n",
       "9NcJ07Zl+DvUHYJRHJid1pllV5Bg0+SqeYxK82ip9BwSG3YPHWbOc6VSyXnxXQ/sAB2OAVA/zvxy\n",
       "Xjxju/tTdUckhoHPYh+VdNS57utv3p/FJhg2sDkl/tfYbCP76/xi3Fa86iN2QDCK422Ap85zwQ3t\n",
       "xYdgNpksul9MZ3tNFjQ4SBNKHu3jEScn5LvsPOLl6MKoDci2VNP+91Gw052w2gLk59xC/S1AFobh\n",
       "sFIxsBTQu202DLXjpxZoR1dugpdpdCM72SBM3f8+CrbeCau34LYGzKAPkvfakIbnHeOOodtBe5Ze\n",
       "Dh/du+ScCcoedpe/WyaiX83IYoT8ApmIFvTBqo+UJvmUR+5wqSSGNuVJdaxLYiOr4iyOEG+ORAtG\n",
       "wupRv/80CvypLolpkf8AiEl//LWysGuXhTXh/z7+AWqxPe7Lz4QyAAAAAElFTkSuQmCC\n",
       "\" style=\"display:inline;vertical-align:middle;\" /></a><br>"
      ],
      "text/plain": [
       "<IPython.core.display.HTML object>"
      ]
     },
     "metadata": {},
     "output_type": "display_data"
    }
   ],
   "source": [
    "repeated_addition_to_mult = Forall((n, x), Equals(Add(ExprRange(k, x, one, n)), \n",
    "                                                  Mult(x, n)),\n",
    "                                   domains=(Natural, Complex))"
   ]
  },
  {
   "cell_type": "code",
   "execution_count": 6,
   "metadata": {},
   "outputs": [
    {
     "data": {
      "text/html": [
       "<strong id=\"mult_in_zero_set_bin\"><a class=\"ProveItLink\" href=\"proofs/mult_in_zero_set_bin/thm_proof.ipynb\">mult_in_zero_set_bin</a> (conjecture without proof):<br></strong> <a class=\"ProveItLink\" href=\"../__pv_it/theorems/50ae38265ec6a8295fc2b8ea1edee82cdfc608da0/theorem_expr.ipynb\"><img src=\"data:image/png;base64,iVBORw0KGgoAAAANSUhEUgAAAS0AAAAXBAMAAACsWwSiAAAAMFBMVEX///8AAAAAAAAAAAAAAAAA\n",
       "AAAAAAAAAAAAAAAAAAAAAAAAAAAAAAAAAAAAAAAAAAAv3aB7AAAAD3RSTlMAq1RmmUTNIjK7EInv\n",
       "3XZ/CtNrAAAACXBIWXMAAA7EAAAOxAGVKw4bAAAEAElEQVRIx71WXWgUVxQ+2b/Zmf3J4oMgARkR\n",
       "zINgtqBCU6tbUk1LwC4IokTMVilFn9Y++GKtW1CwNJIVFN1oywTxIUS62yr+IEowCAGxhCoIwsIE\n",
       "BLUtIiIKCqXn3HP3ztyZjS92+8HZO/d+58x+c8+5ZwagkyhLa7McwPkij98sEPKfImuzBbEz7PmV\n",
       "wxfJJQ7zOZot74yuldJ8sM7OoYp80LOPZF1/hBtl5pjfSMtfd0SWVWLTkCjgz96g6w1ibOsBQGqO\n",
       "+e9xMKod0RXLs2nopryubqfrY4BrUhfyCdzBlN0RXWlpGkYoY2lZTU+bzZLSdVykU+hCPooPlOhM\n",
       "ea2QFtoZSPAubv3Tv/oSYMxmXcTfbTbvdEbXkDSj57GrFr98tggTJE6bsdev1iJdedZF/GcA4++o\n",
       "ER4iwZaSVVdBymN2S9tRNt+os/DKqZchKrKX8CI3ocq3qMuF7DROid8HRq5FJ/eou59Y+h2NJk/X\n",
       "aH99/S+AQmuyxhelM3+wWTMQm1NP8QbSLkSmhS4VZsxIXQ0wXpAX8qaTKiqHHhI3Xytax8uRM54u\n",
       "K+eXFXXjVRgWW9klqJ4AI3GbLfYcMg2xVbT/JehuQPI58aNNBLUCYzEqsFDXCOZ7YhcIPuL6yn4W\n",
       "7dMKJvgXgI88XbGids4q8BrPcQSLc1hQswFG15WuQl3E30dDhSM2xMV+Tao7Hh7nuu/DxnAZfQVf\n",
       "Wo8/U+uv0Fb9M++IZnzuCD6FpyujPAiHHLhFvaVKlZnhKJ3R8lh3YYO/fX3hQGSudVcJ7BFQA9jg\n",
       "UKKB+d/wWFgPkq+pqh5mC+IpentlAOvaLz0+ryHyYw7cg0gB317xBlEUpTOMn9nqNixWh6O7guUG\n",
       "UdHIs67WPdaJ8k+Juif+W6yQWCFJczMfLW0hv/5+Tdd25UHAf/8dsJBMrE2iKEpnGL+ymW7kfqwl\n",
       "oCtvouxYQ0x2aboytjUr+73gu7Ce0sVsTtRHLLcWH9w+uk3TtUx5yGy9gGQVW/IwUxilM4xjbNbS\n",
       "q/ueqD7RM0ASuF4nTjo+XdbQfEXqyrTquV42+9GnG9L2jzSnurc8XT9ID86WqG7KVmlcUBQVYLgq\n",
       "K2xhHJTj8E++9xBD6DqoDlJ5bIszBRnnQ8oN1vylMtzU6l54yN7mxnOiOD5oCIqiAgx3jQJbGANt\n",
       "306eLsXHB1ZdhFE7udkF4zQtTO05UfF0mWX2aHXPRw4tiY6AI0UFGMYpaUGEv1/+9l4wpTDPB3yq\n",
       "VvPaFeuKN0L3bjWfMDWpXU220WWGPpQPqS+aC/kQH3fa3IKHwRAxGLoILxguWxCPwzv4iRR2YFGY\n",
       "j8KCulJByVG1pUEqWoT/AYYcg7os79JZkHkP/Av1AiXqF35b0wAAAABJRU5ErkJggg==\n",
       "\" style=\"display:inline;vertical-align:middle;\" /></a><br>"
      ],
      "text/plain": [
       "<IPython.core.display.HTML object>"
      ]
     },
     "metadata": {},
     "output_type": "display_data"
    }
   ],
   "source": [
    "mult_in_zero_set_bin = Forall((a, b), InSet(Mult(a, b), ZeroSet), domain=Complex,\n",
    "                              condition=Or(Equals(a, zero), Equals(b, zero)))"
   ]
  },
  {
   "cell_type": "code",
   "execution_count": 7,
   "metadata": {},
   "outputs": [
    {
     "data": {
      "text/html": [
       "<strong id=\"mult_in_zero_set\"><a class=\"ProveItLink\" href=\"proofs/mult_in_zero_set/thm_proof.ipynb\">mult_in_zero_set</a> (conjecture without proof):<br></strong> <a class=\"ProveItLink\" href=\"../__pv_it/theorems/f33fe9a25ef701bbd2097f6421271372df779bfd0/theorem_expr.ipynb\"><img src=\"data:image/png;base64,iVBORw0KGgoAAAANSUhEUgAAAoAAAAAZBAMAAABTFYKyAAAAMFBMVEX///8AAAAAAAAAAAAAAAAA\n",
       "AAAAAAAAAAAAAAAAAAAAAAAAAAAAAAAAAAAAAAAAAAAv3aB7AAAAD3RSTlMAq1RmmUTNIjK7EInv\n",
       "3XZ/CtNrAAAACXBIWXMAAA7EAAAOxAGVKw4bAAAGuElEQVRYw+1Zb2wURRR/vT/dvd27a/UDQkzI\n",
       "EVFqkHpyYJAYPANY/sRYgn6g5UMjIUY+6NUQTJXAQWKUBNpTQrQk6iJ+QcA72viHIg2BmKpE02AB\n",
       "/+SSIxC0KZKmBjA1gjPzZnZnb/f2Sg7DaXzJzG3n9+Z19rfvzXuzC+AlNfmz8L+Ulmj+lLdC7b/x\n",
       "rlK8VSiKc0h7hkMzTDzx3yMwGsNWqQQLjqGLLfxiy26BJ6Ce/txTmkBPvBplJm8Vy/niAd846fT+\n",
       "JtK/KfAELKY/z5Um0BOvQtHasFUutUbRgD5IumfhINkfjgo8AVtoOGdKE+iJV6EE4tgqF3/ShUD/\n",
       "IOgZJJDhCcajHitNoCdehRLm7RbIN3xTfTd/xiQwVM8i+ajAE+CPe+QKAnjiVSj38XYLZA0mkxcM\n",
       "yQPrkqCOcQLXYBb+Np8/6ZWFvfAqlOW8KXf/UpRG2/s3TaB4kaYdYv0GQw7hLCHwd07gISRwCcBu\n",
       "LwK98CqUNbytToXG7WXJALxvlJ0uT3sY7Ak0QHLT5hyo1wEuCZwQ2A5KvReBXnj5LZ0XAG6FreUg\n",
       "rnDU3aKrrqR8Cpt2AgKDNpUDcXiyfA6Xpz3Aeiujb4wjgX+SnxjHCYEhQ2+WfXjoE3i0XiKwCJ+Y\n",
       "DD+OkRDCP+cW43p/TpDrBsOREYCkq2Wnrl35S2yBUYjkQEMnylISngL4GbQjd1Av1K46rTAlnMal\n",
       "i3Yq2cLyP7ItYC3VykGQeKA2KYY4IdBXsHJE55RdME03AoZEoIxPRKiNfXfB/TmLQM3hwgtgFQSR\n",
       "wxoX2F8IZqCVw5Izu+kKZTuB4Qxkm6HzNzYWofR+DdoVYgQdbMi5bqaE00Q4s7WbJZy61GBJxEeS\n",
       "iL6W4/Qo17bAXOMSeuooJHXbUc7CJxS01EZfAfwSgQGHC38FdSlYBz4SFK0ucDgN10gBhbCI3RK6\n",
       "QtkewtkCPEauZlnBeR38o1DXrPzhtXo+DQUnWxsBKWEglAE/2SQfNDhOCexZR57iws4L/HDScO8m\n",
       "O4EUh/0LPhMr6R1xbkPWILWhzWvm53kkMFI8SxmHcAx6ADI0Qzlg2GzAcVp9ZuQEJnSltdiUUd7D\n",
       "lo3BJLJdSgSOQU3bDL9RhkA2bc68y9QdH2FDl+2F9DGWS74AjlMCNxJi966Oh1PorQ36B602Aimu\n",
       "nVWv8bGDqS4ngeYgs+F7SWgggRsshUA3kZ3qOETiMJ0eskkgSzAspXi8y4DvwZdEWIjQtdZiV7Zq\n",
       "D9JCBd9QQPZAwuqsZJKfx3CpV0WXNRMFm6bNPQEDvBoiHMRsR7lTcCDNy5jlnMAaMvDKRagzguwE\n",
       "1ADJYRuBFA8k1WOgMG9YBNsh2LjYTiAdxGKB2vDvNWwEruIKHWKYEBgu0OEQyVEClowSTr4DsrMx\n",
       "2Lw5rsvWIolQRtmBTZv6efuvNgL3jLw+ldzJDsvgkOgiZgpi05SP24DWMqdxaEqLTOCH/ZOBE3ha\n",
       "fp01lWyJ/ue7u98iBO6vdbzOCjdH62HrT7hLnyNnpaydQDqIOzq1ob6WthE4DRXUWYYVwnUx2EbP\n",
       "Oa0mLBklUTkGagZhM1lwXbYWewgzZZ4L0tjkbUwuMiZS09YUguQRKdxXg4eloxwXSiDDE9auvkhV\n",
       "c+iBwUYHgdlUaL4BlEDtGuz8SBEOJx4cHfQvnk2KJGaDJBEwLAK3oQJEDB7CmESm0wy124SZUYxK\n",
       "lhdoVLbJ94u6uJY5K2c6lM1XANZrAAeB6+HlCZyn04Fk2vlKoohAhgsClVH4oQE3bFJonXN6YKpr\n",
       "JSVQy8GAemU+wC56ud/s6KBvmGYsZuPVJtALtiTCZkXM8LkMK3B7fihnwcSoqIsLwXrSIcz/i6nL\n",
       "1tKYiTiUUd7mzZVA5Z03lpUncDNEtqahw1GtWzvHE6R1yG+kyRJG4tBBXF89k7JqL5PA4MLGXiAE\n",
       "qsfh6dlEM5Cml9tT6gDt+OBkhWzG1AZon3YvkUI4lEIFi0C9fxneJi0/BBxIW7XxBYMOM5j/F1OX\n",
       "raUmvcGhjLKPN/YgX+wv8q0bN0bLE7gCor3SUzDZH5MOLBy3v9LXDnfv8nqlT0LYh1d9UfMSzKvB\n",
       "6FyjyAYSKFJpxHYWNUtUAffZT2/7XF+0C1NwvsVdWSlgq/jTgLPWWH8n/xeHYgK/qW8inSdjgKuu\n",
       "vfEXgHUDLfy84estNsCPck2Yey/12Epuc4VNllFJmlyXxEf3wMx4eeV/Xm76o1Lc7bL0C2BOoG54\n",
       "nmpdYb/7CdxVt5Ty7Sew0u/C4tug210brpdWhJcw6Uqgdnvoi+ZP/A3wphFXJM5/SAAAAABJRU5E\n",
       "rkJggg==\n",
       "\" style=\"display:inline;vertical-align:middle;\" /></a><br>"
      ],
      "text/plain": [
       "<IPython.core.display.HTML object>"
      ]
     },
     "metadata": {},
     "output_type": "display_data"
    }
   ],
   "source": [
    "mult_in_zero_set = Forall(\n",
    "    n, Forall(a_1_to_n, InSet(Mult(a_1_to_n), ZeroSet), domain=Complex,\n",
    "              condition=Or(*ExprTuple(a_1_to_n).map_elements(lambda x : Equals(x, zero)))),\n",
    "    domain=Natural)"
   ]
  },
  {
   "cell_type": "code",
   "execution_count": 8,
   "metadata": {},
   "outputs": [
    {
     "data": {
      "text/html": [
       "<strong id=\"mult_nat_closure_bin\"><a class=\"ProveItLink\" href=\"proofs/mult_nat_closure_bin/thm_proof.ipynb\">mult_nat_closure_bin</a> (conjecture without proof):<br></strong> <a class=\"ProveItLink\" href=\"../__pv_it/theorems/8f14e4636988ea78442e581b619da66b16de4f810/theorem_expr.ipynb\"><img src=\"data:image/png;base64,iVBORw0KGgoAAAANSUhEUgAAAKsAAAAWBAMAAABNknGBAAAAMFBMVEX///+IiIgiIiIQEBB2dnbu\n",
       "7u5ERETMzMzc3NwyMjK6urpmZmaYmJiqqqpUVFQAAAB6qHgnAAAAAXRSTlMAQObYZgAAAAlwSFlz\n",
       "AAAOxAAADsQBlSsOGwAAAr9JREFUOMutlU9o01Acx39tlqRtkjaCup1GCQyEIQwRBBEpytDDlCBl\n",
       "xzUqxj8ghM2LiBrmffSi7OAkogeFySpMBC3YHhTEgxFEUDxUqVAPg8qY6M3f+5O0ydawgz/4tn2f\n",
       "hO/7vd/7vVeAbYTLtQUe9Po2IuUzxeN+bHzq90UTjq57hLcI+Jpo+5GrL8SzRZyqEXvxcq4FYpfy\n",
       "F2S8mOQqVpkika3hx+0Y/O5OAUxQfgOHGSvJVmkwRaJAivIuBtesrAtFyrMmwJCfZCtwRWLFJNRk\n",
       "g92GQVfTaWaqxBa5inlkE0v7mSsSR2gl2Boe7+Kwk3d2ElvC9xnG/kTbVa5Me0QP4b0da7hKut+Z\n",
       "sMQdsCSvyPhzgHOJtne5HrjSRriNf82KCypdetbt2V4Tx9CW8AXItAIu3+E/5lc99TD/vZdJPARK\n",
       "MXhR2wBBB22C2kLPVvU/ISNcMoe88EGbeI/antaahGecHWRSupAu0URJd1ShUAK5S57PGRgWs4Uf\n",
       "ebQkXNP7duwA6qWDsKlAKWorWFCh84+jcIIVH3I02+m+bGFGxBVRXm3iR7l5nCT6a9SkZ0e7/kgv\n",
       "RYtQ0eF9f9u+MkGjRUn328o65k35CdxJcY/8h5z+sVSNTq45k18C29NMFR9+asHuFBwsNah06amw\n",
       "P86jhi3Ob+GOKTWZJC411Ooys1VSwdE7ySTp2rgSGOQbEp5ehc28FNAlVnXG81hLwUuRdhAcpfXW\n",
       "tm1fc8RScA3MMonfji0Mhw3WrpPls72eucRO29V1i90e6aAHKq70Gp8VQPCvsGzhSbC2tMO0Oeb5\n",
       "98MzRnUrDoJ7c9ksQ9p8gw2HY9WDVNDNao1pc9QHHKCQ5+ofpmDOl5/qkCGFn13kNzGJC1zxGHTx\n",
       "xTm7yMq27UXwdKQ5eyEN+HeJ8Zw5YHadKR4jA2oQ4yr8t/gHIMasQGbDi0kAAAAASUVORK5CYII=\n",
       "\" style=\"display:inline;vertical-align:middle;\" /></a><br>"
      ],
      "text/plain": [
       "<IPython.core.display.HTML object>"
      ]
     },
     "metadata": {},
     "output_type": "display_data"
    }
   ],
   "source": [
    "mult_nat_closure_bin = Forall((a, b), InSet(Mult(a, b), Natural), domain=Natural)"
   ]
  },
  {
   "cell_type": "code",
   "execution_count": 9,
   "metadata": {},
   "outputs": [
    {
     "data": {
      "text/html": [
       "<strong id=\"mult_nat_from_double_nonpos\"><a class=\"ProveItLink\" href=\"proofs/mult_nat_from_double_nonpos/thm_proof.ipynb\">mult_nat_from_double_nonpos</a> (conjecture without proof):<br></strong> <a class=\"ProveItLink\" href=\"../__pv_it/theorems/c4efca9303925e86b4dd8a2ff317de70f80b4cee0/theorem_expr.ipynb\"><img src=\"data:image/png;base64,iVBORw0KGgoAAAANSUhEUgAAAL4AAAAXBAMAAABHSeiIAAAAMFBMVEX///8AAAAAAAAAAAAAAAAA\n",
       "AAAAAAAAAAAAAAAAAAAAAAAAAAAAAAAAAAAAAAAAAAAv3aB7AAAAD3RSTlMAq1RmmUTNIjK7EInv\n",
       "3XZ/CtNrAAAACXBIWXMAAA7EAAAOxAGVKw4bAAADFUlEQVRIx7VVTWgTQRh9ySbdbP5VlEJFAgVR\n",
       "1BJFCvVQA02lIGik4MVioz2Ivbi1Ighaojex2l6qRqusF6GGNqkKlYJQkKJVxCCWihDc4qH+gPSk\n",
       "0IP4zc7udnfTlPTQD14yMzv75u33vZkB1hKyjhWGVwoRa4twjMMZJx19/9dsNwIfpr0qEGUD9dXx\n",
       "79JhpRou0ppxx0QpdgzIA9+AVtY/UxW9P81hi5oE/XQ7Bl1zgTiC9FDBVZanwar4PXEOW0RYvvY7\n",
       "+XeS5BAgJNgSCMSq4g/qsEWnwkYV3vlRKmnf5+pVLzJ+vIVAgmqqS/92HbZ4qSWJf9Xxn4Z+uTZc\n",
       "YPxdwPtS6V11/Id1iHULqjl46vdGSoDmEtEsg0uWMMT4x4E24N4qNbW0u3R0yNKS+fyPkpchaFmp\n",
       "kZf5fYnRUWo0Aj0QoxXphVr0NRivfeTwv4KnaExwLyGowj2l8S/XV8Y+9zA1dpNXlUDKGPedNSbM\n",
       "PL9Pxsu1Me8Zlpzm8CwiVNCkM0+lESnAt8ie95coBnV+l7KVGgOkQLWUt44tMp9NheTAmIILE8Qy\n",
       "RSaw8QcHkdcUfSLQSp0xeDX9I1b9/ijLTwch3bzM/4aQzFBecK0X4iwrWhGf7fnJqzhotf9RBW4t\n",
       "XyErP25J1NhDeMrKnmueYNL/zSv6Zk9QeoTNmv7X+lsPOfIxbHEbNYlkqBwQtKyETVdJJDF8nRpN\n",
       "hMtUXv+c7y+b8SWc4F8pnM+w6m2izzPzP84hqe5PHlNpXCIhnoLWOW0eGmzDHtLt7CImT8LHUijF\n",
       "hXS7NmMswAveir56Q+tNDv+2Fz3fTX/WtbDMcIc8GuL72Hduhn4fE2aNrZ8KM5MGM55oYzabjaEw\n",
       "iSdOs4YyHOVxRf8/8aBkO/9Ew8d5WTpAa0cQjN1gfe+OOCbFZDLZat0MCY7yaFnlROT65YF2JYeQ\n",
       "0kT7gfoBD7zFsul3dJTdU5XO30tGw9vS8Az9Md8RFeJd6u/d8Ot2+a4esZnccp1UuiAdYvgxnctm\n",
       "UxXuU5XDGQuV7lP7ul4F6xrCOnD+B06AtNCX7BzxAAAAAElFTkSuQmCC\n",
       "\" style=\"display:inline;vertical-align:middle;\" /></a><br>"
      ],
      "text/plain": [
       "<IPython.core.display.HTML object>"
      ]
     },
     "metadata": {},
     "output_type": "display_data"
    }
   ],
   "source": [
    "mult_nat_from_double_nonpos = Forall((a, b), InSet(Mult(a, b), Natural),\n",
    "                                     domain=IntegerNonPos)"
   ]
  },
  {
   "cell_type": "code",
   "execution_count": 10,
   "metadata": {},
   "outputs": [
    {
     "data": {
      "text/html": [
       "<strong id=\"mult_nat_closure\"><a class=\"ProveItLink\" href=\"proofs/mult_nat_closure/thm_proof.ipynb\">mult_nat_closure</a> (conjecture without proof):<br></strong> <a class=\"ProveItLink\" href=\"../__pv_it/theorems/ee1666252a0705cf245b470a766f58b181669f9f0/theorem_expr.ipynb\"><img src=\"data:image/png;base64,iVBORw0KGgoAAAANSUhEUgAAAY0AAAAWBAMAAADOX93WAAAAMFBMVEX///+IiIgiIiIQEBB2dnbu\n",
       "7u5ERETMzMzc3NwyMjK6urpmZmaYmJiqqqpUVFQAAAB6qHgnAAAAAXRSTlMAQObYZgAAAAlwSFlz\n",
       "AAAOxAAADsQBlSsOGwAABIZJREFUWMPNV11oHFUUPvszM7s7u+sWY1uxyjK1VMlLENEgVVfFv5LK\n",
       "WFdBqMlUaMTQ4pY8qBTtpNKAL+m8KL4IW9I+iEUGXwptwA0ShEZxtxSjIrIRa9cHYbVWaqDEc+69\n",
       "s3N3tpMlTB48cGbOnLlz5n73/NxzAdagmFGByJQSHJXscH2/eSarG/D/OwVHpZOB573/vG7CE1er\n",
       "J/lEm6T7KQxHnm65WoTf50qcI1MsOItDmSYobaZHHOdI9VEYDp08krYj/P5lwdHpg8DzL/YIwBDT\n",
       "I453KXytMBwauWs6yt/nBEenxcDzHxYucJHpEUfaxFs9ND9oEfZE+fuQ4OiUMPl9s2E4dG/NpxzC\n",
       "gXqcaBbDKx2e51/jzYmSHg7nDaA0T5BPbhPPrXxlgHCgngrSfYZxfziOhGFsj5KleokzzDw2FajH\n",
       "v24t9C/a0qAkK0mpTpq0wFKrRaYnHGcBDoTj0CugmhEXkTgzDG9025m11Wt9P5cHZZlb/aLTgiPK\n",
       "jiLTE44ZSDXlFRjcDV82Ozjw3cy6dz7JRLzO+YUafA6wz48wZRfoRSg/d3ktS3yQF6IszfwcaEG2\n",
       "/t0Q0xMO1fS3u8O/TcDPSVM3/X3wAOxeF4iAiUSV8xcAd4O2iU1K+ZcCrg3xEriEDmCsN4OkQYK0\n",
       "Nl0nDSSL44DL+SGmp4nmCh2I+lnaEwtuUtrPG+tL86AJD8cDoKzgv/jiDtILC8aqsAInqKWIu72W\n",
       "/EGCMswfL0n+gFGlyPTME848xtjc4TsAttHrpR+nZBzpLCaaMjLghaUk+lSef0ZIQRMirpQ/Idvu\n",
       "4GAuKMC3AAscRxjxQYtfbSKc/OO4jEMrWEzPcOzBCrBvtpawFeaupeQrpyQcyR8wQvbaR73JS6If\n",
       "A/do14UUNKEWGCs3IO9834WjDr/n0NLja3mXDTp+YRcMU54z27FO/XoNeYvF9AzHe5iSx2+HW8wM\n",
       "K9BL4G6WcKQeQeE8TOK2zkKexEzjXHcwuZrY6npNNDnvh4uuK+NQC7lBHVd0hz9pR1xYaviDUs87\n",
       "cE2UcKSPvZck6A7TMxx58uwyzEL2w/HxQziJclrud68gPwR3gXaR4SAxAWPdO201JspTjwmtyHl0\n",
       "4K3lioxDWX56Zou3ODwEXe8y2D0oX2CpEeeZMjrBP3n7KvpCcZjer1QPwnlNK/HFzDQCfbtyHQ6+\n",
       "CHHTE1PkHtn9trpgLp65hFMOmoCdgnnpLAZLtJvq34QmKrqLa31MPJ561egqPcekA0aqDTuX+H54\n",
       "AXDFA+ePYW1lgXAoJS7CBIllfilDwj56xmxYlIJBE6y7WwzFMf3mkf677AmIv1MJ7zbnpIliKz9Q\n",
       "g2kcrd1rQz6I49Nv8C3i0B7mIu7yKE7a2jBeJuuZucYIhuf7NLGACVBtzmy1nv070Io8urrav5Z/\n",
       "BrGR8Kac9IEDn/LU+ET4eZDiKsfFJ2MdEYl3y3HYdrrXBKtgirUBbaJqh+v7HFyT8rlXuxX799O8\n",
       "aVr9yxPJlzwyRuHSTc+NU4Kj0tZwfWz7eg/gtZuIWfgf0H/ozkWXomDyQQAAAABJRU5ErkJggg==\n",
       "\" style=\"display:inline;vertical-align:middle;\" /></a><br>"
      ],
      "text/plain": [
       "<IPython.core.display.HTML object>"
      ]
     },
     "metadata": {},
     "output_type": "display_data"
    }
   ],
   "source": [
    "mult_nat_closure = \\\n",
    "    Forall(n, Forall(a_1_to_n, InSet(Mult(a_1_to_n), Natural), \n",
    "                     domain=Natural), \n",
    "           domain=Natural)"
   ]
  },
  {
   "cell_type": "code",
   "execution_count": 11,
   "metadata": {},
   "outputs": [
    {
     "data": {
      "text/html": [
       "<strong id=\"mult_nat_pos_closure_bin\"><a class=\"ProveItLink\" href=\"proofs/mult_nat_pos_closure_bin/thm_proof.ipynb\">mult_nat_pos_closure_bin</a> (conjecture without proof):<br></strong> <a class=\"ProveItLink\" href=\"../__pv_it/theorems/f719141527173326611d1383633f098b7d7ad1060/theorem_expr.ipynb\"><img src=\"data:image/png;base64,iVBORw0KGgoAAAANSUhEUgAAAMcAAAAZBAMAAAB3HyeqAAAAMFBMVEX///+IiIgiIiIQEBB2dnbu\n",
       "7u5ERETMzMzc3NwyMjK6urpmZmaYmJiqqqpUVFQAAAB6qHgnAAAAAXRSTlMAQObYZgAAAAlwSFlz\n",
       "AAAOxAAADsQBlSsOGwAAA0FJREFUSMetVktoE2EQnm12kzSbpOvjqKWEqlUP1qJVPOh6qAg+WGop\n",
       "eGmj4ioqGB+IF+1WQSiIxkOlYNEFETxUjaUqfaApYqGKECuIiGCKUhEULFgsQsGZf7PPtGkiDvw/\n",
       "8092/m/efwCKppdQKqVwiSVpRFIlg8RxBeOlaOylLZgvDxYGgeFSQI7RtjRfHpLcZ2GN2gn8lk0m\n",
       "SJkCkCXm4/wYwVoKmewWNtfhtsTzpT9zH6DV8oRDhAFiuuYHEWUzZE66gatcccuiNXwafCCqar2K\n",
       "7gtTAOeLTE6FjtuQVzqDK+ypiOg7NLrM8gS6DTv4zPwgbWRvrTcfU7SvNw7c/thKBnJZ6nCCPEY7\n",
       "0ghURN4XUkqSHiFflTOVAK/lwhbVvnKyA2QRrrpYbF0RIN/MvFzZ2m4Jy8crMQi7Gd9hpiaq+eGI\n",
       "A+QB/vAE4OBcN/M2q9Kd6HVoIxy3Mt3aKUwDjIKreKJaINXYaHY8BjqBlkEwO2dJ2exNKnk0e08a\n",
       "ei3hJwXWArxlfNIGgdeRA7bmVSwZv8Lr5jlwPcdc6NPDm10gq3H58MNnANXMCbq0H+AXmspUMeyx\n",
       "5TmQqPLZ1mxFrYjkyPsX+rxS1SPZBniU5wmB1IPwhzUyxaIaQljEt1mjxx2eCNlGhycJ8tMxXTbg\n",
       "GkRhZFgEmR/sHRzwhEuYhPBPR5uIWMRjjK9ygMAJv6P48Qy7OnFrGt5OTkxWKlyaivXcXUl2eTJB\n",
       "A0MCYQaiyfem8DelCEYYv8AaK2gkd8bWpOqCi5h3oSYwTf20jEs1s7meaPjgBqFq5/HLfTCWslr8\n",
       "OxzFvc8oZ7OjGdNvaz5n7iGymApQN/vT4WSPASJycRcI2RPAkLQsPjueMIUtO8jtVcb0nbhjFM+t\n",
       "eveUe2oyPp2GJfgSYnZUVdVMJCHISVefUNJhxazzOZeN0DZjrHip2yozzf8CTa0AX+a04Qnck/Kn\n",
       "8KtZmyldcFQIU5adWluP0oQPzAj2DU1Wnb0DDjLCqc1yy6XC8yhs3RMaerMTTmUCDyUIHsLzya7c\n",
       "c2bTD1czOOhwYZAyj2FGfTSpqj7XG9+eL+e0wiCeNz6kFPy3IsO/kPdBDP/v/12sLNDyv4evvCy6\n",
       "MXDaAAAAAElFTkSuQmCC\n",
       "\" style=\"display:inline;vertical-align:middle;\" /></a><br>"
      ],
      "text/plain": [
       "<IPython.core.display.HTML object>"
      ]
     },
     "metadata": {},
     "output_type": "display_data"
    }
   ],
   "source": [
    "mult_nat_pos_closure_bin = Forall((a, b), InSet(Mult(a, b), NaturalPos), domain=NaturalPos)"
   ]
  },
  {
   "cell_type": "code",
   "execution_count": 12,
   "metadata": {},
   "outputs": [
    {
     "data": {
      "text/html": [
       "<strong id=\"mult_nat_pos_from_double_neg\"><a class=\"ProveItLink\" href=\"proofs/mult_nat_pos_from_double_neg/thm_proof.ipynb\">mult_nat_pos_from_double_neg</a> (conjecture without proof):<br></strong> <a class=\"ProveItLink\" href=\"../__pv_it/theorems/7c26058c1816794c542b0ead91d065c25dbf9fd50/theorem_expr.ipynb\"><img src=\"data:image/png;base64,iVBORw0KGgoAAAANSUhEUgAAALcAAAAXBAMAAAC7XMNCAAAAMFBMVEX///8AAAAAAAAAAAAAAAAA\n",
       "AAAAAAAAAAAAAAAAAAAAAAAAAAAAAAAAAAAAAAAAAAAv3aB7AAAAD3RSTlMAq1RmmUTNIjK7EInv\n",
       "3XZ/CtNrAAAACXBIWXMAAA7EAAAOxAGVKw4bAAACzklEQVRIx7WVT2gTQRTGX7K7SXazaWIPBg3K\n",
       "giCKIBFE0EMNJAVB0EBvInbVg+hBtgqeFKKIFxUXD9X4j/FYg020gloUCiIoIgQRxUJge2qhUHJS\n",
       "LEWcNzNJs9OE7EEffMnMj5dvZt+82QAEDkeoC+6VHjgGLC45jknzp7/HCbxZKSJPIdgSwHyHUEcY\n",
       "D+p0wayUeFtLgdFkfBjnp/p7GzaXLyI5+nFGgpucKYAZxi/TadTtb65muXyRxDLtluCgG3GgzniE\n",
       "AMSt/uamkC9GCVLCz+Rh4xsbpIeiNppTrtDdRAKUfKuQL96y2rDn0c4SAdOh0iKaI//caHwKYH5Q\n",
       "KJqZ99rw+NIgfW7WExda3pAGVy/WOT8AcC+A+Umho46+3D7kn6TqgGL7eyINV41Zao58DKKpAOZf\n",
       "uIx3oNZbLLwMpgfhGRzbHeaKtZ0y5DqJF1s8dloMQh9f3M/5zN9zqU1I1OiwimaqDckaxJr4S1rd\n",
       "xg9hDhtD1Bh52Os4zwzmzZWLCSc+SbqZmy5UcS8JXJouM2qBhjs33I6dw2ODPh3j9tCqxQeqQonW\n",
       "C66ch2ihUBiWylL1YH9nmx8mEGZlqneaxzy6FuPP8YpVhl7ipv/MEXGdc/6qwCOuqgXrw613UrJE\n",
       "jwAUtumlduZdqgVX8Iv0PI3vsV94EWYHchMsQzlX8ps/49K98Fe1xUJZnW5BrbFub1/EE/w0OA9R\n",
       "GzUXwwrpWcUeYRmTcalbbnIZm1+NLbRbMZPHyrN+MDYc4fDaisvfQolWn5jFAexHs6Sm9pTLZQtq\n",
       "0/DEZ54oca2NS/xLey2uv8RpKR19H+2OJJjWdZa5LQvTvlQlx7U28j1uRpubzq0RUoEE2Uv7ns7j\n",
       "Kmh1f+4dITl6vVJXuZbfOQU3rNghD6J42rvWLY5L93ZCSA69x/+ZzPmBV8rlYredeFxyzPeoisQ1\n",
       "Av8vlH9t+Bcjg7AdO+7fnwAAAABJRU5ErkJggg==\n",
       "\" style=\"display:inline;vertical-align:middle;\" /></a><br>"
      ],
      "text/plain": [
       "<IPython.core.display.HTML object>"
      ]
     },
     "metadata": {},
     "output_type": "display_data"
    }
   ],
   "source": [
    "mult_nat_pos_from_double_neg = Forall((a, b), InSet(Mult(a, b), Natural),\n",
    "                                      domain=IntegerNeg)"
   ]
  },
  {
   "cell_type": "code",
   "execution_count": 13,
   "metadata": {},
   "outputs": [
    {
     "data": {
      "text/html": [
       "<strong id=\"mult_nat_pos_closure\"><a class=\"ProveItLink\" href=\"proofs/mult_nat_pos_closure/thm_proof.ipynb\">mult_nat_pos_closure</a> (conjecture without proof):<br></strong> <a class=\"ProveItLink\" href=\"../__pv_it/theorems/1f36cb37a40c4f531c531c20f5932caa85a697ca0/theorem_expr.ipynb\"><img src=\"data:image/png;base64,iVBORw0KGgoAAAANSUhEUgAAAa0AAAAZBAMAAABwVGzTAAAAMFBMVEX///+IiIgiIiIQEBB2dnbu\n",
       "7u5ERETMzMzc3NwyMjK6urpmZmaYmJiqqqpUVFQAAAB6qHgnAAAAAXRSTlMAQObYZgAAAAlwSFlz\n",
       "AAAOxAAADsQBlSsOGwAABPRJREFUWMPFmF9oW1Ucx79Jc3NvcpMsm7Wb+IeQWVbJS5ChYUyMiv+j\n",
       "XLUKwmyiYsSyYUofVMbsrbI+dnlRfFEinQ+iaBjooC2YIkVo2Ux9sCIiqbjZPQjVWZ0FqefP/XNy\n",
       "b3OTumz+IKf3nt+5t/fzO7/f7/zOAbwklhxAt2QBV1pU2lTJb1ey7j0y1L1/Gq1eca4gbSZoE6ld\n",
       "Na6naaN04UW6N1ckfnW5DtPmxi686H3H/eN/vqThnosVgwv9nKtBr39ozeWp71yUNPXFbBe4fM65\n",
       "OBJuQFoz5ws3ca5pev1Oay5P/TZiOmv64mXLW477n/QckMbnxeeLRcKc1xjX69SYhdZcnvrOZQfx\n",
       "E8x2hWvRcf9rIaQjYc1XqMa4QgQvUG/N5anvXMbIa5DuClePxv/2JZNl+nd1TikLXGqBcdHUEfLI\n",
       "G576zmUXDa9yV7hCPMA+vNa4X42VegUuX5p/9K3J5H6vfOil71wumDE2ede4I6P8vCfePu0IgwIs\n",
       "lSlWmK2iEKzYXOF1znUaeMGLy0vfRoT0VzQMHc7gZa1p0JQeXG/7JnFQhE17SLe5jkr9CbPegPwX\n",
       "55qE0hAtk3oIXzYELod+OyKUGO+Rn5+E6RM1nAIO2R4pHYSawOCj57xexAeZlUu6eWldRaT+rR26\n",
       "ygbnCmqBitk3cn4YPwY0VRO4RH2ni5VhG4ErRQOevOcL4GbIO9lHSn9TI6/BnyUjT9GevDsChUGG\n",
       "yHStwmiSSIFz4VzM5pIMrmjcQldP0zU4Xg2IfijoOxLBNo75oly3sf8bTdiwBeQr2MCJEp3RLYpI\n",
       "e5AhYcbwlDBfGJIStlENP0R5jlzMjlwP3ED7l78fb+Ji+m0swJZtHp5JzVQcfij9hsiaxcWmKI6v\n",
       "gXnO1Ur4oMWvdlJu/rBf5JLj9gorXzK4HiGZ5dBUrUeXmHI58MzJJi6qx+DcA+Y853rdpafdKdpG\n",
       "sP556tFxSP8gVv6uiauOC1Hy7N1exmKDji8cRIbmDfaZPis/vkh+u20uMx/iTRIJx6/DDi3MFoZl\n",
       "VPuauKheGqBm4HWmPubmsjqbbCNwXWMk6GfxTbUqcgXj0RRJZHK/DVE2ooo19iDlsTLWzeUCeNdU\n",
       "0gvVDsyIsX4hRj1gBVOIvF0sHiFcg6EmLqpXq3IaCsv3MxhFeGm6mYt2cmuJthG4PiXhJhOaod5X\n",
       "V0oil7Ry/+Rusm2ykz8LspQZWsKgWJyFlp8799Awf+S1i8SUks2lNsR9yu2YkeUs/6bwkmuf0lPx\n",
       "NXCM2fQAqZh7kG/mOsDKaGot0TbC+kVzBvZZqTrhzKBVRW9fQJXUKrHxG8btyeeS5RbliMWlrGHf\n",
       "Ml9/F2B+o8CV14PzGtvaSJdw+EnFnB7TnrQzMn0mC7dthHp+sSXXxCtHtbZcJ+A/VmpbPRv1vOE+\n",
       "DfTWMEGekm/REXPPlz72MeWSssjIG/PAMEkl9I42Rme0j1ZpLtsYWYp6UNCYE+XBPxyl052bm+1T\n",
       "7Sfw5dpvLs6698vSfcXhrffL4dmlHN2KynfgozPEAiqxwGhdzmBUlzNm5y+krnbbxtxNWEnlck8x\n",
       "2jjswPbPAYgfRvnVvT7SWLsXozPhW9DcthHPN8a7wLXHW/0fzjdG9tfxAe/f/J3MoRURvFNqRHMe\n",
       "51HdOAPoQDo7j3KdHwoPRLbq/D/PD5l8Rjd7e2v/AsBaUQixsYFTAAAAAElFTkSuQmCC\n",
       "\" style=\"display:inline;vertical-align:middle;\" /></a><br>"
      ],
      "text/plain": [
       "<IPython.core.display.HTML object>"
      ]
     },
     "metadata": {},
     "output_type": "display_data"
    }
   ],
   "source": [
    "mult_nat_pos_closure = \\\n",
    "    Forall(n, Forall(a_1_to_n, \n",
    "                     InSet(Mult(a_1_to_n), NaturalPos), \n",
    "                     domain=NaturalPos), \n",
    "           domain=Natural)"
   ]
  },
  {
   "cell_type": "code",
   "execution_count": 14,
   "metadata": {},
   "outputs": [
    {
     "data": {
      "text/html": [
       "<strong id=\"mult_int_closure_bin\"><a class=\"ProveItLink\" href=\"proofs/mult_int_closure_bin/thm_proof.ipynb\">mult_int_closure_bin</a> (conjecture without proof):<br></strong> <a class=\"ProveItLink\" href=\"../__pv_it/theorems/3f4e5b043071cdf87d36a7a74dc03869149aa50e0/theorem_expr.ipynb\"><img src=\"data:image/png;base64,iVBORw0KGgoAAAANSUhEUgAAAKkAAAAWBAMAAABJZ6G8AAAAMFBMVEX///+IiIgiIiIQEBB2dnbu\n",
       "7u5ERETMzMzc3NwyMjK6urpmZmaYmJiqqqpUVFQAAAB6qHgnAAAAAXRSTlMAQObYZgAAAAlwSFlz\n",
       "AAAOxAAADsQBlSsOGwAAAttJREFUOMutVU1oE1EQ/tJk87PZxghFPGgJodafkxaNCoLxUBGqssVa\n",
       "8NLG2q6KBwN6EMQ2VSgIWiJSEfQQEW89RBFELZgeLJSCxApaQTAVsT2ItKhYhIIz+95us/nTgwPf\n",
       "vnmT9+bN+2bmBfi7+CUqmCtJCv8k6yVKRA2XGN7v3d3TvAf3SC3w/EMtp/VxgWLpbKHPupKFa+YQ\n",
       "QBquHPCM57dreT0m4ZA7hIDutD2ngzx5YAToZ4YStbyOSThkmaBlnbZ5KIlOGqfEgXxAddkq4eD0\n",
       "J393iImrJ7qZRx3B5ByNbh0asRCoSWtawCGeCH/vihNu2Ez0+zj8ALlsiUa31/IajAtgeN+gbQzM\n",
       "NtL9Dpv61RV6+7yse6gCntCkllc+maHuwll7f/eIsgRMwpnq+vg4DxrdbBj+gmX23ZJKKNbWK3NR\n",
       "lxc4ksMje/9HHduAN6a+wk5A6PWUBa/uydj2z+y60cjUpTztMjB3RuAF0GSGyTufAj+AATMSojDa\n",
       "LNqFPClkWSDP4aJk7eSyS9IlcOkanF5jUH6bsfMdmqBSbd3nuWKXpZIYolumoHLFpJmMjvEDfO5i\n",
       "o86tQZK1ilEyoCxCWygq1yDV1rSpRyxjKDlPV6E42XKIekHZ5FviytvgynaaK7TrSbnWGzahLCOU\n",
       "nrEc/GKaMWHqqy3jRZUi+UR7OforlKxg1sdhe3NaetRc0e6xS7MgcBzTdvz4ijP0fSxyZPVQH3XU\n",
       "0FtZh6EkE+fiQnAng4VJwzDyiLfiqKyLiEBXw4VZK350tTFPWwSdXx6IbojdNE587yW+rOx3p7wv\n",
       "Keer4M6fN1e8y6FV/rZRovyBlYyq+0XHWnLZUtypgVG9A3X6BER7BKFaWZiSKO+6XPXnSBw39vog\n",
       "zuV9D8Pwn6T5q28Np63e8KYEymSoyl9HyQsoaO8wjEyxlQtSqfRWnqrstSQCVa+8bFCiRFxV/qDW\n",
       "Oqca/pf8AdwYp0aYVz0RAAAAAElFTkSuQmCC\n",
       "\" style=\"display:inline;vertical-align:middle;\" /></a><br>"
      ],
      "text/plain": [
       "<IPython.core.display.HTML object>"
      ]
     },
     "metadata": {},
     "output_type": "display_data"
    }
   ],
   "source": [
    "mult_int_closure_bin = Forall((a, b), InSet(Mult(a, b), Integer), domain=Integer)"
   ]
  },
  {
   "cell_type": "code",
   "execution_count": 15,
   "metadata": {},
   "outputs": [
    {
     "data": {
      "text/html": [
       "<strong id=\"mult_int_neg_from_left_neg\"><a class=\"ProveItLink\" href=\"proofs/mult_int_neg_from_left_neg/thm_proof.ipynb\">mult_int_neg_from_left_neg</a> (conjecture without proof):<br></strong> <a class=\"ProveItLink\" href=\"../__pv_it/theorems/5f92eeeae0340d266bff8a6c36a4582d7d4e9dac0/theorem_expr.ipynb\"><img src=\"data:image/png;base64,iVBORw0KGgoAAAANSUhEUgAAAOcAAAAZBAMAAAA4QiR6AAAAMFBMVEX///8AAAAAAAAAAAAAAAAA\n",
       "AAAAAAAAAAAAAAAAAAAAAAAAAAAAAAAAAAAAAAAAAAAv3aB7AAAAD3RSTlMAq1RmmUTNIjK7EInv\n",
       "3XZ/CtNrAAAACXBIWXMAAA7EAAAOxAGVKw4bAAADa0lEQVRIx7VWS2gTQRj+s5tkN69t9KBCQRZ8\n",
       "IBQkggiK1EgjVIsarOjBoqs9lBYPW722GIu3tjQKtqZWWY+10K5VUQJCRQSLiEUKghDYnuoL6UWF\n",
       "IuI/s5vZR0KwGzqQzcw3/+z3v3cAfA8+6+dUEOoa232dEvL1cEYV8lQrN9Ta55rrIY2k8CHJlRvn\n",
       "PWvu8p/u0kSqvExoAEky2eaDtI88mjzWTyygIik3KN3MgRK2l8h4hEy6fJC2MRc7RjiNjx5P6qRR\n",
       "j1kQCzjG8MwqwHW/wf1J3ucxChqIu/e6sYAKk1EHQyfqhi6OyWvnFFFhiHvRCxpBNXPxpVQinogC\n",
       "tAZytsxRrDZUNuzDUAmjBzu96AvqY9P+M1+ZgskbDpnv+HtXKr31QRpQrLgKjcsGQy/+2IiOo8kp\n",
       "2KGNaOMeb7QCjP8vU8xRMXkzPNChRlZZ9v7SZlTgaXqF7Xpt4g3HS0bQ1b0gJH30sDA59AF5XkFw\n",
       "gZXkKsQN4OaogC2ruOJ3LUtsjzmbaGD+yd00C0a3Nelvy/IvXaQJIvQaoRVI6NRIopQCDTqIK0Rg\n",
       "qISDJq0kPwXQ2MkZpOMMpoe4VMgm1Ni0LdBooVyyCMcqLUXSeJ6+BWCRaKLDBRlC1NJJJjpJSnKz\n",
       "bSnJZIV1wwwueRi4CkImk6Fd442Fcs1B0GOZ4ybqdO+MAYecZXpSA466O8HQLVip0RU7piTYsyTN\n",
       "ppqflftXOm0X498ljaLcwFlDd1kaIJ67j6QybOLKOdOQwxADbzq1nDxi+jSKL7hruQ91jn4Uf1sO\n",
       "4a/YhSx9ktIU5XLFHW5SifjwEaaEwS0yOJCKoMZBnS4usYLpAeGW3ZIOUskc6Y/iHLRTbNpZFyle\n",
       "aTdJg1LeRRoidTKM6m593vuZlUxjC3GsmZgPbpu50TE6X3g/r7OTh8uTeBab/z7syDLoRXjI4Fww\n",
       "SVEuF9UVV52SJIJErlph9Vv/5+6VlCrbnSyN1cgBbZBasCsFRZYYEJcHTUvhlFH5leHT1Uhban/8\n",
       "WSuJqyPtWoS4IxaEkBX0Kfzg7geK4n1I8rSQIfIYW/uFhGfvCbXsfgzCHZzt2fBt1IKHZPGEYaLD\n",
       "Xdbn3pG+sqsYHYlQ+76S8GxPFQquG55cFXXekQSjcmO5rjtSSKu53bQut0F+Xe69aMk/GPDPAc67\n",
       "5AgAAAAASUVORK5CYII=\n",
       "\" style=\"display:inline;vertical-align:middle;\" /></a><br>"
      ],
      "text/plain": [
       "<IPython.core.display.HTML object>"
      ]
     },
     "metadata": {},
     "output_type": "display_data"
    }
   ],
   "source": [
    "mult_int_neg_from_left_neg = Forall((a, b), InSet(Mult(a, b), IntegerNeg),\n",
    "                                    domains=(IntegerNeg, NaturalPos))"
   ]
  },
  {
   "cell_type": "code",
   "execution_count": 16,
   "metadata": {},
   "outputs": [
    {
     "data": {
      "text/html": [
       "<strong id=\"mult_int_neg_from_right_neg\"><a class=\"ProveItLink\" href=\"proofs/mult_int_neg_from_right_neg/thm_proof.ipynb\">mult_int_neg_from_right_neg</a> (conjecture without proof):<br></strong> <a class=\"ProveItLink\" href=\"../__pv_it/theorems/a00a3f1fe88a44ac57d9ecb0b0b04b22bf8855d90/theorem_expr.ipynb\"><img src=\"data:image/png;base64,iVBORw0KGgoAAAANSUhEUgAAAOcAAAAZBAMAAAA4QiR6AAAAMFBMVEX///8AAAAAAAAAAAAAAAAA\n",
       "AAAAAAAAAAAAAAAAAAAAAAAAAAAAAAAAAAAAAAAAAAAv3aB7AAAAD3RSTlMAq1RmmUTNIjK7EInv\n",
       "3XZ/CtNrAAAACXBIWXMAAA7EAAAOxAGVKw4bAAADgklEQVRIx7VWXUgUURQ+O7M/s7M/bj30Z8hC\n",
       "vyDEPoRBhK24gSbRolFQlmM+iNLDCr0ESltJL1luhtmYxfQoPjhZUQqBGUISkYQgBAsTBZaU7EsF\n",
       "0kPn3tm9szNrhrN4YWfn3nvO/c7fd+YC2B583I6WE4oaO21peVLFYIoSeSYKNxKr61UWA+qN4CMY\n",
       "Ltw4Z5lzF/60pYciuWlAAQiRlx02QDvJo9zi/dAsGhIxLwZvJ0FyG1NEPEJeWm2A1rEQ5w13FB/t\n",
       "ltKJoh1jIMg4BlBnGeCK3eT+JOdZnIISEu795jVHAobFPIQWtA1D7AuvHVNAg8FvXW1SyKqiT76l\n",
       "0yQSIkCNI2nI1CLb0Fi3DUeDmD3YbV19SWOs+39ykRkY6s6T+Y6/d+n0WxugDimbV0/pgsZWm5c2\n",
       "YuBocXqM1HqVQUs0agAGC8/0/ZcxKT090JjwLrPq/aWMJoCn5eU2+FrOa3mavRjqDvCEbHQrN1H6\n",
       "gDivwTnLKLkMfg24SSpgyEqm/F2OE999+U20qy7Ov2Kg13NVt/1+7VMTaICQYxoFMxBQqZPEVAlK\n",
       "VBAyRKAnjYOqB8PPABSmOYpwnMbsED7JcS40AUcZqIOcd2trP8zDxGKhpwjqT9FTAOaIJSo0hcFF\n",
       "PR1mosOEkpsNT0klS6wbxnDKVTpB9cWOxWjX8OOKE7MOEWFPBC7GYrG4JbyjGhzOp+lxBTga7gBb\n",
       "3YJMFTNGTkmyx0iZjVQ+1/sXd/WUpjJPe5e2wWc9yZYsO0jkHiJoGDZxuZopSWKKgdeDmiseIXoC\n",
       "xWfNXO5Em8V54bceEC45scsA/aF8yTaTA3stPCUxfIwloXFzzB5HxIupdqp0cp4Rph08fUZLOkQl\n",
       "SQijwiQ06KDOYIqB3oEKF6W6qKlmUBfhyU3cKHvR8ZVRprSaBFZPwaN+vXga787I72cM9arciz+O\n",
       "zb8CO3KYS4qqxHj6Bqr4NlnuA59PERUT6jQ5PrkSm7qy/2cepKUVtltYGSe8B5UbuqdQb1A5A1MC\n",
       "tbH+GviUgq8MH10JtHr1jz9rJf5Eb4PiVfSbTzDbLEQVPmJR0H6lRuGsWbmHPAbWfiHhWStyVe97\n",
       "Ap57JE2t2Q87lt0UdC8BXMIY8hvKxpst5Rs2kTGvQa5+XwlYtkdk2XTD43SHx+X+f92RPFrhxkJx\n",
       "d6TTq+6Wr89tMLIe914snL8Y8tI6/Y16UwAAAABJRU5ErkJggg==\n",
       "\" style=\"display:inline;vertical-align:middle;\" /></a><br>"
      ],
      "text/plain": [
       "<IPython.core.display.HTML object>"
      ]
     },
     "metadata": {},
     "output_type": "display_data"
    }
   ],
   "source": [
    "mult_int_neg_from_right_neg = Forall((a, b), InSet(Mult(a, b), IntegerNeg),\n",
    "                                     domains=(NaturalPos, IntegerNeg))"
   ]
  },
  {
   "cell_type": "code",
   "execution_count": 17,
   "metadata": {},
   "outputs": [
    {
     "data": {
      "text/html": [
       "<strong id=\"mult_int_nonpos_from_left_nonpos\"><a class=\"ProveItLink\" href=\"proofs/mult_int_nonpos_from_left_nonpos/thm_proof.ipynb\">mult_int_nonpos_from_left_nonpos</a> (conjecture without proof):<br></strong> <a class=\"ProveItLink\" href=\"../__pv_it/theorems/f74142ef57287b2f74a89797d9d7d50f340f13b00/theorem_expr.ipynb\"><img src=\"data:image/png;base64,iVBORw0KGgoAAAANSUhEUgAAAOsAAAAaBAMAAACk6rZaAAAAMFBMVEX///8AAAAAAAAAAAAAAAAA\n",
       "AAAAAAAAAAAAAAAAAAAAAAAAAAAAAAAAAAAAAAAAAAAv3aB7AAAAD3RSTlMAq1RmmUTNIjK7EInv\n",
       "3XZ/CtNrAAAACXBIWXMAAA7EAAAOxAGVKw4bAAAD4UlEQVRIx71WbYhMURh+5t47M3fufOwgn1u6\n",
       "haItjZIirdHuZlEMq7QSIz82ku4iv1hD/iGLwvjq/lJry0w+whQtEkuyP3zX1OUPRdv+QW2S95w7\n",
       "c9y57tqdJbfunTPve855v57nPQf4f490CuE7+b/bQ05VbfUCUI9WKH9jdnrVfp6gzyPUGMHO0VvV\n",
       "0vQJeiiMIRbEjrMFg4joFPKon1CCPu89FBvcqd32fUvxXEK9x/6og4gmEDWBOPs7rWqze9iOLnho\n",
       "5/ooqoQrymMZpAPArIJtNmIhRjabmK6tarPL6b3oFgaS9NlaKVOS5MkVGrQWeJJrdGiDwH6W8uqL\n",
       "/IXeBreQtgTmVsp8Bro0vv/+JTakgM3kISU6rFdrlbIF9LilG2kvREw7ueeLL3nmgWZfhovap6Af\n",
       "q2iwlHBNtQhUHWyMqiil3dLbPNO8uP7tpnAxflCgPHxnGf1+pvdpsfikarM+MqkwRAVrP1hCuql/\n",
       "LKWOg3S3+Qv05hmPrDQDZzyZ+Uf+dJbCWm+EBsWKr2bOgJx2gbROtlyrj1LS2xGMezWVSeiYPRT3\n",
       "EaAlUUKEdh9Kn6Aop4fES+4oAKMP1Cw9p0qSfSmWg7Czvfp6r50lHnQ3MyqwxeqWkmbv8pR8tzSO\n",
       "0pQILVMGEGW5zrGZSho1eagDbBGVrvjGhoF+HTArnM7RSskSiFLfZVNRI3zZxK4bFEkPHjNpbUkj\n",
       "xQtY5oiWmY108j24G8yBjTr8LFrtFyW7GD0nVpjdx5CdFj2ykf7KOLATwRcMLX14Dd6+bY1UryDv\n",
       "SnLOwiInbVeakHjSReYxiZirDVTWlhXvCusr3fU3yn0tSZ7L43m0D1mgP96ZXCMdWGuVzfooghAh\n",
       "JadjglRGQE2GSg2ZB9ovMphcQ9P7fuf3HvJce6V+Q5eNpR0sBdI4BgtWsdjbWJJrpExhRtlsrMdm\n",
       "SsiSnovz05cIJUu8QkAX9NmK4PHKNriQz86wzqn2oIXLLodtL5vQMc3gZ42cbrHNKrHycj+xRqUQ\n",
       "tKk32z8KAtWydhnlANUmr7OF60/2Zp/1Vh4ai8uDSIqOhXmEcR35Ai4550QySpxrpIyWF7x4QO9r\n",
       "T27tLTl2y26OXs9mAWkjtMA8xKfPTKAQbGxsbCpXjE7mQ3a0WG05T6C5nns2DH9FEA0mYhxtMUOs\n",
       "0mEFfgcAuulQng+uodtTTDSWwyz9Xt1kBKeZLHbxN8y+iuBpGs0Z8+mko2sd1tUVlq050la6FHBA\n",
       "6BXkdLRNY1izUdeU7mz2t/ug7q3hd6kOjz0/DH+OjOAu5TeHUNSN+ho2kkuF/O/uyeKaQ5H8BNrx\n",
       "68cOIrBlAAAAAElFTkSuQmCC\n",
       "\" style=\"display:inline;vertical-align:middle;\" /></a><br>"
      ],
      "text/plain": [
       "<IPython.core.display.HTML object>"
      ]
     },
     "metadata": {},
     "output_type": "display_data"
    }
   ],
   "source": [
    "mult_int_nonpos_from_left_nonpos = Forall((a, b), InSet(Mult(a, b), IntegerNonPos),\n",
    "                                          domains=(IntegerNonPos, Natural))"
   ]
  },
  {
   "cell_type": "code",
   "execution_count": 18,
   "metadata": {},
   "outputs": [
    {
     "data": {
      "text/html": [
       "<strong id=\"mult_int_nonpos_from_right_nonpos\"><a class=\"ProveItLink\" href=\"proofs/mult_int_nonpos_from_right_nonpos/thm_proof.ipynb\">mult_int_nonpos_from_right_nonpos</a> (conjecture without proof):<br></strong> <a class=\"ProveItLink\" href=\"../__pv_it/theorems/4cca60b2485843ce1f10ab2cf677a9c2c21d745b0/theorem_expr.ipynb\"><img src=\"data:image/png;base64,iVBORw0KGgoAAAANSUhEUgAAAOsAAAAaBAMAAACk6rZaAAAAMFBMVEX///8AAAAAAAAAAAAAAAAA\n",
       "AAAAAAAAAAAAAAAAAAAAAAAAAAAAAAAAAAAAAAAAAAAv3aB7AAAAD3RSTlMAq1RmmUTNIjK7EInv\n",
       "3XZ/CtNrAAAACXBIWXMAAA7EAAAOxAGVKw4bAAAD7klEQVRIx71WWWgTURQ9mUw6k8nS6Ic7MqKi\n",
       "UpARSgWRGmnF1n4YFxCLS0o/pCKSggiC1ajFH5fWikvcmC+hVGhwQRtQakVQROyHuEEgVqEiWvqj\n",
       "QvHD+94kz2Q6tk1FB2a7M+/ed889574H/L9DugDfg+Tf+XBHio56DajEVsh/E3ZB0fM8S5cnKI0p\n",
       "7ZOPqkXpojh8iP1hQLCDDRiBX6eUJ314DboMOHzYYYd2z8+m9BVD7WMv6ggCBgImEGKv84sOe5B5\n",
       "tNFDu9JPWRm2LM/EES0BlqSssP4MghRzDfu2q+iwdXRetxtLwnTZXWiTwzSTm/SwNcVBLtWhjQBH\n",
       "GOTFF/kbnVV2I7kEygttrhg6Ne7/yFqLUkAjzZCA9unFRiW0gF67dSf5gt+0wL2afsWRB2pccW5q\n",
       "noUhbKCHWuI11aKk6GSDVEUparfe50jz4nr2mmKKoVbBct+DdXT/QufzdPpZ0WFdFFJmjFJmD2aE\n",
       "tWFoKkHHSbrf/E1685IDKjXApQmFMvP1055Na1vMOyKY/N3sjsEdtZG0zJ2xeWoj0JuhhCYSdVlc\n",
       "GRgUnKUhAWKE9ghyv5Aol4fES55XACYfqAk6LmQthyMMA19+e22pi7gf0v14jt1zLtfeJv+348Q+\n",
       "QYIAScVPw+RhBBjW3SyMHEVpEuowi0KlS7+1aKDfKUSK/qaRUkY4U98nIlIoBVZ2F/N2euY5vEbq\n",
       "M5Q64v2NHEutbFlYfzv3wafBJrBTh4dlq/2WZCeT5/SCsIcZs6OiR1bTq1Qpg0X007NMdYehLjLQ\n",
       "wny3IBC3gdydwap82a43IXHQBfKYQcrVhgtryxr3TdZXuirvWn1NOrolw8K2Dc3CB6vPsJVqWYRn\n",
       "m2v0LsrAS0zp1jFNyhlL41RquHmiQwLB8Gb6vX+0vg/SzLXX6g90cl7EUwtZ2K/mxyxSyxez6zyD\n",
       "5C3KEey1lOLNSC/F+ukyvOGsrlCiC/nshtJR2AZX8r8ZnGG1F5ussHKQ/XQWFR4ufC1jdfzWiDKw\n",
       "PDfQQ6pRKQVt7r3mT0JAs1m7DHCCajPrLeO2808TL54WLhqrcw/+CC0LFcRxXYpryShfkFe7mxKJ\n",
       "Dvh8pmaOktNjOt84Cq0lO7Eeqzk6HY2C0jHvCvOElS02MnkPo0/lc9x4DD5zX3V1dcS+ApU7+qwa\n",
       "f4sgGow/1rbJ9JrWHikY0pJ4R9Tg3SsZxvbRQ0+ysjntJCawmrlFe/JULb0F5SI9naK2FqK9QCtx\n",
       "8QBV3T1lbk+DQ1PWC8SZ1zZj44YN2H7pSiSySEoWGj2Jc2PtpQ45fBgcv83+eS9VP+7Ysklvw8Yo\n",
       "g/EP9slim0MU+gXqce/SZXQ06QAAAABJRU5ErkJggg==\n",
       "\" style=\"display:inline;vertical-align:middle;\" /></a><br>"
      ],
      "text/plain": [
       "<IPython.core.display.HTML object>"
      ]
     },
     "metadata": {},
     "output_type": "display_data"
    }
   ],
   "source": [
    "mult_int_nonpos_from_right_nonpos = Forall((a, b), InSet(Mult(a, b), IntegerNonPos),\n",
    "                                           domains=(Natural, IntegerNonPos))"
   ]
  },
  {
   "cell_type": "code",
   "execution_count": 19,
   "metadata": {},
   "outputs": [
    {
     "data": {
      "text/html": [
       "<strong id=\"mult_int_closure\"><a class=\"ProveItLink\" href=\"proofs/mult_int_closure/thm_proof.ipynb\">mult_int_closure</a> (conjecture without proof):<br></strong> <a class=\"ProveItLink\" href=\"../__pv_it/theorems/34b9bef747bc8d4e40e45cee54af43d51640e71c0/theorem_expr.ipynb\"><img src=\"data:image/png;base64,iVBORw0KGgoAAAANSUhEUgAAAYsAAAAWBAMAAADDQa2RAAAAMFBMVEX///+IiIgiIiIQEBB2dnbu\n",
       "7u5ERETMzMzc3NwyMjK6urpmZmaYmJiqqqpUVFQAAAB6qHgnAAAAAXRSTlMAQObYZgAAAAlwSFlz\n",
       "AAAOxAAADsQBlSsOGwAABMZJREFUWMPFV29oG2UYf5Lc5S53SZZpmRPnKNmYziIM0VqlagZ2yuzk\n",
       "qlk/6RLnes6imK6Cgmy9qSsOtUZE8YNgZfrJIkEcg7Vghkzp6p+kDmNFJBVZ55cRleEcSH3e97m7\n",
       "vMl6zcoNfOB577n37v3ze5+/L8AyFEjmwDdZNvsk1Xv6VtuUxv0vHygR+yUt0dQxd88duzd1wwe0\n",
       "zyrr+tkLRpw9YkUfy5+22Teta3pfswARyEOgyGEcZ13vesHQmT4iPmxCzhP7p4jR+D6JyCRU89sc\n",
       "xgFmd1kvGApT1qiPxfUisX+KFhrfz4Kc7cfnDIfBQEolT99ArLDDx+Ihm68A3WY72+7kZvY0QM8t\n",
       "sNkNts8oHlXE28W/xocfm5iz+QrQe+Tqb7rGdUBhCooUeSi6JZm81RtGKJnckPKx9mc2q7+tbQo1\n",
       "Y1sPXkaYFYY9yNvDdRcZCDNZqnIYx/DdG4aeg7Dh8wgZH7HC5xsDaBc803picdg0NEajWOoE95k8\n",
       "hzEGalXE37Edvqi6MPDb2Eq3Hu98YI/jjzcTy92gt4M8Xf/p4SJ8CvK955aFQsNs+p63dQuPkBzb\n",
       "wmGEjXqWGzozCL9Ihm7U098AbF8JBGW9OR60pD5nd3cS6zUIpmDoKt6XYct/DrARdNql/M+lE/Gf\n",
       "aJhNI3x+9IHkJv5+PW5Pxp4a32cs4Xq4foylwkRBErJ4eWUePol1QRT2vwaNMEJZyOBks7wvyFTV\n",
       "CfJFWDWu/s16Oi6diP9kD7MNjOvHzQ1yFhNB3AKNtAF5NLHo1NB1dqKs/HRQhBGJoo/JvW1OChTE\n",
       "OqVP3G9HQ0oRBTfG20aVScB34MDg0/wB0RpEDYLhRTRs5qvVBXewa2Px3Fn8AdXQTjB2YG545Egx\n",
       "ZBHSivTohwIMaQ7t4yFrxNm7INb3dKNygaR+ylSvu7XaY8SZEvwes0QY/0I8/yNO374sDDbs0Klu\n",
       "6MKXL3nXaufbCxpi+xUXyxKMl9ChD10LqwyNH2UFCmsEGOrdPPEPYzI3wBa18vHGVF1QtpA0wds+\n",
       "CcQoiRxOxDp0URuIbZbpbJ/r4txBeJNxzZgPU/vycN6O22gdTqoewMQ9+gMuniIYcXZ082h60XdM\n",
       "82mEkY6IFe4Ct+71oMwaYIshpkwxVY8H7Ng2bZpmCVI9sNP+tI9Ynr9v7JoGGLvanp/PgSrE+g6n\n",
       "CbomScPiCY2d0k3UdeYjCtidb5mP/7UH/x4XKvHbYVJRUqQNrdxUqMsX4KmdEDQcUWXKEXVvhU8a\n",
       "MxNYyD7LV6gUocfx1Bwx0Wyz1bwKr1xGQZPTC4jYNj9tGxUjDr0oXCjUGtxQoTR4CvC8m+4bXcrF\n",
       "kwyGnCIRBpmYpiYNIWtkwihng0CpUtJBaxcKunpR1wxDfeK5o61hvAHB/TnPAnNK2KdWhbYijOKx\n",
       "KZstiDfD+Pgb/IowlLtIxNyO4rCldGEzXNKmyr1om4fZvvDvb8+1Pelm1L02M3r5/a1N57y4WGsN\n",
       "4xMI9HrW2aw6b7reydvMQe/bHzOqGIk9AVdEIqcLwjq02rRpNs7Z78Yvn7R36e6w1fKWKomXXOVq\n",
       "LNjJvSKLfzoi0yQFm11weim1qwli35dhj7vbWvy0YaWX7eISYhT+f/oP2SQ/rVgAIUUAAAAASUVO\n",
       "RK5CYII=\n",
       "\" style=\"display:inline;vertical-align:middle;\" /></a><br>"
      ],
      "text/plain": [
       "<IPython.core.display.HTML object>"
      ]
     },
     "metadata": {},
     "output_type": "display_data"
    }
   ],
   "source": [
    "mult_int_closure = \\\n",
    "    Forall(n, Forall(a_1_to_n, InSet(Mult(a_1_to_n), Integer), \n",
    "                     domain=Integer), \n",
    "           domain=Natural)"
   ]
  },
  {
   "cell_type": "code",
   "execution_count": 20,
   "metadata": {},
   "outputs": [
    {
     "data": {
      "text/html": [
       "<strong id=\"mult_int_nonzero_closure_bin\"><a class=\"ProveItLink\" href=\"proofs/mult_int_nonzero_closure_bin/thm_proof.ipynb\">mult_int_nonzero_closure_bin</a> (conjecture without proof):<br></strong> <a class=\"ProveItLink\" href=\"../__pv_it/theorems/14c3a93a9e369a577b986e16b92bbfb8d5742d6b0/theorem_expr.ipynb\"><img src=\"data:image/png;base64,iVBORw0KGgoAAAANSUhEUgAAANUAAAAbCAMAAADcfDp1AAAARVBMVEX///82NjYbGxsSEhJKSko9\n",
       "PT0oKChfX1+IiIgiIiIQEBB2dnbu7u5ERETMzMzc3NwyMjK6urpmZmaYmJiqqqpUVFQAAABvRl5h\n",
       "AAAAAXRSTlMAQObYZgAAAAlwSFlzAAAOxAAADsQBlSsOGwAAA5pJREFUWMPdWIdy2zAMVTf3AMf/\n",
       "f2oBLk1LSqv4ruU5DuPIIgG8AWqa/vmhpv9wSF/eJZPvWS/4NyxiU1mKTZPXOIHPXi/CO1KXLL0L\n",
       "g28Zp1Z/MtzdSOfNrP/JKr7gzmYil4itap84dGgTFm9u8Go/0YksnOZcC7w3aBrf8CdMpkTFy4qc\n",
       "pmn+UngU76Lf9oLFSgvewr/YANOJgObKa/WVGpUoaWEUEQxKO/tkVCC3QHw5XCegOxdpgBaIjCMj\n",
       "LYUlqlw+VjQ3vVgP8yy3bME1AnLfZIBrYcBAaiyEwK9fdEHgrBaUm7BIkIxPBlUxQbC45lMeJRJq\n",
       "jTiOw63tFsxUcFgWGfRhpOztL6CgQ0ume7RUjHeGX9son7G4KKx37ACQGIgZFdXzBejC0P5iJZGC\n",
       "MsLFs9ac3JpeZJeS2SOZc4mxVIEiZ+2yxyTDQEYskZ3UHswm7kd0XW+y7wWiXuf9Kirj/lXlRJgr\n",
       "e6xdKKizIblX4De957Dpj5yWKmFZZHZfgPqbN7YqspgJ+MFGF6ocZxYeb3mp6vFFQ2arUFGZ5MEl\n",
       "xm1lMQktAV9Da7se7/bA2zWiS2Eun8q5QOMeZZZlTfNYu/ICx3IPaOh1o2fAUjUqwudhalLfhGFJ\n",
       "a7yWY02kGiwu7asSO/Fa1KpHJfS83jLqFqmv6u7FtHGijWF3/0kn3mqzaXU97p6E6fbXJogiEy1h\n",
       "SQLAr5+AHm4JVdycI1BlWiDkV24FlXBxRig/yrJp4ah8aiq2WVUXHCUDk3b8G8VJbToZmNb4a7Xa\n",
       "5i61XGvWoopVGOMuyZTZyjoMe64Q2+cZJd3XNRO/4X9WtMwqhFgPlTxHTQzWYAg2lrJgrX58B6pV\n",
       "Ae8OwKxhqWs1RRc5HJx/EgakYesDeMt4oOol+1bHsz4oiLm0o9MyYtl1o9b6RakUmwbh+wZRA4N9\n",
       "lTDTsqoSk8YmZvZkSXJ0VdwvP9d+xVYvtBPYIGHjrs/MFbZyTtxmaUkrvCS40vNryp1EscAFi82d\n",
       "G1yXCW4+0OfzzdlJrzqmm8OFrSaSUwbV9pvrSczMifHRFKlQ18f3DqbwgRMxPHEWUjunF0QrH1S1\n",
       "V6RVoe/cdsjCC8/vtLcdyPr2AeeZU0PY9RMeQmSS9JtOywaqEFndhT0lpId2t/qQFE+c57jLeuSA\n",
       "x8/uEleNEfHqg0+MxnHR3nySwB4J6vS5hf/7Zje+6QHdB1D8BG/f8jxwKzilGr8B+x4vERHVxaQA\n",
       "AAAASUVORK5CYII=\n",
       "\" style=\"display:inline;vertical-align:middle;\" /></a><br>"
      ],
      "text/plain": [
       "<IPython.core.display.HTML object>"
      ]
     },
     "metadata": {},
     "output_type": "display_data"
    }
   ],
   "source": [
    "mult_int_nonzero_closure_bin = Forall((a, b), InSet(Mult(a, b), IntegerNonZero), \n",
    "                                      domain=IntegerNonZero)"
   ]
  },
  {
   "cell_type": "code",
   "execution_count": 21,
   "metadata": {},
   "outputs": [
    {
     "data": {
      "text/html": [
       "<strong id=\"mult_int_nonzero_closure\"><a class=\"ProveItLink\" href=\"proofs/mult_int_nonzero_closure/thm_proof.ipynb\">mult_int_nonzero_closure</a> (conjecture without proof):<br></strong> <a class=\"ProveItLink\" href=\"../__pv_it/theorems/622f739b613ef0d4489b551257badb526aeacb930/theorem_expr.ipynb\"><img src=\"data:image/png;base64,iVBORw0KGgoAAAANSUhEUgAAAboAAAAbCAMAAAA9HrpIAAAARVBMVEX///82NjYbGxsSEhJKSko9\n",
       "PT0oKChfX1+IiIgiIiIQEBB2dnbu7u5ERETMzMzc3NwyMjK6urpmZmaYmJiqqqpUVFQAAABvRl5h\n",
       "AAAAAXRSTlMAQObYZgAAAAlwSFlzAAAOxAAADsQBlSsOGwAABXNJREFUaN7tWoeSpSoQdV9acsb/\n",
       "/9RHlEZRb/DWureWmrEcpsGmT2edpj/j1oP9EcFvOqhOV4ropdt6jLG865mt/gbkpE9nQdOkebgx\n",
       "ZRoFybt39lU3PrMzX2F0PpkGEeEyh1vJm2raL4WOLbzdxC28xoZOblLOMeARV+zvy6Hj9WDI3YMh\n",
       "jU79hCIzURxjTgLzhsfxd/i1k0jQ4XQkzBp0vq21L0D3xvJP6jipTNG7sITOxIO4F1moarUmQ0cS\n",
       "+Mg36MwSzpV8Abo3ln9wGLr2m79+qJM035iCFq2OgpXIlh3mnKbZzBboRIURhMAnoHtj+QfHXBTK\n",
       "3MgTWPNARhLQyoBFh/nXD54cZktTotBti3VVG6h7Bbo3ln9uiKqa5E7xl7CVgwwZPlZ97W3ElNzm\n",
       "BK1iQrE4KH8Z3qCrqcrzvkXBTOdOOQvCNfLfCToFXYBWaOBAA1piMU7eCEJJbspfiIAMk0T0MaGv\n",
       "Qff68g9WQ6oPeaGypUiis+r3nObROnq4E/WAZBz5AloLYG7Miy4eJUFnxArj56B7efkHSwPe67km\n",
       "IU7w+ZDFR2gerAN2drLAB4xzupAPt8JN7QUD0aBLzRbpd3UIm9hIs8SPoTtZ/sGyO9qURA5txKAK\n",
       "N6VZxEjS0ORFmR2LBNAwSr1/HUL4tB4YclYSw8LA7TTyZEnBcqCKFkO3lAJ5zsO08xMNFIbtlOQ7\n",
       "y693g4RTE36WbLpmSRs54EJDMldmTpM0nQkBmbJ5WQpoDJQ8IDkGbKEDO63tpd3mKBMGzMuRK3Jk\n",
       "hw+C0EWvqgZ1hqi1NorHoXvdlPHyC/PFokKx1U3ZEt1Tf5mRberWrK5ARzg4ssMDjDuaeJGz2JAc\n",
       "j4Wue1rvSJv8R5VUmCwVlj8okSV0mFHwxcVaY4Nemr76d8LpEHV3oWvLP1NeVxUKDAknI1vUGPPz\n",
       "P2N08OZRauLQYbI5cmeLzjs81uVGYxmE7ml/CXdq4lw9ecREqAoyZmw+LHwkhI66nPAwq6OjjmEW\n",
       "6IUTQdmd3oeuLo9hwiIqt0FpNDsOXxvKroFkpt5dFqtb7+0L8xxlSbicdTp5AB2kCUfCL4e6thMQ\n",
       "ZxI2MDW01fVQFeh8KH/08C7DjC2/rKaSoQhH/Ke2ELogKMR3oavLJxZ8WtUKcJjh7PDYW8rOtVjp\n",
       "kjEEq/v3HxOtLvGw8da19inpeETQ4QL7GLqeZhKYHYSz7c14JyDOrlRJsnODwiBZgOTuqDFlYV2X\n",
       "bbXcoOKTrUqta+4ydCGbU7vQLctjG06Q3BZjXXMuzWqHjD5r44m+AwJUaGLNa7NqfSHDtHJPM0WG\n",
       "iXlEhfRIHEDX0chxqbOEs+3Nzk6LOBOx7qi4Zn0k5IoEgZM5ZGNHMvI9dK1ZI5IAxSRoZ3VR7PvQ\n",
       "Lat1aW0LB9R2mSUnbrxRwmJoUaGAW8x0WdzZHCfvJT/ZRsFd6LpMIAAiL2mmL+JMRdZKvyjvGmFP\n",
       "9mTW0Mk5nTeC1RQvfyqA/Cl0LPo6bpNsG3RtVm5sam+9Ndrm9zVAhbQTKUdh518vVN80aPmeQye5\n",
       "EMJc0WIA4ryqFQ7fHPSaEPFB1OYDlPCJc+nvH7C6GKq0bdClqhnMTlzX2dFloXQxsuJVJ4+mQKQf\n",
       "SSAWDeEr45FUzfQkHSZzHFfIGYjzqjcrFryvO8j2oqPSp40wyKqxrnCaoRPxrTyYzXl+mhVE9peO\n",
       "MkRPqaoNVKZ9iCJcPdS38e6ggPo1zblrXmcu33F97gOH6jC7RCr4OrSdnQaUOFYFmj2mQiO9W7Jf\n",
       "dA/k0DXIff7bFIFIfn/XZVEq+CG8ma0Wy7r8K/Zi32HO3elNxmXjui/Czr/DtA/PXv0++zu+w1yn\n",
       "X/WlHcbE/g/LF1JVC9lRjgAAAABJRU5ErkJggg==\n",
       "\" style=\"display:inline;vertical-align:middle;\" /></a><br>"
      ],
      "text/plain": [
       "<IPython.core.display.HTML object>"
      ]
     },
     "metadata": {},
     "output_type": "display_data"
    }
   ],
   "source": [
    "mult_int_nonzero_closure = \\\n",
    "    Forall(n, Forall(a_1_to_n, InSet(Mult(a_1_to_n), IntegerNonZero), \n",
    "                     domain=IntegerNonZero), \n",
    "           domain=Natural)"
   ]
  },
  {
   "cell_type": "code",
   "execution_count": 22,
   "metadata": {},
   "outputs": [
    {
     "data": {
      "text/html": [
       "<strong id=\"mult_rational_closure_bin\"><a class=\"ProveItLink\" href=\"proofs/mult_rational_closure_bin/thm_proof.ipynb\">mult_rational_closure_bin</a> (conjecture without proof):<br></strong> <a class=\"ProveItLink\" href=\"../__pv_it/theorems/f676743fe2b513baef34c290fb6ad124098696b40/theorem_expr.ipynb\"><img src=\"data:image/png;base64,iVBORw0KGgoAAAANSUhEUgAAAK0AAAAWBAMAAABAjAHGAAAAMFBMVEX///+IiIgiIiIQEBB2dnbu\n",
       "7u5ERETMzMzc3NwyMjK6urpmZmaYmJiqqqpUVFQAAAB6qHgnAAAAAXRSTlMAQObYZgAAAAlwSFlz\n",
       "AAAOxAAADsQBlSsOGwAAAvtJREFUOMulVV1IFFEU/sbd2Z/ZWZughx5qkcV+fSmp7HGDMKGSgUTo\n",
       "RbfALTBoJaGIyNUg6CHZCKMoYqOil31YI4hMcIU0xITNXnwwUhAf+kOhyAqhc+bOjDO7uggd+M7e\n",
       "e7h77r3f+c4dYB0WMLFKeFVLYX221USRKVpxRK5PtFPSRzSc4fl02bThmIDTmmvJbSleGalDzxwg\n",
       "5YEBnt8tm/ekCZfdJwR1d8z7Jg9lIA70AVeZqHjZvIMmXLZMUHPuWGeQXHwYGBd7egtl8+4x4eL2\n",
       "J/v9YiKdju7i37YWckcouUeHSlwEy9ObFnBfuYr9A7HHLcGHHO8g/zGURJCS1kaj+8rmDcUE0Huo\n",
       "2w4GZyN0yUZjfMOk2R/Lks+qBXhJDS/p/GXz8uYM5SDO24Vq7ZOXgDE4q65oE+Q7wnmodL1eBGas\n",
       "1f471qip/bul7oqCwIk8ntubfdKxF/hgjC2OAjHWa1bKIEzl8OnejL18jpNHEpnAYXgnzJgnIzAE\n",
       "VDOLvzn4CvgBdBmHISaj23lk8qvDv0Al0RxlqyO8TlJZbkJ+l3LnPQD5D89r2FVDIaU9FuWy/t3W\n",
       "a+pBYfmkh/neww289WJE52bBxSlA01w8yItQFxzyDZHSJo1xlRV8YuiX7hnm0HHqDnmnf4mFuE3K\n",
       "NfOKkfxKXp9mQF5GZXrKSvGL6caoMd5oK4f77TMdX+UrXKOyhXJ+Provr6ZZK0ZOzXwSWDSMU5jM\n",
       "2Q32Fe3kXwjB2G3VSO/DF1OaqEwyfxKLwpMMzYwlEonCMwcP/iqBlk2XZpNWhpajTNdu0Q/zTy1F\n",
       "DN37y0sqLCW0pnwjpM0N8BQ6jTM66oYdJkofYJNZpV70MZ+Ri4Uea4Un1ZXVm1Chj5LuDK3Baz+e\n",
       "4yZKOzFfEpqVvl12vFLK4PtjuFDw92sInDH6ouahfWdfSqDErq/ymMzfPlfyPgr+mxIJoqfhyspX\n",
       "IO4UqcPOrtH5RYdQnM90aLrfbsNuE0UmrfUd2+yeqq5Zx1v8h/0Da7y530GwFpwAAAAASUVORK5C\n",
       "YII=\n",
       "\" style=\"display:inline;vertical-align:middle;\" /></a><br>"
      ],
      "text/plain": [
       "<IPython.core.display.HTML object>"
      ]
     },
     "metadata": {},
     "output_type": "display_data"
    }
   ],
   "source": [
    "mult_rational_closure_bin = Forall((a, b), InSet(Mult(a, b), Rational), \n",
    "                                   domain=Rational)"
   ]
  },
  {
   "cell_type": "code",
   "execution_count": 23,
   "metadata": {},
   "outputs": [
    {
     "data": {
      "text/html": [
       "<strong id=\"mult_rational_closure\"><a class=\"ProveItLink\" href=\"proofs/mult_rational_closure/thm_proof.ipynb\">mult_rational_closure</a> (conjecture without proof):<br></strong> <a class=\"ProveItLink\" href=\"../__pv_it/theorems/9eceba9c6075c7dbb2143be9392beee974505f230/theorem_expr.ipynb\"><img src=\"data:image/png;base64,iVBORw0KGgoAAAANSUhEUgAAAY8AAAAWBAMAAADKqg3rAAAAMFBMVEX///+IiIgiIiIQEBB2dnbu\n",
       "7u5ERETMzMzc3NwyMjK6urpmZmaYmJiqqqpUVFQAAAB6qHgnAAAAAXRSTlMAQObYZgAAAAlwSFlz\n",
       "AAAOxAAADsQBlSsOGwAABPNJREFUWMO9V39oG3UUf8nlcpfLXRa0zql1lEyYWoQi6oqoZKLbGK0c\n",
       "WgdCbaLQOurEZBUUQXubcypCCMhEQTHS7g8xfwRRhl11KTpx1mFSC3WiksDY/IESBXFOpL73/d5d\n",
       "7kKuoVzwQd69+9433+/7vO/79QVYgwKJDPgmmZjRpXXakdFZ0VDB//5wNVmk4n8dJd46Iu6YeBRR\n",
       "vM01rdHQd15AYvTQyj7215LIlrtgEOhtHdi8DQ6eRSuVGZA5GnrNC0iUziTixzEeINPluwEkordo\n",
       "92kZlLk0wBEG5Flyv7QXEIkO7LCf7efxFy13A4hacr8/EUGWXgBYZEAIZ6jiGSOIFob9bD+APwG6\n",
       "Qjfzx8ZEgp3w+BiynYhG0ElTFa0V8Q72L/HhxzE0+vOZ7gB5g/F3LjNDPZ1F/n00A5EyS0s3JhI3\n",
       "eQMREoktSR+bR+nP75P7nt3UknZy2w90/r9z0j0sCx8x36RkEXlRrUCoxoAcw0PyBoKAw7qfCC2b\n",
       "ppwxwn+60+kgPN5xZdekU+DMPEr8NPIsplQ1z4DkQK45607/bvikZgPBb7l1ay/u+PhHUwxS+N2A\n",
       "Q7dBtA/EU81J95XhPRDv+m1NMGySRV8zILaiSSoaxUABtAEGJKw361723CT8ENKjerMgjsPudYGg\n",
       "JQ4lYcjMHwKtfSu6WAOCSchewnD+TfwEwDUQJXjWiJtSeWuSRdPEphJILMuaMaKD1GCaanEbZPQY\n",
       "Fcd4KeSo7NX1xTpbYlcFRj93AxHSkEJxiQ32E7sFxIuwoSD/ZY+4KViyJlk0Q2yP/TqeM7OWwk8E\n",
       "8piK1fnsVWbtXPn2gBNIRMUYFYd6LNd0iE0aWdjlKL/SMwYEAm7XSsXhK7CAsHV+B7UBqs6BePko\n",
       "n8SUM/8ctD/OsjqCgaL1cSDDmAdGZ8qCIbITWwk9OOsAEjqDfnavMW1p7xCb+10rXbByIlWuUbCB\n",
       "hClVPYRAKvCTZjiB/Aux/De4ft9aQNgkphy+fcYaWTv3Ramy/4wbqmkO5DkM7eevgA26wgrwCpQ2\n",
       "OoDId6BwHKawwLPIIVGpzrn9qSQNmKmEliAQAfNUQzWeN8NxrT/qPBFEt1RC79lvBzsLFBYZqbxr\n",
       "ElPOzOIAbzbTMfZav/AUz4DEqAWuoweqr05MPIZARiLO7vc8c/LNIC2xLUkUIOUCIhQCZp5jSygO\n",
       "15LI4PtRy/rO3OUuIGM9T9UzIDtSf78VGcGSe1Kdh8f1fGjSgi6feP0f0j1YcPTp2+C4JCX5iSjV\n",
       "ljZevAD77oegbokyHZAzwRjhk/picZmqFLiDHbbSTvZtYanVeV6GFztnEFIO9TadcPbhhHliscwC\n",
       "PQ46LhxyA7au8ML4BfbHrfeRQeniSQIiJrkIkySOcDYCgjFd1KtpikO2RLYGw1afuOhq91qByI88\n",
       "+UHnKxVTrl3rWQ/8+jTrS21NlRr0lOEwWk66zoBYK5B3T+NXBCLdzkWs9yhOGdIgsqmKMl8dQvO8\n",
       "RJ0yGV+888Pz1l5hCtO95suht7a7NRFWVxudr1RMuXZNuHbulX2sd2+5AuKVa9L7hkiupXHx7oAt\n",
       "IvHaF4Teo9YSoRds67E8tqcbPeNej3EyVYe7bMh5FZYuxXb+KG+gVv+wRDIYD74xWG6e/UeLV1oi\n",
       "NX1y3D+OgNf1bhN+27LeS3m5jai2mSf1ZuD/pf8A8ZlVFr5L65AAAAAASUVORK5CYII=\n",
       "\" style=\"display:inline;vertical-align:middle;\" /></a><br>"
      ],
      "text/plain": [
       "<IPython.core.display.HTML object>"
      ]
     },
     "metadata": {},
     "output_type": "display_data"
    }
   ],
   "source": [
    "mult_rational_closure = \\\n",
    "    Forall(n, Forall(a_1_to_n, \n",
    "                     InSet(Mult(a_1_to_n), Rational), \n",
    "                     domain=Rational), \n",
    "           domain=Natural)"
   ]
  },
  {
   "cell_type": "code",
   "execution_count": 24,
   "metadata": {},
   "outputs": [
    {
     "data": {
      "text/html": [
       "<strong id=\"mult_rational_pos_closure_bin\"><a class=\"ProveItLink\" href=\"proofs/mult_rational_pos_closure_bin/thm_proof.ipynb\">mult_rational_pos_closure_bin</a> (conjecture without proof):<br></strong> <a class=\"ProveItLink\" href=\"../__pv_it/theorems/8ed59cb5c427c07160df6d7804fd1c5b129b315b0/theorem_expr.ipynb\"><img src=\"data:image/png;base64,iVBORw0KGgoAAAANSUhEUgAAAMkAAAAZBAMAAABp1hcZAAAAMFBMVEX///+IiIgiIiIQEBB2dnbu\n",
       "7u5ERETMzMzc3NwyMjK6urpmZmaYmJiqqqpUVFQAAAB6qHgnAAAAAXRSTlMAQObYZgAAAAlwSFlz\n",
       "AAAOxAAADsQBlSsOGwAAA2JJREFUSMelVl1o01AUPv1LsiZpI6IOH8YoCMJQhsgE8aGI4MApeZjD\n",
       "J1sV4+9DdQNfxAXnmzj7ovgwZ4cyEYfrQJ24oh0yRXQYYaDikIkD8UGZDwPnk+fcJLdZWrdWLyRN\n",
       "zr033/m+83MLUPVQclDryOMl17blY80gkMZLSteyI5Klu1k+YS6NAuO1oAhFvAWs8omBMku7YTwq\n",
       "oQR1gBl6mK4CpYduUz5+hxoRuehbGfiSkTYmOUoAIR7Tw7UqUO5z1TyjjuJ7xWdsawO4OwiyYbQY\n",
       "J3HTPMC5agP0m/LF73acFHy12CYm0RdB0Vwu0IfeoGpha3kQET2CkN86rJNVt19WJxLEVdiLEoUz\n",
       "WY7yEKsA3aurgkoAIwAf/NbtTDab4Z1Vtq1DRBqqNcpRVuK1KZHYXAVKLOvERpqt17i1f8V39Jtl\n",
       "kOSGpyuKqNHiJEchwoh5+K/fTpYSOW0rDDdNYZ7n2IKeMkFhOVHn1s2AggEQtWmn9gG6MwC9IM0s\n",
       "2SKcbKJFG/DD20BudI3qPIQ0UJvZAtd4QWVc1vKtl7E1CXqYNyjxKi+sEz/MRShBetyKaTYHQWKY\n",
       "IgJyFuJJEOdoQWcCBxEW7Lg84FtT+H1V8wR/lqAajJy0A8KT5VwQJZRmu2xUxBu2IMq4dHBt9/Ec\n",
       "c7igYpD1NJoteI2hMXwJIq/NXWNNYzmfYikN3njL5akOKlMw6Bqjdr2UqqObVNlNydE+3ko0fjbo\n",
       "rGGceQ+gaV4uMRLjAKJY8E11Ax3PYJhAsRsJz7wC1v69QV9R9aCXkfXiL1q5LpBnzCeKfpQAybIH\n",
       "ndTUJn5kxIoCrpDtTLzuWsPUx0o74RlbigrJebGZ9V0lO0Q2QtCSXpQope9p9Ofzzt41PJNnC6SV\n",
       "rer+404PgIsLN0Y9ifrEfQjlqHNCKCPPvDQMw7rtKFaqF4o8BDOV0v2883vrYMIJ+VdF88z38WQz\n",
       "hQn0JA4hq4uRZtEv68lKvhJKobxRaA3veHlEeBGHzO4hvR0PnOdYPyybIew7dDrpdrQCSKWO/ulY\n",
       "C2/fCi/6aOFtG3Ra4ogG0hFWlU39PnVilrcovIeouXQHDPrmLfc8RbatZyud+5JW/pX6Zfqs79yP\n",
       "6p4XeXrE989oCv5p+AVVFr2devH//8eYu+j7H+650f+IuPnfAAAAAElFTkSuQmCC\n",
       "\" style=\"display:inline;vertical-align:middle;\" /></a><br>"
      ],
      "text/plain": [
       "<IPython.core.display.HTML object>"
      ]
     },
     "metadata": {},
     "output_type": "display_data"
    }
   ],
   "source": [
    "mult_rational_pos_closure_bin = Forall((a, b), InSet(Mult(a, b), RationalPos), \n",
    "                                       domain=RationalPos)"
   ]
  },
  {
   "cell_type": "code",
   "execution_count": 25,
   "metadata": {},
   "outputs": [
    {
     "data": {
      "text/html": [
       "<strong id=\"mult_rational_pos_from_double_neg\"><a class=\"ProveItLink\" href=\"proofs/mult_rational_pos_from_double_neg/thm_proof.ipynb\">mult_rational_pos_from_double_neg</a> (conjecture without proof):<br></strong> <a class=\"ProveItLink\" href=\"../__pv_it/theorems/1cc66197b3eb3e3f9c76712afc1d0924f536aa720/theorem_expr.ipynb\"><img src=\"data:image/png;base64,iVBORw0KGgoAAAANSUhEUgAAAMkAAAAZBAMAAABp1hcZAAAAMFBMVEX///8AAAAAAAAAAAAAAAAA\n",
       "AAAAAAAAAAAAAAAAAAAAAAAAAAAAAAAAAAAAAAAAAAAv3aB7AAAAD3RSTlMAq1RmmUTNIjK7EInv\n",
       "3XZ/CtNrAAAACXBIWXMAAA7EAAAOxAGVKw4bAAADUklEQVRIx6VWXWjTUBQ+S9oladIf9zCUiUQG\n",
       "KghS5g86ZFZacSrMykQcyta6B9EXM9mbihVfhE038DeiEl+UuYdV9zBBhIEIDhGmDAShkD3IVFT2\n",
       "NGEP4rk3zV16U2aqF06bnNyb75zv/AUg+NoKta4USqi2I0KqZpRhFGm4piOPyI/h1xvLo0BbTSjX\n",
       "UWK6X9/t04ya5t4llKgFkCAXzQFApEn82Vipi9ybRuQktzO2uiC9LzKUGELsIRcnA6CE8Fwkxynr\n",
       "SaxOc8rxcYDDXRAyzSkTCYgsAlwKGqB4FpF4s+OEwS2VOrmItiii7foCvWgNsqbqAVCGcKPGK3tQ\n",
       "CZrl3HwtlYivyhOkSC3kGMo+ABHNqw8S/B8o63jlS0qb4+GRb45uREY3BL2doXxHeVcqvQ2C0ohy\n",
       "gNDbNGczZf5nA9pNM0hywzMQRtRwsoWhEIcR824QFNNhGI4byiLLsQVrzACR5kS9WzfdIgZAtpvL\n",
       "tY9cFwD6QEoEQcmjfMAXv4LQNGsHi6DZIExSFFd5TqC+fGYnL2LeKJaaZelxihXWjRVcTc+gvMY0\n",
       "m4dokbpBsjsH8SLI8+T5YAkXoUhx4rKfnRzD9wu2J/hNBGrWzEovQG3x+4Io2jA95aAiXo8OYerL\n",
       "iLtRecxyrOwLMgY5T6N5g5JBpXoWIpuN/kwmk+UYG7Nhl7dcDlogUAajrjLs1MtSdQwRVp6R5Bht\n",
       "myBu/J61aMO4sh7Atit8WYXyAFF0aBRcMuMFDBOITiNh29NY+4e6uKI6jw5GPsq/yM5PsRT1vDXp\n",
       "QyFZ/xSNtIUZNjLqkkrK6T24TrhalfQxz5jYSbciQ6GUTMhVkmKuk+gIgl30lflVtGfN874vLJOb\n",
       "0oQrh9WHN8s9APoXzrR7Tu52L7Qs6ZygFUKJbaZp6kf9jGn4rmihWo5fKP8fu18qh3yl6D3by5LN\n",
       "UFrRkjho+gB1mkbf15PFquMy7dPU2bMbWNpEWBFrxlCnNYoDZwfWD81mULmhQym9XW3wVOnoa29N\n",
       "sfYtsqIPpzeNw6Aud9gg3aFVOZPn2WnwFoVnKcbyTSPKPdfdeYreTlyuNvcl2/+Wub+0Jm7uhy1v\n",
       "GJo7stw3TBH+ZfGEihV317b///cYNRdt/wPKrcxkZTcL9AAAAABJRU5ErkJggg==\n",
       "\" style=\"display:inline;vertical-align:middle;\" /></a><br>"
      ],
      "text/plain": [
       "<IPython.core.display.HTML object>"
      ]
     },
     "metadata": {},
     "output_type": "display_data"
    }
   ],
   "source": [
    "mult_rational_pos_from_double_neg = Forall((a, b), InSet(Mult(a, b), RationalPos), \n",
    "                                           domain=RationalNeg)"
   ]
  },
  {
   "cell_type": "code",
   "execution_count": 26,
   "metadata": {},
   "outputs": [
    {
     "data": {
      "text/html": [
       "<strong id=\"mult_rational_neg_from_left_neg\"><a class=\"ProveItLink\" href=\"proofs/mult_rational_neg_from_left_neg/thm_proof.ipynb\">mult_rational_neg_from_left_neg</a> (conjecture without proof):<br></strong> <a class=\"ProveItLink\" href=\"../__pv_it/theorems/f0c5ee1c5f368523b2c883dd2e1a1c869df695c80/theorem_expr.ipynb\"><img src=\"data:image/png;base64,iVBORw0KGgoAAAANSUhEUgAAAO0AAAAZBAMAAAAvYLSzAAAAMFBMVEX///8AAAAAAAAAAAAAAAAA\n",
       "AAAAAAAAAAAAAAAAAAAAAAAAAAAAAAAAAAAAAAAAAAAv3aB7AAAAD3RSTlMAq1RmmUTNIjK7EInv\n",
       "3XZ/CtNrAAAACXBIWXMAAA7EAAAOxAGVKw4bAAADsElEQVRIx61Wa0gUURQ+uTvu7IxNZk8LRPKH\n",
       "f3osZvYktNYoolrYP1FBRlEkEWtEJJXauwh2lzJqhGokCKLASQOTKKQ/vTD60VsW1qxfpYgUhkF0\n",
       "zt2dO49dKEYv3Ltnzt57zz3f+c65F2AMbZG7ZV4YW8updLfOFx+b3Vtskyz7/mvhyrHZvUTD50y9\n",
       "kHRqpC61OWJ+TtQA8kkocQVXN2Gt25W3e3Dod07tewbHZpufChqtJmGPK3roBtbWtgt7rmbXycsD\n",
       "IFTH4byKDf2WRgGOuw70pBAOq53aYeweB+Eu5OIQt0R1Z+pscrEbuzHyqtsZ21EaX6TxvJZ4R78t\n",
       "rTg8yDVnrcOzBdC2K1oNUHhrHEr5ddofOsP+FN5SPIrjHG8Tn/Ude08i8dKV3elGjOseN3BlblEf\n",
       "gnePyYfSYRb1MI5hj4nqdvxnLeLw/8ZkU1TJDKIlPIUbnEhttdIIQAVY2Soky3CM5gTMEKHrdeDL\n",
       "d1XjdlAmog93A7CBKxdo8ApgLpONGPh0ytOwEuKzGlH0a3LIuvOd5smWFD8T56lfNcNu9w32PFy6\n",
       "CaCXuUp21gD8Rn8YvBjBxEeS0vE1s6sNl+UkOa3EPjXkewhymbn5BApgtPAyHNGhozjDX7L7HKSf\n",
       "rApR9vSCgJm0LUUnY2ZLnYPPjUSxGp5YQfyUD4C0MHIwGAwyFPJQ5UUKQGcx3FwsBzcEqx04S3/A\n",
       "M2RJXy9m0jwmvzaUW1n+WryJEaLttYTuyk5QKPDnSgGSZoGNDc5iZU88EQFFsflbiN2fBGkYJtSU\n",
       "GspfFG5YyuRBTgqqV9MsxYn4DEeRVtJ7cQRuk2pZwGZ3QPvC8PLcBKddSkIZ116HeZW8QE2BZhzX\n",
       "p3KKJ849rM9TLRxawUJIUFaK3UBZxmwmdcudUyEQDGRTkW126dAiYtn67WwRLwmt92n22xQVC7cY\n",
       "jN60+0eTxW6VIeSF8I6owKpdvNmO8zOo8uxV1YtCGmdL/hKn4EPWmyodWaErVSfJN9udu5MTO+Jf\n",
       "pl1ghYHxis8Ygici857xKvM+Ks+a5IEMVZFScNq8jkf52SOxsObXWC6BbFzHkg6fPPFUOYvmQ7t9\n",
       "O5HuBH8ki936LG+iwn2X+IeHFyph9fwO8F1ldePNDiMU4hM4haSsp2/p0ZqZjr0KbElqaVf+UfQm\n",
       "Og57R1UxZp0nzVMar5TLGIDDgWzvq4bMbZWIq/eVt2SjUTi3WPWryr86sNPH9z0ZXWJINg/F/qZx\n",
       "ej8jj/4C+cDkRldETJcAAAAASUVORK5CYII=\n",
       "\" style=\"display:inline;vertical-align:middle;\" /></a><br>"
      ],
      "text/plain": [
       "<IPython.core.display.HTML object>"
      ]
     },
     "metadata": {},
     "output_type": "display_data"
    }
   ],
   "source": [
    "mult_rational_neg_from_left_neg = Forall((a, b), InSet(Mult(a, b), RationalNeg), \n",
    "                                         domains=(RationalNeg, RationalPos))"
   ]
  },
  {
   "cell_type": "code",
   "execution_count": 27,
   "metadata": {},
   "outputs": [
    {
     "data": {
      "text/html": [
       "<strong id=\"mult_rational_neg_from_right_neg\"><a class=\"ProveItLink\" href=\"proofs/mult_rational_neg_from_right_neg/thm_proof.ipynb\">mult_rational_neg_from_right_neg</a> (conjecture without proof):<br></strong> <a class=\"ProveItLink\" href=\"../__pv_it/theorems/e2528cf03a7626146ced6dcc1596a6d8f53479660/theorem_expr.ipynb\"><img src=\"data:image/png;base64,iVBORw0KGgoAAAANSUhEUgAAAO0AAAAZBAMAAAAvYLSzAAAAMFBMVEX///8AAAAAAAAAAAAAAAAA\n",
       "AAAAAAAAAAAAAAAAAAAAAAAAAAAAAAAAAAAAAAAAAAAv3aB7AAAAD3RSTlMAq1RmmUTNIjK7EInv\n",
       "3XZ/CtNrAAAACXBIWXMAAA7EAAAOxAGVKw4bAAADdElEQVRIx6VWXUgUURQ+ujv7M7NuZj8ggiz5\n",
       "4EvWYiVpIRuuUUS6sC9RQStGkUSsEUFQakRUGLqgUCtU40sgBq4lmAThW1YYPtivLMzWYz+EFIaB\n",
       "dM7szp07sxMLswfu2Tvf3nPPPb/3AhRBu+yJOaE4Kg3Zk3MnitP7UN3EYt9Cgs3F6R0i9jkfFxQz\n",
       "Is4kh+P6Z5kMUE6TGlvumiVfp4zg2DyyL+almTm4UqV/+lFpK01O20qPlOZrnk7icMlGTNoTBKE1\n",
       "AbeSSGi3uApw1Xag10WQtZjRZRwOU8L1u5AluKh2Zs8mBezoHSSrZs2xXSX+KufPe+l39Dsyiuyp\n",
       "S191EM8WRN220uo7hTdmAqWFnD10hnNZf4uJAeRbnH1s1Tcc8+n0a1t6N2sx7n7ew0BXdQadN6nO\n",
       "L+bC7ElFkUcduldP4D8H0A8Wu6YK6k2SGvSW8AIesESa6BJXABqAz1ZBqUc+UBrUQ4Smd4O73GLX\n",
       "wr2ogyoRbXgUhMMM3C7DG4Ct6lyLgTtFdRr1R9iqXpx6ZSnCbzc+vD7O9HrOmGCOFnH4ULQdYEk1\n",
       "lfTsB/iL9qiyGMH0R5rl4qtX1wSKlSosrTyZZMT9DKR63d4qE2yyl/S+BPG32oVIZAkErKTj2XTS\n",
       "Vo50m/K5l1IsxgorjJ/SeRB3xKfCi2HVC3MG+EI4HI6Y/CyugeMnV75OrKQ6db6ggcfU+uWOPUiu\n",
       "e9xFbmyeBj8F/mYtgKIwP69lZAPMUSUOrwLiMpTEajXwD4UbGtX5D9bZqF9t4poT5TNcxrQS33tW\n",
       "YIygpiCv1//JHzLAHFERSih7H+pCLAs3wDDyQ9maYoUzif15Iye6l1gJutEZ8swCVZm6uZLS9HqD\n",
       "jpgBBuOhPejL0a83qllLGJ0i77zN9ovKo1pGt5/61ceJ7tMmvgjeEQ3YtQNHcg7N6vD1OcsNMEeU\n",
       "U/DB8qbKRVaYyfZJss1w53ayxI57m+R+tdGpCcR6P/gCFrB+H+20vKmCeVC1v+K6fh2vsrPHB6Oy\n",
       "V1aLBiTtOh7HG7oR8mCt6uhO8MYt9F6yeBNVnh1iHw7WqISWbU/AfVdVttihheJ2wNOm5MMaVRiK\n",
       "lKM7BTpdmemw48kkxmz6GgMC1jD/vurJ39Yft/W+cta05XqDIFvCzHcpW/fYf58ZA7u1OFjDRb+f\n",
       "0Zx/WuLqMX0BQlEAAAAASUVORK5CYII=\n",
       "\" style=\"display:inline;vertical-align:middle;\" /></a><br>"
      ],
      "text/plain": [
       "<IPython.core.display.HTML object>"
      ]
     },
     "metadata": {},
     "output_type": "display_data"
    }
   ],
   "source": [
    "mult_rational_neg_from_right_neg = Forall((a, b), InSet(Mult(a, b), RationalNeg), \n",
    "                                          domains=(RationalPos, RationalNeg))"
   ]
  },
  {
   "cell_type": "code",
   "execution_count": 28,
   "metadata": {},
   "outputs": [
    {
     "data": {
      "text/html": [
       "<strong id=\"mult_rational_pos_closure\"><a class=\"ProveItLink\" href=\"proofs/mult_rational_pos_closure/thm_proof.ipynb\">mult_rational_pos_closure</a> (conjecture without proof):<br></strong> <a class=\"ProveItLink\" href=\"../__pv_it/theorems/179eae3bd3d4a21cc93f0313c64b0bce5df6cb270/theorem_expr.ipynb\"><img src=\"data:image/png;base64,iVBORw0KGgoAAAANSUhEUgAAAa8AAAAZBAMAAAB0obzuAAAAMFBMVEX///+IiIgiIiIQEBB2dnbu\n",
       "7u5ERETMzMzc3NwyMjK6urpmZmaYmJiqqqpUVFQAAAB6qHgnAAAAAXRSTlMAQObYZgAAAAlwSFlz\n",
       "AAAOxAAADsQBlSsOGwAABTdJREFUWMO9WH1oW1UUP2ney3vJS7JSav2ao0Rl1f5TZLoyFDLRbUgn\n",
       "D52CUJeoLEqdmFhBEWZf3ZyCUAKiKCgWWv8Q+0cY6jCtLkMnbqOaVqHiFymMzQ+UKpRtFann3Hvf\n",
       "y7tJ85Jg1gPvJu+c++67v3PO/d1zH4CXRGM90CoJj8OlFoOaHF4dsaJ3z2AL3/rDJccFAWoOMy8W\n",
       "1g2YmsVGb8FAeh1g4fb1BRagV13TgoFC7VU+25F63HKAwfUcWIn+/1gbmKe9CTmIVyTeChdtrFRs\n",
       "2govnCkD28SB5en/G7WBedqbkA/weqAlsQ+a8r3yeQFC+SR8lHoklcK8SJgM2POUtsnawDztTcgK\n",
       "XjOtodecfP80LZjkcSdiwQIDRviVYm1gnvbGRVvGpq81y/Vm/tMVixEhwb692OwMOsCMJANG/BH0\n",
       "IA9Pe+Pi68Yllm0NsLdY+95lgjqSGWx/MtI2MF8fn/VNsdgWL1b0sjcuUQRlEHfoZ66ooLWx7aP1\n",
       "n3d3upux/mt2LsSnsJ0KF21goWUO7CgG0wuYl72OKC62T/LkhwkrsCzTdz88adbleHenk2xqlkP/\n",
       "s9hmIgVReYB2ngMbA73k3v9674LPSi5gFfamSxwxEo7Rhk5VbwWjG9STZcu9BTgC6h1/eoJjnWz5\n",
       "Rtpi9ThtRlM+p2LTVziwgKk4uszZIfhZMQ3TBcxtb7jM2PHpLzKwNqQyP45jLEFbHDIdrNdFao8B\n",
       "XIc9Ea6tkSWRtTvZMkLNcAyFsbVYY45jVAEs0u6AN47SZtyeU9yp6LI3JOScQ3EYKFZFjID5k5DA\n",
       "n3mm7KXmFprJhnH9vKORhVzCO9kyQc39zu2+MZsVRcREKkIWt4DwTOZqsacvfD8qAWP2JtKPnLOr\n",
       "CINfKtNHpvOVqZhoh6/BBsb8+xeElyBscmC1MoB3YpMUD7c5xkm2j82Wd5YLAthu5JfBiYLfUllk\n",
       "F5QHJyVgZIc9x3fZLxnotKrf7CjJOdoBC3w+KWJRHDuAdJgowq8Ryw3sX2TM75Bour2AsU5sknj3\n",
       "BSN1h1sNqjx+K9cQNivCQXTmi1fCBjPESuIFyHVJwMiu9pAfmNxjjVQDc5TMOeFBqARGm4tSInCR\n",
       "XsMdMXgI5nOYbU+V18hFe2UlslInNklRnQG8XaZ/rBV/d1UmYh+DKG5tsIiZG349lXoCge0JSsDI\n",
       "buS0PtAZ7U/DMITm8jIwUnJ30YgEyqdIwMiNGgZFXdw5drkEbG/ns4tpMTY4S4+trLac3GmRL68b\n",
       "uWrIdoV+7M1/0q7FUHIfW7bCtKbFecRCc1XHFv+4rwQH6EAA27B89kNCBraN1dTkLnJOSKSiIvUA\n",
       "2OzczVeG/BV4uf76pUkiDpG0kw/HRESjaTcNiFpRgF6CzQt8Iz4F9iRdwBJW4ITJTjrqBdh/n24H\n",
       "yM4eUobzs3HgzmHkUV3dn64JTH/0mQ/rHzHZJMGoPkQu+v54rrw/mC5goRJ0FuAwBlS7wYJodcSs\n",
       "kSkCpsahX1s5ATCEfEJ31AhlpAu6RZWSKcHuiteTJwL24jz0znbZ6l9dXap/xGST5Gd/WSJnX93v\n",
       "3HxVfYLGo+jQ2ifo0MzcAJ1Ntdvg/VkcnUrO4aLWD8OW1m8rz+mYGuQcUG//+FxlsVgUzPK/5bE6\n",
       "9p7mPw1gKkb4vztxBYFzmBHKbt8pUzhHeamw1jeP0Rbg8ll1jmvNf/PIbCnCu1y/+jdG0SForlRL\n",
       "kQGn7yenr6oY61tYH2nsK1XVd0XXA+G1lM72vzG9/t8VmRAJdVxb+A8hSWCWQuIK9gAAAABJRU5E\n",
       "rkJggg==\n",
       "\" style=\"display:inline;vertical-align:middle;\" /></a><br>"
      ],
      "text/plain": [
       "<IPython.core.display.HTML object>"
      ]
     },
     "metadata": {},
     "output_type": "display_data"
    }
   ],
   "source": [
    "mult_rational_pos_closure = \\\n",
    "    Forall(n, Forall(a_1_to_n, InSet(Mult(a_1_to_n), RationalPos), \n",
    "                     domain=RationalPos), \n",
    "           domain=Natural)"
   ]
  },
  {
   "cell_type": "code",
   "execution_count": 29,
   "metadata": {},
   "outputs": [
    {
     "data": {
      "text/html": [
       "<strong id=\"mult_rational_nonneg_closure_bin\"><a class=\"ProveItLink\" href=\"proofs/mult_rational_nonneg_closure_bin/thm_proof.ipynb\">mult_rational_nonneg_closure_bin</a> (conjecture without proof):<br></strong> <a class=\"ProveItLink\" href=\"../__pv_it/theorems/542b9756ee677372321f3f4b48622309a0c977290/theorem_expr.ipynb\"><img src=\"data:image/png;base64,iVBORw0KGgoAAAANSUhEUgAAANkAAAAaBAMAAADI7ORfAAAAMFBMVEX///+IiIgiIiIQEBB2dnbu\n",
       "7u5ERETMzMzc3NwyMjK6urpmZmaYmJiqqqpUVFQAAAB6qHgnAAAAAXRSTlMAQObYZgAAAAlwSFlz\n",
       "AAAOxAAADsQBlSsOGwAAA8JJREFUSMe1Vm9IFFEQn7vbvV3vztyoDxEpIv0PwqRU+qSQImRxoUkR\n",
       "aAZdlkUXCgVFnn8IQtLrgxEkdRHZh8Q0MkvFTkJLKtgsSEhKKepDIQlJJgjNvNtddvfO2JN68N7t\n",
       "zb73ZuY385tZgP86hGPsh8vNWcxpTyjOA8UnaB2ENnDHr+193Cdsx3HJgqSAeDDeo3wQFzFaLv4N\n",
       "jnIQZ8Aho4NxDmcYl+RouUuKhtDne6SoyxZmwB4GuxdgggTjFrXV40w0BbwkA5dVUQB+8oub2U4+\n",
       "P4TaHBLYUFUvSa5a1PYA536z8BrOBK9JWFgIcLeNQB7wE5JJMvAzAOdJYjWAczj7zcJ5QqvTlPk5\n",
       "GGGnRwJxyq9kCUBrxCpOtsgetA7SzTEjIWxTADyUtoEFeC/CxvmD/LcA/V0KHbg+RKsw8AlWszkV\n",
       "wxY0CblUWlsjmi8riJYImDeJcg/vVdjdjesynBlpaVstaluCmtwU+qbcWk2YMJmC0OxmzxfV8FW7\n",
       "0AlX+JXh+D182wNw2CoBML4JdE02nNTSoqyFnwUYAUO23fSgBYJkzPUaDGETiBML3H4gj1IoeYXm\n",
       "Bm604zVFYbivbfrohS0Ab9izhnJDIvNtpeDDUaEIm7HsOb2cVvyEKxo5K6cwvg2PKI20sNox8xy4\n",
       "+QnAauYW3f4Y4CfazY5jVNLWMhQices2GF+GRxMlXZJ8pjMpvpC4AzgCfU8vFIHDq/ONtGUCP6dq\n",
       "R70u5MAtRmSNSc59kZw0aGsmMgR1BSwLZx8KuUvAv6TkrQvVgd1vRJKfBs8PHd3cyIFR9pyq0SLC\n",
       "NyOzaujCXS2E3GABuTWd4rVRLTw9BiAhGGfzyLeAmpNou1MCfh6zc0y94xeFEYYhwit19GMt6WiD\n",
       "qJyEerSYXy/MEqHW2DpL6MVQmGnrYGTUkLYhszncXQ6jnVrx+A6VSk3DvZozHNVJU4F5yixGoNyd\n",
       "Qjqr8Z5gO8nILymnVGY5+VxfNgREq3T5mUkVXSjdSWBsjHSkL7dVcePvGz2mFB9QHxwhqtDg8Lsn\n",
       "RjBn5TsKkqaxHee6WFwRlYi58iOVC8dXj/l8q5acAecQopqEXa+aAcGypLGvry9k7gEvYmlzh6ML\n",
       "j5TyznCYn9F8C9S0e4ux4Q0j/xgLgIvR9KoI7UAMbRdiyD4czTTY4NGKiKv/dSFUyUIX9ogjjN2b\n",
       "rvtjFEpZTyrdqLBQ9+wmM2W1xyMCBecW+i6pjdEcAha0mb5LXPoG7B7vivE193bxn5bmlu0x/Dv1\n",
       "7F98T+rMR1/+AC8y7CV1dV90AAAAAElFTkSuQmCC\n",
       "\" style=\"display:inline;vertical-align:middle;\" /></a><br>"
      ],
      "text/plain": [
       "<IPython.core.display.HTML object>"
      ]
     },
     "metadata": {},
     "output_type": "display_data"
    }
   ],
   "source": [
    "mult_rational_nonneg_closure_bin = Forall((a, b), InSet(Mult(a, b), RationalNonNeg), \n",
    "                                          domain=RationalNonNeg)"
   ]
  },
  {
   "cell_type": "code",
   "execution_count": 30,
   "metadata": {},
   "outputs": [
    {
     "data": {
      "text/html": [
       "<strong id=\"mult_rational_nonneg_from_double_nonpos\"><a class=\"ProveItLink\" href=\"proofs/mult_rational_nonneg_from_double_nonpos/thm_proof.ipynb\">mult_rational_nonneg_from_double_nonpos</a> (conjecture without proof):<br></strong> <a class=\"ProveItLink\" href=\"../__pv_it/theorems/1436f5d0160a431ef7b234f9fb932de91ee97b020/theorem_expr.ipynb\"><img src=\"data:image/png;base64,iVBORw0KGgoAAAANSUhEUgAAANkAAAAaBAMAAADI7ORfAAAAMFBMVEX///8AAAAAAAAAAAAAAAAA\n",
       "AAAAAAAAAAAAAAAAAAAAAAAAAAAAAAAAAAAAAAAAAAAv3aB7AAAAD3RSTlMAq1RmmUTNIjK7EInv\n",
       "3XZ/CtNrAAAACXBIWXMAAA7EAAAOxAGVKw4bAAADxElEQVRIx7VWW2gTQRS9Nkl3s5ukFf1QlJJS\n",
       "oYJW4wNfiKQ0alWsEf2wIhqpIPqhqxRBfK0oKFisaLVGsKY/Sm2hagURQfojtopSwbcENhXxQxER\n",
       "tFJBPDP7YHeTSlJ0YCabuzt77j33njtL9F+HeJ7/yPdvjGa3J17ghs6zbF1C9eQtHG1KwTtC57D0\n",
       "UYkinCl0q5TAImTbhb/R0UbCMAXCCLDA4Y9gGcy2+7RsCpPJ5QbcQ3GYghEKpohKmaEiT7SDmEWu\n",
       "hHc8wfI+i8DJqvCMPyndjQMtoFEIUEuZZXueaKswr7qN2zCLUy5jTw/R+npGcrXKmCwJkzRMdJRZ\n",
       "8k3gd8wat/EbYyvqqvwbyLDfo5EwVjWqhKhB90oO56keeEe97pwxIz0yCLycfskTfB20yWpCGq+w\n",
       "v19oLdYV8AqJL863mgeQtoTLKA+wtUFH3mUw2iGiborCtVLKUPdKrJ8xn6TTj/NEGwMkL0v9nvuH\n",
       "LWNxWQbU3OTX+8z0nfIhCF9ktmP7FtytJbr0FwR7+v3IbzF7zUO6Ytm7d0pDRPPIUW2bPfBA1Jy1\n",
       "3owU7iGhdGSwWaow+NEKAw8G8ZquCK22npiZoqdE0/m1xfKBIh7bBzGJ0WoYj6Dt+VOy1fzEHZY4\n",
       "W8Yiv9JtFWVkpTWIygvg4TVE73hY7O3LiH7Bb74dWUm/4SzoeVvp8LwbW4s0W5FMYnsyybhwj+TZ\n",
       "JKwCYhcFUrbYGFo/Sd9NdOD6oIFNXMiWkvzX9Jp0oB1hYkjYGlgfZgxGeS9Jc5RDLOhDFFSdTEq/\n",
       "yfPVJjcvNFDFrwcsWeh6cyqrmanh1k7G3JI7LKzfmVSI9cKTlUSaRrPiPDbFrEn47tdI+obqrDTf\n",
       "8ZOlkRaSritz1KCXrK2nrJqkg/BYeiUOMUG9DUU72I1FEY5G5RGI0WI6BGXLeLqNqqJW8xhHLUZP\n",
       "Q/BWMDLrk64Gs5h7DKK8UbGX93hPYh2zMSSNKet4XBicb28bIthq/3SizGSX2m8zMl7oJ9LEjaa5\n",
       "8cfuWld9V5sXgTjr0BRQvaXzULPhDTqT7vEA83UuoQhGxnx39c6FMcHj3t9gFafiXwRWS3DqneJE\n",
       "8CppjMVicfcZMDcXmjeS3Xi0zFTHZmnYik1pXpfqxIG3EPrjKiA5x6HXxNhWcqDtz2Erv9Dv8MFj\n",
       "NRFfzYweagqLdTgjLnJ1P9+q5miUYbuobKM1jy4bdLkZNs94MHDn2EjfJYdzHA5KHmiu7xKfvQN7\n",
       "K+pyfM1NG/2npfvI9jj+nV7wL74nbe4jlj8HmuYwFpfKdQAAAABJRU5ErkJggg==\n",
       "\" style=\"display:inline;vertical-align:middle;\" /></a><br>"
      ],
      "text/plain": [
       "<IPython.core.display.HTML object>"
      ]
     },
     "metadata": {},
     "output_type": "display_data"
    }
   ],
   "source": [
    "mult_rational_nonneg_from_double_nonpos = Forall((a, b), InSet(Mult(a, b), RationalNonNeg), domain=RationalNonPos)"
   ]
  },
  {
   "cell_type": "code",
   "execution_count": 31,
   "metadata": {},
   "outputs": [
    {
     "data": {
      "text/html": [
       "<strong id=\"mult_rational_nonpos_from_left_nonpos\"><a class=\"ProveItLink\" href=\"proofs/mult_rational_nonpos_from_left_nonpos/thm_proof.ipynb\">mult_rational_nonpos_from_left_nonpos</a> (conjecture without proof):<br></strong> <a class=\"ProveItLink\" href=\"../__pv_it/theorems/64d3297adaf70679b5c2cf5e816f47e152a628940/theorem_expr.ipynb\"><img src=\"data:image/png;base64,iVBORw0KGgoAAAANSUhEUgAAAQMAAAAaBAMAAABBUSQfAAAAMFBMVEX///8AAAAAAAAAAAAAAAAA\n",
       "AAAAAAAAAAAAAAAAAAAAAAAAAAAAAAAAAAAAAAAAAAAv3aB7AAAAD3RSTlMAq1RmmUTNIjK7EInv\n",
       "3XZ/CtNrAAAACXBIWXMAAA7EAAAOxAGVKw4bAAAEZElEQVRIx8VXb2hVZRj/uXPvzrnn3Hud+iGV\n",
       "kCsLLFK7mqySkK3NPzmqK/bBSagxIdqHOoZEos5jSQXGJv5p3SA7IhRTweUGQ0MZA1ETY0GmFoOz\n",
       "qfShGiKYsSB6nvfc83r+DWb3Qi+cd+953vu+7/P8nt/ze8+A/6dVdcE411Ox7ZTCw3twGFiGFiQq\n",
       "5MJjD+/0AeouYqqp7quIB/om6tSoXZ1wRXY/T48jnSMoKtFSeepGo/akEzEdLxZXAtogj7VxZPLI\n",
       "2EANv9aW48IOzm2IWd1XqLsZif5RS/2BfvnEGdeFtIMsnb+c594ox4Vmer4KGzfTU22HjL29wKst\n",
       "NGg5IxIxNQd9HNjNaSmLFPfoaQwb7zLp6oM2rYdYk1I4P7tXunQEWl1XjVwZHhCgwECYB2zEdyX8\n",
       "vxj+SZDmGKFuWMxebJmNMayhwYvkKpGpuhwQskNEhU0hozHEfavrzlulhHRrBEBVbpV4MUmaVtPf\n",
       "3+m5Mjx8uRwXptDxCWbjlnPt0lg9Z4SQ/UaM3/UosTdJ4SbziwPLN9IsOfV57N72JGuSiFTNe1/A\n",
       "l3LJyTb9PlCHANc3KOSW5gTLr9Mi56HWxG29yFJHf40RomY+p32hKQOm1Rna+0QeL8lfPWXje2C+\n",
       "GMskba8SKNzWitS6SsZdpO4p2who/PGD02h7vc8ipgqSfOjVi3664REqnz6abnuwcYZ4n6YdXgF+\n",
       "EQDwzArgb4pQ0JUyPXxD4OVyYXUgpJO0tMqRbNRGigX1WxiLoTbTOSeQ5oincKI7Zh3C9h70Urj6\n",
       "rYI+4LHdRYFduAT9nucSOZOksnxNOC4rPvX1g4qQbZfFQEmdbqJX4x3oT5s7GZidyPB8mroE07g/\n",
       "h6PPsIxcVYdwPZQI/R8od3yykKCyXCDGQ7JSXV0IKkAnZ/RUG8O/rB9ZFvuP5wGOg0UFgQLPd47N\n",
       "FlqrvW8im6W/zTahcEFWBEWZcqDfpdqY5xn/YmrgOTEek8c1kjquaUGkIrCDwtCvaffRzaaleeEC\n",
       "5uZJLkSK/rBvCTCVo2AXkjMExSScWZIlg7Y4jAX1Ug5n4GBJugkmGbbBd0RIMp8XYTDQ9doA1vIb\n",
       "H+9w9vcU1FGGHQdQxwUtEMga+nS2tdeafiHUCOwjv300x/KMR/p4xVWXxbPWe+atf769KlRhDd4g\n",
       "XaArq45qJbfOTYSvXUSD8maxuD9ZSkS4nafnelxZqyUWJE+7Ak1tphK+wVtlaZippfZeAZag49am\n",
       "piavVO9gUBN3saCjSjPLIzflkjgXEvmolDojjwckQB+XKJida+2ULQoThk+/9B78rOxz9bOjBqei\n",
       "u+ITrjczxoVtMba5n14KbKFIWUw2LuyF+pmQph9ft3z34CD2EKW3sUk/u2Jm3CWR8xe/r3VNQt4z\n",
       "ZuS7ilDq/yDwrVsSxuIhStJ7+Ym+HdtjrlBzEi7Efzsmal/2pWu9f+qFJbdjFjz536/ZiT6WOp71\n",
       "vQTi1m5alfk/QoZL9PsXj/oSDs8Z+v8AAAAASUVORK5CYII=\n",
       "\" style=\"display:inline;vertical-align:middle;\" /></a><br>"
      ],
      "text/plain": [
       "<IPython.core.display.HTML object>"
      ]
     },
     "metadata": {},
     "output_type": "display_data"
    }
   ],
   "source": [
    "mult_rational_nonpos_from_left_nonpos = Forall((a, b), InSet(Mult(a, b), RationalNonPos), \n",
    "                                               domains=(RationalNonPos, RationalNonNeg))"
   ]
  },
  {
   "cell_type": "code",
   "execution_count": 32,
   "metadata": {},
   "outputs": [
    {
     "data": {
      "text/html": [
       "<strong id=\"mult_rational_nonpos_from_right_nonpos\"><a class=\"ProveItLink\" href=\"proofs/mult_rational_nonpos_from_right_nonpos/thm_proof.ipynb\">mult_rational_nonpos_from_right_nonpos</a> (conjecture without proof):<br></strong> <a class=\"ProveItLink\" href=\"../__pv_it/theorems/ad93800ffc11b569cc6641f647efab5841e309270/theorem_expr.ipynb\"><img src=\"data:image/png;base64,iVBORw0KGgoAAAANSUhEUgAAAQMAAAAaBAMAAABBUSQfAAAAMFBMVEX///8AAAAAAAAAAAAAAAAA\n",
       "AAAAAAAAAAAAAAAAAAAAAAAAAAAAAAAAAAAAAAAAAAAv3aB7AAAAD3RSTlMAq1RmmUTNIjK7EInv\n",
       "3XZ/CtNrAAAACXBIWXMAAA7EAAAOxAGVKw4bAAAEXklEQVRIx8VXf2hVZRh+vOfenXPPufc6kWhK\n",
       "yJEJKqldSmZJyNY2Z0a1oX84CTUWRPujjjEimc5rSQXGJv5oXSG7QymmklcnDBfKGIRaKAuyrBjc\n",
       "adIf1RDBjAXR+37nnm/n18B1L/TBOfvO+93vO8/3vM/7fGfA/9MivTAu5su2nNI8cwRHgTVoRbRM\n",
       "EBbNHPRBul3GbEvdXxYE+ja6qcG4Ou2M1AEenkTCJCrK0eJput0MxmOFQOhkNtsEaCPc1yaRTCOZ\n",
       "Ayr5sboUCDs5tz5l9V+l263A7h/JqN/SL5cO2RASBaTo/Y089mopEJ6j6zN/8BW6KnK+4MAAsLGV\n",
       "Oq1DIhGzTeiTwB5OS0miuEdXvT94l0VX641peVJNXOH87Gmy5Qi02VANswQERCgw7NcBB/F1kf9P\n",
       "xr4XojlBrBsZVi+2z8cEWqjzLEElMVWUQkJqlKSwzRc0RvneZsN5vZiQfo0IiJjrxINF1rSe/v5O\n",
       "19WxsW9KgTCLXh9lNW6/2CWDFQvGidkzov+WI4l9MdpuLP24Z/pWGiVQR2bqBJ6aJCFV8NqX8KnU\n",
       "3+l2/T5QA4/WtygESyt4y68nQ+ChVgZecpzLRr35a7i3VaFrhSU3TLOTtPapNJ6XP3ksh2vAMtGX\n",
       "SeqMCBZua1lqvcXgbnL3eM7wePzJQ3No+c4mVqoQyXtOvejn6x7mHxBv7VMLJ0n3CVrhReBnQQCP\n",
       "rAX+ph0KuVKmx34UfNlaWO/Zz2maGilINWrj2Wb1SxicrS8acQoJZnYWJ7p73mF05jFgomOQwAw7\n",
       "ardZYAhXoN9zIBGYGJXlSwK4rPj451MVIdvuDBMlfbqBHo03oT/BLO9q3oUkjyfoFmUZD5o4tkq9\n",
       "zikaxQ1fIvR/oNxx2UKUynK56I/KSrV9wesAPfyus+3M7ppBpNjsP1gMFIiwvUPMAo/3TMwXXqu9\n",
       "YyGVgvKQYOGSrAjaZbwA/S7VxmIn+BdLA0+J/oR8XT25Y0srAhWBnbQN/QftPvo5tDotILQIuxAp\n",
       "+iP3iyBTOQaGgMhclpikM0W2ZNASR7G8VtrhXBwqWjctI7dt8Bnhs8ynxTaY6FptGBv4iRko5PtM\n",
       "URGrOHIQNVzQ4vUpg+loRFe15TZCjcju++39BRkn2HeOZ1y3VTxvsxPu+PONdb7yqnM6iWY6smqo\n",
       "VsxNxURMtcuoU17LZg/E7EQE2ld03QgrXrWogth526CpVSn+E7xNloYVX53bJ8gScuxoaGhwSvUO\n",
       "RjRxFttypJHGwEm5MgxCNB200sL4Eo8F6JOSBatnQy6eE4UJw+Vfeh4/Kftt/+yuxNngqviQ680K\n",
       "gbAjJLbwoyueJRRpi7H6FQNQPxbW9N3LGdc5OIK9JOkdHNIvrK0KOyRMd/G7Wu8DeH3SCnxXEUuD\n",
       "73q+dYvGmD1MSXo7Pd23Y1fIEWo9AITwb8do9QuudG12Dz2z8nbIhEf/+zE73cdS95OuB8++tVuZ\n",
       "8vwfIbdL8vsX3eYQ4v5ySRIAAAAASUVORK5CYII=\n",
       "\" style=\"display:inline;vertical-align:middle;\" /></a><br>"
      ],
      "text/plain": [
       "<IPython.core.display.HTML object>"
      ]
     },
     "metadata": {},
     "output_type": "display_data"
    }
   ],
   "source": [
    "mult_rational_nonpos_from_right_nonpos = Forall((a, b), InSet(Mult(a, b), RationalNonPos), \n",
    "                                                domains=(RationalNonNeg, RationalNonPos))"
   ]
  },
  {
   "cell_type": "code",
   "execution_count": 33,
   "metadata": {},
   "outputs": [
    {
     "data": {
      "text/html": [
       "<strong id=\"mult_rational_nonneg_closure\"><a class=\"ProveItLink\" href=\"proofs/mult_rational_nonneg_closure/thm_proof.ipynb\">mult_rational_nonneg_closure</a> (conjecture without proof):<br></strong> <a class=\"ProveItLink\" href=\"../__pv_it/theorems/c0169a70e80165433ad4f8b950326007bc48a9020/theorem_expr.ipynb\"><img src=\"data:image/png;base64,iVBORw0KGgoAAAANSUhEUgAAAcAAAAAaBAMAAADS2ZG9AAAAMFBMVEX///+IiIgiIiIQEBB2dnbu\n",
       "7u5ERETMzMzc3NwyMjK6urpmZmaYmJiqqqpUVFQAAAB6qHgnAAAAAXRSTlMAQObYZgAAAAlwSFlz\n",
       "AAAOxAAADsQBlSsOGwAABZFJREFUWMPdWF1oHFUUPpvd2Zmd3Y0rxFhNlWWxNBqFKNWG0OJaqq2a\n",
       "lkFTQYjJKjQPseIukSpKzaTV+CCkAVH0QVhJfRDzsEhKNYl2Qo1IY3QjQkSrbKA2/hWiGIyREs+5\n",
       "985kZn8mu7iN4IG5c+eeuT/f+b33Avyv6HCavXbXlfl/bayxqvOH0pcZoHRPlqaJqAnIYMUTu8X9\n",
       "/0CV5//28uuw3gDwJmEZBtjnZxsKUBrCQqnCQLoL75MIHNdgJ6px4wH6UbpwXRUGequIbXY/LmCf\n",
       "0fs0uBlgCweYo9e50gBd+RXSMXzC8SoM5DHyW67fDkfPs1p7DyDAW7GJAxyj1+ulAbryK6RRfB6u\n",
       "ykiv5n37PjZAHUtg7eUFIBO9BNClMYDPk1skSgN05VdIK/hMVGWk6bzvp8iZEpMAg4iPBxkIGAxg\n",
       "AHH6sqUBuvIrI3kJi+aqDOXVRMyMxShwwcFOLPYEoPN9ZsERFT0rmGAAQ4ZLLEGGK79Cz4miCw5V\n",
       "ZagAd8J3rhIhJpHC8rtg8gD/3t2AAvA08yh6Wyy2zS2KuvEro1oEF6QYM3hXv5OjnN8UWb+/rZuP\n",
       "xT7FdEU5PoLlSMhhaeoSB3gKFewG0I1fYZZIcNGrLfCk5uAM6/6ldbvbu4WYIQTMfKhGZrBMhR3B\n",
       "Vf6TAxwEJWcXZtN9cCZnA5jHryCtj9Jy+metrBzAcWpQyA8a8B5Ax5qxSjsgGIX2/T+4jse7cQo3\n",
       "O9K0EqdENuJJH+5GEhMqKxygX/NZO8TUhR743qcFNRtAO7/8LeFHP+IM9+sU0C0gNbg99OJYpwFu\n",
       "APnKKPvzLyyCi1ATx80jW39XoZeyn3g3UzuLVPbGkFiEFz7osAtJAAxHLEEET1FSj2R8dhO18csi\n",
       "EtILcWhDVUkNaakZbrdrkADeweYOM4DQRDExAV1pTCLHk0IM+UQ/iW7CJpkGH7J+ODjIo6jDsYWJ\n",
       "whCmj9BEqgFgM7XPfdPvAMj45RMT0t4sdHxKc9ykRGFrnolKv0Fo0QLIlBaBLwCmOMCSVsG68YWK\n",
       "zjUW8wTLgzPOrLQsAO7DWNQxbHh1iWl7zvfICQdA4kP75F5zora6wr3uWiMJST6ig8eD71ENNdhi\n",
       "RVEc3x8B6RLG068dALPwUxj773I1e9aNLRQVkuD5zhIr7WR+du5HzCgKx1CwL14DV2gqC0JzkKl3\n",
       "ACS+1MjkQfSA3lcI0GpkQgp1AAFUfyX9r/kgJSaK74/Cl5mMHaA/Em4Kojy2OL2OvJG7HyPWjS1U\n",
       "ZBuANy3mftyL/pJ3+BR5EGrJMOZhGEKvdXc/gQDbAw6AxA9m5GZQWLoYh15QZ8ecg1EjFxsJibTn\n",
       "8UkXqaH/nG4XqYywOuuemU/aAUrzewavBhjQnF7HvLHJauLdaKHI4nGvs8fsopx+4+88Aw/m7Mel\n",
       "7TAuy3GuQXW24LjkTXtycIRJuBW36V7ocg7WyvfuwIWkChPNp1Z8LI+0ARRrzCj6+j5OCwU4avre\n",
       "YzFhILXJyWK7HROgsghb53hCPwvmYm0Au3T/lMZOWNIyHDqgmAozVUCNobGZOHAhsSCjjI+PjxWc\n",
       "JqZLAhx4+jltXXx8ocW27POei886GsRpQlhPDuoMGEAlyzfqUFuoQb1vhABKcWiRV6YAeqjabhXU\n",
       "GK6HqNj1pHKwzyhcA0nFb6bhe//I253dubq6vgL5Qosdb8IXXjnkaPi88ESPx+Ke4id6dWK2jc7I\n",
       "8k54dwZnCCap2qvLLVSIxgUFzYWEBNKuDxaKbUazIgr9601fGbYMjZVfWaCJhnntbo9VBasW9ZzV\n",
       "hJB8Lxml7mT6qwBwUzk3eJXfyaS2ZeFt3r76O4gqEa9JuXCb1fTh9LVFxvtqA69Iy7tVK7gXNYpV\n",
       "i2hL3pz8L+5FbXSS3Yvu+AdkkXzn4ug90wAAAABJRU5ErkJggg==\n",
       "\" style=\"display:inline;vertical-align:middle;\" /></a><br>"
      ],
      "text/plain": [
       "<IPython.core.display.HTML object>"
      ]
     },
     "metadata": {},
     "output_type": "display_data"
    }
   ],
   "source": [
    "mult_rational_nonneg_closure = Forall(n, Forall(a_1_to_n, InSet(Mult(a_1_to_n), \n",
    "                                                                RationalNonNeg), \n",
    "                                                domain=RationalNonNeg), domain=Natural)"
   ]
  },
  {
   "cell_type": "code",
   "execution_count": 34,
   "metadata": {},
   "outputs": [
    {
     "data": {
      "text/html": [
       "<strong id=\"mult_rational_nonzero_closure_bin\"><a class=\"ProveItLink\" href=\"proofs/mult_rational_nonzero_closure_bin/thm_proof.ipynb\">mult_rational_nonzero_closure_bin</a> (conjecture without proof):<br></strong> <a class=\"ProveItLink\" href=\"../__pv_it/theorems/1d5417cc753c7da09c142596b06a8ce07169ea620/theorem_expr.ipynb\"><img src=\"data:image/png;base64,iVBORw0KGgoAAAANSUhEUgAAANkAAAAbCAMAAADGQNr7AAAARVBMVEX///82NjYbGxsSEhJKSko9\n",
       "PT0oKChfX1+IiIgiIiIQEBB2dnbu7u5ERETMzMzc3NwyMjK6urpmZmaYmJiqqqpUVFQAAABvRl5h\n",
       "AAAAAXRSTlMAQObYZgAAAAlwSFlzAAAOxAAADsQBlSsOGwAAA71JREFUWMPdWOmy2yoMdm/bW7GD\n",
       "AL//oxYBNth4a8cnP+qZk5ATB5C+RcLT9E9ccvpHL+HyqwDxqRW9+8gyJubFYJqcSgP8+hUDfiaB\n",
       "0dAr1+llTkOjvpz8dk3qs9T/5Touc9DMJDYeKnpfeilfBxCe7fDJhqRQ6cKSBaSx+p7+/KRzZCyv\n",
       "yWgYG3f8y+zny8TXupaKs5qB+x1AJNIZFtuc9VclMg7lLgp7Fbk170aGYk/Ks8suerR37i28yHE4\n",
       "dGpNTE1kjmzO9JA01gtor+turjnDWyTmha3+xnK0mGqaVBYTsfG/byqzsTkIpch3eRLh3cAKO4gg\n",
       "t/qaV6j4FjRQLF0NcyVlBULoGuOKzATk+vUTEky+ptS+DBlU8YTbiQVrvOzxdRbkTpGTri4TwoS6\n",
       "BNvmEYD1E+R0csoL42+X72i3ckv1VIA5sj8bAWJhjIidAw2qS2R0NfT07uknAS5oMMT+kuerLQyO\n",
       "JwmoeVxGzikEWQTiO4BHR0tlwVfNJOyyl9szKeilNzHx74oxAWIggDlAoryzshfJaSPIDjqVzq5D\n",
       "J8px00aspSlhBsmhwkn7Zop9EVzi4BZt1UGdxBhbGLh49bgNVn2Ol5lxzv8UHVLLHHkwi5LrtnpR\n",
       "SbraLrY6u2CZLJERVw9RXcuhhqiUo6SJXFRC3/FKPppah1mNjKu24CbyEq0rzu94bxcjw6XZe+MZ\n",
       "ZrriftxpcV2zinUgDK0vvTeTQMRf/2Mq9IYYxvQ1G+VMK/j5rJphEWDo2MoOO8RWz8JlyTG1lC02\n",
       "JIUHYdavk2fJrunROuTvYILGxYrZILRYc66gRBaKX4bhRkpvUWEKvQMKDrKNSw8SnXpSIg2v+ZXM\n",
       "rOFSRZITYEcLL8v6FFnC7OcPJMxyGkdqQCVWNXIKMCQGjl1GTJMq3JWIjPoBKmLpG6+7Fb+wOq60\n",
       "I+X2vXqyYbdWzwWrFBelYZk8eaM3p2nThVUygtAmgh7VHsXagDG3+UK5Qb4GZ2tn1Dc9697qSe0Q\n",
       "e5mlW7zNZwUVJrdhI95UwGodBxI8Fz7b60ptuqsFhtsDmPV7r6Ri6mXd8lxOcroxpHOQ+ycBC7P8\n",
       "85M1PjpIxZTZGLS7Mv191jnJzHlZKnCSWVZ0a090BlQ8O8mttFZPj0dPjxshKsvVxSb80Hc49AHI\n",
       "fTSdujUWezJKt0rN0MaH9Kq94GFlOm7I3johsquJwnBCd5WQ+unZez1ymmfPJeCtwC5l6E7tAYNH\n",
       "ePa0LXzs8d8fkPoCFw3+qdt96HnjPvcZld97MjLe39fOBwAAAABJRU5ErkJggg==\n",
       "\" style=\"display:inline;vertical-align:middle;\" /></a><br>"
      ],
      "text/plain": [
       "<IPython.core.display.HTML object>"
      ]
     },
     "metadata": {},
     "output_type": "display_data"
    }
   ],
   "source": [
    "mult_rational_nonzero_closure_bin = Forall((a, b), InSet(Mult(a, b), RationalNonZero), \n",
    "                                          domain=RationalNonZero)"
   ]
  },
  {
   "cell_type": "code",
   "execution_count": 35,
   "metadata": {},
   "outputs": [
    {
     "data": {
      "text/html": [
       "<strong id=\"mult_rational_nonzero_closure\"><a class=\"ProveItLink\" href=\"proofs/mult_rational_nonzero_closure/thm_proof.ipynb\">mult_rational_nonzero_closure</a> (conjecture without proof):<br></strong> <a class=\"ProveItLink\" href=\"../__pv_it/theorems/cc0fc0cba349bcacceb4b49126c25c5de6cf734b0/theorem_expr.ipynb\"><img src=\"data:image/png;base64,iVBORw0KGgoAAAANSUhEUgAAAb4AAAAbCAMAAAA09RoyAAAARVBMVEX///82NjYbGxsSEhJKSko9\n",
       "PT0oKChfX1+IiIgiIiIQEBB2dnbu7u5ERETMzMzc3NwyMjK6urpmZmaYmJiqqqpUVFQAAABvRl5h\n",
       "AAAAAXRSTlMAQObYZgAAAAlwSFlzAAAOxAAADsQBlSsOGwAABahJREFUaN7tWoeS5CgM9V5akU3y\n",
       "/3/qEY1wnu52rXdqqZoeDwM06ElPAQ/Dn/b0xv+I4DduTKdPBuyz63pCiHrsqa3+Hugpn04Dw6BF\n",
       "fDKlH4L03TsLj08+tTPfxPh8shAqw8cUH5VoGmq/K3y8be4hBPHiNnSiTDVFB0hdNcTvDp+YTwbu\n",
       "GTvScEHpmAjNZKRNfBZ/hx87yAQfyYcivMHnG93YF+B7Y/qtqk7nbbGn7AlOBQQ+cqQini0nZfgo\n",
       "lGENPjN7+FG9AN8b0+9shq1J9Je38SQDYJYlsLTR1b/x8pDJc8pEwic+wycrlMglfgG+N6bf2aaq\n",
       "VeZBnGCPoynJqjsSyb9F8vzrh0jkiUKXKHjbfF/VCeZege+N6Tc2WfVzoE9SKtqbH4gQ+5OZHgTn\n",
       "xRaYLEDOxjFATBzqX0Y0+Gr48nWWGXH086g4Bkj1fI/a1oipQI/QoRl4UpboxrnByIxoY1YGpv4F\n",
       "FEWeNOoAoew1+F6ffmeuNC59oPIMFJzkx6dDrqfam0sxj4YsPWHgTl3gDb9tJDO3sxtdyCXBtwL6\n",
       "a/C9PP3OtEEs9F3T4DbEdLTJC0Mu5wg7S1nEBatILyQWtjigYIUpjh93fYNs8KWqjPK7mkRMrLpZ\n",
       "6rfhO5l+Z2oeTUuBg1XMO9btlLISp0lPE6VyuykVNIQz5v0bMOJv6ytB9CBpVmzOvYL1QRC52yv7\n",
       "qRKZZccVLYeth0rwQsRV/MDCCMN30vad6XfAJYz3DStTQ6eVKEiN8Wjel5lSL0unAiRXPs0024aY\n",
       "TvhtyPHm2jC01NJq2mP2OaHNEXvv+/jhd2H4IsWut2gyK8Z8HOKJ2F7VZXv6B8PIokaKsZQc1RA3\n",
       "1aQ5XUd0yPoKfFSgQzuyCXQbEj9U4Sc85Li1Yd239aSKA5UV43O1jDx3rU/iotlY62jW2KCdpq8R\n",
       "OOl08MO78LXp92TgVY2Ycon7rBqYMebnf8boQO1RcvKYPPkU92eL7juyqdBtiOUdfF8mCbxUE+ji\n",
       "m9eb0Djvc8d5kcLwMZfDIG51pO3oeJF2OBnI0+l9+Or0SG8WmFqT3lbvNj2uRs5qJKVL/4EBGnUW\n",
       "61su7uvuBWSBuhyOphV24MNDwpnI6xzflkICTeJGJgdrjTe16uL1cQ2kizxjhTBrq+IQIYn/1BbD\n",
       "F2QFYhe+On3gRM2agY6z2bt58PXIpkaW5y1F+IL1/fuPidaXNrFimpoY1VA9ougCu5ld6+uHDJLw\n",
       "I/c2P206xrYUEmiXxiTpuY3EotQ8T+ja4rwvqkplCg+Foe2Y6t3CZfg422DjuadONyb65FxC44j9\n",
       "Sq92YPQxT9b5TdHazUGxukzjvJ4wRJ5W7alngCFL2QOTyoPch68borbzoObe5qctx4iXmgWaButu\n",
       "lNDLb1FmGsfJnPG28T18rawjkxBlTCKx9UXR78M3oEAhlcOlQ9o799KorYdFJY3K6TVVqmqkO/I0\n",
       "x4E9rYIia1G4U15UARP1mQr8LNCUgi2dncBFs2oJ54EErnn2IU06cQSs6V9+6wD8KXw88p6wPF1N\n",
       "8XWvWtnW3nxrtM03PUiNUOhy+ibETFMbZeJT+JSQUpqP1CGQQC+Wz4O5gndSH8qJb8OXiqKQHGg4\n",
       "Q+WfXCDwF6wvui5tG3wpsUa9g9C1d+tjHumipyVDX86RSYPYpXvFpiZCLbPjcWLH+k2n2D5ifEig\n",
       "V+9knBcjFUeHtOi+7yhJFinfOima4c0a68peM3wyXu+j3szqqVdS1X90IwOHqLGaQtsRMaO/FtB7\n",
       "t59g/apK3qcuROf3w+57WaKSZxdeMV7Cj62spusjMWPQfKlGTMmLO27XtAqegR58Cr3733WRQPP9\n",
       "XxdbjYGSyKq3Wi7vorL4lsPG5oyzBi4V6NyjrkA+2D73ptn5e572cu/FnUiwF8sh3+U9z5UGFz0H\n",
       "Qqj9H2uqViKtvzaGAAAAAElFTkSuQmCC\n",
       "\" style=\"display:inline;vertical-align:middle;\" /></a><br>"
      ],
      "text/plain": [
       "<IPython.core.display.HTML object>"
      ]
     },
     "metadata": {},
     "output_type": "display_data"
    }
   ],
   "source": [
    "mult_rational_nonzero_closure = Forall(n, Forall(a_1_to_n, InSet(Mult(a_1_to_n), \n",
    "                                                                RationalNonZero), \n",
    "                                                domain=RationalNonZero), \n",
    "                                       domain=Natural)"
   ]
  },
  {
   "cell_type": "code",
   "execution_count": 36,
   "metadata": {},
   "outputs": [
    {
     "data": {
      "text/html": [
       "<strong id=\"mult_real_closure_bin\"><a class=\"ProveItLink\" href=\"proofs/mult_real_closure_bin/thm_proof.ipynb\">mult_real_closure_bin</a> (conjecture without proof):<br></strong> <a class=\"ProveItLink\" href=\"../__pv_it/theorems/cab86d4f65fef57faca17858d18d7fa2a36d044c0/theorem_expr.ipynb\"><img src=\"data:image/png;base64,iVBORw0KGgoAAAANSUhEUgAAAKsAAAAWBAMAAABNknGBAAAAMFBMVEX///+IiIgiIiIQEBB2dnbu\n",
       "7u5ERETMzMzc3NwyMjK6urpmZmaYmJiqqqpUVFQAAAB6qHgnAAAAAXRSTlMAQObYZgAAAAlwSFlz\n",
       "AAAOxAAADsQBlSsOGwAAArlJREFUOMutVU9o01AY/9K0SdokbTxM52WMgCAMQUQmiIciiBNU3qEW\n",
       "RLGZf+LYxeLEowYnXoQSBxMP/qm4izBdBGGoRbvDBkPBKF4GHir04mEwhYHefH+SLEmXsIM/+KV9\n",
       "v/f4ve993/cSgC3A8riJnLR8C+BcxjiexsbLw1emhttM7xDhe6rtN48h5C4M4q3asYVGA14uIaq/\n",
       "JeMHaa45mzGCvIMf03Hb2yCIHarfwEPJSLOV24wRlEhSPvbaypZN9TwCyLpptrzHCOYQUREbbNd1\n",
       "O7A1qK7gOPKpqV3xGMFhmgl2hud9G9EWT3WYvk/X96favvYodfu1QHy8bRWfktZbmg4l4fqKxfR5\n",
       "gEuptg89PrOE9aCMf1HNAoUePR/0qTE59ZtETvQGSB1fF+97f74ee3/PF/cw5g6BPOhr6jrwGqh7\n",
       "qW2oZJ9O01msCyjbDCa6xHvAbHJZGCl72kFGeQ0yZRoo6Q4bSmUQ18j8hI5hMFvhLEk30VUtVLED\n",
       "mO/quNM5WNSitrwBNbr/ECbeYM6FAo22GopWdEhCqW4v4EdlYYRs82sA0buDbfucaBJqGnwOt+0H\n",
       "BCpNSibct/N3SBKIfgJXMrdb/EPcdnEO3ZzLSqP+DRhlrLnwU/WrU6rjVINCj85pIdsqiYrqk7hi\n",
       "siOSwIW2Ys/SpfLF4OadZBQ0dUj2tWJbwIeRWfofBbZ38TUY9/QiziXf5Eg78HW5s2yapstx2Rf+\n",
       "4quMuR9HGzuCBuu2yPFZrc+NI/8NNgbmE9fX8QktYRHPlYB3r9FoucKMdzMhU2fsxS3vd+a8bm+m\n",
       "A2/dnEUVyKAl3HA0t3DEL5niMPailXCBAr3Q+nIcJlzxlQbSZXLNd5bPvPEnxzzGkfTii+vsRVYx\n",
       "zWZErkaacwNCwtclphdQwu4aYxz9CTmI6Qr8N/wDri2s/eSK+CcAAAAASUVORK5CYII=\n",
       "\" style=\"display:inline;vertical-align:middle;\" /></a><br>"
      ],
      "text/plain": [
       "<IPython.core.display.HTML object>"
      ]
     },
     "metadata": {},
     "output_type": "display_data"
    }
   ],
   "source": [
    "mult_real_closure_bin = Forall((a, b), InSet(Mult(a, b), Real), domain=Real)"
   ]
  },
  {
   "cell_type": "code",
   "execution_count": 37,
   "metadata": {},
   "outputs": [
    {
     "data": {
      "text/html": [
       "<strong id=\"mult_real_closure\"><a class=\"ProveItLink\" href=\"proofs/mult_real_closure/thm_proof.ipynb\">mult_real_closure</a> (conjecture without proof):<br></strong> <a class=\"ProveItLink\" href=\"../__pv_it/theorems/9b7482710fe78e8089de0b01a56711750d33df330/theorem_expr.ipynb\"><img src=\"data:image/png;base64,iVBORw0KGgoAAAANSUhEUgAAAY0AAAAWBAMAAADOX93WAAAAMFBMVEX///+IiIgiIiIQEBB2dnbu\n",
       "7u5ERETMzMzc3NwyMjK6urpmZmaYmJiqqqpUVFQAAAB6qHgnAAAAAXRSTlMAQObYZgAAAAlwSFlz\n",
       "AAAOxAAADsQBlSsOGwAABKRJREFUWMPNV11oHFUUPrs7P7s7u+sU01oxSphWquRFRGKQqqvQqiGV\n",
       "qW4LpTHZCgmyKN0SUEG0k/4siLBdixVBxEjaB7WUwQcDTcAtkhabirulEFtK2YA/9C0WCzUg8Zx7\n",
       "Z3buTjpZwuTBA2fm7Ll3z9zvnp97LsAKFDGKEJriDoclK1jfbp3S+Bp8/0GHw9JXvt8/9ew/3lPl\n",
       "elxog3TXg3Bk6JWuhvh8Oss5NEX8q8iX4cx5k+kRx1lSfRaEQyOPJKwQn9/jcHg64cdxBBS1wfSI\n",
       "4wMK33wQDpoHpTBfn3Y4PM0ux6FZFaZHHAkTX7XA/KBN2BHm6485HJ5iJn9vMIxKE0ee6XGhKQyv\n",
       "RHCeX8JXJUx6VDivASV4gny93vNHZleD6akgPW4YTwTjiBnGpjBZqmU5Q/m5MV89/m2j3r5oC5Mk\n",
       "VpLiJ4S4evuqxfSEYxJgOBiHVgTFDLmJxMle2N9qZ8JSbrf9uzgpxdzqFZ384eO31nM94ShDvCHu\n",
       "QHcf/Nho4sCx8qpjafPnN91djNY4v1qF7wAGvAiTt4LWBbmXf1/JEp/kmmVplhDy/NIeR084FNM7\n",
       "7g78UYAbkqmZ3jk4DH2rAkEm9Kx0xE3Occ4/AGwGdR1blPwPBdwCRLNgEzqAoeUZJExySF2g56iB\n",
       "lOc4lIEq19NC03oTojZJZ6JuS8J5Xl9dmjMTup7a6cPRA/IifotvbjcN5GFoHBbhGLUUUXu5JW+S\n",
       "Q0nmj92CP1R7mOuZJyrnMMamDzwA0EnDc9fGRByJFIaI3N/hhqUgepQ796IjMRO6HtnbGlfyX5Ba\n",
       "aOJgLtDhF4AZjiOI+KTZC+sIJ/9zVDw/Jktcz3DswAowMFGNWTJz15z02kkBh3QVg+wV66C7eEH0\n",
       "YuAR9Y4jMRN6ttTpDCk6Y/lfyFR+bcFRg5tptPT8St5lk45e3Aq9lM/MdkQXcOympgT1DMdhzOqj\n",
       "98M9ZpIV6DmwNwg44s+gMAWjeKyzrCExWT/bGky26hx13IT+/XaxWBLvg8u2LeJQ9HS3hsH9sLfo\n",
       "ivNgqeFNiu+swG2nhCN90cTxER5+BaZnODLk2XmYgNSnIyNvIY5cQux3/0R+Ch4C9TLDQWIMhlpP\n",
       "2vGIU+G4CV3vczsEtYvzYMe780URhzz/Qvk+d3N4CNruo7t1UkZnqRHlmTJYMN1+9w0Y+bJGeq9S\n",
       "PQlTqprl/kjWfX27fAfe3AVR0xXj5B7R/ZYyY86evoJLzvL8+GabO7bFYV46u/znnB1v34TGipqN\n",
       "e33I+XnydaOl9BwSLhjxBdgyx8/Di4A77rt/9KqLM4RDznIRCiTm+CMHMevgabOepxQc5vkh7RW7\n",
       "u9lAHKV33mt/yh6D6PvF4G5zWlhosgEdVSjhbPVRCzJ+HN/+jKOIQ32ai3jKozhqqb34GK0lp+v9\n",
       "GJ4f0sLQRPLjT+Qpd8sUizPbrZf+9rUizy4tta/lZyDSH9yUk9534ZO3jxSC74MUV2kubos0RSSe\n",
       "C1HoPLXcBKtgcn4N2kTFCta3ubhK4r1XvRf791O8aVq65YrkSx4Zg3DlrvfGMYfD0sZgfWTTai/g\n",
       "1buIKfgf0H/0+UXrk9FKCgAAAABJRU5ErkJggg==\n",
       "\" style=\"display:inline;vertical-align:middle;\" /></a><br>"
      ],
      "text/plain": [
       "<IPython.core.display.HTML object>"
      ]
     },
     "metadata": {},
     "output_type": "display_data"
    }
   ],
   "source": [
    "mult_real_closure = \\\n",
    "    Forall(n, Forall(a_1_to_n, \n",
    "                     InSet(Mult(a_1_to_n), Real), \n",
    "                     domain=Real), \n",
    "           domain=Natural)"
   ]
  },
  {
   "cell_type": "code",
   "execution_count": 38,
   "metadata": {},
   "outputs": [
    {
     "data": {
      "text/html": [
       "<strong id=\"mult_real_pos_closure_bin\"><a class=\"ProveItLink\" href=\"proofs/mult_real_pos_closure_bin/thm_proof.ipynb\">mult_real_pos_closure_bin</a> (conjecture without proof):<br></strong> <a class=\"ProveItLink\" href=\"../__pv_it/theorems/37241b0002a38e4c636513cfcd09ce58ac6486af0/theorem_expr.ipynb\"><img src=\"data:image/png;base64,iVBORw0KGgoAAAANSUhEUgAAAMcAAAAZBAMAAAB3HyeqAAAAMFBMVEX///+IiIgiIiIQEBB2dnbu\n",
       "7u5ERETMzMzc3NwyMjK6urpmZmaYmJiqqqpUVFQAAAB6qHgnAAAAAXRSTlMAQObYZgAAAAlwSFlz\n",
       "AAAOxAAADsQBlSsOGwAAAzdJREFUSMetVl1IFFEUPuPOzI4zq25/D0GJbfb/kElZvW0PhZHFQCJE\n",
       "oGvkVGS0UA9CoCtB0EuuhCEksVA9BEaTROUPthIKlg/b9tJD0AolBAYJWRYInXN353d13Y0u3MO5\n",
       "Z+693/m/A5D3eAOFDh2nUtCJEr1gkBBOKVTIiVNEpGy5lBsExgoBaSWyMVsu+51r323t9+ZWC6RI\n",
       "BUgR83FlDKmKXBZ0ChuqkWxw7RSllDzbYoJwiDBETO/KIErQcJl93MVZrLpBghBqB0XTajS0SJgH\n",
       "aM8zOGUxJCNu6SL5R88GeVlsWgJ9aT34xMogHaRvlTse80T3pRfcmcAOE0S0QJ6jHnEEyiPuqykk\n",
       "UZeQr8ioSoDdqmXJl0YLZA3O6kBgbx4gX4243DrUaQqLp8vRCScYf1O13OW91GuBPMEPLwBalruZ\n",
       "t1iN7kSr5QNw2Yx0U4+wADAJjuQRpYO7N6lGxaOjw6gZSKllU8pi71HKo9on4zBgCj+psAfgPeOj\n",
       "FkjduN2vXZgyosrHjLX3ToZJHh3tdoLswunBja8AKpkRdM8gwA9UlR1Ftwe2ZtzVMmUDacJTJX5b\n",
       "3D/T9nItxvFQG8yyhEBqQPjDCpl8UQkyJvF9WgshWwpfE2210xUmO23dZT/OYRRyHIz7+eGB4SGX\n",
       "u4Q58H23lYmCSZxkfIUNRGmzVV5HBMnxHiT1Y7VkxFy5ysWBgazTHZbM0HE/CItQGv1gCH9RiGCC\n",
       "8atsIELI1msou+A6xl3Y7l2gu7dwegMrLF5qjjtAKNt53NkMSd0s8Vm4iPRZOp0TJogOU6IZZ3hN\n",
       "pBTdo+heqmYx7ov2MxDlbMgZeNLHiy5pXNs2HTaEjcfI7J2MF2YeGl34Z0S8sGieHDUYT4yaJXjC\n",
       "SmpS07QEx/GPnXVCQYdtS/bnTDTkI+m24h59ZppFxHFUtQw8iavMEk5+oGZ34bdLFlM8Z6sQ5k09\n",
       "Ix39aj0+MBPAsg9T+LCzuabdGVnilhu5+5HPLHV55F0dXEl4n/pBOofrR+uDpwedm785isE2zucG\n",
       "KXIpls6Pek2LLffGd2bLuUhuENcbL6s5/1aC8C/D/SD6/vd/F0sL1PwvOhO6c1mOxXcAAAAASUVO\n",
       "RK5CYII=\n",
       "\" style=\"display:inline;vertical-align:middle;\" /></a><br>"
      ],
      "text/plain": [
       "<IPython.core.display.HTML object>"
      ]
     },
     "metadata": {},
     "output_type": "display_data"
    }
   ],
   "source": [
    "mult_real_pos_closure_bin = Forall((a, b), InSet(Mult(a, b), RealPos), domain=RealPos)"
   ]
  },
  {
   "cell_type": "code",
   "execution_count": 39,
   "metadata": {},
   "outputs": [
    {
     "data": {
      "text/html": [
       "<strong id=\"mult_real_pos_from_double_neg\"><a class=\"ProveItLink\" href=\"proofs/mult_real_pos_from_double_neg/thm_proof.ipynb\">mult_real_pos_from_double_neg</a> (conjecture without proof):<br></strong> <a class=\"ProveItLink\" href=\"../__pv_it/theorems/3b98d5960093d90daa2ecb9271027339a12fc54b0/theorem_expr.ipynb\"><img src=\"data:image/png;base64,iVBORw0KGgoAAAANSUhEUgAAAMcAAAAZBAMAAAB3HyeqAAAAMFBMVEX///8AAAAAAAAAAAAAAAAA\n",
       "AAAAAAAAAAAAAAAAAAAAAAAAAAAAAAAAAAAAAAAAAAAv3aB7AAAAD3RSTlMAq1RmmUTNIjK7EInv\n",
       "3XZ/CtNrAAAACXBIWXMAAA7EAAAOxAGVKw4bAAADMElEQVRIx61WXUgUURQ+ujM7szO700JPEchC\n",
       "UQ9lDRSCErLiKkpUW0IPFbRgEAnaChFIottTRILzUNj0oyNFYAbaD0k9hC9RFoYv/bOwW9CDRYQg\n",
       "hpF07t3Zu7N3t3U2unCGM2fuvd/5PwPgenmiUOYSbCpjbSwXA3xIklHOCSVGjhTKpdIgUF+WWjo+\n",
       "PhXKxRQnqJkZ6ZzRGUjAAggSZoMLkF6kysl82dgsPj7zO41u2F9rZUE0RGgizHEXILuRbvHCY0he\n",
       "iwc5Az45CK3mNdPUQVkGOOs2OItIjbxwgWRduBBEiMeylkB7Rg81tDqGjArBNB8PIoQXmRftevJN\n",
       "DsRgIK2oB4bI68IQbQ5DEuOE6pytKgHssnKWVNwOMpBvSLPJ5EsXIBUIIJC4dz/pY0JvVRqdcJfy\n",
       "py2Hu85vijOQo/ihBeCKmwxG+71otfgMRth1Ex3KEuYs5CeP0dv5ex5YtQ8mUDOQgi5AvLgpgGrf\n",
       "0WEPE2634BXAVsrHHIHf4UzDfmxHPktlTUk+YTPVDxu68kECmEN+3LgP4CM1glzaDPALVaVH0e3J\n",
       "9zaI74aeOzmBpypTjrivJ9vTZlRTYWqywBICMgPKYhYU4URM4iO06xgOS+SwIwL9CWKno7s8R4qg\n",
       "UNOgLiVFIpEmzl3KCnh+OMpEwCSupvycs05aenJ3DpIcuNeBj/H6KWLEStrSiKUIMp9fYxWoqS8F\n",
       "ygLm2eas8CcJEdRS/rsTZEzL+YtkF/SijspbeYnc/UELj9GqUKVhPb9OsBBV3DkM1WEGvxYu2g0H\n",
       "TWUVbZzC6rvETu6iOqJ7hLA8TTutJ9ZGrxSuGoXFLaNLRr+eq0pkhaMPiCavM6Ng3SHWhYfAPMkw\n",
       "G7KMP0qaJfgTQrDGNM2QpqkHuBx+ivSuWHJLdjTER3Zb4VY7S7O4rw5dtwb8oQvUEk08bBV24Z1F\n",
       "h6xeetgtM0vig23WOA6YWqwbGhN4zDXXAeLOeJFbelb5NWClLjZuuw8DIXlvCqTL+H7wy+TNZq55\n",
       "hfKKIbeGSoMEOMUysRo3zejfZnxfkfYcLw3CzXjRKrl7C/zL4gei53//d9G0QM3/ACHsvZ7p1PMi\n",
       "AAAAAElFTkSuQmCC\n",
       "\" style=\"display:inline;vertical-align:middle;\" /></a><br>"
      ],
      "text/plain": [
       "<IPython.core.display.HTML object>"
      ]
     },
     "metadata": {},
     "output_type": "display_data"
    }
   ],
   "source": [
    "mult_real_pos_from_double_neg = Forall((a, b), InSet(Mult(a, b), RealPos), domain=RealNeg)"
   ]
  },
  {
   "cell_type": "code",
   "execution_count": 40,
   "metadata": {},
   "outputs": [
    {
     "data": {
      "text/html": [
       "<strong id=\"mult_real_neg_from_left_neg\"><a class=\"ProveItLink\" href=\"proofs/mult_real_neg_from_left_neg/thm_proof.ipynb\">mult_real_neg_from_left_neg</a> (conjecture without proof):<br></strong> <a class=\"ProveItLink\" href=\"../__pv_it/theorems/eec9cfdfe099ac74067411c658d6b7457a2f3c840/theorem_expr.ipynb\"><img src=\"data:image/png;base64,iVBORw0KGgoAAAANSUhEUgAAAOkAAAAZBAMAAAAmixTJAAAAMFBMVEX///8AAAAAAAAAAAAAAAAA\n",
       "AAAAAAAAAAAAAAAAAAAAAAAAAAAAAAAAAAAAAAAAAAAv3aB7AAAAD3RSTlMAq1RmmUTNIjK7EInv\n",
       "3XZ/CtNrAAAACXBIWXMAAA7EAAAOxAGVKw4bAAADfklEQVRIx7VWXUgUURQ+ujvuzKxOkiDogyz0\n",
       "0EvWgiUkIStulkS0JPVgQYZCZCHbSyCFriD5ELSLZjZGNoIEYuSUluhDiA/9Yvhgv7Y1ZvTQj4iQ\n",
       "lkF07szuzJ3ZbZMRL+zl3LNz73d+vnPuBbA/dtja5YQ1jXSfrW2uyJpQb6pnJDn2P/tK14TaQaaP\n",
       "iXpGMa8dp8Wldx3GOksCyCbCJjuRGidRls3K/kmc5ixfcq5sJqdbXwoIuZsIJ+ywQo5HmR51+MuQ\n",
       "rKgyRFqAFXF0AfArAC12E7whgFO5VbtIQupLRN2TYaxrNcPcHhuoYeLRuDWnK2R+Ggvl9ehLHZUz\n",
       "PqpEw7yIbIdM30laayxK91TMGWJBg2T4mt9rfPQNf5PR6DM7qLnx3J550KQrMwpmMW53VPmsZESY\n",
       "baeocwz/2AvQvWooirIiAcFAMY/ghk6fwXp+GaAYTBTlXA8/vKcYFg6hqeDKXjUqxZPjpPTQsVte\n",
       "2K8rt0nwHGCLKtcYqEMldCqakYec5A5QqsL7ZQ3G6kKM3ekzdbmKGXUaf5m48wDADIr8ElFWAPxG\n",
       "Z4jIYuqib2IR7i6iIAZxV7qik4mdFQOCG0aMOKYR8VJeJyiy+1yirwT1CfA/4lYgPoO1c5SIfISq\n",
       "nFaOinBziERCb4x+XAoClCguv9+vto9M1Dgx86Aojtsw7J/2BywR5v+AY4EqVyfWTqEqT1Gozjaq\n",
       "JYSDON2tx2mgdAQEL6ioXwyPwvP5WoNTFKHP7GseOU8BfhHSajbHlT9JmmGnKs9TqHxkzsxhOI9k\n",
       "4l+xy9Cvlrbb1eM1ilL6pEVKkRvnzKik6ty4tQcKfbo6By7jvE+rIo+O6oMiziDPLjV3JIo+dhyq\n",
       "VFTntQh9rxQzqg1K5aiFw8RiFqPY+7WtIBRX9g6Tr1+oMp9XHb9zfgW5K4v6zrK4kBnAm6AYu7NH\n",
       "ENwHjaMfQ5njpCi2Y4Tvecz1SpgEr5PeRrGMMqNaR7SOWp3MQa5Euqj6KjBHDL4twAQra3k9NJbk\n",
       "ztme9Dbypqx5fkU3PBiuklR2Y+WMxeLIy/DWEdE6F1ZOn3kzSzo/F0xybGPqTuPQmxJTvnUIXFdR\n",
       "OvxZ7quInTsBrUjExhDp5Kd4v6XVbzQVJTW6UqNmWSwdEMWA6T2muTwqdv7z3dSUqBeCa3s3Vad+\n",
       "I8rr80b0rst7GNnzF2c35r2AunVNAAAAAElFTkSuQmCC\n",
       "\" style=\"display:inline;vertical-align:middle;\" /></a><br>"
      ],
      "text/plain": [
       "<IPython.core.display.HTML object>"
      ]
     },
     "metadata": {},
     "output_type": "display_data"
    }
   ],
   "source": [
    "mult_real_neg_from_left_neg = Forall((a, b), InSet(Mult(a, b), RealNeg), domains=(RealNeg, RealPos))"
   ]
  },
  {
   "cell_type": "code",
   "execution_count": 41,
   "metadata": {},
   "outputs": [
    {
     "data": {
      "text/html": [
       "<strong id=\"mult_real_neg_from_right_neg\"><a class=\"ProveItLink\" href=\"proofs/mult_real_neg_from_right_neg/thm_proof.ipynb\">mult_real_neg_from_right_neg</a> (conjecture without proof):<br></strong> <a class=\"ProveItLink\" href=\"../__pv_it/theorems/18a06a0ac528ee19d415344f26395881b1f5d57b0/theorem_expr.ipynb\"><img src=\"data:image/png;base64,iVBORw0KGgoAAAANSUhEUgAAAOkAAAAZBAMAAAAmixTJAAAAMFBMVEX///8AAAAAAAAAAAAAAAAA\n",
       "AAAAAAAAAAAAAAAAAAAAAAAAAAAAAAAAAAAAAAAAAAAv3aB7AAAAD3RSTlMAq1RmmUTNIjK7EInv\n",
       "3XZ/CtNrAAAACXBIWXMAAA7EAAAOxAGVKw4bAAADf0lEQVRIx7VWXUgUURQ+ujvu/OgkCYI+iNBD\n",
       "L1kLlpCErLhZEtKS1IMFGQqRhWwQgRS6guRD0C6a2RjZCBKIkVNWog8hPvSL4UP/tjVm9FApIqRl\n",
       "EJ07s3tndnZbYRYvzOXcM/fe755zvnPuBbDfdtha5YSUWrrH1jJXKCXUm9oeCbZdY11ZSqhdpPsc\n",
       "r2fU2LHjlLT8ocsYZ8kA2UTYZMdTE8TLSqxycAq7OctMzpXN5PTSoYiQu4lw3A4rlKiXza0BvwzZ\n",
       "iqpAqA1YCVsPAL8K0GY3wBt82FVYtUvEpZ541D0ZxrheP5hQaAM1SCyasMZ0lfTPIq68Hn5NUTlj\n",
       "UhUezI3Idsg0T8JaZ1EK0xFjyAmaZMPW/H5j0g/8psLh53ZQc6OxPf2whSozCmbRb3c0+axseJjt\n",
       "NFHnKP7YC9Abv6ewJqpEQNBRzGO4Qekz3MivAJRADEU516NPH00MCwbwqODKtlO3jpHUQ8NuuaGa\n",
       "KrfJ8AJgiybXGagjpeZQtCIPOVnwmVRFD8qbDNQLEXanzzTkWpL/JX6ZuHI/wAyK/DJRVgL8QWOI\n",
       "yGLowu8iHu4tNq0cxlXpKiUTOyv5RAFGFYqaRgJ3Ka8bVEU4F28rQX0K/M/oKRCfwdw5QkQ+ZMqc\n",
       "ds7k4dYA8QQtjF4ciiKUqoK32quVj0zUODHyoKqO23DG6/X6LB7m/4Jj0ZSuTsydIk2eNqE6O0wl\n",
       "IejH7m4jdkNloyC6QUP95qG2Bhfy9QKnquJArK15ZD8V+CVIq9scVf4iYYadmrxgQuVDc7EchvNI\n",
       "Jv4NuwKDWmoLrj43RZ2Xv+ieUpVmS3klWSfg0j4o8tBilAOXsd+nZ1EhRfVAMWeQZ5cWO+JFDzsB\n",
       "NRqq81rIYFMXlDBuDbVqzMJhcmIWvdj/vaMgEFX23yOzX2kyn1cbvXN++7krS3RleVTI9OFNUILV\n",
       "uVAUhQNGvj6BcscJSepED9+3lE3CJHib8DaKRJQZ0yuitdVTMvu5UvmiZqvIHDb4tgiTrKLH9eB4\n",
       "gjtne8LbyJ000flVenB/sEbW2I2ZMx4JE6/Ae0dIr1yYORY2saTyc/4E2zYnLy8OWpSYiq0j4LqK\n",
       "0qGvykBlZN9JaEciNgdIJT/Jey2lfmNMUppaT3LULMtJhyTJF/Me000ek7r/+25qideL/tTeTbXJ\n",
       "34jK+rwR3evyHkb2/AOGTuNI2e8xNQAAAABJRU5ErkJggg==\n",
       "\" style=\"display:inline;vertical-align:middle;\" /></a><br>"
      ],
      "text/plain": [
       "<IPython.core.display.HTML object>"
      ]
     },
     "metadata": {},
     "output_type": "display_data"
    }
   ],
   "source": [
    "mult_real_neg_from_right_neg = Forall((a, b), InSet(Mult(a, b), RealNeg), domains=(RealPos, RealNeg))"
   ]
  },
  {
   "cell_type": "code",
   "execution_count": 42,
   "metadata": {},
   "outputs": [
    {
     "data": {
      "text/html": [
       "<strong id=\"mult_real_pos_closure\"><a class=\"ProveItLink\" href=\"proofs/mult_real_pos_closure/thm_proof.ipynb\">mult_real_pos_closure</a> (conjecture without proof):<br></strong> <a class=\"ProveItLink\" href=\"../__pv_it/theorems/17f702e5db436113ac93ce7a6a075c1987f821980/theorem_expr.ipynb\"><img src=\"data:image/png;base64,iVBORw0KGgoAAAANSUhEUgAAAa0AAAAZBAMAAABwVGzTAAAAMFBMVEX///+IiIgiIiIQEBB2dnbu\n",
       "7u5ERETMzMzc3NwyMjK6urpmZmaYmJiqqqpUVFQAAAB6qHgnAAAAAXRSTlMAQObYZgAAAAlwSFlz\n",
       "AAAOxAAADsQBlSsOGwAABRNJREFUWMPFmG9oW1UUwE/SvLyXvCS7m12dOKXEjVXyJcioYUyMwqbO\n",
       "Km/aDWR1iYpBymQtBRVk9tV1+SJ0cTgRRI10fvAPWxi4QlMwQ6rYOk39UhWRFHTSD0IdFmdB6j33\n",
       "vvdyX17zkrpsHsjNyz33vbzfOeeee+4FcJNItAtaJTNwvUXFpkA/m6Jl95GB1v1puHDdufzYZLEJ\n",
       "lW4Y1xPYKC14kO7OFSI3lusINre14EHv1/z+qvvoqe6SxQXbOVcFr3+qz+Wqb16UOMZisgVcnlpf\n",
       "pMfg7BeaxXU755rE67fqc7nq1zGnk2YsXrOcruUaBb9cgQuZZzIZypzSGNcraMx0fS5XffOyIU+b\n",
       "qZZwzTq5VD1n+StQYlwBiucr1+dy1Tcvwxgo8ZZwtWn8uyMazVlcaYtLTTMuTB0Bl7zhqm9eNuH0\n",
       "yrWEK8An2Iebq/6KHKhYXJ44f+m7otGdbvnQTd+8LJpzbOy+kZqM8ssW0jjtCIN8LJUpp4U4fOEH\n",
       "3eIKLnOuCYBn3bjc9A1ESH8Zw9DBBBzVbIPGdf9ywyeJg0LM7QFrHUsfP3Vls1VvgPwX5xoDpSJa\n",
       "JrYPPq8IXDX69YhQYrxLP146TR8vwXmAvmpESrtB7YTeR391exAfZFYucfvSmh79Wky0ygrn8mu+\n",
       "vNk3eLkffvZpqiZwifpma6Ztby8SO1cMJzx9zmcA20DeyF5S+huNvATeJB15HntSzhkoDDJEXsJ2\n",
       "KEolzbn8fcKaJhlcYWKhqxO4BpOCT4xDQd+UoG1I0jfq9BdydbP/DXdWYdOQysMKnBxAj65RRFYH\n",
       "GRJk/joo+EsuCDNFMeIQchfpxdTgrQBbsX/+xxEbF9OvYwFG2xAS2g8PF2PFfE0cSn9AaMniYi4i\n",
       "8C3ANOeqJ3zQ7JcbkZvf7BXXr4lsdax81eB6hGaWvvFSmy4xt877njxj40I99F580PRzT7uz9Kx2\n",
       "MtsQ4jlk99dljGgC0j8QyX1v4yrDYpjee7+bsdigEzO7IYF5g72mhwhcB4XiysyHcJymhRO3wAYt\n",
       "yJTzUOiwcaFe6kIzMHlMH3ZyWZ3cNiSZ3WrnuslI0E/Bd4WCyOUn4RhNZPL2KkTOmFWsqQ5S9udg\n",
       "2VwuAN6xuF6jHP3W7SFj/YIIRsACjEPozUzmecrVG7BxoV4tyHFQWBQXYQiCc5N2Luzk1mK2IRf2\n",
       "1uTDczQVyZTmcPtLCwMil7TwwNjNdNtUTf5sksXMqSUMihA2tbw8uA/3a2Y9/xxk3rNKIrUi7lPu\n",
       "hqIsJ7m/gnOOfUpb3lOBY8ymu2jF3AYpO9cuVkajtZhtCNlXtq9fmDNgh5UwO2vX3YKiNy6gBtQC\n",
       "tfGrxs8zT0dzdcoRi0tZgh3zfP2dAfMdBa6U7p/W2NZGugpHDiime0x7Ymdo8lISuG0I+WjPGvX8\n",
       "bF2u7Isvaw25ToL32EDD6tmo543wqUB7CbL0LvlOHSJOf+nDnyCXlISEvDINQOO5F39hY3SGO6DT\n",
       "qE1onj9k/zcZI8hv+ER56M+a0une1dXGqfYseHoaby6+ce6Xpb2Z/rX3y8GpuR7cisr3wMeXqAVU\n",
       "aoGhspyAIV1OmJ2/KTQu0DbB19+QijUx8ruVVK71FKNBwHat/xyAxmGYX+3x0MaaqkZnp2dGc9pG\n",
       "PN8YaQHXFnf1fzjfGNxZhg94/+oV6hVrRvBOqRLucamtWnEG0IQ0dx7lOD8Ubgit1fl/nh8y+RQ3\n",
       "e3eU/gXdr1Fcs4IPFwAAAABJRU5ErkJggg==\n",
       "\" style=\"display:inline;vertical-align:middle;\" /></a><br>"
      ],
      "text/plain": [
       "<IPython.core.display.HTML object>"
      ]
     },
     "metadata": {},
     "output_type": "display_data"
    }
   ],
   "source": [
    "mult_real_pos_closure = \\\n",
    "    Forall(n, Forall(a_1_to_n, InSet(Mult(a_1_to_n), RealPos), \n",
    "                     domain=RealPos), \n",
    "           domain=Natural)"
   ]
  },
  {
   "cell_type": "code",
   "execution_count": 43,
   "metadata": {},
   "outputs": [
    {
     "data": {
      "text/html": [
       "<strong id=\"mult_real_nonneg_closure_bin\"><a class=\"ProveItLink\" href=\"proofs/mult_real_nonneg_closure_bin/thm_proof.ipynb\">mult_real_nonneg_closure_bin</a> (conjecture without proof):<br></strong> <a class=\"ProveItLink\" href=\"../__pv_it/theorems/5d0662d319bc75bec6d59e8d2acbd8970816763f0/theorem_expr.ipynb\"><img src=\"data:image/png;base64,iVBORw0KGgoAAAANSUhEUgAAANcAAAAaBAMAAADWJdTsAAAAMFBMVEX///+IiIgiIiIQEBB2dnbu\n",
       "7u5ERETMzMzc3NwyMjK6urpmZmaYmJiqqqpUVFQAAAB6qHgnAAAAAXRSTlMAQObYZgAAAAlwSFlz\n",
       "AAAOxAAADsQBlSsOGwAAA5hJREFUSMe1Vm9IU1EUP2/be3t7m239MYhEbBWFEZlUWp/0Q2Fo8qAR\n",
       "RKAzcpkpjeyDELRJ0EddhBFkMUiCwGqF/VHDJqFg+GFaHwqEJlQQaSS00kDonLft+bxvtk3qwTk7\n",
       "O9x7f+ee+zvnXoD/+ZkblR9TedlKZr/OcryrmfQQ3AVr1lg5oWxncE2oSsDuF93ZTj1Oyq/3i8tP\n",
       "sdWBGANjBLeX5UdhchG9X3IwCNc885ubEnapOQaGMBhkgCg5JjPDEotQvWWcx4pR5TFOQYxK0/Vk\n",
       "8YeCCGZ0AIdI/eS5kRmYFUnFB1jvTRSLzIKVgfsSxTfopTTaI8DHABRPhodnDyJgmPUuUK5CerDn\n",
       "Flz5mzdBEICueEymSGZgPhxr1J1XjPTe+J/1TmdABROA/6qwaTU8QP0UY8JILRnyYw3Ke9ZpKiDd\n",
       "pdj3cjU7+1QDvJwo6ieo16IUO517MgT7gtJLRnt5m+q0TOVjYqoVAnVq0mhuZpjwEJGfAdRnCOZJ\n",
       "bEEqhXMqI2o7+TmAUQXXvwi2f9cmhjQ+PL52EKOp1+Z7aXjbuLrEbZSdKEfD8Fgd9UGG3QBvFDAN\n",
       "QaqG8fDMHvwaEr4OpJcgm4Jq47yeMCYOD17FtFQiTieoZN+BcgDlJcAWCmaenH0APzBsMluc+LkT\n",
       "aawfY2KvRZgch4YfHwkx3xPkTFBBRbUxyBclmRbfGYHtA/53EhxhJST/HaW+tdS/KDBp7KAqCGi6\n",
       "VgnKADo5DoapBYmFYgFsY9LIz4Ltu6bMrEj+CTINWjBrK1O9PjqOI8Qh11AFbWo2X+aoahEsF+vU\n",
       "3CvjzkqTwz+j1CHYAqwKvEs6f9ERwojS4h0aMN6dp2cjXEZ+8NvNczR6KxdScsGZxLowSNO08cUz\n",
       "o0qpVgAnQmrLmIazyYqAW4tgIRgTgkvAXpFahWmzhszUZIWwLdCjgFlPuYGfIbNt0q+N7Tz+1qxr\n",
       "nfImnTWVlIrCuN0oJ7v+T79wZmEJ2GDSMAapKYPRa42OIlsjHGe6r68FI4Zq8Ka8Dwriv90nnYHl\n",
       "qrRLpaVfGMag7HjLXVB2xkndsjgwMNDPdn1bysta3571VRtTY/b7emQXXnAjoDAWqX9Qv6qS6oZU\n",
       "K11J335sauuQXoxXQUvE/MgB4mnqqBvKTvTpJ8wsKSbN15AezMA8J+I3jcvjCf7lDSI6Ujxr/OnB\n",
       "mDeIJKd9Xa3o/RenEFPitn//btRQCHfyB1Al1YlaEcwDAAAAAElFTkSuQmCC\n",
       "\" style=\"display:inline;vertical-align:middle;\" /></a><br>"
      ],
      "text/plain": [
       "<IPython.core.display.HTML object>"
      ]
     },
     "metadata": {},
     "output_type": "display_data"
    }
   ],
   "source": [
    "mult_real_nonneg_closure_bin = Forall((a, b), InSet(Mult(a, b), RealNonNeg), domain=RealNonNeg)"
   ]
  },
  {
   "cell_type": "code",
   "execution_count": 44,
   "metadata": {},
   "outputs": [
    {
     "data": {
      "text/html": [
       "<strong id=\"mult_real_nonneg_from_double_nonpos\"><a class=\"ProveItLink\" href=\"proofs/mult_real_nonneg_from_double_nonpos/thm_proof.ipynb\">mult_real_nonneg_from_double_nonpos</a> (conjecture without proof):<br></strong> <a class=\"ProveItLink\" href=\"../__pv_it/theorems/c42c6f078adca429a131d05a555881c0267fe2790/theorem_expr.ipynb\"><img src=\"data:image/png;base64,iVBORw0KGgoAAAANSUhEUgAAANcAAAAaBAMAAADWJdTsAAAAMFBMVEX///8AAAAAAAAAAAAAAAAA\n",
       "AAAAAAAAAAAAAAAAAAAAAAAAAAAAAAAAAAAAAAAAAAAv3aB7AAAAD3RSTlMAq1RmmUTNIjK7EInv\n",
       "3XZ/CtNrAAAACXBIWXMAAA7EAAAOxAGVKw4bAAADmklEQVRIx7VWb0hTURQ/uj9v7217Wlb0B2Qg\n",
       "1IfSBpKghEya9o9qJQRh0MogkogJfQlCFwR+yHBoZjOyJ0QQBs6MpD6IX0orDImkqFYTIcj+EEJa\n",
       "C6Rz7rbn874tN6kL5777Dvfe3znn/s65F+B/Nks7+1gHQ0tZvSXD+T2t1JfDITBmjJXtynSF3Ibd\n",
       "COT4hECmS29R59PrhdRLDF0gRMHmQPcybGSm7NDrTREO4VRw5l1bfDxsiYLdCXYFIJcUBelhCUPY\n",
       "beSUt0exm+SUopBryuukkfTAg2C2CMiIVEmaE+mBGZFUkpfXHkcxKzxYCALnyb4KP4UxxwFSFIBp\n",
       "0jy8HA8COnntNMXKpQfbbsadl/njBAGojdlkdaQH1oJzbbrzilL/NPbzKRz2qmAiSCsYm77Bfux3\n",
       "ok1oqTlNfnxFWc8rrWPU17LxwSmNZ2u7QVLiSb0L+y8oo+HwszTBVqHspkH9YIOqNOdPYGD6GIHq\n",
       "NGG0tHJMOILIOwA6U+8vaX+CcRdMw3BDZURvnTQLUMJwffNgjz+850jTgsdXD0Ju6pRcDQ1F6hZH\n",
       "UV6g3HHCHnXKZgWeA2xiYBqC9Jfh4VmC2Driukakl6hYPWrhPBkfFN6vOE2lDd2uA5XsL1EeoewD\n",
       "eEtez5CyCuA3mk3D5jC2QDyMncWc4b0Ikx3R8GMdIU4EPbIVBkJwZgB3HEowLeYZgT0B6UcCHGFN\n",
       "SP7DLL+11L8gcmFspCzwaqrWCIoblbIMZRFhnA59DF5zYZTmwPBdk2ZGJH8hDe1aMGMTl70tdBx3\n",
       "iUM95QPk1NyEIlPWItiUCwwrmWfDielrULpQNQ1Z3g0J5U86QihlJT6iAZMCk3o2wjnkh/TKMkuz\n",
       "38guFgvZKnThFtl56Pj8mVGm9DHAQpdaMvLgciIj4Ng8mAuKRc8CsK3UZWHYjC4LFVnRafBWMzDj\n",
       "NRYESyU0FPi0tl3Cb/fnpnx/Qtl9j0IxHhu3K4mq/8snXpleAFaRGNg8VJTB5jfmliBbHbJsPaBP\n",
       "BBuaavcnvQ/GYt+a62FvqjSqVWnpE8vQqBy85S4yz2RTjSK43e5Kvuobkl7W+vKsLw9R1WZfS7XS\n",
       "gxdcKTDGIvUf6ndloe5IttPZxWudQS0dpm1F/dDssOyNgHCVKurH0M0q/YLlC5JJ0zoWB7Nzz4nY\n",
       "TdMTDHr+8gYRIkmeNb7Fwbg3iElZ9HW1pPdfjEJcihv+/btRQyH05A8W7t3NPaT0igAAAABJRU5E\n",
       "rkJggg==\n",
       "\" style=\"display:inline;vertical-align:middle;\" /></a><br>"
      ],
      "text/plain": [
       "<IPython.core.display.HTML object>"
      ]
     },
     "metadata": {},
     "output_type": "display_data"
    }
   ],
   "source": [
    "mult_real_nonneg_from_double_nonpos = Forall((a, b), InSet(Mult(a, b), RealNonNeg), domain=RealNonPos)"
   ]
  },
  {
   "cell_type": "code",
   "execution_count": 45,
   "metadata": {},
   "outputs": [
    {
     "data": {
      "text/html": [
       "<strong id=\"mult_real_nonpos_from_left_nonpos\"><a class=\"ProveItLink\" href=\"proofs/mult_real_nonpos_from_left_nonpos/thm_proof.ipynb\">mult_real_nonpos_from_left_nonpos</a> (conjecture without proof):<br></strong> <a class=\"ProveItLink\" href=\"../__pv_it/theorems/c7657ba6037b36fe71b7ffeffda78b10058d7c3c0/theorem_expr.ipynb\"><img src=\"data:image/png;base64,iVBORw0KGgoAAAANSUhEUgAAAQEAAAAaBAMAAABFpPQiAAAAMFBMVEX///8AAAAAAAAAAAAAAAAA\n",
       "AAAAAAAAAAAAAAAAAAAAAAAAAAAAAAAAAAAAAAAAAAAv3aB7AAAAD3RSTlMAq1RmmUTNIjK7EInv\n",
       "3XZ/CtNrAAAACXBIWXMAAA7EAAAOxAGVKw4bAAAEMUlEQVRIx8VXbWgcVRQ9O7OTmf2atFZLtSAL\n",
       "lYIUS8ASaZG6IRtN6Q+3Fv1hxa62ILa0TiB/QpJmhSIUY7MooW4/pxiEGmlGRWNThBApWkUJtVKx\n",
       "LIy1GI01BEELAcF732Sek9mt3XYjDux8vHfffeede+59b4H/5brfwtlfF82bmrt1AC5UVysiujgI\n",
       "7rvlEeubgGQB16EXFwNAPM93q7LDutGIX9J067MxAWxcDAQxWhDMdGXHs6Hv5vMn9pwn435hO2Dj\n",
       "GyBlA0v4c1UdCHr4tibEy9FJQtUUsix2YMt6G8oR20PwNdnQ9G3c90IdCDbLSASuhgzddoURdCNm\n",
       "0JQaQ6Ao/E4D54CXqasuQfxBv2h4uY3M9LpKBFGLsRp3Wp4SgR2ElvAk0rcPwKBVIBlu3c5EJ+15\n",
       "5ZXLeYlALFZfapuuxgLYRNlM8BvqoMCkiGN1uPUTEQqPmaem/+Eg8o7QHXTg7FUGeI1+X5XLX9aB\n",
       "IJKf14K+csqVrc/N3EHUitn0XYEoHFhtVZLVDhyumuc1JmPRiyaesWJzcuyf9ogFVXDfIOcs9uz5\n",
       "azo0fKAAdEBfUq3WrsC+tVWKytAYr+vKlFQ9D75Ak36K6KTfqMwh6UIZFwYBJT74Nj0OlOjyPfdR\n",
       "SY/ZiWBhf+Cjlr30GG7nbBKLeGU+U5TLO5cTz92PsXyl3xTn3TlKh1mkHLF8zo08Gh0Ys2zQX6ar\n",
       "6CGIvRVOmhGaW3GlN+OHUs5MYNRB5yj5GscXItLs+ODdg3CdRDe9nm7Du1LnHgeEIFkU3oCLDMvB\n",
       "9jQ0wcGpAAdGJhzwPooC8rI4Z+nTNLHB1b9lqifxHbdS5iJKlMB11dPc0JvrRaoQisKIi0eC5eBx\n",
       "Kn4iKqlgPWjvCuuAw/E+i3V446hXRgnBdAbqXYKDz4TRzD34EQKBOUSP/WPMgR/ICBN8nBCksVzx\n",
       "GxsLJAuognvTDSA4FS7VonD00Cril4zrHl9mQj9OVsoyIsfTwW/21bjw5TpdhGSLKCAyciZT/R7J\n",
       "yVUuyu0+0hQjeUQd8fG8RNBJ1WdwIYKHhTmznDHGsVV4jB4R0xlt2LdKrOkNNGsCubvpDHAyLXLh\n",
       "Id+Fxin4Gq3h3o87fpbZuLKV+fcUfnLQ9vfGQyi9tLD+tvgvyRztUs2UJWnTTDyxEObnaFFfLJVe\n",
       "pyh8WKV8n+O5CtVKRe/8c9uxcv5G5WSHTAortsF+VXBgattsPZvNtvl9s5gwHE8HT46hk7py4b1R\n",
       "zVTz3lrD8UYWsaQ1sNWO2UIHGAv4izv4nhR12NNBYqjSST/fDlXxXsuOq8piqLWu/QD6m7yP/OQM\n",
       "PRrY+iawfwboIpq1vbvj2Uo6I+kFSR+o19bNEaRCNsOlUsW5V/GoOFMa/Ldzou5WdkzVsKvUck58\n",
       "+qYWa25/Y63paNT0X/xf8K8oKe9vY6gWZYDXwHMAAAAASUVORK5CYII=\n",
       "\" style=\"display:inline;vertical-align:middle;\" /></a><br>"
      ],
      "text/plain": [
       "<IPython.core.display.HTML object>"
      ]
     },
     "metadata": {},
     "output_type": "display_data"
    }
   ],
   "source": [
    "mult_real_nonpos_from_left_nonpos = Forall((a, b), InSet(Mult(a, b), RealNonPos), domains=(RealNonPos, RealNonNeg))"
   ]
  },
  {
   "cell_type": "code",
   "execution_count": 46,
   "metadata": {},
   "outputs": [
    {
     "data": {
      "text/html": [
       "<strong id=\"mult_real_nonpos_from_right_nonpos\"><a class=\"ProveItLink\" href=\"proofs/mult_real_nonpos_from_right_nonpos/thm_proof.ipynb\">mult_real_nonpos_from_right_nonpos</a> (conjecture without proof):<br></strong> <a class=\"ProveItLink\" href=\"../__pv_it/theorems/5d6a7820ba7c343f2292aa3832fe939109adf2350/theorem_expr.ipynb\"><img src=\"data:image/png;base64,iVBORw0KGgoAAAANSUhEUgAAAQEAAAAaBAMAAABFpPQiAAAAMFBMVEX///8AAAAAAAAAAAAAAAAA\n",
       "AAAAAAAAAAAAAAAAAAAAAAAAAAAAAAAAAAAAAAAAAAAv3aB7AAAAD3RSTlMAq1RmmUTNIjK7EInv\n",
       "3XZ/CtNrAAAACXBIWXMAAA7EAAAOxAGVKw4bAAAENklEQVRIx8VXf2gcRRT+7sdm9/buNrVKQQty\n",
       "UilIsZwokRapCblKS/7wtOgfVuy1FcRK6wb6T2jSnFCEYjSHEuq1WkcMQq2YVVtrW4SQUmwVJWhF\n",
       "UQ7WGoxGDUHQQqDQ92az42b3ai+9iAO3dzvz5s033/vemzngf2l32Dj926J5SxQXDsBFwtUqSC4O\n",
       "gtsXPGNNHsiUcQl6ZTEAmCV+2tEB+2ozfs3Ro19gDFi3GAhStCFYuejAE6H3tvNv7DxPxgPSdlDg\n",
       "ayArgCX8uqIJBL38WBXi5bVxQpUPWVa68dAagfgh4SH4kmxo+fU89lQTCLpUJAKtpZ0eO8II9iBl\n",
       "0JIaQ6Ao/EkTZ4HnaKgpQfxFn2R4u63M9D1RBEmbsRo32Z4Sge2ElvCkc9cPwKBdIBPu3cJEZ8Sc\n",
       "8mq1kkIgN6vfICxXYwFspGwm+C1NUGBRxLEy3PuJDIXHzKNT/3AQe0fqDjpweoIB/k6fL2q1z5tA\n",
       "ECvNaUFfPumq3q3TS4lauZq+IxCF/SvtKFkbgIMLXFUEk7HiRROP26lZlQt/ixEbCcl9i1qz0rvz\n",
       "8lTI1WAZ6Ia+JFJluniRvavrF5W7yvrFSaV6nvwVTTmD5LjfGZ9FxkV8VBoElHj32/S1v0rN99xP\n",
       "JT0l0sHCfudHHbuIumM2Z5PcxPNzmRL/4cllxLN5rEzyVX6znHdnKR1mkHXk9jk3Smh1YMywwUCN\n",
       "WsVDkHornDQjtHbcVd6MH6tFK40T5MmcKJqj+ExGmh2/dPMQXCe9B3oXYXtX6dzjgBBkKtIbcIFh\n",
       "OdiSgyY5OBLgwGgPB7yfooCSKs4FerUsrGVF6d/o4/iOeylzkSS1wHUT76GPl+lDthyKwoiL+4Pl\n",
       "4EEqfjIq2WA92NAT1gGH4wMW69F1J7wySgimiFijSxAHn0qj6VvwEyQCa5hUUJQc+IGMMcGHCUEO\n",
       "y+J+Z2uZZIGE5N5yAwiOhEu1LBy9tAvzW+OSx5eV1g/nod3I5Hg6+ENMmNKX6/QwktvypC4VOYup\n",
       "fp/k5MYvqOM+lk/RLpKOfNmmEOym6jM0H8F90pxZbjdGsUl6TB6qwFzKP/eukHt6BW2aRO5uPCln\n",
       "7SvqF+/1XWicgi/SHm79uPsXlUvLO5l/T+FvDgn/bDyA6rPz62+H/yNTpFOqjbIkZ1nph+fDPIeO\n",
       "xNPV6ssUheN1yvdZXqtcL2v75r43v14rXa20bFdJYafWihckB5a2WeiFQmG9PzaDMcPxdPDIKeym\n",
       "oWL4bEy01/Pe2cD1RhWxjD24SaSE1AFOBfyZDr4nRR30dJAejjoZ4MeBOt4bOXETqhhqnas/hP4q\n",
       "nyM/O8MPBI6+MeybBnqIZm3XM2YhSmcsNy/pA/XavjaCbMjmaLUauffGPSpOVof+7Z6ou9GByQZO\n",
       "mEbuiY9d02LV9R+sDV2N8v/F/wW/JUl5VwBECReRTuIziQAAAABJRU5ErkJggg==\n",
       "\" style=\"display:inline;vertical-align:middle;\" /></a><br>"
      ],
      "text/plain": [
       "<IPython.core.display.HTML object>"
      ]
     },
     "metadata": {},
     "output_type": "display_data"
    }
   ],
   "source": [
    "mult_real_nonpos_from_right_nonpos = Forall((a, b), InSet(Mult(a, b), RealNonPos), domains=(RealNonNeg, RealNonPos))"
   ]
  },
  {
   "cell_type": "code",
   "execution_count": 47,
   "metadata": {},
   "outputs": [
    {
     "data": {
      "text/html": [
       "<strong id=\"mult_real_nonneg_closure\"><a class=\"ProveItLink\" href=\"proofs/mult_real_nonneg_closure/thm_proof.ipynb\">mult_real_nonneg_closure</a> (conjecture without proof):<br></strong> <a class=\"ProveItLink\" href=\"../__pv_it/theorems/f927d15caa49d85e850f98500f5a6240505facef0/theorem_expr.ipynb\"><img src=\"data:image/png;base64,iVBORw0KGgoAAAANSUhEUgAAAb4AAAAaBAMAAAA6WSSWAAAAMFBMVEX///+IiIgiIiIQEBB2dnbu\n",
       "7u5ERETMzMzc3NwyMjK6urpmZmaYmJiqqqpUVFQAAAB6qHgnAAAAAXRSTlMAQObYZgAAAAlwSFlz\n",
       "AAAOxAAADsQBlSsOGwAABVxJREFUWMPdWG9oHFUQn8v92c3uXbqtMVaqEg6rqVGIUmsoKZ7SRCmx\n",
       "bDQpSGrvFHqEUPFiIX4oNWubHkgguRYVQbGB6hctcRE1JdcPV0qqia1eqhAqIlfQlHwQSiGYBiTO\n",
       "+3N7++eyuTPXfHBg376dmXv3fjPz5s17AP8n6h+lr921JerXhBsq+v/Tdxifvy2LbVCRYqBjxxN+\n",
       "zF2/urJ/H9LvuAfrMgDeBCxCkn5eXld8L5NGW/s4oovskgIjKuxCJ64/vkMkZrJrH0dSbIypHW+c\n",
       "2pFh/YvagAqPAmxl+HLk9dvK+FzlZZq9CZtfKjHSfXZGbBjGLqmk19kLiO9xgAcYvgny+nBlfK7y\n",
       "8kiOYAZIVWKkatWObxACAnHF0A0g8fkPQFSl+N4mho2tjM9VXh5twOwtZyoxUlB34pM1NN0wwmP5\n",
       "BaozFB8xhS+7Mj5XeXmEcQPeyqzkJ9nL81p4WwFfDA6co1xFQlfKMYovmHFJIyhwlZdHm/C5Vpmh\n",
       "PmZ55qRa8F9NVw662NfuLcj3NLH8+UQ4vN0tf7rJy6N5fL4m4f7HZlsCdHKKpSeT0l7avqua4rP/\n",
       "mnXnkRYYvnGAg2743OTlUZwb/owWWLBKnJwiZFaaAmvaix0/detuq7rwN8M3DGLObKXGPXAxZ8Jn\n",
       "k5dO3a1kuPs3G4xP8MGCyd8Ccj34p0xlFeV07v3TtfaiSpx+pm3KlF8uk+KhP47E3SguMXwB1Tea\n",
       "V+ub64XffaqsmvCZ5aXWYQ9+NI+hNHiOpKfC4m3EZycu/JtQFYG+TZQXJXNkHB2+IjBuF4F221DK\n",
       "pyrqIVw64Yc4vsB+W2b2c3whxZiBPE72ckX3mePTJC+JiI2UiG8Qux0T8BJ4VbP/EJ83BlG02FXK\n",
       "qyKZnnGWYCTBrWCnRkMpH6sUQczkP0G3rSKRxyekLmCWPN+3hZcFs7++Y8FH5WVs4sRGihLsIB/H\n",
       "Ro9BVcIWn1EFfoI8PuZEyplk+FYipvTDdxt148f15v1vPGlbf4sc3wvvA+w/k/FqzB6zvlc+teAj\n",
       "cui88Hze7+21zhK5wKQ2UhRPN76OtBL/Gdpz+LyKE83CfEiz4GMceNbNcFTpxHQLNJMqmrI2mvHt\n",
       "82SK5k84junjxL2wQZWowizodRZ8RO5voOYg9KI24MRnMJmNlEgScY7RrbMQ3XexxB5QQo2yxX+c\n",
       "I2wtgEnxVRdNWZTEjhQs8G0GBzfqjtgQbtS91hqH739QQ6LiOoZ08IN4/HXE11ltwUfksi40gUgj\n",
       "PA2HQZqZsOIjTGY1aiPl2zaAA1maP783lL7Elfgmzvv6c8P3WPBxTrJQVdJl2ZjvmJRqFInM+xHG\n",
       "mvvMOD/0QPy0pcySc+bz0VOQFoQI85804zgfeUc9OThK7bsTK3MvRK34drJyHbiNFGVPkZLOi+mh\n",
       "sBqvOvZvXVz9bOhNyHoCRL7ypDZenxXbuzMmfOJNeHiW7ePTkJ+rCV9UC0yq9EjlX4RDXWLeXXnb\n",
       "EmZw4koEmI0U5fNWGEqn06P280OhMnbgS751RF0V3whUHU2UVKXz8wM3RA5qM5BE4wrbNKhx+k8b\n",
       "OEvw+SPQLCxNAvSSbqfREGaojiS0g2z9+bqd/yiQyOrhH4Onn7GJn15eXn3WY+BpB0iWkMh/dJ7f\n",
       "/W3x3uLnd+n8TDs5Egu74IsraAk5QbqHNaGZNJx5Q8RkQGwknXzPny5y0PsLn32VqPR6StBpKP9+\n",
       "AuMzxHqtHqMLRq/eM606bWS7fxGVtcPzlHCH8x/uX/q2Z4ElrOrlW8C7hFjPnwu1r1K3RdbvKrS0\n",
       "+zPH/WemWLfkM/n0+uH7ht5/tvwLoH1sNqcZ5ekAAAAASUVORK5CYII=\n",
       "\" style=\"display:inline;vertical-align:middle;\" /></a><br>"
      ],
      "text/plain": [
       "<IPython.core.display.HTML object>"
      ]
     },
     "metadata": {},
     "output_type": "display_data"
    }
   ],
   "source": [
    "mult_real_nonneg_closure = Forall(n, Forall(a_1_to_n, InSet(Mult(a_1_to_n), \n",
    "                                                            RealNonNeg), \n",
    "                                            domain=RealNonNeg), \n",
    "                                  domain=Natural)"
   ]
  },
  {
   "cell_type": "code",
   "execution_count": 48,
   "metadata": {},
   "outputs": [
    {
     "data": {
      "text/html": [
       "<strong id=\"mult_real_nonzero_closure\"><a class=\"ProveItLink\" href=\"proofs/mult_real_nonzero_closure/thm_proof.ipynb\">mult_real_nonzero_closure</a> (conjecture without proof):<br></strong> <a class=\"ProveItLink\" href=\"../__pv_it/theorems/42bccba902268943b1fca6ed53386e4c670c6dd90/theorem_expr.ipynb\"><img src=\"data:image/png;base64,iVBORw0KGgoAAAANSUhEUgAAAbwAAAAbCAMAAAAwAMoPAAAARVBMVEX///82NjYbGxsSEhJKSko9\n",
       "PT0oKChfX1+IiIgiIiIQEBB2dnbu7u5ERETMzMzc3NwyMjK6urpmZmaYmJiqqqpUVFQAAABvRl5h\n",
       "AAAAAXRSTlMAQObYZgAAAAlwSFlzAAAOxAAADsQBlSsOGwAABXlJREFUaN7tWomynCoQNW8L+47/\n",
       "/6mPZhFQ0VmcipmKqXjnchsH+nSfXnCa/lw3v9gfFfy2F9XxThG99LEeYyxvu2mrvwI76eNm0DRp\n",
       "Hj6YPIyC7t07z1V33rQz3+F4ProHEeE2h4+SV+u03woeWxZ3E254cRk6kqWcIfARl33w28HjZWfI\n",
       "3WNBGp3RvCKczwqTvHTD4fo7/LeTiODh+AfMKni+Eo19Abw3pn/UzklZFb3LktCpfngMcNpbzlaT\n",
       "Engk4o98Bc8scV3JF8B7Y/onL0PX7PnrL8XOwaPxhyj4sBzhEm3OkUTYzBbwFsEmFD4B3hvTP3nN\n",
       "2abMjejAmsfAMzK5RSDMv37wSJs1YQG12xrzikFQ9wp4b0z/4CWKdZI7WRTpXQ/xkO5jtQdedoTF\n",
       "MyYEpUL+zfAKXklanicY1eY8t8peEM4R71arUi0NaIXYvud5xjJMNfZBkW7yb4g02SYBA8CEvgbe\n",
       "69M/WRypPvSFTIAiiU6q4VORxwvr3UdR34jsRMAEnuAupw9ufzU600oEz4gVys+B9/L0TxYKvLd1\n",
       "TYI6+Hy0xgdEHq4KBo+yDQ/spXcBPKLwjItLqlFMEBW82ICRfmhG2EB7zRK/D97J9A/W4eBWEjm0\n",
       "1YPKy8kdJEaikUYuZXZXJ40Io9T7N0Bsv61v+pDjGhk8z9olQXaD/p7M2VgKWOA1dCspkOc8DDs/\n",
       "0SBh2KBIH0y/vN+FqTJeVSoxJV/aKgLnxI6kZZk5DtK4KdRolc1lbiNiOtVXkWPEqljzqLXL1I8p\n",
       "2ISLr2iTs7POCevAA27drtAkPoTqG8GG6KjDsj/9wtQxGxGCJVBZ1hEbz4xss7jG8zJ4hDd7dngH\n",
       "5VYEbjJTUytyfFWx7tt6Oq0A8FGpIMxZCJItbYLqc8fMGhtM0/QNASeclmgMXp3+mXq7GBEK/ybL\n",
       "wo0aY37+Z4wOnA56E8e0yWZYnp2nLXjVmquIZR14T7Nm+6iqz9U342GdZ8RJySxyvZfBoy7lPsxq\n",
       "4GuIt41pOBFo0+kxeGU6hAuLqNwGp73R/TC2kaxGFMFDzDSkmT1v82yfV89RUqdLGaiTY/BakbAl\n",
       "/HrIq49q9Bm13YCC0Ai8oPnjTlqXbUInMFmqZAgAgT9q24IXVIX4ELwyfWJYLnbR7GZ3dHffW8nG\n",
       "iMD5JYeNBc/79x8DnhfXsOXsUgrl5BwwdIHXzNDzepFJYHYU17Yf9h/V6LMrXKLy3B54JoHCj1II\n",
       "29Z5YCeFJDzK1GxVbGpzl8ALmZ0agrdMNwZCcWqWsYb38qh2yOhjhizzq5nZBjzDacay+B9km1YO\n",
       "jVMkoJhHVEiPxBi8TkQOos4S17YfBo9a9BmFdSfFNesLCThV4FBlcDUf9KuM78GrHRwRVSgmQTvP\n",
       "A8WPwVtm69z0Fq4x3WWUgKke9o900zQvW1qMCGiT6rQrc5LK50xlJxwOwOsygoCIvKbNvugz1lwr\n",
       "C6O8b4892ahZgyfnuGGAqxpfep8A+VPwGDAetyyePbHtqNz41Wi+Ndqmw5zGiAA8raFqOX/FoTDU\n",
       "TjP4FDzJhRDmkqZDo8/LmuTtqUJvDIAQojZtISc3OHUD/AOeByFL2wperKOb0UTmcXTvtkg6iLB4\n",
       "1d9LpQJ7KHNfjISvPEhSNdPj3JjMcF2i6Eaflx272OY87yDzA7rSp+2xdq3GurzUBJ6Ak/tmNGX9\n",
       "cVQQ2d86yRBFpSp+sHRyFQ3BzjxENN4dFFS/pmV30Xnn8s7X516DKLTZBd5AeWg7Ou1IYqgRNHvM\n",
       "iHZNb0mF0T2wQxdh9/l3WAQi6XyvS6hUYCO8GS1ey7pUDF5geGtx7lbHHJdd1709dv7epn149PIj\n",
       "7y95b3OdiZVDPYyJ/R9HilOYu6mgnAAAAABJRU5ErkJggg==\n",
       "\" style=\"display:inline;vertical-align:middle;\" /></a><br>"
      ],
      "text/plain": [
       "<IPython.core.display.HTML object>"
      ]
     },
     "metadata": {},
     "output_type": "display_data"
    }
   ],
   "source": [
    "mult_real_nonzero_closure = Forall(n, Forall(a_1_to_n, InSet(Mult(a_1_to_n), \n",
    "                                                             RealNonZero), \n",
    "                                             domain=RealNonZero), \n",
    "                                   domain=Natural)"
   ]
  },
  {
   "cell_type": "code",
   "execution_count": 49,
   "metadata": {},
   "outputs": [
    {
     "data": {
      "text/html": [
       "<strong id=\"mult_real_nonzero_closure_bin\"><a class=\"ProveItLink\" href=\"proofs/mult_real_nonzero_closure_bin/thm_proof.ipynb\">mult_real_nonzero_closure_bin</a> (conjecture without proof):<br></strong> <a class=\"ProveItLink\" href=\"../__pv_it/theorems/2b2f605ef969bfca289eaad02053c55ef1eacd750/theorem_expr.ipynb\"><img src=\"data:image/png;base64,iVBORw0KGgoAAAANSUhEUgAAANcAAAAbCAMAAADYiepIAAAARVBMVEX///82NjYbGxsSEhJKSko9\n",
       "PT0oKChfX1+IiIgiIiIQEBB2dnbu7u5ERETMzMzc3NwyMjK6urpmZmaYmJiqqqpUVFQAAABvRl5h\n",
       "AAAAAXRSTlMAQObYZgAAAAlwSFlzAAAOxAAADsQBlSsOGwAAA5NJREFUWMPdWNd27CAM9O00UUT5\n",
       "/0+9CDBm3ZPj7EOcE6+zdoCRZkbC0/QNDjV9y0O6cpZMvmlC794xi4llLjZNDvIFfvmEAd8SvWjo\n",
       "LHQ+pXxp4KtZb3tE78X9c9O4wj6TSGQitMx95QG+XbBwb4FX6/FWACTLRRsZgY5f+ddPuuDi5Qan\n",
       "y7jQxj9LezGPey5nBYI3/JcLgCImFz10C2z/VHGJEhpGmLBr25pHcaFc0/HosLMOrbrGJcuHjj0q\n",
       "LYoFVyrMUHTdn3hab6kFDC+zkGaeeryHC81kGw9//oDCw8U3KD5+CJIMj8KqxCBuXOoq9TSJ14Qx\n",
       "4Pmwe7haEnpWJkY+3/5CuutbPO2z6WJNNOFyXMkXRo65dZap/XxFpRqCRWdUl7H9xUosBQWFi4eL\n",
       "dbSvMsuKl8zsWZ6NjMVKFhkH39lRW8WlITQvCOyEAahXyJ9xeXhNgRN5KZC2s6iUAaiqDD8kd8/G\n",
       "Mi5heeJzIu2RBvTch5j4qdJLyTAsMLOThfrJayaUIHzId7qSwaHDIEZ74Bved4cNB32aqZ5FqZI7\n",
       "j2i7ssjApcVol+Tj7M7bRfDmbaIOjKl8KYcszWOUiyRroJfJqzzyASsegvIXFqsqLmLpbkbjvAzN\n",
       "IkB+lk35G2nk2NcqsTWyIV8Nl4BlvhfcFaurXu/EUK6PfF7jlWhM4SGB2u+phG4hxXbB8s/kVT5J\n",
       "RPz3F3NVN8Qtrs95qBJN4NNR9cIqvDDwlB/WL9QXtVa3OibD7D1KeiZNv52NSo39TcHFFA4sbPna\n",
       "CCy2qYFVXKF6ZNg8SLGt6svAh/UydoQrp/K85ZorohEtuIqbDpZKkJoYjowgHhqgQXO+/vxGyleh\n",
       "8JbGrFGqWTfBC5l7244i5tEAV0WhZDzs4cJacuFsa+dnOsdOOBLs2JBn53V+wIUgG8w5a+SH3hzG\n",
       "TFc+qcikNpHprcij7K0Wdy83wKltPw9UL8Cmk/YI1+ZOImdxlFd+xNuyH4BQeShdHREvCl4zjB3p\n",
       "Heudr7dW8NpH3TysX/sjxcKrtuJUd2paTqO+nJPqzh5/5pS/v2vGZ3ZKalP9BcnLeVULbpZXEfKw\n",
       "2Sk+r26ttPMZ7u5/ntpR+E2P4dAHJj0tKpNNY/UkA7p3olZmYeEtarSeb78S7bZeD20A+dk44aVd\n",
       "In199OVSb3fMvRcO7CFYp+833ANtcHjX+7wPsPkRBb/n/eHafEpG/gPg8TBU4C2EIQAAAABJRU5E\n",
       "rkJggg==\n",
       "\" style=\"display:inline;vertical-align:middle;\" /></a><br>"
      ],
      "text/plain": [
       "<IPython.core.display.HTML object>"
      ]
     },
     "metadata": {},
     "output_type": "display_data"
    }
   ],
   "source": [
    "mult_real_nonzero_closure_bin = Forall((a, b), InSet(Mult(a, b), RealNonZero), \n",
    "                                          domain=RealNonZero)"
   ]
  },
  {
   "cell_type": "code",
   "execution_count": 50,
   "metadata": {},
   "outputs": [
    {
     "data": {
      "text/html": [
       "<strong id=\"mult_complex_closure_bin\"><a class=\"ProveItLink\" href=\"proofs/mult_complex_closure_bin/thm_proof.ipynb\">mult_complex_closure_bin</a> (conjecture without proof):<br></strong> <a class=\"ProveItLink\" href=\"../__pv_it/theorems/c404257f91b6ca40896fb4455abfa48c506792620/theorem_expr.ipynb\"><img src=\"data:image/png;base64,iVBORw0KGgoAAAANSUhEUgAAAKsAAAAWBAMAAABNknGBAAAAMFBMVEX///+IiIgiIiIQEBB2dnbu\n",
       "7u5ERETMzMzc3NwyMjK6urpmZmaYmJiqqqpUVFQAAAB6qHgnAAAAAXRSTlMAQObYZgAAAAlwSFlz\n",
       "AAAOxAAADsQBlSsOGwAAArNJREFUOMutlU1o02AYx582y0fzscaD2tMYBUEYgoggiIfqRcEPXqHs\n",
       "NGzdXPwojOIKggeNehRKLw4FlYoDEYZLQXBqYR1YQTwYxcMEDx32IiJMYaA336+kTbqEHXzgnza/\n",
       "N33e5+tNAbZgNtcmOOrxLVjCZQrbowGSn7yXqVDeIbdfY91+5uozcWoUb9UK7/+tJS6XKH9F7u/G\n",
       "eRVrTAFLOfhyJwQb8wB6ifJr+FYpxrnVWkwBS5OivA8y2ZnG1x+UpxDAkBvnVuAK2CIiFLGbHdks\n",
       "yWYYkfAmKNdxHKnY0n7hCtgRWgmWw9PtjEmKwyuE+b5sdn+s2+dcSjdj+vDhtp84S9pvxStxVc6x\n",
       "L4S/AJiOdXuf67Etbfht/IsKNui0kSlvTisq7wDhVVA6ftHn/Fkprd3gX/cwiYdAG/WWjQ0QTDD2\n",
       "UrcevK3ybAiX0FDdj6xLfI9YdXHGNs5xdpBJW4dkjgZKpqMG6RzI62R9NoutSGvLi0C4YfZ17ADW\n",
       "6zKuzmmAN0G3QhEKdP8xLLzBogsqjXbc+7GE+KBSXlshx27lGNnm1wiiZ2fiKm5FsAgFEz70j+0y\n",
       "AoMWJelBlc6tCoyfxJ0Ud8t/SEV3JRy6+epqL4OzTAUXvhted9JlXGrQaXQJfz4az/DlJee3cMc0\n",
       "RyaBSy29tkAeaLd7bk8xSaYxpnlsuCXhGdVYLR/4fb64JH7y+DCupVBPkHEQylrnnWVZ7pUnPbeX\n",
       "mcS1o9Wd/oB1myR91uszl5D3Bpv6vdTjOENbauO1NAhuhQ40bpnI15JlpkG7yT/nJ7O1zTgI9vUF\n",
       "lIckeov7SU7OcRsO8zXdYRq0ZsQB8rna/HgCZl25YYJynqYzV/IDvMAVtqgXX5izF1nesuoBPN4/\n",
       "nH0mRfy7hLiKInY3mcKWiahBiOvw3+wfrhuiJ0aRLNwAAAAASUVORK5CYII=\n",
       "\" style=\"display:inline;vertical-align:middle;\" /></a><br>"
      ],
      "text/plain": [
       "<IPython.core.display.HTML object>"
      ]
     },
     "metadata": {},
     "output_type": "display_data"
    }
   ],
   "source": [
    "mult_complex_closure_bin = Forall((a, b), InSet(Mult(a, b), Complex), domain=Complex)"
   ]
  },
  {
   "cell_type": "code",
   "execution_count": 51,
   "metadata": {},
   "outputs": [
    {
     "data": {
      "text/html": [
       "<strong id=\"mult_complex_closure\"><a class=\"ProveItLink\" href=\"proofs/mult_complex_closure/thm_proof.ipynb\">mult_complex_closure</a> (conjecture without proof):<br></strong> <a class=\"ProveItLink\" href=\"../__pv_it/theorems/b111b03be9294d208877a0ca2804295526ea995d0/theorem_expr.ipynb\"><img src=\"data:image/png;base64,iVBORw0KGgoAAAANSUhEUgAAAY0AAAAWBAMAAADOX93WAAAAMFBMVEX///+IiIgiIiIQEBB2dnbu\n",
       "7u5ERETMzMzc3NwyMjK6urpmZmaYmJiqqqpUVFQAAAB6qHgnAAAAAXRSTlMAQObYZgAAAAlwSFlz\n",
       "AAAOxAAADsQBlSsOGwAABKVJREFUWMPNV29oHFUQn/uzf+5u79xijBGrhK1SJV+kFA1S9RSqtqSy\n",
       "6rUgxOSsJNC04pUUKop2U21AxOt9UfSDcJL0g1jK1i9J29BekVBoFJNQelVEEtRq8UssFmpA0pn3\n",
       "9s+7TTdH2HxwYN7Ozr59b37vzcybB7ACxYwSRCbV4ahkheub2ZmsrsH89zkclb5cpins/rztANOj\n",
       "oXOk+TkMR44e2VqE6bN5zpEpFrQi9mtNOreX6RHHaVJ9FoYjQzuSsiJM/4rD0emTwPvJUQBtL9Mj\n",
       "jvfIfYthOBTaruEos084HJ2mGl8Vuw/bv5gecaRMfEyHxgctwo4osz/icHRKmPzZahgVfORMWv1u\n",
       "pkdDNXSvVHicf4ePSpTwqHBeA0rxAPnqLv4qq7anp4S0yTA2h+NIGMaGKFGayXOG8tNDgXz8W5ve\n",
       "PGkLnZIsJalumJSVvKcnHGMAfeE4MiWQzYiLSJzuhDcbxxmx5BtNfxc7aWxbvaRzIF3z9ISjDOqc\n",
       "uAId2+HbOQ8Hfiuv3vrWs+4yxqc5v1yDb9CbfQ+TtkCmHQov/L7SOLyT66IszLwY+Cite3rCIZv+\n",
       "cbf/6gD8kjQzpn8O9sH2VUGgIXb9CZedTU9UOZ8DeACUdcwo6V9yuAWI58EmdAC9yyNI6OQmqAVq\n",
       "Bw2kIouPvKcnQ7O6BzEzRmeibieF83xmdWHOhtiqgxbA8ShIizgXX9wO+lCE3ioswlEqKeL28pH8\n",
       "Tg6l2X7scl9ls+jp2U5UzqOPTey/F2A9qes/DYk4Uhpun9TV4rqlIAoVwvnnHYmGkC5UvXLI8Svp\n",
       "b9AWPBxsC3T4AWCS4wgj3mnqwjrCyX+Oe7DY+ZFmeoZjB2aA7pFawpIYwHry1VEBR/JHdLKXrEOu\n",
       "8YLo+8BDyk1HoiGyH/s9ZJ2x9B/kKlcacEzDtSz2e2al3WWdjlzcAp0Uz8y8mJe/Tp7A5hTTMxzv\n",
       "Y1QfuQfuMHkCqIPdKuBQn0ThDAzisc6ihsT0zOlGZ7IV56hjQ2jdfmaiZEn8GszatohD1rMdGXTu\n",
       "B32jK07DQsPvpL5YgRtOCkf6wquv9oxLszbTMxw52tl5GAHt0/7+NxBHISXWu38gPw73gzLLrCMx\n",
       "Ab2NJ2015mQ4NoTytu8rSjvnnpa35ksiDmn+ufLd7uJwF7TdpqOxU05noRHnkdIz4P5SeP36ONf7\n",
       "meoxOKPwg6WOyx2o26WbsG8nxE1XVGl7xO235Elz6vglNJkNgXEO7mQbHeYpsj14ztlq8yI0UcrY\n",
       "uDKHndfR3UZD6jksXDDUBdhY5+fhRcAVD9w/OpXFScIh5bkIAyQWeFOAhHXouDlTpBBkQ3wwDkld\n",
       "qO6mQnEMH3yn+Sl7FOLvlsKrzQnB0PQctNRgGHsrD1uQC+L4+nv8ijiUJ7iIpzyKg5bSic3gdHpi\n",
       "pgvd80MyjFxK2tY/5rm4xZmt1rZ/AqXIU0tLzXP5CYh1hRflpA9c+KRn+wfC74PkV1kubo15IhKv\n",
       "luOw/tjyIVgGk4prUCbKVri+ycU1Kd57lTuxfj/Gi6al665Ie8k9owcu3fbeOORwVGoL18c2rPYC\n",
       "XruNqMH/gG4BcPA6rCxMVU0AAAAASUVORK5CYII=\n",
       "\" style=\"display:inline;vertical-align:middle;\" /></a><br>"
      ],
      "text/plain": [
       "<IPython.core.display.HTML object>"
      ]
     },
     "metadata": {},
     "output_type": "display_data"
    }
   ],
   "source": [
    "mult_complex_closure = \\\n",
    "    Forall(n, Forall(a_1_to_n, InSet(Mult(a_1_to_n),Complex), \n",
    "                     domain=Complex), \n",
    "           domain=Natural)"
   ]
  },
  {
   "cell_type": "code",
   "execution_count": 52,
   "metadata": {},
   "outputs": [
    {
     "data": {
      "text/html": [
       "<strong id=\"mult_complex_nonzero_closure_bin\"><a class=\"ProveItLink\" href=\"proofs/mult_complex_nonzero_closure_bin/thm_proof.ipynb\">mult_complex_nonzero_closure_bin</a> (conjecture without proof):<br></strong> <a class=\"ProveItLink\" href=\"../__pv_it/theorems/a573f515e5a51b295ccaaf3c0dc3e7b0cbf7029d0/theorem_expr.ipynb\"><img src=\"data:image/png;base64,iVBORw0KGgoAAAANSUhEUgAAANcAAAAbCAMAAADYiepIAAAARVBMVEX///82NjYbGxsSEhJKSko9\n",
       "PT0oKChfX1+IiIgiIiIQEBB2dnbu7u5ERETMzMzc3NwyMjK6urpmZmaYmJiqqqpUVFQAAABvRl5h\n",
       "AAAAAXRSTlMAQObYZgAAAAlwSFlzAAAOxAAADsQBlSsOGwAAA5JJREFUWMPdWNmS4yAMZM8RNwjw\n",
       "/3/qIg4bH7G9U548DFVxSEIASd0tAWPfoCn2LZv05SlBvmnB4N+xik1lLWDM69zBL18w4lu8lyw9\n",
       "hcmPKXet/mrUu9mj9/z+uWV8QZ+diGQitsh9ZdOhdSDe2+Cd/SipuXNgTbYGNbVf+RWYKXbxsiSn\n",
       "blpgE56FvejzntNZacGb/dcbgCTyIIWT7hhvf6p2CaiDiGYzt5191C6UWzi+aq7v0V0JNkJFHQvd\n",
       "LtXYVHE4FWQo6psesKf5NjWH4WUUpo7TcCE0BplupiesOPz5QxccLrpB/gmDk2R81KwKDMLGJa+m\n",
       "OUxiHTDQPLcl3kmx7nzV4DfTCEjn2yekUaH50z0bLmikiZfzSr4gcoytd7DBpWZ2E1G9jMh5Gdsn\n",
       "KL4U5BQuHk7Wya1pltOnBHskeS4BpAoWmQbd2bEtJ2Cz3mWEEwSg2Vj+jMrrdQi8yNjX034VNWUD\n",
       "VGVGGIK7l7FslF+T1b3igOl1iE2fSr3kPgsR7EEU6juvkVCkzwz5QVUyKHQUZ3vOIFznuPiiTrNV\n",
       "syhU8mCIcXuJBI1pgRN2dd5vgjcmiDoxTuVLOUSpz1E6k6yOXhav9MhNj/y6xRZV7SKUHkY09VkM\n",
       "JK09ZQsqxqKWQ12rxF7Ihng1u4Re1lvZXW31Veu9GNL1AbYXPTwvCQoOyajjmkqY5lJsHanKuCCZ\n",
       "RMSPv5izuiVscXOOQzXRH8P0KnthJV4ccHoAWb/kL+ZPc4xtqatrj5IBpJ1/zkKlhvpGBeOHEhUb\n",
       "c8gDO4Kl5lkN1a5YNTLuBpJvK/uojBgQD4f1RhrRe5ERrWijFbezsZSCFAMcEBHtvK0crz+/keJV\n",
       "ILxfBRqkmnSTeTFjb19RpGxSr4pwpI87KBRAO7RMRX5amYQO5zQDjgg7FuRZeRdtDSosPFJ96qyH\n",
       "wb70mal4UgmksQnMnuRJzqUW96sftFcH9byYOJ6XsrgVdyI5pJFeeUhw5TygIzPGL/vCi4TXBOOA\n",
       "eq/5zrdHK72qo+42F7b6SLkzqLbjqZ7UhhzfdIMuSi7P+B1T4f6pGZ85Kald9hdEL5/BVhJuplch\n",
       "8lKKWFkQIO+cAGc867vnn6dOFCHthTREkIE2FelYUDXJarPAO4MS7yGr1XyHmei49HroAMjP5olr\n",
       "suqSlz93v2HvXTjAQ2ad3m/4B8rg+K77vP9A8yMMfs/94VZ8SkT+AW+tLpbbPT6JAAAAAElFTkSu\n",
       "QmCC\n",
       "\" style=\"display:inline;vertical-align:middle;\" /></a><br>"
      ],
      "text/plain": [
       "<IPython.core.display.HTML object>"
      ]
     },
     "metadata": {},
     "output_type": "display_data"
    }
   ],
   "source": [
    "mult_complex_nonzero_closure_bin = Forall((a, b), InSet(Mult(a, b), ComplexNonZero), \n",
    "                                          domain=ComplexNonZero)"
   ]
  },
  {
   "cell_type": "code",
   "execution_count": 53,
   "metadata": {},
   "outputs": [
    {
     "data": {
      "text/html": [
       "<strong id=\"mult_complex_nonzero_closure\"><a class=\"ProveItLink\" href=\"proofs/mult_complex_nonzero_closure/thm_proof.ipynb\">mult_complex_nonzero_closure</a> (conjecture without proof):<br></strong> <a class=\"ProveItLink\" href=\"../__pv_it/theorems/32bc43e41234888329899abec0dd7f043ee907fa0/theorem_expr.ipynb\"><img src=\"data:image/png;base64,iVBORw0KGgoAAAANSUhEUgAAAbwAAAAbCAMAAAAwAMoPAAAARVBMVEX///82NjYbGxsSEhJKSko9\n",
       "PT0oKChfX1+IiIgiIiIQEBB2dnbu7u5ERETMzMzc3NwyMjK6urpmZmaYmJiqqqpUVFQAAABvRl5h\n",
       "AAAAAXRSTlMAQObYZgAAAAlwSFlzAAAOxAAADsQBlSsOGwAABXBJREFUaN7tWomyoyoQdd427EgD\n",
       "/v+nPlYBxSWJ1jipoeqmDLch0Kc5veAw/GkPb+yPCn7bRlX4pIheOq3FGMvHblqrr8BO2rAZNAyK\n",
       "uwdI3cjp3nwy7/jkTRv4joNnw/Egwn1M7lHyYp36W8Fj8+Iewg1vLkMFspSTd3zEpDP47eDxvDNk\n",
       "nrEghc6YHOV4HJEUDjLgvv3t/vQgAng47AmzAp4tRKPfAO+D4bfaOcmrok9ZEjrWD7LECTGYOLSD\n",
       "IngERaECHsx+fZRvgPfB8Dsb0CV7/vo2HsX8gCJJDjqDx5KHi7Q5BRJhE5vBExnIyhW+AN4Hw+9s\n",
       "U7IpeBAd6IMQSsDAEy4WIm3+9YMH2iwBi1e7Lj4vGwQ174D3wfAbm8jWSZ5kUaQ9eoi7cB8XarBs\n",
       "yAeAJbacnRLyqUL6BryAl4OW1wlmrGOeR0UvCCeP96hVjTUNqBEtaJQPcnE2eZFwSTqkb4hU0Sbx\n",
       "BoAJfQ+894ffmRyNretzqS5FEh1kw4ci5xPr7lTUViIrD+iycdEq0fRXoxKtBPBALFB+Dby3h9+Z\n",
       "KPDW1hVx7oJPe2s8IXI6K9iYSlc8sA7vHHJKn0nFxCQKeKEAI+2mGWHw5TVNbB+8g+E35uHeTiUy\n",
       "aB3mjmk5qYLESDBSHN1JVyeVCKPU2g9ArH+tPUlkDxjHmW0uaDbqezJFY9Fh+VND15ICWc5dt7ED\n",
       "dRLANpL0jeF3uDIOtvAR5HhprQicnAeJy4IpdNKwKVRplU15bCUCjeqLyD5iRayaanlkymN0Nq7x\n",
       "2ufRcz9Vg+e5db1CiHzos2/kN0S3Kiz94ReGjsmIGPd1PsPTQkLhmZF1FFedvAQe4dWeDe6gXIv4\n",
       "D5moqRbZb0Ws+bWWTgsAncSKl2hz36PWtOlVnypmGrQzTWgLAkYY5cx9E7wy/J58OxsRZeFXNB0o\n",
       "APz8D0A5Tvd6E/u0ySY/UCe7N7hrzUVEswa8l1mznqroc/HLnUWokucNajcPkjV41MTYh2nl+dr7\n",
       "28o0jHB6M2obvDzcuwuNqFw7p15v342tJGcjYlrELclCmunkrea2afUcRXWaGIEauQ1eLeK2hN93\n",
       "eWWqSp+xcFJtC3UrLDmV22OyJtr0lcA4SDLkR/l/VoGPA8+pCvFN8PLwgWE520W1m25vd99ryWJE\n",
       "Rpr8H3fy/v0H/MkLa1jvNKdCKTj3GBrHa7B58lqRQWC259fWD/2pKn02iUtQnun59BHkwMw+U+s6\n",
       "z/N2kknCokTNegxFbW4ieC6yGzfBm4cDeFcci2Ws4r3UqwwCtc+QeXwxs9mINNNlTpa356JNLTeN\n",
       "U0SgmEVUSIvENniNiNxIfGalrh82ppr1GYRVI8UVWzMPJxOGfUMH24JXKjgiqFDU+aIHzyt+G7x5\n",
       "tEpFb2Eq0517iTfV3fqRqormOTfKRiSEKn4IDkL5FKl03OEGeIugfZDXlNlnfYaca2FhlDflsVcL\n",
       "NUvw5BQ27OEqxhffJ0D2EDzmGY9rFu6e2LpXrs7V1ngNSsfLnMqIUsDiX8g5fMUhM1SnGHwInuRC\n",
       "CLik6FDp87IieX2r0BqDRwhRHbeQghscqwH2xMnzLkvpAl7Io6vegavc2/uYJY33sHhR35M08Ak9\n",
       "E9nORsIXJ0jScTqYgUy+XaLoSp+XXbvo6j5vJ/LzdKUOy2NNsKtNWmoET/ib+6o3Rv2hVxDZfjSS\n",
       "zovKMZ+DsiLHoXAuhrdmO6H6RSW7i+4753e+7nsNItNmE1NRNqB179CRxD5HUOycEXVNbw6F0TOw\n",
       "Qxdhd/87LAKReL/XBFSjYyO86s2nljWhmH+B4aPFmUddc1zWrnt77Pi9TX269/Ir7y95b3MZieVL\n",
       "PYyJ/h+JwVHae58kwQAAAABJRU5ErkJggg==\n",
       "\" style=\"display:inline;vertical-align:middle;\" /></a><br>"
      ],
      "text/plain": [
       "<IPython.core.display.HTML object>"
      ]
     },
     "metadata": {},
     "output_type": "display_data"
    }
   ],
   "source": [
    "mult_complex_nonzero_closure = \\\n",
    "    Forall(n, Forall(a_1_to_n, InSet(Mult(a_1_to_n),ComplexNonZero), \n",
    "                     domain=ComplexNonZero), \n",
    "           domain=Natural)"
   ]
  },
  {
   "cell_type": "code",
   "execution_count": 54,
   "metadata": {},
   "outputs": [
    {
     "data": {
      "text/html": [
       "<strong id=\"mult_not_eq_zero\"><a class=\"ProveItLink\" href=\"proofs/mult_not_eq_zero/thm_proof.ipynb\">mult_not_eq_zero</a> (conjecture without proof):<br></strong> <a class=\"ProveItLink\" href=\"../__pv_it/theorems/640428bf455b578061a0fc9ec69a81d617b6ccbe0/theorem_expr.ipynb\"><img src=\"data:image/png;base64,iVBORw0KGgoAAAANSUhEUgAAAaEAAAAZCAMAAACvmGFcAAAASFBMVEX///8NDQ0WFhYLCwsYGBhK\n",
       "Sko9PT0oKChfX1+IiIgiIiIQEBB2dnbu7u5ERETMzMzc3NwyMjK6urpmZmaYmJiqqqpUVFQAAACO\n",
       "tbUiAAAAAXRSTlMAQObYZgAAAAlwSFlzAAAOxAAADsQBlSsOGwAABMpJREFUaN7tWtl23CgQ1SQz\n",
       "SUBsYtP//+mwUwi0WG0d98kxD6JN36Khbm0gT9P9ZjHGYvpujzXkFGxemWD51uHjTeu/liGx6d9k\n",
       "OR9F/70MIdP2X90k2vlC0UO0Y8iWYaPvMPSC/IPNkLZ/A5MZa4cz+BchSIkG7RhSsihc3GHoBfnn\n",
       "Gl3a/h3aMnKWiXEIcQ5PY/GV0Y4hnp1AsFtR7gX555rSbf8WOV+NXMhCBA5+xCDa56HMFjG3GHpB\n",
       "/rk2b/r3WNTAiRiMOyzQZVYK0J6hXC18PCAsTbXxRgHFLG3/JmGud2gJXWhag9/w1QB00O6MfZvJ\n",
       "TYbuyz8X5EjbT8ISJNBJhXsBc7FWHs9EbK9B6EI0M6QBOjCkQrJi9C5Dt+Uft9bcy9lpgq2HK7yC\n",
       "uVhY78ykq0erYNT435/+WRL5SiJDCKADQ8Lmx9gisCKuXtOz3WHoRP65gs1vSCCDuhoyX5Wkns7B\n",
       "EEMepnoc+QCGEmLtfabgr7Wxdz50ocoQAeiYQ7z5E9nXGcgy5oaNnQgdHa3yXnfkHzhTMGVr/FC5\n",
       "Tul0PsumV2ugi4Q9IQzjShEFGAUVDCDHvBQcmGmjz3XrbGozRZCR0YcSOjJk0CjPK8XzSRT5VZPd\n",
       "O4Wx/Ke1bCmUWWdzhqWFaBkMdlQkbRiaWdh//MNA48ZFRwDjH2LlHeS4FVzza230O3ShXCmYWClI\n",
       "6ENOvRqlml07K1PtGdhwI53h7jNU5R9J+9lSCI0BmkxEKfXnt3KHZeH1jflhlKPBKHWyYIPHLlAx\n",
       "mkKGPhzk4ExVne0vhzz045+YjUp+YPEkFDNYQieGiImHGqqlD6I+09F6/jTcKcfIA4ayvI/hGhHR\n",
       "JYzB4E5q6ZDFUqjm0S5FjXHJh7ZzMwR7GozSLpMRBwxBjNsRvp2G6kxAnUHZ7OSSQQe3UQtEJ4ZE\n",
       "qgIERf5rT6LUkCGnD8T2Gcry4cqCrxuFDQfHu+uR1VKMMPkb50O//lPeh8Ialr26NvWeKOOikNr3\n",
       "oRYzcUwPUk3/YTwTUGdT+6f99OHT+zydOUTn06bNPm1RioB6YaGZyJCrm5Z9hoq8cr/K53gHRGuY\n",
       "SoPSICWPA1oWr8G7WIqmuqqN5u25Wk535HPc9NQiwoVF/IChBiPGR4eSavoPOzMVdQawPLuno4qg\n",
       "rMqE7t4+eAKdnvjESeNDXrsHDMEUjbzhclOtsAzO3uoO70UyEh4isqVwLmtuUMfVcM5MuM8m5jx+\n",
       "Cad38SnXwEWd4dTSruP4hJ/RW4bEGrblOalmFIqmreaGDFEfoZimXrQwVAdF5yF74lpJHbcALCVV\n",
       "ChPNSzq/pRzcVp4zJBjnXH3GARyos7vFXeilu98tQ+GeCBEd15lDRawK7RUf8nlE6sJQOFSCwYnJ\n",
       "PDp6FKTxWQ9P7V2FIOHdCblSNuYbSbZxBUGW9WyCefXtM1wIqHN79a9PXCijj96xUuKjizy/9WnO\n",
       "YNqkFQWG+GyawVg4h1E+i/bRIF00Fku26LoiF/LUpTI4Fxj0bV6JbGwF02voB9+CpyU0ryQInVA/\n",
       "msNPI+3LbEmvWcrQCFHbf3XbXk3xi+jHGOJoDu+LJDSVxQWPELrkwICaMWp9Kn2j129f1l5k6Pz/\n",
       "5fTl0W86Bq6E8az/ByB7UGM3TWWkAAAAAElFTkSuQmCC\n",
       "\" style=\"display:inline;vertical-align:middle;\" /></a><br>"
      ],
      "text/plain": [
       "<IPython.core.display.HTML object>"
      ]
     },
     "metadata": {},
     "output_type": "display_data"
    }
   ],
   "source": [
    "mult_not_eq_zero = \\\n",
    "    Forall(n, Forall(a_1_to_n, \n",
    "                     NotEquals(Mult(a_1_to_n), zero), \n",
    "                     domain=ComplexNonZero), \n",
    "           domain=Natural)"
   ]
  },
  {
   "cell_type": "code",
   "execution_count": 55,
   "metadata": {},
   "outputs": [
    {
     "data": {
      "text/html": [
       "<strong id=\"elim_one_left\"><a class=\"ProveItLink\" href=\"proofs/elim_one_left/thm_proof.ipynb\">elim_one_left</a> (conjecture without proof):<br></strong> <a class=\"ProveItLink\" href=\"../__pv_it/theorems/6474055fc8f411ed3ab15f4c2c542b2c246522440/theorem_expr.ipynb\"><img src=\"data:image/png;base64,iVBORw0KGgoAAAANSUhEUgAAAKEAAAAVBAMAAADcJJPmAAAAMFBMVEX///+IiIgiIiIQEBB2dnbu\n",
       "7u5ERETMzMzc3NwyMjK6urpmZmaYmJiqqqpUVFQAAAB6qHgnAAAAAXRSTlMAQObYZgAAAAlwSFlz\n",
       "AAAOxAAADsQBlSsOGwAAAkdJREFUOMtjYMALGqAYHXDgUY8XMF6AYAzAJYBdw0IgfgBi3MFh4hUo\n",
       "LgpAl5HB4YQDDAy7QIwZ2OVZJ4Ax6+v5GCZyBmDXMpWBoQ4UKgnYpbkPQDCDPIZ+ng3YtZyGWMZy\n",
       "Abs0MxRjMZHBFIeWAAYeoBs4cQTjTSjGZuIc7Fo4gcYZKSmZ4DBxCxSjmBgoF+4C9JMfepgLPi3x\n",
       "BXoXGNPbGRhScZg4B+YWZBM3MD7kVmBgOAlib1ICAT1wmDPICWwChi8wMvsYOB6gJIDsh41Qpi4U\n",
       "I5vI08DzlQ/otctotp9gOB/whoGB14CBgS2AZQFUlF0ubQFrXgNvCpRvBcVQE+MngNQwcIMohno0\n",
       "EwsYdoKN+AA0VQAeMbsLgAERyMBwBLuJTJAUwwzOL4sxwsgQnJmAbmSYcBBICO6QbgAleIaYKkSu\n",
       "xeZrBob1DaxA7iW0cGTg+sEQCnQfMIgZfIHpnLHhGeeFMJDEjRsIvYlQjGxi2ILHDCxA+hhaVGfx\n",
       "GTA4AIMZlFmagRHDw5DIzrAGJHX0KEKZHxQz+CPKlPulmxnWwlIVAvB+jzbgAiYqbqCpDHwFIKEf\n",
       "wASRlpZ2oXw5QlkRFL+zn3cAJhYtyLsHlMW00Ny4UeD2WVBYw2KZgd2Ag6EExADFDCtUkKkAgrEV\n",
       "kArYk3ATjNHMMoEbmI5ASr0bGByRigMcRQL3Aewm7oErkHIUZeBIBzFDpmXDnZUBxZigDbuB6KVY\n",
       "SFraAhSBMCjGBNjtYWAjVC1wCEAwZlmNQ6cEAwMAgIWAAGBn6fUAAAAASUVORK5CYII=\n",
       "\" style=\"display:inline;vertical-align:middle;\" /></a><br>"
      ],
      "text/plain": [
       "<IPython.core.display.HTML object>"
      ]
     },
     "metadata": {},
     "output_type": "display_data"
    }
   ],
   "source": [
    "elim_one_left = Forall(x, Equals(Mult(one, x), x), domain=Complex)"
   ]
  },
  {
   "cell_type": "code",
   "execution_count": 56,
   "metadata": {},
   "outputs": [
    {
     "data": {
      "text/html": [
       "<strong id=\"elim_one_right\"><a class=\"ProveItLink\" href=\"proofs/elim_one_right/thm_proof.ipynb\">elim_one_right</a> (conjecture without proof):<br></strong> <a class=\"ProveItLink\" href=\"../__pv_it/theorems/5da17bcafeebb59a2927e5462be9ad84b2834c7a0/theorem_expr.ipynb\"><img src=\"data:image/png;base64,iVBORw0KGgoAAAANSUhEUgAAAKEAAAAVBAMAAADcJJPmAAAAMFBMVEX///+IiIgiIiIQEBB2dnbu\n",
       "7u5ERETMzMzc3NwyMjK6urpmZmaYmJiqqqpUVFQAAAB6qHgnAAAAAXRSTlMAQObYZgAAAAlwSFlz\n",
       "AAAOxAAADsQBlSsOGwAAAilJREFUOMtjYMALGqAYmzgDCeJwwHgBgjHAQhwaQOIPQIw7OBRcgWIU\n",
       "wK4KtOYADicAxXeBGDOwy7NOgGAUELfzK5CcisMNQPE6IMWRgF2a+wAEo7kDZOJpHCYCxTkDGBhY\n",
       "LmCXZoZiLCYyB+DQEsDAA3QDJw4Lb0IxFhM5cQQkSNxISckEh4lboDhQLtzlAqqJLA/Qw1zwaYkv\n",
       "RHw7A0MqDhPnQPEGxofcCqgm8oAjbJMSCOiBw5xBTmATRLyPgQPFPsbsh41Qpi4E8zTwfOU7gGoi\n",
       "rwGa7ScYzge8gYizBbAsgKU0ubQFrHkNvClQvhUEszNwQ5JQ/AS4iewf0EwsYNjJABXnFYBHzO4C\n",
       "YEAEMjAcQTURGIMCYD7TBriJXAYYYWTIABOfcBBICO6QbgBnhJgqYPpE9TUDw/oG1gA0XyughSMD\n",
       "1w+GUKi4LzCdMzY847wQBpK4cQNhayIEhy14zMCClnp40DIFaxafAYMDVLwZGDE8DInsDGtAUkeP\n",
       "IpT5QfD90s0MaxGiLD9AUeuAaiLv92gDrgtQcb4CkBBQ2cm0tLQL5csRyoogOFqQdw8iOfI9/gmM\n",
       "U6YFaG7cKHD7LAOyOLsBB0MJ2AXAmGGFCjIVQDAW0IQjCcPFm1kmcAPTEajU8G5gcISK8myAYCxg\n",
       "Dw4T4eLcUo6iDBzpIGbItGy4szKgGAPgKq3QxUPS0lCDJwyKMQAbjuKfjVC1wCEAwRhAAocGoDgA\n",
       "BnOGY88miHIAAAAASUVORK5CYII=\n",
       "\" style=\"display:inline;vertical-align:middle;\" /></a><br>"
      ],
      "text/plain": [
       "<IPython.core.display.HTML object>"
      ]
     },
     "metadata": {},
     "output_type": "display_data"
    }
   ],
   "source": [
    "elim_one_right = Forall(x, Equals(Mult(x, one), x), domain=Complex)"
   ]
  },
  {
   "cell_type": "code",
   "execution_count": 57,
   "metadata": {},
   "outputs": [
    {
     "data": {
      "text/html": [
       "<strong id=\"elim_one_any\"><a class=\"ProveItLink\" href=\"proofs/elim_one_any/thm_proof.ipynb\">elim_one_any</a> (conjecture without proof):<br></strong> <a class=\"ProveItLink\" href=\"../__pv_it/theorems/6579b7959884828e9a424d0c9e0ea992ed836f750/theorem_expr.ipynb\"><img src=\"data:image/png;base64,iVBORw0KGgoAAAANSUhEUgAAA5AAAAAZBAMAAAC1NdyaAAAAMFBMVEX///+IiIgiIiIQEBB2dnbu\n",
       "7u5ERETMzMzc3NwyMjK6urpmZmaYmJiqqqpUVFQAAAB6qHgnAAAAAXRSTlMAQObYZgAAAAlwSFlz\n",
       "AAAOxAAADsQBlSsOGwAAB1pJREFUaN7tWm2IVFUYfndn7nzdmdlZExNMWybFYjA2iVpCc4w+0NKu\n",
       "pVagrhKuYUaj+8NKyNF0CaJt/hiRoSsV/eiHN0ksM50ICXOjcYlsM2wXtA8q2cJFE5btvOfcufec\n",
       "e8/cO1dnYhc8cGbePee573nOec7Xe3cAPFIyfStcT2M8NaRneWKi/x+dCH7kx94w5StxHRvUKL3e\n",
       "sSTkVJxbpbEn5L4KXMcItX1MyAH8+slNyCR+JYp1J5XIko/vaudvk2aaytMtYt3y2d7Pm5iGopxr\n",
       "TZKDiW9qlF4vHMa/33ITUu3Br/pveU/hiBdq5U35Y6/G9UK3Ve+uwoWJ2SXlWqO0G66V2i4q5Mu4\n",
       "4a92EzKMi7ar/tvEEZLVGi78mzkhm+w79kgVDkzMSSnXGqURuFZqJ6mQUdLdYMn1jETFF9VfyFaS\n",
       "A1AfIfdrYl1s2Pt5CxPQZFxrkxxM/FPD3AvxovuFJspuRIW665jAJvrrJOR9trpgi/fzFiZalHGt\n",
       "TXIw8U8NM9Fodjp9p7uQgXT6lmzdhVSxiY9xoz83OSVWdc/f5v28A8QLuaf5L7FXg9M8r8cWJjgg\n",
       "4+po0ElcFrfYQA4m/qlhJkIeAljrLqSag5BWdyHptH+H5HfzIXF3ibXB857tO0GckMq/WrtwW2vf\n",
       "pVz28mhh4nQBHkhjur3M1dmgg7gs2UEOJv6pYSZCdkOEKKqwfuZkQpL67vofkY04x2YRJnNAFXeX\n",
       "x4twwPNxBlLyUiETwxAQ1sHPGtzh5ZFhwvh4q4Srg5WTuOwyzUBPVmbinxpmImRIC5L4Isj6OZMt\n",
       "/8xC+HLAeiGwFhb6keTF1U5LVotp0tHyThPAKOcesv6HoDELygk29XAtHAOYDsr9FzS6tiTz0wSx\n",
       "bhgYJiStVAvQlGUuWeWnABe9PCKGaEbmdnjIVo9cWYMrCqZTRnzp4vOmB5uGFgjmi61wXnhqEicy\n",
       "apiJkImUeNfZ+Mt6OBvUVM0S8pS/u04y67QktdjQ8t/g+6woZGA1tPfAxgls6mP8dxcoV0A1pntG\n",
       "spZNkJEynJC0kozd/pLhklZOh9iIl0fEGNt2q0RI2mC4ucV0yojrbJ026k6vFsjWCu+FpyZzIqEW\n",
       "azUupF8I5/ghfNOT0oPcK7poPOVHyEDOaTlraUMPpCCeFbfW9hR8S6w+ayb/DfEhaOqJXHLbsiio\n",
       "0hlJwshjGueSxGHqsIdHijF25hbbGUm4Gg0mrM2UEb8Cb+TcTjfWO1srnJeroIYZhVxE4sTYNDoa\n",
       "U0pwExqnf9zGCxnsJ2OiPDKxfABxJjeUZuHW5vNgt6xULsOGlK96zHfSIZwsa0hXS/B7Is8LOQLJ\n",
       "wg9xzV1ICmLdkAiZI2cTL+QlcsR5eKQYWPI53ijsJwThyhoUhKTEj3sISUH7BsRWeCH9U8OMQr5C\n",
       "vC5pwl6riYJCOZ8OrnyPEzJyL/l4LL+1rB5nWskqnKBNAbtlJaOMNpR43fJD7/iLcZASGVUY9TXQ\n",
       "p+t88EQPE3pYWKcIBbFuGOlRy3eyGNIFl3/CsyD1yJ2YFKP3l6MNIY4bKLPiJDCIczGr6dDySkFK\n",
       "alhshRfSPzXMKGSSzKCdtJPLgnqMxr6nQZ/ECQm/kvwZdAJ00YFCM3bqsNg5Wh9CawOcMIDEcuCw\n",
       "Fg4CbSi+whr4MFLfRPgOPtR9ozDqqya+MJgTXoJnzMNPF0A7uacuzNtjxvHKuSMguny4CHKPGQGj\n",
       "aA9jRY9NSOTKWHESGMTDM8TzLCOcwxQUWdkiMuGF9E8Nc681oVl8FH+zo+M5IuTSKC8k0HvINAj3\n",
       "aWUzAO1i57CQpbvhqAEklgNHymgAhA2FX+K2IbwxN5p/9zki6bVVHM9r3Cr7rsYjRrbbHaUzzcDG\n",
       "EXB0VRFyh2x3DocXX9S2gyWkMkxHsCkfzrIVGTtlE5JEoBuWQaNWNiO4APlDCgsT9Fo9BHMZEC07\n",
       "jtb26sAaIpcd0Lj3v3G9opCvwaueXTO6UaWQ1XiEy9JX5CcrS6BH8p5O25/wENIXtSOckImCrpCR\n",
       "7TTe8nwN5vIyV2Rb+Mpx1IfgqAnr0VxqfmBh4gxaM8jpy4BoEZyFYmWRnQWjoR2flCNYMk1xAJ6p\n",
       "uHzWbT5YxftavXohq/IYbpX+cyiUryRB1+Yt3kuyX3UX0hc1Ss9ckYP58FyqXhdGmbfl2b+TeSE/\n",
       "/GZiEfUhOGqqOTQ78+E2/DAK12HZlmYwgGgRHHSWGKrNKMOQAxsCZUHHIXM5IaHlxh879s63RS2j\n",
       "o0PeK3LQZTXYXVblsWGAU41ryNA2suCibZecNzrqvZZWTRZ1s3vxRY3S43/qkaC7rvJgx3rbKzo+\n",
       "HNUoju6KDaYJZUtpKRmWBUQclERcssfZEAC+g474iljrn/Ct6mRJ+baxQ43S44V8P/pBq/SlObea\n",
       "b1hEcKx89J+ySR82LhsasywgxcU0EdcI4yS93TlOqPFCFtUpmoeQDCcz3a24WDb1zHgR8qOD44Ra\n",
       "Fb+iq8PvWs/qcD3VMjWk5/wHJU1ssBo1oOgAAAAASUVORK5CYII=\n",
       "\" style=\"display:inline;vertical-align:middle;\" /></a><br>"
      ],
      "text/plain": [
       "<IPython.core.display.HTML object>"
      ]
     },
     "metadata": {},
     "output_type": "display_data"
    }
   ],
   "source": [
    "elim_one_any = \\\n",
    "    Forall((i, j), \n",
    "           Forall((a_1_to_i, b_1_to_j), \n",
    "                  Equals(Mult(a_1_to_i, one, b_1_to_j), \n",
    "                         Mult(a_1_to_i, b_1_to_j)), \n",
    "                  domain=Complex),\n",
    "           domain=Natural)"
   ]
  },
  {
   "cell_type": "code",
   "execution_count": 58,
   "metadata": {},
   "outputs": [
    {
     "data": {
      "text/html": [
       "<strong id=\"mult_zero_left\"><a class=\"ProveItLink\" href=\"proofs/mult_zero_left/thm_proof.ipynb\">mult_zero_left</a> (conjecture without proof):<br></strong> <a class=\"ProveItLink\" href=\"../__pv_it/theorems/f6b01ce5b1867d7e35ffe0de848629babd245bfa0/theorem_expr.ipynb\"><img src=\"data:image/png;base64,iVBORw0KGgoAAAANSUhEUgAAAJ8AAAAVBAMAAACqHiFtAAAAMFBMVEX///+IiIgiIiIQEBB2dnbu\n",
       "7u5ERETMzMzc3NwyMjK6urpmZmaYmJiqqqpUVFQAAAB6qHgnAAAAAXRSTlMAQObYZgAAAAlwSFlz\n",
       "AAAOxAAADsQBlSsOGwAAAlZJREFUOMuNlU1o1EAUx/9bd5P9SGp6EMTCUvbkpRJFEDxlQbxIJWrt\n",
       "pcK2oFEslEUKggeN9q65KB4U1pMXwbUUrB+H9aOgiJiDh4pC14N68aBQsaBC583M7ppJsvrgH2Z+\n",
       "8/bNvPcmWaCv+VJJ/P9xzzKhUMxuJfsTbtPgQ0rAt0LZ6pK6Uyvmu2/Y5/ghTa4nx8sFQjdxWE3m\n",
       "qupbCHPbOT7PJvmp5IClFpcxgqzq8Ur1fQrs57jgspTC5ICbhLQ2zB/qkquAWWDVJWywUxRSSvhO\n",
       "aHMT+h81Q7WIv4ALIce7KpXdKQEXhWos4O9uXYc+zY2xpNpKuSlgi+P7wImUgDeErjjQv3frirK1\n",
       "ABgBTRYqZDuoDWssoMXxZeQju2VmPl6Uw1EhCrjWWX6BN+5XwLSje/OADseam21Iqpe9Rm7WN4/L\n",
       "+V6hmoMinbBGp6rjAXf9pqTMAt61ODatbk8e1VlxDgHPowFZU0xqykCT0530KNrxpqyGAgdP2GNo\n",
       "adjn1//YOXb+aMraFIzetSmu4yg7xki0hvDAaiHwGLveGf9zIZyghZWV3q7TQoaNUtBJ7fSgDYcx\n",
       "9aY/A9WC43nWEwPTOu7QwvJyz+mg1CiO1CUyf07aRfYelBwl4ECY2yPxIHdeB156nheevd1zOiM1\n",
       "Wf3SLf496/1r+n1Dfe8Xy/W/sW7nMUcDakqus2tdKMEuoT+ezwYldoHoQh3wUZXUaAol2GP0x6Vt\n",
       "1S3In6Th+LWZ7qFOScUs5fuk4nHPi5ZmQipmWvLHXvvXf0DeEorZ1mR/hjcAWkaSa7wKcrkAAAAA\n",
       "SUVORK5CYII=\n",
       "\" style=\"display:inline;vertical-align:middle;\" /></a><br>"
      ],
      "text/plain": [
       "<IPython.core.display.HTML object>"
      ]
     },
     "metadata": {},
     "output_type": "display_data"
    }
   ],
   "source": [
    "mult_zero_left = Forall(x, Equals(Mult(zero, x), zero), domain=Complex)"
   ]
  },
  {
   "cell_type": "code",
   "execution_count": 59,
   "metadata": {},
   "outputs": [
    {
     "data": {
      "text/html": [
       "<strong id=\"mult_zero_right\"><a class=\"ProveItLink\" href=\"proofs/mult_zero_right/thm_proof.ipynb\">mult_zero_right</a> (conjecture without proof):<br></strong> <a class=\"ProveItLink\" href=\"../__pv_it/theorems/5cb9fc3330148d88a2e8ebcc4de955374a2cca3b0/theorem_expr.ipynb\"><img src=\"data:image/png;base64,iVBORw0KGgoAAAANSUhEUgAAAJ8AAAAVBAMAAACqHiFtAAAAMFBMVEX///+IiIgiIiIQEBB2dnbu\n",
       "7u5ERETMzMzc3NwyMjK6urpmZmaYmJiqqqpUVFQAAAB6qHgnAAAAAXRSTlMAQObYZgAAAAlwSFlz\n",
       "AAAOxAAADsQBlSsOGwAAAh5JREFUOMuNlU9o1EAUxr9sk01ikpIeCqWFpezJi7KIIHhqoXgpSgpl\n",
       "PShoQaNQKIsoggeN9l72UvHgYT15Ubpoodr2EP/0IB7MwUMFYVsEzx4UBC/O7MwmmWRm9YNvmfll\n",
       "5s1k3pssMFQRt4z/P86kJcwlPZGPp/iANr4qAn7mFjQ3FUGLocLbtPNIHs9oMwuyE+MosA4Vvks6\n",
       "1mV5QCdmFvQWOAN8hArbAaAn8oAj3IJWgF6AkUCFXbIDW3GEX7gF/QHuJbBjJT5Rr59UBNzkXqid\n",
       "nxu8hEFnxtAPCsed4S3gqiLgY+6uduhMc2b9JDN9uP1cvahTHRfxGixhNW358D5vHmN2I/fXaJwP\n",
       "OAOvIa6dw9VA73Bq1sKOsRJ5V3j/NLMJh9XOJVpGZOaGD/NH4ZUz7PlpTnZaJOMLwHsxIEm13+9X\n",
       "uuz0ewmONMpJGeD2G/Iz9moq6pf/xTtk/+Irk7UjIy2TEPgUwJsWzzCPz5Ly1qLvdtKkD/b3s1WX\n",
       "mJudb9BT+A54Tc61eBdyeJXkxMWSiWf0wd5eNugcc+/WSzxPYSUxTpELNFMImMOjLQp+Ax/CMExu\n",
       "P80G3WC+MObtZnfJ2KyRCZVO8d4XsNmwcJM2aFKMwaotZokeYDhe1dsOKSBaUPMRZjl1u8wS7WI4\n",
       "diZnx2Fdo83Fh8vppq5zl6T4PhXxYhiKR9PkLqkq/9hX//UfYPnMJU3IxxP8FznTlPBkkURGAAAA\n",
       "AElFTkSuQmCC\n",
       "\" style=\"display:inline;vertical-align:middle;\" /></a><br>"
      ],
      "text/plain": [
       "<IPython.core.display.HTML object>"
      ]
     },
     "metadata": {},
     "output_type": "display_data"
    }
   ],
   "source": [
    "mult_zero_right = Forall(x, Equals(Mult(x, zero), zero), domain=Complex)"
   ]
  },
  {
   "cell_type": "code",
   "execution_count": 60,
   "metadata": {},
   "outputs": [
    {
     "data": {
      "text/html": [
       "<strong id=\"mult_zero_any\"><a class=\"ProveItLink\" href=\"proofs/mult_zero_any/thm_proof.ipynb\">mult_zero_any</a> (conjecture without proof):<br></strong> <a class=\"ProveItLink\" href=\"../__pv_it/theorems/9d00afcfdb9e59ddb538ab61c5becbe046f2d27e0/theorem_expr.ipynb\"><img src=\"data:image/png;base64,iVBORw0KGgoAAAANSUhEUgAAAoIAAAAZBAMAAABX4FKPAAAAMFBMVEX///+IiIgiIiIQEBB2dnbu\n",
       "7u5ERETMzMzc3NwyMjK6urpmZmaYmJiqqqpUVFQAAAB6qHgnAAAAAXRSTlMAQObYZgAAAAlwSFlz\n",
       "AAAOxAAADsQBlSsOGwAABpJJREFUWMPtWX2IVFUUP7Mzb97MvHk7o0kJG8swKRmLsUnkIhqzYQaa\n",
       "8dTVitJRyjHUbHUD+4AcrUQItvlHib4cqfCPCp+iWGY5pQbWhM8lUPtyFyzpk91wsaxlu+fe93Hv\n",
       "m483GzuyRgfum/POPffsu7977jnn3gXwosbkFPifKpAvOdVbKXwFPyhrtjFG2Sri4phC0GewNtZo\n",
       "VxVxEXrx55uqCDbij1qo/5d+abbRoUD7ezYvPZQQO5dM8zZg6/hK5z67KcvERTiE7y9VRVDJ40/9\n",
       "d5eUY22U6DVY6HxzWHf1vlKDBVtnewkohjSFiYvwDHmGlldFUEY/3Vp/F1QKrI0ORRMQcOYVcweH\n",
       "oRpM2Dqfu3s+AZjDxEUIa8TfjepxELGeX38E/WYbHQr2gjpov+3RxN7IoLcFR8fvGg3rAM5pVFyE\n",
       "aMEjWYRZvsnVH8GzZhsdiukgO452hztIJmoIpLZO2L0z/gLYZFAxwWZaMnmrB4L+ZPKGVP0R3G+2\n",
       "0PmJcbGnu32z93DXsDRB8G/77fVxv4qz6mv2TPqOTqDXFbERwQIVEwQPAqz0QFDphKBWfwRfNdsb\n",
       "2aC4xyJt8Jj333cNezEF8oA95T+1tJAK09ulP7wMOjpRugP3JZFuxsW6SBCMUzFBsBtCBEqJ2e8s\n",
       "iyBR6L4CZddU1qSZoIh7bFEB9nlncjbsPh7Bi9YLiYh+wa9JFLvFyyLTkXF4q8vdEcEUFRMEg1qA\n",
       "VCsBZv9GptAyF472chX1Spg7EiietHOgvKO0V5T51vRZO3QGa0o/NKRAOsH8AFf/CMAkkGb/plFv\n",
       "KuMsqMSGQbulk05BZMDuzEEsxZt8H+Cil0XUAWggXiX3u1aLyPfEqZggqMbFRLL+h9XwXUBTNA7B\n",
       "UyNLJI1O0DxfptuSyc2ZvLQuqz4sIuhfDuk8rB9PZQ1Yx90G0mVQTM9sKTVIldgwRi0sk6hDVifB\n",
       "do/Bm5wEkSEvi6hjhpHW0kxyzqBimmU/Foqyg3hGiesB/lQXjsZHVJY4wWB6mW5L9gFRCywAOCbu\n",
       "4nQcThKux1nxAYj2QywfulQ1arFhTjWzHKKDXDl4RONMklJPGfSyiDpmEEiIcRAyACc1KkYE55Ny\n",
       "L9JMP7XJgOuROf3VZgHBwFnikdLdE6xgzLGca9vCTeO+t9xsoLkkBVgyeih68CkSNMyOFaylDfhR\n",
       "zfIIDkFj7kxU80CQDttlZ81oK+5dC8FOEiZ5BC+R4OplEXVgwYdoy33kOEr3OIoRwWfJH10Qw0kp\n",
       "ak6iuqcDS9/kEQzdTh4Ls5ss2DjWIUc4Xmuyotxkn15yf2DKluDjzBmn4x7WgnG1RRGmuwJ6dJ2v\n",
       "z2joYtHOBokOk+KDXGJaZO+FxkJQF0z+AmugxCI15likOjpWqIq7lmswpOlMjAg2kr/zPDW+OKBH\n",
       "aO14GvRrhbuZC7jpoIsc7qj7IBs5dUi0SvuDyK2FE6ZisBDNvduUFw8LRAYkzL6DL8ePOx0bWJP6\n",
       "7uq+TpjusglP9JGP3OC4c4v1aLAXiA4LLXWy+APtFxw3Pn8YRJPzcKIuiyxk6ryOpM1DWd693/Y3\n",
       "dzJxEbgdhLV3dEcm8yhBsCNccrs1A5pB7tEs1g9p0SoKrUD3kano71R6W6V+V5RU6FY7kclkjI27\n",
       "uYXtZI1RT0nFvLKWs1y1gN3zbyxihbqlfNcW7n5QGqRfHsvKKeaDkVNuBEl1uXYxNGgWG0KX45cF\n",
       "hSoWE9APs5gixMBvZGUxk6EsSg7lj9Nqn2QSyYpcOmsVEHwBtnnPN33vCBCsySIW1YfLdx3mEFRz\n",
       "ukSw6zLPJ5+B7U+OD7bJl48jMESRsrAa2Q77gUL1a+QmkxCLCHaQ56fEL/KcFpNtux/YMSc0L0tL\n",
       "OEqPmK28w6zaeKCGs7VSO4I1WcTlr3B3RcW2D/Zl5VkUtq1YQN6UZdeqAoJvfzGhgMAQRcqSsx5h\n",
       "u7JyGz5M4SqUPT0OKIJdhrw3Ts+NhGszVZnsGE4ArXbsWGNv3CVWfiH03M52V4k0PNzvjeCyiZX7\n",
       "3CZrsugjESdY/m6UivlbfpXueWlOZnWVW34ERmXsnT6bBYuTEobJ0V1MD+YBLW5ylBj3E4KXyYgR\n",
       "OhRnbSwR3r9UWJWJ4ELwrfDu1vI3C5xPXzOfKDL58O8WS0ebGUljHFWM0Fi4czhhcrS8Z1wCrg56\n",
       "uctDgUewoDRpXggyxXJsOS5aifN9q18lCO49MAIEK7lxHf5frP4M/w3yJWf+A1C121kAoUsQAAAA\n",
       "AElFTkSuQmCC\n",
       "\" style=\"display:inline;vertical-align:middle;\" /></a><br>"
      ],
      "text/plain": [
       "<IPython.core.display.HTML object>"
      ]
     },
     "metadata": {},
     "output_type": "display_data"
    }
   ],
   "source": [
    "mult_zero_any = \\\n",
    "    Forall((i, j), \n",
    "           Forall((a_1_to_i, b_1_to_j), \n",
    "                  Equals(Mult(a_1_to_i, zero, b_1_to_j), zero), \n",
    "                  domain=Complex),\n",
    "           domain=Natural)"
   ]
  },
  {
   "cell_type": "code",
   "execution_count": 61,
   "metadata": {},
   "outputs": [
    {
     "data": {
      "text/html": [
       "<strong id=\"mult_neg_left\"><a class=\"ProveItLink\" href=\"proofs/mult_neg_left/thm_proof.ipynb\">mult_neg_left</a> (conjecture without proof):<br></strong> <a class=\"ProveItLink\" href=\"../__pv_it/theorems/e02108d2fb684ef04e8c9be9dc9f647b656690690/theorem_expr.ipynb\"><img src=\"data:image/png;base64,iVBORw0KGgoAAAANSUhEUgAAAR0AAAAWBAMAAAAP9FU/AAAAMFBMVEX///+IiIgiIiIQEBB2dnbu\n",
       "7u5ERETMzMzc3NwyMjK6urpmZmaYmJiqqqpUVFQAAAB6qHgnAAAAAXRSTlMAQObYZgAAAAlwSFlz\n",
       "AAAOxAAADsQBlSsOGwAAA1BJREFUSMfFVk1o1EAUftsm3f81RRRxtay9CBVhK4ogCFvwUsSSxVIR\n",
       "pbagq1Aoi1UEQZta9ChBUDz0sOJBBKVFBbUuugVbKD0YWg8VC6ZYeu6lWMGDM9lk38tsNvHmB182\n",
       "+2W+mTd5b2YC8C/QCAkiYrtII3NwC4/uGyJkICliCgQIIJr2evX/hNDkwop/PF8JXdgTKAimZM5z\n",
       "vhXkNBce+4Yj60g3omqQIJjOeo/wEHmbJ3XAN554BelGYipIEExl7xEWkHxGkuEbTzOhgCOBgtuU\n",
       "bTCCWmOCxR/1L59vhAImAgWXKal7jxCtIA+1tx/2j+cNoYN825kT7K32oFAG2aQCMWPycmitVle6\n",
       "Av0sQSbyLcAl/3gmCB1MhVbjGYD5mpBbgsSGLcTbLZh1L4zP37FakJJZ+MLKTkfeh4jptQaHVsfs\n",
       "24OETt1qic0U63zJEcLGK0gNEAGIuYYmA60WbrHI1lkes8gWVSq5uwi3FUrysJa8aP8/hpQfWDMv\n",
       "hiFulcIov1zgewF0QrNiCxTExOqVjeRY5d/sojJPJ9M2kElFLOcPzCnlAT7Xx0OWhLUVP7VmzRd5\n",
       "bBNGi7YgxENMJbTCAX6ZVMO/mDmLBH2GXVrfpdnpEWuDlLVLwvmbeNZ45It1pMlsgS5iqeqwHWyB\n",
       "1k9dvhxrFe8hxPOUQcIptiuGtPUoa5vfpo5AH2+3vIy9DBLa6Cv9BIn9ztWUFhOGXQIxYyMFrVUM\n",
       "cyMkBpAwzgUYDLPbu4uwE17wdrOz2EsPoY0f11/DS9dqjpuxP+LyBhA2AL6eHWsVH2GyUt0HHEKq\n",
       "yB9sWY/XYBXmC4WCceMZ9nKV0Ma51mSZv/sOPKfW0lsugZhxpWTQWkV/1ydWJ00lpN0ya1VLBxyF\n",
       "a9ZM8nzN2FkvIoXvnQydvC4INTNif/3G0s14h9DCuKTHoZe1j22wDYCPdFKDLnJIOmx4WHbDaSP4\n",
       "yF0Qnkq6fNw+Zsv0uI3v7toBIwZ8n9MhcpkrvY+GajO7QujCPbzdx3LtEqgZC1r4BGxSUrnq94VD\n",
       "CkPWWtgEewsF9w7ZR9horJV0yStiwSQLIyZnpu0oHdKvTTWlPPc6wCIK0nWmiB+8Ic3bjBjz6n8X\n",
       "IU01xGZy8H/xF+Q56VLc5tfVAAAAAElFTkSuQmCC\n",
       "\" style=\"display:inline;vertical-align:middle;\" /></a><br>"
      ],
      "text/plain": [
       "<IPython.core.display.HTML object>"
      ]
     },
     "metadata": {},
     "output_type": "display_data"
    }
   ],
   "source": [
    "mult_neg_left = Forall((x, y), Equals(Mult(Neg(x), y), Neg(Mult(x, y))), domain=Complex)"
   ]
  },
  {
   "cell_type": "code",
   "execution_count": 62,
   "metadata": {},
   "outputs": [
    {
     "data": {
      "text/html": [
       "<strong id=\"mult_neg_right\"><a class=\"ProveItLink\" href=\"proofs/mult_neg_right/thm_proof.ipynb\">mult_neg_right</a> (conjecture without proof):<br></strong> <a class=\"ProveItLink\" href=\"../__pv_it/theorems/683e2492022bf8f66cdd4096af7d2ebd02f343110/theorem_expr.ipynb\"><img src=\"data:image/png;base64,iVBORw0KGgoAAAANSUhEUgAAAR0AAAAWBAMAAAAP9FU/AAAAMFBMVEX///+IiIgiIiIQEBB2dnbu\n",
       "7u5ERETMzMzc3NwyMjK6urpmZmaYmJiqqqpUVFQAAAB6qHgnAAAAAXRSTlMAQObYZgAAAAlwSFlz\n",
       "AAAOxAAADsQBlSsOGwAAA2FJREFUSMfFlk9oE0EUxl/a3STNJjFFFDFaYi+FSiEVRRCEFLyIKFss\n",
       "laKUFjQWCqW0iiBotxY9ShAUDx4iHkRQWlRQa9AUbKH0YGg9VBRMsfTcS1HBg292ZjPzdrNLb37w\n",
       "S7Kz87282Td/FmA7sgREUe9l1M/sZ6LhLdieQhUO1X56GUtx6pl9TVyPFaqs4XtwPl8ERImcq2Gf\n",
       "oI7Z38RTLktmWcPDwHT0Aoeqz93QZHK85gAT133JTVbUgcB8jDKHquRuiM9wvOYAE9eShI1IqwTm\n",
       "0yigynpajgg85iAT72TWiGP+TcHT56uATh9PAeGRwGMOMvFSlyWHWlsPB+fzWtDdcu5E7Ukayszs\n",
       "LoGO6+IMcDxmICY1jJ4uQz8WqCp5A3ApOB9n3DOhNSOjDslRbgXimwCLwAGj1VYV3A/MNqlhtEQW\n",
       "PuO0K0juQrRabw0Or02Knx2cuBXfStayaJBzLlJ5CUlcEivAIepQL5iJhLmBmW1gHbOSsKkVaYhI\n",
       "S76oj1iJi+L6GCcChl1+/Y89BdHUZz+GNh06oRF3wgngEKFRv2f3G+UmEsZEXye2bUoSKfd0fo9O\n",
       "rRvgE80H7D9FHXTyqW3NWzCBnifAceejrKOiO8y0GfmFAbISKMzhR/PbNJ4esRZI2rskXLguz5oO\n",
       "57FPW7pZp15swDvxa1lA5o+nXjTMOwixOmUkcBp3xZC10YR9u3eY49DL+q2uyiiDnN7iT9BqjWHl\n",
       "qApXYQS/FgREg+oFM9EwI8wM8QEJTLEGGIzgz9vLsBues37z8zKKWMc/rr6CF7VGTVkERjX2V9kX\n",
       "iMgGwEw0zAeYLvN9wAGSo+zGb/v2OqzBYj6fr1x7KqOMcc43J0rKosooZ9R6mtnbBURjZKVk3GH6\n",
       "uz7iPGkoSkTPrD1b2uEoXLFHgvNZd6o+yqFqIwPHJRPNcKiosc27sZxEbinYmtIKBvRg/9gmbgDs\n",
       "iD1lQVfgQbmkhjxb8Tt2qXHJdVcr6MfFMVtSj1tjb9cuGK/At4UCRC+zlp4Hw7WRDQmIwvJt7gDW\n",
       "GeCOwKUhHxN/eqlkjr9fOKiq6FYYB9iTz9MdsldAX2yk+Xu66Je1y6i7/jExNyuydFDfOM1k6lm9\n",
       "Ayya4lBNug4Yi1PP7Gvi2qOglhpiczn4v/oHo9LogA4zalYAAAAASUVORK5CYII=\n",
       "\" style=\"display:inline;vertical-align:middle;\" /></a><br>"
      ],
      "text/plain": [
       "<IPython.core.display.HTML object>"
      ]
     },
     "metadata": {},
     "output_type": "display_data"
    }
   ],
   "source": [
    "mult_neg_right = Forall((x, y), Equals(Mult(x, Neg(y)), Neg(Mult(x, y))), domain=Complex)"
   ]
  },
  {
   "cell_type": "code",
   "execution_count": 63,
   "metadata": {},
   "outputs": [
    {
     "data": {
      "text/html": [
       "<strong id=\"mult_neg_left_double\"><a class=\"ProveItLink\" href=\"proofs/mult_neg_left_double/thm_proof.ipynb\">mult_neg_left_double</a> (conjecture without proof):<br></strong> <a class=\"ProveItLink\" href=\"../__pv_it/theorems/fb14b513c72dbfe7f2c92ed9ed4fa92a9427773e0/theorem_expr.ipynb\"><img src=\"data:image/png;base64,iVBORw0KGgoAAAANSUhEUgAAAR0AAAAWBAMAAAAP9FU/AAAAMFBMVEX///+IiIgiIiIQEBB2dnbu\n",
       "7u5ERETMzMzc3NwyMjK6urpmZmaYmJiqqqpUVFQAAAB6qHgnAAAAAXRSTlMAQObYZgAAAAlwSFlz\n",
       "AAAOxAAADsQBlSsOGwAAA0lJREFUSMfFlk9IFFEcx7+r+/9fK1FEK2JeAkPQSIIgWKGLRLJLYodC\n",
       "FGoLBBEtgqCckjzGEBQdPGx4iKBQKuiflEIK0qFFOxgJrSSevUgGHXrv/d7uOPPevrz1he/szGfn\n",
       "95vfzHvzewPsRpa0iSDsjQrrINTAagmrylckmwgQTUEFCoQaKPRYusQPVs31fJU2EaZ6HajXp1OL\n",
       "nCW/4wePjOUEbLKJcEWyGqBATaDQA/ItPsh9xnpis2QT4YpPa4ACNYFCn8m8fn/RWE+ttIkItetA\n",
       "uy6d7ipZ4TirNmKePt+kTURoQgcmdOk0isySjzY1HTPX80q6Osk1nDvFnnGXA2YQKBHo0qWTATSf\n",
       "0rPoZYNUIr8GLpnrUe/SS6Z9a7FGYLECMsuIbxIQMNYkVCoHywAhf6IVX9hEs8n3EC7p3r+Btdty\n",
       "t0XakYfErfhWkj3q5TIIFV8g2Udg2Zu5xQkQuskq2wBYVcLBrL/gDgg15AuBQStxUR6fIAfui3sc\n",
       "UkkIMfEOj/Kn/5tv0IbaFIFRbz0ssBwgTs6yM9sY2yQnUt7p/J5d0p8DPrnrcad0k1rRhif55oho\n",
       "zVsYHSIwqamnHEAnT2VDv1hIKxn2HNvUvUmz1SPagKTokrhww1l7/jleLKUVYK/rktNjbOwFgSXv\n",
       "/GlxAkhv4eNj1UjGGdYVfdZGhM333J7sCHr4OSsrzsX6pauSnsJP+NnvQoUESxiUYMH7fPqdANIg\n",
       "Px3xPjLG+AH6Q2z37hL24xk/Z37eSaC+tR7y49pLPHe1gFgp+kfbKSiwHED6gCne7zNkJPkMxbb4\n",
       "ax1rWMzn88XrT5wEw9JVyfm6xAzvJs3OGrWe3pag2VvPsBNA6u34yOZKTYEs36lWMVuacRxXRVPI\n",
       "8beEVDNEdqQS8b3TuOPAbxNwwUqwR53Md6SFxvx2DN3A4egmawA892kLHVWXxX8ulJ04W9ztsuu3\n",
       "AyfZz4w0pTrYsQ8jRXxfsBG+zEn3w4HKfVyRdqQSpnFn9xAbeQLjaqv1BNakkhn6xvB+ZxQDVpDd\n",
       "Tnc+7+6QPdIm4r7OarpQrWolMDHHv8GCFnnn92U2mXqqW8DCKbKJ8J4BFfgsfTpFB6R3Diyicxn8\n",
       "X/0FnY7nn3CMguYAAAAASUVORK5CYII=\n",
       "\" style=\"display:inline;vertical-align:middle;\" /></a><br>"
      ],
      "text/plain": [
       "<IPython.core.display.HTML object>"
      ]
     },
     "metadata": {},
     "output_type": "display_data"
    }
   ],
   "source": [
    "mult_neg_left_double = Forall((x, y), Equals(Neg(Mult(Neg(x), y)), Mult(x, y)), domain=Complex)"
   ]
  },
  {
   "cell_type": "code",
   "execution_count": 64,
   "metadata": {},
   "outputs": [
    {
     "data": {
      "text/html": [
       "<strong id=\"mult_neg_right_double\"><a class=\"ProveItLink\" href=\"proofs/mult_neg_right_double/thm_proof.ipynb\">mult_neg_right_double</a> (conjecture without proof):<br></strong> <a class=\"ProveItLink\" href=\"../__pv_it/theorems/3ffd9eff84f5bb8f479f6a267f4a9f1bd707bc6f0/theorem_expr.ipynb\"><img src=\"data:image/png;base64,iVBORw0KGgoAAAANSUhEUgAAAR0AAAAWBAMAAAAP9FU/AAAAMFBMVEX///+IiIgiIiIQEBB2dnbu\n",
       "7u5ERETMzMzc3NwyMjK6urpmZmaYmJiqqqpUVFQAAAB6qHgnAAAAAXRSTlMAQObYZgAAAAlwSFlz\n",
       "AAAOxAAADsQBlSsOGwAAAy1JREFUSMfFlk1IVFEUx/+j82bG+WokimhCzI1gBBpFEAQjtJEo3pAY\n",
       "UYhCTYIgkkUQlK+kljEERYsWEy0iKJQS+pIaIQVp0SNbGAmNJK7dSAUtOvdjvO++mbnTrgO/ee/+\n",
       "3zn3nTv34zzgX8yR6IpJiHhAHd8ar6htAVegKzAJ0ZQCdXy5PZSUWGPZnM8Xia6YhV0e6vnyJIuC\n",
       "N6xx35iOlRfoCowCmmxFPV9udwXX2CQPGPOJFQW6AqOA+JSini+3jwKWf9A15tMo0RWzABzwUM+X\n",
       "yzYnTtk2mZfPV4mumAXggYd6vnyCi4J9bW37zflMS3Ql23LyiOsVypadgUW75DgUxmArXUQ/TVJJ\n",
       "8BI4Z86ncpSsNRVYibV6hbJlFhFfBxagQKyNW6lacDDRiU+00PKC24iUqu2/4ZXr8navRBm14k58\n",
       "I1n0CGULu8+RpA2yCIUx+CpltgZQVpyQHSzoAeGWXMEacRJnZfuQwLrDxzgqWmHE+L61fpddTvHH\n",
       "7Ra60Ein4DgUmvmDbfLuIm1dkEj5l/NbemUwC3zQ89G7BH8p2R74Hkc3ME49PILCHDxph39SWKcA\n",
       "+Vn6aX6VpuoRbUGSn5I4c0XVnqrzRd04ll1lvtjQt9Llswdt/VQEv0aAzVWrAMfoVAw4a0203rNb\n",
       "7DH0MZ+lJfWCQYmm9BV+IKi5lC1Uwghd5j2Yg0dYCOIDAkywBgbDdHvzM7bjKfOZm1MdVO5aan2/\n",
       "9ALPNJfN/6cU/eM5Jab9+VQEv8MkqwAZAZJsheIXf7SKFSzkcjn38mPVwQWJppxuTsy4mstmfVpN\n",
       "s846PJiD+7vf01ppKAjknurkq6UDB3GRHwq0ni35rGFUoExvVQhB2jyRVoXJl1sPcUPCbSKYj6EX\n",
       "aI+u0wHASuxRB92+0qgXS9QSenDCVUW4eqXVs7cO02VGIuZ8Z/c2jLn4Np9H5DxTeu8Nb45jSKJs\n",
       "yP8Sj7CbZh245aG2L/+/UsmM+Mbwf2e4lhOi4fTmcvoJ2SfRlVrCcrrgGcNQZT6+4MQs+wYLOQLv\n",
       "QWYnU0+qFbBISqArMAkBR4E6vtx2SLwTi+hsBv/X/gIwKucYDJeRrQAAAABJRU5ErkJggg==\n",
       "\" style=\"display:inline;vertical-align:middle;\" /></a><br>"
      ],
      "text/plain": [
       "<IPython.core.display.HTML object>"
      ]
     },
     "metadata": {},
     "output_type": "display_data"
    }
   ],
   "source": [
    "mult_neg_right_double = Forall((x, y), Equals(Neg(Mult(x, Neg(y))), Mult(x, y)), domain=Complex)"
   ]
  },
  {
   "cell_type": "markdown",
   "metadata": {},
   "source": [
    "### Theorems for number relations"
   ]
  },
  {
   "cell_type": "code",
   "execution_count": 65,
   "metadata": {},
   "outputs": [
    {
     "data": {
      "text/html": [
       "<strong id=\"left_mult_eq\"><a class=\"ProveItLink\" href=\"proofs/left_mult_eq/thm_proof.ipynb\">left_mult_eq</a> (conjecture without proof):<br></strong> <a class=\"ProveItLink\" href=\"../__pv_it/theorems/53f6febf729a7507ffaa0d37216beef712e326800/theorem_expr.ipynb\"><img src=\"data:image/png;base64,iVBORw0KGgoAAAANSUhEUgAAARkAAAAXBAMAAADNQybgAAAAMFBMVEX///8AAAAAAAAAAAAAAAAA\n",
       "AAAAAAAAAAAAAAAAAAAAAAAAAAAAAAAAAAAAAAAAAAAv3aB7AAAAD3RSTlMAq1RmmUTNIjK7EInv\n",
       "3XZ/CtNrAAAACXBIWXMAAA7EAAAOxAGVKw4bAAADQ0lEQVRIx71WTWgTQRR+2d002c2POQmlUgL+\n",
       "XLSagxTqIUbqfwWXFvRSbKAHwdP2qFSIPWql8aTxULbgwRJoUgWVCqUqgihKkRa9FLZYqXooPVnp\n",
       "yTfzJs1md9IWI/3gyySZLztf3rz3ZgD+ByxBL0L1xNt9wL8gniT6EHTkYh+uCCbYh72NuTko6Mc3\n",
       "udhvMUU8xT5cbciMkSVK0GTLxBJcI95i25tvyI2WIkqgZmRiCY4SmftIsiE3UUEZ3svEsmfYnCp6\n",
       "bWosbQ4IytAvE8u2NEX8uLDwoTE3XYKhluVqDU0sPn6JIZ+Uid1CYykFY7g9CeJZgIfbWDJTf6pf\n",
       "sNfS16v6eKs2C9DOc2WBIwESYUSZgeOYYFniAIQSdRe62WWqr/i7TRL9M9F4A2x9kb6Wuh7AyB+S\n",
       "iGuEQ/i2GQA9cep2xJQuEl4smEpiCs5v5eYtUVuFWJnF/jf7MWi8lEck4hqhHXXgE+pXiYpTJ4lP\n",
       "5nAyrUF5m26ieSjx/zVHVcJTo1cirhX22eE/2LVniJBN40sx/ZxNrZxZwuMiuAgB3hpBGbrsuN3Q\n",
       "PG/6TFOzUyWHJcAG+iwDq7bNmzc+4WmIs12aJcIT7IHGl/Aaa9BWcxMWwsQuexjGmVTJTe13ueHz\n",
       "5wqIFNcQRomlJOxWKkffuLkHIjh2eGPjFcI90NGmmifCIH7QMmEWJhVGwzjcaIOf0ENutHi+6kbM\n",
       "Q0VDmCTqjjKnVdY4cvsCdIuCroFXCCegj/XyMhECmB9RM06FtcZfW6AV2jECSSVnlLPuvFnbeArT\n",
       "EO4SjdYXAz8qs49WlE7W4ee9brxCGJu+iHGKmUSOkqUfYwdceIZfSebhHdyh2EC343LD5mmnuIYQ\n",
       "yxFlF5xZ7zcS4TPWSgSpAKyRHrsIg5GsBkWAr8FVrHy2NSaIoHE3fF6AaapHo5qpe6Bufo5GssZr\n",
       "HDoFqUI6Dz+F4aT2ffoXDrCvIwuhByyuV8UNiNzweQGmEbgv6Md1/1ceYcwJlOkW4b1JiKM8aVg6\n",
       "/qdioeBqi95+QxpRQIJbLg1+oZJmNyzdIrrvjbYYAs4l30O8btyakEP0X+kkd12pcFnQvaWVIZgu\n",
       "b+lGptk5WDuxyF8cXPTvsZfI9QAAAABJRU5ErkJggg==\n",
       "\" style=\"display:inline;vertical-align:middle;\" /></a><br>"
      ],
      "text/plain": [
       "<IPython.core.display.HTML object>"
      ]
     },
     "metadata": {},
     "output_type": "display_data"
    }
   ],
   "source": [
    "left_mult_eq = Forall((a, x, y), Equals(Mult(a, x), Mult(a, y)), condition=Equals(x, y), domain=Natural)"
   ]
  },
  {
   "cell_type": "code",
   "execution_count": 66,
   "metadata": {},
   "outputs": [
    {
     "data": {
      "text/html": [
       "<strong id=\"left_mult_eq_int\"><a class=\"ProveItLink\" href=\"proofs/left_mult_eq_int/thm_proof.ipynb\">left_mult_eq_int</a> (conjecture without proof):<br></strong> <a class=\"ProveItLink\" href=\"../__pv_it/theorems/e2ee743e2daf5bee1b65c425d330847a8423d0cf0/theorem_expr.ipynb\"><img src=\"data:image/png;base64,iVBORw0KGgoAAAANSUhEUgAAARcAAAAXBAMAAADTihZTAAAAMFBMVEX///8AAAAAAAAAAAAAAAAA\n",
       "AAAAAAAAAAAAAAAAAAAAAAAAAAAAAAAAAAAAAAAAAAAv3aB7AAAAD3RSTlMAq1RmmUTNIjK7EInv\n",
       "3XZ/CtNrAAAACXBIWXMAAA7EAAAOxAGVKw4bAAADR0lEQVRIx72WTWgTQRTH/0l202ST1oinKpSA\n",
       "RQWpRBFFD22ktipSWyh4tAEPgqet3qSW2IuHVqwHP6JQtyBCjdRYRaGHEgTRIpYoioIUtlIRLZQi\n",
       "aHoS52uT7OyuVVL64L8fMz9m3r43b2aBVbAaIYfp/9GmY3Xss5DDTjib6uIeHFWMvmyuyhd/jstl\n",
       "5oSjabsXR9VGX05V5cxdIRc7LTdoKU+O6ALN93BVzrQKudhuuUFJeHJEQQOIxKtyJi/kYlFDbvDm\n",
       "iALE1WB1SybF5WZBORBbvDmq17Ozr6pyRslxoXeqv7w2FjcOTpCYxyT4KOygNp/AKOeoDgM3V54x\n",
       "6d1lfZX6ArdLWVEwZ3YAARaxjllqb+jjSdjBiD+PFs5R9aIm5jmRb/rxLebHX5Z4bZzrfgIdpca9\n",
       "aDE2kPTJa+kt7OCAUkA956jCRqTLdZLQXKarVo+MGys4E+3i6gQ+0cD/oo1ptLMxliT4OeygETUx\n",
       "wzkqv+mxfg+mSegwcBb/6Mw0tJ/0/R1vnqEXNe/ijA3sMULLnGNsqplcss1PadfioXlyRqhz8Fm7\n",
       "ZzJZ4QzvZrNQxJYm7TcCFXFQi7hHvrQgrRmSJjvYjro85xg7QbY+7UOoSLdlvT5Ihh5fZwxhjLGB\n",
       "M+myM6z7SIZYgiHcwiaT9gO+1FarSK768iAVFpAjOgI7iCsIxzjH2D7yoiRDNEgBjITI7VwTvqGb\n",
       "seMRlJ0R3bAQURCiLEfQlLSKzr98J6/GRclX2kPYQRxAT6Jie/Clac7reEkV2XUTGrCHBCCO3CSN\n",
       "dmnNFEujUkQs9ALX6MLFhrQVmWNm4y6aQrk2LsEOYnSqU+dciX2gh/fTqgnl2X/Je7zEIMv8tgQm\n",
       "y87Qbp4mhgj7KORi5x37QNrBPBFciY3ql7uNLPoiKQVZMrS6REqepkCBWig5w7otD9Ql6ZTzOkNt\n",
       "FpB2z0hKeyaftWrrjkcYiitfpr6TGxr3pVBzg7TvXL9wLVZyhnULo4i1gnUul19A545wXYqU6ctx\n",
       "TmbF4R3X9DBZVNlMppxxeVSOiOdhLqe5uDgmnbLNbe6foxri5jOPy2PIc9mQfiGHfXUJlunBSWzA\n",
       "uqnNuZWccUHWzvS1mOQPey31UrVp0VYAAAAASUVORK5CYII=\n",
       "\" style=\"display:inline;vertical-align:middle;\" /></a><br>"
      ],
      "text/plain": [
       "<IPython.core.display.HTML object>"
      ]
     },
     "metadata": {},
     "output_type": "display_data"
    }
   ],
   "source": [
    "left_mult_eq_int = Forall((a, x, y), Equals(Mult(a, x), Mult(a, y)), condition=Equals(x, y), domain=Integer)"
   ]
  },
  {
   "cell_type": "code",
   "execution_count": 67,
   "metadata": {},
   "outputs": [
    {
     "data": {
      "text/html": [
       "<strong id=\"left_mult_eq_rational\"><a class=\"ProveItLink\" href=\"proofs/left_mult_eq_rational/thm_proof.ipynb\">left_mult_eq_rational</a> (conjecture without proof):<br></strong> <a class=\"ProveItLink\" href=\"../__pv_it/theorems/5ebc7fbb69c01fb5a88f62fb1d62a88d817f5fd40/theorem_expr.ipynb\"><img src=\"data:image/png;base64,iVBORw0KGgoAAAANSUhEUgAAARkAAAAXBAMAAADNQybgAAAAMFBMVEX///8AAAAAAAAAAAAAAAAA\n",
       "AAAAAAAAAAAAAAAAAAAAAAAAAAAAAAAAAAAAAAAAAAAv3aB7AAAAD3RSTlMAq1RmmUTNIjK7EInv\n",
       "3XZ/CtNrAAAACXBIWXMAAA7EAAAOxAGVKw4bAAADc0lEQVRIx71WXUgUURQ+uzuzP7OrbQSBCTKg\n",
       "5EMUS0U/PqyGaUWoC0L0ELnRQ9DT2GOYbPVQoJVBUduDjRCBbeRmkEEgSxEVkUgYBSGMYdgPyBKU\n",
       "0kN0z713ZnfvzJSx4oFvZ+fcj7nfnL87AMthAQ6baf/h02CZ7COHzQ7bXZWqCw8RxZva8sR4swwO\n",
       "W8dsrg1uPEQL3hwrT81tDgc7LjqUpCuP4DSmfKA8Nc0cDrZVdEgxVx6BXwcIq+WpyXE4WEQXHe48\n",
       "Ah/R6i+zbJIMTuYXQ7HenYd4PT39qjw1UpYBusd7C/Uxv65vlIQ9KpD3Y2VUzxkWbzYGQ4yH2Atw\n",
       "YwlbNrkvme8lP4ebVmIkmDHaAHwYM2maGhV2lOCQFvpl8sLeHDQyHqIbAlH3nTJXVrOp9JdCr1AZ\n",
       "7sagzXJuh0Z9DcmgWE9vSDiegjRp3p8hf6sYDxHSwwnHTYIz6UTgMYQ3/0tNJMHQAfABY/8TnSlo\n",
       "pQ/JC+RnJFR5qMiaRD1iwATjIbyGSxHvTpE4ngBli7ZENS9B+YH3U8w9gT9yzq4mMgAjCYvYpQcX\n",
       "GY9yk3HMSHwMl+b3zJK95RnwsDF6vh7AMApq2DrdBjklmVJ+g68oEvIC3CHvOinUDcnUiIGVYlor\n",
       "VOYYj3JHyQxU3gUXcEBrVX7y6Hur9H4YRmpDrEQNXd+XJhajHGYhg0L5Dp5kvdkqVz05IOnwiTEd\n",
       "JGpUWOu1zsjLEIoyHuX2kBupKYhh8sFgkFxOboQv0IlUVGJkLTV8HUwObwvenYOwsclsPe/irZys\n",
       "8s4vtvuo3DslWY5d0BUrmhKeFKa9kjXWAv2thhrYRiKgHhQyxddNDi/3SYahb+dqUmZs2o06LP8K\n",
       "sUMukLWaR92fLcfQeIfGeBZ3RAs14KgI5uhnylt4AX30tYUqxnWWKcrh9p7DwU7ZxkHKxnnIeRY3\n",
       "ol3q1DPQE05KkCGPlvOk82mXQ7i20OF03ZQg54Ujz+1ALTGfMEbDSeWJePDKzZseQL8qfRr/Si5Q\n",
       "tzMJget0+k0dSRXU0HVuyDHLWGNw+Ci0D4ZrQqwMT5bxRC4/ylVFC5HCyqTTJJFjZ8Fx+jEO/z/A\n",
       "YDcHjcPCkRtvcX4fWecXj3GgcCTWtiec1BRzoJfDZnMO4TJceALXZ17keFFfXtzhGJsSzoqbthKb\n",
       "/AHtHf2wCDot5gAAAABJRU5ErkJggg==\n",
       "\" style=\"display:inline;vertical-align:middle;\" /></a><br>"
      ],
      "text/plain": [
       "<IPython.core.display.HTML object>"
      ]
     },
     "metadata": {},
     "output_type": "display_data"
    }
   ],
   "source": [
    "left_mult_eq_rational = Forall((a, x, y), Equals(Mult(a, x), Mult(a, y)), condition=Equals(x, y), domain=Rational)"
   ]
  },
  {
   "cell_type": "code",
   "execution_count": 68,
   "metadata": {},
   "outputs": [
    {
     "data": {
      "text/html": [
       "<strong id=\"left_mult_eq_real\"><a class=\"ProveItLink\" href=\"proofs/left_mult_eq_real/thm_proof.ipynb\">left_mult_eq_real</a> (conjecture without proof):<br></strong> <a class=\"ProveItLink\" href=\"../__pv_it/theorems/fa96787d597ad4c5a5f2870981c6361100af37fc0/theorem_expr.ipynb\"><img src=\"data:image/png;base64,iVBORw0KGgoAAAANSUhEUgAAARkAAAAXBAMAAADNQybgAAAAMFBMVEX///8AAAAAAAAAAAAAAAAA\n",
       "AAAAAAAAAAAAAAAAAAAAAAAAAAAAAAAAAAAAAAAAAAAv3aB7AAAAD3RSTlMAq1RmmUTNIjK7EInv\n",
       "3XZ/CtNrAAAACXBIWXMAAA7EAAAOxAGVKw4bAAADRElEQVRIx71WQUgUURj+d3fW3ZnZnfYUiCEL\n",
       "RZey9hCCHrYVy4qCFgUvSS54CDrEeCwMrGMZbqfaAhnBQ7LgrgUaBSJFEEUhodRFGMkyPYinDE/9\n",
       "7/1v3dmZtypt+ME3b2fet/O+ee////cA/gdMQTdC1cR7fcG/wIgTPQjacrEHVwVj7OZwbW6OCXrx\n",
       "XS72WkwQz7KbazWZ0TJECeosmViC68Q7bHmzNblREkQJAimZWIJTROZej9fkJiIowweZWPYOizOA\n",
       "XutqC5ujgjL0ycSyJU0QPy0ufqzNzUXBUMNKOYcmlp69ximflImdQm05AaO4PDHieYAnexgyVb2r\n",
       "T7DHVLfKeqNRmQNo5rGyyBEDiVD3z8JpDLAMsR9CsaoDNU213aBfOwT6F6L2Ftj4InzNwJYPZ/64\n",
       "RFwhvIs/6wHQE6dq6WnpIOGlXNrQYbq4m5t3RGUDokyr/WZ/BoWn8rBEXCG0IjZ8Rv0G0W9XCeIz\n",
       "g1iRDGi19+gmkoUC/655yhL+vx6JuFLYa4X/YNWeJUImiZd8cpp1rZ9bxu0iuAQ+XhqZm7WUww31\n",
       "86LPNBUrVbBZAGyj19Qwa5vcceMRdoDBVmmOCM+xBmpfw5tscLO+DhNh4oA1BOO8YuuhkUTZDe+/\n",
       "kEMkuIYwQizE4aC/tPWNpw+Bjm2Le27cQngIKtoMZIkwgDdKKsymKQAjYWxuNcEqdPHhladZRxSL\n",
       "fihpCJNE1fbPK6UxTt67BJ0ioSvgFkIb9LJaXiSCD+MjkjYosTb5tQEaoRlnIG4YemdFTm1uv4Vp\n",
       "CA+IWuPL/l+l3rF1fzur8AtuN24hjM5cxnmKpokcBVNtZRtceJYfSRbgPdznc2MEr1gON6yfVopr\n",
       "CNFBouyAM+d+IhFOIW8LUgKYw11WHgb0jAJ5gG/BDcx8HjfwyhHFvF+AacpbYyBVdUPdeR/VM9ob\n",
       "bNoFKUPaT7yAobjyY2YNGzjSkoHQY3ze/bM41lF2w/sFmEbgkaAXN72PXMKo7SvSKcJ9khBbeVwz\n",
       "VfymfC7nKIvuekMakUCCuw4NXqE/yU5Yqkl0nhst0fjsbs9L3G6cmpBN9B7pJGddqXBF0LmkpSaY\n",
       "LO7qRqbZP5j7Mchfs5Dz23mhKCcAAAAASUVORK5CYII=\n",
       "\" style=\"display:inline;vertical-align:middle;\" /></a><br>"
      ],
      "text/plain": [
       "<IPython.core.display.HTML object>"
      ]
     },
     "metadata": {},
     "output_type": "display_data"
    }
   ],
   "source": [
    "left_mult_eq_real = Forall((a, x, y), Equals(Mult(a, x), Mult(a, y)), condition=Equals(x, y), domain=Real)"
   ]
  },
  {
   "cell_type": "code",
   "execution_count": 69,
   "metadata": {},
   "outputs": [
    {
     "name": "stdout",
     "output_type": "stream",
     "text": [
      "WARNING: Redefining left_mult_eq\n"
     ]
    },
    {
     "data": {
      "text/html": [
       "<strong id=\"left_mult_eq\"><a class=\"ProveItLink\" href=\"proofs/left_mult_eq/thm_proof.ipynb\">left_mult_eq</a> (conjecture without proof):<br></strong> <a class=\"ProveItLink\" href=\"../__pv_it/theorems/ad09335acd06911b509090dee4063b8e6514fb0c0/theorem_expr.ipynb\"><img src=\"data:image/png;base64,iVBORw0KGgoAAAANSUhEUgAAARkAAAAXBAMAAADNQybgAAAAMFBMVEX///+IiIgiIiIQEBB2dnbu\n",
       "7u5ERETMzMzc3NwyMjK6urpmZmaYmJiqqqpUVFQAAAB6qHgnAAAAAXRSTlMAQObYZgAAAAlwSFlz\n",
       "AAAOxAAADsQBlSsOGwAAA0JJREFUSMe9Vk1oE0EUfvnZTZrNxu1BLVZK6UVpEaoogiikIKioZQuh\n",
       "HpSmBY1CoRSrCIJ2teix5KJ46CHSgwiVBhR/iyZgC8WDsXqoVDDBUvDWS7HefDNv1mR3J20x0g++\n",
       "TDbv290vM++9GYD/AUvQjXA18UYf8C/wFYgeRAy52IOHgkV28a02N18EvdgpF3st5oiv2cWDmswo\n",
       "aaIEdaZMLME94k22vL01udFyRAmiWZlYgg9E5j5YqMlNQFCGAzKx7BkmZxS91tWWNl8FZRiTiWVL\n",
       "miPua2nZX5ubZ4LhxYZyDXU1nTmKU94pE1cKlcYc9ODyFIkvAC5s4JXZ6qExwXFLXSnrfSWtGWCW\n",
       "50oLRxEkwqDeDh8xwdLEUQgX12gl/aVb/Msaib6HqBwG9n6RvlZ0JYYz/1kidghv4NclAPTEqZrB\n",
       "jPQloaZURhmw9PPruTlE1JbBH2dz/5vdDBov5WGJ2CE0AwbsRf0yUTeqJPGbQZzHLoD3G3QT6IUk\n",
       "/19tVCU8NcYlYqdw0gz9wq7dToR0Hj8S+eMsVP+yEbeLSBPEeGuEc9ftzYbcUJw3faZxrFTSYAnw\n",
       "F5OWglU7584bj/AV+NgqNRPhNPZAZXdolWWJtVSHhdC1xRyCbiadn7dv4m54/HkKkeMaQh8xWYCf\n",
       "ur31dWd+QBDHGffcuIUwACrajPYSYQQvtGyITVMU+kI43JmDbTDBpNPTDjciDraG0ElUDb1Ns+Xf\n",
       "rz6FJ6KgHXAL4S1Msl4eJ0IM8yOQ8VFhrfLPRSjBLM5A4dojhxs7bmsIl4lK6djodjt6tl6fYh2+\n",
       "1e3GLYSejnc4T/4MkSNpqdNsgwu18yxphYNwhXcDzGKlwg2L00pxDcE/SJQdcJrdv0iEJ5C3BakA\n",
       "rOEJMwEjwbQGCYBdkWWsfPa0kxZ0lN3wuADTlLfGaLbqhrr2PhpMK0dwmBKkCpn6dAqGCtqOjq04\n",
       "wMJMGsIXWSBxv3+w7IbHBZhG4JKgF3e9P7mEfiMWp1OE+yQhtvKCYqn4nxKpVEVbdPcb0ogCElz3\n",
       "1eAV6nl2wlItYuW50RRDzHjseYjbTaUmbBC9+4rkrCsVNghWLqk9RPLxdd3INJsHazNe8gdKI+Aa\n",
       "uRMFLQAAAABJRU5ErkJggg==\n",
       "\" style=\"display:inline;vertical-align:middle;\" /></a><br>"
      ],
      "text/plain": [
       "<IPython.core.display.HTML object>"
      ]
     },
     "metadata": {},
     "output_type": "display_data"
    }
   ],
   "source": [
    "left_mult_eq = Forall((a, x, y), Equals(Mult(a, x), Mult(a, y)), condition=Equals(x, y), domain=Complex)"
   ]
  },
  {
   "cell_type": "code",
   "execution_count": 70,
   "metadata": {},
   "outputs": [
    {
     "data": {
      "text/html": [
       "<strong id=\"right_mult_eq_nat\"><a class=\"ProveItLink\" href=\"proofs/right_mult_eq_nat/thm_proof.ipynb\">right_mult_eq_nat</a> (conjecture without proof):<br></strong> <a class=\"ProveItLink\" href=\"../__pv_it/theorems/580d0d51a846535a7bb253f009e031c9093e1b3a0/theorem_expr.ipynb\"><img src=\"data:image/png;base64,iVBORw0KGgoAAAANSUhEUgAAARkAAAAXBAMAAADNQybgAAAAMFBMVEX///8AAAAAAAAAAAAAAAAA\n",
       "AAAAAAAAAAAAAAAAAAAAAAAAAAAAAAAAAAAAAAAAAAAv3aB7AAAAD3RSTlMAq1RmmUTNIjK7EInv\n",
       "3XZ/CtNrAAAACXBIWXMAAA7EAAAOxAGVKw4bAAADdElEQVRIx71WTWgTQRR+2d00yaaJOQmlEgL+\n",
       "HbSagxTqIUZq/avS0IJexC70UPC0PSpVYi+CVhpPNR7qFjwYIk2qoFKhREX8QymiKEhhi5X6A6UI\n",
       "UulBnJk32Wx3J7YY6QffTrLz7cy3b968HYD/AZ3TCV818WoH+BeEY0gXvKZY7MJJzgj9s7E2N9s4\n",
       "3fgkFrstxpFt9E9vTWZUDSlAnSESC3AKeZ4ub6YmN0ocKYCcFIkF2IWk7oOxmtzUc4rwQiQWjWEw\n",
       "ysRrXW1ps4VThB6RWLSkceSr6emXtblp5xybufmgEuW+yXPkOi4Qq7NxGK1UgcY5svOCEeRBgGur\n",
       "mDJZvauHMxmOKlPW5n4K10n0m1muTDNEuDgolWCP9fQJPbBEEkxD9oEvUnWis+0p+SH79ZdEf4OU\n",
       "dXnJY+XorTgcJc12gXiAeG6w9thjoK9ADDIGjGBKOIl/JpuSIhNweCU3T5B+UHD3FmjTAfCRNEMC\n",
       "sVFvwuuyTlmAUJE8vICUzCpJvC9NOhMKFFfphmwKLL0huqrPQf1J10Ek7jb8v8q6+gwUSDS8JSRo\n",
       "CXLJJ+5R7fyBWfK58M6Ah5VGkAaOm3Y32M/ygmqWrRSZRVfL1U79DTJ5VWhy5g0V7odwqeyuYLIc\n",
       "kqaQcJvUQPW9f5EWaL2hjuyKsXXGIOSoVkpPbLa5Yf2HsgRxpkGMIHOpDRC00uEHeLStAC3O2FDx\n",
       "FQhYqVqIwXpJB5mMTwn9pEdJ+qlbGUb8pDnTBF+hC90o4UzFDe+HsgYxjtx58Qh02mZtSiZx5y8D\n",
       "Fe+FbivbA6b0ViEGikjwkPyoT4XR7SK7NkIUmkkEYlJaLWr2vFm0hqUaxGXkjXmptVJuRr9fiJKB\n",
       "3zndUPHoZId1fFCj9/u+kBxKITFeemA3XXJ/iR1J3sEzuISxgU7T5ob240oxDSKURooOOFPOOyi8\n",
       "6yolnPiZ0Ie6jDz0BzUF8gAfvAtk59OlSQEPGnPD+jmopvJplJNVP6iu72hQUx85b7dy4g5p3XEH\n",
       "BmPK58lvpIFNLRr4rtK49vITELph/RxUwzHM6cZp961hCJmeojOGGfdJgq96TNUD5J3y2aytLDrr\n",
       "DWoQOU7R1C7kSBFrc94M6Ej7udHgjcc85hrE6cau8ZlI95FOcNYVCuc47UtabryJ4opuRJq1g74W\n",
       "k/wBy0vzh4v/0lcAAAAASUVORK5CYII=\n",
       "\" style=\"display:inline;vertical-align:middle;\" /></a><br>"
      ],
      "text/plain": [
       "<IPython.core.display.HTML object>"
      ]
     },
     "metadata": {},
     "output_type": "display_data"
    }
   ],
   "source": [
    "right_mult_eq_nat = Forall((a, x, y), Equals(Mult(x, a), Mult(y, a)), condition=Equals(x, y), domain=Natural)"
   ]
  },
  {
   "cell_type": "code",
   "execution_count": 71,
   "metadata": {},
   "outputs": [
    {
     "data": {
      "text/html": [
       "<strong id=\"right_mult_eq_int\"><a class=\"ProveItLink\" href=\"proofs/right_mult_eq_int/thm_proof.ipynb\">right_mult_eq_int</a> (conjecture without proof):<br></strong> <a class=\"ProveItLink\" href=\"../__pv_it/theorems/b8844f7a18e6f0af983f2cf76ad8b2b0ea5fe47d0/theorem_expr.ipynb\"><img src=\"data:image/png;base64,iVBORw0KGgoAAAANSUhEUgAAARcAAAAXBAMAAADTihZTAAAAMFBMVEX///8AAAAAAAAAAAAAAAAA\n",
       "AAAAAAAAAAAAAAAAAAAAAAAAAAAAAAAAAAAAAAAAAAAv3aB7AAAAD3RSTlMAq1RmmUTNIjK7EInv\n",
       "3XZ/CtNrAAAACXBIWXMAAA7EAAAOxAGVKw4bAAADRElEQVRIx72WTWgTQRTHX7K7abJJ64ogaKEs\n",
       "tIjgB1FE0UMbqJ9IJVDwJBLwIHja6k2qRK+tNB78iELZgwgaSWIVlR4kIIIiSiwVvVQ2UqlflIBg\n",
       "pCfffGRjZmdbJaUP/tndmd/OvLw3b2YBlsHauDxm/UebBctjn7g8dtzb1GH6cEQGeehuyZdgkUky\n",
       "c9zTtMmPI9pHHk625MxtLomdEhv0lC+HukDynWnJmX4uie0QG9S4L4cK2QBRsyVnSlwSi9ligz+H\n",
       "UtDVUGtLJsUks5AYiA3+HNHrmZlXLTmjFpn0+fUjE41y75xzMOaGAB9G5ftBN7wc0UGAG0vPmPDv\n",
       "qv8rFSrOgNt6zIosACg0YgMzxN6S2xOo4mZQql6OaAjaDN+JAi8f3qR+LLLE202mXdBnr3Gr5hmo\n",
       "ZUyfuJamAMLmAAQyXo4oYkeT0knClWyy3Yrm7SWciSWZ0rCfPhdINNQqtGPqwlUBfo7zwxuIYWr0\n",
       "X80cUdDxWb970xg6uHgG/tEZwElopEgoYxkoYJtW8joD2gKM4dgw3cxRNtWLP7nex4SdPzCLZ4RW\n",
       "gUB990wk/nKGdROjSHOaQKvB3fqkBQf6SKWVhTUzRaKRgh8SjrITuPXp78M1si1b60I4bH6VPQp3\n",
       "KKycTjecod2HsmhxijCLOFT6lUAJ3EOhYMLaoAWKGNFx8oIBlyUcZYdx/aqJMAmSAuNhvJzdAl9h\n",
       "kML5KDSc4d1QR5jxsgz+vlXS3N0z4gSnVVbyTXafRMbQfko4ygbSJOcdrKRq9LcTumAnBsCE4iQL\n",
       "Pf+HNXdUgvCFXqbSjzg92xtnUNeToS+YPrE2LpG+ztmahHPZghXZQ6omXKLfJe/gBYzQpbExDpMN\n",
       "Z0g3SxNFuH3gktg5zz5Asx5NSTiXjVljg3YOhqMpFXI4tFbFkidvqaCVXWdod90DrSqccn5naJMp\n",
       "WA+P4J652Fmr9W99AKOm+vnpN7xAz+4UtF3H9m2rv181XGdoNzeC1PNuMUk+Ab07wjWAj5hjLyey\n",
       "3F9TtyJY17lstpFxcVSG8PsMk9ckLmKRds8mJZzAaja/BJyj4hjiXE3IeS6PzUmC5fhwAqvUL1pv\n",
       "cSlnJMjKmbUSk/wBj1/1cNf+gJkAAAAASUVORK5CYII=\n",
       "\" style=\"display:inline;vertical-align:middle;\" /></a><br>"
      ],
      "text/plain": [
       "<IPython.core.display.HTML object>"
      ]
     },
     "metadata": {},
     "output_type": "display_data"
    }
   ],
   "source": [
    "right_mult_eq_int = Forall((a, x, y), Equals(Mult(x, a), Mult(y, a)), condition=Equals(x, y), domain=Integer)"
   ]
  },
  {
   "cell_type": "code",
   "execution_count": 72,
   "metadata": {},
   "outputs": [
    {
     "data": {
      "text/html": [
       "<strong id=\"right_mult_eq_rational\"><a class=\"ProveItLink\" href=\"proofs/right_mult_eq_rational/thm_proof.ipynb\">right_mult_eq_rational</a> (conjecture without proof):<br></strong> <a class=\"ProveItLink\" href=\"../__pv_it/theorems/69b07084e228a82a41a41913f37cff15cd9132ba0/theorem_expr.ipynb\"><img src=\"data:image/png;base64,iVBORw0KGgoAAAANSUhEUgAAARkAAAAXBAMAAADNQybgAAAAMFBMVEX///8AAAAAAAAAAAAAAAAA\n",
       "AAAAAAAAAAAAAAAAAAAAAAAAAAAAAAAAAAAAAAAAAAAv3aB7AAAAD3RSTlMAq1RmmUTNIjK7EInv\n",
       "3XZ/CtNrAAAACXBIWXMAAA7EAAAOxAGVKw4bAAADQklEQVRIx72WS2gTURSGTyYzSWaS1ogg1EIJ\n",
       "tOhClFDFRxdppdYHYg0UxIXYiAvB1dSlVIm6EVq1gqJxUaYgQg2YWMEKQhkUQRClSEU3hYlUqi5K\n",
       "Vra48txHks6dO7WS0gN/JrnnI/fPOfcRgLWIMJcnzP8YM2GN4huXJ854hxoTPhxRnHxorc+MUmSS\n",
       "TJ30DG3344h6yIfz9bl5zCWJC+KAkfHlUFdJy0fqc9PNJYnd4oCa9OVQIQsgmqjPjc0liZglDvhz\n",
       "qCB6DdW5bDJMsgiJpdjqzxF9mJ19X58btchkLGwZmqjt+uZ5B8seF+BjyM0lYUzCER0BeLiKKbv8\n",
       "U5XfpULJOV4dPW3qfwCCpGbqLA1q7BzOqtjQKeGIBiAc958pf3cjO5VWWOgNCaa90Gltqu6dN6BO\n",
       "YwfF9fQJ4BommiQckW5F09JJIqVcOvwKou3/chNLM2XhEP1coPUoQwN2L1IW4LcAVsyBj8TIbzdH\n",
       "pDg+i/hgFot6EYxd5irdAJ0D60S6GhuBAo5pttcN9FuRJfJ+xs1RNpMiHUlNkvzC4TmcWytBgB2j\n",
       "N7YBOE7NDcuToIy7U6AtwpPKrAWHrg1lWlg32CksYaMt4Sg7gWeg8SWySA5osymEX/t0gzUM44Tt\n",
       "SLrc0PzRHEaSMix0h8q4F7Chej8UErBZMSEo1nQUdQf0uISj7CBm1K4IcRuE0Qg+Lu2An9BHWOLE\n",
       "KVbd8DxUGBZ8dypLj2yteo7qjjKjsp3vimeoA9CflHCUDWRJ2xuZ20X62gwtsAcrkDgldIrnKwxf\n",
       "7tNURq/T1l67j1peDvzADoo75CZqbOqEKeGqbMHUO8gZHrHp35TP8A6G6M8WVjHJs05RhsdXLklc\n",
       "9hwHWfL6QsZV2Zh5u8/Kw2A0o0Iev1or486nuxyirbUdTvMVC1pZuPL8LlRXBLsgmjFer3jxat07\n",
       "n8NwQv0+9Qsf0LY/A+EH9PSbOZutuaF5HoSp9N5kkvwp9B4M96HBCRQlnMjyJZgwTB1XWT6Xw0ZO\n",
       "Xgfp6ccY/n6EyRsSj+OgpHpknMBqFn8EnJO1K7G1Ny1zs5yBK1yemJeUy/HhBDZYeWipZZW8tU9a\n",
       "Gxez7mGuxyR/AXRe/bB5bR1EAAAAAElFTkSuQmCC\n",
       "\" style=\"display:inline;vertical-align:middle;\" /></a><br>"
      ],
      "text/plain": [
       "<IPython.core.display.HTML object>"
      ]
     },
     "metadata": {},
     "output_type": "display_data"
    }
   ],
   "source": [
    "right_mult_eq_rational = Forall((a, x, y), Equals(Mult(x, a), Mult(y, a)), condition=Equals(x, y), domain=Rational)"
   ]
  },
  {
   "cell_type": "code",
   "execution_count": 73,
   "metadata": {},
   "outputs": [
    {
     "data": {
      "text/html": [
       "<strong id=\"right_mult_eq_real\"><a class=\"ProveItLink\" href=\"proofs/right_mult_eq_real/thm_proof.ipynb\">right_mult_eq_real</a> (conjecture without proof):<br></strong> <a class=\"ProveItLink\" href=\"../__pv_it/theorems/a440736b76ebc1006fd18c5e9f4ee1ba859c6b4f0/theorem_expr.ipynb\"><img src=\"data:image/png;base64,iVBORw0KGgoAAAANSUhEUgAAARkAAAAXBAMAAADNQybgAAAAMFBMVEX///8AAAAAAAAAAAAAAAAA\n",
       "AAAAAAAAAAAAAAAAAAAAAAAAAAAAAAAAAAAAAAAAAAAv3aB7AAAAD3RSTlMAq1RmmUTNIjK7EInv\n",
       "3XZ/CtNrAAAACXBIWXMAAA7EAAAOxAGVKw4bAAADdElEQVRIx71WTWgTQRR+STZNspuuOQmlEgKK\n",
       "HrSagxTaQ0yprYpKQwu9KDbQg+BBtkelSvUiaKXxVKNQt9CDIdKkCq0olKCIfyhFLApS2GK1WqEE\n",
       "QSo9iDPzJpvt7sQWI37w7SQzX2a+zHtvdgD+BTROO3yVxBud4G+gRpAOeA2x2IETnCH6ZWt1bnZy\n",
       "OvFRLHZajCLb6JeTVZmRk0gBanSRWIBTyAs0vKmq3EhRpACeuEgswF4kda9EqnIT5BThhUgsmkNn\n",
       "9BCvNdWlzXZOEXpFYlFIo8hXc3Mvq3NzmHN8/vbD8i73TZ8nzwmBWF6Iwmj5FKhfJJWnhJAHAW5s\n",
       "YMl45aFezrgalmbM4n4Kt8juN7JcmWMIcbHiLsA+89fHtcAqSbAksg98oYoLNUy2nMZPf0j0N0iP\n",
       "5ll1mTl6JwpHSbNLIL5IPNeZNfYY6F8gBhkDupIQLuKfTydUBaby67l5gvSDhNWbo00HwAfSDAnE\n",
       "etCA1yWdVIRasoK/iHQbFZJ4/wA5kVRoNjbohhQFSmtpVJ+D/IPGQSTu0f0/S7pgCnJkN7wFJCRj\n",
       "5JGNTVHt8oEF8rrwzoOLHY3UzVLc4gbHWV5QzZpIkVU0uXTayb/AU6ShtucNFbaDWii5yxksh9wz\n",
       "SLhLzkD5nX+FLq7V1ZCqGN+kD0KGndiKbyRadsPGD6UJokyDGEFmEltAMdPhO7iSOwCa7HtDxdcg\n",
       "YKZqLgKb3Rp4yPyU0E9GpLifuvXAiJ80ZxvgK3Sx5aWbKUsW83EoaRATyD2Xj0CnZdWGeBwrfw2o\n",
       "uAV6zGwPGO63EjGQR4KL5EcwoaLbFfashzA0kh2IqKrSuaamVsxpqQZxFTm27G4tHzej3y6FycSz\n",
       "djdUPDrdYV4f5PD9vi8khxJI3C8t0ExD7i+wK8ksPIMrbG9U7zHd4oaOY6SYBlE7gBRdcGbsPSic\n",
       "tHef48TXhDbUpWehX0lKkAV47y2Symd5Aw8sWczGOaim/Gr0xCu+UB3vUSUpP7J3t3JihbTuvgeD\n",
       "EenT9BJpYFtTEnzXSX/35/xYe9kNG+egGo5hTifOOLuGodZw5e17mHLeJHjUI7IWIP8pm05bjkX7\n",
       "eYMaRIZTtLQDGXDH2uydAQ1pvTfqvHEZ3Y5J7G6sGp+BdF7pBHddoXCR0xrSUuON5dd1I9L8P2j/\n",
       "Y5HfYo7yc3JERfkAAAAASUVORK5CYII=\n",
       "\" style=\"display:inline;vertical-align:middle;\" /></a><br>"
      ],
      "text/plain": [
       "<IPython.core.display.HTML object>"
      ]
     },
     "metadata": {},
     "output_type": "display_data"
    }
   ],
   "source": [
    "right_mult_eq_real = Forall((a, x, y), Equals(Mult(x, a), Mult(y, a)), condition=Equals(x, y), domain=Real)"
   ]
  },
  {
   "cell_type": "code",
   "execution_count": 74,
   "metadata": {},
   "outputs": [
    {
     "data": {
      "text/html": [
       "<strong id=\"right_mult_eq\"><a class=\"ProveItLink\" href=\"proofs/right_mult_eq/thm_proof.ipynb\">right_mult_eq</a> (conjecture without proof):<br></strong> <a class=\"ProveItLink\" href=\"../__pv_it/theorems/8c7788620c5bb71b36b7a1fbbbe039cb6c1fcdcf0/theorem_expr.ipynb\"><img src=\"data:image/png;base64,iVBORw0KGgoAAAANSUhEUgAAAQMAAAAXBAMAAAD9zzfBAAAAMFBMVEX///8AAAAAAAAAAAAAAAAA\n",
       "AAAAAAAAAAAAAAAAAAAAAAAAAAAAAAAAAAAAAAAAAAAv3aB7AAAAD3RSTlMAq1RmmUTNIjK7EInv\n",
       "3XZ/CtNrAAAACXBIWXMAAA7EAAAOxAGVKw4bAAADJUlEQVRIx71WTWgTQRR+2d202d025iSUSggo\n",
       "etBoDiLUQ4yU+oNKg4InsQs9CJ62R6VK9SJIpfVU9FC34MFSaaKCCkIJiviHUqRFQQpbrNQfKEXQ\n",
       "Sg/im32zs3F3om0O/eDbSd57O/PtvDc/AHXD5gyjsVbwSjtYMZIZYgRxVx4cwUnOFPuzsQ4JWzmj\n",
       "+CgPjurKETvYn1OrV2BYRAkaHFmwBKeJF1j2BlcvQcsRJVALsmAJdhKZZDOzeglNnDK8lAXL+nA8\n",
       "qiiwoY5S2MwpQ7csWJaxHPH1zMyrOiQc4hyfvfUomMSeifP4vCMJNuZyMBIs3NZ5XDdmingA4Hqt\n",
       "cQq1JXRzFpJpbVKsx2dwAyd3l5f/GQ8pHmwqFdgj3j5h68tYNBaxBxpTtcb5R5m+Jaq2uhwTxXY7\n",
       "B0ew2SYJvohCW8QKeQJMN6ryqDtmsQ4JT4kJ0GjBlVjTCfABmwFJsNPkwhs2+k82Q4vQXMaXF4mK\n",
       "W7sa/y8BS5o2w2aWtBdg/GDTLAvuchK/2O8p9s4glPC74xUiWHl8jOUfMP/C/jncteOzEKuSQEYv\n",
       "175DJAK7tg1/KzJ+g4ofBdlwLbDAfZCs+JJKrlcXyiQR7uIGZbxLLLEt025pwPIeX+f0BxI848Fr\n",
       "iJxwAAwTR4sbwBQp/g4xawtAW3gWWPBV0EXNlTKwXrFBxf4ZoRc9WiHBJKownMDmbBa+BBK4Eaod\n",
       "tPCQOy4fhqNVQ2ULBVqsf4EF74UuUba6q0xpOGqZCLE+TE4xSRKXvGcrpKtrYUn05TsArhBvLijt\n",
       "wbYw8u1SGnubDktgwSMTneJkNtIPez5j/RSJNDO2vptlNFHxTvtpeF4lgRkpEcKBr/YRZReGybCF\n",
       "Au+Hzec4abe2B445Y9BrWhqMAbyPLwYSPCOH76CzSC3UPMEiB5dpGY/D5nZOKvX27fegP6N9mviK\n",
       "DWxqswIJnpHDdyCGOKM4EzUNQbMbK4dnazB6SPOkZgxbz0n3BeFAjHLKxotgFJR8R9io28TqG5fD\n",
       "m5h7XL41CQf7BpcYvQxJ7oPSwHnO6oz5TTxflksQjrWDvRaD/AFw7tvDidcYtAAAAABJRU5ErkJg\n",
       "gg==\n",
       "\" style=\"display:inline;vertical-align:middle;\" /></a><br>"
      ],
      "text/plain": [
       "<IPython.core.display.HTML object>"
      ]
     },
     "metadata": {},
     "output_type": "display_data"
    }
   ],
   "source": [
    "right_mult_eq = Forall((a, x, y), Equals(Mult(x, a), Mult(y, a)), condition=Equals(x, y))"
   ]
  },
  {
   "cell_type": "markdown",
   "metadata": {},
   "source": [
    "Note: proving left_mult_neq and right_mult_neq for the complex domain is a bit more challenging than just real numbers, but should still be applicable.  Using a polar coordinate representations, such as $r \\textrm{exp}(i \\theta)$, makes it more clear.  Suppose $x = x_r \\textrm{exp}(i \\cdot x_{\\theta})$ and $y = y_r \\textrm{exp}(i \\cdot y_{\\theta})$; if $x \\neq y$, either $x_r \\neq y_r$ or $x_{\\theta} \\neq y_{\\theta}$ (or both), so either the length or angle (or both) will differ on either side. "
   ]
  },
  {
   "cell_type": "code",
   "execution_count": 75,
   "metadata": {},
   "outputs": [
    {
     "data": {
      "text/html": [
       "<strong id=\"left_mult_neq_nat\"><a class=\"ProveItLink\" href=\"proofs/left_mult_neq_nat/thm_proof.ipynb\">left_mult_neq_nat</a> (conjecture without proof):<br></strong> <a class=\"ProveItLink\" href=\"../__pv_it/theorems/9374d9c2f2d2c7c1697baa687a5874bd57e09b510/theorem_expr.ipynb\"><img src=\"data:image/png;base64,iVBORw0KGgoAAAANSUhEUgAAATsAAAAXCAMAAABDGxgMAAAARVBMVEX///8AAAAAAAAAAAAAAAAA\n",
       "AAAAAAAAAAAAAAAAAAAAAAAAAAAAAAAAAAAAAAAAAAAAAAAAAAAAAAAAAAAAAAAAAAAAAAAeYafp\n",
       "AAAAFnRSTlMAq1RmmUTNIjK7EInv3Xbt5cnn9enzas/lfgAAAAlwSFlzAAAOxAAADsQBlSsOGwAA\n",
       "A+5JREFUWMPlWNmypCAMlU32zO7/f+qwiBBExar70FNDzXSqveHQOZ6EwLL8S0N2dnrCV/vJ5V8b\n",
       "QLF9HgLGz7kZAk/jZUuO55R9OHXUYjtF9zAopYfAL/CS5aI8Xj9ciGbFdm6sZvBQqxHwK7xoVRGe\n",
       "1B8uO86wnRuMD2RHhsCv8JItRFr64dy5zs5OOwtPyyHwO7xo2c76+uHU0RXb6SQ7qUqQIfBLvGSd\n",
       "j8PZT09Zi+0iiQU52kcNADHK7olkySl6OQS+BDSQstoQhJcsT4VTm6+J8Lbaz+wIU+87qscFCvRm\n",
       "hr8BCCzc58J0yIonkfifv+InOQFfAtqFxrRmG8JLVpLy8bpV9dyGbZq5Ovluw7HiGTL7WAunNPAU\n",
       "WeNSl+AH1VzGOM1CMifU3cvuEVDR/JRohJdtlNxMXA0cEK3DDEoWa1CnecPdzOvJPiwkjuiRnECW\n",
       "JxX4QrHZDnnFNOK1hqmtq3Z8DNwBVsQQnIuZ7ADhZUvh5U7BuSrtNMQMaTRywx2Z6B+zj4vwm7zl\n",
       "zukU3/HKPaLE1bIl3L3srgAbRBETWW0K4e12TW86cWwZ2AMcgMvwrxxDyH4Mqb06VVSE6nrBHZq+\n",
       "CNvBDBbMPjLVHEfvctZsUEvQ+egUiTc5G6hH9e73n1z1SAd8B5hUDCVXPbKW7k2e8TLwW0IBGXN8\n",
       "3csBLCEkFQBM5YeqkLNUjLk7pnMdx7fwnzUweMHWRyXufNdbaGit2eLPIutCexmZUEyIW45sYPrh\n",
       "nPEEGDxI+WjwditLsedBpkdcC0u4e3pKE4mGMEGwlruQs6CH3KHpRawVZrDg7pO5c123gHqDHDEN\n",
       "aXXa2OmmDA+QgnYtSP7ruRF4AgwQJEqZjXslomrqQ1vS26JDgnPY+sPmnDSiaebO2LZY4pdcp1ex\n",
       "FpjzgsUn5+zW5azyyBoCVkkC6tTkcIBAESvTvXg43j4Bxj9Z4CWWgodxg25jh8PMgR8lcYQfnWMV\n",
       "VxbpLrxguOBunx7z8fsPnfKxwuAFkc9wr1i8wna2j3q8MZkCtCvGk30z42L1EcxEMYVMThN4klZe\n",
       "Qmy4jWaJ+1aplbs6HZ++C0wCPRZEPgCng1N/Cn99g3Bzq/IEGMMwZeu6vJEQQepgWVRMcOUgLIDZ\n",
       "v8U80Gu+cVFF7XnDH3JXp+NTS4FJoMeC2Cf0xvz6CK9fXJbh2yE2Png+AHrIlabFu711ov03k9Jr\n",
       "byxicg276TFkk9UNDL3yuTqu6b52Pg9Mize3wFdUMDhuOWfenzD9t1DfxXMHPf4VzbwKg5eY6c7L\n",
       "QV3CLHWAQ1QPwNN4cKdUdvomGExctQy5o41EKwy79PlPh/yPYv0LcfEkJyx0snIAAAAASUVORK5C\n",
       "YII=\n",
       "\" style=\"display:inline;vertical-align:middle;\" /></a><br>"
      ],
      "text/plain": [
       "<IPython.core.display.HTML object>"
      ]
     },
     "metadata": {},
     "output_type": "display_data"
    }
   ],
   "source": [
    "left_mult_neq_nat = Forall((a, x, y), NotEquals(Mult(a, x), Mult(a, y)),\n",
    "                           conditions=[NotEquals(x, y), NotEquals(a, zero)], domain=Natural)"
   ]
  },
  {
   "cell_type": "code",
   "execution_count": 76,
   "metadata": {},
   "outputs": [
    {
     "data": {
      "text/html": [
       "<strong id=\"left_mult_neq_int\"><a class=\"ProveItLink\" href=\"proofs/left_mult_neq_int/thm_proof.ipynb\">left_mult_neq_int</a> (conjecture without proof):<br></strong> <a class=\"ProveItLink\" href=\"../__pv_it/theorems/0aa1f153ebe2b0af72246d557176fdac30b9b8f60/theorem_expr.ipynb\"><img src=\"data:image/png;base64,iVBORw0KGgoAAAANSUhEUgAAATsAAAAXCAMAAABDGxgMAAAARVBMVEX///8AAAAAAAAAAAAAAAAA\n",
       "AAAAAAAAAAAAAAAAAAAAAAAAAAAAAAAAAAAAAAAAAAAAAAAAAAAAAAAAAAAAAAAAAAAAAAAeYafp\n",
       "AAAAFnRSTlMAq1RmmUTNIjK7EInv3Xbt5cnn9enzas/lfgAAAAlwSFlzAAAOxAAADsQBlSsOGwAA\n",
       "A+tJREFUWMPlmOmSpCAMgOWSO3v7/o+6BEQNomLV/OitpWY6ZXf4kJCEwDT9Q003crjDlym+foNP\n",
       "acCpfG4KLn6QrkseBhbJtu+5+GzTcU/lkLn7czK2S34BzFKq+vX82Y7oZirH2ux631rTI78CojTV\n",
       "8bT9bLeTgsqxJmTP7ViX/AqYZTWk559tu9DI0W4dx7O6S34HRClWq8+fbTo+UzkcY2enUqxLfgnM\n",
       "MkRswX94yHoqJ8086N4+6gCYM36NI8/Os9dd8iXRQY5qxwgwS5kTp3VfM8XbdD+yJYwsNzpPSBaw\n",
       "i+u+AjCYZCx5afcqmZ0k/vyFn+xEviT6iWNYi4UAs9SsfrxuLFgv098hldxoe/VMLDreQxsGkRPp\n",
       "Qi4SYieZa5ymm1gxCQ8PbvdINLx8yywBFokuNzKvAw6YtalHTK/hHbgh240sT9ERKXBUQwqKSJmd\n",
       "IG4Wdkv1L4wiuTubWdps14bGEzHNLmAkByDAIjm83CmkXOsjgauij9n4xnZsoH4sOgHxi76zXbB5\n",
       "evuKx6NJwp61VHhwuwGiwkA2iyHAVc55pbONvQC/wQGkTn/1GMLWYwgp1iVNcUfbke6T8g2mM2DR\n",
       "0TnnBH4Ts26BPQOdN1K0uyvRwCPNd7//lKzHGvIdMbsx1FiNRHq+FnkuBaHZFhw0xvi8pgOY0pRM\n",
       "AjhLsgs3F7bbukuL7Vv6FwcMHfCoY7LtIi0uLBylW/Ct2Dzx1otcyiUs5AxfXtA+HTSeiEmD1Y8D\n",
       "cJU6sBqM0z4vjMjEXU2jHRoaUgcljtv3RJP64U1J9+qsO6Yz4KpTbBdotUBKgzJhHuV5X+eLcTIR\n",
       "FW8qkPXncyHwREwMhr4s+sUSM3vowzGlH5MOS8pp70+bc/YRy/PiereFxznf7d13Z62Y84BVp8Ts\n",
       "QmPWRCIdA280A3OqcSRAspCovaN6Ot8+EfEnD7LOpQIbsMPfrdhNgS6xTR+VMYubfSUVN7ga/sJ2\n",
       "a3eMx+8/bI7HHUMHJDq9vWKKhsrBC7f4fGMyRPQzBeq2mAmYfZRwKYVjJOcOcspPeQi10DLaZw9X\n",
       "sReze3d6+q6YDN0GJDoAp4NTcwh/fYNwd63yRMRpuLp1XV5JqOTr4LHyQFUJygMWb/kJA8HO5cal\n",
       "liiMJUe3M+vmu607PbVUTIZuA1KdVBtLd3WCty/uyprLIdE/eD4QI5RMcwTe3jrx9snl8FoLCwyu\n",
       "bjXdR/I97x8w/Ern4rRm29T53BqrRHdLvjKFgO2Wc2QBlWufUn5XzxV0/y0O/XYMHWKgOq/ndA2j\n",
       "poNmhuaBPAyEO08VpyclYOCqpWs7fnDRHSMudf7Tpv+juf4Fo8EkIexZEkIAAAAASUVORK5CYII=\n",
       "\" style=\"display:inline;vertical-align:middle;\" /></a><br>"
      ],
      "text/plain": [
       "<IPython.core.display.HTML object>"
      ]
     },
     "metadata": {},
     "output_type": "display_data"
    }
   ],
   "source": [
    "left_mult_neq_int = Forall((a, x, y), NotEquals(Mult(a, x), Mult(a, y)),\n",
    "                           conditions=[NotEquals(x, y), NotEquals(a, zero)], domain=Integer)"
   ]
  },
  {
   "cell_type": "code",
   "execution_count": 77,
   "metadata": {},
   "outputs": [
    {
     "data": {
      "text/html": [
       "<strong id=\"left_mult_neq_rational\"><a class=\"ProveItLink\" href=\"proofs/left_mult_neq_rational/thm_proof.ipynb\">left_mult_neq_rational</a> (conjecture without proof):<br></strong> <a class=\"ProveItLink\" href=\"../__pv_it/theorems/4d90806af63536377084114bb9fdcc9776293e830/theorem_expr.ipynb\"><img src=\"data:image/png;base64,iVBORw0KGgoAAAANSUhEUgAAATwAAAAXCAMAAAChxwN1AAAARVBMVEX///8AAAAAAAAAAAAAAAAA\n",
       "AAAAAAAAAAAAAAAAAAAAAAAAAAAAAAAAAAAAAAAAAAAAAAAAAAAAAAAAAAAAAAAAAAAAAAAeYafp\n",
       "AAAAFnRSTlMAq1RmmUTNIjK7EInv3Xbt5cnn9enzas/lfgAAAAlwSFlzAAAOxAAADsQBlSsOGwAA\n",
       "A/JJREFUWMPlWNuypSgM5Sr39Ez3jP//qcNFxCBusKof9lRT5+yUGhZmmYQEQv5PQ3VyecJvU3z9\n",
       "Bl8zgGE5HxIeHgg7RF4GLJKe9xn/cu6Yw3KJ77FR2gyRXwBmKWS9vX25K9oNy7Wx2dFdo0fIrwCT\n",
       "1NX1lPlyxxMcy7XBxcjx6BD5FWCWlUnHvpw838nVaQPXM2qI/A4wSX7Qvn05d2zDcjnM7m4l6RD5\n",
       "JWCWPqTh3bdHrcOSKOpAjXZTC0CtdkcoOXo3Xw2RHxEt5MC2FAFmKXLyNPY32fgx56/sCysfPLmP\n",
       "jxSY3Q5fASgQEUpuan4lspuEn7/SL70hPyI6wlJk8x0BZqlo/Xm/ATojKEXf8dO24+Qcsug4B30k\n",
       "BIak9blWCIOMrpKdltDCCfMTx5sialbuUoMAi0xOt2JXQwNqTJygXLLQcbZG3soHKjo8xo7skLxE\n",
       "UmQ3CCfFdq8elgJJNHfTe5/x+uAYIzbASI9PwewBARbJ4N12IcRRJTmVaLOcqyXy6EIhWXR8WmBX\n",
       "n8jzJhvYvnm4cuJb5pJ+4nhPiBdAmWJZ7xoBHnLLn7rEIQd3ggMIFf9qQ0JLQ3IW7Vqz/AwIjMlD\n",
       "84l0GGe0YtFROe949iFs7Q4tC92300S8LcmLBZzz/vm3ZD7aIX9CzI4MNVwDko4dxZ4NKhJcTQGV\n",
       "wnw7MgKQaJL2xJ70cFtofCLvnC9MGj/iP284BK941dGZvIBrDANXaff0WnQjrPcjGxMK9TnNl7c0\n",
       "s5Zjhhg1aP25AB5SeVoDkjS7CM+4R4gqm5gGQ+RpUyUNiBuSh+ZXhz1xRiseOoU8j4sGVCEUi1mM\n",
       "rNvuznZtRUSUrCtEjsf3cmCGGDFo8mY+rpmobtEP17R+zTs0KscKgG/ZRwwjcha21/nNYQ+cwYpV\n",
       "p4TtjsNWByQtBacVBX2rAARApOjcxYKc9bozxPTIgai2VMAO2KbnhtsTP/nEaX5Sjplcty853TCO\n",
       "+Skk//rb5JA8cboVkc5owyBBY7l4ABfm5ydLiG7DgKqvaXxKQJLbmMZTMOcJguSrvITcUTmts884\n",
       "dJbVyGvzcStecTLquSLSAbj1UF1H/vo44dMhywwxmWHr/vV4PiGjt4PjyWWiqgDpAOxxlULB5KK6\n",
       "nedYF8RG9UORfM7HDUzFyajnilgnFsnCPrXz5sXZWXdWxMdN6AQxQEk2V8CPh1Csv7I5wI6+wuQi\n",
       "OUeu7jbFMVrLig2nXwNm/Yzp0+d8dLQE+xH5iQsO57HnyheUtr+KOV4OSmnBePSwGXmXiQ0Hr7FQ\n",
       "p9emXcEqd9CZqCfIy4DwyVf57UpycONejeuZ57ELuw2HP+r8qUP9Qbb+B5C5JNKRR1XDAAAAAElF\n",
       "TkSuQmCC\n",
       "\" style=\"display:inline;vertical-align:middle;\" /></a><br>"
      ],
      "text/plain": [
       "<IPython.core.display.HTML object>"
      ]
     },
     "metadata": {},
     "output_type": "display_data"
    }
   ],
   "source": [
    "left_mult_neq_rational = Forall((a, x, y), NotEquals(Mult(a, x), Mult(a, y)),\n",
    "                                conditions=[NotEquals(x, y), NotEquals(a, zero)], domain=Rational)"
   ]
  },
  {
   "cell_type": "code",
   "execution_count": 78,
   "metadata": {},
   "outputs": [
    {
     "data": {
      "text/html": [
       "<strong id=\"left_mult_neq_real\"><a class=\"ProveItLink\" href=\"proofs/left_mult_neq_real/thm_proof.ipynb\">left_mult_neq_real</a> (conjecture without proof):<br></strong> <a class=\"ProveItLink\" href=\"../__pv_it/theorems/1789c9e78814d6e98585355c49696b34295d83190/theorem_expr.ipynb\"><img src=\"data:image/png;base64,iVBORw0KGgoAAAANSUhEUgAAATsAAAAXCAMAAABDGxgMAAAARVBMVEX///8AAAAAAAAAAAAAAAAA\n",
       "AAAAAAAAAAAAAAAAAAAAAAAAAAAAAAAAAAAAAAAAAAAAAAAAAAAAAAAAAAAAAAAAAAAAAAAeYafp\n",
       "AAAAFnRSTlMAq1RmmUTNIjK7EInv3Xbt5cnn9enzas/lfgAAAAlwSFlzAAAOxAAADsQBlSsOGwAA\n",
       "A+9JREFUWMPlmOmSpCAMgDnlzt6+/6MuhyhBVKyaH721zEyndMJHE5IQIORfaqqT0x2+Wk+Rf60B\n",
       "w/K5SRi/F3YInuYVSff3jH+46ZjDcsrcw0lpMwS/4GUpZH29fLgj2gXLubbYwUujR+BXvCR1dTxl\n",
       "PtztBMdyrnExcDs6BL/iZVkN6diH2853crbb2fGMGoLf8ZLkm9WXDzcdW7CcDrKTV0k6BL/kZelD\n",
       "at59esg6LImiDtRoH7UA1Gq3BZKjp9mrIfgSaCFHtaWIl6XIidPYr5nhbbaf2RGm1jt5j48mMKsd\n",
       "fgegQEQoiWl3K5GdJPz8lT7pCXwJdISlsOYr4mWpaP14HUbBLYIu7VLdbThOPiOLjnNwCoPAkLQ+\n",
       "VwlhkM1VmqcltNiE+Xu3ewRqVt5Sg3hFJpebmVeDA2pM7AFxTYhTbsp2M8tTdHhcDdmTvERSZC8I\n",
       "dWi77u6VwkgcOUyvXbYTY3AHPIjROj65hwfEK5LBy51CiK0+gvhDuIUp29GJ+rHo+IRf1a3tvMnz\n",
       "25c8IJP44ytJf+92V8CGKFMg61Uj3iaXvNLZxo6D2+EAQsXfegyh2zHkqNWz7cCKse1QdyJdhxkM\n",
       "WHRUzjme3cWsXeFIQeejUzK8tVtiQfnu95+S9WgHvgNmL4YaqwFJx7YizwYV7VunAirF+LKlAyBx\n",
       "SjoC7GGfFLPKtOeexnZ7d2FS+xb/eIPBA7Y6OtsudLWFgVbaNX0tuhDWu5GNyYT6nOJL+jMP54wn\n",
       "YNSg9aPhbVJ5WoORHPMiPHO38FQ2GRpiB8kb2wnj0HdrHlD36qwHZjDgplNs57tqAdUGZcYshtVp\n",
       "Y2ertiIiJetKkPLfcyHwBIwImlyZj2slqo/Qhzalt0mHRmWa8tuSfcSwErNOsst99uh+OGvFnAes\n",
       "OiVm1y5mdUDSUnBaUdCnIkcARBPx2j3Ih+PtEzD9y4Goc6k8zI1+myocbnd+col9+kk5ZXHtSJvv\n",
       "pHT2wnZb9xSP33+YHI8HBg+IdIZ7BQkay8kbt/B4YzIFdAvmqb6Y8Sn7SG5jCk+RnDsIkp/yEHLF\n",
       "ZXSpUcZ7xdEdn74rJkP3AZEOwOng1J/CX98g3NyqPAHTNGzdui5vJGR0dXA8eUxUFSAdgN2eUhyY\n",
       "pdy4bAslF1hcDJKmmmr8bu+OTy0Vk6H7gFgn1sbi+ghvXlyW4dshPj54PgADlEzT8m5vnVj/ZHN4\n",
       "bYVFCq5hNT1GsiPvNxh2pXN1XDN97nxu2CzB3oKvTMFhv+WcWT9p+6eY3+VzBT3+Fk2/A4OHmKnO\n",
       "60FdwazpAE9RP4CneXDnqfz0JDlMXLUMbccaFz0w/FLnP23qP5rrX6L4JMZnrzsvAAAAAElFTkSu\n",
       "QmCC\n",
       "\" style=\"display:inline;vertical-align:middle;\" /></a><br>"
      ],
      "text/plain": [
       "<IPython.core.display.HTML object>"
      ]
     },
     "metadata": {},
     "output_type": "display_data"
    }
   ],
   "source": [
    "left_mult_neq_real = Forall((a, x, y), NotEquals(Mult(a, x), Mult(a, y)),\n",
    "                            conditions=[NotEquals(x, y), NotEquals(a, zero)], domain=Real)"
   ]
  },
  {
   "cell_type": "code",
   "execution_count": 79,
   "metadata": {},
   "outputs": [
    {
     "data": {
      "text/html": [
       "<strong id=\"left_mult_neq\"><a class=\"ProveItLink\" href=\"proofs/left_mult_neq/thm_proof.ipynb\">left_mult_neq</a> (conjecture without proof):<br></strong> <a class=\"ProveItLink\" href=\"../__pv_it/theorems/2ec42432bf80a9038b587ab192d65d16308c8ade0/theorem_expr.ipynb\"><img src=\"data:image/png;base64,iVBORw0KGgoAAAANSUhEUgAAATsAAAAXCAMAAABDGxgMAAAARVBMVEX///8NDQ0WFhYLCwsYGBg2\n",
       "NjYbGxsSEhKIiIgiIiIQEBB2dnbu7u5ERETMzMzc3NwyMjK6urpmZmaYmJiqqqpUVFQAAAA0WiBi\n",
       "AAAAAXRSTlMAQObYZgAAAAlwSFlzAAAOxAAADsQBlSsOGwAAA+pJREFUWMPlmNnSnSAMgO0eIIBs\n",
       "vv+jlkXUICp2enE6ZdqT0T98SEhCYJr+paYbOdzhb+vp6V9r4Kl8bgb67y12wcO8IsP23rsPN50X\n",
       "VA6ZuzspJbvgF7wsramv5w93RJypHGszdl5K1QO/4iWpquNp+eFuZx2VY83ZjtuFLvgVL8tqSOE/\n",
       "3Ha8kaPdzo4ndRf8jpekW60+f7jp/EzlcJCdvMqELvglL0vOUuPi00NWUDnpIED39lEECKjEGkgi\n",
       "nGavu+BLIEKOagyEl6XNiVPi35nhbbYf2RGG1jt5D48mkAt2vwECTJaVxLS5lc1Owr5/S7/hBL4E\n",
       "ismnsHYL4WWpQ/35k5JL2nBcrLsNR5hnXtERAk5hwDyRyHOVwDrZXKd54hSKTTy/d7tHoPLlbZCE\n",
       "V2RyuZF5HXAQpIw9UIb4IV6KEduNLE/RcXEtTEvihkibvYDVkXHZ3CuFkd1zmFqabGf74Aa4E6N1\n",
       "eHIODoRXpIeXO4W1a30kMPPckO3CQP1YdHjCL/rWdlzm+W1LzohJ+B4Jht+73RXwQDQpkNWiCG+V\n",
       "c17pbGPhQGxwAKvjv3oMCesxZKvV0SnTHO+OtiPdJyMaTGfAoqNzzuH+LmZxgT0FnY9OyfBYMpdn\n",
       "JN99/VKyXmjAd8DsxVBjlREp/FrkIdPRvnUqoFOMz2s6gClOSfEUqNvurn27iAfbbd2tTO1X/O8O\n",
       "GDrgUUdl27GmtpBwlLikzwrzdPoCjMkk8JziS/qTD+eMJ2DUCPXnwFul5qEG47TPa3KZu4anxmRo\n",
       "iB3MNimHDq9tR7pXZ90xnQFXnWI73lQLpDYoM/YxrE4bu18U2og0vilByl/PhcATMCJCcmXXr5WC\n",
       "2kMfjin9mHRCVI5bf9ycs49IPyll1LXtSPfdWSvmPGDVKTG7NDGrGJEYQCgdQJ2KHAsQTeRqd2Ye\n",
       "jrdPwPQnAbbOpfIoN/ptqnAcbvzkEtv0k3LK4mpfyHWvOBRlxHZr9xSPP3/IHI87hg5IdLp7xcQU\n",
       "lYM3buzxxmQIKGbK020xw1P2MTEQUaRIzh3slJ/yEGahZbQWeSsQvfpu705P3xWToduARAfgdHBq\n",
       "T+GvbxBublWegGkaWLeuyxsJE10dhEseE1UtGAGA61OKAzmXGxe1b5MxgK3qxuzWnZ5aKiZDtwGp\n",
       "TqyN7fURXr64LKO3Q65/8HwAMiiZ5si7vXXy7RPm8FotloKrW033kX53zAPGX+lcHddkmzufGzUL\n",
       "w1vwlSkcbLecI+tnsH2K+d08V9D9rzj02zF0iJHqvJ79NIyaDugU1QN4mAd3nupOT8bBwFVL13b+\n",
       "4KI7xl3q/KdN/0dz/Q2ZqD3zR3DN0wAAAABJRU5ErkJggg==\n",
       "\" style=\"display:inline;vertical-align:middle;\" /></a><br>"
      ],
      "text/plain": [
       "<IPython.core.display.HTML object>"
      ]
     },
     "metadata": {},
     "output_type": "display_data"
    }
   ],
   "source": [
    "left_mult_neq = Forall((a, x, y), NotEquals(Mult(a, x), Mult(a, y)),\n",
    "                       conditions=[NotEquals(x, y), NotEquals(a, zero)], domain=Complex)"
   ]
  },
  {
   "cell_type": "code",
   "execution_count": 80,
   "metadata": {},
   "outputs": [
    {
     "data": {
      "text/html": [
       "<strong id=\"right_mult_neq_nat\"><a class=\"ProveItLink\" href=\"proofs/right_mult_neq_nat/thm_proof.ipynb\">right_mult_neq_nat</a> (conjecture without proof):<br></strong> <a class=\"ProveItLink\" href=\"../__pv_it/theorems/47d863835e75bbb90c3b4b8948bd0b41997b6e770/theorem_expr.ipynb\"><img src=\"data:image/png;base64,iVBORw0KGgoAAAANSUhEUgAAATsAAAAXCAMAAABDGxgMAAAARVBMVEX///8AAAAAAAAAAAAAAAAA\n",
       "AAAAAAAAAAAAAAAAAAAAAAAAAAAAAAAAAAAAAAAAAAAAAAAAAAAAAAAAAAAAAAAAAAAAAAAeYafp\n",
       "AAAAFnRSTlMAq1RmmUTNIjK7EInv3Xbt5cnn9enzas/lfgAAAAlwSFlzAAAOxAAADsQBlSsOGwAA\n",
       "A+VJREFUWMPlWNmOpDAMJBc58d78/6euc0EMAYI0D73aaKYtWnGlXZQdJ9P0Lw19sMMOXz1PT//a\n",
       "AE7t81DQ/166LvAwXrZs+56LD6eOe2qH6O4GZWwX+AVeslLVr+cPF6KbqR0bs+t8aU0P+BVetKYK\n",
       "T9sPl50U1I4NITuyY13gV3jJViI9/3DuwsGOup2FZ3UX+B1etKKwPn84dXymdjjJTqpSrAv8Ei/Z\n",
       "sMQR/KenrKfWATBnfDddNPOgy5bo2Sl63QN2kHLXsUG8ZGUqnNZ9TYS31X5kRxh633klYDDJpdNJ\n",
       "BGTHrhlKbLKSSSTLz1/xkx2B/cRj8op1EC9ZzerH61Z1kR63aRF257sNx6tnyDzHezilwcKJFTrG\n",
       "6SZ2LvQupAaikMrDvewKoOHZg9lBvGyj5EbiajYqYNaiB2eTd6TTvOFu5PXkOQLTQx2RgiI2Jots\n",
       "KpVbd30l6SyFfXMQkpJdYAwhxKwMcALs42XL4eVOIaWp7TTE3Gk0csMdG+gf85wQ4Vd9y93Uxpli\n",
       "2zgJNoWuasLdy24DVDEpzWpOgH28Yuf0phPZXoDfwAGkxr96DGHlGLL36txwhTX0gjviPil/gOks\n",
       "mOfoVFkCv83ZFCw6ulOBdCu0dYsvpN79/pOrHjsBJxXDuWG5wCvW89LkuUUj8zUU0DH7Z162oQlD\n",
       "Mgjtdn64wZzlqs/d5i5tHN/wXzQwdMF2jkncLYdCZqG1DksGCxPR/BZr/MVsnngKRNiHc8YGzOrH\n",
       "EF6xuhZ7iTLd4ppEwi0a1i4SDeigRMsd5izYLnfEvYp1h+ksWOZk7sLhGE96g4mvxkl0VJ0WJZLB\n",
       "MeMk6WnKLz43AhVYsihlMYpXLTN76kPLfFt0GE7GpgA356QRyzN3zrfFkr7k3X0Xa4U5L1jn5Jxd\n",
       "D6yYpbVOAiARotfdOQbeaAY5qEU9HG8rsMMmTq56FI/iojpjHyP2EhIlsYHFybGKG090h68eLrgr\n",
       "7jEfv/+wKR93GLogmdPdK6bFUDvaRz3emDSAfh7F08e+MsTqo4SLYsJMTlAySSsvoVbaRovEfavU\n",
       "nbvdnZ6+K0wC3RYkcwBOB6fjKfz1DcLNrUoGjD/WBT6Kd7pAUJgE4EVUDIJIUB7AlaeYIXbONy6m\n",
       "qj1v+F3udnd6aqkwCXRbkM7B3lheH+Hti8syejsk+gfPBLhAridjeLe3Tvz45FJ6lcYiJle3m+5D\n",
       "NlndwPCrOVfHNXusnc+D8ry4a2DsVaUaxrt7f8odn7C+q+cOuh9W47fD0CVGuvN6HNcwSh3QEM0D\n",
       "8DAe3ElfnJ6UgIGrli53vHmfO4y4nPOfDv0fxfoXbTIkJ8giuXcAAAAASUVORK5CYII=\n",
       "\" style=\"display:inline;vertical-align:middle;\" /></a><br>"
      ],
      "text/plain": [
       "<IPython.core.display.HTML object>"
      ]
     },
     "metadata": {},
     "output_type": "display_data"
    }
   ],
   "source": [
    "right_mult_neq_nat = Forall((a, x, y), NotEquals(Mult(x, a), Mult(y, a)), \n",
    "                            conditions=[NotEquals(x, y), NotEquals(a, zero)], domain=Natural)"
   ]
  },
  {
   "cell_type": "code",
   "execution_count": 81,
   "metadata": {},
   "outputs": [
    {
     "data": {
      "text/html": [
       "<strong id=\"right_mult_neq_int\"><a class=\"ProveItLink\" href=\"proofs/right_mult_neq_int/thm_proof.ipynb\">right_mult_neq_int</a> (conjecture without proof):<br></strong> <a class=\"ProveItLink\" href=\"../__pv_it/theorems/f70315985c4b06e6a4a5347573a20e7b87a0b4b30/theorem_expr.ipynb\"><img src=\"data:image/png;base64,iVBORw0KGgoAAAANSUhEUgAAATsAAAAXCAMAAABDGxgMAAAARVBMVEX///8AAAAAAAAAAAAAAAAA\n",
       "AAAAAAAAAAAAAAAAAAAAAAAAAAAAAAAAAAAAAAAAAAAAAAAAAAAAAAAAAAAAAAAAAAAAAAAeYafp\n",
       "AAAAFnRSTlMAq1RmmUTNIjK7EInv3Xbt5cnn9enzas/lfgAAAAlwSFlzAAAOxAAADsQBlSsOGwAA\n",
       "A+BJREFUWMPlmOmSpCAMgOWSO3v7/o+6hEMBUbFqfvTWUj2dsgc+TEhCYFn+oSY7OT3gyzq+foNP\n",
       "aUBb+dwEXPyDmyF5Gpgk2X+n7LNNR20rp8w91knpIfkFMEouys/rZzuiWVs511Yz+lWrEfkVEKUq\n",
       "jif1Z7sdZ62ca4yP3I4Mya+AURZDWvrZtnOdnB02cDwth+R3QJQsW339bNPRtZXTMXZ2KkGG5JfA\n",
       "KJ3H5uyHh6xtpQEgRtlhtEhiQeYd0ZKz9nJENhBj15BJYJQ8Jk5tvkbF23Q/syXMLHeaCAgs3A8K\n",
       "CReMo7dEYodX8egk/ucv/CY92S4Ug5dtk8AoJSlfrxtx2vLwqVLJTW8rnompj7XQh4GnjWQS1TQL\n",
       "OYekcbF+yEal7sHtMlHRNIToSWCS6HIzelUbFRCtwwgfXsMaMFO2m1me1IeF8BAdyYlGYqzwOlGZ\n",
       "rTzx6Dk+G1/1fiT60EjEoIPDqHQwCUySwsudgvNcHzFcL1kv/Y3tyET9mPo4xG/yznZLrWZyn2IT\n",
       "p6PmosTbg9vtRIFBqTY1CcxyjSsdjW0Z2B0OwGX4lGMIyceQpljnbYqrbdcMX4TtMIMJUx8ZM4uj\n",
       "dzEbdQ3jzCk/mg3qtEV9m+9+/0lZj5zI0Y3hXLBcALO0NBd5JgSh2hccJEb/SvM2tASVVECb2j5M\n",
       "UnVhu30419i+hT9WYdoJ6z4q2s63mUxDLU3IGMTFDH9WFV+YrAuNejD9dNDYyaR8TQGzlI6UYFwO\n",
       "vTAiAzebRho0NIQBolIqmKJ9++pNm+HFWQ/MYMLcJ9mujci2NFjopgwP48SgREFbUF/igbfvR8+F\n",
       "QCFzgr7MZoFFEnWEPtSWr5MOCZ1DVRA25+gjmsZlt6YJnHaVj+GHsxbMecLSJ8Xs1ppF+VoaDhDs\n",
       "wEbVnSFglSSQdPLi6XxbyCYUcXyTs8AObHCkZocp0CV2GHbGLK6OlRRU4TrZC9vl4RiP33/oGI8H\n",
       "pp2w6TPaKxavWjl54eafb0wqol1ngbIvLB1mH8FMSOEYyRHFl/gUpxBbW0bb6MfCj2L2GN6evgsm\n",
       "QvcJmz4Ap4NTdwh/fYNwd62SiPiyxtFZ4OkCQYQoAIuVB0I4CAtYvMUnDBG9phuXUqIQEtxZr2SY\n",
       "7/bh7amlYCJ0n7DtE2pjbq5O8PrFXVl3OcTGB89I9JDyyRzw9taJ9k8mhlcuLDC4htX0GEmPvF9h\n",
       "6FWfi9Oa7lPnc+vs7M01mTLgYhp4t4DC9E8hv4vnCnqsVzXuwLRTTFTn5TQuYdZ00GmoHsjTQLjz\n",
       "fXZ6EgwmrlqGtqPVeh4YdtnnP23yP9L1L58CJCHm/XcJAAAAAElFTkSuQmCC\n",
       "\" style=\"display:inline;vertical-align:middle;\" /></a><br>"
      ],
      "text/plain": [
       "<IPython.core.display.HTML object>"
      ]
     },
     "metadata": {},
     "output_type": "display_data"
    }
   ],
   "source": [
    "right_mult_neq_int = Forall((a, x, y), NotEquals(Mult(x, a), Mult(y, a)), \n",
    "                            conditions=[NotEquals(x, y), NotEquals(a, zero)], domain=Integer)"
   ]
  },
  {
   "cell_type": "code",
   "execution_count": 82,
   "metadata": {},
   "outputs": [
    {
     "data": {
      "text/html": [
       "<strong id=\"right_mult_neq_rational\"><a class=\"ProveItLink\" href=\"proofs/right_mult_neq_rational/thm_proof.ipynb\">right_mult_neq_rational</a> (conjecture without proof):<br></strong> <a class=\"ProveItLink\" href=\"../__pv_it/theorems/6f0e7653f560331766d404bf4933b8b0ddee9b250/theorem_expr.ipynb\"><img src=\"data:image/png;base64,iVBORw0KGgoAAAANSUhEUgAAATwAAAAXCAMAAAChxwN1AAAARVBMVEX///8AAAAAAAAAAAAAAAAA\n",
       "AAAAAAAAAAAAAAAAAAAAAAAAAAAAAAAAAAAAAAAAAAAAAAAAAAAAAAAAAAAAAAAAAAAAAAAeYafp\n",
       "AAAAFnRSTlMAq1RmmUTNIjK7EInv3Xbt5cnn9enzas/lfgAAAAlwSFlzAAAOxAAADsQBlSsOGwAA\n",
       "A+pJREFUWMPlmOuypCgMgLkKBMzszuz6/o+6EEAFscWq+dFbQ53TKbvhw4QkBBj7PzXTyekBv63j\n",
       "6zf4moailc9N480PCobkaWCWfP9eyC+3nfCtnLL3WCnrhuQXQJJK16+XL3dFWFo51xYYfevsiPwK\n",
       "mKStrmfclzuekq2ca1KNHI8Pya+AJKslvfhy44VOzg4buJ4zQ/I7YJKymH35ctuJpZXTYXZ1K82H\n",
       "5JdAkmFNLfhvj1rfSkDkYP0wYAz3aMq+6PlVfTMiA1L4Ap8EklSUPB38Jh0/5vyZfWFmwfNEyJGp\n",
       "dVBPhGgdt2WSPPxKkZusP3+lT96TPRMpfuU2CSRpeP14vwF6pzhv1vHTtuP1MzL38R77SFhFI6VJ\n",
       "egLj16iEQGVEsaoID45XiFbkIdxNArNMTjej17FZIXcuDjA+aeilmDPezALlPjJGiO5IQTcyhYs6\n",
       "JyvY6pMi31mL9W3vSboPjkyMRggpMAP2vBtglgLfbRdKlSrJm2Q2kNJMGY9PFJK5T0gTbOaT8dhJ\n",
       "z+JA1SjBke66htyD4+1EneLSbrbn3QCLXGipcxxK9DscUZn4Vw8kPB9I9qLdWkG/IcOx8ZrxTPuW\n",
       "M5ox9zGUXYL4FLakbBwHlxwJG55Tl1jbnPfPvznz8QuZHBmvdcsNsEgvSrEHq4mmr6qgSQlgEWUv\n",
       "YlElGxjs5pGQzXhnvH28cqn9iP/y4LB2xnMfS8Zb22zm8Cwhpg0eKM1fdU1vzBeWl1a6pyPHTub1\n",
       "YwpYpAm8BiQ79GKSuMWLDSRLo2N616kaDc8anF61GV8ddueMZix9svHaoGwrBCY2CyqO04NKJRlD\n",
       "xKBTTWlT/eZaDlSy4smb5SywSm6P6Mez6c95h8fOsTaQC/mIE0w/he15/OGwhTOYsfbJYbu1drHr\n",
       "WYJCjIaQoyoPOHprOGalVv101q1kiMWc2swssANDGunkkUaST+yw1Dlmcnus5OOGUcankPzrb0ch\n",
       "uXO6GZs+ow2DrbaVkxdw6/P9yYnol1mg6QvMkBKQlhDTeApmQilGTzSF3ppy2pLP+OYu6zDeMb49\n",
       "ilcOUfcZmz6IlzNUdyJ/fZ3w6ZIlE9PLQhCzwMttgo5xgF4ml4kQhdojQnlKQeKoqD7uc8CvauH2\n",
       "pkjex7cHmMoh6j5j2ycWyQrujvPuxd1Zd1ckx4dQIq6YU8oc8OMllOifgAKsnCscFckUubbbFMe0\n",
       "IysenH4OfDrPuD59PrfO0Cvck4VEpaeBn1ZQQ/8Uc7weJAQlZPSwJ+OdBh6cdo6JOr0ezQ3O2g47\n",
       "Fe0DeRqIn7xfXp60RD8+q0n75HniZN2DI2/7/KnN/EG6/geL+iTSpdveuwAAAABJRU5ErkJggg==\n",
       "\" style=\"display:inline;vertical-align:middle;\" /></a><br>"
      ],
      "text/plain": [
       "<IPython.core.display.HTML object>"
      ]
     },
     "metadata": {},
     "output_type": "display_data"
    }
   ],
   "source": [
    "right_mult_neq_rational = Forall((a, x, y), NotEquals(Mult(x, a), Mult(y, a)), \n",
    "                                 conditions=[NotEquals(x, y), NotEquals(a, zero)], domain=Rational)"
   ]
  },
  {
   "cell_type": "code",
   "execution_count": 83,
   "metadata": {},
   "outputs": [
    {
     "data": {
      "text/html": [
       "<strong id=\"right_mult_neq_real\"><a class=\"ProveItLink\" href=\"proofs/right_mult_neq_real/thm_proof.ipynb\">right_mult_neq_real</a> (conjecture without proof):<br></strong> <a class=\"ProveItLink\" href=\"../__pv_it/theorems/602057eeb180dffb6d931638c03d07fb6285a2de0/theorem_expr.ipynb\"><img src=\"data:image/png;base64,iVBORw0KGgoAAAANSUhEUgAAATsAAAAXCAMAAABDGxgMAAAARVBMVEX///8AAAAAAAAAAAAAAAAA\n",
       "AAAAAAAAAAAAAAAAAAAAAAAAAAAAAAAAAAAAAAAAAAAAAAAAAAAAAAAAAAAAAAAAAAAAAAAeYafp\n",
       "AAAAFnRSTlMAq1RmmUTNIjK7EInv3Xbt5cnn9enzas/lfgAAAAlwSFlzAAAOxAAADsQBlSsOGwAA\n",
       "A+VJREFUWMPlmOmynSAMgFllNd19/0ctBFAQVJy5P06ntPdkdODDhCQECPmXmjrJ6QFf3U+Rf60B\n",
       "a+VzkzB+L+wQPM1Lku7vGf9w0zHXyilzD5XSZgh+wUMpZHm9fLgj2qWVc22xg5dGj8CveFHq4njK\n",
       "fLjbCd7KucbFwO3oEPyKh7IY0rEPt50/ydlhveMZNQS/40XJs9WXDzcdW1o5HWSdV0k6BL/kofRr\n",
       "bN59esi6VloAarUbhouiDlTeEh3ttFcjsAWMXUsneSgFJk5jv0bD22w/syNMrXeaCSgQsQ4qCR+s\n",
       "Y7aE4rtbCXSS9eev+EvPYEdYDF6+TfJQKlp+XofR6hZBl7qGuttwnHxGpj7OQRcGK2skV1FPS2if\n",
       "6K3HAiIblfl7t8tAzdIIaiZ5SUaXm9Gr2qiAGhNGQFgt4pSbst3M8qQ+PKyGPJO8bGQMFlFlKrsd\n",
       "/oWus+av0idHkmIIDjbw0Qk8dMAxL0kGL3cKIXJ9BOEf4RambEcn6sfUx0f8pm5tR2o9UbfdJt6g\n",
       "6rIE3L3b7UAZg1JvugOOeVkuuNJobMfB7XAAocL/cgyh+Rhy1OpoO7BibLtmOJHuhBlMmPoozCye\n",
       "3cYsKhsG2i5B2g3qvMXWJt/9/pOyHu3A6MXQFywXvCwdy0WeXVWwfFEFVIz+heVtiASVdEDbwz4x\n",
       "ZpWpzz2V7fbhwsT2LfzxCtNOWPfRaLv1lMgM1NKGlEE9pvhe1/jFdCEMFeHm4Zyxg2n5meJlqTwt\n",
       "wUgOvQhHbvZhZaOhIQyQvLKdMK75tuqhGV6c9cAMJsx9ku386Rjf1AaEbdqKMFAOSpRoDBYiTjQ1\n",
       "TfaWvhAoYEGjK/NZXpFUH6EPteXrpENDZxrz24I+YliKWdd8frvIx/DDWQumn7D0STG7nayi11pa\n",
       "ARAMwUfVnaXgtKKQlFrlw/G2gG0o4sSmZnktN3hnrGP4kUKiS+yw2Dlmce1Ine+kdPbCdnl4jMfv\n",
       "PwzG44FpJ2z6DPcKsupWTt64rY83JhXQLbM8da4rfcw+ktuQwmMkI0oQfMIp5NaW0alGGe8Vx/D2\n",
       "9F0wCN0nbPoAdAen8yn89Q3Cza1KAsaPtZ7N8roLBBmCAByPHhMgAqQDsPkpRohZ0o1LXii5wOJC\n",
       "+FR1VuV3+/D21FIwCN0nbPuE2lhcH+HNi8uy9naIjw+eCFwh5ZM53u2tEzs/WQyvXFjE4BpW02Mk\n",
       "O/J+hWFXfa6Oa+acO59ba+fVXoMZByGneXfrJ+35KeR3+VxBj9Wqxh2YdoqZ6rwcxxXMmg5aFfUD\n",
       "eJoHd67PuyfJYeKqZWg7Vq3ngeGXff7Tpv4jXf8CnjkkxmrjuYoAAAAASUVORK5CYII=\n",
       "\" style=\"display:inline;vertical-align:middle;\" /></a><br>"
      ],
      "text/plain": [
       "<IPython.core.display.HTML object>"
      ]
     },
     "metadata": {},
     "output_type": "display_data"
    }
   ],
   "source": [
    "right_mult_neq_real = Forall((a, x, y), NotEquals(Mult(x, a), Mult(y, a)), \n",
    "                             conditions=[NotEquals(x, y), NotEquals(a, zero)], domain=Real)"
   ]
  },
  {
   "cell_type": "code",
   "execution_count": 84,
   "metadata": {},
   "outputs": [
    {
     "data": {
      "text/html": [
       "<strong id=\"right_mult_neq\"><a class=\"ProveItLink\" href=\"proofs/right_mult_neq/thm_proof.ipynb\">right_mult_neq</a> (conjecture without proof):<br></strong> <a class=\"ProveItLink\" href=\"../__pv_it/theorems/9f0c98ae9a20263d56ed8bcaf58e6032f49fb4490/theorem_expr.ipynb\"><img src=\"data:image/png;base64,iVBORw0KGgoAAAANSUhEUgAAATsAAAAXCAMAAABDGxgMAAAARVBMVEX///8NDQ0WFhYLCwsYGBg2\n",
       "NjYbGxsSEhKIiIgiIiIQEBB2dnbu7u5ERETMzMzc3NwyMjK6urpmZmaYmJiqqqpUVFQAAAA0WiBi\n",
       "AAAAAXRSTlMAQObYZgAAAAlwSFlzAAAOxAAADsQBlSsOGwAAA+BJREFUWMPlmOmynSAMgOkeWWXz\n",
       "/R+17LKp2OmP0ylz78nowIcJSQgg9C810cnlAX+7n0D/WgPTyucmYf5e0Sl4mRelLe+N/nDTGdLK\n",
       "JXNPleJsCn7BC1LJ/Hr/cEekeyvX2k4nLxmfgV/xvOTZ8QT7cLdTupVrTauJ29kp+BUvyGxIYj7c\n",
       "driTq8NGx2NiCn7H81Inq+8fbjqzt3I5yAavknYKfskLEm++YfLpIUtaSQEs5WQaLsISEGlLJHbQ\n",
       "XszAFELsUrvIC1KFxMno39HwNtuv7AhL6x1nAgtIbZNKAjvrsCOidHErFZxk+/7N/9oeTJDxwauP\n",
       "RV6QwuafPym5mLJlSfwS3PQl8pkX+xACQxhsppFaeD0psmOipzgUEMmoBt+7XQJyE0dYtsiL0rvc\n",
       "il7VRgWWMTeCMus+xDCyYruV5Yl9tFsL2ZOwbKQPFlVlKnqc/hVcZ0sfxTtHkmoKdjbA3gUwDMA5\n",
       "L0oDL3cKpVJ9RGiYSS/Zzi7Uj7EP9vhD3NoO1XoG3YpNMAuqyxxw925XgNIHJT/4AJzzktzDSgdj\n",
       "Ew2kwAGUcH/5GGLTMaTU6lRz2R3vats1w5EkHWYyYewjQmbB5jZmg7JuIB0SJD2gzltma/Ld1y8x\n",
       "69kBHLwYxoLlgpckManIo5twls+qgPDRv5u0DSGnEsc+UMvuLky/iJXtynDFfPvl/nWFaSes+/Bg\n",
       "u61LZAxqSV3KsDik+FFX/8V2R/HjNHs4ZxSwzT9LvCQFtjkY0akX0oGbfFhQb2hwA2RRSlNNr23X\n",
       "DM/OemImE6Y+0Xa4O8Y3tQEyB6fKDZSTEsUbw7iIU01Nk5Z7LAQyWFnvynqVl6XlZ+hDbfk66VjX\n",
       "2RUFbnMOPsIM4lzya9s1w09nzZhxwtwnxuzRWYVvtaQKwBlCz6o7aoFwYSF+2yYfjrcZTF0Rpw6x\n",
       "ymu5zjt9HaPPFOJdosB8Z5/F+bmQaa+oirLGdmm4j8efP1iIxxPTTtj0me4VaOOtXLxx2x5vTCog\n",
       "2Vd5oq8rsc8+0gUiJT6SA0qh8BSmkEdbRgsStgIyq+/O4e3pO2MCtEzY9AEYDk79Kfz1DcLNrUoE\n",
       "+o+l2KzyhgsE6YIAiPYe4yAKJAGg6clHCNvjjQs/t0kXwIpPY7YMb08tGROgZcK2j6uN1fURnr24\n",
       "LGtvh/T84BmAG8R8ssa7vXUy/RMN4ZUs5oNrWk3PkeZ0zApjrvpcHddYnzufW2vnjV6DjQYll3l3\n",
       "6ydp/+Tyu3yuoOdqVeNOTDvFSnWez34CVk0HrYr8AbzMgzvX18OT1LBw1TK1nanW88Toyz7/aRP/\n",
       "ka6/AaqxPfOB1bmKAAAAAElFTkSuQmCC\n",
       "\" style=\"display:inline;vertical-align:middle;\" /></a><br>"
      ],
      "text/plain": [
       "<IPython.core.display.HTML object>"
      ]
     },
     "metadata": {},
     "output_type": "display_data"
    }
   ],
   "source": [
    "right_mult_neq = Forall((a, x, y), NotEquals(Mult(x, a), Mult(y, a)), \n",
    "                        conditions=[NotEquals(x, y), NotEquals(a, zero)], domain=Complex)"
   ]
  },
  {
   "cell_type": "code",
   "execution_count": 85,
   "metadata": {},
   "outputs": [
    {
     "data": {
      "text/html": [
       "<strong id=\"strong_bound_via_right_factor_bound\"><a class=\"ProveItLink\" href=\"proofs/strong_bound_via_right_factor_bound/thm_proof.ipynb\">strong_bound_via_right_factor_bound</a> (conjecture without proof):<br></strong> <a class=\"ProveItLink\" href=\"../__pv_it/theorems/3ba70e85cb9b0d2ac84d5173ba4682866af664c40/theorem_expr.ipynb\"><img src=\"data:image/png;base64,iVBORw0KGgoAAAANSUhEUgAAATwAAAAXBAMAAABkN+50AAAAMFBMVEX///+IiIgiIiIQEBB2dnbu\n",
       "7u5ERETMzMzc3NwyMjK6urpmZmaYmJiqqqpUVFQAAAB6qHgnAAAAAXRSTlMAQObYZgAAAAlwSFlz\n",
       "AAAOxAAADsQBlSsOGwAABCFJREFUSMfNVl1oHFUYPdvd2dnMTiYTjFJMDUkJKK0PW1EbBGHy0GKl\n",
       "lYlNQSnW5MFQY6Mr8cGnZmI1L4WygkpAhYgaUItug9baBt08tFRKcU1fhPZhA21REIkPwVgU/O7P\n",
       "zN6duWsrrOgHZ+/O7tn7nf3+7gX+FctJJCxoQr7lDVpid0kk7L0m5LhZrkCNPVxpsbp2TyBpqYqW\n",
       "nLRNAqfZ+9kWy3tSQmNvaslJa/M5DrMkj7RY3qKExi5oyUmzyxxMZabaYnkFCY2l/XpWZyOyxh7g\n",
       "sKkY2lpdeiUBbdKi4rO3+iFZZ+8I3Ld58/0tlpf3BHBscDr60Oi89tIeylQtbJJ+PyI3EIcWYRDp\n",
       "MXB8CTxzCx7/iTwWIQZrAC/49R163AWKmQzWcJ9CbiB6l2CvAt+C4xhytaZZ6n/7J5e/y95cVGYw\n",
       "nBAbqgJ7K1iIvj6P7/yfaUtRakfvhUJWiWZ1AQ716iVwZP3MnNbdi9fH4XqZV3XyfPXBEE9LmA/L\n",
       "f07gG6CfPT/NIlbEV9z7Knt13q33Sp1o/M5esA1piskUONpdfWfkKetwXXtII+/otYYD6Dl+VG1H\n",
       "R9Ao70EYN3iAyvzjbfw4KGjkhcStnLGGqSLwPgRKS6wUlh5hX3We6iYXVg8cPrZJXmq/Ii/VPX2K\n",
       "lsM/0ulU4weOsbsrgPkL/Si3hnS1IbnGr7yIonNqHfsoGr3J5DYS8yXcRsuyxB4a5MY95jpzH1xv\n",
       "o62HOvxJg49q15vZpMjb6IzQ354niYa7ZrI4PB5MMWlfF2GuYYMcGlmXw/gTTumHsALGnQKoOO2R\n",
       "WGvEicjW8Dwt5ySOUBTyZe7MxqhJy2vLuMPirtyTO6HIq2TdIuZ3sIQ+1Ztijs5gkjs/OUfy0q5s\n",
       "kprAKJbL5bDLfttfsKpyjvD50edHZJWIfM36g5bPJZwiK4CUaN91/noVK/ZbY2MTlNxHq2rtUXWZ\n",
       "D/N3jucwMQ+hR8zYAUpuh0yu2StwoOvllWIYvRPu5Yssl1Ef2mLwxYkwrnYzFVskeG8F2bOMbBb4\n",
       "JWsLtpueqL2Pd6jyJunCNjzBS2YuTRsa6zi0j8VmVG0N3C2hsVeUY3U2IsdGFHV6rldAtE8wddwf\n",
       "xpFMKY9h+oW1KmY1DRalNXKFXaAcpA4xecXPYHgYMG+cJUfsBOrEp+q5f6H5beHvLwm7sJcVQUVA\n",
       "dNXi97sxWc3fOXg7Lbh8roQZCo71+hvGmVI9eic+6GQxtklf++KzLM+fXOyqIDUhxvIXUXUHAppb\n",
       "cPJyFCf2UW0BMxKKydKpGkG2AmPn2LiyR+NpchBPgGkUpTYR98ja3tDe0jSi48Qr3aw8D0oog8mX\n",
       "i+N+lNg2/sGKRVH9sNkBNy2RsI1NyIlbdSCg3gDDxVrybirveBcbNPifWO6/cfsXZfwF04Oar0wA\n",
       "AAAASUVORK5CYII=\n",
       "\" style=\"display:inline;vertical-align:middle;\" /></a><br>"
      ],
      "text/plain": [
       "<IPython.core.display.HTML object>"
      ]
     },
     "metadata": {},
     "output_type": "display_data"
    }
   ],
   "source": [
    "strong_bound_via_right_factor_bound = (\n",
    "    Forall((a, x, y), Less(Mult(a, x), Mult(a, y)), \n",
    "           conditions=[Less(x, y), greater(a, zero)], domain=Real))"
   ]
  },
  {
   "cell_type": "code",
   "execution_count": 86,
   "metadata": {},
   "outputs": [
    {
     "data": {
      "text/html": [
       "<strong id=\"strong_bound_via_left_factor_bound\"><a class=\"ProveItLink\" href=\"proofs/strong_bound_via_left_factor_bound/thm_proof.ipynb\">strong_bound_via_left_factor_bound</a> (conjecture without proof):<br></strong> <a class=\"ProveItLink\" href=\"../__pv_it/theorems/efc26c38ef541c6ccbf06d7782c734e4a3a43bb30/theorem_expr.ipynb\"><img src=\"data:image/png;base64,iVBORw0KGgoAAAANSUhEUgAAATwAAAAXBAMAAABkN+50AAAAMFBMVEX///+IiIgiIiIQEBB2dnbu\n",
       "7u5ERETMzMzc3NwyMjK6urpmZmaYmJiqqqpUVFQAAAB6qHgnAAAAAXRSTlMAQObYZgAAAAlwSFlz\n",
       "AAAOxAAADsQBlSsOGwAABEZJREFUSMfNVk9oHFUY/212385mZnYywajB1LApAaXxsIraIAqTQ6uV\n",
       "ViY2QkvRJAdDjY2uxIOnZmI1l0JYQSWgwooaUIumRWu1QTeHFqWUrulFaA8bSIsFkXhYXIuC3/uz\n",
       "s5OdWVphRT/47Zt5++17v/3+A/+KpBRC4jVRvukDWiJ3KoTk/SbKjaLbEmX+crnF7NKORFhixUjl\n",
       "sGyR+IY/L7SY3n6FCHkrUjks7a7AYe7ksRbTW1aIkHORymExlwQ4y0SpxfSyChESd+teXfCVI+QB\n",
       "AZOCob3VoZeXiHSaH3zmgFtTjpJ3Je7buvX+FtMzHAnWeeXlPfVasd5NqZgo15Kk3/WVh5fByr7i\n",
       "/NAsfT4h8RXw7E3c+E/ocQtxGOi1T/i7H3jJCtlMGWukL6DsXIS54deUQbxIzH+AwDxS5aZe6n/n\n",
       "mi2ekjcmlRiqVYi2ksT3uOD+UvuaPQwjQ0fKUDt6D+rKWukELD899xbB/9NFiaSbKERe99LVSdhO\n",
       "4rUoem7whcm3FSzWwr8gkcPX4n2UW8zYQBvx14SVrPfquVIAw72IkxnYH3zjO6CflhmJtB2dGQZ5\n",
       "HbZtDkfQO3plUwN6XrSq7ejwNtMDXSsMtMQ3xzBKe3o2TA96BTM5eh7gGw+CXeexoJBf4aGw8hj/\n",
       "qvNUD12h98ISZZvoxQ4E6MV6Zk/Rcvhn6k5l0XDY7i4P2q/0o1QF8dJm50Kv4qkajVEbF3i8ZMLO\n",
       "hZHHLb4vfpNxuKqwhwo5u1ur8uu9q+2kPdzhTjMRC7YztyVAr9sao7+9SBSZXdG4HZ70Zji1b3PQ\n",
       "KmhTRSNpC7BJKwu/Y42WcC3twRxrSA2hXMYLPr2/YOV/As5C4ghZwVgSl5kY12h5fRW36eIq++RO\n",
       "BOgVk3YOizu4Q5/OxPhFpzEtzjxZIHpxWyVJWSD9+4Gs7lf8pJ0eMGQdETLc5/rKRln/0/f2OFaX\n",
       "KBq+gISV4wEQk+lbFZ/rWDPfnpiYIuc+XgrGHkWX9oh4shyLk3kIvbLGDpJzOxQXLSPAjtuXztcT\n",
       "aO3R+dvJl34emrLwcWW23lP1FZ/pemWNKG2DhLC8lzzDlbWsGLK2YbvmyNj7ZEeQ3jQNbCNTImQK\n",
       "cTqDVXGIR1d6PJgauEshQl4NtNUFXxmJxt6RykjI9PFmjrkjOJLIGxihX+gbslZTYQmkRiq7C2T2\n",
       "2CFOL/c5mINB7foZuoh3oE58Fuz755pPC6EhYRf2NrZ9oyghK/Xyj7sxXTLuGLqVFlw6m8ccGUd/\n",
       "4012Ol+33vEPO7mNTeKXXn6O+/nT811FxKZkWf7SjzNPImIKDg9HpNhH4dQgcwoBUf+gxLxkEWzn\n",
       "xGTgjM3d5CD2gXOUoTbVeDZPexY5pUWQJsXLPaHOcFAhMEC7arHsj0PHNm6s6WTVj5o1uFmFkHQ3\n",
       "UQ5N1Z5EcAKsLfqKc0N6x7p4ocH/RFL/zbV/AxEaAri5ETKQAAAAAElFTkSuQmCC\n",
       "\" style=\"display:inline;vertical-align:middle;\" /></a><br>"
      ],
      "text/plain": [
       "<IPython.core.display.HTML object>"
      ]
     },
     "metadata": {},
     "output_type": "display_data"
    }
   ],
   "source": [
    "strong_bound_via_left_factor_bound = (\n",
    "    Forall((a, x, y), Less(Mult(x, a), Mult(y, a)),\n",
    "           conditions=[Less(x, y), greater(a, zero)], domain=Real))"
   ]
  },
  {
   "cell_type": "code",
   "execution_count": 87,
   "metadata": {},
   "outputs": [
    {
     "data": {
      "text/html": [
       "<strong id=\"strong_bound_via_factor_bound\"><a class=\"ProveItLink\" href=\"proofs/strong_bound_via_factor_bound/thm_proof.ipynb\">strong_bound_via_factor_bound</a> (conjecture without proof):<br></strong> <a class=\"ProveItLink\" href=\"../__pv_it/theorems/f9af19bac7bb9e6111dac7e822bce8b7bc437d020/theorem_expr.ipynb\"><img src=\"data:image/png;base64,iVBORw0KGgoAAAANSUhEUgAABCgAAAAZBAMAAAABLwLUAAAAMFBMVEX///+IiIgiIiIQEBB2dnbu\n",
       "7u5ERETMzMzc3NwyMjK6urpmZmaYmJiqqqpUVFQAAAB6qHgnAAAAAXRSTlMAQObYZgAAAAlwSFlz\n",
       "AAAOxAAADsQBlSsOGwAACPlJREFUaN7tW3uIW1Ua/zLJzU1yczO3WtfKrMN0bFEZhSiiZfGRLrpa\n",
       "X9yu06q4dlLUqLVq6ggKok19FKFQs39URN11ynYVsdLbslK1s2tkt4taxbQKtequGWjV9UUFhz7Y\n",
       "YTyve+85556bm4xkmIoffMnJOd/33d+953e+80gCECG5/tOm0PSLHJMS6z+TaJSkp9Q03VJhOtNE\n",
       "hSk1Q3ESrO8y/RmQIlanOuNko6Lu5BmKc6NPigYuftqs53P4zawpSRHlPU3yIdMOiHZTn1ix9Oxo\n",
       "J88mFnxsZqEjOAOw2sZJsFJSvI7rnmpGCmMEv1WUpIjynh7RqlQ7ImlHqnimBSfPZkOg6foO4XwG\n",
       "firODR4pHsKzXLEZKXScDtaqp48o7+kRo0a1I9ItT0sTLTh5NrsCTaMdwjkBPxXnLo8UaRsgUW+6\n",
       "cMAMukrdFOU9PRJn2hHZYoufM+PRPr5N3Pc2aUbNdwZmAFb7OLFSUmRrzVeMaWpYVTdFeU+P7GPa\n",
       "Efmt9DnRF+3j26S9BJYdIPwwOzTNBWC1jxMr232c3d9/TnNSxPv7TymE7D4ivKdH/sY0tX+OJW3/\n",
       "AjWqPaJkpM06cK+fGf8861vxrsd6I1Ojb5NouEu5eTRnGPhJrl+4Zgo4ZbfFo6A1QmG1jxMrI8V2\n",
       "gFuak8IoQ9IOIUWE9/TIs0z/UklKOTNYoxDZyIBea5vHkCP2kLDIHtqgHY6K6NtkWWIYnMsNycwC\n",
       "uNtuH6fsVvgAsgdDYbWPEysjxXpIIYZo9MbLqp5H7evDzimodwcl4RaccJszqWrngyHmzGCNau9C\n",
       "ja7zKt6C9+1vvJXAOMSFQfyZDWdFhaQ2OnanS4h1Z7hNXWhoXlODbe3jZG6aS1G9vg1yxVBY7ePE\n",
       "ykiRtBNoz5mgN34qTWYDl8M/G37P3wKXh5GCercs+pPBkqoVyZ5F//gjGbZMmuxxfkPVOAhdBdDe\n",
       "poMAD1FaM3j1ATLkFXw44hnBQs+rDK9xIarQXeBjorYftIu/s0NCejao/9EQ08lQzv3JXxSjx/UG\n",
       "wDyAP1QlCBQnjaDAydxIT2EbDXVo3BIuyYXkcSoiqnBiZaQwLXGluOrzFfDfhG3Yfs/vVq4zSZPs\n",
       "HSX7FaVgq95bGokl4LJCKClsBSniRRgagVXH0RGJMwutcei4HFBccMAzAt8L2BAjH1BnbanzMedB\n",
       "ZsJgA1sR0rNhKT+vIMW5oB0FfVafBIHh7HLUOKkbdxW0d1hd5i/Jh+RxqiIqcGb8TAHVN4UJdTs+\n",
       "o7ScBNfz6awVRgrJO1LOU5SCrTvQvcZisNMKI8W6A4rpY8iC93GK4YYDqTkKT5SbTazUjZ+8D8MS\n",
       "7pjiDZuPOQHGePdI6lDz7b/BlghmX3D60L4nawGzrz2czI3rqiocL16SCzkFnFhdUly1AT2GXnLZ\n",
       "njr8Ghf2fryGJ0ViHxqYsZ41r6LyxgY0eFJgbxh88zL3OlzRv50rZ7OJUP++15ZL3PTB6siBKyLF\n",
       "CU5ix7Ydr3OkYCAe+lIAspzqUB3+Z1YEUpCanRGkIEYbvaWRtiKXB2+31V1GEz4f8xCa27N284eN\n",
       "bWDx3/ECrigtNJMWaBOQq34kkKIVnNSN9hQN1YC7xEvypGgfJ1aXFI+gx7G4G/eGYVY1chN7Ezdu\n",
       "4no+dSF6mZMroiSoWeN6nicF9tZO092FLlf05feV1YwUsfkxRy754tYtJR8SqeU1OVNQEM+/KgK5\n",
       "mmrSMgcMoQNZDXfWQCbjI8I8S4xQOG9peeiGfMbbzeVqSUeI+Q3cIezw/Wh+SGLj7HN3oGT/ONf2\n",
       "9n7LYY/j8D2oxumDdbmP3GhP0UzRyPxfhMWTIhQnF1HEidUlRQ7R8zFy10sSToYctuwF51d8z3+B\n",
       "tJa0kGHqxr5YkW/C3oaD+idFtqak+HKPuPjcAcPoxsnd17JVaohLsh2uA7SY2UxIYdxcDCw0CYjn\n",
       "LwERyD1UtbFL158odCCr0eeLU+mAMM8SIxTO+7zV+uQ9P8T+UXFKWnYFfkT32MJ8T5cfDm+j2Vfg\n",
       "Ou8Os/SgQkfXWTb7/rEy34MhOD2wLCp2e2wPB63nsAiLJ0U4zgFQ48QqfHW+nG2is0+WSnciUgym\n",
       "+Z6niZSM9lwhZ8lN8ZFYAx6c7xXz2kFpd+DmvHjZaDBDVJLtcB1+f7tUKtVjscTLwd0HAqFfABIQ\n",
       "vHzu8jLvnkCmWmtHL3aSTQ+P5JipVg5n8NHJw/7H7FPcBg/EHmwdJ+sptl+XNgCBkG3hfBhEUmjj\n",
       "ZfrI9QLNFJndAVIMk59hdI3Ey3LTUCW504b5XrGiCwf82mFYucQkW75uiNepIS5JdqQuuwvgXpIp\n",
       "YplNNndOUfRADN4JIpCsQzWEFCknVYl8MkPXtkOKdfB49MPGwzj49deu8B5sBSfrKSyL4Jp6BCna\n",
       "wjkqkcKsOloBP3J6PvkOeGPb7flUfhFgm67yFghkisrqzYQUg6yYHEFFZIxf0NsC/ehO8xPc3GX/\n",
       "G6ghKSE7ZoVeaN3j1wM9P0Vb0kv4VUfRBYGaVpL04AGB25iqSbH2vgeih+A+ow1SpG6975XoM5m8\n",
       "8hvkZCWsB1vCiXrKLc4NbOvlkG3hJFiFTDFWwVkZMWEtPsk4vUJ/WsP3/NZNs2xkY47eHiBFZnT3\n",
       "laSvh+u0uB0X9QUwXNEXIJ+X3ptdg1tJ3VaLGZISskPN2Aq9sLp/4XtBQV88qXDDaxIpCAicGhAr\n",
       "OCBkZbqUlR99bqF01xdNTkYPl2VzmjTKMeOTkwcjI6J51GcAN9QZT1KLfrCmgBP1lFv8VFqSBUO2\n",
       "hZNglX+OZ5LZRftdaUXgMIKzuQ5WqpvIrEDTWcK23CKNi2+mr+7WeYbEzvQC0Nav8AauVAqckwpj\n",
       "zryNBwIpi+qMEvwth4ppa2YoToJVJsVf0y/kQ06ofBsYy1TVTavOqUOGpr/nJvvcIvGhCySb1fmG\n",
       "2M5tBtcj7DsAORFzQGakPD0Mx4SIOGVS1IweO4oUNdg8O6SJrPhUxZqiLgvBZlIX+4/TIik4IDNS\n",
       "tr5ybJBCxNnir7nD/9yR7sD/Psyvw1oq8It0WmL952P9EXDE77qPjqv8AAAAAElFTkSuQmCC\n",
       "\" style=\"display:inline;vertical-align:middle;\" /></a><br>"
      ],
      "text/plain": [
       "<IPython.core.display.HTML object>"
      ]
     },
     "metadata": {},
     "output_type": "display_data"
    }
   ],
   "source": [
    "strong_bound_via_factor_bound = (\n",
    "    Forall((i, j), Forall((x, y), Forall((a_1_to_i, b_1_to_j),\n",
    "                                         Less(Mult(a_1_to_i, x, b_1_to_j), Mult(a_1_to_i, y, b_1_to_j)),\n",
    "                                         domain=RealPos, condition=Less(x, y))),\n",
    "           domain=Natural))"
   ]
  },
  {
   "cell_type": "code",
   "execution_count": 88,
   "metadata": {},
   "outputs": [
    {
     "data": {
      "text/html": [
       "<strong id=\"weak_bound_via_right_factor_bound\"><a class=\"ProveItLink\" href=\"proofs/weak_bound_via_right_factor_bound/thm_proof.ipynb\">weak_bound_via_right_factor_bound</a> (conjecture without proof):<br></strong> <a class=\"ProveItLink\" href=\"../__pv_it/theorems/3eb03eb503c9f27bf1f555791f665b48ef51a8a60/theorem_expr.ipynb\"><img src=\"data:image/png;base64,iVBORw0KGgoAAAANSUhEUgAAATwAAAAXBAMAAABkN+50AAAAMFBMVEX///+IiIgiIiIQEBB2dnbu\n",
       "7u5ERETMzMzc3NwyMjK6urpmZmaYmJiqqqpUVFQAAAB6qHgnAAAAAXRSTlMAQObYZgAAAAlwSFlz\n",
       "AAAOxAAADsQBlSsOGwAABChJREFUSMfFVl1oHFUYPZvd2dnMzk4mNEoxNaQhUGn7sBW1QRAmDy1W\n",
       "2jJpU1CCNXloiKHVlfjgUzOxmhchrOBPQQspakFbdBvUpjbo5qFFKcU1hSK0DxtoC0WR9CEYi4L3\n",
       "fvfu7N35gQor/eDMnblzZu7h+7sX+F8sIxEyL4Z83z9oij0qEbKTMeSgGbZAlT/caLK6nCMQtkQ5\n",
       "khy2DQLf8fvjTZb3gkSEva/oOu6Tw9bqEo7yIA83Wd6CRIRd9u/MLa5PDptZInCVqUqT5eUlIizp\n",
       "1sLc69bJEfYkwWTJ0Nrs1CsKRAZNJt/gRoUcZR8LPN7T80ST5WUdAcz0T/mTWvut1/ewSFEtYmir\n",
       "Sm4gDixAY6S9IJwDDt3Hiv9FHvcQh9GHV936H7rsOZZP5KyDJxrIDUTnKswV4CcQZpCpxkap96M7\n",
       "Nt2lG+fH1Cd9nIZUf61DtFQE9pcx57N+xM/u7+xTSjWrLi9I1CtzsFitXgUh7aZmI7W9dnsctpN6\n",
       "KywvN9LIHDzCr4s4VUv/WYEfgF7+/BL3WAHnafUVorzjB1chan/xC7YhyXwyCULOjq6MLIs6bNsc\n",
       "CMkzD4eaLZ/ZjjavUd5T0O6Rg0o0vY22g3ygNFTiFmKsYrIAfAKB4iJnLz7LX7XPd7IljC5Y1LaZ\n",
       "vMSQIi/ROTWPBPnqZJU2HG13B9dkjiCzimSlIbjaXUoif59awwHmje5AYwkRs0WsY8OSxB7WyLXH\n",
       "9DX+iXe7lf16oM2d0KhV2870BkXeemv4hP4M1aG9qnM/7PMmyWVmn76KFtk00jZB+wdW8dda4Y5b\n",
       "ebDkNIcDbTlIRLqKV9hwSeIY80K2RIuZGNHZ8PYSHjZoKfvbnVDkldN2Add28I3mxe4EX+gCJmjx\n",
       "nbNMXlKUETUPjhEslUq1fP1zKG9UZB+RUx/WyCoR2arxNxu+lrAKPAESonzX6HoTy+YHo6NHWHCf\n",
       "q6i5R9l1iuuzHIuLeRpdXOz3BR7cNhlcvVvgYMcby4Wa987a16/wWAbrMEiEdrOTq9gsQbXlpS9y\n",
       "V+t5OmRtxnbdEbn3xQ5V3gQd2I7O82WS7IfaGg4fQOaPQkNpYJNEhL0ZmgkTU6zSM90Cony8yTPu\n",
       "II6lilkMsi+MFdGrWWNRSiOT3wWKwcwttBS+guagT793UfuNZLXjS3Xfvxx/Wog7JAjbhf08CcoC\n",
       "oqoWftmNiUr2kf6H2IDrl4qYZh4x3n1Pu1Cse+/sp+2uPPTmFl4Gq5LTVzrKmivb8jd+dnsCEadg\n",
       "URn7erht8smqbWS5BUxLKCZTp6J56TLL9tHx+qt0cJ3nwXpdLma34WWvRZ7SIkQHiTc6eXqOSSiN\n",
       "yZWDZX8e+m1wYtlgXv0sbjeckgjZ+hhyqNF7AupuUBuMRSdenj7KbAxnOnijUWcepGUezLL/Amb5\n",
       "Cl7FVHVfAAAAAElFTkSuQmCC\n",
       "\" style=\"display:inline;vertical-align:middle;\" /></a><br>"
      ],
      "text/plain": [
       "<IPython.core.display.HTML object>"
      ]
     },
     "metadata": {},
     "output_type": "display_data"
    }
   ],
   "source": [
    "weak_bound_via_right_factor_bound = (\n",
    "    Forall((a, x, y), LessEq(Mult(a, x), Mult(a, y)),\n",
    "           conditions=[LessEq(x, y), greater_eq(a, zero)], domain=Real))"
   ]
  },
  {
   "cell_type": "code",
   "execution_count": 89,
   "metadata": {},
   "outputs": [
    {
     "data": {
      "text/html": [
       "<strong id=\"weak_bound_via_left_factor_bound\"><a class=\"ProveItLink\" href=\"proofs/weak_bound_via_left_factor_bound/thm_proof.ipynb\">weak_bound_via_left_factor_bound</a> (conjecture without proof):<br></strong> <a class=\"ProveItLink\" href=\"../__pv_it/theorems/347c878956f8ac014f9082be4b9404804d3f6d960/theorem_expr.ipynb\"><img src=\"data:image/png;base64,iVBORw0KGgoAAAANSUhEUgAAATwAAAAXBAMAAABkN+50AAAAMFBMVEX///+IiIgiIiIQEBB2dnbu\n",
       "7u5ERETMzMzc3NwyMjK6urpmZmaYmJiqqqpUVFQAAAB6qHgnAAAAAXRSTlMAQObYZgAAAAlwSFlz\n",
       "AAAOxAAADsQBlSsOGwAABFVJREFUSMfFVl1oHFUU/ja7d2YzMzuZYNRgatiGQKXxYRW1QRQ2D61W\n",
       "Wpm0KbQEm+TBEEOrK/HBp2ZiNS9CWMGfghZS1IJadFvURht089CilNI1BRHahw2khaJIfFhci4Ln\n",
       "3js7OzszCxVWeuDbO3P2m7nfnHvOuRf4XyzpImROE/Jtv6Aldr+LkJ1oQg6aZkmU+c21FqtLZSXC\n",
       "FitGksO2SeJbfn2sxfIOuIiwd3y6jnnksLXbAkf4Io+3WN6yiwi76F0ZA7ZHDptREOAqE6UWy8u4\n",
       "iLC4XVvmfrtOjrBHBQxKhvZWp15eInLR3OQb2ewjR9kHEg/39T3SYnl6VoJ1Xn9ld71XrHdTKSZE\n",
       "LWL0QT95eBms7BEXhubo91mJs8DztzHjf5HHI8Sho9c643k/dJQK5ZMI1sHjDeTsFRgbXk8ZxEu0\n",
       "7j9CYAHJctNV6n//piWulEb/lP9OnRZDYqjWIdpKEj/gsv1bjcWegJ6mR0WqmXV5RFRLZ2B65bm3\n",
       "CP5NVyQUO7EYqe3lG9OwsonXw/JSE43MkcP8dwUna+m/KJHDN+J+jEdM30Ab6VdllN70FpeIDA8h\n",
       "TmFgf3HH90A/DbMSKSu6MnRadViWMRySZxwKNVvu2YYOp1EeaFoRoAJ3jmOMfFomUBqcqFUwm6Pr\n",
       "Ae54DOwWzwUX+RXOXnma/9W51ENTaL0wRdsmebFRn7xYz9wSYiJWJ8piw2G7urgmYwLJCuKlxsWF\n",
       "VsW+2ieMWbjMI58ONBZO1PO4y0uCP2QerrrYTY2cPaBW+SPOjXZiD3fYM0zkgpWd3+ST122OH1ef\n",
       "FC+xKiqPwx5nVoTMGFQraHObhmIJsGkzA2/HGivhZsqBMR5oy4JcxouevH9g5n8BLkDiKEVBL4jJ\n",
       "DEyoNLyxins0MZX19Q745BUVK4eft/Mu8Vw6xic6hxnxzh2LJC8uy0g0D0Lqz9GM5nV8xUoN6LKP\n",
       "1FL4vRpZL2t/e+4JrBYoG76EhJnjCRCT5VsVv+tYM96dnDxMi/tMyZ97IrtOcn1m1uRiHkcvF/td\n",
       "ji9uh6tFTQuw09bVS96sbO2phXtpLYN1yMlsvafqOQ52vbpGkrZCQkTeUc7zUKsZccjaim1qVube\n",
       "p9v98mbEge3IEp8mTu9gVRzah+TvuYbSwBYXEfZayCOIieDekUxLyPJxZk/ZIziayOsYoSe0Ddmr\n",
       "qbH4SiOZ2YmC6OvX0Zb7AiyLQfXWefarkNWJz/37/sXmp4XQIWEn9ga3fb0oITv18k+7MFPS7xu6\n",
       "mwZcvZDHPEVEe+ttdi5fj97pjzpt99CbWn4BVCWfXeoqMttty195eeZIRJyCZWXs6eO2pUbeTOkU\n",
       "sHkXPnO/oMQcpUjZPjld/0sJPr4f1OtSTXYbXvYs8pQWIZqI13pCO8OUC98B2nYH0/ok9NqgY02j\n",
       "qH7cbDeccxGy7ibkUKN3JPy7QW3QVrLN5amTZFM41cUbjd9zJy15Z6b9FxIXB0MGhTbNAAAAAElF\n",
       "TkSuQmCC\n",
       "\" style=\"display:inline;vertical-align:middle;\" /></a><br>"
      ],
      "text/plain": [
       "<IPython.core.display.HTML object>"
      ]
     },
     "metadata": {},
     "output_type": "display_data"
    }
   ],
   "source": [
    "weak_bound_via_left_factor_bound = (\n",
    "    Forall((a, x, y), LessEq(Mult(x, a), Mult(y, a)),\n",
    "           conditions=[LessEq(x, y), greater_eq(a, zero)],\n",
    "           domain=Real))"
   ]
  },
  {
   "cell_type": "code",
   "execution_count": 90,
   "metadata": {},
   "outputs": [
    {
     "data": {
      "text/html": [
       "<strong id=\"weak_bound_via_factor_bound\"><a class=\"ProveItLink\" href=\"proofs/weak_bound_via_factor_bound/thm_proof.ipynb\">weak_bound_via_factor_bound</a> (conjecture without proof):<br></strong> <a class=\"ProveItLink\" href=\"../__pv_it/theorems/e1ba5371b3602e5b7870c644ad2eef5c35f596fe0/theorem_expr.ipynb\"><img src=\"data:image/png;base64,iVBORw0KGgoAAAANSUhEUgAABDAAAAAaBAMAAACzwrFmAAAAMFBMVEX///+IiIgiIiIQEBB2dnbu\n",
       "7u5ERETMzMzc3NwyMjK6urpmZmaYmJiqqqpUVFQAAAB6qHgnAAAAAXRSTlMAQObYZgAAAAlwSFlz\n",
       "AAAOxAAADsQBlSsOGwAACSBJREFUaN7tW3+MHFUd/87tzs7szs7etBStOXNZll5ADpKFoF4M6tVY\n",
       "pZSSKVwrpNK7C3YppeiWI8HESOf80ZCQ1PWPIlGRa6gaY0mnTUmBO2EJ1IBI2BZiRYruJa1GraYk\n",
       "XFoam/P9mtk3M29+bOMtW9Nv8t19+33f73c/O+8z773vmzuAGCmUrjyProtywcriUgOk0jWxftnz\n",
       "6vowxGLabWIltH3IojKFfB29/P7/hxhSg2rXyS4x1m6TnEHVIUYTG49FjX4Bv+l1ITHiojsobzFd\n",
       "AFl3XZwhKkiqC7F2AKd8V7GNoI8zZcR4DtseiyKGNoXfLCEx4qI7J3KN6oLIT2INUUE7Wzb9MQdr\n",
       "R3Bm7TaCsiZVRoyH8NIyFkUMBU8L28VLSVx050SrU10QORdriAp6zTXlB00Ha0dw9jbaCMrbTCkx\n",
       "MEfSjciNBGb8anFXXHTnJMV0QZbfuThDZFDKdBaVZaaLtSM495rtBH2SKiMGfstGbz7xDrUm7oqL\n",
       "7py8zXQhJF2MM0QGZdkEMXIZh7UjOL/QVtBPqTpVyXWl0vXRxEiVSpcPh1QlMdGdkwNM1eNLDW/P\n",
       "juWTCYo1X5i86MQD7iyZne33zooBg+jquD5pskWH9VfzWIM4g5YEONfMgNwMhfWzRf+C5DhvoeoQ\n",
       "4yDAxmhiaFXImCHEiInunDC6w5NWxjuh5obgG/Ezqj9Mg35jv/NhdKd8xuMdMAik5ZMn0+2Gxz1Y\n",
       "AzgFlgQ4h9+E/KkwWPIH5qiVHOerVB1i7AAVUU6mCaqi0Uf9O8LOMWh0F8g1VOUbQPNOqLfVYX98\n",
       "TUPDbncNr8Ab5knnw19MuNbjHjAIhPoouBQp48+Fx3msQZxBSwKcSmM/FMbCYOlzkDKS43yTqkOM\n",
       "jJlG9WiaJriCzleDN8FLzdbob4SbwohBoxeuCD2Ab/bJwxa7jcPlM1S1U9AzDPKr9GbAt+oLAMtA\n",
       "/uK/TXILCe4Y7ETDYLnrU4VnW72o+T58tQZuLzawlKO1kJQkCHrQrabQW/qRqzmsQZzUMnLLCRBn\n",
       "Jd/M4SQ+MhpUMvZCnFoNeodjMnI4twFRhxi64d09bv3rZvhz2tTM1ugfFu49SZc/OkaUR4MtUS+S\n",
       "Iyuf/yHi6CoLl0X0+zMeb32TgBipMRidgq2Lia0Hl/GfAvksohS9GweDX0qcaBgV5nNtq3cZ5M4p\n",
       "i4qtXmxgKXvskJTYhy1mZd/mU4iTWmw6vYmyDvpwEh9UU2yrhuFEHNrbiMnI4XySqnskXnvRs7ge\n",
       "xGeZhp3mRj+bN8KI4YuOleOCVrBX6a9MSWm4Ed0cct+UXCaVlI8Y+rhoKRk14A3MqtZt8R5ehHun\n",
       "1NORCy0N47cmZ2Btq9LX5kAv8qW/NheXkgRRpEVfuSrCySxn4QfVdnCiSeESCMPZ24AXzJiMHM4j\n",
       "VF1irN6JLkM/uYh9DXIoCkf/NMkTI/02+kFS3+QzqL2rCU2eGKt3tkWMTwtawd5p9FMkCQ5hPqpX\n",
       "qUW2xPHEyG/xho5THW3A33WLJ8Y5KNT+mDdjiEHCdrnbJXlzoQxuJXYab1R4YmBDXEoStOY3GOqY\n",
       "74BLhJNZDsUQw4cTMk34OoTh7K2iPUlMRg7nb6m6xPgu+po1vRixptdk8iOOpu/czY2++jn0srQw\n",
       "hrZPsjGnlHli4GgYefFG53u4Zmtwbl7CNsfKe/2mv8UtJcxGni4gYlyKpj/lgIlmjCGOGISh0n3g\n",
       "ZSmrtTKGPqh57sRxOGLbfLlOllby0lp3SRj6be50dHp9OeeWfifhXvAQgxj8Kcma/4HXx8ZHFlqr\n",
       "1td/BGE4mYU7e3AThuMErZn7D4ThLNQzdiBjOE5W8bvEKCBCfZ8gXJu2c+Qw5ijYH+FH/29I6xkD\n",
       "Oap3FqUxvgtHy1cqTpnENVtyq7WNEUMakGx/qyWObR35kFbH65A7SU7X+D0GZqjyWfJlHEvvpyrP\n",
       "fnnHRz0XfMOSb84ijPeb3qV10LPukjD029zP+4x3Xm+lWFX3EoMY/ClJtkGPj2yuwh3+7bkQJ7Mo\n",
       "A96tSjROkI/3nQnFKR+fgWDGUJxXUfU+dh9nZ3T5RyuV+xAxRrL86NOJiQxuYbhg+Ls0G42PutFt\n",
       "PtXnvRTTMMFGNVPP16gjbvn9sA3QrncPIYb2tTGQyQHN5DGLIwZh6B9WgJeleFvd486ZRwIHQ0lO\n",
       "WzJRtZ1ePJ+U+MjiO4HNaThO2G62iTNdi8GZJCPGiVZsoh5iyHNVOvbKMJ0xcocDxJggf17SM5Wq\n",
       "+rtSU1ITvj3gNsvyKV8p2e94VrUmc0Qtvx+2kZOWSqXSkKT0U/4LwjH0Fyu8LHUeAYVc8Efg4fir\n",
       "M/qVdoiRKCW+nWf8xgicqq1a7eBcCbc1onEmyohxOo8hPcTQa7Y8jMeenmP+DtyhdEZfLa8E7NNT\n",
       "3Qt+YoxamUMmDLhNy53gKevOwJa1Oqm9eyHVoI645fMjtvxrAA+QGUPK7TbV6enp5/zEoAx96BkP\n",
       "S2ETU+EFV+9+8OkEz1u0NoiRKCX+gezp860lLFe4WMXE2P7gt8x2cF4WqO78OBNlxDjxA3Ss3hlj\n",
       "1sLLNmLDdnwi8wmL/nkOP/r7di8ykY8+c0+AGClr2x5CjBHWzEyhJmIRfkFvQ8rZQ/o7uLvHRNve\n",
       "AbeF/JgXeqG2h+8AegCPytUVtmDGIAwlz0BO8CwlG5N1rP29J5Z7I1Pz86fiibFhacRDipXvG+2n\n",
       "RNMnZII3bChO+Pz8fFs4j/lW4yDORBkxTufOCvxpn05WGvlLlc2BwwrO53bYEujKzRy+mYz3RIM2\n",
       "D+KmMgQTljKEyPTr15fU4W5i22cwR9JCfqgbe6EXZnsZ34wo6a8+Nrz+WdFSghlKGhbPUlANql0l\n",
       "+MGqgG3diFNC/MUaJMbPs78sh5xitXxgNlcTd5EVgq53adNwmpRweE4qNhyb60j8dDcB7f0Hrnkr\n",
       "FdFBe8Zv4FjalfLjCbggxIMzQIy61mfGEaMOe5aEdG29vgE5muCJ+aLTJGSidY/JbC1H7Od0gxMR\n",
       "8SApQAyOpV0p+56+MIjhwZn0r8TD/3kk2JUXNesCWx6C3cQmvWsnIYaC6pbKJp6lF+V/JIsvR8tK\n",
       "6YZug6X/M6JTvThsHZP/Aq068xJEMYpXAAAAAElFTkSuQmCC\n",
       "\" style=\"display:inline;vertical-align:middle;\" /></a><br>"
      ],
      "text/plain": [
       "<IPython.core.display.HTML object>"
      ]
     },
     "metadata": {},
     "output_type": "display_data"
    }
   ],
   "source": [
    "weak_bound_via_factor_bound = (\n",
    "    Forall((i, j), Forall((x, y), Forall((a_1_to_i, b_1_to_j),\n",
    "                                         LessEq(Mult(a_1_to_i, x, b_1_to_j), Mult(a_1_to_i, y, b_1_to_j)),\n",
    "                                         domain=RealNonNeg, condition=LessEq(x, y))),\n",
    "           domain=Natural))"
   ]
  },
  {
   "cell_type": "code",
   "execution_count": 91,
   "metadata": {},
   "outputs": [
    {
     "data": {
      "text/html": [
       "<strong id=\"reversed_strong_bound_via_right_factor_bound\"><a class=\"ProveItLink\" href=\"proofs/reversed_strong_bound_via_right_factor_bound/thm_proof.ipynb\">reversed_strong_bound_via_right_factor_bound</a> (conjecture without proof):<br></strong> <a class=\"ProveItLink\" href=\"../__pv_it/theorems/d2d179fe044c416aa0763d67e470d30b544023470/theorem_expr.ipynb\"><img src=\"data:image/png;base64,iVBORw0KGgoAAAANSUhEUgAAATwAAAAXBAMAAABkN+50AAAAMFBMVEX///+IiIgiIiIQEBB2dnbu\n",
       "7u5ERETMzMzc3NwyMjK6urpmZmaYmJiqqqpUVFQAAAB6qHgnAAAAAXRSTlMAQObYZgAAAAlwSFlz\n",
       "AAAOxAAADsQBlSsOGwAABBRJREFUSMfNVl+IVFUc/saZM3f2zuzdu7aFtLZsIhT2MkapBMHdQMnQ\n",
       "uKsrGFLqg4stahPbg0/u3ax9CWSCiqCCjWphS2pcsjZdcFZQChGn9aXQh1lwxaCH7WFplYJ+58+9\n",
       "c2bumTSYqB9898w995tzPn7/zgH+FcsoxCxoQr7nBVpiDynE7OMm5EazXYkqf7neYnXtnkTcEmUj\n",
       "OW6rJc7w3++3WN4LCgZ710iOW5svcIwHeV+L5c0oGOySkRy3XEmAq0xVWiwvr2CwpC88Vq4nG+xJ\n",
       "gRwR21qdekUJY9CEMPaMq5NN9qHE42vWPNFieVlPAif6RqNJ1rnw2naKVFW+rtyskeuI/TNgRHoe\n",
       "At8CB+5hx38ij3uIw96EV/zaCj3uFOVT6Kzzp2vkOqJ3FblF4AcInECm2jRKaz/4RUYhfXdRqb6w\n",
       "Q6yoSOwsYyr6/D2u+L/SklGq/TwdkXWiVZmCQ7V6FQJpPzVu3O7Vm0NwvdQbJnl+jO1jFhNh+o9L\n",
       "nAPW8ve93GMFfCd2X4z+MrkQkhWR3eYPrEeSfDICgXbXXBlZijpcN9dvkPfWQiObZjaiI6iXtwHs\n",
       "jnBQSUyvF8dBrVAnD4TkkPiYYCxhpAB8AoniLD0GZp/lnzqnu2kLuweOaNskL7FHk5foHuUROXaL\n",
       "TqeqOHDYtq5AzmSWkKzUBZf9JpIoOqeWsYu80RsF91ZIridmi7iPhjmF7dTI2aPWMt8+uNlGS/d3\n",
       "+MNMtGrXG1utyVvl7PsImCCJzF2yuB92BCOBnLGWsEJ1s7QrwP6EU/wpLNwhJw9Kzlx4BJyfjsh1\n",
       "RKSrOELDRYXj5IVsSWyWw36Lhjfn8IAttnK/2QJNXjntFjDBW0Lmxd4E3+gshiFnSF5SNTPePDj2\n",
       "Y65UCqvs9z15u6L6iN5YGonIVu0/aPhawSnwBEjI8l0WzxuYz703OHiYgvtcRc89yi7rafHL8Rwu\n",
       "5in0qBkKbocKrtUr8VLX0flC6L1T7rXLPJaiDtnKqC03EsFudHMV6xREbQXpC7warby4ZK3DRsuT\n",
       "uff5Zl3eMF3YBg6LlBlP0oJsGYd2qZlaaeARBYO9Lp47tEMtTkxRpWd6JWStBSMn/QEcTxWzGKB/\n",
       "2IuyV1Nj0Uojk98KikHiEJdX+ArMwybrzgU104kv9XP/UvPbwt9fErZiJ0+CsoSsqpkft2G4kn2w\n",
       "734acO1iEWPkHPvtd9jZYs17pz7t5D7OkZr2mZd5VL+43FVWM6m+01F2BxKGW3D8ctRIfJhyCxhT\n",
       "0EylToUF6TLYlsEhbY360+QgdoNr1Gc042XPjLc0g+hG4vVunp4HFbTG5KvBcSdjyzZOzNvk1c+a\n",
       "HXCjCjFb1YQcu1UHEvoNMBzsWe+u8k528UaD/4ll/ptt/wIzTAsYViF1ggAAAABJRU5ErkJggg==\n",
       "\" style=\"display:inline;vertical-align:middle;\" /></a><br>"
      ],
      "text/plain": [
       "<IPython.core.display.HTML object>"
      ]
     },
     "metadata": {},
     "output_type": "display_data"
    }
   ],
   "source": [
    "reversed_strong_bound_via_right_factor_bound = (\n",
    "    Forall((a, x, y), greater(Mult(a, x), Mult(a, y)), \n",
    "           conditions=[Less(x, y), Less(a, zero)], domain=Real))"
   ]
  },
  {
   "cell_type": "code",
   "execution_count": 92,
   "metadata": {},
   "outputs": [
    {
     "data": {
      "text/html": [
       "<strong id=\"reversed_weak_bound_via_right_factor_bound\"><a class=\"ProveItLink\" href=\"proofs/reversed_weak_bound_via_right_factor_bound/thm_proof.ipynb\">reversed_weak_bound_via_right_factor_bound</a> (conjecture without proof):<br></strong> <a class=\"ProveItLink\" href=\"../__pv_it/theorems/710e2ea8e38702c25fb681f94f3c6ba97b528f7d0/theorem_expr.ipynb\"><img src=\"data:image/png;base64,iVBORw0KGgoAAAANSUhEUgAAATwAAAAXBAMAAABkN+50AAAAMFBMVEX///+IiIgiIiIQEBB2dnbu\n",
       "7u5ERETMzMzc3NwyMjK6urpmZmaYmJiqqqpUVFQAAAB6qHgnAAAAAXRSTlMAQObYZgAAAAlwSFlz\n",
       "AAAOxAAADsQBlSsOGwAABBhJREFUSMfFVl1oHFUYPZvdu7OZ3Z1MNEoxNcRQqNSXragtgjARUqy0\n",
       "MmlTUErb5KEhDa2uxAefmonVPIYVVAQVKmohWnQbrEYb6KbQopTSNQVR2ocNNKWCD/EhGIuC3/2Z\n",
       "ndm5s1BhpR+cudlvz849+f7uBf4Xyyho5jUh3/ULWmIPK2j2cRNy1ExbosY/3GixurwjoVuiEkvW\n",
       "baPE9/zv91ss7yWFGHtXEiqNZN3aXYHjPMnDLZa3oBBjl8WTPWs3kHXLlQW4ylS1xfIKCjGWdOV6\n",
       "30CYHGNPCuQozO2tLr2SRGzS/LReGAjIcfahxON9fU+0WF7WkcBM/1TdyTpXXttNmar5jl/n6+QG\n",
       "4uACGJFegMC3wOG72PG/yOMR4jC34xU3eEOPPUf1FARrdsUnNxCda8itAj9CYAaZWtMsbfrgN1nD\n",
       "6Ub/mMYcQ6rfnxBtVYm9FczVGT/gqvs7EYNSmz3sk8NEozoHi3r1GgTSbupkrLZXb43DdlJv6vLy\n",
       "I5o68izilF/+JyXOA5v450M8YkV8J3ZfrSf3dp2siOwv/sBWJCkmkxDI2/GdkaWsw7Zzg5q83FFt\n",
       "CnDPNnR4jfKeArsjAlQW7q3iOPCjd+FsQPaJjwnGGiaLwCeQKC3SY2jxOf5V53w3bWH2wBJjm+Ql\n",
       "9ofkJbqn5pE4Jk6nmjhw2K4uT3oya0hWG5LL/hBFVD+n1rGPotEbGSwaMVvC/bQsKeymQc4eNdb5\n",
       "9t6tdnr1YIc7wcSotp3pjSF5G6zhj4xnRB/aawaPwx5v0pMeYw1tamikbQH2D6zSL37jjlsFUHHm\n",
       "hiNjOUpEuoaXabmkcIKikC2LzXIYMWh5awkPmmIr+5sdCMmrpO0ifub/d+ZAb4JvdA4TkB6Sl1R7\n",
       "8uHBMYKlctmvzj/3F8yqmiPhQy1KRLZm/k3L1wpWkRdAQrbvunjexHLuvdHRY5Tc56vh2hPVdYqr\n",
       "sRyLi3kaPcpDye1QyTV6JQ52vb5c9KN3xr5+hecy2odRItjNbq5ii4LoLS99kQ8eoyAuWVuwzXBk\n",
       "7X0+EJY3IS5sx+f5Nkl6IVvH0X3KE7QGNivE2BuaRyemqNMzvRKyfbzJ0+4QTqRKWQzRL8xVOatp\n",
       "sIRaI1PYCZGDmRW0Fb8Cc7DduHNReTrxZfjcv9z8thB3SQhsJ/byIqhIyK5a+GkXJqrZh/ofoAXX\n",
       "L5UwTcEx336HnSsF0TvzaaerLr35hSOgnvjiSldFeVL9Z+vV7UnE3ILl5WhPH7fNdXLYHqHaAqYV\n",
       "QqZKp8q8dAVsx+h48FU6us+LoFmXb3La8LZnsbe0GNFR4o1uXp5jCqHB5KrFsme110YdyyZF9bNm\n",
       "p+GUgmYbmpC1W7UnEZ79/mIuOs3lGaNkYzjdxQdN2HMvLXNvtv0X/3IO6ZSw/00AAAAASUVORK5C\n",
       "YII=\n",
       "\" style=\"display:inline;vertical-align:middle;\" /></a><br>"
      ],
      "text/plain": [
       "<IPython.core.display.HTML object>"
      ]
     },
     "metadata": {},
     "output_type": "display_data"
    }
   ],
   "source": [
    "reversed_weak_bound_via_right_factor_bound = (\n",
    "    Forall((a, x, y), greater_eq(Mult(a, x), Mult(a, y)),\n",
    "           conditions=[LessEq(x, y), LessEq(a, zero)], domain=Real))"
   ]
  },
  {
   "cell_type": "code",
   "execution_count": 93,
   "metadata": {},
   "outputs": [
    {
     "data": {
      "text/html": [
       "<strong id=\"reversed_strong_bound_via_left_factor_bound\"><a class=\"ProveItLink\" href=\"proofs/reversed_strong_bound_via_left_factor_bound/thm_proof.ipynb\">reversed_strong_bound_via_left_factor_bound</a> (conjecture without proof):<br></strong> <a class=\"ProveItLink\" href=\"../__pv_it/theorems/76ed951688ad3b3041b3e21a213e6cd8a44c622d0/theorem_expr.ipynb\"><img src=\"data:image/png;base64,iVBORw0KGgoAAAANSUhEUgAAATwAAAAXBAMAAABkN+50AAAAMFBMVEX///+IiIgiIiIQEBB2dnbu\n",
       "7u5ERETMzMzc3NwyMjK6urpmZmaYmJiqqqpUVFQAAAB6qHgnAAAAAXRSTlMAQObYZgAAAAlwSFlz\n",
       "AAAOxAAADsQBlSsOGwAABDtJREFUSMfNVl1oHFUU/ja7d2czszuZ1KjB1LCWgtK+bEVtEYWJ0Gql\n",
       "lUmbgqVo0oeGNrS6Eh98aiZW8yKEFVQEFSJqIFo0LVajDbgptFRK6Zq+KO3DBpLSQh/Sh8W1KHju\n",
       "z8zO7szSCit64Js7c+bbud+ec+65F/hXLKUQMrcJ+a4/0BJ7UCFknzYhN5puSZT5w9UWq8vYEmGL\n",
       "FSPJYVsr8SO//7DF8vYqRNj7keSwtTsCR3mSh1osb14hwi5EksOWnhXgKhOlFsvLKURY3BERK9aT\n",
       "I+xxgTQR21tdegWJyKQJYewZK0iOso8lHl237rEWyzNsCda58vrOWq9Y7iZNibJ8WrM1QO6fByv7\n",
       "xMm+cbq+IPE9cOAuZvwn8niEOAz0Wid972duskL15AXrzKka2b6M9KrfU7bgVaqAnyEwiVS5aZbW\n",
       "f3RDZiF5Z1GJPq9DtJUkzuOSc9N7zZ6CkaVP+qX225xH1konYfrLc3cR/D9dlkg6ianI6V67NgLL\n",
       "TrwVJc8JsR0sYNor/ymJPH4Qz4M8YsYq2ki/5kcJMyuKzLAJcQoD+4M7fgLW0zAmkbGiV4ZBWYdl\n",
       "pfsj5L2z0sgmz2Z0uPXyQNOKAM1y5xAGyafXFurMAY+sVzCWp/uN3PEE2G1eCwqFBboMLDzHX3XO\n",
       "9dAUei9M0bZJXmxfQF6sZ5xn5Oh12p3KYsNhO7pc6UlVEC/VJxd6FXs8MYMWLvF6yfrJve6TjQLu\n",
       "8YvglqzDRYWd1MjZI1qVT+9eayd2f4czykQtWPbE2oC8bnPoE2CaJDKrovE47HLHXOnRKmhT3Sxp\n",
       "CbARMwd/xxos4UbGRdqrsTNzAXIZr/jy/oJZ+BU4B4ljFAVjVkyWxn6NhrcXcZ8uprK+24aAvGLS\n",
       "ymOat4TUS9kYn+g0RiE9JC+umhlvHoTM7/tyut/xk1ZmoyH7SF1j4WSjrP/p53w/FmepGr6FhJnn\n",
       "BRCTy7cqrstYSn8wPHyEkvt8KVh7VF3a0+LOtE0u5kn0Kg8lt0Np0bIC7IR15aI/K1t6dvJ+yqWo\n",
       "SbbGb8uczJZ7qj7x5a43lkjSBkiIyLvJs3w1ajlxyNqAzZota+/LrUF5o3RgGzgiSmYqTt9gVRze\n",
       "ozy1pYGHFSLsTXHdFdjUBDHRuHekshJyrbljx50BHEsUDAzQL/RV2aupsQSWRiq3HRT22GEuL/8N\n",
       "mI0t2u2zytOJr4P7/oXmp4XQIWE7djdu+0ZRQnbq+V92YLRkPNB3Lw24cq6ACQqO/u577HShFr0T\n",
       "n3fyGKdJTWb+EM/qVxe7isqT6Dvl15krEXEKDh+OiPgQlVODTSgETP2DEnOTRbBtwyOBb9TvJgfx\n",
       "IrjGoCdgfNmzyFNahGgiXu0J7QwHFQIHaEcNpjUT+myjY0mnqH7RbIMbVwhZdxNy6FTtSgRPgN6g\n",
       "L9h3lHe8izca/E8s9d9M+zfeWwf9HCkOzAAAAABJRU5ErkJggg==\n",
       "\" style=\"display:inline;vertical-align:middle;\" /></a><br>"
      ],
      "text/plain": [
       "<IPython.core.display.HTML object>"
      ]
     },
     "metadata": {},
     "output_type": "display_data"
    }
   ],
   "source": [
    "reversed_strong_bound_via_left_factor_bound = (\n",
    "    Forall((a, x, y), greater(Mult(x, a), Mult(y, a)),\n",
    "           conditions=[Less(x, y), Less(a, zero)], domain=Real))"
   ]
  },
  {
   "cell_type": "code",
   "execution_count": 94,
   "metadata": {},
   "outputs": [
    {
     "data": {
      "text/html": [
       "<strong id=\"reversed_weak_bound_via_left_factor_bound\"><a class=\"ProveItLink\" href=\"proofs/reversed_weak_bound_via_left_factor_bound/thm_proof.ipynb\">reversed_weak_bound_via_left_factor_bound</a> (conjecture without proof):<br></strong> <a class=\"ProveItLink\" href=\"../__pv_it/theorems/c341d1a028aa8ee7588b9e15efd4df5f286e0dda0/theorem_expr.ipynb\"><img src=\"data:image/png;base64,iVBORw0KGgoAAAANSUhEUgAAATwAAAAXBAMAAABkN+50AAAAMFBMVEX///+IiIgiIiIQEBB2dnbu\n",
       "7u5ERETMzMzc3NwyMjK6urpmZmaYmJiqqqpUVFQAAAB6qHgnAAAAAXRSTlMAQObYZgAAAAlwSFlz\n",
       "AAAOxAAADsQBlSsOGwAABD9JREFUSMfFVl1oHFUU/ja7d2czs7uZaNRgalhDodK+rKK2iMJESLXS\n",
       "yqZNQSma5KEhhlZX4oNPzcRqHsMKKoIKFbUQLbotVqMNuCm0KKV0TEEs7cMGkmLBh/iwuBYFz/2Z\n",
       "n92ZhQorPfDN3Tnz7Zxvzj333Av8L5ZSCJndgnzLL2iL3acQso9bkJtNNyWq/OZam9VlLImwxSqR\n",
       "5LBtkvie/36/zfKeV4iwdyWh0kgOW2dB4Aif5LE2y1tSiLAL4sqeNBvIYUuXBbjKhNNmeXmFCIsX\n",
       "5HjHUJAcYY8IpCnNne0uvZJE5KS503p2yCdH2YcSDw0MPNxmeYYlwbrXX9vj94q1XprRRNW9v7Lo\n",
       "kYeXwDw/5gdn6fqsxLfAwVuI+F/k8QxxGOg3T3neT+xkjerJT9bCuku2LiO94fWUHXiFKuAnCMwj\n",
       "VW05S5s/uCFrONnonwwxJ5EYdDtEhyPxIy4VfncZ7HEYOSL6pbZwUJE15xSy3vLcVwH/pssSyULi\n",
       "WKS2V69PwbQSb4blZcZD6sizjONu+R+TKOI7cT/KM2ZsoIP0a16WrvzmkhkeRJzSwP7ijh+AzTTM\n",
       "SGTM6JVh0KzDNNPDIXnpQ6EuwD3b0WU3ygOFFQkqc+cYRsmnu9k7e9on6zXMFOn3Nu54FOwmrwWF\n",
       "0jJdRpaf5o+6F/sohN6PrGjbJC92ICAv1je7iNhhsTtVxYbDdvfY0pOqIe40Ti70Ova7nzBq4hLP\n",
       "c66psXCiUcKdXhH8IetwRWEPNXL2gFbn4e3rncQe7ipMM1ELpjW3KSCvNzv2kfaEeIlZ03ge9toz\n",
       "tvRoNXSoppE0BdhUNg9vxxp1cCNjIz3W1JYFuYqXPXn/IFv6FTgPiaOUBaMsgqUxrtHw1gru1kUo\n",
       "85udCMirJM0ifuHfnXohF+OBzmAa0kPy4iombx6EzJ8H8rrjy8hsM2QfadjUONmo6n97jnGslKka\n",
       "voZEtsgLICaXb11c17Cafm9i4jBN7jNOsPZEdR3narJWlot5DP3KQ5PbpbRoOQF20rx60YvKVp+a\n",
       "v4fmsnkdcjJb66t7jhd7Xl8lSVshITJvJ8/x3UbLi0PWVmzXLFl7nw8F5U2LA9uRRR4mTu9gdRza\n",
       "rzz+0sAWhQh7I+QRxETz3pHKScjlY8+cKIzgaKJkYIT+oW/IXk2NJbA0UvldKIu+vo6O4ldgFnZo\n",
       "N88pTze+DO77F1qfFkKHhF3Y17ztGxUJ2amXft6Nace4d/AuGnD1fAlzlBz97XfYmZKfvZOfdhfU\n",
       "oTez9BJoTXxxsaeiPInB016d2RIRp2DZffcOcNviku+ncmqyOYWAqS9wmJ2sgO2cmPIfJZv//hyo\n",
       "12Va7DZ82bPIU1qEaCJe6wvtDJMKgQN0QQ1ZcyH02mbHqk5Z/azVbjirELLeFuTQqdqWCPZ+d9CX\n",
       "rdbytAmySZzo4Y0m6Lmdlro9Yf8FqpALzoE5JPAAAAAASUVORK5CYII=\n",
       "\" style=\"display:inline;vertical-align:middle;\" /></a><br>"
      ],
      "text/plain": [
       "<IPython.core.display.HTML object>"
      ]
     },
     "metadata": {},
     "output_type": "display_data"
    }
   ],
   "source": [
    "reversed_weak_bound_via_left_factor_bound = (\n",
    "    Forall((a, x, y), greater_eq(Mult(x, a), Mult(y, a)),\n",
    "           conditions=[LessEq(x, y), LessEq(a, zero)], domain=Real))"
   ]
  },
  {
   "cell_type": "code",
   "execution_count": 95,
   "metadata": {},
   "outputs": [
    {
     "data": {
      "text/html": [
       "<strong id=\"mult_neg_any\"><a class=\"ProveItLink\" href=\"proofs/mult_neg_any/thm_proof.ipynb\">mult_neg_any</a> (conjecture without proof):<br></strong> <a class=\"ProveItLink\" href=\"../__pv_it/theorems/43bd53ccd8cc1d554e6db93e300a6e2cc46a1cc40/theorem_expr.ipynb\"><img src=\"data:image/png;base64,iVBORw0KGgoAAAANSUhEUgAAA/cAAAAZBAMAAACGDsOTAAAAMFBMVEX///+IiIgiIiIQEBB2dnbu\n",
       "7u5ERETMzMzc3NwyMjK6urpmZmaYmJiqqqpUVFQAAAB6qHgnAAAAAXRSTlMAQObYZgAAAAlwSFlz\n",
       "AAAOxAAADsQBlSsOGwAAB+5JREFUaN7tWn1sFEUUf+Vue9fbu/ZaUUlam6ZIUBqSSkQbI9oalMhX\n",
       "Fi0gCXAlkYMA6kFNUEnsgdqQkNTGBGKAhDNI+ENNTsNHRNQjUg2C8SgmgJ9t4kf8iKmGBiQ2dd7M\n",
       "7s7M3vbu2htPanjJ276ZezP73vxm3ryZLUAOKq+/Da7T/5Cq6tM5dcqKblXcZEXkz1Iq1MzsdfFr\n",
       "DnC/wBBMXXvgl6QZq6JbpFIgrKrf19xNH6l0TRB6bzGC34eVX2cDvxz/hFLFMvALkxVRqNkWl8wg\n",
       "jxplkzTlavpIpUKIGq6EagQm4B/Dulezga8n8E+xYpjWzVgVLRPkPeiIoarnnW6mj1QqjPao6gi9\n",
       "t5iA/zxuAW3ZwPdhcOgs1sLXU4xV0XFBHsL5nlTV82k300cqFUZDqjpC721O0TngTWfd83GKLygW\n",
       "+B6TVVGjsOMN4nOmMksNF9NHKhW2VQ8q62omZwI+5nxl2RO+M+RPd7HAv2iyqi1fMNxbh8+9ykJo\n",
       "ysX0kUoFETNcCe3ljMjPqK+/Mzv4nvr6yc3FAv+Qyf7vJzkS866WrXkcZhzNdMHwsv5aEuIWCoNa\n",
       "+YncuqUmlhsJq5G3z8V0uaTICWZ4IUbbOgs5I/hHAVZnB1+PQalRLPCtqbk/XioHu0ATPJXbCmcz\n",
       "cXlGdmpXAE7xMZ4OR6TG29J6W05g7EZBDCp6PaW+zJii0AlmeAFGc51TnBH8LvAT0zWWzcfcwCe/\n",
       "dxXtKDqdsXYv6HKwezQF7+Q+K7Bmj9kVE4R05jsD7gA4x39rxrJAt4In5zUAa+TDHaXRxXSppMoJ\n",
       "ZngBRjMdBPccZwS/1PCSs5yXdTCVza6GufBRH7/kWQ1zR4Pfs22jRbxkfb8VDe9hrA+gmxpbphFc\n",
       "Yx+iD9rs33HhaH+5DBnWsWbQYut4iG/L6OKcCu8CXALo4D1iV8u7eWNcbq0Lf7AVXF7AGsEEMpC+\n",
       "AYcCMVt7hb4rNlYnqFKGE8xw4f3MaKach9H6oA1uB2cEPxSW872NP66Db72GbnDwz44u3ysfTYLg\n",
       "q40mtCfjocdl8D1tEEnAxio22/F4dhdoV0E3l1KDS09Yx5rxMgWfz/8AOTPtF3okr6+sExsDJNnS\n",
       "nJB0fwFtZIbwxkzw5dLonaBKGU4ww/n7TaMt5ZxGe/hq3M+ZXu92n5AypKN44xdOennYh7LgqC5F\n",
       "PbFRKL9HlL2LAE7KYT8Shs+J1Mun8B8QHICKhP9ytt7MZuAa9ofoEugVesTgXSc2BrgKL2cznzUC\n",
       "u6W452eEfVVODFlrd4xGRzh8vZwp+AvIOT5QS3uuTrPrz/NfbhXB914kYUCbP9G65RNEYVjsyo5K\n",
       "GoRa7EnlrcmcPGYdvSRd/hz/4rKKcSQNP4fi4rgNQXn3haCRY9xos9d4Hl4qvPkybrnwsV3+m/gt\n",
       "jmMF+TXRk30cWaNF72PC59zdVjlLqpxgho/daKqD4DLvTabgv0DesqgCo7we6taoR+e9K14XwPff\n",
       "Rx6PxDssxAWRE6+sMqpxzSXarZ+m+Roz1M26Jfi4cIHXm+eQ0nCoQRcXDRnM3mRSOvPiFkf3NL7X\n",
       "0WZamOfK4nnsN1gvHchI1jxHHEeSEXvJGD4gb5j2W4RGyYuOU6RtulRS5QQzPE+j7Q650VRHp1ce\n",
       "hzhT8MtJ25eogYu9yQCdYucheZMAPvyE8RkImJ00E0AxcPaYI37j76UobaCHiSOw1FTX27TYW9UJ\n",
       "+SqU1AHJK97EQk8P/2ETY61/TtfN0ritnPhMP7F0kyFvkA3SXkeb+VfwsfEJ2fbKeejcND4x5p8w\n",
       "xHGE2WduJC2myBum/RbeSDPm0dntAH+Ts6TKCWZ4nkZzexskHQKu6b3J/JPuKvNUHNwVjT5BwG8t\n",
       "E8FnCUwt+HoNS/RAxJnu1JrS3fABS3hMdUy6GjU5N7YSsVPRaDS9+aCwSccY8y1KPmavziOPEGP9\n",
       "VGcHjtuykPP2rDOfKw08xG/LyNZi7qXCnci4txyL0Xjlgd5bbIOvDVJTK+K+ZrbyA2cd4GtXYMNi\n",
       "mGBYoh/a5S0fK0N4PIEBmEWeeC1B1UmvAHFH5Me64GmAp+lsJgmf5vj0MMK47YDtud2MLOWy8/OL\n",
       "83uLcxz9SX889xvQuePOSvmbkUoncoGfl9E45NZnM2Qb/FB3UiOwt5u3fZ+CvYztld/ku9qDaBI9\n",
       "KsI6FFvtB1aGvkJpSrCNPHeDl4LfCmUJaIbShKDL6rYvA3Z16J8Xp6daSmtNdh03/5rNh/P4PqAL\n",
       "C8gxKp05xrFz85bcqwhnssun0LXupcKdABVGt5veW8xXfn/cN4si3onXF7fH2b9wiOC/8dnEFKJJ\n",
       "9Kiox1Bsj/ua8GFWrsG6LZX43EH2GQS/Pe0/Trapoygx3Sar7iQOBPbdumu9HSSXWGkgoRf3tThO\n",
       "kcPDA7nHbeUkISK1ZQMI/A9fksPr/cPDeVxK9WXOKsFsuaTACVBhdK2wstaC49+4QnQr0x6KrnNc\n",
       "74obmUH1kB4ssUWwJK0ubUohWx3oSdtrhE2JEpN+QdyjUTlx8ocZqyL5Q0pJXEWfuH26YCObrdIJ\n",
       "RV9N0HuLZfAPlB1sdP2wI4S7GxYQPVY//Kcl0sZm3miY0gFbPUAD0r7hOlOil2NMqoPxSbvbx5/N\n",
       "meBK4Kf0aiMH+EzPTXRKvBwcSSr5JjlOwX/78PizORPcfP5791/7v/3Qr3Cd/juqmpz6B47nd+CT\n",
       "NyS2AAAAAElFTkSuQmCC\n",
       "\" style=\"display:inline;vertical-align:middle;\" /></a><br>"
      ],
      "text/plain": [
       "<IPython.core.display.HTML object>"
      ]
     },
     "metadata": {},
     "output_type": "display_data"
    }
   ],
   "source": [
    "mult_neg_any = \\\n",
    "    Forall((i, j), \n",
    "           Forall((a_1_to_i, b, c_1_to_j), \n",
    "                  Equals(Mult(a_1_to_i, Neg(b), c_1_to_j), \n",
    "                         Neg(Mult(a_1_to_i, b, c_1_to_j))), \n",
    "                  domain=Complex),\n",
    "           domain=Natural)"
   ]
  },
  {
   "cell_type": "code",
   "execution_count": 96,
   "metadata": {},
   "outputs": [
    {
     "data": {
      "text/html": [
       "<strong id=\"mult_neg_any_double\"><a class=\"ProveItLink\" href=\"proofs/mult_neg_any_double/thm_proof.ipynb\">mult_neg_any_double</a> (conjecture without proof):<br></strong> <a class=\"ProveItLink\" href=\"../__pv_it/theorems/dce9c36eb19ca21cc02980a0af21c293adcc6dc60/theorem_expr.ipynb\"><img src=\"data:image/png;base64,iVBORw0KGgoAAAANSUhEUgAAA/cAAAAZBAMAAACGDsOTAAAAMFBMVEX///+IiIgiIiIQEBB2dnbu\n",
       "7u5ERETMzMzc3NwyMjK6urpmZmaYmJiqqqpUVFQAAAB6qHgnAAAAAXRSTlMAQObYZgAAAAlwSFlz\n",
       "AAAOxAAADsQBlSsOGwAAB4dJREFUaN7tWn1sFEUUf+V2e3u3d/0SlaS1aYoEpSGpRLAxoq1BiQjN\n",
       "ogUkAXokchBAPagJKok9/GhISGpjAjFCwhkk/KEmF6MQkcgRKQbBeBQTwM828SN+xFQDAYlNnTcz\n",
       "uzuzd71tYTiBMMnsvX375u1v329n5s3sAfiUsvo74Ea5DktVfdbXJlR0VEleZY2iYhQ4u0y3xkgP\n",
       "c3UVB2okc/WRX5JlVdaoKrdJZ+EKRW7RUT5nKqGrhkrI70fFt4XIL8OfaKZY4L7iVdYoKtFmR1w4\n",
       "jRxqVDmuye9MHXQKVylUQv5+PH+jEPlmCn+KNX7pPazKGlVlsSBvx8eyFDlGR7nOVELfDoqhEvJf\n",
       "xCkgVoj8IA4OXcXq+GaGVVmjqhwQ5CF8+9OKHKOjXGcqoQ+BYqiEfHwHtGzBOX8r+ZlXLPIDvMoa\n",
       "VaVRmPvO4XG6Ks/T8zlTCJ3BVQmVkI85X6hwwnec/PQUi/wzvMoaVVO+8BhaHR53qHK9I58zhdAZ\n",
       "XJVQkflp9fV3FyY/UF8/sblY5H/Aq6wxfpzgyaW7WzaNYlnjaWYKjxEaqCUDXqsQ3srP5NYtNQnf\n",
       "Ozg2rSA5Uw6dwVUJFcnfB7CiMPlmAkqtYpGf24PwbFeyVB72wk3wjD8mb7OQMAe3b9UvABx1oz0V\n",
       "9kqNX8qaMb8buDZHeQWznpZ+xdAZXJVQkfxuMAhQnWXziXzkk+vdRVuGTuVV0uj3gSkPe49n4H3/\n",
       "lQNr9oSjGCckNz9YcBfASfdaM54L5XYI+G4DMBuM2kkQnamHzuCqhIrkl1oaWctprPFk9mY1zIFP\n",
       "+91NnhUwZyz8PR8bK+MlawbskfBeVvXXaf9JsDNzEB9YZ920HSfug/g0+qw/sQvp/+R6pEasGbQ4\n",
       "NgHypIup48nwEcBZgE7n2kF0tYQmBVRhYsdra/3J8eZhx7FhUevkVSoKoTO4OVCZ8SVBRfKjFXK+\n",
       "t+7n1fC9ZpmWS/6JseV7ZWNJEIK18ZT+dDL6pEy+HMFADNpTsK6Kvfe4opoB+kUweadqyHVLjVgz\n",
       "Vhps8t2eECarp13OtRkIprLOMQ7gK5xmnXRcnhWhY8OHaV6vFHQGNweqbXwJUOn2bs8hKSfahzt+\n",
       "FWnNHfYhFBnTNmggMQbjj4mxNh/gcKFhv70CviRSn/sy/wWRQShPGecL+ebNIO+wP0Q7Q5/gEZcD\n",
       "dWJjgIvwWqLwDezSZ+MT53yF0IfsvqsMKiV/HlnHh2up1+os26M89fUmkXztDBkG9Lnj7V0+QRQG\n",
       "F0fZWUkHoBbnpdJqcl8eritBBEtecD+LLOfVLeSsPQu/RpNiBIegrOd0xPKJIG32Vr+jKBVwnMfJ\n",
       "F4445/+SKIgRLSdXU72FI0ptMGrM0RHvdYXQGVyVUCn5L5M7zC/HUd6M9uh0dDilLX1bIN+4nxwe\n",
       "S3bajAuiW1xllVWNvSzVYV+aEmzMMee6hXg4fdrV5y6ZWpG0aIMpdh8S1r50Wlz90omNHtxZjzbT\n",
       "K9ysWXODCX/AGmlVSfLn2WJESW6skWg+KM3F7l1cG5PuHuQuUUcN3fVcADqDqxIqJb+MtHuVglug\n",
       "pcP09ToF6VsE8uEXHJ+BkNlFMwEUwyf2e8ZvvF6K0lq6mNgLi7i5GdMT71Wn5I1PogOSV7yLJ729\n",
       "7oX1vEoafWB2961SBJeNf26A4F5vSRMbPbizHm1mLHWjFBTy7mWP4qNOcV+MuYcsMaIw6/jNpMUk\n",
       "eS5ukCdqtCFR446meMkfJXTHcwHoDK5KqO4n3eV8HRzZFo8/RchvC4nks+SlFoJ9li0GoN2b3NRy\n",
       "6R74hCU73BzTrEZ9UM4L+LtwNB6PZzfsEablBKuyxp2s5J2QFaPIKsSxfrLXgWffLOrdR+saxQYH\n",
       "7h6gIyNnE04l9JzdysuF6pCvn6Mwy5PBZtbzwyc85OsXYO0CGGfZogEd8pSPyiguTWAQZpIjbklQ\n",
       "c+IVIOkZ+VEXOQbwLH2TScKnez47yB8iRojgFtjs/8Dti1z5mOea98uLN6JG2kj63gCfJfd7lGro\n",
       "fuSPGapDfrQnrRPaO/hu3+fgdGOn5zcFL/Yim8SOirAaxTbngMroNyhNisTI8U3QKPltEEpBM5Sm\n",
       "BFum27wY2Nah8WiSrmhpWcWrW1aNFEFj5YYPR/G1wBS6kic+XT4R7dqw0b8/dXBHeb58KoQOqqG6\n",
       "PX8gGZxJGe8iQ0DwziT7C4dI/jtfjM8gm8SOimYCxY5ksAkPXLkSdRsr8biFzDFIfkfWOECmqH0o\n",
       "MdsmW3cYg4C+27atcQbIhXYaCKIGyys7WzxryuHhQf8ILpsgjE+xEcjhlDxyVh5oHxge9r9Bbd5X\n",
       "VjV0UA1V+htXlO5F6w/HV3u2d8VJzKJ2WB4qcUSwJb0uy6WoYw50ba1ZFVyihUm/Ie/xuJwKGhWs\n",
       "yhpVRf6kUpJU4XMHc5TPmUroqqFK5O8O7WnM+2FH2I67aR6xY/rhv22RNuZ5o8Wl3Y55mA5GO4fr\n",
       "uES/bTCpDq6Dkjdq1wJUifyMWW35kM/s8oleyT2PjCSVfJe+HsjPG7VrAepo/r17xf63H/0dbpT/\n",
       "r1RNzPwHcod0AsNDXOUAAAAASUVORK5CYII=\n",
       "\" style=\"display:inline;vertical-align:middle;\" /></a><br>"
      ],
      "text/plain": [
       "<IPython.core.display.HTML object>"
      ]
     },
     "metadata": {},
     "output_type": "display_data"
    }
   ],
   "source": [
    "mult_neg_any_double = \\\n",
    "    Forall((i, j), \n",
    "           Forall((a_1_to_i, b, c_1_to_j), \n",
    "                  Equals(Neg(Mult(a_1_to_i, Neg(b), c_1_to_j)), \n",
    "                         Mult(a_1_to_i, b, c_1_to_j)), \n",
    "                  domain=Complex),\n",
    "           domain=Natural)"
   ]
  },
  {
   "cell_type": "code",
   "execution_count": 97,
   "metadata": {},
   "outputs": [
    {
     "data": {
      "text/html": [
       "<strong id=\"distribute_through_sum\"><a class=\"ProveItLink\" href=\"proofs/distribute_through_sum/thm_proof.ipynb\">distribute_through_sum</a> (conjecture without proof):<br></strong> <a class=\"ProveItLink\" href=\"../__pv_it/theorems/566144a208ada3b46d3dc1ae5bf09454f731277f0/theorem_expr.ipynb\"><img src=\"data:image/png;base64,iVBORw0KGgoAAAANSUhEUgAABOcAAABMBAMAAADU2M68AAAAMFBMVEX///+IiIgiIiIQEBB2dnbu\n",
       "7u5ERETMzMzc3NwyMjK6urpmZmaYmJiqqqpUVFQAAAB6qHgnAAAAAXRSTlMAQObYZgAAAAlwSFlz\n",
       "AAAOxAAADsQBlSsOGwAADYhJREFUeNrtXXtsHEcZ/+59vod9QSlESpsat1ERVpBTSjEVBAc1aquE\n",
       "9ELTlEohdoA6EUHlmiCFh4o3gUaVCon/SVU1hV5BVZFIlWtJiGiDYkOTqo1RzlYrJbQoNoQ/gEAd\n",
       "FFOT4Jh57N7OY/dud29i+bj5pPONZ2e++30zv5vH7v72ADzawOzsVdCmrT4Lz87Oei89sGbkTd1m\n",
       "2uq0zMjIez5IZ+gW06bCTmvSaWsE0o3jP+/qttM2h6R7Bf95Sredtjkk3ffQK9mn207bHJKuJQ8Q\n",
       "Leu20zaHpMsMIeLpptM2p7vXWzs6btNNp21OSXcU4CHddNrmlHR7ITnu4zMST8opp6O+LLRtYpfu\n",
       "viYiXTwfLfr5kPMOKaiaV53ES/qLsYeN7Fd19zUR6bI5f/uITzqkoGpeVXu1gHbP6wBe093XRKSD\n",
       "wWH0Z/3w3db/TLJisTULzQqJi0vyYooZt+y86PU5K3flsAzAzAuhzTNs/A5AUndfM5Hu8/sRqT6S\n",
       "mLb4ZSdt+4JhVQgtDZXEFLM4s/M+mugyU+HiDskhzvsVet+A/zlzRvddk5Hu+2gfkS4hiiTJLpYk\n",
       "X1zMr/NeBcSbOFkCDmUGaUGcEsvhPEjjwS7dFyvQcohcD6RGX+E/H+XBO+j9IP7nxAndd01Gula0\n",
       "qooUQ+Pw6FL8L0l2xSa54nfAEjMVKaTHzYIoJZbDeWYKsZGWQ5UhAr0gOAQ4hl5v9Pf3l3e+oPuu\n",
       "yUiHrdeIn8jD0krSqMyNdMqdhq/fn12Jk20QKdOCOCWUI3mZUySFP4CSbhqv2IQZFs/gT+3KwTfJ\n",
       "8g9tJGK6+5qNdBFj4CAh3XozGS+iZKyH/EFv3YnLJ7Lv4MPh/EmgBUmKLWfmPf4gPtpShB5cDmU/\n",
       "DVGArzGlzLzpt/sgjqfi5GoDVuruazbSpY6NriFc2lGmyaM4meiGHUaiO/EZ+MXvFw7BFpL3Us4s\n",
       "SFJsOSvvNZyXPDZMWIwqPzFyHaQLOEVLGTQvcRURLrmFbJif3FbQ3ddspKOGZ0N6w0k0n7OSyLJ0\n",
       "jm0vW3mVgnw5M/U3YMvRyqtCVqriMHT3UgRifX9/Ufdc85LukdvKkKKn2Z6dbbeSyJ6nb5vzZp5d\n",
       "kC9nptqBKUcrt8z+q+LGcpg21uhbqvRIhyzjlBxyyHNNhf5Y4twMVU1p06RTYNm/647QpPNCurhe\n",
       "x2vzZrGHVJHugm5MbR5te14N6Vp7+KMK517FF/KNeeipySzbroZ0b/AHQwp3lTeojfi5eeip2Wyt\n",
       "SLpx/P6uT9Ilu/mDbyn8WvTAhludVgZfaffjpuIjpGzjq85Ts1l4SCCdV+00R7pwjifEoDqAD6LX\n",
       "AacDLSVffio+9iuDtl/TJ+BA8gmBdF610xzpfscfSyscA/CdJDNsRsp03sZN4Qfd6lsHKj5OKYN2\n",
       "StMnoB0QSOdVO82RTpAgRhTi60I0m+K+JuaoeojbA4261TcP2D4ieVXQ1HlqNjtk8KTzqp1mSRea\n",
       "4o+dVTgSo5k62u5Eus+BH9LZPlqUDcPqPDWbtYwLu1eP2mmWdOFx/thhPEWfX8Qv9GDvSg8qQbFa\n",
       "ugdBnFhSlkn3kwX/8EE620eUAbvyev6cdnTB67UhVipFxzV9Ag4lUwLpqHY6RjlV8ES6AaHYM+j1\n",
       "MyPOj3+pbvhG7fmIVvsiN5r07o9NS6SL/Sffa3gnHfWRQKmMvcvZXU5zq9fkMiK7qG52Jerp5Q5s\n",
       "H9NM8mGxiwLpqHY6Srv2FvT6rTX07D5czKxwIt2fBZ/LkNtPQ7odYsz5u/uG4GWI3fnPqsSj1Zgb\n",
       "MsNofDqXh+WwcZAnHfqyRHLr1/7FI+mIDwijb0fWvlX5ZuSChRjugeW1EJJKmQ8TCF2aPgHtywLp\n",
       "JO00FisQSXN2fBUcsXI3Ml2zQnB5B5oWJ3EXPvIBOsxgwhzH/ZUmnELDlIyDFKLVzKHM+vBfA1xK\n",
       "LCCLsnRHx01o/kffivQgtPWUEI/pYPNxx8HGPoB90LzEpOU8jYdiDiKKqQpCuxJRaFBP2oLYaWbI\n",
       "+iE4aKf34T9Y0pwdTkOPw0iX+K9Mukgf9CK+jNERBJ9Sux1il6GtmHwf53TKOEghsxpUymDS3Qyp\n",
       "GfvaiTnSIW4eKl+GfQVvIx3xQaf5Lst5hEyTHESohtCulJy0PWkLYL1D/EhHtNMpot2KLcaL75PJ\n",
       "hfTse/bRn+ecSBealqfX3hxxNsZO45lJyORpl7qCIdWeG+em1xk8vIikayujgemEZ9IRH+t+A+yV\n",
       "v94ciBDBC0JUqG9Xj+VJr+mCnG0aF0iHtdPr2oj0FJ+wgIkf3WcQSXO2sOoPTqSLi9/4zahvyvDX\n",
       "rMH26Ay0Dp4Rz39IXYqrPZaztyBx1Mfv4/WgRLoCWv/ZJ05qkY74KJ0lhLEOtaFvUpGBCGjETtVC\n",
       "SCq1Lnq7m/WkzafF2wXSYe30Y6Qr7o/iSWd5OUHP62cL6VCfA+kiYuOvxWTJdqbZYQQxcaxU4u5r\n",
       "wesosk7qHbQ5hqolv2RDwqclLsA2kEjXOhRH3hJLeW5V3FXWZOYB7COWX22ehDFPx/RBtMBCRFvX\n",
       "u2ohJJUiN+B9ve1Jm0+LTgqkw9ppPFiZJyySV46akuZsIdYz6EC6XvEq6HbUVRN37f0QR7pNC781\n",
       "UTAfAsCs4jqtBCUNqRa3T9UlENc2rR6SSRc7jy+Q7ckLI10n65c5QHyQczlhe5t058h1HMTomuF8\n",
       "LYSk0j68xGU9afNnmcsC6UiXTpG1EhY8Z/p+mqSS5mwBXsw5kG4gJ+4JKuftxsRPewIe97DMfMBO\n",
       "32JxTSAdPbFWShrepldqePG5WygwFgDhyVS7IXvS5tkSFx1Ilx0sxdDksQPWQ2tue5RKmjNFCI07\n",
       "kO6ceKk2U3Lr0eSWnUdqQzqbttOnRNKlmI3Pnp3fNYe6mhf8Sah48XmsOuk8IZxItPfInrR5ttgV\n",
       "p5FuAguaYQnsKMeN1teppHn7U+btdgLpTkvXLbaa7z94VtDdR2ZnPZzc2rSIWXLSz0necyknF/ys\n",
       "n18zA/KVEe+gESF6QrgVLhT07xjUY1cdSEfGFrIGMkcxSdLMkO5GQ3S5QeF3QmHX4iVq3FC2AzM0\n",
       "dwLbv11I93zLC12MEFowhnT3SmWSOXXw1D1L+Gn8DJ5Fytwt0tQJbp9yId1QenGeFT27ku54g9xX\n",
       "9tIR3dnzxTpcSFfdGNK9p9tQm0+7SZNOW8OR7ri+bVvbXE+v98rbOAPmrxjZ8JQ1X6EqKTvXMRie\n",
       "NxKeSXejdJ4Oi61D8/UxXrJIuoGgutq8jkGOY0W9pJNPDr8FKgXXjmLr4CaLpBsIqqvN6xjkOK7U\n",
       "S7pzReEYFlurFFwfUPvd2+8At0Gguto8j0Fq8kv1km5A5DEWW6sUXM+obQXrcq51FbeBoEp2EBoi\n",
       "BlGX7njB3xfp2sRbmyKgVHCdmlLbCpZI2rpfpYGgSjYKDRGDqEvPztRLurA4tJ8FpYLr6rfy+jdL\n",
       "JG31ZANBdSXdPI9B1KWzCoeAv5gj3q5+GJQKrnmxNTY1ImmrJ52hyjlKoMoZfqC6km5OY/DS3HYZ\n",
       "HIOoS2+drJd0GXE8fgaUCq55sTUoEknbPekI1SFHBVQ5wxdUV9IpjyFRX3MzZXAMGWEyjPTVS7qE\n",
       "uPJcBkoF17zYGpSJpK2edIRKc2w1t3eoHBIRKsmo4bUKVFfSKY6Bvfs7UHPjMqZMH8cg6tL35eol\n",
       "nZPYWqXgmhFbBxJJU6+CSNqWbTtDpTmmmrtXPiFBkdhQaRkMlUUiQSUZ1KtnPTcDlTdGZF4zBvdP\n",
       "c4pBajnqljrx0tzk0iiR6ZMYRF06K7YOSLpfOpMuokhwzYqtg4ikLa+iSNoaPhyh0hxTzR12eABj\n",
       "pwCVlMFQWSQSVJJhevWh56450tWOocqnyTFILWe6JU68NPftZDwDKwZRl/4nqJt0h4qO06sqwTUv\n",
       "tlYlkuamVwmqmWOrub1DZZGIUGlGba9uUKtNrypjoLr04M1Nn5CDZfo0BuHZ1nCxftKJA8FmUCq4\n",
       "5sXW6kTSVk86QbVyhMfgeYLKIJGg0ozqXqtAdSWd6hhKZ+trblIGy/RpDIIuPTNVP+nE7etaUCq4\n",
       "5sXWHkTSxGFtkbTVk45QzZyKmtsHVAaJBJVmVPdaBapUehSuSQxUl+6nuYlD2yspg2X6NAZBl849\n",
       "0DDoI/2FpyhuB6WCa15sDR5E0p0AHkTSVk86QjVz9uT9Q2WRiFBpRnWvVaBKpUfh2sRAzsH4aW7i\n",
       "0PaKyxCZPo1B0KWLj38NRLrT/PYZb7dVCq4B5FWBApF0pSfdodpqbh9QJSRjAbw6Q3WdXlXHANP1\n",
       "NzeR6dMYBF36w6CAdC386InF1ioF115IF0AkbV1Fd4fKqLm9Q5WRjAXw6gxVsoNwTWKARFf9zU1k\n",
       "+jQGXpfOX90NSrqE8OMlW0Gp4BocxNYqRdKuUL2puQWoEhLJrRevfvXcamNgHuUQvLmJTJ/EIMQR\n",
       "LqsgHXyQP7gBlAqu1Zoskm4gqK6mOAZ1T47HMQhxSD/TFIx0wg/SYbG1SsG1UpNF0g0E1dXUxkB0\n",
       "6epi4ONIDaohHfwYtP0f2TXVpX87+E9vzs5eZQdR/SPD2rxZjL13PTzr5xlIG0dG3tQNqK1Oy4yM\n",
       "jMD/AAfJdNT6LEMwAAAAAElFTkSuQmCC\n",
       "\" style=\"display:inline;vertical-align:middle;\" /></a><br>"
      ],
      "text/plain": [
       "<IPython.core.display.HTML object>"
      ]
     },
     "metadata": {},
     "output_type": "display_data"
    }
   ],
   "source": [
    "distribute_through_sum =  \\\n",
    "    Forall((i,j,k),\n",
    "           Forall((a_1_to_i, b_1_to_j, c_1_to_k),\n",
    "                  Equals(\n",
    "                        Mult(a_1_to_i, Add(b_1_to_j), c_1_to_k),\n",
    "                        Add(ExprRange(n,Mult(a_1_to_i, \n",
    "                                             IndexedVar(b, n), \n",
    "                                             c_1_to_k), \n",
    "                                 one, j))).with_wrapping_at(2),\n",
    "                  domain=Complex).with_wrapping(),\n",
    "           domain=Natural)"
   ]
  },
  {
   "cell_type": "code",
   "execution_count": 98,
   "metadata": {},
   "outputs": [
    {
     "data": {
      "text/html": [
       "<strong id=\"distribute_through_abs_sum\"><a class=\"ProveItLink\" href=\"proofs/distribute_through_abs_sum/thm_proof.ipynb\">distribute_through_abs_sum</a> (conjecture without proof):<br></strong> <a class=\"ProveItLink\" href=\"../__pv_it/theorems/72615738d6844463c5eaeb1577c5ead41b82d5e70/theorem_expr.ipynb\"><img src=\"data:image/png;base64,iVBORw0KGgoAAAANSUhEUgAABRMAAABlCAMAAADpooRgAAAAQlBMVEX///+Dg4O+vr7Ozs6/v79a\n",
       "Wlrf39+IiIgiIiIQEBB2dnbu7u5ERETMzMzc3NwyMjK6urpmZmaYmJiqqqpUVFQAAAADa93gAAAA\n",
       "AXRSTlMAQObYZgAAAAlwSFlzAAAOxAAADsQBlSsOGwAAEAFJREFUeNrtXYmWrKgSZGbeDAqKivr/\n",
       "v/pUFDc2larG2xHnTE83NyvFRKNYMwiJjLKf0BEAAID3IFPUFd9x2TM5oEaIAQB4EUbekt1HOFEg\n",
       "ugAAvJMYwYkAAABf5sR1arGViDkAAL+dExs9t1ihCwkAwK/nxHLpKIoCIQcA4NdzIqm4+j9rEXIA\n",
       "AMCJcp5GrBBxAADAiYTk2YicIeIAAIATCWnK8WfBEXEAAMCJhIhu+fFS8IYthC5oS7F8DgDgxCec\n",
       "OHUR2duO+7UZq5quoooKWaPua1wwwsQoAIATH3FiS99EJCXtimJgcErYQOVingbldNxoyfPh1xyz\n",
       "AAAATnzCiQMhSvqWqDRq+nPkxKHOkuuKi6we/ht+yUo8OwAATnzCiaxdNilyJik7mZhLDTAbMnqm\n",
       "XFOZCUc7qg8gTpxIeTPf2DSnqPqJmFAEAHDiI04U+bzCwjNhMDGXmijRaDj038o8oMyEox1fD9uM\n",
       "Y2dRKI6su80mS8wnAgA48Rknkq5cBqbEwFXmUuO41mDYDDTGS3+Z0eFs1yxUWMsNJzYFm8p5p4/g\n",
       "CNpKdBMBAJz4kBMX5OPaxdRnFJv9irq0bmlTB32cFLtCk8cAf/qzbbPEpComtGrszGocSAQAcOLH\n",
       "OJGP/1pIzknZZvxcmo9/hHx8i/mKW49LmceftiPN0j0s2aafSEldj7OIolFA9nAAACdG7ieO84G1\n",
       "HMlLMRhn21IxD42n0v2PvWHLqP50NVIV23ucyxZ/VofLZyshqFpqWTubai/OssYCAAA4MT4n1o1s\n",
       "KZs6ZYrByrzdlZJxZ6AqLXOx+bE3bNVgdyoUjZSU7z3qMuXP6nCx60U7r66IYp6GrCtaMcKbBksq\n",
       "AABO/BQnbrCMdPcTdsvmQMM03q6oMNiZPC7+3A7LvltH8mycT8QwGQDAiT/CifVucpBxQs+lZ0Oe\n",
       "KUbbFRo8Lv48DikTGcdyMgCAE3+ME0uaqxyzO42Wqu/77FQ613b3V6FGxtLtUfvzOGwEYRIrzAAA\n",
       "TvwaJ5ZKULpD1AEA+EE4te2/y4lslJTGNB0AAD/aFXRp23+XEzFdBwBA2mNkcCIAAODEVDhxnVps\n",
       "JdoIAIDfzonrSbkKXUgAAH49J5ZLR1EUaCIAAH49J5IlzSzDxkAAAMCJRG7StAIAAPx2TiR5NiJn\n",
       "aCEAAMCJS36GAip4AACAEweIbvlByuq80GIqM7p22NGi6aigeAYAAPgZTvzv3//CuXLsIjK1Jacz\n",
       "jKC7wFH1yW5RaOZFN1y1LTA6BwAggPv+/vdn+4mkpXqFJTcISuWBOspHO63QzJQ4swQnAgDwgrHz\n",
       "SIizuHLZU9rx40fOZWbXezut0MxlqTqh2BMOAMArOJG18yZFmnFCD8onpjITDnarQnMrWrAhAAAv\n",
       "4kSRz4dZCjnKiO71SOcyrx7p8tlh0Dx+eFVollxiTRsAgEucGDsTw8W8ON088zdOCTbdXo90LvPq\n",
       "kc52+q60QnNZ1iVaHwCAK5wYOxPDzVxhYw1HHT2y1WhWZVqP1PdZKZWW37qiMq+xEPQWAQAI5MTY\n",
       "mRhucuJAhbIgZKfRrMuUHqlBonlnJwRXa9jr8FuwZrwqw/5EAAACOTF2JoabnFg2s+T8RqNZl6mt\n",
       "NQaJ5oPdvOdGKzSPnDkMpBsMoAEACObEyJkYnubZNmg0az1SE2tvy7p6YUIoNAMAcJMTI2dieMaJ\n",
       "Wo90o72s9UgNEs0HfWc0NQAAjzlxl4lhJ/x+Z8wZSY9FXi6jbdugqQEAeMyJm0wMh+WIbCZFmR0X\n",
       "KUTWjOeUZX7Sa/5f/08MTryOtgMlAgDwiBP/UuWbTAwW5PU6uFXZFdpunOZTm6Rj9BMLrIMAABAN\n",
       "3J2D0HOOZZOJwQyhP6+zK7SSkqFfxiKNnTso9wEAEBFlxu9z4pqJoabrWJjTZlnTlQURdKQ/nV2B\n",
       "tGVbCxqLEz1JwRI8tJz6OWqBCgG/HG32gBOXTAyckl5za0PapfPYUdHyXGyyKwycOIyd2zoOJ0r3\n",
       "PiCaoIYVS3ynT3L1q7FvHvj2S9Dd58QlE4PgK7VyTtiyaJGPrFRusyuMnDiwJi1icKLInZ2INsXs\n",
       "hxPn8CIP3f5zwfQ6DM7T42yK6RHgy8jkbU7UmRhIsf02r2aPop+nEdfsChMncmaYhrzBiZmzC8GT\n",
       "lPWbOacKX+uuPrksfnKeYD+2wqlz4Muj55zf5kTNPz3frP8uLCYLUmdTKga26yeOWbwicKJ0Jngg\n",
       "TZL9i5lzeuuwvj5W2256tvWPRKXHeYKcKLFXCvj293DzmBPbalxM5or6xmQ0068dJWU2Laesy9ty\n",
       "eudoF4ETPSdo8jSnKqb7r3vr99Dx68JhStrLc22HT5ydpzjfmaOjCHwXtb0nFtxP7OiSWEER3vRr\n",
       "IcbNMmPHUGdXKDOVWSwCJ9Le+aq0SQ6dZ85hWTDPOUyfc+LZeYqcWGFGEfj2M9c95UT9yq2P8H5Q\n",
       "5s+ucJkTs849dF56kaJjXlHSEJsw+Dwpzqk6Srs2iOccps858ezcwomMUuncHe81CP7SODtiHd5R\n",
       "4LtobT2uq5xYc1LVKo9rfXW8c5UTy74M6lzU4+J04e5ThtgE9rk3nriwcSLvKz78EAGs5TJ9zIk7\n",
       "56WdE0U28GbjyJPpNQj+SjE52my5arINQJXAp8B7GocTBxpqqDq2d3m4c5UTO898Yaa6PzyX06s0\n",
       "/W7Zz7ix4Yx13X1u3F7NnJF24hz1JZRTU5UOPKdNTTV7yolrPchySN3IiRmzVndv8DB8myttj8q3\n",
       "Od5R4Msoskhj508QtkUuKvf0Euaj1k2vX7WS0mzXR9Kdj9WmWSltZ+L5TqnOnoz/PnNOM/3ds32V\n",
       "VB8oz3d9IG26q5nZ1j2XYPiEdm4YO+/iMzeBLYLaYF/JwPiZrrQ9Kj98LeIVBb4MaemLiS9Obl/s\n",
       "J5a9DOLEvJjeOvXH7tBOppfbNzbjD6FH5VngLhBtt7ua6VKKcybSrKd9MKdzRIe+nzbd1yxOP3FT\n",
       "jxMnHuNDHBHUBodKBsbPdCXRbyck8IoCXx88yx/vJ17kROpLIabGzmpaYKmv+SDj1mbslIq+vB3H\n",
       "1VNNjd23iXMmFlJ9Ih8nalNTzZ5y4loPfUjdMHbeTq0YI7gaPAvf9kr6qPz+ophPBL4Ey0A0YU4s\n",
       "fH0HdbKGT699V5FJxN7GiVsb9+4X3zutPe2OgJ84sVymHv2cuJqea/aYE7VzfUjdNJ84f2PW1ghu\n",
       "DJ6Eb+toOSo/8yMAfBmWCcWEOTH3vSfzBo6RGtthcNbY+4l7G3OqID3ndf7F7Gl7BPzEiWOGs6Ih\n",
       "IZy4MT3X7LxG7avk/hPa+XpI3cSJah2YldYIbgw84fPEb3W0HJWfShneUODbYP3LOJH3vqmqUr29\n",
       "vKOsFB0tHZy4sxHmlJJ6zuv8i8VTQa2cyDu2nDz0ceLG9FyzYz/RX8nDXpzV+bJ3ybjuzJiUlDsi\n",
       "uBr4wueOn3akj8pPllANA74O2dfv4sSy9w4bs/O0Vusf1olmFHyOcD/7I+B7TnRVyToeNtTs8Z7t\n",
       "7bBV2DkxPIKxwqePyo8+ISEGfB8WikmXE9vemxvRkDrAz4miKMuyiXG+Vh0Bv86JtrwOppo9zwGx\n",
       "hjknETgxWvjWo/KpJvMA/nBYhqLpcqIMWNwsDh8UrOqZp2eV9yOihHQ6Au7hxJAqRa+ZEcsquZMT\n",
       "vdWNVsn1qPzAs3g/gR9A372LE2mAmh9P8WVKNc/2chQyvfoVUB8AfoQTi3dxIgs5nCwSTFtPU9QZ\n",
       "XA6pp1g/CkoEfgR59S5ObHrk1IuH5ZA6AAALsuxdnNjhCCwAAJ/kxBycCAAA8FZOxNgZAACMnVcw\n",
       "77qzMPwGhEBEtAI+HS+0w71w+eP2tjUW6t2fqDeV0BZPwiUEqcwjqp+I6nWgHW42g3/TWf6y/Yky\n",
       "mBNTVL7/qJB9hPfMf3AEUf1EVK8D7XC3Gfyc+LZzLG3vu6X5ntNUvv+skP3z2vkmaxHVT0T1Bv2g\n",
       "He42g5cTec/exYneNNvLPSd6WLZPeshzPCp+OiWNqEaI6vXj6miHeM3g5cTX5YAg3lxh8z2nmba+\n",
       "TnzZ/KAyf8qmg6hGiOr1tEZoh3jN4OVES5qZhDkx840a1D23aQ4uWOLprw4q88d3EVGNEdXnnIh2\n",
       "uN8MXk60pFRImBN9UqbzPesUzQGq9vGE772uXEL2S/0TUpk/votXohoxrH9YVJ9z4mufbn+UY7WD\n",
       "tRm8nNi9Lc/2UAUewonLV3OAqn084fudK5PyvVPIXj12yajMm97FC1GNGNY/LarPOfEFT3d5K8qx\n",
       "2sHRDF5OtKibJMyJpW8eV92zUu/badFbdNvjCd/vrkZM+QZdmvfz1EBSKvMnjYPgqEYMa3hUrRdK\n",
       "K6rPOTH1p5sYs937myFaOziawceJwpLJP2FO9Greq3ueVZ43WvR23XZt8ly5XbuyGBg171NUmVfa\n",
       "oXm+1w4Nj6o1rIE1NTeQxWCJqi0mH46qyZE5qpawOvC0HZ4+3d52MD3dvuA4Hpo4T7erGXycaNO8\n",
       "T5kTm/wCJ+606B267Sbh+5vK7fy0g3Kj02TWvE9WZf7YPwmPqj2sgTU1NpDZQEfVFpNPR9V0JUdU\n",
       "n/cTv/h0e9vB+HR7guN8aCI83a5m8HFil5HXcWLt2bW9HTtvteiduu0xhO93rszK9y7N+9WDt7bR\n",
       "6qo8mVXm7WO2gKhGDOuFqFoulFpUY42d0326OW3a6w93tHZwNoOPE20ieClzou9LQ92zEhTdq9pb\n",
       "nppYwvdbVxble5fmvTJIS2X++C4GRzViWC9F1XyhxKL6nBNTf7ob424hbzNEawdXM3g40bqGmzQn\n",
       "elae1T3P2x92qvbmhggQvg8Rld+7sijfuzTv1cRAWirzx3cxPKohYf1AVM0Xeh7V0LoGRfUk5e31\n",
       "fb8dfuTp5pyw5kYzXHi67zeDhxOts7xJcyLJmZ8TSxX0naq9pUcTIHwfICp/dFVQ47Xsmvdz7ZNS\n",
       "mT++i+FRDQpr/KhaLvQ8qoF1DYrqeSjs832/HX7o6T5tUw9rhgtP9+1mcHNibWWdtDnR3VGc79mw\n",
       "FyBA5TmW8D2xKN9fqEwKKvOnQd6tqMYLqy+q/gulENUIZ/tSf7qJJ82pt7KR6mpoBjcnFh15JSeS\n",
       "ivk5UTY3GiKa8P04n9J8lBO/ojJ/yj1wJ6oRw+qJasCFUohqhBwQqT/dZf7wCz9SXQ3N4OREx4nt\n",
       "xDmxzIWXE0/ywAEy8xHl5YeBhutbzluZVFXmb0Q1Ylg9UfVeKNWo3vOf7NNNCHXuvfRXNlZdDc3g\n",
       "5MTMfiAkcU4ktPBzYpLK92kjQGUeUf1EVG+wUtrtUMlkm8HFicxB5alzIunso2ct3i4o3sdLCFKZ\n",
       "R1Q/EdXrSLgdqrrM020Gap8JrV3HZZLnRFJBjgIAkkRDm1eKa5bOhOjf5cQJXWj50hUu8fABABBt\n",
       "OsJKiVlvnt60lT+vipxQh5YDAAB8EYqJpLX8/wujTYYezijgAAAAAElFTkSuQmCC\n",
       "\" style=\"display:inline;vertical-align:middle;\" /></a><br>"
      ],
      "text/plain": [
       "<IPython.core.display.HTML object>"
      ]
     },
     "metadata": {},
     "output_type": "display_data"
    }
   ],
   "source": [
    "distribute_through_abs_sum =  \\\n",
    "    Forall((i,j,k),\n",
    "           Forall((a_1_to_i, c_1_to_k), \n",
    "                  Forall(b_1_to_j,\n",
    "                         Equals(\n",
    "                            Mult(a_1_to_i, Abs(Add(b_1_to_j)), c_1_to_k),\n",
    "                            Abs(Add(ExprRange(n, Mult(a_1_to_i, IndexedVar(b, n), c_1_to_k), \n",
    "                                              one, j)))).with_wrapping_at(2),\n",
    "                         domain=Complex).with_wrapping(),\n",
    "                  domain=RealNonNeg).with_wrapping(),\n",
    "           domain=Natural)"
   ]
  },
  {
   "cell_type": "code",
   "execution_count": 99,
   "metadata": {},
   "outputs": [
    {
     "data": {
      "text/html": [
       "<strong id=\"distribute_through_subtract\"><a class=\"ProveItLink\" href=\"proofs/distribute_through_subtract/thm_proof.ipynb\">distribute_through_subtract</a> (conjecture without proof):<br></strong> <a class=\"ProveItLink\" href=\"../__pv_it/theorems/22ad0e3d9df21a516da25d7e458f8ec34dc54e1e0/theorem_expr.ipynb\"><img src=\"data:image/png;base64,iVBORw0KGgoAAAANSUhEUgAABBAAAAAzBAMAAADcPOZIAAAAMFBMVEX///+IiIgiIiIQEBB2dnbu\n",
       "7u5ERETMzMzc3NwyMjK6urpmZmaYmJiqqqpUVFQAAAB6qHgnAAAAAXRSTlMAQObYZgAAAAlwSFlz\n",
       "AAAOxAAADsQBlSsOGwAAC+dJREFUeNrtXXtsHEcZ/+6xt/f2hUYhkos53FoVNYVLlYJBtDgRD6Uh\n",
       "6YbGoRVNbANxS1KSS1IpPFR8ARpVQkpPSI4QSamjNuofbeWLaVWaBnJVm4oQqlzcSk1oIGdIi4AC\n",
       "LooTk9SYeexjZnbvdu+8tvcif9Lmvp2d+ebzzW9mvpmd3wXATrq6umBerm5x1MafmLoydx6GsvOt\n",
       "NIMibaSfW6cu2me+cS49fXe+sWZUtiuq8qq3gZDs5O9z7pkOV3ziWiU57wMhkW4MIBznb30l90x/\n",
       "qOKTA25VcaABhoTVDQGEcAd//4aLXaGz4iNf0ZhDv5Hmn6272cHEqxViDHlW/MVGAII/xX/DefdM\n",
       "313l2YChRgrCs30ObOuFBhpgbrilEYDwMn8bc7GHHany7IShNomT0aQD23qhEw0wN+xrBCAs5W8D\n",
       "LprOVHkWUHR1SOEfRccd2NYLBRTvA2Eo530g+IRv/YyLI2K1WSZijDzLhUfBtAPjyy0MeVYiZe8D\n",
       "wV/m75/F8eP5xXzgAHuW7XIQdgrFYihWlBa8/cAqPghpLsIG1NpGvb9Y8E/+axttsV+56IWC5QYI\n",
       "Esa9D4R+YVtxP7oez4X4cSLaAVvtR2Ba7C6u08egJTXM9/dEBk4CxPXhQvqv0s3tBnQPSBO2qwZa\n",
       "KKsZGm7F8nGPAkF6z/tA+ItwfxNy+7MQS4PE7C/cWYRhkD7/r6pgoMVgmTHYoH79Wzip8DuXD6JM\n",
       "76BOkmG6SyDF1nZOgSV2lZFCADewhjwsX/c+EG4T7j+DevEY+Dth2wdo98Qd7ijA9ahz43ZGfdFs\n",
       "hGSixdT+SsK4QdxlX6ArSdJjUbuBghpwCYA8puWL5aGpk60NlbhgWxkuRG6JIa/LyZzXgSC/bwZC\n",
       "oAe6URuO0G6N1+ufBOkyNA2GL+GUdotAA2dSi4GeJ0DulpjjfRnZiWa0fAg9QyW2tushOmlXGS1E\n",
       "pq1GGBG6i14Hgm/CPDV0p/AkrjaNOsXFxyCu0Lap+MeSYgfK3NQA0QkQ3r6+AL4MswGPdwSOKkxt\n",
       "MAmxcbvKSCGpuaQZ8naMAIGy14EQEvtTL2rREvwtkWOBMAnJ/Gm7dR0p9lDKCDNDKZA2JTPQyefb\n",
       "AiH0tcR79DbNouiCBcIlHJPYVEYKxfAC1TDkYQmlvQ6EgPg1rsYNmGiPcU3TCyOFAvM+lU7UZALv\n",
       "zhvtjoqF1xvthxZ2iUtfy0SFteBvYKhI15ZUksVQgavtXdgMbGWkHqEyUqgrWGANeViCYxQIZGA4\n",
       "WxUISRILz/rmSLe4z78dfeejX9rzQa5pNiz8zmgWwhuFibpdU2h7kWIhYytBRkuPQ6m3XhNq2LDs\n",
       "KAqd/IN6ufNHgK9tJfoa2MrawVwZKYQXqIYhD0v8MgXCYfzxs6pAiOG/J5Kb9W2ElBiK6fsKI2Le\n",
       "n8DDDpD1VUO/oUKeFej6oZA2Uk9lTTmzIU+K/B4Fwg/wvltPVSDIeNTYPesenhP38OKFSk0Tvnfn\n",
       "c/YGz8QM3fJ9UDAv3QrmF1Ij9VS2A6q/2fLOjtIVCoQImu+CpeoxAn6dumr2F7im84r3qZ8/fmyZ\n",
       "EE5MTTlYsm9YzIRIVgOcP4WPRIndQqzNWWUtNv3LO/I/CoQ4mssiNsHi79FHftYd/LCprda52A+s\n",
       "Ginx0uFKGKlZ9rtlaMblorpquLm1dakNEAKtrdfNfgB8h2kjN5xyz3rlN1WLXbAeeTLjjqFZkE+r\n",
       "QHgeAEXBEkVv1hIIsSyEZv/V+lEFGlZizY3jfKsKhD0QRsFgMMUE0+H22+HlsgEElGHPNMLSvWbN\n",
       "6ikW3+ZRvav+G+ZlNuQ6FQghJcgtd7e9swn+FFRiCrOhtBFun0ZN5y0081O5pW9Q2pJLfHMeCHMD\n",
       "hESKixVjaKqAs6lCkJka4NS0YsVPWWjmpy+iaSm4BuCVq2FqaCTRpgbIvwQQbSGhdHMJrsXKm3/Y\n",
       "xQEhEkczh/TlhVoYzKhMIK4n+pp3/QrIS54y2bFoUbS9ixbFvJ9B08jZ73u+xzBP7jBXkQNv0kZy\n",
       "jpLmWsJgyevRgkVYNQCwpgm3RiyRp8uqN4Prn2CBEDyDHn8l16/9dYxqiJG4ONnzKAJGalzG7418\n",
       "bT51J8jQmKhATSNLw9On2eWjKXLFBBc3SS6uiZnK4kU3oyl6CXKbBoQfoW77ENk96woWokUCBCgs\n",
       "YoEQxplfxLtlu0n3xWr01GHeIHkewloxlEKNGF6f9mFYhYrxPN2ex9ozzVxEQtIABSRP45tjx6pu\n",
       "KL0BrpJcuOGsHiqLnsdMZZkhN0WvTG5XLXStevFyRQNCEn/hvXT5W4zv7ev7NgLC2ggLBPgr4HMh\n",
       "LSCPECBgNQDdvEGcqEoTGRqSnUmMv0A2Vn6wDVQtI/HbcjgNfx7v6+sr7XySeXJuUGysvLskF37l\n",
       "Xw+VRc8zYOHqjMg+O7erFcK7yBFxcpYuaEAgd+NZ2oByJx0Roqc4IOAsE3B/F/gVTQ2T7XTGIE5M\n",
       "0N3YHWSK9A8GsNUmCJSAAAFrOZk/ZoDT4icAHsA3OFiUtCf9YjfDBBc3SS68H/VQWfQ8JyxcnRGZ\n",
       "tHO7WiH8siZeMAVpLBAS+YLUSd6UkDH8d2D0bv08Qod8+RgGAspIVNiE1bX6Pzgx8RbSwpkVgM35\n",
       "s0OAHvkVVEubroUGmTI07eG7ge5YhVfmjBOmTaLLAXCX5MJJPVQWI49IZZkpN01eDSm1FLpFvVhJ\n",
       "THIjwmhOvpW0/m7UieWP5ughBA4IT722sIiBgDISNZbF6o6c3IH/URPvxWmHnligoI/EkW8hbJXk\n",
       "QykCBFV7nmgdakGa9gp+p4frWLt3sx4Z+MXh9Qy4SnLhpR4qi5FHpLLMlJsmr5bXVGi/enFh7QQL\n",
       "BAINkkn6Yt8mLiN/QglPDQmqfsGnq6BpUrqkpSXgLrgffdKxq03TgkpKSwP96d8xBvr6+KAgKR5V\n",
       "exZcJbnwBJd6qCxGHpHKYu2mOcWBm2uOgFSu6JXodnU3V4NBhNe/5jERCAfJmxKTcECQr0Ff3UFq\n",
       "fuo/mkpK049eRdMOwmgU9ekoGbu2LS2p2mNTaVUjoxbVLHtfXBwGNTy7RHLhCC51UVloHhlYTozh\n",
       "qslNixQHbna+jo/nVvDK5HZ1N4+D6TcnINAjAqFo/abEfGaxaKWatCI8vRB/RUbDVtJ8f7QMfWUx\n",
       "MLoJXCW5cASXuqgsOA89OCVSWSzdpClrV79di5tyaRiSPVyN9xioI27bWGTcfB3oxcojKREIFWTm\n",
       "D68m/mGdbkFwqY/kQskqIslFI7gYrBRqkz51QmXBedTmIpyYn5KD69lKbtKUAgzrKdXdpMdwUSNi\n",
       "4pRRo7wgbeTGbttYZNzsVy9WvE9wgV9aAyFQM8mFpAVEkotGcGFYKSPGUydUFpxHnZwyJlfNbtKU\n",
       "y/BIFtjDrpXdJHlQzN+f5WpUeRc6A8fGIuPm4+rFyp/B80AYGrScGtwiuXAEl7qoLDgPrPk1sJwY\n",
       "3VWTm2rKMdpsjt1Enf4avkamMuK2jUXGzREwn/dsABKsCPFecJPkwhNc6qKykDwFvFQUqSxWbmop\n",
       "1Zd8Zi5OGbbwNbJAIG7bLCINN181N3m8AWjx4rJBXfy4RHLhCS7OqCzEmmES55GUlWCmsli6qabI\n",
       "bbW4CbFy9H3eKwYI1G3BomFWdFNbgLO9rex9IIg/nbMd3CS58AQXZ1QWGk4UuDxkqShSWSzdVFN2\n",
       "K7W4iTxrnuC9YoBA3RYt6mZFN280t2cj/HQOWt7x4M26S3IxS11UFtxMIpWlipvhQjhXm5tBYTkg\n",
       "BiSOLGI3w2l6saJOO94GQoQfcPl3JtMnudgCwZFJ8hJNpLJUdhN27/y+UoubK+DOUnUgOLKI3bR4\n",
       "a6e9h/A2EGThBzfvA1dJLiapi8riK1tRWSq6CZ+bmqrJzY+IJz3DKy6kareI3cRsNYGx5i81AhBg\n",
       "EX+7Dlwlubg0bBWtqCzuuXlWOMkzDTfZjsQE4A0ABOFHuTHBxU2Sixvyc3wqwzzMeNFNX45e7MyQ\n",
       "dw6Ej83lf9zxKHhdDj0HjSAV3PwuDS66uhbZm5j/jzuuXpHUI3Zbpy7+H51q/AG7hD2kAAAAAElF\n",
       "TkSuQmCC\n",
       "\" style=\"display:inline;vertical-align:middle;\" /></a><br>"
      ],
      "text/plain": [
       "<IPython.core.display.HTML object>"
      ]
     },
     "metadata": {},
     "output_type": "display_data"
    }
   ],
   "source": [
    "distribute_through_subtract =  \\\n",
    "    Forall((i,j),\n",
    "           Forall((a_1_to_i, x, y, b_1_to_j),\n",
    "                  Equals(\n",
    "                        Mult(a_1_to_i, subtract(x, y), b_1_to_j),\n",
    "                        subtract(Mult(a_1_to_i, x, b_1_to_j),\n",
    "                                 Mult(a_1_to_i, y, b_1_to_j)))\\\n",
    "                  .with_wrapping_at(2), \n",
    "                  domain=Complex),\n",
    "           domain=Natural)"
   ]
  },
  {
   "cell_type": "code",
   "execution_count": 100,
   "metadata": {},
   "outputs": [
    {
     "data": {
      "text/html": [
       "<strong id=\"distribute_through_summation\"><a class=\"ProveItLink\" href=\"proofs/distribute_through_summation/thm_proof.ipynb\">distribute_through_summation</a> (conjecture without proof):<br></strong> <a class=\"ProveItLink\" href=\"../__pv_it/theorems/eb53f8ab73f825f66a19f4707314f76e4883679a0/theorem_expr.ipynb\"><img src=\"data:image/png;base64,iVBORw0KGgoAAAANSUhEUgAABGUAAAB+CAMAAAC6alwnAAAARVBMVEX///+Dg4Ourq5RUVGfn5+T\n",
       "k5POzs6/v7+IiIgiIiIQEBB2dnbu7u5ERETMzMzc3NwyMjK6urpmZmaYmJiqqqpUVFQAAAABJqYR\n",
       "AAAAAXRSTlMAQObYZgAAAAlwSFlzAAAOxAAADsQBlSsOGwAAHWRJREFUeNrtfYmWraqypa/uq7p0\n",
       "SiP4/59aNiCNdKmu3C6TGOPk2AcjgAXEJAia6Lo/RApCSLtGjyYwd5JszdDoEzRMK6nLGTGe/tSa\n",
       "+StoHFsbfB9RSMIkuCn1k1AGjzPxq/mIDE79CZShP0z/9YqU+RvKfCVhdZwuZlKPQplb1EAi8rdR\n",
       "BsifpX+OOCjzENxDxgAdsMvfUOY7CUX7bXwdyhCUG6AryljAlS8czBK7dh3GxE0nPYLJlst8q2r5\n",
       "ozwoti9QS38RMfXC5W8o853Eozr8PpRRWXNl/Sj2RRl7nyeYMM+CHZD005nItI64VvZRnpHC6hbw\n",
       "DRTHFWV2/oYyX0qq/wsoM0y8iDKDMWZo/75uFq5+Isl74qdPmXXTdHFNdZQf87g1iM7UTwmXv6HM\n",
       "lxKNjaHXoQzLe16YN8PiF+6XIs9+JWG6m3Q0d8lFc/koHzjJQA9n2vtIkc4APRld/hTK9KQp8rOp\n",
       "h+9HGZk3ZTTKmDH8Ql+w9BZM8JCOM64XDK+VHZNnLlxwBnyU6DsqovwplBn6psfPpmECr0cZVlAU\n",
       "rWtomVEhwi9cMNnfNCoElQjSmQJAJUy43Leqxo/Iu3ubNPTSUNUNOMqfXDGNuCnyw40Z9HaUiQFp\n",
       "DGXE8Fbz27MdnNbQ6WSaNZ3EGzr3rYY8+cEMMMe2OvjaZ4jhAZyM7IgyAjo0iabIz7amI965d6GM\n",
       "KnkW2D6J6j8fsScyXXDvptYRU92j+XQawnS5NhACix+EHYaH/kYwVoqcGF4m76U8XbREh8Z3KigO\n",
       "R2o0f8b7K1m7ffBomti7UYZMpWW7aYDFjMGrC2dgR5lYWrTGcb4gEWAAxPbTloPNUaGzJR4ADXFX\n",
       "7Q/pYm2ACXcDAOHicv8mVvvh5+Bq5P1Otf9Exh7pHb8M7mL8uT0mwhBvuvxcUs7k9kaUGYtbsQZl\n",
       "JNj/rSIrfVW5+o/zeUDA13UCRctfopJCJ0vkOIMyrjdWp8OFn6/NJEMc2b8tHnR6GCpFcvJ2Kmht\n",
       "GXIE0p6EkMyLtgxluN13fTLxCb8aZfriViyz/xi1rY4i6oQqVSzO5yqO0WWxJG7HAaNCZ0sMHaru\n",
       "iqlXh/QVA8TaTAeU2b+N5BTK2LwJEDL4/WsdjgPSnpfpuMuf9stA1jDm6Usm9GaUIVPRzN9RBkut\n",
       "n8MEQOiEiKXFaxzl6yOukbWhYVLodInhkZ/e8XMgcEhfqqPvYOz6b7Jzvhk7qMo5c5QXdkN9dBoD\n",
       "HN1IAnDlrrcMf9KW4W0r+/HUhzPUq1BmnHA1ylCkRzeApAOBeyOWFqMEn6MI+30HjBZbPyl0ukQZ\n",
       "CDk7x9Q9O6TT1ay921n+HWWI8dY537phvcO/f9r/EUk6yhPS4XAHfWv944IW9EzQjkgoPP4UytD2\n",
       "dMfzCYR6+CqUUROvRplOabztx237lDr72jqNSyCyORrZWTlIHGX2IzlMmXk4VuD5EsO5fXAO4k3H\n",
       "dKKwuWqw2zJQvwrifDN1M586uIPZ/i/7j6O83VCH7s8hqueheURwjyYoqM+fPPs7NCV+PA3hLtOr\n",
       "UAaVfwyLOjqE6gbpvMCj09AyUZecJJHXbFyUGZ3fJlWqwPMlHg7Dwl0P/ZrBUD+tx0SGmr8cyKU0\n",
       "+ilGESbTlTRYw3LcuzcMjraK5k/aMk2Hv8ExE/hH34QyFW6ZCMosDbDeW3aUXqfRZfc125padvQv\n",
       "BTqKv6wglukbjjsixAo8X2K4YjL3DWdE89cnh3uLFmXCdSbth2HYbKWqna8j0/4jxA9vPRr+dlvy\n",
       "m4kFi4o3oYyc+hMoM+v65nHclJ5gN63ruUmL/dF8lHrPLXjeX0RHAga9gICRAi+WePSo9msrwp6w\n",
       "WPpeMcwmvMkScLAJzSOKpOIZqhgTUAavftaFO39DmW8mERzBfxPKiLLzN4Iyg9CKuin9+h7Lnrbd\n",
       "RNjSEPX/uHz+7ZreW3wosBykpbuiBwVeLLE/tNl2LGUEgsbSY866jB+vpt0jTMYt0/+wR3f+hjLf\n",
       "TGMw378JZVjF8yiZLQqzgHEywUSrUCxjN03xFMqszgih53v/DN2+YrpQYgw6aAIbKPidfmTcLJjA\n",
       "DzvU8jeU+WYaghMzb0IZVHGQLIkyA0Db0RNnE4TN6wYYpFnocNN8h1Co+XRSGlEc+2Iv8FKJ4oHu\n",
       "UAHE5WuoDWW+mUgQtOBNKDNVPMLEivGYxh+nARm4YPtjqdzaKneWOL7yQg+AEDWU+Waa/An/RShD\n",
       "/1XUF6mC7ZvczyC3lthejmv0RIK+8+JFKCMnWFfKTbHlGjX6Y9BRHcCN+ZtML0IZMLG6Uu6JLdeo\n",
       "0d+iHwRwU/5274tQBk/9L5TSqNGfhpoqwBD+WuFFKKPqVkENZRo1+jDKYH9d8SKU6etehD2W8u5Q\n",
       "k40a/QOUgS9FGXYWZV4darJRo99HGeAfy3sRysAJnyvl1aEmGzX6fZQZ/a2oF6EMOosyrw412ahR\n",
       "Q5k7UQacLOXFoSYbNfoHKCNfjDLj2VLeG2qyUaOGMjeizHQeZd4barJRo3+AMvy5KPPf6f9dQ5n/\n",
       "exZlPhtq8oMEeqHAb73o0KhRJWD817+5/D9vQpn/PW0x2VCT30ADUP3ypB7p1fKacN9Weo0ayvzW\n",
       "ikmeLsUJNfl8EkJfq8fb21hjQ5lGz0KZwUeZsaHMSjbUJMEjOIZIjafGKMqJwXhc1kQTIxTwAeN+\n",
       "IuOwmV/tLGGjhjJfgDJ7qEkCaYQlnhoFmRgn5JHQBNHECGk+oY8M2jc4JZUNXxo1lPkalNlDTQph\n",
       "4ny4Udn21GJYNitvn8xbAIIMQZw3nVjOUAub9/j4vpM2krHtijVqKPM1KLOHmkRcx/nww8CZ1HJY\n",
       "Nm7jhLhpYY4msSrDFW1MpCLWryS7YeAt0mKjhjLfgzJmwbN87UeytJHFBJtaCstmOSXenSl7iV6c\n",
       "N2p8KoU4b1qYUboGSRmsr1d7f9u7nI0aynwTynRocavw0aLMGmzNSS2EZds5twfA1zS2SODOj/O2\n",
       "JxYyNHwTlZtLxi67KF5DGOB2XqZRQ5lvQhkuRgnwaC2PNdiak1oIy2Y518DxaxoV4wgc68hPLGSo\n",
       "+YZJ6X6jNiI9wfPySbRlU6OGMl+FMg5FwsD9ICwbgdv/ykiOJ+K8AUwhoRpbFr9Me7i4UUOZb0eZ\n",
       "WBi4n4Rl6/rVUnHSLsV5m9dGeGwvUzRqKPMuW8Y0UXVqbdo14UaNGsqcpovHP8R/aF0DtKNsjRp9\n",
       "FGXIf/7j/i990HT5FFuGlVwe4okrF7lE5GrGz++TWBr+aYcJCDtVIwpLYm3FdA/KiNILEOKRT0TI\n",
       "Fi3z3xF63JGlAZ6qEi6NooYyt6CMLI2Y8ZmXtxvKNJTxhum58YDGD6HMU+IRGf0/WZ97UIaUmnlA\n",
       "zzxq21CmoYxH/al1PS9MwqdR5inxiIz+n6zPPSijSpYKe+hrLg1lGsoE8+WpSqn+MyjzlHhERv9P\n",
       "1ucWlBmmgutXTg+9NdRQpqGMT+f8hzSvRuf9Mg+JR7Tr/7n63IIyrGTKwKc+TNdQpqFMiBenliY9\n",
       "/AzKPCQe0a7/5+pzB8rIkikzPNWUaSjTUOaAF/icGoKPoMxD4hFZ/T9VnztQhsFrq9Z/jzJs2hpv\n",
       "aT80PfEox8em7n9Y3jNRZkSnxHr0GZR5Rjwiq/+n6nMDygzF8JTPPfemUYZPDlASjqfpj7wLAX57\n",
       "uc/B01GGTqfaRObELqCMF4+IFCeF3FMD+A6UCeIjESGscgMMgKCfQRlVmvgffD3BrJjwJNxkouBr\n",
       "gUVgvPeXXB/k6VHq12Y+1dExAzA+HGU6KE6JTewjKOPFI/IfRaJQLB9G5Cz74ZBmCH7XCMOpNJbh\n",
       "Rk48Jj8+Uj/uT0/ydXObIhpDmaqob5moT2QqrYeedIgx5ZdhgW9JvfXeFlbrAzxb12nFYGm9YuJi\n",
       "eYcM7Cn+h6KMOOdpVVPajvifC/GYIvGITGixefQuM4Y4tGOcIewJxOsztIaCXx9bY6mnE9GftmUy\n",
       "KDMWc1Ds+ShDJ3/Mk7cumZDk+6LaGLuZHpyuLqkOGYzi4SgDzk2KfMIXUSZxw8DGIzLdZp5gk/MH\n",
       "EVkJJRhEuDSsztBbjjj1kco8yzLnNqRtiusrpr7oKUXq+SgzN07f/QHibm+hSFqG/XJ5Abg89Tz4\n",
       "dO4dxQl9ZMVk4xHx7QF+u+aUg+QUWFAgYL2SHGPAQgg4/+dY7GPfUYCzGUb1f6/PlkdoSmD0AZQh\n",
       "U3HlPuEvQJnZ4v0LHl/s9JZkx7QM++XyzFw4PhtlhpP2W59Gp0soY+IRzeb18t2GFptBYV7gSL6r\n",
       "l1i7NMkQ2DIKUEkQzWUY1X/qWA3CGqZGiKkPoMxYxhB3i4kqDGhenStYKqmck4MyBE2vfwt4VAiq\n",
       "fWAIbMYFACo+DDKfKt0yxwz2G8wplMEAjPmuKHNUYmAsH3JySxSkNeHanWwdj4iS1fVhQ4stoDBD\n",
       "BzAoQchssmQYApRBywbjkMswof/KNlm/y5qbjFGkuIwyqnQkz9sa5IsHOr/GqmCptdadnBJ7gO6p\n",
       "vGGC3evJNdi0UUGm2QIm0Q7OfKojLwOzcGdZlKFQxl2IP+ConIQS+bhtJKBDqqAj7DMoY3UadG5o\n",
       "sRUUCHZ9w0uXJhlEoJbaHZPNsKD/aAecXmxv4cIYRF9GGTSVZaW1F8a159Z/xx+DcFgIxkqdRxu3\n",
       "sFRgFO/sb7Cd/Uairr0GpfZDkHVmi3TJ/ulsV9i8u32XVaIsyqy3UaK1CTkujg9bUrCne3aFnz7L\n",
       "eQ/KkGkJl+qEFltAYYmz6lSBZhj8nzX2HYcdLWSY13+yVniNTUQRHQkY2Nh9AGUq3DLcWjti2nt3\n",
       "AAB6c96RRViQ8FhKs+cxpzhDiDIde/27o9IduXonc9u5nVXL7xLvk98V9bRn4I2lI8q4vaZTUwPE\n",
       "clweHyRoCaMTJycbljTr70EZydafbM/djmt5i0+YbC28hUKMMfhtgFe3TDfAFXmK/En938rbjkZQ\n",
       "ocAC+p84lSfLWzOOLYP6tZ+3zpDuqN2PQjksyx9n8q08LRXLKc5wQBn8cVsmU4C8F+HitpvnjNW6\n",
       "teIwXztJwshsv3wKuuJn5gL3xxiP2TJ+r3WZAWI57hgf2sLr7kAZkdw/uMmWUWA992ZCiw1we+RF\n",
       "GUXX+BBjCMBh5u7nT2r1ShX5k/pvTiWY/uUifgTkKsqIsnlpUYas3WBaT8LoVGNZlnfT6WmXrJsT\n",
       "B4kltYcyPADMgUXcYKzOH5DgCxKdI9nrNHJniVFV6d3fq1dMa/dsE3vYJfuns11h89a7rG4hsRUT\n",
       "cTQ1OkAcjjvGh1k8bHu6l/wymcMQ977IGQ0tJl1PWzH2mCxnWNb/Xmo/8B6biE4q+qbpVZRhZXm6\n",
       "++zJyqzYNm8nUMZlubKV6uSk9wALKHN8JFpFEFRVLtrjfN4wdI9kE3V3iTwmhkDoTJyHwLA/dmi6\n",
       "xDSE82nviipHyDEDsW+c72cson4ZPVh4EmVcjktb7TYfs6frf/gxDckTM59/93dWdMYHVM/9058W\n",
       "0X8M9Giy7cUg/4RfpmL715k0lnEtZ5NVpKcqjyX+3PO+tLZr7Nii3Oak9wALKMMOvwRFfhuqnDvj\n",
       "fC7KeEey9XGpO0uMPMhPvfWj3lJW47ZDYKu0t6bzyXTFsfFz3bFnoHdZ19+Lcyiz7fngIY0yDkft\n",
       "+Ij6bGw+Zk/XNNLJrXsyTf8MZeZ2FkCQeu4bUOYHgH4RZWreSEDCWVnigSowZAxil4XGb5jvS2u7\n",
       "FI8syt2celBEmX4MZ+NhAiDcw4ilxRssyte7Gu8eyYZJqdMlRp4z85y/i/NvaydsrhqYLoFaeZ1P\n",
       "e1eYb5FecLrjmMF+Gm+f7uJ7TBjrUOgplHE4qsdH1Gdj8tn3dE1D8tPKNPwrlPkw/U7Ut1QpdKpo\n",
       "ioRjQRaNXTqPDXqHU3TbA8yiDAhOE8ywBGZVCZKjaVHna5zPaQnvSDZlSanTJcqjUPDcJBxSXSJJ\n",
       "uitkzYCLMOmJiu7dXjr7WxwgN42PfU/XQPFZjYKpKbsugFuL+pYoRdacZBPo5CDqh2EQdxxD13uA\n",
       "GZTh7Ljc6MftCJk7Y+o0LoHIznhGNrjg6qCMdyRbO55vLTF0Zs+/lfmdPYpUl+BMV1S5iSKH1PUo\n",
       "sO+RXEWZu8aH3dO96OphqU2mFo/pEsqAmkMKY2xyoJhNOH+PYHu17haDb9sDTKNM4PmViGlHxzz7\n",
       "D9L5qNPQYh+VnCSRh6pdlHGPZOt63FriEKAM7EnYWT2Nd8lhO9Lpiqrb6hEmvc3nPH6fR5nyALlr\n",
       "fNg93e1/T1/uVakN14Yyl1AG19xkJtMTg9d6KAMl2YjSgQO2RbVdenk9h+DovE6jdm5OtKuWHX17\n",
       "wWkt70i2RoRbSwxXTOPxHTOS6L2cclfdMIswabeMA2wPvS15/mVHMamGMh9AGTXVAH8vHo4ya9Rm\n",
       "j8im6tuuq95dwW5at50vWBP9Py4fpb794Hp/vSPZm5V+a4mgAg/oL91D33dZXZvymSjDzysUTln2\n",
       "DWUuoUxfdU7y5IPNv2jLxH+00Iq66fx6YnJP07sSWyKizh+fb8QJlPGPZG9T/K0l9g+6LhHdZX0m\n",
       "yuDzb67hlJeyocwllGFVKENO7w3+U5SxHg3d+U5TYWJWBZH2c5MUT6HMOnGaI9nBGbobSiSPf5Xr\n",
       "mSiDzi/vQepYXkOZSygD6+6vYvbFKDMA/eygc2KSzYuqbd6KHKP0kvzZLdR8eyTb9ZncUqKgDWXO\n",
       "IMUFu3tM+aIbylxCGVR5Sx4N34syttsrE53QETJwwR7sC3skG5NbSxz500HmmShzwZRpKPMxlKlz\n",
       "H44PNWY+HFtSqvBF59y68tYSvyBs3RNRBlwZqLKhzIdQpnLbjz0z8FuLYNtQxpsF0BVtaijzGZSZ\n",
       "alGGwEe6CRrKNJTxRumlk128ocyHUKa2Wyh7og0vl7MxY1P4XyfxyGDk/XhRFxM/qaEMv1LKNP2f\n",
       "WlWmQ9OtRq8Gvv82lPl3tkxbljT6E4u4Zss0lGnU6OMo011DmZ8LfQXKVG4SXdpjaijT6E+gzEXv\n",
       "L28o01CmUUOZhjKnCF5DGdhQplFDmYYyeWJ1h3fTtyUrxBvKNPoTKCOv3ZYMxF+EMn3dRaT0yw8V\n",
       "4g1lGv0JlBmvvfwQiL8IZVRdIL30K1YV4n8SZWir5bc0y20Pa4Frr1gF4i9CGVH12F2ylCpxjTJs\n",
       "QiZIH0LTI89+3kdAtlpGfQ/gea3g1OkayiTfp60DjED8RShT9XDvxXd/Ncpw1yAkHE8T6N5KEj+1\n",
       "ZgLbJybWWpIeJR/tz32roYg8eOB9DlAdVqE0ZYsrKBOIvwhlxoldKaVK3KyYsN+KRMHupUSe+mpX\n",
       "h9Wwv6Biaskyq1528cnmo/wT77PtdbqGMv21SCmB+ItQhk/oSilV4rtfhgWXphTt3knisRcwkeR7\n",
       "rCdTy9z57avhJ47y4wOfmt/rdA1lkkHj6wAjEH8RytBpulJKlfiOMnTye5G8dcn02NfUuesLQ5G0\n",
       "HP/V8m7R5A91GLmjbuhaBNtA/EUo001V8pk42WVxu8c0Tn33B0g+d8EEj7XMxVLE8L7y9in7gYae\n",
       "qdM1lEnuZ9QBRiD+JpSBVU8/JEupEXd2stWLPb7Ogsn4fqnCoBDyqIKl1iwt5jQqBO0boaaWTAGg\n",
       "EqZ+7luV9kbkcXxbEgMwZh8HKTLUIl8kH1OnSyhDk+6DKsAIxd+EMqrqikGylBpxB2VI0qh8E5mZ\n",
       "kS/vO/bZRUcFS+3ixMmJpMaEC/K6lmRiZP4Tlch9qyFP3nR89A1ourxSJzKWbpGhFgqi+Zg6XUIZ\n",
       "ntwKqQKMUPxNKAOqjuUlS6kRd0/lDRN8P8rodx3JGgpbrD+YxN9Xd1gIxksMuNMK7RTWpeJLUxfj\n",
       "dS3lCkwIxOq4fztZOZv3Up4uW8ZmfIiTlfAZLjaTLWiETiOZOl1CGZA8CF8FGKH4m1CGV21lJ0up\n",
       "EffO/uJJvB5l0LaKFNM+rAcAoDfFm1WLZREWJDyWkrFwzCnOsGl9pJYrwzzC/Tr63/zK1S8djbw/\n",
       "lo51E8aaSzeUZrjcTCT4/V6dLqGMSm7IVQFGKP4mlCFVm0zJUmrE/RsGbPr0/nUGxuS9ZYMsyqC+\n",
       "s3E1paujcN85tSzLH8fWgHVgHMspzrBCPDzWcgUmvo5wCWMT//ItqNyPDAceaA9Hx7ohu4TJNFR3\n",
       "UzNpuy5Sp0soA5ML3yrACMXfhDLzj6NXSqkQ91EG++NiYMe1diwtWqs4X5AIMAA60OIaCu3OEkVm\n",
       "xURWJ4gZKxJGMdqyjOSUIkdy4iB17aNXx3XdigHbFH+o4/7tZOVs3gQI2SVbgjj+okxD3dVMW0Z9\n",
       "RwEOCr2CMiR9dqwGMA7ir0IZXOP+TZdSIe6hDA/VWUUWs6rygH6czyuBs6XmW5wdou4ukccrALZh\n",
       "s+iVYpsBlVAel+XKxrGTEwFdalJF4FDLbtHYzamz13GXdr6ZylWpITnIC7u9P0YAXQ8inmool+HS\n",
       "/rrNRwEqiQm/ZOp0BWVk+k5fDWAcxF+FMrzmwmO6lApxF2UoDPsxFty2NuBtnM8dxWbMrrsKgt9e\n",
       "YvS8vN4XXdRYzra6SE7RPks3QJLxKVjnQswbYXOiRCa0kHoLKl1LNetdL9zGstk733TljrWJVGv/\n",
       "xy5PiLVhRQSZt00fPCQbymG41Ew2H7RcFR2COl1BmbRbpgowDuKvQpkOTZdKKYu7KMOGQ84AhHsG\n",
       "sbR4raJ8vatXg9Nl8P4ScWxkDVpbFcADVWBIo4zHQnuS9SlYH0TEG+Hm1IPUdBmtJTZXDUwdoVFj\n",
       "55up3P4tVy3D5Mjbw3gwdsIK43EEJN1QDsOlZtrzoZMQdiyaOl1BmYwi1ADGQfxdKCMqVrmZUsri\n",
       "DsoEYbXmPgXzgATBaIilxSjB56CMMrMZRkvguaTU6RJlVAgem0QWrXw6Z0Xv8E6TicS7RKh8Lfc6\n",
       "SpKunKxRxAiTGUG00BClhrqpmeY1EoddWKcLKDNkjPoKwDiKvwtleMV7d5lSyuIWZQJFXk6qLrgT\n",
       "HpGIpUXXG3E+B2WQqRtTu0vo1hJ51GscuRFYRBnaD8Mg7rjjI1nMKz33ApP5Wu51xJnKVTmwjkyD\n",
       "8W2WbpIWGuquZlJgMeZwUKcLKAMyF0srAOMo/i6U6RC6VEpRfEcZzo5OjcXRscyxrh2s07gEgpec\n",
       "JNv87A07F2VGp/66HreWOMT3pvqguShmEwYFi3mhO4bEvHiK9BbsD+9R+LW0dTzeYrWVq7rhGmEy\n",
       "+140v5lXbKi7mmn57UrfNLB1uoAyLKMGFYBxFH8ZyoDyXaRcKUVxgzKB51eiZdQvTYlkN0jno05D\n",
       "i/Gfy1jzZWyZxfXI54zhaBHh1hLjK6aOPO9W6Gi288u1zGl51ZWrCJNxy/QPfO3D1uk8ygw5k74M\n",
       "GBHxl6FMV94mypZSEjcoAyXZiNKBAzatu4qzqm/biJvOE2zTqLGz10T/j8vXjb7t73p/ER0JGPQQ\n",
       "32zxW0sEqbP8X3Er9LdqybhZMIEHgoxTp/Moo3J30cqAERF/G8rg4m29bCklcY0ya7RzjxaxQWhF\n",
       "3XR+fcltT+t6bhMRdf64fJT6awF3hqZCgeXeC7Vz1q0l9m99iOtWEkB8xxvPp1GGZKfaImDExN+G\n",
       "MqTowM2WUhKvi2Fg1i/uemTfa4w41tykEadQZnUHCe0oCM7Q3VAi6RuEvIlOowzIqmERMGLib0OZ\n",
       "+UeSK6UUxH+EMtzJChO9wufH/L0kxXMoQyelM/c9EzeUKJop01BmFcwegygCRkz8dShzvMv7s1Ly\n",
       "4jUoMwC0HXBz9jnZvKjaXCmRzU8vyd/8PNgXbD8IZt/vv6XEkTfFbChTnmdLgBEVfx/KyEIuhVLy\n",
       "4h+O+gZksNGTqwu5tUTS9LKhzOozyB8CKgBGXPx9KFN6haxUSlb8wygj1W+/WPP7JTZ6NMqognuu\n",
       "ABhx8ReizHai5HwpOfEWJ7vRq1GGl8TygJEQfxbKrHRZkYdsSxVLyYnLRXRsQ7jRo0mcDqoMM+45\n",
       "OBUPKx/FK4R+l8i40nU3JKeXSuFtt6XR3ySSU75NccafiRuh/w/WsC1kCRDofQAAAABJRU5ErkJg\n",
       "gg==\n",
       "\" style=\"display:inline;vertical-align:middle;\" /></a><br>"
      ],
      "text/plain": [
       "<IPython.core.display.HTML object>"
      ]
     },
     "metadata": {},
     "output_type": "display_data"
    }
   ],
   "source": [
    "distribute_through_summation = \\\n",
    "    Forall((i,j,k), \n",
    "           Forall((f, Q),\n",
    "                  Implies(Forall(b_1_to_j, \n",
    "                                 InSet(Function(f, b_1_to_j), Complex), \n",
    "                                 condition=Function(Q, b_1_to_j)),\n",
    "                          Forall((a_1_to_i, c_1_to_k),\n",
    "                                 Equals(Mult(a_1_to_i, \n",
    "                                             summation_b1toj_fQ, \n",
    "                                             c_1_to_k),\n",
    "                                        Sum(b_1_to_j, \n",
    "                                            Mult(a_1_to_i,\n",
    "                                                 Function(f, b_1_to_j), \n",
    "                                                 c_1_to_k), \n",
    "                                            condition=Function(Q, b_1_to_j)))\\\n",
    "                                 .with_wrapping_at(2),\n",
    "                                 domain=Complex).with_wrapping())\n",
    "                  .with_wrap_after_operator()), \n",
    "           domains=(Natural, NaturalPos, Natural))"
   ]
  },
  {
   "cell_type": "code",
   "execution_count": 101,
   "metadata": {},
   "outputs": [
    {
     "data": {
      "text/html": [
       "<strong id=\"commutation\"><a class=\"ProveItLink\" href=\"proofs/commutation/thm_proof.ipynb\">commutation</a> (conjecture without proof):<br></strong> <a class=\"ProveItLink\" href=\"../__pv_it/theorems/fad2da1841388f693427c5951a20f83cb77645ed0/theorem_expr.ipynb\"><img src=\"data:image/png;base64,iVBORw0KGgoAAAANSUhEUgAAANEAAAAWBAMAAACs+WTQAAAAMFBMVEX///+IiIgiIiIQEBB2dnbu\n",
       "7u5ERETMzMzc3NwyMjK6urpmZmaYmJiqqqpUVFQAAAB6qHgnAAAAAXRSTlMAQObYZgAAAAlwSFlz\n",
       "AAAOxAAADsQBlSsOGwAAAslJREFUSMe1lU2I00AUx1+bJv1Iso0n91RKURCWlXURBPFQvSisSsTS\n",
       "k5gVtQoFKSoIHjTqfemli6BIxYOXha0iiFqwC1aQPRjBwwqCLexFUFjBRT0IzstMps10Gvbig3/a\n",
       "vPzevMmbNxOALZjLJHFvwTcmWmYxj0q0h3JUhqF6ePM5MtNHpiFTz+bJsB0ZWp4Vs3eoXuLN3ahE\n",
       "ap0qZOkWuTRkKNwTvQ2qG+QnNR+VSe9QhSyLZVqVofBX9K5SpW2AhBeVSWEK2bKNXluCZjZHBrB9\n",
       "GWQa6chl+sQUskN+CTsSNJEXWcRQs4XC3shMz5hS65MWdz7Y9p0M2pOg6X6Ol4iGIIZ6DnA+MtN9\n",
       "pkeuxguj/rEdFwy/T54W0HYHqNNQfwcYDUEMtQApPrXkIm/Nav8W+ztNpR4AnRfG3ATFAnNGmBSi\n",
       "X2zYE8yHhiCG0uxEk6PrmC5XaaqXXPMc8+2n0jcgXsQ544vodcgWIbkhZEL0BcBPfGngIYihTGuo\n",
       "IfYRvaqRsp4AeBPOpMyDg1OK404iAyx7kJmRZNoBGezzKeAhiPlofYVcSitH8HV+5Gx/55+6TpYz\n",
       "XD3HgvfD2+m1DWZeWKdpfzvpwXKyEMR89BjZv+quJC5jbGesVUZmbW0w0TNUjgdfzeCkzNbIGoAh\n",
       "7nhEf8HJoPlZCGI+eoc0hN5K4utpHaO+hEy3Owg/TqVZ5pQe+CY6GimiXhQyIfoNqsEtC0HMRyfI\n",
       "uijNGDagUtN77yqVinft8SD8MpXaP7ywnXf5ehtXqylkQvT0HN/PLAQxjjqu1iVnRhYU7yreY0eo\n",
       "7Fm8RjVqt0XHeIyjintzyS5B3H5Luh4395wLB9kzo0U1am3RMR7jaKb94Shc8ZJPLEhdQEdpscrn\n",
       "d5FJNMknYBwmovS8KlUq4fqXmUTTRr/Z4zABzdjygy9lUYk2KUdlmIAa8D/tHybRu4Qrq8LUAAAA\n",
       "AElFTkSuQmCC\n",
       "\" style=\"display:inline;vertical-align:middle;\" /></a><br>"
      ],
      "text/plain": [
       "<IPython.core.display.HTML object>"
      ]
     },
     "metadata": {},
     "output_type": "display_data"
    }
   ],
   "source": [
    "commutation = Forall((a, b), Equals(Mult(a, b), Mult(b, a)), domain=Complex)"
   ]
  },
  {
   "cell_type": "code",
   "execution_count": 102,
   "metadata": {},
   "outputs": [
    {
     "data": {
      "text/html": [
       "<strong id=\"rightward_commutation\"><a class=\"ProveItLink\" href=\"proofs/rightward_commutation/thm_proof.ipynb\">rightward_commutation</a> (conjecture without proof):<br></strong> <a class=\"ProveItLink\" href=\"../__pv_it/theorems/38b2c6a292d55d75cf7de1ef204d57d38cab209a0/theorem_expr.ipynb\"><img src=\"data:image/png;base64,iVBORw0KGgoAAAANSUhEUgAAA6sAAAAzBAMAAACDEYMFAAAAMFBMVEX///+IiIgiIiIQEBB2dnbu\n",
       "7u5ERETMzMzc3NwyMjK6urpmZmaYmJiqqqpUVFQAAAB6qHgnAAAAAXRSTlMAQObYZgAAAAlwSFlz\n",
       "AAAOxAAADsQBlSsOGwAACfBJREFUeNrtXH+MHFUd/97tzs7uzuzeHralprQshxc0FXMYUi8oZGuo\n",
       "gLmGBe5qmhDvKmExDcZt10RR8bYFGhNCWeOPNEpglRA1QrohUJQ2sEdSGkJNt6cYFZW7WH8l/rga\n",
       "Lz0L9Xw/5sd7b2Z2ZumbOoz3/ph7893v9ztv5vPe9733nc8NQLCiTEyUYaW8E0ovUPUvL7cifTN3\n",
       "reC5jaKZWl6eCgxrM9q3lG+vwKoOGxU9NrCe4k/TMUav7vnLbNxg1Rv8+foYw/pdz1+SczGD9T6+\n",
       "C+dK0tYfdxTlB8uvi8uUez7cg1mf93zz/pjBehl/ul2e50wIK8WBjig514vZNz01flaOFaz6CH9+\n",
       "JEwIzr8cFDcg2cVezF7164NxgTUhBN2RECGQUD7qmBSLvZglPJuUXYoVrJfyN5prhAiBhPKdtxfp\n",
       "TbOM9+T6aKxg/QB/quHBu3/zHkHLKXEpotKjg3+zTzZfUuVH2eAxf4+CUfrUxefES077R3rGzFzw\n",
       "upQ3yjGCVT0jdH7UnbOj8Fl+DDslbmGMKCnWwlr5d3nSOtnb0bgHlr4SDvk2jhrZyD5eTy323i7W\n",
       "jO7mnh7CRejQk4UYwZoX5tJ+1Plva8PTALcz4ZhIlOv/3vURUrNkwYrni5CwTt6D6sorzHVKcJWf\n",
       "Q2IEcIXVTz4CWgNYL+iSP/FtFzXTyYo/5710SBVjBGtCiEoJ1NgX8QNVB4t0yOEjkWigFS2J0NMb\n",
       "ppI5UHE8b8BAyazj4bLrIkYZIeHnULOHJnWygHsD5yVIu6gZXEOC04L3lmApRrBOt52wbgLlLOrY\n",
       "dIm5ER+IZKCZPmNJhFtsmUpG2UgH5MGOUU+QpzXLKoOvwwTziA0nk03BS4B2UbM0ATTrPVqVt2IE\n",
       "66V1RxBWToO+YMFK7phI9HL6TLdYR5SyG9ht64tlbuKaZZXBzyE1UtZ1mPMTohf/dhlm+tSeknlT\n",
       "rnMrXBcjWO8QZ5gCKOcg3/glByuVdN8jUqVbBqx5bqCKZjWzjoJCkwEE0NDI+m06iZFmb7kmO/CX\n",
       "XJ2FNUi7DLP82tdGu6P2qRjBuknc3aO5dgfMtlosrIYEdpe5uQ7PXMyMRpQesB96vp2y9pRoRZus\n",
       "srCiZfANDoeWV8ZoItmyu1xuo8aOVme77DbZbqhZYj1eUmsl70dxswErWW38JgisebIKa0cPVeVN\n",
       "ccODwPzkqi/MVzlYqSR9Jz/XkZlro6C0w/Z9iklEXn98NQdIcmym7HBoe2WM7AyCMn/D/os5L852\n",
       "WW2y3VCzhw9XfYbYiSaF9Xl8ciAIrBq2yNQjuG09LUqs7UTOEdkehK/695PFqvePs2/DIQzUfbwE\n",
       "c/Nytogc7e22eixQWL+Ct9VTQWBV8cDeF8EYnHO8/3jVE9b0XZ9/1t9hoxUY1kAOoebXOYK5mVeL\n",
       "pe4vMiZbFNYMCunJThBYyQuhrRGEVXesIVPG4Ejf9K+CsPdZXl7wH63z3jHp/sc29+4QNvh4Cejm\n",
       "0/DXavdBODBHYdVR1M8EWzIdR38bEYS1b8mBy1TEmviIRF+pbvPgwJSxEv7g0NDVwWBNDA1dXoog\n",
       "rEnn28o9kWpg5vsS3xTC2q4Jt4YB63MAaBFmJLer3WDVqpCKIllYW4RoF23dBXts/UUD1v2QnrOS\n",
       "23gJ+ZI5He19pqlfx8CK9Pb3col7eg2FN1u9KumWcuGEa15Ya7YzvwArxcRpxIA1VU7y+yCcUQV1\n",
       "Q6WZm9sCz7LpiDvh471cIt9rxH7YXhi6IWUKd/1xJ2z7M/yitAKrN6y5Qsbl4eJ9b25GgxIL68ne\n",
       "VkyJao9tWmOvgtwGuiHU0LQBWwqgl94pQfhCwmoGYWjMgJHcphnpl9OrKGkxd+8PChysGR3FPWVs\n",
       "lbkUG5+50enYFk4P/gH/2Txj/mTX7GLLxme+Zi5kx95dcO46TOEl+ORY0+ZBJ5ecAzvGyNUDLZlg\n",
       "K9qP0uQ2zUjPP3RbfRvZlVe3/JqDNfkrpHVrfdpwrLxXdT5QRnhReR2xrFk+ai5LsZptaM6d6BLO\n",
       "gU6Eh4zNS+4h5ub6nBPx/yf9G4xXzwTW+1CNJrdpRvqqjgpPUlg1KxgSWNN4AXUYp0z2kV7QUkfg\n",
       "qXX8zEyEQMzuBswBOASfoOq4lj35PN8M/CudwJHhgpEZPQzT4NDEQngdBRYcSPTby93SEfLo31KK\n",
       "wCEPj/6N9q0tE9Y8Hhk0uY0z0uk30dz1SqVS6eSqSqnBwgp/AvyCfgOos2WytuqbgxFlQVhw9c0Z\n",
       "1Q/BC0TfUMe1BEzyzbiGNZyCe4epcI2b5hqSN9O/Val8Rv0iM5xzZ8Wb2x6xASYwC0OjfwNMloB5\n",
       "MWckt3FGWp/6Xho+R0crPFXgYMWaS3D3BPRjnCbrqaPluspvtYnw58RsAa5FRxySiTqupcXsKP71\n",
       "eMswXF2GYXqJHROiJhHCgT0FlYxEtGQCc8Cqb4k3dyRisAo4hkb/tlP9RodvtJQSzkiPQ76wO0nT\n",
       "DnoTrJFnvwwaVc8exTiNQ6I+/WQZUk1URcbGgQh/28Inw/oUOn4bkljdqMFOsNWpLP1AA6jhlzGs\n",
       "SDiqnjmKNW2vpnDptSkgcfr+HzM8MvHFnEz6t5Qi4Bga/RvgjQ43Wufr6rU4I13rpOr5Y5DG/wW8\n",
       "+wCAE9Yf/XRVG+NU62SPnBwjWapaRx2FWh0fqDBVBeTuS4P4+ODx1VjdqGlVRt2Q4Z2K6W0YK5JL\n",
       "aMQH9Vo3hOp/0B3tw4FFuanynHUv7xOn1qhlrgUcw6N/U/4Px47IkYy0ES7GK5WmmDxkT8umZrJc\n",
       "sIzArN2aI+7APGJ1WtvSB4w6leWbtmzYFBLNHPCafTcO10H5WGUnfy+/F5N1OE5Lon9LoXyzHPJQ\n",
       "6d/wDxBhfQJnpLMeA5yHVX3XVlPzseUiY2TUUquRO+rUVKe1zPI/gVGnOv224a6rO4aQaD4BvKZW\n",
       "H3N7ACeERkukf0uhfHMccln0b/eyyQFrG2ekdQgCK7F1qzLCNnPkazovW/+6m6Gntds6QcBaIv1b\n",
       "CuWb5ZCHS/9On3bA2j0p1Qxt4vndef8HaZj0bymUb5ZDvkL/Dlq0ESeskujfCfKEzpPy3c9zyEOk\n",
       "f+eLMYI1e9YRhGXRv6VQvgUOuRz6t/sGOU7/WiX2cZn077YEyjfLIQ+X/n0iTv8IKS6FJdK/fSnf\n",
       "blxtkfLNcsjDpX/T/92I6UcGJNK//SnfLlxtB+Wb4ZCHSv+O2UcGdCGnKpv+LYfy3c2jHPp3ai5W\n",
       "sMI3+FPZ9G85lO9usMqhfx+M1wd8oMaPDMn0bzmU724eJdG/r4R4wSpwnyJB/34kJL/e9O/YfRxP\n",
       "/JTl/57+LZfyzRZv+vcPoWdYj0b7M9GZTsQadAEp39YGgNImlIlbgsO68pnoyJft9mei/wsfjsUz\n",
       "ztSVGwAAAABJRU5ErkJggg==\n",
       "\" style=\"display:inline;vertical-align:middle;\" /></a><br>"
      ],
      "text/plain": [
       "<IPython.core.display.HTML object>"
      ]
     },
     "metadata": {},
     "output_type": "display_data"
    }
   ],
   "source": [
    "rightward_commutation = \\\n",
    "    Forall((i,j,k),\n",
    "           Forall((a_1_to_i,b,c_1_to_j,d_1_to_k), \n",
    "                  Equals(Mult(a_1_to_i, b, c_1_to_j, d_1_to_k), \n",
    "                         Mult(a_1_to_i, c_1_to_j, b, d_1_to_k)) \\\n",
    "                  .with_wrapping_at(2), \n",
    "                  domain=Complex),\n",
    "           domain=Natural)"
   ]
  },
  {
   "cell_type": "code",
   "execution_count": 103,
   "metadata": {},
   "outputs": [
    {
     "data": {
      "text/html": [
       "<strong id=\"leftward_commutation\"><a class=\"ProveItLink\" href=\"proofs/leftward_commutation/thm_proof.ipynb\">leftward_commutation</a> (conjecture without proof):<br></strong> <a class=\"ProveItLink\" href=\"../__pv_it/theorems/c4b76504728ae01b21bfbe0c216df0b34b0495330/theorem_expr.ipynb\"><img src=\"data:image/png;base64,iVBORw0KGgoAAAANSUhEUgAAA6oAAAAzBAMAAABs0+g7AAAAMFBMVEX///+IiIgiIiIQEBB2dnbu\n",
       "7u5ERETMzMzc3NwyMjK6urpmZmaYmJiqqqpUVFQAAAB6qHgnAAAAAXRSTlMAQObYZgAAAAlwSFlz\n",
       "AAAOxAAADsQBlSsOGwAACiJJREFUeNrtXAuMXFUZ/nd37jzvnZ3FbdEUyrpAfDQxCxGsKDglVETa\n",
       "OsBOlYSwU0kHU9EOXROsqDst0JCQtkOkhoCRiYZAIoTRUEGoMCXZksaSTldjxOeuFh+JmsF0u2Xr\n",
       "Op7Xvffcc5/bnGvH2z3Jzvz33P/857/nO8//fjsAwZJSLBZgKf0/pGKxGFS1t9NpdPWz3HnOo6ls\n",
       "pt9bOycDo1rv7kfKNpcG6TZ9Nj0UFVSPWy+T0cXO/dG0oYihqtas1xdGF9V0zvXWhoihel/V2mvz\n",
       "0harO4asGRsv9y/ko5P4lrhF2f6xAK7oShe4g9SMFqrvtV7eKs9ySkTg8QCFfHT6W2LOQhBXmFLK\n",
       "9TCiXREpVNUR6/UBeaZtCCwEb3+39JyIS3o2yNTLlNSGX2+KCKp9wow7Is+0iEAQAPx0rhUzYkMB\n",
       "PDGUrnB3tholVC+yNr1Wk2f62jMAwE/ncd9p3nMt+I67ynSUUP2Q9TKDh+6eNTuEI8Hxd+f8TYnF\n",
       "vjvwD2vDzaxs+ba/TWfNBRXTjfMXxConWgH8MpQ2uJ9tZiOEamJOaFW0F0yvhq3WEfz9atx/9qTF\n",
       "FGNLrbxTGLPsr8f2Kaf8jFCdhJmxs5Upubph99TVL5oOk547TNK0dcf+doRQzQrraC/q1bc04UcA\n",
       "t5lzsfJxyAzB6Ia3PE3RYrEc1/v7csphU+EPBbhMue6fnjBgHeSFMTzhEmSEc6MGvEVU5U/AzyRR\n",
       "gteIlZ+7q30+Qqj2TQvXyNlXcVsmBobogMOduw29eWhg0NBoclh5SR4pxl0jBPrzd59nZqC2PZHB\n",
       "/YOZdTKCdYyxjo3MguAGb5FU6WeS+tVHUJhwb4mj1eigOtG0o3olKPNGEG0VzizBWB3mYS8eQr0O\n",
       "2xOSR4uZ1wiB51owZWZcAumF/npyTjfrZATr6BmsasEN3iKp0s8k9WsvncM95v5mdFC9qGqbgdEK\n",
       "o7a50Ch64BwcBZikqLqGkkix9Er+uPpqgWHAjqKZWbWQnPM+rqLRedNP+aoFNziLtEofk+xxDiUH\n",
       "9bKO6yqbtaKB6h3CdTwHygJka7+yoNqCv2lVh8OipfVIsZv6jTWuv4IWQh7VObzE+ZxdiE7jTbNr\n",
       "oBJ1qxtTQpU+JpnSzO5bqp6gxYeig+qV4nkR9dhNMNVo8KjGc9qqDNqZXmo21Tts1eJWM1LsAbPN\n",
       "s814w4Lq3+GLwL30Mo1wazXWUQo3mietEsQqVjc4i9RTH5NU6bIW3lg/73FSblNUyZD9bRBUs2RP\n",
       "2Ow+UJXT4kkHYXn74FdnKjyqysz1e84H2MVtNVfpq5a5mtFim8xSxw9Y5ku4/UbUAsnNDkbMtZro\n",
       "8MGC644sE9zgLZIq/UxipeTpF7D8QfemUOcpqi/hr0eDoJrBwzVV7cLj6ttizvuMg4k4rSUbSf8n\n",
       "UGaFtXdKUHgIHvR3y/NYK1oMZFItfS+JHmHIrykOwTfxo5aCoJrAw3pXF07Ami2Y/jNXVHfdc68/\n",
       "/0qrNTwxSN55z37/vjayGFQDmczmtsXQfN70m7YOkfc6sVYQVGEf+l7fhaiqtt1jnI3H5A0nhCDh\n",
       "JzqdAFP6jHU83//EGutOs9Np+xrpmfa4KVoMZjJezb7uM7D+Q1FVEfKpYLulI+i71oWo9tjmOqV0\n",
       "9r1KhbUD+YLXzZNsD3z58PCHg6HaNzx8cb4LUY3Zw7s7zrpTj42H1Yc99wUfZaiibRXafrF4dsUL\n",
       "1UwF4t1ICs7MdqFTP9x/VqodZqjugeS0Ec/Gm8fX9KVo5/N19RoOVaS3ZzE1bC/ZJae7xpibcxLN\n",
       "9Bm+zy1/xXivlm3DUmLpYoZqvBCzRhhICDmxslzXptfCfj4KsRk+vZgasnm75HTX2Ae2nUQz7WXf\n",
       "d/95C2z8K/wyv4SqK6paLuXQeC+jcaEdzECeR/XY4jZLfRW75HTXWDFKTiI3PNmEi4/ia3Og5rt5\n",
       "Bj5LSZ+BoXYQWDxbWYGPODiE3IM3cNo3ns5ZUE2paNJT1g3q6/XowU/Z7ZqZEwNv2SQzcXlrDuLK\n",
       "173HeAdpirzdh6mAmZPK68gf3Y2Y/bx/TrK8+d0SrEfnUBrPzhDCDw4hbySH8craX1tQjb2JtG6u\n",
       "TrDmVN6fsLcnl3leYYVNMpOZ11vH+0VkVx+9nMjbncMBVXpq0XZzO8Ee+yJ8brK8UbpGR/U+tFmi\n",
       "8exiDMdUcAj5GYpqxpgJCapJXOZlGGfR1EwjMQLPrrCuyiQTSLG74DALuyIpfewla/34Ll22fwyf\n",
       "JXYn9CgtFkV9ZLcNGvIvjacR9baCVxRCHsvb0rEkMb5DY3mjdFpHNYvHxSbj5ExCyIfL5XJLqyj5\n",
       "Go8q/AX9XQUrITFVINuqnmkYUdrCXssIqnwEXqGKWOqDMWv9KI9JV7HP5cwuEUV9ZLdEgmXqt8vl\n",
       "LyW+xg1mbV58tlvDGSayGN9hsbxRxzuho0quaDy7v8pCyF+hYxWezVlQxZqn4K4i9GLLY9X4ZKEq\n",
       "xDtJ5i9IsTZcTRWxlAThWI7vHiHNdIrZ3cTsElHUR3aXFVIPDkCCjEO0WwL96RL/Fh/uQDioymJ8\n",
       "h8byNqL7rLvXGgpqrXEYpSFkEm1Q62Yw03y/ujoxP4lbfxT6qhPPFCBeRyIqzD5I5u8a+OJStYQV\n",
       "mQRbOC2al3yghqXHIIY+VyfmJpk6ES36xO7XC/27N5KYCcD9L3KUMfFNnEyWtxcaZ8r4Do3lzV50\n",
       "GGN1ppq4GtDcOt4iIeQk/iffbY8C2FH9wRuDTdz64630gWPrSGxqvJVYDeNV/EEz4xVA5u4dAKzI\n",
       "pAzJo1pVlocOJ0h66Mgy9Knb1UWLPrM7gbfNu/C0otxQfsF4lg+IzxZStFoW4zs0ljcLifNcCI3o\n",
       "s0lmtFyuixFD/rKga8YKOaMQ6NLNGjHHFKm0tkeXWGV4Sa/rkgaCuqBP7Q7u/BwC9JPlLdZn+ZMY\n",
       "QsSTtCSWN0/QlsL4DpPlzQIyPKpPpp4agbTLUmxFNfGu9brmE50hrhCT4suQOV2RSqnOv5hEK6NW\n",
       "DelJsKoL+szui7E3nJw7KjgtkeXNE7TlML4lsbxdAj8lEdVmZkUBVAiCKlm0nUQus+kvXfgbI6/p\n",
       "VNAUVc9HFru6RJY3T9CWwvgOl+W9Nyei6plCYaP9XtIPiITJ8p7lZCmM7yWWd8CUGbGjKonlTac0\n",
       "uYzvEFnef4TooJqet83AsljePEFbFuNbCsvbOUXpv6fEHi6T5d00CdpSGN+hsrzVKP2no7gJlsjy\n",
       "5gnaUhjfobK8e6ejhKrwCwISWd4WgrYMxneoLO9o/YKAKhxEZbO8+SSH8R0Oy/vLECVU4RHrpWyW\n",
       "twceZ8j4DoXlrceco4LquHUASmZ580kO4zsclndvK1qoCjynbmB5iyFMacmd5R21X7wTf51yR1c5\n",
       "J5Xx7c7yTtcWjepkd//qc6rVxc79jxjf2ylCxeLywKgu/epztydlH/3e2jn5X083Cnxs2EVpAAAA\n",
       "AElFTkSuQmCC\n",
       "\" style=\"display:inline;vertical-align:middle;\" /></a><br>"
      ],
      "text/plain": [
       "<IPython.core.display.HTML object>"
      ]
     },
     "metadata": {},
     "output_type": "display_data"
    }
   ],
   "source": [
    "leftward_commutation = \\\n",
    "    Forall((i,j,k),\n",
    "           Forall((a_1_to_i,b_1_to_j,c,d_1_to_k), \n",
    "                  Equals(Mult(a_1_to_i, b_1_to_j, c, d_1_to_k), \n",
    "                         Mult(a_1_to_i, c, b_1_to_j, d_1_to_k)) \\\n",
    "                  .with_wrapping_at(2), \n",
    "                  domain=Complex), \n",
    "           domain=Natural)"
   ]
  },
  {
   "cell_type": "code",
   "execution_count": 104,
   "metadata": {},
   "outputs": [
    {
     "data": {
      "text/html": [
       "<strong id=\"association\"><a class=\"ProveItLink\" href=\"proofs/association/thm_proof.ipynb\">association</a> (conjecture without proof):<br></strong> <a class=\"ProveItLink\" href=\"../__pv_it/theorems/2131ee6e25a81280393bad76051ef72f025dc0d30/theorem_expr.ipynb\"><img src=\"data:image/png;base64,iVBORw0KGgoAAAANSUhEUgAAA30AAAAzBAMAAADRHnwLAAAAMFBMVEX///+IiIgiIiIQEBB2dnbu\n",
       "7u5ERETMzMzc3NwyMjK6urpmZmaYmJiqqqpUVFQAAAB6qHgnAAAAAXRSTlMAQObYZgAAAAlwSFlz\n",
       "AAAOxAAADsQBlSsOGwAACitJREFUeNrtXH2MG8UVf/5Y79q7/jh6aSPlA/cKammaykRVGqFCnYqU\n",
       "UhK6gbujSIhzijAopaqJK9EWtecEiJBQEv/RVAgqMK0QRYDiIgIUrnBXKURRguJcaVX6xZ0a+iHR\n",
       "9lJxyvUgcmdm196Z2bV373aOmE32j7vZ2feeZ+Y3M2/e258N4O2ShoZ0OH/11LUQTMLNZr0nO3Hb\n",
       "OQjcsAFbrNkseMav1ptdSY2fg/jJF5sF7UOP30n2VgkSTJWOTyaDgp9WZe9XBQm/xzo+iU4FBL97\n",
       "2DmazAs7G9yS5XzOOg9+aZ3QzoU6+4bPBAS/j7O3N4qzHOePaw97UHpYbO/2d3zyGz0Q+Gk59n5M\n",
       "nOl0g6s440HpjNjuHXWbXR92/CLcfpkTZ/oAF1olZt11vMgsqHsdw7vEXCDwu5DtYLIqzvSX+CND\n",
       "1l3Hi8yC9vDODvCRQOD3WfZWxctx78adXExxcnnG3RSv9kjfv9ixnF7dcB1vm8zGlSUW4b7D7k1p\n",
       "K7WOmQ7XW3oA8JNP2+drYgN8m12VP6vE3Pc1Q01qH2el/+kjzNl2ZL8052bEkJGtil0NlRlhZS08\n",
       "79oUS8mIjp4dwBc3VUcyAcAvxfm7MJr914/DswA3WTup9AVQszB47dtdTRlq0fZCTc5CJCMdYSb8\n",
       "pdKV/+6acMQyqBXWkruIMxLOuxshSho5WCc7+/NYNgD4Rbj9JYIa+SoeALkvaywivKnO4GGrY3jQ\n",
       "tHXwkKSOqFH3ahXS+TsvsCp+CfCuimeCadbJCJZpr19sBK972sirCDk3I0QJLiP7y0znk/dcAPAb\n",
       "Hbfjtx6keTRzjZPEGlxZgJEazMM+vCzCDkl4UmeoWfcI8gMNM09FKi6CxJl0TTndMutkBMu0KsyP\n",
       "BqCNrMeBiYsRoqQQ5BKd15/0fgDwu7Bi2z+lU6DNtPEzPcVxgEMGfh2Hg6glVtPhH1osk3Rop85q\n",
       "unK6e/iHFs/WX3FOapL+FDTmLkaIklbYmW/1wtH/wRUBwO8W3ilkQDoDqervGfwa8M9kxR4QsPgR\n",
       "ta3ptmdKl5DfpPE7jV2kS4RAZOpvWpMAadRoI2jRJNyMEKXU8t9u6A7PNwKA33o+/kL+cBtM1us0\n",
       "frFMco1KvXMxXQ/2NZQPImr3WUOdGo/VGfzegW+ivzt0mxHKp2IZSb/GimcKEC3RRtDh8yraiNUK\n",
       "ywhRiqyCkhkPdbi+ZuJHjgB/8oJfihyJxnsHPuk9Pp5AqN3c/93pEo2fNH3V3o8B7KYOfWtavsby\n",
       "QYbaNkvr5Biz9cHN16CeK7c6GLF8KpGBn1gyVx5bxhiJbp7QGSPtVlCOGSvte7nksmiO1wz8XsI3\n",
       "D3rBT8Ua8UoPhX+n+JpPto///Bal1BX3lkuznI+c5AQegPvdm8WHiYsx8loii5q7q9vZzXCT8EPc\n",
       "uYIX/GS8VHf30PaZtKWLj3bEb/ddd7tzRZLVetehV26766D7rMqBfyPTcjbfPR0/Ujfwi6NuRRte\n",
       "8COvM7b0EH6a7RwXM9eYcvW7XMrsi82mhw15ml2j9z66kY1Pms0ZVyMhLihdlJHb4Z1S92WVnjLw\n",
       "09CWHfd2fjmG/ld7CL+QLaElFc5+q+LCTgixbjt+umCeP9cNDHzOG36RgYFP5HsIv6g9rbnzrDfq\n",
       "obIwU8u75p6qJn4vAKADkZm5LXXDTy1BrJdIoOos9N71i4MfzOeEsyZ+e0GZamdu8QHu1y3Xseu5\n",
       "mnYFhR+S27uQj/hewV5yerqg66OvtN8GpWbg3L3CORO/mB5lwwycRQR5dbGWnNoEB+n4/Vb46kI+\n",
       "IpW3l5yeer3u/Nt2GP4H/C5/Hj8Kv2SGO77sw39w/JicUCFP43diYceXSMlecnrqdbtEOz1syoCW\n",
       "7+X98wPDr7V/QnUCzMyttAIHEq8p/QZ1LfmDn2cY/OIa2rqkzf2tc9HgxFfshq3K0b63bSUqALXq\n",
       "Nk7YS9QxZaWxYa7ELTxcs3itUfsLVZH83cpZVXez1D6/wBYU1xmZW5UQSKb3XF8ZJuFsadMfGPyi\n",
       "byKp6yqjpkHpU7J9BKnKC/QVtpJ1WXXhWtlWoq5Pyzn8QprEBsk9VGdC9jy+QP5uqOFP/zFhLXG0\n",
       "FJlq4XcPKhmZ26EoDuovbcjwtIGfGirQ+Cn4NPMylM1solqXc/DMCtZ7kkoganfAETPtiEqJEy+x\n",
       "DcBPDff6PNxgyqGSTU4tSKUkalcCbwnaTXq3+F0cfxfgDZ8c3pCwONDRUrrewi+FHdG2duypvIf8\n",
       "zJFisdhIlqR8lcYP/g74zfBqkCd1ctAJTUFOmuFOP+0ExOfhFUMQlyIwwjYA1Zmly8A0iEs2OXyc\n",
       "UlG7tB8Xi9+Sv095zeQ83ymB/F2p6pfDu19YW5wsjeSBen9kZm7TFVz3UwW+Y6w/eCbD4Icl5+CO\n",
       "IQjj4R6pxA7pFS7fRyrfIGozcLkhiEsKcFsjfnqMDBDebw25OezBODncpvj9fSCTtYXOL9BagvL7\n",
       "fKcE8nfxlPHH4T0qrC1Ollr5a3MqV+sSGp8yDEIqsyNqxOlazUrmWa8yNsjzh/BwD0KkMvq0DrEa\n",
       "KiJl8w+p/HMd31yMzCNBswTbKSmjTrmviksPQdSUwyUkxxiM1yCf3jNMsgwA975IkYz490ci+bsR\n",
       "8MvhjQjLdThZeqvBrL/pinw5oJ2x3IhVUodBwV+L3PEggB2/p17vH8fDXW4kxk5sJvmbckPeAOUK\n",
       "/mNUxkqAzN3dR9aVWVJJnSFVMetQKIBKDxxbZsrhEpJjDCpjE/ooPqruxluEdHXxhXYfLuHdn8Ds\n",
       "LH6L7o/DKy4R6mSJcEeY9+9J8urR3DIGi8Uanz+jb/WWZFTPtJWgVbouScyZgkZpU6hVMj8Mu96a\n",
       "sxxvsH/X1xF0Xy5uZ/vwV37Pw1usIP7uc+CXw0uzb8XzeP8DPH6Px5/IQULvnP+0LvkjW1qSjzaz\n",
       "lJJZii1D5lqCRine/K9ZMj7MsArOcrzBF6OvOzXquG6fp4L4u3gq++TwUt9NFMLjZa/1NvzG1RU6\n",
       "aOAFP6LrVKQqx91Lq/7Y4amjQQcfzq0GgfxdWOubw0uxb8XzeJVTNvy6p2tqS5AD+ovPn0RYQv4u\n",
       "DmV8cngJ+3ZRPF5LqSOPNxD8XTVnx08QfxcPXNgfh9dg3y6Gx2spdeTxprIBwC8xb9s/RfF38f7p\n",
       "k8NrtUEMj5eNioPw/RV+7grk7+KElE8OrzW4S8DjPR6E74/xB1CB/F241jeH12LfLgGP16DTB+z7\n",
       "0wL5u7DDN4eXGjLhPN6AfH9a4wI7gfzd9rf4Fs3h5dm3Inm8salA4Ac/6pDo9c/f1erOw+6dwzvW\n",
       "HT9fPN4Dwfj9ECizi0okf/d249+iObw8+1Yoj3ctBAO/ENsBkfzdYR+6OJEXq4hqid1SYH4/i//9\n",
       "OoH8XSWzaFXC4V0urCV2S0/CgvE71Ju/3xpv9GCjlprDKxsv5KWhrd7xO//7rb1z3Wj9fuv/ASsg\n",
       "nI4LPC/JAAAAAElFTkSuQmCC\n",
       "\" style=\"display:inline;vertical-align:middle;\" /></a><br>"
      ],
      "text/plain": [
       "<IPython.core.display.HTML object>"
      ]
     },
     "metadata": {},
     "output_type": "display_data"
    }
   ],
   "source": [
    "association = \\\n",
    "    Forall((i,j,k), \n",
    "           Forall((a_1_to_i,b_1_to_j,c_1_to_k), \n",
    "                  Equals(Mult(a_1_to_i, b_1_to_j, c_1_to_k), \n",
    "                         Mult(a_1_to_i, Mult(b_1_to_j), c_1_to_k)) \\\n",
    "                  .with_wrapping_at(2),\n",
    "                  domain=Complex),\n",
    "           domain=Natural)"
   ]
  },
  {
   "cell_type": "code",
   "execution_count": 105,
   "metadata": {},
   "outputs": [
    {
     "data": {
      "text/html": [
       "<strong id=\"disassociation\"><a class=\"ProveItLink\" href=\"proofs/disassociation/thm_proof.ipynb\">disassociation</a> (conjecture without proof):<br></strong> <a class=\"ProveItLink\" href=\"../__pv_it/theorems/c0736ccda4ca00ff8a2dd9365e36362a7a7ae2810/theorem_expr.ipynb\"><img src=\"data:image/png;base64,iVBORw0KGgoAAAANSUhEUgAAA40AAAAzBAMAAADBUvCSAAAAMFBMVEX///+IiIgiIiIQEBB2dnbu\n",
       "7u5ERETMzMzc3NwyMjK6urpmZmaYmJiqqqpUVFQAAAB6qHgnAAAAAXRSTlMAQObYZgAAAAlwSFlz\n",
       "AAAOxAAADsQBlSsOGwAAClNJREFUeNrtXH+MHFUd/97uzs7s7z28apP+4Dwh/sCahZjaEMGtoSLS\n",
       "4hTuqiSE20pYSMW4dE1Qid62QENC2u4fYkg1smqMGiFdCQWEE+5MStNQ0u2JxvqLu1j8kaBeDZce\n",
       "B836fs3Oe292d+Zu3pXt0Jfc3pu33+9n3rzPvO/3+958dwC8FW1kxIQLpSfLYrgJNZv1nryIO97F\n",
       "BG6j9EWbzYJnHmu9eSnpiXcxj/qlrJI873k8JR4aCqEr76i6J6SpoPCYrIrHa9RB9zX86f9QWU86\n",
       "I0WmA8LjfeK9msqrg34FtNsGJX90hQefZcn0KbP4XZA+GhAe3y8e3qwwCEQzPSaHdt/zoNiSeVhZ\n",
       "Xzoj/dYMBI/JnHg8rg46gSZBRjatZz0otmReUtaXzkjsTjvfeQxLdjSnEBr9HZSWZfE5dz1bJqxs\n",
       "wd0ZKT4fCB4vFi8wVVUHfRL9fVoOKwbd9WyZmDIH2QXpB4Hg8WOSLcTTc9/GXdJa5NTKrDuUrPYk\n",
       "HqT+f4vjObPWNYi1ZaxgEpeNq0si2/1H3LvUUuKRpPKqGQAe9TPO+za+Ab4qztIfV6Lu9pCqaXb4\n",
       "+30U6rxpjgrx8OjD2rwbEJXRxTXR7kZCGGljHTzl2iVbiSI9MYSLdOuOZgPAY1ryhyE0E26agCcA\n",
       "brHHUPskJAZh+IbXukJRtYg9cdchMz0H4ax2VLj5L9eu+U9Xv4dlUE/QTErZvbtEAgrl3YGIUpIE\n",
       "5KnOfj86GAAew5K9CaNOvoAHQO8nl6e9iY3tLB62OqYJ3b5tPChpI2rcMVyJNKuQyd99kd34K4A3\n",
       "EviuYNDtgLAMsxazrS5ge8ADvYAY7AJkK+FuMKQOEft8AHgcm3DyuB60BXQH02jjMtxYgNEaLMB+\n",
       "7GxCbTb7SRtVs4/xACL6DzbY3hdpvATiZzM144wF3Q4IyzBTneO6AMADrUd/XYBsJWPWRmq/zH07\n",
       "ADxeXHHYVe00JGdbPDIPchzgMOWx43AQtfha4O0qWj6iiTPFLw0Tc0nTONN9+Ygm0tZfA98H6sSm\n",
       "+LOhsXcBIkrJwq68hdTWP8LVAeDxNtlZZEE7C+nqHwQeG/CvVMW5iBB5JGpbM7bH2o54LCHfyvN4\n",
       "BrtRl9UHkamfFAY3g7RqPBCaRHE3IKKUXvm7Dd1p+lIAeFwvr92m8fhP1es8j9Fs6rIE94yHuR/s\n",
       "pzjfRNQe4Ib6BvxMLFoXeHwdvow+d5oOIM7vYhnNvN5aBdH1UAEiJR4IBavX8kB2b2wgohReAyUe\n",
       "yVk+z3gkocKfvfCYJqHTRO/QqL0lr0MQe7cOfH2mxPOozVy7730Ae0zR/RA/ZfsmqrbdltmJNE+N\n",
       "C+YQbr0eXb1xexsg2+8SGbxq4W/9a46tEIAimydNAajVG86BY6X9z5VcJtHxGuXxWXzwiBceE1gj\n",
       "Vumh5eNpueWDrZ0d2WQZdcO959qc7UNDVnVKEnoIHnTvGo4id0ttSwF6MT5YcSIJsR51o/BtfJEF\n",
       "LzzqeOru6SGzmnJsW7/Ukcc999zrvt2ZqtqzIVlvP/zGHfcccr/DcIA53p1HT0Az+mC++/b/aJ3y\n",
       "GEOXF2l44ZE8PtnSQzwmHfFelM0547o3pK24TzWbHgz1DDdn76T/7n90o7i2aTZnXYH6pp2TY0lA\n",
       "d8Lrpe7TLDNNeUwicx7zFuccQ/+rPcRjn2OTTCuoQ9/mQxdvEEaVeaCuSJkCi1evGBr6uDcew0ND\n",
       "H8j3EI8R57bpLnXoRnbJqgfK6GOlsp50RQpXGY9PA6DAie0Ql7rxmChBtJeSWBNz0Jvll4fO3blC\n",
       "g4zHfWBMt3aIccD3G+tG3P1kLXk1xyOS27eYU3yj4Ky1+3ZR5b3Pt55CpWfhQgnlGI9RMyIuT/Au\n",
       "Jehri7XU9CY4xO8D3A6fW8wp0nlnrd23Xsvdf98B2/4Jv89f4LENj6msFObsxx94/ZmaTECe5/HE\n",
       "4sKccMlZa/etVzOKPABsykIy3+t29ZzyaNlVqE4C2yHWVuEFyIvGAE21S33rZ1mBx1gSmTRt84AV\n",
       "Pw1PftYJbDeO9b/mqHELWLtt46SzxoUzq6khXY17eKRm5+VGnA91jSBR5CngbcU5sAWtC+kOcYIk\n",
       "uMzsvalCgu5UadMfBR4jJ5HUjZUxdgLtQ7pzJLnGi8xVjppd7LZQreyoceUjeg4/GCdritRe7uL6\n",
       "nM8L1gSJR0+ZzOFpi8f7UI3uEI9E8ObA5Q0dHqM8JvoKPI8GjnqegzLbrUzU9Rw8vkr0rqQRiNpd\n",
       "cJRta6Ja/MSzYgfwt9T9PgVfYHKo5pBLFLRSCvUrjk1E8haz2z6AujxkfznIitbHEx6EMnWLxzR2\n",
       "VNtb61fjLeSHjhaLxUaqpOWrPI/wD8APWNeCPmWSgKhvGnLarBQl4c0MUj4Bz1NBXAvDqNgB1MZq\n",
       "VwIDxDWHHA67cDJp8rvF4lf0b3JeNbUgX5TCPGR/OchqipdM5tE8cM+t2A5xpoLbfmTA1+h8hMez\n",
       "Ao9Ych7uGoEQHvbRSvSwWdHFh9Wk8RWiNgtXUUFcM0AymfjbY2SwsB2mcvPYw0lyuE+xB/tBJ3MN\n",
       "xTlgTUn9bfmiFOYh+8tBVlO8ZDJb++Ts1q7WNTROZRiGdHZnhK73kzVozS370ckGfeEwHvZhCFfG\n",
       "HjMhWkNVpMw+SONf6vjgUgSPBFkNdnBStM14oIprByDC5HANyQmAsRrkM3u3kd0KgPuf4ZKh5OdW\n",
       "KvOQ/eUgqyleMplfbQjzcaaiXwXIYpYb0Ur6CBj456E7HwFw8viLlwcm8LCXG/HxE5vJflC5oW+A\n",
       "cgV/0MZoCRDcvf1knrFagrRRqQprQ0sIVHvo2Aomh2tITgA0xifNMRza7sEmQ7uu+HTrGj4su0eF\n",
       "u7/+cpAV2XYPDpLktgj5ACny+JOZk+FisSbvy/GHpiUZMbMtJbBqN6YIHBOktU19Vo2dDLvmWns5\n",
       "GXBg9xcRhZ8p7hCv4W/yChObXkV5yP5ykFvrqOXKP26V/4LM409iP81BvMNUFnnU37PFkny0Ocgp\n",
       "sVp0BYKzBGkt1vwfq9GTUVRoLycDPhN5uV2njpvO+1dRHrLPHGRrZ1NF/nH3st7B40RilQlJ8MIj\n",
       "0W1X5Ron3Gtr/tTh27aAbXy8dPcrzEP2mYPMyvLlH7fujNMOHrtv/9SWYaH7V5+vjljGPGSfOchL\n",
       "yz+mZ/aUf9y6z4OQh5zIOXlUlIcc8peDvLT8YyJDlFzzj62SHgwAj/EFh11VlYfsMwe5dWrwn3/c\n",
       "fZkbhN/pyPe0wjxknznIDGRi+fKPhVDvfOdRClgV5iH7zEG2toaXL/+YFfozgYD9rlxhHrLPHGRW\n",
       "ljH/mHmWYPyuPCktDBXmIYPo2mjxnIPsF8Q9/5gZm+lA8Ajf6bCx7D8PuR0F3nOQ/YK45x/TcjAY\n",
       "712BsjjJVOYhg48cZN8g7vnHtKyDYPDYJ16AyjzkpRZ1r+lwz2QOzHvJ5PcE7nrHO3SgrAzKPZP5\n",
       "57BoHg/35nt0Y40e69C5zEHWacKANrLVO48X3qPbe+Vm+z26/wfRrZyO9USjPAAAAABJRU5ErkJg\n",
       "gg==\n",
       "\" style=\"display:inline;vertical-align:middle;\" /></a><br>"
      ],
      "text/plain": [
       "<IPython.core.display.HTML object>"
      ]
     },
     "metadata": {},
     "output_type": "display_data"
    }
   ],
   "source": [
    "disassociation = \\\n",
    "    Forall((i,j,k), \n",
    "           Forall((a_1_to_i,b_1_to_j,c_1_to_k), \n",
    "                  Equals(Mult(a_1_to_i, Mult(b_1_to_j), c_1_to_k),\n",
    "                         Mult(a_1_to_i, b_1_to_j, c_1_to_k)) \\\n",
    "                  .with_wrapping_at(2),\n",
    "                  domain=Complex),\n",
    "           domain=Natural)"
   ]
  },
  {
   "cell_type": "code",
   "execution_count": 106,
   "metadata": {},
   "outputs": [
    {
     "name": "stdout",
     "output_type": "stream",
     "text": [
      "Adding theorem mult_in_zero_set_bin to proveit.numbers.multiplication theory\n",
      "Adding theorem mult_in_zero_set to proveit.numbers.multiplication theory\n",
      "mult_in_zero_set_bin expression notebook is being updated\n",
      "mult_in_zero_set expression notebook is being updated\n",
      "These theorems may now be imported from the theory package: proveit.numbers.multiplication\n"
     ]
    }
   ],
   "source": [
    "%end theorems"
   ]
  },
  {
   "cell_type": "code",
   "execution_count": null,
   "metadata": {},
   "outputs": [],
   "source": []
  }
 ],
 "metadata": {
  "kernelspec": {
   "display_name": "Python 3",
   "language": "python",
   "name": "python3"
  },
  "language_info": {
   "codemirror_mode": {
    "name": "ipython",
    "version": 3
   },
   "file_extension": ".py",
   "mimetype": "text/x-python",
   "name": "python",
   "nbconvert_exporter": "python",
   "pygments_lexer": "ipython3",
   "version": "3.7.3"
  }
 },
 "nbformat": 4,
 "nbformat_minor": 1
}
