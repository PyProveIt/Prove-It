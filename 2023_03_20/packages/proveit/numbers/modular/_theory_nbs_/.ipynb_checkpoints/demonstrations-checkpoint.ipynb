{
 "cells": [
  {
   "cell_type": "markdown",
   "metadata": {},
   "source": [
    "Demonstrations for the theory of <a class=\"ProveItLink\" href=\"theory.ipynb\">proveit.numbers.modular</a>\n",
    "========"
   ]
  },
  {
   "cell_type": "code",
   "execution_count": 1,
   "metadata": {},
   "outputs": [],
   "source": [
    "import proveit\n",
    "from proveit import a, b, c, d, x, L\n",
    "from proveit.logic import Equals, InSet\n",
    "from proveit.numbers import NaturalPos, Real, RealPos, Interval, IntervalCO\n",
    "from proveit.numbers import Abs, Add, ModAbs, Mod, subtract, one, zero\n",
    "%begin demonstrations"
   ]
  },
  {
   "cell_type": "markdown",
   "metadata": {},
   "source": [
    "# Modular Arithmetic $a \\thinspace\\text{mod}\\thinspace b$, $|a|_{\\text{mod}\\thinspace b}$"
   ]
  },
  {
   "cell_type": "markdown",
   "metadata": {},
   "source": [
    "<div style=\"line-height:1.4; font-size:14pt\">\n",
    "\n",
    "<a href='#introduction'>Introduction</a><br>\n",
    "<a href='#simple_expressions'>Simple Expressions involving modular arithmetic $(a \\thinspace\\text{mod}\\thinspace b)$, $|a|_{\\text{mod}\\thinspace b}$</a><br>\n",
    "<a href='#common_attributes'>Common Attributes of the Mod $(a \\thinspace\\text{mod}\\thinspace b)$ Expression</a><br>\n",
    "<a href='#axioms'>Axioms</a><br>\n",
    "<a href='#further_demonstrations'>Further Demonstrations</a><br>\n",
    "    <ol>\n",
    "        <li><a href='#demo01'>TBA</a></li>\n",
    "        <li><a href='#demo02'>TBA</a></li>\n",
    "        <li><a href='#demo03'>TBA</a></li>\n",
    "    </ol>\n",
    "\n",
    "</div>\n"
   ]
  },
  {
   "cell_type": "markdown",
   "metadata": {},
   "source": [
    "## Introduction [under construction] <a id='introduction'></a>"
   ]
  },
  {
   "cell_type": "markdown",
   "metadata": {},
   "source": [
    "<font size=4>Some introductory comments here about the importance of modular arithmetic and its representation within Prove-It.</font>"
   ]
  },
  {
   "cell_type": "markdown",
   "metadata": {},
   "source": [
    "## Simple Expressions Involving Modular Arithmetic ($a \\thinspace\\text{mod}\\thinspace b$ or $|a| \\thinspace\\text{mod}\\thinspace b$)<a id='simple_expressions'></a>"
   ]
  },
  {
   "cell_type": "markdown",
   "metadata": {},
   "source": [
    "<font size=4>It is straightforward to construct modular arithmetic expressions and absolute value expressions. Here are some basic examples of such expressions:</font>"
   ]
  },
  {
   "cell_type": "code",
   "execution_count": 2,
   "metadata": {},
   "outputs": [
    {
     "data": {
      "text/html": [
       "<a class=\"ProveItLink\" href=\"../__pv_it/demonstrations/b0f061f2cad9c22402067d497aec2bf3477e06db0/expr.ipynb\"><img src=\"data:image/png;base64,iVBORw0KGgoAAAANSUhEUgAAAEoAAAAOBAMAAAB6N5c4AAAAMFBMVEX////MzMwyMjKqqqoiIiJm\n",
       "ZmaYmJju7u5EREQQEBC6urqIiIh2dnZUVFTc3NwAAAAqL9KcAAAAAXRSTlMAQObYZgAAAAlwSFlz\n",
       "AAAOxAAADsQBlSsOGwAAASFJREFUKM9jYMAJtswCUxVTGPABvl8QWhWvKgaoqs/EqOL6TowqHgew\n",
       "9Xf2bQDRQlNf79iwescCBvborQuAkqc3QlQx3d5rwMCw8gEHxExfA8ZvC9gmMIg8YOhmYJ/MwANR\n",
       "Va/O/o+BfRoDK9hMhk4Ghh8MjB8ZfBgY5AU4FGB+tC9gmM3A+oGB5QCY28HA8AeoihHoJ/4D9RsY\n",
       "2CGqgkDCnA0M9Qtgqn4DVTEDJfkb5OGqfBi4PjMANeUzIKsCmxWAMOszA+t3hnoDhkvMD5BUMUxl\n",
       "YFi/gKkB5q6PDJUJDBwbmF1ZwVwNsKpfDJICDDoMfLMYeL+Bha8xtDIwsN8++HYjiCf786LFzwuH\n",
       "vhzgizkLdGjp6Y1fLoDEa48mMAAAp0RjZxEo4YsAAAAASUVORK5CYII=\n",
       "\" style=\"display:inline;vertical-align:middle;\" /></a>"
      ],
      "text/plain": [
       "a mod b"
      ]
     },
     "execution_count": 2,
     "metadata": {},
     "output_type": "execute_result"
    }
   ],
   "source": [
    "# basic modular expression\n",
    "Mod(a, b)"
   ]
  },
  {
   "cell_type": "code",
   "execution_count": 3,
   "metadata": {},
   "outputs": [
    {
     "data": {
      "text/html": [
       "<a class=\"ProveItLink\" href=\"../__pv_it/demonstrations/a5880d4291150732db1a1ec45eb66e5e8a3cac0f0/expr.ipynb\"><img src=\"data:image/png;base64,iVBORw0KGgoAAAANSUhEUgAAAD4AAAAWBAMAAABqEDIsAAAAMFBMVEX///8yMjKqqqoiIiJmZmaY\n",
       "mJju7u5EREQQEBBUVFTMzMyIiIi6urp2dnbc3NwAAABRd72LAAAAAXRSTlMAQObYZgAAAAlwSFlz\n",
       "AAAOxAAADsQBlSsOGwAAAPZJREFUKM9jeMAAAXwM2MEdKM17YMjK883dtwGf/IkH7N/wyLO1MrAY\n",
       "4JFn+cDAfAGPPEcBQ/4BPPL5GxjiMd2/Q4GBYWEBWF6BYSLTA3R5RqA85wWQPPsGJhMWDP3sQHmO\n",
       "BWD3z771chdQnq140c7UyAMM3NHXGLi3bgTKr989DTn83iswFjAZMNQwJDP4MnAA5TcnbEGRT2C/\n",
       "wNXA9YGBfd83sP2lDIEo8gycG7gaWBsYOH0+gOW7GDwx5YH6GaH6PzA0MeyCynMvAMqzA+UZhBhe\n",
       "JExleAGUN2MtQPIR23yHCJmXfxl4d/sx8G7dLMXAsGQ3AwD792G8Z/q04QAAAABJRU5ErkJggg==\n",
       "\" style=\"display:inline;vertical-align:middle;\" /></a>"
      ],
      "text/plain": [
       "|a|_{mod b}"
      ]
     },
     "execution_count": 3,
     "metadata": {},
     "output_type": "execute_result"
    }
   ],
   "source": [
    "# basic ModAbs expression\n",
    "ModAbs(a, b)"
   ]
  },
  {
   "cell_type": "markdown",
   "metadata": {},
   "source": [
    "## Common Attributes of a Mod Expression <a id='common_attributes'></a>"
   ]
  },
  {
   "cell_type": "markdown",
   "metadata": {},
   "source": [
    "<font size=4>Let's define a simple Mod expression, $(a+b) \\thinspace\\text{mod}\\thinspace c$, and look at some of its attributes.</font>"
   ]
  },
  {
   "cell_type": "code",
   "execution_count": 4,
   "metadata": {},
   "outputs": [
    {
     "data": {
      "text/html": [
       "<strong id=\"a_plus_b_mod_c\">a_plus_b_mod_c:</strong> <a class=\"ProveItLink\" href=\"../__pv_it/demonstrations/93cf55c7e586eb67b1ddf1fe007dbb2812cb0a380/expr.ipynb\"><img src=\"data:image/png;base64,iVBORw0KGgoAAAANSUhEUgAAAH0AAAAVBAMAAACZCfwhAAAAMFBMVEX////MzMxUVFRERES6uroi\n",
       "IiIQEBCYmJhmZmYyMjLu7u52dnaqqqqIiIjc3NwAAACW8nlqAAAAAXRSTlMAQObYZgAAAAlwSFlz\n",
       "AAAOxAAADsQBlSsOGwAAAd1JREFUOMuNlD1Iw0AUx/9ttE3T2AahgpM6igoBwU3J5FZahIqgQwdF\n",
       "B4duutnNoYhFB0GXgotbo+AgUgg4iUtKEUVQguAoKFrFL/DlmtqeJJAbcnfvvd+9r7sAsOA+vOT/\n",
       "RpfhoUj64y9cZNJYmg7OeSGX822mRTeLSJ4+u1587LW1FjkvHc4ubie16hlzGx/iFLLZmFMlW1Xy\n",
       "wZ+78scsiZwPvmDnM3Rn8vzW7TAQ7W9sepcea2aypkHauNZIXKk6fOVKwQ7Nk5bwyfHSR6lsIdws\n",
       "7ZQReNfCWSQsjENaRrTBPxiiijmyXoSY5nj5EyETctbhx4AXBJ4xC/QpQrFZ/1nbiFopPqFTt1uR\n",
       "yUwvZDIUtVhEXEfgyeFHgS/iA9/UGL1sQmK8yGImPqSirHH+6biUgY5si/8hXiYsrvY1ecJoUPx0\n",
       "4hpff2r/ZglymueZ//yf/zKzHaeFgUHZ4niFaoKwyvNYoouhRVQn/zi1V8MRIJjyjMj5D+YEusCi\n",
       "7vDbjH9Fj4I9xOYRfGf5q4gqSFD9Rw7vq3z/htbtKjhF6X4bOHvrP6nrscIRiQ4q1Tq7GacrN2Sk\n",
       "uN2/Rn/9PN9w3u39sLHu6/1PeL5S1Re/76UQ/P3AYqaH4s4P/QsEQYrBWrG1RwAAAABJRU5ErkJg\n",
       "gg==\n",
       "\" style=\"display:inline;vertical-align:middle;\" /></a><br>"
      ],
      "text/plain": [
       "a_plus_b_mod_c: (a + b) mod c"
      ]
     },
     "execution_count": 4,
     "metadata": {},
     "output_type": "execute_result"
    }
   ],
   "source": [
    "a_plus_b_mod_c = Mod(Add(a, b), c)"
   ]
  },
  {
   "cell_type": "code",
   "execution_count": 5,
   "metadata": {},
   "outputs": [
    {
     "data": {
      "text/html": [
       "<strong id=\"a_mod_b\">a_mod_b:</strong> <a class=\"ProveItLink\" href=\"../__pv_it/demonstrations/b0f061f2cad9c22402067d497aec2bf3477e06db0/expr.ipynb\"><img src=\"data:image/png;base64,iVBORw0KGgoAAAANSUhEUgAAAEoAAAAOBAMAAAB6N5c4AAAAMFBMVEX////MzMwyMjKqqqoiIiJm\n",
       "ZmaYmJju7u5EREQQEBC6urqIiIh2dnZUVFTc3NwAAAAqL9KcAAAAAXRSTlMAQObYZgAAAAlwSFlz\n",
       "AAAOxAAADsQBlSsOGwAAASFJREFUKM9jYMAJtswCUxVTGPABvl8QWhWvKgaoqs/EqOL6TowqHgew\n",
       "9Xf2bQDRQlNf79iwescCBvborQuAkqc3QlQx3d5rwMCw8gEHxExfA8ZvC9gmMIg8YOhmYJ/MwANR\n",
       "Va/O/o+BfRoDK9hMhk4Ghh8MjB8ZfBgY5AU4FGB+tC9gmM3A+oGB5QCY28HA8AeoihHoJ/4D9RsY\n",
       "2CGqgkDCnA0M9Qtgqn4DVTEDJfkb5OGqfBi4PjMANeUzIKsCmxWAMOszA+t3hnoDhkvMD5BUMUxl\n",
       "YFi/gKkB5q6PDJUJDBwbmF1ZwVwNsKpfDJICDDoMfLMYeL+Bha8xtDIwsN8++HYjiCf786LFzwuH\n",
       "vhzgizkLdGjp6Y1fLoDEa48mMAAAp0RjZxEo4YsAAAAASUVORK5CYII=\n",
       "\" style=\"display:inline;vertical-align:middle;\" /></a><br>"
      ],
      "text/plain": [
       "a_mod_b: a mod b"
      ]
     },
     "execution_count": 5,
     "metadata": {},
     "output_type": "execute_result"
    }
   ],
   "source": [
    "a_mod_b = Mod(a, b)"
   ]
  },
  {
   "cell_type": "markdown",
   "metadata": {},
   "source": [
    "<font size=4>We can use the `expr_info()` method to look at the how our mod expression is structured:</font>"
   ]
  },
  {
   "cell_type": "code",
   "execution_count": 6,
   "metadata": {},
   "outputs": [
    {
     "data": {
      "text/html": [
       "<table><tr><th>&nbsp;</th><th>core type</th><th>sub-expressions</th><th>expression</th></tr>\n",
       "<tr><td>0</td><td>Operation</td><td>operator:&nbsp;1<br>operands:&nbsp;2<br></td><td><a class=\"ProveItLink\" href=\"../__pv_it/demonstrations/93cf55c7e586eb67b1ddf1fe007dbb2812cb0a380/expr.ipynb\"><img src=\"data:image/png;base64,iVBORw0KGgoAAAANSUhEUgAAAH0AAAAVBAMAAACZCfwhAAAAMFBMVEX////MzMxUVFRERES6uroi\n",
       "IiIQEBCYmJhmZmYyMjLu7u52dnaqqqqIiIjc3NwAAACW8nlqAAAAAXRSTlMAQObYZgAAAAlwSFlz\n",
       "AAAOxAAADsQBlSsOGwAAAd1JREFUOMuNlD1Iw0AUx/9ttE3T2AahgpM6igoBwU3J5FZahIqgQwdF\n",
       "B4duutnNoYhFB0GXgotbo+AgUgg4iUtKEUVQguAoKFrFL/DlmtqeJJAbcnfvvd+9r7sAsOA+vOT/\n",
       "RpfhoUj64y9cZNJYmg7OeSGX822mRTeLSJ4+u1587LW1FjkvHc4ubie16hlzGx/iFLLZmFMlW1Xy\n",
       "wZ+78scsiZwPvmDnM3Rn8vzW7TAQ7W9sepcea2aypkHauNZIXKk6fOVKwQ7Nk5bwyfHSR6lsIdws\n",
       "7ZQReNfCWSQsjENaRrTBPxiiijmyXoSY5nj5EyETctbhx4AXBJ4xC/QpQrFZ/1nbiFopPqFTt1uR\n",
       "yUwvZDIUtVhEXEfgyeFHgS/iA9/UGL1sQmK8yGImPqSirHH+6biUgY5si/8hXiYsrvY1ecJoUPx0\n",
       "4hpff2r/ZglymueZ//yf/zKzHaeFgUHZ4niFaoKwyvNYoouhRVQn/zi1V8MRIJjyjMj5D+YEusCi\n",
       "7vDbjH9Fj4I9xOYRfGf5q4gqSFD9Rw7vq3z/htbtKjhF6X4bOHvrP6nrscIRiQ4q1Tq7GacrN2Sk\n",
       "uN2/Rn/9PN9w3u39sLHu6/1PeL5S1Re/76UQ/P3AYqaH4s4P/QsEQYrBWrG1RwAAAABJRU5ErkJg\n",
       "gg==\n",
       "\" style=\"display:inline;vertical-align:middle;\" /></a></td></tr>\n",
       "<tr><td>1</td><td>Literal</td><td></td><td><a class=\"ProveItLink\" href=\"../__pv_it/common/f61fe43eeba657b57e4fe7773885cfa81fe3dfc20/expr.ipynb\"><img src=\"data:image/png;base64,iVBORw0KGgoAAAANSUhEUgAAACcAAAAOBAMAAABeLhj4AAAAMFBMVEX////u7u52dnaYmJiqqqpU\n",
       "VFQiIiK6urpERESIiIjc3NxmZmYQEBAyMjLMzMwAAABCnO4PAAAAAXRSTlMAQObYZgAAAAlwSFlz\n",
       "AAAOxAAADsQBlSsOGwAAAKRJREFUGNNjYEAH044zYAKu71gEGUgSfHt65YwJlTMKGBh3zi5gYGDS\n",
       "nAdSmerA97mA+QDDswUMnQyMRxiYQII9DAw/GPj+MSQxMLx/wHEBYnsHA8MnoCDfFwYGfgX5CQyM\n",
       "UMGfQEEWIJu/4T2qIFjlBjSVDKcZGOoLeBsgZt4AC35nePOA4RID13EG1s8MDE//xHn8CdD9psC1\n",
       "SRXoTmnNed8CAII5QpXziNmmAAAAAElFTkSuQmCC\n",
       "\" style=\"display:inline;vertical-align:middle;\" /></a></td></tr>\n",
       "<tr><td>2</td><td>ExprTuple</td><td>3, 4</td><td><a class=\"ProveItLink\" href=\"../__pv_it/demonstrations/eeb22c6db9038115f0aec984f46f217559ef02800/expr.ipynb\"><img src=\"data:image/png;base64,iVBORw0KGgoAAAANSUhEUgAAAEsAAAAVBAMAAAD85A5eAAAAMFBMVEX////MzMxUVFRERES6uroi\n",
       "IiIQEBCYmJhmZmYyMjLu7u52dnaqqqqIiIjc3NwAAACW8nlqAAAAAXRSTlMAQObYZgAAAAlwSFlz\n",
       "AAAOxAAADsQBlSsOGwAAAVRJREFUKM+FUjFLw0AU/jQ2OdMkzeLeVaqQyU3J5CbNEhF16KC4ZtPN\n",
       "bA4OBhfBKeAPSBScRMiqLnESBEsQune1k+8uDeQgJW/Ife/dl+/e++4AFGgJQTCzNtoe/3w0bOhb\n",
       "Xi0zA6pETQKrYT27B1hQL6zMs57UyQWgSipGXq7DuF5VY7w10p7lFgJc02INxrlMu/3ZmFNev2x0\n",
       "+7gjuFsoM4mm/8VJaeckYw60CMdUPAPzJJoxg1qiIw6MEU5o2Ck6KZWY7++f+n6fUIQer4CJU5am\n",
       "nKY6SFxJjf4aCktoi9s04ocmOS7lScm2G2FJInLDwzbhDOtGIdFs6lfngOx2oTl4ApTcOGCS2nKg\n",
       "hEjoGmnMrg2WYo0m3Xz8/ZQNGVxRg4eEXs6/Cbno2E23IOK9AhNAC5uuXkRaAZLGzqLXqFfKFnfl\n",
       "YRHNrIDCXbDytkc+Bv4B+PZSZ1EYHoEAAAAASUVORK5CYII=\n",
       "\" style=\"display:inline;vertical-align:middle;\" /></a></td></tr>\n",
       "<tr><td>3</td><td>Operation</td><td>operator:&nbsp;5<br>operands:&nbsp;6<br></td><td><a class=\"ProveItLink\" href=\"../__pv_it/demonstrations/9df4b739076f4e12b1230310c3d5fc9349486de20/expr.ipynb\"><img src=\"data:image/png;base64,iVBORw0KGgoAAAANSUhEUgAAAC0AAAAQBAMAAABw0OvaAAAAMFBMVEX////MzMwyMjKqqqoiIiJm\n",
       "ZmaYmJju7u5EREQQEBC6urqIiIh2dnZUVFTc3NwAAAAqL9KcAAAAAXRSTlMAQObYZgAAAAlwSFlz\n",
       "AAAOxAAADsQBlSsOGwAAAKZJREFUGNNjYMAA7J0ODFgBUwAqnysBQvMboIozb4DQ6wuwix8Bk3x3\n",
       "9m1AFdfdfRlIrnzA8R1FnP1TQf0DBvZpDKwOKOLM3xk4NzCwfmBgOQDksbq4eE5xcbkAZCkw8B9g\n",
       "4GxgqF+Aoh6obL0BQ/0GhnxU9wCdH1/AUG/AcIn5AYq4ANBOBo4NzK6sKOp5EziAAcF+++Dbjaju\n",
       "vBOG3b/oABZuIAAAkScsjHSDwtkAAAAASUVORK5CYII=\n",
       "\" style=\"display:inline;vertical-align:middle;\" /></a></td></tr>\n",
       "<tr><td>4</td><td>Variable</td><td></td><td><a class=\"ProveItLink\" href=\"../../../__pv_it/common/ceef4280a2f1cc604b455b54e735507244cc62cd0/expr.ipynb\"><img src=\"data:image/png;base64,iVBORw0KGgoAAAANSUhEUgAAAAkAAAAJBAMAAAASvxsjAAAAKlBMVEX///+6urru7u4QEBBERERm\n",
       "ZmaqqqoiIiLc3NzMzMyYmJiIiIh2dnYAAAD4G3PmAAAAAXRSTlMAQObYZgAAAAlwSFlzAAAOxAAA\n",
       "DsQBlSsOGwAAADdJREFUCNdjYGA4vWsCA0N7AqsDA0MNA/MGBtZLDEDA7AAidTeASN4FDAwCDEAF\n",
       "PECVZ1ZtYgAAGvUKLuGCIxMAAAAASUVORK5CYII=\n",
       "\" style=\"display:inline;vertical-align:middle;\" /></a></td></tr>\n",
       "<tr><td>5</td><td>Literal</td><td></td><td><a class=\"ProveItLink\" href=\"../../addition/__pv_it/common/4b7effaab3619a1c2c38fe2dee8601df8ec714590/expr.ipynb\"><img src=\"data:image/png;base64,iVBORw0KGgoAAAANSUhEUgAAAA4AAAAOBAMAAADtZjDiAAAAHlBMVEX///9UVFQQEBAiIiJmZmaI\n",
       "iIiqqqqYmJi6uroAAAAAFVhYAAAAAXRSTlMAQObYZgAAAAlwSFlzAAAOxAAADsQBlSsOGwAAAB9J\n",
       "REFUCNdjYGBgaGeAgFRiaGdjYyVjY0Oi1SPRIHsAgDEGyG9xCpgAAAAASUVORK5CYII=\n",
       "\" style=\"display:inline;vertical-align:middle;\" /></a></td></tr>\n",
       "<tr><td>6</td><td>ExprTuple</td><td>7, 8</td><td><a class=\"ProveItLink\" href=\"../../ordering/__pv_it/theorems/3dcd5ceea6334d8cb48fe14fdae236293aa9a6050/expr.ipynb\"><img src=\"data:image/png;base64,iVBORw0KGgoAAAANSUhEUgAAACkAAAAVBAMAAAAp9toTAAAAMFBMVEX////MzMxUVFRERES6uroi\n",
       "IiIQEBCYmJhmZmYyMjLu7u52dnaqqqqIiIjc3NwAAACW8nlqAAAAAXRSTlMAQObYZgAAAAlwSFlz\n",
       "AAAOxAAADsQBlSsOGwAAAQ9JREFUGNNdkSFPw0AUx39Q2pVx62bwWDJIqnCQKRxZJSETE0uwlTjm\n",
       "EAgaDAmqCR+ghQRfC5jyAVgaEvwsU7y77Ui7E+/+73cv/3vvDqhoLpN3ijV6psNHDbSPIimLRST1\n",
       "uu2phEfw4zrtarsr8Bqew1SCl/LWoK/GJuZWtqA/K5f0/usAdvZ4EH1aOYtlD79pVtFKGIm+xI8M\n",
       "VQu8EjVmIm3McXND/YRuzsZcUy8kGxgqh8OCrbF2yEqu/9u9S1ERx0IL9lXV1rQnd9AKeQGnVOc+\n",
       "mYy+GTsysp+zKz0cPn9/4l6I6t9o9wFuz871bsWPmExtkluh60/s266GJgglPK2Sji119BcF5doP\n",
       "zeAPz407TZ15g6gAAAAASUVORK5CYII=\n",
       "\" style=\"display:inline;vertical-align:middle;\" /></a></td></tr>\n",
       "<tr><td>7</td><td>Variable</td><td></td><td><a class=\"ProveItLink\" href=\"../../../__pv_it/common/c06c606ec12678c58933ac85412ecadc2ae28be60/expr.ipynb\"><img src=\"data:image/png;base64,iVBORw0KGgoAAAANSUhEUgAAAAsAAAAJBAMAAAAWSsseAAAAMFBMVEX////MzMwyMjKqqqoiIiJm\n",
       "ZmaYmJju7u5EREQQEBC6urqIiIh2dnZUVFTc3NwAAAAqL9KcAAAAAXRSTlMAQObYZgAAAAlwSFlz\n",
       "AAAOxAAADsQBlSsOGwAAAEdJREFUCNdjYOC7s28DAwPDygcc3xkY2KcxsDowMLB+YGA5wMDA2cBQ\n",
       "v4CBoX4DQz5QRb0BwyXmBwwcG5hdWYEqbx98u5EBABisEWzRR9jxAAAAAElFTkSuQmCC\n",
       "\" style=\"display:inline;vertical-align:middle;\" /></a></td></tr>\n",
       "<tr><td>8</td><td>Variable</td><td></td><td><a class=\"ProveItLink\" href=\"../../../__pv_it/common/195236b98c6c564a75b5dbada74b173bc52d5c3e0/expr.ipynb\"><img src=\"data:image/png;base64,iVBORw0KGgoAAAANSUhEUgAAAAkAAAAOBAMAAAAPuiubAAAAMFBMVEX///+YmJjMzMzc3NyIiIhU\n",
       "VFR2dna6urqqqqpmZmYyMjIiIiIQEBBERETu7u4AAAD7tRWPAAAAAXRSTlMAQObYZgAAAAlwSFlz\n",
       "AAAOxAAADsQBlSsOGwAAAFBJREFUCNdj4LuzgQEIuCaASP4GEFn/AERmgwiGpS4RDAx8vx68N2Dg\n",
       "+MfA48DAuYCBP4GBO4GhvgGkfP4DBn4FvoMMDKwCvEAj+MImMjAAAMxHEV3T4g9SAAAAAElFTkSu\n",
       "QmCC\n",
       "\" style=\"display:inline;vertical-align:middle;\" /></a></td></tr>\n",
       "</table>\n"
      ],
      "text/plain": [
       "0. (a + b) mod c\n",
       "   core type: Operation\n",
       "   operator: 1\n",
       "   operands: 2\n",
       "1. mod\n",
       "   core type: Literal\n",
       "   sub-expressions: \n",
       "2. (a + b, c)\n",
       "   core type: ExprTuple\n",
       "   sub-expressions: 3, 4\n",
       "3. a + b\n",
       "   core type: Operation\n",
       "   operator: 5\n",
       "   operands: 6\n",
       "4. c\n",
       "   core type: Variable\n",
       "   sub-expressions: \n",
       "5. +\n",
       "   core type: Literal\n",
       "   sub-expressions: \n",
       "6. (a, b)\n",
       "   core type: ExprTuple\n",
       "   sub-expressions: 7, 8\n",
       "7. a\n",
       "   core type: Variable\n",
       "   sub-expressions: \n",
       "8. b\n",
       "   core type: Variable\n",
       "   sub-expressions: "
      ]
     },
     "execution_count": 6,
     "metadata": {},
     "output_type": "execute_result"
    }
   ],
   "source": [
    "a_plus_b_mod_c.expr_info()"
   ]
  },
  {
   "cell_type": "markdown",
   "metadata": {},
   "source": [
    "<font size=4>The operator for a Mod expression is simply the `mod` string:</font>"
   ]
  },
  {
   "cell_type": "code",
   "execution_count": 7,
   "metadata": {},
   "outputs": [
    {
     "data": {
      "text/html": [
       "<a class=\"ProveItLink\" href=\"../__pv_it/common/f61fe43eeba657b57e4fe7773885cfa81fe3dfc20/expr.ipynb\"><img src=\"data:image/png;base64,iVBORw0KGgoAAAANSUhEUgAAACcAAAAOBAMAAABeLhj4AAAAMFBMVEX////u7u52dnaYmJiqqqpU\n",
       "VFQiIiK6urpERESIiIjc3NxmZmYQEBAyMjLMzMwAAABCnO4PAAAAAXRSTlMAQObYZgAAAAlwSFlz\n",
       "AAAOxAAADsQBlSsOGwAAAKRJREFUGNNjYEAH044zYAKu71gEGUgSfHt65YwJlTMKGBh3zi5gYGDS\n",
       "nAdSmerA97mA+QDDswUMnQyMRxiYQII9DAw/GPj+MSQxMLx/wHEBYnsHA8MnoCDfFwYGfgX5CQyM\n",
       "UMGfQEEWIJu/4T2qIFjlBjSVDKcZGOoLeBsgZt4AC35nePOA4RID13EG1s8MDE//xHn8CdD9psC1\n",
       "SRXoTmnNed8CAII5QpXziNmmAAAAAElFTkSuQmCC\n",
       "\" style=\"display:inline;vertical-align:middle;\" /></a>"
      ],
      "text/plain": [
       "mod"
      ]
     },
     "execution_count": 7,
     "metadata": {},
     "output_type": "execute_result"
    }
   ],
   "source": [
    "a_plus_b_mod_c.operator"
   ]
  },
  {
   "cell_type": "markdown",
   "metadata": {},
   "source": [
    "<font size=4>We can get a tuple of the operands and a list of the variables. We can also get a separate list of the *free* variables in the expression (of course, in this expression, all the variables are also free variables):</font>"
   ]
  },
  {
   "cell_type": "code",
   "execution_count": 8,
   "metadata": {},
   "outputs": [
    {
     "data": {
      "text/html": [
       "<a class=\"ProveItLink\" href=\"../__pv_it/demonstrations/eeb22c6db9038115f0aec984f46f217559ef02800/expr.ipynb\"><img src=\"data:image/png;base64,iVBORw0KGgoAAAANSUhEUgAAAEsAAAAVBAMAAAD85A5eAAAAMFBMVEX////MzMxUVFRERES6uroi\n",
       "IiIQEBCYmJhmZmYyMjLu7u52dnaqqqqIiIjc3NwAAACW8nlqAAAAAXRSTlMAQObYZgAAAAlwSFlz\n",
       "AAAOxAAADsQBlSsOGwAAAVRJREFUKM+FUjFLw0AU/jQ2OdMkzeLeVaqQyU3J5CbNEhF16KC4ZtPN\n",
       "bA4OBhfBKeAPSBScRMiqLnESBEsQune1k+8uDeQgJW/Ife/dl+/e++4AFGgJQTCzNtoe/3w0bOhb\n",
       "Xi0zA6pETQKrYT27B1hQL6zMs57UyQWgSipGXq7DuF5VY7w10p7lFgJc02INxrlMu/3ZmFNev2x0\n",
       "+7gjuFsoM4mm/8VJaeckYw60CMdUPAPzJJoxg1qiIw6MEU5o2Ck6KZWY7++f+n6fUIQer4CJU5am\n",
       "nKY6SFxJjf4aCktoi9s04ocmOS7lScm2G2FJInLDwzbhDOtGIdFs6lfngOx2oTl4ApTcOGCS2nKg\n",
       "hEjoGmnMrg2WYo0m3Xz8/ZQNGVxRg4eEXs6/Cbno2E23IOK9AhNAC5uuXkRaAZLGzqLXqFfKFnfl\n",
       "YRHNrIDCXbDytkc+Bv4B+PZSZ1EYHoEAAAAASUVORK5CYII=\n",
       "\" style=\"display:inline;vertical-align:middle;\" /></a>"
      ],
      "text/plain": [
       "(a + b, c)"
      ]
     },
     "execution_count": 8,
     "metadata": {},
     "output_type": "execute_result"
    }
   ],
   "source": [
    "a_plus_b_mod_c.operands"
   ]
  },
  {
   "cell_type": "code",
   "execution_count": 9,
   "metadata": {},
   "outputs": [
    {
     "data": {
      "text/plain": [
       "{a, b, c}"
      ]
     },
     "execution_count": 9,
     "metadata": {},
     "output_type": "execute_result"
    }
   ],
   "source": [
    "from proveit import used_vars, free_vars\n",
    "used_vars(a_plus_b_mod_c)"
   ]
  },
  {
   "cell_type": "code",
   "execution_count": 10,
   "metadata": {},
   "outputs": [
    {
     "data": {
      "text/plain": [
       "{a, b}"
      ]
     },
     "execution_count": 10,
     "metadata": {},
     "output_type": "execute_result"
    }
   ],
   "source": [
    "free_vars(a_mod_b)"
   ]
  },
  {
   "cell_type": "markdown",
   "metadata": {},
   "source": [
    "<font size=4>We can replace selected variables in our expression with other variables:</font>"
   ]
  },
  {
   "cell_type": "code",
   "execution_count": 11,
   "metadata": {},
   "outputs": [
    {
     "data": {
      "text/html": [
       "<a class=\"ProveItLink\" href=\"../__pv_it/demonstrations/9897d1b694b2f89aef76fa557675533dc54886ab0/expr.ipynb\"><img src=\"data:image/png;base64,iVBORw0KGgoAAAANSUhEUgAAAH0AAAAVBAMAAACZCfwhAAAAMFBMVEX////MzMxUVFRERES6uroi\n",
       "IiIQEBCYmJhmZmYyMjLu7u52dnaqqqqIiIjc3NwAAACW8nlqAAAAAXRSTlMAQObYZgAAAAlwSFlz\n",
       "AAAOxAAADsQBlSsOGwAAAepJREFUOMuNlD1Iw1AQx/8xtU3T2ARBwUkdRYWA4FbJ5CaKUBF06KDo\n",
       "4NBNN90cRCwKKroUXNwaBQeRQsBJXFJEFEEJgqOg+IVf4OUltXliIG/IJe/d7+7efQSAg/9X2P6f\n",
       "1WCFHAxE40/dh7C+ENyTe4fIcD4MOZ8IqBaYUPkokq65rTA+/Vx7lzwvg0UmYr5PZm4uNOYAH/fE\n",
       "gScUGzVz8WIE/sQTmzzPzCXzEfgl9z6dlS+eX73uAlJt3kfL9P2ZPXBmQF6+NGi7XPH58oWGDZL9\n",
       "jvjB8fJ7seQgUfB9DFvCm5HIoclBBvIMUh5/Z0k6xkl7ClKB45UPxG0oOZ/vBZ4gPGIMaNXEQjX/\n",
       "Y64SlVJ6QL3pliKbHZnMZilqMqeaEB58vgf4JF6gS6pmyYbMeInFTHxcR8ng/JO5QQuxXI3/Jl4h\n",
       "TNVbqzxhtCh+sjgPjqfyrxShDPE887/w67/EdDP0YqFDcTheo5wgofM8pqkxjKTu31+l8hrYB0Rb\n",
       "GZU4/3V5kRpYMn1+jfHPaNawjfQE6t7Y/XWkNDRR/rv3bit8/ToX3Sz4SWl8bT9+bTt8MdNL+7S1\n",
       "W668sM44mr0iJS3YWNX+8eobZXwT3ODGgi27GGn++0KnVI/E74QdiNF+YGk75OAmCv0D4luPQsYz\n",
       "N4sAAAAASUVORK5CYII=\n",
       "\" style=\"display:inline;vertical-align:middle;\" /></a>"
      ],
      "text/plain": [
       "(d + b) mod c"
      ]
     },
     "execution_count": 11,
     "metadata": {},
     "output_type": "execute_result"
    }
   ],
   "source": [
    "a_plus_b_mod_c.basic_replaced({a:d})"
   ]
  },
  {
   "cell_type": "markdown",
   "metadata": {},
   "source": [
    "<font size=4>And if needed we can reach down further into the expression to extract and manipulate specific pieces of the expression:</font>"
   ]
  },
  {
   "cell_type": "code",
   "execution_count": 12,
   "metadata": {},
   "outputs": [
    {
     "data": {
      "text/html": [
       "<strong id=\"new\">new:</strong> <a class=\"ProveItLink\" href=\"../__pv_it/demonstrations/5d4c621a13424fce0ea65df8572a28aa3827257f0/expr.ipynb\"><img src=\"data:image/png;base64,iVBORw0KGgoAAAANSUhEUgAAAC0AAAAQBAMAAABw0OvaAAAAMFBMVEX///+YmJhERESIiIhUVFTc\n",
       "3NwiIiJ2dnbu7u66urqqqqpmZmYQEBAyMjLMzMwAAAA7oY0NAAAAAXRSTlMAQObYZgAAAAlwSFlz\n",
       "AAAOxAAADsQBlSsOGwAAALNJREFUGNNjYGBg4LuzgQEJcOgkQFn8C5DFGXhhyuY3gClOATRlZRCK\n",
       "ywBFGQPDbVRxiDJWd7tfqOJXjL2A5JwAph8o4hx/G/oDGDgOMnBfQBHn+sHAY8DA/YGBrQDI405L\n",
       "yzmWlubAAFLGX8DAo8DQPwFFPVDZ/AUM/QYM8gwo4kDn729g6F/A4MsVgCL+AGgnA5MBVzY3inoW\n",
       "ASZgQHA414XYobrTfSNKcMH9hQ5g4QYCADD3KA1ieYfOAAAAAElFTkSuQmCC\n",
       "\" style=\"display:inline;vertical-align:middle;\" /></a><br>"
      ],
      "text/plain": [
       "new: d + b"
      ]
     },
     "execution_count": 12,
     "metadata": {},
     "output_type": "execute_result"
    }
   ],
   "source": [
    "new = a_plus_b_mod_c.operands[0].basic_replaced({a:d})"
   ]
  },
  {
   "cell_type": "markdown",
   "metadata": {},
   "source": [
    "## Axioms <a id='axioms'></a>"
   ]
  },
  {
   "cell_type": "markdown",
   "metadata": {},
   "source": [
    "<font size=4>The ``axioms`` for modular arithmetic …</font>"
   ]
  },
  {
   "cell_type": "markdown",
   "metadata": {},
   "source": [
    "## Demonstrations <a id='further_demonstrations'></a>"
   ]
  },
  {
   "cell_type": "markdown",
   "metadata": {},
   "source": [
    "<a id='demo01'></a><font size=4>1. TBA.<br><br>\n",
    "We begin with some simple expressions ….</font>"
   ]
  },
  {
   "cell_type": "markdown",
   "metadata": {},
   "source": [
    "<a id='demo02'></a><font size=4><br>2. TBA.<br><br>\n",
    "</font>"
   ]
  },
  {
   "cell_type": "markdown",
   "metadata": {},
   "source": [
    "<a id='demo03'></a><font size=4><br>3. TBA.<br><br>\n",
    "</font>"
   ]
  },
  {
   "cell_type": "markdown",
   "metadata": {},
   "source": [
    "## Simplifications"
   ]
  },
  {
   "cell_type": "code",
   "execution_count": 13,
   "metadata": {},
   "outputs": [
    {
     "data": {
      "text/html": [
       "<span style=\"font-size:20px;\"> <a class=\"ProveItLink\" href=\"../__pv_it/demonstrations/f99985092c922f6223d8def64243d6cfcffd445a0/proof.ipynb\" style=\"text-decoration: none\">&nbsp;&#x22A2;&nbsp;&nbsp;</a><a class=\"ProveItLink\" href=\"../__pv_it/demonstrations/b12a90d380e632acd45a13b382c96936529db6ca0/expr.ipynb\"><img src=\"data:image/png;base64,iVBORw0KGgoAAAANSUhEUgAAANcAAAAVBAMAAAAnc2Y5AAAAMFBMVEX////MzMxUVFRERES6uroi\n",
       "IiIQEBCYmJhmZmYyMjLu7u52dnaqqqqIiIjc3NwAAACW8nlqAAAAAXRSTlMAQObYZgAAAAlwSFlz\n",
       "AAAOxAAADsQBlSsOGwAAArJJREFUSMeVlk1oE0EUx//bbL42nwgVFGFjEaWgJKAIHqp78mRpKOql\n",
       "orF4KJ4KFdGL5CD2EJRiQUEPiRbEi7j0JjkkIArioUt70Es0IIoXsR9pta0lvpndmtlNDNOBvNnM\n",
       "vN/8Z957OyyAOiRbvNOgNM0dY1VZd9VqH5OnB5l538Uhdt6wH+ab98eBD+0eMnQsvX6ILC2gTXXb\n",
       "zk9HDKvMhEveeTk6kWX2ERAa7+aecNyVTWaDee+8HK2bzN4AApBxjzV4d9U7L0d/5n2ghHdS7uFF\n",
       "3j30zsvRRXuNcRSoezH/pMyqSnlwrzag1o4Bz2u36X+5pm9H3c7NrHc5kd4z9mPBGlwwoN39aLjo\n",
       "dW4jKb7ZfOxIiOfQfxj6NVyHchE+C8+qqDjuQzzquMnzdI631PZR/9HDVeWXEcyht44BCLTKE47g\n",
       "FC6QrQc3enimfTkkMtCTfhPKEk606snB3npP5qKPAyuMG6GSSAp0xE54NIcrFD2EnAr2ZZAwyVOn\n",
       "sGxqW8BLIeoareEVc9FHCSIx5Q+F3RRonvASlEXmToVitcQsEpsjrxVFEGNRvwWc7iDWoklsi8Si\n",
       "dJBERqBZwoN1qDkWCEpJXSuJYuxkv4W9qfQIStIbb85ctCPGT5YX6CHaTA+FMctSOWMcRMR1skAe\n",
       "agPTragv2dfNhPdkLtoRwxitbwh0JclvumCGVfPc3js4Y0fXFjOUywib+GYgbd8Qfop6pWRXuqu5\n",
       "6Gku1sDuJB5DoC/RbjcoIiZ62UsVneSXt5Ie3XdqNFIcwffyAaqIQk0fZuNPi8t9xWV6OOsVE+ld\n",
       "a/tfr6VerZrxwqzRorX+Zl9/k4LuN+BPQrrFs96RndBfO12u/2/t1+5O6En6nZR3/9I+JE/HM2Rm\n",
       "5MU6rCxP+9h3QdySdY91+N6Qpz8BfwGj195hvoMZfQAAAABJRU5ErkJggg==\n",
       "\" style=\"display:inline;vertical-align:middle;\" /></a></span>"
      ],
      "text/plain": [
       "|- (x mod L) = (x mod L)"
      ]
     },
     "execution_count": 13,
     "metadata": {},
     "output_type": "execute_result"
    }
   ],
   "source": [
    "Mod(x, L).simplification(assumptions=[InSet(L, NaturalPos), InSet(x, Interval(zero, subtract(L, one)))])"
   ]
  },
  {
   "cell_type": "code",
   "execution_count": 14,
   "metadata": {},
   "outputs": [
    {
     "data": {
      "text/html": [
       "<span style=\"font-size:20px;\"> <a class=\"ProveItLink\" href=\"../__pv_it/demonstrations/f99985092c922f6223d8def64243d6cfcffd445a0/proof.ipynb\" style=\"text-decoration: none\">&nbsp;&#x22A2;&nbsp;&nbsp;</a><a class=\"ProveItLink\" href=\"../__pv_it/demonstrations/b12a90d380e632acd45a13b382c96936529db6ca0/expr.ipynb\"><img src=\"data:image/png;base64,iVBORw0KGgoAAAANSUhEUgAAANcAAAAVBAMAAAAnc2Y5AAAAMFBMVEX////MzMxUVFRERES6uroi\n",
       "IiIQEBCYmJhmZmYyMjLu7u52dnaqqqqIiIjc3NwAAACW8nlqAAAAAXRSTlMAQObYZgAAAAlwSFlz\n",
       "AAAOxAAADsQBlSsOGwAAArJJREFUSMeVlk1oE0EUx//bbL42nwgVFGFjEaWgJKAIHqp78mRpKOql\n",
       "orF4KJ4KFdGL5CD2EJRiQUEPiRbEi7j0JjkkIArioUt70Es0IIoXsR9pta0lvpndmtlNDNOBvNnM\n",
       "vN/8Z957OyyAOiRbvNOgNM0dY1VZd9VqH5OnB5l538Uhdt6wH+ab98eBD+0eMnQsvX6ILC2gTXXb\n",
       "zk9HDKvMhEveeTk6kWX2ERAa7+aecNyVTWaDee+8HK2bzN4AApBxjzV4d9U7L0d/5n2ghHdS7uFF\n",
       "3j30zsvRRXuNcRSoezH/pMyqSnlwrzag1o4Bz2u36X+5pm9H3c7NrHc5kd4z9mPBGlwwoN39aLjo\n",
       "dW4jKb7ZfOxIiOfQfxj6NVyHchE+C8+qqDjuQzzquMnzdI631PZR/9HDVeWXEcyht44BCLTKE47g\n",
       "FC6QrQc3enimfTkkMtCTfhPKEk606snB3npP5qKPAyuMG6GSSAp0xE54NIcrFD2EnAr2ZZAwyVOn\n",
       "sGxqW8BLIeoareEVc9FHCSIx5Q+F3RRonvASlEXmToVitcQsEpsjrxVFEGNRvwWc7iDWoklsi8Si\n",
       "dJBERqBZwoN1qDkWCEpJXSuJYuxkv4W9qfQIStIbb85ctCPGT5YX6CHaTA+FMctSOWMcRMR1skAe\n",
       "agPTragv2dfNhPdkLtoRwxitbwh0JclvumCGVfPc3js4Y0fXFjOUywib+GYgbd8Qfop6pWRXuqu5\n",
       "6Gku1sDuJB5DoC/RbjcoIiZ62UsVneSXt5Ie3XdqNFIcwffyAaqIQk0fZuNPi8t9xWV6OOsVE+ld\n",
       "a/tfr6VerZrxwqzRorX+Zl9/k4LuN+BPQrrFs96RndBfO12u/2/t1+5O6En6nZR3/9I+JE/HM2Rm\n",
       "5MU6rCxP+9h3QdySdY91+N6Qpz8BfwGj195hvoMZfQAAAABJRU5ErkJggg==\n",
       "\" style=\"display:inline;vertical-align:middle;\" /></a></span>"
      ],
      "text/plain": [
       "|- (x mod L) = (x mod L)"
      ]
     },
     "execution_count": 14,
     "metadata": {},
     "output_type": "execute_result"
    }
   ],
   "source": [
    "Mod(x, L).simplification(assumptions=[InSet(L, RealPos), InSet(x, IntervalCO(zero, L))])"
   ]
  },
  {
   "cell_type": "code",
   "execution_count": 15,
   "metadata": {},
   "outputs": [
    {
     "data": {
      "text/html": [
       "<span style=\"font-size:20px;\"><a class=\"ProveItLink\" href=\"../__pv_it/theorems/e599e69d4651f9a6f1b07f9ce05c2f434366950e0/expr.ipynb\"><img src=\"data:image/png;base64,iVBORw0KGgoAAAANSUhEUgAAAEIAAAATBAMAAADWqMaJAAAAMFBMVEX///9mZmaqqqoQEBBERETc\n",
       "3Nzu7u66urp2dnbMzMwiIiKYmJgyMjJUVFSIiIgAAADuG0X0AAAAAXRSTlMAQObYZgAAAAlwSFlz\n",
       "AAAOxAAADsQBlSsOGwAAAO5JREFUKM9jYMALBBgIAQdyVXAfdvmz2BtJxdv/ZzegKmFhvcB+2w3J\n",
       "jF/ohrCwNjA4zGVgdHExcQGZxfkDmwpRHoQZfN9hMk9WrToAV8GCUMHzAaqg5hmSGddyESr4D0DE\n",
       "WY8h2cLpdBShor4BIs4TgFBhs35dAiJM+wugKpBc2r3tAJLLzwMxGxBPXgUEDlBb3HYjqfgDxFuB\n",
       "OAXZtxNZEuBc9n9A4gIQcyGrYJyKiBKOn8AgAQU73wMkFWwOr+EquIDB0Q828hBChQDDbhaoBxhy\n",
       "z/+9e/4vhOmeAIvbLwEsPp+wRHuF16oDGIIA+0ZDC359GXkAAAAASUVORK5CYII=\n",
       "\" style=\"display:inline;vertical-align:middle;\" /></a>, <a class=\"ProveItLink\" href=\"../../ordering/__pv_it/theorems/d1323f34847310a404e8089c2c268d3c2eb89dbf0/expr.ipynb\"><img src=\"data:image/png;base64,iVBORw0KGgoAAAANSUhEUgAAADQAAAAQBAMAAACra0H4AAAAMFBMVEX///9ERES6uroQEBAyMjLc\n",
       "3NyYmJgiIiJmZmaqqqp2dnbMzMxUVFSIiIju7u4AAAAd7oVFAAAAAXRSTlMAQObYZgAAAAlwSFlz\n",
       "AAAOxAAADsQBlSsOGwAAAMtJREFUGNNjYMAAbM6CX4rFGLACRtYDTMfkcEgtYBDYg1OqlQVF6GJ5\n",
       "uQNcihFZRuUekq5zb4CMt3der5oApFn9kAzklnQFMhp4z3IUAGmWAISUSX3tA6AvAtj+8SSApJCc\n",
       "sSwPZCk3AwfYbobN5UAgADVQLg0sxnwBTD1EdvwOxgcgln4AH4hmR5bi2ArU/1DhMAMXSID3ApIU\n",
       "n8A1Bob5+5oZNMEingipBoY0RgWGF3c52yaARd4IPYCF/McARpGfyMGhJQ4JKCgAAF8xNF8aQs/g\n",
       "AAAAAElFTkSuQmCC\n",
       "\" style=\"display:inline;vertical-align:middle;\" /></a> <a class=\"ProveItLink\" href=\"../__pv_it/demonstrations/8c7b8963dffac12e24514a3f659e5db6a220917a0/proof.ipynb\" style=\"text-decoration: none\">&nbsp;&#x22A2;&nbsp;&nbsp;</a><a class=\"ProveItLink\" href=\"../__pv_it/demonstrations/5f62cabfbf566f595f157467f28d5f999a7a66f80/expr.ipynb\"><img src=\"data:image/png;base64,iVBORw0KGgoAAAANSUhEUgAAAS8AAAAVBAMAAADlZnWUAAAAMFBMVEX////MzMxUVFRERES6uroi\n",
       "IiIQEBCYmJhmZmYyMjLu7u52dnaqqqqIiIjc3NwAAACW8nlqAAAAAXRSTlMAQObYZgAAAAlwSFlz\n",
       "AAAOxAAADsQBlSsOGwAAA2VJREFUSMelVk9IFFEc/kb37+xfAoMoWJNAisCFJOigzambuEl1MWoT\n",
       "DxIFQhEGYR6SiKWQgoQ6rBSEdXHxFiYuRFF0aFWiDm0tRNFFcm3VzMx+b97svpnZVd/SwL638+b7\n",
       "3ve93+837w2AHIAgJC9ZYO4/uAY7kKbmoyzFkZHDtVUYkxbh7Df086c2Qb3r5v3M+u1e4P1GsMAJ\n",
       "jfdNK43U9pYBpEQEWx2i28ebZq9g/FlkjXdkI9wPbgyhGGvvlT2XEymxPWxp1zcNrMFRVlnrHtgI\n",
       "FjKMRfTI9JU9lxIRbBfr4zKcAO/PbmXss967yiIrJSLYr1n2h2Q43nm9G97KWJKj7UUmJyLYCeo8\n",
       "FD41u2/nM5awu7eyLY5sMzCavUb3vslpgxPiM48bibXhJrIRw9iK3vrqbcpmEezomZvNtM1qUG9+\n",
       "0Mwigj1srM6DmcwgG3PuR+QiLkE5hdoM1HPwGZx2/lZdNmaw4h6lMcWNOfRShFtfxuBxdnXALoKO\n",
       "tLKsueOoy6HFLCLYJ5kGbWX9uDrSyMZq4whFEQk7U1DyqB0qvTCG8EvDmBV3qPRWGhJ+e0lZRHAQ\n",
       "+Ml4nVTuYZOIYLP9w0VThnHDEIwilCJ0hCZaxRgFrSCyr9I8qIBT14AxTZTiCJR5mzGLCA6wyZW8\n",
       "8odKJGUSEeyiMeC8EMyQ4FuNLSoiOCz7/cARVMApwhgrRXcOjngFYyURZmyNjPlp7lDUJCLYxVTC\n",
       "8RdPzIIsEr9MEXOQNqiiX9iM6ThTxNrp0KqhZMRsNWYRKRrTIzZgiphgtzANetBcE0fKLOgagKMA\n",
       "b7SYfl+eHxUXbMY47k6pxqbC+rnljtoiZhEpGkMPedGEiIk9zl9Of3407kjrWeaCmnIG3hSC3ahZ\n",
       "5sVL2Z+iXTNhCFlx3zQ08Z3rNM33m+8OlssiwhZCxgrYHsZ9k4iJXcf2pBjtJ5lXV/T9qalr1+Eu\n",
       "X7IT3yf20P3o5PQi25IeJBcakgv055ixj1lxaiIbYRlT96437F0nglOzGTOLYNvS7udL9U8XU8HE\n",
       "uCZEzGwnxQ5HpT9IEIzJ4b6WjVQhwtj6odwnT/H0yuHKj+wqRHR2KyvMnDTli2Rgo2VDVYjo7Ics\n",
       "t1FpTqscrIKLKkR0dpB9LM/JUgKSy/5UYUxahLH/AatvPr0OcQDEAAAAAElFTkSuQmCC\n",
       "\" style=\"display:inline;vertical-align:middle;\" /></a></span>"
      ],
      "text/plain": [
       "{L in RealPos, x in Real} |- ((x mod L) mod L) = (x mod L)"
      ]
     },
     "execution_count": 15,
     "metadata": {},
     "output_type": "execute_result"
    }
   ],
   "source": [
    "Mod(Mod(x, L), L).simplification(assumptions=[InSet(L, RealPos), InSet(x, Real)])"
   ]
  },
  {
   "cell_type": "code",
   "execution_count": 16,
   "metadata": {},
   "outputs": [
    {
     "data": {
      "text/html": [
       "<span style=\"font-size:20px;\"><a class=\"ProveItLink\" href=\"../../ordering/__pv_it/theorems/d1323f34847310a404e8089c2c268d3c2eb89dbf0/expr.ipynb\"><img src=\"data:image/png;base64,iVBORw0KGgoAAAANSUhEUgAAADQAAAAQBAMAAACra0H4AAAAMFBMVEX///9ERES6uroQEBAyMjLc\n",
       "3NyYmJgiIiJmZmaqqqp2dnbMzMxUVFSIiIju7u4AAAAd7oVFAAAAAXRSTlMAQObYZgAAAAlwSFlz\n",
       "AAAOxAAADsQBlSsOGwAAAMtJREFUGNNjYMAAbM6CX4rFGLACRtYDTMfkcEgtYBDYg1OqlQVF6GJ5\n",
       "uQNcihFZRuUekq5zb4CMt3der5oApFn9kAzklnQFMhp4z3IUAGmWAISUSX3tA6AvAtj+8SSApJCc\n",
       "sSwPZCk3AwfYbobN5UAgADVQLg0sxnwBTD1EdvwOxgcgln4AH4hmR5bi2ArU/1DhMAMXSID3ApIU\n",
       "n8A1Bob5+5oZNMEingipBoY0RgWGF3c52yaARd4IPYCF/McARpGfyMGhJQ4JKCgAAF8xNF8aQs/g\n",
       "AAAAAElFTkSuQmCC\n",
       "\" style=\"display:inline;vertical-align:middle;\" /></a>, <a class=\"ProveItLink\" href=\"../__pv_it/theorems/e599e69d4651f9a6f1b07f9ce05c2f434366950e0/expr.ipynb\"><img src=\"data:image/png;base64,iVBORw0KGgoAAAANSUhEUgAAAEIAAAATBAMAAADWqMaJAAAAMFBMVEX///9mZmaqqqoQEBBERETc\n",
       "3Nzu7u66urp2dnbMzMwiIiKYmJgyMjJUVFSIiIgAAADuG0X0AAAAAXRSTlMAQObYZgAAAAlwSFlz\n",
       "AAAOxAAADsQBlSsOGwAAAO5JREFUKM9jYMALBBgIAQdyVXAfdvmz2BtJxdv/ZzegKmFhvcB+2w3J\n",
       "jF/ohrCwNjA4zGVgdHExcQGZxfkDmwpRHoQZfN9hMk9WrToAV8GCUMHzAaqg5hmSGddyESr4D0DE\n",
       "WY8h2cLpdBShor4BIs4TgFBhs35dAiJM+wugKpBc2r3tAJLLzwMxGxBPXgUEDlBb3HYjqfgDxFuB\n",
       "OAXZtxNZEuBc9n9A4gIQcyGrYJyKiBKOn8AgAQU73wMkFWwOr+EquIDB0Q828hBChQDDbhaoBxhy\n",
       "z/+9e/4vhOmeAIvbLwEsPp+wRHuF16oDGIIA+0ZDC359GXkAAAAASUVORK5CYII=\n",
       "\" style=\"display:inline;vertical-align:middle;\" /></a> <a class=\"ProveItLink\" href=\"../__pv_it/demonstrations/1d89960a1ef410c024864af81cd9a61df038ef300/proof.ipynb\" style=\"text-decoration: none\">&nbsp;&#x22A2;&nbsp;&nbsp;</a><a class=\"ProveItLink\" href=\"../__pv_it/demonstrations/8c1599ab4b9d11cfc98b0dbb309b1d3903b2d0cb0/expr.ipynb\"><img src=\"data:image/png;base64,iVBORw0KGgoAAAANSUhEUgAAAOgAAAAWBAMAAAA4H80iAAAAMFBMVEX///9EREQQEBAyMjKYmJgi\n",
       "IiJmZmaqqqpUVFTu7u7MzMyIiIi6urp2dnbc3NwAAADEFDsHAAAAAXRSTlMAQObYZgAAAAlwSFlz\n",
       "AAAOxAAADsQBlSsOGwAAAlBJREFUSMfFlU9o01Acx79ZS5s/zTIVQXCHnHbx4k6CKBteFAQdgrCL\n",
       "WPxzmpV48WpwO0w9tIoO/AMGRdSDNNuqFAOam4KHBQR10LHQk+BhdZtot3XzJam1kPS1T2TLobyE\n",
       "3+f7eT/ej1e46PTpZq1rDZQ6lso2Y11rgCaVTgSYlF0a2zQpFuqYMrR5nUKpY3lnC6Rv7S2QDvz/\n",
       "QbpfvDenkeXjvm+T5odJG8LIK69+zsrXsSVGqWBde/GZLk1LNxLepGBYE5ftuIonLnYDtzTMB1iq\n",
       "1laaOOk/elCXQNE8T5XG3XiVH/TW24HvEFdwioyOgR2N6ZXXGDs9huO5MapURGJvsN4G1IhU/ElO\n",
       "0xFWgYcBFquQnxyD1MDZtoPUZTakq0SaJI0pPeJfqUI2FXeZBmlPW+mMK+SapH6n6aZOZ8im+FDG\n",
       "lDd873+ZEWeK1DruUoASbtpXITd3ij7isdHfONN5AyiEMmJehqRGdCr08iocClDCledn8M7/2u9L\n",
       "1/DIwEGgbCPrzxdOk6RqKIPzMjg9QppcmVBTGgUoYcJKnvNe8Wzx+qVF/eMPpzvzhdQLGSs/TD4L\n",
       "oxvjoxu618HOp8XbR2xIR2chFaY9SBmM6nTEvHwYFIDpr21Bi/Ukh9CLO8igy8vIu9QbqQXAJs1x\n",
       "jqiKFXBvqsERTdGvwRYAmxS8KarkzuIvVIKMXcADmjQa+Acp2Xjsz8aXgdm20hDwumOpZJAMjmRg\n",
       "H8rkliuTDHEdST1cxwbQHyGbPnTgaw2ydRFy4eV+YLr2acBmBn4DosQjx6SseGsAAAAASUVORK5C\n",
       "YII=\n",
       "\" style=\"display:inline;vertical-align:middle;\" /></a></span>"
      ],
      "text/plain": [
       "{x in Real, L in RealPos} |- |x mod L|_{mod L} = |x|_{mod L}"
      ]
     },
     "execution_count": 16,
     "metadata": {},
     "output_type": "execute_result"
    }
   ],
   "source": [
    "ModAbs(Mod(x, L), L).simplification(assumptions=[InSet(L, RealPos), InSet(x, Real)])"
   ]
  },
  {
   "cell_type": "markdown",
   "metadata": {},
   "source": [
    "## Misc Testing <a id='misc_testing'></a>"
   ]
  },
  {
   "cell_type": "markdown",
   "metadata": {},
   "source": [
    "<font size=4>Some temporary testing while the `modular` theory and demonstrations page are developed (this material can be deleted later once the demonstrations page is more established).</font>"
   ]
  },
  {
   "cell_type": "markdown",
   "metadata": {},
   "source": [
    "<font size=4>Testing `Mod.deduce_in_number_set()` method for constants and variables.</font>"
   ]
  },
  {
   "cell_type": "code",
   "execution_count": 17,
   "metadata": {},
   "outputs": [],
   "source": [
    "from proveit.logic import InSet, NotEquals\n",
    "from proveit.numbers import zero, two, three, Integer, Natural, NaturalPos, Real"
   ]
  },
  {
   "cell_type": "code",
   "execution_count": 18,
   "metadata": {},
   "outputs": [
    {
     "data": {
      "text/html": [
       "<strong id=\"three_mod_two\">three_mod_two:</strong> <a class=\"ProveItLink\" href=\"../__pv_it/demonstrations/880352aa50b8b3f0c365d7163ed3d274eeb9bd1f0/expr.ipynb\"><img src=\"data:image/png;base64,iVBORw0KGgoAAAANSUhEUgAAAEoAAAAOBAMAAAB6N5c4AAAAMFBMVEX///9UVFTMzMwiIiKYmJgQ\n",
       "EBAyMjKIiIiqqqru7u66urpERERmZmZ2dnbc3NwAAABametFAAAAAXRSTlMAQObYZgAAAAlwSFlz\n",
       "AAAOxAAADsQBlSsOGwAAAS1JREFUKM9jYHh7ZxcDNsBuugBMvzm2iYGB8wBDfwNWZe/Bqvg2MNxf\n",
       "wMD+g2F+AlZV/GBVjA8YWAMYuKIY+PGpYv3JwPgPxOh3wGeWAQPjJyDNZQLiMaWeK9/OVQ70yZzy\n",
       "U0D+3XL9BVDlzB+A0oVCELYEg74XgysDkx0DdwHD1AaQoyFAvwBsI9iP3AEM/BsY9BWYLzAwfWLY\n",
       "BvMjEBgyQB0IUrWBgf8CUJU+UM9fzu8MDPOhqng2AC1UYOD+AVNVAFTVD5T8zYSkyhHkk59oqkBm\n",
       "/UEyi+MCwzsGVgEkG0GqWA8wcP1iyIa7S5eBoZKBxQEaXmwQVQuYghjYLjA8XcAgDxbmszlzxoCB\n",
       "Yc0ZcGwzyQdq7A/kzbdleHNXChi9Z8v1wX5j/v//fwIA6pldIKxtevQAAAAASUVORK5CYII=\n",
       "\" style=\"display:inline;vertical-align:middle;\" /></a><br>"
      ],
      "text/plain": [
       "three_mod_two: 3 mod 2"
      ]
     },
     "execution_count": 18,
     "metadata": {},
     "output_type": "execute_result"
    }
   ],
   "source": [
    "three_mod_two = Mod(three, two)"
   ]
  },
  {
   "cell_type": "code",
   "execution_count": 19,
   "metadata": {},
   "outputs": [
    {
     "data": {
      "text/html": [
       "<strong id=\"a_mod_b\">a_mod_b:</strong> <a class=\"ProveItLink\" href=\"../__pv_it/demonstrations/b0f061f2cad9c22402067d497aec2bf3477e06db0/expr.ipynb\"><img src=\"data:image/png;base64,iVBORw0KGgoAAAANSUhEUgAAAEoAAAAOBAMAAAB6N5c4AAAAMFBMVEX////MzMwyMjKqqqoiIiJm\n",
       "ZmaYmJju7u5EREQQEBC6urqIiIh2dnZUVFTc3NwAAAAqL9KcAAAAAXRSTlMAQObYZgAAAAlwSFlz\n",
       "AAAOxAAADsQBlSsOGwAAASFJREFUKM9jYMAJtswCUxVTGPABvl8QWhWvKgaoqs/EqOL6TowqHgew\n",
       "9Xf2bQDRQlNf79iwescCBvborQuAkqc3QlQx3d5rwMCw8gEHxExfA8ZvC9gmMIg8YOhmYJ/MwANR\n",
       "Va/O/o+BfRoDK9hMhk4Ghh8MjB8ZfBgY5AU4FGB+tC9gmM3A+oGB5QCY28HA8AeoihHoJ/4D9RsY\n",
       "2CGqgkDCnA0M9Qtgqn4DVTEDJfkb5OGqfBi4PjMANeUzIKsCmxWAMOszA+t3hnoDhkvMD5BUMUxl\n",
       "YFi/gKkB5q6PDJUJDBwbmF1ZwVwNsKpfDJICDDoMfLMYeL+Bha8xtDIwsN8++HYjiCf786LFzwuH\n",
       "vhzgizkLdGjp6Y1fLoDEa48mMAAAp0RjZxEo4YsAAAAASUVORK5CYII=\n",
       "\" style=\"display:inline;vertical-align:middle;\" /></a><br>"
      ],
      "text/plain": [
       "a_mod_b: a mod b"
      ]
     },
     "execution_count": 19,
     "metadata": {},
     "output_type": "execute_result"
    }
   ],
   "source": [
    "a_mod_b = Mod(a, b)"
   ]
  },
  {
   "cell_type": "markdown",
   "metadata": {},
   "source": [
    "<font size=4>Testing `Mod.deduce_in_interval()` method.</font>"
   ]
  },
  {
   "cell_type": "code",
   "execution_count": 20,
   "metadata": {},
   "outputs": [
    {
     "data": {
      "text/html": [
       "<span style=\"font-size:20px;\"> <a class=\"ProveItLink\" href=\"../__pv_it/demonstrations/4d234e33ce92a3f4351c5d39e8c0c4ee46b5b87d0/proof.ipynb\" style=\"text-decoration: none\">&nbsp;&#x22A2;&nbsp;&nbsp;</a><a class=\"ProveItLink\" href=\"../__pv_it/demonstrations/1cec203b4721561aaf994f86f3cf9891bf01d9900/expr.ipynb\"><img src=\"data:image/png;base64,iVBORw0KGgoAAAANSUhEUgAAALoAAAAVBAMAAAADaun5AAAAMFBMVEX////MzMxUVFRERES6uroi\n",
       "IiIQEBCYmJhmZmYyMjLu7u52dnaqqqqIiIjc3NwAAACW8nlqAAAAAXRSTlMAQObYZgAAAAlwSFlz\n",
       "AAAOxAAADsQBlSsOGwAAAp1JREFUOMuNlU1oE0EYht/N/9/u5iIIClupKEKhUfSgUM1JxFOoxt8i\n",
       "sVQET0FF8BbEQ0KhBBS9VA1VQ28JiqCUYi4K4iHBg4KwUBCkUrEWBTWNjd/M7iZb96c7sJPJTL4n\n",
       "37zfO7MAFuClSTZzj9IuAV85V2x4ogdalinxdsUlQBhkq2+Bped7bX8gntCSWyztBj5YlpsUHp+f\n",
       "siOfoc4/AMTKiBXQtN/AMqdLKbxMI2pJ9Bk903hsVXam1KY+ngEieYgd1Mq2dJnTfQsI5RAu2NDD\n",
       "GcRTNps26CGSdAKyGz3Uhm8NuKRH7sue7tFp94m2C/2NJmHeLfcMfCvAXa269yqm3OUChI4LfZKH\n",
       "nOS1uDOljgRUqvCsepO+z6mKYbngd+AJH32pmJWpEf2XC51lJLzbpjGGoFzFNQjn4G+h2mDF1JpC\n",
       "frzOR/f7jBKVvQ7hrwNdzAFjmjLcM/4c5BSUZJBiVrDf8Ay1UXpe81G/QNJFjb7qQJdIsgnohWP0\n",
       "FOQ60RX6r9UY5VTT6RHmC4WrdyGbzR7j8F20WKsj4JQ7ZqYZXUjC3zHoLaI3Ke6HYKJfZt1h1sX6\n",
       "/tt8gFc14VRVvEgzZeT2f3SW+29T7ok6vgGv+DjTZ+zhEWEnRzKrjpAsAyZlGD1UQOAnbvV03wJ8\n",
       "BK7wsbr+NOUQKTt5Jsd9Fs7rfo9q9LRwHtE6PqcxzKelU8Wi4V1EG+tugjFUk2zMD3vvxMfXdEdu\n",
       "os8jRX6LCcPjWw+Nxx+cxeLcdpJ4UlVGuVG73S7FHeeBscGjZvrsvG7mgtGx47fjz06NHkzCW5N0\n",
       "xQNPTTeBW2N06+Xk0CJ5uztyAzoOeqR/ssy83yAdVoWHHunWLJbd32pVtlmp5QkuWl8S0g03/NIQ\n",
       "8A+X0b5eO6rrxAAAAABJRU5ErkJggg==\n",
       "\" style=\"display:inline;vertical-align:middle;\" /></a></span>"
      ],
      "text/plain": [
       "|- (3 mod 2) in {0 .. 1}"
      ]
     },
     "execution_count": 20,
     "metadata": {},
     "output_type": "execute_result"
    }
   ],
   "source": [
    "three_mod_two.deduce_in_interval()"
   ]
  },
  {
   "cell_type": "code",
   "execution_count": 21,
   "metadata": {},
   "outputs": [
    {
     "data": {
      "text/html": [
       "<span style=\"font-size:20px;\"><a class=\"ProveItLink\" href=\"../../ordering/__pv_it/theorems/4aa8d696b1f407d6126de9f51a052e8d90e0848c0/expr.ipynb\"><img src=\"data:image/png;base64,iVBORw0KGgoAAAANSUhEUgAAADMAAAAQBAMAAABJt1qBAAAAMFBMVEX////MzMwyMjKqqqoiIiJm\n",
       "ZmaYmJju7u5EREQQEBC6urqIiIh2dnZUVFTc3NwAAAAqL9KcAAAAAXRSTlMAQObYZgAAAAlwSFlz\n",
       "AAAOxAAADsQBlSsOGwAAAM1JREFUGNNjYMAASTP6VWYkMGAFDW8Z1mYUYJd6w8DBeAGXFOsDBRSh\n",
       "HS4uCnCpBmSZRdsRunjLQQby3dm3ASTAp45koITRAyBj5QOO7yABpgdwqZcqX0AmsE9jYHUASyE5\n",
       "I60IRLN+YGA5AGJIugBBA0SKowzkZc4GhvoFIIEKJF2MAe1Aun4DQz5YgAXZX4EvQFIGDJeYQS7g\n",
       "3oAkVcENNJFjA7MrK1hEGS71lIEtoQvowtsH324Ei9R2FcBCvo+hQ98AOTjWtLgghxwApbZCEcpv\n",
       "FP8AAAAASUVORK5CYII=\n",
       "\" style=\"display:inline;vertical-align:middle;\" /></a>, <a class=\"ProveItLink\" href=\"../../ordering/__pv_it/theorems/6e5cad5b2984ed0d75bd47bd0c542ec447a4f3570/expr.ipynb\"><img src=\"data:image/png;base64,iVBORw0KGgoAAAANSUhEUgAAADEAAAAQBAMAAABNQoq8AAAAMFBMVEX///+YmJjMzMzc3NyIiIhU\n",
       "VFR2dna6urqqqqpmZmYyMjIiIiIQEBBERETu7u4AAAD7tRWPAAAAAXRSTlMAQObYZgAAAAlwSFlz\n",
       "AAAOxAAADsQBlSsOGwAAANZJREFUGNNjYEAHUmfvrz4rAGTw3dmAJnXBlKFU9gGQwTUBXcaMgZcp\n",
       "AMjgb8CU4TRYAGTUP4CK+O7evQAucwHIyIZKVPkh9LC+A5m21CUCxGdeh2SabpcB0G2/Hrw3ADnE\n",
       "AC5js/o3SD/HPwYeB5AMkgsEX4FozgUM/AlAWmc3EFyAyPA+BPmUO4GhHuTut0h6mCbcg3hnPsjd\n",
       "3Mj+mWQLklHgOwjiszggybxlARrHKsALCZ4VcBlLBkaB60BXh02ECDy9/gAW1pcZ7q5HDrOy25DQ\n",
       "gQIAY/lDzDbeA58AAAAASUVORK5CYII=\n",
       "\" style=\"display:inline;vertical-align:middle;\" /></a>, <a class=\"ProveItLink\" href=\"../__pv_it/theorems/1157e8bc07ff5d23e5b8809064b9e77def3bc8980/expr.ipynb\"><img src=\"data:image/png;base64,iVBORw0KGgoAAAANSUhEUgAAAC8AAAAUCAMAAAAqRJTwAAAAPFBMVEX///8NDQ0WFhYLCwsYGBiY\n",
       "mJjMzMzc3NyIiIhUVFR2dna6urqqqqpmZmYyMjIiIiIQEBBERETu7u4AAAAYV9lEAAAAAXRSTlMA\n",
       "QObYZgAAAAlwSFlzAAAOxAAADsQBlSsOGwAAANlJREFUKM+VkusSxBAMhe2FkopLvP+7LjG6bK0Z\n",
       "fmhSn+OICPF/IM3+Ugx+iqvYZwAajxo6nPJRdYmzWdnXDclO5U2XSLYAfOKZpj7j0Se82TIJU/tn\n",
       "Ly8SW1bsxBmtzc2S6+Wp8bLEjvLUltHzeL/K3M44ElReN1NBL+S/fP6gY4Mwuh9LTHX5LPoeOLIL\n",
       "+XZfWygm8aop+38+6i2uGkWuvCxUys9IQY7yvy8iA2sV6yajcbRr7w3iSz+E0iFkAKVYy2cKQRs1\n",
       "72MLYms42sLlprzfkxdqtfgBzl0J3RfHeMcAAAAASUVORK5CYII=\n",
       "\" style=\"display:inline;vertical-align:middle;\" /></a> <a class=\"ProveItLink\" href=\"../__pv_it/demonstrations/8b549c5d160aed727d536f6aff1f7d9cc7defa220/proof.ipynb\" style=\"text-decoration: none\">&nbsp;&#x22A2;&nbsp;&nbsp;</a><a class=\"ProveItLink\" href=\"../__pv_it/theorems/f12122c93443300fd5d2d6448c4276ff1b2466ec0/expr.ipynb\"><img src=\"data:image/png;base64,iVBORw0KGgoAAAANSUhEUgAAAKUAAAAVBAMAAADVzzOcAAAAMFBMVEX////MzMxUVFRERES6uroi\n",
       "IiIQEBCYmJhmZmYyMjLu7u52dnaqqqqIiIjc3NwAAACW8nlqAAAAAXRSTlMAQObYZgAAAAlwSFlz\n",
       "AAAOxAAADsQBlSsOGwAAAr1JREFUOMuNlU1oE0EUx/9pvjaTZLMIFTwl4kGkFoJi8WLJqQehJKgB\n",
       "tSIRWiyiEBBFT81NJIhBD0pFWSyIt8QWQZHCgiioh25axF5aguLBg9BiP7St4puZ3c2XjTuwM+/N\n",
       "zP7mfe0sgBrcNLV1IprV2lZVixY1XDF9ZstEONWu0DDIxw8dQB+HxTAxQt2nfzBfzddshfVlxFw0\n",
       "D7BSJ4dX5HifnpDexgwZ7GxdKchzxgEl38lji7lFT7DQxrwCTDlKzJDMa0AA/2f6Nnh/wcrNoewp\n",
       "C3MAmNFtZlqXzICOdy6Y4Qzv70n+Q90x7ScQN2zluRXjUB5FHraeRZHVXaPf58zBuRTYrXlaDU9X\n",
       "JTPUO0uvTgr5m+74zjgzbzPvLOwXzHBCnD5Q8wrvcMzwrKeCOXTXcATsIsKSWR5nf4DrQn5Uj6e6\n",
       "SUzTPuCXXq5xZrCEM5T681CEd+gDfsCzjCHarHlLdt4paJeAt0IutTArlhLZQMDkzEgOVIHKEvxy\n",
       "6SCwSUwP5TlWKZtgknmTTyPORc9INps9bplGk2nbTqVEr3CmZ4kzA0mUUzbzNzEjhIol4w5zCD46\n",
       "ZYCLLNlQSxTPGTtHZFXa4ExfjvtOBo2hkSnsLNTt3IJC8X4j5EwDk7aP2bVE5XlbF75nKBcoG9gX\n",
       "qTUwMUpOpUJJO57LeELpvSzkhQbmVR4WZjE1SovIUZJXiNeMnFTEvruCuYKdGh5AHUbXupjei8PU\n",
       "F2VdGXWm32DnUC4JpSvvLQimUkE3xaj32ecq37ZjbffrtcTL1YpanKTVp9PV1QSff/yCV+EJgWJ7\n",
       "jjpMVpzV4D8tE9ZzQ9a8n87S4K6pViR9U863Kdv7prsOX9uvhm1b62XjMCvNTDIX/S6ZX7a5k5nZ\n",
       "xFR5sU24ZPZvw4w23/NeXkCq6QoZbf1thRv/R1HNHhaBv/sNycFQ4ya5AAAAAElFTkSuQmCC\n",
       "\" style=\"display:inline;vertical-align:middle;\" /></a></span>"
      ],
      "text/plain": [
       "{a in Real, b in Real, b != 0} |- (a mod b) in [0,|b|)"
      ]
     },
     "execution_count": 21,
     "metadata": {},
     "output_type": "execute_result"
    }
   ],
   "source": [
    "a_mod_b.deduce_in_interval(\n",
    "    assumptions=[InSet(a, Real), InSet(b, Real), NotEquals(b, zero)])"
   ]
  },
  {
   "cell_type": "markdown",
   "metadata": {},
   "source": [
    "<font size=4>Testing `Mod.deduce_in_number_set()` method.</font>"
   ]
  },
  {
   "cell_type": "code",
   "execution_count": 22,
   "metadata": {},
   "outputs": [
    {
     "data": {
      "text/html": [
       "<span style=\"font-size:20px;\"> <a class=\"ProveItLink\" href=\"../__pv_it/demonstrations/e908a56e6162ef036064d11c689f5570da64a5e30/proof.ipynb\" style=\"text-decoration: none\">&nbsp;&#x22A2;&nbsp;&nbsp;</a><a class=\"ProveItLink\" href=\"../__pv_it/demonstrations/48d88759ade03f0de944b1d6c4301bc0a69fd8c10/expr.ipynb\"><img src=\"data:image/png;base64,iVBORw0KGgoAAAANSUhEUgAAAIAAAAAVBAMAAAB8u/sIAAAAMFBMVEX////MzMxUVFRERES6uroi\n",
       "IiIQEBCYmJhmZmYyMjLu7u52dnaqqqqIiIjc3NwAAACW8nlqAAAAAXRSTlMAQObYZgAAAAlwSFlz\n",
       "AAAOxAAADsQBlSsOGwAAAjJJREFUOMuNlEto1GAQx//Zd2I3yUUQFNKiR7HxCRWrOZXiaanGB4rU\n",
       "Pi5eDCqCtwgeVgqyUKggqAsL4q1BPQgV3IuC9LCLF0EIFASpCNqiiNTqOt8km26XTcnA5pvM5Ptl\n",
       "Zv5fFsASkpgamynWEwEyza5A39yvWfuIAywCX18e6s0+Y/G6fHc/8KE7eUBHRQaUChQXjd5lfGeA\n",
       "auK1Bbm6OVdwUXRe0eqguI75Sk+AxoDUEnLjyLubcxStKSaQo/amoG0FyK0h9Q+4EpZ+2D4vVgW4\n",
       "ndKBdxxtOFtVUEJqFbgfDPNh1IrUv4OuMxw9y4G5e/5wxqeBPvXv0P2Cb1jhs9kV4Bl7XzZGka4e\n",
       "RcCV3g8Ej+2FcQM3IV1CuokndTG7wAwS8RZ7jzbqW8wLaS8GLbAK6XFoJgw960FaxVBbBbIx+r1l\n",
       "r2NYQkRgCuGcBMCE5hHAINwf5S8wHwIKpqiC25y2bftUeAJfAFUBkHSk19uAJgEatO+H1AG4Ji4j\n",
       "PHszKqBG5wP7RAvaWhdAVPC7o4I+D9+AN+yXIsAAnQRlBcNUf39HCwKQc5H5idloBjuBj8B19v1I\n",
       "RHeUFSZx8k54DuQAYEmXIXv4bGGQw+q5crkUCg65Hon4AOoxE9vJHy3zxyQNTuw6MbHt8QUsL+yh\n",
       "dmd8Y4zVbbVaNPzTvE/ZfTIAjAxNHrw66SGrI5mpYfeZ58FRblv3NxJrBScmcTwh4FNcopYQEPsi\n",
       "tZlofzHmr/M/y/+MtOkLkasAAAAASUVORK5CYII=\n",
       "\" style=\"display:inline;vertical-align:middle;\" /></a></span>"
      ],
      "text/plain": [
       "|- (3 mod 2) in Integer"
      ]
     },
     "execution_count": 22,
     "metadata": {},
     "output_type": "execute_result"
    }
   ],
   "source": [
    "# deduce that int mod int is in the Integer set\n",
    "three_mod_two.deduce_in_number_set(Integer)"
   ]
  },
  {
   "cell_type": "code",
   "execution_count": 23,
   "metadata": {},
   "outputs": [
    {
     "data": {
      "text/html": [
       "<span style=\"font-size:20px;\"><a class=\"ProveItLink\" href=\"../../number_sets/integers/__pv_it/theorems/d82a9927958f2919b6e25fa4d8e512f4047160210/expr.ipynb\"><img src=\"data:image/png;base64,iVBORw0KGgoAAAANSUhEUgAAADIAAAAQBAMAAACmdTG/AAAAMFBMVEX////MzMwyMjKqqqoiIiJm\n",
       "ZmaYmJju7u5EREQQEBC6urqIiIh2dnZUVFTc3NwAAAAqL9KcAAAAAXRSTlMAQObYZgAAAAlwSFlz\n",
       "AAAOxAAADsQBlSsOGwAAAN5JREFUGNNjYMAAzJo/NVw6EzAlGLh7BRgUmLBIMLAGMHAnHMYmw/uA\n",
       "oYK9AcWUFhcnEM3OwBDIK4AkwaVdAGMyXhAFUXx39m0A0Y/gEgwcBe0gauUDju8gWg+h3YYNpJZ9\n",
       "GgOrA4irgJCBuJn1AwPLAZDZU1xcXDwgTjE4xcBQwMDZwFC/AKQX4c4KPiD7HkP9BoZ8MN8BLnMR\n",
       "6CP2Dwz1BgyXmB8A+bvhbg5YCvSuAwPHBmZXVpAAkwHczeoMfM0NDOy3D77dCPb6jeUQmZVNMzrm\n",
       "zziAHAgnIKEDBQC4NTJlmjuxlwAAAABJRU5ErkJggg==\n",
       "\" style=\"display:inline;vertical-align:middle;\" /></a>, <a class=\"ProveItLink\" href=\"../../number_sets/integers/__pv_it/theorems/f7f8f0c7b17df91c5737500a28a9355fd753ce490/expr.ipynb\"><img src=\"data:image/png;base64,iVBORw0KGgoAAAANSUhEUgAAADAAAAAQBAMAAACigOGCAAAAMFBMVEX///+YmJjMzMzc3NyIiIhU\n",
       "VFR2dna6urqqqqpmZmYyMjIiIiIQEBBERETu7u4AAAD7tRWPAAAAAXRSTlMAQObYZgAAAAlwSFlz\n",
       "AAAOxAAADsQBlSsOGwAAAOpJREFUGNNjYEAHHGv+rN19R4CB784GVAmWqwoMC7iADK4JqBKcExhY\n",
       "BDKADP4GVAlWA4a3fBeAjPoHUCNu794FovkYGCaxKgAZ2RBx9iUPYHqYAjRB1FKXCBBlBRdn4H1w\n",
       "D6Tz14P3BkB6McKWNkYHkLP/MfCA6AUICbBjGTgXMPAnAM09vXv37r0QVzSkMzA8YOBOYKgHOhjs\n",
       "QAh4ywxkB4O8MR9kL8L/QUCf8H1g4FfgOwjiusAdO6ES6MsNDKwCvOAw4WqAO3YdA/ONCwx8YRPB\n",
       "fL7YOohEza2zd8+fTUA4kj0XEiRQAABokT0f5e0fIgAAAABJRU5ErkJggg==\n",
       "\" style=\"display:inline;vertical-align:middle;\" /></a>, <a class=\"ProveItLink\" href=\"../__pv_it/theorems/1157e8bc07ff5d23e5b8809064b9e77def3bc8980/expr.ipynb\"><img src=\"data:image/png;base64,iVBORw0KGgoAAAANSUhEUgAAAC8AAAAUCAMAAAAqRJTwAAAAPFBMVEX///8NDQ0WFhYLCwsYGBiY\n",
       "mJjMzMzc3NyIiIhUVFR2dna6urqqqqpmZmYyMjIiIiIQEBBERETu7u4AAAAYV9lEAAAAAXRSTlMA\n",
       "QObYZgAAAAlwSFlzAAAOxAAADsQBlSsOGwAAANlJREFUKM+VkusSxBAMhe2FkopLvP+7LjG6bK0Z\n",
       "fmhSn+OICPF/IM3+Ugx+iqvYZwAajxo6nPJRdYmzWdnXDclO5U2XSLYAfOKZpj7j0Se82TIJU/tn\n",
       "Ly8SW1bsxBmtzc2S6+Wp8bLEjvLUltHzeL/K3M44ElReN1NBL+S/fP6gY4Mwuh9LTHX5LPoeOLIL\n",
       "+XZfWygm8aop+38+6i2uGkWuvCxUys9IQY7yvy8iA2sV6yajcbRr7w3iSz+E0iFkAKVYy2cKQRs1\n",
       "72MLYms42sLlprzfkxdqtfgBzl0J3RfHeMcAAAAASUVORK5CYII=\n",
       "\" style=\"display:inline;vertical-align:middle;\" /></a> <a class=\"ProveItLink\" href=\"../__pv_it/demonstrations/7581391d4b7e08bdb6924fd1968a6e58f87550870/proof.ipynb\" style=\"text-decoration: none\">&nbsp;&#x22A2;&nbsp;&nbsp;</a><a class=\"ProveItLink\" href=\"../__pv_it/theorems/a925bf088ab052cb2008b5e660d23c8be4b0121f0/expr.ipynb\"><img src=\"data:image/png;base64,iVBORw0KGgoAAAANSUhEUgAAAH8AAAAVBAMAAACd/CwcAAAAMFBMVEX////MzMxUVFRERES6uroi\n",
       "IiIQEBCYmJhmZmYyMjLu7u52dnaqqqqIiIjc3NwAAACW8nlqAAAAAXRSTlMAQObYZgAAAAlwSFlz\n",
       "AAAOxAAADsQBlSsOGwAAAi5JREFUOMuNlE9IFHEUx7+zO+rM7DoOglGndYmICGVAlFCMOXkIIskW\n",
       "CjsEKVokBZ06RB4LERaClKJYWohuu9mlDsKCFESHZluiDhVDe+oQJOkKZeH7vd/Mri7MNj/4/d7j\n",
       "/Xifef9+A8BDlGWG3nSWIgFUt8nw5uqlwYkZUt628PowxSI/TcfHprtKGjqygJFtFfeGlMu09dze\n",
       "u9vETFD02rVWgfuAbdod83uv+mHYeZLt+D9A/S3Oy37NBjPnhMxBs9KiFhEAiXFxLknYw3oq3YoI\n",
       "akGkevQr1/jA7I+Ke7LiwFj85JDfalkC9L73lOwK698bpRiO53zumBfnIHG6pGw5HRfQ42EUxhUk\n",
       "JKBw3/gH3GD9Ud0/WbwpxHlqxAw0DhJDwC8o65gEUlY8G3ThXQ5zwGvWG03TpU6d1n6irci2AeAP\n",
       "ARSqelex4MKQgDvCjJRQlelMJjPB1s8JypUB7TYKTgD4S4Ak+XXZqTpgEiohx4Rq2EEAhl0FYp5I\n",
       "gT51C7sBHMF8I4JtaFSjV6yPB4CY1U+uoGKhUMKRpLcLgFnglKPbQQ3W8YTG7TrrXwLAfpWaeIib\n",
       "E3eTZzU23mXABvZZeABzCrEtNh/GMb/hVLrg7Q3TbFfXgB7Kpu/ZtzJPRi29Vut9uVk0F1aoKE9X\n",
       "y5u9wv74hZj3MzL1gyfkQF28NzBUGwHaLERbpp+9+lyOcrCa30joCn11xyMCqmEX+YiA0A+ZbiT/\n",
       "zpBf5w5GjpUKzrmAJgAAAABJRU5ErkJggg==\n",
       "\" style=\"display:inline;vertical-align:middle;\" /></a></span>"
      ],
      "text/plain": [
       "{a in Integer, b in Integer, b != 0} |- (a mod b) in Integer"
      ]
     },
     "execution_count": 23,
     "metadata": {},
     "output_type": "execute_result"
    }
   ],
   "source": [
    "# deduce that int mod int is in the Integer set\n",
    "a_mod_b.deduce_in_number_set(\n",
    "    Integer,\n",
    "    assumptions=[InSet(a, Integer), InSet(b, Integer), NotEquals(b, zero)])"
   ]
  },
  {
   "cell_type": "code",
   "execution_count": 24,
   "metadata": {},
   "outputs": [
    {
     "data": {
      "text/html": [
       "<span style=\"font-size:20px;\"> <a class=\"ProveItLink\" href=\"../__pv_it/demonstrations/5931c1afe187960968464b0daa37e272f83910720/proof.ipynb\" style=\"text-decoration: none\">&nbsp;&#x22A2;&nbsp;&nbsp;</a><a class=\"ProveItLink\" href=\"../__pv_it/demonstrations/fc0a66a93d5851803fa0611f49b59897e22782b10/expr.ipynb\"><img src=\"data:image/png;base64,iVBORw0KGgoAAAANSUhEUgAAAIEAAAAVBAMAAACTeZA2AAAAMFBMVEX////MzMxUVFRERES6uroi\n",
       "IiIQEBCYmJhmZmYyMjLu7u52dnaqqqqIiIjc3NwAAACW8nlqAAAAAXRSTlMAQObYZgAAAAlwSFlz\n",
       "AAAOxAAADsQBlSsOGwAAAjZJREFUOMuNlE1oE0EUx/+7afOxbTaL0GLx0PTgRSSMWAXByp6KItIg\n",
       "BqV6yCGHIh6CPXko5BgpQsCDYHsoLYK3hh6qHoqBYkE8dGMoFb0seCmIYmmaQo3GNzO7TVyzZR/s\n",
       "zuO9md++j3kLwEYQ0f1d8UogQo/lMbzYu7SA1YYJfAC+vR7tfmwrJ5adx+eAba/zck8S2k9AK0Er\n",
       "YLN7IHpdvBnemogteJyn7VdAFojmEW9iudQ9CEFQbYSziBQ8vrMsZiMNhCnFHBLHEcKHUP8A9x1b\n",
       "LZMRu1MzeokT3gvrZv64GNJQd4Fn0nTts+NLqcYXTpgVhb4tbENT32vWjZoJ7cknqnHfWrXu7O6l\n",
       "iq3I0jx36SmwkJmWZOXjiDTerCgHZiSLARtj0B6gzyUMUy8fCS1mtwkntUki3JNZyF5cBPag7OIu\n",
       "nTFCJacXHE3PhiSgTYhU1qkXsuNULC7ngV9EUJpAorxsQXMIUcbjEOpghoRJAs6okqAYCDVdwm8i\n",
       "9NPBBBtuEx7y17hQlzpiwKIms0gceggihkI7hv4yfgDvZE07CYpF0YxRCsmOLDgBU8CEGWNuHU4B\n",
       "1MJpOUZH80E3HVUmehTJu/fhqSDUMWhgDnoO6oFo4J1i0e07MO8SuBKluzVA69WinKwTjZH1RvLN\n",
       "flmfXaH78HKtup/kgbdaLdp5Sx5cHJUDMtRgYqrQayCY6GlHuX4h888M/DcwfhLN+3muBCR89fUs\n",
       "BST4f0m3AgHifr/Tv9f8mrEj2ASfAAAAAElFTkSuQmCC\n",
       "\" style=\"display:inline;vertical-align:middle;\" /></a></span>"
      ],
      "text/plain": [
       "|- (3 mod 2) in Natural"
      ]
     },
     "execution_count": 24,
     "metadata": {},
     "output_type": "execute_result"
    }
   ],
   "source": [
    "# deduce that int mod int is in the Natural set\n",
    "three_mod_two.deduce_in_number_set(Natural)"
   ]
  },
  {
   "cell_type": "code",
   "execution_count": 25,
   "metadata": {},
   "outputs": [
    {
     "data": {
      "text/html": [
       "<span style=\"font-size:20px;\"> <a class=\"ProveItLink\" href=\"../__pv_it/demonstrations/9eda43978595563e54125dce7732515f26f1200c0/proof.ipynb\" style=\"text-decoration: none\">&nbsp;&#x22A2;&nbsp;&nbsp;</a><a class=\"ProveItLink\" href=\"../__pv_it/demonstrations/bdf581d97f5c56505b23dccebffbcaf7455afb380/expr.ipynb\"><img src=\"data:image/png;base64,iVBORw0KGgoAAAANSUhEUgAAAIEAAAAVBAMAAACTeZA2AAAAMFBMVEX////MzMxUVFRERES6uroi\n",
       "IiIQEBCYmJhmZmYyMjLu7u52dnaqqqqIiIjc3NwAAACW8nlqAAAAAXRSTlMAQObYZgAAAAlwSFlz\n",
       "AAAOxAAADsQBlSsOGwAAAi9JREFUOMuNlM9LFGEYx78zm/tjdGeXQkE6uP4HE1qHQBs8SCHSIi0F\n",
       "dRDcg0SHIQ/hbbttiLAgElTg4h4qLy6e7CAuSIF0cGyJotOQEIIUSbsKtrU97/vO7E7rjswDM+/D\n",
       "8+7zmefnArDgR1Tvq2jJF+Gc2WKYnbq2OGUw7T1wsD7Y3u1jmh/7Ty4Bn1ovta8YmckDSg5KBjvt\n",
       "A1Er/K1hU0ck30o4QEBKAGED0RpWc+2D4ATZQnASocxpQtgivyClmEbsLELwBPJf4L5tK6dSuQZB\n",
       "A7a5dcc4K4Yk5EPgqTDd+NKMQV6hLOZ4oW9zW+/097I5XtahzH/Wgc6N3Yr9646fwJoozTNXFhe2\n",
       "LUGWPvQL40RJOtZDk+i2MATlATodQh/1cpZrkcb4aN8WqyyeeyIL0YsrwC9Ih7hLPvFAzu4FQ9Pz\n",
       "ThBclXz0mp2i41QsJgPAbyJINSBWXDWh2ISwxuLgak+KRBOEwEtDEKQ4AjWH8IcIXeQY0/qahIfs\n",
       "NcrVgisGKXNVZBE7aSHwGDLNGLqK+AG8FTV1z8PjPTqHKIWEKwtGwDRwU49oTh0uAlSyGbFGpotQ\n",
       "iBq8RyHDmYcFTqigJ47nUNOQj3kD72SzSbvvwIsGYZ88aaG6Sb+eFZt1/qh/6yjxplpU59ZoHl5t\n",
       "7FYTLPB6vU5TeEs4Lg/mnd0cxsBSCR1x+BM1aStjl1P/7cCphfGSsOF1M+yTsOd5U/BJ8P6SavoC\n",
       "RL3+Tv8B9halxYzP9wsAAAAASUVORK5CYII=\n",
       "\" style=\"display:inline;vertical-align:middle;\" /></a></span>"
      ],
      "text/plain": [
       "|- (3 mod 2) in Real"
      ]
     },
     "execution_count": 25,
     "metadata": {},
     "output_type": "execute_result"
    }
   ],
   "source": [
    "# deduce that int mod int is in the Real set\n",
    "three_mod_two.deduce_in_number_set(Real)"
   ]
  },
  {
   "cell_type": "code",
   "execution_count": 26,
   "metadata": {},
   "outputs": [
    {
     "data": {
      "text/html": [
       "<span style=\"font-size:20px;\"><a class=\"ProveItLink\" href=\"../../ordering/__pv_it/theorems/4aa8d696b1f407d6126de9f51a052e8d90e0848c0/expr.ipynb\"><img src=\"data:image/png;base64,iVBORw0KGgoAAAANSUhEUgAAADMAAAAQBAMAAABJt1qBAAAAMFBMVEX////MzMwyMjKqqqoiIiJm\n",
       "ZmaYmJju7u5EREQQEBC6urqIiIh2dnZUVFTc3NwAAAAqL9KcAAAAAXRSTlMAQObYZgAAAAlwSFlz\n",
       "AAAOxAAADsQBlSsOGwAAAM1JREFUGNNjYMAASTP6VWYkMGAFDW8Z1mYUYJd6w8DBeAGXFOsDBRSh\n",
       "HS4uCnCpBmSZRdsRunjLQQby3dm3ASTAp45koITRAyBj5QOO7yABpgdwqZcqX0AmsE9jYHUASyE5\n",
       "I60IRLN+YGA5AGJIugBBA0SKowzkZc4GhvoFIIEKJF2MAe1Aun4DQz5YgAXZX4EvQFIGDJeYQS7g\n",
       "3oAkVcENNJFjA7MrK1hEGS71lIEtoQvowtsH324Ei9R2FcBCvo+hQ98AOTjWtLgghxwApbZCEcpv\n",
       "FP8AAAAASUVORK5CYII=\n",
       "\" style=\"display:inline;vertical-align:middle;\" /></a>, <a class=\"ProveItLink\" href=\"../../ordering/__pv_it/theorems/6e5cad5b2984ed0d75bd47bd0c542ec447a4f3570/expr.ipynb\"><img src=\"data:image/png;base64,iVBORw0KGgoAAAANSUhEUgAAADEAAAAQBAMAAABNQoq8AAAAMFBMVEX///+YmJjMzMzc3NyIiIhU\n",
       "VFR2dna6urqqqqpmZmYyMjIiIiIQEBBERETu7u4AAAD7tRWPAAAAAXRSTlMAQObYZgAAAAlwSFlz\n",
       "AAAOxAAADsQBlSsOGwAAANZJREFUGNNjYEAHUmfvrz4rAGTw3dmAJnXBlKFU9gGQwTUBXcaMgZcp\n",
       "AMjgb8CU4TRYAGTUP4CK+O7evQAucwHIyIZKVPkh9LC+A5m21CUCxGdeh2SabpcB0G2/Hrw3ADnE\n",
       "AC5js/o3SD/HPwYeB5AMkgsEX4FozgUM/AlAWmc3EFyAyPA+BPmUO4GhHuTut0h6mCbcg3hnPsjd\n",
       "3Mj+mWQLklHgOwjiszggybxlARrHKsALCZ4VcBlLBkaB60BXh02ECDy9/gAW1pcZ7q5HDrOy25DQ\n",
       "gQIAY/lDzDbeA58AAAAASUVORK5CYII=\n",
       "\" style=\"display:inline;vertical-align:middle;\" /></a>, <a class=\"ProveItLink\" href=\"../__pv_it/theorems/1157e8bc07ff5d23e5b8809064b9e77def3bc8980/expr.ipynb\"><img src=\"data:image/png;base64,iVBORw0KGgoAAAANSUhEUgAAAC8AAAAUCAMAAAAqRJTwAAAAPFBMVEX///8NDQ0WFhYLCwsYGBiY\n",
       "mJjMzMzc3NyIiIhUVFR2dna6urqqqqpmZmYyMjIiIiIQEBBERETu7u4AAAAYV9lEAAAAAXRSTlMA\n",
       "QObYZgAAAAlwSFlzAAAOxAAADsQBlSsOGwAAANlJREFUKM+VkusSxBAMhe2FkopLvP+7LjG6bK0Z\n",
       "fmhSn+OICPF/IM3+Ugx+iqvYZwAajxo6nPJRdYmzWdnXDclO5U2XSLYAfOKZpj7j0Se82TIJU/tn\n",
       "Ly8SW1bsxBmtzc2S6+Wp8bLEjvLUltHzeL/K3M44ElReN1NBL+S/fP6gY4Mwuh9LTHX5LPoeOLIL\n",
       "+XZfWygm8aop+38+6i2uGkWuvCxUys9IQY7yvy8iA2sV6yajcbRr7w3iSz+E0iFkAKVYy2cKQRs1\n",
       "72MLYms42sLlprzfkxdqtfgBzl0J3RfHeMcAAAAASUVORK5CYII=\n",
       "\" style=\"display:inline;vertical-align:middle;\" /></a> <a class=\"ProveItLink\" href=\"../__pv_it/demonstrations/87b54f3ba734edc1b5becad5e29f35ccb96321140/proof.ipynb\" style=\"text-decoration: none\">&nbsp;&#x22A2;&nbsp;&nbsp;</a><a class=\"ProveItLink\" href=\"../__pv_it/theorems/6c67ccaf07dae1c6956687bcfbdb74f36f65ac0b0/expr.ipynb\"><img src=\"data:image/png;base64,iVBORw0KGgoAAAANSUhEUgAAAIAAAAAVBAMAAAB8u/sIAAAAMFBMVEX////MzMxUVFRERES6uroi\n",
       "IiIQEBCYmJhmZmYyMjLu7u52dnaqqqqIiIjc3NwAAACW8nlqAAAAAXRSTlMAQObYZgAAAAlwSFlz\n",
       "AAAOxAAADsQBlSsOGwAAAiZJREFUOMuNlE1I3EAYht847iYbY3YRlPai25NYWwj4R6WWnApFRCls\n",
       "EVTqQdCCh71t8eLePIh2qdCCLSXopbfdCqV4EBY8iZcsS2kpVILQo6D4hz+FfjPZ1VTNmjlMZt6Z\n",
       "eeb9vi8JAAdBmv+u2nwgQN+Vufyu7eRFFx9tVjj1fYz3aucA3ZO8ssb0eHVzN61mKgD0A/GIpKlb\n",
       "vAbIwagDlGQl4y4gyqN8fQNgPgKEcTug36IubLlSMZHIXAAYsBEA8FXE4Vp99svj4P4SMMtDbd2y\n",
       "uXZ3Yqdo9xVNqHM/TaBmreAC3v5+QLO4yMqiJwTp8SfgPY2fOuxUiM/z0rEpj6LeQQ/USdQIgHpi\n",
       "ZR3IwnjEuQS8ejlCYQ3ThnEoA0LsBPYh7WEIaIqxTKkK2inCNrRRAfAk8dsUZ1KllV2EckJsA84I\n",
       "IJ1T5nNZG6oAKBmaQdrl44YENaMUQnfKBYQNZM0y4C8BNDoXNZrKAKL351EtHCx7y3iHuSHQVdPw\n",
       "AoSD9IUDeg3eWNBElCEvQGkkLz0EyKNFczwATFDtzYhRykE0RlmCLIzX2h6AavwAVmhoa4OKEBcE\n",
       "4AANMXyAPoaqY65WJRm9y4qbpo+XgDRSzEQ9VeHhl+0C1+qO7q0fxVcPc/rsCiXl81rhkBdfbZ3h\n",
       "5t00LbVb5a9x32GPzhGKIVj7U3r2diT++/7kdEDAjN/Ck2DndcNvZTkYgPn+03Q7EGDLR/8HmHCX\n",
       "bh6etwcAAAAASUVORK5CYII=\n",
       "\" style=\"display:inline;vertical-align:middle;\" /></a></span>"
      ],
      "text/plain": [
       "{a in Real, b in Real, b != 0} |- (a mod b) in Real"
      ]
     },
     "execution_count": 26,
     "metadata": {},
     "output_type": "execute_result"
    }
   ],
   "source": [
    "# deduce that int mod int is in the Real set\n",
    "a_mod_b.deduce_in_number_set(\n",
    "    Real,\n",
    "    assumptions=[InSet(a, Real), InSet(b, Real), NotEquals(b, zero)])"
   ]
  },
  {
   "cell_type": "code",
   "execution_count": 27,
   "metadata": {},
   "outputs": [
    {
     "name": "stdout",
     "output_type": "stream",
     "text": [
      "EXCEPTION:  'Mod.deduce_in_number_set()' not implemented for the NaturalPos set\n"
     ]
    }
   ],
   "source": [
    "# What happens if we try to deduce into an incorrect set?\n",
    "try:\n",
    "    three_mod_two.deduce_in_number_set(NaturalPos)\n",
    "except Exception as e:\n",
    "    print(\"EXCEPTION: \", e)"
   ]
  },
  {
   "cell_type": "markdown",
   "metadata": {},
   "source": [
    "<font size=4>Testing `ModAbs` methods.</font>"
   ]
  },
  {
   "cell_type": "code",
   "execution_count": 28,
   "metadata": {},
   "outputs": [
    {
     "data": {
      "text/html": [
       "<strong id=\"abs_three_mod_two\">abs_three_mod_two:</strong> <a class=\"ProveItLink\" href=\"../__pv_it/demonstrations/8cc9baf22794e3eaab812c8589d785381c32178e0/expr.ipynb\"><img src=\"data:image/png;base64,iVBORw0KGgoAAAANSUhEUgAAAD4AAAAWBAMAAABqEDIsAAAAMFBMVEX///9UVFQiIiKYmJgQEBAy\n",
       "MjKqqqru7u5ERERmZmbMzMyIiIi6urp2dnbc3NwAAAAjnfU8AAAAAXRSTlMAQObYZgAAAAlwSFlz\n",
       "AAAOxAAADsQBlSsOGwAAAQdJREFUKM9jeMAAATAaHdxBo7HIv73Zg0+efQJDfgIeee5vDPUBeOR5\n",
       "fBj48ckDQb4BXnkeZbzu59ooxUDA/AT88izf8chzLWDg+IZHnv87FnluNwYG9ruCBUBxFgFs5ocx\n",
       "MHAycCoAxZkNsPm/jYGB/wDfL5D4yZng+KnQyhY3lmFg2Ly3gGG3NVA/cwFEHuoOvm8MEQxJDBwH\n",
       "2BU4LzC4gQR5FZDlvzP0MixhWM/A0P2+AGQ/A8OiAmT5DwzSQHkTBgbJ82D3MfC1M2DKA/VHQ/W/\n",
       "ZHjHsAsqvwsk3w2UZ03gc2c04APaz9e1ajqSjwp/Mruek7/AcHvnA4bb1qoLGFj+//8AAGm4Y/X6\n",
       "miedAAAAAElFTkSuQmCC\n",
       "\" style=\"display:inline;vertical-align:middle;\" /></a><br>"
      ],
      "text/plain": [
       "abs_three_mod_two: |3|_{mod 2}"
      ]
     },
     "execution_count": 28,
     "metadata": {},
     "output_type": "execute_result"
    }
   ],
   "source": [
    "abs_three_mod_two = ModAbs(three, two)"
   ]
  },
  {
   "cell_type": "code",
   "execution_count": 29,
   "metadata": {},
   "outputs": [
    {
     "data": {
      "text/html": [
       "<strong id=\"abs_a_mod_b\">abs_a_mod_b:</strong> <a class=\"ProveItLink\" href=\"../__pv_it/demonstrations/a5880d4291150732db1a1ec45eb66e5e8a3cac0f0/expr.ipynb\"><img src=\"data:image/png;base64,iVBORw0KGgoAAAANSUhEUgAAAD4AAAAWBAMAAABqEDIsAAAAMFBMVEX///8yMjKqqqoiIiJmZmaY\n",
       "mJju7u5EREQQEBBUVFTMzMyIiIi6urp2dnbc3NwAAABRd72LAAAAAXRSTlMAQObYZgAAAAlwSFlz\n",
       "AAAOxAAADsQBlSsOGwAAAPZJREFUKM9jeMAAAXwM2MEdKM17YMjK883dtwGf/IkH7N/wyLO1MrAY\n",
       "4JFn+cDAfAGPPEcBQ/4BPPL5GxjiMd2/Q4GBYWEBWF6BYSLTA3R5RqA85wWQPPsGJhMWDP3sQHmO\n",
       "BWD3z771chdQnq140c7UyAMM3NHXGLi3bgTKr989DTn83iswFjAZMNQwJDP4MnAA5TcnbEGRT2C/\n",
       "wNXA9YGBfd83sP2lDIEo8gycG7gaWBsYOH0+gOW7GDwx5YH6GaH6PzA0MeyCynMvAMqzA+UZhBhe\n",
       "JExleAGUN2MtQPIR23yHCJmXfxl4d/sx8G7dLMXAsGQ3AwD792G8Z/q04QAAAABJRU5ErkJggg==\n",
       "\" style=\"display:inline;vertical-align:middle;\" /></a><br>"
      ],
      "text/plain": [
       "abs_a_mod_b: |a|_{mod b}"
      ]
     },
     "execution_count": 29,
     "metadata": {},
     "output_type": "execute_result"
    }
   ],
   "source": [
    "abs_a_mod_b = ModAbs(a, b)"
   ]
  },
  {
   "cell_type": "code",
   "execution_count": 30,
   "metadata": {},
   "outputs": [
    {
     "data": {
      "text/plain": [
       "'|3|_{mod 2}'"
      ]
     },
     "execution_count": 30,
     "metadata": {},
     "output_type": "execute_result"
    }
   ],
   "source": [
    "str(abs_three_mod_two)"
   ]
  },
  {
   "cell_type": "code",
   "execution_count": 31,
   "metadata": {},
   "outputs": [
    {
     "data": {
      "text/html": [
       "<span style=\"font-size:20px;\"> <a class=\"ProveItLink\" href=\"../__pv_it/demonstrations/8c2c0a04ee098906eff51217720c86fc63b5a4400/proof.ipynb\" style=\"text-decoration: none\">&nbsp;&#x22A2;&nbsp;&nbsp;</a><a class=\"ProveItLink\" href=\"../__pv_it/demonstrations/4151746f62599182fc1a8133c356f6dc747a51300/expr.ipynb\"><img src=\"data:image/png;base64,iVBORw0KGgoAAAANSUhEUgAAAGcAAAAWBAMAAAAvEZ+uAAAAMFBMVEX///9UVFQiIiKYmJgQEBAy\n",
       "MjKqqqru7u5ERERmZmbMzMyIiIi6urp2dnbc3NwAAAAjnfU8AAAAAXRSTlMAQObYZgAAAAlwSFlz\n",
       "AAAOxAAADsQBlSsOGwAAAaJJREFUOMtjeMAAATCaKHAHjcYLUv1dmzScwYrf3uwhUtMOKQZWhgCQ\n",
       "YvYJDPkJxGmaycCwmTcBpIn7G0N9AHGa5BjYGyrAfuHxYeAnoIm7SUkVRBcwcC6QggVAvgFeTTzR\n",
       "BTDmQq4JUE08yvgD4ilcD0M7RwFEE9dGKfya4uAstgvW8PghEHoBcBYrhA1WzPIdnyYuJyUlJQ0w\n",
       "cxvvAQZ2kCauBQwc3/BpYm9AsF4wMDA+ACrm/45N0xZgHNZeFAezFWCCjAvkGBjqQTaxCGBzHitQ\n",
       "0wSGSWD2bpjgSh5ggAuBNDEbYIsnDqCmPwzvF8AMgAQ4awHDiwxwQJycCU6wFVrZ4sYywNS1t4CB\n",
       "e/NWoEJzqCZ2ieOQSPYI6Wj50oucNfi+MUQwJDFwHGBXYJjLwAI2/RI0SdyAJCPM/MT3naGXYQnD\n",
       "egaGbiAT7CQudUKZkO8DgzRQkwkDgyTPB4imFwVEagLaFA21iW8CH/ZSYBecBmrqBmpiTeBzZxBm\n",
       "eALU9GLVygICOazwJ7PrOfkLDLd3PmDg3bwpioHB//9/rCoB9buG2WjG/IgAAAAASUVORK5CYII=\n",
       "\" style=\"display:inline;vertical-align:middle;\" /></a></span>"
      ],
      "text/plain": [
       "|- |3|_{mod 2} in Integer"
      ]
     },
     "execution_count": 31,
     "metadata": {},
     "output_type": "execute_result"
    }
   ],
   "source": [
    "abs_three_mod_two.deduce_in_number_set(Integer)"
   ]
  },
  {
   "cell_type": "code",
   "execution_count": 32,
   "metadata": {},
   "outputs": [
    {
     "data": {
      "text/html": [
       "<span style=\"font-size:20px;\"> <a class=\"ProveItLink\" href=\"../__pv_it/demonstrations/ab3ccd2c98429ee3af32a90a49d13da03a281e610/proof.ipynb\" style=\"text-decoration: none\">&nbsp;&#x22A2;&nbsp;&nbsp;</a><a class=\"ProveItLink\" href=\"../__pv_it/demonstrations/599ea2c6ac5da7fa04d80d16312829789d3c6b9d0/expr.ipynb\"><img src=\"data:image/png;base64,iVBORw0KGgoAAAANSUhEUgAAAGgAAAAWBAMAAADeGsQjAAAAMFBMVEX///9UVFQiIiKYmJgQEBAy\n",
       "MjKqqqru7u5ERERmZmbMzMyIiIi6urp2dnbc3NwAAAAjnfU8AAAAAXRSTlMAQObYZgAAAAlwSFlz\n",
       "AAAOxAAADsQBlSsOGwAAAZNJREFUOMtjeMAAATCaKHAHjcYHmEM6vqo0QxS/vdlDnCYGDj4BHuF2\n",
       "kGL2CQz5CcRqusDQsBCkifsbQ30A8ZrmsYI08fgw8BPQtENJKQCuiQPql3wDvJqObkeySbwQoolH\n",
       "GW9A8IUjOY+rLQ6smGujFF5NrA8Qmlz1tQtgzsMbeqxIAXHZPAAWqSzf8WlaogQEDVDntRuDNXEt\n",
       "YOD4hk9TBXKQr+QAO4//OxZN3G4MDOx3BQtAbCZkTZzrGkCaWASwOS+MgYGTgVMBbMAGJE3sDZtB\n",
       "mpgNsMVTGwMD/wG+XzADYJomMBhzHAApPjkTnGArtLLFjWUYGDbvLWDYbQ1UyFwA1VTYUwBL5T8e\n",
       "cLR+Q8oafN8YIhiSGDgOsCtwXmBwAwnyKkAkzzZBkhFmfuL7ztDLsIRhPQND9/sCiJMWFRDKhHwf\n",
       "GKSBmkwYGCTPQ/zB185ApCagTdFQm14yvMOuaRecBmrqBmpiTeBzZzTgA/qJr2vVdEI5rPAns+s5\n",
       "+QsMt3c+YLhtrbqAgeX//w9YVQIAa2+KalJNKeYAAAAASUVORK5CYII=\n",
       "\" style=\"display:inline;vertical-align:middle;\" /></a></span>"
      ],
      "text/plain": [
       "|- |3|_{mod 2} in Real"
      ]
     },
     "execution_count": 32,
     "metadata": {},
     "output_type": "execute_result"
    }
   ],
   "source": [
    "abs_three_mod_two.deduce_in_number_set(Real)"
   ]
  },
  {
   "cell_type": "code",
   "execution_count": 33,
   "metadata": {},
   "outputs": [
    {
     "name": "stdout",
     "output_type": "stream",
     "text": [
      "EXCEPTION:  'ModAbs.deduce_in_number_set()' not implemented for the Natural set\n"
     ]
    }
   ],
   "source": [
    "# what happens if we try to deduce into an incorrect set?\n",
    "try:\n",
    "    abs_three_mod_two.deduce_in_number_set(Natural)\n",
    "except Exception as the_exception:\n",
    "    print(\"EXCEPTION: \", the_exception)"
   ]
  },
  {
   "cell_type": "code",
   "execution_count": 34,
   "metadata": {},
   "outputs": [
    {
     "data": {
      "text/html": [
       "<strong id=\"temp_assumptions\">temp_assumptions:</strong> <a class=\"ProveItLink\" href=\"../__pv_it/demonstrations/0c0c2723cff9ab210cc6164f837c9eb73bdb8c320/expr.ipynb\"><img src=\"data:image/png;base64,iVBORw0KGgoAAAANSUhEUgAAAM4AAAAZBAMAAACLCgxgAAAAMFBMVEX///9UVFQiIiKIiIjMzMx2\n",
       "dnYQEBDc3NxEREQyMjLu7u5mZmaqqqq6urqYmJgAAAB66f/FAAAAAXRSTlMAQObYZgAAAAlwSFlz\n",
       "AAAOxAAADsQBlSsOGwAAAuJJREFUSMe1Vk1IVFEU/tSxefOebxxwYxEyTGh/izQpxEXYJoMWCW2i\n",
       "IAZbNK0aicJw8zCoydJ5GSRY4LMgLCiHKPrZJG2qVbZoUQSOuwo0KUUNh7pn7p337tPrLIQ5MPfc\n",
       "y3fmfOeee87hAZhBCcWgJUNLVaaUPBot3bQ8RMl5wo1sGVCg4dup5YaBdf5aFOTyI5EeTGRdHuwC\n",
       "gnFlGMGIWdfH92OdRUCg5V8bzJGE4zOxuvDpu+PyNLGH6lDzdMA6KA53ioFAOgKU+2lgXYAWiOBl\n",
       "6koqxe417qB6cj2eFyFxWCkGwny/CFRiDY+RtN37hLI46oukJRazXVeacPRXgBW9sZ2rQUbxeAH4\n",
       "5rfgPJbLY1jYK9N8aZVC3jIqHEUF3y1nLUgd0gCc8FsQT9mjiMtTEcdm0l3HzpMKDkupCdwY4vtQ\n",
       "TdME6UuOAiSeX1neiZ4F8Rz+kHR5WEpSpM4gTSahpMdzds828a/xYX2R9JAKpJRVR8GLach7n4uD\n",
       "v1vdeYDAPG4y9SCLp/nIpac+9dMW+48OTpO2VSClzMiZvJhsqQ5m5f4P5rCbqTdAPR0PxZhYIjV9\n",
       "s8LoFbBAMXUycMdqkIZXcKkyfzvPgvFoT7Iej57L3ydBG+pIuXSPaCI19TCpsnVLBYJSlu7h3izp\n",
       "PoFMn3SffN70PwjP0bFc5jHarUL7GPnKjqpAmKxGpp7zfVTun2fdHk9gEbWMZwVl9jsqv0bJlW4d\n",
       "ACjqeXo/Js0qEJSy8hwHmmWesQovcaze9jN1GW8z+cq867nKYFab1JfZvg7XeX1PKEDco8k6B78F\n",
       "rB6Es/3e6I1jisUzuq+9po3Oo/1OYSQvJbVrK4gRepIHptd+VYDnKDaRxIIFzeurSI24tEYEm3zz\n",
       "7XNvzJbPVfJUMo+LqaIClRYFYfNNPa/d4bVh0CdsXgfixQzubxj0yTT7bS1m0Lhh0CfbS/59APf7\n",
       "oKqj5Dy8Y2dKzvMa+A9zbtsIqcFHMwAAAABJRU5ErkJggg==\n",
       "\" style=\"display:inline;vertical-align:middle;\" /></a><br>"
      ],
      "text/plain": [
       "temp_assumptions: (a in Real, b in Real, N in RealPos)"
      ]
     },
     "execution_count": 34,
     "metadata": {},
     "output_type": "execute_result"
    }
   ],
   "source": [
    "from proveit import a, b, N\n",
    "from proveit.numbers import subtract\n",
    "temp_assumptions = [InSet(a, Real), InSet(b, Real), InSet(N, RealPos)]"
   ]
  },
  {
   "cell_type": "code",
   "execution_count": 35,
   "metadata": {},
   "outputs": [
    {
     "data": {
      "text/html": [
       "<span style=\"font-size:20px;\"><a class=\"ProveItLink\" href=\"../../ordering/__pv_it/theorems/4aa8d696b1f407d6126de9f51a052e8d90e0848c0/expr.ipynb\"><img src=\"data:image/png;base64,iVBORw0KGgoAAAANSUhEUgAAADMAAAAQBAMAAABJt1qBAAAAMFBMVEX////MzMwyMjKqqqoiIiJm\n",
       "ZmaYmJju7u5EREQQEBC6urqIiIh2dnZUVFTc3NwAAAAqL9KcAAAAAXRSTlMAQObYZgAAAAlwSFlz\n",
       "AAAOxAAADsQBlSsOGwAAAM1JREFUGNNjYMAASTP6VWYkMGAFDW8Z1mYUYJd6w8DBeAGXFOsDBRSh\n",
       "HS4uCnCpBmSZRdsRunjLQQby3dm3ASTAp45koITRAyBj5QOO7yABpgdwqZcqX0AmsE9jYHUASyE5\n",
       "I60IRLN+YGA5AGJIugBBA0SKowzkZc4GhvoFIIEKJF2MAe1Aun4DQz5YgAXZX4EvQFIGDJeYQS7g\n",
       "3oAkVcENNJFjA7MrK1hEGS71lIEtoQvowtsH324Ei9R2FcBCvo+hQ98AOTjWtLgghxwApbZCEcpv\n",
       "FP8AAAAASUVORK5CYII=\n",
       "\" style=\"display:inline;vertical-align:middle;\" /></a>, <a class=\"ProveItLink\" href=\"../../ordering/__pv_it/theorems/6e5cad5b2984ed0d75bd47bd0c542ec447a4f3570/expr.ipynb\"><img src=\"data:image/png;base64,iVBORw0KGgoAAAANSUhEUgAAADEAAAAQBAMAAABNQoq8AAAAMFBMVEX///+YmJjMzMzc3NyIiIhU\n",
       "VFR2dna6urqqqqpmZmYyMjIiIiIQEBBERETu7u4AAAD7tRWPAAAAAXRSTlMAQObYZgAAAAlwSFlz\n",
       "AAAOxAAADsQBlSsOGwAAANZJREFUGNNjYEAHUmfvrz4rAGTw3dmAJnXBlKFU9gGQwTUBXcaMgZcp\n",
       "AMjgb8CU4TRYAGTUP4CK+O7evQAucwHIyIZKVPkh9LC+A5m21CUCxGdeh2SabpcB0G2/Hrw3ADnE\n",
       "AC5js/o3SD/HPwYeB5AMkgsEX4FozgUM/AlAWmc3EFyAyPA+BPmUO4GhHuTut0h6mCbcg3hnPsjd\n",
       "3Mj+mWQLklHgOwjiszggybxlARrHKsALCZ4VcBlLBkaB60BXh02ECDy9/gAW1pcZ7q5HDrOy25DQ\n",
       "gQIAY/lDzDbeA58AAAAASUVORK5CYII=\n",
       "\" style=\"display:inline;vertical-align:middle;\" /></a>, <a class=\"ProveItLink\" href=\"../__pv_it/demonstrations/90d0aed550740e8eefa0115db24abfdb56ee66210/expr.ipynb\"><img src=\"data:image/png;base64,iVBORw0KGgoAAAANSUhEUgAAAEcAAAATBAMAAAAwgQ3NAAAAMFBMVEX///+YmJhmZmZ2dnbc3Nyq\n",
       "qqoiIiJUVFTu7u4QEBAyMjK6urrMzMxERESIiIgAAADdQ9CtAAAAAXRSTlMAQObYZgAAAAlwSFlz\n",
       "AAAOxAAADsQBlSsOGwAAARJJREFUKM9jYCAAmBiIALwUKpKae3/ZXAEkRW//H2DgXj+3AUXVBXeG\n",
       "7bINSCbdL2BgYENVw3DBmYGXp4BB9+7Nu3dBJnLHfmFgYGbAUMTksABhEnP3ZwaGrVDJt2lpC+CK\n",
       "LiAUMTFkMjBYQNi7XiBMYu8oQFYkL8CgAGayrECy7myUA0LRVgb+BAYDMJPLAa7Ic9m3F0ghbsHA\n",
       "9Jt7A0QRksMFu5A9osDA8pcZEgIn04DgAkQRb6MAkiKgTfedIMxeJJN4FG4g1HAHMDDsV4aw2ZDD\n",
       "SccXoQhkE9tvCJvvAZKiXj6EfW1AzPgBylkKV+TEwChwG8Zrnw+SuADj3W6ApYIrDHfXB2BPI5uv\n",
       "QaIFBQAAj+1NAcsYPk0AAAAASUVORK5CYII=\n",
       "\" style=\"display:inline;vertical-align:middle;\" /></a> <a class=\"ProveItLink\" href=\"../__pv_it/demonstrations/3c6fd6306dec85de9495c375f2835d48e241d4f60/proof.ipynb\" style=\"text-decoration: none\">&nbsp;&#x22A2;&nbsp;&nbsp;</a><a class=\"ProveItLink\" href=\"../__pv_it/theorems/977eb780fea0d0ca6bb919983064f371adb93aa10/expr.ipynb\"><img src=\"data:image/png;base64,iVBORw0KGgoAAAANSUhEUgAAAO4AAAAWBAMAAAA1Ab1lAAAAMFBMVEX///8yMjKqqqoiIiJmZmaY\n",
       "mJju7u5EREQQEBBUVFTMzMyIiIi6urp2dnbc3NwAAABRd72LAAAAAXRSTlMAQObYZgAAAAlwSFlz\n",
       "AAAOxAAADsQBlSsOGwAAAmVJREFUSMetlc9r02AYx7+tWdIkSzr15C8IeJeKA5kgBIqe1OWo9GBE\n",
       "BD1l6EVUWBHE22CCIoxh6B8gkbHhWizzpBdpYODB9ZDjiofWwnpxgu/71mnfZVn6zj6HEN73/T6f\n",
       "98n3ed8gQkKYGDaSV0bJombShLE2LDd5ZVOMKz8siHGZ4P+5yNiC9VLBCLh5S5BLBSPgNlxBLhWM\n",
       "gLsu2lfrB+krc7Ee8IPHai/EuFTAR2vjexr3c6T0+H7+4XpRCrd4jsbUn36mAm56fA6z7v5c+Rkk\n",
       "/hhke8gFIvUyATd210ExpV6pg0MhebvFKrhA3qQJ5EMRLhOQ73SUpfDJ2DRwMYWbm4HHM8g2GpYI\n",
       "lwm4seeQt1O4XoCbseM77e7mvqeJP21h/HAQ85cJuA75ibFOjKs/pc7POvh4gnItzGe5rsj7xPPd\n",
       "3Azl6q+BerxeJuC4XagTZ2L1HqGP1TL0iEwpQXZS4qZVR7FjXIVyJc9BGOcyARePcdq2Y9z79HF5\n",
       "Cwbr54VvrSq/28VL7HQ8qKzeubEGvfQV+vI7yjVI5+/BZQIu7n14u+CjOZgCtRKrNyz2ucm3QdvK\n",
       "zGQLeILbuIoc5VbkrmaJ/AcHUkghqL+a5VmVFK6rhFpZ60Cp9/r+rqCou0LcvymCtsv81V2psJLC\n",
       "hRpo5bEy1CudPtdG+4vQf/9fCrvR7ysJ5nY4DJdsNrNTbwj11AG4NMVOvcTbecKtJml0n4gUIiKr\n",
       "N92X2LSoNzC7e61MiOpgCtUxqb/E27a17z0kv7Gvn2z9glG7BmN56Tiw9Ah4BYEYTIGN0lkf+nkf\n",
       "qovfyiLunrkGpRwAAAAASUVORK5CYII=\n",
       "\" style=\"display:inline;vertical-align:middle;\" /></a></span>"
      ],
      "text/plain": [
       "{a in Real, b in Real, N in RealPos} |- |a - b|_{mod N} = |b - a|_{mod N}"
      ]
     },
     "execution_count": 35,
     "metadata": {},
     "output_type": "execute_result"
    }
   ],
   "source": [
    "ModAbs(subtract(a, b), N).difference_reversal(assumptions=temp_assumptions)"
   ]
  },
  {
   "cell_type": "code",
   "execution_count": 36,
   "metadata": {},
   "outputs": [],
   "source": [
    "%end demonstrations"
   ]
  }
 ],
 "metadata": {
  "kernelspec": {
   "display_name": "Python 3",
   "language": "python",
   "name": "python3"
  },
  "language_info": {
   "codemirror_mode": {
    "name": "ipython",
    "version": 3
   },
   "file_extension": ".py",
   "mimetype": "text/x-python",
   "name": "python",
   "nbconvert_exporter": "python",
   "pygments_lexer": "ipython3",
   "version": "3.7.3"
  }
 },
 "nbformat": 4,
 "nbformat_minor": 1
}
