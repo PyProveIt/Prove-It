{
 "cells": [
  {
   "cell_type": "markdown",
   "metadata": {},
   "source": [
    "Theorems (or conjectures) for the theory of <a class=\"ProveItLink\" href=\"theory.ipynb\">proveit.numbers.modular</a>\n",
    "========"
   ]
  },
  {
   "cell_type": "code",
   "execution_count": 1,
   "metadata": {},
   "outputs": [],
   "source": [
    "import proveit\n",
    "# Prepare this notebook for defining the theorems of a theory:\n",
    "%theorems_notebook # Keep this at the top following 'import proveit'.\n",
    "from proveit import Lambda, IndexedVar, ExprRange\n",
    "from proveit import a, b, c, i, j, n, x, y, L, N, S\n",
    "from proveit.logic import (And, Equals, Forall, Iff, InSet, NotEquals, \n",
    "                           SubsetEq, SetOfAll, Card, Bijections)\n",
    "from proveit.numbers import (Abs, Add, frac, greater_eq, LessEq, Interval, IntervalCO,\n",
    "                            Mod, ModAbs, Mult, Neg, number_ordering, subtract)\n",
    "from proveit.numbers import (zero, one, two, ZeroSet, Natural, Integer, NaturalPos, \n",
    "                            Real, RealPos, Complex)\n",
    "from proveit.core_expr_types import a_1_to_n, a_1_to_i, c_1_to_j"
   ]
  },
  {
   "cell_type": "code",
   "execution_count": 2,
   "metadata": {},
   "outputs": [
    {
     "name": "stdout",
     "output_type": "stream",
     "text": [
      "Defining theorems for theory 'proveit.numbers.modular'\n",
      "Subsequent end-of-cell assignments will define theorems\n",
      "'%end theorems' will finalize the definitions\n"
     ]
    }
   ],
   "source": [
    "%begin theorems"
   ]
  },
  {
   "cell_type": "code",
   "execution_count": 3,
   "metadata": {},
   "outputs": [
    {
     "data": {
      "text/html": [
       "<strong id=\"mod_in_zero_set_int\"><a class=\"ProveItLink\" href=\"proofs/mod_in_zero_set_int/thm_proof.ipynb\">mod_in_zero_set_int</a> (conjecture without proof):<br></strong> <a class=\"ProveItLink\" href=\"../__pv_it/theorems/3548ad88cc458695893413dbb43a2289e20f40340/theorem_expr.ipynb\"><img src=\"data:image/png;base64,iVBORw0KGgoAAAANSUhEUgAAARIAAAAXBAMAAAA1o90XAAAAMFBMVEX///8AAAAAAAAAAAAAAAAA\n",
       "AAAAAAAAAAAAAAAAAAAAAAAAAAAAAAAAAAAAAAAAAAAv3aB7AAAAD3RSTlMAq1RmmUTNIjK7EInv\n",
       "3XZ/CtNrAAAACXBIWXMAAA7EAAAOxAGVKw4bAAAEI0lEQVRIx72WW4gcRRSG/53pmb7M1TyIsiAN\n",
       "gihqMkIIRDRpiIphIQ4EfdCQHRNEEl96oy+ixokPvrhhxgcvozFUQARdyU5UoiYYlphAVJR4I6IM\n",
       "9Opidg1K2LhecsNzqqpneuzNOM5DCqrrcury1TmnTjUweDL54/c1dJFRzr2q3OaHSw2efqScd/sa\n",
       "ujHe9fP9qrSuFkAqAIrcunYQkESTPjf2GPDrUXn2XccJuBSbfZY+B2dIITYj/ATcyd0PD0LyBm9T\n",
       "6WW9BVmkPfps/bcwQ3xp1zmhakgL7OAp9UFI1lA2Sr1GKJICG3D5YiS3Ax9qkqTHMMi4g5BMUc7i\n",
       "v0lGBQ8Uqmuu1aq0SZ4HlglFgk+RpFOlB3ITXvG6Pkg+kiZSyrvvl6hOfgdqribZDHzean02CInB\n",
       "DjvCth0+GXDHs0e2zwUb58pw1s2UaatDs4rkwd+WUEveDHNr1DoOk5Q0yT7gbuCVS+/nXVIiT0kn\n",
       "wQbfPit7vnStM+XkFHb62A3nMDKSxPlDTPpISpukO3HFqMA8RyQB8mxmrADGYBZDsbVFV4Y+ee9V\n",
       "CRHz5YOndCXHzvUV7fQxDHkq7AL+hvUXfqANqnZF3x26rtkACbldxA2eLCmSJsx5bt9E11lkym35\n",
       "MONMN8o5P7NXLEaSDFK6K8uzKGIYp5Fryp4GcI5ILFq50JwM4CzowxeasE5zfbxFSc4fe4jOQCSj\n",
       "ZNg9m6ijRsxBhPQY5TuqtCGeeRSLkWSr+LObJFvHZDkkuUgkCQIo1GshCWGOukhJnbzZXsdaK6TH\n",
       "LiPN7ufpGyhXVtFnYtX7LL84LXQ49LwIiZJyelrgcLd16PCrESWROvHaOqFwco9AQhow1zkSR1aa\n",
       "sFqoaIubKb9DDu2csPio+e/znuJObqt2SKR0bYNSqSbwtV6KL8xuInFxZcKPkOAIKb2crms/KVTJ\n",
       "k5CUC+WDrsh2G3AX1aS6VrLvEJ3hWdy2S8nKejlwbwYdEi3lRCRf6KWK6u7ZQeIbQ/ZskSQLGK/i\n",
       "EZhHMXRGOn/J9vSdBzZ1keRc55iOsTIeDFXZ6Pmi9AKjuIKO7qJ5AG+1SbRUW2deW5oX2EkKu+aD\n",
       "sVnu2HH+qhvOF/dfaJoj+8jyrx+avcCznGF+FnLKlfa8ICIkzsh0NST5VvdP+vatNKaArPsct1PX\n",
       "l3CgTSKlyjodj8V3vEG1zzj4lC4feC0S7TtMMMNm1q+tFxPIiZV0q1lqIHW8oxOWqoH5IBWqZ7l6\n",
       "uPp/LmMvYKTWfkpTa5a+i3HXWhfAfJnat1xx6sVim0RKw8g2E+rXZjd9qc/fu1iEzE9Foi3weLdU\n",
       "PckTjUYn1PX4X3DqXRGiZ7Jjv4/mfFh7uxQ7UUrEl+j157KdFwz6IjkZ73psiSqf4DLfTZrE/yO5\n",
       "vMm/bDv9AwyiNQbgGxleAAAAAElFTkSuQmCC\n",
       "\" style=\"display:inline;vertical-align:middle;\" /></a><br>"
      ],
      "text/plain": [
       "<IPython.core.display.HTML object>"
      ]
     },
     "metadata": {},
     "output_type": "display_data"
    }
   ],
   "source": [
    "mod_in_zero_set_int = Forall(\n",
    "    (a, b),\n",
    "    InSet(Mod(a, b), ZeroSet),\n",
    "    domain=Integer,\n",
    "    conditions=[Equals(a, zero)])"
   ]
  },
  {
   "cell_type": "code",
   "execution_count": 4,
   "metadata": {},
   "outputs": [
    {
     "data": {
      "text/html": [
       "<strong id=\"mod_in_zero_set\"><a class=\"ProveItLink\" href=\"proofs/mod_in_zero_set/thm_proof.ipynb\">mod_in_zero_set</a> (conjecture without proof):<br></strong> <a class=\"ProveItLink\" href=\"../__pv_it/theorems/4a8547284cc1de01ab4dacf13c8d4571a442f3ac0/theorem_expr.ipynb\"><img src=\"data:image/png;base64,iVBORw0KGgoAAAANSUhEUgAAARMAAAAXBAMAAADaYbYpAAAAMFBMVEX///8AAAAAAAAAAAAAAAAA\n",
       "AAAAAAAAAAAAAAAAAAAAAAAAAAAAAAAAAAAAAAAAAAAv3aB7AAAAD3RSTlMAq1RmmUTNIjK7EInv\n",
       "3XZ/CtNrAAAACXBIWXMAAA7EAAAOxAGVKw4bAAAECklEQVRIx71WXYgbVRT+Nskkk5lkZim0WAp2\n",
       "wIc+1QapgossU/onijZaEVSwaaGUitQpiE+1TUXwwUJSiuKuuh1hFXS3JFqwaHXdItItRYg+tGpd\n",
       "yPqg4JZQatfqForn3Hsnmfxt0wg9cJI795u597vnfOfMAP/DEsp7MK996sOsXGRNF/y27DflPdjz\n",
       "bTPWbl8ODo8qfJCv7umLSaQsvZtZv4pzG+9VaJxpRdcRE3NqK42OQuKbeXpPX1Q+Ut7VDskUxF36\n",
       "eaEV/Jp8F054csT4YU5XsS8qG5V3NVtSsR36Wd+BSrQCs6ioEB7nODl9UZlWfisqO1gUKakM6/3Z\n",
       "C3UqyUFEFhUVwqOUpHh/UslJvyUVsVVciEXb54eiYrvQr4bw72dnz/dFJVaWjv1TB/laf3FrbUyr\n",
       "vQWM11iBp2sFSWVnbRlFXtTHK344QSWi8peiwvjDwOgSG7pdET4Hu3YWx8UO6WUo3I+HoF9EsopJ\n",
       "B9/ICvrbL3mI5lrqYwvJugz9JnCZLxnfj8RgAOt71WDt5xv2yVGros2poHzTjvTJDB4TE8lp2EUU\n",
       "8mna4R+8HVQQySFVRUSoqpHPxLeSyg36Y6kynvTNbP2GVcxnbiRrmThV7khlGM+oUSorfRtwSVIp\n",
       "wi4TlQItfcOg45bEwrEcT+tXeGlSw+zPgskKwkplaHSbsYIeYDxSDal2hnxTnoRuYajakcoMbK+Z\n",
       "yjkYC3UqVaKyjib/1etUKEg7HGgcFaOx2uujQrYRkq25mwXNeG6YfiaGTzHrm3O+6ItE5U+3QcU4\n",
       "Oa/2T1C0naYE0fGjV5qocFSuNaJCbWWbj0iFx5XGmY6KB6KLsu9K/DNqdMZF/Toz+MVyPxblbybG\n",
       "Mg0qJ7yCFxshO6YvIq16OEmT3biKgdyaMJWUC20BewOt2HmDdBEVC9WaW9w0Zw9fCdkyfoBUG3N1\n",
       "DlAyE81tF1Ri7xZDst2EI4GwhQYRlB/7GNa6IoJxSSWrzyBexoEsVgvSA5mkq8oecaep8f+Iybwq\n",
       "ZoEP5DnnFpdRKh8bfIAO71iW+WSIyneYQz1BtlpOr0j/YP6Nu/N8vfrMa8fPmC9dwsunl1OgH60V\n",
       "fhDZXcVvh7Qs7JXPhqmMT90VtMB0UDslLzlEGbNJCG+KqFjac36dinEdxz6RCQrJFj8p78lelX/a\n",
       "F6HGHyIV4BQOr7Ddn0Daf5CKW2gFX4Zke1ZfGFJ31vBE8ND6Tm+5pd6dbW/m0KiOaxvvPYkjjv54\n",
       "FYl36Prp38vjWxpUnrpvPlNvcY8EDyU96T198LW9/C+H+24bLkUwMTLS6HlY4vuBu4TR4/dFO+VD\n",
       "gYK5vlpxze+wxlJbHVTeg/3RHqcNkkviU6cdj+I2qdxh8+7YTv8BFKglNFM2L10AAAAASUVORK5C\n",
       "YII=\n",
       "\" style=\"display:inline;vertical-align:middle;\" /></a><br>"
      ],
      "text/plain": [
       "<IPython.core.display.HTML object>"
      ]
     },
     "metadata": {},
     "output_type": "display_data"
    }
   ],
   "source": [
    "mod_in_zero_set = Forall(\n",
    "    (a, b),\n",
    "    InSet(Mod(a, b), ZeroSet),\n",
    "    domain=Real,\n",
    "    conditions=[Equals(a, zero)])"
   ]
  },
  {
   "cell_type": "code",
   "execution_count": 5,
   "metadata": {},
   "outputs": [
    {
     "data": {
      "text/html": [
       "<strong id=\"mod_int_closure\"><a class=\"ProveItLink\" href=\"proofs/mod_int_closure/thm_proof.ipynb\">mod_int_closure</a> (conjecture without proof):<br></strong> <a class=\"ProveItLink\" href=\"../__pv_it/theorems/80b7e4eef3e4cb6e04d883f5d27de24e8b2a82e20/theorem_expr.ipynb\"><img src=\"data:image/png;base64,iVBORw0KGgoAAAANSUhEUgAAAP8AAAAXCAMAAADzwWkXAAAAOVBMVEX///82NjYbGxsSEhKIiIgi\n",
       "IiIQEBB2dnbu7u5ERETMzMzc3NwyMjK6urpmZmaYmJiqqqpUVFQAAAAnLjGdAAAAAXRSTlMAQObY\n",
       "ZgAAAAlwSFlzAAAOxAAADsQBlSsOGwAAA8tJREFUWMPlWImW4ygMZGa5xA3//7ELAmzhkGSm25t9\n",
       "88YvHbmdMqGk0uEw9r8c9mJvXfS/gd958LTaew7P3wCSk0U6EAJknPB8fho/RT+p1f6+/4T0xz8a\n",
       "pBiX3zDgkE01Dl8DHo6F3KcEod1qvyL14sl/LswT/fKuEAZtlQ64mQKw8Knwh7jarxwL/zLTKIaX\n",
       "N2WLcmmvEz59ptKn+MuL/S5/X46wS30RvKjHITP8MBiGWTDhcUTBfSz73Wq/zV+JMxOopLzjj/lQ\n",
       "9W7CApfNR0Kqj8lfrZbZrLg9a7dxMljOgdcKzQF56sD5UaiU4txQ/i5znrt6VSY1YlsNQLfXXCp3\n",
       "QfTrXyLzosw9uT5jNK2XNS2hELhobEyJlWNsSWJES1xAF2nZmCrCX5dKVBes3pFoalvPa8uJp6sR\n",
       "bvN8u0rFXUtilqBCfRF3PoUrP4J1FZZIi9US25CgMcLKUNpyptToCFwCTxm4a/1P6DqJrBKpKdv0\n",
       "csv1Dm+hV35XL+fWDc/QlNjioDTNKtjB2eHQ5mt/8eJs3cOGgs6g9wLeUdQgbUZ9bxd06Sog/IM7\n",
       "0BV6hqPndT1gGbw6006hwxN/4ixpZt8cJzVSJllaY2ADP3tNv1TsK/4SLnwO/nzwT+PDJgjzyB9d\n",
       "57uPvCRj0SYlYbb5vr0Bd0dOaBW5mtut38WzvoxVYU15qv8B70mtukxRmumF/ntAY2HP+R/xD9v4\n",
       "46eh149E0khsBG0Gcd2/b8BVGqVSV4GbI1xcaMbD6shok3nCf8ADtOOf+hfrWm1dsc45wKnVuP3s\n",
       "WLLP+DMZeptvnHuRofnfEL2I1O3R/Tw8DtTG53v0sqBwK/M5IJpDQpVAq5CebF9ztpYz8n0DTidx\n",
       "Q0oTW5rOaZsbklhk5Sh/37aEY3uXFKZNLuemcj2FcOmpuEx67H0YaAsJFvgciNraPNN8DrlywogC\n",
       "9p1a/qoX9I7/gNPc6/ov6z6MWKzOXBmbuTknlCKzSVDfmXKlpbcNSuURcR2w/4tjmzqrY5IWtIzo\n",
       "DJ42YS/ByUqkPgSCeoSz3kQhTnql5645feqTad+ktvwHvOn/5w9A/W/rHxNmtTf+AnDJea+Azr/v\n",
       "4Ey29PexjhONc81nTBAyL6FKvdjqf8LJMxXmoL+OFvMp5c3TyjeerL4K9yEmrlqXazXbhF5CLMz2\n",
       "l3MVK7i8r/9hVhwyS9b5JzwMgmBXe1v44T44zVmtmpx3ExLbLZHe/Q4zy4O++ZH7N/35Cu5/8XEA\n",
       "9jPmO8/z1d70q5q9D/6ribThnzz7ew77h+//X9heKN1l3y/RAAAAAElFTkSuQmCC\n",
       "\" style=\"display:inline;vertical-align:middle;\" /></a><br>"
      ],
      "text/plain": [
       "<IPython.core.display.HTML object>"
      ]
     },
     "metadata": {},
     "output_type": "display_data"
    }
   ],
   "source": [
    "mod_int_closure = Forall(\n",
    "    (a, b),\n",
    "    InSet(Mod(a, b), Integer),\n",
    "    domain=Integer,\n",
    "    conditions=[NotEquals(b, zero)])"
   ]
  },
  {
   "cell_type": "code",
   "execution_count": 6,
   "metadata": {},
   "outputs": [
    {
     "data": {
      "text/html": [
       "<strong id=\"mod_int_to_nat_closure\"><a class=\"ProveItLink\" href=\"proofs/mod_int_to_nat_closure/thm_proof.ipynb\">mod_int_to_nat_closure</a> (conjecture without proof):<br></strong> <a class=\"ProveItLink\" href=\"../__pv_it/theorems/efab86b5671e614aed14eed5783bb08fc4cb6dd80/theorem_expr.ipynb\"><img src=\"data:image/png;base64,iVBORw0KGgoAAAANSUhEUgAAAQAAAAAXCAMAAADTCGHDAAAAOVBMVEX///82NjYbGxsSEhKIiIgi\n",
       "IiIQEBB2dnbu7u5ERETMzMzc3NwyMjK6urpmZmaYmJiqqqpUVFQAAAAnLjGdAAAAAXRSTlMAQObY\n",
       "ZgAAAAlwSFlzAAAOxAAADsQBlSsOGwAAA+BJREFUWMPlWIuW2ygMpV3xfvP/H7tCBgwOmUxTb/b0\n",
       "lJOJPLaE0ZV0EWHsfxn2Iu+c878zuG9AWuUtw8MLBcWL1k7hlRRF+GaQx/MUP+V/kqv8Zfw4Ln+4\n",
       "pQVvt186oBPz5LAqwyCMqdynUkK5Vb6R7cVP/7nQL9QLu8wtkwSTGAamp4DVn0qAEFf5xlgAKL2Q\n",
       "YngFQNIt0Pw06LDJ9CkAxEX+JgC+jMCLNQVAcxxTnmUbgVk3ACCD2OLgPsYAbpW/C4DkZzHMOeUd\n",
       "XEsiW5YNAzkAIANRYeJCfqwC5CqZzRLsSeHGiWABNCBNgyZPVQDoZCUlgJkBcBkgH+kr88QTG0ZA\n",
       "ABgWAU7aACCDYIgg1VvOfEF1zx70MHXpRV1WmfR59ceUiF7GWieG17LVFSMlqqtyAkAV9FQVYvA4\n",
       "JdWO0ysAJuB+qBoAZGBz/7oM4668mIWWAT/nvvJUW/oWrofM4mmRStBmxOfditih1PlMwfBwmoMu\n",
       "tbvuAomgE5RBaaKVXYFVAFhMLOmmeBjU4Eu/0++LN5B1TcYaCamm0tI7bTYARcph/opi38ObDLQl\n",
       "89lYk0mRzWvTaB5vqAJH1M/lBjeUUfOMx1HZOPQFAJYVRrJpkUGCJxQoTHtHaBcYK5PsxDR6oz29\n",
       "im4V+yUAQl88GgBAAyC1h5gS5hEAgs4fGHkx9UfPMoCpzHoJNANHoaJnMoLsC8a3AaK1dlhhqfu5\n",
       "BJr2MbE8MpWyM31VAkdMY2HPARgZEHYZQA/DQSFpKiT+FABM6L7wZiBTY0yFOW5GxIArBmHFMtpk\n",
       "9gA07aDr+Af/Ik5Vp+WXfkfDLBU5kB1L9hkATIRjv0evD6KZOaAqHDyCq5vXszka6LZ2ME2xGViR\n",
       "e67X4hnqkWjSTw4oYAupTS9s2nNXbiZ+mugxL7LikPiSWG4GwNcl1YU7SUutrudyrinjpQ6XnZVm\n",
       "eezsxq3gVoNszrKEPBd1yOgVBVXT/oMciDCoDQBNe66/owTKZSGGL1JlkMZmGIllchHZJI3fTLpS\n",
       "a9wGKfMRdBWoD+BjlSrL0VPzmUlU1l6tu1oRej2G8JX7aTfVsftXjgI2J6w+mfouuQOgadcS+PlD\n",
       "UwnsSZBxs8r7fhG41L2Xem2FXxkwUSnAR2wsqtNY1FQjZ48kKVE935VA157OV1SH/qHD6GeWl2eX\n",
       "d09Z7xv4EBPU86Kp1G3CQSS2c0fMGfNVu7zdBUKnnampxEYoPLaE2q7yrgTQdxrMhatkTeldq7Sb\n",
       "Ib36ZWZwhLr3BP7LeH5l4L93NNh58I1DXj/6WLjRf7B3GnyzmjYAJM/+omH/eA/+BXHdKS2gdkDX\n",
       "AAAAAElFTkSuQmCC\n",
       "\" style=\"display:inline;vertical-align:middle;\" /></a><br>"
      ],
      "text/plain": [
       "<IPython.core.display.HTML object>"
      ]
     },
     "metadata": {},
     "output_type": "display_data"
    }
   ],
   "source": [
    "mod_int_to_nat_closure = Forall(\n",
    "    (a, b),\n",
    "    InSet(Mod(a, b), Natural),\n",
    "    domain=Integer,\n",
    "    conditions=[NotEquals(b, zero)])"
   ]
  },
  {
   "cell_type": "code",
   "execution_count": 7,
   "metadata": {},
   "outputs": [
    {
     "data": {
      "text/html": [
       "<strong id=\"mod_in_interval\"><a class=\"ProveItLink\" href=\"proofs/mod_in_interval/thm_proof.ipynb\">mod_in_interval</a> (conjecture without proof):<br></strong> <a class=\"ProveItLink\" href=\"../__pv_it/theorems/60e53db994d69ca5397a1113b123c8a6271867e00/theorem_expr.ipynb\"><img src=\"data:image/png;base64,iVBORw0KGgoAAAANSUhEUgAAAWsAAAAXCAMAAAD6D55EAAAAOVBMVEX///82NjYbGxsSEhKIiIgi\n",
       "IiIQEBB2dnbu7u5ERETMzMzc3NwyMjK6urpmZmaYmJiqqqpUVFQAAAAnLjGdAAAAAXRSTlMAQObY\n",
       "ZgAAAAlwSFlzAAAOxAAADsQBlSsOGwAABLRJREFUaN7tmema2yoMhn1O2TeD7/9iC2KTHeyYTOr+\n",
       "Kc908CS2JV7EJ0GX5a80fei/+c43TVj701ff9Vr7PzHOyUb8vv9Ks+SWaWPF9Ku5vfrzvKkgBfIt\n",
       "tC/8+hRqz/f99FRR1kcrJKPl4xsD8FshzTlxeop1N/SWtaJ1PmVAvrn2nHkq0IXZ9x/IxYZHa1y9\n",
       "eB+xvOAycUUJqufiuhq6Zi2CM3VGmz3wTdXA1vKpsHbrvv+g7VhvVYlWd5f1Ch2Xc6yrobdxTV5Z\n",
       "g281GLh/ijU79D9kbdvAFrYPbCJpbGbAOi9tv4kZ1s3QJ6zBt7VEl3kKtTf7/qes+3AWg1eKNUSc\n",
       "xfUGK0BtfoZ1M/QRa/CNpcmnjD8mIXzfLzpwonsRoQxzmhBJYvYmEoYlHCE1scSkRhRmbQIhIUPj\n",
       "AWn6UL3z2EVlvc6wboY+Yg2+OQWrSnzE7SJFnH1Rg6/2lsUUJfFypmlEEUQc0sograckJtN0CAaD\n",
       "RazFFqGKDdLcipbKONU7k3Mrz6zJBOtuaII1aUIJvulQfx0rF3PMHYFJ7uJP+0Ce3l2WHScv64X6\n",
       "XS8YlEMU3SHBwU0CjhgJtJCJl9Ic65AsugyoeZQChgqlwVhnzSdYd0MTrHWTqexbCunh46G6okiQ\n",
       "aTWn+OICyaAc3b20uVujY/Y4YbU2Lr3bADx+WMIjACIBrrIaPxA5EgVinSO1wutTn6UxNomcMras\n",
       "BZ6T3Uxcd0MNljC0NzViHStAk73PvnlyEgWsPO5cuYhBobxGIicHd2fwun206UvWTB7gNdaksPbl\n",
       "yxjo6pU1zJLN02EZ2uKM9hiuSGXWaz+VG7uhibheeJne6puBAAQP+Up4ZRMHRoI47MfcTqOxhpS7\n",
       "84t5XkCw6vyVhuRIXbflnHWLazeKa/jS5cF5pER0SKHs47KFdarm64YmWPeysvjGfcnZaSelWhyS\n",
       "uNMkbh8hq/ZqzLrc7WRqv+K/Nb4qvZYekr0kuBcwhGAWr89YL8zlFR+HmJMC1ut0Q9b86B32h1zt\n",
       "ZViXn9usm6GZOqTnRlkyRqhikYSuDXmF7GkRK0GWXTpBYyt345MJhdIWcjzs+oTc091yMZi1TS6l\n",
       "+TUcXE3jDKhYC/FSukMZWbfhp3v0tKgEUr1YZLxcHVh3Q29Z8xavvearvgXVJZQELMAuRIAQqhKK\n",
       "rZgaoztiwLrcjbUya8hRFBXd9SIQrnQgqh+ObSwoL+PvqHZbkkntOA8lrTmor2noyYe3zT61u3MJ\n",
       "+XqkV8eeXhPwCqXu9epQ8zVDb1iHwDYT1gNrun8Iike5VpRbFlvVg8V6BWtoxLrcnTTk//8kaMg4\n",
       "Ny41Y+PM/Z0T7INGWy5P9ugPnakie0ffFpbk2q6xZE98owCDyPRtDoeVbulIQ+rd6DgLNNO+VO71\n",
       "iOjGUdFnh1p3xv406xffrFs94amyS8WDcjm/aFlLvhDigpcmDOsQV7MR2oKmU+LXXC/1vv9WWN84\n",
       "tiPsWdY1/V76hkVW8KQJIwOjN/i3G4Sq5+K7x7h3pk5v/knWtUC69O3mfxSNYN0opOpJkyZfRE1u\n",
       "rRLtwjxtoq7+PLfFq61L324egA1Ye7v8a3+i6X8I7rff0YU1L2ih7VoAAAAASUVORK5CYII=\n",
       "\" style=\"display:inline;vertical-align:middle;\" /></a><br>"
      ],
      "text/plain": [
       "<IPython.core.display.HTML object>"
      ]
     },
     "metadata": {},
     "output_type": "display_data"
    }
   ],
   "source": [
    "mod_in_interval = Forall(\n",
    "    (a, b),\n",
    "    InSet(Mod(a, b), Interval(zero, subtract(Abs(b), one))),\n",
    "    domain=Integer,\n",
    "    conditions=[NotEquals(b, zero)])"
   ]
  },
  {
   "cell_type": "code",
   "execution_count": 8,
   "metadata": {},
   "outputs": [
    {
     "data": {
      "text/html": [
       "<strong id=\"mod_natpos_in_interval\"><a class=\"ProveItLink\" href=\"proofs/mod_natpos_in_interval/thm_proof.ipynb\">mod_natpos_in_interval</a> (conjecture without proof):<br></strong> <a class=\"ProveItLink\" href=\"../__pv_it/theorems/6fc05a547b77043584b3f6889f6ae3765f82af1b0/theorem_expr.ipynb\"><img src=\"data:image/png;base64,iVBORw0KGgoAAAANSUhEUgAAAU8AAAAXBAMAAAB5SdDvAAAAMFBMVEX///+IiIgiIiIQEBB2dnbu\n",
       "7u5ERETMzMzc3NwyMjK6urpmZmaYmJiqqqpUVFQAAAB6qHgnAAAAAXRSTlMAQObYZgAAAAlwSFlz\n",
       "AAAOxAAADsQBlSsOGwAABI9JREFUSMfVl39sE2UYx79t73ptr+1aYyZmZiEVDLhAJlFJRJLGwBSn\n",
       "8whz/0kH6Cn4IxX9hxhpEUNilDmNLEbRlOD+MSSrySLBES0STaYJFDQuGiMl4owJ6BCQDSXxed/3\n",
       "2t31vbqef+mbPL27973nfT/v8z4/rsC/aHlL5m4huUt939Nau5tfTGq+spAmWiQhdV0/7GkxbdIA\n",
       "9tFNhT1970n3a0sabuTGArv0LaOfG+oHY5foZ1WbbCN103wJciH9BInQVwI+Yj1veuFUB4U0bq9y\n",
       "ULxNEjbqxhTCCZfVRbJWuFjXsf7QJUsBe4DtzJP6vYDqJSGNW4sAvUoSLbqAfgp0uWhJ3uSrgX4p\n",
       "tqyUvYAGLJkLNMKWwW3WmhtTi2ugTwGnDElrxGgMGjAQJduEPbnot5bMBcpXwF4RVK8ZNov+CeRk\n",
       "29yFxqBholyWSt3qCXTUktCZeTymt63Y0ZrY11qA+kEbI1yVzHHQ8Ol2ounhOi8ZtqNXGajsO+8m\n",
       "zzUEVSiiDgKPNIGXrt3ttWR/PsgPF0vL2l+FaCe25rEBWFfGAxw0s0edBsbhjFZ9EKGLBCrlLXXG\n",
       "yORdQH2dzNUpeAcQqjQBOhsUS4Sod0IXCWUT8Ae0y1hA62exuRr15Ia3AF/xV2aTxM6SAE275K1A\n",
       "wgU0xGIyRrRBQynYBuO3dz/MoLZZmSDUcS+OVuygdwjRp+AXq5nARQLVaMaWtHqebMknPMS6keMJ\n",
       "kfwrdRO7G3iLtkjdI5JFydQtNJ/6eoq1bA0U69+hCaYINlGLJa3dLPjzylrmUHEG8fTkFvygGLrh\n",
       "Ahrot4AY6HkCjV0h0H6tBroAEULfz4+1lv+0Dw0eTKekYKJdj5RdLIo1NFuEnf/gkerAGO0jiudf\n",
       "4UmI7vWDrGoligq6xzrGCs6jzyRwHHZQbtHirEWvQqeFTvJXZosOKzSkcNxwSaOfGC6gvJTF2AT3\n",
       "U9pH75F7eKFi3siNl0v+JOrfxHc7FIePbhCSKeOXWN4GihV0ogUMVX30MtbRhJ9znaQj4R/lflEP\n",
       "miWvd4t6HkzsSHbSHtVF2jT6+Gh0N/ePa4w2cWATykPvOUB7hAQTsQ6ddwxx0Ct4Jos3aLoCfuM7\n",
       "PovHrUTGiqYd1F9Wl/OHDKvGM1ZwlIJSFZuupiedOWKcHXJR68QBPrpW4ZcnMB7h602g2OoA3SpE\n",
       "PX33wHXsefuFn7+5UFnzezo02kOmVEeTuaU8CLqZ/s0i90wO20DV0fas8Es2a4eVns4cruOM/zhz\n",
       "1gL1V/0uUPBVMG6aZhnp1XiQepbj4+iQaT5JoL1hRx71Z4U090FqeWeky1ZCPTWu8EL1KZMPfmY8\n",
       "y2ecKGE1XaewUksLi0ZOODTZd4b0rfFPXzDyup5Ba8YO5HMHjCALOkVHZL6axkLyX16xvgDanaqP\n",
       "WdJM2yXV706PoJRfbZ93kcMn7kPoUbo79uu1myvaSjxHgbqLDlhbnEfcqdpnSTNN2hAvNF4aSx3B\n",
       "utraa5qW08aEf3eZW9z8LiGkmX8t8pf8y+c8cb7IXp/XcHgY/5NW+s8R/Q0gODZWG3VntAAAAABJ\n",
       "RU5ErkJggg==\n",
       "\" style=\"display:inline;vertical-align:middle;\" /></a><br>"
      ],
      "text/plain": [
       "<IPython.core.display.HTML object>"
      ]
     },
     "metadata": {},
     "output_type": "display_data"
    }
   ],
   "source": [
    "mod_natpos_in_interval = Forall(\n",
    "    (a, b),\n",
    "    InSet(Mod(a, b), Interval(zero, subtract(b, one))),\n",
    "    domains=(Integer, NaturalPos))"
   ]
  },
  {
   "cell_type": "code",
   "execution_count": null,
   "metadata": {},
   "outputs": [],
   "source": [
    "mod_abs_in_zero_set_int = Forall(\n",
    "    (a, b),\n",
    "    InSet(ModAbs(a, b), ZeroSet),\n",
    "    domain=Integer,\n",
    "    conditions=[Equals(a, zero)])"
   ]
  },
  {
   "cell_type": "code",
   "execution_count": null,
   "metadata": {},
   "outputs": [],
   "source": [
    "mod_abs_in_zero_set = Forall(\n",
    "    (a, b),\n",
    "    InSet(ModAbs(a, b), ZeroSet),\n",
    "    domain=Real,\n",
    "    conditions=[Equals(a, zero)])"
   ]
  },
  {
   "cell_type": "code",
   "execution_count": 9,
   "metadata": {},
   "outputs": [
    {
     "data": {
      "text/html": [
       "<strong id=\"mod_real_closure\"><a class=\"ProveItLink\" href=\"proofs/mod_real_closure/thm_proof.ipynb\">mod_real_closure</a> (conjecture without proof):<br></strong> <a class=\"ProveItLink\" href=\"../__pv_it/theorems/22e9327a38d43164aef68146a3d52a78abc105f70/theorem_expr.ipynb\"><img src=\"data:image/png;base64,iVBORw0KGgoAAAANSUhEUgAAAQEAAAAXCAMAAAA8ygr9AAAAOVBMVEX///82NjYbGxsSEhKIiIgi\n",
       "IiIQEBB2dnbu7u5ERETMzMzc3NwyMjK6urpmZmaYmJiqqqpUVFQAAAAnLjGdAAAAAXRSTlMAQObY\n",
       "ZgAAAAlwSFlzAAAOxAAADsQBlSsOGwAAA8xJREFUWMPlWIuS4ygM9N0JhHjD/3/s8TY4eDKbyWbr\n",
       "6piaKLHbBDVSS+Q4/sxQF/vWSX8X/p0D/GrfMwx8fd9pThQ14+QmfBj3vfsYAR5X+8sEMm7OT4I4\n",
       "a9efuUCHSg6b4EgMvB1T6Y8FhdCrfSHeo5k/atvfiKcMYDEyDLzsQaDoYyFg3WpfGCsDsSeTs99i\n",
       "wKpDn/hOG/qPMcAv9qcMmDi2nq9BAMTS0BsG6MS7thH6cyqgV/tjBpCd+TCHldEgtjEQhAgTnmea\n",
       "GMfPJQGuNqkTgjp1XGpuFQBBEmug4qqwAF2xEAHkwoAOAKGGMIZJLB5VoTIgyXfRK3gryz3xojv3\n",
       "end3o+9Tt4an5VCc8Cz7I6NLbrqcKpLlBVMmSfDsKs4MiJhcFVHVgjd9j9rpANcsshEbBZ/rQ325\n",
       "DKkv4ugZahs0rHPewNG0DXsILuYXK3ipSWyetChEzPPJmDaIlTnKW9IPtcAX8nhZlp+0Re+V0Lmp\n",
       "BlV83n40m80KffESAuVwhCNdQYVbBk74MSh1aVnmWmR6LW/WxkLHMml5JGJzWzatTxdEhLrt03qt\n",
       "HugEPXekpncatGYBCTfUouI93Oggl+0rbHsD6e9wAvYMdHilQ41LUX3JAKerS50BaAz4djMFhdww\n",
       "UMgzlSXDp0bpphpKe+Z8w+uyV+UpdIBq8JMERsydVmEAhN1nQYPXmbEGa4lP/1UW1F118bhnYMSA\n",
       "3cZAuWurjvgpmdhdP2DlaH4aHn1TTZEUR44tAyYOsDOXOQsULb3ndLPCLeXxT/p3aa48L7s0PgSz\n",
       "FcWBoA+v7hg4uK1lP7ldxWbRgYyoYpKYnDYe4IaB5FH3oeEVDz3cc/oMuCtaadzEgCWkY6+EDT43\n",
       "6HLSqEkjw2IzEZ7ZuaromQGT15SzSWNZa/Y9xInVkN6TvVTYMo3fMJCBSQfILPggz8yEMOe1Dcmr\n",
       "sqvkaxag8XsGGnxOwZoF8bIQyRYrAqBUAYaKyBB5kJ7S64E65jRXFjHUNQtb+gF2Fi8RcPTXbJYT\n",
       "EciIh7Mh5dpLuq6KrRWg1FRyoj0Vaw5LPGYdMAbFloEGz1nw919UsmCvhAeTq33jLwSX3DdIS1f8\n",
       "DH/wLAPGpf4ie53yuqTJ2SzVanijhB0+nbZKKpqHVqOfX56dY14/c72MN9Z5QJcTLzdltmqJIjn6\n",
       "7JSLwlq9rQW2S8/UX6aOyD42h6RW+7YQoDfi59wVmIPa3Jw3Hx+Fpz8Q0H3J/sn4VUa/wpvvHhM2\n",
       "PnzjyNfPQQreSQCoN+K/nU+PDHhz/K+G+q878C9/wimoWdvVjwAAAABJRU5ErkJggg==\n",
       "\" style=\"display:inline;vertical-align:middle;\" /></a><br>"
      ],
      "text/plain": [
       "<IPython.core.display.HTML object>"
      ]
     },
     "metadata": {},
     "output_type": "display_data"
    }
   ],
   "source": [
    "mod_real_closure = Forall(\n",
    "    (a, b),\n",
    "    InSet(Mod(a, b), Real),\n",
    "    domain=Real,\n",
    "    conditions=[NotEquals(b, zero)])"
   ]
  },
  {
   "cell_type": "code",
   "execution_count": 10,
   "metadata": {},
   "outputs": [
    {
     "data": {
      "text/html": [
       "<strong id=\"mod_abs_int_closure\"><a class=\"ProveItLink\" href=\"proofs/mod_abs_int_closure/thm_proof.ipynb\">mod_abs_int_closure</a> (conjecture without proof):<br></strong> <a class=\"ProveItLink\" href=\"../__pv_it/theorems/aec0d098b55abea3b53956411905c9c3297631f10/theorem_expr.ipynb\"><img src=\"data:image/png;base64,iVBORw0KGgoAAAANSUhEUgAAAOcAAAAXCAMAAADHuKgLAAAAOVBMVEX///82NjYbGxsSEhKIiIgi\n",
       "IiIQEBB2dnbu7u5ERETMzMzc3NwyMjK6urpmZmaYmJiqqqpUVFQAAAAnLjGdAAAAAXRSTlMAQObY\n",
       "ZgAAAAlwSFlzAAAOxAAADsQBlSsOGwAAA2tJREFUWMPVWImW2yAMpK04xI3//2MrAXbAIUezm+wr\n",
       "z01qloc00owQEeJHhjs+zpNvsvUzAzJ/6jDPnt9fHtmrTXmUElUSIgDPlctf06dgZi3eihOwWPry\n",
       "9aFXBhaPzf2nEmy8eC/OGDs8nRsyI4TdE+rwU+mM6c04C2fMID91pNjBViv5UziV+G6cQFqU0h+E\n",
       "qdG0orK3WqSZ1KPrP6ZO/804gwdzNUk8tfGQJGNUHAup9Mdoqydcrmhw8AWczpvFLBp+dkulJbjN\n",
       "v+T0nXJzY96nEWdQJCbczOs4l/WTSnqC4y35GtD945x6fy5NRaGO9Axhu7m8ea01nIki87DCqFr0\n",
       "5Rfy6W9MDvNZ7alc2ii7ixYKIq2QFDptRjXgark4AscxDadoqTDgjFuFrl/HaZvuaODUiLTdmqu2\n",
       "WslwIyjK7udR/w/F3mY39hO4WH6p7W1qc7dxKt7AbOF1nAaXc/2YbG4E1ZO8c9noBHp3y24AxfR+\n",
       "4iLISZIjb/vyVgNrhlzVnco3eWs2Npy2Z+ot9H3OcpILItoO0LSds+xHZy9Zhohpj/CDNALiHLDk\n",
       "sr2Bsy+PyOMP/Uu0F+8r54YSYcTJvhcvsnucT58X+iC7cEXlKELLRmkAU3PTqXJpmKw6HEq1UoXB\n",
       "TQNiNjLg7MvF0VKKjlPNjugy8JZBZ9lI8ggn5oU+BvzjmVIT5zDjdJTtjQNLB8qot1jI95qhakVT\n",
       "GSK0ZoWzLx8103i7zX5YOdbbAtq6AnZ/R2kz0T+lElrAgC1S0hJ0PJM+qrWCYXwPCr0ih+nSgg2g\n",
       "nCNomLKYdhhb05a9ZDBky4nSS5x9OfP29y+svF3WISHtnX7IcVRYgVVTXOSN7Anp+uz6mDoijWPf\n",
       "d9VJnCWsWJ4hGapH7I9pxB76isqvIJe83ZcPd4OqnXA+mlO8i5OscRpYP+08QGi86Pkc9fFvF4dL\n",
       "XGLKoPn04NjZ2CTucD9WSiGaoS/rehv3ijD0VtQnxKvGCN09nKwjaDhTrRUlhm3Q4aCPJxvDezex\n",
       "UVNGMw2XVWK1RYbnjrzHOFs+/ZzP7fqoelC/7lysw5PtLj7biM0RrpGAU92s7xUndpwVmqNbVUn8\n",
       "nU/6ePLSdu/3g2d/Q1kYzF+5LpuyRaKrD65sXCM0QHT1O4H0dtbHp3+4+w/GX5URJD0nOJEWAAAA\n",
       "AElFTkSuQmCC\n",
       "\" style=\"display:inline;vertical-align:middle;\" /></a><br>"
      ],
      "text/plain": [
       "<IPython.core.display.HTML object>"
      ]
     },
     "metadata": {},
     "output_type": "display_data"
    }
   ],
   "source": [
    "mod_abs_int_closure = Forall(\n",
    "    (a, b),\n",
    "    InSet(ModAbs(a, b), Integer),\n",
    "    domain=Integer,\n",
    "    conditions=[NotEquals(b, zero)])"
   ]
  },
  {
   "cell_type": "code",
   "execution_count": 11,
   "metadata": {},
   "outputs": [
    {
     "data": {
      "text/html": [
       "<strong id=\"mod_abs_int_to_nat_closure\"><a class=\"ProveItLink\" href=\"proofs/mod_abs_int_to_nat_closure/thm_proof.ipynb\">mod_abs_int_to_nat_closure</a> (conjecture without proof):<br></strong> <a class=\"ProveItLink\" href=\"../__pv_it/theorems/befc02fcac742b5e6a75237ffd7173e09ad8658c0/theorem_expr.ipynb\"><img src=\"data:image/png;base64,iVBORw0KGgoAAAANSUhEUgAAAOgAAAAXCAMAAAA2s/OGAAAAOVBMVEX///82NjYbGxsSEhKIiIgi\n",
       "IiIQEBB2dnbu7u5ERETMzMzc3NwyMjK6urpmZmaYmJiqqqpUVFQAAAAnLjGdAAAAAXRSTlMAQObY\n",
       "ZgAAAAlwSFlzAAAOxAAADsQBlSsOGwAAA3dJREFUWMPVWIl2GyEMVFtx3/z/x1YCds2u8RE3dl55\n",
       "ieOseaCRZgZhgB8ZbvxePXzXZj80MNOLCqenVw9eHFpUY7zmFWWVAQLy07J/ntOncGYF7wQKYDKE\n",
       "BkzXlldGFvfV/adKrD28GWgRDlSrm+zQqLx2K6kznypoTG8Hms0onGj/pzjQtm3yp4BK+GagaAQN\n",
       "PwF1CcH5HShIApmGNP3HFOq/F2jwqM8VdVAsoNqBegYpOR1Cqo8xVx1wuaLQ4etAndfX1CXWEnlN\n",
       "2IAqFmi0zaj0S0HfsZxbH/g0Aw2Sg6r6ZaArD2WgNtI5owfQ5FtKt5fTsP7sT0UaFenn4uM3Z/eo\n",
       "lcIrpog8zdCyWb94vaIryTFQSBmyGX6Q5VbM5SZlC9JiMcQDINcGpSdJmNVs2BNHlgDhnC0ZJqCx\n",
       "HXRCvQzUduXRMCegUDRVZsxq22S8YUXSDoLG8Yayb7ObGguzmD1t1R5VdweoNO1YDy8D1eZWRUEX\n",
       "2KgbxnnaUt8+UwnVFpitiJSV3lhcVDnrcqbumN0XbiVyTXoy36aurrxxqs+4Lo6FThoRN4ESEbcA\n",
       "sxhH6HAuTdy0ewVQaMB4zFly2a6BjtnR8PhDv4mW4mXFqbU0OAPl4IuH7B5X1OeFRgBx0QKOGNGO\n",
       "AFP/62TZOMqk36enZldhClQjHHaZgI7ZsDeXMIDKUySqTNRl1Fl0mjwCavJCIxf8q0fRH4+0Yi/y\n",
       "wTKLLhaKvhWpbaPIiwiuXgAds2fddOrWUyBWzK5bUFlX0PYH2gibSQEpldAzhkr3uiUc4R800pYw\n",
       "QR9PiyrNoa0GccyhZtaatOGoXWD2UsOQLddKrYCO2Uzd379Mo+7ajEDY252R47SwCJuq2Ombn7SK\n",
       "DI0Ojcy9kTLHFvCqqTgLWbJEQ9JkShyQ7ty+9BKqUSyIFXW32dM9oeknXJ3QKd4DSpsZ1RXUDwVi\n",
       "d6fGqOiska9dI6bUxJSR7zeWs2djF7rbtJ1KIaYZX5auGzdbmJosahjidYtk3B2grCTsQFOzixIh\n",
       "1El5k0ae7RLvXcxmYWnFVFxZxWqFjM+dfY+B9or6U0Xr4sh64GJ3btrhudbXPNmTnVOMzfvPB6Ud\n",
       "QM0A2qA5vmKVxG/ySSPP3uLufaPw5Ncqiw3zv1yfdamRGOuDK5VtQiHGznNyXeHtUSMf/jbv/xh/\n",
       "AQfjJI1/tZaHAAAAAElFTkSuQmCC\n",
       "\" style=\"display:inline;vertical-align:middle;\" /></a><br>"
      ],
      "text/plain": [
       "<IPython.core.display.HTML object>"
      ]
     },
     "metadata": {},
     "output_type": "display_data"
    }
   ],
   "source": [
    "mod_abs_int_to_nat_closure = Forall(\n",
    "    (a, b),\n",
    "    InSet(ModAbs(a, b), Natural),\n",
    "    domain=Integer,\n",
    "    conditions=[NotEquals(b, zero)])"
   ]
  },
  {
   "cell_type": "code",
   "execution_count": 12,
   "metadata": {},
   "outputs": [
    {
     "data": {
      "text/html": [
       "<strong id=\"mod_abs_in_interval\"><a class=\"ProveItLink\" href=\"proofs/mod_abs_in_interval/thm_proof.ipynb\">mod_abs_in_interval</a> (conjecture without proof):<br></strong> <a class=\"ProveItLink\" href=\"../__pv_it/theorems/3540c8cf3c9d041a98f50a042ad1cc3e42bc39cf0/theorem_expr.ipynb\"><img src=\"data:image/png;base64,iVBORw0KGgoAAAANSUhEUgAAAVMAAAAXCAMAAACBK1yIAAAAOVBMVEX///82NjYbGxsSEhKIiIgi\n",
       "IiIQEBB2dnbu7u5ERETMzMzc3NwyMjK6urpmZmaYmJiqqqpUVFQAAAAnLjGdAAAAAXRSTlMAQObY\n",
       "ZgAAAAlwSFlzAAAOxAAADsQBlSsOGwAABFpJREFUWMPtmYly5CgMhj0zAnEffv+HXU6bxtgxnsRb\n",
       "tbXUpNPlgIEP6ZfELMu/0mT5OTz8vsa0frSsBwuSTv7IFqYauPCB/Z5Rf+cUSrPpQd0Kbi9IeJ4n\n",
       "0xA//fYHZ99C6nD5aaZuLUQRwcgppoxTcnNBgtRz44UjRIhmG6feMlymlh9nigWLCh7BiJyzU2Xu\n",
       "LIh5o+rJbfMtikWzrVLA3zJTY19jatMv5HNMV3dzQXBkak0Bm566t5jS5ZuZAiehqQHT7JKbENxj\n",
       "qjfdeMB0oeGRLTKqXlNT9b1MtQJ2Zqdr8mKxuhmmG59HTFXkSeMhE4qvuT5+rFh6BAnPmUrFTn2f\n",
       "VaZ2hqnyAN49ZYrRNYxIXsIe8bmQ8LM/KPvhaDQEEJ7W9ozpOLSa5AxyxcwUZuL+Gk6JrXKKKdD6\n",
       "zKpkKPWjzxRUr+2ecjTh3/aAn/YuboRwsH/SRgBGU/JBntvpULNkeu3OFCeYZvWlMMVUbvLiaDXR\n",
       "4XBflyLAcx56xKQEWSNffNR72c7IhoXp/mCobjZg1oQZHzMVWbpC483kKr+KZZh6yk6ziceR24KY\n",
       "InsTI6Yhs1KZqkg7cnBy2rQMN6Z8CYcvnGzEiQ96Z8Bye7TKC6aUp63rx0zZKE8SpkhZ1lM3FaPS\n",
       "Aes4ZMJOFyzHGMSsuI8tB8nQAlYGQYbAs1Ib7Araamjr+6V3fjFmh0he5M59nyULsuudMAvlRZ3I\n",
       "kGHnUtfw1NVO5VLpAMzKppju6ZojJTUtsTNWHGKzKwiVF5hPS7DSiTHT0tvw2P6EHxteFV9LuqDL\n",
       "oWUaN+DV4m6EhOJcnyKzAFzl/HQPWLeZiirzM3F/j1G8KLqvTh4Fatu8TVFMN0wYLB8bapiW3nvV\n",
       "uxSmtNs0+mYDEbAj2fi/2gJ3A5HZUQ9r0+gUrBkQgnr35cDUh8Vzc0uMcLO/PZeqqaIXu9SBbwXS\n",
       "+AAqmV7aEYYQFdbDBkxL71bjsu/3YibaGwrmAYX0IPIDxolwQUKs9TofDiDL1mhhCwKNyKRX8OMV\n",
       "VN0jMwi+PQNi+i+HXMrjWfXchXBPV+Vtx5R8DkpJGbcV2ZrFUOyWqZ1IPjFiWnpH3//9iyffH8eo\n",
       "pUTOYR2VcpIomEmWYq7BSD38oqdFZNpKCvlJbfrSXV8zn+wnplFOtQ0pb9xDWHsSh70cwOSjmox8\n",
       "v/ZurmWS1ulD5mvNFdMwGccsQTktCfKQDb7YaSsyX+/xbaamL9m0sQ4wZkzRJoTJ+i95TaW8D67K\n",
       "lR/GfVOjRVOSxdvLY8zl8oJpdCrITHOE8SZkNo1wNiJzlSS8y7SGwcvbvVYEGUZfHk0weoP7MsHO\n",
       "evs102ynqrPTdZCfHQup1b3JNOcJm7mcXPbcy+j43WKx23HEDqK3LVGY8sI0UZTx8ixGAllA7iJz\n",
       "OYXx81S7JR1WeDYX1rng6vb75kXOYG/ub26WmQ+Vj6VKS5/KSoTyPx8Y4j5R4lNk/ptNLv+3Q/sH\n",
       "ukIwj9AQuxwAAAAASUVORK5CYII=\n",
       "\" style=\"display:inline;vertical-align:middle;\" /></a><br>"
      ],
      "text/plain": [
       "<IPython.core.display.HTML object>"
      ]
     },
     "metadata": {},
     "output_type": "display_data"
    }
   ],
   "source": [
    "mod_abs_in_interval = Forall(\n",
    "    (a, b),\n",
    "    InSet(ModAbs(a, b), Interval(zero, subtract(Abs(b), one))),\n",
    "    domain=Integer,\n",
    "    conditions=[NotEquals(b, zero)])"
   ]
  },
  {
   "cell_type": "code",
   "execution_count": 13,
   "metadata": {},
   "outputs": [
    {
     "data": {
      "text/html": [
       "<strong id=\"mod_abs_real_closure\"><a class=\"ProveItLink\" href=\"proofs/mod_abs_real_closure/thm_proof.ipynb\">mod_abs_real_closure</a> (conjecture without proof):<br></strong> <a class=\"ProveItLink\" href=\"../__pv_it/theorems/275193546b5e2d352e0066722fccf77462757c770/theorem_expr.ipynb\"><img src=\"data:image/png;base64,iVBORw0KGgoAAAANSUhEUgAAAOkAAAAXCAMAAADZcZi4AAAAOVBMVEX///82NjYbGxsSEhKIiIgi\n",
       "IiIQEBB2dnbu7u5ERETMzMzc3NwyMjK6urpmZmaYmJiqqqpUVFQAAAAnLjGdAAAAAXRSTlMAQObY\n",
       "ZgAAAAlwSFlzAAAOxAAADsQBlSsOGwAAA2RJREFUWMPVWIt22yAMZZsAiZfA//+x42UHOyZ1s9Y9\n",
       "Iyd2ixXQlXQlYSF+Ztj+fZr8rs1+akDMF+0Ps08Tbw52imhxUhHX/z2Ua9qeR74NaNTiO5EKQcJm\n",
       "YD4xYTVsgRa21d1tTkYnvh+prjfTPOkyYLM61dJtLg18E9JgRTMqhw63bhNvQ6rEFyMFknm4M6Td\n",
       "fyqj5E5Pdx9L3dci9Q7w3KcJsYesKyhVsYdU+r7g1TtgNmmw8D5S63ASvYbimnx0QRxMfYZvqv0i\n",
       "8UzmHY9IvcrK0IJvIz3LpBmpcnKRm7PZVZuul8Mw7pCkotQuJAf7NWfyTW+t4RgtMg4CqGoFkO/7\n",
       "1E0yEjM+HkW1uvN0k7TqaCARZQkQeUZbfY70IS8223E2iz8YTPkBaVgqeP02UtPYlwcdopeQtxbB\n",
       "1G0iTPKRMj1CQ/8D8kcwwgTpKt9g221qsXOkqiyAi38bKdKsypjw4KRX3f/clUfNoO1mB4CEvcN4\n",
       "IAUMk+jt8m3p6iVb+afiNHpxKTvzciX3Ql/nwBI5rafBbE1ClL2U9vSF0mZ9V6QgUUAYjVai1xLw\n",
       "OdIuH6iMP/nLebGysNz3mQQj0qJ9ciLaj33q4glLBMAMadZ81ZWbnlalNUxL3G/iXHOW5wFpIE1i\n",
       "kpG6vNg6TdGRqr0uOg3RW2BHGWoO/wgpxROWPAywR1oWzDwlv6tsyTwYBGmkXUhZ+eqksk2JXu3j\n",
       "BGmXH8nTonfZq2LkmHsTaGMTmNXJJE3MJGBOvpkMNFbPMXRIO5bUJcjj81mGSvUi1zaXeyNiCVxi\n",
       "7D9bGsWMFiNPvdd4jrTLl+j9/Ytq9J5mJCHNix7JFtUKEyu1iktQdp90nnaWjF2Spn03+NRdHMms\n",
       "Ck09Y85MRSFs4f1oKlqVmWWkVX44NlQS+WOt5vASad6OdKNRKw4ELTa6T0eWfO5MMdgmcATNZZe8\n",
       "qAmN7JbM1mA6LTAEd557w5ochoYrdw7hqVki+wppoRM0pFyTRgp+GQg5sORqw/jqnDZSC3WJRT85\n",
       "H538Fi7VwAtIm0/d3qfLc+H66BD34ujtr7bBdLE/Oxi52ALMsWCaFSl1pBWczUeuxOUeDyy5eqh7\n",
       "9Y7h8puWky3jvxyoMS0hB63zNi0lWWiAYOudQTqzZ8ntL/n+i/EXRPQlCFQdr3EAAAAASUVORK5C\n",
       "YII=\n",
       "\" style=\"display:inline;vertical-align:middle;\" /></a><br>"
      ],
      "text/plain": [
       "<IPython.core.display.HTML object>"
      ]
     },
     "metadata": {},
     "output_type": "display_data"
    }
   ],
   "source": [
    "mod_abs_real_closure = Forall(\n",
    "    (a, b),\n",
    "    InSet(ModAbs(a, b), Real),\n",
    "    domain=Real,\n",
    "    conditions=[NotEquals(b, zero)])"
   ]
  },
  {
   "cell_type": "code",
   "execution_count": 14,
   "metadata": {},
   "outputs": [
    {
     "data": {
      "text/html": [
       "<strong id=\"mod_in_interval_c_o\"><a class=\"ProveItLink\" href=\"proofs/mod_in_interval_c_o/thm_proof.ipynb\">mod_in_interval_c_o</a> (conjecture without proof):<br></strong> <a class=\"ProveItLink\" href=\"../__pv_it/theorems/9029859caf0a96a7af5e432632d8173d89e90b110/theorem_expr.ipynb\"><img src=\"data:image/png;base64,iVBORw0KGgoAAAANSUhEUgAAASgAAAAXCAMAAACPgiLnAAAAOVBMVEX///82NjYbGxsSEhKIiIgi\n",
       "IiIQEBB2dnbu7u5ERETMzMzc3NwyMjK6urpmZmaYmJiqqqpUVFQAAAAnLjGdAAAAAXRSTlMAQObY\n",
       "ZgAAAAlwSFlzAAAOxAAADsQBlSsOGwAABGJJREFUWMPtWOma5CYMdLLivv3+DxsOCwuMu70zs50f\n",
       "CfNNq23jalFIhWDb/p1mJvuTmC8aMKafvGv+lI+/2yCO9keag7ddhHv2oF4iXrOpP4zhYzxFMdrf\n",
       "5pnxc2BScXbcDg+JEgK8uT44kVo/xKvW91+0HwsxaUf7hSzbaQRYj1/kI6JsjmPJzIJBRMJLeeJq\n",
       "DCmjPhZQPoz2C20gascEDv4JUaGGjVALohDpuES8apE1ET9GFJ/sN4lyew8kPoYUKJabnfhQNTbi\n",
       "Li9EdSSULMQrNhzTaj+nUHa03yVKsDMJaYw6C3IVUXuNE73HC1EdCYlCvGp5YZ1x8bnME6PdTBJg\n",
       "ziVLW+4NgIK83oCqLksPgGqalRg0JcomgNRGLRLRsYViFQIkEhWu4oVISBTiVetrZaHk1wb9QrLv\n",
       "HgzTVGaeZ11VNBNY8TaPJLsbSn7qqryqcCl5HQghSu6ZEblXbQ4kSFeLUyHA7KIRBZdVryMhUYhX\n",
       "rUn4MTVtJ32PTFifLP0Bddv9CGYBl1BlcbCS19WXUdSqXruq48nzyI6h5a/KzqteExtevYpE9uz2\n",
       "higxe3siIVGI12wJpmUllhBKQ1IlB2DLd4QRS6LO7ltnPuQfdfNyijXQYf1eWaMvq/pKHUlhB+Uk\n",
       "35AtDiQhytveOfc8561JSm5qTj3RhPsSUScS0oF4zUa4kXJ+lPveH18g/21BwpooTncHyfRbu3lJ\n",
       "FFfTyDtRcBAVj4c5xPSVqEqxa1w6TurQu/KgaVS8ivmJhEQh3mFtnfmKLgIIHFd2CpKkBW8lCqRf\n",
       "p97RvSGLliE1luOr1GsxEvbtnqgeUX4VUfWhbxIXSQKzO6IaeriWBydSTz02WBGPBaKUq7oHADC5\n",
       "gadTU1LPKLpTUHRfUbt7Vdqv/B8yVsFlU12pgFpZ3Ut2i+aOqI37lizZ/SaEVKNKh6ZzefTUH7gr\n",
       "OHnPWDkS1ZG6mKvBGp4wx0pud3dDlXsXCFFejRUtuTi6012XJjpLvE2DLXxF5ukCailRrvhUUtiK\n",
       "6msZQyJre8pflZ8qDtypLLcwJZRlgczLHH1wIiFRcyWT9KkakKjm+JQHX2NExZZ6wsU1UUd3qg8t\n",
       "9fbJYc0GKxMIbRJ0hdNp50lHlT83YfeiHMYLkZrz0tc6inU3ZRJ9L8So0smknFwRVSDakBmjpfiJ\n",
       "hEQxt8DdWgmhgjxe3pu+aLFRjXJOyCVRR/eSen//pWrqrcV8wzOhm7Ohb5xITbrkhFpsYYaKR94f\n",
       "s5x4M+7Gi0S5kKuuQk5mu+bmWYu28uBGzLE72WhXnXCXEm3Ya/6J3fbz8yixvSLqdvfufIggQhGF\n",
       "Uhr7podG6b55yjohvbfLVc+jfJIqv5z8XEt0ZUb7UwH19gBkJqpXOkuiEO8lLtUVKUomLQ8HVxDx\n",
       "7Ukjapj82aOd97zPRMGrE85H8+kebv1WI31wKIBbYAM/yBO8j09xd2YO+nqJeC9xnx6pLYiKbvu/\n",
       "XUPjvzLQfwCn9jHt5JRUCgAAAABJRU5ErkJggg==\n",
       "\" style=\"display:inline;vertical-align:middle;\" /></a><br>"
      ],
      "text/plain": [
       "<IPython.core.display.HTML object>"
      ]
     },
     "metadata": {},
     "output_type": "display_data"
    }
   ],
   "source": [
    "mod_in_interval_c_o = Forall(\n",
    "    (a, b),\n",
    "    InSet(Mod(a, b), IntervalCO(zero, Abs(b))),\n",
    "    domain=Real,\n",
    "    conditions=[NotEquals(b, zero)])"
   ]
  },
  {
   "cell_type": "code",
   "execution_count": 15,
   "metadata": {},
   "outputs": [
    {
     "data": {
      "text/html": [
       "<strong id=\"mod_abs_scaled\"><a class=\"ProveItLink\" href=\"proofs/mod_abs_scaled/thm_proof.ipynb\">mod_abs_scaled</a> (conjecture without proof):<br></strong> <a class=\"ProveItLink\" href=\"../__pv_it/theorems/a805e237b0f92dcbaf01136d97e01bc13ccc71700/theorem_expr.ipynb\"><img src=\"data:image/png;base64,iVBORw0KGgoAAAANSUhEUgAAAUkAAAAWBAMAAAC/C3MNAAAAMFBMVEX///+IiIgiIiIQEBB2dnbu\n",
       "7u5ERETMzMzc3NwyMjK6urpmZmaYmJiqqqpUVFQAAAB6qHgnAAAAAXRSTlMAQObYZgAAAAlwSFlz\n",
       "AAAOxAAADsQBlSsOGwAABExJREFUSMeVl12IG1UUx/+TZD6SyaZT3bItriEslap9icXqKhayD8W6\n",
       "VhnqdkuxbLJSo/iBgfXBF93UBV+E7fahVVoLkfqgWDGKaGuXmlC2UGx1Wl98ENyF+uAHNIUurpWA\n",
       "58xHnJ2ZTGYvnMm9c+fM+c2Z/z1zA0Ruim2eU9yq3T08LejKanjcKtbS7rbN1RI163c02COl+U4F\n",
       "XTkaHvdDskXu/BIBsq9gmYdyfFtInMFeRKHedhMawLfceT8C5X7bvLk8ERInqffK24nelDgKvMX6\n",
       "KUWgnLfNS9kOiZOu96JsR6D83nrchBGBMm+bhzK1HBZnew/KcG+7xXWk6a0no8hyzjIvZSIXFueD\n",
       "HpTh3o5uCHHb0NCDESjVgmWYHTnkpkwuZY3ucZ4OoFSub+ys/XBvJwqt8G+A5yNQ8gOxpYbxmu6i\n",
       "LB4VV7rHuWQ+4JDZFm3KU1Vp2ZkP93bUTa9wFsqiM5aPrZq+9sT5I04/Zlj2TANfunP5q44Husf5\n",
       "yZ9L8TGoOWcY7u2IjZaDpDu1mdr1Tk/OlmtCArucChmvWfYdsJmG4j825VngVvc4035KtYUY37TI\n",
       "Ig/3dlBaRKq5Fs/Dnd65CtVTAQuah/IhiLd5vNWm3IxUu3ucU37KeAlFTkuMq1S4t1MIuLTMNekw\n",
       "1tzF1DezrLnEoMYFnyk31Fe/cfEm0i33G29DXfbGEXZ0NOPXZVHDj65y6ffGnZ7C2McCeYpqu3iv\n",
       "vMK3v0dgqvvl/LgZLaFMNuxLJc00sY3M3M8uyr9Zqd44J53ORX8uiwZ+73N2EIHeSQ9lmj86M/SQ\n",
       "al3mtEoNXk9qSaycNinVgyV3OWCbxLV63UX5F172V7xXnc5XfkpJ69uqOsNAb8nwF0FkKqw4gV9I\n",
       "vKIuWvK7VC6XDUFIfNaRcM6yif43liouyoknKduj4nNvZg/8UIPQ3Amsb560ZENvJWCNLz0+O+AM\n",
       "LW+Mb7n62+U/aHfSr0MY3ESU4u5+M98jJMeYs7qLVWmBFLkOcbpiHc2/buZSSH3UqY1bbAveuR02\n",
       "kiXSz0vYw4++w5INlFy0nZvSxjHSsFQTc5R+ZthTnWbKWG0KeLvzqaxOn9bHENMvYgzJGgqSbuoS\n",
       "O+uub75pXSh1qSDnqWZI2mGddcmygdqISLmMg5jiujVJXdblORqKBXyNfa49Tmr+6m5MGfIXGh2V\n",
       "+aauvEBnP9lUePZsRy1Vy7pQIqPJ+XQemfrn5uph2eCdiLtgpYUlwroA/JlqmZSPIgt5mH78OzbD\n",
       "dRwrl2urJsWSZWGUlMuknUuWDV5cGyXl8oiVS/puvrKXplbgS01K//8Y0A7Z5i6M9joaIEqJKAlv\n",
       "Rs80FNIly0bw/2UZCLjxAFNOEmXSULbTsp+hPA3Ltxdo6jgS2OipS67jGpt4o37h+OwtJNaf4XV5\n",
       "XwUsm8juE/+mH/n4RgEjd1WpNtzxHvDplX7W9LuXN/D8f1sULDEW5vApAAAAAElFTkSuQmCC\n",
       "\" style=\"display:inline;vertical-align:middle;\" /></a><br>"
      ],
      "text/plain": [
       "<IPython.core.display.HTML object>"
      ]
     },
     "metadata": {},
     "output_type": "display_data"
    }
   ],
   "source": [
    "mod_abs_scaled = Forall(\n",
    "    (a, b, c),\n",
    "    Equals(Mult(a, ModAbs(b, c)), ModAbs(Mult(a, b), Mult(a, c))),\n",
    "    domain=Real)"
   ]
  },
  {
   "cell_type": "code",
   "execution_count": 16,
   "metadata": {},
   "outputs": [
    {
     "data": {
      "text/html": [
       "<strong id=\"mod_abs_subtract_cancel\"><a class=\"ProveItLink\" href=\"proofs/mod_abs_subtract_cancel/thm_proof.ipynb\">mod_abs_subtract_cancel</a> (conjecture without proof):<br></strong> <a class=\"ProveItLink\" href=\"../__pv_it/theorems/f338505e8207fea38b0cb34771a9c704c7053ba30/theorem_expr.ipynb\"><img src=\"data:image/png;base64,iVBORw0KGgoAAAANSUhEUgAAAaYAAAAXCAMAAAB3ThtVAAAAOVBMVEX///82NjYbGxsSEhKIiIgi\n",
       "IiIQEBB2dnbu7u5ERETMzMzc3NwyMjK6urpmZmaYmJiqqqpUVFQAAAAnLjGdAAAAAXRSTlMAQObY\n",
       "ZgAAAAlwSFlzAAAOxAAADsQBlSsOGwAABXNJREFUaN7tWema4ygM9MyI+/b7P+xyW/h22rPZH0t/\n",
       "HQJxREGhkiDT9P2i6v/Smoae+1ZeBPTvj7q1pd4e4ScFfHxhBrdQfbsYeA3RA1Md9wtlYyt3FDCh\n",
       "d3r3FZY8wxBLq9ZcUPKA7uf4gVDziakF2N+nqYCx/TP9FffiGkOsrV5r+8CU5s91ZjafmWrAfkqT\n",
       "R6t+QFMGI5s7KfEVZ7IOI6qtXs8b6TPHG93Z58Mf0HRpqgH7GU2OWH7pTQVM2zjMf4UmOiCiY6+Z\n",
       "N7van8QNyt+i6cpUB/YTmoAwfkP0ChhXt6f+TmTSGFFr9d5taDqjSbvXaLow1YF9TBNnBO7FpgqG\n",
       "klQo+47mMYyotVqtA0DwpzSpwEDVPhaGj6SmVgEIiNkSiDwAtwAtGjMGIFc0xS4nd0xtWGzAPqSJ\n",
       "W+KOUohlRs14BmMzLsF/vuQnsK4coCBqrVrzOSoyn9UJTYbGT0WVILdWBJKWUs4uGndJRyVJtkQy\n",
       "wWle5YEmRWKfFbumxul0YB/RxIP2h5kemlEznsGo0F5WReqTrMITpm3QeNHERaoZt+/GZckQilur\n",
       "1j6DpXBME6c5W60S5OnKusgdcwIm57gbSR4/vxV6m+nlj8twG1Pj5Duwz7zphCY8o35Koc2RdocL\n",
       "e0IoIYikIDDFT5liN2gqe8DFWZn1M+3cUsZvrVrbvJRzU8IizkWj666yc1/evP5rmkQ3kLiRNT+L\n",
       "HXyG4hZo3hYlLN0U12Qpsj3ZgX0oeupQ9PCMmvECJm3QXR+nckfZbO2E+Dc5DjdoCqpbm9UDmjJY\n",
       "MyblozdRgdfa0H2aoNLk64PRveQOTVRgMT1b5QXY6ykEnhEb56XzTi9fdsBU31ExTvIluqaHlvN5\n",
       "pgm4PaCpPF5GYUVfslD4B6KXCbJjUj7QVHzCzV2Iz2nq3mT3vKl2HZjanpoysAuagPpnCfkwoy56\n",
       "pB6Z6uGJxxAr+4YHwidoNBAzSTrxhYokekrgaxVMU3ncilT+xH8X7aYx1r4uANPUWrVOMaRo9SFN\n",
       "Piv95DNmJ85pmqgth544WIm7Q2yay0hm19RIUwd25U3aPzveDjPqKUQBo2iT+jgN2d09rm3PeFL+\n",
       "wyW+A4DYx4bJoEZ9HF+QyZ18YEl8a5IRht4Qvyns2bkp8emJrUmmXcdSjWkyaW4Jk2Z5zmnEMLsR\n",
       "dBxb7poaVbwDu6JJ+KtzoxxFD8+oGW9gglxiAgQcmmwYooXT2T/S4En0mPH7NKEbzeaARfTWtz9y\n",
       "uMJsrVrzwKw7Pd7yAEyqALK58GA7zDRIL+LrxPScAoqyjIV6fWjzuYmgFJcx54Dvmdpk1AxdcnFB\n",
       "pI/hwblQ70ohq1k8g0H3JhQETvNhPKNG0wpMPgkIx6sjziiWVCWUbMKxyRisroim+ngSvd+/RBa9\n",
       "/RRiqtlTRdRyKSIPt9/xZNWD6/SrTOyuqYxbpc2XPDcHkZQGc1J9oK1fCQIf3ZBvwdAUmoyLR7c0\n",
       "RAxNSRXze52+wfApuCTkBylEexxd7cbNFXU/HFxy4lvG06vPk6tX+94vMbdNVZriqghWAkbJngUU\n",
       "9ajehIPAY5o2YIx1HphL46Xju4Ws6um9skUPlKiDGQ1R47m1eo+m9vhwuxGPt3Z7HSEUhijUWD/x\n",
       "gPeu+O+bqjSlwAGFpnzdMQVrZpRCjD9rcbJzFjuk6RSMP3jPWdKwXeUWzzRqiF0NYotk/Pmai/d+\n",
       "L7tvaktT8SY9etOs7tradpyBMXz//enk9hLSG1s3MQkSt1B9/2eB91h6YCrjzjSJSlNmRlGe00FV\n",
       "Y9MSBK5sbTpOwbiD9w9p8i/+Bv2fLTzE87Kj2qiQ76ViBmlVTe5ISbiXIPD9oqb/y18q/wAbXT6b\n",
       "reyRTAAAAABJRU5ErkJggg==\n",
       "\" style=\"display:inline;vertical-align:middle;\" /></a><br>"
      ],
      "text/plain": [
       "<IPython.core.display.HTML object>"
      ]
     },
     "metadata": {},
     "output_type": "display_data"
    }
   ],
   "source": [
    "mod_abs_subtract_cancel = Forall(\n",
    "    (a, b, c),\n",
    "    LessEq(ModAbs(subtract(Mod(Add(b, a), c), b), c), Abs(a)),\n",
    "    domain=Real,\n",
    "    conditions=[NotEquals(c, zero)])"
   ]
  },
  {
   "cell_type": "code",
   "execution_count": 17,
   "metadata": {},
   "outputs": [
    {
     "data": {
      "text/html": [
       "<strong id=\"int_mod_elimination\"><a class=\"ProveItLink\" href=\"proofs/int_mod_elimination/thm_proof.ipynb\">int_mod_elimination</a> (conjecture without proof):<br></strong> <a class=\"ProveItLink\" href=\"../__pv_it/theorems/595a023507b0231b41d727a3430c9c4ea214a5a30/theorem_expr.ipynb\"><img src=\"data:image/png;base64,iVBORw0KGgoAAAANSUhEUgAAAWYAAAAZBAMAAADwC5mFAAAAMFBMVEX///+IiIgiIiIQEBB2dnbu\n",
       "7u5ERETMzMzc3NwyMjK6urpmZmaYmJiqqqpUVFQAAAB6qHgnAAAAAXRSTlMAQObYZgAAAAlwSFlz\n",
       "AAAOxAAADsQBlSsOGwAABFVJREFUWMPNmE9sFGUUwN+2M539N91ZCURFa7OacAIrMdEEY6ZJezAG\n",
       "WCNihINLjOufg1mhHjhIB2riTRcjxIvp4MF44G8tUSiHNuEg6RI3Hkz8Ex0waEgILdJKaRB833sz\n",
       "25nZ+YeJyEveN7tv387+vve99775FiCBnC8ZcLdIqrQ6kV8d7iZp3CnmtK3JxIiy3zHmB21NJgei\n",
       "7A2wxOXnOOYkXlGi6qzhafqwydeZ65dwnAzxmiTmk+L1J3HMSbyi5CVbw+VDZoZCrxj3hXjtI+Zd\n",
       "ItEqccxJvKLklK3hUrCZh2k1pkO8pok5UwaQmnHMSbyipM/WeOaH6NpZDvYS9gbkMUUysTWYxCsq\n",
       "neusCZhHacyEJLSwY99YWyo9Ht83EnhFSE5nhed6XhwQy7Vz3e4V2oEVJsjHVgrYgeKwzXydRsny\n",
       "3UEuXhhaz3Zk/grg1YCfkbzMbV6nJ2NJh467w0OhO5o6l6MiW9NUbpj5PthuwDaA55uwkZmzc3TJ\n",
       "06KMlYSsoVlDjzbGdmT+ANJWUGi8zH4vBbNT6vd1r8M3tVZczuCwwXnX0WTNG/n5bprsKwB/gXIN\n",
       "HsGqq8Ebrb4hLXIy+ZP/G/i2fIntyNxVltA9O3PO/nTPuJl/uo2ZvRi3p2pSdk7B5772ufRLb9+D\n",
       "ww+t0jFZFcjZWV0FmENm5W/MZF2+AvAy3z4zi0MZlFkfcw1O0G/PErOqUXEtc3BUaxCOtzHbXkIm\n",
       "anZVPQEF7ybb5VqK74KYcdRazFeQWcWwFirKEnOhLlYDsu1N5jFKHY4z1KfEu7ccHHUqB7o0MTZx\n",
       "0rN3k1fx65UG71HInJ6HTm/7K0yGMDu5AXDEkMsuZorzUVecj+CcuvH2vb58huwCvMB2wbyeNp0b\n",
       "ztaovvuFprfFmbxSxu+Z5manSJR56PAW4rDhZf6stQAa62bzN7u4bWZYh5gm7G/l80aM2gN4e9/+\n",
       "Jb/Z3Qc62wXziFhRZQEHwlFrgz8GMAuvPGxT4CCZdtYEc6fmufMy8DJnljtNyGL99Z0v4RBZ9hPz\n",
       "Iuyowcd4cxNmePqPouO83RjdDf7a1r5sk+2CubvmlM9BZs6lKu3M5AU4szPVarWpXC6L3Ch4cwPz\n",
       "a4uCH1dfZ2Z1r1O2vaxbi+op+squq398f9V65k89Pb4BAyyPF4dFCsgXb12+eAsn12H64nxM++ks\n",
       "sL3hKh/ZJBy1Juv1tv7sdLg0DHGLsAJqEPNr0B3nkdYnq2xNKnsi7A1X+UjlIY4zHNKCn59HpHoO\n",
       "u56zGxfhMMVAh008owVQrcAapGeb6dt8pgqzN1zl8wvj5E0KYhBz7v7+5ZB+zWGW+mmjU56EHRTv\n",
       "++aeHXXW9L3Rfjdzl8Ga9FRTibA7zKnRgROLjLMdH5OtqHPKpqq9p8TKErNcYU0oYdMju+9sRTiJ\n",
       "zlbZ3ttiht22JpN7o+z//jy4N/5ryqf/47n7o4D/N5T4E8D7/83/G0/9A44tSaLvR+jgAAAAAElF\n",
       "TkSuQmCC\n",
       "\" style=\"display:inline;vertical-align:middle;\" /></a><br>"
      ],
      "text/plain": [
       "<IPython.core.display.HTML object>"
      ]
     },
     "metadata": {},
     "output_type": "display_data"
    }
   ],
   "source": [
    "int_mod_elimination = Forall(\n",
    "    L, Forall(\n",
    "        x, Equals(Mod(x, L), x),\n",
    "        domain=Interval(zero, subtract(L, one))),\n",
    "    domain=NaturalPos)"
   ]
  },
  {
   "cell_type": "code",
   "execution_count": 18,
   "metadata": {},
   "outputs": [
    {
     "data": {
      "text/html": [
       "<strong id=\"real_mod_elimination\"><a class=\"ProveItLink\" href=\"proofs/real_mod_elimination/thm_proof.ipynb\">real_mod_elimination</a> (conjecture without proof):<br></strong> <a class=\"ProveItLink\" href=\"../__pv_it/theorems/8f248adb76e47883c588815b43a2d42bbf773a330/theorem_expr.ipynb\"><img src=\"data:image/png;base64,iVBORw0KGgoAAAANSUhEUgAAATgAAAAZBAMAAABX1i9+AAAAMFBMVEX///+IiIgiIiIQEBB2dnbu\n",
       "7u5ERETMzMzc3NwyMjK6urpmZmaYmJiqqqpUVFQAAAB6qHgnAAAAAXRSTlMAQObYZgAAAAlwSFlz\n",
       "AAAOxAAADsQBlSsOGwAABBBJREFUSMfFl11oFFcUx/+TzGT2M7uLKFpLKltf1W0pFaoPK6RQH6JT\n",
       "atOHPDRBu1UfZFFb8MVM63vdihEfBEcoQqHWNU1pY6SsD4W2Kl1KKYhF14qKIE2spn5g0XvPuTPJ\n",
       "zmZ2huLHgXNn5/Bnzm/uvefsHSCC/ZW38cxNyy+LpKvgudjZJw9nK48sDow/eTitzh7NjrSLn0VD\n",
       "Xv4Mg4uiYvtdeSD8yw5fJ+/fFGMtQFUjuJPy98EwuCgqMqPCHmx7GQ6ZJXIcCVCNENxuMcYGw+Ci\n",
       "qMiSNfZgyyi44aIczwSozhBc3AL0ehhcFBVZp/JwuJfo2mkFPMeScCnxmvHQgoiiIjuvPBzuMI3x\n",
       "gFmWcVGtr+bzr4VXawQV2Zjyt3ve65UzvWvVJwuyRxY4ME4sllS9uWEFd59GveHftLmrO/s4LuC+\n",
       "Az6YI4veDOdXvd7UobLer0PKq9rlJO345XXzoZMqYLuNIeCdOtYzXOIOXVJUPKN5actp06InO8px\n",
       "AfcZYo25dnYznF/VgL6GdnRi8vJs8TL2lJ2a7qYV2wj8C/MulooSKGOLV636A7qkC768P+FX6ybH\n",
       "BVyXpTsqB9lva3/4vBWOVWRmT8kRcKdxlG7nScKiK32D3URS9ZMScEfAmf+J3VY0bgHv83PiU2Kw\n",
       "YE754MoYpyRTBJfOxt0clFfT8VaxBU6ppE2UaeZWIkNLu62pXSk4UW5ZD+6WgEuLicoMmjNwmYqc\n",
       "XyQKLWv2Ci0Izxwqp70cMq+m4cesPjE6cbLp74tUue8X29zUG7FpdFJveSiHPt+yAsdtw5oFRzNX\n",
       "nTVzxwV8t3jpJb49h8Q9vMtxCdc34uagvAJufrVl5kil2dfi9X7ec+Y0OqTcvCdvL7jSIfZ+54oq\n",
       "KQWHVYLHwQFvz60X8/CimDxfZze2dhdQ5LiE29Nwc1BeTY8N1VrhpCqFIRNfeXC0chqty1FXuo79\n",
       "0kff4BgFDhDcA+woY794ioNJ7mwrRE1MizTFZrj03YFCos5xCddddnNQXi25abC1IFgF8Qo/l0ql\n",
       "Oi1rRi5rVwOGg49d6Xb2gVz6FC367tvX/7jdWPtPMTa2TkyZMZYblqtn3Hj0941H4n07HN/Mnche\n",
       "OAeOe0cmykF5NU0/1trnVKEWYtipWokqiEwNujWzrB1l9qj2aZu4B0c5KK+mJb6w5j7P7dErSdFU\n",
       "GC6Hr7FBNC8bF0WluNJUlT2qnWoT9+AoB+UVreTN6txwyRfWzEfsQ7cJf4sdde1w77joEps97WbM\n",
       "vguzoJMOxV04zkF5v1xUHBhvdxLeUKImTKYOKsZMjn63sCJZl90m7jumU95Ix3SGS6j1T87kiGXZ\n",
       "o9nCdvH//Q3BcCl198tz/Pra1/rdWmqKWE/lu3X1YyMYOqUMMGECAAAAAElFTkSuQmCC\n",
       "\" style=\"display:inline;vertical-align:middle;\" /></a><br>"
      ],
      "text/plain": [
       "<IPython.core.display.HTML object>"
      ]
     },
     "metadata": {},
     "output_type": "display_data"
    }
   ],
   "source": [
    "real_mod_elimination = Forall(\n",
    "    L, Forall(\n",
    "        x, Equals(Mod(x, L), x),\n",
    "        domain=IntervalCO(zero, L)),\n",
    "    domain=RealPos)"
   ]
  },
  {
   "cell_type": "markdown",
   "metadata": {},
   "source": [
    "Since $((a + n \\cdot L)~\\textrm{mod}~L) = (a~\\textrm{mod}~L)$ and there always exists an integer $n$ such that $(x~\\textrm{mod}~L) = (x + n \\cdot L)$ then we can also eliminate $\\textrm{mod}~L$ from any term within a $\\textrm{mod}~L$.  That is $((a~\\textrm{mod}~L + b)~\\textrm{mod}~L) = ((a + b)~\\textrm{mod}~L)$.  This reasoning also applies to `ModAbs`: $|a~\\textrm{mod}~L + b|_{\\textrm{mod}~L} = |a + b|_{~\\textrm{mod}~L}$."
   ]
  },
  {
   "cell_type": "code",
   "execution_count": 19,
   "metadata": {},
   "outputs": [
    {
     "data": {
      "text/html": [
       "<strong id=\"redundant_mod_elimination\"><a class=\"ProveItLink\" href=\"proofs/redundant_mod_elimination/thm_proof.ipynb\">redundant_mod_elimination</a> (conjecture without proof):<br></strong> <a class=\"ProveItLink\" href=\"../__pv_it/theorems/a8c182d3e9121fbd1cb948323c7d9dc67b7c7c320/theorem_expr.ipynb\"><img src=\"data:image/png;base64,iVBORw0KGgoAAAANSUhEUgAAAZMAAAAXBAMAAAA8ZL8oAAAAMFBMVEX///+IiIgiIiIQEBB2dnbu\n",
       "7u5ERETMzMzc3NwyMjK6urpmZmaYmJiqqqpUVFQAAAB6qHgnAAAAAXRSTlMAQObYZgAAAAlwSFlz\n",
       "AAAOxAAADsQBlSsOGwAABMNJREFUWMPdV29oW1UU/yV5Ly95yUtehq6TzVFqxaE46lAnnR2pbHPz\n",
       "T41sFKSwpszFWZXF6QdFXFIn+yLUDLcibGjG9IMyWSxF3Vq2DJlQ98FYRRSEpTCViWPd/1lX8Nx7\n",
       "X/JeSv/cvG964Hffzc25953fueecex/gRrIOzC8Bt0qB+qxxI56SDQnRTZdKt8uZc9BCmf34tT4q\n",
       "Pzowmyxo5Y/OFdQscadkxOfw5h159lC3NFK/KHCMjbxfFxM1Z2P2gJkUz/2EYMKV0jNzGfEup4Jg\n",
       "gZp9AjvZism6qISKNmYXy8opQrjgSmlkruWjgkqUxfhpAeYMpVQXFZ8D81HRr7L2AVdKLRJUjrC9\n",
       "9CU4wuTaYH2p8osD81FRGll7wI2SkZOg8giPsqLAiqam++ujMuRA4OwiXnpeX9W30Dy4MA/188X0\n",
       "EqW9QVgZHF9KW94hJkop2XHMsr6/vY/1tfe+ivXosV6gK8aye00sI6h8EDtPC5UFvgS2Stiv2N0D\n",
       "DhzK+nl0YHlJu5kPt2BHFj1Q26AIK7v3qTeAUWvm/EqDTUyWV3ytP4TtvBx4zyPzLb6Gtgx+ExtL\n",
       "eEpUsL8T3VmEaf8Y+hEoy+S63b3XhvowQjw6sAW4Bu06moFM2p+rFKczCdwH/GDNlFKqiJd2amMR\n",
       "g/yHvwXRJE3yxtn85ysVzLgKnwmDsorBn1DyjgXGNhzfw4PBqmpG8/5zZi2VVhuhCXhF9U8BV+gt\n",
       "GhWjaLzbhCqsPMqGkbFmSilVqwuZdQKMNqOSpBlEJUP8rqgXaSe50aEcG9YmwGGY1azXlqbyHgXr\n",
       "mXER1rz8ey/MuPL2rFR8SWtNZuVFstIg46LJTNXKZuhk9yGbyvxKTioPVlQYFZOonKHBa1qVCvnx\n",
       "SAk67QgDcicrk4fTdGx6cIrtgo/6IcojmGb4aSjDg8PHZggw8ux3NVZyhxdsh08hRLk0BlklR65Q\n",
       "gJH7wxM1VNiu/GPvCh0rJxIwKMYZ8CQ7LDedXM8Pf0blVnZYZWK/ibuEaXq6anelx0Z3CeeMrMNK\n",
       "rKJanw8mK2lwnYU7vqmlMrdSRSi91SlEcj87qfgK0CcxUMmVaJqyFeGkAHZR1qvLtBvo5JcbJdDD\n",
       "KC1ILFZ5upjx3UtqqXTY8JvGPeKfAW7lJF5JYy8CrYjc5MN/4QWrbEsrVWtmmXlrrMBvAUFBJa+t\n",
       "RDCOXXlc4FeNSNFfEGWbl+4IC6WC1oLDnEroWc7gRYzqXNv8Yt20CrbDhjr+aH8DG9t5+Y+fLpc3\n",
       "XIoHhjrIX13tDZd4Xdz8OFvkbjFRSqkqGoXM5lteG0+z/oXVb25frXzYjHfW/EmvHYpleBCqZ9nt\n",
       "xpsXsFLMU8ZoKpUqeTzKZ2xkJY6HB1KplyjAHivVnivetA25D5ZGV0p3yZ7Zb1kQh1TWfyrxKt8V\n",
       "j/4RO5Qm0KbFRa58urZ2Jrv4VSB9/3ShdFqWyojz7unLZg4n/AmeK1hbUOO4k/Joq8gVpWva1G0O\n",
       "yMhud0p+yU9DdrG3L/f6yPdPIPAc9T65Ld51VGvDGzFanSJI37NXHZ52set0QEa2uVNSJb89GOXp\n",
       "tDelUlbyGGKtdaneGd1g2pD5fs66VOqTo7LIwszyMf43UvwP2vwvVneax2GBnUAAAAAASUVORK5C\n",
       "YII=\n",
       "\" style=\"display:inline;vertical-align:middle;\" /></a><br>"
      ],
      "text/plain": [
       "<IPython.core.display.HTML object>"
      ]
     },
     "metadata": {},
     "output_type": "display_data"
    }
   ],
   "source": [
    "redundant_mod_elimination = Forall(\n",
    "    (a, b), Equals(Mod(Mod(a, b), b), Mod(a, b)),\n",
    "    domains=(Real, RealPos))"
   ]
  },
  {
   "cell_type": "code",
   "execution_count": 20,
   "metadata": {},
   "outputs": [
    {
     "data": {
      "text/html": [
       "<strong id=\"redundant_mod_elimination_in_sum\"><a class=\"ProveItLink\" href=\"proofs/redundant_mod_elimination_in_sum/thm_proof.ipynb\">redundant_mod_elimination_in_sum</a> (conjecture without proof):<br></strong> <a class=\"ProveItLink\" href=\"../__pv_it/theorems/2b2686f8c7425f9a3c012a6b3795924ccb6f08770/theorem_expr.ipynb\"><img src=\"data:image/png;base64,iVBORw0KGgoAAAANSUhEUgAABA4AAAAzBAMAAADlW1cTAAAAMFBMVEX///+IiIgiIiIQEBB2dnbu\n",
       "7u5ERETMzMzc3NwyMjK6urpmZmaYmJiqqqpUVFQAAAB6qHgnAAAAAXRSTlMAQObYZgAAAAlwSFlz\n",
       "AAAOxAAADsQBlSsOGwAADDxJREFUeNrtXX+MFFcd/+7tzM7+vJ2jUGjAYz1osNLaK1pKiJC9BFoL\n",
       "RRbLURHLLWoPxSpbz0SN0V1KS5qQ4DW2jSmkt03bmKqVtWmpLViXVFAKhuX6B+Ivllg1aIUrgXJc\n",
       "Odb3Y2Z33puZ3Rl2Z4zT+yZv9s133n7fd977vPe+78d3F6AR9fb2gqsk9vamYIJcLGtLVXxz5X13\n",
       "dWurVApW026cqMqrozW0qQUqlTTA5sp7jb/xUbdVbMtbTtpenKjRqyPpeiUSTePrwf9vHLzN3gaV\n",
       "4CQFW5zOWS1ypk+GPYSD6CB7/yElOElW5YdlJ7WwKv1p0ydC2Ts42MrCPZakwUlC8tfMM3k2aSH9\n",
       "7Kw8hcarGY7qYSrdN4sWn+/spXfQ1XzgvNE7OPgwe7tWCU4Slr/TrLMeUyLn8CXk6KTHXPoPlOKL\n",
       "J/D1cVMJb6W8goNoN3u/TwlcF2rcJMJmLeVndblY/riZQgoOpPNEu0I9gcbZmyqlexA1nVLFleLL\n",
       "kp7xsDmSCl7BgZ8bA7qVwPXkxkNpzGyEPVaXi+SHLzTAgY9+3lpPoHH2pkrpH9zaCAczyafftN8I\n",
       "j3oFBzPZd4wN0uAkDrB8IdEAB6ER8rHLURzsaoSDIaqLuYHwlFdw8DH2NpKkAXb0bDEqQhO2GQ6C\n",
       "b0+TdVwsP3Sqs4R7/x/+smNDuGMTwLqO17AB3jNVwUGcgvHTPA56ZmT02Qsdv7WDg6oMRTqvxZKO\n",
       "rFJ8l5hpgQGdTHkDB9JFbsAr0hBeAJtT+iI0YZvi4JlcAA0An2W5WH7f4yLpUtv+A9k34Q2QPgIB\n",
       "GcRFICg42E3Hq0OcwAdLkbQu++BNsMcGDqiMjEY6q8XdJVhJiy98XjO1frELE9du+mRv4KCdswXa\n",
       "SjTcXYQXAT4/yBUhYYtLzqSs4UD8JETQANDDcrF81I5uwfFAN8TTkM20JTEkA4PV+YJSE29xOJgN\n",
       "flk8xGmFvnyLBaXUB1gGwByNdFaLr1TnCwooY92m5RdIeAMHfq7L8+dp+DUuLqmDvGWkq2vWvK4u\n",
       "nJKwI6RytWyWUMP5OG04kRFcRzwXy38VgLS1QBriSVQD2RJmoNYljtVGZhEZ7JxAbF4+MInXCiGg\n",
       "kVK1B5GaiZpVa1Orhfguaub5mpGSAmnEfLo16g0cZIvGOJhPKiSW4JoSYcfzwYvW+gN/Wi1RhpvH\n",
       "aAqPqzUgoxo4iXjvQbaGAzwy/w4NLDqBUFvOrWkFVpRSHvhrA8szGhxUtZBqOMBGSjQHYfP+QLzs\n",
       "DRzMzBmOC6hNREf0OKDsaMoqDlD7PgrwdFk/LowrzVKtAdwS39f0B2FUGVCuVfkx7XA8rNMKrCil\n",
       "PCAyxOkljSBGC01/sBslbVeLwdA+gMXewMEX+fFOJkEch/bBP+hxQNnVWV9DHJTgdOxh+QLLxXlc\n",
       "xKaGpgb8BQiPQSit2gfCRbqee5D9ahyx8rr+ALXJsAWllAdERoRMjg9yOKBaPFG1D1ZmyOJzNG1e\n",
       "gF/wBg7mc/d4ioTDBhguFPTjAmXDNziTrA8VqnhJiTA1HpsbCd6bYCsTy38HvkpHYFoDeek2CCUh\n",
       "uBDaL1P9UW+0EuXyEjflTIOQ0eEATRbusKCU8oDI6BXwSqAqndViax7O0uHyZqTsBWUibUIrtTgg\n",
       "Hd+f6+KgnWhSdBEHVnIU+eMxUoKG9ZO/fSqjxwFlB+/jDXZcqHPViGa+cOqOHVNJ+9dyifzlRDHp\n",
       "7OLvbV4sDM2G7Uv+he7X9Uw9hwtz/dCVM0NXNA1InS8sOTJFbx8Id+1PWVBKfUBkkLUhRTqnhfhS\n",
       "RxZ3/+LpypnTlXL9RnU0r8EBXnyAH9XFQQSnD+VcxIGVHLFNxNIcJdCSSxjOybfDI3bWE/vu4bhz\n",
       "LL9GMGEkcNhIq8ZKMQ/iOY30BvRgPUNb1uDg+1jldF0cSBjm29wcF6zkGNNt9xwGzb5KFQfMFk1w\n",
       "47deNmBridkWOhHhuIctv0akaCRw2EArC0oxDwa00hvQvjrP+goaHOANTKFU3z7Am5crXLUPLOQY\n",
       "vahbGMnRQMr2zvNGbctfqYzY0WX9NIM8rJEhjB8a6mleqU7rzbJuC4+XNTiI4tXYBnbiEfQx6CoO\n",
       "LOToG9VZDGkanCTr8r/smA67rEuvC9t4WjtfmNfV9YkGOPB3dc1KuooDCzkK+u3fLUpwkqzK9zll\n",
       "T4V+3G1d+rS6C7KDWhy8AoDMVZEKzhjiIJKBQMpVHJjlqMFG5AJ8ICkyvVVV0ZbQ4mAHBPHEW9aY\n",
       "w8G5y+CNcg0HKMEOOxl8x27nPHzn648yODDLUXMKp30EJqg5HHRrcRBICcwc84F/bIK/CqlISrOO\n",
       "dB8ss5NBu51BROrsz/sE+FSSWUeiOf78imLsxWbvPC1P4MBJHMRkxkyMvILXleSCoBkX0BTYlpno\n",
       "z9hIvBcl9vnggMzggObo61aRKSeFh1gcfFDHhRbigBkXYHA/mp92EmN4eokeiD7+xy0MDkJRVEvi\n",
       "XZNV60QT1ZjSVWa24+/4o2d/1aaboZ/EKTxyshrhYEqBwQHJEQJlFZmyHF0Fy/fO3Vvtu4RR/SwJ\n",
       "nPdjcZKa906xRaydCCvQZH1VHA8DkdggnRcdF+59VosD4QR6/JlcVlVAE61RjTkpNZ3U50BVhqTf\n",
       "/lR4awgYhOCGIoMDkiPZV6HIlGXfOrY/8OnWD1zxY3GSmvdOsYeDMoODrej2YbLO1SsU6MLVcShc\n",
       "q8VBEG9R7sULWduI2YCj4WOvcR08fh7AsfvJqak9cI+SPJIWMy9Mz7NmL+IBMkLIapsv8qU0YyfS\n",
       "HAEDiyJTTm6bweJAv47kgh+LqQ9La6h57xQ7FC8wOGjHo/kGOjctRp/o7/8awsHqkBYH8E8UFkIn\n",
       "SMOkYnHUD32s2IVkoQvTbfA6uVeT49Mb3SJr1/kVWBzq7+8v+XzCCywOSI5wDahLqvKe27n5QmyM\n",
       "fy83/Fh2Oiq9ee8UO9SXBH7fWbxATLt4TkrS/iB8jMEBTjIK9/dCW0qNBmGANQ8wM0aWTUdgEbri\n",
       "8ZskJxsjOW5owLzoYYBvEpj7ws+mWBwQ+jrA5ygyZXlZiV0/kC7z7+WGH8u4tWTWsnLAO8UOMftM\n",
       "SuMaLIhJsoNBtkDfhGrbrp0/WCCNHcAVixKSKGzC0dXVC2bG/oRj10fT6PokCAQHqyGURxUYyGvS\n",
       "Ut4ja4EuF6F549KCAQ5QVS+lyJTlnyzlXkP3swwu+LHUfFiOWf+ym94pduhkSd8fnMpJi0jlb0Md\n",
       "g3RDjh4BYHDw099PLuKKRQlJNJLB0YGctABfFOZGzPtuB75uPzKF4GCgFNy3P4XXLQdKNO0Clfcb\n",
       "vNmGRD9/XXLdq3ocSKMQK1NkonnjOu41buBL1QU/lpoPizM4aN47xQaRg33680gxooZ4e/8m1q5n\n",
       "55wpkhDTUl81CmpMTJSUWKyaHMhuppCSlRghGsPnN1b397MWZA0H151fPpQnyAw/+pi4l6vjv/EL\n",
       "rknn/VgUHxYw8U6pcm16p1STN++dYoPOgiEOniM7GPr5HbP4d80KlJAWSeWcGiXfph8bUkrsuWry\n",
       "MOnEhioJJUb6VxpLGC5v5Ll1CR6ZCh3lOkc3/FhUHxYT7xSVa9M7hSaXwKZ3SrM03xgHReMdDP35\n",
       "xKJRlI/V7qNmMd9fClZwYGrmcKcm3PBjUX1YTLxTqsea7Xmn4OTommmFd4qNVat3jXFgQs6dU439\n",
       "G5rBwf/Cj0XxYTH0TtFw7XmnkOQKtlUcXLV3inXyih9LpNsYB076sag+LCbeKSrXnneK5uR1894p\n",
       "1qk94Q0chMcMxwVH/VjGq9tbht4pCtemdwpJDqt+BTa9U5pdTvSInys52K0hN/xYVB8WE+8UlWvP\n",
       "O4UmL5yAlninWKajHvF75ycMbvixqD4sJt4pKteedwpJLqaWQ0u8UywTdXPz3u/iuOHHoviwgIl3\n",
       "SnW5yZ53CklO1pBa4J1ilbzzuzhR7iSKG34sxsmGjbg2vVPwfkwrvFOsUqDsFRzAY+ytG34sxsmG\n",
       "Dbh2vVPwPlwrvFOs0m7P/G4eDORYhOec92MxpJZ4p/jKrfFOsUo3gWdw4GPLww0/FucIL4m3wjvF\n",
       "Innpd3X539l2w4/FKXpyoEXeKRbpebCJgxvd/h+OtgOW/4cjVAKv0C9edjU7iR5pEntXpfH/cFzb\n",
       "+BsT/8PhRVrL/Q/HfwGKEpI4UX160AAAAABJRU5ErkJggg==\n",
       "\" style=\"display:inline;vertical-align:middle;\" /></a><br>"
      ],
      "text/plain": [
       "<IPython.core.display.HTML object>"
      ]
     },
     "metadata": {},
     "output_type": "display_data"
    }
   ],
   "source": [
    "redundant_mod_elimination_in_sum = Forall(\n",
    "    (i, j), Forall(\n",
    "        (a_1_to_i, b, c_1_to_j), Forall(\n",
    "            L, Equals(Mod(Add(a_1_to_i, Mod(b, L), c_1_to_j), L), \n",
    "                      Mod(Add(a_1_to_i, b, c_1_to_j), L)).with_wrap_after_operator(),\n",
    "            domain=RealPos),\n",
    "        domain=Real),\n",
    "    domain=Natural)"
   ]
  },
  {
   "cell_type": "code",
   "execution_count": 21,
   "metadata": {},
   "outputs": [
    {
     "data": {
      "text/html": [
       "<strong id=\"redundant_mod_elimination_in_modabs\"><a class=\"ProveItLink\" href=\"proofs/redundant_mod_elimination_in_modabs/thm_proof.ipynb\">redundant_mod_elimination_in_modabs</a> (conjecture without proof):<br></strong> <a class=\"ProveItLink\" href=\"../__pv_it/theorems/d2995dea38941c5f6f63c2ce77ee9b5a467cbcac0/theorem_expr.ipynb\"><img src=\"data:image/png;base64,iVBORw0KGgoAAAANSUhEUgAAAU4AAAAXBAMAAACWi7vRAAAAMFBMVEX///+IiIgiIiIQEBB2dnbu\n",
       "7u5ERETMzMzc3NwyMjK6urpmZmaYmJiqqqpUVFQAAAB6qHgnAAAAAXRSTlMAQObYZgAAAAlwSFlz\n",
       "AAAOxAAADsQBlSsOGwAABG9JREFUSMfNl22IG0UYx/+bbHbzereplbY0HuG80mpBYrFWwSt70Ku1\n",
       "9WW15UBO7hKpUc+WRvSDIjUpJ/0i3AvaU6xioAoqFWMp2vZKTThaOBXdnl/8IDQHrVCtXAqNLS0B\n",
       "n5lNUveSrLslH5wwuzM7szO/+T/PM7MBbiF56WcvZRz18rac79bSHRCz9npuddSr1ah+BSiywm+O\n",
       "MEOqJadwJ28cWNc2TkSAE+z+viPOp2Gt57jReLB9nD4NbzL7xx1xnvwPzk6jsdI+zmCOoULUHXHG\n",
       "bHH6y+3jxHoE8ySrM/ecsMUpRtvI+SGwrrv7PkecAdUYcaxvH6vK7xwLJ/zhEWAwzJx9UzjNp/PN\n",
       "d+n2Ob3nlysWnI8D3wLP2RhLvenUec7pfwB7NFZ3/YX095iBvAaSgu06nuDTDR/wXLPiPNLN0j1V\n",
       "zkMZqWzBOUuywFu0wZmrl1w659yexxFel2LojCOdcqmQr+LFWryf03CvbT09DyEQteD8habRTM1z\n",
       "j5yaZPfXq3tAqOfgRcXE6c5yzu+AHoMzjk6VONPEf8VzmZTk4x2nmm3OQAkuq105TSBKPYzkrmRW\n",
       "ELGF2biDXV7+fQSKKr7VjPN+eK7XORXiPEfP/5brnD3wV2xzuuPsrdachyhPFGq16RSdJgJOM/3c\n",
       "VA6Q70JRgk9i2/Ta6azJ7iRcsGTiZHreuKlnBYHyYk6hl8SYauKfwwp+boz32/SaXecoP3aALjsK\n",
       "WyDkwTlvZ9qlwxfYccU4hUGTnhQsjLOCjolf/83pzsF/HVM1/7zKPHixnh9RPt9Ez2EdF0OZxZw+\n",
       "vWpXnKE8SmHkWSNfwwBfsuhNMN4l2koPX4qi7o+YOMUiX3kCczn+0GdwZuUN8KkYzWKBvY9LeKlx\n",
       "/9xNeUMTTkkJrQ006Cnphl2Bo8wTmYVzcgyHOWdgJ8fbhVk/n0/5ZrM53uUo5xxa+to8G0Ne2Lh3\n",
       "z0bx4x68vekPWvHRcJobc2hbnhEMrD574Ud6HlmqIVwgPeXLXVpjvM8/PLaMWenZvV3P/JSFUOiH\n",
       "EFmhG3YF7q7HhlDEbDKZ1AVB/BJ81aeCU8nkbrL7Vt20f2I1HHzXeSvkCnOQsp4oHRDkn8IqIdf6\n",
       "PBrXffFQFCN4ijR069yudApEqz2GM9Jp7VWup+D/hK23hF5ZNfzzi37zsD844ixjJ15hG0tiXGP+\n",
       "KeWDExacmqTKMbkEaXmZ++cutscH8jU9M+nDmqRx/0R/zqNiVTBunFO0Lw0ucpuME84S5olzBvjz\n",
       "Kx5H7lSgaMGJDkWOBWPoOFHinGRXYH/9i/nk2UfhfZ5Kn69QB4/LvXgjTM3kf/7Jdz3TZgEovhxz\n",
       "kp6Thp6d3JzWnKSnr6pnifnKC+b+O5LJ6vwhA2hzcqTZ7PsgpOxxLmOcCeL06d71HXkvzenSzjT2\n",
       "qm6vKeKUiJPWM6pdwihxMrsKLf9mfYp2paEbwQc/W1DRtzKDvsJdKchfK617exZyMx+MXYEYPgYx\n",
       "suQ9cLu2Tnn8z9I/rN9IFOOs6t4AAAAASUVORK5CYII=\n",
       "\" style=\"display:inline;vertical-align:middle;\" /></a><br>"
      ],
      "text/plain": [
       "<IPython.core.display.HTML object>"
      ]
     },
     "metadata": {},
     "output_type": "display_data"
    }
   ],
   "source": [
    "redundant_mod_elimination_in_modabs = Forall(\n",
    "    (a, b), Equals(ModAbs(Mod(a, b), b), ModAbs(a, b)),\n",
    "    domains=(Real, RealPos))"
   ]
  },
  {
   "cell_type": "code",
   "execution_count": 22,
   "metadata": {},
   "outputs": [
    {
     "data": {
      "text/html": [
       "<strong id=\"redundant_mod_elimination_in_sum_in_modabs\"><a class=\"ProveItLink\" href=\"proofs/redundant_mod_elimination_in_sum_in_modabs/thm_proof.ipynb\">redundant_mod_elimination_in_sum_in_modabs</a> (conjecture without proof):<br></strong> <a class=\"ProveItLink\" href=\"../__pv_it/theorems/60bc85ae49c188e24ecb35a1eed35a1e1f2655bf0/theorem_expr.ipynb\"><img src=\"data:image/png;base64,iVBORw0KGgoAAAANSUhEUgAAA+EAAAAzBAMAAAAKiRRsAAAAMFBMVEX///+IiIgiIiIQEBB2dnbu\n",
       "7u5ERETMzMzc3NwyMjK6urpmZmaYmJiqqqpUVFQAAAB6qHgnAAAAAXRSTlMAQObYZgAAAAlwSFlz\n",
       "AAAOxAAADsQBlSsOGwAAC0VJREFUeNrtnH+MFNUdwL9zO7Mzu7N7N1fBHzl6Xg8MpbSW0oJoKt0z\n",
       "hz9AdKgc1lK5vVaOlqpse02sMe0upRITEjhSMU1Rb5tq+tOyMRaLGN0Lpa1Kw0L/oPaH3rXaRm3l\n",
       "MBzg4bF9P2Z2583M7s4sN8PdwDfZ2bdv3rz33fd5P77vzXwHoJZ0dXWBryJ0dalwQSZYCEZnVfvJ\n",
       "4ml/dWsoFnNO0667gLJW/1lLvzcUTwCEi8Vk7Us+5reODVnHSRvzF5DWkm/qvfr3+BCb4sTfMP6Q\n",
       "vFZMmuB0dUrGXfJ4W4CIx/qNv/isx4p92GG6qOKpGktdpr8lQMQ3ZfwkHk/Aqvn2p7iZWtmtxcfR\n",
       "RDNjUhFvyAeH+EfAT+J3oM/OCue26WW/hw8RdTIRjy8IDPHYvBrEo/aG3a8qZWh7opTJ8+gzXuHK\n",
       "Jq1s8ThRLFetfDexdkq5Ja430wAQDyVqEI/bT6iHKmVoe6KUCWpf0dEaxLkx8rWgWvluYu2Uck18\n",
       "VyYoxC9X/SQeR2Yi31aDeGSEfD06qYhHhoJC/EqwEN/asdGmFqU3LlXcEGfS65nIaESJDLcW8Nj9\n",
       "g98290Sb1wOsbn4O/e5sTms6N/UbzeMSRb75DzZs7WMrEu+YkaqPeHw0IMTFkxbi0UWwQbXW4k8y\n",
       "4VE3xGn6L7CZRNBE271DOEVU/B+kX4Z9IH4UwgrcVoBbNZ130YnmJVOL+wTstmmHtrEVlfpeQUa0\n",
       "UtWJy+1EhphI4VhAiDfOsxC/LQ9PA3ypn61F4bMgt8HKW950SJymhw4WRQPq3a+r8CkcDs+DpiSk\n",
       "Uw0J3O6+VrbVNfJ/Nl2aQJeZtSKxQue7qkPisyCEksyuo4/DlwNCPDRkIf4irhixuU1r7jPnk+Yu\n",
       "j+DazeHGAPB0e/un29uvtGZXPkHTA5sJhJBaewCIMR5OQlMCEU+jVnAcd6FuTecB3GAA0uylLyKq\n",
       "Fq1IrEzaljG2olKjdc/jcDATDOLpvIX4QhDGDPuKWr8JJTGRMdiWctbHaXrzcIuJz4LouE5cQcRf\n",
       "R3EnRAPx99Hnj2haYC9dSH6YtCKxTVnppLM+HkrWT7w7Hwzil2fMxFFvi41Y67ZbgYMA+x0Tp+l/\n",
       "PGQd1ce1rqYTx338tKGPR/GMia47zM4qx+yIk9iY6pR4Nz4vtBTqmMe10XDqE/8KWIiPQ2P/X6zE\n",
       "C/BWHDWP6xzO4yT9g8ooiwKZaHASWwoG4qEcRMfgkdI8ziN8XF6r3PKlH6C2YO3jJLa04KtFvAll\n",
       "m5XxEtFEnLsWN7Wjw1VqKtwWDOILLcShBw7ncpa6DSvxuTKaSa8wGWh4CO7u1w/lEyS9dKcJBY86\n",
       "yn/h69Rup8Sz4lUQScCmLBylM0wDGmFuRdPzM+ylyCS/wUqcxJZuZuo9/31Gs7JSyFDnU118ztrH\n",
       "H8OHi6rVFD9iJE46/N+rEm8kGuV9JO6kROG0lfiaad8eTlnHz+Ebtl4CsFk19fG5uLCcfjA0BZI+\n",
       "rLCARJTrmmVEJ/Ho4u9sWMwPzIItnW+j9M80p4kpuGbgzLsDZ8q9pNRYbh5UrcRJrLTWFDuX0cyg\n",
       "beeB6XSJaCZ+Dz7cW62qYmNG4ngHAX5YlbiMO10k4yNxJyWKx6zEtcprs1vjSjkp42bPrft2Uyaz\n",
       "Hf8DyW6kttdqCzzkZs+tKYOJr5p96M0DqKnNmKZC8+Bj2hRRq6p04t/FGiarEhfxOLDZz1HdSYnx\n",
       "8ZrEmbsTm+97QOvkzu6kvCqbMnnF8T+Q8zbl22olrbvvNzZpKyrVR2x1aRzZDochnBXa5ATgeVw8\n",
       "VXs41InjO3t8ofo8vgN9Lfd1HndQYuxkBeLSTcft+svnikVXaqy51Gz/OB7l7NqqvVahYnHEjVKt\n",
       "lPgo3IXgo1V/zzaVzOPcvKqXnTESj6G2FalhuR1AX/2+EndQIneqUh/3SISk05Rf9UyHRynxERhG\n",
       "xPcBvLOLWm7hIRCq/P0TjK0+v739MzWIh9rbZyZ8Je6gRN5855JLeazYRofpOK9MnshPcVe+RCeO\n",
       "+vh2rY+jtRtf5TGMqxnizwIge1GgWqZsicspCKu+Eq9UoqEVyKNwvoncQusEEe9BxCMFaUFjXsLz\n",
       "eDoDr1W5sJ0hvhUkZCfxisEeleYuhX1DZeIowVY3mt2fdPlXDt/0wnaGeKUSDQ+yN47A+SprTseu\n",
       "/tnRBHS0ZKBjcE4KuIHOPWNVLpjJEA+r7AT4jX+vh9d4VVYNOzBr3W3mNrqZAsTW3izHw40JZgeG\n",
       "lvjrM/qieNbOt5QLxOsVlnhcYQw3+Vm8I6PkeOOe2yF3hlvIzYy6FyXmONivMMRpidQExW1QSfDf\n",
       "Z4mfh6N63cKO6tA/iFaDrcQabSnQJ2+P/HUjQzwSQzyEm6fpJokhaLBlS5HpZnIrumOwZGXNsK5M\n",
       "tDi8DY2JT88xxEmJ2ATV2qCixFbAsr1z95bGI95sq0tTGoqnG1ys5QbL0eJ3RRMexOV4P12CHOHv\n",
       "fMJInH8Vnf58Jq2rZQiWpRz5IbWFkOsr5SFa14ta3CqCnZd68gxxUiK5fUDboKJwq9k+zp30eXXm\n",
       "rSz1MvPFLPFNqCM9SO7vdfE5uvVzBHIXG4lL+JK9eMeHbk7jYPTQc6bhGZ8P49Dd5LGf3XC7llxO\n",
       "CqmnWlggOA6QsUC2lDj5riRjudESsQmqLYOVxOYZLPGYz8QreSdMBeKnWeKNeNbtoQu+fOyR3t57\n",
       "EPGVESNx+A/6XAOtIB4mCHEwBN1stteQHSEsV8EL5LeeHD9MME9gLa2Qxuel3t7eAsfxT7HESYnk\n",
       "jhBtg8ru6022enzM5z6+c8oSF46zxEncKDG2mjJigvbx6CGGOE5yCu7uggZVD0rQx2aLI+Pk4bAR\n",
       "steL51mSnOz/Z0wDO46LvQLwLdLHuegTKkucyL0AX6RtUFGWFtj1uPhBTeIT66EwXjVX3/0O3CyH\n",
       "jlmJx/tzQoJs1JO7dy9Dqb+W748vEsf2Y4QoIQnCehxcWTrgyPjfcOiKWBIdfwQ8Ib4SIlmEKpw1\n",
       "pKVxD90BdKMFrc6W5GyII6hLaBtUlF8ssRuqqhKf0OfVS94Jk+QpdBdCbzqZ+vhwRryWYN6MOrs4\n",
       "J0NvUTPEf/mnaXmMECUkQTmFg30ZcRE+aJHrcNwDzfi45cB0QryvID0/qOK9vb4CTbtIj/sdvnuE\n",
       "sv75ZYnVe6zExVMQH6JtEK3OVpv+xxx/iZe8E6YecXoLwvoMTJxs1AvX965nbWp2C1QlCbEs4UpB\n",
       "0ENCW0ELxUvJgdyZ41VFCxGhobfRZ2VvL4uqTPyy48sGsqQNRrc/LOw17Qn8y4a4hx4KmnfCpPE7\n",
       "cLMjNmJP/Em6UW9ZRTEzwkXLUUJaA8X39CC5mn71qFroyVLyKJmhB4ptWogMkTTUZqef+aknSxvU\n",
       "5KBqIe6lh4LunXAO/A7OVkJJe+J5faO+CnGa0C5oDpV/xyqFuH/knBCvJOmChbiXHgq6d8Kk8Ttw\n",
       "LtsUe+IVxLsnG+PvwNkQ99lDgXonTCK/A+cSFA8F2eqF5KWHgu6dMGn8DpzLPyEYxKNjZuKeeijo\n",
       "3gnnwO/gbCUonob0QV+GuJceCrp3wqTxO3AssaB4E5uNdY89FHTvhHr8DkgJE+134LxCh4JC3PpW\n",
       "EC89FDTvhPr8DkgJE+x34FiC81aQ2Kj9nptHHgq2a+xz6HfgWLR2E4S3ez1cg/jEeiiAXa7n0O/A\n",
       "qeg3BIJAvC9jR9wrDwU7Oad+B07rsxAc4lzSto9POanT78ChBOktneybeD33UPBI6vY7cDio97sl\n",
       "/nG/36jfsN/xG/UjBZj6UrffgTO5n+be1XUxfqP+CgfEL7xR3ydx7XfgSIQd9Lv0Rv3/A9RYJCfS\n",
       "tVniAAAAAElFTkSuQmCC\n",
       "\" style=\"display:inline;vertical-align:middle;\" /></a><br>"
      ],
      "text/plain": [
       "<IPython.core.display.HTML object>"
      ]
     },
     "metadata": {},
     "output_type": "display_data"
    }
   ],
   "source": [
    "redundant_mod_elimination_in_sum_in_modabs = Forall(\n",
    "    (i, j), Forall(\n",
    "        (a_1_to_i, b, c_1_to_j), Forall(\n",
    "            L, Equals(ModAbs(Add(a_1_to_i, Mod(b, L), c_1_to_j), L), \n",
    "                      ModAbs(Add(a_1_to_i, b, c_1_to_j), L)).with_wrap_after_operator(),\n",
    "            domain=RealPos),\n",
    "        domain=Real),\n",
    "    domain=Natural)"
   ]
  },
  {
   "cell_type": "code",
   "execution_count": 23,
   "metadata": {},
   "outputs": [
    {
     "data": {
      "text/html": [
       "<strong id=\"mod_abs_of_difference_bound\"><a class=\"ProveItLink\" href=\"proofs/mod_abs_of_difference_bound/thm_proof.ipynb\">mod_abs_of_difference_bound</a> (conjecture without proof):<br></strong> <a class=\"ProveItLink\" href=\"../__pv_it/theorems/6b2f798fe571a02d01de3cbd90b1f3bb842aa67e0/theorem_expr.ipynb\"><img src=\"data:image/png;base64,iVBORw0KGgoAAAANSUhEUgAAAdoAAAAXBAMAAABey5NCAAAAMFBMVEX///+IiIgiIiIQEBB2dnbu\n",
       "7u5ERETMzMzc3NwyMjK6urpmZmaYmJiqqqpUVFQAAAB6qHgnAAAAAXRSTlMAQObYZgAAAAlwSFlz\n",
       "AAAOxAAADsQBlSsOGwAABRhJREFUWMPdWH1oW1UUP695L3n57MvYqDItoVSrDiEO5xcWXgebs1N5\n",
       "bqUglSXRGUd1LDr/UGQ2Y7I/21TcEOckMAUnG32MTTc7ttQxoSj6Vv3DgWALq1g/WIQF5zTg/XjJ\n",
       "e/el7yOJf3nKSV7PPSfn/u4599xzH8B/RXn0Z0NiEz8jGtp5zyau+mKTs3AjToNBuzG+6P13bjW0\n",
       "Bz2a1Awc9EMS5Xn8zw/to/1ueW/Cs4mm0EblltAOr3XRv4XyZ/j5nbbBCgUbb0HVFe1TJdMztBbb\n",
       "Qy76QYXwGzij022jDZdsvHVqrmiF9VL9+WyLaKsu+hGVMAbNa22j9dl5m1I8ZPKKDbWnZGtoQxU3\n",
       "/XWEIygowfa37WU7b+s9VanPdbjRQmto+YSb/nuU1/b03Ns+2pPUm3jlJokdeD/+u5cqdfk03RAy\n",
       "RTs+sLcptMGFbs1Z/wnKnwI81ypGmVk65O1I3l9h9+RfSirvpSYfXSTFpEQT8wHYpTSDNnVAuO6s\n",
       "P0t5HMT5VtGq9ae7CVrhYQgn2BOlAj7JE1qy5B20pm0twYmmYvujAvc4639L2a8wk5l79Nwk/n5N\n",
       "r9PR3kNLJDlDu0pwdJIVGmgfImjDZejA8Rbe6sGUQ6lZgE7ZSyb/TItdkUz+PECvC1rDBTY4A3DN\n",
       "WX+MclSqF6lAd7bI8bAJTziGP176aRQkmX+TjHYngcuzQitaXxpSLDIEfkrzUKVOgRntfSDcaCq2\n",
       "vRCqOusf0bkwU5NMo5XiOLiIw+bDgUF7GiQp8iQZPfUP8GAWbp5eM11kMjklwTcNx+15xYqW67fk\n",
       "Sv0Eopks/AGRcgPaBisT2iqEK876czo/fgB9DM1sAg73NAjtKhyysfgiabcQMG6ElqQTBK1ZaMQ2\n",
       "Q9FqsBRlmvPOHNrLDbE9bM4Vc3fhlwjaKsQK3zfEirVi0P6Jt7qj/hc670NFSrgjcB2GyYrwYgaj\n",
       "XqGsFsjWleT9BGBAS2l7kKZZqDIFfhBNNromzHiMlfxqI9qdplxhOkd+nkw+A3Oq2jB71opB+xu8\n",
       "AM76J3WO4ZxVA0k4RtCGtxM8L8JsiMxC+mQjTQwlnFiFUsMsNNC+TGvywiPjXWwxuUJ6QeGZPd1P\n",
       "f10EbgblbHzmsClXGArQO8S2la8u5NDvDfddWvzqF5RPKxUHK2ywGXeuTl7u0plWB24eZrPZrMZx\n",
       "/HEsuR/ORQ5msztR0g6SxjIM4g1UuRihcd525MDxxjehBdPRBIzCFtxB9Bu5YqE+ppcSq3AQ7TZ/\n",
       "UUg4WBk3PnsvYoIyoVTef1F5hYSQC32AWlsoQ39Aplv0Y1JD0AotIQErZLpuR7SKXw4kA2WU7BMK\n",
       "2VF6rljoSxZtBbbDbnxyZBysTGhtveBbS7i2Y3z5sWOKXyH7Fjaoggy3RdK0x0KHzQgMAaAVmsDx\n",
       "NIQM7XBBCzEpkIwkIaZO0fqh5wqiLeTk7KNlKs+gLcMCQnsB4NcGq2XR2nrZrzO925+99BiIz+Oe\n",
       "5mZ55EygH16Po2GUnqHJt4Xpwm6Nuz0HMbwchpBxOewFLVr1YG3V9VyxNg3pZdCi2E46WFnRLudl\n",
       "h84mGspmdcModb0xO6oPGXdCk5B58yNBl+1bnByahx/NA01gnxIriXhH1XLFQnuxNqUujDaD0AY1\n",
       "cZ2DVc2gy94LPoQ42/dWH1rf6yhtvtq4ql54d/wa8HF01xmYuTMH9Vxxom1/Rx786KoMA6vzXqxa\n",
       "9AIl69Uf/hf0L6e1sV87WgULAAAAAElFTkSuQmCC\n",
       "\" style=\"display:inline;vertical-align:middle;\" /></a><br>"
      ],
      "text/plain": [
       "<IPython.core.display.HTML object>"
      ]
     },
     "metadata": {},
     "output_type": "display_data"
    }
   ],
   "source": [
    "mod_abs_of_difference_bound = Forall((a, b, N),\n",
    "       greater_eq(ModAbs(subtract(a, b), N),\n",
    "                  subtract(ModAbs(a, N), ModAbs(b, N))),\n",
    "       domains=[Real, Real, RealPos])"
   ]
  },
  {
   "cell_type": "code",
   "execution_count": 24,
   "metadata": {},
   "outputs": [
    {
     "data": {
      "text/html": [
       "<strong id=\"mod_abs_x_reduce_to_x\"><a class=\"ProveItLink\" href=\"proofs/mod_abs_x_reduce_to_x/thm_proof.ipynb\">mod_abs_x_reduce_to_x</a> (conjecture without proof):<br></strong> <a class=\"ProveItLink\" href=\"../__pv_it/theorems/08ed68d4100320de74bbc8b8d475c0412a99a8400/theorem_expr.ipynb\"><img src=\"data:image/png;base64,iVBORw0KGgoAAAANSUhEUgAAAToAAAAaBAMAAADVt43tAAAAMFBMVEX///+IiIgiIiIQEBB2dnbu\n",
       "7u5ERETMzMzc3NwyMjK6urpmZmaYmJiqqqpUVFQAAAB6qHgnAAAAAXRSTlMAQObYZgAAAAlwSFlz\n",
       "AAAOxAAADsQBlSsOGwAAA/9JREFUWMPNl19oHFUUxr9rZ7OzM7vrRBqsbglrkIr/YBX7oBCYSFJs\n",
       "xTIFiQ+Rtgt1DMXiavXBh7YrlbyZbKAWxRYXGqUVQ2O1NjUiE0Sh4MNYRRQEW0oK1QfzUhBtqOee\n",
       "udnZnXQ3XZNBD8zMNzvn7vzuueeeeweI2crQQ9mW6YjdhA+tqvSW9poaFnBBil9io/sB/5oO64HP\n",
       "5fXtuOASlRXQpRzslyO8My4601sBXXpKAkLz46JbgxXQYSPS1LtUbGn384rojgAP9/Q8EhvdpwHd\n",
       "tu5n+v026AJ/bAXOAM+tJpC2gNdO1/Ve0k2Ji2Z+GTqzh41rSOCPc8Ao9AurSWc8DlG7eZDp0uX0\n",
       "1ax387FT/vge6HBqibGc2eo61bL+pryQ7jGmS8KstJN3yh8HgIzVMCnOb/5ynMUH12C8Y7HM3P3u\n",
       "FauOKihA/WuDh8O1tiyFkX82Qkdz12pvVrA/jtFRma0xd7tVoeEJjpG4BKyj60uXd8OytTeidGnL\n",
       "kNdMMYRjKXDkeGRkgZPlhBOlE70yD170cGI8mneBP86TeuqtRf+ZErUR+JrBzR2eHEqTZg0sK70t\n",
       "SremhD+J8YUwWwL5Jo7Ztd+KTDdYvQRtaeyOylN3ASK6PVD++IaOgxK3czpXFh6YrospNJo1Ni92\n",
       "kk4M4cmZ+2eqId2Yg16IPRyF3OvTSgI/IRUuPVuZ7tdXP8HkUjpucPoagzSY8ud6lJURK19O+YP8\n",
       "Jk0vSkrsSywkfST4TZY9sj4auwMOHkj28v267M6jSiJzF5JW7T0vM91QZ+YLX9IN3vPd3Le/UZfX\n",
       "Ouic5djZp5bSKX/ctzgqKCbxEdOZu4Kud+GUcGAwqfXZJtyA7iH8OCCl12GVlIzYLaWGtUJfwGHK\n",
       "po5qIm/akP1J+jv8fc02ePmapBw657quL4Q2qcrG2ARhH3bdPTSyW/woHY3sAs1sZrpVZk4gr7PN\n",
       "hwt5A91V7MJeWSmK1FzGTjhmvqvFFkJN14KOVzh2wphwguKWPUS/20HefThQV+/qZgX2T9NpL+97\n",
       "WUZsuJFuHhfJ+Svg95PBrDCh/2U3oRtZFAe1ikl1mfMOA1MJm0Iux0GtclRRhuqaMZ2wDJ79o3N6\n",
       "YXMQ1tE5eZ7M1VX3wRvRUezGVewo5640o6sVUvPOvi7oz5M6cYc9dJZS/Da6kS8bocwxxg8lZioR\n",
       "OvTnHPW58PFEpxN+ORQS83W5Y0GUlL5d0hWJLuXrG7OeLvOOcm6syf4tWmiedl3Vz0y4u93k7o62\n",
       "a71ZLScLzR5t/zv96PE/bPTlyuibvbcEsaGErNPuUv5+y6fLbKU7qojXvJujS9Isd4ej8gz+U2v9\n",
       "Yao5Fv6/9t71/Gr91T+2OQ85rN8SbwAAAABJRU5ErkJggg==\n",
       "\" style=\"display:inline;vertical-align:middle;\" /></a><br>"
      ],
      "text/plain": [
       "<IPython.core.display.HTML object>"
      ]
     },
     "metadata": {},
     "output_type": "display_data"
    }
   ],
   "source": [
    "mod_abs_x_reduce_to_x = Forall((x, N),\n",
    "       Equals(ModAbs(x, N), x),\n",
    "       domains = [Real, RealPos],\n",
    "       conditions=[number_ordering(LessEq(zero, x), LessEq(x, frac(N, two)))]\n",
    "      )"
   ]
  },
  {
   "cell_type": "code",
   "execution_count": 25,
   "metadata": {},
   "outputs": [
    {
     "data": {
      "text/html": [
       "<strong id=\"mod_abs_x_reduce_to_abs_x\"><a class=\"ProveItLink\" href=\"proofs/mod_abs_x_reduce_to_abs_x/thm_proof.ipynb\">mod_abs_x_reduce_to_abs_x</a> (conjecture without proof):<br></strong> <a class=\"ProveItLink\" href=\"../__pv_it/theorems/ecfed35e78e631cca23cddce8c7a4d15e8e93f240/theorem_expr.ipynb\"><img src=\"data:image/png;base64,iVBORw0KGgoAAAANSUhEUgAAAToAAAAaBAMAAADVt43tAAAAMFBMVEX///+IiIgiIiIQEBB2dnbu\n",
       "7u5ERETMzMzc3NwyMjK6urpmZmaYmJiqqqpUVFQAAAB6qHgnAAAAAXRSTlMAQObYZgAAAAlwSFlz\n",
       "AAAOxAAADsQBlSsOGwAAA/dJREFUWMPNl3+IFGUYx7/jzezMzuyu75lX2p3HcgRC/bNJ/tEfwggp\n",
       "algj5IUs1B2cYxwEK2f9V42c3J+2B2qFiotdUdHRadFpJ7IRST/x7QL/MehETiil7h9JMLHnfWd2\n",
       "dvaHq9veis8y+z7vzM48n+d5n/d5doC2iUGfUL1X8cqKgXbKKqiFQA2Vu8qWsmIyYE6ov7UBLmm3\n",
       "SIce4CuhvtsGuh1olS7u4E2RFgNtoDvTMl1iSgBC5W2gy7RMh7VIFCmE7Ui7fOt0R4A1fX1PtYHO\n",
       "siWU1jm/Z2tzdNt6X3yGS7rngGlg5yIRPc/1w06gx4uSzkIvO3kXOqtPylxAN6VcstKS7ntgP4y5\n",
       "RaKbSIOV9CVc0n2H8861pmKX8BLXU0VJ9ysQc+75XjsYpyLfpUEIO1Km6yhIuhxON5l3Oqx8kHdv\n",
       "Ufqyik0xu/nsuFQ+/Bfme76x5GOH/2ARkIHIdzBcEC2IHdeKVXTAk03vig4WKO/Tkf+6dEnvdQuK\n",
       "ik0yRsplYAWNu68Mg9nqvoZ0F6QbLP6DV7WyMG9gew3dQzzqflXe4TNPc6QyS8fWg6WbZnIEpeBb\n",
       "acp6uSiW0poWZlliWyO6czJkBjfLuz/GBJ02nMrArqGL84j7VbHrL1yG6mOeo2NUQHee6vYUYYPo\n",
       "uiSFShvHls1O0ClZPDvzxEyhgk7p3ntKTB72q3nSw6HQjDon6JL/ZDMmr6GL8bL71XS/v/Y5Jn26\n",
       "L+hIiYh5V+K8Xy6oagzKSLyh3dI5NEnC7LGeOrFbkRo4SsNI0GpmGXaHZvS0jN0JdvFnofSv/mX+\n",
       "pz/J2eUOlJ6VvOx+NV22M3mG+3SPBycTGNTxqaSzhnzjXTipODAlKftyI+rQFWMsR0NyyKmT36sr\n",
       "eoVxi+I6i1hBS1NIOnjofoNeYaTD0zeo+LmuyxVFnQwqxdsThH3IdV+lld3C6+XdUk8OpsRbeltK\n",
       "6YE/VtJdxxBGRI0YJFXmne9+AzorLAB6xsAeGTvFnHD84pY6QOdtP+8+2RCpdyHdCP2FFRP9qlcT\n",
       "u5hXQbeAS/Tzb4Cr5oJP57vfgG6spI+qeYvqssw7bJjSbFDQaTWCLkcVJRt5REBnZDaTCTkx/hL3\n",
       "TnZHsp8ytpaOYjdeip3vfgO6V8JW9+j6Lhi7SPt4pZ09ra/DMprM03yM9ow5fkCbydfQ4cREpxNM\n",
       "5EtARluIGNoLJReoSo7oBokuzo21uIZRoiu5XymPlBWlaj1ecN3A22Q5BBvd4epH1OkV/puKnrlT\n",
       "D3jpZuLpj/62sb6bFrxn2TsI3f8f8kHDq3eioy2J+yHFZuhep73uymWYxgMgXvTVM5IdqsPw4Mqx\n",
       "2+nFfeB/ht0iLLKI9lIAAAAASUVORK5CYII=\n",
       "\" style=\"display:inline;vertical-align:middle;\" /></a><br>"
      ],
      "text/plain": [
       "<IPython.core.display.HTML object>"
      ]
     },
     "metadata": {},
     "output_type": "display_data"
    }
   ],
   "source": [
    "mod_abs_x_reduce_to_abs_x = Forall((x, N),\n",
    "       Equals(ModAbs(x, N), Abs(x)),\n",
    "       domains = [Real, RealPos],\n",
    "       conditions=[LessEq(Abs(x), frac(N, two))]\n",
    "      )"
   ]
  },
  {
   "cell_type": "code",
   "execution_count": 26,
   "metadata": {},
   "outputs": [
    {
     "data": {
      "text/html": [
       "<strong id=\"mod_abs_diff_reversal\"><a class=\"ProveItLink\" href=\"proofs/mod_abs_diff_reversal/thm_proof.ipynb\">mod_abs_diff_reversal</a> (conjecture without proof):<br></strong> <a class=\"ProveItLink\" href=\"../__pv_it/theorems/5e293f66d655c675e798c058c01b0cb5051887650/theorem_expr.ipynb\"><img src=\"data:image/png;base64,iVBORw0KGgoAAAANSUhEUgAAAYwAAAAXBAMAAADqwWVNAAAAMFBMVEX///+IiIgiIiIQEBB2dnbu\n",
       "7u5ERETMzMzc3NwyMjK6urpmZmaYmJiqqqpUVFQAAAB6qHgnAAAAAXRSTlMAQObYZgAAAAlwSFlz\n",
       "AAAOxAAADsQBlSsOGwAABKxJREFUWMPNl3toW1Ucx793ua88ezNX2rFSQqlvlDicLyzcCp2zPrhq\n",
       "6T+VptEZpToWnX8oUhep7M82lW0+5iSwKU4mDcHX2rEljAkF0bvqHwqCLa5CdbIIK865gOfce9Pe\n",
       "k+Q2vY1/eMpNbs/55fzO5/c65wD/VUuRP4cmr3kSeZXp0fj09Runo9dpjM+sdRZnyV7nH/kUYI6+\n",
       "/NQ4xve1NQlPRVxi9G91i4E2YIp+v90whZB20OTNuvXGIdcYXg2v0eAaahjDn3fQ1KS7xSi5xghk\n",
       "KQl4vWEMj5OmSc0lhm/JNQa2IUDM6G08NX500nSf2xTnI+4x3gO2dnTc3jjGp6Ym+Xyrwg68H/7D\n",
       "HYZ3vr0iOMa6X6+D8QjwBfD0OtfOM/agmo6kRDYmhL+1WKoORq6DtlstjNgB4TJbT+/Cbm11jBnC\n",
       "CnluvXm98nqLgSHcCz8bE8EleBRX3vhZw21M3+N55Op44ztA1Bgtsw+cmqDfr1jVK9h5aNGIE9/u\n",
       "PI5NMEI2jHsMDH8RG1TqgzcNAyeJSBpNqiuME8Al+ww4DXTWwdhL1qksZ7jUnshwPHbQlYToxwu/\n",
       "DkNR+TeM0fYouBQjVIXhGUKMXTKhmtRdYXTCx5bcOyBcqYNxhDzpQvm/aQLPcThLre+hpiR5A0UJ\n",
       "PGqMfnbVSIZlIX46Nz3FBlVMwbdV28ZprRLjGprDH16F7x2lOjdK8DPpJfyJQLEKg+uyB8gseR4+\n",
       "QD76CjvA5WGssDlL/RReoJs8xeAGjF+qOYphF7J5I25i6FgMMoe4piTJl0oML8XgfgFaa3jjL5oM\n",
       "dowSQukfqrxx2BYg+Io8oyTDhRuky+g3MHk5TqfZqG0RjPRQ1H0GjqTH9BEwQn6m5BFNohK82c9o\n",
       "C+XFbBWGSDH8sTzUGhgX8BzbF8dsNluFscsWIEa5D9HwyUpRHDdW6N9prP55zPgMqyifbzfdqPkj\n",
       "zWCEbCt+0axU8/ePtbAF9/xJujjhyZH2J77JgCv0gGvbTDF4UtNqYQw+mGf7Bje9PJ8kk/dff27h\n",
       "69/IQXCThnDh8EqAADeVzxIZbg4ziURC5zj+E9pzJ04FDiYSu0hQ9epmdZWvELV2Idu+sSGJVQ/q\n",
       "47p3KBjBMB4jpvPQCUeEkqS7OajLJRwkWSBmhIhfRddKgEAuF/lYSjyrvWQYmvMdJccgFNElqWZu\n",
       "fNxj7XWLpIMRYk5nq2NooipFpSLE1iUzN5qR4zRXGEvYiT20uMbHNSM3rAAxzqWmN1J7j2uiZoQ9\n",
       "erKCimsDQ+buTgruAPqI9UBMSreZshCr5tk6GAgpUjQQRWiqaGJkMX7U1bVJLmKeYJwBfp80U9wK\n",
       "EOxb3vBPnnsI8jPk7dhmdeCE1IVXw2SYRIpvYr8wnd6jc9clESIIK0Ksmv61YBBveMveUBHavx4M\n",
       "4o0JyxtWgFAT2ltfImFNEzTzc3ti2BrSawixF2IFLY4X3CTBEAkGUT6qXcCoTuOaBnsNSYfWQjHi\n",
       "BMOry9tCeZnmhhUgnOM9/YPK667W4OXwYvbMu2OXwIe/BN+28S1S0IlXF1zNMfhP4O6PLqro3pJC\n",
       "d+HGJMoB4tzylfcr/L/bv4nFVXEIx6R1AAAAAElFTkSuQmCC\n",
       "\" style=\"display:inline;vertical-align:middle;\" /></a><br>"
      ],
      "text/plain": [
       "<IPython.core.display.HTML object>"
      ]
     },
     "metadata": {},
     "output_type": "display_data"
    }
   ],
   "source": [
    "mod_abs_diff_reversal = Forall(\n",
    "    (a, b, N), Equals(ModAbs(subtract(a, b), N), ModAbs(subtract(b, a), N)),\n",
    "    domains = [Real, Real, RealPos])"
   ]
  },
  {
   "cell_type": "code",
   "execution_count": 27,
   "metadata": {},
   "outputs": [
    {
     "data": {
      "text/html": [
       "<strong id=\"bijective_interval_image_size\"><a class=\"ProveItLink\" href=\"proofs/bijective_interval_image_size/thm_proof.ipynb\">bijective_interval_image_size</a> (conjecture without proof):<br></strong> <a class=\"ProveItLink\" href=\"../__pv_it/theorems/e7124b7f720a7185c177d7c3775767f425d66c5e0/theorem_expr.ipynb\"><img src=\"data:image/png;base64,iVBORw0KGgoAAAANSUhEUgAAAlwAAAAmBAMAAADjFFgNAAAAMFBMVEX///+IiIgiIiIQEBB2dnbu\n",
       "7u5ERETMzMzc3NwyMjK6urpmZmaYmJiqqqpUVFQAAAB6qHgnAAAAAXRSTlMAQObYZgAAAAlwSFlz\n",
       "AAAOxAAADsQBlSsOGwAAB2RJREFUaN7Nmn9sE2UYx59ud73bXdt1MIaKmQuCwRDJIPIjwGKHmVEG\n",
       "5IBBIkS2RamIwKrjDxcyVjJjYpCtJEAUY6wJkqgQyoLCnIESxIgJcPgHwx+REt0MCRB+DXDZMt8f\n",
       "d9e7tb3+uDW5J9n1eu/z3r33ed/3+zzvuwJkYu6RkSjk00QZ7GyvSvh4amQgM3d3LM/tOWlrWsBN\n",
       "pZ+z7YHLFbI3LrhgK1zNks1xOWU74dpjc1rAzrYRLveA3XEp4moPXAU+2+PqDNoHV5tke1xOn31w\n",
       "9aM/np6uCWdRb1cwq8eM9iaPZL82qcFfUeu5Ku2Dawj9MYSTY382A43rz2pYLh71nTzy8S/Nqmxf\n",
       "r9TjhykuAuLP9Lgy8ssxCXyk4bpq+v7j5tPPspEACJ/PkcAZs4ordZRZPQsft6j1plNc3+OPj9Pj\n",
       "ysgvxyT1toZrkakjP6icNCFMBYgsU2EVl8kdPlUbROp1U1zbcTMa0uPKyC8384QyxAUKLuEyGo8M\n",
       "5BnXsAHXUxRXEe4kOT2ujPxys8JYlriYNfcBDucZlzBgwHU1QHC5ogBFGUh9Rn65WbEvS1wiPA1Q\n",
       "k2dctETD1SbTyDhr8uTnM4mMmfjliCtqwMWW9G1dir+0LNhR5v2iLAzs0Un4zaonarguRiEydrg6\n",
       "qnckehddK5d1uOqjFNdxgPWZ4MrEL8eMWdZwdRMY5d4uUjBD5obCKON5NwiNwFYBo+A6DMUVgIek\n",
       "ozJrXF2Tsc1QcYlIN4V50JQYkev3skghx6v1ir0UVwfwycOxz4grpZ/S4erxx2jSZKFWUp0Sk3oN\n",
       "F78QHX6Gi9INUvA6wAPgHsIU5BNwhrTIWAPioBDWsiEro6sdtXZlFLoSvVFOM5N25WJNMRAup4Sr\n",
       "CU1R+Go3DdfTF8MZRCZixEX9lJffpwa1ObVvED8nKEcuSYe3oIjKxFQn9waAg0MgfOJVio+Elbbz\n",
       "1/FZgAZtZH6A+wgXN4xbW+8FVsEVAf4BQ8bDus+s4erYjz5PAe6Q0daNHw7sdVnBFaG43F6i4OWV\n",
       "4EDZ/jv9G+EvRhKlBFyKH7V/MLNyf7ggyCyXDLjcSXb6PD56nTi5G/Es+hvgscTRtY1O95lxXHcQ\n",
       "LjeiVNzQFseFbte0k5y9EraGi/sOtX6OdmO9TQEBdROzH4y4IHQaf/12CGcy4nGcu3sjDCTgUvyo\n",
       "zUV/PSi0uqD1I0iLqzAQx+XaRGYtUk5fIi6SRIPwCFbpcZHRFYmPLgH5HzmWbOfHRAhSaBdaF7B3\n",
       "aKKckHaJA3SZYdAuWLqX9FgXxvUkPu39fQcDtT3Te8IGXMSv7vTLuAF3yiUHbVokkoiLXVJqWM62\n",
       "lfSpuBybaceKFXFcnYbIyG70VCplCi5YgCdsUYOqXXgeFpBTxjjzzYQgdWRkh1GifCWh4kOsafCi\n",
       "JvVKZIR2fDNOrpdbgSVpey/z2oEkowv7sdPIAs8x1RFZTRcwuwJGXHjbfUWwzYBrnDQJhApczFXR\n",
       "K63sMKflvPVePS73w7WVAi3bR3ANQnMA9gA/HzxD5PIKdeGkSySwMpgKgUki0Qi/0k6vx139n1J6\n",
       "A97W512dSt4FHvzCDkmsmAACGTG9EClLggv7iRHSg86oK3SIlCxnwIirBXn1QLOhXZvgHMBuCRdf\n",
       "riFXJkCXQ4vdhRHD6Drq/eM83Q649+/le7FX7vr4Y8tQ6drqiXdxO9a9gPW9wYgLK4OpEJjgWlf6\n",
       "3jXS6QURdS2NH1MbNaSpYf0GjohGug9c+/z+zQhXXVESXOThYUeMtEGMnfP7/TL4aqjOqLi4W4jC\n",
       "fCg3tGsu3rv9zUucDtbQ2NZ5IJ4QNmSa1SfNvEtOTApSZTATguzXjGBcBEl6XGiQXPcB56OjS7iU\n",
       "mHfReRN0nkX1iqFQ3kpUtzdKViPx0YVwovRu0yr9M29DFfCVitP2E+Tenvi/M8RKK7gcwf4iWVEG\n",
       "EyGwimuRYXuwlc5OEsh/gVGjQze6gm2HpDookH5CeRiRbKUtBqmfxw2exasZH9SRy1NdDfFEAjr6\n",
       "kFLqM0zXgIZrfHa4cE7ugkYOqDKYCUEKXOnWBd1qvS16XI5nAuBB9/wAPZB7NgieFLiEHy4tgWaZ\n",
       "O+oF/k30/cKt0rdiCbi+OV+KJwc3D5pJT28r0eVdeDN3HKrbp92dHdZwdWa357GSzEEUfIgymApB\n",
       "Clxp1gXsQrXeULLNZ/Yl/8b0m8/0ner8/niSaJp3qbriTNEoHIIcRGz5k9nwev8mTR942Eo73UQI\n",
       "kE0cVZ08cudNs/3IZbJST3iU8169kGSHWMMlVGSP64yVBXo7ExKpMuiFAMkA69MLgUVjQjnjcoEJ\n",
       "Ltid/BYtMgmcaNL4NyQs/sMWXkR8onoCVQa9ECAZQFqgEwKrW5hyzriSDlvtyCWdTnxAc0rVdZaM\n",
       "KIOZEFg0GoNs8huJuWNzGzMhsGhVdsJ1bozuYyIE1swRshOuoujY3MdECKxZe9BOuNhpYGtjn4Os\n",
       "cOX7t6kf2vtHJU7y9hn/NjXvNgbzJZ+2Rj35H3QMN0dqteNGAAAAAElFTkSuQmCC\n",
       "\" style=\"display:inline;vertical-align:middle;\" /></a><br>"
      ],
      "text/plain": [
       "<IPython.core.display.HTML object>"
      ]
     },
     "metadata": {},
     "output_type": "display_data"
    }
   ],
   "source": [
    "bijective_interval_image_size = Forall(\n",
    "    N, Forall(\n",
    "        (a, b),\n",
    "        Equals(Card(SetOfAll(x, Mod(x, N), domain=Interval(a, b))),\n",
    "               Card(Interval(a, b))),\n",
    "        condition=LessEq(Card(Interval(a, b)), N),\n",
    "        domain=Integer),\n",
    "    domain=NaturalPos)"
   ]
  },
  {
   "cell_type": "code",
   "execution_count": 28,
   "metadata": {},
   "outputs": [
    {
     "data": {
      "text/html": [
       "<strong id=\"image_size_indep_of_left_shift\"><a class=\"ProveItLink\" href=\"proofs/image_size_indep_of_left_shift/thm_proof.ipynb\">image_size_indep_of_left_shift</a> (conjecture without proof):<br></strong> <a class=\"ProveItLink\" href=\"../__pv_it/theorems/16f86f77dd9152c9ea4d37db8c29e5858fab11650/theorem_expr.ipynb\"><img src=\"data:image/png;base64,iVBORw0KGgoAAAANSUhEUgAAAnYAAAAZBAMAAABOR35sAAAAMFBMVEX///+IiIgiIiIQEBB2dnbu\n",
       "7u5ERETMzMzc3NwyMjK6urpmZmaYmJiqqqpUVFQAAAB6qHgnAAAAAXRSTlMAQObYZgAAAAlwSFlz\n",
       "AAAOxAAADsQBlSsOGwAAB4xJREFUWMPVmWtsFFUUx8+0M53ZZ2chUBFSyYIJ0YjrKyaAZKuFAAll\n",
       "CVqijbCNdsXGxwr4wRDZRUi/EKEoElOFjhE/SCRdsPIQg0uMRgjqgsZIUFk0Fmss5VUeFan33Duz\n",
       "M7O7MzuLxcSbdp5n7537m3P/95w7ALbll2ASyiml7A/B/72kyP+IYAa44B0lLNvLrLmEvS8FjK2w\n",
       "DbdWnCWHrb1qUUGyeH2PKU67If1g+WBtuPemyebwf8vuUYA59GDMe2TDZSzM3LKz1sSeSNHrc/LO\n",
       "eQqN64g47sfKlqKXSUVeWWeXxWs/WrPwU39JO2Zna/+M2i/fAG6/s6xmnNUNbgLzHa7/yp9kV5Ut\n",
       "g90JW3QjprB97dAWfPjnrNjBrTq7j/Ham9YsPNiuK+mYnZ29FFL7xY/HcWvtpC7Lbq5Xx131+Fw9\n",
       "Ttk9aD9MB9WDc2BtjBXV6uxW4u+i1ixEfLVtzsesnb0nbGTnMTrnByZDb8qqgWqVXSI8zOxAZSde\n",
       "KMFucSTHDl8xn7HRrzfIbm4Zemdjjx3X2VUabx0xW95Xit0tyg1ixw2WYOdK59jhzmXH4nA5U4a9\n",
       "fSJiZHfMht3bpdh1wg1i5zpTgp0nqs+zdweD99qxqAwGJ4TLYGdjPwKM7LrxqG5c3MRufu3CejIK\n",
       "GtjZS1NXjZbfGa2AsGMs9r8+kFDZXbk+dkLgt+U4KMTX9wSa3YFWgKYAKj5fV6Oyq24vwY4L6ex2\n",
       "A7TYsfDEoSpSBjsb+16tX5521bdeyXiiJnYp7qSHADmonk7OiFcVbwiWJqEZYEEG5jF2bqZK2A8r\n",
       "djuDWCbr7PZiw1Ar78STij5IHILPQJwEVTIIDwCvsuti732kJTv3gM5uHUhZOxbk7rq8uBrKsDeW\n",
       "mNav1dg2xuUToVI2svMmvQN+cvNb9RdPAFwE8RKxg0Qcns7Ns2pPpb+d+500jWy+hG8iGNxAVQiq\n",
       "o6TOijBWX9Wem2fVl7M+Y8WOmOfYVUUozf6T6v2js/dvMMW6LfRZ3HXjavCKOiVvDRyIAx+LxZIW\n",
       "9lomMfGt3lyku0Xt17oOPCMBlYfGeegi9zAXEZlLQkKnfYE8rUgYVYeFs2SWU3RVIt69aLNTdlIv\n",
       "/jJOvQ/ZRUmFhF0igy0sJq43qAupQP56MxbsELLGzie7ck4q1sYUjodZYSOLI+pWPKOz88mke0Ir\n",
       "HTfF7bG80NMKcphfo929Xe2XuCvC2FVGC+YK5ofv6uzOEnY+8rzVUVFnh6rkJUHkbMWx361gynSX\n",
       "zo70IX5CQc9O6OyuUO8EvsPK7wQDO2g/AFogvY8IN8fB57KRhYumIURZsjo7El/4oYpGwBb2KC5E\n",
       "SkGWvfPz/Y7lA2TMLpYL2HUlBQL2qJkd9buUwe+6ZHwANT9xqHe0h+7L8IiRHfrdXwa/c5M2sKPF\n",
       "kxDqd4YxC3MxIoOriCHNWIxKGVnwxyLsflJnV50meTHzJwv7ugMss5JlrqmAHZ0fm2k1oBjZNSq/\n",
       "Ak/2X5jZwVSCS4FNOb2bF6eJG583V1AlsZlnhVZ/CMJGdpUpcA+CK6rpHX+JYXgoL8NmikX17rKB\n",
       "3Wp0ArwCjWwMSs1pIwtpOg1GL7KLjB03RFLTn8DavkJZJlBTOdyWy057TOwaaKzEm2KUEy9+CNu1\n",
       "+IWUTZTdICyLw0bypAr0s6buJHUMGGMUVBumJHbsfJeaQm4qZC7GThHvB1cYpCngv0pNK4gwzYsY\n",
       "YxQUHk2x8udZ8Me12Z4mRpznyah5XeQUXTU6fs3ADh7/NKvmUcXtd8FCN+2mvGtm7u5IE7ulGLAd\n",
       "HmUas00B3yfYt9vU5Yzzp74/n519Lix1N6DUdAcSOAiF3qHTvUNZIztUG6Yktn63Qz7+FUXdP/3l\n",
       "56fznRNhbf0f2G5dzTl0oUWd1053XjPGd1R4NMXCiryh/DUookCCcpDMmxmO47cXrimRqafLwC4C\n",
       "7jOwSB2zxezJRODdFIs9S8bsnNyM1WXKKyrilnmFNN5ZOEnrCewZm6Rqw5TkevMKc0FjbuyqPeqS\n",
       "jqpYNK/I5rMjzfKR5YyFe2ukgMV2LcGn7IjfS1E1DS5uTyRADDO92zYjN4ea8llTwm9eC/CknbPj\n",
       "kj2uTKOuJMPH7iZ/dDMTHk2x8vJZLdVMws8sHyAxx4xUAYv9AL/r7Ah7P3kP3XFL+w4i+S1M7/im\n",
       "gnUUlg8ssXxyp+s2GAx6oVnU0KOSWLIbWQ47DAPTVXKcCY+mWHnrKOrqQWf93kGQniKH748JN+0t\n",
       "YLF7X33SwG5F9yx0v5kkNi5uv5YIWRtB696wUdinXRW19TuWDzRaPvkShz1ckFZ9nKoNUxJLdusz\n",
       "ztEJ0+hgTKrCoykWVvS1xZr7w7GYUmINPep8zV2YGWs13+4DqGFo+5Cg1dI653CpdU0feyMSLNeV\n",
       "BLQ2DPVRZZX2O4YnNVDTZZBkwqMpFlY06fq/V0TLtM//XjHsZTXf7mFqoyrJcBUpNJtk7y0mxQLT\n",
       "94p/wc4fw3y2HHa+8PCz89xcN4qpjaokw1Z2bA1EqPDoilXOd7LXCr63Jsu0N5cb9n22QG2Gq+QL\n",
       "z0e4DjkhDVxw2j9JRWwWNfHyJgAAAABJRU5ErkJggg==\n",
       "\" style=\"display:inline;vertical-align:middle;\" /></a><br>"
      ],
      "text/plain": [
       "<IPython.core.display.HTML object>"
      ]
     },
     "metadata": {},
     "output_type": "display_data"
    }
   ],
   "source": [
    "image_size_indep_of_left_shift = Forall(\n",
    "    L, Forall(\n",
    "        S, Forall(\n",
    "            c, Equals(Card(SetOfAll(x, Mod(Add(c, x), L), \n",
    "                                    domain=S)),\n",
    "                      Card(SetOfAll(x, Mod(x, L), domain=S))),\n",
    "            domain=Real),\n",
    "        condition=SubsetEq(S, Real)),\n",
    "    domain=Real)"
   ]
  },
  {
   "cell_type": "code",
   "execution_count": 29,
   "metadata": {},
   "outputs": [
    {
     "data": {
      "text/html": [
       "<strong id=\"image_size_indep_of_right_shift\"><a class=\"ProveItLink\" href=\"proofs/image_size_indep_of_right_shift/thm_proof.ipynb\">image_size_indep_of_right_shift</a> (conjecture without proof):<br></strong> <a class=\"ProveItLink\" href=\"../__pv_it/theorems/b49c57ec1dd6cd0bb9bf40b77d71ee13427ecf9e0/theorem_expr.ipynb\"><img src=\"data:image/png;base64,iVBORw0KGgoAAAANSUhEUgAAAnYAAAAZBAMAAABOR35sAAAAMFBMVEX///+IiIgiIiIQEBB2dnbu\n",
       "7u5ERETMzMzc3NwyMjK6urpmZmaYmJiqqqpUVFQAAAB6qHgnAAAAAXRSTlMAQObYZgAAAAlwSFlz\n",
       "AAAOxAAADsQBlSsOGwAAB5BJREFUWMPVmWtsFFUUx8/Q2c7so9tZCFSE1GbBhGjAxfhIAMlWC1Ii\n",
       "sASFaCMs0a7Y+FgBPxgiuwTSL0QoisSg0DXiB4mkC1YeYmAb4wOCuj5iJKgsGos18pA3FannPmZn\n",
       "Zrd3dhaLiTftzO7M2fv4zbn/e84dANvyczAJ5ZRS9gfh/17S+D84mAUpOLaEZVuZNZewr0oDY+va\n",
       "So4izqrD1l4SVJDsv75HUk6HoX4v7FgrOfsyeDj037J7GGA6/TD8bTxIWYGZR3PWmtId6ff69ILv\n",
       "MoUmbYw4Hsfy5n4vY0U+zWCXI9d+ELPwU3/JOGZna/8UH1fVeXL8VljNSNENaRTzHenU5T/wVJkr\n",
       "g91RW3SDJ7Bzbd9m0vlnROzgZoPdB+Taa2IWXtKuO+mYnZ29GuLjkuvIvBU7qVs4zLV83lXX5etx\n",
       "yu5e+2nayz+cAbExqajWYLec/C4qZqGQR9vqfM7a2XvDZnZei3N6zN98aVED1ZxdIjzA7ICzU86V\n",
       "YLcgkmdHHrGctdGvV/E0owy9s7EnAzfYVViXEYvG3VmK3U2p68RO6i3Bzp3JsyMntx2LQ+UsGfb2\n",
       "iYiZ3WEbdm+UYtcO14md+3QJdt6osc7eHgzeYceiIhgcFS6DnY39YDCz68T/2bXzGrJWdnLgU4CZ\n",
       "7PMLE1cM094clgLX9hFk/A2BBGd3+drYuQK/LiWTQnlld2ChJ9AC0BQgii/X13B21W0l2Ekhg90u\n",
       "gGY7Ft44VEbKYGdj36OPy9vGfSstHfPWWdipY2EnwAH+i3FZ5UrKF4LFSVgIMCcLsxg7D1MlMg4R\n",
       "ux1BUsYZ7PaQhqFW20G+DDoBiYPwEShjoFID1z0gc3Yd7LkPEbLznDfYrQE1Z8cC764piKuhDHtz\n",
       "ienjWknaxrjcl/Sd92cs7AaFYTzAN/wXjwFcAOUijMYJH4cn8+ssH6n6t3O/Uyfh4TP4MkKCG6gM\n",
       "QXUU68TmsPrKtvw6yx/O2qyIHZrn2VVGKM1Tx/j9rxv3rbPEus20L576kTXkCl+StwS64iDHYrGk\n",
       "wF6XsdGv9+SVbDMf15qN5BsGVArzQPDiPEftIM9wP/XZhEH7HPZWQUbVYdefuMqlDFVCy/mbnLJT\n",
       "e8gv49T7CLsoVojsElnSwgJ0vV5DSF3415MVsCOQdXZVmjvvpEptLCXJMC1sZvEVPyqnDXboJQlw\n",
       "tdB50789Kc91t4AWllfpd2/l41J2Rhg7VEetYK24ix7fMtj9ieyqsL/VUcVgR1TJh0FkY8qx3y1j\n",
       "yjTeYIdjiB9NEc9OGOwuU+8EeaPI71wmdtDWBXogvTeOLCT4WDOzcNM0BJUlZ7DD+MIPlTQCFtgT\n",
       "b0IpBU3zzS70O5YP0Fy6I+mKmNkR3yLOb2VH/S5t8rsOjXSA5ycO9Y6O0HMJHjKzI373l8nvPKT9\n",
       "nCgJoX5nmrMwg0RkcIVgyDAWQ9NmFvLhCLufNNhVZzAvZv4ksK/vYpmVpklNRezo+ojiPzf1C8hW\n",
       "v8N2PACfWNnBRMSVgg15vZsVp4mbXLBWUCWxWWddLf4QhM3sKtLg6QV3VNc7+SLDcF9Bhs0Ui+rd\n",
       "JRO7lcQJyBWYy+agujBjZqFOpsHoBXaRsZP6MDX9EcT2g1JLXNRUC7fms9NuCzuMQ44+/x5ss7LD\n",
       "RfZ+Fr+QsoGy64UlcViPPU3BKdbUbVjHeXOMQtSGKYkdu6qLTSEPFTI3Y5dS7gZ3GNQJ4L/ClioU\n",
       "plkRc4xChEdXrMJ1FvxxfbV/l7LwPh617oscp5PpyFUTO3h0f46ZC+x3wjyWZWk7p+bvDrGwW0yC\n",
       "q6oPs1Z28gNd2PVb+HbG2ePfnc01ngmrnTOJ1HQGEmQSunr6Tvb05czsiNowJbH1u+3akc8p6lOT\n",
       "X3x2stw+GlY3/I7fm+przhAXmt9+9WT7VXN8R4VHVyxSkS9UuAeFCuRKHcB1MytJ8rbiPSVcejpM\n",
       "7CLgOQ3z+Zztzx4XAt+GWOxpnLPT8ytWhyWvGBQX5hVqnbNwktYT2D0iSdWGKcm15hXWQoylESt2\n",
       "8y0drlg0r8gVssNm5chSxsKzJVLEYpue4FN26PdqlKfB/dujBChhpndbp+gXKyz5rDXht+wFeDPO\n",
       "2UnJbnd2rqEkA8fuBn90ExMeXbEK8lk91UzCTywfwJhjSrqIxT6A3wx2yN6Pz6EzLrTfiGtAM9M7\n",
       "ualoH4XlA4uEPXe6b0OiQx8sVLh8UCURshtSDjsSBmYqtTh/pFyxCvZR+O5Be8OeXlCfwI/vDA83\n",
       "7SlisWtvQ9LEblnnNOIrUzE27t9+9aGh0IpoPevWu/bqVxV9/47lA3OFPV/kcIRzMtzHqdowJRGy\n",
       "W5t1js41iU7GJBceXbFIRV8I9twfjMVSJfbQo8733F1TYy3W2ycAahjaE4SgaGtdcrjVuuoEeyIq\n",
       "LDWUBPQ2TPVRZVX3OYanzqSmSyDJhEdXLFLRmGt/XxEt077wfcWAl5Vym5epDVeSgSpqqBGz92aL\n",
       "YoHlfcW/YOePkXy2HHZV4YFn572xfihTG64kA1a2bwlEqPAYilXOe7KXi963Jsu0t5br9n62SG0G\n",
       "qhQKz/tkH3JUBqTgpH8A885klkLBqSAAAAAASUVORK5CYII=\n",
       "\" style=\"display:inline;vertical-align:middle;\" /></a><br>"
      ],
      "text/plain": [
       "<IPython.core.display.HTML object>"
      ]
     },
     "metadata": {},
     "output_type": "display_data"
    }
   ],
   "source": [
    "image_size_indep_of_right_shift = Forall(\n",
    "    L, Forall(\n",
    "        S, Forall(\n",
    "            c, Equals(Card(SetOfAll(x, Mod(Add(x, c), L), \n",
    "                                    domain=S)),\n",
    "                      Card(SetOfAll(x, Mod(x, L), domain=S))),\n",
    "            domain=Real),\n",
    "        condition=SubsetEq(S, Real)),\n",
    "    domain=Real)"
   ]
  },
  {
   "cell_type": "code",
   "execution_count": 30,
   "metadata": {},
   "outputs": [
    {
     "data": {
      "text/html": [
       "<strong id=\"complete_interval_image\"><a class=\"ProveItLink\" href=\"proofs/complete_interval_image/thm_proof.ipynb\">complete_interval_image</a> (conjecture without proof):<br></strong> <a class=\"ProveItLink\" href=\"../__pv_it/theorems/25d9775947524d7ee02e4e5999355e4db70837040/theorem_expr.ipynb\"><img src=\"data:image/png;base64,iVBORw0KGgoAAAANSUhEUgAAAmwAAAAmBAMAAACL59o1AAAAMFBMVEX///+IiIgiIiIQEBB2dnbu\n",
       "7u5ERETMzMzc3NwyMjK6urpmZmaYmJiqqqpUVFQAAAB6qHgnAAAAAXRSTlMAQObYZgAAAAlwSFlz\n",
       "AAAOxAAADsQBlSsOGwAAB7BJREFUaN7VmmtsFFUUx892Z3ZmH93uIhAMpjRFTA1RN0YsMTwmUBrl\n",
       "ISNWjRBtSWzVCnSV+IFg2SFNSAwJLSqoJMCGoAko6YrIQ0hZrCRCVJYvlhpjSxowSCioPEpprfcx\n",
       "c/d1d7uPrtk9SWe2O2fm3vnNuf9z7p0FSMWKR0aCkEuzh6AA7GWV7E6O3ErNv7g3xx3qKARqIE3T\n",
       "P8zID2yOtoLABj/nF7a1amFgs4TyCttHhUENxBn5hK34VoFgMzQ4P7AVKYWCrVXLI2w+tVCwWZQ8\n",
       "wnaZ7pb7Uz9FvpCNRO1P+xS9PYcnj7ANka1pRzpBt6E+8/bu/yz9c2h78rCOjQD5bXRsTrLPyVxB\n",
       "GiC7nmTUTFNpKJqa7gDs+wfdw5rsMlDVZI1zaOKIF2y7n4zpyTv4f9redB3bt3j3yejY7LjbVi0n\n",
       "xe4NspuXXIz1EWz5F22mjeqezIQydCchsYJ3rAmFUVE0NfHqbpW1d0zHtgGHXt3o2CQclptyMkad\n",
       "bSlgK9GxHWhCj07JGtt3ANWcQ7ZfUOQLsd9OCWObomOzoq+EUAratg3tl+QEm7k3DWwL2hWwhbLG\n",
       "toYvCsLym+jJJMHW46XYHEiurKmkhB/RPjdTxxIlDWyBIg8IatbY7qGyhxMsdpiKnkwSbPQklEkf\n",
       "Ly9/IhVs5vLyqbkpS0uCDNtzpS9V4Y5JHx51r7S5GwFWuLH6Vrl9BjbHELq5bLGJGFuQh+1cEAJJ\n",
       "sNUGdWxHAOpTwWb3giU3ZWlriKltwHTRXkYmDtfAdxY6QaoAiwueD8FSig2Nz7+p+NyXVhsHy7E9\n",
       "Stm0gYzGos8V73YASspA4WKj7ZW4dGxbQOZXZUo0NuS1JXG37Gz7PbdIkRaphlP8JIFgk2ehnKo5\n",
       "bjnJ+RYPlNSBz4vmXdIdeJNlUjQ+T/r3R8DOwFqCFBtn7CwA+6DNz8VG26OCgrBZVAH52ZqCsG8r\n",
       "LYinL4ROxCkQU+7Ww0L2xToj9/a9dngRuU3Qt5InvjPYW+jFh6VG+s3nQ2D71Hja7bif8hW0lXAk\n",
       "0CvV4R76vBjpTfEvNDr8xoNprSPiI17JkNuWHehkhK2dE20BkG8T5QTxAxKfXoaNtlcS0LEVu0hG\n",
       "KPWACaX2ty83wu+CalfjsZ2PyAhODB37VsCCCVHYijlpA3vj79HhmtW0au0DmBQdbeuJVJhdYWwu\n",
       "hK0H0bothbGh8WkZID0TdmRaXR9WSUroCXFHWNNm4EYbbY9hg7ZT+NM3Q7hL9iN4zuAKCBCPzeoI\n",
       "Px6zV/cNSheCo2LD3jo2MK0iQYOkVYnGRsvwdk1UI7HhY/ciog0VB7Z7CmdS4VgMCcUhRtss6G4a\n",
       "AM7FKzWubNoP8bHR9pi2wZJthPNBjO0B/LHr140CLDo+/bg/CpvQjU4UF4/HMwWf+xL1Bbsd4rDp\n",
       "TmHxQt4GNnCsxNeyRyhvK8ukL/r79GLTwGYOgG0QtjNtw+PzMfJxfvStrYXE4sApQDqNgj/6CLrD\n",
       "okE+tvkRWR9ja8EXlkK1oWYQiWR1Ca/s5USbPAdtlmk+TGScOpn6wg9d0djwawHdiRnyBluZ4eSY\n",
       "CdAsDktsjNS6DGw9736tF5tWis0vVYJVgRY/XCf9FXGaPRdT5mGxgG5ILA4cbEUhsZI2jh/zXf3I\n",
       "svBUL9KWaqy9VqNuAyeWPZNqL5sANtK3LghM5GCDP9DfcfpYV8EZ6iu6lGhs67zMiRnyBtiqUiex\n",
       "GgXLBDhoYmPEHDA4rHAXnyD9kq7PaW6aI+x+EDZX/YnOOeT24QEm9t0NGW0xbEQsuNgMceBgEw+V\n",
       "eukSaYBN0OHVuTvRNm6m2T93V5CVu/6ohSM7yIMKOLY3NKxG2GqsPGzYnoJSvKuEDuorCCoRIwOb\n",
       "1K8yJ2aVeDG520Wc5A4vuXbrXnbYWpfCLCHOsLtp8sajulhgbDWnngaeOHCwpW/zIpZpGDakKFdQ\n",
       "iaTQaLOdj6/b6GrAAKx6Ae1vwGzqe+A9OtVh0WbqZU7MkDfIHnJY7vfSjOUMv3axezLFNslZt1MX\n",
       "CxTPYoW+BBUrDmOIbV70MmUzHbakCDgLMdESEW0zpcHTogLTHHXUVwnAnriUgJ3wvzUgErbYm6YE\n",
       "8SoRPaRr+oIfETv6Bia9sp8oetDi8lKxkD5G+AMxRaMhDrFrd55MsB0Lp3uGzfSQF5zo+ptQLEgP\n",
       "a3RRkofti5/GB6XZsN5NfR39F6t3xWHDTiS7adJMUpK5jQKEVhcw7nWAS+EFrWFIv+wXZ5HEpunC\n",
       "sgFdzuw39XLFIXaBeziThfRZEQvRsYviYnVD4+iL4sXxvknrNnKOUYBw7C16Nx1pcJOfDdGyQ6Ni\n",
       "gcdHrWY5rfLEIdY2X0v/XQJtzzaQxbsEzlI8w2YrSx9bZ4b1vux5BiWXeiMlmDXfl2QapCB5iBSH\n",
       "sTOhLQtswSTYYCv/EutI5SA1IHsj9litP8O7+GqvWyViQbDZTpwnUwWkDGu1SHEYwxXVUBbYeA+e\n",
       "bSXuUJO9zCnhM8zQqFh0Q+IoHzvT01ae/AakMvtL7PlfsM3OK2xnsr+E1ZVYHMbMTG15hc0azP4a\n",
       "zZBQHMbMWrS8wsZ/Z5l3Jj4C6WHL9W933y+IH89YKISUf7ubcxvbsZQrW84+/QcDpiMSE4XmpwAA\n",
       "AABJRU5ErkJggg==\n",
       "\" style=\"display:inline;vertical-align:middle;\" /></a><br>"
      ],
      "text/plain": [
       "<IPython.core.display.HTML object>"
      ]
     },
     "metadata": {},
     "output_type": "display_data"
    }
   ],
   "source": [
    "complete_interval_image = Forall(\n",
    "    N, Forall((a, b),\n",
    "              Equals(SetOfAll(x, Mod(x, N), \n",
    "                              domain=Interval(a, b)),\n",
    "                     Interval(zero, subtract(N, one))),\n",
    "              domain=Integer,\n",
    "              condition=greater_eq(Card(Interval(a, b)), N)),\n",
    "    domain=NaturalPos)"
   ]
  },
  {
   "cell_type": "code",
   "execution_count": 31,
   "metadata": {},
   "outputs": [
    {
     "data": {
      "text/html": [
       "<strong id=\"complete_interval_image_size\"><a class=\"ProveItLink\" href=\"proofs/complete_interval_image_size/thm_proof.ipynb\">complete_interval_image_size</a> (conjecture without proof):<br></strong> <a class=\"ProveItLink\" href=\"../__pv_it/theorems/96bf97c98e7ffa5c900449efec2a5223d3181a7e0/theorem_expr.ipynb\"><img src=\"data:image/png;base64,iVBORw0KGgoAAAANSUhEUgAAAhsAAAAmBAMAAACfckTUAAAAMFBMVEX///+IiIgiIiIQEBB2dnbu\n",
       "7u5ERETMzMzc3NwyMjK6urpmZmaYmJiqqqpUVFQAAAB6qHgnAAAAAXRSTlMAQObYZgAAAAlwSFlz\n",
       "AAAOxAAADsQBlSsOGwAABuBJREFUaN7Nmn9sE2UYx59ud722d7d1yjCIWZYhhr9wMSpEBKsyIgh4\n",
       "zoGJJqxErJGAq4AkRLedLpE/SEZJZBLij5PERJBlBQYiQy1BiEs0HP8gGBNKEBb+EPm9WYbz/XE/\n",
       "etzt1tI1vTfpXdf3be95P+/zfZ7nfTOAXJo4MpKCorYfoISN3Yqv/MiIlNt4MV1kg/h0KXHAGsqh\n",
       "3Cs4+ktKA4S0p3BwT5QWB6z2FI5gpMQ4XpG8hOOsVGIcNHZ5BcfDJaYBgSEP4eBulhoHrPAQjooo\n",
       "usi0BNiVz5qezusxskvfUQ/hqMQ13gLydtLX+Xyx7c18Ri9w6dusUhxkon+OjaOC3ItTm7bLurGi\n",
       "q2x8UxR6bxkE2HkdsXinMBwTR+IQ+vJJ5BRlSYrjEP5429g4eGxJUC4KjhOGsUyt68DNFAf4/0OX\n",
       "qej1XIHe0YK8oQxLhE9QHG1Yg9GxcXDYjT4ujlgu5YqjUsPR3YLWJVI4jtAplFEY4nBXKI4gYsOo\n",
       "OcQOvM1ZVBwcc/LF0dATgZBaOA7mtRuILZnhIMUhoHAQzCWU/oruieLguJEvjmRZPTBS4Th4mILY\n",
       "klx/R8ssj9XVPZ4LjvK6uilFqqWHrThernl1Ll76DbM+nBj+aqIC7J7JmMPcqnYdhzCMpjIeOE6k\n",
       "IEkS/LCG4zsA53TFWHHwcfC75OWkfhUWOvav228MspUPdwxjSURL+s7xxEumq9ywItTDGhmWo32F\n",
       "Ci9RHEgn16h59+eNg68jjVYO3VBZC3SNr2o4OiHgXFXwVhxoVKfxwQY9+J5fceBF8iaqX9c6VJ1d\n",
       "6LKYdK/XJtSSgp1b9G4TRweSriALNytIRn8D4BZwg7iGb4/D20ZmQTr5SdlllAv37h0NwGdCiiFY\n",
       "jMMvMYrVvo96FWGODQfyIfP3KjDSdy+uhGnQUG3FccbBkL+Afh4Fdh6dQE09+PSsHcroxnZux3So\n",
       "j6AWw1ZygxhXZYRF69es6Au1OUokz15SC8GRhMAthrr8bQ2HGA5m2cfVxBQx3QD77ThOZkXS8jjq\n",
       "RzKDFHc6NTaOGQYOVPqQ8fuHTTGa3sEdoBvtsIHjKsIhIlyVUc7Egb7pHyLCY7ZbnvNzanShOuFA\n",
       "i9qyCSw4IHEky74+NE/xCA8Rpm9v3yELjqCArGQXTsCL2l51AR6iK6VRs+BoOvKCRSxXayQDBxzH\n",
       "k43sdcIBfqLbHpmVsnAQ70hmeQdKjaHbEfvJAFfvIlSH2IFzdU8vWGIHLCIHp9Q+H8Yrtn4Tjti9\n",
       "gzmDRjfKpKK+T5rMUgC//H4Xjn7EbBo3ZCmup/qSsMMYdFQGTm1WW41Qas0sS5XzGioNB8xCVivQ\n",
       "ZcQOrJNHydvnjVkjrwYx4SJUB+/AOinLmNmN4OjAc9XsW0omH2/4wwFHAFdLfTRUroL+EHFMNhyx\n",
       "4uA+Rd9MWtfJnxISEKzWBjWtRIAkvrZa78brnoXj7Hv7aGmEASAcGVgbh0+QnQr8Q59Zqxf2ZqLF\n",
       "Xu2MY8boOBrxMekVM7sRHBX4lzT7dlMcvC9qxwED6PUU1NBn/Ch0xWKrgWEk6tg6jrYL6GcVnyVZ\n",
       "lcf5NIhb6KBNAyQYBjJmETPLguP1KvEwCZBt1wdOXU/PvxYJ9C5GvsD2VrVPxzTO/4u6/QaOqoOT\n",
       "ZeLVBIemZrtQ7TiWPfO5YTiXsWzwNfv6Y7GYKsbZSMJWd9CFHIJVS9D9CszmyHS6P6DloSkWhKtZ\n",
       "9h/LFnUllKvQQbs7B7RgeMnE0ZVrVWprCIdPvhhUiVcD8kFdzXahum/wyVbaxKHZt456B3SHRznv\n",
       "mMlljrERmCpEafEW0Z+VHUrL5fbd+JebgCVzLpOO65ll2UEyrtVSMuwrBIcAyznq1bAhbqjZLlR3\n",
       "HOTBJg7NPlJ3CgpYnT0Lx7e/TUhxs+H9KrS9RQ8XLp+b94UNR+jwSVKarpW5mcQT94R1HEvokj0S\n",
       "hwrTf05IurG++vxwfI8vQ5pXc5clQ812obrjICnNwKHbF3gL/bFmG0Da7TRMpMKZF1tpfuZad0BW\n",
       "3eHQmlXdWFqv59zYp0l6DVCvxouoq9kuVHcc5EDOfjjYFIspYx4OOh3gGTh25I/Dj0uqB8jbTX/n\n",
       "c1a6GHHsYBK8tpvCoRSrGZyEqj/BufXI935WmnLDEQw7n5bTKL4eeXXs7jM1IU+JWLdWDz5bTb2a\n",
       "4MBqdhSqe5s/zkfHsnFtdezf6HKWzWYKPiMgXi0mXDzTvc320Ek6XZvCW6j2XnHQEO4VHHhHOB5t\n",
       "C4wuVHcDVC/hEMbp1JFTRxeqa5sEXsIBn0FJW2Cmt3A0yiXF0ajmh6PY/xsW2FpSHKtIxs75f8OK\n",
       "3zaW8uGsUXn+DyJXFjVShCCcAAAAAElFTkSuQmCC\n",
       "\" style=\"display:inline;vertical-align:middle;\" /></a><br>"
      ],
      "text/plain": [
       "<IPython.core.display.HTML object>"
      ]
     },
     "metadata": {},
     "output_type": "display_data"
    }
   ],
   "source": [
    "complete_interval_image_size = Forall(\n",
    "    N, Forall((a, b),\n",
    "              Equals(Card(SetOfAll(x, Mod(x, N), \n",
    "                                   domain=Interval(a, b))),\n",
    "                     N),\n",
    "              domain=Integer,\n",
    "              condition=greater_eq(Card(Interval(a, b)), N)),\n",
    "    domain=NaturalPos)"
   ]
  },
  {
   "cell_type": "code",
   "execution_count": 32,
   "metadata": {},
   "outputs": [
    {
     "data": {
      "text/html": [
       "<strong id=\"complete_interval_left_shift_image\"><a class=\"ProveItLink\" href=\"proofs/complete_interval_left_shift_image/thm_proof.ipynb\">complete_interval_left_shift_image</a> (conjecture without proof):<br></strong> <a class=\"ProveItLink\" href=\"../__pv_it/theorems/ec0e52bb3ff9f3c99b148ed585b9bb1e3c14f8940/theorem_expr.ipynb\"><img src=\"data:image/png;base64,iVBORw0KGgoAAAANSUhEUgAAAq4AAAAmBAMAAAD3rQSpAAAAMFBMVEX///+IiIgiIiIQEBB2dnbu\n",
       "7u5ERETMzMzc3NwyMjK6urpmZmaYmJiqqqpUVFQAAAB6qHgnAAAAAXRSTlMAQObYZgAAAAlwSFlz\n",
       "AAAOxAAADsQBlSsOGwAACGNJREFUaN7dm3uME0UYwL9ed7ttt3fXqhgN5HI5wGCIphr1iBGsBIiI\n",
       "6AZOTSRyJZGLnigVCAlRaBWjMRcRfKAhItXoHz7IFcJLIVg8NfiKJTGeqJEaBIKRV8LzgOA3j53d\n",
       "vd2lj2uxxySdbrsz883+5pvvMb0DKKbUX7iQheoXNQeDu8hv0rcvLpworn19/pJMazsM9jJPY++3\n",
       "1hLX0PJBzzWUr0Gu87VBzxWerEGubwx+rDBdqzmu9ScuA65qvua41sUuA67+0zXHNXkZmFeAR2uO\n",
       "63729nAaq5Rbo1TRw72SKn8q8sel9+HyemqO6zlae1ah2npcE4T3ih5O2V++/l/7Yel9uLxXc4wr\n",
       "JfZHYa4N9L2KWZfCLNMeMrufXVt53GbgGZ5mF1dfSEBwzW0a+MpWBupBJwx1UngxunXuI7Fi8uoy\n",
       "jOvn5O3twlxVMu1AqnpcQ0fp23iyDS+SILzpduNVzhXm4vPV4YNLzeVOhfQM5ORRTvf00c1l5mcn\n",
       "QJenLmdclxAnFi/MVSGr8WIVzUDDcsFVNStl0Kqh37v1b+Rcg7+g4kswUK5fAkxyuCVGt24Wg6vn\n",
       "KOMaICubK8yVKsrUKnL15gVXr0V22NpMK8BVevg4wNoBc32Km6T+t/TR3bjWn2JcQ6gOgWL81g/4\n",
       "Xs0EvjEmuO6+CNdAtgBXFYYDTBww17MY+DmomxjdjatynscDN7e03FIMV29Ly/BqRu6NWcF1A7m4\n",
       "a1jCwlWO7FuA+0Viaq28viUyKxjpBJgRIS5iQiQpuP6UhcxAucqEa9aJKx/djat8jnPdDDC7GK5q\n",
       "AnzVjNxZgAKf4esdfD2fU+MWrio0hdcbh151hyD5HUaLyijwhWF6Du7nXNdCYzMQBfBESxG/voWU\n",
       "G4H7Hj9u92TY3kyMbufK5R3jXJeB3zkgiVm5YqtlBWeXYQQAvnLergs26o3s6Rbl6r8DqxvwNQK8\n",
       "YQvXnfCT9i9+5LR8UWiMQzKB2a9yCh434oGJoPYFybX/fLlLvDTLuDpsTzG6nSuXd5xz9WkStgvO\n",
       "zcJHK1iKO/oe6MlbHp/mBbPhHvHFImsEsffRTVPoBf3ah9vUQVeUlVjdRxstZDMzCQXopiwOkvp2\n",
       "XBt2CKOi8UFDRcQnqCqDcpRzjROLnEyQ5Tguo5K0p/Wl9Z+U6Maaubo8rMtW4XZGPN1hJ8XRR5df\n",
       "oxqeEFy5vLOca32Yuq2mKHgwOn16fyf8KWmqZue6y+S2GoylJD1GwcQhFq71Th7ub+6S4iBPYpue\n",
       "CzXp6zOzGVdv3O63bqJrETW4hpHrHsR5UjFxxZnN7aJXk9NlZiibNIpnT85xE/PRbfrK5elcYfkO\n",
       "crXxHAnL1M0k+wpnJLBzDYSM9fMmhCEnPbLKr9nCXFsFV8xbsoZQM1cS3xA70B62cQ2ehgfwY7OV\n",
       "K+l21qSvQfzcvcHh3DF0rzPEKZrNvpLMqQPQ7tjDVzG6nSuXp9tXmEpTmNh68ojDyGXvb89JMGXr\n",
       "6K1pC1dpN8qR772KKFgyso/67B2sB6gq2LjypsYTHGvSBFf4JiyEcr9lxAOzWHSQNnOVOxuiRFtC\n",
       "cStXbwaCfbBS2FeySev66JXVFs13gErMmZR3jLN6mAvtf0eM7hAPRI1jDsJ1KRlYybXnFoNMJ90r\n",
       "PfKBg776x2E1LZUksK7QhhKfnJ7PesDOXitX4rV5U0P4SE8G3tcbQU+KC+WFa+h4ZoQxGJAscVb9\n",
       "qRlRoi0qt0ABxjWttEIgBkvTcIStyzSREhtxFjFV1qDYZM4cthbpWZeTW9m8iIqc4XeM0a0dTgt5\n",
       "fj1+hQYyf4+mNg/hOWMvZK524AoH8LWVrfsc+BbrTfAQ6yGHY1auixKiqSi+LNIODOGN2jp1obpp\n",
       "yQiu80hA+sMQix2Q14V//5GuJVP+I+MWzx0nrRkBXRP+wbsbIkm6h2feuVqfhuBKTZUjV2LOXLjK\n",
       "G5rYutKDlNH8IMAY3bI8e8/8K/KCPss5oQr+vhiEVnZ0PIlc2wJOXIG6lCZmKrcz/8J6SJImayau\n",
       "ymFNNDU9hJqH+hWsUdcBIRSEAupc6xLu+dbzJWVNnqHPbeGminBt23G3NbZDc+bCtbwsTbeygiua\n",
       "uYMYCcaYvgZ32eNXpjWnYQ46DzgKY7FG7Wc91j4LkpkrePKiqZFQgTcHS1mjZQcMofrKRgXXUMb9\n",
       "3GVbSc95TUN8NTdVuMHkUfwwUi/EnAWbK8qV1YLrYpbw0MzrO+inaSZ9HaP0fS3HYGQojvUqJEN7\n",
       "xJjhtPot0pTueJApvDrtGz0emLnFLJT7a+ZOryTVY66TL3j0Zko5cQ5ZXzjBFkZ5C7/J9IurqTlb\n",
       "YXP7pWVqZnn6KazO1XNdAhpw/BdxByrXp9gpthPXT368KquMhWcigHUX2kDSI3T4r0nv2riSptQR\n",
       "p5Qx9MnWhXWuD1iE8q1w3khnH3SdvK/4E+DpRHpjipuqJRjAeNOefL/ID83Zblv4X16mRuXxY47+\n",
       "v8PIkzo6Xc4HzB9NtbXHReNXMMWvDuUJ9kzbEaw/7Db5a4p+zBcOsegqxUwV2YLtKd/XFuUk5szv\n",
       "oJxdh0rHyuRBd8qJ60XOXUzlQ1NtLTrXYHPpXHsqf5bjj05G9ztbl+xNJT8lXNEutdHv0Jy5q0B5\n",
       "ZTKUzzVrqp25wgqXFJHFKQs7sPTf0e3pyoNd90FEo6aKcg1u20WTLrRL86l0NGeV5jp2AFzdC52t\n",
       "n+YZjvdfEo0c/Gm1Ts2Zqdrt9mwVFctdXk39fVZrVUd//5Jw9eZqj+u3VR094OILF1X0j5mvhdrj\n",
       "6vrTVWXKYmfXlqiooxxTg1ydf7AfVGVarjSul+b/C14e9H/5NofWRf9/wSUqld2T/0ORRaj4H7k9\n",
       "ZHRnobLtAAAAAElFTkSuQmCC\n",
       "\" style=\"display:inline;vertical-align:middle;\" /></a><br>"
      ],
      "text/plain": [
       "<IPython.core.display.HTML object>"
      ]
     },
     "metadata": {},
     "output_type": "display_data"
    }
   ],
   "source": [
    "complete_interval_left_shift_image = Forall(\n",
    "    N, Forall((a, b, c),\n",
    "              Equals(SetOfAll(x, Mod(Add(c, x), N), domain=Interval(a, b)),\n",
    "                     Interval(zero, subtract(N, one))),\n",
    "              domain=Integer,\n",
    "              condition=greater_eq(Card(Interval(a, b)), N)),\n",
    "    domain=NaturalPos)"
   ]
  },
  {
   "cell_type": "code",
   "execution_count": 33,
   "metadata": {},
   "outputs": [
    {
     "data": {
      "text/html": [
       "<strong id=\"complete_interval_left_shift_image_size\"><a class=\"ProveItLink\" href=\"proofs/complete_interval_left_shift_image_size/thm_proof.ipynb\">complete_interval_left_shift_image_size</a> (conjecture without proof):<br></strong> <a class=\"ProveItLink\" href=\"../__pv_it/theorems/91b87b3b49fb48360298ed440e7d9daed611e5f20/theorem_expr.ipynb\"><img src=\"data:image/png;base64,iVBORw0KGgoAAAANSUhEUgAAAl0AAAAmBAMAAAAM1jMzAAAAMFBMVEX///+IiIgiIiIQEBB2dnbu\n",
       "7u5ERETMzMzc3NwyMjK6urpmZmaYmJiqqqpUVFQAAAB6qHgnAAAAAXRSTlMAQObYZgAAAAlwSFlz\n",
       "AAAOxAAADsQBlSsOGwAAB5BJREFUaN7Nmm1sFEUYx5+727293t61V6VVAmmaQwxKxEZFiYieCkRe\n",
       "XWuBRCM9Im2QgD2pkhiFLpLAhyalJIKGiJ4IH0BIDygvCuoRAlGD4aqGgjFSgtrwQeW99SjWedm3\n",
       "6e3uXTmu2Uk6t9ed2dn5zfP8n2emBcilBPv7kzAE5StwZuE34Frs75dyax/sGpLXErscyguWUVAe\n",
       "Z/H6zqm4INDlQF7CeMfygqUO5FUUcS6vFyXn8TorOZcXlVZn8brHubjA1+s4XsI1B/OChY7jVRxF\n",
       "lUzznR2gXZusde5WcXpwRmRz76jjeJXglHg6uRy+DVWulEVDfyjnZ66sG8wbcHHre+tSlBch8Wt2\n",
       "XsXks5BZfpOs8goSz/zZsuVIqxuuUXTGroYegO1XEKzX8+NV3h8D/yePIrNyJyivL/GvP8zOS8TP\n",
       "KpILyOskqLy4SuyTrdaJh6VbrFNm7P0PVaPRzzN52lcDsic3Hk5spbxWYr+NZuclYENcU0h/vMDy\n",
       "Eo22vJPNthOWPq3MeFcDWtlI/rz8p1Bc5IjJXqS88FpxqRz0C285ZxWS15MsL4/xXgfbdHw2XlPa\n",
       "IuBP5c+Le+kqgk8Q9FBeAbSMRbno/Qn02VpIXldZXmdseH2UjVfCXQWclD8vEUYh+CTbuanEx4fC\n",
       "4Udy4eUJh0cVdMPSx/Jqx1dPj4wxvF6omDcZmc1s+u3tiavKQ5+Wx4HfPQJPdXJpk8or0Ifmejt4\n",
       "nUwC8X6+T+F1AKAuF15iDLyF3LD4bmq8iLZiG3ovJUYZXgnXObFSP8gYlxL64oEqWCbDArTHS8Hz\n",
       "dMbIFS9T2blz0LzEMCk0g9oFJZVAreSSwqsFfObZVYTlhVq1ZB0xodaBmab339ynNcpI73Veq7HU\n",
       "P0B2SJ6QkVdADlwrRjd/Uvq8CnAdhB68k2qKwWtafESu+E18h5Y23bp9TQEx7Y9rcoF5eSXczN+Q\n",
       "hO3r6UKPnQ5Hu5hpkXy1TkkmiSewEfX8wv0zyEVUrRtNgGwE6klRWK6YgT4o+pJWebVswlePo6Wm\n",
       "O6Q94fDD4fA4/AhqetCk9KnH0xB6MOqSCI8soDauuBGsixLZ4S+k8uGVAN91jnrVDYVXMETkvqIK\n",
       "XCgGv/HnYviNk0Qpk1eHQe6LdePDPcbAlDKW1xmT1/ldUfEo8FPpLJRBB9iXsF+ivDzRDL2n9vaZ\n",
       "zusS4hVEqEuigs4LuaK3l7w/tykv+0LTbGgGhhe0HsFf9/XhUcQDONsPJTjI5FUU0PchnpimiLhH\n",
       "UjidzM7rMY0XSpyT+qAZ/ujtov5YG8rg1Sbz6J1/ZHkR+0oY7AtlAP4bEZMzIjuZMNEvnJK0tQOj\n",
       "XzCLHOZH9uBXJzuNzl9WcTDj0NhDcYYXdwa15mcOwwbRVPoHCV9HlL2JKEImr5ojzzH+eKlC0njB\n",
       "8ZA2qKL3A+LjArqjjBt5zY2fJx2Os7xgIppWHDZq+oVd8UFy+SwLxk4mTOwLu6I7rYdvwms1hiGk\n",
       "alMrgCdT6eRe2WpiXz6cUFbLZJt3hzQC1e54I+0B33YO4IUiGD9G6GU2d6NdCdiiNToqK4MqBZuH\n",
       "kReaAgqOHJNPnH1rL8kelSXHhBCvNDTG4H00kTj8Q8yWr1S3V4Z8AuuGrUyY8KrGJnlRD9+EVzF+\n",
       "JZckVpaBnwzXCYlyE17QjX4O0SVaQkL6fphHe/ChCMtL+ADNNiFUGQf3JgOtUFSmNKpZrA6qloks\n",
       "r2U4oTpRxvjjy6XBw1j57ldOH650n7rSNe1yxNc+G02Vby9twlGBP/8vauRleRHdsJWJTF7zn9qs\n",
       "zUlIM+c5IvjSEQhsrK9finjVFJnxolGrgo7xNZVk2oPjJF4y8lqJ3NUTdzGJiicmdkFwPW3U3K0N\n",
       "CrqxGHm5Y5b5va8yZwnHvFwjVh1UdMNOJuzPc8iZic4LqcKFCAgRal/+jsz8izpNLyyZgz4vwiRU\n",
       "I3ejPXa9S3cfuj8iqrWy95hRbUvAk4LV9HZLtz6oWvayvJhNNbvfFpOD4nV3cXSzoht2MmHPi+5p\n",
       "tfmsoKkdyfS/B2pEZvY1QUgf4yMwOhBF9SY0Y9Ijoo5o1HuP3LQTP78GeALFLR1X4+P8g8ZB1fMc\n",
       "SeXlIn68yPLdB3FM8gWO3t5QjOqGrUzY8yIxW+PlujcGxejLGuQEwn0yPR004/X5D8OSwiR4pxRQ\n",
       "3YzkBfcI/H1u6scZvPyHO0j0bpSFCeRld4dUXnOYQZVSm1J50a3RXMt3X5QzLv4JYtmyohu2MmHP\n",
       "i5z+ZpxH81PrF2c/jw4aaraHbf4FhvzLbAWxA95FLpv/wtSsjp1dOZ9a+manaBYhU92wlQn04Jj1\n",
       "o9rkWz+/32ao2aLx2jJ4XoGqAm3kq6ah2FWnDq/KBBKJGkYm7Mu0PP7ekTTUFryKzI1DoAF6eT0q\n",
       "A62ETxfo5GP31lKJ6AYjE0gkGmWjTNiXSXnwsi6yVq8wvb9Wb2SxhIUqVDfsZMK20BDkrL9ve2IF\n",
       "H2LLrfLypJzHK9Ba8CHsZMK2DAfn8bI+lr99xUYmbGPGBCfyqpbBoaU6NTheQ/P/q74NTuW1hGzD\n",
       "cv7/1aEqax2Ki9cS//8B8nFPGO6SBGYAAAAASUVORK5CYII=\n",
       "\" style=\"display:inline;vertical-align:middle;\" /></a><br>"
      ],
      "text/plain": [
       "<IPython.core.display.HTML object>"
      ]
     },
     "metadata": {},
     "output_type": "display_data"
    }
   ],
   "source": [
    "complete_interval_left_shift_image_size = Forall(\n",
    "    N, Forall((a, b, c),\n",
    "              Equals(Card(SetOfAll(x, Mod(Add(c, x), N), domain=Interval(a, b))),\n",
    "                     N),\n",
    "              domain=Integer,\n",
    "              condition=greater_eq(Card(Interval(a, b)), N)),\n",
    "    domain=NaturalPos)"
   ]
  },
  {
   "cell_type": "code",
   "execution_count": 34,
   "metadata": {},
   "outputs": [
    {
     "data": {
      "text/html": [
       "<strong id=\"complete_interval_right_shift_image\"><a class=\"ProveItLink\" href=\"proofs/complete_interval_right_shift_image/thm_proof.ipynb\">complete_interval_right_shift_image</a> (conjecture without proof):<br></strong> <a class=\"ProveItLink\" href=\"../__pv_it/theorems/f6b4fe5bd81f08cc4e344b65972f604666849f2c0/theorem_expr.ipynb\"><img src=\"data:image/png;base64,iVBORw0KGgoAAAANSUhEUgAAAq4AAAAmBAMAAAD3rQSpAAAAMFBMVEX///+IiIgiIiIQEBB2dnbu\n",
       "7u5ERETMzMzc3NwyMjK6urpmZmaYmJiqqqpUVFQAAAB6qHgnAAAAAXRSTlMAQObYZgAAAAlwSFlz\n",
       "AAAOxAAADsQBlSsOGwAACGVJREFUaN7dm39sE1UcwL9d73ptr9taZUSCWZYhZkow8wc/YgSrgSm/\n",
       "9ORngpGNBBacIJUpCcHRkhmMWZzMH2iISIPwhwqhID+FQHGCQjB0apwYIyUoBCO/EsaPAZnv1727\n",
       "a+9Y27Wz4yV7d717733ffe77vj9eO4BUSmFXVxRyX+QY9O0ifkQO+7s6UmtfGO+Vae2Dvl4WKfQ4\n",
       "LJ+4elb2ea6eeB5yrVf6PFdYkIdcP+z7WGGKkndcCzvuAK5yPO+4FvjvAK7Oa3nHNXgHmFeAOXnH\n",
       "9TQ9zAyjKmSlDqkP926oB3Hol+n3YfJa847rTVLbViO1tVklCG5vysNJpzPX/wEb0u/D5L0Xo1wJ\n",
       "sT+651pEjjnMuiRqmU7g2f1i2epeqxu2QWF60r8rAO61wxVwZKwMxIOOGWim8Hx049wHo4rKK4hQ\n",
       "rt/gwyfdc5XxtF2h3HH1XCSHp/EytE4QXJZK+B7jCgvR8xWgZkJZplPBPV0xscLsnjq6vsza3QGq\n",
       "PHkl5boMW62a7rlK+G2syKEZKFrJucrGZbFRTz9i1b+YcXX/ihRfgJ5y/RagyswQqaMbF4vG1XaR\n",
       "csUKIMS65wp4S2FSDrna45yr3XinTf9hWHdchZmXATb1mOurzCQl3lJHt+JaeJXO0oN0w5WK3zqK\n",
       "jrlM4Iv9nOvx23D9tDuuMgwCGNtjrjdQ4Geibnx0K67SLfb2HykvfywVrvby8kG5jNyLo5zrNvT3\n",
       "QumMMTEjV8H3PcBzzFN8sMs32+2rA3jRh13EGF+Qcz0WhUhPuYqYa9SMKxvdiqt4k3HdCTA3Fa5y\n",
       "ABy5jNxpgAK7mU5GbCflMgNX51DYAXBYzc7OQfAIihalCnB4YUoMnmdcN0FxGWAFsFWmI35rOS4P\n",
       "AfM9TrTcgyZBHR89mSuTd4lxbQaneUDiN3JFrZq7nV2EvlOA78wjste3q42S0y3C1fkEqoYi/xTy\n",
       "dBRFDVxRnvswwM+suaMSimsgGEBXpavwshYPjAW5043PnbcyfcWNUcrVZHny0ZO5MnmXGVeHIqB2\n",
       "7oVR+KKF6sWQ8dAaNzw+yQvmwnh+YYkxgjg1Z8cEckIuO9AyNdEVaRXQZVwDi+nMdEIBNhMWZ3H9\n",
       "OGrMAhasR49SPdpPVktQ5VqDLXIwgF/HZREpSXVYfbXOKwJpOmtNZlibV6PljPBs9popjjq6+D7R\n",
       "8ADnyuTdYFwLvcRtlVaCDUWnr52ugz8FRVaSubbp3FaR9ipxjwoYW2LgWmjm4f5iLqkGxCq66JlQ\n",
       "nb4unUu5InvuTfBbw0n9uY6rF3E9gXBekXRc0cwWNpGzceEMM5QdCsFzIma6iNnoSfrK5KlcYeUB\n",
       "fLb9Jg7L5J04+/JGBEjm6vJo788e4IYc94hKv0W75zqCc0V5S1QTqueK4xtsB5C2hERFz1Ukhgt+\n",
       "SuCKu93Q6asbfd68zWTf0TPRHOIEJcm+4sypFuBYsjvRRk/myuSp9hUmkS+7/FvxI5I0sf335QJM\n",
       "2DNkT9jAVTiO5IgT+2EFC/r+xtefOsASS1mGJK6sqfYEl0oVzhUOeblQ5re0eGA2wPTwKX6rje8f\n",
       "uFG/BK72CLg7YRW3r3iRFnSSM6MtqjeBis2ZEDeNs1qpC028w0c3iQcqtW0OzLURDyzFqmMNIJJH\n",
       "bhdeWm+ir87RqJocCmJYdykDsScJ19Me8EO7kSv+qoo11YQPtkVgndoIWkNMKCvVXs4VGeETb3zN\n",
       "w2/GFQUDz9AYjCS0lGtYGgEuPzSG4QJ9L5N5SqzFWdhUJQbF3JyZLC3csyAmjqDzwipynd3RRjd2\n",
       "uMblOdX4FYrwmrYpclkJuMnc2iHS34QrnEF/e+h7n0/inR0wg/YQvX4j1yUB3pQXRxTRdpWwRlPr\n",
       "VKGqaYlwrotwVFq4N2bkKkw8gLTlQab8F0Y3LBwtrL0Pmsb8gyawzRcka3jWk2vUaXCuxFSZcsXm\n",
       "zIKruK2U2jqykTKEbQRooxtez6nr//K8oNOQFcrg7PSDZ1Vt7QLEdarLjCsQl1JKTeU+6l9oD0FQ\n",
       "qDFkXKXzCm+qewg5DoUttFHTGS5UU0CVa0HAMt9yph7s4+e0DVy+i5kqzHXqgWeNsR0yZxZcM8vS\n",
       "VCvLuSJbdhZFgn6qr+625PiVOo9rMH8aOl6EUahG2k97bHoTBD1XsMV5Uy2hAnsMGmmj5jOaUPXN\n",
       "VnKuCZsr+n0XOZrWc95TVLOGmSq0wMQKthmpFmzO3GVZ5UprzrWBJjwk8zoCCZqm09eRUudB0Q+D\n",
       "PTWoXo3IkB5+ajiNfgs3JSseRAKvQDmkxgOzdumFMn9N3enduJpnOfk0dtRwABx1eAPUVEkfoyuR\n",
       "hLiamLOWJLefXqaml6fuwqpcbfcHoAiNvwKtQOmBEN3FNuP61Y/9otIoWOoDVDcdLSE9POdPVn2W\n",
       "xBU3JY44JI0kT7bFq3KdZhDKlsItLZ2dbjn5eak/5xQsvTjETNUyFMDYw7Z4QuSHzNnxpPA/s0yN\n",
       "yGPbHIm7bmJVbZ3F/oD+o6429rht/Aq6+NWkvEKfaR8C67T6usWW+sb6W+dodBWipgovweqQ46BB\n",
       "ObE5c5ooZ9O59LFSeSjsvu1u5m25btDVxqJydZelz7U1+3s5zspxyP3OVSXbQ8GNmCuyS1PJNWTO\n",
       "rFUgszIOMuca1dXmXKHFIkWkccriWlQSVa86nH2wW9b7FGKqCFf33jaSdCG7VE+kI3OWba6jesDV\n",
       "upDZOkmeYXr/bd7IxJ/matecmqrjVs+WVbHM5eXV77NG5HT0db3C1R7LP66Hczq6y8IXLsnqj5kH\n",
       "QP5xdUVzOnyDuWsLZNVRjsxDruZf2PepMjmWHtfe+f+Cd/r8L9/mkzrl/y/opZLdNfk/FJGHiv8B\n",
       "7DFrXvO5r80AAAAASUVORK5CYII=\n",
       "\" style=\"display:inline;vertical-align:middle;\" /></a><br>"
      ],
      "text/plain": [
       "<IPython.core.display.HTML object>"
      ]
     },
     "metadata": {},
     "output_type": "display_data"
    }
   ],
   "source": [
    "complete_interval_right_shift_image = Forall(\n",
    "    N, Forall((a, b, c),\n",
    "              Equals(SetOfAll(x, Mod(Add(x, c), N), domain=Interval(a, b)),\n",
    "                     Interval(zero, subtract(N, one))),\n",
    "              domain=Integer,\n",
    "              condition=greater_eq(Card(Interval(a, b)), N)),\n",
    "    domain=NaturalPos)"
   ]
  },
  {
   "cell_type": "code",
   "execution_count": 35,
   "metadata": {},
   "outputs": [
    {
     "data": {
      "text/html": [
       "<strong id=\"complete_interval_right_shift_image_size\"><a class=\"ProveItLink\" href=\"proofs/complete_interval_right_shift_image_size/thm_proof.ipynb\">complete_interval_right_shift_image_size</a> (conjecture without proof):<br></strong> <a class=\"ProveItLink\" href=\"../__pv_it/theorems/c7be1dba885a3b17770c9a947433bfd360038e3c0/theorem_expr.ipynb\"><img src=\"data:image/png;base64,iVBORw0KGgoAAAANSUhEUgAAAl0AAAAmBAMAAAAM1jMzAAAAMFBMVEX///+IiIgiIiIQEBB2dnbu\n",
       "7u5ERETMzMzc3NwyMjK6urpmZmaYmJiqqqpUVFQAAAB6qHgnAAAAAXRSTlMAQObYZgAAAAlwSFlz\n",
       "AAAOxAAADsQBlSsOGwAAB5FJREFUaN7Nmm1sFEUYx5/r7d5eb+/aq9IqwTRNKwYlYCWCRERPBZRX\n",
       "11og0UjPSBskYE+qJEahS0jgQ5NSEqmGgJ4IH0BJDykFBeUaAr4Ew6KGgjFSgtrwQeW99SjWedmX\n",
       "m97u3pXjmn2Szu11Z3Zmfvs8/3lmWoBMLDAwEIdhsK/AmcZvwqU4MCBlVj/QPSzDErsdygtWUFBu\n",
       "Z/H6zqm4wN/tQF7CRMfyguUO5JUfci6vFyTn8TorOZcXlVZn8brXubjA2+c4XsI1B/OCxY7jVRBG\n",
       "hUzznV2gX5u868y94vTQnMjm3hHH8SrEKfEscjlyBypcikVFXzDjZ66uHcoIuKj1vQ0K5UVI/Jqe\n",
       "VwH5zGWW3yhrvAIkMn+2rHmP1Q1XBZ2xq74XYOcVBOv17HiVDETA99Ek5FZ5McrrS/zrD9LzEvGz\n",
       "8uUc8joBGi+uDMdki3XiYRkWG9QZe/5DxWj081SW/lWP/CkPdye2UF6rcdyG0/MSsCOuy2U8XmB5\n",
       "iYwv+5K/+WOWMa3OeHc9erOh7Hn5TqF1kSMue5Hywu+KUzLQL7zlnJtLXo+zvNzsCBjNmpiO1/S2\n",
       "EPiU7HlxL15F8MkAeikvP3px+Zno/XH02ZJLXldZXmdseG1JxyuWVwmclD0vESoQfJLt3FTXxwnl\n",
       "5Q9nwstdXl6R0w1LP8urHf08X7pwmsLy4oq+AZhHr9+esqYk+HFJFPg9o/BUpxU1arz8/Wiut4PX\n",
       "iTiQ6Of7VV77AWoz4SVGwJPLDYv3ps6LaCv2oZjrnFjG8PKOgw7jIGO8IvRH/ZWwQoZX0B5Pgefo\n",
       "jFEoXqayc+eQeYnlxGgGtRsKy4B6ySWVVzN4zbOrEMsL1WpO22NMK/1zTO+/uU+vlJLeG7zWYnEf\n",
       "hx4i+68VxBleeSF4COAntc2rANdB6MU7qcYIvKavjygUD0d36WnTrfvXdBATvqguF5iXR8LVfPVx\n",
       "2LmRvsKxs+BINzMtkq/WqskkiQR2RT2/uGM2uQhrZYMJkFagkRSGlaobGJ2iLwmNV/NmfPUoakE9\n",
       "Db/yign0lR8mLt6otqnD0xB6MerCEI88oCaqhhFsCBPZ4S8o2fCKgfc6R6PqhsorECRyX1oJLrQG\n",
       "v/HnUviNk0QpldfJJLkvMJwPtxgD04tZXmdMhvO7quJh4GfQWaidDvIvoUOivNAAg4P0fhIpPzF4\n",
       "XUK8Agh1YVgweKFQ9PSR8XObs/IvNM36JmB4QUsn/rqvH/ci7sfZfjDGQSqvfL+xRrkjuiLiFnHh\n",
       "dDw9r0d0XihxjhudpsSjp5vGI0CbzEvJvLAPIfuR5UX8K5bkXygD8N0ImZwR2cmEiX7hlKStHRj9\n",
       "grnkMD/0OR462Wl0/bKGg9kHxx6MMry4M6g2P2cEdojGoj/w75/sVPcmogipvKo7n2Xi8VKppPOC\n",
       "Y0G9U1XJB62PSMAXRM9r9zX/QpV8qDHLC6agaUWhVdcvHIoPksunWTB2MmHiXzgU8xLG8k14rcUw\n",
       "BKVGWQU8mUoX9/J2E//y4oSySibbvDukUVh8ow20BXzbNYgXWsH4MUIfs7kb7YrBNr3SEVntVDXq\n",
       "OgYvNIWzb+2lyaLBCy2Oz9BcA1sr4ZWAhgi8hyYShX+I2/Jl2vYqKZ/AumErEya8qrBLXjSWb8Kr\n",
       "AMeWSxLLitVdRxfESkx4QQ/6OUhf0TKypHfAQtqCD4ZYXsL7yOdiQmVy5564vwXyi9VK1Uu1TjWb\n",
       "wvJaAfBSUeCQwvLi5nSiMT+gnj5c6Tl1pXvm5ZC3fR6aKt9e1Dgej+b8v6iVh+VFdMNWJlJ5LXpi\n",
       "qz4nIcGc54jgTYTA31pXtxzxqs4340VXrVLax9dUkmkLjpOozmi8VqNwdUddTKLijojdENhIKzX1\n",
       "6J2C4SzJvPIilvm9tyxjCce8XKPWHFB1w04m7M9zyJmJwQvJxIUQCCHqX76TqfkXDZo+WDYffV6E\n",
       "qahE4UZb7H6X7j6MeERUa2TP0WS1LQS3Amvp7eYeo1PN9rK82E01s98W40PidXdBeKuqG3YyYc+L\n",
       "7mn1+ayiqR3J9L8H6kRm/jVZSBzlQzDaH0blZjRj0iKk9Zis92658TP8/GrgCZQ86Zi2Pi46kNyp\n",
       "dp4jabxcJI6XWI59CMckX+DV2xOMUN62MmHPi6zZOi/XfREoQF/WoSAQ7pfp6aAZr09/GBEXpsI7\n",
       "RYDKpuPFpIX/73MzPkzh5Tt0kqzeDbIwmQx2T1DjNZ/pVLUaReNFt0YLLMe+JGNc/GPEs2VVN2xl\n",
       "wp4XOf1NOY/mZ9QtTX8eHUgq2Ra2+Rck5V9mbxAH4F3ksukvTM3q2NmV8amld55CswiZ6oatTKAH\n",
       "R6wf1Sbf+vn9jqSSNZ3XtqHz8lfmaCNfOROtXbVa95pMIJGoZmTC3mZm8feOeFJpwSvf3DkEukCv\n",
       "rEM22Ev4RI5OPvZsL5KIbjAygUSiQU6WCXubmgUva5P1cpXp/fVGJYtXmCujumEnE7ZGlyBn/X3b\n",
       "Hcl5F9tulZdbcR4vf0vOu7CTCVsbCc7jZX0sf/vMRiZs14zJTuRVJYNDrUoZGq/h+f9V7yan8lpG\n",
       "tmEZ///qcNl6h+Li9cT/f+u9R5hq0zwzAAAAAElFTkSuQmCC\n",
       "\" style=\"display:inline;vertical-align:middle;\" /></a><br>"
      ],
      "text/plain": [
       "<IPython.core.display.HTML object>"
      ]
     },
     "metadata": {},
     "output_type": "display_data"
    }
   ],
   "source": [
    "complete_interval_right_shift_image_size = Forall(\n",
    "    N, Forall((a, b, c),\n",
    "              Equals(Card(SetOfAll(x, Mod(Add(x, c), N), domain=Interval(a, b))),\n",
    "                     N),\n",
    "              domain=Integer,\n",
    "              condition=greater_eq(Card(Interval(a, b)), N)),\n",
    "    domain=NaturalPos)"
   ]
  },
  {
   "cell_type": "code",
   "execution_count": 36,
   "metadata": {},
   "outputs": [
    {
     "data": {
      "text/html": [
       "<strong id=\"interval_bijection\"><a class=\"ProveItLink\" href=\"proofs/interval_bijection/thm_proof.ipynb\">interval_bijection</a> (conjecture without proof):<br></strong> <a class=\"ProveItLink\" href=\"../__pv_it/theorems/9c228297e481f0b82f69bd35fcaef2f98ddab3450/theorem_expr.ipynb\"><img src=\"data:image/png;base64,iVBORw0KGgoAAAANSUhEUgAAAogAAAAmCAMAAABwHpo/AAAARVBMVEX///8oKCgbGxsEBAQGBgYf\n",
       "Hx8WFhYNDQ2IiIgiIiIQEBB2dnbu7u5ERETMzMzc3NwyMjK6urpmZmaYmJiqqqpUVFQAAAAil92L\n",
       "AAAAAXRSTlMAQObYZgAAAAlwSFlzAAAOxAAADsQBlSsOGwAACPdJREFUeNrtnIl64ygMgL035j79\n",
       "/o+63IeNE2I72Xi2fDNtSgOo4kdIwmSarit6sUVN7ylST7ctb1XMfYp0asD+Jea4V32Vvs0b/whz\n",
       "4xnQZvopocBIHJ1xr/rr9a349APirwTipMwdQaTXCvoLgYibJSqfvuNrQJyIviGIHE0/IHZXKABz\n",
       "9eP89B3fAyKu4bsJiHrBPyDu9V1hBuCzd3wRiI3bfxMQ53sbxE+BKMyCkJ1RoADC3w8iW9jNQKQ3\n",
       "N4gfs4jUW0Qi7L43fz+IE0E3A9GQtPXMM329OXuTTtmwULVisBAHh9NsCES6+EkGAyAeluW44DVx\n",
       "Ct4MxJwLRkf0Bt6VCRdgVKxKMYCLozqnhuAdEMmyLCiCGKbXyFj3AMQTshwWvCaOLbqqLjrS6goQ\n",
       "L+wv78zsBIj6qH8JZtgOB+zUetsn+AKJ98VeBvH1sAsTmEEi5qlFxCpYRP7cImZZEAJydNvYKOHR\n",
       "xOWkdRG8MX2zrKpl1iJnV4B4YX/Jgi/TcRDx8SQaW9bDkSUqNGo4nlO9ACI64K9x+ah1jRleJkon\n",
       "bu0MqyZ8D8TUm3s/nocna62EPcUbyfOqK4I3IEpeVdOkJEYu2Zov7C+5iPwEiPKEWV6DKDSJxjla\n",
       "WSU/AWLZwLatGeILKsYPSScZApWFW71jC6Ly39DobG2U8MB6PgMRLHV1On5G+hIQL+wvCWleARG0\n",
       "SxtO14GIsAhel9CNWluxAJlt4ZeBKMpujs7Ev4D1QQzb5rDPsFXCcRD1QqtqFW3G+YOgoO/r+ks8\n",
       "oCcgNirUzTGX5heCaHueYZiMtGuqtViCA3ytRayanAJRy37HiwyO+KDd2CrhOIhlUF8N3QqeIboI\n",
       "xOv6WwfNccYxAAZTVCxuOz3NTzJKsWlDOZQMAAJs8AtI6FfaLU1k/x3QDojKC1OcNrMCkXE8tjUz\n",
       "gwADQy6isbLr8yBuzv9CbziBqIZBXCnhOIg4D+qrpbePBF8F4mX9bYL8MONWA8CASc59Deva2+Eq\n",
       "q69tY1u52bX6FzHjQb2/7vNvGLoh0QpEvxctc+0dhecJKhD7AVoBMbnnAjLn9g/oCC+WbRzcMgBP\n",
       "Tc/KDQyysLDh0GVoVfSUMABiEbxNGOZBfTUz6cvwbvEQxNf7e5K9aUFUzK1JPBm1s9RBtQbm0Hbb\n",
       "xmLglbMQPwRN54j+JeG9qNnvRdJWljSwhmsQHwcrDAYBsP8uRwxccN4gWK3JQ15iYxyiLBnEsR2s\n",
       "o4QBEFm7B2+9rlDt5EvKFMSbS8F5vULYLJG3HCbZl0f6rvtrkOKPQjMDCZL239ZZFw2ItIn7Xfnn\n",
       "77kpS2kRU4HbNlZKklXh6Eu82wocFipegSiDSknlHYWcXflbKUwykO4K5fGd0rcbOkIPYscZw4br\n",
       "kphy4/z15x+u/O5f/5ZV8NefruafP8ovV4rJsuAYegxaxI4SoiSx0B6IRfAViLIBUYNqKQMDqxiL\n",
       "AkOcB2VV6UaWeATEpr+GtZ7m0xBuZ0R46+qvLeKUDcSORRS8AFTlpCHogggiiDpOktUx7YOIYhqN\n",
       "lT9frCwiJg8VQ2W0SZB0+t/x7JDHJDqJ/MyZXK2YIkuAQQ8a244SBixiEfwhiJYalWdJBg8yDChl\n",
       "BFzbN8i8Jz8BsemvyaV0DmXzEHZUqpmaBkAUzmXCuA8ireOFWRfD2rTZgJgtotyxiDFdIRaJVrni\n",
       "yvrPT/KIIVcSBiiJ+qdZRBmm9NzjcHQVSMXjjqAHNdZ1TwkDIBbBH/mILuVXZETBdfHjgIyFplrY\n",
       "IA+5nKmUs/0vHui79IeRAohlpFzsmgcCjlagGrsve8FKEzVjaz290UY7s9/EC+Hsv9NmA+IEZXYE\n",
       "ggux8hHTXjRX1YqsQARgJKGNPV2GT/r5eYYTDUfXEp0KVtaBVEpow6njuDxyEVdKGIma94IV1Vaz\n",
       "kjOm2quJ6naj0dTKoMWgRcz9uZOjclQMZjyB1HYW/mi03ssU07QXNoIaRL1QLGGTTxX76TIUs7Wb\n",
       "Nom2CKJw/p0b3D8LzvyObpqMRn6wqjZkwS7U/jDXI+kbtz70XK87GxyvXiR3xgpB5BvziH7XwNVm\n",
       "VSRYy9JXwj615SGBfvpmG8OYLIbz0axJ9K6aUDWIVmuAjIGY+5MyPSTn1a/KLShpu8K0HmLCoB+O\n",
       "Q9lYRGmtjpZqz6VBDct0ThnCVRtqFmioJvardWAW54kxiZCJHrz0ecTZFGcbLomxau3MYg0iNmT7\n",
       "SMsGRGwAosyAStb8AMDcahcblI8pT4GI6A6I7o819S+LBK0sO0rYCz7du2OaYjehLbqGMjFm9yQU\n",
       "smTEFx1AxCiFIE9BrGMFYGoXMT0fHqOIaghLoTP8eCNSibUPnDUfeYBxPMU5d8QSiFx6xNdB55qC\n",
       "PvfA7O4RH94F0RNowmUlihqLaHc2MJJHrHdVl7ZViS1nzmFcUdFqV0MITdXUOzmS8ASISr5Rv9FU\n",
       "vfmhh18XxJ3q6CJWe3dJgCoRUjuD+s79OxdRKOysqX9uyHn3/rUP51E9BPKGVmy1UwK6I88jEvY2\n",
       "9abni14A8dzZiLz0Yug5WQ4K3hC385iiDyeI38pibMsITa5WCLleBVFYvwwgl5hxlpBKH1T610wq\n",
       "5RzRPIQyxjpOhJtOtKJPgIjJ29SbGH8BxFNnIyl4Hs07P1tHy6c+xaUSvCFuUbsWcd0Dcg7c6PQ/\n",
       "vCqgd14PDJGCRmvKD7h8Y48WHLEoLC5e+MJVASbNweln6IWWQ7vucVmOC14TJ8o1vs/dWalDyVdv\n",
       "SqjP7SHvKR//yBHwtRqriUN8+jyIauf1kGVfxA+Ij8HzN5kxmal2fvzOBedvAxHq/wDEc0EX/wHx\n",
       "oe8SbzJ7r89l+voXnL8MxNps3+WzbyD9AXG/5JvMzOUX3KlN/4Lzl4FYGcTbgHjvT6V7N4jpJrMF\n",
       "0X0HqwvOXwoi4NP9QMxPWv+AuGsROWhA7Fxw/ioQGWR3BPGFe7f/Qx8x3WT2ILq9uH/B+ZtAxLOe\n",
       "3gfiGz8qun8r6S4gvvsztMNNZmwWaTdkd2jVueD835f6w7KJ6lbfoLB7xys/pd3hNgm5fwEc3JLr\n",
       "lXxEZwAAAABJRU5ErkJggg==\n",
       "\" style=\"display:inline;vertical-align:middle;\" /></a><br>"
      ],
      "text/plain": [
       "<IPython.core.display.HTML object>"
      ]
     },
     "metadata": {},
     "output_type": "display_data"
    }
   ],
   "source": [
    "interval_bijection = Forall(\n",
    "    N, Forall(\n",
    "        (a, b, c),\n",
    "        InSet(Lambda(x, Mod(x, N)), \n",
    "              Bijections(Interval(a, b),\n",
    "                         Interval(zero, subtract(N, one)))),\n",
    "        domain=Integer),\n",
    "    domain=NaturalPos)"
   ]
  },
  {
   "cell_type": "code",
   "execution_count": 37,
   "metadata": {},
   "outputs": [
    {
     "data": {
      "text/html": [
       "<strong id=\"interval_left_shift_bijection\"><a class=\"ProveItLink\" href=\"proofs/interval_left_shift_bijection/thm_proof.ipynb\">interval_left_shift_bijection</a> (conjecture without proof):<br></strong> <a class=\"ProveItLink\" href=\"../__pv_it/theorems/a85e1cb5471513de5fe0f026d8027055e06561940/theorem_expr.ipynb\"><img src=\"data:image/png;base64,iVBORw0KGgoAAAANSUhEUgAAAr4AAAAmCAMAAAAV82hAAAAARVBMVEX///8oKCgbGxsEBAQGBgYf\n",
       "Hx8WFhYNDQ2IiIgiIiIQEBB2dnbu7u5ERETMzMzc3NwyMjK6urpmZmaYmJiqqqpUVFQAAAAil92L\n",
       "AAAAAXRSTlMAQObYZgAAAAlwSFlzAAAOxAAADsQBlSsOGwAACY9JREFUeNrtnQmbszYOgOm23Rp8\n",
       "n///p65PfGCIIWSa7MRPO2T4iBDyiyzJhpmm+5oytsnpNU2o6Ze1l5rzc5pwZkD+I2Kot/sue+sX\n",
       "XoT+df2m9PRtoS2RUzKj3u63t7dk0xffL76T1J+IL7lX0V+PL6rcgXh4xNvgO2H1gfgyOH3xvdEb\n",
       "ADAXv84Pj3gffFGJ7Ifgqwz64nuv7AJOsDw64o3wrZKgD8F3/o3O96fw5dpAaDkAEkD0/vhSQz8M\n",
       "X/Irne+PeV/ivS/mdmSe3x/fCcMPw1fjNMzNMzn/ddpsz3/zzkaHL6U0J+L84ukUHcKXGI8GGMD3\n",
       "si7XFS85lcuH4bvW7uEVuwFVb080Du6/mFXmw4spzAkYv9pTRGO0gy82xsCIb4BCi7jvAN8ndLms\n",
       "eMkpNarYnW2k5B343ihvjR3oE/gqWG/PoX/6EsC81EoCC4T3s5yZBaMs8wS+51NXhJcVP6wfel8k\n",
       "g/dlj73vqguEQIwOTxsjHHX3OjWRFa/c7CyK3WK1IqN34HujvDRamOk6vojV25ONnXY01LRKYhO7\n",
       "IfZLlHkCX3ghDmXi6NslnMhMhEzM+jRaYLKHb5LmjkfzcBe3RtjrLi3Yeq9mxSt8BSt2k2Qkim8J\n",
       "Hm6Ul0Jf9gS+Qtbbzmh+5GGlOB/qNEpyhePwASuZL8Y3D7Hbb1PIDMyOFgqnGQSFN22O2OIr/QaO\n",
       "9vHGCAee+hG+wJS7k4OB6hZ8b5SXlNRn8AW1Q1iabUdrMJrzXsMXIh6iSa4qmfXFADzbxm7Dl+d4\n",
       "Az5TQwC0j28Y2Iejmq0RruOrDCl2y+h9np8kDPa+T17iAT7AtzKhqvylYvX2NL5MPouv1WdeQhdW\n",
       "MsuL4Qyge71v8ZWn8FWiL9iIkJYM+qitEa7jm0/qdy/uvp8XeBO+98lrCw+xxxEAGhGYvXvdPdVv\n",
       "AtZbP0ZKcoRvLR5WeQ9hi6AAYDBx+zNoI+ygy9dsBpAOvtJfQg5GdYMv7YbYHXyphoAOlUOYtpeh\n",
       "nsd3M6McpKGErxzGtzHCdXzRelK/W/jexOgufG+TtymUhB63FgAaTGLuW1jhjvNMWzpbYQIf4VuL\n",
       "b1euzI4J22s81pqIz158vRQtTlHY4OtHSzOXUV+QWeDbT3IzvilZ4Qt1SdCAZZGxdwQK4SZYnurU\n",
       "JrwNutAwJBIzVlrsGGEA36x4HcKtJ/W7qU4/hkemQ3zPy3tQN6vxldTdyWjScsdBgOLOmVWzdaov\n",
       "4ADfRrxq+h773w32ipE0n+0/YtarPPjRUtidudgfZJb4HqdudAm6IL8VI840BKXhQql5KgsBlSOK\n",
       "uqz4jo2xHSMM4EvrKGEbTYbdTr9kTI69a+aMlb1KZwG9v9HJQR3Zu5RXD71HiapeMBT2v20Swit8\n",
       "SVU7ce2f/85VM/kbqQgbt6LyXCJEOSHYSaw04olp8MWrAR2z6d6yO1BwCqjBV4SOwEXUF2RmC5El\n",
       "aY673oDFI4VZ78CHgzUr+hlppnIh0Z3n77/+dO0//vMfq+H+/svt+efP/I+NOVddUEzEBr1vxwhR\n",
       "k9hID9+seIOvqPB1/mftMKCXIuMkQGMX41lTujMLNIJvJa8itGf5dAo3CkO0TWFa7ztt/GfjjjjL\n",
       "ADX4LngodSvE86WLL4j4qti1tmdIH18Yy55UNDIzvggfmpOI6P+89siMVA894zxaDrJnZnlLc2Zd\n",
       "AkJq0LF3jDDgfbPih/ha1uTaYSJExuGEQsTbQtkDxBo1PMC3kldh0ZnmX09hz0oUldMAvtwFdQj1\n",
       "8SVlHlQHD6jnLLb4luLb6n2D7+p9xY73jYUibnLyGGUW49P8oO4bqlThBNIMV33jWPPcclPSpJVx\n",
       "KizYQY6J7hlhAN+s+FHs60q0WUcYgit/njxnqojiNuWFrsYtxGz/5wf2zvIQlADSFUSX1OcSgGO8\n",
       "mpYVvRuD1pUHZD21HyDgTu9XeVBagxK3URTfx7cVL/EhvtMi1gAnhEZN7JtGy7nYHWQW+AIwDVQe\n",
       "kGdSs0k9nutyqqEYMsOnUrc2rUzTFsu0CeKOQ9/GCCOVh73UTda7aZ4ZIMqbiah6UFPE6qD4oPdd\n",
       "5blZxbxkAcxoAum7M/eT7bjKmhTpJdGgxFcZgsRS1b/5fqEy1b3iNtQc4EHhrBXf+gtW4std3OqE\n",
       "+adBqI9QdFVLWpcglk4zyCyzA6ZGCmfuHlRzeY8jw5oPKUyzSmDxwrqvH89QMZxmDVpd+kbYZz0v\n",
       "cekXzrYZnV7VcLGndb8+BC2mUx1XwiahY/iu8oRIy0m9+WUuRDmQEKlmbBHolzQWUXlfYX2VEnIv\n",
       "6KrZJHO9hVDKJrxuvG8jfq7uDaLNoonC9qcNzIyLMKmAUMd8Rvi675oF2tRjMYnM4j4NMkt8kcbb\n",
       "ZVwbfJEGkFANiitcl6/MdZ8gDddp8qfwhWQHX3exuvzHrEGty44R9hJ4d3Ss+uxOW/CuU05k2vEP\n",
       "hvok9k0FfBFMCdlDfMvMCegy9E3PesRcqjiFZdcNMmijUq5XXFjzkHLa/dW1h7Nu9AWLtqPM+mI4\n",
       "xLdOGneAu6fBn1vGvjtpjHbx9dzq8GgkgZX3tQMqGKn7luO+K7PLRKQbOpZ4H8YRojgFV0ROvVlF\n",
       "sTyBb1pzs7/25nDJjnjBa0KizBcv2fn/xXdndwx9i+giF6wlD0W1QXuv8l3oyyVyntuvlXNZi//s\n",
       "SyKwPAX0Tp1vrZPT2yvrfTGtt+ccJb6/U5LME/g+N28mbn3k/TldLipecbqzDNgnV9gPsrE+QDFJ\n",
       "oWNIQM/iy20QCaAriTmvS4RPsf1nKkIQup5Cam1DO8x0J3dTT+CbkkN0hUT8gseFkswT+D41b5YK\n",
       "ECO8jNx95qfe1lUoXnFq5K73bSVAF5iOQnP4sJDa+TxwipRC22HjwrNuaYkLPf/kD3gBvVHm5qmM\n",
       "Q3NSoS9CQ+GJbw7FBdd1ua54ySnPjxr/3LNuZWJ99lkp+XPj1Tu1H39JFHhbO5ecQjb9PL5y5/PQ\n",
       "KGL4F99X4Orf7IDwTJTLanZe+PBu+C7qX8D3uRSUffF9QRAe3+zgo1lXme2/8OHN8C2HiE95x9lC\n",
       "vvje3dY3O1BX2XEzev0XPrwZvoXz/Rh8f+P7UV+Nb3qzg8XXbUHzwoc3xRew6fPwvfDI2RffIe/L\n",
       "QIVv54UPb4UvXegn4nvijQJffEddQnyzg8fXRQv9Fz68E75oVtPr8H3hH2Og7Ne9pu/lf9sivNkB\n",
       "aSNsyOCmQTsvfPj3W/lHLLDs7v6ARn9j9vZt9Ri8KaD+DyvYm3p5yG2wAAAAAElFTkSuQmCC\n",
       "\" style=\"display:inline;vertical-align:middle;\" /></a><br>"
      ],
      "text/plain": [
       "<IPython.core.display.HTML object>"
      ]
     },
     "metadata": {},
     "output_type": "display_data"
    }
   ],
   "source": [
    "interval_left_shift_bijection = Forall(\n",
    "    N, Forall(\n",
    "        (a, b, c),\n",
    "        InSet(Lambda(x, Mod(Add(c, x), N)), \n",
    "              Bijections(Interval(a, b),\n",
    "                         Interval(zero, subtract(N, one)))),\n",
    "        domain=Integer),\n",
    "    domain=NaturalPos)"
   ]
  },
  {
   "cell_type": "code",
   "execution_count": 38,
   "metadata": {},
   "outputs": [
    {
     "data": {
      "text/html": [
       "<strong id=\"interval_right_shift_bijection\"><a class=\"ProveItLink\" href=\"proofs/interval_right_shift_bijection/thm_proof.ipynb\">interval_right_shift_bijection</a> (conjecture without proof):<br></strong> <a class=\"ProveItLink\" href=\"../__pv_it/theorems/86b3239604a2544ab121313472e49e4a443ee44e0/theorem_expr.ipynb\"><img src=\"data:image/png;base64,iVBORw0KGgoAAAANSUhEUgAAAr4AAAAmCAMAAAAV82hAAAAARVBMVEX///8oKCgbGxsEBAQGBgYf\n",
       "Hx8WFhYNDQ2IiIgiIiIQEBB2dnbu7u5ERETMzMzc3NwyMjK6urpmZmaYmJiqqqpUVFQAAAAil92L\n",
       "AAAAAXRSTlMAQObYZgAAAAlwSFlzAAAOxAAADsQBlSsOGwAACZdJREFUeNrtnQmbtCYSgM0m2aDc\n",
       "5///qcspoGjjNeneaZ5k7I9psSxei6oCmWG4ryhjixyeKUINv6w8qs7PKcKpAfmPiKFW9V361g/e\n",
       "hP51/ab08C2hTJFTMqJW9dvrW7Lhi+8X30HqT8SX3Cvor8cXVeZAvPzG2+A7YPWB+DI4fPG90RoA\n",
       "MBb/HF9+433wRSWyH4KvMuiL771tF3CC6dU33gjfKgj6EHzH32h8fwpfrg2ElgMgAUTvjy819MPw\n",
       "Jb/S+P6Y9SXe+mJuR+bx/fEdMPwwfDVOw9w4kuOn08Xx8Im3Ftp9K6U6EecnL6doF77EeDRAB76n\n",
       "ZTkveMmpnD4M3zl3D8/oDaj62F84eOBm5kZf3kyhTsD42Z4iGqMNfLExBkZ8AxRaxLodfC/Iclrw\n",
       "klNqVFGddaTkHfje2N7sO9AL+CpYHw+Rf/wOwDjVQgILhLeznJkJo9zoAXyPh64ITzN+WL+0vkgG\n",
       "68teW99ZFgiB6B2fVkrY6+55aiILXpnZURTVYtYio3fge2N7abQww3l8EauPxwo7bmeoWQqJTeyG\n",
       "2C+x0QP4whN+KBN7Z5dwIjMQMjBr02iByRa+qTX3fTR2d/FSCVvdpQWbn9UseIWvYEU1SUqi+Bbn\n",
       "4cb2kuvLLuArZH1sD+hbv5TihKuzEJIrHIcPWDX6ML55iF2fTSEzMBtaKJxkEBTWdPGNNb7SH2Bv\n",
       "H6+UsGOpX+ELTFmdLAxUt+B7Y3tJSH0EX1AbhGlxbAsOekLek/hCxIM3yVXVaH0zAI+2sNvw5dnf\n",
       "gFdyCIC28Q0De7dXs1bCeXyVIUW1jKbn+iRh0Pd97SUe4At8KxWqymAqVh+P4svkZXytPOMUurBq\n",
       "tLwZzgC61/oWp1zCV4l2w0aEsKTTRq2VcB7ffFFfPbnnfpzgTfje194y8RB7HAGgEYHZutfdU/1L\n",
       "wPq4OreNrx1IpX/EYR32EDYJCgAGA7c/gzTCDrp8jmYAaeAr/S1kZ1Qv8KVNH7uBL9UQ0K58CNP2\n",
       "TtV1fFczyqE1lPCV3fgulHAeXzRf1FcL31EY3YXvbe2tEiWhx60GgAaDGNsaVrhhPdNxdW4LXzra\n",
       "KwrfzGrhyuiYsL3GY66J+OjF50vR5ASFC3z9aGnG0usLjRb4toPcjG8KVvhEXRDUoVlk7BOBgrsJ\n",
       "pkudunBvgyw0DInE9OUWG0rowDcLXvtw80V9NdXpR/fItIvv8fZe5M1qfCV1TzIatNwwEKB4ckZV\n",
       "HdfntvD1c9STr1PLrse+wmAvGEnz2f4jZq3Mgx8tha3Myf7QaInvfuhGpyAu8kfRY0yDUxrugZpL\n",
       "UQioDFGUZca3b4xtKKEDX1p7CWtvMlQ7+ZIyOfammTMGKnskoLc3OtmwPX2X7dVD716gqicMhf1v\n",
       "HYTwCl9S5U5c+ee/Y1VMPiMlYeNxda4Ijk7wd6L4ojBvxCzxxbMCHbPp2bIVKBgFtMBXhI7AhdcX\n",
       "Gs0aIlOSHDetAeNJsPnhejlYs6KfkWYqJxLddf7+609X/uM//zEr7u+/XM0/f+ZfLtQ5y4JiINZp\n",
       "fRtKiJLEQlr4ZsEX+IoKX2d85j4FeioiTgI0dj6eVaW7skA9+FbtVYS2NJ8u4UZhiNYhzNL6DrNZ\n",
       "2bC+nGWAFviuz21Y36mAiE9tfEHEV8WutT1D2vjCmPakYtFoxhfhXXUSEe2fFwyZnuyhZ5xHzUF2\n",
       "ZZa3VGeWJSCkOg17Qwkd1jcLvouvZU3OHSiCZxwuKER8LJT9gpi9hhf4Vu1VYDSm+edL2KsSReXQ\n",
       "gS93Th1CbXxJGQctnIf1uWt8UWlRVsn7Bb6z9RUb1jcmirgRcNFoMT6NL/K+IUsVLiBNd9Y3DiPX\n",
       "lpuSRVgZp8KCHmRf0y0ldOCbBd/zfV2KNssIg3Plr5MnTRVR3Ia80OW4hRjt/3xH37k9BCWAdAbR\n",
       "xf05uneMV/OyovVg0DrzgKyl9gME3Oj9Kg5Ka1DCsXFuw/rG6/kblHgf32ESs4MTXKOF75tGy7Go\n",
       "Do0W+AIwdGQekGdSs0G9nutyoqHoMsNLodsyrEzTFtOwcuL2Xd+FEnoyD1uhm6yraZ4ZIMqriah6\n",
       "UFPEyqB4p/Wd23OzinnJAhjRANK5I/eT7SUekirSCqJBia8yBImpyn/z7URlSnzBmGVfndvAN+Qc\n",
       "ICkTbrk3S3y581vd9/zbINR7KLrKJc1LEEujGRotowOmehJn7hlUY/mMI8MWH5KbZoXA4sG8rx/P\n",
       "UDGcZgmWsrSVsM16XuLSTpytIzo9i+F8T2t+vQtazKU6roQNQvvwndsTIi0n9eqXORPlGEGkmq5F\n",
       "oJ3SmERlfYW1VUrILacLVk8AGcvj1rmLzAOEUkYffKzNBdFm0kRh+9M6ZsZ5mFRAqGM8I3zed9Q5\n",
       "9JhMIrN4TkOjJb5I4/UyrhW+SANIqAbFHc7LV8a6T5CG8zT5JXwh2cDX3awuf5klqGXZUMJWAO++\n",
       "HRNDm9MWvGmUE5l2/IMhP4l9UQFfBFNA9hLfMnICunR907seMZYqLmHZdYMMWomU8xUn1jykmHZ3\n",
       "de3mrBt9Ys12bLS+GQ7xrZPGDeDuKfDnlrFvThqjTXw9tzq8GklgZX3tmAt68r7luO/S7DIR6YaO\n",
       "KT6HcYQoLsEVkUNrVlFMF/BNi252F99sLtkRT+wSEht9eMnO/y++G9XR9S28i5ywljwk1Tr1Pbfv\n",
       "XF8ukbPcfq2ci1r8Z58SgeUloDfqfK2dHN6eWe+LaX08ZCfxA52SGj2A77V5M3HrK+/XZDkpeMXp\n",
       "xjJgH1xhP8jG/ADFJLmOIQA9ii+3fiaALiXmrC4RPsT2n6kI/uV8Cam1de0w043YTV3ANwWHCJ9H\n",
       "/9aSGj2A76V5s5SA6OGl5+kzP7VbVyF4xamRm9Z32QJ0jmkvNLsvC6mNzx2XSCG0HTZOvOuWlrjQ\n",
       "w6/+gCfojY2u3srYVScV+iQ0FB44s8svOC/LecFLTnl+1fjn3nUrA+uj70rJnxuv3qn8+CZR4G31\n",
       "XHIK2fDz+MqNz12jiOFffJ/A1e/sgPBIlItqNjZ8eDd8J/Uv4HstBGVffB9wwuPODt6bdZnZ9oYP\n",
       "b4ZvOUR8yh5nE/nie3eZd3agLrPjZvTaGz68Gb6F8f0YfH/j/qhP45t2drD4uiNYbPjwpvgCNnwe\n",
       "vmfeOfvi22N9GajwbWz48Fb40ol+Ir4HdhT44ttrEuLODh5f5y20N3x4J3zRqIbn8H3wjzFQ9uu2\n",
       "6Xv8b1uEnR2QNsK6DG4atLHhw79fyj9igWWz+gMK/Y3R27fUY/Aqgfo/UMybeklM40cAAAAASUVO\n",
       "RK5CYII=\n",
       "\" style=\"display:inline;vertical-align:middle;\" /></a><br>"
      ],
      "text/plain": [
       "<IPython.core.display.HTML object>"
      ]
     },
     "metadata": {},
     "output_type": "display_data"
    }
   ],
   "source": [
    "interval_right_shift_bijection = Forall(\n",
    "    N, Forall(\n",
    "        (a, b, c),\n",
    "        InSet(Lambda(x, Mod(Add(x, c), N)), \n",
    "              Bijections(Interval(a, b),\n",
    "                         Interval(zero, subtract(N, one)))),\n",
    "        domain=Integer),\n",
    "    domain=NaturalPos)"
   ]
  },
  {
   "cell_type": "code",
   "execution_count": 39,
   "metadata": {},
   "outputs": [
    {
     "name": "stdout",
     "output_type": "stream",
     "text": [
      "Adding theorem mod_in_zero_set_int to proveit.numbers.modular theory\n",
      "Adding theorem mod_in_zero_set to proveit.numbers.modular theory\n",
      "mod_in_zero_set_int expression notebook is being updated\n",
      "mod_in_zero_set expression notebook is being updated\n",
      "These theorems may now be imported from the theory package: proveit.numbers.modular\n"
     ]
    }
   ],
   "source": [
    "%end theorems"
   ]
  },
  {
   "cell_type": "code",
   "execution_count": null,
   "metadata": {},
   "outputs": [],
   "source": []
  }
 ],
 "metadata": {
  "kernelspec": {
   "display_name": "Python 3",
   "language": "python",
   "name": "python3"
  },
  "language_info": {
   "codemirror_mode": {
    "name": "ipython",
    "version": 3
   },
   "file_extension": ".py",
   "mimetype": "text/x-python",
   "name": "python",
   "nbconvert_exporter": "python",
   "pygments_lexer": "ipython3",
   "version": "3.7.3"
  }
 },
 "nbformat": 4,
 "nbformat_minor": 1
}
