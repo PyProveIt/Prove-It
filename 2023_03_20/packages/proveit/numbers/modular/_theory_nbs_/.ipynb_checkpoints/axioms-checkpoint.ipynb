{
 "cells": [
  {
   "cell_type": "markdown",
   "metadata": {},
   "source": [
    "Axioms for the theory of <a class=\"ProveItLink\" href=\"theory.ipynb\">proveit.numbers.modular</a>\n",
    "========"
   ]
  },
  {
   "cell_type": "code",
   "execution_count": 1,
   "metadata": {},
   "outputs": [],
   "source": [
    "import proveit\n",
    "# Prepare this notebook for defining the axioms of a theory:\n",
    "%axioms_notebook # Keep this at the top following 'import proveit'.\n",
    "from proveit import a, b, q\n",
    "from proveit.logic import Equals, Exists, Forall\n",
    "from proveit.numbers import Add, greater_eq, Less, Min, Mod, ModAbs, Mult, Neg\n",
    "from proveit.numbers import zero, Integer, NaturalPos, Real, RealPos"
   ]
  },
  {
   "cell_type": "code",
   "execution_count": 2,
   "metadata": {},
   "outputs": [
    {
     "name": "stdout",
     "output_type": "stream",
     "text": [
      "Defining axioms for theory 'proveit.numbers.modular'\n",
      "Subsequent end-of-cell assignments will define axioms\n",
      "%end_axioms will finalize the definitions\n"
     ]
    }
   ],
   "source": [
    "%begin axioms"
   ]
  },
  {
   "cell_type": "markdown",
   "metadata": {},
   "source": [
    "#### For positive real-valued modulus $b$, $\\text{mod}(a, b)$ is the non-negative remainder $r$ when $a$ is divided by $b$ in the usual way, giving $0 \\le r < b$. This means that there exists a unique integer $q$ such that $a = qb + r$."
   ]
  },
  {
   "cell_type": "code",
   "execution_count": 3,
   "metadata": {},
   "outputs": [
    {
     "data": {
      "text/html": [
       "<strong id=\"mod_greater_eq_zero\">mod_greater_eq_zero:</strong> <a class=\"ProveItLink\" href=\"../__pv_it/axioms/1a195c26e09fcd51ce04d011e4569812c42fa84b0/axiom_expr.ipynb\"><img src=\"data:image/png;base64,iVBORw0KGgoAAAANSUhEUgAAAPEAAAAXBAMAAAAo+LSlAAAAMFBMVEX///+IiIgiIiIQEBB2dnbu\n",
       "7u5ERETMzMzc3NwyMjK6urpmZmaYmJiqqqpUVFQAAAB6qHgnAAAAAXRSTlMAQObYZgAAAAlwSFlz\n",
       "AAAOxAAADsQBlSsOGwAAA4ZJREFUSMfFlklo1FAYx/+ZyTJb2owgVVwoRbHgpYhQECtRbN0higgy\n",
       "hxnRRiguFbyI6IwLXgSpuCAIOqIeFKVzcK9orXioHozeBKEVVFQQi7jrwfe992bVsRlB/ODLJP/k\n",
       "5fe+5b0M8BcWku7DMjXJo9ok6T7sVHV5mE6e1gQ2beFVbcwsOmprGwGl/5e78ydkuHyDLo7VRF4t\n",
       "vXo1vvGfcI4djoghxQmEPa2ZyzvpyVRN5JvSq5sg13vs8ICfavOs/L0BoIPLYQdQvZrILdJHI/ey\n",
       "VyPoyAq0y3ubgCGH5BjLQ7i2MvcIH5U8jyc3n+cBif4OpD0uz2hqmlkTOWoLR+j5OMqhcehafE0k\n",
       "3gUk4tQ16twGQT4Rf8uuhvPjnlzjeSdyP5evAp0+eMVepunySE5n9I8kBN4ifR93YTRDt6C1QeVk\n",
       "7auTzCBWzM65FzTdD4xscfkAQsM+yLnCWcATrs1GtJEEvQX1KaS7AzaMz9B7ZG+bHxG0YBY74lxn\n",
       "nmxzWXfUbAnh8aJbB+l3m+x3c8rx11YZOZgVHh1BgGdCT6HeZmRWPnxAkoXNydEeko2RQrZf8Uww\n",
       "cq/FZdMqNJgx2c0qKhbS++rosOVlFyxb3ftbcjCFZDZPthh5iF19olQKMptWr4dIPuaBy4UOG5Jy\n",
       "z538O/u62aaj4B7FGGTnUdYDsKzYcizpm96Xrcg2C+4hSskU8/dizGw533ZgNlasKhd4KOVltM2s\n",
       "vLNQ7HSMPJbiS8dfYCI4WUmUxcy6iHvSw2szU0IO5hD5hnBK1rm+m3UCYqmKneQucF3Ke1iDac3G\n",
       "F6yiG4oaWkMzGONM0Pggy943sYxMC4Jct8zpUd7sgpw1WhG2EZqFuh8k1/XrObn+SnfPgKe1SrmO\n",
       "8pozWnCBk6PrOHADBiP8cetKR3lvG43CtWcLDjTQ9bs5OzbPUU9Owf75b9h1Ym7De1ot2nPaYgPZ\n",
       "ikWiXZrcXSIHs8owBl3X9RRFvUhKK27FjrruRpbtxV7ZesY06b5s9yhyMqPfc7bymJXIGdpqR9Bm\n",
       "2KLO59vLRz0ofAh8fl7+JAcz6QuO7vA6oz2n2ZjKeqBT1FlNlI/SM8J9/X0R28KKJrJplTKzyM1H\n",
       "SxFaTxvNeDtx3WjD9jiwjxUkcvCw1lf+faDO03x+WKvMsFJe6bqy8KZAdLhdvxu3S7oPG1eTzOws\n",
       "/pf1/3vETz7C7myEKd7XAAAAAElFTkSuQmCC\n",
       "\" style=\"display:inline;vertical-align:middle;\" /></a><br>"
      ],
      "text/plain": [
       "<IPython.core.display.HTML object>"
      ]
     },
     "metadata": {},
     "output_type": "display_data"
    }
   ],
   "source": [
    "# a mod b ≥ 0\n",
    "mod_greater_eq_zero = Forall(\n",
    "    (a, b),\n",
    "    greater_eq(Mod(a, b), zero),\n",
    "    domains=[Real, RealPos])"
   ]
  },
  {
   "cell_type": "code",
   "execution_count": 4,
   "metadata": {},
   "outputs": [
    {
     "data": {
      "text/html": [
       "<strong id=\"mod_less_modulus\">mod_less_modulus:</strong> <a class=\"ProveItLink\" href=\"../__pv_it/axioms/bbe843fed0d6b8641a75bd3f83bf4745b918f3fc0/axiom_expr.ipynb\"><img src=\"data:image/png;base64,iVBORw0KGgoAAAANSUhEUgAAAPAAAAAXBAMAAADHOt+bAAAAMFBMVEX///+IiIgiIiIQEBB2dnbu\n",
       "7u5ERETMzMzc3NwyMjK6urpmZmaYmJiqqqpUVFQAAAB6qHgnAAAAAXRSTlMAQObYZgAAAAlwSFlz\n",
       "AAAOxAAADsQBlSsOGwAAA69JREFUSMfFVl1oHFUU/jY7s7M7O5udFQXFWrbtiqEVWYNaH2yZlrbU\n",
       "/k5IKEggP9SONiqJ4IMiuptW+lLQFG0Rqu1K9aGlJUsJakxpUyRC7Ms2vvhQSAIqKIakYG2MBDzn\n",
       "3tnZznbX7AZKD5w7Z+6de797zvnOvQMsQ8Ku1iDZqgssRx5ztQb5omKvbgJTbNyoCzdmSa0mgTU5\n",
       "fqj7k2SPlo/ua6ZmBfAdv3xaF/BLrlaVjwQwInlqjt81epKHbLzPIe+qC/iSq1UlLoHjBWqu3TW6\n",
       "SGrkGRtKoS7gtKtLAQ/S0gjapRSJwOq3uH0WBiUhUl+KB6QuCbxZxNtLsrFO7EFJcvsZ0Lx69TN1\n",
       "AUctqfhwUz+/ax9/m+jWEz1Ae4IZsyWRkcCnEjOEM1WkXEr6HpleSQHeA3wDHKgBrsRi9oFVfx69\n",
       "Yq2GGWR+xPfQmhAy0VrAXsnqf+zOLAw3Nm2r3Omdx9V5YJz2jfBUDcB5z2ooSG0dxUXREUoj3oVM\n",
       "X4MF7TYOFlkdu4WgiZhkw9Eni9MnbTwN/ETTbCV3B8DEi5eP8fMdl+mx1MnfTR9wMCf1CpCSwF2I\n",
       "WwScod38pd4kp8SC0QHu1ubYbvzcmz5MHwEZWtn0uKWtdHIBBds5rI3cvPlbD0xL+aAi8HNQFzxg\n",
       "k4AnqfNvzQOmAAwWoKfLgFPQqaDOkDVwtdg30kccCGCMPQySHaX8wzSNFuwcWTeS84eaXDPmfMDs\n",
       "8b8lj6mMr9iIJctCvYgoFdQEWbv5cGm7ul0ebwT8EHuXSfzKBxsDB9p9HhOBWNVFNA78fCdwMA99\n",
       "ASeKOY73qS9QEXWVkes2kwM/kHWYuKU2afPYJ1ivhLt5Aw/Yj6pijmkdWeED5gJh7cZEXvRGJHBO\n",
       "W4+IhcM5zIrabRwN5d3CY2lZJcvpT7xG7RB/wEHNa2mcF8DRlwXe6xjXxXzz621+VmtJqR0Pvj3d\n",
       "x++zG9/r3aicTuHolj/Ih6FE5ilRTr/wudrgMdeQhdyxk5dd6xEmMIVxx3EKgYBygXvW47JxwnHe\n",
       "oFDvKPjqGE+4WpMcKplG6S4KJ4tVnQ2N2W8JjwP6l7yzOWzQLJnjc1v9a12rePb/z41S4fQrHqTB\n",
       "bOa8HbJFjrE1r1p4nFhxQOZYaffPCmWl1vSzUvniO+L9Ely6vgvhV8g6+4jVPqxtwLsJGqYU6sc+\n",
       "UUf8VwKTTq3xJq2ywVf9r22O41IhJhG2OT2VpvW7WoM8XPkfpWq8vsJ9ktF7jvAfxdfpiNpFoh4A\n",
       "AAAASUVORK5CYII=\n",
       "\" style=\"display:inline;vertical-align:middle;\" /></a><br>"
      ],
      "text/plain": [
       "<IPython.core.display.HTML object>"
      ]
     },
     "metadata": {},
     "output_type": "display_data"
    }
   ],
   "source": [
    "# a mod b < b\n",
    "mod_less_modulus = Forall(\n",
    "    (a, b),\n",
    "    Less(Mod(a, b), b),\n",
    "    domains=[Real, RealPos])"
   ]
  },
  {
   "cell_type": "code",
   "execution_count": 5,
   "metadata": {},
   "outputs": [
    {
     "data": {
      "text/html": [
       "<strong id=\"mod_is_remainder\">mod_is_remainder:</strong> <a class=\"ProveItLink\" href=\"../__pv_it/axioms/0ec40755491802eb15f0514dd75c6c3d4fefbf710/axiom_expr.ipynb\"><img src=\"data:image/png;base64,iVBORw0KGgoAAAANSUhEUgAAAY0AAAAXBAMAAAAFAw5zAAAAMFBMVEX///+IiIgiIiIQEBB2dnbu\n",
       "7u5ERETMzMzc3NwyMjK6urpmZmaYmJiqqqpUVFQAAAB6qHgnAAAAAXRSTlMAQObYZgAAAAlwSFlz\n",
       "AAAOxAAADsQBlSsOGwAABTdJREFUWMPVl2toHFUUx8/szuxzdjNbKqmYhrBGWixKrNqWYMqkmlqb\n",
       "WjZaAxLobrBdbVQaHx8UqTtV6Rc1btGKUNHV6ge10qWIWhPaLVIhBnQbBS0I3UAVKlajtLZWC55z\n",
       "753HTmbTaQmIF/6TnTsnM+d3zzn3AXDpbd6i2Z5GGvQbQhe3Nnx5YdiS0sOXgQFrZ3260LtbqnK5\n",
       "WkzztPTR3nJILkGN+n64RI796XS60/thQvfu/1bI0fqX4qXF07JhKrCvKve1IW7FFnJ8Rg9eu4x4\n",
       "NBj3e727lSJXXduNimY8LBsn7Xn2J1rGyy5byPE0Pc3NHceYd3e8wlXXLqDUsrjZ67Bs3DhHE6Xe\n",
       "hC3koPGQq3PH0eHdHRSqq40zdL1Z3B11WF6MYx8FMZixhBwq4kdhzjgSDbLimJCzyW10fd3FccwH\n",
       "xyqWXBVLyAFL0+mb5o4jTmU+0r3d3f+RUGSqp9nsi061YiKsd3EwqxMLaB4Lv/xpajCWGgIYSFEd\n",
       "y93NnOON1Cm8q1kijk8ANvtwXvfHQQMUWwFbKfDxNGs1c9RJbxvJadM2u0s5BzDu4iCrPUaI5Vzg\n",
       "FBS+hM8hvBhCGihdIDMO5a9M1gAVQy9EHCMQqfngKDs5JtG9Lrsjuax3k3gewBG+uwL73f9+HZdy\n",
       "CyStzDuegRsAvnFxcKs4y7lQBzTloDAc0CF8FkJFMV8lzkBQgwSWohBxhDJ0tdrkHQd30t8nxRyW\n",
       "aN99UnNzOOIRbs2XAobcJ6bPIL7rEEC7m6OTKz4NAYpslmAOAJwGKNBjXJBuTKevh3orCOWgSUeO\n",
       "QpVMsxgSxhEvUncYAytEBAnNKnPySZJhDb0jSZdHfhoCTZefm4VjFLcEKmx7AWyOZeJzHhzBHLxE\n",
       "oxag17VDDGfePa54cKtsyeTQkOM43v0JBZMDIfdVIYaxEGKRKB42P0Y+SRIcofEP4u841g5omtoH\n",
       "vaNLRktuDmVdS0nis33ZxMS8Un4HldWAsz5EXuGQfu1YPuJYBZMz88qyMjkoHn/b8cDl41AGEph6\n",
       "QozjTloUNxxew1Z44riCnCqkfuR7Bk2TBrzjcZdRMPrZb/VFc6NG5XgBa+B7VzwGubJV2GL1naVK\n",
       "gi9cHNzqZMJwcATLEDsP0Zyoj6ZhrCBQc5YYx7M4YMri8DlgPklyZJB45mWuUliJaPqOFm+OUXhM\n",
       "rMJ9srUm1MiTyXLZxbGeK6Spp62+X+BBMc86OZhVYkmczX6coxReDlEdIp2Q/IfNK5VQmU/xQowj\n",
       "SRlUDndwn6T4Jub+QzAeYzmjfbx6xnzF94md0Arj+Xy+CnoP3CNKDAO9cf4TU+6N9KNcytRCu3Q2\n",
       "9tIHrnVxMKvbR2iVCf+2ctvWlfKb7fD8bT/j/UB38x+UpcoJ2v0ESpasmSpYkmrcJ0mSP6Se5XBQ\n",
       "fTWffxjzam3Va/0AnPwH4XG2wfiuAj3iYYOzSWCYS5SOY+fX5uII+D1LPGPL4sgaoSMZ5pMkxd6h\n",
       "OXQausI6r4/3e7zPHytoTidbOQ4x050J74/SdpBtCZPFmRvIun2iWvbJMWbLjodR2JthPuG821NW\n",
       "dLgGy2czrw95wJvjg4lpiNyPP776df4Wcy0NNTjNPSAUdJ1Pdnha+mi0STdlccTGjq7jPr13pT5w\n",
       "INwFT6XwGxji2M5XlNGi93mQdgUb8vlS3fGhwRmgn4uS/SJe9/vjoAEzVbeSO31KcJ9W54c83rBq\n",
       "kXNT6G7bGwyfxuU+xBqelj7aAlvS1aUGRu/6etWtPlPgv2sV+J+1fwHgXXALkUN51wAAAABJRU5E\n",
       "rkJggg==\n",
       "\" style=\"display:inline;vertical-align:middle;\" /></a><br>"
      ],
      "text/plain": [
       "<IPython.core.display.HTML object>"
      ]
     },
     "metadata": {},
     "output_type": "display_data"
    }
   ],
   "source": [
    "# a mod b is the remainder after taking out integer multiples of modulus b\n",
    "mod_is_remainder = Forall(\n",
    "    (a, b),\n",
    "    Exists(q, Equals(a, Add(Mult(q,b),Mod(a,b))), domain=Integer),\n",
    "    domains=[Real, RealPos])"
   ]
  },
  {
   "cell_type": "markdown",
   "metadata": {},
   "source": [
    "ModAbs captures the concept of the arc-distance between points on a circle.  If $b$ is the circumference of the circle and $a$ maps to a point on the circle by traversing an arc-distance of $a$ from the origin then $|a|_{\\textrm{mod}~b}$ is the arc-distance of that point from the origin (the shortest distance to traverse between the two points in either direction)."
   ]
  },
  {
   "cell_type": "code",
   "execution_count": 6,
   "metadata": {},
   "outputs": [
    {
     "data": {
      "text/html": [
       "<strong id=\"mod_abs_def\">mod_abs_def:</strong> <a class=\"ProveItLink\" href=\"../__pv_it/axioms/b3417ae12c35839f49b23406fa037af6159646190/axiom_expr.ipynb\"><img src=\"data:image/png;base64,iVBORw0KGgoAAAANSUhEUgAAAcYAAAAXBAMAAABjWfIkAAAAMFBMVEX///+IiIgiIiIQEBB2dnbu\n",
       "7u5ERETMzMzc3NwyMjK6urpmZmaYmJiqqqpUVFQAAAB6qHgnAAAAAXRSTlMAQObYZgAAAAlwSFlz\n",
       "AAAOxAAADsQBlSsOGwAABa1JREFUWMPdWGuME1UU/qbtzPTdWaIsCi4bAioSsRJfARe6JiAPJYMS\n",
       "jFlDuyLVoISK/vAR2EHMmvhjKfKIkZWUoD806BZDFFwC3RhIiIlWfEQTE7sRNSQSlpcgAeO59067\n",
       "ne20zMAPE+/mzE6n57s933nd0wJXsfz0Zy4DV7+Ma1A2nNmJYUtdrpvgy5m386+eolS8BuUdTkBB\n",
       "TUiJvfjZlXGRhEuOPXfE2b9ZU431heGn3zVAjJrOrvKy1nrKUqExFEum0WWckM/Zg7ddcXwcbuPY\n",
       "fYku4ZMG+vKVZ3K2UZZd5P8C+brKW64AxTaG17msZY9Trjjud81x0WTm+oM65OFnoUIjhDA0Vqyr\n",
       "/OUVoLjM3Jrnwqj6iq44xt1zHE894hXiWLW8uDLHPr2usldvDA2eY9e7uYTJQwF35Zh1zzFJDtWs\n",
       "HH9ywPGB+sqBQmOoj5dyr5BpEybc5YpjKCE49rSvc8wxSrEvHNT9m0rqpr1Ng+zZHlYkx8Zo7P7l\n",
       "GetGaztG5yDvHks7+9qbhaHbm06IDfZUFxwH+UriVT1oYLCFsnMhuHwGLHdgZsLiQeIYvA+r9AYc\n",
       "QxP44qYsCl5GRKc4BkrwnECXYbp4p6HwlMLUonopF45jtYFOyG3wcUPlv/WkOAh7qzYWoHC5C9lD\n",
       "kdwiXwCOgEsP/CUHHIcboqfIOT5awCeO44ibIYE4KiUoccRYnt1OHO5HSJwOy4C/oJ7HRKAro2TN\n",
       "5hg5By+PM1Ou9GMBisTN1/ZQ/KLjTuBbcFH0SnGxdXTegY08B8xeG5m47bhm4ejNcY4HwbZ1ynG8\n",
       "8WaZYwoxtiEdY6EheER+pIGzZKhKzTCWSGqQuaGhLL3i75Oy/BbPi4wJUofMve2h2MceowtcIlql\n",
       "5agt6Zzkw1y2b5Rdnv99BbSE73U7jvfw3ZxyTCa0Wo7eFJK5sqGnyNAI7RhLdZUNJS59xTLHyscL\n",
       "UDA+zNEGSv6n+sBOCMkOlOH9GTrFJBxiJnjpPkS1Ck0LL8KC/in9OUuuyqcQHqrhKLWRp7bW1iNl\n",
       "aGEER0o/8vrXFkN5MPKVYNDxaPbiqlw1QZFWNILS8Riiqj0KIQ+zkWHxwFwxHxHH61nMupp+46MQ\n",
       "cZQ6LHFUNM7xMqLZH2vi+C7JMZs4Bv/RR3DsJHOLOB4xqgzFDDoTc4GUWVSxDBUfHxs6qzgKUDhl\n",
       "5TgCivOsYeAwhKwnV8u3qhewhEfC5+9kXEfpY2W+jZboHmfhyLo25WonjubzNRxXktxbw/FjUGqD\n",
       "ZjkiGDA5LmTeikwJcYWt3NCLeCGDzfBPR5QNf4gWlDySWaE87GIOCpUbvT0Uf+JZ88xhEmVZmVfj\n",
       "2MU5hp7i1J7DkSA/ZrVP51j7qtrKOS697qXBDObLT65peeKrHKSB2UDTAMVRPdUyYgbpntWLG9Ey\n",
       "a/sbv8587OTMNatm0sPV5NnBB3uamcLaM3/8cKY073TCv2chlURHe/NpluPyMRobPZOEcqWvCpDH\n",
       "LJ06UCxdwKy/zRTRR6QSjqTT6aIk+T4CD8aB8NZ0eiXl6vyi5XzELZY5Z0MxkKLiWIFHmG+pHqVJ\n",
       "Ut5BH/JkHM4c39sqv+boC2SrEJHkhnJIf5HHUQq+x8IwhDY1Ierxw9k143A1R11JqHFq5Yq2QWf1\n",
       "qBTCWQefH8475JiwVd7vaCQrVI3zXqNrl67ovB4xOy8nMImKermoR1+HFakYFo6IamqcBo1ovo/3\n",
       "HG8m5GSowDPOKMqanbKzr0rdpogpff83D8H/NN19cEOiY5/ahleb6G3KkODGzXK/NS7Ui2o4UhwD\n",
       "Zhxj8Dr6HrPE4S8AtsqK4dSNI7yzOJ02bY8IMnPSK+yg6yCV66OZOCrEkcit16MFP9WjRz/s7Fch\n",
       "zc1PSCOUxzhyjyHEfr3v+MPlk/kv3uk5C1/TXqB9YHIG6m43xv93q4D/0foX3LLFixx3QhcAAAAA\n",
       "SUVORK5CYII=\n",
       "\" style=\"display:inline;vertical-align:middle;\" /></a><br>"
      ],
      "text/plain": [
       "<IPython.core.display.HTML object>"
      ]
     },
     "metadata": {},
     "output_type": "display_data"
    }
   ],
   "source": [
    "mod_abs_def = Forall(\n",
    "    (a, b),\n",
    "    Equals(ModAbs(a, b), Min(Mod(a, b), Mod(Neg(a), b))),\n",
    "    domains=[Real, RealPos])"
   ]
  },
  {
   "cell_type": "code",
   "execution_count": 7,
   "metadata": {},
   "outputs": [
    {
     "name": "stdout",
     "output_type": "stream",
     "text": [
      "These axioms may now be imported from the theory package: proveit.numbers.modular\n"
     ]
    }
   ],
   "source": [
    "%end axioms"
   ]
  }
 ],
 "metadata": {
  "kernelspec": {
   "display_name": "Python 3",
   "language": "python",
   "name": "python3"
  },
  "language_info": {
   "codemirror_mode": {
    "name": "ipython",
    "version": 3
   },
   "file_extension": ".py",
   "mimetype": "text/x-python",
   "name": "python",
   "nbconvert_exporter": "python",
   "pygments_lexer": "ipython3",
   "version": "3.7.3"
  }
 },
 "nbformat": 4,
 "nbformat_minor": 1
}
