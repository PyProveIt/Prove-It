{
 "cells": [
  {
   "cell_type": "markdown",
   "metadata": {},
   "source": [
    "Proof of <a class=\"ProveItLink\" href=\"../../../../../_theory_nbs_/theory.ipynb\">proveit</a>.<a class=\"ProveItLink\" href=\"../../../../_theory_nbs_/theory.ipynb\">numbers</a>.<a class=\"ProveItLink\" href=\"../../theory.ipynb\">ordering</a>.<a class=\"ProveItLink\" href=\"../../theorems.ipynb#min_nat_n_zero_is_zero\">min_nat_n_zero_is_zero</a> theorem\n",
    "========"
   ]
  },
  {
   "cell_type": "code",
   "execution_count": 1,
   "metadata": {},
   "outputs": [],
   "source": [
    "import proveit\n",
    "theory = proveit.Theory() # the theorem's theory\n",
    "from proveit import n, x, y, defaults\n",
    "from proveit.logic import Equals\n",
    "from proveit.numbers import zero, greater_eq, Less, LessEq\n",
    "from proveit.numbers.ordering import min_def_bin"
   ]
  },
  {
   "cell_type": "code",
   "execution_count": 2,
   "metadata": {},
   "outputs": [
    {
     "data": {
      "text/html": [
       "Under these <a href=\"presumptions.txt\">presumptions</a>, we begin our proof of<br><strong id=\"min_nat_n_zero_is_zero\">min_nat_n_zero_is_zero:</strong> <a class=\"ProveItLink\" href=\"../../../__pv_it/theorems/feb316f151e2b66ea0a3ac1d6a23e334f77e59780/expr.ipynb\"><img src=\"data:image/png;base64,iVBORw0KGgoAAAANSUhEUgAAAMMAAAAVBAMAAAAJNkerAAAAMFBMVEX///8AAAAAAAAAAAAAAAAA\n",
       "AAAAAAAAAAAAAAAAAAAAAAAAAAAAAAAAAAAAAAAAAAAv3aB7AAAAD3RSTlMAq1RmmUTNIjK7EInv\n",
       "3XZ/CtNrAAAACXBIWXMAAA7EAAAOxAGVKw4bAAACyUlEQVRIx42VTWgTURDH//nczUuyza0aqkRE\n",
       "iD3YKPVWtVCVggg5eLM28ST1FC+CX7W9eKyp0EOk4KrgxYOL4KF4ieihoEILolUobLVUqigFtZE2\n",
       "ivP2K7svWdM5hLe/zLz/m5k3u8B/TdoyL7V2LKGdfdwyH27tyHGKL3b77BTUpB11vkj86ZSeu7nH\n",
       "7elyCUquKdrGx/jDOR+JB1SSOzx2fw2Rnx7usmiGvQPOi8EOHueVLftIDADsW5EWyxuA6uEuOwTM\n",
       "AL1isIOjFBnP+EhUSeJ7DZBPbYjcZZNAj4qEKgQ7OER1iPq1ghJgX6hASnhD5C4jh5sZRMVmNPDr\n",
       "xcWXPhJh6irTu4AQSVx8hhsvRpd0iw+nr6zqhhfje+UQT3mDXXgQuO0jwU/A9EIG3TyLs8B8Rq5Z\n",
       "XJvUWc2ckU3aS0fISO3kIrd5L74Aya0vvXmCPgskM1wiWYbOJai208APk0fy7yH9bkhoCFaF6Wzg\n",
       "mBrP23hi+xR2xdWw1blEnksoNSlvSVSAvyZn7BeCZoMY7VXQIa8JhWrgoO50OzzIx1Dvj8MtwTYV\n",
       "NEkguIZA0elrD+VVbW63jYuHqZ8DE8vAJ/5Pds+oLWEWCtMhQYJz2r8jZ2ZL9IiK4Jy3F278mAbw\n",
       "/lAuUWLGBGbj905bEjHdkCikBQnOExrdeo1xtz7gOJ1SnF8XvkrNvbyCDjVi3Ows+lctJ37hIikk\n",
       "ygjUjP1HTAnOr49hJTT2qGgkxWbNm+wxFw6M0c9ODCE0UqncIomHdnPkOUjT6zklr3Std46/So/X\n",
       "t+2tpwyOM8DdA0h+4I09sURbJPOChIhncVSWNTOLyD6bLvgMTIN3O6trrV0dLK1hIWuO4EFgyca9\n",
       "PhINrvm8GpsxVfxrDpcoMfltCQEbx3w+Wg5nunPI1m9rEbOZypQX+LzlHa6gzWlibb+so1vmn1s7\n",
       "Ev4HBC7iNBsZJCMAAAAASUVORK5CYII=\n",
       "\" style=\"display:inline;vertical-align:middle;\" /></a><br>(see <a class=\"ProveItLink\" href=\"../../../__pv_it/theorems/249f64f3f3dbbe90e773d416a532a182576790410/dependencies.ipynb\">dependencies</a>)<br>"
      ],
      "text/plain": [
       "min_nat_n_zero_is_zero: forall_{n in Natural} (Min(n, 0) = 0)"
      ]
     },
     "execution_count": 2,
     "metadata": {},
     "output_type": "execute_result"
    }
   ],
   "source": [
    "%proving min_nat_n_zero_is_zero"
   ]
  },
  {
   "cell_type": "code",
   "execution_count": 3,
   "metadata": {},
   "outputs": [
    {
     "data": {
      "text/html": [
       "<strong id=\"defaults.assumptions\">defaults.assumptions:</strong> <a class=\"ProveItLink\" href=\"../../../__pv_it/_proof_min_nat_n_zero_is_zero/35f3a9e86686d0426394ec24c7b002b9cbad74f60/expr.ipynb\"><img src=\"data:image/png;base64,iVBORw0KGgoAAAANSUhEUgAAAEEAAAAVBAMAAADrxp6XAAAAMFBMVEX///8AAAAAAAAAAAAAAAAA\n",
       "AAAAAAAAAAAAAAAAAAAAAAAAAAAAAAAAAAAAAAAAAAAv3aB7AAAAD3RSTlMAInZUiRDNmWbv3US7\n",
       "qzJazP2FAAAACXBIWXMAAA7EAAAOxAGVKw4bAAABV0lEQVQoz32RPUgDQRBG3yW5/FwSudrGCNqp\n",
       "pBArIWKlhXC2YkhAApYWFpbBxk5S2NkExOaqQ8TG5lSwUJBEUcQqlaJVGsGAiLMbQ3JwZmCX3fne\n",
       "zuzMADb/m9Yi+RBl7fvaYbnjnajLbOjjq3QDs02kCmY5lHixl6AGFUhUQ4kHP25Thz1IBZUp19VB\n",
       "m7tGWREph7kAcDb5d2hmWxOKiFfZhvT06uKl9huVHtrEz3hCxBpsyp65p6Qrj9t94s08FiJZ5gjO\n",
       "LZ+xliboE8n8vNQSrXEITsmj4Cj/uyvmdwkes0KMtBVBAZ70y/WBGBRNyZKuqSxK/jKV3xokRnIS\n",
       "LVpHFXFA9DOmZ5TrEXeyZoRI+qxIjT9Eyvta2OgR6pCQ3iUW+JBcdczn7oSLt/rHvHb87sgsD6sV\n",
       "aOrpjRsY5agk2mKY7ci6GAYYfqAHIZZRYzByQ4hx+AV911Lj3WEyXwAAAABJRU5ErkJggg==\n",
       "\" style=\"display:inline;vertical-align:middle;\" /></a><br>"
      ],
      "text/plain": [
       "defaults.assumptions: (n in Natural)"
      ]
     },
     "execution_count": 3,
     "metadata": {},
     "output_type": "execute_result"
    }
   ],
   "source": [
    "defaults.assumptions = min_nat_n_zero_is_zero.conditions"
   ]
  },
  {
   "cell_type": "code",
   "execution_count": 4,
   "metadata": {},
   "outputs": [
    {
     "data": {
      "text/html": [
       "<span style=\"font-size:20px;\"> <a class=\"ProveItLink\" href=\"../../axioms.ipynb#min_def_bin\" style=\"text-decoration: none\">&nbsp;&#x22A2;&nbsp;&nbsp;</a><a class=\"ProveItLink\" href=\"../../../__pv_it/axioms/752760836d3f86f4583cb4dcf21cfa9aec6caa870/expr.ipynb\"><img src=\"data:image/png;base64,iVBORw0KGgoAAAANSUhEUgAAAVoAAAAyBAMAAADvrw7GAAAAMFBMVEX///+IiIgiIiIQEBB2dnbu\n",
       "7u5ERETMzMzc3NwyMjK6urpmZmaYmJiqqqpUVFQAAAB6qHgnAAAAAXRSTlMAQObYZgAAAAlwSFlz\n",
       "AAAOxAAADsQBlSsOGwAABg1JREFUaN7FWlts21QY/t3acWI7mVtUhNap7QoIARoq436rMsQmgbSR\n",
       "jsseKq0ZFQVVopQVHvZAGyhU4mUEMSakAQqPgFC6jnIZFaR9QCAEtYAhTZtEtqxllXgotGVZWyaO\n",
       "7fj4cmznZLbgqEnaP4nPd/7zX77zuQCU4ykINsbSgb7OPVnLpxOFYGCZtVSwC+yv5fvnArr2YffV\n",
       "ShtpLxBvo59MygYDK6yRtlG0gHdHcrSX2EU/22gmGNrIImnLj4PUdpDc4JPuc9XRx+LmgIGwwSXH\n",
       "OJQNRdI8M+kRCrdRB0JHQLQ9RffcHSdMjdu9rnGEdrL6ZFC043Rouftlz2vkaaOxNRUe2q6WPQ8o\n",
       "6DX6ZpEvdRatJuAmjODkmguw136NWJFyspsgPLTjzBmxrTJ7JW4NE7egGJ9i4x0w6wjcFbq5+Avh\n",
       "oZUy0oreaiIGWtNkon0RwZ93RMmflI2sIzy0PIiV2o3RmqYojoRUvQw3Oy7yBGWSFUOMBKiXHWhN\n",
       "kyXL8iliR2fp0mykECbafIZLOdAaJksF+wIY54720MFo9VlUhsJiRft4rgSs3bemydIdBtT3L2uL\n",
       "e324lUKY3vdF+9sLx+BjHW1a/bGZ9M47qD5/BXmnKyNtoOE97Y/2di0Dzi5pC/zrfPRe861fXBZQ\n",
       "8EPb3RCf0laIiu2e0iXZarKOvdu+dm4SuwjH1de3/ZmwTqCiz6owfixbCRXnxs3eou5lvuNBov+v\n",
       "wrCKw5/X83qh4xpVaM2oRpudTXQL/O9DQMtmuftccMTQ1KziT4T/0dE2lNE3PrJ1lHrXgkf26REq\n",
       "osG1a0ON2zo5kXTZYwl5J1aFgemFj2tCEcCINrQn3T4fIx3emqvRt/Hp46TxEsDW9vZbq5ypyjpa\n",
       "uYSQI7SvdcKBe15qURPkE83nc8/vtFIRlqw0WyGM8TfAZwBVzpPsSgVtXoETqm/fQzxH4dU1vKPG\n",
       "LrTIE1Yqoh2LRH1XdeDinaGgvQvgIERJX8SvObKAmaZooK1Lg6z+MaCV4HVk24Ie38Js6g8rFYkT\n",
       "tOLYYCho21HNTbGOoHpuvh/kJPsKJjWLFbRMOZqroO0DUCvF3egxiLqkjYrwzkPY7rlQwMLVyBOy\n",
       "I8lEFBsgy1IXgZZbZoBECyZZ0qmI4PTt7snQ0EJ2Gj01fN6MWofQAgnYBBpappuIBOiVHGi3aMfv\n",
       "MjxmpSLa0d8Wt+FFAuxEvYfJzMdQ0e3akBritFYhJ8c24SwzagLk5xxo9yFzP6K/SfUEa1ARiWg2\n",
       "nllGr35UsgxG1QlgH49+ffUnuFLQqqX86Q6zgun1VihCfRoSZQ3qYR3tLuTJC90dggI9WUxFRLIV\n",
       "XA+B1I8evcF3qmGpbVO5IiCdkQ739T2DIuEhxd4dor0XC0yOKV08P3zL3PDS778uoVXuR749Kp/6\n",
       "ATWfazEVqctRdQcv9cNN+dAbN+YnfEdUfbkB7uCTetx+iA/28VXvy5gBeQJTkZeBqvN6qB8+jXnZ\n",
       "2BU2K8KjANcJi3qvQBUMZxm/7t2UTbaSxFRk6vL1BG9hyWRXKNQ2bmuCIQVOfZOFMeQv4Y1D3JeY\n",
       "Da55r/dpvHDZoCJujI4e7cxkNXZlDIXLRArA7ejrr54jxsEFpyKmIpGMv/oxBVzRpn5YlQ7jWIYF\n",
       "EZKvGLJlKiF/4Aap5I02SipBV/mfIpM/g7RoUz9MpcM88mKNxLoTth4pgTDtykNngwpLVj1BmYBE\n",
       "2naKxEqHKSeYgoiVN6fpTuhKeGg51Kd1+QCjxUqHKdWYgohlvC7/9+qHsAIjg3Y9wVA6FhRSI6ld\n",
       "/RBDVJZUp13h0GoMpcOMBJsgYoyzdHMJqyGiRSAHHGix0oGzzC6IVAalagc3hunborBuVz8sSgfX\n",
       "2AQugoieeZSKaPCiYEHLnWsu29UPm9Ixsx08BJE62uwJV8lns35Kx3deuUSt5FNvgifaogXYI0p1\n",
       "pcNlDFDPdiggWssdqM3EfU03pcMl1ek9NpQJhjZiTnW6OUejdJDklL5FMelgaPnlwIeyGu6cBr8r\n",
       "HbR5C7XcaY4FnI1ZC4j2QE1F9P/+bwpNFP4XCVnVquJcMAkAAAAASUVORK5CYII=\n",
       "\" style=\"display:inline;vertical-align:middle;\" /></a></span>"
      ],
      "text/plain": [
       "|- forall_{x, y in Real} (Min(x, y) = {x if x <= y; y if y < x.)"
      ]
     },
     "execution_count": 4,
     "metadata": {},
     "output_type": "execute_result"
    }
   ],
   "source": [
    "min_def_bin"
   ]
  },
  {
   "cell_type": "code",
   "execution_count": 5,
   "metadata": {},
   "outputs": [
    {
     "data": {
      "text/html": [
       "<strong id=\"min_def_bin_inst\">min_def_bin_inst:</strong> <span style=\"font-size:20px;\"><a class=\"ProveItLink\" href=\"../../../../number_sets/natural_numbers/__pv_it/theorems/1a8a7907b709bbd24c48a9933f16dbe96429f5cc0/expr.ipynb\"><img src=\"data:image/png;base64,iVBORw0KGgoAAAANSUhEUgAAADUAAAAQBAMAAABEqSrGAAAAMFBMVEX///9mZmYQEBCYmJgyMjKq\n",
       "qqrMzMwiIiJERER2dnbc3Nzu7u5UVFSIiIi6uroAAAA6K1lcAAAAAXRSTlMAQObYZgAAAAlwSFlz\n",
       "AAAOxAAADsQBlSsOGwAAAOZJREFUGNNjYMAE23+0bGCY9OkBAzbQyneAgfsDVimG4wsmMzAoYJc7\n",
       "2sCygKEAVexGebkDiD5ly+WAJvfkNpRxiifhJkiO786uub1gES5vmKJTDA0cD4BynBxnGfYvAImw\n",
       "LEDIJXJXA+XesTcwrE8AyzEg5JgDIoDu3LD/AUP8BpBIUjkQNEDkGE7zgPwQz8BwBKx6B5I+hj3c\n",
       "IHcCJT5zg0TYkeXYLoBM0GRg/c0JEuG9AJNrA+JrQDmubwy8DmZgIVeYHIjBCAwFvgIG7sMBYKE9\n",
       "fWA3MaR8AurhdkANs5ft5cgiADLCQKtntbI7AAAAAElFTkSuQmCC\n",
       "\" style=\"display:inline;vertical-align:middle;\" /></a> <a class=\"ProveItLink\" href=\"../../../__pv_it/_proof_min_nat_n_zero_is_zero/48694b823454e3d679a13442e9914f49f93b3e5c0/proof.ipynb\" style=\"text-decoration: none\">&nbsp;&#x22A2;&nbsp;&nbsp;</a><a class=\"ProveItLink\" href=\"../../../__pv_it/_proof_min_nat_n_zero_is_zero/14125b6f96864d15da9ad508ebbca1bc40e362bb0/expr.ipynb\"><img src=\"data:image/png;base64,iVBORw0KGgoAAAANSUhEUgAAAPsAAAAyBAMAAABou7DpAAAAMFBMVEX///8AAAAAAAAAAAAAAAAA\n",
       "AAAAAAAAAAAAAAAAAAAAAAAAAAAAAAAAAAAAAAAAAAAv3aB7AAAAD3RSTlMAIqvd77tmEHbNmTJE\n",
       "VIk1oG/QAAAACXBIWXMAAA7EAAAOxAGVKw4bAAAEDUlEQVRYw8WZX0hTURzHv3dru5vuH6EP/SGH\n",
       "RLMissTIyjKzeijaEoLeGlhQRLSyQAraMPqLoIn4EsKkIHrRYa+FUj30ECjUSwQ5jMinrB6yLKNz\n",
       "rrvn3rOzzSu7tx3G3eXHPfucP78/53sHFNcqIyhhc83FSomfieY0O7v+C90zJ9oqyIgGRsfydfly\n",
       "N2Aa3vFVtI0n4axdLu6J9x69uifkLabh/TkcTwZswRz7sUMZURvwyTR8PJjTbEuKPrp7YT1agUnT\n",
       "vDWeNIi/tj1zQ5xldMJ8vKfzwvRxeiP1BcvXNgf1JuDKNnVnKD5qPt7nqEFc8Wl3MLP3munigPqY\n",
       "9JfgE+bjX9sjqEop0aDiNZONx6fNx8fiYxmfYnjNhJVs8Ql+3ILZYxJYDw6vmXjXm7TA9Sjoh8zj\n",
       "mUkXeMeA8wYCT8iM0iL4I/DO+ng8M+nSzkngsYFKJiyQJ1EQL/2Gq+esgo/QD2daSLr36dU+IR/S\n",
       "/8LyPU30K7w1UKGLxw8cxTc9CNwsHPe1kNfRMZOgv7r2e0Jv4lLyUGeKPzD8oEuzOUBrBXuoh3tk\n",
       "AO0BuGOGs95SWkcDXezhGGTNVsYlJmctfBE4k9bgu4mbPR3m5raML6tB4kPAQbGvwQzSXkfbztx4\n",
       "OoUEj3/Hl9UkyueBfrFv91jxs7cR34sOx2it6Bu8XUNtQ1zBIOMrJw4yJfbdV3zq6PDMwxsjsye1\n",
       "wr4JozTi+/UFA1VplP8Eziheoaxj3UJgl+01AY96uEDwZIsdTfBTr2vUFwwFT3L1W6Hrw5QZ+O7A\n",
       "ahUfgZ+G7GGuYMTT8JDZjwoeFYIZ+Hg6IeJ1BYO4npe43ksB/8gUvKMpmoVv5AoGsTpJ4L0R9t6c\n",
       "xfd8j2Xhj7OCQZff2YQykgZPCV3zut5p4wH5HNgPkKRL2O4MfkotGPIvKItxKaVEY3ZrEPWDdICc\n",
       "t97/MaQo4j2oDPejC53h3lWkVmxufnaimdifsIJRR6d/ZXojue4qmHZU/UCFT5sUMqQo7Hlytp1t\n",
       "qpdlQ6m2YNJl+oF0qEZxikIrL748ZUgoOXr9sCGHoni3FGl3VHNMVpgLn3b0+mGDqCjalhSkl9Wb\n",
       "hDiinHimH1Y0Y6SlOltRXP+sfL0Krblh5JwrCQ+5AoUPW0w/9Gb2Xqco5I+Zn0u3JuRv5un7LHw6\n",
       "s+XVvEV6kFkEz1g9DWgL8Jp+UPGaZb3qAbL8Rzm4WHDOZ/pBxWsWhof3K2w9luCZfmB4ZmGLT9n+\n",
       "aMwKPNMPDK8pCuZ6y9IkFaStwDP9cEz58IpCvn5r4eCSwh1nygq8qh9GWkIj4RpBUbQpgf+CaP1z\n",
       "luz9Yu2Mee/TFnu19L+av6RvdOGYLSmenr9L2WYmSop3zZV2+kX+nfAP/y9Pm5hUMUgAAAAASUVO\n",
       "RK5CYII=\n",
       "\" style=\"display:inline;vertical-align:middle;\" /></a></span><br>"
      ],
      "text/plain": [
       "min_def_bin_inst: {n in Natural} |- Min(n, 0) = {n if n <= 0; 0 if 0 < n."
      ]
     },
     "execution_count": 5,
     "metadata": {},
     "output_type": "execute_result"
    }
   ],
   "source": [
    "min_def_bin_inst = min_def_bin.instantiate({x: n, y: zero}, auto_simplify=False)"
   ]
  },
  {
   "cell_type": "markdown",
   "metadata": {},
   "source": [
    "For $n \\in \\mathbb{N}$, we know that $0 < n \\lor 0 = n$. We show that the rhs of the instantiated definition is reducible to 0 for both of those cases."
   ]
  },
  {
   "cell_type": "code",
   "execution_count": 6,
   "metadata": {},
   "outputs": [
    {
     "data": {
      "text/html": [
       "<span style=\"font-size:20px;\"><a class=\"ProveItLink\" href=\"../../../../number_sets/natural_numbers/__pv_it/theorems/1a8a7907b709bbd24c48a9933f16dbe96429f5cc0/expr.ipynb\"><img src=\"data:image/png;base64,iVBORw0KGgoAAAANSUhEUgAAADUAAAAQBAMAAABEqSrGAAAAMFBMVEX///9mZmYQEBCYmJgyMjKq\n",
       "qqrMzMwiIiJERER2dnbc3Nzu7u5UVFSIiIi6uroAAAA6K1lcAAAAAXRSTlMAQObYZgAAAAlwSFlz\n",
       "AAAOxAAADsQBlSsOGwAAAOZJREFUGNNjYMAE23+0bGCY9OkBAzbQyneAgfsDVimG4wsmMzAoYJc7\n",
       "2sCygKEAVexGebkDiD5ly+WAJvfkNpRxiifhJkiO786uub1gES5vmKJTDA0cD4BynBxnGfYvAImw\n",
       "LEDIJXJXA+XesTcwrE8AyzEg5JgDIoDu3LD/AUP8BpBIUjkQNEDkGE7zgPwQz8BwBKx6B5I+hj3c\n",
       "IHcCJT5zg0TYkeXYLoBM0GRg/c0JEuG9AJNrA+JrQDmubwy8DmZgIVeYHIjBCAwFvgIG7sMBYKE9\n",
       "fWA3MaR8AurhdkANs5ft5cgiADLCQKtntbI7AAAAAElFTkSuQmCC\n",
       "\" style=\"display:inline;vertical-align:middle;\" /></a> <a class=\"ProveItLink\" href=\"../../../__pv_it/_proof_min_nat_n_zero_is_zero/42b3e4acf75e64f148c53d20479d7f98bf821d140/proof.ipynb\" style=\"text-decoration: none\">&nbsp;&#x22A2;&nbsp;&nbsp;</a><a class=\"ProveItLink\" href=\"../../../../number_sets/natural_numbers/__pv_it/theorems/ec94631d6af55438a65ca22924d4dbdfe424b35b0/expr.ipynb\"><img src=\"data:image/png;base64,iVBORw0KGgoAAAANSUhEUgAAADMAAAARBAMAAACC64kkAAAAMFBMVEX///9mZmYQEBCYmJgyMjKq\n",
       "qqrMzMwiIiJERER2dnbc3Nzu7u5UVFSIiIi6uroAAAA6K1lcAAAAAXRSTlMAQObYZgAAAAlwSFlz\n",
       "AAAOxAAADsQBlSsOGwAAAMBJREFUGNNjYMAKZl5cgMzdYgBnsgRwVyFLcU+/AGOaMzDMQDXm+mwo\n",
       "o4eBIX4Dqpw5VO4jA0N+AAPfnV1ze+FyIVJgo0FSBgycHGcZ9iOc8+Q0kOD6CZS6wPCOvYFhfQJC\n",
       "qhsmNYFhw/4HSFaGnAIbCJR6D3RuPAPDEbgzpOHOiA8Ai3/mRnN8BwODPdAkTQbW35xoXjZiYBAB\n",
       "WvmNgdfBDC2g2AO41RgY+AoYuA8HoIUut+SdBAaKwfZyECiD8wGCizfmgdanOAAAAABJRU5ErkJg\n",
       "gg==\n",
       "\" style=\"display:inline;vertical-align:middle;\" /></a></span>"
      ],
      "text/plain": [
       "{n in Natural} |- n >= 0"
      ]
     },
     "execution_count": 6,
     "metadata": {},
     "output_type": "execute_result"
    }
   ],
   "source": [
    "greater_eq(n, zero).prove()"
   ]
  },
  {
   "cell_type": "code",
   "execution_count": 7,
   "metadata": {},
   "outputs": [
    {
     "data": {
      "text/html": [
       "<span style=\"font-size:20px;\"> <a class=\"ProveItLink\" href=\"../../axioms.ipynb#less_eq_def\" style=\"text-decoration: none\">&nbsp;&#x22A2;&nbsp;&nbsp;</a><a class=\"ProveItLink\" href=\"../../../__pv_it/axioms/77d6ff7c532a194c5fae4b1c6707b9c6decf64260/expr.ipynb\"><img src=\"data:image/png;base64,iVBORw0KGgoAAAANSUhEUgAAAUcAAAAWBAMAAAChwkO+AAAAMFBMVEX///+IiIgiIiIQEBB2dnbu\n",
       "7u5ERETMzMzc3NwyMjK6urpmZmaYmJiqqqpUVFQAAAB6qHgnAAAAAXRSTlMAQObYZgAAAAlwSFlz\n",
       "AAAOxAAADsQBlSsOGwAAA0lJREFUSMfNl01oE0EUx1/SbNJsNutWUIrFkgZB/CSKIAhCKnjwUNlC\n",
       "FUQo7UEoHiRYr0ps8VAEyUXIQSEePVWDoi1WUw8iFG2QXkI9RNCC4MFbe3Rm583szuxsN0cf/EIz\n",
       "ef83b2bevp0CRFoV2eVn1fqRniXV+Ol3cQFItBlR9kwzdhDpVRIXn9OlA981ThtI5CJaoaF8mdGz\n",
       "JC4+Z5kO1MM+Ro0hWyew+Y9DmmtIpHkS2yUfGQd08VVn5B4to6mwS67FkOzj68CXtZDmHRJpnsSi\n",
       "+aUroIkfckayZF0pTWn0IUHbe1HycFVNCZFroK5KCoQF0MRXMnAFFllNVuPSQQIFcMGRvmfVfcjX\n",
       "GJJZx1xVMkZYgVB81agz53SxeEbj8goxBn7dGfNybPKkjKEWTJL976oVUmYICS3/Q25IsoC7KccP\n",
       "7IbvzHkDcEOT5BMkB8NOkyp/i5pI5UuwTvbI27RmkdrJ4NK5hNjEiEZiVyDhgBI/58UpdmVnziPo\n",
       "72qSPIF8hnX3Dx3wk7ybK8AWOVm1/JJthpDAw+M6SaYLSRfU+L4FnDlpN9XQJHkOqcASvk3Ecbt9\n",
       "Dpwic/1VK73BEBL7KWglddgUcwhn3wLOnLyje25EkkD9lQdn0c1sA5iliCSFxE9SlmxgY5bjg8aZ\n",
       "A7VV8jHwdoj0aXMYbOW4wdyBK0oLWoIEPYaCUpP8uH2JOG5JAsnMlJiDOwdqMuDMgTHS0hPVrSwJ\n",
       "P77HncWo0wzjpl2CstLMb0GaBLPUV0Da8QhK+IMjSxJfG3wOOX7ImQPzdACmM+TPB99gPzpeZuS3\n",
       "r5dMv9d36IsC3sNii3UbybBfSJLxEdYmJYlxRMyhxAfFmUM7ArEd7+ef8AMdbzOMl87mF7VmJkc/\n",
       "kNpIqs9bpuAhSyzWKGXJipgjJj4HJyh598CjcJb3kwpDb5cIc6HRw4j8yqlHSuLjzwVF86laDibI\n",
       "FCbvK9YLhsZSNeO89iqxpr12REvi40tXltyB0X0w24bNT+LdO4PwBsSePrr2pGOXtVendJURtgjJ\n",
       "DOzuzAla26imxa3hKhK2/OoyaLMxphg9S+Lia1Zturbz3P9/xWFE2aBm7D7SqyQu/mBYZIG5Wob/\n",
       "0P4B8UwLoxXirbkAAAAASUVORK5CYII=\n",
       "\" style=\"display:inline;vertical-align:middle;\" /></a></span>"
      ],
      "text/plain": [
       "|- forall_{x, y} ((x <= y) = ((x < y) or (x = y)))"
      ]
     },
     "execution_count": 7,
     "metadata": {},
     "output_type": "execute_result"
    }
   ],
   "source": [
    "from proveit.numbers.ordering import less_eq_def\n",
    "less_eq_def"
   ]
  },
  {
   "cell_type": "code",
   "execution_count": 8,
   "metadata": {},
   "outputs": [
    {
     "data": {
      "text/html": [
       "<strong id=\"less_eq_def_inst\">less_eq_def_inst:</strong> <span style=\"font-size:20px;\"> <a class=\"ProveItLink\" href=\"../../../__pv_it/_proof_min_nat_n_zero_is_zero/9000cf9a60ea8f04e290b5b5e7b575f46cba8cf30/proof.ipynb\" style=\"text-decoration: none\">&nbsp;&#x22A2;&nbsp;&nbsp;</a><a class=\"ProveItLink\" href=\"../../../__pv_it/_proof_min_nat_n_zero_is_zero/f6bbb37ed37f7271db930f6a3d9fa33e71222dd40/expr.ipynb\"><img src=\"data:image/png;base64,iVBORw0KGgoAAAANSUhEUgAAAQcAAAAVBAMAAAC57DawAAAAMFBMVEX///8AAAAAAAAAAAAAAAAA\n",
       "AAAAAAAAAAAAAAAAAAAAAAAAAAAAAAAAAAAAAAAAAAAv3aB7AAAAD3RSTlMAInZUiRDNmWbv3US7\n",
       "qzJazP2FAAAACXBIWXMAAA7EAAAOxAGVKw4bAAADE0lEQVRIx4VVS2gUQRB9+5lkstlMgohCEDIi\n",
       "qAcDexBFLxmiRwOriGJQsiEIniRikOBpQVAUPznoKSBrFBV/LLmpBzeeDQRB8SR79pKoEQOCWF09\n",
       "u9vTn7HhZbI1r95Uv67uBjAA18i4ghlnikVtIJ3Mr7MlJ6c3tAR3xHCMRT2Qos9kTtgL5Ecv2Em7\n",
       "zVAukji8yz7DbFULpOkLsoBXAaYw3lHMTXZIXWUj74REV8l7YBc+K/70icRAGGnoG2RCdxV+DflG\n",
       "K+w/UT7sTxtpsxI3gCN23WucKL5fbMLUN8mEHiKvIPerZdCjxOTvGWlzEsvASNlmHno4XCNs4Z9J\n",
       "fW0IMmEf0D+N4KcMHl9Iks4ZLVGR+A2slmzmoYub4hDhovgnqa8PQSbMABNE2uDYyaetfTF8dPQ9\n",
       "Pcf0rO6I4YkiqknzFj9t3kOrkF9B7IJwI6mv7IsOmUBzHYoQ/BBvzky1OPniR0xQM13lX5efifFS\n",
       "KT2zTkWESfOi5dD7Tr5UuDObyIaxl219RUchEx5K0jpntot4W2hgiPrqgO5EocTgIiIR2No2r/4C\n",
       "mb+0WKJrEKygwAap+soJpJAJ82RXhF6utKNYnqhz460anVRneCT6LkzU7Xl/uP+CNf45if38TOjD\n",
       "RibMc+Pk9MYcAT7T47WjCNGYI6VEEcitoY/c7Z2Lz6jJVhGKvo1MILuKDfj6FqUKNjzgoN4T8XLg\n",
       "A3CnnDBPiPZXy8jV5LoF8mhQ9RUdhUygPeDPobuiHVZ3ya08cFN3ohhKXAcuaeb1RLSCEXz58eyt\n",
       "Oj91fZNMGONqTzU7Rp0X1+RfZCu3eYMlR7ynyA3vfhw6tiDNo0be6Td5E4tVfyzfGvrQyYRv4ngY\n",
       "/arfnzV4X8j153oRQU3Cmxlu6/pyCd/QHr9C5UkH5FEFh75KJhSa7psWmZoRehVDHb56bA9qezpN\n",
       "n8mD1jtKOR+rrivHPWa1Aqf/RxZY6oTGuXuVeW4z04oDEk7z9PtyCelkTjidQrIIeA0J1zAKTNNv\n",
       "zygTOjlZ24w3xXCM7cZsw3Qy4R8/3OviWi5umQAAAABJRU5ErkJggg==\n",
       "\" style=\"display:inline;vertical-align:middle;\" /></a></span><br>"
      ],
      "text/plain": [
       "less_eq_def_inst: |- (0 <= n) = ((0 < n) or (0 = n))"
      ]
     },
     "execution_count": 8,
     "metadata": {},
     "output_type": "execute_result"
    }
   ],
   "source": [
    "less_eq_def_inst = less_eq_def.instantiate({x: zero, y: n})"
   ]
  },
  {
   "cell_type": "code",
   "execution_count": 9,
   "metadata": {},
   "outputs": [
    {
     "data": {
      "text/html": [
       "<span style=\"font-size:20px;\"><a class=\"ProveItLink\" href=\"../../../../number_sets/natural_numbers/__pv_it/theorems/1a8a7907b709bbd24c48a9933f16dbe96429f5cc0/expr.ipynb\"><img src=\"data:image/png;base64,iVBORw0KGgoAAAANSUhEUgAAADUAAAAQBAMAAABEqSrGAAAAMFBMVEX///9mZmYQEBCYmJgyMjKq\n",
       "qqrMzMwiIiJERER2dnbc3Nzu7u5UVFSIiIi6uroAAAA6K1lcAAAAAXRSTlMAQObYZgAAAAlwSFlz\n",
       "AAAOxAAADsQBlSsOGwAAAOZJREFUGNNjYMAE23+0bGCY9OkBAzbQyneAgfsDVimG4wsmMzAoYJc7\n",
       "2sCygKEAVexGebkDiD5ly+WAJvfkNpRxiifhJkiO786uub1gES5vmKJTDA0cD4BynBxnGfYvAImw\n",
       "LEDIJXJXA+XesTcwrE8AyzEg5JgDIoDu3LD/AUP8BpBIUjkQNEDkGE7zgPwQz8BwBKx6B5I+hj3c\n",
       "IHcCJT5zg0TYkeXYLoBM0GRg/c0JEuG9AJNrA+JrQDmubwy8DmZgIVeYHIjBCAwFvgIG7sMBYKE9\n",
       "fWA3MaR8AurhdkANs5ft5cgiADLCQKtntbI7AAAAAElFTkSuQmCC\n",
       "\" style=\"display:inline;vertical-align:middle;\" /></a> <a class=\"ProveItLink\" href=\"../../../__pv_it/_proof_min_nat_n_zero_is_zero/1f6b044001de9a7fb7f472c8203a2c86aeaf3f740/proof.ipynb\" style=\"text-decoration: none\">&nbsp;&#x22A2;&nbsp;&nbsp;</a><a class=\"ProveItLink\" href=\"../../../__pv_it/_proof_min_nat_n_zero_is_zero/ffd36d930242c1d37b6f15a40a55f7dbffb75cff0/expr.ipynb\"><img src=\"data:image/png;base64,iVBORw0KGgoAAAANSUhEUgAAAJcAAAAVBAMAAAC5yWGZAAAAMFBMVEX///8AAAAAAAAAAAAAAAAA\n",
       "AAAAAAAAAAAAAAAAAAAAAAAAAAAAAAAAAAAAAAAAAAAv3aB7AAAAD3RSTlMAInZUiRDNmWbv3US7\n",
       "qzJazP2FAAAACXBIWXMAAA7EAAAOxAGVKw4bAAACZklEQVQ4y41UTWjUUBD+ssnbZH/cLuJJhK5K\n",
       "VYqFPUhBLxsWvYhCvCgWZQMieKxQi/QUFCouonvQkyCR4sU/Fm/qwejZShEqglAWj0VptS0WhOLM\n",
       "S3bZvCaLc5hkZh7f/HzzHoAy0kT7D09PJEymmhovVFTP/nSwV6yOAEb9avKBQ4qt28Dxg8mtZDxA\n",
       "uMAlTCQfyDqsF1l9Z3WWXFXxODnzZcD0YPkwgsS4Ncn6BqtPrK4DTeBUMtgtIAcUF6Bv9Hzj/UU+\n",
       "YJXnybv81wLmgZqTCJZzMA4MTaK01nU1r/UfuMLKIIpMpkknxD/ASjJlWQ9TQIPANiPP6ImQx7Ez\n",
       "9Q/0PY2oKq4Opg3BYJ7C4+Kuw8S7scC5h22Ufku3OBktg1H8jAb1OyutJWBflFtbJzA+NPOU5QW7\n",
       "7fmK+EUDdjEXgq3LEma6Od/mAwx3gKPS+gk8kcOrhmB2fBvbz6Ft0RBaeEht2ijIyr70huE02nLO\n",
       "K+E0yrqkNdeGILB38V0W4q8ksLTKYESAvhYHQ40s+ryOdjVbjsCYgJpCgL6KHTTWQovbLAawNuJt\n",
       "MtKmAI6Flv8DUZv4CNxz4jMjpCHPge6DOLNaMN04AbhPlRvAnehafZOfIkVvA9Pqgtk0EhtWIMmf\n",
       "w/lO1P/oSPg6bCHj3gUvDstEmIvIp+rEIwWMmDpgdXhxlsk6V1/qRZpy0Qo+xFdq6lnoNMMplXxK\n",
       "NzXWUcDeABdvUpo28mpotu86aX489hIDZHf3LqeI6W27y+lCrwDeD4jvUexi+qsMjR+eCwPA1EQi\n",
       "SD8rE2mV1HhmWyE708H2Av8AC1iJyuEqRqIAAAAASUVORK5CYII=\n",
       "\" style=\"display:inline;vertical-align:middle;\" /></a></span>"
      ],
      "text/plain": [
       "{n in Natural} |- (0 < n) or (0 = n)"
      ]
     },
     "execution_count": 9,
     "metadata": {},
     "output_type": "execute_result"
    }
   ],
   "source": [
    "less_eq_def_inst.derive_right_via_equality()"
   ]
  },
  {
   "cell_type": "markdown",
   "metadata": {},
   "source": [
    "### Case 1: $0 = n$"
   ]
  },
  {
   "cell_type": "code",
   "execution_count": 10,
   "metadata": {},
   "outputs": [
    {
     "data": {
      "text/html": [
       "<span style=\"font-size:20px;\"><a class=\"ProveItLink\" href=\"../../../__pv_it/_proof_min_nat_n_zero_is_zero/584161dfdfb31c264bbc2da3d0778094435d5bdd0/expr.ipynb\"><img src=\"data:image/png;base64,iVBORw0KGgoAAAANSUhEUgAAADMAAAAOBAMAAABwazlqAAAAMFBMVEX///8AAAAAAAAAAAAAAAAA\n",
       "AAAAAAAAAAAAAAAAAAAAAAAAAAAAAAAAAAAAAAAAAAAv3aB7AAAAD3RSTlMAiXaZIs1UEN1mu6sy\n",
       "RO+L2jdBAAAACXBIWXMAAA7EAAAOxAGVKw4bAAAApklEQVQY02NgYBQyYcABwhgqHLDLcDYwMC7A\n",
       "LsW1gYHtO3YpfgMGnm/YpeqBUj/RxC5td9RSYGDwF2Dg+QTiW3SAQDeIKbBagf0LROojqibeC10M\n",
       "LH+ABgow8H5ClWJn/wt2GtAZbOjOYPvAwB0AdPwCBs7vaHYBxfknFDBwPmBgDkDTxSfAkF8gwMDQ\n",
       "xlB3AE3K/wCDKidQsFhoD7pfbzAwVE9jAAC5nSl2GS62NgAAAABJRU5ErkJggg==\n",
       "\" style=\"display:inline;vertical-align:middle;\" /></a> <a class=\"ProveItLink\" href=\"../../../__pv_it/_proof_min_nat_n_zero_is_zero/c99b7b1ee1195fafc16a6b889088d5595865ef130/proof.ipynb\" style=\"text-decoration: none\">&nbsp;&#x22A2;&nbsp;&nbsp;</a><a class=\"ProveItLink\" href=\"../../../__pv_it/_proof_min_nat_n_zero_is_zero/38d399dbab3e169d0020ac99aef235c322e51e630/expr.ipynb\"><img src=\"data:image/png;base64,iVBORw0KGgoAAAANSUhEUgAAADMAAAARBAMAAACC64kkAAAAMFBMVEX///8AAAAAAAAAAAAAAAAA\n",
       "AAAAAAAAAAAAAAAAAAAAAAAAAAAAAAAAAAAAAAAAAAAv3aB7AAAAD3RSTlMARHarECKJu90yVM1m\n",
       "75kejotwAAAACXBIWXMAAA7EAAAOxAGVKw4bAAAAwElEQVQY02NgwArS9AIwxLi2gkjuBSyt6DI8\n",
       "fQ4g6gQDQzqaDFMbWIahmIFhvQOKjFsTlPGPgWH+AgZGZdekIoiAXw9UhgUkdYCBjd2IwR/sHOdd\n",
       "MN2s34BSCgyCHAUM8RNAAsyoUgkMDv4CMCvj4AYCpeQVgE5hYLDG4oz1C8Dif1jQHF/OwHAeyLrG\n",
       "wPWFDc3LZxkYXgOt/MnAtOEkIqB2gkiOBSw3GRgYGxhYbBaghQrLM+UJDBQDjw4Q6ITzAQbnMSmE\n",
       "dRZEAAAAAElFTkSuQmCC\n",
       "\" style=\"display:inline;vertical-align:middle;\" /></a></span>"
      ],
      "text/plain": [
       "{0 = n} |- n <= 0"
      ]
     },
     "execution_count": 10,
     "metadata": {},
     "output_type": "execute_result"
    }
   ],
   "source": [
    "# First we relax the equality to a LessEq\n",
    "LessEq(n, zero).prove(assumptions=[Equals(zero, n)])"
   ]
  },
  {
   "cell_type": "code",
   "execution_count": 11,
   "metadata": {},
   "outputs": [
    {
     "data": {
      "text/html": [
       "<strong id=\"min_def_bin_inst_simpl_zero_eq_n\">min_def_bin_inst_simpl_zero_eq_n:</strong> <span style=\"font-size:20px;\"><a class=\"ProveItLink\" href=\"../../../../number_sets/natural_numbers/__pv_it/theorems/1a8a7907b709bbd24c48a9933f16dbe96429f5cc0/expr.ipynb\"><img src=\"data:image/png;base64,iVBORw0KGgoAAAANSUhEUgAAADUAAAAQBAMAAABEqSrGAAAAMFBMVEX///9mZmYQEBCYmJgyMjKq\n",
       "qqrMzMwiIiJERER2dnbc3Nzu7u5UVFSIiIi6uroAAAA6K1lcAAAAAXRSTlMAQObYZgAAAAlwSFlz\n",
       "AAAOxAAADsQBlSsOGwAAAOZJREFUGNNjYMAE23+0bGCY9OkBAzbQyneAgfsDVimG4wsmMzAoYJc7\n",
       "2sCygKEAVexGebkDiD5ly+WAJvfkNpRxiifhJkiO786uub1gES5vmKJTDA0cD4BynBxnGfYvAImw\n",
       "LEDIJXJXA+XesTcwrE8AyzEg5JgDIoDu3LD/AUP8BpBIUjkQNEDkGE7zgPwQz8BwBKx6B5I+hj3c\n",
       "IHcCJT5zg0TYkeXYLoBM0GRg/c0JEuG9AJNrA+JrQDmubwy8DmZgIVeYHIjBCAwFvgIG7sMBYKE9\n",
       "fWA3MaR8AurhdkANs5ft5cgiADLCQKtntbI7AAAAAElFTkSuQmCC\n",
       "\" style=\"display:inline;vertical-align:middle;\" /></a>, <a class=\"ProveItLink\" href=\"../../../__pv_it/_proof_min_nat_n_zero_is_zero/584161dfdfb31c264bbc2da3d0778094435d5bdd0/expr.ipynb\"><img src=\"data:image/png;base64,iVBORw0KGgoAAAANSUhEUgAAADMAAAAOBAMAAABwazlqAAAAMFBMVEX///8AAAAAAAAAAAAAAAAA\n",
       "AAAAAAAAAAAAAAAAAAAAAAAAAAAAAAAAAAAAAAAAAAAv3aB7AAAAD3RSTlMAiXaZIs1UEN1mu6sy\n",
       "RO+L2jdBAAAACXBIWXMAAA7EAAAOxAGVKw4bAAAApklEQVQY02NgYBQyYcABwhgqHLDLcDYwMC7A\n",
       "LsW1gYHtO3YpfgMGnm/YpeqBUj/RxC5td9RSYGDwF2Dg+QTiW3SAQDeIKbBagf0LROojqibeC10M\n",
       "LH+ABgow8H5ClWJn/wt2GtAZbOjOYPvAwB0AdPwCBs7vaHYBxfknFDBwPmBgDkDTxSfAkF8gwMDQ\n",
       "xlB3AE3K/wCDKidQsFhoD7pfbzAwVE9jAAC5nSl2GS62NgAAAABJRU5ErkJggg==\n",
       "\" style=\"display:inline;vertical-align:middle;\" /></a> <a class=\"ProveItLink\" href=\"../../../__pv_it/_proof_min_nat_n_zero_is_zero/d1b262472a08ac353387b67555efa90256e12eb60/proof.ipynb\" style=\"text-decoration: none\">&nbsp;&#x22A2;&nbsp;&nbsp;</a><a class=\"ProveItLink\" href=\"../../../__pv_it/_proof_min_nat_n_zero_is_zero/96490010cca990ead55bb2d8a48f5f2b9257d4110/expr.ipynb\"><img src=\"data:image/png;base64,iVBORw0KGgoAAAANSUhEUgAAAH8AAAAVBAMAAACd/CwcAAAAMFBMVEX///8AAAAAAAAAAAAAAAAA\n",
       "AAAAAAAAAAAAAAAAAAAAAAAAAAAAAAAAAAAAAAAAAAAv3aB7AAAAD3RSTlMAIqvd77tmEHbNmTJE\n",
       "VIk1oG/QAAAACXBIWXMAAA7EAAAOxAGVKw4bAAAB5klEQVQ4y5WUvUvDQBjGn1rba21jgx8gKNpB\n",
       "0EX8oog4WApODi2CswGdBDE4RRwaBUFFsYjoqgiCi/YPUCy6uNnN0Syuog4KfuF7jUm9xKB9h8vx\n",
       "5snvnnvfywG/hs+VkVFRbLgyV17SuuEkf6T75AbFTkqGoLlfkxFSvAiNzzQEu2Vc79m5eUERLrJe\n",
       "YNcLoA3SEDpRwcq5Q0ExCdwB056ATarPKQF+RFJQjAG3KqpVL0CWrOsCQMoJilfgvIiwVxG0KlpP\n",
       "OVF92/HI9v5KJ6VqqIZXHa3LeknAOEBBbdzZl2+FFv2ApJKDcBz+LpzThvhixpjOHs0z8UkAHcGS\n",
       "rYN+Hn18aik0JBACAQJxBJKI0cf+IqKFBHxvZYABSSxMWaFhU26xABnEyFV1AYy9Q3oxt0CAax2R\n",
       "BxFgKzRkDd0FgPSAqpxdxFvy5HBgKzQyrogA2gJ/F1PM1owDsyqkHkcNLIWG6JMqAgLchUHNN0qH\n",
       "awo4osOacTgwFcAFMALQUaavwyaAd6wtj9VgPss9+ots1OytEKYCjekdrGMpvdXcnlroTp1NpIAI\n",
       "ub0E5mbgH+DlOl7KE6bgAJiK32PInt3Ys/pKroPyj2N4/GB/RMC6f5hu31GZSgDMUofczP9Fkyuz\n",
       "6KH8AjLLiJn6WWqnAAAAAElFTkSuQmCC\n",
       "\" style=\"display:inline;vertical-align:middle;\" /></a></span><br>"
      ],
      "text/plain": [
       "min_def_bin_inst_simpl_zero_eq_n: {n in Natural, 0 = n} |- Min(n, 0) = n"
      ]
     },
     "execution_count": 11,
     "metadata": {},
     "output_type": "execute_result"
    }
   ],
   "source": [
    "# That then allows the axiomatic definition to be evaluated\n",
    "min_def_bin_inst_simpl_zero_eq_n = min_def_bin_inst.inner_expr().rhs.simplify(\n",
    "    assumptions=[Equals(zero, n)])"
   ]
  },
  {
   "cell_type": "code",
   "execution_count": 12,
   "metadata": {},
   "outputs": [
    {
     "data": {
      "text/html": [
       "<span style=\"font-size:20px;\"><a class=\"ProveItLink\" href=\"../../../../number_sets/natural_numbers/__pv_it/theorems/1a8a7907b709bbd24c48a9933f16dbe96429f5cc0/expr.ipynb\"><img src=\"data:image/png;base64,iVBORw0KGgoAAAANSUhEUgAAADUAAAAQBAMAAABEqSrGAAAAMFBMVEX///9mZmYQEBCYmJgyMjKq\n",
       "qqrMzMwiIiJERER2dnbc3Nzu7u5UVFSIiIi6uroAAAA6K1lcAAAAAXRSTlMAQObYZgAAAAlwSFlz\n",
       "AAAOxAAADsQBlSsOGwAAAOZJREFUGNNjYMAE23+0bGCY9OkBAzbQyneAgfsDVimG4wsmMzAoYJc7\n",
       "2sCygKEAVexGebkDiD5ly+WAJvfkNpRxiifhJkiO786uub1gES5vmKJTDA0cD4BynBxnGfYvAImw\n",
       "LEDIJXJXA+XesTcwrE8AyzEg5JgDIoDu3LD/AUP8BpBIUjkQNEDkGE7zgPwQz8BwBKx6B5I+hj3c\n",
       "IHcCJT5zg0TYkeXYLoBM0GRg/c0JEuG9AJNrA+JrQDmubwy8DmZgIVeYHIjBCAwFvgIG7sMBYKE9\n",
       "fWA3MaR8AurhdkANs5ft5cgiADLCQKtntbI7AAAAAElFTkSuQmCC\n",
       "\" style=\"display:inline;vertical-align:middle;\" /></a>, <a class=\"ProveItLink\" href=\"../../../__pv_it/_proof_min_nat_n_zero_is_zero/584161dfdfb31c264bbc2da3d0778094435d5bdd0/expr.ipynb\"><img src=\"data:image/png;base64,iVBORw0KGgoAAAANSUhEUgAAADMAAAAOBAMAAABwazlqAAAAMFBMVEX///8AAAAAAAAAAAAAAAAA\n",
       "AAAAAAAAAAAAAAAAAAAAAAAAAAAAAAAAAAAAAAAAAAAv3aB7AAAAD3RSTlMAiXaZIs1UEN1mu6sy\n",
       "RO+L2jdBAAAACXBIWXMAAA7EAAAOxAGVKw4bAAAApklEQVQY02NgYBQyYcABwhgqHLDLcDYwMC7A\n",
       "LsW1gYHtO3YpfgMGnm/YpeqBUj/RxC5td9RSYGDwF2Dg+QTiW3SAQDeIKbBagf0LROojqibeC10M\n",
       "LH+ABgow8H5ClWJn/wt2GtAZbOjOYPvAwB0AdPwCBs7vaHYBxfknFDBwPmBgDkDTxSfAkF8gwMDQ\n",
       "xlB3AE3K/wCDKidQsFhoD7pfbzAwVE9jAAC5nSl2GS62NgAAAABJRU5ErkJggg==\n",
       "\" style=\"display:inline;vertical-align:middle;\" /></a> <a class=\"ProveItLink\" href=\"../../../__pv_it/_proof_min_nat_n_zero_is_zero/4fc78d06595b96db5a5a6a6f608577ef873f048e0/proof.ipynb\" style=\"text-decoration: none\">&nbsp;&#x22A2;&nbsp;&nbsp;</a><a class=\"ProveItLink\" href=\"../../../__pv_it/theorems/60e6cdf257c3801450be5a0de1379917c9c65b070/expr.ipynb\"><img src=\"data:image/png;base64,iVBORw0KGgoAAAANSUhEUgAAAH0AAAAVBAMAAACZCfwhAAAAMFBMVEX///8AAAAAAAAAAAAAAAAA\n",
       "AAAAAAAAAAAAAAAAAAAAAAAAAAAAAAAAAAAAAAAAAAAv3aB7AAAAD3RSTlMAIqvd77tmEHbNmTJE\n",
       "VIk1oG/QAAAACXBIWXMAAA7EAAAOxAGVKw4bAAAB9UlEQVQ4y5WUQWsTQRiGn5huN2l200UtCArm\n",
       "IFIP0trioXhwCXgSmiAIvbmgJz243lY8ZJuTiKWlFL22FAq9WH+A0uDJQ6H5B8ml4Emkh4qK4jeZ\n",
       "unF2UzEfZAPvvM/OOzPfLAysXEbxGKaWMsrHE5ynb/rqrzbjnQ0S0e0ans8vPApBBlUyTBzJY3TK\n",
       "Y389GXlq+Ipt+xq8TuNaJpqTR2EnxO4PbRnG+3AAD9O8lomWJcU74f8q3zDegU7ISJjitUzUkNyx\n",
       "wbsrhvE77LYppjdAy0SnZLZgJ8ytVUprG88nZWRMts9pPvm00PPZyhhQrpj4sUzk/MQNZf5ihfxV\n",
       "dmU1aqqyNUmjd+i5X2KMGe2F2pxVNdOXibhOAeGtCpbPuLB5ibWXr3PxbcJ3cf1Ui2lZ+GXvwh++\n",
       "zri8cqQFYaPV2x4JKsb9mNKXVH4tC9/oxlmeDlxJNqrTxvGz+9dR+yepA5NX+RV8pFviLjwOcafN\n",
       "9R/LwjuHoclb8mMe92sZtYIHsC0tWk/Nr2U+wC2Q/hW4qHl1VLkfFFYe2d9Qcezb+lCN0vJE7RUv\n",
       "adZWz1+qPpuqvr9XhZJEdaaxL7eZlQD2m6YcRL6V4rU8sG70WzHpyzNDXP/+XSmfcKf+XVbytYmS\n",
       "dqkPwduJOc6+8n/qXEZZHGz8DRQCi5E0gbOGAAAAAElFTkSuQmCC\n",
       "\" style=\"display:inline;vertical-align:middle;\" /></a></span>"
      ],
      "text/plain": [
       "{n in Natural, 0 = n} |- Min(n, 0) = 0"
      ]
     },
     "execution_count": 12,
     "metadata": {},
     "output_type": "execute_result"
    }
   ],
   "source": [
    "# But then we need to use the fact that 0 = n\n",
    "min_def_bin_inst_simpl_zero_eq_n.inner_expr().rhs.substitute(\n",
    "        zero, assumptions=[Equals(zero, n)], auto_simplify=False)"
   ]
  },
  {
   "cell_type": "markdown",
   "metadata": {},
   "source": [
    "### Case 2: $0 < n$"
   ]
  },
  {
   "cell_type": "code",
   "execution_count": 13,
   "metadata": {},
   "outputs": [
    {
     "data": {
      "text/html": [
       "<span style=\"font-size:20px;\"><a class=\"ProveItLink\" href=\"../../../../number_sets/natural_numbers/__pv_it/theorems/1a8a7907b709bbd24c48a9933f16dbe96429f5cc0/expr.ipynb\"><img src=\"data:image/png;base64,iVBORw0KGgoAAAANSUhEUgAAADUAAAAQBAMAAABEqSrGAAAAMFBMVEX///9mZmYQEBCYmJgyMjKq\n",
       "qqrMzMwiIiJERER2dnbc3Nzu7u5UVFSIiIi6uroAAAA6K1lcAAAAAXRSTlMAQObYZgAAAAlwSFlz\n",
       "AAAOxAAADsQBlSsOGwAAAOZJREFUGNNjYMAE23+0bGCY9OkBAzbQyneAgfsDVimG4wsmMzAoYJc7\n",
       "2sCygKEAVexGebkDiD5ly+WAJvfkNpRxiifhJkiO786uub1gES5vmKJTDA0cD4BynBxnGfYvAImw\n",
       "LEDIJXJXA+XesTcwrE8AyzEg5JgDIoDu3LD/AUP8BpBIUjkQNEDkGE7zgPwQz8BwBKx6B5I+hj3c\n",
       "IHcCJT5zg0TYkeXYLoBM0GRg/c0JEuG9AJNrA+JrQDmubwy8DmZgIVeYHIjBCAwFvgIG7sMBYKE9\n",
       "fWA3MaR8AurhdkANs5ft5cgiADLCQKtntbI7AAAAAElFTkSuQmCC\n",
       "\" style=\"display:inline;vertical-align:middle;\" /></a>, <a class=\"ProveItLink\" href=\"../../../__pv_it/_proof_min_nat_n_zero_is_zero/9e753171f66dd3c22687df16de97f26ca76423190/expr.ipynb\"><img src=\"data:image/png;base64,iVBORw0KGgoAAAANSUhEUgAAADMAAAAQBAMAAABJt1qBAAAAMFBMVEX///8AAAAAAAAAAAAAAAAA\n",
       "AAAAAAAAAAAAAAAAAAAAAAAAAAAAAAAAAAAAAAAAAAAv3aB7AAAAD3RSTlMAiXaZIs1UEN1mu6sy\n",
       "RO+L2jdBAAAACXBIWXMAAA7EAAAOxAGVKw4bAAAAw0lEQVQY02NgYBQyYcABwhgqHLDLcDYwMC7A\n",
       "LsW1gYHtO5zHFoIkxW/AwPMNbkRzAZJUPVDqJ5TN1AiRubTdUUuBgcFfgIHnE0SmsAmqRGC1AvsX\n",
       "iNRHsIBzJ1SG90IXA8sfoIECDLxgXdxhMDvY2f+CnQZ0Bts3VCkGtg8M3AFAxy9g4PyOaiBInH9C\n",
       "AQPnAwbmADRn8Akw5BcIMDC0MdQdgAoVNUEc73+AQZUTKFgstAcRahCP3WBgqJ6GEaIhDMQAALuz\n",
       "K+Te3AJPAAAAAElFTkSuQmCC\n",
       "\" style=\"display:inline;vertical-align:middle;\" /></a> <a class=\"ProveItLink\" href=\"../../../__pv_it/_proof_min_nat_n_zero_is_zero/065cd9d2d5133edde5b7adba1825938d286d59810/proof.ipynb\" style=\"text-decoration: none\">&nbsp;&#x22A2;&nbsp;&nbsp;</a><a class=\"ProveItLink\" href=\"../../../__pv_it/theorems/60e6cdf257c3801450be5a0de1379917c9c65b070/expr.ipynb\"><img src=\"data:image/png;base64,iVBORw0KGgoAAAANSUhEUgAAAH0AAAAVBAMAAACZCfwhAAAAMFBMVEX///8AAAAAAAAAAAAAAAAA\n",
       "AAAAAAAAAAAAAAAAAAAAAAAAAAAAAAAAAAAAAAAAAAAv3aB7AAAAD3RSTlMAIqvd77tmEHbNmTJE\n",
       "VIk1oG/QAAAACXBIWXMAAA7EAAAOxAGVKw4bAAAB9UlEQVQ4y5WUQWsTQRiGn5huN2l200UtCArm\n",
       "IFIP0trioXhwCXgSmiAIvbmgJz243lY8ZJuTiKWlFL22FAq9WH+A0uDJQ6H5B8ml4Emkh4qK4jeZ\n",
       "unF2UzEfZAPvvM/OOzPfLAysXEbxGKaWMsrHE5ynb/rqrzbjnQ0S0e0ans8vPApBBlUyTBzJY3TK\n",
       "Y389GXlq+Ipt+xq8TuNaJpqTR2EnxO4PbRnG+3AAD9O8lomWJcU74f8q3zDegU7ISJjitUzUkNyx\n",
       "wbsrhvE77LYppjdAy0SnZLZgJ8ytVUprG88nZWRMts9pPvm00PPZyhhQrpj4sUzk/MQNZf5ihfxV\n",
       "dmU1aqqyNUmjd+i5X2KMGe2F2pxVNdOXibhOAeGtCpbPuLB5ibWXr3PxbcJ3cf1Ui2lZ+GXvwh++\n",
       "zri8cqQFYaPV2x4JKsb9mNKXVH4tC9/oxlmeDlxJNqrTxvGz+9dR+yepA5NX+RV8pFviLjwOcafN\n",
       "9R/LwjuHoclb8mMe92sZtYIHsC0tWk/Nr2U+wC2Q/hW4qHl1VLkfFFYe2d9Qcezb+lCN0vJE7RUv\n",
       "adZWz1+qPpuqvr9XhZJEdaaxL7eZlQD2m6YcRL6V4rU8sG70WzHpyzNDXP/+XSmfcKf+XVbytYmS\n",
       "dqkPwduJOc6+8n/qXEZZHGz8DRQCi5E0gbOGAAAAAElFTkSuQmCC\n",
       "\" style=\"display:inline;vertical-align:middle;\" /></a></span>"
      ],
      "text/plain": [
       "{n in Natural, 0 < n} |- Min(n, 0) = 0"
      ]
     },
     "execution_count": 13,
     "metadata": {},
     "output_type": "execute_result"
    }
   ],
   "source": [
    "# This one simplifies immediately\n",
    "min_def_bin_inst.inner_expr().rhs.simplify(assumptions=[Less(zero, n)])"
   ]
  },
  {
   "cell_type": "markdown",
   "metadata": {},
   "source": [
    "### Now combine the cases"
   ]
  },
  {
   "cell_type": "code",
   "execution_count": 14,
   "metadata": {},
   "outputs": [
    {
     "data": {
      "text/html": [
       "<span style=\"font-size:20px;\"><a class=\"ProveItLink\" href=\"../../../../number_sets/natural_numbers/__pv_it/theorems/1a8a7907b709bbd24c48a9933f16dbe96429f5cc0/expr.ipynb\"><img src=\"data:image/png;base64,iVBORw0KGgoAAAANSUhEUgAAADUAAAAQBAMAAABEqSrGAAAAMFBMVEX///9mZmYQEBCYmJgyMjKq\n",
       "qqrMzMwiIiJERER2dnbc3Nzu7u5UVFSIiIi6uroAAAA6K1lcAAAAAXRSTlMAQObYZgAAAAlwSFlz\n",
       "AAAOxAAADsQBlSsOGwAAAOZJREFUGNNjYMAE23+0bGCY9OkBAzbQyneAgfsDVimG4wsmMzAoYJc7\n",
       "2sCygKEAVexGebkDiD5ly+WAJvfkNpRxiifhJkiO786uub1gES5vmKJTDA0cD4BynBxnGfYvAImw\n",
       "LEDIJXJXA+XesTcwrE8AyzEg5JgDIoDu3LD/AUP8BpBIUjkQNEDkGE7zgPwQz8BwBKx6B5I+hj3c\n",
       "IHcCJT5zg0TYkeXYLoBM0GRg/c0JEuG9AJNrA+JrQDmubwy8DmZgIVeYHIjBCAwFvgIG7sMBYKE9\n",
       "fWA3MaR8AurhdkANs5ft5cgiADLCQKtntbI7AAAAAElFTkSuQmCC\n",
       "\" style=\"display:inline;vertical-align:middle;\" /></a> <a class=\"ProveItLink\" href=\"../../../__pv_it/_proof_min_nat_n_zero_is_zero/fb7dac3375513797a58e28d74e31ca5023d2594c0/proof.ipynb\" style=\"text-decoration: none\">&nbsp;&#x22A2;&nbsp;&nbsp;</a><a class=\"ProveItLink\" href=\"../../../__pv_it/theorems/60e6cdf257c3801450be5a0de1379917c9c65b070/expr.ipynb\"><img src=\"data:image/png;base64,iVBORw0KGgoAAAANSUhEUgAAAH0AAAAVBAMAAACZCfwhAAAAMFBMVEX///8AAAAAAAAAAAAAAAAA\n",
       "AAAAAAAAAAAAAAAAAAAAAAAAAAAAAAAAAAAAAAAAAAAv3aB7AAAAD3RSTlMAIqvd77tmEHbNmTJE\n",
       "VIk1oG/QAAAACXBIWXMAAA7EAAAOxAGVKw4bAAAB9UlEQVQ4y5WUQWsTQRiGn5huN2l200UtCArm\n",
       "IFIP0trioXhwCXgSmiAIvbmgJz243lY8ZJuTiKWlFL22FAq9WH+A0uDJQ6H5B8ml4Emkh4qK4jeZ\n",
       "unF2UzEfZAPvvM/OOzPfLAysXEbxGKaWMsrHE5ynb/rqrzbjnQ0S0e0ans8vPApBBlUyTBzJY3TK\n",
       "Y389GXlq+Ipt+xq8TuNaJpqTR2EnxO4PbRnG+3AAD9O8lomWJcU74f8q3zDegU7ISJjitUzUkNyx\n",
       "wbsrhvE77LYppjdAy0SnZLZgJ8ytVUprG88nZWRMts9pPvm00PPZyhhQrpj4sUzk/MQNZf5ihfxV\n",
       "dmU1aqqyNUmjd+i5X2KMGe2F2pxVNdOXibhOAeGtCpbPuLB5ibWXr3PxbcJ3cf1Ui2lZ+GXvwh++\n",
       "zri8cqQFYaPV2x4JKsb9mNKXVH4tC9/oxlmeDlxJNqrTxvGz+9dR+yepA5NX+RV8pFviLjwOcafN\n",
       "9R/LwjuHoclb8mMe92sZtYIHsC0tWk/Nr2U+wC2Q/hW4qHl1VLkfFFYe2d9Qcezb+lCN0vJE7RUv\n",
       "adZWz1+qPpuqvr9XhZJEdaaxL7eZlQD2m6YcRL6V4rU8sG70WzHpyzNDXP/+XSmfcKf+XVbytYmS\n",
       "dqkPwduJOc6+8n/qXEZZHGz8DRQCi5E0gbOGAAAAAElFTkSuQmCC\n",
       "\" style=\"display:inline;vertical-align:middle;\" /></a></span>"
      ],
      "text/plain": [
       "{n in Natural} |- Min(n, 0) = 0"
      ]
     },
     "execution_count": 14,
     "metadata": {},
     "output_type": "execute_result"
    }
   ],
   "source": [
    "less_eq_def_inst.rhs.derive_via_singular_dilemma(min_nat_n_zero_is_zero.instance_expr)"
   ]
  },
  {
   "cell_type": "code",
   "execution_count": 15,
   "metadata": {},
   "outputs": [
    {
     "name": "stdout",
     "output_type": "stream",
     "text": [
      "proveit.numbers.ordering.min_nat_n_zero_is_zero has been proven.\n"
     ]
    },
    {
     "ename": "KeyboardInterrupt",
     "evalue": "",
     "output_type": "error",
     "traceback": [
      "\u001b[0;31m---------------------------------------------------------------------------\u001b[0m",
      "\u001b[0;31mKeyboardInterrupt\u001b[0m                         Traceback (most recent call last)",
      "\u001b[0;32m<ipython-input-15-b046f9677097>\u001b[0m in \u001b[0;36m<module>\u001b[0;34m\u001b[0m\n\u001b[0;32m----> 1\u001b[0;31m \u001b[0mget_ipython\u001b[0m\u001b[0;34m(\u001b[0m\u001b[0;34m)\u001b[0m\u001b[0;34m.\u001b[0m\u001b[0mrun_line_magic\u001b[0m\u001b[0;34m(\u001b[0m\u001b[0;34m'qed'\u001b[0m\u001b[0;34m,\u001b[0m \u001b[0;34m''\u001b[0m\u001b[0;34m)\u001b[0m\u001b[0;34m\u001b[0m\u001b[0;34m\u001b[0m\u001b[0m\n\u001b[0m",
      "\u001b[0;32m~/.local/lib/python3.7/site-packages/IPython/core/interactiveshell.py\u001b[0m in \u001b[0;36mrun_line_magic\u001b[0;34m(self, magic_name, line, _stack_depth)\u001b[0m\n\u001b[1;32m   2415\u001b[0m                 \u001b[0mkwargs\u001b[0m\u001b[0;34m[\u001b[0m\u001b[0;34m'local_ns'\u001b[0m\u001b[0;34m]\u001b[0m \u001b[0;34m=\u001b[0m \u001b[0mself\u001b[0m\u001b[0;34m.\u001b[0m\u001b[0mget_local_scope\u001b[0m\u001b[0;34m(\u001b[0m\u001b[0mstack_depth\u001b[0m\u001b[0;34m)\u001b[0m\u001b[0;34m\u001b[0m\u001b[0;34m\u001b[0m\u001b[0m\n\u001b[1;32m   2416\u001b[0m             \u001b[0;32mwith\u001b[0m \u001b[0mself\u001b[0m\u001b[0;34m.\u001b[0m\u001b[0mbuiltin_trap\u001b[0m\u001b[0;34m:\u001b[0m\u001b[0;34m\u001b[0m\u001b[0;34m\u001b[0m\u001b[0m\n\u001b[0;32m-> 2417\u001b[0;31m                 \u001b[0mresult\u001b[0m \u001b[0;34m=\u001b[0m \u001b[0mfn\u001b[0m\u001b[0;34m(\u001b[0m\u001b[0;34m*\u001b[0m\u001b[0margs\u001b[0m\u001b[0;34m,\u001b[0m \u001b[0;34m**\u001b[0m\u001b[0mkwargs\u001b[0m\u001b[0;34m)\u001b[0m\u001b[0;34m\u001b[0m\u001b[0;34m\u001b[0m\u001b[0m\n\u001b[0m\u001b[1;32m   2418\u001b[0m             \u001b[0;32mreturn\u001b[0m \u001b[0mresult\u001b[0m\u001b[0;34m\u001b[0m\u001b[0;34m\u001b[0m\u001b[0m\n\u001b[1;32m   2419\u001b[0m \u001b[0;34m\u001b[0m\u001b[0m\n",
      "\u001b[0;32m<decorator-gen-180>\u001b[0m in \u001b[0;36mqed\u001b[0;34m(self, line)\u001b[0m\n",
      "\u001b[0;32m~/.local/lib/python3.7/site-packages/IPython/core/magic.py\u001b[0m in \u001b[0;36m<lambda>\u001b[0;34m(f, *a, **k)\u001b[0m\n\u001b[1;32m    185\u001b[0m     \u001b[0;31m# but it's overkill for just that one bit of state.\u001b[0m\u001b[0;34m\u001b[0m\u001b[0;34m\u001b[0m\u001b[0;34m\u001b[0m\u001b[0m\n\u001b[1;32m    186\u001b[0m     \u001b[0;32mdef\u001b[0m \u001b[0mmagic_deco\u001b[0m\u001b[0;34m(\u001b[0m\u001b[0marg\u001b[0m\u001b[0;34m)\u001b[0m\u001b[0;34m:\u001b[0m\u001b[0;34m\u001b[0m\u001b[0;34m\u001b[0m\u001b[0m\n\u001b[0;32m--> 187\u001b[0;31m         \u001b[0mcall\u001b[0m \u001b[0;34m=\u001b[0m \u001b[0;32mlambda\u001b[0m \u001b[0mf\u001b[0m\u001b[0;34m,\u001b[0m \u001b[0;34m*\u001b[0m\u001b[0ma\u001b[0m\u001b[0;34m,\u001b[0m \u001b[0;34m**\u001b[0m\u001b[0mk\u001b[0m\u001b[0;34m:\u001b[0m \u001b[0mf\u001b[0m\u001b[0;34m(\u001b[0m\u001b[0;34m*\u001b[0m\u001b[0ma\u001b[0m\u001b[0;34m,\u001b[0m \u001b[0;34m**\u001b[0m\u001b[0mk\u001b[0m\u001b[0;34m)\u001b[0m\u001b[0;34m\u001b[0m\u001b[0;34m\u001b[0m\u001b[0m\n\u001b[0m\u001b[1;32m    188\u001b[0m \u001b[0;34m\u001b[0m\u001b[0m\n\u001b[1;32m    189\u001b[0m         \u001b[0;32mif\u001b[0m \u001b[0mcallable\u001b[0m\u001b[0;34m(\u001b[0m\u001b[0marg\u001b[0m\u001b[0;34m)\u001b[0m\u001b[0;34m:\u001b[0m\u001b[0;34m\u001b[0m\u001b[0;34m\u001b[0m\u001b[0m\n",
      "\u001b[0;32m/home/wwitzel/Prove-It/packages/proveit/magics.py\u001b[0m in \u001b[0;36mqed\u001b[0;34m(self, line)\u001b[0m\n\u001b[1;32m    976\u001b[0m     \u001b[0;34m@\u001b[0m\u001b[0mline_magic\u001b[0m\u001b[0;34m\u001b[0m\u001b[0;34m\u001b[0m\u001b[0m\n\u001b[1;32m    977\u001b[0m     \u001b[0;32mdef\u001b[0m \u001b[0mqed\u001b[0m\u001b[0;34m(\u001b[0m\u001b[0mself\u001b[0m\u001b[0;34m,\u001b[0m \u001b[0mline\u001b[0m\u001b[0;34m)\u001b[0m\u001b[0;34m:\u001b[0m\u001b[0;34m\u001b[0m\u001b[0;34m\u001b[0m\u001b[0m\n\u001b[0;32m--> 978\u001b[0;31m         \u001b[0;32mreturn\u001b[0m \u001b[0mProveItMagicCommands\u001b[0m\u001b[0;34m.\u001b[0m\u001b[0mqed\u001b[0m\u001b[0;34m(\u001b[0m\u001b[0mself\u001b[0m\u001b[0;34m)\u001b[0m\u001b[0;34m\u001b[0m\u001b[0;34m\u001b[0m\u001b[0m\n\u001b[0m\u001b[1;32m    979\u001b[0m \u001b[0;34m\u001b[0m\u001b[0m\n\u001b[1;32m    980\u001b[0m     \u001b[0;34m@\u001b[0m\u001b[0mline_magic\u001b[0m\u001b[0;34m\u001b[0m\u001b[0;34m\u001b[0m\u001b[0m\n",
      "\u001b[0;32m/home/wwitzel/Prove-It/packages/proveit/magics.py\u001b[0m in \u001b[0;36mqed\u001b[0;34m(self)\u001b[0m\n\u001b[1;32m    649\u001b[0m         \u001b[0;32mimport\u001b[0m \u001b[0mproveit\u001b[0m\u001b[0;34m\u001b[0m\u001b[0;34m\u001b[0m\u001b[0m\n\u001b[1;32m    650\u001b[0m         \u001b[0mproof\u001b[0m \u001b[0;34m=\u001b[0m \u001b[0mJudgment\u001b[0m\u001b[0;34m.\u001b[0m\u001b[0mtheorem_being_proven\u001b[0m\u001b[0;34m.\u001b[0m\u001b[0mproven_truth\u001b[0m\u001b[0;34m.\u001b[0m\u001b[0m_qed\u001b[0m\u001b[0;34m(\u001b[0m\u001b[0;34m)\u001b[0m\u001b[0;34m\u001b[0m\u001b[0;34m\u001b[0m\u001b[0m\n\u001b[0;32m--> 651\u001b[0;31m         \u001b[0mproof\u001b[0m\u001b[0;34m.\u001b[0m\u001b[0m_repr_html_\u001b[0m\u001b[0;34m(\u001b[0m\u001b[0;34m)\u001b[0m  \u001b[0;31m# generate expressions that should be referenced\u001b[0m\u001b[0;34m\u001b[0m\u001b[0;34m\u001b[0m\u001b[0m\n\u001b[0m\u001b[1;32m    652\u001b[0m         \u001b[0;31m# clean unreferenced expressions, but only when \"display latex\"\u001b[0m\u001b[0;34m\u001b[0m\u001b[0;34m\u001b[0m\u001b[0;34m\u001b[0m\u001b[0m\n\u001b[1;32m    653\u001b[0m         \u001b[0;31m# is enabled (otherwise, references won't be complete).\u001b[0m\u001b[0;34m\u001b[0m\u001b[0;34m\u001b[0m\u001b[0;34m\u001b[0m\u001b[0m\n",
      "\u001b[0;32m/home/wwitzel/Prove-It/packages/proveit/_core_/proof.py\u001b[0m in \u001b[0;36m_repr_html_\u001b[0;34m(self)\u001b[0m\n\u001b[1;32m    694\u001b[0m             html += '<td>%s</td><td>%s</td>' % (\n\u001b[1;32m    695\u001b[0m                 proof.step_type(), required_proof_nums)\n\u001b[0;32m--> 696\u001b[0;31m             \u001b[0mhtml\u001b[0m \u001b[0;34m+=\u001b[0m \u001b[0;34m'<td>%s</td>'\u001b[0m \u001b[0;34m%\u001b[0m \u001b[0mproof\u001b[0m\u001b[0;34m.\u001b[0m\u001b[0mproven_truth\u001b[0m\u001b[0;34m.\u001b[0m\u001b[0m_repr_html_\u001b[0m\u001b[0;34m(\u001b[0m\u001b[0;34m)\u001b[0m\u001b[0;34m\u001b[0m\u001b[0;34m\u001b[0m\u001b[0m\n\u001b[0m\u001b[1;32m    697\u001b[0m             \u001b[0mhtml\u001b[0m \u001b[0;34m+=\u001b[0m \u001b[0;34m'</tr>\\n'\u001b[0m\u001b[0;34m\u001b[0m\u001b[0;34m\u001b[0m\u001b[0m\n\u001b[1;32m    698\u001b[0m             \u001b[0;32mif\u001b[0m \u001b[0mproof\u001b[0m\u001b[0;34m.\u001b[0m\u001b[0mstep_type\u001b[0m\u001b[0;34m(\u001b[0m\u001b[0;34m)\u001b[0m \u001b[0;34m==\u001b[0m \u001b[0;34m'instantiation'\u001b[0m\u001b[0;34m:\u001b[0m\u001b[0;34m\u001b[0m\u001b[0;34m\u001b[0m\u001b[0m\n",
      "\u001b[0;32m/home/wwitzel/Prove-It/packages/proveit/_core_/judgment.py\u001b[0m in \u001b[0;36m_repr_html_\u001b[0;34m(self)\u001b[0m\n\u001b[1;32m   1388\u001b[0m         \u001b[0;32mif\u001b[0m \u001b[0mproof\u001b[0m \u001b[0;32mis\u001b[0m \u001b[0;32mnot\u001b[0m \u001b[0;32mNone\u001b[0m\u001b[0;34m:\u001b[0m\u001b[0;34m\u001b[0m\u001b[0;34m\u001b[0m\u001b[0m\n\u001b[1;32m   1389\u001b[0m             \u001b[0mhtml\u001b[0m \u001b[0;34m+=\u001b[0m \u001b[0;34m'</a>'\u001b[0m\u001b[0;34m\u001b[0m\u001b[0;34m\u001b[0m\u001b[0m\n\u001b[0;32m-> 1390\u001b[0;31m         \u001b[0mhtml\u001b[0m \u001b[0;34m+=\u001b[0m \u001b[0mself\u001b[0m\u001b[0;34m.\u001b[0m\u001b[0mexpr\u001b[0m\u001b[0;34m.\u001b[0m\u001b[0m_repr_html_\u001b[0m\u001b[0;34m(\u001b[0m\u001b[0;34m)\u001b[0m\u001b[0;34m\u001b[0m\u001b[0;34m\u001b[0m\u001b[0m\n\u001b[0m\u001b[1;32m   1391\u001b[0m         \u001b[0mhtml\u001b[0m \u001b[0;34m+=\u001b[0m \u001b[0;34m'</span>'\u001b[0m\u001b[0;34m\u001b[0m\u001b[0;34m\u001b[0m\u001b[0m\n\u001b[1;32m   1392\u001b[0m         \u001b[0;32mreturn\u001b[0m \u001b[0mhtml\u001b[0m\u001b[0;34m\u001b[0m\u001b[0;34m\u001b[0m\u001b[0m\n",
      "\u001b[0;32m/home/wwitzel/Prove-It/packages/proveit/_core_/expression/expr.py\u001b[0m in \u001b[0;36m_repr_html_\u001b[0;34m(self, unofficial_name_kind_theory)\u001b[0m\n\u001b[1;32m   1725\u001b[0m         \u001b[0;32mif\u001b[0m \u001b[0;32mnot\u001b[0m \u001b[0mhasattr\u001b[0m\u001b[0;34m(\u001b[0m\u001b[0mself\u001b[0m\u001b[0;34m.\u001b[0m\u001b[0m_style_data\u001b[0m\u001b[0;34m,\u001b[0m \u001b[0;34m'png'\u001b[0m\u001b[0;34m)\u001b[0m\u001b[0;34m:\u001b[0m\u001b[0;34m\u001b[0m\u001b[0;34m\u001b[0m\u001b[0m\n\u001b[1;32m   1726\u001b[0m             self._style_data.png, png_url = Theory._stored_png(\n\u001b[0;32m-> 1727\u001b[0;31m                 self, self.latex(), self._config_latex_tool)\n\u001b[0m\u001b[1;32m   1728\u001b[0m             \u001b[0mself\u001b[0m\u001b[0;34m.\u001b[0m\u001b[0m_style_data\u001b[0m\u001b[0;34m.\u001b[0m\u001b[0mpng_url\u001b[0m \u001b[0;34m=\u001b[0m \u001b[0mpng_url\u001b[0m\u001b[0;34m\u001b[0m\u001b[0;34m\u001b[0m\u001b[0m\n\u001b[1;32m   1729\u001b[0m         \u001b[0;32mif\u001b[0m \u001b[0mself\u001b[0m\u001b[0;34m.\u001b[0m\u001b[0m_style_data\u001b[0m\u001b[0;34m.\u001b[0m\u001b[0mpng_url\u001b[0m \u001b[0;32mis\u001b[0m \u001b[0;32mnot\u001b[0m \u001b[0;32mNone\u001b[0m\u001b[0;34m:\u001b[0m\u001b[0;34m\u001b[0m\u001b[0;34m\u001b[0m\u001b[0m\n",
      "\u001b[0;32m/home/wwitzel/Prove-It/packages/proveit/_core_/theory.py\u001b[0m in \u001b[0;36m_stored_png\u001b[0;34m(expr, latex, config_latex_tool_fn)\u001b[0m\n\u001b[1;32m    572\u001b[0m         '''\n\u001b[1;32m    573\u001b[0m         return TheoryFolderStorage.retrieve_png(\n\u001b[0;32m--> 574\u001b[0;31m             expr, latex, config_latex_tool_fn)\n\u001b[0m\u001b[1;32m    575\u001b[0m \u001b[0;34m\u001b[0m\u001b[0m\n\u001b[1;32m    576\u001b[0m     \u001b[0;32mdef\u001b[0m \u001b[0m_theory_folder_storage\u001b[0m\u001b[0;34m(\u001b[0m\u001b[0mself\u001b[0m\u001b[0;34m,\u001b[0m \u001b[0mfolder\u001b[0m\u001b[0;34m=\u001b[0m\u001b[0;32mNone\u001b[0m\u001b[0;34m)\u001b[0m\u001b[0;34m:\u001b[0m\u001b[0;34m\u001b[0m\u001b[0;34m\u001b[0m\u001b[0m\n",
      "\u001b[0;32m/home/wwitzel/Prove-It/packages/proveit/_core_/_theory_storage.py\u001b[0m in \u001b[0;36mretrieve_png\u001b[0;34m(expr, latex, config_latex_tool_fn)\u001b[0m\n\u001b[1;32m   1003\u001b[0m                             \"expressions\")\n\u001b[1;32m   1004\u001b[0m         return theory_folder_storage._retrieve_png(\n\u001b[0;32m-> 1005\u001b[0;31m             expr, latex, config_latex_tool_fn)\n\u001b[0m\u001b[1;32m   1006\u001b[0m \u001b[0;34m\u001b[0m\u001b[0m\n\u001b[1;32m   1007\u001b[0m     \u001b[0;32mdef\u001b[0m \u001b[0m_retrieve_png\u001b[0m\u001b[0;34m(\u001b[0m\u001b[0mself\u001b[0m\u001b[0;34m,\u001b[0m \u001b[0mexpr\u001b[0m\u001b[0;34m,\u001b[0m \u001b[0mlatex\u001b[0m\u001b[0;34m,\u001b[0m \u001b[0mconfig_latex_tool_fn\u001b[0m\u001b[0;34m)\u001b[0m\u001b[0;34m:\u001b[0m\u001b[0;34m\u001b[0m\u001b[0;34m\u001b[0m\u001b[0m\n",
      "\u001b[0;32m/home/wwitzel/Prove-It/packages/proveit/_core_/_theory_storage.py\u001b[0m in \u001b[0;36m_retrieve_png\u001b[0;34m(self, expr, latex, config_latex_tool_fn)\u001b[0m\n\u001b[1;32m   1033\u001b[0m             \u001b[0mlatex_file\u001b[0m\u001b[0;34m.\u001b[0m\u001b[0mwrite\u001b[0m\u001b[0;34m(\u001b[0m\u001b[0mlatex\u001b[0m\u001b[0;34m.\u001b[0m\u001b[0mencode\u001b[0m\u001b[0;34m(\u001b[0m\u001b[0;34m'ascii'\u001b[0m\u001b[0;34m)\u001b[0m\u001b[0;34m)\u001b[0m\u001b[0;34m\u001b[0m\u001b[0;34m\u001b[0m\u001b[0m\n\u001b[1;32m   1034\u001b[0m         \u001b[0;31m# generate, store and return the png file\u001b[0m\u001b[0;34m\u001b[0m\u001b[0;34m\u001b[0m\u001b[0;34m\u001b[0m\u001b[0m\n\u001b[0;32m-> 1035\u001b[0;31m         \u001b[0mpng\u001b[0m \u001b[0;34m=\u001b[0m \u001b[0mself\u001b[0m\u001b[0;34m.\u001b[0m\u001b[0m_generate_png\u001b[0m\u001b[0;34m(\u001b[0m\u001b[0mlatex\u001b[0m\u001b[0;34m,\u001b[0m \u001b[0mconfig_latex_tool_fn\u001b[0m\u001b[0;34m)\u001b[0m\u001b[0;34m\u001b[0m\u001b[0;34m\u001b[0m\u001b[0m\n\u001b[0m\u001b[1;32m   1036\u001b[0m         \u001b[0;32mwith\u001b[0m \u001b[0mopen\u001b[0m\u001b[0;34m(\u001b[0m\u001b[0mpng_path\u001b[0m\u001b[0;34m,\u001b[0m \u001b[0;34m'wb'\u001b[0m\u001b[0;34m)\u001b[0m \u001b[0;32mas\u001b[0m \u001b[0mpng_file\u001b[0m\u001b[0;34m:\u001b[0m\u001b[0;34m\u001b[0m\u001b[0;34m\u001b[0m\u001b[0m\n\u001b[1;32m   1037\u001b[0m             \u001b[0mpng_file\u001b[0m\u001b[0;34m.\u001b[0m\u001b[0mwrite\u001b[0m\u001b[0;34m(\u001b[0m\u001b[0mpng\u001b[0m\u001b[0;34m)\u001b[0m\u001b[0;34m\u001b[0m\u001b[0;34m\u001b[0m\u001b[0m\n",
      "\u001b[0;32m/home/wwitzel/Prove-It/packages/proveit/_core_/_theory_storage.py\u001b[0m in \u001b[0;36m_generate_png\u001b[0;34m(self, latex, config_latex_tool_fn)\u001b[0m\n\u001b[1;32m   1050\u001b[0m         \u001b[0;31m# the 'matplotlib' backend can do some BAD rendering in my\u001b[0m\u001b[0;34m\u001b[0m\u001b[0;34m\u001b[0m\u001b[0;34m\u001b[0m\u001b[0m\n\u001b[1;32m   1051\u001b[0m         \u001b[0;31m# experience (like \\lnot rendering as lnot in some theories)\u001b[0m\u001b[0;34m\u001b[0m\u001b[0;34m\u001b[0m\u001b[0;34m\u001b[0m\u001b[0m\n\u001b[0;32m-> 1052\u001b[0;31m         \u001b[0mpng\u001b[0m \u001b[0;34m=\u001b[0m \u001b[0mlatex_to_png\u001b[0m\u001b[0;34m(\u001b[0m\u001b[0mlatex\u001b[0m\u001b[0;34m,\u001b[0m \u001b[0mbackend\u001b[0m\u001b[0;34m=\u001b[0m\u001b[0;34m'dvipng'\u001b[0m\u001b[0;34m,\u001b[0m \u001b[0mwrap\u001b[0m\u001b[0;34m=\u001b[0m\u001b[0;32mTrue\u001b[0m\u001b[0;34m)\u001b[0m\u001b[0;34m\u001b[0m\u001b[0;34m\u001b[0m\u001b[0m\n\u001b[0m\u001b[1;32m   1053\u001b[0m         \u001b[0;32mif\u001b[0m \u001b[0mpng\u001b[0m \u001b[0;32mis\u001b[0m \u001b[0;32mNone\u001b[0m\u001b[0;34m:\u001b[0m\u001b[0;34m\u001b[0m\u001b[0;34m\u001b[0m\u001b[0m\n\u001b[1;32m   1054\u001b[0m             raise Exception(\n",
      "\u001b[0;32m~/.local/lib/python3.7/site-packages/IPython/lib/latextools.py\u001b[0m in \u001b[0;36mlatex_to_png\u001b[0;34m(s, encode, backend, wrap, color, scale)\u001b[0m\n\u001b[1;32m    102\u001b[0m     \u001b[0;32melse\u001b[0m\u001b[0;34m:\u001b[0m\u001b[0;34m\u001b[0m\u001b[0;34m\u001b[0m\u001b[0m\n\u001b[1;32m    103\u001b[0m         \u001b[0;32mraise\u001b[0m \u001b[0mValueError\u001b[0m\u001b[0;34m(\u001b[0m\u001b[0;34m'No such backend {0}'\u001b[0m\u001b[0;34m.\u001b[0m\u001b[0mformat\u001b[0m\u001b[0;34m(\u001b[0m\u001b[0mbackend\u001b[0m\u001b[0;34m)\u001b[0m\u001b[0;34m)\u001b[0m\u001b[0;34m\u001b[0m\u001b[0;34m\u001b[0m\u001b[0m\n\u001b[0;32m--> 104\u001b[0;31m     \u001b[0mbin_data\u001b[0m \u001b[0;34m=\u001b[0m \u001b[0mf\u001b[0m\u001b[0;34m(\u001b[0m\u001b[0ms\u001b[0m\u001b[0;34m,\u001b[0m \u001b[0mwrap\u001b[0m\u001b[0;34m,\u001b[0m \u001b[0mcolor\u001b[0m\u001b[0;34m,\u001b[0m \u001b[0mscale\u001b[0m\u001b[0;34m)\u001b[0m\u001b[0;34m\u001b[0m\u001b[0;34m\u001b[0m\u001b[0m\n\u001b[0m\u001b[1;32m    105\u001b[0m     \u001b[0;32mif\u001b[0m \u001b[0mencode\u001b[0m \u001b[0;32mand\u001b[0m \u001b[0mbin_data\u001b[0m\u001b[0;34m:\u001b[0m\u001b[0;34m\u001b[0m\u001b[0;34m\u001b[0m\u001b[0m\n\u001b[1;32m    106\u001b[0m         \u001b[0mbin_data\u001b[0m \u001b[0;34m=\u001b[0m \u001b[0mencodebytes\u001b[0m\u001b[0;34m(\u001b[0m\u001b[0mbin_data\u001b[0m\u001b[0;34m)\u001b[0m\u001b[0;34m\u001b[0m\u001b[0;34m\u001b[0m\u001b[0m\n",
      "\u001b[0;32m~/.local/lib/python3.7/site-packages/IPython/lib/latextools.py\u001b[0m in \u001b[0;36mlatex_to_png_dvipng\u001b[0;34m(s, wrap, color, scale)\u001b[0m\n\u001b[1;32m    148\u001b[0m             subprocess.check_call(\n\u001b[1;32m    149\u001b[0m                 \u001b[0;34m[\u001b[0m\u001b[0;34m\"latex\"\u001b[0m\u001b[0;34m,\u001b[0m \u001b[0;34m\"-halt-on-error\"\u001b[0m\u001b[0;34m,\u001b[0m \u001b[0;34m\"-interaction\"\u001b[0m\u001b[0;34m,\u001b[0m \u001b[0;34m\"batchmode\"\u001b[0m\u001b[0;34m,\u001b[0m \u001b[0mtmpfile\u001b[0m\u001b[0;34m]\u001b[0m\u001b[0;34m,\u001b[0m\u001b[0;34m\u001b[0m\u001b[0;34m\u001b[0m\u001b[0m\n\u001b[0;32m--> 150\u001b[0;31m                 cwd=workdir, stdout=devnull, stderr=devnull)\n\u001b[0m\u001b[1;32m    151\u001b[0m \u001b[0;34m\u001b[0m\u001b[0m\n\u001b[1;32m    152\u001b[0m             \u001b[0mresolution\u001b[0m \u001b[0;34m=\u001b[0m \u001b[0mround\u001b[0m\u001b[0;34m(\u001b[0m\u001b[0;36m150\u001b[0m\u001b[0;34m*\u001b[0m\u001b[0mscale\u001b[0m\u001b[0;34m)\u001b[0m\u001b[0;34m\u001b[0m\u001b[0;34m\u001b[0m\u001b[0m\n",
      "\u001b[0;32m/projects/percept/linux_rhel6/anaconda3/lib/python3.7/subprocess.py\u001b[0m in \u001b[0;36mcheck_call\u001b[0;34m(*popenargs, **kwargs)\u001b[0m\n\u001b[1;32m    340\u001b[0m     \u001b[0mcheck_call\u001b[0m\u001b[0;34m(\u001b[0m\u001b[0;34m[\u001b[0m\u001b[0;34m\"ls\"\u001b[0m\u001b[0;34m,\u001b[0m \u001b[0;34m\"-l\"\u001b[0m\u001b[0;34m]\u001b[0m\u001b[0;34m)\u001b[0m\u001b[0;34m\u001b[0m\u001b[0;34m\u001b[0m\u001b[0m\n\u001b[1;32m    341\u001b[0m     \"\"\"\n\u001b[0;32m--> 342\u001b[0;31m     \u001b[0mretcode\u001b[0m \u001b[0;34m=\u001b[0m \u001b[0mcall\u001b[0m\u001b[0;34m(\u001b[0m\u001b[0;34m*\u001b[0m\u001b[0mpopenargs\u001b[0m\u001b[0;34m,\u001b[0m \u001b[0;34m**\u001b[0m\u001b[0mkwargs\u001b[0m\u001b[0;34m)\u001b[0m\u001b[0;34m\u001b[0m\u001b[0;34m\u001b[0m\u001b[0m\n\u001b[0m\u001b[1;32m    343\u001b[0m     \u001b[0;32mif\u001b[0m \u001b[0mretcode\u001b[0m\u001b[0;34m:\u001b[0m\u001b[0;34m\u001b[0m\u001b[0;34m\u001b[0m\u001b[0m\n\u001b[1;32m    344\u001b[0m         \u001b[0mcmd\u001b[0m \u001b[0;34m=\u001b[0m \u001b[0mkwargs\u001b[0m\u001b[0;34m.\u001b[0m\u001b[0mget\u001b[0m\u001b[0;34m(\u001b[0m\u001b[0;34m\"args\"\u001b[0m\u001b[0;34m)\u001b[0m\u001b[0;34m\u001b[0m\u001b[0;34m\u001b[0m\u001b[0m\n",
      "\u001b[0;32m/projects/percept/linux_rhel6/anaconda3/lib/python3.7/subprocess.py\u001b[0m in \u001b[0;36mcall\u001b[0;34m(timeout, *popenargs, **kwargs)\u001b[0m\n\u001b[1;32m    323\u001b[0m     \u001b[0;32mwith\u001b[0m \u001b[0mPopen\u001b[0m\u001b[0;34m(\u001b[0m\u001b[0;34m*\u001b[0m\u001b[0mpopenargs\u001b[0m\u001b[0;34m,\u001b[0m \u001b[0;34m**\u001b[0m\u001b[0mkwargs\u001b[0m\u001b[0;34m)\u001b[0m \u001b[0;32mas\u001b[0m \u001b[0mp\u001b[0m\u001b[0;34m:\u001b[0m\u001b[0;34m\u001b[0m\u001b[0;34m\u001b[0m\u001b[0m\n\u001b[1;32m    324\u001b[0m         \u001b[0;32mtry\u001b[0m\u001b[0;34m:\u001b[0m\u001b[0;34m\u001b[0m\u001b[0;34m\u001b[0m\u001b[0m\n\u001b[0;32m--> 325\u001b[0;31m             \u001b[0;32mreturn\u001b[0m \u001b[0mp\u001b[0m\u001b[0;34m.\u001b[0m\u001b[0mwait\u001b[0m\u001b[0;34m(\u001b[0m\u001b[0mtimeout\u001b[0m\u001b[0;34m=\u001b[0m\u001b[0mtimeout\u001b[0m\u001b[0;34m)\u001b[0m\u001b[0;34m\u001b[0m\u001b[0;34m\u001b[0m\u001b[0m\n\u001b[0m\u001b[1;32m    326\u001b[0m         \u001b[0;32mexcept\u001b[0m\u001b[0;34m:\u001b[0m  \u001b[0;31m# Including KeyboardInterrupt, wait handled that.\u001b[0m\u001b[0;34m\u001b[0m\u001b[0;34m\u001b[0m\u001b[0m\n\u001b[1;32m    327\u001b[0m             \u001b[0mp\u001b[0m\u001b[0;34m.\u001b[0m\u001b[0mkill\u001b[0m\u001b[0;34m(\u001b[0m\u001b[0;34m)\u001b[0m\u001b[0;34m\u001b[0m\u001b[0;34m\u001b[0m\u001b[0m\n",
      "\u001b[0;32m/projects/percept/linux_rhel6/anaconda3/lib/python3.7/subprocess.py\u001b[0m in \u001b[0;36mwait\u001b[0;34m(self, timeout)\u001b[0m\n\u001b[1;32m    988\u001b[0m             \u001b[0mendtime\u001b[0m \u001b[0;34m=\u001b[0m \u001b[0m_time\u001b[0m\u001b[0;34m(\u001b[0m\u001b[0;34m)\u001b[0m \u001b[0;34m+\u001b[0m \u001b[0mtimeout\u001b[0m\u001b[0;34m\u001b[0m\u001b[0;34m\u001b[0m\u001b[0m\n\u001b[1;32m    989\u001b[0m         \u001b[0;32mtry\u001b[0m\u001b[0;34m:\u001b[0m\u001b[0;34m\u001b[0m\u001b[0;34m\u001b[0m\u001b[0m\n\u001b[0;32m--> 990\u001b[0;31m             \u001b[0;32mreturn\u001b[0m \u001b[0mself\u001b[0m\u001b[0;34m.\u001b[0m\u001b[0m_wait\u001b[0m\u001b[0;34m(\u001b[0m\u001b[0mtimeout\u001b[0m\u001b[0;34m=\u001b[0m\u001b[0mtimeout\u001b[0m\u001b[0;34m)\u001b[0m\u001b[0;34m\u001b[0m\u001b[0;34m\u001b[0m\u001b[0m\n\u001b[0m\u001b[1;32m    991\u001b[0m         \u001b[0;32mexcept\u001b[0m \u001b[0mKeyboardInterrupt\u001b[0m\u001b[0;34m:\u001b[0m\u001b[0;34m\u001b[0m\u001b[0;34m\u001b[0m\u001b[0m\n\u001b[1;32m    992\u001b[0m             \u001b[0;31m# https://bugs.python.org/issue25942\u001b[0m\u001b[0;34m\u001b[0m\u001b[0;34m\u001b[0m\u001b[0;34m\u001b[0m\u001b[0m\n",
      "\u001b[0;32m/projects/percept/linux_rhel6/anaconda3/lib/python3.7/subprocess.py\u001b[0m in \u001b[0;36m_wait\u001b[0;34m(self, timeout)\u001b[0m\n\u001b[1;32m   1622\u001b[0m                         \u001b[0;32mif\u001b[0m \u001b[0mself\u001b[0m\u001b[0;34m.\u001b[0m\u001b[0mreturncode\u001b[0m \u001b[0;32mis\u001b[0m \u001b[0;32mnot\u001b[0m \u001b[0;32mNone\u001b[0m\u001b[0;34m:\u001b[0m\u001b[0;34m\u001b[0m\u001b[0;34m\u001b[0m\u001b[0m\n\u001b[1;32m   1623\u001b[0m                             \u001b[0;32mbreak\u001b[0m  \u001b[0;31m# Another thread waited.\u001b[0m\u001b[0;34m\u001b[0m\u001b[0;34m\u001b[0m\u001b[0m\n\u001b[0;32m-> 1624\u001b[0;31m                         \u001b[0;34m(\u001b[0m\u001b[0mpid\u001b[0m\u001b[0;34m,\u001b[0m \u001b[0msts\u001b[0m\u001b[0;34m)\u001b[0m \u001b[0;34m=\u001b[0m \u001b[0mself\u001b[0m\u001b[0;34m.\u001b[0m\u001b[0m_try_wait\u001b[0m\u001b[0;34m(\u001b[0m\u001b[0;36m0\u001b[0m\u001b[0;34m)\u001b[0m\u001b[0;34m\u001b[0m\u001b[0;34m\u001b[0m\u001b[0m\n\u001b[0m\u001b[1;32m   1625\u001b[0m                         \u001b[0;31m# Check the pid and loop as waitpid has been known to\u001b[0m\u001b[0;34m\u001b[0m\u001b[0;34m\u001b[0m\u001b[0;34m\u001b[0m\u001b[0m\n\u001b[1;32m   1626\u001b[0m                         \u001b[0;31m# return 0 even without WNOHANG in odd situations.\u001b[0m\u001b[0;34m\u001b[0m\u001b[0;34m\u001b[0m\u001b[0;34m\u001b[0m\u001b[0m\n",
      "\u001b[0;32m/projects/percept/linux_rhel6/anaconda3/lib/python3.7/subprocess.py\u001b[0m in \u001b[0;36m_try_wait\u001b[0;34m(self, wait_flags)\u001b[0m\n\u001b[1;32m   1580\u001b[0m             \u001b[0;34m\"\"\"All callers to this function MUST hold self._waitpid_lock.\"\"\"\u001b[0m\u001b[0;34m\u001b[0m\u001b[0;34m\u001b[0m\u001b[0m\n\u001b[1;32m   1581\u001b[0m             \u001b[0;32mtry\u001b[0m\u001b[0;34m:\u001b[0m\u001b[0;34m\u001b[0m\u001b[0;34m\u001b[0m\u001b[0m\n\u001b[0;32m-> 1582\u001b[0;31m                 \u001b[0;34m(\u001b[0m\u001b[0mpid\u001b[0m\u001b[0;34m,\u001b[0m \u001b[0msts\u001b[0m\u001b[0;34m)\u001b[0m \u001b[0;34m=\u001b[0m \u001b[0mos\u001b[0m\u001b[0;34m.\u001b[0m\u001b[0mwaitpid\u001b[0m\u001b[0;34m(\u001b[0m\u001b[0mself\u001b[0m\u001b[0;34m.\u001b[0m\u001b[0mpid\u001b[0m\u001b[0;34m,\u001b[0m \u001b[0mwait_flags\u001b[0m\u001b[0;34m)\u001b[0m\u001b[0;34m\u001b[0m\u001b[0;34m\u001b[0m\u001b[0m\n\u001b[0m\u001b[1;32m   1583\u001b[0m             \u001b[0;32mexcept\u001b[0m \u001b[0mChildProcessError\u001b[0m\u001b[0;34m:\u001b[0m\u001b[0;34m\u001b[0m\u001b[0;34m\u001b[0m\u001b[0m\n\u001b[1;32m   1584\u001b[0m                 \u001b[0;31m# This happens if SIGCLD is set to be ignored or waiting\u001b[0m\u001b[0;34m\u001b[0m\u001b[0;34m\u001b[0m\u001b[0;34m\u001b[0m\u001b[0m\n",
      "\u001b[0;31mKeyboardInterrupt\u001b[0m: "
     ]
    }
   ],
   "source": [
    "%qed"
   ]
  },
  {
   "cell_type": "code",
   "execution_count": null,
   "metadata": {},
   "outputs": [],
   "source": []
  }
 ],
 "metadata": {
  "kernelspec": {
   "display_name": "Python 3",
   "language": "python",
   "name": "python3"
  },
  "language_info": {
   "codemirror_mode": {
    "name": "ipython",
    "version": 3
   },
   "file_extension": ".py",
   "mimetype": "text/x-python",
   "name": "python",
   "nbconvert_exporter": "python",
   "pygments_lexer": "ipython3",
   "version": "3.7.3"
  }
 },
 "nbformat": 4,
 "nbformat_minor": 1
}
