{
 "cells": [
  {
   "cell_type": "markdown",
   "metadata": {},
   "source": [
    "Proof of <a class=\"ProveItLink\" href=\"../../../../../_theory_nbs_/theory.ipynb\">proveit</a>.<a class=\"ProveItLink\" href=\"../../../../_theory_nbs_/theory.ipynb\">numbers</a>.<a class=\"ProveItLink\" href=\"../../theory.ipynb\">ordering</a>.<a class=\"ProveItLink\" href=\"../../theorems.ipynb#symmetric_less_eq\">symmetric_less_eq</a> theorem\n",
    "========"
   ]
  },
  {
   "cell_type": "code",
   "execution_count": 21,
   "metadata": {},
   "outputs": [],
   "source": [
    "import proveit\n",
    "from proveit import defaults\n",
    "from proveit.logic.equality  import equals_symmetry\n",
    "from proveit import x, y, z\n",
    "from proveit.logic import Equals, Or, InSet, Boolean, And, Not\n",
    "from proveit.numbers import LessEq, Less, Real\n",
    "from proveit.numbers.ordering  import less_eq_def, transitivity_less_less\n",
    "theory = proveit.Theory() # the theorem's theory"
   ]
  },
  {
   "cell_type": "code",
   "execution_count": 2,
   "metadata": {},
   "outputs": [
    {
     "data": {
      "text/html": [
       "Under these <a href=\"presumptions.txt\">presumptions</a>, we begin our proof of<br><strong id=\"symmetric_less_eq\">symmetric_less_eq:</strong> <a class=\"ProveItLink\" href=\"../../../__pv_it/theorems/fa4debf81cb3a764fe7539e5a0f18c463f6efa060/expr.ipynb\"><img src=\"data:image/png;base64,iVBORw0KGgoAAAANSUhEUgAAAMUAAAAXBAMAAABJ4JbnAAAAMFBMVEX///+IiIgiIiIQEBB2dnbu\n",
       "7u5ERETMzMzc3NwyMjK6urpmZmaYmJiqqqpUVFQAAAB6qHgnAAAAAXRSTlMAQObYZgAAAAlwSFlz\n",
       "AAAOxAAADsQBlSsOGwAAAlZJREFUSMetVj1oFEEU/u5u9/Zu93bdFAYxGI5rBKuNCFbCpbQIjKCF\n",
       "CEFBLSwkELFTVkNa2Uaw1NIqaqMG0b0mCCIJFmliEUHTKJIuKX3zdi77vyB7D3Zn9vvmzbc7782b\n",
       "BSZhnXLKx4TsVDn1gq5d2fleT8IelnONEFiXnWf1NK5WkU+Bh3I5r9fT+FBFfgG6AtC26ml4VWRL\n",
       "oEfr1a0ZjqCK7ZLA2cHgXD0Ni0KuT/26t5CG9ZkQi7RIlFVvgVs5t1f/oyHf1MKs+0bqDdhktmq2\n",
       "h02gR1/5BJ3dnFs6CbZzGymFNCmcn7Ep/qTHPLD62KOVpGi1hfa8WmPbzUmkkBb5L+F9dpBouZgD\n",
       "jH3ScQtCntTYCLNsBmnxO87lJlkTxgFgyqwLRnSbejdDn2/OwkloMDgtE1sRUcOI8hivFcxDXEnH\n",
       "g76sQfPbfeou0E5s+HtdGnnpmFiONRhc5gkVwU2EKA9pbRf6HcdDtqLcRZu0enKuFdnBDYO6q98w\n",
       "HWswaN8UMcFNhCgPaZSd9sE1z8zu5I9YC6PMhrMkgUOGf+JHMh4SNHlKRXATIcqDzOhDf+3ufM3G\n",
       "Y3H+E61m8yijDI/PgDM4n9CIQOO3f0REDSPKQ9rpsp1zka7H44cVLbBwmUab+7EGg7Jk/hVMxDwh\n",
       "Y1KVvQLTAv1CsmBaJ+ePy2DubASxBoPqmJNEgu/EpAx64WHXdJ1hvqZv6X47LNjnVHuYiPkMW3g2\n",
       "2KP1vL4pHPclCjWYSPAZe1RezE6kH3swR8Osxv3bZD4Tio+Q+j8BE/ubkPYPO5egV0qjPIwAAAAA\n",
       "SUVORK5CYII=\n",
       "\" style=\"display:inline;vertical-align:middle;\" /></a><br>(see <a class=\"ProveItLink\" href=\"../../../__pv_it/theorems/ff83459a5ad389effc70e59d0989358838d8431c0/dependencies.ipynb\">dependencies</a>)<br>"
      ],
      "text/plain": [
       "<IPython.core.display.HTML object>"
      ]
     },
     "metadata": {},
     "output_type": "display_data"
    }
   ],
   "source": [
    "%proving symmetric_less_eq"
   ]
  },
  {
   "cell_type": "code",
   "execution_count": 3,
   "metadata": {},
   "outputs": [
    {
     "data": {
      "text/html": [
       "<strong id=\"defaults.assumptions\">defaults.assumptions:</strong> <a class=\"ProveItLink\" href=\"../../../__pv_it/theorems/9cd515d9e2697586e8e57935d70978b94220f6a70/expr.ipynb\"><img src=\"data:image/png;base64,iVBORw0KGgoAAAANSUhEUgAAAHoAAAAVBAMAAAB71edYAAAAMFBMVEX////MzMxUVFRERES6uroi\n",
       "IiIQEBCYmJhmZmYyMjLu7u52dnaqqqqIiIjc3NwAAACW8nlqAAAAAXRSTlMAQObYZgAAAAlwSFlz\n",
       "AAAOxAAADsQBlSsOGwAAAZhJREFUOMtjYGB4wEAe4AMRvAfI1M1yAUicZiAXXGdg4JqAJsYzD5+O\n",
       "k0j+5FzAwFGAKs0esQCP5tIuZKUNDGyo0rzR+DRf3YXCzWI4icJfHYtHL9fWC6gC0xm6geTaSwt3\n",
       "g0N+RThMYm07A5cCKourFe5JqIZNQP0MDA28uhwBQHrRHLixG44xsH9AYXFpIqIWqqGSIQbo+wfs\n",
       "v5hA5jLBdTMeaGVgMkBlIXTDNBxjSAEqYOCARtsLmMu5GHIZ2C6gsvjgLodpkAfpZoBKI4cayy8G\n",
       "eQE0FlKoQTS4gVzOwOD/gGsBaowBDb/GgMZCijGIhqMMtgwMix3UGLjRUguzAoMRA8MCOAsltcA0\n",
       "FANDneG8VBuDDyKlTgTbqMDynYHrJ4yFSKkgT8A0dDOIAmP5Lk87ekbj0r7xj4EhdAGMhQJgGkIY\n",
       "WAVwpCxuYLDyLICxsGbwAFBSxwZ2MiwDms4NZ2EDoAxmh+AuDQWBQBAzlkEblCLhLKAPwJKhSE59\n",
       "DApArOYev+EAJC/AWdgAyF6+C2QWLbwPGADsrXy8DiWDAQAAAABJRU5ErkJggg==\n",
       "\" style=\"display:inline;vertical-align:middle;\" /></a><br>"
      ],
      "text/plain": [
       "<IPython.core.display.HTML object>"
      ]
     },
     "metadata": {},
     "output_type": "display_data"
    }
   ],
   "source": [
    "defaults.assumptions = symmetric_less_eq.all_conditions()"
   ]
  },
  {
   "cell_type": "code",
   "execution_count": 4,
   "metadata": {},
   "outputs": [
    {
     "data": {
      "text/html": [
       "<span style=\"font-size:20px;\"> <a class=\"ProveItLink\" href=\"../../axioms.ipynb#less_eq_def\" style=\"text-decoration: none\">&nbsp;&#x22A2;&nbsp;&nbsp;</a><a class=\"ProveItLink\" href=\"../../../__pv_it/axioms/77d6ff7c532a194c5fae4b1c6707b9c6decf64260/expr.ipynb\"><img src=\"data:image/png;base64,iVBORw0KGgoAAAANSUhEUgAAAUcAAAAWBAMAAAChwkO+AAAAMFBMVEX///+IiIgiIiIQEBB2dnbu\n",
       "7u5ERETMzMzc3NwyMjK6urpmZmaYmJiqqqpUVFQAAAB6qHgnAAAAAXRSTlMAQObYZgAAAAlwSFlz\n",
       "AAAOxAAADsQBlSsOGwAAA0lJREFUSMfNl01oE0EUx1/SbNJsNutWUIrFkgZB/CSKIAhCKnjwUNlC\n",
       "FUQo7UEoHiRYr0ps8VAEyUXIQSEePVWDoi1WUw8iFG2QXkI9RNCC4MFbe3Rm583szuxsN0cf/EIz\n",
       "ef83b2bevp0CRFoV2eVn1fqRniXV+Ol3cQFItBlR9kwzdhDpVRIXn9OlA981ThtI5CJaoaF8mdGz\n",
       "JC4+Z5kO1MM+Ro0hWyew+Y9DmmtIpHkS2yUfGQd08VVn5B4to6mwS67FkOzj68CXtZDmHRJpnsSi\n",
       "+aUroIkfckayZF0pTWn0IUHbe1HycFVNCZFroK5KCoQF0MRXMnAFFllNVuPSQQIFcMGRvmfVfcjX\n",
       "GJJZx1xVMkZYgVB81agz53SxeEbj8goxBn7dGfNybPKkjKEWTJL976oVUmYICS3/Q25IsoC7KccP\n",
       "7IbvzHkDcEOT5BMkB8NOkyp/i5pI5UuwTvbI27RmkdrJ4NK5hNjEiEZiVyDhgBI/58UpdmVnziPo\n",
       "72qSPIF8hnX3Dx3wk7ybK8AWOVm1/JJthpDAw+M6SaYLSRfU+L4FnDlpN9XQJHkOqcASvk3Ecbt9\n",
       "Dpwic/1VK73BEBL7KWglddgUcwhn3wLOnLyje25EkkD9lQdn0c1sA5iliCSFxE9SlmxgY5bjg8aZ\n",
       "A7VV8jHwdoj0aXMYbOW4wdyBK0oLWoIEPYaCUpP8uH2JOG5JAsnMlJiDOwdqMuDMgTHS0hPVrSwJ\n",
       "P77HncWo0wzjpl2CstLMb0GaBLPUV0Da8QhK+IMjSxJfG3wOOX7ImQPzdACmM+TPB99gPzpeZuS3\n",
       "r5dMv9d36IsC3sNii3UbybBfSJLxEdYmJYlxRMyhxAfFmUM7ArEd7+ef8AMdbzOMl87mF7VmJkc/\n",
       "kNpIqs9bpuAhSyzWKGXJipgjJj4HJyh598CjcJb3kwpDb5cIc6HRw4j8yqlHSuLjzwVF86laDibI\n",
       "FCbvK9YLhsZSNeO89iqxpr12REvi40tXltyB0X0w24bNT+LdO4PwBsSePrr2pGOXtVendJURtgjJ\n",
       "DOzuzAla26imxa3hKhK2/OoyaLMxphg9S+Lia1Zturbz3P9/xWFE2aBm7D7SqyQu/mBYZIG5Wob/\n",
       "0P4B8UwLoxXirbkAAAAASUVORK5CYII=\n",
       "\" style=\"display:inline;vertical-align:middle;\" /></a></span>"
      ],
      "text/plain": [
       "|- forall_{x, y} ((x <= y) = ((x < y) or (x = y)))"
      ]
     },
     "metadata": {},
     "output_type": "display_data"
    }
   ],
   "source": [
    "less_eq_def"
   ]
  },
  {
   "cell_type": "code",
   "execution_count": 5,
   "metadata": {},
   "outputs": [
    {
     "data": {
      "text/html": [
       "<strong id=\"spec_l_e_dxy\">spec_l_e_dxy:</strong> <span style=\"font-size:20px;\"> <a class=\"ProveItLink\" href=\"../../../__pv_it/_proof_symmetric_less_eq/697a7287818434e649776a43566bc313eb2e875d0/proof.ipynb\" style=\"text-decoration: none\">&nbsp;&#x22A2;&nbsp;&nbsp;</a><a class=\"ProveItLink\" href=\"../../../__pv_it/axioms/1af4f8c9abfd3cd7db1c0455020e61577b1cf48a0/expr.ipynb\"><img src=\"data:image/png;base64,iVBORw0KGgoAAAANSUhEUgAAAQcAAAAVBAMAAAC57DawAAAAMFBMVEX////MzMxUVFRERES6uroi\n",
       "IiIQEBCYmJhmZmYyMjLu7u52dnaqqqqIiIjc3NwAAACW8nlqAAAAAXRSTlMAQObYZgAAAAlwSFlz\n",
       "AAAOxAAADsQBlSsOGwAAAqhJREFUSMeNVT1rFFEUvfsxu+PbmWUbG7VYEBQFYRFbw/4AJauQQkix\n",
       "RUqFRRAiRBPENcRE3E6wkDFpoiAsgoUxQsqEFA6BgIiRbSxSCElrId6572Xnfe7shTMf951z5s59\n",
       "b94AwACcYRuqCowtyfCn4XDLTbppyf0UGFeS5U+CXTcHwo6RCvocY0uy/BOwnj6yI/XvtaF7J+AM\n",
       "kuQjPORisPnrZISvV/7guXQza8gWBZxBknLy/EINLP4GGVHS0vsb8l0p0mVtAWfzuKSFOKTbUTUQ\n",
       "GbGjJNmnWLk/pb9H0ONwN49LNhErVN/IIhIyYhkvP+y9/UJrmHVPHsq+d2AVoFLXVH6fgx1cPrup\n",
       "Nk+RHIpuqP7S26ZkxCvMLIRX/ETBLg2plaAN8zi39NLdqSRuS6WDD3txV22eIsnXIKS87O+Tz1Rd\n",
       "JSOm8Tgo/81TC9IizqHqPHZen35vi+MxzEcXae8aNk+R5Org0eJQ/NOQyIgZFIAvZjl1jEox3MOh\n",
       "I30lNTlqsMQTad2q5A1s01nxT0MiI2bIOjYW5mSUOwYoth1FQGKhFqFKdrEMUYTkDxYyYpoyAxZp\n",
       "n+gShEmrWtqaOJkOKP6D92rzFAl4uQaI6Rj6S2tCIiOuA6w1L0BF/96uQgHJ5Yb2AoWYwK7l29DX\n",
       "mqdIwvvUL9PfICM+Anw78wxuSDtPstHBE5js8K9RCfFNBcfr7aKYCLb/g18oEnaHJ01/nYw4DbB+\n",
       "ECwav7rVry9xG/SaWjrXIrAX8fZc2rwNi2SFn7L9EV7NtZt9Rvw2srcElHg4cEqy/RHlBSuj0mN3\n",
       "rb+qWetvzS3J9k8wIe2lfPUmtXtxHqer2jDUhQGHGQ7JBIwmk2DNSgoePQXr01iDY2xJlj8JqrH7\n",
       "J/fLkvsjMK4kyx/xH5DO8K7aEhhxAAAAAElFTkSuQmCC\n",
       "\" style=\"display:inline;vertical-align:middle;\" /></a></span><br>"
      ],
      "text/plain": [
       "<IPython.core.display.HTML object>"
      ]
     },
     "metadata": {},
     "output_type": "display_data"
    }
   ],
   "source": [
    "spec_l_e_dxy = less_eq_def.instantiate({x:x, y:y})"
   ]
  },
  {
   "cell_type": "code",
   "execution_count": 6,
   "metadata": {},
   "outputs": [
    {
     "data": {
      "text/html": [
       "<span style=\"font-size:20px;\"><a class=\"ProveItLink\" href=\"../../../__pv_it/theorems/aba6340e84a2dc194f2dc2e8029d9090c42823300/expr.ipynb\"><img src=\"data:image/png;base64,iVBORw0KGgoAAAANSUhEUgAAADMAAAARBAMAAACC64kkAAAAMFBMVEX///9ERES6uroQEBAyMjLc\n",
       "3NyYmJgiIiJmZmaqqqp2dnbMzMxUVFSIiIju7u4AAAAd7oVFAAAAAXRSTlMAQObYZgAAAAlwSFlz\n",
       "AAAOxAAADsQBlSsOGwAAALxJREFUGNNjYEAFUwIYcID0Plwy19fhkOBbfgFV4O2d16smgGXaE2Bq\n",
       "biQwvAHSDbxnOQpA/CMTYKq5OA0Y8hkY2ALY/vGAlSOkdgLVHmRg4GbgcIAIsMINfMB8gcEWxGC+\n",
       "gOEM/Qfcv8F0AN8DNMe3MPAaMDA8VDjMwIXuZRkGxgMMDPP3NTNoIgXUBhDZw6APtPfFXc62Ceie\n",
       "f7O2H2dYMizBIc7lwGeJEoLlYACyi/0CzwIcujhzm4AkACO9NNYnbypiAAAAAElFTkSuQmCC\n",
       "\" style=\"display:inline;vertical-align:middle;\" /></a> <a class=\"ProveItLink\" href=\"../../../__pv_it/_proof_symmetric_less_eq/7f5e136b497c05a7bb55e12c392ed87717233cc50/proof.ipynb\" style=\"text-decoration: none\">&nbsp;&#x22A2;&nbsp;&nbsp;</a><a class=\"ProveItLink\" href=\"../../../__pv_it/_proof_symmetric_less_eq/24a7a83070d08514286f9ec5bfb4b84238868d0f0/expr.ipynb\"><img src=\"data:image/png;base64,iVBORw0KGgoAAAANSUhEUgAAAGwAAAAVBAMAAABRZRb3AAAAMFBMVEX////MzMxUVFRERES6uroi\n",
       "IiIQEBCYmJhmZmYyMjLu7u52dnaqqqqIiIjc3NwAAACW8nlqAAAAAXRSTlMAQObYZgAAAAlwSFlz\n",
       "AAAOxAAADsQBlSsOGwAAAVhJREFUOMtjYGB4wIAT4JHiPYBbzhe31GkGPEYWoIu0hoJAEAPXBHSZ\n",
       "k0hOm4XFrLMgggPdwNIuJE4FLm1saIJXdyHz2Bbg0HYSRYhr6wUUPmcBDm3dIMV3taT3gHW1wpRx\n",
       "3ShgWMTAwK2AQ9t0kP8YLl1oBanVhEcGN08CQz0DA/sE5OBD0hYDxHUM9QvUQRyENhmOAAZlBgag\n",
       "Zuy2pQCxAEMnRIQP7sgFbBcYchkYGD/g0cYAUoEWJP4LGD8yMLDgsg3kSAaWfwyr0CKgk4EXqIUn\n",
       "AIffbIFWmDAlMGxAi24jBmZgKLIb4LBtE9DIjysSWBAJ+qQAiGxi8Af6k2MDDm2iQNt6L5yoQZdc\n",
       "tLcfmDZZHTC1uYMIVgFcyX8nED/FJcnegFWYewJXDpBqx5mn7JBSJDjEQkH2s15gAnqLzwCntsVY\n",
       "RXlqW4AkM+5Sge8C7tx9D5cEAN3qWBfXN2apAAAAAElFTkSuQmCC\n",
       "\" style=\"display:inline;vertical-align:middle;\" /></a></span>"
      ],
      "text/plain": [
       "{x <= y} |- (x <= y) = TRUE"
      ]
     },
     "metadata": {},
     "output_type": "display_data"
    }
   ],
   "source": [
    "spec_l_e_dxy.lhs.evaluation()"
   ]
  },
  {
   "cell_type": "code",
   "execution_count": 7,
   "metadata": {},
   "outputs": [
    {
     "data": {
      "text/html": [
       "<strong id=\"spec_l_e_dyx\">spec_l_e_dyx:</strong> <span style=\"font-size:20px;\"> <a class=\"ProveItLink\" href=\"../../../__pv_it/_proof_symmetric_less_eq/00d99ac7def6a7f7e7bcfc37f08eac73991c04240/proof.ipynb\" style=\"text-decoration: none\">&nbsp;&#x22A2;&nbsp;&nbsp;</a><a class=\"ProveItLink\" href=\"../../../__pv_it/_proof_symmetric_less_eq/404584cb1889bf6903a64a892e8b517a77046e5d0/expr.ipynb\"><img src=\"data:image/png;base64,iVBORw0KGgoAAAANSUhEUgAAAQcAAAAVBAMAAAC57DawAAAAMFBMVEX////MzMxUVFRERES6uroi\n",
       "IiIQEBCYmJhmZmYyMjLu7u52dnaqqqqIiIjc3NwAAACW8nlqAAAAAXRSTlMAQObYZgAAAAlwSFlz\n",
       "AAAOxAAADsQBlSsOGwAAAqxJREFUSMeNVj1rFFEUPbNfs052wzZWCg5YCKZZxFbZPyDZCBJFF6aw\n",
       "VAhWFmpEXBYxkrUSRJYhokQlsNgFFLbShDSDhWyhkkYwhZBUgkXwvjsT933My8yDM7Nz3zln7tz7\n",
       "3swC2IZ1pE1NJ8gtyfDn6frITrqQEvuWIK8ky58FW3YO6gtGqDaMkVuS5S/g9fW7DKSL54buTQLr\n",
       "YEkhpIMTIcXfIBOqWubu5VC6um3IegmsgyWuuH+xAdPfJBMqWoGuyjmgEuqyIIG1eLGkTdjhy8Ny\n",
       "YDJhUwm+66ikI/pz1Pox7MWLJR8IS+LH5qFJCDLhMbVtvIAVjq3OH8x6308fI6MpX1NVhzHWevB8\n",
       "tXiKZCephuo/GRKZ8IyOtQCLYmblxeRm+BJ16SH5obuXxLgopY7hJ7i7avEUSaGBulgXir/kI5EJ\n",
       "14Dj1TZOsnKSxD0shqeo8nr7yyOGM+qi0BSBX/OpEsdHmQsk+0tDIhOuA2Elwk2ojg08Yq9dfSW1\n",
       "GB4JKpGatyoZYIPPij/SyAQiYTZ09oyFybJSkJ4ESn9xoqEmoUq2MDhIQvJPIxOoXJRUPdC3aGkf\n",
       "b6lUba2XSTtQ7eOrVjxFgrLD3VL8JR+JTDhHgTMo+up+884WAtAmcJta/sUogU8qpXiapH6rxWfd\n",
       "3yQT3lPoAWYn74PaU3HYWw1Ko3g3KiPZU6j6pT9JaK3DxdMk3pV41vCHTiYcFVvz47L2vfWeRBt3\n",
       "RFFbWhJOO4Y3M97/XzxuoS5Zik/Z/oSyWF5Yt7zRfhqRuQSYmrw33YFdku1PcO+TnXfDQurZPjnr\n",
       "eD3KJcn2FziPclSI+/iKV++c9C+qaciK24wOZtJtDYnkn0pmwUvU7j60JFo0/5p5TcbncSunJMuf\n",
       "BdOR/SP3IyX2O0FeSZY/4R+8f+q0XPic8AAAAABJRU5ErkJggg==\n",
       "\" style=\"display:inline;vertical-align:middle;\" /></a></span><br>"
      ],
      "text/plain": [
       "<IPython.core.display.HTML object>"
      ]
     },
     "metadata": {},
     "output_type": "display_data"
    }
   ],
   "source": [
    "spec_l_e_dyx = less_eq_def.instantiate({x:y, y:x})"
   ]
  },
  {
   "cell_type": "code",
   "execution_count": 8,
   "metadata": {},
   "outputs": [
    {
     "data": {
      "text/html": [
       "<span style=\"font-size:20px;\"><a class=\"ProveItLink\" href=\"../../../__pv_it/theorems/cc122af6fc094f1a731dae6559a808fbe16a486e0/expr.ipynb\"><img src=\"data:image/png;base64,iVBORw0KGgoAAAANSUhEUgAAADIAAAARBAMAAABtKeIaAAAAMFBMVEX////c3NwyMjK6urpEREQi\n",
       "IiLMzMwQEBCqqqp2dnZUVFSYmJhmZmaIiIju7u4AAADlKNhoAAAAAXRSTlMAQObYZgAAAAlwSFlz\n",
       "AAAOxAAADsQBlSsOGwAAALtJREFUGNNjYEABHIoM2AF3zAPsEryROCRexqJw+e5sYHgFZr2Jhovd\n",
       "XZc5g4GTo4BhP4j7SgOumofh1oWjDBk8AQxLQFwuhMxGhv0PVjM8YL/AUAvmy8BNS2A4BKLsH7B9\n",
       "w3ABWO0hBt4CdFczf2R4x8DgxcCyANWnfM5cBQwTGBhOMdhvQISOGoj49qaAuQHo2rnnBVB9zHf2\n",
       "Qs8OMGsS9iDhVOCrwC7DeoFrApjxNBQEwpBiZO9h7FoAd180my0fhecAAAAASUVORK5CYII=\n",
       "\" style=\"display:inline;vertical-align:middle;\" /></a> <a class=\"ProveItLink\" href=\"../../../__pv_it/_proof_symmetric_less_eq/160d9803c1142a55230917d3d393ed1799cc2ee20/proof.ipynb\" style=\"text-decoration: none\">&nbsp;&#x22A2;&nbsp;&nbsp;</a><a class=\"ProveItLink\" href=\"../../../__pv_it/_proof_symmetric_less_eq/40b3942f43ed61809a9bbe6c44835e52f1858ace0/expr.ipynb\"><img src=\"data:image/png;base64,iVBORw0KGgoAAAANSUhEUgAAAJgAAAAVBAMAAABIwjoUAAAAMFBMVEX////MzMxUVFRERES6uroi\n",
       "IiIQEBCYmJhmZmYyMjLu7u52dnaqqqqIiIjc3NwAAACW8nlqAAAAAXRSTlMAQObYZgAAAAlwSFlz\n",
       "AAAOxAAADsQBlSsOGwAAAiBJREFUOMuNVT1IHEEU/u5/nd07QkKaEPFECSQiGPvIVakCXsA0EuEK\n",
       "q6AgiKCFREL0SCxyne3ljoSkECSQIopwTRSxyCGYHBJhwVrQSrAQ35vd272dZAa3eDPvvW/evPne\n",
       "m1kALnRf7gaWqCvb0PqTTdXyF2bwvt6PP4rubJjBomLwd1VZPmLRzeIrzGBrxuDPLLFcZPGYRRlm\n",
       "cFq17XUW5BWLFNMrD1AyBSPwnmKZe9+prbGwqUQWl8mpGIOtYZVoa82g5hsON71x/eDjFq3/Bj8r\n",
       "zg4W8b9ehsgrUQIw7W07JbyWVvG93QxL2UGrCCxIpRc4lhQTvxs7yJxx4Bfyy0fAL4H7NOuTKSy3\n",
       "q5FxM5dxUnakdhsYl+Q1EGssIz6kMB+AJ4Fquolptj4M+jcGS/LT4xXddWRZ0wUIQqaVXg7BFAyj\n",
       "1dh5NBj8FU/9Xu1y/WBIXqLnlkp9G0zHxDtkS9Fj0gauoI796SnFO/CPyUn8hsJZAH5C82Ek8tEC\n",
       "1AsPYNM469+UfjkkyEvIYSWvEMzFf4NRPyVxeCTHX/dW8IzGVc/8yWswm7a08skLJVgIvkuytv0h\n",
       "aPs52Whfjp0yEzjmGS2PzBjVXwy0rpRgITgl2fwRuhY6rlOuGF32XOanuQcEputpV8TU//3qKzDP\n",
       "235u6MEjSDXjmnfqRNETLiYwAD24DmfxrcY/ouhiCLutggGca2qfgew/v4dTmMDX0keOK3v10EgA\n",
       "AAAASUVORK5CYII=\n",
       "\" style=\"display:inline;vertical-align:middle;\" /></a></span>"
      ],
      "text/plain": [
       "{y <= x} |- (y < x) or (y = x)"
      ]
     },
     "metadata": {},
     "output_type": "display_data"
    }
   ],
   "source": [
    "spec_l_e_dyx.derive_right_via_equality()"
   ]
  },
  {
   "cell_type": "code",
   "execution_count": 9,
   "metadata": {},
   "outputs": [
    {
     "data": {
      "text/html": [
       "<strong id=\"xlylx\">xlylx:</strong> <span style=\"font-size:20px;\"><a class=\"ProveItLink\" href=\"../../../__pv_it/theorems/44d10bba886cb9c03d8c1d01224b9827d41c27660/expr.ipynb\"><img src=\"data:image/png;base64,iVBORw0KGgoAAAANSUhEUgAAADMAAAAQBAMAAABJt1qBAAAAMFBMVEX///9ERES6uroQEBAyMjLc\n",
       "3NyYmJgiIiJmZmaqqqp2dnbMzMxUVFSIiIju7u4AAAAd7oVFAAAAAXRSTlMAQObYZgAAAAlwSFlz\n",
       "AAAOxAAADsQBlSsOGwAAALxJREFUGNNjYCAaTAnAJZPeh8x7e+f1qglQ9vV1YIrvRgLDGyDdwHuW\n",
       "owAisvwCRAUXpwFDPgMDWwDbP54EkABrewJU806g2oMMDNwMHA4QgSMwYxkeMF9gsAUxmC+gSzHo\n",
       "P+D+DaYD+B6gGsjQwsBrwMDwUOEwAxcDqjMYZBgYDzAwzN/XzKAJFeG7fg/C6GHQB5rw4i5nG8KS\n",
       "dIjH3qztxwyVFKjQEhzBxeXAZ4lDiv0CzwIcUpy5TUASAGGrMQVvAWw0AAAAAElFTkSuQmCC\n",
       "\" style=\"display:inline;vertical-align:middle;\" /></a>, <a class=\"ProveItLink\" href=\"../../../__pv_it/theorems/153915bbcbcf608fb5085953cf374431c54792190/expr.ipynb\"><img src=\"data:image/png;base64,iVBORw0KGgoAAAANSUhEUgAAAFEAAAAVBAMAAADMaB9/AAAAMFBMVEX////MzMxERES6uroQEBCY\n",
       "mJgyMjLu7u52dnaqqqqIiIhUVFTc3NwiIiJmZmYAAAAM3gM0AAAAAXRSTlMAQObYZgAAAAlwSFlz\n",
       "AAAOxAAADsQBlSsOGwAAAUpJREFUKM9jYECAAww4AaoU1wTcKq1QeDNwK2TgCkDisCfgUcmQjsTm\n",
       "C8CnMg6JzYIuyZmDLFuAYE9DU8h6D0mSgQ3JxhdAp64LYKiG+eEGRCH7qu0SnQwMHBsQKlOBXE4H\n",
       "hngIr+IWzPkMqxe8BdqQwPD2LhDcAwrdZGCQ5LvAsAksf+4qzIAYhviCrUBHO0C4p4HYmYGhgGUB\n",
       "gxeIz50Jt0qA4RmIYvyAopLBvoDxI5pKBoheZiQzgbYDtXM5oNnOwPyHoRxo+wUI7xwQawGxNgPT\n",
       "BlQfsStzOzA0AH2kgLCkG4hfM9jDwq3qFjiUOD/WOTADkw5fA0KlLBBXd72Hpy9WcICyv1owLxJI\n",
       "8xogVPIKgMg2pEhCjs2zyLH3gIEjgd0TRwp5iszRYeBdwN2AXSGPAjKviIEz6jEOI5lQsgfPAtzJ\n",
       "cw0DAwDCi0nfTKC/7wAAAABJRU5ErkJggg==\n",
       "\" style=\"display:inline;vertical-align:middle;\" /></a> <a class=\"ProveItLink\" href=\"../../../__pv_it/_proof_symmetric_less_eq/098693fc93460dad809ace26b21043d7c251900e0/proof.ipynb\" style=\"text-decoration: none\">&nbsp;&#x22A2;&nbsp;&nbsp;</a><a class=\"ProveItLink\" href=\"../../../__pv_it/_proof_symmetric_less_eq/8fe342c6d3388dd7aa222c4301cf3e32907eff670/expr.ipynb\"><img src=\"data:image/png;base64,iVBORw0KGgoAAAANSUhEUgAAANUAAAAVBAMAAAAjhrYEAAAAMFBMVEX////MzMxUVFRERES6uroi\n",
       "IiIQEBCYmJhmZmYyMjLu7u52dnaqqqqIiIjc3NwAAACW8nlqAAAAAXRSTlMAQObYZgAAAAlwSFlz\n",
       "AAAOxAAADsQBlSsOGwAAAnlJREFUSMeVVj1oFFEQ/nI/2b29uxAUG0FuBRE0CNFeuSqV4AnxB/XA\n",
       "QpuAcBAEUwhpkgNt7NKIREJEkYMjYKE22+QkWHgIMUEMLKSxEeyEFOK+NzPr/r1bHZg399433828\n",
       "efMeC8AHabZM/MNKDBoBo+6RGqQ0TK58w0jnNOGvfGQ1yU5iXuvnOO9kJdFRo/OE1CiVVbJV3vsr\n",
       "5DgLIZag3qzdITWKtUh2nRPqIsdZCOlY46xx6FlkMsflOUH2dtJ5y084z5libbHGsrseLcMKmdZh\n",
       "YiXrff8REs4rpliPWXufn7/nE6nfpFC9LhwX2OCWqOj87X4IaNl+R5b5ynnDFEsSWayfsVt6/XWb\n",
       "HfoDWD+BBTp1v6bPodIJAdVZb6TDma+cNcG+osWNxrpFavnWQUG3yPdrzB7zllCYBgZ6dgi4oWzZ\n",
       "C4Hg3i5JVwlfOQ9M+7pDOgabDqLwVHAH9zAe+DT07Diwp3upGQLAqfANEH4DQjDHArMjsVA6QGMS\n",
       "mJFruM6xBIjGEv4Ma2YsriFwyXdWYzVUmX4JzKbcZNujGgoQraHwN4WQdV7nSdeaJ1FFvDeKLs4F\n",
       "Zl4fk/pnVaXiMASivSH8eSFk7Yub9NPRZVxkoNemnrfd0i++EXiohrNqg24I6GDbX7UVvlyhzFhH\n",
       "SF/u1bph8S26YM7U7u/AzKrfp9VwTDVBKwT4LusLJvxZIUQkKOfVu6qc5eCQy5PJh4PfqGpQtYlW\n",
       "HLssgMhC5I1SzklC/msZyFu88NIP8wMBsiTnJb/AmpY2poJxP7Fa9BnIkv0MQkTWWNPyYbeZkYcz\n",
       "zcD/JU4lHpKaPhFSnyI/MNK5bvx2+QNEMr34Coic9QAAAABJRU5ErkJggg==\n",
       "\" style=\"display:inline;vertical-align:middle;\" /></a></span><br>"
      ],
      "text/plain": [
       "<IPython.core.display.HTML object>"
      ]
     },
     "metadata": {},
     "output_type": "display_data"
    }
   ],
   "source": [
    "xlylx = And(Less(x,y),Less(y,x)).evaluation(assumptions = [Less(x,y), Not(Less(y,x))])"
   ]
  },
  {
   "cell_type": "code",
   "execution_count": 10,
   "metadata": {},
   "outputs": [
    {
     "data": {
      "text/html": [
       "<strong id=\"ylxly\">ylxly:</strong> <span style=\"font-size:20px;\"><a class=\"ProveItLink\" href=\"../../../__pv_it/theorems/3b81d247a213fe4f0c14383e50a51ba454966c2e0/expr.ipynb\"><img src=\"data:image/png;base64,iVBORw0KGgoAAAANSUhEUgAAADIAAAAQBAMAAACmdTG/AAAAMFBMVEX////c3NwyMjK6urpEREQi\n",
       "IiLMzMwQEBCqqqp2dnZUVFSYmJhmZmaIiIju7u4AAADlKNhoAAAAAXRSTlMAQObYZgAAAAlwSFlz\n",
       "AAAOxAAADsQBlSsOGwAAALlJREFUGNNjYCAScCjikOCOeYDg8N3ZwPAKyuaNhEjw3V2XOYOBk6OA\n",
       "YT9E4mUsVAUPw60LRxkyeAIYloD5MtEwczYy7H+wmuEB+wWGWhCXSwNuQwLDIRBl/4DtG5oMA0Tt\n",
       "IQbeAjTTGJg/MrxjYPBiYFmA6gI+Z64ChgkMDKcY7DdAlb6NBbua49ubAuYGBoZXc88LwH0K9hDf\n",
       "2Qs9O8D8SUiBgBQ6nAp8FdiDivUC1wQcobv3MHYJAIv2MOY/c8jrAAAAAElFTkSuQmCC\n",
       "\" style=\"display:inline;vertical-align:middle;\" /></a>, <a class=\"ProveItLink\" href=\"../../../__pv_it/theorems/c977af91d37209d7885fb75994ef64b196aa49f00/expr.ipynb\"><img src=\"data:image/png;base64,iVBORw0KGgoAAAANSUhEUgAAAFEAAAAVBAMAAADMaB9/AAAAMFBMVEX////MzMxERES6uroQEBCY\n",
       "mJgyMjLu7u52dnaqqqqIiIhUVFTc3NwiIiJmZmYAAAAM3gM0AAAAAXRSTlMAQObYZgAAAAlwSFlz\n",
       "AAAOxAAADsQBlSsOGwAAAU9JREFUKM9jYECAAww4AaoU1wTcKq1QeDNwK2TgCkDisCfgUcmQjsTm\n",
       "C8CnMg6JzYIhOw3JHywFSOLoCmOfI3HYkGx8AcRVqws7YCGwth3i/HUBDNUMDBwbECpTgfgB1y6+\n",
       "CxAFvQsgwhycDgzxDAysCQxv7wLBPaDQTSD3AOt3brA1PG9htkkCtW5iYACqB4PTQOzMwMDIwAcN\n",
       "qm3wWChgWcDgBZT6gKIS6MUF6CoZ7AsYPzIwMCOZeRMsfIC9ANV2hmcMXEBVnBDnM5wDYi0GhiKD\n",
       "LQwcDKg+YtBmYAL6m1UB4fduBob54k8YLGGRu3Y5hPGawR5oPl8DQqUsA0PdKs6nCAfGQgK0uus9\n",
       "MK54DRAqeQXQIykMGpttQHwWSZz1AdakwZHA7gmkniKL6WBVybuAG+hEHgVksSKsKjmjHgNJJpTs\n",
       "wbMAd/Jcw8AAAExdTBkPuw3OAAAAAElFTkSuQmCC\n",
       "\" style=\"display:inline;vertical-align:middle;\" /></a> <a class=\"ProveItLink\" href=\"../../../__pv_it/_proof_symmetric_less_eq/47826d67a0f114abfe661ab145c0057b6ee857730/proof.ipynb\" style=\"text-decoration: none\">&nbsp;&#x22A2;&nbsp;&nbsp;</a><a class=\"ProveItLink\" href=\"../../../__pv_it/_proof_symmetric_less_eq/481d0328d56dea671d9601d85b90f20daa6d39020/expr.ipynb\"><img src=\"data:image/png;base64,iVBORw0KGgoAAAANSUhEUgAAANUAAAAVBAMAAAAjhrYEAAAAMFBMVEX////MzMxUVFRERES6uroi\n",
       "IiIQEBCYmJhmZmYyMjLu7u52dnaqqqqIiIjc3NwAAACW8nlqAAAAAXRSTlMAQObYZgAAAAlwSFlz\n",
       "AAAOxAAADsQBlSsOGwAAArlJREFUSMeNVk1oE0EU/vLXbCZJKYoXf0hEUWwRavGq5NST0Aj1BzWQ\n",
       "g16KQqEULFhbxBhUxNx6EYktlaoEQsFD/YFcGi0eXAq1QQwEevEi2FOhh+LMvNlkd7OT+ODtY2a/\n",
       "N+9/dgE0QOxNvf+x43jV4TXiFWINBU33zi90BLcrtOibYh1tutaxchfwppcT4+LJCsRaihRJRlXs\n",
       "b9AFbCk4HJTBGuPEWgrPklxUDuXRBWwptNvqUeygNXuvjKn0HCeZbTvnpQs8prO1pthOk0/sqzkS\n",
       "6f2k5c53+GrRBZ7T2XpKzGrjmFcvNj6QLK2/+siLtKxaIiKDNXhrsHr/oU9WG18nU6U8WJLAyzpb\n",
       "ypFoLIsZuc3eW007Gz9tpIEpqnojJusQEfXFupkjzLuMAperCP8lsFQwLklK2m3dID7MTz0mxzFn\n",
       "NUq4Ed7180VVrvYB14QM8UjvY6Z4Uu7+vqLAvkoO/kECV3Vx3SQu9pi4I9anmmPtgyFrk5Cro0Bd\n",
       "9lIK6MNjgvhfWGDGtfkREpzoYgsjRd+20xakMjBsjeGiZQvklt0WgrtI9BF4WGdL5ZB7Gs86c8jt\n",
       "Nxgv/Ko1yUZF5RDBPbx15lDk4AcIvKqr1znFQwgknb2xkDqBKJcTskzCDZHSgAl21p9F2dUbXHtI\n",
       "gSd0cVlN+gAjKiC28VPK7wcf4YKaCkyLxxkRYBKx7aVs0Ep1KUM9bySDO60R8rZ1QPH85+fNy2JS\n",
       "DthSPZYXJ46KRb94HBEdkwZ7Zn6915plGjA2UNtT4FGXIZ7Oy7dEOkO8oIKBldbbKdsd1Zt2al5s\n",
       "uwPVHRUtENit0HZbRgvstjfAfTHf9Yat4HWl601+XnLI9Gu+S1uudcD7G57BgAJv6T8DC5Jj0w87\n",
       "+GInNugJ+1JLNR3X/yOYxLpfhLYw/qAjOK79d/kHaui8gfBgetQAAAAASUVORK5CYII=\n",
       "\" style=\"display:inline;vertical-align:middle;\" /></a></span><br>"
      ],
      "text/plain": [
       "<IPython.core.display.HTML object>"
      ]
     },
     "metadata": {},
     "output_type": "display_data"
    }
   ],
   "source": [
    "ylxly = And(Less(y,x), Less(x,y)).evaluation(assumptions = [Less(y,x), Not(Less(x,y))])"
   ]
  },
  {
   "cell_type": "code",
   "execution_count": 11,
   "metadata": {},
   "outputs": [
    {
     "data": {
      "text/html": [
       "<strong id=\"xlyeqx\">xlyeqx:</strong> <span style=\"font-size:20px;\"><a class=\"ProveItLink\" href=\"../../../__pv_it/theorems/44d10bba886cb9c03d8c1d01224b9827d41c27660/expr.ipynb\"><img src=\"data:image/png;base64,iVBORw0KGgoAAAANSUhEUgAAADMAAAAQBAMAAABJt1qBAAAAMFBMVEX///9ERES6uroQEBAyMjLc\n",
       "3NyYmJgiIiJmZmaqqqp2dnbMzMxUVFSIiIju7u4AAAAd7oVFAAAAAXRSTlMAQObYZgAAAAlwSFlz\n",
       "AAAOxAAADsQBlSsOGwAAALxJREFUGNNjYCAaTAnAJZPeh8x7e+f1qglQ9vV1YIrvRgLDGyDdwHuW\n",
       "owAisvwCRAUXpwFDPgMDWwDbP54EkABrewJU806g2oMMDNwMHA4QgSMwYxkeMF9gsAUxmC+gSzHo\n",
       "P+D+DaYD+B6gGsjQwsBrwMDwUOEwAxcDqjMYZBgYDzAwzN/XzKAJFeG7fg/C6GHQB5rw4i5nG8KS\n",
       "dIjH3qztxwyVFKjQEhzBxeXAZ4lDiv0CzwIcUpy5TUASAGGrMQVvAWw0AAAAAElFTkSuQmCC\n",
       "\" style=\"display:inline;vertical-align:middle;\" /></a>, <a class=\"ProveItLink\" href=\"../../../__pv_it/_proof_symmetric_less_eq/8751cc8e78d890390f2cdac8d0dc58b787a9dc470/expr.ipynb\"><img src=\"data:image/png;base64,iVBORw0KGgoAAAANSUhEUgAAAFEAAAAVBAMAAADMaB9/AAAAMFBMVEX////MzMxERES6uroQEBCY\n",
       "mJgyMjLu7u52dnaqqqqIiIhUVFTc3NwiIiJmZmYAAAAM3gM0AAAAAXRSTlMAQObYZgAAAAlwSFlz\n",
       "AAAOxAAADsQBlSsOGwAAAS1JREFUKM9jYECAAww4AaoU1wTcKq1QeDNwK2TgCkDisCfgUcmQjsTm\n",
       "C8CnMg6JzYJPIQNLAYI9Da9KNiQbXwCdui6AoRpNCfuq7RKdDAwcGxBCqUAupwNDPIj99i4I3AY7\n",
       "n2H1grcMDKwJEMF7QKGbDAySfBcYNqGZGcMQX7CVgQFoBhicBmJnBoYClgUMXmgqBRiegSjGDygq\n",
       "GewLGD9ieAaslxnJTKDtQO1cDmjuZGD+w1AOtP0CROU5INYCYm0Gpg1oXlfmdmBoAPpIASHWDcSv\n",
       "GezRYorzY50DMzDp8DUgxGSBuLrrPVrSY3+1YF4kkOY1QIjxCoDINhxxdBaJzfqAgSOB3ROHyqfI\n",
       "HB0G3gXcDdgV8igg84oYOKMe4zCSCcX5PAtwJ6U1DAwA/2JIo2GGfGEAAAAASUVORK5CYII=\n",
       "\" style=\"display:inline;vertical-align:middle;\" /></a> <a class=\"ProveItLink\" href=\"../../../__pv_it/_proof_symmetric_less_eq/51aeee2d2a7c839d376e824800047adc0acead6a0/proof.ipynb\" style=\"text-decoration: none\">&nbsp;&#x22A2;&nbsp;&nbsp;</a><a class=\"ProveItLink\" href=\"../../../__pv_it/_proof_symmetric_less_eq/a9f4b92df4bc39ceb6e625de3b5d243cc53e55de0/expr.ipynb\"><img src=\"data:image/png;base64,iVBORw0KGgoAAAANSUhEUgAAANUAAAAVBAMAAAAjhrYEAAAAMFBMVEX////MzMxUVFRERES6uroi\n",
       "IiIQEBCYmJhmZmYyMjLu7u52dnaqqqqIiIjc3NwAAACW8nlqAAAAAXRSTlMAQObYZgAAAAlwSFlz\n",
       "AAAOxAAADsQBlSsOGwAAAl1JREFUSMeVVj1oFEEU/nI/2b29uyCKjSB3glgYhGivXJVKcIX4g3pg\n",
       "oU1AOEijhZBGr7BJl0YkIhFFAkc6sdkmJ2LhYWFSGDhIYyPYCSnEnXnv7e3czuzqB2/nZr/38Wbe\n",
       "ezO3AMYgs2PuH94YVA6NZkTmQGU0/eY7cp2zggk+s7mwOzVvDAqcd22L6KlnsEbmRG2Dxjrv/S0K\n",
       "nEVgLFBv1u+ROeGt0rjJC+qjwFkE2VizbCb1IjVZ5vScpvFuXiztvOyK9YnNWN3NdBrWaQiPkWot\n",
       "N9b6RJCN9Yxt6+vLD1yR5m0KtdVH0Aa2uSVq+mD4g4QwwHrlvO2KJQtZbZ7zQ/3+XZcdBkN4v4BH\n",
       "VPVxQ9eh1ksI+Nc0dFjWK2ctSHMS6w6ZN/YOS7pFftzgUDPRE5QWgKGeHQVuqbEaJYSRdtYr56Fr\n",
       "X/fIZuBTIUrPhQ/wALOxT0vPTgH7upc6CZGG6FsQgTsWRD2JhcohWkeARTmGmxxLCBOkX2SzxuIc\n",
       "AlfGwYaRQ7XSb/GwIyfZjyiHQpg1If2OCGz1ukj2qnMGdZi9UW7jQjys6DKpW1VlqTxKiDREvyIC\n",
       "2764Sb+ceIrL0r5d6nm/XfnNJwKP1eO82mA7IdIQvRwha6zjZG/2G/3ksvfogAXze3/iYUn9Pqse\n",
       "J1UThAmRhuiXRJBCnM7r91U6q3GRq9OF9viOqsdZmwtN7qoQ1j+wMCsovi1jvMfrKHsxPxTChoKb\n",
       "/BJbFl3Mx8+DqbflMRM2HFgE6Q5iy+LjXseyjmCBif9bOKV4ROb6RMh8ivxErnPT+e3yF5GAstaf\n",
       "DfXIAAAAAElFTkSuQmCC\n",
       "\" style=\"display:inline;vertical-align:middle;\" /></a></span><br>"
      ],
      "text/plain": [
       "<IPython.core.display.HTML object>"
      ]
     },
     "metadata": {},
     "output_type": "display_data"
    }
   ],
   "source": [
    "xlyeqx = And(Less(x,y), Equals(y,x)).evaluation(assumptions = [Less(x,y), Not(Equals(y,x))])"
   ]
  },
  {
   "cell_type": "code",
   "execution_count": 12,
   "metadata": {},
   "outputs": [
    {
     "data": {
      "text/html": [
       "<strong id=\"xeqylx\">xeqylx:</strong> <span style=\"font-size:20px;\"><a class=\"ProveItLink\" href=\"../../../../../logic/equality/__pv_it/theorems/8dc625ee9fbf5f96228c059ed58b16ec83d4e40d0/expr.ipynb\"><img src=\"data:image/png;base64,iVBORw0KGgoAAAANSUhEUgAAADMAAAANBAMAAAD2/0vEAAAAMFBMVEX///9ERES6uroQEBAyMjLc\n",
       "3NyYmJgiIiJmZmaqqqp2dnbMzMxUVFSIiIju7u4AAAAd7oVFAAAAAXRSTlMAQObYZgAAAAlwSFlz\n",
       "AAAOxAAADsQBlSsOGwAAAJpJREFUGNNjYHh75/WqCQwogO9GAsMbIN3Ae5ajAEhzlIPBASCTi9OA\n",
       "IZ+BgS2A7R9PAqqunUC1BxkYuBk4HBjQwAPmCwy2IAaQRgf6D7h/g+kAvgeodjG0MPAaMDA8VDjM\n",
       "wIWuS4aBEahk/r5mBk10qR4GfaDLXtzlbJuALvVmbX8AAy6wBIc4lwOfJQ4p9gs8C3BIceY2AUkA\n",
       "2hAptbp3A+oAAAAASUVORK5CYII=\n",
       "\" style=\"display:inline;vertical-align:middle;\" /></a>, <a class=\"ProveItLink\" href=\"../../../__pv_it/theorems/153915bbcbcf608fb5085953cf374431c54792190/expr.ipynb\"><img src=\"data:image/png;base64,iVBORw0KGgoAAAANSUhEUgAAAFEAAAAVBAMAAADMaB9/AAAAMFBMVEX////MzMxERES6uroQEBCY\n",
       "mJgyMjLu7u52dnaqqqqIiIhUVFTc3NwiIiJmZmYAAAAM3gM0AAAAAXRSTlMAQObYZgAAAAlwSFlz\n",
       "AAAOxAAADsQBlSsOGwAAAUpJREFUKM9jYECAAww4AaoU1wTcKq1QeDNwK2TgCkDisCfgUcmQjsTm\n",
       "C8CnMg6JzYIuyZmDLFuAYE9DU8h6D0mSgQ3JxhdAp64LYKiG+eEGRCH7qu0SnQwMHBsQKlOBXE4H\n",
       "hngIr+IWzPkMqxe8BdqQwPD2LhDcAwrdZGCQ5LvAsAksf+4qzIAYhviCrUBHO0C4p4HYmYGhgGUB\n",
       "gxeIz50Jt0qA4RmIYvyAopLBvoDxI5pKBoheZiQzgbYDtXM5oNnOwPyHoRxo+wUI7xwQawGxNgPT\n",
       "BlQfsStzOzA0AH2kgLCkG4hfM9jDwq3qFjiUOD/WOTADkw5fA0KlLBBXd72Hpy9WcICyv1owLxJI\n",
       "8xogVPIKgMg2pEhCjs2zyLH3gIEjgd0TRwp5iszRYeBdwN2AXSGPAjKviIEz6jEOI5lQsgfPAtzJ\n",
       "cw0DAwDCi0nfTKC/7wAAAABJRU5ErkJggg==\n",
       "\" style=\"display:inline;vertical-align:middle;\" /></a> <a class=\"ProveItLink\" href=\"../../../__pv_it/_proof_symmetric_less_eq/e81639f3a557e327dacb8c589ebee508cab034da0/proof.ipynb\" style=\"text-decoration: none\">&nbsp;&#x22A2;&nbsp;&nbsp;</a><a class=\"ProveItLink\" href=\"../../../__pv_it/_proof_symmetric_less_eq/a212627a13c862e1ec2eae918c18388465e8b5860/expr.ipynb\"><img src=\"data:image/png;base64,iVBORw0KGgoAAAANSUhEUgAAANUAAAAVBAMAAAAjhrYEAAAAMFBMVEX////MzMxUVFRERES6uroi\n",
       "IiIQEBCYmJhmZmYyMjLu7u52dnaqqqqIiIjc3NwAAACW8nlqAAAAAXRSTlMAQObYZgAAAAlwSFlz\n",
       "AAAOxAAADsQBlSsOGwAAAl5JREFUSMeVVj1oFFEQ/vJzub29uxCUNEK4FUTQIER75apUghfJpRAF\n",
       "C20CwkEQTCGkOQ9iY5c2EiJaBI6AhUmzTU6CRY5ATBADC6kFOyGF+H5m1t23793qwLy53W++m3nz\n",
       "Zh4LIIJWu4z/w5sUNABGNdTqkNG++eY7BjpnCX/lC6lLjo3nSjfH+diWREuu/hutTimta1umvX9A\n",
       "jjMTUgmqzXotrU4prmi7SQl1kOPMhGysMVK3LFJ5rmj72MT3I8N50RVrn9Qta9o0LmqWWe/nq6bz\n",
       "mivWa9Ktw7e7RjdudeAHwDa1REnl73VjQMnRDjlrvnTedsXiRFaqN7yGsO2mlPsS6vZQ/Aks61OP\n",
       "KuocSq0YkJ31kTuc+NJZETz1P80gGeuh1mJUPB9Ot8hQ2MbwDNBTTxeAB9IWwhgQc9tmCvOlc8+1\n",
       "rydah+CZB+HjGcaET009XQZOVS/VYwC4Fled+TUwwR0LxE4N4DlqE8Asj+EmxWIgGYv5s6TWWFRD\n",
       "4F7kr6fPS2T6VZg9nmQv1DVkIFlD5u8xwXZet7Vu1K+ibCQzEuCWMEvqmOQ/yyqN9GMg2RvMX2KC\n",
       "bV/UpAeXXuGu4eAFo79oIvBSLjflBoMYUMGOvinLfB4ha6xJre9PKx3zsvenT34LMy9/X5fLlGyC\n",
       "RgzQLKsBY/48E5I5N5sLT2U5C+KQCxOOK6MsqjbeSL+bY4BlOXFHSWeTkH9bCvmEd2H2Yn7BgE1y\n",
       "bvI7pFl5hGmxnpkdExFgkzMLISEbpFn5fFK35OHPEPB/iesS97W6PhEynyI/MNC56vx2+QOrercs\n",
       "voWbbgAAAABJRU5ErkJggg==\n",
       "\" style=\"display:inline;vertical-align:middle;\" /></a></span><br>"
      ],
      "text/plain": [
       "<IPython.core.display.HTML object>"
      ]
     },
     "metadata": {},
     "output_type": "display_data"
    }
   ],
   "source": [
    "xeqylx = And(Equals(x,y), Less(y,x)).evaluation(assumptions = [Equals(x,y), Not(Less(y,x))])"
   ]
  },
  {
   "cell_type": "code",
   "execution_count": 13,
   "metadata": {},
   "outputs": [
    {
     "data": {
      "text/html": [
       "<span style=\"font-size:20px;\"> <a class=\"ProveItLink\" href=\"../../../../../logic/equality/_theory_nbs_/axioms.ipynb#equals_symmetry\" style=\"text-decoration: none\">&nbsp;&#x22A2;&nbsp;&nbsp;</a><a class=\"ProveItLink\" href=\"../../../../../logic/equality/__pv_it/axioms/789c834568adff331f7b46a8f81cd1f96d48c8060/expr.ipynb\"><img src=\"data:image/png;base64,iVBORw0KGgoAAAANSUhEUgAAAN0AAAAWBAMAAAC2xYReAAAAMFBMVEX///+IiIgiIiIQEBB2dnbu\n",
       "7u5ERETMzMzc3NwyMjK6urpmZmaYmJiqqqpUVFQAAAB6qHgnAAAAAXRSTlMAQObYZgAAAAlwSFlz\n",
       "AAAOxAAADsQBlSsOGwAAAn9JREFUSMe1VT1oFEEUfpfbn9z+uSkUMRiOawRBWUUICMKlTBFZQQUR\n",
       "QlIIYiGHsVVOg61sI6RIkZRW0SCo4dC7RgSRLGIjsThBU1nYJaXzZmY3t29n7iTgB9/d7fu+92Z2\n",
       "5t0MgBZtySEyxfihqwFUUkEd1hWxk8PtyD4+fFcYvkpq59MthfzmcDtyCx9WyrqZCOrxrBS5McrO\n",
       "+BCXfaEsu11BPT6VIp1RdsZaDGAotqkqqUc1ppFolJ3RY+9QU8jfJPWo0bf3k1F25PlG44JCfiVo\n",
       "TnZhnm7txK/7c2xV+nQLmrlWsIsSaEe+BrilGG9V0PAj2MbnzQbiLK8LU+EmgJeQOM5eauDycAOn\n",
       "JEugHfkUxvuK8c4IPnDrsEukj7Ad/2bLR7drLM21QcgSaEdasbGmGO+iYFwN4RyRWvAWv+w/tCPW\n",
       "cm0QsgTakX6oapdsPNiI7b2SyGfgRIrxoDS7rATaeUrSYx8TbybZ6eZMQVBcTzbdSkT2CZx9uMYm\n",
       "WidxXE+pDe6fLIF2njLH/vWV9m6Nua8ciZfkeIuSd8Ei22veCSJgrejRU8IKc60AUQLtPGUZH2DR\n",
       "Zj+ffIFj0nRZ8h1skP+Zv3czclLR/gWwbs+0AkQJtPOUoIXBfS79hB/SdE9yfuY9uUbMl+HOZ1w+\n",
       "2mZ2PdcKECXQfpBiR/zuOg3TWXO3BAFmNQfG41LklO5smZX2PGXZSFy4yjKcrMm9F5xGYl7SFOn8\n",
       "wwnOl1mU6AymuCdmjsJSCjsf8jPwNudYGGguNcWlYikvcFEC7TQlNdtW3hzXOf3elub1FMXNBZVR\n",
       "lEA7SXHiIHx+MP9QUIfjitij4XaS4oHTa8L/xV/0oKbEihTV5QAAAABJRU5ErkJggg==\n",
       "\" style=\"display:inline;vertical-align:middle;\" /></a></span>"
      ],
      "text/plain": [
       "|- forall_{x, y} ((y = x) = (x = y))"
      ]
     },
     "metadata": {},
     "output_type": "display_data"
    }
   ],
   "source": [
    "equals_symmetry"
   ]
  },
  {
   "cell_type": "code",
   "execution_count": 14,
   "metadata": {},
   "outputs": [
    {
     "data": {
      "text/html": [
       "<strong id=\"spec_e_s\">spec_e_s:</strong> <span style=\"font-size:20px;\"> <a class=\"ProveItLink\" href=\"../../../__pv_it/_proof_symmetric_less_eq/fe92fa90b92275051f6fe9e0d35d7806cdb288090/proof.ipynb\" style=\"text-decoration: none\">&nbsp;&#x22A2;&nbsp;&nbsp;</a><a class=\"ProveItLink\" href=\"../../../../../logic/equality/__pv_it/axioms/8734b6576ee0800525d690fca3fdaa4e663a73aa0/expr.ipynb\"><img src=\"data:image/png;base64,iVBORw0KGgoAAAANSUhEUgAAAJ0AAAAVBAMAAACu6/FQAAAAMFBMVEX////MzMxUVFRERES6uroi\n",
       "IiIQEBCYmJhmZmYyMjLu7u52dnaqqqqIiIjc3NwAAACW8nlqAAAAAXRSTlMAQObYZgAAAAlwSFlz\n",
       "AAAOxAAADsQBlSsOGwAAAbVJREFUOMuNlD9Lw0AYxp/+j2laujjpIDgITkVclX4BaRW6OWRwVOjo\n",
       "oFbEUkTEbIJTqIs6FbeCQkfFJTg5qLg4CvYLiO/l0tC8ySW+Q8s9z++eu3t7PQCfUFaUVU7AS0M1\n",
       "sBahvSXgz2ofpVZIMvrxuG7F5OEypNwk4ForDtgNKd0EPB/nI29zxUzAn2LzpvjuDSsBP6UWvrbQ\n",
       "Y47+vjhzDxTnmK71fS+AywjCL+jTMNEWaqcpasOdhxenAxQsposNex40V26KJb0IwjeBWa2BebaP\n",
       "A7TtBToeb1du6HuT5UUQvgXYeQc7bF4FJ+Ir9cM7XvO9yfIiCKc81O3UKNRbd4WsGZGH0OrjCMLp\n",
       "vLRcyWR9QvYXt3SABtPFeT1vsn9eBOErNFhChv2O+nLaBP2UhSrbR8bxvUDJCMLvaHCEOrtnxuja\n",
       "zA7l9QgU3YixFygZQfg0DXoP5+xl0s+cxz1xvBqbl2r4XqBkBOG5ihgOFBf+K6Ssq/4bA4kXDlG0\n",
       "9G0F1P3HC+G2QUYIfBU5J6141MrVkJSJfM5lhItfwdg/VmwvYrJejQJlhIuXHfV78RGhfcfif6EA\n",
       "ezC6A5LCAAAAAElFTkSuQmCC\n",
       "\" style=\"display:inline;vertical-align:middle;\" /></a></span><br>"
      ],
      "text/plain": [
       "<IPython.core.display.HTML object>"
      ]
     },
     "metadata": {},
     "output_type": "display_data"
    }
   ],
   "source": [
    "spec_e_s = equals_symmetry.instantiate({x:x, y:y})"
   ]
  },
  {
   "cell_type": "code",
   "execution_count": 22,
   "metadata": {},
   "outputs": [
    {
     "data": {
      "text/html": [
       "<span style=\"font-size:20px;\"><a class=\"ProveItLink\" href=\"../../../__pv_it/theorems/d1323f34847310a404e8089c2c268d3c2eb89dbf0/expr.ipynb\"><img src=\"data:image/png;base64,iVBORw0KGgoAAAANSUhEUgAAADQAAAAQBAMAAACra0H4AAAAMFBMVEX///9ERES6uroQEBAyMjLc\n",
       "3NyYmJgiIiJmZmaqqqp2dnbMzMxUVFSIiIju7u4AAAAd7oVFAAAAAXRSTlMAQObYZgAAAAlwSFlz\n",
       "AAAOxAAADsQBlSsOGwAAAMtJREFUGNNjYMAAbM6CX4rFGLACRtYDTMfkcEgtYBDYg1OqlQVF6GJ5\n",
       "uQNcihFZRuUekq5zb4CMt3der5oApFn9kAzklnQFMhp4z3IUAGmWAISUSX3tA6AvAtj+8SSApJCc\n",
       "sSwPZCk3AwfYbobN5UAgADVQLg0sxnwBTD1EdvwOxgcgln4AH4hmR5bi2ArU/1DhMAMXSID3ApIU\n",
       "n8A1Bob5+5oZNMEingipBoY0RgWGF3c52yaARd4IPYCF/McARpGfyMGhJQ4JKCgAAF8xNF8aQs/g\n",
       "AAAAAElFTkSuQmCC\n",
       "\" style=\"display:inline;vertical-align:middle;\" /></a>, <a class=\"ProveItLink\" href=\"../../../__pv_it/theorems/5d76fdd975252a644e3e1cb067a357f9a9c8486a0/expr.ipynb\"><img src=\"data:image/png;base64,iVBORw0KGgoAAAANSUhEUgAAADMAAAATBAMAAADPIygvAAAAMFBMVEX////c3NwyMjK6urpEREQi\n",
       "IiLMzMwQEBCqqqp2dnZUVFSYmJhmZmaIiIju7u4AAADlKNhoAAAAAXRSTlMAQObYZgAAAAlwSFlz\n",
       "AAAOxAAADsQBlSsOGwAAAOBJREFUKM9jYMAAm0r8VUs2MGAFDlIMVlseYJeSZGBhW4BLikdAAUXo\n",
       "SmioAlzKAVnG6B5CF9c7oIF8dzYwvAIJMOohGZjSJMDAwMlRwLAfJMAkAJcSV/0KMiGDJ4BhCVgK\n",
       "yRm7H4HoB+wXGGpBjPRQIHCASLG8BnvZ/gHbNxD9BEkX2wE/EOMQA28BiGZF9tcxERDDi4EF7HPe\n",
       "C0hST3hBJp5isIeEpQZcSoaBe4MzkPFq7nmIs185P4CFvCODi34DiD0JqtrSNRQl5DgV+Cqwxw0D\n",
       "6wWuCTikOPYexiEDADoqNycoB77qAAAAAElFTkSuQmCC\n",
       "\" style=\"display:inline;vertical-align:middle;\" /></a>, <a class=\"ProveItLink\" href=\"../../../../../logic/equality/__pv_it/theorems/acfe5674bf1a89e3505c0b734f02fc003ed025860/expr.ipynb\"><img src=\"data:image/png;base64,iVBORw0KGgoAAAANSUhEUgAAADIAAAANBAMAAAAZPSD6AAAAMFBMVEX////c3NwyMjK6urpEREQi\n",
       "IiLMzMwQEBCqqqp2dnZUVFSYmJhmZmaIiIju7u4AAADlKNhoAAAAAXRSTlMAQObYZgAAAAlwSFlz\n",
       "AAAOxAAADsQBlSsOGwAAAJlJREFUGNNj4LuzgeEVAyrgu7sucwYDJ0cBw34Q92goCESBmDwMty4c\n",
       "ZcjgCWBYgqZnI8P+B6sZHrBfYKhFk0lgOASi7B+wfWNAB2C1hxh4C9DsYWD+yPCOgcGLgWUBmtOc\n",
       "uQoYJjAwnGKw34Aqw/HtTQFzAwPDq7nnBdD0nL3QswPMmsSAFXAq8FVgl2G9wDUBuwzH3sPYJQD3\n",
       "OixItBjv5AAAAABJRU5ErkJggg==\n",
       "\" style=\"display:inline;vertical-align:middle;\" /></a> <a class=\"ProveItLink\" href=\"../../../__pv_it/_proof_symmetric_less_eq/678201b602518cb734cfc6afc2af69ba661a22960/proof.ipynb\" style=\"text-decoration: none\">&nbsp;&#x22A2;&nbsp;&nbsp;</a><a class=\"ProveItLink\" href=\"../../../../../logic/equality/__pv_it/theorems/8dc625ee9fbf5f96228c059ed58b16ec83d4e40d0/expr.ipynb\"><img src=\"data:image/png;base64,iVBORw0KGgoAAAANSUhEUgAAADMAAAANBAMAAAD2/0vEAAAAMFBMVEX///9ERES6uroQEBAyMjLc\n",
       "3NyYmJgiIiJmZmaqqqp2dnbMzMxUVFSIiIju7u4AAAAd7oVFAAAAAXRSTlMAQObYZgAAAAlwSFlz\n",
       "AAAOxAAADsQBlSsOGwAAAJpJREFUGNNjYHh75/WqCQwogO9GAsMbIN3Ae5ajAEhzlIPBASCTi9OA\n",
       "IZ+BgS2A7R9PAqqunUC1BxkYuBk4HBjQwAPmCwy2IAaQRgf6D7h/g+kAvgeodjG0MPAaMDA8VDjM\n",
       "wIWuS4aBEahk/r5mBk10qR4GfaDLXtzlbJuALvVmbX8AAy6wBIc4lwOfJQ4p9gs8C3BIceY2AUkA\n",
       "2hAptbp3A+oAAAAASUVORK5CYII=\n",
       "\" style=\"display:inline;vertical-align:middle;\" /></a></span>"
      ],
      "text/plain": [
       "{x in Real, y in Real, y = x} |- x = y"
      ]
     },
     "metadata": {},
     "output_type": "display_data"
    }
   ],
   "source": [
    "spec_l_e_dxy.rhs.derive_via_dilemma(Equals(x,y), assumptions = [Equals(y,x), InSet(x, Real), InSet(y, Real)])"
   ]
  },
  {
   "cell_type": "code",
   "execution_count": 24,
   "metadata": {},
   "outputs": [
    {
     "data": {
      "text/html": [
       "<span style=\"font-size:20px;\"><a class=\"ProveItLink\" href=\"../../../__pv_it/theorems/5d76fdd975252a644e3e1cb067a357f9a9c8486a0/expr.ipynb\"><img src=\"data:image/png;base64,iVBORw0KGgoAAAANSUhEUgAAADMAAAATBAMAAADPIygvAAAAMFBMVEX////c3NwyMjK6urpEREQi\n",
       "IiLMzMwQEBCqqqp2dnZUVFSYmJhmZmaIiIju7u4AAADlKNhoAAAAAXRSTlMAQObYZgAAAAlwSFlz\n",
       "AAAOxAAADsQBlSsOGwAAAOBJREFUKM9jYMAAm0r8VUs2MGAFDlIMVlseYJeSZGBhW4BLikdAAUXo\n",
       "SmioAlzKAVnG6B5CF9c7oIF8dzYwvAIJMOohGZjSJMDAwMlRwLAfJMAkAJcSV/0KMiGDJ4BhCVgK\n",
       "yRm7H4HoB+wXGGpBjPRQIHCASLG8BnvZ/gHbNxD9BEkX2wE/EOMQA28BiGZF9tcxERDDi4EF7HPe\n",
       "C0hST3hBJp5isIeEpQZcSoaBe4MzkPFq7nmIs185P4CFvCODi34DiD0JqtrSNRQl5DgV+Cqwxw0D\n",
       "6wWuCTikOPYexiEDADoqNycoB77qAAAAAElFTkSuQmCC\n",
       "\" style=\"display:inline;vertical-align:middle;\" /></a>, <a class=\"ProveItLink\" href=\"../../../__pv_it/theorems/d1323f34847310a404e8089c2c268d3c2eb89dbf0/expr.ipynb\"><img src=\"data:image/png;base64,iVBORw0KGgoAAAANSUhEUgAAADQAAAAQBAMAAACra0H4AAAAMFBMVEX///9ERES6uroQEBAyMjLc\n",
       "3NyYmJgiIiJmZmaqqqp2dnbMzMxUVFSIiIju7u4AAAAd7oVFAAAAAXRSTlMAQObYZgAAAAlwSFlz\n",
       "AAAOxAAADsQBlSsOGwAAAMtJREFUGNNjYMAAbM6CX4rFGLACRtYDTMfkcEgtYBDYg1OqlQVF6GJ5\n",
       "uQNcihFZRuUekq5zb4CMt3der5oApFn9kAzklnQFMhp4z3IUAGmWAISUSX3tA6AvAtj+8SSApJCc\n",
       "sSwPZCk3AwfYbobN5UAgADVQLg0sxnwBTD1EdvwOxgcgln4AH4hmR5bi2ArU/1DhMAMXSID3ApIU\n",
       "n8A1Bob5+5oZNMEingipBoY0RgWGF3c52yaARd4IPYCF/McARpGfyMGhJQ4JKCgAAF8xNF8aQs/g\n",
       "AAAAAElFTkSuQmCC\n",
       "\" style=\"display:inline;vertical-align:middle;\" /></a>, <a class=\"ProveItLink\" href=\"../../../../../logic/equality/__pv_it/theorems/8dc625ee9fbf5f96228c059ed58b16ec83d4e40d0/expr.ipynb\"><img src=\"data:image/png;base64,iVBORw0KGgoAAAANSUhEUgAAADMAAAANBAMAAAD2/0vEAAAAMFBMVEX///9ERES6uroQEBAyMjLc\n",
       "3NyYmJgiIiJmZmaqqqp2dnbMzMxUVFSIiIju7u4AAAAd7oVFAAAAAXRSTlMAQObYZgAAAAlwSFlz\n",
       "AAAOxAAADsQBlSsOGwAAAJpJREFUGNNjYHh75/WqCQwogO9GAsMbIN3Ae5ajAEhzlIPBASCTi9OA\n",
       "IZ+BgS2A7R9PAqqunUC1BxkYuBk4HBjQwAPmCwy2IAaQRgf6D7h/g+kAvgeodjG0MPAaMDA8VDjM\n",
       "wIWuS4aBEahk/r5mBk10qR4GfaDLXtzlbJuALvVmbX8AAy6wBIc4lwOfJQ4p9gs8C3BIceY2AUkA\n",
       "2hAptbp3A+oAAAAASUVORK5CYII=\n",
       "\" style=\"display:inline;vertical-align:middle;\" /></a> <a class=\"ProveItLink\" href=\"../../../__pv_it/_proof_symmetric_less_eq/f4b9a32e7285fb6f501caae15bf830d4b3094d3d0/proof.ipynb\" style=\"text-decoration: none\">&nbsp;&#x22A2;&nbsp;&nbsp;</a><a class=\"ProveItLink\" href=\"../../../../../logic/equality/__pv_it/theorems/acfe5674bf1a89e3505c0b734f02fc003ed025860/expr.ipynb\"><img src=\"data:image/png;base64,iVBORw0KGgoAAAANSUhEUgAAADIAAAANBAMAAAAZPSD6AAAAMFBMVEX////c3NwyMjK6urpEREQi\n",
       "IiLMzMwQEBCqqqp2dnZUVFSYmJhmZmaIiIju7u4AAADlKNhoAAAAAXRSTlMAQObYZgAAAAlwSFlz\n",
       "AAAOxAAADsQBlSsOGwAAAJlJREFUGNNj4LuzgeEVAyrgu7sucwYDJ0cBw34Q92goCESBmDwMty4c\n",
       "ZcjgCWBYgqZnI8P+B6sZHrBfYKhFk0lgOASi7B+wfWNAB2C1hxh4C9DsYWD+yPCOgcGLgWUBmtOc\n",
       "uQoYJjAwnGKw34Aqw/HtTQFzAwPDq7nnBdD0nL3QswPMmsSAFXAq8FVgl2G9wDUBuwzH3sPYJQD3\n",
       "OixItBjv5AAAAABJRU5ErkJggg==\n",
       "\" style=\"display:inline;vertical-align:middle;\" /></a></span>"
      ],
      "text/plain": [
       "{y in Real, x in Real, x = y} |- y = x"
      ]
     },
     "metadata": {},
     "output_type": "display_data"
    }
   ],
   "source": [
    "spec_l_e_dyx.rhs.derive_via_dilemma(Equals(y,x), assumptions = [Equals(x,y), InSet(x, Real), InSet(y, Real)])"
   ]
  },
  {
   "cell_type": "code",
   "execution_count": null,
   "metadata": {},
   "outputs": [],
   "source": []
  }
 ],
 "metadata": {
  "kernelspec": {
   "display_name": "Python 3",
   "language": "python",
   "name": "python3"
  },
  "language_info": {
   "codemirror_mode": {
    "name": "ipython",
    "version": 3
   },
   "file_extension": ".py",
   "mimetype": "text/x-python",
   "name": "python",
   "nbconvert_exporter": "python",
   "pygments_lexer": "ipython3",
   "version": "3.7.3"
  }
 },
 "nbformat": 4,
 "nbformat_minor": 1
}
