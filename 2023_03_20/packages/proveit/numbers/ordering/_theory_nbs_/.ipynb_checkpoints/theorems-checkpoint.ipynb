{
 "cells": [
  {
   "cell_type": "markdown",
   "metadata": {},
   "source": [
    "Theorems (or conjectures) for the theory of <a class=\"ProveItLink\" href=\"theory.ipynb\">proveit.numbers.ordering</a>\n",
    "========"
   ]
  },
  {
   "cell_type": "code",
   "execution_count": 1,
   "metadata": {},
   "outputs": [
    {
     "name": "stdout",
     "output_type": "stream",
     "text": [
      "Defining theorems for theory 'proveit.numbers.ordering'\n",
      "Subsequent end-of-cell assignments will define theorems\n",
      "'%end theorems' will finalize the definitions\n"
     ]
    }
   ],
   "source": [
    "import proveit\n",
    "# Prepare this notebook for defining the theorems of a theory:\n",
    "%theorems_notebook # Keep this at the top following 'import proveit'.\n",
    "from proveit.logic import (Forall, Not, Or, Equals, NotEquals, Iff, Implies,\n",
    "                           InSet, Boolean, SubsetEq)\n",
    "from proveit.numbers import (\n",
    "        Integer, IntegerNeg, IntegerNonZero, Natural, NaturalPos,\n",
    "        Real, RealPos, RealNonNeg, RealNeg, RealNonPos, RealNonZero,\n",
    "        Add, zero, one)\n",
    "from proveit.numbers import Neg, Less, LessEq, greater, greater_eq, Min, Max\n",
    "from proveit import a, b, c, d, n, x, y, z, S\n",
    "from proveit.core_expr_types import a_1_to_n\n",
    "\n",
    "%begin theorems"
   ]
  },
  {
   "cell_type": "code",
   "execution_count": 2,
   "metadata": {},
   "outputs": [
    {
     "data": {
      "text/html": [
       "<strong id=\"less_than_is_bool\"><a class=\"ProveItLink\" href=\"proofs/less_than_is_bool/thm_proof.ipynb\">less_than_is_bool</a> (conjecture without proof):<br></strong> <a class=\"ProveItLink\" href=\"../__pv_it/theorems/454c5539223856fd424bae7d7af67c90d870f7d20/theorem_expr.ipynb\"><img src=\"data:image/png;base64,iVBORw0KGgoAAAANSUhEUgAAALwAAAAWBAMAAACI4OsQAAAAMFBMVEX///+IiIgiIiIQEBB2dnbu\n",
       "7u5ERETMzMzc3NwyMjK6urpmZmaYmJiqqqpUVFQAAAB6qHgnAAAAAXRSTlMAQObYZgAAAAlwSFlz\n",
       "AAAOxAAADsQBlSsOGwAAAtRJREFUSMetVUtoE0EY/tZuXrubNVEq1JbSBFGsWlS0gqcUVFrEssFQ\n",
       "D70kotGTBqtXGygKIkhKKXioGLUeAhWDD3wVsaCFHoSl7UUsmGIp4qkIBQ8enJ2ZTTOb7lLBH75k\n",
       "/293v5n5XwtsxPIc61vwH3mnSSaDiykRB7Gl8/5IR5HyFctf8Jaf53CzFieRfhAc/Un5t5Z711Pd\n",
       "V2BwtZDhlJ9At5/y160gpT3l1Q8MrqaV6+U/65S3VpZNT/kGDsHCtSc+zHN0Nr67Kh+ivEa2FfIO\n",
       "/RcOYcN7agMyxlI8bKzt/sdHxh+Mxw95y7/gSLaeOcbPKe1gSslJ+Ehx9FLnlrGW2mRHApR/BZz3\n",
       "lh/jKEuLahtlUjF+KzEHbQWYgVgg6Ycjv16C8ncQrNRLzva8H7av9zFoeW1Vpxm+vZffCZjPoJO6\n",
       "mKNeoTa1LSWD8n5DLorSgdZsUZLRneD+UYYAVCag36uWLA6ggTTPIH2NhDm+05b3KwnKhyPOzL7L\n",
       "keBK+BQR5UGVBHkoqxgkTz+ia6Vrd+9HmvGFKfITfd1MhorSCh2SFQAi31gWgwM8zfsMITjWebZa\n",
       "oaROmyhfYPypUaKWXw6RokhuNgbQR0tDDmbsTsow9BW/Q4aYWn8Fl8jfNHWignw4wvghklkNmQC5\n",
       "vDGLbZig8uq56ll7Gb5de44nnErGWBGqFeUPL1vSPtXuTI+j6yTn9ZzF/Kb8EhYxk81mTUmSbSlc\n",
       "YeiPhierAhorfN9Ss/ViO0v08mN2s6nzsjUxbd5K+346ndtxBFfp7iVl3O6STTkGsW15lcskxEEe\n",
       "deUEHwr2wLezMSQXVKSAXcoKqVQaexwv10ysuqnFrAenTfd5V+XV7V2NGDDxdbqA4AVClJoS/W/s\n",
       "xy5y1FuMhBO46dLuDt705f1kwVQ2KzZaH0e9LTQXXZd28oqhR0rrfjQjDG7fyvyGeA3KVAL/1f4C\n",
       "l5OtxeWVVEIAAAAASUVORK5CYII=\n",
       "\" style=\"display:inline;vertical-align:middle;\" /></a><br>"
      ],
      "text/plain": [
       "<IPython.core.display.HTML object>"
      ]
     },
     "metadata": {},
     "output_type": "display_data"
    }
   ],
   "source": [
    "less_than_is_bool = Forall((x, y), InSet(Less(x, y), Boolean), domain=Real)"
   ]
  },
  {
   "cell_type": "code",
   "execution_count": 3,
   "metadata": {},
   "outputs": [
    {
     "data": {
      "text/html": [
       "<strong id=\"less_than_equals_is_bool\"><a class=\"ProveItLink\" href=\"proofs/less_than_equals_is_bool/thm_proof.ipynb\">less_than_equals_is_bool</a> (conjecture without proof):<br></strong> <a class=\"ProveItLink\" href=\"../__pv_it/theorems/c4ea339c30f0e90c713c3fbbdc518d0ca76935ef0/theorem_expr.ipynb\"><img src=\"data:image/png;base64,iVBORw0KGgoAAAANSUhEUgAAALwAAAAWBAMAAACI4OsQAAAAMFBMVEX///+IiIgiIiIQEBB2dnbu\n",
       "7u5ERETMzMzc3NwyMjK6urpmZmaYmJiqqqpUVFQAAAB6qHgnAAAAAXRSTlMAQObYZgAAAAlwSFlz\n",
       "AAAOxAAADsQBlSsOGwAAAtpJREFUSMetVVtIFFEY/iZnb7Oz01oYmCK6RJKVVJRBTytUKJHMltjD\n",
       "QqxRW08lWa+5IAURxIpIPRhtZQ+C0dKFbhIJJfggDNpLJLSSSPQkgdBDD53b7M6ZdQeDfvh2zvnm\n",
       "nO+c+W8LrMcyAmtb8B95tykWRwXToi5iU9v94dYc4wt0vuAt/1mgktW7idSD4MhPxr+l07ue6r4s\n",
       "h2QRx56Q6ZafQIef8deok1Ke8uEPHE7Tdzok9Xy5/KzBeHqyannKVwk4o7FNuvABwZ6J7SjKhxiv\n",
       "k2uFvF3/RaBk3U3yilEe4iGzdPsfHzm/Lxbb7y3/QiDRcOow+87kLvtVYhI+khxdbHLTLIU20RoH\n",
       "418B57zlRwXyymK4kTxP3yu+is9DXwFmICdI6uHwr5dg/G0EC+WSc53vh+zxbg49o68aNMJGUT5g\n",
       "PYNB8mKezbLO0NaPm4z3m2pOlg40pHOKio64mB/iCCAsBG7ZzvFhL6pI8QywbcTNse22vF+LMz4S\n",
       "dUf2XR9JAgWforI8mJIcWm0VA2T1I3ZWynl7P1Kcz06Rn+rXdaSpaA0woFAHEPmavOwc4GnGZ8qJ\n",
       "Sb5nM3UlmzTK8lnOHx8hyzPLIZIUiY1mP3rYfjXYa1dSL0dP7jtUV1n5C7hIHtOMq5bkI1HOD5LI\n",
       "6ugNkOH1OWzBBJMPny1+axfHt6vP8aTUFO6w2xe0PyJtSfkUqzM1hvZjgjf6KPOb8UtYxEw6nbYU\n",
       "RS1KXeZIVkcm3eXtW6qjG1v4ZPkxZ2vbLtGOafM07HtYd27BQVxht1e0MbtKNvRxrGkqcXFQeF07\n",
       "KpqC3fDtaAyq2TC6gWZthWQq8z2O5B0dq6xrcevESau83zl7IR9sba9Bv4Wv01kEzxNivDaefGMv\n",
       "uyAg7ESMWjMdNhF3AjcqfJmLt3wZPzmwO52WC61HoNwW6nLy0ZLJvGYa0fE1/zSjHJX+KzPr4nVo\n",
       "U3H8V/sL+fCuwoRkaKoAAAAASUVORK5CYII=\n",
       "\" style=\"display:inline;vertical-align:middle;\" /></a><br>"
      ],
      "text/plain": [
       "<IPython.core.display.HTML object>"
      ]
     },
     "metadata": {},
     "output_type": "display_data"
    }
   ],
   "source": [
    "less_than_equals_is_bool = Forall((x, y), InSet(LessEq(x, y), Boolean), domain=Real)"
   ]
  },
  {
   "cell_type": "code",
   "execution_count": 4,
   "metadata": {},
   "outputs": [
    {
     "data": {
      "text/html": [
       "<strong id=\"relax_less\"><a class=\"ProveItLink\" href=\"proofs/relax_less/thm_proof.ipynb\">relax_less</a> (conjecture without proof):<br></strong> <a class=\"ProveItLink\" href=\"../__pv_it/theorems/c40ed6adadbaa57a41f1c177c714f3e309e065da0/theorem_expr.ipynb\"><img src=\"data:image/png;base64,iVBORw0KGgoAAAANSUhEUgAAAKEAAAAXBAMAAACR7DLtAAAAMFBMVEX///+IiIgiIiIQEBB2dnbu\n",
       "7u5ERETMzMzc3NwyMjK6urpmZmaYmJiqqqpUVFQAAAB6qHgnAAAAAXRSTlMAQObYZgAAAAlwSFlz\n",
       "AAAOxAAADsQBlSsOGwAAAjhJREFUOMudlE1o1EAUx/+7zWx2k01MBYtYLMteBE9RBE/CtqDgoTCC\n",
       "HkQoCnpRkEK9KqnFq+QieNSjp35A0RapWQ9FEOniQSj1UEELgkhv7dH3EjeZZBMl+yBh3vtnfrvv\n",
       "YwYob/ViycNQdrJYeknPLi++lgFanWKtEgDrvHhehng9G9hWcn0GPOLC3CxDfJvx368qzkegIQGt\n",
       "V4bopt2jF1VvRKJJmTdKldFXPTHlpNQG4c622+fKEE1qjBj98WA6BK4EffR4gBlKlzr9GrgzsG2p\n",
       "mMj/wsSEs8KYn3G9NMvFFtCkDJ6ivjuw7R+tqhLkA7bkL3YS4kOzhT2qCVW5JrUX/yGKVO3p61ms\n",
       "/T0+cdZyxMEZQN8nqpPTmBSxviEzRPDmTGcWpX4AGDwJfpdeo2/GaU6NCdgKMQrqv71EiLKGcYhr\n",
       "melZQ4VoVouW0zTnFW+vQV9eOSLnEmIUNO55ikBVciDu2i46mQm/jxr1o8k7F3iBWzotn3zGWEIM\n",
       "g8ZtqQrhfFgHN1wjORXbs/zewGIQzRbsMHAYit/xTa0jBed6KYGK0IJYdnY+ZUs/M/mOkqnGXdbd\n",
       "8NY7jfMKkYPiUk8VyE4VzdVleh73nQXNN3GVvjb2E2IYBMZ4QPpCdBnkmOaLC+o1Yp6YPMYJ7mz6\n",
       "CTEMkm0Ssi9wa5LLS7RD47JVHbszeIv1hFcLcib8ixcLjMk9UFZ3Pf1rbIa0nVf5pzAW2OaLj+jx\n",
       "tNuE0e3kE2NhaPOG3/oHCKyHTUWvYy4AAAAASUVORK5CYII=\n",
       "\" style=\"display:inline;vertical-align:middle;\" /></a><br>"
      ],
      "text/plain": [
       "<IPython.core.display.HTML object>"
      ]
     },
     "metadata": {},
     "output_type": "display_data"
    }
   ],
   "source": [
    "relax_less = Forall((x, y), LessEq(x, y), conditions=[Less(x, y)])"
   ]
  },
  {
   "cell_type": "code",
   "execution_count": 5,
   "metadata": {},
   "outputs": [
    {
     "data": {
      "text/html": [
       "<strong id=\"relax_equal_to_less_eq\"><a class=\"ProveItLink\" href=\"proofs/relax_equal_to_less_eq/thm_proof.ipynb\">relax_equal_to_less_eq</a> (conjecture without proof):<br></strong> <a class=\"ProveItLink\" href=\"../__pv_it/theorems/5036c37b9b62ede54e02e5d39eceb41de4510f9f0/theorem_expr.ipynb\"><img src=\"data:image/png;base64,iVBORw0KGgoAAAANSUhEUgAAALYAAAAXBAMAAABUnqh8AAAAMFBMVEX///+IiIgiIiIQEBB2dnbu\n",
       "7u5ERETMzMzc3NwyMjK6urpmZmaYmJiqqqpUVFQAAAB6qHgnAAAAAXRSTlMAQObYZgAAAAlwSFlz\n",
       "AAAOxAAADsQBlSsOGwAAAqhJREFUSMetlU1oE0EUx/9psvnYJNsJfiCmlrQUhOohiuJ1PVioUNlo\n",
       "BSUo9WDQUCUSz3ZLNRdBIvgFWqjoRRFsi2jVHNJLUUQM7bE9bKEWBA+9FHvw4JvNbrK7adqydWB3\n",
       "5s2b+e2b9zELbKcFXam21vY1V4kM0PhgwR06Km+gbAM+8f6JO/b5ho9ZQCEFt7hvBtyxSw45ckCx\n",
       "COMcD1/FHTtpFz1dilU8ikiZzHfp7qJN7O+wq58Bhzs7j7hjhymUQuznzT5dSh8051MlCJQip4AP\n",
       "wOWNAM1VoTJXt7NJLlwcrc3Lc4isAF+BewhqjcftevqL6SN/c3YLhekLfii/uSDV2IHKJCTKjjna\n",
       "rPjG7HtuLGfBZN/tzdhe2pfDR0O6a/pEwCF4ybAhMpE5QhkmL4GxSGorbBDIGUtxFUM54AUNi9P0\n",
       "ik3FVZpth8QLirM9aQvbEx+eMnY+16DVfQJxDWcdORguYgd1s/T0PaRpdTlEK1OtSl7QC4nJhTYL\n",
       "e480MBrOUBsU2GrAyGs/g5CVkpAdtePXcJ26GXpGyIwILgVoeGcWu8Wyzn7fAwu77Gc54367kPAY\n",
       "ZezTEP2TTor1yos+1u3WxL/UveMR1net6colLEYeZTLXyCcnK1Z/t6rmfkmWmJEQCQgTbP67Mw7C\n",
       "UpzTumuJk9Qv3G4cC8hVf78+YWXnoVZ9gpYxr3EE7G8WZR9VbDBhCCO+Yhj9tFpcqVYS5aAllsFk\n",
       "L8bNrM69NRHf1if34gydOVw2827v8V3IVzA/U0SBzBLvPxA+F+t2T7yMmfdQtHTVhPjVOvB0J2/6\n",
       "STrItUDB/sGKoPrLEHoy2fpcQ36fw2DNsevfzQtxnvhX7L8hRWKvnAsb2Iti/fobbl5YHtV+tUOc\n",
       "ljdlv9mJ/9W28b/+BzY3i6FGE7F6AAAAAElFTkSuQmCC\n",
       "\" style=\"display:inline;vertical-align:middle;\" /></a><br>"
      ],
      "text/plain": [
       "<IPython.core.display.HTML object>"
      ]
     },
     "metadata": {},
     "output_type": "display_data"
    }
   ],
   "source": [
    "relax_equal_to_less_eq = Forall(\n",
    "    (x, y),\n",
    "    LessEq(x, y),\n",
    "    domain=Real,\n",
    "    conditions=[Equals(x, y)])"
   ]
  },
  {
   "cell_type": "markdown",
   "metadata": {},
   "source": [
    "### Transitivity Theorems\n",
    "#### Notice that transitivity_less_less is an axiom, not a theorem. The other transitivity theorems can be derived from that axiom."
   ]
  },
  {
   "cell_type": "code",
   "execution_count": 6,
   "metadata": {},
   "outputs": [
    {
     "data": {
      "text/html": [
       "<strong id=\"transitivity_less_eq_less\"><a class=\"ProveItLink\" href=\"proofs/transitivity_less_eq_less/thm_proof.ipynb\">transitivity_less_eq_less</a> (conjecture with conjecture-based proof):<br></strong> <a class=\"ProveItLink\" href=\"../__pv_it/theorems/b7711babf5538bc0420cd9132c105ee1677756790/theorem_expr.ipynb\"><img src=\"data:image/png;base64,iVBORw0KGgoAAAANSUhEUgAAANEAAAAXBAMAAABnpbd1AAAAMFBMVEX///+IiIgiIiIQEBB2dnbu\n",
       "7u5ERETMzMzc3NwyMjK6urpmZmaYmJiqqqpUVFQAAAB6qHgnAAAAAXRSTlMAQObYZgAAAAlwSFlz\n",
       "AAAOxAAADsQBlSsOGwAAAsxJREFUSMetVU1oE0EU/vKz2c0mu91AlWKxpEUI/hyiCNKDsB5SEKls\n",
       "IYKiQnpQqihEIx56CKm1By2UeBB6CVSoAaWgFaRRekgRRBAxeNBDPaRgxYOHXsQefTObTdZdN1TY\n",
       "geSbmTc735vvvXkD+Nckb1MJvra93qZH9Guyzlc/iBTd2xaoA69ZZ94PpnPdjA+BIhM45wfTajfj\n",
       "eyBqAOGGH0xpl5w2qUIG4qRg1JcwlR0T8YNGZxAlmiNDQ0f9YIpRQgiJzVujVhLsaxHdTEl1hCnz\n",
       "VoBLXh//DxPzOoYB7YU5zA625oUHI6fpgHTiOUhNj48jf8sz0ZUpSMF+h4/GTz6aPdS+zwYy9DFF\n",
       "MWKEF3bCpIy7F9gCgRDtkscrc6BWbJYsLRO3aAfNMyHsTPFrbvvspoMJOOxmkjT6k1lmltfoL1Hr\n",
       "p9okD0DlQZx/2mEK9E/VELjOi0qT15QWFH+Qr/vvL3TUg7yNMw71sASBzpOk3ijd30Dpe5RWjvUY\n",
       "BWZcWXzeYepTcxXxOA+u9ktMt6FaY0kzecoSQINwVU1Dd2SE0mDex1lxmCb/4hgXqTvzCbu5+a5N\n",
       "vXpEy+NzhulwMRnIWVDNmNpY1Y7yWPl9Pi1bVWBs0Izi7ZHelHkHoObZxDaf/oYNBqJmj1MPq/l8\n",
       "Y1VXtRaYpwRuWCKJSQjL2vqHTmTNC6Urw6RvsJ11Ypq/LgdwzJR2xsZU4M9LscbWh5hbHLI8cnJd\n",
       "shIw5UyYuK0a3bE60+FyDFlaLW8RSJXJXJtJSp8Ej9rcJoL5ZxB0DhRblo33vlRtRXQH5Te258Qu\n",
       "FBpYf1smiF0YLnXOtLyYMFoPp7J6BSQbg1biv3zTdjzS5WF1vhYNoRShmtL4d42gdha0uWKCq2oI\n",
       "Xd4ehxeyoWpPGHgybchUvh6b4G5T3kx9jghCXtMZuJnEy9QmsNTLst4EX5vk52Z/AJ+0mn/Zw4QY\n",
       "AAAAAElFTkSuQmCC\n",
       "\" style=\"display:inline;vertical-align:middle;\" /></a><br>"
      ],
      "text/plain": [
       "<IPython.core.display.HTML object>"
      ]
     },
     "metadata": {},
     "output_type": "display_data"
    }
   ],
   "source": [
    "# proven\n",
    "transitivity_less_eq_less = Forall((x,y,z), Less(x, z), conditions=[LessEq(x,y), Less(y, z)])"
   ]
  },
  {
   "cell_type": "code",
   "execution_count": 7,
   "metadata": {},
   "outputs": [
    {
     "data": {
      "text/html": [
       "<strong id=\"transitivity_less_less_eq\"><a class=\"ProveItLink\" href=\"proofs/transitivity_less_less_eq/thm_proof.ipynb\">transitivity_less_less_eq</a> (conjecture with conjecture-based proof):<br></strong> <a class=\"ProveItLink\" href=\"../__pv_it/theorems/a9d9e1badf965d9eaed1582bdd5dda60a395e68d0/theorem_expr.ipynb\"><img src=\"data:image/png;base64,iVBORw0KGgoAAAANSUhEUgAAANEAAAAXBAMAAABnpbd1AAAAMFBMVEX///+IiIgiIiIQEBB2dnbu\n",
       "7u5ERETMzMzc3NwyMjK6urpmZmaYmJiqqqpUVFQAAAB6qHgnAAAAAXRSTlMAQObYZgAAAAlwSFlz\n",
       "AAAOxAAADsQBlSsOGwAAAstJREFUSMe9Vk1oE0EU/jbJZjebZLuBKsViSYsQ/DlEEaQHYT2kIFLZ\n",
       "QgRFhfSgVFGIRjz0EFJrD1oo8SD0UohQA0pBK0ir9JAiiCBi8KCHekjBSA8eehF79M3+ZNeNG1tY\n",
       "fJD9ZubN5pv53ps3C/hnorerBF9tr7frEf0arPHVD6K46u3jasBr1pj1g+lcJ+dDoMgEzvnBtNLJ\n",
       "+R6IaECo7gdTuk1Oh1RBDTFSMOJLmMqugdhBze5EiObIwMBRP5iilBB8onlr2EqCfSbRzZRYQ4gy\n",
       "bwm45PXyTpjYqqPoU14Y3Wy/Oc4/GDpNG6Qdz0BseLwc/pdgY45OgIL9Dh+1H3pv+lDrPGvI0FSK\n",
       "YlgLVbbHpLmJRp29IP1LHq+Mjjzn8GTpRWGT5iueCfEn03TTFfFrcDMBh9uZRIUeEsvM8io9Esu9\n",
       "VJukPsh6EGef2kxc78QyQXGDikpDryk6cNeZU9h/v2KrB2kLZ1zqYQE87SdJrWE6v1zpe4RmjnRp\n",
       "BeZcmn9uM/XIOVphldh45aeQNkE4biTN+ClLAAX8VTkN1ZUR8TpbfYwVh0laZgyjAjWnPmG37r7r\n",
       "UK8WVvKoZpgOF5NczoLPGUMbq9pRHsd/nU9LVhUY6TfienuoO2WcAch5NrClD3/Duq6J4oxTVwnm\n",
       "DmRVVlqgk+OGJZKQBL+orH2w42gcKDU+SPoGWlknpPXb5QCOGdJOOZgKdL1k9agEKsG8DUUSVKqJ\n",
       "Vkqm3AkVc1SjO1ZjMlSOIkuzpU0CcW4812IS0ydBUeNYpgXyz8CrOjCbaeLel6qjiG6j/Eb3nNiF\n",
       "Qh1rb8sE0QuDJXtPi/MJzUzq+MoVJiQD8yp9+aa18HCHi9V9W9T5UphqSv3v54kqwlkwOgPajO9w\n",
       "97hWIWmy8oSBZzVal6h8PTag3Sa8mXpcEYS0qjLwZFroZlmvg3CZbOw/fOzs3H4DhXqaf03qg3cA\n",
       "AAAASUVORK5CYII=\n",
       "\" style=\"display:inline;vertical-align:middle;\" /></a><br>"
      ],
      "text/plain": [
       "<IPython.core.display.HTML object>"
      ]
     },
     "metadata": {},
     "output_type": "display_data"
    }
   ],
   "source": [
    "# proven\n",
    "transitivity_less_less_eq = Forall((x,y,z), Less(x, z), conditions=[Less(x,y), LessEq(y, z)])"
   ]
  },
  {
   "cell_type": "code",
   "execution_count": 8,
   "metadata": {},
   "outputs": [
    {
     "data": {
      "text/html": [
       "<strong id=\"transitivity_less_eq_less_eq\"><a class=\"ProveItLink\" href=\"proofs/transitivity_less_eq_less_eq/thm_proof.ipynb\">transitivity_less_eq_less_eq</a> (conjecture with conjecture-based proof):<br></strong> <a class=\"ProveItLink\" href=\"../__pv_it/theorems/35efeecb8df0e82550d7ccc2b45f6f7c61162ce30/theorem_expr.ipynb\"><img src=\"data:image/png;base64,iVBORw0KGgoAAAANSUhEUgAAANEAAAAXBAMAAABnpbd1AAAAMFBMVEX///+IiIgiIiIQEBB2dnbu\n",
       "7u5ERETMzMzc3NwyMjK6urpmZmaYmJiqqqpUVFQAAAB6qHgnAAAAAXRSTlMAQObYZgAAAAlwSFlz\n",
       "AAAOxAAADsQBlSsOGwAAAs1JREFUSMe1Vk1oE1EQnvzsT3az2w1UKRZLDEJQe1hFkB6E9dCCSGWV\n",
       "CkpV0oNSRSEa8dBDSa09qFDiQewlUKEWlIJWkEbpIUUQQcTgQQ/10IL15KEXsUdn3u5mN7tuaWEd\n",
       "yJs3M2/f997MvJkAREdiuKkMkdLucNMT/K3Q5HsUQIoRbovVAd7SZCoKpHMBaM+2jwBGycGFKJAW\n",
       "fXL6gOkKHwFSKCYbUSDpPoft9QBBwoQ0ejAVSZgqLeLAnhYxhTCHcrnDUSDJmBBcZu1WP5MGu5uG\n",
       "m3mxDknMvAWAS2EfbweJTi1Dl/aKhIvVpp572HcSg4Y3ngRxJeRjvtU9wwGHeTVxDPYH+Gz+IkF1\n",
       "kUQTenEpRpE3k9NbQVKGAkAtmgTuUoQ3tvSg2xMyTA1hHddroQnhRUpf81t9mgQ778FgRogaDhJl\n",
       "ZmUJh0ytE2uT1AUqC+LUcxcp1jlWg9h1VlRWWE1hzNII++5Pu94DaQPO+LN8Dji8TxZn/fh+Y+Wf\n",
       "KVx5qs0skXFh5qWL1KEWqsJRFlztt6DbzNKAPHLCcYAG3FVVB8P3cpUGnT5NxWEcj5mGIQGnE19g\n",
       "J1t11+O9Oq8V4Wsv+eFCNlZwGNOg4OyMeaz8GdQltwooj2m83deet94AqEVSbDDjD1hlPtG8cWqj\n",
       "mj9LG6uGqjUZ08ANZ18hC9y8tvzJH05D6UH/xptZJ+isu+yHI5ZrJzxIJdZeRmu0PkHHshlppLro\n",
       "FJ38Zq/tjjMZT1ZkGMDV0joysTpSaCKJ+nFgUZtcg3jxBXAGY7bm3rdZTxHdQvmVdx3bAaUGLL+v\n",
       "IJPP95TdO83PZEy7cSqLVwBTgZitef2u2Rp4T2M9nSNyb+nvFg2uzGNNafy7RiCdBXxDisUCxG3S\n",
       "e/jW9i6ZqvaMWCjSqoTl66nFgjQWjtThe/QgLRnEgkjCZaRhmGunrGfM1vz/Pzvbp7/oq5zxgt/M\n",
       "bAAAAABJRU5ErkJggg==\n",
       "\" style=\"display:inline;vertical-align:middle;\" /></a><br>"
      ],
      "text/plain": [
       "<IPython.core.display.HTML object>"
      ]
     },
     "metadata": {},
     "output_type": "display_data"
    }
   ],
   "source": [
    "transitivity_less_eq_less_eq = Forall((x,y,z), LessEq(x, z), conditions=[LessEq(x,y), LessEq(y, z)])"
   ]
  },
  {
   "cell_type": "code",
   "execution_count": 9,
   "metadata": {},
   "outputs": [
    {
     "data": {
      "text/html": [
       "<strong id=\"symmetric_less_eq\"><a class=\"ProveItLink\" href=\"proofs/symmetric_less_eq/thm_proof.ipynb\">symmetric_less_eq</a> (conjecture without proof):<br></strong> <a class=\"ProveItLink\" href=\"../__pv_it/theorems/ff83459a5ad389effc70e59d0989358838d8431c0/theorem_expr.ipynb\"><img src=\"data:image/png;base64,iVBORw0KGgoAAAANSUhEUgAAAMUAAAAXBAMAAABJ4JbnAAAAMFBMVEX///+IiIgiIiIQEBB2dnbu\n",
       "7u5ERETMzMzc3NwyMjK6urpmZmaYmJiqqqpUVFQAAAB6qHgnAAAAAXRSTlMAQObYZgAAAAlwSFlz\n",
       "AAAOxAAADsQBlSsOGwAAAlZJREFUSMetVj1oFEEU/u5u9/Zu93bdFAYxGI5rBKuNCFbCpbQIjKCF\n",
       "CEFBLSwkELFTVkNa2Uaw1NIqaqMG0b0mCCIJFmliEUHTKJIuKX3zdi77vyB7D3Zn9vvmzbc7782b\n",
       "BSZhnXLKx4TsVDn1gq5d2fleT8IelnONEFiXnWf1NK5WkU+Bh3I5r9fT+FBFfgG6AtC26ml4VWRL\n",
       "oEfr1a0ZjqCK7ZLA2cHgXD0Ni0KuT/26t5CG9ZkQi7RIlFVvgVs5t1f/oyHf1MKs+0bqDdhktmq2\n",
       "h02gR1/5BJ3dnFs6CbZzGymFNCmcn7Ep/qTHPLD62KOVpGi1hfa8WmPbzUmkkBb5L+F9dpBouZgD\n",
       "jH3ScQtCntTYCLNsBmnxO87lJlkTxgFgyqwLRnSbejdDn2/OwkloMDgtE1sRUcOI8hivFcxDXEnH\n",
       "g76sQfPbfeou0E5s+HtdGnnpmFiONRhc5gkVwU2EKA9pbRf6HcdDtqLcRZu0enKuFdnBDYO6q98w\n",
       "HWswaN8UMcFNhCgPaZSd9sE1z8zu5I9YC6PMhrMkgUOGf+JHMh4SNHlKRXATIcqDzOhDf+3ufM3G\n",
       "Y3H+E61m8yijDI/PgDM4n9CIQOO3f0REDSPKQ9rpsp1zka7H44cVLbBwmUab+7EGg7Jk/hVMxDwh\n",
       "Y1KVvQLTAv1CsmBaJ+ePy2DubASxBoPqmJNEgu/EpAx64WHXdJ1hvqZv6X47LNjnVHuYiPkMW3g2\n",
       "2KP1vL4pHPclCjWYSPAZe1RezE6kH3swR8Osxv3bZD4Tio+Q+j8BE/ubkPYPO5egV0qjPIwAAAAA\n",
       "SUVORK5CYII=\n",
       "\" style=\"display:inline;vertical-align:middle;\" /></a><br>"
      ],
      "text/plain": [
       "<IPython.core.display.HTML object>"
      ]
     },
     "metadata": {},
     "output_type": "display_data"
    }
   ],
   "source": [
    "symmetric_less_eq = Forall((x,y), Equals(x, y), conditions=[LessEq(x,y), LessEq(y, x)])"
   ]
  },
  {
   "cell_type": "code",
   "execution_count": 10,
   "metadata": {},
   "outputs": [
    {
     "data": {
      "text/html": [
       "<strong id=\"positive_if_real_pos\"><a class=\"ProveItLink\" href=\"proofs/positive_if_real_pos/thm_proof.ipynb\">positive_if_real_pos</a> (conjecture without proof):<br></strong> <a class=\"ProveItLink\" href=\"../__pv_it/theorems/f862d9992208f1b0ea6eb0ee11d649d0845c79f50/theorem_expr.ipynb\"><img src=\"data:image/png;base64,iVBORw0KGgoAAAANSUhEUgAAAIEAAAAVBAMAAACTeZA2AAAAMFBMVEX///+IiIgiIiIQEBB2dnbu\n",
       "7u5ERETMzMzc3NwyMjK6urpmZmaYmJiqqqpUVFQAAAB6qHgnAAAAAXRSTlMAQObYZgAAAAlwSFlz\n",
       "AAAOxAAADsQBlSsOGwAAAhlJREFUOMudlE9I3EAUxr/sJtnsZlOCUKoIUjwJIogUCuJhKbVVqDIU\n",
       "EUoPu4KmnkSk526od9GD0EMPW9qLYHERpepKWRUP0oNp6aUguIKC3jxYKPTim7hJdrbZUAwM8+bP\n",
       "+828b94L8B+ffYsV4ZOchksfqFW4cRRJ+Bk+/bjVhlQGtvjgXRRAmQ+dTjpKB7AIvKGBlosi6OXQ\n",
       "6V3gCfCNUAyQnShCvMZ+EdCmgGOGOEOa5pKRMvyqjeiR6Zl/gbyDJLn3tLc/iCSs8ThPm6uuTf1V\n",
       "FieUIdNLfAEm/nWTA/M9tY+2+tuLf93ttCsimEiTzHPQKiHyBWYXHdgH/b4f1YZPyMDoBlQmF2pc\n",
       "fwx+XRAJvTS6RCzjTyyd8SiIsGIicQkYpi9kos0qSDIGMvWEeA7Z4JiliaqSxw5SdAfM73hLpWlK\n",
       "YQn7plxaLW3VRJE1cRi8zbnbWcAhg8GDG6K8wsjOgJuinHC3KNxhjAgOLoxqFe1u3PR7wCaQ5sk4\n",
       "S0IqHYk/GHXLSNbGygJhmLQyjU5dfE3EHOUh7ePy3KG768VEN5Zdgj6eE5WcoQNOns7dc7Ogyc8o\n",
       "Za2NHGOePPGCVMGBZVmOJMmfxXyITQf28/oaeesZWVvdZ6/dO0ipT0zYlC5GJOy2Xz12fpmpzNUB\n",
       "/XUuk40BQVWntr8/g/aKP3ZL5uWmuG20MUGt+82NWFYh7CCzIaEZuAakfHTwNLtMMQAAAABJRU5E\n",
       "rkJggg==\n",
       "\" style=\"display:inline;vertical-align:middle;\" /></a><br>"
      ],
      "text/plain": [
       "<IPython.core.display.HTML object>"
      ]
     },
     "metadata": {},
     "output_type": "display_data"
    }
   ],
   "source": [
    "positive_if_real_pos = Forall(a, greater(a, zero), domain=RealPos)"
   ]
  },
  {
   "cell_type": "code",
   "execution_count": 11,
   "metadata": {},
   "outputs": [
    {
     "data": {
      "text/html": [
       "<strong id=\"negative_if_real_neg\"><a class=\"ProveItLink\" href=\"proofs/negative_if_real_neg/thm_proof.ipynb\">negative_if_real_neg</a> (conjecture without proof):<br></strong> <a class=\"ProveItLink\" href=\"../__pv_it/theorems/9def80ac868942d53cb7cc4621c1b09da26c0a960/theorem_expr.ipynb\"><img src=\"data:image/png;base64,iVBORw0KGgoAAAANSUhEUgAAAIEAAAAVBAMAAACTeZA2AAAAMFBMVEX///+IiIgiIiIQEBB2dnbu\n",
       "7u5ERETMzMzc3NwyMjK6urpmZmaYmJiqqqpUVFQAAAB6qHgnAAAAAXRSTlMAQObYZgAAAAlwSFlz\n",
       "AAAOxAAADsQBlSsOGwAAAg9JREFUOMudlD9IHEEUxr+9293bu72VbSSKICoWgglIEARJcUX8Byoj\n",
       "iI3FKeiaKkhIHZdYCmIKIUUCG0wTULxCED2RU7EIKdwEG0HwBBs7C4VAGt+M3uVmuRtCBpad92bn\n",
       "N+99780C/zD8/1iRhhbWXPpCT5FPzpWE0+rul00+tAKwy42PKoCxUtWdDI0OYBV4R4Y1pSLYharu\n",
       "Q6Af+EEoBuihihCPOhwR8mvggiHOkKYTkkoZziJ2upPx1x9gIUSStj9va+tWErZ4nlcNbqky7QJg\n",
       "cEIBOlViG5hVEj7Rs+abdw/WeOvD27olgos0ybwMq6gkPKMDX8BuEcbSU1QQMnC6AJPpQcX3v4b2\n",
       "P8iEXirHDWIZPq/7XK4xETZdJG5IWbcsZKLZCzQdg5koIT6FbCATuJIXIVIUA1YOSs78PAml4di1\n",
       "8vn8bkUWWRcnkLOAB5wwODy5kVUu0MGgaFFOqM9JMUwTIcS140tK4gjYodLyZlwkIY2OxG9MiGLp\n",
       "1rTchKOklet02o/mWKuoJmKh0UMK8YzrKHY7l+jCuiDYM5Eef0MHXA4sPyl31GNDbDXTxlipCvFA\n",
       "K+K753mhpukbMiE2H23Kiov4vjTJ+uYxeyti0FJfmbwhp2iWvfLt8RfWmcmEDuiLbHlVG/D3Vqf2\n",
       "fg7DmqPZt8bM5I782URtghn5zY17XlDtILcmoQG4BxXKb7I1V2jIAAAAAElFTkSuQmCC\n",
       "\" style=\"display:inline;vertical-align:middle;\" /></a><br>"
      ],
      "text/plain": [
       "<IPython.core.display.HTML object>"
      ]
     },
     "metadata": {},
     "output_type": "display_data"
    }
   ],
   "source": [
    "negative_if_real_neg = Forall(a, Less(a, zero), domain=RealNeg)"
   ]
  },
  {
   "cell_type": "code",
   "execution_count": 12,
   "metadata": {},
   "outputs": [
    {
     "data": {
      "text/html": [
       "<strong id=\"non_neg_if_real_non_neg\"><a class=\"ProveItLink\" href=\"proofs/non_neg_if_real_non_neg/thm_proof.ipynb\">non_neg_if_real_non_neg</a> (conjecture without proof):<br></strong> <a class=\"ProveItLink\" href=\"../__pv_it/theorems/1f9bc40d4fed8d27d9ff3f204734219c4136668d0/theorem_expr.ipynb\"><img src=\"data:image/png;base64,iVBORw0KGgoAAAANSUhEUgAAAIcAAAAVBAMAAACeZ+BxAAAAMFBMVEX///+IiIgiIiIQEBB2dnbu\n",
       "7u5ERETMzMzc3NwyMjK6urpmZmaYmJiqqqpUVFQAAAB6qHgnAAAAAXRSTlMAQObYZgAAAAlwSFlz\n",
       "AAAOxAAADsQBlSsOGwAAAjlJREFUOMuNlE9o1EAUxr/sZpJsdrcEUVCKpSxCi6dF/NPjKlYqKgxa\n",
       "BBG0BRtvtQcPnmxW72U9CB4jeClUDFLRdoumlR6kB9OeFApdD4IHhQoeRBF8E3aS/WPMDgTezLz8\n",
       "8uZ7XwbobRiJOw56HgcTdx7T0xDBdhqjWPnn8ul+B4oPLIvJozTIlZbQj8JcwIaBh8BdceCJNMhK\n",
       "HLJTlgzXgDPABtE4oAZpkHLrZM9oM5gGdjiyHAWqLpcqSa1tutak/AZmA+SIcKRUOpoGyQtd505W\n",
       "5fzjq/BgAuJDpd68BKbSIOJj5ghucbkw/1lI+YMgFgpU5hyMRudLbFGkVzelkTIk2iUfz6OE+SkJ\n",
       "qaBIgmlcdVve3zr7+gHtn3NE76QUWcp4AxyKjvMl/BRBnlnQd0k0K9JVH7BdRcUYKcD6XVbGsRbI\n",
       "cbBfUtgXkbA7AUzRutqqhNRnAEXBujCCcdgYxFB8HPYdhd2OFtvAe47iIIUXyHIYXx0LDSwg+zwq\n",
       "apFTJSPNbM0C+4O+2od2s70FloCCsOp90pUN6z9xWWwoqjHpw/wqSow0EV2cxJbntds+E7ATzf73\n",
       "0SHynl7GQgjJ35gA+ybC6rbsjk4VX9t759NMZxMHaCXjRsopDbyzbTtQFPVpt1GG/mOiezK47mjr\n",
       "/HZYiWI+4Ua9Xl9uTdzo5efMOrMLXOOhJhj1uhK1+P66WBIjLi2+AsyVzfMwbgovHqhcXeqCsOTL\n",
       "Quu4H8dt201IrSZC9gN/AViLhb0WzP/+AAAAAElFTkSuQmCC\n",
       "\" style=\"display:inline;vertical-align:middle;\" /></a><br>"
      ],
      "text/plain": [
       "<IPython.core.display.HTML object>"
      ]
     },
     "metadata": {},
     "output_type": "display_data"
    }
   ],
   "source": [
    "non_neg_if_real_non_neg = Forall(a, greater_eq(a, zero), domain=RealNonNeg)"
   ]
  },
  {
   "cell_type": "code",
   "execution_count": 13,
   "metadata": {},
   "outputs": [
    {
     "data": {
      "text/html": [
       "<strong id=\"non_pos_if_real_non_pos\"><a class=\"ProveItLink\" href=\"proofs/non_pos_if_real_non_pos/thm_proof.ipynb\">non_pos_if_real_non_pos</a> (conjecture without proof):<br></strong> <a class=\"ProveItLink\" href=\"../__pv_it/theorems/78e66f2c6cb9ce3976ecaf7b7588b329d4e6d2f00/theorem_expr.ipynb\"><img src=\"data:image/png;base64,iVBORw0KGgoAAAANSUhEUgAAAIcAAAAVBAMAAACeZ+BxAAAAMFBMVEX///+IiIgiIiIQEBB2dnbu\n",
       "7u5ERETMzMzc3NwyMjK6urpmZmaYmJiqqqpUVFQAAAB6qHgnAAAAAXRSTlMAQObYZgAAAAlwSFlz\n",
       "AAAOxAAADsQBlSsOGwAAAjlJREFUOMuNlE1oE1EQx//b7FeSTdhDBUUsNRRa1EMofvQYQSWCwqJF\n",
       "kEK1oOut9tBDT21Sj4USD0UvQgQvQsVFhNKkaKr0ID247clDofEkiIcKHkQRnHlmN5uPdfNg2Zm3\n",
       "7/125j/zHtDb0EO/FNDzOBb65Sk9dTb2ohipXNfpC0cLkGpAhZ3HUZCb7VCxI+4qI8AKMM8J346C\n",
       "bLS6xkmLX++AS8A20ciV3ShItsWThgQD08C+hZgFg1KKR0pSCnrjxxvGb2DBRZwIo5nM6ShIknVd\n",
       "Pl8UzsSpxqzCkBpkqs0acLfbRiVg888SY7jPWUw+8XvnB0FMGBTmMvR6F4bxBcUdr5H6SLTrNbxi\n",
       "O90KySFFgqmWXA5s3r385iHnvca186SI0Yq3wJBwlvx0CPLShHZAopm+rtqAXZZk5HNYytOaLM4E\n",
       "IGeh/OoUdt9FgktX2vQg1Rkqn4QtUz/B0Q5iuJmO8h3GQVuJbeCjhdQgmVdXmL6ZFw3MkEMOjK8i\n",
       "krHGLtWE8gfp0qfWZnsPrJPDrfqAdFVGtJ+4If4i61MES32jEH1NuIpT2HUcv3Ee/QtQOdeof5qS\n",
       "SDpaFqsCkrwjDoFWQXHPq45GEU/2z32eaeuC1wM001f2lZPq+GDbtitJ8ovOgg//pxMXPeNWQd2y\n",
       "ZkUkUuKZpVer1Upw4XYvhzNWWFi1VEtogotOx0K1eX9dy/Bohta8AhIbO1eg3yPr+ZHcxHrnGQi/\n",
       "LNS2+3HctsshS4uhkMPAX0C7gMnptICfAAAAAElFTkSuQmCC\n",
       "\" style=\"display:inline;vertical-align:middle;\" /></a><br>"
      ],
      "text/plain": [
       "<IPython.core.display.HTML object>"
      ]
     },
     "metadata": {},
     "output_type": "display_data"
    }
   ],
   "source": [
    "non_pos_if_real_non_pos = Forall(a, LessEq(a, zero), domain=RealNonPos)"
   ]
  },
  {
   "cell_type": "code",
   "execution_count": 14,
   "metadata": {},
   "outputs": [
    {
     "data": {
      "text/html": [
       "<strong id=\"less_than_successor\"><a class=\"ProveItLink\" href=\"proofs/less_than_successor/thm_proof.ipynb\">less_than_successor</a> (conjecture without proof):<br></strong> <a class=\"ProveItLink\" href=\"../__pv_it/theorems/f8ef3216f1cc39d0ed1642723161805806fdf2200/theorem_expr.ipynb\"><img src=\"data:image/png;base64,iVBORw0KGgoAAAANSUhEUgAAAKkAAAAVBAMAAADP89MSAAAAMFBMVEX///+IiIgiIiIQEBB2dnbu\n",
       "7u5ERETMzMzc3NwyMjK6urpmZmaYmJiqqqpUVFQAAAB6qHgnAAAAAXRSTlMAQObYZgAAAAlwSFlz\n",
       "AAAOxAAADsQBlSsOGwAAAidJREFUOMtjYMALGkgShkg0MBAAjBdIEQaChVD8AMS5g0PRFVKE2VWB\n",
       "9h2A4F0ggRnYdbNOIEE4budXIDkVguuAFEcCdlO5DxAhzAXjMYJMPQ3BnAEMDCw4wokZXYB3BqYw\n",
       "rwCyqcwBYMwDtIoTR7DeROPzaAdgCqOaynkAgo2UlExwmLoFFDpPJODaVAKwCKOayvIAgrczMKTi\n",
       "MHUOEC9uYPsK4YUoYhVGNZVnAgT3MXA8QDLpkue+iTC2LjC+bRi4FcCcbh2swmim8hpAMFsAywJY\n",
       "ipNLW8DIwuDhAOVbAeP7AwMTmMs3F24xkjC3kpIyMAgfwE1l/wDBvALwyNpdAJRjZDgqgNDOnMAQ\n",
       "vwDTVLgwulu5DCCYYcJBUKAd9ABnCpCpohsQXo0XYDjPgBkCCGH0EFCAYAZfYF5g1WD/wRAGlmPh\n",
       "SISl60Sg9gsML3kbUGMLVRgtthIgmKEZGCrcG9gNGNaA5bhT4DnNDxjqArza3FBuoGIAFmG4qSw/\n",
       "QAHtAMEMfMDQZF7A+IDhZFpa2gVGRpa1MFOLgJ546N4nDs8FkASLKgwzle/xzzcMDEwLIBgM4hvY\n",
       "jgaUgN3KyLUkACrKVICeuWZgCsPdCgZNUAzJ8Q31awLYAsDhyuAKiy2eDVgzB6owF0pZsweKIVJ7\n",
       "LvowcKQDWSslHaJ3woQzsOe5DJzFPKj0Qy8BQ9LSFqAIhGHXG4bTVLYGCMYLOARIEQYCCQgGAEEw\n",
       "i/TEvlzVAAAAAElFTkSuQmCC\n",
       "\" style=\"display:inline;vertical-align:middle;\" /></a><br>"
      ],
      "text/plain": [
       "<IPython.core.display.HTML object>"
      ]
     },
     "metadata": {},
     "output_type": "display_data"
    }
   ],
   "source": [
    "less_than_successor = Forall(a, Less(a, Add(a, one)), domain=Real)"
   ]
  },
  {
   "cell_type": "code",
   "execution_count": 15,
   "metadata": {},
   "outputs": [
    {
     "data": {
      "text/html": [
       "<strong id=\"less_than_left_successor\"><a class=\"ProveItLink\" href=\"proofs/less_than_left_successor/thm_proof.ipynb\">less_than_left_successor</a> (conjecture without proof):<br></strong> <a class=\"ProveItLink\" href=\"../__pv_it/theorems/189b87b3672bd923af271dc822a3a93d5cb1eb3b0/theorem_expr.ipynb\"><img src=\"data:image/png;base64,iVBORw0KGgoAAAANSUhEUgAAAKkAAAAVBAMAAADP89MSAAAAMFBMVEX///+IiIgiIiIQEBB2dnbu\n",
       "7u5ERETMzMzc3NwyMjK6urpmZmaYmJiqqqpUVFQAAAB6qHgnAAAAAXRSTlMAQObYZgAAAAlwSFlz\n",
       "AAAOxAAADsQBlSsOGwAAAjVJREFUOMtjYMALGkgShkg0MBAAjBdIEQaChVD8AMS5g0PRFdzCRQFY\n",
       "7TsAwbtAnBnYdbNOwCXM+no+VlMZpkJwHZDiSMBuKvcB3MLyMFPXoMidhmBOoCwLjnBiRhfgnQEX\n",
       "hpt6EVVLABjzAC3mxBGsN9H4PNoBcGEcpnIegGAjJSUTHKZuAYXOEwkBWFSoBMCFMU2FKGR5AMHb\n",
       "GRhScZg6B4gXN7B9hfBCFJGEMU2FKOSZAMF9DBwPkEy65LlvIoytC4xvGwZuBTCnWwdJGNNUqEJe\n",
       "AwhmC2BZAFXALpe2gJGFwcMByrcCxvcHBiYwl28u3GIrhKmblJSMlZT0GOAK2T9AMK8APLJ2FwAD\n",
       "j5HhqABCO3MCQ/wC3KYi3ApVyGUAwQwTDoIC7aAHOFOATBXdgPBqvADDeQZiQgCqkFcBghl8gXmB\n",
       "VYP9B0MYOKJZOBJhiT8RqPgCw0veBtTYSsRqKkQhDzBDgTBDMzCyuDewG0ByCSN3Cjyn+QFDXYBX\n",
       "mxvKDVQMgAkzMPg3oJoKVcjtAMEMfMDQZF7A+IDhZFpa2gVGRpa1MFOLgJ546N4nDs8FkAQLFGZ4\n",
       "Zz/vAGoagChkWgDBEPc3sB0NKAG7lZFrCcxzTAXomWsGpjBq3mqCYkgMNtSvCWALAIcrgysstng2\n",
       "YM0cqMKopcseKAYDrj0XfRg40oGslZIO0TthwhnY81wGzmIeVPqhl4AhaWkLUATCsOsNw2kqWwME\n",
       "4wUcAqQIA4EEBAMAEuGN8vGhnocAAAAASUVORK5CYII=\n",
       "\" style=\"display:inline;vertical-align:middle;\" /></a><br>"
      ],
      "text/plain": [
       "<IPython.core.display.HTML object>"
      ]
     },
     "metadata": {},
     "output_type": "display_data"
    }
   ],
   "source": [
    "less_than_left_successor = Forall(a, Less(a, Add(one, a)), domain=Real)"
   ]
  },
  {
   "cell_type": "code",
   "execution_count": 16,
   "metadata": {},
   "outputs": [
    {
     "data": {
      "text/html": [
       "<strong id=\"less_than_an_increase\"><a class=\"ProveItLink\" href=\"proofs/less_than_an_increase/thm_proof.ipynb\">less_than_an_increase</a> (conjecture without proof):<br></strong> <a class=\"ProveItLink\" href=\"../__pv_it/theorems/49394061a59152e7a41a60e7b35ad057c07c0eaa0/theorem_expr.ipynb\"><img src=\"data:image/png;base64,iVBORw0KGgoAAAANSUhEUgAAANUAAAAXBAMAAABuThcPAAAAMFBMVEX///+IiIgiIiIQEBB2dnbu\n",
       "7u5ERETMzMzc3NwyMjK6urpmZmaYmJiqqqpUVFQAAAB6qHgnAAAAAXRSTlMAQObYZgAAAAlwSFlz\n",
       "AAAOxAAADsQBlSsOGwAAAydJREFUSMe9VV9IFEEY//budu+83T1XSTKykMsokEAiKiJhEzT7y0Yi\n",
       "hNCdlFtI0RU9FEGeFT7KCRVBERfVQ2F4SH+oEz0DH8SHLumhoIcTLPAhuB6ECoK+mVlP55oNL6iB\n",
       "387Md3Pzm/l9fwbgL1rAxR7/gz0Of9fWiM1S1mX9PQc5MvlYEpVuiu3vBDb5WC0eIsPwilhulcR1\n",
       "RGyWEyJrWQo/NxguE/2jJXGNiM1qZuks6MzKibBTDGUWgC9bEldDseEDdbyXF9pg/ZBFfrIoNOQv\n",
       "K81dxVq9fsYYhVxNVMgMw+ZweEtJXCoJjf5dvQvzymbWPyXemK02eK67FV9QuBzDC4CuZTAsxh45\n",
       "YHA7nLFYRDQ5m8IdxP24Ms9xyd+tSBw0lIKgHwK5ZXClCiMPevdwBoZZWg8XImIT7rwT1FqOS58H\n",
       "rwE6uphAsXzJJXtO7xkdIP1FJzb1uttzBsflxeVjAHV0MrcYVjtQ3jx4iABqOLwOfYN3UBNQboI/\n",
       "DxS6UQgN/1o7KfmglSwPkc/Zz91gmL5rv3FtBfmHgMsbhUiSuxdSD2UhiHcigMT4wup0DPNbggmy\n",
       "zItjFX0JhqEdgn3p+nRyUUP5K2h5gYYRA97wcYjpNWaBjsISwAGS1W3jrbSMEK4qcoeeik9QA5RL\n",
       "6uDupRgg/4RQ4n1RbHQiVxbm9DjHFUMfghZlgKsoq7zR/w3aaQH1BToJZ6W1WqYuM8y+Go6LBG8n\n",
       "TKcci1xZxQYHyTH0epW7VyijpFia0FQJEbVS/gYYpFzqcUpxCiZZmTGet/Bx6Ecxjq64MBMr5DJL\n",
       "sHPIO7O7fyUf87OkonmSDI6/pRxM2radlSTfE2LZBqPaTds+jRruzXL5BRuK82GSyuaJieoGbVcc\n",
       "0BaJKxPWeXovKfiAZGkeGv0m89fjZn7rKXEGailR7S1U60LF9sZ7Bi3Fov6C5pRswnr0ZRfzl6+D\n",
       "31RxeWNPur7j0aVvSXDk7X4InMDRo1Vmx0t/I1yqAOhDVYID1+U0X21llyeo3Y2LHK74gG22vZCJ\n",
       "bNMWu1v0316X4xsuXNUOxO0h/L+W+Reb/gLSHLpxfihgnAAAAABJRU5ErkJggg==\n",
       "\" style=\"display:inline;vertical-align:middle;\" /></a><br>"
      ],
      "text/plain": [
       "<IPython.core.display.HTML object>"
      ]
     },
     "metadata": {},
     "output_type": "display_data"
    }
   ],
   "source": [
    "less_than_an_increase = Forall((a, b), Less(a, Add(a, b)), \n",
    "                            domains=(Real, RealPos))"
   ]
  },
  {
   "cell_type": "code",
   "execution_count": 17,
   "metadata": {},
   "outputs": [
    {
     "data": {
      "text/html": [
       "<strong id=\"less_than_an_left_increase\"><a class=\"ProveItLink\" href=\"proofs/less_than_an_left_increase/thm_proof.ipynb\">less_than_an_left_increase</a> (conjecture without proof):<br></strong> <a class=\"ProveItLink\" href=\"../__pv_it/theorems/cd01ef1256d9ccdd4d1f4fcd5eda271fd61247060/theorem_expr.ipynb\"><img src=\"data:image/png;base64,iVBORw0KGgoAAAANSUhEUgAAANUAAAAXBAMAAABuThcPAAAAMFBMVEX///+IiIgiIiIQEBB2dnbu\n",
       "7u5ERETMzMzc3NwyMjK6urpmZmaYmJiqqqpUVFQAAAB6qHgnAAAAAXRSTlMAQObYZgAAAAlwSFlz\n",
       "AAAOxAAADsQBlSsOGwAAAyRJREFUSMe9VV1IFFEUPuP87e7M6ChJRhayGQUSLBEVkTAJmv0ykQgh\n",
       "pFJOIUVb9FAEOVb4KCtUBEVsVA+F4SL9ULvoGvggPrRJDwU9rGCBD8H2IFQQdO7cXZ27zYQb1MC3\n",
       "c++Zu/c79zs/F+AvnoCP3f6D3Ya/e9Z4m7mMz/p7eWTJ5GNJVJrhbX8H4rE6TyfSFK/I5FZJXEe8\n",
       "zWIMIJjw/HSD4jLRv6skrpS3WUHPKwoyhtLuT9MUQRNAyJTEFSk2fHACzyNGzILOunsBbzpQ0YFg\n",
       "aeGKFRleP6OMiCbw5AqmKTaHw1tK4lJIagzu6i/Mq5rp+ynibuUXliswV4MjIUvxAqBnGQwG42Ro\n",
       "O5yhcolNhRPcwcl3s9NmuO7b0gKAGqMYhEB2GVxLCVaG0T2chlHq9+hiEmxChgXgdTeXuBMULAMt\n",
       "QiGZQty158yesSHyvpjPTa3+9rzOcPG4fByg3pnML6XVDpQ3BhUogBIOr8PQ4BGUHJShQc5RaPpi\n",
       "ashrrTgnQCvRq5z8nP3cC7ohXPuNayuIPzy4cN+RjPtcfBd04vJQhAJiE4XVySjWNweTZB2PYwVj\n",
       "CbquHoJ9yYZkfElD8SuoOQ8NsbzGTTdXpw5vyKyOAg6Qqm6baHXaCOGqJmfoq/wEteBwcR3MuSQd\n",
       "xJ9QHntflBvdyBXFADFcGZjXbFAxIARwFXUVN8rfoN3pXUKgm3BWmatFJ2S6MVDLcJHk7YaZRN4i\n",
       "VlXTwUEUPi0lGC5J1xoUWiZOqZQTtRJyBIYdLuW4Q3EKpmif0Z+3sHkooxhHV1yYjS7WMi2wc8g7\n",
       "l2JrWZzdPbgSZY9T5OPNZWHKsqwMxwlPiGUbjKk3Les0arg3w9QXbCiuhymnpsqi7ubC9I0reVBd\n",
       "bWnSPO+ciws9IOHNQaNs0Hg9bma3nvauQNXd49nem3J3bN7uGzYl04kXNCdEA9ZjLHtovIQOdlPJ\n",
       "54496XuPd7nvklDq7X4InMDRo1VGx0u5ES5VAgygKqGh62KS7baizxXU7sdFnCt2sM2y8gHU6KYt\n",
       "Vq/Xf/t93Nd9uGry8H4ewv970v9i018zXbpxLjicCAAAAABJRU5ErkJggg==\n",
       "\" style=\"display:inline;vertical-align:middle;\" /></a><br>"
      ],
      "text/plain": [
       "<IPython.core.display.HTML object>"
      ]
     },
     "metadata": {},
     "output_type": "display_data"
    }
   ],
   "source": [
    "less_than_an_left_increase = Forall((a, b), Less(a, Add(b, a)), \n",
    "                                    domains=(Real, RealPos))"
   ]
  },
  {
   "cell_type": "code",
   "execution_count": 18,
   "metadata": {},
   "outputs": [
    {
     "data": {
      "text/html": [
       "<strong id=\"less_eq_shift_add_right\"><a class=\"ProveItLink\" href=\"proofs/less_eq_shift_add_right/thm_proof.ipynb\">less_eq_shift_add_right</a> (conjecture without proof):<br></strong> <a class=\"ProveItLink\" href=\"../__pv_it/theorems/26461229f300c5869c21c4d3f5c160fc5ebfb7440/theorem_expr.ipynb\"><img src=\"data:image/png;base64,iVBORw0KGgoAAAANSUhEUgAAASEAAAAXBAMAAAC2Z+QsAAAAMFBMVEX///+IiIgiIiIQEBB2dnbu\n",
       "7u5ERETMzMzc3NwyMjK6urpmZmaYmJiqqqpUVFQAAAB6qHgnAAAAAXRSTlMAQObYZgAAAAlwSFlz\n",
       "AAAOxAAADsQBlSsOGwAAA8xJREFUSMe9V1+IDVEY/2bvzL1z/+0dQtSSBtHWav2XPFwiq9CUTUlx\n",
       "N+vyZkLyZAflUdcDeZCueFHk2vwJNzurkHi4/iRbHlbti0TrYQtRvu+cuXfOmZ1ZtVe++k7nzvl+\n",
       "c37n+zfnAjQtDqoesaZHASIeO/APRKnhMDtiMWVEAELksqfD9ONDE4zeombzUattYQBt79ywo7lc\n",
       "H9CPC5MnpJVw2Bm5nLT8+ZBTByQrYbbnuB6naBcmzyiNp4KqFClX+JHx9358pwHI1QN3XQS+4EqH\n",
       "UGuTZxSjoVN8kpVyZ0V9MnWjD7hZ99wr6VUW0wxSTjaRRkPEoRTN6KIX3PWGAFgPYYySLtelprm8\n",
       "CUa3KRCU2GfWnQgwUqc8A9jGCfW7IuDSlC8BRuvabFCxykjvAez7676VyJWL3uFSq+GgJTHSO+Au\n",
       "wHNG6FNNBGg/rD2OxOhkLV2ADLqa9Azow3XrxHlpt9ebH53lMzn13zm+YQdqC+633YV+2UcteVgC\n",
       "8IbNBUYIyI5BzJAYzacHWUxH0rillhvmI41ZYk6xrKjQlR/P6J0hGK6hlMQXDNBrMYCmOQ/zgM44\n",
       "wFzWx/3lRw0B6RLk8L39prnMNBcTaoxtOco1awiJvaoxe2hjv1LgiTGO0VNXNKwzWgnaT9lHK9l4\n",
       "JZjZa5j3btZEH8XY+1OdXKE0iEP3YBex/DaHDqa2GdQ8idH0isCIGc2o+YZ+1LRvkBmVGOETFvlg\n",
       "9XewdsQdWGe0h0Gyc7nCVuyT2qLEd6KwQCEG7YnOHayvq3qP6zNiRofZ4TxDlB7UuAHab2gtvZd8\n",
       "9AtPjB4NdkgE5GxtrVRrOdylDBnchRROYdDTlQS5K+5SrqcLms2aqZLuLQiZzYyyvVbDkISqm0q2\n",
       "B15XKhIjLLRNvNjrncj2AK1uvCIxwkJTbdZEWCNptSkTFErGmJ0e5mnxvFgs1hRFvSEw4kYposQN\n",
       "SQ5RDNHVu6cd+2hLjNQtg2jZHmwXCNBGqoEOueHldAx+mSsPpBN/gvAcxDAoOewVR5iPlNRVy2fk\n",
       "GSU+O54hq3GisTCyZ+vjvvIttvBD6tknPeXJ7vRdt7qhxXoK3ZAsQz5usTyCjUJmMyPa5atFhsKn\n",
       "9EXklzbtBhllxG4rfWmr4jc7VX21BZM2ccvAUa8OWvp+fHptVn7XfZ8RM+I3QzL05AClVeTd7zSv\n",
       "O5OJ3QCE3jcL428hNWHsLhb9xgkTXFeoKrXI9QPhgDChYwWOlrL8MSATMNLJWyeirrxOBCBEZnoq\n",
       "RlgYIxkdxSIs/pMLevP/N/6T/AE17fZwThvptQAAAABJRU5ErkJggg==\n",
       "\" style=\"display:inline;vertical-align:middle;\" /></a><br>"
      ],
      "text/plain": [
       "<IPython.core.display.HTML object>"
      ]
     },
     "metadata": {},
     "output_type": "display_data"
    }
   ],
   "source": [
    "less_eq_shift_add_right = Forall([a, b, c], LessEq(Add(a, c), Add(b, c)), domain=Real, conditions=[LessEq(a, b)])"
   ]
  },
  {
   "cell_type": "code",
   "execution_count": 19,
   "metadata": {},
   "outputs": [
    {
     "data": {
      "text/html": [
       "<strong id=\"less_eq_shift_add_left\"><a class=\"ProveItLink\" href=\"proofs/less_eq_shift_add_left/thm_proof.ipynb\">less_eq_shift_add_left</a> (conjecture without proof):<br></strong> <a class=\"ProveItLink\" href=\"../__pv_it/theorems/1e3b971c2266cfcdc9d1279f1111794b0379c9320/theorem_expr.ipynb\"><img src=\"data:image/png;base64,iVBORw0KGgoAAAANSUhEUgAAASEAAAAXBAMAAAC2Z+QsAAAAMFBMVEX///+IiIgiIiIQEBB2dnbu\n",
       "7u5ERETMzMzc3NwyMjK6urpmZmaYmJiqqqpUVFQAAAB6qHgnAAAAAXRSTlMAQObYZgAAAAlwSFlz\n",
       "AAAOxAAADsQBlSsOGwAAA9RJREFUSMe9V01oE0EUfpvsJtv8NKuoKNRSVkUpVOpfFfGQimIFlQWL\n",
       "IIJNsUZvBhXxZLcVPJZ4UDwUiehFUIzFH9SgG8GK6CGtUix4iNCLiFIPgoqC781ssrObrEIjPniz\n",
       "k5n3Zr6Z982bCUDDYqKqPn2qn4NPswn/QKQSFkt9OiOaj0MduWJrmX68awDRG9R40q+3pb6DR5RD\n",
       "bYjU4vqQWi7NHZCSxWK/b3eT4dSnzapDjVkeiwtcz1C0U3NHFMVVQUEMlCV2x/LV6tO7jkNFbtjf\n",
       "BEXyJVdahFyaO6IgFZ1CQ9xNnQ2VyvztgkNFJuzvLdrKoME0hpCbGqDRNIHI+iMatYO7VRMcahBt\n",
       "ZaGzuK7V9fUNILpDgSBiy/OeuxGNdA9huYcDGrNEB+huybgQXZ73CUcoc70PcPiv8+Z9e0btxakd\n",
       "cM+FKLIJjmEYXjBAH0ouh+FSNCUiUr4bfSbEcKtJR0AtV6zDF12zTe58fJ7X3NSfMh3DDtQAzhdI\n",
       "whoXor0WjOHnNfshICKH5RDURETxr9QQRzqShgw5VzWfqdbCremcJENPshbRlCYYbiZK4gBP2DGP\n",
       "6voypAEt8QlNDDDIc7cTNXSIfmW1MV1fp+uryS0LiSSEZ4FpXBOIvbFae4SBliR4ptUgGrdEwwqi\n",
       "Li+zu0D5gZ+rXmajQzDlYTZu8K0SRHB/SCFbxKK32EMb86WVliq3aJQ8CdHCvICIGS0qOYZO1JQv\n",
       "HkTYEJulyHtPPzr0aR5EmI5wj+OYuElhN+ZJZVX4G0FYIRGC9nDnPnYDyWq/5SBiRicYI2xDlH7U\n",
       "EM7wE9fnQvQLmrNvcUe9GRIdEjhozoUoo2xBVqe4wlmMejQfpu0KWcT1aErJsGQqRQdSArOZUXzA\n",
       "qBqCfbrpyOJB2+GKWj9M5vP2YbczUcZ2wIMmu05/sxXK8yTCEklzhpggERuDmWiZ0+JFOp0uSZJ8\n",
       "U0DEjSIEiRuSHKcY4lbLu4qGC9HBBaff48jt3nRBDtteLXRFTZmheyiQ48qkzww9wwETEMSgJPBG\n",
       "PMn2SIpcMxxEtlH4o2kbMlLSYlf65my1zYsokKmTs5kM28ovG3PwhtELAWMceqEpB8mQwXgE2wVm\n",
       "MyOa5bNBhsJV+tL3pnXdq96717lpmRTEOztSmNiFpA3f1rBUC0VDPYKt15ckDzxwEDEj/jIkQ1uO\n",
       "Eq18337neFR0JpmqQ933Zqr2FVISyt502kmc8IfnCp1Kxbf/aH2HekLL8iwtYjilR/6ASKXdGvJ7\n",
       "8po+DnVksa1ihIXSF9EpPITpf/JAb/z/xn+S3y2K9nC3xrK0AAAAAElFTkSuQmCC\n",
       "\" style=\"display:inline;vertical-align:middle;\" /></a><br>"
      ],
      "text/plain": [
       "<IPython.core.display.HTML object>"
      ]
     },
     "metadata": {},
     "output_type": "display_data"
    }
   ],
   "source": [
    "less_eq_shift_add_left = Forall([a, b, c], LessEq(Add(c, a), Add(c, b)), domain=Real, conditions=[LessEq(a, b)])"
   ]
  },
  {
   "cell_type": "code",
   "execution_count": 20,
   "metadata": {},
   "outputs": [
    {
     "data": {
      "text/html": [
       "<strong id=\"less_shift_add_right\"><a class=\"ProveItLink\" href=\"proofs/less_shift_add_right/thm_proof.ipynb\">less_shift_add_right</a> (conjecture without proof):<br></strong> <a class=\"ProveItLink\" href=\"../__pv_it/theorems/92c32eea125c1f00207190d493c7b7415c85e38e0/theorem_expr.ipynb\"><img src=\"data:image/png;base64,iVBORw0KGgoAAAANSUhEUgAAASEAAAAXBAMAAAC2Z+QsAAAAMFBMVEX///+IiIgiIiIQEBB2dnbu\n",
       "7u5ERETMzMzc3NwyMjK6urpmZmaYmJiqqqpUVFQAAAB6qHgnAAAAAXRSTlMAQObYZgAAAAlwSFlz\n",
       "AAAOxAAADsQBlSsOGwAAA8JJREFUSMfFVk1oE0EUftvsJpu/JhUVhSolKopQqX9VxEMsViuoLFgE\n",
       "ETRFjYIHg3rwpGsFjyUeFA8iEb0IFWPxBzXoVrBS9BB/EAUPFbx4UNpDQUXB92ay2Zntjkor+uAN\n",
       "uzPfm/nmvTdvBmDKYqOaijFTZaDotuEviFbFZo5iMJZWGATIpZqO0M+7KTB6hZrMqkabgwyMPS1B\n",
       "W3O43qOf85MnZBSx2aEcjlpBBtFyEPYs1+MU7dzkGcVxV1CRIuUIP4lykEHKDVy/OPKUK21Cr06e\n",
       "UYiaNrEnKeXOSu/zre0aXHc991yaymKaQMrRKaTRW+JQVDO6UP96dKtu0AFBjKIO12WZzIopMLpJ\n",
       "gaDE7lt30sdIb3oCsNUFTuv0DC42ffIxWtdcAB1PGekdgH2/XbesHLlQ21xsNRyyJEZmK9wGGK7l\n",
       "c0faMzC+WrttiVFvNZ6DBLqatA/MEXf6yDlptRebHpzhX/7U94CtqA2Yh9scGJB91JCFpQAvObsB\n",
       "RzBIjkMoLTGaTx1JTEfSsKWX6it98Nacmy9pOnRlAxgZAnANpSRO8JCmxQBmMvMwD2iPD5nLTjDU\n",
       "R+/soEG8CCmcdyCTWZ7JLCGrcbbkKNdkWkjsVfWv+wWsVxo8Tk9kZD6wPKDLqB2Mb7KP2ll7OYAR\n",
       "eu96VfRRiM0fa+MKxUFsuge7iOXYXNqY3pym4kmMZpQFRjXQZ9sFelEzxiAxKjHCHhb5gKhhOeIO\n",
       "dBntZibJFq6wBeuksSjyhSgs0IjB4kjbdlbXdbPH8RhxUOygXQei9KCG02D8gMbiG8lH3xELMOTP\n",
       "bDRIFYy10llL4SolSOAqpHAKgx4vR8hdYYdyPZ4zCqyYavG9OSGzGSi216oDSeh005HtgRflssQI\n",
       "D9pGftgZpWkz6gaNTrgsMcKDphdYEWGFpLFAmaBRMoYK8RGeFsP5fL6qafo1gREDHWEJwIEkhymO\n",
       "6Opd04+9L0iM9M2DSH6xVyE7XQPjQ8VXIdc/Q74NJa48kHb4MZqnIIQLpjAsR5mPtNgVy2PEQMYG\n",
       "osSB7IwTjYXKmm0Kt/ywXTcIrNm9NeXJbp/ot7qhwRqCboiWIBu2WB5Bp5DZDAQwE4NOQOEqfaq8\n",
       "aeOOv6RKd69001bEOztWeb4ZAxK5kcbWrAxa5n7svTo7u/Oux4iBUIYcIGBNDlBaKd9+pyd2HVC9\n",
       "N3MTXyFVoe3O573C6auQr0UCdCoN5XMmYPntCihty7e1mOW1PvnFA8okb51UPXlthUGAzKqpGGGh\n",
       "/XNG/0nsf7fUTzWA8i3D956JAAAAAElFTkSuQmCC\n",
       "\" style=\"display:inline;vertical-align:middle;\" /></a><br>"
      ],
      "text/plain": [
       "<IPython.core.display.HTML object>"
      ]
     },
     "metadata": {},
     "output_type": "display_data"
    }
   ],
   "source": [
    "less_shift_add_right = Forall([a, b, c], Less(Add(a, c), Add(b, c)), domain=Real, conditions=[Less(a, b)])"
   ]
  },
  {
   "cell_type": "code",
   "execution_count": 21,
   "metadata": {},
   "outputs": [
    {
     "data": {
      "text/html": [
       "<strong id=\"less_shift_add_left\"><a class=\"ProveItLink\" href=\"proofs/less_shift_add_left/thm_proof.ipynb\">less_shift_add_left</a> (conjecture without proof):<br></strong> <a class=\"ProveItLink\" href=\"../__pv_it/theorems/cfc343d4e0ff548c862a696b66710e63447a2a5c0/theorem_expr.ipynb\"><img src=\"data:image/png;base64,iVBORw0KGgoAAAANSUhEUgAAASEAAAAXBAMAAAC2Z+QsAAAAMFBMVEX///+IiIgiIiIQEBB2dnbu\n",
       "7u5ERETMzMzc3NwyMjK6urpmZmaYmJiqqqpUVFQAAAB6qHgnAAAAAXRSTlMAQObYZgAAAAlwSFlz\n",
       "AAAOxAAADsQBlSsOGwAAA8lJREFUSMfFVk1oE0EUftvsJtukaWKxolBLiYoiVOpfFfGQFqsVqixY\n",
       "CiLYFGsUPBjUgye7reCxxIPioUhEL0KlsfiDWnQrtFLqIa0iFjxE8OJBqQdBRcH3Zje7s5sdlVb0\n",
       "wZudnXlv5pt537wZgEWLjqoK+lSRg6BZh78gUgGLlYLOcFzg4CPXLC3Sz5tFIHqJGk2Keuv8HTyi\n",
       "HGlApIapD6nlysIBKVksDgq7KzVfhzKzPBaXTD1H0U4tHFEEVwVjfKAMvrsq7+tQkmHrG6NITptK\n",
       "i5ALC0cUoKKJa4i6qbPVqc7ptkNJZqzvCG1lQGNahZArF0GjOQKRFSMasmtP79oOZYhaWegMUzcl\n",
       "ElsWgegOBYKILS955kY02NKP5f6SYU2b4wAtdRkXoqtLPuAIRVPvAxz97bx5Yc+QtTi1Ee65EIW3\n",
       "w0kMw5TF59Y45zBQiKR4RMpXrVuHKtxq0kFQi6XhQ5dds83ufXzRrHmp7xg2olYgDyuSsNGF6IAB\n",
       "o/h5YWbKUYN3WA2BOI8o+pkaokhH0qAm5+yZ3jlz1qdzkgztSR9ECme4gyiJAzxhxzySSKxCGtAS\n",
       "n9DEAH3M6r1zdtAh8pnVRhOJzYnEBnLLQiwJoXlgGo1zxN5m1x5hoCUJJuLliNTHmmNYQtTsZXYz\n",
       "KN/wc90HUSDlYTZu8EgBwrg/pJAdx6JzvJ025lM9LVWui1PyJES1eQ6RZfRRLxk6UVM+eRBhQ9U8\n",
       "Rd4nat1xDyJMR7jHUUzcpLAP86SyLvSFIKyRCMH6UFMXu4FktcdwEJlG4RO6bYjSgxrEGb5jjwvR\n",
       "D6jOvgaY9DIbHWI4aM6FKKPsRFanTIXzGPVIPkTbFTSI65GUkmHJVIr0pjhmM6Nwr2YbgnW66cji\n",
       "QdvjiloPzObz1mEnSDW1tgMeNNl1+quNYN5MIiyRVGeICRKxMZCJFE1aTKXT6YIkybc4RMzoNGOE\n",
       "aUhyiuKIWy13jGsuRIeXnn2LI693MmSb7bDrea0raso7uocqcqYy6daDEzhgDAI4YQzDcobtkRS+\n",
       "oTmImJGymyCZhoyUtNi1wpytNjj1Kd128OZsJgOWmreT3jesdUKFNgmdUJmDZFBjPII2jtnMCGAZ\n",
       "soAMuat0WnjTuu7V8rt3mO8Z4+/s8NhMBwYkdDuOpTo2rqnHsPXmiuShBw4iZoQyaQAZWnKcaCV8\n",
       "+10obzouem+myl8hBa7sTKedxOnJkK94AHQqFeFzxmf6LoEpLcuztLDmlB75xQNKpd3qFz15dYGD\n",
       "jyy3lI8wV/45ov8k+r+b6ictHfItvDSUmgAAAABJRU5ErkJggg==\n",
       "\" style=\"display:inline;vertical-align:middle;\" /></a><br>"
      ],
      "text/plain": [
       "<IPython.core.display.HTML object>"
      ]
     },
     "metadata": {},
     "output_type": "display_data"
    }
   ],
   "source": [
    "less_shift_add_left = Forall([a, b, c], Less(Add(c, a), Add(c, b)), domain=Real, conditions=[Less(a, b)])"
   ]
  },
  {
   "cell_type": "code",
   "execution_count": 22,
   "metadata": {},
   "outputs": [
    {
     "data": {
      "text/html": [
       "<strong id=\"less_add_both\"><a class=\"ProveItLink\" href=\"proofs/less_add_both/thm_proof.ipynb\">less_add_both</a> (conjecture without proof):<br></strong> <a class=\"ProveItLink\" href=\"../__pv_it/theorems/724eebbe2789318593d6e814c2268391180a55400/theorem_expr.ipynb\"><img src=\"data:image/png;base64,iVBORw0KGgoAAAANSUhEUgAAAVIAAAAXBAMAAACrGdq3AAAAMFBMVEX///+IiIgiIiIQEBB2dnbu\n",
       "7u5ERETMzMzc3NwyMjK6urpmZmaYmJiqqqpUVFQAAAB6qHgnAAAAAXRSTlMAQObYZgAAAAlwSFlz\n",
       "AAAOxAAADsQBlSsOGwAABEdJREFUSMfNV11oXEUUPrd77/7eTW5LIhZjSNeUShWJrdpSKWzAQMWq\n",
       "o922iGBvQNdAIy7Eh4qS3VbwJRDTh5bQKqz4A2KFtYhtbWg3DymUKmwjiA+CKRjwwYcUWlIKCz1n\n",
       "Zu7P7M6FCFv0wHfvnZlzZr49c86ZWYD7JUkJrVQiDP71RJ2QhyW08nmEgU7SjsASNf7oPNFsXkAv\n",
       "Rl1ncGBbu+b7z0IfvhA/UXO280xfk4iQE1qD0xrNJqQYECYpCtzOM52TCORMuHFNa9D0Njxwefo2\n",
       "2DUgEGGz0XmmQxKBXA83YizY9lnPAFnJLscfNQcAngaCjfRT9yFMZwSimKZ8r9mPMc+AWLUyTaFD\n",
       "PwWObbncU51nmskLwPTw0Vamw30lMJe83BpkvkHqRn9DZTo9XMael4DjHMBba11+7UzJZ4T0TniX\n",
       "qUyPNTIu2NLfhU0hg0MnrDsKU2l9FTimIen9PkicVJZ7ucRfi89fOs4/4m0lJJyK2TEKq1XRWNcQ\n",
       "2FeHsy0+HYSYA1kRw1OPe9ak/CeDJxWmaH0BX78KxJlZ9Vf7SyHyCXLvL1YNE/bkNUwZdIUKZnaU\n",
       "HygrMmOqApeJGcrZXG57LvcEbQxPmwTX6/osSDFURla3UCGXewRDktwnrcsCWSeUUDsUKg8AXES3\n",
       "GgYsOO1Mp5YhVvJb9rgIO1dl+gxYd1WfxrhGekjDdBDSTcWn0voLiZl5ipf5PfRLb/ZTUJl9Du86\n",
       "Ls4SZNpbC5hae3vo2J78G3/o+mWeIvNgvCOGNjrK7ls3wV5RmR7iGtkBze43pcM9pp71osSLeF5Y\n",
       "jyYolo3NBlHamhjiXatwgPvJTI7WA6avVsrI9Ovz+LmBPUSLVCcSu70h6eW4w2E1oWvmd4VpN05V\n",
       "BdttySgyWKXADDOV1ldA4COMiEyNyEG8TjmZca0S71oR54qRedMNZdRFmECiI/Q5ztPyRzgIv42I\n",
       "obJXsJcERmGxVlOYYuKbJVHBSF7ZxHyDf+CwWk+l9Q8g0FWiKDEogmOlzJIIGd7lwtVisdgwDPO7\n",
       "ENNd0A/ShzvgEu8ASX0XhbaoIgMCb/QcuVFSc/+5n3tpH/wAFwWVK79QV5lK660gwIOnEl9Ag26I\n",
       "Ybh0V2RXL3uP+9RIf8l8pljyxvdDgcflChBjUQMnz9PQ6H454xaJiDPqWPBpz/oG0H5GUT0ZEBCZ\n",
       "VymfYQVYx65AAVJVyBeo60MWZzxOYSSUUTsTdxewk3J9s+1aeTgFJj9PlnFodSF0BbkWfUOZazsr\n",
       "wspp5VKYqQuIobnre2GikfjewWdybp5NNHhX8m0c/GZj/vULAdNvf+mpy7L0wXqKgynaTn6Rl0Nc\n",
       "tyIQcY9vv71FK38sEZJG2xMKxWJwLqj1lJ9J+NJPb7kCetHQilYekwj5nLU+W+fXzfNVxPxHJbTy\n",
       "YISB9v9BRSAkdttzLUz5diewRhTH4H8jyf9y8XsJvRti1ZnJpAAAAABJRU5ErkJggg==\n",
       "\" style=\"display:inline;vertical-align:middle;\" /></a><br>"
      ],
      "text/plain": [
       "<IPython.core.display.HTML object>"
      ]
     },
     "metadata": {},
     "output_type": "display_data"
    }
   ],
   "source": [
    "less_add_both = Forall([a, b, c, d], Less(Add(a, c), Add(b, d)), domain=Real, conditions=[Less(a, b), LessEq(c, d)])"
   ]
  },
  {
   "cell_type": "code",
   "execution_count": 23,
   "metadata": {},
   "outputs": [
    {
     "data": {
      "text/html": [
       "<strong id=\"less_add_right\"><a class=\"ProveItLink\" href=\"proofs/less_add_right/thm_proof.ipynb\">less_add_right</a> (conjecture without proof):<br></strong> <a class=\"ProveItLink\" href=\"../__pv_it/theorems/86aea9267385e1e335dd45dae317205d766fa1400/theorem_expr.ipynb\"><img src=\"data:image/png;base64,iVBORw0KGgoAAAANSUhEUgAAARAAAAAXBAMAAAAxVg0qAAAAMFBMVEX///+IiIgiIiIQEBB2dnbu\n",
       "7u5ERETMzMzc3NwyMjK6urpmZmaYmJiqqqpUVFQAAAB6qHgnAAAAAXRSTlMAQObYZgAAAAlwSFlz\n",
       "AAAOxAAADsQBlSsOGwAAA5RJREFUSMe9VltIFFEY/sed297cWdEuJCIbQhhCRTckYRVEA4shNl96\n",
       "2JVs88FgyQgi0IGgl0DsoeghYsESIsstsptiu4FGD9F0IRB6MFBIotAHwaKH/nPO7Fz2Qi1sHfjP\n",
       "nvlmzv9/57+dBSj/0EqCZUPKPzi9FBg8CpMF8vCpnEQ+FIOF4/WFXtQyeUbW18rIQxgpCrtThd64\n",
       "VSqDJESxMhLxpovCgWx0PPZvfCkqhA+vl5GIKxeY17LwhGpAfsX+wR4qPiTnLmeKzOc8v5g04TYo\n",
       "SOQ6k12h0O5yEnlIYr24KWuqqt2CbwS/5RDhgy8BDgOVxwAn/hj3EoiQ841q4hpL0TbFgoUfalRz\n",
       "EJGb4BHAK6AyDPJCVol01aHz3cGZy3Qh5lo7R9Obbw3Tp4/2XtWEFg+Al1aq/CBtg/1r4FIcRCrC\n",
       "sBPgPVARVT5palk0V1JdPMnx0BkuQESFSgpnYIzycES8GR24QkzgWNYd8AgEEPaGQlsxH8jpn9Ps\n",
       "HWLiV2y5us9cTSWwGXIwq+QTubQErgT7OoC+mHPWK1p0xSCazCeC5CZ0h0f20nnUkJEMTpFMJ3HD\n",
       "ah3hyNcqHNGORGpSFhGhq5rEYPALHiC4hI5HV+uwgerGLVYMogq8gfzQYBthLsgSEVZZBhhy6ApC\n",
       "26R1YrmBI4YbpR3d9Hrg5Z60ReSINoRExp6QWlC3IO01qEgPsDPiFsNiDxLRYdmvOZMV4UACk8fh\n",
       "kV/Y29ClwOQCRsuboorEtA87sTcmJMYpEW9vzJasUzCAPGg59pM0l0jy+XvJIckWwyIWoqj4txuF\n",
       "JlTVmHBlWkw5iWDJdLDKJlKJKlxJjiSPK+FdIA9YTvF4XOc4/q6NSDPUgdRi5NIMDQ1620OYuKx8\n",
       "P43WP3cMbzQbWrsJL07nNDS+K4ObG4EJGVFNnEUoQIJOM/AM9QjnuamaRIR16D8KkVNkvQItZrJK\n",
       "XzX6a4yKRE6pv9LyYEdnleuZsAtCGxpXI1ChzkEE3EkIiyrNEWi3Jet+6ecsgv24bPDFhDAE4R7V\n",
       "9F0lW2x3WIHhgB2XHrkOzZvSM/22CwZ06b6CszydUeWTiN7eHD721CJy53U1+d6HTM4HSZD41knj\n",
       "TxbZklXcV7jj9hVrxRcNsQ3dNkficSvuzj7iZzr9RRR3lwQzhk6WHtWanUMspOBWEcWyUgoMnMbE\n",
       "Hkbb/BdEWFjPYnnFNfhPQ/73Jn4DqvrapoEI7QsAAAAASUVORK5CYII=\n",
       "\" style=\"display:inline;vertical-align:middle;\" /></a><br>"
      ],
      "text/plain": [
       "<IPython.core.display.HTML object>"
      ]
     },
     "metadata": {},
     "output_type": "display_data"
    }
   ],
   "source": [
    "less_add_right = Forall([a, b, c], Less(a, Add(b, c)), domain=Real, conditions=[Less(a, b), LessEq(zero, c)])"
   ]
  },
  {
   "cell_type": "code",
   "execution_count": 24,
   "metadata": {},
   "outputs": [
    {
     "data": {
      "text/html": [
       "<strong id=\"less_add_left\"><a class=\"ProveItLink\" href=\"proofs/less_add_left/thm_proof.ipynb\">less_add_left</a> (conjecture without proof):<br></strong> <a class=\"ProveItLink\" href=\"../__pv_it/theorems/e20181e706b08a9f94848edead24d96dbd54e6400/theorem_expr.ipynb\"><img src=\"data:image/png;base64,iVBORw0KGgoAAAANSUhEUgAAARAAAAAXBAMAAAAxVg0qAAAAMFBMVEX///+IiIgiIiIQEBB2dnbu\n",
       "7u5ERETMzMzc3NwyMjK6urpmZmaYmJiqqqpUVFQAAAB6qHgnAAAAAXRSTlMAQObYZgAAAAlwSFlz\n",
       "AAAOxAAADsQBlSsOGwAAA8RJREFUSMe9Vl1oHFUU/mZndmd3ZzaZlBYrhpAsCZRWJbaKUhQ2YLBi\n",
       "ldGu8UFwN2DXQFNYTF9KIVki+BII8SEiWmGlWhCrRPEnsSHsPqQgWtxWEQTBFBqo0IcUGhoKhZ5z\n",
       "7/xuZtHC1gPf5dw7c+d+c8537r1A+63ioNWz7ZbE/TClIRFpn0SOpi1gjZ2/2knkdwfRLGvNIyP7\n",
       "qekGfuTOB23kEZ+TaGHz20Y+IqRsTHKKim0kYtQkfDsX7Py8bcIdgrnAXKA12khEdeDbpdBj23Mz\n",
       "IhHpTW6fgEnkU+2UyJ8OWhBJecEy9wlOWi+3p4H92ezj7STyrYPk1d1WE5Gh7jK0NVe2/TI2qSs9\n",
       "lJCXgB+Ao/+a93sgctrBmUpiM0xkumEUYTo6zvc5o4X5+BbwEzCLpEsS+vuhb15+fuU94SSaVzsZ\n",
       "lHdmDNpQzu09IhF/GkZvmEg/VAuZQeHPPOy+/7eNx4DfaBFbq3rfvOp5ek+pqmg4lIsgYqMjF+Ax\n",
       "CtRx1u0elDA2EOOXvslmD2Szj3JYRYD0DW47PvamLwE3gSn6jhXQ6pOed75MaVSwam0nMrMOtez1\n",
       "zHExr7MSJqIWUaiGIqKKKKYHm4j0I00FfIa8uTqnrH6I6d7oYQVp3ZbYAYnIrgWfSPzwTl5t8hr9\n",
       "QNe6UF8dynEW5ibURjg1BQu/hqumIP4p09uUmjsiVJfJe5E2u/gefYtXHlB44b364IgQtpYcrflE\n",
       "XqlMEZGzi+TusB+iNlad0J8R8d5EzC3LUYlCA/9kKkEinfRGFWaxSay3cIQeXCDvHdKqsaBzyBI1\n",
       "FrVRjJfFbqgYbxYDYj2PCeIxzO44yxzf4zX8MSyJqE6tciEyElZmnxGKCJWMVobhquvlPlm+13HM\n",
       "KfgOyrdaVbh01LKxxh0qp1Kp1FAU7csAkYPogYwAaWLFkYNgRqnpdFPztkT8ynOzD4Sr5tlfdnEU\n",
       "PXHJjeSNFziWe91iriRWabhTpJp1d0JEREl/antEqNzHX0WeNYENMKEtMXdyMSTWWFmixc467bum\n",
       "f9Yme90ToDJ1zs4jZl9AHqkqcglbaATDAbE+pd9epUGukgGzGM/hQ2g8PruOLnzlfX5BosWht9zy\n",
       "pJQ3k+VLhzHR0L+2qE0u1+3kWzT6+YO515d8Il9c3Flz6vVUFydphmMtrl3a0HfeR8ccRN/Fog/6\n",
       "d8PdRqDNl0r+PhfeRzJymUyLtUYcRFoi+q4YJp62/bZpetTkz1r9tCURabuj721hemag/Q9ERFp1\n",
       "qq7SGP4vS97/Je4Ct27chh7U1VYAAAAASUVORK5CYII=\n",
       "\" style=\"display:inline;vertical-align:middle;\" /></a><br>"
      ],
      "text/plain": [
       "<IPython.core.display.HTML object>"
      ]
     },
     "metadata": {},
     "output_type": "display_data"
    }
   ],
   "source": [
    "less_add_left = Forall([a, b, c], Less(Add(a, c), b), domain=Real, conditions=[Less(a, b), LessEq(c, zero)])"
   ]
  },
  {
   "cell_type": "code",
   "execution_count": 25,
   "metadata": {},
   "outputs": [
    {
     "data": {
      "text/html": [
       "<strong id=\"less_add_right_weak\"><a class=\"ProveItLink\" href=\"proofs/less_add_right_weak/thm_proof.ipynb\">less_add_right_weak</a> (conjecture without proof):<br></strong> <a class=\"ProveItLink\" href=\"../__pv_it/theorems/1304e29b43b3fba263192420c1abb7ab30b1888b0/theorem_expr.ipynb\"><img src=\"data:image/png;base64,iVBORw0KGgoAAAANSUhEUgAAARAAAAAXBAMAAAAxVg0qAAAAMFBMVEX///8AAAAAAAAAAAAAAAAA\n",
       "AAAAAAAAAAAAAAAAAAAAAAAAAAAAAAAAAAAAAAAAAAAv3aB7AAAAD3RSTlMAq1RmmUTNIjK7EInv\n",
       "3XZ/CtNrAAAACXBIWXMAAA7EAAAOxAGVKw4bAAADmUlEQVRIx71WW2gTQRS9zaP7SjZVRKEFWRAK\n",
       "4oPgh9iCMaX1jRofCD6gFT9EP2QL/gh+pCCCWGmwHxorsh/+aJBECyqCIkrxhSLFIoiBLRVfxVAQ\n",
       "LfRDvHdmk91ZUzQQvXCnsyczd87c1xSg/mLWBEuO1l90oxYYwjbXJvpYVE8iS2aD1Uuvqv0wwXUt\n",
       "zQ/VkYfa4wNazTLcmKy2odFi2kchytSRSCgufq/eVIFj5eiEvWuCSabERzPqSCQifn6968LdlgMG\n",
       "bO+SZ0yDSK6xninSKsTpnu2B70FVIge5vigWn9eTyGaKdctHdpS6Je6FD5Tm+ohopVUAN4DpBoCL\n",
       "f4x7DUTofvtNZYZ4zDe8sPrDypsCEWkUNgKsBKa9IDWVV8uHBZvLbnUcZRPFf9oplt7a/QL7Wuzt\n",
       "VaN44iMIsUr1EEE4MAMRWyASLcBLgKXAVLG0VGV5S2Umj2dTuga3C1WIWNDA4ATsYTyEiI+gA6fo\n",
       "CLqxGxqCeyCGcKhYfIf5QLffxrJ3gGvA9uTqk8qsK43NUId2+3cix5ohkuarY+iLNrFe8cRIBvIp\n",
       "X7KOsPt3G4JHnrJxv6M9CRxyidvkhp/jxFGbsHWyjkS+JF0i6vAkxaBvAV6g1Iz3RVcb8JnZxi1u\n",
       "DPI2rPGX7yhrI9wFZSLqT54Bjt48gtAbeZpOfqvTwWPyg6vsedCky3GXyHVzAInsWU/mrfdIewai\n",
       "8X5+R9zinHwZiRgwP2CKDQ3hWBqTR/DIN+xt6FLgegKjFUoyQ0o8iJ04lFHTOxmR0FDGk6xd0I88\n",
       "2A0HKc1lSr7AEF2StjgHYyEqduC1W2itaQduiCtJkQiWzB1e2aQNuDCS0il5IulQE31gOWWzWUPX\n",
       "tR0eIiMwDvJDJ5c6WGjQ22FiEnHz/Sz6d+Gd3k++OiO4pdPX0LThBG4eA64keVNpRyhGQWcZeIZ5\n",
       "RA/vsypE1GkYvAa5czSfgoeVZJXnmeyvI9F01fYiwEJnlV5x5S+BObDTykHUaoMcNKagoFgsR+Cu\n",
       "J1kfy9/bERzE6dtgRi1ACbYzS3Ms2uJ5w6qIAAuPHj2HlZcy3Ll8GPoNeauNo9SZsKQLiO7+ULiy\n",
       "ziWya8UkrQ8ik5MlCpJ2f5PzTxZtKRs+7740RSZpH+yT4456xPCMuWzWjbvYRwLcZmAWw1drgjlD\n",
       "kWXYckdRlGoG9s5iWLJrgUE3uXrD6Bn/gggP62ksr6wJ/0mkf3/EL/RZ9bkOmLkwAAAAAElFTkSu\n",
       "QmCC\n",
       "\" style=\"display:inline;vertical-align:middle;\" /></a><br>"
      ],
      "text/plain": [
       "<IPython.core.display.HTML object>"
      ]
     },
     "metadata": {},
     "output_type": "display_data"
    }
   ],
   "source": [
    "less_add_right_weak = Forall([a, b, c], LessEq(a, Add(b, c)), domain=Real, conditions=[Less(a, b), LessEq(zero, c)])"
   ]
  },
  {
   "cell_type": "code",
   "execution_count": 26,
   "metadata": {},
   "outputs": [
    {
     "data": {
      "text/html": [
       "<strong id=\"less_add_left_weak\"><a class=\"ProveItLink\" href=\"proofs/less_add_left_weak/thm_proof.ipynb\">less_add_left_weak</a> (conjecture without proof):<br></strong> <a class=\"ProveItLink\" href=\"../__pv_it/theorems/962df2a3d610101f668b083523696bd883086a410/theorem_expr.ipynb\"><img src=\"data:image/png;base64,iVBORw0KGgoAAAANSUhEUgAAARAAAAAXBAMAAAAxVg0qAAAAMFBMVEX///8AAAAAAAAAAAAAAAAA\n",
       "AAAAAAAAAAAAAAAAAAAAAAAAAAAAAAAAAAAAAAAAAAAv3aB7AAAAD3RSTlMAq1RmmUTNIjK7EInv\n",
       "3XZ/CtNrAAAACXBIWXMAAA7EAAAOxAGVKw4bAAADx0lEQVRIx71WXWgUVxT+Mjubnd2ZnQQKFSLI\n",
       "glCQNnZpS8E8rBviXy0tay0FrUhQS2seygbyIihsQPrSSBYjxFUIE8hD063s+oOWFEKoiNJWSTWi\n",
       "JGyZEKlFaQiBEtmCeM+9s/PnLCpsPPDdPffMnb3fnPOdOwM03rIW6l173iJYDdMTAoG2PzAaNoFW\n",
       "ctY3ksjbFoJZJv2R8ZtsWAC20uTrBvKIdQvUsR7HlcS2hxiaDfRTifINJCInBRzb7Z58YHuhGYP/\n",
       "LpOfJi5QEw0kollwbKPnslEr0pzwwlUaf0OIkW9upETeslCHSLOVrOJfVkCdpvEgcLNS+b2RRD62\n",
       "EFn70PQRmVzIQeXdgbE7NrN186wg54EdwJkX1v0ViBy0sC8brXqJHEvIeYS4jkcP2OtLPbEV4EOg\n",
       "F5HWWlA57PnP9sud33In6t/tO7e8pWGok+Xa7LZA7CrkaS+ROWgmpClymxwi7xq4BbzDNjHUjB1d\n",
       "a3vKfCGjq7hSDiBioKns4jECpLCnNr0mIC8hTos+qVT+qFT+pLTyBClLfFWfXZptwP/AIPsf06XV\n",
       "G7a3JceEraPDfJ5IXxu0nNOFQ/y+lqyXiJZHKePJiMazGJ7yiXUOYdbA+5jXnaJ46grRfTpPPaUu\n",
       "mPwEZEQepR0isYuPabf+NewBFtu4+lLQT5Iwq9AS3tKUTGz2dk2JP5M07WvfZZ6qduZdYIdd7J6y\n",
       "Qhdnddr4rjI1zteqkZGkQ+RcdpAR2bOduf8aD9gYzwwov/J8VxGvnWEjAqUE3pSybiItbEUGobzv\n",
       "QHuCn9iFTcw7yrQqpxVKWTRJopbzsRw/DXX5bN4l1i0YYDwmyB0imeMj/IANE4KIZvUqNSIhakoz\n",
       "sicjrGXUHGRHXdI3NL6BU1bDN7F6axmdWkfLya00Ye1UKBQSuq5+5iJyDfMQGWCa6LTkwJmx0rTU\n",
       "SnNCILbu595/vF3zy/uPKIu+Bhy9RLm8W2vmbLSDJaqFl5p09z3PiB7+0rCJsHYf+hFF0gSWQIRW\n",
       "+L392z1ijecE6pysx4I/SGrK0bKDu40i4sYmFNGcQTlqcI1gwiXW68p/HSxIXTIbysfK+AoqxXvb\n",
       "sIhddunTAnVeel1135TizdO18SIGEsqnJhsjXSkjcppFv/i7PLbNIfL5e4+TVr8eX6Qi9VGu+WeX\n",
       "OrnT/tNhC8GPLkR3rkJ23w4f8a5KuMZioeBU03uOSGIbqc5e4xYCLRr8reglHjac0Xd70M176z20\n",
       "KRBoD4O/27z0Qq7xJYjwsiqsuwrDeF0WWf0tngEVRPWb3ImLQwAAAABJRU5ErkJggg==\n",
       "\" style=\"display:inline;vertical-align:middle;\" /></a><br>"
      ],
      "text/plain": [
       "<IPython.core.display.HTML object>"
      ]
     },
     "metadata": {},
     "output_type": "display_data"
    }
   ],
   "source": [
    "less_add_left_weak = Forall([a, b, c], LessEq(Add(a, c), b), domain=Real, conditions=[Less(a, b), LessEq(c, zero)])"
   ]
  },
  {
   "cell_type": "code",
   "execution_count": 27,
   "metadata": {},
   "outputs": [
    {
     "data": {
      "text/html": [
       "<strong id=\"less_add_right_weak_int\"><a class=\"ProveItLink\" href=\"proofs/less_add_right_weak_int/thm_proof.ipynb\">less_add_right_weak_int</a> (conjecture without proof):<br></strong> <a class=\"ProveItLink\" href=\"../__pv_it/theorems/4294e548c90865be91bfdbeeb00ebc3b9cc7ef240/theorem_expr.ipynb\"><img src=\"data:image/png;base64,iVBORw0KGgoAAAANSUhEUgAAASkAAAAXBAMAAAClsKTYAAAAMFBMVEX///8AAAAAAAAAAAAAAAAA\n",
       "AAAAAAAAAAAAAAAAAAAAAAAAAAAAAAAAAAAAAAAAAAAv3aB7AAAAD3RSTlMAq1RmmUTNIjK7EInv\n",
       "3XZ/CtNrAAAACXBIWXMAAA7EAAAOxAGVKw4bAAAEAklEQVRIx71XXUgUURQ+7p87s7OuRhQkxEZh\n",
       "RSTbLxQkGxpGYS7Yiz3URg9RL60VvZQxRRTRj0tCthU1vQS2lZsGgaGIERYVWBCFsbBmECWJBCb4\n",
       "EJ1z7zhzZ5ytILYL5+7cM/fe+c75zjn3LkBhW3EefSK/OgEFbx+d1SVhZ/1OXUppsLBQoFwZZ/0y\n",
       "kK8POqGNcNlEg72FQnXbrqhg/MhxAF/UacF+LieI/GShUFXbxhu2sB8PuiM0TWKDOGE1F58GEAgX\n",
       "ClWfdfitm/8qKLs0XVkpzlA0Jm6E7StYWMXFkdyTm+YRpQecUPkiXF5lsy8KhcpDwd7Ue5yDqotM\n",
       "67ei7B6bZUPVO6JCALOPZDPA1T/uns8XYm3JzXxPVnsH4CaRJc8x42QPDn9oHQkLquawJwlu9C5J\n",
       "ExSXTs/277NsWvT84TWWKZL9c6d5fqwxyFlrQF8qIA0ikLsRqGMDAdUbNGgKlJwF1QdSuDASSSQt\n",
       "EDOmlxtP/uFULJgI3NccUGlQxOqQbJhz8Rs6hemWii5TcOd6+h4r8yaDT9GGOIRwQV02+zKbfU18\n",
       "TLHPjnNx5YRgf2Y81ajoSjh5CGaiOjwPFJURa5qzXK816yJgQ/Uc5Al7tCOqYAZ2hUVfKcz93j4u\n",
       "EK/CLl31iJD+HCbfBEZyJXz3aFRAJXeNEjsn5gK0jM0jgsCCqhPgC/sQrjcYlH+Ce9xeGd6wclWv\n",
       "iag62BrXIBfoRBvld/5JKvhDJQTjrb+vnc10H1QFVPcSLYiqsZa21z5hf8SKahGc59bjeq6VciB/\n",
       "h6L4YlsVvYGoVPmJJQdD6IcYuNFjJHAMo8MTZRtJEYp/T1JWecG9HwABVQ2cR1DM3FbA8IZGK6pG\n",
       "cF0j82k911KO34DlUfNwqWBvHmAmRaSoBRUmYEBltYTVkyKVAqCEIldRPaU8GtamUqkwZLrhjonq\n",
       "KQyDv1+Pv43YL0DOcV6qjaM6iyFBsBQj3PzIxa3RM/NVWwpfQHbKq21V9PGqr8h5jAsnNSGtx/1C\n",
       "oCAHIeTpHAu9JRHoNlDJk9B6B9KX6Hkc+jkMK4OIY3aCrdfbe+c6FxRhWmp7sy48ARItDVoagto6\n",
       "SIMvBhmJRb0HvIOmrwb8E+sx9lrxccidlDP2aB9j+V+m0XrhsHVobvG+0GA/zo0j3Vtd2YWx6t+W\n",
       "w764ukorvoLaFWWjl0tNVNtXjlJmuhHWqTHiUjKccvRAL0Cbfvuk9brenAFyljXupbZ8V9fkzBtM\n",
       "WOjTqZRZjaz1ysX3dOl10/isw31IznNHas+DiqyQrFdkr2b2tslOO+wAqLUclk4X7uN5fJJz1n/W\n",
       "RWRb6P8CFbIZEC3AQ/EsZeR/+Dfw+38qoOV5/sf2C/f4+JR7sAewAAAAAElFTkSuQmCC\n",
       "\" style=\"display:inline;vertical-align:middle;\" /></a><br>"
      ],
      "text/plain": [
       "<IPython.core.display.HTML object>"
      ]
     },
     "metadata": {},
     "output_type": "display_data"
    }
   ],
   "source": [
    "less_add_right_weak_int = Forall([a, b, c], LessEq(a, Add(b, c)), domain=Integer, \n",
    "                                 conditions=[Less(a, b), LessEq(Neg(one), c)])"
   ]
  },
  {
   "cell_type": "code",
   "execution_count": 28,
   "metadata": {},
   "outputs": [
    {
     "data": {
      "text/html": [
       "<strong id=\"less_add_left_weak_int\"><a class=\"ProveItLink\" href=\"proofs/less_add_left_weak_int/thm_proof.ipynb\">less_add_left_weak_int</a> (conjecture without proof):<br></strong> <a class=\"ProveItLink\" href=\"../__pv_it/theorems/c550b7201b650e1895c22a793a3a2384cbefe6c80/theorem_expr.ipynb\"><img src=\"data:image/png;base64,iVBORw0KGgoAAAANSUhEUgAAAQ8AAAAXBAMAAADn89dPAAAAMFBMVEX///8AAAAAAAAAAAAAAAAA\n",
       "AAAAAAAAAAAAAAAAAAAAAAAAAAAAAAAAAAAAAAAAAAAv3aB7AAAAD3RSTlMAq1RmmUTNIjK7EInv\n",
       "3XZ/CtNrAAAACXBIWXMAAA7EAAAOxAGVKw4bAAADj0lEQVRIx71WTUhUURT+5v/NndGxFgUKMRD0\n",
       "s0imEiEhmRjDCswB29QibRFRm8ZyV8ozohZJDgnZVNhrE+WUDhkEhiJFqFRgiyiMgTGDoEGRwAQX\n",
       "0v15837GN2Q0deDcd+/HvHu/e853zhug6OZR3dJif4D+rX1R3dKOF0TL2GRzEXnYU8KtrTSUB5C7\n",
       "UwLdz1anikjkgeoF7Iw+3cIz4g4LtJNlNF5EIhHVdWsyLqq02d5D/BEICtStAL5gEYmMqa5bpXHh\n",
       "V9TJ3LB4NisCddD0uIspkRbhhYi4hUjISEYFRnLou3T6TRGJOFPC0TrakU9kdFaGj1cHadBEe2J+\n",
       "PTh6ALj9293XToTdjblrHPcUM5H2oDMOB4sW2aCJgfxUBmMcbYWnLIdKp02b2iaf3WGahjf/uCtG\n",
       "edt7Qapzi5Kg8MchNORF5DP8Gdi5fnQi9uUc6lV8UW3PCm0mzSSiJTHfgGJBRIHN0CjsfcD1OU2M\n",
       "UeGN7GBqDen023T6PQvrMt93gXdfLTXOFgRSHLVnDFqd0GZ1MuDApfNYTaStHH5ZWzl62Lgjn8gk\n",
       "yKI5In4eRdeYWawlKTQHBdpSS4dk7XNGd2WGRcA3m1E7YDhsIEKGsqwFdW4EuufLufpqUXoDJiJq\n",
       "asgKHAtmIoP8aPuUuXxpG2lUBPqUtjXyUVpiDXi6lJ38QRp7JG57TjYQeRLrpkSO1rNdlK/s0GiX\n",
       "9BJmIt4Md/IDtpatJiIBercoHHFzQwvI5BUEepFq1RmWWHC8ISZfZ5zIohsO+GAgUocuyoNfpAdM\n",
       "nQfxENuHzURYITLvww41nDkitGR8sihttcWzW9pC3rBa8DaZZbWUlY5fdpaJFFcnEokgUsPo14m8\n",
       "xgzUCExgHweQY6YRkaaE389e3SSbq+bF7u8sinkfvYoIDOhgzFtD1RGAn6Y4QBNwjQtrWwjDGhGy\n",
       "hJ5+JLkmFsAILfF3O+uNRPBJ9QKdtd2y+2ioP9bdpCRRouxBEu4oUl4uWidcU3pExqXFGqojViXT\n",
       "jjhJ4SR46lrLjUSqTF+2VR+9SMEvJTdXpHIIXUHpcIaOnkit4rlF0Z3rsjfLdCJHdmVDar1enmdJ\n",
       "amOx5n+wLpwd1dQaE17g7xvXKklzk82obkHDmEwk9Gya+wjtpPxhfRSJC7c2a4p5qEvRx7wfWr19\n",
       "rMBZHapb2re1oA7DuAYivOVJtLoSvfhf5vn3R/wCCC7mxkH/eBAAAAAASUVORK5CYII=\n",
       "\" style=\"display:inline;vertical-align:middle;\" /></a><br>"
      ],
      "text/plain": [
       "<IPython.core.display.HTML object>"
      ]
     },
     "metadata": {},
     "output_type": "display_data"
    }
   ],
   "source": [
    "less_add_left_weak_int = Forall([a, b, c], LessEq(Add(a, c), b), domain=Integer, \n",
    "                                conditions=[Less(a, b), LessEq(c, one)])"
   ]
  },
  {
   "cell_type": "code",
   "execution_count": 29,
   "metadata": {},
   "outputs": [
    {
     "data": {
      "text/html": [
       "<strong id=\"less_eq_add_both\"><a class=\"ProveItLink\" href=\"proofs/less_eq_add_both/thm_proof.ipynb\">less_eq_add_both</a> (conjecture without proof):<br></strong> <a class=\"ProveItLink\" href=\"../__pv_it/theorems/f7060279114b57904c6ba8739bbfa030e25c94e00/theorem_expr.ipynb\"><img src=\"data:image/png;base64,iVBORw0KGgoAAAANSUhEUgAAAVIAAAAXBAMAAACrGdq3AAAAMFBMVEX///+IiIgiIiIQEBB2dnbu\n",
       "7u5ERETMzMzc3NwyMjK6urpmZmaYmJiqqqpUVFQAAAB6qHgnAAAAAXRSTlMAQObYZgAAAAlwSFlz\n",
       "AAAOxAAADsQBlSsOGwAABEVJREFUSMfNV11oFFcUPmNmdvY3GUtSlKYhnUYstkjU1gaLsIEGLI06\n",
       "2FUpgk5AV6EpXYgPisUdLfRFSOODVvoDW/oDpQpbEX+aYDcPEUQLawqlD4Ir6FsfIigRYaHn3Ht3\n",
       "9t7ZGVBYaQ98M3PunHPn23PPOfcuwPOSuECoeBEOzzxRO+RlgVD5LsIhTJIWR42U2+0nmslyhItW\n",
       "CXPYsbbV8vA70Is3xG+knmk/0w8FIuSURPGM7/B1iGUdEg4QjlIWuO1nOiPQlLOycsN/Sr/u+A71\n",
       "xoI3Q558BOkyEIiwXm0/00GBptySlQ6nkQcDju+ArESYLd9Q7wd4CwhppJ94Dmk6xRHFNCGilntF\n",
       "ciBWQaYJDOg3wLDWtt9sP9NUlgMmh48FmQ73FkBnlQy73pAdEnf7qirTyeEijmwBhksA+57280/P\n",
       "lGJGSA7BJ47K9Hg15UKaxXv3t4rDnlPGY4Wp8L4ODJMQrzXMzdPK57YW2G3+vasn2UNMXeADcNhV\n",
       "dVzARa4sqXJ8UIHzgZgOQIcFGZbDnU2mZHzHgTUKU/S+grc/OWKOXvLt7ylcvkDuffmSpsOmbAvT\n",
       "zBh+Kavq2EYWRMWUOH4nZijnbXudba+mhWFlY3K7E/7qkzGyeogGtv0qpiSFT3gXOTKWVFBvK0xf\n",
       "BJjGsGoazFlBpulxmr6g6mjrqkzXg/FEjWkHs0gOBiqKjAcgWVdiKry/F5iaJY/ZTfRLH/RRUum9\n",
       "Fhs6yfcSZNpTbjI1Rrs90D6mx+LS+6xEZoVujC63lNU3HkB6QWW6h1lk+gNdihzqIuANpg3veYHN\n",
       "uF8Yr5mUy9oKjSitMgfZ0CLsYJPp8bFKk+k2r+iZG9njC85L9JHShNDxlYhyzGIw6tA59bfCtAun\n",
       "KkHaDXR+clikxJSZCu9rwPEZZkSqTOQgVqGaTLlGgQ0t8H1FS+11pYqahgmAv0bocZyV5UXYKfRp\n",
       "llKsYdc4xmC+XFaYYuHrBd7BRIJ/2XD4Bz5S+6nwvgAcnQXKEq3G8i5V4ynDhly4ns/nq5qmn5OY\n",
       "boA+vP40wtL6Khto6BsotXkX6efY3X3obkGt/Xdv9tA6BNoaM36/ojIV3quAgyWPF5vDReiCDkyX\n",
       "Lk8M9TgHWUy15A+OzxRb3vh2vB+9DLAAtOq8B6KOr8a2ixlXCkTsUcdbOrBsLO1R1E/6OXjlecWz\n",
       "Tg6WONcgB4kSZHM09KkTc1iewohUUUPmkzm2f9yHFWnXyMJXoAt9yFyck44gN6JPKDMtTGXjpHIo\n",
       "TFU4+KuZW6MwUTV/tfAan5l1JqpsKL4fX/68PLvrSpPpL390V8TB/chSwFo6QcvJdP8V2nocEed4\n",
       "nvjbbJKVvkO4fC4gSbXlCrl8vplRsdCzSPj0hssRLiG0oo0PCEgxd4LX4Pxh8/wYMf8xgVBZFuEQ\n",
       "+v/A45C3nZZrJFMTe0Ke/85KQP9fSPy//Pi/L4Ad1LTHGr8AAAAASUVORK5CYII=\n",
       "\" style=\"display:inline;vertical-align:middle;\" /></a><br>"
      ],
      "text/plain": [
       "<IPython.core.display.HTML object>"
      ]
     },
     "metadata": {},
     "output_type": "display_data"
    }
   ],
   "source": [
    "less_eq_add_both = Forall([a, b, c, d], LessEq(Add(a, c), Add(b, d)), domain=Real, conditions=[LessEq(a, b), LessEq(c, d)])"
   ]
  },
  {
   "cell_type": "code",
   "execution_count": 30,
   "metadata": {},
   "outputs": [
    {
     "data": {
      "text/html": [
       "<strong id=\"less_eq_add_right\"><a class=\"ProveItLink\" href=\"proofs/less_eq_add_right/thm_proof.ipynb\">less_eq_add_right</a> (conjecture without proof):<br></strong> <a class=\"ProveItLink\" href=\"../__pv_it/theorems/13810ea945f67813988dd2233869e6cc2aa197bb0/theorem_expr.ipynb\"><img src=\"data:image/png;base64,iVBORw0KGgoAAAANSUhEUgAAARAAAAAXBAMAAAAxVg0qAAAAMFBMVEX///+IiIgiIiIQEBB2dnbu\n",
       "7u5ERETMzMzc3NwyMjK6urpmZmaYmJiqqqpUVFQAAAB6qHgnAAAAAXRSTlMAQObYZgAAAAlwSFlz\n",
       "AAAOxAAADsQBlSsOGwAAA55JREFUSMe9VltIFFEY/sedm7s77mzYjURkQwhDqOiGJKyCaGAxhPnS\n",
       "w65kmw8GS0YQgQ4EPYo9FD1ELFhCZLlFdlNsN9DoIZouBEIPG+iDRKEPgkUP/eec2Z0500osbP3w\n",
       "n5n59pz/fOe/nQUov5glwaqt5RfBKgUGv840Rz4+l5PIx/Vg6WRdsR9qmD4n79fLyEMa8QDzZh6u\n",
       "TBdbUGlQHSQhipeRSCDDf7+cLMChfHT87jnBNFXCR7TKSMTHf25oc+AJwwY13T1lH9UgkqssZ4rM\n",
       "c3Fq1V1wKxQlcoPpnkhkbzmJPCKxXthCt5IeZtzwzfA3DxEx/ArgKFB9AnDqr3EvgQg536gprxIe\n",
       "S5Ybln4YMZMjojbCY4DXQHUY1Fx+tnKNs/n+8MwV+iJzsNYHF2h6iy1RCnxy96pG3PEQBGiluogg\n",
       "rK2CT+eIVERhN8AHoCobYqowfaHwptQmUoIIHdE/iGg9AFUUzsIY5cFFvAkduEy2ICd2QkPgEQgh\n",
       "HIhEtmM+kNO/oNk7xFTTXbl6oPA2lcRmKMCs7iUS7Cc1kGSzQ+iLOb5ecUdfHGIpT7I20fNPWJxH\n",
       "9tNx1NaRLA5d2Q7ihpVawlGs0QViHYlsTDtEpM5qE4Qz9BDhRTwvutqCTdQ2LnFiENPhrbd8G2kb\n",
       "YS7IE5FWWAbYeuQqQjuUNbJzvUA2blB2ddPrQVR7Mg6RY+aQqTQz88Y2pL0KFZkBdkZcYu+MgYtZ\n",
       "sKSZfENDOJTE5OE88gt7G7oUmF7CaAXS1JCcCWInDsSl5DglEuiNu5J1CgYwIegJ+0maKyT5tF5y\n",
       "SLLE3hgLUda1nU6hzSdtuCojp3kiWDLtrLKJVuFEX0rI0dAHcuQDyymRSFiCIN5zEWmCWhzH2mh2\n",
       "zNDQoLf9hInPyfez6N8v7cObPVVN4IVpT0MTO7O4uAGYEomZ8ixCIRJ0moHnqEcE/y2jQERag/7j\n",
       "+Bx8CrAMzYVkVb6a9GlLRbJoe+FgrrOqdUzZTWAOjRtdUGHMQRdUpiAqGzRHoM2VrAeVn7PkObwI\n",
       "9cG4FIUw3KeWvhtkiesOKyIczF165Dos3JT+6XedMGApD3Qc1emsoZ5G9M7W6IlnDpG7b6oz9n+t\n",
       "i2HAtBVbJu0/WWRJ3nCfc9NEqCQ9sEcu2+oSyzV2JRJO3OViBrR1DHeXBDOGPEu/4Yy8FCVyex3D\n",
       "ql4KDILJ1B1G17geEQWrKcH4szCdJ4AJ/0nUf7/Fb2fj3fng6R+aAAAAAElFTkSuQmCC\n",
       "\" style=\"display:inline;vertical-align:middle;\" /></a><br>"
      ],
      "text/plain": [
       "<IPython.core.display.HTML object>"
      ]
     },
     "metadata": {},
     "output_type": "display_data"
    }
   ],
   "source": [
    "less_eq_add_right = Forall([a, b, c], LessEq(a, Add(b, c)), domain=Real, conditions=[LessEq(a, b), LessEq(zero, c)])"
   ]
  },
  {
   "cell_type": "code",
   "execution_count": 31,
   "metadata": {},
   "outputs": [
    {
     "data": {
      "text/html": [
       "<strong id=\"less_eq_add_left\"><a class=\"ProveItLink\" href=\"proofs/less_eq_add_left/thm_proof.ipynb\">less_eq_add_left</a> (conjecture without proof):<br></strong> <a class=\"ProveItLink\" href=\"../__pv_it/theorems/a1f982b72a1ab2522cd90897aecb03596858043f0/theorem_expr.ipynb\"><img src=\"data:image/png;base64,iVBORw0KGgoAAAANSUhEUgAAARAAAAAXBAMAAAAxVg0qAAAAMFBMVEX///8AAAAAAAAAAAAAAAAA\n",
       "AAAAAAAAAAAAAAAAAAAAAAAAAAAAAAAAAAAAAAAAAAAv3aB7AAAAD3RSTlMAq1RmmUTNIjK7EInv\n",
       "3XZ/CtNrAAAACXBIWXMAAA7EAAAOxAGVKw4bAAADvElEQVRIx71WX2gURxj/ZW+T2z+XvdAHHwyU\n",
       "A0EQqxytiObhjERtVdSzSsE21NQgVR9kA74ICieIL0ZyNA96rYQVfFCD3GmgSqAhtEjtHyX+oyVy\n",
       "ssGiovQISBvIg/jNzN7uzt0eIpx+8JuZb3Z25jff95vZBZpvtodGz+otjndhVkog0r6O7G11gQ7W\n",
       "WNRMIks91JpxdooYpiPfeQysZ/W3TeRh9AnUW1s3FQcCXwmWbXNwjKUo30QialogsB1enWT5WuF3\n",
       "x+47QbubcYGZaiKRhIfAlnv1brZworq69dAJjfkdMSLf1kyJLPZQT+QnngQvWKOPpDH9wK1y+Y9m\n",
       "EtnsId751JWJfFP5gKLPTwfO3/NfMCurgCvAZ8D3b8z7WxDp99Br6/MSEeN/p2gjxnV8bk9wh9zF\n",
       "RmAlMIB4R7VT2y/NuezHtQd5Q5e6ldM4kZd9c6JU9e4KGL9AnZKIKPNIuFAmWbslINJewm3gI1rE\n",
       "MbN+b6ff0mYKWcvEtVIdEWWEJirJfga7qu4NAXWWLQFsKZf/LJfvsLD2IVmCNstHHfJTs41rdojm\n",
       "cUNavem31uVI2Ba63FoisWGm/Zzs30TSlokk8ihmpYgQr90ptE7WiPU3XvYS+jKsP3ONheHVDONn\n",
       "Pnb5DUhEnncHRIyxFzas7/gGKgtZNZERfpyinpJTU3SxRj41dI3Q7pUp+fgar4QKCFfpsjP+0ubY\n",
       "w2mLLfxAm7zIx5rxkXRA5LI9ZGs/8+a/zj9sj9lB4WvzaK/eYSMCxRQWKLZEJEe6QSxfc6G9pE8N\n",
       "sJpaR0irarfGQqanmajVvJHjt6Gl/pAPiXUdBoEl46w5zGROar8gfI3rUNgVAd1V7qtSRFrSOu1S\n",
       "DdSl7AOfBNfFgW+hfCeyVgdPvdrBHDpOhUIhZVnm5yEiNzBD5a5xrom1nhy4T6lJVlNzSsD48PrA\n",
       "M/n4dvbwKNYcd3MsQ5F54HlFW+8iN8lTzXR3kkfEav3K8YkYcxi+RPWxT4FZsJTM8XeZHxJre06g\n",
       "/mbldjT6h6SqnIQ9tMMZRbuzGqNoy6KkO1wjGA+J9Vftvy5WDyzEdCxvlLAXpudXsD30/eKo/+hx\n",
       "62n4pRR/Jj3LxzCY0ra6VMZ7Mk78DPV+8aR0fkNAZOfHL9Leb9bxCkimhz557vnmxCZ/0tMeorcu\n",
       "RHe5zOxvv/uwPCoVKkcLhSCbetScSoO1LnqIND36X1Em3uoEZc3rUS9/2WjTrkCkPY3+u5TpxUJl\n",
       "IyIanaaC4J+u8d+Hxd/9Eq8BqHbzkO8Q0uAAAAAASUVORK5CYII=\n",
       "\" style=\"display:inline;vertical-align:middle;\" /></a><br>"
      ],
      "text/plain": [
       "<IPython.core.display.HTML object>"
      ]
     },
     "metadata": {},
     "output_type": "display_data"
    }
   ],
   "source": [
    "less_eq_add_left = Forall([a, b, c], LessEq(Add(a, b), c), domain=Real, conditions=[LessEq(a, b), LessEq(c, zero)])"
   ]
  },
  {
   "cell_type": "code",
   "execution_count": 32,
   "metadata": {},
   "outputs": [
    {
     "data": {
      "text/html": [
       "<strong id=\"less_eq_add_right_strong\"><a class=\"ProveItLink\" href=\"proofs/less_eq_add_right_strong/thm_proof.ipynb\">less_eq_add_right_strong</a> (conjecture without proof):<br></strong> <a class=\"ProveItLink\" href=\"../__pv_it/theorems/8e8bff69f8da0bc78cab9eaa657f92d2750c3c250/theorem_expr.ipynb\"><img src=\"data:image/png;base64,iVBORw0KGgoAAAANSUhEUgAAARAAAAAXBAMAAAAxVg0qAAAAMFBMVEX///8AAAAAAAAAAAAAAAAA\n",
       "AAAAAAAAAAAAAAAAAAAAAAAAAAAAAAAAAAAAAAAAAAAv3aB7AAAAD3RSTlMAq1RmmUTNIjK7EInv\n",
       "3XZ/CtNrAAAACXBIWXMAAA7EAAAOxAGVKw4bAAADm0lEQVRIx71WW0gUURj+3YtzW2etBx8UYiAQ\n",
       "pAtDD5JC24p2p9oyAkvQ6CHqIcbHoIcVopcMlwxsM2QeerEldktIW1DCkG4UIkkgCSNGF8VFiBJ8\n",
       "kP5zzuxc9kIsbB34zsx8M+f/v3P+/z9nAMrftJJozkT5m6yUQoPfYKgmD9vLKWRHMVp8MFPoxRLD\n",
       "AXJ/qYw6xO6idGW40JtKnaKXhChWRiE+tSgdzEbH7/zGG6YgeiSljEICuUS9lqW7dJPyGM4P3lJ4\n",
       "UVxlOVOkPud531GLnoCCQi4yvF9YeFdOIcdIrOu+ZV2tpm36QmZrjhApsxfgCVAcBrj/17iXIITM\n",
       "r1MTNliKThg2Lf7Wk5pLCDcLRwAagaIHuOqsEf6yy+auZy1X6Y3goj2DcJOmtzSZyhcyix5fgo9W\n",
       "KndcddCeDQgYLiFVKfgAsBMoBF2KWFbqrDt+MR6RJRhL5QnxDANUUDoEHWzeztfTuIBrxAW2GsVF\n",
       "d0MQad/CwmfMBzL7kzR7+xk8hiNXX1t3bVHcDGVoNnKFeAdIDUTZ10Gy1FyL7hYSiEEyki8ExXUp\n",
       "rhV5Q/tOE90h7BKhMbIMm4vEprRkyGRNUchy2BYijq5oIN+hk8jUogBcajTMb9HoEDsGSQP2Q35o\n",
       "cBthS5AVIm6yDDDx9ApSn/h14nleJo7n+Bcj9HiQuGHVFvJY69f4KVYL+hdUsAFVKvjvamyI6RED\n",
       "l1SgxqO5kxXpYBSTx7UiP3FvA2gChusYLV+YGhJUL+7EvpgYbadCfEMxR7K2QR9AAy3HAZLmPEk+\n",
       "/xCZJBliesRCFAzPR7PQxNVli65QhbBbCJbMOKtsggo0EYjI1TT0vmrygOUUj8cVWZZOO4RMwyL2\n",
       "HWmaHS00NEGlj0Y9YOf7bfS+bbznu7WhpS26rjVnQ5NGQziNOWAgLakJzUgFadBJBt6iKyL7z+uW\n",
       "EHEdBh7htfcQwBpMmckqPidKgvbPRlU0p54btTzatbNyMwzsgND62/UEVOlNkIDKCKQEneYIpB3J\n",
       "+or/1UyuPbUw742JKcjAKXz8QQ4JHOI4wwo0F+069MhxaJ2U/tbdo9Cn8CcM7LnWkM7dQ/bs19TD\n",
       "g7aQM3tWVPNf60YGMG2lSXqONKlAhmQNDxbecQeLbcXXTDia4ugT8bgdd6GQAY911+D6Cxwp7G+k\n",
       "mJDBPJV+3e7draCQc0UMc0YpNMgagzOMjr6YEB6rKc70q/D/G/fvXfwBmQbvzPYHM+4AAAAASUVO\n",
       "RK5CYII=\n",
       "\" style=\"display:inline;vertical-align:middle;\" /></a><br>"
      ],
      "text/plain": [
       "<IPython.core.display.HTML object>"
      ]
     },
     "metadata": {},
     "output_type": "display_data"
    }
   ],
   "source": [
    "less_eq_add_right_strong = Forall([a, b, c], Less(a, Add(b, c)), domain=Real, \n",
    "                                 conditions=[LessEq(a, b), Less(zero, c)])"
   ]
  },
  {
   "cell_type": "code",
   "execution_count": 33,
   "metadata": {},
   "outputs": [
    {
     "data": {
      "text/html": [
       "<strong id=\"less_eq_add_left_strong\"><a class=\"ProveItLink\" href=\"proofs/less_eq_add_left_strong/thm_proof.ipynb\">less_eq_add_left_strong</a> (conjecture without proof):<br></strong> <a class=\"ProveItLink\" href=\"../__pv_it/theorems/9e88081cb4a2b571d3c1ceb2fda95a1c4eb91c650/theorem_expr.ipynb\"><img src=\"data:image/png;base64,iVBORw0KGgoAAAANSUhEUgAAARAAAAAXBAMAAAAxVg0qAAAAMFBMVEX///8AAAAAAAAAAAAAAAAA\n",
       "AAAAAAAAAAAAAAAAAAAAAAAAAAAAAAAAAAAAAAAAAAAv3aB7AAAAD3RSTlMAq1RmmUTNIjK7EInv\n",
       "3XZ/CtNrAAAACXBIWXMAAA7EAAAOxAGVKw4bAAADw0lEQVRIx71WXYgTVxT+NplkJplkdkFQWEEC\n",
       "glD8aVAR3Id1ZdX6Q0tai7AqRaoi+iCzsC8FhQjiSy0bXEFjYRnBBzXWpLVUsbAsiij+sVpFcInM\n",
       "sqKiuCyCWFYoPefemclMdoII0QPfzbl35t775Zzv3LlA88100OjZdFPxKczISITaD6GjMRtoY2du\n",
       "M4nMdxDOMls/cuYONePAau7saiKP5DaJBrZn2sgOQtzCAU5RoYlElKxEzTb6O0unTXhDiHYxF+iZ\n",
       "JhJJOajZosBjy3MjIhGxKW5vIkrk482UyDwHDYjEvWBFHwhO+gi324E71eqtZhLZ4ECd/dyuIzI0\n",
       "nofe5sp2VMYmPmeMEvI7sBY48cG8fwSR7Q62mompIJH9GaWAqKPj0hNntLwn+Q5YBvRCdUlC2x1Y\n",
       "c+FfK/cKJxEYjhzDoTp560MV170vkbwKZSRIZBQpG5Fh4ff9477/pYW7wALaxNJz3oKzPU8bK+YM\n",
       "HRcr04hEBoGWin/EQid63M41CWUSaX7p62r1drV6j8MqAqRNctvyozd5DfAe6Kd1bZ9Wb3jeqjyl\n",
       "0UCHXU8kOsDaz/tG+tppXqsZJJIqoJwLRCQlohgbriMyihgV8FbytnVyyjovMt3/xlhB+rgtTkAi\n",
       "8rKrRiR54ZUJ4wi7/RPtQn089cAsqFNIZYKpKdtYEayasvhPkZG61LwRoVpI3h902CUfae9458cG\n",
       "b/xQGz4jhK2rg9kakd/MflO7ItzX1lNq07nDQM9X9AemkHbLclCinMHMiOkn0kpv5BAt1In1X5yj\n",
       "B8vJ20daVbo0Dlkiy6JWCsm8OA0N5deCT6yrQPt+cZndAZY51uE0erhPRFJOrXIhMhJ25IESiAiV\n",
       "jJ6H4qrr/BNZvjNw1Cn4Fsp3Kme0idQrbdyhcioWixnD0L/zEbmGMWrFzjewUkpBRohS0+qm5heJ\n",
       "5JxLvS+CVfP3kpccRU9s8iA5+SfH8qFbzGaig4ZbRapZdz+LiBixLZZHhMp94CxrgnIxCSbA2Swd\n",
       "kSL3xJrOSzQ4Wff7ZF/71qoj7hfA7N9olZC2lqOEeA6VhCU0gss+sV7X3nbwb287HkcLyQp2QqeX\n",
       "uIom8K23fJdEg49ed8MvpbyZdC+6gMMZ7RubWrW701KP0+imZ5VTa2pEvl/8Kutcsw5OcFL6ONai\n",
       "nvWh9d6ixxyE38XCP/Q/BbsZX1sqFmvnXCJscsR30gZuOg5CLRF+VwyuELNqbd30sMmbG/1pWyLU\n",
       "noff24L0or62ERGNqqko+Wfx+U399Fv8D+EX75/8jdUeAAAAAElFTkSuQmCC\n",
       "\" style=\"display:inline;vertical-align:middle;\" /></a><br>"
      ],
      "text/plain": [
       "<IPython.core.display.HTML object>"
      ]
     },
     "metadata": {},
     "output_type": "display_data"
    }
   ],
   "source": [
    "less_eq_add_left_strong = Forall([a, b, c], Less(Add(a, c), b), domain=Real, \n",
    "                                 conditions=[LessEq(a, b), Less(c, zero)])"
   ]
  },
  {
   "cell_type": "code",
   "execution_count": 34,
   "metadata": {},
   "outputs": [
    {
     "data": {
      "text/html": [
       "<strong id=\"less_is_not_eq\"><a class=\"ProveItLink\" href=\"proofs/less_is_not_eq/thm_proof.ipynb\">less_is_not_eq</a> (conjecture without proof):<br></strong> <a class=\"ProveItLink\" href=\"../__pv_it/theorems/97be5388c05f867a4edc43d3e5c55b084f5efedc0/theorem_expr.ipynb\"><img src=\"data:image/png;base64,iVBORw0KGgoAAAANSUhEUgAAALAAAAAXCAMAAACccDU6AAAAPFBMVEX///8NDQ0WFhYLCwsYGBiI\n",
       "iIgiIiIQEBB2dnbu7u5ERETMzMzc3NwyMjK6urpmZmaYmJiqqqpUVFQAAACZSrTsAAAAAXRSTlMA\n",
       "QObYZgAAAAlwSFlzAAAOxAAADsQBlSsOGwAAApJJREFUSMfFV4mypCAMdI8A4Qrg///rciqgo7Pz\n",
       "XvmYKktHkjSdJsRl+aGhHzH5vgH++j3h8T8L6Rq2Z++ew+vF9Xsl93uUnNVVJoRk2wvzHOVobiZI\n",
       "1T8ZajeRd9Uo1vI5gukmmSoMj2vTj6OKOg3hnwPM7wgekm3XTdA83rm6WvOggm9i2ZFgwXZxJLCc\n",
       "pcHFg4posXQQoOHwftpNJgCEkn+RlkJZ4BI/i/2JkalJtTwik3vCKVPH/v5J141lXKNqcc2LcCYv\n",
       "s11m6ZtpH3omDAXTU3K7Uw9O4mCFLuS5TLEbgn1eEc9RPW/kCnsSLLTUKQhSxhmwxH+EFm8CxsFJ\n",
       "t+dKMFoz+vm9nbJGWfFrnqayiYcXW47XakhUbyD+FofwFmBNATsnR8Bc5oTba4LLimwpbZbXAuEq\n",
       "BhQORDNQaxQ71gNmBwxI54BH4xB07+QoCVxTULd2XCbt/v5VlByGKkxF6Z7VElyLMTIdI7SYwHAB\n",
       "ikfj3gFESWgJ7hRwb2wl6cHJWGahAE5Igln8QKmZd/+qmtzj8ko8zUPLfaRkq+rS5W1pXQeYpBhU\n",
       "0D3sxlYKnJyMhTVsuD2jsdL4Q90J0YOksSAGtYsLQi9hCjGczMMXSQjrzwFvxor7cR/QVIJUSSwG\n",
       "EEoHUJcEx2liO8rZKPhc7KTDapPUFWMrsfQatlbgGeDOGIXcIFcnk4jVZ22cnksgTyq0LtbpZBfV\n",
       "lzWznymlrL3YdJtxnikrKc3JMNzL88bgfzVNlpwH4WpWFQGUPq4SYg0YsSCROQO8GVdQBXJzctXd\n",
       "dCu5Jviq6vuhXiUN29O+6sqFfNlh4ws7hu83cRPXb7YWnzbRJy1PzsflZ9XVF8a7n0sPdv0/9vH7\n",
       "tfEPfTgbd4LDpZQAAAAASUVORK5CYII=\n",
       "\" style=\"display:inline;vertical-align:middle;\" /></a><br>"
      ],
      "text/plain": [
       "<IPython.core.display.HTML object>"
      ]
     },
     "metadata": {},
     "output_type": "display_data"
    }
   ],
   "source": [
    "less_is_not_eq = Forall([a, b], NotEquals(a, b), domain=Real, conditions=[Less(a, b)])"
   ]
  },
  {
   "cell_type": "code",
   "execution_count": 35,
   "metadata": {},
   "outputs": [
    {
     "data": {
      "text/html": [
       "<strong id=\"min_real_closure\"><a class=\"ProveItLink\" href=\"proofs/min_real_closure/thm_proof.ipynb\">min_real_closure</a> (conjecture without proof):<br></strong> <a class=\"ProveItLink\" href=\"../__pv_it/theorems/3f15b3f5b5d66c9efaed572bafea76b277e831db0/theorem_expr.ipynb\"><img src=\"data:image/png;base64,iVBORw0KGgoAAAANSUhEUgAAAacAAAAWBAMAAACWIE7PAAAAMFBMVEX///+IiIgiIiIQEBB2dnbu\n",
       "7u5ERETMzMzc3NwyMjK6urpmZmaYmJiqqqpUVFQAAAB6qHgnAAAAAXRSTlMAQObYZgAAAAlwSFlz\n",
       "AAAOxAAADsQBlSsOGwAABXlJREFUWMPNmH1oHEUUwN/e3d5ubu/OjSa10ljKtaVKUIJKDBrrKbRq\n",
       "SMtF00BpTE5DQglqUgN+IKabfgSKkJ7FFsGvk7R/aEu7iBhoAl6RKDZVL6U1RkQu1tj2vzRpIIlK\n",
       "fG9md2/vLpsS9h8Hbu/dm7cz85t58+bNASxThEgnuC6yg15z06jmrL/VoH1J90xwt8OEpd00+mne\n",
       "7+8rO45UprgeR50h3W9OUGH6CqVcdB+Kyn/MkOCdviZXZ/WXXM2UkD+keB+c/jbG9Ah1llTvO0Ep\n",
       "tFZFbjxlJzpgBw3hxzkI/G2pxYS79T+aD3UA/FKG6RGqm9w+7gRFdtDrpvchBLidCNbMAsQstZJy\n",
       "BzVSCKVoCaZHqCLsyJd23FM0I9vc9F6BUMVzANLJWbva63Kneo35WRWJJCyoONPjqIM4ZUXOgeIC\n",
       "frnxlBC+LJai2wlKDtS4S6givtKflWZXKrwjw/QU3h6IRB5yhvJGIuujLjpX8GVRvQIQRKhDm+HN\n",
       "R3vWqqj/kir7nuixx/4/V6vLHw42Ax8LcPJRm/u9Nq4xPUENALQ6Qymd4I+5nFFRPZOGy7RSHwPc\n",
       "n5bQGeFD/ASqoMPWdr/mn122LbtBkLlPNoTF9x+ZLuV6guoDOWOfjvIa+CZjQWFd34pdbsMH180p\n",
       "9aQJyhMHlaBeAWgB+Af19+HnuRR8AdBoeLdYDco6qN8+6dQsNzD7qGBQtkBxYaehJyh/LHvG7vmr\n",
       "HX73xZRY9vBthZoVEVETatR3wNzQSYIS5uSkAdUGcAP1j+Dna4ANIBUbA1WmwBMFnTgdPJkZGEWa\n",
       "omdXBEucQ/kbU1xPow6pFq8yQAexqvtsGcXoyuIEa0JVg3U5UOJNAQqhKkFcwP4NKG8cmpOwAIed\n",
       "shxuYJQAW6kG20pJeivXszVKnENXHNqzBqCMqsd+7bFDFQXRk8TaEtN7bWK21J972pBYE6oq7Mpx\n",
       "P2gJ5kGh+4k3IDiVhWpW4SeAYWcobjDyXbEO5lse+zk10Mv1DGobhpDG/pRXE9lCjvmeP26D8o2j\n",
       "Lz6r7TVJbGLW2+9hm58k1oQa7S0zqvwqgzozmQf1Aqr/hXDiFzY8kcachushbPpJ+xlt9WAaHDxf\n",
       "DVUUEFhHgmqDaqAcCfUMaj+GhYN3wW2xAIv9Y6CvskHJm1EYhC5MLFhfJAZGz+b6nC5VGF7BmlC/\n",
       "2moPvYEMuU54jhEd41DbGdhFXWdQzQnCD5UruCk2gjhPGPQgvSUwA7kuAbPGUYHlIwvqHTxx25me\n",
       "QYVpvSegH4LH2tpeRqj6InuWfpXtgLUgXWRQJHqhOdfbk4IRL3kTqlpj5ijSOpBb5lNCUrgyf637\n",
       "wcnumas/z6Dxq1jXVPLGRCeD8mzEwU881Xcnn7oI9VRO7qWbgmUQVtl28vDd1dQeM7P03dD2SZr0\n",
       "2bj3MAxKUpSvVGA07+ohzsFLO8ATM0WZFs7u7Zp/ODZyChNv3oSqfr7FrNu09AbxWDuH7Y7L1omi\n",
       "yxqECv3PMvB2Kjq+u8/4efzFSE4g22e7MMlTsGmMH8LnAdci7z5VJS0ME5QY5SK0k1jPH/Xg1fae\n",
       "io3Gadu28j3l2+WUeZqHp54DZYXq3tffwuyt0N4yOAyetztZnuyUP1ujRrcvSUEvWkv3ahDOhzr5\n",
       "A9YilPQYFzHPQLFLk6rw0ZUODI3WohcfokFhE4F33xMHzfnzO9xbdpvT+cxNlUKJUR5fXASoKwwU\n",
       "lsFpEGqd7xWkz7vailvb2p1vvuR+IS5uESwRC98/Hig7UdiEEQ8LS0POnS+3rjAFzDNwnCrS3+K+\n",
       "7rNf96U78Apygid0i9OmSKvMd0ATXFryjtTjMKeqmyR9tbNeWL/SPyFSS4hB+L+V/wDy1YUgSTVg\n",
       "GAAAAABJRU5ErkJggg==\n",
       "\" style=\"display:inline;vertical-align:middle;\" /></a><br>"
      ],
      "text/plain": [
       "<IPython.core.display.HTML object>"
      ]
     },
     "metadata": {},
     "output_type": "display_data"
    }
   ],
   "source": [
    "min_real_closure = Forall(n, Forall(a_1_to_n, InSet(Min(a_1_to_n), Real), \n",
    "                                    domain=Real),\n",
    "                          domain=Natural)"
   ]
  },
  {
   "cell_type": "code",
   "execution_count": 36,
   "metadata": {},
   "outputs": [
    {
     "data": {
      "text/html": [
       "<strong id=\"max_real_closure\"><a class=\"ProveItLink\" href=\"proofs/max_real_closure/thm_proof.ipynb\">max_real_closure</a> (conjecture without proof):<br></strong> <a class=\"ProveItLink\" href=\"../__pv_it/theorems/d7eb97acf82730e6f00c82a880c0b8894d098d020/theorem_expr.ipynb\"><img src=\"data:image/png;base64,iVBORw0KGgoAAAANSUhEUgAAAasAAAAWBAMAAACMHK5BAAAAMFBMVEX///+IiIgiIiIQEBB2dnbu\n",
       "7u5ERETMzMzc3NwyMjK6urpmZmaYmJiqqqpUVFQAAAB6qHgnAAAAAXRSTlMAQObYZgAAAAlwSFlz\n",
       "AAAOxAAADsQBlSsOGwAABXxJREFUWMPNWG9oHFUQn727vb3/3WhSK41ary1V8kVEYyy1XgupWlK7\n",
       "0WuhJianJUGDkisBFaRm0z8REdKzWBFEPEn7QVuaRcRgE/CCpMWm2lxpiRWxF2u1/SDE2EASkTjz\n",
       "3u7e3l02bbpfHMjuZGb2vfd78+fNO4AFSIgmwTH5bkFzE6Tay2+0bE/aOSq46xY0N0GfFv3/XXX7\n",
       "weoMl+O6cyT72Q5WhF7hjIPpwzHfr38T4568WqxxAksoXlSiB46fVJgcYZ0g0Yd2sILkL7/qYPod\n",
       "GGzttIQfpks1TuhQMax94JVyTI6w3qIgT9jBIjvodjL7IIB4WwqZ5VOlGic0UgorqKaYHGH5FXyN\n",
       "2uYW7ckWJ7M/gLDK0FHS0alSjRNyK/y9NBpNmbASTI7rDmGA+O1Lxhl8pZykFn4sVvyDuRCcKtU4\n",
       "IT9Prs8q8t6KbMsxOZW6B6PRh+xhuaPRlU5SO4gfi/JlgBDBGiqvhZNzmb5Hk1wDPRu6rBX/t2Xy\n",
       "woeFxcDDip3vkCUIX7uoMjnB6gdosYcVTIJXcbinotw3ChcQVrgGvgbYqvjTuiZQA+2W0XtV79SC\n",
       "o1kNQszb+XKW2HtwsoLLCVYP+HLWDanaDN/mTFio61l04K366Jqxqa5RguVKgMxh9angT5wyNM9m\n",
       "4AuARj0cxXUQXAHxp6/YDcwNjFlYbvotJePMDl1OsLxK/tTd9Xsb/OJRgkr+OG6BzYvCREPIMc8+\n",
       "I7HTBEuY9qVZbj23VQVxfcbQfAOwCqQyfanBCXDFQCOkNhHNDHSSJujZEUVKcFjexgyX07rDsok4\n",
       "2E9Hs6x5LF1GdnEVgw0hy6H6AljidQEIVsOflzBoLqUNTTWIs7gCHZY7Ac1pmIUDdr0PN9ApwLy1\n",
       "3eItSWvhcuan1BAG5OCu5QCVpB77qcsKyx/CeBLryo0YtrB5ig89qXNsCFkWGgqCEHaGCFZ4LXTi\n",
       "x18+rGvEvyA0kYfVLMNZgGF7WNxg5FSZBsZXLuu51d/N5QzWFiwmjb0ZtyoyZ455nj9sgeW5iBH5\n",
       "jNppYLGw+Zi/T9JbCD6EHOuu1FVemcHqu0KwlmjQ97bqUV7WNeK/EEn9yBYo0qpH4VoYB98IUFql\n",
       "TIP9p9dBDZUGNpUgW2Btp84J5QzWXiwQ+++EJUqAxfwYaEstsHzrkRmADmw22FzEBrInCiNPk/Sz\n",
       "lQ8hf7XJWoYDOQqfyDTBume3ugGaNV3zApzTNAarOUVAw1VBTI7VIM4QEHqQ3GSYga8+BVP60YH0\n",
       "sQnrXTyD25icwYqQz8ehF0IftLa+irDifmsH/wf+rYW7QTrHYBHrhubCmE8Leu3kQ8jyZqNvkVaA\n",
       "b+dMRkgLl2euSuPZ+L0bZ+DsjMw00FT+xniSwXKtxuWPP9FzB9++KM1VRUGmGYxpEJFZWrl4ljW1\n",
       "KUYH/xK0fjJK8nwNfAQGJCnGvRXIFl1MxGl4ZRu4FIP1kfOsMa96h5WRY+dxrTGeW5/XGro1ttXF\n",
       "1LAsuWCeMJpPhXBpFJoG7mRQQ0/s0f89/GK0oKjtsVyofBOwZowfy6cB/VF036qRZocJlhjjLLQR\n",
       "G+ePOLjVzmNKNkHp28Jzy9Ng15HO06syWGbh7n79TezqSs1NgwPg2p2075QHLevG8C/PQDdaS/er\n",
       "ECmGdfR71CIs6THOYu+BbIcq1eCjYzQwmK3DWH6HFoVDBN57XxwwdtBre6sxNL6nrstUVnR6fG4O\n",
       "oL60ZJgGx0Gos791kLzo+ituam2zvx1TEIY5WyuYLBLPIxdUHikdQq+N8/YMVo1QqCttDQWbTZlv\n",
       "s25wq/dYfxSQbscLyhHe6M1NGix5mudBE5yf9xbdZTt8l5MGfpm9XFi52B8rMvOwIfj/0X8duIuK\n",
       "Q6yowwAAAABJRU5ErkJggg==\n",
       "\" style=\"display:inline;vertical-align:middle;\" /></a><br>"
      ],
      "text/plain": [
       "<IPython.core.display.HTML object>"
      ]
     },
     "metadata": {},
     "output_type": "display_data"
    }
   ],
   "source": [
    "max_real_closure = Forall(n, Forall(a_1_to_n, InSet(Max(a_1_to_n), Real), \n",
    "                                    domain=Real),\n",
    "                          domain=Natural)"
   ]
  },
  {
   "cell_type": "code",
   "execution_count": 37,
   "metadata": {},
   "outputs": [
    {
     "data": {
      "text/html": [
       "<strong id=\"min_set_closure\"><a class=\"ProveItLink\" href=\"proofs/min_set_closure/thm_proof.ipynb\">min_set_closure</a> (conjecture without proof):<br></strong> <a class=\"ProveItLink\" href=\"../__pv_it/theorems/296175d550b2dce2244de1f4fd9771926b8d032f0/theorem_expr.ipynb\"><img src=\"data:image/png;base64,iVBORw0KGgoAAAANSUhEUgAAAgkAAAAXBAMAAABzD8EJAAAAMFBMVEX///8AAAAAAAAAAAAAAAAA\n",
       "AAAAAAAAAAAAAAAAAAAAAAAAAAAAAAAAAAAAAAAAAAAv3aB7AAAAD3RSTlMAq1RmmUTNIjK7EInv\n",
       "3XZ/CtNrAAAACXBIWXMAAA7EAAAOxAGVKw4bAAAGWklEQVRYw+WYb4wTRRTAX7fb7nbbLsUYhWig\n",
       "UcREhTQIF+XDUQLohYu5chhNwEgNH4iGwF7iPwS1XjSaCFwjIVqMsBg/COi1cEG4I156EnJRYjgN\n",
       "Ihw0LkEFJHcUCIJ8sM6/3Z3udUtLjV98yW3fvJ2bmf3NmzdvBqAOUQupaq9HjkPjotVpr0WkKm2O\n",
       "HL/JV42RYKLq673/AgQ1Wp+9JvEZle3P0lGjz4pg7d5aKXjwjxBzo1BPY5XlQej4JY+VIz9o62K8\n",
       "vRE5M9Y0pTU3S42ZFBZg04paKYjYG/yaG4V6GqsoShJgzRWkeCdrsCxeZm9A/LrTEjBgRxFeMCm8\n",
       "hddNulYKMp7tNa4rop7GKoqIZqf7GF4BbToo5fYGxBt3WuYjYxJmmhQwpmC05riA6e1xpVBPYxUl\n",
       "hP66LyJfe6dNd9obke9YdPmkcIxq10m0COmMghdR9tceHR9GP0lXCvU0VlGmYgpZNHNGOYWpDVJY\n",
       "TqPkKrNRH1p1cgr8MUYBvi8UDtdOIVQonMq57xF1NFZRWjEFDwqPsTZdWhmRVz4+Osm0S3ed5WN9\n",
       "R/8bN9kfufq7yfNli6xS2k8+KGJSaAHYwv1vvDoFMQUB3Z2Co7FbmrNu32UQdOQL/giEb4Mujdmf\n",
       "0QI3uN1vELbpVdvi6zeBI27PKV3SSGhgFDpAwiFv6WgzSR5YbCPFYCaT0aZ9NXeVTQHV7eC7er01\n",
       "4R2wKbDG6tzO+8+cY+qPmAKcABUQhUAEAnkYF6N25SCIQ6A0sZpfxOAJUA6MdyVB6zN5iDy5payc\n",
       "LyGPE/ImhYCOn4IBXWBTIEVlM4koQdiXs7OmLXZyJJ/OJIRIHyy0KdDGapeNE1Ef00EusvIhQuGi\n",
       "9pJJIQ3jDGoXixDOwcYRVrMN4CSI3IeO2W5IfSbk22S0XgsnrPdXgfRLKQiGnwZhD0eBFAMkL1BV\n",
       "mG3YFKbbROcj5xGaRcjZFGhjtW+MLfiJJiRSRiGbM8ZSCKUhi/qfxmp+C8pVGJeQrrtuN7Q+Wx1k\n",
       "/u09HPmXchl5oeULkGxGD+R3EkeBFNcCo/BH3Kbg96JRzXxkNA4k8xI6nzY4CrSxXc37zO441fbG\n",
       "ngsan9NdsU8JdEUE8jEHBWTPGjAHLArK3+Atgld3p0Drk5Ga/2X5jYKoSyhoCEMWhT04B1BLm4Cj\n",
       "QIr3UDUobY3ZFIJTUToz6yAMwg6ydFJ99/EUcGPKz/I1sztbteVLrYt+NZuci39ZOdFWQsF3SXdQ\n",
       "QPZsFO4QNPI9OplJT/J+NJwhUnRyBlb/NTJSgEeJedR8j79eRMP2pi0K64g7ftoW4SiQ4mJKQfw4\n",
       "zZ2mJBQLpe4k3KCvhZSopjkKuDExLudBInsFUdt/TTjytvUsLNKvV6Zc4ne0RdjdAWXQCIGfUdiN\n",
       "c17hqEhmVfmTcJkWR7O8QafFbBJshTxIfTpSutMiPzYTOvEk7QqTYBQ8KYLXV+QokOJ2tiKC7fyZ\n",
       "cgL+FwOtqCa0g0SFlJJLchRwY6GEGoHOYbI4sZpXimUUDsFpltg+n8l8gCdumflqA8rPjyyH3+D0\n",
       "kedevXvg88kDndsGqF2ZtL/jHPXtApr97RfenZSirHExjP3+KDAlPGzWJyMF+IninriEUfDdPh4T\n",
       "CScsCmRWomb+n7aLNBdWVd9S3XGyDqXEeOp96gvQbjhO1lktMFuHYUvV5HyZu16DTTu9C2bkQCZr\n",
       "qZ07mYRdjvq2HVMQrDXwIrzCFy15APiRgsQigq/XzKDZPg9lFMQIeDSbAiu2puhO2Rd3UHgTwp0p\n",
       "kj15E6BGHBRCWtdiQmEXUwMJpCo58kA/g/LV2cJ5HKvIqpkLcKf7scdpxxSCVnr40XsLuaIt1hZJ\n",
       "Rup6GJvnoPB26z4uOrKirxdlTU/9nvvsMQeFRaD2oCFgV11hb3MmBd+86T2AKayPUrUFq/IgrNfk\n",
       "QfkbeHLGhRhMkPAhGmNumX/APqp/6BLxTfva1f04fpq8S6UiV7TdzUqdyUjdTsHE/fdWujxK137X\n",
       "tCuTSbjfNeEVQaNRUDdMFbsz/RlSZ6HA1pvZXN7FDpeuy+yOq6OxN0mqC0PnJYN2SxSq39B9zd87\n",
       "bjwcBR9dsKtLQ6aKZAnbsYWeitPjcjnmZq/tGs/lWugsvnc8pJ6qSsGTweeIRi43KqmN3Zf8R6LB\n",
       "/1D+ATM59lU2YvcHAAAAAElFTkSuQmCC\n",
       "\" style=\"display:inline;vertical-align:middle;\" /></a><br>"
      ],
      "text/plain": [
       "<IPython.core.display.HTML object>"
      ]
     },
     "metadata": {},
     "output_type": "display_data"
    }
   ],
   "source": [
    "min_set_closure = (\n",
    "    Forall(S,\n",
    "    Forall(n,\n",
    "    Forall(a_1_to_n,\n",
    "           InSet(Min(a_1_to_n), S), \n",
    "           domain=S),\n",
    "    domain=Natural),\n",
    "    condition=SubsetEq(S, Real)))"
   ]
  },
  {
   "cell_type": "code",
   "execution_count": 38,
   "metadata": {},
   "outputs": [
    {
     "data": {
      "text/html": [
       "<strong id=\"max_set_closure\"><a class=\"ProveItLink\" href=\"proofs/max_set_closure/thm_proof.ipynb\">max_set_closure</a> (conjecture without proof):<br></strong> <a class=\"ProveItLink\" href=\"../__pv_it/theorems/5cd2bfeb63f3b83fb9236b6bb2baa64a5e770acf0/theorem_expr.ipynb\"><img src=\"data:image/png;base64,iVBORw0KGgoAAAANSUhEUgAAAhkAAAAXBAMAAABUoUDhAAAAMFBMVEX///8AAAAAAAAAAAAAAAAA\n",
       "AAAAAAAAAAAAAAAAAAAAAAAAAAAAAAAAAAAAAAAAAAAv3aB7AAAAD3RSTlMAq1RmmUTNIjK7EInv\n",
       "3XZ/CtNrAAAACXBIWXMAAA7EAAAOxAGVKw4bAAAGe0lEQVRYw+WYfWxTVRTAT9/H2r52j6qJQExw\n",
       "QYU/ZEuDsCh/zC5shrCQFTCaiNEaYhD/wLfEjyAqhWggkY9GQqQY2cP4D4JrZVFkEzIlZlFimAZR\n",
       "lIaHREEWxvgSRLTec+99H319XVvKP8aT9u3ee+5O3/3de8499wJUI2d/vDl9yop2A5ry4i9tU80l\n",
       "yac6cx/fpD7lRG2oXlOByIZ3+xPkG4rjJ4LVuyql4cOnEB2bRlUmPeVe6Do+gIVD32puTS1ysqhF\n",
       "aOsX42rUpNGObUsqpSHFybNOG5tGVSa9REkALL9ICuKdWrGmBqnT3S3bQOkGeNaksQr9KVUpjQDO\n",
       "+/IynlKVSS+RyFz1HEG/6NSLNTWIGHP/EmloBphh0kBcoYaK4wahCLvL9KnKpJeEybfnHFkWb7hp\n",
       "hGsMSF/z6PNu7ggtjEvSqBHWOQ2R0K6rPIreR56JMn2qMuklU5BGhkyb4aYxpUYai1k0XWaafZK8\n",
       "6lrytlFOA77J5Q5WTiOcyx3LlttTqjHpJR1Iw0fCaJTQEEf6dbH7onz9Ga7x33HKuTd07X+tzL7q\n",
       "6P8Rfb5oMc78RXfVUMSkMQdgq+N/Y2OPVEpCUC9WhApouEze0Az2yBdA0AmNaZqUgNA1eNrUPK4F\n",
       "rzl2zUHo1se05uzfDIURXsznx+OfhEmjC/wYGheNtFBMPPrRaiidTmuNn7Qus0dK+nZ5xb0CGtxk\n",
       "lcnA/pOnefE7pAFHQQVKQ74CsFRMco1yAKQhUJp5311RmAdK/y0libD+XKbRp8PVe7qv4z47YNII\n",
       "6vgUDNgINg1aVTbTiBOCPVl7pFsL06tXO+Li524azGTlsmEi+aUmCIzy+peUxjntBaQByiJCY9dt\n",
       "pkYahfosbDjL+3YC/Ex+3h5w0UTR/lzoGAPEk3NHzaZO8qrklzkNwahjwdrnoEGrQbrZqyrMMuyR\n",
       "NtlkAyfScSHSB3PdNJjJyjfUOfgkYSJSQCOTNZCG0jqZ0BAum5pwCjLktRt5369AuQzj4v6rJTco\n",
       "1p97DV0t1u4vYuggu59srQ1ItOBWE+VZPOtJqyuA0zgTs0daJ1ohqY0sXqFFgmyobV5buzMzpyZ3\n",
       "tuwxF2vvcHHCZjeyDPGifQZhnhIciFJPiQcIDekznWsyBjwIFg3lHxBHQdRL02D9Z9w/ErP+y1pH\n",
       "28l3JTEsDFk0dmMOoeY3gYMGrU5mxZB/W9QeaWiKzm1jPgvC6keNrHttUJPKDzgKKh9qG4tpWI18\n",
       "qs79GbUTRKQhn9eRxiWQr6yBvmCCa8hc3i5odFzoRhfAl5hKXmuIVl2iA+//8swDMEgqD9DmEVPf\n",
       "yLcpMWXReIUu0Pc6Iw4atLqQ0ZDeSTlG6idRQqG2d9AAk+y7p5gGmpRigQHw072lDdaB3NRe+KbY\n",
       "yMIno6Dcfd65D85HJwCSmV8C9erUkKFc4pqgIRyW6ECUPyifxhiZ9fU6q2YS4CrQ/v6eBFzjQyfr\n",
       "20wN52VxcyXvmrVo+JKUojzqoEGr27mnhBY4RzqBEKG2FzIakpoqooEmw3E1Aqt/Yt5+gkSiTCEN\n",
       "bGTOuzSdfgsUkgqZqvUk+z+0GH6FE4ee0lb9cmbf8PGEmF/GNMqkT7tOs2nNkbnfPrxmUpJRx2o9\n",
       "+sNh4AVsYf19hozHwO8Z+ImP8XRifuut+Lc+btGg89NgnixSdpVl16oqL9Jdp3Vqu5nsvw1CUskm\n",
       "3PkG81ctOEsHpKFcgU0f+M2lYIYNbBTbp2chQCP+Asf5p77kRYOtQRqC5RvPw0vOqnVCtVrCSSlG\n",
       "oPGIIe/lmbm5M0IBDSkCPs2mwasdSbbD9sVcI6W232RrAxYYnvcbYW3jQqShZGEwcHkWwGYs7rQe\n",
       "2Cj8jhGNelMrwPiShyuPY1ejM+fzb1k7t2BKipLClVC/Olny0DfbReP1jj2OKMqr8l6SfT3yW/b9\n",
       "h1wjpbZpTirGQY140pBnN/UCoRH4Ah6ePhzFLJYU12mBQXzwxgl+PLwj9Dlt/XakfbvkbmxqVjy3\n",
       "HyOtST6fH3VU7dzKKs0Htbfk6RvdwknDllQl91rUtn8LOvISO03wuvsiniKwUp9qFcEqDakzSfjb\n",
       "m95c+Ds7Sr5BgcZ1lVV8s2WUYOkSTKxugMa+gjvPnel0vEyfDQcbgEWsuvzfwIsorKREhF7PyTJK\n",
       "HsGMWi4YS1xTnSKqY3HyGYuGL43nlJovOaNexSj8J0SD/7H8C5pZALaNb26kAAAAAElFTkSuQmCC\n",
       "\" style=\"display:inline;vertical-align:middle;\" /></a><br>"
      ],
      "text/plain": [
       "<IPython.core.display.HTML object>"
      ]
     },
     "metadata": {},
     "output_type": "display_data"
    }
   ],
   "source": [
    "max_set_closure = (\n",
    "    Forall(S,\n",
    "    Forall(n,\n",
    "    Forall(a_1_to_n,\n",
    "           InSet(Max(a_1_to_n), S), \n",
    "           domain=S),\n",
    "    domain=NaturalPos),\n",
    "    condition=SubsetEq(S, Real)))"
   ]
  },
  {
   "cell_type": "code",
   "execution_count": 39,
   "metadata": {},
   "outputs": [
    {
     "data": {
      "text/html": [
       "<strong id=\"not_equals_is_less_than_or_greater_than\"><a class=\"ProveItLink\" href=\"proofs/not_equals_is_less_than_or_greater_than/thm_proof.ipynb\">not_equals_is_less_than_or_greater_than</a> (conjecture without proof):<br></strong> <a class=\"ProveItLink\" href=\"../__pv_it/theorems/3395220c1eb13bd01925f6c6736407d1691bf8ab0/theorem_expr.ipynb\"><img src=\"data:image/png;base64,iVBORw0KGgoAAAANSUhEUgAAASAAAAAXCAMAAACcVWITAAAAOVBMVEX///82NjYbGxsSEhKIiIgi\n",
       "IiIQEBB2dnbu7u5ERETMzMzc3NwyMjK6urpmZmaYmJiqqqpUVFQAAAAnLjGdAAAAAXRSTlMAQObY\n",
       "ZgAAAAlwSFlzAAAOxAAADsQBlSsOGwAAA3RJREFUWMPtWImS5CYMJVlhhLn9/x8bwObGx7inOlWp\n",
       "sDX7enrMExJ6EpiQf2+IDt/N/vSZ317X7w2wLf5wKHhs4SXzji5/b81X42NZiz8PsHlo4TVzRK3S\n",
       "1/KrKYWyxRdDYv7o8scVegsfMAdcUwoJ/tUE0qbFF8Po8jGHha+9hQ+YI6ZoMfvVAC0dXknlLLeX\n",
       "kkI0bbMcLIy5ex+5xBzQHI/L71Yg2eLFblKNZ0oonqbt1ba3MIkQo3cFPjFHXGgYC/uuwliLBAEc\n",
       "rqzPY6CsDY9wDMThHysdJmUOHSxMiQfaE+aIOqqW41tXL0vxoy06aMAB0fR6q9Xi5ca3nddUSeKi\n",
       "FwCDhRnxLDGnzBGFS/89UAZlUjtZL/uqtjN19hdqWzR+dcavzhXVCE2HYoFL7LyHs7YqM3uzodhb\n",
       "mBBnDWpxx7xjSJ5zV1L3dJz7Z4D4zGWCPQrQRdQX1WLYf91UDScnXUNv0ffD/LrVOem9tXqwMBJX\n",
       "SSPL8WDOvKOF2xKt9dE9wf8jBuFRgJx4HKD4GW4DtARruKmkiu5YWLe7inmBswCVwjJnPlDmcwQy\n",
       "AyxbAdACQh6WQ2sMEKCeByhP2NnZjHQusfD45p9BvJIYbmGdZsuCbyjJyicWRuIssWoDT5gPZPY4\n",
       "DCEVPqvSNBDEceI3EovhIDHB61N+tag8QfMw/vgf05OmWdAgevm6sFvssh/jZmNuERvpDG8vCE4N\n",
       "FubEe5EW98wHisUlJXnZ5bw10YrXljJVgDRnzbqqX/KE5kbTkpJJH/U7ta2o/TOqkxUCBey8tlQf\n",
       "rVO34aRytHBCPLb5OXNCtxbdQl1Z9403MmYEt7vEWGOtrUElU3LaDaSx+tEGUfsGbbWxs4Ni5Qs6\n",
       "YKtwsK+Xtp1F29HCjDhEfTyQTJk7Cxjc46bINWy8/2plpK5BStXhbwJ0TAgS+/svHiU2kB6m1xav\n",
       "ztInVw1BL6edMSO9vWok5sHCEqqFMujVH4RHmNwPgqXY721+XqSrCdUluJCe3wc/u+/e32V/7Sat\n",
       "fC4CMyETfE5qUAxiCRDpjqwkSObztjpZVBlUJtQxzaSd6EWLP3/xd/f64WPmSwu2u98FvUwPk3MS\n",
       "e/u+L9UofPua5db/j5mvLKjHV7P5Kh68G0gXQwGvvADx2MJL5ksLz182TQNkFfl/pG36b7v3Dy0q\n",
       "JvXyoaiTAAAAAElFTkSuQmCC\n",
       "\" style=\"display:inline;vertical-align:middle;\" /></a><br>"
      ],
      "text/plain": [
       "<IPython.core.display.HTML object>"
      ]
     },
     "metadata": {},
     "output_type": "display_data"
    }
   ],
   "source": [
    "not_equals_is_less_than_or_greater_than = (\n",
    "    Forall((a, x),\n",
    "           Or(Less(x, a), greater(x, a)),\n",
    "           domain=Real,\n",
    "           conditions=[NotEquals(x, a)]))"
   ]
  },
  {
   "cell_type": "code",
   "execution_count": 40,
   "metadata": {},
   "outputs": [
    {
     "data": {
      "text/html": [
       "<strong id=\"less_complement_is_greater_eq\"><a class=\"ProveItLink\" href=\"proofs/less_complement_is_greater_eq/thm_proof.ipynb\">less_complement_is_greater_eq</a> (conjecture without proof):<br></strong> <a class=\"ProveItLink\" href=\"../__pv_it/theorems/37638561c302a27781f1cd77de4f762e769ac4960/theorem_expr.ipynb\"><img src=\"data:image/png;base64,iVBORw0KGgoAAAANSUhEUgAAARQAAAAWBAMAAADz4X71AAAAMFBMVEX///+IiIgiIiIQEBB2dnbu\n",
       "7u5ERETMzMzc3NwyMjK6urpmZmaYmJiqqqpUVFQAAAB6qHgnAAAAAXRSTlMAQObYZgAAAAlwSFlz\n",
       "AAAOxAAADsQBlSsOGwAAA7tJREFUSMfFVl1IFFEUPqs7u+vM7DYWRbQmKoJgP2xRBEGwRgkGyi6Z\n",
       "EQuiD4kIiWU9lluWL0FsUBFksNFTQbht/7bU2kMUES7aiyi0kglCD76IPvTQuffOrHPv/OBbH3yz\n",
       "O+fec+bMOeeeMwAbQIBckqLAHklh6wZUAu7LHHYiPQVB4IBHOu1sOEDWGIvkZs7Vk2AULz9EgQM8\n",
       "eUY7G06oYhwn/++7unIGKaUEgSPu6rTa4DBjymJFjPIKSVSXqys5pJIXBI74ptNqw4xPr0w3aoaS\n",
       "eOQtuLoSQZaLAj78prCWxxitNkzYfJy7PUip4utWuJcKyc2MKDBD3WV6dEWe0WqjBOmoxi+PMu6v\n",
       "qzvg6opCKu6lIJAqf19sNSq1nnoihfPQiSEuMlpsxHMgUbmULXkarz59DFPSBpRvAM66ukJfcVQQ\n",
       "KFCtZdltey379QYjMIkhSjECZOsI9hoq0WlQl4knS+v1kPHMKzUAX4HyFgSK1qTUP1gyglhGNPfg\n",
       "06nlDBN8gcnYH7p8c7e+7zIaXUTVCCMHVPEXshCi52PdFTWproTQy2mg9MW8aV7v/GIfaFHvdaMO\n",
       "yfJhozMWmWAA3jFB6KGhFivXYB+Af5mRA6pIuFhOXy9QSpAfFBq/IcagJlStgikDTVPjbq4AeSrv\n",
       "CozF/KvYNyOMoisgr8DQgFi2zLnHOlMTeKl8G8aeI1dDiPY+dMWTEBJUcoUK5DU4xScI4+Qhyalh\n",
       "5GqFqGAAtlgO81hSwpqfAsZW7I2e5GIF7o5vig1KNJ9adKRK3+0jjncbrmSoQOoLRSDKly30gw8d\n",
       "VbsYORAbuNgvtLiO9C/w4u9nncNEH7r9+PfGFGyTaSK1182GFj2ZbSa7KAiuJiKyUX3xWtZWPsBY\n",
       "np1bRZw4xIZSlP+aGj/J1c9LL+CZ3ioIQzSBa3TDAsyr93p6zmGCThhP8pNoXzDZRYH0XJv9vt7i\n",
       "WGPpbPqISS5LM3IgNqSF8JogTlQGc+QxjTrZ3gj9YmiEQ/4oq5Wnpd7cQJI9YLLQIJ59VW/8Lchr\n",
       "OnlQFW/K4YOlhpFi2JtSoB015GXW8PAwJ8wDjkwsbuJZ4U1JR/TBl7Mbki1w0mHWkVlbmrfKjqat\n",
       "MFiA2c8pGMEAyLfvSO+Nd/CRed5rLkK7zzQo00JRNuVtJj2q1GL66VGmB6vOFOYRnSYUpKQvD1Jz\n",
       "Tx8npmeqQxRYO/TEuO6mjauoMhdOO4yWXuFVMRSxkPbEbutVkk9NEDhgu047G04ffklGc/GBPBGF\n",
       "/4Z/kFHlGSvpYZcAAAAASUVORK5CYII=\n",
       "\" style=\"display:inline;vertical-align:middle;\" /></a><br>"
      ],
      "text/plain": [
       "<IPython.core.display.HTML object>"
      ]
     },
     "metadata": {},
     "output_type": "display_data"
    }
   ],
   "source": [
    "less_complement_is_greater_eq = (\n",
    "    Forall((x, y), Equals(Not(Less(x, y)), LessEq(y, x)),\n",
    "           domain=Real))"
   ]
  },
  {
   "cell_type": "code",
   "execution_count": 41,
   "metadata": {},
   "outputs": [
    {
     "data": {
      "text/html": [
       "<strong id=\"less_eq_complement_is_greater\"><a class=\"ProveItLink\" href=\"proofs/less_eq_complement_is_greater/thm_proof.ipynb\">less_eq_complement_is_greater</a> (conjecture without proof):<br></strong> <a class=\"ProveItLink\" href=\"../__pv_it/theorems/85d0363ea20b76631b3f5cfa20860125ade240fd0/theorem_expr.ipynb\"><img src=\"data:image/png;base64,iVBORw0KGgoAAAANSUhEUgAAARQAAAAWBAMAAADz4X71AAAAMFBMVEX///+IiIgiIiIQEBB2dnbu\n",
       "7u5ERETMzMzc3NwyMjK6urpmZmaYmJiqqqpUVFQAAAB6qHgnAAAAAXRSTlMAQObYZgAAAAlwSFlz\n",
       "AAAOxAAADsQBlSsOGwAAA7tJREFUSMfFVktoE0EY/mN2k3R3s26VithaaikUfBFFEQQhii0oVLY+\n",
       "kUDRg6UULPV1VOOrF0Ei+AIrVDwpSGt9a9HUQ7GINFgvomCKtSB46KW0Bw/+89h0Zja7ePODb5P5\n",
       "Z/5/v5l/5p8F+AckyCOrGsojqwz9B5dEeLeE5chIQTEE4C5nuRgBMBzGIml8C1WSTOPjs2oIQCTP\n",
       "WC5GEGoYX5H/t0KlHETqOcUgv0gIcJ3THyMQFS7lGZKoQ6FShpBmXjGIsFa5840PnP4YgbAGKIki\n",
       "rRAqJYWMqgYxJw2CEoi6jP4YEr6Ie3sjpYXTrQjfKiQ3X1TDPPaukFc7z+iPIeLdU7HVy7i+vn5D\n",
       "qBST7LgnikGv/HmyhbYyq7lZr85DGy5xkdEXo3UIdM++qIn9ttYe2I4p2QWUzwGOhEqhU+xVDCbU\n",
       "OoOk0XbHM2vJFIxh0nOMAIP1BGs9l/Q4WNNM9DaH+wxEJsw6gFGgvAKJoj8pDbd/ecMXkJ20Bt9O\n",
       "Iw8ww3sYc3+TXrsk5TQGnULXFKMEdIkXBsGm5yMx6OXPylozNjbGgTLman2y37GpTnDS2kVvH5Lu\n",
       "zV5lLDJDN7zklstegtyoA+sA4tOMEtBFx84ond6v0imJg0nX7yxj0lF2rYkpA8exWsOkAHmrsm37\n",
       "3fgs1s0UoyoFjBk42y1LAS7uHmduGB+VL6rxdBm1YNPah1IiGSVBJSnUYMzBPuUwv4QISU4do7RX\n",
       "iAsuwGKQE4Tyszo6fwLGFqyNkexUBY5uXeie0Gk+nXRPDR8dI8IPe1IGqEHvtFOQVkpcF8RQqHWI\n",
       "UQKJgZ1dIG/b/X0/QMPfEc4LxB8Ox/HvpU+wxKCSnWfNpZNRZEcNBENyNpMy5tc5eZM830B/np1b\n",
       "U71xSAyzaPzxzv2iKvr7/dRjeMhLBaFNEzhH+yZhwrrR3n4UE7TTe1OcrPZxIS4a9EfO14/qsWvb\n",
       "+haTvKCPUQKJoU9Wz82XOFpYMpXJIfKalZxsbIp+MayETfE02ysPmry+RpLsbiFwY1AJ2oE8zymD\n",
       "umhCzR0VCn+ijpHigpYzYS96GNOs4OFhzogXHLmxpBvPDy2nb+EXn//y+0B07gm468hdW7pvzWVb\n",
       "q+BEAb6O5KAHF8C4ek1/7c0hRibQIW5CYUa76TGhC+fYaXbLl7np0WUFpr88ejgFFPRsLA96c3un\n",
       "ZKZnar9q8Ffo4VdcZsz/RYku36r7AqR0KFPFpXBt5365oedIPh3FEIClnOViBH34ZRnFLxgwhtPw\n",
       "3/AXMDfkOE9Ydx0AAAAASUVORK5CYII=\n",
       "\" style=\"display:inline;vertical-align:middle;\" /></a><br>"
      ],
      "text/plain": [
       "<IPython.core.display.HTML object>"
      ]
     },
     "metadata": {},
     "output_type": "display_data"
    }
   ],
   "source": [
    "less_eq_complement_is_greater = (\n",
    "    Forall((x, y), Equals(Not(LessEq(x, y)), Less(y, x)),\n",
    "           domain=Real))"
   ]
  },
  {
   "cell_type": "code",
   "execution_count": 42,
   "metadata": {},
   "outputs": [
    {
     "data": {
      "text/html": [
       "<strong id=\"less_from_not_less_eq\"><a class=\"ProveItLink\" href=\"proofs/less_from_not_less_eq/thm_proof.ipynb\">less_from_not_less_eq</a> (conjecture without proof):<br></strong> <a class=\"ProveItLink\" href=\"../__pv_it/theorems/4efd124afda5e4e3a18809d32352f9fc5f9081310/theorem_expr.ipynb\"><img src=\"data:image/png;base64,iVBORw0KGgoAAAANSUhEUgAAAM8AAAAXBAMAAABewgYuAAAAMFBMVEX///+IiIgiIiIQEBB2dnbu\n",
       "7u5ERETMzMzc3NwyMjK6urpmZmaYmJiqqqpUVFQAAAB6qHgnAAAAAXRSTlMAQObYZgAAAAlwSFlz\n",
       "AAAOxAAADsQBlSsOGwAAAxJJREFUSMetVl1IFFEU/qad2Zmd2R1HyrAWRCUI+oEtgiAItgchH4yR\n",
       "LAIJNGqyqFhSerQt6SEC2R6CHhIMRBCMVILWklgfin6IFosglFhBe+rBF8mHHjr3OjM7e9Wlci/M\n",
       "zLn33DnfOed+58wAFRvp/1L9+5DyG+se01VgwlwFgL6UcyIHvGDCw83jKJly2gdALz20js0DGbly\n",
       "2g9AxAbk/OaBQuJCLJimkI0oeRKpwBF9E+bRvXZgFiGUg42NhyoA9Iyu1ikoBff4d63iKNWLPS2U\n",
       "M1p+DlwoZ2EsmI41BWF5wiO6kp8RXeKztgbv6FBnTVB8RJV+aIW15meaX91flYJEeV+E7PIMuWM/\n",
       "oOYnYPLt9/Z5y2/xyf5J2xNA2JYHS0HUOmdQknE8KQIpvkexTlfQk65whNQ4gBAL0RzwX0lhkpuk\n",
       "QGOWyIWXKcqxhNeWCGR4HkWvBCvEA4K+jJupUiAQONNQRMhM0606G6f863UweRkzoJoxEWgLrcdv\n",
       "ZSFd5X2lwNpKSzF1MDLYitLUQV/BKYqmnsQWckpK/4hQMbVW2d04zVkja505EeguUGt2DKhHeR6t\n",
       "ZZX8nHV1LJfhAq6hhAzKZTMBym6UWekjv6LoVEm8M4PtGOVAxvmOABlkx3HOYRjIha0UvjaxdnK2\n",
       "XiLdsAt0gkVU0H+709YGTu/Yr/aEThEY7ChNllascP0C5vGOjOYlSX4isM7Ed7pXMYYPMyQzadIp\n",
       "3nC115n/C/EVv2B5ISnj1uxHlnSfb2pCY489OIweHpGkD9kiEDPazT8uvVn2cihVTN0W7q5cbK3R\n",
       "YAu67Ql9csZAG7BbXyK+8zNCk0AGg8igJZpXK7h/kUw/ZSzy7NJyM05u0DWnfCM7j9WgO4/ZNxlo\n",
       "F2lhZEeyfVIkQziN8aFq2/1oxqYu0bPLU5LQQKlfd4ifh7ySDhPV2hwnUMKBPX518nEGVE2Kryay\n",
       "zsUH1wcKl7Yu3TatkTWbgs5kg4p5nQ7E8E1o1sb9slbo7NCnk2WBZJ42lWjpdGF0W0n3q+zPjS1q\n",
       "7b818wd4J6gQgWhXeQAAAABJRU5ErkJggg==\n",
       "\" style=\"display:inline;vertical-align:middle;\" /></a><br>"
      ],
      "text/plain": [
       "<IPython.core.display.HTML object>"
      ]
     },
     "metadata": {},
     "output_type": "display_data"
    }
   ],
   "source": [
    "less_from_not_less_eq = (\n",
    "    Forall((x, y),\n",
    "       Less(y, x),\n",
    "       domain=Real,\n",
    "       condition=Not(LessEq(x, y))))"
   ]
  },
  {
   "cell_type": "code",
   "execution_count": 43,
   "metadata": {},
   "outputs": [
    {
     "data": {
      "text/html": [
       "<strong id=\"less_eq_from_not_less\"><a class=\"ProveItLink\" href=\"proofs/less_eq_from_not_less/thm_proof.ipynb\">less_eq_from_not_less</a> (conjecture without proof):<br></strong> <a class=\"ProveItLink\" href=\"../__pv_it/theorems/84f6ab7ab5717da28e6f0dadcf5fa023d6e846bf0/theorem_expr.ipynb\"><img src=\"data:image/png;base64,iVBORw0KGgoAAAANSUhEUgAAAM8AAAAXBAMAAABewgYuAAAAMFBMVEX///+IiIgiIiIQEBB2dnbu\n",
       "7u5ERETMzMzc3NwyMjK6urpmZmaYmJiqqqpUVFQAAAB6qHgnAAAAAXRSTlMAQObYZgAAAAlwSFlz\n",
       "AAAOxAAADsQBlSsOGwAAAxJJREFUSMetVk1IVFEU/p6+N/PmvfH5pAxrQFQCoR8YIwiCYFoIuTCe\n",
       "NUUghUZNFhVDSkubkhYhxLSIWhRMIAOCkUqQ1hDjouiHaNA2ocQIGi1auJFctOjc68z7uaNSORfu\n",
       "e+fec+d8557znfMGKNtI/Jfq34eUW1/3hGaeCXNlAPqykRNZ4CUTHm4eR0kKG1Vuo/eBfnqpXZsH\n",
       "0rPedXC35Vp9BAK0lnObB6oUgrXT8mgtBMmTQBlS9NWzijZ6tQFC2dfUtL8MQM9pdmSgcHJ17rFT\n",
       "V7PY104xo+0XwPmNLIy6E1xSEGZReEQzMoPgEr3PPHZSh3pznDJGVLkLNV9qfrrt9b1VyU2UD6Uc\n",
       "KAp7AX9uHAY7bjhA7/DZ+kkehgGfJae8P/bXx1KSjCMREUhxeVTItRYprA+SGi2o5FcctEMXxyQ3\n",
       "SRetMkUuvIoTayS8MUUg3fFocNGpkCIQtGXciItkaOH+0I2QnKJHzUSI4q/Vw+BlzIBqR0WgCtoP\n",
       "3Zwgqf8H9ZU8ayvtTuigJ7FFpLe2ghN0mwYS28kpKfE9QMXUUW314iQ/KKvdWRHoDlBndFEC0gSm\n",
       "mMt+8nO2oOum6cvjqrdglUtGGBTdILMyQH4F0e0n8fY0tmGEA+nnulxkkGOx2FmkgazPjCPdytrJ\n",
       "6QaJdOmC4aPsRnntt8PQB+zxqzOs0Q10lkqDh3WFaxcwj/dkNCdJ8lOBdQa+0bM6Af+h1XXEoCxe\n",
       "L2ivMf8XQitCBxwzZz+xoNvZ9YdV9tqFA+jjN5K0IUsEYkZ76eMSvcIzlqqMO6Gr4O7KybWL8VZR\n",
       "GJCTOqJAs7ZEfOc5QqtABp3IoIbbWAVLl7npZ4xFxZzQdhuOr9M1M7aRHYdr0ZvD7Nsk1Au0Mbw9\n",
       "0jkpksGXwNhQDfMjSEhVmYsk9RSVJDRS6Nk41sRGs/ND8fOQUxI+olo0FnOVsOuMXZ2E0oNTIDTF\n",
       "VhNZ50KptS/k87YuzTLM4ZJDbmcm3Ip5jRKi2yZUc/1+WSd8q6BNRTYEkt0fmZGta3a/8vy5sUSt\n",
       "9bdm/gDoUqeYYERhuwAAAABJRU5ErkJggg==\n",
       "\" style=\"display:inline;vertical-align:middle;\" /></a><br>"
      ],
      "text/plain": [
       "<IPython.core.display.HTML object>"
      ]
     },
     "metadata": {},
     "output_type": "display_data"
    }
   ],
   "source": [
    "less_eq_from_not_less = (\n",
    "    Forall((x, y),\n",
    "       LessEq(y, x),\n",
    "       domain=Real,\n",
    "       condition=Not(Less(x, y))))"
   ]
  },
  {
   "cell_type": "code",
   "execution_count": 44,
   "metadata": {},
   "outputs": [
    {
     "data": {
      "text/html": [
       "<strong id=\"not_less_from_less_eq\"><a class=\"ProveItLink\" href=\"proofs/not_less_from_less_eq/thm_proof.ipynb\">not_less_from_less_eq</a> (conjecture without proof):<br></strong> <a class=\"ProveItLink\" href=\"../__pv_it/theorems/b7c0b8d9f1ed1a60ceefbcee11af0cf7725cc1210/theorem_expr.ipynb\"><img src=\"data:image/png;base64,iVBORw0KGgoAAAANSUhEUgAAANUAAAAXBAMAAABuThcPAAAAMFBMVEX///+IiIgiIiIQEBB2dnbu\n",
       "7u5ERETMzMzc3NwyMjK6urpmZmaYmJiqqqpUVFQAAAB6qHgnAAAAAXRSTlMAQObYZgAAAAlwSFlz\n",
       "AAAOxAAADsQBlSsOGwAAAvNJREFUSMetVk1oE0EUfptu/jbZuD20qMWQBkGwCqsIgiCkB8EeKluI\n",
       "BSmUBOpaPEiwxZuyWjwVSjwIHhQqeCkorUXQVqnpwaKINBQpSD1E0F4U6a09+uZNNn3ZmEViB74y\n",
       "k/ft+2bez0wB/mNE+MJpznP8zf80DrG5Um7Oe1xFRSy+tiSlZ9jisw9RKUksisWDlrQusXmw6Me8\n",
       "L3FLxD3XktYbNo+V/JgfJaIWgFpuSctk87aGAPNYtVmEOG4o2lq6eNi+eIzxHoutoiWJk+n0qZa0\n",
       "Yrw0XmDKukow7FbDYSkVbP8x3o+Bq0i8BLjs53KumSHKU/QQnekmrMpVttvdDySNeTxlUWIKIpVG\n",
       "R2t9S/fkrL5u1nd7MoBZnk/j6MHFcYCbsRRskmXymMt5D6vWLwy3KRGy1Ol6nXDSnlZUOJ9p1Fo3\n",
       "WMLdz6YQZwCsNgNOiHXiUY1TgAXyuCWhG97SeF3AgCvwzmjQWuFh82rBrBXe9miBVNdMCSgu45/2\n",
       "V10YHS0JCepwodUxx7TI3il6gzhuDGtaGEM8gmJ6YgjaDlzE86QkoB87WnE2o/jpwD5rDAapkNRI\n",
       "vrSrRfYxck4cMUJuPCcRecQ1CFXqayN4NWECpiKek4AJJMQhH8bp3TXohKfkPDaSY7VBdn3Ecjli\n",
       "qLykLiCWYNaN8UA31by+PWRqZdke1CKJgvh5hzjf4Rt8sG27rCjqs7o6FHaNxASHEp5iWtcRw71v\n",
       "a1UapwYLPjc2PolwT0tUa8+kx+gonIZxOpeiPbGYlrSHfzqSQ+MI0wrQhvvYxcHvqDtV0JhQizHI\n",
       "4ufaFjYB5QvOsdogu7ilf1vEqd2oNddzoBaDZ31u6dpNHTvY2wGY+42VIkSu4A8zBzJDC7taZK8+\n",
       "xYIji4O/taMQMBKZJu93rvEtKQedEGY3a9usu73vjeTQjJsGQV9ebHIssalQ/T8BmpUwZhqIXi3G\n",
       "uc33bjS/UvdXwWMO2nLGR+sGFqjt/I2zV8PZM09/AESTr9ktkb9IAAAAAElFTkSuQmCC\n",
       "\" style=\"display:inline;vertical-align:middle;\" /></a><br>"
      ],
      "text/plain": [
       "<IPython.core.display.HTML object>"
      ]
     },
     "metadata": {},
     "output_type": "display_data"
    }
   ],
   "source": [
    "not_less_from_less_eq = (\n",
    "    Forall((x, y),\n",
    "       Not(Less(y, x)),\n",
    "       domain=Real,\n",
    "       condition=LessEq(x, y)))"
   ]
  },
  {
   "cell_type": "code",
   "execution_count": 45,
   "metadata": {},
   "outputs": [
    {
     "data": {
      "text/html": [
       "<strong id=\"not_less_eq_from_less\"><a class=\"ProveItLink\" href=\"proofs/not_less_eq_from_less/thm_proof.ipynb\">not_less_eq_from_less</a> (conjecture without proof):<br></strong> <a class=\"ProveItLink\" href=\"../__pv_it/theorems/08c30e0cf228515fd3dd0a66cea3e6161c2de4740/theorem_expr.ipynb\"><img src=\"data:image/png;base64,iVBORw0KGgoAAAANSUhEUgAAANUAAAAXBAMAAABuThcPAAAAMFBMVEX///+IiIgiIiIQEBB2dnbu\n",
       "7u5ERETMzMzc3NwyMjK6urpmZmaYmJiqqqpUVFQAAAB6qHgnAAAAAXRSTlMAQObYZgAAAAlwSFlz\n",
       "AAAOxAAADsQBlSsOGwAAAu9JREFUSMetVU1oE0EUftvs5mfz4/bQohZDDIJgFVYRBEFID4o9VFaJ\n",
       "BQmUBGoUBQm2V2W1eCqUeBA9KETwUlAai6CtEpODRRHpUkSQeoigPYn01h59M5Ns3m66UWIHvmVm\n",
       "37fvm3k/swD/MYJ0YXrzzM7mfxp7yFyyvHmPG6izxbeupKIpsvjcgShVBRbZ4kFXWhfIXCm6N0J9\n",
       "3hO4yeKe7UrrDZmHq05bZNAgq48CIXwnW11p6WTuc0VtH5UCn8ERwQ2FuksXDdtXhym910kNVQWO\n",
       "JJNHu9IK09J4gSkbqMIYX2QO2mns/Tk5goGrC7wEuNjJZdnLEKIpeojOojoss/nYo9Z+IK7NY/aK\n",
       "AjMQrLc7Whmu3BUzz7rpwSzPJ3EM4uIQwI1wAtaYIdbSeg/Lxi8Mty7gN+SS00kgni9JMpxObaGl\n",
       "kIQ3P5tBHAcwfBoc5i+m7RgWYIF7XBeIau7SeF3AQpLgndauFawYnlowZwQ22mqDq6u6ABRr+Oh9\n",
       "NYA3lhqHGO9wptVXJlrCHvhtCk4zhrYWxhCPIOnumlc34TyeJyEAI9jRkrkWwk/P7jAmYJST5WCu\n",
       "2tISdvWq2eCw4dcajqcROcQ18NedvaxciemAqYhkBWAKCRHIBXB6ZwX64Sl3Hh7PktrgdnXcaHLY\n",
       "kGlJnUFUYK5VmtH77LGR0VVLtAdvkViB2TY54wd8hw/5fN6SJPmZow7RPmHZHJ7wBNG6zmp96K3r\n",
       "z6E811Y/sXCXBBq1p/Of0QE4BpP8XJL6xCBazK6cspocPvbTBuAbHvZoj9sN8DElF8OQxs/VdWwC\n",
       "ni84SWqD2wH6WYwYx75R7fyUQS4qJzrc0vZNHd491MditLpUhOAlfDG7K5VZaGlxO44lFGMcURw0\n",
       "YpehR4uJjjzHGjxJTs3+I+5/iaWYfnSWzudJdzs5X0zB4dmgplGI1hY9jsU25XemUjVi2mwb0X1H\n",
       "Ec4t2uWa95W6swEac1Brqb9qbcXZrmFum6c/gNGuceC0Qa4AAAAASUVORK5CYII=\n",
       "\" style=\"display:inline;vertical-align:middle;\" /></a><br>"
      ],
      "text/plain": [
       "<IPython.core.display.HTML object>"
      ]
     },
     "metadata": {},
     "output_type": "display_data"
    }
   ],
   "source": [
    "not_less_eq_from_less = (\n",
    "    Forall((x, y),\n",
    "       Not(LessEq(y, x)),\n",
    "       domain=Real,\n",
    "       condition=Less(x, y)))"
   ]
  },
  {
   "cell_type": "code",
   "execution_count": 46,
   "metadata": {},
   "outputs": [
    {
     "data": {
      "text/html": [
       "<strong id=\"less_or_greater_eq\"><a class=\"ProveItLink\" href=\"proofs/less_or_greater_eq/thm_proof.ipynb\">less_or_greater_eq</a> (conjecture without proof):<br></strong> <a class=\"ProveItLink\" href=\"../__pv_it/theorems/31ac53eda69a4f54b6da032b7d412bb7b42f42740/theorem_expr.ipynb\"><img src=\"data:image/png;base64,iVBORw0KGgoAAAANSUhEUgAAAO4AAAAWBAMAAAA1Ab1lAAAAMFBMVEX///+IiIgiIiIQEBB2dnbu\n",
       "7u5ERETMzMzc3NwyMjK6urpmZmaYmJiqqqpUVFQAAAB6qHgnAAAAAXRSTlMAQObYZgAAAAlwSFlz\n",
       "AAAOxAAADsQBlSsOGwAAA1NJREFUSMe9Vk9IFFEY/1Z39s/M7DZb1CFLVAzBCrZIgk5TlFBg7JoZ\n",
       "4UUPWgjFmtUxJywvQWxQEWQgdDKIzP5ZeVg7SCHRoF5EoZXU/tDBi+ShQ983M2925u04eurB782+\n",
       "936/98373vd9swAbaBHqNP/ldWZcSxHYWNuJCOhrLouKl8CHTMjTYM7XbEzFbtqHsMNL4EdGvKPf\n",
       "D3ztnkUIWR9CNEX9InVdTGCLcx5kxDXyd6uv3VGElPMhyEPUj1F3jglYE44oxWQEmQ/qvnaTiNIi\n",
       "5zt9VEddCZ0gywSFtvmYW1lnQMaDRP2vl/aa4Y+4O+UY9VNHby/pTOBoH9yG+03sr6o64GtXoih5\n",
       "iUiXnzlqeSZQbZpNj4KAkXkSrLOWMIGQWLzcwHaYGeHJiDcA7b52oznrJYcC81KFMdVUaa2pUyAv\n",
       "A3wyBt8BEkwgQbkybG8xuMiREbchki/2bfXDnyweSuiMe9G1mrwSN8Lr1h5rKawPQxyDcsoYYYju\n",
       "YoKP8CX1u2C3nSMjQqnggNto11InKGrwhjUspeVDqAPJvLj4IztYYR+U4vv1mI7RYkNMkIG3hQ1n\n",
       "fvBkREzhwkpCz4OiyGnOLhgql10QV6AnA/DYKhdRzRagETuuXhWRCVlKvMRIGWrEcoib1UdRAi2c\n",
       "nwGeaULK5WfywBZ8TJqjiqsFgbgKp7k8cpAJDfcwPrWlKLLTm1LdglFEFLWPVb8QnbINoHngGwTB\n",
       "HVehPFzEx7hVAn8xgdAZT4LK1Q0HmdCLYSVDWxh/3pyEbaIROsrrekYP5s3A/3rlBTy15tKVZh5J\n",
       "efGvlWXYGrNMEPvTkhR1rk46yIR4hiZXjaUFmJfvd3RcQD+fYEUsTLlzCaAlERu1C5tsJrCwUEbC\n",
       "WmtjnQmE58rsZz5JHORaNhdOGh/FWjgYVs37fWJXmRq6swxfsKw6GcQzRircazVrlQJGtgW9wawE\n",
       "TagQl80qgnnE4gom7NJf1I7DKb34ozEB65BtgbT98Fbo1mF2PAt9eDTxzl3hPSuzIcqO855bVeLN\n",
       "APRxsyHHf5PGKmo1bjIn0AUtlAOhvqPTfS8U4c2edufKBjzeSWhdh+wWiKm4MugluE5VX1mzgAc0\n",
       "L4EPmRPIII6p8H/aP6761TFFP4KlAAAAAElFTkSuQmCC\n",
       "\" style=\"display:inline;vertical-align:middle;\" /></a><br>"
      ],
      "text/plain": [
       "<IPython.core.display.HTML object>"
      ]
     },
     "metadata": {},
     "output_type": "display_data"
    }
   ],
   "source": [
    "less_or_greater_eq = Forall((x, y), Or(Less(x, y), greater_eq(x, y)),\n",
    "                            domain=Real)"
   ]
  },
  {
   "cell_type": "code",
   "execution_count": 47,
   "metadata": {},
   "outputs": [
    {
     "data": {
      "text/html": [
       "<strong id=\"less_eq_or_greater\"><a class=\"ProveItLink\" href=\"proofs/less_eq_or_greater/thm_proof.ipynb\">less_eq_or_greater</a> (conjecture without proof):<br></strong> <a class=\"ProveItLink\" href=\"../__pv_it/theorems/fc166597eb8ec11f6bfef9b4945cf711bc34102c0/theorem_expr.ipynb\"><img src=\"data:image/png;base64,iVBORw0KGgoAAAANSUhEUgAAAO4AAAAWBAMAAAA1Ab1lAAAAMFBMVEX///+IiIgiIiIQEBB2dnbu\n",
       "7u5ERETMzMzc3NwyMjK6urpmZmaYmJiqqqpUVFQAAAB6qHgnAAAAAXRSTlMAQObYZgAAAAlwSFlz\n",
       "AAAOxAAADsQBlSsOGwAAA1VJREFUSMe9Vl1IFFEUPqs7+zMzu80a9ZAlKoZgBVskQU9blFBgzJoZ\n",
       "IUQ+aCEUa1aPOWH5EsQG/UEGQk8GkdmflQ+rD1JINGgvotBKaj/04IvkQw+dMzN3dufu7OhTF747\n",
       "M/d+3z33nnvO2QVYRwtRp3lPrzHimArB+to2hE8vOi0qbgIPMiFLH3OeZiMJ7L54ELa6CbzIiHf0\n",
       "/sDT7imEkObXztOEVeoXqetigqKNyIir5O8znnZHEVLGOSbvUPM+hqgfo+4sExRtREaQeb/uaTeO\n",
       "KHUO+WrU/M966kroBGkmsJ2V4ZerNyDjeNj7emmtGcdQc5WT0k8d7V7SmYA14SAfdf0m9lRX7/W0\n",
       "K1GUvEQkK04eMjzTupPNJUdBwMg8BtZZS5hAiC1eajQ5ZYcLyYg3AO2edsMZa5NDvnmpEp+nH9lz\n",
       "iWmQlwE+Gh/fAWJMIEGFMmyRxl8VkBG3IJQt9G3Nw5/MPyV0xl0YDJq8EqU9RG27QX0YohiU08YX\n",
       "huh2JvgAn9XfjDYzwpMRAdU/4DTatdQJSsJ/3fospen9qAPJuribzM8C7IZS3F+P6RgtMsQEKXib\n",
       "t+LgIkdGRBQurCT0PCiKnOTsgqFyxpW4Aj0pgMdWuQhrtgCN5Nlt58iENCVebKQcNWIFRM3qoyi+\n",
       "Vs7PAM80QXXmEXpgIz6mzNHKKzmBuAonbD//4MmExru4jrYURnZyg9otGEVESfSx6hegU7YBtAx8\n",
       "Az9XNwJZuICPCasE/mICoTMaB1Ytx0eshXJkQi+GlQxtQXy9MQWbRSPRldcNzIQ/awb+18sv4Gku\n",
       "8u4bR8iKf60sw9aUZoLIn9a4qHN5lEcmRFM0uGpMLcC8fK+j4zz6+SgrYkHKnYuYtbHIKF/YhIVy\n",
       "EtZZC+tMIDxXZj+ZjDLFhVxnZ0Tc+FGsg33BhHm/T9g2oZbuLFUku/14xlClc6w2770p40K2Bb3+\n",
       "tATNqBCXzSqCecTiCibt0l/QjsBxvfBHYxLWINsCacuBTdCtw+xEGvrwaOLtO8J7VmYDlB3n8o5Q\n",
       "Tc04VBXeDEAfZyDg/t8kR+YEuqAFMiA0dHQ6L5EivMV1qbnyAeeecgIvslMgqlFl0E1wjaq+UrSA\n",
       "+zQ3gQeZE8ggjiXg/7R/BDXVRxCUIMsAAAAASUVORK5CYII=\n",
       "\" style=\"display:inline;vertical-align:middle;\" /></a><br>"
      ],
      "text/plain": [
       "<IPython.core.display.HTML object>"
      ]
     },
     "metadata": {},
     "output_type": "display_data"
    }
   ],
   "source": [
    "less_eq_or_greater = Forall((x, y), Or(LessEq(x, y), greater(x, y)),\n",
    "                            domain=Real)"
   ]
  },
  {
   "cell_type": "markdown",
   "metadata": {},
   "source": [
    "### Misc Additional Min/Max Theorems"
   ]
  },
  {
   "cell_type": "code",
   "execution_count": 48,
   "metadata": {},
   "outputs": [
    {
     "data": {
      "text/html": [
       "<strong id=\"max_x_x_is_x\"><a class=\"ProveItLink\" href=\"proofs/max_x_x_is_x/thm_proof.ipynb\">max_x_x_is_x</a> (conjecture with conjecture-based proof):<br></strong> <a class=\"ProveItLink\" href=\"../__pv_it/theorems/e1955b0e8c6ac05ca6334b93e4d477024f8451360/theorem_expr.ipynb\"><img src=\"data:image/png;base64,iVBORw0KGgoAAAANSUhEUgAAAMkAAAAVBAMAAAAeFNdiAAAAMFBMVEX///8AAAAAAAAAAAAAAAAA\n",
       "AAAAAAAAAAAAAAAAAAAAAAAAAAAAAAAAAAAAAAAAAAAv3aB7AAAAD3RSTlMAq1RmmUTNIjK7EInv\n",
       "3XZ/CtNrAAAACXBIWXMAAA7EAAAOxAGVKw4bAAAC4ElEQVRIx5WVTWgTQRTHX3Y32XQ3GYMeiiWW\n",
       "gOJB0UYRvw5tpFqFWlmqeBFMwIPgQdabhwrRo0XMxY9oqXuIYCzU2INCxTYeqqAo1XtkA1WhYvQg\n",
       "iURF3+xnsttRModk8v+/zO/tezOzAP8cageO2vEa1iCJDpyTjFCqx+hkPSNgM4jrftFJ5He31/GD\n",
       "k4yEUD9AJ6dX9qUMgHiH/nlbw+/4xhlGrqhfxC8xt7ItIED6Qhdcavod39jBoKAe0gBkRvkjNOsa\n",
       "Pkb4WNPv+MM1xjIa8JhViJHERkpZ/o6lFZp+xzdCjMZQ/XWl8opBGaYUPQ7AU0r/51nY8yeZfp41\n",
       "nenqvSdmEaRaz/gMliTm7aurHwK4xaCcMijpBGxCCvcChgDmtZBiOSnSKyyaXYKqPoK5GFtipELH\n",
       "W49+DsTWHLY82nfWnr8zKNEc6CYlrUIot9tyeJVvBswa7YIBbQ0AV/Zk2aJ3abJiqeFqXiEyPC5Z\n",
       "vxcMCmmIitGXu/MqSM+SlhMGwd7OWfqUqHzzUFp0Tneavx8rTgjs1dso0k8ClFJY3YeXRZ9iOxDR\n",
       "nfXe0I9g2VdzV8/040ft4JJqHF6kLKfaKgYTPKVwC3AVKcMvbQcLKFl7N9iA+5jvoqcvrfoMnk2i\n",
       "rg0lisZ9IIuT9o6cNCnpHkpZlYL0eVXWrltOUYmDDIAc6VqgDFhl3nO42/QxbD4Pk2E4alCE207w\n",
       "Q5pODCI5CDQo5esldQ4epEyn7/JhGAWpjrn+KJSDuKeFUjulTQ9kqYQnfGc+n08QIo/aYVfw8pmo\n",
       "J4lC4vXucO/WqfdP6zBQ1w2nUOMGcYmKBtIRfcN2DI8qnmfx6eGyCOPGs5DgCfumiGZZF7/rcO61\n",
       "coER7OhjckbAPW30BWbt7vMpFsV1ZFccZAQ7uvBhbhnEmzg7/rFUGLLlG8z3m+NMOxLrZvfqU/l8\n",
       "e2mLTIrjuGemi/Hq7frfK1nUO3A+MUJR/wvqMNXARomvpwAAAABJRU5ErkJggg==\n",
       "\" style=\"display:inline;vertical-align:middle;\" /></a><br>"
      ],
      "text/plain": [
       "<IPython.core.display.HTML object>"
      ]
     },
     "metadata": {},
     "output_type": "display_data"
    }
   ],
   "source": [
    "max_x_x_is_x = (\n",
    "    Forall(x,\n",
    "           Equals(Max(x, x), x),\n",
    "           domain=Real))"
   ]
  },
  {
   "cell_type": "code",
   "execution_count": 49,
   "metadata": {},
   "outputs": [
    {
     "data": {
      "text/html": [
       "<strong id=\"min_x_x_is_x\"><a class=\"ProveItLink\" href=\"proofs/min_x_x_is_x/thm_proof.ipynb\">min_x_x_is_x</a> (conjecture with conjecture-based proof):<br></strong> <a class=\"ProveItLink\" href=\"../__pv_it/theorems/7a145496b41dfda17e878262622a7273981491f00/theorem_expr.ipynb\"><img src=\"data:image/png;base64,iVBORw0KGgoAAAANSUhEUgAAAMUAAAAVBAMAAAAEKDfsAAAAMFBMVEX///8AAAAAAAAAAAAAAAAA\n",
       "AAAAAAAAAAAAAAAAAAAAAAAAAAAAAAAAAAAAAAAAAAAv3aB7AAAAD3RSTlMAq1RmmUTNIjK7EInv\n",
       "3XZ/CtNrAAAACXBIWXMAAA7EAAAOxAGVKw4bAAACvklEQVRIx5WVTWgTQRTH/8lussluOwQ8VEuV\n",
       "gCKoiFVEwYNWqlXQSqjiRTApHkQPEi+eqqQXDxYhHkRXS82hB6tQag8KChJRT37Qeg9soCoUDILS\n",
       "SKzim9nsbnY3o3UOm8lvZ97/zfuYBf468ivm+f+04A6WXjE/LTHBeYpP1ksWbIG2dplPOn51aS9b\n",
       "eVi2V+IO8YN8crb9ez0HaPf45u11xL77eGicl/hJfJR+tGL71yqZ179wgwsNoOTjobFTokE8TlsN\n",
       "Sdg7uM+1OpA40Qjy8OKSxEgJCvkUl7iwkWssUoyY2gjy0IhLEsL5u0rljUTjCNewegCFNC69wNVX\n",
       "V6pWk09X7z+zj6/XusdmKRipYDY9fhi4I9E4IzSyaWzm5xgG5tOJepP3sXXqnJ0dVK1B8kMUwmCF\n",
       "j/kAvwit1YOtj/dfcOYfhEZnERbXuAGMA99sruSVRsSOzm7sK60CouWAhy08WTIyTZqomhlm4MlM\n",
       "8/9rocHqWqapYQK/bZ6A6hRwAQNi89eARguPWm7KDxQovQx7LJ+G/pMhpEH1YrnW3vNHrByKtcdz\n",
       "e+lRO7SQF61KGot9vlhhXAlocI5sXm9Wa6yOB+TrXCAfrXyWOpHl18TTU6L3DW3CqcIJWyPbHdAg\n",
       "PpXpgSH6Ur8ZKYOiqwQa2cdHKOUKJhI4LjTUu+7iR9yZFDqKiNSFwDlbg/i2a0cxBH2J/PwxWY5R\n",
       "Faszfg0fjxQ4IiO7TNNMM2YMOcuu0zUzvtTLMqxnqWv0bffo8upNyynBJ2vRfjJQKUE/Zm3YQYs7\n",
       "M4FzhHiirGFMnIPFTjm3Qmehfd94POpdIJclTebyESOnUhWLfOCpk3Olr/02jxse7JdouFz9+HwR\n",
       "2m2anfw0Mzng4FuSfS6fdpHs7g7yh6bpD+qURMPlXo8kJR/V5L8+tpq1Yv5ZYoL4H4XO0jSDQFJm\n",
       "AAAAAElFTkSuQmCC\n",
       "\" style=\"display:inline;vertical-align:middle;\" /></a><br>"
      ],
      "text/plain": [
       "<IPython.core.display.HTML object>"
      ]
     },
     "metadata": {},
     "output_type": "display_data"
    }
   ],
   "source": [
    "min_x_x_is_x = (\n",
    "    Forall(x,\n",
    "           Equals(Min(x, x), x),\n",
    "           domain=Real))"
   ]
  },
  {
   "cell_type": "code",
   "execution_count": 50,
   "metadata": {},
   "outputs": [
    {
     "data": {
      "text/html": [
       "<strong id=\"max_nat_n_zero_is_n\"><a class=\"ProveItLink\" href=\"proofs/max_nat_n_zero_is_n/thm_proof.ipynb\">max_nat_n_zero_is_n</a> (conjecture with conjecture-based proof):<br></strong> <a class=\"ProveItLink\" href=\"../__pv_it/theorems/d9e9c380fe5aa21fc669f8ef414d43f85894edb10/theorem_expr.ipynb\"><img src=\"data:image/png;base64,iVBORw0KGgoAAAANSUhEUgAAAMkAAAAVBAMAAAAeFNdiAAAAMFBMVEX///8AAAAAAAAAAAAAAAAA\n",
       "AAAAAAAAAAAAAAAAAAAAAAAAAAAAAAAAAAAAAAAAAAAv3aB7AAAAD3RSTlMAq1RmmUTNIjK7EInv\n",
       "3XZ/CtNrAAAACXBIWXMAAA7EAAAOxAGVKw4bAAAC+0lEQVRIx5VV30sUURg9O/tjZu/srtKLJCYb\n",
       "ESw+uFMUFJguWCFIMA+9Ze6+RT1Nb/006w/QNTDYEJp+vvjgEPRgUdpDJUVgEGWBMZYYJpUPtYYW\n",
       "de/cmXV215v4Pd095+w99/u+e78B/hvyBhhDoDSwXnzcANMtUDK8li22CQSSJW/5zRaxP3WVTNnP\n",
       "B7MGEtramzD8AFscE7jcoZW5xv68Y6ma8UUkSd4CJwS7UPwiq3FewLcD5GuOLmaXqxlf7ANGgV2C\n",
       "XSgeMQE1KeDHqcs3moZyeLma8cUAkDYRM9feheJBWpCIqC00DfLlBy1taLma8QWV9CcRETSG4S+n\n",
       "p18IXEK0xcRuAILMpXXhPvb+1bJPeznTXX923nZ0hLloUGsrbxdXMLwDuArxIYidTaKJukjPcBAY\n",
       "MyO6y1gDNuGXQl6hLjaCToKHplm8YktXwfCTkP1nkF/fQ4sLxJPMJZ6HzV2yBiL5PS4T1t9B/rXq\n",
       "YkEqb1ZJwfCoqeoe3rd5EFtVM+S2MaYzl8SSrDt9uT1mgDzWXIaQn5B4uwh1ydpQFstdPAXDJbvU\n",
       "/FAHe6F2RoXfhawkwFxubUrTYZHWPUZaRCBX6n6aZjdeeXu4wsFzrbR07X2zwCdGpbb3eC68YhgK\n",
       "MhfpCfqpS+dzj6Eb1Gg86wLQZkKarOiLq3Dwu/Rt3uzSYgZxHmdKvXHEdYnajku2nrnUZJA9Zajm\n",
       "FY+JWfSRWIT9bAG7GcHKx80VHD9He31mDjVm2Cl5Cpl5V8WuYLgWsTwCS8zl+yXjEUYyLnOhF3PB\n",
       "3pGckxqZ4Ne7LLiC4wF6/9GILgSPFwqXqcuw1yhlEvJQUUvoiYZindLYPPzhYRFtRdthcBS4vhPx\n",
       "96zPnTN0k7he4cIVPnwC+xXF4rmEmz10Sjj4V5mm0uq8QFvC5UVMpfjr3A3M+OaceAK6YQkm6BqT\n",
       "lVZ/QcNpmrbyxkDAg6PC71yJIXbppILJXomT0cJgOSD6JKwyCax3pOi6n+SeDTCfBUqK/wPkw+KC\n",
       "MNlzLQAAAABJRU5ErkJggg==\n",
       "\" style=\"display:inline;vertical-align:middle;\" /></a><br>"
      ],
      "text/plain": [
       "<IPython.core.display.HTML object>"
      ]
     },
     "metadata": {},
     "output_type": "display_data"
    }
   ],
   "source": [
    "max_nat_n_zero_is_n = (\n",
    "    Forall(n,\n",
    "           Equals(Max(n, zero), n),\n",
    "           domain=Natural))"
   ]
  },
  {
   "cell_type": "code",
   "execution_count": 51,
   "metadata": {},
   "outputs": [
    {
     "data": {
      "text/html": [
       "<strong id=\"min_nat_n_zero_is_zero\"><a class=\"ProveItLink\" href=\"proofs/min_nat_n_zero_is_zero/thm_proof.ipynb\">min_nat_n_zero_is_zero</a> (conjecture with conjecture-based proof):<br></strong> <a class=\"ProveItLink\" href=\"../__pv_it/theorems/249f64f3f3dbbe90e773d416a532a182576790410/theorem_expr.ipynb\"><img src=\"data:image/png;base64,iVBORw0KGgoAAAANSUhEUgAAAMMAAAAVBAMAAAAJNkerAAAAMFBMVEX///8AAAAAAAAAAAAAAAAA\n",
       "AAAAAAAAAAAAAAAAAAAAAAAAAAAAAAAAAAAAAAAAAAAv3aB7AAAAD3RSTlMAq1RmmUTNIjK7EInv\n",
       "3XZ/CtNrAAAACXBIWXMAAA7EAAAOxAGVKw4bAAACyUlEQVRIx42VTWgTURDH//nczUuyza0aqkRE\n",
       "iD3YKPVWtVCVggg5eLM28ST1FC+CX7W9eKyp0EOk4KrgxYOL4KF4ieihoEILolUobLVUqigFtZE2\n",
       "ivP2K7svWdM5hLe/zLz/m5k3u8B/TdoyL7V2LKGdfdwyH27tyHGKL3b77BTUpB11vkj86ZSeu7nH\n",
       "7elyCUquKdrGx/jDOR+JB1SSOzx2fw2Rnx7usmiGvQPOi8EOHueVLftIDADsW5EWyxuA6uEuOwTM\n",
       "AL1isIOjFBnP+EhUSeJ7DZBPbYjcZZNAj4qEKgQ7OER1iPq1ghJgX6hASnhD5C4jh5sZRMVmNPDr\n",
       "xcWXPhJh6irTu4AQSVx8hhsvRpd0iw+nr6zqhhfje+UQT3mDXXgQuO0jwU/A9EIG3TyLs8B8Rq5Z\n",
       "XJvUWc2ckU3aS0fISO3kIrd5L74Aya0vvXmCPgskM1wiWYbOJai208APk0fy7yH9bkhoCFaF6Wzg\n",
       "mBrP23hi+xR2xdWw1blEnksoNSlvSVSAvyZn7BeCZoMY7VXQIa8JhWrgoO50OzzIx1Dvj8MtwTYV\n",
       "NEkguIZA0elrD+VVbW63jYuHqZ8DE8vAJ/5Pds+oLWEWCtMhQYJz2r8jZ2ZL9IiK4Jy3F278mAbw\n",
       "/lAuUWLGBGbj905bEjHdkCikBQnOExrdeo1xtz7gOJ1SnF8XvkrNvbyCDjVi3Ows+lctJ37hIikk\n",
       "ygjUjP1HTAnOr49hJTT2qGgkxWbNm+wxFw6M0c9ODCE0UqncIomHdnPkOUjT6zklr3Std46/So/X\n",
       "t+2tpwyOM8DdA0h+4I09sURbJPOChIhncVSWNTOLyD6bLvgMTIN3O6trrV0dLK1hIWuO4EFgyca9\n",
       "PhINrvm8GpsxVfxrDpcoMfltCQEbx3w+Wg5nunPI1m9rEbOZypQX+LzlHa6gzWlibb+so1vmn1s7\n",
       "Ev4HBC7iNBsZJCMAAAAASUVORK5CYII=\n",
       "\" style=\"display:inline;vertical-align:middle;\" /></a><br>"
      ],
      "text/plain": [
       "<IPython.core.display.HTML object>"
      ]
     },
     "metadata": {},
     "output_type": "display_data"
    }
   ],
   "source": [
    "min_nat_n_zero_is_zero = (\n",
    "    Forall(n,\n",
    "           Equals(Min(n, zero), zero),\n",
    "           domain=Natural))"
   ]
  },
  {
   "cell_type": "code",
   "execution_count": 52,
   "metadata": {},
   "outputs": [
    {
     "data": {
      "text/html": [
       "<strong id=\"max_bin_args_commute\"><a class=\"ProveItLink\" href=\"proofs/max_bin_args_commute/thm_proof.ipynb\">max_bin_args_commute</a> (conjecture with conjecture-based proof):<br></strong> <a class=\"ProveItLink\" href=\"../__pv_it/theorems/ebc29f05d3a4f78800946112d8573354c778c9ff0/theorem_expr.ipynb\"><img src=\"data:image/png;base64,iVBORw0KGgoAAAANSUhEUgAAASUAAAAWBAMAAAB00JfzAAAAMFBMVEX///8AAAAAAAAAAAAAAAAA\n",
       "AAAAAAAAAAAAAAAAAAAAAAAAAAAAAAAAAAAAAAAAAAAv3aB7AAAAD3RSTlMAq1RmmUTNIjK7EInv\n",
       "3XZ/CtNrAAAACXBIWXMAAA7EAAAOxAGVKw4bAAAEcElEQVRIx8WWTWwbRRTH/9712utdZ2vBoYKG\n",
       "YFFUJEiJkaqKcAiuAgWpIJYW9VKEjSrEx6HaHpAoKihFQkhQFHMBDFW6h4CIUrmGQ5FS2oZD+SiC\n",
       "BKQiOKTdlBRECkkhwUGhqLw33vXKu2vLN0aydz1v/s+/efPmzQCdNKtzSxKdtmRkj9Wh2sh2blGc\n",
       "TpkuIEr7GD0z/GN9e/Vt2Ht+kl+mvrWCllD7KTj5G67wI/3v2uZ+qRqpNXLAvfz+ZFskrQjsW6IX\n",
       "+UYrbAm2hB2EOkx/gztWAt3vI1r7DHCAVaW2THHyWfmeV+ohO2wJNjkfnNLvTD63GugeRLR2Ux1N\n",
       "z7ZlStOnskghejnIlI4afibItEAhUh8JMk220KZtyDTVRPt02sBMR2kKTpBpQ9Tw3UGm+WUKcTzA\n",
       "JBVbaBME9PXMzFftmbYxU4zmlSMmeeG4LR9eUq485VlmPzhej3NlEBptmQ+DTE43rQozDVyaQP/V\n",
       "XOGzIVr2akMA3wtpdeq5H3inPRNPvKL8Cckmpl4rXoS+iic8S97oiU+LcdVeyJeBzSLTZkTLCKZC\n",
       "FrcSk/Q5tgKn7ISJejhcAXwvpJUpgHuRzIQ5Nh7bssd7/46Z8CMMCCaF0uNpeci1yJa8GhOprmYf\n",
       "RIx2S28oTl0lOHWmgoVE6U7u7co2BPC9kFaiBUnZutnsRJ0tm4aOj70CclowLVrPMhO0XcR05FrP\n",
       "oiLuZoaGb5CmqjccYjJWkqbIp/dOWdA+FTNImw0BfC+kVSlykhNM8XsoBoaBu5wmpqNVh5m0LTcR\n",
       "k/RXw+K5pTK8imGSPhpi0v4xwEyj1/TR7u0zXSZPAN8LaRXekMUB+lq4b46GK7OIiUrKTPP5prVL\n",
       "TebE2pkqMcU/sT0LrYdW34401d942UP5hEMyM0mnMUx/su2Mu3aeAL4X0kqcnB9R5TSs6xI0qLLG\n",
       "PogxcZDpyRGvII4IJuUPm5mWoay8golU0bWMmd3QAaZKZfAGPfpDcULhemZak0fhOUu33+TelOMJ\n",
       "WOp6Ya3MGbafJiNjRKXX5zfiV+wQTPF3G8WdN/fDwJcAnS3LMP6+RXe0ZdfS9+oD2A6txrHJKEtu\n",
       "gWg6WTNIlxBbYabFl6yT4FIntrwQCGndi9BykUBMLGn9OFqHHmwul8tZw9C3e05fp+NuajcuYnbq\n",
       "cevAhfkTl84X5at76pbRBWmQIjzD2b9ujr2cDRx3h2o5wzS6a2vVntvHz52o4e4axUid9gQsdb2w\n",
       "tqux49RJcZ05iy/wmoiToezyinbXUKvK5VskMVinFU1Od3ZV+cETSP7hwNoXvB/79WIc4zRQuUzF\n",
       "QeQTJvKtTtWI85aT4RiOZKPP5ai2yRPozWd642yOXzw5j4NZ3NxfRPJt6tj5c3V0q2d9q6XjhqVC\n",
       "n3O09LTMHV7pUpYrqPh9+8J3lKxmpYh0vFxurqJjLR03LFxd1s+ZbScQ2I4lV+A0TTHVfEVT7Jiz\n",
       "M/Lm3PI+G7YYnV6o8SKitL8EsgPKQBX/f/sP2YxYuVhtc6kAAAAASUVORK5CYII=\n",
       "\" style=\"display:inline;vertical-align:middle;\" /></a><br>"
      ],
      "text/plain": [
       "<IPython.core.display.HTML object>"
      ]
     },
     "metadata": {},
     "output_type": "display_data"
    }
   ],
   "source": [
    "max_bin_args_commute = (\n",
    "    Forall((x, y),\n",
    "           Equals(Max(x, y), Max(y, x)),\n",
    "           domain=Real))"
   ]
  },
  {
   "cell_type": "code",
   "execution_count": 53,
   "metadata": {},
   "outputs": [
    {
     "data": {
      "text/html": [
       "<strong id=\"min_bin_args_commute\"><a class=\"ProveItLink\" href=\"proofs/min_bin_args_commute/thm_proof.ipynb\">min_bin_args_commute</a> (conjecture with conjecture-based proof):<br></strong> <a class=\"ProveItLink\" href=\"../__pv_it/theorems/d33ba64ef4195c3713fe4fe965786f0d7b7cb9b70/theorem_expr.ipynb\"><img src=\"data:image/png;base64,iVBORw0KGgoAAAANSUhEUgAAAR0AAAAWBAMAAAAP9FU/AAAAMFBMVEX///8AAAAAAAAAAAAAAAAA\n",
       "AAAAAAAAAAAAAAAAAAAAAAAAAAAAAAAAAAAAAAAAAAAv3aB7AAAAD3RSTlMAq1RmmUTNIjK7EInv\n",
       "3XZ/CtNrAAAACXBIWXMAAA7EAAAOxAGVKw4bAAAESElEQVRIx8VWXWgcVRT+dmdnZ3cmmQz6UE1j\n",
       "OtBSUFtcRSr1oa5EW0FrtlX6opgtfRClyPRBUYklEfTBtmR9EF0N6TwEaaxs1z5UsCAbVGj9aVKh\n",
       "og/RWU0Vg6bRSlZiFM+9d2Z35yfLvPXA2Z399tw73/m9F4gjVlxcQTxRIreyYq7Wzbi47MTb8ccQ\n",
       "8oSrBvuxsfPqW3Hohxp7mLloDefa8ZD8FAzETavsq+vfdconLTRZDfuWE3o/+/FkRzpqEXjhKj1I\n",
       "GywM5X14UNJ2kNBx5sDtDch/tcB3I97ytNBRtqbUkU+Kdqx8w3wYtKH68aBI+aAzvzPW8ytAG9OB\n",
       "iLfcKZQ5pJkd+XSRVq5Qsb0yaAfxkHwe5LPYADKPrvjAWtRbbK4SOZnuXD6bGZ9T5Ljj57M5yvhA\n",
       "kM8C5UlP+fgkIxKNdE7oV3NzX3Tm8yDjkyCfcoO2ctDIHNy12N/E6yfOiuhWBqBSc3wQ5OP0URaJ\n",
       "z3PTePXTw3XWgKlq05xHsPfIaUqSIfQB4O3OfJjLFflPJG2KT9pA93UYs1w8r/enZrlVdQukJWAb\n",
       "r6w5LgbnM2TiFhaf/cBFM9NwQ+GaM2PUnd3EuSj0EBQjzGHrmXuf8Z6/ZnzwHXQQn6yBbA09OYFL\n",
       "lrSS4GWdMXcjQX2xJRSf7hIcxud1YBxgfdptNs1J7sI99vWUxJrQrK0V/Ftk6uWCruFDb0h8xvlc\n",
       "sZ71+JTQ4wg8g5RbCyouoIvQsRAfvaEUXD5l4D9WuoWmOckIdvK3LglNOsFyvm+EKlDH3Y6Pz6mq\n",
       "E+YDb1MazSsYo4WPh/io/+gI8fHMuVzg62tCUdxBH4u75qkk5DoSfEoyPgt5X76ytVyAD8MxZKmi\n",
       "6ShQv7FEh+oH41KAD+XLM+dMGniP4jIrFKdpKurWjWkyqvTYRzHFx7emTHjjboLzkf+wA3wInyr0\n",
       "QROjjv6gN2J7KD4Y6g3wyTqeOS1U36DWpdKQSkIxTG5ImMjQ44tb8Sse4XxS7zSHNmvhPcB5gM4L\n",
       "IpN2+RB+22sPYS/UZRYTQ77qDgHfCWugq4REg5N5SvBhbc3N2cLk35M12RRDgCkSPI0Nvno9+rGt\n",
       "XC6buq7t9bY8RsfXzAFcRn1m//N90yc2TL98fFrgk4vJAdprjvm5fp7tcSlwfI0v5/SC3re8bvTL\n",
       "3tHVG25eJS6ZWc+cFqoPO5vuYEksCHV7qsavJJdwDkd4fHT5MW8Yd49Ez6UWnuSmGrWaMhvnuvGt\n",
       "Z55sDfyXXOUyrBVTOEmG8hINAF4/+Ci/1hkZwqmEcAbvm9FnbOTZKcw1/xnbPGdTlz9ewFETm7YX\n",
       "obxFwL6fq5M7vX/fXGPbJl4h/Z6STYmNdR3LWq55pZXYUvieYapWlvw7WS77J+TUGts2cVbdG+cL\n",
       "HagHmq7kmjvtFLm2t4KdcPZF3nbXuIWGcT3mFfhwCPnF1fZ6gLyjimsr/wPG90qotS98lwAAAABJ\n",
       "RU5ErkJggg==\n",
       "\" style=\"display:inline;vertical-align:middle;\" /></a><br>"
      ],
      "text/plain": [
       "<IPython.core.display.HTML object>"
      ]
     },
     "metadata": {},
     "output_type": "display_data"
    }
   ],
   "source": [
    "min_bin_args_commute = (\n",
    "    Forall((x, y),\n",
    "           Equals(Min(x, y), Min(y, x)),\n",
    "           domain=Real))"
   ]
  },
  {
   "cell_type": "code",
   "execution_count": 54,
   "metadata": {},
   "outputs": [
    {
     "data": {
      "text/html": [
       "<strong id=\"max_y_ge_x\"><a class=\"ProveItLink\" href=\"proofs/max_y_ge_x/thm_proof.ipynb\">max_y_ge_x</a> (conjecture with conjecture-based proof):<br></strong> <a class=\"ProveItLink\" href=\"../__pv_it/theorems/1575f47b67f608b97a730595946b10aaf29977760/theorem_expr.ipynb\"><img src=\"data:image/png;base64,iVBORw0KGgoAAAANSUhEUgAAAQcAAAAXBAMAAAD0JJe7AAAAMFBMVEX///8AAAAAAAAAAAAAAAAA\n",
       "AAAAAAAAAAAAAAAAAAAAAAAAAAAAAAAAAAAAAAAAAAAv3aB7AAAAD3RSTlMAq1RmmUTNIjK7EInv\n",
       "3XZ/CtNrAAAACXBIWXMAAA7EAAAOxAGVKw4bAAADy0lEQVRIx62WXWwMURTH/7uz092dqdHECyFs\n",
       "kHpQsQ8iIVJt6itBrEr6QnRFxMeDTBMeCAkSEV/Bg7AkNU36oCpreSBapJFIfESLhPBQphRRUh8t\n",
       "lUbCOXc/e2e2qeUk097d/9kzv3vvOede4J/MHLni/+sQIzQjNHJFtd0919JTwoMpBUJMR92rNh50\n",
       "PDZlxWFv8uCGgYU82FgYgxYFdvTRQJlkOhXZiiz3KFuAvbxdxwuD8NEk4s94NisspyKbUuEeZVaS\n",
       "Tw8VBlFMT/wzLcJ+GaLYzf1+nigWFGIuKjAlShniEk3QliFK3dzXu0cpIoKHnZ0PCoRYyhAeysww\n",
       "QSi9rZZyrk/9tSmtdJ1vTS5xvAoaFcBlOaW6w2igfSBpCXBmuDdV5Jd4anH1G7wWQZSZvij0QWxI\n",
       "KxXGRN8j4Zcog/IFmC2ypVMYF6XubcN8yhVK4jr4S5zxZ1yt3JocZZP2YERyesIQeAEDAkIdADYr\n",
       "e1KKYiqDHpGfgdByeChMmfTzfcQ4DiAUBC1dCh7oikUMHdcSEoR2XUrgOwLis7mdIaCtJoiLY9JK\n",
       "AL5UnWpoRzG1qmMShEVftpMjLZLXlvNyAU3GMDDXliCAD2EXiEsJmyG0yskE4f2eUcSLk81yEMco\n",
       "5hp5uWutwE9Sud1Fy+lP7+JuKjW1Cx7RwhiipyILIQSyOXbaNbsdwbaw2I5IgCB8N6y0glpTSxYN\n",
       "Lckn3mIpJ7AIBgF4OXGuUMsyzHFFtNbx0dYRNIlmqvvrw1kIIbDNM1OubPUCQv1qMUQ/1IEDaAlG\n",
       "U0pTZAJ0WnP6FCzBCZ6BvBInWIHCb9jFA9QHaLhzBj5glYDwnT2ek5hCIGs+mXZl45pbCdwDqG33\n",
       "w/g5Tbe1/pQy89AyVEP7wbMvUftSdTvEKlFLE/Vx7nlEPg+Ir8djImbHYrGQYejVudXBArBtbNaV\n",
       "7CgdHR3r8RZdHevMva97bn58FVV+b00qjb3eKlqxTk7Z8d38m6cyRMOtFbSxozJ1EWgT5/1T3MVh\n",
       "sRKGutrKgWABdWNzXMlG7cnXQbKKV0TRaZP8j5x+V+nZnf6wS4/60Aw8V79QzYqcQEtOYgqhYXHG\n",
       "dfgjKVfRxasuhlwONT2q3aZ/VZlT7+2tHhwJYeqcKPyn6Yuad4nGRTkQLFzIuqbsVN5mmlHi9Lyk\n",
       "3aSdcyyX7Uk4j/CQZgYJtzkWy2lfwicpOKwpL0RG4V4xpTviRuwt58tMcOhVRLU8do0jnIBwE/gi\n",
       "YueDcCpGnsvke2kjoZYn3CGEcJDKJvbP99L/fKH+b/YHt90XUIwK/XQAAAAASUVORK5CYII=\n",
       "\" style=\"display:inline;vertical-align:middle;\" /></a><br>"
      ],
      "text/plain": [
       "<IPython.core.display.HTML object>"
      ]
     },
     "metadata": {},
     "output_type": "display_data"
    }
   ],
   "source": [
    "max_y_ge_x = (\n",
    "    Forall((x, y),\n",
    "           Equals(Max(x, y), y),\n",
    "           domain=Real,\n",
    "           condition=greater_eq(y, x)))"
   ]
  },
  {
   "cell_type": "code",
   "execution_count": 55,
   "metadata": {},
   "outputs": [
    {
     "data": {
      "text/html": [
       "<strong id=\"min_y_le_x\"><a class=\"ProveItLink\" href=\"proofs/min_y_le_x/thm_proof.ipynb\">min_y_le_x</a> (conjecture with conjecture-based proof):<br></strong> <a class=\"ProveItLink\" href=\"../__pv_it/theorems/bca43335dac9b0b216dc91234c273373a2770d270/theorem_expr.ipynb\"><img src=\"data:image/png;base64,iVBORw0KGgoAAAANSUhEUgAAAQMAAAAXBAMAAAD9zzfBAAAAMFBMVEX///8AAAAAAAAAAAAAAAAA\n",
       "AAAAAAAAAAAAAAAAAAAAAAAAAAAAAAAAAAAAAAAAAAAv3aB7AAAAD3RSTlMAq1RmmUTNIjK7EInv\n",
       "3XZ/CtNrAAAACXBIWXMAAA7EAAAOxAGVKw4bAAADtklEQVRIx61WS2gTURQ9+Uw+M+00ihtpqYFK\n",
       "oWgxCynookbqD1RaK7hRbMSFIEWmC0GlQhVc+KPtSmOhTqGLlkqMLiooSCoIftCqUNFFNMWoWKR+\n",
       "CiquvPdNTDKfSE17YZI3596577z77r3vAQsSbb64/z8dzFvU8HxxKeNsuZ+eEA/qyqSwCl1vUzyY\n",
       "fK51R4pxm7wrQZa+2syDQ+UxkGPA8TkaeFZo6IiacKv4dGcfh4FTvFF95VHw0hISL3ktrTpkM24V\n",
       "T9TZx1qDnRIuj0IFPYkvlFFnWnUrbpNHJXzo8BBjX5mpUM8UrtPyMmYK9U7GB519+Gj+J+n04zIp\n",
       "bGcKLsrHSKvu7wwFOrfO1ubx6ZE7RnATLZAp6W9YEykbwRDtAKm2AVf+NU+0tIoXlpC+w61TFHwh\n",
       "VC5Fr5bDo2qt95mwSq6G5yvQJLIkLYTLUHGnsIFyhFK3C/6Q3Xvj+MYjxsicqg3FveQFU8BrqCAK\n",
       "wRCCKVRFDNyjeX67RFYGwjvhIierLTOcJobLASKCoK60mZWB6XibquBW0k6hwdRh7gsKX7Sjfyn0\n",
       "oSpj4AF4c5Up4ykqCO21UNAJfEqGFCB3xpqNm3qozFSsz9gorDNXm0HhejJjpwAxrdEYf6OXPO6z\n",
       "BrpDD/wiLbe2WDP9zG7NUoilabhEw2IKM9ECBaHAJ5FfhmlhI4KpiIXCCzGDJhtlQuH4zFtryQVs\n",
       "gUrTuzlhblKDUrXlPvKfqNIvYFQ0TsU/GClQEIoLgkHOlGVQUJC+6RYKhI+21UChaNMbKfo5gtYo\n",
       "9LMGHvbfzQMMBmh4ohGfsFtM5B3oK0pHoXAPsMecKQvX2S7gIUANmub35SgQvubcDrRD/sErD0lz\n",
       "uUo1yUZ00CK9nHGuHgZ+CrgatWiKx+NhVVXaiyuCFZAEh5wpyUU6IiYP4j2mJw8cq5kYWTFx+uqE\n",
       "gQ/PulsoVmn6QK7O8hdTVgpDd1tpQyvztRBIiRN9Cg9wXkRBlfbqRRRYQVbLtLwpSWWPc78o4G7h\n",
       "Q6Hi8D+z243Tc/LvS7cS82IMeCV9pSoVuYDbRekoFHygLdGF6b+PngKuiImuhR2OLiUm36O/lvzZ\n",
       "9v7uDKfbynUx+C8TsOdDcnhLEQVWGLcfYZqTSyXaZh5P0POGdpF2zBaqjCtpP6TDshYksmPxeFGz\n",
       "EjaGwiajJSjkcU7OumybE1t3M19Vguabm6S7Mnts7gQFJwXHpMR1zI6rJS6JHy1bCKk56UxBKM5S\n",
       "qcQXfN9cxEvyoskfRTsJayU/ylsAAAAASUVORK5CYII=\n",
       "\" style=\"display:inline;vertical-align:middle;\" /></a><br>"
      ],
      "text/plain": [
       "<IPython.core.display.HTML object>"
      ]
     },
     "metadata": {},
     "output_type": "display_data"
    }
   ],
   "source": [
    "min_y_le_x = (\n",
    "    Forall((x, y),\n",
    "           Equals(Min(x, y), y),\n",
    "           domain=Real,\n",
    "           condition=LessEq(y, x)))"
   ]
  },
  {
   "cell_type": "code",
   "execution_count": 56,
   "metadata": {},
   "outputs": [
    {
     "name": "stdout",
     "output_type": "stream",
     "text": [
      "Adding theorem less_add_left_weak_int to proveit.numbers.ordering theory\n",
      "less_add_left_weak_int expression notebook is being updated\n",
      "These theorems may now be imported from the theory package: proveit.numbers.ordering\n"
     ]
    }
   ],
   "source": [
    "%end theorems"
   ]
  },
  {
   "cell_type": "code",
   "execution_count": null,
   "metadata": {},
   "outputs": [],
   "source": []
  }
 ],
 "metadata": {
  "kernelspec": {
   "display_name": "Python 3",
   "language": "python",
   "name": "python3"
  },
  "language_info": {
   "codemirror_mode": {
    "name": "ipython",
    "version": 3
   },
   "file_extension": ".py",
   "mimetype": "text/x-python",
   "name": "python",
   "nbconvert_exporter": "python",
   "pygments_lexer": "ipython3",
   "version": "3.7.3"
  }
 },
 "nbformat": 4,
 "nbformat_minor": 1
}
