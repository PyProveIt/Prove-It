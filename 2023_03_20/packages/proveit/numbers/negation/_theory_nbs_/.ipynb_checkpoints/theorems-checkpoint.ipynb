{
 "cells": [
  {
   "cell_type": "markdown",
   "metadata": {},
   "source": [
    "Theorems (or conjectures) for the theory of <a class=\"ProveItLink\" href=\"theory.ipynb\">proveit.numbers.negation</a>\n",
    "========"
   ]
  },
  {
   "cell_type": "code",
   "execution_count": 1,
   "metadata": {},
   "outputs": [],
   "source": [
    "import proveit\n",
    "# Prepare this notebook for defining the theorems of a theory:\n",
    "%theorems_notebook # Keep this at the top following 'import proveit'.\n",
    "from proveit import ExprRange, IndexedVar\n",
    "from proveit import a, b, k, n, x, y\n",
    "from proveit.core_expr_types import x_1_to_n\n",
    "from proveit.logic import Forall, Equals, NotEquals, InSet\n",
    "from proveit.numbers import zero, one\n",
    "from proveit.numbers import ZeroSet, Natural, NaturalPos, Integer, IntegerNonZero, IntegerNeg, IntegerNonPos\n",
    "from proveit.numbers import Rational, RationalNonZero, RationalPos, RationalNeg, RationalNonNeg, RationalNonPos\n",
    "from proveit.numbers import Real, RealNonZero, RealPos, RealNeg, RealNonNeg, RealNonPos\n",
    "from proveit.numbers import Complex, ComplexNonZero\n",
    "from proveit.numbers import Add, Div, Neg, subtract, Mult, Exp, Less, LessEq, greater, greater_eq"
   ]
  },
  {
   "cell_type": "code",
   "execution_count": 2,
   "metadata": {},
   "outputs": [
    {
     "name": "stdout",
     "output_type": "stream",
     "text": [
      "Defining theorems for theory 'proveit.numbers.negation'\n",
      "Subsequent end-of-cell assignments will define theorems\n",
      "'%end theorems' will finalize the definitions\n"
     ]
    }
   ],
   "source": [
    "%begin theorems"
   ]
  },
  {
   "cell_type": "code",
   "execution_count": 3,
   "metadata": {},
   "outputs": [
    {
     "data": {
      "text/html": [
       "<strong id=\"negated_zero\"><a class=\"ProveItLink\" href=\"proofs/negated_zero/thm_proof.ipynb\">negated_zero</a> (conjecture without proof):<br></strong> <a class=\"ProveItLink\" href=\"../__pv_it/theorems/c52b519efe39d9a23613a9bf51e5201768d82e150/theorem_expr.ipynb\"><img src=\"data:image/png;base64,iVBORw0KGgoAAAANSUhEUgAAAE8AAAAVBAMAAAD1D64kAAAAMFBMVEX///8AAAAAAAAAAAAAAAAA\n",
       "AAAAAAAAAAAAAAAAAAAAAAAAAAAAAAAAAAAAAAAAAAAv3aB7AAAAD3RSTlMAInZUiRDNmWbv3US7\n",
       "qzJazP2FAAAACXBIWXMAAA7EAAAOxAGVKw4bAAABNklEQVQoz2NgYBBgQAaMDLgAkwEKl1sBl0IT\n",
       "BJPFqZCBQQNTiYs60FbWBIRAMkOUAANbALo6NgPWhQwM7A1wAY4FDCwHGDgK0BV2MTD4MDBwIgR4\n",
       "LjAwf2VgmIqu8CwDg30AgxlCgL+Age8zA0MGusLvDAzvDRhKEALxQIU/GBh80dSxghQ2IOuXd2Dg\n",
       "+8TA0AbmVK0CgbWgkP0CVKjAsBhVIVDQEs1EsEIHhtlAs7PAuh/EOzBwA018j241UOF+BZBCJM8w\n",
       "Az2zE4tn7A2QreYBBiIweKzQ3MhwhoGhP4DhEEIhxwQGdmA89aCb2MnAUIYaGIsZIh8wIAcYBHAZ\n",
       "sM5jYHiFJBLudA9IrkZXyFqiC9TP9QA9NBZgT2UYaQAplaCCg2h8GVwJN4aARoSbUNM+kwB2ZQAz\n",
       "kEh37k8OywAAAABJRU5ErkJggg==\n",
       "\" style=\"display:inline;vertical-align:middle;\" /></a><br>"
      ],
      "text/plain": [
       "<IPython.core.display.HTML object>"
      ]
     },
     "metadata": {},
     "output_type": "display_data"
    }
   ],
   "source": [
    "negated_zero = Equals(Neg(zero), zero)"
   ]
  },
  {
   "cell_type": "code",
   "execution_count": 4,
   "metadata": {},
   "outputs": [
    {
     "data": {
      "text/html": [
       "<strong id=\"neg_in_zero_set\"><a class=\"ProveItLink\" href=\"proofs/neg_in_zero_set/thm_proof.ipynb\">neg_in_zero_set</a> (conjecture without proof):<br></strong> <a class=\"ProveItLink\" href=\"../__pv_it/theorems/d21fdc3d668aa4ec1efb55a0d2a8d47cb165a0000/theorem_expr.ipynb\"><img src=\"data:image/png;base64,iVBORw0KGgoAAAANSUhEUgAAALYAAAAXBAMAAABUnqh8AAAAMFBMVEX///8AAAAAAAAAAAAAAAAA\n",
       "AAAAAAAAAAAAAAAAAAAAAAAAAAAAAAAAAAAAAAAAAAAv3aB7AAAAD3RSTlMAq1RmmUTNIjK7EInv\n",
       "3XZ/CtNrAAAACXBIWXMAAA7EAAAOxAGVKw4bAAAC5klEQVRIx61VS2gTQRj+zGuTTbJED4IIsiD0\n",
       "4qM5SMFXW6iK0kuh6EGLhhYRCpZUvIiK66UXldSDaARleiwVmqr4oJegCKIowQc9BbYo1seliFDQ\n",
       "i/+8ktkkhIJ+8OXfmZ395p//MQFWg7xiw1QD7MPSnuHvLKwOjitp4njzsi9HpY1vYEDUBzJ8tLm9\n",
       "9hbFwH7ZxlWh3/Qz/5mcTnDRT8B+Pn2qrbSdkwxitHEiWQFirr0gnxBjuMxjM9lWO5KVDGJHK+29\n",
       "wFOlHe7l8ki6bbVTig2zTNpv1Wqupn0d6GRSG68QJodi7cPdoRhETJ7kyHfT719AwVXaI8CbavV1\n",
       "e+1+RQ1r4xIVQVJUgTVqxsTm2lmlPQccBG4HpHYLh+IPmZ4YUdQYyieoJMIiErF6nUdysP6Qtg+n\n",
       "zMddwDisjCkdpxfzP7RfHO8Uddk8R4QcCwkBI5wXslK7BOsnH2+lYmTJAS27WBxAKIewH53kVuGF\n",
       "pH26yuFFlpEu0eJl/u4qnxJlNn6SlpD2CYrX1DBNFGh/v7b3Po+3QA4pDyvN2rUCmcQseRMVfk/X\n",
       "z3uIiVx2UtE94t4OEXPd9DPT/Vi1GmleYnhmaDfEZNZHD18nEpauz/NuLAI9THYothHvU6rthfiK\n",
       "8oFyVGB4j2hFf3RXUWu7WB/KIywi4fiB3tkDHKAncaSdPAe0X6SXUjgolkx4XPstMKYLZU5R++eH\n",
       "PkTok5IYDQe00679UvWlKNs1FOXUgJNBV7FYdONrGY8JZbpDu3RNUdfJpifjX0lGVsDUDWZo2/2L\n",
       "ntb+qM+ZT+xiV+QFl5G5tMpaLO1JBnFR2WN3jJ6v7wJLD1P5wiBLMJVLx49mjFzSrSMYRF+ru8p4\n",
       "qt1u0b7tD2DdUtp0CzNDGzcVTTTfnU7Z6FDgXPDtTFH2DvQeCtOBQlYZbfpTk93IcS/bwhlxhEqT\n",
       "tuVLmlhq/vLsOmnPc+vkW117Y9JMuPj/iAtRy/tnob9WwscoCafCowAAAABJRU5ErkJggg==\n",
       "\" style=\"display:inline;vertical-align:middle;\" /></a><br>"
      ],
      "text/plain": [
       "<IPython.core.display.HTML object>"
      ]
     },
     "metadata": {},
     "output_type": "display_data"
    }
   ],
   "source": [
    "neg_in_zero_set = Forall(a, InSet(Neg(a), ZeroSet), domain=ZeroSet)"
   ]
  },
  {
   "cell_type": "code",
   "execution_count": 5,
   "metadata": {},
   "outputs": [
    {
     "data": {
      "text/html": [
       "<strong id=\"nat_closure\"><a class=\"ProveItLink\" href=\"proofs/nat_closure/thm_proof.ipynb\">nat_closure</a> (conjecture without proof):<br></strong> <a class=\"ProveItLink\" href=\"../__pv_it/theorems/0f14f9c9e95e8922f52b5384660a4680356661330/theorem_expr.ipynb\"><img src=\"data:image/png;base64,iVBORw0KGgoAAAANSUhEUgAAAKoAAAAVBAMAAAAkxGgRAAAAMFBMVEX///+IiIgiIiIQEBB2dnbu\n",
       "7u5ERETMzMzc3NwyMjK6urpmZmaYmJiqqqpUVFQAAAB6qHgnAAAAAXRSTlMAQObYZgAAAAlwSFlz\n",
       "AAAOxAAADsQBlSsOGwAAAqlJREFUOMuNVUtoE0EY/pJuNpsne/DRg0jIxVIRg2iRIphLsaCWbYkF\n",
       "Lya+Vu0pPvCm3SoIYi1FKHioGKkXoUgOQjHpIT0oFFFTFUXoIVKhKCK9CB79Z2dmu7tNTH/4dv6Z\n",
       "nf3mf84CmxNLwLfUTDRsVgJ1Drc88e0J7TWnoBzujepAgy0st2P9JOA5qeZbUOvPgTywA6iw+cM2\n",
       "pKFJDq9M+ebJLqWGDiBi4CaLRKENa6zG4ZU3ftbPZF4QiJcZMZR6G9YOAd+qwcdt6bTtR3Jcv8tY\n",
       "cQBxMiHSLqxfBbwS4dY/2ypttVYDWcY6DexLp/e3Y30h4BTP905KtGJnWnPCm7RUjDDWAWAOON80\n",
       "Qy59WkDKjKX+ofjZfkesddZweWiIlEVgAlqjCWl8FWNL8oM9AvLAQ4ilgETGZl3PloW3ibOkfKQq\n",
       "M5SSO5E9R8+VgdwcqxxZTL0coQdpJsXYGoJZILzG3l1lSwXBmjRWSBmlE3XntPBOsxS0lEED9/qJ\n",
       "I0PJ9LA6yS8gT5ZEbVuH3baGGiwCM4TJBblcLZLnuDEOrZulIYVdzSOQ1/GehkSKTYJuVlxWSflA\n",
       "OM6SmFvoly1YpgDEf9q2HhT7TwtI1jp+JCzEbb8DutOxZFTgOimvCbcpWaGu8F/hS/x+kdnxi5xw\n",
       "4jogID/XE7tj1G1Ze/bIqV/WTC9FESaJJVYOZzBrvxtUeIwrGFuWNXBFQNbAtyMT28l3nuVTI7zH\n",
       "wo976HmS0C3jXwo0sGiaZh3ZPpzwl1mwyOGVW2J8eibtuXm0lIyUpb4yrjEt+qWGPq1arVbcxVvm\n",
       "8Mr8f+4ibqs1OmuozBMlhmhqw8aLAh6TWt10d6QSnV86Bu0Cae9+b7m0sdeGPYUpctbqF+M7Pmea\n",
       "pRb/Ip3DLZ2t/kYW/gEOWZP0UCBU9AAAAABJRU5ErkJggg==\n",
       "\" style=\"display:inline;vertical-align:middle;\" /></a><br>"
      ],
      "text/plain": [
       "<IPython.core.display.HTML object>"
      ]
     },
     "metadata": {},
     "output_type": "display_data"
    }
   ],
   "source": [
    "nat_closure = Forall(a, InSet(Neg(a), Natural), domain=IntegerNonPos)"
   ]
  },
  {
   "cell_type": "code",
   "execution_count": 6,
   "metadata": {},
   "outputs": [
    {
     "data": {
      "text/html": [
       "<strong id=\"nat_pos_closure\"><a class=\"ProveItLink\" href=\"proofs/nat_pos_closure/thm_proof.ipynb\">nat_pos_closure</a> (conjecture without proof):<br></strong> <a class=\"ProveItLink\" href=\"../__pv_it/theorems/1bbb71e66789c1bd5badd2d57ce6f726f26b0c3e0/theorem_expr.ipynb\"><img src=\"data:image/png;base64,iVBORw0KGgoAAAANSUhEUgAAALMAAAAZBAMAAACIvQJIAAAAMFBMVEX///+IiIgiIiIQEBB2dnbu\n",
       "7u5ERETMzMzc3NwyMjK6urpmZmaYmJiqqqpUVFQAAAB6qHgnAAAAAXRSTlMAQObYZgAAAAlwSFlz\n",
       "AAAOxAAADsQBlSsOGwAAAtZJREFUSMeVVk1oE0EUfpvsn/lZo/aoEoLYqgeDaBAvxkNF8IdtrEIv\n",
       "NlZdfxCMIOJFu0UQClXjoeChaEC8FQ0iik3RLaJQRakV1IOHiFDxoOhBEEHwzWx2d3bXTjcDOzPv\n",
       "ZeabN+97700AIrQX0E6r45eMuDZdbwu6jJ9ajra2j3SqX6fyoWEqGvRJ0q3w6xIZvyytN0ZB3LrF\n",
       "gY7pAE0y+chDVvPEKcWAdnlAlmfuAPS7VguIO0Em13nQyaLjFLYt0v2y1iVaEIekYRQMvKb0C+DC\n",
       "gk5fXMNuMqhNBbjV3qGBMddqGLNPF2d40IPEvnxIvckehIHcGgo9khlmoR/g6RbCc1lcSlxdDanH\n",
       "bDqvtRyjmV+EIgO9DL8NudxGLvRXx99Ou7JtCPs9dD7suFwzZTjBQN/FHx4CHOFCG4Q0i4m7zXAK\n",
       "902DLwA0U6mXSk42ohsraAOoTS70DRKmDBt7LbiHw1sqVD1oeJU+5K26iuTLulhjmS7sPOwnfx1+\n",
       "cVzSlyOtE54ArCJmkd8UdGdudQta0z97u/pxRzrjsqisNGoxU+zRQ1bHmdMLIP3B4RZNwjJjtdQs\n",
       "MVZXyJ3cfG+gmILzI6A2Go2JeRwi/YTUDxxnqZRloOG0zIQsyrB7FLveqR0g2FzVA8kwR9LYKxnS\n",
       "X9CqHwCeU2mJm+holnDW20UiBC4ii1KX8hv222l2ueKHJhEqMkwfhFly+n07353r0Mkjb9VTehWE\n",
       "StaVPIxTXY8YiBByvpL15AMd5z7hlrX2HeZu2zTdLPgrzWNnEq9hqZo2DGMGit2wzwdNKewM1cPW\n",
       "YYntdqL/P1lJqJjyM/0MXfregu5w5XsZqocWNxlI5WtZZg6O6zLxvJiERNa3SiGlSTYDey/xn4+U\n",
       "S05i8s0uUI/i7PX3juOB7PzmC+BWO8aHjgVM6TWM2nxv45BfJ5h86IhvY+jxWrhFfdHb/B9CSUba\n",
       "/gGjEZpufgK/WQAAAABJRU5ErkJggg==\n",
       "\" style=\"display:inline;vertical-align:middle;\" /></a><br>"
      ],
      "text/plain": [
       "<IPython.core.display.HTML object>"
      ]
     },
     "metadata": {},
     "output_type": "display_data"
    }
   ],
   "source": [
    "nat_pos_closure = Forall(a, InSet(Neg(a), NaturalPos), domain=IntegerNeg)"
   ]
  },
  {
   "cell_type": "code",
   "execution_count": 7,
   "metadata": {},
   "outputs": [
    {
     "data": {
      "text/html": [
       "<strong id=\"int_closure\"><a class=\"ProveItLink\" href=\"proofs/int_closure/thm_proof.ipynb\">int_closure</a> (conjecture without proof):<br></strong> <a class=\"ProveItLink\" href=\"../__pv_it/theorems/4fa453d474de6b95923d5692650917fcf5c977580/theorem_expr.ipynb\"><img src=\"data:image/png;base64,iVBORw0KGgoAAAANSUhEUgAAAJYAAAAVBAMAAABWCwqnAAAAMFBMVEX///+IiIgiIiIQEBB2dnbu\n",
       "7u5ERETMzMzc3NwyMjK6urpmZmaYmJiqqqpUVFQAAAB6qHgnAAAAAXRSTlMAQObYZgAAAAlwSFlz\n",
       "AAAOxAAADsQBlSsOGwAAAllJREFUOMuFVE1oE0EYfWl287sJEXpUCYtY9VREgzfjoSJqJcUa6EXj\n",
       "T9f2oM2hB0G0WwRB0LIiFQ8eAsWTPQQRClpwe1AogsRW0IOH9aKepOJFBMGZ+Wa2mWVTH7yd/d5+\n",
       "fDvzzZsBtkJGMiL1St0SOyS7kCtFcgoPfj20L/pcD3j8Ob5UoUrUsD0SJ6424WWF/oLHj+JrjUlq\n",
       "yNb0ON9Gwh8W+k2+1kZ8rWVJDVZbj4su6mZD6Pw3Rie+1qCkjoNybRfsvXw0gaViU+iWz6bXo10e\n",
       "MYLHtAf3w7Wmg+tS32/bB+Jr5avEEHNHZtnzlHi/s9m2VG0cpC8B4/G1sj4xtMMhTLEKq4hs1wdL\n",
       "+ITpc8gE3a2snLgku9vXISqc9vGMDesi6Fq7Rz1a5zM0WmrhO51Wn2uMyOknW8Qxm2MAr4BdTJ4R\n",
       "qaw19m7ahM5xoCb0Qils/Uu2HRZu3IVeS6EC8w8bFsTubdqozi31nXRvhT1GV44xy4lvbWWgyBrN\n",
       "n7A22LgmonKof2MOMzdIH55neXvSv1EnL95rqv0pEVWtvyh6n4A3ItoWOqL9lHW5TPqtgB+E9CAW\n",
       "xbcRQ2UZAVHhPNb4nJ/TJndCR8wjc6VBOjdtspUIsOo4TgfVIZyRfywTFc72X/vCcvfRLL8+IXVh\n",
       "suIcrlSVDpxzU69r08JEH30MSXVAUr+oZPXcUTpDUR1Jd2axluJeMPLIKfWtpH4a/B6nROm55fcn\n",
       "kbnM3t796J9UPUq5RA23e9ybEX3UcVrdMTeRGb2PJnrUmvjPHT0r2X2NuvGpTP8HxXmICAnFTEkA\n",
       "AAAASUVORK5CYII=\n",
       "\" style=\"display:inline;vertical-align:middle;\" /></a><br>"
      ],
      "text/plain": [
       "<IPython.core.display.HTML object>"
      ]
     },
     "metadata": {},
     "output_type": "display_data"
    }
   ],
   "source": [
    "int_closure = Forall(a, InSet(Neg(a), Integer), domain=Integer)"
   ]
  },
  {
   "cell_type": "code",
   "execution_count": 8,
   "metadata": {},
   "outputs": [
    {
     "data": {
      "text/html": [
       "<strong id=\"int_nonzero_closure\"><a class=\"ProveItLink\" href=\"proofs/int_nonzero_closure/thm_proof.ipynb\">int_nonzero_closure</a> (conjecture without proof):<br></strong> <a class=\"ProveItLink\" href=\"../__pv_it/theorems/2a11c071e594b5675104481d30ad486db198c9350/theorem_expr.ipynb\"><img src=\"data:image/png;base64,iVBORw0KGgoAAAANSUhEUgAAAMEAAAAbCAMAAADyORvnAAAARVBMVEX///82NjYbGxsSEhJKSko9\n",
       "PT0oKChfX1+IiIgiIiIQEBB2dnbu7u5ERETMzMzc3NwyMjK6urpmZmaYmJiqqqpUVFQAAABvRl5h\n",
       "AAAAAXRSTlMAQObYZgAAAAlwSFlzAAAOxAAADsQBlSsOGwAAAzdJREFUWMPVWOnWozAIdfbsC0l8\n",
       "/0cdwMQ1Vb9p/TE5bY+1KnC5XEiH4b9aZvjPl478qYV+zkaKDwbgC5sQwxAtHsATNjI8mYLi6VM5\n",
       "/Bjx0NsHaBpmuM7B/KenR+aOH6kYVK7Z+PCyqR6IfO7Lpekc1KiCldIqfCZYWj/wnQbHEUi2JOmw\n",
       "LDelt3mq2qOuKk1c2RK2EFkCvzb3TBEoxkCQ9zCXXvDvRgB6T6aXK1zoIkB1Wrdsmsr6iUUjnzZ0\n",
       "7FoSPlAXY0UDrrOZ4EbRotOT38Si798ss2ipZAIirdDQ+d0ApvxSim9crMyONRJX2LYucANziR8+\n",
       "012QmtZvQAGmClh4OwVCtiq8cXFY5ykG0WEVOu3mVNnlAuxoUL8JBktR9FK93+ZK2JZDpyNp4asM\n",
       "6bI6368KdHr2O/fVK3Lawe1i/GcttR141+YUktdWqqVVovoagoK2CH54RVzXerUvt7sWIexFFgez\n",
       "oT5D9ivKkLIP0Ki2Kpa+e2slzS+GFT+JB8GvX84zRVkN+Jp1ronhwa6s16hYNVUuC6GCkS/SDb0F\n",
       "SNWuWsshNsXJqTNymCkC4tgRBieKtfi7RKy1mSuNRzejjmqy5ED10VB2MUmUWtzo6TierPpeTvqU\n",
       "H13N13HCAKg6hql32RMBNAD8+Q3YAz1RQbovsciMZCM16LNcJa+XelddN+OpgPvaCpoYGJ2E9vu2\n",
       "D8OWQzUHe2xKxdKKfgR50qvM96UV8OJ4A8ponGwVeTZgVV3wqqJnkDIc1iaxyWeGG3Pw6ydQDph0\n",
       "B+IJdRTKtVQJQr6hsZHckDtKyqh6m89mhaSWlM3TiKOTcZUCI4ZmzbRcoBYl/woQ10fNFKGdL2Ky\n",
       "JePmJxvNVnhtUDhE4IBqzxoV7MGiGuR5LwWeZy1ho7GQ0Qi3jvOm0Ur4UCGdEpT72d9upoqba996\n",
       "DBHIJnTWLYHH7LiMzfUWsjEjXe/U4O1Rfp5NtyBSGcRk1i1aM3GjvDPaNVbaq0H9QxvEdKi4CCkL\n",
       "ndhEE9NSkL823OrZJZ8o/KZQ/UcikP50eKA6+OI/D/PWxp9vI8VnAnhgn3y9vfzony/2iac++n/R\n",
       "Xg24Vv8CRo4pF6VdOOEAAAAASUVORK5CYII=\n",
       "\" style=\"display:inline;vertical-align:middle;\" /></a><br>"
      ],
      "text/plain": [
       "<IPython.core.display.HTML object>"
      ]
     },
     "metadata": {},
     "output_type": "display_data"
    }
   ],
   "source": [
    "int_nonzero_closure = Forall(a, InSet(Neg(a), IntegerNonZero), domain=IntegerNonZero)"
   ]
  },
  {
   "cell_type": "code",
   "execution_count": 9,
   "metadata": {},
   "outputs": [
    {
     "data": {
      "text/html": [
       "<strong id=\"int_neg_closure\"><a class=\"ProveItLink\" href=\"proofs/int_neg_closure/thm_proof.ipynb\">int_neg_closure</a> (conjecture without proof):<br></strong> <a class=\"ProveItLink\" href=\"../__pv_it/theorems/b69aebe2fb130d3fe54c748af366995ce0982c230/theorem_expr.ipynb\"><img src=\"data:image/png;base64,iVBORw0KGgoAAAANSUhEUgAAALMAAAAZBAMAAACIvQJIAAAAMFBMVEX///+IiIgiIiIQEBB2dnbu\n",
       "7u5ERETMzMzc3NwyMjK6urpmZmaYmJiqqqpUVFQAAAB6qHgnAAAAAXRSTlMAQObYZgAAAAlwSFlz\n",
       "AAAOxAAADsQBlSsOGwAAAspJREFUSMe1Vk1oE0EUfptks/knokeVsIhVT0U0iAeNh4qIlQVLoBet\n",
       "Std6UIN6EES7tSB4qStS6aGHhSIIVgylWmiKbhCF4mWtPYh6iBf1WJGCCIJvdtKd2Vm7SUUHZjO/\n",
       "37z53vfeBKCNkrFgjSXd7sIPa0WGRF9762STLBb2tthTbw86buNnk38slRcWZe9+v6eetle6EQ2g\n",
       "QRofQ6GHyc6SMLhR6EvnK2AmWRdxZ0ljLBR6GmuvOJjUBMdVQbK7QdGxDCCJywDXW5P+E+tcQDVV\n",
       "fz9nQFnmcMbp6TEnDFlBA6AzMLy7efNT6nbX1wAzuQqbfoqnI/PJUKOlAlJtBobHqTvveMQojavc\n",
       "9HqsO1V1Vyh0DmHTvBdHDgzh96jbvsUoj2v93KLHODED0B/Ei3HaQwaTNqe7PXAB982DIIDFDC/I\n",
       "QSRnBBKN0EhN4nSE88YxG6bw563b4Ygyfbzetsg9YnyKuDFtZfb5oCOohSgu6VVJ6YDnAFuIWS6/\n",
       "SKe6lbrEOQzA6DmBO7J57zRls25lG13wJGB1lDu9CDKR44SrCya3MpHwV2Y1UYvpxXsNu9l6Gkqx\n",
       "2lRtdhVC5G+QWcLfBbdX8Ma/oLLlJca1gZ/uUfz01A9hNJGIvvYgX/JZnUNr4sxD8i/UzDuAV25v\n",
       "nXfj6kNcWvApBIbRKnmb8gPKbpqpdL33Q0sYLjHO0ydhoVql4Y9XcjzpjULiHOPnhWtVhWQApRMm\n",
       "KXRa6vNBpzAaFWYOHN9w5RNu2UHv8Pk+HZ04W9T3F5n8n600ohamqnnMLE62IpdMn65hL9aOQLJv\n",
       "HpY6SAP9z8FKpGLEX2qXqdXwKB/MfK8DwrfDn49lz2pjcFKLa/QdlIQQukSoNIS9N1s8px5Gau7N\n",
       "EUicwdbFsebzwEnE8QmYloFw6IhgSo+uW6u9jUNCOjT+ydsIi//tRf+b/yHott8bGp6cWjsCAQAA\n",
       "AABJRU5ErkJggg==\n",
       "\" style=\"display:inline;vertical-align:middle;\" /></a><br>"
      ],
      "text/plain": [
       "<IPython.core.display.HTML object>"
      ]
     },
     "metadata": {},
     "output_type": "display_data"
    }
   ],
   "source": [
    "int_neg_closure = Forall(a, InSet(Neg(a), IntegerNeg), domain=NaturalPos)"
   ]
  },
  {
   "cell_type": "code",
   "execution_count": 10,
   "metadata": {},
   "outputs": [
    {
     "data": {
      "text/html": [
       "<strong id=\"int_nonpos_closure\"><a class=\"ProveItLink\" href=\"proofs/int_nonpos_closure/thm_proof.ipynb\">int_nonpos_closure</a> (conjecture without proof):<br></strong> <a class=\"ProveItLink\" href=\"../__pv_it/theorems/f00651731b831caac8ef0300c069b223042cd7ba0/theorem_expr.ipynb\"><img src=\"data:image/png;base64,iVBORw0KGgoAAAANSUhEUgAAAK8AAAAaBAMAAAAzuxGAAAAAMFBMVEX///+IiIgiIiIQEBB2dnbu\n",
       "7u5ERETMzMzc3NwyMjK6urpmZmaYmJiqqqpUVFQAAAB6qHgnAAAAAXRSTlMAQObYZgAAAAlwSFlz\n",
       "AAAOxAAADsQBlSsOGwAAAwtJREFUSMetVk1oE0EU/vKz2U3z0xQ9qpQgVj0V0SqCmh4iIlYClkAv\n",
       "apXGCFaDehDEdmtB8NJGpNJDD4FiEawapLWiRbeIQvGy1iKiHtaDP8eKFEQQfLOz2exuumwjDszs\n",
       "vDczb96873szC/zPEssj2J5azcxoqS673cAcJhDxnvqxHrvRM9TsRKMsHfeaKhSpkew6yW2yr5eN\n",
       "LiOgktseJaRQs96ua0g4A3Dz563kSUXcwwRxGX4F/gygMfGTi+FBts4Jxjqnp2cLKIaBd2luOJCA\n",
       "j6w+YWOjLoanqHY5leGMXY6U4VM6qDOR1kPRqEJYBvpYYNyC/ZvqbA1GZbscl5EVdAt9jzl4wBjf\n",
       "P6iubJfOBbTWqHcYITiR3KIjDMzEC7pq6AuacJ86j2h/wifshnMzhbhYox7jIN4wQyJql42eTAky\n",
       "Td81VLclk9tdDMfJaMSK3VD7ALWH9f71aqhDmR7Hygc0OAP0uLGNIhdWLEzbhXO0Yh4OwBejTgr2\n",
       "U2iGIGkW1dWpUnRvBX8a8Fvif0TBQ/q81QVLiBjZIOao5A3NcImdI1i5EMQNuVJMS2PakP2Ef4AG\n",
       "u5KstOA5sJG5o8+lECY3cSjUg4Cdg8doVSxhYveUDhCbiyBl8ThguYbaIDACjutcqFI0y+j63WZ4\n",
       "mLGkyDK7c+4A0Zwl2pU7idTKoRB+ILpE3wVdajb134jJwpI9xsRldIzQms3iL2T1zC+kP1QMx8mT\n",
       "UBUX4Q/x5D3wSpeaTLKV79LU5hpWYFBjaSm2YpIbjvgqp/RRcgQtyHZjoVzmiU7HUU2yjUDqtSfv\n",
       "C92vAosk3RvzBKsaKwipCuANlHmixZWjay99pslbuf9fb3Pt+Om23L42+1X1zERRDr3MXOQe4555\n",
       "+t1UW5zsloytGvbzlF6pjFU6Abl/MhPK8MfIp1lvt9fORRHF8y1ht5ux++ybQ5BOUe/8qHFHs3KB\n",
       "hVB2rLq2ikdKs8uduZz98YyrNsLykvc27JdX8+YNOK482duw55uHxX/6vfB+pev8rzDhJRb8BQwb\n",
       "rlJgX/45AAAAAElFTkSuQmCC\n",
       "\" style=\"display:inline;vertical-align:middle;\" /></a><br>"
      ],
      "text/plain": [
       "<IPython.core.display.HTML object>"
      ]
     },
     "metadata": {},
     "output_type": "display_data"
    }
   ],
   "source": [
    "int_nonpos_closure = Forall(a, InSet(Neg(a), IntegerNonPos), domain=Natural)"
   ]
  },
  {
   "cell_type": "code",
   "execution_count": 11,
   "metadata": {},
   "outputs": [
    {
     "data": {
      "text/html": [
       "<strong id=\"rational_closure\"><a class=\"ProveItLink\" href=\"proofs/rational_closure/thm_proof.ipynb\">rational_closure</a> (conjecture without proof):<br></strong> <a class=\"ProveItLink\" href=\"../__pv_it/theorems/7539f9f205bbc746114b3d43d0ff9c7adf1a804b0/theorem_expr.ipynb\"><img src=\"data:image/png;base64,iVBORw0KGgoAAAANSUhEUgAAAJkAAAAWBAMAAAAhlCOEAAAAMFBMVEX///+IiIgiIiIQEBB2dnbu\n",
       "7u5ERETMzMzc3NwyMjK6urpmZmaYmJiqqqpUVFQAAAB6qHgnAAAAAXRSTlMAQObYZgAAAAlwSFlz\n",
       "AAAOxAAADsQBlSsOGwAAAq5JREFUOMudVE1oE1EQ/tLuJpvNpqzgwYOWEsT6g1DEPzxFkNqDlgVL\n",
       "oZeaCl2FFkykoIjYtILgwRARQUEkouIlhyiCUAtNwCqlFmL1oBAhBelBUfQmiuDM/mV3s8nBBzu7\n",
       "M/v45s33zTyg7crSI3lDUru9bVeoSmaLNyar/l1ivz5BUPfps85+rQXae3riSV9ws39X9wHMfqbU\n",
       "ZWCO/dvBYGKezIg/GtW8vvCyDHkuBdwCLjMVqWC0GGXDvD+qlLz+VJRMqgIsm5mEajBaJ5u+pvA+\n",
       "i9RTiR38Hh8lc5QgOzUolD/agraPTFu+KXzXVOOGWbGYypD9FEsjSlB7Eom9LdCecbVuEXKHZ8gO\n",
       "Gt/XLPoiySLZolKFQIo+p7O2QONDcEKnOQ7iLGEswa2crK6QzcTLUKiMHKS6G2Jo4rvdh7vp6XBx\n",
       "eqKMp/R6Zzg2A1KS+6sYKiBOFIc1oWD9iHTrBekIhBXLP8RK0M+RBK9eLABbKTRt7CWGEtv4y+JN\n",
       "Q+QH0aw6IrxIk77XIb7JetHstR/ib3o9MMm3o+M5S1OZ5c9XuL7KgNHMOP8BUNXASsWfUCg9Vg2v\n",
       "xw4/NPqN6olz6Dj1sLg98gvD/G+x3EAboyfcGEvxL7rylOyV4W1wepxn4QsdVeHjXiERYqVIH1hp\n",
       "A0m1uoJbQXBJNIbVUslsHBLbOfQgzelXu5m60sxOqI4lXderj12VnmO2expooxsvrNHmneZJ1x/Z\n",
       "qi7c+ZNmUmyKT2bDi9qUMcMuFTp4T6+/CyULX+43J4vPw9Rj1pnI7HRRC2tGl0Coued7OfAu8K61\n",
       "0LeLrvtBnn97DNJpo3t33Uvb4TMsg/9Ovdo8NPH1m5NNN9GQrlPpA5ecwLCnsVwpglY48CqP1Z7Y\n",
       "dEosx4zvdm91/28KDmde4z/XP5qVm2Qhz6lCAAAAAElFTkSuQmCC\n",
       "\" style=\"display:inline;vertical-align:middle;\" /></a><br>"
      ],
      "text/plain": [
       "<IPython.core.display.HTML object>"
      ]
     },
     "metadata": {},
     "output_type": "display_data"
    }
   ],
   "source": [
    "rational_closure = Forall(a, InSet(Neg(a), Rational), domain=Rational)"
   ]
  },
  {
   "cell_type": "code",
   "execution_count": 12,
   "metadata": {},
   "outputs": [
    {
     "data": {
      "text/html": [
       "<strong id=\"rational_nonzero_closure\"><a class=\"ProveItLink\" href=\"proofs/rational_nonzero_closure/thm_proof.ipynb\">rational_nonzero_closure</a> (conjecture without proof):<br></strong> <a class=\"ProveItLink\" href=\"../__pv_it/theorems/23ef2a4ac4830aa0de6ac7467e4253e6dbcc8c2e0/theorem_expr.ipynb\"><img src=\"data:image/png;base64,iVBORw0KGgoAAAANSUhEUgAAAMUAAAAbCAMAAAD70rudAAAARVBMVEX///82NjYbGxsSEhJKSko9\n",
       "PT0oKChfX1+IiIgiIiIQEBB2dnbu7u5ERETMzMzc3NwyMjK6urpmZmaYmJiqqqpUVFQAAABvRl5h\n",
       "AAAAAXRSTlMAQObYZgAAAAlwSFlzAAAOxAAADsQBlSsOGwAAA1dJREFUWMPdWIty4yAM9D0r3iDA\n",
       "//+ph3gY2zi22yQ3c8dMU9I6CO2uVpBp+ueGnP6DIVx+FSDeGMS79yZhYo4C0+RUmuBbggR8MxXR\n",
       "0CvX6WVOU6PeoVnbQTuH9IsBXNaRmak4eKisvHoo32YQzndzJ7gUKg0sGSPN1Y/04yeds2A5GKNp\n",
       "7GLwz4uWL4td1R5cR4NIwjEsiv2nShYcylOU4lKN1jydBYpRWY+GvXJM4UXes0PXxC/rpChqznRL\n",
       "mutGxivqZG6Q4DXS/sIHtJgqFCqLnxT1/ZvKiurVTXD4FSYiPJ1EITp7yI2n+ZYMUCyNzqGSsgIs\n",
       "dM1nQXwCctr6Dgl+X2Gzz1MBrFXFncXsmi9nYZtUEo+uDhDChLok1uUmAOs7yJBxwoDxF7TCaPf1\n",
       "MfYsAaZuTsTV34cqSYJyNc3025NQwrGvuayAIc+v+6w6gnkdkCcpq6o7vyJsdJZkxb5qPHGS/dM+\n",
       "0rFuPd3E+52NgDYQYIhs2yLsuMYkp81g1V1YFc+4QSMW609cQLKN8OBsY4qnEA3CnfUejLFvGZtP\n",
       "DqFZsx3uqt+yPhJgOOenRMOww8nbU90ot3VxohRZsiC9jWBoiEo5AkVk8w7r457ko8msuODHmHDV\n",
       "g5K81qU8ylOavUc94kJXPsfTCJZySWsY2r/03kwCET9+Y2qUhlTB9OcUJWeK4hsFga1YPDwx9X4R\n",
       "Tv3d1FbRLEIKD8KsDwhah/wQTND1VLnYF0ZskCo4ziIUIysr+hUBcPABbL07utOG7KpbGF5BlMyU\n",
       "1DrFXpZ8KIvExa+fSFxkmAaaoWlEHHsFJRdS8eBox/YAbdHOUedd3reoUTcZUaUVW2g7qxykHCjN\n",
       "tmDyKG8eoTJpdlyHEYQ2EUo05jb/Um6oYIOztTPqi8PbHjKqynxG9Dafg1WY3EZReN5Vlqpm+vr8\n",
       "y/Z1oDYnkAbv5QVi35wkiUl5KalzLrz26r68ji4i8ddXPrx1EYgJvRi0OzPaPbKcysJ5uW7lOpMj\n",
       "bt0+9GKe6uqYf/cIHaKyXJ0E90MNOvQBsjMYpXvXY2ijvhUzhpMOsK30528zVbzm8rboqqj0zXtg\n",
       "vx2ZcznDq5L4xL0bg0e49RVNeOe3RE8IsxaH1zexcX81i2KafwBnlizklf6zOwAAAABJRU5ErkJg\n",
       "gg==\n",
       "\" style=\"display:inline;vertical-align:middle;\" /></a><br>"
      ],
      "text/plain": [
       "<IPython.core.display.HTML object>"
      ]
     },
     "metadata": {},
     "output_type": "display_data"
    }
   ],
   "source": [
    "rational_nonzero_closure = Forall(a, InSet(Neg(a), RationalNonZero), domain=RationalNonZero)"
   ]
  },
  {
   "cell_type": "code",
   "execution_count": 13,
   "metadata": {},
   "outputs": [
    {
     "data": {
      "text/html": [
       "<strong id=\"rational_pos_closure\"><a class=\"ProveItLink\" href=\"proofs/rational_pos_closure/thm_proof.ipynb\">rational_pos_closure</a> (conjecture without proof):<br></strong> <a class=\"ProveItLink\" href=\"../__pv_it/theorems/bdb87ff79817c8dcee97b7cdb16f38c8cd09650d0/theorem_expr.ipynb\"><img src=\"data:image/png;base64,iVBORw0KGgoAAAANSUhEUgAAALUAAAAZBAMAAACFo3IPAAAAMFBMVEX///+IiIgiIiIQEBB2dnbu\n",
       "7u5ERETMzMzc3NwyMjK6urpmZmaYmJiqqqpUVFQAAAB6qHgnAAAAAXRSTlMAQObYZgAAAAlwSFlz\n",
       "AAAOxAAADsQBlSsOGwAAAvlJREFUSMelVk1oE0EUfkk3u5v9KQuiFg+l7EkoShHpoXjIQbCHKHuI\n",
       "xZOJguvvIdqCFzGL9VasQRA8+JOiVMSiEdSKCZIiRUSLKxRULFKpIF6kF0E9+WZ2d7I/6TbBgd3N\n",
       "vJ359r3vfe9NANoYSgU6GVW85HYXf+4IGgp4iYX21qbK5G4FjVY8Nsy1h8038Jawg8apyLKcaT5r\n",
       "YicNgGXyYykWe5zcFkPGRCNsWCmK2zMMO4HAz8mPa7HYjxkv/nE1NM9mAe5Pg2yag+Yp3PAL4Pz6\n",
       "xP8leQ+7CW+CUyGDX+cVzfMbrgOkkRfOjoMW0APoipi7DOe5SddJTPx+JIErlhn2U9QuOpSOdTvR\n",
       "h7dPEXPaieTeRmc6IqDLqj3LsDfgtUPXd8Zid5ddzr0hfutBHI6qQPRoH5PwW1JjgWE/xLjwS0fi\n",
       "JVhw2GPjtsUjTQrNbtrT+ZSCxArakluXAKUiwCSIy7HYafJ6m6+UdoGMNKkD9KVnvahSv7ewZZex\n",
       "UfAGF2gXuZM/gzWXJH4MIeYVnYyivApJ1LGwSl6OEhMJjHf4fsK25RFV1di3hV6zIu4GbiHq95BP\n",
       "IAW6T6J+jzDmDjCduH4jJ1BmpV/DKXcJUm+tiVqtVlmDk7wG7/Ch9tGgPKvk6Lup5hKJfi9JdW5u\n",
       "2Cnjsx8BNC2gExLyIR+2DT9UCxSntNnSOtblg+nmMqITGEe/UluF3058840wdoIEv8+nG03tx/Ys\n",
       "094BNzwzR/pJtbnsJfULmZCrwgDMkBnB1TJ+bInU5RmfTr7umdyMbDicHTzh1idM/Lk169v2guWn\n",
       "gn3rtWma9t0IJzSPyWJYmhfc553DupvA74p/H6uIvMXPG2M0NJrLSB9UqmHserSAtd4PTM6kD7p+\n",
       "W6UZgzeoDoELtfNRcjsWAmrVO78cH2TtUmEFKdXfZ0E8Smun/2Yo/m7bL2Qvo1b8YZW0IqcSxjR8\n",
       "rtV5KQZzAD3rHIStz0t56VHoP8MidDzWOm5Ov/q//yfUQczdP8bcsTqHkDhSAAAAAElFTkSuQmCC\n",
       "\" style=\"display:inline;vertical-align:middle;\" /></a><br>"
      ],
      "text/plain": [
       "<IPython.core.display.HTML object>"
      ]
     },
     "metadata": {},
     "output_type": "display_data"
    }
   ],
   "source": [
    "rational_pos_closure = Forall(a, InSet(Neg(a), RationalPos), domain=RationalNeg)"
   ]
  },
  {
   "cell_type": "code",
   "execution_count": 14,
   "metadata": {},
   "outputs": [
    {
     "data": {
      "text/html": [
       "<strong id=\"rational_neg_closure\"><a class=\"ProveItLink\" href=\"proofs/rational_neg_closure/thm_proof.ipynb\">rational_neg_closure</a> (conjecture without proof):<br></strong> <a class=\"ProveItLink\" href=\"../__pv_it/theorems/cb1ca9a9d72781b1897ba5cfe092e89f426ae5960/theorem_expr.ipynb\"><img src=\"data:image/png;base64,iVBORw0KGgoAAAANSUhEUgAAALUAAAAZBAMAAACFo3IPAAAAMFBMVEX///+IiIgiIiIQEBB2dnbu\n",
       "7u5ERETMzMzc3NwyMjK6urpmZmaYmJiqqqpUVFQAAAB6qHgnAAAAAXRSTlMAQObYZgAAAAlwSFlz\n",
       "AAAOxAAADsQBlSsOGwAAAvFJREFUSMetVk1oE0EUfkk2u/ktK3oSLSGIVQtSRIt4iiBSMMqCtdiL\n",
       "f2Ba8WDEgh7EbKkIItp4EDwUjYj1YNEoasUE3SJVihZiFRQsUhH0JnoQVBD8ZjaZ3eyGJJUOzO7M\n",
       "2zffvHnfe2+WqIkWydF8W7hZxQ/zhqbAvub0/Fmm7FjbaNFEc9iygcfyallIdal1p1KPrJlXI5pj\n",
       "g9m62EPo0YRDuMyp5fmcDqy1tDwAfswGl+ti30fvdQqDmkOQTBLdGiUlhdYPR/4kOtXY8X/Qi67Y\n",
       "yVfPlQRYkSOWq0bM/aVSPWgFFlCHS7yhfPYD8dWclF1wgpTOiu8PsT+ICtY12xODu7Mu8YjJ6cWy\n",
       "b3oUmBwtjYvvi9HXxePr62K3ADdsp/LC5kE8d/Dx2YrbB0IwMmRMC607+IKdDtZAtMBksBE0bOG3\n",
       "kY5g3RRVRcG1CByrqFbEZdKwggJzNbAtqoL47LUxstOge3i94RPhq9NRbvdSoTaMQiFrUlW56D78\n",
       "Ta/C9mLog0pvnLU2ekq0gtnFeYZH4yv56Ux/PxDL9mJJVBVUKq2pXGALSdMuu3227TvJz6LyOi8H\n",
       "Inrl3Y44GU6zY4nUL2AqnSf/K31bob2Qq+0T/w+KfMd7hs9iggUzvi29DDv99kvMExNd5GGEHX9P\n",
       "pKp2u1tgm2zlhP8vIgdKz/lskZAXkZe3R6kqTmgIdvlXKb+oh4kmDSe2B3kj2ejeTzP5vFkJcChh\n",
       "qMTqiS1Zn3G74IlwXumgMTZjuGrCjh1CXioxa9GeJSc+Ycka8xRfblTk535fHbfFxJPKwJdD3ZpC\n",
       "lSndLPvEliyb0Ntcxb+8W2irmfNoXyOqK29ZwOjypDbAj8a5dNXBl65Ly3AnsNr6TsQTq4Nlu/XM\n",
       "mCZrPA5JcpTzYyzEdAfQmRr59vFQp9gxIhgKFV8nKdDHc6f9StphT8keyOXW3+Cy8uquWwln6jpZ\n",
       "674cdBRH/b/uy/DsXcc/w9uFu+ePvliA/xNw9w9x7rJ2+PIl3wAAAABJRU5ErkJggg==\n",
       "\" style=\"display:inline;vertical-align:middle;\" /></a><br>"
      ],
      "text/plain": [
       "<IPython.core.display.HTML object>"
      ]
     },
     "metadata": {},
     "output_type": "display_data"
    }
   ],
   "source": [
    "rational_neg_closure = Forall(a, InSet(Neg(a), RationalNeg), domain=RationalPos)"
   ]
  },
  {
   "cell_type": "code",
   "execution_count": 15,
   "metadata": {},
   "outputs": [
    {
     "data": {
      "text/html": [
       "<strong id=\"rational_nonneg_closure\"><a class=\"ProveItLink\" href=\"proofs/rational_nonneg_closure/thm_proof.ipynb\">rational_nonneg_closure</a> (conjecture without proof):<br></strong> <a class=\"ProveItLink\" href=\"../__pv_it/theorems/ba95bcfa4ac296ce9a839162ede75099a28f51310/theorem_expr.ipynb\"><img src=\"data:image/png;base64,iVBORw0KGgoAAAANSUhEUgAAAMUAAAAaBAMAAAD1foU5AAAAMFBMVEX///+IiIgiIiIQEBB2dnbu\n",
       "7u5ERETMzMzc3NwyMjK6urpmZmaYmJiqqqpUVFQAAAB6qHgnAAAAAXRSTlMAQObYZgAAAAlwSFlz\n",
       "AAAOxAAADsQBlSsOGwAAA2NJREFUSMe1VltIFFEY/nd3bu4lJ+ohIkWWyC4QEmXSk0KIkMWAJvlS\n",
       "GbTZjSYSCoocNYKQdHsIepCaiOwhsS00oxUbESspZbOgIBEjqIdA6mGhgqD/nJkd52a7W3TgnJnz\n",
       "zznnv3zf/58B+A+NP0IfTFVlfvvCah6L64+TcRR6IZSPjvd5WeQ7hsNWKFSE/blvYuM4CHaZ8Ce3\n",
       "m0BIQyCFzuTcOA2HIrssKLqDFIs9MpRU8Gnwa+CXAOaIYCarjg7sESeEq1wh+igLG+kqtlpFHQER\n",
       "fKjgMZFcy6pjAHujU1ggOQS1tQB3e0kYR2QSq8IUsGmA80SSHZif2IddQU84OFuJqHFhEYR52cAc\n",
       "oEe3hUllZTxaA2Uu8RYjRAei6yhouzEwjBxnvyhkuhT6cXyItiCYBdm5WIJwxF3iHh37K0bMGnhk\n",
       "QSQ1xEpGDg7iuAz7pmh0c1YdS/D8kBXyrqo2HHfR90sZWFqCaHBQm7RtvYdfhwAOep5rBZRDxAo0\n",
       "C20r4AR+nwAbY26GMei8aGdpK0LTBcKcl4opWShaYTIIl/gtqNVp8AAfr+nEjOGFCPVjJR/D1mwI\n",
       "u7EIcRJjK0X1R+cRMXaHjHQwgfIjgwK4rDFKWik8AVhNbKR8wGhH11BvdTwGbbbuw20R0TyJL46p\n",
       "wnZgJkEYQD11EJAsfgQsppQDS9h8i6abyXxuj84rm45uQuO4WVKSOGUuA/tSaSfntYNf9o4V+w3C\n",
       "X/E5TWclJkp6ftgzoZXweOdVEqHRGvARUE+/AxBFmFKpH0qGV2grt1Ce2F/INFz4FPQ8yLRhzPP+\n",
       "XnDxCjrQRnYt/x0aiGhcozpgVsO0MaPow/xjLNRogulEQq8w6KRpOEPqlSP5x6iNGJBQgi+DPjIj\n",
       "54skE86qQtFzMwqY53zJwsa9y898wG3rda8+3c7IO3/cGHLwcyTzElCxPk4g41J39Fg52zbspU6h\n",
       "YGgNVuu1BNvnsOhZCwjBFG5caqHuUsw7k8mk6qy7L5w6Qpq7IIjFb20bSd01/FBa+yROovwFxuM6\n",
       "OUWoqTiEFz1Sd/ZwuU1z2EQxOPyqFoRDNAc3XJc9ClbKmghGa87hAvUrrpsS/aw5t9h93uYoxkoO\n",
       "Orzv89DMfY//nDd/96u12PV38tm//l9ZDEaMfwMMm87NjDazxgAAAABJRU5ErkJggg==\n",
       "\" style=\"display:inline;vertical-align:middle;\" /></a><br>"
      ],
      "text/plain": [
       "<IPython.core.display.HTML object>"
      ]
     },
     "metadata": {},
     "output_type": "display_data"
    }
   ],
   "source": [
    "rational_nonneg_closure = Forall(a, InSet(Neg(a), RationalNonNeg), domain=RationalNonPos)"
   ]
  },
  {
   "cell_type": "code",
   "execution_count": 16,
   "metadata": {},
   "outputs": [
    {
     "data": {
      "text/html": [
       "<strong id=\"rational_nonpos_closure\"><a class=\"ProveItLink\" href=\"proofs/rational_nonpos_closure/thm_proof.ipynb\">rational_nonpos_closure</a> (conjecture without proof):<br></strong> <a class=\"ProveItLink\" href=\"../__pv_it/theorems/d4c14ab80eacf07e1e5ff35f9c606143689700e00/theorem_expr.ipynb\"><img src=\"data:image/png;base64,iVBORw0KGgoAAAANSUhEUgAAAMUAAAAaBAMAAAD1foU5AAAAMFBMVEX///+IiIgiIiIQEBB2dnbu\n",
       "7u5ERETMzMzc3NwyMjK6urpmZmaYmJiqqqpUVFQAAAB6qHgnAAAAAXRSTlMAQObYZgAAAAlwSFlz\n",
       "AAAOxAAADsQBlSsOGwAAA2JJREFUSMe1Vl1IFFEUPrs7szPuT47UQ0SKLJH9QEiURRAoZPhgsaFJ\n",
       "ElQGbUZFGwkFhY4/BCGpPQQ9SG1E20NiW2SKK7USVlLBZFFBEkZUb1EPQgVB372zO+7MrOxu0YWZ\n",
       "uffMPXN+vu+cO0T/afibSaiqzE/HF8nPRBPROEXJm4/Su/w8OoLbBipU5X25K4l9uMlmmTzvbsdR\n",
       "9nqWXBqCyXm4E7gVm2UexbatPhQaIZI2s7k0S84EOYNEM2w5ndVGJ8uxFcKlNv8/huU12PW6Wrfh\n",
       "UsgBA6Ps3aWsNu7iarQKC4IWQW0t0c0oJtFqnqtCjcRZolaWuezA/MI1ZkM2Zl5LlUDN7WMpbB3R\n",
       "MSfq130RtGwmEDdRuU28Ppmi/YGVHLSdSIwQZvSgnk9URIOY3IMvALMgaxiOUsDRZxP369hfSOas\n",
       "QUIIfm2YL1TU4BCeC3GtDQTWZbWxAN/3pkPeU9WO+3Y+P5eCpcUDhz2J5ybVW3gLqweyUxeIFSTS\n",
       "aLuRjkF3kkyMuepD0iXFzNK2MDwiecb2zd2MfHLxYoNB2OJMQ60uQXfweMkXRg67/DyOJVIIozkp\n",
       "7EUTcgcFUyuqP/wVbOgaYXQwgHKCQS5sawywUUYPiJYxHzkfkO3Ach6tjseQyd29UPMrxpekklBE\n",
       "3kICS+iOUaojVzAtDleaKxUkMjZf423GYL571xyvjNEbZqEaLSWOpXCexGcIhDoiHeQMZ86V+J18\n",
       "3/Cc4qtSAyW9PsyV0MY+tu0iy9B4DTkYqCffEikI+XQ1i0NN8Qq+uufak/gbTMPGR3xVZMjHUOeD\n",
       "UbLxijrho7hC+kENTDSR4DYGedkYWXSg/oQ0ajTRVCymdxjsMxwXWL+yFP9D7iMS4o1J5TTAViwG\n",
       "pXKPxnn1xMgC6lwqnVPcs+jUB6it0qP6fD0l7/55ZdhC0fupiSuC/jgJxmk3krmyjE24yqxCOWnV\n",
       "s1XvJRhffErGXsAIprongi08XI55dzwej1j77lOrDW/C3hCUkjcmRdZ3k3GobQNBd5Dzl4QMx8kJ\n",
       "Rk3VIjyboSO8P1RhsuwzUPSMvagl+SCvwdWXwxkalpZeCMnRnMMB6lRtJyXirDkz33nebmnGag42\n",
       "Mp/n3unbGf5zXv3db9Z8x9/xx//+f2U4DIz/ABFKzP8XngiTAAAAAElFTkSuQmCC\n",
       "\" style=\"display:inline;vertical-align:middle;\" /></a><br>"
      ],
      "text/plain": [
       "<IPython.core.display.HTML object>"
      ]
     },
     "metadata": {},
     "output_type": "display_data"
    }
   ],
   "source": [
    "rational_nonpos_closure = Forall(a, InSet(Neg(a), RationalNonPos), domain=RationalNonNeg)"
   ]
  },
  {
   "cell_type": "code",
   "execution_count": 17,
   "metadata": {},
   "outputs": [
    {
     "data": {
      "text/html": [
       "<strong id=\"real_closure\"><a class=\"ProveItLink\" href=\"proofs/real_closure/thm_proof.ipynb\">real_closure</a> (conjecture without proof):<br></strong> <a class=\"ProveItLink\" href=\"../__pv_it/theorems/ff76f9ebcd0c0692545feadc7e544abbea649f120/theorem_expr.ipynb\"><img src=\"data:image/png;base64,iVBORw0KGgoAAAANSUhEUgAAAJcAAAAVBAMAAAC5yWGZAAAAMFBMVEX///+IiIgiIiIQEBB2dnbu\n",
       "7u5ERETMzMzc3NwyMjK6urpmZmaYmJiqqqpUVFQAAAB6qHgnAAAAAXRSTlMAQObYZgAAAAlwSFlz\n",
       "AAAOxAAADsQBlSsOGwAAAk5JREFUOMuFVD9o1FAc/r27XJK73JUs1bpIySSIUEQ6iEMXsYJKhnog\n",
       "ik1FY+nioeKowYqLcMSDgoPiiV2EKjcIRS1yHSoUBaO4FBwiuLgVQXD0/fm9+BLz6gff5d537773\n",
       "+5cHsCMiZEHSbd0RJBFU8aSwZ3PySm9yKPSUCV81Zl+QuQOGBSHowot3Ptdfs/WDcq9aLJjHUtHs\n",
       "DphWyvWbdGkH5WbOUDCP9/+aOVHM9boPYCTlZlVkQfXFc5fnxZlZwPUmPbmuKdkWMo+6iPXZ6N/I\n",
       "Rk6nQj/oeYc0Zi+REvb3MZfmwXtmLylp3tiKhL4KcElj9hAp8TQyfwE0eXL1bK6Cxd5PFiXTu2Cn\n",
       "yh8+H397X34/gJTNPQLOOEBrgpspDfhwhj2ZbvpGH2Vrb9gnBkxP4fqwYK3nMXScbajQn6xt9ts1\n",
       "JgXCzDzHysj0lpsd8qZDZ5LAhps3y9oYwCw9t8EjayuRWQNWKK7H6/RjZn1azDY1Gx2UpznrwkeW\n",
       "zjhbVNQ5W70r9ZO0L7V91m9xGDHsOTmnc0hplsCPVgRNnhxxFbM2i4Pri7T+zsCagBW+ybmYvQ+n\n",
       "kAjTbe136F5R0keZ2T06rAuoj9BKVfskhc0wDBNCjOdy21Wk7Oa3Y93dNEHRr/MLvrw15iF8nEid\n",
       "ZhCZG/51HhlpLOP7ApWOYB638bl8wYvLdKhGt1Z80+c1g6OyAc2BYB5rmhHP9MbapxNgX2av3J6p\n",
       "s6+kPI9UobtiivpMGPZzQjs3UNgGzf1s/u/etl1BFWOavVT/A1O0kIBka47kAAAAAElFTkSuQmCC\n",
       "\" style=\"display:inline;vertical-align:middle;\" /></a><br>"
      ],
      "text/plain": [
       "<IPython.core.display.HTML object>"
      ]
     },
     "metadata": {},
     "output_type": "display_data"
    }
   ],
   "source": [
    "real_closure = Forall(a, InSet(Neg(a), Real), domain=Real)"
   ]
  },
  {
   "cell_type": "code",
   "execution_count": 18,
   "metadata": {},
   "outputs": [
    {
     "data": {
      "text/html": [
       "<strong id=\"real_nonzero_closure\"><a class=\"ProveItLink\" href=\"proofs/real_nonzero_closure/thm_proof.ipynb\">real_nonzero_closure</a> (conjecture without proof):<br></strong> <a class=\"ProveItLink\" href=\"../__pv_it/theorems/fadd90d88d09961d8ef3dc26b106b3319850e4610/theorem_expr.ipynb\"><img src=\"data:image/png;base64,iVBORw0KGgoAAAANSUhEUgAAAMMAAAAbCAMAAAD2zMvaAAAARVBMVEX///82NjYbGxsSEhJKSko9\n",
       "PT0oKChfX1+IiIgiIiIQEBB2dnbu7u5ERETMzMzc3NwyMjK6urpmZmaYmJiqqqpUVFQAAABvRl5h\n",
       "AAAAAXRSTlMAQObYZgAAAAlwSFlzAAAOxAAADsQBlSsOGwAAAyxJREFUWMPVWNmWpSAMdHa2sATw\n",
       "/z91CIvibs/Vh+Gctu3WS6hUVQh3GP6zoYb/fkiXr5LJF4N49yYEE3MMNgwO0g2+EiTgqzREQ1eh\n",
       "02VMtwbeUKudMnaez3+b3mUFmZFMIUJl5OkBvt6wcL6Yq9jeCoDRclFnRKDxI/34QWcMPD/gdBtn\n",
       "GfjP5SraXFeWY5fBIIvfRQ9q9aGCQeQ0MFo/Th605mMMKNeSOhxWXWOQ+ZduaVZV/UVLY2Za0f30\n",
       "xhP+GGtC8JpSj/cwoBls1dL3b5C1NHuacuG7hMjwMYRCMvF842WxJIIBT8PuYajJnbI9MKqt9S+k\n",
       "p77mzH5OA+PVDXfmsj1XzjK1z0NUqq529gXtcVj/YjlfghLAxQMbX7RLW+xsUZKZWpJk7P6/446C\n",
       "QUOoPg37pcxl7lGvUP57ZYWdFPfxRFoOVMH5jqy9cpIwCMtH3giyR/rVbf828fY2Rkk2LLBtXFsn\n",
       "4fvWUoKwYRNcZxp74GnvpwoXDnoYU+oIUSCP2pzApcVoZyKxVcZtYF5rjXC1wvJ5pGzhmF+SLYFz\n",
       "LkV7C1ZaAuUvSpwqGEhp2wVpFgHSczakoNLIvqdTYltYOh7EfkIEzDFJWPM64Ki2arwSuclaIgDb\n",
       "vgOLTQhDeuZVukhE/PMb065oSA9cf01LaqQgfpwI7gg83B9QX+xbuu4TMrS6oKRn0ix6gYyBKeyU\n",
       "VHnYGCLWcMD2MYRSu0L+oO/WxtgRhkTReVviaokwoiZQcVOAdeySlgzQRImHXz+ReMjS28qPiW3Z\n",
       "7FfFKPtY87AowDbsYcCyfcHZkcQ3SUbdBEQGI3S+w4AgK6TGBtUlbw5zovm+/SKT2kRWgnG3eARO\n",
       "bftWoFoMdjxpIXCdLzJj7gS9zb0uhKIl6coseLGJNDNvrbL1Il8fDWDZa9wc671IkYzAKzVoOfR+\n",
       "cE6qO+fMpg9/fZrDzzv9qW9d5pHs4Lzqt+1SW9WtM6Zu4oSrPv6pU6TfWM+hD0z6HENP3ZiVyQh4\n",
       "i+YYTir+wrHmGQzcnLYU5IevfkkxtQbm/LDJHoLwxnn6+hD67Fc18Mq0736/tC4M2bV/ATy6KlqU\n",
       "oozdAAAAAElFTkSuQmCC\n",
       "\" style=\"display:inline;vertical-align:middle;\" /></a><br>"
      ],
      "text/plain": [
       "<IPython.core.display.HTML object>"
      ]
     },
     "metadata": {},
     "output_type": "display_data"
    }
   ],
   "source": [
    "real_nonzero_closure = Forall(a, InSet(Neg(a), RealNonZero), domain=RealNonZero)"
   ]
  },
  {
   "cell_type": "code",
   "execution_count": 19,
   "metadata": {},
   "outputs": [
    {
     "data": {
      "text/html": [
       "<strong id=\"real_pos_closure\"><a class=\"ProveItLink\" href=\"proofs/real_pos_closure/thm_proof.ipynb\">real_pos_closure</a> (conjecture without proof):<br></strong> <a class=\"ProveItLink\" href=\"../__pv_it/theorems/3459e4d07974906b81903fe44728facc74c733fc0/theorem_expr.ipynb\"><img src=\"data:image/png;base64,iVBORw0KGgoAAAANSUhEUgAAALMAAAAZBAMAAACIvQJIAAAAMFBMVEX///+IiIgiIiIQEBB2dnbu\n",
       "7u5ERETMzMzc3NwyMjK6urpmZmaYmJiqqqpUVFQAAAB6qHgnAAAAAXRSTlMAQObYZgAAAAlwSFlz\n",
       "AAAOxAAADsQBlSsOGwAAAtBJREFUSMeVVk1oE0EUftvsX5M0xp8eBBUJYv25BNHgMR6UCioL1kJR\n",
       "dGt1LSK0BxFPZkulIEKbFgQPRQPqQagaRFpsSt0iLVQ91HpR8BAvBQ+CCoIIgu/tZjezu3a6eTCz\n",
       "My8z37x533tvAhBB3kAjkqi1KNJSbghaxqbq0dZ2Uaf6dSofGuaiQV+hbqtfF08HFi3m+sZylgfd\n",
       "pAFUafCZh6xmySn5gHZLcJk+DE8XNBdaQNxpGtzl0pJ3ncJKsxaEvgmyUoVJo8cwLJB+AdxY0+nr\n",
       "StjNBLXJchg6YRZdq2HcOV1c4kEXyL5sSH3A+QjnM7vr0LoHPYmno+ubuSxuIFcXQ+pxh85RrW51\n",
       "6lTVg96IbV8ms58L/dX1tyvDhwawP2GPb2mMQ659Mj3oZ/jDFMBFLrRBpFlM3B2EPty3CP4A0AfH\n",
       "fraCl4mFfrQB1CoX+h6FKcPGSQue4+eDPSkyNL5jw2gEyZc1scSolo/Ojvqh92KL4ZKuDEkbvALY\n",
       "QWbRbwq6M7OzBi2fYe52Dne0pD0WlW1GSRChPR+yOsacngPpD34e0FjSGauVMuPZkX66k5fvFZwK\n",
       "Asyn1UqlMr2KQ6QfkPxO17Nn29m4nhpiQpYYPX4Hu465dhDoPgjd6s+GFWK9XjKkv5AqfgRYsGfr\n",
       "WehOoe4RihAYRBalXcpv6LRTQFS7LR80RajIMN0Ny2U8/IWT79519NuYI5e9Va+pS6EbEmUlCxM2\n",
       "dOJCIO3pfKV+cTi76foX3LLHucPKI6/y9YJx3ztp1h3ESliqFg3DWBIE8Ykf2qawLVQPa4fFj9QS\n",
       "/b/JSqFiyvPaVdtqIf5QC1e+t6F6aHGTgSpfzTKzMKHJmu1rOOynUaHSJJuBvUP85yPpkROfeX8M\n",
       "1Es4erw5f/qlf9k3fwA70suHbgqY0mEYpdXexgG/TjD50BHfxtDjtbZEfdEb/B9ik4y0/QML/6LD\n",
       "WCqSWgAAAABJRU5ErkJggg==\n",
       "\" style=\"display:inline;vertical-align:middle;\" /></a><br>"
      ],
      "text/plain": [
       "<IPython.core.display.HTML object>"
      ]
     },
     "metadata": {},
     "output_type": "display_data"
    }
   ],
   "source": [
    "real_pos_closure = Forall(a, InSet(Neg(a), RealPos), domain=RealNeg)"
   ]
  },
  {
   "cell_type": "code",
   "execution_count": 20,
   "metadata": {},
   "outputs": [
    {
     "data": {
      "text/html": [
       "<strong id=\"real_neg_closure\"><a class=\"ProveItLink\" href=\"proofs/real_neg_closure/thm_proof.ipynb\">real_neg_closure</a> (conjecture without proof):<br></strong> <a class=\"ProveItLink\" href=\"../__pv_it/theorems/3083dbc3ef28d3430d52c200591851c5e49d97810/theorem_expr.ipynb\"><img src=\"data:image/png;base64,iVBORw0KGgoAAAANSUhEUgAAALMAAAAZBAMAAACIvQJIAAAAMFBMVEX///+IiIgiIiIQEBB2dnbu\n",
       "7u5ERETMzMzc3NwyMjK6urpmZmaYmJiqqqpUVFQAAAB6qHgnAAAAAXRSTlMAQObYZgAAAAlwSFlz\n",
       "AAAOxAAADsQBlSsOGwAAAsBJREFUSMdjYCACnGIgFXATqY53A8lGcyQQpy4SrBhNLwE9B4kzOgdE\n",
       "yKKKcQmg8nkmp/1UzkHwmQIYGB6AGHfwes4AFCgOaKIyaHw2jgdcb1LhXEagubtAjBl4o8QBFijI\n",
       "gDMA3WgHhoQ6BvY0IMhgYGD9ysBQRzDQ+RcAiT3oojwbMI3ewYngz4HYznIBn9H1IPcZYAibQn2e\n",
       "pKQJN5oNIb0NaPsBoPF4Y1EIFNQTMITnQKJzYgDC1U/jENLCQGykpGSC1+iXsPCGgT7HRiDpB2Z3\n",
       "BiAChD0XKc7WAyW2MzCkYprHgmCmgSLtAFK6s2DIB+o7yYCSANg4LPUVkaK2vgDoBgaOB3hz6jxQ\n",
       "MkWKjeADDJuA1GUwZwLCaJ+jyKHWD4x8tgCWBUhClzz3TUQ1WhuImYFKIpVAQJ1hPwODCshZIDl2\n",
       "YHAqqUEDJPUMkjnxQB28AvBYZJdLW8DIwuDhgOFqZiTbzRhYfwGpxSA2awJS4qtmQwqQ/gKQn+D5\n",
       "fTeQy8jIcFSAZfem3btwBAjrRwaeDyDvgXkKSEZzVyDlj/oGIOE7FUiEHPRgYATFFdBo0Q0orn4G\n",
       "0ogoMlj/MvBNuMHAcAzME0QymjVBBjWFMDQDY5FVg/0HQxg4C7BwJB5AMRqUQlmQYjqR4dIGoOVb\n",
       "IPn9AtzoDQxn2BDhdhhE8AGDgXsDuwHDGrDR3CkJqNEIsp9dAcGPE6l4CNSiBfHDs6Wwku9bA1vm\n",
       "X7iqfTAG8wJgUXUSWLJcYGRkWYuarsFRqI5RHkIt43KDZHTsmRWUVBrYjgaUgF3NyLUkALPkO42R\n",
       "8A/gzcKgkg/qsob6NQHgtANMfK6ohRo7qGhia0DT24a/+uCBRw7Xnos+DBzpQNZKSYfonajK3qIk\n",
       "YCjIwG80E5pTQtLSFuCqGxtRxRgbqFI3YlRe1KvRyWmHAKMNAKr2l3UVrinOAAAAAElFTkSuQmCC\n",
       "\" style=\"display:inline;vertical-align:middle;\" /></a><br>"
      ],
      "text/plain": [
       "<IPython.core.display.HTML object>"
      ]
     },
     "metadata": {},
     "output_type": "display_data"
    }
   ],
   "source": [
    "real_neg_closure = Forall(a, InSet(Neg(a), RealNeg), domain=RealPos)"
   ]
  },
  {
   "cell_type": "code",
   "execution_count": 21,
   "metadata": {},
   "outputs": [
    {
     "data": {
      "text/html": [
       "<strong id=\"real_nonneg_closure\"><a class=\"ProveItLink\" href=\"proofs/real_nonneg_closure/thm_proof.ipynb\">real_nonneg_closure</a> (conjecture without proof):<br></strong> <a class=\"ProveItLink\" href=\"../__pv_it/theorems/fa876c016d2bdf41cf09897c77ff457d7e36faea0/theorem_expr.ipynb\"><img src=\"data:image/png;base64,iVBORw0KGgoAAAANSUhEUgAAAMMAAAAaBAMAAAD4YPV+AAAAMFBMVEX///+IiIgiIiIQEBB2dnbu\n",
       "7u5ERETMzMzc3NwyMjK6urpmZmaYmJiqqqpUVFQAAAB6qHgnAAAAAXRSTlMAQObYZgAAAAlwSFlz\n",
       "AAAOxAAADsQBlSsOGwAAAzdJREFUSMetVk1oE0EUfptkf5JN7KpUK4jUeFAsYhDFWjzEg1qhyh6K\n",
       "IEKbiom1tBDUgyCYrR6FNioFDyorFkGomoNabUppkR7UQlPxIvRQwR+qVXqJ6EHwzWS7ncy2blYc\n",
       "mNnsy8z73s/33izA/x9yB30E9sW9nXvlYW9zF1nH4B6oHk5Fcl7sETpx2Q1VhpKo/NAxshjlMmP5\n",
       "7eE2UIrgL6ArFQ9illAol93h9V5P/drUaf2ul4vgGwWfDjBDBNNuCEoMl7d8OEY5gaTMhOaS5Jd4\n",
       "wEQIvwYC6h8ikhtuECqSQ8zy0j4HRBwSF4lFI2kSqKoCiEUAKnFNSpWJMLzR8HoJiGdB1Pc9baUb\n",
       "4CZAEIMVKLhBZHCX3yH166Xnmmg0a0NIIH6lRFgJD3F9inlB24Ku2V6F851DGiz5db+a8eJjC4i6\n",
       "VXpPcF2Nc0c0utMVYhbnYzb9H2o0VEK5ovQxgZK7uLw+QrxBgORSWkX2JQU0qva4a0iYxzANT9BY\n",
       "hNizfaPOhRjT0gPKzFLF8xm6p+zDt3FuY+D3glqLJR+jEEy6m8YRVU7haLdkvUgUSQ+YjOo3h0au\n",
       "kjYzSDhp07QOZwOqvhYlI63Ogw9pLM+T/84SUcIKVHKCM7UVlUc02wx5Q8oUAtAYhyuNqC8Gu1gv\n",
       "GhgqJejREPXiKEvaCxIXqF7C36zdR/L4KggwrilbSRprYfMygWrVYJL0xlry4mMh1PNcjWVIsA8T\n",
       "RjSPNZYaAkJU5yD8hXpRv7DxE842BqIAsxEDwlSdoDEQYmK9k1FwGbMtbpF/ljwWAkobQkXm0L3F\n",
       "XBB2H2HKWIvUqaW2guPWIkQOJiSzDOIFWVZgeNScHIMBCqGepLbJQ9A9bbC2nGEY9f5gz1oMUUlb\n",
       "S4e+0Gl/GNLp32UQI3b+TGyJL5FrBUEIPHBS2I/KfGleesl69p+IZpcrWruaWg1pXD9HvRBC/bqS\n",
       "z+eH+E4bdlx8w+73DOm0lpVGZkCnfEPS7ndeojKhZzt/iVRwa4btsg4NTzWBcor0tHXx48+dW7+V\n",
       "FYCVXcMdwsftaU6lzL/c3YpWLqup4EL2cHdHPH4TeYjlP31HMTTB9P4BEIO1rBzoA+EAAAAASUVO\n",
       "RK5CYII=\n",
       "\" style=\"display:inline;vertical-align:middle;\" /></a><br>"
      ],
      "text/plain": [
       "<IPython.core.display.HTML object>"
      ]
     },
     "metadata": {},
     "output_type": "display_data"
    }
   ],
   "source": [
    "real_nonneg_closure = Forall(a, InSet(Neg(a), RealNonNeg), domain=RealNonPos)"
   ]
  },
  {
   "cell_type": "code",
   "execution_count": 22,
   "metadata": {},
   "outputs": [
    {
     "data": {
      "text/html": [
       "<strong id=\"real_nonpos_closure\"><a class=\"ProveItLink\" href=\"proofs/real_nonpos_closure/thm_proof.ipynb\">real_nonpos_closure</a> (conjecture without proof):<br></strong> <a class=\"ProveItLink\" href=\"../__pv_it/theorems/eca0d5d173d43b04746cd0374c4f101cecfb1a3f0/theorem_expr.ipynb\"><img src=\"data:image/png;base64,iVBORw0KGgoAAAANSUhEUgAAAMMAAAAaBAMAAAD4YPV+AAAAMFBMVEX///+IiIgiIiIQEBB2dnbu\n",
       "7u5ERETMzMzc3NwyMjK6urpmZmaYmJiqqqpUVFQAAAB6qHgnAAAAAXRSTlMAQObYZgAAAAlwSFlz\n",
       "AAAOxAAADsQBlSsOGwAAAzNJREFUSMe1Vl1IFFEUPrM7f7uzm1NhGUXY9lAk0RJFJQX6IBlZzIME\n",
       "EegauVkkSPUQBDrWu26F0EPFRCIEVj5YmSuihA+V0BoRBD4YZCAo+GLUQ9A5M+t49042O0EX7p07\n",
       "Z+693/n5zrkD8H9avAXE6qpge94GQ2gCGIc+0ILsGQiCELuEwwEoMdVU8ZtO02AWyszVFgutOKhL\n",
       "EM6hKUU3UkvIFcoe8rrfSf/cjguVI/SmLEFoDEIGwAy9TvshqEkcPvLKjnECWZ2JzjcDfKpxIMI6\n",
       "CHj+MH276wehITmkDC/t8UBUQaodJ301tqNKciAtAZDEPyglFsLwSsO7P0AMRWjWPuSEG+AeQASd\n",
       "Jeb8IDpwVdgjDRvOc0MikXEhZFvUNQtr4SlOXmCMULeIb7TXYf/skUYcux6XMlbMNizTTax+js/1\n",
       "2PcmEvt8IeawD7Lh/1qmo/U2V9QexlFKKxfXZ2jpS4BmX4g02F512yNTxjjGbPdEzBWIQ3u2GZyL\n",
       "29BroM7wJ0qDtLBzyt38APtu5vth0Mox5ZM2BBPuuglEVdLYWvKybiSKbIgWc/qHY6O30PjjJnHS\n",
       "pWkF9ko8+naCWpu2CCGksbJI366QKJV3VPMkp20jHh7XXTWUrWlLEKGWkmCzJSVhP2tFJUOllL01\n",
       "altxiiXtdZlzVDc6CjJuHcniqyDAhE5B3KWWw45VHNWow3uqjeX0EmIhtGtcjnWQs08QI+rHa52C\n",
       "gBClWFWVQQOtOLi88Bv2JgYiB3NxE2L2cYLOQEipLV5GwU2MtrRT+eFYLIhq0xhE58m8lVgQu08y\n",
       "aazHKzSnrGC7vwIxAJOyVQDxmoY16B5tQElCvw2hnUuBtEDTzmmT1eUyw6gvR7s2oouc0xouGsuV\n",
       "9rspX/hVADHqxs/CkvgGuZYTBPGJNy/CeFiojZfeyD97zyYyq2WUm02NpjxhXLWtEKK9hprNZof5\n",
       "ShvzXHwj/vcMVdq8lmZHv2HzDUlb471EFaJnC3+JFHFrxty0jo5M1YF6nmrapqozr7xLFwoSIB9d\n",
       "0x8ixK2pT6etv9zdql4oKyviQg5wd8cD/hMF8OU//ke5NMHw/gZ5sLVVaPZEBQAAAABJRU5ErkJg\n",
       "gg==\n",
       "\" style=\"display:inline;vertical-align:middle;\" /></a><br>"
      ],
      "text/plain": [
       "<IPython.core.display.HTML object>"
      ]
     },
     "metadata": {},
     "output_type": "display_data"
    }
   ],
   "source": [
    "real_nonpos_closure = Forall(a, InSet(Neg(a), RealNonPos), domain=RealNonNeg)"
   ]
  },
  {
   "cell_type": "code",
   "execution_count": 23,
   "metadata": {},
   "outputs": [
    {
     "data": {
      "text/html": [
       "<strong id=\"complex_closure\"><a class=\"ProveItLink\" href=\"proofs/complex_closure/thm_proof.ipynb\">complex_closure</a> (conjecture without proof):<br></strong> <a class=\"ProveItLink\" href=\"../__pv_it/theorems/eca8645a0a0ec678a819aebe488132d8f73da8010/theorem_expr.ipynb\"><img src=\"data:image/png;base64,iVBORw0KGgoAAAANSUhEUgAAAJcAAAAVBAMAAAC5yWGZAAAAMFBMVEX///+IiIgiIiIQEBB2dnbu\n",
       "7u5ERETMzMzc3NwyMjK6urpmZmaYmJiqqqpUVFQAAAB6qHgnAAAAAXRSTlMAQObYZgAAAAlwSFlz\n",
       "AAAOxAAADsQBlSsOGwAAAk9JREFUOMuFlE1o1EAUx9/uNh+bbEou6p6k5CSIUMSTeNCTgh9EKD0V\n",
       "u1YbPxZk0YWCB416FJZFUBQUViyIUCSCYNWCW3AP4sFVPFTwsEUv4qUIgkffzLzJ7sRMffBP8n6Z\n",
       "vJn33mQANrWYlEG6oZtaoS80ag//GTU1d6/a5HzA3K+aYJ9JygTdLPjWNd7UOX/F/Lv5sYy2kGq3\n",
       "M/6zRYBKnfMr6Nq1/GBuV0i196prJfN4/cl5OQQY6+cHK5EyNBT3rUHAVj0esqXMcF7Bmcuakn0h\n",
       "qVYWa32yRbimnQz57iDYown2nCTN/l71MQ/eM1uWrmXtFw+MvwCY1wS7T5L2KDZ/Y7F5S8pyXzUd\n",
       "qirjLbAHSqfr69focRdJNncfuBMA3iQPJulNxxcPjJvhWEc2ZnvUMS7E3mny9woZtwJmDXcDipiS\n",
       "tcHeXWKoxmtGaTLu+ekkrxuY+XGAt2qwtI01mMV5Hb6yaUnNkDYW5+1V9kusHhJ7e+YyFjc/zVkf\n",
       "PrB0JphTlNTh+8whfhT7Yuyw/ojJ1taGX58kyWB9+OHFUOErKfjpH/AULy9B8BtYfzexJmGJver1\n",
       "hl8fI8mEfG+ni2NFjR6kHTu3bHxKiI9jpUqdwgDeRVHUX3g8/PoiSXZz/WBrGyYo+nXifChPjVO/\n",
       "liHlmEFs9sIm33rYAINosSGk2nW6L84F7TwOpfjqUmiyqezDMRwgWkmEVFvRbPGUOysfj4B9hi/6\n",
       "Tj1dzFnSqOmOmCyfiqKOAqZHN5Rsg+Z8Nv93btu+0KhVNWOR/wUWsYWqoqxBjwAAAABJRU5ErkJg\n",
       "gg==\n",
       "\" style=\"display:inline;vertical-align:middle;\" /></a><br>"
      ],
      "text/plain": [
       "<IPython.core.display.HTML object>"
      ]
     },
     "metadata": {},
     "output_type": "display_data"
    }
   ],
   "source": [
    "complex_closure = Forall(a, InSet(Neg(a), Complex), domain=Complex)"
   ]
  },
  {
   "cell_type": "code",
   "execution_count": 24,
   "metadata": {},
   "outputs": [
    {
     "data": {
      "text/html": [
       "<strong id=\"complex_nonzero_closure\"><a class=\"ProveItLink\" href=\"proofs/complex_nonzero_closure/thm_proof.ipynb\">complex_nonzero_closure</a> (conjecture without proof):<br></strong> <a class=\"ProveItLink\" href=\"../__pv_it/theorems/c6ef6100d09f43bc1448bbf68c3a3fc2cd6fef350/theorem_expr.ipynb\"><img src=\"data:image/png;base64,iVBORw0KGgoAAAANSUhEUgAAAMMAAAAbCAMAAAD2zMvaAAAARVBMVEX///82NjYbGxsSEhJKSko9\n",
       "PT0oKChfX1+IiIgiIiIQEBB2dnbu7u5ERETMzMzc3NwyMjK6urpmZmaYmJiqqqpUVFQAAABvRl5h\n",
       "AAAAAXRSTlMAQObYZgAAAAlwSFlzAAAOxAAADsQBlSsOGwAAAy1JREFUWMPVWNmS4yAMZG8ucQjw\n",
       "/3/qIgwBH7G9E/thqZqUMyGAWt0tEcb+s6HZfz+UL6+Kqwc3Cf7JEGwqe3DGPOQHfGSTiI+mIVl6\n",
       "lSa/TPnRwhNsdS/EjvH82vK+MMhOJAoZa0buHhDqA4/Hh7myt1YgnOPW5JMj0PiR/wIzJQZRthL0\n",
       "mDoNwud0lW2tM8nx8814knmSxglw+aU5BsnnSSSLlwad/TgGVGtKvR3uzCSRz8xhocWgK/tnLk0l\n",
       "05qeTUvEHfqYKiB4jnI4Eb9BBjXMhDOXvn+DwqWuacIiDICo+HEIc5Ipzxcmy2UiOIg8ev6SZg1U\n",
       "XSn0oj0nb63vkGaFipn7PA1cVDVcWcuNufKOr7gFzK4yBX1GrnFY3/GClyQAhLyh8CW3lMVOiVLc\n",
       "VktSafj/Rh25mJnlKnHfynzJPZpVlF93VtiBeNxPZg5DJVwYkrW1kxyAX67i3vHXtPpt0+UyRvBY\n",
       "HvnWxlxdROxLS5NXMmyEk0fny0Ra1pD4poexs49QCtRBm8MB04sCc49Cud9uLCqDpa8OK/rIaOFU\n",
       "JqkGYMdStlkw6uESu/UcAzFteyDDE4AnV6YmJYIaejott8Yy5EHuAyKh70nE6ufYsXXovnRcVguX\n",
       "KIBt34GzTHKGdPksKKYQ8c9vzFXREh+E+Tcu6YkWCg3+KIYE7min1wfmD/3c1tLQfEGrwJUdewEd\n",
       "jB/aNKzMJlg3gkgVOeD7McTZu6Kdy+/AVr5bp1sJOLJqXy3CyjpbCzsH1rMbbWxnzXn49RMpD4V6\n",
       "25W53NrmSA9O6GPFYWHALu7J0KFlOorDih4aJZNpBCKBUXQvXws6dN7rtlz2pWDfYmLEvvwSV8Ym\n",
       "Pm8m/OIj8Hqnb5WTwOM2Dtd4kRhLJxhc6XUhMmN85z2eFJEm5q1UtloU66sBLHqNq2NdizTRCILW\n",
       "Y42smqbL+Ok9s/EjnN/m8PNO/9W3LnEkOXgiTy/bVpVsqiu3FtPICWd9/F23yJC2hhYiV6HsYTot\n",
       "M7HQXFoyxfeOv9S3vScGYY8vglBq3Nfu0/Y4bfymEJ64T59fQu/9qQYeWfbZ35fWxlBU+xdjeSic\n",
       "3CH8IgAAAABJRU5ErkJggg==\n",
       "\" style=\"display:inline;vertical-align:middle;\" /></a><br>"
      ],
      "text/plain": [
       "<IPython.core.display.HTML object>"
      ]
     },
     "metadata": {},
     "output_type": "display_data"
    }
   ],
   "source": [
    "complex_nonzero_closure = Forall(a, InSet(Neg(a), ComplexNonZero), domain=ComplexNonZero)"
   ]
  },
  {
   "cell_type": "code",
   "execution_count": 25,
   "metadata": {},
   "outputs": [
    {
     "data": {
      "text/html": [
       "<strong id=\"negated_positive_is_negative\"><a class=\"ProveItLink\" href=\"proofs/negated_positive_is_negative/thm_proof.ipynb\">negated_positive_is_negative</a> (conjecture without proof):<br></strong> <a class=\"ProveItLink\" href=\"../__pv_it/theorems/0f99bee06dfb063beb7d2db0e05ff788837959320/theorem_expr.ipynb\"><img src=\"data:image/png;base64,iVBORw0KGgoAAAANSUhEUgAAAMUAAAAXBAMAAABJ4JbnAAAAMFBMVEX///+IiIgiIiIQEBB2dnbu\n",
       "7u5ERETMzMzc3NwyMjK6urpmZmaYmJiqqqpUVFQAAAB6qHgnAAAAAXRSTlMAQObYZgAAAAlwSFlz\n",
       "AAAOxAAADsQBlSsOGwAAAsJJREFUSMetVU1o02AYftPmr027RZhYEcpWPAymUETYGB4q+DNhSpS5\n",
       "i4e1oFHQSVHPNuhRGFMQdlCIKII4tYepzI3RKj2IyKJ4EYRV8OJFdrAw9OL3lzRfTAcpe+GBN0++\n",
       "73uS93nfBKCrsBgCVIeVXYXgUPjjQfhSTDdx8i2ixhcGTrf237JDuyxCv8EXc9EkpFkKPu4GiYQj\n",
       "DRL6OrpQi9E0tBoFHx+CxFuAI4ROGACiE00jzhBgDS9Nk8JcBlgzMJ1Cz5OIaMdXhkBpvDdLDRG5\n",
       "vwAVh9D7crn9ETUWGNxQf2R0VI2m6/5uIiFhjRqhXwOcCy16Z417DG48tOQWenrWBRMDTPk30tAJ\n",
       "PQNq07f+87GV2ySRgyeLBwss28vgttkB0PqRCXlydWsP+DQKhJYN0WaskjVtQYSxAq8hUTPr8JgR\n",
       "oxTSnRyOsrYOMbRFWcf3eu5725DGC53Qad2zfKmMiilAQ+c11IvkgzAMvRan4TVUEabQYybzvAb2\n",
       "fM2h9GwdF7E+RicVaWyvtjWk8T4LlF/ocLUFcSe0VlM6rOKG7edrBSbAqkHp42gSpUFlAyZJU4hq\n",
       "qdbWOGVV8PkrZVBaEGPdWWJwNRz4mbYgVeQ9h3cAi0Dpm8hyrarkYZ5oaGeLPs+X4Cp5nVc20ojr\n",
       "dPMJBhaynh5CXai5LXFygBoYc6RhRvcgF+K20IT3pmk6giA+82mMQpaO1QiqVS+r1RUG19zvR2d2\n",
       "oCNtbwbZgCxkyz56ypIbxjXyHkLykeFpSBtw6TSudcnveaxMwceNdpqaC6HjVmXekA3iBxz2eT6i\n",
       "/GmgPXjitsFz94gqBR/L4QPr0cnlT+OgnkfZk52FM4ttjacf+2ogTNMZfOkuv8Dgjw4f7yA9YZp2\n",
       "20kvU6aDGycZ/CGH/1XlzX628ib3VJ3CH5nwpRnoUmOrQt2yk/4BKDmhAzvNS3sAAAAASUVORK5C\n",
       "YII=\n",
       "\" style=\"display:inline;vertical-align:middle;\" /></a><br>"
      ],
      "text/plain": [
       "<IPython.core.display.HTML object>"
      ]
     },
     "metadata": {},
     "output_type": "display_data"
    }
   ],
   "source": [
    "negated_positive_is_negative = Forall(a, Less(Neg(a), zero), domain=Real, conditions=[greater(a, zero)])"
   ]
  },
  {
   "cell_type": "code",
   "execution_count": 26,
   "metadata": {},
   "outputs": [
    {
     "data": {
      "text/html": [
       "<strong id=\"neg_as_mult_one\"><a class=\"ProveItLink\" href=\"proofs/neg_as_mult_one/thm_proof.ipynb\">neg_as_mult_one</a> (conjecture without proof):<br></strong> <a class=\"ProveItLink\" href=\"../__pv_it/theorems/99ab299c1f400925f653113816040fb4308def810/theorem_expr.ipynb\"><img src=\"data:image/png;base64,iVBORw0KGgoAAAANSUhEUgAAAOEAAAAVBAMAAABCnpRGAAAAMFBMVEX///+IiIgiIiIQEBB2dnbu\n",
       "7u5ERETMzMzc3NwyMjK6urpmZmaYmJiqqqpUVFQAAAB6qHgnAAAAAXRSTlMAQObYZgAAAAlwSFlz\n",
       "AAAOxAAADsQBlSsOGwAAAnxJREFUSMeNlk1oE1EQxyfpbnfT3ZT0IIhKLTkKQhG9eNGCNzFuocSD\n",
       "ghZ0LRQkiCL0oKuFHiUIioegEQ9eFAMKivYQwRaKl9B6qCCYIngRxIvg0Zndl+R9zLoZmOzb2d+8\n",
       "/9v3MRuA/1okXDJ3OM7EXLMv03KdxGUbKw3FmRhFnuC1SzdfUxQ/C1dsXzZ3NeAwjOTaAO+o/ZAX\n",
       "tOuJq1YIMjj75+OAwyhyH+AmzfAFXtFrJ66a38rk9gccRpFPibDV4RVHhGt2JJMjRROjyEgAPo6t\n",
       "kLKMX4Rr1sjkYsUGl1hAuUPl8uEUxdfCezY7eeYETkcli0sUK1yihTv1DcClFMWGNtJWbsebAtiI\n",
       "164cW5fjEsUNLtHHDXYX3K5ythZ3bovmQeG9lY/8P+M4K1v6yDROKG5xicVpgNHAaoonzmTYtK9E\n",
       "xYvi/mji9r34dWoOePERuKUrapxQjLHzlCElOr9RtdTfOO8RtmYBPqo9SZsyLiRPUxS1d4yxfEtN\n",
       "HMN3hPoH/Jl4uzeiggDnlgY10Zitl5GNfW3q68jP6iaXWMTlhFNYB3LRj0KnSs+2twfcvHBh1eZ3\n",
       "sPC6rr+jxgnFdS7Rp2KzjOP0Yd6B5/R0bW2QWFH3+Lfrr+CFfhAYDuB0pGBSonccr+M1iv7FzRuG\n",
       "YefGM6kgCxd2dqK4StXpgK6ocfDr2KO2jEmJ+d4uBWfahWvUoJ1ji2C+lrj2nZvSIyxnYhS507tZ\n",
       "tuoenhMKn4xgRiq9fN02S7TBmRhFVvs3e2Z2gXuZmnMPFvvDXRCu2IpZnDjOxFbMr9RcGDaVQFW4\n",
       "0b1mHLfAjWs062+HW0pcqYLRUJyJUWQ3wD8ZVqvmMxAAKwAAAABJRU5ErkJggg==\n",
       "\" style=\"display:inline;vertical-align:middle;\" /></a><br>"
      ],
      "text/plain": [
       "<IPython.core.display.HTML object>"
      ]
     },
     "metadata": {},
     "output_type": "display_data"
    }
   ],
   "source": [
    "neg_as_mult_one = Forall(x,Equals(Neg(x), Mult(Neg(one), x)), domain=Complex)"
   ]
  },
  {
   "cell_type": "code",
   "execution_count": 27,
   "metadata": {},
   "outputs": [
    {
     "data": {
      "text/html": [
       "<strong id=\"distribute_neg_through_binary_sum\"><a class=\"ProveItLink\" href=\"proofs/distribute_neg_through_binary_sum/thm_proof.ipynb\">distribute_neg_through_binary_sum</a> (conjecture without proof):<br></strong> <a class=\"ProveItLink\" href=\"../__pv_it/theorems/089951d637652b78200d0093104120a7a08337530/theorem_expr.ipynb\"><img src=\"data:image/png;base64,iVBORw0KGgoAAAANSUhEUgAAARoAAAAWBAMAAADtKE5GAAAAMFBMVEX///+IiIgiIiIQEBB2dnbu\n",
       "7u5ERETMzMzc3NwyMjK6urpmZmaYmJiqqqpUVFQAAAB6qHgnAAAAAXRSTlMAQObYZgAAAAlwSFlz\n",
       "AAAOxAAADsQBlSsOGwAAA3BJREFUSMfFlk1oE0EUx18+Nmmz2XYFwR60hFCpKEqtn4iH1otCVVYM\n",
       "BUHaFDUWChpUUDzYrYLHEoQWQZFID14KjUUQtdAUbKH0YFo9VBBMoBdBoQWLVSg4b2a62ZfdbvDk\n",
       "H34b5s1k5828N28WoLpqJNTiKlPiZv+3KTbVDgm1uOq5pEK+QpUpIrqgiI0vXiO1NgG1OKRcirFp\n",
       "84IKffJ6f2cre2wXvEXDY6/RFyTU4lRtjj2GJNTRjOfGPME/G5x7GLGk1+AJCbWUNSp/6zEccxIi\n",
       "Ne/pzTojmuOgU0HPsLZIqKWsefk7xt4EAUNAFPDOmVV8HuJEmd+1nmmTEVCLizcneLjyAqLPnt4E\n",
       "Y/h8KmiNxw96DVbbBNQCg+0DFd482/KDvbooIHplP8tLDXpFvpUaWWzOAuc1wBUvb5yrxVbkKFw3\n",
       "iDfKb6PbhCjbNwTUOFdxY90bGjFDq3SC7iFlDWAWOINQY60lPGxViL6SXLu/ICgLW+fzME73RluF\n",
       "gA4ayymtpWJBe23H6zioMdr71YD9AB+BEzKCWatnCV1qTGWVa6Z2WaZgVqA84otNi9YkQBP2jsfj\n",
       "B+LxfbgZGahvg/AycIiOlf+tLoMfA11+G7wB+AnQDxxNtyXxEcY7NiR4DuA99cZ2RFjrMCh/6N6w\n",
       "ScYKEGH7EmlxemP9NwndWdrbBBF2xkdAkJlij8TUKdyWlUaDl9KLd617wzVSygpEl6k3rNxMGqCx\n",
       "MCAkb2yR6tbhg6PcqCyTFkBwhtVOZVd4DbNlpy/XiSMWF63BIV0AdouyDnWZRepNmuUERJMCoh6b\n",
       "NwX4ptE79BcmIcyA4AHzX82FcXtD+WiGl9bp6XI5cJxZbPXAQi5HvKnLh3Ju9UCc3PJKtD0q7f0O\n",
       "fbIKIHU8MX04YSCtFmdTqVTh9gtrcDgmAGLp2nqnlKYnfAkvDH9WQHTDdqZKJwe30d6uDsyN3RK+\n",
       "gWZompWPeggUbvHlsyxWZF+zpKxm11rMdV9C5E9X/4aKCUSqm/2jRgL8xgw78djZYUK77HNehHOu\n",
       "t+YmV6y8EqsIL1brco1MzJ+Gm4XwSx1qrqIhMdy3saCQKbAFf9NPOfwacPki6K3qzUOJTeIcJ1Ip\n",
       "EnglKaAWdzk9Fx9UVb3pdfgcMdxHDkioxVUNksot06s44zMF9vDC/9Zfi2rgVW8AkU8AAAAASUVO\n",
       "RK5CYII=\n",
       "\" style=\"display:inline;vertical-align:middle;\" /></a><br>"
      ],
      "text/plain": [
       "<IPython.core.display.HTML object>"
      ]
     },
     "metadata": {},
     "output_type": "display_data"
    }
   ],
   "source": [
    "distribute_neg_through_binary_sum = Forall((a, b), Equals(Neg(Add(a, b)), Add(Neg(a), Neg(b))),\n",
    "                                      domain=Complex)"
   ]
  },
  {
   "cell_type": "code",
   "execution_count": 28,
   "metadata": {},
   "outputs": [
    {
     "data": {
      "text/html": [
       "<strong id=\"distribute_neg_through_subtract\"><a class=\"ProveItLink\" href=\"proofs/distribute_neg_through_subtract/thm_proof.ipynb\">distribute_neg_through_subtract</a> (conjecture without proof):<br></strong> <a class=\"ProveItLink\" href=\"../__pv_it/theorems/85d31b4199b1379f01f9658890529f4c48c5dc800/theorem_expr.ipynb\"><img src=\"data:image/png;base64,iVBORw0KGgoAAAANSUhEUgAAARoAAAAWBAMAAADtKE5GAAAAMFBMVEX///+IiIgiIiIQEBB2dnbu\n",
       "7u5ERETMzMzc3NwyMjK6urpmZmaYmJiqqqpUVFQAAAB6qHgnAAAAAXRSTlMAQObYZgAAAAlwSFlz\n",
       "AAAOxAAADsQBlSsOGwAAA21JREFUSMfFlk1oE0EUx1+abNJms+0Kgj1oCbVSUYRa/EI8pF4UqrJi\n",
       "KAjSpKixUNCgguLBbhU8liC0CIpEevBSaBRB1EJTsIXSg7F6qCCYQC+CQgsWq1BwZt5ksy+73dCT\n",
       "f/gtzNuZnTfvvZlZgNqql1CLq0yJm31zU2yoHRJqcdUzSZV8hRpThHWkyBtfvXpqMYRaHFIuRtm0\n",
       "eaRKn72+39PJHtuRt9zwyKv3eQm1ONWQY48RCXU04xmYx3ywIbjLM5b06jwpoRanmng65iVEat41\n",
       "O2XrOiOSE3CnAp5p7ZBQi1MT7EvgNxAiv3sF6NKrVf48KIgwDxs8yyaDUIuLjot05RGiL57eBKL8\n",
       "+QTpbG094OWNGkOoBYa7hqo6Pt3yk326iBC9su/lpWadetNQamG5OQOC1wCXvbxxrpa3wkfgGk2I\n",
       "8sdImBBhceOA2ipULK+7rDEzuEq9SYwoawBzIBiGemstoVHrhBgoybXXFZCKeOtcHl5WBX4V/Dpo\n",
       "rKa06rraZ/P5GKhR6s03A/YDfAJB0Ahkrc5L3KWWVFa5amqXZAlmEeWhWGwaW1MAbWKzC2M7D0YG\n",
       "mmIQWgYB0dHKaHUZ6mIYup2dGLo3AL8ABkGg6bYiPsx4xyYMnAV4T72xbRHWOgTKXzolm2SiAGEW\n",
       "l3CH0xtrbBISWRqbNgizPT4GSGaaPeLTJ3lYVloMcZReuGPdG66ZUlYgsuw4bqYM0FgaOKRubJlK\n",
       "6PChak+tg8oqaQGQ0+zsVHaH1ni17PLleniPxUVrfFBHwG5R1qExs0i9SbOagEgSIeqzeVOA75pJ\n",
       "vPnNixBmAbnP/FdzIR7eYD6SGec9Zmas8c49y1t9sJDLkSkb88Gc23mAO7eyEm2vSmPzAwbkKcBp\n",
       "FIXp4xP602pxLpVKFW49t8aHoggQS+/W26U03eFL/MKoyyJE1229SieGt1Fvert5beyRiACawRl2\n",
       "fDSBv3BTLJ9VsSLftUsqat/4dLonoQWe9jqL8VCMIljq5uC4EYc6Y5bteP6y24Qu+c55Ec5v5oqV\n",
       "V6LHrVm+WK3LNTz58RTcKIRe6FB/hRviowPlBQVNxJb8DX/l+N+Ayx9Bf80/ugcSm3Afx1Mpkngl\n",
       "iVCLu5ye4w9VTW/6HT6HDfeeQxJqcVWzpDpkeg1nfCZiTy/8b/0D8QHYe4rUsbYAAAAASUVORK5C\n",
       "YII=\n",
       "\" style=\"display:inline;vertical-align:middle;\" /></a><br>"
      ],
      "text/plain": [
       "<IPython.core.display.HTML object>"
      ]
     },
     "metadata": {},
     "output_type": "display_data"
    }
   ],
   "source": [
    "distribute_neg_through_subtract = Forall((a, b), Equals(Neg(subtract(a, b)), Add(Neg(a), b)),\n",
    "                                      domain=Complex)"
   ]
  },
  {
   "cell_type": "code",
   "execution_count": 29,
   "metadata": {},
   "outputs": [
    {
     "data": {
      "text/html": [
       "<strong id=\"distribute_neg_through_sum\"><a class=\"ProveItLink\" href=\"proofs/distribute_neg_through_sum/thm_proof.ipynb\">distribute_neg_through_sum</a> (conjecture without proof):<br></strong> <a class=\"ProveItLink\" href=\"../__pv_it/theorems/7e3076d84628047069542d6290717e1b8377c6840/theorem_expr.ipynb\"><img src=\"data:image/png;base64,iVBORw0KGgoAAAANSUhEUgAAApkAAAAXBAMAAACypEngAAAAMFBMVEX///+IiIgiIiIQEBB2dnbu\n",
       "7u5ERETMzMzc3NwyMjK6urpmZmaYmJiqqqpUVFQAAAB6qHgnAAAAAXRSTlMAQObYZgAAAAlwSFlz\n",
       "AAAOxAAADsQBlSsOGwAABUxJREFUWMPtWV1oHFUYPZvdyczuzmwmKiFSG8L2IZSgrD+gCMoKrdBq\n",
       "ZIRaCW1pfEiUgJC2iuCDbLQGQSyLoPiguNL6pritSmoSZMUHtVpMghiqoltE64NIEKT6FO+de+fn\n",
       "3rnJ7LCZtx44s19mv7ln75n7HyAWmfIMukeN04eBFBBRSVNMEu3Mp1xjGxQzy4wBdqZRsXc4ZexM\n",
       "001PlBjVpn//tLWbJfphtbpR/I7Th1VNo2KZFqOEdMRkUeLmAv37ja3dLNLWma91IajVGQOMp1Oz\n",
       "1zhFjCNVcFHi5nN0VJnY2k2dNuC5bvSKLcYAS9Gk99TPFjbrFKr8rzlFLKXrJhclbuYd8rEcM25S\n",
       "88e60ctyBqhEk1bUz1r2JoWq8rMOI+LEthNclBhlkjefj5uFviEf9W70LnEGFtXTcTPfYkSc2HaC\n",
       "i9Lp+rZy+Y44N7Pl8q6uBvKPOIOuT4rT+n97akzhzsNDj+5ZTuBmOD/XZoQs5o/gkijUorFQiFI3\n",
       "54HJODeLM+h1unHzTU7hdRYxZJ9TuNPMXC4OJ3AznG/WGYFzZYpbPDHfWUkUatFYKESpm6dgtBXZ\n",
       "1bCbJONUV33hZk4fPeS9folvnT+j7pg1859Sq3M3hXyrwghZzIMsCrVoHFSi1M1eR1ieG6P78Tmx\n",
       "tyms3iexP7mFA58Oekbczai96jYYsmfIkkJn8Antel+BN6XbWVPSUaTrqT1/0d5QJGMMGYui71vO\n",
       "59DXGcVZgoiNu8ojoqh3UxINfqa80pLyRVFqlGUHk9Cx36fxc84pOrKbKwknIVrQwT/wfVV0U6wg\n",
       "cCtNvS4yq2Rt2iO9jhQ/C2WDjEKFEVExD6Io1KIdTOQRUbdV1j/zx5R5ui+ymznIbuZNO9Hykha0\n",
       "14ZZ3aqno/AvHgFWI+58UNOcvoZxtVM3ab7X6YYZhXEz3NNlUahF4xEVdd0cI6tJc+nYDuAm+tXa\n",
       "D7M5PLA4utgIuZm7RJ7M7Jg9722mgjC0w/Jv0oK0LxrBCcRjnD56bWjTpQodnmU3DzZ+RQ6m06mb\n",
       "PN+tAcwJRkhi/pQui0ItGgeVqOvmC2RQOny6la1p7q9Yyx05E2mbxr0kGCxNvMXvhcIA/k23IOuV\n",
       "0Fb0Ic6g0Dasq4cqheWom788/SHepyliT9f+8y5H64p8twZsMVSUF3OhJVNEFGpRz/yIKDYXdd0s\n",
       "kdH2xRvR57At3BqaAxE3cYWw1WvPYM5t3jQsrCyIv8j93t8LmodDa6rjnMHAPQztrP3jRUTdPNRv\n",
       "LdGuedwR2+aod+lpKvLdGpDvGoyQxHx7ZFGoRT1ERLG5aDCbX8ZpmK9PTT1J3DyQj7rpoq8GfdXx\n",
       "wiyOSj+pj7dGtyD92dCc2DPDGGDEj1bVextjMtleiNYAeJ5TxEjkzqq6SGMy2bJFEA2MuhOLul5l\n",
       "bbOwIq83OU6QcbDH8UKDXESQm+bCxSpYQWQWgvemzSajeFIgVUw8xXgZLyU69aA1YOcbS8pjiY7c\n",
       "9EU7hCDqG2WsY2SN7YkuAEPK02Kjso+0WOKmVmUhpkmIA97FvWkNYJhvrk6eR85vVk9wBjNDbeuK\n",
       "GY8/83GSerEa0NMwxYlYb60zN7sT9d0stHFDC3OkL+q7aygp3cTZM/0OdVO/h4Vkv0nCEzX9Lnrh\n",
       "N68YZLimBUHbNzUfzIGcwQDm1fnk2/cpl3MbG+tJKsZqQG2LWheIIU1R6Z8U2v1T04p9urApoD3d\n",
       "YuHejB/Cj4YzFxxFQYbNGGA2jdOcQU4ZqYhJopldjaRP6tePAe+yg4uNv72QgkVa23oQ15AELVXY\n",
       "uuYL/geOWLvqkCs2JAAAAABJRU5ErkJggg==\n",
       "\" style=\"display:inline;vertical-align:middle;\" /></a><br>"
      ],
      "text/plain": [
       "<IPython.core.display.HTML object>"
      ]
     },
     "metadata": {},
     "output_type": "display_data"
    }
   ],
   "source": [
    "distribute_neg_through_sum = Forall(n, Forall(x_1_to_n, Equals(Neg(Add(x_1_to_n)),\n",
    "                                                        Add(ExprRange(k, Neg(IndexedVar(x, k)), one, n))),\n",
    "                                           domain=Complex), \n",
    "                                 domain=NaturalPos)"
   ]
  },
  {
   "cell_type": "code",
   "execution_count": 30,
   "metadata": {},
   "outputs": [
    {
     "data": {
      "text/html": [
       "<strong id=\"distribute_neg_through_div_numerator\"><a class=\"ProveItLink\" href=\"proofs/distribute_neg_through_div_numerator/thm_proof.ipynb\">distribute_neg_through_div_numerator</a> (conjecture without proof):<br></strong> <a class=\"ProveItLink\" href=\"../__pv_it/theorems/e6be30a967622180d7fa3a113c470d9379bc4b000/theorem_expr.ipynb\"><img src=\"data:image/png;base64,iVBORw0KGgoAAAANSUhEUgAAAQsAAAAyCAMAAAB8iQ6xAAAAOVBMVEX///82NjYbGxsSEhKIiIgi\n",
       "IiIQEBB2dnbu7u5ERETMzMzc3NwyMjK6urpmZmaYmJiqqqpUVFQAAAAnLjGdAAAAAXRSTlMAQObY\n",
       "ZgAAAAlwSFlzAAAOxAAADsQBlSsOGwAABIVJREFUaN7NW4mWrCoM9N6HbMrm/3/sA9xAMY2Q6bk5\n",
       "M31OZppqCElRUXsYft2EhNySccHRPh0Tq9ucgdyyyRFvAZhYvaFgkPtkdsSbASZWl5kZcp+NObw5\n",
       "YGJ12EQnwIVsNHizwMTqmAWBXDCzKV6ZY2K1VwiFXNhmjTcPTKxWowxy87OPEMclY3b/g1qm1o/F\n",
       "xMIysnDAzc3vHHFk0Cfpz82Uh4mFxhYOcvPy8RtnfKwS+WGXxirHxEJTOYsE3Mt7w3bmBy5fKpmW\n",
       "z+Npsg/rx2QWhdwCu1zmKzpEEiYWCnM6yL1ZJDie5LJpZzxMLJwSMYB77aDUmjcsS+wmjYSJhXeK\n",
       "TIB7UUOL5NrPX9k3mfTzWGi9OoXcy15qQgarjUUo8mesMxz2y1lCBeRWNVULYoPmsbQ69MZ32YMv\n",
       "GnDrhMKi8NoBjyX3xJjEd9NC5ke6bDjhJaIqiFjzdrIw+91Y2MUCbktq9aep2Whi/m4ofFJKwK2z\n",
       "BZH8IxaN2pSyL8fizZH6OH/Euo5YOm7I1y8Hs7wdYi3dEU2TWSddx+jasCa3v7Q2wEAVAuPyxeuW\n",
       "WIyIXcSKFVKCVZ9ORGhHppPAoTRdURkjhQJ0y6N7bSx9AieWzr/mQtgC2RXLks/MKYkTXsd7Me98\n",
       "XVvBamKxJpvx8Eq8iUX9XlLEvKDbEWI+HNRabyzPeHynqYqFi3RIw9A7M6LXSCdfbFjM7iKDED35\n",
       "n62xJQEx/JJdnnMj12KaSrE4B6xuDNgUF0ntnTsnwG3gzt6WYMWa9iaNTIMTw7zO22eAX4akoTAO\n",
       "RTTZ65TPWJwDtAj2n/81XtCFWNxvQZBcUJAWfYHZXO5YbpuHn7Agw+ZMPNxdI36t6liI4YY/xuIc\n",
       "sK7ObOKWF64jIWktxGv5Baw0VcPNTUfCnb24z8IOUir5GItzwHrJZItQjMVdYdu8sbINfRZf8ARi\n",
       "AStk+BGNUa3MJ8+3bdyZCIc0FvuAUCN//4hYI0/c+eay1rd6s/QMpAObo3ricfX+bFdLLkonFpmV\n",
       "lfXFMWA4+1/Px77K3MekbMj3ln6uGksTxQjhIT3Cf6w2Yl77+aMyOPMFo2W5Ro4Bmab3WksXDsxx\n",
       "htyGlgazPcrj5Jft/yvMFoGQ8MWKTmKRDLCfs/ftLYGP0rXLACzFIwuqz5uVxCIZULHJJldXBhRb\n",
       "nOgQZO46LgsWMSqwwiBlSAVPp1rrGGBVDVtZwL0qs8HSGLCU3l5SZwmjFeuh6ehWNxXCSdr1TrAT\n",
       "WSa9+uwiRiMWumkKudfeP6q1TLK5dx17EaMRC91ULq8UqLZUoJP89vPrtC5gNGNh26gh95JEgY0J\n",
       "rSbbOox2LGx7c5IIt78coXvdmN0x2rHQ7cUzStqFHDdpwr9muxtGB9ZvJgZ3Xr2mUxbvt/KG0YGF\n",
       "bzOD3JtAmC882GBsfuDUXzeZP9wqH591DUvg6cWx0TaFgdPCuNEO/4IRAbnJdEn+rHjLc8tXjB6s\n",
       "H7HKZ+OtITqRH6rlQucFowvrhyjDQu5Dac2I35mY/6EvkDR8lwZx+gnW/5DYNF53QsJ7AAAAAElF\n",
       "TkSuQmCC\n",
       "\" style=\"display:inline;vertical-align:middle;\" /></a><br>"
      ],
      "text/plain": [
       "<IPython.core.display.HTML object>"
      ]
     },
     "metadata": {},
     "output_type": "display_data"
    }
   ],
   "source": [
    "distribute_neg_through_div_numerator = Forall(\n",
    "        (x, y),\n",
    "        Equals(Neg(Div(x, y)), Div(Neg(x), y)),\n",
    "        domain=Complex,\n",
    "        conditions=[NotEquals(y, zero)])"
   ]
  },
  {
   "cell_type": "code",
   "execution_count": 31,
   "metadata": {},
   "outputs": [
    {
     "data": {
      "text/html": [
       "<strong id=\"neg_not_eq_zero\"><a class=\"ProveItLink\" href=\"proofs/neg_not_eq_zero/thm_proof.ipynb\">neg_not_eq_zero</a> (conjecture without proof):<br></strong> <a class=\"ProveItLink\" href=\"../__pv_it/theorems/feffbe5cef62146ec6f970ee28bf14681f2122e30/theorem_expr.ipynb\"><img src=\"data:image/png;base64,iVBORw0KGgoAAAANSUhEUgAAAMUAAAAXCAMAAACMEHvmAAAARVBMVEX///8NDQ0WFhYLCwsYGBg2\n",
       "NjYbGxsSEhKIiIgiIiIQEBB2dnbu7u5ERETMzMzc3NwyMjK6urpmZmaYmJiqqqpUVFQAAAA0WiBi\n",
       "AAAAAXRSTlMAQObYZgAAAAlwSFlzAAAOxAAADsQBlSsOGwAAAsRJREFUWMPVV4my2yAMdG9ACMzl\n",
       "///UmtOAMXam407LzIsmeUvMaldCWZa/uGQX56jPvvOvLWLbeLEUufiH5pdoV95b8y4JC228Zjs+\n",
       "iMD6HQDRsqC1yp+v74rD1zZO1jpK+oKihux6ciozWmQxJL4rhTZtnCyjR1K4GkGDHljQmTjYd1mw\n",
       "Lk6xAzGwtgoGSnbjGW1SbtaXq2Jt49xSZ71ULcWyBbXEZguaUb8YvGwoaOO5ZTogMrUncGditRQ8\n",
       "szAFrUPVIH9+oGkR36R3vSgLxfZjYrTIYg7BdMgx/f7Nv5Ya3iCyIAUtXX656nyoXUmTJzwhASq1\n",
       "wT7l1LaxJ89Cw6TJdmwqxcECDrSXAdSpJxCHuH/K0e3fYBGesIjJMDtj1aGYaiJf6bF2M+gtUEwP\n",
       "EVuvVKs/j8dXUYuItmRQ21qn9gw8yvaIhQspY37rJmcsTl0Jw+FUttdUilzdNlZ3Qq8he4EkGAKy\n",
       "vj+5EaobWGoWZUN8OkS9vbuZ/cBRPGTVZAksbevi65coWrE9xpsillFCg02Xhr8NhU8iLye10vZ3\n",
       "esWibNDo16/9z+wf+G+jbRkjaWPPwpNz6xIfZvDmMjch/To6KKElc9lGu8s8QJUjGG74NYuyoR6A\n",
       "IgvWHjc3Txi3EU/OUp36X9eO7bkrekk5Ew3aicO0xIXmFXKLdhFCiWsWZUNIKOYO4llsrXUEbWMv\n",
       "hiMgpCPxWVTdzVVcA8mn7tDcewMN54s4kpGqu7oIcLDBO+rnDwyOGlb3QkUbZ78Z6HAYfobeH+9d\n",
       "rryFjktQQpiAYXhfHBvqcY2QfmKoRjyjHw+O0xH3Cu3bsrEETJhwxdGGdntpMXTUsaG5/f3wz6/G\n",
       "Obz7BdBN1wY+QXfGA2+PYXMfb7Pk7gcGtvFydTQp/wT9eI1PcT+r5iFGzvmS7ljiI/SfsbBq+b+W\n",
       "/OdO9Bs2aCcAU+8JNwAAAABJRU5ErkJggg==\n",
       "\" style=\"display:inline;vertical-align:middle;\" /></a><br>"
      ],
      "text/plain": [
       "<IPython.core.display.HTML object>"
      ]
     },
     "metadata": {},
     "output_type": "display_data"
    }
   ],
   "source": [
    "neg_not_eq_zero = Forall(a, NotEquals(Neg(a), zero), domain=Complex, conditions=[NotEquals(a, zero)])"
   ]
  },
  {
   "cell_type": "code",
   "execution_count": 32,
   "metadata": {},
   "outputs": [
    {
     "data": {
      "text/html": [
       "<strong id=\"mult_neg_one_left\"><a class=\"ProveItLink\" href=\"proofs/mult_neg_one_left/thm_proof.ipynb\">mult_neg_one_left</a> (conjecture without proof):<br></strong> <a class=\"ProveItLink\" href=\"../__pv_it/theorems/bb1197db0ff618f85be47316c9c89273a9a84f5a0/theorem_expr.ipynb\"><img src=\"data:image/png;base64,iVBORw0KGgoAAAANSUhEUgAAAOEAAAAVBAMAAABCnpRGAAAAMFBMVEX///+IiIgiIiIQEBB2dnbu\n",
       "7u5ERETMzMzc3NwyMjK6urpmZmaYmJiqqqpUVFQAAAB6qHgnAAAAAXRSTlMAQObYZgAAAAlwSFlz\n",
       "AAAOxAAADsQBlSsOGwAAAsNJREFUSMeFVk1oE0EUfrHZZJNsQnIQxJ8YcikUlFX04kUL3qR1CzVS\n",
       "KpiCrsWCBKkIHuzWgkcJguKhaKQHL4q1Cv71EMGKUsRFPVQUTBG9KOJF7NGZnd2dNzO7zYMv7Hz7\n",
       "5n3z897bAKxrDgI3XfHTI+bqMbHWtYTLgSxblB1VBmCbNL7to0MHX2IUPyIEdtYC2Kp4qkz+gLz8\n",
       "NsMzOrgRLag1OQLq5y2imLFkV5UZUcJdY7hIT7werZhrc4S2ncQ25mVXlVlUwi0z0MUl3WjFHgRB\n",
       "EfYqvgpjquEsDwZZfybmGj8hiIqziq/M5JuKS6bNsLta3ROj+AhBVBzk46Hy0YOuwLAbQYmjlb5P\n",
       "DpCj7DA8BjgZoziLICq+4eP5xGqu4jMLVWo7gw2F6lAuLpC7bjJcAb0jJPHE6rT/uANBVPzAU8Yx\n",
       "/hbamGG2AeXGa3hn/SIHbTKkrGTLf5Mu2y3tjJM/4Y/3cWhXveU3fMUp+vo4vao05Lwbm5LThAQd\n",
       "8eb0QgOeeuH/MOSLYeI8JwGTQwAvVUVpj3PeNlhF9Hj9Zi5CkdsurzGZDNB8QX5KT7Y4tCHAsQu8\n",
       "I8af6ntE3Hc0y2fQPeJThewaHCF7qzDAAOkDCedHxq3Rlysr3HEMQVR8FQ5rrW+QFBhmKd5ptdMF\n",
       "E0jqGnUGmCGJY8BYGu7S10tLfNYgQmiHHaFevp57CPfkCgJWBkFp/hs1sy4rGK9oCg1Kr5EEt23b\n",
       "PX8HNW2EwH7vv0kOvy8cj5byi/QA+yTFdIXv8UHx81t60C0G38HUYdJbG8kcLcjwBof46atAV6ZX\n",
       "Ke9LPjybSTZzpE7o1EMO9KP2HEBp8d2YZYjq7WF/z23u3wj6Kfo4fH0i3NI4ArbLSjSVScnfe/qF\n",
       "kr9Sw7YtVBHUELCNK/FVRqtHLCHV7W+HXuTAjVCZl4iINC2NNzH8B1rVq25ZFsS+AAAAAElFTkSu\n",
       "QmCC\n",
       "\" style=\"display:inline;vertical-align:middle;\" /></a><br>"
      ],
      "text/plain": [
       "<IPython.core.display.HTML object>"
      ]
     },
     "metadata": {},
     "output_type": "display_data"
    }
   ],
   "source": [
    "mult_neg_one_left = Forall(x, Equals(Mult(Neg(one), x), Neg(x)), domain=Complex)"
   ]
  },
  {
   "cell_type": "code",
   "execution_count": 33,
   "metadata": {},
   "outputs": [
    {
     "data": {
      "text/html": [
       "<strong id=\"mult_neg_one_right\"><a class=\"ProveItLink\" href=\"proofs/mult_neg_one_right/thm_proof.ipynb\">mult_neg_one_right</a> (conjecture without proof):<br></strong> <a class=\"ProveItLink\" href=\"../__pv_it/theorems/df558e6028b6b173a424a0e4295c518b79f605ec0/theorem_expr.ipynb\"><img src=\"data:image/png;base64,iVBORw0KGgoAAAANSUhEUgAAAOEAAAAVBAMAAABCnpRGAAAAMFBMVEX///+IiIgiIiIQEBB2dnbu\n",
       "7u5ERETMzMzc3NwyMjK6urpmZmaYmJiqqqpUVFQAAAB6qHgnAAAAAXRSTlMAQObYZgAAAAlwSFlz\n",
       "AAAOxAAADsQBlSsOGwAAAtdJREFUSMeNlk1oE0EUx1+S3ewmm4TkIIgfIQSkIChR9OIpBW/SkkKt\n",
       "lIq2oLFYkCAVwYNuW/AouVQ89BDx4EUx1oJWe4hgxRLEoB4qCrYUPXnwUqw3582b7O5MNhsf/Lcz\n",
       "m9/Mm5n35m0BAs0WkszsZEyfseb/zKVaqEWSbb/cvc8UT3cOVjDOoTaw862Lx89CkiWLbts4wJbU\n",
       "YI19EITR8hukl9i55+9Qr5JkG3Wb55a32XOeKVYKwITNk27iiY/7e7QaJNlWvOtGj02mRD0II2uS\n",
       "cHFay99jREi2guoxgvs7HoSJ6UpcCbaHWJcwfhGS41NVPcbwGBaCMDLkUEfz+WNdPC4JDWXPnHSO\n",
       "wSqqHjXMvkE1Ih5Mz/yYHiAO9RzgYhePC0L10KaV865U9pjA7axhdzGPdljFLMimF4lD3QFzQ0ri\n",
       "qc0Z0TxEStiJ7ZQzQbilekxiyD4pq/Vi7+BD6RdxqGhJq7VvV7Zc06/YyQuif4JkgEVBOY9/Iowe\n",
       "5XvpEx6N3+xxS00TD1aBZRAcKpl2EudVhR30EMAb2SMbTiUlXBdTyXuM4x4f+Hh07QgIjrPV1+yR\n",
       "ebHX5sXj7A23IopTBXhi66WAU8UYf1TiKGHxHThNHGcHWB0I2T9jrRH8cX3dBSdII7Ut0JyX0XRH\n",
       "5mABeavs0YPpl1MFKBLH2TmWOAmYMOAR/ry66o4aJH2/9gweOy81b55pO+2LsKR49GDJP2OFeIs4\n",
       "zqYq+JoNXSuXy63rD91RV0ljmeSKe0ZGzgVSW39ZDoYxZAcVjx5Mf5r++h6ICzvhNQomTPO1sczR\n",
       "2yGrkGTrU1/MYmnO9cQ4N9vuzGlVi90THHrKhn7xFstzZ4lu+tXszoLfgXHOqe/Wnv5dYF7C5vDd\n",
       "KWdbk0JyTigfcv7luQ29MM6pX6nhclm6RTAiJH81x32mnoReGOeivf7tMNMk2Wbk7m68JT4zKRjn\n",
       "mP4BVKSxd0uXUVoAAAAASUVORK5CYII=\n",
       "\" style=\"display:inline;vertical-align:middle;\" /></a><br>"
      ],
      "text/plain": [
       "<IPython.core.display.HTML object>"
      ]
     },
     "metadata": {},
     "output_type": "display_data"
    }
   ],
   "source": [
    "mult_neg_one_right = Forall(x, Equals(Mult(x, Neg(one)), Neg(x)), domain=Complex)"
   ]
  },
  {
   "cell_type": "code",
   "execution_count": 34,
   "metadata": {},
   "outputs": [
    {
     "data": {
      "text/html": [
       "<strong id=\"neg_times_pos\"><a class=\"ProveItLink\" href=\"proofs/neg_times_pos/thm_proof.ipynb\">neg_times_pos</a> (conjecture without proof):<br></strong> <a class=\"ProveItLink\" href=\"../__pv_it/theorems/92fb10b546d1ee8a5cc739d555900aa61085082b0/theorem_expr.ipynb\"><img src=\"data:image/png;base64,iVBORw0KGgoAAAANSUhEUgAAAR0AAAAWBAMAAAAP9FU/AAAAMFBMVEX///+IiIgiIiIQEBB2dnbu\n",
       "7u5ERETMzMzc3NwyMjK6urpmZmaYmJiqqqpUVFQAAAB6qHgnAAAAAXRSTlMAQObYZgAAAAlwSFlz\n",
       "AAAOxAAADsQBlSsOGwAAA1BJREFUSMfFVk1o1EAUftsm3f81RRRxtay9CBVhK4ogCFvwUsSSxVIR\n",
       "pbagq1Aoi1UEQZta9ChBUDz0sOJBBKVFBbUuugVbKD0YWg8VC6ZYeu6lWMGDM9lk38tsNvHmB182\n",
       "+2W+mTd5b2YC8C/QCAkiYrtII3NwC4/uGyJkICliCgQIIJr2evX/hNDkwop/PF8JXdgTKAimZM5z\n",
       "vhXkNBce+4Yj60g3omqQIJjOeo/wEHmbJ3XAN554BelGYipIEExl7xEWkHxGkuEbTzOhgCOBgtuU\n",
       "bTCCWmOCxR/1L59vhAImAgWXKal7jxCtIA+1tx/2j+cNoYN825kT7K32oFAG2aQCMWPycmitVle6\n",
       "Av0sQSbyLcAl/3gmCB1MhVbjGYD5mpBbgsSGLcTbLZh1L4zP37FakJJZ+MLKTkfeh4jptQaHVsfs\n",
       "24OETt1qic0U63zJEcLGK0gNEAGIuYYmA60WbrHI1lkes8gWVSq5uwi3FUrysJa8aP8/hpQfWDMv\n",
       "hiFulcIov1zgewF0QrNiCxTExOqVjeRY5d/sojJPJ9M2kElFLOcPzCnlAT7Xx0OWhLUVP7VmzRd5\n",
       "bBNGi7YgxENMJbTCAX6ZVMO/mDmLBH2GXVrfpdnpEWuDlLVLwvmbeNZ45It1pMlsgS5iqeqwHWyB\n",
       "1k9dvhxrFe8hxPOUQcIptiuGtPUoa5vfpo5AH2+3vIy9DBLa6Cv9BIn9ztWUFhOGXQIxYyMFrVUM\n",
       "cyMkBpAwzgUYDLPbu4uwE17wdrOz2EsPoY0f11/DS9dqjpuxP+LyBhA2AL6eHWsVH2GyUt0HHEKq\n",
       "yB9sWY/XYBXmC4WCceMZ9nKV0Ma51mSZv/sOPKfW0lsugZhxpWTQWkV/1ydWJ00lpN0ya1VLBxyF\n",
       "a9ZM8nzN2FkvIoXvnQydvC4INTNif/3G0s14h9DCuKTHoZe1j22wDYCPdFKDLnJIOmx4WHbDaSP4\n",
       "yF0Qnkq6fNw+Zsv0uI3v7toBIwZ8n9MhcpkrvY+GajO7QujCPbzdx3LtEqgZC1r4BGxSUrnq94VD\n",
       "CkPWWtgEewsF9w7ZR9horJV0yStiwSQLIyZnpu0oHdKvTTWlPPc6wCIK0nWmiB+8Ic3bjBjz6n8X\n",
       "IU01xGZy8H/xF+Q56VLc5tfVAAAAAElFTkSuQmCC\n",
       "\" style=\"display:inline;vertical-align:middle;\" /></a><br>"
      ],
      "text/plain": [
       "<IPython.core.display.HTML object>"
      ]
     },
     "metadata": {},
     "output_type": "display_data"
    }
   ],
   "source": [
    "neg_times_pos = Forall([x, y], Equals(Mult(Neg(x), y), Neg(Mult(x, y))), domain=Complex)"
   ]
  },
  {
   "cell_type": "code",
   "execution_count": 35,
   "metadata": {},
   "outputs": [
    {
     "data": {
      "text/html": [
       "<strong id=\"pos_times_neg\"><a class=\"ProveItLink\" href=\"proofs/pos_times_neg/thm_proof.ipynb\">pos_times_neg</a> (conjecture without proof):<br></strong> <a class=\"ProveItLink\" href=\"../__pv_it/theorems/ca142325f16feb3b87656ed79d7e3046d7b1d2180/theorem_expr.ipynb\"><img src=\"data:image/png;base64,iVBORw0KGgoAAAANSUhEUgAAAR0AAAAWBAMAAAAP9FU/AAAAMFBMVEX///+IiIgiIiIQEBB2dnbu\n",
       "7u5ERETMzMzc3NwyMjK6urpmZmaYmJiqqqpUVFQAAAB6qHgnAAAAAXRSTlMAQObYZgAAAAlwSFlz\n",
       "AAAOxAAADsQBlSsOGwAAA2FJREFUSMfFlk9oE0EUxl/a3STNJjFFFDFaYi+FSiEVRRCEFLyIKFss\n",
       "laKUFjQWCqW0iiBotxY9ShAUDx4iHkRQWlRQa9AUbKH0YGg9VBRMsfTcS1HBg292ZjPzdrNLb37w\n",
       "S7Kz87282Td/FmA7sgREUe9l1M/sZ6LhLdieQhUO1X56GUtx6pl9TVyPFaqs4XtwPl8ERImcq2Gf\n",
       "oI7Z38RTLktmWcPDwHT0Aoeqz93QZHK85gAT133JTVbUgcB8jDKHquRuiM9wvOYAE9eShI1IqwTm\n",
       "0yigynpajgg85iAT72TWiGP+TcHT56uATh9PAeGRwGMOMvFSlyWHWlsPB+fzWtDdcu5E7Ukayszs\n",
       "LoGO6+IMcDxmICY1jJ4uQz8WqCp5A3ApOB9n3DOhNSOjDslRbgXimwCLwAGj1VYV3A/MNqlhtEQW\n",
       "PuO0K0juQrRabw0Or02Knx2cuBXfStayaJBzLlJ5CUlcEivAIepQL5iJhLmBmW1gHbOSsKkVaYhI\n",
       "S76oj1iJi+L6GCcChl1+/Y89BdHUZz+GNh06oRF3wgngEKFRv2f3G+UmEsZEXye2bUoSKfd0fo9O\n",
       "rRvgE80H7D9FHXTyqW3NWzCBnifAceejrKOiO8y0GfmFAbISKMzhR/PbNJ4esRZI2rskXLguz5oO\n",
       "57FPW7pZp15swDvxa1lA5o+nXjTMOwixOmUkcBp3xZC10YR9u3eY49DL+q2uyiiDnN7iT9BqjWHl\n",
       "qApXYQS/FgREg+oFM9EwI8wM8QEJTLEGGIzgz9vLsBues37z8zKKWMc/rr6CF7VGTVkERjX2V9kX\n",
       "iMgGwEw0zAeYLvN9wAGSo+zGb/v2OqzBYj6fr1x7KqOMcc43J0rKosooZ9R6mtnbBURjZKVk3GH6\n",
       "uz7iPGkoSkTPrD1b2uEoXLFHgvNZd6o+yqFqIwPHJRPNcKiosc27sZxEbinYmtIKBvRg/9gmbgDs\n",
       "iD1lQVfgQbmkhjxb8Tt2qXHJdVcr6MfFMVtSj1tjb9cuGK/At4UCRC+zlp4Hw7WRDQmIwvJt7gDW\n",
       "GeCOwKUhHxN/eqlkjr9fOKiq6FYYB9iTz9MdsldAX2yk+Xu66Je1y6i7/jExNyuydFDfOM1k6lm9\n",
       "Ayya4lBNug4Yi1PP7Gvi2qOglhpiczn4v/oHo9LogA4zalYAAAAASUVORK5CYII=\n",
       "\" style=\"display:inline;vertical-align:middle;\" /></a><br>"
      ],
      "text/plain": [
       "<IPython.core.display.HTML object>"
      ]
     },
     "metadata": {},
     "output_type": "display_data"
    }
   ],
   "source": [
    "pos_times_neg = Forall([x, y], Equals(Mult(x, Neg(y)), Neg(Mult(x, y))), domain=Complex)"
   ]
  },
  {
   "cell_type": "code",
   "execution_count": 36,
   "metadata": {},
   "outputs": [
    {
     "data": {
      "text/html": [
       "<strong id=\"neg_times_neg\"><a class=\"ProveItLink\" href=\"proofs/neg_times_neg/thm_proof.ipynb\">neg_times_neg</a> (conjecture without proof):<br></strong> <a class=\"ProveItLink\" href=\"../__pv_it/theorems/c50fa7c82b4b81f35154676b6a1ec453ec7327390/theorem_expr.ipynb\"><img src=\"data:image/png;base64,iVBORw0KGgoAAAANSUhEUgAAARoAAAAWBAMAAADtKE5GAAAAMFBMVEX///+IiIgiIiIQEBB2dnbu\n",
       "7u5ERETMzMzc3NwyMjK6urpmZmaYmJiqqqpUVFQAAAB6qHgnAAAAAXRSTlMAQObYZgAAAAlwSFlz\n",
       "AAAOxAAADsQBlSsOGwAAAxdJREFUSMfFVkFIFGEUfurMzjozu41EEmliXgRDsEiCTgYVeGhZKQyp\n",
       "gx5aQig2pUuH3LC8FUtQdPCw4KlDJBUosYRejOiyaASR0EoiHb0IBh3655+ZfW/+eTN464O3/jPv\n",
       "e59v/v/9//sBDoISMYJ0wpN8TMeJqYglM2iqoVGYDn06HnWGCSgWQUCuuw+bydl8JRZCJxlnhhhn\n",
       "Jy8WhU/+4I5fJiajl9HCaM3jeIxzUgKKMfDJD9wVG0/MxlpBC8NexHGVc1ICijHwyW5SWi0xmxZi\n",
       "CgZxOMA6BzkxDh7ZFrm2JpfNd2IK5rFsyqxznhPj4JNP9/ScSc7mPbEAI13XLogZzeEKkCIeqYJe\n",
       "95w5TswP5shLADeTs5lnvnOxacvqBviMZUjqYWgD7F3PKQlWj0Q9EPODOfJTSNeZFNo/Hg0Oi35i\n",
       "QdGV7L2s+P8bjTfNWHtG7S1kxz3nhqrbj8EcOZXXKuGAuzuTMPobvgVzfw5Nfya/smiAJetkxt2z\n",
       "f2R1CpEx6ezV4RS0OJ5zRs1GiATBMlAhZxyliC2xdnDRAZvJhuwNOXML7s/JIJvGyboHM0XPucBk\n",
       "EwR7gQq5vCp+2pY7RP8wuyArj0X9UwUbCrNSAG9Kujgb1rmVcj/9MHjOdbVu+jGYJV9+LppHaadV\n",
       "yI0cyk/r7lGYeUJ62wQxH6OVX6CJv2uNNynSklJ1uOM719S5mcBgljwrcrZhwhDDx+vQbrr1Zd8g\n",
       "R3oOIrv157138Dq06TWyFay6+Zc5FQKxIJglZ4vuy33p2oYt+0WhcNu4X0SBKWI+rrdlqu7S9OFG\n",
       "6ia9aLtj33f2qdlMYXA82RiQ14s+OGvI4hVVDMH0NBfRlGsJSaGXOrSy56QEFFMQIc9qZQuuCklz\n",
       "1zsLHy2D5ijtL7kFfsHhMFypHaTRxpGtY+ePwHQNfqyVYc7NXh8uLDUCbhELYY6MU1j3J8SKe865\n",
       "6LGqisSSa3optQL6pcJk+P0osVhlHa8lmx2VuPyjInFkM591XnGNKu2ghS6VoSvuw6izqcSLRa+n\n",
       "UbIN5uoQ/E/8A8745fsWnBDqAAAAAElFTkSuQmCC\n",
       "\" style=\"display:inline;vertical-align:middle;\" /></a><br>"
      ],
      "text/plain": [
       "<IPython.core.display.HTML object>"
      ]
     },
     "metadata": {},
     "output_type": "display_data"
    }
   ],
   "source": [
    "neg_times_neg = Forall([x, y], Equals(Mult(Neg(x), Neg(y)), Mult(x, y)), domain=Complex)"
   ]
  },
  {
   "cell_type": "code",
   "execution_count": 37,
   "metadata": {},
   "outputs": [
    {
     "data": {
      "text/html": [
       "<strong id=\"double_negation\"><a class=\"ProveItLink\" href=\"proofs/double_negation/thm_proof.ipynb\">double_negation</a> (conjecture without proof):<br></strong> <a class=\"ProveItLink\" href=\"../__pv_it/theorems/cc68c2f3d2845f41d1cd339c60418366c2c0b5240/theorem_expr.ipynb\"><img src=\"data:image/png;base64,iVBORw0KGgoAAAANSUhEUgAAALwAAAAVBAMAAAAOdJm+AAAAMFBMVEX///+IiIgiIiIQEBB2dnbu\n",
       "7u5ERETMzMzc3NwyMjK6urpmZmaYmJiqqqpUVFQAAAB6qHgnAAAAAXRSTlMAQObYZgAAAAlwSFlz\n",
       "AAAOxAAADsQBlSsOGwAAAglJREFUOMuFlcErREEcx3/Le/at91br4IKkPSolcXFTbiJKHDhQPFtK\n",
       "EikHRspRmyIHhy0HF6IowoFCuW04UMpK+Q+Uo5k3PzvzezuPb332zXx/783Mzvze7wH8KYZQR5OD\n",
       "mOTAP4rlJdTRVZmSmCT8gmi8Rgz/hFCHqB4xifvn4rptDttZCXWoEn0Sk7i/JDZp1Bx2ryTUofKO\n",
       "JCZxX8xs5c3hcoQ6IbUjJrWDx9eTiIi+INQJaQcxifut6XRbRPQEoc6v+huGuvjf7gUJkYqdAkxE\n",
       "Tx5amN47ir27jQD3IAE3HahAY+vgFEhmT72vYLMZUdJ6HvO+qvjOPoKEnKmKVfRZOXTjDX7OnmbJ\n",
       "cex3SOyNYFkztBcHN8jSZUSXFkumiid7wUew+gFu6PCaSK88eFt3kVDSFWPZa/5TfVbHYiKpRxZV\n",
       "sfhzcwAOmc2z+gEkZO+1WM8m33D2mcgPCv/5WT0/hlAHNZj7AItf7xBdemyVz+fBWBz2ReT2Vt1V\n",
       "mnNa723+GA6M2UtjVeLM4Junke/7+YU9ddcsQh3UcHXyUrztTYguPSbPusWBOdEQR2ujWTYjUaK9\n",
       "oKg3SowF/9dftbIuT1FhdTPojCxXpcWrtOwZCqBb21kDzqRoDmxNFZeYQZQy4SHWEJNC/oDv52gG\n",
       "INQpmS8TMXzmn4+hk5JQh5QQJjF+Shn8AL6pizpyJrt2AAAAAElFTkSuQmCC\n",
       "\" style=\"display:inline;vertical-align:middle;\" /></a><br>"
      ],
      "text/plain": [
       "<IPython.core.display.HTML object>"
      ]
     },
     "metadata": {},
     "output_type": "display_data"
    }
   ],
   "source": [
    "double_negation = Forall(x, Equals(Neg(Neg(x)), x), domain=Complex)"
   ]
  },
  {
   "cell_type": "code",
   "execution_count": 38,
   "metadata": {},
   "outputs": [
    {
     "data": {
      "text/html": [
       "<strong id=\"negated_weak_bound\"><a class=\"ProveItLink\" href=\"proofs/negated_weak_bound/thm_proof.ipynb\">negated_weak_bound</a> (conjecture without proof):<br></strong> <a class=\"ProveItLink\" href=\"../__pv_it/theorems/be8847fb01b79b5fa7089253cf3f96ab64cf3e700/theorem_expr.ipynb\"><img src=\"data:image/png;base64,iVBORw0KGgoAAAANSUhEUgAAAPcAAAAXBAMAAAAl5sTiAAAAMFBMVEX///+IiIgiIiIQEBB2dnbu\n",
       "7u5ERETMzMzc3NwyMjK6urpmZmaYmJiqqqpUVFQAAAB6qHgnAAAAAXRSTlMAQObYZgAAAAlwSFlz\n",
       "AAAOxAAADsQBlSsOGwAAA01JREFUSMe9Vl1o01AY/bKlTX+SLAMn08moRRAmQhVFEIQOHLgHRwZj\n",
       "CsPRgsYKKsXpozM69HFUQRGco+IQBhurKLjpmN2Dg+GDZYogCraoe97L0EfvX5p702xgRQ+cpknO\n",
       "vefmu9/97gX4K9iMHEIb6TZv9ueQSpQ8Ioa/jscjxjK++VKn+QdGATv8dcJgipQv8c39+rwDOUoR\n",
       "YZO8GxN1Iu5SDuNpStVnHi1SilAL5NK3U9CJeEuJxymX6jNvZPTgIIvtLpPTeVqahCoaVbjOKf/E\n",
       "6IETcNVxr9WEi5T74/EDdZo/Z3TQ237iKApij3OvPbCrOmf624owiGJdpnwBcGYzh8LGr8a4zyRS\n",
       "qRKNASy7y27cBFEjawl4h4KSoxyFULm235Xuhdv0n5CMWoa/28vohNlW13UUy/eu+T0TRM1VNLpV\n",
       "1E+CMmjKedFYabfykgzHkjXmWloQHqYM3IljZBWIkjV1rSoftx2dozEbDdiHLNYoNcObb6+yKFUl\n",
       "eGN4zdXz4GfOJTFp8tiR7zFdnYMZU/mJQpKghNwi+mmebUOjjLSDTkoPNm8puOZS2/VZkC6Q0liG\n",
       "sn/YUc92APmteJcar5kDCYc8RgnHUamR7NUwytPeJnMI+klLOZQuuuateuqhcoSkq7GuJFhHaUaG\n",
       "/vw3kNF1yVtk+Mm6CEE0djVFCSP4BtIK+ntzBbbCFDGPnk5xCVcMGln42IWr4amY5MxED3DrCuDr\n",
       "lWcw7awsvrxyGliAGVwXk5SgZ/HDX+TVd6jAsmVZJUmSp/lsb8Kp8wS760nd2bcuMTIMNGvzuFZ2\n",
       "eJcOp4HBzteoq4Y8JcvwBNmHO+AQXCZfLkUmTM58iOy/w7O4TWOWNWrIUno29Jj3iajpRrzBSDAi\n",
       "56LQB7A7sobWHplz6HITLpTopsVm9AfqaYbfQtSC33bju9WQIpML4NSZZ6QNtne2wFAJPi/lIHQW\n",
       "PZjclhyYc7/86USzyc4g2vy5alcZRgG3aB2N04Vd1bEgGHqSbqPerbQUsINo2H2WxZUd73Z7EtzV\n",
       "3s8oIFNbL12NtogPEEGbkj8AmboxWdPQa16JuEeDkEEpnFJ8DmdeTSsjPzUQWUxubK6gVWBlYGoL\n",
       "/D/Y/67r33UHxBxmmIWeAAAAAElFTkSuQmCC\n",
       "\" style=\"display:inline;vertical-align:middle;\" /></a><br>"
      ],
      "text/plain": [
       "<IPython.core.display.HTML object>"
      ]
     },
     "metadata": {},
     "output_type": "display_data"
    }
   ],
   "source": [
    "negated_weak_bound = Forall((x, y), greater_eq(Neg(x), Neg(y)),\n",
    "                            condition=LessEq(x, y), domain=Real)"
   ]
  },
  {
   "cell_type": "code",
   "execution_count": 39,
   "metadata": {},
   "outputs": [
    {
     "data": {
      "text/html": [
       "<strong id=\"negated_strong_bound\"><a class=\"ProveItLink\" href=\"proofs/negated_strong_bound/thm_proof.ipynb\">negated_strong_bound</a> (conjecture without proof):<br></strong> <a class=\"ProveItLink\" href=\"../__pv_it/theorems/ecda4bf163665794ce16a1e6d0f633adb72fedf60/theorem_expr.ipynb\"><img src=\"data:image/png;base64,iVBORw0KGgoAAAANSUhEUgAAAPcAAAAXBAMAAAAl5sTiAAAAMFBMVEX///+IiIgiIiIQEBB2dnbu\n",
       "7u5ERETMzMzc3NwyMjK6urpmZmaYmJiqqqpUVFQAAAB6qHgnAAAAAXRSTlMAQObYZgAAAAlwSFlz\n",
       "AAAOxAAADsQBlSsOGwAAA0VJREFUSMe9Vl1IFFEUPrPO/rg/4wgZliGbBIEVbFEEQbBCQj4kIywW\n",
       "SLJCbQYWS9ZjNiX1EsQWFEEmG4kgKBoFaYmtDwnRQ4v1EgWtVNKjL1KPnfszM/fOjlYb9cG3OzP3\n",
       "u/e7c+655w7AX8HkFBBaS7d+tz+HUmQUEda9dSIecJbIzccKzd9xStjirZMmU2B8Rm7uVubtzzHK\n",
       "qDa8dDJuMw6QZUpXZh4pMMqITnnpZLxmJPNUi5WZV3G6sI++7ZCsc/U0KKM4q+oKl/w9pwvMNrVV\n",
       "0rmWpsC4p6lpb4XmTzgtdDQePYRBbOdZtc0QdNbyNxSgG2NdYnwKcHI9h6m1m4bs1+RSZSkSB3hl\n",
       "Lf4OQwwFhRpLwBtsyjHegFCpfNzFtrmb7GqdZNzFaZmZ0VUNY/nWehC7Z9o6jos4u2VsSTAGDDUv\n",
       "jxlszOQVFQ4nPcylbXSA0X+riSAbhAjdU5ecgjNsgKwxqnTYjRYrjDHdnW/Ps7hgCrzUy82vf/Uw\n",
       "F5KYdnnomN+xzG1MGsHv2JBghNw8/tRON2CIwo2g0dJDzOumHHOl4fI0/g18w7JYgpJ32HFk049u\n",
       "i3bYh8vCDjOgkJDHGeEIlhrFXK7GPO2oMfqhk7qpoZ6CY16vpe8DjOIE/PpqMMEH6uHk6Mx/BhX/\n",
       "F+yEMx2dhbMQwLlH04wwSG6gJ4iXVxdhI4xT88iJtJBwhYCehdFWUg2PxxVrJdrB3lcEny48hgln\n",
       "ZzlbTdDAHEySuphkBC1LHv6gTV9gCV5lMpmioqgTYrbXmBA8SK+0pGadW+c4ObpqY7OkVjazTe8U\n",
       "GUED3S0vMB6+PCPP8AQ9h5thP5yn01bCI4Zg3o/nb+oMufLlq7K8ky/L6DrQ47Sa7HSeyJo25BVO\n",
       "ikE1F4EUwPbwCu49uubQ6iRcKNFGio3SR0eaFI+Q3zlGBI2a85MAznKyDptb6qC/CB8WchA6hQ/G\n",
       "NiW7Zpw3fzRSS6YURffY7Gl7qF5OCdfKq5Gj8elakh2j7qO06DcDOO1UJiOUHUkT64Vj0OfkN+ca\n",
       "TpKODzBPPiACJqP4AWRo+lhZR3d5XQo7nwYhnVH6SvH4OHNr6jnFpYHwfPKX5uMb4P/B/HdD/wTq\n",
       "XMEqOSSviAAAAABJRU5ErkJggg==\n",
       "\" style=\"display:inline;vertical-align:middle;\" /></a><br>"
      ],
      "text/plain": [
       "<IPython.core.display.HTML object>"
      ]
     },
     "metadata": {},
     "output_type": "display_data"
    }
   ],
   "source": [
    "negated_strong_bound = Forall((x, y), greater(Neg(x), Neg(y)),\n",
    "                              condition=Less(x, y), domain=Real)"
   ]
  },
  {
   "cell_type": "code",
   "execution_count": null,
   "metadata": {},
   "outputs": [
    {
     "name": "stdout",
     "output_type": "stream",
     "text": [
      "Modifying theorem negated_zero in proveit.numbers.negation theory\n",
      "Adding theorem neg_in_zero_set to proveit.numbers.negation theory\n"
     ]
    }
   ],
   "source": [
    "%end theorems"
   ]
  },
  {
   "cell_type": "code",
   "execution_count": null,
   "metadata": {},
   "outputs": [],
   "source": []
  }
 ],
 "metadata": {
  "kernelspec": {
   "display_name": "Python 3",
   "language": "python",
   "name": "python3"
  },
  "language_info": {
   "codemirror_mode": {
    "name": "ipython",
    "version": 3
   },
   "file_extension": ".py",
   "mimetype": "text/x-python",
   "name": "python",
   "nbconvert_exporter": "python",
   "pygments_lexer": "ipython3",
   "version": "3.7.3"
  }
 },
 "nbformat": 4,
 "nbformat_minor": 1
}
