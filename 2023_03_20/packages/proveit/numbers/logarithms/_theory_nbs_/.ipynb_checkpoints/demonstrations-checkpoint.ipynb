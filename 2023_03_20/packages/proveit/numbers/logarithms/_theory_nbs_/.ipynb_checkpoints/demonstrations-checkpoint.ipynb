{
 "cells": [
  {
   "cell_type": "markdown",
   "metadata": {},
   "source": [
    "Demonstrations for the theory of <a class=\"ProveItLink\" href=\"theory.ipynb\">proveit.numbers.logarithms</a>\n",
    "========"
   ]
  },
  {
   "cell_type": "code",
   "execution_count": 1,
   "metadata": {},
   "outputs": [],
   "source": [
    "import proveit\n",
    "from proveit import a, b\n",
    "from proveit.logic import InSet, NotEquals\n",
    "from proveit.numbers import (zero, one, two, five, greater, Less,\n",
    "                             LessEq, Log, Real, RealPos)\n",
    "\n",
    "%begin demonstrations"
   ]
  },
  {
   "cell_type": "code",
   "execution_count": null,
   "metadata": {},
   "outputs": [],
   "source": []
  },
  {
   "cell_type": "markdown",
   "metadata": {},
   "source": [
    "Generate a few Log expressions for testing and some assumptions:"
   ]
  },
  {
   "cell_type": "code",
   "execution_count": 2,
   "metadata": {},
   "outputs": [
    {
     "data": {
      "text/html": [
       "<strong id=\"log_2_of_5\">log_2_of_5:</strong> <a class=\"ProveItLink\" href=\"../__pv_it/demonstrations/cb9a32a236411c80c5fd7fd0ee2e4deaad56d5510/expr.ipynb\"><img src=\"data:image/png;base64,iVBORw0KGgoAAAANSUhEUgAAAD8AAAAVBAMAAAADRiu8AAAAMFBMVEX///+YmJiqqqp2dnYiIiK6\n",
       "urqIiIhmZmbu7u7c3NxERERUVFQQEBAyMjLMzMwAAABfdDLwAAAAAXRSTlMAQObYZgAAAAlwSFlz\n",
       "AAAOxAAADsQBlSsOGwAAAXlJREFUKM9jYMAKOCHUBAZcIImBj4GhkyEMyHx7Gos8kwEDz98rHgxs\n",
       "AkDObSwKehkYWM47NzAw3AByVmNRUMjAwA1miONQcACmgKcBRQHM0UwXYAp4BcAK2tNKGRiircVU\n",
       "oArYDYAKxKwfMDAwbwAp4PNk4Erg+8FwkBWqAKSPq4HzKwMD4wWQAhYDBr5/3A4MW2BWsSiAqSVA\n",
       "yw6AFLwH8j8jK+AJAFP1Exj4PoAU6AP5v1h/MDgycBjvboAqWAtU8ICBFW7Cd45qawEGdgZ2B6gV\n",
       "RxgY9gOtcAAp4ClgYP3KBDKWP4DzH5DiSmBgAHrkFNCRC8C+OMfAa8B6b2YDA2MDWAHIc9MZ2E6A\n",
       "Pfz6zE6G6cZbGRju//8C1MgMsoIPSHCWbwc6hyUAHopcChyT3BgYnoAcyeAHE52CCOYoIJZi4FwB\n",
       "jyNYrMFACzBgLwFtngk2DhornAsQCjiM08wfcK57VwHmQCW40NMcz///H8CMaRB+JgMDAHtGXDZk\n",
       "OZBuAAAAAElFTkSuQmCC\n",
       "\" style=\"display:inline;vertical-align:middle;\" /></a><br>\n",
       "<strong id=\"log_a_of_b\">log_a_of_b:</strong> <a class=\"ProveItLink\" href=\"../__pv_it/demonstrations/852789ab9773b5dfaedb4c23b9d366de77fa67e90/expr.ipynb\"><img src=\"data:image/png;base64,iVBORw0KGgoAAAANSUhEUgAAAD8AAAAVBAMAAAADRiu8AAAAMFBMVEX///+YmJiqqqp2dnYiIiK6\n",
       "urqIiIhmZmbu7u7c3NxERERUVFQQEBAyMjLMzMwAAABfdDLwAAAAAXRSTlMAQObYZgAAAAlwSFlz\n",
       "AAAOxAAADsQBlSsOGwAAAXNJREFUKM9jYMAOJiCR2ACbApgKA+K3p7EpUGbgWOMAVCcAZN/GIs9x\n",
       "gYGBtwDIuAHEq7EoYAfq5AfZIo5DAQ8QxzeAGA0oCuCO1gViExCDVwCsoD2tlIEh2lpMBaagGOS2\n",
       "tE0MDMwbQAr4PBm4Evh+MBxkhSm4CHTn34b+CQyMF0AKWAwY+P5xOzBsgdvlxMDA9IOBJ4GB6QBI\n",
       "wXugez+jKDgK9MgFBn6gxg8gBfoBDAy/WH8wOCIrABobr8DACjfhO0e1tQCyFcBgqG9gYHIAKeAp\n",
       "YGD9yhSAFA7LgAoecBxkYGBcAPbFOQZeA9Z7M4GBwmGYDAoMawYGbgEuYFizGzC8PrOTYbrxVgaG\n",
       "+/+/JDC0THgPUvAEqHRzIZDBgjCXS4FjkhtDOcMbEIflAVR0CsLaKCCWAjo/G8RhLICKFiIUtAA1\n",
       "XeL4ybCwA8RbCRHkXICUBIzTzB8wnOT7KgHidUHtxUhz4ULJ4NDgTABzMxkYAJZZWpLhq5TpAAAA\n",
       "AElFTkSuQmCC\n",
       "\" style=\"display:inline;vertical-align:middle;\" /></a><br>"
      ],
      "text/plain": [
       "log_2_of_5: log_2(5)\n",
       "log_a_of_b: log_a(b)"
      ]
     },
     "execution_count": 2,
     "metadata": {},
     "output_type": "execute_result"
    }
   ],
   "source": [
    "log_2_of_5, log_a_of_b = Log(two, five), Log(a, b)"
   ]
  },
  {
   "cell_type": "code",
   "execution_count": 3,
   "metadata": {},
   "outputs": [
    {
     "data": {
      "text/html": [
       "<strong id=\"demo_assumptions\">demo_assumptions:</strong> <a class=\"ProveItLink\" href=\"../__pv_it/demonstrations/7b04181d875738513e0fd8c056e02613cd750d2a0/expr.ipynb\"><img src=\"data:image/png;base64,iVBORw0KGgoAAAANSUhEUgAAANEAAAAZCAMAAACYXzsEAAAAPFBMVEX///8NDQ0WFhYLCwsYGBhU\n",
       "VFQiIiKIiIjMzMx2dnYQEBDc3NxEREQyMjLu7u5mZmaqqqq6urqYmJgAAACZCzMOAAAAAXRSTlMA\n",
       "QObYZgAAAAlwSFlzAAAOxAAADsQBlSsOGwAAAn9JREFUWMPdmOm6oyAMhjnnTFgDKNz/vQ4iKpZF\n",
       "29J5ZiY/utjy9stCSCUkmJvJy2bJILMDCdM7MBzl0fsgtSGMJv+HR8SxhHJ3F2iJ6DWV+YpXhLwP\n",
       "sqZ6mcbLSj4TRwWEzODQtIUYlHQIqG38/GVOE4VBdFc85ZGIT3xZajGYXB4esqztIFBzOc8CCFb7\n",
       "5JGJL/z8tEdWEd0LrZ8GgVopgvN7tnlEdAgJ96a9lCENpitCsCNkLpCPnJugZjxUyyMbKKxd87Nm\n",
       "phpaMAY6QgS94twEtXQBaXnEQlOAPXIKBFMsa+/a1IuF46RVR4gGxmDqcW6CHhVtfNX0aCkP3Eiz\n",
       "DF/ErGCKhVGI1NTTLOZlEzA+uGC86nDugR4VWRrt18/yCFWPuOchoEmHdHFRFor6hnbu4kieIl+y\n",
       "DucWqFTUitDhkQp9jqbYWB+PqKOVc0mT4blY0Lhuk7VRpxcdzi1QoShlrkzm4ZEJHm05kpguHAdl\n",
       "o+lyS7DTH1cN897Ba5xboEJRs4jzHO1VZ/xSJc7nylrHiOWq15iiL/Yof0peApWK4j76/loT3tpH\n",
       "igCm9YuO0PimPQSMNYSEqLNKuWzUEKa0B5qcLmg//wtFMUWVrJ57HUtjHYbfncKmyqpUTxUhy+eh\n",
       "/HGutLj1BQSRmBd7yemBdk5FUeOfj9gbq5PHAW+ACa6AnSYmnE0xMi8HNqIuJx1KN5Kwp8g/ci5A\n",
       "B6dQVE0RgPQa1l+0SzHKzlw3CzxPL/22bT7NIdPFWK3dk7N338TnOdp0V66zN5eDhBj2cY67CJpb\n",
       "OyBMY5QMcqjHof0UEaoG3Gf4o8bv3We43G7/imXH9Tv36/4iW2+n/AaxuiQhM/cHMQAAAABJRU5E\n",
       "rkJggg==\n",
       "\" style=\"display:inline;vertical-align:middle;\" /></a><br>"
      ],
      "text/plain": [
       "demo_assumptions: (a in RealPos, b in RealPos, a != 1)"
      ]
     },
     "execution_count": 3,
     "metadata": {},
     "output_type": "execute_result"
    }
   ],
   "source": [
    "demo_assumptions = [InSet(a, RealPos), InSet(b, RealPos), NotEquals(a, one)]"
   ]
  },
  {
   "cell_type": "markdown",
   "metadata": {},
   "source": [
    "#### Testing Log.deduce_in_number_set()"
   ]
  },
  {
   "cell_type": "code",
   "execution_count": 4,
   "metadata": {},
   "outputs": [
    {
     "data": {
      "text/html": [
       "<span style=\"font-size:20px;\"> <a class=\"ProveItLink\" href=\"../__pv_it/demonstrations/4c8b551ddb92150cd2645107c3385f0cdcfa71650/proof.ipynb\" style=\"text-decoration: none\">&nbsp;&#x22A2;&nbsp;&nbsp;</a><a class=\"ProveItLink\" href=\"../__pv_it/demonstrations/fd3e281455d99813a07a480de46af04159a0d82e0/expr.ipynb\"><img src=\"data:image/png;base64,iVBORw0KGgoAAAANSUhEUgAAAGoAAAAVBAMAAABce2awAAAAMFBMVEX///+YmJiqqqp2dnYiIiK6\n",
       "urqIiIhmZmbu7u7c3NxERERUVFQQEBAyMjLMzMwAAABfdDLwAAAAAXRSTlMAQObYZgAAAAlwSFlz\n",
       "AAAOxAAADsQBlSsOGwAAAgBJREFUOMtjYMAKOCHUBAaSQBIDHwNDJ0MYmjDjnVV/fRYCGW9PY9HE\n",
       "ZMDA8/eKBwObAJoEF+cG1o0rgIzbWHT1MjCwnHduYGC4gaHLgGHBayBjNRZdhQwM3GCGOBZdlbw4\n",
       "dB2A6eJpgAhkubhcgOviQtUFCzKmCzBdvBCPxWYg2bWjG6KrPa2UgSHaWkwFKsduANQlZv2AgYF5\n",
       "AzgebiC5kG/RTbAuPk8GrgS+HwwHWaFyIBu4Gji/AoMa7C7eCQhdZ/3dGsC6WAwY+P5xOzBsgcmx\n",
       "KICpJUC3HgDrQgoNQwmwQasZ3gMVfUbWxRMApuonMPB9ADHeuADBAqgLVwhCdOkDFf1i/cHgyMBh\n",
       "vLsBqmstUNcDBlawXV3IIf+cqwFu13eOamsBBnYGdgeoC48wMOwHutAB7GJkXewvF4B18RQwsH5l\n",
       "ArmKP4DzH0gugYEBGIyngKEBdhdbApIujgWJkDA8x8BrwHpvZgMDYwNYFyi8pzOwnYDEARBcQugq\n",
       "YBDkCmB4fWYnw3TjrQwM9/9/ARrJDHISH5DgLN8OdD8LJFy6lzbA0vyvCVxrPyFcrMAxyY2B4QlY\n",
       "2g8mOgVKBy+BpCh0EAXEUgycK1ATbSGBfNjyAOT86QwzwRZDEwPnAgK6OIzTzB9wrntXAeZAVXMR\n",
       "VQTw/P8PTgwM0yD8TBzqAE9Hgz4+1pSSAAAAAElFTkSuQmCC\n",
       "\" style=\"display:inline;vertical-align:middle;\" /></a></span>"
      ],
      "text/plain": [
       "|- log_2(5) in Real"
      ]
     },
     "execution_count": 4,
     "metadata": {},
     "output_type": "execute_result"
    }
   ],
   "source": [
    "log_2_of_5.deduce_in_number_set(Real)"
   ]
  },
  {
   "cell_type": "code",
   "execution_count": 5,
   "metadata": {},
   "outputs": [
    {
     "data": {
      "text/html": [
       "<span style=\"font-size:20px;\"><a class=\"ProveItLink\" href=\"../__pv_it/demonstrations/5a0c211ed8c0f89e15d717d80d4627baae693acb0/expr.ipynb\"><img src=\"data:image/png;base64,iVBORw0KGgoAAAANSUhEUgAAAD8AAAATBAMAAADVH8ihAAAAMFBMVEX////MzMwyMjKqqqoiIiJm\n",
       "ZmaYmJju7u5EREQQEBC6urqIiIh2dnZUVFTc3NwAAAAqL9KcAAAAAXRSTlMAQObYZgAAAAlwSFlz\n",
       "AAAOxAAADsQBlSsOGwAAAN5JREFUKM9jYMADWBkIAA4yFSTN6FeZkYDPhIa3DGszCvApeMPAwXiB\n",
       "IaKjs6MjAYcC1gcKWEzY4eKiAFfQgKlg0XaECbzlF+AK+O7s2wCm1ZGskDB6AFew8gHHdxDN9ACu\n",
       "4KXKl+3wkGSfxsDqAFaA5Mi0IqTw/sDAcgDEkHQBggaIAo4yhPc4GxjqF4AYFUgmMAa0w3n1Gxjy\n",
       "wQwW5HAIfIFQYMBwiRnkPu4NSAoquOF2cGxgdoXEuzJcwVMGtoQuGI/99sG3G8Gs2q4CWGz2MXTo\n",
       "G2DGwZoWSFCjAAAaDkU0dYR17AAAAABJRU5ErkJggg==\n",
       "\" style=\"display:inline;vertical-align:middle;\" /></a>, <a class=\"ProveItLink\" href=\"../__pv_it/demonstrations/b9cae19a628b9412bdeba3850806ec1015c9b6ae0/expr.ipynb\"><img src=\"data:image/png;base64,iVBORw0KGgoAAAANSUhEUgAAAD0AAAATBAMAAADR6hicAAAAMFBMVEX///+YmJjMzMzc3NyIiIhU\n",
       "VFR2dna6urqqqqpmZmYyMjIiIiIQEBBERETu7u4AAAD7tRWPAAAAAXRSTlMAQObYZgAAAAlwSFlz\n",
       "AAAOxAAADsQBlSsOGwAAAOpJREFUKM9jYMANOBnwA16y5KXO3l99VgAuz3dnA5qCC6YMpbIP4Pq5\n",
       "JqDLmzHwMgUwzL175+5doDn8DZjynAYL4PrrH0DFfXfvXgCXvwCXz4ZKV/kh9LO+C4DLL3WJAFHM\n",
       "65DM1+0ygLv/14P3IA6XAVzeZvVvP3j4cfxj4HEAySO5T/AVUiAvYOBPANI6u4HgAkSe96EAXJ47\n",
       "gaEe5MO3SPqZJtyD84Denw/yITey/yfZIuQV+A6CaBYHJPm3LHALWAV4IQG8Ai5vycAocB3G4wub\n",
       "CGE8vf4AFn+XGe6ub8CI2LLbkPBFAQCsf0hmRnY2owAAAABJRU5ErkJggg==\n",
       "\" style=\"display:inline;vertical-align:middle;\" /></a>, <a class=\"ProveItLink\" href=\"../__pv_it/demonstrations/0253dbed1258e1c128ba9f6ec6b2a0640e2a18320/expr.ipynb\"><img src=\"data:image/png;base64,iVBORw0KGgoAAAANSUhEUgAAADAAAAAUCAMAAAD84U6VAAAAPFBMVEX///8NDQ0WFhYLCwsYGBjM\n",
       "zMwyMjKqqqoiIiJmZmaYmJju7u5EREQQEBC6urqIiIh2dnZUVFTc3NwAAADJzR5XAAAAAXRSTlMA\n",
       "QObYZgAAAAlwSFlzAAAOxAAADsQBlSsOGwAAALFJREFUKM+VktkSwyAIRWlTF9yR///XxiQda2Li\n",
       "yAMjg8cLAsCToYUpE64N9Yh3op4toeQBIKiN4whweQ4IJ4EKZEoxxwsg8w0Q/JpxVQ71Zp+leLoC\n",
       "1pvt1lDgByAXr9O5A4QbwJfpWA5DgQOwXNo1/LcPpfb3a++EOoBaPUlQzZOy8+VHSW5VUBqhqVlh\n",
       "ZzCJ874kMYlMUQwEiDxLMv0hqzS31t0OnszMCuhJARAPuS+LXAfGizpYiwAAAABJRU5ErkJggg==\n",
       "\" style=\"display:inline;vertical-align:middle;\" /></a> <a class=\"ProveItLink\" href=\"../__pv_it/demonstrations/1fde430ceffe4469c49c7361ecd9aa5679d6743a0/proof.ipynb\" style=\"text-decoration: none\">&nbsp;&#x22A2;&nbsp;&nbsp;</a><a class=\"ProveItLink\" href=\"../__pv_it/theorems/7180dc5788101123bbcbcc4197824687234814d20/expr.ipynb\"><img src=\"data:image/png;base64,iVBORw0KGgoAAAANSUhEUgAAAGkAAAAVBAMAAAC3TN2zAAAAMFBMVEX///+YmJiqqqp2dnYiIiK6\n",
       "urqIiIhmZmbu7u7c3NxERERUVFQQEBAyMjLMzMwAAABfdDLwAAAAAXRSTlMAQObYZgAAAAlwSFlz\n",
       "AAAOxAAADsQBlSsOGwAAAgNJREFUOMtjYMAOJiCRRAM2BTAVhiYse2r9lVMCQMbb09h0KTNwrHEA\n",
       "ahZAE18wmyFaqgHIuI1FE8cFBgbeAiDjBrquyQxcfBuAjNVYdLED7eAHOVIcUxf7hAs4dPEAcTzI\n",
       "ITwNEIEsF5cLcF0LUHXBg0wXiE1ADF6Ix2IzEHZxd0Bd2J5WysAQbS2mAtNVDPJv2iYGBmaQCgbO\n",
       "G0gufKU7AayLz5OBK4HvB8NBVpjkRWCA/G3on8DACHYXL9wRC+Zc+QK2dzUDiwED3z9uB4YtcKc6\n",
       "MTAw/WDgSWBgOgDWhRQagr0MEF3vgaH1GUXXUWAwXmDgB5r2AcR94wIECyC6uBoFILr0AxgYfrH+\n",
       "YHBE1gV0QLwCAyvYri4ku/gKViDs+s5RbS2A7EJgdNU3MDA5gLgsyPFVNwuii6eAgfUrUwBSfC0D\n",
       "6nrAcZCBgRHsLrYEJF1d4GQGDMNzDLwGrPdmAmOUwzAZFF7WDAzcAlzAJMVuAFZ8Ca5rOgOjwFIG\n",
       "htdndjJMN97KwHD//5cEhpYJ70G6ngD1by4EuQ3igu6lDbA0v5Jh1X0FuKO4FDgmuTGUM7wBe+QB\n",
       "VHQKlA5eAklR6CAKiKWAgZcN4jAWQEULCeTDFqDxlzh+MizsAPFWQgQ5FxDQxWGcZv6A4STfVwmk\n",
       "GOIirggIF0oGxxonJKwzcSgDABWEi9teekczAAAAAElFTkSuQmCC\n",
       "\" style=\"display:inline;vertical-align:middle;\" /></a></span>"
      ],
      "text/plain": [
       "{a in RealPos, b in RealPos, a != 1} |- log_a(b) in Real"
      ]
     },
     "execution_count": 5,
     "metadata": {},
     "output_type": "execute_result"
    }
   ],
   "source": [
    "log_a_of_b.deduce_in_number_set(Real, assumptions=demo_assumptions)"
   ]
  },
  {
   "cell_type": "markdown",
   "metadata": {},
   "source": [
    "#### Testing `Log.bound_via_operand_bound()`"
   ]
  },
  {
   "cell_type": "code",
   "execution_count": 6,
   "metadata": {},
   "outputs": [
    {
     "data": {
      "text/html": [
       "<span style=\"font-size:20px;\"><a class=\"ProveItLink\" href=\"../__pv_it/demonstrations/5a0c211ed8c0f89e15d717d80d4627baae693acb0/expr.ipynb\"><img src=\"data:image/png;base64,iVBORw0KGgoAAAANSUhEUgAAAD8AAAATBAMAAADVH8ihAAAAMFBMVEX////MzMwyMjKqqqoiIiJm\n",
       "ZmaYmJju7u5EREQQEBC6urqIiIh2dnZUVFTc3NwAAAAqL9KcAAAAAXRSTlMAQObYZgAAAAlwSFlz\n",
       "AAAOxAAADsQBlSsOGwAAAN5JREFUKM9jYMADWBkIAA4yFSTN6FeZkYDPhIa3DGszCvApeMPAwXiB\n",
       "IaKjs6MjAYcC1gcKWEzY4eKiAFfQgKlg0XaECbzlF+AK+O7s2wCm1ZGskDB6AFew8gHHdxDN9ACu\n",
       "4KXKl+3wkGSfxsDqAFaA5Mi0IqTw/sDAcgDEkHQBggaIAo4yhPc4GxjqF4AYFUgmMAa0w3n1Gxjy\n",
       "wQwW5HAIfIFQYMBwiRnkPu4NSAoquOF2cGxgdoXEuzJcwVMGtoQuGI/99sG3G8Gs2q4CWGz2MXTo\n",
       "G2DGwZoWSFCjAAAaDkU0dYR17AAAAABJRU5ErkJggg==\n",
       "\" style=\"display:inline;vertical-align:middle;\" /></a>, <a class=\"ProveItLink\" href=\"../__pv_it/demonstrations/b9cae19a628b9412bdeba3850806ec1015c9b6ae0/expr.ipynb\"><img src=\"data:image/png;base64,iVBORw0KGgoAAAANSUhEUgAAAD0AAAATBAMAAADR6hicAAAAMFBMVEX///+YmJjMzMzc3NyIiIhU\n",
       "VFR2dna6urqqqqpmZmYyMjIiIiIQEBBERETu7u4AAAD7tRWPAAAAAXRSTlMAQObYZgAAAAlwSFlz\n",
       "AAAOxAAADsQBlSsOGwAAAOpJREFUKM9jYMANOBnwA16y5KXO3l99VgAuz3dnA5qCC6YMpbIP4Pq5\n",
       "JqDLmzHwMgUwzL175+5doDn8DZjynAYL4PrrH0DFfXfvXgCXvwCXz4ZKV/kh9LO+C4DLL3WJAFHM\n",
       "65DM1+0ygLv/14P3IA6XAVzeZvVvP3j4cfxj4HEAySO5T/AVUiAvYOBPANI6u4HgAkSe96EAXJ47\n",
       "gaEe5MO3SPqZJtyD84Denw/yITey/yfZIuQV+A6CaBYHJPm3LHALWAV4IQG8Ai5vycAocB3G4wub\n",
       "CGE8vf4AFn+XGe6ub8CI2LLbkPBFAQCsf0hmRnY2owAAAABJRU5ErkJggg==\n",
       "\" style=\"display:inline;vertical-align:middle;\" /></a>, <a class=\"ProveItLink\" href=\"../__pv_it/demonstrations/b372d56298d365996fddb9397e0959f1376fbb0e0/expr.ipynb\"><img src=\"data:image/png;base64,iVBORw0KGgoAAAANSUhEUgAAAC8AAAARBAMAAAC/eehCAAAAMFBMVEX///+YmJjMzMzc3NyIiIhU\n",
       "VFR2dna6urqqqqpmZmYyMjIiIiIQEBBERETu7u4AAAD7tRWPAAAAAXRSTlMAQObYZgAAAAlwSFlz\n",
       "AAAOxAAADsQBlSsOGwAAAL5JREFUGNNjYMAETAwMjxkY+O5sQJfg+bV6H5DimoAuwX1+2wMgxd+A\n",
       "LsEKoeofIIQ4FiNJZCPEGXc+QJJY6hIBFWfZBtHMKpKqAHTVrwfvDcD8Z1ugCngfMH8HGvuPgccB\n",
       "xLXciGT/bQYGzgUM/Akg/SuQHTbfgIE7gaG+AVXiFlBCAeSN+Q9QjTrNwBAP9J8C30EGVMuBJp8F\n",
       "GiHACwuTJ1sgzrVkYDkHdG7YRIQHIR5hnhn5AC2UGBczEAQAU8sxI+x0uKMAAAAASUVORK5CYII=\n",
       "\" style=\"display:inline;vertical-align:middle;\" /></a>, <a class=\"ProveItLink\" href=\"../__pv_it/theorems/e6ed1880d8a5adc965bd31595086d71670c4cffd0/expr.ipynb\"><img src=\"data:image/png;base64,iVBORw0KGgoAAAANSUhEUgAAADAAAAAQBAMAAACigOGCAAAAMFBMVEX////MzMwyMjKqqqoiIiJm\n",
       "ZmaYmJju7u5EREQQEBC6urqIiIh2dnZUVFTc3NwAAAAqL9KcAAAAAXRSTlMAQObYZgAAAAlwSFlz\n",
       "AAAOxAAADsQBlSsOGwAAAI5JREFUGNNjYMAGGN2xCjPUBn3HLsHAjSxRlIBDgv3IBlQJvjv7oCJb\n",
       "jqNIrHzAAdOYEo4kwT6NgdUBptIoDiHB+oGB5QDc8EXX4RKcDQz1CxAS7XCJ+g0M+XBxo3sIo+oN\n",
       "GC4xP4BaHodkOccGZldWdOfy/AO66vbBtxvBHtwC9yDvzU/XED4vSWAgCgAApVouhyH3TS4AAAAA\n",
       "SUVORK5CYII=\n",
       "\" style=\"display:inline;vertical-align:middle;\" /></a> <a class=\"ProveItLink\" href=\"../__pv_it/demonstrations/282a7b4c8ede95ab049c74da27495044e2dc08320/proof.ipynb\" style=\"text-decoration: none\">&nbsp;&#x22A2;&nbsp;&nbsp;</a><a class=\"ProveItLink\" href=\"../__pv_it/demonstrations/8cc09869ebd8f3f69c284c06960c18f159355ed70/expr.ipynb\"><img src=\"data:image/png;base64,iVBORw0KGgoAAAANSUhEUgAAAJ0AAAAVBAMAAACu6/FQAAAAMFBMVEX///+YmJiqqqp2dnYiIiK6\n",
       "urqIiIhmZmbu7u7c3NxERERUVFQQEBAyMjLMzMwAAABfdDLwAAAAAXRSTlMAQObYZgAAAAlwSFlz\n",
       "AAAOxAAADsQBlSsOGwAAArVJREFUOMuNlE1oE1EUhU9ipk7+JsFFK64CVnAjRiq6yCa1EHUjWSko\n",
       "0tBCRNykFO1CsAMt1griIGJ0F0UKMgrWVkQQbEHxp6KxurAoOotuxEpEDUahxvve5E2eycT64CVz\n",
       "Z745c8+9dwZwX4b0u/LyYwW8Lcb/9v6nXh80YJzjn+fcgPVQrydJNtpwXnt304X2xhFafr3Lxt+6\n",
       "AGoRCOfo4E3jlbCb3hnA96JHt3HTBVhND4owyx2NVwJuegNAkB90tNAL0e7V2YFeN7XQUm9G6DHc\n",
       "bGwqrU20t3J7TgE9O/UGPb/zpKLQYzjpjWWPAgcS7Z2CGGR1zd4CVonb23p04Vc9digNZWqyLymq\n",
       "Eye99oRl4ya03QhktApmFaH3klqyrJ814CnaJ0ZS9fotGphASQ9F06JHlFVA95fBcRO+OLTfwSSm\n",
       "HSs7yEQFoQy8MzzOd0v96AFK1jSCIj347GG9Co6bKFH87S+9h2SiiAg95wsLg/NSf7Wv1Pu4rBey\n",
       "Ex02OG5iM8W/lAq6ZT1KujcGZaZJz0u+IoVe3ReV9W6QnsVxO78f6vFEVPZL4zesw5ts8svzy41N\n",
       "TUL2+wC4D46bCOWglL1paaAm6BZLnaUCF5r78YhmM71BnvEMQC1+auPU3+cIx5X3l2gi1C39bAgT\n",
       "5DEayNmjwNfJlDMvSxZe4eDHiw7NpiSPtscc//TsLvJdt4EP1e8ZjBolRiwSOzXArDhZe/gAavfm\n",
       "DP9gIo1wtZoStEYu/UN3dBlHIKaeS2EIS7wiVu3s+borz4L8il3BeGemRmMPmvH9tNdRY4/we3P1\n",
       "N911KQVWrBpd/2pI+CilNK/+xOVTLLpWe0ULLfRUSim8UdABoxlXu7LbLTzRymtZdLpWhJZf8JFt\n",
       "/SccWi20wvet6edT6M/w8PC/P/OCxgUI/A9xacEgjXOQMgAAAABJRU5ErkJggg==\n",
       "\" style=\"display:inline;vertical-align:middle;\" /></a></span>"
      ],
      "text/plain": [
       "{a in RealPos, b in RealPos, b < 5, a > 1} |- log_a(b) < log_a(5)"
      ]
     },
     "execution_count": 6,
     "metadata": {},
     "output_type": "execute_result"
    }
   ],
   "source": [
    "log_a_of_b.bound_via_operand_bound(Less(b, five),\n",
    "        assumptions=[InSet(a, RealPos), InSet(b, RealPos), greater(a, one), Less(b, five)])"
   ]
  },
  {
   "cell_type": "code",
   "execution_count": 7,
   "metadata": {},
   "outputs": [
    {
     "data": {
      "text/html": [
       "<span style=\"font-size:20px;\"><a class=\"ProveItLink\" href=\"../__pv_it/demonstrations/5a0c211ed8c0f89e15d717d80d4627baae693acb0/expr.ipynb\"><img src=\"data:image/png;base64,iVBORw0KGgoAAAANSUhEUgAAAD8AAAATBAMAAADVH8ihAAAAMFBMVEX////MzMwyMjKqqqoiIiJm\n",
       "ZmaYmJju7u5EREQQEBC6urqIiIh2dnZUVFTc3NwAAAAqL9KcAAAAAXRSTlMAQObYZgAAAAlwSFlz\n",
       "AAAOxAAADsQBlSsOGwAAAN5JREFUKM9jYMADWBkIAA4yFSTN6FeZkYDPhIa3DGszCvApeMPAwXiB\n",
       "IaKjs6MjAYcC1gcKWEzY4eKiAFfQgKlg0XaECbzlF+AK+O7s2wCm1ZGskDB6AFew8gHHdxDN9ACu\n",
       "4KXKl+3wkGSfxsDqAFaA5Mi0IqTw/sDAcgDEkHQBggaIAo4yhPc4GxjqF4AYFUgmMAa0w3n1Gxjy\n",
       "wQwW5HAIfIFQYMBwiRnkPu4NSAoquOF2cGxgdoXEuzJcwVMGtoQuGI/99sG3G8Gs2q4CWGz2MXTo\n",
       "G2DGwZoWSFCjAAAaDkU0dYR17AAAAABJRU5ErkJggg==\n",
       "\" style=\"display:inline;vertical-align:middle;\" /></a>, <a class=\"ProveItLink\" href=\"../__pv_it/demonstrations/b9cae19a628b9412bdeba3850806ec1015c9b6ae0/expr.ipynb\"><img src=\"data:image/png;base64,iVBORw0KGgoAAAANSUhEUgAAAD0AAAATBAMAAADR6hicAAAAMFBMVEX///+YmJjMzMzc3NyIiIhU\n",
       "VFR2dna6urqqqqpmZmYyMjIiIiIQEBBERETu7u4AAAD7tRWPAAAAAXRSTlMAQObYZgAAAAlwSFlz\n",
       "AAAOxAAADsQBlSsOGwAAAOpJREFUKM9jYMANOBnwA16y5KXO3l99VgAuz3dnA5qCC6YMpbIP4Pq5\n",
       "JqDLmzHwMgUwzL175+5doDn8DZjynAYL4PrrH0DFfXfvXgCXvwCXz4ZKV/kh9LO+C4DLL3WJAFHM\n",
       "65DM1+0ygLv/14P3IA6XAVzeZvVvP3j4cfxj4HEAySO5T/AVUiAvYOBPANI6u4HgAkSe96EAXJ47\n",
       "gaEe5MO3SPqZJtyD84Denw/yITey/yfZIuQV+A6CaBYHJPm3LHALWAV4IQG8Ai5vycAocB3G4wub\n",
       "CGE8vf4AFn+XGe6ub8CI2LLbkPBFAQCsf0hmRnY2owAAAABJRU5ErkJggg==\n",
       "\" style=\"display:inline;vertical-align:middle;\" /></a>, <a class=\"ProveItLink\" href=\"../__pv_it/demonstrations/62a2848b99aed1511a5511cae77a67a22b019fb10/expr.ipynb\"><img src=\"data:image/png;base64,iVBORw0KGgoAAAANSUhEUgAAAC8AAAARBAMAAAC/eehCAAAAMFBMVEX///+YmJjMzMzc3NyIiIhU\n",
       "VFR2dna6urqqqqpmZmYyMjIiIiIQEBBERETu7u4AAAD7tRWPAAAAAXRSTlMAQObYZgAAAAlwSFlz\n",
       "AAAOxAAADsQBlSsOGwAAAMFJREFUGNNjYMAETAwMjxkY+O5sQJfg+bV6H5DimoAuwX1+2wMgxd+A\n",
       "LsEKoeofgKlXAugS2RCKL9sBTWKpSwSE4Z0HkxBJVQCq/PXgvQFEQHoehOZ9wPydgYHjHwMPzJCu\n",
       "yTDTbjMwcC5g4E+A8avioIz5BgzcCQz1cAdX3QORt4ASCiBvzH8AMyoYTJ1mYIgH+k+B7yBUXBpq\n",
       "BdDks0C3CfBOQHOuJQPLOaBzwyZCPOgN9yDzzMgHiAB6LcBAHAAAhDwsed8dShkAAAAASUVORK5C\n",
       "YII=\n",
       "\" style=\"display:inline;vertical-align:middle;\" /></a>, <a class=\"ProveItLink\" href=\"../__pv_it/theorems/e6ed1880d8a5adc965bd31595086d71670c4cffd0/expr.ipynb\"><img src=\"data:image/png;base64,iVBORw0KGgoAAAANSUhEUgAAADAAAAAQBAMAAACigOGCAAAAMFBMVEX////MzMwyMjKqqqoiIiJm\n",
       "ZmaYmJju7u5EREQQEBC6urqIiIh2dnZUVFTc3NwAAAAqL9KcAAAAAXRSTlMAQObYZgAAAAlwSFlz\n",
       "AAAOxAAADsQBlSsOGwAAAI5JREFUGNNjYMAGGN2xCjPUBn3HLsHAjSxRlIBDgv3IBlQJvjv7oCJb\n",
       "jqNIrHzAAdOYEo4kwT6NgdUBptIoDiHB+oGB5QDc8EXX4RKcDQz1CxAS7XCJ+g0M+XBxo3sIo+oN\n",
       "GC4xP4BaHodkOccGZldWdOfy/AO66vbBtxvBHtwC9yDvzU/XED4vSWAgCgAApVouhyH3TS4AAAAA\n",
       "SUVORK5CYII=\n",
       "\" style=\"display:inline;vertical-align:middle;\" /></a> <a class=\"ProveItLink\" href=\"../__pv_it/demonstrations/87a22981bd2664965a9b516230fd42c50abf6c700/proof.ipynb\" style=\"text-decoration: none\">&nbsp;&#x22A2;&nbsp;&nbsp;</a><a class=\"ProveItLink\" href=\"../__pv_it/demonstrations/e5fc8fbffbf917c3fa6f17843b78bd0773d06f370/expr.ipynb\"><img src=\"data:image/png;base64,iVBORw0KGgoAAAANSUhEUgAAAJ0AAAAVBAMAAACu6/FQAAAAMFBMVEX///+YmJiqqqp2dnYiIiK6\n",
       "urqIiIhmZmbu7u7c3NxERERUVFQQEBAyMjLMzMwAAABfdDLwAAAAAXRSTlMAQObYZgAAAAlwSFlz\n",
       "AAAOxAAADsQBlSsOGwAAArlJREFUOMuNlFtIFFEcxj+3HTt7G4cIjZ4WMuhF2lAq2BdLkHqJfSoo\n",
       "ZBcVI3pZkTIJciDBDKIhIutti5BiCrI1SghSKLoYtV0egqLmwZfI2KgkC8z+58yc2XGd1Q7M5Zz5\n",
       "zXf+l28G8B+G57zyCGEFvDouLnv/U68dKjAk8K9TfsAGsBvNJKuVrasfbvnQgQSi82932fh7H4AV\n",
       "gFiWbt6VP4n56Z0Bgi9bdBs3fYDVtFENT7mu/EnYT68biIibugp6UTrSOr/Rxf7a8noTUo/jZnlT\n",
       "aTTQ0STSE0qsKeOjF3LLV5B6HCe9wa4jwIFkbb0kenhdu24Dq5zXO7eX9NjRgyko+dH2ZlmdBOnV\n",
       "Ji0bN6HuRjijzmFSkXqvKKZ5/ayBqoKzsvaYqzdtYARFPaqlZI8oqrAemoXATQQTUP9GmjHmprKT\n",
       "kphDNIPAhFuCPqnXAhStMURkeAjaZr0KgZso0vzHIr1HlEQBNbTPN3et7Z6tp36n3ie8elE70H5D\n",
       "4CY20/yPMocdXj0KOh2HMlHSu2brBSivmlxaD2pevZukZwncju8XO57UvPmS/fp1BNwgGsbhiS87\n",
       "mB+FN9+HwAMI3EQ0C2U2kPIYaoResdgkFTgn+9Hn9uMxeTO10etxchO1+JmNU39fIJZQPl4iM7It\n",
       "HdyESTKAFs7aVij3y4yFN2j7fNGluUuGUf1E4F+ej2O48Q7waeFnBgNGkRPTxOa7eSoiatYp/aze\n",
       "nzJCPckUYgsLrZJWKctQ711d4vbGcXauFb2YERWxnNXz4jygLfnErmCoPuPQ2INFuBj76VhPjT3M\n",
       "J1XZ0pfuO5QcL5ZDl/4aHnyAQnrNfuPyKT677nyiuQp6jEKKbZJ02FiKs8aubRaeqrPr+Oy0U4SK\n",
       "f/CTWztOuDTLVcL3rekQtQrZDTi0/G9e0rgAif8DK+O/XtkLU4gAAAAASUVORK5CYII=\n",
       "\" style=\"display:inline;vertical-align:middle;\" /></a></span>"
      ],
      "text/plain": [
       "{a in RealPos, b in RealPos, b > 5, a > 1} |- log_a(b) > log_a(5)"
      ]
     },
     "execution_count": 7,
     "metadata": {},
     "output_type": "execute_result"
    }
   ],
   "source": [
    "log_a_of_b.bound_via_operand_bound(greater(b, five),\n",
    "        assumptions=[InSet(a, RealPos), InSet(b, RealPos), greater(a, one), greater(b, five)])"
   ]
  },
  {
   "cell_type": "code",
   "execution_count": 8,
   "metadata": {},
   "outputs": [],
   "source": [
    "%end demonstrations"
   ]
  }
 ],
 "metadata": {
  "kernelspec": {
   "display_name": "Python 3",
   "language": "python",
   "name": "python3"
  },
  "language_info": {
   "codemirror_mode": {
    "name": "ipython",
    "version": 3
   },
   "file_extension": ".py",
   "mimetype": "text/x-python",
   "name": "python",
   "nbconvert_exporter": "python",
   "pygments_lexer": "ipython3",
   "version": "3.7.3"
  }
 },
 "nbformat": 4,
 "nbformat_minor": 1
}
