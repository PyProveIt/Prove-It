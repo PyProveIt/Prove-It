{
 "cells": [
  {
   "cell_type": "markdown",
   "metadata": {},
   "source": [
    "Proof of <a class=\"ProveItLink\" href=\"../../../../../../_theory_nbs_/theory.ipynb\">proveit</a>.<a class=\"ProveItLink\" href=\"../../../../../_theory_nbs_/theory.ipynb\">numbers</a>.<a class=\"ProveItLink\" href=\"../../../../_theory_nbs_/theory.ipynb\">number_sets</a>.<a class=\"ProveItLink\" href=\"../../theory.ipynb\">rational_numbers</a>.<a class=\"ProveItLink\" href=\"../../theorems.ipynb#positive_if_in_rational_pos\">positive_if_in_rational_pos</a> theorem\n",
    "========"
   ]
  },
  {
   "cell_type": "code",
   "execution_count": 1,
   "metadata": {},
   "outputs": [],
   "source": [
    "import proveit\n",
    "theory = proveit.Theory() # the theorem's theory\n",
    "from proveit.numbers import RationalPos\n",
    "from proveit.numbers.number_sets.rational_numbers import rationals_pos_def"
   ]
  },
  {
   "cell_type": "code",
   "execution_count": 2,
   "metadata": {},
   "outputs": [
    {
     "data": {
      "text/html": [
       "Under these <a href=\"presumptions.txt\">presumptions</a>, we begin our proof of<br><strong id=\"positive_if_in_rational_pos\">positive_if_in_rational_pos:</strong> <a class=\"ProveItLink\" href=\"../../../__pv_it/theorems/755cfecdf07f6174b68a4e41dc54a7d68dede1040/expr.ipynb\"><img src=\"data:image/png;base64,iVBORw0KGgoAAAANSUhEUgAAAH8AAAAXBAMAAADQNI0XAAAAMFBMVEX///8AAAAAAAAAAAAAAAAA\n",
       "AAAAAAAAAAAAAAAAAAAAAAAAAAAAAAAAAAAAAAAAAAAv3aB7AAAAD3RSTlMAq1RmmUTNIjK7EInv\n",
       "3XZ/CtNrAAAACXBIWXMAAA7EAAAOxAGVKw4bAAACLUlEQVQ4y5VUz0sUYRh+3HF2Z75Zlz2pdWkg\n",
       "6Lpz2PSSbuavUERPHstb1Gm9FWps/QFagYf1IBOCl34tBolF4FGJoNsKIUyZeAhDougQhe87O/PN\n",
       "7DY75gcz3/v9eJ/vfZ/3+T7g5JZqulLEf7XPTVeu0Zdl43ycf6ISOf3mSxEZCxjkwY04gNXI2aQp\n",
       "qsAt4B4n+SAOoD9ytgfYAPKEZAOGGQewGQrGkuZDIGcjbUOhuWQsBVOBLd46vvkDWDCRJO/3u7vv\n",
       "4gBamcPpr89L7ujwtQfFABYMqsFVYOlfNyNgiw5Rqzjn5z5S08ZvAnCgUHjTSGUjzpVWGxH01EK7\n",
       "P74wLAEqSBBBum1MhDzFRl9HHUCaVseBj3Ji8ixvI4DrDrQjIsmRHM6fWcRMBS/NRoBtpH4GAEse\n",
       "iTkTKpdoqtcPm+jAuomVbmNgbGAwSEH8hXIkU+hwuzJQsJH4QOYayQlPei9ij3rtPgk0E45AdyC+\n",
       "Q/eL2TNc6y8BQ4DCEpwlDkVV+yV4oKygAYArtYyCdyH8MlJgYsurcQtVuPWytqmyzNg5Y4QBNIry\n",
       "8becS7Q4lEISo5/Ir21CMpXJKjfL5Ueql0KgA+zwr+Caz6yGas/5xoui7mhulC6JdZvy/Gs/4aKl\n",
       "iwulmiDns1irP0fndyda7cE1VvtJK3dK7n0Z6qzfxeS++hP5quihN62LRVhepOxvNyZ6t+lFOwjZ\n",
       "o9K6kt/H6ZuxLaPR9kqncDwGzVV5k/4jcp0AAAAASUVORK5CYII=\n",
       "\" style=\"display:inline;vertical-align:middle;\" /></a><br>(see <a class=\"ProveItLink\" href=\"../../../__pv_it/theorems/dae50c541a2d0c470a023eabd7413063ada8aff70/dependencies.ipynb\">dependencies</a>)<br>"
      ],
      "text/plain": [
       "<IPython.core.display.HTML object>"
      ]
     },
     "metadata": {},
     "output_type": "display_data"
    }
   ],
   "source": [
    "%proving positive_if_in_rational_pos"
   ]
  },
  {
   "cell_type": "code",
   "execution_count": 3,
   "metadata": {},
   "outputs": [
    {
     "data": {
      "text/html": [
       "<span style=\"font-size:20px;\"> <a class=\"ProveItLink\" href=\"../../axioms.ipynb#rationals_pos_def\" style=\"text-decoration: none\">&nbsp;&#x22A2;&nbsp;&nbsp;</a><a class=\"ProveItLink\" href=\"../../../__pv_it/axioms/21c91a6ba1803ea3b86e2bd6ce4e8493c1471fc80/expr.ipynb\"><img src=\"data:image/png;base64,iVBORw0KGgoAAAANSUhEUgAAALoAAAAbBAMAAAA5YIiJAAAAMFBMVEX///8AAAAAAAAAAAAAAAAA\n",
       "AAAAAAAAAAAAAAAAAAAAAAAAAAAAAAAAAAAAAAAAAAAv3aB7AAAAD3RSTlMAEIm7mSJ2q+8y3WZE\n",
       "zVRISQrpAAAACXBIWXMAAA7EAAAOxAGVKw4bAAACu0lEQVRIx72WT2gTQRTGv90km6QbQ6xoxSLZ\n",
       "WrwYKpUFPdhKWilSSjXEQvWii4jFtkqkWOyhWsxJvCweerRSCIKnPahIUROpKIhiwKvYvYmIJBb1\n",
       "ILU4s5v9k2aypBCdywzz3v72zXvvm13AGUn8y9H93+ncW2cd8Hz6TIq53SrLA3Xpl144a77gRQ9P\n",
       "xRi7wjU1cF+qQ49+RyP0PedJ4L4Mw5JIAC+X4ZflrHx4o5G/1wh9i87lNvhaB5KK5LWiwo69MfoS\n",
       "0Mmm+7aSA/FqcdP03Zq9PASUYkz6tjAJO6oPbprO7VOs5Q9gQWfS70RIDBHtuQc9MN1x0UUfPbdD\n",
       "NRbjHZX3ULrGpL8SdZJ85aujVf8DYxgd4KcZe5MKlh16JIcbVr77TB2sEroCYa6Wno4asU+y63WK\n",
       "GLnbCBYd+k4Ns5b524BNlxBYZ1TVzHsfEz76kcZfRovk0E8Ai7bDuys0M4T+nlDaPtXSt9s9w2jX\n",
       "o0R/oW6cLTj0LAJrDv1Apaolkt+u2o6NmP2uOzvuvFP9xRXknZ7hfkEs25m5akwykI9V6xpc5zFq\n",
       "HCJafb1cRye0D+I6el30dfisgy6Z9xOeAMPEbFd1fqoHaQkJEjJP75mkB92niKuufj+IvISqjkSL\n",
       "zt1yacNPxbNXR/sjMo/8WRmEB52bvrzmorddKBkzN26riesfUyv01sdPMUErdjcFQaDGGVHxosNK\n",
       "tKVVswq7NFYkufBPjqpSbEeFHlTGvhS86Ga72/TZ+r7+ZHiOit8gC7yx/7k3q7GfMPUXkqroN9m+\n",
       "VNehgpARP8jykYidGY9h6I9fWXTTu35LTF8iYsRTPiVsmK2qeo6R666DqF6eaeoZSi2oMBQ2n8F+\n",
       "rckf/sgQuShOqsYFPTzT/B+LZ1Smcg/J42mt+fR+e3X84WSz4XzW/q0JT6h/AWsGvS3IsUWkAAAA\n",
       "AElFTkSuQmCC\n",
       "\" style=\"display:inline;vertical-align:middle;\" /></a></span>"
      ],
      "text/plain": [
       "|- RationalPos = {q s.t. q > 0}_{q in Rational}"
      ]
     },
     "metadata": {},
     "output_type": "display_data"
    }
   ],
   "source": [
    "rationals_pos_def"
   ]
  },
  {
   "cell_type": "code",
   "execution_count": 4,
   "metadata": {},
   "outputs": [
    {
     "name": "stdout",
     "output_type": "stream",
     "text": [
      "proveit.numbers.number_sets.rational_numbers.positive_if_in_rational_pos has been proven.\n"
     ]
    },
    {
     "data": {
      "text/html": [
       "<table><tr><th>&nbsp;</th><th>step type</th><th>requirements</th><th>statement</th></tr>\n",
       "<tr><td><a name=\"0x4cfa3e8b45839599_step0\">0</a></td><td>generalization</td><td><a href=\"#0x4cfa3e8b45839599_step1\">1</a></td><td><span style=\"font-size:20px;\"> <a class=\"ProveItLink\" href=\"../../../__pv_it/_proof_positive_if_in_rational_pos/3756a9dba87e9dac7229f8bfb86e0e07310099ee0/proof.ipynb\" style=\"text-decoration: none\">&nbsp;&#x22A2;&nbsp;&nbsp;</a><a class=\"ProveItLink\" href=\"../../../__pv_it/theorems/755cfecdf07f6174b68a4e41dc54a7d68dede1040/expr.ipynb\"><img src=\"data:image/png;base64,iVBORw0KGgoAAAANSUhEUgAAAH8AAAAXBAMAAADQNI0XAAAAMFBMVEX///8AAAAAAAAAAAAAAAAA\n",
       "AAAAAAAAAAAAAAAAAAAAAAAAAAAAAAAAAAAAAAAAAAAv3aB7AAAAD3RSTlMAq1RmmUTNIjK7EInv\n",
       "3XZ/CtNrAAAACXBIWXMAAA7EAAAOxAGVKw4bAAACLUlEQVQ4y5VUz0sUYRh+3HF2Z75Zlz2pdWkg\n",
       "6Lpz2PSSbuavUERPHstb1Gm9FWps/QFagYf1IBOCl34tBolF4FGJoNsKIUyZeAhDougQhe87O/PN\n",
       "7DY75gcz3/v9eJ/vfZ/3+T7g5JZqulLEf7XPTVeu0Zdl43ycf6ISOf3mSxEZCxjkwY04gNXI2aQp\n",
       "qsAt4B4n+SAOoD9ytgfYAPKEZAOGGQewGQrGkuZDIGcjbUOhuWQsBVOBLd46vvkDWDCRJO/3u7vv\n",
       "4gBamcPpr89L7ujwtQfFABYMqsFVYOlfNyNgiw5Rqzjn5z5S08ZvAnCgUHjTSGUjzpVWGxH01EK7\n",
       "P74wLAEqSBBBum1MhDzFRl9HHUCaVseBj3Ji8ixvI4DrDrQjIsmRHM6fWcRMBS/NRoBtpH4GAEse\n",
       "iTkTKpdoqtcPm+jAuomVbmNgbGAwSEH8hXIkU+hwuzJQsJH4QOYayQlPei9ij3rtPgk0E45AdyC+\n",
       "Q/eL2TNc6y8BQ4DCEpwlDkVV+yV4oKygAYArtYyCdyH8MlJgYsurcQtVuPWytqmyzNg5Y4QBNIry\n",
       "8becS7Q4lEISo5/Ir21CMpXJKjfL5Ueql0KgA+zwr+Caz6yGas/5xoui7mhulC6JdZvy/Gs/4aKl\n",
       "iwulmiDns1irP0fndyda7cE1VvtJK3dK7n0Z6qzfxeS++hP5quihN62LRVhepOxvNyZ6t+lFOwjZ\n",
       "o9K6kt/H6ZuxLaPR9kqncDwGzVV5k/4jcp0AAAAASUVORK5CYII=\n",
       "\" style=\"display:inline;vertical-align:middle;\" /></a></span></td></tr>\n",
       "<tr><td><a name=\"0x4cfa3e8b45839599_step1\">1</a></td><td>instantiation</td><td><a href=\"#0x4cfa3e8b45839599_step2\">2</a>, <a href=\"#0x4cfa3e8b45839599_step3\">3</a></td><td><span style=\"font-size:20px;\"><a class=\"ProveItLink\" href=\"../../../__pv_it/theorems/930c6f8cc79545d48070601d4e429a2f1a6068930/expr.ipynb\"><img src=\"data:image/png;base64,iVBORw0KGgoAAAANSUhEUgAAAD8AAAAWBAMAAACF0lkSAAAAMFBMVEX///8AAAAAAAAAAAAAAAAA\n",
       "AAAAAAAAAAAAAAAAAAAAAAAAAAAAAAAAAAAAAAAAAAAv3aB7AAAAD3RSTlMAIqt2iRAyRN3vZs2Z\n",
       "u1SUszogAAAACXBIWXMAAA7EAAAOxAGVKw4bAAABGklEQVQoz2NgwAN4GAgAXnIVsPrevSOAT4HR\n",
       "NAYJFTwKWJYsYGA/foHh7N2bd+8uwKIghRtIXFiMaQLzjY5uEH01CEi4cWMoYN8cAHHihWQg+Y4n\n",
       "AaaAUdnVDERLQ+QZ2ByqgGQV1wOYggoBpg8geiPMJIN1QDKZbwE0JFlnMTBtADE2QBUwOrwCmcBc\n",
       "AAvvDwwcDiCTZ3R0dPSCRKBugNrIwHmBQb4A7DaYa68KwXwBBvEGDOvBjAaYSAk4HNbBFTxguA1m\n",
       "GMMjGRSS6nADeQ24voAZ3A9gQk7AuNBBRJ2y3XcIQ7cU5o/zu/8kIAUh1wdoAPhCgpqBgSlhMXIY\n",
       "M23AiC9lZr10BI/TAUMBn+7OW4jo39+CL9kBAPEbQlwtUom/AAAAAElFTkSuQmCC\n",
       "\" style=\"display:inline;vertical-align:middle;\" /></a> <a class=\"ProveItLink\" href=\"../../../__pv_it/_proof_positive_if_in_rational_pos/0142bb504593491c8bc050adfc52a7dde2b9cbb50/proof.ipynb\" style=\"text-decoration: none\">&nbsp;&#x22A2;&nbsp;&nbsp;</a><a class=\"ProveItLink\" href=\"../../../__pv_it/theorems/3591a475dda85c1d70377fc4ad4decffd42100290/expr.ipynb\"><img src=\"data:image/png;base64,iVBORw0KGgoAAAANSUhEUgAAAC8AAAASBAMAAAA57ZrsAAAAMFBMVEX///8AAAAAAAAAAAAAAAAA\n",
       "AAAAAAAAAAAAAAAAAAAAAAAAAAAAAAAAAAAAAAAAAAAv3aB7AAAAD3RSTlMAIqt2iRAyRN3vZs2Z\n",
       "u1SUszogAAAACXBIWXMAAA7EAAAOxAGVKw4bAAAAzklEQVQY02NgwAJcbASwCTNwP2BtxCqxgoHB\n",
       "F8GLXgBnXmJgeB8A57F6GMCYfxgY8h8wMDAqu5qB+RauUCUgCaD+CgGmD1Czj4Ipxi9ACQMG1lkM\n",
       "TBugZrw+CJdwYOD5wMDhADO9WhVkFFCi3oCB8wKDfAFc4irU8vcPGOINGNbDxF8rgqm7DAzrAxji\n",
       "HzDchnnsIIReycBwmoGB14DrCwOKcxk4HrBOA1qlbPcd7HoLuAdZjxglgGgusDciFmCEGdwb6IDT\n",
       "Abs4y/4WbMIANUMx01no+yEAAAAASUVORK5CYII=\n",
       "\" style=\"display:inline;vertical-align:middle;\" /></a></span></td></tr>\n",
       "<tr><td>&nbsp;</td><td colspan=4 style=\"text-align:left\"><span style=\"font-size:20px;\"><a class=\"ProveItLink\" href=\"../../../../../../__pv_it/common/a0d9d672aa5e272d907247690c152cc2c6daafb70/expr.ipynb\"><img src=\"data:image/png;base64,iVBORw0KGgoAAAANSUhEUgAAAAsAAAAJBAMAAAAWSsseAAAAMFBMVEX///8AAAAAAAAAAAAAAAAA\n",
       "AAAAAAAAAAAAAAAAAAAAAAAAAAAAAAAAAAAAAAAAAAAv3aB7AAAAD3RSTlMAEHarMolUmd1mIs3v\n",
       "RLtmgJDEAAAACXBIWXMAAA7EAAAOxAGVKw4bAAAAQklEQVQI12NgEFIWCU1gYChgMmJvYOBcwPmR\n",
       "eQIDCwP7BgYQ4FEAU/cXMAowyF2wYWBlYMh3rGG4xsAgrsRWmcAAAFEjCyBvD0T9AAAAAElFTkSu\n",
       "QmCC\n",
       "\" style=\"display:inline;vertical-align:middle;\" /></a> : <a class=\"ProveItLink\" href=\"../../../../../../__pv_it/common/e94b28ab65b49707a4f3bf26580dfe7bba3eebd90/expr.ipynb\"><img src=\"data:image/png;base64,iVBORw0KGgoAAAANSUhEUgAAAAoAAAANBAMAAABiGeI2AAAAMFBMVEX///8AAAAAAAAAAAAAAAAA\n",
       "AAAAAAAAAAAAAAAAAAAAAAAAAAAAAAAAAAAAAAAAAAAv3aB7AAAAD3RSTlMAIqt2iRAyRN3vZs2Z\n",
       "u1SUszogAAAACXBIWXMAAA7EAAAOxAGVKw4bAAAAT0lEQVQI12NgYFR2NWNgqBBg+sDAOouBaQMD\n",
       "zwcGDgcGzgsM8gUM8QYM6xkY4h8w3GZg4DXg+sLAwKps950BCLg+gEigciDgdAASLPtbGABvAw9D\n",
       "3RwB5wAAAABJRU5ErkJggg==\n",
       "\" style=\"display:inline;vertical-align:middle;\" /></a></span></td></tr><tr><td><a name=\"0x4cfa3e8b45839599_step2\">2</a></td><td>conjecture</td><td></td><td><span style=\"font-size:20px;\"> <a class=\"ProveItLink\" href=\"../../../../real_numbers/_theory_nbs_/proofs/positive_if_in_real_pos/thm_proof.ipynb\" style=\"text-decoration: none\">&nbsp;&#x22A2;&nbsp;&nbsp;</a><a class=\"ProveItLink\" href=\"../../../../real_numbers/__pv_it/theorems/fa0861a4dbbaf1c4d7fc59487e892e46cb79ff190/expr.ipynb\"><img src=\"data:image/png;base64,iVBORw0KGgoAAAANSUhEUgAAAIEAAAAVBAMAAACTeZA2AAAAMFBMVEX///8AAAAAAAAAAAAAAAAA\n",
       "AAAAAAAAAAAAAAAAAAAAAAAAAAAAAAAAAAAAAAAAAAAv3aB7AAAAD3RSTlMAq1RmmUTNIjK7EInv\n",
       "3XZ/CtNrAAAACXBIWXMAAA7EAAAOxAGVKw4bAAACFklEQVQ4y52UT0gUURzHv+6MO+M89+FNComB\n",
       "wIuIe4gOkbXi6oYWLAZeglrwIHSQ6W5g10Syk47BMgeJljA2D0qK4kUQIggvnoRZ0ARB6RAIdfH3\n",
       "xp0/b5sdooHH+8177/eZ3+/7+70B/uGx/mNHerjZdOspjQ5h3Ewk9MQvbx5Z4FlgSLxMJgGMUuxy\n",
       "2jQOgOfAK3rR5pMIajZ2uR/4AtwilAMwM4nQHrHfh7S3QJ+DdgcKraUTZeiOZrTl+uYv4I2JNLl/\n",
       "Ozz8mkgYpfGp9mHzKtCzjTpLELJgVIkHwNLfbiw0J2jk+A31ez3/EW/S/hDBhUIyv4DWESNfaO4D\n",
       "iqX8bvEl6C4EhCpSO0Cbw4oR1961gSmZsAvoUCMlHb8usiDCMxf6TyDlBkLqNbvIGdarjQQqiBsh\n",
       "LNWV7DPRSjGgdM/fys9QC3PccVn+UX4okgV9zjIcP4tOb7KB+w5SQp1V6iucF44s0aKCcJqTYigD\n",
       "lWJXoG1/4Wq+CwyTQqIZp0lIbl1LmxXvGjGtnJUInync1w8xBqmayJjGHp2jjNFCsSso63jsEdR3\n",
       "87KSc8DyeWrQawfjLNDDGK2RYyaswgVw27Ztk3M2JvdDZia0VxrvyMvA0nc0zHox8NYnjnRIySU0\n",
       "7KBvTLOSSp3h6YCNBpeF5oDwVqvH26fQFkWxf1SXh+VjleaEtobf3EfbLsZ9yG1KOAEuAflLcZUP\n",
       "5D9IAAAAAElFTkSuQmCC\n",
       "\" style=\"display:inline;vertical-align:middle;\" /></a></span></td></tr>\n",
       "<tr><td>&nbsp;</td><td colspan=4 style-\"text-align:left\"><a class=\"ProveItLink\" href=\"../../../../real_numbers/_theory_nbs_/proofs/positive_if_in_real_pos/thm_proof.ipynb\">proveit.numbers.number_sets.real_numbers.positive_if_in_real_pos</a></td></tr><tr><td><a name=\"0x4cfa3e8b45839599_step3\">3</a></td><td>instantiation</td><td><a href=\"#0x4cfa3e8b45839599_step4\">4</a>, <a href=\"#0x4cfa3e8b45839599_step5\">5</a>, <a href=\"#0x4cfa3e8b45839599_step6\">6</a></td><td><span style=\"font-size:20px;\"><a class=\"ProveItLink\" href=\"../../../__pv_it/theorems/930c6f8cc79545d48070601d4e429a2f1a6068930/expr.ipynb\"><img src=\"data:image/png;base64,iVBORw0KGgoAAAANSUhEUgAAAD8AAAAWBAMAAACF0lkSAAAAMFBMVEX///8AAAAAAAAAAAAAAAAA\n",
       "AAAAAAAAAAAAAAAAAAAAAAAAAAAAAAAAAAAAAAAAAAAv3aB7AAAAD3RSTlMAIqt2iRAyRN3vZs2Z\n",
       "u1SUszogAAAACXBIWXMAAA7EAAAOxAGVKw4bAAABGklEQVQoz2NgwAN4GAgAXnIVsPrevSOAT4HR\n",
       "NAYJFTwKWJYsYGA/foHh7N2bd+8uwKIghRtIXFiMaQLzjY5uEH01CEi4cWMoYN8cAHHihWQg+Y4n\n",
       "AaaAUdnVDERLQ+QZ2ByqgGQV1wOYggoBpg8geiPMJIN1QDKZbwE0JFlnMTBtADE2QBUwOrwCmcBc\n",
       "AAvvDwwcDiCTZ3R0dPSCRKBugNrIwHmBQb4A7DaYa68KwXwBBvEGDOvBjAaYSAk4HNbBFTxguA1m\n",
       "GMMjGRSS6nADeQ24voAZ3A9gQk7AuNBBRJ2y3XcIQ7cU5o/zu/8kIAUh1wdoAPhCgpqBgSlhMXIY\n",
       "M23AiC9lZr10BI/TAUMBn+7OW4jo39+CL9kBAPEbQlwtUom/AAAAAElFTkSuQmCC\n",
       "\" style=\"display:inline;vertical-align:middle;\" /></a> <a class=\"ProveItLink\" href=\"../../../__pv_it/_proof_positive_if_in_rational_pos/951b0aa36a33c391b89be7e52fe69ccd086e84ef0/proof.ipynb\" style=\"text-decoration: none\">&nbsp;&#x22A2;&nbsp;&nbsp;</a><a class=\"ProveItLink\" href=\"../../../__pv_it/_proof_positive_if_in_rational_pos/b91bcbc2b0ebf86d7db95ddf214b335167b291560/expr.ipynb\"><img src=\"data:image/png;base64,iVBORw0KGgoAAAANSUhEUgAAAD4AAAAWBAMAAABqEDIsAAAAMFBMVEX///8AAAAAAAAAAAAAAAAA\n",
       "AAAAAAAAAAAAAAAAAAAAAAAAAAAAAAAAAAAAAAAAAAAv3aB7AAAAD3RSTlMAIqt2iRAyRN3vZs2Z\n",
       "u1SUszogAAAACXBIWXMAAA7EAAAOxAGVKw4bAAAA6klEQVQoz2NgwAMOMOAHF8iR59p593fnLTz6\n",
       "eRkV2LWu4pN3YLiQxMBz9+7cu7dwyB/kxtRv29GxAS7PiyFfbYqkXzUILs+o7GoGorYimc92byNc\n",
       "vkKA6QOQ4hZAyM/ubw6AhR/rLAYmkLXcSO7zWroBzuP5wMDhAKQzO4DgAtT8q6vg8pwXGOQLgHQs\n",
       "sv9yeANgvHgDhvUgmgNZnicR7rX4Bwy3QTSzAZI86wUrOM+A6wuYsQ8hf4BhFW8BlMeqbPcdzAi6\n",
       "HgCLv78CvLf/ISL0A4QuudGxAVt8MW3An0o4HfBKs+xvwSMLABSCQy4D5RamAAAAAElFTkSuQmCC\n",
       "\" style=\"display:inline;vertical-align:middle;\" /></a></span></td></tr>\n",
       "<tr><td>&nbsp;</td><td colspan=4 style=\"text-align:left\"><span style=\"font-size:20px;\"><a class=\"ProveItLink\" href=\"../../../../../../__pv_it/common/09585084922504426caf1db2ff588a23a0932a960/expr.ipynb\"><img src=\"data:image/png;base64,iVBORw0KGgoAAAANSUhEUgAAAA8AAAAPBAMAAADJ+Ih5AAAAMFBMVEX///8AAAAAAAAAAAAAAAAA\n",
       "AAAAAAAAAAAAAAAAAAAAAAAAAAAAAAAAAAAAAAAAAAAv3aB7AAAAD3RSTlMAIs1UmauJMnZmRLsQ\n",
       "3e++988cAAAACXBIWXMAAA7EAAAOxAGVKw4bAAAAXklEQVQI12NgAAEhBijQh9LM/6EMlngBCCMx\n",
       "vwBMMzb0G0BkGOwngBmLGeoTwAwHBvkAEM2xxSV+A4hxgoGB/wJEhoH3AZDmAupg+gBkyAEx90cG\n",
       "htP/dRiY939KAABt3hLO6mcEjQAAAABJRU5ErkJggg==\n",
       "\" style=\"display:inline;vertical-align:middle;\" /></a> : <a class=\"ProveItLink\" href=\"../../../__pv_it/common/39fff3ae65f6d9157cfa06ec86121d04eceb9fae0/expr.ipynb\"><img src=\"data:image/png;base64,iVBORw0KGgoAAAANSUhEUgAAABwAAAAVBAMAAACnLJNvAAAAMFBMVEX///8AAAAAAAAAAAAAAAAA\n",
       "AAAAAAAAAAAAAAAAAAAAAAAAAAAAAAAAAAAAAAAAAAAv3aB7AAAAD3RSTlMAEIm7mSJ2q+8y3WZE\n",
       "zVRISQrpAAAACXBIWXMAAA7EAAAOxAGVKw4bAAAAnUlEQVQY02NgQAAHBhRggI0rZGzsiuCyVUxg\n",
       "Xa4A52prMzAcOczAYmzcbGzNwKlwgYGBmTsBKsssWMDAwDThApQrzAmU4HvgCeVO4tnAwMCzYR+U\n",
       "e4z7AQMDZ8JrqKuC+MCyOVCnMEP0OsK4onCTQYAHYu8DmMO9ga46fhjuDyaQm5G8GvL3vieyPyvB\n",
       "LoYD9oT0lweQ+M9tmzdAWADibSZlgN/ipgAAAABJRU5ErkJggg==\n",
       "\" style=\"display:inline;vertical-align:middle;\" /></a>, <a class=\"ProveItLink\" href=\"../../../../../../__pv_it/common/a9162d1c3cc0470c02e5daf414500903a7a419230/expr.ipynb\"><img src=\"data:image/png;base64,iVBORw0KGgoAAAANSUhEUgAAABAAAAAOBAMAAADUAYG5AAAAMFBMVEX///8AAAAAAAAAAAAAAAAA\n",
       "AAAAAAAAAAAAAAAAAAAAAAAAAAAAAAAAAAAAAAAAAAAv3aB7AAAAD3RSTlMAZrurzTLvInZEmRDd\n",
       "VIkafcLnAAAACXBIWXMAAA7EAAAOxAGVKw4bAAAAb0lEQVQI12NgYBD6b2zsFMAABEkMDMxfgTT7\n",
       "DwYGzl9ABiOQxwjkMDB/YGBgSQcy2BQYuG1AiuM1OkwEQJr6Cxh4E0EMNSB+D5L6DMTyDQwMrB+B\n",
       "DPsJDAwc34GcL0AOSwIDwzRvoHH6n41NdBkYAF/iFeJ4bEa2AAAAAElFTkSuQmCC\n",
       "\" style=\"display:inline;vertical-align:middle;\" /></a> : <a class=\"ProveItLink\" href=\"../../../../real_numbers/__pv_it/common/174917e13d50b91c585b7f765a2896383a3ae8010/expr.ipynb\"><img src=\"data:image/png;base64,iVBORw0KGgoAAAANSUhEUgAAABsAAAASBAMAAABY9biuAAAAMFBMVEX///8AAAAAAAAAAAAAAAAA\n",
       "AAAAAAAAAAAAAAAAAAAAAAAAAAAAAAAAAAAAAAAAAAAv3aB7AAAAD3RSTlMAZs3vu90iq0QQiTKZ\n",
       "VHZ+Ip2vAAAACXBIWXMAAA7EAAAOxAGVKw4bAAAAdklEQVQY02NggAMeBhTAgoUrZOKvaiKAkHVI\n",
       "Z2gXmYDgZjGwcBcwHHFxdnERAHN5EhSQZXkSHJC57DMLkLlbLiUguMmqX18iXOWQJTgJyTEOWSwT\n",
       "BZC53Ac8kbkMp1NQuFP4EKodchgYBTxgPKCP3Bhc9C9AeAAVYxpD6z3f8gAAAABJRU5ErkJggg==\n",
       "\" style=\"display:inline;vertical-align:middle;\" /></a>, <a class=\"ProveItLink\" href=\"../../../../../../__pv_it/common/a0d9d672aa5e272d907247690c152cc2c6daafb70/expr.ipynb\"><img src=\"data:image/png;base64,iVBORw0KGgoAAAANSUhEUgAAAAsAAAAJBAMAAAAWSsseAAAAMFBMVEX///8AAAAAAAAAAAAAAAAA\n",
       "AAAAAAAAAAAAAAAAAAAAAAAAAAAAAAAAAAAAAAAAAAAv3aB7AAAAD3RSTlMAEHarMolUmd1mIs3v\n",
       "RLtmgJDEAAAACXBIWXMAAA7EAAAOxAGVKw4bAAAAQklEQVQI12NgEFIWCU1gYChgMmJvYOBcwPmR\n",
       "eQIDCwP7BgYQ4FEAU/cXMAowyF2wYWBlYMh3rGG4xsAgrsRWmcAAAFEjCyBvD0T9AAAAAElFTkSu\n",
       "QmCC\n",
       "\" style=\"display:inline;vertical-align:middle;\" /></a> : <a class=\"ProveItLink\" href=\"../../../../../../__pv_it/common/e94b28ab65b49707a4f3bf26580dfe7bba3eebd90/expr.ipynb\"><img src=\"data:image/png;base64,iVBORw0KGgoAAAANSUhEUgAAAAoAAAANBAMAAABiGeI2AAAAMFBMVEX///8AAAAAAAAAAAAAAAAA\n",
       "AAAAAAAAAAAAAAAAAAAAAAAAAAAAAAAAAAAAAAAAAAAv3aB7AAAAD3RSTlMAIqt2iRAyRN3vZs2Z\n",
       "u1SUszogAAAACXBIWXMAAA7EAAAOxAGVKw4bAAAAT0lEQVQI12NgYFR2NWNgqBBg+sDAOouBaQMD\n",
       "zwcGDgcGzgsM8gUM8QYM6xkY4h8w3GZg4DXg+sLAwKps950BCLg+gEigciDgdAASLPtbGABvAw9D\n",
       "3RwB5wAAAABJRU5ErkJggg==\n",
       "\" style=\"display:inline;vertical-align:middle;\" /></a></span></td></tr><tr><td><a name=\"0x4cfa3e8b45839599_step4\">4</a></td><td>theorem</td><td></td><td><span style=\"font-size:20px;\"> <a class=\"ProveItLink\" href=\"../../../../../../logic/sets/inclusion/_theory_nbs_/proofs/superset_membership_from_proper_subset/thm_proof.ipynb\" style=\"text-decoration: none\">&nbsp;&#x22A2;&nbsp;&nbsp;</a><a class=\"ProveItLink\" href=\"../../../../../../logic/sets/inclusion/__pv_it/theorems/8c2c4c3c91efdbf0b7e86e4a2d99545aea54db000/expr.ipynb\"><img src=\"data:image/png;base64,iVBORw0KGgoAAAANSUhEUgAAAPcAAAAXBAMAAAAl5sTiAAAAMFBMVEX///8AAAAAAAAAAAAAAAAA\n",
       "AAAAAAAAAAAAAAAAAAAAAAAAAAAAAAAAAAAAAAAAAAAv3aB7AAAAD3RSTlMAq1RmmUTNIjK7EInv\n",
       "3XZ/CtNrAAAACXBIWXMAAA7EAAAOxAGVKw4bAAADd0lEQVRIx7WWX0gUQRzHv/d37/bsPEmkgvCo\n",
       "6DGOlKIH80IqxTIhCMmoS4jQl85HqXR7jKQO4aCTyhMkKBJOsSDuodMeKqIQ6qEHF7YMpAhTMz0M\n",
       "qtmZ2925013lwIG7nZ3fb+cz8/s3AxTZ/LJkrSBYCaMbmMCi+ZrXUfhiJTzPZgio/d3FwG3qwx4y\n",
       "kdtTaw4f+ldW1i7BH6Lwo+rQ5WLgTnXv7qiJ/KHJ+BvAlgU6KPyG6p5YMXCParQuM3mdSST8BVyL\n",
       "QDWFu5PkESzK52T1GDWTZ/LevslyhHYcZNcOsoCSpDqDg1jfXVzAVZFHxMzleYIz37WebY7gXpFf\n",
       "iIbsO1l+Wxy8RJanUiZiJxGIsztuUcsIHfp4SQziTpJjvgCF1wP9dDxZ8LnWEc3gTgnego90XbIz\n",
       "MsNn5STyo/LOg9kKNUEcEQrvhEDTTXxNpTcX0w00+72a/hO9GHgGGsfuGnDyXWfBknTdLSSMDqI2\n",
       "uZXCDYWfUdhfqm7JULg3yeqFb4FFxCT8mTz4CzKPZySRIMuvAX5wRaYfTzWl29vjmi4zLxFLOMZe\n",
       "emXSWEbdU5XICj1zdAa7whbW8p5FRBiOOR7u6lWARrajcqCWg+/T481Zb+jqcIBNiUfGzufJr5Yo\n",
       "udjOETlMh5WL7KsghkM83O8O6Lk4AfEDB3c7yDT+r93HMW3oGmaHaxmP6YvO9vwif5XqlicZfJTG\n",
       "oj9no57p6m3g4YozgkGtQlQdkTi4by+JtxlbrE2MGbqseRWIcVsGNBv8in4cLZMFLKnejTH4Nbra\n",
       "lpw3ayCW83CXRELgNLR4GAxzcGGcdEJeRXKFDN2cOAB7dijjYiZr05OAyM91sFSkcBvdTGO6Mplz\n",
       "a08zB3emR1awC1o8CL/5U43aqDQKR3si0ZfTzdl3EmKTsmc/exuMs5S0DcyXVfRRTzRz56KfMCXm\n",
       "VlzgU02BkMVVaPHgyq46UnsR9aQM3Vz7lJeCrffl/Fp4nZ+BGLY0KKYgrED8yJldNegCvKxK9CQx\n",
       "HC6AC5lnCLMyxXRzrdq6QNZxcOc4xFOXPBM48CfdEOTgJwIYWmoWaWlxXEmP9a26TDS1zibRJem6\n",
       "WsRFLa85sdXXETvX9+YV0wQtMqY3GfF5Il5QaC2PaXVphfCzZvA1avt6V7BuK+EMibKpAnho4/DN\n",
       "bcLmI/4DAvPgMMgumckAAAAASUVORK5CYII=\n",
       "\" style=\"display:inline;vertical-align:middle;\" /></a></span></td></tr>\n",
       "<tr><td>&nbsp;</td><td colspan=4 style-\"text-align:left\"><a class=\"ProveItLink\" href=\"../../../../../../logic/sets/inclusion/_theory_nbs_/proofs/superset_membership_from_proper_subset/thm_proof.ipynb\">proveit.logic.sets.inclusion.superset_membership_from_proper_subset</a></td></tr><tr><td><a name=\"0x4cfa3e8b45839599_step5\">5</a></td><td>conjecture</td><td></td><td><span style=\"font-size:20px;\"> <a class=\"ProveItLink\" href=\"../../../../real_numbers/_theory_nbs_/proofs/rational_pos_within_real_pos/thm_proof.ipynb\" style=\"text-decoration: none\">&nbsp;&#x22A2;&nbsp;&nbsp;</a><a class=\"ProveItLink\" href=\"../../../../real_numbers/__pv_it/theorems/c5efea99790203f286dfb04b2f4d0726afb5dda10/expr.ipynb\"><img src=\"data:image/png;base64,iVBORw0KGgoAAAANSUhEUgAAAFQAAAAVBAMAAAAqQdQ7AAAAMFBMVEX///8AAAAAAAAAAAAAAAAA\n",
       "AAAAAAAAAAAAAAAAAAAAAAAAAAAAAAAAAAAAAAAAAAAv3aB7AAAAD3RSTlMAEIm7mSJ2q+8y3WZE\n",
       "zVRISQrpAAAACXBIWXMAAA7EAAAOxAGVKw4bAAABMUlEQVQoz2NgQAAHBtwATc4Aj1IDUpUKGRu7\n",
       "YlfKfcP47wprhBxbxQTW5QrYTWVmLeCpNoTLaWszMBw5zMBibNxsbI2hVIHBYDpMjlPhAlCIOwGH\n",
       "qQoMrrwwU5kFCxgYmCZcQFaavGrVqpVwpcwwpcKcQAP5HngiKZ2rimxqoThM6SSeDQwMPBv2IZQy\n",
       "LkV2AKfdVZjSY9wPGBg4E14jYoT9AJLS3vXLBGCxFcQHNjUH4RdeZG9pb7yA4EHc6oiQn44SAoa7\n",
       "ETxReAhAQTiK0inMAjAeDyRcHyDkuVCUskxFBLc3MLaOH0YKd5YNyEoZDbLhXCZQGkBJjneQlDow\n",
       "7GZGhEjI3/ueKNEpXCMAT1mfA5ht/yGkKsEpAAkcsoJGLAZgT0h/eYCBOPDctnkDYVUA7HlJvPq8\n",
       "mWMAAAAASUVORK5CYII=\n",
       "\" style=\"display:inline;vertical-align:middle;\" /></a></span></td></tr>\n",
       "<tr><td>&nbsp;</td><td colspan=4 style-\"text-align:left\"><a class=\"ProveItLink\" href=\"../../../../real_numbers/_theory_nbs_/proofs/rational_pos_within_real_pos/thm_proof.ipynb\">proveit.numbers.number_sets.real_numbers.rational_pos_within_real_pos</a></td></tr><tr><td><a name=\"0x4cfa3e8b45839599_step6\">6</a></td><td>assumption</td><td></td><td><span style=\"font-size:20px;\"><a class=\"ProveItLink\" href=\"../../../__pv_it/theorems/930c6f8cc79545d48070601d4e429a2f1a6068930/expr.ipynb\"><img src=\"data:image/png;base64,iVBORw0KGgoAAAANSUhEUgAAAD8AAAAWBAMAAACF0lkSAAAAMFBMVEX///8AAAAAAAAAAAAAAAAA\n",
       "AAAAAAAAAAAAAAAAAAAAAAAAAAAAAAAAAAAAAAAAAAAv3aB7AAAAD3RSTlMAIqt2iRAyRN3vZs2Z\n",
       "u1SUszogAAAACXBIWXMAAA7EAAAOxAGVKw4bAAABGklEQVQoz2NgwAN4GAgAXnIVsPrevSOAT4HR\n",
       "NAYJFTwKWJYsYGA/foHh7N2bd+8uwKIghRtIXFiMaQLzjY5uEH01CEi4cWMoYN8cAHHihWQg+Y4n\n",
       "AaaAUdnVDERLQ+QZ2ByqgGQV1wOYggoBpg8geiPMJIN1QDKZbwE0JFlnMTBtADE2QBUwOrwCmcBc\n",
       "AAvvDwwcDiCTZ3R0dPSCRKBugNrIwHmBQb4A7DaYa68KwXwBBvEGDOvBjAaYSAk4HNbBFTxguA1m\n",
       "GMMjGRSS6nADeQ24voAZ3A9gQk7AuNBBRJ2y3XcIQ7cU5o/zu/8kIAUh1wdoAPhCgpqBgSlhMXIY\n",
       "M23AiC9lZr10BI/TAUMBn+7OW4jo39+CL9kBAPEbQlwtUom/AAAAAElFTkSuQmCC\n",
       "\" style=\"display:inline;vertical-align:middle;\" /></a> <a class=\"ProveItLink\" href=\"../../../__pv_it/_proof_positive_if_in_rational_pos/d51f56c9412ca82a98cce1f2b64aee75f4f7cbe70/proof.ipynb\" style=\"text-decoration: none\">&nbsp;&#x22A2;&nbsp;&nbsp;</a><a class=\"ProveItLink\" href=\"../../../__pv_it/theorems/930c6f8cc79545d48070601d4e429a2f1a6068930/expr.ipynb\"><img src=\"data:image/png;base64,iVBORw0KGgoAAAANSUhEUgAAAD8AAAAWBAMAAACF0lkSAAAAMFBMVEX///8AAAAAAAAAAAAAAAAA\n",
       "AAAAAAAAAAAAAAAAAAAAAAAAAAAAAAAAAAAAAAAAAAAv3aB7AAAAD3RSTlMAIqt2iRAyRN3vZs2Z\n",
       "u1SUszogAAAACXBIWXMAAA7EAAAOxAGVKw4bAAABGklEQVQoz2NgwAN4GAgAXnIVsPrevSOAT4HR\n",
       "NAYJFTwKWJYsYGA/foHh7N2bd+8uwKIghRtIXFiMaQLzjY5uEH01CEi4cWMoYN8cAHHihWQg+Y4n\n",
       "AaaAUdnVDERLQ+QZ2ByqgGQV1wOYggoBpg8geiPMJIN1QDKZbwE0JFlnMTBtADE2QBUwOrwCmcBc\n",
       "AAvvDwwcDiCTZ3R0dPSCRKBugNrIwHmBQb4A7DaYa68KwXwBBvEGDOvBjAaYSAk4HNbBFTxguA1m\n",
       "GMMjGRSS6nADeQ24voAZ3A9gQk7AuNBBRJ2y3XcIQ7cU5o/zu/8kIAUh1wdoAPhCgpqBgSlhMXIY\n",
       "M23AiC9lZr10BI/TAUMBn+7OW4jo39+CL9kBAPEbQlwtUom/AAAAAElFTkSuQmCC\n",
       "\" style=\"display:inline;vertical-align:middle;\" /></a></span></td></tr>\n",
       "</table>"
      ],
      "text/plain": [
       "\tstep type\trequirements\tstatement\n",
       "0\tgeneralization\t1\t|- forall_{q in RationalPos} (q > 0)\n",
       "1\tinstantiation\t2, 3\t{q in RationalPos} |- q > 0\n",
       "\tx : q\n",
       "2\tconjecture\t\t|- forall_{x in RealPos} (x > 0)\n",
       "\tproveit.numbers.number_sets.real_numbers.positive_if_in_real_pos\n",
       "3\tinstantiation\t4, 5, 6\t{q in RationalPos} |- q in RealPos\n",
       "\tA : RationalPos, B : RealPos, x : q\n",
       "4\ttheorem\t\t|- forall_{A, B | A proper_subset B} [forall_{x in A} (x in B)]\n",
       "\tproveit.logic.sets.inclusion.superset_membership_from_proper_subset\n",
       "5\tconjecture\t\t|- RationalPos proper_subset RealPos\n",
       "\tproveit.numbers.number_sets.real_numbers.rational_pos_within_real_pos\n",
       "6\tassumption\t\t{q in RationalPos} |- q in RationalPos"
      ]
     },
     "execution_count": 4,
     "metadata": {},
     "output_type": "execute_result"
    }
   ],
   "source": [
    "%qed"
   ]
  },
  {
   "cell_type": "code",
   "execution_count": null,
   "metadata": {},
   "outputs": [],
   "source": []
  }
 ],
 "metadata": {
  "kernelspec": {
   "display_name": "Python 3",
   "language": "python",
   "name": "python3"
  }
 },
 "nbformat": 4,
 "nbformat_minor": 0
}