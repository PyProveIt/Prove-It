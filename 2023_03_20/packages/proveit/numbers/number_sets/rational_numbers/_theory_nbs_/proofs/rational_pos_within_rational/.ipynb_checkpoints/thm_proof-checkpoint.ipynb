{
 "cells": [
  {
   "cell_type": "markdown",
   "metadata": {},
   "source": [
    "Proof of <a class=\"ProveItLink\" href=\"../../../../../../_theory_nbs_/theory.ipynb\">proveit</a>.<a class=\"ProveItLink\" href=\"../../../../../_theory_nbs_/theory.ipynb\">numbers</a>.<a class=\"ProveItLink\" href=\"../../../../_theory_nbs_/theory.ipynb\">number_sets</a>.<a class=\"ProveItLink\" href=\"../../theory.ipynb\">rational_numbers</a>.<a class=\"ProveItLink\" href=\"../../theorems.ipynb#rational_pos_within_rational\">rational_pos_within_rational</a> theorem\n",
    "========"
   ]
  },
  {
   "cell_type": "code",
   "execution_count": 1,
   "metadata": {},
   "outputs": [],
   "source": [
    "import proveit\n",
    "from proveit import Lambda\n",
    "from proveit import k, q, x, y, A, B, P, S, Py, Qy\n",
    "# SOME STUFF COMMENTED OUT TEMPORARILY TO ALLOW COMPILATION AFTER MASTER MERGED\n",
    "# INTO THE CRAFT_EDITS_CONTAINMENT_DEMOS BRANCH WHICH ALSO REMOVED THE\n",
    "# COMPREHENSION THEOREMS\n",
    "# from proveit.logic import iter_q1k\n",
    "from proveit.logic.sets.inclusion  import proper_subset_def, subset_eq_def\n",
    "from proveit.numbers import one, zero, Less, greater, Rational, RationalPos\n",
    "from proveit.numbers.number_sets.rational_numbers  import rationals_def, rationals_pos_def\n",
    "# from proveit.logic.sets.comprehension import comprehension_is_subset\n",
    "theory = proveit.Theory() # the theorem's theory"
   ]
  },
  {
   "cell_type": "code",
   "execution_count": 2,
   "metadata": {
    "scrolled": true
   },
   "outputs": [
    {
     "data": {
      "text/html": [
       "Under these <a href=\"presumptions.txt\">presumptions</a>, we begin our proof of<br><strong id=\"rational_pos_within_rational\">rational_pos_within_rational:</strong> <a class=\"ProveItLink\" href=\"../../../__pv_it/theorems/072c9013fa541c652f14072983fa20c0574a295c0/expr.ipynb\"><img src=\"data:image/png;base64,iVBORw0KGgoAAAANSUhEUgAAAEkAAAAVBAMAAAD4Ed5jAAAAMFBMVEX///+qqqoyMjK6urqYmJgi\n",
       "IiLMzMwQEBBUVFSIiIjc3NxmZmZERER2dnbu7u4AAACF9pTcAAAAAXRSTlMAQObYZgAAAAlwSFlz\n",
       "AAAOxAAADsQBlSsOGwAAAUxJREFUKM9jYECADQzEgAOUq3p75swuXKr47pw5vQDE4GxP4Iq4gEPV\n",
       "jDKGpb0gxpUrDAzWNgzcZ87UnDmCpojX14GBeTNQN9sFBQYGHpYJWM3KZQIJewIVvGsA6klQQFbF\n",
       "eTQ0NDQByDj3AkhcAyp9wwY0hlFgG5IqNt0FULcfyASSgtwJDLnMDgwMzA6OSKqeLoApv2ACJE1Y\n",
       "BBgsgZiBbYIIUtg3w2xmngDSnMnowLCWEWzWZCQ3K8AYXBdAmk04DRh4IO7ah1DE1oCIDYi7HjDw\n",
       "vIL7EWYCQtW5FVA/MkPCSwDJxgA4yxYcXiDHbQGGvYUNclhugbO4QWHfDPI7LygeUZIWkwGceQMY\n",
       "j91g1upP+ttQE8IJO7gb9yv9ToAw28CxiASY70BjiIGBI8ETKsgxYYaYAa7U18nZmAxhSRyqccCl\n",
       "irFH/QgDACnVV59ylS0KAAAAAElFTkSuQmCC\n",
       "\" style=\"display:inline;vertical-align:middle;\" /></a><br>(see <a class=\"ProveItLink\" href=\"../../../__pv_it/theorems/4c548939eb2c49550bf1974de129f2094fcfe07d0/dependencies.ipynb\">dependencies</a>)<br>"
      ],
      "text/plain": [
       "rational_pos_within_rational: RationalPos proper_subset Rational"
      ]
     },
     "execution_count": 2,
     "metadata": {},
     "output_type": "execute_result"
    }
   ],
   "source": [
    "%proving rational_pos_within_rational"
   ]
  },
  {
   "cell_type": "code",
   "execution_count": 3,
   "metadata": {},
   "outputs": [
    {
     "data": {
      "text/html": [
       "<span style=\"font-size:20px;\"> <a class=\"ProveItLink\" href=\"../../../../../../logic/sets/inclusion/_theory_nbs_/axioms.ipynb#proper_subset_def\" style=\"text-decoration: none\">&nbsp;&#x22A2;&nbsp;&nbsp;</a><a class=\"ProveItLink\" href=\"../../../../../../logic/sets/inclusion/__pv_it/axioms/62d68349fdc6e5e10115b34eb80d97b83bd304d20/expr.ipynb\"><img src=\"data:image/png;base64,iVBORw0KGgoAAAANSUhEUgAAAWsAAAAWBAMAAAD0o6DgAAAAMFBMVEX///+IiIgiIiIQEBB2dnbu\n",
       "7u5ERETMzMzc3NwyMjK6urpmZmaYmJiqqqpUVFQAAAB6qHgnAAAAAXRSTlMAQObYZgAAAAlwSFlz\n",
       "AAAOxAAADsQBlSsOGwAABApJREFUSMfVV0toU0EUvYl5+bRJmiIUF1VDRCt+MP5RULPowo0auyi4\n",
       "kapIBRetLgpd2I+K4MYGtCLip6IigmIXovhBo4ggXRhUBFFoN1qs0FSptVXbeufz3sybeS8ppRsv\n",
       "nLzk3Tnz7py5c98NQEFr4yhgwRnjBWFqwRSZGMCTY0A76TamJDZTvLmFFpkBuAICfeTmJ5fB7zjQ\n",
       "LmvOcMPE4Nd6gMoZ4kVSwicLTC00hEJkBR6Sm+ecozYyDGTOSd09qw4g3wih9FR4FYlEosqR52Pb\n",
       "Arskn6Qxs14MGzoFWoi3zjns0iwD+ZrXM6oDt/lON4S7p8BrnuPKq+GxPZZ8aDfHYuBvNDPpySh+\n",
       "9AiQNZvr1eTkQNu6o1FT7TXeeo3zri3OMxZLboVXOcCuSdkHgWVH9nV9NLigvuO/yJxpC2FUJeSS\n",
       "2h84cD9i89nSmrcKdx5xGsW8UJwX7QJXXryJpVNG9kG0DUoWbXzDee2ecZLgWYFVicQal7DvcuBe\n",
       "Q29WU20dwG4i/PbiPJswdl4kFaJ5VJqSfeAhrC0XOaU78pdo3idwH2A/dWkni8rBJLkNrSlVtcBI\n",
       "+TzqfUWfmqDW58xrATcehNoiNJeJhMJnL54lucAwqUEZgVMQpM8y1tMRTX+q75kneTkHrhY6+lTV\n",
       "PHhK3pJnvVWXq/NOufNwRQvJ1ZuTfdQGrDMOwQmyMUkBf9pHJfSNs6oaB0+Sj97IAZ6Dj/J1qmp+\n",
       "HOYjJ6VVDVvned15/QDl9Bx3yT6qsVXgKh49GSF7MSQQiTEJb6yklyhWpiH18TsByuKqamWoY/g7\n",
       "frnqGrbFK8268Uh9r7HCtnwk6VaYSWdgaflB1pEUgMwzOlvsEiteOajJqpuNyedNqqq14rDob/zy\n",
       "Rs1tnQfn3Xik+JbmzCSxfMReiBwBWECSJC4A2zrZyX3A3gWVPf3m8D0cJVn2drWrNh8LQCupWi9V\n",
       "tXUe7B5IO/O85svQH5N9tDKajFu8SQjXCcAxqtANmE2HPAfjmzl8O8cxMuuoqtppjGtD2qp1kjnw\n",
       "4Npe8zVl59GtrufVTfjIDVOiINmwhjZWI01AlBaOu9V5Ohxj7jCr3GGG2slOiDSM0UpWa6n2ZXJw\n",
       "8Cx9lyxRw3bgCVN4n8nHIXLe4rIPk241TzqjYSwN7yfP4M50CfCqhNHS8DdhT2AWQG8jg2xCNavf\n",
       "iathO/EcelGFV6X4BzTGUQlW+pTljBQEf4Kx1Goxu8GhUXJqnJTWdFq8HvvPgN7fPZbAptgMxtPz\n",
       "gU3warj6nmisDnAUtBP6LY3H6kxVQZ7f3mP6te0ijaoJe6eu/K7lKGgO65oWz7BHE9AIZF0mbHZd\n",
       "XV+MoeAfN4e/dtPjtRdZ5xwJNsvCf2L/AKZgY1NNz52HAAAAAElFTkSuQmCC\n",
       "\" style=\"display:inline;vertical-align:middle;\" /></a></span>"
      ],
      "text/plain": [
       "|- forall_{A, B} ((A proper_subset B) = ((A subset_eq B) and (B not_equiv A)))"
      ]
     },
     "execution_count": 3,
     "metadata": {},
     "output_type": "execute_result"
    }
   ],
   "source": [
    "proper_subset_def"
   ]
  },
  {
   "cell_type": "code",
   "execution_count": 4,
   "metadata": {},
   "outputs": [
    {
     "data": {
      "text/html": [
       "<strong id=\"subset_def_spec\">subset_def_spec:</strong> <span style=\"font-size:20px;\"> <a class=\"ProveItLink\" href=\"../../../__pv_it/_proof_rational_pos_within_rational/f5d64336f203c11f9562d952af5144d56518cb690/proof.ipynb\" style=\"text-decoration: none\">&nbsp;&#x22A2;&nbsp;&nbsp;</a><a class=\"ProveItLink\" href=\"../../../__pv_it/_proof_rational_pos_within_rational/d81768c1a73aec1212995ca8e9bde2cf6954915f0/expr.ipynb\"><img src=\"data:image/png;base64,iVBORw0KGgoAAAANSUhEUgAAAVYAAAAZBAMAAACY+Bu9AAAAMFBMVEX///9UVFQiIiKIiIjMzMx2\n",
       "dnYQEBDc3NxEREQyMjLu7u5mZmaqqqq6urqYmJgAAAB66f/FAAAAAXRSTlMAQObYZgAAAAlwSFlz\n",
       "AAAOxAAADsQBlSsOGwAAA61JREFUWMOlmE1oE0EUx1+yW7PNVyOItNBCuhc/Cpr20JuwFz0JydGD\n",
       "lJykl2IuSsWD0YPES0kR8SIaBNF6aZUWRUSi2FNBIl6qHkwRPdmbIC0UnJmd3ZnZN9NumweZkP3v\n",
       "7z+zb+czALAJIpbAFBnt1c2wOIhBvgN7xVJAMuOsbF83QimdxNiDG6zt2VTmx8hZ+msBYlUFPzXX\n",
       "FnoySDfjtZWR+RIp5sjnSaPxylgVF5MtLM1BLwZOVyZ1CPdj5EmS4CqAddRLjVYMVQWiVcCvtQq9\n",
       "GFwFmfSjpiDcj5HjpOOSS1NTAN/XIdNoTDfmolVxEdLbeLhUwGhg3XJd19MaXOTfK5IYPH1TrjPw\n",
       "Y+RiCwY6YFfIHQ7rEDgtQnyItIGOX2gM7Ls1k0H6BFd2ZBHg61YJHK+kINyPkv1dKLfAeU5y3Oc1\n",
       "5baGaRHia9TWcssvNAaPa2GvjBpYG/5UZW/LItinzt/urKXrCsL9KJmpwwTAM5s8Qba9LKflXlCX\n",
       "ECdRWyd4oTEYCW9CBknbv8kqKmSiBrnjMx86oPGjpFWFIYCzOTIgc90/2rQI8QeaCIZ4oTEQ0xEy\n",
       "WIX77DvRVEiLvufLD1SE+1Eytw0NgC/5Nslk6ZO07Ii0CLHMRspLl8Yo0xq8wAZ2wWhAWuqvAU5d\n",
       "IWlciyLcj5L2X5gHuJJlj3FGyphIixBvoBVxnhfYIFUwGpDH8Gfa/gIiR6IID0qmdmCMPKDfPd5I\n",
       "g19UJcRF1NYxXmADKBoNEh5YbNwnl6Jkrh5FeFAyvUPT4jwNhx1OixBveKa8YgN4ZzQgS3K6GORV\n",
       "IjOue5r0rgJo/CiZYn0g509nbW1ahFiuRftr0FaNQX/HZEBXgrdBW1XyF0KCyZGQ9j8YpEkgy8Tn\n",
       "ddCmRYh4HhgMCmyQPvzNYFAMxlCiHiWLCOHB5wE6dfXR5VfZeYq0CPE3ml8ngwIbQO5CsMaqBmw1\n",
       "cjx/wlTJvi6qkwcl81X/Ya9vPVpWt2s3w7SE4gvUVsbqDeRQDBL0djp2aKJkMuNecnl/RX6UzBTg\n",
       "EMvgEX9J1qUlFPF+gLEGAzkMBjOgkiMY4cH3A2yvBInS+EfjgcIXd9tnHcxgBRTSriMkeMt8n2VX\n",
       "2c/3d6a7xrwwMY/3r4zVG/jThberwTlQSMdDdQbnMkpukM8wxItkDV8bhl4MEm31yXcnj0WPS9Dr\n",
       "eWs/BnHOW6Cct7KVWPfrz7GVngxWIT45C9HjvTkyrVj/D+zLIMb/AyFJNgf/ASS1nfg1f/7yAAAA\n",
       "AElFTkSuQmCC\n",
       "\" style=\"display:inline;vertical-align:middle;\" /></a></span><br>"
      ],
      "text/plain": [
       "subset_def_spec: |- (RationalPos proper_subset Rational) = ((RationalPos subset_eq Rational) and (Rational not_equiv RationalPos))"
      ]
     },
     "execution_count": 4,
     "metadata": {},
     "output_type": "execute_result"
    }
   ],
   "source": [
    "subset_def_spec = proper_subset_def.instantiate({A:RationalPos, B:Rational})"
   ]
  },
  {
   "cell_type": "code",
   "execution_count": 5,
   "metadata": {},
   "outputs": [
    {
     "data": {
      "text/html": [
       "<span style=\"font-size:20px;\"> <a class=\"ProveItLink\" href=\"../../../../../../logic/sets/inclusion/_theory_nbs_/axioms.ipynb#subset_eq_def\" style=\"text-decoration: none\">&nbsp;&#x22A2;&nbsp;&nbsp;</a><a class=\"ProveItLink\" href=\"../../../../../../logic/sets/inclusion/__pv_it/axioms/0a73f44893619de306ad70c8de110c34b161d8b90/expr.ipynb\"><img src=\"data:image/png;base64,iVBORw0KGgoAAAANSUhEUgAAATUAAAAWBAMAAABTfhYbAAAAMFBMVEX///+IiIgiIiIQEBB2dnbu\n",
       "7u5ERETMzMzc3NwyMjK6urpmZmaYmJiqqqpUVFQAAAB6qHgnAAAAAXRSTlMAQObYZgAAAAlwSFlz\n",
       "AAAOxAAADsQBlSsOGwAABENJREFUSMfNV11oFEkQrtns7P9uJspJwL9lffBQhFXUQ0EJEuQMGFfF\n",
       "gATCnmCUiLiaQ/DFRIXAvSQLEjnkPHOoiKAYf/AfXH0QJR7JGV+Cgvui4g9ZBTXxRGN1dffszvTM\n",
       "hHu7htqaqe75+uuq7upaAM/WKcSjhVTTlLn/+RPrlAgwyawA2hAXbL+5jYkYiqlhEtiZXp1/cQSm\n",
       "iuzxqcu4x0KwHVc6Y7u+jb7aBjBD5ZZgv/GCC2q8ztEs8LQCcWPqBjP/7gyi57kwvAlhm5ZKpUTI\n",
       "qrIApRyEMwq3aB/+ht3CstnFLvB6uedR7WfxzzoPjha4sMcSn2lfbbm7B6N5vh9i/Qq3IItGl1vU\n",
       "brnYBd4A54aKrdo/5LIQIdh+XpcjT/5Y0T2IpkHEW6LuN7b2tW7c0pY3DETegleVIW6oYuiXsAvI\n",
       "iBD0rDGb+Cf6KrpLKIfRnX+o3B7ib95tu1k6zvxgxwsXiBtTi1KpxS4ol4VgSOEZxdayiqUALWzr\n",
       "NarcqlKpOXUuqFHs0Gue/0p+DfUqeP4icWPqKsBW6lK2NDmEO+UcdNBU+yt6g59qZlHvA5oxRa3I\n",
       "uUVzELDh6fKBOSQKs4yLYD0wEi+WJ25MdUOIAPWfaMTeL/VXcmL0AiEA/dBDg7ork984wDDz5rDq\n",
       "N4Tsthk3SlQf7o77MJh5awuExIuniRtTgYyfNpH/K88ySdDkZl0uBLQdN0t0ln0VkwVwmH8MHzoc\n",
       "cu/WcgLe/aKNqXXywFXhdDm4zl/ambOzFrzgO0JgKm5w7qcXkkpgUnhn57YeoDops4ps1ejJ2Ht8\n",
       "OOHA7R/zKESv8uuj3ajgBsBngyYVL8L9xhTk71CX8Sf/cgg2FOwxxQzm4848WsbqwGGJf/Hhkbrf\n",
       "IBxDKtr0A9fktaGFixUxhcg4bLIFQuLFkzymzBlr6ahowss9MwZeytG/CImwPMOd2fLa3OKzcRt3\n",
       "MO/cc/CbfwTH1Sayx3SR142odGTAAL0tkQY6XFr5NpZ4sSw/C+zDQ7Sg0zCVRtwF/Y0c3SjkEEMc\n",
       "57aTW+SddRhJL8uYacbKLbQSdSFg5CI8CJGcuYsxOcTHmtMRvv+OmV9JPJZjGriCBB2gy/Ul8ggS\n",
       "65EJdg+XpoleiO/6bMtXLyZGR48Q/jynOoScX90JsSOtrTtxpvrGjzJXJEG/YDz5m7+1tGVseL4+\n",
       "QvCZaV5DSsRxBd5p5mnPcZmkGku61kjt0BnkSzIgNCat1uoOA2G9QQ5yhIOm4Swuckivg9BH0Oeb\n",
       "VUs/ONzkThWBI7dQeg2eIkrsLLJfZfeAN94tjmBWBNGVoN8+GlwBDz7UXynf/NuFlHnQYbQuvMu1\n",
       "trxwsiYDXczxl4rQ/FkGKeBZ01JR1KDWRnHbe5M1Azm37d51r766tc12e2W94Ih5g7qAU/Y1GFw8\n",
       "63bVC6sm+b9wwKuTFYhTlkOt3V6A/1P7Du4ZFdZz9LI9AAAAAElFTkSuQmCC\n",
       "\" style=\"display:inline;vertical-align:middle;\" /></a></span>"
      ],
      "text/plain": [
       "|- forall_{A, B} ((A subset_eq B) = [forall_{x in A} (x in B)])"
      ]
     },
     "execution_count": 5,
     "metadata": {},
     "output_type": "execute_result"
    }
   ],
   "source": [
    "subset_eq_def"
   ]
  },
  {
   "cell_type": "code",
   "execution_count": 6,
   "metadata": {},
   "outputs": [
    {
     "data": {
      "text/html": [
       "<strong id=\"subset_eq_def_spec\">subset_eq_def_spec:</strong> <span style=\"font-size:20px;\"> <a class=\"ProveItLink\" href=\"../../../__pv_it/_proof_rational_pos_within_rational/0521294de9e267462fb8175a73b874e79c55d0530/proof.ipynb\" style=\"text-decoration: none\">&nbsp;&#x22A2;&nbsp;&nbsp;</a><a class=\"ProveItLink\" href=\"../../../__pv_it/_proof_rational_pos_within_rational/7444721c1da38c6e2bee8f7661c7883d8c52849d0/expr.ipynb\"><img src=\"data:image/png;base64,iVBORw0KGgoAAAANSUhEUgAAAQsAAAAZBAMAAADUEhZFAAAAMFBMVEX///9UVFQiIiKIiIjMzMx2\n",
       "dnYQEBDc3NxEREQyMjLu7u5mZmaqqqq6urqYmJgAAAB66f/FAAAAAXRSTlMAQObYZgAAAAlwSFlz\n",
       "AAAOxAAADsQBlSsOGwAAA5dJREFUSMetl11IFFEUx4/uTLPr7mwKERYVOg+VWDAq9FAY24ev7UZE\n",
       "QSJLEUgQTA9JUaBo4FQkKz4EPWxDIJk9ZH5gJcUWfRCBbBQhBrVQ9IXVSyD11L13Zu69s3tnMPPC\n",
       "ujP3jP/93XPPOfcMAHwHNkbAb0QFc2XaBliC0ajlAGL8T3f5PqsITBFYmhEvANyABWHAh0VjGAE2\n",
       "xcXoQ9+Dpjnpi+EYy61FYoRywmlbVtVtDCWNHlyZUGpTPhiuMVQpwiCT04EYT8Rwjux2GyOKLtva\n",
       "AN7OQNQ0280+56luTdMS+MoxQsUfEcZ9/H05iKIiI5x2ZSMWwVieBymFngzHdc4b0oC7ocyYFWHs\n",
       "8IleLsUKolkqGx8hGEkLwsPItXIiw2Fco2HFjHdEGHgxci4IY5l3L7q1Oq/sMYLRCDAkobXGcuMc\n",
       "xlr6f8y4RYSBgzw4Up/zN+qAVSybJSKrAFpUpKUW5jgMtp/M+N4SZcphTTsaiDGB46NpdUsrvjlt\n",
       "lcjuJRgmwKs48qqkT7MqKrGsYMYkidhRDY9aioHWc0Hw4yl6lSUluEEf9QQzk/1KMPoBTsYIWTNX\n",
       "VBgGM3bmRd44wT8sOhU2oc9n+Gmt83iZyT4lGPUoXOx9usep1NArZrwlxAhbsmd+8GKV4cE4jj4J\n",
       "uGt7GW2httErm3S9Eb5OM8UdDxgGNXYmRBgxnUao1GDmlf0gz5VgAByxa0hXqewbF0O1c5hPuwhd\n",
       "ITMmDVFsQIYeNlOIUz4LFT+MQ1P1U3luU0Cdh2GPl5nsI4JRjdeOKtrLGU/pq5qljnGN4kyB1ivo\n",
       "T9PkNiOE69TuZwC6znujB6ldKkvbQdsEJbJfCAauBjKu795WQz3oFnNq/CQ+2jqQd0NGdSQ3hO++\n",
       "FYoxUELGft1Mq8TZEepyKjtBMMgaz/y+Ou6b+K7xthijDMHGoUeCd/gOI+gpHmMn8saY/mLO9nL1\n",
       "bLHsZoKxjOzhCnKi+AzHmA066OdRATBNM/fa2RRWN8oTRV6u88gqNfSERUvSGx7n/TBso/iEdZMk\n",
       "rUAL8TUJUU9rNRIoi08+hCGlydzD8+38SWjng7sOYoxX+mN0yJkoqiAkaUEuaj96/ZZHZE853dea\n",
       "BTaM5YY/RrR531ZQzpHyVd9fVF+GAmV7Rb0o/E8vito6tLEH9hS3m3pQh2g4GLHUgigW3JlHp8fy\n",
       "i+jMPe8pAU2UJcAQvqfs+viv7ynrC38Bqu4g4/mRaboAAAAASUVORK5CYII=\n",
       "\" style=\"display:inline;vertical-align:middle;\" /></a></span><br>"
      ],
      "text/plain": [
       "subset_eq_def_spec: |- (RationalPos subset_eq Rational) = [forall_{x in RationalPos} (x in Rational)]"
      ]
     },
     "execution_count": 6,
     "metadata": {},
     "output_type": "execute_result"
    }
   ],
   "source": [
    "subset_eq_def_spec = subset_eq_def.instantiate({A:RationalPos, B:Rational})"
   ]
  },
  {
   "cell_type": "code",
   "execution_count": 7,
   "metadata": {},
   "outputs": [
    {
     "data": {
      "text/html": [
       "<span style=\"font-size:20px;\"> <a class=\"ProveItLink\" href=\"../../axioms.ipynb#rationals_pos_def\" style=\"text-decoration: none\">&nbsp;&#x22A2;&nbsp;&nbsp;</a><a class=\"ProveItLink\" href=\"../../../__pv_it/axioms/21c91a6ba1803ea3b86e2bd6ce4e8493c1471fc80/expr.ipynb\"><img src=\"data:image/png;base64,iVBORw0KGgoAAAANSUhEUgAAALoAAAAbBAMAAAA5YIiJAAAAMFBMVEX///+qqqoyMjK6urqYmJgi\n",
       "IiLMzMwQEBBUVFSIiIjc3NxmZmZERER2dnbu7u4AAACF9pTcAAAAAXRSTlMAQObYZgAAAAlwSFlz\n",
       "AAAOxAAADsQBlSsOGwAAArpJREFUSMe9lk1oE0EUx/9xt/neZRERb4l4FRoUQbHoqhRRD/EiSKCw\n",
       "HnuQ9iCeIsQeKpWiq22lIkK8aKEGYylFiq219aCwyFriRWoJUrGKNanFg0rFmd3sR5rJkkJ0LjPM\n",
       "e/vbN++9/+wCzsjjX46Z/04X9zrrsOfT97LM7RVNm6xLv3nIWQsJL7q/v8jYDV1Rwmf1OnTfHzRC\n",
       "f3+HBB7NMCyFAnCwDRFNS2svNhqF043Qt0hiaoOvdSA9Tl7Lq+zYG6O3AwtsevQbOZCgxDdN/yDb\n",
       "y5dArMikf/WTsH3SxKbp4lvVWv4GuiQm/TxHYuDkIx70cN/iLRd95O5nxVgMLVbeQ+kyk36Al0jy\n",
       "1W2OViNnjGF0QIRmbF82WHboXArXrXxPmzpYJ3QVoe5aes5nxD7ArtcDYhQvIBh36J9k9FjmrZM2\n",
       "XUd4lVFVM+/TTPjILhp/GS26Q38GdNgOe67RzBD6YUJZ3llL/2L3DKNdnxL9BWbwKOHQ0wivOfTX\n",
       "larGSH7nazuWM/tdcnbceaf6K6lIOj0j/gRftjNz1Zg0IFms1jXEhSfUOE60ur+tjk5oH5QkzLro\n",
       "q4haB2037yccB8aI2a5qZ/8ccjoKJGSB3jN5D3pU5ddd/f4KSR1VHYkWSbzo0kaEiuedhKWTZB79\n",
       "3joBD7rYd2PNRV++HTNmcchWkzg1rFToKyeOYZBW7FwWoRA19vKqFx1Woi2tmlX4KLMiSfl/iVSV\n",
       "/BIq9KA6vD3hRTfb3ab31PeN5P3dVPwGOSQY+ztm0zL7CVN/Ab2KfontS3UdSIQy/G5Ne87ZmfEY\n",
       "hv6E1g43ff6HzvQlIkYpG1X9htmqqucYvew6iOLlmaOegWyXAkNhnRm8kZv84efGyUXxUDEu6LHe\n",
       "5v9YHKUy1eZIHu/LzadP2avHpwaaDRfS9m+Nf1D5Cxj9wglCHhznAAAAAElFTkSuQmCC\n",
       "\" style=\"display:inline;vertical-align:middle;\" /></a></span>"
      ],
      "text/plain": [
       "|- RationalPos = {q s.t. q > 0}_{q in Rational}"
      ]
     },
     "execution_count": 7,
     "metadata": {},
     "output_type": "execute_result"
    }
   ],
   "source": [
    "rationals_pos_def"
   ]
  },
  {
   "cell_type": "code",
   "execution_count": 8,
   "metadata": {},
   "outputs": [
    {
     "data": {
      "text/html": [
       "<strong id=\"rationals_pos_def_r_h_s\">rationals_pos_def_r_h_s:</strong> <a class=\"ProveItLink\" href=\"../../../__pv_it/axioms/ade664d1a02fe90d40c511eee97ba98c6a2b57370/expr.ipynb\"><img src=\"data:image/png;base64,iVBORw0KGgoAAAANSUhEUgAAAH8AAAAZBAMAAADqPuxnAAAAMFBMVEX///9ERETMzMxUVFSYmJgQ\n",
       "EBDc3NxmZmYiIiJ2dnaqqqoyMjKIiIi6urru7u4AAAB85a56AAAAAXRSTlMAQObYZgAAAAlwSFlz\n",
       "AAAOxAAADsQBlSsOGwAAAglJREFUOMtjYGDgu8sABwkMeADbMuzip+8h2HPxGcCgLIdNlOsfAxEG\n",
       "cM4pA5LCWKUaiDFgF8MLoPdmkG0ASwMDpwDJBvBtgTMZDcBeJdUFL3tgLP4CBqZf+AxIPvlGAckA\n",
       "GJen8wFE4D3QgC84DGDfwMDA28Zgj+QCOJeBpR1iQv4EBqY/DAxHsRmQ6sDA8NSBwRrJADgXGMnb\n",
       "E2AG/ARSCzD1J+8FEvUMDJ1IBsC5INdsBrnh/QQGXqAL+KwxTWAqBCoIZGD7i2QAnAsyYOMDSCBy\n",
       "AQORcy8WLwBjiO8PA8sHhAEILtALm8FeYBRgYAFG4/oHKJEkbpwAiQW+XwyMG5AMgHOBgQjJXiwB\n",
       "4MCeCnf3YcELbDMZOL2g0SjD4D8ByQtwLjwaGboYniogRWM5kMOZxcDnkgAx4PGZ9ReQDIBx38AT\n",
       "EsPzOUYMEAP4phy5wAOMOQYlYO4+cACWEv1RUyKYy9eCHl4gA14k6Cc8BHH8HJANsEY1wBp7ngIZ\n",
       "UM6gynAFxAFpPgD0Kk8AiBeJakAkdgOqgTiW4TCDt6Cg4IJLUC+wAeOXYfYP5ECEc9EAXwgQfwOG\n",
       "sSY4E0EDkSHdCqHkEN4ycTIoHYYxfWJgfACOSgbOJQykg+vuHxjYhMAJqX2zAhkGMLAAU9RLQUFg\n",
       "RE9TIUc/Azs8fNiX1Fwgw4CpYnCmjhMDAHTznJ/yANXFAAAAAElFTkSuQmCC\n",
       "\" style=\"display:inline;vertical-align:middle;\" /></a><br>"
      ],
      "text/plain": [
       "rationals_pos_def_r_h_s: {q s.t. q > 0}_{q in Rational}"
      ]
     },
     "execution_count": 8,
     "metadata": {},
     "output_type": "execute_result"
    }
   ],
   "source": [
    "rationals_pos_def_r_h_s = rationals_pos_def.rhs"
   ]
  },
  {
   "cell_type": "code",
   "execution_count": 9,
   "metadata": {},
   "outputs": [],
   "source": [
    "# comprehension_is_subset"
   ]
  },
  {
   "cell_type": "code",
   "execution_count": 10,
   "metadata": {},
   "outputs": [],
   "source": [
    "# comprehension_is_subset_spec = comprehension_is_subset.instantiate(\n",
    "#         {k:one, S:Rational, QQ:[Lambda(q, greater(q, zero))]}, relabel_map={y:q})"
   ]
  },
  {
   "cell_type": "code",
   "execution_count": 11,
   "metadata": {},
   "outputs": [],
   "source": [
    "# rationals_pos_def.sub_left_side_into(comprehension_is_subset_spec)"
   ]
  },
  {
   "cell_type": "code",
   "execution_count": 12,
   "metadata": {},
   "outputs": [],
   "source": [
    "# %qed"
   ]
  },
  {
   "cell_type": "code",
   "execution_count": null,
   "metadata": {},
   "outputs": [],
   "source": []
  }
 ],
 "metadata": {
  "kernelspec": {
   "display_name": "Python 3",
   "language": "python",
   "name": "python3"
  },
  "language_info": {
   "codemirror_mode": {
    "name": "ipython",
    "version": 3
   },
   "file_extension": ".py",
   "mimetype": "text/x-python",
   "name": "python",
   "nbconvert_exporter": "python",
   "pygments_lexer": "ipython3",
   "version": "3.7.3"
  }
 },
 "nbformat": 4,
 "nbformat_minor": 1
}
