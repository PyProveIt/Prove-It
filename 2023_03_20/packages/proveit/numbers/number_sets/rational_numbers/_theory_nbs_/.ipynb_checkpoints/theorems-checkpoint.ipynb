{
 "cells": [
  {
   "cell_type": "markdown",
   "metadata": {},
   "source": [
    "Theorems (or conjectures) for the theory of <a class=\"ProveItLink\" href=\"theory.ipynb\">proveit.numbers.number_sets.rational_numbers</a>\n",
    "========"
   ]
  },
  {
   "cell_type": "code",
   "execution_count": 1,
   "metadata": {},
   "outputs": [],
   "source": [
    "import proveit\n",
    "# Prepare this notebook for defining the theorems of a theory:\n",
    "%theorems_notebook # Keep this at the top following 'import proveit'.\n",
    "from proveit import a, b, q, x\n",
    "from proveit.logic import And, Equals, NotEquals, Exists, Forall, Iff, in_bool, InSet, Set, ProperSubset\n",
    "from proveit.numbers import frac, GCD, Less, LessEq, greater, greater_eq\n",
    "from proveit.numbers import one, zero\n",
    "from proveit.numbers import (ZeroSet, Natural, NaturalPos, Integer, IntegerNonZero, IntegerNeg, IntegerNonPos,\n",
    "                             Rational, RationalPos, RationalNeg,\n",
    "                             RationalNonNeg, RationalNonPos, RationalNonZero, NaturalPos)"
   ]
  },
  {
   "cell_type": "code",
   "execution_count": 2,
   "metadata": {},
   "outputs": [
    {
     "name": "stdout",
     "output_type": "stream",
     "text": [
      "Defining theorems for theory 'proveit.numbers.number_sets.rational_numbers'\n",
      "Subsequent end-of-cell assignments will define theorems\n",
      "'%end theorems' will finalize the definitions\n"
     ]
    }
   ],
   "source": [
    "%begin theorems"
   ]
  },
  {
   "cell_type": "code",
   "execution_count": 3,
   "metadata": {},
   "outputs": [
    {
     "data": {
      "text/html": [
       "<strong id=\"zero_is_rational\"><a class=\"ProveItLink\" href=\"proofs/zero_is_rational/thm_proof.ipynb\">zero_is_rational</a> (conjecture without proof):<br></strong> <a class=\"ProveItLink\" href=\"../__pv_it/theorems/478b56484e99c4824c353d3d9c876815ee6cca880/theorem_expr.ipynb\"><img src=\"data:image/png;base64,iVBORw0KGgoAAAANSUhEUgAAADQAAAASBAMAAADmo+DzAAAAMFBMVEX///8QEBC6urrMzMxUVFRE\n",
       "RESYmJgiIiLu7u6qqqoyMjLc3NxmZmaIiIh2dnYAAABcDckaAAAAAXRSTlMAQObYZgAAAAlwSFlz\n",
       "AAAOxAAADsQBlSsOGwAAAQ9JREFUGNNjYMAC+kJDT4Novren0WR4HQ24Sx4AGSsZ2jegSj17xsCg\n",
       "o8rAwFbAwBeAIsP8YAEDAyvbBQZWBwbOHxBzwsurQDRrhwPQGoMFDPwHGJh/gkSY1jZAdLUyX2Bg\n",
       "4JxwmKEfKPUNJLILKsNgx5QAVJiQybD/AQPzX5DIaphdumwTgBZemAaW+gcSWQCT2scJ1nWJof8B\n",
       "AxNIF7N4eXl5KdgZELtOgJzBCXIGB9wHrN1QF7IGMLCBHV8Ak2KC+GsCA5sAAw/YmrtwPx8DhoYK\n",
       "MDQYKhkaDUACXBNgUnygMDwAZPS8dQYLcLhqwOT2/Fp/GCXsmJ5CAgoInIEhiAOwXLgyWQGH3JQo\n",
       "0QQA9EBIOKOfs7YAAAAASUVORK5CYII=\n",
       "\" style=\"display:inline;vertical-align:middle;\" /></a><br>"
      ],
      "text/plain": [
       "<IPython.core.display.HTML object>"
      ]
     },
     "metadata": {},
     "output_type": "display_data"
    }
   ],
   "source": [
    "zero_is_rational = InSet(zero, Rational)"
   ]
  },
  {
   "cell_type": "code",
   "execution_count": 4,
   "metadata": {},
   "outputs": [
    {
     "data": {
      "text/html": [
       "<strong id=\"zero_is_nonneg_rational\"><a class=\"ProveItLink\" href=\"proofs/zero_is_nonneg_rational/thm_proof.ipynb\">zero_is_nonneg_rational</a> (conjecture without proof):<br></strong> <a class=\"ProveItLink\" href=\"../__pv_it/theorems/a6f0d0b47b156dc8c31c4857955d1921789a3ec60/theorem_expr.ipynb\"><img src=\"data:image/png;base64,iVBORw0KGgoAAAANSUhEUgAAAEgAAAAWBAMAAACRR8fzAAAAMFBMVEX///8AAAAAAAAAAAAAAAAA\n",
       "AAAAAAAAAAAAAAAAAAAAAAAAAAAAAAAAAAAAAAAAAAAv3aB7AAAAD3RSTlMAiXaZIs1UEN1mu6sy\n",
       "RO+L2jdBAAAACXBIWXMAAA7EAAAOxAGVKw4bAAABbklEQVQoz2NgwAlOXQBTgooMeAC7VAKQ5FTg\n",
       "XYBPFYPWBAYGvgMMX/AqYpilwOBfwPAMuz2rFjtAmPMczhcwdDIwMAqZoCnSfsPgsRHMKlzLAFT0\n",
       "iIEhjKHCAUUN48QJDLy2INc672EAWfeNgbOBgRHV+QdZgcSCSQwM3kA1EIdzbWBg+w6WZFrR0Qqi\n",
       "l1cDCRlWhmqwM5gUeDcw8Bsw8HwD8XiDCiDOXnAISKYxHyiHGCyoXMBQD1T0E8Rxhahh4BG4CSRv\n",
       "ciYgucBfgIHnE4gRAhXgVZgGJA+xTUBT9BHECIAKsAhkgkxiunBqFRBAPF4vwMALMonnRUdHRxdI\n",
       "BOqmAiSTgA5n+wZ2L0xkuTfEd0iAawEDJzgIGmAiF8HhNA1ZEecDBmawc5RgIsygEN+LGsBtDHUH\n",
       "QDQr3M/SwLjbjBqdxUJ7IIG46zrMf/ahnw/gSDy8UpBoYWDgPjCJgTDYxLTtLEFFbLviViJxAfnK\n",
       "W2So1BTrAAAAAElFTkSuQmCC\n",
       "\" style=\"display:inline;vertical-align:middle;\" /></a><br>"
      ],
      "text/plain": [
       "<IPython.core.display.HTML object>"
      ]
     },
     "metadata": {},
     "output_type": "display_data"
    }
   ],
   "source": [
    "zero_is_nonneg_rational = InSet(zero, RationalNonNeg)"
   ]
  },
  {
   "cell_type": "code",
   "execution_count": 5,
   "metadata": {},
   "outputs": [
    {
     "data": {
      "text/html": [
       "<strong id=\"zero_is_nonpos_rational\"><a class=\"ProveItLink\" href=\"proofs/zero_is_nonpos_rational/thm_proof.ipynb\">zero_is_nonpos_rational</a> (conjecture without proof):<br></strong> <a class=\"ProveItLink\" href=\"../__pv_it/theorems/1949c401fc4fa473b84396826a740858a65828350/theorem_expr.ipynb\"><img src=\"data:image/png;base64,iVBORw0KGgoAAAANSUhEUgAAAEgAAAAWBAMAAACRR8fzAAAAMFBMVEX///8AAAAAAAAAAAAAAAAA\n",
       "AAAAAAAAAAAAAAAAAAAAAAAAAAAAAAAAAAAAAAAAAAAv3aB7AAAAD3RSTlMAiXaZIs1UEN1mu6sy\n",
       "RO+L2jdBAAAACXBIWXMAAA7EAAAOxAGVKw4bAAABb0lEQVQoz2NgwAuyHBgEFRkIqFFg4FTgXYBX\n",
       "zawJDAx8Bxi+4FOjlQAk/AsYnmGTZJdatdiBgeEcSA3D+QKGTgYGRiETNEXabxg8NjIwsC0sgCh6\n",
       "xMAQxlDhgKKGceIEBl5boGt5QaqA1n1j4GxgYER1/kFWILFgEpDg2ewAcTjXBga272BJphUdrSB6\n",
       "eTWQkAGpZGDZXcCkwLuBgd+AgecbSIA3qADi7AWHgGQa8wGwKgYGQeUChnqgop8gvitEDQOPwE0g\n",
       "eZMzAckF/gIMPJ9AjBCoAK/CNCB5iG0CmqKPIEYAVIBFIBNkEtOFU6uAAOLxegEGXpBJPC86Ojq6\n",
       "QCJQNxUgmQR0ONs3sHthIsu94b6DAa4FDJzgIGiAiVwEh9M0ZEWcDxiYwc5Rgokwg0J8L2oAtzHU\n",
       "gYOEFe5naWDcbUaNzmKhPZBA3HUd5j/70M8HcCQfXilItDAwcB+YxEAYbGLadpagIrZdcSuRuAD9\n",
       "O1sq/s+YVQAAAABJRU5ErkJggg==\n",
       "\" style=\"display:inline;vertical-align:middle;\" /></a><br>"
      ],
      "text/plain": [
       "<IPython.core.display.HTML object>"
      ]
     },
     "metadata": {},
     "output_type": "display_data"
    }
   ],
   "source": [
    "zero_is_nonpos_rational = InSet(zero, RationalNonPos)"
   ]
  },
  {
   "cell_type": "code",
   "execution_count": 6,
   "metadata": {},
   "outputs": [
    {
     "data": {
      "text/html": [
       "<strong id=\"zero_set_within_rational\"><a class=\"ProveItLink\" href=\"proofs/zero_set_within_rational/thm_proof.ipynb\">zero_set_within_rational</a> (conjecture without proof):<br></strong> <a class=\"ProveItLink\" href=\"../__pv_it/theorems/f791b4f76260dc8509cd46c7866a3cb0b48e43870/theorem_expr.ipynb\"><img src=\"data:image/png;base64,iVBORw0KGgoAAAANSUhEUgAAAEoAAAAVBAMAAAATJmVgAAAAMFBMVEX///8AAAAAAAAAAAAAAAAA\n",
       "AAAAAAAAAAAAAAAAAAAAAAAAAAAAAAAAAAAAAAAAAAAv3aB7AAAAD3RSTlMAEER2zVSJ3Zki72ar\n",
       "MruaaVGaAAAACXBIWXMAAA7EAAAOxAGVKw4bAAABdUlEQVQoz2NgYGBUYgADzkgGPMBEEcq48xBT\n",
       "Uuzdu04QzfoRSLAlg9hvMBQxn7rAWZMAUlAAJFwZxCcwMKRjqMrOZmDQ0IOq4i5gYHuARRVvggMD\n",
       "Ax+3AUQV3wGwxTBVzM/Ly8svABl8ggeACi44QFTxNzDwfoWr4nWbAFUuxws0hjWgF6JKHqjqN1yV\n",
       "OEwRwzWmDQwMTBu2MjBwAM2bn8DA+5mBwQoidwjuLmXuAKDRBtEMDLM2QFR9A1IBYDkHuKpprGCz\n",
       "jBjmOAF58gkMTECzGI+AlPEegKvig7irkYG3TwDselag69mcwDGFpEoS5kdgKDDwPWDgBoZEvABY\n",
       "rgCuigkSXgHQUF0A9kQWRK4bEazdwLDXgYU9QymD1AV4SLAowFWxgeKxAaZKIvksA1wV4xtFuLIZ\n",
       "X/x7GWCqIAAWQ0x50BgCgrOgWMSqChnwGNjEAl3AvAAu0oItkcY8WQcMWs6vMD7jajwpesZRaLrP\n",
       "CcClBAAfiVlmSfRHJwAAAABJRU5ErkJggg==\n",
       "\" style=\"display:inline;vertical-align:middle;\" /></a><br>"
      ],
      "text/plain": [
       "<IPython.core.display.HTML object>"
      ]
     },
     "metadata": {},
     "output_type": "display_data"
    }
   ],
   "source": [
    "zero_set_within_rational = ProperSubset(ZeroSet, Rational)"
   ]
  },
  {
   "cell_type": "code",
   "execution_count": 7,
   "metadata": {},
   "outputs": [
    {
     "data": {
      "text/html": [
       "<strong id=\"zero_set_within_rational_nonneg\"><a class=\"ProveItLink\" href=\"proofs/zero_set_within_rational_nonneg/thm_proof.ipynb\">zero_set_within_rational_nonneg</a> (conjecture without proof):<br></strong> <a class=\"ProveItLink\" href=\"../__pv_it/theorems/5a643e70106b89259cc7b1eeab43e00aab39e1710/theorem_expr.ipynb\"><img src=\"data:image/png;base64,iVBORw0KGgoAAAANSUhEUgAAAF8AAAAYBAMAAABuPzwSAAAAMFBMVEX///8AAAAAAAAAAAAAAAAA\n",
       "AAAAAAAAAAAAAAAAAAAAAAAAAAAAAAAAAAAAAAAAAAAv3aB7AAAAD3RSTlMAEER2zVSJ3Zki72ar\n",
       "MruaaVGaAAAACXBIWXMAAA7EAAAOxAGVKw4bAAAByklEQVQ4y42TTygEcRTHv7/9g7FmjQuRNLg4\n",
       "bEw4ODhMiqu5I1vkoja3TTnYktIiF5IcXB1oSlIupLYkNCdX5U8SbW0hR+83vzGzs7sx7/Cb37z3\n",
       "+8zvvfd9AwQx+cF+VE0lEdAan/l6hO6gAMJvtBygfoMerEP4Njf+ImKPkAqoNWjb3+4keqtUyCWf\n",
       "X3GIfbmAahOIFuhtZoA+Hz8vz+TKkhbsSllKJaBWo9LngIjB5sWuxGZngS5eqbRq8ZTqDXHsBEhV\n",
       "AuSkThfHNEjXlls0P/YOTCoeEH5Jp9P8RLyBsqyydHZpN6QPCQjgG7g3XEAe+e1Xm0w5R401pjjC\n",
       "ZQTAOGC6QJPb37sQdSVkHvvyrNEhfRGgIbwnPBdurDNGRcramA/YMQWQhPQpPLob24raN/TKebJX\n",
       "4dsdoh4T0EPZtg7bJXhyxEUNGV/n1hW76Em6fFrlHqkIaBZd8qXE9c0DZ4rQnMyTIyR0MHwA780p\n",
       "sEQ7p+isF8yS0omSmeZAtcEOPKUjqhfks7RYDrDlQcsD2Hu7G93+GF1DOVCyC6Wc0SC7oUn6Fyi2\n",
       "Om1wQvWP/F6R5hVs/OnQ9Dl+9QVazGD/93bOmYNckNM/EGR1ldPf9XoAAAAASUVORK5CYII=\n",
       "\" style=\"display:inline;vertical-align:middle;\" /></a><br>"
      ],
      "text/plain": [
       "<IPython.core.display.HTML object>"
      ]
     },
     "metadata": {},
     "output_type": "display_data"
    }
   ],
   "source": [
    "zero_set_within_rational_nonneg = ProperSubset(ZeroSet, RationalNonNeg)"
   ]
  },
  {
   "cell_type": "code",
   "execution_count": 8,
   "metadata": {},
   "outputs": [
    {
     "data": {
      "text/html": [
       "<strong id=\"zero_set_within_rational_nonpos\"><a class=\"ProveItLink\" href=\"proofs/zero_set_within_rational_nonpos/thm_proof.ipynb\">zero_set_within_rational_nonpos</a> (conjecture without proof):<br></strong> <a class=\"ProveItLink\" href=\"../__pv_it/theorems/a9f6df822c4cba33cff352f267534289d21778d90/theorem_expr.ipynb\"><img src=\"data:image/png;base64,iVBORw0KGgoAAAANSUhEUgAAAF8AAAAYBAMAAABuPzwSAAAAMFBMVEX///8AAAAAAAAAAAAAAAAA\n",
       "AAAAAAAAAAAAAAAAAAAAAAAAAAAAAAAAAAAAAAAAAAAv3aB7AAAAD3RSTlMAEER2zVSJ3Zki72ar\n",
       "MruaaVGaAAAACXBIWXMAAA7EAAAOxAGVKw4bAAABzElEQVQ4y2NgIBawvmRgS05gIF79YwaGzQx6\n",
       "RKvnfg0k1jLwTwBSjEoQsakTcKtnfgokOD8ycAUAaRNFiCDvOQFMlWLv3nUCpZaCFXxkYN8AdNxH\n",
       "IDvNAmg83wFMk09d4KwB+jQuEaKBy4CBga2AgYElgLESwkID2dkMDBogn+olgp3EHwBRtp2BIQ+b\n",
       "Bt4EB6DF3EBjGe50wjwNUvaGgSFeAKGB+Xl5efkFIINPEOhKtgsOIME5BxmMGXQYIBp+MDDcD4Br\n",
       "4HWDhZccL9Bw1oBeMGcCMOIaIRoYQRo2wDWIw8P3GhMwVJg2bEVxJ4cDA+c3oAYDBuYFEJFDcDll\n",
       "bqAneQ2iUTTM2gDRkMDA+RUi4gCXm8YKtsGI9x0QvISIzXECxjVQgz7QtTKuYC8gooMP4odGlJDr\n",
       "EwB7Oh5oeYoCSIQTSYMkIpQQgkCxdwwM+wUgcQ4EiOhggsRDAIoGUNjsYmBoAbKgnu5GSHYDY1oH\n",
       "LU2DNLAHMK5FxDSLAkISlJYaMDUwttlcQGhgfKMIl53xxb+XAVMDGospD5o0gOAsOCUR0IAMeAxs\n",
       "YhVQk/wCpDjHAmKerNuAIgCLXwYGqQ3E5e8ZR6Hp4CgxqgE9qnUe8JvIggAAAABJRU5ErkJggg==\n",
       "\" style=\"display:inline;vertical-align:middle;\" /></a><br>"
      ],
      "text/plain": [
       "<IPython.core.display.HTML object>"
      ]
     },
     "metadata": {},
     "output_type": "display_data"
    }
   ],
   "source": [
    "zero_set_within_rational_nonpos = ProperSubset(ZeroSet, RationalNonPos)"
   ]
  },
  {
   "cell_type": "code",
   "execution_count": 9,
   "metadata": {},
   "outputs": [
    {
     "data": {
      "text/html": [
       "<strong id=\"nat_within_rational\"><a class=\"ProveItLink\" href=\"proofs/nat_within_rational/thm_proof.ipynb\">nat_within_rational</a> (conjecture without proof):<br></strong> <a class=\"ProveItLink\" href=\"../__pv_it/theorems/d99315ca1517f150aa08d54a15a07aa9afcdd4e60/theorem_expr.ipynb\"><img src=\"data:image/png;base64,iVBORw0KGgoAAAANSUhEUgAAADsAAAASBAMAAAAXqLt+AAAAMFBMVEX///9mZmbMzMyIiIiYmJjc\n",
       "3NxUVFSqqqq6uroQEBB2dnYyMjJEREQiIiLu7u4AAAAPqInnAAAAAXRSTlMAQObYZgAAAAlwSFlz\n",
       "AAAOxAAADsQBlSsOGwAAARtJREFUKM9jePvn9AOGlT8bGFAB35ozBwNAjOMcCQx8H9BkGcwmMcRm\n",
       "gRi5AUsYGCagyXJ5OTBwSBwAstIPcAcwXECT1uIGEgecgUSqM+sGmLTN3bt3L4EY554BiUUgNals\n",
       "ClZQae2lMIcdUAaS5YwKQGmGAzwNYGm+qzCzmRa0AMkWlgKQtCLfPbA0G9x3HAbuQFKZ3QEkzVJQ\n",
       "A3Y5N9xlrAtKQLqZG0DSDHlsYGk1hMuhdj8ASz/jAxsehpA+FwZ3OdAlBqAAYOBFSHeB/Q1ywCEg\n",
       "NgJLMzrApRlBoZYBEt0O4m0AC+5AaF8GDPNEUFD8BKrhg0i/yXgAd7v87o8K6PHUdRYaqMBAUHBm\n",
       "wAeSmdM18Eiz5+w8wgAAhnNNNMRJHxsAAAAASUVORK5CYII=\n",
       "\" style=\"display:inline;vertical-align:middle;\" /></a><br>"
      ],
      "text/plain": [
       "<IPython.core.display.HTML object>"
      ]
     },
     "metadata": {},
     "output_type": "display_data"
    }
   ],
   "source": [
    "nat_within_rational = ProperSubset(Natural, Rational)"
   ]
  },
  {
   "cell_type": "code",
   "execution_count": 10,
   "metadata": {},
   "outputs": [
    {
     "data": {
      "text/html": [
       "<strong id=\"nat_within_rational_nonneg\"><a class=\"ProveItLink\" href=\"proofs/nat_within_rational_nonneg/thm_proof.ipynb\">nat_within_rational_nonneg</a> (conjecture without proof):<br></strong> <a class=\"ProveItLink\" href=\"../__pv_it/theorems/201dd435c924335f5f20357de848101ff37b50bb0/theorem_expr.ipynb\"><img src=\"data:image/png;base64,iVBORw0KGgoAAAANSUhEUgAAAFAAAAAWBAMAAAClPgbvAAAAMFBMVEX///9mZmbMzMyIiIiYmJjc\n",
       "3NxUVFSqqqq6uroQEBB2dnYyMjJEREQiIiLu7u4AAAAPqInnAAAAAXRSTlMAQObYZgAAAAlwSFlz\n",
       "AAAOxAAADsQBlSsOGwAAAX1JREFUKM9jYMALdBrA1CorBgKAb00BkGQx4DhASCWDjQMDA6cCw1eC\n",
       "Chl8DBjiHzBMZ3j75/QDhpU/GzDsPHMwAML0DNB/wHCFgeE4RwID3wd0c8wmMcRmgVmvTjAAFU5m\n",
       "YMgNWMLAMAFNHZeXAwOHBMgHgUkMIKu/MzCkH+AOYLiAplCLG0gccGZgCAOqg3om1Zl1A0yhzd27\n",
       "dy+BGOeeAYlF3AzPREE8ZgOg8xhS2RSsoAq1l8K8ckAZSJYzKryD8FcZPgAqZDjA0wBWyHcVZjPT\n",
       "ghYg2cJSgOycVAZFvntghWzwMOIwcAeSyuwOqApZCmrAvuaGi7EuKAGZyNygcwYIAmAKGfLYwArV\n",
       "ELqhbnyAaiLDMz6w1WEIwXNhEF+jKWQyACcOXoRgFzgc3VEUHgJiI7BCRoTbGUExk4GatraDxDeA\n",
       "mTsQosuAcZ2Iok77J1AfH0Thmwy461nld39UwJ32us5CoxAYqArODMSBZOZ0DaIUsufsPILEBQB2\n",
       "0mdQbKfiLQAAAABJRU5ErkJggg==\n",
       "\" style=\"display:inline;vertical-align:middle;\" /></a><br>"
      ],
      "text/plain": [
       "<IPython.core.display.HTML object>"
      ]
     },
     "metadata": {},
     "output_type": "display_data"
    }
   ],
   "source": [
    "nat_within_rational_nonneg = ProperSubset(Natural, RationalNonNeg)"
   ]
  },
  {
   "cell_type": "code",
   "execution_count": 11,
   "metadata": {},
   "outputs": [
    {
     "data": {
      "text/html": [
       "<strong id=\"nat_pos_within_rational_pos\"><a class=\"ProveItLink\" href=\"proofs/nat_pos_within_rational_pos/thm_proof.ipynb\">nat_pos_within_rational_pos</a> (conjecture without proof):<br></strong> <a class=\"ProveItLink\" href=\"../__pv_it/theorems/e405c2bb01f471bb19d5ef15cec655192bed3a420/theorem_expr.ipynb\"><img src=\"data:image/png;base64,iVBORw0KGgoAAAANSUhEUgAAAFQAAAAVBAMAAAAqQdQ7AAAAMFBMVEX///9mZmbMzMyIiIiYmJjc\n",
       "3NxUVFSqqqq6uroQEBB2dnYyMjJEREQiIiLu7u4AAAAPqInnAAAAAXRSTlMAQObYZgAAAAlwSFlz\n",
       "AAAOxAAADsQBlSsOGwAAAUZJREFUKM9jYIADRgY8QACFx4NP6QHSlL79c/oBw8qfDdiVvjpzRhRh\n",
       "6nGOBAa+D9hNZc5UYL22AK40N2AJA8MEBpkzJ8+ccUBTugQo1djDwHjmzJwzRxgY0g9wBzBcwGoq\n",
       "04INQGEWA5ipqc6sG1CVMp+9e/euAkjkXQIDA5fCBrhSNgUrFKVMuwKgrDdMQAPZC4TgShkO8DQg\n",
       "K30LU8mgxQF0PIeDO0KpIt+9C0ixlQF3azNLAdASgxJYbKUysBTUTEDyzAY4K4odbKoFjJ/KwJDH\n",
       "hqSUKQERfxC3yiEpfcZ3AaGUFUnpU3gIwJQyGSCnBoQ2Dki4FsD4h4DYCFmpCBITGFttPXDudpDn\n",
       "NyAp5W6AM7lAaQCeVLV/Ak3kQ1bKd6wPzg78vV8IX9rkWAONWCBIAqcAogCbgVlRA5Fqy07PgSZN\n",
       "AElHW15N9PopAAAAAElFTkSuQmCC\n",
       "\" style=\"display:inline;vertical-align:middle;\" /></a><br>"
      ],
      "text/plain": [
       "<IPython.core.display.HTML object>"
      ]
     },
     "metadata": {},
     "output_type": "display_data"
    }
   ],
   "source": [
    "nat_pos_within_rational_pos = ProperSubset(NaturalPos, RationalPos)"
   ]
  },
  {
   "cell_type": "code",
   "execution_count": 12,
   "metadata": {},
   "outputs": [
    {
     "data": {
      "text/html": [
       "<strong id=\"nat_within_rational_nonneg\"><a class=\"ProveItLink\" href=\"proofs/nat_within_rational_nonneg/thm_proof.ipynb\">nat_within_rational_nonneg</a> (conjecture without proof):<br></strong> <a class=\"ProveItLink\" href=\"../__pv_it/theorems/201dd435c924335f5f20357de848101ff37b50bb0/theorem_expr.ipynb\"><img src=\"data:image/png;base64,iVBORw0KGgoAAAANSUhEUgAAAFAAAAAWBAMAAAClPgbvAAAAMFBMVEX///9mZmbMzMyIiIiYmJjc\n",
       "3NxUVFSqqqq6uroQEBB2dnYyMjJEREQiIiLu7u4AAAAPqInnAAAAAXRSTlMAQObYZgAAAAlwSFlz\n",
       "AAAOxAAADsQBlSsOGwAAAX1JREFUKM9jYMALdBrA1CorBgKAb00BkGQx4DhASCWDjQMDA6cCw1eC\n",
       "Chl8DBjiHzBMZ3j75/QDhpU/GzDsPHMwAML0DNB/wHCFgeE4RwID3wd0c8wmMcRmgVmvTjAAFU5m\n",
       "YMgNWMLAMAFNHZeXAwOHBMgHgUkMIKu/MzCkH+AOYLiAplCLG0gccGZgCAOqg3om1Zl1A0yhzd27\n",
       "dy+BGOeeAYlF3AzPREE8ZgOg8xhS2RSsoAq1l8K8ckAZSJYzKryD8FcZPgAqZDjA0wBWyHcVZjPT\n",
       "ghYg2cJSgOycVAZFvntghWzwMOIwcAeSyuwOqApZCmrAvuaGi7EuKAGZyNygcwYIAmAKGfLYwArV\n",
       "ELqhbnyAaiLDMz6w1WEIwXNhEF+jKWQyACcOXoRgFzgc3VEUHgJiI7BCRoTbGUExk4GatraDxDeA\n",
       "mTsQosuAcZ2Iok77J1AfH0Thmwy461nld39UwJ32us5CoxAYqArODMSBZOZ0DaIUsufsPILEBQB2\n",
       "0mdQbKfiLQAAAABJRU5ErkJggg==\n",
       "\" style=\"display:inline;vertical-align:middle;\" /></a><br>(alternate proof for <a class=\"ProveItLink\" href=\"#nat_within_rational_nonneg\">nat_within_rational_nonneg</a>)<br>"
      ],
      "text/plain": [
       "<IPython.core.display.HTML object>"
      ]
     },
     "metadata": {},
     "output_type": "display_data"
    }
   ],
   "source": [
    "nat_within_rational_nonneg = ProperSubset(Natural, RationalNonNeg)"
   ]
  },
  {
   "cell_type": "code",
   "execution_count": 13,
   "metadata": {},
   "outputs": [
    {
     "data": {
      "text/html": [
       "<strong id=\"int_within_rational\"><a class=\"ProveItLink\" href=\"proofs/int_within_rational/thm_proof.ipynb\">int_within_rational</a> (conjecture without proof):<br></strong> <a class=\"ProveItLink\" href=\"../__pv_it/theorems/d848dc8697c804459e6c5b94c30651363351f8360/theorem_expr.ipynb\"><img src=\"data:image/png;base64,iVBORw0KGgoAAAANSUhEUgAAADkAAAASBAMAAAATXWtDAAAAMFBMVEX///+6urru7u7c3Nx2dnZm\n",
       "ZmbMzMxUVFSIiIiYmJgiIiJEREQQEBAyMjKqqqoAAAB4Cw+YAAAAAXRSTlMAQObYZgAAAAlwSFlz\n",
       "AAAOxAAADsQBlSsOGwAAAR1JREFUKM9j4Lvz5/aqPRMYUAGT9+6tBkCaY3sCwwVeNEmG9mMMViVA\n",
       "mjWAgWOCH5oky5QJDIyBGxgY2A0YtJk2oMmmgAzbMANoAwNDGHsCRLB71apVy0CMTepAwg1sH1tB\n",
       "KkQy1xnmpg0ZQPIdK0gTt8ImiNhimMFsDpJAUpLzAZB8wtkAFmMXgMkyNswDkhl8IH/C/IPwFrPD\n",
       "S5BeDqByjgeODAwKQF46ws1Qe4Gi2sxA/xQDeeYI2U3mMDeXAX3M9AHI4ELIioD9C7ScLUAU6KAF\n",
       "oFBDBDYrKKwKN4D8c4mBeR84sC4iNLsDw7kUSMvsPb37/GkHkJB2oQLc1fF3vyagBa/ILmhIAu1K\n",
       "mMGAB1Rw1CXiluWrvrOTAQA3YEQkJkVQqQAAAABJRU5ErkJggg==\n",
       "\" style=\"display:inline;vertical-align:middle;\" /></a><br>"
      ],
      "text/plain": [
       "<IPython.core.display.HTML object>"
      ]
     },
     "metadata": {},
     "output_type": "display_data"
    }
   ],
   "source": [
    "int_within_rational = ProperSubset(Integer, Rational)"
   ]
  },
  {
   "cell_type": "code",
   "execution_count": 14,
   "metadata": {},
   "outputs": [
    {
     "data": {
      "text/html": [
       "<strong id=\"nonzero_int_within_rational_nonzero\"><a class=\"ProveItLink\" href=\"proofs/nonzero_int_within_rational_nonzero/thm_proof.ipynb\">nonzero_int_within_rational_nonzero</a> (conjecture without proof):<br></strong> <a class=\"ProveItLink\" href=\"../__pv_it/theorems/53df03c3b5df3559ed12ac509d2dcf0d900674210/theorem_expr.ipynb\"><img src=\"data:image/png;base64,iVBORw0KGgoAAAANSUhEUgAAAGQAAAAXCAMAAADKihoJAAAAOVBMVEX///82NjYbGxsSEhK6urru\n",
       "7u7c3Nx2dnZmZmbMzMxUVFSIiIiYmJgiIiJEREQQEBAyMjKqqqoAAAAljUYiAAAAAXRSTlMAQObY\n",
       "ZgAAAAlwSFlzAAAOxAAADsQBlSsOGwAAAZdJREFUSMe1VQlywyAMpC0gLovj/4+tOBwnDrI9bqNJ\n",
       "8IwMK2tXEkIwpsQf7QIAyLaCh5sxLgBoV9fghZB4K8YVAKfrGi0tRd8JcgFAthx1qbzGfCPGHiCn\n",
       "WGLCZcEYhDBY7Yf+Qdi2ZwmnEkM9Y/oHzwE8uppUar9uvuP2PdGfxPCusqIXt0n8BmDMcMPKixpS\n",
       "9WzLCV0QoEFK85D4HaBJRO7+pmb7/YUt20vCW1gZwFZMc4DWNMaKRlo75h5Z1wp0L9SQds3WzQKV\n",
       "GjvAjnAMALmt2Y5tVIA3T51rE+zTovztEC3n+q08ALkfbzIrtFr0jC05yo+eIfMAGRqd3RLfYHLS\n",
       "EL4j13he5MADPJdvlmyQ2WkNHbln4iUL4PMYZ8eD07qZ91UTFoG00/g0cI5n3lsQpffVNaXaDnRV\n",
       "jttuYabU1ids31Ltyl6+bjkOYsLcOzreHdwKVLupUqkxn10daaoprLPL8EM5Yoo0BGgU49ktqNDJ\n",
       "ibTalJSKseKfTALuxsoqa/Di0+Y8Tfxs5WejZFdZZ+63X/FZEpdfSDKBAAAAAElFTkSuQmCC\n",
       "\" style=\"display:inline;vertical-align:middle;\" /></a><br>"
      ],
      "text/plain": [
       "<IPython.core.display.HTML object>"
      ]
     },
     "metadata": {},
     "output_type": "display_data"
    }
   ],
   "source": [
    "nonzero_int_within_rational_nonzero = ProperSubset(IntegerNonZero, RationalNonZero)"
   ]
  },
  {
   "cell_type": "code",
   "execution_count": 15,
   "metadata": {},
   "outputs": [
    {
     "data": {
      "text/html": [
       "<strong id=\"neg_int_within_rational_neg\"><a class=\"ProveItLink\" href=\"proofs/neg_int_within_rational_neg/thm_proof.ipynb\">neg_int_within_rational_neg</a> (conjecture without proof):<br></strong> <a class=\"ProveItLink\" href=\"../__pv_it/theorems/316c975345fd6feeb434b0ad529df8cefa2947620/theorem_expr.ipynb\"><img src=\"data:image/png;base64,iVBORw0KGgoAAAANSUhEUgAAAFMAAAASBAMAAADVmP/6AAAAMFBMVEX///+6urru7u7c3Nx2dnZm\n",
       "ZmbMzMxUVFSIiIiYmJgiIiJEREQQEBAyMjKqqqoAAAB4Cw+YAAAAAXRSTlMAQObYZgAAAAlwSFlz\n",
       "AAAOxAAADsQBlSsOGwAAASxJREFUKM9j4Lvz5/aqPRMYsAIm791bDeA8ju0JDBd4satkaD/GYFUC\n",
       "57EGMHBM8GNg2w0Em9FUskyZwMAYuIEhGyRpwMBuwKDNtAG7oSkg2zbMgDuHgSGMPQFFRfeqVauW\n",
       "gRib1IGEG5Lr2ApSUVTmOsNM2ZABJN+xIgziVtiE4uvFcDMcJIGkJOcDuNwTzgZkpewCMBZjwzwg\n",
       "mcGHCEm0oELwmB1egkzlgOvleODIwKCAUJqOYELdCpfUZgYGVTFC3hzB3GSOGgJlwJBl+oCQ50Iw\n",
       "RcDhOg/uzQBRoFcWIORZEb5gBcVW4QZEUF1iYN6HHF0XEUx3YBoohfNk9p7eff60A5JS7UK4P5jj\n",
       "735NYMADRHZBIxbosoQZDMSCCo66RCKV8lXf2QllAgALPEtQzIiOaAAAAABJRU5ErkJggg==\n",
       "\" style=\"display:inline;vertical-align:middle;\" /></a><br>"
      ],
      "text/plain": [
       "<IPython.core.display.HTML object>"
      ]
     },
     "metadata": {},
     "output_type": "display_data"
    }
   ],
   "source": [
    "neg_int_within_rational_neg = ProperSubset(IntegerNeg, RationalNeg)"
   ]
  },
  {
   "cell_type": "code",
   "execution_count": 16,
   "metadata": {},
   "outputs": [
    {
     "data": {
      "text/html": [
       "<strong id=\"nonpos_int_within_rational_nonpos\"><a class=\"ProveItLink\" href=\"proofs/nonpos_int_within_rational_nonpos/thm_proof.ipynb\">nonpos_int_within_rational_nonpos</a> (conjecture without proof):<br></strong> <a class=\"ProveItLink\" href=\"../__pv_it/theorems/7c8117d9a352adc1d59df7fd7eeb7b07b5bc0fa30/theorem_expr.ipynb\"><img src=\"data:image/png;base64,iVBORw0KGgoAAAANSUhEUgAAAGQAAAAWBAMAAADEJiStAAAAMFBMVEX///+6urru7u7c3Nx2dnZm\n",
       "ZmbMzMxUVFSIiIiYmJgiIiJEREQQEBAyMjKqqqoAAAB4Cw+YAAAAAXRSTlMAQObYZgAAAAlwSFlz\n",
       "AAAOxAAADsQBlSsOGwAAAdRJREFUOMtjYEAAvs0MLB4ODLjBawMGlxZkAb4dDAwzGKTx6Ghg4Gxg\n",
       "3IAQ4NwJJI4x8Bvg0jF7AgMDTwLDZ7gAxz4gwfyJgecBDh3dIAl7BYZzDHx3/txetWcC2zmQMNsn\n",
       "Bq4JaEqZvHdvBdqcAzYqX4FhJQPH9gSGC7xAhzpBtPA0oGlpP8ZgVQL06RYFiJYTDKwBDBwT/IA8\n",
       "aSeww/jRHMYyZQIDYyDQz4wgPUCH/WNgN2DQZgKHQnowNu+nAF3AsGEGyAmlBhDvMzEwhLEngGXN\n",
       "ixg6GMShnl21atUyEGOTOpBwA+ljYC5X4GhgLADpLkiFmmgAjMogMCvXGeb5DRlA8h0r2FBmBgaX\n",
       "VpCXuBU2oQco02IYi81BEkhKcqL68AkneiAxsAvAWIwN84BkBh9q0IOCmIFtNxBshgnxwiWZHV6C\n",
       "bOEQyAYpgAYNxwNHBgYFVFvSEUyoX1AUaDMDg7gYVYs5grnJHB5icFAGjBmmD6hauBBMEXC8zEOW\n",
       "ZQsQBXp3AaoWVoRvWUGxX7gBWZZb4RID874NaEF2EcF0B6axUhRJmb2nd58/jZ4XtQvh/mWOv/s1\n",
       "gYEIILILmmCArk6YwUAqqOCoSyRRC1/1nZ1IXAAiNnLThZmvxgAAAABJRU5ErkJggg==\n",
       "\" style=\"display:inline;vertical-align:middle;\" /></a><br>"
      ],
      "text/plain": [
       "<IPython.core.display.HTML object>"
      ]
     },
     "metadata": {},
     "output_type": "display_data"
    }
   ],
   "source": [
    "nonpos_int_within_rational_nonpos = ProperSubset(IntegerNonPos, RationalNonPos)"
   ]
  },
  {
   "cell_type": "code",
   "execution_count": 17,
   "metadata": {},
   "outputs": [
    {
     "data": {
      "text/html": [
       "<strong id=\"rational_nonzero_within_rational\"><a class=\"ProveItLink\" href=\"proofs/rational_nonzero_within_rational/thm_proof.ipynb\">rational_nonzero_within_rational</a> (conjecture without proof):<br></strong> <a class=\"ProveItLink\" href=\"../__pv_it/theorems/2344b5220d86e11226b35630366238e7b035d2550/theorem_expr.ipynb\"><img src=\"data:image/png;base64,iVBORw0KGgoAAAANSUhEUgAAAFIAAAAXCAMAAACvZ+h2AAAAOVBMVEX///82NjYbGxsSEhKqqqoy\n",
       "MjK6urqYmJgiIiLMzMwQEBBUVFSIiIjc3NxmZmZERER2dnbu7u4AAADYcN1mAAAAAXRSTlMAQObY\n",
       "ZgAAAAlwSFlzAAAOxAAADsQBlSsOGwAAAUVJREFUOMutlYmSgyAMhtldDmOAgO//sMuhbQ1Q7NTM\n",
       "iA7IBz85EGJoUdxtQZc22HAX0WFujRVC001IdLldITWbu4Woi1y35QNd5efzY6Bkvm7G52/6S48R\n",
       "UJCL+YyQzGLW5xZ8OsJWSkWudkbkhGBCAWj/cETcP6rwbSacEyAIVUeoODgL//2hIvyaezhBUIy4\n",
       "Lwb7EOBDUQ4iPIukpRocPZyQNMJ+VlIKD/Wfp6Zg/WsagQp8zw0h7VrvHk1vk49Njt0RF9fTfSZo\n",
       "Wzl5zAqZx9SbBNCdEOYEFyqnrmHTFKnHyN5qLeF8Eu/LD2CvtyFQdNzjk1rSIDlBv0bVLKiXQT1g\n",
       "BH/EPs7LmDf9Xk4IR4b6eYVRXd+1BOc3pTYPV4oWoe64sENAqNl5qZISS8gBAW2qUBL0F9dAQ5BI\n",
       "aiXzxUVwEP4B9ocQyWypDv4AAAAASUVORK5CYII=\n",
       "\" style=\"display:inline;vertical-align:middle;\" /></a><br>"
      ],
      "text/plain": [
       "<IPython.core.display.HTML object>"
      ]
     },
     "metadata": {},
     "output_type": "display_data"
    }
   ],
   "source": [
    "rational_nonzero_within_rational = ProperSubset(RationalNonZero, Rational)"
   ]
  },
  {
   "cell_type": "code",
   "execution_count": 18,
   "metadata": {},
   "outputs": [
    {
     "data": {
      "text/html": [
       "<strong id=\"rational_pos_within_rational\"><a class=\"ProveItLink\" href=\"proofs/rational_pos_within_rational/thm_proof.ipynb\">rational_pos_within_rational</a> (conjecture without proof):<br></strong> <a class=\"ProveItLink\" href=\"../__pv_it/theorems/4c548939eb2c49550bf1974de129f2094fcfe07d0/theorem_expr.ipynb\"><img src=\"data:image/png;base64,iVBORw0KGgoAAAANSUhEUgAAAEkAAAAVBAMAAAD4Ed5jAAAAMFBMVEX///+qqqoyMjK6urqYmJgi\n",
       "IiLMzMwQEBBUVFSIiIjc3NxmZmZERER2dnbu7u4AAACF9pTcAAAAAXRSTlMAQObYZgAAAAlwSFlz\n",
       "AAAOxAAADsQBlSsOGwAAAUxJREFUKM9jYECADQzEgAOUq3p75swuXKr47pw5vQDE4GxP4Iq4gEPV\n",
       "jDKGpb0gxpUrDAzWNgzcZ87UnDmCpojX14GBeTNQN9sFBQYGHpYJWM3KZQIJewIVvGsA6klQQFbF\n",
       "eTQ0NDQByDj3AkhcAyp9wwY0hlFgG5IqNt0FULcfyASSgtwJDLnMDgwMzA6OSKqeLoApv2ACJE1Y\n",
       "BBgsgZiBbYIIUtg3w2xmngDSnMnowLCWEWzWZCQ3K8AYXBdAmk04DRh4IO7ah1DE1oCIDYi7HjDw\n",
       "vIL7EWYCQtW5FVA/MkPCSwDJxgA4yxYcXiDHbQGGvYUNclhugbO4QWHfDPI7LygeUZIWkwGceQMY\n",
       "j91g1upP+ttQE8IJO7gb9yv9ToAw28CxiASY70BjiIGBI8ETKsgxYYaYAa7U18nZmAxhSRyqccCl\n",
       "irFH/QgDACnVV59ylS0KAAAAAElFTkSuQmCC\n",
       "\" style=\"display:inline;vertical-align:middle;\" /></a><br>"
      ],
      "text/plain": [
       "<IPython.core.display.HTML object>"
      ]
     },
     "metadata": {},
     "output_type": "display_data"
    }
   ],
   "source": [
    "rational_pos_within_rational = ProperSubset(RationalPos, Rational)"
   ]
  },
  {
   "cell_type": "code",
   "execution_count": 19,
   "metadata": {},
   "outputs": [
    {
     "data": {
      "text/html": [
       "<strong id=\"rational_pos_within_rational_nonzero\"><a class=\"ProveItLink\" href=\"proofs/rational_pos_within_rational_nonzero/thm_proof.ipynb\">rational_pos_within_rational_nonzero</a> (conjecture without proof):<br></strong> <a class=\"ProveItLink\" href=\"../__pv_it/theorems/6b4aa200edb335dd50d8a7ee781d982ff9241e770/theorem_expr.ipynb\"><img src=\"data:image/png;base64,iVBORw0KGgoAAAANSUhEUgAAAF4AAAAXCAMAAAC1Wwj4AAAAOVBMVEX///82NjYbGxsSEhKqqqoy\n",
       "MjK6urqYmJgiIiLMzMwQEBBUVFSIiIjc3NxmZmZERER2dnbu7u4AAADYcN1mAAAAAXRSTlMAQObY\n",
       "ZgAAAAlwSFlzAAAOxAAADsQBlSsOGwAAAVVJREFUSMe1VYuSgyAMpHcQjDwC/v/HFiLqVWOrTI+Z\n",
       "UsfJ7iTZZFXq+yer/zwJ+E4+nYbEfvbg6m29UkBnMdRP70K9RyzXFL5OD9ySMFUBRj1rkaicGG7T\n",
       "vwBjfabf8rMKmX6w9b13tZQwuHSTXgB6Zmz0o68a28TvILIWnMRInMSHEXkFcjntYW7OVJqDSZkl\n",
       "5ar35ez3wJrXz6PltUpLObuWDS7xAr2nYT64NvAIRLeG18F0XA62nLVWEWV6NGk/ZBKQtoUtaxUz\n",
       "lwityeXfapE+D0HqzR6o/XFO/cpZktFW3FoH6grQCDucVs6ShAdRRaOuADWIC/q3haLbbYrdBLIc\n",
       "4Tg5kkt1AGeT2MZXyzFDL7DKuCyfO3XQaDuBXNtiHecub6ATyL2NkzFTxDfWSA5yD7ANNm5+cyYR\n",
       "7UzhInAO88VeNcL9j9M1oHZkxo8efBf4BEhPEfQ6iBeoAAAAAElFTkSuQmCC\n",
       "\" style=\"display:inline;vertical-align:middle;\" /></a><br>"
      ],
      "text/plain": [
       "<IPython.core.display.HTML object>"
      ]
     },
     "metadata": {},
     "output_type": "display_data"
    }
   ],
   "source": [
    "rational_pos_within_rational_nonzero = ProperSubset(RationalPos, RationalNonZero)"
   ]
  },
  {
   "cell_type": "code",
   "execution_count": 20,
   "metadata": {},
   "outputs": [
    {
     "data": {
      "text/html": [
       "<strong id=\"rational_neg_within_rational_nonzero\"><a class=\"ProveItLink\" href=\"proofs/rational_neg_within_rational_nonzero/thm_proof.ipynb\">rational_neg_within_rational_nonzero</a> (conjecture without proof):<br></strong> <a class=\"ProveItLink\" href=\"../__pv_it/theorems/51c44c4f900d01bbebd392211e77349ef9953d7e0/theorem_expr.ipynb\"><img src=\"data:image/png;base64,iVBORw0KGgoAAAANSUhEUgAAAF8AAAAXCAMAAABamWPGAAAAOVBMVEX///82NjYbGxsSEhKqqqoy\n",
       "MjK6urqYmJgiIiLMzMwQEBBUVFSIiIjc3NxmZmZERER2dnbu7u4AAADYcN1mAAAAAXRSTlMAQObY\n",
       "ZgAAAAlwSFlzAAAOxAAADsQBlSsOGwAAAUpJREFUSMe1VYuOxCAI5O4Ua31g/f+PPcE+sl29ds2V\n",
       "pMYYh8IMIMADtsCjllDW5NMj7oPj1XgApCf8u8DrbMuSw/+7R2ElZBZhVlWPRMXiwM9ekJH39FM+\n",
       "A1b8T4bPveNkwuQ+1qOB9OJy9T97FtokOcMoelja7DKfE1ISWjeVn1z4sQl0PSMR/b6dkczP9xcJ\n",
       "P4e+tCxuDcdu95tc0FTNbicNpHX7da5PJwnZNWqlINperDqd6Woh6Wjd0l9xkSTRrJVlwKhOnUyh\n",
       "Rc8Zqd75Rb87LdEo0+kZhDvIBr0h7U5LFB7b/lu6vCNVC/3KYnv0HbJ9imRJwmX9BDeKlHlxVHFH\n",
       "XpiGkaUtti50/XkazSiSs9umSOzf0TiKZHpj1jp3e6s2k8NlCFnr217OHkx0mg93kXLNl2GrLA48\n",
       "V/eQypGeyQw8WH8ifwHL4BFmPWJvOAAAAABJRU5ErkJggg==\n",
       "\" style=\"display:inline;vertical-align:middle;\" /></a><br>"
      ],
      "text/plain": [
       "<IPython.core.display.HTML object>"
      ]
     },
     "metadata": {},
     "output_type": "display_data"
    }
   ],
   "source": [
    "rational_neg_within_rational_nonzero = ProperSubset(RationalNeg, RationalNonZero)"
   ]
  },
  {
   "cell_type": "code",
   "execution_count": 21,
   "metadata": {},
   "outputs": [
    {
     "data": {
      "text/html": [
       "<strong id=\"rational_pos_within_rational_nonneg\"><a class=\"ProveItLink\" href=\"proofs/rational_pos_within_rational_nonneg/thm_proof.ipynb\">rational_pos_within_rational_nonneg</a> (conjecture without proof):<br></strong> <a class=\"ProveItLink\" href=\"../__pv_it/theorems/0b96a18bc8b4d3fa4bedca3f195ee0cab731702f0/theorem_expr.ipynb\"><img src=\"data:image/png;base64,iVBORw0KGgoAAAANSUhEUgAAAF4AAAAWBAMAAAC79zZcAAAAMFBMVEX///+qqqoyMjK6urqYmJgi\n",
       "IiLMzMwQEBBUVFSIiIjc3NxmZmZERER2dnbu7u4AAACF9pTcAAAAAXRSTlMAQObYZgAAAAlwSFlz\n",
       "AAAOxAAADsQBlSsOGwAAAatJREFUOMtjYCAG5BiAqbtzUUQ34FTPd0cASLJMYD6ALHoAjw1zHBgY\n",
       "2BMYfhGrnsFnAsP6BwyFQNbbM2d24VLPd+fM6QUQpvuC/AcMIQwMnO0JXBEXcKifUcawtBfMenuY\n",
       "Aai+koHhyhUGBmsbBu4zZ2rOHEFTzuvrwMC8GWTO6jYGkHs+MrBdUGBg4GGZgNX8XCaQsCcDwwqg\n",
       "coh/ed41AM1JUEBWPyc0NDQMxDj3AkhcY2J4AfYg5wTmBoY3bECjGQW2IalPugXz7YFMICnInfAO\n",
       "wr87+wFDLjMwZJkdHBHq+aJg9rBdMAGSJiwCSE60BPHYJogg4pfDACbHPAFkTCajA5L6tYxg8ycj\n",
       "RJjgLK4LIGNMOA1yzgABJB54IO7fh1CfgRTjEPc/QDKf5xU8fKBgBYJ5bgUkfJAAMyT8kbzEimDa\n",
       "gsPfESVOtgDj18IGSYAb4T1uUPw2o8YjLyj9oCR9ZQTzBjD9dKNF+upP+ttQBN40wz3ItV/pdwJ6\n",
       "KmkDpx4kYHsUmh6AkZHgiZGqOCbMEDPAlU86ORuT0cUkDtU44FLP2KOOnMoB2r92hL2ghdEAAAAA\n",
       "SUVORK5CYII=\n",
       "\" style=\"display:inline;vertical-align:middle;\" /></a><br>"
      ],
      "text/plain": [
       "<IPython.core.display.HTML object>"
      ]
     },
     "metadata": {},
     "output_type": "display_data"
    }
   ],
   "source": [
    "rational_pos_within_rational_nonneg = ProperSubset(RationalPos, RationalNonNeg)"
   ]
  },
  {
   "cell_type": "code",
   "execution_count": 22,
   "metadata": {},
   "outputs": [
    {
     "data": {
      "text/html": [
       "<strong id=\"rational_neg_within_rational_nonpos\"><a class=\"ProveItLink\" href=\"proofs/rational_neg_within_rational_nonpos/thm_proof.ipynb\">rational_neg_within_rational_nonpos</a> (conjecture without proof):<br></strong> <a class=\"ProveItLink\" href=\"../__pv_it/theorems/8ccd3af58361f1b9e1da29f7306c158b3b25b3fc0/theorem_expr.ipynb\"><img src=\"data:image/png;base64,iVBORw0KGgoAAAANSUhEUgAAAF4AAAAWBAMAAAC79zZcAAAAMFBMVEX///+qqqoyMjK6urqYmJgi\n",
       "IiLMzMwQEBBUVFSIiIjc3NxmZmZERER2dnbu7u4AAACF9pTcAAAAAXRSTlMAQObYZgAAAAlwSFlz\n",
       "AAAOxAAADsQBlSsOGwAAAaBJREFUOMtjYCAWyCxguDuXgXjlExhYJjAfIFa5jwMDA3sCwy8ilc8R\n",
       "ABLrHzAUAqm3Z87swqWO786Z0wsYGNJByhnyHzCEMDBwtidwRVzAoX5GGcPSXgYGxrMPIOorGRiu\n",
       "XGFgsLZhYDsDBKfQlPP6OjAwbwZ6khmkAeiejwxsFxQYGHhYJmA1PpcJSBzwBBJs3Qsg/uV51wA0\n",
       "J0EBxXehoaFhIMa5F0DiGkgTA1fHA84JzA0Mb9iARjMKbENSnnQL5tsDmUBSkDsBrIGB4e7sBwy5\n",
       "zMCQZXZwRAqTKBiL7YIJkDRhEUAyzBLEY5sgghDhMICxmCeAjMlkdEBSv5YRbP5khAgTnMV1AWSM\n",
       "CadBDijwFoDFeCDu34dQn4FgQt3/AMl8nlfo4bMCwTy3Ah4+cDdCwh/JS6wIpi04/B1R4mQLMH4t\n",
       "bJAEuBHe4wbFbzNqIuYFpZ8NyCLKCOYNYPrpRov01Z/0t6EIvGmGe5Brv9LvBPRU0oaeemyPQtMD\n",
       "MDISPDFSFceEGWIGuHJAJ2djMrqYxKEaB1zqGXvUjyBxARIlbcMo0703AAAAAElFTkSuQmCC\n",
       "\" style=\"display:inline;vertical-align:middle;\" /></a><br>"
      ],
      "text/plain": [
       "<IPython.core.display.HTML object>"
      ]
     },
     "metadata": {},
     "output_type": "display_data"
    }
   ],
   "source": [
    "rational_neg_within_rational_nonpos = ProperSubset(RationalNeg, RationalNonPos)"
   ]
  },
  {
   "cell_type": "code",
   "execution_count": 23,
   "metadata": {},
   "outputs": [
    {
     "data": {
      "text/html": [
       "<strong id=\"rational_neg_within_rational\"><a class=\"ProveItLink\" href=\"proofs/rational_neg_within_rational/thm_proof.ipynb\">rational_neg_within_rational</a> (conjecture without proof):<br></strong> <a class=\"ProveItLink\" href=\"../__pv_it/theorems/b8475e73957d5aa8255c8367046fef2fb9e8011c0/theorem_expr.ipynb\"><img src=\"data:image/png;base64,iVBORw0KGgoAAAANSUhEUgAAAEoAAAASBAMAAAAOI1XYAAAAMFBMVEX///+qqqoyMjK6urqYmJgi\n",
       "IiLMzMwQEBBUVFSIiIjc3NxmZmZERER2dnbu7u4AAACF9pTcAAAAAXRSTlMAQObYZgAAAAlwSFlz\n",
       "AAAOxAAADsQBlSsOGwAAAOpJREFUKM9jYGB4e+bMLgZcACbJ2Z7AFXEBhyK45JUrDAzWNgxsZ4Dg\n",
       "FLoqqCQD2wUFBgYelglYjYJL8rxrYGDgTVBAsedoaGhoApABl3zDBjSGUWAbsgm6C6AsuGQuswMD\n",
       "A7ODI5KqpzBFCElLFgGg7gkiSKqa4Sy45FpGsPLJSKoQboRL8kCs3ofkrAY4Ey7J8wrdj1xIqmCS\n",
       "zJAgEUCyMQDOQkhuAQavhQ1ycG1BYsIkeUFRtQFZFZMBnImQXP1JfxtKvPCdsIOzEZJt6LHIfAca\n",
       "Q8iSHBNmiBngSmAISYlDNQ440yFIEgBnIE/NmBWGWgAAAABJRU5ErkJggg==\n",
       "\" style=\"display:inline;vertical-align:middle;\" /></a><br>"
      ],
      "text/plain": [
       "<IPython.core.display.HTML object>"
      ]
     },
     "metadata": {},
     "output_type": "display_data"
    }
   ],
   "source": [
    "rational_neg_within_rational = ProperSubset(RationalNeg, Rational)"
   ]
  },
  {
   "cell_type": "code",
   "execution_count": 24,
   "metadata": {},
   "outputs": [
    {
     "data": {
      "text/html": [
       "<strong id=\"rational_nonneg_within_rational\"><a class=\"ProveItLink\" href=\"proofs/rational_nonneg_within_rational/thm_proof.ipynb\">rational_nonneg_within_rational</a> (conjecture without proof):<br></strong> <a class=\"ProveItLink\" href=\"../__pv_it/theorems/f18d9dc60e9dce515bf0d36f742df16ed539d3580/theorem_expr.ipynb\"><img src=\"data:image/png;base64,iVBORw0KGgoAAAANSUhEUgAAAFIAAAAWBAMAAAChy9bSAAAAMFBMVEX///+qqqoyMjK6urqYmJgi\n",
       "IiLMzMwQEBBUVFSIiIjc3NxmZmZERER2dnbu7u4AAACF9pTcAAAAAXRSTlMAQObYZgAAAAlwSFlz\n",
       "AAAOxAAADsQBlSsOGwAAATxJREFUKM9jYIACtsNgivfmBQZC4O1BEOnJYENQJQPnESBRxsC/gLBS\n",
       "lpMMXP8Y2AVwW3vmzC6o0iq2fwysDrgUcLYncEWAvcF3xwCokn0CuqtgCq5cYWCwBnmDa0cCyHZ+\n",
       "dNthCtguKDAw8LBMYODqSMDqI7gCnncNwFBMUODrBquYyWABtfNoaGgoSC9MAcMbNqC7GAW28T2A\n",
       "hvw+iEm6MKNhChhymYF+ZXZwRHPcU7gb4AosWYA+YJsggqayGc6CK1jLCNYyme0MEJyCyyvAWTAF\n",
       "DDwQZ+xD83ADnAlXwPMK6jUUwIWkEqaAGRJc6MEdAGchFGwBRoEFRlLbgsSEKeAFResGdJVMBnAm\n",
       "QsHqT/rbMBIY3wk7OBuhoI1lAmZaZL4DjU1kBRwTZogZ4EviCAUSh2oc8OYGkAIAY/Fl1fx1Rr8A\n",
       "AAAASUVORK5CYII=\n",
       "\" style=\"display:inline;vertical-align:middle;\" /></a><br>"
      ],
      "text/plain": [
       "<IPython.core.display.HTML object>"
      ]
     },
     "metadata": {},
     "output_type": "display_data"
    }
   ],
   "source": [
    "rational_nonneg_within_rational = ProperSubset(RationalNonNeg, Rational)"
   ]
  },
  {
   "cell_type": "code",
   "execution_count": 25,
   "metadata": {},
   "outputs": [
    {
     "data": {
      "text/html": [
       "<strong id=\"rational_nonpos_within_rational\"><a class=\"ProveItLink\" href=\"proofs/rational_nonpos_within_rational/thm_proof.ipynb\">rational_nonpos_within_rational</a> (conjecture without proof):<br></strong> <a class=\"ProveItLink\" href=\"../__pv_it/theorems/073d7d1ec2ae6c67189c7ba0ae162ba207bc6a990/theorem_expr.ipynb\"><img src=\"data:image/png;base64,iVBORw0KGgoAAAANSUhEUgAAAFIAAAAWBAMAAAChy9bSAAAAMFBMVEX///+qqqoyMjK6urqYmJgi\n",
       "IiLMzMwQEBBUVFSIiIjc3NxmZmZERER2dnbu7u4AAACF9pTcAAAAAXRSTlMAQObYZgAAAAlwSFlz\n",
       "AAAOxAAADsQBlSsOGwAAAT9JREFUKM9jYEACjKcYeG9eYCAMGE8yMHgy2BBWyHIESJQx8C8gpJDz\n",
       "IJDg+sfALoBTydszZ3YxMLAVgths/xhYHbArAJrVnsAVAfSGzD2ISvYJ6JZBFTBcucLAYA3yhs09\n",
       "sO386LbDFLBdUGBg4GEBGZSxC5uP4Ap43jUwMPAmKIAEV/QxzGSwgNp5NDQ0NAHIgCt4wwY0jlFg\n",
       "G1h6ATDk90FM0oUZDVeQywz0K7ODI5rjnsLdAFdgyQL0AdsEETSVzXAWXMFaRrCWyWxngOAUXF4B\n",
       "zoIpYOCBOGMfmocb4Ey4Ap5XCL8jABeSSpgCZkhwoQd3AJyFULAFGAUWGEltCxITpoAXFK0b0FUy\n",
       "GcCZCAWrP+lvw0hgfCfs4GyEgjaWCZhpkfkONDaRFXBMmCFmgC+RIxRIHKpxwJsfQAoAjAFkm+qT\n",
       "qPkAAAAASUVORK5CYII=\n",
       "\" style=\"display:inline;vertical-align:middle;\" /></a><br>"
      ],
      "text/plain": [
       "<IPython.core.display.HTML object>"
      ]
     },
     "metadata": {},
     "output_type": "display_data"
    }
   ],
   "source": [
    "rational_nonpos_within_rational = ProperSubset(RationalNonPos, Rational)"
   ]
  },
  {
   "cell_type": "code",
   "execution_count": 26,
   "metadata": {},
   "outputs": [
    {
     "data": {
      "text/html": [
       "<strong id=\"nonzero_if_in_rational_nonzero\"><a class=\"ProveItLink\" href=\"proofs/nonzero_if_in_rational_nonzero/thm_proof.ipynb\">nonzero_if_in_rational_nonzero</a> (conjecture without proof):<br></strong> <a class=\"ProveItLink\" href=\"../__pv_it/theorems/1f5635aa544e6b3c1d6757b01647f4f29b98b96b0/theorem_expr.ipynb\"><img src=\"data:image/png;base64,iVBORw0KGgoAAAANSUhEUgAAAIcAAAAXCAMAAAAWX6x7AAAASFBMVEX///8NDQ0WFhYLCwsYGBhK\n",
       "Sko9PT0oKChfX1+IiIgiIiIQEBB2dnbu7u5ERETMzMzc3NwyMjK6urpmZmaYmJiqqqpUVFQAAACO\n",
       "tbUiAAAAAXRSTlMAQObYZgAAAAlwSFlzAAAOxAAADsQBlSsOGwAAAk9JREFUSMe9Vlmy3CAMdNYX\n",
       "sQmQwPe/aUAY72Em5eTxwRR4EE2r1TBN/7b5T1nyskEafiZ7Mxmh9nkdJ34MI5nhZ3T7kTFAwgXU\n",
       "jSn2+fCYIBvG3x3uBqFQZ5XsGQpN2Anx7jEdNGYU827ASjiRTZkWMDKVHuPQL+jYE+4EVJpld116\n",
       "Xg4RnqtjHCLu6ZhmEopmOX2oGLSqTZvnaekhfAZjAU+fD/qzHYewYCpEkgXOPsYRFmZjVV+eV3hy\n",
       "TvX9W+1XNc6m4ZCi5SDoe/deUdQAHhJcyks1hVld8eQwomPDIT9JdypM/PO+jnLeglCvtIsadItB\n",
       "woQ65TnSMWoDEBsfKEsS3ARFyM6VwN7UBYZ7NXGUIy8iv8OhnZw3jujoOk1Np1EvpcJw1hwtMjO+\n",
       "/tMy+8kQ0a8PKs7na/ErvM2LlSPyPB308fVLU8mafteco9VtUot1dBOxhqGeGLojIabmvRNsWVn4\n",
       "OAvEQcNR4bgTweFMHgsF1P7GzUO9XmBWn8XZT3b1VrYNUcVR+Pj5gyofksZLKk1e4fB8lEei6U7V\n",
       "VuOh4jP2bBQGCtC4GnTnoaCoOHu4Ui98qRds7NoMkE7yCFdXsGSg76viVWmQaz07aWmKh7zQ2GQ2\n",
       "xezk8cY97NUJYkmJ0Irbup1OW60MGq/sn9wj2L+7H3WVBx7cFSs/RclvPU7Wm+x4S/ALOi43fSRu\n",
       "LuS3p4I1ikLG97y2RTRhPtiYsu/fwyv20F3UiY9JavDdp5qH24fH+C3ph5fmfi4xQZw+sxl9xxIC\n",
       "4//d9zeZVyDyuoXzUAAAAABJRU5ErkJggg==\n",
       "\" style=\"display:inline;vertical-align:middle;\" /></a><br>"
      ],
      "text/plain": [
       "<IPython.core.display.HTML object>"
      ]
     },
     "metadata": {},
     "output_type": "display_data"
    }
   ],
   "source": [
    "nonzero_if_in_rational_nonzero = Forall(\n",
    "    q,\n",
    "    NotEquals(q, zero),\n",
    "    domain=RationalNonZero)"
   ]
  },
  {
   "cell_type": "code",
   "execution_count": 27,
   "metadata": {},
   "outputs": [
    {
     "data": {
      "text/html": [
       "<strong id=\"positive_if_in_rational_pos\"><a class=\"ProveItLink\" href=\"proofs/positive_if_in_rational_pos/thm_proof.ipynb\">positive_if_in_rational_pos</a> (conjecture with conjecture-based proof):<br></strong> <a class=\"ProveItLink\" href=\"../__pv_it/theorems/dae50c541a2d0c470a023eabd7413063ada8aff70/theorem_expr.ipynb\"><img src=\"data:image/png;base64,iVBORw0KGgoAAAANSUhEUgAAAH8AAAAXBAMAAADQNI0XAAAAMFBMVEX///+IiIgiIiIQEBB2dnbu\n",
       "7u5ERETMzMzc3NwyMjK6urpmZmaYmJiqqqpUVFQAAAB6qHgnAAAAAXRSTlMAQObYZgAAAAlwSFlz\n",
       "AAAOxAAADsQBlSsOGwAAAi1JREFUOMuVVEtP1FAU/obpbWdKx1TiwigSQkycJTEGtxOCRBNJ6mND\n",
       "QhAWzIJEM/wAZVCjO8IG4xKWrDAGIy+14EaYxXRLYjKz4bUSjQujMfGcTnvbGTpFbtLecx/nu+d8\n",
       "57sXOLmlmq4U8V/tUtOVefqqbHyN88/kIqf7LhaRsIFVHryOAxiMnE07IgvMAk84yZE4gPXI2U2g\n",
       "HygRkgUoThxAdygYW5qPgIqFpAWD5tKxFMwEtug1ffMPMOkgTd5Xu7quxQG0MofT5+4U3FHbDQ+K\n",
       "AWwoVIP3wNhxNyVgiw7Rs/jm5/6upo2fBGDCoPCmkapGnCutFiLono1Df7yzLAFyyBBBqqXMhTxF\n",
       "/8eDOoAkrX4CLsuJhV3eRgCLJrQjIsmUHE7sjeN5DredRoAepH4HAGMeiRUHOpdoZsMPm+jATQdD\n",
       "X5S1t2urQQriO4wjmcKB2+WBsoVMJ5kDJCfc39hGO/XaYxJoIhyBakL8heoXc3O51n8GVgCDJfiM\n",
       "OBRZ7ZfggTGEBgCu1CjK3oXwy0iBietejc9QhVvfaN06y4ydE0oYQKMoh89WXKJFmxSSWOogv5Y5\n",
       "yVSiarzK5x/qXgqBDnCFf2XXvGs3VPupbzwoqqbmRumSWLepxL/DEy5asjhZqAlyooqB+nNUfnei\n",
       "1R5cY32dtPKi4N6Xlf36XUzurR+Rr4oaetO2WIT5ccr+ZWOiU00v2vmQvSStD6ULOH1TemQ0Wnvh\n",
       "FI7/ACfogEds40S4AAAAAElFTkSuQmCC\n",
       "\" style=\"display:inline;vertical-align:middle;\" /></a><br>"
      ],
      "text/plain": [
       "<IPython.core.display.HTML object>"
      ]
     },
     "metadata": {},
     "output_type": "display_data"
    }
   ],
   "source": [
    "positive_if_in_rational_pos = Forall(\n",
    "    q,\n",
    "    greater(q, zero),\n",
    "    domain=RationalPos)"
   ]
  },
  {
   "cell_type": "code",
   "execution_count": 28,
   "metadata": {},
   "outputs": [
    {
     "data": {
      "text/html": [
       "<strong id=\"negative_if_in_rational_neg\"><a class=\"ProveItLink\" href=\"proofs/negative_if_in_rational_neg/thm_proof.ipynb\">negative_if_in_rational_neg</a> (conjecture without proof):<br></strong> <a class=\"ProveItLink\" href=\"../__pv_it/theorems/3f55887dbcfefb9bfa480cc540cfcd2c25d6aa2c0/theorem_expr.ipynb\"><img src=\"data:image/png;base64,iVBORw0KGgoAAAANSUhEUgAAAH8AAAAXBAMAAADQNI0XAAAAMFBMVEX///+IiIgiIiIQEBB2dnbu\n",
       "7u5ERETMzMzc3NwyMjK6urpmZmaYmJiqqqpUVFQAAAB6qHgnAAAAAXRSTlMAQObYZgAAAAlwSFlz\n",
       "AAAOxAAADsQBlSsOGwAAAidJREFUOMuVVM9LG1EQ/pLsJhtNwrspSEWDByEVghQF8ZCDSi/KCuLV\n",
       "eHBbKZRYCl6kLnqUVi+CB3+sXrwIKgjSRjAqpagt7qGHCoEk/0DJIYfSXjpv88PdzbqYB4+dmX3z\n",
       "vZlvZh7whKU2/MO6PPpjf3Zp57mQdQX46WgdalPhyQBfuLLh5i+uOVmDutgNrAMfSJGSbgDNGSfr\n",
       "JTAC3BKSDAi6G4DPpoeNeN8CORk+GSHCD7pScG9VQzGZf/4BizqC5N0bjb5wBTjhSRaGWyol6TL8\n",
       "RQ6QgUA1OAVmXAE2ae+pkaKhTHSWjVKJABhCRPAnSHlXgB66bxARoxYrz2ECSCAcB/yyoJmOT7z5\n",
       "beuvASpEEd4EiZGtWm0J4JAhQHGFWZXDQLuiSUMQftQB+JJY1SwAnMScjiaKAGsXFVs6RRX9CPG7\n",
       "upJOpzVTClMMd7CkAAW4kxHuIHF0nUd+ccP7EvO/AMYsEUwTgI5ZWEjEFfCZaspbcJk4FLsDfya5\n",
       "/WumDmCMeGKhUkUb7zTKCK8u9hM5BjMUefNRIH7A7dyZJSwA7wi/8OxvrZEqjXDSTn7eaqI+zZO/\n",
       "VhRF369PwZvibsWHVjSN3lJVmFL97D0XyiRae/eIh+k4kjirDYy6mPLLRikh2F+H1/xAwsn/YYyb\n",
       "zs4hvTJojm2nbMeIXWGnywnAb4r1mnwVhTh5uVB3D3usy1ttM1d+P7LHGhpfQl8tmrlvjTj+B/84\n",
       "e9tb4+uDAAAAAElFTkSuQmCC\n",
       "\" style=\"display:inline;vertical-align:middle;\" /></a><br>"
      ],
      "text/plain": [
       "<IPython.core.display.HTML object>"
      ]
     },
     "metadata": {},
     "output_type": "display_data"
    }
   ],
   "source": [
    "negative_if_in_rational_neg = Forall(\n",
    "    q,\n",
    "    Less(q, zero),\n",
    "    domain=RationalNeg)"
   ]
  },
  {
   "cell_type": "code",
   "execution_count": 29,
   "metadata": {},
   "outputs": [
    {
     "data": {
      "text/html": [
       "<strong id=\"nonneg_if_in_rational_nonneg\"><a class=\"ProveItLink\" href=\"proofs/nonneg_if_in_rational_nonneg/thm_proof.ipynb\">nonneg_if_in_rational_nonneg</a> (conjecture without proof):<br></strong> <a class=\"ProveItLink\" href=\"../__pv_it/theorems/f5d888bafea69f5b0d2e2f849df698b58e513f410/theorem_expr.ipynb\"><img src=\"data:image/png;base64,iVBORw0KGgoAAAANSUhEUgAAAIcAAAAXBAMAAADTr0F6AAAAMFBMVEX///+IiIgiIiIQEBB2dnbu\n",
       "7u5ERETMzMzc3NwyMjK6urpmZmaYmJiqqqpUVFQAAAB6qHgnAAAAAXRSTlMAQObYZgAAAAlwSFlz\n",
       "AAAOxAAADsQBlSsOGwAAAlFJREFUOMudVM9rE1EQ/pLs291sN7KKB7FVShAaPAXR6jGIFkUL64+L\n",
       "UPxxaA4FJf0DtBsVvZVcFI/x6EkPEW1TdVsvag5Zj4VCclFbUKziQRShM9vdzbpJ2OqD3Z3ZN+97\n",
       "M9837wFbG2rfGQtbHnv6zjykp83GShxGptDz97FBCwkbmGfnQRzIhZBpB2baETngHnCDC74cB7LQ\n",
       "McVRwzeXgDGgQWgmIDlxIPmws+O4Z1wDWiZSJnTKLh1LSeUvd8lD+Q3MOEgTwoFs9mAcyADzOrvz\n",
       "TMnzl5+7hTGIDYm0eQZMxoHwZloOX4Mfjz4wlT8IxIBOac5CbUcXiRoxhfJ7v5GSRNo5G2sdkEkf\n",
       "pIAMESabUjW8fuzlKs2fslg7n4oURbwC9vlBy6tuKIE8NqCsE2lGwOv0xyncLuA07SsGqyKPQyGQ\n",
       "Uai/fGKfBsS2HGgsXWXRp4/owQkHE2841/3qMEY65Yhv0NcjEheBponMMJnj1HI4v/gOQ/RVrlMj\n",
       "J+hbMymTI160bED8gVyJNNtrYA7QuVVvEa8ip/wU7OgTYBDtM6cYcMIqXkGzEGn7pCMOe/pvI/UH\n",
       "nih5jWc5i4QkvnBMecVXR6GML25vVbtE3Etrk9WAuURbv18sXtW8ciLDJafZu4lu+sYlSzYUN1uX\n",
       "WLVer8+HAxv8Wos5nClrprTZuNNtjNtdgTIXtnk6zmZ5jHTuvOAK0Baol+6UXPLnPnXvxqSf/N7z\n",
       "ZpJD9+NbbtbiFClx1+4RWu57rnaF7FpgvWjsxv8NaTTIShkq/ePiDQYOjcys1jfEAAAAAElFTkSu\n",
       "QmCC\n",
       "\" style=\"display:inline;vertical-align:middle;\" /></a><br>"
      ],
      "text/plain": [
       "<IPython.core.display.HTML object>"
      ]
     },
     "metadata": {},
     "output_type": "display_data"
    }
   ],
   "source": [
    "nonneg_if_in_rational_nonneg = Forall(\n",
    "    q,\n",
    "    greater_eq(q, zero),\n",
    "    domain=RationalNonNeg)"
   ]
  },
  {
   "cell_type": "code",
   "execution_count": 30,
   "metadata": {},
   "outputs": [
    {
     "data": {
      "text/html": [
       "<strong id=\"nonpos_if_in_rational_nonpos\"><a class=\"ProveItLink\" href=\"proofs/nonpos_if_in_rational_nonpos/thm_proof.ipynb\">nonpos_if_in_rational_nonpos</a> (conjecture without proof):<br></strong> <a class=\"ProveItLink\" href=\"../__pv_it/theorems/8e9636276283bcaee4d8b1961409a6df1721ee780/theorem_expr.ipynb\"><img src=\"data:image/png;base64,iVBORw0KGgoAAAANSUhEUgAAAIcAAAAXBAMAAADTr0F6AAAAMFBMVEX///+IiIgiIiIQEBB2dnbu\n",
       "7u5ERETMzMzc3NwyMjK6urpmZmaYmJiqqqpUVFQAAAB6qHgnAAAAAXRSTlMAQObYZgAAAAlwSFlz\n",
       "AAAOxAAADsQBlSsOGwAAAk5JREFUOMudVM9r03AU/2TNjzZLRgYeRKfMMlhRD2Xo9FhExgQH8cdF\n",
       "HFMP9jBQuj9A16roYTB6mXoR6l+gh8FYOzXTi9pD433QnpwTwSkeRBF8L2nSNEvJ9EGS95L3Pnnv\n",
       "8977AruTZM8vRexaDvT88pSuFisbcRh6LvL16f1FCBZQZeNxHMilMKgTkbKlDLAE3OaCr8aBrHWb\n",
       "2hGTH6+BCaBOaGSKdhxItssSRhwM3ASaJhImNCopFUtJOWhdPNRWfgPzNlKEMJZOH4sD6WdeF/ec\n",
       "K7Bx+Wj7rcQgFkTqzQpwPSpQCuj8MzWDr6zPPPFn5weBGNAozUUkWxEY2iZKH7xB6iPSLljYYn2g\n",
       "GyQHnQiTTbESTGDi5Seue4V751GRII9XwIhjLPjlEMgzA8o2kWb4vM59nMW9HM7aWJgknyyOB0DG\n",
       "kfy1k9imDZVbV1736KO/Y9LG9NvkYc52GKOdcqRv0LZDLc4DDRP6MKlTS4y+/h5D9FRu0SAL0D47\n",
       "mZxsR8kGpD+Qy6FhewOsksGjepd4lTLKT4kNbRoMAv0Lpehzwl28hkZngfRHboLSiXb/B6j7/c+V\n",
       "rGrBBRBETqmK0obXHYUynhlsVsJTsHyQYvsqPnNCS3uYz99Q3XLC4pDTiJ7EO55ypSgbipOtS2yt\n",
       "VqsGHet824pZzkRxvuAO7lwLU9YOR5kLc7fjfJpltHPm+UeAukazdJ9XQzq1uhmxA+R55nvkySQH\n",
       "zsd3PKz5WerEAyvCtdRzOfcG9GVfe1Hfh/8TcdzPShkq/GPwX0KJiNg2yswXAAAAAElFTkSuQmCC\n",
       "\" style=\"display:inline;vertical-align:middle;\" /></a><br>"
      ],
      "text/plain": [
       "<IPython.core.display.HTML object>"
      ]
     },
     "metadata": {},
     "output_type": "display_data"
    }
   ],
   "source": [
    "nonpos_if_in_rational_nonpos = Forall(\n",
    "    q,\n",
    "    LessEq(q, zero),\n",
    "    domain=RationalNonPos)"
   ]
  },
  {
   "cell_type": "code",
   "execution_count": 31,
   "metadata": {},
   "outputs": [
    {
     "data": {
      "text/html": [
       "<strong id=\"nonzero_rational_is_rational_nonzero\"><a class=\"ProveItLink\" href=\"proofs/nonzero_rational_is_rational_nonzero/thm_proof.ipynb\">nonzero_rational_is_rational_nonzero</a> (conjecture without proof):<br></strong> <a class=\"ProveItLink\" href=\"../__pv_it/theorems/7928e66d7d884461199b0097f195dcd48925c7ec0/theorem_expr.ipynb\"><img src=\"data:image/png;base64,iVBORw0KGgoAAAANSUhEUgAAAL8AAAAbCAMAAAAaua7MAAAAOVBMVEX///82NjYbGxsSEhKIiIgi\n",
       "IiIQEBB2dnbu7u5ERETMzMzc3NwyMjK6urpmZmaYmJiqqqpUVFQAAAAnLjGdAAAAAXRSTlMAQObY\n",
       "ZgAAAAlwSFlzAAAOxAAADsQBlSsOGwAAAwNJREFUWMPVWIuS2yAMpK0MiDf+/48tDxH8wnGTOJ1j\n",
       "5nLOjcHSarVaH2M/aEn2o5ew5VOA+E8BePvObh3LGcCYxXThvh5+eO+RUedPrtLHnC41fpu95q3t\n",
       "trBGz7kJeKBKfHOh/4dcBablCuLM5Wv8k348UyX+qRw15cvYy+tvDV/z6/dCzDTRU+ydCjW6Gj+H\n",
       "eldO7tFTRt8av7uuGsKLEq11tpFc0kXlzxzK3/K1agW4ux/my+KjBKNWwULyzJ/fv7Dwp/dvRjxn\n",
       "aWgqiHBr+LXwx2zBKa3e3SglgSoUZfJAmUHWT/rmMuSeaG/uhR+mka4YWGeWqKJIWkJgTtWUOrkE\n",
       "OPoGpaV4zn7iNw+1aPocAiFBtW9G7uljCdP022dahGOptKWmuwyfduIrFgVbe9kpkTfOY9WwUIPO\n",
       "qUBVRTPipGpzWcexErsYVw/BVyyKoQdI7lfV2IemxUPKE/6QTgyD1tdVEzL0YnOLgoho82GiCFq4\n",
       "FP/GoizXRFVzBfmp5acqe9PCxflL/p/wQtb4M7s2MDhH/BQ6Ry6911fi31iUI/w5duAWur6qr9Rb\n",
       "/Rnhr6iGzUtI4SG5RGijWKlQ4gAGx/HThoFF2ccv53yQn3tdDp1O1/9wqsmapJ9EQKbeSn/soHhZ\n",
       "MxnFTxuGFmVRGqT4c0DYUYUDaXFt/kZ7OlQtzRTN20BwmZEP+epxAxOH8dOGoUVZ6D/dhZDhX5xm\n",
       "DhAWzf+cO27fnhyJ7dwWV+RNgRMDs0/4QxuGFmWPlYwAYeklZES761HtZmPm1oRDIY/bftYFINXh\n",
       "Oe/ftmFsUdapNtzmDd9x5R8apE8Nvtk6Zq7rTOjDTBV0xcpb437D0KIc+s94xavEVPMYlD2Tz23d\n",
       "rPNFnzWqLjCTM1EN5lfbMLQoC7Ho/v+aVwkRDT976fFHM9eb/v5jiUJqfQgebBhZlCWg1BHCzNNH\n",
       "zNakr71muOAd2FH8tOE5JeSHHe5hewiO+6wUeDXCnzaEC28n4aMW9/X3rZffM9/7/8+WFaXD/gJ1\n",
       "GSEXuQUohgAAAABJRU5ErkJggg==\n",
       "\" style=\"display:inline;vertical-align:middle;\" /></a><br>"
      ],
      "text/plain": [
       "<IPython.core.display.HTML object>"
      ]
     },
     "metadata": {},
     "output_type": "display_data"
    }
   ],
   "source": [
    "nonzero_rational_is_rational_nonzero = Forall(\n",
    "    q,\n",
    "    InSet(q, RationalNonZero),\n",
    "    domain=Rational,\n",
    "    conditions=[NotEquals(q, zero)])"
   ]
  },
  {
   "cell_type": "code",
   "execution_count": 32,
   "metadata": {},
   "outputs": [
    {
     "data": {
      "text/html": [
       "<strong id=\"pos_rational_is_rational_pos\"><a class=\"ProveItLink\" href=\"proofs/pos_rational_is_rational_pos/thm_proof.ipynb\">pos_rational_is_rational_pos</a> (conjecture without proof):<br></strong> <a class=\"ProveItLink\" href=\"../__pv_it/theorems/285ca21571f5e10d410bf9e8552ee12e50bd102e0/theorem_expr.ipynb\"><img src=\"data:image/png;base64,iVBORw0KGgoAAAANSUhEUgAAALcAAAAZBAMAAACBVqIyAAAAMFBMVEX///+IiIgiIiIQEBB2dnbu\n",
       "7u5ERETMzMzc3NwyMjK6urpmZmaYmJiqqqpUVFQAAAB6qHgnAAAAAXRSTlMAQObYZgAAAAlwSFlz\n",
       "AAAOxAAADsQBlSsOGwAAAwdJREFUSMedlk1oE0EUgF+a/etmU1etPajkEDwUKlJFgghCwBwUIkRt\n",
       "xSLUKnTV6mGlRS/SLCheijUXwUOtEaQiFY2gVmyxKSKSamlP6iFoQLD24C+IUSj4ZvZvkq6pycBs\n",
       "3s7OfPPm/U0AamrTFb9msAeg1hbMVPzchV3qqhXeAcvCYapW+CnP0TZNe+zC6xIABSLkq2NLrV6j\n",
       "vg+6tCnqwH1IfkKEq9XBA1Gv0XgcYHQEApoW0fBo/E+A/hqMvyLtMShGUwCCotqawxBAPZqGm6sO\n",
       "nkywb03hMGJBaEc7cHrKgT8CULK4QZX+XMW+3F5j/h4QUeng3JgDX419Szi8tUr4AnkMNu7ViUmv\n",
       "WIN9MqopZ2cc+D08H27V7em1f8M17HIzfCVyvWEN3lDQuKKatzIUjYd7D4JUYIP15BdzulCOjDXa\n",
       "0jD2/VnzAI5JLwSp5mud+ZfR7UKCs5wvhrS0FANupgzeTp+KKttB1YJ9EmADkXvD2MgHwbT5Q2fZ\n",
       "YcQGVXvzcTwHdwn4V0Yp/CLNO78ORUbzCEh/qB/tWcJBJ1oszYlLUqQKtE1N+/BYcPYtgKq6cD6+\n",
       "Pg39n8jcBOxw4fx3UL7RLLdZshnnblQniY570N98s1ikOjzPlsL3GWTOwDwN7o3Wso+4YBEEqqRP\n",
       "tWETmKF3R1wfkWiB83icQEZsvUNGCFiNuvBx6CU/h3oIfLO1jETwEZg1i8A1G8aR2sLU4mfk0YC2\n",
       "8ad9hZymaXO3ysyyHULmTAPNssjo1LnyvRkHnT12vg78vj7GRNdTx7OGoPbR7UsdyhdRRWyvVdah\n",
       "foqdtd5uHg1bXpxXVAY+ZAt+I6kLCRqOwOWZUNwm/sJnLkuMKxdKquLCkuRqUENvnJpGqqLl6olJ\n",
       "kI7RJGoZ1hn46EuMiSYaArF19vlFWs89isa7E5GsLStMauboTYL77joHbBIpKTizpGh+xr77R7Ri\n",
       "AaozXPmBU1Py99MM3PNi6PiP6sbcoVzE2ej0C1bznce9bv/o8ldhxQtIqv1/Cz0xOugvuTC6JmTN\n",
       "5+kAAAAASUVORK5CYII=\n",
       "\" style=\"display:inline;vertical-align:middle;\" /></a><br>"
      ],
      "text/plain": [
       "<IPython.core.display.HTML object>"
      ]
     },
     "metadata": {},
     "output_type": "display_data"
    }
   ],
   "source": [
    "pos_rational_is_rational_pos = Forall(\n",
    "        q, InSet(q, RationalPos), condition=greater(q, zero),\n",
    "        domain=Rational)"
   ]
  },
  {
   "cell_type": "code",
   "execution_count": 33,
   "metadata": {},
   "outputs": [
    {
     "data": {
      "text/html": [
       "<strong id=\"neg_rational_is_rational_neg\"><a class=\"ProveItLink\" href=\"proofs/neg_rational_is_rational_neg/thm_proof.ipynb\">neg_rational_is_rational_neg</a> (conjecture without proof):<br></strong> <a class=\"ProveItLink\" href=\"../__pv_it/theorems/e6eda10c352c421a2ba97a488d2cea2343f3183b0/theorem_expr.ipynb\"><img src=\"data:image/png;base64,iVBORw0KGgoAAAANSUhEUgAAALcAAAAZBAMAAACBVqIyAAAAMFBMVEX///+IiIgiIiIQEBB2dnbu\n",
       "7u5ERETMzMzc3NwyMjK6urpmZmaYmJiqqqpUVFQAAAB6qHgnAAAAAXRSTlMAQObYZgAAAAlwSFlz\n",
       "AAAOxAAADsQBlSsOGwAAAt5JREFUSMetVk1oE0EUfmn2r5ukrlo9KPQQPBQqUkVyE/YQRKHCilX0\n",
       "Un/QaK2HlRa8iAnoTWx6ETxojSAVUbRCtaKlTRGVFEtzUg9BA4LSg78gVKHge7O7s5N2sW7qwGRn\n",
       "vn37zfufANQ1ppaUiEG9IzG8pIh2qF7yA/8gM1kv+alAtDOTeezvGiyAKi0q4bi19iA08sHWNpn+\n",
       "Fpmf0OJKOPKYGYR2dADcGQI1g+MEgPwT4Fwdzl9RCABVcwBAiRscuArQiK6RyuHIs5a4W5tMIi0o\n",
       "e9EPkj3A8UcA8SIeEDKeq8TN7TXOc5+KSifKo/zFapxbksmtIcln6ae/ebdNLr3sgn06qqkXp7nU\n",
       "fbQPjzoWssQyOPVW+ErrxpwL3oijc1XDT7wsnt0PWlVM1p4vjriykDLd7K0Gce4pOgZwl15IMM3X\n",
       "cfk8hl2xJDf4akumoKVBmg4glyFu6F5SteGcANhA694kDnqhOD5/yD85iLQJwzv8KdohXQL5VW4R\n",
       "uTZuRW2YEzRPgfabxdETUfYvyJY8hWSAukDn5FQEzYIzbwEMwydHnGxCV+Ut2OaTy98h/o1Vucel\n",
       "O3nuZ3WWdNyF8ZZb1Tmmw/NiDTnh+F1PjiX3Rvezj/hiHhSmZIRXzRhW6L0hqMkWOI/mxIbV9ruE\n",
       "ELFhcnLCQT9qOZWzWcjgwzDjNIFrHplEvUXoxc/opwl9Ey1EqiXsCeVbtW4hHHqZqeiWeUGnrpXv\n",
       "nTzoOunV68Vf10eFOI3zyOYUo48dXxtQwkHeTuxCQKOMdsbd3TySdKP4SegsrLe44rmsrVgsHUGq\n",
       "+KlIOLWPIjlXr9Z0xdlFxdVktLzhPY26ohvqsQnQjrP0aBu0fXLCabxA9vR6z36V9fOApvGuO1X0\n",
       "1nGhNEvsJsFzd5wFsYhKzuN1TiT5jHPnD/OvDahB+GKE95TKg4JAPvIf7lApxQ86/VLQXMDF299c\n",
       "5u2vLfN/CwboDxwntecWIVQ8AAAAAElFTkSuQmCC\n",
       "\" style=\"display:inline;vertical-align:middle;\" /></a><br>"
      ],
      "text/plain": [
       "<IPython.core.display.HTML object>"
      ]
     },
     "metadata": {},
     "output_type": "display_data"
    }
   ],
   "source": [
    "neg_rational_is_rational_neg = Forall(\n",
    "        q,\n",
    "        InSet(q, RationalNeg),\n",
    "        domain=Rational,\n",
    "        conditions=[Less(q, zero)])"
   ]
  },
  {
   "cell_type": "code",
   "execution_count": 34,
   "metadata": {},
   "outputs": [
    {
     "data": {
      "text/html": [
       "<strong id=\"nonneg_rational_is_rational_nonneg\"><a class=\"ProveItLink\" href=\"proofs/nonneg_rational_is_rational_nonneg/thm_proof.ipynb\">nonneg_rational_is_rational_nonneg</a> (conjecture without proof):<br></strong> <a class=\"ProveItLink\" href=\"../__pv_it/theorems/f408c1ed0c38e0a9bd39d61c4b9ea072a332b6e50/theorem_expr.ipynb\"><img src=\"data:image/png;base64,iVBORw0KGgoAAAANSUhEUgAAAMAAAAAaBAMAAAATV059AAAAMFBMVEX///+IiIgiIiIQEBB2dnbu\n",
       "7u5ERETMzMzc3NwyMjK6urpmZmaYmJiqqqpUVFQAAAB6qHgnAAAAAXRSTlMAQObYZgAAAAlwSFlz\n",
       "AAAOxAAADsQBlSsOGwAAAxtJREFUSMetVktoE1EUvdNkkvk1zMIPaBUJCl24qCIqRSFo/SxaCaKu\n",
       "SjMKDRoVJlS6EDSDlboQ2oIouhCDuBG76EJR66cTFFFLNQt3KqQgrShCFopBEbxvXmbmvXRaTfQu\n",
       "3rzPzD33e94A/HfpzzuPjkX/okTLz38m7iySN3TFgLGGAd4ueLrEBgiZUIHBRvWLIwufP9NhOAlb\n",
       "0Y0GASJ2cGzSRy06fWLlkrAWYA1Aiazf1QkwELi7chOc+eDM9mUAAdbhFsA42bhcJ8DtoM3wUxuU\n",
       "cQNn52eBhOgXQCoJp3FDMuoE+BG0eULGwSgADKF+mmSQbZCTiF2sT3/0G1cz8biT894eHHbJ0HOP\n",
       "rARdweirBmiYL7lOB4RVzOLm4mqKjSyO71VzP113LEfThTaA9fH4hjoBYsRiaXrHUvK46LqVGMVx\n",
       "VOOioaCvd9G5QDXzt2GE5Oy6FSvjQ7ZcXfoUjtlmroKj3zElIJW4Yn78kc6MeclFxg/ELdQRL7xS\n",
       "ghT7qJDvT6NUYSUsh0gy7BJLdiYDZxPQWeQBGHKh0oTOqWVoSuC8L47iHFRzkOR6DwGaddcIFaMF\n",
       "u4vQ/ZwHYMjF9yBkwDAx7ID3Uu8QrSJWJAwRjBRI7xVeQgsJ2ikLBMEHEDtb8gy5+AApHV473njK\n",
       "bjh9MMUXNLGpC+tAbI1WRKJR6wYOYK+Vs1hyoVWER6kiHKH17ipTSSd/4nuWVBEMkIYYi7YpJP9E\n",
       "uRD2AR5AH0cutA+wuiO69tVZXPW07UEu+lxzb7QRe0yMaF4oaZfS6eNKTYjaCV8x5OLZJU6voITR\n",
       "k3HTKk1c+WnyAKpboCkrokdJUdQkWazAQY5cqLQ71pWrsT8Ur14PMbNQ0zGy2xUhK2fSfsuWoMv2\n",
       "PdiMrcKSC8Omsbm3zrTw5SS3kXK9Ux5OAAwS/8Rt92eZRrs1WQaWXKg4eQkl5gA0z1w4xm288qcv\n",
       "nBspg9R6zmY7WQu6HWPYeeFrq//MWq1Bd8ijyWUMgJpo4E72isi/k8MbLa85WkwGYPthYMmlKm/+\n",
       "DmDhvwqrwf8iRu4A/AZl2dAb2jcQxwAAAABJRU5ErkJggg==\n",
       "\" style=\"display:inline;vertical-align:middle;\" /></a><br>"
      ],
      "text/plain": [
       "<IPython.core.display.HTML object>"
      ]
     },
     "metadata": {},
     "output_type": "display_data"
    }
   ],
   "source": [
    "nonneg_rational_is_rational_nonneg = Forall(\n",
    "        q,\n",
    "        InSet(q, RationalNonNeg),\n",
    "        domain=Rational,\n",
    "        conditions=[greater_eq(q, zero)])"
   ]
  },
  {
   "cell_type": "code",
   "execution_count": 35,
   "metadata": {},
   "outputs": [
    {
     "data": {
      "text/html": [
       "<strong id=\"nonpos_rational_is_rational_nonpos\"><a class=\"ProveItLink\" href=\"proofs/nonpos_rational_is_rational_nonpos/thm_proof.ipynb\">nonpos_rational_is_rational_nonpos</a> (conjecture without proof):<br></strong> <a class=\"ProveItLink\" href=\"../__pv_it/theorems/34835944e7848971bcc936ef76e01ffe830dcf5c0/theorem_expr.ipynb\"><img src=\"data:image/png;base64,iVBORw0KGgoAAAANSUhEUgAAAMAAAAAaBAMAAAATV059AAAAMFBMVEX///+IiIgiIiIQEBB2dnbu\n",
       "7u5ERETMzMzc3NwyMjK6urpmZmaYmJiqqqpUVFQAAAB6qHgnAAAAAXRSTlMAQObYZgAAAAlwSFlz\n",
       "AAAOxAAADsQBlSsOGwAAAxlJREFUSMe1VktoE1EUPdNkkvklzMIPaBUJCl24iCIqRSFo/SxaGURc\n",
       "lWYUG7QqJERcCNrBSt21BVF0IQZxI3bRhSLWT1MQUUs1C3GjQgpSxaJ0oVgUwftmMr80jU7Eu3iZ\n",
       "eS+5537OPS/Af7HXBtoW/YsDpVDfvwpFlXSMNAzwpu7pkyIQymIO/Y3654fqnS4p0TKoYSul0SBA\n",
       "pFgTdmfmqAHkmX/0algLrAHK7O1tQIC+mrsrN+HseyB2SLMA1tEWMMqOLgcEuF1rM/y4CGlUBySG\n",
       "QCX6BaQ1nKEjQQ8I8KPW5gmRFn2cluiMYTUZYhEioYVLwfxHv/l6mkiYPe/uomUXQ4HwReNUiaov\n",
       "61CoX2LABLhVnpebiyst1nO0vpOzJgLQtpxC55LA+kRiQ0CAOItYmNqxlH1ctNNKDdM6rPiqIVGu\n",
       "dym5mm4WHsMI69l1Iz5LH6Jh+1Inac3FfAyOfgcGIJR9ZH700XrSFxQXkX7Ab7ESccorpBjZh7nC\n",
       "yQxZBVYgOkS0sC0suekenEuhvTQPwBYXy5ooOXkWTSl6zifIzINKDzTf7BFATLWDkKla2F1C59Nq\n",
       "AEdc3AxCOgZZYPudL3UPOCxyTKASYYhRd9/4czSzop02wHEuAN/eXPCIiwuQVvHSzMZxdsOcg0k/\n",
       "oVlMHcQDviU6xzOPSid8AHuNXsMrLhaL6ChdwhGTso6eyWySP/lnlrEIfWwgRqJJifWfOefCLsB9\n",
       "5H3iYs0BsTuiKl/Nl6uOtz2kRTNV90aSxUOjESpwZeVSJnNcqipRK9Mrj7g4cfFTKyzB6Oqx2yqM\n",
       "XfmZ9QPINkHTRkSNMlJUNZmfwwGfuFjWakY3W6n9wUTleohnx6smRrSnImT0Zq15y5XRUXQz2MxG\n",
       "xSMuHjWNz791prjPp3wbaTs76cEY0M/y47fd++AZtFsTVpy2uFiWN4NKzQOITV845tt44T4+M2+k\n",
       "HpLW80XvJCu1bsc48Sp8bfWfVaul1h3ycGKZB0BOBb6TPSRy7+TwRsMZjuasB2D7YXjFpWKv/g6g\n",
       "/r8Ko/H/RbbdAX4DHTTQDykDI1sAAAAASUVORK5CYII=\n",
       "\" style=\"display:inline;vertical-align:middle;\" /></a><br>"
      ],
      "text/plain": [
       "<IPython.core.display.HTML object>"
      ]
     },
     "metadata": {},
     "output_type": "display_data"
    }
   ],
   "source": [
    "nonpos_rational_is_rational_nonpos = Forall(\n",
    "        q,\n",
    "        InSet(q, RationalNonPos),\n",
    "        domain=Rational,\n",
    "        conditions=[LessEq(q, zero)])"
   ]
  },
  {
   "cell_type": "code",
   "execution_count": 36,
   "metadata": {},
   "outputs": [
    {
     "data": {
      "text/html": [
       "<strong id=\"nat_ratio\"><a class=\"ProveItLink\" href=\"proofs/nat_ratio/thm_proof.ipynb\">nat_ratio</a> (conjecture without proof):<br></strong> <a class=\"ProveItLink\" href=\"../__pv_it/theorems/07d0c2b9f699043f03ff80f9f266ed96347b5ee40/theorem_expr.ipynb\"><img src=\"data:image/png;base64,iVBORw0KGgoAAAANSUhEUgAAAQoAAAAmBAMAAADO/MgDAAAAMFBMVEX///+IiIgiIiIQEBB2dnbu\n",
       "7u5ERETMzMzc3NwyMjK6urpmZmaYmJiqqqpUVFQAAAB6qHgnAAAAAXRSTlMAQObYZgAAAAlwSFlz\n",
       "AAAOxAAADsQBlSsOGwAABDJJREFUWMO9mF2IE1cUx0/MTCbJzMRRQQV1lahgCYJKt32wK0GM38Ko\n",
       "i9AWzb44pX4Ri1DE2h1X0QfRzcuKoOjgB/qwSkTF1vixSxFdaWt82iJLzYIKgkiEiiIu23vuTWSy\n",
       "uTNJFjP3IXNz58zMjzPn/M+5A1DTUIeHe2BU47bLuW91/L07/LbGe6n50TGAzL8w+GyyBiDNZv+a\n",
       "G03Rx18+awbQAX97QyHxHyB+A/IMcgzkPKEIxfnvqQBj8IzY7AnFU5277G+DpIWTO55QzOIvJzV4\n",
       "RCedpgcUkkMOJnPwUkWAQNwDikgbfz2gqTEZJ8o8DyjGOkidOLjs6CSqG0OMgt5+oAYKORqNzrTq\n",
       "o2g3q1nEGMVNPByv0Re+XH0Uj6pa/M4ofkW/tDWI4mVVi+mMIkQyWsg1iGJRdUFJUQqFBFAIGkTx\n",
       "X/XIybEcWRCNftkoio80DwYTkxwtkj2M4gbA5s9JYascLA/PmJEC1o4oHSNSfqzGKI5CsEIMvk/g\n",
       "PaZNtlOomKk1UGRs0jnE6mck7awocUYR0AW7CrRufU2S/MBvJFr0kJsvOq5ZCkbf7mKCBWMr4Y98\n",
       "GUX4g61+2scwjgKlyDAKVSs9TGoyrOASEP4i87U3YT34dQcKtFTzCbiOKo2P2PliC/wr6LJe6QtS\n",
       "Pzudxa5EAene4kqWZI1wBMQ/UfE6rA4Yk3KgQEu1V6Yx4Cdz+QYKsJYRYFU2lrXKKEr10z0uYE0X\n",
       "vojehz4M15//AdDImT0J9IVZSdHauxyopbr3ooYU7eOew1Q82f9kn1AeF8GPrH7+WKXSIMV+8gRx\n",
       "jvR+A67e66EUl6mKcOICDYFaqqnEE6QYr08RaWj0CxvPlVOIb2j9VFxko7OoFxBBl2aked24in7Q\n",
       "4ptyNEceVFYzNIRuRiH78OnboC9MS2c/ZCaWU8BCWj+nfXBRLctW2f2WL99nGEbuQvGNOFV2NARq\n",
       "qabEOGbg13BHOWYY2wlFa6hcL+AY/VUKFffbsMDeEpYokmZA24UTFp2Hs9msxaUghvf0XcwXcAlx\n",
       "C9AixZkvwo9HPOwq63U4cnGieFxs73L8ZnsqoNMcBGHApcshht06tVQs8OXFOMxW2pj4PgRoGlnZ\n",
       "aar7OY34UPG4w04RvnUXgj9Q1YqdSrlQhG89Xs0sfyJNSV5qgT3jAA6SS6QvTIhU9pfEvacre+Dw\n",
       "W3ulabZvoloNg7yG5b9U7/iYJT3BkmGpsYXbX2YcglKYUaR5X05x7dOOZeCKVXvfed61prDmlrdb\n",
       "GmyiAiikyyiErz4p1M77dXS/7jt50SlHk10i9YI/58WuaIXznm0+Hid4sjfzpxybXiqoLZ5QKGmn\n",
       "nWMYc9WX9ub7xUn+8hDImKv7TW8o1vH3Re9gPYlrcW6dX1FG+10r2MVdfgVbUU566vuuNfpxiLu6\n",
       "aRUCfFf6+z+NID5pKkudLgAAAABJRU5ErkJggg==\n",
       "\" style=\"display:inline;vertical-align:middle;\" /></a><br>"
      ],
      "text/plain": [
       "<IPython.core.display.HTML object>"
      ]
     },
     "metadata": {},
     "output_type": "display_data"
    }
   ],
   "source": [
    "nat_ratio = Forall(\n",
    "        q,\n",
    "        Exists([a,b],\n",
    "               Equals(q, frac(a,b)),\n",
    "               domains=[Natural, NaturalPos]),\n",
    "        domain=RationalNonNeg)"
   ]
  },
  {
   "cell_type": "code",
   "execution_count": 37,
   "metadata": {},
   "outputs": [
    {
     "data": {
      "text/html": [
       "<strong id=\"reduced_nat_pos_ratio\"><a class=\"ProveItLink\" href=\"proofs/reduced_nat_pos_ratio/thm_proof.ipynb\">reduced_nat_pos_ratio</a> (conjecture without proof):<br></strong> <a class=\"ProveItLink\" href=\"../__pv_it/theorems/33bb42a4ad4d27516899d60f2905e930d889fc920/theorem_expr.ipynb\"><img src=\"data:image/png;base64,iVBORw0KGgoAAAANSUhEUgAAAaIAAAAmBAMAAAB0c4ImAAAAMFBMVEX///+IiIgiIiIQEBB2dnbu\n",
       "7u5ERETMzMzc3NwyMjK6urpmZmaYmJiqqqpUVFQAAAB6qHgnAAAAAXRSTlMAQObYZgAAAAlwSFlz\n",
       "AAAOxAAADsQBlSsOGwAABpBJREFUWMO1WXtoHEUc/iV3e7u5VzYabEWt4bCQEiJR7INo5CxirTay\n",
       "1liIYC+intKHXltBRWm2LSgFTQ/UUlDKiRb/UOxZi6VNTK6UUlJtexYlPoK90looqE3F0DQmxJn5\n",
       "7V72MXt3gZuB7E6+nZ2db36P+WYOoGyJzMzkoPLyLbuG8t4tpA+g+qVbo9ehmfEK2kYKc+k5hK0H\n",
       "+U/7HthGrpu16jOSF+J9cdUZDbNrOM19GFwGLxM24YIAI50WxEjGHrfwrfBEDg7Q+0YBjAJ5MYzq\n",
       "4uz2Pv/pEMAdjJkAt5MWi2F0jo014hGfS0CatARbdcugGEbMBFAb50/jVQiP0YoyIYDRLl0EIxmN\n",
       "08v3Kmkaoumfae05EYEUF8Eo2sNulzwePwNns1laOeZ6pPPa65U0MuFwmwhG9bgWT3k8Xtv42vkU\n",
       "8xDnAlzDW5Fd4Mf8bhFWppERG+5oOUYHYrFYewWMetl0yWXDpDbrAH50eO97WQcoPdtEKOa4K6sB\n",
       "tyCjI/S2pxIb3VYBozNo/7GyysJcgTuN8TpX5Pq8E6yjHF36ae3h8SJ8GBltpfbqqRajyxhN6XLt\n",
       "agzO0iKDoXPy92tOkHKE79w9jRfh25FRHXnVn68Wo/vZ1Vc28iLXjPGczuAbzgbLXSDlCD6Nywjh\n",
       "cynGKEwmog6qxehfnM542Sw/bcSTjO7xi7PBhy5wOXO9HJcRwr15zHV3x2L3VI3RlCXj9TU+nvKU\n",
       "LFNmQsAQPsj+aXiH+EvDCVAuzps2QOXifBWb7m34izwtcBkhnMgho0MAz7s/GZ8Do9m2mEAxNweb\n",
       "4Qr9h6bJWOxOxztX8bYHfmP3j+iw0soSUFrhG/hED4wboFElc3BdS+iGprd2yRghXK8ioz5QOG6f\n",
       "tTM6S3ro8GKUdToTMz/R2ZfLuadcgFoWAq0oCa9S/XSXdB/mQgLSahMYUtGnQqSNayOEmbMTRgHN\n",
       "n7G06Fr/t+5mZLPR60ZqVFoegWMFa9vgJAZxxqKzrelqhhZW/Q+TYgpqmFO1s6xC1rEhmuPGUBi2\n",
       "z1ZZvicjlse4jBCuzyKjiGomBnlBMqM8CP5TZRhF6Tc2XVoHv/u1kOZlI+JBk942QkbdxApNBiPy\n",
       "bk0beYtkrh5IZBA0q0z87s9DkG8jhE1GkD5qPOwngex/F6Tv9Uf7W/oznox8pF3oEJUaatYP1rYW\n",
       "RkWdXSqOOs1zCeJg4QkIFCSKJ1RcqVtnq2w5IvaLNHHjCGEzjqCTrrhdR08yLfEqkcaq6mEjaVUj\n",
       "9cjehj/gVoqM/LrNb7OngilsV47p7EC6XFKkA9mJEpbyJ8mK4MFEHi5HdAZiVaLDTZGYgnAP10YI\n",
       "1xu5DnaQEUvN8sQaih7PlWC0Wme67QbtFol1MeJ/+lMbIwmnPqGyQZ7xXpYwKYZpuwBN8Y+Rdyfg\n",
       "ikYSHawIqJGWEIJYTZCpieYC5DshV5d+qiER3mWsRzQ8IZSV276gKGWjxl2MUKn2wxYKbIDhIFtx\n",
       "RiB7kz3m7kW3pMjahnMZ7xWWhViU5jmZ0tpM/r5sPEAGuOqoJp1f0TcPQazWEjUqXRyg0eTsMnrh\n",
       "+p8m3Jux7CZ8mZrCcDKZzH9meF2ct5tohwX0thQGw7uTyY2EUVedfe3ajaKyxyJbwSmgedv22pQp\n",
       "FFwgLT+Zle38Cdo+eyJgMkroAfUVZkSWGfj7I+IXG54k9zHokONoo+AP9q6/xkzbZpGt4BLQ9DNN\n",
       "djycha2afM0FOtfwAT6jgVmdVLSR3psKMB9YAP5Rrx3fMnnyuBSHhSQQmcw4CWg0y26CrZdhtABH\n",
       "XNUbmjjgXNRfhAtat+oCjak0H3hsEgz4JSuj4MAQKC+wFbZlb8qL0eenGnNyB7zRAPAWaSQv0iFq\n",
       "b5vIG+cJpKz8x50Z9mu2ve5sWUPC6Ai4QCOfFY8S+NtyA56y78qHCZlkksTWw2+W3pVHcNoeSq7j\n",
       "9Y2Ost4rIyw3mTmHpqi8uXeC8/m9IhycsDM6WNxejn6VKcVoXyntjacXnIMRsAhoaj8BZ0H+tI2R\n",
       "f0lx1jadKGmjXMmDTRQ+CY+8jQKalA4BjHx5ISeQKy3TxemKCWigAq765UYxZ6o+TCtLPQ9MmOT3\n",
       "5QUw6hDDyPiZZdjjUIsJaICbBRCqSYthxDaevPMAi4AGZZkARjt0QYxWs46lZj4jJqBhtQCnk1qh\n",
       "ckZz+h1WwdPAndyzfBTQROoKOMdnY6zsd9g5lreRGPcYCAW0lBHA6Cmz8j/KzeVs7To5QQAAAABJ\n",
       "RU5ErkJggg==\n",
       "\" style=\"display:inline;vertical-align:middle;\" /></a><br>"
      ],
      "text/plain": [
       "<IPython.core.display.HTML object>"
      ]
     },
     "metadata": {},
     "output_type": "display_data"
    }
   ],
   "source": [
    "reduced_nat_pos_ratio = Forall(\n",
    "        q,\n",
    "        Exists([a,b],\n",
    "               And(Equals(q, frac(a,b)), Equals(GCD(a, b), one)),\n",
    "               domains=[NaturalPos, NaturalPos]),\n",
    "        domain=RationalPos)"
   ]
  },
  {
   "cell_type": "code",
   "execution_count": 38,
   "metadata": {},
   "outputs": [
    {
     "data": {
      "text/html": [
       "<strong id=\"ratio_of_pos_int_is_rational_pos\"><a class=\"ProveItLink\" href=\"proofs/ratio_of_pos_int_is_rational_pos/thm_proof.ipynb\">ratio_of_pos_int_is_rational_pos</a> (conjecture without proof):<br></strong> <a class=\"ProveItLink\" href=\"../__pv_it/theorems/5100b2b5f207a197062da2ee0ee73ff6b409c1450/theorem_expr.ipynb\"><img src=\"data:image/png;base64,iVBORw0KGgoAAAANSUhEUgAAAKoAAAAmBAMAAACmKh0SAAAAMFBMVEX///+IiIgiIiIQEBB2dnbu\n",
       "7u5ERETMzMzc3NwyMjK6urpmZmaYmJiqqqpUVFQAAAB6qHgnAAAAAXRSTlMAQObYZgAAAAlwSFlz\n",
       "AAAOxAAADsQBlSsOGwAAA1NJREFUSMeVV11o01AUPlmb5a9x8Ul9KVJUJr7MIcwHlb5sU/yhuLHH\n",
       "NaiLD5vQuT0JujKffNkqOlF8KajgQ2VV/MFNNMUf2MMwvopiB6PgH2zgmDiL3nvTpEm2JL0XcpLm\n",
       "nnycn++ccwvQ+JKMBpTYKaBbL9HFL25VgrXOp6hAYzkk7mSbV0LUylSoI8gI9gBI20P0zlGhXseh\n",
       "XYKmZIheD00IZOx5RIV0PiypNCEgNqYVeB+ARyT/mwJ1DDuWNuCrnPVTaTZvZyhQK+Q7Rd4jQQjq\n",
       "awrUv4TjC90TW9YRv0sbzDpQJw0gof0UDsr5RyveAeOLDtSmIszg+80GamDJbyf6RgdxRoWn2mlN\n",
       "03HScnAJZ00NR92U89sZFZBQS3VbmSUQUGqjDbSNyDoWMqcSu/F9oB+JbqGOKq9CDNksNJCsFm9J\n",
       "iVfNGmLVYSQ/SxkblasCtCcS+xpB1T0vrtQKk0sWkCzEDBuVRXR5hnzwTUT9cdIbJSvDojKP5LCs\n",
       "W7UFsAwwAXw5uATN0vKiWtnjk5iXBcbRHn4hs1NR+wV3o/Yw/jgfO+RCnSZK//AiHONQ5BK78FMt\n",
       "ro5OtYYypjiShcnMxbW8XO6EJ4G2sjYbByYsDjhQIVeq/+5A1yzKplySIBmdfTQ74xsBu3nfJXyd\n",
       "d2yhuMJxPL96S4exmcvxFIOTLV+8ryRdtk56ObDZDj6urW+qp2VcRsliW0mdMzuZYh8hcqbzoxs1\n",
       "7R2Cgm38CdQHvjt2+CquReSxVOTacHHosVzBRJUY1YUaKXo7VeWehfLq1lrG2Yj+WN/kGUyvSEYq\n",
       "z2maZsgZNplz8VUwXexrrxdXl1mx2K7SullE/Ms2v0XUaIGIMWraCg/cLktt5v32RrxeYH5ecNSO\n",
       "lchIdqyQ6oWm1DvEX9z38sC4ayNWM6C64aSsXBtyjATrS/HFh2MwYnAPFeDP4gMIqkc3KmvCiSvU\n",
       "LcPMaq+mbTScB93eBaxp17gUA48H5owTFuKhzfiIO3SBuubpIj3Fho77gxQzNkqa1JcU7A1RZNpo\n",
       "zlm4R8Bz0ueCZ5FBgzqHxQ4QqyF626jOhIJO6CqFcIvfT4XKtiKxCj16sNpJqgCY8+9Hjbf+a4jy\n",
       "fwGPGlP/0RBTWUzA/zDD0I4MPratAAAAAElFTkSuQmCC\n",
       "\" style=\"display:inline;vertical-align:middle;\" /></a><br>"
      ],
      "text/plain": [
       "<IPython.core.display.HTML object>"
      ]
     },
     "metadata": {},
     "output_type": "display_data"
    }
   ],
   "source": [
    "ratio_of_pos_int_is_rational_pos = Forall(\n",
    "        [a,b],\n",
    "        InSet(frac(a,b), RationalPos),\n",
    "        domain=NaturalPos)"
   ]
  },
  {
   "cell_type": "markdown",
   "metadata": {},
   "source": [
    "***A set of in_bool theorems, which are accessed by the respective NumberSets to implement their ``deduce_membership_in_bool()`` methods, covering the ``RationalSet`` and ``RationalPosSet`` NumberSet classes (defined in proveit.numbers.number_sets.rational_numbers/rationals.py):***"
   ]
  },
  {
   "cell_type": "code",
   "execution_count": 39,
   "metadata": {},
   "outputs": [
    {
     "data": {
      "text/html": [
       "<strong id=\"rational_membership_is_bool\"><a class=\"ProveItLink\" href=\"proofs/rational_membership_is_bool/thm_proof.ipynb\">rational_membership_is_bool</a> (conjecture without proof):<br></strong> <a class=\"ProveItLink\" href=\"../__pv_it/theorems/427f74e2bc7ce4ca3dd7de1c95583e7a46069d400/theorem_expr.ipynb\"><img src=\"data:image/png;base64,iVBORw0KGgoAAAANSUhEUgAAAJsAAAAVBAMAAACj9YEXAAAAMFBMVEX///+IiIgiIiIQEBB2dnbu\n",
       "7u5ERETMzMzc3NwyMjK6urpmZmaYmJiqqqpUVFQAAAB6qHgnAAAAAXRSTlMAQObYZgAAAAlwSFlz\n",
       "AAAOxAAADsQBlSsOGwAAAp1JREFUOMt9VE1oE0EU/jbdbLKb3bARC1K1hAhKFSUW9eDFePHUlhxs\n",
       "UQRJBUPrKUjPuloRiiIRETwIpvhzESSK0io9xIuopRh/QESRglpBPHizvfnebnaZ2ew6MLOT9+V9\n",
       "73ce0L0c2mnErzjMiZQqbTo2R0KHq9V5wLBDClsm1wZ/AbN0X2bBFxH9QNsqRRr6VkvvImRTSK4Z\n",
       "9szxBpQW8Ix/3xCwZJ2Oo5HODQ0B9+8BejlM11KdCnAdOMPJqAhYhmxgIYotVSJLmmnDbHbRmW0K\n",
       "c9GzpLYFrIePohTjicKAqzVKKmqNOPeGAKYjcU8ZJjmji8qfOHV1QWBc7cQ2lqIaWO054KYMEF32\n",
       "MuVUJ67BQmGPSPeYAyYsmfsxNcyCGT9TUwb93WgtASOQAM3oXfedvip5T8ZOinRsmc1k0G8/kuo0\n",
       "a1JSUja1wStIgGYMHNhB3CYFdQXpZZFuJ+0E6b3Em/JvFgSBX7Bc7/qA95AAClZ5TWW1KOVaWW2I\n",
       "dPu5HCSp4alXT8pGYaur5eXuCXA2BFAWKndI8odwW6pEQAfs9vow6CLtiF/Z2yGA6TTynBui/pyO\n",
       "3PxGRw4WxipGWZAPSuz1HWHvIAEuHTllsWSYolacFb3TfOOM20ieyhbhPrVc4PgCvYoH9CrwAhLg\n",
       "0r2lUrC/0xSCifFUBxvxKm79PVY0XAt60OQqv9lmp5kEQDNK6vqm11/I1li06uuc5iznkXxof17y\n",
       "krdy18curd2a4+92CVCuVd2JgkRQ01TRn2IJZt8mFsc45L0lWj9NHk7pfBfgrvP+ZVqtZzpX930v\n",
       "xkzIrN3/seFNiYgVDI5M38Fe/z7B2XBi+L5O7mvhYsyUrkRJx6SeiloT0eJoH9KcnnP/YVNiXN8A\n",
       "/AOOpZswiSXeIQAAAABJRU5ErkJggg==\n",
       "\" style=\"display:inline;vertical-align:middle;\" /></a><br>"
      ],
      "text/plain": [
       "<IPython.core.display.HTML object>"
      ]
     },
     "metadata": {},
     "output_type": "display_data"
    }
   ],
   "source": [
    "rational_membership_is_bool = Forall(x, in_bool(InSet(x, Rational)))"
   ]
  },
  {
   "cell_type": "code",
   "execution_count": 40,
   "metadata": {},
   "outputs": [
    {
     "data": {
      "text/html": [
       "<strong id=\"rational_nonzero_membership_is_bool\"><a class=\"ProveItLink\" href=\"proofs/rational_nonzero_membership_is_bool/thm_proof.ipynb\">rational_nonzero_membership_is_bool</a> (conjecture without proof):<br></strong> <a class=\"ProveItLink\" href=\"../__pv_it/theorems/2921091b3c874af04d5a0892db641c146600402f0/theorem_expr.ipynb\"><img src=\"data:image/png;base64,iVBORw0KGgoAAAANSUhEUgAAALcAAAAbCAMAAAAJbu44AAAAOVBMVEX///82NjYbGxsSEhKIiIgi\n",
       "IiIQEBB2dnbu7u5ERETMzMzc3NwyMjK6urpmZmaYmJiqqqpUVFQAAAAnLjGdAAAAAXRSTlMAQObY\n",
       "ZgAAAAlwSFlzAAAOxAAADsQBlSsOGwAAAvZJREFUWMPVWIty4yAM5O7E+83/f2wFxjbGmNi5tDPV\n",
       "TJN1khVCSAuUkJ83QX6lcVteOfCfGM3bHrxpOhYvQIiVCNxT/jNCcD1416LOr0zhS0Ko5dN5PyEI\n",
       "04N3zZbq0CkXOQs1889W/gFB+h7cmy6XaE4vC5yx/Id/nqgSNy3O6Is+BcqkSYbRWCu0EOJeCtch\n",
       "adaDWwYxl4Omce9AWAZZ4maw/Opl1ogFoo2ogReC29rM6Ote4D24JRyelyits2tNigqWOkmhfJbE\n",
       "67jREddkYReCijfqPdke3DDFiVnHzTWZ6+TvH1nqZO/LnDB/K24f1uIoBFNny8N1BGtG1Cw1ICna\n",
       "3rdSiDoOV3UGW5IIZB2sT07OHe1xm4bg62zNrDN6MNAJA8c5YUmo2vkhEKeWqexFxMHVJ2BTR2vc\n",
       "UXveElieHWWTyo2mBwIgCsX3NdJGnMvE1pTgu8+/DGMFs+0qnh0tfSlgb++FcErFmSd74HJXA3H0\n",
       "uqlRAnydFua9iJW5KkO1P4zUAeOmhiXqREsoG6+eiZGJHfDo3OOk49ZR55A035QV8w3Y0OGiqXXb\n",
       "7eayL8HbuhaVkFPNZ0JBXQfydF07glqKDU02o7X1PVlO0cQ9clTjzm+8JeSym27fp3yTbdPodPmQ\n",
       "JaF7PbnKt5o62uOuAr4SzLbnAzgNTt+I22bxFVsW6fAksut3mAl9agak07jNgcBDLRzQJEpi+kGi\n",
       "PAIhLYlZi5r9eyAVbt0vo52e4Q56MnK0xV0FaSVotvYbfglEnfSbHUFISjiEtpmgGWSUr+eT+dnX\n",
       "H/R74GgpbLxouI4Q91CTniSkAuEwK8EdFl9EaU+9p10yJjn14iZw0LKTIzBMyvY82BFqP+Nop0+Z\n",
       "7cHwZC2P23PNyMvzcn8+GTqaEfCUys3oJvTeeXAJHHCHCsrOZPDhRflMcGA5gBiuwhE8uOFFiQs9\n",
       "OfL5+NDjA0IMPficUf19hM/dL//ruvicEHgPPmTfe5//4P9P+pYSbxG+AEDKIMueWItVAAAAAElF\n",
       "TkSuQmCC\n",
       "\" style=\"display:inline;vertical-align:middle;\" /></a><br>"
      ],
      "text/plain": [
       "<IPython.core.display.HTML object>"
      ]
     },
     "metadata": {},
     "output_type": "display_data"
    }
   ],
   "source": [
    "rational_nonzero_membership_is_bool = Forall(x, in_bool(InSet(x, RationalNonZero)))"
   ]
  },
  {
   "cell_type": "code",
   "execution_count": 41,
   "metadata": {},
   "outputs": [
    {
     "data": {
      "text/html": [
       "<strong id=\"rational_pos_membership_is_bool\"><a class=\"ProveItLink\" href=\"proofs/rational_pos_membership_is_bool/thm_proof.ipynb\">rational_pos_membership_is_bool</a> (conjecture without proof):<br></strong> <a class=\"ProveItLink\" href=\"../__pv_it/theorems/a488dbad866d078f4ea8b06f78e50f38bcd3c6a10/theorem_expr.ipynb\"><img src=\"data:image/png;base64,iVBORw0KGgoAAAANSUhEUgAAAK8AAAAZBAMAAAC1L2MuAAAAMFBMVEX///+IiIgiIiIQEBB2dnbu\n",
       "7u5ERETMzMzc3NwyMjK6urpmZmaYmJiqqqpUVFQAAAB6qHgnAAAAAXRSTlMAQObYZgAAAAlwSFlz\n",
       "AAAOxAAADsQBlSsOGwAAAwpJREFUSMedVk1oE0EUfpsm2U12N6aWCv5QyoKiCKWIVPCUglRBlPRS\n",
       "EaGNleagBVPUiwe7GBC8tJFQUKhapR4KkRa0VYpoij0JlR68qZhSCVrpRQgtevG93Z3ZTLIpsQMz\n",
       "k3lv5pv33vfmbQA82gfs2gRs1VQaZrZSejSdDnzeEheCNNypoVQS3vLz2AOZOoC1aA3tgrd4kA7m\n",
       "PVWBruQVkwPD/gr1zo7H2TaMoS8OUCDBF8GRdhzS3ne2HIPb313glkp94okytgYgIeo8re8LoY/h\n",
       "8NIT17+Yh/B8AuaSl5JJ9KkvXgmcg1N4Z6AEcKsq2DsoH/54Al8P0eEFbnEoXw28FMF5HHV4qX+5\n",
       "XDmMErkk7N9lGBaZA704nAxxYNWxSOo3DnFgUs8hs3hpSGSAdraWS6aaHeoSQzh+VVMMWGq3pvC9\n",
       "uGvxj0Wcm7AfMYyjAvBP7BEysLvl3AnyRRlzNHIsh2NOW2bAYduxu3GXvO42omgaJa/QQwE4SZ6S\n",
       "jzPSikqWh0xHE44u4Tik59njkjdA5D7xNPt7lsKJTo2AUhCAHxEWijRTK0WIHR4pJUZ5mZP4a1ds\n",
       "jjPl5O2bQmtHcUsw7hfLwmHsPnzVMqj2iWsGNosmJ8bc84AFLGM0jQMMOBjGWPQhpB4VueMWAzTY\n",
       "T7aHqwZGWFY4Fm/YnJZbHARcjqbIEcrLxtd7zSrgaTNAxvn4uUkrj5f4Wt60plYRGP0cJrAzSLpk\n",
       "FkMsmYuUFXhrz8Qq+K2k4rVGpZe35hroZEWjAKxH7ayANBEFF2WmbHIS9NuNF/DckjzkB89irfjl\n",
       "Rk2z85jbBIlJ6DyN83taRCgesMl3021kyoVG/Y19ovcyo0t59+Bvqqys2PkUKD6z17s7rlrVDd66\n",
       "0WpX2M8G0hwX+JzsN5yUiqTKay2rFeEu50mzNs5+pP0ZtY7qhm1FWr/JF1XVjaUhLzXqns5m13jK\n",
       "3VrAejE7yBcfa2zSCp7idXJ5GepoB2vIfea2v3mwnW+eTkH+VAfw/36l6/lfYbXZWv8rkNN/O3y3\n",
       "5/on2WAAAAAASUVORK5CYII=\n",
       "\" style=\"display:inline;vertical-align:middle;\" /></a><br>"
      ],
      "text/plain": [
       "<IPython.core.display.HTML object>"
      ]
     },
     "metadata": {},
     "output_type": "display_data"
    }
   ],
   "source": [
    "rational_pos_membership_is_bool = Forall(x, in_bool(InSet(x, RationalPos)))"
   ]
  },
  {
   "cell_type": "code",
   "execution_count": 42,
   "metadata": {},
   "outputs": [
    {
     "data": {
      "text/html": [
       "<strong id=\"rational_neg_membership_is_bool\"><a class=\"ProveItLink\" href=\"proofs/rational_neg_membership_is_bool/thm_proof.ipynb\">rational_neg_membership_is_bool</a> (conjecture without proof):<br></strong> <a class=\"ProveItLink\" href=\"../__pv_it/theorems/13a7efcdaa7796c95d3f6a15ec2fe6d4a7f58b310/theorem_expr.ipynb\"><img src=\"data:image/png;base64,iVBORw0KGgoAAAANSUhEUgAAAK8AAAAZBAMAAAC1L2MuAAAAMFBMVEX///+IiIgiIiIQEBB2dnbu\n",
       "7u5ERETMzMzc3NwyMjK6urpmZmaYmJiqqqpUVFQAAAB6qHgnAAAAAXRSTlMAQObYZgAAAAlwSFlz\n",
       "AAAOxAAADsQBlSsOGwAAAvlJREFUSMe9Vk1oE0EUfpsm2c1uNiaWCv5QyoKiCCWIVPCUglRBlPRS\n",
       "EaGNheagBVP8OXiwwYDgpY2EgkLVKvFQiLSgVSmiEXsSIj14UzFFCVrpRQgtevG9/ZndSXZpLjow\n",
       "Mzvv7Xzz3vvevF0Al/YOe3gGNm3zHnLFQ67Sho+b48IND7mUcpefxh7ItwAcjnoo3riLR7EHy66q\n",
       "QF/6fNZe7m5Qb+25X+jGGPqSAFUSfOIcieOQcz+z8xBc/+ZYNupTD6SpVQABURdpfZsLfQKHp664\n",
       "/qUyyIspuJLGhpYPJRuBS3AsiI7VAa41BXsL5cNvV+BLIdpsRzBUbgauRHCeRh0e6l92KsdRIta5\n",
       "97dpmk7myCAOR0O2c6ZFwrC2jwGT+hkyi4eGeAbozS6nZLbDpC41huNnJWMphLg+ybeStsXfl3Bu\n",
       "x35A0w5ywD+wR8jA/s5TR8gXacrUiIkSjqUwc1A2HLuZtMnr7yaK5lDyHD3kgNOUbeTjvLCikOUh\n",
       "K8HkaAXHMZVFVlwHnvvUw8KvBQonOjUBUpUDvkdYKApnw/UIYbBISQnKy5LAbrtkcJx3krdrFq2d\n",
       "xFeCST9fFvZj9+GtFkExdlzUsOk0mTFmngd0YBGjqe2xgIMyxmIIIdUozx2zGKDNuLIDTDUywWeF\n",
       "tG5w6rQ4CLicJH7zlJexFzuzTcBz2QAZ52P7inoeV9ha3NCnLh4Y/RwnsBNIupCthSyua5QVeOrA\n",
       "zFfw60nFao1CN2/VNtDMihgHrEaNrIAcEQVnRUvZbibol8tP4LEuucs2nsRa8dNR3ow8ZjZBqgi9\n",
       "x3F+S4uInu8b7G06jUw5E1NfGjsGz1l0Sa/v/Mk4yoqRT4HaI2O9veeCXt3glR2tuGQ9tpHmMMdn\n",
       "cVgzUyqScdZaq1bIfeaVttq09ZDz55UWqhu2FWHtKls0VTcrDVmpUXb0dtjGU+56Aau1wihbvPf6\n",
       "tFRdxWvk8nILnybY6yH3Zf/vN0+lIH/4B1/plv8rFrz+K5DTvxo9tyQ+mLd6AAAAAElFTkSuQmCC\n",
       "\" style=\"display:inline;vertical-align:middle;\" /></a><br>"
      ],
      "text/plain": [
       "<IPython.core.display.HTML object>"
      ]
     },
     "metadata": {},
     "output_type": "display_data"
    }
   ],
   "source": [
    "rational_neg_membership_is_bool = Forall(x, in_bool(InSet(x, RationalNeg)))"
   ]
  },
  {
   "cell_type": "code",
   "execution_count": 43,
   "metadata": {},
   "outputs": [
    {
     "data": {
      "text/html": [
       "<strong id=\"rational_nonneg_membership_is_bool\"><a class=\"ProveItLink\" href=\"proofs/rational_nonneg_membership_is_bool/thm_proof.ipynb\">rational_nonneg_membership_is_bool</a> (conjecture without proof):<br></strong> <a class=\"ProveItLink\" href=\"../__pv_it/theorems/055d21138ce8143587ec79d91db5deda9dc600550/theorem_expr.ipynb\"><img src=\"data:image/png;base64,iVBORw0KGgoAAAANSUhEUgAAALcAAAAaBAMAAAAHwtCcAAAAMFBMVEX///+IiIgiIiIQEBB2dnbu\n",
       "7u5ERETMzMzc3NwyMjK6urpmZmaYmJiqqqpUVFQAAAB6qHgnAAAAAXRSTlMAQObYZgAAAAlwSFlz\n",
       "AAAOxAAADsQBlSsOGwAAAyRJREFUSMedVl1IFFEUPrPt38y6y1gZlCEyUBSEbBEGQbCCWBDGBNVL\n",
       "oJOgD1vQiOJDD7kkBBHohggFRhb2ICxkkWU+1EYSvVg+9GbBBmVh9RKISxF07tyfnTu7E6sH9rv3\n",
       "nnvvmXPP+e65C7ARGZhwmtat699aM8HBT0Jti2SJrlkw7bMk5qNfEuAv2/IAm2wowlWfBVGrsltZ\n",
       "Dv+T1zqMmHAE3fdZ8LKiNpznUCkePecztPsqM2jCPoBdniWbm++MNmFMAyZAgSg+uGeHBJRLwyG4\n",
       "8tnpnUoDGt+PKu8a6250bAVAQctzZHzTPflYQJkE5/OgzZFoXv8KJCx/ATpNr/EcHAvjIVcBLpcF\n",
       "/7eAMulXyWaM5jDapgkFNV9ufCGB7TjO4YeDi665yCoHFzcMw0lwdwfCURU6ZslI0TU8eox5pnQZ\n",
       "e4Vx4sQTJCt+WHUbUho5CJmqY+m0ehE/xuzTdNxaj54pSaev3TBLnn+bx3YL/g4YxkG3pUSWQaj2\n",
       "S3+7Q9kxfqhUDjFX4z4oaPSQ18xSQk82pbB9gJqneFqJiRaDGDToj4hGzXA7+gJib1yKcmQNZE5Y\n",
       "90Z/zWA7aGNuIFpwL1YLDN7AO/OHoxG3LkU4m1MmBnpQ2CejNPdZd0J3TqHXI0j2sBmUykhgmoEN\n",
       "z6imz0Bx0sZiLpEv5BiPYHSN3dx4WMO4dKLZuC7ls+Q5kCtC5IyY6x6mbJGKyBrNtdvzMOBwxCYH\n",
       "IlWgdrY+4zWuFcGhRUDsm3R4viAZjxSdplE2jlEaJAbbkQxKZlllHEhYFELpRBJSlM+ijpIbuiLX\n",
       "O8aWWsl4XKdsgSH0sgbORTjPkxTia2eTGv3gbbHxBNaW757qT3muCn5ak9BynFQ2x1USGyhKniCE\n",
       "HupLLAAdaZ7C6Itbf2zPq0C5Flq+T8fbmy86VRGelyKXjPLuYQGlWHcZjGoJ21uneW3R2tj15zIu\n",
       "ymwwG6uiKqJ8Un5ekhRlVZFTVJSn2I6WOt7vE1BJ4sujFyTFW7+XuFBJm1jkUJXs8dEHMht/Q4WD\n",
       "63tD4b2AKmSdr38V/1tcMuP3vwXz/A/Eqc45p7sC4QAAAABJRU5ErkJggg==\n",
       "\" style=\"display:inline;vertical-align:middle;\" /></a><br>"
      ],
      "text/plain": [
       "<IPython.core.display.HTML object>"
      ]
     },
     "metadata": {},
     "output_type": "display_data"
    }
   ],
   "source": [
    "rational_nonneg_membership_is_bool = Forall(x, in_bool(InSet(x, RationalNonNeg)))"
   ]
  },
  {
   "cell_type": "code",
   "execution_count": 44,
   "metadata": {},
   "outputs": [
    {
     "data": {
      "text/html": [
       "<strong id=\"rational_nonpos_membership_is_bool\"><a class=\"ProveItLink\" href=\"proofs/rational_nonpos_membership_is_bool/thm_proof.ipynb\">rational_nonpos_membership_is_bool</a> (conjecture without proof):<br></strong> <a class=\"ProveItLink\" href=\"../__pv_it/theorems/5380098a9eb6d5ff67876865ce9bc0a0726096a10/theorem_expr.ipynb\"><img src=\"data:image/png;base64,iVBORw0KGgoAAAANSUhEUgAAALcAAAAaBAMAAAAHwtCcAAAAMFBMVEX///+IiIgiIiIQEBB2dnbu\n",
       "7u5ERETMzMzc3NwyMjK6urpmZmaYmJiqqqpUVFQAAAB6qHgnAAAAAXRSTlMAQObYZgAAAAlwSFlz\n",
       "AAAOxAAADsQBlSsOGwAAAyJJREFUSMedVl1IFFEUPmP7NzO7y1gZlCEyUBSEbBEGQbCCWBDG9FAv\n",
       "gU6SPljQitJDDzkkBL3ohggFRhb2ICxkkf34UBtJ9GL5EL1YsEFJaPUQiEsRdO7vzszuxNqB/e7O\n",
       "uXe+e+853z13AP7X3jvQunn9r8UnBPyL24C4odkwHdCvB/gXJQTbqzzAhgwU4UrAgJhd0R3OCgi2\n",
       "LQsIIxYcwuUHDHlR0RvJC6gwcVvPWQegn3DDoAV7AHb4hmxsvjXahDGtsQAKxPHB3TskodwaDsDl\n",
       "zwCJMxYj34su/xj7dmxsGUBB5lnyfN3d+VBCmYXm8qDNYjQ1wo5h+QPQafnJc3AkgptcBbhUFvxf\n",
       "EspsQCUvk2hGVxyWUFDz5eTzSWzHsQ8nDi24+qKrAlz5M02a4O4OhMMqVcMPSzE03LrOV6Z0mbsl\n",
       "ORnyCPWME6tuIqVRgLSpOp5Ouw/xo56h7ACt9bgyJUX7tGtWaeVf57DdhL99prnfzZTMcgjXfhlo\n",
       "pzRjYlPpHGIu7t4oaGyTV61SQo83pbG9h57HuFuPEm0OOjQYD4hHdQSPMY/Yl/BEOboGXk3Yd0Z/\n",
       "zhAx4QaHIVZwD1YLHF7DW+sb9chTlyaazSkTF3rQ+JQxlvusO6Hbp4iYUOwRK+QpIzXTHDLwlHn6\n",
       "TTSaNh5zj/jClDyK0TV3CvKIhnHpRNqE4clnaeVAjgixk7Kve1iqpVRE1liu3SuPAD6OkLxniW5r\n",
       "n9Q7fnKtCCfoXuR7k1Tn8x7yaJE2jV5yjNIgIWxHMSjOkso1kLQZhHuTKUhTccrapJMTuuytd1wt\n",
       "tR7yhMHUAkO4yjicjgqdpxgk1k6lNDbhTfniMawtK77qz3SuSn3ak9ByFNuXdKn0TBQ9K0EI3zcW\n",
       "eQA6ekUKY89v/M74bgWmtfDSXfa8tfk8rYrwrBS5VEz8PSihFOsuk0stmfHXaVFbtDZ+/IWNyzIb\n",
       "yupVVEW0T8r3ix5HWVUUEpXlSd/WUif+90uoZIml0XMex5ugm7hQyZtcEFCV7Qrw1zj/e4e6Fri+\n",
       "OxTeSajC1nn7V/fdImwm6LsF8/wXBKnOM5G2yUEAAAAASUVORK5CYII=\n",
       "\" style=\"display:inline;vertical-align:middle;\" /></a><br>"
      ],
      "text/plain": [
       "<IPython.core.display.HTML object>"
      ]
     },
     "metadata": {},
     "output_type": "display_data"
    }
   ],
   "source": [
    "rational_nonpos_membership_is_bool = Forall(x, in_bool(InSet(x, RationalNonPos)))"
   ]
  },
  {
   "cell_type": "code",
   "execution_count": 45,
   "metadata": {},
   "outputs": [
    {
     "name": "stdout",
     "output_type": "stream",
     "text": [
      "Adding theorem zero_is_nonneg_rational to proveit.numbers.number_sets.rational_numbers theory\n",
      "Adding theorem zero_is_nonpos_rational to proveit.numbers.number_sets.rational_numbers theory\n",
      "Adding theorem zero_set_within_rational to proveit.numbers.number_sets.rational_numbers theory\n",
      "Adding theorem zero_set_within_rational_nonneg to proveit.numbers.number_sets.rational_numbers theory\n",
      "Adding theorem zero_set_within_rational_nonpos to proveit.numbers.number_sets.rational_numbers theory\n",
      "zero_is_nonneg_rational expression notebook is being updated\n",
      "zero_is_nonpos_rational expression notebook is being updated\n",
      "zero_set_within_rational expression notebook is being updated\n",
      "zero_set_within_rational_nonneg expression notebook is being updated\n",
      "zero_set_within_rational_nonpos expression notebook is being updated\n",
      "These theorems may now be imported from the theory package: proveit.numbers.number_sets.rational_numbers\n"
     ]
    }
   ],
   "source": [
    "%end theorems"
   ]
  },
  {
   "cell_type": "code",
   "execution_count": null,
   "metadata": {},
   "outputs": [],
   "source": []
  }
 ],
 "metadata": {
  "kernelspec": {
   "display_name": "Python 3",
   "language": "python",
   "name": "python3"
  },
  "language_info": {
   "codemirror_mode": {
    "name": "ipython",
    "version": 3
   },
   "file_extension": ".py",
   "mimetype": "text/x-python",
   "name": "python",
   "nbconvert_exporter": "python",
   "pygments_lexer": "ipython3",
   "version": "3.7.3"
  }
 },
 "nbformat": 4,
 "nbformat_minor": 1
}
