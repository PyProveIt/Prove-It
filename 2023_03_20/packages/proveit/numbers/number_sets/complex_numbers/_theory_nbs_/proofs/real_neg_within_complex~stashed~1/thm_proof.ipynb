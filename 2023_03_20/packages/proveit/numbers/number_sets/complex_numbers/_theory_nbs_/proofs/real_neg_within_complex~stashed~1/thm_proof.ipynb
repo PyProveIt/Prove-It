{
 "cells": [
  {
   "cell_type": "markdown",
   "metadata": {},
   "source": [
    "Proof of <a class=\"ProveItLink\" href=\"../../../../../../_theory_nbs_/theory.ipynb\">proveit</a>.<a class=\"ProveItLink\" href=\"../../../../../_theory_nbs_/theory.ipynb\">numbers</a>.<a class=\"ProveItLink\" href=\"../../../../_theory_nbs_/theory.ipynb\">number_sets</a>.<a class=\"ProveItLink\" href=\"../../theory.ipynb\">complex_numbers</a>.<a class=\"ProveItLink\" href=\"../../theorems.ipynb#real_neg_within_complex\">real_neg_within_complex</a> theorem\n",
    "========"
   ]
  },
  {
   "cell_type": "code",
   "execution_count": 1,
   "metadata": {},
   "outputs": [],
   "source": [
    "import proveit\n",
    "theory = proveit.Theory() # the theorem's theory"
   ]
  },
  {
   "cell_type": "code",
   "execution_count": 2,
   "metadata": {},
   "outputs": [
    {
     "data": {
      "text/html": [
       "Under these <a href=\"presumptions.txt\">presumptions</a>, we begin our proof of<br><strong id=\"real_neg_within_complex\">real_neg_within_complex:</strong> <a class=\"ProveItLink\" href=\"../../../__pv_it/theorems/5440c584b7b2dc01212d6d9c37bed30c975837630/expr.ipynb\"><img src=\"data:image/png;base64,iVBORw0KGgoAAAANSUhEUgAAAEgAAAAQBAMAAABHHiTuAAAAMFBMVEX///+IiIiqqqpmZmbMzMx2\n",
       "dnbu7u66urpUVFTc3NwiIiJEREQQEBAyMjKYmJgAAAA9S0TaAAAAAXRSTlMAQObYZgAAAAlwSFlz\n",
       "AAAOxAAADsQBlSsOGwAAAPdJREFUKM9jeHt6/63TDxhwALbotRenBDAwbJjBUPE6AYciiXMMyb8N\n",
       "gIqmMnCzNDB47waCCWhqmMWBpryGKGKecAG7Qc7cQCs4YIo2oMhJr1q1agmI0cYNctcDsCKOtAZk\n",
       "Nb6RMNaGyTDGVAZvXWTHsK2EsTgbXGGK5tz6JYZsEEcBjMUSUAc36V0uiot44SxOg0K4Iu48lMD0\n",
       "QDCBToExWAy2ISuagWBu40aoNpmNrIgLwSwGhRNDAVhRNiOyfcwPkEIcGDbMF8BhwfdgO7JR15GC\n",
       "9fKEpMUMDMBUsJNh930FJEXZ7QmIVHB+8QTsUVa6CxotUAAA5oBQbmHzO1kAAAAASUVORK5CYII=\n",
       "\" style=\"display:inline;vertical-align:middle;\" /></a><br>(see <a class=\"ProveItLink\" href=\"../../../__pv_it/theorems/a7a1c95e7da0edeef58eeb7b005b603fb690ef410/dependencies.ipynb\">dependencies</a>)<br>"
      ],
      "text/plain": [
       "real_neg_within_complex: RealNeg proper_subset Complex"
      ]
     },
     "execution_count": 2,
     "metadata": {},
     "output_type": "execute_result"
    }
   ],
   "source": [
    "%proving real_neg_within_complex"
   ]
  },
  {
   "cell_type": "code",
   "execution_count": null,
   "metadata": {},
   "outputs": [],
   "source": []
  }
 ],
 "metadata": {
  "kernelspec": {
   "display_name": "Python 3",
   "language": "python",
   "name": "python3"
  }
 },
 "nbformat": 4,
 "nbformat_minor": 0
}