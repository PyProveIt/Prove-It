{
 "cells": [
  {
   "cell_type": "markdown",
   "metadata": {},
   "source": [
    "Proof of <a class=\"ProveItLink\" href=\"../../../../../../_theory_nbs_/theory.ipynb\">proveit</a>.<a class=\"ProveItLink\" href=\"../../../../../_theory_nbs_/theory.ipynb\">numbers</a>.<a class=\"ProveItLink\" href=\"../../../../_theory_nbs_/theory.ipynb\">number_sets</a>.<a class=\"ProveItLink\" href=\"../../theory.ipynb\">complex_numbers</a>.<a class=\"ProveItLink\" href=\"../../theorems.ipynb#nat_pos_within_complex\">nat_pos_within_complex</a> theorem\n",
    "========"
   ]
  },
  {
   "cell_type": "code",
   "execution_count": 1,
   "metadata": {},
   "outputs": [],
   "source": [
    "import proveit\n",
    "theory = proveit.Theory() # the theorem's theory"
   ]
  },
  {
   "cell_type": "code",
   "execution_count": 2,
   "metadata": {},
   "outputs": [
    {
     "data": {
      "text/html": [
       "Under these <a href=\"presumptions.txt\">presumptions</a>, we begin our proof of<br><strong id=\"nat_pos_within_complex\">nat_pos_within_complex:</strong> <a class=\"ProveItLink\" href=\"../../../__pv_it/theorems/be5eb5814aea40a2059056a64137f15e4baa79570/expr.ipynb\"><img src=\"data:image/png;base64,iVBORw0KGgoAAAANSUhEUgAAAEcAAAATBAMAAAAwgQ3NAAAAMFBMVEX///9mZmbMzMyIiIiYmJjc\n",
       "3NxUVFSqqqq6uroQEBB2dnYyMjJEREQiIiLu7u4AAAAPqInnAAAAAXRSTlMAQObYZgAAAAlwSFlz\n",
       "AAAOxAAADsQBlSsOGwAAAQ1JREFUKM9jYIADRgYiAA+Fit7+Of2AYeXPBuyKXp3dbaoFpI9zJDDw\n",
       "fcBuEnOmA5/8QSAjN2AJA8MEBpkzJ8+ccUBTJNzFwMACUpR+gDuA4QJWk5gEzgHJRCBOdWbdgKbI\n",
       "5u7du5eANNuDA0DyCUgRm4IVqiLtpTD/sgpAWakMB3gakBXxXYWpDmNaAFekyHfvAlKIszXAFGlx\n",
       "OMAVsRTUTEByLjecFchhAFfEkMeGrEgNEQesCOsYnvFdQFIUhlAE9h1UEZPBASRFvHAWBzicOID4\n",
       "EBAbIStiRIS7cBuQkAbi7SDxDcgBvQMRd6dF+WqBYaX9E2gKH4qiNxkP4Kng5F9RHMmn6ywkWmAA\n",
       "ADBTRpOYvBFzAAAAAElFTkSuQmCC\n",
       "\" style=\"display:inline;vertical-align:middle;\" /></a><br>(see <a class=\"ProveItLink\" href=\"../../../__pv_it/theorems/8cedc2ba46eb5253ae3794a91d43fe228aa569b40/dependencies.ipynb\">dependencies</a>)<br>"
      ],
      "text/plain": [
       "nat_pos_within_complex: NaturalPos proper_subset Complex"
      ]
     },
     "execution_count": 2,
     "metadata": {},
     "output_type": "execute_result"
    }
   ],
   "source": [
    "%proving nat_pos_within_complex"
   ]
  },
  {
   "cell_type": "code",
   "execution_count": null,
   "metadata": {},
   "outputs": [],
   "source": []
  }
 ],
 "metadata": {
  "kernelspec": {
   "display_name": "Python 3",
   "language": "python",
   "name": "python3"
  }
 },
 "nbformat": 4,
 "nbformat_minor": 0
}