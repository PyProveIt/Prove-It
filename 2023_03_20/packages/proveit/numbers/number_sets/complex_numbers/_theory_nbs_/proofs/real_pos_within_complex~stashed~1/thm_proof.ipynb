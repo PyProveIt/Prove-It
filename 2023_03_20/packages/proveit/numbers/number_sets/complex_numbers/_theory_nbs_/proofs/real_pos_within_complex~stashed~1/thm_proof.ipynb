{
 "cells": [
  {
   "cell_type": "markdown",
   "metadata": {},
   "source": [
    "Proof of <a class=\"ProveItLink\" href=\"../../../../../../_theory_nbs_/theory.ipynb\">proveit</a>.<a class=\"ProveItLink\" href=\"../../../../../_theory_nbs_/theory.ipynb\">numbers</a>.<a class=\"ProveItLink\" href=\"../../../../_theory_nbs_/theory.ipynb\">number_sets</a>.<a class=\"ProveItLink\" href=\"../../theory.ipynb\">complex_numbers</a>.<a class=\"ProveItLink\" href=\"../../theorems.ipynb#real_pos_within_complex\">real_pos_within_complex</a> theorem\n",
    "========"
   ]
  },
  {
   "cell_type": "code",
   "execution_count": 1,
   "metadata": {},
   "outputs": [],
   "source": [
    "import proveit\n",
    "theory = proveit.Theory() # the theorem's theory"
   ]
  },
  {
   "cell_type": "code",
   "execution_count": 2,
   "metadata": {},
   "outputs": [
    {
     "data": {
      "text/html": [
       "Under these <a href=\"presumptions.txt\">presumptions</a>, we begin our proof of<br><strong id=\"real_pos_within_complex\">real_pos_within_complex:</strong> <a class=\"ProveItLink\" href=\"../../../__pv_it/theorems/59e4d1ad0957b9787b1aa1e5b972590c319a62aa0/expr.ipynb\"><img src=\"data:image/png;base64,iVBORw0KGgoAAAANSUhEUgAAAEcAAAATBAMAAAAwgQ3NAAAAMFBMVEX///+IiIiqqqpmZmbMzMx2\n",
       "dnbu7u66urpUVFTc3NwiIiJEREQQEBAyMjKYmJgAAAA9S0TaAAAAAXRSTlMAQObYZgAAAAlwSFlz\n",
       "AAAOxAAADsQBlSsOGwAAAQBJREFUKM9jYIADZgYiADeFit6e3n/r9ANcilJ33ZV0BdIbZjBUvE7A\n",
       "roix5wGb/WaQoqkM3CwNDNa79+ze/QBNkWEpAwMfVBHzhAtYTWIx2AYkm2GKNqAokl61atUSIM2R\n",
       "ABLPgyjiSGtAVuQbCfMvpwGUBVTkrTsBSRHbSpjqGSwBMEVzbv0SQw5xjgKYIlf2B3CT3uWiOJcX\n",
       "zprMLgBXxJ2H4nUPRBxwwq2bCvEpHMxAKAL7Dupwk9nIirjgLHawbnaIomxGZPuYERzDCiBhC1I0\n",
       "mYHvwXZko64j4m6vJZuWATgV7GTYfV8BSVF2ewI8Fez5ZYkj+ZTugkQLDAAAwnlN4/ZiaNoAAAAA\n",
       "SUVORK5CYII=\n",
       "\" style=\"display:inline;vertical-align:middle;\" /></a><br>(see <a class=\"ProveItLink\" href=\"../../../__pv_it/theorems/3786480168c45377b7453087538e8da16fcdfe150/dependencies.ipynb\">dependencies</a>)<br>"
      ],
      "text/plain": [
       "real_pos_within_complex: RealPos proper_subset Complex"
      ]
     },
     "execution_count": 2,
     "metadata": {},
     "output_type": "execute_result"
    }
   ],
   "source": [
    "%proving real_pos_within_complex"
   ]
  },
  {
   "cell_type": "code",
   "execution_count": null,
   "metadata": {},
   "outputs": [],
   "source": []
  }
 ],
 "metadata": {
  "kernelspec": {
   "display_name": "Python 3",
   "language": "python",
   "name": "python3"
  }
 },
 "nbformat": 4,
 "nbformat_minor": 0
}