{
 "cells": [
  {
   "cell_type": "markdown",
   "metadata": {},
   "source": [
    "Theorems (or conjectures) for the theory of <a class=\"ProveItLink\" href=\"theory.ipynb\">proveit.numbers.number_sets.complex_numbers</a>\n",
    "========"
   ]
  },
  {
   "cell_type": "code",
   "execution_count": 1,
   "metadata": {},
   "outputs": [],
   "source": [
    "import proveit\n",
    "# Prepare this notebook for defining the theorems of a theory:\n",
    "%theorems_notebook # Keep this at the top following 'import proveit'.\n",
    "from proveit import r, x, theta\n",
    "from proveit.logic import Forall, in_bool, Equals, NotEquals, InSet, Set, ProperSubset\n",
    "from proveit.numbers import (\n",
    "    zero, two, e, i, pi, \n",
    "    ZeroSet, Natural, NaturalPos,\n",
    "    Integer, IntegerNonZero, IntegerNeg, IntegerNonPos,\n",
    "    Rational, RationalNonZero, RationalPos, RationalNeg, RationalNonNeg,\n",
    "    RationalNonPos,\n",
    "    Real, RealNonZero, RealNeg, RealPos, RealNonNeg, RealNonPos,\n",
    "    Complex, ComplexNonZero)\n",
    "from proveit.numbers import Add, Exp, frac, Mod, Mult, Neg"
   ]
  },
  {
   "cell_type": "code",
   "execution_count": 2,
   "metadata": {},
   "outputs": [
    {
     "name": "stdout",
     "output_type": "stream",
     "text": [
      "Defining theorems for theory 'proveit.numbers.number_sets.complex_numbers'\n",
      "Subsequent end-of-cell assignments will define theorems\n",
      "'%end theorems' will finalize the definitions\n"
     ]
    }
   ],
   "source": [
    "%begin theorems"
   ]
  },
  {
   "cell_type": "code",
   "execution_count": 3,
   "metadata": {},
   "outputs": [
    {
     "data": {
      "text/html": [
       "<strong id=\"zero_is_complex\"><a class=\"ProveItLink\" href=\"proofs/zero_is_complex/thm_proof.ipynb\">zero_is_complex</a> (conjecture without proof):<br></strong> <a class=\"ProveItLink\" href=\"../__pv_it/theorems/834bc20db7ef453cc0fd7390a189a445e2297b290/theorem_expr.ipynb\"><img src=\"data:image/png;base64,iVBORw0KGgoAAAANSUhEUgAAADMAAAAQBAMAAABJt1qBAAAAMFBMVEX///8AAAAAAAAAAAAAAAAA\n",
       "AAAAAAAAAAAAAAAAAAAAAAAAAAAAAAAAAAAAAAAAAAAv3aB7AAAAD3RSTlMAiXaZIs1UEN1mu6sy\n",
       "RO+L2jdBAAAACXBIWXMAAA7EAAAOxAGVKw4bAAAA50lEQVQY02NgwAIKV4SqHATSjEImaDJM+yaw\n",
       "2y8GMsIYKhxQpYwuMjBwAqU4GxgYF6DI8BgsB5KbGRi4NjCwfYeYs6KjFURzF4CUVjIw8Bsw8HwD\n",
       "ifAGFUB0cbEYQBj1QKmfIIYrVIbBm0cAwvAXYOD5BGKEwOw6yDsBIfURxAiASTnzKkANFGDgBeni\n",
       "edHR0dEFsQtqINAZbCBnsMN9wFUAZXItYOAEO74BJsUL9hcv0MsPGJjB1ighQuM2kDAF4jaGugMg\n",
       "AdYEeBguNWHPAPmtWGgPWIB913V4yK/7gRrkvFKQgIIBAHVzMRABAhG1AAAAAElFTkSuQmCC\n",
       "\" style=\"display:inline;vertical-align:middle;\" /></a><br>"
      ],
      "text/plain": [
       "<IPython.core.display.HTML object>"
      ]
     },
     "metadata": {},
     "output_type": "display_data"
    }
   ],
   "source": [
    "zero_is_complex = InSet(zero, Complex)"
   ]
  },
  {
   "cell_type": "code",
   "execution_count": 4,
   "metadata": {},
   "outputs": [
    {
     "data": {
      "text/html": [
       "<strong id=\"zero_set_within_complex\"><a class=\"ProveItLink\" href=\"proofs/zero_set_within_complex/thm_proof.ipynb\">zero_set_within_complex</a> (conjecture without proof):<br></strong> <a class=\"ProveItLink\" href=\"../__pv_it/theorems/2983812d5f2321890d1b847ed639144d291e48a80/theorem_expr.ipynb\"><img src=\"data:image/png;base64,iVBORw0KGgoAAAANSUhEUgAAAEkAAAAVBAMAAAD4Ed5jAAAAMFBMVEX///8AAAAAAAAAAAAAAAAA\n",
       "AAAAAAAAAAAAAAAAAAAAAAAAAAAAAAAAAAAAAAAAAAAv3aB7AAAAD3RSTlMAEER2zVSJ3Zki72ar\n",
       "MruaaVGaAAAACXBIWXMAAA7EAAAOxAGVKw4bAAABTklEQVQoz2NgYGBUYgCDqRMY8AATRQjNe04A\n",
       "U1LsuYvlNSDN+hFIpFkADeI7gKGI+dQGxv4XQAZbAQMDSwBjJYSFBprVGBi4Yaq2MzDkYVPF2/AQ\n",
       "SJ6AqnrDwBAvgFDF/Ly8vPwCkMEj8ABISkNV/WBguB8AV8XrBvMtH2cDlAWUYwSp2gBXJQ4Pkjm8\n",
       "CVAWhwMD5zegKgMG5gUQkUNwd11j2gBlzdoAUZXAwPkVIuIAVzWDyQBqqBMw9IGq9IF8GVewsxDB\n",
       "xscJtZG3TwDs+vgABoYUBZAIJ5IqsB/BLKDgOwaG/QKQWAACRLAxgcOLCRoSuxgYWoAsqOu7kcJe\n",
       "hwEsBVbFHsC4FhH2LAqIeHzSyRjeAFXF2GZzAaGK8Y0iIk28+t4JDVVE+EKdkweNIQTAogoLgIU4\n",
       "OBZwAliIMzBIbcCTomcchdDTjuJUAgBatlOULi63RQAAAABJRU5ErkJggg==\n",
       "\" style=\"display:inline;vertical-align:middle;\" /></a><br>"
      ],
      "text/plain": [
       "<IPython.core.display.HTML object>"
      ]
     },
     "metadata": {},
     "output_type": "display_data"
    }
   ],
   "source": [
    "zero_set_within_complex = ProperSubset(ZeroSet, Complex)"
   ]
  },
  {
   "cell_type": "code",
   "execution_count": 5,
   "metadata": {},
   "outputs": [
    {
     "data": {
      "text/html": [
       "<strong id=\"i_is_complex\"><a class=\"ProveItLink\" href=\"proofs/i_is_complex/thm_proof.ipynb\">i_is_complex</a> (conjecture without proof):<br></strong> <a class=\"ProveItLink\" href=\"../__pv_it/theorems/30766ccdfb8f1e65bfcba45d6ddc1bf4588202ae0/theorem_expr.ipynb\"><img src=\"data:image/png;base64,iVBORw0KGgoAAAANSUhEUgAAACwAAAAQBAMAAACfEoDkAAAAMFBMVEX///9mZmZ2dnZUVFQQEBDc\n",
       "3Nzu7u66uroyMjJERETMzMyIiIiqqqoiIiKYmJgAAABjQqwXAAAAAXRSTlMAQObYZgAAAAlwSFlz\n",
       "AAAOxAAADsQBlSsOGwAAAKZJREFUGNNjeHuAAQWwad7ojlJg2I8mvNmPIfGnAAMaYNyuwMDwEkN4\n",
       "IWcCAwMzXJh77t0bINqME2T+A4bzC0A89u4EiPSEQAgNEY6AirIaLEIWboWaxaVQhyzcABVmFahG\n",
       "EubyvXv37k2w2UFIwmwTYC6axolsyAWYcCHI3QwFUOHdCF8aAIkGqDAHPGR2NgbkXIQZwmZZBg9B\n",
       "/4sB8LBg14R4HgoAFq8z7YbpPx0AAAAASUVORK5CYII=\n",
       "\" style=\"display:inline;vertical-align:middle;\" /></a><br>"
      ],
      "text/plain": [
       "<IPython.core.display.HTML object>"
      ]
     },
     "metadata": {},
     "output_type": "display_data"
    }
   ],
   "source": [
    "i_is_complex = InSet(i, Complex)"
   ]
  },
  {
   "cell_type": "code",
   "execution_count": 6,
   "metadata": {},
   "outputs": [
    {
     "data": {
      "text/html": [
       "<strong id=\"i_is_complex_nonzero\"><a class=\"ProveItLink\" href=\"proofs/i_is_complex_nonzero/thm_proof.ipynb\">i_is_complex_nonzero</a> (conjecture without proof):<br></strong> <a class=\"ProveItLink\" href=\"../__pv_it/theorems/90d4532a5fe39395e21d6aa00434f190edd384a80/theorem_expr.ipynb\"><img src=\"data:image/png;base64,iVBORw0KGgoAAAANSUhEUgAAAEEAAAAVCAMAAAAuNnOWAAAAOVBMVEX///82NjYbGxsSEhJmZmZ2\n",
       "dnZUVFQQEBDc3Nzu7u66uroyMjJERETMzMyIiIiqqqoiIiKYmJgAAAA+xOWtAAAAAXRSTlMAQObY\n",
       "ZgAAAAlwSFlzAAAOxAAADsQBlSsOGwAAAQtJREFUOMulk4lyhCAMhrNt5AzheP+HXUBcobTK2MwY\n",
       "R0a+XH8AHpmGf9pmqt94ewhQovjIAIaeEYQqXrrsknoCMDV3lUozpIcY/E3TNgrWsnL5HlKx7/xE\n",
       "cJUQInC6JrCQMWMwER4nsb52guS7jJH3nCEeBN2at1dxEz8HQqA2e4F7FV8vqlX81UmmkM1+uq7h\n",
       "mJduyYvPr2Wa+csn13XZ8qg2AoVjCDp/yIpCPRKU1ZN03Cg7P3euJ9ifReXrJg4nFq4Jk3wRzBDU\n",
       "m0uCk6EZdX24XZ6OoOc1oXMWKwQI8wqcegCzQGD+TZNNAGgXCGBnjTJZVKB9wJUqQAsyet5NmQKq\n",
       "9d2nXtUL9gY/UgtzNLn5ewAAAABJRU5ErkJggg==\n",
       "\" style=\"display:inline;vertical-align:middle;\" /></a><br>"
      ],
      "text/plain": [
       "<IPython.core.display.HTML object>"
      ]
     },
     "metadata": {},
     "output_type": "display_data"
    }
   ],
   "source": [
    "i_is_complex_nonzero = InSet(i, ComplexNonZero)"
   ]
  },
  {
   "cell_type": "code",
   "execution_count": 7,
   "metadata": {},
   "outputs": [
    {
     "data": {
      "text/html": [
       "<strong id=\"nat_within_complex\"><a class=\"ProveItLink\" href=\"proofs/nat_within_complex/thm_proof.ipynb\">nat_within_complex</a> (conjecture without proof):<br></strong> <a class=\"ProveItLink\" href=\"../__pv_it/theorems/b120253b3852a92a8403ee5891b928567845639a0/theorem_expr.ipynb\"><img src=\"data:image/png;base64,iVBORw0KGgoAAAANSUhEUgAAADoAAAAQBAMAAAC1onFLAAAAMFBMVEX///9mZmbMzMyIiIiYmJjc\n",
       "3NxUVFSqqqq6uroQEBB2dnYyMjJEREQiIiLu7u4AAAAPqInnAAAAAXRSTlMAQObYZgAAAAlwSFlz\n",
       "AAAOxAAADsQBlSsOGwAAAPZJREFUGNNjePvn9AOGlT8bGFAB35rbm4MWMDAc50hg4PuAJslgNoXh\n",
       "4R8BBobcgCUMDBPQJBktgPp8gLLpB7gDGC6gySryPGBgYAPKpjqzboDJ2ty9e/cSiJHHA7LbASjL\n",
       "pmAFldVeCtN7IBDKSGU4wNMAluW7CpNkTdCCyyry3QPLssG9xbSgBS7LUlADdjM33FGsAs1wWYY8\n",
       "NrCsGsLNB6IQss/4wCaHIWTP8SBkmQwOgFi8CNlGkH8ZgO44BKSMwLKMDkhhlQAkNjAwbGeA0ECw\n",
       "A6HZZmPA84vAEPgJ1McHkX2T8QARR/MvBqAFb9dZaEhCAQD0wEXDZ5nCZwAAAABJRU5ErkJggg==\n",
       "\" style=\"display:inline;vertical-align:middle;\" /></a><br>"
      ],
      "text/plain": [
       "<IPython.core.display.HTML object>"
      ]
     },
     "metadata": {},
     "output_type": "display_data"
    }
   ],
   "source": [
    "nat_within_complex = ProperSubset(Natural, Complex)"
   ]
  },
  {
   "cell_type": "code",
   "execution_count": 8,
   "metadata": {},
   "outputs": [
    {
     "data": {
      "text/html": [
       "<strong id=\"int_within_complex\"><a class=\"ProveItLink\" href=\"proofs/int_within_complex/thm_proof.ipynb\">int_within_complex</a> (conjecture without proof):<br></strong> <a class=\"ProveItLink\" href=\"../__pv_it/theorems/b2acda67f99b274a468e7848ae8c37fb3ccf97ad0/theorem_expr.ipynb\"><img src=\"data:image/png;base64,iVBORw0KGgoAAAANSUhEUgAAADkAAAAQBAMAAABelcpIAAAAMFBMVEX///+6urru7u7c3Nx2dnZm\n",
       "ZmbMzMxUVFSIiIiYmJgiIiJEREQQEBAyMjKqqqoAAAB4Cw+YAAAAAXRSTlMAQObYZgAAAAlwSFlz\n",
       "AAAOxAAADsQBlSsOGwAAAPVJREFUGNNj4Lvz5/aqPRMY0IDKrrvNKQwMHNsTGC7wokty1Exgit/K\n",
       "wMAawMAxwQ9dNkKEgYETKMtuwKDNtAFNki1gE5AsZWBgYmAIY0+Amrdr1apVIDa7Aki9JlhhQSpU\n",
       "xxUDqF5u5gCYMdwKmyAMLZgkgzmbA4z5hLMBwiiE25vCCPci3D8X4LKmjA0wrz1wZGBQANsPl+Vm\n",
       "hpmszQx0XzGQwYwkqwDzYxnQx0wfQKwFcFlGsH8ZQR4XBfoPLBGJFFbiQCIWZMglBuZ9YIN4BRDh\n",
       "vDeY6RXQzzJ7T+8+fxrsCKbtQog42vMrGC14Gb2hIQkDADgmN2KRi9YjAAAAAElFTkSuQmCC\n",
       "\" style=\"display:inline;vertical-align:middle;\" /></a><br>"
      ],
      "text/plain": [
       "<IPython.core.display.HTML object>"
      ]
     },
     "metadata": {},
     "output_type": "display_data"
    }
   ],
   "source": [
    "int_within_complex = ProperSubset(Integer, Complex)"
   ]
  },
  {
   "cell_type": "code",
   "execution_count": 9,
   "metadata": {},
   "outputs": [
    {
     "data": {
      "text/html": [
       "<strong id=\"int_nonpos_within_complex\"><a class=\"ProveItLink\" href=\"proofs/int_nonpos_within_complex/thm_proof.ipynb\">int_nonpos_within_complex</a> (conjecture without proof):<br></strong> <a class=\"ProveItLink\" href=\"../__pv_it/theorems/ebef1b9719794703efcf201f8bbc8240e7e7e3220/theorem_expr.ipynb\"><img src=\"data:image/png;base64,iVBORw0KGgoAAAANSUhEUgAAAE8AAAAUBAMAAAA+U32BAAAAMFBMVEX///+6urru7u7c3Nx2dnZm\n",
       "ZmbMzMxUVFSIiIiYmJgiIiJEREQQEBAyMjKqqqoAAAB4Cw+YAAAAAXRSTlMAQObYZgAAAAlwSFlz\n",
       "AAAOxAAADsQBlSsOGwAAAVRJREFUKM9jYEAAvs0MLB4ODAQB3w4GhhkM0gTVce4EEscY+A0IqOPY\n",
       "BySYPzHwPMBl4Z0/t1ftmcB2DsRh+8TANQFdhcquu80pQJO2JzBc4GVgeO0EUcjTgG5VzQSm+K0M\n",
       "DKwBDBwT/IAC0k5gq/nRrY4QAbofqJDdgEGbaQNIJD0Ym2fYAjYByVIGBiYGhjD2BLCYeRFDB4M4\n",
       "1MJdq1atAgmzK4BM0QTrKUiF6jYABngQxJwrMIO5mQNghnMrbMIICy24A8zZ4HH1hLMBQ2EhnJXC\n",
       "CA8vUOAwsO0Ggs1w6QtwlikjzBiOB44MDApoXi2AM7mZYVZrMwO9VYyqkBlJIdjXIFAGDEmmD2hu\n",
       "XABnMYLDkREUoKLAwFqApjASKWZAIRsLMvoSA/O+DWgKeQUQcb03mOkVMCxl9p7eff40erpm2i6E\n",
       "SD17fgXjTp6M3tAohAEAMv9NaAi2hecAAAAASUVORK5CYII=\n",
       "\" style=\"display:inline;vertical-align:middle;\" /></a><br>"
      ],
      "text/plain": [
       "<IPython.core.display.HTML object>"
      ]
     },
     "metadata": {},
     "output_type": "display_data"
    }
   ],
   "source": [
    "int_nonpos_within_complex = ProperSubset(IntegerNonPos, Complex)"
   ]
  },
  {
   "cell_type": "code",
   "execution_count": 10,
   "metadata": {},
   "outputs": [
    {
     "data": {
      "text/html": [
       "<strong id=\"int_neg_within_complex_nonzero\"><a class=\"ProveItLink\" href=\"proofs/int_neg_within_complex_nonzero/thm_proof.ipynb\">int_neg_within_complex_nonzero</a> (conjecture without proof):<br></strong> <a class=\"ProveItLink\" href=\"../__pv_it/theorems/d6cdc53561430cc6fc7b928969d47b85a8d4eeac0/theorem_expr.ipynb\"><img src=\"data:image/png;base64,iVBORw0KGgoAAAANSUhEUgAAAFwAAAAVCAMAAAD8ZnnOAAAAOVBMVEX///82NjYbGxsSEhK6urru\n",
       "7u7c3Nx2dnZmZmbMzMxUVFSIiIiYmJgiIiJEREQQEBAyMjKqqqoAAAAljUYiAAAAAXRSTlMAQObY\n",
       "ZgAAAAlwSFlzAAAOxAAADsQBlSsOGwAAAVxJREFUOMu1VItyhCAMTFseASQ8/v9jGx6e1QPvnLMZ\n",
       "ZcaIa9jNBuDukPB/oUVdtdP3Yytb1sUBCLod3KqyBsNLVjdji0qGyoX4kABSDDlE8p7CclU7TT5G\n",
       "pwxDIpX44XsBU8E9wzmy5RCxXpfC2VKOxEy4Zlp5DTww8Yg9rVPJ0xovGUPXSIBlBZddw0ZLTl0C\n",
       "TsuL6hoE6j1tsdHy/UWVlk3QugENVHLmFLAoNR67rIS1HNnZsI/dpRXXJ04bPKsy6ieWCNThE9rM\n",
       "ySZCuaXpxLbSq5FbzN6EyQ0/Trp6au4MMTiMBrFv3UmzvWrD0UvmROwKSmIsVurjZsLMJtSB8zdm\n",
       "E/egoj+DYTKMnsC3bjlj1HRUmSc7/HCMbH0O4sQMovWU9TMvLhOH9iPhVDH+fSwVKErTY0YxNlZE\n",
       "BTL5qUVEoBjYtDwaSc9lsUIOp2LIHtXng5oO9n8jfgGifA1OlVmqAQAAAABJRU5ErkJggg==\n",
       "\" style=\"display:inline;vertical-align:middle;\" /></a><br>"
      ],
      "text/plain": [
       "<IPython.core.display.HTML object>"
      ]
     },
     "metadata": {},
     "output_type": "display_data"
    }
   ],
   "source": [
    "int_neg_within_complex_nonzero = ProperSubset(IntegerNeg, ComplexNonZero)"
   ]
  },
  {
   "cell_type": "code",
   "execution_count": 11,
   "metadata": {},
   "outputs": [
    {
     "data": {
      "text/html": [
       "<strong id=\"nat_pos_within_complex_nonzero\"><a class=\"ProveItLink\" href=\"proofs/nat_pos_within_complex_nonzero/thm_proof.ipynb\">nat_pos_within_complex_nonzero</a> (conjecture without proof):<br></strong> <a class=\"ProveItLink\" href=\"../__pv_it/theorems/9f851fe6001e476a47901b782d05eb2a242049fa0/theorem_expr.ipynb\"><img src=\"data:image/png;base64,iVBORw0KGgoAAAANSUhEUgAAAFwAAAAVCAMAAAD8ZnnOAAAAOVBMVEX///82NjYbGxsSEhJmZmbM\n",
       "zMyIiIiYmJjc3NxUVFSqqqq6uroQEBB2dnYyMjJEREQiIiLu7u4AAABSLsBdAAAAAXRSTlMAQObY\n",
       "ZgAAAAlwSFlzAAAOxAAADsQBlSsOGwAAAWZJREFUOMu1lYtyhCAMRdOWd4AQ/v9jC4g6u0v21W1m\n",
       "xNGJx3hzgwCfDob/i4RjTSZJGepttvN9tQYASUiht+He9TXqtlT3YTgOMVztwscAXCpR7hcp1ogv\n",
       "wTlRydk43ZCKevy0w4Ie8GI7KQAOpbi+VrnxsT3PqtLeI2PHaYNH02UqDtK4G2FWEGlUcD+U2UQA\n",
       "u8N5FrXJUkOHh3Yvd/XLK5VrBTQ97dVW1PfXLOpsqHfNOS7fhxsqW+jDF3yk8VTDH9ndin66x2vo\n",
       "phfhOid36yh3NQ50DmcbIsW7NRuNUIRzcatp0ZdDGIzg+yYgFy7ChHpcSJ4AL1uexaGyAQJFoXer\n",
       "x5omeFFqQHliW3+8AD8bdaV5enY7YA+nLKvN6AbOzzh2g4M2YvLypXj6HFCE07Su0RJcWWFC5yep\n",
       "LMJzgEc5eVmaoawccCji9q9zjbNiFuFMHnm5K8ZalPvr3wsTXY3/E/ELyE8PFCdPo+kAAAAASUVO\n",
       "RK5CYII=\n",
       "\" style=\"display:inline;vertical-align:middle;\" /></a><br>"
      ],
      "text/plain": [
       "<IPython.core.display.HTML object>"
      ]
     },
     "metadata": {},
     "output_type": "display_data"
    }
   ],
   "source": [
    "nat_pos_within_complex_nonzero = ProperSubset(NaturalPos, ComplexNonZero)"
   ]
  },
  {
   "cell_type": "code",
   "execution_count": 12,
   "metadata": {},
   "outputs": [
    {
     "data": {
      "text/html": [
       "<strong id=\"int_nonzero_within_complex_nonzero\"><a class=\"ProveItLink\" href=\"proofs/int_nonzero_within_complex_nonzero/thm_proof.ipynb\">int_nonzero_within_complex_nonzero</a> (conjecture without proof):<br></strong> <a class=\"ProveItLink\" href=\"../__pv_it/theorems/404f71024ee53b3d2b288c6638d88e7ca47a716e0/theorem_expr.ipynb\"><img src=\"data:image/png;base64,iVBORw0KGgoAAAANSUhEUgAAAGQAAAAVCAMAAACHQrsCAAAAOVBMVEX///82NjYbGxsSEhK6urru\n",
       "7u7c3Nx2dnZmZmbMzMxUVFSIiIiYmJgiIiJEREQQEBAyMjKqqqoAAAAljUYiAAAAAXRSTlMAQObY\n",
       "ZgAAAAlwSFlzAAAOxAAADsQBlSsOGwAAAXZJREFUSMelVVeWwyAM1O5SRBPl/oddiu3EMRieo5fw\n",
       "IeNRnTHAwDh8aQsAktVTGvkwxgKA0OW0BoDRoxgrAFqU06t8JPEkyAIAqzWKVPrq44MYnwAx+OQD\n",
       "OUfeAiAV+8t/C6recXY+Y0kuBCOUHAEY0qWoUH/NTMNtd7yZxTC6pMcxEY4AEDe33PvCt1G1atOs\n",
       "XWhac8DuQa4AdUTZ3Z6Uan9/qFa7NniFQBsnNI4A6gVUUJtW39JHH8oG6nNr8vCqqWOPOOxLyu0d\n",
       "QHarvZ9HXo1L+M5cFeSlLgKBH54+QHYfT+J40NyJHuvUmdQDgCgrN5uFG4axzkgksPOSDwDe1zey\n",
       "cZDe67lX7JT6AMDETc4mwql0z5tnsiCieXcFvQnORPQuQV7bdadlakPnaXLTdWXqxRNgN2RibQe1\n",
       "m3HbDhi/lYjDpclphJKJoDgtO3RTNRRQAI8Oh6LsKfgsAlmKSc7HpxnvqrBPDh99ePofCvqQlQX7\n",
       "B+HBEHD5+ZwYAAAAAElFTkSuQmCC\n",
       "\" style=\"display:inline;vertical-align:middle;\" /></a><br>"
      ],
      "text/plain": [
       "<IPython.core.display.HTML object>"
      ]
     },
     "metadata": {},
     "output_type": "display_data"
    }
   ],
   "source": [
    "int_nonzero_within_complex_nonzero = ProperSubset(IntegerNonZero, ComplexNonZero)"
   ]
  },
  {
   "cell_type": "code",
   "execution_count": 13,
   "metadata": {},
   "outputs": [
    {
     "data": {
      "text/html": [
       "<strong id=\"rational_within_complex\"><a class=\"ProveItLink\" href=\"proofs/rational_within_complex/thm_proof.ipynb\">rational_within_complex</a> (conjecture without proof):<br></strong> <a class=\"ProveItLink\" href=\"../__pv_it/theorems/846ae46d99a6be575fb38ecc981406f904ac31980/theorem_expr.ipynb\"><img src=\"data:image/png;base64,iVBORw0KGgoAAAANSUhEUgAAADsAAAASBAMAAAAXqLt+AAAAMFBMVEX///+qqqoyMjK6urqYmJgi\n",
       "IiLMzMwQEBBUVFSIiIjc3NxmZmZERER2dnbu7u4AAACF9pTcAAAAAXRSTlMAQObYZgAAAAlwSFlz\n",
       "AAAOxAAADsQBlSsOGwAAARRJREFUKM9jYGB4e+bMLgYM8Pao0qxcIM3ZnsAVcQFdlrPdgW//aSDj\n",
       "yhUGBmsbdOmdtgwMLEBptgsKDAw8LBNQZdk2nAOS3UCZdw0MDLwJChAjj4aGhiYAGRwPDgDJJwwM\n",
       "b9iAGhkFtoH16C6A6ubh2gBh5DI7MDAwOziC2E9hsgwr2KCOtWQRAGqbIAJiN8PtBmsCgbWMYN2T\n",
       "QWwFuPRqZqhbeSB27wNZ3QCX5uGCGs7zCu5yLiRpsMuBgBnibwEQOwAuzQz2NzMQbwGGmgUk1LYg\n",
       "hZoFkNgExLygMIf4kskAEeaHdvGJgkVXf9LfBhHjO2GHiLHjX6Hx2AYPceY70EBFBhwTZogZMOAG\n",
       "EodqHLDLAAD2YUaQF620wwAAAABJRU5ErkJggg==\n",
       "\" style=\"display:inline;vertical-align:middle;\" /></a><br>"
      ],
      "text/plain": [
       "<IPython.core.display.HTML object>"
      ]
     },
     "metadata": {},
     "output_type": "display_data"
    }
   ],
   "source": [
    "rational_within_complex = ProperSubset(Rational, Complex)"
   ]
  },
  {
   "cell_type": "code",
   "execution_count": 14,
   "metadata": {},
   "outputs": [
    {
     "data": {
      "text/html": [
       "<strong id=\"rational_nonneg_within_complex\"><a class=\"ProveItLink\" href=\"proofs/rational_nonneg_within_complex/thm_proof.ipynb\">rational_nonneg_within_complex</a> (conjecture without proof):<br></strong> <a class=\"ProveItLink\" href=\"../__pv_it/theorems/e90fd60f254ac1ebf652924ef32027767b3e61840/theorem_expr.ipynb\"><img src=\"data:image/png;base64,iVBORw0KGgoAAAANSUhEUgAAAFEAAAAWBAMAAABK/G3RAAAAMFBMVEX///+qqqoyMjK6urqYmJgi\n",
       "IiLMzMwQEBBUVFSIiIjc3NxmZmZERER2dnbu7u4AAACF9pTcAAAAAXRSTlMAQObYZgAAAAlwSFlz\n",
       "AAAOxAAADsQBlSsOGwAAAWtJREFUKM9jYIACtsNgivfmBQZC4O1BEOnJYENQJQPnESBRxsC/gLBS\n",
       "lpMMXP8Y2AVwW3vmzC6o0iq2fwysDhgKjirNygVZ2p7AFQH2Bt8dA6BK9gnormp34Nt/Gsi4coWB\n",
       "wRrkDa4dCSDb+dFt32kLtA2oku2CAgMDD8sEBq6OBKw+YttwDkh2AxW9awCGYoICXzdYxUwGC6id\n",
       "R0NDQ0F6OR4cAJJPGBjesAHdxSiwje8BNOT3QUzShRnNw7UBwshlBvqV2cERzXFP4W5YwQaNNUsW\n",
       "oA/YJoigqWyGs8BGgcBaRrCZk9nOAMEpuLwCnLWaGRpsPBB37kPzcAOcycMFtZ3nFcTvqCq5kFSC\n",
       "/Q4EzJDwRA/uADiLGRyezEC8BRhHFhhJbQtSHIFCeBMoBEHxvgFdJZMBIt4P7eITBStY/Ul/G0YC\n",
       "4zthh0hLx79CE1sbywTMtMh8BxqbyIBjwgwxAwaigMShGgeCigC6DGCYks4gJAAAAABJRU5ErkJg\n",
       "gg==\n",
       "\" style=\"display:inline;vertical-align:middle;\" /></a><br>"
      ],
      "text/plain": [
       "<IPython.core.display.HTML object>"
      ]
     },
     "metadata": {},
     "output_type": "display_data"
    }
   ],
   "source": [
    "rational_nonneg_within_complex = ProperSubset(RationalNonNeg, Complex)"
   ]
  },
  {
   "cell_type": "code",
   "execution_count": 15,
   "metadata": {},
   "outputs": [
    {
     "data": {
      "text/html": [
       "<strong id=\"rational_nonpos_within_complex\"><a class=\"ProveItLink\" href=\"proofs/rational_nonpos_within_complex/thm_proof.ipynb\">rational_nonpos_within_complex</a> (conjecture without proof):<br></strong> <a class=\"ProveItLink\" href=\"../__pv_it/theorems/6401c064c6995a2f028b965d374c5325b0c3b14a0/theorem_expr.ipynb\"><img src=\"data:image/png;base64,iVBORw0KGgoAAAANSUhEUgAAAFEAAAAWBAMAAABK/G3RAAAAMFBMVEX///+qqqoyMjK6urqYmJgi\n",
       "IiLMzMwQEBBUVFSIiIjc3NxmZmZERER2dnbu7u4AAACF9pTcAAAAAXRSTlMAQObYZgAAAAlwSFlz\n",
       "AAAOxAAADsQBlSsOGwAAAW9JREFUKM9jYEACjKcYeG9eYCAMGE8yMHgy2BBWyHIESJQx8C8gpJDz\n",
       "IJDg+sfALoBTydszZ3YxMLAVgths/xhYHTAUHFWalQsyqz2BKwLoDZl7EJXsE9Ata3fg238ayLhy\n",
       "hYHBGuQNm3tg2/nRbd9pC/QDUCXbBQUGBh4WkEEZu7D5iG3DOSDZDVT0roGBgTdBASS4oo9hJoMF\n",
       "1M6joaGhCUAGx4MDQPIJA8MbNqBxjALbwNILgCG/D2KSLsxoHq4NEEYuM9CvzA6OaI57CnfDCjZo\n",
       "rFmyAH3ANkEETWUznAU2CgTWMoLNnMx2BghOweUV4KzVzNBg44G4cx+ahxvgTB4uqO08rxB+RwAu\n",
       "JJVgvwMBMyQ80YM7AM5iBocnMxBvAcaRBUZS24IUR6AQ3gTEvKB434CukskAEe+HdvGJghWs/qS/\n",
       "DSOB8Z2wQ6Sl4193QVhtLBMw0yLzHWhsIgOOCTPEDBiIAhKHahwIKgIA4hxfXnq88X8AAAAASUVO\n",
       "RK5CYII=\n",
       "\" style=\"display:inline;vertical-align:middle;\" /></a><br>"
      ],
      "text/plain": [
       "<IPython.core.display.HTML object>"
      ]
     },
     "metadata": {},
     "output_type": "display_data"
    }
   ],
   "source": [
    "rational_nonpos_within_complex = ProperSubset(RationalNonPos, Complex)"
   ]
  },
  {
   "cell_type": "code",
   "execution_count": 16,
   "metadata": {},
   "outputs": [
    {
     "data": {
      "text/html": [
       "<strong id=\"rational_pos_within_complex_nonzero\"><a class=\"ProveItLink\" href=\"proofs/rational_pos_within_complex_nonzero/thm_proof.ipynb\">rational_pos_within_complex_nonzero</a> (conjecture without proof):<br></strong> <a class=\"ProveItLink\" href=\"../__pv_it/theorems/e07bb98dfbcfe600d90794b60e0b6d6d749b6b7d0/theorem_expr.ipynb\"><img src=\"data:image/png;base64,iVBORw0KGgoAAAANSUhEUgAAAGYAAAAXCAMAAADOf8o0AAAAOVBMVEX///82NjYbGxsSEhKqqqoy\n",
       "MjK6urqYmJgiIiLMzMwQEBBUVFSIiIjc3NxmZmZERER2dnbu7u4AAADYcN1mAAAAAXRSTlMAQObY\n",
       "ZgAAAAlwSFlzAAAOxAAADsQBlSsOGwAAAaJJREFUSMe1VYuurCAM5JzLqxZa8P8/9lYBdZWVPSbb\n",
       "RDQEpq/pqNT3LH9ySHOUNaWQHnpJVg0BNIfl5WS1/MhLxCGAY1c+JpBljk/cYBwABNYtonmp76Qf\n",
       "eLHpApATi1HxCQdUWE95N+52Ym9MiCDgtIDxP3ncC0DAJbXoMdW2pPziZgojL4IgSJlmprbjzgDJ\n",
       "pXXPUuuVbY5KzvOoaBRKiaSn1U1mdQKQPE3Z45UXJQqk+DEFgBTX/JFK0X5/eC3aDsA5YyU6NIcr\n",
       "H1GuhoWPeCKILwYbp7JqlM21VtuVBiDpQc1Ba0VwIH6dLjpOM5h0yY1VpNPOfqUCSM1sZZK83aAN\n",
       "2cfeHMLroOsrZ2zYsCUrPeAu2k5r9kCrmY4mpA1bDgergJt1Om96qkJLrMdkOrGo197cqyqg6iLE\n",
       "sbxyjj2m3cjhFUHxJ+Kzz81oEH0XYZ8bZd/PcFMBHEs+uTcqUNOkm3Kkpmk0Fl5j+5puRDWy9rcI\n",
       "kWZj5uNovh8cRpu7Cj3NnkY/JoRdz4a95JPY/OVfF0TNNVj1ZdPIZmL3JfT/N64TzhHsRMYAAAAA\n",
       "SUVORK5CYII=\n",
       "\" style=\"display:inline;vertical-align:middle;\" /></a><br>"
      ],
      "text/plain": [
       "<IPython.core.display.HTML object>"
      ]
     },
     "metadata": {},
     "output_type": "display_data"
    }
   ],
   "source": [
    "rational_pos_within_complex_nonzero = ProperSubset(RationalNonPos, ComplexNonZero)"
   ]
  },
  {
   "cell_type": "code",
   "execution_count": 17,
   "metadata": {},
   "outputs": [
    {
     "data": {
      "text/html": [
       "<strong id=\"rational_neg_within_complex_nonzero\"><a class=\"ProveItLink\" href=\"proofs/rational_neg_within_complex_nonzero/thm_proof.ipynb\">rational_neg_within_complex_nonzero</a> (conjecture without proof):<br></strong> <a class=\"ProveItLink\" href=\"../__pv_it/theorems/a62fc4d22a13701ed413b91066a4e68dfa93870d0/theorem_expr.ipynb\"><img src=\"data:image/png;base64,iVBORw0KGgoAAAANSUhEUgAAAGYAAAAXCAMAAADOf8o0AAAAOVBMVEX///82NjYbGxsSEhKqqqoy\n",
       "MjK6urqYmJgiIiLMzMwQEBBUVFSIiIjc3NxmZmZERER2dnbu7u4AAADYcN1mAAAAAXRSTlMAQObY\n",
       "ZgAAAAlwSFlzAAAOxAAADsQBlSsOGwAAAaJJREFUSMe1VYuurCAM5JzLqxZa8P8/9lYBdZWVPSbb\n",
       "RDQEpq/pqNT3LH9ySHOUNaWQHnpJVg0BNIfl5WS1/MhLxCGAY1c+JpBljk/cYBwABNYtonmp76Qf\n",
       "eLHpApATi1HxCQdUWE95N+52Ym9MiCDgtIDxP3ncC0DAJbXoMdW2pPziZgojL4IgSJlmprbjzgDJ\n",
       "pXXPUuuVbY5KzvOoaBRKiaSn1U1mdQKQPE3Z45UXJQqk+DEFgBTX/JFK0X5/eC3aDsA5YyU6NIcr\n",
       "H1GuhoWPeCKILwYbp7JqlM21VtuVBiDpQc1Ba0VwIH6dLjpOM5h0yY1VpNPOfqUCSM1sZZK83aAN\n",
       "2cfeHMLroOsrZ2zYsCUrPeAu2k5r9kCrmY4mpA1bDgergJt1Om96qkJLrMdkOrGo197cqyqg6iLE\n",
       "sbxyjj2m3cjhFUHxJ+Kzz81oEH0XYZ8bZd/PcFMBHEs+uTcqUNOkm3Kkpmk0Fl5j+5puRDWy9rcI\n",
       "kWZj5uNovh8cRpu7Cj3NnkY/JoRdz4a95JPY/OVfF0TNNVj1ZdPIZmL3JfT/N64TzhHsRMYAAAAA\n",
       "SUVORK5CYII=\n",
       "\" style=\"display:inline;vertical-align:middle;\" /></a><br>(alternate proof for <a class=\"ProveItLink\" href=\"#rational_pos_within_complex_nonzero\">rational_pos_within_complex_nonzero</a>)<br>"
      ],
      "text/plain": [
       "<IPython.core.display.HTML object>"
      ]
     },
     "metadata": {},
     "output_type": "display_data"
    }
   ],
   "source": [
    "rational_neg_within_complex_nonzero = ProperSubset(RationalNonPos, ComplexNonZero)"
   ]
  },
  {
   "cell_type": "code",
   "execution_count": 18,
   "metadata": {},
   "outputs": [
    {
     "data": {
      "text/html": [
       "<strong id=\"rational_nonzero_within_complex_nonzero\"><a class=\"ProveItLink\" href=\"proofs/rational_nonzero_within_complex_nonzero/thm_proof.ipynb\">rational_nonzero_within_complex_nonzero</a> (conjecture without proof):<br></strong> <a class=\"ProveItLink\" href=\"../__pv_it/theorems/830c998737fad46304e386f7bc78edf8c9c647950/theorem_expr.ipynb\"><img src=\"data:image/png;base64,iVBORw0KGgoAAAANSUhEUgAAAGYAAAAXCAMAAADOf8o0AAAAOVBMVEX///82NjYbGxsSEhKqqqoy\n",
       "MjK6urqYmJgiIiLMzMwQEBBUVFSIiIjc3NxmZmZERER2dnbu7u4AAADYcN1mAAAAAXRSTlMAQObY\n",
       "ZgAAAAlwSFlzAAAOxAAADsQBlSsOGwAAAY5JREFUSMe1lYlyhCAMhtOWUyAB3v9hy7VaVxBqp5lZ\n",
       "1mH0C7l+AIYW4I+2BPCirN76h16WAM7kVVoAQY+8rAGMy+um0xLdEzdLAFEidTHnd2MPvHQAwVMy\n",
       "rD4xP9NX+knQ5S0l59X2pDi3TvsxwJocmlPmqJWt5PrWZmdeEiF9EDASDgFe+rIncK9VaA815jhL\n",
       "GtqaIpAvN1dAipPXPSp9kWP+/KAS81oLaARqM2JwBKAQTGt03Rxqs2cj96M5J4hUNb33VIA9DXIA\n",
       "SOHplnvGAMu3dMxvmi78Oc2a+0tsBA7fdi6AlDPROin9y1wGNi55UK43h/o86B2AsJWdT2qBZY/8\n",
       "ZuZEpzTHQZt1AM5Xdo3GJgwTYze9E6SMidPxu4Bzbe5VVRvoEtxcXim4906byOGVALQiPsfczAZR\n",
       "dQnH3MA44fhSATOXfJQDFWhh4k06/EvTcC68vHtcSzwJb2DqluAwch5Rr1y8ZEToKvQWFc4uJqOL\n",
       "nq1dJPQmNr+562xSc6YF/LMxQ3wj+U/0b4SAE8ljttjuAAAAAElFTkSuQmCC\n",
       "\" style=\"display:inline;vertical-align:middle;\" /></a><br>"
      ],
      "text/plain": [
       "<IPython.core.display.HTML object>"
      ]
     },
     "metadata": {},
     "output_type": "display_data"
    }
   ],
   "source": [
    "rational_nonzero_within_complex_nonzero = ProperSubset(RationalNonZero, ComplexNonZero)"
   ]
  },
  {
   "cell_type": "code",
   "execution_count": 19,
   "metadata": {},
   "outputs": [
    {
     "data": {
      "text/html": [
       "<strong id=\"real_within_complex\"><a class=\"ProveItLink\" href=\"proofs/real_within_complex/thm_proof.ipynb\">real_within_complex</a> (conjecture without proof):<br></strong> <a class=\"ProveItLink\" href=\"../__pv_it/theorems/1b640e8661764e8f8aa3027c59a811a87c36ddc80/theorem_expr.ipynb\"><img src=\"data:image/png;base64,iVBORw0KGgoAAAANSUhEUgAAADoAAAAQBAMAAAC1onFLAAAAMFBMVEX///+IiIiqqqpmZmbMzMx2\n",
       "dnbu7u66urpUVFTc3NwiIiJEREQQEBAyMjKYmJgAAAA9S0TaAAAAAXRSTlMAQObYZgAAAAlwSFlz\n",
       "AAAOxAAADsQBlSsOGwAAAOxJREFUGNNjeHt6/63TDxjQAVv02otTAhgYNsxgqHidgC4rcY4h+bcB\n",
       "UHYqAzdLA5okszhQ32uILPOEC2iyztxA0zhgshsggtKrVq1aAmK0cYPsfgCW5UiDmOwbCdO7YTKM\n",
       "MZXBW3cC2J0rYZKcDa4w2Tm3fomBWRwFMFmWgDq43ne5EBYv3FGcBoVwWe48SGh4INwMtA7GYDHY\n",
       "BmbNQMhu40YoM5kNZnEhZItB/mUoAMtmM4KNZn6AFFZAPzJfAHuN78F2sNh1hGbpyxOSFjMwAONo\n",
       "J8Pu+wogoez2BEQcnV88AS14S3dBQxIKAGT3TKebrKczAAAAAElFTkSuQmCC\n",
       "\" style=\"display:inline;vertical-align:middle;\" /></a><br>"
      ],
      "text/plain": [
       "<IPython.core.display.HTML object>"
      ]
     },
     "metadata": {},
     "output_type": "display_data"
    }
   ],
   "source": [
    "real_within_complex = ProperSubset(Real, Complex)"
   ]
  },
  {
   "cell_type": "code",
   "execution_count": 20,
   "metadata": {},
   "outputs": [
    {
     "data": {
      "text/html": [
       "<strong id=\"real_nonneg_within_complex\"><a class=\"ProveItLink\" href=\"proofs/real_nonneg_within_complex/thm_proof.ipynb\">real_nonneg_within_complex</a> (conjecture without proof):<br></strong> <a class=\"ProveItLink\" href=\"../__pv_it/theorems/9ea0ecabb6823e2c4bdbba04932664926f323b770/theorem_expr.ipynb\"><img src=\"data:image/png;base64,iVBORw0KGgoAAAANSUhEUgAAAFAAAAAUBAMAAADo9qfkAAAAMFBMVEX///+IiIiqqqpmZmbMzMx2\n",
       "dnbu7u66urpUVFTc3NwiIiJEREQQEBAyMjKYmJgAAAA9S0TaAAAAAXRSTlMAQObYZgAAAAlwSFlz\n",
       "AAAOxAAADsQBlSsOGwAAAUxJREFUKM9jYIAC7wIwFSrKQACwRSsAST4B9g2EVDJIP2Bg4HFg+ElQ\n",
       "IcNrAYb5CQyHcMi+Pb3/1ukHEPabCf4JDOswHbX24pQABoYNMxgqXieARFK3MwAVHkRXKHGOIfm3\n",
       "AVDhVAZulgagwOQWBpDVn9DUMYsDTXsNUcg84QIDwwygOmyeceYGWscBU7iBIcMSJMoowN4ADYNV\n",
       "q1YtATHauEHufABWyJHWwJAGkQ8VBjuXwTcSZuKGyTDGVAZv3QnoPl0JY3E2uMIUzrn1SwzdpxwF\n",
       "MBZLQB3cxHe5oLjeDQRwg3nhWjgNCuEKufMeoJvogWACnQZjsBhsQ1c4A8Hcxo3QYTIbXSEXglkM\n",
       "CkeGArDCbEZ0u5kfIMUMMGSZL4DDie/BdnQjryMlv8sTkhaDU89Oht33FdAUZrcnIFLP+cUTcCfO\n",
       "0l3QKIQCAOxRZRrO9y76AAAAAElFTkSuQmCC\n",
       "\" style=\"display:inline;vertical-align:middle;\" /></a><br>"
      ],
      "text/plain": [
       "<IPython.core.display.HTML object>"
      ]
     },
     "metadata": {},
     "output_type": "display_data"
    }
   ],
   "source": [
    "real_nonneg_within_complex = ProperSubset(RealNonNeg, Complex)"
   ]
  },
  {
   "cell_type": "code",
   "execution_count": 21,
   "metadata": {},
   "outputs": [
    {
     "data": {
      "text/html": [
       "<strong id=\"real_nonpos_within_complex\"><a class=\"ProveItLink\" href=\"proofs/real_nonpos_within_complex/thm_proof.ipynb\">real_nonpos_within_complex</a> (conjecture without proof):<br></strong> <a class=\"ProveItLink\" href=\"../__pv_it/theorems/f05a3bac5b557781c514f2c1b378767efb64a9630/theorem_expr.ipynb\"><img src=\"data:image/png;base64,iVBORw0KGgoAAAANSUhEUgAAAFAAAAAUBAMAAADo9qfkAAAAMFBMVEX///+IiIiqqqpmZmbMzMx2\n",
       "dnbu7u66urpUVFTc3NwiIiJEREQQEBAyMjKYmJgAAAA9S0TaAAAAAXRSTlMAQObYZgAAAAlwSFlz\n",
       "AAAOxAAADsQBlSsOGwAAAUpJREFUKM9jYEAC2hMYQkUZCANtAQY+AfYNBNW9fsDAwOPA8JOQOmkF\n",
       "IDE/geEQDvm3p/ffOg00ywekjsE/gWEdugq26LUXpwQwMGyYwVDxOoGBaWsCROFBdIUS5xiSfxsA\n",
       "FU5l4GZpYGBgB6kEWv0JTR2zONC01xCFzBMuAEVYmidg84wzN9AADphCcJhwdiQwCrA3QP22atWq\n",
       "JSBGGzfInQ/ACjnSILKcDAyhwglgpm8kzMQNk2GMqQzeuhPQfboSxuJscIUpnHPrlxi6TzkKYCyW\n",
       "gDq4ie9ygZT3biCAG8wL18JpUAhXyJ33AN1EDwQT6DQYg8VgG7rCGQjmNm6EDpPZ6Aq5EMxiUDgy\n",
       "FIAVZjOi2838AClmgGHHfAEcTnwPtqMbeR0pWV2ekLQYnHp2Muy+r4CmMLs9AZF6zi+egDt5lu6C\n",
       "RiEUAACigWPC6wg+FwAAAABJRU5ErkJggg==\n",
       "\" style=\"display:inline;vertical-align:middle;\" /></a><br>"
      ],
      "text/plain": [
       "<IPython.core.display.HTML object>"
      ]
     },
     "metadata": {},
     "output_type": "display_data"
    }
   ],
   "source": [
    "real_nonpos_within_complex = ProperSubset(RealNonPos, Complex)"
   ]
  },
  {
   "cell_type": "code",
   "execution_count": 22,
   "metadata": {},
   "outputs": [
    {
     "data": {
      "text/html": [
       "<strong id=\"real_pos_within_complex_nonzero\"><a class=\"ProveItLink\" href=\"proofs/real_pos_within_complex_nonzero/thm_proof.ipynb\">real_pos_within_complex_nonzero</a> (conjecture without proof):<br></strong> <a class=\"ProveItLink\" href=\"../__pv_it/theorems/e7f4bdc721717306fa3bcffbd04ff1fbfb86b1b20/theorem_expr.ipynb\"><img src=\"data:image/png;base64,iVBORw0KGgoAAAANSUhEUgAAAGUAAAAVCAMAAABogNA8AAAAOVBMVEX///82NjYbGxsSEhKIiIiq\n",
       "qqpmZmbMzMx2dnbu7u66urpUVFTc3NwiIiJEREQQEBAyMjKYmJgAAABgzQ1gAAAAAXRSTlMAQObY\n",
       "ZgAAAAlwSFlzAAAOxAAADsQBlSsOGwAAAYJJREFUSMe1VYuOhCAM5O6gUB4F/P+PvSroqotbY7JN\n",
       "RKN0hk4fKvU1wxt7DEVendPuIYnzSgIwpOdb5dXTI5IYJIBKtT1ky8sUn7CE+BlAk1nPM83aZvOA\n",
       "xLsDQC2ZaCop9/PbHahdNqUqJ9pRKkVHy9hAs/3xVfcAtGjoQyVsKXF4YMlaItEhMxDCRLC+qWcA\n",
       "ZnHLzYYe7crTAp4kxUA3fTifnQVJnQE6C0RVNqkCxNvZt6CoRx+gKfb7Q4tiO4AXC+0LMbCnngsx\n",
       "nGojNbNbNeHmiF2ozeUF0FkC4gEv9qaCfQ/b4t4iY384vXm5bACNxZIpYmNgiqP2s8f2NqNyYZZc\n",
       "0pS0PHiCH6TFKX+s9aLGLK5W7N8srTaIbOTPcvnD4Y2/YmEpq9x8Nlz6i7bs2pWjNAHf/FHRTRYF\n",
       "Nsp703Bk7Q7oBRZuVy1qBvWi93uQUD6xzPXOeSEv0ZThDk2FexpNgiu/NpPngiIq4shCCh6HMzlP\n",
       "CR79iC5+HHSaMDfsH+3lEmjyVUCaAAAAAElFTkSuQmCC\n",
       "\" style=\"display:inline;vertical-align:middle;\" /></a><br>"
      ],
      "text/plain": [
       "<IPython.core.display.HTML object>"
      ]
     },
     "metadata": {},
     "output_type": "display_data"
    }
   ],
   "source": [
    "real_pos_within_complex_nonzero = ProperSubset(RealNonPos, ComplexNonZero)"
   ]
  },
  {
   "cell_type": "code",
   "execution_count": 23,
   "metadata": {},
   "outputs": [
    {
     "data": {
      "text/html": [
       "<strong id=\"real_neg_within_complex_nonzero\"><a class=\"ProveItLink\" href=\"proofs/real_neg_within_complex_nonzero/thm_proof.ipynb\">real_neg_within_complex_nonzero</a> (conjecture without proof):<br></strong> <a class=\"ProveItLink\" href=\"../__pv_it/theorems/4f42bfc1fea882cc43b95d0ff7d3913cf11086430/theorem_expr.ipynb\"><img src=\"data:image/png;base64,iVBORw0KGgoAAAANSUhEUgAAAGUAAAAVCAMAAABogNA8AAAAOVBMVEX///82NjYbGxsSEhKIiIiq\n",
       "qqpmZmbMzMx2dnbu7u66urpUVFTc3NwiIiJEREQQEBAyMjKYmJgAAABgzQ1gAAAAAXRSTlMAQObY\n",
       "ZgAAAAlwSFlzAAAOxAAADsQBlSsOGwAAAYJJREFUSMe1VYuOhCAM5O6gUB4F/P+PvSroqotbY7JN\n",
       "RKN0hk4fKvU1wxt7DEVendPuIYnzSgIwpOdb5dXTI5IYJIBKtT1ky8sUn7CE+BlAk1nPM83aZvOA\n",
       "xLsDQC2ZaCop9/PbHahdNqUqJ9pRKkVHy9hAs/3xVfcAtGjoQyVsKXF4YMlaItEhMxDCRLC+qWcA\n",
       "ZnHLzYYe7crTAp4kxUA3fTifnQVJnQE6C0RVNqkCxNvZt6CoRx+gKfb7Q4tiO4AXC+0LMbCnngsx\n",
       "nGojNbNbNeHmiF2ozeUF0FkC4gEv9qaCfQ/b4t4iY384vXm5bACNxZIpYmNgiqP2s8f2NqNyYZZc\n",
       "0pS0PHiCH6TFKX+s9aLGLK5W7N8srTaIbOTPcvnD4Y2/YmEpq9x8Nlz6i7bs2pWjNAHf/FHRTRYF\n",
       "Nsp703Bk7Q7oBRZuVy1qBvWi93uQUD6xzPXOeSEv0ZThDk2FexpNgiu/NpPngiIq4shCCh6HMzlP\n",
       "CR79iC5+HHSaMDfsH+3lEmjyVUCaAAAAAElFTkSuQmCC\n",
       "\" style=\"display:inline;vertical-align:middle;\" /></a><br>(alternate proof for <a class=\"ProveItLink\" href=\"#real_pos_within_complex_nonzero\">real_pos_within_complex_nonzero</a>)<br>"
      ],
      "text/plain": [
       "<IPython.core.display.HTML object>"
      ]
     },
     "metadata": {},
     "output_type": "display_data"
    }
   ],
   "source": [
    "real_neg_within_complex_nonzero = ProperSubset(RealNonPos, ComplexNonZero)"
   ]
  },
  {
   "cell_type": "code",
   "execution_count": 24,
   "metadata": {},
   "outputs": [
    {
     "data": {
      "text/html": [
       "<strong id=\"real_nonzero_within_complex_nonzero\"><a class=\"ProveItLink\" href=\"proofs/real_nonzero_within_complex_nonzero/thm_proof.ipynb\">real_nonzero_within_complex_nonzero</a> (conjecture without proof):<br></strong> <a class=\"ProveItLink\" href=\"../__pv_it/theorems/6272589faf8ef973a606946661bdf1f0839837b90/theorem_expr.ipynb\"><img src=\"data:image/png;base64,iVBORw0KGgoAAAANSUhEUgAAAGUAAAAVCAMAAABogNA8AAAAOVBMVEX///82NjYbGxsSEhKIiIiq\n",
       "qqpmZmbMzMx2dnbu7u66urpUVFTc3NwiIiJEREQQEBAyMjKYmJgAAABgzQ1gAAAAAXRSTlMAQObY\n",
       "ZgAAAAlwSFlzAAAOxAAADsQBlSsOGwAAAXBJREFUSMelVYmSgyAMze5iuEPg/z92ubS1heLYzIgz\n",
       "kryXW4CZaPhSrgAoU08l1E2SKwDOljMKAEO3SC4BWFfOIPOR3B2WKwCmhulSyW3YbpC8AEQORIl9\n",
       "oFivkYr85SeCrEo+rgutyDMLJ9UUgGoOjY10dIVowE0piBWJsCEbaEyEU4DMoupL2t21Xq8WcFpl\n",
       "DEXLD8SdZQDQWdAB94z9/lAN+Fr1JcKeBYtTgAdL9+CICURpRHvODvkm8ugmvRuCjlOAzmK17peP\n",
       "+pShwucZlqzeIsv2+PJlANBYJG3cALZ5tbV3o/GT5/EeAmSWwD550T3gD6NmBmVRYM69PgQoscSo\n",
       "97vNzFlG9jld5uT8GKBmjHRcD5+0U/ulVK2ndlxtwDf7R4+tWAClW+v64cp6ctAsWPK4imXOME5m\n",
       "vweJ/Iml9HuuC5kVDQ81BHGeab15nNm1nUx5Doh4ubI0WaOHOzkkj7d+RJMfB71smAvyD0BnEnVG\n",
       "N767AAAAAElFTkSuQmCC\n",
       "\" style=\"display:inline;vertical-align:middle;\" /></a><br>"
      ],
      "text/plain": [
       "<IPython.core.display.HTML object>"
      ]
     },
     "metadata": {},
     "output_type": "display_data"
    }
   ],
   "source": [
    "real_nonzero_within_complex_nonzero = ProperSubset(RealNonZero, ComplexNonZero)"
   ]
  },
  {
   "cell_type": "code",
   "execution_count": 25,
   "metadata": {},
   "outputs": [
    {
     "data": {
      "text/html": [
       "<strong id=\"complex_nonzero_within_complex\"><a class=\"ProveItLink\" href=\"proofs/complex_nonzero_within_complex/thm_proof.ipynb\">complex_nonzero_within_complex</a> (conjecture without proof):<br></strong> <a class=\"ProveItLink\" href=\"../__pv_it/theorems/a9dbb2ba0335a1e16f856d41e5573e401cef04e70/theorem_expr.ipynb\"><img src=\"data:image/png;base64,iVBORw0KGgoAAAANSUhEUgAAAFAAAAAVCAMAAADmWplAAAAAOVBMVEX///82NjYbGxsSEhKqqqq6\n",
       "urpmZmaYmJgQEBBUVFTMzMzc3NyIiIgyMjIiIiJERER2dnbu7u4AAACBgQvFAAAAAXRSTlMAQObY\n",
       "ZgAAAAlwSFlzAAAOxAAADsQBlSsOGwAAASRJREFUOMutlI1uhCAQhLetLP+s8P4P20W4syAWLnET\n",
       "STTywcDMAtxVhGdrF8e4u/0ZntV5lA5A0CNAbfOoDA/JPsATh1Cb8kGq7ePpcafgvbOGMUi5fviR\n",
       "YA5gkB8BuJxWPCdiIqw/uMIoQOVmvA6ArggE+QLGeg9FcppJ7gAGgarnNBbJ3190SF67lA4AOsLL\n",
       "GLEq1W8t2Ta6lUehlHkbogMQWGyXpDMkbGz8Gxnj98t+OwA72LRh2O4vIQY7ikAD4BfR+sL/Y3cx\n",
       "OMIOwNsVzZY2cQ8crXUB8BGs5t/o0dceQOclrXWMC7ADiNNGICbEMMx9D2Cj15XRzzIhb5LSAhx5\n",
       "tBC3gFPRfqjhAuBmoVLAhb4XSYs47DaLgFGnpC56bf0CjM4NxbDm+5gAAAAASUVORK5CYII=\n",
       "\" style=\"display:inline;vertical-align:middle;\" /></a><br>"
      ],
      "text/plain": [
       "<IPython.core.display.HTML object>"
      ]
     },
     "metadata": {},
     "output_type": "display_data"
    }
   ],
   "source": [
    "complex_nonzero_within_complex = ProperSubset(ComplexNonZero, Complex)"
   ]
  },
  {
   "cell_type": "code",
   "execution_count": 26,
   "metadata": {},
   "outputs": [
    {
     "data": {
      "text/html": [
       "<strong id=\"nonzero_if_in_complex_nonzero\"><a class=\"ProveItLink\" href=\"proofs/nonzero_if_in_complex_nonzero/thm_proof.ipynb\">nonzero_if_in_complex_nonzero</a> (conjecture without proof):<br></strong> <a class=\"ProveItLink\" href=\"../__pv_it/theorems/c860413c913aa870891d35b41d340d63fd6b2df60/theorem_expr.ipynb\"><img src=\"data:image/png;base64,iVBORw0KGgoAAAANSUhEUgAAAIkAAAAVCAMAAABFXj3DAAAASFBMVEX///8NDQ0WFhYLCwsYGBhK\n",
       "Sko9PT0oKChfX1+IiIgiIiIQEBB2dnbu7u5ERETMzMzc3NwyMjK6urpmZmaYmJiqqqpUVFQAAACO\n",
       "tbUiAAAAAXRSTlMAQObYZgAAAAlwSFlzAAAOxAAADsQBlSsOGwAAAjpJREFUSMe9Vuu6oyAMZK9n\n",
       "AwSQBHz/N10I4KXa2nPcb/1hiyKZTCYDSv3bK/y3jy4uSBcTCE8eRqj3vIwT3waS7MUE77Yja4GE\n",
       "D6ihKY7n022ScLqa4fxmMBUCUUvUqVDlBynB3aaErlj1eTNgLbxIWKYORx6l20jMJSVb2p3ASrPE\n",
       "N+XOPZHpvkqulohbStRMQtMsDEwVhdH1MvZ+cfoSCJDR2yPJOyXiQCJM2AqSREUObyOZOrslAmRQ\n",
       "pBeIkqv++aPeF13OtiGRFubKZ8jj9l6D1AUCJDi0mm4kcHnBpfqZX1GyIpGfZAYdNr6wK0cZAqgl\n",
       "4ybzgypMW6NSTCeSibTPqEGIjRM/Cx4406uH7FxZG10uuSTXRcA1HJou9zMk8hdOivdAYtNJaoqN\n",
       "prcNH74k6iZksRXSKktEfz6oeGGoEtD+vDqSaImKuNPJ929NLYsMXHOS1sVJdysZpgLFfsWBYRQZ\n",
       "2cfNNtUYbpw8CsUJZCxE5vr+oRmnRwpZaOh15OarwXSgRYXZVRfGxXBTSCNi4eT3L6qcSDEPBbXd\n",
       "qjxSCRL3TZxInSkcjd85QO5EsyRWBnHRPSOvyeBYrvQOH3rH6zYHoMTldEFJnWlhRNbHjplDa28n\n",
       "V1LeR/96T98k6b+6Swd97BgjivDrh12xCnvfvLiYnrsefmrvDEbZqalytdxg5Qxh4Q3Xc88OFnxB\n",
       "yeEcQBAtAMo7v5pqKRX5t/z32clC49cyaPGrTuJnT6RPmHudh2wcfwF0Qx5m2ejPJAAAAABJRU5E\n",
       "rkJggg==\n",
       "\" style=\"display:inline;vertical-align:middle;\" /></a><br>"
      ],
      "text/plain": [
       "<IPython.core.display.HTML object>"
      ]
     },
     "metadata": {},
     "output_type": "display_data"
    }
   ],
   "source": [
    "nonzero_if_in_complex_nonzero = Forall(\n",
    "    x,\n",
    "    NotEquals(x, zero),\n",
    "    domain=ComplexNonZero)"
   ]
  },
  {
   "cell_type": "code",
   "execution_count": 27,
   "metadata": {},
   "outputs": [
    {
     "data": {
      "text/html": [
       "<strong id=\"nonzero_complex_is_complex_nonzero\"><a class=\"ProveItLink\" href=\"proofs/nonzero_complex_is_complex_nonzero/thm_proof.ipynb\">nonzero_complex_is_complex_nonzero</a> (conjecture without proof):<br></strong> <a class=\"ProveItLink\" href=\"../__pv_it/theorems/dfca5bb12a876b6a340077d93a2a425b39c4c6770/theorem_expr.ipynb\"><img src=\"data:image/png;base64,iVBORw0KGgoAAAANSUhEUgAAAMIAAAAbCAMAAAAZDqDkAAAAOVBMVEX///82NjYbGxsSEhKIiIgi\n",
       "IiIQEBB2dnbu7u5ERETMzMzc3NwyMjK6urpmZmaYmJiqqqpUVFQAAAAnLjGdAAAAAXRSTlMAQObY\n",
       "ZgAAAAlwSFlzAAAOxAAADsQBlSsOGwAAAtlJREFUWMPVWIt2qyAQpL0rsLzx/z/28lJQ0JqYNKec\n",
       "1mMaUGZ3dnYoIX9rcPLXB9PpyoB9bg9W31ktfXoGEKIx3JhPIHD33uplvFIRLnO4lfgBJqtby3Wi\n",
       "j5xjQVBX8vHLA+0jeBlOSoEUYeMG4/gXfi0RCcKUHjXFW1+TbN+NQNIHJoOnYUPczLiQD/IGMwQK\n",
       "eVIsibW+lHw3BPOAjhjItCF2gcAL8zORZpf+Fu/FkoZfqI35uhwJQ7D0AG8ykb6/MBGplnOMe8yM\n",
       "KjOZezeCzIAj3uAUxlrunpMlpLzwZ6U8RFEtn0ycZUsJqLcnAaZjrVGwhYdE7vQX64TQ2kz5BKm8\n",
       "aIQ/0ff3O1+ixAE8F6xJu1S862FiuyE31k+dMmvEDuTPpfaci0Fcl4MHYmpSOiUJ+9dbgVRH5BRL\n",
       "15b+jKbGg4Q2y0+5GJXfYcN+bQiet8f7CyzSm7C7AyWQWSJiAlg3RYBH1FHLYlt3yC5B2LmYzZhy\n",
       "9mLYzGbTInM5DGxq4RKzeYYQadbFwWR+BXA8hcNeg7BzMaMskLUxrfvoH4icXBJ5OYuSx8VsABgZ\n",
       "ftZOGCVN5ATJMYR1xdjFjCHoCI/XqumlSte+QPSpUMvSEooigCQeiXJNXJx0XdduIKwrjlxMmyHM\n",
       "IdfERylkbRxG3XmR/jO516XXSFpmh5ciRLJWObDc8hMI64ojF9MmLGm4mwU34U63SVJuICIqJJe7\n",
       "6VT/7GK7vKgmIMXcqhRUdEQILU4gbDg/cjFdxLgJMXfGbr7lHjXvnSqdJ3Pu3EyvpIIm1jd9pZRz\n",
       "q/c4WHHoYppB9dlZAFuDcXUo25lhpnLnqp1OshQINuwLzYojF/OkU714puhsV3S4kNyKRFETGlhl\n",
       "xJhIdcWRi9kl7MVHcX9+ZsLU2kZOYXwu/vkU6F/thqdnzzhjCBd4zF9sh58/Ow8huCvnGffSarhx\n",
       "SrtxQr33f6R96aZy+w8bpxx6Nw1yxwAAAABJRU5ErkJggg==\n",
       "\" style=\"display:inline;vertical-align:middle;\" /></a><br>"
      ],
      "text/plain": [
       "<IPython.core.display.HTML object>"
      ]
     },
     "metadata": {},
     "output_type": "display_data"
    }
   ],
   "source": [
    "nonzero_complex_is_complex_nonzero = Forall(\n",
    "    x, InSet(x, ComplexNonZero), condition=NotEquals(x, zero),\n",
    "    domain=Complex)"
   ]
  },
  {
   "cell_type": "markdown",
   "metadata": {},
   "source": [
    "***An in_bool theorem, which is accessed by the respective ComplexSet NumberSet to implement its deduce_membership_in_bool() method:***"
   ]
  },
  {
   "cell_type": "code",
   "execution_count": 28,
   "metadata": {},
   "outputs": [
    {
     "data": {
      "text/html": [
       "<strong id=\"complex_membership_is_bool\"><a class=\"ProveItLink\" href=\"proofs/complex_membership_is_bool/thm_proof.ipynb\">complex_membership_is_bool</a> (conjecture without proof):<br></strong> <a class=\"ProveItLink\" href=\"../__pv_it/theorems/2e45c6a66de2122cf1da6bf758485c49d69dc68a0/theorem_expr.ipynb\"><img src=\"data:image/png;base64,iVBORw0KGgoAAAANSUhEUgAAAJoAAAAVBAMAAABMN+opAAAAMFBMVEX///+IiIgiIiIQEBB2dnbu\n",
       "7u5ERETMzMzc3NwyMjK6urpmZmaYmJiqqqpUVFQAAAB6qHgnAAAAAXRSTlMAQObYZgAAAAlwSFlz\n",
       "AAAOxAAADsQBlSsOGwAAAjtJREFUOMtjYMAEDVCMA3CQJM54AYIxAaub5sR2By4BNGEhs/mT9RYw\n",
       "gMQfgPh3kCWvQDEmkLNhiP62gUEGXTxhIcfUVwwg8V0g7gxkB0yAYEzALeXAwHBsAwNnALppaxg8\n",
       "2BhA4nUgHycg6zkAwZigmg1oDN8GBp4NmKad5WMAiYMsYkEOJWYoRgrIJCVNEP2UDeR0oEWmqOJg\n",
       "0zgZQOI8QFlOZL03oRgOuCZCfZbQDRWZgyoOMu3FEYi4kZKSCbLmLVAcKBfuAnZzJ1QTx4MSqBI/\n",
       "BmRxUCwE6jlAxLczMKQimzYHijcwPuRWQI4idoc1UNZJBtSoS1g0+dNWiHgf0FJk03QhmKeB5ysf\n",
       "ODJg8cuxYSGUdZkBWRzsU5mVAWBxtgCWBcimWUEwOwM3RDk7MCiU1MCaWqBK6lHFQaaxcTmAxXkF\n",
       "UCIBZhowYiFpnhWefFLZoIzFqOJg0xgSIOITDgIJwR3SDSg+ZWBY38AKDmcFmKbVoPTGAPTIJQYU\n",
       "cYhpEyDivlOBSafhGSc00SVCcNiCxwwsYAFBRF4ABjDI/8dQxcGm8QpAxJuBangYEtmRoh+I75du\n",
       "ZlgLFuCEp22x2Q2x2tAEhCyesITB0RsqzlcAEvkBkyqC4GhB3j0Q5azPlsLLEHttUHhooYpLmuWD\n",
       "yhCYOCiGDGDFE1MBBCNlBjdoDoIlFQX84gzNLBO4oUxQnsbI16hlyQEC4txSjqIwwQwoxgnaSBEP\n",
       "g2KcIIMUcQ4BCMYFGBtwigMAqECNxreLN4QAAAAASUVORK5CYII=\n",
       "\" style=\"display:inline;vertical-align:middle;\" /></a><br>"
      ],
      "text/plain": [
       "<IPython.core.display.HTML object>"
      ]
     },
     "metadata": {},
     "output_type": "display_data"
    }
   ],
   "source": [
    "complex_membership_is_bool = Forall(x, in_bool(InSet(x, Complex)))"
   ]
  },
  {
   "cell_type": "code",
   "execution_count": 29,
   "metadata": {},
   "outputs": [
    {
     "data": {
      "text/html": [
       "<strong id=\"complex_nonzero_membership_is_bool\"><a class=\"ProveItLink\" href=\"proofs/complex_nonzero_membership_is_bool/thm_proof.ipynb\">complex_nonzero_membership_is_bool</a> (conjecture without proof):<br></strong> <a class=\"ProveItLink\" href=\"../__pv_it/theorems/e88240294d86fa505a98baba2dc02134f71f27c20/theorem_expr.ipynb\"><img src=\"data:image/png;base64,iVBORw0KGgoAAAANSUhEUgAAALUAAAAbCAMAAAANmz4FAAAAOVBMVEX///82NjYbGxsSEhKIiIgi\n",
       "IiIQEBB2dnbu7u5ERETMzMzc3NwyMjK6urpmZmaYmJiqqqpUVFQAAAAnLjGdAAAAAXRSTlMAQObY\n",
       "ZgAAAAlwSFlzAAAOxAAADsQBlSsOGwAAAtJJREFUWMPVWIl24yAMZLfivvn/j10u2xw2dtK0761e\n",
       "6kwSjyzESEAR+m1j6D80qvOVAv2Fh1k9o3dM+uwDENI8AvMq/yWCMzN6y7xMVyLiJUQo+aujfoHA\n",
       "1IzeMp11IUMSN3E1669N+nMCtzN6MljKsVIgRYzV8GRf8c8ikaPG2RW+qU7AhKugCPZVmZngDxVc\n",
       "BiTJjB4YeBJdMhP4pioojyhREyg33aYMaUBSsRp2Jpi9uJS8LAE6oweFA0UPyG5RsyrKopDg8neB\n",
       "3UcdB0slKuxMEP5e50HP6NaEQbwG5E1RyN8/PCvkqMaULPsoaus2WWSCqq6pu3z+ng6xSgxwHG2v\n",
       "Vs/QlgdWhbGLAVLnq58MX/s5olYNwdaxqkVBzGjuDgrYkCI5NEl+3BBXGVM/AVn7qVF7aWlLIGlo\n",
       "mFwr1qsRMQDPBG2mRyo2LSeid+nOe5bu5m/yU6qRAfa0IxgxJGKi8RGZVMqAzJH6qZRjyLpXrLrS\n",
       "n2hvkme6xooEvE1OIeRFVi4akPIDstG1jSP29jqkKA/dJdddFLLsKlxdVSNYXaehElKa6aI5YDOg\n",
       "NFbT+RdFZtF4o+tHbZK1UZ/4qVGnN9oSkuBWC/WUa7SvEfuj57bJjx6y3lm0Cjnxc0Rd/W0Eta/u\n",
       "AEbG133UOnVbdtTC3Fz00a/RqsuL0D4Or6JWHYG6KhmQyHOkhs7teY8Y18in9tMoAOBsbdxa8mom\n",
       "+x5y4mePujahjSBJdR9/5YDE2K9Jj1wQzESk29Epd7LsqDhtzOHl5tb2/Xr2UwQdjxFmIPgj0CAX\n",
       "2SiImZgRZ2znn3mu2bznSx1Lrrcrffca/YAinLd7vpFQijimfvyS6Bmd7Z15txI/tGkfcudnJMR9\n",
       "KFUnp5z39nwP9+CBfZeQNpcA7GwCRvSxA6n/MYJ3M/qQYfljhI+dG79zDHyd4OiMPmE/ekb/3P9D\n",
       "xkJibxH+AUBFHpIIChOnAAAAAElFTkSuQmCC\n",
       "\" style=\"display:inline;vertical-align:middle;\" /></a><br>"
      ],
      "text/plain": [
       "<IPython.core.display.HTML object>"
      ]
     },
     "metadata": {},
     "output_type": "display_data"
    }
   ],
   "source": [
    "complex_nonzero_membership_is_bool = Forall(x, in_bool(InSet(x, ComplexNonZero)))"
   ]
  },
  {
   "cell_type": "markdown",
   "metadata": {},
   "source": [
    "### Complex numbers in polar form"
   ]
  },
  {
   "cell_type": "code",
   "execution_count": 30,
   "metadata": {},
   "outputs": [
    {
     "data": {
      "text/html": [
       "<strong id=\"unit_length_complex_polar_negation\"><a class=\"ProveItLink\" href=\"proofs/unit_length_complex_polar_negation/thm_proof.ipynb\">unit_length_complex_polar_negation</a> (conjecture without proof):<br></strong> <a class=\"ProveItLink\" href=\"../__pv_it/theorems/baa0efdb8be61d4dd403bc1d583d7407a0bbd25e0/theorem_expr.ipynb\"><img src=\"data:image/png;base64,iVBORw0KGgoAAAANSUhEUgAAAOQAAAAmBAMAAAAmWSoBAAAAMFBMVEX///+IiIgiIiIQEBB2dnbu\n",
       "7u5ERETMzMzc3NwyMjK6urpmZmaYmJiqqqpUVFQAAAB6qHgnAAAAAXRSTlMAQObYZgAAAAlwSFlz\n",
       "AAAOxAAADsQBlSsOGwAAA6pJREFUWMOtWEtoE0EY/tNkzW52k66eFIqUqtCTllIfCEoOWlCoRC1e\n",
       "hHYPbZCaQjXgRTCLlVJBbCqtCCoEFA8ebJTWgqJUeij2IDl4KNhDTgVvESwpaqnz2s0+O0nZOexj\n",
       "dr58M//jm38CsH2TSxBgE6brGPQZAm03U9whSj5YSqXMHZJNBUsJw9wRU+y+RK4rzs8qn2PJ/nqZ\n",
       "t4b4OnvoIlYpgPjWxiLzKQmyBpN5lm1KWt/6AK6kcMwVjZ5Y0sNdBXcfhlGQuMGhzNnM8AEgQ5yh\n",
       "mV0eQf/D43cwbIw+DnAo14yHZ/jSCmIFnjPKu1tbWzr0uFPPEeMYSWAKte0ih/KfDZgHWYMqpRTm\n",
       "HkQ8l7RrwU1JYYfI+0QJiDtXvRmjGzVgL8Q0aBq4UGGUsLcXPb1yYUbBSdnLYPtpeBSxgwCe+CRu\n",
       "pQbM6vEyNOtyUU6nj6UziPc26r/lwsy6KLM6hgH0k8CQ83AHm0zzpkzkreaJatAMYZ35UtTeeBr2\n",
       "D7gNS2ESMXmoAhLijvhod7jsCB8p9QkYpay+QNfdLl+se1BSmEwWFq+Cgrgln+hpJmnX11mklNcg\n",
       "dqZkUEqpphTucrRQqzWRGZLCQh1kTpsAnW1tXX6U2BRC5+pp+vrS6Df9IGj+vrAiqW4QAwgoC+YB\n",
       "Bn0oJ/DkEq0wQRVB1lm/qT6s510bbodJjlgmUUNSm1fJ7RfAQxDLNRWMH3z605TRXIku1ci1s845\n",
       "LbtmKZVtRrJmqUgj6zeaVypSYOJ5Y20I1GTknjFoBstlDskMk1LBSeDeFlDagfCIrHrEgiRoSvkX\n",
       "rUuVmArK83g/UpWLtlXmVsbH6981rat0IMWqQQn5L0wFW8gWqIau2g3L3xQtvrQZVvXSMuRL6Jmm\n",
       "KkjDT02OtZjhgz0hHwXQ615lwhI+DiSNWKLbo2hiWAVjxNXq+25zUD+epnBgeY9aNyVNPuY8O1Ih\n",
       "n8RNPLERIOKpPE6nh5Fhz5taFCbZIB+ZrL+2iVnVx46kBUHUUESsgtEk9eVrMxckrfF66qR/ZC3Y\n",
       "ahuigoPUlxEzfOSOxilnfb/QnSRiKCJRwTFk4djklPDREC1lvXHKrO+Xb3QLt9VbQnd6yF5UbDZO\n",
       "mfA9UbTXdHubdn0Hxw6/+p7VPjOchFtsnBK++/SzCu8cB95f2MGxwwczR2+nOPBIwKcgu1R4t+NB\n",
       "U4a559WvQVPu4+9FC8Eyiif4Id8eLOWlOv4HuB/smTZTjyVGAv17AifQf2IG6wKQaqspAAAAAElF\n",
       "TkSuQmCC\n",
       "\" style=\"display:inline;vertical-align:middle;\" /></a><br>"
      ],
      "text/plain": [
       "<IPython.core.display.HTML object>"
      ]
     },
     "metadata": {},
     "output_type": "display_data"
    }
   ],
   "source": [
    "unit_length_complex_polar_negation = Forall(\n",
    "    theta, Equals(Exp(e, Mult(i, Add(theta, pi))),\n",
    "                  Neg(Exp(e, Mult(i, theta)))),\n",
    "    domain=Real)"
   ]
  },
  {
   "cell_type": "code",
   "execution_count": 31,
   "metadata": {},
   "outputs": [
    {
     "data": {
      "text/html": [
       "<strong id=\"complex_polar_negation\"><a class=\"ProveItLink\" href=\"proofs/complex_polar_negation/thm_proof.ipynb\">complex_polar_negation</a> (conjecture without proof):<br></strong> <a class=\"ProveItLink\" href=\"../__pv_it/theorems/32b815548fedc7d393a27e81e4c32f8a8d8ebc990/theorem_expr.ipynb\"><img src=\"data:image/png;base64,iVBORw0KGgoAAAANSUhEUgAAAVAAAAAmBAMAAABgyt6CAAAAMFBMVEX///+IiIgiIiIQEBB2dnbu\n",
       "7u5ERETMzMzc3NwyMjK6urpmZmaYmJiqqqpUVFQAAAB6qHgnAAAAAXRSTlMAQObYZgAAAAlwSFlz\n",
       "AAAOxAAADsQBlSsOGwAABS9JREFUWMOtWFtoHFUY/jfZ2Zmd3U3G9kkoGGO9QCkNoWIoRgYvAcXC\n",
       "2IoYC2ZBs0gvsloFn8xCbIhU3K00Ilhlvb340rWGWC3KlDxI+1D2oQ8FC40KhT6IKTS41YZ4LjPn\n",
       "smd290yY/+EjZ3Lm3+/8578OgI7kmhx1ZdKDhMRY0N76i4C6Yt6fFFF4U/fM+RpHfbmUGNH8iubG\n",
       "ox5Hfck0E2N6RHPfSQFl+ZXglfbHKeJaD2/OfGX12X49GxXWOLbJbqK6DnD8Lul5I75Ph9LvYpT1\n",
       "5fTuvs/lGCUvI+tNZ9Ghc+zR1xiqlSiD1aXlxQ6BjvQRbVSl1dIiOuNxjJKfkD/62CMz7BGmDZmo\n",
       "o/0mX1ajg38jfVYRUyyS9ataRK8L2CanMAwh40E2IGrt2thoQRoHUn4kwlRy6phUd2R9CPSdx0sC\n",
       "sKxF9I6AEUQt9NtLMFimRA+86LuBpaz1KFNJy8MdiBJ9ffhaCEC1CcRNr3bN3C2OKtHnwUa388CT\n",
       "fwMl6qWOIaI2ubEd6guz0soaiSJquFRfCnMjAH0N7GAAn3TNF6scVaJHKwWkqgXnYKn0SqnkQ8ZE\n",
       "1jQJ0R/VFxbl0uxGETXHiD4wcJ4hALkavMs9toMM1DhGXT0mtQpjgUVhzl4Jg+Qe9YV/pdVgvcPV\n",
       "U32nWBikVkl8prvWkP4Vjp2CaYE0LITodza6z5SD/7ym5G5zLSKfRBCl+pYghMI/kEfPs11jadDl\n",
       "KKXP0QYl+hrKm3shJLoAqBvJkBQ6oxggNSQtt7TnhD93UKJU31YGJorL0eHh3d2J+gzfKh5/likd\n",
       "vfqYkN0ZUSIvEJzyo92IyQ1EYcJaZNv271wWL+60F4KBcs4PANNdiVabDN1D7hPsN4egSm8uF1Yg\n",
       "XpnO0iMSB8gNEyEMMnI0lJDbZRbTLPb/AEv0jZlyCHAT4EOw2CnCClvY/ukNh21vhmj5H/GwRSYO\n",
       "k+JTHeqk6i5Z2dM/B/ggO8Rj/46cWav1EOAWOqSXrgsVFuCN6wfBcdPvsQuoh2h6NOsbtzHzjY2N\n",
       "4BcMpf4EZ1EKJMqHMEkM/GCQaN+mngVTyClMpPKWsHuqHgL8h6znZMUKCznkC+A4+edUi4IdXAzO\n",
       "5DNX5ud7dF8qUdWi1AfpEcz1+fljokXLIWCiUEPltPDz+bNBhd0GhGjqQATRnBC0g07P2qv6aATR\n",
       "M8L6Zls3VAmB/Gcvmp3yX/mf0QprEHd33Llt7Fw+Q7HVy6G+uAIa+UKK+qLS7mwX1t97YEVGPek0\n",
       "ZtEp37kAZVqxbaLcWZrgnuIwrAqVxLjv4pYeRq2qeVQu7ihHWmKt2vfoF/cKy2UGpL8ZwE7wO17i\n",
       "Cpv/uFQ6gq7+GfYj/Q2GX0qFeteJXo2sUiFtuTIha9lSCThz22kffgmY7Dh7IKiwpkt99FuWc7JF\n",
       "jvHkmhpse+TqXO/6Pq/1bA6yVgE1V6TCTlMfTbNgyo1wjCePb6Z7EpyLd0/p0O7mCpjjtMLOIU+w\n",
       "T5w0zoXVLr/GMZ68HjF5yz3KSM9xns70GTFbFIJzTJQOygdb5xhPIoaCATm+/uo6VFZCkPPHN51e\n",
       "OCRgHLFbm5mZuAgz02kxEfqdXliOMV+Jko7qtS/LU2gXJxWn0Ke1fpBW26l67E8JzU3P9STSvBAA\n",
       "xmNYJl2LS3RrYt+eUpop5xEBY8h4YkT7Nb+3XRAwhhlqiRG9W3MfGWMC1JfZSlI8rTHNjcZDHLXF\n",
       "2JmYQfdpf2l93+Oo/R3XT4zoYX3blznqykuJ8TRwRvsfkZdmH6XlmoIAAAAASUVORK5CYII=\n",
       "\" style=\"display:inline;vertical-align:middle;\" /></a><br>"
      ],
      "text/plain": [
       "<IPython.core.display.HTML object>"
      ]
     },
     "metadata": {},
     "output_type": "display_data"
    }
   ],
   "source": [
    "complex_polar_negation = Forall(\n",
    "    (r, theta), Equals(Mult(r, Exp(e, Mult(i, Add(theta, pi)))),\n",
    "                       Neg(Mult(r, Exp(e, Mult(i, theta))))),\n",
    "    domain=Real)"
   ]
  },
  {
   "cell_type": "code",
   "execution_count": 32,
   "metadata": {},
   "outputs": [
    {
     "data": {
      "text/html": [
       "<strong id=\"complex_polar_radius_negation\"><a class=\"ProveItLink\" href=\"proofs/complex_polar_radius_negation/thm_proof.ipynb\">complex_polar_radius_negation</a> (conjecture without proof):<br></strong> <a class=\"ProveItLink\" href=\"../__pv_it/theorems/1a4b77cd703658ad795493650c7ac0ed82cea39a0/theorem_expr.ipynb\"><img src=\"data:image/png;base64,iVBORw0KGgoAAAANSUhEUgAAAUoAAAAmBAMAAABQRs+jAAAAMFBMVEX///+IiIgiIiIQEBB2dnbu\n",
       "7u5ERETMzMzc3NwyMjK6urpmZmaYmJiqqqpUVFQAAAB6qHgnAAAAAXRSTlMAQObYZgAAAAlwSFlz\n",
       "AAAOxAAADsQBlSsOGwAABR9JREFUWMOtWF9oHEUY/+7P3u3dbnorfVEQjKGKWAJBrIZg4ZAaUEg4\n",
       "aymoDz2hPUpN5WxRBMEsRkOLxTulFcEUIpE++GDPGlO1VK4EhPRBDu2LKPZUKPjkFRqa1oY4883u\n",
       "zOyf25vbOA+/ZGd3fvPN938OQGUYLYFxx/OlWMu0U8qffi9h3JF9IN66I6qnM+sC448f4y0z24of\n",
       "Hi0JjD8yMR3msOJ3JyXscfAqxQHbP29RD9uhqr2q5/E5Ne0MrArsMVJFipcB3rvLG379+DUj4QyG\n",
       "msmTRYFKYdkG7UCOaqDhTuXp4podprj5LiSEAc8G+prSrtMlgUp5ax4yTfTCMp+j+SQTds5fu3kx\n",
       "YdDZ+v1Ku16TELz60H2f5ppU60RtkHOlfHtjY8OGCaq2kRCVhSQOJEGGS/i8rCTlHQkT3kDNWyEb\n",
       "HAdYgkKVSal9fSLtqExfD1NZFymRIYn2q7UAXfO3yHS8JhCu+F7e699AK8IZgAd3/QOOlHD3HvLf\n",
       "Gfq4PUg+A2FSEhJkSKB0yQZ8R/9+HJkYOgIDBsqVfBtkR+F3gDW4AEal8lhlioj6JnnxOn37bZB8\n",
       "MVRKQkIZQMO8YtThLWqKcpSUW+oCDb+BzEbQWESiDow6uiTkX7hBcl+Q/DZ0sThjmEMv66Ay0pFV\n",
       "IdWWMPB2R2j0nGKdCZXSsBYIYvK7Wg1402o3KRnDEmbqm2CSqVxk8BSKAn8JvJ0T4frXdrZBxobP\n",
       "JsCVMleiMXAQk1lAG4lBf8y7JIxhKx6FRN0jQ0OPRkvZFCi5UXZcXyRzk6KSDS+3RQrnUrLN8b99\n",
       "zTBvcoh8JGycpW6vkfRyHuBApJS1lkChOUhnFtMkAa7wiT9Bd+z3jTvFndbANFvAvGUM4UBhMmVO\n",
       "5CdhBQV95DrA+6Bz6fUvWf4b2PbJ3zwTMjsxHBYEJ3KDBlHaz3JanXIOEChTlyXf8bhgmxP5SZiG\n",
       "sH7eIMcppXkp3VsilezVa4fAKqbf4VqfFzhG9P8hqqL6GvOBaTQlNRypMTecJQEp2UShEWgRyIxD\n",
       "pN0CLwkS467/Er1ZInimSDNnnKedlmU+G6bLMb/PwIK7WXb92LF3o4tYUEqqS4cIc76fpFZ1pIQ6\n",
       "qZYDFy8RZ9I7cJpVE8tKvNjD4nAO8Sf+fL1nqQ36JUp5TvrERzJtu5MTxMrmQvM0WV+GmywareIs\n",
       "r321psCXJIZtiD/w569KgeYjNFt4YrzMiUJJmJppCzFDzvPGChDdJvdPdvLIZC2NC9+wBE5K7dBt\n",
       "X4nb/cSn94NCtvDkyxFOFEqC7RB2KVuo7f/As9pGw/yoUjlMLP4MZ0w1BB6R2iGWkB+WXOCW1aNR\n",
       "DXS8+VVOFEqC7X2WHwPDogApO1tkfvn5U9zDywKT/hqnD/Zxz7oabKTHolfMee4yJG5gDylmF50U\n",
       "TzIRjx5jRKDpj1Kj2YeUT6r1RFK9RPnSriayxDePtvK7iJlnibryH5zULrhNmrkqkNVjacz2c2d9\n",
       "JeQSrXAXz3iuZ8wTtfHKIe+B1gXCXh/PwX6kvBPSFka2Y0k7kBry3a5fL0uoewMkYfchZH5N7d4j\n",
       "Brv3nJU3Mbt9u9zHHSlqpMMkuhKxwOnOn1ZiZ8V03/xmpUy1+riPY2gy6+7sQwfp+mal3BpvWWJE\n",
       "7bvHJdzE2Pk/miBkrEgYfyRiGuMexe/wIuJg/DFjx1qmj6r+PPWQwNhDG463brfyz57HSwJj/8ga\n",
       "0xRT6lqvCow7XohpApqp/gPnOGAarYRi2AAAAABJRU5ErkJggg==\n",
       "\" style=\"display:inline;vertical-align:middle;\" /></a><br>"
      ],
      "text/plain": [
       "<IPython.core.display.HTML object>"
      ]
     },
     "metadata": {},
     "output_type": "display_data"
    }
   ],
   "source": [
    "complex_polar_radius_negation = Forall(\n",
    "    (r, theta), Equals(Mult(Neg(r), Exp(e, Mult(i, Add(theta, pi)))),\n",
    "                       Mult(r, Exp(e, Mult(i, theta)))),\n",
    "    domain=Real)"
   ]
  },
  {
   "cell_type": "code",
   "execution_count": 33,
   "metadata": {},
   "outputs": [
    {
     "data": {
      "text/html": [
       "<strong id=\"exp_2pi_i_x\"><a class=\"ProveItLink\" href=\"proofs/exp_2pi_i_x/thm_proof.ipynb\">exp_2pi_i_x</a> (conjecture without proof):<br></strong> <a class=\"ProveItLink\" href=\"../__pv_it/theorems/ec0b8bf6bc2c3ba2572132ff4567a8b5d45897220/theorem_expr.ipynb\"><img src=\"data:image/png;base64,iVBORw0KGgoAAAANSUhEUgAAASAAAAAmBAMAAACWg1saAAAAMFBMVEX///+IiIgiIiIQEBB2dnbu\n",
       "7u5ERETMzMzc3NwyMjK6urpmZmaYmJiqqqpUVFQAAAB6qHgnAAAAAXRSTlMAQObYZgAAAAlwSFlz\n",
       "AAAOxAAADsQBlSsOGwAAA/pJREFUWMO9Vl1o01AUPt2SJmvTGkVRZ4U6FYShlqH4g0p8UFAc1OmL\n",
       "CFsF3WA6qM4H9cGVTcd80FWcIgyxIijzb2OCin90zhd1QkQFH/YwFQb6pKL4O+Y5aZM2M4m3OnKh\n",
       "yUnu6b1fvvOdcy4A0/CrdjMXLd49j2YNTxQKGPxJdt/72fvVGSnjnZCkS9rCu8TA0VMIINjDjF9K\n",
       "Zo0I/8E84wVHQFcKAiQNsXo26jskhAheu5Ytw08XY2geAuFhiHjgdw68f5EWZk4FobKf3KW7AzIE\n",
       "rdfzPbude9ifMxtYAXXkGElBAlKKgtgQUAIGQRJiCs10QYOY3ILsFEERAQpMFlVrAgGKocby/SbG\n",
       "mAW+GOZNEMPAKzG8iTE0n6JyZW3mGtTxyQuIeH82ZHUUPOsFRWgknk6c6MRbK0kxQ7OfMWZFim5x\n",
       "UdqdS82FbMh2g8cb14R9mQBVITtZhiBiJzEa9QjKx3GErRV/WZrFb2yAmgwmz46GiTF4qQMKQrBv\n",
       "Q5w09OZAObfSFypFDT3QREVfu9eujMShGWAz4m1GQM0GzdvZAA07JEbK8Z92ab/GQ9f1GpUUMp3m\n",
       "fjZAvxzmpjmKL279vmT0E93UgA4oSzO0q6DJaNARj+AUWR7+ddJSrT2gFYTTzvXKKIYTRgseliva\n",
       "evqTcFCXp/0IJsGt4fmg1QxOdfQqHnINUOArSGnb8mUESitD1RU947El/7bcSa4jABVlZYv+Aogy\n",
       "kq8YXGWvMupbbGPT/P48wp8M9Jnh/qJmADuc12iniAbD0G7babS+5TB6y2gsIPMNiLlGBM+Uo2bP\n",
       "jwDHQPxTI4E5ne+Mb25SMzR507Y71jGHDCnYlXd6GVuoPuO7KDem2u4ergdZ4Q7pz90034SJqdhu\n",
       "E2HFI+Ayn/Pb/pjxE8mQx2jaj0EEWZY2mhhqetXWZhsynjkPhZG2tsO5x2oLQJAkXU28NSOB4O71\n",
       "3YIQaIA8W80hk/8jtfI09NHZk6Yr8WztSQyX4LbS+fQZXquSstIaMkRN2vEvxjPZOKT99SieNpzb\n",
       "ZgvyLcE2Ac19jyDu06Qr31hrONUQOfzsx5PkcQBUteLcLPtZcYQSWlN6poG+RmynamsbMGTrjUQu\n",
       "1iqif+HxcSnGvd8dvkv4YVgRjcjlaCkZDV1aYxwWYu61Dr1GtXBJP2wGkfr6joyGOEPU/ohrgLiw\n",
       "vmfp6inQqAqUvq0YQt/xDv6O3uSlL64B8prrR0Y1/NraenOVGXEN0ARTM/DZFb6drgHqNlUWyc6t\n",
       "3zVA69jcalJuAVrJqH23zrAe1nxe4hKgYpXR8ZFLgKazOpakXcEjLmU+mc9zBVCVyux6JOoGoF0F\n",
       "kBl3AQ9P1eU3kgMsW0PcmvwAAAAASUVORK5CYII=\n",
       "\" style=\"display:inline;vertical-align:middle;\" /></a><br>"
      ],
      "text/plain": [
       "<IPython.core.display.HTML object>"
      ]
     },
     "metadata": {},
     "output_type": "display_data"
    }
   ],
   "source": [
    "exp_2pi_i_x = Forall((x, r), Equals(Exp(e, frac(Mult(two, pi, i, Mod(x, r)), r)),\n",
    "                     Exp(e, frac(Mult(two, pi, i, x), r))), domain=Real)"
   ]
  },
  {
   "cell_type": "code",
   "execution_count": 34,
   "metadata": {},
   "outputs": [
    {
     "data": {
      "text/html": [
       "<strong id=\"exp_neg2pi_i_x\"><a class=\"ProveItLink\" href=\"proofs/exp_neg2pi_i_x/thm_proof.ipynb\">exp_neg2pi_i_x</a> (conjecture without proof):<br></strong> <a class=\"ProveItLink\" href=\"../__pv_it/theorems/1a15d977e3305b98039a6b36a3e2a26745948c760/theorem_expr.ipynb\"><img src=\"data:image/png;base64,iVBORw0KGgoAAAANSUhEUgAAAU0AAAAmBAMAAACymtTaAAAAMFBMVEX///+IiIgiIiIQEBB2dnbu\n",
       "7u5ERETMzMzc3NwyMjK6urpmZmaYmJiqqqpUVFQAAAB6qHgnAAAAAXRSTlMAQObYZgAAAAlwSFlz\n",
       "AAAOxAAADsQBlSsOGwAABDhJREFUWMPFWH+IDFEc/+7tzM7s7uzdCBEn56LURZtIRA3FH6LWj39Q\n",
       "bv3hru7QXichucud6ySs/EhJVor8FuXXoT2nxB2tkH+UQ12RP5ArynW+3zc742ZvZvZtVvPt7fTe\n",
       "vPc+7/O+v96bBeCScGZoK5QYPuKczayXsWzFF6PiJufsX4/G3+oYcMsDS2snhF7cNVtSkh5pm1lB\n",
       "c4VrrDgLTr88PmWFZPqhxhRumkrS0oyDH6qtIwLgyvMSK86C06Pi1+HvQ7T959w8Gy2qlzWQoZFQ\n",
       "Dh8+gc04VltBelROKhPrez6/SksTxoC0rItN6+7phFKg4iytAM1SFCvn58y5loXcuaAboJc2keHl\n",
       "ecTSitAm65BrSBAQH0Gb4S0oUlyj3vOwSU6uRl2WQAnj+ULbT/oKuC3wluikECelaQZkeqtApsOt\n",
       "z+KkGek3avs6OjpSCu4vnIDdAKsCIFfIcbkCnmGwqGzIFagVk2dx1e1Zuwcw6oKs2ImMiHdpOtxC\n",
       "LBC1uAEJI/Blcnh0OEuJZnV6JLTIR7UlpDFmpAbwBRIsli4SzxWoS0Offt3/XPXZACDEaJ9CiqKG\n",
       "Qaq1iq5PONjMx7MpJzP0QnDwO1UyEYNnKZR2LqV0JX7YUSXMD5WPQ/98yGJ8Hf62sOIs6LynBivI\n",
       "dPDa4Pll1GOQmIYCGh/Pvpz2U5uMkHJFyJeXnKaH9d4oH8/fOW2fjR3Gujp4goqbOEx/o/vwgB74\n",
       "LNxckvDP3Dc2J4TohiDm6Xfszi5UBcDOlePuWd5MwGWD/yK24FyT7gDsMtzWxcmT4LFM1M82wT3h\n",
       "+3u95vkuAUraMQWb1qa0IH6sKvbq/JBNqMgZlZUz8/Ck/L1yWlcetSr3etSCeNpAOmBUp+m4gg3u\n",
       "eAfJLT6A3J/ndB0lc1wYrleSTAd7SAeMMiR/AOThiopMPvFJHap1yqEb81CoLdDudpC1jp4XiAk5\n",
       "h0FDXx2omtBqtK9iv4Qp4keedaOF0bSFtMcow8MsouaEUfgWXQJUZflQfUoD7e178oRFgWnBDtIB\n",
       "g3hCshMfI26Px8Mwcr/zNpQD4+lba7H7tyIF+RD/5Ick/4RlR+nE7gsiG+VM+qTIkr6qtZWbcUTx\n",
       "fiOGF+PiCj8kyzgtqGsF1ktY3fYEEuyTBNSbi/9mBdrNinmnJxWZJz8kyzil7Caj3zXeI+VjNTWb\n",
       "0O5LzAThZ1ey67/UIvPkh2wyI12KMhPMhezVVFUvLDI/G+Oen5vGBa1FSIZhFch0M9qg+6dgxlE4\n",
       "6jXPhSaVcQtGQ2NGorTQhn4QOnRE7DCuSUq/1zw3W5u6R4qLa+qsSW3Aa57WD4qQ0x859R7TDFk/\n",
       "KBSncV0e8xQ4L+rVKW95+jPF3c//kpG8A2d7y3M+78AnntL0cZszmPaSZ0sz70hxqoc0xWn8Y/fG\n",
       "vOMZKMCYcsI7nmvo8QcKW1pvIJoL2QAAAABJRU5ErkJggg==\n",
       "\" style=\"display:inline;vertical-align:middle;\" /></a><br>"
      ],
      "text/plain": [
       "<IPython.core.display.HTML object>"
      ]
     },
     "metadata": {},
     "output_type": "display_data"
    }
   ],
   "source": [
    "exp_neg2pi_i_x = Forall((x, r), Equals(Exp(e, frac(Neg(Mult(two, pi, i, Mod(x, r))), r)),\n",
    "                     Exp(e, frac(Neg(Mult(two, pi, i, x)), r))), domain=Real)"
   ]
  },
  {
   "cell_type": "code",
   "execution_count": 35,
   "metadata": {},
   "outputs": [
    {
     "name": "stdout",
     "output_type": "stream",
     "text": [
      "Modifying theorem zero_set_within_complex in proveit.numbers.number_sets.complex_numbers theory\n",
      "zero_set_within_complex expression notebook is being updated\n",
      "These theorems may now be imported from the theory package: proveit.numbers.number_sets.complex_numbers\n"
     ]
    }
   ],
   "source": [
    "%end theorems"
   ]
  },
  {
   "cell_type": "code",
   "execution_count": null,
   "metadata": {},
   "outputs": [],
   "source": []
  }
 ],
 "metadata": {
  "kernelspec": {
   "display_name": "Python 3",
   "language": "python",
   "name": "python3"
  },
  "language_info": {
   "codemirror_mode": {
    "name": "ipython",
    "version": 3
   },
   "file_extension": ".py",
   "mimetype": "text/x-python",
   "name": "python",
   "nbconvert_exporter": "python",
   "pygments_lexer": "ipython3",
   "version": "3.7.3"
  }
 },
 "nbformat": 4,
 "nbformat_minor": 1
}
