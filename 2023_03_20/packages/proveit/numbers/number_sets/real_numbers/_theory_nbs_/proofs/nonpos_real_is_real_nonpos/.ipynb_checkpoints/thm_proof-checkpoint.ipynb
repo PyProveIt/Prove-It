{
 "cells": [
  {
   "cell_type": "markdown",
   "metadata": {},
   "source": [
    "Proof of <a class=\"ProveItLink\" href=\"../../../../../../_theory_nbs_/theory.ipynb\">proveit</a>.<a class=\"ProveItLink\" href=\"../../../../../_theory_nbs_/theory.ipynb\">numbers</a>.<a class=\"ProveItLink\" href=\"../../../../_theory_nbs_/theory.ipynb\">number_sets</a>.<a class=\"ProveItLink\" href=\"../../theory.ipynb\">real_numbers</a>.<a class=\"ProveItLink\" href=\"../../theorems.ipynb#nonpos_real_is_real_nonpos\">nonpos_real_is_real_nonpos</a> theorem\n",
    "========"
   ]
  },
  {
   "cell_type": "code",
   "execution_count": 1,
   "metadata": {},
   "outputs": [],
   "source": [
    "import proveit\n",
    "theory = proveit.Theory() # the theorem's theory"
   ]
  },
  {
   "cell_type": "code",
   "execution_count": 2,
   "metadata": {},
   "outputs": [
    {
     "data": {
      "text/html": [
       "Under these <a href=\"presumptions.txt\">presumptions</a>, we begin our proof of<br><strong id=\"nonpos_real_is_real_nonpos\">nonpos_real_is_real_nonpos:</strong> <a class=\"ProveItLink\" href=\"../../../__pv_it/theorems/1ea54c41435196452784918ab4ee4b4636b2e30b0/expr.ipynb\"><img src=\"data:image/png;base64,iVBORw0KGgoAAAANSUhEUgAAAMEAAAAaBAMAAAD8lSVDAAAAMFBMVEX///+IiIgiIiIQEBB2dnbu\n",
       "7u5ERETMzMzc3NwyMjK6urpmZmaYmJiqqqpUVFQAAAB6qHgnAAAAAXRSTlMAQObYZgAAAAlwSFlz\n",
       "AAAOxAAADsQBlSsOGwAAAttJREFUSMe1lktoE1EUhv9JMo8kjRm19QFSNG6ELgwi+EAhLoIVIgxS\n",
       "BRHatJhYJQWhLgShGXDfVkRwUSVgKYhVs1GrlZIiWSgVowtXLiJYoaDgJlIFwTN3kpk7aRySBg/M\n",
       "5D5m7nfP4/4T4L9YaBi+Y7G2lnjjDhgEFjGDYBt7zLvNdmTodgBhXUmum3DWbVIYoZtSgbdEjqzX\n",
       "Mo12fjP9azdNyEeNnlyBpwCPBpSN7qcWAUq00aiklAPfUsDHuEnwqhBo+RfG3O0WCcFYY0IMyTFq\n",
       "zMRZlMIliBXAGGk5IeHcvwhzfqM1NmdmGpgC/BQpX6lFQlbje1sikUmLILGh8WVsxCNqPKX8FIjS\n",
       "aqI38Z37XZwPy/1mW6cT94R+N9O1LxLZ3yphxQjtl20qy/otLkrySF1KH5O3z4BUw2y6ENJ03dOl\n",
       "itH26zbh0N5dWl08L1PIoJS5oQ8nFm6Yz7sIzV1APILgTkbgMp0oUkLkNNlwdWyCakLSfLXKkLvT\n",
       "OcGH3tgaQk1oqtZDLv6Ahz03GiFLVqOUWqrzdoDWDqnWLubJJUFAUa0nWEJj++BNsreBM3y1XpPq\n",
       "ojRBS2LSEI++xV4IBTBCV94miIlOnRcaizCg4h1re3hC8Grd0coamzpJxSDukVfN3Qg+ZbBgE07p\n",
       "WZ0XGtO+EqGElZDxuqByBDG5Y20t4TolOpiXo5hlhOD5JJfpeYw6hMY0qnJJDfWY5XbHJuSxJDmP\n",
       "+yvjtoFC5c2RRr2mGigJgu8hRziMbofQWDsTPx8f38o6/Ze0mrb+1KWLfxyEBSvlulTUrjAfhMC0\n",
       "ZhHEVWROO4SGmdex0ekhUzUa2VSt4dWzsxqrA6rWOJfpg/LvokNoXLS1gYmVWivw8n0CygVDZbbH\n",
       "zj23CQ/edhYcQmMenGiThI6ys9+XTtvuS25vfm+S4NFdJqV1f6c5c/1O2wSH0FRVpLlEuH/alDb+\n",
       "L1kVQbXzF7d1rq5qNYPiAAAAAElFTkSuQmCC\n",
       "\" style=\"display:inline;vertical-align:middle;\" /></a><br>(see <a class=\"ProveItLink\" href=\"../../../__pv_it/theorems/13062fd38ade299c062e9413c58c333452d6151d0/dependencies.ipynb\">dependencies</a>)<br>"
      ],
      "text/plain": [
       "<IPython.core.display.HTML object>"
      ]
     },
     "metadata": {},
     "output_type": "display_data"
    },
    {
     "name": "stdout",
     "output_type": "stream",
     "text": [
      "nonpos_real_is_real_nonpos may now be readily provable (assuming required theorems are usable).  Simply execute \"%qed\".\n"
     ]
    }
   ],
   "source": [
    "%proving nonpos_real_is_real_nonpos"
   ]
  },
  {
   "cell_type": "code",
   "execution_count": null,
   "metadata": {},
   "outputs": [],
   "source": []
  }
 ],
 "metadata": {
  "kernelspec": {
   "display_name": "Python 3",
   "language": "python",
   "name": "python3"
  },
  "language_info": {
   "codemirror_mode": {
    "name": "ipython",
    "version": 3
   },
   "file_extension": ".py",
   "mimetype": "text/x-python",
   "name": "python",
   "nbconvert_exporter": "python",
   "pygments_lexer": "ipython3",
   "version": "3.7.3"
  }
 },
 "nbformat": 4,
 "nbformat_minor": 1
}
