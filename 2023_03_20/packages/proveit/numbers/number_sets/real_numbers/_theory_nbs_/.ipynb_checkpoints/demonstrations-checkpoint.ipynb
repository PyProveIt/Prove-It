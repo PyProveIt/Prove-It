{
 "cells": [
  {
   "cell_type": "markdown",
   "metadata": {},
   "source": [
    "Demonstrations for the theory of <a class=\"ProveItLink\" href=\"theory.ipynb\">proveit.numbers.number_sets.real_numbers</a>\n",
    "========"
   ]
  },
  {
   "cell_type": "code",
   "execution_count": 1,
   "metadata": {},
   "outputs": [],
   "source": [
    "import proveit\n",
    "from proveit import ProofFailure\n",
    "from proveit import a, b, c, n, r, x, y\n",
    "from proveit.logic import Boolean, InSet, NotEquals, NotInSet, Or, ProperSubset\n",
    "from proveit.numbers import Less, LessEq, greater, greater_eq, Neg, number_ordering\n",
    "from proveit.numbers import (\n",
    "    Complex, Rational, RationalNonZero, RationalPos, RationalNeg,\n",
    "    RationalNonNeg, RationalNonPos, IntervalCC, IntervalCO, IntervalOC,\n",
    "    IntervalOO, Real, RealNonZero, RealPos, RealNeg, RealNonNeg, RealNonPos)\n",
    "from proveit.numbers import zero, one, two, three, four, five, six, seven, eight, nine\n",
    "%begin demonstrations"
   ]
  },
  {
   "cell_type": "markdown",
   "metadata": {},
   "source": [
    "# Real Numbers and Real Intervals<br>$\\mathbf{R}$, $\\mathbf{R}^+$, $\\mathbf{R}^-$, $\\mathbf{R}^{\\ge 0}$, $[a, b]$, $[a, b)$, $(a, b]$, $(a, b)$"
   ]
  },
  {
   "cell_type": "markdown",
   "metadata": {},
   "source": [
    "<div style=\"line-height:1.4; font-size:14pt\">\n",
    "\n",
    "<a href='#introduction'>Introduction</a><br>\n",
    "<a href='#simple_expressions'>Simple Expressions involving the Real number sets and real number intervals $\\mathbf{R}$, $[a, b]$, etc</a><br>\n",
    "<a href='#common_attributes'>Common Attributes of the Real number NumberSets and real number intervals</a><br>\n",
    "<a href='#axioms'>Axioms</a><br>\n",
    "<a href='#theorems'>Theorems</a><br>\n",
    "<a href='#further_demonstrations'>Further Demonstrations</a><br>\n",
    "    <ol>\n",
    "        <li><a href='#demo01'>$2\\in(1, 3]$ and $2\\in[1, 3]$</a></li>\n",
    "        <li><a href='#demo02'>Proving $[1,2]\\subseteq \\mathbb{R}^{+}$</a></li>\n",
    "        <li><a href='#demo03'>Proving $[1,4]\\subset \\mathbb{R}^{+}$</a></li>\n",
    "    </ol>\n",
    "<a href='#misc_testing'>Misc Testing (temporary)</a><br>\n",
    "</div>\n"
   ]
  },
  {
   "cell_type": "markdown",
   "metadata": {},
   "source": [
    "## Introduction <a id='introduction'></a>"
   ]
  },
  {
   "cell_type": "markdown",
   "metadata": {},
   "source": [
    "<font size=3><br>The real numbers (or more simply, the “reals”), symbolized by $\\mathbb{R}$, consist of the set of all rational numbers, $\\mathbb{Q}$, such as $-10$ or $\\frac{4}{3}$, and the set of all irrational numbers, such as $\\pi$ and $\\sqrt{2}$.<br>\n",
    "The reals, various common subsets of the reals, and various open, closed, and half-open real intervals are ubiquitous in proofs and are easily represented and accessed in Prove-It.</font>"
   ]
  },
  {
   "cell_type": "markdown",
   "metadata": {},
   "source": [
    "## Simple Expressions Involving Real NumberSets and Real Intervals<a id='simple_expressions'></a>"
   ]
  },
  {
   "cell_type": "markdown",
   "metadata": {},
   "source": [
    "<font size=3>The real numbers $\\mathbb{R}$ and some standard real-valued subsets of the reals have standard names in Prove-It and can be imported and called upon as desired.</font>"
   ]
  },
  {
   "cell_type": "code",
   "execution_count": 2,
   "metadata": {},
   "outputs": [
    {
     "data": {
      "text/html": [
       "<a class=\"ProveItLink\" href=\"../__pv_it/common/93cac87a1a47e613f7a83b23ef7891599a1a4cca0/expr.ipynb\"><img src=\"data:image/png;base64,iVBORw0KGgoAAAANSUhEUgAAAA8AAAAPBAMAAADJ+Ih5AAAAMFBMVEX///+IiIiqqqpmZmbMzMx2\n",
       "dnbu7u66urpUVFTc3NwiIiJEREQQEBAyMjKYmJgAAAA9S0TaAAAAAXRSTlMAQObYZgAAAAlwSFlz\n",
       "AAAOxAAADsQBlSsOGwAAAGFJREFUCNdjeHt6/63TDxiAYMMMhorXCSDGVAZulgYIg3nCBRhjA4TB\n",
       "kQaV8tadAGLMufVLDKx96rtcBgiDOw9i4FQWg20QBoPJbCgjmxEkt2EyA9+D7QwMQNt3Muy+rwAA\n",
       "UbUqpptLVNkAAAAASUVORK5CYII=\n",
       "\" style=\"display:inline;vertical-align:middle;\" /></a>"
      ],
      "text/plain": [
       "Real"
      ]
     },
     "metadata": {},
     "output_type": "display_data"
    }
   ],
   "source": [
    "# The real numbers\n",
    "Real"
   ]
  },
  {
   "cell_type": "code",
   "execution_count": 3,
   "metadata": {},
   "outputs": [
    {
     "data": {
      "text/html": [
       "<a class=\"ProveItLink\" href=\"../__pv_it/common/174917e13d50b91c585b7f765a2896383a3ae8010/expr.ipynb\"><img src=\"data:image/png;base64,iVBORw0KGgoAAAANSUhEUgAAABsAAAASBAMAAABY9biuAAAAMFBMVEX///+IiIiqqqpmZmbMzMx2\n",
       "dnbu7u66urpUVFTc3NwiIiJEREQQEBAyMjKYmJgAAAA9S0TaAAAAAXRSTlMAQObYZgAAAAlwSFlz\n",
       "AAAOxAAADsQBlSsOGwAAAHlJREFUGNNjYIADZgYUwI2F+/b0/lunHyBkN8xgqHidgOBOZeBmaWCw\n",
       "3r1n9+4HYC7zhAvIsswTNiBzOdIakLneuhMQ3Dm3fokhXLVh6rtcJMdsmMqd9wCZy2KwDZnLYDIb\n",
       "hZvNiFC9YTID34PtMB7QRzsZdt9XgPAAdmcvDFkzAJkAAAAASUVORK5CYII=\n",
       "\" style=\"display:inline;vertical-align:middle;\" /></a>"
      ],
      "text/plain": [
       "RealPos"
      ]
     },
     "metadata": {},
     "output_type": "display_data"
    }
   ],
   "source": [
    "# The positive real numbers\n",
    "RealPos"
   ]
  },
  {
   "cell_type": "code",
   "execution_count": 4,
   "metadata": {},
   "outputs": [
    {
     "data": {
      "text/html": [
       "<a class=\"ProveItLink\" href=\"../__pv_it/common/22049b0ceade1b5eb1b88ec78deb486d547c9b580/expr.ipynb\"><img src=\"data:image/png;base64,iVBORw0KGgoAAAANSUhEUgAAABsAAAAPBAMAAADnvanrAAAAMFBMVEX///+IiIiqqqpmZmbMzMx2\n",
       "dnbu7u66urpUVFTc3NwiIiJEREQQEBAyMjKYmJgAAAA9S0TaAAAAAXRSTlMAQObYZgAAAAlwSFlz\n",
       "AAAOxAAADsQBlSsOGwAAAG1JREFUCNdjeHt6/63TDxjgYMMMhorXCQjuVAZulgYG791AMAHMZZ5w\n",
       "AVmWecIGZC5HWgMy11t3AoI759YvMSSLpr7LZUDmcuchO2Mqi8E2ZC6DyWwUbjYjQvWGyQx8D7bD\n",
       "eEAf7WTYfV8BwgMABQIubXu08MoAAAAASUVORK5CYII=\n",
       "\" style=\"display:inline;vertical-align:middle;\" /></a>"
      ],
      "text/plain": [
       "RealNeg"
      ]
     },
     "metadata": {},
     "output_type": "display_data"
    }
   ],
   "source": [
    "# The negative real numbers\n",
    "RealNeg"
   ]
  },
  {
   "cell_type": "code",
   "execution_count": 5,
   "metadata": {},
   "outputs": [
    {
     "data": {
      "text/html": [
       "<a class=\"ProveItLink\" href=\"../__pv_it/common/e6ce8d0e09d7926fae58282b7d1defa502e2c9ba0/expr.ipynb\"><img src=\"data:image/png;base64,iVBORw0KGgoAAAANSUhEUgAAACQAAAATBAMAAAAKUbK+AAAAMFBMVEX///+IiIiqqqpmZmbMzMx2\n",
       "dnbu7u66urpUVFTc3NwiIiJEREQQEBAyMjKYmJgAAAA9S0TaAAAAAXRSTlMAQObYZgAAAAlwSFlz\n",
       "AAAOxAAADsQBlSsOGwAAAMdJREFUGNNjYIAC7wIwFSrKAAds0QpAkk+AfQNCjEH6AQMDjwPDTyQh\n",
       "htcCDPMTGA4xvD29/9bpBxCxNxP8ExjWMTBsmMFQ8ToBJJK6nQEodBAoNJWBm6UBKDK5hQGk8RNY\n",
       "iHnCBQaGGUARqPFgoQ0MGZYgvYwC7A1gIY60BoY0iA2hwglgIW/dCciOYdgw59YvMQZUoanvckF+\n",
       "3A0EE2BC3HkP0FWxGGxDF2IwmY0hlM2IqnPDZAa+B9uRRYAhsZNh930FhAgAe4FDGUEsXK8AAAAA\n",
       "SUVORK5CYII=\n",
       "\" style=\"display:inline;vertical-align:middle;\" /></a>"
      ],
      "text/plain": [
       "RealNonNeg"
      ]
     },
     "metadata": {},
     "output_type": "display_data"
    }
   ],
   "source": [
    "# The non-negative real numbers [0, Inf]\n",
    "RealNonNeg"
   ]
  },
  {
   "cell_type": "code",
   "execution_count": 6,
   "metadata": {},
   "outputs": [
    {
     "data": {
      "text/html": [
       "<a class=\"ProveItLink\" href=\"../__pv_it/theorems/c34caf191836023a2e00a70eca44f5973ba282830/expr.ipynb\"><img src=\"data:image/png;base64,iVBORw0KGgoAAAANSUhEUgAAAEoAAAAUBAMAAADYerbFAAAAMFBMVEX///9ERES6uroQEBAyMjLc\n",
       "3NyYmJgiIiJmZmaqqqp2dnbMzMxUVFSIiIju7u4AAAAd7oVFAAAAAXRSTlMAQObYZgAAAAlwSFlz\n",
       "AAAOxAAADsQBlSsOGwAAAS9JREFUKM9jYMANNiqAqVW3GPABvoUTgCTbBSYBvMoYLiYwMDBvYPiK\n",
       "XxVD4gWG+AcMltikUgzl3Q0TIOzkgP0PGMqwmiAQw6CT+ADEeiXEAFRli11VFAMj9wEgI+I0A8jG\n",
       "n7hUcQQ4MDDEABVhuJ5XvLwEoUqA4U0rWPQC0wEkRUy+DxBm8bw7wPAOwlt1Ayj+9s7rVaDQYwh5\n",
       "gGTjxikBKI5o4D3LUQBiuCLcFez+/R6KIrYAtn884MBxQHJ92hNQPAoCAcRIbgYOiDS3eXl5eSFU\n",
       "FeOzBDR/M1+AxK0AklncDXJoqvQD+MDuLkAOr+5AFDUPFQ4zcIFZd5FVPeRFsXL+vmYGTTCLZQJc\n",
       "VQQDW4IQsqoXdznbINJ8B/XgaUKUQdB/AvbExLQQGkMYAADvLE/718ii1wAAAABJRU5ErkJggg==\n",
       "\" style=\"display:inline;vertical-align:middle;\" /></a>"
      ],
      "text/plain": [
       "x in RealNonNeg"
      ]
     },
     "metadata": {},
     "output_type": "display_data"
    }
   ],
   "source": [
    "# An example claim that x is a non-negative real number\n",
    "InSet(x, RealNonNeg)"
   ]
  },
  {
   "cell_type": "markdown",
   "metadata": {},
   "source": [
    "<font size=3>Open, closed, and half-open real intervals are also easy to express and easy to utilize in larger expressions, with the following constructions:\n",
    "<table>\n",
    "    <thead><td>real interval</td><td>Prove-It construction</td></thead>\n",
    "    <tr><td style=\"font-family:courier;text-align:center\">(a, b)</td>\n",
    "        <td style=\"font-family:courier;text-align:left\">IntervalOO(a, b)</td></tr>\n",
    "    <tr><td style=\"font-family:courier;text-align:center\">(a, b]</td>\n",
    "        <td style=\"font-family:courier;text-align:left\">IntervalOC(a, b)</td></tr>\n",
    "    <tr><td style=\"font-family:courier;text-align:center\">[a, b)</td>\n",
    "        <td style=\"font-family:courier;text-align:left\">IntervalCO(a, b)</td></tr>\n",
    "    <tr><td style=\"font-family:courier;text-align:center\">[a, b]</td>\n",
    "        <td style=\"font-family:courier;text-align:left\">IntervalCC(a, b)</td></tr>\n",
    "</table>\n",
    "</font>\n",
    "For example:"
   ]
  },
  {
   "cell_type": "code",
   "execution_count": 7,
   "metadata": {},
   "outputs": [
    {
     "data": {
      "text/html": [
       "<a class=\"ProveItLink\" href=\"../__pv_it/demonstrations/16fda408e47437f3fe6698724aea468e942b0b860/expr.ipynb\"><img src=\"data:image/png;base64,iVBORw0KGgoAAAANSUhEUgAAAFEAAAAVBAMAAADMaB9/AAAAMFBMVEX///9ERES6uroQEBAyMjLc\n",
       "3NyYmJgiIiJmZmaqqqp2dnbMzMxUVFSIiIju7u4AAAAd7oVFAAAAAXRSTlMAQObYZgAAAAlwSFlz\n",
       "AAAOxAAADsQBlSsOGwAAAYJJREFUKM9jYMAKAgjw4YB3ApqALi6Vs5DYfMIFQK0J2BXyOSDzWBqA\n",
       "hB92lRwoJvCDnJKB6jrx8hIwgxlFWP8BSOgBkgiTL4w3BUXlcrATgNa8vfN6FdirIXBtXUDMeurq\n",
       "BQjP5+5JBgauAwwMDbxnOQpAIq5wU9yAWDmA8R/Ee18evA9gYHNgYAtg+8cD9gHCw5VAeTMGiH4G\n",
       "zn8MzBcYOA0YuBk4IEq4zcvLywvBTCOg9z8wsC+ABIQDA/8CBu4PIG9B3MMnADcTqJJZgOG9ApgD\n",
       "1KA/gYHJABQKAXxgvxQg2/7+AkM+PDj7HzBwFjA8VDjMwAUWugtXKQtUOYHhCGcAH0jlBqCbGdgE\n",
       "GObva2bQhMQaPFmsYWBgvMBZwcHwHugFngRGYHRyLGB4cZezDaKE76AeVOV2IOfs6pjbDOx1QNap\n",
       "NpBrFZAjg2khNDbZN8CE5sEY4dhTCFsDjLUAxmjDkT5FYckPGqEMrAI4VD6EpS6YACOu7MF6AU3g\n",
       "KgMDACrcVALutfPUAAAAAElFTkSuQmCC\n",
       "\" style=\"display:inline;vertical-align:middle;\" /></a>"
      ],
      "text/plain": [
       "x in (a,b)"
      ]
     },
     "metadata": {},
     "output_type": "display_data"
    }
   ],
   "source": [
    "# Claim that x is a real number in the open interval (a, b)\n",
    "# Notice the IntervalOO uses two 'ohs', not zeros, standing\n",
    "# for 'open' at each end\n",
    "InSet(x, IntervalOO(a, b))"
   ]
  },
  {
   "cell_type": "code",
   "execution_count": 8,
   "metadata": {},
   "outputs": [
    {
     "data": {
      "text/html": [
       "<a class=\"ProveItLink\" href=\"../__pv_it/demonstrations/94653d4d9ff51ae949f362ccb12e282fb84062d90/expr.ipynb\"><img src=\"data:image/png;base64,iVBORw0KGgoAAAANSUhEUgAAAE4AAAAVBAMAAAAazcUaAAAAMFBMVEX////c3NwyMjK6urpEREQi\n",
       "IiLMzMwQEBCqqqp2dnZUVFSYmJhmZmaIiIju7u4AAADlKNhoAAAAAXRSTlMAQObYZgAAAAlwSFlz\n",
       "AAAOxAAADsQBlSsOGwAAAWdJREFUKM9jYMAGBND4V8OwKuNtQBeZjFVdJzLnSSkudXwKKFwdXOp4\n",
       "NqBwf6CruxIaCjaJHUUZ8z80dUb3oIwmFHWcAWB1fHc2MLwC8Rn1YDInQbyVFy9AeExrbzUA1XFy\n",
       "FDDsB/PhgaYNxOYCLP8gvPd6fB+B6jJ4AhiWgNXBbYoAermagScAwut/wFALVPeA/QKQBoL0UCBw\n",
       "ALGKgV7+wMA6AaLuEAPDT5A/7B+wfQOHJ9w8oDp2B4b3BhBeJAPzD5C6Qwy8BSA+K7K97y9AHA0O\n",
       "Pp5/IHVeDCwLwJF6AabOF6iugWERhwAfiPeN4fkGkLpTDPaQ8NeAqZvFwMBygSOGh+E9KNhXM/iA\n",
       "w/nV3POQEHnl/ACiLhXo37XTpK4xsMaBhOdsgMbHJKg5lq6QeGNNgJnch0hXnAp8FWjpgPsAjDUB\n",
       "oY71AtcE9ATjCEtgFxDqOPYexkhYsKDkJZCeGS+g549iAGBgXKOq810MAAAAAElFTkSuQmCC\n",
       "\" style=\"display:inline;vertical-align:middle;\" /></a>"
      ],
      "text/plain": [
       "y in (a,b]"
      ]
     },
     "metadata": {},
     "output_type": "display_data"
    }
   ],
   "source": [
    "# Claim that y is a real number in the half-open interval (a, b]\n",
    "# Notice the IntervalOC uses an 'ohs', not a zero, standing for\n",
    "# 'open' on the left side\n",
    "InSet(y, IntervalOC(a, b))"
   ]
  },
  {
   "cell_type": "code",
   "execution_count": 9,
   "metadata": {},
   "outputs": [
    {
     "data": {
      "text/html": [
       "<strong id=\"interval_C1bO\">interval_C1bO:</strong> <a class=\"ProveItLink\" href=\"../__pv_it/demonstrations/dd100b46a1503d63de90ef334d37776fb38dbd0c0/expr.ipynb\"><img src=\"data:image/png;base64,iVBORw0KGgoAAAANSUhEUgAAACYAAAAVBAMAAADY/YGeAAAAMFBMVEX///9ERESqqqqYmJgQEBDc\n",
       "3NwyMjJmZmZUVFTu7u66urp2dnbMzMwiIiKIiIgAAADqGnFKAAAAAXRSTlMAQObYZgAAAAlwSFlz\n",
       "AAAOxAAADsQBlSsOGwAAAMdJREFUGNNjeHuHAQWwAvEuVCEGrgdgMZ6bUP5EXyDxGCQ2o+wnTFE6\n",
       "ELNNAKnjg4t9AmLmAhQxLjDDE0WM+wKITEYRY+t7ocDAsANFbH4m51cGBjMUMf0JDH4MDCooYmUM\n",
       "DL8ZGM6jiN1m4AK6ZgmK2CcGdiBTFybGCRL7wzDFgIHBECTGDbRsfgJQrJlBHEhWA8U4Wr41M/CC\n",
       "wmHGdqAyhlvwsNKEB+AFuNgGmBi7AUyM8wFMLBAeznzwgBZlYNiLFh98AQwABBBAjLkKrEYAAAAA\n",
       "SUVORK5CYII=\n",
       "\" style=\"display:inline;vertical-align:middle;\" /></a><br>"
      ],
      "text/plain": [
       "<IPython.core.display.HTML object>"
      ]
     },
     "metadata": {},
     "output_type": "display_data"
    },
    {
     "data": {
      "text/html": [
       "<strong id=\"interval_C23C\">interval_C23C:</strong> <a class=\"ProveItLink\" href=\"../__pv_it/demonstrations/dd69d6d0b6f02dd69fc8601d09b2bc2324d77f4c0/expr.ipynb\"><img src=\"data:image/png;base64,iVBORw0KGgoAAAANSUhEUgAAACUAAAAVBAMAAAAzyjqdAAAAMFBMVEX///+qqqqYmJju7u4QEBBU\n",
       "VFREREQyMjJmZmbc3Ny6urp2dnbMzMwiIiKIiIgAAABHW2K4AAAAAXRSTlMAQObYZgAAAAlwSFlz\n",
       "AAAOxAAADsQBlSsOGwAAAMpJREFUGNNjeHuHAQXw3T3AsIsBDXAvAInNaM+BcDl3ty2AiHEmMOxf\n",
       "ABazYGD8CBFjncDA4gAWey/A/B0ixvKZgfUnWGzJAgaoGOsFBtY/UAsYP0HtYGDg/QAVW6sAFzv/\n",
       "ACJ0LvQAXOwqzHEwexkYOBLgLvY3gIqpQgXOMDDkC0DEGDcwzASL/TeAi51mYHjMYAAUc4Xr5bzR\n",
       "0XEB6AEGBiW4+3j///9fwHAXqJCrAxYGUFcYoIQVhMmAKWaHRewBkthe9Pi4sgAAABhMvrdOXZkA\n",
       "AAAASUVORK5CYII=\n",
       "\" style=\"display:inline;vertical-align:middle;\" /></a><br>"
      ],
      "text/plain": [
       "<IPython.core.display.HTML object>"
      ]
     },
     "metadata": {},
     "output_type": "display_data"
    }
   ],
   "source": [
    "# Or simply define some intervals of interest\n",
    "interval_C1bO, interval_C23C = (\n",
    "    IntervalCO(one, b), IntervalCC(two, three))"
   ]
  },
  {
   "cell_type": "markdown",
   "metadata": {},
   "source": [
    "## Common Attributes of NumberSet and Interval expressions <a id='common_attributes'></a>"
   ]
  },
  {
   "cell_type": "markdown",
   "metadata": {},
   "source": [
    "<font size=3>Let's look at some simple examples of real NumberSets and real Intervals, along with some of their attributesibutes.</font>"
   ]
  },
  {
   "cell_type": "code",
   "execution_count": 10,
   "metadata": {},
   "outputs": [
    {
     "data": {
      "text/html": [
       "<strong id=\"example_set\">example_set:</strong> <a class=\"ProveItLink\" href=\"../__pv_it/common/174917e13d50b91c585b7f765a2896383a3ae8010/expr.ipynb\"><img src=\"data:image/png;base64,iVBORw0KGgoAAAANSUhEUgAAABsAAAASBAMAAABY9biuAAAAMFBMVEX///+IiIiqqqpmZmbMzMx2\n",
       "dnbu7u66urpUVFTc3NwiIiJEREQQEBAyMjKYmJgAAAA9S0TaAAAAAXRSTlMAQObYZgAAAAlwSFlz\n",
       "AAAOxAAADsQBlSsOGwAAAHlJREFUGNNjYIADZgYUwI2F+/b0/lunHyBkN8xgqHidgOBOZeBmaWCw\n",
       "3r1n9+4HYC7zhAvIsswTNiBzOdIakLneuhMQ3Dm3fokhXLVh6rtcJMdsmMqd9wCZy2KwDZnLYDIb\n",
       "hZvNiFC9YTID34PtMB7QRzsZdt9XgPAAdmcvDFkzAJkAAAAASUVORK5CYII=\n",
       "\" style=\"display:inline;vertical-align:middle;\" /></a><br>"
      ],
      "text/plain": [
       "<IPython.core.display.HTML object>"
      ]
     },
     "metadata": {},
     "output_type": "display_data"
    },
    {
     "data": {
      "text/html": [
       "<strong id=\"interval_C1bO\">interval_C1bO:</strong> <a class=\"ProveItLink\" href=\"../__pv_it/demonstrations/dd100b46a1503d63de90ef334d37776fb38dbd0c0/expr.ipynb\"><img src=\"data:image/png;base64,iVBORw0KGgoAAAANSUhEUgAAACYAAAAVBAMAAADY/YGeAAAAMFBMVEX///9ERESqqqqYmJgQEBDc\n",
       "3NwyMjJmZmZUVFTu7u66urp2dnbMzMwiIiKIiIgAAADqGnFKAAAAAXRSTlMAQObYZgAAAAlwSFlz\n",
       "AAAOxAAADsQBlSsOGwAAAMdJREFUGNNjeHuHAQWwAvEuVCEGrgdgMZ6bUP5EXyDxGCQ2o+wnTFE6\n",
       "ELNNAKnjg4t9AmLmAhQxLjDDE0WM+wKITEYRY+t7ocDAsANFbH4m51cGBjMUMf0JDH4MDCooYmUM\n",
       "DL8ZGM6jiN1m4AK6ZgmK2CcGdiBTFybGCRL7wzDFgIHBECTGDbRsfgJQrJlBHEhWA8U4Wr41M/CC\n",
       "wmHGdqAyhlvwsNKEB+AFuNgGmBi7AUyM8wFMLBAeznzwgBZlYNiLFh98AQwABBBAjLkKrEYAAAAA\n",
       "SUVORK5CYII=\n",
       "\" style=\"display:inline;vertical-align:middle;\" /></a><br>"
      ],
      "text/plain": [
       "<IPython.core.display.HTML object>"
      ]
     },
     "metadata": {},
     "output_type": "display_data"
    }
   ],
   "source": [
    "example_set, interval_C1bO = RealPos, IntervalCO(one, b)"
   ]
  },
  {
   "cell_type": "code",
   "execution_count": 11,
   "metadata": {},
   "outputs": [
    {
     "data": {
      "text/html": [
       "<table><tr><th>&nbsp;</th><th>core type</th><th>sub-expressions</th><th>expression</th></tr>\n",
       "<tr><td>0</td><td>Literal</td><td></td><td><a class=\"ProveItLink\" href=\"../__pv_it/common/174917e13d50b91c585b7f765a2896383a3ae8010/expr.ipynb\"><img src=\"data:image/png;base64,iVBORw0KGgoAAAANSUhEUgAAABsAAAASBAMAAABY9biuAAAAMFBMVEX///+IiIiqqqpmZmbMzMx2\n",
       "dnbu7u66urpUVFTc3NwiIiJEREQQEBAyMjKYmJgAAAA9S0TaAAAAAXRSTlMAQObYZgAAAAlwSFlz\n",
       "AAAOxAAADsQBlSsOGwAAAHlJREFUGNNjYIADZgYUwI2F+/b0/lunHyBkN8xgqHidgOBOZeBmaWCw\n",
       "3r1n9+4HYC7zhAvIsswTNiBzOdIakLneuhMQ3Dm3fokhXLVh6rtcJMdsmMqd9wCZy2KwDZnLYDIb\n",
       "hZvNiFC9YTID34PtMB7QRzsZdt9XgPAAdmcvDFkzAJkAAAAASUVORK5CYII=\n",
       "\" style=\"display:inline;vertical-align:middle;\" /></a></td></tr>\n",
       "</table>\n"
      ],
      "text/plain": [
       "0. RealPos\n",
       "   core type: Literal\n",
       "   sub-expressions: "
      ]
     },
     "metadata": {},
     "output_type": "display_data"
    }
   ],
   "source": [
    "# The expression for our set of real positive numbers is simply a Literal\n",
    "example_set.expr_info()"
   ]
  },
  {
   "cell_type": "code",
   "execution_count": 12,
   "metadata": {},
   "outputs": [
    {
     "data": {
      "text/html": [
       "<table><tr><th>&nbsp;</th><th>core type</th><th>sub-expressions</th><th>expression</th></tr>\n",
       "<tr><td>0</td><td>Operation</td><td>operator:&nbsp;1<br>operands:&nbsp;2<br></td><td><a class=\"ProveItLink\" href=\"../__pv_it/demonstrations/dd100b46a1503d63de90ef334d37776fb38dbd0c0/expr.ipynb\"><img src=\"data:image/png;base64,iVBORw0KGgoAAAANSUhEUgAAACYAAAAVBAMAAADY/YGeAAAAMFBMVEX///9ERESqqqqYmJgQEBDc\n",
       "3NwyMjJmZmZUVFTu7u66urp2dnbMzMwiIiKIiIgAAADqGnFKAAAAAXRSTlMAQObYZgAAAAlwSFlz\n",
       "AAAOxAAADsQBlSsOGwAAAMdJREFUGNNjeHuHAQWwAvEuVCEGrgdgMZ6bUP5EXyDxGCQ2o+wnTFE6\n",
       "ELNNAKnjg4t9AmLmAhQxLjDDE0WM+wKITEYRY+t7ocDAsANFbH4m51cGBjMUMf0JDH4MDCooYmUM\n",
       "DL8ZGM6jiN1m4AK6ZgmK2CcGdiBTFybGCRL7wzDFgIHBECTGDbRsfgJQrJlBHEhWA8U4Wr41M/CC\n",
       "wmHGdqAyhlvwsNKEB+AFuNgGmBi7AUyM8wFMLBAeznzwgBZlYNiLFh98AQwABBBAjLkKrEYAAAAA\n",
       "SUVORK5CYII=\n",
       "\" style=\"display:inline;vertical-align:middle;\" /></a></td></tr>\n",
       "<tr><td>1</td><td>Literal</td><td></td><td><a class=\"ProveItLink\" href=\"../__pv_it/common/da5a5fc1f3f3ada8da2b36f3e6963bacf1c8e9fc0/expr.ipynb\"><img src=\"data:image/png;base64,iVBORw0KGgoAAAANSUhEUgAAAG8AAAAOBAMAAADTQ1+sAAAAMFBMVEX///9mZmYQEBCYmJiqqqrc\n",
       "3NwyMjK6urqIiIjMzMwiIiLu7u5UVFRERER2dnYAAACqfl3PAAAAAXRSTlMAQObYZgAAAAlwSFlz\n",
       "AAAOxAAADsQBlSsOGwAAAfZJREFUKM99Uj1oFFEQ/i63697d83ZjY5Hi7hpBwZ+F2GtjoYVZsLFQ\n",
       "L1jaeFhJBPNiIULIsUKsFExhY6FuUghKxMg1ARNiJRYHeVUMSvQwCbmoMX6zT7fyXNiZebPzzTfz\n",
       "vgWwtttO8P/n0zaNmlhouYZ+7EvLpr9nBS+jfwPzHZpb43AGQmAlxt5hyRZ/ZQVDPahzLHz1mEE1\n",
       "wvN39EclW9jKCgZ6jFrSwGVpeg24IoklMeVOVvC0B7Aew9+Q4C78lOZrTBNwjutvL01ob3FnHmp1\n",
       "LCmuuZVQNUM8Ai6sngdOEDslgBeop+tVGzSjnMO0tdqEQ+6RuGj8csWv+U4Nh+EdwHKCRXJoS279\n",
       "s8jSeo0ncLflDtx1FBrn9kzlzCRPZzETyuIH/5T+hahvEl5loLbg/EDJoNy98xH3A9560qcxiaos\n",
       "XtwEjqWwBLvpfaZC7PDlkNTmdQPBnKRGE6uNxhGwZ6FGJsk7sfUzTMDr0hAVhMkQVKAzWWiM6or4\n",
       "5blEFAR8CiE9l+RSffmd+gwJzH6c5rQ4aWVpw4nUBnueCkKDunT8DDzkFlaSUscKdTsfLyidH8Z0\n",
       "5KYfVkAhPuBMf39wQ8NZB26SrXAI6r2wzy7/JMkIg+O4OAg0BzW8VLNci81nm/fm43yFx+n2GxEP\n",
       "Dyr7xP8GT3aauqvoZIEAAAAASUVORK5CYII=\n",
       "\" style=\"display:inline;vertical-align:middle;\" /></a></td></tr>\n",
       "<tr><td>2</td><td>ExprTuple</td><td>3, 4</td><td><a class=\"ProveItLink\" href=\"../__pv_it/demonstrations/1dca9086266bab5c3c7aab5e31f247dde10e01420/expr.ipynb\"><img src=\"data:image/png;base64,iVBORw0KGgoAAAANSUhEUgAAACkAAAAVBAMAAAAp9toTAAAAMFBMVEX////MzMxUVFRERES6uroi\n",
       "IiIQEBCYmJhmZmYyMjLu7u52dnaqqqqIiIjc3NwAAACW8nlqAAAAAXRSTlMAQObYZgAAAAlwSFlz\n",
       "AAAOxAAADsQBlSsOGwAAAPdJREFUGNNjYGB4wIAKwHzeA2iiviDiNBCLLoAIcJkFAJUVABkTGLg0\n",
       "5kNFGTgbgMQsBgYOoAzDfZgoP8i4CgYGNgZkUX8Qg20Bw0kU0a1gYwoYulFEJ93VYWDgVmCYjizK\n",
       "9XPB+gcM7BMYYpBFeX4xsF1g4ElgSEEW5ZjAwL+BgfEDqijrBgb/AwwsCagmAJ3bv4CBJ4DBFiYK\n",
       "kuAX4EpnYGA3YNgEEt3/AGg9kGYqYAZ6mWMDgyiQo5Q/qYAhFKiYS7sdZLoDA6sA1AM8MJ8wPAUa\n",
       "0gBlc8MDGKTeDspeCxPkMwASi6GcCzBRZlAU8V1Ai6F7DAwA4cBAXZ7QWVkAAAAASUVORK5CYII=\n",
       "\" style=\"display:inline;vertical-align:middle;\" /></a></td></tr>\n",
       "<tr><td>3</td><td>Literal</td><td></td><td><a class=\"ProveItLink\" href=\"../../../numerals/__pv_it/common/682157d4892d216d9e5626ed533aff9b56b9506e0/expr.ipynb\"><img src=\"data:image/png;base64,iVBORw0KGgoAAAANSUhEUgAAAAgAAAAOBAMAAADgeEClAAAAJ1BMVEX///+YmJgQEBDc3Nx2dnaI\n",
       "iIgyMjJmZmZUVFTu7u4iIiLMzMwAAADHsjQhAAAAAXRSTlMAQObYZgAAAAlwSFlzAAAOxAAADsQB\n",
       "lSsOGwAAAB9JREFUCNdjYOBeycAwo+wkAwMDK8kEy2EGBo6mY40AwiwNMNzp/EYAAAAASUVORK5C\n",
       "YII=\n",
       "\" style=\"display:inline;vertical-align:middle;\" /></a></td></tr>\n",
       "<tr><td>4</td><td>Variable</td><td></td><td><a class=\"ProveItLink\" href=\"../../../../__pv_it/common/195236b98c6c564a75b5dbada74b173bc52d5c3e0/expr.ipynb\"><img src=\"data:image/png;base64,iVBORw0KGgoAAAANSUhEUgAAAAkAAAAOBAMAAAAPuiubAAAAMFBMVEX///+YmJjMzMzc3NyIiIhU\n",
       "VFR2dna6urqqqqpmZmYyMjIiIiIQEBBERETu7u4AAAD7tRWPAAAAAXRSTlMAQObYZgAAAAlwSFlz\n",
       "AAAOxAAADsQBlSsOGwAAAFBJREFUCNdj4LuzgQEIuCaASP4GEFn/AERmgwiGpS4RDAx8vx68N2Dg\n",
       "+MfA48DAuYCBP4GBO4GhvgGkfP4DBn4FvoMMDKwCvEAj+MImMjAAAMxHEV3T4g9SAAAAAElFTkSu\n",
       "QmCC\n",
       "\" style=\"display:inline;vertical-align:middle;\" /></a></td></tr>\n",
       "</table>\n"
      ],
      "text/plain": [
       "0. [1,b)\n",
       "   core type: Operation\n",
       "   operator: 1\n",
       "   operands: 2\n",
       "1. IntervalCO\n",
       "   core type: Literal\n",
       "   sub-expressions: \n",
       "2. (1, b)\n",
       "   core type: ExprTuple\n",
       "   sub-expressions: 3, 4\n",
       "3. 1\n",
       "   core type: Literal\n",
       "   sub-expressions: \n",
       "4. b\n",
       "   core type: Variable\n",
       "   sub-expressions: "
      ]
     },
     "metadata": {},
     "output_type": "display_data"
    }
   ],
   "source": [
    "# The interval expression has more structure and each\n",
    "# of the boundaries can be either a Literal or a Variable\n",
    "interval_C1bO.expr_info()"
   ]
  },
  {
   "cell_type": "markdown",
   "metadata": {},
   "source": [
    "<font size=4>We can access the left-hand and right-hand bounds of the interval combined as a simple tuple, or access each bound separately:</font>"
   ]
  },
  {
   "cell_type": "code",
   "execution_count": 13,
   "metadata": {},
   "outputs": [
    {
     "data": {
      "text/html": [
       "<a class=\"ProveItLink\" href=\"../__pv_it/demonstrations/1dca9086266bab5c3c7aab5e31f247dde10e01420/expr.ipynb\"><img src=\"data:image/png;base64,iVBORw0KGgoAAAANSUhEUgAAACkAAAAVBAMAAAAp9toTAAAAMFBMVEX////MzMxUVFRERES6uroi\n",
       "IiIQEBCYmJhmZmYyMjLu7u52dnaqqqqIiIjc3NwAAACW8nlqAAAAAXRSTlMAQObYZgAAAAlwSFlz\n",
       "AAAOxAAADsQBlSsOGwAAAPdJREFUGNNjYGB4wIAKwHzeA2iiviDiNBCLLoAIcJkFAJUVABkTGLg0\n",
       "5kNFGTgbgMQsBgYOoAzDfZgoP8i4CgYGNgZkUX8Qg20Bw0kU0a1gYwoYulFEJ93VYWDgVmCYjizK\n",
       "9XPB+gcM7BMYYpBFeX4xsF1g4ElgSEEW5ZjAwL+BgfEDqijrBgb/AwwsCagmAJ3bv4CBJ4DBFiYK\n",
       "kuAX4EpnYGA3YNgEEt3/AGg9kGYqYAZ6mWMDgyiQo5Q/qYAhFKiYS7sdZLoDA6sA1AM8MJ8wPAUa\n",
       "0gBlc8MDGKTeDspeCxPkMwASi6GcCzBRZlAU8V1Ai6F7DAwA4cBAXZ7QWVkAAAAASUVORK5CYII=\n",
       "\" style=\"display:inline;vertical-align:middle;\" /></a>"
      ],
      "text/plain": [
       "(1, b)"
      ]
     },
     "metadata": {},
     "output_type": "display_data"
    }
   ],
   "source": [
    "# the bounds extracted as a tuple\n",
    "interval_C1bO.operands"
   ]
  },
  {
   "cell_type": "code",
   "execution_count": 14,
   "metadata": {},
   "outputs": [
    {
     "data": {
      "text/html": [
       "<a class=\"ProveItLink\" href=\"../../../numerals/__pv_it/common/682157d4892d216d9e5626ed533aff9b56b9506e0/expr.ipynb\"><img src=\"data:image/png;base64,iVBORw0KGgoAAAANSUhEUgAAAAgAAAAOBAMAAADgeEClAAAAJ1BMVEX///+YmJgQEBDc3Nx2dnaI\n",
       "iIgyMjJmZmZUVFTu7u4iIiLMzMwAAADHsjQhAAAAAXRSTlMAQObYZgAAAAlwSFlzAAAOxAAADsQB\n",
       "lSsOGwAAAB9JREFUCNdjYOBeycAwo+wkAwMDK8kEy2EGBo6mY40AwiwNMNzp/EYAAAAASUVORK5C\n",
       "YII=\n",
       "\" style=\"display:inline;vertical-align:middle;\" /></a>"
      ],
      "text/plain": [
       "1"
      ]
     },
     "metadata": {},
     "output_type": "display_data"
    }
   ],
   "source": [
    "# lower bound\n",
    "interval_C1bO.lower_bound"
   ]
  },
  {
   "cell_type": "code",
   "execution_count": 15,
   "metadata": {},
   "outputs": [
    {
     "data": {
      "text/html": [
       "<a class=\"ProveItLink\" href=\"../../../../__pv_it/common/195236b98c6c564a75b5dbada74b173bc52d5c3e0/expr.ipynb\"><img src=\"data:image/png;base64,iVBORw0KGgoAAAANSUhEUgAAAAkAAAAOBAMAAAAPuiubAAAAMFBMVEX///+YmJjMzMzc3NyIiIhU\n",
       "VFR2dna6urqqqqpmZmYyMjIiIiIQEBBERETu7u4AAAD7tRWPAAAAAXRSTlMAQObYZgAAAAlwSFlz\n",
       "AAAOxAAADsQBlSsOGwAAAFBJREFUCNdj4LuzgQEIuCaASP4GEFn/AERmgwiGpS4RDAx8vx68N2Dg\n",
       "+MfA48DAuYCBP4GBO4GhvgGkfP4DBn4FvoMMDKwCvEAj+MImMjAAAMxHEV3T4g9SAAAAAElFTkSu\n",
       "QmCC\n",
       "\" style=\"display:inline;vertical-align:middle;\" /></a>"
      ],
      "text/plain": [
       "b"
      ]
     },
     "metadata": {},
     "output_type": "display_data"
    }
   ],
   "source": [
    "# upper bound\n",
    "interval_C1bO.upper_bound"
   ]
  },
  {
   "cell_type": "markdown",
   "metadata": {},
   "source": [
    "<font size=3>Many simple interval membership claims can be deduced relatively easily via `IntervalXX` methods relying on related theorems:</font>"
   ]
  },
  {
   "cell_type": "code",
   "execution_count": 16,
   "metadata": {},
   "outputs": [
    {
     "data": {
      "text/html": [
       "<strong id=\"two_in_O13C\">two_in_O13C:</strong> <a class=\"ProveItLink\" href=\"../__pv_it/demonstrations/8ab0d813787a6eb402293dc6c0666aec86e7dd7c0/expr.ipynb\"><img src=\"data:image/png;base64,iVBORw0KGgoAAAANSUhEUgAAAEwAAAAVBAMAAAAeOBUnAAAAMFBMVEX///+qqqqYmJiIiIgiIiLu\n",
       "7u4QEBBUVFS6urp2dnbMzMxEREQyMjJmZmbc3NwAAADzFso2AAAAAXRSTlMAQObYZgAAAAlwSFlz\n",
       "AAAOxAAADsQBlSsOGwAAAU5JREFUKM9jYMAC+ND4Jl7YVDEYogvMYOC7e3oBmiDjBAYGLlco5+Xc\n",
       "HSBlrxk4f6Api2FgCL/zFcJmvcAgLwBUVsfAkIam7BIQM0OVMX9kiD8AVJYfwFD/ACxi7eJyAMxI\n",
       "QFLGkcHAD1JWwsBQD3ZcjynMaQeQlAGBvAJQGRD4gwPhKEyYdwKKMg4nBrAyrs8gHs8DmDiPArIy\n",
       "LvMqiDKWArAk3BIWATRLBcDKboM5y1yAYAOIxdaAqoztK0gZE9gwhmiEMLIyrgUM3B9ByiQZ+EDO\n",
       "YsFuKf9XiDKuCQzMASBxA5gybgOoMlaQ0QUQS5/cvXsFLHsQpowT5ArOfwyg4GdgUoCEm////3/A\n",
       "suE7AqDOcWBgYC/7U8TAAor+3rs7IAECA51boJEFT12iiISEBejCGBPwKuOGRgirAV5lrBugiYgB\n",
       "rzKGx+h5IQMAfeBXcbx0MAwAAAAASUVORK5CYII=\n",
       "\" style=\"display:inline;vertical-align:middle;\" /></a><br>"
      ],
      "text/plain": [
       "<IPython.core.display.HTML object>"
      ]
     },
     "metadata": {},
     "output_type": "display_data"
    }
   ],
   "source": [
    "# here is an unproven claim\n",
    "two_in_O13C = InSet(two, IntervalOC(one, three))"
   ]
  },
  {
   "cell_type": "code",
   "execution_count": 17,
   "metadata": {},
   "outputs": [
    {
     "data": {
      "text/html": [
       "<span style=\"font-size:20px;\"> <a class=\"ProveItLink\" href=\"../__pv_it/demonstrations/8b2fa2e05af0f2de821dab39a088456dda80caf60/proof.ipynb\" style=\"text-decoration: none\">&nbsp;&#x22A2;&nbsp;&nbsp;</a><a class=\"ProveItLink\" href=\"../__pv_it/demonstrations/8ab0d813787a6eb402293dc6c0666aec86e7dd7c0/expr.ipynb\"><img src=\"data:image/png;base64,iVBORw0KGgoAAAANSUhEUgAAAEwAAAAVBAMAAAAeOBUnAAAAMFBMVEX///+qqqqYmJiIiIgiIiLu\n",
       "7u4QEBBUVFS6urp2dnbMzMxEREQyMjJmZmbc3NwAAADzFso2AAAAAXRSTlMAQObYZgAAAAlwSFlz\n",
       "AAAOxAAADsQBlSsOGwAAAU5JREFUKM9jYMAC+ND4Jl7YVDEYogvMYOC7e3oBmiDjBAYGLlco5+Xc\n",
       "HSBlrxk4f6Api2FgCL/zFcJmvcAgLwBUVsfAkIam7BIQM0OVMX9kiD8AVJYfwFD/ACxi7eJyAMxI\n",
       "QFLGkcHAD1JWwsBQD3ZcjynMaQeQlAGBvAJQGRD4gwPhKEyYdwKKMg4nBrAyrs8gHs8DmDiPArIy\n",
       "LvMqiDKWArAk3BIWATRLBcDKboM5y1yAYAOIxdaAqoztK0gZE9gwhmiEMLIyrgUM3B9ByiQZ+EDO\n",
       "YsFuKf9XiDKuCQzMASBxA5gybgOoMlaQ0QUQS5/cvXsFLHsQpowT5ArOfwyg4GdgUoCEm////3/A\n",
       "suE7AqDOcWBgYC/7U8TAAor+3rs7IAECA51boJEFT12iiISEBejCGBPwKuOGRgirAV5lrBugiYgB\n",
       "rzKGx+h5IQMAfeBXcbx0MAwAAAAASUVORK5CYII=\n",
       "\" style=\"display:inline;vertical-align:middle;\" /></a></span>"
      ],
      "text/plain": [
       "|- 2 in (1,3]"
      ]
     },
     "metadata": {},
     "output_type": "display_data"
    }
   ],
   "source": [
    "two_in_O13C.prove()"
   ]
  },
  {
   "cell_type": "markdown",
   "metadata": {},
   "source": [
    "<font size=3>Prove-It will not automatically prove our assertion that $2\\in (1, 3]$:</font>"
   ]
  },
  {
   "cell_type": "code",
   "execution_count": 18,
   "metadata": {},
   "outputs": [],
   "source": [
    "# try:\n",
    "#     two_in_O13C.prove()\n",
    "# except ProofFailure as e:\n",
    "#     print(\"ProofFailure. {}\".format(e))"
   ]
  },
  {
   "cell_type": "markdown",
   "metadata": {},
   "source": [
    "<font size=3>But we can manually prompt Prove-It to prove that $2\\in (1, 3]$ utilizing an explicit `Interval` method:</font>"
   ]
  },
  {
   "cell_type": "code",
   "execution_count": 19,
   "metadata": {},
   "outputs": [],
   "source": [
    "# # deduce the claim as a judgment\n",
    "# IntervalOC(one, three).deduce_elem_in_set(two)"
   ]
  },
  {
   "cell_type": "markdown",
   "metadata": {},
   "source": [
    "## Axioms <a id='axioms'></a>"
   ]
  },
  {
   "cell_type": "markdown",
   "metadata": {},
   "source": [
    "<font size=3>The current axioms for the `number/sets/real` theory consist of definitions of what it means for something to be an element of a real interval. For example, when we write $x\\in (a, b)$ for $a \\le b$ and $a,b\\in \\mathbb{R}$, that is equivalent to saying $x\\in\\mathbb{R}$ and $a < x < b$.<br/>\n",
    "The axiom for open intervals is shown below (and the related axioms can be found in the [axioms notebook](./\\_axioms\\_.ipynb)):</font>"
   ]
  },
  {
   "cell_type": "code",
   "execution_count": 20,
   "metadata": {},
   "outputs": [
    {
     "data": {
      "text/html": [
       "<span style=\"font-size:20px;\"> <a class=\"ProveItLink\" href=\"axioms.ipynb#in_IntervalOO_def\" style=\"text-decoration: none\">&nbsp;&#x22A2;&nbsp;&nbsp;</a><a class=\"ProveItLink\" href=\"../__pv_it/axioms/91fd9d4243b18056ed6f0bd2871364db106dd3dd0/expr.ipynb\"><img src=\"data:image/png;base64,iVBORw0KGgoAAAANSUhEUgAAAc0AAAAWBAMAAABQ5dp2AAAAMFBMVEX///+IiIgiIiIQEBB2dnbu\n",
       "7u5ERETMzMzc3NwyMjK6urpmZmaYmJiqqqpUVFQAAAB6qHgnAAAAAXRSTlMAQObYZgAAAAlwSFlz\n",
       "AAAOxAAADsQBlSsOGwAABWBJREFUWMPdWF2IG1UUPpNkMtnMJDtbWFwVlzRaa6lKFKkgPsTFahW3\n",
       "TGEbkRUy609c+mLQ6qOO3UUohSUtVHzwJ0V9EFqbrkqtrpoKLS5VG2V9KBXc4looKFRhcX3z3J+Z\n",
       "uXfmJtm+euDbZO+95zv3u3PuuXcC0Nc2bFY0ehxdutYzNMPRzbx1tPRx59CK9XU4PKpo0zoMXbok\n",
       "O8IRtZs4ora47flD29oKny4Bu9gRAakmLJO2X3rrjI9Z4lCY2Kw/XcDptRkiliszxM2dg4/OOnGf\n",
       "pfVKlMISoM7PScebvXXGxugNBlUMqXmghX8Oc8j2BIdC5yykjeXQZ1zF3NOksIepzlfILnF764yN\n",
       "MdsMCpObB0mqneOQbYFDqdP0GoGPvkXF3NOksOeozgEHPzq9dcbGJDmEvfNUcUvQFdpxhzQ5DLKV\n",
       "OOIUVKcb+Gg/NBXMJPMVaXjBi4VFoE4LV2mgTx2KjbnAEVj2oCN0hTZGs6jNIE+ywaCgQJ353cuB\n",
       "T8JwFcwA1tbY2sE3n8bDIlAn3F0s3tOv3kbHfMKxa/TxB+lz3u+IXZmVEZv9987Qn5gKywxyfpcZ\n",
       "9KHf947LFKjzZfJcuM8SLw0yM2i3MIeAgByB2xVhEUTnSYBn++mMjnmLo6VdMgtykSLN73npVTaH\n",
       "f52qBxY+Nos+uvkisTvF1TZh1J6XKdyZQ38Pg++DHRfjzDCx0V8wnwD0Mb4GclgE0TkHmWCtjTf4\n",
       "l58e+eqgoFMcQ+wOBsuzVvM0uRpil34/MPWQW4WkDTnchrlSZPUSHYZv4bzzh0zhzn5HCzHzwcqb\n",
       "cGLMB273RwcEmXl/b8hhEURn2kk1gxArhHi01tRSsKMc6pTGoN3HYIDJZmdgYhdv9bvMq5Bgztg9\n",
       "WAbjKlBIlmwy1OFUlMKdTT9Jpsx88nXQ7Chz/u2AyCeAK0GllMMiyOxztlBi7kV8gZckTYMzdqhT\n",
       "GhPqBLJsNFFcsSvpQpUtC07qeAeyuKjZUhedAHdFKdxZo0W2CfPBR6sXosyCTp9A0CmHzbLnCY3T\n",
       "JN1P7yAr+NeoQ68hqHO4Jdz76Jihz270pLzFAu7pNKcKYt5WbTgfnGNfO5DD3lwhsj/9vIXsGuyW\n",
       "KbAOnXwdfB9SY76MMYd5GxCEeSuHRVCd43hh0G8z1oi8TVqrQotZKjPVFnSSMZp3eYAv2RRDpfkb\n",
       "pGjDUBAVm6sduJLzdBKwjjsKLJdBsrRNoe/Jl6AsU6DOCllt5kPE7peYpToUEoR1SA6LoDpnsMSY\n",
       "LYMkSbptNY5SneYzrniPJ2MsmDJ4006GX1/6GI6xi1aQMzvJ9HNbTaji1s23063wCJGMV/zcP5Ol\n",
       "bEemcA/gib2H+1hk7um6yMxs10aaSSEBCt0wTD/lsAiqEzc67hSNFNRk3VxerNVqHU1LHRN15umL\n",
       "zZrf9ALD5FBugYXQL38QdumXHp67DhKb8NsKudklmgySGQUK/YR98XuZAt9XpqH2bof55IkawxaZ\n",
       "/XsCPUBDAnpPoAeoHBYRVNGqlz6DXoOQ7Oylz1PLvu9E38uMkv+6mKgzCLeZh/ilLWz+2f+yj0O2\n",
       "zRxxCtFPPImiL5GW4t636EE07D4IdSa9V486E3hQncUzhO5P2N6K6JxJNfycsVoMCguby71v7Orb\n",
       "ffSmr2Reny2ECHRmF358DF7sGCdsyDyH/394fXnyVESnecMDwz7HNIfC/GbdP5fIm47ijSjtMXS1\n",
       "mM/0Ncn0wxLIpz+wvTZRqzX7/Z5Q4ejSRVO/jyByYOq9XghjPpVr0umHJZB1Zh2lw5ji96GMzQDq\n",
       "LslGOKL2Gkc3G+nL3NNGQmg3Szot+P/af9l8myefhnKhAAAAAElFTkSuQmCC\n",
       "\" style=\"display:inline;vertical-align:middle;\" /></a></span>"
      ],
      "text/plain": [
       "|- forall_{a, b in Real} [forall_{x} ((x in (a,b)) = ((x in Real) and (a < x < b)))]"
      ]
     },
     "metadata": {},
     "output_type": "display_data"
    }
   ],
   "source": [
    "from proveit.numbers.number_sets.real_numbers  import in_IntervalOO_def\n",
    "in_IntervalOO_def"
   ]
  },
  {
   "cell_type": "markdown",
   "metadata": {},
   "source": [
    "## Theorems<a id='theorems'></a>"
   ]
  },
  {
   "cell_type": "markdown",
   "metadata": {},
   "source": [
    "<font size=3>There are already a good number of basic theorems established in the `number/sets/real` theory. Some examples are shown explicitly below, and the remainder can be found in the [theorems Jupyter Python notebook](./\\_theorems\\_.ipynb). Most such theorems are typically not acccessed directly but are instead used behind-the-scenes when calling various related class methods.</font>"
   ]
  },
  {
   "cell_type": "code",
   "execution_count": 21,
   "metadata": {},
   "outputs": [],
   "source": [
    "from proveit.numbers.number_sets.real_numbers import (\n",
    "        all_in_interval_oc__is__real, in_IntervalOO,\n",
    "        interval_cc_lower_bound,\n",
    "        nat_within_real_nonneg, not_int_if_between_successive_int)"
   ]
  },
  {
   "cell_type": "code",
   "execution_count": 22,
   "metadata": {},
   "outputs": [
    {
     "data": {
      "text/html": [
       "<span style=\"font-size:20px;\"> <a class=\"ProveItLink\" href=\"proofs/nat_within_real_nonneg/thm_proof.ipynb\" style=\"text-decoration: none\">&nbsp;&#x22A2;&nbsp;&nbsp;</a><a class=\"ProveItLink\" href=\"../__pv_it/theorems/b025f089f32ea9a8476f295465bc4b63f7409fac0/expr.ipynb\"><img src=\"data:image/png;base64,iVBORw0KGgoAAAANSUhEUgAAAE4AAAAUBAMAAADRkRa/AAAAMFBMVEX///9mZmbMzMyIiIiYmJjc\n",
       "3NxUVFSqqqq6uroQEBB2dnYyMjJEREQiIiLu7u4AAAAPqInnAAAAAXRSTlMAQObYZgAAAAlwSFlz\n",
       "AAAOxAAADsQBlSsOGwAAAVpJREFUKM9jYMAHdBrA1CorBvyAb00BkGQx4DhAQCGDjQMDA6cCw1dC\n",
       "6hh8DBjiHzBMZ3j75/QDhpU/G1Akveec3zvHAcL2DNB/wHCFgeE4RwID3wc0Uw6EMbT5PACxXp1g\n",
       "AKqbzMCQG7CEgWECurooBh6mBCAjMIkBZO93Bob0A9wBDBcw1TEGbGBgCAMqg/oj1Zl1A1Qd89m7\n",
       "d+8qwNUdYHgmChY2ADqNIZVNwQqijmlXAJJ5bO8SGN5BeKsMgU5NZTjA0wBW9zYA2V6d6gAUp6Qy\n",
       "KPLdA6vLQHJf5N6/dgxo6lgKasD+3YDsD5fXoPg9AwQBMHUMeWwgdeBwgKvjeeKAbh7DMz6Qvawo\n",
       "6pgEzmGoYzIAp4cLKOEnFIOq7hAQG4HViaCoe8OMavF2IGYEe4EbkRgOBDKwOJxAVqb9E2gWH1gd\n",
       "37E+RHo5ynBmfwGOtMaxBhZvGAAAU/htpdV0GOUAAAAASUVORK5CYII=\n",
       "\" style=\"display:inline;vertical-align:middle;\" /></a></span>"
      ],
      "text/plain": [
       "|- Natural proper_subset RealNonNeg"
      ]
     },
     "metadata": {},
     "output_type": "display_data"
    }
   ],
   "source": [
    "# The natural numbers are a proper subset of the non-negative reals\n",
    "nat_within_real_nonneg"
   ]
  },
  {
   "cell_type": "code",
   "execution_count": 23,
   "metadata": {},
   "outputs": [
    {
     "data": {
      "text/html": [
       "<span style=\"font-size:20px;\"> <a class=\"ProveItLink\" href=\"proofs/all_in_interval_oc__is__real/thm_proof.ipynb\" style=\"text-decoration: none\">&nbsp;&#x22A2;&nbsp;&nbsp;</a><a class=\"ProveItLink\" href=\"../__pv_it/theorems/bf08d3b6ab929156f8775b96e47baa732453bb0b0/expr.ipynb\"><img src=\"data:image/png;base64,iVBORw0KGgoAAAANSUhEUgAAAOAAAAAZBAMAAADanj8DAAAAMFBMVEX///+IiIgiIiIQEBB2dnbu\n",
       "7u5ERETMzMzc3NwyMjK6urpmZmaYmJiqqqpUVFQAAAB6qHgnAAAAAXRSTlMAQObYZgAAAAlwSFlz\n",
       "AAAOxAAADsQBlSsOGwAAA2VJREFUSMetlk9IFFEYwL9x/8zuzOy2GwqVsMiCUYdgi7CIhO1gGGgM\n",
       "oUIYNUZtIkJLShBBDilBBLIKRYegDfQQWawRmCmyHpQkoy06JHVYIj11sC5Jp77vze7sG113NtgP\n",
       "ZubN+76Z33vv+/MegL18D+tQGRHCB8oxS0DlZLnCQN1OV2GgkCnSudRwdbQhDfDEAGbp8c0GWIYR\n",
       "k89Fe7VheLGogpBmwDfU9dAGWIYRiav4WmhD4BZxzPcZ8BbePZoNsAwjEjm9HVDWcSzvGNCrAjgz\n",
       "NsAyjEgcVodeDO8vAHG4DpWACo7Kaxc0ZRiRrPAv0ohamKG/HZfUm2ZReigcPmwbpfZGJK/Ij8HV\n",
       "/lZ6uatyS3p9BZPCmWXAKYDLtsAtRl+49mI213hEfoRQ4KU1xrTB0d81+FQSDDgMnvwHID7INT6d\n",
       "mhvhgbwRiZLMt26gc/Iqqltv4YP605q92tDyWXr6IgzoVp3m1/CDqKFYUnBCc5QDckakhvPmF/5o\n",
       "AXgMrzhMG2bohfDeHNB9juJXXGdAX4ALhyN4zcQxwgRYCHBAzojURmIakRm3AgEOGjmpcTMUU+QQ\n",
       "yZghJObx1jbfTGP4FVJZQUBgTYovbcwo+LpWZ2qowz+2VFN1HAiuWpYUpA1oz5kUgmbqDi1pnQFs\n",
       "xQrg2iduEKdeSHWwHHJ6utI8kIwEfc2bYWoPdp3RBwi4U601gV34ox5/BJgzgjywg8apaAZwEO3l\n",
       "lIjzBXdaSUwwoHxJsxRvMlKgSwSmllA5A33U7IUlE3gaZ/GnMyKxEuE1C4V2DxO5ByFRA+hHLziS\n",
       "QpY5RM4uxWKxjCA4n1uAZASAq8DUviw5LGR4fc4EXsMZTga+vjecuDZu7hbdEHucgapkYXu6oLsX\n",
       "MFF3gCPTz2YoSGPqlu1JjHiAqUUNXBvQS75ah0YTWBW3lJqTudKWl9vcfujQBybUNqhSFzEDmA+h\n",
       "KbUZOOhMyIaaIuKo+HfBFYV69EweqKRKFpBZDijNfmyBvow4GQDPFXx/ujvaOb0ZKO85UWOooRvg\n",
       "2fvqtNgIN4OFtKDu7YVtN9Yd33BzWyyWLLHjM/VY7sXH7iawoxTQrW8GSmrZRww5d3gZtwI9gRLA\n",
       "XVvONMp/nGmajEfaCqzQqW20yLnUxe8WgfLPpcf/AVLf8vbgrZ1jAAAAAElFTkSuQmCC\n",
       "\" style=\"display:inline;vertical-align:middle;\" /></a></span>"
      ],
      "text/plain": [
       "|- forall_{a, b in Real} [forall_{x in (a,b]} (x in Real)]"
      ]
     },
     "metadata": {},
     "output_type": "display_data"
    }
   ],
   "source": [
    "# all elems of a real interval are real numbers\n",
    "all_in_interval_oc__is__real"
   ]
  },
  {
   "cell_type": "code",
   "execution_count": 24,
   "metadata": {},
   "outputs": [
    {
     "data": {
      "text/html": [
       "<span style=\"font-size:20px;\"> <a class=\"ProveItLink\" href=\"proofs/interval_cc_lower_bound/thm_proof.ipynb\" style=\"text-decoration: none\">&nbsp;&#x22A2;&nbsp;&nbsp;</a><a class=\"ProveItLink\" href=\"../__pv_it/theorems/088bb39806b5057c1d34d4f7260da90c752fd9610/expr.ipynb\"><img src=\"data:image/png;base64,iVBORw0KGgoAAAANSUhEUgAAANwAAAAZBAMAAACoUV21AAAAMFBMVEX///+IiIgiIiIQEBB2dnbu\n",
       "7u5ERETMzMzc3NwyMjK6urpmZmaYmJiqqqpUVFQAAAB6qHgnAAAAAXRSTlMAQObYZgAAAAlwSFlz\n",
       "AAAOxAAADsQBlSsOGwAAAzFJREFUSMetlk9o01Acx39pm6Zt0prKhtNBmcWhMIUqojI2qAdxwiZh\n",
       "zF0GrgONIjsUt4sILrijMKrgn4NCRT2IEzoRdG6M7LDh0GEUL6KHKpsgeJgHcXjy91665CVlTYT+\n",
       "IMl7+X2Tz3u/3/sH4G3f0hrUw7j0Pj+yAtTL3tYXp3m46ovjjM19901cmTy+eOB8iIh9rNUUneJe\n",
       "kfIdD5wPERrvDkOc/eQmxV3BeyTngfMhQhN1Z11qU5jaG4qL4quQ4YHzIUILusK3S3F4FYKTsElR\n",
       "r6HiQ4T2yVHr2+n0RnU6Mg+k0wc9R6a3CO05CflKk0wrA3utlCZXR3swOmWKewFw1hPnFh1iZthi\n",
       "uVK4i9cDLfyblE/fs1MKKfkZZrJAcRMQ2dCDcKtS+HBi7jqLY0XErMqlnF3BJYrvALGFlBM27jW8\n",
       "U37iMM1QXFgJFS3XCmGm1CIXgq4sg2NExG3jElkb1449WYOA+d01K5h5mKbfrVFcXGYGwWG8ZvI4\n",
       "qjhYkBkcIyJuGxfMO3DBHAwWq4bKfnKLmb2DwjxxzneRFvxKKXT6I66xxC5iVJR82axRNxL47gaS\n",
       "v7HkKhvMQRneVU2E2Dqcwha3mLgenO/8HmGdKFq5Uj+VhiJDOosjIk77HjX6K7nr1cYIbqvSbOGG\n",
       "EGfAj7jmmOb8hUQGMMBSzsSNo1wsCdhXCOtSYZLixDM5xxJNRBIMCTBZwc3ACCkMw5KFO4k/kONt\n",
       "or2I3Sa3PwOZGC4RYtbEJTD8wSJXppkQy0uqqhocF3rqwBERAEaAupHQDikz2XMW7iJ25evxiW2u\n",
       "lXRK/ryMz0DR3oAGtfAC9nwLBI1R2jsu9lCp2oCETARGzd7x6zCMCYE16LRwgXyt2XuV2e+C2tik\n",
       "0gcBZRHHPM0dHCu5ceOhgmi6kXBE+LvAZ6EVU7KBk0q1cLMMLjb7vhtGDGFKhsg5rD/enh2YduPE\n",
       "HUcbTTcSniw36EInXE4ys+K8/fPeNLHd9gu6oTh3c3PN71PVYo3dnLorhLhziemv0bmw5sbFFN+H\n",
       "hwrhkRMXkTfHNVWdVST4X5zuxNXnJHaj+pypsjuC7Puc2fEP14jiz/JwjscAAAAASUVORK5CYII=\n",
       "\" style=\"display:inline;vertical-align:middle;\" /></a></span>"
      ],
      "text/plain": [
       "|- forall_{a, b in Real} [forall_{x in [a,b]} (a <= x)]"
      ]
     },
     "metadata": {},
     "output_type": "display_data"
    }
   ],
   "source": [
    "# all elements in [a, b] are ≥ a\n",
    "interval_cc_lower_bound"
   ]
  },
  {
   "cell_type": "code",
   "execution_count": 25,
   "metadata": {},
   "outputs": [
    {
     "data": {
      "text/html": [
       "<span style=\"font-size:20px;\"> <a class=\"ProveItLink\" href=\"proofs/in_IntervalOO/thm_proof.ipynb\" style=\"text-decoration: none\">&nbsp;&#x22A2;&nbsp;&nbsp;</a><a class=\"ProveItLink\" href=\"../__pv_it/theorems/1efb7df28568e2c28487045b91d1ffaa1bbc081e0/expr.ipynb\"><img src=\"data:image/png;base64,iVBORw0KGgoAAAANSUhEUgAAAPcAAAAXBAMAAAAl5sTiAAAAMFBMVEX///+IiIgiIiIQEBB2dnbu\n",
       "7u5ERETMzMzc3NwyMjK6urpmZmaYmJiqqqpUVFQAAAB6qHgnAAAAAXRSTlMAQObYZgAAAAlwSFlz\n",
       "AAAOxAAADsQBlSsOGwAAA2FJREFUSMe1Vk1oE0EUfptk87ObNJtDtSqWEKg/iBBFKIiHKFgrWNlD\n",
       "LEgPSbVG0UvQnnW1Jy8lPSgeRCrqQag0FUGrpaaHFqVIo6ggeqhQC4JKPRTrzfdmZrOTuGiR9cFb\n",
       "3rx8b76ZeW/eBMBTCbu7LZexBV7LRlevUm1w3BQ6T4MPHnHHMq7u15KtHk/iaipcH5PnmkfkR129\n",
       "akkeRcr4ucL1PGUq7xH5hKtXr8ijOOVglmvEBAhUPSJP12X6WGorM/x1mFGTXCbTKC4r4lXK5fPV\n",
       "hkxhvasD7WNnX+G6M5Xa5RG5jvWmJj71d9Hgss0NDyizCy0GH91IfMWznuf6EODE3+ctr4ac9qJD\n",
       "q3G/voivo96ygsu8+n6aOQuieEakgxCet2Ghq/WzvTo4OcStP5SkE+TD2nkGc+YXGjgp2I6Ue0BP\n",
       "8tQsg9+AGFYHadAMDNdwC9KcrYVhJQCdGRdytc6sBflxoiKM83BMZ2oTM3fjeSyBj0+klyCegdAS\n",
       "MI0ZUr21O+aTIhasAtPG7+ThSVM222VygB18UU4EkvvzkONbxDWMVkHDXZNCaQo/2alOWu73Vpo2\n",
       "8WiDRQ2IyJvLErlAfbM4hpsiSBw7aCtwhAZJ+dhzBszVrvlTE2L4Kyl0YatRt4RWiKxNQS7FWoxU\n",
       "u9lVDYR7Kw45R2lnLIERJgsiCRqgnm5KAzvgRI28F8mr8DlmUbbiRcw/RPNcYQDrTS+H6BCCFVaG\n",
       "0BuCEUau9+WlgmMorY/2yTDc5EEkeHliP3rSGutZkVrnOkzLim3TIYe4pkqwzC8lKTQVKVsKlby/\n",
       "qLPKx/09LxQKVUUJ3JPIGeqcmBQx3LSDMAlJUMeM9y940hfvCPKzOPh4YHAt+NrQWqAe7BvmyiRn\n",
       "BadxF3Hw03yhdBj62c4V7bbpkDOU2sEoCcNNEUSyWS5LrUO0V1/Rdr2xjUtCeZ1aF0bMLPjMGcjC\n",
       "QKCk4w1kOYf9UsExFMAaLAOG4SYFCZl1bQTRWofKyC9Q7RXSJl4ewlMMjRn41dfvbYbwSXTfXZfp\n",
       "GXfIGQplpgIMw00KEhJ0/3tyyu4JNpCe0cantCp9IVsoOM2nocm8tdzMusstS7f9zsmLbFioZjrf\n",
       "Rlnli3/R/Z+d0eBoESrnRvr+I/n/Eet/TPoL/ODZP+WrUj0AAAAASUVORK5CYII=\n",
       "\" style=\"display:inline;vertical-align:middle;\" /></a></span>"
      ],
      "text/plain": [
       "|- forall_{a, b, x in Real | a < x < b} (x in (a,b))"
      ]
     },
     "metadata": {},
     "output_type": "display_data"
    }
   ],
   "source": [
    "# reals greater than a but less than b are in the interval (a, b)\n",
    "in_IntervalOO"
   ]
  },
  {
   "cell_type": "code",
   "execution_count": 26,
   "metadata": {},
   "outputs": [
    {
     "data": {
      "text/html": [
       "<span style=\"font-size:20px;\"> <a class=\"ProveItLink\" href=\"proofs/not_int_if_between_successive_int/thm_proof.ipynb\" style=\"text-decoration: none\">&nbsp;&#x22A2;&nbsp;&nbsp;</a><a class=\"ProveItLink\" href=\"../__pv_it/theorems/a33745e5fbf513df4067c987420667b91c789d4b0/expr.ipynb\"><img src=\"data:image/png;base64,iVBORw0KGgoAAAANSUhEUgAAAO4AAAAZCAMAAAABp+KxAAAARVBMVEX///8/Pz9vb28YGBgJCQkd\n",
       "HR0NDQ0WFhaIiIgiIiIQEBB2dnbu7u5ERETMzMzc3NwyMjK6urpmZmaYmJiqqqpUVFQAAAB3hJw9\n",
       "AAAAAXRSTlMAQObYZgAAAAlwSFlzAAAOxAAADsQBlSsOGwAAA2dJREFUWMPVWAeu3CAQJX3opvn+\n",
       "R81QjMHdRPnSImu1Lg/mMR1ChkeglGryMQNQXP8P+Il82nDuo+jqobf6Q+nCtS1OYvnnJzazSVIq\n",
       "GRI00NAN9XPvBuiOw18Pzy9fq1UUkEFlAZOM4Fa61lTx9QDdcfjbIW6saZWEWFtYct/pHenWTdFy\n",
       "xJjH4W+HvbEe2uSMuPNCxivTtKvvLtS5H/LdYfjbwS6cGt30z+9V+0kkq0gy6YQVle4SrqaxUDUM\n",
       "f+u5pwuYCZBNpba6srJVVLfKymgcjA9G5lH4W1suCwiAIBRfjUkn+9p5thTxKoOHla5V5fUY3Xu4\n",
       "fxvE4Gi1YkWoMQhALO1DpINdGG8eucYSdVh+TopFJrnF64TuHZw48zz6FrnsQSTK6nRIzs2CBHcc\n",
       "Qpqnjb49axwvaobvZVIQpMTHsTDmAsRZmXEMX9BEhHtDrRjISjN712B5hWhKtjVclZzp10+sKfqK\n",
       "JIuUpVZzQ9fDUaSxtjg/fqO8dqdV1SG8ott8eDZWQT0lh8qqdNPf1nBzstnkBXxYEmPKScS02kVh\n",
       "i50763CHbVeK5O23F0VkhRPEarw6NN1MfHC7p7tPa2s3Y2ZcQIhufrrxP1V4irmdttDlPu+mcCYW\n",
       "mUyTmqGLw3h1QXeBE9AkSDL5Fq2nfmKyvz2g63fbKyGrzWAsiWuudosvTP85ZqDyJBSesqWrWfYv\n",
       "LSAKh5GAmEa5Agi/ahEWeDR7lEp1aCP7icn+9oCu2dVoOZf4WQmLdE2jfdzeTdLFaJIUoKWXbRZb\n",
       "aoT6eYBi6G6Safi0k1y05rPriJrV5pwWVrQP/cSbdWz8jMUf19JVO7oqvREWlemta21dBPmjk80w\n",
       "OcUpsS2SmSc1xw0gU6nAVkSt+jRexc+4eNAAKpb6ywZdBK8Tk4PbJ8ZMqDoNdd+/YRVJz+s6TY/7\n",
       "XT2neaOnNiVJilOG3va7mhE+5bTSVB20n1jwfp1jurCvNJx90OledxdbuiZaHvBUfMglD4UQgMsp\n",
       "3Lf3FgwHEC0auehuYsV8t05LV/Np5lBB22B1elxx04zV91enGYJHjzKDpxkrelcy+Iu82yXTJw+f\n",
       "NGN1n77k8Mb2WjHitKo6gyxagpMq96YC1197VtUHuQdLvqiyv/Ak8vE589tmS/wProBdqvsL2DAz\n",
       "BRzGbx8AAAAASUVORK5CYII=\n",
       "\" style=\"display:inline;vertical-align:middle;\" /></a></span>"
      ],
      "text/plain": [
       "|- forall_{n in Integer} [forall_{x in (n,n + 1)} (x not-in Integer)]"
      ]
     },
     "metadata": {},
     "output_type": "display_data"
    }
   ],
   "source": [
    "# a real value between successive integers is not itself an integer\n",
    "not_int_if_between_successive_int"
   ]
  },
  {
   "cell_type": "markdown",
   "metadata": {},
   "source": [
    "## Demonstrations <a id='further_demonstrations'></a>"
   ]
  },
  {
   "cell_type": "markdown",
   "metadata": {},
   "source": [
    "<a id='demo01'></a><font size=4><b>1.</b> $2\\in(1,3]$ and $2\\in[1,3]$</font><br><br>\n",
    "<font size=3>We begin with a simple demonstration deriving the judgment $\\vdash 2\\in(1, 3]$, and then also deriving as a judgment the fact that $2\\in[1, 3]$ using an `IntervalOC` method based on a relaxation theorem.</font>"
   ]
  },
  {
   "cell_type": "markdown",
   "metadata": {},
   "source": [
    "<font size=3>First we define a real number interval of interest:</font>"
   ]
  },
  {
   "cell_type": "code",
   "execution_count": 27,
   "metadata": {},
   "outputs": [
    {
     "data": {
      "text/html": [
       "<strong id=\"interval_O1_3C\">interval_O1_3C:</strong> <a class=\"ProveItLink\" href=\"../__pv_it/demonstrations/cb97b0aa4173f8ba02bb8a09af58c0f3606fb10e0/expr.ipynb\"><img src=\"data:image/png;base64,iVBORw0KGgoAAAANSUhEUgAAACcAAAAVBAMAAAA3P+qgAAAAMFBMVEX////MzMxUVFRERES6uroi\n",
       "IiIQEBCYmJhmZmYyMjLu7u52dnaqqqqIiIjc3NwAAACW8nlqAAAAAXRSTlMAQObYZgAAAAlwSFlz\n",
       "AAAOxAAADsQBlSsOGwAAAMJJREFUGNNjYGB4wIACeEMFgMQBVEEGbgcGhtNAWnQBhM+3u9kBJMg1\n",
       "gYFLYz5UcAUDzx+QIEcBkHMfKnj/ANdPkCAbA5KgmwMDWPAksiADA893kGA3qqBrAUhwOoqgrJIA\n",
       "SDAGTTvY9hRUQYb8BeiCggwM9gfQtf9fABG0hQmCxJOg2jeBBPc/YAB6hYGhHOpOUSBbKX9SAUMo\n",
       "UClLByRAWAVgjlmACDr2BhgbOTztoOy1yIKLoewLyIJ8F9DiKMwBAP1TPX41xGn7AAAAAElFTkSu\n",
       "QmCC\n",
       "\" style=\"display:inline;vertical-align:middle;\" /></a><br>"
      ],
      "text/plain": [
       "<IPython.core.display.HTML object>"
      ]
     },
     "metadata": {},
     "output_type": "display_data"
    }
   ],
   "source": [
    "interval_O1_3C = IntervalOC(one, three)"
   ]
  },
  {
   "cell_type": "markdown",
   "metadata": {},
   "source": [
    "<font size=3>We can automatically deduce that $2\\in(1,3]$.</font>"
   ]
  },
  {
   "cell_type": "code",
   "execution_count": 28,
   "metadata": {},
   "outputs": [
    {
     "data": {
      "text/html": [
       "<span style=\"font-size:20px;\"> <a class=\"ProveItLink\" href=\"../__pv_it/demonstrations/8b2fa2e05af0f2de821dab39a088456dda80caf60/proof.ipynb\" style=\"text-decoration: none\">&nbsp;&#x22A2;&nbsp;&nbsp;</a><a class=\"ProveItLink\" href=\"../__pv_it/demonstrations/8ab0d813787a6eb402293dc6c0666aec86e7dd7c0/expr.ipynb\"><img src=\"data:image/png;base64,iVBORw0KGgoAAAANSUhEUgAAAEwAAAAVBAMAAAAeOBUnAAAAMFBMVEX///+qqqqYmJiIiIgiIiLu\n",
       "7u4QEBBUVFS6urp2dnbMzMxEREQyMjJmZmbc3NwAAADzFso2AAAAAXRSTlMAQObYZgAAAAlwSFlz\n",
       "AAAOxAAADsQBlSsOGwAAAU5JREFUKM9jYMAC+ND4Jl7YVDEYogvMYOC7e3oBmiDjBAYGLlco5+Xc\n",
       "HSBlrxk4f6Api2FgCL/zFcJmvcAgLwBUVsfAkIam7BIQM0OVMX9kiD8AVJYfwFD/ACxi7eJyAMxI\n",
       "QFLGkcHAD1JWwsBQD3ZcjynMaQeQlAGBvAJQGRD4gwPhKEyYdwKKMg4nBrAyrs8gHs8DmDiPArIy\n",
       "LvMqiDKWArAk3BIWATRLBcDKboM5y1yAYAOIxdaAqoztK0gZE9gwhmiEMLIyrgUM3B9ByiQZ+EDO\n",
       "YsFuKf9XiDKuCQzMASBxA5gybgOoMlaQ0QUQS5/cvXsFLHsQpowT5ArOfwyg4GdgUoCEm////3/A\n",
       "suE7AqDOcWBgYC/7U8TAAor+3rs7IAECA51boJEFT12iiISEBejCGBPwKuOGRgirAV5lrBugiYgB\n",
       "rzKGx+h5IQMAfeBXcbx0MAwAAAAASUVORK5CYII=\n",
       "\" style=\"display:inline;vertical-align:middle;\" /></a></span>"
      ],
      "text/plain": [
       "|- 2 in (1,3]"
      ]
     },
     "metadata": {},
     "output_type": "display_data"
    }
   ],
   "source": [
    "interval_O1_3C.deduce_elem_in_set(two)"
   ]
  },
  {
   "cell_type": "markdown",
   "metadata": {},
   "source": [
    "<font size=3>Then we consider the closed real interval $[1,3]$:</font>"
   ]
  },
  {
   "cell_type": "code",
   "execution_count": 29,
   "metadata": {},
   "outputs": [
    {
     "data": {
      "text/html": [
       "<strong id=\"interval_C1_3C\">interval_C1_3C:</strong> <a class=\"ProveItLink\" href=\"../__pv_it/demonstrations/58b307ad4c4add3816a967499efcc6fa9d891d5d0/expr.ipynb\"><img src=\"data:image/png;base64,iVBORw0KGgoAAAANSUhEUgAAACUAAAAVBAMAAAAzyjqdAAAAMFBMVEX///9ERESqqqqYmJgQEBDc\n",
       "3NwyMjJmZmZUVFTu7u66urp2dnbMzMwiIiKIiIgAAADqGnFKAAAAAXRSTlMAQObYZgAAAAlwSFlz\n",
       "AAAOxAAADsQBlSsOGwAAAJRJREFUGNNjeHuHAQXw3T3AsIsBDXAvAIudnQDhsu4uXAAR42zPh4pN\n",
       "Z2D6BFP3Hir2XoHzG7rYkgUMGGIMDEyfMcXWGmCInes4gEXvJ0wxBv8JaGJnGBjkFdDE/k9AFQMJ\n",
       "eyDp3R/AAPQAA4Mxwn0d/hkGDHeBCrnKYWEAdcUE1LACMxkwxeZhEXuAJLYXPT6uLAAANoROn59w\n",
       "ypIAAAAASUVORK5CYII=\n",
       "\" style=\"display:inline;vertical-align:middle;\" /></a><br>"
      ],
      "text/plain": [
       "<IPython.core.display.HTML object>"
      ]
     },
     "metadata": {},
     "output_type": "display_data"
    }
   ],
   "source": [
    "interval_C1_3C = IntervalCC(one, three)"
   ]
  },
  {
   "cell_type": "markdown",
   "metadata": {},
   "source": [
    "<font size=3>The underlying machinery will not automatically prove that $2$ is also in this closed interval $[1, 3]$, despite the fact that we have the judgment $2\\in(1,3]$: YES IT WILL NOW, SO CHANGE THIS</font>"
   ]
  },
  {
   "cell_type": "code",
   "execution_count": 30,
   "metadata": {},
   "outputs": [
    {
     "data": {
      "text/html": [
       "<span style=\"font-size:20px;\"> <a class=\"ProveItLink\" href=\"../__pv_it/demonstrations/ce23e8b6df0f70d4fb415af13f7d431ab3b9cd850/proof.ipynb\" style=\"text-decoration: none\">&nbsp;&#x22A2;&nbsp;&nbsp;</a><a class=\"ProveItLink\" href=\"../__pv_it/demonstrations/e2df0b0fef9eae78092c877f17ffa481da1bde060/expr.ipynb\"><img src=\"data:image/png;base64,iVBORw0KGgoAAAANSUhEUgAAAEoAAAAVBAMAAAATJmVgAAAAMFBMVEX///+qqqqYmJiIiIgiIiLu\n",
       "7u4QEBBUVFS6urp2dnbMzMxEREQyMjJmZmbc3NwAAADzFso2AAAAAXRSTlMAQObYZgAAAAlwSFlz\n",
       "AAAOxAAADsQBlSsOGwAAAR9JREFUKM9jYMAAzC4LUAVMvDAVMXA2oIvMYOC7e3oBpiouVyjn5dwd\n",
       "IFWvGTh/YKgKv/MVwma9wCAvAFRVx8CQhmkWM1QV80eG+ANAVfkBDPUPwCLWLi4H0FVxZDDwg1SV\n",
       "MDDUgx3WY4rFLCCQVwCqAgJ/EMF3lAGrKg4nBrAqrs8gHs8DrKq4zKsgqlgKwKoYGHDYKABWdRvM\n",
       "WeYCBBuwqGL7ClLFBDaKIRqrWVwLGLg/glRJMvCBnMSCVRX/V4gqrgkMzAGg8DNAV8UKsq4AYuOT\n",
       "u3evgCUPIqvi/McACnQGJgVIePn///8HLBm+IwCuir3sTxEDCyjGe+/ugIQEDHRuQcQQGIgiUg6e\n",
       "9DWBGFWsBsSoYmbAqwoj3WcAAJvJWlyScUzhAAAAAElFTkSuQmCC\n",
       "\" style=\"display:inline;vertical-align:middle;\" /></a></span>"
      ],
      "text/plain": [
       "|- 2 in [1,3]"
      ]
     },
     "metadata": {},
     "output_type": "display_data"
    }
   ],
   "source": [
    "InSet(two, IntervalCC(one, three)).prove()"
   ]
  },
  {
   "cell_type": "code",
   "execution_count": 31,
   "metadata": {},
   "outputs": [],
   "source": [
    "# from proveit import ProofFailure\n",
    "# try:\n",
    "#     InSet(two, IntervalCC(one, three)).prove()\n",
    "#     assert False, \"Expecting a ProofFailure error; should not make it to this point\"\n",
    "# except ProofFailure as e:\n",
    "#     print(\"EXPECTED ERROR:\", e)"
   ]
  },
  {
   "cell_type": "markdown",
   "metadata": {},
   "source": [
    "<font size=3>We could instead use the `deduce_elem_in_set()` Interval class method, or we can use the `deduce_relaxed_membership()` method variation, and because we have previously shown that $2\\in(1,3]$ we don't need to provide that fact as an assumption for the deduction:</font>"
   ]
  },
  {
   "cell_type": "code",
   "execution_count": 32,
   "metadata": {},
   "outputs": [
    {
     "data": {
      "text/html": [
       "<strong id=\"two_in_O1_3C\">two_in_O1_3C:</strong> <span style=\"font-size:20px;\"> <a class=\"ProveItLink\" href=\"../__pv_it/demonstrations/ce23e8b6df0f70d4fb415af13f7d431ab3b9cd850/proof.ipynb\" style=\"text-decoration: none\">&nbsp;&#x22A2;&nbsp;&nbsp;</a><a class=\"ProveItLink\" href=\"../__pv_it/demonstrations/e2df0b0fef9eae78092c877f17ffa481da1bde060/expr.ipynb\"><img src=\"data:image/png;base64,iVBORw0KGgoAAAANSUhEUgAAAEoAAAAVBAMAAAATJmVgAAAAMFBMVEX///+qqqqYmJiIiIgiIiLu\n",
       "7u4QEBBUVFS6urp2dnbMzMxEREQyMjJmZmbc3NwAAADzFso2AAAAAXRSTlMAQObYZgAAAAlwSFlz\n",
       "AAAOxAAADsQBlSsOGwAAAR9JREFUKM9jYMAAzC4LUAVMvDAVMXA2oIvMYOC7e3oBpiouVyjn5dwd\n",
       "IFWvGTh/YKgKv/MVwma9wCAvAFRVx8CQhmkWM1QV80eG+ANAVfkBDPUPwCLWLi4H0FVxZDDwg1SV\n",
       "MDDUgx3WY4rFLCCQVwCqAgJ/EMF3lAGrKg4nBrAqrs8gHs8DrKq4zKsgqlgKwKoYGHDYKABWdRvM\n",
       "WeYCBBuwqGL7ClLFBDaKIRqrWVwLGLg/glRJMvCBnMSCVRX/V4gqrgkMzAGg8DNAV8UKsq4AYuOT\n",
       "u3evgCUPIqvi/McACnQGJgVIePn///8HLBm+IwCuir3sTxEDCyjGe+/ugIQEDHRuQcQQGIgiUg6e\n",
       "9DWBGFWsBsSoYmbAqwoj3WcAAJvJWlyScUzhAAAAAElFTkSuQmCC\n",
       "\" style=\"display:inline;vertical-align:middle;\" /></a></span><br>"
      ],
      "text/plain": [
       "<IPython.core.display.HTML object>"
      ]
     },
     "metadata": {},
     "output_type": "display_data"
    }
   ],
   "source": [
    "two_in_O1_3C = interval_O1_3C.deduce_relaxed_membership(two)"
   ]
  },
  {
   "cell_type": "markdown",
   "metadata": {},
   "source": [
    "<font size=3>The proof that Prove-It produces involves a number of steps dealing with the elements 1, 2, and 3 being positive naturals (important in this case as a subset of the reals), and the definition of $2\\in(1,3]$, all of which eventually lead to the instantiation of a relaxation theorem (see rows 0–4):</font>"
   ]
  },
  {
   "cell_type": "code",
   "execution_count": 33,
   "metadata": {},
   "outputs": [
    {
     "data": {
      "text/html": [
       "<table><tr><th>&nbsp;</th><th>step type</th><th>requirements</th><th>statement</th></tr>\n",
       "<tr><td><a name=\"0x41997acf067af789_step0\">0</a></td><td>instantiation</td><td><a href=\"#0x41997acf067af789_step1\">1</a>, <a href=\"#0x41997acf067af789_step2\">2</a>, <a href=\"#0x41997acf067af789_step3\">3</a>, <a href=\"#0x41997acf067af789_step4\">4</a></td><td><span style=\"font-size:20px;\"> <a class=\"ProveItLink\" href=\"../__pv_it/demonstrations/ce23e8b6df0f70d4fb415af13f7d431ab3b9cd850/proof.ipynb\" style=\"text-decoration: none\">&nbsp;&#x22A2;&nbsp;&nbsp;</a><a class=\"ProveItLink\" href=\"../__pv_it/demonstrations/e2df0b0fef9eae78092c877f17ffa481da1bde060/expr.ipynb\"><img src=\"data:image/png;base64,iVBORw0KGgoAAAANSUhEUgAAAEoAAAAVBAMAAAATJmVgAAAAMFBMVEX///+qqqqYmJiIiIgiIiLu\n",
       "7u4QEBBUVFS6urp2dnbMzMxEREQyMjJmZmbc3NwAAADzFso2AAAAAXRSTlMAQObYZgAAAAlwSFlz\n",
       "AAAOxAAADsQBlSsOGwAAAR9JREFUKM9jYMAAzC4LUAVMvDAVMXA2oIvMYOC7e3oBpiouVyjn5dwd\n",
       "IFWvGTh/YKgKv/MVwma9wCAvAFRVx8CQhmkWM1QV80eG+ANAVfkBDPUPwCLWLi4H0FVxZDDwg1SV\n",
       "MDDUgx3WY4rFLCCQVwCqAgJ/EMF3lAGrKg4nBrAqrs8gHs8DrKq4zKsgqlgKwKoYGHDYKABWdRvM\n",
       "WeYCBBuwqGL7ClLFBDaKIRqrWVwLGLg/glRJMvCBnMSCVRX/V4gqrgkMzAGg8DNAV8UKsq4AYuOT\n",
       "u3evgCUPIqvi/McACnQGJgVIePn///8HLBm+IwCuir3sTxEDCyjGe+/ugIQEDHRuQcQQGIgiUg6e\n",
       "9DWBGFWsBsSoYmbAqwoj3WcAAJvJWlyScUzhAAAAAElFTkSuQmCC\n",
       "\" style=\"display:inline;vertical-align:middle;\" /></a></span></td></tr>\n",
       "<tr><td>&nbsp;</td><td colspan=4 style=\"text-align:left\"><span style=\"font-size:20px;\"><a class=\"ProveItLink\" href=\"../../../../__pv_it/common/c06c606ec12678c58933ac85412ecadc2ae28be60/expr.ipynb\"><img src=\"data:image/png;base64,iVBORw0KGgoAAAANSUhEUgAAAAsAAAAJBAMAAAAWSsseAAAAMFBMVEX////MzMwyMjKqqqoiIiJm\n",
       "ZmaYmJju7u5EREQQEBC6urqIiIh2dnZUVFTc3NwAAAAqL9KcAAAAAXRSTlMAQObYZgAAAAlwSFlz\n",
       "AAAOxAAADsQBlSsOGwAAAEdJREFUCNdjYOC7s28DAwPDygcc3xkY2KcxsDowMLB+YGA5wMDA2cBQ\n",
       "v4CBoX4DQz5QRb0BwyXmBwwcG5hdWYEqbx98u5EBABisEWzRR9jxAAAAAElFTkSuQmCC\n",
       "\" style=\"display:inline;vertical-align:middle;\" /></a> : <a class=\"ProveItLink\" href=\"../../../numerals/__pv_it/common/682157d4892d216d9e5626ed533aff9b56b9506e0/expr.ipynb\"><img src=\"data:image/png;base64,iVBORw0KGgoAAAANSUhEUgAAAAgAAAAOBAMAAADgeEClAAAAJ1BMVEX///+YmJgQEBDc3Nx2dnaI\n",
       "iIgyMjJmZmZUVFTu7u4iIiLMzMwAAADHsjQhAAAAAXRSTlMAQObYZgAAAAlwSFlzAAAOxAAADsQB\n",
       "lSsOGwAAAB9JREFUCNdjYOBeycAwo+wkAwMDK8kEy2EGBo6mY40AwiwNMNzp/EYAAAAASUVORK5C\n",
       "YII=\n",
       "\" style=\"display:inline;vertical-align:middle;\" /></a>, <a class=\"ProveItLink\" href=\"../../../../__pv_it/common/195236b98c6c564a75b5dbada74b173bc52d5c3e0/expr.ipynb\"><img src=\"data:image/png;base64,iVBORw0KGgoAAAANSUhEUgAAAAkAAAAOBAMAAAAPuiubAAAAMFBMVEX///+YmJjMzMzc3NyIiIhU\n",
       "VFR2dna6urqqqqpmZmYyMjIiIiIQEBBERETu7u4AAAD7tRWPAAAAAXRSTlMAQObYZgAAAAlwSFlz\n",
       "AAAOxAAADsQBlSsOGwAAAFBJREFUCNdj4LuzgQEIuCaASP4GEFn/AERmgwiGpS4RDAx8vx68N2Dg\n",
       "+MfA48DAuYCBP4GBO4GhvgGkfP4DBn4FvoMMDKwCvEAj+MImMjAAAMxHEV3T4g9SAAAAAElFTkSu\n",
       "QmCC\n",
       "\" style=\"display:inline;vertical-align:middle;\" /></a> : <a class=\"ProveItLink\" href=\"../../../numerals/__pv_it/common/1943b60945420e340d305780feff5c1aff2740ff0/expr.ipynb\"><img src=\"data:image/png;base64,iVBORw0KGgoAAAANSUhEUgAAAAoAAAAOBAMAAADkjZCYAAAAMFBMVEX///9UVFTMzMwiIiKYmJgQ\n",
       "EBAyMjKIiIiqqqru7u66urpERERmZmZ2dnbc3NwAAABametFAAAAAXRSTlMAQObYZgAAAAlwSFlz\n",
       "AAAOxAAADsQBlSsOGwAAAExJREFUCNdjYHh7ZxcDA+cBhv4GBvYfDPMTGLiiGPgTGICg3wFIcJkA\n",
       "CaZCIQawSAOIZP3JwKTAwP2Dgf8niGQVAImwOIDVrzmziwEADhoSVJBN9+MAAAAASUVORK5CYII=\n",
       "\" style=\"display:inline;vertical-align:middle;\" /></a>, <a class=\"ProveItLink\" href=\"../../../../__pv_it/common/a0d9d672aa5e272d907247690c152cc2c6daafb70/expr.ipynb\"><img src=\"data:image/png;base64,iVBORw0KGgoAAAANSUhEUgAAAAsAAAAJBAMAAAAWSsseAAAAMFBMVEX///9ERES6uroQEBAyMjLc\n",
       "3NyYmJgiIiJmZmaqqqp2dnbMzMxUVFSIiIju7u4AAAAd7oVFAAAAAXRSTlMAQObYZgAAAAlwSFlz\n",
       "AAAOxAAADsQBlSsOGwAAAENJREFUCNdjYHh75/WqCQwMDbxnOQoY2ALY/vEkMHAzcDgwgADzBTCl\n",
       "H8D3gOGhwmEGLgaG+fuaGTQZGF7c5WybwAAAJTwQ1a2DuB8AAAAASUVORK5CYII=\n",
       "\" style=\"display:inline;vertical-align:middle;\" /></a> : <a class=\"ProveItLink\" href=\"../../../numerals/__pv_it/common/af4aab8a07465db063742696e006d04670f30cf10/expr.ipynb\"><img src=\"data:image/png;base64,iVBORw0KGgoAAAANSUhEUgAAAAkAAAAOBAMAAAAPuiubAAAAMFBMVEX///+qqqqYmJiIiIgiIiLu\n",
       "7u4QEBBUVFS6urp2dnbMzMxEREQyMjJmZmbc3NwAAADzFso2AAAAAXRSTlMAQObYZgAAAAlwSFlz\n",
       "AAAOxAAADsQBlSsOGwAAAE9JREFUCNdj4Lt7egEDw2sGzh8MDHUMDGkMDPkBDPUPGEoYGOqBEgwM\n",
       "/iCC6zOIZCkAkbdBBBOYKcnA94CBawIDcwDDk7t3rwAV////hwEAK9UUlDYDfx8AAAAASUVORK5C\n",
       "YII=\n",
       "\" style=\"display:inline;vertical-align:middle;\" /></a></span></td></tr><tr><td><a name=\"0x41997acf067af789_step1\">1</a></td><td>conjecture</td><td></td><td><span style=\"font-size:20px;\"> <a class=\"ProveItLink\" href=\"proofs/relax_IntervalOC/thm_proof.ipynb\" style=\"text-decoration: none\">&nbsp;&#x22A2;&nbsp;&nbsp;</a><a class=\"ProveItLink\" href=\"../__pv_it/theorems/b79210494d2cb843c2fd1cda9e8d064b4e1aad780/expr.ipynb\"><img src=\"data:image/png;base64,iVBORw0KGgoAAAANSUhEUgAAAPoAAAAZBAMAAADqEi4iAAAAMFBMVEX///+IiIgiIiIQEBB2dnbu\n",
       "7u5ERETMzMzc3NwyMjK6urpmZmaYmJiqqqpUVFQAAAB6qHgnAAAAAXRSTlMAQObYZgAAAAlwSFlz\n",
       "AAAOxAAADsQBlSsOGwAAA99JREFUSMe1lltoE1kYx/+TZGaSmUw6EcUuuiVE6ioixEVQRCUIXlEY\n",
       "pAriQ7K7doSiMFIRZMGOCoIvpQrKviiR1QXRxdQXb0XHhxavmC74ILssUaoiKNQHsfrkuaSTM2no\n",
       "VLEDczmHOef3Xf7nnA8Iv15kXUzDJWUXT+W3PkzT9eg70+PNOmf81Oi0A3c66D8269zU2BEr4Ryn\n",
       "V+nrvxB6ir4MLxRu5MPo8m8ZRpc8Rr9J+/4Ioesl8kqEa28HQn1PlBkdpxj9EM1WMYSu0ggdCw/8\n",
       "QDi9pcLpDxk9YZFWJSzv1NIt4fRcQFy/ZhdOpF+xOD1qUXqSJCARqrpHUxKfIf6inbCa+b6Gqw4J\n",
       "j836cza7NJQezWbn5UPpOvlFTr/cz6J03BIiHx9pNXnjbPodo8eqjH4N6Ayl6w4UK+CmIMGh6rii\n",
       "iD862syrQSUT+p+u8oFr/pNVcCk9ySPai/j4aKinax//bLx9QqSTX3oDFj0Y/zhIFDs+PkL0cw9P\n",
       "rLfBXWIT5JXQM9zqD4ialG7kGF2xaKN2jVAT2uySFMOGvLjbdNazt+9VF2Tf4FS+To+SiRzc4I6Q\n",
       "jGbn1+j6KCJ8Or0PLXkKVEcZ3TAF0S0j9y2H6FXCoCnSh31f9Gv04RscdYJ0YAkPcVHwPVpEgY8g\n",
       "RlypULqWq2n5Lnl03N1ADX7fZrFdiNBnlUV6IkmMkeYcvo65bBIy/eaZNPc96ZeByEMbwzbayAj0\n",
       "gokn/nK/w4JtZDh9C1nM8gJ1jELbpfJ2tlZj8V88kR57RkTXmiqe4T4dB7a6PZQ+w5rj0xUTclcq\n",
       "BxbktEiv4I3hypTuEA0w1RU5/SgZrJdVulMoXrLvMqPru4qBUya+mjw8xXQ0ZtRfJEHopl97cN+n\n",
       "k1VkfNyZ09jmlajU6YppLNJRIBOlPKXM6HR1UnrKoRmTqiyJevW+bdsVSYr9HTzjXrO4uUietu29\n",
       "+B9YgTaulNs+Xc1A7jf/fcwT/+pCXfPP1/fORqSd9I4M8N0mUqqfsAVXGSShbUG0sp/5LmnnrYkn\n",
       "bDdclYX1AOQx7KH5HcUqn47AQa6ta9xpn9ZPWBwRzveo23PZ6kDEGuK7Cllxa8uN9HhuI8p8ayKq\n",
       "W65+HpTzaCcJ9OkPJz9l8gJ9QKBrA8Ob0V1R+03Ed5P2xR/yO29M8L3/fNrCMYcKxMWlxzM9dRV+\n",
       "T9dXHO2ehC6bdTo7VoO1DddJh22XJqlt5HV2F7SaGwZ7+nS5OBldEmobZmeArllTr6yu89eFIB2H\n",
       "m41f01jXzSuhdUJdl/yKui7GLfUa6NNQ055sVs8LcRoyv7GeX/kFKw8CsmtTA8IAAAAASUVORK5C\n",
       "YII=\n",
       "\" style=\"display:inline;vertical-align:middle;\" /></a></span></td></tr>\n",
       "<tr><td>&nbsp;</td><td colspan=4 style-\"text-align:left\"><a class=\"ProveItLink\" href=\"proofs/relax_IntervalOC/thm_proof.ipynb\">proveit.numbers.number_sets.real_numbers.relax_IntervalOC</a></td></tr><tr><td><a name=\"0x41997acf067af789_step2\">2</a></td><td><i>reference</i></td><td><a href=\"#0x41997acf067af789_step6\">6</a></td><td><span style=\"font-size:20px;\"> <a class=\"ProveItLink\" href=\"../__pv_it/demonstrations/1d183d6ba37b030003f0fcace87f807cfb13ac290/proof.ipynb\" style=\"text-decoration: none\">&nbsp;&#x22A2;&nbsp;&nbsp;</a><a class=\"ProveItLink\" href=\"../__pv_it/demonstrations/e85b82706e67941bf6fbd12d76d066206df49cb50/expr.ipynb\"><img src=\"data:image/png;base64,iVBORw0KGgoAAAANSUhEUgAAADIAAAAQBAMAAACmdTG/AAAAMFBMVEX///+qqqq6urpERESYmJgQ\n",
       "EBDc3Nx2dnaIiIgyMjJmZmZUVFTu7u4iIiLMzMwAAAAz/ewvAAAAAXRSTlMAQObYZgAAAAlwSFlz\n",
       "AAAOxAAADsQBlSsOGwAAAKpJREFUGNNjYEAHLFONf141AbH47qBJMbNtYNpiw8BweuUfDJkCBoPX\n",
       "QAYHNpllnMgyzXfvToDLMCPJaPYg6dlzGiHDNgfJND7DaQgZzgSETOT9GweQZJBcUOIDthAq8/Qu\n",
       "EBhATbNxQZI5jOzqV8xIpvEiy3A9M0DIcDQgyfAYtAAZ7N8gAhMRMgsYXJgVGLi3/twCFjhtdAAW\n",
       "1p8TmC0/IoWXui0kdKAAAAipOafGlyVcAAAAAElFTkSuQmCC\n",
       "\" style=\"display:inline;vertical-align:middle;\" /></a></span></td></tr>\n",
       "<tr><td><a name=\"0x41997acf067af789_step3\">3</a></td><td><i>reference</i></td><td><a href=\"#0x41997acf067af789_step7\">7</a></td><td><span style=\"font-size:20px;\"> <a class=\"ProveItLink\" href=\"../__pv_it/demonstrations/5cc9dfda88b81fee3b803c3c3dc69334b700fc620/proof.ipynb\" style=\"text-decoration: none\">&nbsp;&#x22A2;&nbsp;&nbsp;</a><a class=\"ProveItLink\" href=\"../__pv_it/demonstrations/fadaeb029e616f6bbcf826d0a45473e470fa61e80/expr.ipynb\"><img src=\"data:image/png;base64,iVBORw0KGgoAAAANSUhEUgAAADMAAAAQBAMAAABJt1qBAAAAMFBMVEX///9UVFTMzMwiIiKYmJgQ\n",
       "EBAyMjKIiIiqqqru7u66urpERERmZmZ2dnbc3NwAAABametFAAAAAXRSTlMAQObYZgAAAAlwSFlz\n",
       "AAAOxAAADsQBlSsOGwAAANdJREFUGNNjYMAAbtH7k6MdQKy3d3ahyW14yLDQewIDA+cBhv4GNKm3\n",
       "DNxMAgwM7D8Y5idgSPE8AIpxRTHwQ6TYNxubIaQ2gJn9YDu50icgdDHOFACLmYAFnk1AMlC77QGQ\n",
       "wVQoBBbIQ9j1NPlzJYQJcWECkjNcpkGZrD9BmoONjY2toVLcU0DWMykwcP8A0pwbkHQxHdgJpPl/\n",
       "QqQYDJD9deg1yDQBiIEM5chSs9mBJrI4QP3FBg+uDW+AoqCAXXMGEryc0ivhIb+PYXc+csBy3YYG\n",
       "FBQAAG2vRjxIJgfAAAAAAElFTkSuQmCC\n",
       "\" style=\"display:inline;vertical-align:middle;\" /></a></span></td></tr>\n",
       "<tr><td><a name=\"0x41997acf067af789_step4\">4</a></td><td>instantiation</td><td><a href=\"#0x41997acf067af789_step5\">5</a>, <a href=\"#0x41997acf067af789_step6\">6</a>, <a href=\"#0x41997acf067af789_step7\">7</a>, <a href=\"#0x41997acf067af789_step8\">8</a>, <a href=\"#0x41997acf067af789_step9\">9</a></td><td><span style=\"font-size:20px;\"> <a class=\"ProveItLink\" href=\"../__pv_it/demonstrations/8b2fa2e05af0f2de821dab39a088456dda80caf60/proof.ipynb\" style=\"text-decoration: none\">&nbsp;&#x22A2;&nbsp;&nbsp;</a><a class=\"ProveItLink\" href=\"../__pv_it/demonstrations/8ab0d813787a6eb402293dc6c0666aec86e7dd7c0/expr.ipynb\"><img src=\"data:image/png;base64,iVBORw0KGgoAAAANSUhEUgAAAEwAAAAVBAMAAAAeOBUnAAAAMFBMVEX///+qqqqYmJiIiIgiIiLu\n",
       "7u4QEBBUVFS6urp2dnbMzMxEREQyMjJmZmbc3NwAAADzFso2AAAAAXRSTlMAQObYZgAAAAlwSFlz\n",
       "AAAOxAAADsQBlSsOGwAAAU5JREFUKM9jYMAC+ND4Jl7YVDEYogvMYOC7e3oBmiDjBAYGLlco5+Xc\n",
       "HSBlrxk4f6Api2FgCL/zFcJmvcAgLwBUVsfAkIam7BIQM0OVMX9kiD8AVJYfwFD/ACxi7eJyAMxI\n",
       "QFLGkcHAD1JWwsBQD3ZcjynMaQeQlAGBvAJQGRD4gwPhKEyYdwKKMg4nBrAyrs8gHs8DmDiPArIy\n",
       "LvMqiDKWArAk3BIWATRLBcDKboM5y1yAYAOIxdaAqoztK0gZE9gwhmiEMLIyrgUM3B9ByiQZ+EDO\n",
       "YsFuKf9XiDKuCQzMASBxA5gybgOoMlaQ0QUQS5/cvXsFLHsQpowT5ArOfwyg4GdgUoCEm////3/A\n",
       "suE7AqDOcWBgYC/7U8TAAor+3rs7IAECA51boJEFT12iiISEBejCGBPwKuOGRgirAV5lrBugiYgB\n",
       "rzKGx+h5IQMAfeBXcbx0MAwAAAAASUVORK5CYII=\n",
       "\" style=\"display:inline;vertical-align:middle;\" /></a></span></td></tr>\n",
       "<tr><td>&nbsp;</td><td colspan=4 style=\"text-align:left\"><span style=\"font-size:20px;\"><a class=\"ProveItLink\" href=\"../../../../__pv_it/common/c06c606ec12678c58933ac85412ecadc2ae28be60/expr.ipynb\"><img src=\"data:image/png;base64,iVBORw0KGgoAAAANSUhEUgAAAAsAAAAJBAMAAAAWSsseAAAAMFBMVEX////MzMwyMjKqqqoiIiJm\n",
       "ZmaYmJju7u5EREQQEBC6urqIiIh2dnZUVFTc3NwAAAAqL9KcAAAAAXRSTlMAQObYZgAAAAlwSFlz\n",
       "AAAOxAAADsQBlSsOGwAAAEdJREFUCNdjYOC7s28DAwPDygcc3xkY2KcxsDowMLB+YGA5wMDA2cBQ\n",
       "v4CBoX4DQz5QRb0BwyXmBwwcG5hdWYEqbx98u5EBABisEWzRR9jxAAAAAElFTkSuQmCC\n",
       "\" style=\"display:inline;vertical-align:middle;\" /></a> : <a class=\"ProveItLink\" href=\"../../../numerals/__pv_it/common/682157d4892d216d9e5626ed533aff9b56b9506e0/expr.ipynb\"><img src=\"data:image/png;base64,iVBORw0KGgoAAAANSUhEUgAAAAgAAAAOBAMAAADgeEClAAAAJ1BMVEX///+YmJgQEBDc3Nx2dnaI\n",
       "iIgyMjJmZmZUVFTu7u4iIiLMzMwAAADHsjQhAAAAAXRSTlMAQObYZgAAAAlwSFlzAAAOxAAADsQB\n",
       "lSsOGwAAAB9JREFUCNdjYOBeycAwo+wkAwMDK8kEy2EGBo6mY40AwiwNMNzp/EYAAAAASUVORK5C\n",
       "YII=\n",
       "\" style=\"display:inline;vertical-align:middle;\" /></a>, <a class=\"ProveItLink\" href=\"../../../../__pv_it/common/195236b98c6c564a75b5dbada74b173bc52d5c3e0/expr.ipynb\"><img src=\"data:image/png;base64,iVBORw0KGgoAAAANSUhEUgAAAAkAAAAOBAMAAAAPuiubAAAAMFBMVEX///+YmJjMzMzc3NyIiIhU\n",
       "VFR2dna6urqqqqpmZmYyMjIiIiIQEBBERETu7u4AAAD7tRWPAAAAAXRSTlMAQObYZgAAAAlwSFlz\n",
       "AAAOxAAADsQBlSsOGwAAAFBJREFUCNdj4LuzgQEIuCaASP4GEFn/AERmgwiGpS4RDAx8vx68N2Dg\n",
       "+MfA48DAuYCBP4GBO4GhvgGkfP4DBn4FvoMMDKwCvEAj+MImMjAAAMxHEV3T4g9SAAAAAElFTkSu\n",
       "QmCC\n",
       "\" style=\"display:inline;vertical-align:middle;\" /></a> : <a class=\"ProveItLink\" href=\"../../../numerals/__pv_it/common/1943b60945420e340d305780feff5c1aff2740ff0/expr.ipynb\"><img src=\"data:image/png;base64,iVBORw0KGgoAAAANSUhEUgAAAAoAAAAOBAMAAADkjZCYAAAAMFBMVEX///9UVFTMzMwiIiKYmJgQ\n",
       "EBAyMjKIiIiqqqru7u66urpERERmZmZ2dnbc3NwAAABametFAAAAAXRSTlMAQObYZgAAAAlwSFlz\n",
       "AAAOxAAADsQBlSsOGwAAAExJREFUCNdjYHh7ZxcDA+cBhv4GBvYfDPMTGLiiGPgTGICg3wFIcJkA\n",
       "CaZCIQawSAOIZP3JwKTAwP2Dgf8niGQVAImwOIDVrzmziwEADhoSVJBN9+MAAAAASUVORK5CYII=\n",
       "\" style=\"display:inline;vertical-align:middle;\" /></a>, <a class=\"ProveItLink\" href=\"../../../../__pv_it/common/a0d9d672aa5e272d907247690c152cc2c6daafb70/expr.ipynb\"><img src=\"data:image/png;base64,iVBORw0KGgoAAAANSUhEUgAAAAsAAAAJBAMAAAAWSsseAAAAMFBMVEX///9ERES6uroQEBAyMjLc\n",
       "3NyYmJgiIiJmZmaqqqp2dnbMzMxUVFSIiIju7u4AAAAd7oVFAAAAAXRSTlMAQObYZgAAAAlwSFlz\n",
       "AAAOxAAADsQBlSsOGwAAAENJREFUCNdjYHh75/WqCQwMDbxnOQoY2ALY/vEkMHAzcDgwgADzBTCl\n",
       "H8D3gOGhwmEGLgaG+fuaGTQZGF7c5WybwAAAJTwQ1a2DuB8AAAAASUVORK5CYII=\n",
       "\" style=\"display:inline;vertical-align:middle;\" /></a> : <a class=\"ProveItLink\" href=\"../../../numerals/__pv_it/common/af4aab8a07465db063742696e006d04670f30cf10/expr.ipynb\"><img src=\"data:image/png;base64,iVBORw0KGgoAAAANSUhEUgAAAAkAAAAOBAMAAAAPuiubAAAAMFBMVEX///+qqqqYmJiIiIgiIiLu\n",
       "7u4QEBBUVFS6urp2dnbMzMxEREQyMjJmZmbc3NwAAADzFso2AAAAAXRSTlMAQObYZgAAAAlwSFlz\n",
       "AAAOxAAADsQBlSsOGwAAAE9JREFUCNdj4Lt7egEDw2sGzh8MDHUMDGkMDPkBDPUPGEoYGOqBEgwM\n",
       "/iCC6zOIZCkAkbdBBBOYKcnA94CBawIDcwDDk7t3rwAV////hwEAK9UUlDYDfx8AAAAASUVORK5C\n",
       "YII=\n",
       "\" style=\"display:inline;vertical-align:middle;\" /></a></span></td></tr><tr><td><a name=\"0x41997acf067af789_step5\">5</a></td><td>conjecture</td><td></td><td><span style=\"font-size:20px;\"> <a class=\"ProveItLink\" href=\"proofs/in_IntervalOC/thm_proof.ipynb\" style=\"text-decoration: none\">&nbsp;&#x22A2;&nbsp;&nbsp;</a><a class=\"ProveItLink\" href=\"../__pv_it/theorems/b72e9bedd237cdc384af365d7e3943e19337e7110/expr.ipynb\"><img src=\"data:image/png;base64,iVBORw0KGgoAAAANSUhEUgAAAPUAAAAXBAMAAAAhExTfAAAAMFBMVEX///+IiIgiIiIQEBB2dnbu\n",
       "7u5ERETMzMzc3NwyMjK6urpmZmaYmJiqqqpUVFQAAAB6qHgnAAAAAXRSTlMAQObYZgAAAAlwSFlz\n",
       "AAAOxAAADsQBlSsOGwAAA3pJREFUSMetVk1oE1EQnk2y+dlNmu2htSqWEhEFEaIIgniIglrByh6i\n",
       "IAXTao1SL8EWj7rae4mHigeVir0IlaYiaLXU9NCiFOkqWhA9VKiCqKUeivXmzLzd7CZuaQ87kJeZ\n",
       "YeZ9783fPgBfKeqtNqpFKVWoVflAWzy1klmjCA3CffybJ/6zT9CJjKf6vYuXz7UwtlQGeE6K2z5h\n",
       "n/bUykW3FCsxNgwAXKUsdfiEPe6pVctuKWkK7Bk8ho6s6RN2ukpqTKX4xsEq7YgusIM6xPFQMb/S\n",
       "XRXchw0W87HK6JCoNYgh8J5Uaq9P2CqWmlz/tbeN223AVj8haaFJE9K9+l+MHcIqfwpwfu1tS+vB\n",
       "pquo0Kw9ZqHSwXfw98AIL4vC+6vnDMKOY5D6ITpvW0VuVW/27tjETcGtWo1zhuMUwLp5BbP6T8au\n",
       "mOxCxAOgtoi8LENQI+wEFkdYJ86iBWfTSHN+UApBa8YDW3agNZdTEDcqwJgQelJI7LYfo7EEAbGR\n",
       "WoRkhhAjS4ivuUptn8O+KOBAkmBK+x87OqFb3HTZ7RTkS+wWwqmKOWIHOyAnbohHGDEJW6GmKE7i\n",
       "kp1spbv+bqZd659tNmjuEHZDyYVtWS0awgYaTcfJijkoK3CSBXfMcxrMVtr7JUc6QTlow4KUd0RW\n",
       "CGubhFCS8S1m8rGlULSz7GALK+WSYdn08FwQTkRhDeTuujRwdCXNxu5EbBO+JwxKVbKAuedaoy37\n",
       "sNTUUoRCEC5T9cWhMwLD7K92dbhqja2ULrol2ySYFU78iZiHxJ/2tCJG1V0b+wSdKrFThRza1ZXD\n",
       "JcamhoS6AmVKomIPFlSuebzd63w+b0pS6JELm616rCFIceJz2E4Y/RaQR7VPb4R0pttKxWWM2Jej\n",
       "/RsgsA25hXExWwJ2heeM8BRaJiHIGUxHoZfvLSlDuoPNVvIRBicbXH8YthPR9qpuGDorZmqgYGs+\n",
       "ON9QuFGpUOPasJ6FgD4NWegLFVVsPc43HHbVGlvhnMYSYBsq+UWdnCya8RwB8cpgyriwK98dZfzt\n",
       "cYxmZFTDVd10sAGiF2gkb8y0jznYbCU6i23ES4WcLAp7v0Yu2mNBc7Brv52ma4VsPu/MnJrZMrfK\n",
       "i0f2Hn92q0uud0vNMRXdWWtpnV/4696vOK3mDbV1EJpq8uJa14V9BXsh7/+jb42Xpi/0D/IV3iBU\n",
       "WLEyAAAAAElFTkSuQmCC\n",
       "\" style=\"display:inline;vertical-align:middle;\" /></a></span></td></tr>\n",
       "<tr><td>&nbsp;</td><td colspan=4 style-\"text-align:left\"><a class=\"ProveItLink\" href=\"proofs/in_IntervalOC/thm_proof.ipynb\">proveit.numbers.number_sets.real_numbers.in_IntervalOC</a></td></tr><tr><td><a name=\"0x41997acf067af789_step6\">6</a></td><td>instantiation</td><td><a href=\"#0x41997acf067af789_step12\">12</a>, <a href=\"#0x41997acf067af789_step13\">13</a>, <a href=\"#0x41997acf067af789_step10\">10</a></td><td><span style=\"font-size:20px;\"> <a class=\"ProveItLink\" href=\"../__pv_it/demonstrations/1d183d6ba37b030003f0fcace87f807cfb13ac290/proof.ipynb\" style=\"text-decoration: none\">&nbsp;&#x22A2;&nbsp;&nbsp;</a><a class=\"ProveItLink\" href=\"../__pv_it/demonstrations/e85b82706e67941bf6fbd12d76d066206df49cb50/expr.ipynb\"><img src=\"data:image/png;base64,iVBORw0KGgoAAAANSUhEUgAAADIAAAAQBAMAAACmdTG/AAAAMFBMVEX///+qqqq6urpERESYmJgQ\n",
       "EBDc3Nx2dnaIiIgyMjJmZmZUVFTu7u4iIiLMzMwAAAAz/ewvAAAAAXRSTlMAQObYZgAAAAlwSFlz\n",
       "AAAOxAAADsQBlSsOGwAAAKpJREFUGNNjYEAHLFONf141AbH47qBJMbNtYNpiw8BweuUfDJkCBoPX\n",
       "QAYHNpllnMgyzXfvToDLMCPJaPYg6dlzGiHDNgfJND7DaQgZzgSETOT9GweQZJBcUOIDthAq8/Qu\n",
       "EBhATbNxQZI5jOzqV8xIpvEiy3A9M0DIcDQgyfAYtAAZ7N8gAhMRMgsYXJgVGLi3/twCFjhtdAAW\n",
       "1p8TmC0/IoWXui0kdKAAAAipOafGlyVcAAAAAElFTkSuQmCC\n",
       "\" style=\"display:inline;vertical-align:middle;\" /></a></span></td></tr>\n",
       "<tr><td>&nbsp;</td><td colspan=4 style=\"text-align:left\"><span style=\"font-size:20px;\"><a class=\"ProveItLink\" href=\"../../../../__pv_it/common/09585084922504426caf1db2ff588a23a0932a960/expr.ipynb\"><img src=\"data:image/png;base64,iVBORw0KGgoAAAANSUhEUgAAAA8AAAAPBAMAAADJ+Ih5AAAAMFBMVEX///8QEBAiIiLu7u5ERES6\n",
       "urqYmJiIiIjMzMx2dnZUVFRmZmaqqqoyMjLc3NwAAABb1yYoAAAAAXRSTlMAQObYZgAAAAlwSFlz\n",
       "AAAOxAAADsQBlSsOGwAAAF9JREFUCNdjYACBtwxQcB9K8/yHMrjXP4Aw5s1vANN8BfUHIDIM5xPA\n",
       "jBiG/glgxgaG9wtANLv37vUOIIY5AwO/AkSGgUkASLMCdfB+ADIeAjHLPwYGk/+XGXj8/04AADnq\n",
       "Fzds8Dk2AAAAAElFTkSuQmCC\n",
       "\" style=\"display:inline;vertical-align:middle;\" /></a> : <a class=\"ProveItLink\" href=\"../../natural_numbers/__pv_it/common/6111329435c43892c831c4793de96afbf80bdb3e0/expr.ipynb\"><img src=\"data:image/png;base64,iVBORw0KGgoAAAANSUhEUgAAABsAAAASBAMAAABY9biuAAAAMFBMVEX///9mZmbMzMyIiIiYmJjc\n",
       "3NxUVFSqqqq6uroQEBB2dnYyMjJEREQiIiLu7u4AAAAPqInnAAAAAXRSTlMAQObYZgAAAAlwSFlz\n",
       "AAAOxAAADsQBlSsOGwAAAH9JREFUGNNjYIADRgYUwIOF+/bP6QcMK382wGSPcyQw8H2AK84NWMLA\n",
       "MIFB5szJM2ccGBjSD3AHMFyAy6Y6s25A5rIpWCFzGQ7wNCBzFfnuXYC7KpWBpaBmAtwxqQwMeWwo\n",
       "3Gd8F5C5TAYH4NxDQGyE4G4HGboBxtP+CZThg3EBq00lI5JfX3wAAAAASUVORK5CYII=\n",
       "\" style=\"display:inline;vertical-align:middle;\" /></a>, <a class=\"ProveItLink\" href=\"../../../../__pv_it/common/a9162d1c3cc0470c02e5daf414500903a7a419230/expr.ipynb\"><img src=\"data:image/png;base64,iVBORw0KGgoAAAANSUhEUgAAABAAAAAOBAMAAADUAYG5AAAAMFBMVEX///92dnaqqqoiIiLu7u5m\n",
       "Zma6urqIiIjc3NwQEBDMzMwyMjJUVFRERESYmJgAAAAeMT9/AAAAAXRSTlMAQObYZgAAAAlwSFlz\n",
       "AAAOxAAADsQBlSsOGwAAAHJJREFUCNdjYGB4+//Mmb0LGIBgLgMDzy8gzfGdgYHtK5DBB+TxATkM\n",
       "PB8YGLhnABmcFxhYDoMUr79efvoBSFN9AwPTPBDjJhDLg6T+APH7AgYGrn9AxvkEBgb2H0DObyCH\n",
       "ewIDQ+YWoHH3/5w5fYmBAQBWoiHo17XzsQAAAABJRU5ErkJggg==\n",
       "\" style=\"display:inline;vertical-align:middle;\" /></a> : <a class=\"ProveItLink\" href=\"../__pv_it/common/93cac87a1a47e613f7a83b23ef7891599a1a4cca0/expr.ipynb\"><img src=\"data:image/png;base64,iVBORw0KGgoAAAANSUhEUgAAAA8AAAAPBAMAAADJ+Ih5AAAAMFBMVEX///+IiIiqqqpmZmbMzMx2\n",
       "dnbu7u66urpUVFTc3NwiIiJEREQQEBAyMjKYmJgAAAA9S0TaAAAAAXRSTlMAQObYZgAAAAlwSFlz\n",
       "AAAOxAAADsQBlSsOGwAAAGFJREFUCNdjeHt6/63TDxiAYMMMhorXCSDGVAZulgYIg3nCBRhjA4TB\n",
       "kQaV8tadAGLMufVLDKx96rtcBgiDOw9i4FQWg20QBoPJbCgjmxEkt2EyA9+D7QwMQNt3Muy+rwAA\n",
       "UbUqpptLVNkAAAAASUVORK5CYII=\n",
       "\" style=\"display:inline;vertical-align:middle;\" /></a>, <a class=\"ProveItLink\" href=\"../../../../__pv_it/common/a0d9d672aa5e272d907247690c152cc2c6daafb70/expr.ipynb\"><img src=\"data:image/png;base64,iVBORw0KGgoAAAANSUhEUgAAAAsAAAAJBAMAAAAWSsseAAAAMFBMVEX///9ERES6uroQEBAyMjLc\n",
       "3NyYmJgiIiJmZmaqqqp2dnbMzMxUVFSIiIju7u4AAAAd7oVFAAAAAXRSTlMAQObYZgAAAAlwSFlz\n",
       "AAAOxAAADsQBlSsOGwAAAENJREFUCNdjYHh75/WqCQwMDbxnOQoY2ALY/vEkMHAzcDgwgADzBTCl\n",
       "H8D3gOGhwmEGLgaG+fuaGTQZGF7c5WybwAAAJTwQ1a2DuB8AAAAASUVORK5CYII=\n",
       "\" style=\"display:inline;vertical-align:middle;\" /></a> : <a class=\"ProveItLink\" href=\"../../../numerals/__pv_it/common/682157d4892d216d9e5626ed533aff9b56b9506e0/expr.ipynb\"><img src=\"data:image/png;base64,iVBORw0KGgoAAAANSUhEUgAAAAgAAAAOBAMAAADgeEClAAAAJ1BMVEX///+YmJgQEBDc3Nx2dnaI\n",
       "iIgyMjJmZmZUVFTu7u4iIiLMzMwAAADHsjQhAAAAAXRSTlMAQObYZgAAAAlwSFlzAAAOxAAADsQB\n",
       "lSsOGwAAAB9JREFUCNdjYOBeycAwo+wkAwMDK8kEy2EGBo6mY40AwiwNMNzp/EYAAAAASUVORK5C\n",
       "YII=\n",
       "\" style=\"display:inline;vertical-align:middle;\" /></a></span></td></tr><tr><td><a name=\"0x41997acf067af789_step7\">7</a></td><td>instantiation</td><td><a href=\"#0x41997acf067af789_step12\">12</a>, <a href=\"#0x41997acf067af789_step13\">13</a>, <a href=\"#0x41997acf067af789_step11\">11</a></td><td><span style=\"font-size:20px;\"> <a class=\"ProveItLink\" href=\"../__pv_it/demonstrations/5cc9dfda88b81fee3b803c3c3dc69334b700fc620/proof.ipynb\" style=\"text-decoration: none\">&nbsp;&#x22A2;&nbsp;&nbsp;</a><a class=\"ProveItLink\" href=\"../__pv_it/demonstrations/fadaeb029e616f6bbcf826d0a45473e470fa61e80/expr.ipynb\"><img src=\"data:image/png;base64,iVBORw0KGgoAAAANSUhEUgAAADMAAAAQBAMAAABJt1qBAAAAMFBMVEX///9UVFTMzMwiIiKYmJgQ\n",
       "EBAyMjKIiIiqqqru7u66urpERERmZmZ2dnbc3NwAAABametFAAAAAXRSTlMAQObYZgAAAAlwSFlz\n",
       "AAAOxAAADsQBlSsOGwAAANdJREFUGNNjYMAAbtH7k6MdQKy3d3ahyW14yLDQewIDA+cBhv4GNKm3\n",
       "DNxMAgwM7D8Y5idgSPE8AIpxRTHwQ6TYNxubIaQ2gJn9YDu50icgdDHOFACLmYAFnk1AMlC77QGQ\n",
       "wVQoBBbIQ9j1NPlzJYQJcWECkjNcpkGZrD9BmoONjY2toVLcU0DWMykwcP8A0pwbkHQxHdgJpPl/\n",
       "QqQYDJD9deg1yDQBiIEM5chSs9mBJrI4QP3FBg+uDW+AoqCAXXMGEryc0ivhIb+PYXc+csBy3YYG\n",
       "FBQAAG2vRjxIJgfAAAAAAElFTkSuQmCC\n",
       "\" style=\"display:inline;vertical-align:middle;\" /></a></span></td></tr>\n",
       "<tr><td>&nbsp;</td><td colspan=4 style=\"text-align:left\"><span style=\"font-size:20px;\"><a class=\"ProveItLink\" href=\"../../../../__pv_it/common/09585084922504426caf1db2ff588a23a0932a960/expr.ipynb\"><img src=\"data:image/png;base64,iVBORw0KGgoAAAANSUhEUgAAAA8AAAAPBAMAAADJ+Ih5AAAAMFBMVEX///8QEBAiIiLu7u5ERES6\n",
       "urqYmJiIiIjMzMx2dnZUVFRmZmaqqqoyMjLc3NwAAABb1yYoAAAAAXRSTlMAQObYZgAAAAlwSFlz\n",
       "AAAOxAAADsQBlSsOGwAAAF9JREFUCNdjYACBtwxQcB9K8/yHMrjXP4Aw5s1vANN8BfUHIDIM5xPA\n",
       "jBiG/glgxgaG9wtANLv37vUOIIY5AwO/AkSGgUkASLMCdfB+ADIeAjHLPwYGk/+XGXj8/04AADnq\n",
       "Fzds8Dk2AAAAAElFTkSuQmCC\n",
       "\" style=\"display:inline;vertical-align:middle;\" /></a> : <a class=\"ProveItLink\" href=\"../../natural_numbers/__pv_it/common/6111329435c43892c831c4793de96afbf80bdb3e0/expr.ipynb\"><img src=\"data:image/png;base64,iVBORw0KGgoAAAANSUhEUgAAABsAAAASBAMAAABY9biuAAAAMFBMVEX///9mZmbMzMyIiIiYmJjc\n",
       "3NxUVFSqqqq6uroQEBB2dnYyMjJEREQiIiLu7u4AAAAPqInnAAAAAXRSTlMAQObYZgAAAAlwSFlz\n",
       "AAAOxAAADsQBlSsOGwAAAH9JREFUGNNjYIADRgYUwIOF+/bP6QcMK382wGSPcyQw8H2AK84NWMLA\n",
       "MIFB5szJM2ccGBjSD3AHMFyAy6Y6s25A5rIpWCFzGQ7wNCBzFfnuXYC7KpWBpaBmAtwxqQwMeWwo\n",
       "3Gd8F5C5TAYH4NxDQGyE4G4HGboBxtP+CZThg3EBq00lI5JfX3wAAAAASUVORK5CYII=\n",
       "\" style=\"display:inline;vertical-align:middle;\" /></a>, <a class=\"ProveItLink\" href=\"../../../../__pv_it/common/a9162d1c3cc0470c02e5daf414500903a7a419230/expr.ipynb\"><img src=\"data:image/png;base64,iVBORw0KGgoAAAANSUhEUgAAABAAAAAOBAMAAADUAYG5AAAAMFBMVEX///92dnaqqqoiIiLu7u5m\n",
       "Zma6urqIiIjc3NwQEBDMzMwyMjJUVFRERESYmJgAAAAeMT9/AAAAAXRSTlMAQObYZgAAAAlwSFlz\n",
       "AAAOxAAADsQBlSsOGwAAAHJJREFUCNdjYGB4+//Mmb0LGIBgLgMDzy8gzfGdgYHtK5DBB+TxATkM\n",
       "PB8YGLhnABmcFxhYDoMUr79efvoBSFN9AwPTPBDjJhDLg6T+APH7AgYGrn9AxvkEBgb2H0DObyCH\n",
       "ewIDQ+YWoHH3/5w5fYmBAQBWoiHo17XzsQAAAABJRU5ErkJggg==\n",
       "\" style=\"display:inline;vertical-align:middle;\" /></a> : <a class=\"ProveItLink\" href=\"../__pv_it/common/93cac87a1a47e613f7a83b23ef7891599a1a4cca0/expr.ipynb\"><img src=\"data:image/png;base64,iVBORw0KGgoAAAANSUhEUgAAAA8AAAAPBAMAAADJ+Ih5AAAAMFBMVEX///+IiIiqqqpmZmbMzMx2\n",
       "dnbu7u66urpUVFTc3NwiIiJEREQQEBAyMjKYmJgAAAA9S0TaAAAAAXRSTlMAQObYZgAAAAlwSFlz\n",
       "AAAOxAAADsQBlSsOGwAAAGFJREFUCNdjeHt6/63TDxiAYMMMhorXCSDGVAZulgYIg3nCBRhjA4TB\n",
       "kQaV8tadAGLMufVLDKx96rtcBgiDOw9i4FQWg20QBoPJbCgjmxEkt2EyA9+D7QwMQNt3Muy+rwAA\n",
       "UbUqpptLVNkAAAAASUVORK5CYII=\n",
       "\" style=\"display:inline;vertical-align:middle;\" /></a>, <a class=\"ProveItLink\" href=\"../../../../__pv_it/common/a0d9d672aa5e272d907247690c152cc2c6daafb70/expr.ipynb\"><img src=\"data:image/png;base64,iVBORw0KGgoAAAANSUhEUgAAAAsAAAAJBAMAAAAWSsseAAAAMFBMVEX///9ERES6uroQEBAyMjLc\n",
       "3NyYmJgiIiJmZmaqqqp2dnbMzMxUVFSIiIju7u4AAAAd7oVFAAAAAXRSTlMAQObYZgAAAAlwSFlz\n",
       "AAAOxAAADsQBlSsOGwAAAENJREFUCNdjYHh75/WqCQwMDbxnOQoY2ALY/vEkMHAzcDgwgADzBTCl\n",
       "H8D3gOGhwmEGLgaG+fuaGTQZGF7c5WybwAAAJTwQ1a2DuB8AAAAASUVORK5CYII=\n",
       "\" style=\"display:inline;vertical-align:middle;\" /></a> : <a class=\"ProveItLink\" href=\"../../../numerals/__pv_it/common/1943b60945420e340d305780feff5c1aff2740ff0/expr.ipynb\"><img src=\"data:image/png;base64,iVBORw0KGgoAAAANSUhEUgAAAAoAAAAOBAMAAADkjZCYAAAAMFBMVEX///9UVFTMzMwiIiKYmJgQ\n",
       "EBAyMjKIiIiqqqru7u66urpERERmZmZ2dnbc3NwAAABametFAAAAAXRSTlMAQObYZgAAAAlwSFlz\n",
       "AAAOxAAADsQBlSsOGwAAAExJREFUCNdjYHh7ZxcDA+cBhv4GBvYfDPMTGLiiGPgTGICg3wFIcJkA\n",
       "CaZCIQawSAOIZP3JwKTAwP2Dgf8niGQVAImwOIDVrzmziwEADhoSVJBN9+MAAAAASUVORK5CYII=\n",
       "\" style=\"display:inline;vertical-align:middle;\" /></a></span></td></tr><tr><td><a name=\"0x41997acf067af789_step8\">8</a></td><td>instantiation</td><td><a href=\"#0x41997acf067af789_step12\">12</a>, <a href=\"#0x41997acf067af789_step13\">13</a>, <a href=\"#0x41997acf067af789_step14\">14</a></td><td><span style=\"font-size:20px;\"> <a class=\"ProveItLink\" href=\"../__pv_it/demonstrations/197978827ea8f6ebd5042f819b6b1120f6523f5f0/proof.ipynb\" style=\"text-decoration: none\">&nbsp;&#x22A2;&nbsp;&nbsp;</a><a class=\"ProveItLink\" href=\"../__pv_it/demonstrations/10675168af95ab4183d974a4da377566e33aab420/expr.ipynb\"><img src=\"data:image/png;base64,iVBORw0KGgoAAAANSUhEUgAAADIAAAAQBAMAAACmdTG/AAAAMFBMVEX///+qqqqYmJiIiIgiIiLu\n",
       "7u4QEBBUVFS6urp2dnbMzMxEREQyMjJmZmbc3NwAAADzFso2AAAAAXRSTlMAQObYZgAAAAlwSFlz\n",
       "AAAOxAAADsQBlSsOGwAAANlJREFUGNNjYEAHTMd2/3HbBGTw3T29AFWKm6+Ao2grA8NrBs4f6DIT\n",
       "GDYsZ2CoY2BIw5S5x8PAkB/AUP8ALGLt4nIALsPNwFDCwFAPtqjHFElPaTiY6Q8i+I4imca18RyI\n",
       "xfUZRPI8QMjk+DsHgFgsBWAZJBdMUgVbyHAbTC5zAYINUNO2KoH9DNbCEI3s6rXcINMkGfhAVrAg\n",
       "y/CuA+rmmsDADFLAbIAkw7rBiIHhyd27V8ACBxEyFxiUuBsY/P///wMWCN8RAAvr3w+493xECq/O\n",
       "LZDQgQIAelI+b+eBkVAAAAAASUVORK5CYII=\n",
       "\" style=\"display:inline;vertical-align:middle;\" /></a></span></td></tr>\n",
       "<tr><td>&nbsp;</td><td colspan=4 style=\"text-align:left\"><span style=\"font-size:20px;\"><a class=\"ProveItLink\" href=\"../../../../__pv_it/common/09585084922504426caf1db2ff588a23a0932a960/expr.ipynb\"><img src=\"data:image/png;base64,iVBORw0KGgoAAAANSUhEUgAAAA8AAAAPBAMAAADJ+Ih5AAAAMFBMVEX///8QEBAiIiLu7u5ERES6\n",
       "urqYmJiIiIjMzMx2dnZUVFRmZmaqqqoyMjLc3NwAAABb1yYoAAAAAXRSTlMAQObYZgAAAAlwSFlz\n",
       "AAAOxAAADsQBlSsOGwAAAF9JREFUCNdjYACBtwxQcB9K8/yHMrjXP4Aw5s1vANN8BfUHIDIM5xPA\n",
       "jBiG/glgxgaG9wtANLv37vUOIIY5AwO/AkSGgUkASLMCdfB+ADIeAjHLPwYGk/+XGXj8/04AADnq\n",
       "Fzds8Dk2AAAAAElFTkSuQmCC\n",
       "\" style=\"display:inline;vertical-align:middle;\" /></a> : <a class=\"ProveItLink\" href=\"../../natural_numbers/__pv_it/common/6111329435c43892c831c4793de96afbf80bdb3e0/expr.ipynb\"><img src=\"data:image/png;base64,iVBORw0KGgoAAAANSUhEUgAAABsAAAASBAMAAABY9biuAAAAMFBMVEX///9mZmbMzMyIiIiYmJjc\n",
       "3NxUVFSqqqq6uroQEBB2dnYyMjJEREQiIiLu7u4AAAAPqInnAAAAAXRSTlMAQObYZgAAAAlwSFlz\n",
       "AAAOxAAADsQBlSsOGwAAAH9JREFUGNNjYIADRgYUwIOF+/bP6QcMK382wGSPcyQw8H2AK84NWMLA\n",
       "MIFB5szJM2ccGBjSD3AHMFyAy6Y6s25A5rIpWCFzGQ7wNCBzFfnuXYC7KpWBpaBmAtwxqQwMeWwo\n",
       "3Gd8F5C5TAYH4NxDQGyE4G4HGboBxtP+CZThg3EBq00lI5JfX3wAAAAASUVORK5CYII=\n",
       "\" style=\"display:inline;vertical-align:middle;\" /></a>, <a class=\"ProveItLink\" href=\"../../../../__pv_it/common/a9162d1c3cc0470c02e5daf414500903a7a419230/expr.ipynb\"><img src=\"data:image/png;base64,iVBORw0KGgoAAAANSUhEUgAAABAAAAAOBAMAAADUAYG5AAAAMFBMVEX///92dnaqqqoiIiLu7u5m\n",
       "Zma6urqIiIjc3NwQEBDMzMwyMjJUVFRERESYmJgAAAAeMT9/AAAAAXRSTlMAQObYZgAAAAlwSFlz\n",
       "AAAOxAAADsQBlSsOGwAAAHJJREFUCNdjYGB4+//Mmb0LGIBgLgMDzy8gzfGdgYHtK5DBB+TxATkM\n",
       "PB8YGLhnABmcFxhYDoMUr79efvoBSFN9AwPTPBDjJhDLg6T+APH7AgYGrn9AxvkEBgb2H0DObyCH\n",
       "ewIDQ+YWoHH3/5w5fYmBAQBWoiHo17XzsQAAAABJRU5ErkJggg==\n",
       "\" style=\"display:inline;vertical-align:middle;\" /></a> : <a class=\"ProveItLink\" href=\"../__pv_it/common/93cac87a1a47e613f7a83b23ef7891599a1a4cca0/expr.ipynb\"><img src=\"data:image/png;base64,iVBORw0KGgoAAAANSUhEUgAAAA8AAAAPBAMAAADJ+Ih5AAAAMFBMVEX///+IiIiqqqpmZmbMzMx2\n",
       "dnbu7u66urpUVFTc3NwiIiJEREQQEBAyMjKYmJgAAAA9S0TaAAAAAXRSTlMAQObYZgAAAAlwSFlz\n",
       "AAAOxAAADsQBlSsOGwAAAGFJREFUCNdjeHt6/63TDxiAYMMMhorXCSDGVAZulgYIg3nCBRhjA4TB\n",
       "kQaV8tadAGLMufVLDKx96rtcBgiDOw9i4FQWg20QBoPJbCgjmxEkt2EyA9+D7QwMQNt3Muy+rwAA\n",
       "UbUqpptLVNkAAAAASUVORK5CYII=\n",
       "\" style=\"display:inline;vertical-align:middle;\" /></a>, <a class=\"ProveItLink\" href=\"../../../../__pv_it/common/a0d9d672aa5e272d907247690c152cc2c6daafb70/expr.ipynb\"><img src=\"data:image/png;base64,iVBORw0KGgoAAAANSUhEUgAAAAsAAAAJBAMAAAAWSsseAAAAMFBMVEX///9ERES6uroQEBAyMjLc\n",
       "3NyYmJgiIiJmZmaqqqp2dnbMzMxUVFSIiIju7u4AAAAd7oVFAAAAAXRSTlMAQObYZgAAAAlwSFlz\n",
       "AAAOxAAADsQBlSsOGwAAAENJREFUCNdjYHh75/WqCQwMDbxnOQoY2ALY/vEkMHAzcDgwgADzBTCl\n",
       "H8D3gOGhwmEGLgaG+fuaGTQZGF7c5WybwAAAJTwQ1a2DuB8AAAAASUVORK5CYII=\n",
       "\" style=\"display:inline;vertical-align:middle;\" /></a> : <a class=\"ProveItLink\" href=\"../../../numerals/__pv_it/common/af4aab8a07465db063742696e006d04670f30cf10/expr.ipynb\"><img src=\"data:image/png;base64,iVBORw0KGgoAAAANSUhEUgAAAAkAAAAOBAMAAAAPuiubAAAAMFBMVEX///+qqqqYmJiIiIgiIiLu\n",
       "7u4QEBBUVFS6urp2dnbMzMxEREQyMjJmZmbc3NwAAADzFso2AAAAAXRSTlMAQObYZgAAAAlwSFlz\n",
       "AAAOxAAADsQBlSsOGwAAAE9JREFUCNdj4Lt7egEDw2sGzh8MDHUMDGkMDPkBDPUPGEoYGOqBEgwM\n",
       "/iCC6zOIZCkAkbdBBBOYKcnA94CBawIDcwDDk7t3rwAV////hwEAK9UUlDYDfx8AAAAASUVORK5C\n",
       "YII=\n",
       "\" style=\"display:inline;vertical-align:middle;\" /></a></span></td></tr><tr><td><a name=\"0x41997acf067af789_step9\">9</a></td><td>instantiation</td><td><a href=\"#0x41997acf067af789_step15\">15</a>, <a href=\"#0x41997acf067af789_step16\">16</a>, <a href=\"#0x41997acf067af789_step17\">17</a></td><td><span style=\"font-size:20px;\"> <a class=\"ProveItLink\" href=\"../__pv_it/demonstrations/73f0b294ff7ad599958229f8d76ebb3e0f632e220/proof.ipynb\" style=\"text-decoration: none\">&nbsp;&#x22A2;&nbsp;&nbsp;</a><a class=\"ProveItLink\" href=\"../__pv_it/demonstrations/7f1d39259a57f5052f0f7c2f9545075b9109043c0/expr.ipynb\"><img src=\"data:image/png;base64,iVBORw0KGgoAAAANSUhEUgAAAJMAAAAVBAMAAACwIsHjAAAAMFBMVEX////MzMxUVFRERES6uroi\n",
       "IiIQEBCYmJhmZmYyMjLu7u52dnaqqqqIiIjc3NwAAACW8nlqAAAAAXRSTlMAQObYZgAAAAlwSFlz\n",
       "AAAOxAAADsQBlSsOGwAAAmFJREFUOMuNVL1rFEEU/90l+3m7ix+kEvEMCmphLn+Auo12wkYUgx/k\n",
       "ELGwyaEEk0IQQnDV5tRCkKCLchCxOQQbLXKNQkiTJgSCmoMQsFEiCBJRNzNvdm/3xow4sG/evDf7\n",
       "m/fxmwHQhmJ4/2FJB4G4LZW7d0G2fFBCneRinn19kez6fGcQWJKMThNe+HCbHOrbSR9uDbDrsA88\n",
       "laG8CmZ9WIm5lAT+AlhF6XsG/YTLGTi/gMeAyeCwIkMV29CrMG6JVaMu5tvAYeBKuskYpt9WWvYG\n",
       "MA7okKDmeAX1nyj+Aa4K09I+MVeB0QgDSZ/c8+KvEz4YlB5hToIau0tRBSh+Ax4JW7BT5MOC2w8M\n",
       "iGK9vJgl+gOwarjXDbX4JtW0deBVUm2LAjGbtBwhOXM2S+Q4K1KpLA5OoezXWf/3MHWCNKvtUNEs\n",
       "XlYUfnP5bDpD2t3P4jTquJCD8qZq2YZT7HtP2g7gHMVJjdTKVIHpPElYB50qLuegDubYalZ4ZKTu\n",
       "BT7yWfe5nEyIl0uQN6OwroS6Rs2hrFm1Gx0oo5xs6JR9O3Cshd6qKkFG7K/Au5SgZitNcB6eRIY4\n",
       "4lBOgCNbl30XsAxcp+LwQzhJe5iz0IQbdVP0EiVoVES/Z9PXwV5cFvENh2EAwZSbXAyC+o21MJzK\n",
       "yn2fyxvEK8aUPrboH33QyWyMiKXFccwCOc31Q9RwTgMGPhLHG/IDErLrDM2HJl/0iez98oJu1xDU\n",
       "Yw2dK7vVMGvd6/F/QLGrjqNq96q07skCbpzhYyj/KgHP1VDyKXZFuZVO8RZUbvevV/+LEuoTsAmL\n",
       "z6E651IPCgAAAABJRU5ErkJggg==\n",
       "\" style=\"display:inline;vertical-align:middle;\" /></a></span></td></tr>\n",
       "<tr><td>&nbsp;</td><td colspan=4 style=\"text-align:left\"><span style=\"font-size:20px;\"><a class=\"ProveItLink\" href=\"../../../../__pv_it/common/09585084922504426caf1db2ff588a23a0932a960/expr.ipynb\"><img src=\"data:image/png;base64,iVBORw0KGgoAAAANSUhEUgAAAA8AAAAPBAMAAADJ+Ih5AAAAMFBMVEX///8QEBAiIiLu7u5ERES6\n",
       "urqYmJiIiIjMzMx2dnZUVFRmZmaqqqoyMjLc3NwAAABb1yYoAAAAAXRSTlMAQObYZgAAAAlwSFlz\n",
       "AAAOxAAADsQBlSsOGwAAAF9JREFUCNdjYACBtwxQcB9K8/yHMrjXP4Aw5s1vANN8BfUHIDIM5xPA\n",
       "jBiG/glgxgaG9wtANLv37vUOIIY5AwO/AkSGgUkASLMCdfB+ADIeAjHLPwYGk/+XGXj8/04AADnq\n",
       "Fzds8Dk2AAAAAElFTkSuQmCC\n",
       "\" style=\"display:inline;vertical-align:middle;\" /></a> : <a class=\"ProveItLink\" href=\"../../../numerals/decimals/__pv_it/theorems/87469a9c68ae71903426a57864d5192167a8a75c0/expr.ipynb\"><img src=\"data:image/png;base64,iVBORw0KGgoAAAANSUhEUgAAADAAAAAQBAMAAACigOGCAAAAMFBMVEX///+6urpERESqqqqYmJgQ\n",
       "EBDc3Nx2dnaIiIgyMjJmZmZUVFTu7u4iIiLMzMwAAAA9XO4HAAAAAXRSTlMAQObYZgAAAAlwSFlz\n",
       "AAAOxAAADsQBlSsOGwAAAJdJREFUGNNjYOC7w4AOslbqMTCcXvkHXZxNgaFegIGBA0OCO4GBNQBN\n",
       "wjIBSLD+YeD+hirhuwas4wID9z8Uid4aGIv3A5IET20DXMn7BoQE21oHhJm3GRASOw0Q4lwKOCS8\n",
       "GRiwGsVcwJCG1fLnDAw9DAzs32AKeXp7IHpvrVoF9MrWn1sQHgR7hPf///8T0ILJM4GBEAAA65ov\n",
       "K89YlvsAAAAASUVORK5CYII=\n",
       "\" style=\"display:inline;vertical-align:middle;\" /></a>, <a class=\"ProveItLink\" href=\"../../../../__pv_it/common/a9162d1c3cc0470c02e5daf414500903a7a419230/expr.ipynb\"><img src=\"data:image/png;base64,iVBORw0KGgoAAAANSUhEUgAAABAAAAAOBAMAAADUAYG5AAAAMFBMVEX///92dnaqqqoiIiLu7u5m\n",
       "Zma6urqIiIjc3NwQEBDMzMwyMjJUVFRERESYmJgAAAAeMT9/AAAAAXRSTlMAQObYZgAAAAlwSFlz\n",
       "AAAOxAAADsQBlSsOGwAAAHJJREFUCNdjYGB4+//Mmb0LGIBgLgMDzy8gzfGdgYHtK5DBB+TxATkM\n",
       "PB8YGLhnABmcFxhYDoMUr79efvoBSFN9AwPTPBDjJhDLg6T+APH7AgYGrn9AxvkEBgb2H0DObyCH\n",
       "ewIDQ+YWoHH3/5w5fYmBAQBWoiHo17XzsQAAAABJRU5ErkJggg==\n",
       "\" style=\"display:inline;vertical-align:middle;\" /></a> : <a class=\"ProveItLink\" href=\"../__pv_it/demonstrations/e33f190811d95ad6bc48127485be48468026ccab0/expr.ipynb\"><img src=\"data:image/png;base64,iVBORw0KGgoAAAANSUhEUgAAADAAAAARBAMAAABp3DInAAAAMFBMVEX///+qqqqYmJiIiIgiIiLu\n",
       "7u4QEBBUVFS6urp2dnbMzMxEREQyMjJmZmbc3NwAAADzFso2AAAAAXRSTlMAQObYZgAAAAlwSFlz\n",
       "AAAOxAAADsQBlSsOGwAAAMRJREFUGNNj4Lt7egEDGng5dwcDw2sGzh8IIZkHQIL1AoO8AEMdA0Ma\n",
       "XFzlKohk/sgQf4AhP4Ch/gFU3GQqmOLIYOA/wFDCwFAPsYR1igFcq7wCiPSHiF9RgItzOIFIrs9g\n",
       "8RoBuDiXeRWIYikA85AkGECuYmC4DWHzIRnFwPaVgYGpAMqBW861gIH7IwODJAMfmnP5v4IkuCYw\n",
       "MAegepCtAGTUk7t3ryAFCchLTAogf/j///8HPRB77+5goACwuoABPG4AfAgxU7+HpmgAAAAASUVO\n",
       "RK5CYII=\n",
       "\" style=\"display:inline;vertical-align:middle;\" /></a></span></td></tr><tr><td><a name=\"0x41997acf067af789_step10\">10</a></td><td>conjecture</td><td></td><td><span style=\"font-size:20px;\"> <a class=\"ProveItLink\" href=\"../../../numerals/decimals/_theory_nbs_/proofs/posnat1/thm_proof.ipynb\" style=\"text-decoration: none\">&nbsp;&#x22A2;&nbsp;&nbsp;</a><a class=\"ProveItLink\" href=\"../../../numerals/decimals/__pv_it/theorems/bc756b88629195b95a8093862c53b2b7873d42670/expr.ipynb\"><img src=\"data:image/png;base64,iVBORw0KGgoAAAANSUhEUgAAAD4AAAATBAMAAAA63aOfAAAAMFBMVEX///+qqqq6urpERESYmJgQ\n",
       "EBDc3Nx2dnaIiIgyMjJmZmZUVFTu7u4iIiLMzMwAAAAz/ewvAAAAAXRSTlMAQObYZgAAAAlwSFlz\n",
       "AAAOxAAADsQBlSsOGwAAAM9JREFUKM9jYMADFjDgBwbkyPPcN57DwB4fBJPnu4OmgFlAm4HhPEz/\n",
       "6ZV/0OS5r7E7MLAycBkbBxubMDBwYMgLM0xj4IXbD5fnsL17Eyyf0pCJRZ5pxgGo/oR9HAWY8pkH\n",
       "YOYnMDMYYcpPg9ufwLfg7Fl4+MHkJyDkGRwZTeHOhcrzxd69e/cyVJ77wFZ0eR4DJP08G86iyzNc\n",
       "QJJneMGMId8BD98HQMHHcHn2bxCaU4ABibESbtrWn1sgDtisA3Ho/GAgeRIzYpmKIeGLAgCu9Tlj\n",
       "8FFYswAAAABJRU5ErkJggg==\n",
       "\" style=\"display:inline;vertical-align:middle;\" /></a></span></td></tr>\n",
       "<tr><td>&nbsp;</td><td colspan=4 style-\"text-align:left\"><a class=\"ProveItLink\" href=\"../../../numerals/decimals/_theory_nbs_/proofs/posnat1/thm_proof.ipynb\">proveit.numbers.numerals.decimals.posnat1</a></td></tr><tr><td><a name=\"0x41997acf067af789_step11\">11</a></td><td>conjecture</td><td></td><td><span style=\"font-size:20px;\"> <a class=\"ProveItLink\" href=\"../../../numerals/decimals/_theory_nbs_/proofs/posnat3/thm_proof.ipynb\" style=\"text-decoration: none\">&nbsp;&#x22A2;&nbsp;&nbsp;</a><a class=\"ProveItLink\" href=\"../../../numerals/decimals/__pv_it/theorems/7a4601a478f57bc7cfab499ee985add193b1e1cf0/expr.ipynb\"><img src=\"data:image/png;base64,iVBORw0KGgoAAAANSUhEUgAAAD8AAAATBAMAAADVH8ihAAAAMFBMVEX///9UVFTMzMwiIiKYmJgQ\n",
       "EBAyMjKIiIiqqqru7u66urpERERmZmZ2dnbc3NwAAABametFAAAAAXRSTlMAQObYZgAAAAlwSFlz\n",
       "AAAOxAAADsQBlSsOGwAAAPlJREFUKM9jYMADeBgIAG4yFUz+vW0Cw9WvC2AK3t7ZhaZiB5cAA+cH\n",
       "mAmcBxj6G1AVCD+4wsAQwHB699bdux0Y2H8wzE9AVSCxge0BgwHMBK4oBn6ogmpjYzBLzp0vAaEA\n",
       "CPodwNSySihfjlGhFlkBlwmY4suEWSHHsIF7AUIBU6EQmAbaC1egw2lpgBSSEF+wMSAUsDR0ByC5\n",
       "mvUniFQ1BoINEAUMkoxwBUwKDNw/QIzZSCYwTOQ0gPH4f0IVMCMrYCrYADdfAGoFewFMaBMQF8EV\n",
       "sDjAwiEDJgRi8CBCd80ZaGRN3DUBTKt9BermTMASz2s3G2MKAwDBGzm/Pnmx1wAAAABJRU5ErkJg\n",
       "gg==\n",
       "\" style=\"display:inline;vertical-align:middle;\" /></a></span></td></tr>\n",
       "<tr><td>&nbsp;</td><td colspan=4 style-\"text-align:left\"><a class=\"ProveItLink\" href=\"../../../numerals/decimals/_theory_nbs_/proofs/posnat3/thm_proof.ipynb\">proveit.numbers.numerals.decimals.posnat3</a></td></tr><tr><td><a name=\"0x41997acf067af789_step12\">12</a></td><td>theorem</td><td></td><td><span style=\"font-size:20px;\"> <a class=\"ProveItLink\" href=\"../../../../logic/sets/inclusion/_theory_nbs_/proofs/unfold_subset_eq/thm_proof.ipynb\" style=\"text-decoration: none\">&nbsp;&#x22A2;&nbsp;&nbsp;</a><a class=\"ProveItLink\" href=\"../../../../logic/sets/inclusion/__pv_it/theorems/ffb57c6ecaa9512f7208b5cea9aeeaa8cfa4a4e50/expr.ipynb\"><img src=\"data:image/png;base64,iVBORw0KGgoAAAANSUhEUgAAAPcAAAAXBAMAAAAl5sTiAAAAMFBMVEX///+IiIgiIiIQEBB2dnbu\n",
       "7u5ERETMzMzc3NwyMjK6urpmZmaYmJiqqqpUVFQAAAB6qHgnAAAAAXRSTlMAQObYZgAAAAlwSFlz\n",
       "AAAOxAAADsQBlSsOGwAAA3lJREFUSMe9ll9IFEEYwL/N27u9vb11JQohK1kfeqiHK6J6SLmHQyix\n",
       "FqUgBLkKLxDEDaPHOit81HtRIrAuMiQIOku0QuryIQoNr8eo4AgqxFCD5DTL+nZm93bubM88qIG7\n",
       "nZ3v2/nNfP9mAIpsnKoXVhAKCaN/MUGB5oqvobC1kPAmnSFt9N8VA5eNhz/pIPcH/zj8/NfsbJ8O\n",
       "XJLAHxtDV4uB+4y9e6MO8hMO4/sA5AxAL4FfMNwTLgbuMYzW5SQfc4iErwDiMsAEgXs1fKSK8jmu\n",
       "Huqd5IGct82qGiMdCXct4QJKNGMGCa3vLS7gJvERc3J5juDOJqsnzyPuAP6SJGT3qOre4uAlqloV\n",
       "dBD7UMCXfTxHLCP0ZsdLwsB/wBxzpQl8FKCFjGt5n1sd3gnu08Gd91FWF3eGM2xT7kNuVF48WTZt\n",
       "JIgUI/BuEEi68fuJ9PxyaIRkv9vSbzQWGolEouBpH647Y8Pxu+68JTVahWMDhtELmNK+ELitsD0K\n",
       "/oOGWwIE7tZovXD9pBFRCVwgB340BXwr7Y4DbGSKTAsctpTOfmo1dU3zoliHR/SlQ8VGM+q0oYQr\n",
       "9MyTGfwKXdjgbhoRCZDmWbjYoYDbtNsMwBQDf52NN99oVteGA9Ap4bi98xX8TaGSSHcOsWdkWLlO\n",
       "v0pBQ5KFc940XDH71cDvYuBeCafhtnQ+hApb1zY7iItwjLxk2Z4f+DdnbLmSwutJLHKmjXoqJj4D\n",
       "C1d8MXhvVYjJJzoDd73BeCuXw/182Nalza2gr+QAkGzglOxxtIgLWDK8G6bwy2S1g6Y3x4GfYeGi\n",
       "jiFwF6x4aE4wcKEGO0m3ootJW9cUp8GfaQqINAb6s0mA8lu9NBUJXCabGQ7NaaZbe+IM3Bc6sgDN\n",
       "YMWD8J091YiNSqMg9UUibaauad9K4IeUt6/oW3MrTUm5fWV2uo14Is6cixwydepWuMemmgJCxqq/\n",
       "GA9iZtWR2gFRT9DWNduOnBQcOKXm1sJL7Axo2NIUHwRhAfidjNkNg2IODpP19GjQkMiDC4FDkKBl\n",
       "ytSlbaJwgRxj4L4a4J9e81TDy2+hkRQDf5CGpqU4iLVYZKQbobq2VZeJoYEyDbp0W9eMuGjBa054\n",
       "9XXEz/Td67nJ8LWR1rxCW/CYNpaWD7+9DvhaV7DOQsJyjLKqPHjSAS5HSG3/f03494jf+P/jjSgp\n",
       "bc4AAAAASUVORK5CYII=\n",
       "\" style=\"display:inline;vertical-align:middle;\" /></a></span></td></tr>\n",
       "<tr><td>&nbsp;</td><td colspan=4 style-\"text-align:left\"><a class=\"ProveItLink\" href=\"../../../../logic/sets/inclusion/_theory_nbs_/proofs/unfold_subset_eq/thm_proof.ipynb\">proveit.logic.sets.inclusion.unfold_subset_eq</a></td></tr><tr><td><a name=\"0x41997acf067af789_step13\">13</a></td><td>instantiation</td><td><a href=\"#0x41997acf067af789_step18\">18</a>, <a href=\"#0x41997acf067af789_step19\">19</a></td><td><span style=\"font-size:20px;\"> <a class=\"ProveItLink\" href=\"../__pv_it/demonstrations/75ee6eb80922ab9e04263e40f9305276e1eaf79d0/proof.ipynb\" style=\"text-decoration: none\">&nbsp;&#x22A2;&nbsp;&nbsp;</a><a class=\"ProveItLink\" href=\"../__pv_it/demonstrations/64b77ddcfba6dddcf111b8111e728f0c2b99d7d10/expr.ipynb\"><img src=\"data:image/png;base64,iVBORw0KGgoAAAANSUhEUgAAAEcAAAAVBAMAAADm2O7QAAAAMFBMVEX///9mZmbMzMyIiIiYmJjc\n",
       "3NxUVFSqqqq6uroQEBB2dnYyMjJEREQiIiLu7u4AAAAPqInnAAAAAXRSTlMAQObYZgAAAAlwSFlz\n",
       "AAAOxAAADsQBlSsOGwAAARlJREFUKM9jYIADRgYiAA+Fit7+Of2AYeXPBmyKvOec3zvHAcQ6zpHA\n",
       "wPcBu0kHwhjafB4AGbkBSxgYJjDInDl55owDRM7m7t27l8CKohh4mBKAjPQD3AEMF5BN0jaFmxTF\n",
       "wBiwAchIdWbdgKKI7yoDiqIDIEVsClYoitgakBWxvQNZl8pwgKcBWRE3A7IineoAsCJFvnsXkEJc\n",
       "DUlR5N6/dgxgRSwFNROQ/B2GbJLLawaIIoY8NmRFvMiKeJ44QBU947uApIjRAUkRk8A5qCImgwPI\n",
       "4bwD2eFCMSDGISA2QlH0LOMBQtEbZpDB20E2bECJsq6zsGgJZGBxOAGMg59AU/g2YE0hwFRwlOHM\n",
       "/gIGWgLGu3dhSQUKACjEW7kKs30sAAAAAElFTkSuQmCC\n",
       "\" style=\"display:inline;vertical-align:middle;\" /></a></span></td></tr>\n",
       "<tr><td>&nbsp;</td><td colspan=4 style=\"text-align:left\"><span style=\"font-size:20px;\"><a class=\"ProveItLink\" href=\"../../../../__pv_it/common/09585084922504426caf1db2ff588a23a0932a960/expr.ipynb\"><img src=\"data:image/png;base64,iVBORw0KGgoAAAANSUhEUgAAAA8AAAAPBAMAAADJ+Ih5AAAAMFBMVEX///8QEBAiIiLu7u5ERES6\n",
       "urqYmJiIiIjMzMx2dnZUVFRmZmaqqqoyMjLc3NwAAABb1yYoAAAAAXRSTlMAQObYZgAAAAlwSFlz\n",
       "AAAOxAAADsQBlSsOGwAAAF9JREFUCNdjYACBtwxQcB9K8/yHMrjXP4Aw5s1vANN8BfUHIDIM5xPA\n",
       "jBiG/glgxgaG9wtANLv37vUOIIY5AwO/AkSGgUkASLMCdfB+ADIeAjHLPwYGk/+XGXj8/04AADnq\n",
       "Fzds8Dk2AAAAAElFTkSuQmCC\n",
       "\" style=\"display:inline;vertical-align:middle;\" /></a> : <a class=\"ProveItLink\" href=\"../../natural_numbers/__pv_it/common/6111329435c43892c831c4793de96afbf80bdb3e0/expr.ipynb\"><img src=\"data:image/png;base64,iVBORw0KGgoAAAANSUhEUgAAABsAAAASBAMAAABY9biuAAAAMFBMVEX///9mZmbMzMyIiIiYmJjc\n",
       "3NxUVFSqqqq6uroQEBB2dnYyMjJEREQiIiLu7u4AAAAPqInnAAAAAXRSTlMAQObYZgAAAAlwSFlz\n",
       "AAAOxAAADsQBlSsOGwAAAH9JREFUGNNjYIADRgYUwIOF+/bP6QcMK382wGSPcyQw8H2AK84NWMLA\n",
       "MIFB5szJM2ccGBjSD3AHMFyAy6Y6s25A5rIpWCFzGQ7wNCBzFfnuXYC7KpWBpaBmAtwxqQwMeWwo\n",
       "3Gd8F5C5TAYH4NxDQGyE4G4HGboBxtP+CZThg3EBq00lI5JfX3wAAAAASUVORK5CYII=\n",
       "\" style=\"display:inline;vertical-align:middle;\" /></a>, <a class=\"ProveItLink\" href=\"../../../../__pv_it/common/a9162d1c3cc0470c02e5daf414500903a7a419230/expr.ipynb\"><img src=\"data:image/png;base64,iVBORw0KGgoAAAANSUhEUgAAABAAAAAOBAMAAADUAYG5AAAAMFBMVEX///92dnaqqqoiIiLu7u5m\n",
       "Zma6urqIiIjc3NwQEBDMzMwyMjJUVFRERESYmJgAAAAeMT9/AAAAAXRSTlMAQObYZgAAAAlwSFlz\n",
       "AAAOxAAADsQBlSsOGwAAAHJJREFUCNdjYGB4+//Mmb0LGIBgLgMDzy8gzfGdgYHtK5DBB+TxATkM\n",
       "PB8YGLhnABmcFxhYDoMUr79efvoBSFN9AwPTPBDjJhDLg6T+APH7AgYGrn9AxvkEBgb2H0DObyCH\n",
       "ewIDQ+YWoHH3/5w5fYmBAQBWoiHo17XzsQAAAABJRU5ErkJggg==\n",
       "\" style=\"display:inline;vertical-align:middle;\" /></a> : <a class=\"ProveItLink\" href=\"../__pv_it/common/93cac87a1a47e613f7a83b23ef7891599a1a4cca0/expr.ipynb\"><img src=\"data:image/png;base64,iVBORw0KGgoAAAANSUhEUgAAAA8AAAAPBAMAAADJ+Ih5AAAAMFBMVEX///+IiIiqqqpmZmbMzMx2\n",
       "dnbu7u66urpUVFTc3NwiIiJEREQQEBAyMjKYmJgAAAA9S0TaAAAAAXRSTlMAQObYZgAAAAlwSFlz\n",
       "AAAOxAAADsQBlSsOGwAAAGFJREFUCNdjeHt6/63TDxiAYMMMhorXCSDGVAZulgYIg3nCBRhjA4TB\n",
       "kQaV8tadAGLMufVLDKx96rtcBgiDOw9i4FQWg20QBoPJbCgjmxEkt2EyA9+D7QwMQNt3Muy+rwAA\n",
       "UbUqpptLVNkAAAAASUVORK5CYII=\n",
       "\" style=\"display:inline;vertical-align:middle;\" /></a></span></td></tr><tr><td><a name=\"0x41997acf067af789_step14\">14</a></td><td>conjecture</td><td></td><td><span style=\"font-size:20px;\"> <a class=\"ProveItLink\" href=\"../../../numerals/decimals/_theory_nbs_/proofs/posnat2/thm_proof.ipynb\" style=\"text-decoration: none\">&nbsp;&#x22A2;&nbsp;&nbsp;</a><a class=\"ProveItLink\" href=\"../../../numerals/decimals/__pv_it/theorems/aa5f8ea7aa8d661558ddef72abb6b4f0fac781ac0/expr.ipynb\"><img src=\"data:image/png;base64,iVBORw0KGgoAAAANSUhEUgAAAD4AAAATBAMAAAA63aOfAAAAMFBMVEX///+qqqqYmJiIiIgiIiLu\n",
       "7u4QEBBUVFS6urp2dnbMzMxEREQyMjJmZmbc3NwAAADzFso2AAAAAXRSTlMAQObYZgAAAAlwSFlz\n",
       "AAAOxAAADsQBlSsOGwAAAPpJREFUKM9jYMADLjDgBxvIkWf1332UgTM/AyrPd/f0AlQF3ALtDAzx\n",
       "MP2vGTh/oMqz+3EqMLAx8O7enb17E0MdA0Mamrw0wzkGFpj+/ACG+gdgceYtLj5g+UcGbxDyJQwM\n",
       "9WAHcBwOgOp/UMU8gQXJ/f5g8k0AzPwH3Aw7kOS5PoOpc3D7H3BdCAlBhB9LAZg6gJBnUGTchnDv\n",
       "bYgpKS4uLt5QefaAMrg0E0Q76wYk/awFIXB5SQY+sP8ckOQZFnPDeFwTGJjBLjeGhy/Qu8yrYbwn\n",
       "d+9eATN4BKAiYMYdmLz///9/IA6oboUYeD4bSMZgRizHbEj4ogAAs21BKpwaNLcAAAAASUVORK5C\n",
       "YII=\n",
       "\" style=\"display:inline;vertical-align:middle;\" /></a></span></td></tr>\n",
       "<tr><td>&nbsp;</td><td colspan=4 style-\"text-align:left\"><a class=\"ProveItLink\" href=\"../../../numerals/decimals/_theory_nbs_/proofs/posnat2/thm_proof.ipynb\">proveit.numbers.numerals.decimals.posnat2</a></td></tr><tr><td><a name=\"0x41997acf067af789_step15\">15</a></td><td>theorem</td><td></td><td><span style=\"font-size:20px;\"> <a class=\"ProveItLink\" href=\"../../../../logic/booleans/conjunction/_theory_nbs_/proofs/and_if_both/thm_proof.ipynb\" style=\"text-decoration: none\">&nbsp;&#x22A2;&nbsp;&nbsp;</a><a class=\"ProveItLink\" href=\"../../../../logic/booleans/conjunction/__pv_it/theorems/014a7d12c0ce73da40017125d0ac8b3d52f7b2000/expr.ipynb\"><img src=\"data:image/png;base64,iVBORw0KGgoAAAANSUhEUgAAAK0AAAAXBAMAAACL0NJjAAAAMFBMVEX///+IiIgiIiIQEBB2dnbu\n",
       "7u5ERETMzMzc3NwyMjK6urpmZmaYmJiqqqpUVFQAAAB6qHgnAAAAAXRSTlMAQObYZgAAAAlwSFlz\n",
       "AAAOxAAADsQBlSsOGwAAArlJREFUOMutlUtoE1EUhv9JMplkMjNG3LhQGroR0UUUURdWushCKLVj\n",
       "FUEEqYi4kJJAwaWNduXGZBMpLmxEpBvFgqXiO3YhSMVm4U7B4EZKIalgSdPaxnMfUyaJjU51YHIf\n",
       "557vnPvfMzfApp5QW2sam312iubG76136S2xzmePWLNbtGNN82/r5fKtFJQC8IyNRz1yz0h8XY57\n",
       "HcNBwKoCOeAqU2vAI/eFaCIVoaS625H9O6CvADNA2AYCRY/cuGiO9aV4q3zIiwmDcjWI7bdhkBZh\n",
       "r/JmRXbRDpGQT5MbthYIdphegu7v7DzgkRsRxxbBlwLvfHQOyD8A9SvtIUDV8AS4yCftJu8J2aot\n",
       "3LDAPcSwCDCKT8IwfH7rHLMZtKGbCPFaUw9x05WVxJRQzTnMk3yoJSd7LskZX1EGznBPrQSfSKoj\n",
       "DfMIE4oOIGgHuOqBVSF9DEq8gdsnKNPANjnj5w7K5ecVvsaiio1ywwW2nNLQSGczKo5tfJ+QfgLG\n",
       "gpurDwmfeWC2gXsC2BKT1azyDtbonaXlOsss+4bPRe8InyL6C26uEuabRRfUvQ06kP6+uPNVvOSC\n",
       "/KSfCgU1WZjeHHfHU+6T2THzDW5uNJIVJf/+VUpyg2wHOitQvrOYc1MoS8SuMTGZ7wjPZ1yqNw11\n",
       "3s3VU0Ju0v2cUyGsjDDCAiwxC4sSZDHDtPJezilEi6cxmajYUsZM3sWNJI4vSt1Dy5KrUYan6zmY\n",
       "yRoBLOanEdxKrpXnBrlQeackFcKlhIx45K6zKEJVqbtedVbv+sOHc32994AOt6h2I7QIdY9LB6bi\n",
       "Kk5RVBv9jg7sXvmbe4l2exTq69taF979SEwVXdzHJZyt5YeKxliiZ3DdL9j+H6HlfjTdA7ex6cJT\n",
       "21+sLWHvb8DVm++Oa22525snChtwDfzHJ/0vzr8A3e2l3qT5rSAAAAAASUVORK5CYII=\n",
       "\" style=\"display:inline;vertical-align:middle;\" /></a></span></td></tr>\n",
       "<tr><td>&nbsp;</td><td colspan=4 style-\"text-align:left\"><a class=\"ProveItLink\" href=\"../../../../logic/booleans/conjunction/_theory_nbs_/proofs/and_if_both/thm_proof.ipynb\">proveit.logic.booleans.conjunction.and_if_both</a></td></tr><tr><td><a name=\"0x41997acf067af789_step16\">16</a></td><td>conjecture</td><td></td><td><span style=\"font-size:20px;\"> <a class=\"ProveItLink\" href=\"../../../numerals/decimals/_theory_nbs_/proofs/less_1_2/thm_proof.ipynb\" style=\"text-decoration: none\">&nbsp;&#x22A2;&nbsp;&nbsp;</a><a class=\"ProveItLink\" href=\"../../../numerals/decimals/__pv_it/theorems/87469a9c68ae71903426a57864d5192167a8a75c0/expr.ipynb\"><img src=\"data:image/png;base64,iVBORw0KGgoAAAANSUhEUgAAADAAAAAQBAMAAACigOGCAAAAMFBMVEX///+6urpERESqqqqYmJgQ\n",
       "EBDc3Nx2dnaIiIgyMjJmZmZUVFTu7u4iIiLMzMwAAAA9XO4HAAAAAXRSTlMAQObYZgAAAAlwSFlz\n",
       "AAAOxAAADsQBlSsOGwAAAJdJREFUGNNjYOC7w4AOslbqMTCcXvkHXZxNgaFegIGBA0OCO4GBNQBN\n",
       "wjIBSLD+YeD+hirhuwas4wID9z8Uid4aGIv3A5IET20DXMn7BoQE21oHhJm3GRASOw0Q4lwKOCS8\n",
       "GRiwGsVcwJCG1fLnDAw9DAzs32AKeXp7IHpvrVoF9MrWn1sQHgR7hPf///8T0ILJM4GBEAAA65ov\n",
       "K89YlvsAAAAASUVORK5CYII=\n",
       "\" style=\"display:inline;vertical-align:middle;\" /></a></span></td></tr>\n",
       "<tr><td>&nbsp;</td><td colspan=4 style-\"text-align:left\"><a class=\"ProveItLink\" href=\"../../../numerals/decimals/_theory_nbs_/proofs/less_1_2/thm_proof.ipynb\">proveit.numbers.numerals.decimals.less_1_2</a></td></tr><tr><td><a name=\"0x41997acf067af789_step17\">17</a></td><td>instantiation</td><td><a href=\"#0x41997acf067af789_step20\">20</a>, <a href=\"#0x41997acf067af789_step21\">21</a></td><td><span style=\"font-size:20px;\"> <a class=\"ProveItLink\" href=\"../__pv_it/demonstrations/69eb006ea84773a84dccce1bc4f643e7ed68cd5b0/proof.ipynb\" style=\"text-decoration: none\">&nbsp;&#x22A2;&nbsp;&nbsp;</a><a class=\"ProveItLink\" href=\"../__pv_it/demonstrations/e33f190811d95ad6bc48127485be48468026ccab0/expr.ipynb\"><img src=\"data:image/png;base64,iVBORw0KGgoAAAANSUhEUgAAADAAAAARBAMAAABp3DInAAAAMFBMVEX///+qqqqYmJiIiIgiIiLu\n",
       "7u4QEBBUVFS6urp2dnbMzMxEREQyMjJmZmbc3NwAAADzFso2AAAAAXRSTlMAQObYZgAAAAlwSFlz\n",
       "AAAOxAAADsQBlSsOGwAAAMRJREFUGNNj4Lt7egEDGng5dwcDw2sGzh8IIZkHQIL1AoO8AEMdA0Ma\n",
       "XFzlKohk/sgQf4AhP4Ch/gFU3GQqmOLIYOA/wFDCwFAPsYR1igFcq7wCiPSHiF9RgItzOIFIrs9g\n",
       "8RoBuDiXeRWIYikA85AkGECuYmC4DWHzIRnFwPaVgYGpAMqBW861gIH7IwODJAMfmnP5v4IkuCYw\n",
       "MAegepCtAGTUk7t3ryAFCchLTAogf/j///8HPRB77+5goACwuoABPG4AfAgxU7+HpmgAAAAASUVO\n",
       "RK5CYII=\n",
       "\" style=\"display:inline;vertical-align:middle;\" /></a></span></td></tr>\n",
       "<tr><td>&nbsp;</td><td colspan=4 style=\"text-align:left\"><span style=\"font-size:20px;\"><a class=\"ProveItLink\" href=\"../../../../__pv_it/common/a0d9d672aa5e272d907247690c152cc2c6daafb70/expr.ipynb\"><img src=\"data:image/png;base64,iVBORw0KGgoAAAANSUhEUgAAAAsAAAAJBAMAAAAWSsseAAAAMFBMVEX///9ERES6uroQEBAyMjLc\n",
       "3NyYmJgiIiJmZmaqqqp2dnbMzMxUVFSIiIju7u4AAAAd7oVFAAAAAXRSTlMAQObYZgAAAAlwSFlz\n",
       "AAAOxAAADsQBlSsOGwAAAENJREFUCNdjYHh75/WqCQwMDbxnOQoY2ALY/vEkMHAzcDgwgADzBTCl\n",
       "H8D3gOGhwmEGLgaG+fuaGTQZGF7c5WybwAAAJTwQ1a2DuB8AAAAASUVORK5CYII=\n",
       "\" style=\"display:inline;vertical-align:middle;\" /></a> : <a class=\"ProveItLink\" href=\"../../../numerals/__pv_it/common/af4aab8a07465db063742696e006d04670f30cf10/expr.ipynb\"><img src=\"data:image/png;base64,iVBORw0KGgoAAAANSUhEUgAAAAkAAAAOBAMAAAAPuiubAAAAMFBMVEX///+qqqqYmJiIiIgiIiLu\n",
       "7u4QEBBUVFS6urp2dnbMzMxEREQyMjJmZmbc3NwAAADzFso2AAAAAXRSTlMAQObYZgAAAAlwSFlz\n",
       "AAAOxAAADsQBlSsOGwAAAE9JREFUCNdj4Lt7egEDw2sGzh8MDHUMDGkMDPkBDPUPGEoYGOqBEgwM\n",
       "/iCC6zOIZCkAkbdBBBOYKcnA94CBawIDcwDDk7t3rwAV////hwEAK9UUlDYDfx8AAAAASUVORK5C\n",
       "YII=\n",
       "\" style=\"display:inline;vertical-align:middle;\" /></a>, <a class=\"ProveItLink\" href=\"../../../../__pv_it/common/ff7dba4ef0bbe791ab573bf2d9c220a304399ac80/expr.ipynb\"><img src=\"data:image/png;base64,iVBORw0KGgoAAAANSUhEUgAAAAsAAAANBAMAAACN24kIAAAAMFBMVEX////c3NwyMjK6urpEREQi\n",
       "IiLMzMwQEBCqqqp2dnZUVFSYmJhmZmaIiIju7u4AAADlKNhoAAAAAXRSTlMAQObYZgAAAAlwSFlz\n",
       "AAAOxAAADsQBlSsOGwAAAFhJREFUCNdj4LuzgeEVAwMnRwHDfgaGDJ4AhiUMDA/YLzDUMjAw2D9g\n",
       "+wakDjHwFgApLwaWBUDqFIP9BiD1au55AQYQmATEnAp8FUCK9QLXBCDFsfcwkAQA5QkUAIef7yAA\n",
       "AAAASUVORK5CYII=\n",
       "\" style=\"display:inline;vertical-align:middle;\" /></a> : <a class=\"ProveItLink\" href=\"../../../numerals/__pv_it/common/1943b60945420e340d305780feff5c1aff2740ff0/expr.ipynb\"><img src=\"data:image/png;base64,iVBORw0KGgoAAAANSUhEUgAAAAoAAAAOBAMAAADkjZCYAAAAMFBMVEX///9UVFTMzMwiIiKYmJgQ\n",
       "EBAyMjKIiIiqqqru7u66urpERERmZmZ2dnbc3NwAAABametFAAAAAXRSTlMAQObYZgAAAAlwSFlz\n",
       "AAAOxAAADsQBlSsOGwAAAExJREFUCNdjYHh7ZxcDA+cBhv4GBvYfDPMTGLiiGPgTGICg3wFIcJkA\n",
       "CaZCIQawSAOIZP3JwKTAwP2Dgf8niGQVAImwOIDVrzmziwEADhoSVJBN9+MAAAAASUVORK5CYII=\n",
       "\" style=\"display:inline;vertical-align:middle;\" /></a></span></td></tr><tr><td><a name=\"0x41997acf067af789_step18\">18</a></td><td>theorem</td><td></td><td><span style=\"font-size:20px;\"> <a class=\"ProveItLink\" href=\"../../../../logic/sets/inclusion/_theory_nbs_/proofs/relax_proper_subset/thm_proof.ipynb\" style=\"text-decoration: none\">&nbsp;&#x22A2;&nbsp;&nbsp;</a><a class=\"ProveItLink\" href=\"../../../../logic/sets/inclusion/__pv_it/theorems/902afb1e6249d7c2feb1149d34fff9880d2b647b0/expr.ipynb\"><img src=\"data:image/png;base64,iVBORw0KGgoAAAANSUhEUgAAALkAAAAXBAMAAACllfPxAAAAMFBMVEX///+IiIgiIiIQEBB2dnbu\n",
       "7u5ERETMzMzc3NwyMjK6urpmZmaYmJiqqqpUVFQAAAB6qHgnAAAAAXRSTlMAQObYZgAAAAlwSFlz\n",
       "AAAOxAAADsQBlSsOGwAAAs5JREFUSMetVU9IVEEY/23uvPd29+22EYiHInkdDOpgEdUhw8PeJHvY\n",
       "KQKxIjvJLghBF9PyrB4ywkNuVHgRWkiM/mCbhyAM3FOnIukSJqiFtm2m9s3Mm91xU7aeDczON/Pt\n",
       "/Ga+3+/75gG+m1XB343ttL3yjIGt/Peoz3DjvQ/waKMYQot/eF6vz8/fTiGQBZ7x+R0f6Ofk8FGh\n",
       "VzuOUyfNY0AsDwwCXTy6Nh/oL+Qw8UOO12pKgnwFwivAFEXmAsGcD/R68RvszYuRHSh5bFqy6YQq\n",
       "FzaxE/JDu1SzJ7Aqxli65IoRWaET1An6iOMc9YEekaJmor+kuJqrqg3sU4rioox5AlwWi27ZdmWw\n",
       "TdH5xYjenLkkpl2a6/qFXbPca1N4fbBEVrLjwnV1JTGe4oah/nw2pSwzOdZ0xbN35OQVrDUx7dPQ\n",
       "93UjepKTR9IYblBwFpQE2rUI1G9AP0M4ZnN7O9XeJLBbhS82VT+f+C4P09Av8U10JZP4j8YlZyOH\n",
       "pSQZ2Is6ergzDozJ+88B0zo6I9c3yWO2hM6jmSZPmN9y4JVYi9+Vu3JoyerogdBMMWUbwA7pzHBt\n",
       "9sv5UBHc5Dov0OHRWjJODwoQPBW+/j1Tn6GjxyMDaFVl8nZCiWDQ5TBKfVjOW7+orAhQfZkFTjIv\n",
       "0ptC1BGP0UmwOR09nCIZRqE0ac14GDzdLB560nsLH1z0XoIQrd4fVEkbE9cZSyy4HrX9aQ09kmhe\n",
       "xgcoTayfKv5asGTBxbv1WxtTNZZcm5/tEOQVKyxAoClJLR7pGRmHlUcvlCbhvNpRV7HgbhQtin1n\n",
       "jjXCWgY7qDETJoVXYcjo+120KGb4G/V37xzFfwrs5ZDZgDdLifGchv54BucLaSZqyB5ONHUU9xob\n",
       "vj0Rxym9wF4OlL+8Uc02dEewXVST3lilZ9so//Q93Ap9s9ZTwV9TvpD9F/RtNes/YPwG93ulpdJe\n",
       "OR0AAAAASUVORK5CYII=\n",
       "\" style=\"display:inline;vertical-align:middle;\" /></a></span></td></tr>\n",
       "<tr><td>&nbsp;</td><td colspan=4 style-\"text-align:left\"><a class=\"ProveItLink\" href=\"../../../../logic/sets/inclusion/_theory_nbs_/proofs/relax_proper_subset/thm_proof.ipynb\">proveit.logic.sets.inclusion.relax_proper_subset</a></td></tr><tr><td><a name=\"0x41997acf067af789_step19\">19</a></td><td>conjecture</td><td></td><td><span style=\"font-size:20px;\"> <a class=\"ProveItLink\" href=\"proofs/nat_pos_within_real/thm_proof.ipynb\" style=\"text-decoration: none\">&nbsp;&#x22A2;&nbsp;&nbsp;</a><a class=\"ProveItLink\" href=\"../__pv_it/theorems/cadda3c3d26446c0177fea32c74c6999415960080/expr.ipynb\"><img src=\"data:image/png;base64,iVBORw0KGgoAAAANSUhEUgAAAEcAAAATBAMAAAAwgQ3NAAAAMFBMVEX///9mZmbMzMyIiIiYmJjc\n",
       "3NxUVFSqqqq6uroQEBB2dnYyMjJEREQiIiLu7u4AAAAPqInnAAAAAXRSTlMAQObYZgAAAAlwSFlz\n",
       "AAAOxAAADsQBlSsOGwAAAQ1JREFUKM9jYIADRgYiAA+Fit7+Of2AYeXPBmyKvOec3zvHAcQ6zpHA\n",
       "wPcBu0kHwhjafB4AGbkBSxgYJjDInDl55owDuqIoBh6mBCAj/QB3AMMFHCZFMTAGbAAyUp1ZN6Ap\n",
       "srl79+4luKIDIEVsClaoirSXIpnE9g5kXSrDAZ4GZEV8V5Gt06kOACtS5Lt3ASnE2RoQiiL3/rVj\n",
       "ACtiKaiZgORabmSHu7xmgChiyGNDVqSGrIjniQNU0TO+C0iKwpAVMQmcgypiMjiApIgXJZyEYkCM\n",
       "Q0BshKyI0QFZ0RtmEHc7SHwDcjjvQCgKZGBxOAEMuZ9AU/hQFL3JeABPBUcZzuwvwJp8us5CowUK\n",
       "ALoCVwsjgY6NAAAAAElFTkSuQmCC\n",
       "\" style=\"display:inline;vertical-align:middle;\" /></a></span></td></tr>\n",
       "<tr><td>&nbsp;</td><td colspan=4 style-\"text-align:left\"><a class=\"ProveItLink\" href=\"proofs/nat_pos_within_real/thm_proof.ipynb\">proveit.numbers.number_sets.real_numbers.nat_pos_within_real</a></td></tr><tr><td><a name=\"0x41997acf067af789_step20\">20</a></td><td>conjecture</td><td></td><td><span style=\"font-size:20px;\"> <a class=\"ProveItLink\" href=\"../../../ordering/_theory_nbs_/proofs/relax_less/thm_proof.ipynb\" style=\"text-decoration: none\">&nbsp;&#x22A2;&nbsp;&nbsp;</a><a class=\"ProveItLink\" href=\"../../../ordering/__pv_it/theorems/e31e463cf2805f510e0c2c78f9eb78535b1640d20/expr.ipynb\"><img src=\"data:image/png;base64,iVBORw0KGgoAAAANSUhEUgAAAKEAAAAXBAMAAACR7DLtAAAAMFBMVEX///+IiIgiIiIQEBB2dnbu\n",
       "7u5ERETMzMzc3NwyMjK6urpmZmaYmJiqqqpUVFQAAAB6qHgnAAAAAXRSTlMAQObYZgAAAAlwSFlz\n",
       "AAAOxAAADsQBlSsOGwAAAjhJREFUOMudlE1o1EAUx/+7zWx2k01MBYtYLMteBE9RBE/CtqDgoTCC\n",
       "HkQoCnpRkEK9KqnFq+QieNSjp35A0RapWQ9FEOniQSj1UEELgkhv7dH3EjeZZBMl+yBh3vtnfrvv\n",
       "YwYob/ViycNQdrJYeknPLi++lgFanWKtEgDrvHhehng9G9hWcn0GPOLC3CxDfJvx368qzkegIQGt\n",
       "V4bopt2jF1VvRKJJmTdKldFXPTHlpNQG4c622+fKEE1qjBj98WA6BK4EffR4gBlKlzr9GrgzsG2p\n",
       "mMj/wsSEs8KYn3G9NMvFFtCkDJ6ivjuw7R+tqhLkA7bkL3YS4kOzhT2qCVW5JrUX/yGKVO3p61ms\n",
       "/T0+cdZyxMEZQN8nqpPTmBSxviEzRPDmTGcWpX4AGDwJfpdeo2/GaU6NCdgKMQrqv71EiLKGcYhr\n",
       "melZQ4VoVouW0zTnFW+vQV9eOSLnEmIUNO55ikBVciDu2i46mQm/jxr1o8k7F3iBWzotn3zGWEIM\n",
       "g8ZtqQrhfFgHN1wjORXbs/zewGIQzRbsMHAYit/xTa0jBed6KYGK0IJYdnY+ZUs/M/mOkqnGXdbd\n",
       "8NY7jfMKkYPiUk8VyE4VzdVleh73nQXNN3GVvjb2E2IYBMZ4QPpCdBnkmOaLC+o1Yp6YPMYJ7mz6\n",
       "CTEMkm0Ssi9wa5LLS7RD47JVHbszeIv1hFcLcib8ixcLjMk9UFZ3Pf1rbIa0nVf5pzAW2OaLj+jx\n",
       "tNuE0e3kE2NhaPOG3/oHCKyHTUWvYy4AAAAASUVORK5CYII=\n",
       "\" style=\"display:inline;vertical-align:middle;\" /></a></span></td></tr>\n",
       "<tr><td>&nbsp;</td><td colspan=4 style-\"text-align:left\"><a class=\"ProveItLink\" href=\"../../../ordering/_theory_nbs_/proofs/relax_less/thm_proof.ipynb\">proveit.numbers.ordering.relax_less</a></td></tr><tr><td><a name=\"0x41997acf067af789_step21\">21</a></td><td>conjecture</td><td></td><td><span style=\"font-size:20px;\"> <a class=\"ProveItLink\" href=\"../../../numerals/decimals/_theory_nbs_/proofs/less_2_3/thm_proof.ipynb\" style=\"text-decoration: none\">&nbsp;&#x22A2;&nbsp;&nbsp;</a><a class=\"ProveItLink\" href=\"../../../numerals/decimals/__pv_it/theorems/4eb25ee0d01c5a59bf2f328bbfe21b879d55e9ff0/expr.ipynb\"><img src=\"data:image/png;base64,iVBORw0KGgoAAAANSUhEUgAAADAAAAAQBAMAAACigOGCAAAAMFBMVEX///+qqqqYmJiIiIgiIiLu\n",
       "7u4QEBBUVFS6urp2dnbMzMxEREQyMjJmZmbc3NwAAADzFso2AAAAAXRSTlMAQObYZgAAAAlwSFlz\n",
       "AAAOxAAADsQBlSsOGwAAAL9JREFUGNNj4Lt7egEDGng5dwcDw2sGzh9o4qwXGOQFGOoYGNLQJJg/\n",
       "MsQfYMgPYKh/ABeTATE5Mhj4DzCUMDDUwy1RuQplyCuASH+YuMlUKIPDCURyfYbaOcUAKs5lXgWi\n",
       "WArAPL4rCgj7ga5iYLgNYdcIIDmM7SsDA1MBugTXAgbujwwMkgx8D1CN4v8KkuCawMAcgGo5WwHI\n",
       "qCd3716BBYWJKZhmUgD5w////z9wO1UgHum9uwM9XHUeMBACALqtLs8e2gIpAAAAAElFTkSuQmCC\n",
       "\" style=\"display:inline;vertical-align:middle;\" /></a></span></td></tr>\n",
       "<tr><td>&nbsp;</td><td colspan=4 style-\"text-align:left\"><a class=\"ProveItLink\" href=\"../../../numerals/decimals/_theory_nbs_/proofs/less_2_3/thm_proof.ipynb\">proveit.numbers.numerals.decimals.less_2_3</a></td></tr></table>"
      ],
      "text/plain": [
       "\tstep type\trequirements\tstatement\n",
       "0\tinstantiation\t1, 4, 5, 2\t|- 2 in [1,3]\n",
       "\ta : 1, b : 3, x : 2\n",
       "1\tconjecture\t\t|- forall_{a, b in Real} [forall_{x in (a,b]} (x in [a,b])]\n",
       "\tproveit.numbers.number_sets.real_numbers.relax_IntervalOC\n",
       "2\tinstantiation\t3, 4, 5, 6, 7\t|- 2 in (1,3]\n",
       "\ta : 1, b : 3, x : 2\n",
       "3\tconjecture\t\t|- forall_{a, b, x in Real | a < x <= b} (x in (a,b])\n",
       "\tproveit.numbers.number_sets.real_numbers.in_IntervalOC\n",
       "4\tinstantiation\t10, 11, 8\t|- 1 in Real\n",
       "\tA : NaturalPos, B : Real, x : 1\n",
       "5\tinstantiation\t10, 11, 9\t|- 3 in Real\n",
       "\tA : NaturalPos, B : Real, x : 3\n",
       "6\tinstantiation\t10, 11, 12\t|- 2 in Real\n",
       "\tA : NaturalPos, B : Real, x : 2\n",
       "7\tinstantiation\t13, 14, 15\t|- (1 < 2) and (2 <= 3)\n",
       "\tA : 1 < 2, B : 2 <= 3\n",
       "8\tconjecture\t\t|- 1 in NaturalPos\n",
       "\tproveit.numbers.numerals.decimals.posnat1\n",
       "9\tconjecture\t\t|- 3 in NaturalPos\n",
       "\tproveit.numbers.numerals.decimals.posnat3\n",
       "10\ttheorem\t\t|- forall_{A, B | A subset_eq B} [forall_{x in A} (x in B)]\n",
       "\tproveit.logic.sets.inclusion.unfold_subset_eq\n",
       "11\tinstantiation\t16, 17\t|- NaturalPos subset_eq Real\n",
       "\tA : NaturalPos, B : Real\n",
       "12\tconjecture\t\t|- 2 in NaturalPos\n",
       "\tproveit.numbers.numerals.decimals.posnat2\n",
       "13\ttheorem\t\t|- forall_{A, B | A, B} (A and B)\n",
       "\tproveit.logic.booleans.conjunction.and_if_both\n",
       "14\tconjecture\t\t|- 1 < 2\n",
       "\tproveit.numbers.numerals.decimals.less_1_2\n",
       "15\tinstantiation\t18, 19\t|- 2 <= 3\n",
       "\tx : 2, y : 3\n",
       "16\ttheorem\t\t|- forall_{A, B | A proper_subset B} (A subset_eq B)\n",
       "\tproveit.logic.sets.inclusion.relax_proper_subset\n",
       "17\tconjecture\t\t|- NaturalPos proper_subset Real\n",
       "\tproveit.numbers.number_sets.real_numbers.nat_pos_within_real\n",
       "18\tconjecture\t\t|- forall_{x, y | x < y} (x <= y)\n",
       "\tproveit.numbers.ordering.relax_less\n",
       "19\tconjecture\t\t|- 2 < 3\n",
       "\tproveit.numbers.numerals.decimals.less_2_3"
      ]
     },
     "metadata": {},
     "output_type": "display_data"
    }
   ],
   "source": [
    "two_in_O1_3C.proof()"
   ]
  },
  {
   "cell_type": "markdown",
   "metadata": {},
   "source": [
    "<a id='demo02'></a><font size=4><b>2.</b> Proving $[1,2]\\subseteq \\mathbb{R}^{+}$</font><br><br>\n",
    "<font size=3>The set of real numbers in the closed interval $[1, 2]$ is clearly a subset (and thus also an improper subset) of the positive real numbers $\\mathbb{R}^{+}$. Prove-It will not automatically prove this, however:</font>"
   ]
  },
  {
   "cell_type": "code",
   "execution_count": 34,
   "metadata": {},
   "outputs": [],
   "source": [
    "from proveit.logic import SubsetEq\n",
    "try:\n",
    "    SubsetEq(IntervalCC(one, two), RealPos).prove()\n",
    "except ProofFailure as e:\n",
    "    print(\"Proof failure. {}\".format(e))"
   ]
  },
  {
   "cell_type": "markdown",
   "metadata": {},
   "source": [
    "<font size=3>So we do a little work first to lead Prove-It to a proof. (See Demonstration \\#3 below for an alternative approach.)\n",
    "\n",
    "First we define our interval of interest and use some basic `IntervalCC` methods to derive that an element of $[1,2]$ is real, greater than or equal to 1, and greater than 0:</font>"
   ]
  },
  {
   "cell_type": "code",
   "execution_count": 35,
   "metadata": {},
   "outputs": [
    {
     "data": {
      "text/html": [
       "<strong id=\"interval_12\">interval_12:</strong> <a class=\"ProveItLink\" href=\"../__pv_it/demonstrations/8c899a76534d739760c6d6daec9fea579a7256e70/expr.ipynb\"><img src=\"data:image/png;base64,iVBORw0KGgoAAAANSUhEUgAAACUAAAAVBAMAAAAzyjqdAAAAMFBMVEX///9ERESqqqqYmJgQEBDc\n",
       "3NwyMjJmZmZUVFTu7u66urp2dnbMzMwiIiKIiIgAAADqGnFKAAAAAXRSTlMAQObYZgAAAAlwSFlz\n",
       "AAAOxAAADsQBlSsOGwAAAJ1JREFUGNNjeHuHAQXw3T3AsIsBDXAvAIudnQDhspYnHoCIcbbnQ8UC\n",
       "Gbh/wdS9h4q1MjC4oIv5T2DoD0AT62Vg6D+AJgYE9xkwxHj+YYrxNmCKFTJgiDE3YIppM7AiuwUk\n",
       "zLOBgW8CVGx/AAPnNyAdW15eC9Xb4Z9hwHAXqPD+///fYOaBANME1LACMxkwxeZhEXuAJLYXPT6u\n",
       "LAAA4FJMu18J3p0AAAAASUVORK5CYII=\n",
       "\" style=\"display:inline;vertical-align:middle;\" /></a><br>"
      ],
      "text/plain": [
       "<IPython.core.display.HTML object>"
      ]
     },
     "metadata": {},
     "output_type": "display_data"
    }
   ],
   "source": [
    "# define our interval of interest\n",
    "interval_12 = IntervalCC(one, two)"
   ]
  },
  {
   "cell_type": "code",
   "execution_count": 36,
   "metadata": {},
   "outputs": [
    {
     "data": {
      "text/html": [
       "<span style=\"font-size:20px;\"><a class=\"ProveItLink\" href=\"../__pv_it/demonstrations/f9b2ca9b2c8779c7347c2d1f94d75c2166ca58d90/expr.ipynb\"><img src=\"data:image/png;base64,iVBORw0KGgoAAAANSUhEUgAAAE0AAAAVBAMAAADx+n4ZAAAAMFBMVEX///9ERES6uroQEBAyMjLc\n",
       "3NyYmJgiIiJmZmaqqqp2dnbMzMxUVFSIiIju7u4AAAAd7oVFAAAAAXRSTlMAQObYZgAAAAlwSFlz\n",
       "AAAOxAAADsQBlSsOGwAAARVJREFUKM9jYMACrlej8nnLN2BTxrAIXYBLAZc67joom7XDcQNudW9a\n",
       "/kHZgQxcn/CYxwtTd5SBwRhNHa94eQmGOvsHDOcDUNQx+T7AYt5xBobzG0Dq3t55vWoCSCTkATZ7\n",
       "gaAebG8D71mOAhDXlQG7Ou6/IHVsAWz/eBJAfAcc6tgPgNRxM3BAFHCbl5eXF2JR1wgNZ+YLYC6f\n",
       "AHbz2A5A1ekH8IF9UIBd3SwGVlC4PFQ4zMAFFriLro4P7JwFDLwPgOrm72tm0ATLskxAUsf1lYHh\n",
       "Pcjh4R0d7SB7X9zlbIMo4DuoB1fHc/jLMQZ2UFqo////C1q8MS1ExBsYzCOcrsBgAXHq+C4Qp46X\n",
       "UHpejp4/ihUAfQRXdNbgiUkAAAAASUVORK5CYII=\n",
       "\" style=\"display:inline;vertical-align:middle;\" /></a> <a class=\"ProveItLink\" href=\"../__pv_it/demonstrations/38d1bb0fa43f6589b5a104c58587bbee06918ad20/proof.ipynb\" style=\"text-decoration: none\">&nbsp;&#x22A2;&nbsp;&nbsp;</a><a class=\"ProveItLink\" href=\"../../../ordering/__pv_it/theorems/d1323f34847310a404e8089c2c268d3c2eb89dbf0/expr.ipynb\"><img src=\"data:image/png;base64,iVBORw0KGgoAAAANSUhEUgAAADQAAAAQBAMAAACra0H4AAAAMFBMVEX///9ERES6uroQEBAyMjLc\n",
       "3NyYmJgiIiJmZmaqqqp2dnbMzMxUVFSIiIju7u4AAAAd7oVFAAAAAXRSTlMAQObYZgAAAAlwSFlz\n",
       "AAAOxAAADsQBlSsOGwAAAMtJREFUGNNjYMAAbM6CX4rFGLACRtYDTMfkcEgtYBDYg1OqlQVF6GJ5\n",
       "uQNcihFZRuUekq5zb4CMt3der5oApFn9kAzklnQFMhp4z3IUAGmWAISUSX3tA6AvAtj+8SSApJCc\n",
       "sSwPZCk3AwfYbobN5UAgADVQLg0sxnwBTD1EdvwOxgcgln4AH4hmR5bi2ArU/1DhMAMXSID3ApIU\n",
       "n8A1Bob5+5oZNMEingipBoY0RgWGF3c52yaARd4IPYCF/McARpGfyMGhJQ4JKCgAAF8xNF8aQs/g\n",
       "AAAAAElFTkSuQmCC\n",
       "\" style=\"display:inline;vertical-align:middle;\" /></a></span>"
      ],
      "text/plain": [
       "{x in [1,2]} |- x in Real"
      ]
     },
     "metadata": {},
     "output_type": "display_data"
    }
   ],
   "source": [
    "# if x is in [1, 2] x must be real\n",
    "interval_12.deduce_member_in_real(x, assumptions=[InSet(x, interval_12)])"
   ]
  },
  {
   "cell_type": "code",
   "execution_count": 37,
   "metadata": {},
   "outputs": [
    {
     "data": {
      "text/html": [
       "<span style=\"font-size:20px;\"><a class=\"ProveItLink\" href=\"../__pv_it/demonstrations/f9b2ca9b2c8779c7347c2d1f94d75c2166ca58d90/expr.ipynb\"><img src=\"data:image/png;base64,iVBORw0KGgoAAAANSUhEUgAAAE0AAAAVBAMAAADx+n4ZAAAAMFBMVEX///9ERES6uroQEBAyMjLc\n",
       "3NyYmJgiIiJmZmaqqqp2dnbMzMxUVFSIiIju7u4AAAAd7oVFAAAAAXRSTlMAQObYZgAAAAlwSFlz\n",
       "AAAOxAAADsQBlSsOGwAAARVJREFUKM9jYMACrlej8nnLN2BTxrAIXYBLAZc67joom7XDcQNudW9a\n",
       "/kHZgQxcn/CYxwtTd5SBwRhNHa94eQmGOvsHDOcDUNQx+T7AYt5xBobzG0Dq3t55vWoCSCTkATZ7\n",
       "gaAebG8D71mOAhDXlQG7Ou6/IHVsAWz/eBJAfAcc6tgPgNRxM3BAFHCbl5eXF2JR1wgNZ+YLYC6f\n",
       "AHbz2A5A1ekH8IF9UIBd3SwGVlC4PFQ4zMAFFriLro4P7JwFDLwPgOrm72tm0ATLskxAUsf1lYHh\n",
       "Pcjh4R0d7SB7X9zlbIMo4DuoB1fHc/jLMQZ2UFqo////C1q8MS1ExBsYzCOcrsBgAXHq+C4Qp46X\n",
       "UHpejp4/ihUAfQRXdNbgiUkAAAAASUVORK5CYII=\n",
       "\" style=\"display:inline;vertical-align:middle;\" /></a> <a class=\"ProveItLink\" href=\"../__pv_it/demonstrations/f7c3f02850c012f445664f4ca5fa92120b48342a0/proof.ipynb\" style=\"text-decoration: none\">&nbsp;&#x22A2;&nbsp;&nbsp;</a><a class=\"ProveItLink\" href=\"../__pv_it/demonstrations/79e750b2b54ccae1f038119f807a121fd8d480cf0/expr.ipynb\"><img src=\"data:image/png;base64,iVBORw0KGgoAAAANSUhEUgAAADAAAAARBAMAAABp3DInAAAAMFBMVEX///9ERES6urqqqqqYmJgQ\n",
       "EBDc3Nx2dnaIiIgyMjJmZmZUVFTu7u4iIiLMzMwAAAD4QZJGAAAAAXRSTlMAQObYZgAAAAlwSFlz\n",
       "AAAOxAAADsQBlSsOGwAAAItJREFUGNNjYOC7w4AVnF75B8FhnoYkw4GQYLl1AKsEx3VkcYTE8Ruo\n",
       "lsAkTl2BifB07HleDJc4PRmulIuhu2EtXIIbIeHG4H9gC8KoLLhRDxhW4rI8Aodzmb4xnMHiQR4h\n",
       "7gCGAgYG9m9IQTIPRPw7FcBkwMC99ecWVI/xrGiwcmagAJy9CwL34HwAprI1tC5aofcAAAAASUVO\n",
       "RK5CYII=\n",
       "\" style=\"display:inline;vertical-align:middle;\" /></a></span>"
      ],
      "text/plain": [
       "{x in [1,2]} |- 1 <= x"
      ]
     },
     "metadata": {},
     "output_type": "display_data"
    }
   ],
   "source": [
    "# and of course if x is in [1, 2] then 1 ≤ x\n",
    "interval_12.deduce_member_lower_bound(x, assumptions=[InSet(x, interval_12)])"
   ]
  },
  {
   "cell_type": "code",
   "execution_count": 38,
   "metadata": {},
   "outputs": [
    {
     "data": {
      "text/html": [
       "<span style=\"font-size:20px;\"><a class=\"ProveItLink\" href=\"../__pv_it/demonstrations/f9b2ca9b2c8779c7347c2d1f94d75c2166ca58d90/expr.ipynb\"><img src=\"data:image/png;base64,iVBORw0KGgoAAAANSUhEUgAAAE0AAAAVBAMAAADx+n4ZAAAAMFBMVEX///9ERES6uroQEBAyMjLc\n",
       "3NyYmJgiIiJmZmaqqqp2dnbMzMxUVFSIiIju7u4AAAAd7oVFAAAAAXRSTlMAQObYZgAAAAlwSFlz\n",
       "AAAOxAAADsQBlSsOGwAAARVJREFUKM9jYMACrlej8nnLN2BTxrAIXYBLAZc67joom7XDcQNudW9a\n",
       "/kHZgQxcn/CYxwtTd5SBwRhNHa94eQmGOvsHDOcDUNQx+T7AYt5xBobzG0Dq3t55vWoCSCTkATZ7\n",
       "gaAebG8D71mOAhDXlQG7Ou6/IHVsAWz/eBJAfAcc6tgPgNRxM3BAFHCbl5eXF2JR1wgNZ+YLYC6f\n",
       "AHbz2A5A1ekH8IF9UIBd3SwGVlC4PFQ4zMAFFriLro4P7JwFDLwPgOrm72tm0ATLskxAUsf1lYHh\n",
       "Pcjh4R0d7SB7X9zlbIMo4DuoB1fHc/jLMQZ2UFqo////C1q8MS1ExBsYzCOcrsBgAXHq+C4Qp46X\n",
       "UHpejp4/ihUAfQRXdNbgiUkAAAAASUVORK5CYII=\n",
       "\" style=\"display:inline;vertical-align:middle;\" /></a> <a class=\"ProveItLink\" href=\"../__pv_it/demonstrations/2e954f3c0687109e00949402f4b5e60149accadf0/proof.ipynb\" style=\"text-decoration: none\">&nbsp;&#x22A2;&nbsp;&nbsp;</a><a class=\"ProveItLink\" href=\"../__pv_it/theorems/0c04c146b0f7b92967ed28917fb83981f8ee0b1b0/expr.ipynb\"><img src=\"data:image/png;base64,iVBORw0KGgoAAAANSUhEUgAAADEAAAAQBAMAAABNQoq8AAAAMFBMVEX///9ERES6uroQEBAyMjLc\n",
       "3NyYmJgiIiJmZmaqqqp2dnbMzMxUVFSIiIju7u4AAAAd7oVFAAAAAXRSTlMAQObYZgAAAAlwSFlz\n",
       "AAAOxAAADsQBlSsOGwAAAMFJREFUGNNjYMAGVt0IwCrOwDKBrxS7TDoDw0Ik7pMEOFOGgWH+A4QM\n",
       "3/ILMOYPBob9ExgY3t55vWoCWOD6OqgakAzQhAbesxwFUPP7wBTrL6DMBQa2ALZ/PDArprTCZRYw\n",
       "cDNwOCAsUzkHMg0oow+ylPkCkowc1AXzQVbrB/DBnDjlKJgSZGDIf8DwUOEwAxfMh60QOpmBoQWo\n",
       "bV8zgyYDiqsZ2CfwWTMwvLjL2Qb2Dt91uH18XXc2IIXO8wQGIgEAisM3iEYrHlYAAAAASUVORK5C\n",
       "YII=\n",
       "\" style=\"display:inline;vertical-align:middle;\" /></a></span>"
      ],
      "text/plain": [
       "{x in [1,2]} |- x > 0"
      ]
     },
     "metadata": {},
     "output_type": "display_data"
    }
   ],
   "source": [
    "# x being real and x ≥ 1 also means x > 0\n",
    "from proveit.numbers import greater\n",
    "greater(x, zero).conclude_via_transitivity(assumptions=[InSet(x, interval_12)])"
   ]
  },
  {
   "cell_type": "markdown",
   "metadata": {},
   "source": [
    "<font size=3>Trivially, $x \\in \\mathbb{R}^+$ if $x \\in [1, 2]$ since we know $x > 0$:</font>"
   ]
  },
  {
   "cell_type": "code",
   "execution_count": 39,
   "metadata": {},
   "outputs": [
    {
     "data": {
      "text/html": [
       "<strong id=\"x_in_interval_then_xPos\">x_in_interval_then_xPos:</strong> <span style=\"font-size:20px;\"><a class=\"ProveItLink\" href=\"../__pv_it/demonstrations/f9b2ca9b2c8779c7347c2d1f94d75c2166ca58d90/expr.ipynb\"><img src=\"data:image/png;base64,iVBORw0KGgoAAAANSUhEUgAAAE0AAAAVBAMAAADx+n4ZAAAAMFBMVEX///9ERES6uroQEBAyMjLc\n",
       "3NyYmJgiIiJmZmaqqqp2dnbMzMxUVFSIiIju7u4AAAAd7oVFAAAAAXRSTlMAQObYZgAAAAlwSFlz\n",
       "AAAOxAAADsQBlSsOGwAAARVJREFUKM9jYMACrlej8nnLN2BTxrAIXYBLAZc67joom7XDcQNudW9a\n",
       "/kHZgQxcn/CYxwtTd5SBwRhNHa94eQmGOvsHDOcDUNQx+T7AYt5xBobzG0Dq3t55vWoCSCTkATZ7\n",
       "gaAebG8D71mOAhDXlQG7Ou6/IHVsAWz/eBJAfAcc6tgPgNRxM3BAFHCbl5eXF2JR1wgNZ+YLYC6f\n",
       "AHbz2A5A1ekH8IF9UIBd3SwGVlC4PFQ4zMAFFriLro4P7JwFDLwPgOrm72tm0ATLskxAUsf1lYHh\n",
       "Pcjh4R0d7SB7X9zlbIMo4DuoB1fHc/jLMQZ2UFqo////C1q8MS1ExBsYzCOcrsBgAXHq+C4Qp46X\n",
       "UHpejp4/ihUAfQRXdNbgiUkAAAAASUVORK5CYII=\n",
       "\" style=\"display:inline;vertical-align:middle;\" /></a> <a class=\"ProveItLink\" href=\"../__pv_it/demonstrations/7f3f6b8cdd81a696cf609193d36ba3a366e532820/proof.ipynb\" style=\"text-decoration: none\">&nbsp;&#x22A2;&nbsp;&nbsp;</a><a class=\"ProveItLink\" href=\"../__pv_it/theorems/7697fc34c81296f04a039eeb9dd22e91165d63b70/expr.ipynb\"><img src=\"data:image/png;base64,iVBORw0KGgoAAAANSUhEUgAAAEAAAAATBAMAAADSXRa0AAAAMFBMVEX///9ERES6uroQEBAyMjLc\n",
       "3NyYmJgiIiJmZmaqqqp2dnbMzMxUVFSIiIju7u4AAAAd7oVFAAAAAXRSTlMAQObYZgAAAAlwSFlz\n",
       "AAAOxAAADsQBlSsOGwAAANxJREFUKM9jYMAHGhgIAAHyFLA5C34pFsNnAiPrAaZjcngVLGAQ2MPA\n",
       "IShoKCiGS0ErCxYTLpaXO8AVMGIqULmHZMK5N3AFb++8XjUBSLP6IVnBLekKV9DAe5ajAEizBCAU\n",
       "mNTXPoCFJFsA2z+eBJACJEcuy3OA87gZOCCczeVAIAC1Qi4NyXHMF8DUQ2Rv7mB8gFCgH8AH4rEj\n",
       "K+DYCvfhQ4XDDFwgBu8FJAV8AtdgvPn7mhk0wSxPhIIGhjRGBSjvxV3Otglg1huhB7DY/BjAKPIT\n",
       "Mw60xMsdMAQB8jw2YYZ9lmsAAAAASUVORK5CYII=\n",
       "\" style=\"display:inline;vertical-align:middle;\" /></a></span><br>"
      ],
      "text/plain": [
       "<IPython.core.display.HTML object>"
      ]
     },
     "metadata": {},
     "output_type": "display_data"
    }
   ],
   "source": [
    "x_in_interval_then_xPos = InSet(x, RealPos).prove(assumptions=[InSet(x, interval_12)])"
   ]
  },
  {
   "cell_type": "markdown",
   "metadata": {},
   "source": [
    "<font size=3>If we jump the gun a bit here and ask Prove-It to now complete the proof, we still get an error message:</font>"
   ]
  },
  {
   "cell_type": "code",
   "execution_count": 40,
   "metadata": {},
   "outputs": [],
   "source": [
    "from proveit.logic import SubsetEq\n",
    "try:\n",
    "    SubsetEq(IntervalCC(one, two), RealPos).prove()\n",
    "except ProofFailure as e:\n",
    "    print(\"Proof failure. {}\".format(e))"
   ]
  },
  {
   "cell_type": "markdown",
   "metadata": {},
   "source": [
    "<font size=3>But the error message is instructive:  apparently Prove-It is trying to apply modus ponens to a known implication, and we just need to modify our earlier result to make it more obviously applicable. So we generalize the previous judgment that $\\{x\\in [1, 2]\\}\\vdash x \\in \\mathbb{R}^{+}$ as follows:</font>"
   ]
  },
  {
   "cell_type": "code",
   "execution_count": 41,
   "metadata": {},
   "outputs": [
    {
     "data": {
      "text/html": [
       "<span style=\"font-size:20px;\"> <a class=\"ProveItLink\" href=\"../__pv_it/demonstrations/511e59a6e1403018b52c268b93bf718f1ca11fc00/proof.ipynb\" style=\"text-decoration: none\">&nbsp;&#x22A2;&nbsp;&nbsp;</a><a class=\"ProveItLink\" href=\"../__pv_it/demonstrations/b2f5ea66c619614b98edfd6ac053950d0ee247b30/expr.ipynb\"><img src=\"data:image/png;base64,iVBORw0KGgoAAAANSUhEUgAAAJ0AAAAZBAMAAADZKTErAAAAMFBMVEX///+IiIgiIiIQEBB2dnbu\n",
       "7u5ERETMzMzc3NwyMjK6urpmZmaYmJiqqqpUVFQAAAB6qHgnAAAAAXRSTlMAQObYZgAAAAlwSFlz\n",
       "AAAOxAAADsQBlSsOGwAAAnlJREFUOMuVlU1oE0EUx/+bZr+yaUwULyolRhA8WYoU9GSheFJYodSD\n",
       "oFHIiqBQW8WC0C7UgyJoRIQeCubiTWnAqkVFKqJQ6GERbwquiD2JeIlfIPXNbHdntibddWBgZmff\n",
       "b973AClHvrHucZOmhf8Y79Y/rtI0qulxaj2ZhxfpedpCOx/ccn7tOCN4GRvw2eJ9Im+q/S2Gn/tS\n",
       "i3gKwZ6wxXQib64Dbz+qE7Acp98hPdUWMJHOkb878ubNSD/MACbZnPWScHortlVOVnZFPE3wHpFP\n",
       "ydFmonpKWd7lbtpCv8/HBG8Tzb5KZU8ir8DS5XDPkUFuyVVb2KufnRa8WTp4DNRk0X5XrF/7oSD7\n",
       "v6l8tMqx8GnG3t3b7bA+gMkR4DoMX+b5UBd5Bg9+tRGemLTIu/lWgadhXfAOvpIT/QYVpWZnw9LU\n",
       "e5wGIc5tBK9GUibkZeh+HVYgq5OLKjtX7a0tSbzjROouRuF4OsL1wxu22dAwfsT0A7qKQe1VpXy5\n",
       "pNmSfgxQZ2VXmt/qKguQeHn7H96sq3LhssSzxqXknWS+P3Sb8sFdNr1hyDxKS2FvgYSGG5+Q5buS\n",
       "xFOr2wSPxRdTzNc4oePeGt6oiIfSC3y48AD3A229iNfEkiY640t+NzMaP4FFx3E8wTNqiHg5qo+j\n",
       "pe5nAUhdvhv2l++udvpPxHsuCqrXwPm4ftdwJeJhXyy9cweCels7ZqJ2lK1bCCIV8IZgnLr4UPDm\n",
       "UjXdqMqtLQObiRDwLt8ZwJjXtbLyTfDGUr0xfnw/5PB85sMLjV8NsJeCl3HbfAwQOTvOS3o/0PH9\n",
       "CBB5xHl4m4xr35Ydub8U076/PAhk01+7WqjHNgmvCgAAAABJRU5ErkJggg==\n",
       "\" style=\"display:inline;vertical-align:middle;\" /></a></span>"
      ],
      "text/plain": [
       "|- forall_{x in [1,2]} (x in RealPos)"
      ]
     },
     "metadata": {},
     "output_type": "display_data"
    }
   ],
   "source": [
    "# generalize\n",
    "x_in_interval_then_xPos.generalize(x, conditions=[InSet(x, interval_12)])"
   ]
  },
  {
   "cell_type": "markdown",
   "metadata": {},
   "source": [
    "<font size=3>And now Prove-It has the pieces it needs to establish the desired judgment:</font>"
   ]
  },
  {
   "cell_type": "code",
   "execution_count": 42,
   "metadata": {},
   "outputs": [
    {
     "data": {
      "text/html": [
       "<span style=\"font-size:20px;\"> <a class=\"ProveItLink\" href=\"../__pv_it/demonstrations/9beb426acbe3dab041c8570eace38842716f28c00/proof.ipynb\" style=\"text-decoration: none\">&nbsp;&#x22A2;&nbsp;&nbsp;</a><a class=\"ProveItLink\" href=\"../__pv_it/demonstrations/0bde084a201214a510cb781e20e6ac389ee036160/expr.ipynb\"><img src=\"data:image/png;base64,iVBORw0KGgoAAAANSUhEUgAAAF4AAAAXBAMAAABwq+X5AAAAMFBMVEX///9ERESqqqqYmJgQEBDc\n",
       "3NwyMjJmZmZUVFTu7u66urp2dnbMzMwiIiKIiIgAAADqGnFKAAAAAXRSTlMAQObYZgAAAAlwSFlz\n",
       "AAAOxAAADsQBlSsOGwAAAVJJREFUOMtjYCABFDCQBgSA+O0dVDG+uwfwqt+FLsi9AJXPnCL47Yow\n",
       "snqem1Ap1vLEAxjqGRhZG7iaJRHqZ5T9hMoEMnD/gqt/ePfu3TsQ9RsYBE4wsAsKOgoKg8zng6lv\n",
       "ZWBwgak/9hRh/gaGUjYk98DV+09g6A+AqOe8yoCinhGb+l4Ghv4DEPUcC1DUd87Aph4I7kPdw4bs\n",
       "3w08QqnY1fP8g6o/gaze7f69CbD4RVXP2wBVH4GsfrNlApyHqr4QFl+8KO6RNMaunrkBpp7dAFn9\n",
       "ccYJWNVrM7BCw5MhC1k9+1EBNPWcYN9uYOCbAFU/o2sCQj2nwGMk9dxfGRjmg3wUW15eC08Pq2Xh\n",
       "6aGAwZhxAVw9R8u3ZgZeUJq7////N2zp82MAo9gnhPlgoIkrPaMBmPoNpKnnfICqnv3uXVh6xqqe\n",
       "j4FI8/ei598reNUDAMWddYs27QO5AAAAAElFTkSuQmCC\n",
       "\" style=\"display:inline;vertical-align:middle;\" /></a></span>"
      ],
      "text/plain": [
       "|- [1,2] subset_eq RealPos"
      ]
     },
     "metadata": {},
     "output_type": "display_data"
    }
   ],
   "source": [
    "# The previous generalization result allows the instantiation of\n",
    "# a conditional theorem definition of improper subset\n",
    "SubsetEq(interval_12, RealPos).prove()"
   ]
  },
  {
   "cell_type": "markdown",
   "metadata": {},
   "source": [
    "<font size=3>It turns out it takes quite a bit more work to take the further step and conclude that $[1, 2] \\subset \\mathbb{R}^{+}$ (<i>i.e.</i>, using a strict subset instead of an improper subset). Such proper subset relationships have been formulated as theorems, as demonstrated below in the next example.</font>"
   ]
  },
  {
   "cell_type": "markdown",
   "metadata": {},
   "source": [
    "<a id='demo03'></a><font size=4><b>3.</b> Proving $[1,4]\\subset \\mathbb{R}^{+}$</font><br><br>\n",
    "<font size=3>The set of real numbers in the closed interval $[1, 4]$ is clearly a subset of the positive real numbers $\\mathbb{R}^{+}$. We prove this subset relationship by instantiation of a general theorem:</font>"
   ]
  },
  {
   "cell_type": "code",
   "execution_count": 43,
   "metadata": {},
   "outputs": [
    {
     "data": {
      "text/html": [
       "<strong id=\"c_in_pos_interval\">c_in_pos_interval:</strong> <span style=\"font-size:20px;\"><a class=\"ProveItLink\" href=\"../__pv_it/demonstrations/cc53d918fd90dc2a2ee538fad694f7a6d70d71900/expr.ipynb\"><img src=\"data:image/png;base64,iVBORw0KGgoAAAANSUhEUgAAAEkAAAAVBAMAAAD4Ed5jAAAAMFBMVEX///9UVFQyMjK6urru7u4Q\n",
       "EBBERERmZmaqqqoiIiLc3NzMzMyYmJiIiIh2dnYAAABC1PP/AAAAAXRSTlMAQObYZgAAAAlwSFlz\n",
       "AAAOxAAADsQBlSsOGwAAAPBJREFUKM9jYMAAN2ej8nlnbsBUxPAYXYDPAIeqnQ4wHncBLlUs4vpw\n",
       "VZwCuM26D1d1E03VtZkzFTBUcR9CVWV0BZtZfExQVW/vgHzKpYLVxltQVSsb2BOAXKYF2FRxHYCq\n",
       "msfAegGkCqvr+Rggqti/QPhbZwJBArqqU1BVrAkQvhs2s7guQFX5X4CGHjZVzIKC8oEPgKr4DzAw\n",
       "gHzKewFdFUQhK8RdCQx84DjXQFb1fgEDyycwjz8B7Md3ZyDB6ZjsAFclGK94gGEmiM+e//ECSgzZ\n",
       "ZSJiCAQ4HAilHEhYEaPKlyhVF/Cqeome7qcaAADQW0/HKb7OCAAAAABJRU5ErkJggg==\n",
       "\" style=\"display:inline;vertical-align:middle;\" /></a> <a class=\"ProveItLink\" href=\"../__pv_it/demonstrations/ff163d487be763c4b47179b9fc4615cc27268e8b0/proof.ipynb\" style=\"text-decoration: none\">&nbsp;&#x22A2;&nbsp;&nbsp;</a><a class=\"ProveItLink\" href=\"../__pv_it/demonstrations/cc53d918fd90dc2a2ee538fad694f7a6d70d71900/expr.ipynb\"><img src=\"data:image/png;base64,iVBORw0KGgoAAAANSUhEUgAAAEkAAAAVBAMAAAD4Ed5jAAAAMFBMVEX///9UVFQyMjK6urru7u4Q\n",
       "EBBERERmZmaqqqoiIiLc3NzMzMyYmJiIiIh2dnYAAABC1PP/AAAAAXRSTlMAQObYZgAAAAlwSFlz\n",
       "AAAOxAAADsQBlSsOGwAAAPBJREFUKM9jYMAAN2ej8nlnbsBUxPAYXYDPAIeqnQ4wHncBLlUs4vpw\n",
       "VZwCuM26D1d1E03VtZkzFTBUcR9CVWV0BZtZfExQVW/vgHzKpYLVxltQVSsb2BOAXKYF2FRxHYCq\n",
       "msfAegGkCqvr+Rggqti/QPhbZwJBArqqU1BVrAkQvhs2s7guQFX5X4CGHjZVzIKC8oEPgKr4DzAw\n",
       "gHzKewFdFUQhK8RdCQx84DjXQFb1fgEDyycwjz8B7Md3ZyDB6ZjsAFclGK94gGEmiM+e//ECSgzZ\n",
       "ZSJiCAQ4HAilHEhYEaPKlyhVF/Cqeome7qcaAADQW0/HKb7OCAAAAABJRU5ErkJggg==\n",
       "\" style=\"display:inline;vertical-align:middle;\" /></a></span><br>"
      ],
      "text/plain": [
       "<IPython.core.display.HTML object>"
      ]
     },
     "metadata": {},
     "output_type": "display_data"
    }
   ],
   "source": [
    "c_in_pos_interval = InSet(c, IntervalCC(one, four))\n",
    "c_in_pos_interval = c_in_pos_interval.prove(assumptions=[c_in_pos_interval])"
   ]
  },
  {
   "cell_type": "code",
   "execution_count": 44,
   "metadata": {},
   "outputs": [
    {
     "data": {
      "text/html": [
       "<span style=\"font-size:20px;\"><a class=\"ProveItLink\" href=\"../__pv_it/demonstrations/cc53d918fd90dc2a2ee538fad694f7a6d70d71900/expr.ipynb\"><img src=\"data:image/png;base64,iVBORw0KGgoAAAANSUhEUgAAAEkAAAAVBAMAAAD4Ed5jAAAAMFBMVEX///9UVFQyMjK6urru7u4Q\n",
       "EBBERERmZmaqqqoiIiLc3NzMzMyYmJiIiIh2dnYAAABC1PP/AAAAAXRSTlMAQObYZgAAAAlwSFlz\n",
       "AAAOxAAADsQBlSsOGwAAAPBJREFUKM9jYMAAN2ej8nlnbsBUxPAYXYDPAIeqnQ4wHncBLlUs4vpw\n",
       "VZwCuM26D1d1E03VtZkzFTBUcR9CVWV0BZtZfExQVW/vgHzKpYLVxltQVSsb2BOAXKYF2FRxHYCq\n",
       "msfAegGkCqvr+Rggqti/QPhbZwJBArqqU1BVrAkQvhs2s7guQFX5X4CGHjZVzIKC8oEPgKr4DzAw\n",
       "gHzKewFdFUQhK8RdCQx84DjXQFb1fgEDyycwjz8B7Md3ZyDB6ZjsAFclGK94gGEmiM+e//ECSgzZ\n",
       "ZSJiCAQ4HAilHEhYEaPKlyhVF/Cqeome7qcaAADQW0/HKb7OCAAAAABJRU5ErkJggg==\n",
       "\" style=\"display:inline;vertical-align:middle;\" /></a> <a class=\"ProveItLink\" href=\"../__pv_it/demonstrations/721f9e5e9e788ed72846700dc4d9373c5ad1d1b30/proof.ipynb\" style=\"text-decoration: none\">&nbsp;&#x22A2;&nbsp;&nbsp;</a><a class=\"ProveItLink\" href=\"../__pv_it/demonstrations/f5ac3c6ab90d9fa1dcfc09c01f78122044c007160/expr.ipynb\"><img src=\"data:image/png;base64,iVBORw0KGgoAAAANSUhEUgAAAD0AAAATBAMAAADR6hicAAAAMFBMVEX///9UVFQyMjK6urru7u4Q\n",
       "EBBERERmZmaqqqoiIiLc3NzMzMyYmJiIiIh2dnYAAABC1PP/AAAAAXRSTlMAQObYZgAAAAlwSFlz\n",
       "AAAOxAAADsQBlSsOGwAAAM9JREFUKM9jYMAN2BnwAzay5A+F5WuGHcCjP2Ehg+ExBzzy6xjYuAUY\n",
       "ytJS09IOYJdnX6CAqf/azJkKcPkEDHmjKwj9jC4CCPm3dzYASS4VJPO3NS2Ay69sYAcZxrQALr9U\n",
       "8+cVRPjNY2C9AJJHct8ZJ6RA/gKht84EggSIPJsPwl+sCRDaDUk/d0EKnOd/AUJzIvu/ehmcxw80\n",
       "ygBI815AknfjhVsAdDwfyH8MGnD55Qw8B5LhBrw7AwkYx2QHWPxlMaTpN2CEu10mJHxRAABI1jva\n",
       "YsbopQAAAABJRU5ErkJggg==\n",
       "\" style=\"display:inline;vertical-align:middle;\" /></a></span>"
      ],
      "text/plain": [
       "{c in [1,4]} |- c in RealPos"
      ]
     },
     "metadata": {},
     "output_type": "display_data"
    }
   ],
   "source": [
    "c_in_pos_interval.derive_element_in_restricted_number_set()"
   ]
  },
  {
   "cell_type": "code",
   "execution_count": 45,
   "metadata": {},
   "outputs": [
    {
     "data": {
      "text/html": [
       "<strong id=\"c_in_nonneg_interval\">c_in_nonneg_interval:</strong> <span style=\"font-size:20px;\"><a class=\"ProveItLink\" href=\"../__pv_it/demonstrations/0768b8597580b3f5c74dd98523a6962a03ee102e0/expr.ipynb\"><img src=\"data:image/png;base64,iVBORw0KGgoAAAANSUhEUgAAAEkAAAAVBAMAAAD4Ed5jAAAAMFBMVEX///9UVFQyMjK6urru7u4Q\n",
       "EBBERERmZmaqqqoiIiLc3NzMzMyYmJiIiIh2dnYAAABC1PP/AAAAAXRSTlMAQObYZgAAAAlwSFlz\n",
       "AAAOxAAADsQBlSsOGwAAASdJREFUKM9jYMAAN2ej8nlnbsBUxPAYXYDPALsqvrdVMB53AU5VGgye\n",
       "C6A8TgFcqngmMPAlwFyJpurazJkKEFVsAgwcX6AWHkJVZXQFbhZ/AQP3D6jLmaCq3t4B+ZRLBWGj\n",
       "P1DVHwjnFlTVygZ2kBuYFiBUrX/AwP0XzOY6AFU1j4H1AkgVA6qqfxALGSCq2KHO3DoTCBKgNj5g\n",
       "YIaYdQqqihXqZTcks4Cu5wC7nusCVJX/BWjoIaliS2DgAVvBLCgoH/gAqIr/AAMDyKe8F5BCNYCB\n",
       "XYHBAcxjhbgrgYEPHOcaSDE0g8F1A8snMI8/AezHd2cgwemY7ABX5f5WmoFhJojPnv/xAkoM2WXC\n",
       "YggCOBwIpBxoWBGjypcoVRfwqnqJnu6nGgAATt9Vuq2q2tgAAAAASUVORK5CYII=\n",
       "\" style=\"display:inline;vertical-align:middle;\" /></a> <a class=\"ProveItLink\" href=\"../__pv_it/demonstrations/a54e88bb7ab997264ea1723b81db01e312b16bf90/proof.ipynb\" style=\"text-decoration: none\">&nbsp;&#x22A2;&nbsp;&nbsp;</a><a class=\"ProveItLink\" href=\"../__pv_it/demonstrations/0768b8597580b3f5c74dd98523a6962a03ee102e0/expr.ipynb\"><img src=\"data:image/png;base64,iVBORw0KGgoAAAANSUhEUgAAAEkAAAAVBAMAAAD4Ed5jAAAAMFBMVEX///9UVFQyMjK6urru7u4Q\n",
       "EBBERERmZmaqqqoiIiLc3NzMzMyYmJiIiIh2dnYAAABC1PP/AAAAAXRSTlMAQObYZgAAAAlwSFlz\n",
       "AAAOxAAADsQBlSsOGwAAASdJREFUKM9jYMAAN2ej8nlnbsBUxPAYXYDPALsqvrdVMB53AU5VGgye\n",
       "C6A8TgFcqngmMPAlwFyJpurazJkKEFVsAgwcX6AWHkJVZXQFbhZ/AQP3D6jLmaCq3t4B+ZRLBWGj\n",
       "P1DVHwjnFlTVygZ2kBuYFiBUrX/AwP0XzOY6AFU1j4H1AkgVA6qqfxALGSCq2KHO3DoTCBKgNj5g\n",
       "YIaYdQqqihXqZTcks4Cu5wC7nusCVJX/BWjoIaliS2DgAVvBLCgoH/gAqIr/AAMDyKe8F5BCNYCB\n",
       "XYHBAcxjhbgrgYEPHOcaSDE0g8F1A8snMI8/AezHd2cgwemY7ABX5f5WmoFhJojPnv/xAkoM2WXC\n",
       "YggCOBwIpBxoWBGjypcoVRfwqnqJnu6nGgAATt9Vuq2q2tgAAAAASUVORK5CYII=\n",
       "\" style=\"display:inline;vertical-align:middle;\" /></a></span><br>"
      ],
      "text/plain": [
       "<IPython.core.display.HTML object>"
      ]
     },
     "metadata": {},
     "output_type": "display_data"
    }
   ],
   "source": [
    "c_in_nonneg_interval = InSet(c, IntervalCC(zero, four))\n",
    "c_in_nonneg_interval = c_in_nonneg_interval.prove(assumptions=[c_in_nonneg_interval])"
   ]
  },
  {
   "cell_type": "code",
   "execution_count": 46,
   "metadata": {},
   "outputs": [
    {
     "data": {
      "text/html": [
       "<span style=\"font-size:20px;\"><a class=\"ProveItLink\" href=\"../__pv_it/demonstrations/0768b8597580b3f5c74dd98523a6962a03ee102e0/expr.ipynb\"><img src=\"data:image/png;base64,iVBORw0KGgoAAAANSUhEUgAAAEkAAAAVBAMAAAD4Ed5jAAAAMFBMVEX///9UVFQyMjK6urru7u4Q\n",
       "EBBERERmZmaqqqoiIiLc3NzMzMyYmJiIiIh2dnYAAABC1PP/AAAAAXRSTlMAQObYZgAAAAlwSFlz\n",
       "AAAOxAAADsQBlSsOGwAAASdJREFUKM9jYMAAN2ej8nlnbsBUxPAYXYDPALsqvrdVMB53AU5VGgye\n",
       "C6A8TgFcqngmMPAlwFyJpurazJkKEFVsAgwcX6AWHkJVZXQFbhZ/AQP3D6jLmaCq3t4B+ZRLBWGj\n",
       "P1DVHwjnFlTVygZ2kBuYFiBUrX/AwP0XzOY6AFU1j4H1AkgVA6qqfxALGSCq2KHO3DoTCBKgNj5g\n",
       "YIaYdQqqihXqZTcks4Cu5wC7nusCVJX/BWjoIaliS2DgAVvBLCgoH/gAqIr/AAMDyKe8F5BCNYCB\n",
       "XYHBAcxjhbgrgYEPHOcaSDE0g8F1A8snMI8/AezHd2cgwemY7ABX5f5WmoFhJojPnv/xAkoM2WXC\n",
       "YggCOBwIpBxoWBGjypcoVRfwqnqJnu6nGgAATt9Vuq2q2tgAAAAASUVORK5CYII=\n",
       "\" style=\"display:inline;vertical-align:middle;\" /></a> <a class=\"ProveItLink\" href=\"../__pv_it/demonstrations/0224c182692754208673039e091990f5c97bf0ea0/proof.ipynb\" style=\"text-decoration: none\">&nbsp;&#x22A2;&nbsp;&nbsp;</a><a class=\"ProveItLink\" href=\"../__pv_it/demonstrations/a37cf08c867e9f59b8f44e788f02f691a14fe25a0/expr.ipynb\"><img src=\"data:image/png;base64,iVBORw0KGgoAAAANSUhEUgAAAEYAAAAUBAMAAADCRlZLAAAAMFBMVEX///9UVFQyMjK6urru7u4Q\n",
       "EBBERERmZmaqqqoiIiLc3NzMzMyYmJiIiIh2dnYAAABC1PP/AAAAAXRSTlMAQObYZgAAAAlwSFlz\n",
       "AAAOxAAADsQBlSsOGwAAASBJREFUKM9jYMAFthmAqXf3GHADlmcNQJLnAnMCHkUM1w4wMLBuYPiF\n",
       "Tw3DsQsM6x0YIjAlDoXla4YdgLCPLtjvwDAHi+6EhQyGxxxALL9kBqCaWGxq1jGwcQsAGculGUB2\n",
       "/cCuhn2BAgPDQqASdDdfmzlTAa4mgcGxCsThvcAsgFBidAVhDqOLAIMLhPfuOshpb+9sAJJcKkh2\n",
       "bWtagGL9ygZ2UEgywUUTlmr+vILqxHkMrBdAapDcfMYJFF9pQADRyP4FIrN1JhAkQNSw+RxAMYYV\n",
       "GmVuSOZwF6SgqPG/AKE5kcOnehmKGn6gsQbggEBS48aLYhnQU3wgvzNowNUsZ+A5kIxi0LszEI86\n",
       "JjvA4j2LIU2/AWtqscuExAUGAAD9A1VPRCby3gAAAABJRU5ErkJggg==\n",
       "\" style=\"display:inline;vertical-align:middle;\" /></a></span>"
      ],
      "text/plain": [
       "{c in [0,4]} |- c in RealNonNeg"
      ]
     },
     "metadata": {},
     "output_type": "display_data"
    }
   ],
   "source": [
    "c_in_nonneg_interval.derive_element_in_restricted_number_set()"
   ]
  },
  {
   "cell_type": "code",
   "execution_count": 47,
   "metadata": {},
   "outputs": [
    {
     "data": {
      "text/html": [
       "<strong id=\"c_in_neg_interval\">c_in_neg_interval:</strong> <span style=\"font-size:20px;\"><a class=\"ProveItLink\" href=\"../__pv_it/demonstrations/86e2c00d244602f28a88797a129a26a2e0d3bc510/expr.ipynb\"><img src=\"data:image/png;base64,iVBORw0KGgoAAAANSUhEUgAAAGkAAAAVBAMAAAC3TN2zAAAAMFBMVEX///9UVFQyMjK6urru7u4Q\n",
       "EBBERERmZmaqqqoiIiLc3NzMzMyYmJiIiIh2dnYAAABC1PP/AAAAAXRSTlMAQObYZgAAAAlwSFlz\n",
       "AAAOxAAADsQBlSsOGwAAAUZJREFUOMtjYMAAN2cz4AW8MzdgEX2MYG5gYFmAqYDPAL+ueKWZDihy\n",
       "XOVqGwjqmvrzCarcMga+zwR1CaDLSTEwhKLo4s2cOYmgrngHBvkFSLqYdR2IsEuSgUF+A1jX2zug\n",
       "kFzkgMWFMvekMTwwH+zClQ3sCUCOFjZ/pTCsR/c591+wrnkMrBeAPAVsuhgY2Cag6eIUAOli/wIx\n",
       "InLmzJnToLpYNGeCAMjh7L/AYk5gAVCiKQPHMmsCWJglAYtdbAoM7L9RreIRAOvyvwDhTsCii3UC\n",
       "A+MHVF19DFygkOc/wMAA8vFdLLr4GEBOQU5T3A8YeB1A/kpg4AN5gKkBUxdXAcNVB5ZPSLpWlpdX\n",
       "gsPw3ZkrYI+JmWCG4fLCEgYG5AQ8////TygpivkZZooCAw4HEnMKzHdk6PIlS9cFonS9JFRuTDUA\n",
       "AGYOXL1lq6tWAAAAAElFTkSuQmCC\n",
       "\" style=\"display:inline;vertical-align:middle;\" /></a> <a class=\"ProveItLink\" href=\"../__pv_it/demonstrations/58deb8abf949b1c63b05b4046e89818bc1034bff0/proof.ipynb\" style=\"text-decoration: none\">&nbsp;&#x22A2;&nbsp;&nbsp;</a><a class=\"ProveItLink\" href=\"../__pv_it/demonstrations/86e2c00d244602f28a88797a129a26a2e0d3bc510/expr.ipynb\"><img src=\"data:image/png;base64,iVBORw0KGgoAAAANSUhEUgAAAGkAAAAVBAMAAAC3TN2zAAAAMFBMVEX///9UVFQyMjK6urru7u4Q\n",
       "EBBERERmZmaqqqoiIiLc3NzMzMyYmJiIiIh2dnYAAABC1PP/AAAAAXRSTlMAQObYZgAAAAlwSFlz\n",
       "AAAOxAAADsQBlSsOGwAAAUZJREFUOMtjYMAAN2cz4AW8MzdgEX2MYG5gYFmAqYDPAL+ueKWZDihy\n",
       "XOVqGwjqmvrzCarcMga+zwR1CaDLSTEwhKLo4s2cOYmgrngHBvkFSLqYdR2IsEuSgUF+A1jX2zug\n",
       "kFzkgMWFMvekMTwwH+zClQ3sCUCOFjZ/pTCsR/c591+wrnkMrBeAPAVsuhgY2Cag6eIUAOli/wIx\n",
       "InLmzJnToLpYNGeCAMjh7L/AYk5gAVCiKQPHMmsCWJglAYtdbAoM7L9RreIRAOvyvwDhTsCii3UC\n",
       "A+MHVF19DFygkOc/wMAA8vFdLLr4GEBOQU5T3A8YeB1A/kpg4AN5gKkBUxdXAcNVB5ZPSLpWlpdX\n",
       "gsPw3ZkrYI+JmWCG4fLCEgYG5AQ8////TygpivkZZooCAw4HEnMKzHdk6PIlS9cFonS9JFRuTDUA\n",
       "AGYOXL1lq6tWAAAAAElFTkSuQmCC\n",
       "\" style=\"display:inline;vertical-align:middle;\" /></a></span><br>"
      ],
      "text/plain": [
       "<IPython.core.display.HTML object>"
      ]
     },
     "metadata": {},
     "output_type": "display_data"
    }
   ],
   "source": [
    "c_in_neg_interval = InSet(c, IntervalCC(Neg(five), Neg(two)))\n",
    "c_in_neg_interval = c_in_neg_interval.prove(assumptions=[c_in_neg_interval])"
   ]
  },
  {
   "cell_type": "code",
   "execution_count": 48,
   "metadata": {},
   "outputs": [
    {
     "data": {
      "text/html": [
       "<span style=\"font-size:20px;\"> <a class=\"ProveItLink\" href=\"../__pv_it/demonstrations/1611417221d4b4a2b7eca51af753465641de264b0/proof.ipynb\" style=\"text-decoration: none\">&nbsp;&#x22A2;&nbsp;&nbsp;</a><a class=\"ProveItLink\" href=\"../__pv_it/demonstrations/d6715447858b3daab5e0ea2365f837bf1e15b3dc0/expr.ipynb\"><img src=\"data:image/png;base64,iVBORw0KGgoAAAANSUhEUgAAADAAAAARBAMAAABp3DInAAAAMFBMVEX///+qqqqYmJiIiIgiIiLu\n",
       "7u4QEBBUVFS6urp2dnbMzMxEREQyMjJmZmbc3NwAAADzFso2AAAAAXRSTlMAQObYZgAAAAlwSFlz\n",
       "AAAOxAAADsQBlSsOGwAAAMFJREFUGNNjYMACFjCwPmDgu3t6AbpE/hmXAIbXDJw/0CXcvkxlYKhj\n",
       "YEhDlygAawtgqH8AF5J5AJcoYWCoh1uichWhAwj8YeImUyF0kWUViOL6DOGyTjGAKtjK8L4BSLFA\n",
       "dPJdUUBYz+0AJG5D2DUCSO7i/cfAwFSALsF9gIH3FwODJAPfA1Sj2BwY2D8wcE1gYA5AtZwTKLeB\n",
       "4cndu1egKllNTCHOuMBgFsDg////H7idKhCPvL1+FT2UdB4wEAIAzqwxECGFgmcAAAAASUVORK5C\n",
       "YII=\n",
       "\" style=\"display:inline;vertical-align:middle;\" /></a></span>"
      ],
      "text/plain": [
       "|- 2 < 5"
      ]
     },
     "metadata": {},
     "output_type": "display_data"
    }
   ],
   "source": [
    "Less(two, five).conclude_from_similar_bound(Less(zero, one))"
   ]
  },
  {
   "cell_type": "code",
   "execution_count": 49,
   "metadata": {},
   "outputs": [
    {
     "data": {
      "text/html": [
       "<span style=\"font-size:20px;\"> <a class=\"ProveItLink\" href=\"../__pv_it/demonstrations/3cefbcf92b1732d3b3f8dd363575e2073fcff6e90/proof.ipynb\" style=\"text-decoration: none\">&nbsp;&#x22A2;&nbsp;&nbsp;</a><a class=\"ProveItLink\" href=\"../__pv_it/demonstrations/165de56625924b045f17d4e88122f8b99d6c8ff20/expr.ipynb\"><img src=\"data:image/png;base64,iVBORw0KGgoAAAANSUhEUgAAAG0AAAAVBAMAAAC+p33JAAAAMFBMVEX///8AAAAAAAAAAAAAAAAA\n",
       "AAAAAAAAAAAAAAAAAAAAAAAAAAAAAAAAAAAAAAAAAAAv3aB7AAAAD3RSTlMAInZUiRDNmWbv3US7\n",
       "qzJazP2FAAAACXBIWXMAAA7EAAAOxAGVKw4bAAABuUlEQVQ4y31UPUjDQBT+mqRN0j+CS6EUVHTQ\n",
       "rUMRdOriKASRTg4VUUQcOigVUchkF4cuDuJgqIJaoRY3t1Zwr5s42MwuVgcHBeslaXOXH7zh5b2X\n",
       "99197+cOgAJ2hRCwPE4LwWUd20BYiY0F4Cbc5p0pctQ+W6+rmPLD+Dw9ubxlgNOAcJH+v/6eByKq\n",
       "D1egagbCD7AGiBp1dkwhlXy4Xao+ASdABZDhweGYIbhifapMKiq6CmQVMz7chmNLlxZnnknlBega\n",
       "iGjYZnDPk69ELgxN7sJOVcy7WN8CQofZHXjEaBM4HFhLtYES0VhY8pMQKeLctVdcB2ZtNXU1dEaz\n",
       "bEiUZMNXcUpasVk3l2FS+gDerd+JVSdSJiQKVkiDWPvmmT0T5xxWhPgL3AfhaK3M4sWqLE9ZR6IH\n",
       "zP3LM4eQAl7HA3UJBNoCjrx1iTMjm8yDUyG1aNXJ7JUwTSrvdGaxZvdB6NCYdLm8Z3XmjeGQOtgh\n",
       "8obmYjcwqTPN6/e/CPMmoob3rjFRkj1nDe/ApgPGWNR8c10JGvS2x5fx37+44qFEqodlT1Dbjwu3\n",
       "AvYJuR8GTgl4J0bc5jjwB7rWXKVqxkC4AAAAAElFTkSuQmCC\n",
       "\" style=\"display:inline;vertical-align:middle;\" /></a></span>"
      ],
      "text/plain": [
       "|- (-5) < (-2)"
      ]
     },
     "metadata": {},
     "output_type": "display_data"
    }
   ],
   "source": [
    "Less(Neg(five), Neg(two)).conclude_from_similar_bound(Less(zero, one))"
   ]
  },
  {
   "cell_type": "code",
   "execution_count": 50,
   "metadata": {},
   "outputs": [
    {
     "data": {
      "text/plain": [
       "True"
      ]
     },
     "metadata": {},
     "output_type": "display_data"
    }
   ],
   "source": [
    "Less(Neg(five), Neg(two)).readily_provable()"
   ]
  },
  {
   "cell_type": "code",
   "execution_count": 51,
   "metadata": {},
   "outputs": [
    {
     "data": {
      "text/html": [
       "<span style=\"font-size:20px;\"> <a class=\"ProveItLink\" href=\"../__pv_it/demonstrations/d4d888c863547f1a758c39fd883ea46d313690b10/proof.ipynb\" style=\"text-decoration: none\">&nbsp;&#x22A2;&nbsp;&nbsp;</a><a class=\"ProveItLink\" href=\"../__pv_it/demonstrations/ec2384e2746883611ec0185f18437ea8a3ea4c860/expr.ipynb\"><img src=\"data:image/png;base64,iVBORw0KGgoAAAANSUhEUgAAAE8AAAAVBAMAAAD1D64kAAAAMFBMVEX////MzMxUVFRERES6uroi\n",
       "IiIQEBCYmJhmZmYyMjLu7u52dnaqqqqIiIjc3NwAAACW8nlqAAAAAXRSTlMAQObYZgAAAAlwSFlz\n",
       "AAAOxAAADsQBlSsOGwAAAU1JREFUKM+FkjFLA0EQRh+Hl5gjCWmsLPIXotaKla2HKAY0omBlFRQF\n",
       "Ky0T0tiIjYQDSxGClha5RkEsEmwUq4CNlWgnCp67yXm7t3o4sMvs8HZn5tsBeuiWJ8lyfuw41E0C\n",
       "b5X7XB+D+9/I5YPI6hyorCXa02Q8k8v4zgoMV6OA1SO1SnrfBLfhAlIqkPrA+oINFck25T4OHY8b\n",
       "FbZcrDc4igLpcr+Mdyj6NGJZ7Fc4j/RY6nOOBKvafWlFIc5u6J9Wwh4/+/HlGDgn1nWo1SIa2GJd\n",
       "vH24IK0gJCjJVwcFH/9cdgQ425Wgsk25zRigbKbjx1JnW7zAlZGaCdjzmNTAUXiELaMZdqCuiSGq\n",
       "LtdqLkqws8rgN23fWYMRTcQgCMTPzyvBQyEbd6JRu2D8bN5Vfrqp+eYMaFMStynj/JQ0uCf/XFQ1\n",
       "xWc/1/sb+wYXw01FT2lc9QAAAABJRU5ErkJggg==\n",
       "\" style=\"display:inline;vertical-align:middle;\" /></a></span>"
      ],
      "text/plain": [
       "|- (-2) < 0"
      ]
     },
     "metadata": {},
     "output_type": "display_data"
    }
   ],
   "source": [
    "Less(Neg(two), zero).prove()"
   ]
  },
  {
   "cell_type": "code",
   "execution_count": 52,
   "metadata": {},
   "outputs": [
    {
     "data": {
      "text/html": [
       "<span style=\"font-size:20px;\"> <a class=\"ProveItLink\" href=\"../__pv_it/demonstrations/3cefbcf92b1732d3b3f8dd363575e2073fcff6e90/proof.ipynb\" style=\"text-decoration: none\">&nbsp;&#x22A2;&nbsp;&nbsp;</a><a class=\"ProveItLink\" href=\"../__pv_it/demonstrations/165de56625924b045f17d4e88122f8b99d6c8ff20/expr.ipynb\"><img src=\"data:image/png;base64,iVBORw0KGgoAAAANSUhEUgAAAG0AAAAVBAMAAAC+p33JAAAAMFBMVEX///8AAAAAAAAAAAAAAAAA\n",
       "AAAAAAAAAAAAAAAAAAAAAAAAAAAAAAAAAAAAAAAAAAAv3aB7AAAAD3RSTlMAInZUiRDNmWbv3US7\n",
       "qzJazP2FAAAACXBIWXMAAA7EAAAOxAGVKw4bAAABuUlEQVQ4y31UPUjDQBT+mqRN0j+CS6EUVHTQ\n",
       "rUMRdOriKASRTg4VUUQcOigVUchkF4cuDuJgqIJaoRY3t1Zwr5s42MwuVgcHBeslaXOXH7zh5b2X\n",
       "99197+cOgAJ2hRCwPE4LwWUd20BYiY0F4Cbc5p0pctQ+W6+rmPLD+Dw9ubxlgNOAcJH+v/6eByKq\n",
       "D1egagbCD7AGiBp1dkwhlXy4Xao+ASdABZDhweGYIbhifapMKiq6CmQVMz7chmNLlxZnnknlBega\n",
       "iGjYZnDPk69ELgxN7sJOVcy7WN8CQofZHXjEaBM4HFhLtYES0VhY8pMQKeLctVdcB2ZtNXU1dEaz\n",
       "bEiUZMNXcUpasVk3l2FS+gDerd+JVSdSJiQKVkiDWPvmmT0T5xxWhPgL3AfhaK3M4sWqLE9ZR6IH\n",
       "zP3LM4eQAl7HA3UJBNoCjrx1iTMjm8yDUyG1aNXJ7JUwTSrvdGaxZvdB6NCYdLm8Z3XmjeGQOtgh\n",
       "8obmYjcwqTPN6/e/CPMmoob3rjFRkj1nDe/ApgPGWNR8c10JGvS2x5fx37+44qFEqodlT1Dbjwu3\n",
       "AvYJuR8GTgl4J0bc5jjwB7rWXKVqxkC4AAAAAElFTkSuQmCC\n",
       "\" style=\"display:inline;vertical-align:middle;\" /></a></span>"
      ],
      "text/plain": [
       "|- (-5) < (-2)"
      ]
     },
     "metadata": {},
     "output_type": "display_data"
    }
   ],
   "source": [
    "Less(Neg(five), Neg(two)).prove()"
   ]
  },
  {
   "cell_type": "code",
   "execution_count": 53,
   "metadata": {},
   "outputs": [
    {
     "data": {
      "text/html": [
       "<span style=\"font-size:20px;\"><a class=\"ProveItLink\" href=\"../__pv_it/demonstrations/86e2c00d244602f28a88797a129a26a2e0d3bc510/expr.ipynb\"><img src=\"data:image/png;base64,iVBORw0KGgoAAAANSUhEUgAAAGkAAAAVBAMAAAC3TN2zAAAAMFBMVEX///9UVFQyMjK6urru7u4Q\n",
       "EBBERERmZmaqqqoiIiLc3NzMzMyYmJiIiIh2dnYAAABC1PP/AAAAAXRSTlMAQObYZgAAAAlwSFlz\n",
       "AAAOxAAADsQBlSsOGwAAAUZJREFUOMtjYMAAN2cz4AW8MzdgEX2MYG5gYFmAqYDPAL+ueKWZDihy\n",
       "XOVqGwjqmvrzCarcMga+zwR1CaDLSTEwhKLo4s2cOYmgrngHBvkFSLqYdR2IsEuSgUF+A1jX2zug\n",
       "kFzkgMWFMvekMTwwH+zClQ3sCUCOFjZ/pTCsR/c591+wrnkMrBeAPAVsuhgY2Cag6eIUAOli/wIx\n",
       "InLmzJnToLpYNGeCAMjh7L/AYk5gAVCiKQPHMmsCWJglAYtdbAoM7L9RreIRAOvyvwDhTsCii3UC\n",
       "A+MHVF19DFygkOc/wMAA8vFdLLr4GEBOQU5T3A8YeB1A/kpg4AN5gKkBUxdXAcNVB5ZPSLpWlpdX\n",
       "gsPw3ZkrYI+JmWCG4fLCEgYG5AQ8////TygpivkZZooCAw4HEnMKzHdk6PIlS9cFonS9JFRuTDUA\n",
       "AGYOXL1lq6tWAAAAAElFTkSuQmCC\n",
       "\" style=\"display:inline;vertical-align:middle;\" /></a> <a class=\"ProveItLink\" href=\"../__pv_it/demonstrations/58deb8abf949b1c63b05b4046e89818bc1034bff0/proof.ipynb\" style=\"text-decoration: none\">&nbsp;&#x22A2;&nbsp;&nbsp;</a><a class=\"ProveItLink\" href=\"../__pv_it/demonstrations/86e2c00d244602f28a88797a129a26a2e0d3bc510/expr.ipynb\"><img src=\"data:image/png;base64,iVBORw0KGgoAAAANSUhEUgAAAGkAAAAVBAMAAAC3TN2zAAAAMFBMVEX///9UVFQyMjK6urru7u4Q\n",
       "EBBERERmZmaqqqoiIiLc3NzMzMyYmJiIiIh2dnYAAABC1PP/AAAAAXRSTlMAQObYZgAAAAlwSFlz\n",
       "AAAOxAAADsQBlSsOGwAAAUZJREFUOMtjYMAAN2cz4AW8MzdgEX2MYG5gYFmAqYDPAL+ueKWZDihy\n",
       "XOVqGwjqmvrzCarcMga+zwR1CaDLSTEwhKLo4s2cOYmgrngHBvkFSLqYdR2IsEuSgUF+A1jX2zug\n",
       "kFzkgMWFMvekMTwwH+zClQ3sCUCOFjZ/pTCsR/c591+wrnkMrBeAPAVsuhgY2Cag6eIUAOli/wIx\n",
       "InLmzJnToLpYNGeCAMjh7L/AYk5gAVCiKQPHMmsCWJglAYtdbAoM7L9RreIRAOvyvwDhTsCii3UC\n",
       "A+MHVF19DFygkOc/wMAA8vFdLLr4GEBOQU5T3A8YeB1A/kpg4AN5gKkBUxdXAcNVB5ZPSLpWlpdX\n",
       "gsPw3ZkrYI+JmWCG4fLCEgYG5AQ8////TygpivkZZooCAw4HEnMKzHdk6PIlS9cFonS9JFRuTDUA\n",
       "AGYOXL1lq6tWAAAAAElFTkSuQmCC\n",
       "\" style=\"display:inline;vertical-align:middle;\" /></a></span>"
      ],
      "text/plain": [
       "{c in [-5,-2]} |- c in [-5,-2]"
      ]
     },
     "metadata": {},
     "output_type": "display_data"
    }
   ],
   "source": [
    "c_in_neg_interval"
   ]
  },
  {
   "cell_type": "code",
   "execution_count": 54,
   "metadata": {},
   "outputs": [
    {
     "data": {
      "text/html": [
       "<span style=\"font-size:20px;\"><a class=\"ProveItLink\" href=\"../__pv_it/demonstrations/86e2c00d244602f28a88797a129a26a2e0d3bc510/expr.ipynb\"><img src=\"data:image/png;base64,iVBORw0KGgoAAAANSUhEUgAAAGkAAAAVBAMAAAC3TN2zAAAAMFBMVEX///9UVFQyMjK6urru7u4Q\n",
       "EBBERERmZmaqqqoiIiLc3NzMzMyYmJiIiIh2dnYAAABC1PP/AAAAAXRSTlMAQObYZgAAAAlwSFlz\n",
       "AAAOxAAADsQBlSsOGwAAAUZJREFUOMtjYMAAN2cz4AW8MzdgEX2MYG5gYFmAqYDPAL+ueKWZDihy\n",
       "XOVqGwjqmvrzCarcMga+zwR1CaDLSTEwhKLo4s2cOYmgrngHBvkFSLqYdR2IsEuSgUF+A1jX2zug\n",
       "kFzkgMWFMvekMTwwH+zClQ3sCUCOFjZ/pTCsR/c591+wrnkMrBeAPAVsuhgY2Cag6eIUAOli/wIx\n",
       "InLmzJnToLpYNGeCAMjh7L/AYk5gAVCiKQPHMmsCWJglAYtdbAoM7L9RreIRAOvyvwDhTsCii3UC\n",
       "A+MHVF19DFygkOc/wMAA8vFdLLr4GEBOQU5T3A8YeB1A/kpg4AN5gKkBUxdXAcNVB5ZPSLpWlpdX\n",
       "gsPw3ZkrYI+JmWCG4fLCEgYG5AQ8////TygpivkZZooCAw4HEnMKzHdk6PIlS9cFonS9JFRuTDUA\n",
       "AGYOXL1lq6tWAAAAAElFTkSuQmCC\n",
       "\" style=\"display:inline;vertical-align:middle;\" /></a> <a class=\"ProveItLink\" href=\"../__pv_it/demonstrations/cb1d7e762899d6d2b72078f211dfc78f0ee2cfb40/proof.ipynb\" style=\"text-decoration: none\">&nbsp;&#x22A2;&nbsp;&nbsp;</a><a class=\"ProveItLink\" href=\"../__pv_it/demonstrations/3a5864012bc06b5affa8fc3fef0dd7cdd4557b640/expr.ipynb\"><img src=\"data:image/png;base64,iVBORw0KGgoAAAANSUhEUgAAAD0AAAAQBAMAAABXfmoyAAAAMFBMVEX///9UVFQyMjK6urru7u4Q\n",
       "EBBERERmZmaqqqoiIiLc3NzMzMyYmJiIiIh2dnYAAABC1PP/AAAAAXRSTlMAQObYZgAAAAlwSFlz\n",
       "AAAOxAAADsQBlSsOGwAAAMVJREFUGNNjYEAHh8LyNcMOMOAGCQsZDI854JFfx8DGLcCwLQ0IFmCX\n",
       "Z1+ggCl+beZMBbh8Aoa00RWEfkYXAYTE2zsbgCSXCpL525oQFq9sYAcZxgQXSViq+fMKQvs8BtYL\n",
       "IHkk951xQkizf4HQW2cCQQJEns0HET6sUJe6IennLkiB8/wvQGhOZP9XL4Pz+IFGGQBp3gtI8m68\n",
       "cAuAjucD+Y9BAy6/nIHnQDLcgHdnIJ5xTHaAxV8WQ5p+A0YA2mXOxAx1ABnCO709cgEtAAAAAElF\n",
       "TkSuQmCC\n",
       "\" style=\"display:inline;vertical-align:middle;\" /></a></span>"
      ],
      "text/plain": [
       "{c in [-5,-2]} |- c in RealNeg"
      ]
     },
     "metadata": {},
     "output_type": "display_data"
    }
   ],
   "source": [
    "c_in_neg_interval.derive_element_in_restricted_number_set()"
   ]
  },
  {
   "cell_type": "code",
   "execution_count": 55,
   "metadata": {},
   "outputs": [
    {
     "data": {
      "text/html": [
       "<strong id=\"c_in_nonpos_interval\">c_in_nonpos_interval:</strong> <span style=\"font-size:20px;\"><a class=\"ProveItLink\" href=\"../__pv_it/demonstrations/43cb96c497a4e5b547195ac49db559913c5eff130/expr.ipynb\"><img src=\"data:image/png;base64,iVBORw0KGgoAAAANSUhEUgAAAFoAAAAVBAMAAAA0iOSIAAAAMFBMVEX///9UVFQyMjK6urru7u4Q\n",
       "EBBERERmZmaqqqoiIiLc3NzMzMyYmJiIiIh2dnYAAABC1PP/AAAAAXRSTlMAQObYZgAAAAlwSFlz\n",
       "AAAOxAAADsQBlSsOGwAAATpJREFUKM9jYMAAN2czYAdYJR4jmBsYWBZgl8EmFq800wHC4ntbRVD1\n",
       "1J9PoCwNBs8FhFQLwBg8Exj4EpBleDNnTsKpmk2AgeMLkgyzrgMes/kLGLh/gGXe3tkAJBc5YHGJ\n",
       "zD1pCMMfqPoPSGZlA3sCkK+Fzd0pDOsNwIz1Dxi4/4Jk5jGwXgDyFbCHKtsEuOp/QBn2L2Aud+TM\n",
       "mTOnQVWzaM4EAZAD2X9BXPKAgRlkNmsCmMuSgMVsNgUG9t8wX3KAfOl/ASIzAYtq1gkMjB8g+hIY\n",
       "eEAhyH+AgQHkk7tYVPMxgKwGBRZPAAO7AsjdCQx8IAcyNWCq5ipguOrA8gnEnMHgugEk8+7MFbDD\n",
       "xUwww2R5YQkDAzhhub+VRpFhfoYZ82DA4UBkioW5ngTVviSpvoBX9Uuc+TIYAPHJaxK69R07AAAA\n",
       "AElFTkSuQmCC\n",
       "\" style=\"display:inline;vertical-align:middle;\" /></a> <a class=\"ProveItLink\" href=\"../__pv_it/demonstrations/f68e04fd6fe2dab8fc6aac9815e10db67c18c96c0/proof.ipynb\" style=\"text-decoration: none\">&nbsp;&#x22A2;&nbsp;&nbsp;</a><a class=\"ProveItLink\" href=\"../__pv_it/demonstrations/43cb96c497a4e5b547195ac49db559913c5eff130/expr.ipynb\"><img src=\"data:image/png;base64,iVBORw0KGgoAAAANSUhEUgAAAFoAAAAVBAMAAAA0iOSIAAAAMFBMVEX///9UVFQyMjK6urru7u4Q\n",
       "EBBERERmZmaqqqoiIiLc3NzMzMyYmJiIiIh2dnYAAABC1PP/AAAAAXRSTlMAQObYZgAAAAlwSFlz\n",
       "AAAOxAAADsQBlSsOGwAAATpJREFUKM9jYMAAN2czYAdYJR4jmBsYWBZgl8EmFq800wHC4ntbRVD1\n",
       "1J9PoCwNBs8FhFQLwBg8Exj4EpBleDNnTsKpmk2AgeMLkgyzrgMes/kLGLh/gGXe3tkAJBc5YHGJ\n",
       "zD1pCMMfqPoPSGZlA3sCkK+Fzd0pDOsNwIz1Dxi4/4Jk5jGwXgDyFbCHKtsEuOp/QBn2L2Aud+TM\n",
       "mTOnQVWzaM4EAZAD2X9BXPKAgRlkNmsCmMuSgMVsNgUG9t8wX3KAfOl/ASIzAYtq1gkMjB8g+hIY\n",
       "eEAhyH+AgQHkk7tYVPMxgKwGBRZPAAO7AsjdCQx8IAcyNWCq5ipguOrA8gnEnMHgugEk8+7MFbDD\n",
       "xUwww2R5YQkDAzhhub+VRpFhfoYZ82DA4UBkioW5ngTVviSpvoBX9Uuc+TIYAPHJaxK69R07AAAA\n",
       "AElFTkSuQmCC\n",
       "\" style=\"display:inline;vertical-align:middle;\" /></a></span><br>"
      ],
      "text/plain": [
       "<IPython.core.display.HTML object>"
      ]
     },
     "metadata": {},
     "output_type": "display_data"
    }
   ],
   "source": [
    "c_in_nonpos_interval = InSet(c, IntervalCC(Neg(five), zero))\n",
    "c_in_nonpos_interval = c_in_nonpos_interval.prove(assumptions=[c_in_nonpos_interval])"
   ]
  },
  {
   "cell_type": "code",
   "execution_count": 56,
   "metadata": {},
   "outputs": [
    {
     "data": {
      "text/html": [
       "<span style=\"font-size:20px;\"> <a class=\"ProveItLink\" href=\"../__pv_it/demonstrations/8d8ad5bf2020f43a18ba8af68d95b3102931ccbe0/proof.ipynb\" style=\"text-decoration: none\">&nbsp;&#x22A2;&nbsp;&nbsp;</a><a class=\"ProveItLink\" href=\"../__pv_it/demonstrations/8546ba422401690bc9ef21ba3f6790521c962c1e0/expr.ipynb\"><img src=\"data:image/png;base64,iVBORw0KGgoAAAANSUhEUgAAAEgAAAAUBAMAAADcj2b4AAAAMFBMVEX///8QEBC6urrMzMxUVFRE\n",
       "RESYmJgiIiLu7u6qqqoyMjLc3NxmZmaIiIh2dnYAAABcDckaAAAAAXRSTlMAQObYZgAAAAlwSFlz\n",
       "AAAOxAAADsQBlSsOGwAAAUVJREFUKM9jYMALpm5geHePgYCaCwxsF5gC8KpJTWBgYDRg+I1PzdUJ\n",
       "QGJ/A4MkFrks0fjlokAzDEFqGOwbGMoYGPjenkZTFbCFQSW1gYEzrgGiSJaBYSVD+wY0RfsYWJkd\n",
       "GBiYQKqA1v1kYCtg4AvAUMSzYQGQweyzAeJwVgcGzh9gOd7w8iqEIrBGbpcG3gtMDgz8BxiYf4IE\n",
       "mNY2IExi6XAAM7kZGN7daWDoByr6BuLvakCyznQWijv3P2Bg/gtirEa4aePy7zcY0BX9AzEWIDk8\n",
       "rQtImYYCAcTA/gcMTCCTmMXLy8tLoYpY2xJQTAI6nBPkcI4AJJOYD0SgKGINYGADB0EBcjgd3oqi\n",
       "iE2AgQfsnLvIilp5Ue2rZGg0ANFcE+CK9jCwJQShKOp56wymOVw14KkgmiF0/QSsyYfpKTRaMAAA\n",
       "hS1ekKbDOyUAAAAASUVORK5CYII=\n",
       "\" style=\"display:inline;vertical-align:middle;\" /></a></span>"
      ],
      "text/plain": [
       "|- 0 in RealNonPos"
      ]
     },
     "metadata": {},
     "output_type": "display_data"
    }
   ],
   "source": [
    "zero.deduce_in_number_set(RealNonPos, conclude_automation=False)"
   ]
  },
  {
   "cell_type": "code",
   "execution_count": 57,
   "metadata": {},
   "outputs": [
    {
     "data": {
      "text/html": [
       "<span style=\"font-size:20px;\"><a class=\"ProveItLink\" href=\"../__pv_it/demonstrations/43cb96c497a4e5b547195ac49db559913c5eff130/expr.ipynb\"><img src=\"data:image/png;base64,iVBORw0KGgoAAAANSUhEUgAAAFoAAAAVBAMAAAA0iOSIAAAAMFBMVEX///9UVFQyMjK6urru7u4Q\n",
       "EBBERERmZmaqqqoiIiLc3NzMzMyYmJiIiIh2dnYAAABC1PP/AAAAAXRSTlMAQObYZgAAAAlwSFlz\n",
       "AAAOxAAADsQBlSsOGwAAATpJREFUKM9jYMAAN2czYAdYJR4jmBsYWBZgl8EmFq800wHC4ntbRVD1\n",
       "1J9PoCwNBs8FhFQLwBg8Exj4EpBleDNnTsKpmk2AgeMLkgyzrgMes/kLGLh/gGXe3tkAJBc5YHGJ\n",
       "zD1pCMMfqPoPSGZlA3sCkK+Fzd0pDOsNwIz1Dxi4/4Jk5jGwXgDyFbCHKtsEuOp/QBn2L2Aud+TM\n",
       "mTOnQVWzaM4EAZAD2X9BXPKAgRlkNmsCmMuSgMVsNgUG9t8wX3KAfOl/ASIzAYtq1gkMjB8g+hIY\n",
       "eEAhyH+AgQHkk7tYVPMxgKwGBRZPAAO7AsjdCQx8IAcyNWCq5ipguOrA8gnEnMHgugEk8+7MFbDD\n",
       "xUwww2R5YQkDAzhhub+VRpFhfoYZ82DA4UBkioW5ngTVviSpvoBX9Uuc+TIYAPHJaxK69R07AAAA\n",
       "AElFTkSuQmCC\n",
       "\" style=\"display:inline;vertical-align:middle;\" /></a> <a class=\"ProveItLink\" href=\"../__pv_it/demonstrations/6e8bdf612e01002c212e336037de660a6855a58f0/proof.ipynb\" style=\"text-decoration: none\">&nbsp;&#x22A2;&nbsp;&nbsp;</a><a class=\"ProveItLink\" href=\"../__pv_it/demonstrations/ec03e56f0f7f930694cae1c78293b29be1ff7f400/expr.ipynb\"><img src=\"data:image/png;base64,iVBORw0KGgoAAAANSUhEUgAAAEYAAAAUBAMAAADCRlZLAAAAMFBMVEX///9UVFQyMjK6urru7u4Q\n",
       "EBBERERmZmaqqqoiIiLc3NzMzMyYmJiIiIh2dnYAAABC1PP/AAAAAXRSTlMAQObYZgAAAAlwSFlz\n",
       "AAAOxAAADsQBlSsOGwAAARxJREFUKM9jYMAH2hYwvLvHgF/JBQaeC8wJ+JQcO8DAwLqB4RceJdca\n",
       "gMR6B4YITKlDYfmaYUATtoKUMOx3YJiDRX/CQgbDYw4MHHkOEDWx2NSsY2DjFmBgYAYpAtr1A7sa\n",
       "9gUKQAa3+AJ0N1+bOVMBrgbsYS5BB94LzAIIJUZXEOYwukAkuBgY3l0HOevtnQ0grgqSXduaFqBY\n",
       "v7KBHWQwE1w0YanmzyuoTpzHwHoBpAbJzWecgNS2NCCAaGT/ApHZOhMIEiBq2HwOoBjDCo0yNyRz\n",
       "uAtSUNT4X4DQnMjhU70MRQ0/0FgDIM17AUmNGy+KZUBP8YH8zqABV7OcgedAMopB785APOqY7ACL\n",
       "9yyGNP0GrOnFLhMSFxgAAF7wVFsLIIXvAAAAAElFTkSuQmCC\n",
       "\" style=\"display:inline;vertical-align:middle;\" /></a></span>"
      ],
      "text/plain": [
       "{c in [-5,0]} |- c in RealNonPos"
      ]
     },
     "metadata": {},
     "output_type": "display_data"
    }
   ],
   "source": [
    "c_in_nonpos_interval.derive_element_in_restricted_number_set()"
   ]
  },
  {
   "cell_type": "markdown",
   "metadata": {},
   "source": [
    "## Misc Testing <a id='further_demonstrations'></a>"
   ]
  },
  {
   "cell_type": "markdown",
   "metadata": {},
   "source": [
    "<font size=3>The material below was developed to test the various methods related to the real number NumberSet classes and the Interval classes. Some or all of this material could eventually be integrated into the `demonstrations` page and/or deleted as development continues.</font>"
   ]
  },
  {
   "cell_type": "markdown",
   "metadata": {},
   "source": [
    "### Testing the `derive_element_lower_bound()` and `deduce_element_upper_bound()` methods for Real sets"
   ]
  },
  {
   "cell_type": "code",
   "execution_count": 58,
   "metadata": {},
   "outputs": [
    {
     "data": {
      "text/html": [
       "<strong id=\"one_is__real_pos_implies_one_greater_zero\">one_is__real_pos_implies_one_greater_zero:</strong> <span style=\"font-size:20px;\"> <a class=\"ProveItLink\" href=\"../../../numerals/decimals/_theory_nbs_/proofs/less_0_1/thm_proof.ipynb\" style=\"text-decoration: none\">&nbsp;&#x22A2;&nbsp;&nbsp;</a><a class=\"ProveItLink\" href=\"../__pv_it/demonstrations/acc0fbd6c0abb998c8a888a87467e145bca850b00/expr.ipynb\"><img src=\"data:image/png;base64,iVBORw0KGgoAAAANSUhEUgAAADAAAAAQBAMAAACigOGCAAAAMFBMVEX///9ERES6urqqqqqYmJgQ\n",
       "EBDc3Nx2dnaIiIgyMjJmZmZUVFTu7u4iIiLMzMwAAAD4QZJGAAAAAXRSTlMAQObYZgAAAAlwSFlz\n",
       "AAAOxAAADsQBlSsOGwAAAKZJREFUGNNjYOC7w4AO2CuWMTCcXvkHQ2Iyw9kEBgYODAmWCwzsAnAJ\n",
       "nilwCcYNDMx/EDqO34BJ8C9g4PuMZBTH9QMQxnmgxBdkO1huQWTyCxj4fqBYzjwrASbxHdVVTLNB\n",
       "es4XMDD9QJOYeABiOfNnVKNmg41iFGBg+YNqeQKEDmDgmgAMmG/ozmW4zHD0AQP31p9bwLwTcA8y\n",
       "nKrYh7CX5woDcQAAKm44MGgG1xYAAAAASUVORK5CYII=\n",
       "\" style=\"display:inline;vertical-align:middle;\" /></a></span><br>"
      ],
      "text/plain": [
       "<IPython.core.display.HTML object>"
      ]
     },
     "metadata": {},
     "output_type": "display_data"
    }
   ],
   "source": [
    "one_is__real_pos_implies_one_greater_zero = InSet(one, RealPos).derive_element_lower_bound()"
   ]
  },
  {
   "cell_type": "code",
   "execution_count": 59,
   "metadata": {},
   "outputs": [
    {
     "data": {
      "text/html": [
       "<span style=\"font-size:20px;\"> <a class=\"ProveItLink\" href=\"../__pv_it/demonstrations/7660b103393de91ccffe9ba195cb093666857f6a0/proof.ipynb\" style=\"text-decoration: none\">&nbsp;&#x22A2;&nbsp;&nbsp;</a><a class=\"ProveItLink\" href=\"../__pv_it/demonstrations/accc164c00a206a73a5723720073ea769409383c0/expr.ipynb\"><img src=\"data:image/png;base64,iVBORw0KGgoAAAANSUhEUgAAAF0AAAAVBAMAAADWVP/xAAAAMFBMVEX////MzMxUVFRERES6uroi\n",
       "IiIQEBCYmJhmZmYyMjLu7u52dnaqqqqIiIjc3NwAAACW8nlqAAAAAXRSTlMAQObYZgAAAAlwSFlz\n",
       "AAAOxAAADsQBlSsOGwAAAWhJREFUKM9jYGB4wIAM+BgIAN4DKFyWC2jylcn2U5MLEPzTCOaLTkMG\n",
       "huvoBho8YnAqXgDjcU1AOMWAYb8DA+cCdPWvGZgZFRiEjYHgAQMHwiqmBwxsCQzsDZjqOR7ATWVD\n",
       "SLD9YmD6x8CQBeVeDg2dAFdvAFN0EqGeKYCB6SMDw3QIz/MWwnymVQowRd0odrN+YGDYBPHMLCT3\n",
       "CJ+EB/p0FPXywNCsBLM44SoMnk39eguuIgZFfRAQH4OoR/Jv+UqEihRgkE4NBQEBBgYOkLfkweJi\n",
       "ICEDiHrm5QXI6hGgCES4gZmLkcxnbLDC6h6eDQzvGBiOQnyOHP6Nj+E8WyT10gwMQI8VQ5LVBST1\n",
       "i3nhDtqElDQjOjoC4CE8B67+BQN7gQmMJ4oU+P///wfGaAiEt8hkASx92jEYz4elYlYBtOTCFwBl\n",
       "eJuGTsBM/hjJCykBYgV2aPzHBPLXYgL60QEfagbkfYBXNQD6Ulolr1bUSAAAAABJRU5ErkJggg==\n",
       "\" style=\"display:inline;vertical-align:middle;\" /></a></span>"
      ],
      "text/plain": [
       "|- (-2) in RealNeg"
      ]
     },
     "metadata": {},
     "output_type": "display_data"
    }
   ],
   "source": [
    "InSet(Neg(two), RealNeg).prove()"
   ]
  },
  {
   "cell_type": "code",
   "execution_count": 60,
   "metadata": {},
   "outputs": [
    {
     "data": {
      "text/html": [
       "<span style=\"font-size:20px;\"> <a class=\"ProveItLink\" href=\"../__pv_it/demonstrations/42f7da955286454eaecc4f29540daea56dab991b0/proof.ipynb\" style=\"text-decoration: none\">&nbsp;&#x22A2;&nbsp;&nbsp;</a><a class=\"ProveItLink\" href=\"../__pv_it/demonstrations/ec2384e2746883611ec0185f18437ea8a3ea4c860/expr.ipynb\"><img src=\"data:image/png;base64,iVBORw0KGgoAAAANSUhEUgAAAE8AAAAVBAMAAAD1D64kAAAAMFBMVEX////MzMxUVFRERES6uroi\n",
       "IiIQEBCYmJhmZmYyMjLu7u52dnaqqqqIiIjc3NwAAACW8nlqAAAAAXRSTlMAQObYZgAAAAlwSFlz\n",
       "AAAOxAAADsQBlSsOGwAAAU1JREFUKM+FkjFLA0EQRh+Hl5gjCWmsLPIXotaKla2HKAY0omBlFRQF\n",
       "Ky0T0tiIjYQDSxGClha5RkEsEmwUq4CNlWgnCp67yXm7t3o4sMvs8HZn5tsBeuiWJ8lyfuw41E0C\n",
       "b5X7XB+D+9/I5YPI6hyorCXa02Q8k8v4zgoMV6OA1SO1SnrfBLfhAlIqkPrA+oINFck25T4OHY8b\n",
       "FbZcrDc4igLpcr+Mdyj6NGJZ7Fc4j/RY6nOOBKvafWlFIc5u6J9Wwh4/+/HlGDgn1nWo1SIa2GJd\n",
       "vH24IK0gJCjJVwcFH/9cdgQ425Wgsk25zRigbKbjx1JnW7zAlZGaCdjzmNTAUXiELaMZdqCuiSGq\n",
       "LtdqLkqws8rgN23fWYMRTcQgCMTPzyvBQyEbd6JRu2D8bN5Vfrqp+eYMaFMStynj/JQ0uCf/XFQ1\n",
       "xWc/1/sb+wYXw01FT2lc9QAAAABJRU5ErkJggg==\n",
       "\" style=\"display:inline;vertical-align:middle;\" /></a></span>"
      ],
      "text/plain": [
       "|- (-2) < 0"
      ]
     },
     "metadata": {},
     "output_type": "display_data"
    }
   ],
   "source": [
    "InSet(Neg(two), RealNeg).derive_element_upper_bound()"
   ]
  },
  {
   "cell_type": "code",
   "execution_count": 61,
   "metadata": {},
   "outputs": [
    {
     "data": {
      "text/html": [
       "<span style=\"font-size:20px;\"> <a class=\"ProveItLink\" href=\"../__pv_it/demonstrations/1598922ffacc0ede894c447991099244cbb0cafc0/proof.ipynb\" style=\"text-decoration: none\">&nbsp;&#x22A2;&nbsp;&nbsp;</a><a class=\"ProveItLink\" href=\"../__pv_it/demonstrations/63e0939a7df5061957bffa582a5bb3d3453502bd0/expr.ipynb\"><img src=\"data:image/png;base64,iVBORw0KGgoAAAANSUhEUgAAADAAAAARBAMAAABp3DInAAAAMFBMVEX///+qqqqYmJiIiIgiIiLu\n",
       "7u4QEBBUVFS6urp2dnbMzMxEREQyMjJmZmbc3NwAAADzFso2AAAAAXRSTlMAQObYZgAAAAlwSFlz\n",
       "AAAOxAAADsQBlSsOGwAAAMZJREFUGNNj4Lt7egEDGuCcfI+B4TUD5w8Qh/UQQuIgQ8gDhjoGhjQw\n",
       "L9IZJs7kwMC5gSE/gKH+AZjP7BkAkeAuYGD8ylDCwFAPtYQJKsN/gYHrI4jhDzOD8SxYbzxQ4hOQ\n",
       "5voMt5XjOEjP+wkQMZYChMRpmMRPIH0bLs54HGLUBAYOoA4muAYmX7jljEDLJRn40J27gYHpKwPX\n",
       "BAbmADQPJjDwHmB4cvfuFfQgcWQIW8Dg////H/RAjJ1cxUABYHUBA3jcAACRlzm8UCDy7QAAAABJ\n",
       "RU5ErkJggg==\n",
       "\" style=\"display:inline;vertical-align:middle;\" /></a></span>"
      ],
      "text/plain": [
       "|- 2 >= 0"
      ]
     },
     "metadata": {},
     "output_type": "display_data"
    }
   ],
   "source": [
    "InSet(two, RealNonNeg).derive_element_lower_bound()"
   ]
  },
  {
   "cell_type": "markdown",
   "metadata": {},
   "source": [
    "### Testing the `derive_element_lower_bound()` and `deduce_element_upper_bound()` methods for real intervals"
   ]
  },
  {
   "cell_type": "code",
   "execution_count": 62,
   "metadata": {},
   "outputs": [
    {
     "data": {
      "text/html": [
       "<span style=\"font-size:20px;\"> <a class=\"ProveItLink\" href=\"../../../numerals/decimals/_theory_nbs_/proofs/less_1_2/thm_proof.ipynb\" style=\"text-decoration: none\">&nbsp;&#x22A2;&nbsp;&nbsp;</a><a class=\"ProveItLink\" href=\"../../../numerals/decimals/__pv_it/theorems/87469a9c68ae71903426a57864d5192167a8a75c0/expr.ipynb\"><img src=\"data:image/png;base64,iVBORw0KGgoAAAANSUhEUgAAADAAAAAQBAMAAACigOGCAAAAMFBMVEX///+6urpERESqqqqYmJgQ\n",
       "EBDc3Nx2dnaIiIgyMjJmZmZUVFTu7u4iIiLMzMwAAAA9XO4HAAAAAXRSTlMAQObYZgAAAAlwSFlz\n",
       "AAAOxAAADsQBlSsOGwAAAJdJREFUGNNjYOC7w4AOslbqMTCcXvkHXZxNgaFegIGBA0OCO4GBNQBN\n",
       "wjIBSLD+YeD+hirhuwas4wID9z8Uid4aGIv3A5IET20DXMn7BoQE21oHhJm3GRASOw0Q4lwKOCS8\n",
       "GRiwGsVcwJCG1fLnDAw9DAzs32AKeXp7IHpvrVoF9MrWn1sQHgR7hPf///8T0ILJM4GBEAAA65ov\n",
       "K89YlvsAAAAASUVORK5CYII=\n",
       "\" style=\"display:inline;vertical-align:middle;\" /></a></span>"
      ],
      "text/plain": [
       "|- 1 < 2"
      ]
     },
     "metadata": {},
     "output_type": "display_data"
    }
   ],
   "source": [
    "# Element in an Open Interval (1,3)\n",
    "InSet(two, IntervalOO(one, three)).derive_element_lower_bound()"
   ]
  },
  {
   "cell_type": "markdown",
   "metadata": {},
   "source": [
    "*alternate way*"
   ]
  },
  {
   "cell_type": "code",
   "execution_count": 63,
   "metadata": {},
   "outputs": [
    {
     "data": {
      "text/html": [
       "<span style=\"font-size:20px;\"> <a class=\"ProveItLink\" href=\"../../../numerals/decimals/_theory_nbs_/proofs/less_1_2/thm_proof.ipynb\" style=\"text-decoration: none\">&nbsp;&#x22A2;&nbsp;&nbsp;</a><a class=\"ProveItLink\" href=\"../../../numerals/decimals/__pv_it/theorems/87469a9c68ae71903426a57864d5192167a8a75c0/expr.ipynb\"><img src=\"data:image/png;base64,iVBORw0KGgoAAAANSUhEUgAAADAAAAAQBAMAAACigOGCAAAAMFBMVEX///+6urpERESqqqqYmJgQ\n",
       "EBDc3Nx2dnaIiIgyMjJmZmZUVFTu7u4iIiLMzMwAAAA9XO4HAAAAAXRSTlMAQObYZgAAAAlwSFlz\n",
       "AAAOxAAADsQBlSsOGwAAAJdJREFUGNNjYOC7w4AOslbqMTCcXvkHXZxNgaFegIGBA0OCO4GBNQBN\n",
       "wjIBSLD+YeD+hirhuwas4wID9z8Uid4aGIv3A5IET20DXMn7BoQE21oHhJm3GRASOw0Q4lwKOCS8\n",
       "GRiwGsVcwJCG1fLnDAw9DAzs32AKeXp7IHpvrVoF9MrWn1sQHgR7hPf///8T0ILJM4GBEAAA65ov\n",
       "K89YlvsAAAAASUVORK5CYII=\n",
       "\" style=\"display:inline;vertical-align:middle;\" /></a></span>"
      ],
      "text/plain": [
       "|- 1 < 2"
      ]
     },
     "metadata": {},
     "output_type": "display_data"
    }
   ],
   "source": [
    "IntervalOO(one, three).deduce_member_lower_bound(two)"
   ]
  },
  {
   "cell_type": "code",
   "execution_count": 64,
   "metadata": {},
   "outputs": [
    {
     "data": {
      "text/html": [
       "<span style=\"font-size:20px;\"> <a class=\"ProveItLink\" href=\"../../../numerals/decimals/_theory_nbs_/proofs/less_2_3/thm_proof.ipynb\" style=\"text-decoration: none\">&nbsp;&#x22A2;&nbsp;&nbsp;</a><a class=\"ProveItLink\" href=\"../../../numerals/decimals/__pv_it/theorems/4eb25ee0d01c5a59bf2f328bbfe21b879d55e9ff0/expr.ipynb\"><img src=\"data:image/png;base64,iVBORw0KGgoAAAANSUhEUgAAADAAAAAQBAMAAACigOGCAAAAMFBMVEX///+qqqqYmJiIiIgiIiLu\n",
       "7u4QEBBUVFS6urp2dnbMzMxEREQyMjJmZmbc3NwAAADzFso2AAAAAXRSTlMAQObYZgAAAAlwSFlz\n",
       "AAAOxAAADsQBlSsOGwAAAL9JREFUGNNj4Lt7egEDGng5dwcDw2sGzh9o4qwXGOQFGOoYGNLQJJg/\n",
       "MsQfYMgPYKh/ABeTATE5Mhj4DzCUMDDUwy1RuQplyCuASH+YuMlUKIPDCURyfYbaOcUAKs5lXgWi\n",
       "WArAPL4rCgj7ga5iYLgNYdcIIDmM7SsDA1MBugTXAgbujwwMkgx8D1CN4v8KkuCawMAcgGo5WwHI\n",
       "qCd3716BBYWJKZhmUgD5w////z9wO1UgHum9uwM9XHUeMBACALqtLs8e2gIpAAAAAElFTkSuQmCC\n",
       "\" style=\"display:inline;vertical-align:middle;\" /></a></span>"
      ],
      "text/plain": [
       "|- 2 < 3"
      ]
     },
     "metadata": {},
     "output_type": "display_data"
    }
   ],
   "source": [
    "# Element in an Open Interval (1,3)\n",
    "InSet(two, IntervalOO(one, three)).derive_element_upper_bound()"
   ]
  },
  {
   "cell_type": "code",
   "execution_count": 65,
   "metadata": {},
   "outputs": [
    {
     "data": {
      "text/html": [
       "<span style=\"font-size:20px;\"><a class=\"ProveItLink\" href=\"../__pv_it/demonstrations/018bc9673594119622bb35b0e90cb46087f56c5a0/expr.ipynb\"><img src=\"data:image/png;base64,iVBORw0KGgoAAAANSUhEUgAAAE4AAAAVBAMAAAAazcUaAAAAMFBMVEX///9UVFQyMjK6urru7u4Q\n",
       "EBBERERmZmaqqqoiIiLc3NzMzMyYmJiIiIh2dnYAAABC1PP/AAAAAXRSTlMAQObYZgAAAAlwSFlz\n",
       "AAAOxAAADsQBlSsOGwAAAVhJREFUKM9jYMACuAjwYeAGGp/5AlZlHA8YGLinQDnrniczMNzBqs6J\n",
       "gcGx6AuEzVLA0N/AwOSATV0NEPNC1fH+YPBXYOApQJK+NnOmApgRgKSOOZiBHygaglBmdAXmPAUk\n",
       "dUDQf4CBQQdIv72zAeR3FZg4+wMUdcxzgMRDBoaVDewJQBbTApgE0wFkddwXpYHkIQaGeQysoOBh\n",
       "gtvD2YBmL5DfysAOFdg6EwhABjOwGqCqYwUy9zOwJkB4bghxZHXcGxjYfjAwmDL4Q+OEE7u9/F/A\n",
       "6joZ+IGuBhsAj0O2C1B1LCDDBcD2HmMAepYPFC4MGjB1fAIg4hcDKCIYeA6Aw6+OgeHdGUgAOyZD\n",
       "I5F7AgMDo+gnGQZOUFowLwemA4bJSPFmlwmNt9kwkRZ4ApyALR0chzEewKPoADZ1bNCoYYF7bRnW\n",
       "9McCDVJeuEgW9nS/Fo3Pu4ABAHVXUkPm5c9BAAAAAElFTkSuQmCC\n",
       "\" style=\"display:inline;vertical-align:middle;\" /></a> <a class=\"ProveItLink\" href=\"../__pv_it/demonstrations/a5572d80812090b00c16486ac214898e98db0e900/proof.ipynb\" style=\"text-decoration: none\">&nbsp;&#x22A2;&nbsp;&nbsp;</a><a class=\"ProveItLink\" href=\"../__pv_it/demonstrations/b7b7f412624baa5897ef59a111b53950a7904f6b0/expr.ipynb\"><img src=\"data:image/png;base64,iVBORw0KGgoAAAANSUhEUgAAAC8AAAAQBAMAAAB0JTvnAAAAMFBMVEX///9UVFQyMjK6urru7u4Q\n",
       "EBBERERmZmaqqqoiIiLc3NzMzMyYmJiIiIh2dnYAAABC1PP/AAAAAXRSTlMAQObYZgAAAAlwSFlz\n",
       "AAAOxAAADsQBlSsOGwAAAJ9JREFUGNNjYMAEXO/KDBiwAXcGjh9YJe43sHxCE+LQApGmBgxoEjzT\n",
       "HaAK/oDIt3c2QLi886DiDJYHgMTKBvYEMM9vLkznXkGQ0nkMrBdAvOVzkOwCuor9C4TNqIFsW7wD\n",
       "A2sChsRuBob8Bgb/C1Auwqj/DiAJfqADDFAtDwQbBXQSH9S5vnMhzj0D8ce7M1fgHoR4hLkcIxB5\n",
       "tBgIAgBPtykJnZsYrAAAAABJRU5ErkJggg==\n",
       "\" style=\"display:inline;vertical-align:middle;\" /></a></span>"
      ],
      "text/plain": [
       "{c in (1,3)} |- c < 3"
      ]
     },
     "metadata": {},
     "output_type": "display_data"
    }
   ],
   "source": [
    "# Variable Element in an Open Interval (1,3)\n",
    "InSet(c, IntervalOO(one, three)).derive_element_upper_bound(\n",
    "    assumptions=[InSet(c, IntervalOO(one, three))])"
   ]
  },
  {
   "cell_type": "code",
   "execution_count": 66,
   "metadata": {},
   "outputs": [
    {
     "data": {
      "text/html": [
       "<span style=\"font-size:20px;\"> <a class=\"ProveItLink\" href=\"../../../numerals/decimals/_theory_nbs_/proofs/less_1_2/thm_proof.ipynb\" style=\"text-decoration: none\">&nbsp;&#x22A2;&nbsp;&nbsp;</a><a class=\"ProveItLink\" href=\"../../../numerals/decimals/__pv_it/theorems/87469a9c68ae71903426a57864d5192167a8a75c0/expr.ipynb\"><img src=\"data:image/png;base64,iVBORw0KGgoAAAANSUhEUgAAADAAAAAQBAMAAACigOGCAAAAMFBMVEX///+6urpERESqqqqYmJgQ\n",
       "EBDc3Nx2dnaIiIgyMjJmZmZUVFTu7u4iIiLMzMwAAAA9XO4HAAAAAXRSTlMAQObYZgAAAAlwSFlz\n",
       "AAAOxAAADsQBlSsOGwAAAJdJREFUGNNjYOC7w4AOslbqMTCcXvkHXZxNgaFegIGBA0OCO4GBNQBN\n",
       "wjIBSLD+YeD+hirhuwas4wID9z8Uid4aGIv3A5IET20DXMn7BoQE21oHhJm3GRASOw0Q4lwKOCS8\n",
       "GRiwGsVcwJCG1fLnDAw9DAzs32AKeXp7IHpvrVoF9MrWn1sQHgR7hPf///8T0ILJM4GBEAAA65ov\n",
       "K89YlvsAAAAASUVORK5CYII=\n",
       "\" style=\"display:inline;vertical-align:middle;\" /></a></span>"
      ],
      "text/plain": [
       "|- 1 < 2"
      ]
     },
     "metadata": {},
     "output_type": "display_data"
    }
   ],
   "source": [
    "# Element in a Half-Open Interval (1,3]\n",
    "InSet(two, IntervalOC(one, three)).derive_element_lower_bound()"
   ]
  },
  {
   "cell_type": "code",
   "execution_count": 67,
   "metadata": {},
   "outputs": [
    {
     "data": {
      "text/html": [
       "<span style=\"font-size:20px;\"> <a class=\"ProveItLink\" href=\"../__pv_it/demonstrations/69eb006ea84773a84dccce1bc4f643e7ed68cd5b0/proof.ipynb\" style=\"text-decoration: none\">&nbsp;&#x22A2;&nbsp;&nbsp;</a><a class=\"ProveItLink\" href=\"../__pv_it/demonstrations/e33f190811d95ad6bc48127485be48468026ccab0/expr.ipynb\"><img src=\"data:image/png;base64,iVBORw0KGgoAAAANSUhEUgAAADAAAAARBAMAAABp3DInAAAAMFBMVEX///+qqqqYmJiIiIgiIiLu\n",
       "7u4QEBBUVFS6urp2dnbMzMxEREQyMjJmZmbc3NwAAADzFso2AAAAAXRSTlMAQObYZgAAAAlwSFlz\n",
       "AAAOxAAADsQBlSsOGwAAAMRJREFUGNNj4Lt7egEDGng5dwcDw2sGzh8IIZkHQIL1AoO8AEMdA0Ma\n",
       "XFzlKohk/sgQf4AhP4Ch/gFU3GQqmOLIYOA/wFDCwFAPsYR1igFcq7wCiPSHiF9RgItzOIFIrs9g\n",
       "8RoBuDiXeRWIYikA85AkGECuYmC4DWHzIRnFwPaVgYGpAMqBW861gIH7IwODJAMfmnP5v4IkuCYw\n",
       "MAegepCtAGTUk7t3ryAFCchLTAogf/j///8HPRB77+5goACwuoABPG4AfAgxU7+HpmgAAAAASUVO\n",
       "RK5CYII=\n",
       "\" style=\"display:inline;vertical-align:middle;\" /></a></span>"
      ],
      "text/plain": [
       "|- 2 <= 3"
      ]
     },
     "metadata": {},
     "output_type": "display_data"
    }
   ],
   "source": [
    "# Element in a Half-Open Interval (1,3]\n",
    "InSet(two, IntervalOC(one, three)).derive_element_upper_bound()"
   ]
  },
  {
   "cell_type": "code",
   "execution_count": 68,
   "metadata": {},
   "outputs": [
    {
     "data": {
      "text/html": [
       "<span style=\"font-size:20px;\"> <a class=\"ProveItLink\" href=\"../__pv_it/demonstrations/9cd84cd1135b6612d0cb736aae721abd2ef8b2d10/proof.ipynb\" style=\"text-decoration: none\">&nbsp;&#x22A2;&nbsp;&nbsp;</a><a class=\"ProveItLink\" href=\"../__pv_it/demonstrations/baa7634a324cf37e0e97d7bbd13c23b557b260220/expr.ipynb\"><img src=\"data:image/png;base64,iVBORw0KGgoAAAANSUhEUgAAADAAAAARBAMAAABp3DInAAAAMFBMVEX///+6urpERESqqqqYmJgQ\n",
       "EBDc3Nx2dnaIiIgyMjJmZmZUVFTu7u4iIiLMzMwAAAA9XO4HAAAAAXRSTlMAQObYZgAAAAlwSFlz\n",
       "AAAOxAAADsQBlSsOGwAAAKJJREFUGNNjYOC7w4AOslbqMTCcXvkHScgyAUiwKTDUCzAwcCBJ+K4B\n",
       "kdwJDKwBKBK9NWCK9Q8D9zckCZ7aBgiD+wID9z+EBM9aB4SZvB/gEjw7DZAc8b4BoQNF4jYDQoIN\n",
       "ySguBQZsljMweDMwYHMuA3MBQxo2DzI8Z2DoYWBg/4YcJA9Att1atQrola0/t6CFIe////8nMJAP\n",
       "eO6CwQMYHwBAXDXbfTCJQgAAAABJRU5ErkJggg==\n",
       "\" style=\"display:inline;vertical-align:middle;\" /></a></span>"
      ],
      "text/plain": [
       "|- 1 <= 2"
      ]
     },
     "metadata": {},
     "output_type": "display_data"
    }
   ],
   "source": [
    "# Element in a Half-Open Interval [1,3)\n",
    "InSet(two, IntervalCO(one, three)).derive_element_lower_bound()"
   ]
  },
  {
   "cell_type": "code",
   "execution_count": 69,
   "metadata": {},
   "outputs": [
    {
     "data": {
      "text/html": [
       "<span style=\"font-size:20px;\"> <a class=\"ProveItLink\" href=\"../../../numerals/decimals/_theory_nbs_/proofs/less_2_3/thm_proof.ipynb\" style=\"text-decoration: none\">&nbsp;&#x22A2;&nbsp;&nbsp;</a><a class=\"ProveItLink\" href=\"../../../numerals/decimals/__pv_it/theorems/4eb25ee0d01c5a59bf2f328bbfe21b879d55e9ff0/expr.ipynb\"><img src=\"data:image/png;base64,iVBORw0KGgoAAAANSUhEUgAAADAAAAAQBAMAAACigOGCAAAAMFBMVEX///+qqqqYmJiIiIgiIiLu\n",
       "7u4QEBBUVFS6urp2dnbMzMxEREQyMjJmZmbc3NwAAADzFso2AAAAAXRSTlMAQObYZgAAAAlwSFlz\n",
       "AAAOxAAADsQBlSsOGwAAAL9JREFUGNNj4Lt7egEDGng5dwcDw2sGzh9o4qwXGOQFGOoYGNLQJJg/\n",
       "MsQfYMgPYKh/ABeTATE5Mhj4DzCUMDDUwy1RuQplyCuASH+YuMlUKIPDCURyfYbaOcUAKs5lXgWi\n",
       "WArAPL4rCgj7ga5iYLgNYdcIIDmM7SsDA1MBugTXAgbujwwMkgx8D1CN4v8KkuCawMAcgGo5WwHI\n",
       "qCd3716BBYWJKZhmUgD5w////z9wO1UgHum9uwM9XHUeMBACALqtLs8e2gIpAAAAAElFTkSuQmCC\n",
       "\" style=\"display:inline;vertical-align:middle;\" /></a></span>"
      ],
      "text/plain": [
       "|- 2 < 3"
      ]
     },
     "metadata": {},
     "output_type": "display_data"
    }
   ],
   "source": [
    "# Element in a Half-Open Interval [1,3)\n",
    "InSet(two, IntervalCO(one, three)).derive_element_upper_bound()"
   ]
  },
  {
   "cell_type": "code",
   "execution_count": 70,
   "metadata": {},
   "outputs": [
    {
     "data": {
      "text/html": [
       "<span style=\"font-size:20px;\"> <a class=\"ProveItLink\" href=\"../__pv_it/demonstrations/9cd84cd1135b6612d0cb736aae721abd2ef8b2d10/proof.ipynb\" style=\"text-decoration: none\">&nbsp;&#x22A2;&nbsp;&nbsp;</a><a class=\"ProveItLink\" href=\"../__pv_it/demonstrations/baa7634a324cf37e0e97d7bbd13c23b557b260220/expr.ipynb\"><img src=\"data:image/png;base64,iVBORw0KGgoAAAANSUhEUgAAADAAAAARBAMAAABp3DInAAAAMFBMVEX///+6urpERESqqqqYmJgQ\n",
       "EBDc3Nx2dnaIiIgyMjJmZmZUVFTu7u4iIiLMzMwAAAA9XO4HAAAAAXRSTlMAQObYZgAAAAlwSFlz\n",
       "AAAOxAAADsQBlSsOGwAAAKJJREFUGNNjYOC7w4AOslbqMTCcXvkHScgyAUiwKTDUCzAwcCBJ+K4B\n",
       "kdwJDKwBKBK9NWCK9Q8D9zckCZ7aBgiD+wID9z+EBM9aB4SZvB/gEjw7DZAc8b4BoQNF4jYDQoIN\n",
       "ySguBQZsljMweDMwYHMuA3MBQxo2DzI8Z2DoYWBg/4YcJA9Att1atQrola0/t6CFIe////8nMJAP\n",
       "eO6CwQMYHwBAXDXbfTCJQgAAAABJRU5ErkJggg==\n",
       "\" style=\"display:inline;vertical-align:middle;\" /></a></span>"
      ],
      "text/plain": [
       "|- 1 <= 2"
      ]
     },
     "metadata": {},
     "output_type": "display_data"
    }
   ],
   "source": [
    "# Element in a Closed Interval [1,3]\n",
    "InSet(two, IntervalCC(one, three)).derive_element_lower_bound()"
   ]
  },
  {
   "cell_type": "code",
   "execution_count": 71,
   "metadata": {},
   "outputs": [
    {
     "data": {
      "text/html": [
       "<span style=\"font-size:20px;\"> <a class=\"ProveItLink\" href=\"../__pv_it/demonstrations/69eb006ea84773a84dccce1bc4f643e7ed68cd5b0/proof.ipynb\" style=\"text-decoration: none\">&nbsp;&#x22A2;&nbsp;&nbsp;</a><a class=\"ProveItLink\" href=\"../__pv_it/demonstrations/e33f190811d95ad6bc48127485be48468026ccab0/expr.ipynb\"><img src=\"data:image/png;base64,iVBORw0KGgoAAAANSUhEUgAAADAAAAARBAMAAABp3DInAAAAMFBMVEX///+qqqqYmJiIiIgiIiLu\n",
       "7u4QEBBUVFS6urp2dnbMzMxEREQyMjJmZmbc3NwAAADzFso2AAAAAXRSTlMAQObYZgAAAAlwSFlz\n",
       "AAAOxAAADsQBlSsOGwAAAMRJREFUGNNj4Lt7egEDGng5dwcDw2sGzh8IIZkHQIL1AoO8AEMdA0Ma\n",
       "XFzlKohk/sgQf4AhP4Ch/gFU3GQqmOLIYOA/wFDCwFAPsYR1igFcq7wCiPSHiF9RgItzOIFIrs9g\n",
       "8RoBuDiXeRWIYikA85AkGECuYmC4DWHzIRnFwPaVgYGpAMqBW861gIH7IwODJAMfmnP5v4IkuCYw\n",
       "MAegepCtAGTUk7t3ryAFCchLTAogf/j///8HPRB77+5goACwuoABPG4AfAgxU7+HpmgAAAAASUVO\n",
       "RK5CYII=\n",
       "\" style=\"display:inline;vertical-align:middle;\" /></a></span>"
      ],
      "text/plain": [
       "|- 2 <= 3"
      ]
     },
     "metadata": {},
     "output_type": "display_data"
    }
   ],
   "source": [
    "# Element in a Closed Interval [1,3]\n",
    "InSet(two, IntervalCC(one, three)).derive_element_upper_bound()"
   ]
  },
  {
   "cell_type": "markdown",
   "metadata": {},
   "source": [
    "### Testing the `Interval.deduce_member_in_real()` methods"
   ]
  },
  {
   "cell_type": "code",
   "execution_count": 72,
   "metadata": {},
   "outputs": [
    {
     "data": {
      "text/html": [
       "<span style=\"font-size:20px;\"> <a class=\"ProveItLink\" href=\"../__pv_it/demonstrations/197978827ea8f6ebd5042f819b6b1120f6523f5f0/proof.ipynb\" style=\"text-decoration: none\">&nbsp;&#x22A2;&nbsp;&nbsp;</a><a class=\"ProveItLink\" href=\"../__pv_it/demonstrations/10675168af95ab4183d974a4da377566e33aab420/expr.ipynb\"><img src=\"data:image/png;base64,iVBORw0KGgoAAAANSUhEUgAAADIAAAAQBAMAAACmdTG/AAAAMFBMVEX///+qqqqYmJiIiIgiIiLu\n",
       "7u4QEBBUVFS6urp2dnbMzMxEREQyMjJmZmbc3NwAAADzFso2AAAAAXRSTlMAQObYZgAAAAlwSFlz\n",
       "AAAOxAAADsQBlSsOGwAAANlJREFUGNNjYEAHTMd2/3HbBGTw3T29AFWKm6+Ao2grA8NrBs4f6DIT\n",
       "GDYsZ2CoY2BIw5S5x8PAkB/AUP8ALGLt4nIALsPNwFDCwFAPtqjHFElPaTiY6Q8i+I4imca18RyI\n",
       "xfUZRPI8QMjk+DsHgFgsBWAZJBdMUgVbyHAbTC5zAYINUNO2KoH9DNbCEI3s6rXcINMkGfhAVrAg\n",
       "y/CuA+rmmsDADFLAbIAkw7rBiIHhyd27V8ACBxEyFxiUuBsY/P///wMWCN8RAAvr3w+493xECq/O\n",
       "LZDQgQIAelI+b+eBkVAAAAAASUVORK5CYII=\n",
       "\" style=\"display:inline;vertical-align:middle;\" /></a></span>"
      ],
      "text/plain": [
       "|- 2 in Real"
      ]
     },
     "metadata": {},
     "output_type": "display_data"
    }
   ],
   "source": [
    "# Element in an Open Interval (1,3)\n",
    "InSet(two, IntervalOO(one, three)).derive_element_in_real()"
   ]
  },
  {
   "cell_type": "markdown",
   "metadata": {},
   "source": [
    "*alternate way*"
   ]
  },
  {
   "cell_type": "code",
   "execution_count": 73,
   "metadata": {},
   "outputs": [
    {
     "data": {
      "text/html": [
       "<span style=\"font-size:20px;\"> <a class=\"ProveItLink\" href=\"../__pv_it/demonstrations/197978827ea8f6ebd5042f819b6b1120f6523f5f0/proof.ipynb\" style=\"text-decoration: none\">&nbsp;&#x22A2;&nbsp;&nbsp;</a><a class=\"ProveItLink\" href=\"../__pv_it/demonstrations/10675168af95ab4183d974a4da377566e33aab420/expr.ipynb\"><img src=\"data:image/png;base64,iVBORw0KGgoAAAANSUhEUgAAADIAAAAQBAMAAACmdTG/AAAAMFBMVEX///+qqqqYmJiIiIgiIiLu\n",
       "7u4QEBBUVFS6urp2dnbMzMxEREQyMjJmZmbc3NwAAADzFso2AAAAAXRSTlMAQObYZgAAAAlwSFlz\n",
       "AAAOxAAADsQBlSsOGwAAANlJREFUGNNjYEAHTMd2/3HbBGTw3T29AFWKm6+Ao2grA8NrBs4f6DIT\n",
       "GDYsZ2CoY2BIw5S5x8PAkB/AUP8ALGLt4nIALsPNwFDCwFAPtqjHFElPaTiY6Q8i+I4imca18RyI\n",
       "xfUZRPI8QMjk+DsHgFgsBWAZJBdMUgVbyHAbTC5zAYINUNO2KoH9DNbCEI3s6rXcINMkGfhAVrAg\n",
       "y/CuA+rmmsDADFLAbIAkw7rBiIHhyd27V8ACBxEyFxiUuBsY/P///wMWCN8RAAvr3w+493xECq/O\n",
       "LZDQgQIAelI+b+eBkVAAAAAASUVORK5CYII=\n",
       "\" style=\"display:inline;vertical-align:middle;\" /></a></span>"
      ],
      "text/plain": [
       "|- 2 in Real"
      ]
     },
     "metadata": {},
     "output_type": "display_data"
    }
   ],
   "source": [
    "IntervalOO(one, three).deduce_member_in_real(two)"
   ]
  },
  {
   "cell_type": "code",
   "execution_count": 74,
   "metadata": {},
   "outputs": [
    {
     "data": {
      "text/html": [
       "<span style=\"font-size:20px;\"><a class=\"ProveItLink\" href=\"../__pv_it/demonstrations/018bc9673594119622bb35b0e90cb46087f56c5a0/expr.ipynb\"><img src=\"data:image/png;base64,iVBORw0KGgoAAAANSUhEUgAAAE4AAAAVBAMAAAAazcUaAAAAMFBMVEX///9UVFQyMjK6urru7u4Q\n",
       "EBBERERmZmaqqqoiIiLc3NzMzMyYmJiIiIh2dnYAAABC1PP/AAAAAXRSTlMAQObYZgAAAAlwSFlz\n",
       "AAAOxAAADsQBlSsOGwAAAVhJREFUKM9jYMACuAjwYeAGGp/5AlZlHA8YGLinQDnrniczMNzBqs6J\n",
       "gcGx6AuEzVLA0N/AwOSATV0NEPNC1fH+YPBXYOApQJK+NnOmApgRgKSOOZiBHygaglBmdAXmPAUk\n",
       "dUDQf4CBQQdIv72zAeR3FZg4+wMUdcxzgMRDBoaVDewJQBbTApgE0wFkddwXpYHkIQaGeQysoOBh\n",
       "gtvD2YBmL5DfysAOFdg6EwhABjOwGqCqYwUy9zOwJkB4bghxZHXcGxjYfjAwmDL4Q+OEE7u9/F/A\n",
       "6joZ+IGuBhsAj0O2C1B1LCDDBcD2HmMAepYPFC4MGjB1fAIg4hcDKCIYeA6Aw6+OgeHdGUgAOyZD\n",
       "I5F7AgMDo+gnGQZOUFowLwemA4bJSPFmlwmNt9kwkRZ4ApyALR0chzEewKPoADZ1bNCoYYF7bRnW\n",
       "9McCDVJeuEgW9nS/Fo3Pu4ABAHVXUkPm5c9BAAAAAElFTkSuQmCC\n",
       "\" style=\"display:inline;vertical-align:middle;\" /></a> <a class=\"ProveItLink\" href=\"../__pv_it/demonstrations/31f5a55f4fa87125e05e8aec2d17f937aca46f800/proof.ipynb\" style=\"text-decoration: none\">&nbsp;&#x22A2;&nbsp;&nbsp;</a><a class=\"ProveItLink\" href=\"../__pv_it/demonstrations/6b14f8ae7bcb54d6d751f20bdcdccc0bf73b6c0a0/expr.ipynb\"><img src=\"data:image/png;base64,iVBORw0KGgoAAAANSUhEUgAAADEAAAAQBAMAAABNQoq8AAAAMFBMVEX///8AAAAAAAAAAAAAAAAA\n",
       "AAAAAAAAAAAAAAAAAAAAAAAAAAAAAAAAAAAAAAAAAAAv3aB7AAAAD3RSTlMAiXZmMiLdVJm77xBE\n",
       "zatgdeJyAAAACXBIWXMAAA7EAAAOxAGVKw4bAAAAvUlEQVQY02NgQAe2K+dfW2nAgA1MiGM4Z7kB\n",
       "q0wgAyfLAxwyHAEXkEU009IuwGUmIEmc1Ubo4dsNNk1I2QFIst5GMs2zNgDICCvgAGnlDYDLRF37\n",
       "BtafyMClAJJBcoHxXhDN8RvC90oDggkQGc7NIJ9yQV2xE0kPS8NsIL1fAcJnQ/ZPSySQ5gdqPACk\n",
       "mRSQZHYyAUWBDmMEuZrhOlwmgoHZYA6QIWgM8eK+ORtgYT2VYeb9AqRAODgtDTm0ALktNaaWdOV1\n",
       "AAAAAElFTkSuQmCC\n",
       "\" style=\"display:inline;vertical-align:middle;\" /></a></span>"
      ],
      "text/plain": [
       "{c in (1,3)} |- c in Real"
      ]
     },
     "metadata": {},
     "output_type": "display_data"
    }
   ],
   "source": [
    "# Variable Element in an Open Interval (1,3)\n",
    "InSet(c, IntervalOO(one, three)).derive_element_in_real(\n",
    "    assumptions=[InSet(c, IntervalOO(one, three))])"
   ]
  },
  {
   "cell_type": "code",
   "execution_count": 75,
   "metadata": {},
   "outputs": [
    {
     "data": {
      "text/html": [
       "<span style=\"font-size:20px;\"><a class=\"ProveItLink\" href=\"../__pv_it/demonstrations/8ab0d813787a6eb402293dc6c0666aec86e7dd7c0/expr.ipynb\"><img src=\"data:image/png;base64,iVBORw0KGgoAAAANSUhEUgAAAEwAAAAVBAMAAAAeOBUnAAAAMFBMVEX///+qqqqYmJiIiIgiIiLu\n",
       "7u4QEBBUVFS6urp2dnbMzMxEREQyMjJmZmbc3NwAAADzFso2AAAAAXRSTlMAQObYZgAAAAlwSFlz\n",
       "AAAOxAAADsQBlSsOGwAAAU5JREFUKM9jYMAC+ND4Jl7YVDEYogvMYOC7e3oBmiDjBAYGLlco5+Xc\n",
       "HSBlrxk4f6Api2FgCL/zFcJmvcAgLwBUVsfAkIam7BIQM0OVMX9kiD8AVJYfwFD/ACxi7eJyAMxI\n",
       "QFLGkcHAD1JWwsBQD3ZcjynMaQeQlAGBvAJQGRD4gwPhKEyYdwKKMg4nBrAyrs8gHs8DmDiPArIy\n",
       "LvMqiDKWArAk3BIWATRLBcDKboM5y1yAYAOIxdaAqoztK0gZE9gwhmiEMLIyrgUM3B9ByiQZ+EDO\n",
       "YsFuKf9XiDKuCQzMASBxA5gybgOoMlaQ0QUQS5/cvXsFLHsQpowT5ArOfwyg4GdgUoCEm////3/A\n",
       "suE7AqDOcWBgYC/7U8TAAor+3rs7IAECA51boJEFT12iiISEBejCGBPwKuOGRgirAV5lrBugiYgB\n",
       "rzKGx+h5IQMAfeBXcbx0MAwAAAAASUVORK5CYII=\n",
       "\" style=\"display:inline;vertical-align:middle;\" /></a> <a class=\"ProveItLink\" href=\"../__pv_it/demonstrations/479d2d79fcb3abe2d43a6558626b581e1ab897920/proof.ipynb\" style=\"text-decoration: none\">&nbsp;&#x22A2;&nbsp;&nbsp;</a><a class=\"ProveItLink\" href=\"../__pv_it/demonstrations/10675168af95ab4183d974a4da377566e33aab420/expr.ipynb\"><img src=\"data:image/png;base64,iVBORw0KGgoAAAANSUhEUgAAADIAAAAQBAMAAACmdTG/AAAAMFBMVEX///+qqqqYmJiIiIgiIiLu\n",
       "7u4QEBBUVFS6urp2dnbMzMxEREQyMjJmZmbc3NwAAADzFso2AAAAAXRSTlMAQObYZgAAAAlwSFlz\n",
       "AAAOxAAADsQBlSsOGwAAANlJREFUGNNjYEAHTMd2/3HbBGTw3T29AFWKm6+Ao2grA8NrBs4f6DIT\n",
       "GDYsZ2CoY2BIw5S5x8PAkB/AUP8ALGLt4nIALsPNwFDCwFAPtqjHFElPaTiY6Q8i+I4imca18RyI\n",
       "xfUZRPI8QMjk+DsHgFgsBWAZJBdMUgVbyHAbTC5zAYINUNO2KoH9DNbCEI3s6rXcINMkGfhAVrAg\n",
       "y/CuA+rmmsDADFLAbIAkw7rBiIHhyd27V8ACBxEyFxiUuBsY/P///wMWCN8RAAvr3w+493xECq/O\n",
       "LZDQgQIAelI+b+eBkVAAAAAASUVORK5CYII=\n",
       "\" style=\"display:inline;vertical-align:middle;\" /></a></span>"
      ],
      "text/plain": [
       "{2 in (1,3]} |- 2 in Real"
      ]
     },
     "metadata": {},
     "output_type": "display_data"
    }
   ],
   "source": [
    "# Element in an Half-Open Interval (1,3]\n",
    "InSet(two, IntervalOC(one, three)).derive_element_in_real(\n",
    "    assumptions=[InSet(two, IntervalOC(one, three))])"
   ]
  },
  {
   "cell_type": "code",
   "execution_count": 76,
   "metadata": {},
   "outputs": [
    {
     "data": {
      "text/html": [
       "<span style=\"font-size:20px;\"><a class=\"ProveItLink\" href=\"../__pv_it/demonstrations/5fed4f2b281f21a5945e303df20be759931274f50/expr.ipynb\"><img src=\"data:image/png;base64,iVBORw0KGgoAAAANSUhEUgAAAEwAAAAVBAMAAAAeOBUnAAAAMFBMVEX///9UVFQyMjK6urru7u4Q\n",
       "EBBERERmZmaqqqoiIiLc3NzMzMyYmJiIiIh2dnYAAABC1PP/AAAAAXRSTlMAQObYZgAAAAlwSFlz\n",
       "AAAOxAAADsQBlSsOGwAAAShJREFUKM9jYMACFqDxb87Gpoq3AV3kMTZlfUC80wHKWfc8GbsyFgUG\n",
       "FnF9qDKWAob+BqzK2A8AiftQZbw/GPwVkJXxZs6cBGawMiApYw5m4EdWxqwLc00TsjIg6D8AVvb2\n",
       "zgYguQguXoeqjHkO2AsrG9gTgDwtuG4dFGXcF6XByuYxsF4AchXgymagWwryKfsXiKbImTNnTgMz\n",
       "g9GUsX4BKmNNgIRPAlwYRRn3Bga2H0Bl/hcg/AnYLeX/AlHGDwxMAyD/LlxZLkwZSCWrAMRSoDf5\n",
       "QAHCBI/vhyDi/QIGlk9AmucANNzenbkCdpyYCVTZTiAWjFc8wDATZJx5OWrUMz+DRhbnBqgIhwO+\n",
       "hMRTAGXw4U9vWVDaF78yNyh9Ab8yrgvoeSEYAEY6WsGWbAeNAAAAAElFTkSuQmCC\n",
       "\" style=\"display:inline;vertical-align:middle;\" /></a> <a class=\"ProveItLink\" href=\"../__pv_it/demonstrations/908fc0da8254398e26abbeb233d4d6f7dca929e00/proof.ipynb\" style=\"text-decoration: none\">&nbsp;&#x22A2;&nbsp;&nbsp;</a><a class=\"ProveItLink\" href=\"../__pv_it/demonstrations/6b14f8ae7bcb54d6d751f20bdcdccc0bf73b6c0a0/expr.ipynb\"><img src=\"data:image/png;base64,iVBORw0KGgoAAAANSUhEUgAAADEAAAAQBAMAAABNQoq8AAAAMFBMVEX///8AAAAAAAAAAAAAAAAA\n",
       "AAAAAAAAAAAAAAAAAAAAAAAAAAAAAAAAAAAAAAAAAAAv3aB7AAAAD3RSTlMAiXZmMiLdVJm77xBE\n",
       "zatgdeJyAAAACXBIWXMAAA7EAAAOxAGVKw4bAAAAvUlEQVQY02NgQAe2K+dfW2nAgA1MiGM4Z7kB\n",
       "q0wgAyfLAxwyHAEXkEU009IuwGUmIEmc1Ubo4dsNNk1I2QFIst5GMs2zNgDICCvgAGnlDYDLRF37\n",
       "BtafyMClAJJBcoHxXhDN8RvC90oDggkQGc7NIJ9yQV2xE0kPS8NsIL1fAcJnQ/ZPSySQ5gdqPACk\n",
       "mRSQZHYyAUWBDmMEuZrhOlwmgoHZYA6QIWgM8eK+ORtgYT2VYeb9AqRAODgtDTm0ALktNaaWdOV1\n",
       "AAAAAElFTkSuQmCC\n",
       "\" style=\"display:inline;vertical-align:middle;\" /></a></span>"
      ],
      "text/plain": [
       "{c in (1,3]} |- c in Real"
      ]
     },
     "metadata": {},
     "output_type": "display_data"
    }
   ],
   "source": [
    "# Variable Element in an Half-Open Interval (1,3]\n",
    "InSet(c, IntervalOC(one, three)).derive_element_in_real(\n",
    "        assumptions=[InSet(c, IntervalOC(one, three))])"
   ]
  },
  {
   "cell_type": "code",
   "execution_count": 77,
   "metadata": {},
   "outputs": [
    {
     "data": {
      "text/html": [
       "<span style=\"font-size:20px;\"> <a class=\"ProveItLink\" href=\"../__pv_it/demonstrations/197978827ea8f6ebd5042f819b6b1120f6523f5f0/proof.ipynb\" style=\"text-decoration: none\">&nbsp;&#x22A2;&nbsp;&nbsp;</a><a class=\"ProveItLink\" href=\"../__pv_it/demonstrations/10675168af95ab4183d974a4da377566e33aab420/expr.ipynb\"><img src=\"data:image/png;base64,iVBORw0KGgoAAAANSUhEUgAAADIAAAAQBAMAAACmdTG/AAAAMFBMVEX///+qqqqYmJiIiIgiIiLu\n",
       "7u4QEBBUVFS6urp2dnbMzMxEREQyMjJmZmbc3NwAAADzFso2AAAAAXRSTlMAQObYZgAAAAlwSFlz\n",
       "AAAOxAAADsQBlSsOGwAAANlJREFUGNNjYEAHTMd2/3HbBGTw3T29AFWKm6+Ao2grA8NrBs4f6DIT\n",
       "GDYsZ2CoY2BIw5S5x8PAkB/AUP8ALGLt4nIALsPNwFDCwFAPtqjHFElPaTiY6Q8i+I4imca18RyI\n",
       "xfUZRPI8QMjk+DsHgFgsBWAZJBdMUgVbyHAbTC5zAYINUNO2KoH9DNbCEI3s6rXcINMkGfhAVrAg\n",
       "y/CuA+rmmsDADFLAbIAkw7rBiIHhyd27V8ACBxEyFxiUuBsY/P///wMWCN8RAAvr3w+493xECq/O\n",
       "LZDQgQIAelI+b+eBkVAAAAAASUVORK5CYII=\n",
       "\" style=\"display:inline;vertical-align:middle;\" /></a></span>"
      ],
      "text/plain": [
       "|- 2 in Real"
      ]
     },
     "metadata": {},
     "output_type": "display_data"
    }
   ],
   "source": [
    "# Element in an Half-Open Interval [1,3)\n",
    "InSet(two, IntervalCO(one, three)).derive_element_in_real()"
   ]
  },
  {
   "cell_type": "code",
   "execution_count": 78,
   "metadata": {},
   "outputs": [
    {
     "data": {
      "text/html": [
       "<span style=\"font-size:20px;\"><a class=\"ProveItLink\" href=\"../__pv_it/demonstrations/288898911f9afd132121ac6b2ec34f82aafbdac00/expr.ipynb\"><img src=\"data:image/png;base64,iVBORw0KGgoAAAANSUhEUgAAAEsAAAAVBAMAAAD85A5eAAAAMFBMVEX///9UVFQyMjK6urru7u4Q\n",
       "EBBERERmZmaqqqoiIiLc3NzMzMyYmJiIiIh2dnYAAABC1PP/AAAAAXRSTlMAQObYZgAAAAlwSFlz\n",
       "AAAOxAAADsQBlSsOGwAAATRJREFUKM9jYMAAN2ejCSxgwAYeowvY4lS20wHC5npXZsDAewC7MhZx\n",
       "fagydwaOHwwMKrhMuw9Vdr+B5RMDw3EkWd7MmZMwlJkaMACVsTrAVTHrOmAxjYGB4w8DAxPIcW/v\n",
       "bACSixwYsCqzBCrhE2BgWNnAngDkamF1G8NeQaAZPAoMDPMYWC8A+QrYlYF9yhHAwP4FzOOOnDlz\n",
       "5jQsyhjiHRi4PzCwJoA5LAlYTdvNwJDfwMAcwOB/ASIwAauy/w4gZRwTGPiBPjEACtzFUAZSGQi2\n",
       "lCeBAehNPlCAMDUgK3u/gAEU/AxnwOHG/oCB4d2ZK2DHiZkglAnGKx5gmAk0jrkcGPUMnAaIyGJ+\n",
       "hhRZ4KCA+3YlvvTGBxepwafMFybAlYBP2QWYABvWVP4SPS/cYmAAADx8XHPtNH/qAAAAAElFTkSu\n",
       "QmCC\n",
       "\" style=\"display:inline;vertical-align:middle;\" /></a> <a class=\"ProveItLink\" href=\"../__pv_it/demonstrations/819736eaccbd56efd5703786fa51e480f06024c70/proof.ipynb\" style=\"text-decoration: none\">&nbsp;&#x22A2;&nbsp;&nbsp;</a><a class=\"ProveItLink\" href=\"../__pv_it/demonstrations/6b14f8ae7bcb54d6d751f20bdcdccc0bf73b6c0a0/expr.ipynb\"><img src=\"data:image/png;base64,iVBORw0KGgoAAAANSUhEUgAAADEAAAAQBAMAAABNQoq8AAAAMFBMVEX///8AAAAAAAAAAAAAAAAA\n",
       "AAAAAAAAAAAAAAAAAAAAAAAAAAAAAAAAAAAAAAAAAAAv3aB7AAAAD3RSTlMAiXZmMiLdVJm77xBE\n",
       "zatgdeJyAAAACXBIWXMAAA7EAAAOxAGVKw4bAAAAvUlEQVQY02NgQAe2K+dfW2nAgA1MiGM4Z7kB\n",
       "q0wgAyfLAxwyHAEXkEU009IuwGUmIEmc1Ubo4dsNNk1I2QFIst5GMs2zNgDICCvgAGnlDYDLRF37\n",
       "BtafyMClAJJBcoHxXhDN8RvC90oDggkQGc7NIJ9yQV2xE0kPS8NsIL1fAcJnQ/ZPSySQ5gdqPACk\n",
       "mRSQZHYyAUWBDmMEuZrhOlwmgoHZYA6QIWgM8eK+ORtgYT2VYeb9AqRAODgtDTm0ALktNaaWdOV1\n",
       "AAAAAElFTkSuQmCC\n",
       "\" style=\"display:inline;vertical-align:middle;\" /></a></span>"
      ],
      "text/plain": [
       "{c in [1,3)} |- c in Real"
      ]
     },
     "metadata": {},
     "output_type": "display_data"
    }
   ],
   "source": [
    "# Variable Element in an Half-Open Interval [1,3)\n",
    "InSet(c, IntervalCO(one, three)).derive_element_in_real(\n",
    "    assumptions=[InSet(c, IntervalCO(one, three))])"
   ]
  },
  {
   "cell_type": "code",
   "execution_count": 79,
   "metadata": {},
   "outputs": [
    {
     "data": {
      "text/html": [
       "<span style=\"font-size:20px;\"> <a class=\"ProveItLink\" href=\"../__pv_it/demonstrations/197978827ea8f6ebd5042f819b6b1120f6523f5f0/proof.ipynb\" style=\"text-decoration: none\">&nbsp;&#x22A2;&nbsp;&nbsp;</a><a class=\"ProveItLink\" href=\"../__pv_it/demonstrations/10675168af95ab4183d974a4da377566e33aab420/expr.ipynb\"><img src=\"data:image/png;base64,iVBORw0KGgoAAAANSUhEUgAAADIAAAAQBAMAAACmdTG/AAAAMFBMVEX///+qqqqYmJiIiIgiIiLu\n",
       "7u4QEBBUVFS6urp2dnbMzMxEREQyMjJmZmbc3NwAAADzFso2AAAAAXRSTlMAQObYZgAAAAlwSFlz\n",
       "AAAOxAAADsQBlSsOGwAAANlJREFUGNNjYEAHTMd2/3HbBGTw3T29AFWKm6+Ao2grA8NrBs4f6DIT\n",
       "GDYsZ2CoY2BIw5S5x8PAkB/AUP8ALGLt4nIALsPNwFDCwFAPtqjHFElPaTiY6Q8i+I4imca18RyI\n",
       "xfUZRPI8QMjk+DsHgFgsBWAZJBdMUgVbyHAbTC5zAYINUNO2KoH9DNbCEI3s6rXcINMkGfhAVrAg\n",
       "y/CuA+rmmsDADFLAbIAkw7rBiIHhyd27V8ACBxEyFxiUuBsY/P///wMWCN8RAAvr3w+493xECq/O\n",
       "LZDQgQIAelI+b+eBkVAAAAAASUVORK5CYII=\n",
       "\" style=\"display:inline;vertical-align:middle;\" /></a></span>"
      ],
      "text/plain": [
       "|- 2 in Real"
      ]
     },
     "metadata": {},
     "output_type": "display_data"
    }
   ],
   "source": [
    "# Element in an Closed Interval [1,3)\n",
    "InSet(two, IntervalCC(one, three)).derive_element_in_real()"
   ]
  },
  {
   "cell_type": "code",
   "execution_count": 80,
   "metadata": {},
   "outputs": [
    {
     "data": {
      "text/html": [
       "<span style=\"font-size:20px;\"><a class=\"ProveItLink\" href=\"../__pv_it/demonstrations/dfaf87526893acdbaca446dbeb17f05529845aea0/expr.ipynb\"><img src=\"data:image/png;base64,iVBORw0KGgoAAAANSUhEUgAAAEkAAAAVBAMAAAD4Ed5jAAAAMFBMVEX///9UVFQyMjK6urru7u4Q\n",
       "EBBERERmZmaqqqoiIiLc3NzMzMyYmJiIiIh2dnYAAABC1PP/AAAAAXRSTlMAQObYZgAAAAlwSFlz\n",
       "AAAOxAAADsQBlSsOGwAAAPtJREFUKM9jYMAAN2ej8nlnbsBUxPAYXYDPAIeqnQ4QNte7MgNcqljE\n",
       "9aGq3Bk4fuA26z5U1f0Glk+oqq7NnKmArsrUgAFVldEVLGYxMHD8gah6ewfkUy4VBqyqLA+AVa1s\n",
       "YE8A8pgWYFW1V3ADWNU8BtYLIFUM2M2C+JH9C4S3dSYQJGCqYoh3AKpiTYBw3LCatZuBIb8BqMr/\n",
       "AoTPiVXVfweIKv4DDAwgn/JeQFcFUhgItRHoQT5wnGsgq3q/gAEY6AwMZ2Dh9e4MJDgdkx3gqgTj\n",
       "FQ8wzATymcvRY9suExFD4DBwIJRywJIMxKjyJUrVBbyqXqKn+6kGAMFSWND9xV/BAAAAAElFTkSu\n",
       "QmCC\n",
       "\" style=\"display:inline;vertical-align:middle;\" /></a> <a class=\"ProveItLink\" href=\"../__pv_it/demonstrations/06b7e4c8d37b958c64b8f2009bc2d87d97e810f40/proof.ipynb\" style=\"text-decoration: none\">&nbsp;&#x22A2;&nbsp;&nbsp;</a><a class=\"ProveItLink\" href=\"../__pv_it/demonstrations/6b14f8ae7bcb54d6d751f20bdcdccc0bf73b6c0a0/expr.ipynb\"><img src=\"data:image/png;base64,iVBORw0KGgoAAAANSUhEUgAAADEAAAAQBAMAAABNQoq8AAAAMFBMVEX///8AAAAAAAAAAAAAAAAA\n",
       "AAAAAAAAAAAAAAAAAAAAAAAAAAAAAAAAAAAAAAAAAAAv3aB7AAAAD3RSTlMAiXZmMiLdVJm77xBE\n",
       "zatgdeJyAAAACXBIWXMAAA7EAAAOxAGVKw4bAAAAvUlEQVQY02NgQAe2K+dfW2nAgA1MiGM4Z7kB\n",
       "q0wgAyfLAxwyHAEXkEU009IuwGUmIEmc1Ubo4dsNNk1I2QFIst5GMs2zNgDICCvgAGnlDYDLRF37\n",
       "BtafyMClAJJBcoHxXhDN8RvC90oDggkQGc7NIJ9yQV2xE0kPS8NsIL1fAcJnQ/ZPSySQ5gdqPACk\n",
       "mRSQZHYyAUWBDmMEuZrhOlwmgoHZYA6QIWgM8eK+ORtgYT2VYeb9AqRAODgtDTm0ALktNaaWdOV1\n",
       "AAAAAElFTkSuQmCC\n",
       "\" style=\"display:inline;vertical-align:middle;\" /></a></span>"
      ],
      "text/plain": [
       "{c in [1,3]} |- c in Real"
      ]
     },
     "metadata": {},
     "output_type": "display_data"
    }
   ],
   "source": [
    "# Variable Element in an Closed Interval [1,3)\n",
    "# (do this slightly differently this time just to show we can)\n",
    "InSet(c, IntervalCC(one, three)).prove(\n",
    "    assumptions=[InSet(c, IntervalCC(one, three))]).derive_element_in_real()"
   ]
  },
  {
   "cell_type": "markdown",
   "metadata": {},
   "source": [
    "### Testing the `Interval.deduce_elem_in_set()` methods"
   ]
  },
  {
   "cell_type": "code",
   "execution_count": 81,
   "metadata": {},
   "outputs": [
    {
     "data": {
      "text/html": [
       "<span style=\"font-size:20px;\"> <a class=\"ProveItLink\" href=\"../__pv_it/demonstrations/af4ed1d7f72f60dd059cf2fa89e9db77cc1d58eb0/proof.ipynb\" style=\"text-decoration: none\">&nbsp;&#x22A2;&nbsp;&nbsp;</a><a class=\"ProveItLink\" href=\"../__pv_it/demonstrations/4289088d859d5dc3e553df029760d190d17e55800/expr.ipynb\"><img src=\"data:image/png;base64,iVBORw0KGgoAAAANSUhEUgAAAE4AAAAVBAMAAAAazcUaAAAAMFBMVEX///+qqqqYmJiIiIgiIiLu\n",
       "7u4QEBBUVFS6urp2dnbMzMxEREQyMjJmZmbc3NwAAADzFso2AAAAAXRSTlMAQObYZgAAAAlwSFlz\n",
       "AAAOxAAADsQBlSsOGwAAAXNJREFUKM9jYMAC+AjwYcAQjc9hAFR79/QCNGHGCQwMXK5Qzsu5OxgY\n",
       "jBgYXjNw/kBTF8PAEH7nK4TNeoFBXoCBJ4ChjoEhDU3dJSBmhqpj/sgQf4CB6QJDfgBD/QOwkLWL\n",
       "ywEwIwFJHUcGAz9QNJWhhIGhHuzAHlOY8w4gqQMCeQUGhkMghj/Y70dh4rwTUNRxOAGJ6UDM9RnE\n",
       "5XkAk+BRQFbHZV4FJHWAmKUALAu3h0UAzV4gXwxI3wbzlrkAwQYQi60BVR0bkLmegYEJbBxDNEIc\n",
       "WR3XAgbujwwMbQwMkgx8IKexYLeX/ytYnQgD1wQG5gCQhAFMHbcBVB0ryPACsL3aDE/u3r0Clj4I\n",
       "U8cJcgjnPwZQRDAwKYDD7yaD////f8DS4TsCoE5yYGBgL/tTxMACSgu9d4HpgMEDKVo7t0DjzQsm\n",
       "IgpPgA7Ykp8ujDEBHkUK2NRxQ6OGFe6111iTM+sGaJqCi+zDnu4fo/GZHzAAAJF2VFF3o0SFAAAA\n",
       "AElFTkSuQmCC\n",
       "\" style=\"display:inline;vertical-align:middle;\" /></a></span>"
      ],
      "text/plain": [
       "|- 2 in (1,3)"
      ]
     },
     "metadata": {},
     "output_type": "display_data"
    }
   ],
   "source": [
    "# Element in an Open Interval (1,3)\n",
    "IntervalOO(one, three).deduce_elem_in_set(two)"
   ]
  },
  {
   "cell_type": "code",
   "execution_count": 82,
   "metadata": {},
   "outputs": [
    {
     "name": "stdout",
     "output_type": "stream",
     "text": [
      "Proof failure: Proof step failed:\n",
      "Attempting to instantiate |- forall_{a, b, x in Real | a < x < b} (x in (a,b)) with {a: 1, b: 3, x: 1}:\n",
      "Unsatisfied condition: 1 < 1 < 3. For debugging purposes, this is accessible via Instantiation.unsatisfied_condition with applicable assumptions in Instantiation.condition_assumptions.\n"
     ]
    }
   ],
   "source": [
    "# but this should NOT work for a discluded endpoint\n",
    "try:\n",
    "    IntervalOO(one, three).deduce_elem_in_set(one)\n",
    "except ProofFailure as e:\n",
    "    print(\"Proof failure: {}\".format(e))"
   ]
  },
  {
   "cell_type": "code",
   "execution_count": 83,
   "metadata": {},
   "outputs": [
    {
     "data": {
      "text/html": [
       "<span style=\"font-size:20px;\"> <a class=\"ProveItLink\" href=\"../__pv_it/demonstrations/f8eab1c3621dffb370bacb327975be21b9fff9670/proof.ipynb\" style=\"text-decoration: none\">&nbsp;&#x22A2;&nbsp;&nbsp;</a><a class=\"ProveItLink\" href=\"../__pv_it/demonstrations/ca7a7341a1fe2312227216eb58eaa36058e3efc30/expr.ipynb\"><img src=\"data:image/png;base64,iVBORw0KGgoAAAANSUhEUgAAAE0AAAAVBAMAAADx+n4ZAAAAMFBMVEX///9UVFTMzMwiIiKYmJgQ\n",
       "EBAyMjKIiIiqqqru7u66urpERERmZmZ2dnbc3NwAAABametFAAAAAXRSTlMAQObYZgAAAAlwSFlz\n",
       "AAAOxAAADsQBlSsOGwAAATxJREFUKM9jYMAGHqBy2Y0VsCpjb0AT4F3AwPD2zi50db1ArDwBxmM6\n",
       "AFLHeYChH007ZwIDp0w+XB2zAEgd+w+G+Qmo6ngcgEQ9XF0xWB1XFAM/RB37ZmMzMIOVAVkdkxtY\n",
       "HRD0g/QzcKXDZNpQ1PGyQdVxmYD5z+AWnUVRVwdVx1QoBObnwd2XgqyOz4ENbi/YvwjPWCCr42WA\n",
       "q2P9CXJusLGxsTVYKgpZnR9UHZMCA/cPUKBtgJuHrI6vAKqO/ydEHYMBVnu5BAXlAy8A1bEKQOxl\n",
       "KIer2w5TB1HKCjaPxQEafmzw2LsIIu4/YOD8BubybwD7Y80ZSDrglF4JVacMxILxiQ4MxiADefZ/\n",
       "LID4Fwq4bkPjjRmW2jgmIKUrTMByACbNgFcdwz4oPZ2AutlQuoCAOr4CtHxgugAAXDZPcvK5YKAA\n",
       "AAAASUVORK5CYII=\n",
       "\" style=\"display:inline;vertical-align:middle;\" /></a></span>"
      ],
      "text/plain": [
       "|- 3 in (1,4]"
      ]
     },
     "metadata": {},
     "output_type": "display_data"
    }
   ],
   "source": [
    "# Element in Half-Open Interval (1,4]\n",
    "IntervalOC(one, four).deduce_elem_in_set(three)"
   ]
  },
  {
   "cell_type": "code",
   "execution_count": 84,
   "metadata": {},
   "outputs": [
    {
     "data": {
      "text/html": [
       "<span style=\"font-size:20px;\"> <a class=\"ProveItLink\" href=\"../__pv_it/demonstrations/8887acc501f10adf111a3c4ca4a9658248a64d920/proof.ipynb\" style=\"text-decoration: none\">&nbsp;&#x22A2;&nbsp;&nbsp;</a><a class=\"ProveItLink\" href=\"../__pv_it/demonstrations/460fa96849509f64660b76816d156ee845f23cce0/expr.ipynb\"><img src=\"data:image/png;base64,iVBORw0KGgoAAAANSUhEUgAAAE0AAAAVBAMAAADx+n4ZAAAAMFBMVEX///+qqqru7u5EREQQEBC6\n",
       "urrc3Nx2dnYyMjKYmJiIiIhUVFQiIiJmZmbMzMwAAABQcPw9AAAAAXRSTlMAQObYZgAAAAlwSFlz\n",
       "AAAOxAAADsQBlSsOGwAAASxJREFUKM9jYMAGElC5XGceYFXGJYAmwB4AIt+iqxMH4jcKMB7fBai6\n",
       "02jKmBoYmPb2w9XxbICo40JXxzsBSKyHq1sDVfeyG+oqmzMnwAwWBmR1fDOg6gog6li7YDISKOrY\n",
       "OSDquBIg6jLgFl1HUbcMqi6TAaKuDe6+TmR1bBOg6gqg6hrg6g4iq2NngKjjTICo4/M5c+bMYbCU\n",
       "K7K6aVB1WQwQdUwGcPOQ1bEtgKqL3r37y3aQyAGs9rLu3r3fuwASH95gkVVwdVYwdRClLNDwY/gM\n",
       "5nLAI78aRNQnMDD9AHP5DSDqLv/fBXbg5iCoujdAvNu/ewLDGZCBvPa/F0DMgwLWYmi88cBSG6MC\n",
       "SrpCB5wXYNIMeNUxmEFpLQLqlKH0AgLq2Bag5YMjAQDQS1HSDU3JRAAAAABJRU5ErkJggg==\n",
       "\" style=\"display:inline;vertical-align:middle;\" /></a></span>"
      ],
      "text/plain": [
       "|- 4 in (1,4]"
      ]
     },
     "metadata": {},
     "output_type": "display_data"
    }
   ],
   "source": [
    "# this should also work for the included (right) endpoint as well\n",
    "IntervalOC(one, four).deduce_elem_in_set(four)"
   ]
  },
  {
   "cell_type": "code",
   "execution_count": 85,
   "metadata": {},
   "outputs": [
    {
     "name": "stdout",
     "output_type": "stream",
     "text": [
      "Proof failure: Proof step failed:\n",
      "Attempting to instantiate |- forall_{a, b, x in Real | a < x <= b} (x in (a,b]) with {a: 1, b: 4, x: 1}:\n",
      "Unsatisfied condition: 1 < 1 <= 4. For debugging purposes, this is accessible via Instantiation.unsatisfied_condition with applicable assumptions in Instantiation.condition_assumptions.\n"
     ]
    }
   ],
   "source": [
    "# but this should NOT work for the discluded (left) endpoint\n",
    "try:\n",
    "    IntervalOC(one, four).deduce_elem_in_set(one)\n",
    "except ProofFailure as e:\n",
    "    print(\"Proof failure: {}\".format(e))"
   ]
  },
  {
   "cell_type": "code",
   "execution_count": 86,
   "metadata": {},
   "outputs": [
    {
     "data": {
      "text/html": [
       "<span style=\"font-size:20px;\"> <a class=\"ProveItLink\" href=\"../__pv_it/demonstrations/003a8ca9246c2cff921cf1a7362e49d1b816444a0/proof.ipynb\" style=\"text-decoration: none\">&nbsp;&#x22A2;&nbsp;&nbsp;</a><a class=\"ProveItLink\" href=\"../__pv_it/demonstrations/c45518a411da1a9be2fdf6db291ebf8dca8ec2220/expr.ipynb\"><img src=\"data:image/png;base64,iVBORw0KGgoAAAANSUhEUgAAAE0AAAAVBAMAAADx+n4ZAAAAMFBMVEX///9UVFTMzMwiIiKYmJgQ\n",
       "EBAyMjKIiIiqqqru7u66urpERERmZmZ2dnbc3NwAAABametFAAAAAXRSTlMAQObYZgAAAAlwSFlz\n",
       "AAAOxAAADsQBlSsOGwAAAWtJREFUKM9jYMAExUZoAg8YsIJb6ALLQcTbO7sw1PGdyVaA8ZgOMLA7\n",
       "MDBwHmDob0BX95qB9xeMxyzAwJDJwMD+g2F+Aro6OQaGULhrgep8GBi4ohj4IerYNxubQdXFT2CQ\n",
       "hzqeyQ2ojnUCiNnvACK50ifAzRNmYJCHOpCXDaiODaSCywQs8GwCin/toZw6kDpeIGYqFAIL5KGE\n",
       "C9N3CJvPAaSOBewyiH8TUNSBfAm2lgGkjiMAxGb9CTIg2NjY2Bqu7jRUjx9YHdMHBiYFBu4fQAHO\n",
       "DcjmsUCN4ysAq+MKYOD/CVHHYICsrpeBDxwuXIKC8oEXGDgMGFgFIPYylCOpY7rAwD6BE8JjBflj\n",
       "AwOLAzT82BoQ6h6fOXMYFk38QAfxXGBgWHMGkg44pVfC1dn///+NgdkSxOHZ/7GAgXkBUrRy3YbH\n",
       "GwR0wqUe401/F+AiR/Cp4yyACfBtwKeOHS7AjT3hX0bPH3UMDABgD1ZyHdDc7wAAAABJRU5ErkJg\n",
       "gg==\n",
       "\" style=\"display:inline;vertical-align:middle;\" /></a></span>"
      ],
      "text/plain": [
       "|- 3 in [2,4)"
      ]
     },
     "metadata": {},
     "output_type": "display_data"
    }
   ],
   "source": [
    "# Element in Half-Open Interval [2,4)\n",
    "IntervalCO(two, four).deduce_elem_in_set(three)"
   ]
  },
  {
   "cell_type": "code",
   "execution_count": 87,
   "metadata": {},
   "outputs": [
    {
     "data": {
      "text/html": [
       "<span style=\"font-size:20px;\"> <a class=\"ProveItLink\" href=\"../__pv_it/demonstrations/a6bddfdcef8680c3407653c1e3a1dd4508d0f3100/proof.ipynb\" style=\"text-decoration: none\">&nbsp;&#x22A2;&nbsp;&nbsp;</a><a class=\"ProveItLink\" href=\"../__pv_it/demonstrations/8e1020076bafd28fc787ecad870b9f2a844fa1300/expr.ipynb\"><img src=\"data:image/png;base64,iVBORw0KGgoAAAANSUhEUgAAAEwAAAAVBAMAAAAeOBUnAAAAMFBMVEX///+qqqqYmJiIiIgiIiLu\n",
       "7u4QEBBUVFS6urp2dnbMzMxEREQyMjJmZmbc3NwAAADzFso2AAAAAXRSTlMAQObYZgAAAAlwSFlz\n",
       "AAAOxAAADsQBlSsOGwAAAWNJREFUKM9jYMAAzC4LUAX4GLABzgY0AQ4DoNK7pxdgKHt7Zxecu5aB\n",
       "wYiB4TUD5w90ZXwbGObDjXRnYOAJYKhjYEhDV8b+gIEtAeZSoDKmCwz5AQz1D8AC1i4uByDK2L4y\n",
       "sP+DKlt0HEikMpQwMNSDHddjijDNgYH9F5Q3AaTsEIjlD/b1URSfsnyA2vkApGw6EHN9BvF5HqAo\n",
       "W28A4TxiACnTAWksACtDDTd3mJ1gZWJAfBvMX+YCBBtgyng3QFQxPQArWw9kgQ1jiEYxTR3KfswA\n",
       "VtbGwCDJwAdyFguyMsYJDO/A7Pby8m+VDAwiDFwTGJgDQF4yQFK2koHBlCEAwk0HYm2GJ3fvXgFz\n",
       "DyJFlu/duw6sfyDc30B8k8H//38IP3xHAEwZy////w8wuID5t/8XMzB4IMVl5xZYZEH4jAHwBOeA\n",
       "J71xwkV4FfAoC4aLvMaXeuFeZ9iHVRl6XmB+wAAAc9Ze84zRuowAAAAASUVORK5CYII=\n",
       "\" style=\"display:inline;vertical-align:middle;\" /></a></span>"
      ],
      "text/plain": [
       "|- 2 in [2,4)"
      ]
     },
     "metadata": {},
     "output_type": "display_data"
    }
   ],
   "source": [
    "# this should also work for the included (left) endpoint as well\n",
    "IntervalCO(two, four).deduce_elem_in_set(two)"
   ]
  },
  {
   "cell_type": "code",
   "execution_count": 88,
   "metadata": {},
   "outputs": [
    {
     "name": "stdout",
     "output_type": "stream",
     "text": [
      "Proof failure: Proof step failed:\n",
      "Attempting to instantiate |- forall_{a, b, x in Real | a <= x < b} (x in [a,b)) with {a: 2, b: 4, x: 4}:\n",
      "Unsatisfied condition: 2 <= 4 < 4. For debugging purposes, this is accessible via Instantiation.unsatisfied_condition with applicable assumptions in Instantiation.condition_assumptions.\n"
     ]
    }
   ],
   "source": [
    "# but this should NOT work for the discluded (right) endpoint\n",
    "try:\n",
    "    IntervalCO(two, four).deduce_elem_in_set(four)\n",
    "except ProofFailure as e:\n",
    "    print(\"Proof failure: {}\".format(e))"
   ]
  },
  {
   "cell_type": "code",
   "execution_count": 89,
   "metadata": {},
   "outputs": [
    {
     "data": {
      "text/html": [
       "<span style=\"font-size:20px;\"> <a class=\"ProveItLink\" href=\"../__pv_it/demonstrations/fc8f253670ee5c039b4df052bb7b72db22f8477b0/proof.ipynb\" style=\"text-decoration: none\">&nbsp;&#x22A2;&nbsp;&nbsp;</a><a class=\"ProveItLink\" href=\"../__pv_it/demonstrations/e2df0b0fef9eae78092c877f17ffa481da1bde060/expr.ipynb\"><img src=\"data:image/png;base64,iVBORw0KGgoAAAANSUhEUgAAAEoAAAAVBAMAAAATJmVgAAAAMFBMVEX///+qqqqYmJiIiIgiIiLu\n",
       "7u4QEBBUVFS6urp2dnbMzMxEREQyMjJmZmbc3NwAAADzFso2AAAAAXRSTlMAQObYZgAAAAlwSFlz\n",
       "AAAOxAAADsQBlSsOGwAAAR9JREFUKM9jYMAAzC4LUAVMvDAVMXA2oIvMYOC7e3oBpiouVyjn5dwd\n",
       "IFWvGTh/YKgKv/MVwma9wCAvAFRVx8CQhmkWM1QV80eG+ANAVfkBDPUPwCLWLi4H0FVxZDDwg1SV\n",
       "MDDUgx3WY4rFLCCQVwCqAgJ/EMF3lAGrKg4nBrAqrs8gHs8DrKq4zKsgqlgKwKoYGHDYKABWdRvM\n",
       "WeYCBBuwqGL7ClLFBDaKIRqrWVwLGLg/glRJMvCBnMSCVRX/V4gqrgkMzAGg8DNAV8UKsq4AYuOT\n",
       "u3evgCUPIqvi/McACnQGJgVIePn///8HLBm+IwCuir3sTxEDCyjGe+/ugIQEDHRuQcQQGIgiUg6e\n",
       "9DWBGFWsBsSoYmbAqwoj3WcAAJvJWlyScUzhAAAAAElFTkSuQmCC\n",
       "\" style=\"display:inline;vertical-align:middle;\" /></a></span>"
      ],
      "text/plain": [
       "|- 2 in [1,3]"
      ]
     },
     "metadata": {},
     "output_type": "display_data"
    }
   ],
   "source": [
    "# Element in a Closed Interval [1,3]\n",
    "IntervalCC(one, three).deduce_elem_in_set(two)"
   ]
  },
  {
   "cell_type": "code",
   "execution_count": 90,
   "metadata": {},
   "outputs": [
    {
     "data": {
      "text/html": [
       "<span style=\"font-size:20px;\"> <a class=\"ProveItLink\" href=\"../__pv_it/demonstrations/a9a71e3d0c80c5e121072664509be63875aa36cb0/proof.ipynb\" style=\"text-decoration: none\">&nbsp;&#x22A2;&nbsp;&nbsp;</a><a class=\"ProveItLink\" href=\"../__pv_it/demonstrations/4d61de670e236af211a9ddf29001150b06048f860/expr.ipynb\"><img src=\"data:image/png;base64,iVBORw0KGgoAAAANSUhEUgAAAEoAAAAVBAMAAAATJmVgAAAAMFBMVEX///+qqqq6urpERESYmJgQ\n",
       "EBDc3Nx2dnaIiIgyMjJmZmZUVFTu7u4iIiLMzMwAAAAz/ewvAAAAAXRSTlMAQObYZgAAAAlwSFlz\n",
       "AAAOxAAADsQBlSsOGwAAAOBJREFUKM9jYMAAHHcfoAr03sNUxMCugC5SxMDAdweLKrhgepURSNXp\n",
       "lX8wVcEFeRYwyAuAzOLAogouyPGR4fwEFFXNd+9OQFfFFMTAj6JKsweLWUAg74Ckim0OA1ZVTFcY\n",
       "kFRxJmBVxde9D0UVAwMOG5H9+PQuEBhgUcX6B0nVYaxm8T1gYP6IpIoXqyr+P6iqOBrQVfGArNsA\n",
       "tZH9G0RyIrIqkCAw0BlYHCDhxb315xaw5GmjA3BVYEFeUIxrrQLHNgKo2yJiCAxkkFIO7vRVQIwq\n",
       "ngZiVHEw4FWFke6DANynVUZT/iETAAAAAElFTkSuQmCC\n",
       "\" style=\"display:inline;vertical-align:middle;\" /></a></span>"
      ],
      "text/plain": [
       "|- 1 in [1,3]"
      ]
     },
     "metadata": {},
     "output_type": "display_data"
    }
   ],
   "source": [
    "# this should also work for the included left endpoint\n",
    "IntervalCC(one, three).deduce_elem_in_set(one)"
   ]
  },
  {
   "cell_type": "code",
   "execution_count": 91,
   "metadata": {},
   "outputs": [
    {
     "data": {
      "text/html": [
       "<span style=\"font-size:20px;\"> <a class=\"ProveItLink\" href=\"../__pv_it/demonstrations/42cc79f34f2572ed50d4baf98fddde5069d7801f0/proof.ipynb\" style=\"text-decoration: none\">&nbsp;&#x22A2;&nbsp;&nbsp;</a><a class=\"ProveItLink\" href=\"../__pv_it/demonstrations/b276bbbb9ccc5769d16271aba682a8b10a496e9a0/expr.ipynb\"><img src=\"data:image/png;base64,iVBORw0KGgoAAAANSUhEUgAAAEsAAAAVBAMAAAD85A5eAAAAMFBMVEX///9UVFTMzMwiIiKYmJgQ\n",
       "EBAyMjKIiIiqqqru7u66urpERERmZmZ2dnbc3NwAAABametFAAAAAXRSTlMAQObYZgAAAAlwSFlz\n",
       "AAAOxAAADsQBlSsOGwAAAR5JREFUKM9jYMAExUaofHZjBSyqGG6hC/AuYGB4e2cXFmXKEyBsvrun\n",
       "F4CUcR5g6G9AV8Ypkw9VNoeB4wdIGfsPhvkJmKbVQ5XVN3B+AynjimLghyhj32xshqFs6QIGsDIg\n",
       "6HcAkVzpE7CYxsDA8QWijMsEzH02gQGrssUOYGVMhUJgbh5WtzGoCyrALAX7NAG7MqhPgYD1J5Bg\n",
       "CjY2NrbGoowhfgJQGZMCA/cPIIdzA1bTlBgY9jcAlfH/hChjMMCq7P8EiDJWAYilDOUYykAqA6GW\n",
       "sjhAw42tAVnZ/QcMwOBnYHCBhduaM5Co55ReiVAmGJ/owGAMNI7rDCTqEYDrNlJkgYNiAlJCwp3e\n",
       "eBmIUjadOGUF+JVdRs8LpgsA8nJkR4h7144AAAAASUVORK5CYII=\n",
       "\" style=\"display:inline;vertical-align:middle;\" /></a></span>"
      ],
      "text/plain": [
       "|- 3 in [1,3]"
      ]
     },
     "metadata": {},
     "output_type": "display_data"
    }
   ],
   "source": [
    "# this should also work for the included right endpoint\n",
    "IntervalCC(one, three).deduce_elem_in_set(three)"
   ]
  },
  {
   "cell_type": "code",
   "execution_count": 92,
   "metadata": {},
   "outputs": [
    {
     "name": "stdout",
     "output_type": "stream",
     "text": [
      "Proof failure: Proof step failed:\n",
      "Attempting to instantiate |- forall_{a, b, x in Real | a <= x <= b} (x in [a,b]) with {a: 1, b: 3, x: 4}:\n",
      "Unsatisfied condition: 1 <= 4 <= 3. For debugging purposes, this is accessible via Instantiation.unsatisfied_condition with applicable assumptions in Instantiation.condition_assumptions.\n"
     ]
    }
   ],
   "source": [
    "# but this should NOT work for a value outside the interval\n",
    "try:\n",
    "    IntervalCC(one, three).deduce_elem_in_set(four)\n",
    "except ProofFailure as e:\n",
    "    print(\"Proof failure: {}\".format(e))"
   ]
  },
  {
   "cell_type": "markdown",
   "metadata": {},
   "source": [
    "### Testing the `derive_rescaled_membership()` methods for real intervals"
   ]
  },
  {
   "cell_type": "code",
   "execution_count": 93,
   "metadata": {},
   "outputs": [
    {
     "data": {
      "text/html": [
       "<span style=\"font-size:20px;\"> <a class=\"ProveItLink\" href=\"../__pv_it/demonstrations/6064303e040c920a53a32a95afd846cf223af9bf0/proof.ipynb\" style=\"text-decoration: none\">&nbsp;&#x22A2;&nbsp;&nbsp;</a><a class=\"ProveItLink\" href=\"../__pv_it/demonstrations/2226294427fdb58e20eb9729ef98e4e4f7e720300/expr.ipynb\"><img src=\"data:image/png;base64,iVBORw0KGgoAAAANSUhEUgAAAE8AAAAVBAMAAAD1D64kAAAAMFBMVEX///+qqqru7u5EREQQEBC6\n",
       "urrc3Nx2dnYyMjKYmJiIiIhUVFQiIiJmZmbMzMwAAABQcPw9AAAAAXRSTlMAQObYZgAAAAlwSFlz\n",
       "AAAOxAAADsQBlSsOGwAAAZtJREFUKM+Fkz1Iw0AUx//pR9o0tXTTzYCLOAUHBxEtgi46FCfRJZOo\n",
       "KBYEHUQMDoK6dFUpFAcHQVAcBItQcRGMIDhoh6KbCIpViziI8fruEmqIeCT3vn65d/feBfAbxj+2\n",
       "M2JJj2OEi2cv2AhM33ZzPTC/mEYsS/qFhwuYkHUspcloAA6AZUrkBRuyUA2EUmRsAK1ArqY+roud\n",
       "dVnnpITY8wb1g4wFAkMaUzMcDK9pYsUmQC1C/SajuR0lIMo2GTM4OO5wuKE5XiGh2nusBpF9YAIc\n",
       "XHH3uErzS55bd1+siorJMgvQdMHT+lpIcz2vbE5BMTiYGLQs64xifXR0nYM5SFUNiQomwcGA7q5I\n",
       "4JYweoGZJMIpjBYK1aOap/grtZTBGH3PjqRmIVF0gMK7LtjJ3gdgG7U69ANBAwrle6dw1L0JrMby\n",
       "ZblcDHwyY1jDJttxhqnX9jElORwS4BMrom3bJiy2ZOKkzJoeT9e1ODwrWhi/Fx7J7cGU73VUroQS\n",
       "cV0l/4vbIWSb45B1f7BFyLzjCP7xL8h5j2MH+AENplqip17/tQAAAABJRU5ErkJggg==\n",
       "\" style=\"display:inline;vertical-align:middle;\" /></a></span>"
      ],
      "text/plain": [
       "|- 4 in (2,8)"
      ]
     },
     "metadata": {},
     "output_type": "display_data"
    }
   ],
   "source": [
    "# Element in an Open Interval (1,3)\n",
    "InSet(two, IntervalOO(one, four)).derive_rescaled_membership(two)"
   ]
  },
  {
   "cell_type": "markdown",
   "metadata": {},
   "source": [
    "*alternate way*"
   ]
  },
  {
   "cell_type": "code",
   "execution_count": 94,
   "metadata": {},
   "outputs": [
    {
     "data": {
      "text/html": [
       "<span style=\"font-size:20px;\"> <a class=\"ProveItLink\" href=\"../__pv_it/demonstrations/6064303e040c920a53a32a95afd846cf223af9bf0/proof.ipynb\" style=\"text-decoration: none\">&nbsp;&#x22A2;&nbsp;&nbsp;</a><a class=\"ProveItLink\" href=\"../__pv_it/demonstrations/2226294427fdb58e20eb9729ef98e4e4f7e720300/expr.ipynb\"><img src=\"data:image/png;base64,iVBORw0KGgoAAAANSUhEUgAAAE8AAAAVBAMAAAD1D64kAAAAMFBMVEX///+qqqru7u5EREQQEBC6\n",
       "urrc3Nx2dnYyMjKYmJiIiIhUVFQiIiJmZmbMzMwAAABQcPw9AAAAAXRSTlMAQObYZgAAAAlwSFlz\n",
       "AAAOxAAADsQBlSsOGwAAAZtJREFUKM+Fkz1Iw0AUx//pR9o0tXTTzYCLOAUHBxEtgi46FCfRJZOo\n",
       "KBYEHUQMDoK6dFUpFAcHQVAcBItQcRGMIDhoh6KbCIpViziI8fruEmqIeCT3vn65d/feBfAbxj+2\n",
       "M2JJj2OEi2cv2AhM33ZzPTC/mEYsS/qFhwuYkHUspcloAA6AZUrkBRuyUA2EUmRsAK1ArqY+roud\n",
       "dVnnpITY8wb1g4wFAkMaUzMcDK9pYsUmQC1C/SajuR0lIMo2GTM4OO5wuKE5XiGh2nusBpF9YAIc\n",
       "XHH3uErzS55bd1+siorJMgvQdMHT+lpIcz2vbE5BMTiYGLQs64xifXR0nYM5SFUNiQomwcGA7q5I\n",
       "4JYweoGZJMIpjBYK1aOap/grtZTBGH3PjqRmIVF0gMK7LtjJ3gdgG7U69ANBAwrle6dw1L0JrMby\n",
       "ZblcDHwyY1jDJttxhqnX9jElORwS4BMrom3bJiy2ZOKkzJoeT9e1ODwrWhi/Fx7J7cGU73VUroQS\n",
       "cV0l/4vbIWSb45B1f7BFyLzjCP7xL8h5j2MH+AENplqip17/tQAAAABJRU5ErkJggg==\n",
       "\" style=\"display:inline;vertical-align:middle;\" /></a></span>"
      ],
      "text/plain": [
       "|- 4 in (2,8)"
      ]
     },
     "metadata": {},
     "output_type": "display_data"
    }
   ],
   "source": [
    "# Element in an Open Interval (1,3)\n",
    "IntervalOO(one, four).deduce_rescaled_membership(two, two)"
   ]
  },
  {
   "cell_type": "code",
   "execution_count": 95,
   "metadata": {},
   "outputs": [
    {
     "data": {
      "text/html": [
       "<span style=\"font-size:20px;\"> <a class=\"ProveItLink\" href=\"../__pv_it/demonstrations/ea01d13780dd65d5f4257b7391d0f6aa009115540/proof.ipynb\" style=\"text-decoration: none\">&nbsp;&#x22A2;&nbsp;&nbsp;</a><a class=\"ProveItLink\" href=\"../__pv_it/demonstrations/87c2cdb5b632636be803a5b55fea69330b45a3760/expr.ipynb\"><img src=\"data:image/png;base64,iVBORw0KGgoAAAANSUhEUgAAAE0AAAAVBAMAAADx+n4ZAAAAMFBMVEX///+YmJhmZmYQEBDu7u6q\n",
       "qqpERESIiIgiIiJUVFS6uroyMjLc3NzMzMx2dnYAAABe+sMRAAAAAXRSTlMAQObYZgAAAAlwSFlz\n",
       "AAAOxAAADsQBlSsOGwAAAXtJREFUKM9jYMAGDqBy2TsuYFXGHoAmwLcASLx7h646joHh3KMsKEdJ\n",
       "0wGs7vQCzgZUZSwbGFgUGOIhhnoU8NqA1W1nYEtAVcckwMD+lcF/A5gzmYEhDaSO9QvcVRkd3WAG\n",
       "MwMDlxUDP0TdbwaG9w5AdWwGUGVc2x2grGgwGS8AdsM3Bob6BUB1zHufa4HFT8OUMeiBtTUywM0T\n",
       "AKrj38jADHbxHrj7NgIxb+VcBpj78guA6vw/MDCZgAQ2wNW1QuyF+Nd5Ae/8AJC6BgbGXyADLDo6\n",
       "OtrAUlYQ30A8yKL+tP4CyN4NDIwfQXxE4ADV8V5gYPsK40P8CzWPoQHZXv4vSOog4Qd0HzhoyuHq\n",
       "0oGWTgDZCwqBYAeWv+D4yGNwBruYGx75LxkYGAWA4ccCDBOGCgc2AbA6PiVICLBMWwJVdwOIFykB\n",
       "00EH0EC+R1rQ9AIDXM+g8cYBSz+sDsjpCgMwKsCkGfCqY8iB0u4E1LlB6QIC6ngK0PJB8wIAcNlf\n",
       "k6Wpr9kAAAAASUVORK5CYII=\n",
       "\" style=\"display:inline;vertical-align:middle;\" /></a></span>"
      ],
      "text/plain": [
       "|- 6 in (3,9]"
      ]
     },
     "metadata": {},
     "output_type": "display_data"
    }
   ],
   "source": [
    "# Element in an Half-Open Interval (1,3]\n",
    "InSet(two, IntervalOC(one, three)).derive_rescaled_membership(three)"
   ]
  },
  {
   "cell_type": "code",
   "execution_count": 96,
   "metadata": {},
   "outputs": [
    {
     "data": {
      "text/html": [
       "<span style=\"font-size:20px;\"> <a class=\"ProveItLink\" href=\"../__pv_it/demonstrations/d35295a1d5a3db81869d78952fee198c567285290/proof.ipynb\" style=\"text-decoration: none\">&nbsp;&#x22A2;&nbsp;&nbsp;</a><a class=\"ProveItLink\" href=\"../__pv_it/demonstrations/9ac605a3cc80c9f12cb33eb118d3b19de4c350e90/expr.ipynb\"><img src=\"data:image/png;base64,iVBORw0KGgoAAAANSUhEUgAAAFcAAAAVBAMAAADBdm84AAAAMFBMVEX////MzMwQEBDc3NwiIiKI\n",
       "iIhEREQyMjKYmJiqqqpUVFS6urpmZmZ2dnbu7u4AAAABvK+SAAAAAXRSTlMAQObYZgAAAAlwSFlz\n",
       "AAAOxAAADsQBlSsOGwAAAYVJREFUKM99k71Lw1AUxU+axqZNEzs7FXFy0A6lrgWDbjZQ3QO6WxAd\n",
       "S8HBxaH/QLWoSOkSF1fpIH5ghk5uQmZBKkgtKhjvS1vzkobeIck9+eXl3vvOAyZC0jOIiFyUCPUq\n",
       "Ur5ml7eXpwhY6IwyYQMQ7YMMpBplHaTqk3C8OUxe73+BAtQfoArINWiVSXizOe6A4HNgHjimV80x\n",
       "LO3o62NYOOLhZQdWDjEHyU8nzaqBsu/4K6sJHr4ArAwShFn9R09dcbgyygGYouTVgLS76qV7XM1i\n",
       "LQQLfeqOqm0UXG8aFQ5WEYLZcJJZyB2cLrFvF3RdXxvBh2H4jhHvrEfxix41019ZNEKwzDIlix7d\n",
       "Wkwt+rDSbluLXQ5uQMwhWUSMDLLN1K3ApsRo/P+w0IXkQDahVCEbTE3UeXjWRM9rWf0A8rZ9S2Oj\n",
       "f83ZQyNplzc+nN79NuJkIaTOBi2UXHdAE+HdqDz72+3FSdCN+al+7gb1h2mwZgRk0ZwGS0F5JvJc\n",
       "qdFnsAz8AZ08b2jjoL0YAAAAAElFTkSuQmCC\n",
       "\" style=\"display:inline;vertical-align:middle;\" /></a></span>"
      ],
      "text/plain": [
       "|- 8 in [4,12)"
      ]
     },
     "metadata": {},
     "output_type": "display_data"
    }
   ],
   "source": [
    "# Element in an Half-Open Interval [1,3)\n",
    "InSet(two, IntervalCO(one, three)).derive_rescaled_membership(four)"
   ]
  },
  {
   "cell_type": "code",
   "execution_count": 97,
   "metadata": {},
   "outputs": [
    {
     "data": {
      "text/html": [
       "<span style=\"font-size:20px;\"> <a class=\"ProveItLink\" href=\"../__pv_it/demonstrations/b47ad7fddb79ee9a69e122557ecbfdf8b5f1e4020/proof.ipynb\" style=\"text-decoration: none\">&nbsp;&#x22A2;&nbsp;&nbsp;</a><a class=\"ProveItLink\" href=\"../__pv_it/demonstrations/91327f953cc4e4541b92e780101dec1458c5d6930/expr.ipynb\"><img src=\"data:image/png;base64,iVBORw0KGgoAAAANSUhEUgAAAEsAAAAVBAMAAAD85A5eAAAAMFBMVEX///+YmJhmZmYQEBDu7u6q\n",
       "qqpERESIiIgiIiJUVFS6uroyMjLc3NzMzMx2dnYAAABe+sMRAAAAAXRSTlMAQObYZgAAAAlwSFlz\n",
       "AAAOxAAADsQBlSsOGwAAAWJJREFUKM9jYMAEFb2ofPaOC1hUMbxCF+BbACTevbuAoYzvuQ6EzfLu\n",
       "0QKwstMLOBswlG1l8DgAZjMxMEwFK9vOwJaAroyxgYEPIijIwOANUsb6Be7SjI5uqDK2CTDxl1Bl\n",
       "bAZQVVzbHeCm8Ssw8H4Fs+NTGBRBypj3PtcCC5x2QFjqD1T2Eczm/F8UAFLGv5GBOQAksAfJbecf\n",
       "MPB+h3D0fxwAKfP/wMBkAuJvQFP2D8xmfZP/FaysgYHxF5DPa9HR0dEGs/QBAxfENCEG1s8OIEs3\n",
       "MDCCnMGSgGQa0AusEC8ALTofAPIp1DSGBiRlwJBkBAcIywegLwRA4QZ0GzhMypGD14CBaQMDyOs2\n",
       "DAxsB0CxkMfgDPYpdwBSZLUyOF9g+Q1kr3ZgEAdHFp/SXEgkT1uCUOb0HCjYATSOd5ISJOrhgOsZ\n",
       "PLIggNUBOSHhTG98DEQpcydOWQF+ZS/Q80LzAgCsUm7X1jYLjgAAAABJRU5ErkJggg==\n",
       "\" style=\"display:inline;vertical-align:middle;\" /></a></span>"
      ],
      "text/plain": [
       "|- 6 in [0,8]"
      ]
     },
     "metadata": {},
     "output_type": "display_data"
    }
   ],
   "source": [
    "# Element in an Closed Interval [1,3]\n",
    "InSet(three, IntervalCC(zero, four)).derive_rescaled_membership(two)"
   ]
  },
  {
   "cell_type": "markdown",
   "metadata": {},
   "source": [
    "### Testing the `deduce_left/right_relaxed_membership()` methods for real intervals"
   ]
  },
  {
   "cell_type": "code",
   "execution_count": 98,
   "metadata": {},
   "outputs": [
    {
     "data": {
      "text/html": [
       "<span style=\"font-size:20px;\"><a class=\"ProveItLink\" href=\"../__pv_it/demonstrations/19e0f1785ad56bd46dc685778d38f9dca802e4cc0/expr.ipynb\"><img src=\"data:image/png;base64,iVBORw0KGgoAAAANSUhEUgAAAE4AAAAVBAMAAAAazcUaAAAAMFBMVEX///9UVFQyMjK6urru7u4Q\n",
       "EBBERERmZmaqqqoiIiLc3NzMzMyYmJiIiIh2dnYAAABC1PP/AAAAAXRSTlMAQObYZgAAAAlwSFlz\n",
       "AAAOxAAADsQBlSsOGwAAAUtJREFUKM9jYMACuAjwYeAGGp/5AlZlHA8YGLinwLnbGRjuYFXnxMDg\n",
       "WPQFzp3IwMDkgE1dDRDzwtXxAtXxFCBJX5s5UwHMCEBRt0cRSIQglBldgTlPAUXdA5A6HSB+e2cD\n",
       "yO8qMAn2B8jqeBeA1D1kYFjZwJ4AZDEtgKljOoCsbg0DSN0hBoZ5DKyg4GGCO4CzAVndA7C6VgZ2\n",
       "qMDWmUAAMpiB1QBJHc8CsLr9DKwJEAE3uHko6tYygNWZMvhD44QTu72GgoJf5RgYOhn4ga4GGwCP\n",
       "Q7YLUHUsEH4gEB9jAHqWDxQuDBowdXwCIOIXA4M/JNi/AXEdA8O7M5AAdkyGRiL3BAYGRtFPMgyc\n",
       "4LRQ9l+WgWEyUrzZZULjbTZMpAWeACdgSwfH4VEGj6ID2NSxQaOGBe61ZVjTHws0SHnhIlnY0/1a\n",
       "ND7vAgYAh35MKOFpUcgAAAAASUVORK5CYII=\n",
       "\" style=\"display:inline;vertical-align:middle;\" /></a> <a class=\"ProveItLink\" href=\"../__pv_it/demonstrations/845b55c21a2f33355fcce7dd53ff4db847e241e00/proof.ipynb\" style=\"text-decoration: none\">&nbsp;&#x22A2;&nbsp;&nbsp;</a><a class=\"ProveItLink\" href=\"../__pv_it/demonstrations/d701564a95e6650c8f18aac5d886b77ff95db0570/expr.ipynb\"><img src=\"data:image/png;base64,iVBORw0KGgoAAAANSUhEUgAAAEsAAAAVBAMAAAD85A5eAAAAMFBMVEX///9UVFQyMjK6urru7u4Q\n",
       "EBBERERmZmaqqqoiIiLc3NzMzMyYmJiIiIh2dnYAAABC1PP/AAAAAXRSTlMAQObYZgAAAAlwSFlz\n",
       "AAAOxAAADsQBlSsOGwAAASdJREFUKM9jYMAAN2ejCSxgwAYeowvY4lS20wHG4y5g4D2AXRmLuD5c\n",
       "GacAA4MKLtPuw5XdBCo7jiTLmzlzEqYy7kNAZaxwTQzMug7YTONjAipjAjnu7Z0NQHKRA1ZLb4GU\n",
       "8QHxygb2BCBfC6vbuA6AlPEoMDDMY2C9ABRQwKqMjwGkjCOAgf0LxKmRM2fOnIah7BRYGfcHBtYE\n",
       "MJ8lAZtpXBfAypgDGPwvQCQnYFPGLCgoH/iAgWMCAz/QswZAkbsYyiAqWUFeSGAAepMPFCBMDcjK\n",
       "3i9gYPkE5vEDXcP+gIHh3ZkrYMeJmSCUCcYrHmCYCTKOPf/jBQZOA0RkMT9DiiwQ4IAH+Ep86Y0P\n",
       "LlKDT5kvTIArAZ+yCzABNqyp/CV6XrjFwAAAysZTauvDqKkAAAAASUVORK5CYII=\n",
       "\" style=\"display:inline;vertical-align:middle;\" /></a></span>"
      ],
      "text/plain": [
       "{c in (1,4)} |- c in [1,4)"
      ]
     },
     "metadata": {},
     "output_type": "display_data"
    }
   ],
   "source": [
    "# Element in open interval (1,4) means element in half-open interval [1,4)\n",
    "InSet(c, IntervalOO(one, four)).derive_left_relaxed_membership(\n",
    "    assumptions=[InSet(c, IntervalOO(one, four))])"
   ]
  },
  {
   "cell_type": "code",
   "execution_count": 99,
   "metadata": {},
   "outputs": [
    {
     "data": {
      "text/html": [
       "<span style=\"font-size:20px;\"><a class=\"ProveItLink\" href=\"../__pv_it/demonstrations/19e0f1785ad56bd46dc685778d38f9dca802e4cc0/expr.ipynb\"><img src=\"data:image/png;base64,iVBORw0KGgoAAAANSUhEUgAAAE4AAAAVBAMAAAAazcUaAAAAMFBMVEX///9UVFQyMjK6urru7u4Q\n",
       "EBBERERmZmaqqqoiIiLc3NzMzMyYmJiIiIh2dnYAAABC1PP/AAAAAXRSTlMAQObYZgAAAAlwSFlz\n",
       "AAAOxAAADsQBlSsOGwAAAUtJREFUKM9jYMACuAjwYeAGGp/5AlZlHA8YGLinwLnbGRjuYFXnxMDg\n",
       "WPQFzp3IwMDkgE1dDRDzwtXxAtXxFCBJX5s5UwHMCEBRt0cRSIQglBldgTlPAUXdA5A6HSB+e2cD\n",
       "yO8qMAn2B8jqeBeA1D1kYFjZwJ4AZDEtgKljOoCsbg0DSN0hBoZ5DKyg4GGCO4CzAVndA7C6VgZ2\n",
       "qMDWmUAAMpiB1QBJHc8CsLr9DKwJEAE3uHko6tYygNWZMvhD44QTu72GgoJf5RgYOhn4ga4GGwCP\n",
       "Q7YLUHUsEH4gEB9jAHqWDxQuDBowdXwCIOIXA4M/JNi/AXEdA8O7M5AAdkyGRiL3BAYGRtFPMgyc\n",
       "4LRQ9l+WgWEyUrzZZULjbTZMpAWeACdgSwfH4VEGj6ID2NSxQaOGBe61ZVjTHws0SHnhIlnY0/1a\n",
       "ND7vAgYAh35MKOFpUcgAAAAASUVORK5CYII=\n",
       "\" style=\"display:inline;vertical-align:middle;\" /></a> <a class=\"ProveItLink\" href=\"../__pv_it/demonstrations/ef199022238993502d6751974b307d5fc95f794c0/proof.ipynb\" style=\"text-decoration: none\">&nbsp;&#x22A2;&nbsp;&nbsp;</a><a class=\"ProveItLink\" href=\"../__pv_it/demonstrations/46873b211722627e75e3ad907df09e12d314e9600/expr.ipynb\"><img src=\"data:image/png;base64,iVBORw0KGgoAAAANSUhEUgAAAEwAAAAVBAMAAAAeOBUnAAAAMFBMVEX///9UVFQyMjK6urru7u4Q\n",
       "EBBERERmZmaqqqoiIiLc3NzMzMyYmJiIiIh2dnYAAABC1PP/AAAAAXRSTlMAQObYZgAAAAlwSFlz\n",
       "AAAOxAAADsQBlSsOGwAAARlJREFUKM9jYMACFqDxb87Gpoq3AV3kMTZlfUC80wHO3Y5dGYsCA4u4\n",
       "PkLZROzK2A8AiftwZbyoyngzZ04CM1gZUJTtUURWxqwLk2hCVfYAquztnQ1AchFcvA5FGe8CiLKV\n",
       "DewJQK4W3FwdFGVrGCDK5jGwXgByFeDKZqAoewBRxv4FzOOOnDlz5jQwMxhZGc8CiDLWBEhgJcBN\n",
       "Q1G2lgGizP8ChD8Bu6WGgoJf5YDK+IGBaQDk34Ury4Upg6oMBLstgYEPFCBM8Ph+CCLeL2Bg+QTh\n",
       "fwP79N2ZK2DHiZlAle0EYsF4xQMMM8HGlf2XRY4s5mfQyOLcABXhcMCXkHgKoAw+/OktC0r74lfm\n",
       "BqUv4FfGdQE9LwQDAKoiVKasDhIZAAAAAElFTkSuQmCC\n",
       "\" style=\"display:inline;vertical-align:middle;\" /></a></span>"
      ],
      "text/plain": [
       "{c in (1,4)} |- c in (1,4]"
      ]
     },
     "metadata": {},
     "output_type": "display_data"
    }
   ],
   "source": [
    "# Element in open interval (1,4) means element in half-open interval (1,4]\n",
    "InSet(c, IntervalOO(one, four)).derive_right_relaxed_membership(\n",
    "    assumptions=[InSet(c, IntervalOO(one, four))])"
   ]
  },
  {
   "cell_type": "code",
   "execution_count": 100,
   "metadata": {},
   "outputs": [
    {
     "data": {
      "text/html": [
       "<span style=\"font-size:20px;\"><a class=\"ProveItLink\" href=\"../__pv_it/demonstrations/19e0f1785ad56bd46dc685778d38f9dca802e4cc0/expr.ipynb\"><img src=\"data:image/png;base64,iVBORw0KGgoAAAANSUhEUgAAAE4AAAAVBAMAAAAazcUaAAAAMFBMVEX///9UVFQyMjK6urru7u4Q\n",
       "EBBERERmZmaqqqoiIiLc3NzMzMyYmJiIiIh2dnYAAABC1PP/AAAAAXRSTlMAQObYZgAAAAlwSFlz\n",
       "AAAOxAAADsQBlSsOGwAAAUtJREFUKM9jYMACuAjwYeAGGp/5AlZlHA8YGLinwLnbGRjuYFXnxMDg\n",
       "WPQFzp3IwMDkgE1dDRDzwtXxAtXxFCBJX5s5UwHMCEBRt0cRSIQglBldgTlPAUXdA5A6HSB+e2cD\n",
       "yO8qMAn2B8jqeBeA1D1kYFjZwJ4AZDEtgKljOoCsbg0DSN0hBoZ5DKyg4GGCO4CzAVndA7C6VgZ2\n",
       "qMDWmUAAMpiB1QBJHc8CsLr9DKwJEAE3uHko6tYygNWZMvhD44QTu72GgoJf5RgYOhn4ga4GGwCP\n",
       "Q7YLUHUsEH4gEB9jAHqWDxQuDBowdXwCIOIXA4M/JNi/AXEdA8O7M5AAdkyGRiL3BAYGRtFPMgyc\n",
       "4LRQ9l+WgWEyUrzZZULjbTZMpAWeACdgSwfH4VEGj6ID2NSxQaOGBe61ZVjTHws0SHnhIlnY0/1a\n",
       "ND7vAgYAh35MKOFpUcgAAAAASUVORK5CYII=\n",
       "\" style=\"display:inline;vertical-align:middle;\" /></a> <a class=\"ProveItLink\" href=\"../__pv_it/demonstrations/2bbd7abea089b8e5733fe20b5124ba0bf9aaa4560/proof.ipynb\" style=\"text-decoration: none\">&nbsp;&#x22A2;&nbsp;&nbsp;</a><a class=\"ProveItLink\" href=\"../__pv_it/demonstrations/cc53d918fd90dc2a2ee538fad694f7a6d70d71900/expr.ipynb\"><img src=\"data:image/png;base64,iVBORw0KGgoAAAANSUhEUgAAAEkAAAAVBAMAAAD4Ed5jAAAAMFBMVEX///9UVFQyMjK6urru7u4Q\n",
       "EBBERERmZmaqqqoiIiLc3NzMzMyYmJiIiIh2dnYAAABC1PP/AAAAAXRSTlMAQObYZgAAAAlwSFlz\n",
       "AAAOxAAADsQBlSsOGwAAAPBJREFUKM9jYMAAN2ej8nlnbsBUxPAYXYDPAIeqnQ4wHncBLlUs4vpw\n",
       "VZwCuM26D1d1E03VtZkzFTBUcR9CVWV0BZtZfExQVW/vgHzKpYLVxltQVSsb2BOAXKYF2FRxHYCq\n",
       "msfAegGkCqvr+Rggqti/QPhbZwJBArqqU1BVrAkQvhs2s7guQFX5X4CGHjZVzIKC8oEPgKr4DzAw\n",
       "gHzKewFdFUQhK8RdCQx84DjXQFb1fgEDyycwjz8B7Md3ZyDB6ZjsAFclGK94gGEmiM+e//ECSgzZ\n",
       "ZSJiCAQ4HAilHEhYEaPKlyhVF/Cqeome7qcaAADQW0/HKb7OCAAAAABJRU5ErkJggg==\n",
       "\" style=\"display:inline;vertical-align:middle;\" /></a></span>"
      ],
      "text/plain": [
       "{c in (1,4)} |- c in [1,4]"
      ]
     },
     "metadata": {},
     "output_type": "display_data"
    }
   ],
   "source": [
    "# Element in open interval (1,4) means element in half-open interval (1,4]\n",
    "InSet(c, IntervalOO(one, four)).derive_fully_relaxed_membership(\n",
    "    assumptions=[InSet(c, IntervalOO(one, four))])"
   ]
  },
  {
   "cell_type": "code",
   "execution_count": 101,
   "metadata": {},
   "outputs": [
    {
     "data": {
      "text/html": [
       "<span style=\"font-size:20px;\"><a class=\"ProveItLink\" href=\"../__pv_it/demonstrations/d0815a6616c5794427bb71988e577dc9ff3773ff0/expr.ipynb\"><img src=\"data:image/png;base64,iVBORw0KGgoAAAANSUhEUgAAAEwAAAAVBAMAAAAeOBUnAAAAMFBMVEX///9UVFQyMjK6urru7u4Q\n",
       "EBBERERmZmaqqqoiIiLc3NzMzMyYmJiIiIh2dnYAAABC1PP/AAAAAXRSTlMAQObYZgAAAAlwSFlz\n",
       "AAAOxAAADsQBlSsOGwAAAV9JREFUKM9jYMACFqDxb87Gpoq3AV3kMTZlfQwMfG+roJx1z5OxK2NR\n",
       "YGDQYPCE2MxSwNDfgFUZ+wEGngkMfAkQB/xg8FdAVsabOXMSmMHKwMAmwMDxBcxhDmbgR1bGrOsA\n",
       "ZTUxMPAXMHD/gMn0HwAre3tnA5BcBFPFUMfA4A9U9gemfw7YCysb2EHO0IKbq8PAsP4BA/dfCI/7\n",
       "ojRY2TwG1gtArgJc2QyIsn9wS0E+ZYc4lTty5syZ08DMYKClDxiY/8KUsX4BKmOFeJwlAW5aMNgL\n",
       "HBAvcG9gYPsBVOZ/ASI5AdlStgQGHogt/F8gyvgPMDAYAPl34cpyGRh4AhjYFRhAfmcVgFgK9CYf\n",
       "KECY4PH9EGyi6waWT0AGzwFouL07cwXsODETqLKdQOz+FhgMM0HGmZejRj3zM2hkcW6AinA44EtI\n",
       "PAVQBh/+9JYFpX3xK3OD0hfwK+O6gJ4XggEP8GC0zvW1fAAAAABJRU5ErkJggg==\n",
       "\" style=\"display:inline;vertical-align:middle;\" /></a> <a class=\"ProveItLink\" href=\"../__pv_it/demonstrations/6b141f6692f539a812a0b248873a434137fb0ee00/proof.ipynb\" style=\"text-decoration: none\">&nbsp;&#x22A2;&nbsp;&nbsp;</a><a class=\"ProveItLink\" href=\"../__pv_it/demonstrations/633691462aa6e68c95ddaa8348081e8b86d8709d0/expr.ipynb\"><img src=\"data:image/png;base64,iVBORw0KGgoAAAANSUhEUgAAAEkAAAAVBAMAAAD4Ed5jAAAAMFBMVEX///9UVFQyMjK6urru7u4Q\n",
       "EBBERERmZmaqqqoiIiLc3NzMzMyYmJiIiIh2dnYAAABC1PP/AAAAAXRSTlMAQObYZgAAAAlwSFlz\n",
       "AAAOxAAADsQBlSsOGwAAATRJREFUKM9jYMAAN2ej8nlnbsBUxPAYXYDPALsqvrdVEDbXuzIDnKo0\n",
       "GDwXgNnuDBw/cKnimcDAlwBm329g+YSq6trMmQoQVWwCDBxfwGKmBgyoqoyuwM3iL2Dg/gHlcfyB\n",
       "qHp7B+RTLhWEjf5AVX+gPMsDYFUrG9hBbmBagFC1/gED918IZ6/gBrCqeQysF0CqGFBV/YPZCPYj\n",
       "O8SZDFtnAkEC1MYHDMx/YZriHYCqWCFeZnBDMgvoeg6I63czMOQ3AFX5X4DIcSKpYktg4IFY8d8B\n",
       "oor/AAMDyKe8F5BCNYCBXYHBAcgOhNoI9CAfOM41kGJoBoPrBmCgMzCcgYXXuzOQ4HRMdoCrcn8r\n",
       "zcAwE8hnLkePbbtMWAxBw8CBQMqBSDIQo8qXKFUX8Kp6iZ7upxoAAD/WXsPleoXEAAAAAElFTkSu\n",
       "QmCC\n",
       "\" style=\"display:inline;vertical-align:middle;\" /></a></span>"
      ],
      "text/plain": [
       "{c in (0,3]} |- c in [0,3]"
      ]
     },
     "metadata": {},
     "output_type": "display_data"
    }
   ],
   "source": [
    "# Element in half-open interval (0,3] means element in closed interval [0,3]\n",
    "InSet(c, IntervalOC(zero, three)).derive_relaxed_membership(\n",
    "        assumptions=[InSet(c, IntervalOC(zero, three))])"
   ]
  },
  {
   "cell_type": "code",
   "execution_count": 102,
   "metadata": {},
   "outputs": [
    {
     "data": {
      "text/html": [
       "<span style=\"font-size:20px;\"><a class=\"ProveItLink\" href=\"../__pv_it/demonstrations/385dea1a3a8a92a846cd6bef73134983a51801bb0/expr.ipynb\"><img src=\"data:image/png;base64,iVBORw0KGgoAAAANSUhEUgAAAEsAAAAVBAMAAAD85A5eAAAAMFBMVEX///9UVFQyMjK6urru7u4Q\n",
       "EBBERERmZmaqqqoiIiLc3NzMzMyYmJiIiIh2dnYAAABC1PP/AAAAAXRSTlMAQObYZgAAAAlwSFlz\n",
       "AAAOxAAADsQBlSsOGwAAAWdJREFUKM9jYMAAN2ejCSxgwAYeowvY4lLG97YKwuZ6V2bAwHsAhzIN\n",
       "Bk+ITe4MHD8YGFSwK+OZwMCXAGbfb2D5xMBwHEmWN3PmJKgyNgEGji9gtqkBA1AZqwNcFbOuA9w0\n",
       "/gIG7h9QHscfBgYmkOPe3tkAJBc5ICz1Byr7A+VZApXwCTAwrGxgB7lDC8lt6x8wcP+FcPYKAs3g\n",
       "UWBgmMfAegHIV0BT9g9mKdB2jgAGdohbuSNnzpw5DWbpAwbmvzBd8Q4M3B8YWCE+Z0lAMg3oBQ6I\n",
       "F3YzMOQ3MDAHMPhfgEhOQFLGlsDAA7HkvwNIGccEBn6gTwyAAneRgxfoFgUGkNcDwZbyJDAAvckH\n",
       "ChCmBqTImsHgugEU/AxnwOHG/oCB4d2ZK2DHiZkglLm/lWZgmAk0jrkcGPUMnAaIyGJ+Bo8saFDA\n",
       "A3wlvvTGBxepwafMFybAlYBP2QWYABvWVP4SPS/cYmAAAAwlYmYrfNNBAAAAAElFTkSuQmCC\n",
       "\" style=\"display:inline;vertical-align:middle;\" /></a> <a class=\"ProveItLink\" href=\"../__pv_it/demonstrations/ea074ad5ef2ed209bf9c825405030f68ca82556b0/proof.ipynb\" style=\"text-decoration: none\">&nbsp;&#x22A2;&nbsp;&nbsp;</a><a class=\"ProveItLink\" href=\"../__pv_it/demonstrations/633691462aa6e68c95ddaa8348081e8b86d8709d0/expr.ipynb\"><img src=\"data:image/png;base64,iVBORw0KGgoAAAANSUhEUgAAAEkAAAAVBAMAAAD4Ed5jAAAAMFBMVEX///9UVFQyMjK6urru7u4Q\n",
       "EBBERERmZmaqqqoiIiLc3NzMzMyYmJiIiIh2dnYAAABC1PP/AAAAAXRSTlMAQObYZgAAAAlwSFlz\n",
       "AAAOxAAADsQBlSsOGwAAATRJREFUKM9jYMAAN2ej8nlnbsBUxPAYXYDPALsqvrdVEDbXuzIDnKo0\n",
       "GDwXgNnuDBw/cKnimcDAlwBm329g+YSq6trMmQoQVWwCDBxfwGKmBgyoqoyuwM3iL2Dg/gHlcfyB\n",
       "qHp7B+RTLhWEjf5AVX+gPMsDYFUrG9hBbmBagFC1/gED918IZ6/gBrCqeQysF0CqGFBV/YPZCPYj\n",
       "O8SZDFtnAkEC1MYHDMx/YZriHYCqWCFeZnBDMgvoeg6I63czMOQ3AFX5X4DIcSKpYktg4IFY8d8B\n",
       "oor/AAMDyKe8F5BCNYCBXYHBAcgOhNoI9CAfOM41kGJoBoPrBmCgMzCcgYXXuzOQ4HRMdoCrcn8r\n",
       "zcAwE8hnLkePbbtMWAxBw8CBQMqBSDIQo8qXKFUX8Kp6iZ7upxoAAD/WXsPleoXEAAAAAElFTkSu\n",
       "QmCC\n",
       "\" style=\"display:inline;vertical-align:middle;\" /></a></span>"
      ],
      "text/plain": [
       "{c in [0,3)} |- c in [0,3]"
      ]
     },
     "metadata": {},
     "output_type": "display_data"
    }
   ],
   "source": [
    "# Element in half-open interval [0,3) means element in closed interval [0,3]\n",
    "InSet(c, IntervalCO(zero, three)).derive_relaxed_membership(\n",
    "        assumptions=[InSet(c, IntervalCO(zero, three))])"
   ]
  },
  {
   "cell_type": "markdown",
   "metadata": {},
   "source": [
    "### Testing the `InSet.deduce_in_bool()` methods<br>(indirectly testing the NumberSet.deduce_membership_in_bool() methods)"
   ]
  },
  {
   "cell_type": "code",
   "execution_count": 103,
   "metadata": {},
   "outputs": [
    {
     "data": {
      "text/html": [
       "<span style=\"font-size:20px;\"> <a class=\"ProveItLink\" href=\"../__pv_it/demonstrations/cccc57dccc630536d285b5d3ec69a26738fbd35d0/proof.ipynb\" style=\"text-decoration: none\">&nbsp;&#x22A2;&nbsp;&nbsp;</a><a class=\"ProveItLink\" href=\"../__pv_it/theorems/fd3e116ab274e83157eb57d4458fb8fde2eecc340/expr.ipynb\"><img src=\"data:image/png;base64,iVBORw0KGgoAAAANSUhEUgAAAGkAAAAVBAMAAAC3TN2zAAAAMFBMVEX////MzMxUVFRERES6uroi\n",
       "IiIQEBCYmJhmZmYyMjLu7u52dnaqqqqIiIjc3NwAAACW8nlqAAAAAXRSTlMAQObYZgAAAAlwSFlz\n",
       "AAAOxAAADsQBlSsOGwAAAbFJREFUOMtjYGB4wIAT8OGU4T2AKcY+zfhnmDkDA8sFNImryfOnBTkA\n",
       "GaexGcXMp8CibsXAcB1dwsCXb5YKAwPXBOy6NjAYCDEwcC5A1+XOsI+ZgYGjAJeuPk6gUxswddUw\n",
       "MTCwoXrSNDQSrgtoJkMWqjhYF9C0k8iaWOYuQNiltQjImI4qDtKlV83A0A1krr20cDc4JF8uQLiQ\n",
       "0WYekLGJAUUcGBprgzZADGvg1eUIAInNQ/grMz4WpLSSAUWcwcB12tcuBoYYoJcfsP9iAgfKBISu\n",
       "7VVgzjEGFHGQC697LmBIYWBgZOCACDOmhoaGBkNdaFUOYsijioN0MbNsAOkCBiQkDXAZIIW8BDPI\n",
       "hW6o4mBdDAYgFzIw+D/gAvs3AEkXhxxI7VEGFHGIrgkMtgwMix3UGLjBYneRdHEZgJJTMao4WBfP\n",
       "BVDQnpdqY/ABi3EegOtqYChndoBEDJI4g4E3w94dDAyiDAwr7vK0Q4S5lL1gaf7zA2bLPwwMISji\n",
       "DDeT7cFpnlUAJXFshqYcWAYLwC6OkT5RAPa0DQR2+HQ9xiWxGJ8unEbyXcCtiRdHmQIAYZ9rlH4f\n",
       "1XQAAAAASUVORK5CYII=\n",
       "\" style=\"display:inline;vertical-align:middle;\" /></a></span>"
      ],
      "text/plain": [
       "|- (x in Real) in BOOLEAN"
      ]
     },
     "metadata": {},
     "output_type": "display_data"
    }
   ],
   "source": [
    "InSet(x, Real).deduce_in_bool()"
   ]
  },
  {
   "cell_type": "code",
   "execution_count": 104,
   "metadata": {},
   "outputs": [
    {
     "data": {
      "text/html": [
       "<span style=\"font-size:20px;\"> <a class=\"ProveItLink\" href=\"../__pv_it/demonstrations/0c3ac6e5c44efbbb60101fa3db89c6c14569b4bf0/proof.ipynb\" style=\"text-decoration: none\">&nbsp;&#x22A2;&nbsp;&nbsp;</a><a class=\"ProveItLink\" href=\"../__pv_it/demonstrations/624237ba29aa0ce7b2b7158cb11f771d1e8bae2e0/expr.ipynb\"><img src=\"data:image/png;base64,iVBORw0KGgoAAAANSUhEUgAAAHgAAAAZBAMAAAAI4vceAAAAMFBMVEX///9UVFQiIiKIiIjMzMx2\n",
       "dnYQEBDc3NxEREQyMjLu7u5mZmaqqqq6urqYmJgAAAB66f/FAAAAAXRSTlMAQObYZgAAAAlwSFlz\n",
       "AAAOxAAADsQBlSsOGwAAAfRJREFUOMudlD1II0EUx//mw+xmnbhNwBO9IoIgFobAiSiINmdhkW1t\n",
       "RLTRym1tdLVaxZO1URCRDYJoZbTRSgIHV0oaCysDgoWgXOcHIs5MPnay2d2AA8sO789v3ps37z0A\n",
       "TwhaefopvmpbPhA26Bcz/NQTNIVx76duedgSO+Zb75YDh+x6Pdy7/jbbTUOa8TpRiqnk50YNDqtu\n",
       "naSXckUomjeswRiHYprzJo0g/t4Al6K6gfaiH3wh1zzjoBFOFFRk664zlEpZNVhy4Eu3zmALGZG9\n",
       "HRY8d+YceNCtk1LLsoYfdHt4hThLSWxPCDuyuevAdzw+QSfDmSRg0q32D4n/9C/rDrww0GNXKwzI\n",
       "jqFeJ32L/Ta2gUjhHC3MgywkbPrREu6zwtMqiwkLP+2hnz4E5tCapqbfKbqMStgbzwJ8ymFBJyUY\n",
       "N8wzyHs5rmPxqSYl4R1WeNjHomcYEocVq5zOkAgrE0I7ZHWXzmAZHWyrYpVXYVqA48aoA5ezLegM\n",
       "/stdKir55LZ9B87jWXKK7wEunWjRX3l+Zjw58sJtuT92tatedWn9owafoU4P065jXdXKj49W3uVm\n",
       "LWV51Xq1tl0666opHBUCJ0JDV1VWhPZzD5LB4ySh+ghdwPVIMRgO6d+bYQicYW1aU9Z/ejaZ2zyp\n",
       "trf9C6M9gQI01XWtAAAAAElFTkSuQmCC\n",
       "\" style=\"display:inline;vertical-align:middle;\" /></a></span>"
      ],
      "text/plain": [
       "|- (y in RealPos) in BOOLEAN"
      ]
     },
     "metadata": {},
     "output_type": "display_data"
    }
   ],
   "source": [
    "InSet(y, RealPos).deduce_in_bool()"
   ]
  },
  {
   "cell_type": "code",
   "execution_count": 105,
   "metadata": {},
   "outputs": [
    {
     "data": {
      "text/html": [
       "<span style=\"font-size:20px;\"> <a class=\"ProveItLink\" href=\"../__pv_it/demonstrations/f8f71db7851c66e8e9b4466ae7d4929d86d6c17e0/proof.ipynb\" style=\"text-decoration: none\">&nbsp;&#x22A2;&nbsp;&nbsp;</a><a class=\"ProveItLink\" href=\"../__pv_it/demonstrations/70ca9156affbe876fa827335ae8b9147dfda4d400/expr.ipynb\"><img src=\"data:image/png;base64,iVBORw0KGgoAAAANSUhEUgAAAHgAAAAZBAMAAAAI4vceAAAAMFBMVEX///9UVFQiIiKIiIjMzMx2\n",
       "dnYQEBDc3NxEREQyMjLu7u5mZmaqqqq6urqYmJgAAAB66f/FAAAAAXRSTlMAQObYZgAAAAlwSFlz\n",
       "AAAOxAAADsQBlSsOGwAAAcJJREFUOMtjYGB4y0AIcOOU4dlAUDN7Ay6ZlQyEwWNcEn1YxPimdfxU\n",
       "Q5JgWoAqz6zW+TNJFuikBGwmcrAL8Mp1IRQLoMvzGlQuvMDAHYBdcwBDgyMDSwcQtDMwcP3C0PyA\n",
       "taCBgf8CLs3bORH8eZia+Q4IMPijeMdCSWkCXDMHQnwHujxI8wQGI2S9N62QbJZaiJAwQ5fnfcBY\n",
       "F8AgCYpHUXMDcHzOQnI2S890hOb7C9Dkea2MRBkYOoDMawUc4BDhLEBoztRXRvKQvwOaPK9mvvYC\n",
       "honAsMxj4FYASyIFWNyrCUj+qb+AJs/7gPntLAZtYNL9wMAEjjA3JSBogDq76x2S5vUX0OR5HzA0\n",
       "XAXZzNYAlVyBHFXeHEjOrndAkwdp5gBpXm/A8B6SCpE1c7sjZQf/AjR5kGZOBgmg5gMMkjwgWWYD\n",
       "JM1cDXbooY0kD9J8GBSDHAY82pAsOweheQPDOw5E4nvGgCbPG8BqugFkJpdwSKEJWGxh7wJYrvpR\n",
       "wNH5B655IwOKPDMw14FyFRtK2r7apDQBW1qfh10ee65CAxi5CgpYEojQzCeAQ0KGCM1MBbQow3gC\n",
       "KCg9iSm3F2AXBwCqt3fRRj3OMgAAAABJRU5ErkJggg==\n",
       "\" style=\"display:inline;vertical-align:middle;\" /></a></span>"
      ],
      "text/plain": [
       "|- (a in RealNeg) in BOOLEAN"
      ]
     },
     "metadata": {},
     "output_type": "display_data"
    }
   ],
   "source": [
    "InSet(a, RealNeg).deduce_in_bool()"
   ]
  },
  {
   "cell_type": "code",
   "execution_count": 106,
   "metadata": {},
   "outputs": [
    {
     "data": {
      "text/html": [
       "<span style=\"font-size:20px;\"> <a class=\"ProveItLink\" href=\"../__pv_it/demonstrations/c0035e080243fd5b27385542706d249890d95bab0/proof.ipynb\" style=\"text-decoration: none\">&nbsp;&#x22A2;&nbsp;&nbsp;</a><a class=\"ProveItLink\" href=\"../__pv_it/demonstrations/0cf348f4cbc3eb659604362762850f73315e55c10/expr.ipynb\"><img src=\"data:image/png;base64,iVBORw0KGgoAAAANSUhEUgAAAH4AAAAaBAMAAACDaPX3AAAAMFBMVEX///9UVFQiIiKIiIjMzMx2\n",
       "dnYQEBDc3NxEREQyMjLu7u5mZmaqqqq6urqYmJgAAAB66f/FAAAAAXRSTlMAQObYZgAAAAlwSFlz\n",
       "AAAOxAAADsQBlSsOGwAAAjFJREFUOMtjYMADWHrBFGtwAD5Vb3FLLe0BkY8ZbjBw41TDswGP2cx9\n",
       "QCKFgb+AvQGXkpX43MbA18zA/ouB7QDQEThAHxZN0zp+qkHF+dJZfjEwPWBgWoDmMrXOn0myDAzs\n",
       "CQxcbQpoBnCwC/DKdYFYXBEXgPrZDBiYBdDV8BpULrzAwA0MW84NGPoDGBocgQz2jQ4g9/MfYOD6\n",
       "haH/AWtBAwP/BQaQNKb+7ZxA7YIO0PBjYJiHqZ/vgACDP9Bf92F+s1BSmgDXz8HAJV0A4hkzXASS\n",
       "O9DVgPRPYDACMoOgUjetkOyXWsjAtQCafnYBSTN0NbwPGOsCGCSBzInGMiAR9llI7mfpmY7qXogj\n",
       "kdTwWhmJMjB0AMP454L1IIdyFiD0Z+oro0WYPygokNXwauZrL2CYCEyB4AgCyiGFX9wroCdZOoCg\n",
       "HSpWf4EBVQ3vA+a3sxi0GRi4JzDwg3KImxIQNEDd3/UOLbzXg/UjqeF9wNBwFWQ/UwDDfVAMrkCO\n",
       "P28ONPfXg92/Atl+hgYOkH5g9O8HKWZC1s/tjpZj/ME+Z0LVz8kgAdTvwJUHTtIGSPq5GuywhT+S\n",
       "GpD+w6BoZXzAAUnAcxD6NzC847iAov8ZA5oa3gBW0w0gY7lE90GEFvYugOW/HwUcnX9Q9G9EVcMM\n",
       "zKOg/MeGbMvVJkjaxAbmYVfDjbdsQwCM/AcrIxOI088ngENChjj9TAVklX9wgLP84yEqAHCXv/jK\n",
       "f6RgXoBdHACqN5DwZUCiYQAAAABJRU5ErkJggg==\n",
       "\" style=\"display:inline;vertical-align:middle;\" /></a></span>"
      ],
      "text/plain": [
       "|- (b in RealNonNeg) in BOOLEAN"
      ]
     },
     "metadata": {},
     "output_type": "display_data"
    }
   ],
   "source": [
    "InSet(b, RealNonNeg).deduce_in_bool()"
   ]
  },
  {
   "cell_type": "code",
   "execution_count": 107,
   "metadata": {},
   "outputs": [
    {
     "data": {
      "text/html": [
       "<span style=\"font-size:20px;\"> <a class=\"ProveItLink\" href=\"../__pv_it/demonstrations/c0035e080243fd5b27385542706d249890d95bab0/proof.ipynb\" style=\"text-decoration: none\">&nbsp;&#x22A2;&nbsp;&nbsp;</a><a class=\"ProveItLink\" href=\"../__pv_it/demonstrations/0cf348f4cbc3eb659604362762850f73315e55c10/expr.ipynb\"><img src=\"data:image/png;base64,iVBORw0KGgoAAAANSUhEUgAAAH4AAAAaBAMAAACDaPX3AAAAMFBMVEX///9UVFQiIiKIiIjMzMx2\n",
       "dnYQEBDc3NxEREQyMjLu7u5mZmaqqqq6urqYmJgAAAB66f/FAAAAAXRSTlMAQObYZgAAAAlwSFlz\n",
       "AAAOxAAADsQBlSsOGwAAAjFJREFUOMtjYMADWHrBFGtwAD5Vb3FLLe0BkY8ZbjBw41TDswGP2cx9\n",
       "QCKFgb+AvQGXkpX43MbA18zA/ouB7QDQEThAHxZN0zp+qkHF+dJZfjEwPWBgWoDmMrXOn0myDAzs\n",
       "CQxcbQpoBnCwC/DKdYFYXBEXgPrZDBiYBdDV8BpULrzAwA0MW84NGPoDGBocgQz2jQ4g9/MfYOD6\n",
       "haH/AWtBAwP/BQaQNKb+7ZxA7YIO0PBjYJiHqZ/vgACDP9Bf92F+s1BSmgDXz8HAJV0A4hkzXASS\n",
       "O9DVgPRPYDACMoOgUjetkOyXWsjAtQCafnYBSTN0NbwPGOsCGCSBzInGMiAR9llI7mfpmY7qXogj\n",
       "kdTwWhmJMjB0AMP454L1IIdyFiD0Z+oro0WYPygokNXwauZrL2CYCEyB4AgCyiGFX9wroCdZOoCg\n",
       "HSpWf4EBVQ3vA+a3sxi0GRi4JzDwg3KImxIQNEDd3/UOLbzXg/UjqeF9wNBwFWQ/UwDDfVAMrkCO\n",
       "P28ONPfXg92/Atl+hgYOkH5g9O8HKWZC1s/tjpZj/ME+Z0LVz8kgAdTvwJUHTtIGSPq5GuywhT+S\n",
       "GpD+w6BoZXzAAUnAcxD6NzC847iAov8ZA5oa3gBW0w0gY7lE90GEFvYugOW/HwUcnX9Q9G9EVcMM\n",
       "zKOg/MeGbMvVJkjaxAbmYVfDjbdsQwCM/AcrIxOI088ngENChjj9TAVklX9wgLP84yEqAHCXv/jK\n",
       "f6RgXoBdHACqN5DwZUCiYQAAAABJRU5ErkJggg==\n",
       "\" style=\"display:inline;vertical-align:middle;\" /></a></span>"
      ],
      "text/plain": [
       "|- (b in RealNonNeg) in BOOLEAN"
      ]
     },
     "metadata": {},
     "output_type": "display_data"
    }
   ],
   "source": [
    "InSet(b, RealNonNeg).deduce_in_bool()"
   ]
  },
  {
   "cell_type": "markdown",
   "metadata": {},
   "source": [
    "## Misc Testing <a id='misc_testing'></a>"
   ]
  },
  {
   "cell_type": "markdown",
   "metadata": {},
   "source": [
    "### Testing automation methods<br>(indirectly testing the `RealIntervalMembership.conclude()` and `RealIntervalMembership.side_effects()` methods)"
   ]
  },
  {
   "cell_type": "markdown",
   "metadata": {},
   "source": [
    "First, define a few real intervals:"
   ]
  },
  {
   "cell_type": "code",
   "execution_count": 108,
   "metadata": {},
   "outputs": [
    {
     "data": {
      "text/html": [
       "<strong id=\"o_one_five_o\">o_one_five_o:</strong> <a class=\"ProveItLink\" href=\"../__pv_it/demonstrations/5bbadffa8ce6356d76bdc14733411cbc778bc4790/expr.ipynb\"><img src=\"data:image/png;base64,iVBORw0KGgoAAAANSUhEUgAAACkAAAAVBAMAAAAp9toTAAAAMFBMVEX////MzMxUVFRERES6uroi\n",
       "IiIQEBCYmJhmZmYyMjLu7u52dnaqqqqIiIjc3NwAAACW8nlqAAAAAXRSTlMAQObYZgAAAAlwSFlz\n",
       "AAAOxAAADsQBlSsOGwAAAPJJREFUGNNjYGB4wIAKwHzeAwgBRgaGdQy+INZpIBZdABFl+zk1ioG3\n",
       "gIGBawIDl8Z8qChrfjSQNYuBgQMow3AfKsoEJiuAmhgwRNkWMJzEFOUsYOhGEa3dJMDAwK3AMB1Z\n",
       "lHkB3xcGBvYJDDHIokBgysDAk8CQgiba/4CB8QOqqCVQVICBJQHVhFQGBn2gCQEMtjBRkMQGBoZk\n",
       "oG0GDJtAovsfMHD9BNIvGHizgN7dwCAK5CjlTypgCAUq5uvQAJKsDgysAlDLeeDueAo0pAHK5oY7\n",
       "rh2I7aDstTBBPgMgsRjKuQATZQZFEd8FtHi7x8AAANl6PKYMewKaAAAAAElFTkSuQmCC\n",
       "\" style=\"display:inline;vertical-align:middle;\" /></a><br>"
      ],
      "text/plain": [
       "<IPython.core.display.HTML object>"
      ]
     },
     "metadata": {},
     "output_type": "display_data"
    },
    {
     "data": {
      "text/html": [
       "<strong id=\"o_two_four_o\">o_two_four_o:</strong> <a class=\"ProveItLink\" href=\"../__pv_it/demonstrations/cfabe6da0a6a0967bc1b6ad7f6c4ba2c82aaad830/expr.ipynb\"><img src=\"data:image/png;base64,iVBORw0KGgoAAAANSUhEUgAAACkAAAAVBAMAAAAp9toTAAAAMFBMVEX////MzMxUVFRERES6uroi\n",
       "IiIQEBCYmJhmZmYyMjLu7u52dnaqqqqIiIjc3NwAAACW8nlqAAAAAXRSTlMAQObYZgAAAAlwSFlz\n",
       "AAAOxAAADsQBlSsOGwAAARFJREFUGNNd0L1Kw1AYxvF/0yambRpdnDpYegPGC1B7A0IoCA4OQXoB\n",
       "wUkX6WbFJZvgFHAWgjegq7hkcXEoWQSnUt10MJ7Pob7k6/lx8p6XA1Sslsq9p396IB8v8HG1Y6kx\n",
       "pZdCJyOMeBwZdQdwC36KU+ElRl+FnoEnrh+cX9PgXKiX8wxOjPOptdsW2k651u2WWudSuwNuVNoq\n",
       "1StMpa5lHKs4Ng2QGiRMZPIjrRdKG0utpxrDUmkrUR2CgoXU1nC4fVIQxOyK1Ic3crXck7tFPIgf\n",
       "j2azuPOtdF3s4BdsimHrus44lIv9/a8Sd4S7YU4gyO25vYsmU+ysti7FvWe+7y2Gcvg7E0qrzUqP\n",
       "vlpz+ANzhDazUZtnNgAAAABJRU5ErkJggg==\n",
       "\" style=\"display:inline;vertical-align:middle;\" /></a><br>"
      ],
      "text/plain": [
       "<IPython.core.display.HTML object>"
      ]
     },
     "metadata": {},
     "output_type": "display_data"
    }
   ],
   "source": [
    "o_one_five_o, o_two_four_o  = IntervalOO(one, five), IntervalOO(two, four)"
   ]
  },
  {
   "cell_type": "markdown",
   "metadata": {},
   "source": [
    "And some membership claims:"
   ]
  },
  {
   "cell_type": "code",
   "execution_count": 109,
   "metadata": {},
   "outputs": [
    {
     "data": {
      "text/html": [
       "<strong id=\"two_in_o_one_five_o\">two_in_o_one_five_o:</strong> <a class=\"ProveItLink\" href=\"../__pv_it/demonstrations/70a6d3e849d87021cab1556e05f1e4727f34a1040/expr.ipynb\"><img src=\"data:image/png;base64,iVBORw0KGgoAAAANSUhEUgAAAE4AAAAVBAMAAAAazcUaAAAAMFBMVEX///+qqqqYmJiIiIgiIiLu\n",
       "7u4QEBBUVFS6urp2dnbMzMxEREQyMjJmZmbc3NwAAADzFso2AAAAAXRSTlMAQObYZgAAAAlwSFlz\n",
       "AAAOxAAADsQBlSsOGwAAAXVJREFUKM9jYMAC+AjwYcAQib2AgfUBhwFQ7d3TC9CUMU5gYOByhXLy\n",
       "z7gEMBgxMLxm4PyBpi6GgSH8zlcox+3LVAYGngCGOgaGNDR1l4CYGaauAEQwXWDID2CofwAWsXZx\n",
       "OQBmJGCoY0hlKGFgqAc7sMcU5rwDmOoOgQh/sN+PwqzlnYCsrsiyCkhOB2KuzyA+zwOYOh4FZHVb\n",
       "Gd43MDDoAFksYKN54N5gEUBWx8DA7cDAIAakb4N5y1yAYAOIxdaAqo73HwPDeqCfIS6NhoujqOM+\n",
       "wMD7i4GhjYFBkoEP5DQW7PayOTCwf2BgEGHgmsDAHACSMIC7xwCqjhVIcwKVAl2jzfDk7t0rYOmD\n",
       "MHWcIIdwAh0VDwxIvgsMZkBjbjL4////BywdviMAoo4L6D/2sj9FDCygtPD2+lUg6YEUrZ1boPHm\n",
       "BRMRhSdAB2zJTxfGmAAPGgVs6rihUcMK99prrMmZdQOEZoaL7MOe7h+j8ZkfMAAA9bVWkjIQ0hMA\n",
       "AAAASUVORK5CYII=\n",
       "\" style=\"display:inline;vertical-align:middle;\" /></a><br>"
      ],
      "text/plain": [
       "<IPython.core.display.HTML object>"
      ]
     },
     "metadata": {},
     "output_type": "display_data"
    },
    {
     "data": {
      "text/html": [
       "<strong id=\"x_in_o_two_four_o\">x_in_o_two_four_o:</strong> <a class=\"ProveItLink\" href=\"../__pv_it/demonstrations/cebd24bf75a49e365063129ec090d80caba7d6950/expr.ipynb\"><img src=\"data:image/png;base64,iVBORw0KGgoAAAANSUhEUgAAAFEAAAAVBAMAAADMaB9/AAAAMFBMVEX///9ERES6uroQEBAyMjLc\n",
       "3NyYmJgiIiJmZmaqqqp2dnbMzMxUVFSIiIju7u4AAAAd7oVFAAAAAXRSTlMAQObYZgAAAAlwSFlz\n",
       "AAAOxAAADsQBlSsOGwAAAYRJREFUKM9jYMAGWNEFAhhwgJvoAro4FHIuYGDtcNwA43I3MPAmYFf5\n",
       "hIEhkIHrE4zLfoCBwQ+7yjYGhqMMDMYw7nWgygwUBbzi5SVghgEDg/0DhvNQb3CnAFUyP0BSyOQL\n",
       "5XE6MDAcZ2A4D3UoFwtQJQvQoW/vvF41ASQSAtPGsQBM1UO5V0EquYC4gfcsRwFIxBVmOAvYo9x/\n",
       "oWGbAFLJ5sDAFsD2jwcs5QD36wSYj8GWM4BUchowcDNwQJRwm5eXlxeCWMwKILIRqi8VrJL7A0ji\n",
       "AliETwBmJlglG9RI1gtglUzA8GDQD+AD+6UAxfZZDKzgUGI6c+a8zQIGzgKGhwqHgU4BgbswlYxA\n",
       "S7gXMPA+4IPaAfKRAMP8fc0MmhAvT4CqBIVIeEdHO8N7iA/4BcAh9+IuZxtECd9BPWikAN1R////\n",
       "Fwb2OnDwyv+5wMCugBybTAuhsVkNE5kHlwvHnkLgyWEBcqLBBhihaYPvAjwTCGBXCQtaXgy9GCAW\n",
       "XeAqAwMAiwxW76J0hucAAAAASUVORK5CYII=\n",
       "\" style=\"display:inline;vertical-align:middle;\" /></a><br>"
      ],
      "text/plain": [
       "<IPython.core.display.HTML object>"
      ]
     },
     "metadata": {},
     "output_type": "display_data"
    }
   ],
   "source": [
    "two_in_o_one_five_o, x_in_o_two_four_o = InSet(two, o_one_five_o), InSet(x, o_two_four_o)"
   ]
  },
  {
   "cell_type": "markdown",
   "metadata": {},
   "source": [
    "Testing (indirectly) the RealIntervalMembership.conclude() method:"
   ]
  },
  {
   "cell_type": "code",
   "execution_count": 110,
   "metadata": {},
   "outputs": [
    {
     "data": {
      "text/html": [
       "<span style=\"font-size:20px;\"> <a class=\"ProveItLink\" href=\"../__pv_it/demonstrations/f2181e5e8fc55e77cc84f6f35edb1e23127d8c380/proof.ipynb\" style=\"text-decoration: none\">&nbsp;&#x22A2;&nbsp;&nbsp;</a><a class=\"ProveItLink\" href=\"../__pv_it/demonstrations/70a6d3e849d87021cab1556e05f1e4727f34a1040/expr.ipynb\"><img src=\"data:image/png;base64,iVBORw0KGgoAAAANSUhEUgAAAE4AAAAVBAMAAAAazcUaAAAAMFBMVEX///+qqqqYmJiIiIgiIiLu\n",
       "7u4QEBBUVFS6urp2dnbMzMxEREQyMjJmZmbc3NwAAADzFso2AAAAAXRSTlMAQObYZgAAAAlwSFlz\n",
       "AAAOxAAADsQBlSsOGwAAAXVJREFUKM9jYMAC+AjwYcAQib2AgfUBhwFQ7d3TC9CUMU5gYOByhXLy\n",
       "z7gEMBgxMLxm4PyBpi6GgSH8zlcox+3LVAYGngCGOgaGNDR1l4CYGaauAEQwXWDID2CofwAWsXZx\n",
       "OQBmJGCoY0hlKGFgqAc7sMcU5rwDmOoOgQh/sN+PwqzlnYCsrsiyCkhOB2KuzyA+zwOYOh4FZHVb\n",
       "Gd43MDDoAFksYKN54N5gEUBWx8DA7cDAIAakb4N5y1yAYAOIxdaAqo73HwPDeqCfIS6NhoujqOM+\n",
       "wMD7i4GhjYFBkoEP5DQW7PayOTCwf2BgEGHgmsDAHACSMIC7xwCqjhVIcwKVAl2jzfDk7t0rYOmD\n",
       "MHWcIIdwAh0VDwxIvgsMZkBjbjL4////BywdviMAoo4L6D/2sj9FDCygtPD2+lUg6YEUrZ1boPHm\n",
       "BRMRhSdAB2zJTxfGmAAPGgVs6rihUcMK99prrMmZdQOEZoaL7MOe7h+j8ZkfMAAA9bVWkjIQ0hMA\n",
       "AAAASUVORK5CYII=\n",
       "\" style=\"display:inline;vertical-align:middle;\" /></a></span>"
      ],
      "text/plain": [
       "|- 2 in (1,5)"
      ]
     },
     "metadata": {},
     "output_type": "display_data"
    }
   ],
   "source": [
    "two_in_o_one_five_o.prove()"
   ]
  },
  {
   "cell_type": "code",
   "execution_count": 111,
   "metadata": {},
   "outputs": [
    {
     "data": {
      "text/html": [
       "<span style=\"font-size:20px;\"><a class=\"ProveItLink\" href=\"../../../ordering/__pv_it/theorems/d1323f34847310a404e8089c2c268d3c2eb89dbf0/expr.ipynb\"><img src=\"data:image/png;base64,iVBORw0KGgoAAAANSUhEUgAAADQAAAAQBAMAAACra0H4AAAAMFBMVEX///9ERES6uroQEBAyMjLc\n",
       "3NyYmJgiIiJmZmaqqqp2dnbMzMxUVFSIiIju7u4AAAAd7oVFAAAAAXRSTlMAQObYZgAAAAlwSFlz\n",
       "AAAOxAAADsQBlSsOGwAAAMtJREFUGNNjYMAAbM6CX4rFGLACRtYDTMfkcEgtYBDYg1OqlQVF6GJ5\n",
       "uQNcihFZRuUekq5zb4CMt3der5oApFn9kAzklnQFMhp4z3IUAGmWAISUSX3tA6AvAtj+8SSApJCc\n",
       "sSwPZCk3AwfYbobN5UAgADVQLg0sxnwBTD1EdvwOxgcgln4AH4hmR5bi2ArU/1DhMAMXSID3ApIU\n",
       "n8A1Bob5+5oZNMEingipBoY0RgWGF3c52yaARd4IPYCF/McARpGfyMGhJQ4JKCgAAF8xNF8aQs/g\n",
       "AAAAAElFTkSuQmCC\n",
       "\" style=\"display:inline;vertical-align:middle;\" /></a>, <a class=\"ProveItLink\" href=\"../__pv_it/demonstrations/b8a9dd85b926c4fe43daf96b2bdb0cfe1f5b569e0/expr.ipynb\"><img src=\"data:image/png;base64,iVBORw0KGgoAAAANSUhEUgAAAFYAAAAQBAMAAAB+eZW1AAAAMFBMVEX///+qqqqYmJiIiIgiIiLu\n",
       "7u4QEBBUVFS6urp2dnbMzMxEREQyMjJmZmbc3NwAAADzFso2AAAAAXRSTlMAQObYZgAAAAlwSFlz\n",
       "AAAOxAAADsQBlSsOGwAAARNJREFUKM9j4Lt7egEDMWAtA8NrBs4fRKl1Z2CoY2BII0YpM1BtfgBD\n",
       "/QOYAOM5TEUyENlFxxkYShgY6mEOZvINwFCqchVCTzgOpvxh1nhClLIal66cCBUzmQqVewBWy/UZ\n",
       "wo10hsrzMpgbXIHommIAFXvEAFbLUgDmvXWCWavHoB9QBGLwXVGAiU2AqL0N5rAfhDtxAcMdCKNG\n",
       "ACbE9ACslqkAXS0DQzK62scMYLWSDHwPUN3AwPGPIRTVDe3l5d8qGbgmMDAHoPiNdQd7AtB9qH5j\n",
       "YEhnYHhy9+4VKC/YGayJ8VdsAgfUdlYTU5ja38DA/f//D9wH4ABmvWwgq4iIC2gA3/5fjBpJTFji\n",
       "WOcBAxkAAI2uRpSfakGnAAAAAElFTkSuQmCC\n",
       "\" style=\"display:inline;vertical-align:middle;\" /></a> <a class=\"ProveItLink\" href=\"../__pv_it/demonstrations/f0bba25a9b36fd2b7303b690a759db0aeb22b5560/proof.ipynb\" style=\"text-decoration: none\">&nbsp;&#x22A2;&nbsp;&nbsp;</a><a class=\"ProveItLink\" href=\"../__pv_it/demonstrations/cebd24bf75a49e365063129ec090d80caba7d6950/expr.ipynb\"><img src=\"data:image/png;base64,iVBORw0KGgoAAAANSUhEUgAAAFEAAAAVBAMAAADMaB9/AAAAMFBMVEX///9ERES6uroQEBAyMjLc\n",
       "3NyYmJgiIiJmZmaqqqp2dnbMzMxUVFSIiIju7u4AAAAd7oVFAAAAAXRSTlMAQObYZgAAAAlwSFlz\n",
       "AAAOxAAADsQBlSsOGwAAAYRJREFUKM9jYMAGWNEFAhhwgJvoAro4FHIuYGDtcNwA43I3MPAmYFf5\n",
       "hIEhkIHrE4zLfoCBwQ+7yjYGhqMMDMYw7nWgygwUBbzi5SVghgEDg/0DhvNQb3CnAFUyP0BSyOQL\n",
       "5XE6MDAcZ2A4D3UoFwtQJQvQoW/vvF41ASQSAtPGsQBM1UO5V0EquYC4gfcsRwFIxBVmOAvYo9x/\n",
       "oWGbAFLJ5sDAFsD2jwcs5QD36wSYj8GWM4BUchowcDNwQJRwm5eXlxeCWMwKILIRqi8VrJL7A0ji\n",
       "AliETwBmJlglG9RI1gtglUzA8GDQD+AD+6UAxfZZDKzgUGI6c+a8zQIGzgKGhwqHgU4BgbswlYxA\n",
       "S7gXMPA+4IPaAfKRAMP8fc0MmhAvT4CqBIVIeEdHO8N7iA/4BcAh9+IuZxtECd9BPWikAN1R////\n",
       "Fwb2OnDwyv+5wMCugBybTAuhsVkNE5kHlwvHnkLgyWEBcqLBBhihaYPvAjwTCGBXCQtaXgy9GCAW\n",
       "XeAqAwMAiwxW76J0hucAAAAASUVORK5CYII=\n",
       "\" style=\"display:inline;vertical-align:middle;\" /></a></span>"
      ],
      "text/plain": [
       "{x in Real, 2 < x < 4} |- x in (2,4)"
      ]
     },
     "metadata": {},
     "output_type": "display_data"
    }
   ],
   "source": [
    "x_in_o_two_four_o.prove(assumptions=[InSet(x, Real), number_ordering(Less(two, x), Less(x, four))])"
   ]
  },
  {
   "cell_type": "markdown",
   "metadata": {},
   "source": [
    "Testing (indirectly) the RealIntervalMembership.side_effects() method:"
   ]
  },
  {
   "cell_type": "markdown",
   "metadata": {},
   "source": [
    "… some set membership deductions and lower bounds"
   ]
  },
  {
   "cell_type": "code",
   "execution_count": 112,
   "metadata": {},
   "outputs": [
    {
     "data": {
      "text/html": [
       "<span style=\"font-size:20px;\"><a class=\"ProveItLink\" href=\"../__pv_it/demonstrations/a995c7e26d51f616537f7ff7b042aad0a47df1640/expr.ipynb\"><img src=\"data:image/png;base64,iVBORw0KGgoAAAANSUhEUgAAAFEAAAAVBAMAAADMaB9/AAAAMFBMVEX///9ERES6uroQEBAyMjLc\n",
       "3NyYmJgiIiJmZmaqqqp2dnbMzMxUVFSIiIju7u4AAAAd7oVFAAAAAXRSTlMAQObYZgAAAAlwSFlz\n",
       "AAAOxAAADsQBlSsOGwAAAY1JREFUKM91kz1Iw1AQx//9SprGhG6OBhzEQS04uAjWwVGpIHQSnMSx\n",
       "gpBBsBahZszsoHHt1F2UioiL0i4OgsUIDgURRYrgoPF95MW0Td+QvLv75e79712AqJXqdxQwZD30\n",
       "O6aGgIqDlLVY9/PXKga0jWjyBVhF5pMbHSjfwEo0WQWugVluPNl6F9jqAbRRc4dtcsCCiyaXMW6A\n",
       "kAk3BMaXfUvJAzdAsy6O/QUkyUHfHl9rNnWsic/SDnuVRYoJQmUawL52ly5Rx5KIJJlQ9cc3z29J\n",
       "cikPqSD9jrBQXpAyKyE3gqYR7UoOKtIcUedM09ymu4RBn5V/BUSe+kEDLWbqWRFgpCRSngFjNuKk\n",
       "H5gp6ExLqaf6EVK8S55LSaWEZ+MKGeZqCzJGiqgONFen1jyrLmVxcnGASS7Z9knakaJlHeKdKthk\n",
       "/SSd67SVKkf0y2lOquQcZc/rQt6jF2KRCYFshG8zfurf5q7wHAexYvSEBOPghIcmasX8EddbwU+Q\n",
       "jSZFa7WBbwfWer/jHvgDCB1aQrmr0ckAAAAASUVORK5CYII=\n",
       "\" style=\"display:inline;vertical-align:middle;\" /></a> <a class=\"ProveItLink\" href=\"../__pv_it/demonstrations/e273847cf3d70f737065586b2bb74aab05976ca00/proof.ipynb\" style=\"text-decoration: none\">&nbsp;&#x22A2;&nbsp;&nbsp;</a><a class=\"ProveItLink\" href=\"../../../ordering/__pv_it/theorems/d1323f34847310a404e8089c2c268d3c2eb89dbf0/expr.ipynb\"><img src=\"data:image/png;base64,iVBORw0KGgoAAAANSUhEUgAAADQAAAAQBAMAAACra0H4AAAAMFBMVEX///9ERES6uroQEBAyMjLc\n",
       "3NyYmJgiIiJmZmaqqqp2dnbMzMxUVFSIiIju7u4AAAAd7oVFAAAAAXRSTlMAQObYZgAAAAlwSFlz\n",
       "AAAOxAAADsQBlSsOGwAAAMtJREFUGNNjYMAAbM6CX4rFGLACRtYDTMfkcEgtYBDYg1OqlQVF6GJ5\n",
       "uQNcihFZRuUekq5zb4CMt3der5oApFn9kAzklnQFMhp4z3IUAGmWAISUSX3tA6AvAtj+8SSApJCc\n",
       "sSwPZCk3AwfYbobN5UAgADVQLg0sxnwBTD1EdvwOxgcgln4AH4hmR5bi2ArU/1DhMAMXSID3ApIU\n",
       "n8A1Bob5+5oZNMEingipBoY0RgWGF3c52yaARd4IPYCF/McARpGfyMGhJQ4JKCgAAF8xNF8aQs/g\n",
       "AAAAAElFTkSuQmCC\n",
       "\" style=\"display:inline;vertical-align:middle;\" /></a></span>"
      ],
      "text/plain": [
       "{x in (2,3)} |- x in Real"
      ]
     },
     "metadata": {},
     "output_type": "display_data"
    }
   ],
   "source": [
    "InSet(x, Real).prove(assumptions=[InSet(x, IntervalOO(two, three))])"
   ]
  },
  {
   "cell_type": "code",
   "execution_count": 113,
   "metadata": {},
   "outputs": [
    {
     "data": {
      "text/html": [
       "<span style=\"font-size:20px;\"><a class=\"ProveItLink\" href=\"../__pv_it/demonstrations/644bc1ddec512b2df72e4e98af44823109ca91070/expr.ipynb\"><img src=\"data:image/png;base64,iVBORw0KGgoAAAANSUhEUgAAAE8AAAAVBAMAAAD1D64kAAAAMFBMVEX///9ERES6uroQEBAyMjLc\n",
       "3NyYmJgiIiJmZmaqqqp2dnbMzMxUVFSIiIju7u4AAAAd7oVFAAAAAXRSTlMAQObYZgAAAAlwSFlz\n",
       "AAAOxAAADsQBlSsOGwAAAVNJREFUKM9jYMAGWNH4vOUbsKpjuIkuwKWAVR3nAgbWVY1wOe4GXAqf\n",
       "MDC8YOD8CeOyH8ClsI2B4f4Evi8w7nV0hbzi5SVghgEDg7ICA0whdwqaQibfB1AnOoDJbzCPsEAU\n",
       "vr3zetUEkEAIVB0DxwIQqZ4A5V6FKmzgPctRABJwhRnNAlKy9ww06FgTIArZAtj+8YA1O8B9CbYA\n",
       "5msuBohCbgYOiApu8/Ly8kIQixnicnuIU1KhCoHiF8ACfAIwE0EKdzMwyIMNZr0AV6gfwAfWW4Bs\n",
       "9f8HUIVMZ86ct1kAVPhQ4TDQGSBwF6aQEWiFDchqPqgNYBPn72tm0IR4dgIs4A4wMKSBwvE9xPX8\n",
       "AiCFL+5ytkFU8B3Ug0YF0BFMHcBEwV4HDlb5PxdQo5BpITQKq2Ei8wgkswwYYwEBhYwBEJrvAgGF\n",
       "sCDlJZTCGWLR80yxAgBpBlPxTHyIUQAAAABJRU5ErkJggg==\n",
       "\" style=\"display:inline;vertical-align:middle;\" /></a> <a class=\"ProveItLink\" href=\"../__pv_it/demonstrations/8634a858d1505e8998cbf0d7fb6c64969ad2862f0/proof.ipynb\" style=\"text-decoration: none\">&nbsp;&#x22A2;&nbsp;&nbsp;</a><a class=\"ProveItLink\" href=\"../../../ordering/__pv_it/theorems/d1323f34847310a404e8089c2c268d3c2eb89dbf0/expr.ipynb\"><img src=\"data:image/png;base64,iVBORw0KGgoAAAANSUhEUgAAADQAAAAQBAMAAACra0H4AAAAMFBMVEX///9ERES6uroQEBAyMjLc\n",
       "3NyYmJgiIiJmZmaqqqp2dnbMzMxUVFSIiIju7u4AAAAd7oVFAAAAAXRSTlMAQObYZgAAAAlwSFlz\n",
       "AAAOxAAADsQBlSsOGwAAAMtJREFUGNNjYMAAbM6CX4rFGLACRtYDTMfkcEgtYBDYg1OqlQVF6GJ5\n",
       "uQNcihFZRuUekq5zb4CMt3der5oApFn9kAzklnQFMhp4z3IUAGmWAISUSX3tA6AvAtj+8SSApJCc\n",
       "sSwPZCk3AwfYbobN5UAgADVQLg0sxnwBTD1EdvwOxgcgln4AH4hmR5bi2ArU/1DhMAMXSID3ApIU\n",
       "n8A1Bob5+5oZNMEingipBoY0RgWGF3c52yaARd4IPYCF/McARpGfyMGhJQ4JKCgAAF8xNF8aQs/g\n",
       "AAAAAElFTkSuQmCC\n",
       "\" style=\"display:inline;vertical-align:middle;\" /></a></span>"
      ],
      "text/plain": [
       "{x in (3,4]} |- x in Real"
      ]
     },
     "metadata": {},
     "output_type": "display_data"
    }
   ],
   "source": [
    "InSet(x, Real).prove(assumptions=[InSet(x, IntervalOC(three, four))])"
   ]
  },
  {
   "cell_type": "code",
   "execution_count": 114,
   "metadata": {},
   "outputs": [
    {
     "data": {
      "text/html": [
       "<span style=\"font-size:20px;\"><a class=\"ProveItLink\" href=\"../__pv_it/demonstrations/0ae95dc44b29a27c3fa7f908aae356c8f5c75c140/expr.ipynb\"><img src=\"data:image/png;base64,iVBORw0KGgoAAAANSUhEUgAAAE8AAAAVBAMAAAD1D64kAAAAMFBMVEX///9ERES6uroQEBAyMjLc\n",
       "3NyYmJgiIiJmZmaqqqp2dnbMzMxUVFSIiIju7u4AAAAd7oVFAAAAAXRSTlMAQObYZgAAAAlwSFlz\n",
       "AAAOxAAADsQBlSsOGwAAAX5JREFUKM99kztLA0EQx/95XXKX3BIrG9EUNhaaNGIhSBpL5QrBUkHQ\n",
       "NOIJynUiKEFsvE/gJYUgwSKfwAc2WghphBQJnGAhiChY+CjUud24uTynOHb+89vZmdtZoNN0q9ym\n",
       "GOhqWqpdGe8NlqqNLKx0moK+3AsM22xbODHgFpjvBa4BReGsAo9ArrWJQWurAQ4BjsvFMw6GXB8X\n",
       "nHNlxk/gwuaOM4w8EKYiX2rPJa4tuPJo5oGigcRvlaLaJbCr38VMT5pt1hj5JrAivKMP6l/JQjGU\n",
       "nwTfnG0DC9xRT0a+6JtBHDFBxKcsy9psHE1gWmTMQX13EX+jZUgoLOn7PVSjI5qZAZZsBDO0TBuM\n",
       "t2H6wAFgg4uMUlFlqomH1DU0Hq/7wBVgH8xzJoGAASUJ53wPYzwetptg1GbTePWKH3WxThdZwFNd\n",
       "zQuCXU1IkB3WyojueD3eHNCMRFsGKliUVyjsWIYW+89jQUr5viCr/CuRZF9Ql0qg+1vQOt7MPfAH\n",
       "FGZa1jQWo5QAAAAASUVORK5CYII=\n",
       "\" style=\"display:inline;vertical-align:middle;\" /></a> <a class=\"ProveItLink\" href=\"../__pv_it/demonstrations/cbe146688743cbdd3b7fa0763f172189f98439ec0/proof.ipynb\" style=\"text-decoration: none\">&nbsp;&#x22A2;&nbsp;&nbsp;</a><a class=\"ProveItLink\" href=\"../../../ordering/__pv_it/theorems/d1323f34847310a404e8089c2c268d3c2eb89dbf0/expr.ipynb\"><img src=\"data:image/png;base64,iVBORw0KGgoAAAANSUhEUgAAADQAAAAQBAMAAACra0H4AAAAMFBMVEX///9ERES6uroQEBAyMjLc\n",
       "3NyYmJgiIiJmZmaqqqp2dnbMzMxUVFSIiIju7u4AAAAd7oVFAAAAAXRSTlMAQObYZgAAAAlwSFlz\n",
       "AAAOxAAADsQBlSsOGwAAAMtJREFUGNNjYMAAbM6CX4rFGLACRtYDTMfkcEgtYBDYg1OqlQVF6GJ5\n",
       "uQNcihFZRuUekq5zb4CMt3der5oApFn9kAzklnQFMhp4z3IUAGmWAISUSX3tA6AvAtj+8SSApJCc\n",
       "sSwPZCk3AwfYbobN5UAgADVQLg0sxnwBTD1EdvwOxgcgln4AH4hmR5bi2ArU/1DhMAMXSID3ApIU\n",
       "n8A1Bob5+5oZNMEingipBoY0RgWGF3c52yaARd4IPYCF/McARpGfyMGhJQ4JKCgAAF8xNF8aQs/g\n",
       "AAAAAElFTkSuQmCC\n",
       "\" style=\"display:inline;vertical-align:middle;\" /></a></span>"
      ],
      "text/plain": [
       "{x in [0,8)} |- x in Real"
      ]
     },
     "metadata": {},
     "output_type": "display_data"
    }
   ],
   "source": [
    "InSet(x, Real).prove(assumptions=[InSet(x, IntervalCO(zero, eight))])"
   ]
  },
  {
   "cell_type": "code",
   "execution_count": 115,
   "metadata": {},
   "outputs": [
    {
     "data": {
      "text/html": [
       "<span style=\"font-size:20px;\"><a class=\"ProveItLink\" href=\"../__pv_it/demonstrations/084d11966526f2377c09a43663c044a26a5dfc800/expr.ipynb\"><img src=\"data:image/png;base64,iVBORw0KGgoAAAANSUhEUgAAAE0AAAAVBAMAAADx+n4ZAAAAMFBMVEX///9ERES6uroQEBAyMjLc\n",
       "3NyYmJgiIiJmZmaqqqp2dnbMzMxUVFSIiIju7u4AAAAd7oVFAAAAAXRSTlMAQObYZgAAAAlwSFlz\n",
       "AAAOxAAADsQBlSsOGwAAATFJREFUKM9jYMACrlej8nnLN2BTxrAIic3NwPCUgUsBpzruBgib+Yt7\n",
       "HT517AcgbHb7qgf41F2HquMBEajqeMXLS2DquFNwqmPyfYAwj4sFXd3bO69XTQBxQh4g2XsVri53\n",
       "zQawugbesxwFIBFXJPexJsDUMT5g/QRSxxbA9o8nASTigKSOiwGmDgjEQeq4GTggCrjNy8vLC6Hq\n",
       "UpHV9QeA/cF8AczjE0CYx3oBrk4EqG4DWJ1+AB/YBwUIdUxnzpy3WQBmmzMwnAfZ+1DhMNA1IHAX\n",
       "JZyZDzDwgdhA1YYgdfP3NTNogmVZJiCr4xdgeA9yeAQDrx1I3Yu7nG0QBXwH9RDqOOT/XGCvA7JZ\n",
       "O06gxy/TQkS8gcE8mAyedAB1GzHq+C4Qp46XgYC65ej5o1gBAMcVUyzKRi/OAAAAAElFTkSuQmCC\n",
       "\" style=\"display:inline;vertical-align:middle;\" /></a> <a class=\"ProveItLink\" href=\"../__pv_it/demonstrations/9b64973076a583129260747637da75c865b1bb390/proof.ipynb\" style=\"text-decoration: none\">&nbsp;&#x22A2;&nbsp;&nbsp;</a><a class=\"ProveItLink\" href=\"../../../ordering/__pv_it/theorems/d1323f34847310a404e8089c2c268d3c2eb89dbf0/expr.ipynb\"><img src=\"data:image/png;base64,iVBORw0KGgoAAAANSUhEUgAAADQAAAAQBAMAAACra0H4AAAAMFBMVEX///9ERES6uroQEBAyMjLc\n",
       "3NyYmJgiIiJmZmaqqqp2dnbMzMxUVFSIiIju7u4AAAAd7oVFAAAAAXRSTlMAQObYZgAAAAlwSFlz\n",
       "AAAOxAAADsQBlSsOGwAAAMtJREFUGNNjYMAAbM6CX4rFGLACRtYDTMfkcEgtYBDYg1OqlQVF6GJ5\n",
       "uQNcihFZRuUekq5zb4CMt3der5oApFn9kAzklnQFMhp4z3IUAGmWAISUSX3tA6AvAtj+8SSApJCc\n",
       "sSwPZCk3AwfYbobN5UAgADVQLg0sxnwBTD1EdvwOxgcgln4AH4hmR5bi2ArU/1DhMAMXSID3ApIU\n",
       "n8A1Bob5+5oZNMEingipBoY0RgWGF3c52yaARd4IPYCF/McARpGfyMGhJQ4JKCgAAF8xNF8aQs/g\n",
       "AAAAAElFTkSuQmCC\n",
       "\" style=\"display:inline;vertical-align:middle;\" /></a></span>"
      ],
      "text/plain": [
       "{x in [4,5]} |- x in Real"
      ]
     },
     "metadata": {},
     "output_type": "display_data"
    }
   ],
   "source": [
    "InSet(x, Real).prove(assumptions=[InSet(x, IntervalCC(four, five))])"
   ]
  },
  {
   "cell_type": "code",
   "execution_count": 116,
   "metadata": {},
   "outputs": [
    {
     "name": "stdout",
     "output_type": "stream",
     "text": [
      "Exception: Unable to prove x in Real assuming {x in [a,b]}:\n",
      "x has no 'deduce_in_number_set' method.\n"
     ]
    }
   ],
   "source": [
    "# if we don't have enough information about the nature of the endpts\n",
    "# then x \\in IntervalXX(a, b) still leaves us adrift\n",
    "try:\n",
    "    InSet(x, Real).prove(assumptions=[InSet(x, IntervalCC(a, b))])\n",
    "except Exception as e:\n",
    "    print(\"Exception: {}\".format(e))"
   ]
  },
  {
   "cell_type": "code",
   "execution_count": 117,
   "metadata": {},
   "outputs": [
    {
     "data": {
      "text/html": [
       "<span style=\"font-size:20px;\"><a class=\"ProveItLink\" href=\"../../../ordering/__pv_it/theorems/4aa8d696b1f407d6126de9f51a052e8d90e0848c0/expr.ipynb\"><img src=\"data:image/png;base64,iVBORw0KGgoAAAANSUhEUgAAADMAAAAQBAMAAABJt1qBAAAAMFBMVEX////MzMwyMjKqqqoiIiJm\n",
       "ZmaYmJju7u5EREQQEBC6urqIiIh2dnZUVFTc3NwAAAAqL9KcAAAAAXRSTlMAQObYZgAAAAlwSFlz\n",
       "AAAOxAAADsQBlSsOGwAAAM1JREFUGNNjYMAASTP6VWYkMGAFDW8Z1mYUYJd6w8DBeAGXFOsDBRSh\n",
       "HS4uCnCpBmSZRdsRunjLQQby3dm3ASTAp45koITRAyBj5QOO7yABpgdwqZcqX0AmsE9jYHUASyE5\n",
       "I60IRLN+YGA5AGJIugBBA0SKowzkZc4GhvoFIIEKJF2MAe1Aun4DQz5YgAXZX4EvQFIGDJeYQS7g\n",
       "3oAkVcENNJFjA7MrK1hEGS71lIEtoQvowtsH324Ei9R2FcBCvo+hQ98AOTjWtLgghxwApbZCEcpv\n",
       "FP8AAAAASUVORK5CYII=\n",
       "\" style=\"display:inline;vertical-align:middle;\" /></a>, <a class=\"ProveItLink\" href=\"../../../ordering/__pv_it/theorems/6e5cad5b2984ed0d75bd47bd0c542ec447a4f3570/expr.ipynb\"><img src=\"data:image/png;base64,iVBORw0KGgoAAAANSUhEUgAAADEAAAAQBAMAAABNQoq8AAAAMFBMVEX///+YmJjMzMzc3NyIiIhU\n",
       "VFR2dna6urqqqqpmZmYyMjIiIiIQEBBERETu7u4AAAD7tRWPAAAAAXRSTlMAQObYZgAAAAlwSFlz\n",
       "AAAOxAAADsQBlSsOGwAAANZJREFUGNNjYEAHUmfvrz4rAGTw3dmAJnXBlKFU9gGQwTUBXcaMgZcp\n",
       "AMjgb8CU4TRYAGTUP4CK+O7evQAucwHIyIZKVPkh9LC+A5m21CUCxGdeh2SabpcB0G2/Hrw3ADnE\n",
       "AC5js/o3SD/HPwYeB5AMkgsEX4FozgUM/AlAWmc3EFyAyPA+BPmUO4GhHuTut0h6mCbcg3hnPsjd\n",
       "3Mj+mWQLklHgOwjiszggybxlARrHKsALCZ4VcBlLBkaB60BXh02ECDy9/gAW1pcZ7q5HDrOy25DQ\n",
       "gQIAY/lDzDbeA58AAAAASUVORK5CYII=\n",
       "\" style=\"display:inline;vertical-align:middle;\" /></a>, <a class=\"ProveItLink\" href=\"../__pv_it/theorems/2624246814ca76e7f5e459d5afd54a978b7746270/expr.ipynb\"><img src=\"data:image/png;base64,iVBORw0KGgoAAAANSUhEUgAAAEwAAAAVBAMAAAAeOBUnAAAAMFBMVEX///9ERES6uroQEBAyMjLc\n",
       "3NyYmJgiIiJmZmaqqqp2dnbMzMxUVFSIiIju7u4AAAAd7oVFAAAAAXRSTlMAQObYZgAAAAlwSFlz\n",
       "AAAOxAAADsQBlSsOGwAAASZJREFUKM9jYMAEvOUbUAWuV2NRxcClgC6yiKCyh+ZEKWPwIE7ZT3Rl\n",
       "F8vLHTCUMf1DU6ZyD5tpXAUQZW/vvF41Achk9UO2NGZtLITDcvbOBJCyBt6zHCAdLAFIyphMGeQf\n",
       "gDnv/fi+ApWxBbD940kAKUP2wuMEhnYIZ/4DBlugMm4GDrC7GTaXA4EAVFk/A0MVRFkLA8MvsBeY\n",
       "L0DCEdk0Qwa+TxBOFQPTT7Ay/QA+kDPYkZTx/WVg+wALNo5/QGUPFQ4zcIEj/AKSsp8MPA5TGUC6\n",
       "f4PcuYhh/r5mBk2wrCeSpbIM0xsa+L4AOccYJEDh9uIuZ9sEsOwboQdwZW9ubT27gaEcKPBmRQJa\n",
       "ZGmJo0UW5wOiEhIXcentLXHKLuBXhpEXjABq6VoUx+n3MAAAAABJRU5ErkJggg==\n",
       "\" style=\"display:inline;vertical-align:middle;\" /></a> <a class=\"ProveItLink\" href=\"../__pv_it/demonstrations/0e4ca94fa7fb96c7919066360d8cfc0d4ef546ef0/proof.ipynb\" style=\"text-decoration: none\">&nbsp;&#x22A2;&nbsp;&nbsp;</a><a class=\"ProveItLink\" href=\"../../../ordering/__pv_it/theorems/d1323f34847310a404e8089c2c268d3c2eb89dbf0/expr.ipynb\"><img src=\"data:image/png;base64,iVBORw0KGgoAAAANSUhEUgAAADQAAAAQBAMAAACra0H4AAAAMFBMVEX///9ERES6uroQEBAyMjLc\n",
       "3NyYmJgiIiJmZmaqqqp2dnbMzMxUVFSIiIju7u4AAAAd7oVFAAAAAXRSTlMAQObYZgAAAAlwSFlz\n",
       "AAAOxAAADsQBlSsOGwAAAMtJREFUGNNjYMAAbM6CX4rFGLACRtYDTMfkcEgtYBDYg1OqlQVF6GJ5\n",
       "uQNcihFZRuUekq5zb4CMt3der5oApFn9kAzklnQFMhp4z3IUAGmWAISUSX3tA6AvAtj+8SSApJCc\n",
       "sSwPZCk3AwfYbobN5UAgADVQLg0sxnwBTD1EdvwOxgcgln4AH4hmR5bi2ArU/1DhMAMXSID3ApIU\n",
       "n8A1Bob5+5oZNMEingipBoY0RgWGF3c52yaARd4IPYCF/McARpGfyMGhJQ4JKCgAAF8xNF8aQs/g\n",
       "AAAAAElFTkSuQmCC\n",
       "\" style=\"display:inline;vertical-align:middle;\" /></a></span>"
      ],
      "text/plain": [
       "{a in Real, b in Real, x in [a,b]} |- x in Real"
      ]
     },
     "metadata": {},
     "output_type": "display_data"
    }
   ],
   "source": [
    "# but if know the endpts are Real, then the IntervalXX is know to be legitimate:\n",
    "InSet(x, Real).prove(assumptions=[InSet(a, Real), InSet(b, Real), InSet(x, IntervalCC(a, b))])"
   ]
  },
  {
   "cell_type": "markdown",
   "metadata": {},
   "source": [
    "… some deductions of lower bounds"
   ]
  },
  {
   "cell_type": "code",
   "execution_count": 118,
   "metadata": {},
   "outputs": [
    {
     "data": {
      "text/html": [
       "<span style=\"font-size:20px;\"><a class=\"ProveItLink\" href=\"../__pv_it/demonstrations/6a6060ed9eca88784f398b88450cdaf2332619360/expr.ipynb\"><img src=\"data:image/png;base64,iVBORw0KGgoAAAANSUhEUgAAAFEAAAAVBAMAAADMaB9/AAAAMFBMVEX///9ERES6uroQEBAyMjLc\n",
       "3NyYmJgiIiJmZmaqqqp2dnbMzMxUVFSIiIju7u4AAAAd7oVFAAAAAXRSTlMAQObYZgAAAAlwSFlz\n",
       "AAAOxAAADsQBlSsOGwAAAYpJREFUKM9jYMAGWNEFAhhwgJtIbG4GhqcMujgUci5gYF3VqADhMH9x\n",
       "r2PgTcCu8gkDwwsGzp8QDrt91QMGBj/sKtsYGO5P4PsC4fCAyQwUBbzi5SVghgEDg7ICA4pK5gdI\n",
       "Cpl8oTxOBzD5DVklC9Chb++8XjUBxAmBaeNYACLVoZ7gyV2zgYGB6wADQwPvWY4CkJArzHCQfoa9\n",
       "ZzZAeIwPWD8xMLA5MLAFsP3jAWt3gKlkB1sB8zsQiAN5BsCA5YAo4TYvLy8vBLseEpL2cE/0BzBw\n",
       "fwBJXABz+QRgEiCVuxkY5MFGM4gAVW5gYAKGB4N+AB9YdwGy7f8fwFSaMzCcB9pewPBQ4TADF1jo\n",
       "LkwlI9ASG5DtfCAeMCAMgT4SYJi/r5lBE+LlCVCVoBBJA4Xne5APIhh47cAh9+IuZxtECd9BPWjq\n",
       "AbqDqQOYQtjrQCmw4wTQcewKyLHJtBAam9UwkXlwuXDsKQSeHBYgJxpsgBGaxPkuwDOBAHaVsKDl\n",
       "xdCLAWLRBa4yMAAAHhtVlZM0R+UAAAAASUVORK5CYII=\n",
       "\" style=\"display:inline;vertical-align:middle;\" /></a> <a class=\"ProveItLink\" href=\"../__pv_it/demonstrations/937dc5747dc72da4f3c7ef77ec7f7e8a3790d45b0/proof.ipynb\" style=\"text-decoration: none\">&nbsp;&#x22A2;&nbsp;&nbsp;</a><a class=\"ProveItLink\" href=\"../__pv_it/demonstrations/1f054b3a9c4125390eb08a9a6943e3a154a450d90/expr.ipynb\"><img src=\"data:image/png;base64,iVBORw0KGgoAAAANSUhEUgAAADEAAAAQBAMAAABNQoq8AAAAMFBMVEX///9UVFTMzMwiIiKYmJgQ\n",
       "EBAyMjKIiIiqqqru7u66urpERERmZmZ2dnbc3NwAAABametFAAAAAXRSTlMAQObYZgAAAAlwSFlz\n",
       "AAAOxAAADsQBlSsOGwAAALBJREFUGNNjYHh7ZxcDVsB5gKG/AasM+w+G+QlYZbiiGPgRMm0PUCT7\n",
       "HWAs55OoukxgrOKbEHp64aS7QLuZCoWgbrlcAFVxgF2cxwBsGthtfIdhhrI8YPnJCOaw/gSRYnC3\n",
       "MzHwgNzEpMDA/QNVBqgWZC7/T6gMwjQGhvUPOCcwsApATUO4YPYCUQZeoHUOcP9wFldC/Kd5lGEF\n",
       "kF5zBhGizmAPzSnnOIIRlG4PGAgDAIWaLk7q9DbOAAAAAElFTkSuQmCC\n",
       "\" style=\"display:inline;vertical-align:middle;\" /></a></span>"
      ],
      "text/plain": [
       "{x in (3,5)} |- 3 < x"
      ]
     },
     "metadata": {},
     "output_type": "display_data"
    }
   ],
   "source": [
    "Less(three, x).prove(assumptions=[InSet(x, IntervalOO(three, five))])"
   ]
  },
  {
   "cell_type": "code",
   "execution_count": 119,
   "metadata": {},
   "outputs": [
    {
     "data": {
      "text/html": [
       "<span style=\"font-size:20px;\"><a class=\"ProveItLink\" href=\"../__pv_it/demonstrations/6a6060ed9eca88784f398b88450cdaf2332619360/expr.ipynb\"><img src=\"data:image/png;base64,iVBORw0KGgoAAAANSUhEUgAAAFEAAAAVBAMAAADMaB9/AAAAMFBMVEX///9ERES6uroQEBAyMjLc\n",
       "3NyYmJgiIiJmZmaqqqp2dnbMzMxUVFSIiIju7u4AAAAd7oVFAAAAAXRSTlMAQObYZgAAAAlwSFlz\n",
       "AAAOxAAADsQBlSsOGwAAAYpJREFUKM9jYMAGWNEFAhhwgJtIbG4GhqcMujgUci5gYF3VqADhMH9x\n",
       "r2PgTcCu8gkDwwsGzp8QDrt91QMGBj/sKtsYGO5P4PsC4fCAyQwUBbzi5SVghgEDg7ICA4pK5gdI\n",
       "Cpl8oTxOBzD5DVklC9Chb++8XjUBxAmBaeNYACLVoZ7gyV2zgYGB6wADQwPvWY4CkJArzHCQfoa9\n",
       "ZzZAeIwPWD8xMLA5MLAFsP3jAWt3gKlkB1sB8zsQiAN5BsCA5YAo4TYvLy8vBLseEpL2cE/0BzBw\n",
       "fwBJXABz+QRgEiCVuxkY5MFGM4gAVW5gYAKGB4N+AB9YdwGy7f8fwFSaMzCcB9pewPBQ4TADF1jo\n",
       "LkwlI9ASG5DtfCAeMCAMgT4SYJi/r5lBE+LlCVCVoBBJA4Xne5APIhh47cAh9+IuZxtECd9BPWjq\n",
       "AbqDqQOYQtjrQCmw4wTQcewKyLHJtBAam9UwkXlwuXDsKQSeHBYgJxpsgBGaxPkuwDOBAHaVsKDl\n",
       "xdCLAWLRBa4yMAAAHhtVlZM0R+UAAAAASUVORK5CYII=\n",
       "\" style=\"display:inline;vertical-align:middle;\" /></a> <a class=\"ProveItLink\" href=\"../__pv_it/demonstrations/5024bdb868b5c4e0fe1cb929161ac8788f88e6e30/proof.ipynb\" style=\"text-decoration: none\">&nbsp;&#x22A2;&nbsp;&nbsp;</a><a class=\"ProveItLink\" href=\"../__pv_it/demonstrations/3d37d056a868a5169c19226240f039e8e57e0cf10/expr.ipynb\"><img src=\"data:image/png;base64,iVBORw0KGgoAAAANSUhEUgAAADAAAAAQBAMAAACigOGCAAAAMFBMVEX///+qqqqYmJiIiIgiIiLu\n",
       "7u4QEBBUVFS6urp2dnbMzMxEREQyMjJmZmbc3NwAAADzFso2AAAAAXRSTlMAQObYZgAAAAlwSFlz\n",
       "AAAOxAAADsQBlSsOGwAAALRJREFUGNNj4Lt7egEDNvCagfMHVok6BoY0rBL5AQz1D2AcxnMIiRIG\n",
       "hnqYJUy+ASia/KE0sydEnNW4dOVEIM31GSIe6QxVwMtgbnAFSLMUgLlvnWAm6DHoBxQB6dtgHvtB\n",
       "uNELGO6AbSxAl2BgSAYRkgx8D1CNYuD4xxDKwDWBgTkAxXLWHewJDBMYnty9ewWqMNgZrILxV2wC\n",
       "hwCD////f2BGMIE9wnrZQFYRLXyYzjEQBADIpCpnMPoorQAAAABJRU5ErkJggg==\n",
       "\" style=\"display:inline;vertical-align:middle;\" /></a></span>"
      ],
      "text/plain": [
       "{x in (3,5)} |- 2 < x"
      ]
     },
     "metadata": {},
     "output_type": "display_data"
    }
   ],
   "source": [
    "Less(two, x).prove(assumptions=[InSet(x, IntervalOO(three, five))])"
   ]
  },
  {
   "cell_type": "code",
   "execution_count": 120,
   "metadata": {},
   "outputs": [
    {
     "data": {
      "text/html": [
       "<span style=\"font-size:20px;\"><a class=\"ProveItLink\" href=\"../__pv_it/demonstrations/e833a3b14cf6f27fcd9e68f7a0982cb80393437f0/expr.ipynb\"><img src=\"data:image/png;base64,iVBORw0KGgoAAAANSUhEUgAAAE8AAAAVBAMAAAD1D64kAAAAMFBMVEX///9ERES6uroQEBAyMjLc\n",
       "3NyYmJgiIiJmZmaqqqp2dnbMzMxUVFSIiIju7u4AAAAd7oVFAAAAAXRSTlMAQObYZgAAAAlwSFlz\n",
       "AAAOxAAADsQBlSsOGwAAAXFJREFUKM9jYMAGWNH4vOUbsKpjuMnAzcDwFEmASwGrOs4FDMxf3Osg\n",
       "HL5VKxRwKXzCwMBuX/UAwuFgYDiJS2EbAwMPnJMG0oiqkFe8vATMMEBWuAZDIZMv1DJOB2SF8+WA\n",
       "NoAUvr3zetUEkEgIVB0DxwKgwtw10BDh+X9jAlhhA+9ZjgKQiCvMDJYEBgbGB6yfoNz+7wEghWwB\n",
       "bP94EkACDjCF7GALGMShDlkq/xOkkJuBA6KC27y8vLwQxGKGuLw/AExlMHB+fgD2DPMFSMAKwEwE\n",
       "KRQBKoQ40o6BIX4CWKF+AB/YGwXIVpszMJyH6P8A9E8CUOFDhcMMXGChuzCFjEArgB43ZOAD8UyB\n",
       "AgFAhfP3NTNoQjw7AZYCDjAwRDDw2jG8B7le5QFDLsgzL+5ytkFU8B3UgyjkBjqCtePEAwZ2ULrg\n",
       "PtGBniiYFkKjsBomMo9AMsuAMRYQUMgYAE2KFwgohAUpL6EUzhCLnmeKFQD7g1HZzSGPYwAAAABJ\n",
       "RU5ErkJggg==\n",
       "\" style=\"display:inline;vertical-align:middle;\" /></a> <a class=\"ProveItLink\" href=\"../__pv_it/demonstrations/29c974aca3a0ce179bb5bf78f166c3eb370273380/proof.ipynb\" style=\"text-decoration: none\">&nbsp;&#x22A2;&nbsp;&nbsp;</a><a class=\"ProveItLink\" href=\"../__pv_it/demonstrations/aece2a17c8bb6069ad1e2d71b075489bf344b1190/expr.ipynb\"><img src=\"data:image/png;base64,iVBORw0KGgoAAAANSUhEUgAAADAAAAASBAMAAADvSECJAAAAMFBMVEX///+qqqpmZma6urpERESI\n",
       "iIiYmJhUVFR2dnYiIiIyMjIQEBDc3Nzu7u7MzMwAAADH+sJ6AAAAAXRSTlMAQObYZgAAAAlwSFlz\n",
       "AAAOxAAADsQBlSsOGwAAALFJREFUGNNj4GNguMOADXD/WjkXqwTn/hkX4BzGNQgJdiRFbJMuYJVg\n",
       "RdKLLHFjKood7KntD8CMS9NgQryhtS8aGVgu8HwG8a4vhKtlYggP0AQxPME6ERI5DPkXykAM/QMg\n",
       "8hDcqAcMWkDSCyjxAN3yrUC8k4GhHt25zH8Y7jI0MDBsQfUgrzP7BqDwIQbWvYggWQci/l3awCzA\n",
       "wKNUdAE19HhVA4QSGSgAN2eCwDw4HwA69zIsggsdVwAAAABJRU5ErkJggg==\n",
       "\" style=\"display:inline;vertical-align:middle;\" /></a></span>"
      ],
      "text/plain": [
       "{x in (5,8]} |- 5 <= x"
      ]
     },
     "metadata": {},
     "output_type": "display_data"
    }
   ],
   "source": [
    "LessEq(five, x).prove(assumptions=[InSet(x, IntervalOC(five, eight))])"
   ]
  },
  {
   "cell_type": "code",
   "execution_count": 121,
   "metadata": {},
   "outputs": [
    {
     "data": {
      "text/html": [
       "<span style=\"font-size:20px;\"><a class=\"ProveItLink\" href=\"../__pv_it/demonstrations/54f0c5b129eacc5b07e5c1f059746832c40afa130/expr.ipynb\"><img src=\"data:image/png;base64,iVBORw0KGgoAAAANSUhEUgAAAE8AAAAVBAMAAAD1D64kAAAAMFBMVEX///9ERES6uroQEBAyMjLc\n",
       "3NyYmJgiIiJmZmaqqqp2dnbMzMxUVFSIiIju7u4AAAAd7oVFAAAAAXRSTlMAQObYZgAAAAlwSFlz\n",
       "AAAOxAAADsQBlSsOGwAAAWBJREFUKM9jYMAEvOUb0EQCGLACLgUkTtgDIKGLUyHrqkao6vn///83\n",
       "4E3ApfAFA+dPCGdhR0f7BAY/XArvT+D7AuEsYGCIYGDIQPWEeHkJVKGyAgNU4QQGhgMMDMwPkNQx\n",
       "+T5A8gznN7gFwDBgATry7Z3XqyaABEIeIPtaHe7+QJAQ0NQG3rMcBSABV+Tg2XsGHpaHgJjNgYEt\n",
       "gO0fD1i3A0o4wnzNwGoA4hkwcDNwQFRwm5eXlxciAtwe5mKQNPcHIMF8ASzAJ4Bk4m4GBvkJEB47\n",
       "SJwJZKx+AB9YcwGSwv8P4ArfHwBZXcDwUOEwAxdY5C6SQhuQ1Xxgnn4DyDMCDPP3NTNogkVYJiAU\n",
       "poHC8T3Y8fOBccPAsYDhxV3ONogKvoN6cIVMHcBEwV4H4gWDZNmRExQD00J4FELAPLhUOP70uAAu\n",
       "1IZXId8FmAirAF6FvHARRux5gQsjz1xlYAAAEuxTSeR8vH4AAAAASUVORK5CYII=\n",
       "\" style=\"display:inline;vertical-align:middle;\" /></a> <a class=\"ProveItLink\" href=\"../__pv_it/demonstrations/97faf6f645717bcd0a39fe4e22f948683265a0e30/proof.ipynb\" style=\"text-decoration: none\">&nbsp;&#x22A2;&nbsp;&nbsp;</a><a class=\"ProveItLink\" href=\"../__pv_it/demonstrations/adb0088d52d666906a584ed4acc6a5aa06a1d5ef0/expr.ipynb\"><img src=\"data:image/png;base64,iVBORw0KGgoAAAANSUhEUgAAADEAAAARBAMAAACGHlkZAAAAMFBMVEX///9UVFTMzMwiIiKYmJgQ\n",
       "EBAyMjKIiIiqqqru7u66urpERERmZmZ2dnbc3NwAAABametFAAAAAXRSTlMAQObYZgAAAAlwSFlz\n",
       "AAAOxAAADsQBlSsOGwAAALNJREFUGNNjYHh7ZxcDVsB5gKG/Ac5re4CQYf/BMD8BxnE+iaSHK4qB\n",
       "HyZTfBPNwH4HiLmXC9AkuEwgEocdYCLTCyfdBdrNVCgElhBDuOMAuziPAdg0sBhChuUBy09GsAGs\n",
       "P0EkH9w0JgYekJuYFBi4f6C7gBXE4v8Jk0Fy9foHnBMYWAWgpiF8OnuBKAMv0DoHmH/AoaMAcpHm\n",
       "UYYVQHrNGfQQnVPOcaSBgSLAaQwGCnABAOO0L3TTDp7sAAAAAElFTkSuQmCC\n",
       "\" style=\"display:inline;vertical-align:middle;\" /></a></span>"
      ],
      "text/plain": [
       "{x in [3,7)} |- 3 <= x"
      ]
     },
     "metadata": {},
     "output_type": "display_data"
    }
   ],
   "source": [
    "LessEq(three, x).prove(assumptions=[InSet(x, IntervalCO(three, seven))])"
   ]
  },
  {
   "cell_type": "code",
   "execution_count": 122,
   "metadata": {},
   "outputs": [
    {
     "data": {
      "text/html": [
       "<span style=\"font-size:20px;\"><a class=\"ProveItLink\" href=\"../__pv_it/demonstrations/41f3a03d7041b87e828fd509345e850819684c470/expr.ipynb\"><img src=\"data:image/png;base64,iVBORw0KGgoAAAANSUhEUgAAAE0AAAAVBAMAAADx+n4ZAAAAMFBMVEX///9ERES6uroQEBAyMjLc\n",
       "3NyYmJgiIiJmZmaqqqp2dnbMzMxUVFSIiIju7u4AAAAd7oVFAAAAAXRSTlMAQObYZgAAAAlwSFlz\n",
       "AAAOxAAADsQBlSsOGwAAAUlJREFUKM9jYMACrlej8nnLN2BTxrAIXYBLAZe6VTcCIGzWDscNuNWx\n",
       "TOArhbADGbg+4VaXzsCwEMI+ysBgjKaOV7y8BKpOhoFh/gMw2/4Bw/kAFHVMvg/g5v1gYNg/Acw+\n",
       "zsBwfgNI3ds7r1eBhUIewO3lA6lLgHHrwfY28J7lKABxXRHuY/0FVHcByuP+C1LHFsD2jwes1QFN\n",
       "3QIoj/0ASB03AwdEAbd5eXl5IdReoDp9mHmN0HBmhgjwCSCFC9B98yH+YGA7AFWnH8AH9kEBkjpB\n",
       "BoZ8qLdmMbCCwuWhwmEGLrDAXSR1yQwMLQx8YOcsYOB9AFQ3f18zgyZYlmUCQh37BD5rhvcgh4d3\n",
       "dLSD7H1xl7MNooDvoB5cHV/XnQ0M7HWgwPv//wtavDEthMcbBMwjnK7AYAFx6vguEKeOl1B6Xo6e\n",
       "P4oVADzqXuT+0mcDAAAAAElFTkSuQmCC\n",
       "\" style=\"display:inline;vertical-align:middle;\" /></a> <a class=\"ProveItLink\" href=\"../__pv_it/demonstrations/3f6244934ac2304489bc3090394376a0c9aa14ae0/proof.ipynb\" style=\"text-decoration: none\">&nbsp;&#x22A2;&nbsp;&nbsp;</a><a class=\"ProveItLink\" href=\"../__pv_it/demonstrations/f87620aa817999d39aff601e558782a341f654850/expr.ipynb\"><img src=\"data:image/png;base64,iVBORw0KGgoAAAANSUhEUgAAADEAAAARBAMAAACGHlkZAAAAMFBMVEX///8QEBC6urrMzMxUVFRE\n",
       "RESYmJgiIiLu7u6qqqoyMjLc3NxmZmaIiIh2dnYAAABcDckaAAAAAXRSTlMAQObYZgAAAAlwSFlz\n",
       "AAAOxAAADsQBlSsOGwAAAL1JREFUGNNjYOB7e5oBO1jJ0L4BzpmFYDKwFTDwBcA46SeQtLA6MHD+\n",
       "gLKvv0A2jP8AA/NPMIvj+QUUa/qBMt/AEscTYGK9V5rfTWDY/4CB+S9IwmsCXPUBXl+eArDMPxAX\n",
       "IcO2ge0HSwJD/wMGJpAeBm64acwMPAsgLuDEcAEjiMUawMCG4Wr9DRwNDGwCEL1IPm1VcGTgA9KV\n",
       "DI0GiNABMedbHGTQBNI9b53RQrLnLuexCQwUAY5yMEBYCQDKVjpOuEEXqgAAAABJRU5ErkJggg==\n",
       "\" style=\"display:inline;vertical-align:middle;\" /></a></span>"
      ],
      "text/plain": [
       "{x in [0,2]} |- 0 <= x"
      ]
     },
     "metadata": {},
     "output_type": "display_data"
    }
   ],
   "source": [
    "LessEq(zero, x).prove(assumptions=[InSet(x, IntervalCC(zero, two))])"
   ]
  },
  {
   "cell_type": "markdown",
   "metadata": {},
   "source": [
    "… some upper bounds"
   ]
  },
  {
   "cell_type": "code",
   "execution_count": 123,
   "metadata": {},
   "outputs": [
    {
     "data": {
      "text/html": [
       "<span style=\"font-size:20px;\"><a class=\"ProveItLink\" href=\"../__pv_it/demonstrations/6a6060ed9eca88784f398b88450cdaf2332619360/expr.ipynb\"><img src=\"data:image/png;base64,iVBORw0KGgoAAAANSUhEUgAAAFEAAAAVBAMAAADMaB9/AAAAMFBMVEX///9ERES6uroQEBAyMjLc\n",
       "3NyYmJgiIiJmZmaqqqp2dnbMzMxUVFSIiIju7u4AAAAd7oVFAAAAAXRSTlMAQObYZgAAAAlwSFlz\n",
       "AAAOxAAADsQBlSsOGwAAAYpJREFUKM9jYMAGWNEFAhhwgJtIbG4GhqcMujgUci5gYF3VqADhMH9x\n",
       "r2PgTcCu8gkDwwsGzp8QDrt91QMGBj/sKtsYGO5P4PsC4fCAyQwUBbzi5SVghgEDg7ICA4pK5gdI\n",
       "Cpl8oTxOBzD5DVklC9Chb++8XjUBxAmBaeNYACLVoZ7gyV2zgYGB6wADQwPvWY4CkJArzHCQfoa9\n",
       "ZzZAeIwPWD8xMLA5MLAFsP3jAWt3gKlkB1sB8zsQiAN5BsCA5YAo4TYvLy8vBLseEpL2cE/0BzBw\n",
       "fwBJXABz+QRgEiCVuxkY5MFGM4gAVW5gYAKGB4N+AB9YdwGy7f8fwFSaMzCcB9pewPBQ4TADF1jo\n",
       "LkwlI9ASG5DtfCAeMCAMgT4SYJi/r5lBE+LlCVCVoBBJA4Xne5APIhh47cAh9+IuZxtECd9BPWjq\n",
       "AbqDqQOYQtjrQCmw4wTQcewKyLHJtBAam9UwkXlwuXDsKQSeHBYgJxpsgBGaxPkuwDOBAHaVsKDl\n",
       "xdCLAWLRBa4yMAAAHhtVlZM0R+UAAAAASUVORK5CYII=\n",
       "\" style=\"display:inline;vertical-align:middle;\" /></a> <a class=\"ProveItLink\" href=\"../__pv_it/demonstrations/ba4a5ea3be04b2a21391be0348a6d5c59b65ea320/proof.ipynb\" style=\"text-decoration: none\">&nbsp;&#x22A2;&nbsp;&nbsp;</a><a class=\"ProveItLink\" href=\"../__pv_it/demonstrations/e0aea69931c009be215b1b5be1a8a4a6f5a856100/expr.ipynb\"><img src=\"data:image/png;base64,iVBORw0KGgoAAAANSUhEUgAAADEAAAARBAMAAACGHlkZAAAAMFBMVEX///9ERES6uroQEBAyMjLc\n",
       "3NyYmJgiIiJmZmaqqqp2dnbMzMxUVFSIiIju7u4AAAAd7oVFAAAAAXRSTlMAQObYZgAAAAlwSFlz\n",
       "AAAOxAAADsQBlSsOGwAAALBJREFUGNNjYMACuBkYnjJgBcxf3Ouwy7DbVz3ALsODRYzTFYcMW8UD\n",
       "JJm3d16vmgBh8kKN58ldswFINfCe5SgAC7yqhWplfMD6CWhAANs/ngQQP6IMyVxxkK84HCBGeCLb\n",
       "2B8A8tcFdBkRoAzIIv0AvgeoppkzMJxnYHiocJiBiwHVBQsYGAwZGObva2bQhIq8rYW4OoKB146B\n",
       "4cVdzrYJcJ9CPMTacQIj3NhcGQgDAJzpLAZm4QbpAAAAAElFTkSuQmCC\n",
       "\" style=\"display:inline;vertical-align:middle;\" /></a></span>"
      ],
      "text/plain": [
       "{x in (3,5)} |- x < 5"
      ]
     },
     "metadata": {},
     "output_type": "display_data"
    }
   ],
   "source": [
    "Less(x, five).prove(assumptions=[InSet(x, IntervalOO(three, five))])"
   ]
  },
  {
   "cell_type": "code",
   "execution_count": 124,
   "metadata": {},
   "outputs": [
    {
     "data": {
      "text/html": [
       "<span style=\"font-size:20px;\"><a class=\"ProveItLink\" href=\"../__pv_it/demonstrations/6d4e2ba54c974492f89a587a129aa159e70192ad0/expr.ipynb\"><img src=\"data:image/png;base64,iVBORw0KGgoAAAANSUhEUgAAAE8AAAAVBAMAAAD1D64kAAAAMFBMVEX///9ERES6uroQEBAyMjLc\n",
       "3NyYmJgiIiJmZmaqqqp2dnbMzMxUVFSIiIju7u4AAAAd7oVFAAAAAXRSTlMAQObYZgAAAAlwSFlz\n",
       "AAAOxAAADsQBlSsOGwAAAV9JREFUKM9jYMAGWNH4vOUbsKpjuIkuwKWAVR3nAiDB3QBTtGo1LoVP\n",
       "QAT7AagznBiO41LYBiKuQxWyXGAQRFPIK15eAmYYgGxOgSqc/wDdjUy+D6BOdABJsUAVCsM88/bO\n",
       "61UTQJwQqDoGDpBfrsIUmuy6oQBW2MB7lqMAJOIKM5olAeiFBJjCLwkMliCFbAFs/3gSQCIOMIXs\n",
       "QAu4GKAK+f4zMDQ/ACrkZuCAqOA2Ly8vLwSxmIH2pMIVfmdgyFcAe4b5AkREAGYiUCHrBQa41UCF\n",
       "CWCF+gF8YG8UIFnNdObMeZsFYJ441MSHCoeBDgKBuzCFjGArmA8w8IHDEehGkGfm72tm0IR4dgIs\n",
       "csGW8gswvAe5nnEBH9jXL+5ytkFU8B3UgyjkBjmCQ/7PBfY6EHdFzwa0KGRaCI3CapjIPALJLAPG\n",
       "WEBAIWMAhOa7QEAhLEh5CaVwhlj0PFOsAAB7u1H+0Hl7ZwAAAABJRU5ErkJggg==\n",
       "\" style=\"display:inline;vertical-align:middle;\" /></a> <a class=\"ProveItLink\" href=\"../__pv_it/demonstrations/71102cc4d4f902d470ef1dd8556f2e43eee718f50/proof.ipynb\" style=\"text-decoration: none\">&nbsp;&#x22A2;&nbsp;&nbsp;</a><a class=\"ProveItLink\" href=\"../__pv_it/demonstrations/1c7a2407419e910d068e0f1213cae281cea637490/expr.ipynb\"><img src=\"data:image/png;base64,iVBORw0KGgoAAAANSUhEUgAAADEAAAARBAMAAACGHlkZAAAAMFBMVEX///9ERES6uroQEBAyMjLc\n",
       "3NyYmJgiIiJmZmaqqqp2dnbMzMxUVFSIiIju7u4AAAAd7oVFAAAAAXRSTlMAQObYZgAAAAlwSFlz\n",
       "AAAOxAAADsQBlSsOGwAAALtJREFUGNNjYMAGuFatRhfidAWRrE4Mx9Ek2CoegCiWCwyCqBK8VWAJ\n",
       "hvkP0HS8qoUyhCHU2zuvV00AMV6UwZSY7LqhAKQaeM9yFADpN55wzV8SGCyBlgaw/eNJAHJ54DJ8\n",
       "/xkYmh8wcDNwOEAEImCm8X1nYMgHGcd8Ad0FX4AyIGP0A/geoLpaHKznocJhBi40n84H2gMk9zUz\n",
       "aCJCxxtEMi7gA7rtxV3OtgnowbeiZwMDZeB5OQhUw/kArnsz7OQJZBIAAAAASUVORK5CYII=\n",
       "\" style=\"display:inline;vertical-align:middle;\" /></a></span>"
      ],
      "text/plain": [
       "{x in (4,6]} |- x <= 6"
      ]
     },
     "metadata": {},
     "output_type": "display_data"
    }
   ],
   "source": [
    "LessEq(x, six).prove(assumptions=[InSet(x, IntervalOC(four, six))])"
   ]
  },
  {
   "cell_type": "code",
   "execution_count": 125,
   "metadata": {},
   "outputs": [
    {
     "data": {
      "text/html": [
       "<span style=\"font-size:20px;\"><a class=\"ProveItLink\" href=\"../__pv_it/demonstrations/bf39b73cbc7bda1dc23a383096e910d083bf1b5b0/expr.ipynb\"><img src=\"data:image/png;base64,iVBORw0KGgoAAAANSUhEUgAAAE8AAAAVBAMAAAD1D64kAAAAMFBMVEX///9ERES6uroQEBAyMjLc\n",
       "3NyYmJgiIiJmZmaqqqp2dnbMzMxUVFSIiIju7u4AAAAd7oVFAAAAAXRSTlMAQObYZgAAAAlwSFlz\n",
       "AAAOxAAADsQBlSsOGwAAAWxJREFUKM99k7FLw0AUxr+mbdokJsTJ0awO2i7i2sVRiSjq2NGxgpBN\n",
       "ikLNoFBwt+mmLvYvkGpnMYu4WHrioCBSBTfBeMk1ydU2fcOR993v3r3vLgeMhmq1/ikmxoZsYJMM\n",
       "KfOJYMPzvCLL7GMCtZwENm37qB4kr66yCKwmgQ6wzZIOMA3sDJuYsfYGIK3WZuI3cEWQ5nsWVkhU\n",
       "kQ7MufYF9AxkaJMfT++XQTsbBBy4hrhiGTKtX1Xv8hVfWgYP3iLqcdaFWIJoir9TgfsSD2YHh4MX\n",
       "Q7mvQypCQZ4RypJlWbshKIfLtJOLXgvKJ/1Mu0zR+Yo5PXZJXQv+BgVTC2xUeLDfjkF6jlIFz0YH\n",
       "cpB3ebBQpXv4ySnRfgBRR+P6EHPBfKbOgQ16N32/z0eSolbzDt66Uo0R2s1CDK5TLbfvJ+cHdMwZ\n",
       "/BUKzegKWZxFU1tJPwULJ5JqE0HNDZWsPhFUIyU1/i3II2/mAfgDjvVYQf2cZ54AAAAASUVORK5C\n",
       "YII=\n",
       "\" style=\"display:inline;vertical-align:middle;\" /></a> <a class=\"ProveItLink\" href=\"../__pv_it/demonstrations/cf10c5e26c2433468a28781fae1829c0b2ccbab50/proof.ipynb\" style=\"text-decoration: none\">&nbsp;&#x22A2;&nbsp;&nbsp;</a><a class=\"ProveItLink\" href=\"../__pv_it/demonstrations/78c0c82c70062a130ab3bfca9ea9d75f8bd481620/expr.ipynb\"><img src=\"data:image/png;base64,iVBORw0KGgoAAAANSUhEUgAAADEAAAAQBAMAAABNQoq8AAAAMFBMVEX///9ERES6uroQEBAyMjLc\n",
       "3NyYmJgiIiJmZmaqqqp2dnbMzMxUVFSIiIju7u4AAAAd7oVFAAAAAXRSTlMAQObYZgAAAAlwSFlz\n",
       "AAAOxAAADsQBlSsOGwAAALxJREFUGNNjYMAGOnoeYBVneH6B2xS7zGEGBkF0MU5XEPmFgWE9mnFs\n",
       "FSABvo8MDPcVGBje3nm9agJEgrcKohKkJ4GBoYH3LEcBWOBVLcIe+QsMbAFs/3gSQPyIMpihjxW4\n",
       "z09g4GbgcABzeTzh1vH1rry/AUgzX0CXYYC6TT+A7wGqaQxg/zxUOMzAxYDqgskP+H4zMMzf18yg\n",
       "CRV5Wwtx9fUHjEA3vbjL2TYB7lOIh7hWNGGEGJsrA2EAACzvNo7+WPxhAAAAAElFTkSuQmCC\n",
       "\" style=\"display:inline;vertical-align:middle;\" /></a></span>"
      ],
      "text/plain": [
       "{x in [7,9)} |- x < 9"
      ]
     },
     "metadata": {},
     "output_type": "display_data"
    }
   ],
   "source": [
    "Less(x, nine).prove(assumptions=[InSet(x, IntervalCO(seven, nine))])"
   ]
  },
  {
   "cell_type": "code",
   "execution_count": 126,
   "metadata": {},
   "outputs": [
    {
     "data": {
      "text/html": [
       "<span style=\"font-size:20px;\"><a class=\"ProveItLink\" href=\"../__pv_it/demonstrations/116dc4689c43d57667cc818d4642f1f958b29cfe0/expr.ipynb\"><img src=\"data:image/png;base64,iVBORw0KGgoAAAANSUhEUgAAAE0AAAAVBAMAAADx+n4ZAAAAMFBMVEX///9ERES6uroQEBAyMjLc\n",
       "3NyYmJgiIiJmZmaqqqp2dnbMzMxUVFSIiIju7u4AAAAd7oVFAAAAAXRSTlMAQObYZgAAAAlwSFlz\n",
       "AAAOxAAADsQBlSsOGwAAARJJREFUKM9jYMACrlej8nnLN2BTxrAIXYBLAZc67jq4mlWrcat70/IP\n",
       "ymZ1YjiOxzxemDqWCwyCaOp4xctLMNTNf4DuPibfB1jME4b54+2d16smgDghD7DZa7LrhgJYXQPv\n",
       "WY4CkIgrVvd9SWCwBKljC2D7x5MAEnHApo7vPwND8wOgOm4GDogCbvPy8vJCDHXfGRjyFcD+YL4A\n",
       "ERHAbi9QXQJYnX4AH9gHBVjViUPNe6hwmIELLHIXXR0fOPyA7gP5Y/6+ZgZNSMhPQFLH9ZWB4T3I\n",
       "4YwL+MD+fXGXsw2igO+gHlwdz+EvxxjYwWlhRc8GtHhjWoiINzCYRzhdgcEC4tTxXSBOHS+h9Lwc\n",
       "PX8UKwAAeeBWZPV5bm8AAAAASUVORK5CYII=\n",
       "\" style=\"display:inline;vertical-align:middle;\" /></a> <a class=\"ProveItLink\" href=\"../__pv_it/demonstrations/db9cca90d4937dd99bc8383f2466983f9f1f80510/proof.ipynb\" style=\"text-decoration: none\">&nbsp;&#x22A2;&nbsp;&nbsp;</a><a class=\"ProveItLink\" href=\"../__pv_it/demonstrations/1c7a2407419e910d068e0f1213cae281cea637490/expr.ipynb\"><img src=\"data:image/png;base64,iVBORw0KGgoAAAANSUhEUgAAADEAAAARBAMAAACGHlkZAAAAMFBMVEX///9ERES6uroQEBAyMjLc\n",
       "3NyYmJgiIiJmZmaqqqp2dnbMzMxUVFSIiIju7u4AAAAd7oVFAAAAAXRSTlMAQObYZgAAAAlwSFlz\n",
       "AAAOxAAADsQBlSsOGwAAALtJREFUGNNjYMAGuFatRhfidAWRrE4Mx9Ek2CoegCiWCwyCqBK8VWAJ\n",
       "hvkP0HS8qoUyhCHU2zuvV00AMV6UwZSY7LqhAKQaeM9yFADpN55wzV8SGCyBlgaw/eNJAHJ54DJ8\n",
       "/xkYmh8wcDNwOEAEImCm8X1nYMgHGcd8Ad0FX4AyIGP0A/geoLpaHKznocJhBi40n84H2gMk9zUz\n",
       "aCJCxxtEMi7gA7rtxV3OtgnowbeiZwMDZeB5OQhUw/kArnsz7OQJZBIAAAAASUVORK5CYII=\n",
       "\" style=\"display:inline;vertical-align:middle;\" /></a></span>"
      ],
      "text/plain": [
       "{x in [1,6]} |- x <= 6"
      ]
     },
     "metadata": {},
     "output_type": "display_data"
    }
   ],
   "source": [
    "LessEq(x, six).prove(assumptions=[InSet(x, IntervalCC(one, six))])"
   ]
  },
  {
   "cell_type": "markdown",
   "metadata": {},
   "source": [
    "### Testing the `RealIntervalMembership.deduce_in_bool()` method"
   ]
  },
  {
   "cell_type": "code",
   "execution_count": 127,
   "metadata": {},
   "outputs": [
    {
     "data": {
      "text/html": [
       "<span style=\"font-size:20px;\"> <a class=\"ProveItLink\" href=\"../__pv_it/demonstrations/2e98cd296bdcef4e38d8535ca488296e3fe8f9510/proof.ipynb\" style=\"text-decoration: none\">&nbsp;&#x22A2;&nbsp;&nbsp;</a><a class=\"ProveItLink\" href=\"../__pv_it/demonstrations/8bfd381d9f793a191b8990baf7f631e5d3ee76010/expr.ipynb\"><img src=\"data:image/png;base64,iVBORw0KGgoAAAANSUhEUgAAAIgAAAAVBAMAAABvbLv8AAAAMFBMVEX////MzMxUVFRERES6uroi\n",
       "IiIQEBCYmJhmZmYyMjLu7u52dnaqqqqIiIjc3NwAAACW8nlqAAAAAXRSTlMAQObYZgAAAAlwSFlz\n",
       "AAAOxAAADsQBlSsOGwAAAkFJREFUOMuNVE1oE0EU/pLdbJLd7DYXL16MKCKIGNAeelByKsUfDOiq\n",
       "1R4Ek4uXLtiDHoScbKEHe9FCoRLtxUs11IvgpRcFEUkoiKBUFkS0ePHgJaEH38zLTjPrpjqwO+99\n",
       "8/HNe2/eDIAQiSNM8D0MGe76P+EU8AznyDA7MdKlsW79IBnvkrUJ/vnyBNtW98FVuAFZH2Msw+xs\n",
       "PanAXkjUINhuoM3hZKavNYElsvLNuEjghGXkgkQRgt1tPOcd0vJ/m75s4y+R7HoJlp7kqD/JGVAB\n",
       "ahgZFLFEFDd1nhRZwNtBDXM5CpfhdjAgkhfOos4jkfT3FubJXN14/Epmv6VSnpfcy+yk764VAadE\n",
       "5ho0nmF++nCEpRvu0VxVYI9UTAJObezvU5veb6qHyO0ONJ5hTk5faWKKVsNsLy0D3zmpKU5HNcso\n",
       "ULhO8xtoPErHnVlCTfRSjtFU3ff9C9KscS17Eft+iNQvmvfpPBJB+QyzLe5Eu6wiEdpFGNvSGSOR\n",
       "IkwRybjOkyIGx30+tGWpqoPpjPQikTpwjNIRq6+h8aRIHieBlcohOBLbVCIEWyWRjhBvATeodGL/\n",
       "WzpPirwXZ9beew9nuRVUIQnOBtQndpecH3CpyXKt6Oh3eIbZcj43sAd4ulmYZdQ+cLq/SjAm5ugC\n",
       "+hSKN3eY/pkKYRc1nvvwuLzFmaLWsi/6ba/gguq/b+JBqcZ4POJXKg47Cprle5k4Tu0Or0aAJ+r6\n",
       "dcjLtrI7rN4yIxy+I7zO/8FfRCGT3+M/ohuPjNalVAQAAAAASUVORK5CYII=\n",
       "\" style=\"display:inline;vertical-align:middle;\" /></a></span>"
      ],
      "text/plain": [
       "|- (x in (3,5)) in BOOLEAN"
      ]
     },
     "metadata": {},
     "output_type": "display_data"
    }
   ],
   "source": [
    "InSet(x, IntervalOO(three, five)).deduce_in_bool()"
   ]
  },
  {
   "cell_type": "code",
   "execution_count": 128,
   "metadata": {},
   "outputs": [
    {
     "data": {
      "text/html": [
       "<span style=\"font-size:20px;\"> <a class=\"ProveItLink\" href=\"../__pv_it/demonstrations/fcf4b45f212fa12b22625d498a9a3eb7c8432d3e0/proof.ipynb\" style=\"text-decoration: none\">&nbsp;&#x22A2;&nbsp;&nbsp;</a><a class=\"ProveItLink\" href=\"../__pv_it/demonstrations/ec93ed351ccff158d3d67a8420d3721c8bcdaf610/expr.ipynb\"><img src=\"data:image/png;base64,iVBORw0KGgoAAAANSUhEUgAAAIUAAAAVBAMAAACakjBMAAAAMFBMVEX////MzMxUVFRERES6uroi\n",
       "IiIQEBCYmJhmZmYyMjLu7u52dnaqqqqIiIjc3NwAAACW8nlqAAAAAXRSTlMAQObYZgAAAAlwSFlz\n",
       "AAAOxAAADsQBlSsOGwAAAlNJREFUOMt1lD9oFEEUxr+7/b+3t5dGC6sYxU7dwlSiuUYkxuAlcoVi\n",
       "cRhtrK5UFLlCPNHmbBIIRk8DokXIoRbCEUmrFi6KiGLCNRYphCCKkMp5M7N7c+vcFMvMm9nfvPe9\n",
       "9wZAD7oRZtafZ4adZKO4rjV/zxpeAdNZ7tyj+dkym7zXIoIO++QactXtjhCjWM+ciqbDxf2A39Iy\n",
       "ntPHGhWLrXK+QgwsZhkn8cYA3LqW0eS+SsYSjIgzrv7PuJEH7AHjp2pV+FWjUK4JRrAj9YDdFhKO\n",
       "V8+lDA94qyImvyVyEKngCYZRSxged9pcavf9OHQduMemKx8fdyk7YRqvS5JuSoZ9f+2WYBS4Yavd\n",
       "13Rllp1cYNNG8aBboWvSAqALw7pklBZgr3OGwwN92NfjxPyfu8AFttNzdvLkpZduWsytAiRjdRvu\n",
       "Fc4IeFQtVdMvk21cYtrBFebdVTYi7j6rnJspowLnN2fktulzmZ06mzAMs0MM9kvMTcvpBYwRxgmj\n",
       "1ILzlzNM8sOPVD8MRBQLcKbnk06WGos5Nnb4YofnJfUjINVQGWS0cIxdXz7Agqe8x8mmwWf2KHz6\n",
       "k+lRE5pyFzYGGEGMF8CHPbdxmtseJJsiiaUIq6TUUTwVeeEph5d2aTSFtdfALuDZRtAU5idHZOpz\n",
       "5K878Su2zhPxzl5RHxY1Kfx9p8Spr3MTvG+tEbVQp8Zlrc8klndK7+OHmJovZa3L4TS0PZd2V0dl\n",
       "NIe8Qce1VkOWrB8rjDAawljWWpMiKKrvmDHsMQxjrfln9t1jxbipJ/wDW5eQG6VCTlgAAAAASUVO\n",
       "RK5CYII=\n",
       "\" style=\"display:inline;vertical-align:middle;\" /></a></span>"
      ],
      "text/plain": [
       "|- (x in (4,6]) in BOOLEAN"
      ]
     },
     "metadata": {},
     "output_type": "display_data"
    }
   ],
   "source": [
    "InSet(x, IntervalOC(four, six)).deduce_in_bool()"
   ]
  },
  {
   "cell_type": "code",
   "execution_count": 129,
   "metadata": {},
   "outputs": [
    {
     "data": {
      "text/html": [
       "<span style=\"font-size:20px;\"> <a class=\"ProveItLink\" href=\"../__pv_it/demonstrations/6ff1a708f5b6700939d2a5e3cc52f459dc5e49470/proof.ipynb\" style=\"text-decoration: none\">&nbsp;&#x22A2;&nbsp;&nbsp;</a><a class=\"ProveItLink\" href=\"../__pv_it/demonstrations/9dc2e8579e4a7a51d4c102d62dc8683b199dbd790/expr.ipynb\"><img src=\"data:image/png;base64,iVBORw0KGgoAAAANSUhEUgAAAIUAAAAVBAMAAACakjBMAAAAMFBMVEX////MzMxUVFRERES6uroi\n",
       "IiIQEBCYmJhmZmYyMjLu7u52dnaqqqqIiIjc3NwAAACW8nlqAAAAAXRSTlMAQObYZgAAAAlwSFlz\n",
       "AAAOxAAADsQBlSsOGwAAAllJREFUOMt9VD1oFEEU/nJ7l7vdu11FMIWNAYOFoGxhsFKvUYkxJES3\n",
       "MCgEEptUARtFizSaQ5utIhz+rKaxCbeYRgiKjYKK3KJIUIksiH+dgiIE5Xxv5m5357KbKYY33779\n",
       "5pvvzTwAITYO09mqAhZPaZky/UkKWK7iq5cE8gFNI11Zb6fuLIxXKXiJdI5mq9WaFItSbQ+wytvN\n",
       "dqXZI1Z9ADDcDI7lWu2KkGicRV8InWXVuzmO4bFGm8xmcPjANxHnJqHZKM5ReGEjx+Uc0KuAbxzH\n",
       "bXOQhn6BbXFRXgdmKOyVHpmDzumIQweeJymG3sc6aJK1adgwfwE3KNSF6PwtL9ax7xJwncKl13dX\n",
       "+OhWHUmOT4h0/AEeMCyUffdiT5fGfUk/Z+4tjfE2ocIxgMiPf8BFCovioLdjP44s/L4GnKEvYXE9\n",
       "xyr1pKewZGVhTGPbX+AZhRUBuUlPV4c8TAM9KEm4z6FhdzjKndz7H179BHZS1PODp3OUdbLDoeV9\n",
       "5iC/AwEtKjoKdrykuhxlN1mHYSd1aLD5LMBoaLBPBYWj0R8t6X7gKZ+FXcOYyuHiIG1f3Y2yqHuQ\n",
       "5BilW2XwjzNoUJXPs6dCwprCUQm4ZM0dV3FCYDeTHE2qWoM8MSdwAPISlHz+qEev1B7Go4fAdvJs\n",
       "rTIv4Xv7vZjjC2GFCVqs1LjSp/iwVVGoXcdl1rupw+LdFpRGMTwY3XU5XkQNhF343G4Ey+273h7i\n",
       "LaW9OTn8DiLe5nxGDzq0GYcRucwX37IzOBY34zCVrbSsZmgFaRzd/dTk3z+mM/wHJpSOij6NNcIA\n",
       "AAAASUVORK5CYII=\n",
       "\" style=\"display:inline;vertical-align:middle;\" /></a></span>"
      ],
      "text/plain": [
       "|- (x in [7,9)) in BOOLEAN"
      ]
     },
     "metadata": {},
     "output_type": "display_data"
    }
   ],
   "source": [
    "InSet(x, IntervalCO(seven, nine)).deduce_in_bool()"
   ]
  },
  {
   "cell_type": "code",
   "execution_count": 130,
   "metadata": {},
   "outputs": [
    {
     "data": {
      "text/html": [
       "<span style=\"font-size:20px;\"> <a class=\"ProveItLink\" href=\"../__pv_it/demonstrations/05077ef38db376369085d9b6612de295f673f7d80/proof.ipynb\" style=\"text-decoration: none\">&nbsp;&#x22A2;&nbsp;&nbsp;</a><a class=\"ProveItLink\" href=\"../__pv_it/demonstrations/47f2dd8a444d80a08357758edf5456acb492df6c0/expr.ipynb\"><img src=\"data:image/png;base64,iVBORw0KGgoAAAANSUhEUgAAAIMAAAAVBAMAAACXjEALAAAAMFBMVEX////MzMxUVFRERES6uroi\n",
       "IiIQEBCYmJhmZmYyMjLu7u52dnaqqqqIiIjc3NwAAACW8nlqAAAAAXRSTlMAQObYZgAAAAlwSFlz\n",
       "AAAOxAAADsQBlSsOGwAAAhdJREFUOMt9lDtIHFEUhn939jWzO6ONFjYiBlMlTBGroG6j4gtX4xQJ\n",
       "KQRNYxVIFZLCQnw2Y6MgPkYFsREXtRAWxSYBkyJDgkgCwkCqdCkSQrYIuY/ZndcdTzNzzr1899z/\n",
       "nnMAOIiaajQEA9ej0BBn6qUgmCuEI6dI2qHQ9eT26hjd+BExiLpnVa9cbiAI3IR36cPa+j1AMWMQ\n",
       "u4sV1/lRSBQpQrbCiD5cSED2ZVwWahWxCUmniMxMFPE2AaQDwS+GYYYR+QrXAph21eswntYQMnDl\n",
       "J/R/E2QhTVQRa8xPblpeFg/fAMvk9/DzTpm+i7Yuukh65XyWI465NJYn5+FYiZNn1AfZIvnKjghR\n",
       "v4b0JUO8Zv6Wp0XP6u8l4DmRyclUElRVWSjn0U9kpxniPfNNv5w3/RamSAEgy8NNBjE9gigi84sh\n",
       "Wqhb94JselJFSMkSRZDr8sLbE2ZRbyLzhyF6qavo/iwk6PQiwIijUI1SQoRUy+Id84tBhIlOcnih\n",
       "HTn24HYYodC6IFpMMMQrtnYbQORt+lCfmucwxGIbfkTuH9GBivQY+/xFltmaXOtLfRDnZ0AjcHCb\n",
       "n+fh3UdWDZFo/3sfKdpquYVWXhfjbE1pG+Cbvk52s05NBQbDYIdX4Mw+eM0OzVUheeIWuGuR3gnO\n",
       "i5IPIe5IYl13IRTbh/geN7X27kKovqklPoyaZosQkdk5BdURA/4DGf6QXBSz7H4AAAAASUVORK5C\n",
       "YII=\n",
       "\" style=\"display:inline;vertical-align:middle;\" /></a></span>"
      ],
      "text/plain": [
       "|- (x in [1,6]) in BOOLEAN"
      ]
     },
     "metadata": {},
     "output_type": "display_data"
    }
   ],
   "source": [
    "InSet(x, IntervalCC(one, six)).deduce_in_bool()"
   ]
  },
  {
   "cell_type": "markdown",
   "metadata": {},
   "source": [
    "### Testing the `RealIntervalNonmembership.deduce_in_bool()` method"
   ]
  },
  {
   "cell_type": "code",
   "execution_count": 131,
   "metadata": {},
   "outputs": [
    {
     "data": {
      "text/html": [
       "<span style=\"font-size:20px;\"> <a class=\"ProveItLink\" href=\"../__pv_it/demonstrations/06ee35fcf931ac7e021c8e944199bafbe903ba750/proof.ipynb\" style=\"text-decoration: none\">&nbsp;&#x22A2;&nbsp;&nbsp;</a><a class=\"ProveItLink\" href=\"../__pv_it/demonstrations/29699e0f98f6f62cfb92e612e737fca426c135e40/expr.ipynb\"><img src=\"data:image/png;base64,iVBORw0KGgoAAAANSUhEUgAAAIgAAAAVCAMAAACqnFb9AAAAP1BMVEX///9jY2MJCQkdHR0NDQ0W\n",
       "FhbMzMxUVFRERES6uroiIiIQEBCYmJhmZmYyMjLu7u52dnaqqqqIiIjc3NwAAACGmE1UAAAAAXRS\n",
       "TlMAQObYZgAAAAlwSFlzAAAOxAAADsQBlSsOGwAAAmBJREFUSMeVVlmCrCAMZGbesK+B+5/1sYgS\n",
       "BO3hw452ESpJESAkj0ieRnx53+LfgLcB4fFv6z5C0/JweXEBx5fT2K0rFbfJKslEfQ/+EU4Zem3o\n",
       "6L3hAv2hkrVSFtKg+0r6JQW8kI3WVSbOPoMNWq+hnSmUEsqNVEl6h3M4JXNFJHP1MRt5oRfaEtOq\n",
       "aCgcXEIhDInTZjYeiehQJ6unKnL5+0+O6zW0UCVNWyJEudk4/eVh70Typ7CvjLDgCKNIIQM6JL0j\n",
       "YvVsnP4WGWFRZ+GZQ6oOgDnq/VX3WCo8KchcwhYS15Rp8J2176z8QC/eFVPE6kAyP3DO1QQGxFyS\n",
       "sKUPaLwFzwgpMJwrwvMyMTVl605fD3HYuNKItFnkJs+VLQU6o3TKlbjCtAvdyzCW5t5ReIsjdOGF\n",
       "QYF2J1bQIi+jxNmODIJSlXX1850ffFChQJ3jlmuTatg0dScJ+6uDT0TKjx9dK1QGV/B+CrrTrlXh\n",
       "Y0q4bURo21VdSAr7W2akdBE+JFuUaJxDDUTOTaWhU80FIqIqlLUMhD4vyF1DmohYwqHRFYQV9kO7\n",
       "ByBibkgNTRQ7S9OJt4mqha179Jojf1siAY4NFhJ1JhMRYylsmDbGuR217n3kbK+xcIajgZ273Hjk\n",
       "b0EkAzz4PJnKdnhkvsFoBHXsW0xypEd+hTHHodfOucrEMHPYsgtPCuSPI39gFefX6SvptrXqL89R\n",
       "S16hw/1gi3I2ugxv/sjihHq9iazRi0vEeY6+HahToXY3qcg/QDvYz1s62A+3g/vwARoeuPI/Xhbj\n",
       "5krH/oS+qMXZ+GT8BzbYHUpJb2/cAAAAAElFTkSuQmCC\n",
       "\" style=\"display:inline;vertical-align:middle;\" /></a></span>"
      ],
      "text/plain": [
       "|- (x not-in (3,5)) in BOOLEAN"
      ]
     },
     "metadata": {},
     "output_type": "display_data"
    }
   ],
   "source": [
    "NotInSet(x, IntervalOO(three, five)).deduce_in_bool()"
   ]
  },
  {
   "cell_type": "code",
   "execution_count": 132,
   "metadata": {},
   "outputs": [
    {
     "data": {
      "text/html": [
       "<span style=\"font-size:20px;\"> <a class=\"ProveItLink\" href=\"../__pv_it/demonstrations/3d03c62f276a94f9467a9c02209c574c590dd4010/proof.ipynb\" style=\"text-decoration: none\">&nbsp;&#x22A2;&nbsp;&nbsp;</a><a class=\"ProveItLink\" href=\"../__pv_it/demonstrations/6f528e8d5398ecd9d9f0309fd34b7b21c417293c0/expr.ipynb\"><img src=\"data:image/png;base64,iVBORw0KGgoAAAANSUhEUgAAAIUAAAAVCAMAAABfYt1NAAAARVBMVEX///8/Pz9vb28YGBgJCQkd\n",
       "HR0NDQ0WFhbMzMxUVFRERES6uroiIiIQEBCYmJhmZmYyMjLu7u52dnaqqqqIiIjc3NwAAACb3p1w\n",
       "AAAAAXRSTlMAQObYZgAAAAlwSFlzAAAOxAAADsQBlSsOGwAAAk1JREFUSMeVltuCnCAMhtl220I4\n",
       "H+T9H7UBFQmCzuZiZhx/wkcSAoyhbezJtsfH0ZJS/APZZGB8fO38D8RoQZZPmd5oNbjstBJVzmJ4\n",
       "lHPRP11ibsfZ0XijYMm80EIh3ZyvGN49i63sHjqxEjRRDnVCXRRDDKcUCBo2/IGzvDArgmSuiFIK\n",
       "VzIA0FEY+wmFiaw40g+5A6X+/e1j1cTcOJqp7GldFLEfnSnlJhT4X1wmRLqEbgTv52riwCgFaHaj\n",
       "cGZ0NomF2AyWmj3KzackPA8hXon2t6o5xSxtA4V2PKS9hBpFEIw6u1enx8SGDhiTmERitpWBqzve\n",
       "kA13ijf8phS5vtKxpzDXCtw2rQvldFYWAdW+eIMyg7kVLYpuUuiHmFX8nsLnXJdSSqFRxCtLblmd\n",
       "yUicQ+9jSvZtr+W6FNOfb6Wgi7tsyCNFjaHJsqPgmTorBiNF+Qqn4zpHH31f9YF2yl28Vd2YkZ3C\n",
       "dBRSU2fTWJRuAS3IOCjjEr0nfUINvaOKpSiWteiaLkxiEdW86dwoHIO0w0om9JHxYxvgCzk0Huii\n",
       "pWssfOsXe12Q6gTibEkR07GdYua+uJBdBlykzYLuPZah1sNZS4D8nu4RG4izCQUKQgq4VF6D5S3S\n",
       "Rmt6rRfwe9jlvEXWQs64sZlSpyRYu0M3CiWJM0lbqdMA15mq+LKD//oC2nQn4ujnJzsWMS0GGUZn\n",
       "vT0cOveGdxcHtqJ4OyaH/KyuRRu8i31aUcxGP5hfyUN8F6fVXWu9uNWaF5cz8RNxd5OTx3n3uf0H\n",
       "iswhZOa9FQgAAAAASUVORK5CYII=\n",
       "\" style=\"display:inline;vertical-align:middle;\" /></a></span>"
      ],
      "text/plain": [
       "|- (x not-in (4,6]) in BOOLEAN"
      ]
     },
     "metadata": {},
     "output_type": "display_data"
    }
   ],
   "source": [
    "NotInSet(x, IntervalOC(four, six)).deduce_in_bool()"
   ]
  },
  {
   "cell_type": "code",
   "execution_count": 133,
   "metadata": {},
   "outputs": [
    {
     "data": {
      "text/html": [
       "<span style=\"font-size:20px;\"> <a class=\"ProveItLink\" href=\"../__pv_it/demonstrations/bfa9e9ff23e322cef9f955dfd893b2fba412d1030/proof.ipynb\" style=\"text-decoration: none\">&nbsp;&#x22A2;&nbsp;&nbsp;</a><a class=\"ProveItLink\" href=\"../__pv_it/demonstrations/7ec3729e2856e72e28f2a7472c56845aff7cef880/expr.ipynb\"><img src=\"data:image/png;base64,iVBORw0KGgoAAAANSUhEUgAAAIUAAAAVCAMAAABfYt1NAAAARVBMVEX///8/Pz9vb28YGBgJCQkd\n",
       "HR0NDQ0WFhbMzMxUVFRERES6uroiIiIQEBCYmJhmZmYyMjLu7u52dnaqqqqIiIjc3NwAAACb3p1w\n",
       "AAAAAXRSTlMAQObYZgAAAAlwSFlzAAAOxAAADsQBlSsOGwAAAlxJREFUSMeVVtui7RAMdO5FXBLh\n",
       "/z/1oLSl2rW3l2UxjTEZQYjconhrl1kG2MTXwO8xF43D67THo0u6xLf4DNY8d54WBaN88gakrv8D\n",
       "vcI3KUYWIe3NXFHOOVnJse3L2A+bV4Vp9FhpoH8HOz2xIOVKg4uCCHnnm4mDdB4/sshEKeZOXuUD\n",
       "ZxAziz3v7jIuqy6qhBO2T1j3FRY2iCK2ecmdAvj3188Z2Re+AlPFUKq7N10Dg3MwAL9gkcfCY0K0\n",
       "5xxGbrMWe+86jKmqwKlO+y6ut3OwhRYy2iyua95EZokb0ZHtWPM6uuZgEZVYaVGXpS4TnXrFhUmK\n",
       "O5FB0oVwTiJLFu6wga9es7xkIfUQsPkiVbDtxO25Ax+XvgBvErhMsFndZpjNeZWHin5h9M4iTmZC\n",
       "o8uRTjVW6JPhRPlHd7LVeQ2zBy5pdlfsZoqZ/vwGUHcWNEdFxxQ4VbNsqYdIY7DS1Myi/FBnUT19\n",
       "VR8rnsay2lmAWtm5nRHdJTg6LdhSi1ItlDiLj045K4hDnQCxYoFJLgvAvlboHwVYFp07Cy8U72T1\n",
       "brGzmnOe0G7JQqc2jocDsHDbT6/tG7dqCPbIInA7TiFt6DILfcmAD2OxOFmERE0T36+mzEL109Z3\n",
       "4mgItmCRAcSUt7RBcxeL4OwVi1L9wiWLaBoOoAGI3HHfwK2zB9NjKfVGqfNOfXkx/PyhxqJLekKE\n",
       "ezGKMHea7WgKNrSXS+dW8G4sFo+C43b8dE1O+Xl6FsXb+ZpZID9/FNW3nlr4BKfwiQW/7El9880X\n",
       "Hx5n96JAH9+dHOfOV9p/hRciIm2DEN4AAAAASUVORK5CYII=\n",
       "\" style=\"display:inline;vertical-align:middle;\" /></a></span>"
      ],
      "text/plain": [
       "|- (x not-in [7,9)) in BOOLEAN"
      ]
     },
     "metadata": {},
     "output_type": "display_data"
    }
   ],
   "source": [
    "NotInSet(x, IntervalCO(seven, nine)).deduce_in_bool()"
   ]
  },
  {
   "cell_type": "code",
   "execution_count": 134,
   "metadata": {},
   "outputs": [
    {
     "data": {
      "text/html": [
       "<span style=\"font-size:20px;\"> <a class=\"ProveItLink\" href=\"../__pv_it/demonstrations/3bda0c56b8b31e78e369134ac7da385b96e29c920/proof.ipynb\" style=\"text-decoration: none\">&nbsp;&#x22A2;&nbsp;&nbsp;</a><a class=\"ProveItLink\" href=\"../__pv_it/demonstrations/1d0bce494bcb132a6488bf2bee7b0053749f73c20/expr.ipynb\"><img src=\"data:image/png;base64,iVBORw0KGgoAAAANSUhEUgAAAIMAAAAVCAMAAABSfK0KAAAARVBMVEX///8/Pz9vb28YGBgJCQkd\n",
       "HR0NDQ0WFhbMzMxUVFRERES6uroiIiIQEBCYmJhmZmYyMjLu7u52dnaqqqqIiIjc3NwAAACb3p1w\n",
       "AAAAAXRSTlMAQObYZgAAAAlwSFlzAAAOxAAADsQBlSsOGwAAAiFJREFUSMeVltuCnSAMRZl22goE\n",
       "SCDy/59awKOiXHR4ORe3YZFsAkKksYrZqJ4ywDLVfgTzgN0Xw/Qx0vHV68dgRaL5aUowCiMakFvE\n",
       "4KfyRYqGYQFq5k5jOSRsn1hVBl2RCgThXOz0jYGkw3hjWDE9kXBiIj0zJE6/pi9pjgdkEG0e+M6A\n",
       "OflKnRLrXjHYIHKazaRqCuDfX3xmCOfvXWKoCQWAHYb0XxiWQiOnOHJ5kQdlGgnaJlQnD3K1yY3u\n",
       "40hilrR4H84SU+OWEYPBxfNmnF3iZe0W6nqSGKSveFP9WLJwR/mxbHLLbxhiiWJCJbEVPK5dPwCa\n",
       "CC5Fgm3hNslsiiyPFGLH3wMGirEsI3tgl4TKZzj0JFudZjDbO7nqrtYuJpvozzeAesFQsmejrlpI\n",
       "vIXKQ90Z8offGUpV67xT0fsg3tViY7CnRJtbqG4ecndQey3yWzHVg+jSF0C8YlBtHgL0W0zLgELx\n",
       "hqqFzORn3+b0QLs5Ax39YfND7clq8cwThsCfPRTiQjmErnKP4doc6o0X180Hu4NUYqfLvnD1KYSh\n",
       "x5AUnr3Lx0+J5hJrcLbWklS/qccgpYlYNhAcZ5d3bgPeGUBfQ+lLKEaj1HluTm4Ev77UtcE2Z3eg\n",
       "7tmd2tLNA9rfQl3G5HRp2lvD4MWAwT0e3tfKjG49qxIPDMQDhlX97BpFI70PTww8uEeN1zW8MA5u\n",
       "XrKd4Pk+WXoe/wjhPz8OIhxjG8IPAAAAAElFTkSuQmCC\n",
       "\" style=\"display:inline;vertical-align:middle;\" /></a></span>"
      ],
      "text/plain": [
       "|- (x not-in [1,6]) in BOOLEAN"
      ]
     },
     "metadata": {},
     "output_type": "display_data"
    }
   ],
   "source": [
    "NotInSet(x, IntervalCC(one, six)).deduce_in_bool()"
   ]
  },
  {
   "cell_type": "markdown",
   "metadata": {},
   "source": [
    "### Testing the `RealIntervalNonmembership.deduce_real_element_bounds()` method"
   ]
  },
  {
   "cell_type": "code",
   "execution_count": 135,
   "metadata": {},
   "outputs": [
    {
     "data": {
      "text/html": [
       "<span style=\"font-size:20px;\"><a class=\"ProveItLink\" href=\"../../../ordering/__pv_it/theorems/d1323f34847310a404e8089c2c268d3c2eb89dbf0/expr.ipynb\"><img src=\"data:image/png;base64,iVBORw0KGgoAAAANSUhEUgAAADQAAAAQBAMAAACra0H4AAAAMFBMVEX///9ERES6uroQEBAyMjLc\n",
       "3NyYmJgiIiJmZmaqqqp2dnbMzMxUVFSIiIju7u4AAAAd7oVFAAAAAXRSTlMAQObYZgAAAAlwSFlz\n",
       "AAAOxAAADsQBlSsOGwAAAMtJREFUGNNjYMAAbM6CX4rFGLACRtYDTMfkcEgtYBDYg1OqlQVF6GJ5\n",
       "uQNcihFZRuUekq5zb4CMt3der5oApFn9kAzklnQFMhp4z3IUAGmWAISUSX3tA6AvAtj+8SSApJCc\n",
       "sSwPZCk3AwfYbobN5UAgADVQLg0sxnwBTD1EdvwOxgcgln4AH4hmR5bi2ArU/1DhMAMXSID3ApIU\n",
       "n8A1Bob5+5oZNMEingipBoY0RgWGF3c52yaARd4IPYCF/McARpGfyMGhJQ4JKCgAAF8xNF8aQs/g\n",
       "AAAAAElFTkSuQmCC\n",
       "\" style=\"display:inline;vertical-align:middle;\" /></a>, <a class=\"ProveItLink\" href=\"../__pv_it/demonstrations/d21993a704dfa0c6219e5ae991904c1dfbd4faa50/expr.ipynb\"><img src=\"data:image/png;base64,iVBORw0KGgoAAAANSUhEUgAAAFEAAAAVCAMAAAAJmPJ+AAAAP1BMVEX///9jY2MJCQkdHR0NDQ0W\n",
       "FhZERES6uroQEBAyMjLc3NyYmJgiIiJmZmaqqqp2dnbMzMxUVFSIiIju7u4AAAANhLF7AAAAAXRS\n",
       "TlMAQObYZgAAAAlwSFlzAAAOxAAADsQBlSsOGwAAAZpJREFUOMuNVdmSxCAIdC+PCB7g/3/remQ2\n",
       "ktGZ9cEqK9A0bUuUerGOl8e38YvleD5R2ISltnGFM/QGMOX5FGKnESNqI+NscQ6gVSf/GhHnTHZ9\n",
       "x4ZdJFuwBSIvunpaIOB7eWpgXJyIm1rxuEUjDT/fMGXavhvbeO8Rld2QNI5Y5TSrOIGE4reIrn1i\n",
       "oswpxkuco8nBggjGqxzc9M+e4qN8bPC1dcqk8JLNNWN5YQX3QEmUBfm6dK1/lHGNvvLwNd2X2uRV\n",
       "2T1fG4S564Uz9SAU7PAnig6TBYCvz7rpS3EjDPisP5b+YlI5Q0SH3ICi5HEipt6wFiS1G4hpmGFo\n",
       "3fCZhRHh5s2BUTo7iWh7aB7kAlRCRuUGHCczkjI3q+rRhc1/Xf8RGIl2KOR1lTkxVkQzl3Xhfp9x\n",
       "mM77hx+vh3O04nRau7qMsTIK6IVsnD+NFD+dKhjEc1KM2TAgMeN5ALN5hP4j6nrXkwUg3WPC4sEd\n",
       "8L/JuJ4BcTWuduPs0AsL3yY00//yzvKLR8G36NW81tv/Ql4SfzfzFTXAX0VCEgiiXuebAAAAAElF\n",
       "TkSuQmCC\n",
       "\" style=\"display:inline;vertical-align:middle;\" /></a> <a class=\"ProveItLink\" href=\"../__pv_it/demonstrations/f0e0cbed2a2e40154d9940648ea81bd531898ded0/proof.ipynb\" style=\"text-decoration: none\">&nbsp;&#x22A2;&nbsp;&nbsp;</a><a class=\"ProveItLink\" href=\"../__pv_it/demonstrations/d5512150adb859c26ed997da442778f471a9e6640/expr.ipynb\"><img src=\"data:image/png;base64,iVBORw0KGgoAAAANSUhEUgAAAJcAAAAVBAMAAAC5yWGZAAAAMFBMVEX////MzMxUVFRERES6uroi\n",
       "IiIQEBCYmJhmZmYyMjLu7u52dnaqqqqIiIjc3NwAAACW8nlqAAAAAXRSTlMAQObYZgAAAAlwSFlz\n",
       "AAAOxAAADsQBlSsOGwAAAoBJREFUOMuNVU1oE1EQ/vK32Wyz26B4UcQKorYgRqgHD5acxINiBKVi\n",
       "FQLWS0EMiFDBai611SLGgwgisloKVVFLQRD10Iti8ZAQkF6MBEQoiKDgxVDEmdltdvc1G3yHybx5\n",
       "s9/8fe8FQANhy/oPS2sJjLkQeh6vqpbPiADP2zofZvGxPdD3V/3AkmJMz0H7c+dk2w/MImCUVesi\n",
       "J2yUUFlAymZDH4vNLB4DifNDtgf+wPfdPUAvKlgXb0icFbwoI1lifYzFHhYTQNTnmjxh+3ajgKZg\n",
       "fXrttGsY3ZTzCOsJ7rwUUAiAmUN+LGg2FgNQxkuv5xXK+S4rXTQinceULvvBnp4OppEqYop+ntUe\n",
       "vpGZGuNe0fFBEvNws+LsoM8R2Nh8Rs5nB1sZ1Ps2vaWYPRK7ZO7S82zt9WgSqW0leUl00upubMRs\n",
       "6zfrj+63XHXUquPUwTJOkWwkm1FJqdfPOZom3ou2DhA6JJzjvSyiHtgVXLV3UBMKGKYkoLv8sHxl\n",
       "QmsCW5xuNNIyVi0n21tC9uVWmRlcl1p+Mhh5VdUBRDKIrQAHXK6mGqtg+wgsow7gnDS5wGUCRxqG\n",
       "HaRGd1PA3jnG/HqslnkW2K1SI/4XTyhkHvuB6dx2dCmk1XqkzAuObWmb/MQobRromSBpjf5ogc3J\n",
       "LA+/svEaDvmuE1eRLArPphzTjNNTGj6WYY541+k2i1+zhfiCEGcDMaaenljzdBycpIuOY+7wneMI\n",
       "8cea3GkHPY2b1Q+XuQk5JDLhTxSsfHB/tIMvvsG9yyFLfQVGO4HRK4ABX8LHZXm5flX8Y96rPCOu\n",
       "vlStLInpDsEGlL2RDfeVQFY19Nxc8/fwIxzsC/APg/WXGkzZpCUAAAAASUVORK5CYII=\n",
       "\" style=\"display:inline;vertical-align:middle;\" /></a></span>"
      ],
      "text/plain": [
       "{x in Real, x not-in (3,5)} |- (x <= 3) or (5 <= x)"
      ]
     },
     "metadata": {},
     "output_type": "display_data"
    }
   ],
   "source": [
    "NotInSet(x, IntervalOO(three, five)).deduce_real_element_bounds(assumptions=[InSet(x, Real), NotInSet(x, IntervalOO(three, five))])"
   ]
  },
  {
   "cell_type": "code",
   "execution_count": 136,
   "metadata": {},
   "outputs": [
    {
     "data": {
      "text/html": [
       "<span style=\"font-size:20px;\"><a class=\"ProveItLink\" href=\"../../../ordering/__pv_it/theorems/d1323f34847310a404e8089c2c268d3c2eb89dbf0/expr.ipynb\"><img src=\"data:image/png;base64,iVBORw0KGgoAAAANSUhEUgAAADQAAAAQBAMAAACra0H4AAAAMFBMVEX///9ERES6uroQEBAyMjLc\n",
       "3NyYmJgiIiJmZmaqqqp2dnbMzMxUVFSIiIju7u4AAAAd7oVFAAAAAXRSTlMAQObYZgAAAAlwSFlz\n",
       "AAAOxAAADsQBlSsOGwAAAMtJREFUGNNjYMAAbM6CX4rFGLACRtYDTMfkcEgtYBDYg1OqlQVF6GJ5\n",
       "uQNcihFZRuUekq5zb4CMt3der5oApFn9kAzklnQFMhp4z3IUAGmWAISUSX3tA6AvAtj+8SSApJCc\n",
       "sSwPZCk3AwfYbobN5UAgADVQLg0sxnwBTD1EdvwOxgcgln4AH4hmR5bi2ArU/1DhMAMXSID3ApIU\n",
       "n8A1Bob5+5oZNMEingipBoY0RgWGF3c52yaARd4IPYCF/McARpGfyMGhJQ4JKCgAAF8xNF8aQs/g\n",
       "AAAAAElFTkSuQmCC\n",
       "\" style=\"display:inline;vertical-align:middle;\" /></a>, <a class=\"ProveItLink\" href=\"../__pv_it/demonstrations/675c9901d83794d43454c0e819683ce662c065390/expr.ipynb\"><img src=\"data:image/png;base64,iVBORw0KGgoAAAANSUhEUgAAAE8AAAAVCAMAAAAw/0MlAAAAP1BMVEX///9jY2MJCQkdHR0NDQ0W\n",
       "FhZERES6uroQEBAyMjLc3NyYmJgiIiJmZmaqqqp2dnbMzMxUVFSIiIju7u4AAAANhLF7AAAAAXRS\n",
       "TlMAQObYZgAAAAlwSFlzAAAOxAAADsQBlSsOGwAAAX1JREFUOMuNldm2wyAIRbmTxogT+P/fetEM\n",
       "TRya+tCVLHVzOFAC8Gatr0dCjPB+rfC0DJ+PQT+e1vRwICYY8KJrzwVZRTzZ9zynRzxMTZpGthI2\n",
       "+YwWwoBHLc+UNJUqj9ZNWaTw7xdNx4vW3Hk+X0QtE4HaEEOKA30BGp5arlqLg0yUOIbgL5ZIHDbQ\n",
       "82hteYuJgQ6nQ9mTpCkRuJddprSSpZ63SvyGl6umZRNjRYOVy1ZMSK9qm75YGy9Ay+OcaytsznlJ\n",
       "vrjkbrnFBRF/vuVH3XkldMeradlc48W8m3DLjQvmYufBW+upLt+NV7PTW3F0lsDMt8ZD6Hg6lZWX\n",
       "FK71verzKGI0pGX35mg+Au163p5L1cev/tv82+qh5D1yedPX/IxPccbLqtp2Oq5ECO/1dQHYiRrv\n",
       "7M0uTt+ahzyncpbmAsRzPzh3RMfZFLJfQUl9zXxe+cFfa8UPJt+EF0YDaTawVgUPPKZPbp23/RNv\n",
       "NIvVdOKnPsLz94MK7h/chRHhJG6eewAAAABJRU5ErkJggg==\n",
       "\" style=\"display:inline;vertical-align:middle;\" /></a> <a class=\"ProveItLink\" href=\"../__pv_it/demonstrations/762f0bc40668b0f2d90eca267f74f73ff57f74fe0/proof.ipynb\" style=\"text-decoration: none\">&nbsp;&#x22A2;&nbsp;&nbsp;</a><a class=\"ProveItLink\" href=\"../__pv_it/demonstrations/7554b79e059b39407f3fa035f510852adfc7f9110/expr.ipynb\"><img src=\"data:image/png;base64,iVBORw0KGgoAAAANSUhEUgAAAJcAAAAVBAMAAAC5yWGZAAAAMFBMVEX////MzMxUVFRERES6uroi\n",
       "IiIQEBCYmJhmZmYyMjLu7u52dnaqqqqIiIjc3NwAAACW8nlqAAAAAXRSTlMAQObYZgAAAAlwSFlz\n",
       "AAAOxAAADsQBlSsOGwAAAn1JREFUOMuNVU1o1FAQ/vanm2x2ExZFFIuoxR+sFFb8uSmLB0+KqyiK\n",
       "PxCkF6VCQAotqC1KW7QIVQRBRKKlUBVhFQSxHvaiWDxsKJSKuBIQ0UtBKRXqwTrz8rdJzeKDzJu8\n",
       "mXzzZr55LwBsxA3tP1b8IWDUaqw9bUVXPsWDHWDxPs66CpiJLOUrQG7i2T/dVQNQRuLADgNZk5V2\n",
       "FmtYPKJEb2NjAH6/wf8uIBsxWCqBSf2sXWKxjcUQ4VvY7rlIx82GD3qAzBKUSYeRlbdInGOthSsv\n",
       "EtCBWvC9erIRCxkTk1Gs7uvOXGGwO6zliCKZacoT4i7f8cnp8IdZA8M0PZ16MOFxOv3KDWsz2HO4\n",
       "u+LdQab6n239UBIO48c8FKXe3vqaYq4TsfvVDrnsrL/wuuEbGKxX6OuBuhsbCwa6WH94z9+SjClr\n",
       "gCo4glMkbel3UvCgDfh0VATYW6EvA06I4lWhLAKDXKpkAHYZfeZmKoKOTiAB2e2PLX4DS7YAW+tU\n",
       "w84LWjMlKPNAn8jzu59mAdd4SvxgMPKyomCzEGD73F7N2i4YFgjMiBJwXpwXndMEDtqKGU5zb1vb\n",
       "r63AG+etvBxumtjp7ayhNdJ/8JhClrEbGC1tQg4RAoAz9Fxw1JkNYkqRsUY1CzetsiOpU4khFZn8\n",
       "2upB7Pdonv7ouc7RM+yoY05NiXykKkpXcJxusvg5rqeronFWUMfU80PB1dHtNtrVxQ7giEu+Y05w\n",
       "/7y8Ugg3q3LDeneRi1BCSyF6BHqDC04rh02H0GR89c5yzIjeAj3NwOgWwJ4m9i+R91Sw6bGjPBq2\n",
       "qhVJjDYBiwZSivG+IpBmxdrVJb+H2Xiwz8BffK6WLNwm0vQAAAAASUVORK5CYII=\n",
       "\" style=\"display:inline;vertical-align:middle;\" /></a></span>"
      ],
      "text/plain": [
       "{x in Real, x not-in [4,6)} |- (x < 4) or (6 <= x)"
      ]
     },
     "metadata": {},
     "output_type": "display_data"
    }
   ],
   "source": [
    "NotInSet(x, IntervalCO(four, six)).deduce_real_element_bounds(assumptions=[InSet(x, Real), NotInSet(x, IntervalCO(four, six))])"
   ]
  },
  {
   "cell_type": "code",
   "execution_count": 137,
   "metadata": {},
   "outputs": [
    {
     "data": {
      "text/html": [
       "<span style=\"font-size:20px;\"><a class=\"ProveItLink\" href=\"../../../ordering/__pv_it/theorems/d1323f34847310a404e8089c2c268d3c2eb89dbf0/expr.ipynb\"><img src=\"data:image/png;base64,iVBORw0KGgoAAAANSUhEUgAAADQAAAAQBAMAAACra0H4AAAAMFBMVEX///9ERES6uroQEBAyMjLc\n",
       "3NyYmJgiIiJmZmaqqqp2dnbMzMxUVFSIiIju7u4AAAAd7oVFAAAAAXRSTlMAQObYZgAAAAlwSFlz\n",
       "AAAOxAAADsQBlSsOGwAAAMtJREFUGNNjYMAAbM6CX4rFGLACRtYDTMfkcEgtYBDYg1OqlQVF6GJ5\n",
       "uQNcihFZRuUekq5zb4CMt3der5oApFn9kAzklnQFMhp4z3IUAGmWAISUSX3tA6AvAtj+8SSApJCc\n",
       "sSwPZCk3AwfYbobN5UAgADVQLg0sxnwBTD1EdvwOxgcgln4AH4hmR5bi2ArU/1DhMAMXSID3ApIU\n",
       "n8A1Bob5+5oZNMEingipBoY0RgWGF3c52yaARd4IPYCF/McARpGfyMGhJQ4JKCgAAF8xNF8aQs/g\n",
       "AAAAAElFTkSuQmCC\n",
       "\" style=\"display:inline;vertical-align:middle;\" /></a>, <a class=\"ProveItLink\" href=\"../__pv_it/demonstrations/ca40149706044b55b3d4298cc629b98d4b2e565d0/expr.ipynb\"><img src=\"data:image/png;base64,iVBORw0KGgoAAAANSUhEUgAAAE8AAAAVCAMAAAAw/0MlAAAAP1BMVEX///9jY2MJCQkdHR0NDQ0W\n",
       "FhZERES6uroQEBAyMjLc3NyYmJgiIiJmZmaqqqp2dnbMzMxUVFSIiIju7u4AAAANhLF7AAAAAXRS\n",
       "TlMAQObYZgAAAAlwSFlzAAAOxAAADsQBlSsOGwAAAYNJREFUOMuVVdt2hCAMpNuWiwQiCf//rQVB\n",
       "uei6lgfPcZOMmcmQFeLmLLevp0MA622C4SHdJ0jLdwWo7qJr6N885kcsRw+JzrnAn/FcH2WzFUiX\n",
       "D/g+ApS+rZePeDCA2w2vCOn6SNialfIWjyT8/oBpPxSGpa9BBxFL55Hf4ylDLEI/LN9B4zBFjnJr\n",
       "IKqKx0SBV8SmyZIHy2agiy0qxWV/tuIlMSiQcE0uk7W1NFjHNr0mUlW/SAXPpmKbyIdWYc7maxNd\n",
       "9CQOa5W9FX3By2K4gduqAeD7lR6NmT6aQjOrzY7QU1zbPPTAjbfR+6Gm4YG8vhrdfFVMnJkH48Hk\n",
       "RX+MM1zi7f5jqYqi2JmPhHJT+s5AxRo5Pu91dkOmm/F8XNklPNXzMz5MmwL3rnzE2qc51krCk7be\n",
       "3yQmCe/sIBeHlxoXyQrHeGsmwJ6B6OpVf3vf7BfKNN9ulOfV5vn5vjKnXOtOxc/333LhCTmtZ6bn\n",
       "eJP5miv7DfSP/XxpsYU+/n9o9Qf9aRI+M5IEswAAAABJRU5ErkJggg==\n",
       "\" style=\"display:inline;vertical-align:middle;\" /></a> <a class=\"ProveItLink\" href=\"../__pv_it/demonstrations/97e075dc494cb52396c686423a08dd7d75c4a6830/proof.ipynb\" style=\"text-decoration: none\">&nbsp;&#x22A2;&nbsp;&nbsp;</a><a class=\"ProveItLink\" href=\"../__pv_it/demonstrations/104036cd5477588e9abfed14de4ce1a532c0c4c00/expr.ipynb\"><img src=\"data:image/png;base64,iVBORw0KGgoAAAANSUhEUgAAAJcAAAAVBAMAAAC5yWGZAAAAMFBMVEX////MzMxUVFRERES6uroi\n",
       "IiIQEBCYmJhmZmYyMjLu7u52dnaqqqqIiIjc3NwAAACW8nlqAAAAAXRSTlMAQObYZgAAAAlwSFlz\n",
       "AAAOxAAADsQBlSsOGwAAAoBJREFUOMuNVE1o1EAU/rKbbrKzSVgUL4qoIBUL4ooevFj35ElxRUXR\n",
       "FnLwJCoLRajizyLWrpbC3gQRiZRKVQpVEPwp2IvF4sFQKL24NiCKF8EqiD/gOm+S7CbZZHEg30ze\n",
       "vHnvez8zABwkDeM/JM0hzOgzsXbOc5DtqPhdsrF9BG9it7RGo/EDi1HpFFC9YsWe0MsAq0Wlc0Q4\n",
       "t7Na7UNWnOshWEtwHxi3pTPx1G4BajkiO3uDMMcjrUCp0PoiwTaCYaAb2B5vbBDIREQLz92AgBSf\n",
       "TtK6i3IoAjCBX8DLZpzancDJjIW5kCn2pJXzR/y7KVjyEqlUJq0G9h1YKnoaytFg+rJljPBpcv7u\n",
       "C1FTNtQK2ihweAyPFbGDOuUy85T0464tVu9ZM819rhe+K/oWtUTSzYE2SZH/c2K5Aah7vilnu132\n",
       "D/s9TRXz9hDnWUMfR0f5nRLegsY+EcyK5QrgmEge375XlLYKrc9HfM1LuGxt4kkwcQKQoHr9YQTC\n",
       "fEawzs2Go4myZjhZNjq9lCfit5uaeVynSfpKxriW3V6AgwR7vF7NOr4xeNUMGANOE8gmhQnsd5gV\n",
       "bg2wb4Sv3J/SSvhhwu+zVpiQ/+IBd1nCLmCs2E1NGmpayD8JB1zZ4kYxpTntWYstI1QAtiNlgtdZ\n",
       "KVDx366+hr2B65QXof0hHHFF425OefGxYKX9vE72i3C05QlTnhGNswqYqGvDbU+HcYrwkFd8d1vi\n",
       "/ZN7erWpo4hGY6P26wuUhCK68smvCoxS+P9AZF8JXqeP8O5ywoi+AoMddOkVQG/gZh4Wo8X1Q0Q/\n",
       "7XSIgq7fWAdnvZF/VkjWFY4MO3FfbyPyJdnYe+AfoMCYB9tgKpIAAAAASUVORK5CYII=\n",
       "\" style=\"display:inline;vertical-align:middle;\" /></a></span>"
      ],
      "text/plain": [
       "{x in Real, x not-in (7,9]} |- (x <= 7) or (9 < x)"
      ]
     },
     "metadata": {},
     "output_type": "display_data"
    }
   ],
   "source": [
    "NotInSet(x, IntervalOC(seven, nine)).deduce_real_element_bounds(assumptions=[InSet(x, Real), NotInSet(x, IntervalOC(seven, nine))])"
   ]
  },
  {
   "cell_type": "code",
   "execution_count": 138,
   "metadata": {},
   "outputs": [
    {
     "data": {
      "text/html": [
       "<span style=\"font-size:20px;\"><a class=\"ProveItLink\" href=\"../../../ordering/__pv_it/theorems/d1323f34847310a404e8089c2c268d3c2eb89dbf0/expr.ipynb\"><img src=\"data:image/png;base64,iVBORw0KGgoAAAANSUhEUgAAADQAAAAQBAMAAACra0H4AAAAMFBMVEX///9ERES6uroQEBAyMjLc\n",
       "3NyYmJgiIiJmZmaqqqp2dnbMzMxUVFSIiIju7u4AAAAd7oVFAAAAAXRSTlMAQObYZgAAAAlwSFlz\n",
       "AAAOxAAADsQBlSsOGwAAAMtJREFUGNNjYMAAbM6CX4rFGLACRtYDTMfkcEgtYBDYg1OqlQVF6GJ5\n",
       "uQNcihFZRuUekq5zb4CMt3der5oApFn9kAzklnQFMhp4z3IUAGmWAISUSX3tA6AvAtj+8SSApJCc\n",
       "sSwPZCk3AwfYbobN5UAgADVQLg0sxnwBTD1EdvwOxgcgln4AH4hmR5bi2ArU/1DhMAMXSID3ApIU\n",
       "n8A1Bob5+5oZNMEingipBoY0RgWGF3c52yaARd4IPYCF/McARpGfyMGhJQ4JKCgAAF8xNF8aQs/g\n",
       "AAAAAElFTkSuQmCC\n",
       "\" style=\"display:inline;vertical-align:middle;\" /></a>, <a class=\"ProveItLink\" href=\"../__pv_it/demonstrations/d78761de4eb7e5ed82b95d27c7dfdd73ad4a00e40/expr.ipynb\"><img src=\"data:image/png;base64,iVBORw0KGgoAAAANSUhEUgAAAE0AAAAVCAMAAAA0CpMYAAAAP1BMVEX///9jY2MJCQkdHR0NDQ0W\n",
       "FhZERES6uroQEBAyMjLc3NyYmJgiIiJmZmaqqqp2dnbMzMxUVFSIiIju7u4AAAANhLF7AAAAAXRS\n",
       "TlMAQObYZgAAAAlwSFlzAAAOxAAADsQBlSsOGwAAATpJREFUOMuVldl2hSAMReltC0TCkIT//9ai\n",
       "tBdxgvLAYulhS05CVOphLLs1I6Yn7VgA0tbRqNF4liQ6SxPKmVJGGtK8OdCEPOQjbYHyhnBIw4sw\n",
       "+EQDLpPWjzTW+P2FMKaF9uCOZoBFUZo5m7a9RJhJUoxhZ0XZIqBmaBZS5OrwJvFFQ6x8swnWQnM8\n",
       "RcvgVmb4lbiy1RUNuUY7Fts9TXLe0m+lSlZ3fBdVsoj4+SqTnqBtIblsWhZsF5Vs6Q5qMtJKc2+J\n",
       "ySVaka7QUM3RdHc20UbRmuW4KzZWxj/TpNVb9a1KQk6yrs0+MgiUrmkxL9Wut9O6HEP+ciq+nCR4\n",
       "19kk9DJyQSOyGbbkY7v90fv67dub5T6iLjmF+3YTZL4jgYykcb6/LXokFZ6nHYvtLOV/9F66kI7/\n",
       "C9b8AEFlEn1GzMh5AAAAAElFTkSuQmCC\n",
       "\" style=\"display:inline;vertical-align:middle;\" /></a> <a class=\"ProveItLink\" href=\"../__pv_it/demonstrations/205ed90f0fcac7976baa4f59835ae4a02502c0db0/proof.ipynb\" style=\"text-decoration: none\">&nbsp;&#x22A2;&nbsp;&nbsp;</a><a class=\"ProveItLink\" href=\"../__pv_it/demonstrations/558cbde28d1c7e10cec70ef7b29d3d302cf041b50/expr.ipynb\"><img src=\"data:image/png;base64,iVBORw0KGgoAAAANSUhEUgAAAJcAAAAVBAMAAAC5yWGZAAAAMFBMVEX////MzMxUVFRERES6uroi\n",
       "IiIQEBCYmJhmZmYyMjLu7u52dnaqqqqIiIjc3NwAAACW8nlqAAAAAXRSTlMAQObYZgAAAAlwSFlz\n",
       "AAAOxAAADsQBlSsOGwAAAmRJREFUOMuNVEto1FAUPfPpJJPJhEHpxiJ+8FsQRvzslFm5UhxBUNRC\n",
       "Fm4UxYAUWlBbhLZoEYoIgohGilCVQhUEsYKzUSwuJhRKRRwNiOCmoAsXdaHe+/Iyk0nzBt/ivpt3\n",
       "b879nPseAB+qZf3HSXMJmGJNac968ZNParBDLN4rjN0usBg7M2eAwuzTRP+iAxgTiSZj230Cy7us\n",
       "97JYy+IRFXoLm5Oj3wF0R5HZFwLShlm7zGInizHC97Ar+YcBILficM5vguEsa13ceVGADdTdaNn3\n",
       "Ih85F3NxrP7rrcxwm7UCUaQzTSYh7o24asejyHkH47RNzz+YDTldeBkpE88gs+LsoFP/z/R8qIQt\n",
       "PxlgGY3enlcUc72IPVzcoVeD8+detGcYFOoGoCFjY9nBucDhSZ/01DHvjVCeEzhF0td+pwUP1ojT\n",
       "RgDeCnUVcEI0rwbjLzAqEvp+LPS8giF3KzXBxmkgBV3Ox/ZaO5tYF3TDNwWtuQqMX8AQ15m+2/Qs\n",
       "4RpvqR8MRl6eAuyAnNW8L8GwTGBOOxhwXtwXm8sEDvuGm1jmm0CvroYsE3tkZpEykf2DxxSyin3A\n",
       "ZGULCkgk4GKgL24SW4aMdepZOwHG7rQN4lkrM/n1NaM4GF6jhY9Se82VjQf6w6CnRD4yM4ZkE9N9\n",
       "ohzz55SdrYnB6QamGuZYq1n9waBtvHCTSj4qyQ/MKZ6fF1dLzaEVg2bc8N5d4iZU0FWKX4HB1gNn\n",
       "VdtNR2KuWvQ6fQvvsmLFX4GBDr78CmB/B/vX2HdG/SrDKpOY7AAWD2SU1b4ikOUp7cUViSypwT4D\n",
       "/wBM+pmXoYXH8gAAAABJRU5ErkJggg==\n",
       "\" style=\"display:inline;vertical-align:middle;\" /></a></span>"
      ],
      "text/plain": [
       "{x in Real, x not-in [1,6]} |- (x < 1) or (6 < x)"
      ]
     },
     "metadata": {},
     "output_type": "display_data"
    }
   ],
   "source": [
    "NotInSet(x, IntervalCC(one, six)).deduce_real_element_bounds(assumptions=[InSet(x, Real), NotInSet(x, IntervalCC(one, six))])"
   ]
  },
  {
   "cell_type": "code",
   "execution_count": 139,
   "metadata": {},
   "outputs": [
    {
     "data": {
      "text/html": [
       "<span style=\"font-size:20px;\"><a class=\"ProveItLink\" href=\"../../../ordering/__pv_it/theorems/4aa8d696b1f407d6126de9f51a052e8d90e0848c0/expr.ipynb\"><img src=\"data:image/png;base64,iVBORw0KGgoAAAANSUhEUgAAADMAAAAQBAMAAABJt1qBAAAAMFBMVEX////MzMwyMjKqqqoiIiJm\n",
       "ZmaYmJju7u5EREQQEBC6urqIiIh2dnZUVFTc3NwAAAAqL9KcAAAAAXRSTlMAQObYZgAAAAlwSFlz\n",
       "AAAOxAAADsQBlSsOGwAAAM1JREFUGNNjYMAASTP6VWYkMGAFDW8Z1mYUYJd6w8DBeAGXFOsDBRSh\n",
       "HS4uCnCpBmSZRdsRunjLQQby3dm3ASTAp45koITRAyBj5QOO7yABpgdwqZcqX0AmsE9jYHUASyE5\n",
       "I60IRLN+YGA5AGJIugBBA0SKowzkZc4GhvoFIIEKJF2MAe1Aun4DQz5YgAXZX4EvQFIGDJeYQS7g\n",
       "3oAkVcENNJFjA7MrK1hEGS71lIEtoQvowtsH324Ei9R2FcBCvo+hQ98AOTjWtLgghxwApbZCEcpv\n",
       "FP8AAAAASUVORK5CYII=\n",
       "\" style=\"display:inline;vertical-align:middle;\" /></a>, <a class=\"ProveItLink\" href=\"../../../ordering/__pv_it/theorems/6e5cad5b2984ed0d75bd47bd0c542ec447a4f3570/expr.ipynb\"><img src=\"data:image/png;base64,iVBORw0KGgoAAAANSUhEUgAAADEAAAAQBAMAAABNQoq8AAAAMFBMVEX///+YmJjMzMzc3NyIiIhU\n",
       "VFR2dna6urqqqqpmZmYyMjIiIiIQEBBERETu7u4AAAD7tRWPAAAAAXRSTlMAQObYZgAAAAlwSFlz\n",
       "AAAOxAAADsQBlSsOGwAAANZJREFUGNNjYEAHUmfvrz4rAGTw3dmAJnXBlKFU9gGQwTUBXcaMgZcp\n",
       "AMjgb8CU4TRYAGTUP4CK+O7evQAucwHIyIZKVPkh9LC+A5m21CUCxGdeh2SabpcB0G2/Hrw3ADnE\n",
       "AC5js/o3SD/HPwYeB5AMkgsEX4FozgUM/AlAWmc3EFyAyPA+BPmUO4GhHuTut0h6mCbcg3hnPsjd\n",
       "3Mj+mWQLklHgOwjiszggybxlARrHKsALCZ4VcBlLBkaB60BXh02ECDy9/gAW1pcZ7q5HDrOy25DQ\n",
       "gQIAY/lDzDbeA58AAAAASUVORK5CYII=\n",
       "\" style=\"display:inline;vertical-align:middle;\" /></a>, <a class=\"ProveItLink\" href=\"../../../ordering/__pv_it/theorems/d1323f34847310a404e8089c2c268d3c2eb89dbf0/expr.ipynb\"><img src=\"data:image/png;base64,iVBORw0KGgoAAAANSUhEUgAAADQAAAAQBAMAAACra0H4AAAAMFBMVEX///9ERES6uroQEBAyMjLc\n",
       "3NyYmJgiIiJmZmaqqqp2dnbMzMxUVFSIiIju7u4AAAAd7oVFAAAAAXRSTlMAQObYZgAAAAlwSFlz\n",
       "AAAOxAAADsQBlSsOGwAAAMtJREFUGNNjYMAAbM6CX4rFGLACRtYDTMfkcEgtYBDYg1OqlQVF6GJ5\n",
       "uQNcihFZRuUekq5zb4CMt3der5oApFn9kAzklnQFMhp4z3IUAGmWAISUSX3tA6AvAtj+8SSApJCc\n",
       "sSwPZCk3AwfYbobN5UAgADVQLg0sxnwBTD1EdvwOxgcgln4AH4hmR5bi2ArU/1DhMAMXSID3ApIU\n",
       "n8A1Bob5+5oZNMEingipBoY0RgWGF3c52yaARd4IPYCF/McARpGfyMGhJQ4JKCgAAF8xNF8aQs/g\n",
       "AAAAAElFTkSuQmCC\n",
       "\" style=\"display:inline;vertical-align:middle;\" /></a>, <a class=\"ProveItLink\" href=\"../__pv_it/theorems/aec44678e8010b2169e9438c147d2320a68def4d0/expr.ipynb\"><img src=\"data:image/png;base64,iVBORw0KGgoAAAANSUhEUgAAAEwAAAAVCAMAAADbyPgmAAAARVBMVEX///8/Pz9vb28YGBgJCQkd\n",
       "HR0NDQ0WFhZERES6uroQEBAyMjLc3NyYmJgiIiJmZmaqqqp2dnbMzMxUVFSIiIju7u4AAAAQwmFf\n",
       "AAAAAXRSTlMAQObYZgAAAAlwSFlzAAAOxAAADsQBlSsOGwAAAVRJREFUOMuNlem2hSAIhb2zQ4IK\n",
       "+P6PetGGU6dW6Z9ay49NwNaMuVnT65UByh36DATZXrMzT+seKTRAivUwIoZuKG3AETEYq6GmB4Qt\n",
       "wN9vGBFzVW4RF1gBKkNflmGPCDNJyTltjuhTlHAxqokyT3xsGWl8WhHtHxMb3FoUur8in8Wc1y1b\n",
       "ZT/NqqmlTjMS9Rl1n+Im9m6yrQbfGNwPxqQu7XlGWmdwX1LxoOvnG8C+iWHtQ84H//TQml9t9Xyw\n",
       "YY9OZ3t72+s6zKJLu2aPRcy1kkUO/oLzWZHacsZ6dhm2WhUR6wz5hr9MpjEOr8RaIAWTWu5VrKy9\n",
       "VCTVIqhibldWSEeTrWVazZIA2/x1iPNGm5vFBRHUD0kY9y0Ssl9yISbEuUzELRGALGzGeO/rzw89\n",
       "T3B7nJKMXkHhmcyj99lkH0nhUbE3k12RPHzT0sXd8PgP8O4fqoEUmbiSniQAAAAASUVORK5CYII=\n",
       "\" style=\"display:inline;vertical-align:middle;\" /></a> <a class=\"ProveItLink\" href=\"../__pv_it/demonstrations/06adcc5765328ce0c893ccec17c887d6e37c31910/proof.ipynb\" style=\"text-decoration: none\">&nbsp;&#x22A2;&nbsp;&nbsp;</a><a class=\"ProveItLink\" href=\"../__pv_it/theorems/176f4214b23b1822ae360523e3bd62c42dd892060/expr.ipynb\"><img src=\"data:image/png;base64,iVBORw0KGgoAAAANSUhEUgAAAJYAAAAVBAMAAABWCwqnAAAAMFBMVEX////MzMxUVFRERES6uroi\n",
       "IiIQEBCYmJhmZmYyMjLu7u52dnaqqqqIiIjc3NwAAACW8nlqAAAAAXRSTlMAQObYZgAAAAlwSFlz\n",
       "AAAOxAAADsQBlSsOGwAAAi5JREFUOMuNU01IG0EU/ozRrJtNEMWLYG2htFQI6M2L1ZMnoRECLaaC\n",
       "0PZSUAQRmoOQi4rmoLeKiESDRZFQEQqlReglASloEESwFZZ68SJU8BRj8c3MTsxM2dWBfW/fvO/9\n",
       "vwFgw+2E73GjaEI/XPX+gn7z2xv7E+7nSJOtLWTeuWPNeQ9fdWlG2xhpYWSDvgV3rDHq4SuQZHSC\n",
       "kQ5GpukruWNr9TtruUJ4z0gNay1Pf4j6UqxQ79oKdld3/ypdIX1kJEjTMdiELHIYjN5qx2ehYFNE\n",
       "swcr351phuKOqz8750S34eTEcoOxRW2JHMjBH34T3DHf5pGToYghwm0OyhGPoJu8JrjwCDjh7aXe\n",
       "fl40//FL84vcGMc8gddUlh0o+vgIzl7KhD+NYpJYngsNwABvHEXfT2OYJzsphybN83gLVMEQi+Fb\n",
       "Khc/B8SJtYpx2xYfaG0PMANcsf9n5RWX5q3MF4EKuq83MC+J9TorWmdLX3H4S6ovad7LagRe2GZa\n",
       "qdG8RuAv8ZwQo42QNZZgFNUapXkOXUCm5wmCUHpvluCb3wPGnPfxmLNqin/BWqn0XpqPsanvN0+h\n",
       "zwmRHRQ70YVcknqUErdrop/Bh8BTdMrcD485l+YpNAHrJ9Z0ufqAWLDVXw8i9UBMXBpCXUWTX/16\n",
       "W9s4XzBpHkNNvb74FW8oHFV1/Ro2YStY8Xxdjv7wP9yBfe6hP9Xkatsbm/Hwpccx272x4YKrOvRf\n",
       "Gude2BtvrJXXgUWomAAAAABJRU5ErkJggg==\n",
       "\" style=\"display:inline;vertical-align:middle;\" /></a></span>"
      ],
      "text/plain": [
       "{a in Real, b in Real, x in Real, x not-in [a,b]} |- (x < a) or (b < x)"
      ]
     },
     "metadata": {},
     "output_type": "display_data"
    }
   ],
   "source": [
    "# more generally\n",
    "NotInSet(x, IntervalCC(a, b)).deduce_real_element_bounds(assumptions=[InSet(x, Real), InSet(a, Real), InSet(b, Real), NotInSet(x, IntervalCC(a, b))])"
   ]
  },
  {
   "cell_type": "markdown",
   "metadata": {},
   "source": [
    "### Some direct deductions of non-membership-related bounds"
   ]
  },
  {
   "cell_type": "code",
   "execution_count": 140,
   "metadata": {},
   "outputs": [
    {
     "data": {
      "text/html": [
       "<span style=\"font-size:20px;\"><a class=\"ProveItLink\" href=\"../../../ordering/__pv_it/theorems/d1323f34847310a404e8089c2c268d3c2eb89dbf0/expr.ipynb\"><img src=\"data:image/png;base64,iVBORw0KGgoAAAANSUhEUgAAADQAAAAQBAMAAACra0H4AAAAMFBMVEX///9ERES6uroQEBAyMjLc\n",
       "3NyYmJgiIiJmZmaqqqp2dnbMzMxUVFSIiIju7u4AAAAd7oVFAAAAAXRSTlMAQObYZgAAAAlwSFlz\n",
       "AAAOxAAADsQBlSsOGwAAAMtJREFUGNNjYMAAbM6CX4rFGLACRtYDTMfkcEgtYBDYg1OqlQVF6GJ5\n",
       "uQNcihFZRuUekq5zb4CMt3der5oApFn9kAzklnQFMhp4z3IUAGmWAISUSX3tA6AvAtj+8SSApJCc\n",
       "sSwPZCk3AwfYbobN5UAgADVQLg0sxnwBTD1EdvwOxgcgln4AH4hmR5bi2ArU/1DhMAMXSID3ApIU\n",
       "n8A1Bob5+5oZNMEingipBoY0RgWGF3c52yaARd4IPYCF/McARpGfyMGhJQ4JKCgAAF8xNF8aQs/g\n",
       "AAAAAElFTkSuQmCC\n",
       "\" style=\"display:inline;vertical-align:middle;\" /></a>, <a class=\"ProveItLink\" href=\"../__pv_it/demonstrations/8da49d11b7fedae98e193551124a9fe4bba0b2bd0/expr.ipynb\"><img src=\"data:image/png;base64,iVBORw0KGgoAAAANSUhEUgAAAE0AAAAVCAMAAAA0CpMYAAAAP1BMVEX///9jY2MJCQkdHR0NDQ0W\n",
       "FhZERES6uroQEBAyMjLc3NyYmJgiIiJmZmaqqqp2dnbMzMxUVFSIiIju7u4AAAANhLF7AAAAAXRS\n",
       "TlMAQObYZgAAAAlwSFlzAAAOxAAADsQBlSsOGwAAAV1JREFUOMuVldtywyAMRN20BWPERRL//61F\n",
       "tI65xaQ8eJjJ+kTSLnjbbtZR7Qkg3mnXAsPXPuhtte4lEXvp4ZxRXQVHCE7pNc3pjnYo2aTmJXb5\n",
       "4ZNf0qBvA8sg970Zl4A4mVsaKfj+AtPS9iSDxFS7o3dh3NK0Id4wDrWVajEN3vlkTxoTIccQ/DVY\n",
       "MZPNC8MgDX8O9inJYySkzV1jMtKKpTktJuqsJ/xtQyQ2v2rzQNBetD5sNQ1wnMzlqWBd01XcAeDz\n",
       "kR9qpDk1G3Tx55TsTfFcYuWnQbd9ZbE0qaS4P4kWz5mboMH02PggJtUJSSU1J43zqUDJY6jCRpt2\n",
       "M1osIhLHnz1i3alPkV2m6boz4zFOaAc4WXCGv7Ru67yxy5V4Z5sxMT40jzRIZQkI4PxdZ/7i1NuP\n",
       "oLKn5vV14/n9G8nwShrev98OtZIyvU/rwzZK6R937+TwhPV3Ydc/gqESn50Sjs0AAAAASUVORK5C\n",
       "YII=\n",
       "\" style=\"display:inline;vertical-align:middle;\" /></a> <a class=\"ProveItLink\" href=\"../__pv_it/demonstrations/d769f6b7698dd7b794c21faab82a607fab2513410/proof.ipynb\" style=\"text-decoration: none\">&nbsp;&#x22A2;&nbsp;&nbsp;</a><a class=\"ProveItLink\" href=\"../__pv_it/demonstrations/6ea335a5a39ece6008a7f6f2526e8f888e0584af0/expr.ipynb\"><img src=\"data:image/png;base64,iVBORw0KGgoAAAANSUhEUgAAAJcAAAAVBAMAAAC5yWGZAAAAMFBMVEX////MzMxUVFRERES6uroi\n",
       "IiIQEBCYmJhmZmYyMjLu7u52dnaqqqqIiIjc3NwAAACW8nlqAAAAAXRSTlMAQObYZgAAAAlwSFlz\n",
       "AAAOxAAADsQBlSsOGwAAAnhJREFUOMuNVE1o1FAQ/jbdTbJpsqyKF4v4gygWhC14VXOxJ8UogkUt\n",
       "BPEkiItSbMGfgtRuLUJvgohERKhKoQherOBeFIsHQ6EUiqsBEXpR2pNYpOub95ImfZssBjJ5mZn3\n",
       "zcz7Zh6AAFlP6T806w+HseqZ9rwva75kgx0n8SndtjTWAyxISnMapZk7duoGqwoYE+kVVvDORtGj\n",
       "dTeJ7SSeA5Mw/6aHfwjo1VSLEkB1oQ3T+iaJHhKjwLe68ScdbBBQW5SzdJTqKpQ14BIpCpQpL8AF\n",
       "em3EYObjxD7Vw6yMNXCPZ+ZAWQEe0LqTUaQTTSZHNH9Hrlqfl9hYrGKcfabmnsxEnM6/iYyFZeAV\n",
       "wqwoO+jTJI9GB2OdE1hGo7vrLYu5k8cetg7ojtC/jrthB1sO8dUuoBHGZkzsLgv7y/7QUcecP8Ly\n",
       "nMB5JgNtVeHhSiMJOk6x9wNfbQbO8lx5+iGbS2cix1u47e1jehcXgRz0sD/2JxpYr1B24jQCk9Oq\n",
       "ig67QtUpj9Y9yxijT26ZwJiX3wp2lURv2KvFIALbBBypbwQDLvN5calM4ERgeFKZrNl/Ae/Fj7MF\n",
       "UZlNT4AlykR+DS/YDgeHgKf2XnRCIqALWASuiZ+FPfzTwYwXwjJjAoyDigvGs1Yh8j9vu4tjIYYx\n",
       "vyjGqa9WYwSPC+0zcaaMfFyP+2yqn6OaK5Nuvs4bZysbt4Y5Gh/WAG+0QrPZZAinQzKEOcfg87V4\n",
       "0DXeaMZ9/+MN2mKjUJZHYCi+4ErORtNJyVVLjtMPhLOc8ci3wGAbX7oFcLiN/bv035F9K9Olxbhs\n",
       "AyYHMirZvjxQyc+0Wy2J/MwG+wr8AwJkl/4CMTPDAAAAAElFTkSuQmCC\n",
       "\" style=\"display:inline;vertical-align:middle;\" /></a></span>"
      ],
      "text/plain": [
       "{x in Real, x not-in [2,3]} |- (x < 2) or (3 < x)"
      ]
     },
     "metadata": {},
     "output_type": "display_data"
    }
   ],
   "source": [
    "Or(Less(x, two), Less(three, x) ).prove(assumptions=[InSet(x, Real), NotInSet(x, IntervalCC(two, three))])"
   ]
  },
  {
   "cell_type": "code",
   "execution_count": 141,
   "metadata": {},
   "outputs": [
    {
     "data": {
      "text/html": [
       "<span style=\"font-size:20px;\"><a class=\"ProveItLink\" href=\"../../../ordering/__pv_it/theorems/d1323f34847310a404e8089c2c268d3c2eb89dbf0/expr.ipynb\"><img src=\"data:image/png;base64,iVBORw0KGgoAAAANSUhEUgAAADQAAAAQBAMAAACra0H4AAAAMFBMVEX///9ERES6uroQEBAyMjLc\n",
       "3NyYmJgiIiJmZmaqqqp2dnbMzMxUVFSIiIju7u4AAAAd7oVFAAAAAXRSTlMAQObYZgAAAAlwSFlz\n",
       "AAAOxAAADsQBlSsOGwAAAMtJREFUGNNjYMAAbM6CX4rFGLACRtYDTMfkcEgtYBDYg1OqlQVF6GJ5\n",
       "uQNcihFZRuUekq5zb4CMt3der5oApFn9kAzklnQFMhp4z3IUAGmWAISUSX3tA6AvAtj+8SSApJCc\n",
       "sSwPZCk3AwfYbobN5UAgADVQLg0sxnwBTD1EdvwOxgcgln4AH4hmR5bi2ArU/1DhMAMXSID3ApIU\n",
       "n8A1Bob5+5oZNMEingipBoY0RgWGF3c52yaARd4IPYCF/McARpGfyMGhJQ4JKCgAAF8xNF8aQs/g\n",
       "AAAAAElFTkSuQmCC\n",
       "\" style=\"display:inline;vertical-align:middle;\" /></a>, <a class=\"ProveItLink\" href=\"../__pv_it/demonstrations/45b51132b6fb38f7451890e6ec10b7ca05fc8a020/expr.ipynb\"><img src=\"data:image/png;base64,iVBORw0KGgoAAAANSUhEUgAAAFEAAAAVCAMAAAAJmPJ+AAAAP1BMVEX///9jY2MJCQkdHR0NDQ0W\n",
       "FhZERES6uroQEBAyMjLc3NyYmJgiIiJmZmaqqqp2dnbMzMxUVFSIiIju7u4AAAANhLF7AAAAAXRS\n",
       "TlMAQObYZgAAAAlwSFlzAAAOxAAADsQBlSsOGwAAAZ9JREFUOMuNVVmWgzAMY7YsxFmd+591bALF\n",
       "ZinNB69pHUWShTtNb9b8dvtYf7E8yl1LT/W2PRSUKncpLzRyjsYeKzOtwpeG94hRnkS/PCNjd812\n",
       "9lRY4azqtEDBL9c3BsPutTks1hj+GOItWjPw9wvipBtOOeatEVMXxNwNSesbTrXIY15CKLuMk3z5\n",
       "J2ytYsk5CWNwM+4lOu/Xgfbf+ZLb5nnmbpL0VtsUd9s8ByuoKPgNpbSqyLMH/JsbhALxCHQ8kBV1\n",
       "v9mf2wZJqpa9xt4XEcPBRBbwhVEpLA4Afr7pYXZpMklO9gL7Ii70paL0tUQpRAbKOnMrYlkEG0Vy\n",
       "dD6Mdtk1E52UI6ogwiGbA6Mv7DSikRwTECE7VQbOIoxtsoeomqHC1Zdq3G0dPo7OGNoX5J2V1/p0\n",
       "6OdIBR0IWx7Fi2OIDK69ppRhJEYpBmUb1m+rw19WF2yM66QAeFXkGDcGYG9ewvCVDfVaRADKsSZd\n",
       "vHAzfDYZr2dAvhpXd+NsNufvzGFCY/vs3Hr9xbjGQ/XVvDa3/wv1kvjTzJ8aA/4DFK8SbG4GELcA\n",
       "AAAASUVORK5CYII=\n",
       "\" style=\"display:inline;vertical-align:middle;\" /></a> <a class=\"ProveItLink\" href=\"../__pv_it/demonstrations/e0910a8dcb5f38f4e7c1b207492310f0984869370/proof.ipynb\" style=\"text-decoration: none\">&nbsp;&#x22A2;&nbsp;&nbsp;</a><a class=\"ProveItLink\" href=\"../__pv_it/demonstrations/01a52c1322851c088931e37280c8129f7856c4a60/expr.ipynb\"><img src=\"data:image/png;base64,iVBORw0KGgoAAAANSUhEUgAAAJcAAAAVBAMAAAC5yWGZAAAAMFBMVEX////MzMxUVFRERES6uroi\n",
       "IiIQEBCYmJhmZmYyMjLu7u52dnaqqqqIiIjc3NwAAACW8nlqAAAAAXRSTlMAQObYZgAAAAlwSFlz\n",
       "AAAOxAAADsQBlSsOGwAAAolJREFUOMuNVU1oE1EQ/tKkyeblp0HxYhEr+EMLQsTqzZKTeFCMoFT8\n",
       "gRx6USosiFBBbRDaqkWIIAgiEi2FqohVEIr1kIti8ZAlIPVgJCCCIIIePDQUdWZ2m9197QbfYTI7\n",
       "b9433/y8FwANBK30f1haS2BSlcD9iKVbPgWDHWLxfu2973P9wKJmTM4Cifnnax5ImYAq6dYFJqyK\n",
       "qFYQL7Ohj8UmFo8o0dvY5oLf95y7CximhnXhhsRZxrMSYkXWL7PYxWICiFvYveIaO172HBwBohrW\n",
       "h1d2uYbQRZzPst7JlZcECkDVPZ866cVCtIwFH5R66da8SpzvsJKgFhncpiQh7m3tPzntpxE3MUk/\n",
       "T2sP5qWnasxNOjJI4gUcVswOBtX/TPfHnOzPDLYY1Pu6X1PMHoldTO008mztdcckVNtC8qLopNWd\n",
       "2FgyMcz6w3stVwM1a4wqWMIpko1Ys0Mo9XpnjrqJt6KtA05I8SpQf4FxLlWHC3YFo+UdVIQChogE\n",
       "DGc+0p40EW0Cm+1qNJLS1mgO6jcwKnl+a6WZwXXJ5SeDkZelNyCUQXgZ2O/MarzhgGGJwEy9Aeek\n",
       "yAVOEzjcUGX/aHQ1BeyNbcyvh5Mm9qww84xG5A8eU8g89gFTue1IaEMb7ZE0z9u2xa3yEybaVaqZ\n",
       "f2hVf0cB1OdYlptf3TiOg57rlGE/U+Zs0jZN2zWl5iM8q4bd63SLxa+ZQqQig7OBJqaenFj1dBy4\n",
       "RhcdR53m29shnp+5qxm/p7ppvbvERcihMxP8qiCd938faeOLr3DucsDSX4GRdmD0CmDAQ/iYLJfr\n",
       "F80/7L7K0+LqoZrOkphqE2xA+1bZYF8JlLYC91Or/h5+BIN9Bv4B8HycM4th7wkAAAAASUVORK5C\n",
       "YII=\n",
       "\" style=\"display:inline;vertical-align:middle;\" /></a></span>"
      ],
      "text/plain": [
       "{x in Real, x not-in (3,6)} |- (x <= 3) or (6 <= x)"
      ]
     },
     "metadata": {},
     "output_type": "display_data"
    }
   ],
   "source": [
    "Or(LessEq(x, three), LessEq(six, x) ).prove(assumptions=[InSet(x, Real), NotInSet(x, IntervalOO(three, six))])"
   ]
  },
  {
   "cell_type": "markdown",
   "metadata": {},
   "source": [
    "### Testing the automation for RealIntervalNonmembership"
   ]
  },
  {
   "cell_type": "code",
   "execution_count": 142,
   "metadata": {},
   "outputs": [
    {
     "data": {
      "text/html": [
       "<span style=\"font-size:20px;\"><a class=\"ProveItLink\" href=\"../__pv_it/demonstrations/6027698f066625f28d010f6ea3d29449937c3aae0/expr.ipynb\"><img src=\"data:image/png;base64,iVBORw0KGgoAAAANSUhEUgAAADQAAAAVCAMAAAA+Vj1KAAAARVBMVEX///8AAAAAAAAAAAAAAAAA\n",
       "AAAAAAAAAAAAAAAAAAAAAAAAAAAAAAAAAAAAAAAAAAAAAAAAAAAAAAAAAAAAAAAAAAAAAAAeYafp\n",
       "AAAAFnRSTlMAEHarMolUmd1mIs3vRLvp8+P355HBTpz+0gAAAAlwSFlzAAAOxAAADsQBlSsOGwAA\n",
       "AQZJREFUOMudk+uWhSAIhUFNMJS5+/6POpSzSk91zpr4k7b8YMNWgCcxw40Q/FskyapVOGt6xQS/\n",
       "rxVm2xWfFJ9DVAZoWj99prNgOEA0g1yed8r89i5nkF4gRZwp9+FYySM2eeicxzBNcZv0OjUcdDQo\n",
       "aJTmA5ka74C2Ftr/5B6gLFzZteElO5Iqgt8skNGkrVJKW/VFOfVSQmaLj09mfZCnmDpzcy8F17N7\n",
       "izsUCHZvSzWJiIM/DEcIKMza8hbweUm9m2R1C51BJsItAmMNSAaVTo7E0aQGLWmsJysCSJY4Uupb\n",
       "QK9fw+zaLVdrQlVqvLgT3z92j1huvqR/xKw3nuwUb0AvHtovqhAIQIJ9LIsAAAAASUVORK5CYII=\n",
       "\" style=\"display:inline;vertical-align:middle;\" /></a> <a class=\"ProveItLink\" href=\"../__pv_it/demonstrations/3055b472b24c358652e96ca2ebc7af67ded5ba4b0/proof.ipynb\" style=\"text-decoration: none\">&nbsp;&#x22A2;&nbsp;&nbsp;</a><a class=\"ProveItLink\" href=\"../__pv_it/demonstrations/d78761de4eb7e5ed82b95d27c7dfdd73ad4a00e40/expr.ipynb\"><img src=\"data:image/png;base64,iVBORw0KGgoAAAANSUhEUgAAAE0AAAAVCAMAAAA0CpMYAAAAP1BMVEX///9jY2MJCQkdHR0NDQ0W\n",
       "FhZERES6uroQEBAyMjLc3NyYmJgiIiJmZmaqqqp2dnbMzMxUVFSIiIju7u4AAAANhLF7AAAAAXRS\n",
       "TlMAQObYZgAAAAlwSFlzAAAOxAAADsQBlSsOGwAAATpJREFUOMuVldl2hSAMReltC0TCkIT//9ai\n",
       "tBdxgvLAYulhS05CVOphLLs1I6Yn7VgA0tbRqNF4liQ6SxPKmVJGGtK8OdCEPOQjbYHyhnBIw4sw\n",
       "+EQDLpPWjzTW+P2FMKaF9uCOZoBFUZo5m7a9RJhJUoxhZ0XZIqBmaBZS5OrwJvFFQ6x8swnWQnM8\n",
       "RcvgVmb4lbiy1RUNuUY7Fts9TXLe0m+lSlZ3fBdVsoj4+SqTnqBtIblsWhZsF5Vs6Q5qMtJKc2+J\n",
       "ySVaka7QUM3RdHc20UbRmuW4KzZWxj/TpNVb9a1KQk6yrs0+MgiUrmkxL9Wut9O6HEP+ciq+nCR4\n",
       "19kk9DJyQSOyGbbkY7v90fv67dub5T6iLjmF+3YTZL4jgYykcb6/LXokFZ6nHYvtLOV/9F66kI7/\n",
       "C9b8AEFlEn1GzMh5AAAAAElFTkSuQmCC\n",
       "\" style=\"display:inline;vertical-align:middle;\" /></a></span>"
      ],
      "text/plain": [
       "{x not-in Real} |- x not-in [1,6]"
      ]
     },
     "metadata": {},
     "output_type": "display_data"
    }
   ],
   "source": [
    "NotInSet(x, IntervalCC(one, six)).prove(assumptions=[NotInSet(x, Real), InSet(x, Complex)])"
   ]
  },
  {
   "cell_type": "code",
   "execution_count": 143,
   "metadata": {},
   "outputs": [
    {
     "data": {
      "text/html": [
       "<span style=\"font-size:20px;\"><a class=\"ProveItLink\" href=\"../../../ordering/__pv_it/theorems/d1323f34847310a404e8089c2c268d3c2eb89dbf0/expr.ipynb\"><img src=\"data:image/png;base64,iVBORw0KGgoAAAANSUhEUgAAADQAAAAQBAMAAACra0H4AAAAMFBMVEX///9ERES6uroQEBAyMjLc\n",
       "3NyYmJgiIiJmZmaqqqp2dnbMzMxUVFSIiIju7u4AAAAd7oVFAAAAAXRSTlMAQObYZgAAAAlwSFlz\n",
       "AAAOxAAADsQBlSsOGwAAAMtJREFUGNNjYMAAbM6CX4rFGLACRtYDTMfkcEgtYBDYg1OqlQVF6GJ5\n",
       "uQNcihFZRuUekq5zb4CMt3der5oApFn9kAzklnQFMhp4z3IUAGmWAISUSX3tA6AvAtj+8SSApJCc\n",
       "sSwPZCk3AwfYbobN5UAgADVQLg0sxnwBTD1EdvwOxgcgln4AH4hmR5bi2ArU/1DhMAMXSID3ApIU\n",
       "n8A1Bob5+5oZNMEingipBoY0RgWGF3c52yaARd4IPYCF/McARpGfyMGhJQ4JKCgAAF8xNF8aQs/g\n",
       "AAAAAElFTkSuQmCC\n",
       "\" style=\"display:inline;vertical-align:middle;\" /></a>, <a class=\"ProveItLink\" href=\"../__pv_it/demonstrations/b8c460a31bb80fd7dde7227ba24e5f1d183f46e30/expr.ipynb\"><img src=\"data:image/png;base64,iVBORw0KGgoAAAANSUhEUgAAADAAAAARBAMAAABp3DInAAAAMFBMVEX///9ERES6uroQEBAyMjLc\n",
       "3NyYmJgiIiJmZmaqqqp2dnbMzMxUVFSIiIju7u4AAAAd7oVFAAAAAXRSTlMAQObYZgAAAAlwSFlz\n",
       "AAAOxAAADsQBlSsOGwAAAJBJREFUGNNjYMAGuOvQRThdQeSbln9o4mwVD8A0L5oEb9UDBmwSr2rh\n",
       "KkASb++8XjUBxHtRxoAi0cB7lqMAZKMnA4oEWwDbP54EIIcHTYKbgcMBwotAM4qB+QJ2yxn0A/ge\n",
       "YHHuQ4XDDFzYPDh/XzODJiJIvMEU11eg6+9ytk1ACxmew1+OMVAAnpeDQDWMCwAopDInqYDnvgAA\n",
       "AABJRU5ErkJggg==\n",
       "\" style=\"display:inline;vertical-align:middle;\" /></a> <a class=\"ProveItLink\" href=\"../__pv_it/demonstrations/717b3c1ccee862b801d4bae32cd49a0219c4a7e70/proof.ipynb\" style=\"text-decoration: none\">&nbsp;&#x22A2;&nbsp;&nbsp;</a><a class=\"ProveItLink\" href=\"../__pv_it/demonstrations/f9323f75bef5833cea61360a7ef0dc6c0dfcbb7b0/expr.ipynb\"><img src=\"data:image/png;base64,iVBORw0KGgoAAAANSUhEUgAAAFEAAAAVCAMAAAAJmPJ+AAAAP1BMVEX///9jY2MJCQkdHR0NDQ0W\n",
       "FhZERES6uroQEBAyMjLc3NyYmJgiIiJmZmaqqqp2dnbMzMxUVFSIiIju7u4AAAANhLF7AAAAAXRS\n",
       "TlMAQObYZgAAAAlwSFlzAAAOxAAADsQBlSsOGwAAAYBJREFUOMuNVdt2hCAMpNsWiIRr+P9vbRCt\n",
       "gLAuDx7DhjEzGbJCvFnb2/Axf7KA2ii5p3yVHhJCbCPnj12kW6bnFcpHzXtEq5qAYH9GC3lE3IAT\n",
       "I95Z3RZ28Ofn0w0RClkpy6uxS7Qk8fcH4drQYoXo2g29KFJBIhFDewyWiFK39RYqlFKk4L1rhKFT\n",
       "uH/SfomoIfh0au5LN5l6iknYSzYoxjKdFcAsEfP+m64FGa7D8HHDWfHqPNzbhm6FSDnvJKqCjiUo\n",
       "atmOYdCI+P3ih7yoqTXiTs7kPSPkI79jSAXI9zdkjcisK+LOUdU2qczMiToj4uBNt+51W6NDLkiJ\n",
       "WIB9Y8Yk1GBVmUZEuvxYdaydkRwHKpFqWYLrzHi6or7lrcr3r73kYujoNbuMLFfkrOlko/hSPbdw\n",
       "qBCjzrDbAq+J4a09K0C1uITmy0vudWMBDGOOm1y4DT+bjPMZ4GfjajXONnnfk8OEpvTZuePzk3FN\n",
       "Q/ZsXsvl/0KcFv4080UqgH8ZjhIu4CL9/QAAAABJRU5ErkJggg==\n",
       "\" style=\"display:inline;vertical-align:middle;\" /></a></span>"
      ],
      "text/plain": [
       "{x in Real, x <= 1} |- x not-in (1,6)"
      ]
     },
     "metadata": {},
     "output_type": "display_data"
    }
   ],
   "source": [
    "NotInSet(x, IntervalOO(one, six)).prove(assumptions= [InSet(x, Real), LessEq(x, one)])"
   ]
  },
  {
   "cell_type": "code",
   "execution_count": 144,
   "metadata": {},
   "outputs": [
    {
     "data": {
      "text/html": [
       "<span style=\"font-size:20px;\"><a class=\"ProveItLink\" href=\"../../../ordering/__pv_it/theorems/d1323f34847310a404e8089c2c268d3c2eb89dbf0/expr.ipynb\"><img src=\"data:image/png;base64,iVBORw0KGgoAAAANSUhEUgAAADQAAAAQBAMAAACra0H4AAAAMFBMVEX///9ERES6uroQEBAyMjLc\n",
       "3NyYmJgiIiJmZmaqqqp2dnbMzMxUVFSIiIju7u4AAAAd7oVFAAAAAXRSTlMAQObYZgAAAAlwSFlz\n",
       "AAAOxAAADsQBlSsOGwAAAMtJREFUGNNjYMAAbM6CX4rFGLACRtYDTMfkcEgtYBDYg1OqlQVF6GJ5\n",
       "uQNcihFZRuUekq5zb4CMt3der5oApFn9kAzklnQFMhp4z3IUAGmWAISUSX3tA6AvAtj+8SSApJCc\n",
       "sSwPZCk3AwfYbobN5UAgADVQLg0sxnwBTD1EdvwOxgcgln4AH4hmR5bi2ArU/1DhMAMXSID3ApIU\n",
       "n8A1Bob5+5oZNMEingipBoY0RgWGF3c52yaARd4IPYCF/McARpGfyMGhJQ4JKCgAAF8xNF8aQs/g\n",
       "AAAAAElFTkSuQmCC\n",
       "\" style=\"display:inline;vertical-align:middle;\" /></a>, <a class=\"ProveItLink\" href=\"../__pv_it/demonstrations/a37ad882b507295bf9a494bfb6bb69025f7b2eb60/expr.ipynb\"><img src=\"data:image/png;base64,iVBORw0KGgoAAAANSUhEUgAAADEAAAAQBAMAAABNQoq8AAAAMFBMVEX///+YmJhmZmYQEBDu7u6q\n",
       "qqpERESIiIgiIiJUVFS6uroyMjLc3NzMzMx2dnYAAABe+sMRAAAAAXRSTlMAQObYZgAAAAlwSFlz\n",
       "AAAOxAAADsQBlSsOGwAAAL1JREFUGNNjYGB49+4CA1ZwegFnA3aZ7QxsCVglWL8g86IPINhsBkgS\n",
       "EipIHOa9z7Vg7IonENq90vddAAP/RgbmADCf5UUBVIUC+3SmBgb/DwxMJiAuj4YAVILxAOMXTgEG\n",
       "/wYGxl8g/uwAmKG8DEwbgBT/BgbGj6gyQMtB5rLB9CBMY2BYf4DFgYEVaI8BqgvcFkxm4APSeQzO\n",
       "UHNYKkrAdPwVZYalQJpPaS7Cp2APOZWzKgagh5X0AQbCAAAuISq39q1iEQAAAABJRU5ErkJggg==\n",
       "\" style=\"display:inline;vertical-align:middle;\" /></a> <a class=\"ProveItLink\" href=\"../__pv_it/demonstrations/6d688891ba394f0dcc74607cb39cac1c108a39fa0/proof.ipynb\" style=\"text-decoration: none\">&nbsp;&#x22A2;&nbsp;&nbsp;</a><a class=\"ProveItLink\" href=\"../__pv_it/demonstrations/d78761de4eb7e5ed82b95d27c7dfdd73ad4a00e40/expr.ipynb\"><img src=\"data:image/png;base64,iVBORw0KGgoAAAANSUhEUgAAAE0AAAAVCAMAAAA0CpMYAAAAP1BMVEX///9jY2MJCQkdHR0NDQ0W\n",
       "FhZERES6uroQEBAyMjLc3NyYmJgiIiJmZmaqqqp2dnbMzMxUVFSIiIju7u4AAAANhLF7AAAAAXRS\n",
       "TlMAQObYZgAAAAlwSFlzAAAOxAAADsQBlSsOGwAAATpJREFUOMuVldl2hSAMReltC0TCkIT//9ai\n",
       "tBdxgvLAYulhS05CVOphLLs1I6Yn7VgA0tbRqNF4liQ6SxPKmVJGGtK8OdCEPOQjbYHyhnBIw4sw\n",
       "+EQDLpPWjzTW+P2FMKaF9uCOZoBFUZo5m7a9RJhJUoxhZ0XZIqBmaBZS5OrwJvFFQ6x8swnWQnM8\n",
       "RcvgVmb4lbiy1RUNuUY7Fts9TXLe0m+lSlZ3fBdVsoj4+SqTnqBtIblsWhZsF5Vs6Q5qMtJKc2+J\n",
       "ySVaka7QUM3RdHc20UbRmuW4KzZWxj/TpNVb9a1KQk6yrs0+MgiUrmkxL9Wut9O6HEP+ciq+nCR4\n",
       "19kk9DJyQSOyGbbkY7v90fv67dub5T6iLjmF+3YTZL4jgYykcb6/LXokFZ6nHYvtLOV/9F66kI7/\n",
       "C9b8AEFlEn1GzMh5AAAAAElFTkSuQmCC\n",
       "\" style=\"display:inline;vertical-align:middle;\" /></a></span>"
      ],
      "text/plain": [
       "{x in Real, 6 < x} |- x not-in [1,6]"
      ]
     },
     "metadata": {},
     "output_type": "display_data"
    }
   ],
   "source": [
    "NotInSet(x, IntervalCC(one, six)).prove(assumptions= [InSet(x, Real), Less(six, x)])"
   ]
  },
  {
   "cell_type": "code",
   "execution_count": 145,
   "metadata": {},
   "outputs": [
    {
     "data": {
      "text/html": [
       "<span style=\"font-size:20px;\"><a class=\"ProveItLink\" href=\"../../../ordering/__pv_it/theorems/d1323f34847310a404e8089c2c268d3c2eb89dbf0/expr.ipynb\"><img src=\"data:image/png;base64,iVBORw0KGgoAAAANSUhEUgAAADQAAAAQBAMAAACra0H4AAAAMFBMVEX///9ERES6uroQEBAyMjLc\n",
       "3NyYmJgiIiJmZmaqqqp2dnbMzMxUVFSIiIju7u4AAAAd7oVFAAAAAXRSTlMAQObYZgAAAAlwSFlz\n",
       "AAAOxAAADsQBlSsOGwAAAMtJREFUGNNjYMAAbM6CX4rFGLACRtYDTMfkcEgtYBDYg1OqlQVF6GJ5\n",
       "uQNcihFZRuUekq5zb4CMt3der5oApFn9kAzklnQFMhp4z3IUAGmWAISUSX3tA6AvAtj+8SSApJCc\n",
       "sSwPZCk3AwfYbobN5UAgADVQLg0sxnwBTD1EdvwOxgcgln4AH4hmR5bi2ArU/1DhMAMXSID3ApIU\n",
       "n8A1Bob5+5oZNMEingipBoY0RgWGF3c52yaARd4IPYCF/McARpGfyMGhJQ4JKCgAAF8xNF8aQs/g\n",
       "AAAAAElFTkSuQmCC\n",
       "\" style=\"display:inline;vertical-align:middle;\" /></a>, <a class=\"ProveItLink\" href=\"../__pv_it/demonstrations/2369effac65979214bb74286254f5b0d9c6e426a0/expr.ipynb\"><img src=\"data:image/png;base64,iVBORw0KGgoAAAANSUhEUgAAADEAAAAQBAMAAABNQoq8AAAAMFBMVEX///9ERES6uroQEBAyMjLc\n",
       "3NyYmJgiIiJmZmaqqqp2dnbMzMxUVFSIiIju7u4AAAAd7oVFAAAAAXRSTlMAQObYZgAAAAlwSFlz\n",
       "AAAOxAAADsQBlSsOGwAAAK1JREFUGNNjYMACWFc1KjBgBS8YOH9il7k/ge8LuhinK4hUVmBAl2Gr\n",
       "eABV8Q1IvL3zetUECJ+3CirBoJ4AJBp4z3IUgLmvamF6957ZADQggO0fD0gFQ0QZkn1At3EzcDiA\n",
       "OTyeyDbag8xlvoAus5uBQR5ktX4A3wNU0/4/AMk8VDjMwMWA6gIbsGnz9zUzaEJF3tZCXJ0G9s+L\n",
       "u5xtE+A+hXiIqQMzRNlcGQgDAJdrMZbvsT/BAAAAAElFTkSuQmCC\n",
       "\" style=\"display:inline;vertical-align:middle;\" /></a> <a class=\"ProveItLink\" href=\"../__pv_it/demonstrations/fecd092b8f7452574a93f947f0fe3db8acb0a3e60/proof.ipynb\" style=\"text-decoration: none\">&nbsp;&#x22A2;&nbsp;&nbsp;</a><a class=\"ProveItLink\" href=\"../__pv_it/demonstrations/19c11cd4fcd596382c7211c8e347e5031fb9d6260/expr.ipynb\"><img src=\"data:image/png;base64,iVBORw0KGgoAAAANSUhEUgAAAE8AAAAVCAMAAAAw/0MlAAAAP1BMVEX///9jY2MJCQkdHR0NDQ0W\n",
       "FhZERES6uroQEBAyMjLc3NyYmJgiIiJmZmaqqqp2dnbMzMxUVFSIiIju7u4AAAANhLF7AAAAAXRS\n",
       "TlMAQObYZgAAAAlwSFlzAAAOxAAADsQBlSsOGwAAAYtJREFUOMuNldl2hCAMhum0ZQ1bwvs/awNY\n",
       "FcRxuEBPDn75sxCFeLPs8YoASbxfVjwtQ/trVI+nFT4cSFlMPBujlxOZIhubDd17nlcTjzxvoYTx\n",
       "VN1ymOJZLRATDyuKijkfck0UNZvztyyU8PsDZuQpXfeRF/PBE/pGoDJIIqdZX1uhDGkKRTLEd5up\n",
       "D0LMlGI80mJrImiU8c9TMGU9l4I+nMRy0JhR+CNdpraSwwUvYc5zH/pSYOs9xxocv7vC4R1+zbVY\n",
       "53jH+oZoZdlsQbPL6mKILWkA+H7xJlf9rMvZk+s91CuRynZkiI0qJo4qGi+1UOUgsINstyndc1w4\n",
       "ZqKh8UBceaUpG3i0KerZCsBilMgVG0/Nh0L5BU/nPd7due6lkO3hJIeeyDNPnYMwYa5i47W70Prv\n",
       "uCSq1W1rBh/5TrKa4N2QLsovRVceq/bbPACgfWqwcasW3E0h9xUl19fcz6uwuFoWPph8N7y4Gkh3\n",
       "A8tK8cAj/OSr/evwxFvNYnk78fPVw/P/AyvuDyoMEwAePmzpAAAAAElFTkSuQmCC\n",
       "\" style=\"display:inline;vertical-align:middle;\" /></a></span>"
      ],
      "text/plain": [
       "{x in Real, x < 3} |- x not-in [3,8)"
      ]
     },
     "metadata": {},
     "output_type": "display_data"
    }
   ],
   "source": [
    "NotInSet(x, IntervalCO(three, eight)).prove(assumptions= [InSet(x, Real), Less(x, three)])"
   ]
  },
  {
   "cell_type": "markdown",
   "metadata": {},
   "source": [
    "### Testing the automation for real IntervalXX subset relationships"
   ]
  },
  {
   "cell_type": "code",
   "execution_count": 146,
   "metadata": {},
   "outputs": [
    {
     "data": {
      "text/html": [
       "<span style=\"font-size:20px;\"> <a class=\"ProveItLink\" href=\"../__pv_it/demonstrations/7ce9c5f626be5c62948c6b20c7db806cc6d934610/proof.ipynb\" style=\"text-decoration: none\">&nbsp;&#x22A2;&nbsp;&nbsp;</a><a class=\"ProveItLink\" href=\"../__pv_it/demonstrations/91119a2b79ae297cb55c5767582aefac1531c6e90/expr.ipynb\"><img src=\"data:image/png;base64,iVBORw0KGgoAAAANSUhEUgAAAHMAAAAVBAMAAACHwMySAAAAMFBMVEX////MzMxUVFRERES6uroi\n",
       "IiIQEBCYmJhmZmYyMjLu7u52dnaqqqqIiIjc3NwAAACW8nlqAAAAAXRSTlMAQObYZgAAAAlwSFlz\n",
       "AAAOxAAADsQBlSsOGwAAAgdJREFUOMt1lD9IG1Ecx793uZz5e7mlUwdj6NBNBR0cWjMWoRCEo9J2\n",
       "kNYuXQxO7aBkESMOzVIEoRAoHW2DXdx0lQ4eQpcOkkUQClKli0Ga/t7v9+4uXs4M7/1+L5/Pvd/7\n",
       "cwegi9u/eJ44yHnxMDb6NMEchAzgq0A/gN/7U+F4A8X6sErQ+eakxPb1x+cM5VrINXAcPDVdBnaC\n",
       "qaY9z3NVRJAzgYOqIMsv2gxl6ije4FtL4z9JfacL+BQukCCzC3uRE5NbgmzAWkJJq8Z7Uu02x1+i\n",
       "rSHI7sH8N6ASdMTBsV5fPktqVpIH0VIJMmswLwdUgrZUbz3TzKlS82WOW5G6JYv8I+rqnsvQtirz\n",
       "ZEwQp67UEZaMcqRuczvqc5dqO38ZeikFyw7nodQCb4czoAo0H+bTDC3JonvcrbFqSGG1SGUoMxHm\n",
       "H7oKolHDReqGJ/JZteQQNmLqik5mSHUVRLWUelq1KpXxVx0UZL5s9VbBhQ4uOHkDjENBj6jasipY\n",
       "DtNW2ySV5SpzgUoQ7gO/GOoArxnao7ZO55q7ZqhEWqYjgvU9uIgEOQvNZo2hcxTfMnSPkidNuv6e\n",
       "emJm9spHuhq//QSl+/1+iyGn+ZBagtKu/rvQDsCzoRcnGRpp6DgfghtD6h3QYx3vBoOOPr91zwvW\n",
       "egf0WSd+MJpK+MIkQ44fw04TPjBJ0H8EFn1PfVj55wAAAABJRU5ErkJggg==\n",
       "\" style=\"display:inline;vertical-align:middle;\" /></a></span>"
      ],
      "text/plain": [
       "|- (3,4) subset_eq (2,5)"
      ]
     },
     "metadata": {},
     "output_type": "display_data"
    }
   ],
   "source": [
    "SubsetEq(IntervalOO(three, four), IntervalOO(two, five)).prove()"
   ]
  },
  {
   "cell_type": "markdown",
   "metadata": {},
   "source": [
    "Currently, Prove-It will not be able to automatically deduce a proper subset relationship between two real intervals:"
   ]
  },
  {
   "cell_type": "code",
   "execution_count": 147,
   "metadata": {},
   "outputs": [
    {
     "name": "stdout",
     "output_type": "stream",
     "text": [
      "Exception: Unable to prove (3,4) proper_subset (2,5):\n",
      "'conclude' method not implemented for proof automation\n"
     ]
    }
   ],
   "source": [
    "try:\n",
    "    ProperSubset(IntervalOO(three, four), IntervalOO(two, five)).prove()\n",
    "except Exception as e:\n",
    "    print(\"Exception: {}\".format(e))"
   ]
  },
  {
   "cell_type": "code",
   "execution_count": null,
   "metadata": {},
   "outputs": [],
   "source": []
  },
  {
   "cell_type": "markdown",
   "metadata": {},
   "source": [
    "### Number set membership demonstrations"
   ]
  },
  {
   "cell_type": "code",
   "execution_count": 148,
   "metadata": {},
   "outputs": [
    {
     "data": {
      "text/html": [
       "<span style=\"font-size:20px;\"> <a class=\"ProveItLink\" href=\"../__pv_it/demonstrations/09fdafa7baedc4e4be039ca1372ddf5c8c1013c60/proof.ipynb\" style=\"text-decoration: none\">&nbsp;&#x22A2;&nbsp;&nbsp;</a><a class=\"ProveItLink\" href=\"../__pv_it/demonstrations/cad939e59705925342d595d9d5b23f7fe72bf7b20/expr.ipynb\"><img src=\"data:image/png;base64,iVBORw0KGgoAAAANSUhEUgAAAGcAAAAVBAMAAACphe0AAAAAMFBMVEX////MzMxUVFRERES6uroi\n",
       "IiIQEBCYmJhmZmYyMjLu7u52dnaqqqqIiIjc3NwAAACW8nlqAAAAAXRSTlMAQObYZgAAAAlwSFlz\n",
       "AAAOxAAADsQBlSsOGwAAAZ9JREFUOMtjYGB4wIAL8OGU4T2AIcQ+zfhnmDkDA8sFNImryfOnBTkA\n",
       "GaexGMTMp8CibsXAcB1dwsCXb5YKAwPXBKyaNjAYCDEwcC5A1+TOsI+ZgYGjAIemPk6gOxswNdUw\n",
       "MTCwofjPNDQSrgloIkMWqjhYE9Cwk0h6WOYuQNiktQjImI4qDtKkV83A0M3AwLiZrxvsyJcLEM5j\n",
       "tJkHZGxiQBEHBsTaoA1gs7iZu7kTQELzEH7KjI8FqaxkQBFnMHCd9rWLgSGGgeE5ZwDHBpDQBISm\n",
       "7VVgzjEGFHGQ8657LmBIYWCQ4oeEIGNqaGhoMNR5VuUghjyqOEgTM8sGkCYGf4ibuQyQglyCGSTo\n",
       "hioO1sRgAHIeQytUKABJE4ccSOlRVHGIpgkMtkBmNFToLpImLgNQGipGFQdr4rkAClS+L1AhzgNw\n",
       "TQ0M5cwO4AhBFmcw8GbYu4OBQRQYdzDruZS9YKn88wNmyz8MDCEo4gw3k+3BqZxVADlJbIYmF1iG\n",
       "CsAujpEmkQHW1AwCdng0PcYlsRiPJpwG8l3AXRLgKD4A2hZkFRuaO7oAAAAASUVORK5CYII=\n",
       "\" style=\"display:inline;vertical-align:middle;\" /></a></span>"
      ],
      "text/plain": [
       "|- (r in Real) in BOOLEAN"
      ]
     },
     "metadata": {},
     "output_type": "display_data"
    }
   ],
   "source": [
    "InSet(InSet(r, Real), Boolean).prove()"
   ]
  },
  {
   "cell_type": "code",
   "execution_count": 149,
   "metadata": {},
   "outputs": [
    {
     "data": {
      "text/html": [
       "<span style=\"font-size:20px;\"> <a class=\"ProveItLink\" href=\"../__pv_it/demonstrations/051a8c105ff69d7a5668460f401f6afa40be41130/proof.ipynb\" style=\"text-decoration: none\">&nbsp;&#x22A2;&nbsp;&nbsp;</a><a class=\"ProveItLink\" href=\"../__pv_it/demonstrations/461c27d252d1f6be224740caf398191f83f4a7180/expr.ipynb\"><img src=\"data:image/png;base64,iVBORw0KGgoAAAANSUhEUgAAAH8AAAAbCAMAAABiBqBtAAAAOVBMVEX///82NjYbGxsSEhJUVFQi\n",
       "IiKIiIjMzMx2dnYQEBDc3NxEREQyMjLu7u5mZmaqqqq6urqYmJgAAAAnb7Z/AAAAAXRSTlMAQObY\n",
       "ZgAAAAlwSFlzAAAOxAAADsQBlSsOGwAAAhFJREFUSMfFV4u2oyAMZPfyJjz//2NvQNSqIKX27HJa\n",
       "H22dIZNJoIQ8H5b81yFDOUouP0WI4QG9pgWCExIMXrh5BO+ehE91PiqBh4SX2kynD57Qh6K6TtkE\n",
       "ylclpoaJb2YJlDEJmKoPOJPHD74jEYWflS/YwI8cESCBYrSkXav3Z1qSHWg0GwVf5rLwqxI6p2Oc\n",
       "wIkGWybg5Ay/LCexUtia7UX/5MtnyY75cdpSk/x0CrP8ThOo+v/9Y4r+u/9wQHyLP3pCV+U6mTIM\n",
       "BzT4a9ibDoTn+qt3zgxxKj9kN3SdDdw246fWVqbdB7n/uHrH1RAn81MdEY3WaQmJ6E7u0qE/2voL\n",
       "42ER2rdLLRwkbeIEbjmjxUxVLEkMOlHuU68cJ34FLLE1nk7jEEm83DVxAgOVWBYMFil1JMAOxQBt\n",
       "/8W49Svfca4+WBp6/uMxoDRsab7CknSwrVCsDnPU39g48Ld95W/jZP58kmv856xtlX3Jv3CvtmvH\n",
       "L0Y4lR9fG787FQLr1b8TgzVGJD3CWfmB0BWLnfog5x1+jIjfZuCoZBOn8mMBrcWqL30QfIM/uwXz\n",
       "b+6aZlRDnLxq4obF7ZMNF50sNcFe1j+jc81C8n1+R29x+LKOruufCjdruzn0zTfHpf/f4riPt23d\n",
       "8pvakAr1Zf5I535P/Xf5mf6X+79r+LP7P+K/6YD5/e/D/f/ZznP/hn4B/kQXryPF8lIAAAAASUVO\n",
       "RK5CYII=\n",
       "\" style=\"display:inline;vertical-align:middle;\" /></a></span>"
      ],
      "text/plain": [
       "|- (r in RealNonZero) in BOOLEAN"
      ]
     },
     "metadata": {},
     "output_type": "display_data"
    }
   ],
   "source": [
    "InSet(InSet(r, RealNonZero), Boolean).prove()"
   ]
  },
  {
   "cell_type": "code",
   "execution_count": 150,
   "metadata": {},
   "outputs": [
    {
     "data": {
      "text/html": [
       "<span style=\"font-size:20px;\"> <a class=\"ProveItLink\" href=\"../__pv_it/demonstrations/4368e1ffc4c2ff7ac4c100dad05510f13703f11d0/proof.ipynb\" style=\"text-decoration: none\">&nbsp;&#x22A2;&nbsp;&nbsp;</a><a class=\"ProveItLink\" href=\"../__pv_it/demonstrations/4473d5330181ba6f1542c4ef36cdb3d251dcb5ff0/expr.ipynb\"><img src=\"data:image/png;base64,iVBORw0KGgoAAAANSUhEUgAAAHYAAAAZBAMAAAAWK8etAAAAMFBMVEX///9UVFQiIiKIiIjMzMx2\n",
       "dnYQEBDc3NxEREQyMjLu7u5mZmaqqqq6urqYmJgAAAB66f/FAAAAAXRSTlMAQObYZgAAAAlwSFlz\n",
       "AAAOxAAADsQBlSsOGwAAAehJREFUOMudlL1Lw0AYxh+b1iStqV0EFRWJKIqDUlHEQXRR0KEdnUSc\n",
       "dLKrix5OaVGpCBaKSLrpZBWKjgX/gS4ddFEQHAQ7qyiYXNLctWla8CAfvA+/ez/ufQ/AB5qsvPGE\n",
       "PNWOfDOWGI9IvNQrtGLx6qUeu03hM+1r5JixPr1WF0aSX5v9RkAbDfaTxIgykHJYIVKvK5O7uRJC\n",
       "8YZsHGQRIU3b0gz/wW8X+xJIEHSWPNg72fGLCzcbLkYQ43MRDtQxh5UYe2/rs6qadtg0ohyqnOrM\n",
       "b2+OsTOW+XGO+W3bi6MH8K+JhRfTtKuzmP2HGcY+U0HMspjnol2ABgSkQoBWO8Py3Z4Y0qt9BcQW\n",
       "zLecYOzYzriOE2BPHrSqnWbs+nuaS2afFlTmayV8ZDEOrHTSiOHfVFV11I45VeHYa8ouGbJKbBak\n",
       "bPq100GQcGe0KnEHsE9jvuT9gkiUvbVNgxwbWuYmIEYz9dWyMrqN32HbNMWxQTLPWCswYbKGfTCP\n",
       "Tvy1TXLRYfOoSKzj3qzPOWPjgem8uaVSjTXY/VSdo8+ElPxx2BvrkzuyaiAYc2bOUTvfz8qa1ZP1\n",
       "q9rP5QOVP7qGc1S3XHNkL/9GazYc8RD6WrO+xL/uKzS9rzpaJux9Tza/n2k59cb2P2LveJSuMU5Q\n",
       "AAAAAElFTkSuQmCC\n",
       "\" style=\"display:inline;vertical-align:middle;\" /></a></span>"
      ],
      "text/plain": [
       "|- (r in RealPos) in BOOLEAN"
      ]
     },
     "metadata": {},
     "output_type": "display_data"
    }
   ],
   "source": [
    "InSet(InSet(r, RealPos), Boolean).prove()"
   ]
  },
  {
   "cell_type": "code",
   "execution_count": 151,
   "metadata": {},
   "outputs": [
    {
     "data": {
      "text/html": [
       "<span style=\"font-size:20px;\"> <a class=\"ProveItLink\" href=\"../__pv_it/demonstrations/5c1ac365376ea174f7dc1556587bc20ea0b739880/proof.ipynb\" style=\"text-decoration: none\">&nbsp;&#x22A2;&nbsp;&nbsp;</a><a class=\"ProveItLink\" href=\"../__pv_it/demonstrations/03795182b1d993f18f3ddff962aa763ed335e3480/expr.ipynb\"><img src=\"data:image/png;base64,iVBORw0KGgoAAAANSUhEUgAAAHcAAAAZBAMAAAD56ayTAAAAMFBMVEX///9UVFQiIiKIiIjMzMx2\n",
       "dnYQEBDc3NxEREQyMjLu7u5mZmaqqqq6urqYmJgAAAB66f/FAAAAAXRSTlMAQObYZgAAAAlwSFlz\n",
       "AAAOxAAADsQBlSsOGwAAAcFJREFUOMtjYGB4y0AIbMApw7OBoOYKnDIrCepl4DPAJdOHRexlRv+k\n",
       "jAcIvhaavFHG/GmKFxgY2BOwmdhQyHDxxQI41xBD/jL7LFkGBu4ArJpLGThYBBg8OoCggIFh/QJ0\n",
       "+XsM4RwMDPwXcGjmLpgA53I+wNT8hpGBwR/FUAslpQlwzQ1wYe4GdHmgZk6g35H13rRC2My4SgAu\n",
       "zpyALn+PQfwpA4MkkOnaUB0HEmKfheRsj5MFcM28vxjQ5C8vVgQGVgeQGdAdEAb2Glx5Q9mkT1YI\n",
       "F7F8YUCTvzTt0y4GholAAx9MYtgKlkQKsHfIiYf9LwOa/D0Gu5sLGLSB5i74BxFyUwKCBohmjnVI\n",
       "Icz1F13+HgMHbwDIZpiXGFYg2cyyoQvJ5i/o8kDNDA1gzdwKECEm5HjegpQdWL6jy4M0T2CQAAlC\n",
       "UxmzAZLmFcwP0EMbSR6omceAwQzIrIelsjlwyWoGvge9iGyVgC5/lSE4moHhPjCFXYKJLexdAMtV\n",
       "7Qwd8w/AU5gAqrxlRj84V7GhpO2rTUoTsCR1eNpGk8eeq9AARq6CBWQCEZof4pKQIUKzOk3KMJ4A\n",
       "CkpPIsrtXTjEAUrkiAT8SPk9AAAAAElFTkSuQmCC\n",
       "\" style=\"display:inline;vertical-align:middle;\" /></a></span>"
      ],
      "text/plain": [
       "|- (r in RealNeg) in BOOLEAN"
      ]
     },
     "metadata": {},
     "output_type": "display_data"
    }
   ],
   "source": [
    "InSet(InSet(r, RealNeg), Boolean).prove()"
   ]
  },
  {
   "cell_type": "code",
   "execution_count": 152,
   "metadata": {},
   "outputs": [
    {
     "data": {
      "text/html": [
       "<span style=\"font-size:20px;\"> <a class=\"ProveItLink\" href=\"../__pv_it/demonstrations/bcabdc09c3e26d6e89a563e0fb44a74dde2d729f0/proof.ipynb\" style=\"text-decoration: none\">&nbsp;&#x22A2;&nbsp;&nbsp;</a><a class=\"ProveItLink\" href=\"../__pv_it/demonstrations/c4f2234e7de3728b09f93e261b50a10be95f0aa30/expr.ipynb\"><img src=\"data:image/png;base64,iVBORw0KGgoAAAANSUhEUgAAAH8AAAAaBAMAAABsqp7JAAAAMFBMVEX///9UVFQiIiKIiIjMzMx2\n",
       "dnYQEBDc3NxEREQyMjLu7u5mZmaqqqq6urqYmJgAAAB66f/FAAAAAXRSTlMAQObYZgAAAAlwSFlz\n",
       "AAAOxAAADsQBlSsOGwAAAh9JREFUOMtjYMAHPC6AqVBTvKre4pbiijgAJPkMeBsYNuBUxLMBn+kW\n",
       "DxgY2BwYvjNU4FSyEq/zGF4YMNQvYMgBOgOXij4sYi8z+idlPICwnxX4L2DQY2DQQlNjlDF/miIw\n",
       "jNgTsJnaUMhw8cUCEGtpLwPQgGQGBkMMNZfZZ8kyMHAHYDWglIGDRQDIqBZhAHnhDwPD+gXoau4x\n",
       "hHMwMPBfwGEAd8EEBoZCoH5IIDJwPsA04A0jA8h9yIGupDQBbkADw8LtIA6zAS/QMdwN6GqABnAC\n",
       "wwJZ/00rhAsYVwkwrILwQq2BtjAnoKu5xyD+lIFBEsh0baiOAwmxz0LygsfJAhQX8/5iQFNzebEi\n",
       "MAA7gMyA7oAwkBAnXEtD2aRPVqheZvnCgKbm0rRPuxgYJgINfTCJYStYEikQ34ESmEcHEEB1sP9l\n",
       "QFNzj8Hu5gIGbaDZC/5BhNyUgKABYgDHOrRQ5/qLruYeAwdvAMgFMO8xrEByAcuGLlQD2L+gqwEa\n",
       "wNAANoBbASLEhJwOtqBlH5bv6GpABkxgkAAJQlMjswGSASuYH2CLBSQ1QAN4DBjMgMx6WGqcA5es\n",
       "ZuB70ItiAF8CupqrDMHRDAz3gWnkEkxsYe8CWG5sZ+iYfwDZAG4BVDWWGf3g3MiGkheuNkGSKRYA\n",
       "zwtoarDnRiwAIzfCAjeBSAMe4pKQIdIAdTLLRHgk4CwTeYgLhAqy6gUksAuHOAAWop1wgDJW7gAA\n",
       "AABJRU5ErkJggg==\n",
       "\" style=\"display:inline;vertical-align:middle;\" /></a></span>"
      ],
      "text/plain": [
       "|- (r in RealNonNeg) in BOOLEAN"
      ]
     },
     "metadata": {},
     "output_type": "display_data"
    }
   ],
   "source": [
    "InSet(InSet(r, RealNonNeg), Boolean).prove()"
   ]
  },
  {
   "cell_type": "code",
   "execution_count": 153,
   "metadata": {},
   "outputs": [
    {
     "data": {
      "text/html": [
       "<span style=\"font-size:20px;\"> <a class=\"ProveItLink\" href=\"../__pv_it/demonstrations/70af72155e742a6310d427b0aa76baf13ced0bf20/proof.ipynb\" style=\"text-decoration: none\">&nbsp;&#x22A2;&nbsp;&nbsp;</a><a class=\"ProveItLink\" href=\"../__pv_it/demonstrations/0b03ca0a9c700fdb81d70763bfaa7a9b1e8f1cbb0/expr.ipynb\"><img src=\"data:image/png;base64,iVBORw0KGgoAAAANSUhEUgAAAH8AAAAaBAMAAABsqp7JAAAAMFBMVEX///9UVFQiIiKIiIjMzMx2\n",
       "dnYQEBDc3NxEREQyMjLu7u5mZmaqqqq6urqYmJgAAAB66f/FAAAAAXRSTlMAQObYZgAAAAlwSFlz\n",
       "AAAOxAAADsQBlSsOGwAAAhlJREFUOMudlTFIG2EUx/+aw0t6uRgnFRVqlkIL5SpUqoJ0qbgZENuh\n",
       "UAIuGTrEoUVw8BCKwWITMziI4CddtIPN0C5Oju1mFQeX9DoICuoQBKGo+L47L3735S4G3xAe7/u/\n",
       "373v3XsX4C77lcHY85qKk9r5BmKGbqIYqIgWa+UfWkDTS5xjMlCyXiv/xRb9TDO8pzKCNF98Ykfp\n",
       "XCFNzx7i+RhheAo8ljQ96ZXF7m1ATflRzQn8OWSIfmIOYBx4VqXZVZe6AC3pC/iAsBIHdE6gK1wA\n",
       "35msKeFNGGjeDgBomTw5SkfGaSIiVjXguMGuT2xaIpGvAEzuqS0sZOhUjGbKGgJEqBdi/n7/bQUN\n",
       "3+K2qwJjA/SUUErWlNB6ALST+8qcemdrl4QrDP/OeCrW/0PS7H7tpgZmyU1+Tr7moUglxfxYKPd7\n",
       "r6ycQdLsLJY3gQWCWgX8tA+FJp7yARvOkt1kqJeQNCUM7jM8ITa7ckJDCTLTAYQ3pK4/uJQ1JYT1\n",
       "JK/AvR7WhAqU4pwXoJ7JGgLAtAHaQyfUKM7BD2l9lHNZwwF5tPHgzTSGDAGwFrL83oKgIUDUQC9f\n",
       "N3calyuHU4hZ8x5ALCVr9jD6FvhLM7LjxlbnmbuNs8iubIkALe7V9KVz9jY2eXZhb8YZUx+r7IKk\n",
       "8d9GH6vaRre5qToB/4IOOusEPLrXN1F4CYHfxGh9TZi87/+Ca5sB8WtpDJ0PdSsXJAAAAABJRU5E\n",
       "rkJggg==\n",
       "\" style=\"display:inline;vertical-align:middle;\" /></a></span>"
      ],
      "text/plain": [
       "|- (r in RealNonPos) in BOOLEAN"
      ]
     },
     "metadata": {},
     "output_type": "display_data"
    }
   ],
   "source": [
    "InSet(InSet(r, RealNonPos), Boolean).prove()"
   ]
  },
  {
   "cell_type": "code",
   "execution_count": 154,
   "metadata": {},
   "outputs": [
    {
     "data": {
      "text/html": [
       "<span style=\"font-size:20px;\"><a class=\"ProveItLink\" href=\"../__pv_it/demonstrations/b5b9699cb86b6893f6e3a183e3782057b660119c0/expr.ipynb\"><img src=\"data:image/png;base64,iVBORw0KGgoAAAANSUhEUgAAAEcAAAAVCAMAAAAjKAPRAAAAOVBMVEX///82NjYbGxsSEhJUVFSq\n",
       "qqqIiIi6urru7u4iIiIyMjIQEBCYmJhmZmbc3NxERER2dnbMzMwAAABxNoPbAAAAAXRSTlMAQObY\n",
       "ZgAAAAlwSFlzAAAOxAAADsQBlSsOGwAAASVJREFUOMutVIlyxSAI5LUeiAfq/3/sU3M0h+alTZkJ\n",
       "GSayYRcQ4IEh/ItF3XxU8RFMENU7BaD5CY4I1dtUXA5/h9GNTchVJCvvZDiyzJmMZddiz9W+y+Mg\n",
       "NRzj7v2bmxhaOF5bpKbUCceq2zixvZJYWj5LO/HK8lc4PgDNvL5e3Hhd6qzYFKMezlzGWheo2nfR\n",
       "bQQp7NcjEOeMH53qHPoapVhO+bgqHggHvBJLmgjIjq4R2EeIdokpdPWxZLJZCqXOdDsgU6ivO0ID\n",
       "nZ3D5ZPU5yMJIW+nKFkzGx94MbrLcdN5KwjyqO/Jb+U9mze70Aznx6dwtdhmf30oNcIppaoxs5AP\n",
       "qpHs4fi6sA5YD+U5EkHBGs/7zmUemOnuKk1XC+/34rO9AQCfDVBVb1DTAAAAAElFTkSuQmCC\n",
       "\" style=\"display:inline;vertical-align:middle;\" /></a> <a class=\"ProveItLink\" href=\"../__pv_it/demonstrations/c7eb1a009f70881a5d904495d25a30c50ce7875d0/proof.ipynb\" style=\"text-decoration: none\">&nbsp;&#x22A2;&nbsp;&nbsp;</a><a class=\"ProveItLink\" href=\"../__pv_it/demonstrations/13afb291ae03c2910bf1688bfbda2fcf5a0202d50/expr.ipynb\"><img src=\"data:image/png;base64,iVBORw0KGgoAAAANSUhEUgAAAC8AAAAUCAMAAAAqRJTwAAAAPFBMVEX///+IiIgNDQ0WFhYLCwsY\n",
       "GBiqqqpUVFS6urru7u4iIiIyMjIQEBCYmJhmZmbc3NxERER2dnbMzMwAAAC6clcSAAAAAXRSTlMA\n",
       "QObYZgAAAAlwSFlzAAAOxAAADsQBlSsOGwAAAMxJREFUKM+VkusOwyAIhXEX66Wi6Pu/6xTTzWrr\n",
       "Ij9MiMcPDgJwH6hhJWJoMyKBfqoPsUmsBNBm9iBuTeIM1wgzfAsL/Fime0eqxUNCLplyVzFX8Uiu\n",
       "09sWrw99VhEEJKD9GKLheL/KedTwiapegHdgsxmkCf6nJ4gakhu7x1Oqq15lfjlH17abdO1fFr+5\n",
       "49MSlL6fj+riO6PAk3dMNjTi+4qOx4GWvaheLnEgmLIPe9kQZf7jsxZJbPH6ayUt7fEVfhZuEW/W\n",
       "8BBnlx+i+whlef7dkwAAAABJRU5ErkJggg==\n",
       "\" style=\"display:inline;vertical-align:middle;\" /></a></span>"
      ],
      "text/plain": [
       "{r in RealNonZero} |- r != 0"
      ]
     },
     "metadata": {},
     "output_type": "display_data"
    }
   ],
   "source": [
    "NotEquals(r, zero).prove(assumptions=[InSet(r, RealNonZero)], \n",
    "                         conclude_automation=False) # should be side-effect"
   ]
  },
  {
   "cell_type": "code",
   "execution_count": 155,
   "metadata": {},
   "outputs": [
    {
     "data": {
      "text/html": [
       "<span style=\"font-size:20px;\"><a class=\"ProveItLink\" href=\"../__pv_it/theorems/7697fc34c81296f04a039eeb9dd22e91165d63b70/expr.ipynb\"><img src=\"data:image/png;base64,iVBORw0KGgoAAAANSUhEUgAAAEAAAAATBAMAAADSXRa0AAAAMFBMVEX///9ERES6uroQEBAyMjLc\n",
       "3NyYmJgiIiJmZmaqqqp2dnbMzMxUVFSIiIju7u4AAAAd7oVFAAAAAXRSTlMAQObYZgAAAAlwSFlz\n",
       "AAAOxAAADsQBlSsOGwAAANxJREFUKM9jYMAHGhgIAAHyFLA5C34pFsNnAiPrAaZjcngVLGAQ2MPA\n",
       "IShoKCiGS0ErCxYTLpaXO8AVMGIqULmHZMK5N3AFb++8XjUBSLP6IVnBLekKV9DAe5ajAEizBCAU\n",
       "mNTXPoCFJFsA2z+eBJACJEcuy3OA87gZOCCczeVAIAC1Qi4NyXHMF8DUQ2Rv7mB8gFCgH8AH4rEj\n",
       "K+DYCvfhQ4XDDFwgBu8FJAV8AtdgvPn7mhk0wSxPhIIGhjRGBSjvxV3Otglg1huhB7DY/BjAKPIT\n",
       "Mw60xMsdMAQB8jw2YYZ9lmsAAAAASUVORK5CYII=\n",
       "\" style=\"display:inline;vertical-align:middle;\" /></a> <a class=\"ProveItLink\" href=\"../__pv_it/demonstrations/fb1967f9dc5528b29b7bc7d8023e4f7749e0ec410/proof.ipynb\" style=\"text-decoration: none\">&nbsp;&#x22A2;&nbsp;&nbsp;</a><a class=\"ProveItLink\" href=\"../__pv_it/theorems/0c04c146b0f7b92967ed28917fb83981f8ee0b1b0/expr.ipynb\"><img src=\"data:image/png;base64,iVBORw0KGgoAAAANSUhEUgAAADEAAAAQBAMAAABNQoq8AAAAMFBMVEX///9ERES6uroQEBAyMjLc\n",
       "3NyYmJgiIiJmZmaqqqp2dnbMzMxUVFSIiIju7u4AAAAd7oVFAAAAAXRSTlMAQObYZgAAAAlwSFlz\n",
       "AAAOxAAADsQBlSsOGwAAAMFJREFUGNNjYMAGVt0IwCrOwDKBrxS7TDoDw0Ik7pMEOFOGgWH+A4QM\n",
       "3/ILMOYPBob9ExgY3t55vWoCWOD6OqgakAzQhAbesxwFUPP7wBTrL6DMBQa2ALZ/PDArprTCZRYw\n",
       "cDNwOCAsUzkHMg0oow+ylPkCkowc1AXzQVbrB/DBnDjlKJgSZGDIf8DwUOEwAxfMh60QOpmBoQWo\n",
       "bV8zgyYDiqsZ2CfwWTMwvLjL2Qb2Dt91uH18XXc2IIXO8wQGIgEAisM3iEYrHlYAAAAASUVORK5C\n",
       "YII=\n",
       "\" style=\"display:inline;vertical-align:middle;\" /></a></span>"
      ],
      "text/plain": [
       "{x in RealPos} |- x > 0"
      ]
     },
     "metadata": {},
     "output_type": "display_data"
    }
   ],
   "source": [
    "greater(x, zero).prove(assumptions=[InSet(x, RealPos)], \n",
    "                       conclude_automation=False) # should be side-effect"
   ]
  },
  {
   "cell_type": "code",
   "execution_count": 156,
   "metadata": {},
   "outputs": [
    {
     "data": {
      "text/html": [
       "<span style=\"font-size:20px;\"><a class=\"ProveItLink\" href=\"../__pv_it/theorems/41afbdfa99a88a03fa8266d6b83a02fc90cd2c0f0/expr.ipynb\"><img src=\"data:image/png;base64,iVBORw0KGgoAAAANSUhEUgAAAEAAAAAQBAMAAABUyWQaAAAAMFBMVEX///9ERES6uroQEBAyMjLc\n",
       "3NyYmJgiIiJmZmaqqqp2dnbMzMxUVFSIiIju7u4AAAAd7oVFAAAAAXRSTlMAQObYZgAAAAlwSFlz\n",
       "AAAOxAAADsQBlSsOGwAAANNJREFUKM9jYMAAbM6CX4rFGPAARtYDTMfk8CpYwCCwh4FbEAhEcSlo\n",
       "ZcEicbG83AGugBFTXuUekgnn3sDF3955vWoCkGb1Q7KCW9IVrqCB9yxHAZBmCUAoMKmvfQD3dQDb\n",
       "P54EkAIkRy7Lc4DzuBk4IJzN5UAgALVCLg3JccwXwNRDZG/uYHyAUKAfwAfisSMr4NgqAOM9VDjM\n",
       "wAVi8F5AUsAncA3Gm7+vmUETzPJEKGhgSGNUgPJe3OVsmwBmvRF6AIvNjwGMIj8xg1JLvNwBQxAA\n",
       "NyY0wyIjNwIAAAAASUVORK5CYII=\n",
       "\" style=\"display:inline;vertical-align:middle;\" /></a> <a class=\"ProveItLink\" href=\"../__pv_it/demonstrations/38f1be409dd3653c57b7c16d85424dc16de3196b0/proof.ipynb\" style=\"text-decoration: none\">&nbsp;&#x22A2;&nbsp;&nbsp;</a><a class=\"ProveItLink\" href=\"../__pv_it/theorems/068e2f545e08d21821de8eb3c3a29ef348d1823a0/expr.ipynb\"><img src=\"data:image/png;base64,iVBORw0KGgoAAAANSUhEUgAAADEAAAAQBAMAAABNQoq8AAAAMFBMVEX///9ERES6uroQEBAyMjLc\n",
       "3NyYmJgiIiJmZmaqqqp2dnbMzMxUVFSIiIju7u4AAAAd7oVFAAAAAXRSTlMAQObYZgAAAAlwSFlz\n",
       "AAAOxAAADsQBlSsOGwAAAMJJREFUGNNjYMAGVt0IwCrOwDKBrxS7TDoDw0J0MU5XECnDwDD/AaoE\n",
       "WwVY4AcDw/4JDAxv77xeNQEiwVsFluADySQwMDTwnuUoAEu8qoUoYP0FlLnAwBbA9o8nASQQUcaA\n",
       "JLOAgZuBwwHM5/GE2cYHlNG/AGQwX0CTAblgPshq/QC+ByimMQgyMOQ/YHiocJiBiwHFBQzJDAwt\n",
       "QG37mhk0oSJvayH+Y5/AZ83A8OIuZ9sEuE+hHuq6swE9dNhcGQgDAK5sNU4l3wi+AAAAAElFTkSu\n",
       "QmCC\n",
       "\" style=\"display:inline;vertical-align:middle;\" /></a></span>"
      ],
      "text/plain": [
       "{x in RealNeg} |- x < 0"
      ]
     },
     "metadata": {},
     "output_type": "display_data"
    }
   ],
   "source": [
    "Less(x, zero).prove(assumptions=[InSet(x, RealNeg)], \n",
    "                    conclude_automation=False) # should be side-effect"
   ]
  },
  {
   "cell_type": "code",
   "execution_count": 157,
   "metadata": {},
   "outputs": [
    {
     "data": {
      "text/html": [
       "<span style=\"font-size:20px;\"><a class=\"ProveItLink\" href=\"../__pv_it/theorems/c34caf191836023a2e00a70eca44f5973ba282830/expr.ipynb\"><img src=\"data:image/png;base64,iVBORw0KGgoAAAANSUhEUgAAAEoAAAAUBAMAAADYerbFAAAAMFBMVEX///9ERES6uroQEBAyMjLc\n",
       "3NyYmJgiIiJmZmaqqqp2dnbMzMxUVFSIiIju7u4AAAAd7oVFAAAAAXRSTlMAQObYZgAAAAlwSFlz\n",
       "AAAOxAAADsQBlSsOGwAAAS9JREFUKM9jYMANNiqAqVW3GPABvoUTgCTbBSYBvMoYLiYwMDBvYPiK\n",
       "XxVD4gWG+AcMltikUgzl3Q0TIOzkgP0PGMqwmiAQw6CT+ADEeiXEAFRli11VFAMj9wEgI+I0A8jG\n",
       "n7hUcQQ4MDDEABVhuJ5XvLwEoUqA4U0rWPQC0wEkRUy+DxBm8bw7wPAOwlt1Ayj+9s7rVaDQYwh5\n",
       "gGTjxikBKI5o4D3LUQBiuCLcFez+/R6KIrYAtn884MBxQHJ92hNQPAoCAcRIbgYOiDS3eXl5eSFU\n",
       "FeOzBDR/M1+AxK0AklncDXJoqvQD+MDuLkAOr+5AFDUPFQ4zcIFZd5FVPeRFsXL+vmYGTTCLZQJc\n",
       "VQQDW4IQsqoXdznbINJ8B/XgaUKUQdB/AvbExLQQGkMYAADvLE/718ii1wAAAABJRU5ErkJggg==\n",
       "\" style=\"display:inline;vertical-align:middle;\" /></a> <a class=\"ProveItLink\" href=\"../__pv_it/demonstrations/55781bf46d23f61d70077760e42ab26537f590150/proof.ipynb\" style=\"text-decoration: none\">&nbsp;&#x22A2;&nbsp;&nbsp;</a><a class=\"ProveItLink\" href=\"../__pv_it/theorems/ffcbd76494d8407c0ebebaa8c88703403e0e53b60/expr.ipynb\"><img src=\"data:image/png;base64,iVBORw0KGgoAAAANSUhEUgAAADEAAAARBAMAAACGHlkZAAAAMFBMVEX///9ERES6uroQEBAyMjLc\n",
       "3NyYmJgiIiJmZmaqqqp2dnbMzMxUVFSIiIju7u4AAAAd7oVFAAAAAXRSTlMAQObYZgAAAAlwSFlz\n",
       "AAAOxAAADsQBlSsOGwAAAL9JREFUGNNjYMAGVt0IQOI9SYAzWSbwlSLJ8C2/AGOmMzAsRDHj+joo\n",
       "Q4aBYf4DFKl0qNQPBob9ExgY3t55vWoCVGpKK9hckAzQ1gbesxwFMF0q54AE6y+gzAUGtgC2fzxw\n",
       "Z6nIwWQWMHAzcDjALZpyFGwaUEYf5FBmhGv74C6YD7JaP4DvAaqrBRkY8h8wPFQ4zMCF5tNkBoYW\n",
       "oLZ9zQyaaKHDPoHPmoHhxV3OtgloAcrXdWcDA2XgeTkIVMP5AFzBOzPS0ealAAAAAElFTkSuQmCC\n",
       "\" style=\"display:inline;vertical-align:middle;\" /></a></span>"
      ],
      "text/plain": [
       "{x in RealNonNeg} |- x >= 0"
      ]
     },
     "metadata": {},
     "output_type": "display_data"
    }
   ],
   "source": [
    "greater_eq(x, zero).prove(assumptions=[InSet(x, RealNonNeg)], \n",
    "                          conclude_automation=False) # should be side-effect"
   ]
  },
  {
   "cell_type": "code",
   "execution_count": 158,
   "metadata": {},
   "outputs": [
    {
     "data": {
      "text/html": [
       "<span style=\"font-size:20px;\"><a class=\"ProveItLink\" href=\"../__pv_it/theorems/2cb28dd28e519f2ed21b5bd3873ca2325fe653c60/expr.ipynb\"><img src=\"data:image/png;base64,iVBORw0KGgoAAAANSUhEUgAAAEoAAAAUBAMAAADYerbFAAAAMFBMVEX///9ERES6uroQEBAyMjLc\n",
       "3NyYmJgiIiJmZmaqqqp2dnbMzMxUVFSIiIju7u4AAAAd7oVFAAAAAXRSTlMAQObYZgAAAAlwSFlz\n",
       "AAAOxAAADsQBlSsOGwAAASxJREFUKM9jYMAPJgYwrLrFQEjRBQa2C0wC+BUlJjAwMG9g+IpX0cUJ\n",
       "QCL+AYMlNskUQ3l3Q6Apm0GKGPY/YCjDaoZADINO4gMGTqkHEFW22FVFMTByH2BgYAIpA9r4E5cq\n",
       "jgAHIIP7RACG63nFy0sQqsDeZz3zgPcC0wEkRUy+DxBm8byDSLEyMKy6ARR/e+f1KrBnQh4g2bhx\n",
       "SgCKIxp4z3IUgBiuCHcFu3+/h6KILYDtH08CiOWA5Pq0J0BqoyAQQIzkZuCASHObl5eXF0JVMT5L\n",
       "QPM38wUwxSeAZBZ3gxyaKv0APrC7C5DDqzsQRc1DhcMMXGDWXWRVD3lRrJy/r5lBE8ximQBXFcHA\n",
       "liCErOrFXc42iDTfQT14mhBlEPSfgD05MS2ExhAGAADOeU+wJS0RIQAAAABJRU5ErkJggg==\n",
       "\" style=\"display:inline;vertical-align:middle;\" /></a> <a class=\"ProveItLink\" href=\"../__pv_it/demonstrations/1a5bd1417626196590d2021aa4451df11d74d5a20/proof.ipynb\" style=\"text-decoration: none\">&nbsp;&#x22A2;&nbsp;&nbsp;</a><a class=\"ProveItLink\" href=\"../__pv_it/theorems/c30a0bd668f16bebb68a7791021eba7f002ea2a10/expr.ipynb\"><img src=\"data:image/png;base64,iVBORw0KGgoAAAANSUhEUgAAADEAAAARBAMAAACGHlkZAAAAMFBMVEX///9ERES6uroQEBAyMjLc\n",
       "3NyYmJgiIiJmZmaqqqp2dnbMzMxUVFSIiIju7u4AAAAd7oVFAAAAAXRSTlMAQObYZgAAAAlwSFlz\n",
       "AAAOxAAADsQBlSsOGwAAAMFJREFUGNNjYMAGVt0IQBfidAWRLBP4StEk2CoegKh0BoaFqBK8VWAJ\n",
       "BhkGhvkPkCVe1UIZPxgY9k9gYHh75/WqCSD+izKoBB9IJoGBoYH3LEcBkP/GE6aX9RdQ5gIDWwDb\n",
       "Px6gAgYeVJkFDNwMHA4QgQi4aUAZ/QtABvMFLC6YD7JaP4DvAaqrBRkY8h8wPFQ4zMCF5tNkBoYW\n",
       "oLZ9zQyaiNDxBpHsE/isgb64y9k2AS2Q+LrubGCgDDwvB4FqOB8Ax+c5l95ky0sAAAAASUVORK5C\n",
       "YII=\n",
       "\" style=\"display:inline;vertical-align:middle;\" /></a></span>"
      ],
      "text/plain": [
       "{x in RealNonPos} |- x <= 0"
      ]
     },
     "metadata": {},
     "output_type": "display_data"
    }
   ],
   "source": [
    "LessEq(x, zero).prove(assumptions=[InSet(x, RealNonPos)], \n",
    "                      conclude_automation=False) # should be side-effect"
   ]
  },
  {
   "cell_type": "code",
   "execution_count": 159,
   "metadata": {},
   "outputs": [
    {
     "data": {
      "text/html": [
       "<span style=\"font-size:20px;\"><a class=\"ProveItLink\" href=\"../__pv_it/demonstrations/619064660bea43de10a0abd6495f8cdd14c3dac70/expr.ipynb\"><img src=\"data:image/png;base64,iVBORw0KGgoAAAANSUhEUgAAADIAAAAQBAMAAACmdTG/AAAAMFBMVEX///9UVFSqqqqIiIi6urru\n",
       "7u4iIiIyMjIQEBCYmJhmZmbc3NxERER2dnbMzMwAAAAssMphAAAAAXRSTlMAQObYZgAAAAlwSFlz\n",
       "AAAOxAAADsQBlSsOGwAAALxJREFUGNNjYEAHnBVnvmecZMAGeLgFWCSPYpe5wHDgIS6Z1ezIIjZp\n",
       "aQVwGR4kCXdTJD2igQwMfHe4104A8rlLkUzjO1TNwMDLs5a3Achn34CQac9PDmBg2MmewHUBJIPk\n",
       "gptTQRY+5Z8A5r9IA4IDUNOOzgQx/APAMjHIrn7FAxJcBuGzIctwvQbpzoXwmQ2QZFgPWAJd+wUq\n",
       "UISQWcAwk8eBgSUBKhB4JAAW1n828Bz/hBQIvscgoQMFAPxuNZ5Z5CayAAAAAElFTkSuQmCC\n",
       "\" style=\"display:inline;vertical-align:middle;\" /></a>, <a class=\"ProveItLink\" href=\"../__pv_it/demonstrations/13afb291ae03c2910bf1688bfbda2fcf5a0202d50/expr.ipynb\"><img src=\"data:image/png;base64,iVBORw0KGgoAAAANSUhEUgAAAC8AAAAUCAMAAAAqRJTwAAAAPFBMVEX///+IiIgNDQ0WFhYLCwsY\n",
       "GBiqqqpUVFS6urru7u4iIiIyMjIQEBCYmJhmZmbc3NxERER2dnbMzMwAAAC6clcSAAAAAXRSTlMA\n",
       "QObYZgAAAAlwSFlzAAAOxAAADsQBlSsOGwAAAMxJREFUKM+VkusOwyAIhXEX66Wi6Pu/6xTTzWrr\n",
       "Ij9MiMcPDgJwH6hhJWJoMyKBfqoPsUmsBNBm9iBuTeIM1wgzfAsL/Fime0eqxUNCLplyVzFX8Uiu\n",
       "09sWrw99VhEEJKD9GKLheL/KedTwiapegHdgsxmkCf6nJ4gakhu7x1Oqq15lfjlH17abdO1fFr+5\n",
       "49MSlL6fj+riO6PAk3dMNjTi+4qOx4GWvaheLnEgmLIPe9kQZf7jsxZJbPH6ayUt7fEVfhZuEW/W\n",
       "8BBnlx+i+whlef7dkwAAAABJRU5ErkJggg==\n",
       "\" style=\"display:inline;vertical-align:middle;\" /></a> <a class=\"ProveItLink\" href=\"../__pv_it/demonstrations/ef96ec918bf458c55e224aac1426350886ddeb690/proof.ipynb\" style=\"text-decoration: none\">&nbsp;&#x22A2;&nbsp;&nbsp;</a><a class=\"ProveItLink\" href=\"../__pv_it/demonstrations/b5b9699cb86b6893f6e3a183e3782057b660119c0/expr.ipynb\"><img src=\"data:image/png;base64,iVBORw0KGgoAAAANSUhEUgAAAEcAAAAVCAMAAAAjKAPRAAAAOVBMVEX///82NjYbGxsSEhJUVFSq\n",
       "qqqIiIi6urru7u4iIiIyMjIQEBCYmJhmZmbc3NxERER2dnbMzMwAAABxNoPbAAAAAXRSTlMAQObY\n",
       "ZgAAAAlwSFlzAAAOxAAADsQBlSsOGwAAASVJREFUOMutVIlyxSAI5LUeiAfq/3/sU3M0h+alTZkJ\n",
       "GSayYRcQ4IEh/ItF3XxU8RFMENU7BaD5CY4I1dtUXA5/h9GNTchVJCvvZDiyzJmMZddiz9W+y+Mg\n",
       "NRzj7v2bmxhaOF5bpKbUCceq2zixvZJYWj5LO/HK8lc4PgDNvL5e3Hhd6qzYFKMezlzGWheo2nfR\n",
       "bQQp7NcjEOeMH53qHPoapVhO+bgqHggHvBJLmgjIjq4R2EeIdokpdPWxZLJZCqXOdDsgU6ivO0ID\n",
       "nZ3D5ZPU5yMJIW+nKFkzGx94MbrLcdN5KwjyqO/Jb+U9mze70Aznx6dwtdhmf30oNcIppaoxs5AP\n",
       "qpHs4fi6sA5YD+U5EkHBGs/7zmUemOnuKk1XC+/34rO9AQCfDVBVb1DTAAAAAElFTkSuQmCC\n",
       "\" style=\"display:inline;vertical-align:middle;\" /></a></span>"
      ],
      "text/plain": [
       "{r in Real, r != 0} |- r in RealNonZero"
      ]
     },
     "metadata": {},
     "output_type": "display_data"
    }
   ],
   "source": [
    "InSet(r, RealNonZero).prove(assumptions=[InSet(r, Real), NotEquals(r, zero)])"
   ]
  },
  {
   "cell_type": "code",
   "execution_count": 160,
   "metadata": {},
   "outputs": [
    {
     "data": {
      "text/html": [
       "<span style=\"font-size:20px;\"><a class=\"ProveItLink\" href=\"../__pv_it/demonstrations/619064660bea43de10a0abd6495f8cdd14c3dac70/expr.ipynb\"><img src=\"data:image/png;base64,iVBORw0KGgoAAAANSUhEUgAAADIAAAAQBAMAAACmdTG/AAAAMFBMVEX///9UVFSqqqqIiIi6urru\n",
       "7u4iIiIyMjIQEBCYmJhmZmbc3NxERER2dnbMzMwAAAAssMphAAAAAXRSTlMAQObYZgAAAAlwSFlz\n",
       "AAAOxAAADsQBlSsOGwAAALxJREFUGNNjYEAHnBVnvmecZMAGeLgFWCSPYpe5wHDgIS6Z1ezIIjZp\n",
       "aQVwGR4kCXdTJD2igQwMfHe4104A8rlLkUzjO1TNwMDLs5a3Achn34CQac9PDmBg2MmewHUBJIPk\n",
       "gptTQRY+5Z8A5r9IA4IDUNOOzgQx/APAMjHIrn7FAxJcBuGzIctwvQbpzoXwmQ2QZFgPWAJd+wUq\n",
       "UISQWcAwk8eBgSUBKhB4JAAW1n828Bz/hBQIvscgoQMFAPxuNZ5Z5CayAAAAAElFTkSuQmCC\n",
       "\" style=\"display:inline;vertical-align:middle;\" /></a>, <a class=\"ProveItLink\" href=\"../__pv_it/demonstrations/4fbcb7a28aa1a7b57995427d328be52fe3a024f90/expr.ipynb\"><img src=\"data:image/png;base64,iVBORw0KGgoAAAANSUhEUgAAAC8AAAAQBAMAAAB0JTvnAAAAMFBMVEX///9UVFSqqqqIiIi6urru\n",
       "7u4iIiIyMjIQEBCYmJhmZmbc3NxERER2dnbMzMwAAAAssMphAAAAAXRSTlMAQObYZgAAAAlwSFlz\n",
       "AAAOxAAADsQBlSsOGwAAALJJREFUGNNjYMAC7lptwCbMwK7Amo1VYhoDwx0EL3wCnHmQgUE/AM5j\n",
       "vWYAY/5iYHivwMB3h3stRLHZVagSkMQEBl6etbwNULOXginuv0AJA4ad7AlcF6BmqK+GS1xgeMqP\n",
       "sJXBXRRkFFDCH2ihfwCSxFGo5foKDAzLEOLq0mDqDAPDfKDqXITHVkPoGQwMy4FWfYGJw5zLwKbA\n",
       "2sfAwJIAdb0Z3IOsaw0fIMwPm8BAHAAAvG4rLyIhfQIAAAAASUVORK5CYII=\n",
       "\" style=\"display:inline;vertical-align:middle;\" /></a> <a class=\"ProveItLink\" href=\"../__pv_it/demonstrations/8642988205b1d5b3e53857f3faed4c9437aba30e0/proof.ipynb\" style=\"text-decoration: none\">&nbsp;&#x22A2;&nbsp;&nbsp;</a><a class=\"ProveItLink\" href=\"../__pv_it/demonstrations/12975aba11f8b68a8a57452eda3863c164b3b1e90/expr.ipynb\"><img src=\"data:image/png;base64,iVBORw0KGgoAAAANSUhEUgAAAD4AAAATBAMAAAA63aOfAAAAMFBMVEX///9UVFSqqqqIiIi6urru\n",
       "7u4iIiIyMjIQEBCYmJhmZmbc3NxERER2dnbMzMwAAAAssMphAAAAAXRSTlMAQObYZgAAAAlwSFlz\n",
       "AAAOxAAADsQBlSsOGwAAAM5JREFUKM9jYMADFjDgBwfIkeesOPM94yQe/TzcAiySR/HJX2A48JCB\n",
       "68yZnjMnccivZsfUb5OWVgCX58GQdzdF0i8aCJPnu8O9dgKQ5i5FMp/vUDVMnpdnLW8DkGbfgJBv\n",
       "z08OgIXfTvYErgsgeST33ZxaAOc95Z8Apl+kAcEBqPlHZyLc5Q82iiEG2X+veALg3GUQig1Znus1\n",
       "wmu5EIrZAEme9YAljMf9BcooQsgvYJjJ4wDlsSRAGYFHAmDx92cDz/FPGOHueyytAEMQAMwLQKHK\n",
       "tRXGAAAAAElFTkSuQmCC\n",
       "\" style=\"display:inline;vertical-align:middle;\" /></a></span>"
      ],
      "text/plain": [
       "{r in Real, r > 0} |- r in RealPos"
      ]
     },
     "metadata": {},
     "output_type": "display_data"
    }
   ],
   "source": [
    "InSet(r, RealPos).prove(assumptions=[InSet(r, Real), greater(r, zero)])"
   ]
  },
  {
   "cell_type": "code",
   "execution_count": 161,
   "metadata": {},
   "outputs": [
    {
     "data": {
      "text/html": [
       "<span style=\"font-size:20px;\"><a class=\"ProveItLink\" href=\"../__pv_it/demonstrations/619064660bea43de10a0abd6495f8cdd14c3dac70/expr.ipynb\"><img src=\"data:image/png;base64,iVBORw0KGgoAAAANSUhEUgAAADIAAAAQBAMAAACmdTG/AAAAMFBMVEX///9UVFSqqqqIiIi6urru\n",
       "7u4iIiIyMjIQEBCYmJhmZmbc3NxERER2dnbMzMwAAAAssMphAAAAAXRSTlMAQObYZgAAAAlwSFlz\n",
       "AAAOxAAADsQBlSsOGwAAALxJREFUGNNjYEAHnBVnvmecZMAGeLgFWCSPYpe5wHDgIS6Z1ezIIjZp\n",
       "aQVwGR4kCXdTJD2igQwMfHe4104A8rlLkUzjO1TNwMDLs5a3Achn34CQac9PDmBg2MmewHUBJIPk\n",
       "gptTQRY+5Z8A5r9IA4IDUNOOzgQx/APAMjHIrn7FAxJcBuGzIctwvQbpzoXwmQ2QZFgPWAJd+wUq\n",
       "UISQWcAwk8eBgSUBKhB4JAAW1n828Bz/hBQIvscgoQMFAPxuNZ5Z5CayAAAAAElFTkSuQmCC\n",
       "\" style=\"display:inline;vertical-align:middle;\" /></a>, <a class=\"ProveItLink\" href=\"../__pv_it/demonstrations/852751f5259ab586e8e04031aa81781437c9d3ba0/expr.ipynb\"><img src=\"data:image/png;base64,iVBORw0KGgoAAAANSUhEUgAAAC8AAAAQBAMAAAB0JTvnAAAAMFBMVEX///9UVFSIiIiqqqq6urru\n",
       "7u4iIiIyMjIQEBCYmJhmZmbc3NxERER2dnbMzMwAAAAOx6YEAAAAAXRSTlMAQObYZgAAAAlwSFlz\n",
       "AAAOxAAADsQBlSsOGwAAALFJREFUGNNjYMAC7mptwCbMwG7Amo1VYhoDwx00IeZqEHmQgcE+AEWc\n",
       "MwvM/8XA8N6Age8O99oJEHGmXLA4K0hiAgMvz1reBrB4bBJEnvsvUEKBYSd7AtcFEH9XJgOSxAWG\n",
       "p/wQgxiLYTaxAiX8FYA4AE0CZLm9AQPDMigXbhTDGQaG+UDVuTA+zHKGGQwMy4FWfYEbEZQEMZXN\n",
       "gLWPgYElAcmDUI+sVXyAFiSc1QwEAQB+cCn4nIqQ4wAAAABJRU5ErkJggg==\n",
       "\" style=\"display:inline;vertical-align:middle;\" /></a> <a class=\"ProveItLink\" href=\"../__pv_it/demonstrations/39f630f31348251cc1790ea2dcbac7495eed58100/proof.ipynb\" style=\"text-decoration: none\">&nbsp;&#x22A2;&nbsp;&nbsp;</a><a class=\"ProveItLink\" href=\"../__pv_it/demonstrations/e7301d9e4d52a1fb6e5d41fe6c519db248e025230/expr.ipynb\"><img src=\"data:image/png;base64,iVBORw0KGgoAAAANSUhEUgAAAD4AAAAQBAMAAAC8SdExAAAAMFBMVEX///9UVFSqqqqIiIi6urru\n",
       "7u4iIiIyMjIQEBCYmJhmZmbc3NxERER2dnbMzMwAAAAssMphAAAAAXRSTlMAQObYZgAAAAlwSFlz\n",
       "AAAOxAAADsQBlSsOGwAAAMRJREFUGNNjYEAHnBVnvmecZMANeLgFWCSP4pO/wHDgIQPfGSA4jUN+\n",
       "NTumuE1aWgFcngdD2t0USb9oIEyY7w732glAmrsUyXy+Q9UwHi/PWt4GIM2+ASHfnp8cAOPtZE/g\n",
       "ugCSR3LfzakFcN5T/glg+kUaEByAmn90JsJd/hCjYpD994oHbj7DMgjFhizP9foAnJsLoZgNkORZ\n",
       "D1jCeNxfoIwihPwChpk8DlAeSwKUEXgkABZ/fzbwHP+EEYC+x9IKMAQBX+A5p0Ls6+oAAAAASUVO\n",
       "RK5CYII=\n",
       "\" style=\"display:inline;vertical-align:middle;\" /></a></span>"
      ],
      "text/plain": [
       "{r in Real, r < 0} |- r in RealNeg"
      ]
     },
     "metadata": {},
     "output_type": "display_data"
    }
   ],
   "source": [
    "InSet(r, RealNeg).prove(assumptions=[InSet(r, Real), Less(r, zero)])"
   ]
  },
  {
   "cell_type": "code",
   "execution_count": 162,
   "metadata": {},
   "outputs": [
    {
     "data": {
      "text/html": [
       "<span style=\"font-size:20px;\"><a class=\"ProveItLink\" href=\"../__pv_it/demonstrations/619064660bea43de10a0abd6495f8cdd14c3dac70/expr.ipynb\"><img src=\"data:image/png;base64,iVBORw0KGgoAAAANSUhEUgAAADIAAAAQBAMAAACmdTG/AAAAMFBMVEX///9UVFSqqqqIiIi6urru\n",
       "7u4iIiIyMjIQEBCYmJhmZmbc3NxERER2dnbMzMwAAAAssMphAAAAAXRSTlMAQObYZgAAAAlwSFlz\n",
       "AAAOxAAADsQBlSsOGwAAALxJREFUGNNjYEAHnBVnvmecZMAGeLgFWCSPYpe5wHDgIS6Z1ezIIjZp\n",
       "aQVwGR4kCXdTJD2igQwMfHe4104A8rlLkUzjO1TNwMDLs5a3Achn34CQac9PDmBg2MmewHUBJIPk\n",
       "gptTQRY+5Z8A5r9IA4IDUNOOzgQx/APAMjHIrn7FAxJcBuGzIctwvQbpzoXwmQ2QZFgPWAJd+wUq\n",
       "UISQWcAwk8eBgSUBKhB4JAAW1n828Bz/hBQIvscgoQMFAPxuNZ5Z5CayAAAAAElFTkSuQmCC\n",
       "\" style=\"display:inline;vertical-align:middle;\" /></a>, <a class=\"ProveItLink\" href=\"../__pv_it/demonstrations/ceb2d14f78c448fe02261edd5eb78b8090d070ec0/expr.ipynb\"><img src=\"data:image/png;base64,iVBORw0KGgoAAAANSUhEUgAAAC8AAAARBAMAAAC/eehCAAAAMFBMVEX///9UVFSqqqqIiIi6urru\n",
       "7u4iIiIyMjIQEBCYmJhmZmbc3NxERER2dnbMzMwAAAAssMphAAAAAXRSTlMAQObYZgAAAAlwSFlz\n",
       "AAAOxAAADsQBlSsOGwAAAK5JREFUGNNjYMAC7lptQHDCJ8CZ7Aqs2QgJ1msGMOY0BoY7yAaYXYUy\n",
       "DjIw6Acgy0yDyvxiYHivwMB3h3stzHj11WBDQRITGHh51vI2wPS4iwIJ7r9ACQOGnewJXBfgEkdh\n",
       "EhcYnvIj3KkuDTYKKOEPdKI/3AHTlsIt11dgYFiG4dwzDAzzgapzMTw4g4FhOdCqLxhBwqbA2sfA\n",
       "wJKAEYasaw0fMFAAwtJAIA/OBwCp5C688/patwAAAABJRU5ErkJggg==\n",
       "\" style=\"display:inline;vertical-align:middle;\" /></a> <a class=\"ProveItLink\" href=\"../__pv_it/demonstrations/0187ced8ca4e6c913789b2585c84a912451694cf0/proof.ipynb\" style=\"text-decoration: none\">&nbsp;&#x22A2;&nbsp;&nbsp;</a><a class=\"ProveItLink\" href=\"../__pv_it/demonstrations/d577b5714234a04021074bfda1665bc7eb1a25870/expr.ipynb\"><img src=\"data:image/png;base64,iVBORw0KGgoAAAANSUhEUgAAAEgAAAAUBAMAAADcj2b4AAAAMFBMVEX///9UVFSqqqqIiIi6urru\n",
       "7u4iIiIyMjIQEBCYmJhmZmbc3NxERER2dnbMzMwAAAAssMphAAAAAXRSTlMAQObYZgAAAAlwSFlz\n",
       "AAAOxAAADsQBlSsOGwAAASBJREFUKM9jYMAJ3jiAqbu2DHgA6x0FIMlpwHIAnyoGmwkMDBwPGH7j\n",
       "VcQwx4BhfwBDExaZ6T3ny3omQNgzNrwPYMjEpv/ARgbHOQEgVuwRBqCiZqyK9jLw8AkAGbvkGEDW\n",
       "fcKhiGtDAQPDRqAadIczH0tLRyg6wBC4GixqwCKAUMNSHIAwiTFUgCEUwrtrFcDAd4d7Ldgr2wOQ\n",
       "rHujvgHZAbw8a3kbQIxqhJt2lH0zRXHlTvYErgsgRgGSw2eGg+LuDBBADHzKDwk3vra0tLQcqCKe\n",
       "yAmoHvaHuIX1AJJJfAuOoipaBqUTkMNp3R5URblQ2hhZUQwzin3cX6AMdgW4ol0MnBOOICtigVnD\n",
       "KuMKTwWnGc7UK2BNPCx3oNGCAQAgQFpplzn5ZQAAAABJRU5ErkJggg==\n",
       "\" style=\"display:inline;vertical-align:middle;\" /></a></span>"
      ],
      "text/plain": [
       "{r in Real, r >= 0} |- r in RealNonNeg"
      ]
     },
     "metadata": {},
     "output_type": "display_data"
    }
   ],
   "source": [
    "InSet(r, RealNonNeg).prove(assumptions=[InSet(r, Real), greater_eq(r, zero)])"
   ]
  },
  {
   "cell_type": "code",
   "execution_count": 163,
   "metadata": {},
   "outputs": [
    {
     "data": {
      "text/html": [
       "<span style=\"font-size:20px;\"><a class=\"ProveItLink\" href=\"../__pv_it/demonstrations/619064660bea43de10a0abd6495f8cdd14c3dac70/expr.ipynb\"><img src=\"data:image/png;base64,iVBORw0KGgoAAAANSUhEUgAAADIAAAAQBAMAAACmdTG/AAAAMFBMVEX///9UVFSqqqqIiIi6urru\n",
       "7u4iIiIyMjIQEBCYmJhmZmbc3NxERER2dnbMzMwAAAAssMphAAAAAXRSTlMAQObYZgAAAAlwSFlz\n",
       "AAAOxAAADsQBlSsOGwAAALxJREFUGNNjYEAHnBVnvmecZMAGeLgFWCSPYpe5wHDgIS6Z1ezIIjZp\n",
       "aQVwGR4kCXdTJD2igQwMfHe4104A8rlLkUzjO1TNwMDLs5a3Achn34CQac9PDmBg2MmewHUBJIPk\n",
       "gptTQRY+5Z8A5r9IA4IDUNOOzgQx/APAMjHIrn7FAxJcBuGzIctwvQbpzoXwmQ2QZFgPWAJd+wUq\n",
       "UISQWcAwk8eBgSUBKhB4JAAW1n828Bz/hBQIvscgoQMFAPxuNZ5Z5CayAAAAAElFTkSuQmCC\n",
       "\" style=\"display:inline;vertical-align:middle;\" /></a>, <a class=\"ProveItLink\" href=\"../__pv_it/demonstrations/0354d8cf2a05630211843c3bf449e55f39c83dd40/expr.ipynb\"><img src=\"data:image/png;base64,iVBORw0KGgoAAAANSUhEUgAAAC8AAAARBAMAAAC/eehCAAAAMFBMVEX///9UVFSIiIiqqqq6urru\n",
       "7u4iIiIyMjIQEBCYmJhmZmbc3NxERER2dnbMzMwAAAAOx6YEAAAAAXRSTlMAQObYZgAAAAlwSFlz\n",
       "AAAOxAAADsQBlSsOGwAAAK9JREFUGNNjYMAC7mptQBNhrgaR7Aas2ajinFkBIGoaA8MdFHGmXLA4\n",
       "w0EGBvsAJPHYJCjjFwPDewMGvjvcayeAuFGZUHFWkMQEBl6etbwNQG5gMUwn91+ghALDTvYErgtA\n",
       "LiOqxAWGp/wTIPxdcKOAEv4KQByAxXJ7AwaGZRjOPcPAMB/IysXw4AwGhuVAq74gB0kdiGQzYO1j\n",
       "YGBJwAhD1rWKDxgoAGFpIJAH5wMAM+YsXzFu0gMAAAAASUVORK5CYII=\n",
       "\" style=\"display:inline;vertical-align:middle;\" /></a> <a class=\"ProveItLink\" href=\"../__pv_it/demonstrations/3a9210e91377c68c81b475de1aacd048222f459f0/proof.ipynb\" style=\"text-decoration: none\">&nbsp;&#x22A2;&nbsp;&nbsp;</a><a class=\"ProveItLink\" href=\"../__pv_it/demonstrations/879f0ab46be8c6e6ae960dd27ef7c6288d05b9cf0/expr.ipynb\"><img src=\"data:image/png;base64,iVBORw0KGgoAAAANSUhEUgAAAEgAAAAUBAMAAADcj2b4AAAAMFBMVEX///9UVFSqqqqIiIi6urru\n",
       "7u4iIiIyMjIQEBCYmJhmZmbc3NxERER2dnbMzMwAAAAssMphAAAAAXRSTlMAQObYZgAAAAlwSFlz\n",
       "AAAOxAAADsQBlSsOGwAAAR9JREFUKM9jYMALdDYw3LVlIKDGgIHTgOUAXjVzJjAwcDxg+I1PjY0C\n",
       "kNgfwNCERW56z/myHqAZL0BqGN4HMGRiM+HARgbHOQEMTGcDIIqasSray8DDJ8DAwAJSBbTuEw5F\n",
       "XBsKgAw+qQ3oDmc+lpaOUAT2N7dgALMBiwBCDUtxAMIkxlCIDDcDw12rAAa+O9xrJ4D42wOQrHuj\n",
       "vgHZAbw8a3kbQIxqhJt2lH0zRXHlTvYErgsgRgGSw2eGA6k3Z4AAYuBTfrBlDHxtaWlpOVBFPJET\n",
       "UD3sD3EL6wEkk/gWHEVVtAxKJyCH07o9qIpyobQxsqIYZhT7uL9AGewKcEW7GDgnHEFWxAKzhlXG\n",
       "FZ4KTjOcqVfAmnxY7kCjBQMAACk4WJrOe5mxAAAAAElFTkSuQmCC\n",
       "\" style=\"display:inline;vertical-align:middle;\" /></a></span>"
      ],
      "text/plain": [
       "{r in Real, r <= 0} |- r in RealNonPos"
      ]
     },
     "metadata": {},
     "output_type": "display_data"
    }
   ],
   "source": [
    "InSet(r, RealNonPos).prove(assumptions=[InSet(r, Real), LessEq(r, zero)])"
   ]
  },
  {
   "cell_type": "code",
   "execution_count": 164,
   "metadata": {},
   "outputs": [
    {
     "data": {
      "text/html": [
       "<span style=\"font-size:20px;\"><a class=\"ProveItLink\" href=\"../__pv_it/demonstrations/723a8901aec4502251179fbac282281021a2aad50/expr.ipynb\"><img src=\"data:image/png;base64,iVBORw0KGgoAAAANSUhEUgAAADMAAAASBAMAAAAEf/uKAAAAMFBMVEX///9UVFSqqqqIiIi6urru\n",
       "7u4iIiIyMjIQEBCYmJhmZmbc3NxERER2dnbMzMwAAAAssMphAAAAAXRSTlMAQObYZgAAAAlwSFlz\n",
       "AAAOxAAADsQBlSsOGwAAAOZJREFUGNNjYMAErHfOnNrAgBUY9jFsk8Uqwzt3AgPLkgPYpN6yA4kD\n",
       "k5GFmI+lpYPoo4FA4h47kgxLcQDEEQceA0klrgcMfHe4104ACW2HyDDwXfAEkp6cCgy8PGt5G0BC\n",
       "1TDdBpOA5GOmCQw72RO4LoCECqBS3Bc0QbqYHRie8k+AmNOWlpaWA2JB7QKa7w+zHeaeoxthLlwG\n",
       "FUmASfmC/QWyMBcqYgyT4gKFhgjQEO4vUBF2BZjcRWAYSoHcCjOIVcYV5sb15b8eoIQdyx1IQDEw\n",
       "MD6YzIALCDMLPcEhxSRTcZIBADYgOSkHfD9NAAAAAElFTkSuQmCC\n",
       "\" style=\"display:inline;vertical-align:middle;\" /></a> <a class=\"ProveItLink\" href=\"../__pv_it/demonstrations/57474dbf47f11c922aaef0c15f1cd08ca458ed560/proof.ipynb\" style=\"text-decoration: none\">&nbsp;&#x22A2;&nbsp;&nbsp;</a><a class=\"ProveItLink\" href=\"../__pv_it/demonstrations/619064660bea43de10a0abd6495f8cdd14c3dac70/expr.ipynb\"><img src=\"data:image/png;base64,iVBORw0KGgoAAAANSUhEUgAAADIAAAAQBAMAAACmdTG/AAAAMFBMVEX///9UVFSqqqqIiIi6urru\n",
       "7u4iIiIyMjIQEBCYmJhmZmbc3NxERER2dnbMzMwAAAAssMphAAAAAXRSTlMAQObYZgAAAAlwSFlz\n",
       "AAAOxAAADsQBlSsOGwAAALxJREFUGNNjYEAHnBVnvmecZMAGeLgFWCSPYpe5wHDgIS6Z1ezIIjZp\n",
       "aQVwGR4kCXdTJD2igQwMfHe4104A8rlLkUzjO1TNwMDLs5a3Achn34CQac9PDmBg2MmewHUBJIPk\n",
       "gptTQRY+5Z8A5r9IA4IDUNOOzgQx/APAMjHIrn7FAxJcBuGzIctwvQbpzoXwmQ2QZFgPWAJd+wUq\n",
       "UISQWcAwk8eBgSUBKhB4JAAW1n828Bz/hBQIvscgoQMFAPxuNZ5Z5CayAAAAAElFTkSuQmCC\n",
       "\" style=\"display:inline;vertical-align:middle;\" /></a></span>"
      ],
      "text/plain": [
       "{r in Rational} |- r in Real"
      ]
     },
     "metadata": {},
     "output_type": "display_data"
    }
   ],
   "source": [
    "InSet(r, Real).prove(assumptions=[InSet(r, Rational)])"
   ]
  },
  {
   "cell_type": "code",
   "execution_count": 165,
   "metadata": {},
   "outputs": [
    {
     "data": {
      "text/html": [
       "<span style=\"font-size:20px;\"><a class=\"ProveItLink\" href=\"../__pv_it/demonstrations/a6fbdf741202d7fb8f8d9a72f3e58361a04735230/expr.ipynb\"><img src=\"data:image/png;base64,iVBORw0KGgoAAAANSUhEUgAAAEgAAAAXCAMAAACf6/lXAAAAOVBMVEX///82NjYbGxsSEhJUVFSq\n",
       "qqqIiIi6urru7u4iIiIyMjIQEBCYmJhmZmbc3NxERER2dnbMzMwAAABxNoPbAAAAAXRSTlMAQObY\n",
       "ZgAAAAlwSFlzAAAOxAAADsQBlSsOGwAAAURJREFUOMutVIlyhSAMTFsIl5DA/39sudSK6NjxZUYE\n",
       "JQu7OQDemIbPGKs6MvI7nCDKuCCAoldAIpTRxTyk8AJHVUIhFaGcfCwrUzbfDvZlTj/5WSBWILM8\n",
       "xEFRGAQjdlmx+TYghw/Ds3B1U36TVfdJo5aeUYsMts2oBqlQ+/6iSu1ebCSTza5L0lr0q8UOGcW2\n",
       "t4RfzMNh8ZCymUXsGkgJPjbsnTej1/XeBMHzLnuw+sRM9d/5vRQ55ERcBvIM7LYPduSrsHkXTARZ\n",
       "MO0kzxewJuu3x/W0KXDzbjfCXGBSTSKiIR2yKTrTbSugo0aXJa/SKO1opMMYtZl5c1ybWVXteXSd\n",
       "emboJniOiF8zW9w0jJBG5ez5UF5rzd90gxMVLUiNigafrE0tGf/VauhvibQ2FmudfcAE5m4io3qP\n",
       "JAVZRxct7Beapg0qbc4kewAAAABJRU5ErkJggg==\n",
       "\" style=\"display:inline;vertical-align:middle;\" /></a> <a class=\"ProveItLink\" href=\"../__pv_it/demonstrations/7a9981490666a8b22c423f78b3a3e75d2d9742520/proof.ipynb\" style=\"text-decoration: none\">&nbsp;&#x22A2;&nbsp;&nbsp;</a><a class=\"ProveItLink\" href=\"../__pv_it/demonstrations/b5b9699cb86b6893f6e3a183e3782057b660119c0/expr.ipynb\"><img src=\"data:image/png;base64,iVBORw0KGgoAAAANSUhEUgAAAEcAAAAVCAMAAAAjKAPRAAAAOVBMVEX///82NjYbGxsSEhJUVFSq\n",
       "qqqIiIi6urru7u4iIiIyMjIQEBCYmJhmZmbc3NxERER2dnbMzMwAAABxNoPbAAAAAXRSTlMAQObY\n",
       "ZgAAAAlwSFlzAAAOxAAADsQBlSsOGwAAASVJREFUOMutVIlyxSAI5LUeiAfq/3/sU3M0h+alTZkJ\n",
       "GSayYRcQ4IEh/ItF3XxU8RFMENU7BaD5CY4I1dtUXA5/h9GNTchVJCvvZDiyzJmMZddiz9W+y+Mg\n",
       "NRzj7v2bmxhaOF5bpKbUCceq2zixvZJYWj5LO/HK8lc4PgDNvL5e3Hhd6qzYFKMezlzGWheo2nfR\n",
       "bQQp7NcjEOeMH53qHPoapVhO+bgqHggHvBJLmgjIjq4R2EeIdokpdPWxZLJZCqXOdDsgU6ivO0ID\n",
       "nZ3D5ZPU5yMJIW+nKFkzGx94MbrLcdN5KwjyqO/Jb+U9mze70Aznx6dwtdhmf30oNcIppaoxs5AP\n",
       "qpHs4fi6sA5YD+U5EkHBGs/7zmUemOnuKk1XC+/34rO9AQCfDVBVb1DTAAAAAElFTkSuQmCC\n",
       "\" style=\"display:inline;vertical-align:middle;\" /></a></span>"
      ],
      "text/plain": [
       "{r in RationalNonZero} |- r in RealNonZero"
      ]
     },
     "metadata": {},
     "output_type": "display_data"
    }
   ],
   "source": [
    "InSet(r, RealNonZero).prove(assumptions=[InSet(r, RationalNonZero)])"
   ]
  },
  {
   "cell_type": "code",
   "execution_count": 166,
   "metadata": {},
   "outputs": [
    {
     "data": {
      "text/html": [
       "<span style=\"font-size:20px;\"><a class=\"ProveItLink\" href=\"../__pv_it/demonstrations/de0e18dbbb7d301b149a1560a15b35c9b386abab0/expr.ipynb\"><img src=\"data:image/png;base64,iVBORw0KGgoAAAANSUhEUgAAAD8AAAAVBAMAAAADRiu8AAAAMFBMVEX///9UVFSqqqqIiIi6urru\n",
       "7u4iIiIyMjIQEBCYmJhmZmbc3NxERER2dnbMzMwAAAAssMphAAAAAXRSTlMAQObYZgAAAAlwSFlz\n",
       "AAAOxAAADsQBlSsOGwAAAPxJREFUKM9jYMADuBgIAB5yFbDeOXNqAz4Fhn0M22TxKOCdO4GBZckB\n",
       "hjVnTpw5MwGLgrfsQOLAZEwTmI+lpYPoo4FA4h47hgKW4gCIEw88BpJKXA+gCvjucK8FW7QdIs/A\n",
       "d8ETSHpyKkAV8PKs5W0AMaphJhlMApKPmSZAQ3InewLXBRCjAKqA+4ImyARmByj/KT/EJ3xtaWlp\n",
       "OSAW1A0BMMf5w9wGEzi6EeYLCFgGpRNgAr7gcJgEV5ALpY3hkQwKSRG4gdxfoAx2BZjQRWBcSCHC\n",
       "B2Y0q4wrTM/68l8PsMQByx1IUDMwMD6YTCClCDMLPcGrgEmm4iSUCQDJFz4FQMnFpQAAAABJRU5E\n",
       "rkJggg==\n",
       "\" style=\"display:inline;vertical-align:middle;\" /></a> <a class=\"ProveItLink\" href=\"../__pv_it/demonstrations/d0fcb51ed9556f2b7f52deb6abca0f19cb45c5330/proof.ipynb\" style=\"text-decoration: none\">&nbsp;&#x22A2;&nbsp;&nbsp;</a><a class=\"ProveItLink\" href=\"../__pv_it/demonstrations/12975aba11f8b68a8a57452eda3863c164b3b1e90/expr.ipynb\"><img src=\"data:image/png;base64,iVBORw0KGgoAAAANSUhEUgAAAD4AAAATBAMAAAA63aOfAAAAMFBMVEX///9UVFSqqqqIiIi6urru\n",
       "7u4iIiIyMjIQEBCYmJhmZmbc3NxERER2dnbMzMwAAAAssMphAAAAAXRSTlMAQObYZgAAAAlwSFlz\n",
       "AAAOxAAADsQBlSsOGwAAAM5JREFUKM9jYMADFjDgBwfIkeesOPM94yQe/TzcAiySR/HJX2A48JCB\n",
       "68yZnjMnccivZsfUb5OWVgCX58GQdzdF0i8aCJPnu8O9dgKQ5i5FMp/vUDVMnpdnLW8DkGbfgJBv\n",
       "z08OgIXfTvYErgsgeST33ZxaAOc95Z8Apl+kAcEBqPlHZyLc5Q82iiEG2X+veALg3GUQig1Znus1\n",
       "wmu5EIrZAEme9YAljMf9BcooQsgvYJjJ4wDlsSRAGYFHAmDx92cDz/FPGOHueyytAEMQAMwLQKHK\n",
       "tRXGAAAAAElFTkSuQmCC\n",
       "\" style=\"display:inline;vertical-align:middle;\" /></a></span>"
      ],
      "text/plain": [
       "{r in RationalPos} |- r in RealPos"
      ]
     },
     "metadata": {},
     "output_type": "display_data"
    }
   ],
   "source": [
    "InSet(r, RealPos).prove(assumptions=[InSet(r, RationalPos)])"
   ]
  },
  {
   "cell_type": "code",
   "execution_count": 167,
   "metadata": {},
   "outputs": [
    {
     "data": {
      "text/html": [
       "<span style=\"font-size:20px;\"><a class=\"ProveItLink\" href=\"../__pv_it/demonstrations/ee545c0617098e0c3b9e54ebbfd7d333b1a1db830/expr.ipynb\"><img src=\"data:image/png;base64,iVBORw0KGgoAAAANSUhEUgAAAD8AAAASBAMAAAAeQxsEAAAAMFBMVEX///9UVFSqqqqIiIi6urru\n",
       "7u4iIiIyMjIQEBCYmJhmZmbc3NxERER2dnbMzMwAAAAssMphAAAAAXRSTlMAQObYZgAAAAlwSFlz\n",
       "AAAOxAAADsQBlSsOGwAAAO9JREFUKM9jYMAErHfOnNrAgAcY9jFsk8Ujzzt3AgPLkgMMb84AATaT\n",
       "3rIDiQOTMSWYj6Wlg+ijgUDiHjuGPEtxAMSJBx4DSSWuB1BxvjvcayeAGNsDoAIXPIGkJ6cCzEk8\n",
       "a3kbQIxqmEkGk4DkY6YJUP5O9gSuCyBGAVSA+4ImyARmByj/KT9EKV9bWlpaDogFdUMAzHH+MLfB\n",
       "BI5uRPXFMiidABPwBYfDJLiCXChtDBPgAoWkCNxA7i9QBjvMXwwXgXEhhQgfmNGsMq4wPevLfz3A\n",
       "EgcsdyBBzcDA+GAyA34gzCz0BK8CJpmKk1AmAKmkPfV/dmzAAAAAAElFTkSuQmCC\n",
       "\" style=\"display:inline;vertical-align:middle;\" /></a> <a class=\"ProveItLink\" href=\"../__pv_it/demonstrations/d5295ead6a8c62528b2d1be4faad53f1cfe6fd2f0/proof.ipynb\" style=\"text-decoration: none\">&nbsp;&#x22A2;&nbsp;&nbsp;</a><a class=\"ProveItLink\" href=\"../__pv_it/demonstrations/e7301d9e4d52a1fb6e5d41fe6c519db248e025230/expr.ipynb\"><img src=\"data:image/png;base64,iVBORw0KGgoAAAANSUhEUgAAAD4AAAAQBAMAAAC8SdExAAAAMFBMVEX///9UVFSqqqqIiIi6urru\n",
       "7u4iIiIyMjIQEBCYmJhmZmbc3NxERER2dnbMzMwAAAAssMphAAAAAXRSTlMAQObYZgAAAAlwSFlz\n",
       "AAAOxAAADsQBlSsOGwAAAMRJREFUGNNjYEAHnBVnvmecZMANeLgFWCSP4pO/wHDgIQPfGSA4jUN+\n",
       "NTumuE1aWgFcngdD2t0USb9oIEyY7w732glAmrsUyXy+Q9UwHi/PWt4GIM2+ASHfnp8cAOPtZE/g\n",
       "ugCSR3LfzakFcN5T/glg+kUaEByAmn90JsJd/hCjYpD994oHbj7DMgjFhizP9foAnJsLoZgNkORZ\n",
       "D1jCeNxfoIwihPwChpk8DlAeSwKUEXgkABZ/fzbwHP+EEYC+x9IKMAQBX+A5p0Ls6+oAAAAASUVO\n",
       "RK5CYII=\n",
       "\" style=\"display:inline;vertical-align:middle;\" /></a></span>"
      ],
      "text/plain": [
       "{r in RationalNeg} |- r in RealNeg"
      ]
     },
     "metadata": {},
     "output_type": "display_data"
    }
   ],
   "source": [
    "InSet(r, RealNeg).prove(assumptions=[InSet(r, RationalNeg)])"
   ]
  },
  {
   "cell_type": "code",
   "execution_count": 168,
   "metadata": {},
   "outputs": [
    {
     "data": {
      "text/html": [
       "<span style=\"font-size:20px;\"><a class=\"ProveItLink\" href=\"../__pv_it/demonstrations/1c81cf361930438200fa2c153e99ce24e5d204e20/expr.ipynb\"><img src=\"data:image/png;base64,iVBORw0KGgoAAAANSUhEUgAAAEgAAAAWBAMAAACRR8fzAAAAMFBMVEX///9UVFSqqqqIiIi6urru\n",
       "7u4iIiIyMjIQEBCYmJhmZmbc3NxERER2dnbMzMwAAAAssMphAAAAAXRSTlMAQObYZgAAAAlwSFlz\n",
       "AAAOxAAADsQBlSsOGwAAAURJREFUKM9jYMAJ3jiAqbu2DHgA6x0FIMlpwHIAnyoGmwkMDBwPGH7j\n",
       "VcQwx4BhfwBDE3Z7zpzaAGHO2PA+gCETmyLDPoZtsmBW7BEGoKJmLGp4505gYFkCcu0uOQaQdZ+w\n",
       "KHrLDiQOTGZg2AhUg+5w5mNp6SD6aCCQuMfOELgaLGrAIoBQw1IcAHH2gcdAUonrQShE/K5VAAPf\n",
       "He61E0Cc7RA1DHwXPIGkJ6cCsjN51vI2gBjVMBMNJgHJx0wTkBTtZE/gugBiFEAFuC9ogkxidnhz\n",
       "Bggg4fWUH6KFry0tLS0HxIK6KQDZx/4w98IEjm6E+A4ZLIPSCTABX3A4TUJRlAuljWECXKAQF0FJ\n",
       "H9xfoAx2uJ8vAuNOCsUgFpg1rDKuMH3ry389wJF4WO5AooWBgfHBZAbCQJhZ6AlBRUwyFSeRuADz\n",
       "UVWiLpsOSQAAAABJRU5ErkJggg==\n",
       "\" style=\"display:inline;vertical-align:middle;\" /></a> <a class=\"ProveItLink\" href=\"../__pv_it/demonstrations/060bafa16fe43996e7be39566072a129e2d3f4cd0/proof.ipynb\" style=\"text-decoration: none\">&nbsp;&#x22A2;&nbsp;&nbsp;</a><a class=\"ProveItLink\" href=\"../__pv_it/demonstrations/d577b5714234a04021074bfda1665bc7eb1a25870/expr.ipynb\"><img src=\"data:image/png;base64,iVBORw0KGgoAAAANSUhEUgAAAEgAAAAUBAMAAADcj2b4AAAAMFBMVEX///9UVFSqqqqIiIi6urru\n",
       "7u4iIiIyMjIQEBCYmJhmZmbc3NxERER2dnbMzMwAAAAssMphAAAAAXRSTlMAQObYZgAAAAlwSFlz\n",
       "AAAOxAAADsQBlSsOGwAAASBJREFUKM9jYMAJ3jiAqbu2DHgA6x0FIMlpwHIAnyoGmwkMDBwPGH7j\n",
       "VcQwx4BhfwBDExaZ6T3ny3omQNgzNrwPYMjEpv/ARgbHOQEgVuwRBqCiZqyK9jLw8AkAGbvkGEDW\n",
       "fcKhiGtDAQPDRqAadIczH0tLRyg6wBC4GixqwCKAUMNSHIAwiTFUgCEUwrtrFcDAd4d7Ldgr2wOQ\n",
       "rHujvgHZAbw8a3kbQIxqhJt2lH0zRXHlTvYErgsgRgGSw2eGg+LuDBBADHzKDwk3vra0tLQcqCKe\n",
       "yAmoHvaHuIX1AJJJfAuOoipaBqUTkMNp3R5URblQ2hhZUQwzin3cX6AMdgW4ol0MnBOOICtigVnD\n",
       "KuMKTwWnGc7UK2BNPCx3oNGCAQAgQFpplzn5ZQAAAABJRU5ErkJggg==\n",
       "\" style=\"display:inline;vertical-align:middle;\" /></a></span>"
      ],
      "text/plain": [
       "{r in RationalNonNeg} |- r in RealNonNeg"
      ]
     },
     "metadata": {},
     "output_type": "display_data"
    }
   ],
   "source": [
    "InSet(r, RealNonNeg).prove(assumptions=[InSet(r, RationalNonNeg)])"
   ]
  },
  {
   "cell_type": "code",
   "execution_count": 169,
   "metadata": {},
   "outputs": [
    {
     "data": {
      "text/html": [
       "<span style=\"font-size:20px;\"><a class=\"ProveItLink\" href=\"../__pv_it/demonstrations/8297fc0cd35a1cb7a6c149e26b0070913129560a0/expr.ipynb\"><img src=\"data:image/png;base64,iVBORw0KGgoAAAANSUhEUgAAAEgAAAAWBAMAAACRR8fzAAAAMFBMVEX///9UVFSqqqqIiIi6urru\n",
       "7u4iIiIyMjIQEBCYmJhmZmbc3NxERER2dnbMzMwAAAAssMphAAAAAXRSTlMAQObYZgAAAAlwSFlz\n",
       "AAAOxAAADsQBlSsOGwAAAUZJREFUKM9jYMALdDYw3LVlIKDGgIHTgOUAXjVzJjAwcDxg+I1PjY0C\n",
       "kNgfwNCETZL1zplTGxgYXoDUMLwPYMjEpsiwj2GbLAMD09kAiKJmLGp4505gYFkCdC0LSBXQuk9Y\n",
       "FL1lBxIHJgMJPqkN6A5nPpaWDqKPBgKJeyCVDNyCAcwGLAIINSzFARBnH3gMJJW4HoBVMTDctQpg\n",
       "4LvDvXYCiL8dooaB74InkPTkVEB2Js9a3gYQoxpmosEkIPmYaQKSop3sCVwXQIwCqAD3BU2QScwO\n",
       "b84AwQaw2FN+iBa+trS0tBwQC+qmAGQf+8PcCxM4uhHuOzhYBqUTYAK+4HCahKIoF0obwwS4QCEu\n",
       "gpI+uL9AGexwP18Exp0UikEsMGtYZVxh+taX/3qAI/mw3IFECwMD44PJDISBMLPQE4KKmGQqTiJx\n",
       "AXZzU9ORMTnDAAAAAElFTkSuQmCC\n",
       "\" style=\"display:inline;vertical-align:middle;\" /></a> <a class=\"ProveItLink\" href=\"../__pv_it/demonstrations/28cef7f043ed968b862773b48c0815d38992c24c0/proof.ipynb\" style=\"text-decoration: none\">&nbsp;&#x22A2;&nbsp;&nbsp;</a><a class=\"ProveItLink\" href=\"../__pv_it/demonstrations/879f0ab46be8c6e6ae960dd27ef7c6288d05b9cf0/expr.ipynb\"><img src=\"data:image/png;base64,iVBORw0KGgoAAAANSUhEUgAAAEgAAAAUBAMAAADcj2b4AAAAMFBMVEX///9UVFSqqqqIiIi6urru\n",
       "7u4iIiIyMjIQEBCYmJhmZmbc3NxERER2dnbMzMwAAAAssMphAAAAAXRSTlMAQObYZgAAAAlwSFlz\n",
       "AAAOxAAADsQBlSsOGwAAAR9JREFUKM9jYMALdDYw3LVlIKDGgIHTgOUAXjVzJjAwcDxg+I1PjY0C\n",
       "kNgfwNCERW56z/myHqAZL0BqGN4HMGRiM+HARgbHOQEMTGcDIIqasSray8DDJ8DAwAJSBbTuEw5F\n",
       "XBsKgAw+qQ3oDmc+lpaOUAT2N7dgALMBiwBCDUtxAMIkxlCIDDcDw12rAAa+O9xrJ4D42wOQrHuj\n",
       "vgHZAbw8a3kbQIxqhJt2lH0zRXHlTvYErgsgRgGSw2eGA6k3Z4AAYuBTfrBlDHxtaWlpOVBFPJET\n",
       "UD3sD3EL6wEkk/gWHEVVtAxKJyCH07o9qIpyobQxsqIYZhT7uL9AGewKcEW7GDgnHEFWxAKzhlXG\n",
       "FZ4KTjOcqVfAmnxY7kCjBQMAACk4WJrOe5mxAAAAAElFTkSuQmCC\n",
       "\" style=\"display:inline;vertical-align:middle;\" /></a></span>"
      ],
      "text/plain": [
       "{r in RationalNonPos} |- r in RealNonPos"
      ]
     },
     "metadata": {},
     "output_type": "display_data"
    }
   ],
   "source": [
    "InSet(r, RealNonPos).prove(assumptions=[InSet(r, RationalNonPos)])"
   ]
  },
  {
   "cell_type": "code",
   "execution_count": 170,
   "metadata": {},
   "outputs": [
    {
     "data": {
      "text/html": [
       "<span style=\"font-size:20px;\"><a class=\"ProveItLink\" href=\"../__pv_it/demonstrations/b5b9699cb86b6893f6e3a183e3782057b660119c0/expr.ipynb\"><img src=\"data:image/png;base64,iVBORw0KGgoAAAANSUhEUgAAAEcAAAAVCAMAAAAjKAPRAAAAOVBMVEX///82NjYbGxsSEhJUVFSq\n",
       "qqqIiIi6urru7u4iIiIyMjIQEBCYmJhmZmbc3NxERER2dnbMzMwAAABxNoPbAAAAAXRSTlMAQObY\n",
       "ZgAAAAlwSFlzAAAOxAAADsQBlSsOGwAAASVJREFUOMutVIlyxSAI5LUeiAfq/3/sU3M0h+alTZkJ\n",
       "GSayYRcQ4IEh/ItF3XxU8RFMENU7BaD5CY4I1dtUXA5/h9GNTchVJCvvZDiyzJmMZddiz9W+y+Mg\n",
       "NRzj7v2bmxhaOF5bpKbUCceq2zixvZJYWj5LO/HK8lc4PgDNvL5e3Hhd6qzYFKMezlzGWheo2nfR\n",
       "bQQp7NcjEOeMH53qHPoapVhO+bgqHggHvBJLmgjIjq4R2EeIdokpdPWxZLJZCqXOdDsgU6ivO0ID\n",
       "nZ3D5ZPU5yMJIW+nKFkzGx94MbrLcdN5KwjyqO/Jb+U9mze70Aznx6dwtdhmf30oNcIppaoxs5AP\n",
       "qpHs4fi6sA5YD+U5EkHBGs/7zmUemOnuKk1XC+/34rO9AQCfDVBVb1DTAAAAAElFTkSuQmCC\n",
       "\" style=\"display:inline;vertical-align:middle;\" /></a> <a class=\"ProveItLink\" href=\"../__pv_it/demonstrations/42b708b4c6f1fc43fe353fce13da7e3c744781930/proof.ipynb\" style=\"text-decoration: none\">&nbsp;&#x22A2;&nbsp;&nbsp;</a><a class=\"ProveItLink\" href=\"../__pv_it/demonstrations/619064660bea43de10a0abd6495f8cdd14c3dac70/expr.ipynb\"><img src=\"data:image/png;base64,iVBORw0KGgoAAAANSUhEUgAAADIAAAAQBAMAAACmdTG/AAAAMFBMVEX///9UVFSqqqqIiIi6urru\n",
       "7u4iIiIyMjIQEBCYmJhmZmbc3NxERER2dnbMzMwAAAAssMphAAAAAXRSTlMAQObYZgAAAAlwSFlz\n",
       "AAAOxAAADsQBlSsOGwAAALxJREFUGNNjYEAHnBVnvmecZMAGeLgFWCSPYpe5wHDgIS6Z1ezIIjZp\n",
       "aQVwGR4kCXdTJD2igQwMfHe4104A8rlLkUzjO1TNwMDLs5a3Achn34CQac9PDmBg2MmewHUBJIPk\n",
       "gptTQRY+5Z8A5r9IA4IDUNOOzgQx/APAMjHIrn7FAxJcBuGzIctwvQbpzoXwmQ2QZFgPWAJd+wUq\n",
       "UISQWcAwk8eBgSUBKhB4JAAW1n828Bz/hBQIvscgoQMFAPxuNZ5Z5CayAAAAAElFTkSuQmCC\n",
       "\" style=\"display:inline;vertical-align:middle;\" /></a></span>"
      ],
      "text/plain": [
       "{r in RealNonZero} |- r in Real"
      ]
     },
     "metadata": {},
     "output_type": "display_data"
    }
   ],
   "source": [
    "InSet(r, Real).prove(assumptions=[InSet(r, RealNonZero)])"
   ]
  },
  {
   "cell_type": "code",
   "execution_count": 171,
   "metadata": {},
   "outputs": [
    {
     "data": {
      "text/html": [
       "<span style=\"font-size:20px;\"><a class=\"ProveItLink\" href=\"../__pv_it/demonstrations/12975aba11f8b68a8a57452eda3863c164b3b1e90/expr.ipynb\"><img src=\"data:image/png;base64,iVBORw0KGgoAAAANSUhEUgAAAD4AAAATBAMAAAA63aOfAAAAMFBMVEX///9UVFSqqqqIiIi6urru\n",
       "7u4iIiIyMjIQEBCYmJhmZmbc3NxERER2dnbMzMwAAAAssMphAAAAAXRSTlMAQObYZgAAAAlwSFlz\n",
       "AAAOxAAADsQBlSsOGwAAAM5JREFUKM9jYMADFjDgBwfIkeesOPM94yQe/TzcAiySR/HJX2A48JCB\n",
       "68yZnjMnccivZsfUb5OWVgCX58GQdzdF0i8aCJPnu8O9dgKQ5i5FMp/vUDVMnpdnLW8DkGbfgJBv\n",
       "z08OgIXfTvYErgsgeST33ZxaAOc95Z8Apl+kAcEBqPlHZyLc5Q82iiEG2X+veALg3GUQig1Znus1\n",
       "wmu5EIrZAEme9YAljMf9BcooQsgvYJjJ4wDlsSRAGYFHAmDx92cDz/FPGOHueyytAEMQAMwLQKHK\n",
       "tRXGAAAAAElFTkSuQmCC\n",
       "\" style=\"display:inline;vertical-align:middle;\" /></a> <a class=\"ProveItLink\" href=\"../__pv_it/demonstrations/d65af1126fe4739d2ab074937215605b63742fcf0/proof.ipynb\" style=\"text-decoration: none\">&nbsp;&#x22A2;&nbsp;&nbsp;</a><a class=\"ProveItLink\" href=\"../__pv_it/demonstrations/619064660bea43de10a0abd6495f8cdd14c3dac70/expr.ipynb\"><img src=\"data:image/png;base64,iVBORw0KGgoAAAANSUhEUgAAADIAAAAQBAMAAACmdTG/AAAAMFBMVEX///9UVFSqqqqIiIi6urru\n",
       "7u4iIiIyMjIQEBCYmJhmZmbc3NxERER2dnbMzMwAAAAssMphAAAAAXRSTlMAQObYZgAAAAlwSFlz\n",
       "AAAOxAAADsQBlSsOGwAAALxJREFUGNNjYEAHnBVnvmecZMAGeLgFWCSPYpe5wHDgIS6Z1ezIIjZp\n",
       "aQVwGR4kCXdTJD2igQwMfHe4104A8rlLkUzjO1TNwMDLs5a3Achn34CQac9PDmBg2MmewHUBJIPk\n",
       "gptTQRY+5Z8A5r9IA4IDUNOOzgQx/APAMjHIrn7FAxJcBuGzIctwvQbpzoXwmQ2QZFgPWAJd+wUq\n",
       "UISQWcAwk8eBgSUBKhB4JAAW1n828Bz/hBQIvscgoQMFAPxuNZ5Z5CayAAAAAElFTkSuQmCC\n",
       "\" style=\"display:inline;vertical-align:middle;\" /></a></span>"
      ],
      "text/plain": [
       "{r in RealPos} |- r in Real"
      ]
     },
     "metadata": {},
     "output_type": "display_data"
    }
   ],
   "source": [
    "InSet(r, Real).prove(assumptions=[InSet(r, RealPos)])"
   ]
  },
  {
   "cell_type": "code",
   "execution_count": 172,
   "metadata": {},
   "outputs": [
    {
     "data": {
      "text/html": [
       "<span style=\"font-size:20px;\"><a class=\"ProveItLink\" href=\"../__pv_it/demonstrations/12975aba11f8b68a8a57452eda3863c164b3b1e90/expr.ipynb\"><img src=\"data:image/png;base64,iVBORw0KGgoAAAANSUhEUgAAAD4AAAATBAMAAAA63aOfAAAAMFBMVEX///9UVFSqqqqIiIi6urru\n",
       "7u4iIiIyMjIQEBCYmJhmZmbc3NxERER2dnbMzMwAAAAssMphAAAAAXRSTlMAQObYZgAAAAlwSFlz\n",
       "AAAOxAAADsQBlSsOGwAAAM5JREFUKM9jYMADFjDgBwfIkeesOPM94yQe/TzcAiySR/HJX2A48JCB\n",
       "68yZnjMnccivZsfUb5OWVgCX58GQdzdF0i8aCJPnu8O9dgKQ5i5FMp/vUDVMnpdnLW8DkGbfgJBv\n",
       "z08OgIXfTvYErgsgeST33ZxaAOc95Z8Apl+kAcEBqPlHZyLc5Q82iiEG2X+veALg3GUQig1Znus1\n",
       "wmu5EIrZAEme9YAljMf9BcooQsgvYJjJ4wDlsSRAGYFHAmDx92cDz/FPGOHueyytAEMQAMwLQKHK\n",
       "tRXGAAAAAElFTkSuQmCC\n",
       "\" style=\"display:inline;vertical-align:middle;\" /></a> <a class=\"ProveItLink\" href=\"../__pv_it/demonstrations/98c5488f1334f876070e1e204be5abb341bb8a3d0/proof.ipynb\" style=\"text-decoration: none\">&nbsp;&#x22A2;&nbsp;&nbsp;</a><a class=\"ProveItLink\" href=\"../__pv_it/demonstrations/b5b9699cb86b6893f6e3a183e3782057b660119c0/expr.ipynb\"><img src=\"data:image/png;base64,iVBORw0KGgoAAAANSUhEUgAAAEcAAAAVCAMAAAAjKAPRAAAAOVBMVEX///82NjYbGxsSEhJUVFSq\n",
       "qqqIiIi6urru7u4iIiIyMjIQEBCYmJhmZmbc3NxERER2dnbMzMwAAABxNoPbAAAAAXRSTlMAQObY\n",
       "ZgAAAAlwSFlzAAAOxAAADsQBlSsOGwAAASVJREFUOMutVIlyxSAI5LUeiAfq/3/sU3M0h+alTZkJ\n",
       "GSayYRcQ4IEh/ItF3XxU8RFMENU7BaD5CY4I1dtUXA5/h9GNTchVJCvvZDiyzJmMZddiz9W+y+Mg\n",
       "NRzj7v2bmxhaOF5bpKbUCceq2zixvZJYWj5LO/HK8lc4PgDNvL5e3Hhd6qzYFKMezlzGWheo2nfR\n",
       "bQQp7NcjEOeMH53qHPoapVhO+bgqHggHvBJLmgjIjq4R2EeIdokpdPWxZLJZCqXOdDsgU6ivO0ID\n",
       "nZ3D5ZPU5yMJIW+nKFkzGx94MbrLcdN5KwjyqO/Jb+U9mze70Aznx6dwtdhmf30oNcIppaoxs5AP\n",
       "qpHs4fi6sA5YD+U5EkHBGs/7zmUemOnuKk1XC+/34rO9AQCfDVBVb1DTAAAAAElFTkSuQmCC\n",
       "\" style=\"display:inline;vertical-align:middle;\" /></a></span>"
      ],
      "text/plain": [
       "{r in RealPos} |- r in RealNonZero"
      ]
     },
     "metadata": {},
     "output_type": "display_data"
    }
   ],
   "source": [
    "InSet(r, RealNonZero).prove(assumptions=[InSet(r, RealPos)])"
   ]
  },
  {
   "cell_type": "code",
   "execution_count": 173,
   "metadata": {},
   "outputs": [
    {
     "data": {
      "text/html": [
       "<span style=\"font-size:20px;\"><a class=\"ProveItLink\" href=\"../__pv_it/demonstrations/12975aba11f8b68a8a57452eda3863c164b3b1e90/expr.ipynb\"><img src=\"data:image/png;base64,iVBORw0KGgoAAAANSUhEUgAAAD4AAAATBAMAAAA63aOfAAAAMFBMVEX///9UVFSqqqqIiIi6urru\n",
       "7u4iIiIyMjIQEBCYmJhmZmbc3NxERER2dnbMzMwAAAAssMphAAAAAXRSTlMAQObYZgAAAAlwSFlz\n",
       "AAAOxAAADsQBlSsOGwAAAM5JREFUKM9jYMADFjDgBwfIkeesOPM94yQe/TzcAiySR/HJX2A48JCB\n",
       "68yZnjMnccivZsfUb5OWVgCX58GQdzdF0i8aCJPnu8O9dgKQ5i5FMp/vUDVMnpdnLW8DkGbfgJBv\n",
       "z08OgIXfTvYErgsgeST33ZxaAOc95Z8Apl+kAcEBqPlHZyLc5Q82iiEG2X+veALg3GUQig1Znus1\n",
       "wmu5EIrZAEme9YAljMf9BcooQsgvYJjJ4wDlsSRAGYFHAmDx92cDz/FPGOHueyytAEMQAMwLQKHK\n",
       "tRXGAAAAAElFTkSuQmCC\n",
       "\" style=\"display:inline;vertical-align:middle;\" /></a> <a class=\"ProveItLink\" href=\"../__pv_it/demonstrations/12b1ec8933f6c2d7983867678304ba0cd58f8ca80/proof.ipynb\" style=\"text-decoration: none\">&nbsp;&#x22A2;&nbsp;&nbsp;</a><a class=\"ProveItLink\" href=\"../__pv_it/demonstrations/d577b5714234a04021074bfda1665bc7eb1a25870/expr.ipynb\"><img src=\"data:image/png;base64,iVBORw0KGgoAAAANSUhEUgAAAEgAAAAUBAMAAADcj2b4AAAAMFBMVEX///9UVFSqqqqIiIi6urru\n",
       "7u4iIiIyMjIQEBCYmJhmZmbc3NxERER2dnbMzMwAAAAssMphAAAAAXRSTlMAQObYZgAAAAlwSFlz\n",
       "AAAOxAAADsQBlSsOGwAAASBJREFUKM9jYMAJ3jiAqbu2DHgA6x0FIMlpwHIAnyoGmwkMDBwPGH7j\n",
       "VcQwx4BhfwBDExaZ6T3ny3omQNgzNrwPYMjEpv/ARgbHOQEgVuwRBqCiZqyK9jLw8AkAGbvkGEDW\n",
       "fcKhiGtDAQPDRqAadIczH0tLRyg6wBC4GixqwCKAUMNSHIAwiTFUgCEUwrtrFcDAd4d7Ldgr2wOQ\n",
       "rHujvgHZAbw8a3kbQIxqhJt2lH0zRXHlTvYErgsgRgGSw2eGg+LuDBBADHzKDwk3vra0tLQcqCKe\n",
       "yAmoHvaHuIX1AJJJfAuOoipaBqUTkMNp3R5URblQ2hhZUQwzin3cX6AMdgW4ol0MnBOOICtigVnD\n",
       "KuMKTwWnGc7UK2BNPCx3oNGCAQAgQFpplzn5ZQAAAABJRU5ErkJggg==\n",
       "\" style=\"display:inline;vertical-align:middle;\" /></a></span>"
      ],
      "text/plain": [
       "{r in RealPos} |- r in RealNonNeg"
      ]
     },
     "metadata": {},
     "output_type": "display_data"
    }
   ],
   "source": [
    "InSet(r, RealNonNeg).prove(assumptions=[InSet(r, RealPos)])"
   ]
  },
  {
   "cell_type": "code",
   "execution_count": 174,
   "metadata": {},
   "outputs": [
    {
     "data": {
      "text/html": [
       "<span style=\"font-size:20px;\"><a class=\"ProveItLink\" href=\"../__pv_it/demonstrations/e7301d9e4d52a1fb6e5d41fe6c519db248e025230/expr.ipynb\"><img src=\"data:image/png;base64,iVBORw0KGgoAAAANSUhEUgAAAD4AAAAQBAMAAAC8SdExAAAAMFBMVEX///9UVFSqqqqIiIi6urru\n",
       "7u4iIiIyMjIQEBCYmJhmZmbc3NxERER2dnbMzMwAAAAssMphAAAAAXRSTlMAQObYZgAAAAlwSFlz\n",
       "AAAOxAAADsQBlSsOGwAAAMRJREFUGNNjYEAHnBVnvmecZMANeLgFWCSP4pO/wHDgIQPfGSA4jUN+\n",
       "NTumuE1aWgFcngdD2t0USb9oIEyY7w732glAmrsUyXy+Q9UwHi/PWt4GIM2+ASHfnp8cAOPtZE/g\n",
       "ugCSR3LfzakFcN5T/glg+kUaEByAmn90JsJd/hCjYpD994oHbj7DMgjFhizP9foAnJsLoZgNkORZ\n",
       "D1jCeNxfoIwihPwChpk8DlAeSwKUEXgkABZ/fzbwHP+EEYC+x9IKMAQBX+A5p0Ls6+oAAAAASUVO\n",
       "RK5CYII=\n",
       "\" style=\"display:inline;vertical-align:middle;\" /></a> <a class=\"ProveItLink\" href=\"../__pv_it/demonstrations/8ff345c271ef0204a2b39fe0a8348b0b724948650/proof.ipynb\" style=\"text-decoration: none\">&nbsp;&#x22A2;&nbsp;&nbsp;</a><a class=\"ProveItLink\" href=\"../__pv_it/demonstrations/619064660bea43de10a0abd6495f8cdd14c3dac70/expr.ipynb\"><img src=\"data:image/png;base64,iVBORw0KGgoAAAANSUhEUgAAADIAAAAQBAMAAACmdTG/AAAAMFBMVEX///9UVFSqqqqIiIi6urru\n",
       "7u4iIiIyMjIQEBCYmJhmZmbc3NxERER2dnbMzMwAAAAssMphAAAAAXRSTlMAQObYZgAAAAlwSFlz\n",
       "AAAOxAAADsQBlSsOGwAAALxJREFUGNNjYEAHnBVnvmecZMAGeLgFWCSPYpe5wHDgIS6Z1ezIIjZp\n",
       "aQVwGR4kCXdTJD2igQwMfHe4104A8rlLkUzjO1TNwMDLs5a3Achn34CQac9PDmBg2MmewHUBJIPk\n",
       "gptTQRY+5Z8A5r9IA4IDUNOOzgQx/APAMjHIrn7FAxJcBuGzIctwvQbpzoXwmQ2QZFgPWAJd+wUq\n",
       "UISQWcAwk8eBgSUBKhB4JAAW1n828Bz/hBQIvscgoQMFAPxuNZ5Z5CayAAAAAElFTkSuQmCC\n",
       "\" style=\"display:inline;vertical-align:middle;\" /></a></span>"
      ],
      "text/plain": [
       "{r in RealNeg} |- r in Real"
      ]
     },
     "metadata": {},
     "output_type": "display_data"
    }
   ],
   "source": [
    "InSet(r, Real).prove(assumptions=[InSet(r, RealNeg)])"
   ]
  },
  {
   "cell_type": "code",
   "execution_count": 175,
   "metadata": {},
   "outputs": [
    {
     "data": {
      "text/html": [
       "<span style=\"font-size:20px;\"><a class=\"ProveItLink\" href=\"../__pv_it/demonstrations/e7301d9e4d52a1fb6e5d41fe6c519db248e025230/expr.ipynb\"><img src=\"data:image/png;base64,iVBORw0KGgoAAAANSUhEUgAAAD4AAAAQBAMAAAC8SdExAAAAMFBMVEX///9UVFSqqqqIiIi6urru\n",
       "7u4iIiIyMjIQEBCYmJhmZmbc3NxERER2dnbMzMwAAAAssMphAAAAAXRSTlMAQObYZgAAAAlwSFlz\n",
       "AAAOxAAADsQBlSsOGwAAAMRJREFUGNNjYEAHnBVnvmecZMANeLgFWCSP4pO/wHDgIQPfGSA4jUN+\n",
       "NTumuE1aWgFcngdD2t0USb9oIEyY7w732glAmrsUyXy+Q9UwHi/PWt4GIM2+ASHfnp8cAOPtZE/g\n",
       "ugCSR3LfzakFcN5T/glg+kUaEByAmn90JsJd/hCjYpD994oHbj7DMgjFhizP9foAnJsLoZgNkORZ\n",
       "D1jCeNxfoIwihPwChpk8DlAeSwKUEXgkABZ/fzbwHP+EEYC+x9IKMAQBX+A5p0Ls6+oAAAAASUVO\n",
       "RK5CYII=\n",
       "\" style=\"display:inline;vertical-align:middle;\" /></a> <a class=\"ProveItLink\" href=\"../__pv_it/demonstrations/d6c5c386d74895a847f3dd27a4c79fbdbfffec1e0/proof.ipynb\" style=\"text-decoration: none\">&nbsp;&#x22A2;&nbsp;&nbsp;</a><a class=\"ProveItLink\" href=\"../__pv_it/demonstrations/b5b9699cb86b6893f6e3a183e3782057b660119c0/expr.ipynb\"><img src=\"data:image/png;base64,iVBORw0KGgoAAAANSUhEUgAAAEcAAAAVCAMAAAAjKAPRAAAAOVBMVEX///82NjYbGxsSEhJUVFSq\n",
       "qqqIiIi6urru7u4iIiIyMjIQEBCYmJhmZmbc3NxERER2dnbMzMwAAABxNoPbAAAAAXRSTlMAQObY\n",
       "ZgAAAAlwSFlzAAAOxAAADsQBlSsOGwAAASVJREFUOMutVIlyxSAI5LUeiAfq/3/sU3M0h+alTZkJ\n",
       "GSayYRcQ4IEh/ItF3XxU8RFMENU7BaD5CY4I1dtUXA5/h9GNTchVJCvvZDiyzJmMZddiz9W+y+Mg\n",
       "NRzj7v2bmxhaOF5bpKbUCceq2zixvZJYWj5LO/HK8lc4PgDNvL5e3Hhd6qzYFKMezlzGWheo2nfR\n",
       "bQQp7NcjEOeMH53qHPoapVhO+bgqHggHvBJLmgjIjq4R2EeIdokpdPWxZLJZCqXOdDsgU6ivO0ID\n",
       "nZ3D5ZPU5yMJIW+nKFkzGx94MbrLcdN5KwjyqO/Jb+U9mze70Aznx6dwtdhmf30oNcIppaoxs5AP\n",
       "qpHs4fi6sA5YD+U5EkHBGs/7zmUemOnuKk1XC+/34rO9AQCfDVBVb1DTAAAAAElFTkSuQmCC\n",
       "\" style=\"display:inline;vertical-align:middle;\" /></a></span>"
      ],
      "text/plain": [
       "{r in RealNeg} |- r in RealNonZero"
      ]
     },
     "metadata": {},
     "output_type": "display_data"
    }
   ],
   "source": [
    "InSet(r, RealNonZero).prove(assumptions=[InSet(r, RealNeg)])"
   ]
  },
  {
   "cell_type": "code",
   "execution_count": 176,
   "metadata": {},
   "outputs": [
    {
     "data": {
      "text/html": [
       "<span style=\"font-size:20px;\"><a class=\"ProveItLink\" href=\"../__pv_it/demonstrations/e7301d9e4d52a1fb6e5d41fe6c519db248e025230/expr.ipynb\"><img src=\"data:image/png;base64,iVBORw0KGgoAAAANSUhEUgAAAD4AAAAQBAMAAAC8SdExAAAAMFBMVEX///9UVFSqqqqIiIi6urru\n",
       "7u4iIiIyMjIQEBCYmJhmZmbc3NxERER2dnbMzMwAAAAssMphAAAAAXRSTlMAQObYZgAAAAlwSFlz\n",
       "AAAOxAAADsQBlSsOGwAAAMRJREFUGNNjYEAHnBVnvmecZMANeLgFWCSP4pO/wHDgIQPfGSA4jUN+\n",
       "NTumuE1aWgFcngdD2t0USb9oIEyY7w732glAmrsUyXy+Q9UwHi/PWt4GIM2+ASHfnp8cAOPtZE/g\n",
       "ugCSR3LfzakFcN5T/glg+kUaEByAmn90JsJd/hCjYpD994oHbj7DMgjFhizP9foAnJsLoZgNkORZ\n",
       "D1jCeNxfoIwihPwChpk8DlAeSwKUEXgkABZ/fzbwHP+EEYC+x9IKMAQBX+A5p0Ls6+oAAAAASUVO\n",
       "RK5CYII=\n",
       "\" style=\"display:inline;vertical-align:middle;\" /></a> <a class=\"ProveItLink\" href=\"../__pv_it/demonstrations/45ce5a074dc5aa46dd1501dabbc6dea63ace9f1d0/proof.ipynb\" style=\"text-decoration: none\">&nbsp;&#x22A2;&nbsp;&nbsp;</a><a class=\"ProveItLink\" href=\"../__pv_it/demonstrations/879f0ab46be8c6e6ae960dd27ef7c6288d05b9cf0/expr.ipynb\"><img src=\"data:image/png;base64,iVBORw0KGgoAAAANSUhEUgAAAEgAAAAUBAMAAADcj2b4AAAAMFBMVEX///9UVFSqqqqIiIi6urru\n",
       "7u4iIiIyMjIQEBCYmJhmZmbc3NxERER2dnbMzMwAAAAssMphAAAAAXRSTlMAQObYZgAAAAlwSFlz\n",
       "AAAOxAAADsQBlSsOGwAAAR9JREFUKM9jYMALdDYw3LVlIKDGgIHTgOUAXjVzJjAwcDxg+I1PjY0C\n",
       "kNgfwNCERW56z/myHqAZL0BqGN4HMGRiM+HARgbHOQEMTGcDIIqasSray8DDJ8DAwAJSBbTuEw5F\n",
       "XBsKgAw+qQ3oDmc+lpaOUAT2N7dgALMBiwBCDUtxAMIkxlCIDDcDw12rAAa+O9xrJ4D42wOQrHuj\n",
       "vgHZAbw8a3kbQIxqhJt2lH0zRXHlTvYErgsgRgGSw2eGA6k3Z4AAYuBTfrBlDHxtaWlpOVBFPJET\n",
       "UD3sD3EL6wEkk/gWHEVVtAxKJyCH07o9qIpyobQxsqIYZhT7uL9AGewKcEW7GDgnHEFWxAKzhlXG\n",
       "FZ4KTjOcqVfAmnxY7kCjBQMAACk4WJrOe5mxAAAAAElFTkSuQmCC\n",
       "\" style=\"display:inline;vertical-align:middle;\" /></a></span>"
      ],
      "text/plain": [
       "{r in RealNeg} |- r in RealNonPos"
      ]
     },
     "metadata": {},
     "output_type": "display_data"
    }
   ],
   "source": [
    "InSet(r, RealNonPos).prove(assumptions=[InSet(r, RealNeg)])"
   ]
  },
  {
   "cell_type": "code",
   "execution_count": 177,
   "metadata": {},
   "outputs": [
    {
     "data": {
      "text/html": [
       "<span style=\"font-size:20px;\"><a class=\"ProveItLink\" href=\"../__pv_it/demonstrations/d577b5714234a04021074bfda1665bc7eb1a25870/expr.ipynb\"><img src=\"data:image/png;base64,iVBORw0KGgoAAAANSUhEUgAAAEgAAAAUBAMAAADcj2b4AAAAMFBMVEX///9UVFSqqqqIiIi6urru\n",
       "7u4iIiIyMjIQEBCYmJhmZmbc3NxERER2dnbMzMwAAAAssMphAAAAAXRSTlMAQObYZgAAAAlwSFlz\n",
       "AAAOxAAADsQBlSsOGwAAASBJREFUKM9jYMAJ3jiAqbu2DHgA6x0FIMlpwHIAnyoGmwkMDBwPGH7j\n",
       "VcQwx4BhfwBDExaZ6T3ny3omQNgzNrwPYMjEpv/ARgbHOQEgVuwRBqCiZqyK9jLw8AkAGbvkGEDW\n",
       "fcKhiGtDAQPDRqAadIczH0tLRyg6wBC4GixqwCKAUMNSHIAwiTFUgCEUwrtrFcDAd4d7Ldgr2wOQ\n",
       "rHujvgHZAbw8a3kbQIxqhJt2lH0zRXHlTvYErgsgRgGSw2eGg+LuDBBADHzKDwk3vra0tLQcqCKe\n",
       "yAmoHvaHuIX1AJJJfAuOoipaBqUTkMNp3R5URblQ2hhZUQwzin3cX6AMdgW4ol0MnBOOICtigVnD\n",
       "KuMKTwWnGc7UK2BNPCx3oNGCAQAgQFpplzn5ZQAAAABJRU5ErkJggg==\n",
       "\" style=\"display:inline;vertical-align:middle;\" /></a> <a class=\"ProveItLink\" href=\"../__pv_it/demonstrations/a847fee7927ab22451246d268844ddd90fad46bd0/proof.ipynb\" style=\"text-decoration: none\">&nbsp;&#x22A2;&nbsp;&nbsp;</a><a class=\"ProveItLink\" href=\"../__pv_it/demonstrations/619064660bea43de10a0abd6495f8cdd14c3dac70/expr.ipynb\"><img src=\"data:image/png;base64,iVBORw0KGgoAAAANSUhEUgAAADIAAAAQBAMAAACmdTG/AAAAMFBMVEX///9UVFSqqqqIiIi6urru\n",
       "7u4iIiIyMjIQEBCYmJhmZmbc3NxERER2dnbMzMwAAAAssMphAAAAAXRSTlMAQObYZgAAAAlwSFlz\n",
       "AAAOxAAADsQBlSsOGwAAALxJREFUGNNjYEAHnBVnvmecZMAGeLgFWCSPYpe5wHDgIS6Z1ezIIjZp\n",
       "aQVwGR4kCXdTJD2igQwMfHe4104A8rlLkUzjO1TNwMDLs5a3Achn34CQac9PDmBg2MmewHUBJIPk\n",
       "gptTQRY+5Z8A5r9IA4IDUNOOzgQx/APAMjHIrn7FAxJcBuGzIctwvQbpzoXwmQ2QZFgPWAJd+wUq\n",
       "UISQWcAwk8eBgSUBKhB4JAAW1n828Bz/hBQIvscgoQMFAPxuNZ5Z5CayAAAAAElFTkSuQmCC\n",
       "\" style=\"display:inline;vertical-align:middle;\" /></a></span>"
      ],
      "text/plain": [
       "{r in RealNonNeg} |- r in Real"
      ]
     },
     "metadata": {},
     "output_type": "display_data"
    }
   ],
   "source": [
    "InSet(r, Real).prove(assumptions=[InSet(r, RealNonNeg)])"
   ]
  },
  {
   "cell_type": "code",
   "execution_count": 178,
   "metadata": {},
   "outputs": [
    {
     "data": {
      "text/html": [
       "<span style=\"font-size:20px;\"><a class=\"ProveItLink\" href=\"../__pv_it/demonstrations/879f0ab46be8c6e6ae960dd27ef7c6288d05b9cf0/expr.ipynb\"><img src=\"data:image/png;base64,iVBORw0KGgoAAAANSUhEUgAAAEgAAAAUBAMAAADcj2b4AAAAMFBMVEX///9UVFSqqqqIiIi6urru\n",
       "7u4iIiIyMjIQEBCYmJhmZmbc3NxERER2dnbMzMwAAAAssMphAAAAAXRSTlMAQObYZgAAAAlwSFlz\n",
       "AAAOxAAADsQBlSsOGwAAAR9JREFUKM9jYMALdDYw3LVlIKDGgIHTgOUAXjVzJjAwcDxg+I1PjY0C\n",
       "kNgfwNCERW56z/myHqAZL0BqGN4HMGRiM+HARgbHOQEMTGcDIIqasSray8DDJ8DAwAJSBbTuEw5F\n",
       "XBsKgAw+qQ3oDmc+lpaOUAT2N7dgALMBiwBCDUtxAMIkxlCIDDcDw12rAAa+O9xrJ4D42wOQrHuj\n",
       "vgHZAbw8a3kbQIxqhJt2lH0zRXHlTvYErgsgRgGSw2eGA6k3Z4AAYuBTfrBlDHxtaWlpOVBFPJET\n",
       "UD3sD3EL6wEkk/gWHEVVtAxKJyCH07o9qIpyobQxsqIYZhT7uL9AGewKcEW7GDgnHEFWxAKzhlXG\n",
       "FZ4KTjOcqVfAmnxY7kCjBQMAACk4WJrOe5mxAAAAAElFTkSuQmCC\n",
       "\" style=\"display:inline;vertical-align:middle;\" /></a> <a class=\"ProveItLink\" href=\"../__pv_it/demonstrations/8181c77e39aedea5caaa664c7394986fa3bebbb80/proof.ipynb\" style=\"text-decoration: none\">&nbsp;&#x22A2;&nbsp;&nbsp;</a><a class=\"ProveItLink\" href=\"../__pv_it/demonstrations/619064660bea43de10a0abd6495f8cdd14c3dac70/expr.ipynb\"><img src=\"data:image/png;base64,iVBORw0KGgoAAAANSUhEUgAAADIAAAAQBAMAAACmdTG/AAAAMFBMVEX///9UVFSqqqqIiIi6urru\n",
       "7u4iIiIyMjIQEBCYmJhmZmbc3NxERER2dnbMzMwAAAAssMphAAAAAXRSTlMAQObYZgAAAAlwSFlz\n",
       "AAAOxAAADsQBlSsOGwAAALxJREFUGNNjYEAHnBVnvmecZMAGeLgFWCSPYpe5wHDgIS6Z1ezIIjZp\n",
       "aQVwGR4kCXdTJD2igQwMfHe4104A8rlLkUzjO1TNwMDLs5a3Achn34CQac9PDmBg2MmewHUBJIPk\n",
       "gptTQRY+5Z8A5r9IA4IDUNOOzgQx/APAMjHIrn7FAxJcBuGzIctwvQbpzoXwmQ2QZFgPWAJd+wUq\n",
       "UISQWcAwk8eBgSUBKhB4JAAW1n828Bz/hBQIvscgoQMFAPxuNZ5Z5CayAAAAAElFTkSuQmCC\n",
       "\" style=\"display:inline;vertical-align:middle;\" /></a></span>"
      ],
      "text/plain": [
       "{r in RealNonPos} |- r in Real"
      ]
     },
     "metadata": {},
     "output_type": "display_data"
    }
   ],
   "source": [
    "InSet(r, Real).prove(assumptions=[InSet(r, RealNonPos)])"
   ]
  },
  {
   "cell_type": "code",
   "execution_count": 179,
   "metadata": {},
   "outputs": [],
   "source": [
    "%end demonstrations"
   ]
  },
  {
   "cell_type": "code",
   "execution_count": null,
   "metadata": {},
   "outputs": [],
   "source": []
  }
 ],
 "metadata": {
  "kernelspec": {
   "display_name": "Python 3",
   "language": "python",
   "name": "python3"
  },
  "language_info": {
   "codemirror_mode": {
    "name": "ipython",
    "version": 3
   },
   "file_extension": ".py",
   "mimetype": "text/x-python",
   "name": "python",
   "nbconvert_exporter": "python",
   "pygments_lexer": "ipython3",
   "version": "3.7.3"
  }
 },
 "nbformat": 4,
 "nbformat_minor": 1
}
