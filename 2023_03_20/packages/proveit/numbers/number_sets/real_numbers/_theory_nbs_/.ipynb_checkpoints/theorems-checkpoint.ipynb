{
 "cells": [
  {
   "cell_type": "markdown",
   "metadata": {},
   "source": [
    "Theorems (or conjectures) for the theory of <a class=\"ProveItLink\" href=\"theory.ipynb\">proveit.numbers.number_sets.real_numbers</a>\n",
    "========"
   ]
  },
  {
   "cell_type": "code",
   "execution_count": 1,
   "metadata": {},
   "outputs": [],
   "source": [
    "import proveit\n",
    "# Prepare this notebook for defining the theorems of a theory:\n",
    "%theorems_notebook # Keep this at the top following 'import proveit'.\n",
    "from proveit import a, b, c, n, x, y\n",
    "from proveit.logic import (Implies, Forall, Iff, in_bool, InSet, \n",
    "                           Equals, NotEquals, NotInSet, Or, Set, ProperSubset)\n",
    "from proveit.numbers import (num, Add, subtract, greater, greater_eq, Interval,\n",
    "                             IntervalCC, IntervalCO, IntervalOC, IntervalOO,\n",
    "                             Less, LessEq, Mult, Neg, number_ordering, sqrt)\n",
    "from proveit.numbers import (\n",
    "    zero, one, two, e, pi, ZeroSet, Complex, \n",
    "    Integer, Natural, NaturalPos, IntegerNeg, IntegerNonPos, IntegerNonZero,\n",
    "    Rational, RationalNonZero, RationalPos, RationalNeg, RationalNonNeg, RationalNonPos, \n",
    "    Real, RealNonNeg, RealPos, RealNeg, RealNonPos, RealNonZero)\n"
   ]
  },
  {
   "cell_type": "code",
   "execution_count": 2,
   "metadata": {},
   "outputs": [
    {
     "name": "stdout",
     "output_type": "stream",
     "text": [
      "Defining theorems for theory 'proveit.numbers.number_sets.real_numbers'\n",
      "Subsequent end-of-cell assignments will define theorems\n",
      "'%end theorems' will finalize the definitions\n"
     ]
    }
   ],
   "source": [
    "%begin theorems"
   ]
  },
  {
   "cell_type": "code",
   "execution_count": 3,
   "metadata": {},
   "outputs": [
    {
     "data": {
      "text/html": [
       "<strong id=\"zero_is_real\"><a class=\"ProveItLink\" href=\"proofs/zero_is_real/thm_proof.ipynb\">zero_is_real</a> (conjecture without proof):<br></strong> <a class=\"ProveItLink\" href=\"../__pv_it/theorems/4ede7332e1a35dc94f8b72c11e2b13f6b0a2dc240/theorem_expr.ipynb\"><img src=\"data:image/png;base64,iVBORw0KGgoAAAANSUhEUgAAADMAAAAQBAMAAABJt1qBAAAAMFBMVEX///8AAAAAAAAAAAAAAAAA\n",
       "AAAAAAAAAAAAAAAAAAAAAAAAAAAAAAAAAAAAAAAAAAAv3aB7AAAAD3RSTlMAiXaZIs1UEN1mu6sy\n",
       "RO+L2jdBAAAACXBIWXMAAA7EAAAOxAGVKw4bAAAA6ElEQVQY02NgwABTX62PeDUBxGIUMkGTW+DN\n",
       "cHtWAZARxlDhgCblyMDFs4GBgbOBgXEBhhSzQwADA9cGBrbvYBGmFR2tCCmgcn4DBp5vIAHeoAKE\n",
       "Lu5yoIH1QKmfIAHXAiQDT6UC7fcXYOD5BBIIQdjlF/FDnQEi9REkEIDkjJmlILpegIEXpIvnRUdH\n",
       "RxdUiqsS5GWgM9hAzmBfgKSLx2A5kOZawMAJdnwDsr9svIA05wMGZrA1SshSVUwgE9sY6g6ABFgT\n",
       "4FLODJwT1gIZxUJ7wALsu67DQ34Jw6r4BKSg45WCBhQUAAA+Fj/eKd5rbgAAAABJRU5ErkJggg==\n",
       "\" style=\"display:inline;vertical-align:middle;\" /></a><br>"
      ],
      "text/plain": [
       "<IPython.core.display.HTML object>"
      ]
     },
     "metadata": {},
     "output_type": "display_data"
    }
   ],
   "source": [
    "zero_is_real = InSet(zero, Real)"
   ]
  },
  {
   "cell_type": "code",
   "execution_count": 4,
   "metadata": {},
   "outputs": [
    {
     "data": {
      "text/html": [
       "<strong id=\"zero_is_nonneg_real\"><a class=\"ProveItLink\" href=\"proofs/zero_is_nonneg_real/thm_proof.ipynb\">zero_is_nonneg_real</a> (conjecture without proof):<br></strong> <a class=\"ProveItLink\" href=\"../__pv_it/theorems/d22d572736e93c9a40dbd3a37ca207f9e003e7ee0/theorem_expr.ipynb\"><img src=\"data:image/png;base64,iVBORw0KGgoAAAANSUhEUgAAAEgAAAAUBAMAAADcj2b4AAAAMFBMVEX///8AAAAAAAAAAAAAAAAA\n",
       "AAAAAAAAAAAAAAAAAAAAAAAAAAAAAAAAAAAAAAAAAAAv3aB7AAAAD3RSTlMAiXaZIs1UEN1mu6sy\n",
       "RO+L2jdBAAAACXBIWXMAAA7EAAAOxAGVKw4bAAABR0lEQVQoz2NgwAlOXQBTgooMeAC7VAKQ5FTg\n",
       "XYBPFYPWBAYGvgMMX/AqYpilwOBfwPAMi8zUV+sjXk2AsOc5nC9g6GRgYBQyQVO1wJvh9qwCEKtw\n",
       "LQNQ0SMGhjCGCgc0RY4MXDwbgAznPQwg674xcDYwMC7AUMTsEMDA4A1UA3E41wYGtu9gOaYVHa0I\n",
       "RQsYqsHOYFLg3cDAb8DA8w3E4w0qQJjEXb6BoRzCE1QuYKgHKvoJ4rgWIFl3KhXFnf4CDDyfQIwQ\n",
       "hJv8In6oM6Ar+ghiBCA5fGYpKO5WAQHEwHoBBl6QSTwvOjo6uqCKuConoJgEdDgbyOHsC5BM4jFY\n",
       "jqKIawEDJzgIGpDDycYLRRHnAwZmsHOUkBVVMaHa18ZQdwBEsybAFTkzcE5Yi6KoWGgPJI3tug5P\n",
       "BUsYVsUnYE08vFLQaMEAAIGcWZm8yehgAAAAAElFTkSuQmCC\n",
       "\" style=\"display:inline;vertical-align:middle;\" /></a><br>"
      ],
      "text/plain": [
       "<IPython.core.display.HTML object>"
      ]
     },
     "metadata": {},
     "output_type": "display_data"
    }
   ],
   "source": [
    "zero_is_nonneg_real = InSet(zero, RealNonNeg)"
   ]
  },
  {
   "cell_type": "code",
   "execution_count": 5,
   "metadata": {},
   "outputs": [
    {
     "data": {
      "text/html": [
       "<strong id=\"zero_is_nonpos_real\"><a class=\"ProveItLink\" href=\"proofs/zero_is_nonpos_real/thm_proof.ipynb\">zero_is_nonpos_real</a> (conjecture without proof):<br></strong> <a class=\"ProveItLink\" href=\"../__pv_it/theorems/0582614e90b3cda5ebab8949d44ed579f8c0198a0/theorem_expr.ipynb\"><img src=\"data:image/png;base64,iVBORw0KGgoAAAANSUhEUgAAAEgAAAAUBAMAAADcj2b4AAAAMFBMVEX///8AAAAAAAAAAAAAAAAA\n",
       "AAAAAAAAAAAAAAAAAAAAAAAAAAAAAAAAAAAAAAAAAAAv3aB7AAAAD3RSTlMAiXaZIs1UEN1mu6sy\n",
       "RO+L2jdBAAAACXBIWXMAAA7EAAAOxAGVKw4bAAABRUlEQVQoz2NgwAuyHBgEFRkIqFFg4FTgXYBX\n",
       "zawJDAx8Bxi+4FOjlQAk/AsYnmGRm/pqfcQroBnnQGoYzhcwdDIwMAqZoKla4M1we1YBA9vCAoii\n",
       "RwwMYQwVDmiKHBm4eDYwMPCCVAGt+8bA2cDAuABDEbNDAJDBs9kB4nCuDQxs38FyTCs6WhGKwBpZ\n",
       "dhcwKfBuYOA3YOD5BhLgDSpAmMRdvgHMZGFgEFQuYKgHKvoJ4rsWIFl3KhXFnf4CDDyfQIwQhJv8\n",
       "In6oM6Ar+ghiBCA5fGYpkDq1CgggBtYLMPCCTOJ50dHR0QVVxFU5AcUkoMPZQA5nX4BkEo/BchRF\n",
       "XAsYOMFB0IAcTjZeKIo4HzAwg52jhKyoignVvjaGugMgmjUBrsiZgXPCWhRFxUJ7wDT7ruvwVLCE\n",
       "YVV8AtbkwysFjRYMAACV0VlfTKrb4AAAAABJRU5ErkJggg==\n",
       "\" style=\"display:inline;vertical-align:middle;\" /></a><br>"
      ],
      "text/plain": [
       "<IPython.core.display.HTML object>"
      ]
     },
     "metadata": {},
     "output_type": "display_data"
    }
   ],
   "source": [
    "zero_is_nonpos_real = InSet(zero, RealNonPos)"
   ]
  },
  {
   "cell_type": "code",
   "execution_count": 6,
   "metadata": {},
   "outputs": [
    {
     "data": {
      "text/html": [
       "<strong id=\"zero_set_within_real\"><a class=\"ProveItLink\" href=\"proofs/zero_set_within_real/thm_proof.ipynb\">zero_set_within_real</a> (conjecture without proof):<br></strong> <a class=\"ProveItLink\" href=\"../__pv_it/theorems/87990d0e278f8946923a5e7642f39edd5971346b0/theorem_expr.ipynb\"><img src=\"data:image/png;base64,iVBORw0KGgoAAAANSUhEUgAAAEkAAAAVBAMAAAD4Ed5jAAAAMFBMVEX///8AAAAAAAAAAAAAAAAA\n",
       "AAAAAAAAAAAAAAAAAAAAAAAAAAAAAAAAAAAAAAAAAAAv3aB7AAAAD3RSTlMAEER2zVSJ3Zki72ar\n",
       "MruaaVGaAAAACXBIWXMAAA7EAAAOxAGVKw4bAAABTElEQVQoz2NgYGBUYgCDqRMY8AATRQjNe04A\n",
       "XWrLuvfu6zaAWKwfgUSaBdAgvgMYJjyYw6CzD6SZrYCBgSWAsRLCQlc1jYGP9wBU1XYGhjxcqjgm\n",
       "OEBVvWFgiBdAqGJ+Xl5efgGu6gFU1Q8GhvsBcFW8bhOQzOIRhNrICFK1Aa5KfAKyjfdCQFwOBwbO\n",
       "b0BVBgzMCyBSh5DcNcv9uyGIMWsDRFUCA+dXiJQDsut3i4DoOU7A0Aeq0jdgYJBxBTvrALIqPmlQ\n",
       "qPL2CYBdHx/AwJCiAJLhRFHF2/AQxACF+DsGhv0CkFgAggKU8OqdxwANiV0MDC1AFtT13Siq5Jg3\n",
       "QFWxBzCuRYQ9iwJC1QwG7g2PoKoY22wuIFQxvlFEpImXDO/8A5BjD85iyoPFEAOGHLbYhgNYiINj\n",
       "ASeAhTgDg9QGPCl6xlEIPe0oTiUAI/NnSLgqFgcAAAAASUVORK5CYII=\n",
       "\" style=\"display:inline;vertical-align:middle;\" /></a><br>"
      ],
      "text/plain": [
       "<IPython.core.display.HTML object>"
      ]
     },
     "metadata": {},
     "output_type": "display_data"
    }
   ],
   "source": [
    "zero_set_within_real = ProperSubset(ZeroSet, Real)"
   ]
  },
  {
   "cell_type": "code",
   "execution_count": 7,
   "metadata": {},
   "outputs": [
    {
     "data": {
      "text/html": [
       "<strong id=\"zero_set_within_real_nonneg\"><a class=\"ProveItLink\" href=\"proofs/zero_set_within_real_nonneg/thm_proof.ipynb\">zero_set_within_real_nonneg</a> (conjecture without proof):<br></strong> <a class=\"ProveItLink\" href=\"../__pv_it/theorems/789a0b333359710afc8b17bc6c8a1136864de2ce0/theorem_expr.ipynb\"><img src=\"data:image/png;base64,iVBORw0KGgoAAAANSUhEUgAAAF0AAAAYBAMAAABqyuwvAAAAMFBMVEX///8AAAAAAAAAAAAAAAAA\n",
       "AAAAAAAAAAAAAAAAAAAAAAAAAAAAAAAAAAAAAAAAAAAv3aB7AAAAD3RSTlMAEER2zVSJ3Zki72ar\n",
       "MruaaVGaAAAACXBIWXMAAA7EAAAOxAGVKw4bAAABp0lEQVQ4y2NgIALwPgJTbMkJDMQBsacgcjOD\n",
       "HpHqGZhfA4m1DPwTgBSjEkRs6gQ8GrgfM3B+ZOAKADJNFKGuPCeArsjr3Zeq11D2St6PDOwbGBhY\n",
       "PwJ5aRZAw/kOoJvKx3mA6fRDEIsxTwGonssA6OsCBgaWAMZKCAtdfQLDgztABmfPBZB7+AMgqrYz\n",
       "MOThUt/JAlR+5gLcvyBVbxgY4gUQ6pmfl5eXX4Cp52NgPAEOCmMGHQaI+h8MDPcD4Op53SYgmX9Q\n",
       "hoFRABpfjRD1jCD1G+DqxScguYf3qSeqGzkcGDi/AdUbMDAvgIgcQnL/kvpitFCetQGiPoGB8ytE\n",
       "xAFJffZGII/3HRC8hAjNcQIGLlC9PjBoZVzBzj+AHD4Pd6OlvT4BsH/jgUGbogAS4URRf4MPzT2g\n",
       "WH3HwLBfABLTQFCArJ7j5gNU9aBQ2cXA0AJkQf3bjaye8YE1pnr2AMa1iPhlUUCob2DYzaeAoZ6x\n",
       "zeYCQj3jG0V4+vw3ge/JVwz1aCymPGh6wAawqMef1RYgxTQRgBPuPKkNROXlGUch9LSjRCgGAOpe\n",
       "dA4TMJ/5AAAAAElFTkSuQmCC\n",
       "\" style=\"display:inline;vertical-align:middle;\" /></a><br>"
      ],
      "text/plain": [
       "<IPython.core.display.HTML object>"
      ]
     },
     "metadata": {},
     "output_type": "display_data"
    }
   ],
   "source": [
    "zero_set_within_real_nonneg = ProperSubset(ZeroSet, RealNonNeg)"
   ]
  },
  {
   "cell_type": "code",
   "execution_count": 8,
   "metadata": {},
   "outputs": [
    {
     "data": {
      "text/html": [
       "<strong id=\"zero_set_within_real_nonpos\"><a class=\"ProveItLink\" href=\"proofs/zero_set_within_real_nonpos/thm_proof.ipynb\">zero_set_within_real_nonpos</a> (conjecture without proof):<br></strong> <a class=\"ProveItLink\" href=\"../__pv_it/theorems/9a6686429c996c6be3f34a9287216751bf3742aa0/theorem_expr.ipynb\"><img src=\"data:image/png;base64,iVBORw0KGgoAAAANSUhEUgAAAF0AAAAYBAMAAABqyuwvAAAAMFBMVEX///8AAAAAAAAAAAAAAAAA\n",
       "AAAAAAAAAAAAAAAAAAAAAAAAAAAAAAAAAAAAAAAAAAAv3aB7AAAAD3RSTlMAEER2zVSJ3Zki72ar\n",
       "MruaaVGaAAAACXBIWXMAAA7EAAAOxAGVKw4bAAABpUlEQVQ4y2NgIBKwvmRgS05gIFr5YwaGzQx6\n",
       "xCrnfg0k1jLwTwBSjEoQsakTcCpnfgokOD8ycAUAaRNFiCDvOQF0U73efakCmsy7FCz/kYF9A9Bl\n",
       "H4HsNAug4XwH0M3l4zzAdPohA0NcIkQ9lwEDA1sBAwNLAGMlhIWuPoHhwR0gQy8R7B7+AIiq7QwM\n",
       "ebjUd7KAWHc6Yf4FqXrDwBAvgFDP/Ly8vPwCTD0fWGzOQQZjBh0GiPofDAz3A+Dqed0mIJl/UAbC\n",
       "ngCMr0aIekaQ+g1w9eITkNzD+9QT1Y0cDgyc34DqDRiYF0BEDiG5f0l9MVooz9oAUZ/AwPkVIuKA\n",
       "pD57I5DH+w4IXkKE5jgBYxioXh8YtDKuYOcfQA6fh7tRjeftEwD7Nx4YtCkKIBFOFPU3+NDcA4rV\n",
       "dwwM+wUgMQ0EBcjqOW4+QFUPCpVdDAwtQBbUv93I6hkfWGOqZw9gXIuIXxYFhPoGht18ChjqGdts\n",
       "LiDUM75RhKfPfxP4nnzFUI/GYsqDpgdsAIt6vAAWq+CYJgJwwp0ntYGovDzjKISedpQIxQAhCnOX\n",
       "TfJnFQAAAABJRU5ErkJggg==\n",
       "\" style=\"display:inline;vertical-align:middle;\" /></a><br>"
      ],
      "text/plain": [
       "<IPython.core.display.HTML object>"
      ]
     },
     "metadata": {},
     "output_type": "display_data"
    }
   ],
   "source": [
    "zero_set_within_real_nonpos = ProperSubset(ZeroSet, RealNonPos)"
   ]
  },
  {
   "cell_type": "code",
   "execution_count": 9,
   "metadata": {},
   "outputs": [
    {
     "data": {
      "text/html": [
       "<strong id=\"int_within_real\"><a class=\"ProveItLink\" href=\"proofs/int_within_real/thm_proof.ipynb\">int_within_real</a> (conjecture without proof):<br></strong> <a class=\"ProveItLink\" href=\"../__pv_it/theorems/75842bda69ce9526a35ee51d5a1c73b8e755d9180/theorem_expr.ipynb\"><img src=\"data:image/png;base64,iVBORw0KGgoAAAANSUhEUgAAADkAAAAQBAMAAABelcpIAAAAMFBMVEX///+6urru7u7c3Nx2dnZm\n",
       "ZmbMzMxUVFSIiIiYmJgiIiJEREQQEBAyMjKqqqoAAAB4Cw+YAAAAAXRSTlMAQObYZgAAAAlwSFlz\n",
       "AAAOxAAADsQBlSsOGwAAAPdJREFUGNNj4Lvz5/aqPRMYUMDc0/tvnQaJcWxPYLjAy4AGNpgziM9W\n",
       "YGBgDWDgmOCHIWvCwM1WwMDAbsCgzbQBiyyrwQUGBiYGhjD2BIgYx65Vq1YlwGXBetgKUiGSbFcM\n",
       "kPSyKxWAWNwKmyBCWgbIJme/BXOfcDZAhAqR7LW59asJzIL75wKyq2bqQpzywJGBQQFsP7IstyY4\n",
       "hLSZgW4rBjKYUWTZAsCuKQP6mOkDiLUAxb9h1iDzAkSBQQKWiESR1eaYAPLPJQbmfWCP8wogZE0Z\n",
       "OCdsZGCQ2Xt69/nTDiAhpu1CiDjazLD7/gOU0GX0hoUkFAAAgENHIzesBvIAAAAASUVORK5CYII=\n",
       "\" style=\"display:inline;vertical-align:middle;\" /></a><br>"
      ],
      "text/plain": [
       "<IPython.core.display.HTML object>"
      ]
     },
     "metadata": {},
     "output_type": "display_data"
    }
   ],
   "source": [
    "int_within_real = ProperSubset(Integer, Real)"
   ]
  },
  {
   "cell_type": "code",
   "execution_count": 10,
   "metadata": {},
   "outputs": [
    {
     "data": {
      "text/html": [
       "<strong id=\"nat_within_real\"><a class=\"ProveItLink\" href=\"proofs/nat_within_real/thm_proof.ipynb\">nat_within_real</a> (conjecture without proof):<br></strong> <a class=\"ProveItLink\" href=\"../__pv_it/theorems/3dc293c38b018909b28a359667e116d8e48de5d70/theorem_expr.ipynb\"><img src=\"data:image/png;base64,iVBORw0KGgoAAAANSUhEUgAAADoAAAAQBAMAAAC1onFLAAAAMFBMVEX///9mZmbMzMyIiIiYmJjc\n",
       "3NxUVFSqqqq6uroQEBB2dnYyMjJEREQiIiLu7u4AAAAPqInnAAAAAXRSTlMAQObYZgAAAAlwSFlz\n",
       "AAAOxAAADsQBlSsOGwAAAO9JREFUGNNjePvn9AOGlT8bGJABy84zv28eAbGOcyQw8H1gQAU8rAkc\n",
       "KeeAjNyAJQwMEzBkFzAcUAMy0g9wBzBcwCIryg1kpDqzboDJ2ty9e/cSXJYHJMumYAWV1V6KrDfv\n",
       "GUiW4QBPA1iW7yqyyUzHt4JlFfnugWXZGpBkZ9+//AAsy1JQA3YzN7KrlvhtYADLMuSxgWXVUNx8\n",
       "zgUq+4wPbHIYiqwiD8RkBiaDAyAhXhRZRlWQ4CEgNgLLMjogy/IdMAEytoPEwS5g2IEkK8DgwtPA\n",
       "oP0TqI8PIvsm4wE8jv4E8Jz+jhq8XWehIQkFAIeMTUSJJ0RmAAAAAElFTkSuQmCC\n",
       "\" style=\"display:inline;vertical-align:middle;\" /></a><br>"
      ],
      "text/plain": [
       "<IPython.core.display.HTML object>"
      ]
     },
     "metadata": {},
     "output_type": "display_data"
    }
   ],
   "source": [
    "nat_within_real = ProperSubset(Natural, Real)"
   ]
  },
  {
   "cell_type": "code",
   "execution_count": 11,
   "metadata": {},
   "outputs": [
    {
     "data": {
      "text/html": [
       "<strong id=\"nat_pos_within_real\"><a class=\"ProveItLink\" href=\"proofs/nat_pos_within_real/thm_proof.ipynb\">nat_pos_within_real</a> (conjecture without proof):<br></strong> <a class=\"ProveItLink\" href=\"../__pv_it/theorems/734e37849a704aa92355a8d4c14a74e10e66aec20/theorem_expr.ipynb\"><img src=\"data:image/png;base64,iVBORw0KGgoAAAANSUhEUgAAAEcAAAATBAMAAAAwgQ3NAAAAMFBMVEX///9mZmbMzMyIiIiYmJjc\n",
       "3NxUVFSqqqq6uroQEBB2dnYyMjJEREQiIiLu7u4AAAAPqInnAAAAAXRSTlMAQObYZgAAAAlwSFlz\n",
       "AAAOxAAADsQBlSsOGwAAAQ1JREFUKM9jYIADRgYiAA+Fit7+Of2AYeXPBmyKvOec3zvHAcQ6zpHA\n",
       "wPcBu0kHwhjafB4AGbkBSxgYJjDInDl55owDuqIoBh6mBCAj/QB3AMMFHCZFMTAGbAAyUp1ZN6Ap\n",
       "srl79+4luKIDIEVsClaoirSXIpnE9g5kXSrDAZ4GZEV8V5Gt06kOACtS5Lt3ASnE2RoQiiL3/rVj\n",
       "ACtiKaiZgORabmSHu7xmgChiyGNDVqSGrIjniQNU0TO+C0iKwpAVMQmcgypiMjiApIgXJZyEYkCM\n",
       "Q0BshKyI0QFZ0RtmEHc7SHwDcjjvQCgKZGBxOAEMuZ9AU/hQFL3JeABPBUcZzuwvwJp8us5CowUK\n",
       "ALoCVwsjgY6NAAAAAElFTkSuQmCC\n",
       "\" style=\"display:inline;vertical-align:middle;\" /></a><br>"
      ],
      "text/plain": [
       "<IPython.core.display.HTML object>"
      ]
     },
     "metadata": {},
     "output_type": "display_data"
    }
   ],
   "source": [
    "nat_pos_within_real = ProperSubset(NaturalPos, Real)"
   ]
  },
  {
   "cell_type": "code",
   "execution_count": 12,
   "metadata": {},
   "outputs": [
    {
     "data": {
      "text/html": [
       "<strong id=\"nat_pos_within_real_pos\"><a class=\"ProveItLink\" href=\"proofs/nat_pos_within_real_pos/thm_proof.ipynb\">nat_pos_within_real_pos</a> (conjecture without proof):<br></strong> <a class=\"ProveItLink\" href=\"../__pv_it/theorems/7305f538d7e920cf7e8444f1b409ff11feebf2b90/theorem_expr.ipynb\"><img src=\"data:image/png;base64,iVBORw0KGgoAAAANSUhEUgAAAFQAAAATBAMAAAD8GDcmAAAAMFBMVEX///9mZmbMzMyIiIiYmJjc\n",
       "3NxUVFSqqqq6uroQEBB2dnYyMjJEREQiIiLu7u4AAAAPqInnAAAAAXRSTlMAQObYZgAAAAlwSFlz\n",
       "AAAOxAAADsQBlSsOGwAAARxJREFUKM9jYIADRgY8QACFx4NP6QHSlL79c/oBw8qfDdiUsuw88/vm\n",
       "EYSpxzkSGPg+YDeVhzWBI+UcXGluwBIGhgkMMmdOnjnjgKF0AcMBNQbGM2fmnAGann6AO4DhAi5T\n",
       "FzCIcsNNTXVm3YCm1Obu3buX4Ep5EErZFKxQlWovRTY17xlCKcMBngZkpXxXkR3AdHwrklJFvnsX\n",
       "kGKLrQFJ6ez7lx/AYyuVgaWgZgKSX7iRvbXEbwOCm8rAkMeGrFQNJQTOuaAofcZ3AUlpGIpSRZ4H\n",
       "yEqZDJBTAy+KUkZVhNwhIDZCVsrogKyU74AJnLsdJLsBOY52ICkVYHDhgYWI9k+giXwoSt9kPICn\n",
       "rD8BPKe/40mcXWehEYsCAMc/WxTnQMvjAAAAAElFTkSuQmCC\n",
       "\" style=\"display:inline;vertical-align:middle;\" /></a><br>"
      ],
      "text/plain": [
       "<IPython.core.display.HTML object>"
      ]
     },
     "metadata": {},
     "output_type": "display_data"
    }
   ],
   "source": [
    "nat_pos_within_real_pos = ProperSubset(NaturalPos, RealPos)"
   ]
  },
  {
   "cell_type": "code",
   "execution_count": 13,
   "metadata": {},
   "outputs": [
    {
     "data": {
      "text/html": [
       "<strong id=\"nat_within_real_nonneg\"><a class=\"ProveItLink\" href=\"proofs/nat_within_real_nonneg/thm_proof.ipynb\">nat_within_real_nonneg</a> (conjecture without proof):<br></strong> <a class=\"ProveItLink\" href=\"../__pv_it/theorems/84d1af30049899efc84e70c946c3e14b0b43c3c50/theorem_expr.ipynb\"><img src=\"data:image/png;base64,iVBORw0KGgoAAAANSUhEUgAAAE4AAAAUBAMAAADRkRa/AAAAMFBMVEX///9mZmbMzMyIiIiYmJjc\n",
       "3NxUVFSqqqq6uroQEBB2dnYyMjJEREQiIiLu7u4AAAAPqInnAAAAAXRSTlMAQObYZgAAAAlwSFlz\n",
       "AAAOxAAADsQBlSsOGwAAAVpJREFUKM9jYMAHdBrA1CorBvyAb00BkGQx4DhAQCGDjQMDA6cCw1dC\n",
       "6hh8DBjiHzBMZ3j75/QDhpU/G1Akveec3zvHAcL2DNB/wHCFgeE4RwID3wc0Uw6EMbT5PACxXp1g\n",
       "AKqbzMCQG7CEgWECurooBh6mBCAjMIkBZO93Bob0A9wBDBcw1TEGbGBgCAMqg/oj1Zl1A1Qd89m7\n",
       "d+8qwNUdYHgmChY2ADqNIZVNwQqijmlXAJJ5bO8SGN5BeKsMgU5NZTjA0wBW9zYA2V6d6gAUp6Qy\n",
       "KPLdA6vLQHJf5N6/dgxo6lgKasD+3YDsD5fXoPg9AwQBMHUMeWwgdeBwgKvjeeKAbh7DMz6Qvawo\n",
       "6pgEzmGoYzIAp4cLKOEnFIOq7hAQG4HViaCoe8OMavF2IGYEe4EbkRgOBDKwOJxAVqb9E2gWH1gd\n",
       "37E+RHo5ynBmfwGOtMaxBhZvGAAAU/htpdV0GOUAAAAASUVORK5CYII=\n",
       "\" style=\"display:inline;vertical-align:middle;\" /></a><br>"
      ],
      "text/plain": [
       "<IPython.core.display.HTML object>"
      ]
     },
     "metadata": {},
     "output_type": "display_data"
    }
   ],
   "source": [
    "nat_within_real_nonneg = ProperSubset(Natural, RealNonNeg)"
   ]
  },
  {
   "cell_type": "code",
   "execution_count": 14,
   "metadata": {},
   "outputs": [
    {
     "data": {
      "text/html": [
       "<strong id=\"nat_pos_within_real_nonneg\"><a class=\"ProveItLink\" href=\"proofs/nat_pos_within_real_nonneg/thm_proof.ipynb\">nat_pos_within_real_nonneg</a> (conjecture without proof):<br></strong> <a class=\"ProveItLink\" href=\"../__pv_it/theorems/55e6a946ccf74f1f2ff22b9fb557846e646df5900/theorem_expr.ipynb\"><img src=\"data:image/png;base64,iVBORw0KGgoAAAANSUhEUgAAAFwAAAAUBAMAAADyykdqAAAAMFBMVEX///9mZmbMzMyIiIiYmJjc\n",
       "3NxUVFSqqqq6uroQEBB2dnYyMjJEREQiIiLu7u4AAAAPqInnAAAAAXRSTlMAQObYZgAAAAlwSFlz\n",
       "AAAOxAAADsQBlSsOGwAAAW5JREFUKM9jYCAC6DSAqVVWyIKMOJXzrSkAkiwGHAeQBHnwmG/jwMDA\n",
       "qcDwlUjlDD4GDPEPGKYzvP1z+gHDyp8N2JR7zzm/d44DhO0ZoP+A4QoDw3GOBAa+D9hNPxDG0Obz\n",
       "AMR6dYIBqHwyA0NuwBIGhgkMMmdOnjnjgK48ioGHKQHICExiADnmOwND+gHuAIYLOEyPYmAM2MDA\n",
       "EAZUDfVqqjPrBlTlzGfv3r2rAFd+gOGZKFjYAOhshlQ2BSsU5Uy7ApBMZ3uXwPAOwltlCPRGKsMB\n",
       "ngZk5W8DkB2jUx2A4r5UBkW+exeQYjUDye2Re//aMaApZymomYAksAHZqy6vQWnmDBAEwJQz5LEh\n",
       "KQcHHFw5zxMHdNMZnvFdQPBZUZQzCZzDUM5kgJzULqCEu1AMqvJDQGyErFwERfkbZlTXbAcFCpL3\n",
       "GLgbEMoDGVgcTiCr1v4JNJkPWTnfsT5EijzKcGZ/Af68xrEGlggwAAC8QHGQ7jxXsgAAAABJRU5E\n",
       "rkJggg==\n",
       "\" style=\"display:inline;vertical-align:middle;\" /></a><br>"
      ],
      "text/plain": [
       "<IPython.core.display.HTML object>"
      ]
     },
     "metadata": {},
     "output_type": "display_data"
    }
   ],
   "source": [
    "nat_pos_within_real_nonneg = ProperSubset(NaturalPos, RealNonNeg)"
   ]
  },
  {
   "cell_type": "code",
   "execution_count": 15,
   "metadata": {},
   "outputs": [
    {
     "data": {
      "text/html": [
       "<strong id=\"nonzero_int_within_real_nonzero\"><a class=\"ProveItLink\" href=\"proofs/nonzero_int_within_real_nonzero/thm_proof.ipynb\">nonzero_int_within_real_nonzero</a> (conjecture without proof):<br></strong> <a class=\"ProveItLink\" href=\"../__pv_it/theorems/d9de5d1c376945c870359b25a953e7af76fc2fce0/theorem_expr.ipynb\"><img src=\"data:image/png;base64,iVBORw0KGgoAAAANSUhEUgAAAGQAAAAVCAMAAACHQrsCAAAAOVBMVEX///8AAAAAAAAAAAAAAAAA\n",
       "AAAAAAAAAAAAAAAAAAAAAAAAAAAAAAAAAAAAAAAAAAAAAAAAAAAAAAACXHtMAAAAEnRSTlMAVM3v\n",
       "u91mdqsymYkiEETt5cn1eqECAAAACXBIWXMAAA7EAAAOxAGVKw4bAAABcElEQVRIx6VVCW7EIAwE\n",
       "Y84Abfn/Y2tMmm5XGKLUSogEZIbxhVKCFfVPuwFwVB4PfzzkuAGQQx+dV6riI447ACH30UQaWn5C\n",
       "cgOgssbcul+NfsDxDqDBNANoLRqnVMJuH/Q6FXmPdUs4BwaxgTU49s0BPIYuCvgZ5sf+scf4zamR\n",
       "A1CDwyICpHROHz9+KWeohtqm9yQHf2IQAThEND1WutrPL2S1NwN/kqTMrpgDsMYUFTuNRYZLdc/A\n",
       "8AfRU/DY4oQElwA0HdP102+tUi2l18qNcGRJSSglLAFo+lrRcqCLzaK7ImrIKwB9cG0Og0WFVSEm\n",
       "BmyzviwBXtNXV5kExMA7V2AN4PXZzjaNMwY5u7C4ZdFS7mZ8aTibpjcnobzB1Rkpdwd6aZuKsIs6\n",
       "STEv+jWdoY70DXZDkpxMQv7wssNIJXShGfX26oA6J+mHpJiglDTVYO+jSK0Yt7dgwVDLrAsj+RsR\n",
       "2pNrYXZR4Htb2ds3asoNqZpSCwkAAAAASUVORK5CYII=\n",
       "\" style=\"display:inline;vertical-align:middle;\" /></a><br>"
      ],
      "text/plain": [
       "<IPython.core.display.HTML object>"
      ]
     },
     "metadata": {},
     "output_type": "display_data"
    }
   ],
   "source": [
    "nonzero_int_within_real_nonzero = ProperSubset(IntegerNonZero, RealNonZero)"
   ]
  },
  {
   "cell_type": "code",
   "execution_count": 16,
   "metadata": {},
   "outputs": [
    {
     "data": {
      "text/html": [
       "<strong id=\"neg_int_within_real_neg\"><a class=\"ProveItLink\" href=\"proofs/neg_int_within_real_neg/thm_proof.ipynb\">neg_int_within_real_neg</a> (conjecture without proof):<br></strong> <a class=\"ProveItLink\" href=\"../__pv_it/theorems/4a589d037040628b115553220abe8e164e4b2d2a0/theorem_expr.ipynb\"><img src=\"data:image/png;base64,iVBORw0KGgoAAAANSUhEUgAAAFMAAAAQBAMAAACYUF7xAAAAMFBMVEX///8AAAAAAAAAAAAAAAAA\n",
       "AAAAAAAAAAAAAAAAAAAAAAAAAAAAAAAAAAAAAAAAAAAv3aB7AAAAD3RSTlMAVM3vu91mdqsymYki\n",
       "EESqKsraAAAACXBIWXMAAA7EAAAOxAGVKw4bAAABCklEQVQoz2NgVP6sEuqcwIANJJn4q5ogpNg9\n",
       "JjAoMDFgBw4nGF6kXIDxuBYwsCdsZOB0AQIfDKWnGVg4GximgCQPMHAcYLjC64DL1NMMXAcUYDxe\n",
       "BoaVHBNQFLC7hoaGToArRTKHs2EWikpO7QNIpnLcbUBIsVzwRVF69QCyA6YIIbgM0mwFKEr7kNx6\n",
       "WPVrLZIUelApIHsr7RKyJwT2MTBcQHY6slKWa0ixc4UH6MUeBJ8HRSnnAiSPdAJDlvcDkjUBKOG6\n",
       "8gjCvgWvGBg4kKQZlqEovcKegAgqXQYeR+ToYnqAUHqKgS3BD8Z77GTiYm+yAUkpr8dbRMryYXDR\n",
       "F2DACfi2wCIWBQAAIB9G8FP6iuUAAAAASUVORK5CYII=\n",
       "\" style=\"display:inline;vertical-align:middle;\" /></a><br>"
      ],
      "text/plain": [
       "<IPython.core.display.HTML object>"
      ]
     },
     "metadata": {},
     "output_type": "display_data"
    }
   ],
   "source": [
    "neg_int_within_real_neg = ProperSubset(IntegerNeg, RealNeg)"
   ]
  },
  {
   "cell_type": "code",
   "execution_count": 17,
   "metadata": {},
   "outputs": [
    {
     "data": {
      "text/html": [
       "<strong id=\"nonpos_int_within_real_nonpos\"><a class=\"ProveItLink\" href=\"proofs/nonpos_int_within_real_nonpos/thm_proof.ipynb\">nonpos_int_within_real_nonpos</a> (conjecture without proof):<br></strong> <a class=\"ProveItLink\" href=\"../__pv_it/theorems/6a65aceff16fbf0d59874e78055ca59aa3944f2b0/theorem_expr.ipynb\"><img src=\"data:image/png;base64,iVBORw0KGgoAAAANSUhEUgAAAGQAAAAUBAMAAACJ7oWmAAAAMFBMVEX///8AAAAAAAAAAAAAAAAA\n",
       "AAAAAAAAAAAAAAAAAAAAAAAAAAAAAAAAAAAAAAAAAAAv3aB7AAAAD3RSTlMAVM3vu91mdqsymYki\n",
       "EESqKsraAAAACXBIWXMAAA7EAAAOxAGVKw4bAAABr0lEQVQoz2NgQABGHwbu7RsYcAORAwy7q5EF\n",
       "GN0ZGNIZnuDRUcDAVsDngBBgcwMSlgz8B3DpSElgYGCewPAHLsDuCCR4/jIwC+DQUQKSOH+BwZCB\n",
       "UfmzSqhzAqchSJjzLwNrAqrKJBN/VROg2GSwUfMvMIQxsHtMYFBgAjp0L0QLcwGa6Q4nGF6kXGBg\n",
       "9L4A0WLOwLWAgT1hI5D3ZC/YYfzoDnM4zcDC2cDAwAfSA3TYRwaOAwxXeMGhMGMNVu8DtXAdUAA5\n",
       "oesAxPu8DAwrOSaAJU/0MpQzvICGhmtoaOgEuBawmTwdF9gL+BpAuhtmQQ08AIzKtWAWp/YBJFs4\n",
       "7jaAmTwMDLurQF5iueCLEaJXDyA7bIoQmmul2QowtPQh+eWw6tdaNGlQEDNwugCBD0IM2ftpl4DU\n",
       "FJACqGXsAvsYGC6gmsLZgKyF5Rpa9F7hAQZHD6oYD4oWzgVonu0ExgzvBzTHBqDEy8ojqG5Y8IqB\n",
       "gSMATcsyFC1X2FFcxnJBl4HH0QFNC9MDhJZTDGwJfsiSj51MXOxN0PMir8dbREr2YXDRF2AgCPi2\n",
       "wBIMBgAAW5VzGdX/RA0AAAAASUVORK5CYII=\n",
       "\" style=\"display:inline;vertical-align:middle;\" /></a><br>"
      ],
      "text/plain": [
       "<IPython.core.display.HTML object>"
      ]
     },
     "metadata": {},
     "output_type": "display_data"
    }
   ],
   "source": [
    "nonpos_int_within_real_nonpos = ProperSubset(IntegerNonPos, RealNonPos)"
   ]
  },
  {
   "cell_type": "code",
   "execution_count": 18,
   "metadata": {},
   "outputs": [
    {
     "data": {
      "text/html": [
       "<strong id=\"rational_within_real\"><a class=\"ProveItLink\" href=\"proofs/rational_within_real/thm_proof.ipynb\">rational_within_real</a> (conjecture without proof):<br></strong> <a class=\"ProveItLink\" href=\"../__pv_it/theorems/8df1d07ce62bd3dfae8607771ec77e778a1d3c670/theorem_expr.ipynb\"><img src=\"data:image/png;base64,iVBORw0KGgoAAAANSUhEUgAAADsAAAASBAMAAAAXqLt+AAAAMFBMVEX///+qqqoyMjK6urqYmJgi\n",
       "IiLMzMwQEBBUVFSIiIjc3NxmZmZERER2dnbu7u4AAACF9pTcAAAAAXRSTlMAQObYZgAAAAlwSFlz\n",
       "AAAOxAAADsQBlSsOGwAAAQ9JREFUKM9jYGB4e+bMLgY04FRzXrXGAcTibE/giriALn9gBYOFzwMg\n",
       "48oVBgZrGwzptQw8bA0MDGwXFBgYeFgmYEpzLwDJvAOq4U1QAAtyHg0NDU2ASx9gYHjDBtTIKLAN\n",
       "JMamuwBJNwdIYy4z0IHMDo4gsacLkA3PEQJyLVkEgNomiIDEmpHsXq76dR6QXssI1j0ZJKaA7DSX\n",
       "RyCaB2L3PpDVDcjSPE9AwcLzCu5yLhRptg3ngDQzxN8CILEAFH9vWwNibAGGmgUk1LagSL/hBJnO\n",
       "CwrzDWAxJgOE9GoGFofDINbqT/rbIGJ8J+wQMXaK4Yw+2Mo2eIgz34EFKhLgmDBDzIABN5A4BIl6\n",
       "TAAAbZ9Tg9u7lbQAAAAASUVORK5CYII=\n",
       "\" style=\"display:inline;vertical-align:middle;\" /></a><br>"
      ],
      "text/plain": [
       "<IPython.core.display.HTML object>"
      ]
     },
     "metadata": {},
     "output_type": "display_data"
    }
   ],
   "source": [
    "rational_within_real = ProperSubset(Rational, Real)"
   ]
  },
  {
   "cell_type": "code",
   "execution_count": 19,
   "metadata": {},
   "outputs": [
    {
     "data": {
      "text/html": [
       "<strong id=\"rational_nonzero_within_real_nonzero\"><a class=\"ProveItLink\" href=\"proofs/rational_nonzero_within_real_nonzero/thm_proof.ipynb\">rational_nonzero_within_real_nonzero</a> (conjecture without proof):<br></strong> <a class=\"ProveItLink\" href=\"../__pv_it/theorems/251e31d499cf09369a327520083767933da61bc00/theorem_expr.ipynb\"><img src=\"data:image/png;base64,iVBORw0KGgoAAAANSUhEUgAAAGYAAAAXCAMAAADOf8o0AAAAOVBMVEX///82NjYbGxsSEhKqqqoy\n",
       "MjK6urqYmJgiIiLMzMwQEBBUVFSIiIjc3NxmZmZERER2dnbu7u4AAADYcN1mAAAAAXRSTlMAQObY\n",
       "ZgAAAAlwSFlzAAAOxAAADsQBlSsOGwAAAY5JREFUSMe1VQdyxCAMJAlNpgj4/2ODANtXABMn0cxh\n",
       "zxl2VRfGhhbZL20JIMiyBhtusiwBOEOrsoxJvMWyBmAcrRvkJbk7NEsAskTqEuV34zdYOgAxYDZf\n",
       "OT2941f+KQZll1ZTQCU2xCT0hmoKYA2F5rQ5a2XribprsxeeYymENArjGCCoUP6T/qhVbC815sSv\n",
       "aUJ5gBkCQGBi3019QTF/fmCJebEFGk3OumAjAIyx+RCgER5OMUv9aJ4wLepq0KFpQbwD5PCg5Z5z\n",
       "5svZM8U0Xf5xmkEEN4rGHA6/A+ScydZJ+amoDHxc8qjdMGmAXNSvHQBpKzZ5ahknRjGZOTmozSZ0\n",
       "0rYF0QHIfvAzGpthuBzTiGELKBX3j12A59rMVRXMuNMwqtkYY3SvnXYhh30a8I+V74nPOTdXg6gn\n",
       "c+PBzbTc7ypgriXfqzFNHg07S1vYNc1fC6/ol9fR0VwblLOU+yRE8rBy8aKRsafQSIKCYq5/Boqe\n",
       "rV0k+Co2P7jrbL4POEj2z8YNiv1i+nv7Bm02FUBAv0YlAAAAAElFTkSuQmCC\n",
       "\" style=\"display:inline;vertical-align:middle;\" /></a><br>"
      ],
      "text/plain": [
       "<IPython.core.display.HTML object>"
      ]
     },
     "metadata": {},
     "output_type": "display_data"
    }
   ],
   "source": [
    "rational_nonzero_within_real_nonzero = ProperSubset(RationalNonZero, RealNonZero)"
   ]
  },
  {
   "cell_type": "code",
   "execution_count": 20,
   "metadata": {},
   "outputs": [
    {
     "data": {
      "text/html": [
       "<strong id=\"rational_pos_within_real_pos\"><a class=\"ProveItLink\" href=\"proofs/rational_pos_within_real_pos/thm_proof.ipynb\">rational_pos_within_real_pos</a> (conjecture without proof):<br></strong> <a class=\"ProveItLink\" href=\"../__pv_it/theorems/d097f05075cc16a5aec0fe108e259d95d85de6750/theorem_expr.ipynb\"><img src=\"data:image/png;base64,iVBORw0KGgoAAAANSUhEUgAAAFQAAAAVBAMAAAAqQdQ7AAAAMFBMVEX///+qqqoyMjK6urqYmJgi\n",
       "IiLMzMwQEBBUVFSIiIjc3NxmZmZERER2dnbu7u4AAACF9pTcAAAAAXRSTlMAQObYZgAAAAlwSFlz\n",
       "AAAOxAAADsQBlSsOGwAAATJJREFUKM9jYECADQy4AZrcATxKD5Cq9O2ZM7uwK2VRP/Mp/AhCjrM9\n",
       "gSviAnZTebgamFvOweWuXGFgsLZh4D5zpubMEQylFxgOZMDk2C4oAIVYJuAw9QLDLiaYqTzvGhgY\n",
       "eBMUkJXOCQ0NDYMr5YEpfcMGNJBRYBuS0qRbyKb2vYApzWV2YGBgdnBEKOWLQnYA20EtmFJLFgEG\n",
       "BrYJIogY4TBAUloUH/kAFltrGcGmTkb4hQnZW1f8FBA8iFv3IeQzUELgnAuC9woeAlCwAkVpNs8D\n",
       "GI8ZEq4CCHlWFKXcWYjg3gKMLQsbpHDndkBWyndgCpzLC0oDKMlRGUnpBgYXHkSIrP6kvw0lOt80\n",
       "P4CnrD8LeA59REi1gVMAErA9Co1YDMAxYYaYAQNxQOJQjQNhVQAE22Bu4cYiOgAAAABJRU5ErkJg\n",
       "gg==\n",
       "\" style=\"display:inline;vertical-align:middle;\" /></a><br>"
      ],
      "text/plain": [
       "<IPython.core.display.HTML object>"
      ]
     },
     "metadata": {},
     "output_type": "display_data"
    }
   ],
   "source": [
    "rational_pos_within_real_pos = ProperSubset(RationalPos, RealPos)"
   ]
  },
  {
   "cell_type": "code",
   "execution_count": 21,
   "metadata": {},
   "outputs": [
    {
     "data": {
      "text/html": [
       "<strong id=\"rational_neg_within_real_neg\"><a class=\"ProveItLink\" href=\"proofs/rational_neg_within_real_neg/thm_proof.ipynb\">rational_neg_within_real_neg</a> (conjecture without proof):<br></strong> <a class=\"ProveItLink\" href=\"../__pv_it/theorems/510f259f9fab6de13086be01c0db803a3785d6540/theorem_expr.ipynb\"><img src=\"data:image/png;base64,iVBORw0KGgoAAAANSUhEUgAAAFUAAAASBAMAAADYho+9AAAAMFBMVEX///+qqqoyMjK6urqYmJgi\n",
       "IiLMzMwQEBBUVFSIiIjc3NxmZmZERER2dnbu7u4AAACF9pTcAAAAAXRSTlMAQObYZgAAAAlwSFlz\n",
       "AAAOxAAADsQBlSsOGwAAAShJREFUKM9jYGB4e+bMLgbswKnmvGqNA4LP2Z7AFXEBh+IDKxgsfB7A\n",
       "uVeuMDBY2zCwnQGCUxhq1zLwsDUw5IAkFzCwXVBgYOBhmYDD3LUM3AsUYDyedw0MDLwJCsgqOI+G\n",
       "hoYmwNUegIm/YQMaySiwDUkpm+4CJHM5QIZBQC4z0J/MDo5Iap8uQHZDjhCca8kiADRpggiS2mYk\n",
       "9y5X/ToPzlvLCDZ3MpJaBWS/uTxC8Hgg7t2H5NwGZLU8TxBxwfMKPRy4UNSybTgH5zFDwlcAyQ0B\n",
       "KOG7bQ2CuwUYbxY2yMG7BUXtG06EI3hB6WEDslomA4Ta1QwsDocRUqs/6W9DiVi+E3aIdHaK4Yw+\n",
       "kgPb0FMD8x1YHGMAjgkzxAwYiAQSh5ATNE4AAE+zW7+tDZXHAAAAAElFTkSuQmCC\n",
       "\" style=\"display:inline;vertical-align:middle;\" /></a><br>"
      ],
      "text/plain": [
       "<IPython.core.display.HTML object>"
      ]
     },
     "metadata": {},
     "output_type": "display_data"
    }
   ],
   "source": [
    "rational_neg_within_real_neg = ProperSubset(RationalNeg, RealNeg)"
   ]
  },
  {
   "cell_type": "code",
   "execution_count": 22,
   "metadata": {},
   "outputs": [
    {
     "data": {
      "text/html": [
       "<strong id=\"rational_nonneg_within_real_nonneg\"><a class=\"ProveItLink\" href=\"proofs/rational_nonneg_within_real_nonneg/thm_proof.ipynb\">rational_nonneg_within_real_nonneg</a> (conjecture without proof):<br></strong> <a class=\"ProveItLink\" href=\"../__pv_it/theorems/ec92e2d826c1efa93488bfcfa69c5111585d84df0/theorem_expr.ipynb\"><img src=\"data:image/png;base64,iVBORw0KGgoAAAANSUhEUgAAAGYAAAAWBAMAAADA0/SQAAAAMFBMVEX///+qqqoyMjK6urqYmJgi\n",
       "IiLMzMwQEBBUVFSIiIjc3NxmZmZERER2dnbu7u4AAACF9pTcAAAAAXRSTlMAQObYZgAAAAlwSFlz\n",
       "AAAOxAAADsQBlSsOGwAAActJREFUOMtjYIACtsNgivfmBQbsIMcATN2diyT29iCI9GSwwaGH744A\n",
       "kGSZwHwASZDzCJAoY+BfgEMTwxwHBgb2BIZfyGIsJxm4/jGwC+DSw+AzgWH9A4ZCkKPOnNkF1VTF\n",
       "9o+B1QFVoVPNedUaqJj7gvwHDCFAJ7UncEVcgLjYAKiHfQKa6QdWMFj4PAB7+TADUE8lA8OVKwwM\n",
       "1iCPc+1IALmNH91tB9Yy8LA1ABmr2xhAbvvIwHZBgYGBh2UCA1dHAvYwAOrhXgBUtAKoBRIGPO+A\n",
       "RvAmKPB1g9XOZLCAhuLR0NDQBLieAwwvwJ7mnMDcwPCGDeh+RoFtfA+gcboPEsW6C5Ds4QAa/A7C\n",
       "uzv7AUMuMzBMmB0c0Rz0dAGy23KEUBxsyQL0M9sEETQ9zUj+Wa76dR6K5FpGsD2T2c4AwSm4sAJy\n",
       "GLg8AqU3kAKIdTwQ/+xDtQYctnA9PE9Q45nnFSTcUPVwoehh23AORZYZEj/oERmAEj/b1qDKbgGm\n",
       "AwuMDLAFRc8bTlTH8YLS2wZ0PUwGCD2rGVgcDqNKr/6kvw0zh52wQ6TrUwxn9NEc38YyATOvMN+B\n",
       "pR2sgGPCDDEDBhKBxKEaBxKUAwDXCI2NI++TyQAAAABJRU5ErkJggg==\n",
       "\" style=\"display:inline;vertical-align:middle;\" /></a><br>"
      ],
      "text/plain": [
       "<IPython.core.display.HTML object>"
      ]
     },
     "metadata": {},
     "output_type": "display_data"
    }
   ],
   "source": [
    "rational_nonneg_within_real_nonneg = ProperSubset(RationalNonNeg, RealNonNeg)"
   ]
  },
  {
   "cell_type": "code",
   "execution_count": 23,
   "metadata": {},
   "outputs": [
    {
     "data": {
      "text/html": [
       "<strong id=\"rational_nonpos_within_real_nonpos\"><a class=\"ProveItLink\" href=\"proofs/rational_nonpos_within_real_nonpos/thm_proof.ipynb\">rational_nonpos_within_real_nonpos</a> (conjecture without proof):<br></strong> <a class=\"ProveItLink\" href=\"../__pv_it/theorems/c3cb6f3dbd5ad952886834c063d15dbf335085a70/theorem_expr.ipynb\"><img src=\"data:image/png;base64,iVBORw0KGgoAAAANSUhEUgAAAGYAAAAWBAMAAADA0/SQAAAAMFBMVEX///+qqqoyMjK6urqYmJgi\n",
       "IiLMzMwQEBBUVFSIiIjc3NxmZmZERER2dnbu7u4AAACF9pTcAAAAAXRSTlMAQObYZgAAAAlwSFlz\n",
       "AAAOxAAADsQBlSsOGwAAAcpJREFUOMuVUztIA0EQfeedm48XDSJikSKNpZgyosgpNkIKCwOW6bSI\n",
       "iI0gpAgIKghyYKP44TqFGEwRUlhI/IGGqCnSCEYO0UZUULCxCO7eqXd7MYJT7C4z82befBawiVCA\n",
       "77qE+hLQUNnkNMI5MIy+PyAqJFXM2zTSCT1m0KLVg0QUwBXDh6XxHNLDW4XLXweywQx7Oqbp9Vws\n",
       "7gOEPUGqaFR418HEVWeC6saNWFM6Rmn8hZh3jBYeuDUxLtURP7+DcESHcKGbmFmgXAZ6WeF9twa3\n",
       "Fie3fBoySQIiA1FuryClICBLLPjE/q89oJgmLchILGlmD+QXGsIXYzrsLGMN4a+WnEaj0dgPxmiw\n",
       "d1H3qGIST4SmEPw5w1GjMz0wXqRLs+Vxs8AMBFTWdUyKtCeiMuAg9KDZucVbOcI9Eq2ZqG0OzJyt\n",
       "nu3O9y3OmBaMPCukSKXwow7aezB0R684czDTyWY9B3wakrRj5Ht+zvKj1TdLvByGZC45q2jOxznI\n",
       "EW4+uV3emqV7EK75AFkO8+ThyfnYvmWcmIaQhUlBUo55c+qtO1ez+M1n/dZeF1DsdpCfl9Ta3yLe\n",
       "fO/Or+JWV9tD+Kd0HCWUf7h/ArzQiqHtkGZgAAAAAElFTkSuQmCC\n",
       "\" style=\"display:inline;vertical-align:middle;\" /></a><br>"
      ],
      "text/plain": [
       "<IPython.core.display.HTML object>"
      ]
     },
     "metadata": {},
     "output_type": "display_data"
    }
   ],
   "source": [
    "rational_nonpos_within_real_nonpos = ProperSubset(RationalNonPos, RealNonPos)"
   ]
  },
  {
   "cell_type": "code",
   "execution_count": 24,
   "metadata": {},
   "outputs": [
    {
     "data": {
      "text/html": [
       "<strong id=\"real_nonzero_within_real\"><a class=\"ProveItLink\" href=\"proofs/real_nonzero_within_real/thm_proof.ipynb\">real_nonzero_within_real</a> (conjecture without proof):<br></strong> <a class=\"ProveItLink\" href=\"../__pv_it/theorems/bf04918f42d428143d2ba7ea4b674736b498e8740/theorem_expr.ipynb\"><img src=\"data:image/png;base64,iVBORw0KGgoAAAANSUhEUgAAAFAAAAAVCAMAAADmWplAAAAAOVBMVEX///82NjYbGxsSEhKIiIiq\n",
       "qqpmZmbMzMx2dnbu7u66urpUVFTc3NwiIiJEREQQEBAyMjKYmJgAAABgzQ1gAAAAAXRSTlMAQObY\n",
       "ZgAAAAlwSFlzAAAOxAAADsQBlSsOGwAAASlJREFUOMutlAmOwyAMRT0z7IvB3P+ww9aEVBBaKZZK\n",
       "9JXw6h1gZRqeNWXqqZh6hudsOYkBGHwEaF05g8xHcg/wTA3UpZLIwL+6SjEgpugDUtUCi/3lH4Gs\n",
       "QE9fAQCwJsxYwqOwrL1rwMA2Pr0Dslb1Ie2rY3odWsiJ74EXQNfCQewh//5gDfnDolwBo+6OHZ4C\n",
       "K21jL7cZ+mZyAsRRW6371TOXpbHFODIyKrfy8AA0LZHH9i1fF0F7twz5BGQdok+edVfiTbubRQ4v\n",
       "gPIHRPrF4WYNjMuiDIDmMWqi7RBIu67yAKhairEWtxtjDhwALadCuv1a8Td9eAKaztPBtkELWgNP\n",
       "QNaiDDkBmh0xmjlwALRlgbmDEON2bDVao2fb5lPAbFPi++hd7B+KuBDXghaomwAAAABJRU5ErkJg\n",
       "gg==\n",
       "\" style=\"display:inline;vertical-align:middle;\" /></a><br>"
      ],
      "text/plain": [
       "<IPython.core.display.HTML object>"
      ]
     },
     "metadata": {},
     "output_type": "display_data"
    }
   ],
   "source": [
    "real_nonzero_within_real = ProperSubset(RealNonZero, Real)"
   ]
  },
  {
   "cell_type": "code",
   "execution_count": 25,
   "metadata": {},
   "outputs": [
    {
     "data": {
      "text/html": [
       "<strong id=\"real_pos_within_real\"><a class=\"ProveItLink\" href=\"proofs/real_pos_within_real/thm_proof.ipynb\">real_pos_within_real</a> (conjecture without proof):<br></strong> <a class=\"ProveItLink\" href=\"../__pv_it/theorems/bd73ce70a0a8e7d28033acc41a9cec16477020810/theorem_expr.ipynb\"><img src=\"data:image/png;base64,iVBORw0KGgoAAAANSUhEUgAAAEcAAAATBAMAAAAwgQ3NAAAAMFBMVEX///+IiIiqqqpmZmbMzMx2\n",
       "dnbu7u66urpUVFTc3NwiIiJEREQQEBAyMjKYmJgAAAA9S0TaAAAAAXRSTlMAQObYZgAAAAlwSFlz\n",
       "AAAOxAAADsQBlSsOGwAAANxJREFUKM9jYIADZgYiADeFit6e3n/r9APsihByG2YwVLxOwG4SXG7D\n",
       "VAZulgYG6917du9+gK4IIgdmME+4gMMkmByYsQFFkfSqVauWMCDLARkcaQ3IinwjkUyCyAEZ3roT\n",
       "kBSxrUS2DiK3Yc6tX2LIIc5RgFAEk9sw9V0uimt5kR0OldswlTsPxeseyIqgchumshhsQ1Y0A1kR\n",
       "VA7oOJPZyIq4UMIJIgdkZDMi28f8AFkRRG7DZAa+B9uRjbqOUASVA8b0Tobd9xWQFGW3J8BTAboc\n",
       "ApTugkYLFAAAmjVlZdTiicsAAAAASUVORK5CYII=\n",
       "\" style=\"display:inline;vertical-align:middle;\" /></a><br>"
      ],
      "text/plain": [
       "<IPython.core.display.HTML object>"
      ]
     },
     "metadata": {},
     "output_type": "display_data"
    }
   ],
   "source": [
    "real_pos_within_real = ProperSubset(RealPos, Real)"
   ]
  },
  {
   "cell_type": "code",
   "execution_count": 26,
   "metadata": {},
   "outputs": [
    {
     "data": {
      "text/html": [
       "<strong id=\"real_pos_within_real_nonzero\"><a class=\"ProveItLink\" href=\"proofs/real_pos_within_real_nonzero/thm_proof.ipynb\">real_pos_within_real_nonzero</a> (conjecture without proof):<br></strong> <a class=\"ProveItLink\" href=\"../__pv_it/theorems/6dfc187ef62413178b73823fde6c9090cb96f0a90/theorem_expr.ipynb\"><img src=\"data:image/png;base64,iVBORw0KGgoAAAANSUhEUgAAAFwAAAAVCAMAAAD8ZnnOAAAAOVBMVEX///82NjYbGxsSEhKIiIiq\n",
       "qqpmZmbMzMx2dnbu7u66urpUVFTc3NwiIiJEREQQEBAyMjKYmJgAAABgzQ1gAAAAAXRSTlMAQObY\n",
       "ZgAAAAlwSFlzAAAOxAAADsQBlSsOGwAAASdJREFUOMu1VdluxCAMdFvuw2D+/2PLkYZoFWsD2loK\n",
       "eZmZGI/tAHw6LPxfGNdPIwyHUNvawbeTBIBDBoLb4j60M+l6lPBhcdeLEUorfJJAOSGWHBPSkvgr\n",
       "T2GLn/oQ6C4eqSu1QjlPaJcyv+GJ8aEhnsQAmf7S/i+DhD2Dt+IXXu/CI6lRliInSAXIq5lfeC2p\n",
       "768jqWnoBCEvLjCO0DfiB/y8AYjWiv4C8tZ6TlxnE7jMJ2/Wvg2RshOkUebAiNsY2LJMnhT3oJRj\n",
       "icJyE+odPOBlzhgim3nrMjzgSce6jpbY1ptGrfFOkFZXP+6W0TpvGqN0YLs7bvJOUJ0uwV1Q0R5v\n",
       "gFp31Nqh4xx1e7yx3bC2KmLu6+Du14Xe2Q3e40WNr+P/Pn4BNDAR6WZlS9wAAAAASUVORK5CYII=\n",
       "\" style=\"display:inline;vertical-align:middle;\" /></a><br>"
      ],
      "text/plain": [
       "<IPython.core.display.HTML object>"
      ]
     },
     "metadata": {},
     "output_type": "display_data"
    }
   ],
   "source": [
    "real_pos_within_real_nonzero = ProperSubset(RealPos, RealNonZero)"
   ]
  },
  {
   "cell_type": "code",
   "execution_count": 27,
   "metadata": {},
   "outputs": [
    {
     "data": {
      "text/html": [
       "<strong id=\"real_pos_within_real_nonneg\"><a class=\"ProveItLink\" href=\"proofs/real_pos_within_real_nonneg/thm_proof.ipynb\">real_pos_within_real_nonneg</a> (conjecture without proof):<br></strong> <a class=\"ProveItLink\" href=\"../__pv_it/theorems/46144c6a75b4d9d28f82aa6d39dd91e8eb37770c0/theorem_expr.ipynb\"><img src=\"data:image/png;base64,iVBORw0KGgoAAAANSUhEUgAAAFwAAAAUBAMAAADyykdqAAAAMFBMVEX///+IiIiqqqpmZmbMzMx2\n",
       "dnbu7u66urpUVFTc3NwiIiJEREQQEBAyMjKYmJgAAAA9S0TaAAAAAXRSTlMAQObYZgAAAAlwSFlz\n",
       "AAAOxAAADsQBlSsOGwAAASpJREFUKM9jYCACeBeAqVBRZEFmnMrZohWAJJ8A+wYkQW485ks/YGDg\n",
       "cWD4SaRyhtcCDPMTGA4xvD29/9bpB9iVI+QYGN5M8E9gWMfAsGEGQ8XrBOymw+UYUrczAJUfBApN\n",
       "ZeBmaWCw3r1n9+4H6MohcgwMk1sYQI75BBZinnABh+lQuRlA1VCvgoU2ICtn3LVq1SoHuPINDBmW\n",
       "YGEB9gawEEdaA5JylqsTkEwHyaVBeKHCCWAhb90JSMqzJiA7BiKH5L45t36JIcdqOxY5ZO+8y0UR\n",
       "uIAh570bCCbAhLjzkAMQHHAM2OXAQiwG25D4nA245SDeMZmNLLAAjxxYKJsR2UY7PHJAockMfA+2\n",
       "IwnwFuCWA6W6nQy77ysgZYYdZTjlsAH2aFgiwAAAsIB/E94Qd2cAAAAASUVORK5CYII=\n",
       "\" style=\"display:inline;vertical-align:middle;\" /></a><br>"
      ],
      "text/plain": [
       "<IPython.core.display.HTML object>"
      ]
     },
     "metadata": {},
     "output_type": "display_data"
    }
   ],
   "source": [
    "real_pos_within_real_nonneg = ProperSubset(RealPos, RealNonNeg)"
   ]
  },
  {
   "cell_type": "code",
   "execution_count": 28,
   "metadata": {},
   "outputs": [
    {
     "data": {
      "text/html": [
       "<strong id=\"real_neg_within_real\"><a class=\"ProveItLink\" href=\"proofs/real_neg_within_real/thm_proof.ipynb\">real_neg_within_real</a> (conjecture without proof):<br></strong> <a class=\"ProveItLink\" href=\"../__pv_it/theorems/b13ba5e21a58d7102c7d1a855bae69878a7d58310/theorem_expr.ipynb\"><img src=\"data:image/png;base64,iVBORw0KGgoAAAANSUhEUgAAAEgAAAAQBAMAAABHHiTuAAAAMFBMVEX///+IiIiqqqpmZmbMzMx2\n",
       "dnbu7u66urpUVFTc3NwiIiJEREQQEBAyMjKYmJgAAAA9S0TaAAAAAXRSTlMAQObYZgAAAAlwSFlz\n",
       "AAAOxAAADsQBlSsOGwAAAPVJREFUKM9jeHt6/63TDxiwAr47u/+u2QdibZjBUPE6Absqbs4G9r5t\n",
       "IEVTGbhZGhi8dwPBBAxFAQwbPCCKmCdcwGVSAIMlL0zRBhQ56VWrVi2BK+KGKOJIa0BW4xuJbFJb\n",
       "BkSRty6yY9hWIlvHsukmSNGcW7/EkA3iKEBSdHb9wgSwSe9yUVzEi+zwuGdgP22Yyp2HEpgeKL7b\n",
       "9g6iiMVgG7KiGSiKnLkh1jGYzEZWxIWiiNlzA0RRNiOyfcwPkBWxbZADKZrMwPdgO7JR15EUGTC8\n",
       "4y5gAKaCnQy77ysgKcpuT4Cngt8TuPd+whplpbug0QIFAKdRVwFoJQNdAAAAAElFTkSuQmCC\n",
       "\" style=\"display:inline;vertical-align:middle;\" /></a><br>"
      ],
      "text/plain": [
       "<IPython.core.display.HTML object>"
      ]
     },
     "metadata": {},
     "output_type": "display_data"
    }
   ],
   "source": [
    "real_neg_within_real = ProperSubset(RealNeg, Real)"
   ]
  },
  {
   "cell_type": "code",
   "execution_count": 29,
   "metadata": {},
   "outputs": [
    {
     "data": {
      "text/html": [
       "<strong id=\"real_neg_within_real_nonzero\"><a class=\"ProveItLink\" href=\"proofs/real_neg_within_real_nonzero/thm_proof.ipynb\">real_neg_within_real_nonzero</a> (conjecture without proof):<br></strong> <a class=\"ProveItLink\" href=\"../__pv_it/theorems/ccf2fae23310bea2ddd3f2c7a986613da882f04d0/theorem_expr.ipynb\"><img src=\"data:image/png;base64,iVBORw0KGgoAAAANSUhEUgAAAF0AAAAVCAMAAAATpBLwAAAAOVBMVEX///82NjYbGxsSEhKIiIiq\n",
       "qqpmZmbMzMx2dnbu7u66urpUVFTc3NwiIiJEREQQEBAyMjKYmJgAAABgzQ1gAAAAAXRSTlMAQObY\n",
       "ZgAAAAlwSFlzAAAOxAAADsQBlSsOGwAAASBJREFUOMu1VNmOwyAM9O5yY8zx/x+7AZqCqrhNUGop\n",
       "zkNmJuCxDXB7WPhiGNeyEeYL4uhrzgLA0f3qHmuOeksF7xZ3rR5YavGjhJwiUUkhUr6m80pUVONv\n",
       "ezLoph7qB2q1cj7TRbcPiKL/qatH0UGmvXQ1RNMeeEJ9IrZmfBjZK1PkACmEdPnsE7FW5veHWmUm\n",
       "VwfoXQsJCj30gfqD+LwDiNqRfgJ5az2rrZNB7uyDOBm3TZOyA6RJJrbSNiBbmUGU4hgUUyhB8C3j\n",
       "HZwgJs6cnO07SxOcIErHWk8289OkPawRd5BWwA8T+kXi0xylkW/IsErcQduYCfaKKi8SG0jVrZSB\n",
       "HGurWyP2VVeXClFqm+Gw4ck7u0I8vbjpdRN8jn9TjhFonE/DygAAAABJRU5ErkJggg==\n",
       "\" style=\"display:inline;vertical-align:middle;\" /></a><br>"
      ],
      "text/plain": [
       "<IPython.core.display.HTML object>"
      ]
     },
     "metadata": {},
     "output_type": "display_data"
    }
   ],
   "source": [
    "real_neg_within_real_nonzero = ProperSubset(RealNeg, RealNonZero)"
   ]
  },
  {
   "cell_type": "code",
   "execution_count": 30,
   "metadata": {},
   "outputs": [
    {
     "data": {
      "text/html": [
       "<strong id=\"real_neg_within_real_nonpos\"><a class=\"ProveItLink\" href=\"proofs/real_neg_within_real_nonpos/thm_proof.ipynb\">real_neg_within_real_nonpos</a> (conjecture without proof):<br></strong> <a class=\"ProveItLink\" href=\"../__pv_it/theorems/75b4e9416b097a2458f0f3e83b0c93eba25fa88d0/theorem_expr.ipynb\"><img src=\"data:image/png;base64,iVBORw0KGgoAAAANSUhEUgAAAFwAAAAUBAMAAADyykdqAAAAMFBMVEX///+IiIiqqqpmZmbMzMx2\n",
       "dnbu7u66urpUVFTc3NwiIiJEREQQEBAyMjKYmJgAAAA9S0TaAAAAAXRSTlMAQObYZgAAAAlwSFlz\n",
       "AAAOxAAADsQBlSsOGwAAARpJREFUKM9jYCASaE9gCBVlIFq1AAOfAPsGIlW/fsDAwOPA8JM41dIK\n",
       "QGJ+AsMhhren9986/QC7KpicD0g1g38CwzoGhg0zGCpeJ2BXD5Vj2poAUX4QKDSVgZulgcF7NxBM\n",
       "QFcOkWNgB6kHOuYTWIh5wgUcpsPkWJonQL0KFkIJIcZdq1atcoArB8txdiQwCrA3gIU40hqQVLNc\n",
       "nYBkOkyOk4EhVDgBLOSti+zorAnIjkGVAwrNufVLDFmgHY8cyIR3uSgCFzDkkENtw1TuPORoYmlA\n",
       "Vo4qBxZiMdiGxOdswC0H8Y7JbGSBBXjkwELZjMg22uGRAwpNZuB7sB1JgLcAtxwo1e1k2H1fASHC\n",
       "tqMMpxw2wB4NSwQYAAB+X30cKO+B8AAAAABJRU5ErkJggg==\n",
       "\" style=\"display:inline;vertical-align:middle;\" /></a><br>"
      ],
      "text/plain": [
       "<IPython.core.display.HTML object>"
      ]
     },
     "metadata": {},
     "output_type": "display_data"
    }
   ],
   "source": [
    "real_neg_within_real_nonpos = ProperSubset(RealNeg, RealNonPos)"
   ]
  },
  {
   "cell_type": "code",
   "execution_count": 31,
   "metadata": {},
   "outputs": [
    {
     "data": {
      "text/html": [
       "<strong id=\"real_nonneg_within_real\"><a class=\"ProveItLink\" href=\"proofs/real_nonneg_within_real/thm_proof.ipynb\">real_nonneg_within_real</a> (conjecture without proof):<br></strong> <a class=\"ProveItLink\" href=\"../__pv_it/theorems/2ef1e0f12496727d8e1f06480ad694d34a1802400/theorem_expr.ipynb\"><img src=\"data:image/png;base64,iVBORw0KGgoAAAANSUhEUgAAAFAAAAAUBAMAAADo9qfkAAAAMFBMVEX///+IiIiqqqpmZmbMzMx2\n",
       "dnbu7u66urpUVFTc3NwiIiJEREQQEBAyMjKYmJgAAAA9S0TaAAAAAXRSTlMAQObYZgAAAAlwSFlz\n",
       "AAAOxAAADsQBlSsOGwAAAU1JREFUKM9jYIAC7wIwFSrKQACwRSsAST4B9g2EVDJIP2Bg4HFg+ElQ\n",
       "IcNrAYb5CQyHcMi+Pb3/1ukHEPabCf4JDOtQ5fnu7P67Zh+ItWEGQ8XrBBArdTsDUOFBNJO4ORvY\n",
       "+7aBFE5l4GZpADImtzCArP6EoTCAYYMHRCHzhAsMDDOA6rB5BqTQkhemcANDhiVIlFGAvQEaBqtW\n",
       "rVoCV8gNUciR1sCQBpEPFQY7l8E3EtnEtgyIQm/dCejBvxLZapZNN0EK59z6JYYeaBwFSArPrl+Y\n",
       "ADbxXS4orncDAdxgXmTPxD27AA7Hqdx5D9BN9EDx9bZ3EIUsBtvQFc5AUejMDbGawWQ2ukIuFIXM\n",
       "nhsgCrMZ0e1mfoCskG2DHEjhZAa+B9vRjbyOpNCA4R13ASj17GTYfV8BTWF2ewI89fyewL33E87E\n",
       "WboLGoVQAABKbWutHPmlMwAAAABJRU5ErkJggg==\n",
       "\" style=\"display:inline;vertical-align:middle;\" /></a><br>"
      ],
      "text/plain": [
       "<IPython.core.display.HTML object>"
      ]
     },
     "metadata": {},
     "output_type": "display_data"
    }
   ],
   "source": [
    "real_nonneg_within_real = ProperSubset(RealNonNeg, Real)"
   ]
  },
  {
   "cell_type": "code",
   "execution_count": 32,
   "metadata": {},
   "outputs": [
    {
     "data": {
      "text/html": [
       "<strong id=\"real_nonpos_within_real\"><a class=\"ProveItLink\" href=\"proofs/real_nonpos_within_real/thm_proof.ipynb\">real_nonpos_within_real</a> (conjecture without proof):<br></strong> <a class=\"ProveItLink\" href=\"../__pv_it/theorems/cc0243b2c5d9ccee9195b40724696e6beb7dad3f0/theorem_expr.ipynb\"><img src=\"data:image/png;base64,iVBORw0KGgoAAAANSUhEUgAAAFAAAAAUBAMAAADo9qfkAAAAMFBMVEX///+IiIiqqqpmZmbMzMx2\n",
       "dnbu7u66urpUVFTc3NwiIiJEREQQEBAyMjKYmJgAAAA9S0TaAAAAAXRSTlMAQObYZgAAAAlwSFlz\n",
       "AAAOxAAADsQBlSsOGwAAAUlJREFUKM9jYEAC2hMYQkUZCANtAQY+AfYNBNW9fsDAwOPA8JOQOmkF\n",
       "IDE/geEQDvm3p/ffOg00ywekjsE/gWEdqjzfnd1/1+wDsTbMYKh4ncDAtDUBovAgmkncnA3sfdtA\n",
       "CqcycLM0MDCwg1QCrf6EoTCAYYMHRCHzhAtABkvzBGyeASm05IUpBIcJZ0cCowB7A9Rvq1atWgJX\n",
       "yA1RyJEGkeVkYAgVTgAzfSORTWzLgCj01p2AZh/bSmSrWTbdBCmcc+uXGHqgcRQgKTy7fmEC2MR3\n",
       "uUDKezcQwA3mRfZM3LML4HCcyp33AN1EDxRfb3sHUchisA1d4QwUhc7cEKsZTGajK+RCUcjsuQGi\n",
       "MJsR3W7mB8gK2TbIgRROZuB7sB3dyOtICg0Y3nEXgFLPTobd9xXQFGa3J8BTz+8J3Hs/4Uyepbug\n",
       "UQgFAACdalWapAq8AAAAAElFTkSuQmCC\n",
       "\" style=\"display:inline;vertical-align:middle;\" /></a><br>"
      ],
      "text/plain": [
       "<IPython.core.display.HTML object>"
      ]
     },
     "metadata": {},
     "output_type": "display_data"
    }
   ],
   "source": [
    "real_nonpos_within_real = ProperSubset(RealNonPos, Real)"
   ]
  },
  {
   "cell_type": "code",
   "execution_count": 33,
   "metadata": {},
   "outputs": [
    {
     "data": {
      "text/html": [
       "<strong id=\"real_nonzero_within_real\"><a class=\"ProveItLink\" href=\"proofs/real_nonzero_within_real/thm_proof.ipynb\">real_nonzero_within_real</a> (conjecture without proof):<br></strong> <a class=\"ProveItLink\" href=\"../__pv_it/theorems/bf04918f42d428143d2ba7ea4b674736b498e8740/theorem_expr.ipynb\"><img src=\"data:image/png;base64,iVBORw0KGgoAAAANSUhEUgAAAFAAAAAVCAMAAADmWplAAAAAOVBMVEX///82NjYbGxsSEhKIiIiq\n",
       "qqpmZmbMzMx2dnbu7u66urpUVFTc3NwiIiJEREQQEBAyMjKYmJgAAABgzQ1gAAAAAXRSTlMAQObY\n",
       "ZgAAAAlwSFlzAAAOxAAADsQBlSsOGwAAASlJREFUOMutlAmOwyAMRT0z7IvB3P+ww9aEVBBaKZZK\n",
       "9JXw6h1gZRqeNWXqqZh6hudsOYkBGHwEaF05g8xHcg/wTA3UpZLIwL+6SjEgpugDUtUCi/3lH4Gs\n",
       "QE9fAQCwJsxYwqOwrL1rwMA2Pr0Dslb1Ie2rY3odWsiJ74EXQNfCQewh//5gDfnDolwBo+6OHZ4C\n",
       "K21jL7cZ+mZyAsRRW6371TOXpbHFODIyKrfy8AA0LZHH9i1fF0F7twz5BGQdok+edVfiTbubRQ4v\n",
       "gPIHRPrF4WYNjMuiDIDmMWqi7RBIu67yAKhairEWtxtjDhwALadCuv1a8Td9eAKaztPBtkELWgNP\n",
       "QNaiDDkBmh0xmjlwALRlgbmDEON2bDVao2fb5lPAbFPi++hd7B+KuBDXghaomwAAAABJRU5ErkJg\n",
       "gg==\n",
       "\" style=\"display:inline;vertical-align:middle;\" /></a><br>(alternate proof for <a class=\"ProveItLink\" href=\"#real_nonzero_within_real\">real_nonzero_within_real</a>)<br>"
      ],
      "text/plain": [
       "<IPython.core.display.HTML object>"
      ]
     },
     "metadata": {},
     "output_type": "display_data"
    }
   ],
   "source": [
    "real_nonzero_within_real = ProperSubset(RealNonZero, Real)"
   ]
  },
  {
   "cell_type": "code",
   "execution_count": 34,
   "metadata": {},
   "outputs": [
    {
     "data": {
      "text/html": [
       "<strong id=\"nonzero_if_in_real_nonzero\"><a class=\"ProveItLink\" href=\"proofs/nonzero_if_in_real_nonzero/thm_proof.ipynb\">nonzero_if_in_real_nonzero</a> (conjecture without proof):<br></strong> <a class=\"ProveItLink\" href=\"../__pv_it/theorems/10467ce2336fc28cd1d78a329e95a0672272d1f00/theorem_expr.ipynb\"><img src=\"data:image/png;base64,iVBORw0KGgoAAAANSUhEUgAAAIkAAAAVCAMAAABFXj3DAAAASFBMVEX///8NDQ0WFhYLCwsYGBhK\n",
       "Sko9PT0oKChfX1+IiIgiIiIQEBB2dnbu7u5ERETMzMzc3NwyMjK6urpmZmaYmJiqqqpUVFQAAACO\n",
       "tbUiAAAAAXRSTlMAQObYZgAAAAlwSFlzAAAOxAAADsQBlSsOGwAAAj5JREFUSMe9VouSpCAM9N4X\n",
       "ILwC+P9/eiGAo6OOs+fWMlU4KJKm02mZps9t/steumiQLyYQHtyMUPuyjHO6DSSbiwnOrkfGAAkf\n",
       "UENTHPfDbZIwXM2wbjUITCAqiRqYKjdI8fY2JXTFqiurQVLCi4RN1OHIrXwbib6kZE27FVh5lvia\n",
       "+9Q3Eu6r5GqJuKZkmklomoWBUFFoVZs295PTl0CAgs7sSd4oEQcSYcJUkCQqsngbSejscgQoMJFa\n",
       "IMpe1c8ftV90OZuGREo4VT59Gd17BVIX8JBhV2qqkZD4QeLsl/SKkgcSuWQ96DDxLPnKBCoBHjkY\n",
       "VbdThW5rVIrpQDKRtjtqEGLjxM0SDI706qBYy2vDxG8YP2SUajjUXe5HSOQvHCTvicSmk9wUG3Uv\n",
       "m7R7k6ibEPBvSsidIaK/f4i90FcJKHecHdkoR0Xc6OT7t6aWRQa2OUmr4qy6lQxTAbZfcWBYkixI\n",
       "AGmVm87Js1CsbAeZyFKfPxVjeKYwCQ09j6n5qtcdKKuw2OrC+DDcmh1vKzLm5PcvqpxIMncJNd2q\n",
       "HBIHidsizjQdKRy12zhA6UQn2RgPYlohIWs6sMFMrZ20qx2n2hwAjpvyBSV1poERWe0rZvatvK20\n",
       "3LJj+gbptenslPP2V9qrfcVoObg4M611EqPBUTcvWqJz18MPfTu9nkxoqnxYbqtipHdcz54dLNIF\n",
       "JbtzAEE0ACjPOtMxQDCcUnrnC4lnJwuF/7eDZupVJ/GjJ1I4OZi8PnNWIP8AA3wec8L+CvoAAAAA\n",
       "SUVORK5CYII=\n",
       "\" style=\"display:inline;vertical-align:middle;\" /></a><br>"
      ],
      "text/plain": [
       "<IPython.core.display.HTML object>"
      ]
     },
     "metadata": {},
     "output_type": "display_data"
    }
   ],
   "source": [
    "nonzero_if_in_real_nonzero = Forall(x, NotEquals(x, zero), domain=RealNonZero)"
   ]
  },
  {
   "cell_type": "code",
   "execution_count": 35,
   "metadata": {},
   "outputs": [
    {
     "data": {
      "text/html": [
       "<strong id=\"positive_if_in_real_pos\"><a class=\"ProveItLink\" href=\"proofs/positive_if_in_real_pos/thm_proof.ipynb\">positive_if_in_real_pos</a> (conjecture without proof):<br></strong> <a class=\"ProveItLink\" href=\"../__pv_it/theorems/0aae74ecc43d5c7c4bb3e9d36d3dfebc860a94c90/theorem_expr.ipynb\"><img src=\"data:image/png;base64,iVBORw0KGgoAAAANSUhEUgAAAIEAAAAVBAMAAACTeZA2AAAAMFBMVEX///+IiIgiIiIQEBB2dnbu\n",
       "7u5ERETMzMzc3NwyMjK6urpmZmaYmJiqqqpUVFQAAAB6qHgnAAAAAXRSTlMAQObYZgAAAAlwSFlz\n",
       "AAAOxAAADsQBlSsOGwAAAhVJREFUOMudlE9IFFEcx79vfePMOrMyLgiVsIQnL4FEIHhaxRU7FFPE\n",
       "RnhxIadOIVHXGvQu60Hw4GEFL4LiYkarK7EZHaJDQ3QRAo1QPHYoCLr0e+POn7fNDuLA4/3mvff7\n",
       "zO/3/f3eAOd4nAvsSA9z226t0DgSxrdEwtf45bE+B6wB7IqXpSSAUo5dTrvKALAIvKAXbSqJoDdi\n",
       "l/eBceAToSyAu0mEjoj9IKQ9AQ4tdFgwaC2dKMNBNKNR0zf/Ai9dpMn9en//jUTCNo07uftjZ4Fm\n",
       "C02WIDTAqRJvgOn/3XhoLtOosu/61Wb+r71J+0UEEwbJPA/tKEa+0LwGGI7xu9uX4KAWEPLIDAKd\n",
       "Fq9EXL/cfLsgE4YBFXqkpGvHIgsibJpQfwIZMxBSzdkVxjGRbyVQQcwIYbqp5KGLLooB5Xf+Vn2G\n",
       "Wpjhg8nrW/XdSBb0OUex/CxOvckGPlvICHVuUV+hp9bniBYVhN6qFEMJKFZ+BNru187m98AOKSSa\n",
       "cY6EZM5J2i1614hrpYZEuE3hPn+FDUjVRMpVhugcZYxuit1AScW6R9AfTslKPgUmezJ7Xjso2UAP\n",
       "ZTtHjqmwCn+Aj7Ztu4zxDbkfUjOhfbf1jswGljqo4ZkXA+tataRDRjWhYfd8Y46XdeoMTwcUWlwe\n",
       "tweEt1q/MtIL7ZEo9uX85I58rNie0Nnym7tn25W4D5ltCZeAf7vic3jE9a56AAAAAElFTkSuQmCC\n",
       "\" style=\"display:inline;vertical-align:middle;\" /></a><br>"
      ],
      "text/plain": [
       "<IPython.core.display.HTML object>"
      ]
     },
     "metadata": {},
     "output_type": "display_data"
    }
   ],
   "source": [
    "positive_if_in_real_pos = Forall(x, greater(x, zero), domain=RealPos)"
   ]
  },
  {
   "cell_type": "code",
   "execution_count": 36,
   "metadata": {},
   "outputs": [
    {
     "data": {
      "text/html": [
       "<strong id=\"negative_if_in_real_neg\"><a class=\"ProveItLink\" href=\"proofs/negative_if_in_real_neg/thm_proof.ipynb\">negative_if_in_real_neg</a> (conjecture without proof):<br></strong> <a class=\"ProveItLink\" href=\"../__pv_it/theorems/6a5627955b797c8e28112b0494a0b00685a902080/theorem_expr.ipynb\"><img src=\"data:image/png;base64,iVBORw0KGgoAAAANSUhEUgAAAIEAAAAVBAMAAACTeZA2AAAAMFBMVEX///+IiIgiIiIQEBB2dnbu\n",
       "7u5ERETMzMzc3NwyMjK6urpmZmaYmJiqqqpUVFQAAAB6qHgnAAAAAXRSTlMAQObYZgAAAAlwSFlz\n",
       "AAAOxAAADsQBlSsOGwAAAg1JREFUOMudlD9IHEEUxr85d909d09W4cA/cASrNAGRQMDqFJVYKCvI\n",
       "WdjkIG5SBQmxNUvs5SwEC4sT0gQUD6P450ROxUJSZAlphICKINhZKATS5M3oes56N4gLszv7ZuY3\n",
       "b7737QKPuPwnjEgXC6oOLVA74Z0/SsLvyuGeVh+sBGzxlzkVQM9VDMcD/TkwC0zSi/lGRbBKFcN7\n",
       "QB/wg1AuoAUqQs2DyBEX8ANw7KLGhU07xJUyHD3YfY3f/wGfA8RpeUdb20slYZXaUGqkJ0y0sVeo\n",
       "wwklaFSJdWBMSZinVmCn1rMbXbsd8TSviODAJpmnYZ4oCS8A27ev64Wg5sqtroKQRqIdqHW1/L35\n",
       "v/p3ZmRCJ2DAui3pRXgWnQjLDoxLIOHcCWmkvDzT8DodJVBBnAiBK3kcoI5yQG43DBbHycIMB45Z\n",
       "LBa37p2CtvN1VzoFPOCniwRXZ4B8hYaNVp9blBOSBSmHLJDJn0GDpCT2gU1SiJtxioRk/nk8yIjP\n",
       "SDOzsgkHKd2J71gKBWhMimcs0F+RYfmJ6yl3G1kDi4JgvY14/CMw2pDYLvt278YQqylaGCtX4S9w\n",
       "6HlewJi2JBNi49H6HpZ/C1/ueka7iU8iB1b31ZXm2wWFWbbDzpSWs8gZQgf0Rpa8rw4of9VWS1cS\n",
       "5jvqfWtOj27K0zLVCbWR39yw5+UrbeRUJTQB/wH3zXO8vwCHwwAAAABJRU5ErkJggg==\n",
       "\" style=\"display:inline;vertical-align:middle;\" /></a><br>"
      ],
      "text/plain": [
       "<IPython.core.display.HTML object>"
      ]
     },
     "metadata": {},
     "output_type": "display_data"
    }
   ],
   "source": [
    "negative_if_in_real_neg = Forall(x, Less(x, zero), domain=RealNeg)"
   ]
  },
  {
   "cell_type": "code",
   "execution_count": 37,
   "metadata": {},
   "outputs": [
    {
     "data": {
      "text/html": [
       "<strong id=\"nonneg_if_in_real_nonneg\"><a class=\"ProveItLink\" href=\"proofs/nonneg_if_in_real_nonneg/thm_proof.ipynb\">nonneg_if_in_real_nonneg</a> (conjecture without proof):<br></strong> <a class=\"ProveItLink\" href=\"../__pv_it/theorems/3c05fc32a29bc75809d277ab6bce1e192758ea560/theorem_expr.ipynb\"><img src=\"data:image/png;base64,iVBORw0KGgoAAAANSUhEUgAAAIkAAAAVBAMAAACArtDCAAAAMFBMVEX///+IiIgiIiIQEBB2dnbu\n",
       "7u5ERETMzMzc3NwyMjK6urpmZmaYmJiqqqpUVFQAAAB6qHgnAAAAAXRSTlMAQObYZgAAAAlwSFlz\n",
       "AAAOxAAADsQBlSsOGwAAAjRJREFUOMuNVE1o1FAQ/t42b5NNdktaKKiLy7KXiqcoij1uxYoihSAq\n",
       "SC8t2AgepIeea9beZT0IHlfwUlCsUrHtiqwVQSli9FYstJeKBwUPggUvzsTNT7Nusw8C33sz+TLz\n",
       "zZcH9La07iEXPa/D3UMP6NlmsJlGUqj+//xM0YVoAau8uZ/GcjWOWyHMefIIcA+Y46Yn01hexrA8\n",
       "bQZwDTgLrBOdDSheGou1Zzc41gY3gS0bfTbyVF8uVZb63v1am+YPcMtDjiiOVyon0lgMElcO7MyO\n",
       "Bwcby35vzNKCQhN6AUynsfDXDJTMZ+HJwg7r+YtYTOSp0jvQtpNvySVSC7VPgaEyJNw7fLS/RyzT\n",
       "AUsVBVItayuNGMHn86/uUvyCyxMM5OijjBmsRFkb3/yPEcsTE+pPUs4MxVVLTkMoOMcqFBvSwskY\n",
       "C3AsUvd5qO6WB50nWH8dBJszgBB4y37QjmplDMc6gr6Ly4lJO6A2USgTHCfvYWC56LKVmWVokcpa\n",
       "sqmWkXZ21oS80W+hmnDdG3CbeTbtPIkr3K857woHhKJNtaCzjvVQF5pl4feEpXuJPyDjyVP/fIB+\n",
       "6iOPKRWPfBbj2iTkD4a1zWBGahnyqfnlQ+csS/RyJprOLvDecRxPCOVxp2GG93PT7RCploZZvxah\n",
       "P7S1ZrO5Gk9c7+lXnVfqBjnH1wVjix2J2diFdrHCK6ouuhGMQ6ND0K6zKQ9WJ1Y6WOQ+d0c2cWVe\n",
       "cpxGl9Rad5YDwF/DcYBYMvNXUgAAAABJRU5ErkJggg==\n",
       "\" style=\"display:inline;vertical-align:middle;\" /></a><br>"
      ],
      "text/plain": [
       "<IPython.core.display.HTML object>"
      ]
     },
     "metadata": {},
     "output_type": "display_data"
    }
   ],
   "source": [
    "nonneg_if_in_real_nonneg = Forall(x, greater_eq(x, zero), domain=RealNonNeg)"
   ]
  },
  {
   "cell_type": "code",
   "execution_count": 38,
   "metadata": {},
   "outputs": [
    {
     "data": {
      "text/html": [
       "<strong id=\"nonpos_if_in_real_nonpos\"><a class=\"ProveItLink\" href=\"proofs/nonpos_if_in_real_nonpos/thm_proof.ipynb\">nonpos_if_in_real_nonpos</a> (conjecture without proof):<br></strong> <a class=\"ProveItLink\" href=\"../__pv_it/theorems/be9cf283354bd22198ca4448eb848e4a3e384c990/theorem_expr.ipynb\"><img src=\"data:image/png;base64,iVBORw0KGgoAAAANSUhEUgAAAIkAAAAVBAMAAACArtDCAAAAMFBMVEX///+IiIgiIiIQEBB2dnbu\n",
       "7u5ERETMzMzc3NwyMjK6urpmZmaYmJiqqqpUVFQAAAB6qHgnAAAAAXRSTlMAQObYZgAAAAlwSFlz\n",
       "AAAOxAAADsQBlSsOGwAAAjdJREFUOMuNVEFo02AU/rIlTdokJTsM1GGpZbAxd4gy0WMElXkYBJmC\n",
       "FGQDjbCD7LDzbN1xMOpB9CJU8CIoThHmWpGpCMoQo1cH20UF8eBhsMEuvvevTdOmXfpDyHv53/vy\n",
       "3ve+/we6W1rnrQK6Xkc7bz2iZ4uNjTgQ02n//dxAAdIaUGHnQRzK1QisSEn6yjBwD5jnpqfiUN60\n",
       "+MZxl1/vgQvAOsGRK/txKHazKw0KENwCNl30ujCoq2QsLaUmd/JYzdgDbvtIEsTJXG4sDkUncpW+\n",
       "n3MTwsuP1j4rjLIGmSa0Atxol6mEbP6bjoz1kp1rDwMRbROKBYMqXYK21QbE+I3it7qgeoi4T/jq\n",
       "/mUn3YziwCTWEq5cDmV/v/j2Lre+whOs09FLEbNYrXmLQUeE8tyC+o+YswJy1YxXlmSMO1gcpxgb\n",
       "p0IowIl27G76SPEES+/qu9VZGqKEj5Y2wvVmMRTqCKldXG6ZtAdqE2aWzAnSHvpeDxRYyozSvwzj\n",
       "j6jlTC0rYUGZSdtwWlT3AdymwaJdIHKlwq+kf0X8RtamCc0kIksBLzRLcydvpxrqNO/v16ic3tcB\n",
       "0tSHgWkVTwWKfl2cB7WC4kZ9RmoWygvrx5eIGl5lKLmnMZ1d4LPneb4kyc+icx86SJN3Aku1NcyJ\n",
       "WqTUY1erVquVcOB6V0d1QS7ppBzBC84vRwIToQvtUo5Xo7rGjaAfOdsP7SZZTw47+dXocTjg7ki0\n",
       "XJmTnlfuEFrsjHII+A90vntkBxhcLgAAAABJRU5ErkJggg==\n",
       "\" style=\"display:inline;vertical-align:middle;\" /></a><br>"
      ],
      "text/plain": [
       "<IPython.core.display.HTML object>"
      ]
     },
     "metadata": {},
     "output_type": "display_data"
    }
   ],
   "source": [
    "nonpos_if_in_real_nonpos = Forall(x, LessEq(x, zero), domain=RealNonPos)"
   ]
  },
  {
   "cell_type": "code",
   "execution_count": 39,
   "metadata": {},
   "outputs": [
    {
     "data": {
      "text/html": [
       "<strong id=\"nonpos_real_is_real_nonpos\"><a class=\"ProveItLink\" href=\"proofs/nonpos_real_is_real_nonpos/thm_proof.ipynb\">nonpos_real_is_real_nonpos</a> (conjecture without proof):<br></strong> <a class=\"ProveItLink\" href=\"../__pv_it/theorems/13062fd38ade299c062e9413c58c333452d6151d0/theorem_expr.ipynb\"><img src=\"data:image/png;base64,iVBORw0KGgoAAAANSUhEUgAAAMEAAAAaBAMAAAD8lSVDAAAAMFBMVEX///+IiIgiIiIQEBB2dnbu\n",
       "7u5ERETMzMzc3NwyMjK6urpmZmaYmJiqqqpUVFQAAAB6qHgnAAAAAXRSTlMAQObYZgAAAAlwSFlz\n",
       "AAAOxAAADsQBlSsOGwAAAttJREFUSMe1lktoE1EUhv9JMo8kjRm19QFSNG6ELgwi+EAhLoIVIgxS\n",
       "BRHatJhYJQWhLgShGXDfVkRwUSVgKYhVs1GrlZIiWSgVowtXLiJYoaDgJlIFwTN3kpk7aRySBg/M\n",
       "5D5m7nfP4/4T4L9YaBi+Y7G2lnjjDhgEFjGDYBt7zLvNdmTodgBhXUmum3DWbVIYoZtSgbdEjqzX\n",
       "Mo12fjP9azdNyEeNnlyBpwCPBpSN7qcWAUq00aiklAPfUsDHuEnwqhBo+RfG3O0WCcFYY0IMyTFq\n",
       "zMRZlMIliBXAGGk5IeHcvwhzfqM1NmdmGpgC/BQpX6lFQlbje1sikUmLILGh8WVsxCNqPKX8FIjS\n",
       "aqI38Z37XZwPy/1mW6cT94R+N9O1LxLZ3yphxQjtl20qy/otLkrySF1KH5O3z4BUw2y6ENJ03dOl\n",
       "itH26zbh0N5dWl08L1PIoJS5oQ8nFm6Yz7sIzV1APILgTkbgMp0oUkLkNNlwdWyCakLSfLXKkLvT\n",
       "OcGH3tgaQk1oqtZDLv6Ahz03GiFLVqOUWqrzdoDWDqnWLubJJUFAUa0nWEJj++BNsreBM3y1XpPq\n",
       "ojRBS2LSEI++xV4IBTBCV94miIlOnRcaizCg4h1re3hC8Grd0coamzpJxSDukVfN3Qg+ZbBgE07p\n",
       "WZ0XGtO+EqGElZDxuqByBDG5Y20t4TolOpiXo5hlhOD5JJfpeYw6hMY0qnJJDfWY5XbHJuSxJDmP\n",
       "+yvjtoFC5c2RRr2mGigJgu8hRziMbofQWDsTPx8f38o6/Ze0mrb+1KWLfxyEBSvlulTUrjAfhMC0\n",
       "ZhHEVWROO4SGmdex0ekhUzUa2VSt4dWzsxqrA6rWOJfpg/LvokNoXLS1gYmVWivw8n0CygVDZbbH\n",
       "zj23CQ/edhYcQmMenGiThI6ys9+XTtvuS25vfm+S4NFdJqV1f6c5c/1O2wSH0FRVpLlEuH/alDb+\n",
       "L1kVQbXzF7d1rq5qNYPiAAAAAElFTkSuQmCC\n",
       "\" style=\"display:inline;vertical-align:middle;\" /></a><br>"
      ],
      "text/plain": [
       "<IPython.core.display.HTML object>"
      ]
     },
     "metadata": {},
     "output_type": "display_data"
    }
   ],
   "source": [
    "nonpos_real_is_real_nonpos = Forall(\n",
    "    a, InSet(a, RealNonPos), condition=LessEq(a, zero),\n",
    "    domain=Real)"
   ]
  },
  {
   "cell_type": "code",
   "execution_count": 40,
   "metadata": {},
   "outputs": [
    {
     "data": {
      "text/html": [
       "<strong id=\"pos_real_is_real_pos\"><a class=\"ProveItLink\" href=\"proofs/pos_real_is_real_pos/thm_proof.ipynb\">pos_real_is_real_pos</a> (conjecture without proof):<br></strong> <a class=\"ProveItLink\" href=\"../__pv_it/theorems/a6d3dce662a8f6bc38e7714d45a752455ebd77ec0/theorem_expr.ipynb\"><img src=\"data:image/png;base64,iVBORw0KGgoAAAANSUhEUgAAALkAAAAZBAMAAACfn5KBAAAAMFBMVEX///+IiIgiIiIQEBB2dnbu\n",
       "7u5ERETMzMzc3NwyMjK6urpmZmaYmJiqqqpUVFQAAAB6qHgnAAAAAXRSTlMAQObYZgAAAAlwSFlz\n",
       "AAAOxAAADsQBlSsOGwAAAstJREFUSMellk1oE0EUx98m+5VsY1Zt/QApul6EHgwiWsVDPIgVIixS\n",
       "BRHarZgVNYFCPQhCs+C9jYjQQ5WARRCr5mL9qIQEyUGpGD17iKBCQcVLpAqCbybdnUmNmyYdmDCz\n",
       "O/Pb997/zZsAdNZe+77NY9eg4xbJ+762sKtWx/TT0JIOpY7pqSbPum7Yv3amGD1gAlTJ4EObcDXW\n",
       "7KmsVsNfkx5dQPRzMphqk67Fm9PjYI2DZtv7bPRBqgGMdyJANPc/+tOQZztMA4QwOmKlTXrG5Geb\n",
       "DCPr0WVGn0MtiviFdkXdwE/u9XC2fx5i9I3Y9xjG3nbpiyScn7boVOGbXGSU9BSjP0IPnwAkmyrn\n",
       "Q7ex33HkGhmHHEY/sHuH6Z5VjN8owASoVW7j+2OF6/W1K5HiYS9TbmNGHAJtO6VzqibKWW7DJGov\n",
       "m6KbAUqvnRNEGIg30qW6hiW46z7pQ9d+QICuGzOwWcuRSS5w9GHkRnTv6/PoiiBAWW+kq5eo8/sh\n",
       "6jDbgxbdDXCKz8irMpdNk4iDLCkIg6UBEIpA6T15RpcS3Q4o3xGr1iBYYfRhHd7ScYCna1e4o5Mh\n",
       "xhxH0aVdylLdCkFUR4qMfsIha9TCKCg1CBSX931BegUWI2S7oHN0ydrG6CRn4BqKquWVGMxSunbO\n",
       "4lSdhzHqwlwO6UEXhJks65G+elrdYvQ8LMjsGL8kP+swPMEc1pxXtm1XBEF8wNEPQm+9APZjZKIV\n",
       "ZpX08ejEZjoZumi6NfKnI1/449ELnryOXDYvU9uF8Izp0aUlSJ0kt8VIg6rBhjozc9bINjsV0+4g\n",
       "6GRmTao3ZuQRTtV+5XcZzSIL18ND/xq5okk1dxR+8S4B6nlSNbbGzzxj9PtvuosgpOun6bG7XImt\n",
       "gt5VbZwP2jZzmeW7kv5n57dV0AOOz0t5DfcqtLxXfemR1oH3v5LUNfyfocpjjvwFMJOeRxX7GkQA\n",
       "AAAASUVORK5CYII=\n",
       "\" style=\"display:inline;vertical-align:middle;\" /></a><br>"
      ],
      "text/plain": [
       "<IPython.core.display.HTML object>"
      ]
     },
     "metadata": {},
     "output_type": "display_data"
    }
   ],
   "source": [
    "pos_real_is_real_pos = Forall(a, InSet(a, RealPos), condition=greater(a, zero), domain=Real)"
   ]
  },
  {
   "cell_type": "code",
   "execution_count": 41,
   "metadata": {},
   "outputs": [
    {
     "data": {
      "text/html": [
       "<strong id=\"nonzero_nonneg_real_is_real_pos\"><a class=\"ProveItLink\" href=\"proofs/nonzero_nonneg_real_is_real_pos/thm_proof.ipynb\">nonzero_nonneg_real_is_real_pos</a> (conjecture without proof):<br></strong> <a class=\"ProveItLink\" href=\"../__pv_it/theorems/903caae19193f89a16cece6b6877c354700fed150/theorem_expr.ipynb\"><img src=\"data:image/png;base64,iVBORw0KGgoAAAANSUhEUgAAAMsAAAAaCAMAAAAuR1iLAAAAOVBMVEX///8AAAAAAAAAAAAAAAAA\n",
       "AAAAAAAAAAAAAAAAAAAAAAAAAAAAAAAAAAAAAAAAAAAAAAAAAAAAAAACXHtMAAAAEnRSTlMAq1Rm\n",
       "mUTNIjK7EInv3Xbt5cmRiLwgAAAACXBIWXMAAA7EAAAOxAGVKw4bAAAC+klEQVRYw81YiXbjIAw0\n",
       "NxJHd/3/H7sI+SAxNM7WLy7v1U1CLDOMRhoyTXcPZf77Vn14ce+QP1gHrC8c/AYoaKcLsEwq/wIs\n",
       "oE5moo0As02xvaFhI2G5iJ1t9XkoLr5BgitrNUIBdrBkwqE36Vn3eSw6vIMl1H++LhvKiHRhBnAu\n",
       "CL24Uz+zeReLdpPt8DJZwmQXyoL8PBQ/43AuQyrDdrBAD4umN2qRib2BlpxGM8Zm7PIiEEUPS67K\n",
       "i4Q/xXADFrFuoBMhu6auOov9HPMgd123WEylWPv6Od5RkZfVmFjWB03CdepQwRJtmlPDl35IV1/3\n",
       "ZL286ms6rHFcltn13ET3vuGM5adipDzXTcLZvvaVGvZWx2WEKAmjgiJTsFpY5t8FzQgoBWy3Ax8H\n",
       "hw4hH7M48R7oub7Z5z3nfRnwmGOAatAFkbHI3NsInwVAmc9TeUZwy4MwU0NCElrEU1iYcTIZBga8\n",
       "RNgXw0+BQU32eiQGV3OMgBz9jGYZEZYyp3D7gkum/NE++lNYRGUy0pdn18WCMwVXc0vYqL9oP+iD\n",
       "fgke5Fo2MKgc6MO8UVmxZFwU4atmmBfXx7LFYFkH3jV6QHxuYQIYi+SaJre7ch5gKYzlbpaZpXK4\n",
       "uCgfk2OADcmUYw44QHFDuzYHetliVJsBX9VmcFNMz6vgpjBBJl3qtoJY2cGiuR1CT9tqdXbCr4lF\n",
       "uqNFqwaLhsD7J7YHlDqmXB/LFoPvVk2Dj7m/mShy8E7kJmlRgMGDTwYq3WDnjkXRz4U4msVxKls3\n",
       "FSTnWDDy7Elij9GKmHPsuIY49mMmwIOHeTGseq5rhFshTj5MrV6MIZU4zcN8h2WPQTn25+9iZfva\n",
       "f8cnv+h9B2cXKdWNwtYGcE1GfZqXLUZjwquYzbEf+3gRFnWIbbSSOah6AvCbybOhtHxtT2LZYzwY\n",
       "o9IrdacziIvcefru8IWBsuPs8aJf8+XrUzheY8+vPO/3sZxZp7xCMZeeI7ux5ClWf/D72F5CrjT5\n",
       "N/xUcBz/AIX+GI37Og5KAAAAAElFTkSuQmCC\n",
       "\" style=\"display:inline;vertical-align:middle;\" /></a><br>"
      ],
      "text/plain": [
       "<IPython.core.display.HTML object>"
      ]
     },
     "metadata": {},
     "output_type": "display_data"
    }
   ],
   "source": [
    "nonzero_nonneg_real_is_real_pos = Forall(\n",
    "    a, InSet(a, RealPos), condition=NotEquals(a, zero), domain=RealNonNeg)"
   ]
  },
  {
   "cell_type": "code",
   "execution_count": 42,
   "metadata": {},
   "outputs": [
    {
     "data": {
      "text/html": [
       "<strong id=\"neg_real_is_real_neg\"><a class=\"ProveItLink\" href=\"proofs/neg_real_is_real_neg/thm_proof.ipynb\">neg_real_is_real_neg</a> (conjecture without proof):<br></strong> <a class=\"ProveItLink\" href=\"../__pv_it/theorems/d4f2381cbee1b7f26708bd7b220be8b4f4b8741f0/theorem_expr.ipynb\"><img src=\"data:image/png;base64,iVBORw0KGgoAAAANSUhEUgAAALkAAAAZBAMAAACfn5KBAAAAMFBMVEX///+IiIgiIiIQEBB2dnbu\n",
       "7u5ERETMzMzc3NwyMjK6urpmZmaYmJiqqqpUVFQAAAB6qHgnAAAAAXRSTlMAQObYZgAAAAlwSFlz\n",
       "AAAOxAAADsQBlSsOGwAAArdJREFUSMe1lk1oE0EUx99mP/OxZtXWD5Ci60XowSCCHyjEQ7FChEWi\n",
       "IEK7FrNWSUGoB0FIFjwKbUQED1UCloJYNRe1WikpkoNSMXr2EMGKBQUvK1UQfLPp7kxqzJc4sGHe\n",
       "zJvfzrz/m7cB6Ky9auoRho6bWmjqopgd00+24DPfMT1dZyxy3fqxnZkIGAAV0nnfJlyJ1RuVlEro\n",
       "S8o3OUQ/I52bbdLD8fr0OJgZkC1swwCiA5DpRIBo/m/0mSC1JwCCGB2h3CY9a7DWBl3P+XSJjj9G\n",
       "LYr4hnZFXccad7uZvS8O0In1+OzS9d3t0pdIOD9u0lyFbzCRkUcYCR/iCZ8ApNq9axY+d2zJIf2g\n",
       "Ten7dm5jYpa9ADAGSoVZ+O7I3LWq72qkcMjPlNuYEQcgvNWlM6omSjlmwThqLxmClwFyj5XnBOiP\n",
       "16EbePemPKMXj/YNAq7fqI7NXIlMaoFZMohcVfPfPotH4TgoaX/Sry7CHojadO+86a4GOMFm5GWJ\n",
       "icw44iBHCkJyvh+4Irj07gKli4kugsx8BsUBvkzpgxq8qV54lh6+xFydLFl5FEUXd8jL1V1wgnK6\n",
       "SOnHbOIzNYNhcyBQXFn3CellWFLJck5j6KK5pTZn4AqKGi7IMZh26eEzJqPqLIwivA9cOq/RTJY0\n",
       "tbeaVrcovQALEr3GL8jPGgwPn8ea8xLrQ5njhPsMfT/0gHzQzWsHomW6K/HD4bGNrjFw3vBq5Hdb\n",
       "OvfLp8/58tpSybjo7p0LTRo+XVyG9HFIjpA+oypfU2cmh/RcvVsx4XV4OzttuHpjRvYxqu6Vf5Zw\n",
       "kJTttfCgcY1c1UTH64Wev02AcpZUjc3xU08p/d7rLiJlJE1u0yPPXY61QI9Uau2kZdEj1+a7Olxj\n",
       "fm2BHrAbTEr/9bvakK42D3zjT5Lyr/9nMEd+A+vAmlOYxUOQAAAAAElFTkSuQmCC\n",
       "\" style=\"display:inline;vertical-align:middle;\" /></a><br>"
      ],
      "text/plain": [
       "<IPython.core.display.HTML object>"
      ]
     },
     "metadata": {},
     "output_type": "display_data"
    }
   ],
   "source": [
    "neg_real_is_real_neg = Forall(a, InSet(a, RealNeg), condition=Less(a, zero), domain=Real)"
   ]
  },
  {
   "cell_type": "code",
   "execution_count": 43,
   "metadata": {},
   "outputs": [
    {
     "data": {
      "text/html": [
       "<strong id=\"nonzero_nonpos_real_is_real_neg\"><a class=\"ProveItLink\" href=\"proofs/nonzero_nonpos_real_is_real_neg/thm_proof.ipynb\">nonzero_nonpos_real_is_real_neg</a> (conjecture without proof):<br></strong> <a class=\"ProveItLink\" href=\"../__pv_it/theorems/d84d7d3a35ae537e57a687475d49e13e5d4fac450/theorem_expr.ipynb\"><img src=\"data:image/png;base64,iVBORw0KGgoAAAANSUhEUgAAAMsAAAAaCAMAAAAuR1iLAAAAOVBMVEX///8AAAAAAAAAAAAAAAAA\n",
       "AAAAAAAAAAAAAAAAAAAAAAAAAAAAAAAAAAAAAAAAAAAAAAAAAAAAAAACXHtMAAAAEnRSTlMAq1Rm\n",
       "mUTNIjK7EInv3Xbt5cmRiLwgAAAACXBIWXMAAA7EAAAOxAGVKw4bAAAC4UlEQVRYw81Yi3LjIAw0\n",
       "iJcE6O78/x97CGyH1NA4M560zNSdlliwaFdasiw/PMDeEMQsv2HoW7bh8RdAIXdTdvnnsSBc3axL\n",
       "iKvLafJGpvJQj3TDx6H49AbsxZe9WgVIg1kWHObQnvMfx2LiW1hi/RVk2wH30XZNa0EY1A/qZ7Vv\n",
       "YzF+GWrMCavclrKoPw4lrDSfZMxluAGW4aEb+S9sMnGfTwvn6ZR1TMO8KCI1jFWllwR/TvHzWNRx\n",
       "fl5F9l1d9Y7GHAuox7q2Nccm1I/S9aZwW0Xe2WJT2R92jBvst2BJLq+ZacLXUM9kf1yr9Kq85Fmz\n",
       "v2oiptjdtigl4bnpGOfG2geYNlff6oikJM4qis7RGeW2/FNsWRQKuKeF5qOFjpFPLM7bEZi1/vWY\n",
       "D433ZeAzx5Bg0gWpYdE8OojACrHM81LWiFV33sStmovQEl3C0jIuJsPiJC8JH5tp8XFSk4OZicFX\n",
       "jgmQs58xLQGCpcwBlYfP+2pe6JDDJSyqwk/y4dUPsdAqq8PaZ2zWX0yY9MGwBY96LxsUgevZ85HK\n",
       "ioXJNK3YLi9+jOWI0WQd26nJAulLC1O4YdGtqOnjLeYJlpIxhnkdE1u0izD7BrBLsnDM4x5AK9i1\n",
       "OdHLEcNUi/Gn/MDWFTOMekJ5m0WXpq8gTg+wmNYOcaRt2K2dCjuxRHeCEjosBmO31yAOrtQx8GMs\n",
       "R4z2NnQdPvH4LElxDF5xR1pSaOnkk8V8Ibp1YFHM10Kc7OY4wTXjphvHotWvzNI5Ri/ixrHTHtI3\n",
       "fsxGfPIwL4aDr3VNcAPREuLS68XaSFLG2rDfYXnEEI79/YeVY2Ptv+WTX/Tvk7VLQnUL1NuAVpPJ\n",
       "XM7LEaMz4VXM9tSPQ7oLC5xiWwOaI9QbQDhMnosLGeMuYnnEeDJGpVeac2dQd5nz/N3li6Kw4+r9\n",
       "Ylzz9ctb+G+874+xXNiovkUxt94jh7H0laze8/0Y3Yjl818VDMZ/gE0YHlJYCH0AAAAASUVORK5C\n",
       "YII=\n",
       "\" style=\"display:inline;vertical-align:middle;\" /></a><br>"
      ],
      "text/plain": [
       "<IPython.core.display.HTML object>"
      ]
     },
     "metadata": {},
     "output_type": "display_data"
    }
   ],
   "source": [
    "nonzero_nonpos_real_is_real_neg = Forall(\n",
    "    a, InSet(a, RealNeg), condition=NotEquals(a, zero), domain=RealNonPos)"
   ]
  },
  {
   "cell_type": "code",
   "execution_count": 44,
   "metadata": {},
   "outputs": [
    {
     "data": {
      "text/html": [
       "<strong id=\"neg_is_real_neg_if_pos_is_real_pos\"><a class=\"ProveItLink\" href=\"proofs/neg_is_real_neg_if_pos_is_real_pos/thm_proof.ipynb\">neg_is_real_neg_if_pos_is_real_pos</a> (conjecture without proof):<br></strong> <a class=\"ProveItLink\" href=\"../__pv_it/theorems/31a672817c63c53788ad55359bdaf7702b29a2c90/theorem_expr.ipynb\"><img src=\"data:image/png;base64,iVBORw0KGgoAAAANSUhEUgAAALMAAAAZBAMAAACIvQJIAAAAMFBMVEX///+IiIgiIiIQEBB2dnbu\n",
       "7u5ERETMzMzc3NwyMjK6urpmZmaYmJiqqqpUVFQAAAB6qHgnAAAAAXRSTlMAQObYZgAAAAlwSFlz\n",
       "AAAOxAAADsQBlSsOGwAAAsBJREFUSMdjYCACnGIgFXATqY53A8lGcyQQpy4SrBhNLwE9B4kzOgdE\n",
       "yKKKcQmg8nkmp/1UzkHwmQIYGB6AGHfwes4AFCgOaKIyaHw2jgdcb1LhXEagubtAjBl4o8QBFijI\n",
       "gDMA3WgHhoQ6BvY0IMhgYGD9ysBQRzDQ+RcAiT3oojwbMI3ewYngz4HYznIBn9H1IPcZYAibQn2e\n",
       "pKQJN5oNIb0NaPsBoPF4Y1EIFNQTMITnQKJzYgDC1U/jENLCQGykpGSC1+iXsPCGgT7HRiDpB2Z3\n",
       "BiAChD0XKc7WAyW2MzCkYprHgmCmgSLtAFK6s2DIB+o7yYCSANg4LPUVkaK2vgDoBgaOB3hz6jxQ\n",
       "MkWKjeADDJuA1GUwZwLCaJ+jyKHWD4x8tgCWBUhClzz3TUQ1WhuImYFKIpVAQJ1hPwODCshZIDl2\n",
       "YHAqqUEDJPUMkjnxQB28AvBYZJdLW8DIwuDhgOFqZiTbzRhYfwGpxSA2awJS4qtmQwqQ/gKQn+D5\n",
       "fTeQy8jIcFSAZfem3btwBAjrRwaeDyDvgXkKSEZzVyDlj/oGIOE7FUiEHPRgYATFFdBo0Q0orn4G\n",
       "0ogoMlj/MvBNuMHAcAzME0QymjVBBjWFMDQDY5FVg/0HQxg4C7BwJB5AMRqUQlmQYjqR4dIGoOVb\n",
       "IPn9AtzoDQxn2BDhdhhE8AGDgXsDuwHDGrDR3CkJqNEIsp9dAcGPE6l4CNSiBfHDs6Wwku9bA1vm\n",
       "X7iqfTAG8wJgUXUSWLJcYGRkWYuarsFRqI5RHkIt43KDZHTsmRWUVBrYjgaUgF3NyLUkALPkO42R\n",
       "8A/gzcKgkg/qsob6NQHgtANMfK6ohRo7qGhia0DT24a/+uCBRw7Xnos+DBzpQNZKSYfonajK3qIk\n",
       "YCjIwG80E5pTQtLSFuCqGxtRxRgbqFI3YlRe1KvRyWmHAKMNAKr2l3UVrinOAAAAAElFTkSuQmCC\n",
       "\" style=\"display:inline;vertical-align:middle;\" /></a><br>"
      ],
      "text/plain": [
       "<IPython.core.display.HTML object>"
      ]
     },
     "metadata": {},
     "output_type": "display_data"
    }
   ],
   "source": [
    "neg_is_real_neg_if_pos_is_real_pos = Forall(\n",
    "    a,\n",
    "    InSet(Neg(a), RealNeg),\n",
    "    domain=RealPos)"
   ]
  },
  {
   "cell_type": "code",
   "execution_count": 45,
   "metadata": {},
   "outputs": [
    {
     "data": {
      "text/html": [
       "<strong id=\"nonneg_real_is_real_nonneg\"><a class=\"ProveItLink\" href=\"proofs/nonneg_real_is_real_nonneg/thm_proof.ipynb\">nonneg_real_is_real_nonneg</a> (conjecture without proof):<br></strong> <a class=\"ProveItLink\" href=\"../__pv_it/theorems/a124fa2b9cbbaa88f1aa74fe47e10b336097e77d0/theorem_expr.ipynb\"><img src=\"data:image/png;base64,iVBORw0KGgoAAAANSUhEUgAAAMEAAAAaBAMAAAD8lSVDAAAAMFBMVEX///+IiIgiIiIQEBB2dnbu\n",
       "7u5ERETMzMzc3NwyMjK6urpmZmaYmJiqqqpUVFQAAAB6qHgnAAAAAXRSTlMAQObYZgAAAAlwSFlz\n",
       "AAAOxAAADsQBlSsOGwAAAt1JREFUSMetlk1oE0EUx98m+5Uvs2rrB0jReBF6MIhgFQ/xoFaIsEgV\n",
       "RGi3YlYtKRTqQRDMgve2IoKHKgGLIFbNxc9KSZEclIrRs4cIKhQ/8BKpguCb2c3u7Lou2dQHO5mP\n",
       "3fnNm/fmPwH47yaN0B9+X25F07wMGBsYJeUC3IJE54BUJWiUK2KxC9KGrHVMOB48nBwGuQnROjrS\n",
       "qRX9pr2i/9xqDST7pCZEqhBRARqk411IgJz16xXlRvxLgdSEA2UkRBXgcPqnpOdaSEIi50/IgXaR\n",
       "LGB+jOxSug5CE4D2hA1IuvwvwuMYTvdtzIo0wDRADHeKr4cklFS2tS6TmbIJIgifDdJaDfewfIgx\n",
       "qSIlbKDXsI3b3YwPHwdBUK0T9wDLtfjsyGR2hiUska39sEGhUb/K7JI06gnpfcQ9Aij4RjOAoONz\n",
       "0xCbpB4zHMLu7VtUz35iSCZAbjBdbw/NXzbfDxCaG5iQeyGxmRKYSOdrGBBJRztj9U1iTogq38oM\n",
       "qUcvczz059wERmgs60UXv0OEvjeeQdOsXSoserwdwrlTir2KOXSJ46CmeAiO0Dg+RDX6NcAxNlsv\n",
       "iJ5dmiSJO0XEY2ChH7gqUEJ3xSEI+S6DFRqbMKTAa1qPsITEec/RKpGvD2MyCNukZXM1HC8PVx3C\n",
       "EYO+YwuNaZ+QUIelFBniFIYgaJv+ziW4hIFOVKQszFJC4pTGRHoOxl1CYxpmuaikes10u+4QKrAo\n",
       "uo/7c1Kswq2KllGjXmAO1DmOv8sQ9kCPS2jslQnvD06sp43BEbWlrT8M8exvF2HeDrkh1tRz1Acu\n",
       "PqPaBGEZikddQkMt6lrozElTNfxsulWJGqVZleYBZut+JtJ90q+aS2gCtNXHhGarFn/2Jg/yaaIy\n",
       "G3MnnjiEO6+6qi6hMQ9Otk1CsuG5wnXdcV8M+vJrm4SIETAoruCeti3wnmZ0iRUa679Ge4EIvtrk\n",
       "jv8vMfqMEfwDvQKvbrt6trcAAAAASUVORK5CYII=\n",
       "\" style=\"display:inline;vertical-align:middle;\" /></a><br>"
      ],
      "text/plain": [
       "<IPython.core.display.HTML object>"
      ]
     },
     "metadata": {},
     "output_type": "display_data"
    }
   ],
   "source": [
    "nonneg_real_is_real_nonneg = Forall(\n",
    "    a, InSet(a, RealNonNeg), condition=greater_eq(a, zero),\n",
    "    domain=Real)"
   ]
  },
  {
   "cell_type": "code",
   "execution_count": 46,
   "metadata": {},
   "outputs": [
    {
     "data": {
      "text/html": [
       "<strong id=\"nonzero_real_is_real_nonzero\"><a class=\"ProveItLink\" href=\"proofs/nonzero_real_is_real_nonzero/thm_proof.ipynb\">nonzero_real_is_real_nonzero</a> (conjecture without proof):<br></strong> <a class=\"ProveItLink\" href=\"../__pv_it/theorems/4b8168a707faf49f20fe19216fcacc19b19117fe0/theorem_expr.ipynb\"><img src=\"data:image/png;base64,iVBORw0KGgoAAAANSUhEUgAAAMEAAAAbCAMAAADyORvnAAAAOVBMVEX///82NjYbGxsSEhKIiIgi\n",
       "IiIQEBB2dnbu7u5ERETMzMzc3NwyMjK6urpmZmaYmJiqqqpUVFQAAAAnLjGdAAAAAXRSTlMAQObY\n",
       "ZgAAAAlwSFlzAAAOxAAADsQBlSsOGwAAAtJJREFUWMPVWIl24yAMZHe5xA3//7GLANvEhsR14vaV\n",
       "9+r4kmGkkTSUkF81JPnlQ9hyFFT82BK8fcdax/INSoiFfOJ+AEB4b9Ko8chVPqR8quH7WWzeMreF\n",
       "OzphMvDQovG9A/xZshkOkAzjzcIBjn/5zxNVELDygOFp3ELsbwag+RfAFtLb6GEtP7SuryLgxf0U\n",
       "V+/W3DL6ZgROfAmBKD9qcbFsrK8sSqHcw/P1jfvzItkvI3CamMaiv3+gsGjLZPQ6xsW0MIlwM4Aa\n",
       "/vGgwPIwIwTNsaunCcVq2q4cPvWN/ubuEFA2LTKGynEMopRtrVs+YEdz7YqW1OIIn/Hb21w0a2MS\n",
       "VHeFUBs5YZGC0LIzjAunLXF1aofxZUZeUy7Q+GB5XhR0lBqVkIyAG5bYEhwzY6ZaerWOszbKhHHR\n",
       "0IevX1Iupk4hOdLWdZQyk0z2fm2BYVIEdK0O6H5xeEXRCJDvUpIXI7Q4hWCnXB4Gq7FzqVxs31OV\n",
       "xnnAjkUg/YseJSsC5NjBD66SCxHkx17SUwh2ymUUAw7bzA+F/pgHyr0it06qhXFRGFJ4KvTWABcE\n",
       "VLoxgtVgrFyOCGTCqXzqgzPtB0696FKq+UmEVg0k0/Vm5xdkkQbqhwhWg5ly6eMDFUGodSnovsCP\n",
       "EeRl0Kc8sq0gaL40CIe0xCe+Q+BAABln8mowUy59P6jvAcXy4PqKZsIIgavNCp51cr/MHRvnuW1q\n",
       "yZviUwiVRcKGMYLVYKZcjv6SkQqlI1VdJCNYedSmgFUXTHoiFlzcZzbaeCmJEqTPA2uFHCHYDKbK\n",
       "hTzCnUp/eFQVJ4fZc4wjq62XfYOr1XSSyZvBTLlc1KYnt0wHqWWdD1T4olTVqlmMINI5M0KwGcyU\n",
       "S184+KcR+PgMnkBK2LHyHTbv11u++Gn5yy5uacYITpBYflj/Xt4nDxGEM9uX8NFMuL4ne2M3+t7/\n",
       "i/aVoaTaf0hvHnYzDBe4AAAAAElFTkSuQmCC\n",
       "\" style=\"display:inline;vertical-align:middle;\" /></a><br>"
      ],
      "text/plain": [
       "<IPython.core.display.HTML object>"
      ]
     },
     "metadata": {},
     "output_type": "display_data"
    }
   ],
   "source": [
    "nonzero_real_is_real_nonzero = Forall(\n",
    "    a, InSet(a, RealNonZero), condition=NotEquals(a, zero), \n",
    "    domain=Real)"
   ]
  },
  {
   "cell_type": "markdown",
   "metadata": {},
   "source": [
    "***Non-Zero Theorems***"
   ]
  },
  {
   "cell_type": "code",
   "execution_count": 47,
   "metadata": {},
   "outputs": [
    {
     "data": {
      "text/html": [
       "<strong id=\"positive_implies_not_zero\"><a class=\"ProveItLink\" href=\"proofs/positive_implies_not_zero/thm_proof.ipynb\">positive_implies_not_zero</a> (conjecture without proof):<br></strong> <a class=\"ProveItLink\" href=\"../__pv_it/theorems/d6c113dbe9cc768ca29e139492cd41d6ad67b2d70/theorem_expr.ipynb\"><img src=\"data:image/png;base64,iVBORw0KGgoAAAANSUhEUgAAAKUAAAAXCAMAAABd93+WAAAAPFBMVEX///8NDQ0WFhYLCwsYGBiI\n",
       "iIgiIiIQEBB2dnbu7u5ERETMzMzc3NwyMjK6urpmZmaYmJiqqqpUVFQAAACZSrTsAAAAAXRSTlMA\n",
       "QObYZgAAAAlwSFlzAAAOxAAADsQBlSsOGwAAAnxJREFUSMfFV4uSpCAM9B6BhDf4//96EEDRYXV3\n",
       "ttxjqpzyEel0Jz2ZZfnBZX4o5lsL4vV9T5OLDsoxbecxPAsy4vV9rcYzRPDMIxRY3vXr9llyyd48\n",
       "oPRwYjPvJBiRzRTrTqZRz1Lpb6TSaTgJgvlkSME3qHwpPotS3lE5SqkYclwZm8zH0HK0D1flzfvd\n",
       "SOWyeqZ3ZeZsQShFWRIfFnx7v0kIBs73D11BHSUziCUBz1Wr6PMbvoPS9rJ0MuNRa9/OM0fi759y\n",
       "3HpkxYqSkwmWc+uHqVICrU92zP2+zbKNnKURrexJsrOIKyp3lPwVZacR3UvPQVIqX4UlP4oGr1HS\n",
       "KEXIObnTU7Jt4FfGfErCHfWhCs9VLjWHRJj0jvfNviB/lkBwjdIov7MhS+hqpiilYhTuisrePbF2\n",
       "j5OtvUMDQRgATXf8HSWQn6PcArLfJdP1KsTKOFOcmJ6w7myUevz9q1bnVnaqOmWt3iiaVTbTLG6v\n",
       "Cwm0IymKGwVhinILYHQ+6apQeZs4uriChrKgTXaJI3v23LqB6fNV4VA3NDJ1mfMe5QEXBpRe4UFk\n",
       "NdZFC2igfankilIezQbTjjYKfzCK+OoahXqS+mBiSe/FA4mbX/GKVXF0cY5yC9hJME3x9ai4bl1N\n",
       "CVCbBPqKypIvQkcl3Km1ipWF3K8al7EunUOaodwDGilV11n3LEK/OSyZs2vJUmUu0Gjy1Yk+6J49\n",
       "gAVodQJw/sXrQ8Pc8OlrY4rzIQIGdpaWurNgMQvg7QzlHrCAiofhkC7HiRH+DZVXPyKEpS7ddHqZ\n",
       "jrC3IxV9sJ2gz89KX1jvDqKvI0ZN8PpvyLuz+cPj8n/8K/i99Q85WRqGEKklLAAAAABJRU5ErkJg\n",
       "gg==\n",
       "\" style=\"display:inline;vertical-align:middle;\" /></a><br>"
      ],
      "text/plain": [
       "<IPython.core.display.HTML object>"
      ]
     },
     "metadata": {},
     "output_type": "display_data"
    }
   ],
   "source": [
    "positive_implies_not_zero = Forall(\n",
    "    a,\n",
    "    NotEquals(a, zero),\n",
    "    domain=Real,\n",
    "    conditions=[greater(a, zero)])"
   ]
  },
  {
   "cell_type": "code",
   "execution_count": 48,
   "metadata": {},
   "outputs": [
    {
     "data": {
      "text/html": [
       "<strong id=\"negative_implies_not_zero\"><a class=\"ProveItLink\" href=\"proofs/negative_implies_not_zero/thm_proof.ipynb\">negative_implies_not_zero</a> (conjecture without proof):<br></strong> <a class=\"ProveItLink\" href=\"../__pv_it/theorems/cb2c670504882641f13aaf5a4c57dc680b75aa750/theorem_expr.ipynb\"><img src=\"data:image/png;base64,iVBORw0KGgoAAAANSUhEUgAAAKUAAAAXCAMAAABd93+WAAAAPFBMVEX///8NDQ0WFhYLCwsYGBiI\n",
       "iIgiIiIQEBB2dnbu7u5ERETMzMzc3NwyMjK6urpmZmaYmJiqqqpUVFQAAACZSrTsAAAAAXRSTlMA\n",
       "QObYZgAAAAlwSFlzAAAOxAAADsQBlSsOGwAAAoBJREFUSMfFV4uyqyAM9D4CCW/w///1QgBFS21P\n",
       "z3gunbEjEll2k226LD84zA/FfGtAvH7uaTLpoFzTdh/DvSAjXj/XarxDBM88QoHlXZ+395JL9sUC\n",
       "pYcbm3knwYhsplh3Mo26l0r/QiqdhpsgmE+GFHyDylPxXpTyFZWjlIohx5WxyXwN7Yz25qx88X43\n",
       "UrmsnuldmTlbEEpRhsSbBd/ebxKCgfPzQ1VQR8kMYjmA56xV9P6Gn6C0PS2dzHjU2rfzzJH4+6dc\n",
       "txpZsaLkwwTLZ+uXqVICrU92PPvrMss2cpZGtLQnyc4irqjcUfJXlJ1GdA81B0mpPAtLXooG30RZ\n",
       "OAr5TO60SrYN/MqYT4dwR32ownOVS80hESa1432zL8ifJRC8hdL4lGHKErqaKUqpGIW7orJXT6zV\n",
       "42Qr79BAEAZA0x1/Rwnk5yi3gGp5ybBehVAZZ4oT0xPWnY2Sj79/1ezc0k5Vp6zZG0Wzymaaxe11\n",
       "IYF2JEVxoyBMUW4B5ciq/qTlifI2cXRxBQ1lQZvsEkf27Ll0A9Pnq8Khbmhk6jLnPcoCFwaUXuFB\n",
       "ZDXmRQvIGLFvVVHKo9lg2tFG4Q9GER9do1BPUh9MLOk9eSBx8SsesSqOLs5RbgF6ELgqvh4V162q\n",
       "KQFqk0BfUZmXeYSOSrhTaRUrC0SLxmXMS+eQZij3gJygaoM1q55F6A+bJXN2LVmyzAUaTb460ZPq\n",
       "2QPKStXyBOD8i9ebhrnh09faFOdDBAzcIbWjOwsWswDezlDuAS3Pw9Yc0mU7McJ/QeWVPWcFFbv6\n",
       "pHu5airU0y6VnsQJer9X+sL4tBF9bDFqXV3/Dfm0N7+5Xf6PfwW/N/4B7q0af+IRlWMAAAAASUVO\n",
       "RK5CYII=\n",
       "\" style=\"display:inline;vertical-align:middle;\" /></a><br>"
      ],
      "text/plain": [
       "<IPython.core.display.HTML object>"
      ]
     },
     "metadata": {},
     "output_type": "display_data"
    }
   ],
   "source": [
    "negative_implies_not_zero = Forall(\n",
    "    a, NotEquals(a, zero),\n",
    "    domain=Real,\n",
    "    conditions=[Less(a, zero)])"
   ]
  },
  {
   "cell_type": "markdown",
   "metadata": {},
   "source": [
    "***Elements of Real Intervals are Real Numbers***"
   ]
  },
  {
   "cell_type": "code",
   "execution_count": 49,
   "metadata": {},
   "outputs": [
    {
     "data": {
      "text/html": [
       "<strong id=\"all_in_interval_oo__is__real\"><a class=\"ProveItLink\" href=\"proofs/all_in_interval_oo__is__real/thm_proof.ipynb\">all_in_interval_oo__is__real</a> (conjecture without proof):<br></strong> <a class=\"ProveItLink\" href=\"../__pv_it/theorems/d922227414cb9b6aa7408b7c87099419bc102f930/theorem_expr.ipynb\"><img src=\"data:image/png;base64,iVBORw0KGgoAAAANSUhEUgAAAOIAAAAZBAMAAADea+8+AAAAMFBMVEX///+IiIgiIiIQEBB2dnbu\n",
       "7u5ERETMzMzc3NwyMjK6urpmZmaYmJiqqqpUVFQAAAB6qHgnAAAAAXRSTlMAQObYZgAAAAlwSFlz\n",
       "AAAOxAAADsQBlSsOGwAAA5VJREFUSMetlltIFFEYgP9x57K7M7vuhkJhiEwU9RBIhEVU7ENFhsYU\n",
       "thEFTZGTiJFlCRHkVCJEICYkPRRtYEF0myiwi8T0oGAZbNGLELXd7NWCQHrqP2d2Zs+k7SjsgTm3\n",
       "OTPffz3nAASXL6oJJSqcunIuy/qghGW81EQz6F2piVx2lsmxuqP9dTbADYeYI82HAGKcNDE7mPh+\n",
       "1lm9F+6PasDZlPiMTF0JIMoZbCLB8SPMbg69G0QJVbtMiWewDusBRLIceoJVlO3/EWUThXlNiREN\n",
       "gM8G+ZFI1xhMDPmdelBdUSCiViGNEBUUKxIYOeNzC6AJdhC9pBV0jO9CM0Vs+qdVqro6kBhS1SWp\n",
       "YOJjfHZU795EbXZBY6zaOYFRwOcocQigOZAot4OosXMxJow4r3cVH4v7LNf4w1E/3/+rElvFsVYv\n",
       "hHPuK2kg33lX/+ISS8QlvT4pXrmdU+gfyx3gFqaYyu+47U9jvXt8DxWzlhJFjc94774RbLWR4XjY\n",
       "mmJ3gGbY5g6PTbaC4AkZx2WD7mAdfg2yg5LQXeqyPFHcR4SQpigxlmACZw0+z9vRUByMJFjiW09k\n",
       "eYhUnpAhXB3RCkSccT4UdEZHySKei9bmY/AlVk0vtxIhflZrdGdAYqXFEiMK/oerOvsEFpOpMvxj\n",
       "QwXxZVfyeyG76MHwwBSoBDVsPg6RbI7VOMRGTDZhuTRNQEs5K02DgQ8fsFkiP4F/WRjXrzmiXwDY\n",
       "aXYR4gKtCmKucAcA0pmvwNNBkiWmiSKK7hDPo09kS0KNQbSVvruUKB/SfTt5eCNWtphoj1JBbqHx\n",
       "oYP02mAMou7a7QCfTj6Ce3QQ8fYV/SKmfStSUg4xjp4IZbgcdYqcGzMMI8tx/D3/2fGDVOUmKAOG\n",
       "cQQ+Ep9VO55/AZJLPA6wNxkbdlDC5E3v7GgB43oWyjKF02q/KY6g2cohlD1BdeSig9rM06oDTImG\n",
       "cCcI09C2C3tTsKFg1bJ236azJb/LueUccz6GzK67WhOUaaNOpmN2bLb+JYZr6zH1mvORs1b6MyKk\n",
       "YCk6h3PDWrGKbiXDDDE6/LYBOrLSwwSED+P49qLU3qczdHw4mNSgh+ghmnDnTYUtbYDTSTrKl5Zi\n",
       "QHpE+e8Ajv2bDCNT5A4gbDFaIZrfHmK0Tnsv08WIVDAfMarN/dbxxGlusgOiRqIIceGMe44yj3sO\n",
       "70hHU0XJlPou1z/bfZWxhzCf++r6v6e87C6QnMq8AAAAAElFTkSuQmCC\n",
       "\" style=\"display:inline;vertical-align:middle;\" /></a><br>"
      ],
      "text/plain": [
       "<IPython.core.display.HTML object>"
      ]
     },
     "metadata": {},
     "output_type": "display_data"
    }
   ],
   "source": [
    "all_in_interval_oo__is__real = Forall(\n",
    "    (a, b),\n",
    "    Forall(x,\n",
    "           InSet(x, Real),\n",
    "           domain=IntervalOO(a, b)),\n",
    "    domain=Real)"
   ]
  },
  {
   "cell_type": "code",
   "execution_count": 50,
   "metadata": {},
   "outputs": [
    {
     "data": {
      "text/html": [
       "<strong id=\"all_in_interval_co__is__real\"><a class=\"ProveItLink\" href=\"proofs/all_in_interval_co__is__real/thm_proof.ipynb\">all_in_interval_co__is__real</a> (conjecture without proof):<br></strong> <a class=\"ProveItLink\" href=\"../__pv_it/theorems/bf7734636bb314df23cc0b3101ad9b71f113d53d0/theorem_expr.ipynb\"><img src=\"data:image/png;base64,iVBORw0KGgoAAAANSUhEUgAAAOAAAAAZBAMAAADanj8DAAAAMFBMVEX///+IiIgiIiIQEBB2dnbu\n",
       "7u5ERETMzMzc3NwyMjK6urpmZmaYmJiqqqpUVFQAAAB6qHgnAAAAAXRSTlMAQObYZgAAAAlwSFlz\n",
       "AAAOxAAADsQBlSsOGwAAA2RJREFUSMetll1IFFEUgM+4P7M7O7vthkIlLLJg1EOwRVhIwvZQGGgM\n",
       "oQth0Bg1iQhJShBBDilBBLIKRQ9BG9hDZLFGoKbI+qAkGW3Ri9TDEulTD9ZL0lPn3NnZuaO2s8Ie\n",
       "2Llz5xz2u+een3sBnOV7TIfKiBA7VI5ZCionyxUG6k66CgOF3DYflxqujTZkAZ4awDwN3xyAZRgx\n",
       "+bLtV3UYXi0qIGQZ8C19euQALMOIxLP9XqhD4BVxzQ8Y8DY+faoDsAwjkkD2f8CAjmt5z4B+BcCd\n",
       "cwCWYUTisgf0UuygBcTluhQCyrgqv1PSlGFEssJPpBHF8jDUjlvqz7IsPRKLHXXMUmcjkjcUx8hq\n",
       "fytN7inclt5YwaJw5xlwEuCKI3CzUQNXcELx7THFEaLh1/YcUwdHf9fgKKcYcBh8eVMlPiy8fD4z\n",
       "N8IDeSOS4uQmxiZjTqhvvYOPyk979apDy+dpDMYZ0Ku400XdD6JGtbTghuYEB+SMSG0BQ2g1Zk4a\n",
       "8dcL04YZRiG2vwD0XqD8FdcZMBjm0uEY/mZ6cZsEWAhzQM6I1BbQhTO/wgEBDhs1qXIeihkKiGR4\n",
       "CKl5fLTNN9MafkUV1hAQWJPhWxszikzV6kyNQE9LNcVxILJqFQw7CqQNaKexjq/Dybu0pXUGsBU7\n",
       "gOeAuEGceiGTZIng9nVmeSAZCfqaP5csxPCcPkDA3UotBM2ldeIfdYfiwIIR4YFJWqesGsBB3J9A\n",
       "RkR/wZuVU+MMGLis2po3GcnQKcJ4ATgDffTSA0sgmaZn0Ys/HXGJeewvNgr1PhZyN0ISBjCEYXCl\n",
       "hTyLSCC/pGlaThDcL21AMgLAXWBqBDZC1Aj6HIgm8Dp6OBH++sEI4tqz4mnRBdqTHFSlrePpou5d\n",
       "wNDvAleun3koSGPKluNJjPug3/DQswE9FKp1aLK2tKrX1mpOF1qbKXe489ClD4wrbVClLGIFsBjC\n",
       "qcxm4KA7FTDU6OFx8e+CJwH1GBjBzGc5U7KBzHJAafZTC/TlxIkw+K7i/PneRMf0ZmBg38kaQ43A\n",
       "Fx+qs2IT3MLc8BbbTlcpHjtu7Ce+EeY2TUuXOPGZulCHQfZMFnXJUkC2LhtQUsq+YhSARlpMWU6E\n",
       "SwD3bLnTyLBTICtVOV3pW9vo1nupxn3x7OReeuIfRJvyJtVxO9YAAAAASUVORK5CYII=\n",
       "\" style=\"display:inline;vertical-align:middle;\" /></a><br>"
      ],
      "text/plain": [
       "<IPython.core.display.HTML object>"
      ]
     },
     "metadata": {},
     "output_type": "display_data"
    }
   ],
   "source": [
    "all_in_interval_co__is__real = Forall(\n",
    "    (a, b),\n",
    "    Forall(x,\n",
    "           InSet(x, Real),\n",
    "           domain=IntervalCO(a, b)),\n",
    "    domain=Real)"
   ]
  },
  {
   "cell_type": "code",
   "execution_count": 51,
   "metadata": {},
   "outputs": [
    {
     "data": {
      "text/html": [
       "<strong id=\"all_in_interval_oc__is__real\"><a class=\"ProveItLink\" href=\"proofs/all_in_interval_oc__is__real/thm_proof.ipynb\">all_in_interval_oc__is__real</a> (conjecture without proof):<br></strong> <a class=\"ProveItLink\" href=\"../__pv_it/theorems/6b8657954afd118387ee1146f1d1bf2eec3fc75c0/theorem_expr.ipynb\"><img src=\"data:image/png;base64,iVBORw0KGgoAAAANSUhEUgAAAOAAAAAZBAMAAADanj8DAAAAMFBMVEX///+IiIgiIiIQEBB2dnbu\n",
       "7u5ERETMzMzc3NwyMjK6urpmZmaYmJiqqqpUVFQAAAB6qHgnAAAAAXRSTlMAQObYZgAAAAlwSFlz\n",
       "AAAOxAAADsQBlSsOGwAAA2VJREFUSMetlk9IFFEYwL9x/8zuzOy2GwqVsMiCUYdgi7CIhO1gGGgM\n",
       "oUIYNUZtIkJLShBBDilBBLIKRYegDfQQWawRmCmyHpQkoy06JHVYIj11sC5Jp77vze7sG113NtgP\n",
       "ZubN+76Z33vv+/MegL18D+tQGRHCB8oxS0DlZLnCQN1OV2GgkCnSudRwdbQhDfDEAGbp8c0GWIYR\n",
       "k89Fe7VheLGogpBmwDfU9dAGWIYRiav4WmhD4BZxzPcZ8BbePZoNsAwjEjm9HVDWcSzvGNCrAjgz\n",
       "NsAyjEgcVodeDO8vAHG4DpWACo7Kaxc0ZRiRrPAv0ohamKG/HZfUm2ZReigcPmwbpfZGJK/Ij8HV\n",
       "/lZ6uatyS3p9BZPCmWXAKYDLtsAtRl+49mI213hEfoRQ4KU1xrTB0d81+FQSDDgMnvwHID7INT6d\n",
       "mhvhgbwRiZLMt26gc/Iqqltv4YP605q92tDyWXr6IgzoVp3m1/CDqKFYUnBCc5QDckakhvPmF/5o\n",
       "AXgMrzhMG2bohfDeHNB9juJXXGdAX4ALhyN4zcQxwgRYCHBAzojURmIakRm3AgEOGjmpcTMUU+QQ\n",
       "yZghJObx1jbfTGP4FVJZQUBgTYovbcwo+LpWZ2qowz+2VFN1HAiuWpYUpA1oz5kUgmbqDi1pnQFs\n",
       "xQrg2iduEKdeSHWwHHJ6utI8kIwEfc2bYWoPdp3RBwi4U601gV34ox5/BJgzgjywg8apaAZwEO3l\n",
       "lIjzBXdaSUwwoHxJsxRvMlKgSwSmllA5A33U7IUlE3gaZ/GnMyKxEuE1C4V2DxO5ByFRA+hHLziS\n",
       "QpY5RM4uxWKxjCA4n1uAZASAq8DUviw5LGR4fc4EXsMZTga+vjecuDZu7hbdEHucgapkYXu6oLsX\n",
       "MFF3gCPTz2YoSGPqlu1JjHiAqUUNXBvQS75ah0YTWBW3lJqTudKWl9vcfujQBybUNqhSFzEDmA+h\n",
       "KbUZOOhMyIaaIuKo+HfBFYV69EweqKRKFpBZDijNfmyBvow4GQDPFXx/ujvaOb0ZKO85UWOooRvg\n",
       "2fvqtNgIN4OFtKDu7YVtN9Yd33BzWyyWLLHjM/VY7sXH7iawoxTQrW8GSmrZRww5d3gZtwI9gRLA\n",
       "XVvONMp/nGmajEfaCqzQqW20yLnUxe8WgfLPpcf/AVLf8vbgrZ1jAAAAAElFTkSuQmCC\n",
       "\" style=\"display:inline;vertical-align:middle;\" /></a><br>"
      ],
      "text/plain": [
       "<IPython.core.display.HTML object>"
      ]
     },
     "metadata": {},
     "output_type": "display_data"
    }
   ],
   "source": [
    "all_in_interval_oc__is__real = Forall(\n",
    "    (a, b),\n",
    "    Forall(x,\n",
    "           InSet(x, Real),\n",
    "           domain=IntervalOC(a, b)),\n",
    "    domain=Real)"
   ]
  },
  {
   "cell_type": "code",
   "execution_count": 52,
   "metadata": {},
   "outputs": [
    {
     "data": {
      "text/html": [
       "<strong id=\"all_in_interval_cc__is__real\"><a class=\"ProveItLink\" href=\"proofs/all_in_interval_cc__is__real/thm_proof.ipynb\">all_in_interval_cc__is__real</a> (conjecture without proof):<br></strong> <a class=\"ProveItLink\" href=\"../__pv_it/theorems/f2ec41c748ae6844f9c5acdc27ab949c705ba06f0/theorem_expr.ipynb\"><img src=\"data:image/png;base64,iVBORw0KGgoAAAANSUhEUgAAAN4AAAAZBAMAAACspI2IAAAAMFBMVEX///+IiIgiIiIQEBB2dnbu\n",
       "7u5ERETMzMzc3NwyMjK6urpmZmaYmJiqqqpUVFQAAAB6qHgnAAAAAXRSTlMAQObYZgAAAAlwSFlz\n",
       "AAAOxAAADsQBlSsOGwAAA1BJREFUSMe1lk9IFFEcx3/jzuzszuxus6FQSYss2J9DsEVYRMJ2KAwU\n",
       "hlAhDBqjphChBSWIIKeUIAJZhaJbG+Qhsli7mCmyHpREpa1b1GGJ9NTBuiSder8348yb1XYm2H6w\n",
       "u/Pm910+773fn/cAvO1r0oCqGJc85EeWharZcnV5oQo+4z/w9m7zbrHp+mhTAeCpySvhzxcPng8R\n",
       "WjS93VttGF4tqMAVKO8tvnrswfMhQju/7VttCIIimfFDyruN26558HyI0Gb+xpMNEpMlygurAHzR\n",
       "g+dDhJZyJf+l5EGHRyYbUJEXIdsa9soXHyIMH5tY0ojqrC/WQfYzXKD5eSSZPOqZn94iYjJJFyG+\n",
       "2t+Gg/sqs583PpFq4EuUNwlwxZNXLmpiOs5CyXrABciQUF67s0sbHP1ZR34jWcobhtDmH0B8ZD18\n",
       "PDs7wvJYEZo9uKk5gxoS4XfwXv3uLlptaJkmbjRFeUGVz9m+bwhN6DmOh5Y0w2NE6HZ4sbTDCxBJ\n",
       "BqZMFYlAcp/FC17A2hPXKS+qMJlwjHymMyS5OJhXGB4jQrfDC2TcPIDD9FnQmPWJeQyGZK4PsnPk\n",
       "q32uBafwI6HSPkB4dXm2n1FR/E29Qd0EIbTWYgwH4quu/QRpAzpw0MDW3+Q93M8Gk9dGCl84IG4g\n",
       "ppHLd9Li4UPdBZaHIs5YCxc7rfidMwaQt1Ott3lBBYSeWApoIOIsrxNnGdFM3iDRy3kRizVYiGTH\n",
       "KU++rLn6NYoi0C3CuMWbhj586IVFm0cSPvqrKyXRxhC224P2gNRvj1kuyItlcOu5Eo2GXFrUdb3I\n",
       "cfxLFw9FAGQPqJsgTkDCDPiszRMbQJhQPq+YAVwbs8+Ha6A/KUJNzjmPLhrBeVKgOyBQ7Kfr46Rn\n",
       "6pbzSEyFoN9cn7ABvRindWh2kmc/WzLSGaufbdpd5vwLGAPjajvUqAsk9Wn84HS+nDfIZ2XTTRDH\n",
       "xd/zQhoaSVRs3pJnN9/kSTMfWqGvKE4oELpKxs93p7umynnynlN1ppsgXqzUFsRmuBVniiNY6Z5D\n",
       "zxf3+W6GuF3XcxXOd+q2EFF3sxEqHVl0Mi6epPq+T1iIMTcP7lTg7dpyf4nAv/IKZbzq3M9Gt94/\n",
       "dfZ8UPzfP0/+AfMl+QxeGY0kAAAAAElFTkSuQmCC\n",
       "\" style=\"display:inline;vertical-align:middle;\" /></a><br>"
      ],
      "text/plain": [
       "<IPython.core.display.HTML object>"
      ]
     },
     "metadata": {},
     "output_type": "display_data"
    }
   ],
   "source": [
    "all_in_interval_cc__is__real = Forall(\n",
    "    (a, b),\n",
    "    Forall(x,\n",
    "           InSet(x, Real),\n",
    "           domain=IntervalCC(a, b)),\n",
    "    domain=Real)"
   ]
  },
  {
   "cell_type": "markdown",
   "metadata": {},
   "source": [
    "***Real Intervals are Subsets of the Real number set***"
   ]
  },
  {
   "cell_type": "code",
   "execution_count": 53,
   "metadata": {},
   "outputs": [
    {
     "data": {
      "text/html": [
       "<strong id=\"interval_oo_within_Real\"><a class=\"ProveItLink\" href=\"proofs/interval_oo_within_Real/thm_proof.ipynb\">interval_oo_within_Real</a> (conjecture without proof):<br></strong> <a class=\"ProveItLink\" href=\"../__pv_it/theorems/87672b2049a33ea238d70947e03e768f0886ef540/theorem_expr.ipynb\"><img src=\"data:image/png;base64,iVBORw0KGgoAAAANSUhEUgAAAKgAAAAWBAMAAACmpcqCAAAAMFBMVEX///+IiIgiIiIQEBB2dnbu\n",
       "7u5ERETMzMzc3NwyMjK6urpmZmaYmJiqqqpUVFQAAAB6qHgnAAAAAXRSTlMAQObYZgAAAAlwSFlz\n",
       "AAAOxAAADsQBlSsOGwAAAtZJREFUOMutVUtoE1EUPZNkZpJM0o4LtYKUGCmKIoooorgIglihllmU\n",
       "bgSTqh0rKAR1oQjtoOCyRKQiUiTSboRKIwj+iqaLFooFx6oLwUWEulAU6qJiF4L3fSbJ1Gbowgtn\n",
       "ct+dl3Pf/b0BViGOxHLbihLFqkRxBXxyf/muxC17afM5IG4CFWb4FEj6XsIT9VSKvJSXb9Oilfj3\n",
       "XmAj8Jyt7wRxqgWBmsRK9Bj6lzSDXD+9tdDP0pALIjXKAjVpZrl4vRLp0xjlocR4EXGDSMMSNRm3\n",
       "mMkSi3XpdHpLlVQjZS8SdIZYYEo/StTkEM+BOPyV9vqTfjlByjCwO53eE0j6WCI632IKy701Pyg8\n",
       "XmJ1a334+nlWnU7gCdAbSDosMeJoi6JyS1bWQYLXrqlYR7p/5yaWkxlgENGKZ9dvS2Xu6MubnnGH\n",
       "gHoQRoobkosIm0ju4kmoL1THFHf0jnQrUvM2z5hb7aISQXtG2g4IGAsICZNRQHMG+gLT+33V751l\n",
       "ygD5Neu87SO8yFNrK5gy/aThHLLCO3GPu4jzkw76SK9qLPwRQmGSHl2TrIr6z1aLjwqRri35w8+a\n",
       "eFNt01cWkjwXIR+pcZl1/Bzh2BArov6bcbUppW4+7pFoj9fvPQJZF1+TjspI85RfJHLeZNRI1RzN\n",
       "KKYJ16lORkln0WjlRGGMkxqnq1PWKaCZye0GslSKprJGURgiwXfrSEuY1Yqi/5ooh+GiwlognDcq\n",
       "M7Ztu4oSeehtviCgfj4yuB6hNtLmJ1jgIsHd36zqLfXL0c7+AbbJP2YdbYpeNiPsXuInVeKjcjNC\n",
       "eQEhHzzlmvwdPSnHtHqhprz5dgbGrC6ErGnwAlJLHfYKRRcEhxCv0TARdAFxiU+87cBFV39kInqG\n",
       "1g82ZI4/83b1SfBp8hqt8c12w78Ul1WXbRd95m4JnpdqWRp+T/p8q7jV4KtjCvikpeHHx+8tgf8k\n",
       "fwE256J/kOpsSAAAAABJRU5ErkJggg==\n",
       "\" style=\"display:inline;vertical-align:middle;\" /></a><br>"
      ],
      "text/plain": [
       "<IPython.core.display.HTML object>"
      ]
     },
     "metadata": {},
     "output_type": "display_data"
    }
   ],
   "source": [
    "interval_oo_within_Real = Forall(\n",
    "    (a, b),\n",
    "    ProperSubset(IntervalOO(a, b), Real),\n",
    "    domain=Real)"
   ]
  },
  {
   "cell_type": "code",
   "execution_count": 54,
   "metadata": {},
   "outputs": [
    {
     "data": {
      "text/html": [
       "<strong id=\"interval_oc_within_Real\"><a class=\"ProveItLink\" href=\"proofs/interval_oc_within_Real/thm_proof.ipynb\">interval_oc_within_Real</a> (conjecture without proof):<br></strong> <a class=\"ProveItLink\" href=\"../__pv_it/theorems/c1d01f8def18b6f32baefdc4a734a7c4b5ed6dfa0/theorem_expr.ipynb\"><img src=\"data:image/png;base64,iVBORw0KGgoAAAANSUhEUgAAAKUAAAAWBAMAAABTW0EyAAAAMFBMVEX///+IiIgiIiIQEBB2dnbu\n",
       "7u5ERETMzMzc3NwyMjK6urpmZmaYmJiqqqpUVFQAAAB6qHgnAAAAAXRSTlMAQObYZgAAAAlwSFlz\n",
       "AAAOxAAADsQBlSsOGwAAArpJREFUOMutlU9o01Acx39JmqRt0jYepvMyRmQoiCAiE8RDEcQJKjnU\n",
       "giik8082vFhUBC8zOPEilDqYiIhW3EWYLoIw1KLdYYOhYBQ9DDxM6EVBmMJAb/5e3su/uWY7+INv\n",
       "+/718977/XkFWIfZTBHj9GrnteswzqWKWaoR78/3nx/rbwE8xPYiGfiSyPzE5Jt4uvdfJlRq8HTO\n",
       "AA65L0n/ThJSrFOFlnFWY14HScYTjgOMYDddSWIqLarQCu7qTMXGrd/ingbOu0lMgSm0KSNkbtR1\n",
       "fWvAxMMJBqh4gkyiOxeYQtsfxujKQOSc+WN49wwCd+n67kTmc6Z0u1ujI/c3/GBMcVv07pcXMJNS\n",
       "yJ0GOJvIvMf0yJaWadD+GKZNmfnQq5XRsV9d+K2iT2uQXvTH5dus8fHQ61v+4A4qcR8ovd5AbhkE\n",
       "jTIz0Ri9O+7N7gSQjEgI2wTcYzW4FAwU2dheKmUJeDqk1KFQpD8aiTKlkyQ75CXkapHN9qBeYdVx\n",
       "HMxqcaZQAZNujugplzJrUabsECdm8ZxQn8GP0gwJoPyzxyCFQJhdTvzupgbvg/R8wy7Hx/Jz+ga5\n",
       "O3HQkXESP/k3QfVxTtkr8VR60E/zQSrThW85WyTMKvqWMiO1gMwyOY9KCmgUQ6Q4Mjmy1FLrkx5T\n",
       "ORPU1lEqScttV8DEqOZbkuPn592QeRNz/RyiiNPz6D+hwZHgC1Vlcd6yLJfjUk/8xReoxK8Ha5uA\n",
       "78NWuxnkfPm7EbxLw2A9cIH3I27a0ixOFkBwL3nn5LITbDHwVSpqn1e8dROnWG36di2oafvqpFEC\n",
       "3pjD3PL8CQf8GKkOFbVih/czsKbfyDY/HIaLrvxMg/QQ9h9vLp544U8OM3k1pK3BXPnG0eepZFnx\n",
       "9WUmzymwBlOK/3lkjQ5ba1Sx/5MtHZjd8a4K/8f+AlWdsDso9xeZAAAAAElFTkSuQmCC\n",
       "\" style=\"display:inline;vertical-align:middle;\" /></a><br>"
      ],
      "text/plain": [
       "<IPython.core.display.HTML object>"
      ]
     },
     "metadata": {},
     "output_type": "display_data"
    }
   ],
   "source": [
    "interval_oc_within_Real = Forall(\n",
    "    (a, b),\n",
    "    ProperSubset(IntervalOC(a, b), Real),\n",
    "    domain=Real)"
   ]
  },
  {
   "cell_type": "code",
   "execution_count": 55,
   "metadata": {},
   "outputs": [
    {
     "data": {
      "text/html": [
       "<strong id=\"interval_co_within_Real\"><a class=\"ProveItLink\" href=\"proofs/interval_co_within_Real/thm_proof.ipynb\">interval_co_within_Real</a> (conjecture without proof):<br></strong> <a class=\"ProveItLink\" href=\"../__pv_it/theorems/bd4dbd370951054345824ed4fc0f273bb31254110/theorem_expr.ipynb\"><img src=\"data:image/png;base64,iVBORw0KGgoAAAANSUhEUgAAAKUAAAAWBAMAAABTW0EyAAAAMFBMVEX///+IiIgiIiIQEBB2dnbu\n",
       "7u5ERETMzMzc3NwyMjK6urpmZmaYmJiqqqpUVFQAAAB6qHgnAAAAAXRSTlMAQObYZgAAAAlwSFlz\n",
       "AAAOxAAADsQBlSsOGwAAAsBJREFUOMutlU9o01Acx39pmqRtkjYK03kZozAmiCAiE8RDGYhTVN6h\n",
       "FkShnX/i8GJREbzM4MSLUOJgIiJacRdhugrCUIt2hw2GglH0MPBQoRcFYQoDvfn+5DV/ZsIOBpK8\n",
       "9/s+Pu/9/iUA67gs2Di4xhS5dl2X4MDBsO1h2LA0dH5yqMWENjF8iWV+ggBTOtWP92mFV1Vq8HQR\n",
       "UeElmd+JQ0p2kAnpBn5MrWFeB1lpU2EcT1OVOKbaCjFzDn68/QdTtWwqpBFA0oljihBiziJiRWyy\n",
       "KZ/PD3aZFSpo+BTp2HAuh5nDNAAsoFdGfOfMHm0zYWc+vyuW+ZwxU51egxnub/iBfaPJlbb6fb+8\n",
       "bDFhDuBMLPMeYz6y5FWWsz+obIFmk3G27jEnJn/14DcRapBqc7ty2x18PPD6Fjdup0xpL6j9dK6v\n",
       "gmiAvoNGwJ+jd8eojAUZJb3NOgTcZ9aFJIwUXNseylRXIMEsqg25AigrZDzuZ8onSIyJoBu+zXbj\n",
       "+1UVl7QAC0aAKVagzPbG6FkHMvScNT9TaZAgUsGex4/iPEmg8rMP0Q7BzJ5GwPeyAe+75fkGgU4D\n",
       "kQjU59wN4jsRDk+R/Cm/CWpAaJRoiydTo7z7RhnTgW+6JRFmFccWtArvB49ZIuehwgROkdpQyJHl\n",
       "lmbPUKZ6uttbRyhTNvRtKpRxUrMtGbugsuDe9Zg3ca2fc4Usjp9YF0jyxaraXjJN0xGE5BO++ALL\n",
       "+9f9tc2QGMA+dZrEaxbc0nfU/S6NgfnA4QJA2ZIXsJgD0blEzylkpt3FkKj6+ugzH1xz39Mn3d4M\n",
       "CyBaV2dQERJoEdcWjSfs4znSGj4mLzBoRrVIV8g0PxyCi47yzIDUWTx/vKVw/AUXxzymxAss8lMW\n",
       "FtjnqWia9YC55DEFbpOj/hEhIYMitjZgOPw/6o1yPSRo8H+uvxUOqkrNbLvzAAAAAElFTkSuQmCC\n",
       "\" style=\"display:inline;vertical-align:middle;\" /></a><br>"
      ],
      "text/plain": [
       "<IPython.core.display.HTML object>"
      ]
     },
     "metadata": {},
     "output_type": "display_data"
    }
   ],
   "source": [
    "interval_co_within_Real = Forall(\n",
    "    (a, b),\n",
    "    ProperSubset(IntervalCO(a, b), Real),\n",
    "    domain=Real)"
   ]
  },
  {
   "cell_type": "code",
   "execution_count": 56,
   "metadata": {},
   "outputs": [
    {
     "data": {
      "text/html": [
       "<strong id=\"interval_cc_within_Real\"><a class=\"ProveItLink\" href=\"proofs/interval_cc_within_Real/thm_proof.ipynb\">interval_cc_within_Real</a> (conjecture without proof):<br></strong> <a class=\"ProveItLink\" href=\"../__pv_it/theorems/f2790eb9f980e50941613669ba83d33ba998b8a40/theorem_expr.ipynb\"><img src=\"data:image/png;base64,iVBORw0KGgoAAAANSUhEUgAAAKMAAAAWBAMAAABeRTF1AAAAMFBMVEX///+IiIgiIiIQEBB2dnbu\n",
       "7u5ERETMzMzc3NwyMjK6urpmZmaYmJiqqqpUVFQAAAB6qHgnAAAAAXRSTlMAQObYZgAAAAlwSFlz\n",
       "AAAOxAAADsQBlSsOGwAAArpJREFUOMutlU9o01AYwL/XNEnb9E8UhvMySmUoiDBEJoiHMlCnqASp\n",
       "BVFo5584PGhR8ajBiReh1KHiQbSiHoTpIghDLdodNhgKRtHDwEOFXhSEKQz05vfykjQvrtkOPmib\n",
       "73uvv+//C8AKlgGr1/Makqt0O7qiRSzYE9RF67w8N3hmfLAJcB+fW1TxJRT5CTikeCz7LxLKVXg6\n",
       "qwFB7Esq3w4jijUeCXFzKeQVkGT07ybARRRj5TCk0gwgM9bSSMVA42/RpIb7VhhSgAByUvOQ5Ggu\n",
       "xyplI9E1QYMk+hAPTeV8EDnklUe+Yfi8TB/EwOPI25zLbQlFPmfIWLtXZYq7q344yAOGP/AL8yhG\n",
       "ETsFcCIUeYchHxjSIivXH61kMOR3Xy7Hxn/14G8S81mFWMvVy7ech4+7X193lZtspLgdlKwtpxZB\n",
       "UBmy5i/Pu0P27gCApPmq16bcPr1OojCcd3TbbKSyABGmUWqQydv/kVt+pHSkSXULiFV91dmKn1dY\n",
       "QUJgRuWQQhlKzDSSJy0bGeOQskkTmBig3k/jV2F6mJr42afR/qfIHpMLvKTCe68t3ziRZbm+nLpK\n",
       "A6e6fdjw4gb5NyX1E7No91s0NtJ0Do8wpAXfUoZIkRXMK0M2OGSRepOkYzOG7iumTB2WmsnahI1U\n",
       "jnsTtd9GSmpqowIlLEi6KZkOMt6pQvkatvgpJNGEpzF3Qp3QvAgVpTWn67pFSPSJe/gsq/jXXdU1\n",
       "EOnHiNoNt9XF0486N9Eo6PcsiLhWSoY0g2OWAcE6b3tJEg81Zy9S8U3PZ/5yS+x0B9Jdl705Ni5N\n",
       "aAWIaLPYVHYuYYdbnqTpQ+a73Jfe8tKbaHzYC+cs+ZkKsZMoP16bP/zC3RztIEV1GWTwUmMXUkHX\n",
       "+fPFDpLAMkiJf1MktC6WVRgKvnvWdUH28mIS/sv6C9htry33nE2ZAAAAAElFTkSuQmCC\n",
       "\" style=\"display:inline;vertical-align:middle;\" /></a><br>"
      ],
      "text/plain": [
       "<IPython.core.display.HTML object>"
      ]
     },
     "metadata": {},
     "output_type": "display_data"
    }
   ],
   "source": [
    "interval_cc_within_Real = Forall(\n",
    "    (a, b),\n",
    "    ProperSubset(IntervalCC(a, b), Real),\n",
    "    domain=Real)"
   ]
  },
  {
   "cell_type": "markdown",
   "metadata": {},
   "source": [
    "***Upper and Lower Bounds on Real Intervals***"
   ]
  },
  {
   "cell_type": "code",
   "execution_count": 57,
   "metadata": {},
   "outputs": [
    {
     "data": {
      "text/html": [
       "<strong id=\"interval_oo_lower_bound\"><a class=\"ProveItLink\" href=\"proofs/interval_oo_lower_bound/thm_proof.ipynb\">interval_oo_lower_bound</a> (conjecture without proof):<br></strong> <a class=\"ProveItLink\" href=\"../__pv_it/theorems/db627688e89997b259763741136c8303b479e1a40/theorem_expr.ipynb\"><img src=\"data:image/png;base64,iVBORw0KGgoAAAANSUhEUgAAAOAAAAAZBAMAAADanj8DAAAAMFBMVEX///+IiIgiIiIQEBB2dnbu\n",
       "7u5ERETMzMzc3NwyMjK6urpmZmaYmJiqqqpUVFQAAAB6qHgnAAAAAXRSTlMAQObYZgAAAAlwSFlz\n",
       "AAAOxAAADsQBlSsOGwAAA1FJREFUSMetll9IU2EUwM/ddne33d11F0qWMHQkBBasCIpQWA+SgcYt\n",
       "zBchJ9SS8EHSlwjyko+BrKDooWCRPUQGM4I0Ra4PRlLiih6MelihQdCDPUTSU+c7n3f7NnN3wQ7s\n",
       "3u/cc779vu+c8/0BcJavUROqI1L0QCVuKaievK020HQwVRsoZbe3PeDAHHt9dgBW4MTlQ7nBWAR8\n",
       "ydp3HYAVOJHIZYNxm4DX8OlLOAArcCJRrXLWNwT0GwCerAOwAicSd+kHTQyL22DAIA7K71Q0FTiR\n",
       "fCzRg82GoPktqtJD0ehhxyp1diJ5zkK/WqfbZbKX8+Tw2nAnxihHwBcAFxyBW5xWxPLLt+7h76Hp\n",
       "/cW1rkY7tRDRn+F8UwQcA1/O7qDc2Wy8Pzl3UwSKThSrtN26grWUsRXcuOQWUBtIubHf/vwalo0f\n",
       "mNAYAb2GJ98bVhk1kkxLHmiPC0DBiZnhXL5HCN3GbeUYzmYdXNQzdD/vMwjT1HOdgJoulMMR/M0M\n",
       "YpQkWNAFoODEzHxh8tJD1W8UgO4E9KZLgAAH2SPAZwipeRbv+XY2hp8RgzYEBNZmxK2NnMJT9SaZ\n",
       "AYMmd9Sw3XEkvFZYMRjSXh2WoSSkENiAszjqBg7sxB1A3qdsME6TlOmmOvD4+iwRyJwk85s/S2Yf\n",
       "fjpjjjDgTqMeNHtsfQjMwnfNLCoa+VIoBhjmYIIDR7Ec1IyC8wWvFUxNEFA9nyjavJlTEPoUIHMA\n",
       "jTMwxJoDsEgqySn8C11rVjfV040Ua+13TyyAQVDjHBjCLLjTUo4SouYWk8lkVpI8T4uAzAkAo0Bm\n",
       "LcfyFeFZnwPFBl7G6Xw5MbYrX8y0EOVJ/dMSvl3pwvHUa3oX0LYD3NlhmqEUGDe2HE9KzAdkRoK8\n",
       "AQOYF1iH1kJIXYOlW424tV0XzkO3OTJhdIHLeIUrgHIIbZlS4KgnpXIzK5qjyp8FOQ5NmBnJLuhg\n",
       "ptwGMisAA7PvOmAoq0zq4LuI+uPd8Z7pUqC653gtN0M/wJOlGktphathzFv+nO8vw6PjpvjE59Xd\n",
       "lUymy5z4ZLaXukbP7ryxuwyQhlUEDBgVXzHUzTk9oudUYRb69sC6LXea4H/cadr4yyreWKt0a7v1\n",
       "j3upvE3b6V7a8hdTx9Uw0FSVvgAAAABJRU5ErkJggg==\n",
       "\" style=\"display:inline;vertical-align:middle;\" /></a><br>"
      ],
      "text/plain": [
       "<IPython.core.display.HTML object>"
      ]
     },
     "metadata": {},
     "output_type": "display_data"
    }
   ],
   "source": [
    "interval_oo_lower_bound = Forall(\n",
    "    (a, b),\n",
    "    Forall(x,\n",
    "           Less(a, x),\n",
    "           domain=IntervalOO(a, b)),\n",
    "    domain=Real)"
   ]
  },
  {
   "cell_type": "code",
   "execution_count": 58,
   "metadata": {},
   "outputs": [
    {
     "data": {
      "text/html": [
       "<strong id=\"interval_oo_upper_bound\"><a class=\"ProveItLink\" href=\"proofs/interval_oo_upper_bound/thm_proof.ipynb\">interval_oo_upper_bound</a> (conjecture without proof):<br></strong> <a class=\"ProveItLink\" href=\"../__pv_it/theorems/f0f15fee79412e5fe58eb836cf2f503b69328f4c0/theorem_expr.ipynb\"><img src=\"data:image/png;base64,iVBORw0KGgoAAAANSUhEUgAAAN4AAAAZBAMAAACspI2IAAAAMFBMVEX///+IiIgiIiIQEBB2dnbu\n",
       "7u5ERETMzMzc3NwyMjK6urpmZmaYmJiqqqpUVFQAAAB6qHgnAAAAAXRSTlMAQObYZgAAAAlwSFlz\n",
       "AAAOxAAADsQBlSsOGwAAA1pJREFUSMetlk1oE0EUx982u9lNdrdJSgtqIZSA4EUoIijSQiwWKlRZ\n",
       "pcZDwbaosYceitWDCHaxd4mC4kEkQj2ILV2/sNpQt4UKRYUoHhQEo1bBg1APherJN2+yySZpuhEy\n",
       "sLsz817ym3nvPx8A3uVrzIS6FCG2sxa3FNStvK43z9zcUm+ekK1qusN5Ofb55MGrwYmX9xv2Sifb\n",
       "cCg28Z6zjpsevBqc+B9XCUXAwtd14l3CtzLowavBiYpqb9wfYmF+RbyAASBmPXg1OFHxVfR8JJnM\n",
       "GMxoMJ6GQwp46aUGJ/7v5R2LT+jTRUG1SZ+7YrHdnvr0dqLyGJ8j0eMHnFA0dfPv7cgvDFCOeE8B\n",
       "TnvyKpw+uBdBoXYLH0v4orZx9XSF8zL6YwyYoKWIdwWUnOMv38hX3h2cv+rmuZ1Y0dJO7QLKyHIa\n",
       "uF1pprbWSLJRHjrq0dfAFwa9nXh+Qyz8GFYYNJpMCyL0xF08lxMzw4nCLxrRbdJp7EMzqPlF8bMg\n",
       "MOwJxUFeJZ4edilhDz5zoxgiAZbCLp7LiZn5guSSxCaTr8MDNpUyXkMcZrIQ5POD1AK++hZ62Nh/\n",
       "Rw3aB5DXYrn3M3KKzLaaZAZMkNTbzLQ+HvleXCq0/c+YklEaT1x+LwzQ2zjvEC58aYe8zjDbBStB\n",
       "EhCVIdvNY06C+SOQJbOCXUfNccZrMlpBd4Y2BJBIfwMRSvUSGpU6MLODnDeBSlAtGWcLfltLTRFP\n",
       "PTVYsl8zJw2GZCBzEI1zMMaqI7BMTSqHAT6ffwTTzvbW1MJzbPtxRGqc8xoxA760kKNkqLnlZDKZ\n",
       "FQRxuoTHnAAwBmTWcyxXUZ7xeZAd3lmA/oieKe5Ei7QApZUMy2K6eB4NmP4lDHoIfNlzND8hOGlU\n",
       "nEdyuwJkRoC0DiPHsLoKncV4NoyWr93l4oF42XX++czxKaMPGoyXKH3KH3Rb5bwJMaVyM9PLXvnv\n",
       "khSH7ZgWwZGyZm2ybWRcvGDmbS+MZeUHYVDOYPve1nj/s3Keum1/CzfDMMD9N8223AkXI5j2wiSG\n",
       "q+PofCk933nc+5LJ9CbnO5mdFa7TO1EwJqrzaFAlvKBR831Czc/oLr1ni5MIV+Vtqbi/aP9xf8lv\n",
       "/HbpZlqf+9m1De6fUpW6x/2z4x/Rnd/6JvKRPgAAAABJRU5ErkJggg==\n",
       "\" style=\"display:inline;vertical-align:middle;\" /></a><br>"
      ],
      "text/plain": [
       "<IPython.core.display.HTML object>"
      ]
     },
     "metadata": {},
     "output_type": "display_data"
    }
   ],
   "source": [
    "interval_oo_upper_bound = Forall(\n",
    "    (a, b),\n",
    "    Forall(x,\n",
    "           Less(x, b),\n",
    "           domain=IntervalOO(a, b)),\n",
    "    domain=Real)"
   ]
  },
  {
   "cell_type": "code",
   "execution_count": 59,
   "metadata": {},
   "outputs": [
    {
     "data": {
      "text/html": [
       "<strong id=\"interval_co_lower_bound\"><a class=\"ProveItLink\" href=\"proofs/interval_co_lower_bound/thm_proof.ipynb\">interval_co_lower_bound</a> (conjecture without proof):<br></strong> <a class=\"ProveItLink\" href=\"../__pv_it/theorems/a990fe4e5fda8cff616ca8555b4e5caff9fc79c50/theorem_expr.ipynb\"><img src=\"data:image/png;base64,iVBORw0KGgoAAAANSUhEUgAAAN4AAAAZBAMAAACspI2IAAAAMFBMVEX///+IiIgiIiIQEBB2dnbu\n",
       "7u5ERETMzMzc3NwyMjK6urpmZmaYmJiqqqpUVFQAAAB6qHgnAAAAAXRSTlMAQObYZgAAAAlwSFlz\n",
       "AAAOxAAADsQBlSsOGwAAA0dJREFUSMetlk9o01AYwL+0TdM2aU1lw+mgzOJQmEIVURkb1IM4YZMw\n",
       "Zi8D14FWkR2G20UEF9xRGFXwz0Eh4jyIEzoR3NwY3WHi0GEUL6KHKpsgeJgHcXjyey9N8tKyJoN+\n",
       "0Jf38n3p731/3h8Ad/meVKEuwiUPeDHLQ93kXZ15qouqzjxO31z30OCVyOOrC8+DEZVPteZSpLxX\n",
       "pH/PhefBiAhfGYko+81tyruGbSjrwvNgREQsOsdSm8KM3lJeGF8FdBeeByMi/ooI7lEcWoXwJJxT\n",
       "2K1ePBgR+ewY9e12asNFWp+HksnDrvXpbkTkBQn7apNMB/37rbTG10Z7MEAlynsJcN6VV2l0hFlo\n",
       "nNW7j79HavAP6Z99YKcVEvJzzGae8iYgVDI1wp1y5+OphZssjzUiYg2uYBUVzAHuVnwHiC2kH7N5\n",
       "b+C98guLNUV5QSWgWapVAk3kNC4AXWmGxxgRtc2LodWkOWhHX9bBZ3x4w4rnMMzSD9cpLyozlXAU\n",
       "f3PDGCMOlmSGxxgRtc3z4yis2Dx/Fga0qno5SJqI4R/kF4lysYtM4XdCofsA8hoL7H5GjeIzzSpV\n",
       "I4/vbiA5HIuv2SsF4zkgw/uq9RDZgDM45xaD14MLn98nbBCLVq6QoaaB0GCR5REjTv0R1jPl/PWq\n",
       "Y4S3XWmGqDmzQeTp8DOqOtY7fymWAoyxlDV44xgcsSCgtxAsSvkpyhPPZR37NTGSYFCAqTJvDkZI\n",
       "ZwiWIWKansZ/kKNtor2f3SXN3/5UBEMgpg1eDFPg17gSzYZYWs7lcjrHBZ45eMQIAGNA1chrh4SR\n",
       "8AUQTN5ldObbyYkdFbvqtPxlBZ8+zT6PBtTgEvq+Dfz6KPWPi0wqVeeRkArBqOEfvwFDmBNYh047\n",
       "nr7hWsv4OnP++dWxKaUPfMprLH2aPzhRqOSNB/KioUb/jgn/lvg0tGJWOLOSpUIt3jzDi8x/6IYR\n",
       "XZiWIXQBx092pvtnK3niruONhhp5T1caikInXI1jzqzN5qL9771JInvtF/R8cZ7vRl335XJajfOd\n",
       "qsvrL0rbjKXL1HCPzsrBiyie7xNl3mPaztg+yJvzmqruLxJslUeXqKTV+X52q/r+mWPe8Fu4f3b8\n",
       "B7s23BaRcJ0FAAAAAElFTkSuQmCC\n",
       "\" style=\"display:inline;vertical-align:middle;\" /></a><br>"
      ],
      "text/plain": [
       "<IPython.core.display.HTML object>"
      ]
     },
     "metadata": {},
     "output_type": "display_data"
    }
   ],
   "source": [
    "interval_co_lower_bound = Forall(\n",
    "    (a, b),\n",
    "    Forall(x,\n",
    "           LessEq(a, x),\n",
    "           domain=IntervalCO(a, b)),\n",
    "    domain=Real)"
   ]
  },
  {
   "cell_type": "code",
   "execution_count": 60,
   "metadata": {},
   "outputs": [
    {
     "data": {
      "text/html": [
       "<strong id=\"interval_co_upper_bound\"><a class=\"ProveItLink\" href=\"proofs/interval_co_upper_bound/thm_proof.ipynb\">interval_co_upper_bound</a> (conjecture without proof):<br></strong> <a class=\"ProveItLink\" href=\"../__pv_it/theorems/c7d9fc38e94b05a13eecca9f4484c4aa351b3f6b0/theorem_expr.ipynb\"><img src=\"data:image/png;base64,iVBORw0KGgoAAAANSUhEUgAAANwAAAAZBAMAAACoUV21AAAAMFBMVEX///+IiIgiIiIQEBB2dnbu\n",
       "7u5ERETMzMzc3NwyMjK6urpmZmaYmJiqqqpUVFQAAAB6qHgnAAAAAXRSTlMAQObYZgAAAAlwSFlz\n",
       "AAAOxAAADsQBlSsOGwAAA01JREFUSMetlk9o01AYwL+sSdM2ydqODdRBGYWBF2GIqIwJdTiYMCXK\n",
       "rIcdtqFWDzsMNw8iuODuUgXFg0iFeRA3Fv/hdGVmgwlDhSpeBMGqU/AgzMNgevJ7X5ImbdclQj/I\n",
       "S977PvJ77/vz3gPwlq9JDeohXHKXH7Ms1Eve1Bmnba2pM44r1FTdNXFF9vrkgfNhRPJh01HhVBvO\n",
       "xCDcCzZwywPnw4j+W8MPYR2bG4S7jG1oyAPnw4iJZGw+HmU+fk24sArAFzxwPoyYBKpGPlKGzKpM\n",
       "qTKcjDMKe6WKDyP6eeXA0lN6dZNHDcrM3cnkHs/M9DZi8gSfY4mTh2w/NPWY7zvxX+idIuGeAZzx\n",
       "xFUa7XUVGFf6uo2Pzn2R2szE6Y5ZGfRHHdRAzhLuKoSKtr140/p4f3jhmhvnNmJS6lzEBNLtDu5R\n",
       "siavN1LGhB7ZiaOsQyAGSgfhgiqfK/1mlTETmRzHQ2/KhXMZMbWDa0SrKbvTiVqQrGr4WUotHImm\n",
       "QFwjnBJzJcE+fOZH0UEcLMdcOJcRUzu4APZY3to4YAupwDWkYLYAEXN1kF3Epn+xl838d0Kl8kdc\n",
       "i+7exMgoPteqkRpxQl8zi99E/LtTIrThz2qCWu5MLLuXKihtJu4I1ruwU9xglHZOT1P4+dCw4cYx\n",
       "I077ES6krdgd1yYYrkltBcWe2DBAOvcNeChPleio0IVRHTJxk+gZSRdxrRA05Ow04aTTQ2VbNDOS\n",
       "YViEaQs3D2PsYwRWIGKbHgX4fOExzNh7WlOLGV8jiBOSUiauEd0fyHFFioRUXMlkMgWO42fKcMwI\n",
       "AD1AasR1QsIM9gKINu48wEBcyTvbzxIVnrCaZxHMOQfQoBZcRo9HIVAYp9VxkSm16gASO0Iwbq5O\n",
       "2ICRE/ixBgccZzaMVpbsilOfV1znXUCbmFb7oUF9hTlPsYMevRI3yWclU42r2y/+XRZS0I4h4ewc\n",
       "lvUtNou8CxfJv+uDsYL4MAahs9i/vz018LwSJ+042GKqEffgbbMhHoBLcYx4aQnnatPoQCk/zU2n\n",
       "92cyuS1Oc1JbdadQmy7p0rVxNKcyXET1fXmwcPeonXOWEKuJ21Z1V5Hhf3FUmnKuvjex69X3zIxr\n",
       "RPB/z+z6B59X5eMcJOifAAAAAElFTkSuQmCC\n",
       "\" style=\"display:inline;vertical-align:middle;\" /></a><br>"
      ],
      "text/plain": [
       "<IPython.core.display.HTML object>"
      ]
     },
     "metadata": {},
     "output_type": "display_data"
    }
   ],
   "source": [
    "interval_co_upper_bound = Forall(\n",
    "    (a, b),\n",
    "    Forall(x,\n",
    "           Less(x, b),\n",
    "           domain=IntervalCO(a, b)),\n",
    "    domain=Real)"
   ]
  },
  {
   "cell_type": "code",
   "execution_count": 61,
   "metadata": {},
   "outputs": [
    {
     "data": {
      "text/html": [
       "<strong id=\"interval_oc_lower_bound\"><a class=\"ProveItLink\" href=\"proofs/interval_oc_lower_bound/thm_proof.ipynb\">interval_oc_lower_bound</a> (conjecture without proof):<br></strong> <a class=\"ProveItLink\" href=\"../__pv_it/theorems/c9848305b2ce2575b85a84858bcf26dc2565544c0/theorem_expr.ipynb\"><img src=\"data:image/png;base64,iVBORw0KGgoAAAANSUhEUgAAAN4AAAAZBAMAAACspI2IAAAAMFBMVEX///+IiIgiIiIQEBB2dnbu\n",
       "7u5ERETMzMzc3NwyMjK6urpmZmaYmJiqqqpUVFQAAAB6qHgnAAAAAXRSTlMAQObYZgAAAAlwSFlz\n",
       "AAAOxAAADsQBlSsOGwAAA0RJREFUSMetlk9o03AUx1/apmmTtqay4XRQtuJAmEIVQZEN6mE4YZMo\n",
       "c5eB60CryA7F7SKCC+4ojCooHhQqzoM4oRNB58boDhsOHaviQdFDlU0QPMyDODz5fi9N9mvmmgh9\n",
       "0OT3y/umn/zee78/AM72Na5DTUyI73Mjy0LN7E2NebqDq8Y8obi1777BK7HbZweeCxHZ+2rfUiDe\n",
       "S9a+48BzIWImVo3ELeJdxWsg5cBzIWKmFKp5XxMvqAH4ig48FyJmXvuDMB8Tr8Z4IfymoFO9uBAx\n",
       "+2jrh1o1rhcsUH0eiMcPOtans4jZMxb2lQbVrJDdBk6Mrg53Y4BKxHsOcM6Rt0n0gWsvlMqNu/h7\n",
       "oPt/Gb2eZjOtEFOf4mizxBuDgKkH6Xa58e747A2ex4soUjmzdRnLyHThaiW2gdJEnet7TckrWNZ+\n",
       "YDITxPNrPutlWGHQWDon+KAzyfE4EXPDGeuNSHKDdwTHsgYeejFyz5JkYIpeXCNeWOUq4RD+pjMY\n",
       "egHmVY7HiZjbmJBG1WUqeN4U9OdsPID97CIb44PsHAv2XCf7hJ8xjdYB5NXn+fWMRNEXjTq5AUMm\n",
       "dtWxJXEkusrHs1+FZbDFE+R1OI3f3GTwunHii3ukdYZpEfK9VFq+wECB5zGRoH8LFskdwEen9BHG\n",
       "2641WrwB5BXhe1ivqBfxYiQBGONQyuCNolzJSzha8BdC2QniKWdTFes1E4VgQAJyy+ichiHWHIRF\n",
       "i3cC/0ENtyrl7slmmg/h330JGRcLJWnwIpgBb04oUTKU0mI6nS4Kgu9JBY+JADAG5A6XWLJiRsZn\n",
       "Ld4lHMyXY2M7rCqmCShOqp+W8O7JbexH/bp/Hn3bwFscpvEJ8ri2aT+SEgEgt5QCcR0GMSmwBu0W\n",
       "z5OxLzD8enaN2/+8+siE1gMebQFLn/IHHXk7b9SXVQw3q5fD0p95MQktmBaTF8pXWzZmOJ4887YL\n",
       "horSpAqB89h/tDPZN2XnKbuO1htuuADweKmuILXDlejGfGCPtzTaXyr3d2MH6Emnc1X2d3KPmxsA\n",
       "XS1ebxWeX7fzZM31eUIpH1QeVvIC6ta8hk3nl9B/nF86jFuhkleb89nNf5w/RX5/UF2fP9v+Ats/\n",
       "2+kbYDHFAAAAAElFTkSuQmCC\n",
       "\" style=\"display:inline;vertical-align:middle;\" /></a><br>"
      ],
      "text/plain": [
       "<IPython.core.display.HTML object>"
      ]
     },
     "metadata": {},
     "output_type": "display_data"
    }
   ],
   "source": [
    "interval_oc_lower_bound = Forall(\n",
    "    (a, b),\n",
    "    Forall(x,\n",
    "           Less(a, x),\n",
    "           domain=IntervalOC(a, b)),\n",
    "    domain=Real)"
   ]
  },
  {
   "cell_type": "code",
   "execution_count": 62,
   "metadata": {},
   "outputs": [
    {
     "data": {
      "text/html": [
       "<strong id=\"interval_oc_upper_bound\"><a class=\"ProveItLink\" href=\"proofs/interval_oc_upper_bound/thm_proof.ipynb\">interval_oc_upper_bound</a> (conjecture without proof):<br></strong> <a class=\"ProveItLink\" href=\"../__pv_it/theorems/4dd791997df393fd8ec5c0cd0a0040d7c217d91e0/theorem_expr.ipynb\"><img src=\"data:image/png;base64,iVBORw0KGgoAAAANSUhEUgAAANwAAAAZBAMAAACoUV21AAAAMFBMVEX///+IiIgiIiIQEBB2dnbu\n",
       "7u5ERETMzMzc3NwyMjK6urpmZmaYmJiqqqpUVFQAAAB6qHgnAAAAAXRSTlMAQObYZgAAAAlwSFlz\n",
       "AAAOxAAADsQBlSsOGwAAA0tJREFUSMetlk1oE0EUx9822ewmu/kqLaiFUAKCF6GIoEgLsVioUGWV\n",
       "Wg8Fm6JGDz0EqwcR7GLvEgXFg0iEehBbGr/wo6FuhRaKClE8KAhGrYIHoR4K1ZNv3iab2U3bXSEP\n",
       "dncy721+O/95b2YA3O1rUodGmJDc7iUsB42y1w3G6Rt7GowTSuu6bpu4Mnt8csF5CCJ7v2aveLwd\n",
       "v8Qg3HPWccMF5yGI/rdOh4+kYbCAt2uEu4h3Oe2C8xDETDEcHS8f0yPKNH5FuKAG4C+54DwEMfM5\n",
       "fjf3mM9pjTk1hlPxi4JuqeIhiKSzS9sdq7S6SVGDMnNHMrnTNTPdg5g9wutQ4ug+0kF8YEl7K/4L\n",
       "1SkT7gnASVdcXdAHrr1QrjRu4lUQvijtjPbTEl/8ow3poOYIdxnkajhI1yuNd/tnr/A4PoiZmq+2\n",
       "zmMGVV24Rqm6uhKhYdVw4RXwxSDcQbiA5rfehSXGTGTygh96UxyOC2JuOGa9EUnVcHvQC0qlGmRL\n",
       "TOyJpkBaJlw4xiXBLrxmsliUAszHOBwXxNxmIZrZmLXhgA3EkSpNKZguQcgcHeTm8NY/18u+/HdC\n",
       "o/JHXGuBX8QoKP60TSc34OyIfS2shsfi33kxMet1UbMXApbdCw3C7SbuANa7uE1aZZStQmGAFj+/\n",
       "PGzwOBYk6D+CJXLL2HVYH2O4Zq3Nwg0DDOS/gd9R5tGs2ImzmjZx4xitFCQcKwQMNTdJOOVE2rZE\n",
       "syAVhiUgdwidMzDKmiOwaOEOAnw+9xCmuEpkykeMACqlpExcBLt8eaFME6GUFzOZTEkQ/FM2HAsC\n",
       "QAXIHS6ziUqYsz1r4c4ADMbDRefyIy4V2QzmaxvQkB6YR8Wj4CudpdEJoQmtbgOSOmQgt5QGcRVG\n",
       "jmBzGbosXFN2g+q9xO13Pn1sUuuHJm0Bc57mDnoKTty4P6eYbpYqu6W/82IKtuKcVHFqYQNckcOF\n",
       "im/7YLQk3Y+BfAp/392cGnzmxClb9raabjgNcO9NiyF1wYV4rRBYt6VgkswaL20o9t3cFL0/k8lv\n",
       "sJuTe6K6YNDdwg2sP7iA7sSFNM+HB6VyKLljx8mxdXGb6s4q6n+cVSo7mWHHNeQkdnWNc6bI7wgx\n",
       "r+fMzn9UwuiRUsLkpwAAAABJRU5ErkJggg==\n",
       "\" style=\"display:inline;vertical-align:middle;\" /></a><br>"
      ],
      "text/plain": [
       "<IPython.core.display.HTML object>"
      ]
     },
     "metadata": {},
     "output_type": "display_data"
    }
   ],
   "source": [
    "interval_oc_upper_bound = Forall(\n",
    "    (a, b),\n",
    "    Forall(x,\n",
    "           LessEq(x, b),\n",
    "           domain=IntervalOC(a, b)),\n",
    "    domain=Real)"
   ]
  },
  {
   "cell_type": "code",
   "execution_count": 63,
   "metadata": {},
   "outputs": [
    {
     "data": {
      "text/html": [
       "<strong id=\"interval_cc_lower_bound\"><a class=\"ProveItLink\" href=\"proofs/interval_cc_lower_bound/thm_proof.ipynb\">interval_cc_lower_bound</a> (conjecture without proof):<br></strong> <a class=\"ProveItLink\" href=\"../__pv_it/theorems/92e60849c9a7e00cec96b162221e6cd130535dbe0/theorem_expr.ipynb\"><img src=\"data:image/png;base64,iVBORw0KGgoAAAANSUhEUgAAANwAAAAZBAMAAACoUV21AAAAMFBMVEX///+IiIgiIiIQEBB2dnbu\n",
       "7u5ERETMzMzc3NwyMjK6urpmZmaYmJiqqqpUVFQAAAB6qHgnAAAAAXRSTlMAQObYZgAAAAlwSFlz\n",
       "AAAOxAAADsQBlSsOGwAAAzFJREFUSMetlk9o01Acx39pm6Zt0prKhtNBmcWhMIUqojI2qAdxwiZh\n",
       "zF0GrgONIjsUt4sILrijMKrgn4NCRT2IEzoRdG6M7LDh0GEUL6KHKpsgeJgHcXjy91665CVlTYT+\n",
       "IMl7+X2Tz3u/3/sH4G3f0hrUw7j0Pj+yAtTL3tYXp3m46ovjjM19901cmTy+eOB8iIh9rNUUneJe\n",
       "kfIdD5wPERrvDkOc/eQmxV3BeyTngfMhQhN1Z11qU5jaG4qL4quQ4YHzIUILusK3S3F4FYKTsElR\n",
       "r6HiQ4T2yVHr2+n0RnU6Mg+k0wc9R6a3CO05CflKk0wrA3utlCZXR3swOmWKewFw1hPnFh1iZthi\n",
       "uVK4i9cDLfyblE/fs1MKKfkZZrJAcRMQ2dCDcKtS+HBi7jqLY0XErMqlnF3BJYrvALGFlBM27jW8\n",
       "U37iMM1QXFgJFS3XCmGm1CIXgq4sg2NExG3jElkb1449WYOA+d01K5h5mKbfrVFcXGYGwWG8ZvI4\n",
       "qjhYkBkcIyJuGxfMO3DBHAwWq4bKfnKLmb2DwjxxzneRFvxKKXT6I66xxC5iVJR82axRNxL47gaS\n",
       "v7HkKhvMQRneVU2E2Dqcwha3mLgenO/8HmGdKFq5Uj+VhiJDOosjIk77HjX6K7nr1cYIbqvSbOGG\n",
       "EGfAj7jmmOb8hUQGMMBSzsSNo1wsCdhXCOtSYZLixDM5xxJNRBIMCTBZwc3ACCkMw5KFO4k/kONt\n",
       "or2I3Sa3PwOZGC4RYtbEJTD8wSJXppkQy0uqqhocF3rqwBERAEaAupHQDikz2XMW7iJ25evxiW2u\n",
       "lXRK/ryMz0DR3oAGtfAC9nwLBI1R2jsu9lCp2oCETARGzd7x6zCMCYE16LRwgXyt2XuV2e+C2tik\n",
       "0gcBZRHHPM0dHCu5ceOhgmi6kXBE+LvAZ6EVU7KBk0q1cLMMLjb7vhtGDGFKhsg5rD/enh2YduPE\n",
       "HUcbTTcSniw36EInXE4ys+K8/fPeNLHd9gu6oTh3c3PN71PVYo3dnLorhLhziemv0bmw5sbFFN+H\n",
       "hwrhkRMXkTfHNVWdVST4X5zuxNXnJHaj+pypsjuC7Puc2fEP14jiz/JwjscAAAAASUVORK5CYII=\n",
       "\" style=\"display:inline;vertical-align:middle;\" /></a><br>"
      ],
      "text/plain": [
       "<IPython.core.display.HTML object>"
      ]
     },
     "metadata": {},
     "output_type": "display_data"
    }
   ],
   "source": [
    "interval_cc_lower_bound = Forall(\n",
    "    (a, b),\n",
    "    Forall(x,\n",
    "           LessEq(a, x),\n",
    "           domain=IntervalCC(a, b)),\n",
    "    domain=Real)"
   ]
  },
  {
   "cell_type": "code",
   "execution_count": 64,
   "metadata": {},
   "outputs": [
    {
     "data": {
      "text/html": [
       "<strong id=\"interval_cc_upper_bound\"><a class=\"ProveItLink\" href=\"proofs/interval_cc_upper_bound/thm_proof.ipynb\">interval_cc_upper_bound</a> (conjecture without proof):<br></strong> <a class=\"ProveItLink\" href=\"../__pv_it/theorems/750096fad9d5149f143e260f54284dc64ce564430/theorem_expr.ipynb\"><img src=\"data:image/png;base64,iVBORw0KGgoAAAANSUhEUgAAANoAAAAZBAMAAAClTy3yAAAAMFBMVEX///+IiIgiIiIQEBB2dnbu\n",
       "7u5ERETMzMzc3NwyMjK6urpmZmaYmJiqqqpUVFQAAAB6qHgnAAAAAXRSTlMAQObYZgAAAAlwSFlz\n",
       "AAAOxAAADsQBlSsOGwAAAzhJREFUSMetlk1o1EAUx1+6yWZ3k/0qLaiFpSwUvAhFRKW0sBYLFapE\n",
       "qeuhh25RVw89LLYeRHCDvcsqKB5EVtCD2NL4hR9daiq0UFSI4kUQXLUKHoR6KFRPvpmk2UnWbiLs\n",
       "gySTeY/88v4zb2YAvO1LWoUmGJfe4SesBE2y182lqY09zaVxxqauWyatSh4fPWg+goi9/2evcLwT\n",
       "f0SntOek47oHzUcQ+WydCB+ogGENb1cp7QLeQzkPmo8gNEl3dbx8TB9xIvArSgsrALzhQfMRhBZw\n",
       "vbcOmM9ZhTgVQpPxh8Jes8RHENHNqWt/wmr1Uzl1Oid3ptO7POekdxDaI7wOp47tpyIID2xdbyZ/\n",
       "ojRVSnsCcNKT5g7azVTWUtVq3MBL4z5LnQT2wxZe+K2MqiCXKO0ShDbCQbxmNd4dmL/M0tggYvbL\n",
       "uVztBRcmWZXXYjSpGi26BoEERLspLajwZfsrKwSZypc5HgYzDI0JIu4aLZap0XrQCZJVBiFbSeyJ\n",
       "Z0BcpbRoghn/PXjNFbAYOVhMMDQmiLhrtEDBQQOShmuWtGRg1oCImRuUFvA2vDBI/vtXSqFVj7R2\n",
       "jV25aFDyaYdK3QgQhtrI2BWT31glcbqrguKsACy3FwpEO03aQSxzYbu4TiBdnJalKx4fGtNZGgni\n",
       "1O9hI2uN2xG1SGitSodNGwPIlr8C76rueEHoxRHNmbQpjJY0ETOFoC6XpilNOpFzrMokSIYxEaYt\n",
       "2hxMkMY4LNu0QwCfzj6EGaYCieoxPYgySRmTFsOuQJmr0lGQqsv5fN7gOH7GQSNBAJg/dSOgB1Lm\n",
       "QM/btDMAI8loxb3mCCsVMnrl2o4zqgYXUe44BIxJmhsXua3U7ThidwgmzdyEdRg/io1V6LNpLYUG\n",
       "RXuR2d8CanFaGYYWZQknOx03GNDctCm+JJluBOwV/ywKGejC8digyVoDWoWhRSpvh2DCEO8nIHQK\n",
       "3+9uzYw8c9OkbfvaTTcC7r1p08U+OJ9kyuE0I1+amp0t3UGce7ep+HA+X26wd1O3BYg6F5bs5qkF\n",
       "VTctovg+KViAO05aKLEpbUvduUSG/6XpTlpTzlxX6s+TeXYPSPg9T/b+BaTh7npLyf6fAAAAAElF\n",
       "TkSuQmCC\n",
       "\" style=\"display:inline;vertical-align:middle;\" /></a><br>"
      ],
      "text/plain": [
       "<IPython.core.display.HTML object>"
      ]
     },
     "metadata": {},
     "output_type": "display_data"
    }
   ],
   "source": [
    "interval_cc_upper_bound = Forall(\n",
    "    (a, b),\n",
    "    Forall(x,\n",
    "           LessEq(x, b),\n",
    "           domain=IntervalCC(a, b)),\n",
    "    domain=Real)"
   ]
  },
  {
   "cell_type": "markdown",
   "metadata": {},
   "source": [
    "***Translating Boundedness to Interval Membership***"
   ]
  },
  {
   "cell_type": "code",
   "execution_count": 65,
   "metadata": {},
   "outputs": [
    {
     "data": {
      "text/html": [
       "<strong id=\"in_IntervalOO\"><a class=\"ProveItLink\" href=\"proofs/in_IntervalOO/thm_proof.ipynb\">in_IntervalOO</a> (conjecture without proof):<br></strong> <a class=\"ProveItLink\" href=\"../__pv_it/theorems/c0786abb5247ce9fb580f1831bafbc7db7d444d00/theorem_expr.ipynb\"><img src=\"data:image/png;base64,iVBORw0KGgoAAAANSUhEUgAAAPcAAAAXBAMAAAAl5sTiAAAAMFBMVEX///+IiIgiIiIQEBB2dnbu\n",
       "7u5ERETMzMzc3NwyMjK6urpmZmaYmJiqqqpUVFQAAAB6qHgnAAAAAXRSTlMAQObYZgAAAAlwSFlz\n",
       "AAAOxAAADsQBlSsOGwAAA2FJREFUSMe1Vk1oE0EUfptk87ObNJtDtSqWEKg/iBBFKIiHKFgrWNlD\n",
       "LEgPSbVG0UvQnnW1Jy8lPSgeRCrqQag0FUGrpaaHFqVIo6ggeqhQC4JKPRTrzfdmZrOTuGiR9cFb\n",
       "3rx8b76ZeW/eBMBTCbu7LZexBV7LRlevUm1w3BQ6T4MPHnHHMq7u15KtHk/iaipcH5PnmkfkR129\n",
       "akkeRcr4ucL1PGUq7xH5hKtXr8ijOOVglmvEBAhUPSJP12X6WGorM/x1mFGTXCbTKC4r4lXK5fPV\n",
       "hkxhvasD7WNnX+G6M5Xa5RG5jvWmJj71d9Hgss0NDyizCy0GH91IfMWznuf6EODE3+ctr4ac9qJD\n",
       "q3G/voivo96ygsu8+n6aOQuieEakgxCet2Ghq/WzvTo4OcStP5SkE+TD2nkGc+YXGjgp2I6Ue0BP\n",
       "8tQsg9+AGFYHadAMDNdwC9KcrYVhJQCdGRdytc6sBflxoiKM83BMZ2oTM3fjeSyBj0+klyCegdAS\n",
       "MI0ZUr21O+aTIhasAtPG7+ThSVM222VygB18UU4EkvvzkONbxDWMVkHDXZNCaQo/2alOWu73Vpo2\n",
       "8WiDRQ2IyJvLErlAfbM4hpsiSBw7aCtwhAZJ+dhzBszVrvlTE2L4Kyl0YatRt4RWiKxNQS7FWoxU\n",
       "u9lVDYR7Kw45R2lnLIERJgsiCRqgnm5KAzvgRI28F8mr8DlmUbbiRcw/RPNcYQDrTS+H6BCCFVaG\n",
       "0BuCEUau9+WlgmMorY/2yTDc5EEkeHliP3rSGutZkVrnOkzLim3TIYe4pkqwzC8lKTQVKVsKlby/\n",
       "qLPKx/09LxQKVUUJ3JPIGeqcmBQx3LSDMAlJUMeM9y940hfvCPKzOPh4YHAt+NrQWqAe7BvmyiRn\n",
       "BadxF3Hw03yhdBj62c4V7bbpkDOU2sEoCcNNEUSyWS5LrUO0V1/Rdr2xjUtCeZ1aF0bMLPjMGcjC\n",
       "QKCk4w1kOYf9UsExFMAaLAOG4SYFCZl1bQTRWofKyC9Q7RXSJl4ewlMMjRn41dfvbYbwSXTfXZfp\n",
       "GXfIGQplpgIMw00KEhJ0/3tyyu4JNpCe0cantCp9IVsoOM2nocm8tdzMusstS7f9zsmLbFioZjrf\n",
       "Rlnli3/R/Z+d0eBoESrnRvr+I/n/Eet/TPoL/ODZP+WrUj0AAAAASUVORK5CYII=\n",
       "\" style=\"display:inline;vertical-align:middle;\" /></a><br>"
      ],
      "text/plain": [
       "<IPython.core.display.HTML object>"
      ]
     },
     "metadata": {},
     "output_type": "display_data"
    }
   ],
   "source": [
    "in_IntervalOO = Forall(\n",
    "    (a, b, x),\n",
    "    InSet(x, IntervalOO(a, b)),\n",
    "    domain=Real,\n",
    "    conditions=[number_ordering(Less(a, x), Less(x, b))])"
   ]
  },
  {
   "cell_type": "code",
   "execution_count": 66,
   "metadata": {},
   "outputs": [
    {
     "data": {
      "text/html": [
       "<strong id=\"in_IntervalCO\"><a class=\"ProveItLink\" href=\"proofs/in_IntervalCO/thm_proof.ipynb\">in_IntervalCO</a> (conjecture without proof):<br></strong> <a class=\"ProveItLink\" href=\"../__pv_it/theorems/af229576c0b308afe4b60d4cc92f114056c5a3bf0/theorem_expr.ipynb\"><img src=\"data:image/png;base64,iVBORw0KGgoAAAANSUhEUgAAAPUAAAAXBAMAAAAhExTfAAAAMFBMVEX///+IiIgiIiIQEBB2dnbu\n",
       "7u5ERETMzMzc3NwyMjK6urpmZmaYmJiqqqpUVFQAAAB6qHgnAAAAAXRSTlMAQObYZgAAAAlwSFlz\n",
       "AAAOxAAADsQBlSsOGwAAA1BJREFUSMe1VkFoE1EQnU2yu8luttkKrVWxlEBR8BJF8OIhFtQqFvYQ\n",
       "BSmYVOsK9RJo8airvZd4qHhRKvYiVJp60Wqp6aFFKdIo2IseKlRB1FIPxXpz5v9N9idNkx7Wgfn8\n",
       "/3nz3878mfkL4KuEa23uOlC14bjqr+yvtXm2euORqyu0+OwTtZFsxC1f6QCQClxf0s59n7gvQkO/\n",
       "I3kcRrnepFvK+MQ905g7VsRhkWvEAggVfeJOVKxa4/HcFu5J5IOgxTSKcY/4dd05cfWkpZbfXSzw\n",
       "Ba5H4vGjPnHrmGpy89ehHlZuo0LMw6ttJl88bP6FgV7h+hzgauNj8zvhJld0aDefsYUjcD92lA2e\n",
       "53+ttANRDBDpCIRXSij1XuVhH87M3uWzymxcFjuDZxTAvHkDS9ZPxi3kmnwc9A5+LRsQNMHAxCBV\n",
       "rNBYGbYqHNluj0kh6E5u5V42hYIVjIJ4UBam+WIwjpLh3Po6BPg5eg5iSVDXgalhCql2zJu+ymID\n",
       "kGDe3MK9UBCa6KzlGQWZE4f54oLgdzADae4gfsJkETT0mRRyczik5rrJ19/tVALNL/Y51HeIuyUv\n",
       "cDNUK6tIwqDBmlMycmMO2iacZwuBO23CUrm8X1tg4AWQQg8mpHxQ3SSuTgmpJOdbpMg+WwqF+woe\n",
       "N0MNMmqGAe26UzIiUUyQB5oSwMIrmQJ3Eb4bjkzcWbx7iGa4wjCmmp5XKQRKgWUg9Kkwwez1/oyQ\n",
       "awxl9JOXDKOxKTciwbIx/vQmNN6qHnjcimkc0iGNsKaCkufFSApNWbopiZI9mNVZzmMM3tq2XZSk\n",
       "0FOBm6M4I2F4CEpGeAMdIE+Zn97x1aUBq5znX06P7IZAJ4ZulfpuYIwrk7SjzCMyBkE6Tk2EYYj5\n",
       "LWnjlsftotQfDsfIpwjtGpFUPtTjl6t66sfS5I6rPEOdWxNWCgLWAqRgOJTTsfTYfcNJIdcYipJ7\n",
       "zWIYzDvMBjJyZbH+W5IU35zyu6PNvD+HIVSnTBz1vSdaIHyNWvKeZO+0x81Q/PeEYXi9kZErilOP\n",
       "Wy7h6N2sfjuLwggp2/Z6Dmz7yla0ODlTj1sSP7HqMzXLG6tlhy/87VqbXdX/a22uChIVxu25b2AB\n",
       "2P7/6dWR/0H2D6lz2C/lbA3vAAAAAElFTkSuQmCC\n",
       "\" style=\"display:inline;vertical-align:middle;\" /></a><br>"
      ],
      "text/plain": [
       "<IPython.core.display.HTML object>"
      ]
     },
     "metadata": {},
     "output_type": "display_data"
    }
   ],
   "source": [
    "in_IntervalCO = Forall(\n",
    "    (a, b, x),\n",
    "    InSet(x, IntervalCO(a, b)),\n",
    "    domain=Real,\n",
    "    conditions=[number_ordering(LessEq(a, x), Less(x, b))])"
   ]
  },
  {
   "cell_type": "code",
   "execution_count": 67,
   "metadata": {},
   "outputs": [
    {
     "data": {
      "text/html": [
       "<strong id=\"in_IntervalOC\"><a class=\"ProveItLink\" href=\"proofs/in_IntervalOC/thm_proof.ipynb\">in_IntervalOC</a> (conjecture without proof):<br></strong> <a class=\"ProveItLink\" href=\"../__pv_it/theorems/e0261db91872251b9cb393eff01c8bdeab1024420/theorem_expr.ipynb\"><img src=\"data:image/png;base64,iVBORw0KGgoAAAANSUhEUgAAAPUAAAAXBAMAAAAhExTfAAAAMFBMVEX///+IiIgiIiIQEBB2dnbu\n",
       "7u5ERETMzMzc3NwyMjK6urpmZmaYmJiqqqpUVFQAAAB6qHgnAAAAAXRSTlMAQObYZgAAAAlwSFlz\n",
       "AAAOxAAADsQBlSsOGwAAA3pJREFUSMetVk1oE1EQnk2y+dlNmu2htSqWEhEFEaIIgniIglrByh6i\n",
       "IAXTao1SL8EWj7rae4mHigeVir0IlaYiaLXU9NCiFOkqWhA9VKiCqKUeivXmzLzd7CZuaQ87kJeZ\n",
       "YeZ9783fPgBfKeqtNqpFKVWoVflAWzy1klmjCA3CffybJ/6zT9CJjKf6vYuXz7UwtlQGeE6K2z5h\n",
       "n/bUykW3FCsxNgwAXKUsdfiEPe6pVctuKWkK7Bk8ho6s6RN2ukpqTKX4xsEq7YgusIM6xPFQMb/S\n",
       "XRXchw0W87HK6JCoNYgh8J5Uaq9P2CqWmlz/tbeN223AVj8haaFJE9K9+l+MHcIqfwpwfu1tS+vB\n",
       "pquo0Kw9ZqHSwXfw98AIL4vC+6vnDMKOY5D6ITpvW0VuVW/27tjETcGtWo1zhuMUwLp5BbP6T8au\n",
       "mOxCxAOgtoi8LENQI+wEFkdYJ86iBWfTSHN+UApBa8YDW3agNZdTEDcqwJgQelJI7LYfo7EEAbGR\n",
       "WoRkhhAjS4ivuUptn8O+KOBAkmBK+x87OqFb3HTZ7RTkS+wWwqmKOWIHOyAnbohHGDEJW6GmKE7i\n",
       "kp1spbv+bqZd659tNmjuEHZDyYVtWS0awgYaTcfJijkoK3CSBXfMcxrMVtr7JUc6QTlow4KUd0RW\n",
       "CGubhFCS8S1m8rGlULSz7GALK+WSYdn08FwQTkRhDeTuujRwdCXNxu5EbBO+JwxKVbKAuedaoy37\n",
       "sNTUUoRCEC5T9cWhMwLD7K92dbhqja2ULrol2ySYFU78iZiHxJ/2tCJG1V0b+wSdKrFThRza1ZXD\n",
       "JcamhoS6AmVKomIPFlSuebzd63w+b0pS6JELm616rCFIceJz2E4Y/RaQR7VPb4R0pttKxWWM2Jej\n",
       "/RsgsA25hXExWwJ2heeM8BRaJiHIGUxHoZfvLSlDuoPNVvIRBicbXH8YthPR9qpuGDorZmqgYGs+\n",
       "ON9QuFGpUOPasJ6FgD4NWegLFVVsPc43HHbVGlvhnMYSYBsq+UWdnCya8RwB8cpgyriwK98dZfzt\n",
       "cYxmZFTDVd10sAGiF2gkb8y0jznYbCU6i23ES4WcLAp7v0Yu2mNBc7Brv52ma4VsPu/MnJrZMrfK\n",
       "i0f2Hn92q0uud0vNMRXdWWtpnV/4696vOK3mDbV1EJpq8uJa14V9BXsh7/+jb42Xpi/0D/IV3iBU\n",
       "WLEyAAAAAElFTkSuQmCC\n",
       "\" style=\"display:inline;vertical-align:middle;\" /></a><br>"
      ],
      "text/plain": [
       "<IPython.core.display.HTML object>"
      ]
     },
     "metadata": {},
     "output_type": "display_data"
    }
   ],
   "source": [
    "in_IntervalOC = Forall(\n",
    "    (a, b, x),\n",
    "    InSet(x, IntervalOC(a, b)),\n",
    "    domain=Real,\n",
    "    conditions=[number_ordering(Less(a, x), LessEq(x, b))])"
   ]
  },
  {
   "cell_type": "code",
   "execution_count": 68,
   "metadata": {},
   "outputs": [
    {
     "data": {
      "text/html": [
       "<strong id=\"in_IntervalCC\"><a class=\"ProveItLink\" href=\"proofs/in_IntervalCC/thm_proof.ipynb\">in_IntervalCC</a> (conjecture without proof):<br></strong> <a class=\"ProveItLink\" href=\"../__pv_it/theorems/e5a5bbb669ae70d135b833069ecc41b146ad331c0/theorem_expr.ipynb\"><img src=\"data:image/png;base64,iVBORw0KGgoAAAANSUhEUgAAAPMAAAAXBAMAAAAsDWSYAAAAMFBMVEX///+IiIgiIiIQEBB2dnbu\n",
       "7u5ERETMzMzc3NwyMjK6urpmZmaYmJiqqqpUVFQAAAB6qHgnAAAAAXRSTlMAQObYZgAAAAlwSFlz\n",
       "AAAOxAAADsQBlSsOGwAAA0RJREFUSMe1lk1oE0EUx98m2d0km7RbobUqlhIpCl6iCL14iAWxioU9\n",
       "REEKJtUaoadAi0dd7b3EQ8WLUrEXodLUi1aLpocWpUijYC96qFAF8YN6KNab773ZZmfT2PSwfYfJ\n",
       "m+G9+e28+c9MAHy1cK3BXQe9fSWRBxv8tv21Bs9UD4TG4AH+LJP/ySdyPFUPrV5uZ7RSAnhOA3d9\n",
       "Ql+AuquOFBkNowDXaYeyPqFn6qMbywK9gF9hoVv2CZ309FoSicIm9KQl0EELYlj0iF9bXZB7j5pr\n",
       "rbpLyAwiyD2aSBzzCW2gytSmL0M9fM5GpYKHV1pN0bnf9JPRIdT3U4Ar9WctbgdNKzGgzXzCHVtC\n",
       "P7S1NaHwv1bGJnQMKzQC4eWNIP2Od673p1/eFp5XiEu25LpJAdTMa1i0fjBakpl6HIx2sSdrEDQJ\n",
       "HUddaBZ5jq240+ttuTElBN2pzegl0+NWkoI4UR6mRWcwgZYVaGMVAmIeowCNKQLqq4g3JZV1uu6L\n",
       "PF55CsyZm9DzJa/bKaMBjojOeWnVwSxkxPrwCybLhI7SaSjMYpOe7aaV/m5D7UPTs302XTeEbi5K\n",
       "aI5q4aNIMcJ1kpyCQ3QdznFHQmdMWKwc61dc5jhtQA9KUT2krxOqQ0GSYn+NlPmjlVC4r+SiOWqQ\n",
       "yRzjuJxEppmgDjQkgWurmBK6DN/itkroPO47y4xmHEaVGUWdCqCVSHgx6NNhgtON/qwkM46K99Ma\n",
       "OUa4IomfhWWI/+lNRsUNdc9Fa2b8sAEZDGsoaUVG00GEhjztkkIyD+YNVjtW4E0ulysrSuixhBZR\n",
       "UQZSjHA3krD07aBOmR/fit7FAaui8M+nRnZDoAMLtzIjrpTAhrYztjaHgY0Q5N1LhmGIV61Exy0X\n",
       "7UTp320RI1wnicz7MI9fqrpIP7iPJtyqaNO+MWGlIWDNQxqGQwUDzxzvNZyUZMZRdFH9sjhGuJTk\n",
       "2MLWz0dKQldemujMu7MoIH3KxNbYe6IZwlfpGt6T6p120Rwl/oxwjHApyTHN3gqtmi66+rEsSy2k\n",
       "czn3qoHtPatqdiu0Iv1LqfrIqOW21bbNF/1mrcGu6v9mB8ag1TsUk9r/o6+h9HN2tbuDtgOAfzo7\n",
       "3QHNql0AAAAAAElFTkSuQmCC\n",
       "\" style=\"display:inline;vertical-align:middle;\" /></a><br>"
      ],
      "text/plain": [
       "<IPython.core.display.HTML object>"
      ]
     },
     "metadata": {},
     "output_type": "display_data"
    }
   ],
   "source": [
    "in_IntervalCC = Forall(\n",
    "    (a, b, x),\n",
    "    InSet(x, IntervalCC(a, b)),\n",
    "    domain=Real,\n",
    "    conditions=[number_ordering(LessEq(a, x), LessEq(x, b))])"
   ]
  },
  {
   "cell_type": "markdown",
   "metadata": {},
   "source": [
    "***Scaling Elements of Intervals To Scaled Intervals***"
   ]
  },
  {
   "cell_type": "code",
   "execution_count": 69,
   "metadata": {},
   "outputs": [
    {
     "data": {
      "text/html": [
       "<strong id=\"rescale_interval_oo_membership\"><a class=\"ProveItLink\" href=\"proofs/rescale_interval_oo_membership/thm_proof.ipynb\">rescale_interval_oo_membership</a> (conjecture without proof):<br></strong> <a class=\"ProveItLink\" href=\"../__pv_it/theorems/cc0f011d94501af100ef06eb37d51c7d25a072e60/theorem_expr.ipynb\"><img src=\"data:image/png;base64,iVBORw0KGgoAAAANSUhEUgAAAWQAAAAZBAMAAAD0/km4AAAAMFBMVEX///+IiIgiIiIQEBB2dnbu\n",
       "7u5ERETMzMzc3NwyMjK6urpmZmaYmJiqqqpUVFQAAAB6qHgnAAAAAXRSTlMAQObYZgAAAAlwSFlz\n",
       "AAAOxAAADsQBlSsOGwAABL5JREFUWMPNWF+IG0UY/zbZzSb7J9mUFk96HCX2RFsKhyiKtBKl1lba\n",
       "spXzfOhDUu3FUipETwURvLVCoS9HK1h8UIn0Kogtl6LQWkPNPVxBjZhWfSiITfWs+CCcDwfVJ7/5\n",
       "s5vZ7NhdH6r94Dc7M/nN7G9mvm9mNgBJ7aeSB/+/KaUNyclH4Nawzs2R7HEMWPYfqP+qy5sjWeky\n",
       "DJrhSKmJ7H0OlNwjjx8SSc6Th92Op37HEbFhKTXOtGfW4NjaDCj5HKl8O5Fks4GPXPxKakcYopZz\n",
       "JdR4yzUxeYujA68RH6smkqyTFTkUzzTbDFGzmhJqvBWI93zF0aEDV7vJfJkMckc8M80hsfu4Bz9d\n",
       "ujugxtscWZy0y9ABC8eZSxh+nWRReJlDYu+wMDzqCtR4e4R6R5sBRdxTKt2bUHK6VLqjHM/8hAMe\n",
       "Hq77dbtGntqMa7mTFg67IlWkZReH/F1FqH2v+Du6Qo8BJZ8BmEwo2axDJhRAthCLSmgqCQ52zSBI\n",
       "mspVE+P+CwhH+yDtuJdZZjmhVvvTrXhgoQCLLfUMZHt+C/1YSOWlbeePipKROBMifOlnXsHug9Da\n",
       "wLEW0v6UWZ61nMdV/XZgix+gaRuBDAzCtfYyydtjQIGSM67aCLpYDHL6SK2hqLC1LB4lk/C4X3z+\n",
       "2n7QgrHmkTbrFx5kMJf5HJHewKQ6p2nX6IulO30qp1XI7+YSpNgLxcbYtFAGfQkoULLtCNF3f5D7\n",
       "DD1JUWDBESVfDCbIPEOSYKzpurDpcslpvrDrGYN2dJzq6O+pfVqKLBLmK6xPsTGOYq4LBs6wMcb3\n",
       "gHlMxue3kvH/MULeqw479KBByauaouSchS9WVr9+lp1jKXz99pXEn6eLv/S3Su4YldDxPOdp2PUl\n",
       "ml8jOoZIw/w3QU7clj93wcZWBETyDtxutbv060TjqEIkrtPHJmhEqdk9bVGyehlfO5Svvssm6jDA\n",
       "E940kbzCXQ22P7o9DAVs6i/DRONnUPF5gZaKgZoBWqULv9meBuHaQh19HKwqA5H8Bnqk2dRxziHT\n",
       "JjFpVrX6SSrZ3FsNXYuyD2HSzjh1g47kA/QfmCK5A7gXGD53JwNGvOrvU1de+hhO+Zsa5IKja4CW\n",
       "cez1JnVrsTbfzuBsmGUGIjmPP6UbSo+6pNkjBdyNarVaV1HUU+Gb3K901LjjHKvVnoMfiTOOsBg4\n",
       "D7ov+QWOzZ1VfuPdRbtFdK5jQXXthEAVaNrVx2Zug9ToQO1ii3hhg8G/fFa8zAKueQHSXSoJXqSz\n",
       "rBizbvTyOQWeTuP6ZdCuw4EnMbcEm/qOkaozSC7M3IuNLfzAltO+l1Ue5PAlp73pk+44pNwLMA65\n",
       "BpTpkYGb3KPNQcnZsW24BU/y8HtA/2tBK8MoepniCJefyAVIfguS06QnbIvDl2y0Lm6Hqa5+2sE0\n",
       "25p3s89i7Ye3l3d/Gpnl07NFFw6R6cl48NHXK9v6Jni1SEvc9nFELHoNlNE0R7ZAVX7jDH+VdIV0\n",
       "vFZr3OCrRNtS2w8Gnw6b7QrBjxOh0g0FymiKrCmZEDopIcmG20+TfUidZY8TYoHMiMMQ0RL9PJDR\n",
       "pDbEEZZsCWkyySobHvVQq3HLfWG/KfsfQ1gR7T/6H2Pj32SaNZTAKfOcAAAAAElFTkSuQmCC\n",
       "\" style=\"display:inline;vertical-align:middle;\" /></a><br>"
      ],
      "text/plain": [
       "<IPython.core.display.HTML object>"
      ]
     },
     "metadata": {},
     "output_type": "display_data"
    }
   ],
   "source": [
    "rescale_interval_oo_membership = Forall(\n",
    "    (a, b, c),\n",
    "    Forall(x,\n",
    "           InSet(Mult(c, x), IntervalOO(Mult(c, a), Mult(c, b))),\n",
    "           domain=IntervalOO(a, b)),\n",
    "    domain=Real)"
   ]
  },
  {
   "cell_type": "code",
   "execution_count": 70,
   "metadata": {},
   "outputs": [
    {
     "data": {
      "text/html": [
       "<strong id=\"rescale_interval_oc_membership\"><a class=\"ProveItLink\" href=\"proofs/rescale_interval_oc_membership/thm_proof.ipynb\">rescale_interval_oc_membership</a> (conjecture without proof):<br></strong> <a class=\"ProveItLink\" href=\"../__pv_it/theorems/705e56265e11a1e329bbe2149f558a9a618f0aef0/theorem_expr.ipynb\"><img src=\"data:image/png;base64,iVBORw0KGgoAAAANSUhEUgAAAWAAAAAZBAMAAAD9FenCAAAAMFBMVEX///+IiIgiIiIQEBB2dnbu\n",
       "7u5ERETMzMzc3NwyMjK6urpmZmaYmJiqqqpUVFQAAAB6qHgnAAAAAXRSTlMAQObYZgAAAAlwSFlz\n",
       "AAAOxAAADsQBlSsOGwAABORJREFUWMPNmF2IG1UUgM9sZjJJJslOpMWVrsuSuv6VQhRRkVZG0f7I\n",
       "tgyyLUgfkqqNslQY3SKI4E4rFPqypILFB5WIrSBWmhWxrYY2+7Bb66Z0KvpQFImyrQgK24fFVXzw\n",
       "nHtnJncyWTMvi71w7tx7c8/Md8499y8AUdMveRv+7yTlN0bvXIGbITVXBTjhSmeyIzV1d63Fu64O\n",
       "8O2udKYPwiBOxFfKVa7dhBY9fowEnKVHptGzZ8bgEsYL6X4X4cPKc8MMmGk34UtqeycSsFbFR7L3\n",
       "ID7jSji93ckSadiSNQbMtJvwBsVbKRKwSqNxuHfPuivhNN9R1xpRgPsdDjzPgJMm1pxoMUwm7ujd\n",
       "s+BKOMVMHhrP5u/h9Ujxe8rkwKTdhDQamYw46ZqR5l6mwqXb4DKPpo6abv1qJODH+aRj2ohwfz7/\n",
       "QETgWD6/3ujZUTO4gJy74Adr7toBHBuZTfEjHi98Ttljg5a/Hi4M6G5RaH0/9wcDJm0EPg2wLyKw\n",
       "ZkHcDDhTmIFzLcGNJImN8IVvBAzpnwGkK8Ep/i7KIUfzp9CHdnyJl4RW5S+zaBNwmg/yFCS8T4F6\n",
       "LMD47fZzR0Vg7DgV6PCNV3gN3+69pc9xxYD7vN+/hsvm72hgIbii00Z7B8Q8ryqbQBvmRaE1s4Rl\n",
       "AiZtBI6bVHHTgl9Sh8pVSYZthrhx7IOnvOrL18dB8S3NGm3gWJXLeZP7h3ILzrKXLlKGQZi/k3V9\n",
       "BH2/BH43bZGsZCMitlag3yBG0kbgjC7MuYf80lcYQpIEs7oIfMX3jnaaMt/SmBUGfpBXN/AHc3aK\n",
       "PKy0F1EEjpXa3bBc5K8UW9GGUw4BpwruvJ/BbGxmGxl/Y4jcIg/qbFtB4LU1ETiZRn5p3cEzMMgG\n",
       "H78+uobieDJ3rTMklBti8KSWYRc6hw34sBgSRb3dCcuX/ZK4DJ9nUUDaBLwDl1flbnWZCEckArxX\n",
       "Lexm66Wc2NsQgeWraM9AtvQe99IRgKftSQK+xVznA8d1Lv8gphec49kC4GCnmVrOZ9mLOPgBb6CK\n",
       "DvyWsRUItvZbGNts0pU48Jv4Ja2m0mjFGzQTtZJinWTA2vOlwOEn8ShmjbhupZgdH2HkwASV9sNF\n",
       "H5hWHxJcIrZ68+bPPYWU4652kPT3qZ30MZAt39TMBg2KlWBrthGvMWDSJuCsRTEntVgoai0egBfL\n",
       "5bIjSfKnwdPar8xkG9LHyuWX4CeKwiEe++d8YHWYizw6462ByrT+wyWKFuY15foJt/0VlCeaa/3V\n",
       "+uetU7dC30hH60Kdbxyk7R0vi3Z8Ft/eDzGHAcEB5mEpddwMHy8nwFaZq14FZRn2Y2zCImz2geEu\n",
       "V8LpkBvQW9ytuc/q1uv77sdLpu0Bx+zJk+YY9JlzMAbJKhhsg8Bl7claJ3CisB1qfK/BSfew+ves\n",
       "YsAIxldLPOLMr3gsElO61q2XsQJwXQBO1a+MwoSjTuuYJ+ozZuIFbP34NmPP2ZCHp4/nTDhMvonb\n",
       "8MmlNQ11M7yeay9r1MwkfBMJnQpf7Hb+1bsDM+3gjcMR8rFyufofNw5lS3kcUq4vMiz3gWkJUbqd\n",
       "WMNW7O52zF/hxsG0A8Aps51HuyKd4Y8TQWA46EpnGgj7XI94p1tf5doB4LSQRwOWuXGNDuCb49b8\n",
       "Vrf/JYTRmNNXH1fKb/oXm74+q61dOKcAAAAASUVORK5CYII=\n",
       "\" style=\"display:inline;vertical-align:middle;\" /></a><br>"
      ],
      "text/plain": [
       "<IPython.core.display.HTML object>"
      ]
     },
     "metadata": {},
     "output_type": "display_data"
    }
   ],
   "source": [
    "rescale_interval_oc_membership = Forall(\n",
    "    (a, b, c),\n",
    "    Forall(x,\n",
    "           InSet(Mult(c, x),\n",
    "                 IntervalOC(Mult(c, a), Mult(c, b))),\n",
    "           domain=IntervalOC(a, b)),\n",
    "    domain=Real)"
   ]
  },
  {
   "cell_type": "code",
   "execution_count": 71,
   "metadata": {},
   "outputs": [
    {
     "data": {
      "text/html": [
       "<strong id=\"rescale_interval_co_membership\"><a class=\"ProveItLink\" href=\"proofs/rescale_interval_co_membership/thm_proof.ipynb\">rescale_interval_co_membership</a> (conjecture without proof):<br></strong> <a class=\"ProveItLink\" href=\"../__pv_it/theorems/fae2f829791746574b4878055ecff8cb1a6294180/theorem_expr.ipynb\"><img src=\"data:image/png;base64,iVBORw0KGgoAAAANSUhEUgAAAWAAAAAZBAMAAAD9FenCAAAAMFBMVEX///+IiIgiIiIQEBB2dnbu\n",
       "7u5ERETMzMzc3NwyMjK6urpmZmaYmJiqqqpUVFQAAAB6qHgnAAAAAXRSTlMAQObYZgAAAAlwSFlz\n",
       "AAAOxAAADsQBlSsOGwAABMdJREFUWMPNWF1oHFUUPpOdn92d/ZktLUYaQ1iNVUthFVGRVkbR/kgK\n",
       "g8SC9GHXn6xSKqykLyKYbYSCLyEVWnxRthgfxEo3PtjWhrp5iFqypVPBB9GHKGlFUEgfglF88Jx7\n",
       "78zc2Umy00C1F87du3fvd/Pdc79z5kwA4rZfinX4v5tS3BF/8STcDq19SwgnhXW2yBVt2hZzx7qH\n",
       "vjWE7xLW2U51Tjwbd8dTHroNC/TxUyzCOfrItrquzNrcohJsbYCw9vIARzJ0G76kyfdjETYb+JHq\n",
       "HnovCIu2ExvxcKopkCcY4bdJb5VYhA26jWPdV84Ii7b5jRDOuwI5zwinHADVjadhOuL+7itLwqIt\n",
       "4XBpvFS8Pz7hM45AkrUhg8pIxQy6dqzYy05yW+12mYjTx52b8fBTHpIMKTxULD4ck3CiWLzb7rrQ\n",
       "tLmBWvjGj5zCtSN4NyoL8XcdWRJP9tX8dLjYa4mhNPth4Q+OJEPCZwFGYhI2a6A78g2/JmWAkBvJ\n",
       "kjvgC/8Q0G99DpCZDIc4Eh53TT+CPqrry3wkzWp/OeU6Q2b4JU9AcsFDGCdDHL/bd/G4TBgXTsi/\n",
       "57zBm7h70/vS4wqz4UFv7lu44vyOSimFMzoSvgcSnle1nWAO8KE0m12mMSHJkLDuqA1/h0V/ZPRX\n",
       "G4oKe235wTESqO6N64cCwjlcNeX7vcHtK4c7iPoanGebLlGHIizeKwib3KVl2t1cokOyC1kGH2tO\n",
       "Qt5mSDIknLWkmHvUH11ADSkKzFky4au+d8yzsocTuDjldBB+hH/dzj+Ys9PkYa0ieTjBv/TQ/eC4\n",
       "zH0nZhkWz3DGZch0ScT9LHbDs3vp8Df66c+qfRZ7rCDhLU2ZcCqD/JWtR89BH5eENrSZHiRjhWtB\n",
       "bhSS0G7I6kmvwPPoHHbjAxLhshWswfEVfySnYbwrQpIR4f2YXrX7jBViOKgQwQeM0gEWSGryxZZM\n",
       "WP0Bz9Obq3zAvZSD5+pjRHiTsxWy3tF0i9s/SNNT56FcCfC2MwxWkAjncX9PkWUXfsvWNSIpzeZr\n",
       "qG2GJCPC72DMmU2DbktvUSSaFa12mhE2X6mEip/kE9i1dKuWbnHCF2CUBofhEqS9pV4GwhSxxwuc\n",
       "Pw+W0q7IdpByA8KYDNSaf9LsdpPJWZ7NtfRmkCuJcK5GmlMWmBbNBS7AS9Vq1VUU9bNwtfYrOzNm\n",
       "mZPV6utI+HHo59K/CIZH2Bjgpg7NerLWpq0fL5NamNu06x8HWeLp9hY/Wf+8Z+IO6BmE8OzijECS\n",
       "eeVlua7P4e55SLiMEBxhHlbSU060vByFusFcldNW4DBKE5ZgVyAJ2CYs2saFoHev92j+fi3kuFQP\n",
       "J+pjp51h6HG+hmFINcBmDwhMa880OwknS/sw545wSTxm/D2n2TCI8lIsucSZX7Ms6lr82OsVVB7h\n",
       "9MzVIRh1jWkL++TMrJN8FWc/udM+eD7i4empggPHaozwp5c3t4xd8BbGke7XnTTSV6tCI1XhaoQ1\n",
       "aw0kQ4ffOFypH65WG+u8cWi7q/6DI8v6A8FvlVCyDVrkFKsRVmANJEOHCKedoI/1iiQI8xA6F8wf\n",
       "FdbZeiOFWNx3ul4PHSKckfqbIcxSXKZxu701vxf9v4QuVWvaf/N/iZ3/AoJOLG57cGttAAAAAElF\n",
       "TkSuQmCC\n",
       "\" style=\"display:inline;vertical-align:middle;\" /></a><br>"
      ],
      "text/plain": [
       "<IPython.core.display.HTML object>"
      ]
     },
     "metadata": {},
     "output_type": "display_data"
    }
   ],
   "source": [
    "rescale_interval_co_membership = Forall(\n",
    "    (a, b, c),\n",
    "    Forall(x,\n",
    "           InSet(Mult(c, x), IntervalCO(Mult(c, a), Mult(c, b))),\n",
    "           domain=IntervalCO(a, b)),\n",
    "    domain=Real)"
   ]
  },
  {
   "cell_type": "code",
   "execution_count": 72,
   "metadata": {},
   "outputs": [
    {
     "data": {
      "text/html": [
       "<strong id=\"rescale_interval_cc_membership\"><a class=\"ProveItLink\" href=\"proofs/rescale_interval_cc_membership/thm_proof.ipynb\">rescale_interval_cc_membership</a> (conjecture without proof):<br></strong> <a class=\"ProveItLink\" href=\"../__pv_it/theorems/08347f6251ba8eb275da5990a6d122a1e27e34a00/theorem_expr.ipynb\"><img src=\"data:image/png;base64,iVBORw0KGgoAAAANSUhEUgAAAVwAAAAZBAMAAACP2ot0AAAAMFBMVEX///+IiIgiIiIQEBB2dnbu\n",
       "7u5ERETMzMzc3NwyMjK6urpmZmaYmJiqqqpUVFQAAAB6qHgnAAAAAXRSTlMAQObYZgAAAAlwSFlz\n",
       "AAAOxAAADsQBlSsOGwAABIRJREFUWMPNmE2IHEUUx1/v9NdMz/T0CqsrrsvSMUQMgVFEL0FaUZNI\n",
       "An1YBQk4HTWtLCgtm7NOIuS4rEKCl8iIexEimfVgjA5m9hA/2JF0BA+ih1VWRVBIDosJ5GC9qv54\n",
       "PT2b6SzEWPC6q2vq3/zq1XtV1QNQtPxqt+D2FsneVbzzItz+0r8VuHpkgyU3O3fsKOrWQIhvCe69\n",
       "kQ2WDwYbnin6RrktxH1Yw9vPhXBNvNV6ozrWHGF5J/W2gKu8NMNxubgPn2Pbe4VwjTa7lUcm3POR\n",
       "5cuJrXi33OG4XNyHNzHQvEK4Gs7E8ZEdu5Hly+pWcOuhwF3luGWXPYXFYhcHeGBkx0Zk+VJyxf1O\n",
       "214sjHvGFbgo7kOVxUS5YKr1i2RcbVHYsHkVwfvRxM149wmRalzMAB6y7YcL4pZse5szqp/hCAN5\n",
       "/OskX8Z/O8KmReZ5rZ+gwfD4VJAsgOuTVlQlre+P/81xUcxwzwIcLohrBKC6dHJfTevV14kL0fRd\n",
       "8GkyBJi2PmF9uNPTZGW4x0IjSZwPW+qGqJFW5ZrbbCFuVUzvAuhrsUA7mSH8ft+X71Bc1nGB/m5S\n",
       "XfwwFkbmwIPx79/ARfcvFiM8pMs01e6DUuxRZTcYM6JKWmsbrI64KGa4qosPUVlPatq035Zk2OvQ\n",
       "beJwGm5v/D6X4qIufii1hZ0X89BEXQDn+Dsv43XeZsUTuMZG5EKcgss4RD4ZtHUR6g4Sopjh1iyS\n",
       "aY8mtS9Y8EgSXLAo7qUk04yz1LuoG8R9JHJ2h9+4oyvcu88R75aiOd+JQg+awnG0lY3gTIi4lUaU\n",
       "6yvsMruyF4d/ZRp9Ik9ZfBNhuBMdiluuMnrpnqOfwVQUDKluIBiUKzRsKlfhWeYZPtdjBLdppX1Y\n",
       "/WJSo8vueT7/KEbcAyxTlfu1q8i3XUK8B7QGd4Ek64d6FFf+kY1m0vROKZ7AJboYV7WEXWeQcVTO\n",
       "mQ1g81zlKslKcevs9XEoNkP4s9ZSEJG01gMW0zzVPIH7Nss0o6PhRKk9zD/DU4LT/MXGy17miKM/\n",
       "xi491QoqPYFLdDEuLjhobFnYE6fLPwcblTBa3wBOpbhsAZCDZJy1nQaPddpq9tQOx0Ux4poBBpuE\n",
       "y0MpMNZE5H3r+34oSfLH2RPZH3zALaie9P3XGC7RxbjajDB5/0q86CnL1k/fYRgIl70w5yYrw5P9\n",
       "iWRx/mXPwl0wth2yretdsU2gOD5ANlvqBfaOOpRCjgNHuHelypKbP0DOQ0tzhHeJLsm7HZHly7Ho\n",
       "vvTiDTbhH4YfILk4xi213jrtzsKY+xXMQrkNDt8O2EL2VGcQV2/sg47YWUyqM+lBZnXTw8/II46z\n",
       "CW6X4Fa6l/bDfKgtW+yqd1dc/RXc3O92Dp7LeXd5adyF4wHHJboEV20Jy39leAVwFWs4LhdnvyZC\n",
       "cp31/fYNviaUp/10mwgzWxyuGsqwI2luDMNwpU2+Jrg4g1tx02uhjx+T6tI942hkg2Uyd9gq+q22\n",
       "rS3EGdwqud4MbjV7gPh/fAm/m/+fQaUnskP/wf8Mu/8F8FssQ83uXvMAAAAASUVORK5CYII=\n",
       "\" style=\"display:inline;vertical-align:middle;\" /></a><br>"
      ],
      "text/plain": [
       "<IPython.core.display.HTML object>"
      ]
     },
     "metadata": {},
     "output_type": "display_data"
    }
   ],
   "source": [
    "rescale_interval_cc_membership = Forall(\n",
    "    (a, b, c),\n",
    "    Forall(x,\n",
    "           InSet(Mult(c, x), IntervalCC(Mult(c, a), Mult(c, b))),\n",
    "           domain=IntervalCC(a, b)),\n",
    "    domain=Real)"
   ]
  },
  {
   "cell_type": "markdown",
   "metadata": {},
   "source": [
    "***Interval Relaxation Theorems***"
   ]
  },
  {
   "cell_type": "code",
   "execution_count": 73,
   "metadata": {},
   "outputs": [
    {
     "data": {
      "text/html": [
       "<strong id=\"relax_IntervalCO\"><a class=\"ProveItLink\" href=\"proofs/relax_IntervalCO/thm_proof.ipynb\">relax_IntervalCO</a> (conjecture without proof):<br></strong> <a class=\"ProveItLink\" href=\"../__pv_it/theorems/5c7ccb435b65405272192e72320491a68a3eddf30/theorem_expr.ipynb\"><img src=\"data:image/png;base64,iVBORw0KGgoAAAANSUhEUgAAAPoAAAAZBAMAAADqEi4iAAAAMFBMVEX///+IiIgiIiIQEBB2dnbu\n",
       "7u5ERETMzMzc3NwyMjK6urpmZmaYmJiqqqpUVFQAAAB6qHgnAAAAAXRSTlMAQObYZgAAAAlwSFlz\n",
       "AAAOxAAADsQBlSsOGwAAA9xJREFUSMe1lk1oE0EUx98m2d1kN7vdSMWKWkKkfiBCFEERK0HwE4VB\n",
       "qiAeEj+6SlGI1IsIdlUoeCmtoHhRItaDqJh68avoeqgoVYyCB9FDlKoICvVQrJ58M5NkJ0npVrEL\n",
       "3d2ZTPc37//+M28A/K+PCQem4ZISS6cyrBem6Xr+n+nhiTpnLKwNOgvOdNDnTdS5pbYjlIPLnF6k\n",
       "j/c+dJM+DNcXbqT86PK+OKNLLqPfp30XfOh6Dh8Rf+/tAt/YI3lGh3OMfoJmK+NDV6lC3f7CD/rT\n",
       "GwqcPszoEYKtgl/e6Uy3+dOTVebam1hcT79FOD1IKD2KCYj4uu75lMxniEO0PjJR7Ou46yDisq8u\n",
       "TyRW+NKDicT8lC9dxyFy7NNRptIZIigfHmmyeONS7Dujh4qMfgeg3ZeuZ0EhQlfwoKCw5yiMR4dm\n",
       "63a1k5F+xVHGuOd/kbRD6VGuaA+Ei+Vx6vnSy+vND/tEOg7pESdkll+OoWHz5UYA/fMUXpJv1bvE\n",
       "FpDXgB7nyRmDoEXpRpLRFUIbpWuETqHZzkkh2JQSd5t2L3tHPnd4dBNH9VcUwQ9l4R4PBDOaWFCi\n",
       "66MQ4J/Te6EhRYHqKKMblmC6lfj3IItqSjBkifRXlVj0O2LsQRwcIQIdYBmXOCPEHsxAmoeIk7hV\n",
       "oHQtWfLyY7y1Pd5EJ/yjmbBdCOkz8yI9EsXJSHNO3oW5XHl5ayPdfbpin7wFS5UHbRx20EZcoKct\n",
       "eFlZ7o+Y2Eac07fhYpYXqeMU2iLldzInhcJ7XJEeeosBNpmZizwmE7Y7XZQ+g8wBozxPxQK5w0wC\n",
       "Ezkm0gvw1XBkSs+iB5jrMpx+Gk2n51W6UyhutPcGo+v7M1VVJrwWb65iZTWX0x9AJ305BM9AKw/F\n",
       "VWT83J3UmBaRgkdXLGOJDmn8kOkqeUanq5PSzSzNmFRkWdSLz2zbLkhS6GZ1jfvCdHMget62DyN9\n",
       "NTRzozwEtUxX4yAPWO9e8MR/vup5/sPGnlkQaMHekUG+2wRyXoVNO8oQStsAwcJRFruk9ZP6CtsJ\n",
       "jspkNeVxOETTOwqtnvJQVci1DbU77RuvwsIpob4Hna4bpA0C5AnfVXDFrc/X0sPJzbi227nyq9Tf\n",
       "Q3IKWjB/UmV1DE9eZVICfVCga4OvtkJnQR2wIHwA29dmp3bfq4t9oD9GoDvL6NdfNLpqKxxHcymV\n",
       "0qs4k9Fly6Ozslp9tuE+abPt3CRnG3mDXdltDHbf6f2WmYwuCWcbNs8qukamfLIq0bmv7nr9Jyf6\n",
       "/3W157r5OWiqO9dF4W/pbPVFc9N6pj1bf55XhBon//N5fs0f1Tn138C+iagAAAAASUVORK5CYII=\n",
       "\" style=\"display:inline;vertical-align:middle;\" /></a><br>"
      ],
      "text/plain": [
       "<IPython.core.display.HTML object>"
      ]
     },
     "metadata": {},
     "output_type": "display_data"
    }
   ],
   "source": [
    "relax_IntervalCO = Forall(\n",
    "    (a, b),\n",
    "    Forall(x,\n",
    "           InSet(x, IntervalCC(a, b)),\n",
    "           domain=IntervalCO(a, b)),\n",
    "    domain=Real)"
   ]
  },
  {
   "cell_type": "code",
   "execution_count": 74,
   "metadata": {},
   "outputs": [
    {
     "data": {
      "text/html": [
       "<strong id=\"relax_IntervalOC\"><a class=\"ProveItLink\" href=\"proofs/relax_IntervalOC/thm_proof.ipynb\">relax_IntervalOC</a> (conjecture without proof):<br></strong> <a class=\"ProveItLink\" href=\"../__pv_it/theorems/68d07c6499ba618c96839bc1d08a252aa68743aa0/theorem_expr.ipynb\"><img src=\"data:image/png;base64,iVBORw0KGgoAAAANSUhEUgAAAPoAAAAZBAMAAADqEi4iAAAAMFBMVEX///+IiIgiIiIQEBB2dnbu\n",
       "7u5ERETMzMzc3NwyMjK6urpmZmaYmJiqqqpUVFQAAAB6qHgnAAAAAXRSTlMAQObYZgAAAAlwSFlz\n",
       "AAAOxAAADsQBlSsOGwAAA99JREFUSMe1lltoE1kYx/+TZGaSmUw6EcUuuiVE6ioixEVQRCUIXlEY\n",
       "pAriQ7K7doSiMFIRZMGOCoIvpQrKviiR1QXRxdQXb0XHhxavmC74ILssUaoiKNQHsfrkuaSTM2no\n",
       "VLEDczmHOef3Xf7nnA8Iv15kXUzDJWUXT+W3PkzT9eg70+PNOmf81Oi0A3c66D8269zU2BEr4Ryn\n",
       "V+nrvxB6ir4MLxRu5MPo8m8ZRpc8Rr9J+/4Ioesl8kqEa28HQn1PlBkdpxj9EM1WMYSu0ggdCw/8\n",
       "QDi9pcLpDxk9YZFWJSzv1NIt4fRcQFy/ZhdOpF+xOD1qUXqSJCARqrpHUxKfIf6inbCa+b6Gqw4J\n",
       "j836cza7NJQezWbn5UPpOvlFTr/cz6J03BIiHx9pNXnjbPodo8eqjH4N6Ayl6w4UK+CmIMGh6rii\n",
       "iD862syrQSUT+p+u8oFr/pNVcCk9ySPai/j4aKinax//bLx9QqSTX3oDFj0Y/zhIFDs+PkL0cw9P\n",
       "rLfBXWIT5JXQM9zqD4ialG7kGF2xaKN2jVAT2uySFMOGvLjbdNazt+9VF2Tf4FS+To+SiRzc4I6Q\n",
       "jGbn1+j6KCJ8Or0PLXkKVEcZ3TAF0S0j9y2H6FXCoCnSh31f9Gv04RscdYJ0YAkPcVHwPVpEgY8g\n",
       "RlypULqWq2n5Lnl03N1ADX7fZrFdiNBnlUV6IkmMkeYcvo65bBIy/eaZNPc96ZeByEMbwzbayAj0\n",
       "gokn/nK/w4JtZDh9C1nM8gJ1jELbpfJ2tlZj8V88kR57RkTXmiqe4T4dB7a6PZQ+w5rj0xUTclcq\n",
       "BxbktEiv4I3hypTuEA0w1RU5/SgZrJdVulMoXrLvMqPru4qBUya+mjw8xXQ0ZtRfJEHopl97cN+n\n",
       "k1VkfNyZ09jmlajU6YppLNJRIBOlPKXM6HR1UnrKoRmTqiyJevW+bdsVSYr9HTzjXrO4uUietu29\n",
       "+B9YgTaulNs+Xc1A7jf/fcwT/+pCXfPP1/fORqSd9I4M8N0mUqqfsAVXGSShbUG0sp/5LmnnrYkn\n",
       "bDdclYX1AOQx7KH5HcUqn47AQa6ta9xpn9ZPWBwRzveo23PZ6kDEGuK7Cllxa8uN9HhuI8p8ayKq\n",
       "W65+HpTzaCcJ9OkPJz9l8gJ9QKBrA8Ob0V1R+03Ed5P2xR/yO29M8L3/fNrCMYcKxMWlxzM9dRV+\n",
       "T9dXHO2ehC6bdTo7VoO1DddJh22XJqlt5HV2F7SaGwZ7+nS5OBldEmobZmeArllTr6yu89eFIB2H\n",
       "m41f01jXzSuhdUJdl/yKui7GLfUa6NNQ055sVs8LcRoyv7GeX/kFKw8CsmtTA8IAAAAASUVORK5C\n",
       "YII=\n",
       "\" style=\"display:inline;vertical-align:middle;\" /></a><br>"
      ],
      "text/plain": [
       "<IPython.core.display.HTML object>"
      ]
     },
     "metadata": {},
     "output_type": "display_data"
    }
   ],
   "source": [
    "relax_IntervalOC = Forall(\n",
    "    (a, b),\n",
    "    Forall(x,\n",
    "           InSet(x, IntervalCC(a, b)),\n",
    "           domain=IntervalOC(a, b)),\n",
    "    domain=Real)"
   ]
  },
  {
   "cell_type": "code",
   "execution_count": 75,
   "metadata": {},
   "outputs": [
    {
     "data": {
      "text/html": [
       "<strong id=\"relax_IntervalOO_left\"><a class=\"ProveItLink\" href=\"proofs/relax_IntervalOO_left/thm_proof.ipynb\">relax_IntervalOO_left</a> (conjecture without proof):<br></strong> <a class=\"ProveItLink\" href=\"../__pv_it/theorems/d907c7fca085db9afa4a554e4593e04b7e7c7a9a0/theorem_expr.ipynb\"><img src=\"data:image/png;base64,iVBORw0KGgoAAAANSUhEUgAAAP4AAAAZBAMAAADj+Y5YAAAAMFBMVEX///+IiIgiIiIQEBB2dnbu\n",
       "7u5ERETMzMzc3NwyMjK6urpmZmaYmJiqqqpUVFQAAAB6qHgnAAAAAXRSTlMAQObYZgAAAAlwSFlz\n",
       "AAAOxAAADsQBlSsOGwAABAFJREFUSMe1ll9oHEUcx7+b27292z+XuxKhUglhtVYfhCCiRVo5i5Y2\n",
       "tDLVGB8K9qJmlVLxNCqKYLYKhb6Eq2DxQeWEVBBbslWhVUO7fUihesK1+GBB9Kq1PgnpQ6EtCP5m\n",
       "ZndvNzmyUczCb3ZmdnY+v3/zB8h+fnM8rMqjOPesZFgDq/a0/m9+T0+t2dBjlLcafKXdq3dkcccn\n",
       "oRC/w18/Z/BL/GUH2fwfkcXXnh0iNQMpxP+Gd36QwTeb9CpmZ6HWyOSj6FPxfigtvE1loZbB17mX\n",
       "DmSbbwbZ/H4eou9DaaHIALWdFX+u685sfi6dDM84dy/lzzI+kElpwSKVi5n511pZGl5MNoxDrJf9\n",
       "W0QQAik0772Oc18mP+c4t1ez+V+R7Bp86hHhz4Ms4f/ph/eHjY8rf5HHO1KIfwKYyOSbdeRZss9O\n",
       "JKMS1z4k8ZVL5lA6qUdgbMRL8n/tBtvjwaI5LenXaRQ60UD9cFi5sP3UoSSfhkyndPouqrxJuetH\n",
       "DdpOLc+6VgrS28YIngjwRaj4NeTKsIchhPh5pjbjkZe5EoNuU1GxrZrcfya6QXz5yl5oscolGjYT\n",
       "NR6kv2FKsE6Bde4M+aeBO8Il0kB/FfoChBDfLifS7wGSb+vkUgXz5ST/fGyOeYIXsco5Gl1kXT64\n",
       "ecLRtYT990O7Ket9Vcy2YZDtxnCY12eoGD2zjet8dZCJfYn4t/hJftGiWZV1+0/iNjELzb9jgOfA\n",
       "VOWP7voVx9mspwl9hrp87SqshXj5n2aw6SMXzt9Ji1u7S7/OsesVf0yklFoYD5J89SLNubZU+0ia\n",
       "dRB43Jvi/DVsHexI1XFgrPk7VNGoJPh/o9T4CVyt/rq2ibKkJoXz36VYmr5O3kA+sBpHBd98rpY6\n",
       "fwoPURHky3VDqPUphQmTvLYP52BEYx8Dfn3tSxyTG2276/9xXPB97QbPlyBP2ppVKZxfogjmmkpH\n",
       "BNPsnHNdt60o6rH0+fencB6tnMOu+yJ+4bEelBlzCnrEfwXYXbHnJFi7ciTmPz3wxqU6HHKAdnmO\n",
       "x68pJTp/93j5efrYj1z7VWG/YsywpefvJDxdLIvXoV3HvieptoDNXf/31VMb4NZF+68dT/lOKBE/\n",
       "500dZaPoY2flPkPr71F/Mb8wvJ2W+kSYfxv1m/NaFespjEq0VCx/2fNHjXvmQon4xtz5HZhs68fL\n",
       "KDxP7c9ure7+eon9x2cqDAe4jXkPn/8wEOib8VZFtMLnhWX5u6IOfuCKQzd9/5FxG3Xd5jL3H22r\n",
       "uxdGuDnZohyLP44ty493FK6wUDrFN9jK718n5etIssENK/eaYMvi+9/aUNJ861/c/1Spq1iMVnN1\n",
       "77/v9br/J3yl/ff7/6Z/AJTp/XnoQzufAAAAAElFTkSuQmCC\n",
       "\" style=\"display:inline;vertical-align:middle;\" /></a><br>"
      ],
      "text/plain": [
       "<IPython.core.display.HTML object>"
      ]
     },
     "metadata": {},
     "output_type": "display_data"
    }
   ],
   "source": [
    "relax_IntervalOO_left = Forall(\n",
    "    (a, b),\n",
    "    Forall(x,\n",
    "           InSet(x, IntervalCO(a, b)),\n",
    "           domain=IntervalOO(a, b)),\n",
    "    domain=Real)"
   ]
  },
  {
   "cell_type": "code",
   "execution_count": 76,
   "metadata": {},
   "outputs": [
    {
     "data": {
      "text/html": [
       "<strong id=\"relax_IntervalOO_right\"><a class=\"ProveItLink\" href=\"proofs/relax_IntervalOO_right/thm_proof.ipynb\">relax_IntervalOO_right</a> (conjecture without proof):<br></strong> <a class=\"ProveItLink\" href=\"../__pv_it/theorems/928f80c8a8469546f42f4baadf4f7762fd3d40fe0/theorem_expr.ipynb\"><img src=\"data:image/png;base64,iVBORw0KGgoAAAANSUhEUgAAAP4AAAAZBAMAAADj+Y5YAAAAMFBMVEX///+IiIgiIiIQEBB2dnbu\n",
       "7u5ERETMzMzc3NwyMjK6urpmZmaYmJiqqqpUVFQAAAB6qHgnAAAAAXRSTlMAQObYZgAAAAlwSFlz\n",
       "AAAOxAAADsQBlSsOGwAAA/tJREFUSMe1ll9oHEUcx397++/udveyJ5FGUkLYElFECCIokpSj1DQp\n",
       "rawlng99uKs1q5QIp1FBhGarEMhLSASDD1ZWmhRKE7JBIVVD3T5EiEbcSn0IiF40VnwQ4kMg+uRv\n",
       "Zm5vd5Ojey3Nwu7OfHd2Pr+Z329+MwDJ12+GDftyccbjzTSbhH271u43325K5owKk+43n/ObkwUH\n",
       "PmX8Knn9nMDPkZfmJfNvJcvi2U7K5zzK/5JoHyXwFQdfmeQoFCebkDMu5cOHlH8en+lyAl8mszSW\n",
       "PHzFa0Ju8Rn/O8rPmFjzk/xPbD2ZzOfjXn/JeLSBvGAyPm8Svoq2ZRLjb625MFyPVrJTZiMZjrD4\n",
       "g4xH+33CMJ5M5POGcaiQzP8c7+c7XjxK53PcjMrpzTad1T7J/035QpXylwCGEvlKBSQzqmmRYOTq\n",
       "pY/xdrkNpTMe1ES+ZEvbLBj/NUs24atsXicgXQ0aytO1wo8D16eifGwyEbPp26DwDsauG1Qwnaq2\n",
       "up3z4mkDZbEHmFWgbQOvE77WTfmSSSq1a5MY0WE5nAD9hWj+GYLjQfX12+dArJucw2YzQeUZ/BsU\n",
       "BpbRscbDgaxsQYp1iJ9bCgQpb1G+pkfC7ym8v6rglHKwokf5N+vDUZbIo24yj60zZshHhf0ohosa\n",
       "Zb4MJfYPmrHgE362uxbXN/AxeKOf2PxPh0nzEvIfdKP8jIq9cu0XrsFB2gn2f6KVxMBo/o9w/dLt\n",
       "bMEWqT2d0fkv6fBDffl/Tadc62T8k7i4xUfkHYLt4twiDSkhfcaL8oV17LMtV77IhjUOcMoeJfwH\n",
       "zHbQAlPPABSd30GglXydj3LJh780WyT8CsYCjb8y47+PvlRcGWcDJE+dnKN85eVybP9JH8aHJ+mV\n",
       "LDXrMroJRkhpGFYhG7R9DuDXtz6DeZZn61kNZUnXHlOghF3lPMmlfKXA+Dn0IO9wVepMpbpqWZbP\n",
       "ccJ8fP/7k86dDeq0Zb0GvxCndrCIuQ5ywH8D4HReW2Zg8fZsKIsbxyYOQKoLS5vLLP+knHD/LdnS\n",
       "Ck5wC/D+m3T8XHbG3Lv/joAt0yh+G8QdGH4BS1vQG85/qhJLgH21/BvKP4X7L7wX2f95e3TOHISU\n",
       "+Q3LM7j+nnV389PdA7jUh2rx97T834pYgC50IxcsFdVtmMBCuRDhL0f42eWbJ2DElxd1SL+C9SsP\n",
       "FU5/sWf8izN5E8bIYCQbrn7f6sm98G6e1mrXq40zaCCLesinm278/MP8NmhZzh3OP2KfdQ6ytYFo\n",
       "9Fmsfyw25hd3Z2rkU6Nj/KzZ/PnrGnvNRivERXrDHnbL3CEH2vac/9S7OP8JzFa6GFVnf8+/HzQ6\n",
       "/0fmSrz383/P/wilACIkZZZ0AAAAAElFTkSuQmCC\n",
       "\" style=\"display:inline;vertical-align:middle;\" /></a><br>"
      ],
      "text/plain": [
       "<IPython.core.display.HTML object>"
      ]
     },
     "metadata": {},
     "output_type": "display_data"
    }
   ],
   "source": [
    "relax_IntervalOO_right = Forall(\n",
    "    (a, b),\n",
    "    Forall(x,\n",
    "           InSet(x, IntervalOC(a, b)),\n",
    "           domain=IntervalOO(a, b)),\n",
    "    domain=Real)"
   ]
  },
  {
   "cell_type": "code",
   "execution_count": 77,
   "metadata": {},
   "outputs": [
    {
     "data": {
      "text/html": [
       "<strong id=\"relax_IntervalOO_left_right\"><a class=\"ProveItLink\" href=\"proofs/relax_IntervalOO_left_right/thm_proof.ipynb\">relax_IntervalOO_left_right</a> (conjecture without proof):<br></strong> <a class=\"ProveItLink\" href=\"../__pv_it/theorems/ce716d001a5f55c5e6537f4c798a561e194db9190/theorem_expr.ipynb\"><img src=\"data:image/png;base64,iVBORw0KGgoAAAANSUhEUgAAAPwAAAAZBAMAAADnDF5lAAAAMFBMVEX///+IiIgiIiIQEBB2dnbu\n",
       "7u5ERETMzMzc3NwyMjK6urpmZmaYmJiqqqpUVFQAAAB6qHgnAAAAAXRSTlMAQObYZgAAAAlwSFlz\n",
       "AAAOxAAADsQBlSsOGwAAA+RJREFUSMe1llloE0EYx79Nskd2s+mmVFTUEiL1RKiiKKISBE9UFqmC\n",
       "+JB4dJVSIVIRRLArQsGXUgXFB5WAVRAVUxG8iqYPFU+Mig+iSJSqCAr6UKw++c3MJjs56EaxA93Z\n",
       "2Uzn9x3/mfkAvNuHmA1j0YTYnFqm9cBYtSf/G69U+1g/vdztlDI2+CnVPq4t/xBIqwbD50n31gMf\n",
       "Jp2e9abrcS+8uCNK8DCZ4W+T7pQHXktjF6xBgFvA0/tghuKDJsUfIglLeuBlEqOuGmLf742vy1F8\n",
       "KEPxxIpAziv3J7BbXwO+uURh22MzK/FXTYqHBRQfwowGPaX3pDYF6vwc9ZhZzfvlwPCnmfLnxWLz\n",
       "PfH+WGxq3Buv4Rwx8nEfDdRRkwu+MjTBYIOzkW8Uv4HhbwC0euK1FEhmiZ+cDgVXVhhKDRqNa6V6\n",
       "Rvw5Wxpmyv9lJmyCf8jw3aDkC/Pkk87LizV3j/F4nNJdYtKjwssBlG2mMPChiB7AM/Nr6XGxFsQl\n",
       "oEWZ3cPgNwj+JcNLJhk4bYjY0GilhQCsjvPHTqubwL2f2kAsWhzGab2FgR9XSsEt5gpmNTbNwWvf\n",
       "wcfW03qgLk6InQyvG5zyFuLfnRTGU4BBg8c/Lzqj3SCPosV+nB00OTzAXBblJOe9PwkJ9i9oxdUc\n",
       "wZ9zDt2eAXy0DKwmFv9oNAVyuCF+XIbHB0NojTDp8E12XPlw+XUNJP+dkY/uxiXBB3UENpFBlMMn\n",
       "DHhW3Pb3aLxfOPj1uKnFGfIIoTYJmc1UTQFlW5bHB16jhxPCyTPMqaMAG+1Ogq83J4FesFQyQGwL\n",
       "NwONc4TH5+CLbosEn0IdEPx9B38E86hlZHJiSNlQz2WK13YmS64cZRk+spKRUqlVFzBH0EHe2lHC\n",
       "amFuIA/6z63NKo1GMOfiJUOfrUECVwpnpQzFX3fw4RRJmpCnidTyDy3LyglC4ErpjfeZRs6G0EnL\n",
       "2gPvABZDI1PLXZALeDkKYp/x5ilL/qfzrvLfr+oeD74m/DrUz46dWdyFm7ClQYxuHfhz+6j3gtpr\n",
       "Vl64HWDLNLD7QRyBdpLi77DUDT6UXOzqyvJD91XxwgUlyuH9dudlswV85n12vODGW5EpxyvNa3CL\n",
       "tzrSWyT/HhTj0BRKglDcJI9Hv3LiLl7Lcni1//k66MjJfQYou3B8cWJ8660K7/t6IyZ0pYhIbLj0\n",
       "tCErL4WDEToqaM8eDS8aLr6rstphWmmxrPQo1Y640moD1fFDp8/N7o/J0fCCW+3A7gq8atZebN1k\n",
       "3Xl+QNrhagssL6/1pqYFuwIf+otaL8BMpbswlB7TSvd4tTqfi5T4z3X+kj9r9vrcylHJZQAAAABJ\n",
       "RU5ErkJggg==\n",
       "\" style=\"display:inline;vertical-align:middle;\" /></a><br>"
      ],
      "text/plain": [
       "<IPython.core.display.HTML object>"
      ]
     },
     "metadata": {},
     "output_type": "display_data"
    }
   ],
   "source": [
    "relax_IntervalOO_left_right = Forall(\n",
    "    (a, b),\n",
    "    Forall(x,\n",
    "           InSet(x, IntervalCC(a, b)),\n",
    "           domain=IntervalOO(a, b)),\n",
    "    domain=Real)"
   ]
  },
  {
   "cell_type": "code",
   "execution_count": null,
   "metadata": {},
   "outputs": [],
   "source": []
  },
  {
   "cell_type": "markdown",
   "metadata": {},
   "source": [
    "***Some Analogous Non-IntervalMembership Theorems***"
   ]
  },
  {
   "cell_type": "code",
   "execution_count": 78,
   "metadata": {},
   "outputs": [
    {
     "data": {
      "text/html": [
       "<strong id=\"not_real_not_in_interval_oo\"><a class=\"ProveItLink\" href=\"proofs/not_real_not_in_interval_oo/thm_proof.ipynb\">not_real_not_in_interval_oo</a> (conjecture without proof):<br></strong> <a class=\"ProveItLink\" href=\"../__pv_it/theorems/c69fab638baa6efdfae760726622c19c51c91c9e0/theorem_expr.ipynb\"><img src=\"data:image/png;base64,iVBORw0KGgoAAAANSUhEUgAAARoAAAAZCAMAAADZjhGSAAAAS1BMVEX///9jY2MJCQkdHR0NDQ0W\n",
       "FhZeXl4kJCQfHx8xMTGIiIgiIiIQEBB2dnbu7u5ERETMzMzc3NwyMjK6urpmZmaYmJiqqqpUVFQA\n",
       "AABm3tfNAAAAAXRSTlMAQObYZgAAAAlwSFlzAAAOxAAADsQBlSsOGwAABAVJREFUWMPdWYmS4ygM\n",
       "ZWevGQHiBv//ly5gsCEB4nS8tbVNd4WuWAc8Sw+JJuSWESilinybAXE7/iZbmny34dz/Fhr11lN1\n",
       "0Zr6BtDAOt41viNNiIF+ztCE47F3n0Fzj6Vrw/PlYxmuSaNgtIDn+jlBY82xPfUZNPdYujTwRZSe\n",
       "S3klre1DnNU5QnMArMSHCXWPpUvDvghLell6q6nm7MPsTpi4/5RrbrF0abAVCwn65x9UX5M220FK\n",
       "DLs5QVOp+CMm1S2p/+uc7OcejAYkQV6UJvyML+26OW+G0TQY//yEusPSpXwqHhAgoORNlKoUuQ/c\n",
       "UqWJChwU9OsO0cSuzgsflDlDYzPGAj+H5n1LdlFzybk3d2hDAGKbV58OAAdDacPiQ7G1q8MtQolb\n",
       "PjVcAbTMGRoV6sfjEagf+NRTrm3QMINmaunkARu6F7cgbDH3V4p4F7fk4laDG3NeL40sx0HH0D4D\n",
       "xbIDXyipzDs7pNfMzagzqqEoIQgRJYDEb7jis5JvbKlqowhxM17wl9BEjV8/5/7Y7iKFle2SR6aU\n",
       "/v1H/BBP0nbLOHW2du0tfye3YmNroPEwoU5WYtra8gfEH+IQZtAMLR3afFd0L6FJGgHn/tiJPoO+\n",
       "hBsckEWaiZxB3YvLQJn9ADes5l3bKOgjPZE74LVgk1uiuaZC3JcKaKeNwmkJwKr422ijk+axoWmh\n",
       "6TQwLPydXbFJPIHYFTR0KI1bWpjbnqsau9OPp5U1Wmi4L+mJVEVA1NGaIwG7v4oKDY8FHbgpNIcl\n",
       "UCQIon2j7ZVXA0I5bHcaYBb+BOwhYkhIr5i38BJjx9IZhqBJWkTFcpOVgyIWZS1lLtAoFmokp3w9\n",
       "bLrM18Y10FjBxaK9PCy5vKTo+dR26HABTa8hVv7289VvEm1crGkTSPsgh9IZIU9tOtbiwVTINDm1\n",
       "/Rlf5lqkVXMpLSG0VGNDREfk4fcA58YvOu9mYfVMrNpSGrmAptP49ffKn8wxjzbGiLeue4zhh8GR\n",
       "dHwCXKoAaQ2UliwJ/OgiqOnmh0uJfMILV3M35SWLW+Kk5RpjOF65lEjRF8012oWGCU6gaTQCLv3R\n",
       "ec3jfuMinlB6Le2fTCraz4/3NSxRjYlxj2lDEdqceGcNtx+mCxo+HDHC9V7RndqKJ5IlfFjXdBoY\n",
       "1v6cvXpTM5Hm0461zo/QmBiewF16gTFMZYrY3EnLo0HRPAay1S+jxoLhANhqp/Mv5oqV44RqNf6S\n",
       "L/yJ2bXHsOt/kn4uP6reob+45WszGHliC/PFW76V9riuwZ+v/OGsjB52/U/SMEXvQHEOjXmvpfpq\n",
       "sz3e4YVbQgXj78Nb0m3l0M0raN68wrwXmvBRq3vPuO/a/Iv/hxrr/OfIAKXM/QMmnUWGOhb/fQAA\n",
       "AABJRU5ErkJggg==\n",
       "\" style=\"display:inline;vertical-align:middle;\" /></a><br>"
      ],
      "text/plain": [
       "<IPython.core.display.HTML object>"
      ]
     },
     "metadata": {},
     "output_type": "display_data"
    }
   ],
   "source": [
    "not_real_not_in_interval_oo = (\n",
    "    Forall((a, b),\n",
    "           Forall(x, NotInSet(x, IntervalOO(a, b)), domain=Complex, condition=NotInSet(x, Real)),\n",
    "           domain=Real))"
   ]
  },
  {
   "cell_type": "code",
   "execution_count": 79,
   "metadata": {},
   "outputs": [
    {
     "data": {
      "text/html": [
       "<strong id=\"not_real_not_in_interval_co\"><a class=\"ProveItLink\" href=\"proofs/not_real_not_in_interval_co/thm_proof.ipynb\">not_real_not_in_interval_co</a> (conjecture without proof):<br></strong> <a class=\"ProveItLink\" href=\"../__pv_it/theorems/3bc9b9a26db1fe0282061889c1478de27cf201000/theorem_expr.ipynb\"><img src=\"data:image/png;base64,iVBORw0KGgoAAAANSUhEUgAAARgAAAAZCAMAAADde8GvAAAAS1BMVEX///9jY2MJCQkdHR0NDQ0W\n",
       "FhZeXl4kJCQfHx8xMTGIiIgiIiIQEBB2dnbu7u5ERETMzMzc3NwyMjK6urpmZmaYmJiqqqpUVFQA\n",
       "AABm3tfNAAAAAXRSTlMAQObYZgAAAAlwSFlzAAAOxAAADsQBlSsOGwAABBRJREFUWMPdmY1y3CgM\n",
       "gLnetdcKI/7B7/+kBQw2eAE7Wd/cNCQTMutIgs+SkAghjwxPKZXkiwwIm3EP6VLkaw1r/1gw8vbT\n",
       "4ADini75BcDA3NcVHr8zfaVMQzsnMH5/7OybYJ5RdWs4Nn0sPLkBBvlCM2bbzhGM2cWUfBPMM6ru\n",
       "DLzwUKPJLY9R5uRhZQ5gdriSvxtKz6i6M8yFR1JyD8xaAtKa02wPSMy9nWMeUXVnLLPsw+n3f6i6\n",
       "A0aveypasJkjmJKA38qfqsnl/3UqdmMDWgESL+55DDs8S9lmTjtZaBwLe+BUekLVnUjKBhDAo2CV\n",
       "g8rotKcMtIGRnoGE06p9ULAJs5wG8pzAmMSX4wNgPqzKTGqscfFRXm+QBg/EVC8+Zn0Lr2D0Ep7w\n",
       "tVkZrgEjrumgsHkHtvJ96cuP86GnTknUUaaMVzAEM1R1JADj6xc3ydJ8bDAX7DZsyYa9etuuQ+EL\n",
       "GFySC9B2O4nTkrS7nLbyvCWF+Ia7gehLTAjwnIe/ABI+YZINC7y+qiKO3Ie9OM6uwASBXz+jmr7B\n",
       "ZbMQXco0YSNiLP/9LfzgLRizJqCtnk12TR+KNWtYKzAOBvlyyd5sTP4FwhexCEMwXVW7ONsk7RWY\n",
       "KOBxbHA50C/QlmydMzGCWXgKnfaVJU56O7J19hhde0zYSglLZBZYqc7EGpNbVQ9u6wQ045bgUAVg\n",
       "ZPiuxNEKfepJajCNAPqJwaP31TFDIDYFDCUvYHCNi7Jrp4oxW95xtGSLGgxzOSyRyoBD7t0XEjDb\n",
       "ayhgWKjewI7B7KpAEs+JcpW4k052EknR3QiAnhjksLmHJj6+YFbDJdr0wEQGXpG4gB3jKkryCSTy\n",
       "SvKcwcjFFx+OcbrbtylLa1uBMZzxWRO5q7Jp/cH0IW7R4hhMK8BnBrcz1a0CTVisrkNHOS9ewSSU\n",
       "jpp4joWzqKTQaNK0FUCeS0VWlMXgBV+nGOMDG56G2zybaTfrrqt1lYOwiAuhxRhMI/Dr32RvYFAk\n",
       "f0cT/MMZ2zxF/03jKxj0wIT0EO1TiuVv2d5bUN3Mp2uHdKZzW2I2huQS9sNInWO0Znjr2iG6XtBX\n",
       "iefkezhzC6YS8Dg1OLlgsX8xHk6lWUvgXtcvaTuf72OWmGJ0cHiMuwlkU8gdBdt2es6S7xFShKmt\n",
       "gDvEJYu5lbBeHdMIoJ8btObWTcwADBt3pWU+g9HBMYHZ+PKCg4roq6lZFnsjolhwYaOuPcaAZgBY\n",
       "i8dDL4SJEd1QqgV+XBnko3uNTmN/BtOpNorULj25wasjF1lMEvqzN3gT8X4dgz+v7OGoZO409mcw\n",
       "ncK9cN55j8Hoj7VOn+2n+/u7cQEoof+57/XQV3e+INt5BuaDd5PPgvFvNbRPjOcuwz/5f6W+zP/M\n",
       "BShd7G8WnUW87aFR/AAAAABJRU5ErkJggg==\n",
       "\" style=\"display:inline;vertical-align:middle;\" /></a><br>"
      ],
      "text/plain": [
       "<IPython.core.display.HTML object>"
      ]
     },
     "metadata": {},
     "output_type": "display_data"
    }
   ],
   "source": [
    "not_real_not_in_interval_co = (\n",
    "    Forall((a, b),\n",
    "           Forall(x, NotInSet(x, IntervalCO(a, b)), domain=Complex, condition=NotInSet(x, Real)),\n",
    "           domain=Real))"
   ]
  },
  {
   "cell_type": "code",
   "execution_count": 80,
   "metadata": {},
   "outputs": [
    {
     "data": {
      "text/html": [
       "<strong id=\"not_real_not_in_interval_oc\"><a class=\"ProveItLink\" href=\"proofs/not_real_not_in_interval_oc/thm_proof.ipynb\">not_real_not_in_interval_oc</a> (conjecture without proof):<br></strong> <a class=\"ProveItLink\" href=\"../__pv_it/theorems/5bc4e2f4ec51111a49965a52fd37b49bfa5990960/theorem_expr.ipynb\"><img src=\"data:image/png;base64,iVBORw0KGgoAAAANSUhEUgAAARgAAAAZCAMAAADde8GvAAAAS1BMVEX///9jY2MJCQkdHR0NDQ0W\n",
       "FhZeXl4kJCQfHx8xMTGIiIgiIiIQEBB2dnbu7u5ERETMzMzc3NwyMjK6urpmZmaYmJiqqqpUVFQA\n",
       "AABm3tfNAAAAAXRSTlMAQObYZgAAAAlwSFlzAAAOxAAADsQBlSsOGwAABAZJREFUWMPdWYmS2yAM\n",
       "pXcrQNzg///SAjYGErCdjTudlt3J7MQ64Fl6SFpCblmBUqrIf7IgHsbfZEuT/2s5988Co156qk5j\n",
       "RHZS/y4wcBzrGl+Rjoub+GGgASbsz7x7E5h7TF1anh8+luGaNApGG2AIuAqMNfvh1JvA3GPqysKT\n",
       "CK07OZPWtgVmj7QIzA6uEu+m0j2mrix7EpH0svTiO2CcrRxTQOL+bY65xdSVxY7YR9BvX6m+Jm0W\n",
       "7IAhDHdgCgG/xZ+64/I/TcV+7sBoQBLkRWnCKemB0a6ehNG0GL/hVrrD1JVM2hwgQEDJmwBVKWgf\n",
       "OKVIExU4KOj3HaIJ3wDDQwXGZnwF3gDMy6bsQY0l597crg0BiK2UklnfwVDasPhQLO3mcIlA4qIq\n",
       "MK6JfRXKx+Olpx9I1FOubdAwBWZqqhKADe1bO2BpMXe4FewuHsjFgwbX7+OhiNmkkeUo6HjZZ5gY\n",
       "VGA8a0ghvWFuRh1QCUIJQYgoASR+wxWfFnhjU0UdRYhn8YKfARMVfv1MZsYO2eohhZTt0kamXP7y\n",
       "OX6IJ2m7ZJQ6U6v2wuum5dIA42HCl2yLZmu3PyD+EIcwBWZoalfnq6Y7AyYpBJw7ZBV6Bn3BNrgT\n",
       "N2kmcu50by3DZNKVXYAxbcTEo5S0RO6Al+pMLoncmnpw3SegnbcE1RSAVfG3UUcnzUPn0gLTKWA4\n",
       "cFh7X5P4AbErYOgw8XBJ+3LLcxVjlybMPW2B4X5LS6QqwqH21goJ2PU1FGB4rN7AzYHZTYEiQRDt\n",
       "G3WvvBoQSbHdKYA5cChgDQ9DQnrBvAWXmMfXtklnEIImaQ8FyUUW7tnJV7TAKBZKDKc83S26zNLG\n",
       "NcBYwcVRE7mbcnlH0XFVd+hwDkyvII4crneqXyTauFnTpo72QQ6lMz6e2nSVxctoI9Hk1LZ1zHa3\n",
       "l4qsGEvpCKGlGBsiNiIvv0Y2N/6ou272tYZeVZfSyDkwncKvH9nfxKHM8Y42xoe3rnuK4bPBkXR8\n",
       "AlyqAGkLlG4ZEvjWLxRgqBmNHfKNLlzJ2ZSPLJ6Hk5ZjjOF4aeyQQi/aa9Q38iU4BqZRCHjokM5r\n",
       "HPeJi3gr6WNpj6OxQ3RPx/MYlijGxIDHdJoIa065WrCtt+cR+daUIlyvBVxVVzxxK+GjOqZTwHDs\n",
       "0Nmrk5iJNCdjYEq/+QiMiYEJ3KWXFwNUpljNzbLcGxHNYwhbfR4xFgwHwFY9XXoxTawcplKr8P3M\n",
       "oZjNNYaN/ZP0c8GxArNrH0zw2sxFnkjCfHSCd6A+rmPw55k/nJXMw8b+SRrGE7yK4BwY81rr9NF+\n",
       "eny+CwNABePvw0vSdeabq0BQ5zPfF2eT9wIT3mpo71j3DcM/+H+lsc5fxgUoZe43b0VFmw878AQA\n",
       "AAAASUVORK5CYII=\n",
       "\" style=\"display:inline;vertical-align:middle;\" /></a><br>"
      ],
      "text/plain": [
       "<IPython.core.display.HTML object>"
      ]
     },
     "metadata": {},
     "output_type": "display_data"
    }
   ],
   "source": [
    "not_real_not_in_interval_oc = (\n",
    "    Forall((a, b),\n",
    "           Forall(x, NotInSet(x, IntervalOC(a, b)), domain=Complex, condition=NotInSet(x, Real)),\n",
    "           domain=Real))"
   ]
  },
  {
   "cell_type": "code",
   "execution_count": 81,
   "metadata": {},
   "outputs": [
    {
     "data": {
      "text/html": [
       "<strong id=\"not_real_not_in_interval_cc\"><a class=\"ProveItLink\" href=\"proofs/not_real_not_in_interval_cc/thm_proof.ipynb\">not_real_not_in_interval_cc</a> (conjecture without proof):<br></strong> <a class=\"ProveItLink\" href=\"../__pv_it/theorems/30678cacce9e58d3a40e201f0e00b59e750bd9a20/theorem_expr.ipynb\"><img src=\"data:image/png;base64,iVBORw0KGgoAAAANSUhEUgAAARYAAAAZCAMAAADDsvEcAAAAUVBMVEX///8/Pz9vb28YGBgJCQkd\n",
       "HR0NDQ0WFhZeXl4kJCQfHx8xMTGIiIgiIiIQEBB2dnbu7u5ERETMzMzc3NwyMjK6urpmZmaYmJiq\n",
       "qqpUVFQAAAC8nQ0wAAAAAXRSTlMAQObYZgAAAAlwSFlzAAAOxAAADsQBlSsOGwAABAhJREFUWMPd\n",
       "mYly3CAMQOl9CSPAXP7/D63AxsAuxk7WnU7LZjI7MZLgWRISYeyWETjnmv0XA2gr/iZdM/ufhnP/\n",
       "LhZ99Sm9fnXmH6oR+YexwNjRZ9y/CnOqLE0xUGEJ+zPvXsRyj6prw4vhYxXYORaUE6+ngCtY7C40\n",
       "6xex3KPq0sAT97SGXfGW2TZTsosRlp2rlq8G0T2qLg174o6cXcKy+GaKsyW3ZETCv5xbblF1aUyD\n",
       "pCM5//Z1voLFLNhOmXDHktPuS1lzbjL4H0/A/tCCmYG2FtQlbxH8Ycrsyj4mHsckbjiJ7lB1KYY2\n",
       "CwgQUIninTo5bJt5tj3rIEBDu+pA8r7CIkLBYhNaiTdgebMqO6ipBsXG9lajOARglre53sEzFjPR\n",
       "I7nUS8OFIOKiCxZXeb0O+dfjKTc/pE7PxWzDDIdYDlWVwLehfmeD3CwHBrfq3NGOHO00uH6Oq7Dg\n",
       "lDyAN9tJkCYoWPxUJYP4drsBGHI0KAhS0gxg9BehxWE511eVxVEG2oiX4gwLCfz6GdUcGJxWE9Gf\n",
       "bB0wKkXxl8+cywcsdkk4G0Wr6CLKktVSYfFwkCWnzY+t3b4AfZhDOMTSVbWLi1XSnWGJAgEHBqdC\n",
       "foKmQOschGnPk0xR07yxBMnEQzpjMbW30EZyNKJwIHItppaY0arqb10loD0u/osqAKvppxJHp8xD\n",
       "w1JjaQQwjAyWFtfE1IDY1Cv8ubLHJa7KLc9Vi10qB/e8xiL8Fo3INcHQewuFDOz2CrZVCqrVwB1j\n",
       "2VWBZkGy2VfiXnvdSSBZdyMAZmRQwuobhoX4fkWFlkjZHpaIIMwsriBDXFTOOXvKlTUWPYXsvTE+\n",
       "d+Mu5WbjKixWCjlqFXdVLi2eDBdxhw6PsbQCcmhwPUj9otDSak0VNIQ1qE4fGEF6buPZRQfQljqj\n",
       "SVvXLdvBn+uvrCnGLIQ6tdhAZGQafvVpYfyog64WtbpdEVfKqGMsjcCvH8nekUGVnB0tOYe3rn6M\n",
       "QX7CDhYMIJQOEBfA+RYbQWxNRMbCTe9iIZ3h0uVQjZE40W4qH6WPMQIvXSxEtyN9lfiWchn2sVQC\n",
       "AccGBzcoHz9Q9c+Hxb/H3sUCGef9+5YpphZDro5xLwQ1BVspz9bzcpRySzAxMa/lWhHXImZUJnp1\n",
       "SyOA4cSgs1duWo6wCNafkhvQRyyGPBKEiy+OPFNFJ00NsdobjlmQ79r53FssGAGxPyni8aCjALGq\n",
       "G0S1wPdTg/Lo6uK5e3/C8lxgrFN20cHtXBOwIiYH897buYF4v27Bn2f26uPxYYf+FAv0b+cK6mMs\n",
       "5m0t0nt75v7mrlzuaej/PXT65NO73FQegj6/y33jreO9WMJLbevr474r7nf+n6gv81epAOeT+w1B\n",
       "LE4+YKcHVAAAAABJRU5ErkJggg==\n",
       "\" style=\"display:inline;vertical-align:middle;\" /></a><br>"
      ],
      "text/plain": [
       "<IPython.core.display.HTML object>"
      ]
     },
     "metadata": {},
     "output_type": "display_data"
    }
   ],
   "source": [
    "not_real_not_in_interval_cc = (\n",
    "    Forall((a, b),\n",
    "           Forall(x, NotInSet(x, IntervalCC(a, b)), domain=Complex, condition=NotInSet(x, Real)),\n",
    "           domain=Real))"
   ]
  },
  {
   "cell_type": "code",
   "execution_count": 82,
   "metadata": {},
   "outputs": [
    {
     "data": {
      "text/html": [
       "<strong id=\"real_not_in_interval_oo\"><a class=\"ProveItLink\" href=\"proofs/real_not_in_interval_oo/thm_proof.ipynb\">real_not_in_interval_oo</a> (conjecture without proof):<br></strong> <a class=\"ProveItLink\" href=\"../__pv_it/theorems/420e3150f47f62f8ac10861d6b4277a308f0bf470/theorem_expr.ipynb\"><img src=\"data:image/png;base64,iVBORw0KGgoAAAANSUhEUgAAASYAAAAXCAMAAACRSxJUAAAAP1BMVEX///9jY2MJCQkdHR0NDQ0W\n",
       "FhaIiIgiIiIQEBB2dnbu7u5ERETMzMzc3NwyMjK6urpmZmaYmJiqqqpUVFQAAABqwkwZAAAAAXRS\n",
       "TlMAQObYZgAAAAlwSFlzAAAOxAAADsQBlSsOGwAABBNJREFUWMPdWNmS4yAMZGd2hbkv//+3Ljci\n",
       "xo5dNS8Z19SQxGoJ2lIjTMjvudSTu+quN0V+1wX+8rbmD4zjZQCPof/u3Uez5NnlbRnuGXOx0cqk\n",
       "Q6M1ne6PTi+ur++Pdb4z1vYl/9LYWVbio5PJvqkFett4b/XoLBobZ8x/NE3blWoJ+u8v1feMzd5F\n",
       "bONjdJVZ/dnKdD59o4GTIO8Zx3QZeacdGjearo19ds3V6XOAwCVDpaFSucxi1IyJCgwUvEhTiC4K\n",
       "nFVByqPNRAv+I7OdnvD7PQGWmaGeg9qDjxOAAMSilEjeHKyMzRbviX1aOd8jrXzPU3CV3Dyq0P69\n",
       "7qH6UtU9ZdoGPU0AA5xZooQ65XXgXkK/B9Hy/F20c3HdYWi0PjZN1Zhveaun8/wya1tela8aVsaU\n",
       "SGy1prAuRAlBCJOearzPFFvTxMOSpJdUMAyvO3QcDn0CmhW8zD8Vhp0KTCZN+f6K/8Srsd0zZ7Oz\n",
       "gt7zj3KvPvLo4UTAN7ksLCtb8keg47CmyR6Jd8Ktm+Pa2eblF9wIfQpa0UR6Jox28biLV+NN5CKb\n",
       "55lZM6UpMFsrzpqXrXY5c8Bagss96WETBLAq/o3mtNIE3K5poi+4uC2PyY44ZQUFl/WRTqExaLg6\n",
       "Ni/Ujw09WnA+zYOujPmeFu32Rddki1552uSltkz18XCq4gwbTUA5gUoCKBIE0b48nUYTi00puCVN\n",
       "Ss84uaGloTje9oNSTqaCq6EnUHfVQJMoQkkdQ0J69KiQAIixS+PMSNB5y+i07rKJVkpkgke1hVZP\n",
       "qZi7N4fEPjuPLoxDNFnBZpUf34yYcVFhGB912+NUO9GSqXxvoTFouGog3O2Eor+S2+jX4GzTPsiV\n",
       "cWbLU5uUMe5vTR5TGDs3Dm1sflLRQsDSZIcQt01S5MuXomPTjBBNPsy4vLi2ZhRHVjpdFeaCG6EN\n",
       "Iqq7kgeaZK4LbmPueOumOfHwZfjCON4AJlWAtHhKebNm/ShDzTz2niH1Ea4VdqrakfXp6cfbkhGs\n",
       "TcYwvqSpr6Ti6jE9SwuO0+pH186t4HDoCsKujkVHqDztXNwfJuJOpy+N/bFvVHQexxaQJMO42F8l\n",
       "MiLBqSrTZ7URpsvGPfrQ0hBcSjjCtb43KXOPk6WjrKW1ABlXQ2MQdgXHDtPZm2+aTozZ+Wn6cFA2\n",
       "MV+BOVK0U9o8nfzZgmEAPL9JkP2spFnMc9ynIJpKRzhw+K1gj9PM0GLyDzX0BEKuxKJPF2e9++rV\n",
       "x8GYwynu8tWJP/mcsitp07LFxjSZW4dEfpjDDRwXd388e/VxMIZzKsXF2QmLnrl/3MPR7Z3XfAuj\n",
       "97i1hYK1dXhiPPUf07iWvZPPD2gik7hL0S717tw3cA9AH3XNzL/PQv7g1wduf/z6D4U1NGPmnLt+\n",
       "AAAAAElFTkSuQmCC\n",
       "\" style=\"display:inline;vertical-align:middle;\" /></a><br>"
      ],
      "text/plain": [
       "<IPython.core.display.HTML object>"
      ]
     },
     "metadata": {},
     "output_type": "display_data"
    }
   ],
   "source": [
    "real_not_in_interval_oo = (\n",
    "    Forall((a, b, x),\n",
    "           NotInSet(x, IntervalOO(a, b)),\n",
    "           domain=Real,\n",
    "           conditions=[Or(LessEq(x, a), LessEq(b, x))]))"
   ]
  },
  {
   "cell_type": "code",
   "execution_count": 83,
   "metadata": {},
   "outputs": [
    {
     "data": {
      "text/html": [
       "<strong id=\"real_not_in_interval_co\"><a class=\"ProveItLink\" href=\"proofs/real_not_in_interval_co/thm_proof.ipynb\">real_not_in_interval_co</a> (conjecture without proof):<br></strong> <a class=\"ProveItLink\" href=\"../__pv_it/theorems/bf3736789df6b378103ecba076b3204da0de05e30/theorem_expr.ipynb\"><img src=\"data:image/png;base64,iVBORw0KGgoAAAANSUhEUgAAASMAAAAXCAMAAAB3YtkQAAAAP1BMVEX///9jY2MJCQkdHR0NDQ0W\n",
       "FhaIiIgiIiIQEBB2dnbu7u5ERETMzMzc3NwyMjK6urpmZmaYmJiqqqpUVFQAAABqwkwZAAAAAXRS\n",
       "TlMAQObYZgAAAAlwSFlzAAAOxAAADsQBlSsOGwAABCpJREFUWMPdWImu7CYMpa+tCfuW///WsmMC\n",
       "yeRKVdV50dV1JmBsDvbBQMjv86i3rUCpfDeUIr/XA/6xWfP+ysynsQxgGfp3774aIs8em+WY6D1G\n",
       "XBy0Au6QtL2//urA4vq53RryJo60vYRdkh1fJb46jOyHLKDkFUZnS1hnkWyAMf/VGB1PTCXo339R\n",
       "/QIjc3bWOviQri6A/m42unffaOAkyFdxxEa4aYfkQdNzsO9Oteo+BwhcMpQUKiXKzFYVIxUYKJjp\n",
       "KET9ossqCWVpM8SC/yuuzov7cReAbUyon2u1VY8OQABiUTyk0RysGJkjtogTz5ufEVB+Zvuuwpql\n",
       "Cu3fdbvUjzTuKdM26Mn6pODMT0EdahfbXqhnLVoW38VuLk47DAbXl+KoYcSPvK3TyUxG7MhT8pXh\n",
       "ikwhtE3RsM8/CUEIk5YztjPFbjDiYb9Jz2TB8JzDUMO2vbhEjlkcO4r/KSXslFcyUcmfv+I/MWNk\n",
       "z4ztNFJRPfM3edYBsvRww9jHtmK3VraQj4qOww1Gdge7soGv5W8tX/PUq9qw7YR7KponjEgPg1EW\n",
       "rnt2xugQObkmJzNipuz/psZRlbrnK2cOWAtreSYCbBwAVsW/UYFWjIDbG4zorFeK3aAudor7RS9z\n",
       "Ip1tgxjzG2MthQr1Y/uOHTif3KBkwYifacruXKsjWyjK00YptTSq68Kpit6pfvTjBCoCoEgQRPuy\n",
       "Lg0jFitPcHuMlJ70kveiYYXseNvPQTmMilqzLQ8EBhrLXxmpZCOPFBDSuqMMAiDG7jBK4wSdd4iG\n",
       "6CkbT6XwJViqI7Q0Sgnc7TrE7tmNOIRxCCMr2Ezr6JcRk178zfhI127HiK6Yw6j9rrY90hpjtV5o\n",
       "2qFwruQ2jmtwmGkf5IpRRtVTm7gwbmeVD5MJO1cTTbZBUlZDwHRkB/G2LVHkx5dcY5M7GCMfJr0p\n",
       "IpAdWVRiJVuIuKoN2xhb0mJcXjGSOSO4jVHjrZt84uGX4StGPACTKkCaOqU1jwLrZxpqZtnLg1Qx\n",
       "uJbMKVfHzNK6x2bJCOYjYxjfY9SmUfUiBXVmwXZa1uhaoVU1bFuGzmd1rDXXyMONkPuDibivPZ1F\n",
       "/FIdKjrLsb6JJoyLdVRCIoKbkjG9q4MwXfboUWyWvf+Rs5Fe5l93sZPpokykbfbFp2q7ORwif+Ox\n",
       "YCkjnX1zc3SHEbs9Iy9nZRPDFJirmSFtdiW/WzAMgOf7AdnPQZrF8Mb1CMYol31DD+/j3U7thWdS\n",
       "PlTb08UgGkuspbi4q87XC40FIw53So+3If7mPSeNyDXk5hGPhd6mYuaLD+bFwZGLd99uLjQWjOAW\n",
       "cfFwLsIsZ94f5SY/7YtLu02fF2rbLgr2ncPmdP/pPhvULPc8d/P+E4wI+wju9kiH1KRoj/rhQfD/\n",
       "+6ins9nHw9tbNf7fTuoflFM0FTSQQ30AAAAASUVORK5CYII=\n",
       "\" style=\"display:inline;vertical-align:middle;\" /></a><br>"
      ],
      "text/plain": [
       "<IPython.core.display.HTML object>"
      ]
     },
     "metadata": {},
     "output_type": "display_data"
    }
   ],
   "source": [
    "real_not_in_interval_co = (\n",
    "    Forall((a, b, x),\n",
    "           NotInSet(x, IntervalCO(a, b)),\n",
    "           domain=Real,\n",
    "           conditions=[Or(Less(x, a), LessEq(b, x))]))"
   ]
  },
  {
   "cell_type": "code",
   "execution_count": 84,
   "metadata": {},
   "outputs": [
    {
     "data": {
      "text/html": [
       "<strong id=\"real_not_in_interval_oc\"><a class=\"ProveItLink\" href=\"proofs/real_not_in_interval_oc/thm_proof.ipynb\">real_not_in_interval_oc</a> (conjecture without proof):<br></strong> <a class=\"ProveItLink\" href=\"../__pv_it/theorems/03d104892ac56087c05f3b5b00a9db0a88c943530/theorem_expr.ipynb\"><img src=\"data:image/png;base64,iVBORw0KGgoAAAANSUhEUgAAASMAAAAXCAMAAAB3YtkQAAAAP1BMVEX///9jY2MJCQkdHR0NDQ0W\n",
       "FhaIiIgiIiIQEBB2dnbu7u5ERETMzMzc3NwyMjK6urpmZmaYmJiqqqpUVFQAAABqwkwZAAAAAXRS\n",
       "TlMAQObYZgAAAAlwSFlzAAAOxAAADsQBlSsOGwAABCpJREFUWMPdWNkO4yAMZC8TzA35/29dzmAa\n",
       "krTSvnRRVaWNLwZ7MDD2/wz9yVv9YAw4V89S3zYg3L42+IFwHsIyZiE/xeO/4L8aoiBuX6v4njDK\n",
       "jQ+MGGRQnD2A/urEQnP/fszzSdg4glFJvwNfLb86jdxDFfC3hfdAMfKO1KkIX43RdsdUkv/5zc17\n",
       "wnZHihHb0k/fMDXfzUbX4VsDyKJ6TzhBw9mEkcn4bDyPTXx3qbXwESCiEqQodC6UmYDcMVcdBWiY\n",
       "6SgmE2FgJDIZuQKxxH8S6ry4j7sALHNCf65l/BEARGBu0E/ZijyshJnd0ku506njnjDFXR8YeVOw\n",
       "7F+v26W5pfHAhXHRTN4nBW9XWlJfgzrU7n2ftXhNHJ+M+zTnOEjZnJujJsxwKzv7ROehILbBgVHY\n",
       "egqJ1Xziuv4URCltXs70XmhxgRHGFUIvOWAFnXMcai++caE1UXaNP5eEm+pKZSr59TN9yVdh5vaC\n",
       "2GSsau/igEQVoQAXjL2p5SI61VM+KXqEC4zcCXYv/br9be1rmXpTm3xrF/GmaSbTbjlAe8Lznt2F\n",
       "N1mKa4qzIGbz/t8wsltLx16vKDyIXgxqzwTYOQCcTp/WeQ6MAN0FRnzWSzvwiHT4qeFXvcKJ/ORb\n",
       "xahfbJ0aFR7G3p0EEKcw+FIY9zxrv5+7I7eP0gq8tUZtXZDrFJ0+jnXIoCEAmkXJTKjr0jESqfME\n",
       "v8ZIm0lPbWRaxE9wxzmopFFVI76tdPolhq5FHUNNGstiXndSPgDMupVwwiibiqZsEh3UXXWe6pxd\n",
       "56S32MsoF/BhyjdWz5LFctK3nmDkpJiplfyyctJLVCRwlOvhx8pDsaRR/918W6I1bHUp0tXESrgK\n",
       "XbJraZqZENVKuGIVuMt0mLazRonZiyP9UW8UupFcqBApHblBvHXdvZFlhFprYgqHYhTipMfofIkf\n",
       "VVVSJ1uJuKk131P2EVvqFSNVKgJdyprg/KSE8afFhXB+A0LpCHn2nLdSiqKdVBpGfKbV0hZI34s5\n",
       "F+qIMa97eq0Eo3xkrcA1Rn0aTa8xS6kb6qdXjWkdWlPrvlEQFhu2TrXGuLrsFPwPIdO+Zu6FAy7u\n",
       "RpI7/ro7ZJqwPjVRGYmEbC7G/Kw3Jkzdo0ezWff+W84mer2xzUx8+Cl0USfSN/saU/NdT1u+McKw\n",
       "Bac20rs3b46uhAVbYnQ6/tqUpiA8qzmuXAmlPDuwAgDL/YA6zkFGpPSm/QjFqDSLQ49eAB5+mhSd\n",
       "Sf2j+Z56BmJLnltxedWdry40zsIIS4xub0PCxXNJf1l6yMWQt43e8krrdAQVz905yncssesLjbMw\n",
       "LO8hr5HPkeL6+WFMrt0bl3YLmTfUliIa1sKRfSBM7rPLxnIXi794/gQjRulcyT7005FOPK2Jt998\n",
       "RfEC+2MC4gf/fmD2346/R0Az+JVdSiEAAAAASUVORK5CYII=\n",
       "\" style=\"display:inline;vertical-align:middle;\" /></a><br>"
      ],
      "text/plain": [
       "<IPython.core.display.HTML object>"
      ]
     },
     "metadata": {},
     "output_type": "display_data"
    }
   ],
   "source": [
    "real_not_in_interval_oc = (\n",
    "    Forall((a, b, x),\n",
    "           NotInSet(x, IntervalOC(a, b)),\n",
    "           domain=Real,\n",
    "           conditions=[Or(LessEq(x, a), Less(b, x))]))"
   ]
  },
  {
   "cell_type": "code",
   "execution_count": 85,
   "metadata": {},
   "outputs": [
    {
     "data": {
      "text/html": [
       "<strong id=\"real_not_in_interval_cc\"><a class=\"ProveItLink\" href=\"proofs/real_not_in_interval_cc/thm_proof.ipynb\">real_not_in_interval_cc</a> (conjecture without proof):<br></strong> <a class=\"ProveItLink\" href=\"../__pv_it/theorems/8c2f36d19adc4fa7961cfb7f2995ba178823d5db0/theorem_expr.ipynb\"><img src=\"data:image/png;base64,iVBORw0KGgoAAAANSUhEUgAAASEAAAAXCAMAAABzlwktAAAAP1BMVEX///9jY2MJCQkdHR0NDQ0W\n",
       "FhaIiIgiIiIQEBB2dnbu7u5ERETMzMzc3NwyMjK6urpmZmaYmJiqqqpUVFQAAABqwkwZAAAAAXRS\n",
       "TlMAQObYZgAAAAlwSFlzAAAOxAAADsQBlSsOGwAABBVJREFUWMPdWImO3SAMpJcJ5ob8/7eW+0jI\n",
       "sVJV9TVarZIXDzYTezAQ8v9c8vVboFTcGmcDSf6vC9zta4X9nunH0aKJhnjn22/OfjRBjt2+Fp68\n",
       "YAj5RgcTiJSYZqw+OqlQ3b83mrzKIWVGk5h4jVvJPzqFzEMFUPKOod2NJtYM9cncRzO03SkUp79+\n",
       "UvWGIb3jZLKFR1vIV5+tQtfhawVIvHiXQ4zOJiqys9F4beyzi6yEjwAeBRsKQsYiOahUnr70DCQc\n",
       "ZMiHAVxniEURMolejn8k0PnDPmo/LPNBfh2lbAsAPBDTZSctQBbODOktvOH7NG/cA5+4y8aQVYnK\n",
       "+u+4QKpb8XaUKePV5HsCWP1VSjvs3vcZRXPS2DA3Gybtu26rYzNUGMItLeV0nlMibIPGkNtq+iwr\n",
       "068rT4DnXMdPGd4zyS4YQr9elmeRYOOMfYcdfK9Qk1Dn+GM5mKmiRBSRH9/DPz4zZPbE7DxSxu6s\n",
       "ESKSlYMLnd6WrbkxoiZ7AFqEC4bMinRpPJ5b3dKspokX2OR7jVowREoGjD3gYp2O0994qqo5yESY\n",
       "jit+YUhvJRFrnSKzwKoMiD3KXq19MDL8lT6zMwRoLhiiMy43tl4e/OTgMy5pIT35bqg+1qk1oa6v\n",
       "18EAcQqDnrcUuMcp233RDZm9F5WjpRUq3wSpDLHJtn1DAmX+IInnRLn8TSpDLPSZYNcMSTXhYuy8\n",
       "MjX4cabteFIKZdjgu6OGsdxRiTjkhNHEx68+1A4A0WbFUBzHq7QuND53UQWqKnWekdx8LaBYuM2r\n",
       "LVoeLVMQAa/twJDhbBbU4UnzCReeGfZCbX40b8CUQvW5+B5RfaxqNczZZ6EVaMK4ekwx5bxYbEsj\n",
       "p46aqIFhBatCGH2YoR+qXUQdIlYz+FGGTJfb/M2t4ulyucrYFMzIkPMTTmxuVo3iR2RI6Fuz/BZY\n",
       "8T2h2lgNNQhyqgY0IWOcsRMI/XeNZ4bQAxPSQ5w6pVhtWdm+FIborFOpEeC2FnGs0R5h/ObhtWBk\n",
       "1CGtGa4ZqpMouCA93C381HpRpSMrsOp7QA1jnauM3Bz42G+Mh7XsbtfhcHX6EZwdFWyL8qBtaJoi\n",
       "D4HYWIbxXm6Eqbwq99Yyr/a3Sj3g0v7IHvwkmcjTqMt7jqn4HlHjWHBqGq15dTJ0wRAja5PTfliH\n",
       "BAVmS00IkwJJ9wY0A8B0BiDafkexkNhj/zEyxOPX7rgifHbyU6zGeeQfiu8JNYzFz203v+rEF4cW\n",
       "R4YQ1ia35x3u4j4lPk8d4+Lit21dGmueCZ5iWMIeUevfrg4tjgzB+ozxmvUYJ67vH64pSvPiSG5h\n",
       "8wK2NJGwNvarHfzjOXVaTO4isRf3X2GIsEdql1u3R9ibDd+/esm7PdjjJu0tDP/mlH4DduEzqmFg\n",
       "AAUAAAAASUVORK5CYII=\n",
       "\" style=\"display:inline;vertical-align:middle;\" /></a><br>"
      ],
      "text/plain": [
       "<IPython.core.display.HTML object>"
      ]
     },
     "metadata": {},
     "output_type": "display_data"
    }
   ],
   "source": [
    "real_not_in_interval_cc = (\n",
    "    Forall((a, b, x),\n",
    "           NotInSet(x, IntervalCC(a, b)),\n",
    "           domain=Real,\n",
    "           conditions=[Or(Less(x, a), Less(b, x))]))"
   ]
  },
  {
   "cell_type": "code",
   "execution_count": 86,
   "metadata": {},
   "outputs": [
    {
     "data": {
      "text/html": [
       "<strong id=\"bounds_for_real_not_in_interval_oo\"><a class=\"ProveItLink\" href=\"proofs/bounds_for_real_not_in_interval_oo/thm_proof.ipynb\">bounds_for_real_not_in_interval_oo</a> (conjecture without proof):<br></strong> <a class=\"ProveItLink\" href=\"../__pv_it/theorems/96fdcdc29a4d80504babcee99513c6af1bd6c46f0/theorem_expr.ipynb\"><img src=\"data:image/png;base64,iVBORw0KGgoAAAANSUhEUgAAAUIAAAAXCAMAAABJR7ZeAAAAPFBMVEX///9eXl4kJCQfHx8xMTGI\n",
       "iIgiIiIQEBB2dnbu7u5ERETMzMzc3NwyMjK6urpmZmaYmJiqqqpUVFQAAABpcNyBAAAAAXRSTlMA\n",
       "QObYZgAAAAlwSFlzAAAOxAAADsQBlSsOGwAABAZJREFUWMPtWYty3CAMpE3AiDf4//+1gAEDBpxz\n",
       "Mp3rTJlM5JxPu2aRhEwQeu8hOvvM+7vf+dmn+rsD29a+OBT+MsMj3MO68rk1b6egpa19fQnMVxiA\n",
       "beQZbrRa5Y/l24UlyNaupJg8vYRy6colxz2D1K/BFtxgeQ5Dwd4uCLVp7XQYomFy59TGFOEY7xl2\n",
       "+xpswY0260nt20m4dXaWVYTCHOO8lZNVyJ5B7fAibMEN1qSFkG+noJWtHSc7Jcs9Q54RnINE256B\n",
       "kldhC260Gwljo++Xx7S1CDB2wGmVL6DJIMmFo1gkBei5X+boIxcG6TxylYVD2JY940arY2Vg8BOT\n",
       "XpSrVH/spD7jm4VO8NhhpLMG4OSo+qjNc7CUm6YKYRefAeOeAXZfzWAXa9iWPeNGK1z+1Q0ulzuM\n",
       "JVRqJ+u5L76fbhk1Y7nKT2xrjZ+j8cq4EiHDucIWO42ks60K6bF1EugZbJR7w0vYjj3jHjYEIFWD\n",
       "abtxcnPsGFMhcPx9KuithN7h80MdCzxlUReyTbU2xJBu66IYZJzeozoJju91XHsZrL4wHKA7XcJ2\n",
       "7Bn3sBZPNpOND7NV85x73tEAvpMwOKSmTKs5i4QbCVETKtO6v7GYmypndddI151eQo5yq6axGW8n\n",
       "FXvGTVaWngmowVQUoUMBzbUKa+F/6oY/SohBjyVsHHL0kQXLpavqEznO07sBrLoP2MNczF7KTQOJ\n",
       "OLsyRPH0DndNTc2ecZOlNkUAEOGnJAoGIJwEwgI5hnyNAFbtANQ35PU7VPV4rQNW1Z44YbF9NWS4\n",
       "seCLhwtrTpc9MERBnEwbl2Hti5lTV4ad5wq6gO3YM26yYnM55XxUlMhnptp4Ip+nUqaSUDPK0Hg7\n",
       "aR3SDcUWLKovA03fEIo+B+3dlB32kLzWxRKd9ifdCA5EDhjCDsE0WsL27H3H5fhZG7Cri5Q+6/8R\n",
       "N0ayOOyRyLSZUCvC6fD5Ozog6xYsvJeQk8aC9u2I1ebuLQocplw4fMyJtNVX2wEDOHr7DtmzZ9wO\n",
       "P7ZGzORaE8rJVihD3PjbnKK6FipVF4xGhMohV1TOFiyXREaEt/bJyd76COYxcsa94G+hSCnj+0x6\n",
       "NFAh08O12BCVR+929uBHUzPeThqHs5UhU5am5R29y3/vpALdnkL80AmI8oGKqQkR5OOC6zireK2x\n",
       "ohhDPNFJK6ckltQHeNUsVVFYO/w665SYsaR73YYi0OzWUdmqMYyn2+OnEfI9bMFd4tvJdYjKUAvV\n",
       "4hWkf6SP4tD3z/V76cA5fwZPD+LY3RnoQ+SbtT1CDMbXN8jj1aiCXYsZix49TT4sEPjRTPH9KfIj\n",
       "5Iy7xDeT6ycSunoJmna1QjYK/R9o9h8tWPx19/E/MP4APO4zH96Hrq8AAAAASUVORK5CYII=\n",
       "\" style=\"display:inline;vertical-align:middle;\" /></a><br>"
      ],
      "text/plain": [
       "<IPython.core.display.HTML object>"
      ]
     },
     "metadata": {},
     "output_type": "display_data"
    }
   ],
   "source": [
    "bounds_for_real_not_in_interval_oo = (\n",
    "    Forall((a, b, x),\n",
    "           Or(LessEq(x, a), LessEq(b, x)),\n",
    "           domain=Real,\n",
    "           conditions=[NotInSet(x, IntervalOO(a, b))]))"
   ]
  },
  {
   "cell_type": "code",
   "execution_count": 87,
   "metadata": {},
   "outputs": [
    {
     "data": {
      "text/html": [
       "<strong id=\"bounds_for_real_not_in_interval_co\"><a class=\"ProveItLink\" href=\"proofs/bounds_for_real_not_in_interval_co/thm_proof.ipynb\">bounds_for_real_not_in_interval_co</a> (conjecture without proof):<br></strong> <a class=\"ProveItLink\" href=\"../__pv_it/theorems/abd3c61215ab3f862da26de611b2f7b3baaaa58e0/theorem_expr.ipynb\"><img src=\"data:image/png;base64,iVBORw0KGgoAAAANSUhEUgAAAUEAAAAXCAMAAACicA1dAAAAPFBMVEX///9eXl4kJCQfHx8xMTGI\n",
       "iIgiIiIQEBB2dnbu7u5ERETMzMzc3NwyMjK6urpmZmaYmJiqqqpUVFQAAABpcNyBAAAAAXRSTlMA\n",
       "QObYZgAAAAlwSFlzAAAOxAAADsQBlSsOGwAABA5JREFUWMPtWNuynCAQNMkBGe7g//9rAB3kqllP\n",
       "HkxVqFSY2j3TLW0zzLIsrx6yCx5lf/NvZjlyef0grg0+Gpr8OcMT3H32+XNn3yagY23w6Ruwf8IA\n",
       "fKXPcNNsNH6s3mZKUG3w8VCQQ59DQVoGZSYCzzRB3DgLNKHkb7OgsW3w8bCnNDbrxkXLsA33sqUG\n",
       "bnDTjHIy9zYF1y6Y78aZWdZTA9ypUrUMehsoRSiDi2eDc7bHe1BvE9CpNpg6bW4WddoXLWJcy8C6\n",
       "MgiMXp9CiJvmlcaxstdtYtYEQIgHwdrN0plFekbkIQA7T0r0Hu0YlA/IBSoY2teNmh1x02xSWeDw\n",
       "V1Z9YZREs/LxdiMX9sEggBNPFkOvzaLXQMGPjWkL//r0BIS0DLCFSgYbPhh45cZLK9gRN83S43/N\n",
       "EOrycHGUKeNVtYCLhP0rPyPptaeuDmxYog3C+NMfcmAWWFOLccjsihq6H5oUWgaX1F7zQoYKNuyI\n",
       "u8/RfkwPFu3HO1sQz7mOvgnfM8nuFQwZX7/0UEEk0R3XqusgOshUJXG4VLMlcQ44sZWuDio40zHs\n",
       "oBu7fDENO+LusyOTc2QVw51qBO68kGiB3CoYM452zE9JFNwouFRGmSq48rQxNW7ppn8uD+0DOKmt\n",
       "q45mfJIU7Ih7zCo3S8AsYTLrHIsnFipiZPhX9vlJQQJmomCVAYd0fkrSdVPtLk7LDGkAV2aBLS7F\n",
       "brnUVJCL4D1D0s60HU3fzZTsiHvMzB0GACrDkmTGgIUc+hC5eL6Edw68qP4s9OHVL6fi+eoMorOC\n",
       "ExLXVkJOqgBC4fDxjbPLtgOSHl4tLjFYXv8a87pn2ARWz3mT1LIj7jHL1eN2C6bIvue2OHMSX6DS\n",
       "tlDQcMaXyUlSZ+AXfkqi2wqQG5E9cJsAE9K0a7sMSqCRxVFzHE2m1puqAUM8HLgZt6RYx1p2xMXZ\n",
       "i7MwEF9WKHMWrt02VvE03L6LWb2gWoUz4+tnykgKTkhEq6CgVQAm9CHO2NE5WW448IQJ6cm+JFqf\n",
       "kMYNGMCz29+NLTviNvipJ+IWC02sJWumjLYJXwu2lHVQ66paVCoUGbmc+ilJt4sXKtpg3mxOftXJ\n",
       "60uXe+DZDSGd4K+xQmkb+ku2d05xm8dYrgtTe9N2tt57NzM5SaoMyJbzE5Kq022vBaz59uXE7cXD\n",
       "M9wOXwebEmajfYIthEmrSrEhmpFUbyRebWhFFAv2Lnu0woNlxg9RKDgkCam9i/JH/OHF2+190wgY\n",
       "aDHEJe4lvpvE0ZOxDuqLHx7dM/3KGX5GAoPU/Bk8vHm7Vf4hMOJe4WsYx3fQ47dxet3PSMzoYfB+\n",
       "4Aw+u0q+t+4jYMS9xLeT+JGCHsYKFsBWL/9HeqXjvVJIzG//5B8bvwFypTKaq1uflAAAAABJRU5E\n",
       "rkJggg==\n",
       "\" style=\"display:inline;vertical-align:middle;\" /></a><br>"
      ],
      "text/plain": [
       "<IPython.core.display.HTML object>"
      ]
     },
     "metadata": {},
     "output_type": "display_data"
    }
   ],
   "source": [
    "bounds_for_real_not_in_interval_co = (\n",
    "    Forall((a, b, x),\n",
    "           Or(Less(x, a), LessEq(b, x)),\n",
    "           domain=Real,\n",
    "           conditions=[NotInSet(x, IntervalCO(a, b))]))"
   ]
  },
  {
   "cell_type": "code",
   "execution_count": 88,
   "metadata": {},
   "outputs": [
    {
     "data": {
      "text/html": [
       "<strong id=\"bounds_for_real_not_in_interval_oc\"><a class=\"ProveItLink\" href=\"proofs/bounds_for_real_not_in_interval_oc/thm_proof.ipynb\">bounds_for_real_not_in_interval_oc</a> (conjecture without proof):<br></strong> <a class=\"ProveItLink\" href=\"../__pv_it/theorems/286855aa5f3ed98da356465c5bc37bbd856c0eca0/theorem_expr.ipynb\"><img src=\"data:image/png;base64,iVBORw0KGgoAAAANSUhEUgAAAUEAAAAXCAMAAACicA1dAAAAPFBMVEX///9eXl4kJCQfHx8xMTGI\n",
       "iIgiIiIQEBB2dnbu7u5ERETMzMzc3NwyMjK6urpmZmaYmJiqqqpUVFQAAABpcNyBAAAAAXRSTlMA\n",
       "QObYZgAAAAlwSFlzAAAOxAAADsQBlSsOGwAABA9JREFUWMPtWduWnCAQNNmANHfw//81gLRcBF1N\n",
       "HibnhM1ZOuNQJWXfZJflo4c8Ga9W/+F3Zmvk8vGDuN54NDT5PsMb3H32x+fOfpqAjvXG0ydgv8MA\n",
       "fKXvcNNsNH6sPs0pQfXGXInJzSs4TH+YgvQMyjy8NcSNs0AnlPzTXNDY3pgMSw1MrhRp7KEbFz3D\n",
       "9jSWETfNKCdzn6bgejLGIUUZzDHKJYxUqXoGvcEz1y64cbb5OahPE9Cp3hhFOqOX5UIV90UXMa5n\n",
       "YPShaxfcNK80jpV9XBCzzgBCPAhWBQsYOghw6RmRWVdWKiX6Hj0xKB+Q3Y1rt+yIm2aT0gKHv7Lr\n",
       "i9SRs48bB4blfuY+aARw4sliUALwapR59BoYeA5MW/mvT3dASM8AW8hksMlr127ZETfN0uOvbgh1\n",
       "WVwcZcp41TBdLMiXrJ7R9HdAXWvYsEUbhPGH2w0VhDW1GFlmV+XQvWhS6BlcUnstG5ED1+7YEXef\n",
       "o/sxPdi0H0e2IJ7z8H2yhOtMsnsFw4pfX3r3mylNf2XVrRE9yLQpcbRVsyVx8l2JrfbqoIIzJ4Yd\n",
       "dGOXD6ZjR9x9dmRSR1YxjFSTPybhZ7FAbhWMK3I7ZvSU5k7BpXWUWbitPAWmxpDu+ue6umbgpLYu\n",
       "Hc04ObTsiJtndTRLwCxh8tA5Jk9MrMTI8K/u85OCBMxEwWYF+h6d09xFcdpmWARwlfJhi1ux25Fq\n",
       "GshF8DND0s5UHY0cFqiGHXHzzFxuCoHKsCF53BosJOtD5OL5Eh4OlFuIUSx58+ZU3V+7guiqHo5p\n",
       "egU5aQwIicPHJ84u2w5IeniVK5bl7duY12eGTWD2nLt2z464eZarx3ALLnH4PbdVzUl8gUrbSkHD\n",
       "GV8mlaRdkS9oPqfpFTwakd1wmwATFmk37B1FLYujJrcFptEbqBowxOLA+y4CCCWVa/fsiIuzFyUx\n",
       "EF/nJ1P2tTuNVTwNt0cxazfU6llW/PqZVizOz2l6BQVtDDChD3HG3r06gSdMSE/2LdE27xo3YADP\n",
       "hu+NtkoPPTvidvipJ+IWE03MJetBGZ0mXBZsqfOg1k3f2ShYrcB0Kvic5lSlqeiN5yd514cud8B2\n",
       "9laHuCf8NeYnbUN/yfbOKYZ5tOW6MLU3zKX13ruZSSVpVpQehk5pzgoexwLWvFXw5kziNTDinvB1\n",
       "cFPCbHSf4BTCpP492YZoRlJikHi0oRVRLLh33aNVPliv+FGylJzRnBXcv9wYbcjQagy96fa8ib87\n",
       "0UPcS3w3saNPxjyor148+q1+HSs0m9KcFTzqPrw8ebsV6CUw4l7haxjbd9Djp1H5upEzmsHbCp4P\n",
       "FOPZUfK9h70CRtxLfDuxXyno60fQVJ4a2i//x+yvV3Dxv3I2Q/7NLf8Gvs8ytm1i2l0AAAAASUVO\n",
       "RK5CYII=\n",
       "\" style=\"display:inline;vertical-align:middle;\" /></a><br>"
      ],
      "text/plain": [
       "<IPython.core.display.HTML object>"
      ]
     },
     "metadata": {},
     "output_type": "display_data"
    }
   ],
   "source": [
    "bounds_for_real_not_in_interval_oc = (\n",
    "    Forall((a, b, x),\n",
    "           Or(LessEq(x, a), Less(b, x)),\n",
    "           domain=Real,\n",
    "           conditions=[NotInSet(x, IntervalOC(a, b))]))"
   ]
  },
  {
   "cell_type": "code",
   "execution_count": 89,
   "metadata": {},
   "outputs": [
    {
     "data": {
      "text/html": [
       "<strong id=\"bounds_for_real_not_in_interval_cc\"><a class=\"ProveItLink\" href=\"proofs/bounds_for_real_not_in_interval_cc/thm_proof.ipynb\">bounds_for_real_not_in_interval_cc</a> (conjecture without proof):<br></strong> <a class=\"ProveItLink\" href=\"../__pv_it/theorems/3c73f0d17704f1bbba8111b68d086062a17974e80/theorem_expr.ipynb\"><img src=\"data:image/png;base64,iVBORw0KGgoAAAANSUhEUgAAAT8AAAAXCAMAAABK8Lh2AAAAPFBMVEX///9eXl4kJCQfHx8xMTGI\n",
       "iIgiIiIQEBB2dnbu7u5ERETMzMzc3NwyMjK6urpmZmaYmJiqqqpUVFQAAABpcNyBAAAAAXRSTlMA\n",
       "QObYZgAAAAlwSFlzAAAOxAAADsQBlSsOGwAAA+9JREFUWMPtWYtypCAQ9C4ZZHgz/v+/HqAoIGjW\n",
       "pK72qo6kMta6dEs7L8g0vfNQjX00+bvf+dGH+qsDfG1fGwa+TPAId7W0f+7dm8nneW1flt99hQDF\n",
       "zJ7hJmtN/li/mUOiru3rQ+N+SfulhJZA24e40crsgEq8mftZV9vXhzuEcbtqQrYEi3+Im2wWk/s3\n",
       "029u7EUcjkJnPhwwx6jSLYFZ8EXYHTdat70F/WbyeV3bsTcwi6NAO1w3u4f1LQFnr8LuuMnOLI6Z\n",
       "v1v48toiAKHkbZgA4/UyFXFQW7Tyozpmv2MnAk0BuQ2+FrZmz7jJ2pQQBP7Ioi/cJNHMohsTTtDl\n",
       "O16hgWCypbcgZ22TYuZAILaQdIXvUuIHaAlwCRkMF3UNW7Nn3GQV5T/NkPqypHjGtSVdMV1MWG/R\n",
       "iOR0g/nKurBAF2ShIySVZafSgnNqKjaRfZE710LJsCXwSesZLmEb9oy72uh63HSWTP2YlkBChO/D\n",
       "FO5zxe/1CzM+P0xXpkxyujGbykbvsVUqJN2peHZJ0mzPJJfSoYMG3p4IVtCFX8I27Bl3tR4G1WOW\n",
       "3Ri128cQfiaHcKtfnLE1YDQiudNvqp1ktNBZpJA0OZibbrmsqBtw0tocPUwXtmHPuJvVe3uE3AFX\n",
       "u8oxaeaEClaF37KrT/oB2oF+1Qzc9KERyV38pkWGSYhXgYZLXIhb9hRTIU5SnAmScna5hG3ZM+5m\n",
       "ud+aQGQqLEjtNQgn2NQBNZGYwqvB4xFi/CpR7ZKK56tngNn165Oc9BNQWgwJg+LbrlLKKdFjUoP0\n",
       "5NValup9F5kzwSJz1ryAbdgz7mbVTDnQgkPsPi9cUWkSX6AyrtDPCi6mQf2oZ+QbNCI56Vf1CCHL\n",
       "S7RhkmmCC4EBNqJ4ZrdGwNZqM90hiCVBtH1DA9uyt70VySMlAJWZyR7rWl3GaZGGX+OX1wuq1Txm\n",
       "fP5OM5JMfZJzYWalRRs6D2+d7zW6RauGBFwqgnVBrK6K1ncIkHh3h1jCtuwZt8FPXZBwOcXELDLv\n",
       "lNFlwm3JpzL/GVP1mZV+xYw9jdKI5FxYmKztRWs52Gip64OVO+AR7I57wp9jZjIu9JN87ZVigMdr\n",
       "NU9cr+3x0Wiv/cugflQzcFeHBiQd/apd+rdOIO6PF37oZMMEFwXuousEl5A2devp2oLhkFKCygcY\n",
       "RoPmwbXLrqzwv3LGL1no1yXp6DflrYp4eLB2e6L0EDjjXuL7wXX0x5j/zMUm47Qp+Nhn0Iiko18u\n",
       "9fjwZO1WnofAX3mvBvvXd9D9d+H6MpXA1HvRUNsXj4nvvesRcMa9xHeD60f6EfZlKoFp+j9G/5Mq\n",
       "3EyMzl/g31zwHwBtMjEpl2pnAAAAAElFTkSuQmCC\n",
       "\" style=\"display:inline;vertical-align:middle;\" /></a><br>"
      ],
      "text/plain": [
       "<IPython.core.display.HTML object>"
      ]
     },
     "metadata": {},
     "output_type": "display_data"
    }
   ],
   "source": [
    "bounds_for_real_not_in_interval_cc = (\n",
    "    Forall((a, b, x),\n",
    "           Or(Less(x, a), Less(b, x)),\n",
    "           domain=Real,\n",
    "           conditions=[NotInSet(x, IntervalCC(a, b))]))"
   ]
  },
  {
   "cell_type": "markdown",
   "metadata": {},
   "source": [
    "***Misc Theorems About the Real number set***"
   ]
  },
  {
   "cell_type": "code",
   "execution_count": 90,
   "metadata": {},
   "outputs": [
    {
     "data": {
      "text/html": [
       "<strong id=\"not_int_if_between_successive_int\"><a class=\"ProveItLink\" href=\"proofs/not_int_if_between_successive_int/thm_proof.ipynb\">not_int_if_between_successive_int</a> (conjecture without proof):<br></strong> <a class=\"ProveItLink\" href=\"../__pv_it/theorems/7cc72631303586694e0b8fa19d097d8c3f3e59900/theorem_expr.ipynb\"><img src=\"data:image/png;base64,iVBORw0KGgoAAAANSUhEUgAAAO4AAAAZCAMAAAABp+KxAAAARVBMVEX///8/Pz9vb28YGBgJCQkd\n",
       "HR0NDQ0WFhaIiIgiIiIQEBB2dnbu7u5ERETMzMzc3NwyMjK6urpmZmaYmJiqqqpUVFQAAAB3hJw9\n",
       "AAAAAXRSTlMAQObYZgAAAAlwSFlzAAAOxAAADsQBlSsOGwAAA2dJREFUWMPVWAeu3CAQJX3opvn+\n",
       "R81QjMHdRPnSImu1Lg/mMR1ChkeglGryMQNQXP8P+Il82nDuo+jqobf6Q+nCtS1OYvnnJzazSVIq\n",
       "GRI00NAN9XPvBuiOw18Pzy9fq1UUkEFlAZOM4Fa61lTx9QDdcfjbIW6saZWEWFtYct/pHenWTdFy\n",
       "xJjH4W+HvbEe2uSMuPNCxivTtKvvLtS5H/LdYfjbwS6cGt30z+9V+0kkq0gy6YQVle4SrqaxUDUM\n",
       "f+u5pwuYCZBNpba6srJVVLfKymgcjA9G5lH4W1suCwiAIBRfjUkn+9p5thTxKoOHla5V5fUY3Xu4\n",
       "fxvE4Gi1YkWoMQhALO1DpINdGG8eucYSdVh+TopFJrnF64TuHZw48zz6FrnsQSTK6nRIzs2CBHcc\n",
       "Qpqnjb49axwvaobvZVIQpMTHsTDmAsRZmXEMX9BEhHtDrRjISjN712B5hWhKtjVclZzp10+sKfqK\n",
       "JIuUpVZzQ9fDUaSxtjg/fqO8dqdV1SG8ott8eDZWQT0lh8qqdNPf1nBzstnkBXxYEmPKScS02kVh\n",
       "i50763CHbVeK5O23F0VkhRPEarw6NN1MfHC7p7tPa2s3Y2ZcQIhufrrxP1V4irmdttDlPu+mcCYW\n",
       "mUyTmqGLw3h1QXeBE9AkSDL5Fq2nfmKyvz2g63fbKyGrzWAsiWuudosvTP85ZqDyJBSesqWrWfYv\n",
       "LSAKh5GAmEa5Agi/ahEWeDR7lEp1aCP7icn+9oCu2dVoOZf4WQmLdE2jfdzeTdLFaJIUoKWXbRZb\n",
       "aoT6eYBi6G6Safi0k1y05rPriJrV5pwWVrQP/cSbdWz8jMUf19JVO7oqvREWlemta21dBPmjk80w\n",
       "OcUpsS2SmSc1xw0gU6nAVkSt+jRexc+4eNAAKpb6ywZdBK8Tk4PbJ8ZMqDoNdd+/YRVJz+s6TY/7\n",
       "XT2neaOnNiVJilOG3va7mhE+5bTSVB20n1jwfp1jurCvNJx90OledxdbuiZaHvBUfMglD4UQgMsp\n",
       "3Lf3FgwHEC0auehuYsV8t05LV/Np5lBB22B1elxx04zV91enGYJHjzKDpxkrelcy+Iu82yXTJw+f\n",
       "NGN1n77k8Mb2WjHitKo6gyxagpMq96YC1197VtUHuQdLvqiyv/Ak8vE589tmS/wProBdqvsL2DAz\n",
       "BRzGbx8AAAAASUVORK5CYII=\n",
       "\" style=\"display:inline;vertical-align:middle;\" /></a><br>"
      ],
      "text/plain": [
       "<IPython.core.display.HTML object>"
      ]
     },
     "metadata": {},
     "output_type": "display_data"
    }
   ],
   "source": [
    "not_int_if_between_successive_int = Forall(\n",
    "    n,\n",
    "    Forall(x,\n",
    "           NotInSet(x, Integer),\n",
    "           domain=IntervalOO(n, Add(n, one))),\n",
    "    domain=Integer)"
   ]
  },
  {
   "cell_type": "code",
   "execution_count": 91,
   "metadata": {},
   "outputs": [
    {
     "data": {
      "text/html": [
       "<strong id=\"unique_int_in_interval\"><a class=\"ProveItLink\" href=\"proofs/unique_int_in_interval/thm_proof.ipynb\">unique_int_in_interval</a> (conjecture without proof):<br></strong> <a class=\"ProveItLink\" href=\"../__pv_it/theorems/1309f70cae99354e03d37c4226e671819411863a0/theorem_expr.ipynb\"><img src=\"data:image/png;base64,iVBORw0KGgoAAAANSUhEUgAAAiUAAAAYBAMAAADXOJCCAAAAMFBMVEX///8AAAAAAAAAAAAAAAAA\n",
       "AAAAAAAAAAAAAAAAAAAAAAAAAAAAAAAAAAAAAAAAAAAv3aB7AAAAD3RSTlMAq1RmmUTNIjK7EInv\n",
       "3XZ/CtNrAAAACXBIWXMAAA7EAAAOxAGVKw4bAAAGS0lEQVRYw+VYf4gUVRz/7s7O7ezM7XhiCP7g\n",
       "OEjKfpibhKJ/nCuumpR2nCWUlpsJoYKNBYFZcVoE5dVt2nWtRzJHh2RXd5teZ24gy4VkhXGFpWgH\n",
       "syiZischhXJC9N77vpl5Mzu33ApySV/4zO5+v++975vP+77v++4D+G+IwRFsqViiHJWNZ9ysu1si\n",
       "eh0i2FK5yBaisvGe4aihP+4cb07u4wi2VCYHTpDHOY6KxtMTiCX0x/PjTImaRgRbKpUNBFUmorLx\n",
       "NiF20J2XGWdOIglEsGWs+8VuepVASiIqG+8hBCVTqxtnTqo5XLk4OJiGEm1ZCfP8IY/Q5w8cXPYK\n",
       "nsrMw2SQCHFV451O7uJwZPUlwVIhJ9oAfT7HweXtMY1XlUCcGBz8cbw5eQShnk9ABztKN4mW7uKn\n",
       "3/giOTrtAmfANdqcVNUWieJLQHCRcs54jhcxzQxN3XWQ0FmDeNgNLEG04Mnnbg0nfFG1cAEWstcy\n",
       "REtSr40MeDusNWIj+M012pz0bFKvAcwFBEQGmfzljOd4WcEMP7NGULRWEObSiK0QrQnIRcGTT1aQ\n",
       "Nyvg5BfETvJ2UxgnokUypJGQNzWq3wInQjDanMw24SeA+wHh7Kz19niOF0HmwUJzEmlUQMRMrUGw\n",
       "zupbtMV9o7f4iRQ+u2GyFcTJ9PblvR5F6PvedtYq5t3sbaCyZVM2ouIeAz5xzsVjCLPaoq8D0EwX\n",
       "MMMtCkSw4X62rqfp7IYhjiFrG0k0/E6yAF3dpQA3AFoA4cj+Y+DzIkgT7UVGG0aELWdVlGK2Qdfg\n",
       "cM7hJEQ9vzelFayctt3PCdWfgvwlEPvHDa3bLOEkvI80v8K+TkNKLFCGBnycwDpTuc7KLhAtUO2v\n",
       "SKsz0GMvpGO04+QsyOQ0XgsIJwNtNsDnxSOMJbmAgHS9rU81kTpOhwWWllqRYsVcNdFESMYBy5K6\n",
       "oTd1MuXGFNMnlLvdsKb9Jdj5Evg5kfawEGTfj9PHfNopPODbO2SxdDojiHt2FawzVG/51WNhRvAY\n",
       "bU6uQmQEnc0S8slvhjOe7UXIJyBfg89wRmxWB2mS76o/zMpaysmlpBMnLUNTsUS2LL3TjRP9/OvL\n",
       "eOkcYS3lIoSwP2mTFDhRD102QN8NDifKP0UTLrKTwuVkH8f7EGO5TbcEy4GG6f6U31MHk8OGCh6j\n",
       "zcl1+JxMZD4g7IIu43qyvQj5qTVUoOeHlEHAq6SBekq5hhGra9F9CYeTK+Z5lY1m5badczm5EMqs\n",
       "Rz3Mm8lOxAlmM4946cUmgZMvjBZD6QeXE/2Mnmzmh6fDiX1wLoJ1yOt6wTL7nUeh0fsOMSt8MgI9\n",
       "aY/R5mQSfOAe77a8LHhyvLhb+3pnQSaTiuQQEKL7I6kUYBWbc6Q94+bYPTAXS2Zr+RHh3EnErCbU\n",
       "qxbLda/MgovYH7r5siEnKWgmySPvchJLSOlwu+nl5F2OjqOPYYh3tJqOpXMovNhXnqi1X2/9E+Jn\n",
       "PEabk45eOrNfObh8JHhyvLjjrbRmzKF7tgGBiapBr4G52Wy2Tte1Rrc+OQ6LpI3Z7G6yd76qE+qT\n",
       "CQagXtNMtp2nQS32h1ye7kybk2NQJM8n8w4n1U2RGpAZKS4n8SYEQB/XrPkYa3vUjiL3BtaxmFIH\n",
       "EP5bE68Xv7zGgRvUiC0wd7E40eU1bkIbhn4lh/nkibzQuRkM1De+AZrJluQ4sP7yzATkHU5I9bSH\n",
       "MrRjmc3JBKgm5Cp3GCIn/B+bllb7fbOUylVEueD/gOX+VQZ7sWUxB8aJ0bLKjJksn0Cez0PNwRmS\n",
       "cfZiPtE67UDLRQt9ZBcxfS4JT0MXwGl5GFh/LQLygBsn3yl/L6CfW6cyTrogbrLMF51oCpxAG0Pc\n",
       "CpUUym1lbhis0W3bOKB0vCAvPLgy4h2BvPiBQxClm271H7nOpbzc6Ic3h8jQJNzkLZvVVNpRr1wz\n",
       "ZDK9NLH2yLNAcuaM+Wns/+DEyx/WuJw8Pudyggfv9heOkpbKSovfDkb7bjgvdYAhXL+k9IaozBVQ\n",
       "mRBqG43OYC88BRoIUbqy2QbPDsXlOJJthVK1qK9TjVjC1z8W6HaUW4mohQi23MRdpoGobLwLHOXk\n",
       "qTGqZTNkrS4hPfDex4TbXBJjVEsg1+dG50Qh51G2jbdklxlUYcD/T6K37cz/Ba4Y73LeRD0SAAAA\n",
       "AElFTkSuQmCC\n",
       "\" style=\"display:inline;vertical-align:middle;\" /></a><br>"
      ],
      "text/plain": [
       "<IPython.core.display.HTML object>"
      ]
     },
     "metadata": {},
     "output_type": "display_data"
    }
   ],
   "source": [
    "unique_int_in_interval = Forall((a, b, x, y),\n",
    "       Implies(InSet(y, IntervalOO(subtract(x, a), Add(x, b) )),\n",
    "               Equals(y, x)),\n",
    "       domains=[RealPos, RealPos, Integer, Integer],\n",
    "       conditions=[LessEq(a, one), LessEq(b, one)])"
   ]
  },
  {
   "cell_type": "code",
   "execution_count": 92,
   "metadata": {},
   "outputs": [
    {
     "data": {
      "text/html": [
       "<strong id=\"not_int_if_not_int_in_interval\"><a class=\"ProveItLink\" href=\"proofs/not_int_if_not_int_in_interval/thm_proof.ipynb\">not_int_if_not_int_in_interval</a> (conjecture without proof):<br></strong> <a class=\"ProveItLink\" href=\"../__pv_it/theorems/ce77492cb7efbcfe613e8088f6ba35f6e7dcd92a0/theorem_expr.ipynb\"><img src=\"data:image/png;base64,iVBORw0KGgoAAAANSUhEUgAAATYAAAAZCAMAAACM7/LMAAAASFBMVEX///8AAAAAAAAAAAAAAAAA\n",
       "AAAAAAAAAAAAAAAAAAAAAAAAAAAAAAAAAAAAAAAAAAAAAAAAAAAAAAAAAAAAAAAAAAAAAAAAAACC\n",
       "gUnDAAAAF3RSTlMAq1RmmUTNIjK7EInv3Xbt5cnp8+P3nRjLMsUAAAAJcEhZcwAADsQAAA7EAZUr\n",
       "DhsAAAPvSURBVFjD5VmJbuQgDOUMt/fs5v//dIEkxJBA0nTV0aooHVUZG9sPX3gIebxoCEGRL7cg\n",
       "ms0+wD+Rr7o4/5KwqUffqi8OG4xjbLLbf2zys59MCMZHoCQg2GghZ/z9sD3nft1ibvi13m0CQ/Vi\n",
       "aHYR4DtsQhYY1Pthe879smUvomQ3iQixouVY5YcRtgKuMg+C9Dn3y5a4CIuAeoXkCtakZ4FL7Llt\n",
       "g9CxB7A9537Z8qOsZ8LPX6G4Y7ZNaJJDNfPaAttWFt6d4SdcVP6b+sD6msoJ7A7Rnuq0KCbzvZL6\n",
       "kJZ3zyrpU+6XxeiqqQWgVjsUJSpFziHzGZuedTm6wyb0+vUj2K652b8pFtCYP0z7A6154QcKROyp\n",
       "LBc1Doeyi17xaYdN0e2jc4nyxon4nMN2xU24HNnHr6N7o6kVGJUgNxC5Xox4xIjPMSb5ea5GL5GG\n",
       "zKN2N7nKiSQN1Jj4Ol08nQXbaXfPuTdmYumoRwII3WhqaaS7CdvoEIlfVE0xIqoj0ynd/H6LH6bq\n",
       "jBfbFuv1jGBjcJbShViTY6TRTPHeLeGUuzDjNug0gruwmQNN5QkD2Ki6hi3/WwVk7jKahiC+Wzur\n",
       "ZU+JvS1avcYvFzwerqha4uXkRf9yVbhJZFXxqZhDu3EXtobmCFtlE4atyMVe2RG5Ty/kHDmsrTRt\n",
       "DjGW1QUvO2NNVtgcWw7ScpkuX16R0uGtiYDpPmwbNwFFqCETw8xqajbuwtbSHGFj4hy2IleYtL7F\n",
       "P94VaWBxIxlzdlIeg09kjXLsPNY3dMXLYNiUX7KBspCsjJmSSORsFogbXOU37hTNUSldMUvTbNyF\n",
       "raU5wibNOWxFLkFh0hO59BBs1lZE2CR24Ik1TVtM29kjlGEGdy9bs1rIY0leAphP+eQMyyfibOXO\n",
       "TYeLhM2K1MyMNhtrsy3V5rZCk73Gm+w1iEabbm6bVZWi6u1qD8qbWRF9iwlepTJL3yQ2UnozJS38\n",
       "HHuJJY7l+eDI63yB1UTv/iWZTmTOXg+OtM9jKcS8mVo2HpSEmuZ+kBa5Ce7vPza4OyKD7vdKf5yJ\n",
       "lbTbE6lwPm9Tc943ZTLUGud6IMPVvE154qalcTC2KQlo4zPYrDvSHGEDOIUNycVjn55ILm5M2sZT\n",
       "gBY2mYSCy02w2foPSik4M9HLMaUA6QAsZo7mqWbjCmk3zQ6St7ADjWlotq2O3rbLxQfWEdlsU2lz\n",
       "McUp34+mu9Ylb5fPprs7s7x3W2WDvu2Qtfp9G4MbA7ceOldTnIL3ZwzFxZ0rqbTdW0JnI/NcJ9XB\n",
       "ll5ciov8T/ktwd0YEtzQo7nbnsLG5KdMUT4G293fSe0/0bXZ5WUzeAjB878ZxSDLQlSh6AAAAABJ\n",
       "RU5ErkJggg==\n",
       "\" style=\"display:inline;vertical-align:middle;\" /></a><br>"
      ],
      "text/plain": [
       "<IPython.core.display.HTML object>"
      ]
     },
     "metadata": {},
     "output_type": "display_data"
    }
   ],
   "source": [
    "not_int_if_not_int_in_interval = Forall(\n",
    "    n,\n",
    "    Forall(x,\n",
    "           NotInSet(x, Integer),\n",
    "           domain=IntervalOO(subtract(n, one), Add(n, one)),\n",
    "           condition=NotEquals(x, n)),\n",
    "    domain=Integer)"
   ]
  },
  {
   "cell_type": "code",
   "execution_count": 93,
   "metadata": {},
   "outputs": [
    {
     "data": {
      "text/html": [
       "<strong id=\"not_int_if_not_int_in_interval_gen\"><a class=\"ProveItLink\" href=\"proofs/not_int_if_not_int_in_interval_gen/thm_proof.ipynb\">not_int_if_not_int_in_interval_gen</a> (conjecture without proof):<br></strong> <a class=\"ProveItLink\" href=\"../__pv_it/theorems/a78f835dc8278ea7d80d02960de9d06b89efc4860/theorem_expr.ipynb\"><img src=\"data:image/png;base64,iVBORw0KGgoAAAANSUhEUgAAAWoAAAAZCAMAAAAvx5QKAAAAS1BMVEX///8AAAAAAAAAAAAAAAAA\n",
       "AAAAAAAAAAAAAAAAAAAAAAAAAAAAAAAAAAAAAAAAAAAAAAAAAAAAAAAAAAAAAAAAAAAAAAAAAAAA\n",
       "AADXrLZzAAAAGHRSTlMAq1RmmUTNIjK7EInv3XbP4duh6fPj951y2Qx9AAAACXBIWXMAAA7EAAAO\n",
       "xAGVKw4bAAAEiklEQVRo3u1aia6jOBD0fdMzs8cs//+la+MbbOBtiBStnhVFEcbVdtGubjdB6ImG\n",
       "l2WR6LvNGnh+yDNQ4pvNq0bpN9U3m/xPvfKb6q9LwPn+Fyb/IsKtTuhl0c6Ty6GhGpfbCX2J6keA\n",
       "PrURe9qt6uJBYxUZ2fwPaKWa8cKXfInqR4A+tJmLbVvXjhhLDFvS+bunujwQqV8TkEeAPrSxi326\n",
       "NMlY8DOjwydSzKpWZ9oteY3qR4A+tLkzFdfLn38txe03EphCm4xsY02hOofGV0KbaGPs/y9GkvmS\n",
       "uABTaa3SrVjhhtYMxC2hOftyBvIA0IfqR1qSAcBG2WbbyrCVD0quTfikZnGlmqnU/SrV10BkFjBh\n",
       "t7aTo0D0IGrfkuYoywbTT44ZpgUYEKvSvGUAFA7pSnOJikq1xPlrb1fsAxx22jL/GVM9BSpW+dRG\n",
       "D3kSWGOXcqcJAz0TseOy2iF2MP90qKaeV7p6vaDjINVcbOwT1xxhgh9aPiptZC1QgLX2d4RChzVg\n",
       "JkeYMVAejAye2+D2BtUe6cdPPlVPVm6D5bRiYwfIecgI2cU1hf3Eum4VNPPv3/5Ld6edSEKkSa0N\n",
       "1QQmscypnCumH/52RSSdnRaHQGVwm30ebXSuMaY6IGEzD1R1FDml2qmRtl1Tvf3sxGLL6HYZl7+W\n",
       "0t0t70O89WpPT9YWYynYLKhqDWGgOfFE12Hzg3kFAmDSf7rBy4mNfsIt1R1S3hiZkA7rJtXF5G2q\n",
       "a1WOr96YMd2SdrZ8OhI5NmsLnKi2JPmU8Qqh1jx1WAwCVpLxpFdEzakuQCAR1kiQdrAUcxt+RmxM\n",
       "dY8EvIs1PdZNqovJIdV8MFRDdFfug1VYZesHiPdQPstLV3DiWLdUS4frqbJGHE23NfHGqQ0ge1Ju\n",
       "KkB0m59/KM1gruc2Su+B6h5J58imRlj3qC4mh1QjcQxFMVSSVRnmjfF2/wmyS6p9vNrcTWqi20wx\n",
       "nzry7UGUALeaxrCflt4a2R6oNd0O2p1aGrvR2ZrBBM9teMb0VKsr0o9fG5LCSQAKFgs2XPiil1Qn\n",
       "k0rnJrshRMBBcrY+w7wPE0Y7aTb4N2/Z4E6LMA+3+mQtagwfFVFNWJSmmcmgNY74XLMCERVGWHNd\n",
       "RA3OJlE7OJI5tjEXkA6pSGx8Vjusm15dTA69Wo7SyEXNE9h/rPYZyDS7lAsaUY1ckD5OjQ83wYCJ\n",
       "QtOcfLaYeJSzvSE/Xyti9qXNLiyObQTVG1HdIdVsMQWvgnVG9WbH1EdeTN4Oi6VmdFqpPq9U7anm\n",
       "fntAOIep8NgVi+uXOud6GGOwWuArqhEDbgFMO9hTIec2UufRq1ukP9SO6oLVjZJWrBaaXSHTVw5c\n",
       "cJCIOmRc79DT1ywXZczSf/IWhnR+ESSNXx3MJ0e3MpjbuY0uzZnk1eZnmcZFXv14acnMsK/KmOUZ\n",
       "zanmXyqJ3CzmMTm10XeNF9a83RmlZGeVk5ereBImJ89zNCjLmlP9tWLO3bppH0/ptDoypro9dwh4\n",
       "TxFPiTdV2x97jXv3fyDm3nV5fZN6CyVSvYVnWBZH/wU5EialXn4IxQAAAABJRU5ErkJggg==\n",
       "\" style=\"display:inline;vertical-align:middle;\" /></a><br>"
      ],
      "text/plain": [
       "<IPython.core.display.HTML object>"
      ]
     },
     "metadata": {},
     "output_type": "display_data"
    }
   ],
   "source": [
    "not_int_if_not_int_in_interval_gen = Forall(\n",
    "    (a, b),\n",
    "    Forall(x,\n",
    "           NotInSet(x, Integer),\n",
    "           domain=IntervalOO(a, b),\n",
    "           condition=NotInSet(x, Interval(Add(a, one), subtract(b, one)))),\n",
    "    domain=Integer)"
   ]
  },
  {
   "cell_type": "code",
   "execution_count": 94,
   "metadata": {},
   "outputs": [
    {
     "data": {
      "text/html": [
       "<strong id=\"unique_int_in_radius_one_open_interval\"><a class=\"ProveItLink\" href=\"proofs/unique_int_in_radius_one_open_interval/thm_proof.ipynb\">unique_int_in_radius_one_open_interval</a> (conjecture without proof):<br></strong> <a class=\"ProveItLink\" href=\"../__pv_it/theorems/8d1d7d03112ebbe238ddaeb1f079f2a5bb8e00ff0/theorem_expr.ipynb\"><img src=\"data:image/png;base64,iVBORw0KGgoAAAANSUhEUgAAAdgAAAAYBAMAAACraPGqAAAAMFBMVEX///8AAAAAAAAAAAAAAAAA\n",
       "AAAAAAAAAAAAAAAAAAAAAAAAAAAAAAAAAAAAAAAAAAAv3aB7AAAAD3RSTlMAq1RmmUTNIjK7EInv\n",
       "3XZ/CtNrAAAACXBIWXMAAA7EAAAOxAGVKw4bAAAFp0lEQVRYw92YfWgcVRDAJ7d7ub29yyatEmsj\n",
       "ZUHB7/YsJZL8kZ4kTSs19WiroBZzUkRaRDfqP2LURETQBpO22nhJCQsGaRrMXVOvlWhKUIrGzwgW\n",
       "SyGy8aPVxoQgaKSK+Oa93du3e7t3Sbl/7MDsvtudm53f+5h5uwCllrmzBW+HOF2+aL4+3SLfZ928\n",
       "0bQoEthlSbbw7R84Xb487PwZePyfPdOHY0Ej3/L8g1arsw+AWmShCn9fX1LYQi4DGVuXJ/LhKQAl\n",
       "5rim7O+AZDnAj/nPuWS39wOzyMIm/PlYSWELuXyH02VKeZwc9tKmUP1GAs9inOCPklu62zgyZbfH\n",
       "gVlkoRNndE9JYQu5bOR0ibLDPFeq5LABW9L32pFm5CvTYEgmTxLixWDRIkuRI2pJYQu5nOB0ibLW\n",
       "PLciXhQPr5BDCMdYBthS1kEanxWDRYssCGQVlJc2QRVwGUjaulxYGnM5LtpV2GqgF6Wql/G0uyjs\n",
       "bpo6v5ye/rzE2djfpZixVZ5fvW/UVUNqLpiJdWTmyAeqE/aR+ZUEArMfBaGQENb78HTME9Z0Mm5a\n",
       "kMi2APT5BR65PFh/lzgwloowY7Q4b+/SwmYWjStrxCkHrPynntZASFqwbfTqrQLtnVo8tEyjfMN6\n",
       "NWk7+c20yOKfQlV+gYuu8xJhXS7LJt/rNzNIhWrrnbBRv8pZXT4Gk1DQhEtlMQcsKSZRAwITTtgk\n",
       "Wy+3uaNoj9lOXlSZRRYnQiRhmUh7zMbtJ+56goMMOxdeL8i1vPnNGryd5GA5l9JMKlGhRUbM2hBN\n",
       "2NoBzawa0QHB7Y24ABWs/kpsaOhofcFGi1yozIC04IBVVPI44rvbxdr2KOdErlapBTENGFwyqTHj\n",
       "UyJwMuMDGxgAeH0uZ05YDZDmpzhYzmUTyZUCvPQ05MMCfOUKMdoDaauXooYrQZFuaFUh6BzZISxx\n",
       "15D57/Ik3a3bTiJIvovt7ZINttGnZnyKAvVGpKmlaVMerHCQDn3OHOpwugV4WOZyfvNPmrnjiVt1\n",
       "kJ/GEFyEo44Q0wZstNqtmqw7YEmZvVdnz7FhV5FKKy+Y4fBrNlxlO1mns4AxslGsWMMNJ7FD/p3R\n",
       "aXwE9mLcPbLy8VkNlAOQg0Vz+JUmTScsulS0a8vVIdY/T3VYjoycym+WTYBz05hWoTqgyThiiety\n",
       "2dGC7SBLGoQeHlaK7yQpgfys88rGlpMP6ZCwyNpJJ8jfSYvIeE6J0/iUSGgg5oZ9V+vWpI/AhkXz\n",
       "LlYgnLDoUoABydz9jOSyOlYOUwN/DU4EnVuPsBH4VoQ0WWjrXrsHtjthy2LhOKtZNmxY3wuhA4R/\n",
       "qxes5YSWnq0sMtyCiHEJF0M4JiRpfIrY35OXoJqgiyzQMRsWzQP9ej4s3dUA6b7aVCqlQmbMmq/S\n",
       "VE7lbcYN6117/TXvt/0CFecABucDjaoTVq7BLWYFrmm6FR3EhXhoMvX1JOE/4wVrOaGwZ+z3sWhC\n",
       "wUke7RCraHyKEtnO1VkGexpmyPGBsRwsmkOQ0jphGdhECPZhI3hTDMbMi2c59ZNbvHdQVJ73fqGd\n",
       "KraDQgsrsrQWricxV0JUpfEpSvAh7k2CwsqLcBAHqHOzBYvmBOpqzQu2PZIUyTzDB4sQtG5v4NRP\n",
       "Mt4vArkXCY/9QKwYLFrkRlbr3qEPQ4Vex+IjpWcs7oKFT6Q/6ulqWU1hmTn22grdA1b8+dRFCL1F\n",
       "WnesmD1kbTLCmq1+L65Gge8c3i9Tz+ZdUbg3jWbTwoos2Lj2OHSp0jaDxXf/+cxgsxt25/rZmPlx\n",
       "5LknT5nm7LNI6MTfhueXiuFUKuEg6bHVR5QCg+7TR735vfI7vy9jFs7IVM/48nZQTnO3jBf+1PMC\n",
       "p8uXC97d49EFz6y0sI+pzGLuNH8/qPt2qNdFf/P/gwhQHFYiuTrVy5m/ihc0uIIkdGVg/AcuWa8r\n",
       "U5tKWQAAAABJRU5ErkJggg==\n",
       "\" style=\"display:inline;vertical-align:middle;\" /></a><br>"
      ],
      "text/plain": [
       "<IPython.core.display.HTML object>"
      ]
     },
     "metadata": {},
     "output_type": "display_data"
    }
   ],
   "source": [
    "from proveit.logic import Intersect, Set\n",
    "from proveit.numbers import IntervalOO\n",
    "unique_int_in_radius_one_open_interval = (\n",
    "    Forall((a,b),\n",
    "       Forall(x,\n",
    "              Equals(Intersect(IntervalOO(subtract(x, a), Add(x, b)), Integer), Set(x)),\n",
    "              domain=Integer),\n",
    "       domain=RealPos,\n",
    "       conditions=[LessEq(a, one), LessEq(b, one)])\n",
    ")"
   ]
  },
  {
   "cell_type": "code",
   "execution_count": 95,
   "metadata": {},
   "outputs": [
    {
     "data": {
      "text/html": [
       "<strong id=\"e_is_real_pos\"><a class=\"ProveItLink\" href=\"proofs/e_is_real_pos/thm_proof.ipynb\">e_is_real_pos</a> (conjecture without proof):<br></strong> <a class=\"ProveItLink\" href=\"../__pv_it/theorems/6818ab25f1ee24756174470ed42f7632064562340/theorem_expr.ipynb\"><img src=\"data:image/png;base64,iVBORw0KGgoAAAANSUhEUgAAAD4AAAATBAMAAAA63aOfAAAAMFBMVEX///8yMjK6urqIiIh2dnbM\n",
       "zMxERETc3NyYmJiqqqpmZmYiIiIQEBBUVFTu7u4AAAC+LTDVAAAAAXRSTlMAQObYZgAAAAlwSFlz\n",
       "AAAOxAAADsQBlSsOGwAAANpJREFUKM9jYMADFjDgBwnkyHPIpH3ck4FHPxv7BaYbefjkHRgSYhm4\n",
       "0tKOpWXgkF/OiKnfbPduAbg8G1z+7WmINxXtkPTfewuT5zs94yyIzS6HZD5rpjhMnncDQ/0DIM1Y\n",
       "gJA/uH/zA1j48TcwsDWA5JHc59EnAOfF////3wFIx+wGggSo+XkdCPnp5eUgw54h+y+K7QGMx28A\n",
       "obmR5bnC4V7nOsfAAHIaswGSPF+CBYzHt6fJGiwliZBfwNDBpgA3YL8wmH6b9AAWf98K2BJ/YoS7\n",
       "SvZuAQxBADkOPEJ5+CWEAAAAAElFTkSuQmCC\n",
       "\" style=\"display:inline;vertical-align:middle;\" /></a><br>"
      ],
      "text/plain": [
       "<IPython.core.display.HTML object>"
      ]
     },
     "metadata": {},
     "output_type": "display_data"
    }
   ],
   "source": [
    "e_is_real_pos = InSet(e, RealPos)"
   ]
  },
  {
   "cell_type": "code",
   "execution_count": 96,
   "metadata": {},
   "outputs": [
    {
     "data": {
      "text/html": [
       "<strong id=\"pi_is_real_pos\"><a class=\"ProveItLink\" href=\"proofs/pi_is_real_pos/thm_proof.ipynb\">pi_is_real_pos</a> (conjecture without proof):<br></strong> <a class=\"ProveItLink\" href=\"../__pv_it/theorems/35affc1d52f971ec0094fa49c0d08d9fac061c030/theorem_expr.ipynb\"><img src=\"data:image/png;base64,iVBORw0KGgoAAAANSUhEUgAAAEEAAAATBAMAAAA9n32KAAAAMFBMVEX///8yMjIiIiLu7u5UVFRE\n",
       "RETc3NyIiIiYmJjMzMyqqqq6urpmZmYQEBB2dnYAAADM4K3lAAAAAXRSTlMAQObYZgAAAAlwSFlz\n",
       "AAAOxAAADsQBlSsOGwAAANpJREFUKM9jYMAHeBgIAVayVTRejRe62oDXjIAUhi2tBnhV5DGwcjow\n",
       "HA2NDQ1twKWCJ0EAmxmlSkoCcBUBWFRsLEaYwWLsAFfx9v///39ADDZhJFumLkyAqeB7vW5G5QQQ\n",
       "izEBriJX6FMxPExnMZSxgxUwMCK5tMMQxeUsBmB6rhIQBEBUsFog+ZLTgQnCMEUyg/NAMFL8NfBD\n",
       "GEzI4XEyFaHC3oB/A5jBXoCkwpQdYU0RA/8DCEsKriKHgaMhGq4iioEFqsIk2gAWt2EMofILsMTH\n",
       "viBIqKMAACHJNDpnvzCkAAAAAElFTkSuQmCC\n",
       "\" style=\"display:inline;vertical-align:middle;\" /></a><br>"
      ],
      "text/plain": [
       "<IPython.core.display.HTML object>"
      ]
     },
     "metadata": {},
     "output_type": "display_data"
    }
   ],
   "source": [
    "pi_is_real_pos = InSet(pi, RealPos)"
   ]
  },
  {
   "cell_type": "markdown",
   "metadata": {},
   "source": [
    "**A set of membership_is_bool (and nonmembership_is_bool) theorems, which are accessed by the respective NumberSets to implement their ``deduce_membership_in_bool()`` methods, covering the ``Real``, ``RealPos``, ``RealNeg``, ``RealNonNeg``, ``RealNonPos``, and ``RealNonZero`` NumberSet classes (defined in proveit.numbers.number_sets.real_numbers/reals.py), as well as the various ``IntervalXX`` intervals:**"
   ]
  },
  {
   "cell_type": "code",
   "execution_count": 97,
   "metadata": {},
   "outputs": [
    {
     "data": {
      "text/html": [
       "<strong id=\"real_membership_is_bool\"><a class=\"ProveItLink\" href=\"proofs/real_membership_is_bool/thm_proof.ipynb\">real_membership_is_bool</a> (conjecture without proof):<br></strong> <a class=\"ProveItLink\" href=\"../__pv_it/theorems/a5e357bcb4c1c6bb541bc00c88c5f70a502fd3470/theorem_expr.ipynb\"><img src=\"data:image/png;base64,iVBORw0KGgoAAAANSUhEUgAAAJoAAAAVBAMAAABMN+opAAAAMFBMVEX///+IiIgiIiIQEBB2dnbu\n",
       "7u5ERETMzMzc3NwyMjK6urpmZmaYmJiqqqpUVFQAAAB6qHgnAAAAAXRSTlMAQObYZgAAAAlwSFlz\n",
       "AAAOxAAADsQBlSsOGwAAAj9JREFUOMtjYMAEDVCMA3CQJM54AYLRAc/ktJ/KOQwMXAJoEkJm8yfr\n",
       "LQCLPwDx7yBLXoFiDMDG8YDrTSoDgwy6RMJCjqmvwOK7QNwZSFKsEyAYm2kODAl1DAycAeimrWHw\n",
       "YAOL14F8nIAkxX0AgrGbtoMT6OUNmKad5QOLgyxiQQ4lZihGCsgkJU24aUA3MJiiioNN4wSL8wCd\n",
       "wYms9yYUwwHXxACE257GARlzUMVBpr04AhE3UlIyQda8BYoD5cJdwG7uDED4lD0XFMR+DCjiwFgI\n",
       "1HOAiG9nYEhFNm0OFG9gfMitgBJFbByW+oogI04yoEZdwqLJn7ZCxPsYOB4gm6YLwTwNPF/5wJEx\n",
       "AWGaz1Ew5zIDijjIpzIrA8DibAEsC5BNs4JgdgZuiHJ2YFAoqUF9mnoGxKhHFQeZxsblABbnFUCJ\n",
       "BJhpwIiFpHnWBKQUUs0G8uliVHGwaQwJEPEJB4GE4A7pBhSfMjCsb2AFh7MCkmncFSAzLjGgiENM\n",
       "mwAR950KTDoNzzihiS4RgsMWPGZgAQsIIpnGmgDKVsdQxcGm8QpAxJuBkcDDkMgOlfKD4PulmxnW\n",
       "ggVg1gBN28Bwhm0BJAEhiTMkLGFw9IYmLL4CkMgPmFQRBEcL8u6BKGd9thRWhnxrYMv8y8CghSLO\n",
       "IGmWDypDYOKgGDKAFU9MBRCMlBncoDkIVpAp4BdnaGaZwA0rxjZgydcoAHuZgCTOLeUoChPMgGKc\n",
       "oI0U8TAoxgkySBHnEIBgXICxAac4AKl3kMeL4sR6AAAAAElFTkSuQmCC\n",
       "\" style=\"display:inline;vertical-align:middle;\" /></a><br>"
      ],
      "text/plain": [
       "<IPython.core.display.HTML object>"
      ]
     },
     "metadata": {},
     "output_type": "display_data"
    }
   ],
   "source": [
    "real_membership_is_bool = Forall(x, in_bool(InSet(x, Real)))"
   ]
  },
  {
   "cell_type": "code",
   "execution_count": 98,
   "metadata": {},
   "outputs": [
    {
     "data": {
      "text/html": [
       "<strong id=\"real_pos_membership_is_bool\"><a class=\"ProveItLink\" href=\"proofs/real_pos_membership_is_bool/thm_proof.ipynb\">real_pos_membership_is_bool</a> (conjecture without proof):<br></strong> <a class=\"ProveItLink\" href=\"../__pv_it/theorems/dd5365477a3f15a62a4f85915bbd304de94eb7000/theorem_expr.ipynb\"><img src=\"data:image/png;base64,iVBORw0KGgoAAAANSUhEUgAAAK0AAAAZBAMAAACx2rMTAAAAMFBMVEX///+IiIgiIiIQEBB2dnbu\n",
       "7u5ERETMzMzc3NwyMjK6urpmZmaYmJiqqqpUVFQAAAB6qHgnAAAAAXRSTlMAQObYZgAAAAlwSFlz\n",
       "AAAOxAAADsQBlSsOGwAAAqpJREFUSMedVk1oE1EQnoRks5tNwlZRUEvRFcFTTUUCekpvghbWg16E\n",
       "9ikkYFEs1INQaAMFjzYQCj1UtNJLQTCK1epBKip4aLUHb/Wwl4pIT0JNLBSc/Xmzb/9M68B+r50P\n",
       "vvf2m3mzAQhH7hGH+Gi6T1SoMfl1gvhg+NyL4WQWmU7XOXTQzWkx5LvIrLTMIWRQo/rn+E3ShRMB\n",
       "fl/pYaMX/UsaAKaV+CaykwThLWUzu1kh3Z7QW8zJ0z8BEij6xvp/RiRfEEToloGNg1qtlqp47iEj\n",
       "qPsEzkto4hbAeMjobYJI3SWFzqssh3VXC7jOIod7ptYELrPFwYuDul4nXYl0VRbgLV1r25dYC9xT\n",
       "ETUSRzlQLBwQzrsxSLqJYoBH3R8fcN2Pz2ldPyOKFOoupLs27gzY/Tgt+JC5NUO6WeetPJ7NXeot\n",
       "4/oUTXgFUPF5yFxQoUd7bttY83TPnjpm8PsGmRb4efa48WsR14kRgPsgm6KuYrrwCb4Ym3ZGqNvF\n",
       "j8KFkZ3qKmLduhdw3ylsYslI+UZBsunCCLx2MqM6BnN9qKwIN3M7wKOulEUjhlAxr/nK5p0XoM/J\n",
       "XBH7bEzymlZuBXhL17J+Cn2AunWdu5aO1IK62TZctt9A1FXves2eaYOft3XRqAlLawDLmah9V9wm\n",
       "LjAH0sOFIpTtdtIE3TTrJhm3Hzze0s1rTj/AJJ4tB9cyvH+LDuRbV4tZZ68Hnm4TViQqR87tX+LZ\n",
       "PPRfwPW9fUDLDGj7DoGQfqatrzqpwWGDz7PfNenGDg1w088fKt225xm89awqyvzPcwQU89f1qHlM\n",
       "8yHIz9JsTNXVXcyzQITmGe8/mi7q4X5+x2GUoFN8jsnnzKhsYY1DpzgZk0/W/vv7Bnv/vsFXgn/H\n",
       "Hr/Hu/r9YMVi3O8HLOdfCZKxmBbDwi4AAAAASUVORK5CYII=\n",
       "\" style=\"display:inline;vertical-align:middle;\" /></a><br>"
      ],
      "text/plain": [
       "<IPython.core.display.HTML object>"
      ]
     },
     "metadata": {},
     "output_type": "display_data"
    }
   ],
   "source": [
    "real_pos_membership_is_bool = Forall(x, in_bool(InSet(x, RealPos)))"
   ]
  },
  {
   "cell_type": "code",
   "execution_count": 99,
   "metadata": {},
   "outputs": [
    {
     "data": {
      "text/html": [
       "<strong id=\"real_neg_membership_is_bool\"><a class=\"ProveItLink\" href=\"proofs/real_neg_membership_is_bool/thm_proof.ipynb\">real_neg_membership_is_bool</a> (conjecture without proof):<br></strong> <a class=\"ProveItLink\" href=\"../__pv_it/theorems/1448897eb78781725fc6ac2182cc3a907eaae8da0/theorem_expr.ipynb\"><img src=\"data:image/png;base64,iVBORw0KGgoAAAANSUhEUgAAAK0AAAAZBAMAAACx2rMTAAAAMFBMVEX///+IiIgiIiIQEBB2dnbu\n",
       "7u5ERETMzMzc3NwyMjK6urpmZmaYmJiqqqpUVFQAAAB6qHgnAAAAAXRSTlMAQObYZgAAAAlwSFlz\n",
       "AAAOxAAADsQBlSsOGwAAApdJREFUSMe9Vk9o02AUfy1N2jRtyJQJ/mFIQPA0qkgPnrabIIN42EAU\n",
       "FwWH9LLBZEcXqHgRtrAx8DCZk10GRas4px6kooiC0x28yDzkooh4GoyWnXz59+XlS7LuID7o72ve\n",
       "L/19r++97yUAcSs9CGBva6b45RT/FoO97U6Kv2AkugUrgC5WUlOIN4lesRUAbx+r43NVQpzg+APV\n",
       "pfl+zF9WB7Adx3fK1hnEzJiBR+91dtkX45cLC78BMij6yrm+R8lnDOK6t0HM2zA1hmYCjOo834Bz\n",
       "IiZxB+BWLNG7DJJ0ZTPMvNSK624ouC4ih3vmNgmX3wkgtEOaZjHdMAjZ4HnUlXB9jkXFPSWqkTke\n",
       "ALPV3jBeZdgOb63wfAN+vcP1IH5Oa9oZKqJYPgg9P24Ouf24QPIw9c1ktxa9f0X45Qv9A7g+xiSs\n",
       "A1yPtJnhgwx96lM3jUzJqM9t95KUtYHjH85vr+E6PQEwAwWb6kq2Dx/gi/7H9ZC6fbpID5ZXXYnW\n",
       "7dgqxjqLTSzqucgoyDZ9mICXnmdSQzM8XfEy6QFhl+cbIBYxEaOoWFYjZQvjBTjleUZIvPkmSVqh\n",
       "zfOoC7jDLOYBLOc497w4avK6xQ4Mu/+A9u86mTb5DnC8o4sln3a0hrCcGfOn5DexYngg1JQKDLjt\n",
       "pBLdkUyL7wfCo25Z9foB6hhbCa7maVMilNuXKkVvr/vsd3ex32vhQPP7N+RXYPA8rm/dAJ1kQCcS\n",
       "BILwRN3a8FxXanowz27A2BI7nbId5Q9Xx915Bq/DVFUKwdezDJitXNOS5jGbDzy/yGZjzpL3Mc84\n",
       "i82zoP/YdJGPDLJzNMmgm31Oe5DYSV5lM4BudjLFnzX/5/MNvjL4p8/jfb8/rKW9P2A5/wJck7go\n",
       "nZk+PgAAAABJRU5ErkJggg==\n",
       "\" style=\"display:inline;vertical-align:middle;\" /></a><br>"
      ],
      "text/plain": [
       "<IPython.core.display.HTML object>"
      ]
     },
     "metadata": {},
     "output_type": "display_data"
    }
   ],
   "source": [
    "real_neg_membership_is_bool = Forall(x, in_bool(InSet(x, RealNeg)))"
   ]
  },
  {
   "cell_type": "code",
   "execution_count": 100,
   "metadata": {},
   "outputs": [
    {
     "data": {
      "text/html": [
       "<strong id=\"real_nonneg_membership_is_bool\"><a class=\"ProveItLink\" href=\"proofs/real_nonneg_membership_is_bool/thm_proof.ipynb\">real_nonneg_membership_is_bool</a> (conjecture without proof):<br></strong> <a class=\"ProveItLink\" href=\"../__pv_it/theorems/f4a3f577da887fe2e44bdd4631e8829d131957f60/theorem_expr.ipynb\"><img src=\"data:image/png;base64,iVBORw0KGgoAAAANSUhEUgAAALUAAAAaBAMAAAADNwChAAAAMFBMVEX///+IiIgiIiIQEBB2dnbu\n",
       "7u5ERETMzMzc3NwyMjK6urpmZmaYmJiqqqpUVFQAAAB6qHgnAAAAAXRSTlMAQObYZgAAAAlwSFlz\n",
       "AAAOxAAADsQBlSsOGwAAArZJREFUSMedVk1oE0EUfonJJrtJlq1aQSsie5YSRXIQhBSKCFJYwRZE\n",
       "qavQIrk0UOnRLkS8FJqlpeCh0lR6KQStorZ6kEilKFjMwYvUQy7+IJ4KwSAIzuz8dHaSNYnv8GX3\n",
       "m2+/zL5582YB/iOmSt7P4MHuH02WGARE9FwVKwzNhkSAJIjf4RAYhyoA+/LQgLjdWhDAR10G/4gt\n",
       "A4oWnAV4HSBozSsVBnK8y0zMZejApjNtwQmAsOXX7M8szfeXCF/DxGdxtMChKexZeLjlmV3KAfI+\n",
       "CRCqyZrl+MIPwr/E9/fEwaccmr3vgBLDZjPfAOfkD0peXdaU4bxC+NtNif/NoZV3wkErMYusyVoC\n",
       "LDZ7b+uEV9ErRqrCWKzOQCgL03S5tw2jG/gmZGj4FZ7LGuStEj6J1kYVfULHGfBY7d2btz5cg2Fy\n",
       "N9iHU39A1pTh+xvKnzLN06KR7lKI9ny5NeTV6oKQk6lPjj8HjyxJs3yxP0v5dYAxXwnaFBJwzHiC\n",
       "GZW72YW53V4pv9N5SfNgfvcZ5Wch7isjtUbhLXywfnqMsJbvL+N+Mo6CmRVLkqYMR1ctwitWxNc6\n",
       "wmsU8vCCMJMmCpt4K1flTXWtJGnKoGhZwqcM31LuzRvw1sAxIsw7tjYmeRfzkgZ5g015F2/9no0+\n",
       "R/bWGqQiwmJ9r9+V8+1IGuztUn4ILXHI+arSItdtAtGcnoYsKWTBeyRUaVUnggZ5pwzKF9Ack3A9\n",
       "xuo7TSD160paI/93nz83g/ZDzu+9CZJmBQYuMF73EtZgY1qdQPSxsbNNqNGcxfrgTRhfqvq8X/k1\n",
       "hzMTXh9kPN7k6Ti7PMOBx8oNM7CfLwZoeJ8pRNxEB32w1UlSb8cnjgzw/TbJoaPDtdYNr1cZdBJh\n",
       "pxu+o/OyzbkYyH/k0D66POfbf5+I3yFWMP8X6vfPATOAg5AAAAAASUVORK5CYII=\n",
       "\" style=\"display:inline;vertical-align:middle;\" /></a><br>"
      ],
      "text/plain": [
       "<IPython.core.display.HTML object>"
      ]
     },
     "metadata": {},
     "output_type": "display_data"
    }
   ],
   "source": [
    "real_nonneg_membership_is_bool = Forall(x, in_bool(InSet(x, RealNonNeg)))"
   ]
  },
  {
   "cell_type": "code",
   "execution_count": 101,
   "metadata": {},
   "outputs": [
    {
     "data": {
      "text/html": [
       "<strong id=\"real_nonpos_membership_is_bool\"><a class=\"ProveItLink\" href=\"proofs/real_nonpos_membership_is_bool/thm_proof.ipynb\">real_nonpos_membership_is_bool</a> (conjecture without proof):<br></strong> <a class=\"ProveItLink\" href=\"../__pv_it/theorems/1ad1302733ac5ae63ba4b6d63ff60056187c27210/theorem_expr.ipynb\"><img src=\"data:image/png;base64,iVBORw0KGgoAAAANSUhEUgAAALUAAAAaBAMAAAADNwChAAAAMFBMVEX///+IiIgiIiIQEBB2dnbu\n",
       "7u5ERETMzMzc3NwyMjK6urpmZmaYmJiqqqpUVFQAAAB6qHgnAAAAAXRSTlMAQObYZgAAAAlwSFlz\n",
       "AAAOxAAADsQBlSsOGwAAArVJREFUSMedVk1oE0EY/RKTze4mWbZqBa2I7FlKFMlBEFLoQZDCeGhB\n",
       "FF3FFsmlgUiPdiHiRWhCS8FDpan0UghaRa16kIhSFCzmIILUQy6KqHgohAZBcGZnZzo7yZrE7/CS\n",
       "vHn7Mvl+ZgLwn/HRgeG9vT+WKDP4h7UJCVO3IR6wHsRvcgiM9SrArhw0QbXbCwL4aIlBYOyrYSgi\n",
       "OAnwMkDSnleqDOR4m56cTeOFPLGGaQRHAMLIr9mdXpwbLFO+TojP4mqBQ0vYM3BvHUHyCqLeRwFC\n",
       "dVmzpM5/p/xz8vm2uPiIQ6v3DVBi+CGdmOOc/MHJa8iaCpxSKH+9JfG/ObTzjjukErEfDq0lwEKr\n",
       "94ZBeQ3vIFIT1mINBkLtLKvEvd2NqL9QyNRJPp7IGuytUT6Ba6OJPqHDDHis9O/s2xilCVYBhgdI\n",
       "2vfImgp8e+3xxyzruGhklDyI9n25NuLazAs5mfrk+HNwH0mapTODGY9fAxj3taDtQRwOmQ8Jo3E3\n",
       "uzC71S/ldzonae7ObT32+BlQfW2k1T14A+/RT5cRavnuLH6ZmsDBzIplSVOBgyuI8gqK+I6O8KoH\n",
       "OXhGmbyFw6beynl5qC6WJU0FFD1D+aTpK+XOvoGMBokxYd+x1XHJu5iTNNgbbI8vkdHvezrgyN56\n",
       "E0bdXyL299pNOd+OpCHeJY8fwSUOOV81r8kNm0I0a6Qg43alKXiPhart+kTQYO+k6fEFvMcEXIqx\n",
       "/k5RSG6fS+n0++7w527hecj6vV+BpFmGodOMN9yENdma3qAQfWBublDqQhaxc/AqTCzWfN4v/Jr9\n",
       "6Un3HGQ8GfKUyt6e4MBj+bIVeJ4vBGj4OVOIlOJdnIPtbpJGJz5+YIjPW55DV5drvRfeqDHoJsJO\n",
       "L3wX92XHezGQ/8Chc/R4z3f1/4QXCgXzfwEndc77LnKXUgAAAABJRU5ErkJggg==\n",
       "\" style=\"display:inline;vertical-align:middle;\" /></a><br>"
      ],
      "text/plain": [
       "<IPython.core.display.HTML object>"
      ]
     },
     "metadata": {},
     "output_type": "display_data"
    }
   ],
   "source": [
    "real_nonpos_membership_is_bool = Forall(x, in_bool(InSet(x, RealNonPos)))"
   ]
  },
  {
   "cell_type": "code",
   "execution_count": 102,
   "metadata": {},
   "outputs": [
    {
     "data": {
      "text/html": [
       "<strong id=\"real_nonzero_membership_is_bool\"><a class=\"ProveItLink\" href=\"proofs/real_nonzero_membership_is_bool/thm_proof.ipynb\">real_nonzero_membership_is_bool</a> (conjecture without proof):<br></strong> <a class=\"ProveItLink\" href=\"../__pv_it/theorems/5739c04d5d5f3b06f91058645d61efe1e75345480/theorem_expr.ipynb\"><img src=\"data:image/png;base64,iVBORw0KGgoAAAANSUhEUgAAALUAAAAbCAMAAAANmz4FAAAAOVBMVEX///82NjYbGxsSEhKIiIgi\n",
       "IiIQEBB2dnbu7u5ERETMzMzc3NwyMjK6urpmZmaYmJiqqqpUVFQAAAAnLjGdAAAAAXRSTlMAQObY\n",
       "ZgAAAAlwSFlzAAAOxAAADsQBlSsOGwAAAs5JREFUWMPVWAmS4yAMZHfELc7/P3YBE9scvjKZqVpV\n",
       "4shJtdyIloAQ8tsmyH9o3JQrB/4LD3Nm9N4xHUoMIMTI5Nin+EcAb0fvLQs6X5lKl5hcLZ+O+gFA\n",
       "4Oi9ZaboQscsbuZr1p9N+n2AdKN3FR2ZlBEpqwgrs32ltyOqsKblB3pRnZAiYERGQ1VmAYRNBYeE\n",
       "NBu9G0MtIjbByZUYLI9YWLOSNQjXcQwQjaLSLgC7FhfqwxLgo3eLNS8f6kVMVFEuCom+fBfFNes0\n",
       "WK7Jgi6ANeSJzqMZvdusrSZYFfL3jywK2aoxJ8vdYu38SxYFgHWs3B/B1JoOdZYYkDQZTljXfKwJ\n",
       "IpA7X72z8jJOZY07gKtjxZOCGL2xOyCIaa6DEJXfpu+8yth6B+wyTmYdtON7AMtDo+xYsQF7TwAE\n",
       "ofhuejSKuUKU9LVg/LxnmWb+pnEMCKCBNwCrukQMMNl7NpcyELulflLKiTVDGukrd3ikP7W7m8Yx\n",
       "FFmkr8lZAGWR1ScNCEPnuRTapRGHrZBwXo3OrcuSPyhk3VQ4HlUjOFOnoQJymvlJc6C28/JYbRNf\n",
       "LTJLJluFSOEueoTYs57HyazzB98DsuDOFuoh12RdI0jXiQddK3umvSV16ipOZV170QuA6+oOYHV6\n",
       "XbM2uduKjQ896tdWXWx4VNw/jp6xxgbAfZUMaBIkwa5zB9l6QhoScvvZtR2AA9Ype3CqkbaHTONU\n",
       "1rUJvQCa1RymXyUQ1fdr1no+KmGTZ/ajQz9hbZf1QJ6tqK7t17M4WdDpGGE7QNiIRn2SjcUTNmXE\n",
       "W9fEF0EaMez5pM7tEqM/2ee33auPA8vecdvz9YCliFPq+y+ZGb3Z3lk2K/FNG/YhV3F6QNqHcpyc\n",
       "ct7b8908cETxXYAFwwHEbAJ672MH0vBjgOBH70NG9Y8BPnZu/M4x8DnA89H7hP3oGf1z/4f0hSTe\n",
       "AvwDoFUf0d0RkwgAAAAASUVORK5CYII=\n",
       "\" style=\"display:inline;vertical-align:middle;\" /></a><br>"
      ],
      "text/plain": [
       "<IPython.core.display.HTML object>"
      ]
     },
     "metadata": {},
     "output_type": "display_data"
    }
   ],
   "source": [
    "real_nonzero_membership_is_bool = Forall(x, in_bool(InSet(x, RealNonZero)))"
   ]
  },
  {
   "cell_type": "code",
   "execution_count": 103,
   "metadata": {},
   "outputs": [
    {
     "data": {
      "text/html": [
       "<strong id=\"interval_oo_membership_is_bool\"><a class=\"ProveItLink\" href=\"proofs/interval_oo_membership_is_bool/thm_proof.ipynb\">interval_oo_membership_is_bool</a> (conjecture without proof):<br></strong> <a class=\"ProveItLink\" href=\"../__pv_it/theorems/0a7c5c0cf1a3fd207561aa01dc717949aeef4cac0/theorem_expr.ipynb\"><img src=\"data:image/png;base64,iVBORw0KGgoAAAANSUhEUgAAAQYAAAAWBAMAAADQui8gAAAAMFBMVEX///+IiIgiIiIQEBB2dnbu\n",
       "7u5ERETMzMzc3NwyMjK6urpmZmaYmJiqqqpUVFQAAAB6qHgnAAAAAXRSTlMAQObYZgAAAAlwSFlz\n",
       "AAAOxAAADsQBlSsOGwAAA+NJREFUSMfFVm2ITFEYfu/OvXfuzJ0Zd0URtm18K0Is+aEhtMZHd7Ot\n",
       "pBhiKD9MPsovZlNb/mwjrRQyWD/UyvjK18YolFBj+UEpuxGSH4h8lPKe855759yZa8c/bz1n5jz3\n",
       "vec89z3vec8BqGlDJ/qQWYFqM3z6xl+GNv42fKUlfTilRPCxMRX9sEXwflfTiUPT8sQnoZ9RLwfV\n",
       "EGNttChzzwSqLZqQOm0zsRkt4LHUSaPrA/FJuMGYI4NqMPPYhuTIazmCj63x9I6yN22CV0MPNOvE\n",
       "J2EvW5bUoBqCLFYdMmUWCT7W6+n9RkQKhEoNj2PEJ7kStTR4PnRhu0KmAgJSgmyMT+Z/pnty4Rtr\n",
       "ZwvIbkxDiPgkRPBzQjVy8hG2nsi/EChPdlAEO+rxUxtZe0xAcmMa3t8lHnN+Zjw+q4aGQDw+Vk41\n",
       "uCzQ0rB6EY/hAWdsk/l1LminXmigAR+vBILkhjnZMi1BPGq4CrC5hgYzA7onqZwvKygDZqMnqUMY\n",
       "1vBc2E7u67u0HwAPgCDnfurUoS9XiEcNnWD0O0+Ch8WfvqW3DpY1oEOnR9ZUQiQb+RbjqemuQB1+\n",
       "96oiXKTeKxtmADwFgryguBajz9qcRw26rebdR2+YkIZ0XlGhOVGuUZsrCtU8QhBMGjWICxqfwLMV\n",
       "x7oNMI78rgN8BdgHBMmNadDDCc7j0FFLSsk5iJsZzF8F7lllDU+8KelowCnJSXM3N9PQBNov6o2D\n",
       "MO7O00CQ3LgGSHGefV7uDjatd5qZ0M8NtsKCixqGF8oaQhGcSxnVfs27FgDnsxpf+UZpLbTPEPnk\n",
       "lAcTd2cfECQ30pDjPNOwAre/Nin4g009Xim08X2sGhuKZQ3qC5xpRCx1XFAbCG3516Byot4ZW7dA\n",
       "+w2x3HNg2r6z3ID7QJDcuIaoxXmmYT+mpFkIsuKiFyO5Hq7B3JSSzixjPv4WdSsjKLHbXu2+BOdo\n",
       "OzhVTu1n6voKBe0n9j7CNmknS26Q6oYFy4hnGmIZtowK2xyBjNn/IJ1OlxRFPSefm+/YnyHukbGD\n",
       "sLY+2kujam/PiJ2F4V43bM9ABuIYiHXLWDCnCEhuI5u2s3OT8066r8/q9/CdIRAo7eJxUMLdduXZ\n",
       "vdO9MdRlCFKhXCKKsHsbiDrvG40Ej5v0zBk/kN3XY7dCnX2fqhHuzcUFrwZj+lJwKN9jiOyhW6f/\n",
       "4YDjvKMh3PtkOewsBS9YYGzB/tmRibXXK+JwobveLZZbBapNd2LV4jAdlaeuZB1VdyRa29Z0Ol/r\n",
       "HtUmUG1uDbBq6yXeM37Y9vVb6HPhMyyCj7VXXvuyBD9j/NB5MhOB/2N/AE829ykdZcyGAAAAAElF\n",
       "TkSuQmCC\n",
       "\" style=\"display:inline;vertical-align:middle;\" /></a><br>"
      ],
      "text/plain": [
       "<IPython.core.display.HTML object>"
      ]
     },
     "metadata": {},
     "output_type": "display_data"
    }
   ],
   "source": [
    "interval_oo_membership_is_bool = Forall((a, b),\n",
    "       Forall(x,\n",
    "              in_bool(InSet(x, IntervalOO(a, b)))),\n",
    "       domain = Real)"
   ]
  },
  {
   "cell_type": "code",
   "execution_count": 104,
   "metadata": {},
   "outputs": [
    {
     "data": {
      "text/html": [
       "<strong id=\"interval_co_membership_is_bool\"><a class=\"ProveItLink\" href=\"proofs/interval_co_membership_is_bool/thm_proof.ipynb\">interval_co_membership_is_bool</a> (conjecture without proof):<br></strong> <a class=\"ProveItLink\" href=\"../__pv_it/theorems/af5aaac2148d464b2d80cdc49d0a01a9e09172ef0/theorem_expr.ipynb\"><img src=\"data:image/png;base64,iVBORw0KGgoAAAANSUhEUgAAAQQAAAAWBAMAAADUT/8dAAAAMFBMVEX///+IiIgiIiIQEBB2dnbu\n",
       "7u5ERETMzMzc3NwyMjK6urpmZmaYmJiqqqpUVFQAAAB6qHgnAAAAAXRSTlMAQObYZgAAAAlwSFlz\n",
       "AAAOxAAADsQBlSsOGwAAA51JREFUSMfFVl1IFFEUPuPO/s3sbqvkgyUii/1CYlIWPmlU2FoxktiD\n",
       "oLtRW9CDSz/QU24IQi+yIkZQ0Fb2IChtf5QlZZCCD8FmPRQEKoVE9JCRZIHQvffcae/8uPPYgW+Y\n",
       "+eabM9/cc+69A+AYJZtsyBSHOaRI0kj4OOzCt1p2c0Tt3pRDWELOmAgljDB+Vd2NgeoM8lGYo9TH\n",
       "whasmncchS201ZJDOYchYjd9g1+Rj8JTylwtbMGicacRTqNwjcCvIYwWRqDJg3wULtKaxApbsGjU\n",
       "CYSThRWCQBZhtvA6hHyUGZFzhS1YNC4OoTmORbZYLChL9LiTQ1AxC37koxAgH+N3aEeL5gNH/mX9\n",
       "ms0oyJX0eJ1DUFELX14hT7q9NhLZ4TQjzJqHHC0VR/ey0bmsCYXoa7yEF/75CnL3MCAEFWnHluoG\n",
       "5En6xwAnnCyYNfqHZaV5tdLQq8SCshu68F2dg+5lgGlAiB0duzXw4xHyJH0f+Ob0O94r/GTmwPN+\n",
       "wYKoobENEUgFlkKsK9OChSMTcB8vZjXYDvAWEIKKFqJ8WGM8Se/RhPp9pj4qEhlJhqaGvAWDhkQ9\n",
       "wgsqZvWSSkU2cgsvAKpQNgbwE6AbEIKKWvAoDYwn6YNhodN2ETwjS6wkwWQ4b8GgyVsg0wJF7pgw\n",
       "CnXg/oMXVaCQaXkbEIKKWYAY4+nim35JDq0vm6jPxQpNoiNLLJRmhQWaaYqfrE8ZCgFwN+VmZa/M\n",
       "W3AvQuC7viyoZFrOAEJQoYU042n6Q4PE4GbvMn3zBinbxiaw7ItPCBaoRkot+PniEEe0ZT6BzIhi\n",
       "wcIKhNLvgTr7RfsCpgAhqJiFYJjxNH0P6TQ1660hp56JQHqEWVCPx8RtimoCEPdyis+z2fMPYBSn\n",
       "Xy5fiDjMZLPu3+TiG5wWZrCggtgQNDYjT9OHSO1dGYm2vCupzk0nEomcJMmjooUQ24KXdeoMor04\n",
       "OI5Z3Qt3/lnoWHthPgkRMgwdzXQkt3IIqrK6LrpTMl7fiDtTnknyzBpw5c6xUZCUIc28WXtr9I2/\n",
       "KIkQlsf9pgU6qD/uq0SIKhDu6eldqe4RrRWKtCkyAVkvwL6syUKPnFb5qe3WY1ygZectDXk9vTL+\n",
       "5iCczXnvhcF3klwPlzW0j5ksqOsaS/VnT3GsbqFFZ3o57KLX8keEdW1NJDJOf01tHKtbCDu65bwh\n",
       "vaLZ6vbY/N35wgirBfO/o5RC2AXlS+pFJgD/Jf4CyTn6niNma9MAAAAASUVORK5CYII=\n",
       "\" style=\"display:inline;vertical-align:middle;\" /></a><br>"
      ],
      "text/plain": [
       "<IPython.core.display.HTML object>"
      ]
     },
     "metadata": {},
     "output_type": "display_data"
    }
   ],
   "source": [
    "interval_co_membership_is_bool = Forall((a, b),\n",
    "       Forall(x,\n",
    "              in_bool(InSet(x, IntervalCO(a, b)))),\n",
    "       domain = Real)"
   ]
  },
  {
   "cell_type": "code",
   "execution_count": 105,
   "metadata": {},
   "outputs": [
    {
     "data": {
      "text/html": [
       "<strong id=\"interval_oc_membership_is_bool\"><a class=\"ProveItLink\" href=\"proofs/interval_oc_membership_is_bool/thm_proof.ipynb\">interval_oc_membership_is_bool</a> (conjecture without proof):<br></strong> <a class=\"ProveItLink\" href=\"../__pv_it/theorems/e9e225a825e2648cac4ec8aad974af5731ecda680/theorem_expr.ipynb\"><img src=\"data:image/png;base64,iVBORw0KGgoAAAANSUhEUgAAAQQAAAAWBAMAAADUT/8dAAAAMFBMVEX///+IiIgiIiIQEBB2dnbu\n",
       "7u5ERETMzMzc3NwyMjK6urpmZmaYmJiqqqpUVFQAAAB6qHgnAAAAAXRSTlMAQObYZgAAAAlwSFlz\n",
       "AAAOxAAADsQBlSsOGwAAA9BJREFUSMfFVktoE1EUvdNkkkkmSaeiC38lxL+giGgVcZGKSo1aplgq\n",
       "UrCpn9idwQ+40ogguJGIKC5E428hVBx/+Cs2ggoiQqwuFAQrioggqCCoIPjufW+SeTOTZumFW+ad\n",
       "nrlzcj/vPYCGNm6WD1gQ7jXNtVZSea1OZK1edLdlfDClwt3HprqBYClquH9V29nj80tAeAZGEXo7\n",
       "tgQv55Vwr8XTjoW6NYkSYIqblT2nnfgChGfgHiKnxpbg4ahF7j62SVpFLJIQMd0SBqEjBIRnYD/W\n",
       "JDu2BA9HL3P3sSFp1VwhCTHLK+F5AgjPkJBgZWwJHk5AuKM5tqTm0MMCCb5qkgRY7GKhhAgQnoEY\n",
       "+zGRBu3o4bwRXrXoMZHquFyeFcAlnJZZKOHzIyCcdfvCVGpRo4lwc24K72rduJKyc8SOrWM3Hm0/\n",
       "KJZnWr6ShE6QWKwdu+Yjs5PC3wbY3kiCm3NauKW815NSr0ZYwqJLYSf/mPrb7CughKcgd3T2/PEf\n",
       "t4BwFv4oaKP2f8InxcPImgfHHBKcHLR53GOF2M8EdWU1/U0sKRvKcF2U5ScEDJTwEiQWFmLKZZNw\n",
       "Fj5kIkfYR9TRmispQehI1yRIHGbLuIdB51HDrFKpmdSojDcMMF2UpQjNaXz1gMxCCaFomnAWPm44\n",
       "Om0J8/t51roKPDZqEiROTQL7Iiep1YlFCW2g/hE5ScPVCkq4ILNIAmQJx823+JD96X7YgTq/t5oK\n",
       "ZpZJmGA5NmjitNyZXJAKwYauoFLVk45CqN8h9q26LQxTAkdAYnEJRcIx/PoTTODs8C/88gzF6qEB\n",
       "Dmr9ZYcE5CiFTxGxOfRz7yl9gCABLXbskAHqX0gUXwNKa86ry2kinsgskhA3CMfwh1in6VYY95RQ\n",
       "OVYcJAn6tqzzmEJODPrDAurk/m7vDbjCB8HeuIKjKG7EstTfbJUohyyScFNmQfYitK/lk43hE3ks\n",
       "oYItH8jro09zuVxFUYJXnBKQA/DLhnZx722JD/Go6qdLYqZYsjeP3/c+DymWBvXjEN+a5sqsiW07\n",
       "8aQk3D6I+wqhx+yVZghU9lAWlOhF031YhxfYB39Tnrtje1wttt7q8R83q4c1aEkXy74wJGvhA4UD\n",
       "g2Y3NJlP2ABSL8AqyyXhULCoi0c8XjxHD7dn1WtC7b5Q70gj3A4fHXqxDnZXwtcM0Haw9eWJ6d67\n",
       "Lgn6pPYJ9rsDwr0Wsu9SXQ4Jh+tsvIc9NyJe1+5crtTo1tQj3GvV4TccEgbqSBhwh4+avrwVPrc7\n",
       "zeDuYwfdd7xpJcX/lgmIj1vmRGLwX+wfGCr5S+ReT0IAAAAASUVORK5CYII=\n",
       "\" style=\"display:inline;vertical-align:middle;\" /></a><br>"
      ],
      "text/plain": [
       "<IPython.core.display.HTML object>"
      ]
     },
     "metadata": {},
     "output_type": "display_data"
    }
   ],
   "source": [
    "interval_oc_membership_is_bool = Forall((a, b),\n",
    "       Forall(x,\n",
    "              in_bool(InSet(x, IntervalOC(a, b)))),\n",
    "       domain = Real)"
   ]
  },
  {
   "cell_type": "code",
   "execution_count": 106,
   "metadata": {},
   "outputs": [
    {
     "data": {
      "text/html": [
       "<strong id=\"interval_cc_membership_is_bool\"><a class=\"ProveItLink\" href=\"proofs/interval_cc_membership_is_bool/thm_proof.ipynb\">interval_cc_membership_is_bool</a> (conjecture without proof):<br></strong> <a class=\"ProveItLink\" href=\"../__pv_it/theorems/b7e80a3ad2055d29a9d3a6f1b9055aaa1157caf60/theorem_expr.ipynb\"><img src=\"data:image/png;base64,iVBORw0KGgoAAAANSUhEUgAAAQEAAAAWBAMAAAAyZjRZAAAAMFBMVEX///+IiIgiIiIQEBB2dnbu\n",
       "7u5ERETMzMzc3NwyMjK6urpmZmaYmJiqqqpUVFQAAAB6qHgnAAAAAXRSTlMAQObYZgAAAAlwSFlz\n",
       "AAAOxAAADsQBlSsOGwAAA5tJREFUSMfFlk9IFFEcx3/Tzuzs7ozbKnmwZFk2+wuJSVl4WqPCtGQk\n",
       "2Q6CzkZtQgeX/kCn3BCELrIiRpDQWnYQlKYyypJaIQUPwWYdCgKVQiI6ZCRZIPT+zLpvZnZ3ujXw\n",
       "W9589/vefOa93/u9AbC9SnbkEON62LrRvSvPwEjngjF7AGjIoXFpGv/gbgCPz0xZc7u/Mkl0PgkL\n",
       "WPpYmMDqeadHYYJwNRXKzSZ1yDXwleiI4BlWbhYmsHiEBA27ObhFBbdiJhiFeifREcFVvCBqYQKL\n",
       "R0rRsCNYo4KsWQlee4mOCDAfny5MYPE49GAS43Rwl4XAs6IL+00mTOAmOiKQ0au4bTLR4vmgR/ZZ\n",
       "fUqOOeADujBoMiGCL6+IjgigOhjcZ7cXzJ5xPZr9pw6TubmuMO7eumu07V70pwlBExhN6lBzZYjo\n",
       "mOAJwFk7ArNnUA+NW5QCxjRFm+8gdNJntQ8Iq4RgFowm9U7/j8dExwS94FrI/CPe0Btzx170sW/F\n",
       "ePC1h4Ycl1e8JCETDMHJFDyk7XkF9hKCt2A0oVUoH1GwjgmcCv7Vr88Ywx9NcjzUh7IEBg+6ammI\n",
       "INFRRbRMwe26+yVABbVNAPwkBF0mEyJwekJYx+MW+ZgkO4DiOSqUHAfTviyBwZMlQBuCmgSVmYMa\n",
       "EP7QdgV41gjBXZMJE4CKdfJmiSn00zJVjzGX/QqHpxURlGpMdhNP8dMtccMqANyPC2TJA1kCYRnk\n",
       "75lyIK2Q7nNgNBGCBNYJwYkBxLdTXMUP3sZpYbJzeVckxRBgDxdfcutFIUIjnPwEPBGKGYI18Cbe\n",
       "Awb7hXMCd58xmTBBkQ/rhKAbJZmkiVWo6UzJiVFCIJ1R2SqHPTJERF1qojF/+RGM0X2XzrojMKdp\n",
       "wm/U/gbnafdxk0kdhrpGohMCL1p3R5LDye6ISQuz0Wg0zXH8GEvgJYfoaka6QKO1uGiSjios3Vt3\n",
       "t226shiDIJqEtsYU7b7baCqr6cRnI9bXM7w97pxGXTaCI32JzAHnGbZUObEqc9JviNFgiuJRU1Uu\n",
       "Yrq7AiZT5gMhkCVwxLtGlRbYoMygnUfyAI5oJoJuPiHpTXzUWI4bo5tnhDyHGNbXCTyTb47DxbT4\n",
       "wAeuc+h+pCzUOmEaU9pcV5rp26FHfoJmRujJU217AIx1BuiatkSjSbtvpLAe+Ql8jNCRh6DDTOBR\n",
       "cvoO5fhOdPlo2LtLatE2zg2AdG6rgUCG/3H9BXmV9uSvftK6AAAAAElFTkSuQmCC\n",
       "\" style=\"display:inline;vertical-align:middle;\" /></a><br>"
      ],
      "text/plain": [
       "<IPython.core.display.HTML object>"
      ]
     },
     "metadata": {},
     "output_type": "display_data"
    }
   ],
   "source": [
    "interval_cc_membership_is_bool = Forall((a, b),\n",
    "       Forall(x,\n",
    "              in_bool(InSet(x, IntervalCC(a, b)))),\n",
    "       domain = Real)"
   ]
  },
  {
   "cell_type": "code",
   "execution_count": 107,
   "metadata": {},
   "outputs": [
    {
     "data": {
      "text/html": [
       "<strong id=\"interval_oo_nonmembership_is_bool\"><a class=\"ProveItLink\" href=\"proofs/interval_oo_nonmembership_is_bool/thm_proof.ipynb\">interval_oo_nonmembership_is_bool</a> (conjecture without proof):<br></strong> <a class=\"ProveItLink\" href=\"../__pv_it/theorems/eb730e0977716857aa61410b3e44d38aad7793fa0/theorem_expr.ipynb\"><img src=\"data:image/png;base64,iVBORw0KGgoAAAANSUhEUgAAAQYAAAAWCAMAAAAVSsIhAAAAP1BMVEX///9jY2MJCQkdHR0NDQ0W\n",
       "FhaIiIgiIiIQEBB2dnbu7u5ERETMzMzc3NwyMjK6urpmZmaYmJiqqqpUVFQAAABqwkwZAAAAAXRS\n",
       "TlMAQObYZgAAAAlwSFlzAAAOxAAADsQBlSsOGwAABAFJREFUWMPVWO2W5CgIzc7somj8zvs/66pR\n",
       "SxKsSk/tn7X7FHW6geAVLpht+w8WCLE/0zQX+V7rkfJTp0u759F/WOie4hWpXCyrOKPlckDlm+OS\n",
       "2h5WiuSIfo4/DaUYvoDhkZuIVC7Wnjij21Jaira9QOV66bJ3Y9WJQ9fP8ftxktZ8AcMTN8pSuVre\n",
       "MUZs1vhL+tA04mHIW0eTv0z6Of4BvdHfFMUTNz5QuVqCM+LW0csleCo/wBBiy96mX4q6I4jxK254\n",
       "4EZeJFu+Wvzzt7B3I44TjnH4UlH58paXZWCws36JPzS47XcU+dlNtFRyG7OgtrQzRuxjX2ljA5Uv\n",
       "b1w2JBNw1q8ULwtiQuKXneKjG49UKoCkdpzSx5SUomTQlTeTEAxtBTZlD6c1tprEiV0NwxSFIhWI\n",
       "1L2e+jV+X9HX6ksYPrq5nliuS0iw+elMC7sG4IyczP/Tx+xdHXmf6qiMHBp2YcKQ4+oMg7DyEF7N\n",
       "+jV+k/rHtXHZC91FgdYnCywMSzeD+SKRIUcZ8r7SK4/tne2bspJFyxPyjBUUWaOJjULiRCV2SZEQ\n",
       "XHvKqX/OPeUE2Qlo5M4OSeusARuWdoPs+LR002nMEVmSx5NQ91JXv3/lD3018kfFhDz4ND7q3/aj\n",
       "uTiot7r0FYYicNI/o46wYDbZyMr79gXyzxYUsDAs3fAwbOMoX/PQvdM0ZalrFRCQKyjubJpO9tqh\n",
       "3vhsKFODnvTb4dlRkAoDYK+p/SgkNg9nFQZQnh+mX24AvMm/b4ui7iGrKEUGBsEZqaM4Dsd9avAn\n",
       "XUTRy3YxftxgsJN+ix9jKxUlTN68GSO42sDPsJaiMPo2s17dgNmS3uxlgtAwS5WLLJWzmBIdYHOe\n",
       "M1J1y8luseDWYdg7Z2SEWoxBE29rGCJM+i1+I1PP/lJTwyZUKnVhgsFr1Kur1XATavjXaxttavHY\n",
       "lc+PcjNYNqadNSpoROFLd8kNojFXeYznm3HzxsFQ2A2Q2HVG6w8vlQhppgafMhK6rngWBbq4umFO\n",
       "ezju3WoXs1Q+n1b0gThT6ZdTnJFKgLtJUB4gREvdhGPSFo7KpqCpN7BS69cNc+hfiL02YR16tZZS\n",
       "lHHbcZu5wTlUHy/aJaVuQPRr/ZvrffgLNR1/GeV4m02MoHKQz9Ubb3eNXxZqcCFPJWXrGfVaO6+R\n",
       "6GyYK4oczuWGto5Hlz1+vgDdBz9GGf/40rawu8LgcpIChnKaOVl3f7KM0fsY0i3mdPb2fTZ4cAjA\n",
       "jLKGyvvpME3upnzr18Psp5fkrv9m2plrVmHhBvf126fec9QqXO56elOGn8O7unabT/G7n1wx8Onb\n",
       "vH43MovXZemd0fpybqh8/ArV9FdzSxj++IXc/3P9CwCtMy2QQ6/sAAAAAElFTkSuQmCC\n",
       "\" style=\"display:inline;vertical-align:middle;\" /></a><br>"
      ],
      "text/plain": [
       "<IPython.core.display.HTML object>"
      ]
     },
     "metadata": {},
     "output_type": "display_data"
    }
   ],
   "source": [
    "interval_oo_nonmembership_is_bool = Forall((a, b),\n",
    "       Forall(x,\n",
    "              in_bool(NotInSet(x, IntervalOO(a, b)))),\n",
    "       domain = Real)"
   ]
  },
  {
   "cell_type": "code",
   "execution_count": 108,
   "metadata": {},
   "outputs": [
    {
     "data": {
      "text/html": [
       "<strong id=\"interval_co_nonmembership_is_bool\"><a class=\"ProveItLink\" href=\"proofs/interval_co_nonmembership_is_bool/thm_proof.ipynb\">interval_co_nonmembership_is_bool</a> (conjecture without proof):<br></strong> <a class=\"ProveItLink\" href=\"../__pv_it/theorems/e6447834d555b8440968d848af4cd186328d45db0/theorem_expr.ipynb\"><img src=\"data:image/png;base64,iVBORw0KGgoAAAANSUhEUgAAAQQAAAAWCAMAAAARvxIcAAAAP1BMVEX///9jY2MJCQkdHR0NDQ0W\n",
       "FhaIiIgiIiIQEBB2dnbu7u5ERETMzMzc3NwyMjK6urpmZmaYmJiqqqpUVFQAAABqwkwZAAAAAXRS\n",
       "TlMAQObYZgAAAAlwSFlzAAAOxAAADsQBlSsOGwAAA/JJREFUWMPVWOuWniAMtLdAQO6+/7MWEJAo\n",
       "fLpr/5T2bPa0YQJDMgSX5R8MYGx95qlO9rPXI+hnkNN5z9d+M9A8ZctTOxlafAHaALUfjopLvWnO\n",
       "giH+MURoTt69IeEJjkdqJ2MND/gVkrOyOUftfMi0c6XFzkL1jyFsi6LVGxIe4AhN7WxY8yjJtD0l\n",
       "TpdAUxLixlHFXzr/GKLRruSrcniAYx21s8GeVdpWa8pZam9IcL6kbfFPISp/6N9pwj0OP9lh4Ur2\n",
       "5zfTD0gwWzt4Lqg9sOLQAxJ0759CuHIu+qUw3uJ4Te1oYxrEEtZHmYBHwmhH7YE1yoSgHPb+OQRP\n",
       "fDGOb2+HOxyL1AqAIFbsMkelbKKKUUhQAUFR+dchzt/nYilF7BRVDRQiCaMAFuoSd/8cwmbmpXhL\n",
       "wh3O+bxiRUKAxXYnmiTVwRXa8Pg/cuuhxRZ3KbYswq7w5jr+RvIcSWCab8yK3j+HUKH+OF9V+qRx\n",
       "nqG2QcOYhClO1TtPrIurdHFf4chhfdX4DC148rGMrCVTwvNafFEZ36mNngojOFNi7P776tPhDWuv\n",
       "5c0KQcroAQumKwbHzdIUp8iQITbljSVLXVNB/foZf0gKbbdMHgm7T93yv61bAdgoVh7yTEIy2Pnv\n",
       "S/YwkTNeJMra8gvEP4sTMCZhijMkYWkHefQ/18tlVy2Z85/wmykx+zVpSgYYTrHGmZC6BNn5l9Xr\n",
       "VogCHWCtpnVL0tW3YpkEEHbSNh84AFbFv5/KIe8heghBGgR2hRZbQnXbtUuwu0x4Vst13GxcSdCd\n",
       "f1k9+lIkgqm4ddWabbGA7UlN5aDkpT+tJDQcUEuQi6aHKqG3IpZXSCfRJTnAYuyIhAQU9OITZ5WE\n",
       "tWpF5Kes0EmCNSfBQ+dfLyAeat6nampzXBZQ4zoSrEQ5fUA1HJe3enqd0YvMb6uwMZTpmdI+rAPo\n",
       "RJtnNt0n8VIoepVi2PHlW7BGJCRNAyTz6upr6FSuEHpJsCHyIPPwezmg8dNXZLeF7XJFray3wsaz\n",
       "8tYRMBF+GnGFFgFwVQESOmMlaQO29psZaouDpFiguZTHK7L5n7Q8X7vS1SpNRcj9suLSa4IxKO6f\n",
       "0imfzjTUh/uHB7z7gZK0uldof2lEFKO2Sc4JazLvHIInSTAudiFp45HzXDVH/7NfkVNhbOh8QZ27\n",
       "IbrD+4eOvucXv/0wm8w7hzAxPQFdOsiYpqvd1UXJtbXjGmMiW32zUgsG4dK6L1JRez0befu95nI/\n",
       "t0lffQZX/w+tTV+rApMmmNdfluo9I2bLRX8LfRX9W2pnD2t1+1D9ylMCn36nq28gNfkUFr4BDYra\n",
       "xx9GVf3oNiXh25/a/sfxF9O/M0s6hD34AAAAAElFTkSuQmCC\n",
       "\" style=\"display:inline;vertical-align:middle;\" /></a><br>"
      ],
      "text/plain": [
       "<IPython.core.display.HTML object>"
      ]
     },
     "metadata": {},
     "output_type": "display_data"
    }
   ],
   "source": [
    "interval_co_nonmembership_is_bool = Forall((a, b),\n",
    "       Forall(x,\n",
    "              in_bool(NotInSet(x, IntervalCO(a, b)))),\n",
    "       domain = Real)"
   ]
  },
  {
   "cell_type": "code",
   "execution_count": 109,
   "metadata": {},
   "outputs": [
    {
     "data": {
      "text/html": [
       "<strong id=\"interval_oc_nonmembership_is_bool\"><a class=\"ProveItLink\" href=\"proofs/interval_oc_nonmembership_is_bool/thm_proof.ipynb\">interval_oc_nonmembership_is_bool</a> (conjecture without proof):<br></strong> <a class=\"ProveItLink\" href=\"../__pv_it/theorems/5840ef80c7603883967c757e12f1a618bb6519550/theorem_expr.ipynb\"><img src=\"data:image/png;base64,iVBORw0KGgoAAAANSUhEUgAAAQQAAAAWCAMAAAARvxIcAAAAP1BMVEX///9jY2MJCQkdHR0NDQ0W\n",
       "FhaIiIgiIiIQEBB2dnbu7u5ERETMzMzc3NwyMjK6urpmZmaYmJiqqqpUVFQAAABqwkwZAAAAAXRS\n",
       "TlMAQObYZgAAAAlwSFlzAAAOxAAADsQBlSsOGwAAA/lJREFUWMPlWNu23CAItTdUjPf8/7dWjTqa\n",
       "4CSzpm+1XYezWiC4hQ3K2D9YwPn2TFOf5HutR8rt8/rDoPWnsd8saZ+iFWa5WAYpo5sALNxiJZTZ\n",
       "jeCxhNv1k3HsSsF/A8ITP0HOcrG2SBldFyrBh1OA2/hV3rk2eKDQ9JOx66do9DcgPPCDZpar5Sxh\n",
       "RKeMG1NxTiAahLRxqdMvg34y7rBr9VU5PPDj/CxXi1NG5NrDCIJ3j0DwoaZt1c/GDT8ZvuOEez/i\n",
       "JMnCVfzPb26uRtSyO06kJPDsKy1DgFD/7dDPxr5Cbb4kxls/wcyS2pUBZHEjjOjv8pmZjT/7ojIh\n",
       "al9p5tAvxiLjxYX8tjvc+XFylggQcZND5uicTTMJNGWmowR9agAmJhfhBYIcGFUTDJGJEYHH5vPQ\n",
       "L8auIK/wWxDu/LRzajJVJERg7kUBhVI9UEZWpP9T++Qc97RR3HUHwQ/4UfScQOBG7NxVN4d+Mdax\n",
       "/Ti3KnPiuMClcdEADcLST+O7MEmfovRpV/GVw+bK8VUZRdZyfA6nYCKggxAGAjFLYgRv6zcO/cM4\n",
       "Hx457/S82SAqlTSAydxiJD0sLf1UGrKTzHnjplC3XFC/fqYf6mzk9oLI/OHDepf9q9s++ypLnUHI\n",
       "Qg76h3GABZ2JSlHO1V8g/WEegQZh6YcEgdVTHIefa3OpykKV9J8RLpjY3CZrAFbMvuhMyFOCGvQb\n",
       "q/ZCROlBtmra9kxd4yhWQAB0i7H55QfA6fT3XTmUDSQNxGlA4FQN4Z79+p2YEtz+yr/AF8PGBQQz\n",
       "6DdWDbVIkOu0dd2HbWTgRlBzOWh1mU8bCN0PaBYVM/OhKhglpvKK+SSGFAdg9gRwVS77jYaFjFoH\n",
       "YWtk0YhRTb7WIAQY9KuxFrHlfa6mbuMLgVo/gOCUVMsLVPfjS/Sn21lrYIcM+4YufcqOSJkQaaOM\n",
       "ReAud5TUExpl5c+4IQAnJ18UCJlAQLqx/7bo26dzBUIcKcHFhIMqKxzlIG1Y3iKHLeyXFrXxUaJL\n",
       "ZxWcn5xh/GmRMsIIctMRsn/OsWnLOlTXAPh06Yhq9gVGKPW6RXb9E5eXnqt8q9JcgiKwTbKRE6yV\n",
       "eH+Vzvl0hqFd3N9c4P0PqeZRl1AOuOjRJx6wZ1/nFwVORi8yJVifRpC88YR4qZrX/HO0yCUxdu+C\n",
       "SVOmoXmHbpa3LwkLZbma1j58C5jT6IVdSk+QPh9kStPNHeyi1dbHcSNTIjtzkwkOrITL6M6UnuX1\n",
       "bIjGdlFGoEH49Brc9N+MNmOtosycYL9+WWp9BlfhUjfQizIsAlAfvoc0/XX09pOrhHz6TtduQHrx\n",
       "FBbfGb17N7OlLX/2MKoH4wVDsf9o/QWtLDMu16WXzwAAAABJRU5ErkJggg==\n",
       "\" style=\"display:inline;vertical-align:middle;\" /></a><br>"
      ],
      "text/plain": [
       "<IPython.core.display.HTML object>"
      ]
     },
     "metadata": {},
     "output_type": "display_data"
    }
   ],
   "source": [
    "interval_oc_nonmembership_is_bool = Forall((a, b),\n",
    "       Forall(x,\n",
    "              in_bool(NotInSet(x, IntervalOC(a, b)))),\n",
    "       domain = Real)"
   ]
  },
  {
   "cell_type": "code",
   "execution_count": 110,
   "metadata": {},
   "outputs": [
    {
     "data": {
      "text/html": [
       "<strong id=\"interval_cc_nonmembership_is_bool\"><a class=\"ProveItLink\" href=\"proofs/interval_cc_nonmembership_is_bool/thm_proof.ipynb\">interval_cc_nonmembership_is_bool</a> (conjecture without proof):<br></strong> <a class=\"ProveItLink\" href=\"../__pv_it/theorems/50b1d5e90d7a56855ccc83fa8c272b3baf3ffca00/theorem_expr.ipynb\"><img src=\"data:image/png;base64,iVBORw0KGgoAAAANSUhEUgAAAQEAAAAWCAMAAAD3ltlYAAAAP1BMVEX///9jY2MJCQkdHR0NDQ0W\n",
       "FhaIiIgiIiIQEBB2dnbu7u5ERETMzMzc3NwyMjK6urpmZmaYmJiqqqpUVFQAAABqwkwZAAAAAXRS\n",
       "TlMAQObYZgAAAAlwSFlzAAAOxAAADsQBlSsOGwAAA+ZJREFUWMPlWO225RAMNV8hFEHf/1kHrRbl\n",
       "tF1n/o2ZdXPXujsbWxJRxv7BAM6XZ0jd2c+oJ9z73/XLJeuXC78ZaJ9K5Vs7GUa+4c4IC7enJJRZ\n",
       "jeAhExZ8dA4HxrtvFHjC47G1k7GEB+pKJXiNgNvVq7RtbWSo8dGZjhmM/kaBBzzStHY2yD6KL0MN\n",
       "og6cmQJx16jjLyc+Oh+Ca/VVFjzgIdfa2eDPMmz1DcLRIwWc38N1wyfnoh367+rAPY/o7DBdFf/z\n",
       "m5sHCthVtgghe6Y4zEABU+GTs9tPxHxZCW95vGntaFcGJAvLoxhA3iGM65lGMRC0wwqfnUXSigv8\n",
       "9i644yFsrQQIcsEqZnSKo65KbNw6IOi23JsQ/X2lAFYFVA+qQqqEEngoC8z47ExZcyW/VeCOp5xR\n",
       "sTEPIQCjM+1zDXUwuOtE/Itaa2q5xk3KVZ8KuEq6UTWOCnAjVk6ywmdnHcqP/lYyXVHzHA0FA2MF\n",
       "pjylwPnGurhIFzcVzuA1g5qeuKVIGGoqpM96CDgV8FV9MdNKCM7uM2T85pyObZhuR8AsEJSKCGCY\n",
       "7hMcd0RTnr3y2MamiKFmpUvKo18/4w/V3bRrVq6ZdnNd8ZxyWVumPFSvQDJ44jdnD5P6JfaaRLT/\n",
       "AvEfcxLGCkx5hgqw/QjrJmdwlSRuoXLYN+JmPWy6EYsCVrRM4xhI3YA68aWZOJJPogMsObSsqVbV\n",
       "7VZWACRNuuKTB4B0/P8pC/IGIkLKphHgV265Jla3XrsBWquw83zSUlwUMCd+d0a/p4bkOu5bH620\n",
       "ZEC1oCkLtLo0oEc1LjygWVDMtMepoLYyZlXIp1Bd4cAsjRRIRMEwnwQrCiylPhyVUDVMcwU8nPjd\n",
       "WYtQwj3l0OHicsG0rlKAFKrpy+jgcXmf3bOr3Fab9esiKU5la5mMD8uAO2nmOaXbI14Be41Kc1A9\n",
       "O2HDNFIgVQ1AqvDFucybUhRCXQYoRBFUHn7LArR++jas1r9e7qOF11ZSPCdPriGT4aeVV24ZABcd\n",
       "ILFzvodrQHLN7Nw2TKplAiOUOt+GBd9V7ny9KlcyMyWe8GxBVtcBa1Hev45TJPUalLf4hze5+4Gq\n",
       "7WUv3H4yu+5y3/ZM/RcCPqIXqQxYF1uNtOuods6Vs8nZbsNpJTzIBUOTW552e8Tu3jDXVu6iAE4Q\n",
       "9PJxv+F7ehujEtClI4zRudBWULRajmbbYIxfMjerJLAIl8acKd3a67mo268vctaPvXza7vgP/Uud\n",
       "nxJTHbBffyMqt4qcrXbwruy5YYJQL79u7Pj50u2bZwI+/dxWHjd68k0rvOcGnjsseCnAht+dxyWJ\n",
       "/S/jL0GZM0wIXC2mAAAAAElFTkSuQmCC\n",
       "\" style=\"display:inline;vertical-align:middle;\" /></a><br>"
      ],
      "text/plain": [
       "<IPython.core.display.HTML object>"
      ]
     },
     "metadata": {},
     "output_type": "display_data"
    }
   ],
   "source": [
    "interval_cc_nonmembership_is_bool = Forall((a, b),\n",
    "       Forall(x,\n",
    "              in_bool(NotInSet(x, IntervalCC(a, b)))),\n",
    "       domain = Real)"
   ]
  },
  {
   "cell_type": "code",
   "execution_count": null,
   "metadata": {},
   "outputs": [],
   "source": []
  },
  {
   "cell_type": "code",
   "execution_count": 111,
   "metadata": {},
   "outputs": [
    {
     "data": {
      "text/html": [
       "<strong id=\"pi_between_3_and_4\"><a class=\"ProveItLink\" href=\"proofs/pi_between_3_and_4/thm_proof.ipynb\">pi_between_3_and_4</a> (conjecture without proof):<br></strong> <a class=\"ProveItLink\" href=\"../__pv_it/theorems/6768be00a71557f63229ade107769e23422f09e80/theorem_expr.ipynb\"><img src=\"data:image/png;base64,iVBORw0KGgoAAAANSUhEUgAAAFkAAAAQBAMAAACPcs44AAAAMFBMVEX///8AAAAAAAAAAAAAAAAA\n",
       "AAAAAAAAAAAAAAAAAAAAAAAAAAAAAAAAAAAAAAAAAAAv3aB7AAAAD3RSTlMAIomZu0QQVHbN72bd\n",
       "Mqv0UZE7AAAACXBIWXMAAA7EAAAOxAGVKw4bAAABAUlEQVQoz2NgEFJ2ZSAK8BowMLAZMNQXEKWa\n",
       "5wEDA8d3hvwJRKnuAapmXcrAj1DNPhFTFVSMd+cDMF2/ASbBfTgBQzFMjIkTrJr1NEyC4xBEQuv/\n",
       "//+f0cQYGsGqefveQiWSTkBoJtWi270XUMUYGDdwQl0CCRNhmB3XGRo5oIrhYgxMDFDVXN9AJN90\n",
       "hFsd+CDWI4ltBKvmvcDA8h1NhvcBDwOaasYGsGr+b1DVSLYyb+BnQHMJ67t379cpMHA9gLoEyUf5\n",
       "CfwBaD4HORhoNvcGRHhnnIA4t4eBX4EBTQzoCgcgEWyMSFXckMB1Z+BTQBdjYPb/14AecVhiHpsY\n",
       "UQAAqmBKvCLlKIkAAAAASUVORK5CYII=\n",
       "\" style=\"display:inline;vertical-align:middle;\" /></a><br>"
      ],
      "text/plain": [
       "<IPython.core.display.HTML object>"
      ]
     },
     "metadata": {},
     "output_type": "display_data"
    }
   ],
   "source": [
    "pi_between_3_and_4 = number_ordering(Less(num(3), pi), Less(pi, num(4)))"
   ]
  },
  {
   "cell_type": "code",
   "execution_count": null,
   "metadata": {},
   "outputs": [
    {
     "name": "stdout",
     "output_type": "stream",
     "text": [
      "Adding theorem pi_between_3_and_4 to proveit.numbers.number_sets.real_numbers theory\n"
     ]
    }
   ],
   "source": [
    "%end theorems"
   ]
  },
  {
   "cell_type": "code",
   "execution_count": null,
   "metadata": {},
   "outputs": [],
   "source": []
  }
 ],
 "metadata": {
  "kernelspec": {
   "display_name": "Python 3",
   "language": "python",
   "name": "python3"
  },
  "language_info": {
   "codemirror_mode": {
    "name": "ipython",
    "version": 3
   },
   "file_extension": ".py",
   "mimetype": "text/x-python",
   "name": "python",
   "nbconvert_exporter": "python",
   "pygments_lexer": "ipython3",
   "version": "3.7.3"
  }
 },
 "nbformat": 4,
 "nbformat_minor": 1
}
