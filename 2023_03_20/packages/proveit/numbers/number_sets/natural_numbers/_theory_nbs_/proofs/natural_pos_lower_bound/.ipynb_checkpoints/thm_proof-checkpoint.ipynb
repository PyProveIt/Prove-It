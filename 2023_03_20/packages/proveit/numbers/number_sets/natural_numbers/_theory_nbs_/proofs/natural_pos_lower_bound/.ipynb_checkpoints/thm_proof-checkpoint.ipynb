{
 "cells": [
  {
   "cell_type": "markdown",
   "metadata": {},
   "source": [
    "Proof of <a class=\"ProveItLink\" href=\"../../../../../../_theory_nbs_/theory.ipynb\">proveit</a>.<a class=\"ProveItLink\" href=\"../../../../../_theory_nbs_/theory.ipynb\">numbers</a>.<a class=\"ProveItLink\" href=\"../../../../_theory_nbs_/theory.ipynb\">number_sets</a>.<a class=\"ProveItLink\" href=\"../../theory.ipynb\">natural_numbers</a>.<a class=\"ProveItLink\" href=\"../../theorems.ipynb#natural_pos_lower_bound\">natural_pos_lower_bound</a> theorem\n",
    "========"
   ]
  },
  {
   "cell_type": "code",
   "execution_count": 1,
   "metadata": {},
   "outputs": [],
   "source": [
    "import proveit\n",
    "theory = proveit.Theory() # the theorem's theory"
   ]
  },
  {
   "cell_type": "code",
   "execution_count": 2,
   "metadata": {},
   "outputs": [
    {
     "data": {
      "text/html": [
       "Under these <a href=\"presumptions.txt\">presumptions</a>, we begin our proof of<br><strong id=\"natural_pos_lower_bound\">natural_pos_lower_bound:</strong> <a class=\"ProveItLink\" href=\"../../../__pv_it/theorems/7a5429516a99664f3ae7e764e76fd137d10c9cd50/expr.ipynb\"><img src=\"data:image/png;base64,iVBORw0KGgoAAAANSUhEUgAAAIMAAAAVBAMAAACXjEALAAAAMFBMVEX///+IiIgiIiIQEBB2dnbu\n",
       "7u5ERETMzMzc3NwyMjK6urpmZmaYmJiqqqpUVFQAAAB6qHgnAAAAAXRSTlMAQObYZgAAAAlwSFlz\n",
       "AAAOxAAADsQBlSsOGwAAAfdJREFUOMtjYCACcOCWamAgDsjilloIxA9AjDt4TeB1wC7OrsrAwHiA\n",
       "gWEXiDMDrxGRyOwDcGbczq9AcioDQx3Irwl4jdiDxGZ1EoCzGUFGnGZg4AxgYGC5gNcIAxSekCuK\n",
       "EcwBDDxAl3HiD4oJqPxDrshGcAL1GykpmeA1ghsYmguftojBfXBzB5IRLMD42M7AkIpFIyIWQPY4\n",
       "5Amw/oCLrHyKMIIH6MY+Bo4HWIzYAGcxXWDgWqDGwPEdYUQqwgheYEixBbAsQE6J2l4Mhx8gG8G8\n",
       "gIGV9RcD71e4R14geYT9A9AYAURoFj7LYrjHEsAdgGYEA+8HBj5YqB7aihycXKD4mnAQHnDbQSlV\n",
       "YAMLg/du7d0LEB4B6ec/EIAtUnkVgIQvMIHx7CmUZmCQAUlcv9XIghIWbMCoYHZguB/ggC1p8YCS\n",
       "ZTPQ5zGLDzA3sIIT6XWW2CUoRoCirb+AQZKnADWBM7D8gEY5Ax9QqlWSgT+ACyx9nWGDGIoR7ECn\n",
       "LgJmibNoccb3+OcboDfhcfGQYTEDz7S0tFygESGcKOmCQR1fwmuCs8wZdrOzO0BcwXURVdVpovIg\n",
       "xwcG9euQVHqKgUEOVRUbUtEUpAQCCHchMjnXAwaRAwxtwFBh12xg4EM1ghVPWcCGVvKxuqVlYVPX\n",
       "iNsICQYGADkZeho9j2N3AAAAAElFTkSuQmCC\n",
       "\" style=\"display:inline;vertical-align:middle;\" /></a><br>(see <a class=\"ProveItLink\" href=\"../../../__pv_it/theorems/b13fc1da812bdd5ee6d22095f3f7f51c70a1ff010/dependencies.ipynb\">dependencies</a>)<br>"
      ],
      "text/plain": [
       "<IPython.core.display.HTML object>"
      ]
     },
     "metadata": {},
     "output_type": "display_data"
    }
   ],
   "source": [
    "%proving natural_pos_lower_bound"
   ]
  },
  {
   "cell_type": "code",
   "execution_count": null,
   "metadata": {},
   "outputs": [],
   "source": []
  }
 ],
 "metadata": {
  "kernelspec": {
   "display_name": "Python 3",
   "language": "python",
   "name": "python3"
  },
  "language_info": {
   "codemirror_mode": {
    "name": "ipython",
    "version": 3
   },
   "file_extension": ".py",
   "mimetype": "text/x-python",
   "name": "python",
   "nbconvert_exporter": "python",
   "pygments_lexer": "ipython3",
   "version": "3.7.3"
  }
 },
 "nbformat": 4,
 "nbformat_minor": 1
}
