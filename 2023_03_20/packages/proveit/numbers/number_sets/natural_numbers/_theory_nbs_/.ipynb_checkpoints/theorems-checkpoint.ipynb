{
 "cells": [
  {
   "cell_type": "markdown",
   "metadata": {},
   "source": [
    "Theorems (or conjectures) for the theory of <a class=\"ProveItLink\" href=\"theory.ipynb\">proveit.numbers.number_sets.natural_numbers</a>\n",
    "========"
   ]
  },
  {
   "cell_type": "code",
   "execution_count": 1,
   "metadata": {},
   "outputs": [],
   "source": [
    "import proveit\n",
    "# Prepare this notebook for defining the theorems of a theory:\n",
    "%theorems_notebook # Keep this at the top following 'import proveit'.\n",
    "from proveit import Operation\n",
    "from proveit import a, b, m, n, x, P\n",
    "from proveit.logic import And, Equals, NotEquals, Forall, Implies, in_bool, InSet, ProperSubset, Set\n",
    "from proveit.numbers import zero, one, num, frac\n",
    "from proveit.numbers import ZeroSet, Natural, NaturalPos, Integer, Interval, Rational, Real, RealPos, Complex\n",
    "from proveit.numbers import Add, subtract, greater, greater_eq, Less, LessEq\n",
    "from proveit.numbers import Pzero, Pone, Pm, P_mAddOne, Pn"
   ]
  },
  {
   "cell_type": "code",
   "execution_count": 2,
   "metadata": {},
   "outputs": [
    {
     "name": "stdout",
     "output_type": "stream",
     "text": [
      "Defining theorems for theory 'proveit.numbers.number_sets.natural_numbers'\n",
      "Subsequent end-of-cell assignments will define theorems\n",
      "'%end theorems' will finalize the definitions\n"
     ]
    }
   ],
   "source": [
    "%begin theorems"
   ]
  },
  {
   "cell_type": "code",
   "execution_count": 3,
   "metadata": {},
   "outputs": [
    {
     "data": {
      "text/html": [
       "<strong id=\"zero_set_within_nat\"><a class=\"ProveItLink\" href=\"proofs/zero_set_within_nat/thm_proof.ipynb\">zero_set_within_nat</a> (conjecture without proof):<br></strong> <a class=\"ProveItLink\" href=\"../__pv_it/theorems/480be9da65a617f0c0fbf86dcacb73a6530018b40/theorem_expr.ipynb\"><img src=\"data:image/png;base64,iVBORw0KGgoAAAANSUhEUgAAAEkAAAAVBAMAAAD4Ed5jAAAAMFBMVEX///8AAAAAAAAAAAAAAAAA\n",
       "AAAAAAAAAAAAAAAAAAAAAAAAAAAAAAAAAAAAAAAAAAAv3aB7AAAAD3RSTlMAEER2zVSJ3Zki72ar\n",
       "MruaaVGaAAAACXBIWXMAAA7EAAAOxAGVKw4bAAABWUlEQVQoz2NgYGBUYgCDqRMY8AATRQjNe04A\n",
       "XUr83xMBhqxfCgwMrB+B3DQLoEF8BzBMeMp0gIHxA5DBVsDAwBLAWAlhoYHjE7IZGBZAVW1nYMjD\n",
       "quroA5YJDAVQVW8YGOIFEKqYn5eXl18AsU5u5nSAq/rBwHA/AK6K1w3u25M8F8xgqhhBqjbAVYkj\n",
       "guQkwwM+BZAwhwMD5zegKgMG5gUQqUMMSKpuMBaCVM3aAFGVwMD5FSLlgKyKOyAOqHmOEzD0gar0\n",
       "DRgYZFzBzjqArIrhIA9QFW+fANj18QEMDCkKIBlOVFUyjCAbQSH+joFhvwAkFoCgAEUVr8EDaEjs\n",
       "YmBoAbKgru9GqHoLxLYwVewBjGsRYc+iAFflCgkEiBxjm80FhCrGN9BUwnDlF9AcRpgqCICzmPJg\n",
       "McSAIYcttuEAFuJQB+AAsBBnYJDagCdFzzgKoacdxakEAMMSXjPbO/7vAAAAAElFTkSuQmCC\n",
       "\" style=\"display:inline;vertical-align:middle;\" /></a><br>"
      ],
      "text/plain": [
       "<IPython.core.display.HTML object>"
      ]
     },
     "metadata": {},
     "output_type": "display_data"
    }
   ],
   "source": [
    "zero_set_within_nat = ProperSubset(ZeroSet, Natural)"
   ]
  },
  {
   "cell_type": "code",
   "execution_count": 4,
   "metadata": {},
   "outputs": [
    {
     "data": {
      "text/html": [
       "<strong id=\"interval_is_nat\"><a class=\"ProveItLink\" href=\"proofs/interval_is_nat/thm_proof.ipynb\">interval_is_nat</a> (conjecture without proof):<br></strong> <a class=\"ProveItLink\" href=\"../__pv_it/theorems/e88a8e07378f6e656ab6d9f953b5740dbc3099b00/theorem_expr.ipynb\"><img src=\"data:image/png;base64,iVBORw0KGgoAAAANSUhEUgAAAPoAAAAZBAMAAADqEi4iAAAAMFBMVEX///+IiIgiIiIQEBB2dnbu\n",
       "7u5ERETMzMzc3NwyMjK6urpmZmaYmJiqqqpUVFQAAAB6qHgnAAAAAXRSTlMAQObYZgAAAAlwSFlz\n",
       "AAAOxAAADsQBlSsOGwAAA4hJREFUSMe1lk1oE0EUx18+NpuP3TSRgkollED9OAhFChVRiUiLYJVF\n",
       "QvEgdhVcP7Cwbb2U0napKHjRKFg9KKwWQaRChUrBFkkOKkUPEUSpCE2LLREUIsWPgwdnZje7k+42\n",
       "uz3kQZKdyX/2NzPvzZsH4GyLSQVqYJ7kTjeyDNTI3tWSrjj9V0u6J2/Teez3eQEOrqgPNHoB/3xx\n",
       "oLsQWe2DbW93uABMCTxZQn+Bu+460F2ILMbYb9mi0gHQDHCb0IfQd1B0oLsQWSySte3+IYYUaAR4\n",
       "S+ghAcCfd6C7EFnMVxkEp5M7yEMxF8xguk/AdA5NMeQUdS5EFpujG+Gbgv5UjMr1mB7KkpjflUy2\n",
       "OMa8s8hik4iZOH7gFGlcK8OhCGJARXR/gdCnAM440i0irsNWyh42MPcQIbAAXUplxBZhgGlCdC5D\n",
       "6NchWDAGj+oPI5Mqt5+i0yJifTboflFbkmYojT7xinBDrkwZReDyH1HM882EHhD8qvHfVzyFhKTy\n",
       "hTZ4TtFpUc/yhVVe1S2aQi81OHsAhC4V5vFmsMhzya06HZaiiMyWCJ2PUfHUij7TaLZ8LgIpik6J\n",
       "IlOWmCpHubyKDvMA38jZF6m1w0kG7XxYWztkcugrnTuE5/gzIZAsxA8+jtF0IuJmehoAthgRrY0x\n",
       "bTi+RNHxBYbQ/xjcaKTpbAxNhm/U6EdQ2mG2s3/xqWzyTHRiDS+3fa6gY9GJsaxP0Zcxa4wxbYPQ\n",
       "AGGDg4O9BfhfftyIG6Kz6LMRvYMTNfplFCiRCRbtBASyXGZco0c8Ik3HoiuboU4IkxTG3jHGmHYR\n",
       "z8k42EdRevwDnswb3AgZqeo+dh56YySl0aPIXT7VUyCeixRmJUnK8zKTytB0LIIFGANuVJK6YWjJ\n",
       "GEMHzUvkkpje6gW8Ecx3wmWWH+nnYkXUrgCvat6wXUrgFZp0Hfjyl7S1w9OY5YZthWmW1RySMMaY\n",
       "VoJ9EDS2wytXJLt2PdOWbYS6333K8LiQBq/wGh0unExUMBdWpgdLsO2TnnXm9DF4XSlIk74m5Esz\n",
       "6riJqilshqKHZ953QF+efRaDII6LXpScLHR0M9dn4aqs08kYHAO7oY8ktIE4feLgXDU4uTEraxst\n",
       "NNKSpFapbZh2aY1sQ1xmijur0QPKanpYcF9ZPXSmB2NV6JssdR23jroutMar+9dTBbiqKm/Z1fOD\n",
       "9u6U11PP7/0P16n2hPQSA/QAAAAASUVORK5CYII=\n",
       "\" style=\"display:inline;vertical-align:middle;\" /></a><br>"
      ],
      "text/plain": [
       "<IPython.core.display.HTML object>"
      ]
     },
     "metadata": {},
     "output_type": "display_data"
    }
   ],
   "source": [
    "interval_is_nat = Forall((a, b), Forall(n, InSet(n, Natural), \n",
    "                                       domain=Interval(a, b)), domain=Natural)"
   ]
  },
  {
   "cell_type": "code",
   "execution_count": 5,
   "metadata": {},
   "outputs": [
    {
     "data": {
      "text/html": [
       "<strong id=\"natural_lower_bound\"><a class=\"ProveItLink\" href=\"proofs/natural_lower_bound/thm_proof.ipynb\">natural_lower_bound</a> (conjecture without proof):<br></strong> <a class=\"ProveItLink\" href=\"../__pv_it/theorems/0ad659e41fdd6ea1c0043c16b32ec4608e01a6bf0/theorem_expr.ipynb\"><img src=\"data:image/png;base64,iVBORw0KGgoAAAANSUhEUgAAAHcAAAAVBAMAAACOK2zoAAAAMFBMVEX///+IiIgiIiIQEBB2dnbu\n",
       "7u5ERETMzMzc3NwyMjK6urpmZmaYmJiqqqpUVFQAAAB6qHgnAAAAAXRSTlMAQObYZgAAAAlwSFlz\n",
       "AAAOxAAADsQBlSsOGwAAAgRJREFUOMuFVD1LHEEYfrzbub2P3XMJIhETCVdExUZCwHaRaBEQBrER\n",
       "TLDxCkHRPxDPr5TRJiHlGdNYaRFRE4v17BRxUx0JIV4KQ8orIoo2vnO3M96Kcw4svF/PzjPP+84A\n",
       "dVdcn8rhvvVYn1qhrySMX5oC2707/qI1hwYP+CqcjxrwcK3tKTPhsw7gPfBGnGxUA96tsVmvI80C\n",
       "0A8c0l84YPgacHfIe9AXGJPACUeUwyI2Cd2Rl8N+IUBfATM+EoR8lsk814BTpNfK6UKz4vtju3IA\n",
       "AfZgkNZbwJgGLP7tTjrsQkXWToVE/wnswCJe7xAv1Y5F10vsB4GIj2T+KeLnN+AxCXZhkyIxbuRl\n",
       "bvrvOH4bPMWrbjQPxi5hnyna/yq0CbzuwCyTKo7SK7UlBsbZMKDAsMtIS90Km0qwEyIlerG8B1i7\n",
       "063AI5Ep/pyVYKItkI0eD7cqCxxz2E/IHKBRGVn1ojlWmZWi8epzUBQjmaMu9dQND8k+sEMbivJ5\n",
       "kmexBY08WRnAIjaagyLRjKUptFhT4fGM+Kyn2kikReoPVmF9yGYnCDwkRTCJ2Cfg9dGtFrIvbYSJ\n",
       "KJ178M003erOye8y2l7vus6p7pbRXqwOywHQJsOH9cDq1iRLaPLwlsiYnTmkZThW81wMZsS64XL7\n",
       "KrL+7Hg4MKrfOHbvOzSrTz0ErgGmPnlZPZEpLwAAAABJRU5ErkJggg==\n",
       "\" style=\"display:inline;vertical-align:middle;\" /></a><br>"
      ],
      "text/plain": [
       "<IPython.core.display.HTML object>"
      ]
     },
     "metadata": {},
     "output_type": "display_data"
    }
   ],
   "source": [
    "natural_lower_bound = Forall(n, greater_eq(n, zero), domain=Natural)"
   ]
  },
  {
   "cell_type": "code",
   "execution_count": 6,
   "metadata": {},
   "outputs": [
    {
     "data": {
      "text/html": [
       "<strong id=\"natural_pos_lower_bound\"><a class=\"ProveItLink\" href=\"proofs/natural_pos_lower_bound/thm_proof.ipynb\">natural_pos_lower_bound</a> (conjecture without proof):<br></strong> <a class=\"ProveItLink\" href=\"../__pv_it/theorems/b13fc1da812bdd5ee6d22095f3f7f51c70a1ff010/theorem_expr.ipynb\"><img src=\"data:image/png;base64,iVBORw0KGgoAAAANSUhEUgAAAIMAAAAVBAMAAACXjEALAAAAMFBMVEX///+IiIgiIiIQEBB2dnbu\n",
       "7u5ERETMzMzc3NwyMjK6urpmZmaYmJiqqqpUVFQAAAB6qHgnAAAAAXRSTlMAQObYZgAAAAlwSFlz\n",
       "AAAOxAAADsQBlSsOGwAAAfdJREFUOMtjYCACcOCWamAgDsjilloIxA9AjDt4TeB1wC7OrsrAwHiA\n",
       "gWEXiDMDrxGRyOwDcGbczq9AcioDQx3Irwl4jdiDxGZ1EoCzGUFGnGZg4AxgYGC5gNcIAxSekCuK\n",
       "EcwBDDxAl3HiD4oJqPxDrshGcAL1GykpmeA1ghsYmguftojBfXBzB5IRLMD42M7AkIpFIyIWQPY4\n",
       "5Amw/oCLrHyKMIIH6MY+Bo4HWIzYAGcxXWDgWqDGwPEdYUQqwgheYEixBbAsQE6J2l4Mhx8gG8G8\n",
       "gIGV9RcD71e4R14geYT9A9AYAURoFj7LYrjHEsAdgGYEA+8HBj5YqB7aihycXKD4mnAQHnDbQSlV\n",
       "YAMLg/du7d0LEB4B6ec/EIAtUnkVgIQvMIHx7CmUZmCQAUlcv9XIghIWbMCoYHZguB/ggC1p8YCS\n",
       "ZTPQ5zGLDzA3sIIT6XWW2CUoRoCirb+AQZKnADWBM7D8gEY5Ax9QqlWSgT+ACyx9nWGDGIoR7ECn\n",
       "LgJmibNoccb3+OcboDfhcfGQYTEDz7S0tFygESGcKOmCQR1fwmuCs8wZdrOzO0BcwXURVdVpovIg\n",
       "xwcG9euQVHqKgUEOVRUbUtEUpAQCCHchMjnXAwaRAwxtwFBh12xg4EM1ghVPWcCGVvKxuqVlYVPX\n",
       "iNsICQYGADkZeho9j2N3AAAAAElFTkSuQmCC\n",
       "\" style=\"display:inline;vertical-align:middle;\" /></a><br>"
      ],
      "text/plain": [
       "<IPython.core.display.HTML object>"
      ]
     },
     "metadata": {},
     "output_type": "display_data"
    }
   ],
   "source": [
    "natural_pos_lower_bound = Forall(n, greater_eq(n, one), domain=NaturalPos)"
   ]
  },
  {
   "cell_type": "code",
   "execution_count": 7,
   "metadata": {},
   "outputs": [
    {
     "data": {
      "text/html": [
       "<strong id=\"natural_pos_is_pos\"><a class=\"ProveItLink\" href=\"proofs/natural_pos_is_pos/thm_proof.ipynb\">natural_pos_is_pos</a> (conjecture without proof):<br></strong> <a class=\"ProveItLink\" href=\"../__pv_it/theorems/471bcdd06c95b19ffa2209e46c0254cbe4edf0390/theorem_expr.ipynb\"><img src=\"data:image/png;base64,iVBORw0KGgoAAAANSUhEUgAAAIMAAAAVBAMAAACXjEALAAAAMFBMVEX///8AAAAAAAAAAAAAAAAA\n",
       "AAAAAAAAAAAAAAAAAAAAAAAAAAAAAAAAAAAAAAAAAAAv3aB7AAAAD3RSTlMAq1RmmUTNIjK7EInv\n",
       "3XZ/CtNrAAAACXBIWXMAAA7EAAAOxAGVKw4bAAACGElEQVQ4y41UTUsbURQ9mcnH5E2s2RVdSIoo\n",
       "WelQ7M60AWOVdpNVNvVrJ7qKS21r7R+IWnARV08FNyIMpV1oKXQZKIUupNWFMFFRRIQsWhTdeF8m\n",
       "mY8wGTIwzJ373j1z7znnDdDCFWm+lEdr10nzpQm64yLo9kWQdO/8t7M8HmnAsHiZ9oXY9k6HE+wv\n",
       "MAt8FLOu+EIMeadTwB4wQFgcUBO+ED+cHWlWuAr0c8Q4ZMqF/amYcryw70Y9/AcsJxCm+l/Hxz99\n",
       "IYLE5kTn28ta7fV+DUxAaFBJj1Fg3aPQVkF8R1812E2dg1emWe4JwoBMPc4hEveASFtRWwKh7BEi\n",
       "t/VE74gFoUMipqJczTqdePAVg3EnRCwLxv5DurMyuU4xCEFMGlAqxJZhs1noWMMTlQd5AwSkCgI2\n",
       "q7n1Gp391KDQa+q5RdyocKqRVvElc5DJ2oOI+naN1wd5XH0UgRcc0m8KP5PB5KHCGXAqVpI9i6qL\n",
       "iyhJEdPJAzWGUyPmcxB4SZXClu9o8q0xLZZnVZMm1c03Lggh24clnMtLLlGpO1YyJUeAlhbO0c5D\n",
       "Veclkb50QSjU6jiw8bTqhmvLWux1mSrbLC26MAZ5plj8RBA7YZcvcOgQbFdrEP+9FZWQURTd7CLU\n",
       "59410NIZjFRwmDRd+gwou3dFfX5N9iEPxXGlYZ5mU/7kEXBvYz7/gkZ4tldc89q32BziAngAyZt5\n",
       "l3CyLfoAAAAASUVORK5CYII=\n",
       "\" style=\"display:inline;vertical-align:middle;\" /></a><br>"
      ],
      "text/plain": [
       "<IPython.core.display.HTML object>"
      ]
     },
     "metadata": {},
     "output_type": "display_data"
    }
   ],
   "source": [
    "natural_pos_is_pos = Forall(n, greater(n, zero), domain=NaturalPos)"
   ]
  },
  {
   "cell_type": "code",
   "execution_count": 8,
   "metadata": {},
   "outputs": [
    {
     "data": {
      "text/html": [
       "<strong id=\"nonzero_if_is_nat_pos\"><a class=\"ProveItLink\" href=\"proofs/nonzero_if_is_nat_pos/thm_proof.ipynb\">nonzero_if_is_nat_pos</a> (conjecture with conjecture-based proof):<br></strong> <a class=\"ProveItLink\" href=\"../__pv_it/theorems/6b94bcd1d8eb42e3c3cdc7e765fb8dda184545770/theorem_expr.ipynb\"><img src=\"data:image/png;base64,iVBORw0KGgoAAAANSUhEUgAAAIMAAAAVCAMAAABSfK0KAAAAPFBMVEX///8NDQ0WFhYLCwsYGBiI\n",
       "iIgiIiIQEBB2dnbu7u5ERETMzMzc3NwyMjK6urpmZmaYmJiqqqpUVFQAAACZSrTsAAAAAXRSTlMA\n",
       "QObYZgAAAAlwSFlzAAAOxAAADsQBlSsOGwAAAhNJREFUSMe9Vomy2yAMpIc4DRL4//+1SICDX3yk\n",
       "z50yE3u4vKvVIqLUv2rLf9t02iDfLEB3MJiAn2XrZ3pAIdubBcHPPWsBRQNgUExjPD4QxsW7FT5M\n",
       "nVhFc1rwYpUnDCEW/0AGvNMwlKlDWrQQQMJORIbyAw7mVoZZZC+E8irIpj6phxCfuOFuc5plUCuK\n",
       "NKtEHRnfaG7GPkmF7S4vbrHg4W3BzmtucJDoLdNDcYt3n8EdUo3U53wBxtgQUeLTv3/xc3PeahsH\n",
       "4Uqs4VLG46OQjwa1qJqS0l4wwpUMLw7yymZIYNNpKdPIk2TKOQcju11VIL3MNrlhv8k18NR0CKsw\n",
       "gUNHBije12/moqzb6twFB0aXshcvZRiezM2TyfQjQe82QgyjfgIjV+4WEXX9peNcDPTqNTf74eeP\n",
       "5oot3b5VhiZX1r009CJBSAEAtyLaOIScFhhmPNRhnAQ5XJyKnXPjV7uThI5NLmq1cem5dpRMhTZV\n",
       "OveqmjnUXOR0xcGWbjaWDqqssykzHnrYmTCfa1Vad3HA3FijRDOHigz+gkNoeiZ5uUL5Uoa6BC10\n",
       "TKW/ZpaPt5iEopeWGwdnh2uPS5kO371RF/1mcI4ZVVDB7nRQKcPVlwhPp6L7u9tuWSUmRn3VTRKx\n",
       "oHx+J+3Y3cjgD68WsCSTYeS6He9rDu7s5tfue9zbVy37IX38z/AkV+H6HyBT+ANTOhYbmJOiUgAA\n",
       "AABJRU5ErkJggg==\n",
       "\" style=\"display:inline;vertical-align:middle;\" /></a><br>"
      ],
      "text/plain": [
       "<IPython.core.display.HTML object>"
      ]
     },
     "metadata": {},
     "output_type": "display_data"
    }
   ],
   "source": [
    "# proven\n",
    "nonzero_if_is_nat_pos = Forall(\n",
    "        n,\n",
    "        NotEquals(n, zero),\n",
    "        domain=NaturalPos)"
   ]
  },
  {
   "cell_type": "code",
   "execution_count": 9,
   "metadata": {},
   "outputs": [
    {
     "data": {
      "text/html": [
       "<strong id=\"nat_pos_within_nat\"><a class=\"ProveItLink\" href=\"proofs/nat_pos_within_nat/thm_proof.ipynb\">nat_pos_within_nat</a> (conjecture without proof):<br></strong> <a class=\"ProveItLink\" href=\"../__pv_it/theorems/d7c109b8820a75771e73c77bf57f099618f48fe10/theorem_expr.ipynb\"><img src=\"data:image/png;base64,iVBORw0KGgoAAAANSUhEUgAAAEcAAAATBAMAAAAwgQ3NAAAAMFBMVEX///9mZmbMzMyIiIiYmJjc\n",
       "3NxUVFSqqqq6uroQEBB2dnYyMjJEREQiIiLu7u4AAAAPqInnAAAAAXRSTlMAQObYZgAAAAlwSFlz\n",
       "AAAOxAAADsQBlSsOGwAAAN5JREFUKM9jYIADRgYiAA+Fit7+Of2AYeXPBmyKEHLHORIY+D5gNwku\n",
       "lxuwhIFhAoPMmZNnzjigKYLKMTCkH+AOYLiA3SS4XKoz6wY0RTZ37969xIAsl8qmYIWqSHspjAWX\n",
       "S2U4wNOArIjvKtxIuFwqgyLfvQtIIc7WgKQIKpfKwFJQMwHJtdwMSIqgcqkMDHlsyIrUkBVB5YCM\n",
       "Z3wXkBSFoSiCyAEZTAYHkBTxoiiCyB0CYiNkRYyIcIfLbQeJb0AO5x1wFkxO+ydQJR+KojcZD6Ch\n",
       "iimHAF1nodECBQBHu1Pct2WRcgAAAABJRU5ErkJggg==\n",
       "\" style=\"display:inline;vertical-align:middle;\" /></a><br>"
      ],
      "text/plain": [
       "<IPython.core.display.HTML object>"
      ]
     },
     "metadata": {},
     "output_type": "display_data"
    }
   ],
   "source": [
    "nat_pos_within_nat = ProperSubset(NaturalPos, Natural)"
   ]
  },
  {
   "cell_type": "code",
   "execution_count": 10,
   "metadata": {},
   "outputs": [
    {
     "data": {
      "text/html": [
       "<strong id=\"nat_membership_is_bool\"><a class=\"ProveItLink\" href=\"proofs/nat_membership_is_bool/thm_proof.ipynb\">nat_membership_is_bool</a> (conjecture without proof):<br></strong> <a class=\"ProveItLink\" href=\"../__pv_it/theorems/0f619eb4a01c6500c45f4bd8e1dedf3654da42ba0/theorem_expr.ipynb\"><img src=\"data:image/png;base64,iVBORw0KGgoAAAANSUhEUgAAAJoAAAAVBAMAAABMN+opAAAAMFBMVEX///+IiIgiIiIQEBB2dnbu\n",
       "7u5ERETMzMzc3NwyMjK6urpmZmaYmJiqqqpUVFQAAAB6qHgnAAAAAXRSTlMAQObYZgAAAAlwSFlz\n",
       "AAAOxAAADsQBlSsOGwAAAkVJREFUOMuVlEtoE0EYx/9pdzeP3SwbwYNaJOQgKliLaA69mIKIIJa0\n",
       "h4p4cKsoxYtRqEcdKAgFkZUS8FBofB0EHwEVH3ioIIKHQlERBMFIoYpHQfDozHyzdSbbFfLBf5n9\n",
       "zcx/Ht/MAMlgSimR64lnlkndYe8+04S1f7gQdFVsqC7MDbYgeEf8f9ErPyolwll+CJwABrorwpu5\n",
       "5k/JX4rfG/oUIlIy/O3WIvqBfL3b7T4OOZJfEisOtSp3kbSO2yc+bB/gtZNuS77kYiBL36V+JW0j\n",
       "T1Z2SLerwaxwwz6TS7e85B6fRl7v+1lpLQrX1cp89j1TE27zJhduP94Q31Op7NU7P1Ea23r0gJzz\n",
       "bNzJZw7OCrdRGJxnYWywRvwZcFp3m1dqZ765ZSNFPsu2x8d54R3M1IW35n49JX4NuY7utovkMe+3\n",
       "L5MR/XPDUvEUL3yAwcVKB+7VJXfqVkt3GyZl4VLzLN+Kyjbl5tdXeOGyyYWbU6hJXgyMJMRuPLF0\n",
       "5u1Qm5vdESu9bXLphpB49Jp/Ss+3MGOlwCNmy30ua244z08p3sPg5BYRP9LkR4et5tWhmyRNtFZg\n",
       "SVBau1kN3vAiL7w1uXQrBsRneBI8TGZV1Sjp6/RjPJAgHoYKL9QB0jjCOxg5rLjfEORPXHWBdLxU\n",
       "fEXN7dW7lI6FKv8e49ppcGyqnhNvSMxF06H4eeprkLTLcFDdoPghK/+fY8aKXFUUdzpxr41Y/03Q\n",
       "uLt5ZGMMp5RS40ovfEIpNaZ64bmAlBYZlsr/ArKKjmwnkR1cAAAAAElFTkSuQmCC\n",
       "\" style=\"display:inline;vertical-align:middle;\" /></a><br>"
      ],
      "text/plain": [
       "<IPython.core.display.HTML object>"
      ]
     },
     "metadata": {},
     "output_type": "display_data"
    }
   ],
   "source": [
    "# In progress\n",
    "# For Natural numbers\n",
    "nat_membership_is_bool = Forall(x, in_bool(InSet(x, Natural)))"
   ]
  },
  {
   "cell_type": "code",
   "execution_count": 11,
   "metadata": {},
   "outputs": [
    {
     "data": {
      "text/html": [
       "<strong id=\"nat_pos_membership_is_bool\"><a class=\"ProveItLink\" href=\"proofs/nat_pos_membership_is_bool/thm_proof.ipynb\">nat_pos_membership_is_bool</a> (conjecture without proof):<br></strong> <a class=\"ProveItLink\" href=\"../__pv_it/theorems/c265aa639487d5291dfe6a182631ced9d17214110/theorem_expr.ipynb\"><img src=\"data:image/png;base64,iVBORw0KGgoAAAANSUhEUgAAAK0AAAAZBAMAAACx2rMTAAAAMFBMVEX///+IiIgiIiIQEBB2dnbu\n",
       "7u5ERETMzMzc3NwyMjK6urpmZmaYmJiqqqpUVFQAAAB6qHgnAAAAAXRSTlMAQObYZgAAAAlwSFlz\n",
       "AAAOxAAADsQBlSsOGwAAArVJREFUSMedVk1oE1EQno2b3Ww2WbaKgj8UWRB6qtsiOfRiehOkEAMK\n",
       "IthVMYcg2FLxaBcKgiA2UAIeKrXSS0E0ilXrQSJ68BLNQbzUw4L4g3gSSkJPztvd997+ZE3rwH4v\n",
       "mQ++N29m3uwCxC13n0KyNfynl6kJ/g0GyWbhczOBy1g93ekahT66OT2BfNPTKzUpxHY8WqmDeHzM\n",
       "14UjEX53YWlhGPOXKgE4xPElyM4xiG/ZfgQwSeOFwdgpljP1XwACir4i/+8GyWcMYqYNiU3YBWql\n",
       "UqhcwR1KUd2HcELCc20C3IgleotBXPczhpBi8SrNuG5Lw3UROdxTbAc4eZMCt32G4dZRu63fCuiq\n",
       "VoQnugquz7GouKcS1BAOU2C2upfGa/8QilxXMCM86v58h+sefEYN41jorDUf0gPfrk24/VhnnC1B\n",
       "letmvVNx3lo+NVzE9TEm4QXA5VDNLR9UGNSfumm0ua7cKJfpfQO5A2HeerDwZw3X2SmAO5BxgrqK\n",
       "48N7+Fj67Xr4WWxo5S/xi+VVVwnW7dAqxjqPTSyVxNAoSDV8mIJ1zzNjoFm+rlb6yu/JVoRHXSmL\n",
       "iZhExbweKhuPF2DE85wJxpt2yjzeToQnuiT185gHqJHrPPDyoB3VzXbhtHuCoC5MS7wluxDmXV0s\n",
       "+SzRmsByCvZ3xW9izfIgXdVMKLrtxOaLhHEI15mM3w+cJ7p53esHmMPYcnBBpv1repDvnDOz3l73\n",
       "WI7I/3U+qP3+Zby1AuMncX3rBkiSAd1QEAjpJ/pGy3Odr3qDQF4qIJ7lA9wJ8/sLV915Bq95qswM\n",
       "/TnGgNnKRaPXPGbzIcovstko1tRtzLOIxeYZ7T82XdQD4/SOwwyDfvYhwZ9zeg7DNoV+NpTgT9n/\n",
       "/X6Dnb/f4BODf9sO38fb+n4gtpb0/YDl/AvFZq89ryqBtgAAAABJRU5ErkJggg==\n",
       "\" style=\"display:inline;vertical-align:middle;\" /></a><br>"
      ],
      "text/plain": [
       "<IPython.core.display.HTML object>"
      ]
     },
     "metadata": {},
     "output_type": "display_data"
    }
   ],
   "source": [
    "# For Positive Natural numbers (NaturalPos)\n",
    "nat_pos_membership_is_bool = Forall(x, in_bool(InSet(x, NaturalPos)))"
   ]
  },
  {
   "cell_type": "code",
   "execution_count": 12,
   "metadata": {},
   "outputs": [
    {
     "data": {
      "text/html": [
       "<strong id=\"fold_forall_natural\"><a class=\"ProveItLink\" href=\"proofs/fold_forall_natural/thm_proof.ipynb\">fold_forall_natural</a> (conjecture without proof):<br></strong> <a class=\"ProveItLink\" href=\"../__pv_it/theorems/63f57c5bf4aa8119bad79b861aa201bafcea3f8e0/theorem_expr.ipynb\"><img src=\"data:image/png;base64,iVBORw0KGgoAAAANSUhEUgAAAfsAAAAZBAMAAADEXprcAAAAMFBMVEX///+IiIgiIiIQEBB2dnbu\n",
       "7u5ERETMzMzc3NwyMjK6urpmZmaYmJiqqqpUVFQAAAB6qHgnAAAAAXRSTlMAQObYZgAAAAlwSFlz\n",
       "AAAOxAAADsQBlSsOGwAABqxJREFUWMPNmH+IVFUUx8/Mzps3P97Mjhai+GsYK5VItjKEpWSS1T8k\n",
       "4wUhCeWOhKsJuWNBf+qYJgjhDpEhVLSmf0XkFP5ukyn/CHZLRzI2K3LthxVFrOC6q0J2zr3v/ng/\n",
       "ZvYHq/Tg3Xnz3r3n+z73nnveuRcg6LC6RTHq8XOuBHfkmJqrAVQm0WCy7pMfZDHqUYY7dVhVgF2T\n",
       "aC9WqPPAKItCq8x/SrcNvzTaM8K3MkF+MX+MvJo1avN5nXrRqijUMZv/7L9d+KFag4f7BT7cG/B0\n",
       "5RglZuvWsFHYBhig6x/d9XaIItR57Z8XjtC/VB6gbWYJQlUffpo9r04IetqtzZfftunqfL0qJhIz\n",
       "VYY/JxA/CMInQQi8p6scP4TNTtKNfe4Wh2XRjIP7PLVdAxCvGQsA9jp1Vkn8JIXI+AQD4HV0s0f8\n",
       "U00da08MAVdl+O12EH4QhE9ijbyzl+MbaHlrQBC4IYttONcu0nzrAfgCYAVAnxMeFkp8k/p+gjHJ\n",
       "vIKjcoXCsM97PhRjRfh9Aj9eDcLf2iCSSYkeeavPmTHvoD3szoh73plDooC5RTzJaVoANmNP2NDE\n",
       "uz90plvO/b2aM4x3xg/jeRUvmnyPzun4pMrwkxrkeokfAOGXaJG3yBrhH+VG454GWVFAJ53YBSmk\n",
       "vInOUBPdHzYLEv+riUfA6CCe+H5woTE+qTL8kIKAVyR+AIRPIqVekawR/l14PpTLLXY3SJdFAde4\n",
       "80AyDwbhVyHCwgxGqn0SvymXm5efGH5zgU8wijSJOc88vs5s2xSET6oMPzGkJQJ5Gfn9ED4JRID9\n",
       "v+2cluHWCP8QesEx5UWivwqiQPTYshrvr9hVZsbinbhPZEX4N1mEqF1H3JWmfSf9S1ygwZ0PAJ+G\n",
       "keglaO+Fb4LwSZXhm8MsYcux46bE90OAV4KGPL85Y4xwa4S/Df16D8SwMxKdh0/9IXxjQBShf9ue\n",
       "YHM8XOP4eUgx78NwF7YFPrbf40kw7l8Jp5mb8CnCrWtZtOiVub+29bILfMEPwgXoysDZIHxSZfix\n",
       "G5pM6l2BzyEC9JUEIiS674PYMLdG+F34QlE7Qq+FcX2Z0zhcEQXNGx4susFA/EMZMNmtdBFCGZn2\n",
       "rHdlHlsub4KfInbSVvjc+lpV56Dz2ylutALY7d0UW0/Q309yuYdzuUUSn1QZvqHjw5pWB9+B8Osr\n",
       "CULA1qkhbo3eGAUhlWFB4y/sJ9/oN5dVWwp9F7EH2ejjN9TISvxzeuRLHqMUJFOJgIbPrJ9UleK2\n",
       "/CZLfLgIxL44aPQTcvSH9UF+s+TgOxB+fSVBCKlBFtMSYvSLBMBy38cAFvnwt4mIhp4DHQBnbUhl\n",
       "RdLzmcSPUyre9+WUgVkbAGbR3f7vt7vwmfWsquR8pcyr4qVpdv4JcA8kRowg58+KuT+izf2FJZn0\n",
       "EoTVs2WmV19JEAKyN1c5A5v71H4VfbdjQ7BHTMh0QRRzhUdFke80GxyLAVEf7Jb4kQs2GL2PwlLM\n",
       "SQ32vD/y3EENn1mPlWUlSHGtkHTldUDjjs6ZLr8eFPoKAZE/UVA5P0E8e6DaVPLoKwlCaMrj9Moz\n",
       "ayLyww4aZ+vBKd/KuNwiivfELfpUhGvGEv794AuvaFHgx5bi+VQZhvH7lWB5QT9Upmn4zDq+ragk\n",
       "3jwuYgs8yfzaGoRoPu/Gj4zwDy/Ht7Tv/m5tyUMQr82AZtujryQIAb19hlVk1qjRaSeMYaEFTtbD\n",
       "VBy9tU4kgjjcxuE5WDNMDpGmbjMzcsX3O93LmC3ow9ZbHR0vovzTcQ2fWU8NyErAk6Zk5zWxgH0J\n",
       "FbMQqkDi45ILP/3L9b+5Ks/6tPfcoOEziEtwwKuvJAjhfVxDfM2tUaNTKg/Uc+lWWchDLqlfrbfg\n",
       "bSqGCrHBopnnvZ84p+Ez64TsVBLOr45wsV7WJ1V9OX/Ju+BdAp+aHv0gBGbNyfmdo6sUuOJzrRLY\n",
       "0VMPvwuH1ipUePrRK5amBc16VlUKebctrEq9JY9UbbDicz4EgzC/36MfhMCsOSs+Z7p3LtcqviwL\n",
       "lQmW6uwQSfyPcNEbu2TDLhxHE2NyWuE71jeqSlHf+njjqPtSDP9Mg+2OxADcXfXoByBwa9jIGghW\n",
       "S9dEofa/Ch4bdXd7jBUdm9Q/vbcOqsvVPs3VDVdGJYG/YNTdHrd+AAK3Rrs9pbHv9W3nP9PHudml\n",
       "4yeV3HH/AGcaWJnecK9v2Rj3+rZr1qa21t/r4ztP5ydjp9c1V5a7NtL/tzu949nnf6PxPr/roeG7\n",
       "GM8+/zzEPzKZ+/wYRf8DDkIF5eQjCDoAAAAASUVORK5CYII=\n",
       "\" style=\"display:inline;vertical-align:middle;\" /></a><br>"
      ],
      "text/plain": [
       "<IPython.core.display.HTML object>"
      ]
     },
     "metadata": {},
     "output_type": "display_data"
    }
   ],
   "source": [
    "fold_forall_natural = Forall(P, Implies(And(Pzero, \n",
    "                                             Forall(m, P_mAddOne, \n",
    "                                                 domain=Natural, condition=Pm)), \n",
    "                                         Forall(n, Pn, domain=Natural)))"
   ]
  },
  {
   "cell_type": "code",
   "execution_count": 13,
   "metadata": {},
   "outputs": [
    {
     "data": {
      "text/html": [
       "<strong id=\"fold_forall_natural_pos\"><a class=\"ProveItLink\" href=\"proofs/fold_forall_natural_pos/thm_proof.ipynb\">fold_forall_natural_pos</a> (conjecture without proof):<br></strong> <a class=\"ProveItLink\" href=\"../__pv_it/theorems/65509fa5b60502da38b5d1cf98acd28851521d710/theorem_expr.ipynb\"><img src=\"data:image/png;base64,iVBORw0KGgoAAAANSUhEUgAAAhEAAAAaBAMAAAD76BPLAAAAMFBMVEX///+IiIgiIiIQEBB2dnbu\n",
       "7u5ERETMzMzc3NwyMjK6urpmZmaYmJiqqqpUVFQAAAB6qHgnAAAAAXRSTlMAQObYZgAAAAlwSFlz\n",
       "AAAOxAAADsQBlSsOGwAABqBJREFUWMPNWX1sFEUUf3tf3d7etVeJjUagzRE10VSrgWgM6krAGAVc\n",
       "iSGamFCinJgYeiDpf8CqSMI/7UZD0sQGTpsQ4xcNATSUkFZMSYHEE/SPqrGHERTRpiS0CBJx3szO\n",
       "7Ozt3LanhfiSm72Pmd+895v33ryZA1DJMdFMKT9lbbhxomVbAIwZh62ImO7jzdTiwI2VEwB620yD\n",
       "VkR8XjSesJXXrzMT+pS/ESZgUOkt+Womsj1MHDlYodurovEmKtJHMnN9mZgT8hubG5mIWMFfY4Wq\n",
       "oqwoYZKhiFjCL37wk9/Km8Zr686+S6f9hrw2kHezg0woEKoM/vbJsVf207A0K/URcyMTWknFRB1F\n",
       "GAiZyG8OldmMCUQ8iJ+7/fnD5A1cBkgsIM+4A/HzuwhIrbscsaJgQoFQpdQTx3rRCkakEGluZCI+\n",
       "oWLCQK+oDc3fkjmuICZhAhE3BxNGfYE3NRcIyxeQF6S6iYxKuXl0hSOY2Az/NYltIT46in56KBAR\n",
       "fInF3MgE9KiYqEFP2RY2j98cKoiJgdXjklL0K2bxRrtEXhfJmyjXBha4XvWbYEKBUKU0kWTXhD7Y\n",
       "GtjFMhITdG7KxAGvR8ISeWIHeSwLDUOfOUwWMCYIYorQU+sfcJNoEuPkRYbDiNDGXY7mDsGEAqFK\n",
       "accXYSPthDPRw5mYJa1zm2DixFQJ3G8Okx7GBCLen83O9w84J5r6Nua6sE9os5xpaPKAdFQIVcok\n",
       "c1yam947s7Uxs/HxgoqJ5ZyJPdLm8aVgIprNzjND85FkTnLuc4+tZpjIBCJ+BrDGPyAnGjJsa4sI\n",
       "TKrNMEs0Ni+8HBUCj93pEUFY0BdheNUS7zLXZeJXC+lWFRPDnIkttHbYm0W5t48zYeRFrKi1kM2J\n",
       "JU7DKptiIhOI2Ak6STXJ9n2Hf3UH7BRN08+LWc3dIrQ5RT+TLHm7YIIhhBSxvmI2LbI7t1L7e/FS\n",
       "6gORIiQLd4B+AVLjKiZOcSa65OJhpOgyQbToDC2lZXM+jLRBV55iIhOImLBoUfIFwCJ3wN2iaecY\n",
       "DwltttDPvwA0CCZcBEne2FdIPeLpkGCP3X89NWZLxxlDCl8qUbKdxa9AegIMjHeDeDuJvJJvbsrE\n",
       "Knm++DsFt7JaA0+GaOE3xyIYoxbFxKGImM7QdHeezBbwictBJnrB3Y9XCCZcBO7rc3OFdGkJ7A8w\n",
       "kWqGWHPcc5+k6ZUTnAlIjyMNUVPlE73CJ+TKevsTvMb82kuYCi3KzBllubDX9QlEdGjR/TDAPeVM\n",
       "1FzkQ73oOMnrKqMoqm1HLtv7cRMYNMCM9e/tPygzUdcH2rghLecON3x5miPRAXUOREzYY1sKJk6K\n",
       "PGF7eSLbLart2lQmRIsycwgNV+MUk+YJRFyGCukT0MkPn2d5o13hQ1cLbYaoyjjCEUwgQurQ+rna\n",
       "UB40LFrSmz7ImAGfiBYhUop4Xfnm38TJSRBDiDcQTz2nDyiYGFLtHbu9c0dshHx//GhDn1KLMnPm\n",
       "kyiMUUy+d8Cb6K+p+xq+5f1m8aaWBzDbO5+2+X5KfeBlwQQivNA7EC2R8n0lNSC/5LsgE12Wfh62\n",
       "e13he/b9LpHlS9RNvwJ4KVYWHWJuysQR6ZDkeEzoJCvEjy2EB5Va+M3RL4HmHKWYOJQi1mGI1EnZ\n",
       "n/JDGqN9kiuygbzGHt1JmL4LP57BZr1gAhHeuhXq86Qg+JjpYGhtASaONMyxcAl5V3c5D1xbzYO7\n",
       "GeB9gNsAPrrFz4Q3N2XisFQt5aWzKEnk+jMOTCi18JuTbIb470WKiUM9xKh0hsPExRohEZ6i9OZK\n",
       "p/LT8BoG+nAulyum83HT8XZyl4kxbH70ukJH+YZ3Z8UaU8xdfu7Qy0/ldZlkq1ILlTkU0z13uNJl\n",
       "K8+i8kGF/TZQiYkHoBG6amAjWw34RLLBZWIhNh1eVx4dnhyveAITc1c+i/J1zBt9eZUWKnMopnsW\n",
       "5VcES6R9sJU3nqx1n9sq3dTo42SphwxW5aUKvjsExoT+p5tseVdekkgdQ8/U2/j9RKoUwkQXRDbl\n",
       "VVqozKGYZGiqQr8/RCNkZTlEORPJEnRD582gYyLd0O1eAclMNF60mLG8axAsHnq4XyvurOwQJj4F\n",
       "balSC5U5FBPvrOxp32PqzM00e8rbu2dzufKLtITs72aY3a+HnantsHvMmP8eU6GFwhyKqc0rVLzH\n",
       "pJdoaXPG7rZlJuBzL+7/zf8DN/Zuu5r/O96exv8dPiZilm+Wav/vIGnXsGb8/44ZR5zW3b0VePO/\n",
       "kH8APREAlHlLlYUAAAAASUVORK5CYII=\n",
       "\" style=\"display:inline;vertical-align:middle;\" /></a><br>"
      ],
      "text/plain": [
       "<IPython.core.display.HTML object>"
      ]
     },
     "metadata": {},
     "output_type": "display_data"
    }
   ],
   "source": [
    "fold_forall_natural_pos = Forall(P, Implies(And(Pone, \n",
    "                                                 Forall(m, P_mAddOne, domain=NaturalPos, \n",
    "                                                        condition=Pm)), \n",
    "                                             Forall(n, Pn, domain=NaturalPos)))"
   ]
  },
  {
   "cell_type": "code",
   "execution_count": 14,
   "metadata": {},
   "outputs": [
    {
     "name": "stdout",
     "output_type": "stream",
     "text": [
      "Adding theorem zero_set_within_nat to proveit.numbers.number_sets.natural_numbers theory\n",
      "zero_set_within_nat expression notebook is being updated\n",
      "These theorems may now be imported from the theory package: proveit.numbers.number_sets.natural_numbers\n"
     ]
    }
   ],
   "source": [
    "%end theorems"
   ]
  }
 ],
 "metadata": {
  "kernelspec": {
   "display_name": "Python 3",
   "language": "python",
   "name": "python3"
  },
  "language_info": {
   "codemirror_mode": {
    "name": "ipython",
    "version": 3
   },
   "file_extension": ".py",
   "mimetype": "text/x-python",
   "name": "python",
   "nbconvert_exporter": "python",
   "pygments_lexer": "ipython3",
   "version": "3.7.3"
  }
 },
 "nbformat": 4,
 "nbformat_minor": 1
}
