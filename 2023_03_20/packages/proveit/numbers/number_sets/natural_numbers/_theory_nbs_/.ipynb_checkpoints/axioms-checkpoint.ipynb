{
 "cells": [
  {
   "cell_type": "markdown",
   "metadata": {},
   "source": [
    "Axioms for the theory of <a class=\"ProveItLink\" href=\"theory.ipynb\">proveit.numbers.number_sets.natural_numbers</a>\n",
    "========"
   ]
  },
  {
   "cell_type": "code",
   "execution_count": 1,
   "metadata": {},
   "outputs": [],
   "source": [
    "import proveit\n",
    "# Prepare this notebook for defining the axioms of a theory:\n",
    "%axioms_notebook # Keep this at the top following 'import proveit'."
   ]
  },
  {
   "cell_type": "code",
   "execution_count": 2,
   "metadata": {},
   "outputs": [],
   "source": [
    "from proveit import m, n, x, S\n",
    "from proveit.logic import (Boolean, Implies, And, Forall, Equals, NotEquals, \n",
    "                           InSet, SetEquiv, SetOfAll, SubsetEq)\n",
    "from proveit.numbers import zero, one, Add, Natural, NaturalPos, greater"
   ]
  },
  {
   "cell_type": "code",
   "execution_count": 3,
   "metadata": {},
   "outputs": [
    {
     "name": "stdout",
     "output_type": "stream",
     "text": [
      "Defining axioms for theory 'proveit.numbers.number_sets.natural_numbers'\n",
      "Subsequent end-of-cell assignments will define axioms\n",
      "%end_axioms will finalize the definitions\n"
     ]
    }
   ],
   "source": [
    "%begin axioms"
   ]
  },
  {
   "cell_type": "markdown",
   "metadata": {},
   "source": [
    "### Peano's axioms define the natural numbers"
   ]
  },
  {
   "cell_type": "code",
   "execution_count": 4,
   "metadata": {},
   "outputs": [
    {
     "data": {
      "text/html": [
       "<strong id=\"zero_in_nats\">zero_in_nats:</strong> <a class=\"ProveItLink\" href=\"../__pv_it/axioms/464468e67a35817776418232c73ea3d04d99d6270/axiom_expr.ipynb\"><img src=\"data:image/png;base64,iVBORw0KGgoAAAANSUhEUgAAADMAAAAQBAMAAABJt1qBAAAAMFBMVEX///8QEBC6urrMzMxUVFRE\n",
       "RESYmJgiIiLu7u6qqqoyMjLc3NxmZmaIiIh2dnYAAABcDckaAAAAAXRSTlMAQObYZgAAAAlwSFlz\n",
       "AAAOxAAADsQBlSsOGwAAAPVJREFUGNNjYMAA7V+jGhgeflRgYOB7expNLpLJgYHjA5CxkqF9A6qU\n",
       "+4ZnDAwCDAxsBQx8AahSngFcGxgKGBhYHRg4f4BFeMPLq8AM71zuBSAp/gMMzD9BAkxrG6C6vFkM\n",
       "7oGk+oFS30ACu2AyDN4MAawKQKn9DxiY/4IEVjMgpGw4KqBS/0ACC5Ck2CZMBbqw/wEDE0gXs3h5\n",
       "eXkpVIrBg0UA7AxOkDM4ApB0MbRwgBwfwMAGdnwBshTzBaBKNgEGHrA1d+FSwUB8GWRIJUOjAUiA\n",
       "awJMaiUQg5X3vHUGC3C4akBkrD4CdXAsQA46pqfQgIICADZGPXhRravGAAAAAElFTkSuQmCC\n",
       "\" style=\"display:inline;vertical-align:middle;\" /></a><br>"
      ],
      "text/plain": [
       "<IPython.core.display.HTML object>"
      ]
     },
     "metadata": {},
     "output_type": "display_data"
    }
   ],
   "source": [
    "zero_in_nats = InSet(zero, Natural)"
   ]
  },
  {
   "cell_type": "code",
   "execution_count": 5,
   "metadata": {},
   "outputs": [
    {
     "data": {
      "text/html": [
       "<strong id=\"successor_in_nats\">successor_in_nats:</strong> <a class=\"ProveItLink\" href=\"../__pv_it/axioms/0cacce82323d41514e7095b9a18df7da43951f010/axiom_expr.ipynb\"><img src=\"data:image/png;base64,iVBORw0KGgoAAAANSUhEUgAAAK4AAAAVBAMAAAAtL8hrAAAAMFBMVEX///+IiIgiIiIQEBB2dnbu\n",
       "7u5ERETMzMzc3NwyMjK6urpmZmaYmJiqqqpUVFQAAAB6qHgnAAAAAXRSTlMAQObYZgAAAAlwSFlz\n",
       "AAAOxAAADsQBlSsOGwAAAp1JREFUOMuFlU1oE0EUx/9pdrPJJtnuQYPFD8KK1o+DIn6AF/fkQVCW\n",
       "IoKgNSgGCSgJgkfd+lEQRHOpeFBMbS9eJAehVHuICIKWQlQwIKKRol485CJWT77Zmd0k25364J/M\n",
       "vuz89uU/82aBFSMpFB3uCrNWjvVC0TEZulZ3FCegHNivm0CbJT5JJmZtrojQNgGxRiiZaD4BTgHr\n",
       "gGfs+p6Ee1xoeYzO/qLPiVDW2KI0EAdSDi4zPwoS7pxQN3S/xBjjzoe5H6jEASBTZ2goTQl3p1CP\n",
       "M2YvN+7wi5xlVT3uLfMm42IPMlRASmZvlUvKTfHqH6/263V/xGzGvQ/ssqzdEm7a5pr8dj1nRnEV\n",
       "b9WTgc2Gm0CJcY8AM8BZCZeVw2RfMNWlKG7G+zMpt8vV6iMjNHgN3Eay3buntx/CS5EYaHrSa5uR\n",
       "/B3FzXrmd200XCxkz9DgPe05R6n5+cr3Ej4rTlosR7zmSVX/IsswacvaSLa1A67WYcOLFkVBcA1n\n",
       "kQZXWAXB89IzrEfMuoI+LrIdGNWoenWv3mO99apt5sMUqfqCjJqrrPXaBGh9HPO5wgcGHWw4UT7k\n",
       "vdt6uagkaPCOdJiW88RUI+6q3n9pKSen/bY0ueI2vjh21Lp5M2Jm0MdlurpEg1eka+TXjSEMOryX\n",
       "WqjnxG1sGzHdKWMoU+7nKktiI1I8CDYQa7BZ0lNWPJvxlSzJ3C0WzxP3qG+4lud6ROfBQr+/xuKf\n",
       "n+QAX/HREjdJe7hXHCjb/Cftw3NNs3m9+ls/OywU0W9eXBXf06etvrZM5v1BB8Mt3h9vgA3+7/PL\n",
       "zha9ET6XIhvVv0tvY1UD4+SItpX2YLAOLpfsvSA7B8dD5/3BYqk/UeCShPSR5/73HhoTio41knzM\n",
       "xT9g15xFU/NAAwAAAABJRU5ErkJggg==\n",
       "\" style=\"display:inline;vertical-align:middle;\" /></a><br>"
      ],
      "text/plain": [
       "<IPython.core.display.HTML object>"
      ]
     },
     "metadata": {},
     "output_type": "display_data"
    }
   ],
   "source": [
    "successor_in_nats = Forall(n, InSet(Add(n, one), Natural), domain=Natural)"
   ]
  },
  {
   "cell_type": "markdown",
   "metadata": {},
   "source": [
    "The following two axioms will ensure that successors are never repeated."
   ]
  },
  {
   "cell_type": "code",
   "execution_count": 6,
   "metadata": {},
   "outputs": [
    {
     "data": {
      "text/html": [
       "<strong id=\"successor_is_injective\">successor_is_injective:</strong> <a class=\"ProveItLink\" href=\"../__pv_it/axioms/9fbd28ecb4f53c3cb2f9b7db84095439bf5ad47b0/axiom_expr.ipynb\"><img src=\"data:image/png;base64,iVBORw0KGgoAAAANSUhEUgAAAQ8AAAAXBAMAAADn89dPAAAAMFBMVEX///+IiIgiIiIQEBB2dnbu\n",
       "7u5ERETMzMzc3NwyMjK6urpmZmaYmJiqqqpUVFQAAAB6qHgnAAAAAXRSTlMAQObYZgAAAAlwSFlz\n",
       "AAAOxAAADsQBlSsOGwAAAyVJREFUSMe9lk9IFFEcx7/r7ji7M7M6holSyeIhiSAioq7bIaFAmIME\n",
       "gZlQDSEZK0bHGMs66l6Kbo0pXTq0dNBQDxOBkBFZF6OitkNBN4OiiA793vx9M7PuFLQ+WPY3v9/v\n",
       "vfm89/vzBtiSka1vNrBVY1d98wz9qkx412COfLG+PWUBi0y43WCQk0kON4ErLILDDQZZTnJ4BuQ0\n",
       "ILPWYJD9SQ5pDQqFJ9foFCkneeSI4kBPz8EGg8iUqzOfJjvUaLEw3aU+k2JCNbMAnEtYqOL8va6R\n",
       "7pwcM6v8fosXVeEne3jYw8Y+JjLdbzNPgVPozKaQrdZuQnuP44ltcnJZMSMOg2WfMWYWntJBeA9N\n",
       "a5DM3cj+CM+3dV+hbFDwCKZZy5hxirHPI3if0WQtABniD5t+YlsBmPNVQ6EDHNtGL/K6R9qEIPxC\n",
       "/nv4Ha5Opv2IDEatkavyAmtzaiWDAGSRszfbOVhwig4Rs+3+yukOHgjyG2iJ5izpiCJNvBKrq/Jj\n",
       "Otflse7USgm2tAPYyfzW30zwIAXOywcJKr/gTuVA+oPQMIpWSwvnCOmainhgaPZS6CfwwVkrXU2x\n",
       "hGCSIdhrrWdOzQUg2TLn5YPkK5jXaViu2eBB3nrnR2lL+/6gRTo96U6b+JK1oLA512jl611oLbEq\n",
       "syVNsmwQVDoCEGmY8/JBJK8pu2aNB7nn2lhxTpfQpZTCIKR7AZzNOAWOFmb+iHH7BJk0C+WWro8S\n",
       "yEAuAMlXfa95/QydgQ0ieiCOeRayrh/SLzggl12bSI53KZ2fR3KEdBTL+50UPL9eDqMD06IjLYli\n",
       "0TkR6WUAwl7pe8VD45iXxFqhQW9Sy7vq94wN2s6KjAEm9a47LW4V6A4lq+fFgaTUIFmdqRxIG3en\n",
       "/eWtKFXpU2BqO8bXSGq3cIPCJe4x0MKBnPe9HJDssW8qmv2PK9vcbrnuk3eOMJWXrQmfYDWuf7ca\n",
       "hT59BOHGwPUu90TYOOGr5iLutIi/vJDwnREHlbRafs4yshHurPZ4FKiMyNXET5ioD9IZ0yjYHARH\n",
       "4xb+gomZV//7Ne7uTIhbhE1ke2j/8o4/dlDZqTClS6AAAAAASUVORK5CYII=\n",
       "\" style=\"display:inline;vertical-align:middle;\" /></a><br>"
      ],
      "text/plain": [
       "<IPython.core.display.HTML object>"
      ]
     },
     "metadata": {},
     "output_type": "display_data"
    }
   ],
   "source": [
    "successor_is_injective = Forall((m, n), Equals(n, m), domain=Natural, \n",
    "                                condition=Equals(Add(m, one), Add(n, one)))"
   ]
  },
  {
   "cell_type": "code",
   "execution_count": 7,
   "metadata": {},
   "outputs": [
    {
     "data": {
      "text/html": [
       "<strong id=\"zero_not_successor\">zero_not_successor:</strong> <a class=\"ProveItLink\" href=\"../__pv_it/axioms/cb088cf3f6f178c923d1f7dad0466484af8f379a0/axiom_expr.ipynb\"><img src=\"data:image/png;base64,iVBORw0KGgoAAAANSUhEUgAAAKsAAAAVCAMAAAAO9u4uAAAAPFBMVEX///8NDQ0WFhYLCwsYGBiI\n",
       "iIgiIiIQEBB2dnbu7u5ERETMzMzc3NwyMjK6urpmZmaYmJiqqqpUVFQAAACZSrTsAAAAAXRSTlMA\n",
       "QObYZgAAAAlwSFlzAAAOxAAADsQBlSsOGwAAAm1JREFUSMe1V1mWpCAQZKY7IQFZvf9dm0VUFm2o\n",
       "ecOH+bRCDCLXIuRf1tbYD179H+jRAlfblaXh4QfDH9H+vHd28XMOazu3JM1kYPw5Ke53iGC2E210\n",
       "ea4WheaqtlPveKP2Qzg1EpAIebtRwWGcbgUti7CbWJTV2NqOXd39CIWrNSNZ/e3G0qStONHleLga\n",
       "dKyx4ziBR66EDYQVd+eKRNzlFyLaHidXq9GqarvOVfUO0XdZyZ6Ul7s70YzGxXA1BLCyGjzfEATM\n",
       "c0XfbVrlDC9c7Yk2KZoFX+RaVDksBo9B3H+b5movj5ikF/3+itczg3bMXOFEb75cxmWYGgy1wrIG\n",
       "Qd3dak2oSPvLaa6Ovcp6ccULHSVF3ackeCHCY+cJ8r5GM323PCiqr0Q4pWI5wvyIq9zbaK0rA88k\n",
       "ddY1o+PZ+wQxRpYeAcREJ79xjSxTa1Hz8arZq6wlt1zOrQOtiIWj5FkJYOq24qTTG3Rc6xgoLEMe\n",
       "8OkYoHW8/v1DayeIXFnzCwcaXS6y3GoWKLJwPH51BidDDDjdci0ZX2wqJDEEcDq3mu7TNTKbpDTq\n",
       "jt6OvNk4xOdxs1u/CVxDDEDb1krFOWxOqvC+le9c8awUpj6+6/tY9BlnskL7sn8sOykwrBJpucyV\n",
       "YxfRklZW09zvrXuNV+/ZrnwWgup3WcN2BqFwo232xzMYQySRWOlKdC8QlbWd7Fu3Yjic2ubQ0ZHp\n",
       "25Hd1RtsOhB0BbjMHsMZ5Hl26WYf8jZ2PaGPdgxo09gli49zKfGPc4b4aGpv5jqLK+g2VjDGq35D\n",
       "iNqureaElK+gP5AGarv0/6f5uPwd/QMWTxzGvQ1NCAAAAABJRU5ErkJggg==\n",
       "\" style=\"display:inline;vertical-align:middle;\" /></a><br>"
      ],
      "text/plain": [
       "<IPython.core.display.HTML object>"
      ]
     },
     "metadata": {},
     "output_type": "display_data"
    }
   ],
   "source": [
    "zero_not_successor = Forall(n, NotEquals(Add(n, one), zero), domain=Natural)"
   ]
  },
  {
   "cell_type": "markdown",
   "metadata": {},
   "source": [
    "The induction axiom defines the naturals as only zero and its successors and nothing else."
   ]
  },
  {
   "cell_type": "code",
   "execution_count": 8,
   "metadata": {},
   "outputs": [
    {
     "data": {
      "text/html": [
       "<strong id=\"induction\">induction:</strong> <a class=\"ProveItLink\" href=\"../__pv_it/axioms/2c37bd11bafd701bf0ad462bfa46d2a9d186c02e0/axiom_expr.ipynb\"><img src=\"data:image/png;base64,iVBORw0KGgoAAAANSUhEUgAAAfEAAAAXBAMAAADpdmtlAAAAMFBMVEX///+IiIgiIiIQEBB2dnbu\n",
       "7u5ERETMzMzc3NwyMjK6urpmZmaYmJiqqqpUVFQAAAB6qHgnAAAAAXRSTlMAQObYZgAAAAlwSFlz\n",
       "AAAOxAAADsQBlSsOGwAABbxJREFUWMPlWFuIG1UY/pNmMklmks4WL8VLjaFaKlRi1Zd90CzSKoNb\n",
       "Q60LpbidCqZrURiWIki9jFsR+qIRLOxDq6kX8KHCWlasWunui6hFGy8IugpBaF2plpWqLVpdz3+u\n",
       "k8mZafrcH752z/+f5Pu+mXMNwMVFEEJ8j3CkKn7iN+Y4Yotx+WWr4spBXxYuLlJthZg4EGlnWslf\n",
       "eS2HNgpOQt6NKceI2/jXI3W460zrABfZweQP/Tr/RiEzdLinPDdd+yw1E3WeSFGsMWhivA5wDWhJ\n",
       "aN7VlplA1ovE6Fp8DvQJPVbogLEAKBDxAeYm+zRuNBX2w8bomMk6MLIAe3lrWDhPpNjM0ct16lXi\n",
       "PF8HLQnmXV2ZieO9SFz/5Erxfn8K7gWoAhVI8DTOGq9P59aMhF2GTPRjHwLYTTjGBawWzhMpjnCo\n",
       "OCj+uI7YsqdAS4J5V1dmAnkv+nI3d8Ck3X7z8gGUgQo8xp5apt2n8yUK2Q4U/2TT6qEKN3mWTsAl\n",
       "7D2kvmhx54kUVQ4VX4adw+2gJcG8q8oYD4dEil5QIvjFf42OzvnZXBOdo0ACmzyhfL/T/DuFpVNg\n",
       "/ksXm5fEiCucBzB9yLOJnjY97jyJothkiHW+D7QkmHdlmcbjIZGiF2TwqS0O0sJ8yb8MnaNAxNpK\n",
       "5bZ+nU8rbCXOz2Nuj5xqxuLd1GqHrzOTYm1PoLBqDMbAiZ3DOucbQEuCeVeWadg1JVL04p9h/82D\n",
       "l22VmUDEe2qcYEwlOd+n8GINzN8jS9fxxf8CPr8wPyecRyjCIZ6/BSucQzrnn4KWBPOuKFsVGv8o\n",
       "kaJXV8zDLuOGMhOIeAFy+JLeGJilJw6+EtFmptFoBBPTLfsO/tk1Cuj8D8yFhqpxxSKZskU6bc0O\n",
       "pOvcOadQIcjInGgzfALH67/qnH8NWhLMu7LMZ85+KVL0Eg+lw5zb7W+5QES2jmeNogPPgHJOm8YO\n",
       "+mdnHbzLv3tQYWsNCvjOTTKUKzfKwfs3ydDdpORDyuHOGQUNc0WjpcjIStNi8OF92j5Uqdxaqdys\n",
       "nNOOvSSYd0VZ7pCDQqToFXnncKJUZQIRRSfPFsRSyDltZul4Kc5aUOt1Tla4Iq5whtquyKA1SKpQ\n",
       "5fu0UebOGQXbk/wwmXIOcIt+hXsdtCSYd0VZHGlfDoRI0SvqfBQ1oUAqsjlL/lk6ww/BjIM2n2Ov\n",
       "/6m3nFrvaM96YNNdrSyHIRlSOZIqlsU55iNxeqUUA4evDtgBT5Kp0Q6Fc/CAzvlXoCXBvCvKfEiv\n",
       "DoRI2Svq3HQ8JpCKHN5LV/5HIeScNn9kzv113wvn2xTsKlh09g3IaVZmy7TtCa17hHOkSAUn8+0R\n",
       "9e3yRIYwdpBhWNM5/xi0JJh3ZZntd54UKXt1zfPtBFd6TCAVuZumHzzaCTmnzYPcuZUSg21DCGvg\n",
       "frpK5cUZxVrJCpTSxjme9blzpLBhmynOZ4JM7jDFs1uqhXbE+X0B36M0JJh3ZZntfEqk7NUVuADi\n",
       "2xI7Ka5FAHUoLISc0+Yod27UxNI6HsKWoZ/Z+Dv5JhdVOHUaBaZx2pbwfZkOd04p4BzZhMhu0VZk\n",
       "pEuZwnjHmfs8Ms9P3/kKmRs36Ukw74Iog3ilXKTsFY4nznjsUI8C02LJJc+bn6w91WQnzqIPb4vL\n",
       "YNpXUKNsvThYspiIuaWa1Rzs7CYjsYpDc4ajq1ZZT4J5V5XDt/K0f4Hz2ERYpNWBUqCc8+Y0fofd\n",
       "gpQYm3hBEIiNI3rnuzNNi+xvXWQgrw+6G4u8fsTcnVx9OVFczyXJ2jV9T2iF483CenKSGZ/klzyM\n",
       "sRDifi7x9M6tq4Yuh9z2LjJcCwLg26c2nk/IuzHlsWTjKFB3dUy+sI6EEBNRG92/yWxqNLp/o8Gt\n",
       "2ognHUvIuzHlkWTncc862XnOUYiJ5dFfoy7wO9yzHPpfv4L4/LLBmHKCOCFwOSQ6LzXw3A6XSlwy\n",
       "Tv8HtZbIPnkfGKcAAAAASUVORK5CYII=\n",
       "\" style=\"display:inline;vertical-align:middle;\" /></a><br>"
      ],
      "text/plain": [
       "<IPython.core.display.HTML object>"
      ]
     },
     "metadata": {},
     "output_type": "display_data"
    }
   ],
   "source": [
    "induction = Forall(S, Implies(And(InSet(zero, S), Forall(x, InSet(Add(x, one), S), domain=S)),\n",
    "                             SetEquiv(S, Natural)),\n",
    "                   condition=SubsetEq(S, Natural))"
   ]
  },
  {
   "cell_type": "markdown",
   "metadata": {},
   "source": [
    "### In addition to Peano's axioms, we need an extra axiom to declare that every object is either a Natural or not.\n",
    "(We must be explicit about defining Natural as a genuine set.)"
   ]
  },
  {
   "cell_type": "code",
   "execution_count": 9,
   "metadata": {},
   "outputs": [
    {
     "data": {
      "text/html": [
       "<strong id=\"boolean_natural_membership\">boolean_natural_membership:</strong> <a class=\"ProveItLink\" href=\"../__pv_it/axioms/38c457c096ffefaadf09cc2d3936ebf2a12d90320/axiom_expr.ipynb\"><img src=\"data:image/png;base64,iVBORw0KGgoAAAANSUhEUgAAAJoAAAAVBAMAAABMN+opAAAAMFBMVEX///+IiIgiIiIQEBB2dnbu\n",
       "7u5ERETMzMzc3NwyMjK6urpmZmaYmJiqqqpUVFQAAAB6qHgnAAAAAXRSTlMAQObYZgAAAAlwSFlz\n",
       "AAAOxAAADsQBlSsOGwAAAkVJREFUOMuVlEtoE0EYx/9pdzeP3SwbwYNaJOQgKliLaA69mIKIIJa0\n",
       "h4p4cKsoxYtRqEcdKAgFkZUS8FBofB0EHwEVH3ioIIKHQlERBMFIoYpHQfDozHyzdSbbFfLBf5n9\n",
       "zcx/Ht/MAMlgSimR64lnlkndYe8+04S1f7gQdFVsqC7MDbYgeEf8f9ErPyolwll+CJwABrorwpu5\n",
       "5k/JX4rfG/oUIlIy/O3WIvqBfL3b7T4OOZJfEisOtSp3kbSO2yc+bB/gtZNuS77kYiBL36V+JW0j\n",
       "T1Z2SLerwaxwwz6TS7e85B6fRl7v+1lpLQrX1cp89j1TE27zJhduP94Q31Op7NU7P1Ea23r0gJzz\n",
       "bNzJZw7OCrdRGJxnYWywRvwZcFp3m1dqZ765ZSNFPsu2x8d54R3M1IW35n49JX4NuY7utovkMe+3\n",
       "L5MR/XPDUvEUL3yAwcVKB+7VJXfqVkt3GyZl4VLzLN+Kyjbl5tdXeOGyyYWbU6hJXgyMJMRuPLF0\n",
       "5u1Qm5vdESu9bXLphpB49Jp/Ss+3MGOlwCNmy30ua244z08p3sPg5BYRP9LkR4et5tWhmyRNtFZg\n",
       "SVBau1kN3vAiL7w1uXQrBsRneBI8TGZV1Sjp6/RjPJAgHoYKL9QB0jjCOxg5rLjfEORPXHWBdLxU\n",
       "fEXN7dW7lI6FKv8e49ppcGyqnhNvSMxF06H4eeprkLTLcFDdoPghK/+fY8aKXFUUdzpxr41Y/03Q\n",
       "uLt5ZGMMp5RS40ovfEIpNaZ64bmAlBYZlsr/ArKKjmwnkR1cAAAAAElFTkSuQmCC\n",
       "\" style=\"display:inline;vertical-align:middle;\" /></a><br>"
      ],
      "text/plain": [
       "<IPython.core.display.HTML object>"
      ]
     },
     "metadata": {},
     "output_type": "display_data"
    }
   ],
   "source": [
    "boolean_natural_membership = Forall(x, InSet(InSet(x, Natural), Boolean))"
   ]
  },
  {
   "cell_type": "markdown",
   "metadata": {},
   "source": [
    "### Define the positive naturals (excluding zero)"
   ]
  },
  {
   "cell_type": "code",
   "execution_count": 10,
   "metadata": {},
   "outputs": [
    {
     "data": {
      "text/html": [
       "<strong id=\"natural_pos_def\">natural_pos_def:</strong> <a class=\"ProveItLink\" href=\"../__pv_it/axioms/26d443595cec79190adb19817f3934f6011e698a0/axiom_expr.ipynb\"><img src=\"data:image/png;base64,iVBORw0KGgoAAAANSUhEUgAAAMAAAAAZBAMAAACVwzzTAAAAMFBMVEX///9mZmbMzMyIiIiYmJjc\n",
       "3NxUVFSqqqq6uroQEBB2dnYyMjJEREQiIiLu7u4AAAAPqInnAAAAAXRSTlMAQObYZgAAAAlwSFlz\n",
       "AAAOxAAADsQBlSsOGwAAAmxJREFUSMfFls9rE0EUx7+J2TTdxGkVe9EqKz16cCvSQ9PCggftQYwI\n",
       "ikW0IKWXGpYoIih0wYtV1NC/IAcP/qiSWz14CB7aiotEQS/+YA9SUSlEQbQi4tvdJDMNO7uhWnyH\n",
       "7LyZl/3Me2++zAJNi2GdLfNfAOyK4CjhLziWC5pd/vXUwZ0VSwLI3hAc1QoFxCedoOmF1BhYTZJB\n",
       "x2+0B7jbT9vPjAUtncndAorotZ/YttG6qFbbA6RN9rI1umETlXQOVUkG7QIOArMywPg+pbw2wGee\n",
       "8Dww5cgASW1wbQB2X28MvwC7TRkAlYwVBricHx3SBQD3MfygjnIBhhSwk72rCkre/ta1V766y0Bp\n",
       "XmffBAD3qfY7fIH8JICODcVgQMK8VJQ077iBlPUGylcOEHyyiz1NQAnK92AA8kkJ4OhDSp/9aMjB\n",
       "Awi+a9fy7hwBblLZluaCAUusKtFmL2mzo4ZkWSgR9z3As3qTp0zgnhUMiOsVYULsgatNeluX4XAA\n",
       "990SjXsPGzjktOheeX4bI/T/xzTeU5H0wD0XnSU64yUO4D41ucd/jgDbaJ1Xum9yEedVJ0Ybmasf\n",
       "FinglIZsQuMA7jePKTaabEZUTWwz/ZzTu1Vg1wrtnoUBrlOT9gs9aPpsuCk0tnVA86MTW/r6gb3u\n",
       "ZOHCETXqjghV8rIREP1+2ujMMa/kBfXD1b8CBEafzKLLSXnoArqHogCrtRkF8Fp5GtNIPLLtBQJ8\n",
       "SkcBVmszCvDR3fgMNsXjJT+D1NnIi/rwhJiPFho76sYqNbwowFPfAWDg33860AU8aOAEbSX+Oofk\n",
       "en2hsFl70R/9AS7ovi9Na5gfAAAAAElFTkSuQmCC\n",
       "\" style=\"display:inline;vertical-align:middle;\" /></a><br>"
      ],
      "text/plain": [
       "<IPython.core.display.HTML object>"
      ]
     },
     "metadata": {},
     "output_type": "display_data"
    }
   ],
   "source": [
    "natural_pos_def = Equals(NaturalPos, SetOfAll(n, n, conditions=[greater(n, zero)], domain=Natural))"
   ]
  },
  {
   "cell_type": "code",
   "execution_count": 11,
   "metadata": {},
   "outputs": [
    {
     "name": "stdout",
     "output_type": "stream",
     "text": [
      "These axioms may now be imported from the theory package: proveit.numbers.number_sets.natural_numbers\n"
     ]
    }
   ],
   "source": [
    "%end axioms"
   ]
  }
 ],
 "metadata": {
  "kernelspec": {
   "display_name": "Python 3",
   "language": "python",
   "name": "python3"
  },
  "language_info": {
   "codemirror_mode": {
    "name": "ipython",
    "version": 3
   },
   "file_extension": ".py",
   "mimetype": "text/x-python",
   "name": "python",
   "nbconvert_exporter": "python",
   "pygments_lexer": "ipython3",
   "version": "3.7.3"
  }
 },
 "nbformat": 4,
 "nbformat_minor": 1
}
