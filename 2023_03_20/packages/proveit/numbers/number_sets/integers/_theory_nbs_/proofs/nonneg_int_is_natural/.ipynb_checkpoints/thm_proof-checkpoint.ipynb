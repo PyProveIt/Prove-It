{
 "cells": [
  {
   "cell_type": "markdown",
   "metadata": {},
   "source": [
    "Proof of <a class=\"ProveItLink\" href=\"../../../../../../_theory_nbs_/theory.ipynb\">proveit</a>.<a class=\"ProveItLink\" href=\"../../../../../_theory_nbs_/theory.ipynb\">numbers</a>.<a class=\"ProveItLink\" href=\"../../../../_theory_nbs_/theory.ipynb\">number_sets</a>.<a class=\"ProveItLink\" href=\"../../theory.ipynb\">integers</a>.<a class=\"ProveItLink\" href=\"../../theorems.ipynb#nonneg_int_is_natural\">nonneg_int_is_natural</a> theorem\n",
    "========"
   ]
  },
  {
   "cell_type": "code",
   "execution_count": 1,
   "metadata": {},
   "outputs": [],
   "source": [
    "import proveit\n",
    "from proveit import defaults\n",
    "from proveit import a, m, n, x, A, B\n",
    "from proveit.core_expr_types import A_1_to_m\n",
    "from proveit.numbers import zero, num, Neg, NaturalPos, Integer, greater, Natural, greater_eq\n",
    "from proveit.logic import NotInSet, SetOfAll, InSet, Implies, And\n",
    "from proveit.logic.sets.unification import membership_unfolding\n",
    "from proveit.numbers.number_sets.natural_numbers  import natural_pos_def\n",
    "from proveit.numbers.number_sets.integers  import integers_def\n",
    "theory = proveit.Theory() # the theorem's theory"
   ]
  },
  {
   "cell_type": "code",
   "execution_count": 2,
   "metadata": {},
   "outputs": [
    {
     "data": {
      "text/html": [
       "Under these <a href=\"presumptions.txt\">presumptions</a>, we begin our proof of<br><strong id=\"nonneg_int_is_natural\">nonneg_int_is_natural:</strong> <a class=\"ProveItLink\" href=\"../../../__pv_it/theorems/3454b051e9012236ad2cdcb2f83e7d2fa3b722990/expr.ipynb\"><img src=\"data:image/png;base64,iVBORw0KGgoAAAANSUhEUgAAAKcAAAAXBAMAAACc8kKqAAAAMFBMVEX///+IiIgiIiIQEBB2dnbu\n",
       "7u5ERETMzMzc3NwyMjK6urpmZmaYmJiqqqpUVFQAAAB6qHgnAAAAAXRSTlMAQObYZgAAAAlwSFlz\n",
       "AAAOxAAADsQBlSsOGwAAApxJREFUOMutlUFo02AUx/9tk7RN0pJDdQNBSkAQVJgiHkRh4KaCUzLZ\n",
       "dmyjaHQDoagMRHRBj2rtZeBBIaIXYYceBEV3aBEFEbSCKIKHKsrqQSkMZRfB931tmlS7YIofpH3v\n",
       "/+X9vpf3vnwB+hp2X1PBI1L7Wzv8c9rAnmXnNtl1JnwICX3TSzwl1yE2EakAj5h/IxxTLPVSP9lj\n",
       "wBAwD1wkN2GGgyqVXuo3M2kjC7wAkgYg1MJBY13eWl3nmTeqiRKDxgyotGoyZEnf+517a9pGI13I\n",
       "MGiSiNt0fXtI6H1Wss+DGrMT867agCk5BBWo9w+A470iy6tDb9J1x5Z+MDtpe9Dz4gaCqlSMIhJ1\n",
       "X0B6x4FjnOc1b9bhfyMZV9hCG2AXlCyHwoOqtbfU/RRdkiE4bTm+3nKitjBudEPFvayRqia70k7a\n",
       "AE1Eh5l9RqdhtqD4kiZgvElgrbPY4wLF4sJVdEOpwVT7WAErHjRmIs9zmfJlipxI2csERqlKPxPV\n",
       "/fxdYMUs+6BMp/FMw3UDu73Hz2t4xe2oHxrXKCrFynKQ+idujK+0F1WvFTwo19l4Ys8Z2NwOP0LQ\n",
       "Gr6mWI8imgs9QdcARaks8jL1SSnHh7DA58YFeFCus4RnQNCt7fBD1AkttUnhzi0XygyFOq+wWqcp\n",
       "s5gTqeO5ZVk1DI9isgPlOnBlCezxf7XDT9MjfNxXHOBObob3FeeWzdapEHX7nrelp8ZZZsnvKhjt\n",
       "QLmO4hK6GhUt+Hft3aN61wFzqfM223MLhsSWFBTIWS9Tpuce8jNUk939rJaD3rdF15AXX48hwUr9\n",
       "8ntmut6Bcn2ydc/IOsO9/WQA888jb8KynI4TdBxOBcxJQd+TIGhCW31uEP8EnaVdYfX9Pfs/X0Xg\n",
       "N/ZdnpbbLyYQAAAAAElFTkSuQmCC\n",
       "\" style=\"display:inline;vertical-align:middle;\" /></a><br>(see <a class=\"ProveItLink\" href=\"../../../__pv_it/theorems/3e95948191f454d46089de822d33ee3bc6f571c70/dependencies.ipynb\">dependencies</a>)<br>"
      ],
      "text/plain": [
       "<IPython.core.display.HTML object>"
      ]
     },
     "metadata": {},
     "output_type": "display_data"
    }
   ],
   "source": [
    "%proving nonneg_int_is_natural"
   ]
  },
  {
   "cell_type": "code",
   "execution_count": 3,
   "metadata": {},
   "outputs": [
    {
     "data": {
      "text/html": [
       "<strong id=\"defaults.assumptions\">defaults.assumptions:</strong> <a class=\"ProveItLink\" href=\"../../../__pv_it/theorems/1b0f5d4a9418079a29767cdc88896a79048736ce0/expr.ipynb\"><img src=\"data:image/png;base64,iVBORw0KGgoAAAANSUhEUgAAAHkAAAAVBAMAAACQ4lxbAAAAMFBMVEX////MzMxUVFRERES6uroi\n",
       "IiIQEBCYmJhmZmYyMjLu7u52dnaqqqqIiIjc3NwAAACW8nlqAAAAAXRSTlMAQObYZgAAAAlwSFlz\n",
       "AAAOxAAADsQBlSsOGwAAAfhJREFUOMudVD1IHEEYfefd3s/e3nEISjpzhUUiyqJeCkW5KiAiMYSF\n",
       "EEJQFCRVtlFsgnYmEeQqBbFYlBSpblVstFmwOlPcxiCKBDlypLeSkDSZ+e52du4nWziwyzffm/fN\n",
       "2+/NLIAK7jeIl3LaIKV3b3MvFoLZU/z1tR3yPYsECv9nnlxVkDIBte2aD8BlsknUF1OECUd9A2wD\n",
       "cbMdewCqvteUU49cL1wEDoFlINqo2DBIi4V4JttS8+K4HgwCZQtRCyUZnrgWYWdotVXSYp3+G+hx\n",
       "kDCxzibpvhsSld72F46ErXrkoeTFBn0DZ5tIPsQWmz2thP9QM3zrNfu9F3poTd1jXu8vY7uIFfCa\n",
       "lVpAfJrY/ta+XwKtsUc8tg1tBvOs7bdQbA51G2zotOpHMg+VIoGS8gEqyNjPXIRuOTuqo5jnWd8j\n",
       "Va8CHfQhAuVd+yS6VnYQmeHKiy5WKKkIdkeGbVKkUKCSY0PAigVtGmMMd/BI4/ukRG8fRJhfvaRd\n",
       "oNJpWQI+AjEdB0DY1V7GKbsj/EpYqJ6iWJBQ6aQqjjrLOmKjixXt3//5jbK7wzWTI3ObQ0/uRqG8\n",
       "klHp0K6fZ1iNPJSMnJ7MGQ235izoiv5i4leDFthB4Bp7xgNw1ZUmn/lpMJ6LeVpvMLl1pIK2DnMj\n",
       "0u49/2s3wD+j5YJTHh72LAAAAABJRU5ErkJggg==\n",
       "\" style=\"display:inline;vertical-align:middle;\" /></a><br>"
      ],
      "text/plain": [
       "<IPython.core.display.HTML object>"
      ]
     },
     "metadata": {},
     "output_type": "display_data"
    }
   ],
   "source": [
    "defaults.assumptions = nonneg_int_is_natural.conditions"
   ]
  },
  {
   "cell_type": "code",
   "execution_count": 4,
   "metadata": {},
   "outputs": [
    {
     "data": {
      "text/html": [
       "<span style=\"font-size:20px;\"> <a class=\"ProveItLink\" href=\"../../axioms.ipynb#integers_def\" style=\"text-decoration: none\">&nbsp;&#x22A2;&nbsp;&nbsp;</a><a class=\"ProveItLink\" href=\"../../../__pv_it/axioms/e46a1d95134476e91de118c3fe06344dbd4ecad30/expr.ipynb\"><img src=\"data:image/png;base64,iVBORw0KGgoAAAANSUhEUgAAAL8AAAAZBAMAAACSgeLGAAAAMFBMVEX///+6urru7u7c3Nx2dnZm\n",
       "ZmbMzMxUVFSIiIiYmJgiIiJEREQQEBAyMjKqqqoAAAB4Cw+YAAAAAXRSTlMAQObYZgAAAAlwSFlz\n",
       "AAAOxAAADsQBlSsOGwAAAtVJREFUSMellk1oE1EQx//ZfOwm24ZUkSKKLqggLZIclKJUEnvxA5Eo\n",
       "iYJF2INSUWkXhKJgJXipB4V4sBRRCXjrxahgha3SoiAlh6bpqfUrYj15iOYgCCLO23zubl40zYOE\n",
       "fW/ezm9m3szsAzjDG0Dbw91M+LV9/XCm+TIhy1nvsir50oQwST//+9/vpmaSVpGcFB7rObgW5szr\n",
       "t9dZdw495QN8CiBNq8h22kT9xMh3A0Hzsr9o1zLNB0gaHUQUUvKYTRQDxEeuJDrYxAjlDvbnStm1\n",
       "HGkSaLJHDKFXsB/GD5J8wxJ8bGJo7VsDAMsEAU6KqlXgYei9if3tAgYNZdo5e/BSzLdRKdIm4JaR\n",
       "MIo9D8QsA8h40gTgGN926MU/AFspjbDqTZTqbsoYmgFNM4An2tNjBrjrysMlX0EwVLaSM0ZY8Bsk\n",
       "KTo14/gf+mfMgP66gunypREmBeE8HxCmhiPlDwCKtUKiBkBUrpkAfYss91YMT1UlGECBXhTG+ATa\n",
       "gl7WMS439kDQaiEaYvkwWG9JARhjoVpsoNlV9oA8HGWKvlvOoAzAeZnNnlX6CmStTglp/0VZXjC5\n",
       "vy8W8L6tNtKREDzRDaTLmn0ieSUTXbrIZptYU8vZ0vQNdQ6y9Gitesb1gF8bwIkqgLJIVnJwvrKW\n",
       "sjRLXrDQnjE60EcI91QrwPkTUnaiPk3jtMc/6UakCrgPbH6Z0RcyEQvAUYTnU4YedhnT3SsfbsBW\n",
       "BykIV/MlwN2Jm6ynMWOG1ycirvjp+HG25xT3+OcaL3MqWbgzj9foNbxVBz7XPFjmAmItAZw7syhi\n",
       "YwngltIVgFDkAi5xGvysfY0dk5hwzOKBrut5vypEshWAV+MCxMbF4/xj7/nz9NehuqPq2ZIH2JKo\n",
       "1IEv1PI3ec91K/IgMyUM37AqK6XbiKTVf5N5Y7Wl+0M3pMNwPqenC0uA9h+3ijXdi7bruuktN7n0\n",
       "F8ThsLbbNjvSAAAAAElFTkSuQmCC\n",
       "\" style=\"display:inline;vertical-align:middle;\" /></a></span>"
      ],
      "text/plain": [
       "|- Integer = (Natural union {-n}_{n in NaturalPos})"
      ]
     },
     "metadata": {},
     "output_type": "display_data"
    }
   ],
   "source": [
    "integers_def"
   ]
  },
  {
   "cell_type": "code",
   "execution_count": 5,
   "metadata": {},
   "outputs": [
    {
     "data": {
      "text/html": [
       "<strong id=\"int_union\">int_union:</strong> <a class=\"ProveItLink\" href=\"../../../__pv_it/axioms/31e6cbad0d9a03d1ea440a81c786ffc1ff6cd5cc0/expr.ipynb\"><img src=\"data:image/png;base64,iVBORw0KGgoAAAANSUhEUgAAAIAAAAAXBAMAAAAxc1oDAAAAMFBMVEX///9mZmbMzMyIiIiYmJjc\n",
       "3NxUVFSqqqq6uroQEBB2dnYyMjJEREQiIiLu7u4AAAAPqInnAAAAAXRSTlMAQObYZgAAAAlwSFlz\n",
       "AAAOxAAADsQBlSsOGwAAAdxJREFUOMtjYMAKXjSg8llLGXCBt39OP2BY+RNVA/OOB2jK1M7hNOE4\n",
       "RwID3wdUsfoHGMqO4TQgN2AJA8MEIOMAiPcQLLYWU9lanAakH+AOYLgAZIAwQxjpBqQ6s26gzAA2\n",
       "BSvKDGA4wNOA2wAOs6eLDxMwQJHvHpoB0ghpLp5khvcBDAyWeAxgKaiZgGIA6xSEdAfvAYZ4BQaG\n",
       "+ALcBjDksaEYwJoNTFZ8e++CgMKD9w3gZMGXXYDbgGd8cC+ogQhF5GRXz8CQDfLKDix6uaAGMBmA\n",
       "EtFREM8ZI9kBdX/hQ0+csVINLNMYGBhB7ENAbAQyoAfk+n0YcTaLgf0f0KaVcAEmszMN7AnrGOSg\n",
       "BmwHYsYNQIJ9OwOfrwK6AayfGJg3OCELCQLVsDszMiyAGKD9E2g7H8gAhqi9u+0wUg3HBQa+lAKI\n",
       "kKOTsQADswPIMvVWgwVcgrKCEtgDFntK5POYwjCV4Q2Ix66wrgLqAhIMYH28geEfQwvEAEbmA3gM\n",
       "wJLsQImTzYBjAoP3mTNnCtgV+BZswGMAZrLjAyVOTgVGAQUtiAsY2g2g6QAbYBVDM4F1GUggnoFX\n",
       "XYEHlCBYGhiYExhIBm0MzEsYWEEJR3crAwMZBkDAqzNnkIpgAPEsh2TtAPitAAAAAElFTkSuQmCC\n",
       "\" style=\"display:inline;vertical-align:middle;\" /></a><br>"
      ],
      "text/plain": [
       "<IPython.core.display.HTML object>"
      ]
     },
     "metadata": {},
     "output_type": "display_data"
    }
   ],
   "source": [
    "int_union = integers_def.expr.rhs"
   ]
  },
  {
   "cell_type": "code",
   "execution_count": 6,
   "metadata": {},
   "outputs": [
    {
     "data": {
      "text/html": [
       "<a class=\"ProveItLink\" href=\"../../../__pv_it/axioms/e2602b723a6a465dad52c0654b84179fbea3e3190/expr.ipynb\"><img src=\"data:image/png;base64,iVBORw0KGgoAAAANSUhEUgAAAIQAAAAZBAMAAAACkpsJAAAAMFBMVEX///9UVFQiIiKIiIjMzMx2\n",
       "dnYQEBDc3NxEREQyMjLu7u5mZmaqqqq6urqYmJgAAAB66f/FAAAAAXRSTlMAQObYZgAAAAlwSFlz\n",
       "AAAOxAAADsQBlSsOGwAAAkdJREFUOMullU9o01Acx79xL033kqYBRarsIGMwtQejoKwIUujFmzkq\n",
       "IvTgwYtYkcmcottlBLGiJ0UUnxMFQVwOHtSCTOzBi1oVdxDEePG0wQ6D4XDge0maZmkytHuQV/rN\n",
       "733ev+/vFwAL2EBzRKc5G0GMie5JXKXfY8KlWjpCN3l3HXSPfQfymdOBWvoWCyMFls7YDShVIDv7\n",
       "CZgJNG2lKyxrpCP2AqoFSMOyi0ygyTu6whKksM0w5Fsc8Q63sKk3RL+LI3yf0mXzQq8IdQL7+I9U\n",
       "29Jn9Yjoq2Kbh8iinoT4sn10xFwfkVuB7SGIMz3dXtmNzntr0qTL3kypjSzhpofAvDYVaOfdzgyt\n",
       "nVCW+MX/SUcoqyj6CIlt9aWz94RjB0UbonTVt8mDu6kIHhKsghrBRsiLiBW1RUhiX8daCYMtfxXh\n",
       "RlDJJliRj8+7LGZYpXgCv4wgSUGWURCjyvzIDgMsfiMZCx+ZBblznJVCHW9kprI2gt/IAeGwWd69\n",
       "BP0dR1wpo6SXI5L6nHcfTEdulwroVfxgIPdP+Uk/yGKIz/wk531Jf105CBwSavP9ORnHG8WGOCHV\n",
       "QCZyUhpLd+ezOTdToxMeQn76NVwFzxHVioSuY/DxEvIs53mmCWckRPBMJRHnPQxM35VK4mI3Yw76\n",
       "bdu+xhGP+kPET/4MdEJN7866rfhYTH4SDUIsfxW5t6EvhpNq58WBmDAqBGURQ01cFf8XvFoVqZ2a\n",
       "9U+lOmdgv4sx7iCyi+fDmgr+X98RetSurxFeAX8B0+qLVuUVKfoAAAAASUVORK5CYII=\n",
       "\" style=\"display:inline;vertical-align:middle;\" /></a>"
      ],
      "text/plain": [
       "(Natural, {-n}_{n in NaturalPos})"
      ]
     },
     "metadata": {},
     "output_type": "display_data"
    }
   ],
   "source": [
    "int_union.operands"
   ]
  },
  {
   "cell_type": "code",
   "execution_count": 7,
   "metadata": {},
   "outputs": [
    {
     "data": {
      "text/html": [
       "<span style=\"font-size:20px;\"> <a class=\"ProveItLink\" href=\"../../../../../../logic/sets/unification/_theory_nbs_/proofs/membership_unfolding/thm_proof.ipynb\" style=\"text-decoration: none\">&nbsp;&#x22A2;&nbsp;&nbsp;</a><a class=\"ProveItLink\" href=\"../../../../../../logic/sets/unification/__pv_it/theorems/8a83e46aa085b339c3311b2872cfe91d0e3b27500/expr.ipynb\"><img src=\"data:image/png;base64,iVBORw0KGgoAAAANSUhEUgAAAt8AAAAZBAMAAAAbCl93AAAAMFBMVEX///+IiIgiIiIQEBB2dnbu\n",
       "7u5ERETMzMzc3NwyMjK6urpmZmaYmJiqqqpUVFQAAAB6qHgnAAAAAXRSTlMAQObYZgAAAAlwSFlz\n",
       "AAAOxAAADsQBlSsOGwAAB6xJREFUaN7tWn1sFEUUf3e9vdve7l6vEBqUWi9HCBFjchgIhiipSfEr\n",
       "AQ5FDMHgacKV1CgLRfwLuQI2GhLaGDHGgJwBRROqB5TwUYrHP1Uo6lEaE4TIVYMmxkhjRGgi1vnc\n",
       "nd3b3bsifxTjS2Zu3s6892Z/++bNm2kBKqAf4hn4n24BTYgXKhrXOY7fQcZVppJBZZ7YKDOmCVQw\n",
       "hoxT87c94Heh4nPzG5nNPBx1EnOkN9nvB2OZgKdxZp/MAQFexA8ulgM8gn+0/PjDW2tE1aBbb/Uw\n",
       "a9Q7iTnSLvbry49hAt7Gmf16CvgxzL9bDnAlizWMw0i+DBXJdQVe4u9cnURVBFehKBdzxm+Ut7aD\n",
       "VcRCl3G1xlOTaZzZxwUB/hp2/lQ5wEN4IbSPw4hyHBXF1RlPXGcNNYcrDFxQ52KOpFzhXtUPVhEL\n",
       "ncRVs6cm0zizT0qe4B4olI3h+HsvGIeAJ1Cpsjypi8e5xwe2XONPZ+MqZsTohJvIY4s4ulVJq4iF\n",
       "/EaMTlRgnNmfTQDH+2Z1+U3zzPjcOzU8p/Pik08mme023w3e3AHMY3oNMScROXo3d77qvEXESthF\n",
       "lYKXJtE4s7+DZin3x+OzygNeFY9PbRx/gCt4Tt2oLG54pgkDIG8XenPaX7y5kGcgMS4m1V5eR9as\n",
       "KKLAJR6fAkWLSGkG4jcmUM44s7+QAn4YYGV5wBUdgsnxBzhxQ+w9Od+QErNt7OFC6A/ePkW2QB18\n",
       "US6mQEP0ANhEumAjdyu10yJio58Bao0JlDPO7J+igG8Duej4MgERcDRmm9gpuTImWT6QUhINMiVj\n",
       "XDXZO31GLMWOdR96kYx6NYLfvdpiUv6bt8/hCm39/iQX+xK+Sf4KNpEcdHAwtIRFxEYo15jGNZU1\n",
       "zuyfo4AHk4GsVdmm7qw6T4QIf+uV8IQ45indjTHxmSNyQXv36dIxbppKO3N8Z8NTn4twAYUG09Y4\n",
       "IpZ01fWc+BOZIM69EWj6e8EQ0+Eo2EV8L/ZcSYHU9BvCODRsEbEvrYyW45o8jBu0kRYMuBYVP0yo\n",
       "IZ3VivPhkB3ws9Y9c1HBjTFXyA03wNf81AJSURij8CXANCnikrB3YtpjAxy16MJfKnxw9OR3ZGwC\n",
       "ZnaTR4PsxEHEYCbYRRYD1MSQMRwgwgmLSMl5h8YPqsnVuEG7aSFH+86TQkcP8iLtpAKNdsCrVTGU\n",
       "hVujLoxJe2e6AK4cxlVWGIM7I4Imzjt2GgcZIaQAfJaRkixfEz7UVFQGgFfgD6VMsfB1eBqsIshp\n",
       "/Qmoycooo9NiFhE7xdabmjyMcxqghQC+AO2t6vE1Db4+nR5otQ0fRxsDPQd6jgmAB84jlb4pbUfo\n",
       "2qsW4r6FMSn6fingREG9+ZpsDMeUa3IEXDTDTw5B/A2eR76V/ZHuOcIOt48d1AnWfdT811kuJrVE\n",
       "EtBoFQnnyYFcTWLA1ZRFxE71vxgT8DDe/0Vtsb6Z2e9jgG9G7/Hs7nxV0Veki0LT539X4uEyiuow\n",
       "OZLaSYFShABjYYSN7Wgp4FiBlDIuifgYjinX5Ai4aEbLCbkbSrcuvXIQZRiYdhqZGw4JqzMM8G66\n",
       "0O8xxLRryxPhglVkM7aGz4eBGEv4DBFpBFXPdfIK4MlOYwLuxqXTD8I8aGD2uxngKPOB1++AGh2Z\n",
       "2EcBV3wpO+A4EYJ8MEo2rrDuS4DMsknCdE2xO8JemFgKOFYQJpnuR8aY9iTH1NDkBDjpNHyRrfMQ\n",
       "XvdrAZbXascpeitaaLSRVo8k4dvRtxngM+j4XkNM2h+98BVYRJaObgdt9QgCei164M9aRO7FqzLH\n",
       "K3bsoRNwNy4v7oRrBOwZtJjXs0PQiuPRqXQ6XdB0qbGzBHBCNTTTVJoWXoUN08BkEtKwDfDupivJ\n",
       "0hiOFKjvpNMvwfd8TGjAANzQ5AQ46TT2dh5Yp2MILKnNnhfi1gWHAZdth5fp4CVCXGlTZScBb02R\n",
       "aCiB9xhsHxcT8DlQBx0hWEc9HLqitjycUSu9mI8CjnIMcMJkQgl7RIEOXe09c2xQFwFHCkJkra7n\n",
       "Y3CeG6GYGpoiIuBiZ//F/q5HhZBCrpjUnCckAw73W/2eElvhDa9bqTFoqtJ9KXlYJ/ZxMQCXh5GP\n",
       "9yn0NKlmwVd0+gOEnHgcclIj2VxuEMBNJpiFJZhlFQ5ONQWtDuayC+OgoYAebP3AxmDAQ5dB6hU0\n",
       "UZ6pEjvPpqqyg+L2FMQOsKos4PaLzqDXTbPc/OqhsjeoFWmCDuTjaipH7LeDAHi4iNLNbZOQLRwT\n",
       "UebpCDjs31ObDD0EB4uwfCSLATcZlOq1FkIPQGsGVwVlHkifvwfNUicLdkFDAbTrdKJsDD7JbU2/\n",
       "rAuaKE9VZcTOoL6MBFXjNckOvNTrnbfserj0k0hecFaNjg6XAbJCTfApOiHJQ0lifxU4/YltSTqd\n",
       "dbpLEXN+3pgmMIEk8jnzYMJbMa3Rr9rzcOmRdAuEjasw29GZaHIjPzqIxPIixG3kjq8MKr4S9NrK\n",
       "ATm50uuctgrGYPtkDjf1N80P+XlxVsFkdo3GIGwgx1tS0ZeNTHY+2h/h+99E6z071uRKK+BOGMqY\n",
       "wrcb3RTgeTdGdWi536UE/sXlo5r9bwP+1i34vxTZ+zJxbCTdpnhPmJr/B21zPrH1f51EAAAAAElF\n",
       "TkSuQmCC\n",
       "\" style=\"display:inline;vertical-align:middle;\" /></a></span>"
      ],
      "text/plain": [
       "|- forall_{m in NaturalPos} [forall_{x, A_{1}, A_{2}, ..., A_{m} | x in (A_{1} union  A_{2} union  ... union  A_{m})} ((x in A_{1}) or  (x in A_{2}) or  ... or  (x in A_{m}))]"
      ]
     },
     "metadata": {},
     "output_type": "display_data"
    }
   ],
   "source": [
    "membership_unfolding"
   ]
  },
  {
   "cell_type": "code",
   "execution_count": 8,
   "metadata": {},
   "outputs": [
    {
     "data": {
      "text/html": [
       "<strong id=\"spec1\">spec1:</strong> <span style=\"font-size:20px;\"><a class=\"ProveItLink\" href=\"../../../__pv_it/theorems/d82a9927958f2919b6e25fa4d8e512f4047160210/expr.ipynb\"><img src=\"data:image/png;base64,iVBORw0KGgoAAAANSUhEUgAAADIAAAAQBAMAAACmdTG/AAAAMFBMVEX////MzMwyMjKqqqoiIiJm\n",
       "ZmaYmJju7u5EREQQEBC6urqIiIh2dnZUVFTc3NwAAAAqL9KcAAAAAXRSTlMAQObYZgAAAAlwSFlz\n",
       "AAAOxAAADsQBlSsOGwAAAN5JREFUGNNjYMAAzJo/NVw6EzAlGLh7BRgUmLBIMLAGMHAnHMYmw/uA\n",
       "oYK9AcWUFhcnEM3OwBDIK4AkwaVdAGMyXhAFUXx39m0A0Y/gEgwcBe0gauUDju8gWg+h3YYNpJZ9\n",
       "GgOrA4irgJCBuJn1AwPLAZDZU1xcXDwgTjE4xcBQwMDZwFC/AKQX4c4KPiD7HkP9BoZ8MN8BLnMR\n",
       "6CP2Dwz1BgyXmB8A+bvhbg5YCvSuAwPHBmZXVpAAkwHczeoMfM0NDOy3D77dCPb6jeUQmZVNMzrm\n",
       "zziAHAgnIKEDBQC4NTJlmjuxlwAAAABJRU5ErkJggg==\n",
       "\" style=\"display:inline;vertical-align:middle;\" /></a> <a class=\"ProveItLink\" href=\"../../../__pv_it/_proof_nonneg_int_is_natural/f7da159c62bf3ee9bb9ad629aee10519fdcfaa890/proof.ipynb\" style=\"text-decoration: none\">&nbsp;&#x22A2;&nbsp;&nbsp;</a><a class=\"ProveItLink\" href=\"../../../__pv_it/_proof_nonneg_int_is_natural/d42a0dc17045bdcc53cd0ca8a6b91813e4d8cdbd0/expr.ipynb\"><img src=\"data:image/png;base64,iVBORw0KGgoAAAANSUhEUgAAAOsAAAAZBAMAAAAifsT0AAAAMFBMVEX////MzMxUVFRERES6uroi\n",
       "IiIQEBCYmJhmZmYyMjLu7u52dnaqqqqIiIjc3NwAAACW8nlqAAAAAXRSTlMAQObYZgAAAAlwSFlz\n",
       "AAAOxAAADsQBlSsOGwAAA11JREFUSMe1lk1oE0EUx192u8lms7ssQkvFQvciErVlNXpQVIKIIn7l\n",
       "ElDxUKTQgyBWROqhGKpitT3kUBGKlFD1JJpYsIWiENCDUrDbCh4USxAqeEpFqZCTb2bysbuZbRur\n",
       "D5LMxz/z471582YAGrNQHNZr8l/85+26qaBb9Kfgr6ibUtJ84SNPEPT3K3D7yZeWr594/HNPBiaX\n",
       "4ye8E+Il7kLaSMYzsmGvP1Yi4hnezL4mE5Ql0LyUb/yFZjN1Qzv9sZrpF7bNhSmALoBR0hHIogGb\n",
       "NIf4C71Y01B1p0qYV9ywbbfCBUgA9NHsJUTRIM1f/wIL9wGCroEPyST1vrNfTxNskEYPG/CdNAIl\n",
       "rrpR7A2Ad87+0U/lRqdgfCa0MI3FS/wM011JcNWNYj+y3dK3LdCd00crE51giXFkREwoe0qBQpqr\n",
       "djKa5p+92r8K9lSGxBkOF0QavXChhm1VziIpRIMoGKBRkmhx1XCntmRE7IBsgXrka+0GnMPM6gGZ\n",
       "OhOGGjaUf42ZrHbRLTXZWYOwyVXrPbUlD0kWFDH9inl/bDEO3ZjMSyDlSLcliWYxLGwVEBlYorqx\n",
       "clGUUjy1HsUapdwj3aSRycbpMVai/twsxQYt0kB76PAWxhX0qYl6iyVlDCrectStzpI0CxAlwR7h\n",
       "8CJlb2mQszZcZ844sQEbPVFZ6koBq4rlqF0lCZm/FW/hWhyKh85XL5/2AmDWZfMQVUl+sLwhtgM/\n",
       "c4gKMZx2mZV6weKqXWl7AdQSejVZHQjMx+KqOQ13q1jM5AnMT1s9zQYeVKSkIWMWyzlWzs6Uq2kX\n",
       "V+3E6j9AS/c6hwYxwdR+GXJV7FWAZly04/nXOdof38VCs3HZYtVaKl9ow+VDWeKp3ec2AcqWPBvq\n",
       "6/2SYteJ2nbSzkUGbw3eJJoBXNhw7sGx3UnX1bDoyYlu4Kr5VUq50gMXWeapxvSbmrdYK0KplV4C\n",
       "tz39hm4g/WkaSnCEYWXNqmDJDQQHVn9/1KzFt8h6jRQuwcYDeC0Wi+VVQ8mlK9iQ6Tp+9SZ6XzUC\n",
       "vwbUlySFFK6gIaeMTcxbOG5Xzq1EVtVtf+zCGt9S+oCHq0+QgSJIbYaYYQ9OzXS9pRqzmUbEB0Gb\n",
       "Ap3UgGascqbfzv2fd/KTWMz1Jxnd/wOIVeEGxu8YHwAAAABJRU5ErkJggg==\n",
       "\" style=\"display:inline;vertical-align:middle;\" /></a></span><br>"
      ],
      "text/plain": [
       "<IPython.core.display.HTML object>"
      ]
     },
     "metadata": {},
     "output_type": "display_data"
    }
   ],
   "source": [
    "spec1 = membership_unfolding.instantiate({x:a, m:num(2), A:int_union.operands}, assumptions = [InSet(m, NaturalPos), *defaults.assumptions])"
   ]
  },
  {
   "cell_type": "code",
   "execution_count": 9,
   "metadata": {},
   "outputs": [
    {
     "data": {
      "text/html": [
       "<strong id=\"a_in_int\">a_in_int:</strong> <a class=\"ProveItLink\" href=\"../../../__pv_it/theorems/d82a9927958f2919b6e25fa4d8e512f4047160210/expr.ipynb\"><img src=\"data:image/png;base64,iVBORw0KGgoAAAANSUhEUgAAADIAAAAQBAMAAACmdTG/AAAAMFBMVEX////MzMwyMjKqqqoiIiJm\n",
       "ZmaYmJju7u5EREQQEBC6urqIiIh2dnZUVFTc3NwAAAAqL9KcAAAAAXRSTlMAQObYZgAAAAlwSFlz\n",
       "AAAOxAAADsQBlSsOGwAAAN5JREFUGNNjYMAAzJo/NVw6EzAlGLh7BRgUmLBIMLAGMHAnHMYmw/uA\n",
       "oYK9AcWUFhcnEM3OwBDIK4AkwaVdAGMyXhAFUXx39m0A0Y/gEgwcBe0gauUDju8gWg+h3YYNpJZ9\n",
       "GgOrA4irgJCBuJn1AwPLAZDZU1xcXDwgTjE4xcBQwMDZwFC/AKQX4c4KPiD7HkP9BoZ8MN8BLnMR\n",
       "6CP2Dwz1BgyXmB8A+bvhbg5YCvSuAwPHBmZXVpAAkwHczeoMfM0NDOy3D77dCPb6jeUQmZVNMzrm\n",
       "zziAHAgnIKEDBQC4NTJlmjuxlwAAAABJRU5ErkJggg==\n",
       "\" style=\"display:inline;vertical-align:middle;\" /></a><br>"
      ],
      "text/plain": [
       "<IPython.core.display.HTML object>"
      ]
     },
     "metadata": {},
     "output_type": "display_data"
    }
   ],
   "source": [
    "a_in_int = defaults.assumptions[0]"
   ]
  },
  {
   "cell_type": "code",
   "execution_count": 10,
   "metadata": {},
   "outputs": [
    {
     "data": {
      "text/html": [
       "<strong id=\"a_elem_union\">a_elem_union:</strong> <a class=\"ProveItLink\" href=\"../../../__pv_it/_proof_nonneg_int_is_natural/40fea7de8588d9f799914868eb2f494c6895251d0/expr.ipynb\"><img src=\"data:image/png;base64,iVBORw0KGgoAAAANSUhEUgAAAioAAAAZBAMAAADtbxiqAAAAMFBMVEX///9UVFQiIiKIiIjMzMx2\n",
       "dnYQEBDc3NxEREQyMjLu7u5mZmaqqqq6urqYmJgAAAB66f/FAAAAAXRSTlMAQObYZgAAAAlwSFlz\n",
       "AAAOxAAADsQBlSsOGwAABhBJREFUWMPFWW9oW1UUP2lemuTlT4MrtpN9qKWy1n5Ypqy2OiSjMIV9\n",
       "MOAHN9wgiGD9MJtaWloVl02ssayzU2hnmfo2cHQoaxwbTCu1aosTUaPDIoqYKe7LJhSUDcoKnnPf\n",
       "vS95791XktcUL+SX5r57z++8c84999xbAPgbKmzRvNOTikVJWg4/IRBQPn21uHUI5yqd+43Tg8pF\n",
       "SdoQfvwZAWXTV41bh7MEfueRaWuHOu409KxDv/qbpeOl9BqRGEf4EwRAmfTV42ZwjH7ulAz5uvfZ\n",
       "I63PwRVrf6AA4YmbJ5pHCtYnx0Ddlp0CX+9Bc3/XL5aBSqPmrNq9+KnRBICEXtaqx03gT1H4JSUj\n",
       "OushCOPgtWoxCOA9nIDxoHUCiQrM/wAwYwnuFfurxZw1244fb0yArQ1KJ1WRmyCUdAq/WYCHffMA\n",
       "U/z3fv59ESfl0Fj7rRNIlGerrwC1xM3Cly12X5NNtqTLaDPoS5VeRl2RPb4onWTiBpaRPnDJTVBH\n",
       "GX1ONqIB1Mw0fl/nC7SN968ifxqmVVsyJFGeyzAJNRT+zIMxF5oFKTjfBQHWtiqdZOIGJr3PLTfC\n",
       "Y2SdVOkT75FmZgANQol6/K7V16H3qr4jKuhBFeCCJ2EVSaI8L8eH12mVEJn7EgjgYS+SgbIi09XM\n",
       "7d4qjBvhPlp8pWk98paRjXYpOWE/fE1FDw4vE6rE9thEkihPut6bXJ9VvOSjDhDAjSEi09sk1dXE\n",
       "7d4qjBthM1+U0Pd4P3swXEzRo8xDPj07LWJ4UvOM674btYnczDQLwNgaVrly10BnfG3NIhQNv2sC\n",
       "ePuLfzN6u64mbgerlMuNkOXREHkG3mAck8X8nWQVQ1SPpElePgWY1xbZrg5wvpna3ezvLNNMyZ0+\n",
       "bbZKqCQUk4fj6i3uE4em/EsrIiGAU2zjVRrRS3Q1cZdYxQ03wnF6A9xpzhTgPHtQFBPU/w6n9CXD\n",
       "64cge1P7vgxMFObhG+ERs1UGi3t7JN8KfmT233bWzE/59FBegFE+zYOgl+hq4i6xihtuhHbKp8j+\n",
       "GcA97O2fQse0siE7fXnKq8oyi9wEeFl41JDTvPMHKB2bW7uumUe702SVvndo72cOb1HVVb2EOHXS\n",
       "UTOVNJvJCzC6J/KCXqKribtoFVfcCMe5VXr0HihuuGpmiDFFUryiVpuMWJmmQ0qDPFbUmLGCFBqr\n",
       "XCoxX3hZzwz7ZEc8vZYkf8KhhADRhp8wYsWuq5lbt8out9x+YwWp/0CUxQQYuciTaGClYrhJ1HCf\n",
       "GlapJw2WLXmFawbdVMEF0uJIYSomUa26gmYpOf3tB+BajJ9WQblFKSUtgFM08xyC9BJdzdzwmnGM\n",
       "csON0EhT46Dexklf0YP7xfg9ERx5B75aRigwzGTjTyX3K/5hzeVMFLrX+yit4oyxR5Qm/dokfK8l\n",
       "wVfMeN2NY/C5TwtpQjP5HvSzeLWMTFczNxvsn3LLjdDB995X4IscexKcF/tyUIOhy3zfZl4nWpbC\n",
       "A9oU+I9ai9sOMftjnh3PtdgKBFwUXdFESVfoAsJ38ZxP3GxAlLS+BgK4S8dLKgq7rhbu8ElQ/0i4\n",
       "5UYgfyg47tSORzYxOWqjfsqM9ExkR26+iuuLlqGH3KbEuTmXXu/J9vZYj5QoSnmvx7ic2NfGa6xS\n",
       "zX5Epht6V3Su+yE8alHvwrf9Pnhytn2WqEIU9B+BAL4hJ0oqCpuuVm4YePPtB11zI1CmhRZTJbO3\n",
       "ua309/OWlz/olMBrHe7oHOrLc0uF2rSeMBd8H/5k+Et6DvLL6Q1dq8mNwNbH9bUuqObKOrSKErl8\n",
       "zV7ogjotwuqJBch1Gpq5PjNXiZtASYkNw6mwsaaP3Y6FYWqNw4XlJShNbIIliJ7IZo+iZu8HDc2u\n",
       "0tKOCbC13RvNzWCLeeO3X9JYLeaZdxq6xcGu9mLyDLnpaZhVlKTur8iXRs2wlWqFtABbc6CvHjcD\n",
       "lp76na3ywPrvbV+0qjxAHf5laFmAUX4/v32D7m0r52YQTlZ6E77oeMdfkahIDHYUYAg3E6UNa/Wy\n",
       "7/gXN5Zbh//5/0Hq3uyYqeMTWvqagA39f5CUm+A/I0UUQjIDLyYAAAAASUVORK5CYII=\n",
       "\" style=\"display:inline;vertical-align:middle;\" /></a><br>"
      ],
      "text/plain": [
       "<IPython.core.display.HTML object>"
      ]
     },
     "metadata": {},
     "output_type": "display_data"
    }
   ],
   "source": [
    "a_elem_union = Implies(And(a_in_int, integers_def.expr),InSet(a,int_union))"
   ]
  },
  {
   "cell_type": "code",
   "execution_count": 11,
   "metadata": {},
   "outputs": [
    {
     "data": {
      "text/html": [
       "<strong id=\"new_assumpt\">new_assumpt:</strong> <a class=\"ProveItLink\" href=\"../../../__pv_it/_proof_nonneg_int_is_natural/44e6866d5ddfa5fccb156f74bf0f610cf89738f60/expr.ipynb\"><img src=\"data:image/png;base64,iVBORw0KGgoAAAANSUhEUgAAAVgAAAAZBAMAAACGMSsOAAAAMFBMVEX///9UVFQiIiKIiIjMzMx2\n",
       "dnYQEBDc3NxEREQyMjLu7u5mZmaqqqq6urqYmJgAAAB66f/FAAAAAXRSTlMAQObYZgAAAAlwSFlz\n",
       "AAAOxAAADsQBlSsOGwAABQJJREFUWMPNWG9oHEUUf3e3m7vbvbscJpq09EMJkaTmg9tqbWKLXAmo\n",
       "0A9d/APRthCk4PmhzcWQkqropmI8Q6NXhbaGituAJUXpHdKgbSCemmKjaKPFYBXpmUK/tKUBtYXa\n",
       "gPNmdnZv/9yGJgacD+9m3ryd+c2b928OAK7BcrbE9NLXKJgkVlhWsN/9B2v0meQ4kvAil8ksJCDl\n",
       "KvB/dzBe8VkqoXDyNg43eYhMdb2wr3m3P5bzZi928MbhhoGSUyBSku7PDoPYtcvOb/vVISjU65W3\n",
       "uc8g4U7cSfWQaK2FKOQqr/D0xgyETHSh/hTkoi6hPQRv8UeAvJ0du+WSjCQrb7XWILLKTcHZxgEe\n",
       "EYt23nFLddGi1AQwzIdygSDf7lpkDCDQJJagCgcako+RiKtdkh4ss+V1RqrRWye8JOpA0kadpvaE\n",
       "wruzAB0AV/gwkIFRSXMtMk9mzsIhCOKAwuleBNhoiZGtCLqzfCa0r2EN/uogp2pd36171uj0A5zT\n",
       "oYpbmgRwMpBySgvkugOvKnuXCFbWGFmHFlRumfH3TEvfLHiEtVkD7T8AW4vszAaw5BaXcGg16rw2\n",
       "pC4NbKiTkRVg2G33kz10Yq/llYMR3g/fvcG8/6nPqCYRbAlEyy0i+qBrl0AOwUZgyAfs+ZW9rYo/\n",
       "2PgtRrKGScSfh3cotEOWy6qXeHcmE7H898JKhP83AatAwrqUMwl2HrmBNnqKiIZghcLIiB2sXHaX\n",
       "ar8i3TS0V6EJfzFygPwEic8fK8GndMJaxgpc0m6QrYNfGORgVYhZW3gELogmqetdjQ3Ywe6xrCc+\n",
       "3QxhAiZ8uzLY8DwjLeSnikSELwDupYd4jmilmYpsEqfRb1ARcxA0Q/FUHcVPwF5UQJgz7aq4A53S\n",
       "3oIFCjag32MD2/0BhkF6AY2SNM/C7tEjlfPgPCMHDLBpxgEr/EhaH90JBTTI84Jk9rTpYOeKEDc1\n",
       "OxrWMNx5alZKWmawGTXyedmpYnPUtOEZr5KHqQg1j8QwA+lPSDAlmdcdSNXxzJNX4LozdBFjv65D\n",
       "zBSvRVBzDps1wEJ7BEdvIrnkTFcEaXVJdyS1cMsOuJw0ai0QbjJSj58qIN0mH32DEw9w+S1xInkX\n",
       "NYR8EVbEMvakcBngFCkvNBZjQSj8RvZ1enSATEdI9A09jqNfEMWwMxpUqSRgqyBa1t9ePwRfirqs\n",
       "c7A8GjyEn5IjvA5fFQosjfLAFdWh7yzkc3iaWIvsSLfBorTTiHpURB+G8H7NI0DSBU/RCz8C0mzK\n",
       "Cfa1FLQlUmUs+SQhPygFkVexkOhk5CKBLxC5o+sfq6HrSPWsIIqnD2YHbrwBQVLtSDVPdT/oNPqx\n",
       "tUQ+iIaGIjNvpbNdadUdIIUP02b10fvu+w+7MsBPZPOrjJWYaN9IKhLkTn7fI8K28ZZx3EBOMoLO\n",
       "BY22DTpYuuXtW78a8cUFRHZ5sytksBMzpaoMc/FJ8ZOfTc3y2oDe4xU/PKrf5MQCImN3BPalNqjW\n",
       "49TUJqHQaoLlVZeA5hDxKdMlpWwwwmKj5bSaS8TeHvVJ9o5iBcNXDcxA4nA2u5+A/Shqgv2Dk1W2\n",
       "4Oqxrp9i2Sl9RAJF75TkTlfHUKE7YVwQVKbZ+NfmnTVxQk2/Z5FvsA2LfYO9vMrB6EVGeA4aJ4HW\n",
       "Q9eM94H9DRZTl/V1e+ZOhONJWF+CPhJlhDUkSbtft/+//w2kjuyQjXHaIP8C/MpKkuC6hBgAAAAA\n",
       "SUVORK5CYII=\n",
       "\" style=\"display:inline;vertical-align:middle;\" /></a><br>"
      ],
      "text/plain": [
       "<IPython.core.display.HTML object>"
      ]
     },
     "metadata": {},
     "output_type": "display_data"
    }
   ],
   "source": [
    "new_assumpt = [defaults.assumptions]+ [integers_def.expr]"
   ]
  },
  {
   "cell_type": "code",
   "execution_count": null,
   "metadata": {},
   "outputs": [],
   "source": []
  },
  {
   "cell_type": "code",
   "execution_count": null,
   "metadata": {},
   "outputs": [],
   "source": []
  }
 ],
 "metadata": {
  "kernelspec": {
   "display_name": "Python 3",
   "language": "python",
   "name": "python3"
  },
  "language_info": {
   "codemirror_mode": {
    "name": "ipython",
    "version": 3
   },
   "file_extension": ".py",
   "mimetype": "text/x-python",
   "name": "python",
   "nbconvert_exporter": "python",
   "pygments_lexer": "ipython3",
   "version": "3.7.3"
  }
 },
 "nbformat": 4,
 "nbformat_minor": 1
}
