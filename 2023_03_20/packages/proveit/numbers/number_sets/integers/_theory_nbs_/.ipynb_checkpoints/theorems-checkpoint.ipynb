{
 "cells": [
  {
   "cell_type": "markdown",
   "metadata": {},
   "source": [
    "Theorems (or conjectures) for the theory of <a class=\"ProveItLink\" href=\"theory.ipynb\">proveit.numbers.number_sets.integers</a>\n",
    "========"
   ]
  },
  {
   "cell_type": "code",
   "execution_count": 1,
   "metadata": {},
   "outputs": [],
   "source": [
    "import proveit\n",
    "# Prepare this notebook for defining the theorems of a theory:\n",
    "%theorems_notebook # Keep this at the top following 'import proveit'.\n",
    "from proveit import Operation, IndexedVar\n",
    "from proveit import a, b, c, d, e, f, g, h, i, m, n, x, y, S, P\n",
    "from proveit.core_expr_types import (y_1_to_n)\n",
    "from proveit.logic import (And, Equals, Forall, Implies, in_bool, InSet, NotInSet, Set,\n",
    "                           NotEquals, Or, ProperSubset, SubsetEq, SetEquiv, EmptySet)\n",
    "from proveit.logic.sets import Card, Disjoint, x_equals_any_y\n",
    "from proveit.numbers import zero, one, num, frac, Neg\n",
    "from proveit.numbers import (ZeroSet, Natural, NaturalPos, \n",
    "                             Integer, IntegerNeg, IntegerNonZero, IntegerNonPos, Interval, Complex)\n",
    "from proveit.numbers import Add, subtract, greater, greater_eq, Less, LessEq, number_ordering\n",
    "from proveit.numbers import Pzero, Pone, Pm, P_mAddOne, Pn"
   ]
  },
  {
   "cell_type": "code",
   "execution_count": 2,
   "metadata": {},
   "outputs": [
    {
     "name": "stdout",
     "output_type": "stream",
     "text": [
      "Defining theorems for theory 'proveit.numbers.number_sets.integers'\n",
      "Subsequent end-of-cell assignments will define theorems\n",
      "'%end theorems' will finalize the definitions\n"
     ]
    }
   ],
   "source": [
    "%begin theorems"
   ]
  },
  {
   "cell_type": "code",
   "execution_count": 3,
   "metadata": {},
   "outputs": [
    {
     "data": {
      "text/html": [
       "<strong id=\"zero_is_int\"><a class=\"ProveItLink\" href=\"proofs/zero_is_int/thm_proof.ipynb\">zero_is_int</a> (conjecture with conjecture-based proof):<br></strong> <a class=\"ProveItLink\" href=\"../__pv_it/theorems/5f598aa5221de43b5e98d614f0c7f6ba2eb6c5d00/theorem_expr.ipynb\"><img src=\"data:image/png;base64,iVBORw0KGgoAAAANSUhEUgAAADIAAAAQBAMAAACmdTG/AAAAMFBMVEX///8QEBC6urrMzMxUVFRE\n",
       "RESYmJgiIiLu7u6qqqoyMjLc3NxmZmaIiIh2dnYAAABcDckaAAAAAXRSTlMAQObYZgAAAAlwSFlz\n",
       "AAAOxAAADsQBlSsOGwAAAPZJREFUGNNjYMAAnAs/Li0PTGBg4Ht7GlWGN8SAYQEXkLGSoX0DigzP\n",
       "AQbehJcMDGwFDHwBKDIsGxhaOYBCrA4MnD8gpoSXV4FoDgaGwywGDAz8BxiYf4IEmNY2wHQxO9gA\n",
       "yX6gzDcQdxdcgoG1IQJI7n/AwPwXxF2NsGke2wWozD8QdwFCBuxmhv4HDEwgPczi5eXlpRCnTHjE\n",
       "wNAAcgEnyAUcCKe3cgPZ3gysAQxsYFcXwGWcgT7i+MDAJsDAA7biLtzNB3SA3gUqrGRoNAAJcE2A\n",
       "u3kFA3ck0MCet85gAQ5XDYiMYpRoqLzoA6TwYnoKCR0oAAAtiDr7xf85TgAAAABJRU5ErkJggg==\n",
       "\" style=\"display:inline;vertical-align:middle;\" /></a><br>"
      ],
      "text/plain": [
       "<IPython.core.display.HTML object>"
      ]
     },
     "metadata": {},
     "output_type": "display_data"
    }
   ],
   "source": [
    "zero_is_int = InSet(zero, Integer)"
   ]
  },
  {
   "cell_type": "code",
   "execution_count": 4,
   "metadata": {},
   "outputs": [
    {
     "name": "stdout",
     "output_type": "stream",
     "text": [
      "Renaming zero_is_nonpos to zero_is_nonpos_int\n"
     ]
    },
    {
     "data": {
      "text/html": [
       "<strong id=\"zero_is_nonpos_int\"><a class=\"ProveItLink\" href=\"proofs/zero_is_nonpos_int/thm_proof.ipynb\">zero_is_nonpos_int</a> (conjecture without proof):<br></strong> <a class=\"ProveItLink\" href=\"../__pv_it/theorems/3c97d38be0f40f0a3380f6c0d1b818cd67b4160e0/theorem_expr.ipynb\"><img src=\"data:image/png;base64,iVBORw0KGgoAAAANSUhEUgAAAEcAAAAUBAMAAAAthD11AAAAMFBMVEX///8QEBC6urrMzMxUVFRE\n",
       "RESYmJgiIiLu7u6qqqoyMjLc3NxmZmaIiIh2dnYAAABcDckaAAAAAXRSTlMAQObYZgAAAAlwSFlz\n",
       "AAAOxAAADsQBlSsOGwAAAVJJREFUKM9jYMAHOKMZ+N4+YMCvJpaBIZdBFa8atjAgIczAvwGPGt5I\n",
       "IMH9g4FxAjZLFn5cWh6YwCwJ4jD/YGBPYAC67DSaCSEGDAu4GBimvoAoYrzAwLCSoR3VUp4DDLwJ\n",
       "L4EM1Rdg6/gnMLAVMPAFoChi2cDQygEWMjkNdTirAwPnD4g14eVVIJqDgeEwiwFYaIsHw10GFQYG\n",
       "/gMMzD9BAkxrG2BmMTvYQFkbgE4+wcDQD1T0DcTfBVfDwNoQgeqX/Q8YmP+CGKsRYvPYLmAq+gdi\n",
       "LECIgQKAgTkUCKIhAv0PGJhAJjGLl5eXl0J8MOERA0MDsklAh3OCHM6BCIdWbiDbG1kRawADGzgI\n",
       "CuBCzsCQ4viAEtUCDDxg59yFB8ABHWCIFqC4vJKhERxyXBPgAbCCgTsSNRZ63jqDaQ5XDYiAYpRo\n",
       "qLwojvTI9BQSLZgAANLfUMO2I4HSAAAAAElFTkSuQmCC\n",
       "\" style=\"display:inline;vertical-align:middle;\" /></a><br>"
      ],
      "text/plain": [
       "<IPython.core.display.HTML object>"
      ]
     },
     "metadata": {},
     "output_type": "display_data"
    }
   ],
   "source": [
    "zero_is_nonpos_int = InSet(zero, IntegerNonPos)"
   ]
  },
  {
   "cell_type": "code",
   "execution_count": 5,
   "metadata": {},
   "outputs": [
    {
     "data": {
      "text/html": [
       "<strong id=\"zero_set_within_int\"><a class=\"ProveItLink\" href=\"proofs/zero_set_within_int/thm_proof.ipynb\">zero_set_within_int</a> (conjecture without proof):<br></strong> <a class=\"ProveItLink\" href=\"../__pv_it/theorems/8510e4f255461b5c20059a12b351f78e951850e30/theorem_expr.ipynb\"><img src=\"data:image/png;base64,iVBORw0KGgoAAAANSUhEUgAAAEgAAAAVBAMAAAAX07VdAAAAMFBMVEX///8AAAAAAAAAAAAAAAAA\n",
       "AAAAAAAAAAAAAAAAAAAAAAAAAAAAAAAAAAAAAAAAAAAv3aB7AAAAD3RSTlMAEER2zVSJ3Zki72ar\n",
       "MruaaVGaAAAACXBIWXMAAA7EAAAOxAGVKw4bAAABXElEQVQoz2NgYGBUYgADzkgG3MBEEcq48xBd\n",
       "itXrl1/5qw1Axkcgjy25E0i+QVfE/OYCgwMLSL4ASLgyiE9gYEhHV8TRwMC8IRWqiLuAge0BFkU8\n",
       "ExjkGB9AFfEdANsKU8T8vLy8/AKQwcjA0MtzAaqIv4GB9ytcEa/bBLhZvAduMEAVyQMV/YYrEkeo\n",
       "YeATAHuZw4GBYX4CA+9nBgYriMQhJFeFcRuAqFkbIIq+AakAsIQDkiJwADDMcQIS8gkMTECTGI8E\n",
       "gJ2BFFABSQwMAgy8fQJgh7MCHc7mBI4eJEVynMAAOAn2PgPfAwZuYBDEC4BlChCKzgJDivEDNDAX\n",
       "gN2fBZHpRgRAgwYwRAug0VLKIHUBHgQsCogAcGTgfPoAqkgi+SwDXBHjG1i60Hqy7t36dQlQRRAA\n",
       "ixamPGi0wAEWRZiAeQGc2YJTEedXGItxNe7kO+MoVHVOAA4VAJ4iVD0ZjCpZAAAAAElFTkSuQmCC\n",
       "\" style=\"display:inline;vertical-align:middle;\" /></a><br>"
      ],
      "text/plain": [
       "<IPython.core.display.HTML object>"
      ]
     },
     "metadata": {},
     "output_type": "display_data"
    }
   ],
   "source": [
    "zero_set_within_int = ProperSubset(ZeroSet, Integer)"
   ]
  },
  {
   "cell_type": "code",
   "execution_count": 6,
   "metadata": {},
   "outputs": [
    {
     "data": {
      "text/html": [
       "<strong id=\"zero_set_within_nonpos_int\"><a class=\"ProveItLink\" href=\"proofs/zero_set_within_nonpos_int/thm_proof.ipynb\">zero_set_within_nonpos_int</a> (conjecture without proof):<br></strong> <a class=\"ProveItLink\" href=\"../__pv_it/theorems/46e0f74cc09beafc33e0c96f0ca84cc8f244dfc00/theorem_expr.ipynb\"><img src=\"data:image/png;base64,iVBORw0KGgoAAAANSUhEUgAAAF0AAAAYBAMAAABqyuwvAAAAMFBMVEX///8AAAAAAAAAAAAAAAAA\n",
       "AAAAAAAAAAAAAAAAAAAAAAAAAAAAAAAAAAAAAAAAAAAv3aB7AAAAD3RSTlMAEER2zVSJ3Zki72ar\n",
       "MruaaVGaAAAACXBIWXMAAA7EAAAOxAGVKw4bAAABuElEQVQ4y42Tv0vDUBDHv7EajTVtt4pD/TGJ\n",
       "iAg6OdWCDg6SSXDRaBFBRLpI1wouIkpGkYJdnMQa8B9Q0cGh0NHBIaIiaikWqYMuXt5L0thUzQ3v\n",
       "Xe4+udyvAD6l5RliUoVv/B44xZBfPPhKxzHCGl1CH7dJs7/igUfTX0G7Qvdor2W9vfNkMfU5nX7R\n",
       "5UPzQa6gVSdbhXQxuUVnyRO3VES8GZhb4Hz7MKEp0icQpdSW6/m2DAL6EilDCyyfsML5YAqi0YDv\n",
       "0BATDJbrll2vyYfOWFo2H3hKp9NFsxXATkeR2bLnGMEgOB/OQK46vDypOV+Qz24sTaMiNyy+m/gv\n",
       "h4/WcIQi9U1riwMHKuR3YIxbLlzemeBwHb+vc/6DLoVZ4i6v2U3IZZJnbsgm6OhW0UTxhUuFpewa\n",
       "gLIIRNzh5d0Iq7eF6hUTbC9cfEyibl7/yId6iZCBIPVznkdK1ZwFmoDw9oNn88qxsle4Zbv28Uw/\n",
       "DS3l4bGOrqLTz+aeWjfHIT0aXr4zWYDDCyV7Ywce8uWTvOrludj70LRm7UMjacD/KYGco2764aWq\n",
       "rQlHvv7lvSvrxVXlf/gbpOttFqmNgd4AAAAASUVORK5CYII=\n",
       "\" style=\"display:inline;vertical-align:middle;\" /></a><br>"
      ],
      "text/plain": [
       "<IPython.core.display.HTML object>"
      ]
     },
     "metadata": {},
     "output_type": "display_data"
    }
   ],
   "source": [
    "zero_set_within_nonpos_int = ProperSubset(ZeroSet, IntegerNonPos)"
   ]
  },
  {
   "cell_type": "code",
   "execution_count": 7,
   "metadata": {},
   "outputs": [],
   "source": [
    "# In Progress\n",
    "#successive_nats = Forall(n, InSet(Add(n, one), Natural), domain=Natural)"
   ]
  },
  {
   "cell_type": "code",
   "execution_count": 8,
   "metadata": {},
   "outputs": [],
   "source": [
    "# induction_lemma = Forall(n, Forall(S, Implies(And(InSet(zero, S), Forall(x, InSet(Add(x,one), S), domain=S)), InSet(n, S))), domain=Natural)"
   ]
  },
  {
   "cell_type": "code",
   "execution_count": 9,
   "metadata": {},
   "outputs": [],
   "source": [
    "# induction = Forall(P, Implies(And(Pzero, \n",
    "#                                   Forall(m, P_mAddOne, \n",
    "#                                          domain=Natural, condition=Pm)), \n",
    "#                               Forall(n, Pn, domain=Natural)))"
   ]
  },
  {
   "cell_type": "code",
   "execution_count": 10,
   "metadata": {},
   "outputs": [
    {
     "data": {
      "text/html": [
       "<a class=\"ProveItLink\" href=\"../__pv_it/theorems/1a4193f1deeaf7a4a6b6289328d46189ae6a257f0/expr.ipynb\"><img src=\"data:image/png;base64,iVBORw0KGgoAAAANSUhEUgAAAAwAAAAVBAMAAACAghKHAAAAMFBMVEX///8AAAAAAAAAAAAAAAAA\n",
       "AAAAAAAAAAAAAAAAAAAAAAAAAAAAAAAAAAAAAAAAAAAv3aB7AAAAD3RSTlMAInZUiRDNmWbv3US7\n",
       "qzJazP2FAAAACXBIWXMAAA7EAAAOxAGVKw4bAAAAcklEQVQI12NgYBBgZAACJgNuBSBlwsCgwcDA\n",
       "msDAwBbAwN7AwMBRwMAJkp/KYAaiMhhKQJQvkAEEbQyLQZQlw2wQ9R5C7YQIWjEcAlE9QLVAUMLw\n",
       "CkStZuB6wMDAuABkLNj4gwwMMkDxGDCLgVGBSYABAJpvEmISwLzKAAAAAElFTkSuQmCC\n",
       "\" style=\"display:inline;vertical-align:middle;\" /></a>"
      ],
      "text/plain": [
       "()"
      ]
     },
     "metadata": {},
     "output_type": "display_data"
    }
   ],
   "source": [
    "'''\n",
    "nat_pos_induction = Forall(P, Implies(And(Pone, \n",
    "                                        Forall(m, P_mAddOne, domain=NaturalPos, \n",
    "                                               condition=Pm)), \n",
    "                                    Forall(n, Pn, domain=NaturalPos)))\n",
    "'''"
   ]
  },
  {
   "cell_type": "code",
   "execution_count": 11,
   "metadata": {},
   "outputs": [
    {
     "data": {
      "text/html": [
       "<strong id=\"nonneg_int_is_natural\"><a class=\"ProveItLink\" href=\"proofs/nonneg_int_is_natural/thm_proof.ipynb\">nonneg_int_is_natural</a> (conjecture without proof):<br></strong> <a class=\"ProveItLink\" href=\"../__pv_it/theorems/3e95948191f454d46089de822d33ee3bc6f571c70/theorem_expr.ipynb\"><img src=\"data:image/png;base64,iVBORw0KGgoAAAANSUhEUgAAAKcAAAAXBAMAAACc8kKqAAAAMFBMVEX///+IiIgiIiIQEBB2dnbu\n",
       "7u5ERETMzMzc3NwyMjK6urpmZmaYmJiqqqpUVFQAAAB6qHgnAAAAAXRSTlMAQObYZgAAAAlwSFlz\n",
       "AAAOxAAADsQBlSsOGwAAApxJREFUOMutlUFo02AUx/9tk7RN0pJDdQNBSkAQVJgiHkRh4KaCUzLZ\n",
       "dmyjaHQDoagMRHRBj2rtZeBBIaIXYYceBEV3aBEFEbSCKIKHKsrqQSkMZRfB931tmlS7YIofpH3v\n",
       "/+X9vpf3vnwB+hp2X1PBI1L7Wzv8c9rAnmXnNtl1JnwICX3TSzwl1yE2EakAj5h/IxxTLPVSP9lj\n",
       "wBAwD1wkN2GGgyqVXuo3M2kjC7wAkgYg1MJBY13eWl3nmTeqiRKDxgyotGoyZEnf+517a9pGI13I\n",
       "MGiSiNt0fXtI6H1Wss+DGrMT867agCk5BBWo9w+A470iy6tDb9J1x5Z+MDtpe9Dz4gaCqlSMIhJ1\n",
       "X0B6x4FjnOc1b9bhfyMZV9hCG2AXlCyHwoOqtbfU/RRdkiE4bTm+3nKitjBudEPFvayRqia70k7a\n",
       "AE1Eh5l9RqdhtqD4kiZgvElgrbPY4wLF4sJVdEOpwVT7WAErHjRmIs9zmfJlipxI2csERqlKPxPV\n",
       "/fxdYMUs+6BMp/FMw3UDu73Hz2t4xe2oHxrXKCrFynKQ+idujK+0F1WvFTwo19l4Ys8Z2NwOP0LQ\n",
       "Gr6mWI8imgs9QdcARaks8jL1SSnHh7DA58YFeFCus4RnQNCt7fBD1AkttUnhzi0XygyFOq+wWqcp\n",
       "s5gTqeO5ZVk1DI9isgPlOnBlCezxf7XDT9MjfNxXHOBObob3FeeWzdapEHX7nrelp8ZZZsnvKhjt\n",
       "QLmO4hK6GhUt+Hft3aN61wFzqfM223MLhsSWFBTIWS9Tpuce8jNUk939rJaD3rdF15AXX48hwUr9\n",
       "8ntmut6Bcn2ydc/IOsO9/WQA888jb8KynI4TdBxOBcxJQd+TIGhCW31uEP8EnaVdYfX9Pfs/X0Xg\n",
       "N/ZdnpbbLyYQAAAAAElFTkSuQmCC\n",
       "\" style=\"display:inline;vertical-align:middle;\" /></a><br>"
      ],
      "text/plain": [
       "<IPython.core.display.HTML object>"
      ]
     },
     "metadata": {},
     "output_type": "display_data"
    }
   ],
   "source": [
    "nonneg_int_is_natural = Forall(a, InSet(a,Natural), \n",
    "                            domain=Integer, condition=greater_eq(a, zero))"
   ]
  },
  {
   "cell_type": "code",
   "execution_count": 12,
   "metadata": {},
   "outputs": [
    {
     "data": {
      "text/html": [
       "<strong id=\"pos_int_is_natural_pos\"><a class=\"ProveItLink\" href=\"proofs/pos_int_is_natural_pos/thm_proof.ipynb\">pos_int_is_natural_pos</a> (conjecture without proof):<br></strong> <a class=\"ProveItLink\" href=\"../__pv_it/theorems/67c3c8d38c2813c39f948c91315cd9219a9fb7340/theorem_expr.ipynb\"><img src=\"data:image/png;base64,iVBORw0KGgoAAAANSUhEUgAAALcAAAAZBAMAAACBVqIyAAAAMFBMVEX///+IiIgiIiIQEBB2dnbu\n",
       "7u5ERETMzMzc3NwyMjK6urpmZmaYmJiqqqpUVFQAAAB6qHgnAAAAAXRSTlMAQObYZgAAAAlwSFlz\n",
       "AAAOxAAADsQBlSsOGwAAAsRJREFUSMedlk1oE0EUx/+b7G6STRoiBi+ChCBSQfADCVIQK7QiqLCN\n",
       "VRDBRq0rFsGIUrzYrBSEYtV6KHgomIu3oouI32iKeOhBiSJV0MOKYD2JHgpFKPhmtrs7qWnS7MBu\n",
       "5r2d+c2beR8TIFBLlBt9teiJI3D70vBrgZ5oIShbGWsKx1RQuFqps+BmYxzyrg4XHtIBm3W+tggf\n",
       "rrti9R7Q51kuEfkZ69xuEf6wnjLZLlcQRtwwcsZZ2skcMBTk8P/Whc+QkSHPckwAMToaudoaOzIn\n",
       "StKJ7EYOH02NiPBHFLHkm1iLhksZQdBu6YuWm7NSpwBfTc+2bHZ7i/Aki8Qbu69wYUR3taaKAQF+\n",
       "nz48Bk4tl2bLRSLN1nbgnF4TDEkzYuXz/tRSkSxA1Batyu3rt/zlhdaVdnsxmnCwggdcGPPheNt2\n",
       "0h9/k0qEqstuoYisM8ohU+7Ra+GHnHKS0lxViFZ/Baznc+hYsxsW4Un9uw/vI2xbyvPnc9pIApdH\n",
       "UQu/+oS9w0XMC5bnoPCAVAqC5YqdFywvsn2xKtA7tReSk9SWJcCZHkM/2VgdO3248geJ31zICHCc\n",
       "V314iWQcGKf12yPzOOxs/3rRh3M9cG2WxurY5GIKUBYoZj4zYZXnZponDfpwFi0Ypk3GrcgWTHJd\n",
       "jyyUNq6ndnSAwbe6cU664/jgbDHmZiDvPPXhr7kdtGK4THVm2jCMKjq7HQ9yONfzkSYdy4KbN5Sh\n",
       "x9KXvvEtKj/uOtFwJ0fvIz78pedZU32jX+QTP1XQ7cG5nn5nUqJD0SGGqLbHSf+lbcLthM3SpK4y\n",
       "jByHlvEtZ3pgmlwtpTS7YVVcWt+9AqS9eL8f0dPUe/crfcb24FyPNfxYu9a6iY4LK7lm7Vq51zDK\n",
       "tXcVb4P/Fc3kCspoyGx2EQa7Q9H0Dm14gXxsym58AZnB/7fwDCEH/QNNv6wnjsnLeAAAAABJRU5E\n",
       "rkJggg==\n",
       "\" style=\"display:inline;vertical-align:middle;\" /></a><br>"
      ],
      "text/plain": [
       "<IPython.core.display.HTML object>"
      ]
     },
     "metadata": {},
     "output_type": "display_data"
    }
   ],
   "source": [
    "pos_int_is_natural_pos = Forall(a, InSet(a,NaturalPos), \n",
    "                            domain=Integer, condition=greater(a, zero))"
   ]
  },
  {
   "cell_type": "markdown",
   "metadata": {},
   "source": [
    "#### A note about Interval-related theorems involving subsets of the Integers.\n",
    "\n",
    "Some Interval-related theorems involving subsets of the Integers might be found in the respective number_sets package instead of here in the number_sets/integers package. For example, the `interval_is_nat` theorem:\n",
    "$\\forall_{a, b\\in\\mathbb{N}}\\left[ \\forall_{n\\in\\{a...b\\}}\\left(n\\in\\mathbb{N}\\right)\\right]$ can be found in the number_sets/natural_numbers package."
   ]
  },
  {
   "cell_type": "markdown",
   "metadata": {},
   "source": [
    "#### A note/warning about a possible `unfold` theorem for the integral Interval class.\n",
    "\n",
    "Although it is tempting to establish an `unfold` theorem analogous to the `unfold` theorem for the enumerated set class EnumSet, along the lines of:\n",
    "\n",
    "$\\forall_{n\\in\\mathbb{N}}\\left[\\forall_{x, y_1, \\ldots, y_n \\rvert x\\in\\{y_1...y_n\\}}\\left((x=y_1)\\lor\\ldots\\lor(x=y_n)\\right)\\right]$\n",
    "\n",
    "the underlying structure (or lack of structural constraint) involving the integral Interval class would allow instantiations leading to false conclusions. For example, one might instantiate such a theorem with $\\{n: 3, x:x, y:(2, 6, 3)\\}$, leading to the false conclusion that $\\left((x = 2)\\lor(x = 6)\\lor(x = 3)\\right)$."
   ]
  },
  {
   "cell_type": "code",
   "execution_count": 13,
   "metadata": {},
   "outputs": [
    {
     "data": {
      "text/html": [
       "<strong id=\"interval_lower_bound\"><a class=\"ProveItLink\" href=\"proofs/interval_lower_bound/thm_proof.ipynb\">interval_lower_bound</a> (conjecture without proof):<br></strong> <a class=\"ProveItLink\" href=\"../__pv_it/theorems/50b1de8ddd6f08961847066a347a764753476cd10/theorem_expr.ipynb\"><img src=\"data:image/png;base64,iVBORw0KGgoAAAANSUhEUgAAAPgAAAAZBAMAAADu5/4fAAAAMFBMVEX///+IiIgiIiIQEBB2dnbu\n",
       "7u5ERETMzMzc3NwyMjK6urpmZmaYmJiqqqpUVFQAAAB6qHgnAAAAAXRSTlMAQObYZgAAAAlwSFlz\n",
       "AAAOxAAADsQBlSsOGwAAA0tJREFUSMe1lk9IFFEcx7/r7uzsn1ldwg5RLbIUShBEmHrooIERZDKS\n",
       "RUGkQk1/IFrRQxd1RbJL2XbIOhQsegsPmxRCCo1BhhSx2cGEwBUqCCL0EEUU9N682dm3M+s+hfYH\n",
       "Ovz2fX/zefPe7/1+DxBaebQGJTBXdO8GVH6UyN6UEO4TDZUSvnP9oUCYwTP08VEAF4ucFmosMriD\n",
       "wZ/Rx30BXCxy2mn7D0tx7p2qAe+nW9ApgItFTpux+S+eco6SMuB0Dp60AC4WOW1fvrulOc89YMAV\n",
       "XZRSZFQscm55gvekQ+H84Qcs2/dHo7XCbBeKHBak+TbSNMjYk3o2zyOnmrrIs5XBp4DzQrhDpLQU\n",
       "1PZaG+snuEADrtLMkr5aW+bxrqCDZN48g4/Al8kOyaPZklp39FyKg/Miw3qcYCO4NeuVEd5xHZOG\n",
       "k4M/KuvE7RjwnsG9qidpveATfUlES5bFPW0qB+dF3V8uk3NT4LNpsPW7m+ifA7tYRbOWXe1IYpm8\n",
       "eYDBQ2EulerJ3zSZmIK+m/yyc6LgFFAYXm+H10H6bU+4ZbIO5DFultfELPnXPnuEfvRaRHWxSaZS\n",
       "eeWVipSZ7u1mcTIgLCa37CQ4ByfLLq1BWbUfNUL+IwELJvzYXTKzGvkXbXO7XamTLKFuxfLgVHRm\n",
       "XHfHJVZr5q2YXI8kwRjLet4wpL8oT3ywFZlahH54gDkTPkRSKZiSaVHw6kpiwtC0efIbCxVd34YK\n",
       "NWAsjHzPirGMBsO/NZvWJKALC7kFxBL9HN9PuBKvgCcmvDxGd8hFs9kdC2bmNU1Lo7EZJ3g4FWGF\n",
       "bJUyqmlX0P/ZirGMBiN0J7sJVcDZymsrMVs/q4L0jeT+Hq6ldsS9L0kOVsCd7jU0izqaHS21HtOy\n",
       "zJpVxIqxjAZjyHKri/b6Kg7ujg9MqO0oU+fIqaKLFqRztMF9q6heNIvNkhlD8w6SMSEazJ2C10Xr\n",
       "n87BAzPvWtCTlh+H4btA/LffKy9l7PBABpU6hmMm3Iih9SYuNxgLTYI5uDfXQaWoYdwODDtvMqwO\n",
       "tWtasshNRjqsrVNk8s+/VKwFX3TAA+rGr1FjQjgGi9xc4w64sok7nD9cUCs//N+314L39r6C2hub\n",
       "ubcf/Acio98kuFmr1QAAAABJRU5ErkJggg==\n",
       "\" style=\"display:inline;vertical-align:middle;\" /></a><br>"
      ],
      "text/plain": [
       "<IPython.core.display.HTML object>"
      ]
     },
     "metadata": {},
     "output_type": "display_data"
    }
   ],
   "source": [
    "interval_lower_bound = (\n",
    "    Forall((a, b),\n",
    "           Forall(n, LessEq(a, n), domain=Interval(a, b)), \n",
    "           domain=Integer))"
   ]
  },
  {
   "cell_type": "code",
   "execution_count": 14,
   "metadata": {},
   "outputs": [
    {
     "data": {
      "text/html": [
       "<strong id=\"interval_upper_bound\"><a class=\"ProveItLink\" href=\"proofs/interval_upper_bound/thm_proof.ipynb\">interval_upper_bound</a> (conjecture without proof):<br></strong> <a class=\"ProveItLink\" href=\"../__pv_it/theorems/e101a7115ea38518fe6e1a6ed0f0480f0e331a5f0/theorem_expr.ipynb\"><img src=\"data:image/png;base64,iVBORw0KGgoAAAANSUhEUgAAAPYAAAAZBAMAAADwLs6sAAAAMFBMVEX///+IiIgiIiIQEBB2dnbu\n",
       "7u5ERETMzMzc3NwyMjK6urpmZmaYmJiqqqpUVFQAAAB6qHgnAAAAAXRSTlMAQObYZgAAAAlwSFlz\n",
       "AAAOxAAADsQBlSsOGwAAA1tJREFUSMe1lk1o1EAUx99uNpvdbLK7ShWLWsqCthehiFgPPYRCRbBK\n",
       "ClUQxBbUiIKS0l5bo/Xj4sd6sHpRtu210CiUgi2YCgqlKuupFARXaAUPSj2IHyfnTTbZZJPtVGgf\n",
       "bLIz83/5JW/evBkApqVzzbDxFsntW4cqCZtjbzeRnag9ZGw2e3ftoVGbXcLbRwabLQqarIR282cb\n",
       "yWRblP0COx4z2GxR0E4FepZoqJMmuTyk7CGcmV4Gmy0K2mx1x6spessUyWWBspMqQKzIYLNFQWup\n",
       "am/tsO+T5FnAqciWLFY2kVG2KDjdef80t2fL/9rpMy2a5/tzuQPMPGeKApYiqTa6cmO7jeSfW87A\n",
       "0y3fSBBLlD0NcJ7JDoikzlDtwJTrRWDKlSz/m6K/uhPG/1F7DJDylH0PEiVnQBhx6ujBo+dMD9sr\n",
       "otYf5FLn404rWgSxsBcSv2irwpZ/ApcFuYWy42qs4Pov4zMatELUiHWpHrZX1PflElkvIR+Nzm4/\n",
       "VwCe/4soWuPcmKfykFFAWKVsOevJolbym9FJSGHwjjfmHlFqGiCc3VrFBnkV0vmqXIsqMElCYn83\n",
       "5OfIpXvuCH7yjwY1Yr+hafpqKoqk2b6dALvAYds+lZgT5wqbxBzBGUv1rzGyvF+qIDfa7GOkyPDN\n",
       "AiZFZE/EPGnn0l3dx0bR6XGLM3i7xMy7PpVdkTjDmNOKk+/kFPikKv7aktH5NvL4Xps9TLIoZQpY\n",
       "C+KWlJ+gwq6Yfy9B0c16yKgiDYvwyPVxDZ0hua3cwlV0X4d6Sa/UVPybtuKmvQKRndZxdiKYx5ye\n",
       "Ks1rmlYEpQNOeNkogs8wDtKIpl2GoRXXxzV0BvmBMwMkqiQIZ95V7yXLWGyjhcoe2mPEX5OJyQBX\n",
       "HMC2uGhBR2APbYUZQbBj2OD6uIbOMOw2m9aqGdc9+zdnXJ1QuyGqviHLCSOWArGxmp1YhabFco1Z\n",
       "KvtgygFP3wedPfm/wNpoHLY4+6ET+ovCsywkLpD2++91F0vVbLEEdRbc0sts6oNlxhAO0SgTZw87\n",
       "bngCnaPmTj3dE/3nFrv4dGtaYY1zC39Yq1Fb/OueX2PPpe/lY4vq+s9MY0w2XKvN3hE4r0n/cV5L\n",
       "ZkO1wpMNPqeGns8HQ7W3/+N83vYP9R/hFUxVpfMAAAAASUVORK5CYII=\n",
       "\" style=\"display:inline;vertical-align:middle;\" /></a><br>"
      ],
      "text/plain": [
       "<IPython.core.display.HTML object>"
      ]
     },
     "metadata": {},
     "output_type": "display_data"
    }
   ],
   "source": [
    "interval_upper_bound = (\n",
    "    Forall((a, b),\n",
    "           Forall(n, LessEq(n, b), domain=Interval(a, b)), \n",
    "           domain=Integer))"
   ]
  },
  {
   "cell_type": "code",
   "execution_count": 15,
   "metadata": {},
   "outputs": [
    {
     "data": {
      "text/html": [
       "<strong id=\"vacuous_interval\"><a class=\"ProveItLink\" href=\"proofs/vacuous_interval/thm_proof.ipynb\">vacuous_interval</a> (conjecture without proof):<br></strong> <a class=\"ProveItLink\" href=\"../__pv_it/theorems/8fdc7a78c7c8f3943d5bdc51553ebf2b3471a62a0/theorem_expr.ipynb\"><img src=\"data:image/png;base64,iVBORw0KGgoAAAANSUhEUgAAAO0AAAAYBAMAAADkPGcWAAAAMFBMVEX///+IiIgiIiIQEBB2dnbu\n",
       "7u5ERETMzMzc3NwyMjK6urpmZmaYmJiqqqpUVFQAAAB6qHgnAAAAAXRSTlMAQObYZgAAAAlwSFlz\n",
       "AAAOxAAADsQBlSsOGwAAAztJREFUSMe9Vk9IFFEY/+2f2dHZXTWQKDJZJCkoYonQDh62yCgsGNGC\n",
       "CNTItqJDS3bokk4ZXUpdD0YExUZ0CcFVoqAkx0NGCLF1sA4dNpBuih6EioS+b3Z2xp2ZHWjFHrzh\n",
       "vd/3zfd78/17A/z3kVivgTKawnMXhQHFjoXfR6Csj3c7za3PXBTEH7INungmiye0yPLuWym04RjN\n",
       "lSJC4VyEnoGsFffKwUZ4VOA17x6Uwnuapj9STFqedhTPwTsDjAC9HKiuUngnXXkrM47iF7gzBMzS\n",
       "uSgE/kwpvFFX3jHZUbwHNZ0KfDJC5OvyksKbdOU9BEdxE0Y6Uygn0n11dftL4Q3G8oYHD960ix9v\n",
       "WnDiXUWEIuCnfHsFnC9uPV1UwmdGkD5aOoArtnoRfsnkT09U20zU8dir8YZjxBui1wZRZmS7eF9f\n",
       "VDS0dGuUXQVwQUVwUvQTeZuKCXsUVuCrQtmqFf8TTJGfw3SegOxPGfA8s9TGU17F3yobvBrMH7HW\n",
       "go/eGnxIiylghz0KSVRSIDoeWePrxVAK4hKdrGpNWjXSfEMNNIQb92DyNub64lvZwiu+JKQBwm+7\n",
       "N2IYI4ccS1nw4V70yZDY/8lperRPH+VPXa6VuZlwYNMmL8P0XFTyeoafqSEJywgtOZXvlJxvZ2vi\n",
       "21KDp/StnG8nqHsIu8SftPTUe9KnNNXQQMLkZRjSZcXQ4xGoyuWzsIqK5Fcbb0JoInHUil8dwWGy\n",
       "zmb7Ka2CaZFVAmooOarJW/0weRmWutnJup5Wm1m9js7ic845nUnOYz0x1UDaqY6CEaFer8GKBAfL\n",
       "w2Z8iWD2QzwezyDWjJMGL8M9mVxQPfnkFyM6b0f19e+ac7zMvltPwXnnNhoa3kbn9+bD3qkE3tG+\n",
       "Er7MNd5LX1Q0G7wMC0cypp42drr2Kzj3K792994yklPpG5Xb6ZaaobpicRBSxOBlGNis6nr6O7Ol\n",
       "8JpXijakyU/H0ZMRx6nWL9D+42L1payZz+OcQ5hRc3r5xKKje6LuvTTp/KNiuf9y11J7PG5WXYHG\n",
       "XMEPikAye0MqGG2qIxwo/NGRZLuK283Mt8HdBReF20WEWyy5hn/j3cihbJDdv/qNy14IUGBMAAAA\n",
       "AElFTkSuQmCC\n",
       "\" style=\"display:inline;vertical-align:middle;\" /></a><br>"
      ],
      "text/plain": [
       "<IPython.core.display.HTML object>"
      ]
     },
     "metadata": {},
     "output_type": "display_data"
    }
   ],
   "source": [
    "vacuous_interval = Forall((a, b), Equals(Interval(a, b), EmptySet), condition=Less(b, a), domain=Integer)"
   ]
  },
  {
   "cell_type": "code",
   "execution_count": 16,
   "metadata": {},
   "outputs": [
    {
     "data": {
      "text/html": [
       "<strong id=\"in_interval\"><a class=\"ProveItLink\" href=\"proofs/in_interval/thm_proof.ipynb\">in_interval</a> (conjecture without proof):<br></strong> <a class=\"ProveItLink\" href=\"../__pv_it/theorems/ebe6a7f90135b890f15d3dfa1000675033ff60f90/theorem_expr.ipynb\"><img src=\"data:image/png;base64,iVBORw0KGgoAAAANSUhEUgAAARQAAAAXBAMAAAA4va1QAAAAMFBMVEX///+IiIgiIiIQEBB2dnbu\n",
       "7u5ERETMzMzc3NwyMjK6urpmZmaYmJiqqqpUVFQAAAB6qHgnAAAAAXRSTlMAQObYZgAAAAlwSFlz\n",
       "AAAOxAAADsQBlSsOGwAAA7lJREFUSMe9lltIFFEYx/97GWedHXUiC6SSWKykXiq6SBRsRRFkMZUJ\n",
       "QWiGSdjNEKKHyokuL0H6UkQ37Apd2SLsJjQ92E2EzaB8CFK6QHTBIOkCQt93dmZn1l1Xo6UDc/ac\n",
       "M+c/32/Od5kFMtoCqZely+k0XYML/6GNS71ccCGdaM8GQNGAbp68zhBJTjj1ct9ggvLp3G+layxw\n",
       "j8fHMoSyJvWyf/ygihPcLaArW8cedtS6DKG0/jVKv42iRpgG/miGUKYmzEaHQk1DoCh9NgpmQjXp\n",
       "cDIVKk3u2aVRQ59K7I5AOQlMD4VmZAglSFF75v3+0ZrI0SOJBg/P35usyO4pjFooy4HbwIahjQwL\n",
       "JZtOOLxVk36KieGo6bSUEmzTkxSVR3jzSB4+JVoEuu078tEBW99Wtyzl36xER2x0xi8NR+SNQmme\n",
       "iMAPgeLs2UeIq0zcTIZ/o2Ma0Mix+oKs6P7m+K13rm3bP9SiGItGJaHkVLlINJfI1wxJ+m2VkfoQ\n",
       "NZGah49T9wAoSka5C3ynYvyRWBrowZqLf7bLJ+Q5mHKXORBF3eyMH5luEaEgpxe5InrL45vkFvLM\n",
       "LBBkUiuCQunsZ9ZzdDU9pK7s4RIWfSskldq6fYwofwwUi5IYilSab8CzhYftj0dEKF2jcZHlIObI\n",
       "M3nudQxmdUP6BrU3VVkJ9gk3AZ10LaNQl4pljjXPBA8ZWHvO9BlSrOw9eeVCWWk0GPI8AfVsLkpQ\n",
       "L+pRTCR2kbd8YXoy13+P5s4gqZ8gu5JQfnAMYaE4YA4qitpgRObylGWqdLgHCpCnK8IxkhZ2odxH\n",
       "PUXHIs7UFU3oQ061HhcJk/SkxjoUqHU8O5WQzFXojAjiStos/bLufMYmu67coiu3jr3s4TTy1QX5\n",
       "p4ccpx6tqdkCv1+X9DjKHBRSf5FZcjWF2BVmsUTsKjJ5FqjoELOKWt2FUpG/s0cQehloinWnYqlp\n",
       "o0y289vIaiNhHnxREYf3ZVkcx7Vd8MdRqARsXs0f9TvCfoSeLH8ybBG3SQmnf379kIU/1hglYO/x\n",
       "GQ1X9TJ49UcoQ6AXk17F6l44wq9pn0qJ/LtNZOd7NMK7m18y8FVnkdXa//pzGEcJmvZnqfV5KUWh\n",
       "fEOjXulGvomDZEn92rP4tINypSM/JjBwHZ5S638bi+xUMVKa8kxNj0LVBQcTl6KuHtLimlonHYf3\n",
       "EZJS/9sI9KdXzaVuY+IXW3f6AW2YKNibevnQl3T/bZfTy3sSz1N19YOiyDXUrFfYwWMD/7cF/oON\n",
       "P3Bn5Mys8BizAAAAAElFTkSuQmCC\n",
       "\" style=\"display:inline;vertical-align:middle;\" /></a><br>"
      ],
      "text/plain": [
       "<IPython.core.display.HTML object>"
      ]
     },
     "metadata": {},
     "output_type": "display_data"
    }
   ],
   "source": [
    "in_interval = Forall((a, b, n), InSet(n, Interval(a, b)), domain=Integer, \n",
    "                    conditions=[number_ordering(LessEq(a, n), LessEq(n, b))])"
   ]
  },
  {
   "cell_type": "code",
   "execution_count": 17,
   "metadata": {},
   "outputs": [
    {
     "data": {
      "text/html": [
       "<strong id=\"interval_cardinality\"><a class=\"ProveItLink\" href=\"proofs/interval_cardinality/thm_proof.ipynb\">interval_cardinality</a> (conjecture without proof):<br></strong> <a class=\"ProveItLink\" href=\"../__pv_it/theorems/4f54d0f47ad2bd131c5d2a99a8a5943eec6969c80/theorem_expr.ipynb\"><img src=\"data:image/png;base64,iVBORw0KGgoAAAANSUhEUgAAAVEAAAAXBAMAAABALmG0AAAAMFBMVEX///+IiIgiIiIQEBB2dnbu\n",
       "7u5ERETMzMzc3NwyMjK6urpmZmaYmJiqqqpUVFQAAAB6qHgnAAAAAXRSTlMAQObYZgAAAAlwSFlz\n",
       "AAAOxAAADsQBlSsOGwAABBdJREFUSMfNl1tIFGEUx89eZnd2Z1fXEhIKE0uKIijphihJIYVajWVC\n",
       "PbRJtRlZLNVLRDoU9FS6L0ZUmCH0UtAGQTex9aEgopoudIGgFexBumCQdIGgc2Zm57Jz2XWD6JOZ\n",
       "nct3zvy+853z/z4B/qIJ+Idt24B9F/aN3NHCNs/GTqm3dXOJ0Eg/53iHTl278dRoZZtnC0bwdAmP\n",
       "NN29K4j0pYzw3g60rZrOByxJXwKzsyL3Jw6i71k0sBTAHXpwthBQJiEjrLbtcR6U141WtoFkzi98\n",
       "vIikAYpEH84OpcKOQki5VC7S37akZFtsnwDBlHIxGylDNKJHMrFXLITUAzlIg5O2pGR7zT69wxEd\n",
       "KSwjAx5CiB8oKE3f5iL1VtiSvnWciyzSC3gEELO6snJpQaQ3dKTsWFnE1CEwWi7akJJtf8nnLD1S\n",
       "nRhJN9CosfJvAux2SEb7VxcUhNt4DAq+SVOHaB/zA2B6hpSrlFpasWV+8lGjTGpOjKQP8QhhCfYA\n",
       "m8709Z9RLoqWN+2SStNnnJUOOKJW3yIZga3Fr9YCZ9YclK8lAL2iRUzRNjwJHsM86JwYSV/Qk8XI\n",
       "wnu1NWaMcMtjA27B28KbSMPtOIb6zF2NRMqOozU3Ae56EykG+xsCjItmUrTlElCMNlulQM8DzQnG\n",
       "fk61EnuJtJugJohfV1Ar8Lgbx2DDsVOQTRrqpCKMG0nhKOaOZwdEzUvqXAiiTnnPgSUpUl0zaI7O\n",
       "iTGmg6QjGFNIjOCpdWQdkX8t512yliWTOlKmuVQA13667C75YJx9WoSiEXhqJafcpLyEmfJ0kSSn\n",
       "9ww6pXNiJH1OTygv1qP+M/P9P2jRqnIl2+T4nY7rSDcJ3YK/Trqcxs9UvLRrtR8VYTxs2kV8h804\n",
       "6jVWtY+2xXFMTAOp5sRI+oB4qDxO4Ci5pJ/C60uFElelLi1e0JHehUMArxroslMqRVDEQyH1RcIL\n",
       "JZVgftInE3KHT7DPTk/RtijlMy6nqhMd6UZBkTSOMrgIo+cZcKWlJOTSD2OxmAj1DbBFI62Bcjxf\n",
       "bpAyeTize9BImdG1PTOkhwvxcCsE25tSdqRoy4wNZa3yqhOV9MuqfnSxgHxmyiAq+O5joIvBIx6W\n",
       "FsLXKWhQSVEWO4m76xbABNQpNu54rnUfbNcod9zRJqyXL5ZS9Lhad0L3Vb4V3PwDVC1aEjgIVmgx\n",
       "Xen/dZ9+ez5AVSgjqLRzKJQ05LyPUncomd0MqPEPDj1rhkOi/3oE2D14/+RL6d60RnrlcWlK2akf\n",
       "LVFddMgI051Jb1vuTzvyX7VPWuz2ZHlrjcU0bfQ5uGiTEXodd2JSgTda2ebbaFA+o7AELbZhTqRs\n",
       "BKgC2GEHVHYDvZxhZZvv/0AEWZaVPOBE6kdNiE1h0v51Y/8bkj8N1faoarxPowAAAABJRU5ErkJg\n",
       "gg==\n",
       "\" style=\"display:inline;vertical-align:middle;\" /></a><br>"
      ],
      "text/plain": [
       "<IPython.core.display.HTML object>"
      ]
     },
     "metadata": {},
     "output_type": "display_data"
    }
   ],
   "source": [
    "interval_cardinality = Forall(\n",
    "    (a, b),\n",
    "    Equals(Card(Interval(a, b)), Add(b, Neg(a), one)),\n",
    "    domain=Integer,\n",
    "    conditions=[LessEq(a, b)])"
   ]
  },
  {
   "cell_type": "code",
   "execution_count": 18,
   "metadata": {},
   "outputs": [
    {
     "data": {
      "text/html": [
       "<strong id=\"interval_subset_eq\"><a class=\"ProveItLink\" href=\"proofs/interval_subset_eq/thm_proof.ipynb\">interval_subset_eq</a> (conjecture without proof):<br></strong> <a class=\"ProveItLink\" href=\"../__pv_it/theorems/19ddc7a7c9b0e8c5a2d86d35d70aef7e7d3c2a330/theorem_expr.ipynb\"><img src=\"data:image/png;base64,iVBORw0KGgoAAAANSUhEUgAAAXEAAAAXBAMAAAAPc2JkAAAAMFBMVEX///+IiIgiIiIQEBB2dnbu\n",
       "7u5ERETMzMzc3NwyMjK6urpmZmaYmJiqqqpUVFQAAAB6qHgnAAAAAXRSTlMAQObYZgAAAAlwSFlz\n",
       "AAAOxAAADsQBlSsOGwAABHlJREFUWMPNl11oHFUUx/+7ma/d2W02Nv1CDWGxKBahFqmlpLBGYpVG\n",
       "ndZtRR+6W7FrxSgL8UWqzWh9q01SpCIpQkTqgxZc+xCtCXX3IUqpH+uL+iC4hVSIaEnBEhUDnnvn\n",
       "zsfm7kfyMNALc/fMuXfO/O65554zC4TZDLrUj1qM/9xI+/RkK5snbepshNxup2vT2RYTjh2WdZEJ\n",
       "q5VN/Tcafp+EGrv7JRzwZIauG8CBbU2nvCSrfm0Brr9dgkbIkTLwBVO8Gw75U3QpvdSdaTql33X0\n",
       "M+l0ulinatg6q47F07RfLNzy4ZDPuORL7cj1U7a0mIbtE8uxeBmI0d4o1XDItwry+I125PtsrIy8\n",
       "X/iiw0KCIiYWUpiPC3L+rpbkv2OF5GeEtRhhb0un7wuH3MwI8tiVnga7qnR97WGOLyM35jamGiTR\n",
       "uQ1LglyhY/oZcHilKKsjZ36BSVC50+rfMsY9mALWOmFeCwxcoOsDW2sQYY42woIwQWZHYXjP6e/U\n",
       "zXzcOexrtu95tsQErT4YjuCVvCv5OvLHonMTZY4+XuZ57l4JI5phyjG+GUaA3Oij6tUHU44wpiVg\n",
       "g533JOFrluLXrLm6qWO0lp7CZNRW9loSefIQrSnjSr6OTC84dx1kd3TC8eJfEseX3KQ6z9F9TGOe\n",
       "njIX2MKkLRfag+8RF70jmQoc0Pvrpq4HpsntCbz2FpaTJ4YYW9GVfB1tZ94n16cI8A7E5by43Qn2\n",
       "CS9/inaUYrcjj5z8CeBqH6EuzkJmvEJdtvIwi5brPcwTym0prjrFaxW1UilArg5224i8yMSRrqtC\n",
       "wgMVIamDm1KBaGEVbwmmFLXq9WDBjE3WldVcCt/LYS60rCojyXbpUapH6l06O0ORzRHGeLe+lasW\n",
       "ccDx5cligHyfPWLru7h4i3WrkKKTw0KiYWc2tJTILYt4oixx/EeOAx4U67h2NphbclXMJ6WvKqFV\n",
       "+All+3qcvGKWGCy0MjuzZl4tctUCzvFH9ioIkE9jGPhxgIlDuCSkKTwppGmMuGmvJsj/wAsO3z/s\n",
       "/SIDUmLZ7Sfv+EPB6q+lkltM7wnewdPyrMgz7poiC8lIjcetWXPik6vyuFQoFKrIDGC/T74TPdR/\n",
       "OMCPxUUh7QQ8ab2bqXoF+cE9wuVb2O6UxLoGK1bDskMq9cru0Q3eE07naTl51A2vnK3Nkp1OdFBs\n",
       "dtpCtc56mfvjpzIGPHJKzUNsHcc+BxawS0hOviaJhg/tF1bvRMv62aRg9rcpE9ziG96xtUfOWVlE\n",
       "ra+QZcclk2WqVy2NH1gT8V7f5zv0f2fZ7+hVbObhxqQJKELaoS/OCquXwyP3klF85odBDFf1T1PU\n",
       "GzMVa7jKVcZzNPjdte7naz75x992O5tv42gXhHTim3VC8oZpvi0qXvN2wfk5n057cb62XSUfl79u\n",
       "q1KPbKHgJyxtlR8ual5UvOYz+mTdWJsvV5antPrEE7eW98vaasnxOl0n/mzxP/SxBpTGxZbobzJ7\n",
       "G+t1CalvSq5TzikcaSbdfM24mWD+B5/pIgs9CrxNAAAAAElFTkSuQmCC\n",
       "\" style=\"display:inline;vertical-align:middle;\" /></a><br>"
      ],
      "text/plain": [
       "<IPython.core.display.HTML object>"
      ]
     },
     "metadata": {},
     "output_type": "display_data"
    }
   ],
   "source": [
    "interval_subset_eq = Forall(\n",
    "    (a, b, c, d), SubsetEq(Interval(b, c), Interval(a, d)),\n",
    "    domain=Integer,\n",
    "    conditions=[number_ordering(LessEq(a, b), LessEq(b, c), LessEq(c, d))])"
   ]
  },
  {
   "cell_type": "code",
   "execution_count": 19,
   "metadata": {},
   "outputs": [
    {
     "data": {
      "text/html": [
       "<strong id=\"interval_subset\"><a class=\"ProveItLink\" href=\"proofs/interval_subset/thm_proof.ipynb\">interval_subset</a> (conjecture without proof):<br></strong> <a class=\"ProveItLink\" href=\"../__pv_it/theorems/7b023d973fd12a5e4146745927809baf442ae8050/theorem_expr.ipynb\"><img src=\"data:image/png;base64,iVBORw0KGgoAAAANSUhEUgAAAXEAAAAXBAMAAAAPc2JkAAAAMFBMVEX///+IiIgiIiIQEBB2dnbu\n",
       "7u5ERETMzMzc3NwyMjK6urpmZmaYmJiqqqpUVFQAAAB6qHgnAAAAAXRSTlMAQObYZgAAAAlwSFlz\n",
       "AAAOxAAADsQBlSsOGwAABIBJREFUWMPNl19oW1Ucx79p7p8kN2lT17kNtZTgUBzCHLKNMiFO6pRV\n",
       "vZvpRB+WTFycWEegvsi0vTrf5tqKTqRDqMh80IHZS3W2zOShyph/4ov6IJhBK1ZUOnBUxYK/37kn\n",
       "909vmmZgYAfu6c33nvO7n3PO788t0MoWoUv9oMHzH+qpT0w2snnSos5Ci9stdG0602DA8OGgFpow\n",
       "G9nUf6bH79JNlX/92BrwRJquq8CBbasOORqUfmoArr9RhEbIoRLwKQtvt4b8cbqUHupOrzpkd1OS\n",
       "2zoqtsVTdF7sbrnWkM/UyJf/N/KPTNviJSBKZ6NUWkO+VZLHrq5JHnoylUoV1ibfLfcibCJOHhNt\n",
       "kZuPS3Lxrobk+ptWc3t+WlqLEva2VOru1pAbaUkevdxd51SVzi8czP2WfzGRuY3JOkl0bsOyJFco\n",
       "TD8GDjeLcm3kvC8waOOzp9S/ghh3YgpYZ//41fPgPF3vWVodD7PVEDthnMyOIlJ1ks5bvpGP2I7X\n",
       "vn3vU0W+0VaaesEO7cQR/2Yu2X/beKOPl0SeuyuA0ZZmccw+jHHPinZR9doFI+hhrNLACMd7gvA1\n",
       "U3Fr1pxv6BitpTs/2WYp+8w65Cba0wL8kFcj04v2fZjsjk7Yu/hngOMzYVJdYHS96oIv0CxjkRcW\n",
       "OHKpHnyHZtA7EklPgO7wDb0RmKZtj+Ol1xAkPzGPMB9KfNCn0XHmXHJ9igBvRSyYF7fb5zMhcF1y\n",
       "HCPfDeeQDX4C1NQHqYuxy4yXqcuUH+C1X+nmnVBuTgrpdVGrqBWLHnK1v4vjafgXYKRzHqHnhHpv\n",
       "WWpq/6akx1u44i3DCHitesVbMHv8ZTWbxDdBN5cqV2UkeMZDVI/U23WOodDmEDPeoW8V0hIOiCnx\n",
       "kwUP+X5rhMjf/4RubzBv0u+xKSeHpEaP7dHQkjK3LOHRUoDjX9o44D63ZnlyS7aChUTgq0qqiohQ\n",
       "PtfjtCtGkWGhlThmjZxaENIizoop+xR4yKfBkH18O4iL+E7cTeExqU1jpBapVUn+G5619/lvfr+M\n",
       "Rkose5ysGJ30kWvJxBbDmSE6OKrIiiLjthfYJUP8mnDBqNr+KaQcLubz+QrSfRhwyXvRDbnTO3BB\n",
       "LqIXNa2Xw8POVD2S/OBeueVb+HSKcl39ZdMhV4+e8ZKrl/eMbnBm2J2jCvK22lKzljZLdjoQJt/s\n",
       "sKS03nye72Lfl9DnkFNqHhxARnj3Iph2mJyEfU1o9PjQgLR6GxrWT2/BjN3fXPWvWXzFCVtr5KyZ\n",
       "QZv5OTJ8dOkMSy+amghYA7Eed8936v/MUkhwRtks3A2j85iAIrWd+tKstHqpefJmv7hqFp3AiM18\n",
       "24+hin4uSX1kpmwOVYQUeZoefv1H1zNVl/zDr7pKMhke67SnWzjx5XqpycdivCUr3urtfFBat1Yl\n",
       "Hw9+3VYCPTL5vBs8/ny+onLW0dScrHirNiqLgTa2xpcr5ynNn3hi5sp+RdOu9ZvrZS5Ovzf4P/Th\n",
       "OpSRCw3RX2V7G/1aPNA3Qa5T9skfwXXeItcTzH+cwhzYwNeefwAAAABJRU5ErkJggg==\n",
       "\" style=\"display:inline;vertical-align:middle;\" /></a><br>"
      ],
      "text/plain": [
       "<IPython.core.display.HTML object>"
      ]
     },
     "metadata": {},
     "output_type": "display_data"
    }
   ],
   "source": [
    "interval_subset = Forall(\n",
    "    (a, b, c, d), ProperSubset(Interval(b, c), Interval(a, d)),\n",
    "    domain=Integer,\n",
    "    conditions=[number_ordering(Less(a, b), LessEq(b, c), Less(c, d))])"
   ]
  },
  {
   "cell_type": "code",
   "execution_count": 20,
   "metadata": {},
   "outputs": [
    {
     "data": {
      "text/html": [
       "<strong id=\"int_interval_within_int\"><a class=\"ProveItLink\" href=\"proofs/int_interval_within_int/thm_proof.ipynb\">int_interval_within_int</a> (conjecture without proof):<br></strong> <a class=\"ProveItLink\" href=\"../__pv_it/theorems/4ea09f3a5d6e4a658eb18fb655ce81f7b241e3e20/theorem_expr.ipynb\"><img src=\"data:image/png;base64,iVBORw0KGgoAAAANSUhEUgAAAMIAAAAWBAMAAABgYF47AAAAMFBMVEX///+IiIgiIiIQEBB2dnbu\n",
       "7u5ERETMzMzc3NwyMjK6urpmZmaYmJiqqqpUVFQAAAB6qHgnAAAAAXRSTlMAQObYZgAAAAlwSFlz\n",
       "AAAOxAAADsQBlSsOGwAAAvNJREFUSMe1VVtIFFEY/mZ3Z6+jLeRLUCKLUfRUUlsPQVYYkSlj2UIv\n",
       "2s0tiWyhHoJIN4JeKhsoJayHBemlfJgiCktofEiQIDYL6iFohKALFUlJEgj9/1x2R9c91UMHzplz\n",
       "zvef853/OsCfW5i6fEsk8Fp09C/aMupLbookujvm71Rc+d6fOGhE44DJ6zei4xX11KfLoak6Hrvm\n",
       "b0tdGWgRYCnwkNfXRAx7qQdqysLXedgyfzemQzKagIiKbrbWPhHDiJhhdkGGyixSMl2r6EyCQF7E\n",
       "sFrIEJ32MkgHEolEhiMDeFDJk3VQDFJF6AZNyGAjDkPoarYAhMzT/LkB1CUSa0UMsXr3nt7NZ0vh\n",
       "yGR1vsCwq0iAoGoFWDMpA3SIGCIG05Ai0Q04rpbA7X3yDLDYXnzyAC+VOH/G6WUImwXN+l1HJRsP\n",
       "6fbUx046RzS7DdwtfcBbFWuAy7YnNQ+g2bZ/wdoEcoXtd0xTnc75soEW571+QnsHaPIYqC1lGAZ+\n",
       "kGM/5i3TexIivwOgK3rIk3GPo9dTf0QhoODMRRQZQvdJNgn5VylDLaIUr4EBq0Z4GFKcAh+AQVZn\n",
       "lIbW0e38iKlqVTIsCd0xkm2loAl5Csq3hdIhNm3Zipsn4t5TRsgkP0Hzpj7ScmVohlVbLukpS0C5\n",
       "lHFjIm7HkjyLSq20xP1k/2BrMTkdj+q3yZvEOMZeNDnJQ5xYQUPRhiyJlkAh4E0nWvdjwlasXXMH\n",
       "ap9xtJgPkVwxVvsQPkaGusdxk2FjS3yRPxMzx9PpdB71DdjjvKbGYWirOjVpKebT3YFaW6NRZJC7\n",
       "3BI82JlMb0pSKq1yozobfEKmXAR//qRVC14ZaHCwFeK6BG/ViG5zqkbhB+Ee9Gd7htRW+NQx0o9v\n",
       "jCHqYk//gaG0Ihgu98jznTiRD92JI3yY1s++VnW6oRekUiCtFjMMlwPOz13aidmaTue8u1yEw7NC\n",
       "AnljOeTI3EKsLizF9e7CF9F/urlc+Zeyc5YK/kf7DUc7rjDs7b1hAAAAAElFTkSuQmCC\n",
       "\" style=\"display:inline;vertical-align:middle;\" /></a><br>"
      ],
      "text/plain": [
       "<IPython.core.display.HTML object>"
      ]
     },
     "metadata": {},
     "output_type": "display_data"
    }
   ],
   "source": [
    "int_interval_within_int = (\n",
    "    Forall((a, b), ProperSubset(Interval(a, b), Integer),\n",
    "           domain=Integer))"
   ]
  },
  {
   "cell_type": "code",
   "execution_count": 21,
   "metadata": {},
   "outputs": [
    {
     "data": {
      "text/html": [
       "<strong id=\"nat_interval_within_nat\"><a class=\"ProveItLink\" href=\"proofs/nat_interval_within_nat/thm_proof.ipynb\">nat_interval_within_nat</a> (conjecture without proof):<br></strong> <a class=\"ProveItLink\" href=\"../__pv_it/theorems/8deae4de96448e3dd4d72659104740df2d3be2b20/theorem_expr.ipynb\"><img src=\"data:image/png;base64,iVBORw0KGgoAAAANSUhEUgAAAMMAAAAWBAMAAACPojUFAAAAMFBMVEX///+IiIgiIiIQEBB2dnbu\n",
       "7u5ERETMzMzc3NwyMjK6urpmZmaYmJiqqqpUVFQAAAB6qHgnAAAAAXRSTlMAQObYZgAAAAlwSFlz\n",
       "AAAOxAAADsQBlSsOGwAAAvdJREFUSMe1lU1oE0EUgF9+9ifZ3big2J5KCRaFImgRBCkSLEXBWhYt\n",
       "PXhootBYESVUL6VYQ72nuVRKVVjRg4cKESpSLdIcFMSDK4ioCKZSIRGFSq3Wg+B72Z/udrNDPfhg\n",
       "hpn3ZuebefPeW4BNSB7bST3YLr5lfroJCRnYpjXGirHBjZrjP89q0LWi38JxhRQfmIjX2D4GEfo7\n",
       "qL/g05+PV4BbhtACwCOaT7EIXBG7Q4Hm69DQ/CnfA7AHYBLvSL7MsBDSAhPxpzHiWyaWh1aAFwAx\n",
       "9EDUYCEiwELEVz3m7clkcicNqmWxSIiIBjKeMcZ8indMRLTVbR45Yuuridw2QsRw/45kch8TMWvv\n",
       "IS41qz5rbLHFcBDcLkdfhQyvIyKK8fQQYJCJuEHdHLbbeX7VZ01PcmsAW81JQnchRrk2RMgYLAUQ\n",
       "K7ZeuGYNxmd1+aA13k0X6MQjdoLU6kNgNO8FmDBf0+XxKsjGG4woBRuvRdfZS8RpyepKpRseWLoD\n",
       "SKjhEmkZwikfAq/3A/G1OmPMjYDPCdxeWEaM6mLvx/Y4h8qyBKl1BIyiLyMZSPuryA6IY9hGp+uT\n",
       "ggcxwOGl44iBYhm7vjLFgvC9RaN8BOXyXTXlchSlb1qFl43SQlp1kj/sQQgq5ptCvj02SaEgrFE1\n",
       "aguV+mmBkut+byNOWRGVNqCm+MraLziBZ+pyZakpZ7A1IUKmtL6Kry2VBLoQvyAXZ0yEFLJTvtdC\n",
       "8KrSLtVD8zdFUtG0foVzrryYdhA3iYhrJDppAn0f0UMUVpGcVHmezWYNJcelrD1g2EJwi4cLTXVN\n",
       "O/mkZFoHjrrrS/8Xq1yOrGTM6ha2ny+d55+icQtEjEvmLeCenWbhHLNGgSf575y2Cogt404dyl+Z\n",
       "0fogrD3DIMa5rEPIzha59A8In8w7xWz+VQ9cNIT7Koj0UMNT1p+EZAic9A2SucAf4oYibqZoXzbr\n",
       "DX+KsQlmMcbEDxDeG4LxgD+biK8iPmEwxN5AY7N3KsN/kb+8xLKUwIahLAAAAABJRU5ErkJggg==\n",
       "\" style=\"display:inline;vertical-align:middle;\" /></a><br>"
      ],
      "text/plain": [
       "<IPython.core.display.HTML object>"
      ]
     },
     "metadata": {},
     "output_type": "display_data"
    }
   ],
   "source": [
    "nat_interval_within_nat = (\n",
    "    Forall((a, b), ProperSubset(Interval(a, b), Natural),\n",
    "           domain=Natural))"
   ]
  },
  {
   "cell_type": "code",
   "execution_count": 22,
   "metadata": {},
   "outputs": [
    {
     "data": {
      "text/html": [
       "<strong id=\"natpos_interval_within_natpos\"><a class=\"ProveItLink\" href=\"proofs/natpos_interval_within_natpos/thm_proof.ipynb\">natpos_interval_within_natpos</a> (conjecture without proof):<br></strong> <a class=\"ProveItLink\" href=\"../__pv_it/theorems/859ccad1b543d6e4ebaf2efb45d2869ef19f255b0/theorem_expr.ipynb\"><img src=\"data:image/png;base64,iVBORw0KGgoAAAANSUhEUgAAAN8AAAAZBAMAAABDZua2AAAAMFBMVEX///+IiIgiIiIQEBB2dnbu\n",
       "7u5ERETMzMzc3NwyMjK6urpmZmaYmJiqqqpUVFQAAAB6qHgnAAAAAXRSTlMAQObYZgAAAAlwSFlz\n",
       "AAAOxAAADsQBlSsOGwAAA0VJREFUSMe1Vk1o1EAUftndJGuT7a5WBC+lLIoFDxaRKiIahYKCQmhL\n",
       "wUu3WowggusPogfbaL2IWnOplFJ1Dwoi1caiFdtiU0RBQVg9iIiHiKWisGAPBRUKvkmy+dl0k12K\n",
       "AzPM5E3me+/Ne98bgIrbW1hOU7FzVf2RUJcF2IU93lXNHwfJQD8I2HFdDgGEmWoAj5Nh7b2AHeyc\n",
       "WPKF3iQNQGzX9iJgBDfoZPIlHC/eRNy6UEZKdzfgyOil35n8I4CMbSGFGybIZDAckBNwiDWUE69Q\n",
       "lxTXNsY0iAInSc0SuohGhXsqvMxkLhAwmV8a8CMaE7EthGFUDd0ay4cD9oqBgKMe8Zp0Or3BALyW\n",
       "uuIGHAfgNQStIGZWQSDgHrf4/F7bQvk7JbgA67BvTqe3VAD4wz6xf/dFv/j2yoINSDc6LpUZOOYC\n",
       "JI54BnCkHErMmUpG5CgANdvghOiL0j9iRgaqyUTJuQBZtbW1yDR4MVlUGOJ62dB0mUCGPvR/mwZj\n",
       "fhpagGgK4otmxLqCRoZ3iW5nfQN1YcSYrRF705pcepLjd3oANxJnDuEwDbDOr5kCScybzltk0eMB\n",
       "rBW/OesMQiVSLo1mCWq9lEvoLfDUZyE7jr5sBvqvDzAiwCiG+j5D9X4PIK23uixEl4LiYrit2Cfx\n",
       "Y2KGAyE2OTY54XEpUgk9D/yvpdJwWiwSUcQDCCcZV3IRuj0wgEP7DAlldr5epDRyJxfupwSPhXNW\n",
       "lNKLUKt88gFm6R0oNoOG0xxqQ+WpsyXp2qeTSGZ/E65bT6kdRhBkWz57AeuKaXEIPqhGyGUUEp2W\n",
       "JRqjOnk45DAeoZTnzikvjc2oBaeyRDtG45URE5CjujyANpV0rj73NWt4TrViiaTF7JQr8Tt+WnnD\n",
       "3mkuFjazvShOojlC5BDNcvobSZLyiSwtKJ48jAZzKXiI6O5hi9pK27AdrjLzCrVKQjR/xrQQHqaq\n",
       "qRYA4WKzWlj6y70jYjsWyNeYl7jmc0btcldX4nKLSsryhBICyNtn1ky93w+n8+xjpIujuD41aJVm\n",
       "pxVIHVsMPK9NCwGMlDxCzCrVLkm5cm+aq4WA4y4XwipAyZumRgx8tQmw3FZa6Pn/+S417hgt+gel\n",
       "UL9WU/Dg6QAAAABJRU5ErkJggg==\n",
       "\" style=\"display:inline;vertical-align:middle;\" /></a><br>"
      ],
      "text/plain": [
       "<IPython.core.display.HTML object>"
      ]
     },
     "metadata": {},
     "output_type": "display_data"
    }
   ],
   "source": [
    "natpos_interval_within_natpos = (\n",
    "    Forall((a, b), ProperSubset(Interval(a, b), NaturalPos),\n",
    "           domain=NaturalPos))"
   ]
  },
  {
   "cell_type": "code",
   "execution_count": 23,
   "metadata": {},
   "outputs": [
    {
     "data": {
      "text/html": [
       "<strong id=\"negint_interval_within_negint\"><a class=\"ProveItLink\" href=\"proofs/negint_interval_within_negint/thm_proof.ipynb\">negint_interval_within_negint</a> (conjecture without proof):<br></strong> <a class=\"ProveItLink\" href=\"../__pv_it/theorems/f27d29066465df640650d4ea725fb791497cb97b0/theorem_expr.ipynb\"><img src=\"data:image/png;base64,iVBORw0KGgoAAAANSUhEUgAAAN8AAAAZBAMAAABDZua2AAAAMFBMVEX///+IiIgiIiIQEBB2dnbu\n",
       "7u5ERETMzMzc3NwyMjK6urpmZmaYmJiqqqpUVFQAAAB6qHgnAAAAAXRSTlMAQObYZgAAAAlwSFlz\n",
       "AAAOxAAADsQBlSsOGwAAAydJREFUSMe1Vk1oE0EUfvnZbrJJY8FevIQQKnisRaKIYFUqYq1stebY\n",
       "1p9GixgX6kEQm5Uc1XRBU6T2EBAvWjCKtLQpmiIKXmSVggUFUxD8QcWiwVIo+GY3m53sppsN1Qc7\n",
       "zMx7+76Z9zsAtsmfgXWSrz7xd+vFA09/PdKMRIZ7VvoWaumYqwewIY/DprtWIsMDxp3GG79Gwyfz\n",
       "2tLJAxTI5L0NwCT5v7gWN9pGxrhx2xEXQPLqS0SbIZNbNgAf4+cOrcm+TYa9pjDJgiPfBWwM6Qx6\n",
       "BA88bNeZK9aAq1UBAyJEGUr7OIAXzeqWa+OxRUtArkgDOk6Ew2GBBBnAVEDQxSYxu9CjXhsXdIQs\n",
       "AVVOCZC9KeoHLVyixDbi1xYOb7MBGJA0tak9V8xs72JQLgMeEang5unQfYD2nAIYsJMVxBM+ROV2\n",
       "wHnexO5LM8vqBZC+Uox5fxO1SqB5U+Ap2AD0EqEk2v9oHh6Z2R942AowogaDRDGkCn+NZMid3eUi\n",
       "yY5qBox0nspWaHTiMjWGk6cALWbAaYDfGCNfZMVtlOvlgwC6QfoQqrGJOsNHIh+MZZyiu5s33ZCd\n",
       "xL0IMCtmwBbgMDHcY0qJowCjJOU+6zckEStRFW47fjnc9MPla+DJ5XIzFSZtKACzBP6f1dLQV1QM\n",
       "S4iK5U+YiYwunyDh1JXGoWfuALncUpB3qJUvmzVEab8apcwqBqy5Sv8hvoV96mJWT4rsffw1VBGl\n",
       "kMSzM1vYZWLxzY5sVG1+1wVDHraW0uI4vFEP0ydpA9I3OKvnoTejJ0UaPOf0UvNMObtAah7bqnQE\n",
       "vzShcLrd1UoJAextvrgoaGGkDki9nXkdkIlrTeXOYCS2O9Je1vJEm7gypJCDS/AVXmKdlaG9A45V\n",
       "Iu60rqVAlzZuf6m0GWm8HK5iw3M07wZwyReUP97moaOubgFVi7exiZfbm0tMTPA92CBfoNmJZh9w\n",
       "BuVDmiMtaLrWs6icMNzs60MwJLMPm8BzGtevfjQPGupPAHPas2p9gV01AJ1i5VotTD2xWGatN83V\n",
       "71ZvmsO12pzhTcPxltLz//zV5v/v71K80V8mesHM1oe3awAAAABJRU5ErkJggg==\n",
       "\" style=\"display:inline;vertical-align:middle;\" /></a><br>"
      ],
      "text/plain": [
       "<IPython.core.display.HTML object>"
      ]
     },
     "metadata": {},
     "output_type": "display_data"
    }
   ],
   "source": [
    "negint_interval_within_negint = (\n",
    "    Forall((a, b), ProperSubset(Interval(a, b), IntegerNeg),\n",
    "           domain=IntegerNeg))"
   ]
  },
  {
   "cell_type": "code",
   "execution_count": 24,
   "metadata": {},
   "outputs": [
    {
     "data": {
      "text/html": [
       "<strong id=\"nat_within_int\"><a class=\"ProveItLink\" href=\"proofs/nat_within_int/thm_proof.ipynb\">nat_within_int</a> (conjecture without proof):<br></strong> <a class=\"ProveItLink\" href=\"../__pv_it/theorems/2474761cf02407fcd54ac30926fa848232fdc9f10/theorem_expr.ipynb\"><img src=\"data:image/png;base64,iVBORw0KGgoAAAANSUhEUgAAADkAAAAQBAMAAABelcpIAAAAMFBMVEX///9mZmbMzMyIiIiYmJjc\n",
       "3NxUVFSqqqq6uroQEBB2dnYyMjJEREQiIiLu7u4AAAAPqInnAAAAAXRSTlMAQObYZgAAAAlwSFlz\n",
       "AAAOxAAADsQBlSsOGwAAAP9JREFUGNNjePvn9AOGlT8bGFBA9fzZZ+9MATKOcyQw8H1AlWSwSWLg\n",
       "ZtgAZOQGLGFgmIAmK8jAYMJVAGSkH+AOYLiAJpvKwHfgDZjhzLoBJmtz9+7dSyDGAwZGhSSwLJuC\n",
       "FVRWeylCtxqTAMSQAzwNYFm+q0hmn+N5AJFV5LsHlmVD8hb7AmeoA1gKasBu5kbSCvEPSJYhjw0s\n",
       "q4Yka87VwMAHkX3GBzY5DCHJdyAGaFMAWJbJ4ABIiBchy6YAFH4PZBwCYiOwLKMDXFaRA+ifXCBj\n",
       "O0gc4oQdCP9wP2CIqQGGwE+gPj6I7JuMBxBJjjk7z5z8eQoteLvOQkMSCgB/9keS8E/FTAAAAABJ\n",
       "RU5ErkJggg==\n",
       "\" style=\"display:inline;vertical-align:middle;\" /></a><br>"
      ],
      "text/plain": [
       "<IPython.core.display.HTML object>"
      ]
     },
     "metadata": {},
     "output_type": "display_data"
    }
   ],
   "source": [
    "nat_within_int = ProperSubset(Natural, Integer)"
   ]
  },
  {
   "cell_type": "code",
   "execution_count": 25,
   "metadata": {},
   "outputs": [
    {
     "data": {
      "text/html": [
       "<strong id=\"nat_pos_within_int\"><a class=\"ProveItLink\" href=\"proofs/nat_pos_within_int/thm_proof.ipynb\">nat_pos_within_int</a> (conjecture without proof):<br></strong> <a class=\"ProveItLink\" href=\"../__pv_it/theorems/90ac6a2124ab0233f6fa884959824a61353e08760/theorem_expr.ipynb\"><img src=\"data:image/png;base64,iVBORw0KGgoAAAANSUhEUgAAAEYAAAATBAMAAADfQ2bzAAAAMFBMVEX///9mZmbMzMyIiIiYmJjc\n",
       "3NxUVFSqqqq6uroQEBB2dnYyMjJEREQiIiLu7u4AAAAPqInnAAAAAXRSTlMAQObYZgAAAAlwSFlz\n",
       "AAAOxAAADsQBlSsOGwAAARtJREFUKM9jYIADRgbCgIciNW//nH7AsPJnAzY17Dt/7rl70oGB4ThH\n",
       "AgPfB6zmMB9TYNjADWTkBixhYJjAIHPm5JkzDqhqGAUYmB2WAxnpB7gDGC5gNYctgOEN3wEgI9WZ\n",
       "dQOqGuazd+/eVQAy+BgYhNhAjFQ2BSsUNUy7AuAmMSUogqhUhgM8Dchq3gYghceDcxA1inz3LiCF\n",
       "cwaSi6pYDCBqWApqJiCJb0BmczNA1DDksSGpYUpACqCCFQwMD8BqnvFdQIizIql5w3oArACImAwO\n",
       "IJmPpD4JGEKgODgEZBshqxFBWCvQCAxIoJ7tIC8hu5O7AeHzfQysxw8waP8EmsGHrIbvWB+U1Xl6\n",
       "zpn5cxZgSy4ca6BxAQUAkCNPARePc+cAAAAASUVORK5CYII=\n",
       "\" style=\"display:inline;vertical-align:middle;\" /></a><br>"
      ],
      "text/plain": [
       "<IPython.core.display.HTML object>"
      ]
     },
     "metadata": {},
     "output_type": "display_data"
    }
   ],
   "source": [
    "nat_pos_within_int = ProperSubset(NaturalPos, Integer)"
   ]
  },
  {
   "cell_type": "code",
   "execution_count": 26,
   "metadata": {},
   "outputs": [
    {
     "data": {
      "text/html": [
       "<strong id=\"nat_pos_within_nonzero_int\"><a class=\"ProveItLink\" href=\"proofs/nat_pos_within_nonzero_int/thm_proof.ipynb\">nat_pos_within_nonzero_int</a> (conjecture without proof):<br></strong> <a class=\"ProveItLink\" href=\"../__pv_it/theorems/74faa9717bb327e25aca36f6b3599acb9ebb42b10/theorem_expr.ipynb\"><img src=\"data:image/png;base64,iVBORw0KGgoAAAANSUhEUgAAAFsAAAAVCAMAAAAeumK3AAAAOVBMVEX///82NjYbGxsSEhJmZmbM\n",
       "zMyIiIiYmJjc3NxUVFSqqqq6uroQEBB2dnYyMjJEREQiIiLu7u4AAABSLsBdAAAAAXRSTlMAQObY\n",
       "ZgAAAAlwSFlzAAAOxAAADsQBlSsOGwAAAW9JREFUOMu1lYt2wyAIhtmmRryhvv/DDoxJtiy0a9dx\n",
       "GnuCni8EfgjAi63Bv1mOY80uayfMs2iPsi4OIJJyhJ5lo5c1WV66fy07jkz4LklPAVrtREVucuop\n",
       "/p4dCp8vVCulhbNIYh98LWAHuy4CChBHmlp/JG5HKK9exm+6lvG3spOTHFUPeXgTzAASjQBumjET\n",
       "l8MmvxnSmpMubgzsK5L5+kjco2yMW4kS0vvbDOmoJXrWjC+32Y4TO8x+axJjATePxf2waBBnALwv\n",
       "YlfZtuRLRTHO7r1AR0ty75i2vRzDKKrsVjWttoMYnJI4fnqrrSp9iVGRYR4tuFpRi7IECJSUshXd\n",
       "v2+FqPcpNkCFfRTpVN8wR1O7MwMawpGTqwH0c5oSePpC0NlgnSrr62eyuGZYXY2bpkCd1djmqkW5\n",
       "/HGtOVaVXbaeNUU9Ei/1N0acp6DFZEtPc6+p7EYYTwWLiYqMHR6GlP/2rYqZTj1/3z4BIWsPvQ4I\n",
       "Ha0AAAAASUVORK5CYII=\n",
       "\" style=\"display:inline;vertical-align:middle;\" /></a><br>"
      ],
      "text/plain": [
       "<IPython.core.display.HTML object>"
      ]
     },
     "metadata": {},
     "output_type": "display_data"
    }
   ],
   "source": [
    "nat_pos_within_nonzero_int = ProperSubset(NaturalPos, IntegerNonZero)"
   ]
  },
  {
   "cell_type": "code",
   "execution_count": 27,
   "metadata": {},
   "outputs": [
    {
     "data": {
      "text/html": [
       "<strong id=\"nonzero_int_within_int\"><a class=\"ProveItLink\" href=\"proofs/nonzero_int_within_int/thm_proof.ipynb\">nonzero_int_within_int</a> (conjecture without proof):<br></strong> <a class=\"ProveItLink\" href=\"../__pv_it/theorems/6b87694d7c19efa4ee1977d07f61d2d814956bee0/theorem_expr.ipynb\"><img src=\"data:image/png;base64,iVBORw0KGgoAAAANSUhEUgAAAE4AAAAVCAMAAADfPSgbAAAAOVBMVEX///82NjYbGxsSEhK6urru\n",
       "7u7c3Nx2dnZmZmbMzMxUVFSIiIiYmJgiIiJEREQQEBAyMjKqqqoAAAAljUYiAAAAAXRSTlMAQObY\n",
       "ZgAAAAlwSFlzAAAOxAAADsQBlSsOGwAAASlJREFUOMutVItuxCAMYzvelPD4/49dCL0bMDhWXaMW\n",
       "qa1s1YkdxhYl2J2lOJ3KqTvYpC3n4RjjcAOdleUMBo8sP2bjJFHm0sCQLkFTDDlE8B7CwZiGUg+8\n",
       "D2aIzh9X8MyBLZoiXbVcZah0wb2nG/BanwzqqUqc3a9i80bsgKeuI0MlKWK/v4DE/m8UPb76VRtG\n",
       "v0wa7UtHMYodpPlapvN7iycGo58P8BsItLFu42Gimv5rhyeGF0lat174hfAWjwyKAlArvmkTX3il\n",
       "xfcmSXxNF9fvm08unYnfbBFjF87r8DhhCU1SN3vhb0d7PE648oi8yaOfd7TD44R5HbL1Gzo9i++A\n",
       "xwnHIlpC2q62yKcmafA8QAyYKVwLsN28Aiwf5nUJP9mEMISsqx/myw2XFCtgrQAAAABJRU5ErkJg\n",
       "gg==\n",
       "\" style=\"display:inline;vertical-align:middle;\" /></a><br>"
      ],
      "text/plain": [
       "<IPython.core.display.HTML object>"
      ]
     },
     "metadata": {},
     "output_type": "display_data"
    }
   ],
   "source": [
    "nonzero_int_within_int = ProperSubset(IntegerNonZero, Integer)"
   ]
  },
  {
   "cell_type": "code",
   "execution_count": 28,
   "metadata": {},
   "outputs": [
    {
     "data": {
      "text/html": [
       "<strong id=\"neg_int_within_int\"><a class=\"ProveItLink\" href=\"proofs/neg_int_within_int/thm_proof.ipynb\">neg_int_within_int</a> (conjecture without proof):<br></strong> <a class=\"ProveItLink\" href=\"../__pv_it/theorems/4dc7ff92722274d792add06c3fd4114a47e532490/theorem_expr.ipynb\"><img src=\"data:image/png;base64,iVBORw0KGgoAAAANSUhEUgAAAEYAAAAQBAMAAABZ1xRdAAAAMFBMVEX///+6urru7u7c3Nx2dnZm\n",
       "ZmbMzMxUVFSIiIiYmJgiIiJEREQQEBAyMjKqqqoAAAB4Cw+YAAAAAXRSTlMAQObYZgAAAAlwSFlz\n",
       "AAAOxAAADsQBlSsOGwAAAM1JREFUKM9j4Lvz5/aqPRMYsAGYHMf2BIYLvFiVwOVYAxg4JvgxsO0G\n",
       "gs1oaqByDOwGDNpMG7CbA5NjYmAIY09AtWLXqlWrQEIIObaCVBQlbFcMEGyoHLfCJhQ1WgglcLkn\n",
       "nA0oagqR2DA5dJ9fQGZD5DgeODIwKCA5pwDJ9VA5bWag74oR4sxIamByZcBQYPqAZP4CBBMqxxYg\n",
       "CgwsJHGGSIS1UDluhUsMzPuQA5pXAOFziJzM3tO7z592QFLDtF0IysKUgwNGb2hcQAEAk5xCSchv\n",
       "KioAAAAASUVORK5CYII=\n",
       "\" style=\"display:inline;vertical-align:middle;\" /></a><br>"
      ],
      "text/plain": [
       "<IPython.core.display.HTML object>"
      ]
     },
     "metadata": {},
     "output_type": "display_data"
    }
   ],
   "source": [
    "neg_int_within_int = ProperSubset(IntegerNeg, Integer)"
   ]
  },
  {
   "cell_type": "code",
   "execution_count": 29,
   "metadata": {},
   "outputs": [
    {
     "data": {
      "text/html": [
       "<strong id=\"neg_int_within_nonzero_int\"><a class=\"ProveItLink\" href=\"proofs/neg_int_within_nonzero_int/thm_proof.ipynb\">neg_int_within_nonzero_int</a> (conjecture without proof):<br></strong> <a class=\"ProveItLink\" href=\"../__pv_it/theorems/0085258884711de3f9dc474391146a1c68cd09ec0/theorem_expr.ipynb\"><img src=\"data:image/png;base64,iVBORw0KGgoAAAANSUhEUgAAAFsAAAAVCAMAAAAeumK3AAAAOVBMVEX///82NjYbGxsSEhK6urru\n",
       "7u7c3Nx2dnZmZmbMzMxUVFSIiIiYmJgiIiJEREQQEBAyMjKqqqoAAAAljUYiAAAAAXRSTlMAQObY\n",
       "ZgAAAAlwSFlzAAAOxAAADsQBlSsOGwAAASFJREFUOMu1VNtyhSAMTFvuSLj8/8ceAvSgHZHKeDLK\n",
       "Q2CjbHYD8HBw+FhIVlZp5eOlhaF1swAMn65tBK1e5yWJZ0uzwoRIRLqPADH45AM6h367U+eIU0jx\n",
       "k98NdKntctaioSuE8tyIE5ytP1dr+0y6Ui0tI+XxN2Z0HXFFfq19lZMUG/05zXGhbW8ccfL9hYWT\n",
       "3ssidqWh3PCCAVdDH0yyx2nzPkwaND2t1UVlHeQpRQccdktm7yje03hhVu4G5O9x0Z7LSRYrjall\n",
       "MMcNVDbTX4A5Lp5/38Y2Yga09Cbdw1UdCdxNg8EAuo+jHd02eRqccIs4EhGrOjJuZMFtDUciCkSY\n",
       "wDh0ZmBLOOYx+GzVPNRQjltiGF/A/Xcy4x/Pz+MFD38OJB9ba9YAAAAASUVORK5CYII=\n",
       "\" style=\"display:inline;vertical-align:middle;\" /></a><br>"
      ],
      "text/plain": [
       "<IPython.core.display.HTML object>"
      ]
     },
     "metadata": {},
     "output_type": "display_data"
    }
   ],
   "source": [
    "neg_int_within_nonzero_int = ProperSubset(IntegerNeg, IntegerNonZero)"
   ]
  },
  {
   "cell_type": "code",
   "execution_count": 30,
   "metadata": {},
   "outputs": [
    {
     "data": {
      "text/html": [
       "<strong id=\"neg_int_within_nonpos_int\"><a class=\"ProveItLink\" href=\"proofs/neg_int_within_nonpos_int/thm_proof.ipynb\">neg_int_within_nonpos_int</a> (conjecture without proof):<br></strong> <a class=\"ProveItLink\" href=\"../__pv_it/theorems/8231f4a5f9386a3b1b61110cd2241d7603b3a6dc0/theorem_expr.ipynb\"><img src=\"data:image/png;base64,iVBORw0KGgoAAAANSUhEUgAAAFoAAAAUBAMAAAD/1DctAAAAMFBMVEX///+6urru7u7c3Nx2dnZm\n",
       "ZmbMzMxUVFSIiIiYmJgiIiJEREQQEBAyMjKqqqoAAAB4Cw+YAAAAAXRSTlMAQObYZgAAAAlwSFlz\n",
       "AAAOxAAADsQBlSsOGwAAAWZJREFUKM9jYCAOvDZgcGlhIFZxAwNnA+MG4hTPnsDAwJPA8Jkoxd0P\n",
       "gIS9AsM5Br47f26v2jMBq6q358/uWn2SIQekmCFfgWElA8f2BIYLvDjMLGPgZbjAwLdFAaL6BANr\n",
       "AAPHBD8Gtt1AsBlNdSgDQycL0GBGkHKgS/4xsBswaDPh8GwxA9MGbRCDrdQA4ksmBoYw9gRUB6xa\n",
       "tWoZiKHAwJpQBhZiLlfgaGAsAGksSEVRnOuMYKezBUAYzAwMLq0g53MrbEJWzLQYibOJWwHNdU84\n",
       "G5C57AIINp/DDHS/oIUfLwr7ApDMBoWXAUSE44EjyD8IpyKp7mMRAAUDEtBm3gAKKzgwR/LCBmsG\n",
       "UBAjgTIgl+kDgs+F5IUEoCn6yIrZAkSBwgsQAqyINJPKCAy/KmTV3AqXGJj3IUfmRUT48SowWL9G\n",
       "Vi2z9/Tu86cdkD1SCPUz4+k7u/f82UIgOYvsgsY8BgAAC/ZZEjOQNDkAAAAASUVORK5CYII=\n",
       "\" style=\"display:inline;vertical-align:middle;\" /></a><br>"
      ],
      "text/plain": [
       "<IPython.core.display.HTML object>"
      ]
     },
     "metadata": {},
     "output_type": "display_data"
    }
   ],
   "source": [
    "neg_int_within_nonpos_int = ProperSubset(IntegerNeg, IntegerNonPos)"
   ]
  },
  {
   "cell_type": "code",
   "execution_count": 31,
   "metadata": {},
   "outputs": [
    {
     "data": {
      "text/html": [
       "<strong id=\"nonpos_int_within_int\"><a class=\"ProveItLink\" href=\"proofs/nonpos_int_within_int/thm_proof.ipynb\">nonpos_int_within_int</a> (conjecture without proof):<br></strong> <a class=\"ProveItLink\" href=\"../__pv_it/theorems/d0b8d558cb9d2d225dd7a9e8b19d164ee607dc3f0/theorem_expr.ipynb\"><img src=\"data:image/png;base64,iVBORw0KGgoAAAANSUhEUgAAAE4AAAAUBAMAAADRkRa/AAAAMFBMVEX///+6urru7u7c3Nx2dnZm\n",
       "ZmbMzMxUVFSIiIiYmJgiIiJEREQQEBAyMjKqqqoAAAB4Cw+YAAAAAXRSTlMAQObYZgAAAAlwSFlz\n",
       "AAAOxAAADsQBlSsOGwAAASRJREFUKM9jYEAAvs0MLB4ODIQA3w4GhhkM0oSUce4EEscY+A3wK+PY\n",
       "BySYPzHwPMBh250/t1ftmcB2DsRh+8TANQGrPAPH9gSGC7wMDK+dIOp4GtDsgcqzBjBwTPADCkg7\n",
       "ge3lR7MXJs9uwKDNtAEkkh6MzR8weSYGhjD2BLCQeRFDB4M41Lpdq1atAgkj5NkKUqF6DYDhHARm\n",
       "sV1BGAuT51bYhBEKWki2w+SfcDZgqCtEYsPkQb5mYNsNBJvhcheQ1IHlgS5+4MjAoIBqHFsBUgBC\n",
       "5bWZgb4uRlXHjKQOJl8GDCGmD2juW4BgQuXZAkSBgbkATV0kwglQeW6FSwzM+zagqeMVQIQKRF5m\n",
       "7+nd50+jp2Km7UJQFnZ5OGD0hsYbFAAAx25UqlGYFNUAAAAASUVORK5CYII=\n",
       "\" style=\"display:inline;vertical-align:middle;\" /></a><br>"
      ],
      "text/plain": [
       "<IPython.core.display.HTML object>"
      ]
     },
     "metadata": {},
     "output_type": "display_data"
    }
   ],
   "source": [
    "nonpos_int_within_int = ProperSubset(IntegerNonPos, Integer)"
   ]
  },
  {
   "cell_type": "code",
   "execution_count": 32,
   "metadata": {},
   "outputs": [
    {
     "data": {
      "text/html": [
       "<strong id=\"zero_is_int\"><a class=\"ProveItLink\" href=\"proofs/zero_is_int/thm_proof.ipynb\">zero_is_int</a> (conjecture with conjecture-based proof):<br></strong> <a class=\"ProveItLink\" href=\"../__pv_it/theorems/5f598aa5221de43b5e98d614f0c7f6ba2eb6c5d00/theorem_expr.ipynb\"><img src=\"data:image/png;base64,iVBORw0KGgoAAAANSUhEUgAAADIAAAAQBAMAAACmdTG/AAAAMFBMVEX///8QEBC6urrMzMxUVFRE\n",
       "RESYmJgiIiLu7u6qqqoyMjLc3NxmZmaIiIh2dnYAAABcDckaAAAAAXRSTlMAQObYZgAAAAlwSFlz\n",
       "AAAOxAAADsQBlSsOGwAAAPZJREFUGNNjYMAAnAs/Li0PTGBg4Ht7GlWGN8SAYQEXkLGSoX0DigzP\n",
       "AQbehJcMDGwFDHwBKDIsGxhaOYBCrA4MnD8gpoSXV4FoDgaGwywGDAz8BxiYf4IEmNY2wHQxO9gA\n",
       "yX6gzDcQdxdcgoG1IQJI7n/AwPwXxF2NsGke2wWozD8QdwFCBuxmhv4HDEwgPczi5eXlpRCnTHjE\n",
       "wNAAcgEnyAUcCKe3cgPZ3gysAQxsYFcXwGWcgT7i+MDAJsDAA7biLtzNB3SA3gUqrGRoNAAJcE2A\n",
       "u3kFA3ck0MCet85gAQ5XDYiMYpRoqLzoA6TwYnoKCR0oAAAtiDr7xf85TgAAAABJRU5ErkJggg==\n",
       "\" style=\"display:inline;vertical-align:middle;\" /></a><br>(alternate proof for <a class=\"ProveItLink\" href=\"#zero_is_int\">zero_is_int</a>)<br>"
      ],
      "text/plain": [
       "<IPython.core.display.HTML object>"
      ]
     },
     "metadata": {},
     "output_type": "display_data"
    }
   ],
   "source": [
    "# Proven\n",
    "zero_is_int = InSet(zero, Integer)"
   ]
  },
  {
   "cell_type": "code",
   "execution_count": 33,
   "metadata": {},
   "outputs": [
    {
     "data": {
      "text/html": [
       "<strong id=\"nonzero_if_in_nonzero_int\"><a class=\"ProveItLink\" href=\"proofs/nonzero_if_in_nonzero_int/thm_proof.ipynb\">nonzero_if_in_nonzero_int</a> (conjecture without proof):<br></strong> <a class=\"ProveItLink\" href=\"../__pv_it/theorems/ceceed85b6867326ed2a47605faa64f5c904aeae0/theorem_expr.ipynb\"><img src=\"data:image/png;base64,iVBORw0KGgoAAAANSUhEUgAAAIcAAAAVCAMAAABblw1wAAAASFBMVEX///8NDQ0WFhYLCwsYGBhK\n",
       "Sko9PT0oKChfX1+IiIgiIiIQEBB2dnbu7u5ERETMzMzc3NwyMjK6urpmZmaYmJiqqqpUVFQAAACO\n",
       "tbUiAAAAAXRSTlMAQObYZgAAAAlwSFlzAAAOxAAADsQBlSsOGwAAAjdJREFUSMe9VgmS3CAMdM4N\n",
       "h7gE+P8/DRLgwffsOhVqiy3MILVaLcE0/dPh/tOZmyHS9T7CwccgaM7LOsWnMJK+3rdmXGktkLkQ\n",
       "5BhD/+6fEgT+5gfGDgtfuAPJPn2hyXZCnHlKB94QavOwiJI5YacRGxj+lJ7iUHd0jIQbBpVm9q7K\n",
       "HFsU/rE6biyEkY5pRqZo5ug9YVCShtKP09ItuKyFE7v9lf6g42AWNEFEVo+Bpzh8Izao4tDMiz3k\n",
       "OOXPHzQvapx1xcF4o2f4fXqvKsiAE0lsy0tWgYHiMpSXdLxw8L+kOhU6nPnNymgsf0t4vdK2clDV\n",
       "BM4MapvmgOtoKoBQ+bB8JokjlVqRjSmmqcQ1iE5zDBxzE/kBDmXYTbiko+s0VZ0G1Uol7mSF2JpO\n",
       "YdkmR1xrRPzzgaXzOWJd2qO8AEcY58ES6eL7t6qSJf2mdo4qoyRb6+hNBHQU2vVe+0rFOiuNj02E\n",
       "RlQcBCf7Ka22/bYMIlOANQ+x9lCnGkzqs3YuBmBsrtElDr3w8fsXEh+cxm0qdV7gJDlA54Bxl3ei\n",
       "D5RdlXy2PRklCQQ0DHSAmLrooJsr9RK39WIruZCFti4Le0kH2dKi+5VhLzWRuaAND+JYF5mWY3B2\n",
       "b78itF+8iN2myIFSYmJxaV8HQ7IsUmi1cj4inrY4+NwFqUgeIcLYXjVnOsg3Wpw5eTnEGzp2N33A\n",
       "mISOvNfLNueScOPf6bdw8nSQ8CX4rYJJH+GTT01x/PC4fkwSjL/TqR7zy5CbGAAAAABJRU5ErkJg\n",
       "gg==\n",
       "\" style=\"display:inline;vertical-align:middle;\" /></a><br>"
      ],
      "text/plain": [
       "<IPython.core.display.HTML object>"
      ]
     },
     "metadata": {},
     "output_type": "display_data"
    }
   ],
   "source": [
    "nonzero_if_in_nonzero_int = Forall(a, NotEquals(a, zero), domain=IntegerNonZero)"
   ]
  },
  {
   "cell_type": "code",
   "execution_count": 34,
   "metadata": {},
   "outputs": [
    {
     "data": {
      "text/html": [
       "<strong id=\"negative_if_in_neg_int\"><a class=\"ProveItLink\" href=\"proofs/negative_if_in_neg_int/thm_proof.ipynb\">negative_if_in_neg_int</a> (conjecture without proof):<br></strong> <a class=\"ProveItLink\" href=\"../__pv_it/theorems/4d273e0b719c8a98df0f455aea09322d55d6340b0/theorem_expr.ipynb\"><img src=\"data:image/png;base64,iVBORw0KGgoAAAANSUhEUgAAAH8AAAAVBAMAAACd/CwcAAAAMFBMVEX///+IiIgiIiIQEBB2dnbu\n",
       "7u5ERETMzMzc3NwyMjK6urpmZmaYmJiqqqpUVFQAAAB6qHgnAAAAAXRSTlMAQObYZgAAAAlwSFlz\n",
       "AAAOxAAADsQBlSsOGwAAAgNJREFUOMuNlM9LG0EUx79JdrLJZhNy8CCIoiJUsAcpoh4jqAgqjGiF\n",
       "XvwBdqWX1oMHL+qqR3+Qi+BFiHfBIIJoBKOlhyLYbS96KBj/AVHoQVqEvll3NROyqwPLvnkz77Pv\n",
       "fd/MAi+PiOeKiVeNas+VLXoKwvjtFx9PlXV3VpkI5IFDMdnwA3wo641arBFYB+ZEkWN+gKOy3lOg\n",
       "GzgjEgcUyw/QXFqSne9n4IojxKFTGVFfCdLyXG/i4vUPmLcQpeh39fUtfoCY0HCtY8GZBhrseCYA\n",
       "eSjUg33gox9AfERrxxc7DkN1ztn4Q4AkdEpvDZGCHyBIAg3msWtPlt+iCJBCnAQKcyVTtD/R2juR\n",
       "LQaEaPUYaLAXN10vI8BOEuotiZR80lCtMTJBUxngpYBWsL8yQIh4ZUETLUqfuM7cFImM2RVEcrnc\n",
       "4XMJ7A76rVwCDOAHR7yWzP51Ic5Jj30waWSlChBOgj0gkb6URMRX4IA+J47gEmnIGtV7DD/2eXVK\n",
       "AohOjeOXix2o405irM3pcYICYlm1GduPOxS5CyplOVIxc+1idecg7NWQJ5h5UipQwHfDMCykuvBe\n",
       "Irwp6atedPUWXWPUDH/j08LSLvLokgLOXnPRQub8Ng+L3JQYtFpZRe//zvM11o5+9iEySdb5TcUn\n",
       "+WQy78teyh4yjEyZbQuegErgP7kVdFMeKIaVAAAAAElFTkSuQmCC\n",
       "\" style=\"display:inline;vertical-align:middle;\" /></a><br>"
      ],
      "text/plain": [
       "<IPython.core.display.HTML object>"
      ]
     },
     "metadata": {},
     "output_type": "display_data"
    }
   ],
   "source": [
    "negative_if_in_neg_int = Forall(a, Less(a, zero), domain=IntegerNeg)"
   ]
  },
  {
   "cell_type": "code",
   "execution_count": 35,
   "metadata": {},
   "outputs": [
    {
     "data": {
      "text/html": [
       "<strong id=\"nonpos_if_in_nonpos_int\"><a class=\"ProveItLink\" href=\"proofs/nonpos_if_in_nonpos_int/thm_proof.ipynb\">nonpos_if_in_nonpos_int</a> (conjecture without proof):<br></strong> <a class=\"ProveItLink\" href=\"../__pv_it/theorems/3088a17093724247b013419bae336582e910f16e0/theorem_expr.ipynb\"><img src=\"data:image/png;base64,iVBORw0KGgoAAAANSUhEUgAAAIcAAAAVBAMAAACeZ+BxAAAAMFBMVEX///+IiIgiIiIQEBB2dnbu\n",
       "7u5ERETMzMzc3NwyMjK6urpmZmaYmJiqqqpUVFQAAAB6qHgnAAAAAXRSTlMAQObYZgAAAAlwSFlz\n",
       "AAAOxAAADsQBlSsOGwAAAkFJREFUOMudlE9o03AUx79N0zRtkpKD4GAwuiJsOIUi8w/ioQeng6lk\n",
       "MncR7ASNepEyvOoyPU7HLmMeFCJeB/YwGLY7dIoHEVwGggiDVRBEEdlBQdjF97IladN2EX+Q9r3f\n",
       "7/c+v9/7vpcA/zas/1gJj5jTcekZPXU2NqIgH9pPn+62EKsBFXYeRzASc6EJzY1IOYl+YB64R448\n",
       "EQFRas2+OmDw3yvgDPCOaOSKTgQkHlLogMvAbWDTQNyASoekoiT51OSN9e4a28CUgxQRjuRyg1GQ\n",
       "Jc75S5fuOpcPeUoxpAaRarMMXG8rZoP9hJ7nlvSb7StPvVn5F0F0qKT6LOR6G4b6FdPrXiMdJuYp\n",
       "KFm2M82QArQ8IBmi3RCcOTZyrUx5L3PtvMqepAJtQSi4zoyfDkFe6EhuUcl1X9dkj2kLljhqYGaY\n",
       "9uRxNIDEJ1C0W4XddJCmm2Bu1YNUS5QG7j6EfJBvm0VfkE5Rx1q4xCawZkDjLM/PM3112G1gGmXK\n",
       "Rv3u3uTEbtRVgjj4plnNzfYaeEkOt+oD0jXRn/yD8Z0Nj0rc1z/oir4mF0g6XRtQgrZf4F/BSRwn\n",
       "tViqDAUp5WQei+76qLijTwXTG97Jk3TM57Oz+8NdsNRDsYJXl7gdq+OtaZoOCkO4FK63UNqjE+97\n",
       "RtGS3hh32Ep/rGFIrlarlcamKe8BWfHfMGtq0ZBYLVFBOtuy8WZgXszx6PP94BOQXlk/B/kGWe9/\n",
       "7rvV2sHjnS8ihb6PY6Zpt98p6x0hXcBf0ed+2gYAU0sAAAAASUVORK5CYII=\n",
       "\" style=\"display:inline;vertical-align:middle;\" /></a><br>"
      ],
      "text/plain": [
       "<IPython.core.display.HTML object>"
      ]
     },
     "metadata": {},
     "output_type": "display_data"
    }
   ],
   "source": [
    "nonpos_if_in_nonpos_int = Forall(a, LessEq(a, zero), domain=IntegerNonPos)"
   ]
  },
  {
   "cell_type": "code",
   "execution_count": 36,
   "metadata": {},
   "outputs": [
    {
     "data": {
      "text/html": [
       "<strong id=\"nonzero_int_is_int_nonzero\"><a class=\"ProveItLink\" href=\"proofs/nonzero_int_is_int_nonzero/thm_proof.ipynb\">nonzero_int_is_int_nonzero</a> (conjecture without proof):<br></strong> <a class=\"ProveItLink\" href=\"../__pv_it/theorems/73dd78388565d1f4ec670fad59b8bf5a57c1d3ff0/theorem_expr.ipynb\"><img src=\"data:image/png;base64,iVBORw0KGgoAAAANSUhEUgAAAL8AAAAbCAMAAAAaua7MAAAAOVBMVEX///82NjYbGxsSEhKIiIgi\n",
       "IiIQEBB2dnbu7u5ERETMzMzc3NwyMjK6urpmZmaYmJiqqqpUVFQAAAAnLjGdAAAAAXRSTlMAQObY\n",
       "ZgAAAAlwSFlzAAAOxAAADsQBlSsOGwAAAt1JREFUWMPVWIuSpCAM9O54hTf+/8deAig4ous5414t\n",
       "NWupFaRJOp2w0/SDhpp+9JAuXyWT/wtBcG9MNil/gk2TA7zx3w8/vrVmMnQVGi8z3hr4dvrad2a7\n",
       "zBozUxKIWCPxrQPC5UBZMQsLnIPAOR5o/MG/MOmMn+cvcbpNbVJ4Fr4Rl00ZJKKJzb/6qqAr+EV2\n",
       "PSPsfk0pa57F76/LhvcVsowL9yrbC3/m/FrRvV4C8Hg+zO7fUhUhF9TEn9+/IPOn5S95nGJia1VY\n",
       "t/rQKJE/4gvHYbeFyuspsyhPXmnOSD/rk6fthUp7+7D7GT9UFssGW0PIetVbaAZYv3x9YjmjBO2d\n",
       "i6eLWrJrHZLMdNpn7DAwCHlFHcdS6XJIvX7Z4ZfZdatFgZpfTiB5oSPTWDei7ATeHlFSL3XZpEO/\n",
       "CZAefx2SWy2KLSsoUvTJd2Qag+u1Mx5kvimSQK6XOxPNEgC+5egeqXqGwtUWZTN48YCf80Pbny78\n",
       "xdFPYbFCOqOFKviJXXYvwTX30V06mr62wdUWZeR/AW3hjbJvkcGi5+mkKplZ11gtVFMyMGlauVsI\n",
       "v6F8t+BqP25R9vjVTCuFuQ/MyBG6AlfzqSSbKv1VAhSSJb/cOCWYqMf4V/ujFqWHBAVPLFoUTa/o\n",
       "r8D85IrLEj9r6aoKGJFa3dYkqq5bXbFpm42wqfNanLQoPaOLHeD7yDcRtXGgndmjBuJZVxBEC1ch\n",
       "p6tdUbDZoUBflpi+uAs1wL/aH7Uoe2epxKQ2iXURVQncJk2dACtwdWxC4aws+fSazyTNAaHqNs1F\n",
       "TX6VA/zN/rBF6YZwJ709bPqHi8O+clQQnV1QfTmTOdSOj/jT7I9alHv958Xz0K6jcj5EJkNm3iKf\n",
       "KWHEwaYR/mZ/1KL0SSk+jD+ks81JYsMw5MOUil+f5tKHO1x+88ACB/X+2fPv3v13z78j/PHK4SR+\n",
       "MgPun7funzPf+v/PqxzkDPsLYDUdq1AjUmsAAAAASUVORK5CYII=\n",
       "\" style=\"display:inline;vertical-align:middle;\" /></a><br>"
      ],
      "text/plain": [
       "<IPython.core.display.HTML object>"
      ]
     },
     "metadata": {},
     "output_type": "display_data"
    }
   ],
   "source": [
    "nonzero_int_is_int_nonzero = Forall(\n",
    "        a, InSet(a, IntegerNonZero), condition=NotEquals(a, zero),\n",
    "        domain=Integer)"
   ]
  },
  {
   "cell_type": "code",
   "execution_count": 37,
   "metadata": {},
   "outputs": [
    {
     "data": {
      "text/html": [
       "<strong id=\"neg_int_is_int_neg\"><a class=\"ProveItLink\" href=\"proofs/neg_int_is_int_neg/thm_proof.ipynb\">neg_int_is_int_neg</a> (conjecture without proof):<br></strong> <a class=\"ProveItLink\" href=\"../__pv_it/theorems/68dd9bd3464ff2e4f8c0978e7dec0931ba25bf340/theorem_expr.ipynb\"><img src=\"data:image/png;base64,iVBORw0KGgoAAAANSUhEUgAAALcAAAAZBAMAAACBVqIyAAAAMFBMVEX///+IiIgiIiIQEBB2dnbu\n",
       "7u5ERETMzMzc3NwyMjK6urpmZmaYmJiqqqpUVFQAAAB6qHgnAAAAAXRSTlMAQObYZgAAAAlwSFlz\n",
       "AAAOxAAADsQBlSsOGwAAArJJREFUSMe1Vk1oE0EU/vKzyWbzw4pFBUFCDqLooYrkIIo5tFXUwhZq\n",
       "rinaxhZRAvUmmoWeBG0jUvHQQ6B4smAOYkGlpIiCF41Q9KCHFcSfSylIoAiCbybszGwamibFgYSZ\n",
       "b9588+a9b94s0FWLldtZRNF1+9zWQh/pllsrtbdZ7pY8VG0Bxu//fpC6JGb8FuCwzpcOyadagb5r\n",
       "BZQickjMz1nnYYfkT1umsAJfdRDhPLVxCl0duNVN8P+0AhM2sprCNAdEKDTBWmfc4bonHBdTB3mW\n",
       "gcVEQeLPSLGUgUiHjvuSysC4Z4lNnRvKxE76HU2ljnVInmBK1L/tMdngtiVFZI0pVk9oYhEY6/CK\n",
       "hVhk5+1QvUkMKzFTsSpSiKahO6pX6XOjFc7QTNnX4/YitEA7gSiPjnKfSp74zpTZWYJuoQjvy5f9\n",
       "dnDI2kiuIWYarhT8tHt0Df4MW0NhTe1vpKJ2FpBByhFt3BT7vaCDxHDzDjaQ60tWoIB1xfPACF8N\n",
       "RXxZJumf0nOmnBKrAsPLZ+gKcLBSUcgZTu6t2pixcFIhz5l4zwdSOT9I6dqajLlNf4OztP+B8Dqy\n",
       "jWp6tyDJOQ7jCtkVLRx280Ie5mr4FWfLdwghVh7TVNKjFkw57OqGe7HAsaEgJDnHjVFmRuRHXJ33\n",
       "0rQZP8QFFakJIc5Cvyqj9Ir7QZ4GylRn3lJRqCHTjwuCnOOTfDmF5a97b0iD2tfT07v54b4/aqDz\n",
       "E+n8qXRGkC+JzNqh19Z1vvBTFf2CnOPaAGNXEorjarKNgcb1b25zbidgFxesEDt9MAojKT1nOLCL\n",
       "Uu0zDWfTqtj8oIgCZLz8cB76Zeq9W+2ZcAQ5x6m9Ifa+vULDk1t5Zh3veDiflw+v9xJ9tD3FZQtl\n",
       "1G9v9pT9zzd0M3KsbPP117f53UIJ+gek6KByAvKUrQAAAABJRU5ErkJggg==\n",
       "\" style=\"display:inline;vertical-align:middle;\" /></a><br>"
      ],
      "text/plain": [
       "<IPython.core.display.HTML object>"
      ]
     },
     "metadata": {},
     "output_type": "display_data"
    }
   ],
   "source": [
    "neg_int_is_int_neg = Forall(\n",
    "        a, InSet(a, IntegerNeg), condition=Less(a, zero),\n",
    "        domain=Integer)"
   ]
  },
  {
   "cell_type": "code",
   "execution_count": 38,
   "metadata": {},
   "outputs": [
    {
     "data": {
      "text/html": [
       "<strong id=\"nonpos_int_is_int_nonpos\"><a class=\"ProveItLink\" href=\"proofs/nonpos_int_is_int_nonpos/thm_proof.ipynb\">nonpos_int_is_int_nonpos</a> (conjecture without proof):<br></strong> <a class=\"ProveItLink\" href=\"../__pv_it/theorems/c1be1ab6fe3961ab0c1dc3b2ab6c195a322a63310/theorem_expr.ipynb\"><img src=\"data:image/png;base64,iVBORw0KGgoAAAANSUhEUgAAAL8AAAAaBAMAAAAUFZBoAAAAMFBMVEX///+IiIgiIiIQEBB2dnbu\n",
       "7u5ERETMzMzc3NwyMjK6urpmZmaYmJiqqqpUVFQAAAB6qHgnAAAAAXRSTlMAQObYZgAAAAlwSFlz\n",
       "AAAOxAAADsQBlSsOGwAAAwRJREFUSMe1VktoE1EUPflMk0zSNMXiRpAQRBRcVJEoQrGFRkQtvGLN\n",
       "UlttYwtWAxURxHakK0GTilRcdBEQu7FoELWioimi4EailCroYlz4AaFUpFCEgve96fzSYWgiPkjy\n",
       "7n0z99zPufcF+B+rvh/+ttZ/sRApuNrvAWYwiXDtAJ9c0U/R1y40KMHuWu1LYy6HnkH6Ci7CV6Yw\n",
       "alx1JafEXP99I3GiFGjhQmAR3hK8DFC5+LlKgFFHz09nMRYC5lIagC8GD1l/ws9uVgnwwEkZLsJT\n",
       "6qDNZEqkqKEMaREY5gmrthh/nJRRBWlJWBp+rBUZmABClCZ/uTr7FL81NccTW0XlgeloVqhyX9GI\n",
       "u7R5RJyieoWqDMATtwjyNWYAqxdWdgo12kP6XUefHYnEzioBopylubZLQrjMTHKxvoon79HhNNDn\n",
       "ZKXowlLKtLwbZ1gFQWYjsYonRyhlOQRVq3fJg73Ctr3wcwram3QhRC8cLuG+ECw9x0mKQIZW/4om\n",
       "X+Bx+fXBEtiYKXgVfydbBTAXQyQm6yovefAC2CTeoRQnNmulKR8AmM2vY2S6PmbU+CkFFMHFK6gE\n",
       "eE1M8GWxZIkgCUmQVTKfS3O6/7AB5DmrxvjE6JrZT22iJb9oAeB6rOc0zjO0mADSL0QWhGAy6jt1\n",
       "grRgrwH1AjrGyY8tgSWktVl4NWsCCP2QaJMRhm16nbohLROXPnKh0SBp8Q4dxVexCKMqb/NAM6aE\n",
       "rtMPE0Do63uZBrBd74NmoAfvtVBDZYOk4wgO2rnxUvhDHvsKNJfeUPnLaE3hiAEg9JA5AqVoWe8t\n",
       "6uSjTee/iFClb7c17a2BZGZv0n6PPTeqrdS9YmfFyx9KSBkAQk/R/1SsRcYeqxF5nzYqnNaEvvEp\n",
       "I1OsjmfCH4YcNyPgej4O55knJquu09TpYjKGlvzs3SEET9Lu7XzTgGoACD1fQaB9g8HxobVe3apd\n",
       "7spkzMvcbYRH1zh+vYrLYXetd7Jlud7JJsA5Pl3svsyuyb77RabU/r/IuESpaH8BUQu+hw28iOsA\n",
       "AAAASUVORK5CYII=\n",
       "\" style=\"display:inline;vertical-align:middle;\" /></a><br>"
      ],
      "text/plain": [
       "<IPython.core.display.HTML object>"
      ]
     },
     "metadata": {},
     "output_type": "display_data"
    }
   ],
   "source": [
    "nonpos_int_is_int_nonpos = Forall(\n",
    "        a, InSet(a, IntegerNonPos), condition=LessEq(a, zero),\n",
    "        domain=Integer)"
   ]
  },
  {
   "cell_type": "markdown",
   "metadata": {},
   "source": [
    "***A set of in_bool theorems, which are accessed by the respective NumberSets to implement their deduce_membership_in_bool() methods:***"
   ]
  },
  {
   "cell_type": "code",
   "execution_count": 39,
   "metadata": {},
   "outputs": [
    {
     "data": {
      "text/html": [
       "<strong id=\"int_membership_is_bool\"><a class=\"ProveItLink\" href=\"proofs/int_membership_is_bool/thm_proof.ipynb\">int_membership_is_bool</a> (conjecture without proof):<br></strong> <a class=\"ProveItLink\" href=\"../__pv_it/theorems/c10e550443e66a9741454ca097b5fa0eeedc54c70/theorem_expr.ipynb\"><img src=\"data:image/png;base64,iVBORw0KGgoAAAANSUhEUgAAAJkAAAAVBAMAAACnAFEqAAAAMFBMVEX///+IiIgiIiIQEBB2dnbu\n",
       "7u5ERETMzMzc3NwyMjK6urpmZmaYmJiqqqpUVFQAAAB6qHgnAAAAAXRSTlMAQObYZgAAAAlwSFlz\n",
       "AAAOxAAADsQBlSsOGwAAAmlJREFUOMt9VEtoE0EY/rbd3SS7m7ARC+KLEEGpXmLRXhsvHoRILhZE\n",
       "kFVpsYKSgzdBVwtCQWSlVDx4iFRPXqIIVfEQL6IWMT5ueshBq4gHwYP15j+PTHaSXX/4MrPfZL75\n",
       "XzPAsGUlUixtKUymt0kMWn7x983yqbbj67SxY+7vxA/gDs27jPisbaoKDJlxroEoB2wd4G3HXzje\n",
       "hNEGnrLvW/HFoxJD5rZoRw3I1QfV2mYYAEvARZaJIL74TGLICiGmLfqr1xpS8zoU46o4yOzEFysS\n",
       "/QhPlsfZaAErhQZN9us8V4uA0To8ijanpS0SUObcUJFluhfYcFvnSa1wjRKdI6mJcnmflp2qgFX8\n",
       "er7GiIV+muz6DBsOQ+NtZ2zDFxpNinYFmImrsRMYXGz3Hw6U6KPHu+MVNN52xqf2kLRHEV1HthtX\n",
       "G+kIvMTb+k9GxKKORE4+QOMpUuM1FTRfYd6bzbjaaFOggSciV5SK8k6R9s4hgJy4pPOkhuAuMb9I\n",
       "0deKoNSAvfzb6rfPNGul78CyznM1m8rCOiF6Tj/Fx1tCPVI46zjCiJJS+0YdZ5ED76HxXI1cyjOm\n",
       "RiEb4VpONp3tc1hnChXw+1VU/dG6Ty1MW15A47naO6oC83aeiuDhREausToT8n+OVRx+QO8YyvAS\n",
       "smdpyyPovFM1N7ZEX4G3N9aVByUO64H/6Y1I3No9sbI8Nzk7NUlbdmu8sTjL3xCMqGpmKurZ2iXR\n",
       "vwwHxQ1SD1wpmb/Sm8ybkdubr0qkmttO5tVT4W4+MKaSGgqk2tWUNzlIYlkjWcF/1E4n0ykeXJZI\n",
       "MSPF703AP3MYjwxb3w/rAAAAAElFTkSuQmCC\n",
       "\" style=\"display:inline;vertical-align:middle;\" /></a><br>"
      ],
      "text/plain": [
       "<IPython.core.display.HTML object>"
      ]
     },
     "metadata": {},
     "output_type": "display_data"
    }
   ],
   "source": [
    "# For Integer numbers\n",
    "int_membership_is_bool = Forall(x, in_bool(InSet(x, Integer)))"
   ]
  },
  {
   "cell_type": "code",
   "execution_count": 40,
   "metadata": {},
   "outputs": [
    {
     "data": {
      "text/html": [
       "<strong id=\"neg_int_membership_is_bool\"><a class=\"ProveItLink\" href=\"proofs/neg_int_membership_is_bool/thm_proof.ipynb\">neg_int_membership_is_bool</a> (conjecture without proof):<br></strong> <a class=\"ProveItLink\" href=\"../__pv_it/theorems/b238777fb44fea049af282129bfdeb357d950a520/theorem_expr.ipynb\"><img src=\"data:image/png;base64,iVBORw0KGgoAAAANSUhEUgAAAK0AAAAZBAMAAACx2rMTAAAAMFBMVEX///+IiIgiIiIQEBB2dnbu\n",
       "7u5ERETMzMzc3NwyMjK6urpmZmaYmJiqqqpUVFQAAAB6qHgnAAAAAXRSTlMAQObYZgAAAAlwSFlz\n",
       "AAAOxAAADsQBlSsOGwAAAttJREFUSMe9Vk1oE0EUfkmz/0lMLBXUWsqCRRFKEAkogi2ICCJsLxUR\n",
       "7Bo1BxEMiF6EdiFQ8GIjoeChapV6KCgtaFVUpKInQelBBFGwKqRR8KKEFk++t5P9mWSX5CAOzM7O\n",
       "ezPfvPe9N28XIKC9xh6fhlZtPkSuhcgTtOFjS1gYD5HLZrD8KHah1Bo3ngpRvAgWn8UuLgZpPuzb\n",
       "nevb6063NqjXZ2+W+5G/qAGwTIJPnBsZfBQDT9ywAgp4nvQ06s1b8uQPgAiCPqH5NY72AXw8CMR9\n",
       "CtAdW4KLeWwWwIjRiHsXDopIYg1gtInodZQJfwJxqyCYw95UWWzGfZPEcQp1eCaa4GtjKJFqvP+6\n",
       "bntvgFZY8XlWtyeS07e7uAqODzGoeKbCs08re/2S2S73dVTyZW0kYw/qVcOzt/oKx07sO3V9F4f7\n",
       "HXuSzBvqObKfPJEnPeVp0cepyry6bHhxG+qn6Myh5BEu5nDzlGbk4Xzki0Z2K5Z3ZQb8uSmtAh91\n",
       "83b51wJRWQC4AvIyh3uDoFAUt+K1JEXGR5M/y9ARFt2SP27ds2jrBIZeNGJ8KdiBPYosSqCxHed1\n",
       "bCxEW3Ct4K4UbFwJmdT7HFxRRSJGEDGR4sPm2gvQwS6ql1mCiTUh6dIirzKh314RcDpRIDeIsvTj\n",
       "zVYT7pwlUEii7r5koYrGePyu2UMvj4tOjhHWYQx3xKooThJXCAAPHZ7+BjE7ndz6cklFfr425kOa\n",
       "w02kWD5AkWIEJyRH2VnPzM8X7sM9W3LdzTK8RePvvYLG8te1CMwZGDyE40vmHD3X3NV0GFlyLJ14\n",
       "xnYcP8MyVM2W8yd/n/LuG0skoXKHzTdmz9n1DJ57VGVk57WDNHu4UM7k9KB67NQH9UD9Hjttynkp\n",
       "xkpaG/WsoTXVMydt3OqibRrs8kynnG0H923Yh2Q5UPyTSF9qA3dbiDxq/dfvW4IIfvfvv8ft/j8s\n",
       "hP0/YDj/AkRMqluOGz19AAAAAElFTkSuQmCC\n",
       "\" style=\"display:inline;vertical-align:middle;\" /></a><br>"
      ],
      "text/plain": [
       "<IPython.core.display.HTML object>"
      ]
     },
     "metadata": {},
     "output_type": "display_data"
    }
   ],
   "source": [
    "neg_int_membership_is_bool = Forall(x, in_bool(InSet(x, IntegerNeg)))"
   ]
  },
  {
   "cell_type": "code",
   "execution_count": 41,
   "metadata": {},
   "outputs": [
    {
     "data": {
      "text/html": [
       "<strong id=\"nonzero_int_membership_is_bool\"><a class=\"ProveItLink\" href=\"proofs/nonzero_int_membership_is_bool/thm_proof.ipynb\">nonzero_int_membership_is_bool</a> (conjecture without proof):<br></strong> <a class=\"ProveItLink\" href=\"../__pv_it/theorems/d2d6c364fc705134354e6b5ce0a5aa42fb47a6e50/theorem_expr.ipynb\"><img src=\"data:image/png;base64,iVBORw0KGgoAAAANSUhEUgAAALUAAAAbCAMAAAANmz4FAAAAOVBMVEX///82NjYbGxsSEhKIiIgi\n",
       "IiIQEBB2dnbu7u5ERETMzMzc3NwyMjK6urpmZmaYmJiqqqpUVFQAAAAnLjGdAAAAAXRSTlMAQObY\n",
       "ZgAAAAlwSFlzAAAOxAAADsQBlSsOGwAAAt1JREFUWMPVWIty4yAMpK14v/n/jz2BsY0xIXaadOaY\n",
       "1JWdrrwIaREl5K+HIP/h4LZcOfC/eJu3vfHS0LH4AEKsRMPdxd8DBNcbr42o85UpvCQ0tbw76zsA\n",
       "YXrjtWFLXuiUk5uFGvV7a34DIH1vXFgewxIzklLJEORkHj/444kqrGlxRZ9UJ1AmTTKMxpqZBRD3\n",
       "tzwmpFlvXBggY04EUz710fKKhTUrUYP4NGLEAtFGVNoF4LbiMvpxDfDeuFI4rhLlYU2vmpRLhqTy\n",
       "WCTxnDVOlmuyoAtAxQt5nmxvXC08JLpwzRny/SVLhuzVmIPlL7H2YU2LAjB1rltEzkOt8VCzwACm\n",
       "MKXmuJ04RUqeFPSWDJCVr945OXezszYNwNe5mllF9MZAHQwMZoRE1SaVcv8D3GVcvQP2xM3COmrP\n",
       "WwDLc6NskrHR9IYAiELxfX20Ga4CEt24hrFm2Xb9Rm5yNQqgkR8ATnWBOONkb7hcy0AcnZdy4I2+\n",
       "mkfpp/abkRtkTVFEqRMtoGyyeiZAJnaGR+cepxz9nFKreuFBIeu2ws3DagRv6zpUQA4zn4kDdZ2R\n",
       "J+vaN6glzXC0tQWh+p2Jm2hYD90srPMv3gJywk036lOsybZJdEp85CNXOY160lk0GTJ0s7Gugr0C\n",
       "zJZ9AE7j5wJrm+VWbEEciQtK3kJXpElIVGpeR6eszQHAQ00Z0CRKYnrljvJoCGlJzPqz6w6cBQIl\n",
       "zy4ZFemsoWo1ZOBmZ11FaAVotlYZfglEnfSaHY2QlHBo2mZ6p6nmcinB0DLM2kt/0Ouzm5rQeIxw\n",
       "HSDuRJOehKMawmFMgvPtG0SU9lB0Fns1hhs4Nn5y1r24g3qd3EB20vZ8HaBWMQbn9JTZ3hj2zvK4\n",
       "FV8bfR/y1E0PwD6Um9Ep56We7+J5I4nfAhxYDoN+QrHeeN95NH4OEENvvGtQ/TnAu86NvzoG3gcE\n",
       "3htvGZ89o7/t/yF9IYmXAP8A7LMe32bGb70AAAAASUVORK5CYII=\n",
       "\" style=\"display:inline;vertical-align:middle;\" /></a><br>"
      ],
      "text/plain": [
       "<IPython.core.display.HTML object>"
      ]
     },
     "metadata": {},
     "output_type": "display_data"
    }
   ],
   "source": [
    "nonzero_int_membership_is_bool = Forall(x, in_bool(InSet(x, IntegerNonZero)))"
   ]
  },
  {
   "cell_type": "code",
   "execution_count": 42,
   "metadata": {},
   "outputs": [
    {
     "data": {
      "text/html": [
       "<strong id=\"nonpos_int_membership_is_bool\"><a class=\"ProveItLink\" href=\"proofs/nonpos_int_membership_is_bool/thm_proof.ipynb\">nonpos_int_membership_is_bool</a> (conjecture without proof):<br></strong> <a class=\"ProveItLink\" href=\"../__pv_it/theorems/1d828fa68e036eafa6d149430917f86288cba68c0/theorem_expr.ipynb\"><img src=\"data:image/png;base64,iVBORw0KGgoAAAANSUhEUgAAALUAAAAaBAMAAAADNwChAAAAMFBMVEX///+IiIgiIiIQEBB2dnbu\n",
       "7u5ERETMzMzc3NwyMjK6urpmZmaYmJiqqqpUVFQAAAB6qHgnAAAAAXRSTlMAQObYZgAAAAlwSFlz\n",
       "AAAOxAAADsQBlSsOGwAAAyRJREFUSMedVl1IFFEU/nbd3dmd2d3WyqA0kYGkKMQihKJIQSKIYHwx\n",
       "IsjJzIcIWpB6CXRAEHrJDRF6sLKwB6FQKCsqwih6CAofQoiCrECtqIdClCDonLk7s3t3Z2T1wp07\n",
       "c+653z0/3z13gFW2aQvN61ex7jX1+PDy0CnEU6qJcZ95zUee4AUfloV+NQmUpbGEPh+FqOktP0Y9\n",
       "nFkOesMUPfoN7CfjfVSee4vPUo9Mes28P7CnvXYfuhgaPQZ2AFsKVNY23Bioo3gGDWCGBR8ld+rp\n",
       "0ett7xxiyCDRYQjsnUB1oY55Mzr4HQgQ8GP+viqloZEe9z2xnwBVITJaZXCKyT+gzSjEvoNDEQrq\n",
       "AtBdFPg1zJC/ntjzCJut/KL8sEQuEZssxn6TpHGI5mjf0FT+JPkKZUGOha7buTWgpedE4H4ZgZRK\n",
       "fmtZuwLt+jYXO0bjA+Ix7RuTs8GaNfmS0Qr3tVvJMjoKNFeSFYF6+1O9YuTsnn9J4zrqu3R9t4T9\n",
       "jXqSzWypPtrMHkUHc5OnIwXxVYWHl4xcLlvqOGNjJHlICyTtTqYgezoe+Kyx/TErd6waC3mrLEJm\n",
       "g3lr4PcEhzYNXEZ0RtK+znAkilvxhSRnKi9kzEDgQie17IZRkfVMfi6rRplGRImIEZJLx3bqQYqq\n",
       "Ak2s6NKpiZRtJt2wpB22sRWKrF7rYEdUCkoboSZScipdu6liiAPdmgMyqX4kLemkLYqJfLsjoM/+\n",
       "NLvDISx/VGkVYY9ZYU5R0F2XTM+TQXK8l+yhRsYmh3sY7wjRIGDNxhySzzIIbdw6/BUhm7puPbqo\n",
       "Uqy+ePGkXMJOpARP0Mt5w0nFmWRiMms/nb+Hu7bkmstAOml90xJ2XPDbtQzmCJoO0/hCOMrPJVeb\n",
       "N2RrjpcnnooVJ84I9qoNA52n/nTIl4AgWXj2tvje2HDOroN4lgtbfdR5LeOZvRLASLvuV8+deqIe\n",
       "zJ55pw05L72hjFZCHfRoRXXQoZRbkbRNTRU5F5jTpWK/9ZHHZzzFPzkJUyVib/WRB61V3pd55q3w\n",
       "vkxwwN+Vhr3Se76U/xOnTfj9n1CK/wN/EL7WcuWKRAAAAABJRU5ErkJggg==\n",
       "\" style=\"display:inline;vertical-align:middle;\" /></a><br>"
      ],
      "text/plain": [
       "<IPython.core.display.HTML object>"
      ]
     },
     "metadata": {},
     "output_type": "display_data"
    }
   ],
   "source": [
    "nonpos_int_membership_is_bool = Forall(x, in_bool(InSet(x, IntegerNonPos)))"
   ]
  },
  {
   "cell_type": "code",
   "execution_count": 43,
   "metadata": {},
   "outputs": [
    {
     "data": {
      "text/html": [
       "<strong id=\"interval_membership_is_bool\"><a class=\"ProveItLink\" href=\"proofs/interval_membership_is_bool/thm_proof.ipynb\">interval_membership_is_bool</a> (conjecture without proof):<br></strong> <a class=\"ProveItLink\" href=\"../__pv_it/theorems/d93368aef3fff0800c6821813d81afc78e4499600/theorem_expr.ipynb\"><img src=\"data:image/png;base64,iVBORw0KGgoAAAANSUhEUgAAASEAAAAWBAMAAAB9OzeJAAAAMFBMVEX///+IiIgiIiIQEBB2dnbu\n",
       "7u5ERETMzMzc3NwyMjK6urpmZmaYmJiqqqpUVFQAAAB6qHgnAAAAAXRSTlMAQObYZgAAAAlwSFlz\n",
       "AAAOxAAADsQBlSsOGwAABDxJREFUSMfNlm9oHFUQwGfvdu8uu3vXi6ZSsYRj24ptEWJoq4joaf9Q\n",
       "rQ0bjPGDkFyLOa1CexgFv9huLQjFGk8kRWwLV4wflEqvWrTVgNsPFqoil1awBaEXFEVRacHQPxBw\n",
       "5r3dzds/t4vfHJi9vXm78347b968AUgSyahFWC1Hw6J8FOMsd5EuHQatTpMFRG5EYba4RsjtH8R5\n",
       "2z0GoBYDzpbtuNH/B8BRPlubbD/FEhXoJ2+Lxh8cDUt+rpOj4X667kRdGhjJqMX9Iw2QbEb0BZne\n",
       "jSXSKEpd4hopda5Rj5c6ejpEl0fIlxkksmWrAjDJiHbTwlZiibIUx9dFm2Zz/W9E8y6R3gwR6S2c\n",
       "5FtGRLxyKz6PkB22ira0owtym2HUE4jUOZcI1joJtN1Y6RHh62mTZtPxU7sSMvs7/PGt0SVHPflw\n",
       "cXKM+AgjOswR3za9GBUOlJHDZvuo3zDWJBClDWNZWbSddHSw96kNFN/cpH/eiYf3hh11zfa2HKIB\n",
       "Zthvequ2+JZf6N02I/ocYCyBSKtBxpeMhx1tSrNayZ/2GgZTvQ92mSFHo5PKdYBb6fYc+PZTRl35\n",
       "0Gp8Qa8zognItd2h7EHnprBuyzNNjwgfmPA5v5urbulzBUpwYdn34f8nbPgk/GmXTbgH4C2K6QVm\n",
       "qAuZLX2DYc73MaKMKdRAil22t9pIWfKguVAhx+Axn/P7uWZZRFDGDRS2YSfew8tXAMvDRKcB/sGi\n",
       "8Tsi7WGfj/li3OkQQWUKLVfYbPmi8IX3on6JhVyHVw8INXvGn9guEe4OXn6HvZHsZ/gh60C5GSZa\n",
       "Diruf5mQ32dFrSLECCoZXG0eI6ifwcvQmc3k72qvKfE602wKRF06zizdsfeUf9UAjlsKhTIl1JY2\n",
       "KFdBvxJVjrQ5tnYA55mh5CPCuORLnGgrrqByV/Y6FYgVUpN/r/5mTSCSL6GfJYXKEce2jetw42eQ\n",
       "WWEpintNmYdC/WKI6BrlF6yn27PM0O0jmsFJK5xoHya21sz20ZCt14+xhwZl8aTNPYg3dqboUg5w\n",
       "vfzyp/AxMxzx7f5tcJ6HeJROmxvOyJ/wgluPTvJy0PKIynIPvqCVOVEB50k3JNpw6ZrWPletVltQ\n",
       "3ghPCmf/b3S3yNvjL3J9ujs/zb2OPG8KRCM9r8wy+BRxrXZGRrbYLtEqfjr+ytsE6Z0qO/sh1Vjo\n",
       "NEatzNfocxGkWy+xcvqjDRuD3ci41xGlalwXZGp74inChYhyzjPqJn6KuPKaMFva2nPMHIKUeZbX\n",
       "QlkDteQnyvU9Cm6201EZPC6TT1qPqMMhDdMCkTo98ziMt7InipB7Fv9//3fPjnYgRiemur1C/Jyj\n",
       "Eb1cXzzR6WAfITSYlVB/yHNiqFptJPWQw74i5HM7HwukPNDxWyBjBWdTzchliGp9c0WuEfLGX3F9\n",
       "9gC1w9ENOiyhBtdHpMP/Qf4F5c4KNc7+0cIAAAAASUVORK5CYII=\n",
       "\" style=\"display:inline;vertical-align:middle;\" /></a><br>"
      ],
      "text/plain": [
       "<IPython.core.display.HTML object>"
      ]
     },
     "metadata": {},
     "output_type": "display_data"
    }
   ],
   "source": [
    "# For integer Intervals -- check w/WW about this (domain(s)?)\n",
    "interval_membership_is_bool = (\n",
    "    Forall((a, b),\n",
    "           Forall(x, in_bool(InSet(x, Interval(a, b)))),\n",
    "           domain=Integer))"
   ]
  },
  {
   "cell_type": "code",
   "execution_count": 44,
   "metadata": {},
   "outputs": [
    {
     "data": {
      "text/html": [
       "<strong id=\"difference_is_nat\"><a class=\"ProveItLink\" href=\"proofs/difference_is_nat/thm_proof.ipynb\">difference_is_nat</a> (conjecture without proof):<br></strong> <a class=\"ProveItLink\" href=\"../__pv_it/theorems/652633ff7939a095fafb060a233cc002a26df37a0/theorem_expr.ipynb\"><img src=\"data:image/png;base64,iVBORw0KGgoAAAANSUhEUgAAAOUAAAAXBAMAAAAGvZU3AAAAMFBMVEX///+IiIgiIiIQEBB2dnbu\n",
       "7u5ERETMzMzc3NwyMjK6urpmZmaYmJiqqqpUVFQAAAB6qHgnAAAAAXRSTlMAQObYZgAAAAlwSFlz\n",
       "AAAOxAAADsQBlSsOGwAAA0JJREFUSMe9VltIFFEY/vYyM3t3je0CkSxLYo8SoRIFWyEEGYylQS+6\n",
       "dtk0lBbsIZF0rNeSeSl6MTaIIBLceilScn0wECm2HqyHHrZQ2BdjRQoTgs5tnb3MLrZQP3wzc74z\n",
       "e775b+csUL05BExN+0t+m7ZPwNQeFY3P/OxTcWI9Tvk0Jb5UI+kNc5SYdDEIWJJF7IArDSnL+Nd0\n",
       "/KAazfMCpeZMkMu9IvKb1gY0Mn6EJiVSjeaMQKnVpMhlsYhcjTg1BBnvVAF7qhrNRoFSmyJrwqby\n",
       "wa5QSKf3zJxDp5qE95D4OqtKp85hYsdZgHlCn+4UZMYXC1BNyh8MhQ5Vo+kOc2D82FjR1MPaVRI8\n",
       "Vp2OrbRmEJHjQc6/BC5XWLnsDP1eClcLrqmFdftL7dbgYTFwaobmsFRPNCk/Dkc6xyv3xYOv6dQl\n",
       "WnyQ2XCIF5m3N29la4rjbBIviqL+AzY/vCzXRtoy8KSWCEd5WbXHtyaWqXBdNG7V7O2qoeljbejt\n",
       "yV/ZFueYBfaz1glRa6Cx0VEThpKl7CAlI1wTKz6iR3mvP6+EmgmmYyQAuHkHhqaNUPD0w0yzCdJm\n",
       "oZ/WMKZScDE/z+X5iS6JxJbx+hy5dMydpC6u1aliA0kk8jRHa1dgGWC5agtoBbGV1uDJlrTnrApv\n",
       "kL2Vr6n4iceMP01KSzqgbJBHS70lwb/MczeWp7lD3asc5dumNio0ZT+D9Bs+/XOhZkw6QlZgEbX4\n",
       "c+wVgt0Rwd8mJeROKNRlOenRJ9kb7XbkafZjAUut9Gkag2INWvMUPfgoYpIzX1JOiD4CJnLsBM80\n",
       "530xmhhLmuXNnV6IRqMphFvRaWg24w3whIoeRl2uxoMcXYEbX2OFvbJMt0Qrr8yuq7yRhtaJf5K+\n",
       "xQPdmjxP5mpgS12nY9enJFoNzSxoZEdeQdpAf6f4TYNAGbsl7o8vhHQzHjZtdFLtgFV9S3qHBs4N\n",
       "V9DQrOfJGV9Bi7I5L36zaLKRFx0BFXnXzIc2DKaU5344aLLffw/0pQ3N4drcIf/sXSB3MMoaR5k/\n",
       "EZHt8fx46YhGjU1CLu+IFOEwt3JfU8S7VJNXKuzyYwKmtmd7vAcVNBVSztFe/A9z/IM1/wBS1cjj\n",
       "NsjmwQAAAABJRU5ErkJggg==\n",
       "\" style=\"display:inline;vertical-align:middle;\" /></a><br>"
      ],
      "text/plain": [
       "<IPython.core.display.HTML object>"
      ]
     },
     "metadata": {},
     "output_type": "display_data"
    }
   ],
   "source": [
    "difference_is_nat = Forall((a, b), InSet(subtract(a, b), Natural),\n",
    "                              domain=Integer, \n",
    "                              conditions=[LessEq(b, a)])"
   ]
  },
  {
   "cell_type": "code",
   "execution_count": 45,
   "metadata": {},
   "outputs": [
    {
     "data": {
      "text/html": [
       "<strong id=\"difference_is_nat_pos\"><a class=\"ProveItLink\" href=\"proofs/difference_is_nat_pos/thm_proof.ipynb\">difference_is_nat_pos</a> (conjecture without proof):<br></strong> <a class=\"ProveItLink\" href=\"../__pv_it/theorems/34d447b38cdc6baa06d74f128c25708526e407200/theorem_expr.ipynb\"><img src=\"data:image/png;base64,iVBORw0KGgoAAAANSUhEUgAAAPUAAAAZBAMAAAAbGXWvAAAAMFBMVEX///+IiIgiIiIQEBB2dnbu\n",
       "7u5ERETMzMzc3NwyMjK6urpmZmaYmJiqqqpUVFQAAAB6qHgnAAAAAXRSTlMAQObYZgAAAAlwSFlz\n",
       "AAAOxAAADsQBlSsOGwAAA5FJREFUSMe1Vm9IFFEQn73/t7eeV0mfQuSwsCIqqSv60vVBCSxZzYS+\n",
       "qJVtlkFXRvSl3AgCweoKjCCpg+ib1BpRWGEnkWBQXBZWEHSSGEFJQpIEQvPe/n3H7VF79GB2387M\n",
       "vt/MezPzBqCI8cLZbwpSCIobJYqz/9qQAm3FYe8hD9lGGCiMDSPFYR9B4jI2Qj7CfnvXSn3g2bpF\n",
       "x3aJAFky+egEOrAOH2/zSZqr8bEsh+nL3AFoNfzmEPgRmVxzgh2KozfJvKLrSEGR5YWrPGlwQ0iS\n",
       "YhLumHcO4Izjgy9NIX46r2gBSciJxPAEuugy/IZ+1TxPxgl2N/7pzn/Wc+S5Uf3g9kVXUuzeSI8V\n",
       "+wGah5YHHYXaYqQPeSWeCs0xYsdlbe/D8hcubsFeglQdjW5whP0V6T6ZXNx2lpUEJ8txJ+vpvEc/\n",
       "9rDsg8MW7LsoeAhwoHANshmS5hu/GY6ycdXa550HGAMmjMOyX2lsNNfsTqDVEMjqcv9VXTFW164Y\n",
       "NhpsZtxAWoO0Kw33WMknEdYDvKHzpIkNL0v2m0qXMFR9oidlMKYIUrmUcsmeBtHcnymtPjAIq5FI\n",
       "qXgKUEmEV6JkoDcwBPATHaNm45FGV2jYYfGzZXMQtSRiCbVNSI/xdwFO95r1j7IxFYfFXL8Jdgy8\n",
       "v1m/K4HHLLtFzW2z+O3NNlr8JlYmSWltGtlOrJwtFzk1ZRXFxCZsfM7Iup51z72zIPzITe8QZtk4\n",
       "nVdYsOGYz5Ki5CbY2YcLVPnnSS4u55RmKhEuJExswga+Uzb06JhG2ousBQgn3zPYv0gMwCidLzJq\n",
       "Ki7InTSVSJzDOQy1kOIn1dmXFpIDVNLgsdw5hM23E11Nz0jQeoo/rrDp8A069fyDoF636GTIVHpG\n",
       "NwMNcqdIbQd3IpQdkyQpA/Ea2G1gE3YXXUPTMww/ju+WslOTCQa7pY6c2yo1Pqdvqyl0M6Zfu+oY\n",
       "NoJO9j3HpUrBnTlBq9G7NNQY2ITtrc2YeqDagTdhwv6a006ar1Vrau7o1yduuXtAbMJLdRRzjlTF\n",
       "EPAVYN615OyWpjU9yz0m2Ncem2vGuM/njOr/5PUO6Mr4ByMQOIjfr2bKDmXNOB+kjcBoWtXTCxE5\n",
       "+Q7bxc8XrshClv1Ww6JJklJsf6OPCbZB+k7aBNvFOwpju9i1eNGmtyrQrwUiNkJOLoyd068J8G/Y\n",
       "JXHnvd7ftCvyf+jPaSTiHv8Bvx3a2G+kmTgAAAAASUVORK5CYII=\n",
       "\" style=\"display:inline;vertical-align:middle;\" /></a><br>"
      ],
      "text/plain": [
       "<IPython.core.display.HTML object>"
      ]
     },
     "metadata": {},
     "output_type": "display_data"
    }
   ],
   "source": [
    "difference_is_nat_pos = \\\n",
    "    Forall((a, b), InSet(subtract(a, b), NaturalPos),\n",
    "           domain=Integer, \n",
    "           conditions=[Less(b, a)])"
   ]
  },
  {
   "cell_type": "markdown",
   "metadata": {},
   "source": [
    "***Some Analogous Non-IntervalMembership Theorems***"
   ]
  },
  {
   "cell_type": "code",
   "execution_count": 46,
   "metadata": {},
   "outputs": [
    {
     "data": {
      "text/html": [
       "<strong id=\"not_int_not_in_interval\"><a class=\"ProveItLink\" href=\"proofs/not_int_not_in_interval/thm_proof.ipynb\">not_int_not_in_interval</a> (conjecture without proof):<br></strong> <a class=\"ProveItLink\" href=\"../__pv_it/theorems/1239a92c2a208ed62edd017d212443fadcd913790/theorem_expr.ipynb\"><img src=\"data:image/png;base64,iVBORw0KGgoAAAANSUhEUgAAATQAAAAZCAMAAACIGiLxAAAAUVBMVEX///8/Pz9vb28YGBgJCQkd\n",
       "HR0NDQ0WFhZeXl4kJCQfHx8xMTGIiIgiIiIQEBB2dnbu7u5ERETMzMzc3NwyMjK6urpmZmaYmJiq\n",
       "qqpUVFQAAAC8nQ0wAAAAAXRSTlMAQObYZgAAAAlwSFlzAAAOxAAADsQBlSsOGwAABDFJREFUWMPl\n",
       "WYmS3CYQVRInjm2OBsSl///QNCAOaUDSjJQqu0xN7ap21N3w6H597DQ9sTylVE2/wyJ4UveMqnn6\n",
       "jZa1vypo6p1vQetPzTj1ovKXBY0ch8gMm5dnDZ8akl4kWU0a0Hz53tl7oD2i6dpy/OSkm5eXtyED\n",
       "wWh+FqsyYitopnjurO6B9oima2c68WyziUZOPzmReRHP7ouglVtR4mZ4PqLp0jInnrxF6SPQFvci\n",
       "bk3ltAwgdzdBe0TTpcUOyE5Q+vWf+S5ouoZ0FWdQQMvJ4A6Zz5u08n+nBTc0oGeCB/Pytqc1MvVx\n",
       "tvWYjIbF+P3s+YCmS9G5GgBCPEheHVtFX98zXjm18pwocu1AHnW7HWjcV9BMvBgB90F7W5M5KCHl\n",
       "2Jot0sSTydBtArI7XMy6O83wa3EplcKC8MMS1ZFCBrYJKOXzj33mnveM7pngBj8D0IaaKuMY3172\n",
       "QcYQY3trH2PxTBYx8LZPrdm/WPoe4m9zKVZTlcLiRlXJCY41LBRcg/dqZp8DTRIvBL4RGkwOBEbF\n",
       "bV9TlgbhUd4JfgYaCvz4HtT07bFkQTZelP4Q6eHvL5RWvcrP637MEgG/xB1J7ZLeBT8n2OTSgObI\n",
       "gLzZGiLGrA/4unTKDjuCrqYijcePSs5ACwIexvZYvRZGNiVpJ3dLs9IFEzHuLjVUEVq9uhjPsOvW\n",
       "0/CcmQeAW8JzaSqXwLRNLZyIxBy0UVUTIUbhp5EGK/WujWtB2wiAP7BXxww60A7Apj57ib9U0sMS\n",
       "NmaX61WaSfRXGwpHW9C4W3kAMB7kosoYBCZi1gvMZKicPACtaCJq8mJCv67Srna/HdC2AkQf2BMk\n",
       "+ZVGzgs2G9wRR9MvHyAC4efJXWhXFpk5EMVrIhAtaIr5HBiBGcrmbMwYunE0DDB+1LAXTTaeDW1X\n",
       "aQsWxqBtBcSRvZT63SLB4F51E46IuZeDmitA7WjruJgjdw+FzMNuzL5OW0udXI5mS4EtiG8pzXjE\n",
       "TcTl4q1yaAPiZcrR7Dl5bJWWUssxaBuBH9+Sub49mVzHoGM5Y1sKAy/+ggFo4AmXypNmD9TsH4oe\n",
       "Xlq1ChrVvdFQrEyEzXsM8c/wsPWutZM2MvqF0VDwWFTXSK+JYII+aI2Ah0N7dFzD/fkH9lH0dhvV\n",
       "rY1pf57GAqVpjCIIR0VKi2Fcq1UenVvT03maYph0UvFapRUPPD/xXp22EShpYGDPmouTtEdBy763\n",
       "B02jtxMeEj16GGZrkso7kSsO79HHxezPh5CGaE5igVWkQ27G0DOyG56twL9n9sSIzHsDFsLuNW3z\n",
       "TvXB5HZDFTywkv5wcnsg3a/T4PuJuW1C37hFZ8BSS/qPZndrEq0XNQbtvQHxp3ON/tkvDH5HfXe3\n",
       "hVPGfwqb4lmUqOkUtPcG1s+C5mH6mddj/1j58P+efZmfGTNCKbP/AR37TzGXrNxIAAAAAElFTkSu\n",
       "QmCC\n",
       "\" style=\"display:inline;vertical-align:middle;\" /></a><br>"
      ],
      "text/plain": [
       "<IPython.core.display.HTML object>"
      ]
     },
     "metadata": {},
     "output_type": "display_data"
    }
   ],
   "source": [
    "# interval_nonmembership\n",
    "not_int_not_in_interval = (\n",
    "    Forall((a, b),\n",
    "           Forall(x, NotInSet(x, Interval(a, b)), domain=Complex, condition=NotInSet(x, Integer)),\n",
    "           domain=Integer))"
   ]
  },
  {
   "cell_type": "code",
   "execution_count": 47,
   "metadata": {},
   "outputs": [
    {
     "data": {
      "text/html": [
       "<strong id=\"int_not_in_interval\"><a class=\"ProveItLink\" href=\"proofs/int_not_in_interval/thm_proof.ipynb\">int_not_in_interval</a> (conjecture without proof):<br></strong> <a class=\"ProveItLink\" href=\"../__pv_it/theorems/073eea01220414f65790b66d172cf598f7d492710/theorem_expr.ipynb\"><img src=\"data:image/png;base64,iVBORw0KGgoAAAANSUhEUgAAAUEAAAAXCAMAAACicA1dAAAARVBMVEX///8/Pz9vb28YGBgJCQkd\n",
       "HR0NDQ0WFhaIiIgiIiIQEBB2dnbu7u5ERETMzMzc3NwyMjK6urpmZmaYmJiqqqpUVFQAAAB3hJw9\n",
       "AAAAAXRSTlMAQObYZgAAAAlwSFlzAAAOxAAADsQBlSsOGwAABD1JREFUWMPdWNd24yAQ1XZ6R///\n",
       "qTt0kECW7TysVycnIYI7w1ymoW37fx75zCzT+lU1Tt5S+HkPcpfTig2LlWavKhKeJ6xG4bevE85+\n",
       "NIGOPjB7WLw/zR/jBJcxz8JQoMxUZ1Yf7ZRMXc+bIWgpfkGFMid4cOx6NpJ/tAuaBxE0UvYSg7s7\n",
       "wa3p8gN1H80guUiQHOM/v9W7DOoW+Q1O4J3Nh6c+Owsut68VAiu9eNsHO0wbqsAeweEh9LODOG+f\n",
       "IeSZoC2gZIyxY5asFEhPkUT30qAH2e7AIA1J0MTj4ewr7Bj94nFpmu39IWwGUrbuAHm0GTzWR3vA\n",
       "mMyoJjDNbxVmtsNZsD2KQzVnWBWPofw6NgDqurh4wqmBn/ZmWG/105xX2LVqMykUyTksGGiBEF/r\n",
       "ipo0g5skaZ7Fv+ZWSKcGiMSjkLWoOFLcj87M9fPIFshzDusxbJcyxOYMMr84yzFL0Y4R32AH1RPQ\n",
       "oZCk/YvOv9KLmKN+/cS47U16la01e2T/VgJLYneajVOJQxElOLSoI0RMRZn8Gs5PONl3EXzZgNXd\n",
       "G89OV4Xcyyc29Vn1FDRlcKtuUvvgSZ8hTM5ZhMfwvHW/izzr7Hy0nIEm2dNLnmDUIlrykNhDWi7J\n",
       "BxkJP7kPb/E0RBQ/N2AVly4GXh70ROMSLpqFT6orqIk6d17YtaYDVjA2bOMUpulSwfZgtt3vd4Mm\n",
       "pcx2pXE4t4L5UBkEptgLgwizDWWGkNw838B1Wc+SlU4sGJRqxAXbeGGy0+NMuVBGFyywqrqBOlHu\n",
       "lAk5Sh6nITsHi1rZgQlt5p0Ji6x4dafmbbsoeRPgrZLwnFh9CdCQOequbK41KWJhkyBEdy7I0Dam\n",
       "kI5BzUccvKCsJYKqJ63jxQUzrKjuQU1UWdVT4pNvCGZAru58FCj3YtHbBd4d7gMJKu5plJN00G+O\n",
       "/WDpooqKkE2Q79OgafUg+YxVPD4unnSwr0VMz6DzI04QN2atrEdEDLT1qTxkWFY9gKqoAhpSW3Iq\n",
       "Ay7njHVDReM/2IJB5hEV0qOOYWzOo7yW1ptjYxDrQ8sTuiNbKAn5oZkQfAamRfM67UQQSacMViMz\n",
       "DlIfdxM9OSBVbkgzrKjuQJ2oSRRvWCzj7/s3uNbht29104b8KIeE9KQtdI6BJ8hFIczDWBIoP6nt\n",
       "aK03jf9rfFFJOly8oNqDnpSnghOW9iVJy6p7UC8KnZtqa25+GfxSBk/fMzQEAKI2x5wwcadxbJCm\n",
       "KLZ+kpdmxnsIAq78nEEevaXhcuK1g56yrJmZ/s+qB1Anik8yP19Vg9lHJ0Teu3upG9+z3GIcI4vH\n",
       "jnpixXXbG2WNlrLjHqawR6Dly9VHp3apeOlbZC7J61MLhrD5+PoZjDB3vtieF92AzZesPhD4RWf/\n",
       "KoeSFii62qpdjJ9gsC8xSzUTV34Is3r7bx95dQV+fEm+CWP/lM1/AfHoPNmX4hgNAAAAAElFTkSu\n",
       "QmCC\n",
       "\" style=\"display:inline;vertical-align:middle;\" /></a><br>"
      ],
      "text/plain": [
       "<IPython.core.display.HTML object>"
      ]
     },
     "metadata": {},
     "output_type": "display_data"
    }
   ],
   "source": [
    "int_not_in_interval = (\n",
    "    Forall((a, b, x),\n",
    "           NotInSet(x, Interval(a, b)),\n",
    "           domain=Integer,\n",
    "           conditions=[Or(Less(x, a), Less(b, x))]))"
   ]
  },
  {
   "cell_type": "code",
   "execution_count": 48,
   "metadata": {},
   "outputs": [
    {
     "data": {
      "text/html": [
       "<strong id=\"bounds_for_int_not_in_interval\"><a class=\"ProveItLink\" href=\"proofs/bounds_for_int_not_in_interval/thm_proof.ipynb\">bounds_for_int_not_in_interval</a> (conjecture without proof):<br></strong> <a class=\"ProveItLink\" href=\"../__pv_it/theorems/513ffb97c325b2dfe4e6dd31b53cae5b39d01a560/theorem_expr.ipynb\"><img src=\"data:image/png;base64,iVBORw0KGgoAAAANSUhEUgAAAVgAAAAXCAMAAAB5y6d/AAAAPFBMVEX///8SEhIkJCRWVlYxMTGI\n",
       "iIgiIiIQEBB2dnbu7u5ERETMzMzc3NwyMjK6urpmZmaYmJiqqqpUVFQAAADzEUKLAAAAAXRSTlMA\n",
       "QObYZgAAAAlwSFlzAAAOxAAADsQBlSsOGwAABCdJREFUWMPVWIuypCgMdXcH5P3y//91AAmaiHbr\n",
       "3K0aqVsdq2/6HDkkITBNbxyG2Ge//lOfn32rv2GwiO3N4djXDI9wV5v69zG8RNcosL2/MOEbBqlm\n",
       "/gy3Wu/ga/uSEJYW2wfDyv6Y+qNmlMH6h7jFaghZo14SsD5g+2CETbHQ5VSaMizxIW61oLKILxF2\n",
       "JvYqpc+ycN5CFtLdWMrgFnkTtuMWG9ry2JfoGi22F/HDvTzL2S3aIaB8pAyC34XtuNXOvIxZvKUS\n",
       "CGwnyViSWtCMY1zg+ZskmGmJL7Y9GyKVHxhsysg0jyksZgfcan2tLUr+wJyvwmetYEHcqIxaDGID\n",
       "BUVjZYlNfh9fUnDaU7k5569q2R124Z7qmzFGGeSSq6RczDUsZgfcak2CDzove72fpVkJn//6F1fu\n",
       "6//0/J2iwCyOr8UjtiHPPGS90rZixvPD8sm59kBN/bh7j3X75pIyxLoIM7uEJeyAu9oSrMKNlBuX\n",
       "B82SUtmfZ1AhmfwkbPH/9d+XhREzD/xnh22JN4/ckh3sw36pmjVcvexzIM8j+gPDCrqIS1jCDrir\n",
       "jexk65r1MOF9+zovko4mTB+Erf6tXfxWWGD+QtgJh9WZArOq2e2gLpDjwH6fb8h1EdzWcg1hCTvg\n",
       "Nmt7NydFYMJ0+UthhqLNvMl/5NjiUV3dC4v9ZcJCIZ5BHADzQFhaCursM5SUVzkrlzLDAIEa0YbP\n",
       "J62ODFVSv1zCUnbAbVbE1szKnN26l2uW6w5rwjEzJTXlNZMKVZiox8ISf+amfXHHPIOzITC7Y8ej\n",
       "GLIyF6VU4gOVrcMuI6tMyU6xsgaFj6LJHRkWDZX5ApawA26zZk6Qtfv9RYXdNlf5MpUL+1YDT2f3\n",
       "tsRfwaakBzyDna4zW0b7AtTRlC1GS5+hHMlTyTj6aVErcsgwj5eB2wFD2Y8UbXQILGWnvWDSW3Vh\n",
       "aV/o/LYtrxEWrKoj1mUqPd2Wg7jG7vx//Vv9dWqVBfOMS+zKHC3tbzRHVvrcKEUf4qiT37WcMjGh\n",
       "TWLrTDneq30cMMgkhqfmPSxlB1yCX5s2FUCpUpDmTlkizJTecisuURdiMRZ2779V6jTgOY7ObAZh\n",
       "zTW2V83zydnTXF9bfUI+g+24B/y5lD4Xcl8s1tau1IrynCco7HoC2E4SYiJlcBMW+8tEToudB0oX\n",
       "fMDMZKtSoy4C3XT82T3O5zuaH7ofcjmoWTkb6RIv2tfjSH32zAlWq4uBW6CQUk4vZdOoxiJ/oYmw\n",
       "nQeC27QP+MK3g9CwPVMG29vj40XeQ2TAvcSPJ88ltEqNdaenq8OZR/zT/ePNq56hPzQm8ulF50fd\n",
       "HiJ/s+JOjp+vgU/U2RLD8R8QdoKrFMMezZ99jsdHyIB7iR9Onp8Im3YLY2+9sbZvuST+f8fJSqGA\n",
       "1zekMvq9WvwG2tczbMBsvvAAAAAASUVORK5CYII=\n",
       "\" style=\"display:inline;vertical-align:middle;\" /></a><br>"
      ],
      "text/plain": [
       "<IPython.core.display.HTML object>"
      ]
     },
     "metadata": {},
     "output_type": "display_data"
    }
   ],
   "source": [
    "bounds_for_int_not_in_interval = (\n",
    "    Forall((a, b, x),\n",
    "           Or(Less(x, a), Less(b, x)),\n",
    "           domain=Integer,\n",
    "           conditions=[NotInSet(x, Interval(a, b))]))"
   ]
  },
  {
   "cell_type": "code",
   "execution_count": 49,
   "metadata": {},
   "outputs": [
    {
     "data": {
      "text/html": [
       "<strong id=\"interval_nonmembership_is_bool\"><a class=\"ProveItLink\" href=\"proofs/interval_nonmembership_is_bool/thm_proof.ipynb\">interval_nonmembership_is_bool</a> (conjecture without proof):<br></strong> <a class=\"ProveItLink\" href=\"../__pv_it/theorems/88dc3e7e4f3c151f9d174397d69b1f5b171537df0/theorem_expr.ipynb\"><img src=\"data:image/png;base64,iVBORw0KGgoAAAANSUhEUgAAASEAAAAWCAMAAAC4y9qIAAAARVBMVEX///8/Pz9vb28YGBgJCQkd\n",
       "HR0NDQ0WFhaIiIgiIiIQEBB2dnbu7u5ERETMzMzc3NwyMjK6urpmZmaYmJiqqqpUVFQAAAB3hJw9\n",
       "AAAAAXRSTlMAQObYZgAAAAlwSFlzAAAOxAAADsQBlSsOGwAABChJREFUWMPtWOvS2ygM9ba7rbjf\n",
       "/f6PugIDBgyJE/dnmW8qTyMEOkhHgm17PoAQeVNVDfK1Vh7cmC93pvy9BVc7+MCzl4PddgB8LxdD\n",
       "826SNvzbrckgjrkG3p0yFXrXlATTqaNvoSp59wChW2Y86+XSrW7S/jE+XFBSvkU2Bu+8ExEWpfkB\n",
       "UVFH32wNAK0eIHTHDNe9XA3bxSQjX2xJ28t0zd8ihKgwhR+NOvpWD0yJJ1l2x4x1vVyNHpKvENr9\n",
       "ZbqzdxByPqdDVo++FWyZf8RDN8zQQc7oQBDy+5d+ipA5M/OcTvllKUL0FSHdqkffXD5R/Yyp35vx\n",
       "upcTxzTgtoJ8HEPNnPNTu8tS1xgKyrFWPflGI5aEsoe17K0Zy3rJAQKX7Aw6leJwZKnqogoMFNyj\n",
       "oYC2/YAQawqAurJSZGoOJLBOPflm05kJ/hCht2bKGRaJiQ4BNkt6jncDCDYjZij+LG4VNr4jAHxP\n",
       "5qDmtGugn5QTRIhouhPLW/Xkmwrln7Hq6pF1AxXM4t8MoaWZSsC+kw436dDhUINfz2qOosfvPEl7\n",
       "K+WOBoEmqFUlbd/wn14xNTiTN3CoH77Fc592fTXiJAQhUIOgV4yPGZznLs0UpjSdlE18HP+R8vS/\n",
       "fwk5D0YFnWfZPaF7iwsOs/uhy4M+MJL7sFQcYkAoCtaoHw55WBAszZxpbf5AE9IrN++pl2bmCG31\n",
       "mGufN6mF0ua8pSKlz632PeFocvCwgrGhw1KzGIrdkGjUs2+6Jj9nDljJUblHLh3aUbvZ1a3jNANg\n",
       "Ff69zLLkBKpw3vVBlzQ6mmK+R9Nuv98N2YOyzpbck1XLNSCkG/XsG/M59zimkdxVvavwDWwPuFNe\n",
       "rhCqZkBtQWx66IwEtJJj1oZ4TGfeAP5g7Lxy8+R10Ju/0fnvsvAWTj+ZuvEDYI2Qh0Y9+6ZoKOkU\n",
       "c7TOcYnRTRNCHDa2vLlWMy7BMCJZqu0h/S65xaVMgyNiGuSit4m4etJGMFas4aPyZ9yAHfsh2+5c\n",
       "+wlCqMCg1KFDvfhW9hUpAkJLQzYgSCINnw6c8TYx+rt9495+PWpJWsktnqO3rt0pD+InXyDEAzCp\n",
       "AjQIEjt+VDus3mxOhIjpl+peDEBTIc67fVUfSk9qIYQrAMSkp36TJ/bGy7gy4+9eP2IgXjAqby0v\n",
       "3lx+/CO6q8C397JZwznYMeyyVNdlkKlvNNKQcdhuRVSQhlIynl0gS0FuyOv3IUWxgGxXRi93xxd3\n",
       "yMkF/E8hZD973Mnqo28Gox5YrOkYO1hpD0JTohT7EDDWhQ5vXtAsGAZwdVaoXl4PblKFgT5CqLRc\n",
       "Hz5dFPUXDV7HDyzykHn8xliqIl/tdvYwcDbF34xS0tansngLUe98++Thk91+zS0Xz9UFdHpnUTZ8\n",
       "i5FiZSp8BlBWB0KXCLnt7zjG/3FLPI9NBN/HAAAAAElFTkSuQmCC\n",
       "\" style=\"display:inline;vertical-align:middle;\" /></a><br>"
      ],
      "text/plain": [
       "<IPython.core.display.HTML object>"
      ]
     },
     "metadata": {},
     "output_type": "display_data"
    }
   ],
   "source": [
    "# For non-membership in integer Intervals -- check w/WW about this (domain(s)?)\n",
    "interval_nonmembership_is_bool = (\n",
    "    Forall((a, b),\n",
    "           Forall(x, in_bool(NotInSet(x, Interval(a, b)))),\n",
    "           domain=Integer))"
   ]
  },
  {
   "cell_type": "code",
   "execution_count": 50,
   "metadata": {},
   "outputs": [
    {
     "data": {
      "text/html": [
       "<strong id=\"disjoint_intervals\"><a class=\"ProveItLink\" href=\"proofs/disjoint_intervals/thm_proof.ipynb\">disjoint_intervals</a> (conjecture without proof):<br></strong> <a class=\"ProveItLink\" href=\"../__pv_it/theorems/676bce596d33aa443fa54f76b5cc8c94d1ed704c0/theorem_expr.ipynb\"><img src=\"data:image/png;base64,iVBORw0KGgoAAAANSUhEUgAAAaEAAAAXBAMAAABQYu0tAAAAMFBMVEX///+IiIgiIiIQEBB2dnbu\n",
       "7u5ERETMzMzc3NwyMjK6urpmZmaYmJiqqqpUVFQAAAB6qHgnAAAAAXRSTlMAQObYZgAAAAlwSFlz\n",
       "AAAOxAAADsQBlSsOGwAABRFJREFUWMPVV2toHFUUPrs7r93ZzU60bfIjhFAtFIslqFiIVTah8YGv\n",
       "KUZ/WHAjrWtFkMWKIGoyVv0h2mZFLOKjrNSfhawgiDXo5ocFUXSKGikIWSFVqiZNrWk0bdFzzr0z\n",
       "+5h9CcbqhbnMPfOdme+795xz7wBc3ObgdW++CWCfU75vDXTgYreQi9frdhOE/oP/tA3g23hTotF3\n",
       "q8P3kgEwtorbIUHGG3rta7xmG/FUd/Zhr5W88WxjQforBQaGigBHyPDa6igyViB2TtyeEvHgDQFS\n",
       "zDlHYhv6RwvYKX3ecKjJp5KuAL4KMEZfHl2loFoBkPOqSos3zQaRBbPYlCjSbFfRpC2An+E84DcU\n",
       "d/UUNUogVhRpTnTSblvRkARGbIjjNEXhX1c0zoqONyfKT9pT9IYERlHOVevXX7MqcpTBrhV44QbQ\n",
       "ezpzymUu7Og8QsMnrnum10qc2jyPkPc8osZctxV8w8HO+YCiwZ5sMF/nui5IoILl4X2AB9rkaP4d\n",
       "Qer1oOAaHYR7APog7eobQbNwCJtd/XcI8xq9Sd0HeB1ytKXgG/6w0w6E+r0xAfe6ZjDphTcD41hr\n",
       "9oPh10f9QBXyTjEdHdfeuosJaFVPZ5waONt8Ny1HtQ4egUM2WJjk4RToyziEnQDnpaIrZUFXt4LZ\n",
       "FyCaWIKIBcYFbyWo8l9Oplrl6I1CGJhAWZqtlLfiuSroBGrszeTDjrLdDiiasXy4WmljN2xpC1RW\n",
       "FD7bTWVrHMvPb6QoA3BaKhpAHifx6+YihFPBkMhBEq33vSUEMXCpXuhIbwLqi6jKqigMW6qg6wA+\n",
       "xPmOw9MvQa2io0UfbnxkV9jYjXLfU6QO/VlARbNI6GxQETyJMR8ZhXTwhIM0J3EabpFPJDDYPG8C\n",
       "xij0ctPYjUzfTFF3upcLZo/Fppd5D8ZWKFQoYug614frC45wYRu7Va3R8xBflmt0rkKRIqOOTIj9\n",
       "su529LFNsSebAAab9GZggoL3dtxn1Y2YrZhcG3ifuELvZ9MyZTWl275sWRFD9zB5hscedoSLsLEb\n",
       "b/ijMo+OAfyC7CIIXfEVRVnR/bKEpV04mQicMpNZzBBQ+r2wRmASZziwmNJb4cpAi/gsFgazQCJA\n",
       "K1KtMEfVLJsW4TC7bFegrIihiV22hMf4jlyEjd04Fgeg4zzx/8qG3ahI3wLRFMk5QIqUHL3zDklU\n",
       "sxKbTFHevI4qUlEriKKczkkgFjqFZ5csHk56c/U2KaE6EBLJh6jgRbJmiQYcnfnQKHyayWRcSA3D\n",
       "3b4iAWUhBBcrwy7CRm7cdgx2/Voau/rEO51r8hRBL277CXA4dubHmTMlWBhGyKOSqPr9Tfu72GmT\n",
       "36F1bkrusOEN3n607fO1IscKFTjhzYrC3gqmHe0TpJOECBJMOtK01n6Mj5ffFmHYVySh+s8Ow9Ub\n",
       "SZJwIRu7NTiiBXM/2+Io4J0ZvoE2gXv9cuGMH7ZHIGwfhRGI5iE1QqanbI0LhQmxvvIaEZSiasEm\n",
       "OBYJOkfl+TCNNnYLnuImsvVIxAttEk21q2jKG8Wmjt2G6a6/a2FvTE3be1w2GQ/iwy8W1jxU8hWx\n",
       "nRMFCC6KNrkIm/+4smn9x+uz2I3XpS0OKpQx/J02gLV/EW6gh5FMplxbtAbvmmn1M2wMnqj/gGrp\n",
       "RPOT/10YAiGx4bcGatVMYnZtXzvV//w/oUUbdDOmz82Xwa2B3TVRHegbKnoca2CmZmXq2f7rzfg/\n",
       "kPwLCPGEjjaMYrYAAAAASUVORK5CYII=\n",
       "\" style=\"display:inline;vertical-align:middle;\" /></a><br>"
      ],
      "text/plain": [
       "<IPython.core.display.HTML object>"
      ]
     },
     "metadata": {},
     "output_type": "display_data"
    }
   ],
   "source": [
    "disjoint_intervals = (\n",
    "    Forall((a, b, c, d),\n",
    "           Disjoint(Interval(a, b), Interval(c, d)),\n",
    "           domain=Integer,\n",
    "           condition=number_ordering(LessEq(a, b), Less(b, c), LessEq(c, d))\n",
    "          ))"
   ]
  },
  {
   "cell_type": "code",
   "execution_count": 51,
   "metadata": {},
   "outputs": [
    {
     "name": "stdout",
     "output_type": "stream",
     "text": [
      "Adding theorem zero_is_nonpos_int to proveit.numbers.number_sets.integers theory\n",
      "Adding theorem zero_set_within_int to proveit.numbers.number_sets.integers theory\n",
      "Adding theorem zero_set_within_nonpos_int to proveit.numbers.number_sets.integers theory\n",
      "Removing theorem zero_is_nonpos from proveit.numbers.number_sets.integers theory\n",
      "zero_is_nonpos_int expression notebook is being updated\n",
      "zero_set_within_int expression notebook is being updated\n",
      "zero_set_within_nonpos_int expression notebook is being updated\n",
      "These theorems may now be imported from the theory package: proveit.numbers.number_sets.integers\n"
     ]
    }
   ],
   "source": [
    "%end theorems"
   ]
  },
  {
   "cell_type": "code",
   "execution_count": null,
   "metadata": {},
   "outputs": [],
   "source": []
  }
 ],
 "metadata": {
  "kernelspec": {
   "display_name": "Python 3",
   "language": "python",
   "name": "python3"
  },
  "language_info": {
   "codemirror_mode": {
    "name": "ipython",
    "version": 3
   },
   "file_extension": ".py",
   "mimetype": "text/x-python",
   "name": "python",
   "nbconvert_exporter": "python",
   "pygments_lexer": "ipython3",
   "version": "3.7.3"
  }
 },
 "nbformat": 4,
 "nbformat_minor": 1
}
