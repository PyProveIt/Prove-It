{
 "cells": [
  {
   "cell_type": "markdown",
   "metadata": {},
   "source": [
    "Axioms for the theory of <a class=\"ProveItLink\" href=\"theory.ipynb\">proveit.numbers.number_sets.integers</a>\n",
    "========"
   ]
  },
  {
   "cell_type": "code",
   "execution_count": 1,
   "metadata": {},
   "outputs": [
    {
     "name": "stdout",
     "output_type": "stream",
     "text": [
      "Defining axioms for theory 'proveit.numbers.number_sets.integers'\n",
      "Subsequent end-of-cell assignments will define axioms\n",
      "%end_axioms will finalize the definitions\n"
     ]
    }
   ],
   "source": [
    "import proveit\n",
    "# Prepare this notebook for defining the axioms of a theory:\n",
    "%axioms_notebook # Keep this at the top following 'import proveit'.\n",
    "from proveit.logic import And, Equals, Forall, Iff, Implies, InSet, SetEquiv, SetOfAll, SubsetProper, Union\n",
    "from proveit.numbers import Complex, Integer, Interval, Natural, NaturalPos, Neg\n",
    "from proveit.numbers import Add, greater, Less, LessEq, number_ordering\n",
    "from proveit.numbers import zero, one, num\n",
    "from proveit import a, b, n, m, x, y, S\n",
    "%begin axioms"
   ]
  },
  {
   "cell_type": "markdown",
   "metadata": {},
   "source": [
    "**Define the set of naturals, $\\mathbb{N}$, as, essentially, the minimal set that contains zero and all of its successors:**"
   ]
  },
  {
   "cell_type": "code",
   "execution_count": 2,
   "metadata": {},
   "outputs": [],
   "source": [
    "#naturals_def = Forall(n, Equals(InSet(n, Natural), Forall(S, Implies(And(InSet(zero, S), Forall(x, InSet(Add(x,one), S), domain=S)), InSet(n, S)))))"
   ]
  },
  {
   "cell_type": "markdown",
   "metadata": {},
   "source": [
    "that is, $n \\in \\mathbb{N}$ iff n is in all sets that contain zero and all successors."
   ]
  },
  {
   "cell_type": "markdown",
   "metadata": {},
   "source": [
    "**Define the integers, $\\mathbb{Z}$ as the union of the naturals and the negated positive naturals (i.e., the positive and negative forms of all natural numbers where zero is its own negative):**"
   ]
  },
  {
   "cell_type": "code",
   "execution_count": 3,
   "metadata": {},
   "outputs": [
    {
     "data": {
      "text/html": [
       "<strong id=\"integers_def\">integers_def:</strong> <a class=\"ProveItLink\" href=\"../__pv_it/axioms/c98bc095b37f7375ece545e0e0b3b3a5654177fd0/axiom_expr.ipynb\"><img src=\"data:image/png;base64,iVBORw0KGgoAAAANSUhEUgAAAL8AAAAZBAMAAACSgeLGAAAAMFBMVEX///+6urru7u7c3Nx2dnZm\n",
       "ZmbMzMxUVFSIiIiYmJgiIiJEREQQEBAyMjKqqqoAAAB4Cw+YAAAAAXRSTlMAQObYZgAAAAlwSFlz\n",
       "AAAOxAAADsQBlSsOGwAAAtVJREFUSMellk1oE1EQx//ZfOwm24ZUkSKKLqggLZIclKJUEnvxA5Eo\n",
       "iYJF2INSUWkXhKJgJXipB4V4sBRRCXjrxahgha3SoiAlh6bpqfUrYj15iOYgCCLO23zubl40zYOE\n",
       "fW/ezm9m3szsAzjDG0Dbw91M+LV9/XCm+TIhy1nvsir50oQwST//+9/vpmaSVpGcFB7rObgW5szr\n",
       "t9dZdw495QN8CiBNq8h22kT9xMh3A0Hzsr9o1zLNB0gaHUQUUvKYTRQDxEeuJDrYxAjlDvbnStm1\n",
       "HGkSaLJHDKFXsB/GD5J8wxJ8bGJo7VsDAMsEAU6KqlXgYei9if3tAgYNZdo5e/BSzLdRKdIm4JaR\n",
       "MIo9D8QsA8h40gTgGN926MU/AFspjbDqTZTqbsoYmgFNM4An2tNjBrjrysMlX0EwVLaSM0ZY8Bsk\n",
       "KTo14/gf+mfMgP66gunypREmBeE8HxCmhiPlDwCKtUKiBkBUrpkAfYss91YMT1UlGECBXhTG+ATa\n",
       "gl7WMS439kDQaiEaYvkwWG9JARhjoVpsoNlV9oA8HGWKvlvOoAzAeZnNnlX6CmStTglp/0VZXjC5\n",
       "vy8W8L6tNtKREDzRDaTLmn0ieSUTXbrIZptYU8vZ0vQNdQ6y9Gitesb1gF8bwIkqgLJIVnJwvrKW\n",
       "sjRLXrDQnjE60EcI91QrwPkTUnaiPk3jtMc/6UakCrgPbH6Z0RcyEQvAUYTnU4YedhnT3SsfbsBW\n",
       "BykIV/MlwN2Jm6ynMWOG1ycirvjp+HG25xT3+OcaL3MqWbgzj9foNbxVBz7XPFjmAmItAZw7syhi\n",
       "YwngltIVgFDkAi5xGvysfY0dk5hwzOKBrut5vypEshWAV+MCxMbF4/xj7/nz9NehuqPq2ZIH2JKo\n",
       "1IEv1PI3ec91K/IgMyUM37AqK6XbiKTVf5N5Y7Wl+0M3pMNwPqenC0uA9h+3ijXdi7bruuktN7n0\n",
       "F8ThsLbbNjvSAAAAAElFTkSuQmCC\n",
       "\" style=\"display:inline;vertical-align:middle;\" /></a><br>"
      ],
      "text/plain": [
       "integers_def: Integer = (Natural union {-n}_{n in NaturalPos})"
      ]
     },
     "execution_count": 3,
     "metadata": {},
     "output_type": "execute_result"
    }
   ],
   "source": [
    "integers_def = Equals(Integer, Union(Natural, SetOfAll(n, Neg(n), domain=NaturalPos)))"
   ]
  },
  {
   "cell_type": "markdown",
   "metadata": {},
   "source": [
    "**Defining properties of individual natural numbers:**"
   ]
  },
  {
   "cell_type": "code",
   "execution_count": 4,
   "metadata": {},
   "outputs": [],
   "source": [
    "#add_by_zero = Forall(x, Equals(Add(x, zero), x), domain=Complex)"
   ]
  },
  {
   "cell_type": "markdown",
   "metadata": {},
   "source": [
    "#### Defining properties of an Interval (a set of contiguous integers):"
   ]
  },
  {
   "cell_type": "code",
   "execution_count": 5,
   "metadata": {},
   "outputs": [
    {
     "data": {
      "text/html": [
       "<strong id=\"integer_interval_is_subset_of_integers\">integer_interval_is_subset_of_integers:</strong> <a class=\"ProveItLink\" href=\"../__pv_it/axioms/4e12849180fb2e610837d31813a37a87168124920/axiom_expr.ipynb\"><img src=\"data:image/png;base64,iVBORw0KGgoAAAANSUhEUgAAAMIAAAAWBAMAAABgYF47AAAAMFBMVEX///+IiIgiIiIQEBB2dnbu\n",
       "7u5ERETMzMzc3NwyMjK6urpmZmaYmJiqqqpUVFQAAAB6qHgnAAAAAXRSTlMAQObYZgAAAAlwSFlz\n",
       "AAAOxAAADsQBlSsOGwAAAvNJREFUSMe1VVtIFFEY/mZ3Z6+jLeRLUCKLUfRUUlsPQVYYkSlj2UIv\n",
       "2s0tiWyhHoJIN4JeKhsoJayHBemlfJgiCktofEiQIDYL6iFohKALFUlJEgj9/1x2R9c91UMHzplz\n",
       "zvef853/OsCfW5i6fEsk8Fp09C/aMupLbookujvm71Rc+d6fOGhE44DJ6zei4xX11KfLoak6Hrvm\n",
       "b0tdGWgRYCnwkNfXRAx7qQdqysLXedgyfzemQzKagIiKbrbWPhHDiJhhdkGGyixSMl2r6EyCQF7E\n",
       "sFrIEJ32MkgHEolEhiMDeFDJk3VQDFJF6AZNyGAjDkPoarYAhMzT/LkB1CUSa0UMsXr3nt7NZ0vh\n",
       "yGR1vsCwq0iAoGoFWDMpA3SIGCIG05Ai0Q04rpbA7X3yDLDYXnzyAC+VOH/G6WUImwXN+l1HJRsP\n",
       "6fbUx046RzS7DdwtfcBbFWuAy7YnNQ+g2bZ/wdoEcoXtd0xTnc75soEW571+QnsHaPIYqC1lGAZ+\n",
       "kGM/5i3TexIivwOgK3rIk3GPo9dTf0QhoODMRRQZQvdJNgn5VylDLaIUr4EBq0Z4GFKcAh+AQVZn\n",
       "lIbW0e38iKlqVTIsCd0xkm2loAl5Csq3hdIhNm3Zipsn4t5TRsgkP0Hzpj7ScmVohlVbLukpS0C5\n",
       "lHFjIm7HkjyLSq20xP1k/2BrMTkdj+q3yZvEOMZeNDnJQ5xYQUPRhiyJlkAh4E0nWvdjwlasXXMH\n",
       "ap9xtJgPkVwxVvsQPkaGusdxk2FjS3yRPxMzx9PpdB71DdjjvKbGYWirOjVpKebT3YFaW6NRZJC7\n",
       "3BI82JlMb0pSKq1yozobfEKmXAR//qRVC14ZaHCwFeK6BG/ViG5zqkbhB+Ee9Gd7htRW+NQx0o9v\n",
       "jCHqYk//gaG0Ihgu98jznTiRD92JI3yY1s++VnW6oRekUiCtFjMMlwPOz13aidmaTue8u1yEw7NC\n",
       "AnljOeTI3EKsLizF9e7CF9F/urlc+Zeyc5YK/kf7DUc7rjDs7b1hAAAAAElFTkSuQmCC\n",
       "\" style=\"display:inline;vertical-align:middle;\" /></a><br>"
      ],
      "text/plain": [
       "integer_interval_is_subset_of_integers: forall_{a, b in Integer} ({a .. b} proper_subset Integer)"
      ]
     },
     "execution_count": 5,
     "metadata": {},
     "output_type": "execute_result"
    }
   ],
   "source": [
    "integer_interval_is_subset_of_integers = Forall(\n",
    "    (a, b),\n",
    "    SubsetProper(Interval(a, b), Integer),\n",
    "    domain = Integer)"
   ]
  },
  {
   "cell_type": "markdown",
   "metadata": {},
   "source": [
    "Note: if $b < a$, $\\{a~\\ldotp \\ldotp~b\\}$ is equivalent to the empty set."
   ]
  },
  {
   "cell_type": "code",
   "execution_count": 6,
   "metadata": {},
   "outputs": [
    {
     "data": {
      "text/html": [
       "<strong id=\"integer_interval_element_bounds\">integer_interval_element_bounds:</strong> <a class=\"ProveItLink\" href=\"../__pv_it/axioms/6dee454f95424588e03f8f7129f9545275f3eabc0/axiom_expr.ipynb\"><img src=\"data:image/png;base64,iVBORw0KGgoAAAANSUhEUgAAARwAAAAZBAMAAAARYIzUAAAAMFBMVEX///+IiIgiIiIQEBB2dnbu\n",
       "7u5ERETMzMzc3NwyMjK6urpmZmaYmJiqqqpUVFQAAAB6qHgnAAAAAXRSTlMAQObYZgAAAAlwSFlz\n",
       "AAAOxAAADsQBlSsOGwAAA6RJREFUSMe9l11IFFEUx//7MTv7MetuYVBUiyyFvgQSoj74sApGkMVI\n",
       "FgWRSjVREK3oQy/amFQvZdtD1kux6VsIbkIIKTgGFVLE1osJgStYEFToQ/RBQffe2Zmdj61xCT3g\n",
       "yD37PzO/uffcc88AjlYWr8K6mCu+axWqANbNXq4hjr8ktbzWONtLUt9XcXL03zsHHGeR3cKJ1Sq5\n",
       "ExUkcRSG85g67jjgOIvsdtTqmJftItUXyJDLLYbTR1e5wwHHWWS3Kcv4ySO7Ju+LZMnlBcMJiIA3\n",
       "64DjLLJbtXm4sdku0Xxj5PbwiBRHUJySlfzqLLKnTsqUHk1Re8rovib2GIXtrN3xeI3jznIU2SxE\n",
       "M3mwsV998riSdwdjRxo7LT7c2/CZzH6O4UwApxxxbCKhpai2R08Q+rLBepyn68B91Bfa61tEu2z2\n",
       "cT9E4hJSDGcQ/pz2Az+kHQy1+05mDDhGEbNuOwoLPqCN3ORpBxWMs0Hh0Q/cHbiRNPvCX+GJIlzN\n",
       "cHyiN63fconeNial3bK3VTTgGEVdH86SHVpkamiw7vcQ/TSwQy3Q+sKI7WksiGZfKIVIAvwywwlH\n",
       "DUlaR/4mCbyA3mvGxTKIQhNAcZw6K04tuJ/WtF0g82LxuRMYyyKozg5SM+TSNrOXTsxKTHSp0JmM\n",
       "6ZCgImGqayuwDRqOGlNYLBJcwCGLxa1AWLZuasLyizP7SNmZFhGuUHH2k3rIVfHf6RG/05U5rKbq\n",
       "9aQJh4qOjSgemVOr4aweU+gPSDCGtZEvCu43ylJvLSWvhqSK1+yLJLkG8sQOFWeAJGkow9Oy5VOE\n",
       "1CgTtnrNRygVXd6CiBhkk8ff1mN0o8EIbNK2EAnoxJvCJGOevqD/G1yp52ZfmeLLqJWB4pQl6Uq7\n",
       "6M7xJEO5WUmSskg045ARh4qwiBEIQ5J0Dn3v9RjdaDDCN7WlI3N/vPzCYtKcX8EKcJ8s9Z1bogeK\n",
       "O11oMNpl31OS7xF4sj0sak5Bs63BqMMkz6sHdUyP0Y0GY0AfVpbYj1wy9Dse+eKo2Aa3+IzsaTrV\n",
       "IfoeFhz/Mirn8uVwPh9DMxocQ6TBhh33AqUfuRpOcOp1C7qz/MMo/KfJ+NWX8jM5K04wh3IFV5J5\n",
       "HBZDK6LM17PlIcEGHF+hn+DizEzrZvWxhsHcDapr2iZJ6X90g9we6S9l0FyPuNIaEkZvwgmKq29O\n",
       "hx1x0F8SzmZbryyU0CsHokW1/N21/5Io+p3VW1R79f++sxr+AL3J/4jU7SLvAAAAAElFTkSuQmCC\n",
       "\" style=\"display:inline;vertical-align:middle;\" /></a><br>"
      ],
      "text/plain": [
       "integer_interval_element_bounds: forall_{a, b in Integer} [forall_{n in {a .. b}} (a <= n <= b)]"
      ]
     },
     "execution_count": 6,
     "metadata": {},
     "output_type": "execute_result"
    }
   ],
   "source": [
    "integer_interval_element_bounds = Forall(\n",
    "    (a, b),\n",
    "    Forall(n,\n",
    "           number_ordering(LessEq(a, n), LessEq(n, b)),\n",
    "           domain = Interval(a, b)),\n",
    "    domain = Integer)"
   ]
  },
  {
   "cell_type": "code",
   "execution_count": 7,
   "metadata": {},
   "outputs": [],
   "source": [
    "# Consider this as an alternative??\n",
    "# from proveit import ExprRange\n",
    "# from proveit.logic import Set\n",
    "#Forall((a, b), Equals(Interval(a, b), Set(ExprRange(n, n, a, b))), domain=Integer)"
   ]
  },
  {
   "cell_type": "code",
   "execution_count": 8,
   "metadata": {},
   "outputs": [
    {
     "name": "stdout",
     "output_type": "stream",
     "text": [
      "These axioms may now be imported from the theory package: proveit.numbers.number_sets.integers\n"
     ]
    }
   ],
   "source": [
    "%end axioms"
   ]
  },
  {
   "cell_type": "code",
   "execution_count": null,
   "metadata": {},
   "outputs": [],
   "source": []
  }
 ],
 "metadata": {
  "kernelspec": {
   "display_name": "Python 3",
   "language": "python",
   "name": "python3"
  },
  "language_info": {
   "codemirror_mode": {
    "name": "ipython",
    "version": 3
   },
   "file_extension": ".py",
   "mimetype": "text/x-python",
   "name": "python",
   "nbconvert_exporter": "python",
   "pygments_lexer": "ipython3",
   "version": "3.7.3"
  }
 },
 "nbformat": 4,
 "nbformat_minor": 1
}
