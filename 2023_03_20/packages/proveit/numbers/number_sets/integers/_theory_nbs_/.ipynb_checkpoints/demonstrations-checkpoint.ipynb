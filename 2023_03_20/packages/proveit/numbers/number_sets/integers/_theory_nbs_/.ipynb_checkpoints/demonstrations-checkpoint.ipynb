{
 "cells": [
  {
   "cell_type": "markdown",
   "metadata": {},
   "source": [
    "Demonstrations for the theory of <a class=\"ProveItLink\" href=\"theory.ipynb\">proveit.numbers.number_sets.integers</a>\n",
    "========"
   ]
  },
  {
   "cell_type": "code",
   "execution_count": 1,
   "metadata": {},
   "outputs": [],
   "source": [
    "import proveit\n",
    "from proveit import a, b, c, d, n, x, ProofFailure\n",
    "from proveit.logic import Boolean, NotEquals, InSet, NotInSet, Or\n",
    "from proveit.numbers import Neg, Less, LessEq, greater, greater_eq, number_ordering\n",
    "from proveit.numbers import (zero, one, two, three, four, five, six, seven,\n",
    "                             eight, nine, Integer, IntegerNonZero, IntegerNeg, IntegerNonPos,\n",
    "                             Interval, Natural, NaturalPos)\n",
    "%begin demonstrations"
   ]
  },
  {
   "cell_type": "markdown",
   "metadata": {},
   "source": [
    "# Natural Numbers $\\mathbb{N}$, Positive Natural Numbers $\\mathbb{N}^{+}$, & Integer Numbers $\\mathbb{Z}$\n",
    "\n",
    "### UNDER CONSTRUCTION"
   ]
  },
  {
   "cell_type": "markdown",
   "metadata": {},
   "source": [
    "<div style=\"line-height:1.4; font-size:14pt\">\n",
    "\n",
    "<a href='#introduction'>Introduction</a><br>\n",
    "<a href='#simple_expressions'>Simple Expressions involving the Natural numbers $\\mathbb{N}$ and the Integer numbers $\\mathbb{Z}$</a><br>\n",
    "<a href='#common_attributes'>Common Attributes of NumberSet classes</a><br>\n",
    "<a href='#axioms'>Axioms</a><br>\n",
    "<a href='#further_demonstrations'>Further Demonstrations</a><br>\n",
    "    <ol>\n",
    "        <li><a href='#demo01'>Demo 1</a></li>\n",
    "        <li><a href='#demo02'>Demo 2</a></li>\n",
    "        <li><a href='#demo03'>Demo 3</a></li>\n",
    "    </ol>\n",
    "\n",
    "</div>\n"
   ]
  },
  {
   "cell_type": "markdown",
   "metadata": {},
   "source": [
    "## Introduction <a id='introduction'></a>"
   ]
  },
  {
   "cell_type": "markdown",
   "metadata": {},
   "source": [
    "<font size=4>UNDER CONSTRUCTION. Something here about the importance of having and using specifically pre-defined number sets such as the Natural number set ($\\mathbb{N}$) and Integer number set ($\\mathbb{Z}$), the axiomatic definitions, and perhaps the distinctiveness from the Real numbers ($\\mathbb{R}$).</font>"
   ]
  },
  {
   "cell_type": "code",
   "execution_count": 2,
   "metadata": {},
   "outputs": [
    {
     "data": {
      "text/html": [
       "<span style=\"font-size:20px;\"> <a class=\"ProveItLink\" href=\"../__pv_it/demonstrations/37935226e0e24f97aae7b86ad0d5439ad3d911f40/proof.ipynb\" style=\"text-decoration: none\">&nbsp;&#x22A2;&nbsp;&nbsp;</a><a class=\"ProveItLink\" href=\"../__pv_it/demonstrations/c40f4fbc3c2edb6681c99020279c63f70b93804e0/expr.ipynb\"><img src=\"data:image/png;base64,iVBORw0KGgoAAAANSUhEUgAAAGkAAAAVBAMAAAC3TN2zAAAAMFBMVEX////MzMxUVFRERES6uroi\n",
       "IiIQEBCYmJhmZmYyMjLu7u52dnaqqqqIiIjc3NwAAACW8nlqAAAAAXRSTlMAQObYZgAAAAlwSFlz\n",
       "AAAOxAAADsQBlSsOGwAAAbhJREFUOMt9lD1Iw1AQx/9tWtvGNnQRdCuoiKLlOTgIfmRQRKVQKh0U\n",
       "h4I6udRNUMFN0CWTgvgRFEdtUVAXRXASh1ZBRETp4uBkRazg5L201b6a9ODB8bv8ksvlCIAMrMOy\n",
       "5rswgXsfnTqOc2qojN9NbK9GVEquTe/V5QhAzsIXL+MspKw3ALJmajVmToAYsF5uDeBcAtxxU6uV\n",
       "eTIIA7P/rXk7UCW+ZEd01EiCC4rGrSpd5NzyAFelkmNTL2RBu/+RW564yMkKzgErxG4PzroN9los\n",
       "IggmqWRVB0TOQvuRJLBGFakNCePLbOHPqpXHyHJpImf9q5/LwDjQ52R483OmlViui0uaoTcmcurw\n",
       "flDHJKAnVKR4D7apaDQ6UrDQYifDlhU5WZIjyS2kgGaOZFbyLOzI1KEjJnJugfEOufIlcxYutWxp\n",
       "utgbFrlhaeDDm4b3u5qzp99qO50bslxM5NzypnEIKO/waTOceX43eYOOm4bgToqcDePsFKih3sOQ\n",
       "mwwu1w/li3U5ll9Rpyrwh4leY+edfmE5jgqbU4wXc+5aRKVYsuA9lSSFWRR2K1mS1S9ASVewns3x\n",
       "D5QIasTu0+HMAAAAAElFTkSuQmCC\n",
       "\" style=\"display:inline;vertical-align:middle;\" /></a></span>"
      ],
      "text/plain": [
       "|- (n in Natural) in BOOLEAN"
      ]
     },
     "metadata": {},
     "output_type": "display_data"
    }
   ],
   "source": [
    "InSet(n, Natural).deduce_in_bool()"
   ]
  },
  {
   "cell_type": "code",
   "execution_count": 3,
   "metadata": {},
   "outputs": [
    {
     "data": {
      "text/html": [
       "<span style=\"font-size:20px;\"> <a class=\"ProveItLink\" href=\"../__pv_it/demonstrations/4a55e60df66ba7e240be5b177ae349f8fd5e10ff0/proof.ipynb\" style=\"text-decoration: none\">&nbsp;&#x22A2;&nbsp;&nbsp;</a><a class=\"ProveItLink\" href=\"../__pv_it/demonstrations/7dcb09f1c999a2a9ea1018859dd7a6fd8d013c8c0/expr.ipynb\"><img src=\"data:image/png;base64,iVBORw0KGgoAAAANSUhEUgAAAHgAAAAZBAMAAAAI4vceAAAAMFBMVEX///9UVFQiIiKIiIjMzMx2\n",
       "dnYQEBDc3NxEREQyMjLu7u5mZmaqqqq6urqYmJgAAAB66f/FAAAAAXRSTlMAQObYZgAAAAlwSFlz\n",
       "AAAOxAAADsQBlSsOGwAAAehJREFUOMudlL1Lw0AYh39tWk3TDwt+oKBLQUUcLIIiToKgbi34DxQX\n",
       "u4gRJxcNChKHal0UimjaQXQyOulk0UHHOnRwsiA4KQhOioKXi2lyMWnFg+SO9+HJe3d57wC8oFZT\n",
       "yRN0pSG1piyRp1Fyo8eoK+PRjW46xIQBOQf//JwhexWWcz0b7zNdZEoppy/yxTvgpJqZi9p5OL6U\n",
       "LyGYdJI9vf4KGhCU5bRMpiZ8/JIrflFCU8lRvsUuvNXM2P8tR4pRJJjljMRiWSovx5es8rmNUzmL\n",
       "Qat7P2pkFlu4pEUetnEie5aT6NDGC9OLWteYq05b5JGxyA8Ky/nw6GArIJNheBZbGg2IpuxTCwWj\n",
       "woDEGBjOh/vm+xVsk+FhBWcUmhsm4jm0bq5npcRyMm3uJYd+MrwEurXQRIw06Uf2KG2mfFJiOZEh\n",
       "lWnmNIQvLXRkzSxEC5bMYyynMq/Jwhsir7QKrTLGeVNOiCyncgDtRP6EJ3ujVWG8CkkmbsqU9d22\n",
       "cE2+pn9wDVcq3dU9AwaK5HVhyk96t2fKSf+QSr+ZH5pspovKZ/R68x2k2cN6qncG53ZkeqoamNou\n",
       "r+rlZ2/7ztz5VNnP94dz3Jf6gxyJuoDOP8he8X93GGreYaH6i3a/Pevc23RTFef4N/1PfOXwOOlJ\n",
       "AAAAAElFTkSuQmCC\n",
       "\" style=\"display:inline;vertical-align:middle;\" /></a></span>"
      ],
      "text/plain": [
       "|- (a in NaturalPos) in BOOLEAN"
      ]
     },
     "metadata": {},
     "output_type": "display_data"
    }
   ],
   "source": [
    "InSet(a, NaturalPos).deduce_in_bool()"
   ]
  },
  {
   "cell_type": "code",
   "execution_count": 4,
   "metadata": {},
   "outputs": [
    {
     "data": {
      "text/html": [
       "<table><tr><th>&nbsp;</th><th>step type</th><th>requirements</th><th>statement</th></tr>\n",
       "<tr><td><a name=\"0x48256bf592ee65d1_step0\">0</a></td><td>conjecture</td><td></td><td><span style=\"font-size:20px;\"> <a class=\"ProveItLink\" href=\"../../../numerals/decimals/_theory_nbs_/proofs/posnat9/thm_proof.ipynb\" style=\"text-decoration: none\">&nbsp;&#x22A2;&nbsp;&nbsp;</a><a class=\"ProveItLink\" href=\"../../../numerals/decimals/__pv_it/theorems/42d59895071bce82f74770ded2d949fb15af2d610/expr.ipynb\"><img src=\"data:image/png;base64,iVBORw0KGgoAAAANSUhEUgAAAD8AAAATBAMAAADVH8ihAAAAMFBMVEX///+qqqqYmJi6urp2dnYy\n",
       "MjJERETc3NwQEBDMzMyIiIgiIiLu7u5UVFRmZmYAAAABFGnYAAAAAXRSTlMAQObYZgAAAAlwSFlz\n",
       "AAAOxAAADsQBlSsOGwAAAQNJREFUKM9jYMAD+BgIADYyFZz+lnqAweOHAUwB37s7aCoSmS8w8HyA\n",
       "mcCzi2FGAaqC2wVODAwNDM/SMtLSFBh4GxjYElAVXExgLWDYADOBP4CB5Q9EYtnu3QEg+roWewBC\n",
       "wfkEBq7PYHnTNVATrvNOWIJqwicQgz0GZsV1hgQ2A7gCkBt+gRisBQgF83j2bICFJE8zw9yPYAUM\n",
       "CAVMAmINcO65JVI/QfSM3UCQAFHAcIe3AclbEF8cQzKB4SzPBuQgB+vjRlbAuQAeNow9DOcngBhc\n",
       "C2BCmUC8Eq6Aaw9DEoQVCBMCMfgC4Aa6vDOAMM4mHwDTU38AdfMEYIlnk+zdmMIAHpZHEZ00KoYA\n",
       "AAAASUVORK5CYII=\n",
       "\" style=\"display:inline;vertical-align:middle;\" /></a></span></td></tr>\n",
       "<tr><td>&nbsp;</td><td colspan=4 style-\"text-align:left\"><a class=\"ProveItLink\" href=\"../../../numerals/decimals/_theory_nbs_/proofs/posnat9/thm_proof.ipynb\">proveit.numbers.numerals.decimals.posnat9</a></td></tr></table>"
      ],
      "text/plain": [
       "proveit.numbers.numerals.decimals.posnat9"
      ]
     },
     "metadata": {},
     "output_type": "display_data"
    }
   ],
   "source": [
    "InSet(nine, NaturalPos).prove().proof()"
   ]
  },
  {
   "cell_type": "code",
   "execution_count": 5,
   "metadata": {},
   "outputs": [
    {
     "data": {
      "text/html": [
       "<span style=\"font-size:20px;\"> <a class=\"ProveItLink\" href=\"../__pv_it/demonstrations/d8c580d695ca939d917f670607bf85d8ac53ce400/proof.ipynb\" style=\"text-decoration: none\">&nbsp;&#x22A2;&nbsp;&nbsp;</a><a class=\"ProveItLink\" href=\"../__pv_it/demonstrations/c8eb2b71d171cdd4aef4dda94fd85d6a6ddaeda50/expr.ipynb\"><img src=\"data:image/png;base64,iVBORw0KGgoAAAANSUhEUgAAAGUAAAAVBAMAAACtcD09AAAAMFBMVEX////MzMxUVFRERES6uroi\n",
       "IiIQEBCYmJhmZmYyMjLu7u52dnaqqqqIiIjc3NwAAACW8nlqAAAAAXRSTlMAQObYZgAAAAlwSFlz\n",
       "AAAOxAAADsQBlSsOGwAAAeJJREFUOMtjYGB4wIAD8OGSYOA9gCHEM+3b5FCzApYLaOJXk+dPC3IA\n",
       "Mk4zcJkFoBljJMAwgZOB4Tq6YQa+fLNUGBi4JjAwcDagSnE0MPAW7AGKL0DX486wjxkoX8DAwI/m\n",
       "PKYHDIu5DBgY2Bsw9dQwMTCwAZn+MPMuh4YCrWXgYmBoZBIAMrKgbjUNjYTrAbr5JJC5FarF8xbM\n",
       "QEYFCRA1HcxhmbsAYY9eNQNDN5A56a4OOGxnwR3BvMAKRG0Cc14uQITB2qANYKO4fi5YD4okTkRM\n",
       "nWYHh3MlmDMP4R/XaV+7GBhigNHxi4ENpIQT4dkJEPYxCAc5DK57LmBIAQbdBAZ+oI0MYqFAYACJ\n",
       "5y0MDEAXyYP9lgoUDobpYWbZANLDuoHBHxTai+HmLeYDatVjYHADcbgMkO1hZjAAuQ0YPf0gb7LC\n",
       "5RSBMcT1gYHhKJgXgKpnAoMtUI8AVzrYRbD0xdjgAYxYoNJiMPcuih6eC6DgZCpghkT4HHhIz2Lg\n",
       "szGARAQwbODJxMCbYe8OBgZRoIO12yFCi0wgMeFmmWycnwwMlhAwl0vZCyJ/M9kenK5ZBZDSk7dp\n",
       "6ATkDAT1CctmaNqBAox0iJy+C3BI2OHW8xiXxGLcenAax3cBZ67HUVIAAJGka4yoHfx+AAAAAElF\n",
       "TkSuQmCC\n",
       "\" style=\"display:inline;vertical-align:middle;\" /></a></span>"
      ],
      "text/plain": [
       "|- (b in Integer) in BOOLEAN"
      ]
     },
     "metadata": {},
     "output_type": "display_data"
    }
   ],
   "source": [
    "InSet(b, Integer).deduce_in_bool()"
   ]
  },
  {
   "cell_type": "markdown",
   "metadata": {},
   "source": [
    "## Miscellaneous Testing\n",
    "The material below was developed to test various Integer and Integer Set-related methods. Some of this material could be integrated into the `_demonstrations_` page eventually and/or deleted as development continues."
   ]
  },
  {
   "cell_type": "markdown",
   "metadata": {},
   "source": [
    "Some Example Domains For Testing"
   ]
  },
  {
   "cell_type": "code",
   "execution_count": 6,
   "metadata": {},
   "outputs": [
    {
     "data": {
      "text/html": [
       "<strong id=\"two_to_nine_interval\">two_to_nine_interval:</strong> <a class=\"ProveItLink\" href=\"../__pv_it/demonstrations/7dbf0325df3f885af4ab1994d1182515b08bc54d0/expr.ipynb\"><img src=\"data:image/png;base64,iVBORw0KGgoAAAANSUhEUgAAAEcAAAAVBAMAAADm2O7QAAAAMFBMVEX///9ERETMzMxUVFSYmJgQ\n",
       "EBDc3NxmZmYiIiJ2dnaqqqoyMjKIiIi6urru7u4AAAB85a56AAAAAXRSTlMAQObYZgAAAAlwSFlz\n",
       "AAAOxAAADsQBlSsOGwAAARJJREFUKM9jYGDgu8uAG7Atg9Cn7+FRxKAsByK5/gHVl29UwJRnL7cD\n",
       "ksIgJmcDA0MiA+dfDDV8PQyqCQwMM2CKzBgYQjEUMQcwMAogKYp/wGCfgK6IfwMD5z8kRRYMDPYY\n",
       "jnovwMDzF0kREPQzYDPpC1QR+wYQyfQHq5uAokdB7FQHEMlhgOm7WAblXwwM+QsYGJL3gkUKsYTj\n",
       "85NrPgHVWi9gYCp8AOSzGGANbpDvOEGmMILkVzKwJWBRBAqn9Q+gvmOawMDzAF0FVxzDe2C4TIUF\n",
       "QUZ5eQXYrb9hBBDw9DGIMCCFU////xCZdjgBBDPLLzCgBiZOQLwingD8iqrBCfQXXjV8IWAq3Qpf\n",
       "Gp8MjBUAHKtDN01vk/0AAAAASUVORK5CYII=\n",
       "\" style=\"display:inline;vertical-align:middle;\" /></a><br>"
      ],
      "text/plain": [
       "<IPython.core.display.HTML object>"
      ]
     },
     "metadata": {},
     "output_type": "display_data"
    },
    {
     "data": {
      "text/html": [
       "<strong id=\"a_b_interval\">a_b_interval:</strong> <a class=\"ProveItLink\" href=\"../__pv_it/demonstrations/916840f6705cdf02cc97ee01cc278279317525eb0/expr.ipynb\"><img src=\"data:image/png;base64,iVBORw0KGgoAAAANSUhEUgAAAEcAAAAVBAMAAADm2O7QAAAAMFBMVEX///9ERETMzMxUVFSYmJgQ\n",
       "EBDc3NxmZmYiIiJ2dnaqqqoyMjKIiIi6urru7u4AAAB85a56AAAAAXRSTlMAQObYZgAAAAlwSFlz\n",
       "AAAOxAAADsQBlSsOGwAAAPxJREFUKM9jYGDgu8uAG7Atg9Cn7+FRxKAsByK5/uGSfxgBIoVBBGcD\n",
       "TlO2g4gZBBT9IkIR7z8iFEFkEIqS5+RgKuK2ObwAqoh9A9DgMAb5BxiK3u/j+8bAcBTETHVgYHjq\n",
       "wFCBadL6BwwxDAz5QNOS9wK59QwMnZiKqhkYfgIjxHoBA1Mh0J5ABr6/mIo6GXiBgcAJMoXRgIHv\n",
       "DwPLB2zBxP4PbCnYd3y/GJg3LMNQ9AnkVoapsCCQYVhRUADi8P0G+WoDRJEJgzhyOD0+qWajAJZo\n",
       "B2KOAoiix9MdiIg7BgaSFPEE4FdUDU6gv/Cq4QsBU+lW+NL4ZGCsAABCLUOS0Wtd4wAAAABJRU5E\n",
       "rkJggg==\n",
       "\" style=\"display:inline;vertical-align:middle;\" /></a><br>"
      ],
      "text/plain": [
       "<IPython.core.display.HTML object>"
      ]
     },
     "metadata": {},
     "output_type": "display_data"
    },
    {
     "data": {
      "text/html": [
       "<strong id=\"c_d_interval\">c_d_interval:</strong> <a class=\"ProveItLink\" href=\"../__pv_it/demonstrations/92201d80dba6945518c52def789a706d0402769f0/expr.ipynb\"><img src=\"data:image/png;base64,iVBORw0KGgoAAAANSUhEUgAAAEcAAAAVBAMAAADm2O7QAAAAMFBMVEX///9ERETMzMxUVFSYmJgQ\n",
       "EBDc3NxmZmYiIiJ2dnaqqqoyMjKIiIi6urru7u4AAAB85a56AAAAAXRSTlMAQObYZgAAAAlwSFlz\n",
       "AAAOxAAADsQBlSsOGwAAAPZJREFUKM9jYGDgu8uAG7Atg9Cn7+FRxKAsByK5/uFWoR3OwCAMYnA2\n",
       "4DHnFwPDDEKKeP8RoQgkR1ARdwGyIs4zTphKkufoL4AqYt8ADI0uhkJMB4UxyD9gYDgKYqc6MDBw\n",
       "TGCIwVD01IGhGkjlA01L3gtk1D/A4qB6BoZOIMVnvYCBqRCoIBCbqwMZ+P6CnAsyhdGAge8PFjVA\n",
       "QZYPQHr9A6jvvgCdiaHoFwPzBmD0ToUFAdBrk8ASv4HE+w0QVTIMKwqQw4lzig/E6e1AzFEAUfT4\n",
       "pJqNAhEhDgLEK+IJwK+oGpxAf+FVwxcCptKt8KXxycBYAQBL8T0ze3YbowAAAABJRU5ErkJggg==\n",
       "\" style=\"display:inline;vertical-align:middle;\" /></a><br>"
      ],
      "text/plain": [
       "<IPython.core.display.HTML object>"
      ]
     },
     "metadata": {},
     "output_type": "display_data"
    }
   ],
   "source": [
    "two_to_nine_interval, a_b_interval, c_d_interval = (\n",
    "    Interval(two, nine), Interval(a, b), Interval(c, d))"
   ]
  },
  {
   "cell_type": "markdown",
   "metadata": {},
   "source": [
    "Some Example Membership Claims For Testing"
   ]
  },
  {
   "cell_type": "code",
   "execution_count": 7,
   "metadata": {},
   "outputs": [
    {
     "data": {
      "text/html": [
       "<strong id=\"three_in_2_9_interval\">three_in_2_9_interval:</strong> <a class=\"ProveItLink\" href=\"../__pv_it/demonstrations/8dee6cd462712475ec0589f09ed83bbfd2f235a40/expr.ipynb\"><img src=\"data:image/png;base64,iVBORw0KGgoAAAANSUhEUgAAAGwAAAAVBAMAAABRZRb3AAAAMFBMVEX///9UVFTMzMwiIiKYmJgQ\n",
       "EBAyMjKIiIiqqqru7u66urpERERmZmZ2dnbc3NwAAABametFAAAAAXRSTlMAQObYZgAAAAlwSFlz\n",
       "AAAOxAAADsQBlSsOGwAAAZhJREFUOMuVkj1Lw1AUht+m1jZpmxZBETrYH6BYibjoEP+BoJODdFMc\n",
       "pCIiTs3i3Ih0cbGr4FB1UgfbpYJkEAQRLLSTOFgVB2kRrDf3tiZNbgMeyAk5Jw/n6wV4dlhAf3up\n",
       "90kE13UPTEiY2Ub10pnIkfhr5YyDGGWSCscBsYSc5kjeA3IRNXenBxlhBYimSENNHKXdmK+OwIIL\n",
       "GwauGCYtI8aw4Lky84cFWvD9uLAvoKZTzBxFNb20qturpeD7dFLiN5AtdDBpmsaedXuTxPwf3Goq\n",
       "w4TNIRrasLIV6iczvNmuMwiyodkmrb3IS/Q15d5/viCMaZCb9IOMT4ouKooyS6kRuvlI0Y2JN4/Z\n",
       "JLC/BiGJsEmL1l/jF6af52uEbBIPBcRaDEPKSp2SJ3SHNx5G7hYi3QXirEns9JwbE8Cui9nTRXKV\n",
       "KFnJgNq526DWI645w6D1qYS6OtrSwypTCU4MJmUxcWzD/O12m/7rL3UdsWj1FuiqpGPSk01cXtaL\n",
       "waGSf2Pb3lgkzY+/a55YXuXH5bIX1xgFfgERUWj7D2dgMAAAAABJRU5ErkJggg==\n",
       "\" style=\"display:inline;vertical-align:middle;\" /></a><br>"
      ],
      "text/plain": [
       "<IPython.core.display.HTML object>"
      ]
     },
     "metadata": {},
     "output_type": "display_data"
    },
    {
     "data": {
      "text/html": [
       "<strong id=\"x_in_a_b_interval\">x_in_a_b_interval:</strong> <a class=\"ProveItLink\" href=\"../__pv_it/demonstrations/29c6c2fe2b7d2efdcbad59a387752e9d9e70de3b0/expr.ipynb\"><img src=\"data:image/png;base64,iVBORw0KGgoAAAANSUhEUgAAAGwAAAAVBAMAAABRZRb3AAAAMFBMVEX///9ERES6uroQEBAyMjLc\n",
       "3NyYmJgiIiJmZmaqqqp2dnbMzMxUVFSIiIju7u4AAAAd7oVFAAAAAXRSTlMAQObYZgAAAAlwSFlz\n",
       "AAAOxAAADsQBlSsOGwAAAWNJREFUOMtjYMAG+JQYcIPIAFwyV/TwaOM++AC7BOc/HDr4hAuAJOMB\n",
       "7LJcBbhsYmnAI41bG/8ETOmL5eUOBLTpP8CQVrlH2LblcOm3d16vAlnN6ofqyJi1sZjafO6ehEo3\n",
       "8J7lANEsiOjgALqVyZRBHiOg+b48eB/AwGvAwMAWwPaPJwGkDSEbDOQ/TmBoxxYzzBcYWH8CIw9s\n",
       "NhBsLgcCARArxglI9DMwVGFoAyrlX8DA8MYTyAbqB4GHiGTQCHSdIQPfJwxt7AsY9IHhsEQBFKgB\n",
       "fCBPsCNkgcmA7y8D2wds0db/AJyIHiocZuACCfFeQA5Jvp8MPA5TMbRt4DMDSgODZP6+ZgZNsJgn\n",
       "SgTIMkxvAKUkhvcOoBCESPAkMDZApF/c5WybABZ7I/QASdubW1vPbgD7B6S5AhoBp9owU4OWOMHE\n",
       "hVeaTG2gZIAHQCMaA4CSAR7wOAGHRMRJPLqigJIADqZdG0XjnuMAAAAASUVORK5CYII=\n",
       "\" style=\"display:inline;vertical-align:middle;\" /></a><br>"
      ],
      "text/plain": [
       "<IPython.core.display.HTML object>"
      ]
     },
     "metadata": {},
     "output_type": "display_data"
    }
   ],
   "source": [
    "three_in_2_9_interval, x_in_a_b_interval = (\n",
    "    InSet(three, two_to_nine_interval), InSet(x, a_b_interval))"
   ]
  },
  {
   "cell_type": "code",
   "execution_count": 8,
   "metadata": {},
   "outputs": [
    {
     "data": {
      "text/html": [
       "<span style=\"font-size:20px;\"> <a class=\"ProveItLink\" href=\"../__pv_it/demonstrations/ef5401b2d4557b741c51aec23d0b6f007a4202230/proof.ipynb\" style=\"text-decoration: none\">&nbsp;&#x22A2;&nbsp;&nbsp;</a><a class=\"ProveItLink\" href=\"../__pv_it/demonstrations/8dee6cd462712475ec0589f09ed83bbfd2f235a40/expr.ipynb\"><img src=\"data:image/png;base64,iVBORw0KGgoAAAANSUhEUgAAAGwAAAAVBAMAAABRZRb3AAAAMFBMVEX///9UVFTMzMwiIiKYmJgQ\n",
       "EBAyMjKIiIiqqqru7u66urpERERmZmZ2dnbc3NwAAABametFAAAAAXRSTlMAQObYZgAAAAlwSFlz\n",
       "AAAOxAAADsQBlSsOGwAAAZhJREFUOMuVkj1Lw1AUht+m1jZpmxZBETrYH6BYibjoEP+BoJODdFMc\n",
       "pCIiTs3i3Ih0cbGr4FB1UgfbpYJkEAQRLLSTOFgVB2kRrDf3tiZNbgMeyAk5Jw/n6wV4dlhAf3up\n",
       "90kE13UPTEiY2Ub10pnIkfhr5YyDGGWSCscBsYSc5kjeA3IRNXenBxlhBYimSENNHKXdmK+OwIIL\n",
       "GwauGCYtI8aw4Lky84cFWvD9uLAvoKZTzBxFNb20qturpeD7dFLiN5AtdDBpmsaedXuTxPwf3Goq\n",
       "w4TNIRrasLIV6iczvNmuMwiyodkmrb3IS/Q15d5/viCMaZCb9IOMT4ouKooyS6kRuvlI0Y2JN4/Z\n",
       "JLC/BiGJsEmL1l/jF6af52uEbBIPBcRaDEPKSp2SJ3SHNx5G7hYi3QXirEns9JwbE8Cui9nTRXKV\n",
       "KFnJgNq526DWI645w6D1qYS6OtrSwypTCU4MJmUxcWzD/O12m/7rL3UdsWj1FuiqpGPSk01cXtaL\n",
       "waGSf2Pb3lgkzY+/a55YXuXH5bIX1xgFfgERUWj7D2dgMAAAAABJRU5ErkJggg==\n",
       "\" style=\"display:inline;vertical-align:middle;\" /></a></span>"
      ],
      "text/plain": [
       "|- 3 in {2 .. 9}"
      ]
     },
     "metadata": {},
     "output_type": "display_data"
    }
   ],
   "source": [
    "# testing automation\n",
    "InSet(three, two_to_nine_interval).prove()"
   ]
  },
  {
   "cell_type": "code",
   "execution_count": 9,
   "metadata": {},
   "outputs": [
    {
     "data": {
      "text/html": [
       "<span style=\"font-size:20px;\"><a class=\"ProveItLink\" href=\"../__pv_it/theorems/d82a9927958f2919b6e25fa4d8e512f4047160210/expr.ipynb\"><img src=\"data:image/png;base64,iVBORw0KGgoAAAANSUhEUgAAADIAAAAQBAMAAACmdTG/AAAAMFBMVEX////MzMwyMjKqqqoiIiJm\n",
       "ZmaYmJju7u5EREQQEBC6urqIiIh2dnZUVFTc3NwAAAAqL9KcAAAAAXRSTlMAQObYZgAAAAlwSFlz\n",
       "AAAOxAAADsQBlSsOGwAAAN5JREFUGNNjYMAAzJo/NVw6EzAlGLh7BRgUmLBIMLAGMHAnHMYmw/uA\n",
       "oYK9AcWUFhcnEM3OwBDIK4AkwaVdAGMyXhAFUXx39m0A0Y/gEgwcBe0gauUDju8gWg+h3YYNpJZ9\n",
       "GgOrA4irgJCBuJn1AwPLAZDZU1xcXDwgTjE4xcBQwMDZwFC/AKQX4c4KPiD7HkP9BoZ8MN8BLnMR\n",
       "6CP2Dwz1BgyXmB8A+bvhbg5YCvSuAwPHBmZXVpAAkwHczeoMfM0NDOy3D77dCPb6jeUQmZVNMzrm\n",
       "zziAHAgnIKEDBQC4NTJlmjuxlwAAAABJRU5ErkJggg==\n",
       "\" style=\"display:inline;vertical-align:middle;\" /></a>, <a class=\"ProveItLink\" href=\"../__pv_it/demonstrations/f7f8f0c7b17df91c5737500a28a9355fd753ce490/expr.ipynb\"><img src=\"data:image/png;base64,iVBORw0KGgoAAAANSUhEUgAAADAAAAAQBAMAAACigOGCAAAAMFBMVEX///+YmJjMzMzc3NyIiIhU\n",
       "VFR2dna6urqqqqpmZmYyMjIiIiIQEBBERETu7u4AAAD7tRWPAAAAAXRSTlMAQObYZgAAAAlwSFlz\n",
       "AAAOxAAADsQBlSsOGwAAAOpJREFUGNNjYEAHHGv+rN19R4CB784GVAmWqwoMC7iADK4JqBKcExhY\n",
       "BDKADP4GVAlWA4a3fBeAjPoHUCNu794FovkYGCaxKgAZ2RBx9iUPYHqYAjRB1FKXCBBlBRdn4H1w\n",
       "D6Tz14P3BkB6McKWNkYHkLP/MfCA6AUICbBjGTgXMPAnAM09vXv37r0QVzSkMzA8YOBOYKgHOhjs\n",
       "QAh4ywxkB4O8MR9kL8L/QUCf8H1g4FfgOwjiusAdO6ES6MsNDKwCvOAw4WqAO3YdA/ONCwx8YRPB\n",
       "fL7YOohEza2zd8+fTUA4kj0XEiRQAABokT0f5e0fIgAAAABJRU5ErkJggg==\n",
       "\" style=\"display:inline;vertical-align:middle;\" /></a>, <a class=\"ProveItLink\" href=\"../__pv_it/theorems/9dfd51fc82a5dda1e85f06fc33528e3db8c0b6dc0/expr.ipynb\"><img src=\"data:image/png;base64,iVBORw0KGgoAAAANSUhEUgAAADMAAAAQBAMAAABJt1qBAAAAMFBMVEX///9ERES6uroQEBAyMjLc\n",
       "3NyYmJgiIiJmZmaqqqp2dnbMzMxUVFSIiIju7u4AAAAd7oVFAAAAAXRSTlMAQObYZgAAAAlwSFlz\n",
       "AAAOxAAADsQBlSsOGwAAAN1JREFUGNNjYMAEU+xNxAvNGLCBi6cZWBgcsEp1MDBc45qAVeooA5/A\n",
       "Q1QhXvHyEhD9gIFjw2kUGSbfBzDmHu4GEPX2zutVYIND4DIMcoxgdgPvWY4CEMMVLsO5IBdEsQWw\n",
       "/eNJALEQzoU6nZuBAyLGbV5eXl4IZt7kUmDgAzGYL4D5fAIwTXwCgQwMPAFAln4AH9jSApgUz4aj\n",
       "DAzvGRgeKhxm4AKL3IVJ7WACOv04A8P8fc0MmhDLYWEjx/KAIXAiA8OLu5xtEDG+g3oQrxs6Cwp/\n",
       "lkINjoWQgIICAM0UMqoFj6RNAAAAAElFTkSuQmCC\n",
       "\" style=\"display:inline;vertical-align:middle;\" /></a>, <a class=\"ProveItLink\" href=\"../__pv_it/demonstrations/f7396de6ee1a14dba2d99627cef7ba3b084f16750/expr.ipynb\"><img src=\"data:image/png;base64,iVBORw0KGgoAAAANSUhEUgAAAFcAAAARBAMAAABa5y0uAAAAMFBMVEX////MzMwyMjKqqqoiIiJm\n",
       "ZmaYmJju7u5EREQQEBC6urqIiIh2dnZUVFTc3NwAAAAqL9KcAAAAAXRSTlMAQObYZgAAAAlwSFlz\n",
       "AAAOxAAADsQBlSsOGwAAARdJREFUKM9jYCAOsHc6YIgx62GqM3oAIpkC0MXZXAsw1KaEgyl+AzRx\n",
       "bh9MtVuOQ+j1aFI13phOPbIByjoCJvnu7IMIlLrBley+LnMYzAhJgInp7r4MJFc+4PgO4tUqw81j\n",
       "Zdi7IQSk9hLcoeyfCuofMLBPY2AFhwovQnEeQ37BNRADoZj5OwPnBgbWDwwsB8D8p3BnCDAEQRh8\n",
       "cGewKjDwH2DgbGCoX4DhwdnoHgQauN6AoX4DQz5G0HH9YyhHDTpgMMcXMNQbMFxifoASKexdvBMY\n",
       "DqBGCr8A0HMMHBuYXVkR0a0IIj6WTuBCRJiRAMj7CRzA+Ga/ffDtRrSYiN5gmoweO3fCGOgCSlxA\n",
       "wBHFbrCQiwCMDwCKsUeAqrqCLwAAAABJRU5ErkJggg==\n",
       "\" style=\"display:inline;vertical-align:middle;\" /></a> <a class=\"ProveItLink\" href=\"../__pv_it/demonstrations/9d77b15733ba2e498894f8bc964501c3c56224f80/proof.ipynb\" style=\"text-decoration: none\">&nbsp;&#x22A2;&nbsp;&nbsp;</a><a class=\"ProveItLink\" href=\"../__pv_it/demonstrations/29c6c2fe2b7d2efdcbad59a387752e9d9e70de3b0/expr.ipynb\"><img src=\"data:image/png;base64,iVBORw0KGgoAAAANSUhEUgAAAGwAAAAVBAMAAABRZRb3AAAAMFBMVEX///9ERES6uroQEBAyMjLc\n",
       "3NyYmJgiIiJmZmaqqqp2dnbMzMxUVFSIiIju7u4AAAAd7oVFAAAAAXRSTlMAQObYZgAAAAlwSFlz\n",
       "AAAOxAAADsQBlSsOGwAAAWNJREFUOMtjYMAG+JQYcIPIAFwyV/TwaOM++AC7BOc/HDr4hAuAJOMB\n",
       "7LJcBbhsYmnAI41bG/8ETOmL5eUOBLTpP8CQVrlH2LblcOm3d16vAlnN6ofqyJi1sZjafO6ehEo3\n",
       "8J7lANEsiOjgALqVyZRBHiOg+b48eB/AwGvAwMAWwPaPJwGkDSEbDOQ/TmBoxxYzzBcYWH8CIw9s\n",
       "NhBsLgcCARArxglI9DMwVGFoAyrlX8DA8MYTyAbqB4GHiGTQCHSdIQPfJwxt7AsY9IHhsEQBFKgB\n",
       "fCBPsCNkgcmA7y8D2wds0db/AJyIHiocZuACCfFeQA5Jvp8MPA5TMbRt4DMDSgODZP6+ZgZNsJgn\n",
       "SgTIMkxvAKUkhvcOoBCESPAkMDZApF/c5WybABZ7I/QASdubW1vPbgD7B6S5AhoBp9owU4OWOMHE\n",
       "hVeaTG2gZIAHQCMaA4CSAR7wOAGHRMRJPLqigJIADqZdG0XjnuMAAAAASUVORK5CYII=\n",
       "\" style=\"display:inline;vertical-align:middle;\" /></a></span>"
      ],
      "text/plain": [
       "{a in Integer, b in Integer, x in Integer, a <= x <= b} |- x in {a .. b}"
      ]
     },
     "metadata": {},
     "output_type": "display_data"
    }
   ],
   "source": [
    "x_in_a_b_interval.prove(\n",
    "    assumptions=[InSet(a, Integer), InSet(b, Integer), InSet(x, Integer),\n",
    "                 number_ordering(LessEq(a, x), LessEq(x, b))])"
   ]
  },
  {
   "cell_type": "markdown",
   "metadata": {},
   "source": [
    "Define an Inset() expression involving an Interval class, then test some automation related to deductions about the element:"
   ]
  },
  {
   "cell_type": "code",
   "execution_count": 10,
   "metadata": {},
   "outputs": [
    {
     "data": {
      "text/html": [
       "<strong id=\"x_in_c_d_interval\">x_in_c_d_interval:</strong> <a class=\"ProveItLink\" href=\"../__pv_it/demonstrations/576f33253b8bac062b1752e47c2d4747a39338f50/expr.ipynb\"><img src=\"data:image/png;base64,iVBORw0KGgoAAAANSUhEUgAAAG0AAAAVBAMAAAC+p33JAAAAMFBMVEX///9ERES6uroQEBAyMjLc\n",
       "3NyYmJgiIiJmZmaqqqp2dnbMzMxUVFSIiIju7u4AAAAd7oVFAAAAAXRSTlMAQObYZgAAAAlwSFlz\n",
       "AAAOxAAADsQBlSsOGwAAAWVJREFUOMtjYMAG+JQYcAPWqTilrujh0cewRw6HBOc/3Jq2WDAwyOCQ\n",
       "4yrAY9tPBoblZOhj+oeh72J5uQNBfSA5VH0q94ixj6UBqu/tnderJoCC1w/VnVx3szF1xazdPwGq\n",
       "r4H3LAdIHUsAXJYD6FzWSoZGTM+ZMsg/YGC4DGSyBbD940kA6UNIBwP57AsYbDH0PU5gaAFS8UA7\n",
       "ucGmA8HmciAQADvGCUj0P8DiuX4GhipQcjoC8hjzBbDYQ7gsdyNQjyG2QDFk4PsE8jrIYAb9AD6Q\n",
       "2ewIacYDDHx/sSXbvwxsH4D0fKD6hwqHGbhAgrwXUMLzGzAUMPT9ZOBxAKbqxSC9+5oZNMGinij6\n",
       "gIG5GsR+D/Q93xeohCzD9AZo/L24y9k2ASz4RugBkj6uZblgLjtQHUMFVOLNra1nN2CkMy1xItIZ\n",
       "CJCTrvHp4zXAr68FV0nwE682PjNcMhEn8ZUva4DhCACzCVplcFqVGQAAAABJRU5ErkJggg==\n",
       "\" style=\"display:inline;vertical-align:middle;\" /></a><br>"
      ],
      "text/plain": [
       "<IPython.core.display.HTML object>"
      ]
     },
     "metadata": {},
     "output_type": "display_data"
    }
   ],
   "source": [
    "x_in_c_d_interval = InSet(x, c_d_interval)"
   ]
  },
  {
   "cell_type": "markdown",
   "metadata": {},
   "source": [
    "Check that an IntervalMembership assumption is making its way into the IntervalMembership.side_effects() method and sub-methods:"
   ]
  },
  {
   "cell_type": "code",
   "execution_count": 11,
   "metadata": {},
   "outputs": [
    {
     "data": {
      "text/html": [
       "<span style=\"font-size:20px;\"><a class=\"ProveItLink\" href=\"../__pv_it/demonstrations/576f33253b8bac062b1752e47c2d4747a39338f50/expr.ipynb\"><img src=\"data:image/png;base64,iVBORw0KGgoAAAANSUhEUgAAAG0AAAAVBAMAAAC+p33JAAAAMFBMVEX///9ERES6uroQEBAyMjLc\n",
       "3NyYmJgiIiJmZmaqqqp2dnbMzMxUVFSIiIju7u4AAAAd7oVFAAAAAXRSTlMAQObYZgAAAAlwSFlz\n",
       "AAAOxAAADsQBlSsOGwAAAWVJREFUOMtjYMAG+JQYcAPWqTilrujh0cewRw6HBOc/3Jq2WDAwyOCQ\n",
       "4yrAY9tPBoblZOhj+oeh72J5uQNBfSA5VH0q94ixj6UBqu/tnderJoCC1w/VnVx3szF1xazdPwGq\n",
       "r4H3LAdIHUsAXJYD6FzWSoZGTM+ZMsg/YGC4DGSyBbD940kA6UNIBwP57AsYbDH0PU5gaAFS8UA7\n",
       "ucGmA8HmciAQADvGCUj0P8DiuX4GhipQcjoC8hjzBbDYQ7gsdyNQjyG2QDFk4PsE8jrIYAb9AD6Q\n",
       "2ewIacYDDHx/sSXbvwxsH4D0fKD6hwqHGbhAgrwXUMLzGzAUMPT9ZOBxAKbqxSC9+5oZNMGinij6\n",
       "gIG5GsR+D/Q93xeohCzD9AZo/L24y9k2ASz4RugBkj6uZblgLjtQHUMFVOLNra1nN2CkMy1xItIZ\n",
       "CJCTrvHp4zXAr68FV0nwE682PjNcMhEn8ZUva4DhCACzCVplcFqVGQAAAABJRU5ErkJggg==\n",
       "\" style=\"display:inline;vertical-align:middle;\" /></a> <a class=\"ProveItLink\" href=\"../__pv_it/demonstrations/70cc1ba25bd2cbd2c88f5acb1c5974a21d53607d0/proof.ipynb\" style=\"text-decoration: none\">&nbsp;&#x22A2;&nbsp;&nbsp;</a><a class=\"ProveItLink\" href=\"../__pv_it/demonstrations/576f33253b8bac062b1752e47c2d4747a39338f50/expr.ipynb\"><img src=\"data:image/png;base64,iVBORw0KGgoAAAANSUhEUgAAAG0AAAAVBAMAAAC+p33JAAAAMFBMVEX///9ERES6uroQEBAyMjLc\n",
       "3NyYmJgiIiJmZmaqqqp2dnbMzMxUVFSIiIju7u4AAAAd7oVFAAAAAXRSTlMAQObYZgAAAAlwSFlz\n",
       "AAAOxAAADsQBlSsOGwAAAWVJREFUOMtjYMAG+JQYcAPWqTilrujh0cewRw6HBOc/3Jq2WDAwyOCQ\n",
       "4yrAY9tPBoblZOhj+oeh72J5uQNBfSA5VH0q94ixj6UBqu/tnderJoCC1w/VnVx3szF1xazdPwGq\n",
       "r4H3LAdIHUsAXJYD6FzWSoZGTM+ZMsg/YGC4DGSyBbD940kA6UNIBwP57AsYbDH0PU5gaAFS8UA7\n",
       "ucGmA8HmciAQADvGCUj0P8DiuX4GhipQcjoC8hjzBbDYQ7gsdyNQjyG2QDFk4PsE8jrIYAb9AD6Q\n",
       "2ewIacYDDHx/sSXbvwxsH4D0fKD6hwqHGbhAgrwXUMLzGzAUMPT9ZOBxAKbqxSC9+5oZNMGinij6\n",
       "gIG5GsR+D/Q93xeohCzD9AZo/L24y9k2ASz4RugBkj6uZblgLjtQHUMFVOLNra1nN2CkMy1xItIZ\n",
       "CJCTrvHp4zXAr68FV0nwE682PjNcMhEn8ZUva4DhCACzCVplcFqVGQAAAABJRU5ErkJggg==\n",
       "\" style=\"display:inline;vertical-align:middle;\" /></a></span>"
      ],
      "text/plain": [
       "{x in {c .. d}} |- x in {c .. d}"
      ]
     },
     "metadata": {},
     "output_type": "display_data"
    }
   ],
   "source": [
    "# checking to see if the IntervalMembership assumption is making its way\n",
    "# into the side_effects() method\n",
    "x_in_c_d_interval.prove(assumptions = [x_in_c_d_interval, InSet(c, Integer), InSet(d, Integer)])"
   ]
  },
  {
   "cell_type": "markdown",
   "metadata": {},
   "source": [
    "Check that an IntervalMembership assumption is producing the correct conclusions about Integer set membership and lower/upper bounds for the element:"
   ]
  },
  {
   "cell_type": "code",
   "execution_count": 12,
   "metadata": {},
   "outputs": [
    {
     "data": {
      "text/html": [
       "<span style=\"font-size:20px;\"><a class=\"ProveItLink\" href=\"../__pv_it/demonstrations/a2bc599bf0f0f65acede773ef671aee29194b8f50/expr.ipynb\"><img src=\"data:image/png;base64,iVBORw0KGgoAAAANSUhEUgAAADAAAAAQBAMAAACigOGCAAAAMFBMVEX///9UVFQyMjK6urru7u4Q\n",
       "EBBERERmZmaqqqoiIiLc3NzMzMyYmJiIiIh2dnYAAABC1PP/AAAAAXRSTlMAQObYZgAAAAlwSFlz\n",
       "AAAOxAAADsQBlSsOGwAAAMxJREFUGNNjYEAHHKpf1WamHsAQZ+BN3MCgwIQpzsBewMB74AUWCcYF\n",
       "DG4sCchGZM6cBKJZGBiqGTcgxJl1HWBMboHtYPrtHZD8Irg4A5tDCoha2cAOMlELobmP5wKImsfA\n",
       "CqIVEBIQx7J/gZgbOXPmzGkQVzQ8ZmBwYGCFuAzJgW5cQLYUg/8FCHcCXEIa6BOWDwz8wFAxAHLv\n",
       "wh1bYA705QQGoJP4QM5laoA7VoWBKwNo2rszV8CWiJlAJEyTwtLiwx4gef0ZJEigAAAe6izrPPGo\n",
       "iAAAAABJRU5ErkJggg==\n",
       "\" style=\"display:inline;vertical-align:middle;\" /></a>, <a class=\"ProveItLink\" href=\"../__pv_it/demonstrations/ce2036f1d2e534f263518445e270cc2a8e5c787c0/expr.ipynb\"><img src=\"data:image/png;base64,iVBORw0KGgoAAAANSUhEUgAAADIAAAAQBAMAAACmdTG/AAAAMFBMVEX///+YmJhERESIiIhUVFTc\n",
       "3NwiIiJ2dnbu7u66urqqqqpmZmYQEBAyMjLMzMwAAAA7oY0NAAAAAXRSTlMAQObYZgAAAAlwSFlz\n",
       "AAAOxAAADsQBlSsOGwAAAO5JREFUGNNjYMAAXHf+XErTEQAx+e5sQJZhVnnAcIEXwuZfgCzDvYGB\n",
       "WaAKwp7fgCzDEsDQxKEAYZdBTFFLywXRHAwM+1geQGRugwjOy3CdfA6vQRSru90vEB2LMJKpQQNE\n",
       "zQlg+gGiryJsWs5oADL1IAP3BRD3AkIG4mbuDwxsBSCzj6WlpSVBnLKgkoGhgYFHgaF/AkivAlxL\n",
       "EyuQ7crQb8AgD+YnwGX8gD7i+MDQv4DBlysAyDeGu3nDbKB3ExiYDLiyuUECvAvgbr7BwKqlwMDh\n",
       "XBdiB/a60wyIzBzdQ0rnDxUghRdnESR0oAAAxkg0FzvmB/wAAAAASUVORK5CYII=\n",
       "\" style=\"display:inline;vertical-align:middle;\" /></a>, <a class=\"ProveItLink\" href=\"../__pv_it/demonstrations/576f33253b8bac062b1752e47c2d4747a39338f50/expr.ipynb\"><img src=\"data:image/png;base64,iVBORw0KGgoAAAANSUhEUgAAAG0AAAAVBAMAAAC+p33JAAAAMFBMVEX///9ERES6uroQEBAyMjLc\n",
       "3NyYmJgiIiJmZmaqqqp2dnbMzMxUVFSIiIju7u4AAAAd7oVFAAAAAXRSTlMAQObYZgAAAAlwSFlz\n",
       "AAAOxAAADsQBlSsOGwAAAWVJREFUOMtjYMAG+JQYcAPWqTilrujh0cewRw6HBOc/3Jq2WDAwyOCQ\n",
       "4yrAY9tPBoblZOhj+oeh72J5uQNBfSA5VH0q94ixj6UBqu/tnderJoCC1w/VnVx3szF1xazdPwGq\n",
       "r4H3LAdIHUsAXJYD6FzWSoZGTM+ZMsg/YGC4DGSyBbD940kA6UNIBwP57AsYbDH0PU5gaAFS8UA7\n",
       "ucGmA8HmciAQADvGCUj0P8DiuX4GhipQcjoC8hjzBbDYQ7gsdyNQjyG2QDFk4PsE8jrIYAb9AD6Q\n",
       "2ewIacYDDHx/sSXbvwxsH4D0fKD6hwqHGbhAgrwXUMLzGzAUMPT9ZOBxAKbqxSC9+5oZNMGinij6\n",
       "gIG5GsR+D/Q93xeohCzD9AZo/L24y9k2ASz4RugBkj6uZblgLjtQHUMFVOLNra1nN2CkMy1xItIZ\n",
       "CJCTrvHp4zXAr68FV0nwE682PjNcMhEn8ZUva4DhCACzCVplcFqVGQAAAABJRU5ErkJggg==\n",
       "\" style=\"display:inline;vertical-align:middle;\" /></a> <a class=\"ProveItLink\" href=\"../__pv_it/demonstrations/0282e225e31c9e6e41543000b069eb94fe112d240/proof.ipynb\" style=\"text-decoration: none\">&nbsp;&#x22A2;&nbsp;&nbsp;</a><a class=\"ProveItLink\" href=\"../__pv_it/theorems/9dfd51fc82a5dda1e85f06fc33528e3db8c0b6dc0/expr.ipynb\"><img src=\"data:image/png;base64,iVBORw0KGgoAAAANSUhEUgAAADMAAAAQBAMAAABJt1qBAAAAMFBMVEX///9ERES6uroQEBAyMjLc\n",
       "3NyYmJgiIiJmZmaqqqp2dnbMzMxUVFSIiIju7u4AAAAd7oVFAAAAAXRSTlMAQObYZgAAAAlwSFlz\n",
       "AAAOxAAADsQBlSsOGwAAAN1JREFUGNNjYMAEU+xNxAvNGLCBi6cZWBgcsEp1MDBc45qAVeooA5/A\n",
       "Q1QhXvHyEhD9gIFjw2kUGSbfBzDmHu4GEPX2zutVYIND4DIMcoxgdgPvWY4CEMMVLsO5IBdEsQWw\n",
       "/eNJALEQzoU6nZuBAyLGbV5eXl4IZt7kUmDgAzGYL4D5fAIwTXwCgQwMPAFAln4AH9jSApgUz4aj\n",
       "DAzvGRgeKhxm4AKL3IVJ7WACOv04A8P8fc0MmhDLYWEjx/KAIXAiA8OLu5xtEDG+g3oQrxs6Cwp/\n",
       "lkINjoWQgIICAM0UMqoFj6RNAAAAAElFTkSuQmCC\n",
       "\" style=\"display:inline;vertical-align:middle;\" /></a></span>"
      ],
      "text/plain": [
       "{c in Integer, d in Integer, x in {c .. d}} |- x in Integer"
      ]
     },
     "metadata": {},
     "output_type": "display_data"
    }
   ],
   "source": [
    "# element should be an integer if Interval is properly defined:\n",
    "InSet(x, Integer).prove(\n",
    "    assumptions = [x_in_c_d_interval, InSet(c, Integer), InSet(d, Integer), LessEq(c, d)])"
   ]
  },
  {
   "cell_type": "code",
   "execution_count": 13,
   "metadata": {},
   "outputs": [
    {
     "data": {
      "text/html": [
       "<span style=\"font-size:20px;\"><a class=\"ProveItLink\" href=\"../__pv_it/demonstrations/a2bc599bf0f0f65acede773ef671aee29194b8f50/expr.ipynb\"><img src=\"data:image/png;base64,iVBORw0KGgoAAAANSUhEUgAAADAAAAAQBAMAAACigOGCAAAAMFBMVEX///9UVFQyMjK6urru7u4Q\n",
       "EBBERERmZmaqqqoiIiLc3NzMzMyYmJiIiIh2dnYAAABC1PP/AAAAAXRSTlMAQObYZgAAAAlwSFlz\n",
       "AAAOxAAADsQBlSsOGwAAAMxJREFUGNNjYEAHHKpf1WamHsAQZ+BN3MCgwIQpzsBewMB74AUWCcYF\n",
       "DG4sCchGZM6cBKJZGBiqGTcgxJl1HWBMboHtYPrtHZD8Irg4A5tDCoha2cAOMlELobmP5wKImsfA\n",
       "CqIVEBIQx7J/gZgbOXPmzGkQVzQ8ZmBwYGCFuAzJgW5cQLYUg/8FCHcCXEIa6BOWDwz8wFAxAHLv\n",
       "wh1bYA705QQGoJP4QM5laoA7VoWBKwNo2rszV8CWiJlAJEyTwtLiwx4gef0ZJEigAAAe6izrPPGo\n",
       "iAAAAABJRU5ErkJggg==\n",
       "\" style=\"display:inline;vertical-align:middle;\" /></a>, <a class=\"ProveItLink\" href=\"../__pv_it/demonstrations/ce2036f1d2e534f263518445e270cc2a8e5c787c0/expr.ipynb\"><img src=\"data:image/png;base64,iVBORw0KGgoAAAANSUhEUgAAADIAAAAQBAMAAACmdTG/AAAAMFBMVEX///+YmJhERESIiIhUVFTc\n",
       "3NwiIiJ2dnbu7u66urqqqqpmZmYQEBAyMjLMzMwAAAA7oY0NAAAAAXRSTlMAQObYZgAAAAlwSFlz\n",
       "AAAOxAAADsQBlSsOGwAAAO5JREFUGNNjYMAAXHf+XErTEQAx+e5sQJZhVnnAcIEXwuZfgCzDvYGB\n",
       "WaAKwp7fgCzDEsDQxKEAYZdBTFFLywXRHAwM+1geQGRugwjOy3CdfA6vQRSru90vEB2LMJKpQQNE\n",
       "zQlg+gGiryJsWs5oADL1IAP3BRD3AkIG4mbuDwxsBSCzj6WlpSVBnLKgkoGhgYFHgaF/AkivAlxL\n",
       "EyuQ7crQb8AgD+YnwGX8gD7i+MDQv4DBlysAyDeGu3nDbKB3ExiYDLiyuUECvAvgbr7BwKqlwMDh\n",
       "XBdiB/a60wyIzBzdQ0rnDxUghRdnESR0oAAAxkg0FzvmB/wAAAAASUVORK5CYII=\n",
       "\" style=\"display:inline;vertical-align:middle;\" /></a>, <a class=\"ProveItLink\" href=\"../__pv_it/demonstrations/576f33253b8bac062b1752e47c2d4747a39338f50/expr.ipynb\"><img src=\"data:image/png;base64,iVBORw0KGgoAAAANSUhEUgAAAG0AAAAVBAMAAAC+p33JAAAAMFBMVEX///9ERES6uroQEBAyMjLc\n",
       "3NyYmJgiIiJmZmaqqqp2dnbMzMxUVFSIiIju7u4AAAAd7oVFAAAAAXRSTlMAQObYZgAAAAlwSFlz\n",
       "AAAOxAAADsQBlSsOGwAAAWVJREFUOMtjYMAG+JQYcAPWqTilrujh0cewRw6HBOc/3Jq2WDAwyOCQ\n",
       "4yrAY9tPBoblZOhj+oeh72J5uQNBfSA5VH0q94ixj6UBqu/tnderJoCC1w/VnVx3szF1xazdPwGq\n",
       "r4H3LAdIHUsAXJYD6FzWSoZGTM+ZMsg/YGC4DGSyBbD940kA6UNIBwP57AsYbDH0PU5gaAFS8UA7\n",
       "ucGmA8HmciAQADvGCUj0P8DiuX4GhipQcjoC8hjzBbDYQ7gsdyNQjyG2QDFk4PsE8jrIYAb9AD6Q\n",
       "2ewIacYDDHx/sSXbvwxsH4D0fKD6hwqHGbhAgrwXUMLzGzAUMPT9ZOBxAKbqxSC9+5oZNMGinij6\n",
       "gIG5GsR+D/Q93xeohCzD9AZo/L24y9k2ASz4RugBkj6uZblgLjtQHUMFVOLNra1nN2CkMy1xItIZ\n",
       "CJCTrvHp4zXAr68FV0nwE682PjNcMhEn8ZUva4DhCACzCVplcFqVGQAAAABJRU5ErkJggg==\n",
       "\" style=\"display:inline;vertical-align:middle;\" /></a> <a class=\"ProveItLink\" href=\"../__pv_it/demonstrations/ac9edca44dcfc290eadf1c67fd627f29147093070/proof.ipynb\" style=\"text-decoration: none\">&nbsp;&#x22A2;&nbsp;&nbsp;</a><a class=\"ProveItLink\" href=\"../__pv_it/demonstrations/09dadfcac8b437bc05c43f89409273dbdee1b7470/expr.ipynb\"><img src=\"data:image/png;base64,iVBORw0KGgoAAAANSUhEUgAAADIAAAARBAMAAABtKeIaAAAAMFBMVEX///9ERES6uroQEBAyMjLc\n",
       "3NyYmJgiIiJmZmaqqqp2dnbMzMxUVFSIiIju7u4AAAAd7oVFAAAAAXRSTlMAQObYZgAAAAlwSFlz\n",
       "AAAOxAAADsQBlSsOGwAAAL5JREFUGNNjYMAOtligCXC6wlg/USXYKh5AWUz/UCR4q2ASDFwFyBKv\n",
       "ahFslgYGhrd3Xq+aAOK8KIOLx6zdDxRq4D3LAdL6xhMuwWTKIP+AgS2A7R9PApDLg5B5nMDQwsDA\n",
       "zcDhAOFHwE3rZ2CoAtHMF9BdYMjA9wlE6wfwPUBxNd9fBrYPDAwPFQ4zcKH6lO8nA4/DVIb5+5oZ\n",
       "NBGh4w0iZRmmNzQwvLjL2TYBLfTe3Np6dgMDReB5OQhUw/kAA+42QTXyzB0AAAAASUVORK5CYII=\n",
       "\" style=\"display:inline;vertical-align:middle;\" /></a></span>"
      ],
      "text/plain": [
       "{c in Integer, d in Integer, x in {c .. d}} |- x <= d"
      ]
     },
     "metadata": {},
     "output_type": "display_data"
    }
   ],
   "source": [
    "# element should be ≤ upper_bound of Interval\n",
    "LessEq(x, d).prove(\n",
    "    assumptions = [x_in_c_d_interval, InSet(c, Integer), InSet(d, Integer), LessEq(c, d)])"
   ]
  },
  {
   "cell_type": "code",
   "execution_count": 14,
   "metadata": {},
   "outputs": [
    {
     "data": {
      "text/html": [
       "<span style=\"font-size:20px;\"><a class=\"ProveItLink\" href=\"../__pv_it/demonstrations/a2bc599bf0f0f65acede773ef671aee29194b8f50/expr.ipynb\"><img src=\"data:image/png;base64,iVBORw0KGgoAAAANSUhEUgAAADAAAAAQBAMAAACigOGCAAAAMFBMVEX///9UVFQyMjK6urru7u4Q\n",
       "EBBERERmZmaqqqoiIiLc3NzMzMyYmJiIiIh2dnYAAABC1PP/AAAAAXRSTlMAQObYZgAAAAlwSFlz\n",
       "AAAOxAAADsQBlSsOGwAAAMxJREFUGNNjYEAHHKpf1WamHsAQZ+BN3MCgwIQpzsBewMB74AUWCcYF\n",
       "DG4sCchGZM6cBKJZGBiqGTcgxJl1HWBMboHtYPrtHZD8Irg4A5tDCoha2cAOMlELobmP5wKImsfA\n",
       "CqIVEBIQx7J/gZgbOXPmzGkQVzQ8ZmBwYGCFuAzJgW5cQLYUg/8FCHcCXEIa6BOWDwz8wFAxAHLv\n",
       "wh1bYA705QQGoJP4QM5laoA7VoWBKwNo2rszV8CWiJlAJEyTwtLiwx4gef0ZJEigAAAe6izrPPGo\n",
       "iAAAAABJRU5ErkJggg==\n",
       "\" style=\"display:inline;vertical-align:middle;\" /></a>, <a class=\"ProveItLink\" href=\"../__pv_it/demonstrations/ce2036f1d2e534f263518445e270cc2a8e5c787c0/expr.ipynb\"><img src=\"data:image/png;base64,iVBORw0KGgoAAAANSUhEUgAAADIAAAAQBAMAAACmdTG/AAAAMFBMVEX///+YmJhERESIiIhUVFTc\n",
       "3NwiIiJ2dnbu7u66urqqqqpmZmYQEBAyMjLMzMwAAAA7oY0NAAAAAXRSTlMAQObYZgAAAAlwSFlz\n",
       "AAAOxAAADsQBlSsOGwAAAO5JREFUGNNjYMAAXHf+XErTEQAx+e5sQJZhVnnAcIEXwuZfgCzDvYGB\n",
       "WaAKwp7fgCzDEsDQxKEAYZdBTFFLywXRHAwM+1geQGRugwjOy3CdfA6vQRSru90vEB2LMJKpQQNE\n",
       "zQlg+gGiryJsWs5oADL1IAP3BRD3AkIG4mbuDwxsBSCzj6WlpSVBnLKgkoGhgYFHgaF/AkivAlxL\n",
       "EyuQ7crQb8AgD+YnwGX8gD7i+MDQv4DBlysAyDeGu3nDbKB3ExiYDLiyuUECvAvgbr7BwKqlwMDh\n",
       "XBdiB/a60wyIzBzdQ0rnDxUghRdnESR0oAAAxkg0FzvmB/wAAAAASUVORK5CYII=\n",
       "\" style=\"display:inline;vertical-align:middle;\" /></a>, <a class=\"ProveItLink\" href=\"../__pv_it/demonstrations/576f33253b8bac062b1752e47c2d4747a39338f50/expr.ipynb\"><img src=\"data:image/png;base64,iVBORw0KGgoAAAANSUhEUgAAAG0AAAAVBAMAAAC+p33JAAAAMFBMVEX///9ERES6uroQEBAyMjLc\n",
       "3NyYmJgiIiJmZmaqqqp2dnbMzMxUVFSIiIju7u4AAAAd7oVFAAAAAXRSTlMAQObYZgAAAAlwSFlz\n",
       "AAAOxAAADsQBlSsOGwAAAWVJREFUOMtjYMAG+JQYcAPWqTilrujh0cewRw6HBOc/3Jq2WDAwyOCQ\n",
       "4yrAY9tPBoblZOhj+oeh72J5uQNBfSA5VH0q94ixj6UBqu/tnderJoCC1w/VnVx3szF1xazdPwGq\n",
       "r4H3LAdIHUsAXJYD6FzWSoZGTM+ZMsg/YGC4DGSyBbD940kA6UNIBwP57AsYbDH0PU5gaAFS8UA7\n",
       "ucGmA8HmciAQADvGCUj0P8DiuX4GhipQcjoC8hjzBbDYQ7gsdyNQjyG2QDFk4PsE8jrIYAb9AD6Q\n",
       "2ewIacYDDHx/sSXbvwxsH4D0fKD6hwqHGbhAgrwXUMLzGzAUMPT9ZOBxAKbqxSC9+5oZNMGinij6\n",
       "gIG5GsR+D/Q93xeohCzD9AZo/L24y9k2ASz4RugBkj6uZblgLjtQHUMFVOLNra1nN2CkMy1xItIZ\n",
       "CJCTrvHp4zXAr68FV0nwE682PjNcMhEn8ZUva4DhCACzCVplcFqVGQAAAABJRU5ErkJggg==\n",
       "\" style=\"display:inline;vertical-align:middle;\" /></a> <a class=\"ProveItLink\" href=\"../__pv_it/demonstrations/e89d350cf76a96fa227a8e6409c1bfd99475fd870/proof.ipynb\" style=\"text-decoration: none\">&nbsp;&#x22A2;&nbsp;&nbsp;</a><a class=\"ProveItLink\" href=\"../__pv_it/demonstrations/821638f1804fcdfc280ea0437fc314fbb9ad09020/expr.ipynb\"><img src=\"data:image/png;base64,iVBORw0KGgoAAAANSUhEUgAAADAAAAAQBAMAAACigOGCAAAAMFBMVEX///9UVFQyMjK6urru7u4Q\n",
       "EBBERERmZmaqqqoiIiLc3NzMzMyYmJiIiIh2dnYAAABC1PP/AAAAAXRSTlMAQObYZgAAAAlwSFlz\n",
       "AAAOxAAADsQBlSsOGwAAAJ5JREFUGNNjYEAGHFoMWAHPdAes4rzzsIv7zUUTeHtnA4hynwMTYLkr\n",
       "su8FA8PKBvYEIM9RA66SneHihUoGhnkMrBeAPEaExCmG8w4yDOxfoNzlcKM2MBQBSdYELJbHArH/\n",
       "BUznMv9icGHgP8DAYIDiQZZkxgCGBwxAJ/FtgAeJNoj47R7A3MDA8O7MFVR/sdReaD/BQAHwnAkC\n",
       "s+F8AHeEKOT8DuI5AAAAAElFTkSuQmCC\n",
       "\" style=\"display:inline;vertical-align:middle;\" /></a></span>"
      ],
      "text/plain": [
       "{c in Integer, d in Integer, x in {c .. d}} |- c <= x"
      ]
     },
     "metadata": {},
     "output_type": "display_data"
    }
   ],
   "source": [
    "# element should be ≥ lower_bound of Interval\n",
    "LessEq(c, x).prove(\n",
    "    assumptions = [x_in_c_d_interval, InSet(c, Integer), InSet(d, Integer), LessEq(c, d)])"
   ]
  },
  {
   "cell_type": "code",
   "execution_count": 15,
   "metadata": {},
   "outputs": [
    {
     "data": {
      "text/html": [
       "<span style=\"font-size:20px;\"><a class=\"ProveItLink\" href=\"../__pv_it/demonstrations/a2bc599bf0f0f65acede773ef671aee29194b8f50/expr.ipynb\"><img src=\"data:image/png;base64,iVBORw0KGgoAAAANSUhEUgAAADAAAAAQBAMAAACigOGCAAAAMFBMVEX///9UVFQyMjK6urru7u4Q\n",
       "EBBERERmZmaqqqoiIiLc3NzMzMyYmJiIiIh2dnYAAABC1PP/AAAAAXRSTlMAQObYZgAAAAlwSFlz\n",
       "AAAOxAAADsQBlSsOGwAAAMxJREFUGNNjYEAHHKpf1WamHsAQZ+BN3MCgwIQpzsBewMB74AUWCcYF\n",
       "DG4sCchGZM6cBKJZGBiqGTcgxJl1HWBMboHtYPrtHZD8Irg4A5tDCoha2cAOMlELobmP5wKImsfA\n",
       "CqIVEBIQx7J/gZgbOXPmzGkQVzQ8ZmBwYGCFuAzJgW5cQLYUg/8FCHcCXEIa6BOWDwz8wFAxAHLv\n",
       "wh1bYA705QQGoJP4QM5laoA7VoWBKwNo2rszV8CWiJlAJEyTwtLiwx4gef0ZJEigAAAe6izrPPGo\n",
       "iAAAAABJRU5ErkJggg==\n",
       "\" style=\"display:inline;vertical-align:middle;\" /></a>, <a class=\"ProveItLink\" href=\"../__pv_it/demonstrations/ce2036f1d2e534f263518445e270cc2a8e5c787c0/expr.ipynb\"><img src=\"data:image/png;base64,iVBORw0KGgoAAAANSUhEUgAAADIAAAAQBAMAAACmdTG/AAAAMFBMVEX///+YmJhERESIiIhUVFTc\n",
       "3NwiIiJ2dnbu7u66urqqqqpmZmYQEBAyMjLMzMwAAAA7oY0NAAAAAXRSTlMAQObYZgAAAAlwSFlz\n",
       "AAAOxAAADsQBlSsOGwAAAO5JREFUGNNjYMAAXHf+XErTEQAx+e5sQJZhVnnAcIEXwuZfgCzDvYGB\n",
       "WaAKwp7fgCzDEsDQxKEAYZdBTFFLywXRHAwM+1geQGRugwjOy3CdfA6vQRSru90vEB2LMJKpQQNE\n",
       "zQlg+gGiryJsWs5oADL1IAP3BRD3AkIG4mbuDwxsBSCzj6WlpSVBnLKgkoGhgYFHgaF/AkivAlxL\n",
       "EyuQ7crQb8AgD+YnwGX8gD7i+MDQv4DBlysAyDeGu3nDbKB3ExiYDLiyuUECvAvgbr7BwKqlwMDh\n",
       "XBdiB/a60wyIzBzdQ0rnDxUghRdnESR0oAAAxkg0FzvmB/wAAAAASUVORK5CYII=\n",
       "\" style=\"display:inline;vertical-align:middle;\" /></a> <a class=\"ProveItLink\" href=\"../__pv_it/demonstrations/cc31cc6c98a82ab606675e28af8557acfa5a31d90/proof.ipynb\" style=\"text-decoration: none\">&nbsp;&#x22A2;&nbsp;&nbsp;</a><a class=\"ProveItLink\" href=\"../__pv_it/demonstrations/1e9eabd54431f52ac3dc258a3ee83a59fd1995120/expr.ipynb\"><img src=\"data:image/png;base64,iVBORw0KGgoAAAANSUhEUgAAAKMAAAAVBAMAAADY0UPbAAAAMFBMVEX////MzMxUVFRERES6uroi\n",
       "IiIQEBCYmJhmZmYyMjLu7u52dnaqqqqIiIjc3NwAAACW8nlqAAAAAXRSTlMAQObYZgAAAAlwSFlz\n",
       "AAAOxAAADsQBlSsOGwAAAkpJREFUOMtjYGB4wIANcLkw4AZ850AETmneA1iFb3rhMZJByIqBgeUC\n",
       "muDV5PnTghyAjNNY9fD8wm2eZAYDgxGQvo4uYeDLN0sF6MEJWLVxB+Bx4x8Ghq1AinMBupHuDPuY\n",
       "GRg4Ckg2kuUXxEj2Bkwja5gYGNhQA9Y0NJKgkSA5kJEMWWiaQEZyMjCcRLF/7gIiXMnZADVyOpom\n",
       "oJF61QwM3UDm2ksLd4Pj/eUCFI9z3y3ENPDRXvkDUCM3MaBqMvBdG7QBYlMDry4H2FXz4Bo5gLHG\n",
       "F8PQjBmQeQz2QDOugdiVDKiaDFynfe1iYIgBBvMD9l9M4FhCxP4zIJ91A0MuhpHLChg6gdR7kK+O\n",
       "MaBqAnr8uucChhQGBkawm4CAMTU0NDQY7LspQKJ/AZaA7GdgiAZlLk2gmfKomkBGMrNsABkJjHZI\n",
       "RuAygGlkbAYal4wtbpIZuL6AghlkpxuqJrCRDAYgjzMw+D/gArsIEc3MCgxcf7Fl/b8M7B+A9HmQ\n",
       "+qMMqJrARk5gsGVgWOygxsANFruLkva+AyMDw8g/DEwTgIXGNhCnGE0TyEieC6CEcF6qjcEHkuIO\n",
       "IBsJjO6NYGN+Aon10FiwZTjaAEuX3WiaDLwZ9u5gYBBlYFhxl6cdIsyl7IVkJPf2WkgERQAxKzT3\n",
       "LbotpysANTIEVdPNZHtwScQqgJLqNhORIUEAZCRfAJomKMDI+wxEG4mjxGFgsMNeMCfgNxKU3B/j\n",
       "klyMvSr4g9dErnScjgFpvoBV+IUOvrpnEzA6ebFXWgwADVWRWYeuLggAAAAASUVORK5CYII=\n",
       "\" style=\"display:inline;vertical-align:middle;\" /></a></span>"
      ],
      "text/plain": [
       "{c in Integer, d in Integer} |- (x in {c .. d}) in BOOLEAN"
      ]
     },
     "metadata": {},
     "output_type": "display_data"
    }
   ],
   "source": [
    "# the membership claim should itself be in Booleans (even without assumptions)\n",
    "InSet(x_in_c_d_interval, Boolean).prove(assumptions=[InSet(c, Integer), InSet(d, Integer), LessEq(c, d)])"
   ]
  },
  {
   "cell_type": "markdown",
   "metadata": {},
   "source": [
    "Also check that we can deduce an Interval element in positive naturals if the Interval lower_bound is known or assumed to be greater than 0:"
   ]
  },
  {
   "cell_type": "code",
   "execution_count": 16,
   "metadata": {},
   "outputs": [
    {
     "data": {
      "text/html": [
       "<span style=\"font-size:20px;\"><a class=\"ProveItLink\" href=\"../__pv_it/demonstrations/a2bc599bf0f0f65acede773ef671aee29194b8f50/expr.ipynb\"><img src=\"data:image/png;base64,iVBORw0KGgoAAAANSUhEUgAAADAAAAAQBAMAAACigOGCAAAAMFBMVEX///9UVFQyMjK6urru7u4Q\n",
       "EBBERERmZmaqqqoiIiLc3NzMzMyYmJiIiIh2dnYAAABC1PP/AAAAAXRSTlMAQObYZgAAAAlwSFlz\n",
       "AAAOxAAADsQBlSsOGwAAAMxJREFUGNNjYEAHHKpf1WamHsAQZ+BN3MCgwIQpzsBewMB74AUWCcYF\n",
       "DG4sCchGZM6cBKJZGBiqGTcgxJl1HWBMboHtYPrtHZD8Irg4A5tDCoha2cAOMlELobmP5wKImsfA\n",
       "CqIVEBIQx7J/gZgbOXPmzGkQVzQ8ZmBwYGCFuAzJgW5cQLYUg/8FCHcCXEIa6BOWDwz8wFAxAHLv\n",
       "wh1bYA705QQGoJP4QM5laoA7VoWBKwNo2rszV8CWiJlAJEyTwtLiwx4gef0ZJEigAAAe6izrPPGo\n",
       "iAAAAABJRU5ErkJggg==\n",
       "\" style=\"display:inline;vertical-align:middle;\" /></a>, <a class=\"ProveItLink\" href=\"../__pv_it/demonstrations/ce2036f1d2e534f263518445e270cc2a8e5c787c0/expr.ipynb\"><img src=\"data:image/png;base64,iVBORw0KGgoAAAANSUhEUgAAADIAAAAQBAMAAACmdTG/AAAAMFBMVEX///+YmJhERESIiIhUVFTc\n",
       "3NwiIiJ2dnbu7u66urqqqqpmZmYQEBAyMjLMzMwAAAA7oY0NAAAAAXRSTlMAQObYZgAAAAlwSFlz\n",
       "AAAOxAAADsQBlSsOGwAAAO5JREFUGNNjYMAAXHf+XErTEQAx+e5sQJZhVnnAcIEXwuZfgCzDvYGB\n",
       "WaAKwp7fgCzDEsDQxKEAYZdBTFFLywXRHAwM+1geQGRugwjOy3CdfA6vQRSru90vEB2LMJKpQQNE\n",
       "zQlg+gGiryJsWs5oADL1IAP3BRD3AkIG4mbuDwxsBSCzj6WlpSVBnLKgkoGhgYFHgaF/AkivAlxL\n",
       "EyuQ7crQb8AgD+YnwGX8gD7i+MDQv4DBlysAyDeGu3nDbKB3ExiYDLiyuUECvAvgbr7BwKqlwMDh\n",
       "XBdiB/a60wyIzBzdQ0rnDxUghRdnESR0oAAAxkg0FzvmB/wAAAAASUVORK5CYII=\n",
       "\" style=\"display:inline;vertical-align:middle;\" /></a>, <a class=\"ProveItLink\" href=\"../__pv_it/demonstrations/576f33253b8bac062b1752e47c2d4747a39338f50/expr.ipynb\"><img src=\"data:image/png;base64,iVBORw0KGgoAAAANSUhEUgAAAG0AAAAVBAMAAAC+p33JAAAAMFBMVEX///9ERES6uroQEBAyMjLc\n",
       "3NyYmJgiIiJmZmaqqqp2dnbMzMxUVFSIiIju7u4AAAAd7oVFAAAAAXRSTlMAQObYZgAAAAlwSFlz\n",
       "AAAOxAAADsQBlSsOGwAAAWVJREFUOMtjYMAG+JQYcAPWqTilrujh0cewRw6HBOc/3Jq2WDAwyOCQ\n",
       "4yrAY9tPBoblZOhj+oeh72J5uQNBfSA5VH0q94ixj6UBqu/tnderJoCC1w/VnVx3szF1xazdPwGq\n",
       "r4H3LAdIHUsAXJYD6FzWSoZGTM+ZMsg/YGC4DGSyBbD940kA6UNIBwP57AsYbDH0PU5gaAFS8UA7\n",
       "ucGmA8HmciAQADvGCUj0P8DiuX4GhipQcjoC8hjzBbDYQ7gsdyNQjyG2QDFk4PsE8jrIYAb9AD6Q\n",
       "2ewIacYDDHx/sSXbvwxsH4D0fKD6hwqHGbhAgrwXUMLzGzAUMPT9ZOBxAKbqxSC9+5oZNMGinij6\n",
       "gIG5GsR+D/Q93xeohCzD9AZo/L24y9k2ASz4RugBkj6uZblgLjtQHUMFVOLNra1nN2CkMy1xItIZ\n",
       "CJCTrvHp4zXAr68FV0nwE682PjNcMhEn8ZUva4DhCACzCVplcFqVGQAAAABJRU5ErkJggg==\n",
       "\" style=\"display:inline;vertical-align:middle;\" /></a>, <a class=\"ProveItLink\" href=\"../__pv_it/demonstrations/f0c4794755cdf3f21876901f5b8e2d31fcb0bf390/expr.ipynb\"><img src=\"data:image/png;base64,iVBORw0KGgoAAAANSUhEUgAAAC8AAAAQBAMAAAB0JTvnAAAAMFBMVEX///9UVFQyMjK6urru7u4Q\n",
       "EBBERERmZmaqqqoiIiLc3NzMzMyYmJiIiIh2dnYAAABC1PP/AAAAAXRSTlMAQObYZgAAAAlwSFlz\n",
       "AAAOxAAADsQBlSsOGwAAALFJREFUGNNjYMAC3l1fgE2YgamBZRZWiZMMDM8QPKcDcGYiA0O/A5zH\n",
       "8vICjPmdgWF/A5B+e2cDmH/zCVQJSAKof2UDewLU7BIwxfUPKAHUPo+BFWZIUxVc4gED+xck9xiJ\n",
       "gIwCSthfYGBNQJZIgVre38DgfwEh3iQFptIYGM47MPAD7TeAWl4FoY8yMBQxMACdxIfqXAbOBpZo\n",
       "UIiduQJ2/U24mSx1FzcgzPc8wEAcAADAmjSRZmeBcQAAAABJRU5ErkJggg==\n",
       "\" style=\"display:inline;vertical-align:middle;\" /></a> <a class=\"ProveItLink\" href=\"../__pv_it/demonstrations/38be3025aa6551ae4bd05e79b39e518d9836c8a30/proof.ipynb\" style=\"text-decoration: none\">&nbsp;&#x22A2;&nbsp;&nbsp;</a><a class=\"ProveItLink\" href=\"../../natural_numbers/__pv_it/theorems/eeefdffd3aa81290285f57914cfcea6647727dd80/expr.ipynb\"><img src=\"data:image/png;base64,iVBORw0KGgoAAAANSUhEUgAAAEAAAAATBAMAAADSXRa0AAAAMFBMVEX///9ERES6uroQEBAyMjLc\n",
       "3NyYmJgiIiJmZmaqqqp2dnbMzMxUVFSIiIju7u4AAAAd7oVFAAAAAXRSTlMAQObYZgAAAAlwSFlz\n",
       "AAAOxAAADsQBlSsOGwAAAO5JREFUKM9jYMAHGhgIAAHyFPDVC/oxcNkb4TaBcYIOA8N7PFbwlHIl\n",
       "MDAzcAgKGgqKYVUwkcGVgR2LCRfLyx3ACsIuhGBToHIPZkLAad4FCAVv77xeNQFIs/rBrQhgZBBC\n",
       "KGjgPctRAKRZAhAKuBueP4eFJFsA2z+eBJAChCMDGDI5hWE8bgYOsMsYNpcDgQBUAc+DwwjHMV8A\n",
       "Uw+RTeA78ByhQD+A7wGQYkdWwLCXEcZ7qHCYgQvE4L0AD+oNQN5GGG/+vmYGTTDLEybEAvJ1C4z3\n",
       "4i5n2wQw643QA4iz/Q2B5BMscaAlDglqFAAASi0zkHb1wmgAAAAASUVORK5CYII=\n",
       "\" style=\"display:inline;vertical-align:middle;\" /></a></span>"
      ],
      "text/plain": [
       "{c in Integer, d in Integer, x in {c .. d}, c > 0} |- x in NaturalPos"
      ]
     },
     "metadata": {},
     "output_type": "display_data"
    }
   ],
   "source": [
    "InSet(x, NaturalPos).prove(\n",
    "    assumptions = [x_in_c_d_interval, InSet(c, Integer),\n",
    "                   InSet(d, Integer), greater(c, zero), LessEq(c, d)])"
   ]
  },
  {
   "cell_type": "markdown",
   "metadata": {},
   "source": [
    "Here is an interesting comparison case, comparing an attempted deduction when we assume that $x$ is in an Interval with explicit natural-number lower_- and upper_bounds, but where in one case the lower_bound ≤ the upper_bound as required and in the other case upper_bound ≤ lower_bound. The second, with “improper” bounds, is satisfied vacuously."
   ]
  },
  {
   "cell_type": "code",
   "execution_count": 17,
   "metadata": {},
   "outputs": [
    {
     "data": {
      "text/html": [
       "<span style=\"font-size:20px;\"><a class=\"ProveItLink\" href=\"../__pv_it/demonstrations/4b9361cacc232422bcbc11325a364dfbf97ba0610/expr.ipynb\"><img src=\"data:image/png;base64,iVBORw0KGgoAAAANSUhEUgAAAG0AAAAVBAMAAAC+p33JAAAAMFBMVEX///9ERES6uroQEBAyMjLc\n",
       "3NyYmJgiIiJmZmaqqqp2dnbMzMxUVFSIiIju7u4AAAAd7oVFAAAAAXRSTlMAQObYZgAAAAlwSFlz\n",
       "AAAOxAAADsQBlSsOGwAAAW1JREFUOMtjYMAG+JQYcAPWqTilrujh0cewRw6HBOc/oKkdjhuwye0A\n",
       "Yhkc+rgKGBgCGbg+YZOrAeLlePQdZWAwxiLFi0Ufr3h5CVyf/QOG8wGY+rb5YOhj8n2AZN9xBobz\n",
       "WDy4AK7v7Z3XqyaAGCEPkN0JBPVYnBkA19fAe5YDrM4VLsvhACK5/2LqC2MA6bsMxGwBbP94EkBi\n",
       "DnDZYDCf/QAWZ4L1xQPdxw01nYHbvLy8vBDEinECCzRiamMLAOvjOwLyGPMFSNoSgMlyN4J8yobF\n",
       "ulgGsD4usMH6AXzgECmASzOCtMxiYMWIB50zZz6fYmCYD1T/UOEwAxdY8C5KvHMvYOB9gCXibYB4\n",
       "MRDP39fMoAkWYZmArC+8o6MdzHkP9D7fF7i+j9B4eHGXsw2ige+gHpK++v//IYrZG4BEBUxb4/+z\n",
       "GOmMaSFSOsMH8KVrcvTxGuDX14KrJPiJVxufGS6ZiJP4ypc1wHAEANorXLEVnYr+AAAAAElFTkSu\n",
       "QmCC\n",
       "\" style=\"display:inline;vertical-align:middle;\" /></a> <a class=\"ProveItLink\" href=\"../__pv_it/demonstrations/efe8a1ecb8ac4bcb24a68c54f54ab7ad905cc5ea0/proof.ipynb\" style=\"text-decoration: none\">&nbsp;&#x22A2;&nbsp;&nbsp;</a><a class=\"ProveItLink\" href=\"../__pv_it/theorems/9dfd51fc82a5dda1e85f06fc33528e3db8c0b6dc0/expr.ipynb\"><img src=\"data:image/png;base64,iVBORw0KGgoAAAANSUhEUgAAADMAAAAQBAMAAABJt1qBAAAAMFBMVEX///9ERES6uroQEBAyMjLc\n",
       "3NyYmJgiIiJmZmaqqqp2dnbMzMxUVFSIiIju7u4AAAAd7oVFAAAAAXRSTlMAQObYZgAAAAlwSFlz\n",
       "AAAOxAAADsQBlSsOGwAAAN1JREFUGNNjYMAEU+xNxAvNGLCBi6cZWBgcsEp1MDBc45qAVeooA5/A\n",
       "Q1QhXvHyEhD9gIFjw2kUGSbfBzDmHu4GEPX2zutVYIND4DIMcoxgdgPvWY4CEMMVLsO5IBdEsQWw\n",
       "/eNJALEQzoU6nZuBAyLGbV5eXl4IZt7kUmDgAzGYL4D5fAIwTXwCgQwMPAFAln4AH9jSApgUz4aj\n",
       "DAzvGRgeKhxm4AKL3IVJ7WACOv04A8P8fc0MmhDLYWEjx/KAIXAiA8OLu5xtEDG+g3oQrxs6Cwp/\n",
       "lkINjoWQgIICAM0UMqoFj6RNAAAAAElFTkSuQmCC\n",
       "\" style=\"display:inline;vertical-align:middle;\" /></a></span>"
      ],
      "text/plain": [
       "{x in {2 .. 4}} |- x in Integer"
      ]
     },
     "metadata": {},
     "output_type": "display_data"
    }
   ],
   "source": [
    "InSet(x, Integer).prove(assumptions = [InSet(x, Interval(two, four))])"
   ]
  },
  {
   "cell_type": "code",
   "execution_count": 18,
   "metadata": {},
   "outputs": [
    {
     "data": {
      "text/html": [
       "<span style=\"font-size:20px;\"><a class=\"ProveItLink\" href=\"../__pv_it/demonstrations/1cbcdcefb343ed71967891442f1c96823e0813550/expr.ipynb\"><img src=\"data:image/png;base64,iVBORw0KGgoAAAANSUhEUgAAAG0AAAAVBAMAAAC+p33JAAAAMFBMVEX///9ERES6uroQEBAyMjLc\n",
       "3NyYmJgiIiJmZmaqqqp2dnbMzMxUVFSIiIju7u4AAAAd7oVFAAAAAXRSTlMAQObYZgAAAAlwSFlz\n",
       "AAAOxAAADsQBlSsOGwAAAXRJREFUOMtjYMAG+JQYcAPWqTilrujh0cewRw6HBOc/EMndgCkT0SIN\n",
       "JGVw6OMqAJHsBzCdKMCwXoGBYTlefdcx9fEEMDAbYOjjFS8vQejjTsHUx/yPgecruj4m3wfI9nGx\n",
       "YLGvgIHnN1Tf2zuvV00AMUIeoLjzKhZ9IF9/gOpr4D3LAfaPK1yOwwEYBAnY9e2/wMBwGUizBbD9\n",
       "40kAiTjA5YKBfC4G7PpqgDge6D5usOmgcDAvLy8vBLFinIBEKnZ9HAKg5HQE5DHmC5C0JQCT4258\n",
       "wMB6Abu+HLD/QQYz6AfwgUOkAC7JeICB6cyZ8zYLMFPSAoZQBob5QPUPFQ4D/QICd9HinRmLfbsY\n",
       "GO4xMCwGsubva2bQBIuxTEDVxw9x+Hug9/m+QNNZRUdHASQeXtzlbINo4Duoh6yPQ/4P2OPsoORd\n",
       "AY28////O2CkM6aFyOkMD8CfrknXx2uAX18LrpLgJ15tfGa4ZCJO4itf1gDDEQDsZV1lnLMLYwAA\n",
       "AABJRU5ErkJggg==\n",
       "\" style=\"display:inline;vertical-align:middle;\" /></a> <a class=\"ProveItLink\" href=\"../__pv_it/demonstrations/69482ed64d6861baf10eb40229e2b78cab1fa7030/proof.ipynb\" style=\"text-decoration: none\">&nbsp;&#x22A2;&nbsp;&nbsp;</a><a class=\"ProveItLink\" href=\"../__pv_it/theorems/9dfd51fc82a5dda1e85f06fc33528e3db8c0b6dc0/expr.ipynb\"><img src=\"data:image/png;base64,iVBORw0KGgoAAAANSUhEUgAAADMAAAAQBAMAAABJt1qBAAAAMFBMVEX///9ERES6uroQEBAyMjLc\n",
       "3NyYmJgiIiJmZmaqqqp2dnbMzMxUVFSIiIju7u4AAAAd7oVFAAAAAXRSTlMAQObYZgAAAAlwSFlz\n",
       "AAAOxAAADsQBlSsOGwAAAN1JREFUGNNjYMAEU+xNxAvNGLCBi6cZWBgcsEp1MDBc45qAVeooA5/A\n",
       "Q1QhXvHyEhD9gIFjw2kUGSbfBzDmHu4GEPX2zutVYIND4DIMcoxgdgPvWY4CEMMVLsO5IBdEsQWw\n",
       "/eNJALEQzoU6nZuBAyLGbV5eXl4IZt7kUmDgAzGYL4D5fAIwTXwCgQwMPAFAln4AH9jSApgUz4aj\n",
       "DAzvGRgeKhxm4AKL3IVJ7WACOv04A8P8fc0MmhDLYWEjx/KAIXAiA8OLu5xtEDG+g3oQrxs6Cwp/\n",
       "lkINjoWQgIICAM0UMqoFj6RNAAAAAElFTkSuQmCC\n",
       "\" style=\"display:inline;vertical-align:middle;\" /></a></span>"
      ],
      "text/plain": [
       "{x in {4 .. 2}} |- x in Integer"
      ]
     },
     "metadata": {},
     "output_type": "display_data"
    }
   ],
   "source": [
    "InSet(x, Integer).prove(assumptions = [InSet(x, Interval(four, two))])"
   ]
  },
  {
   "cell_type": "markdown",
   "metadata": {},
   "source": [
    "And here are other interesting test cases — where the Interval is created with “illegitimate” bounds (because the upper_bound < lower_bound), so we obtain vacuously true (and somewhat misleading-looking) conclusions: now it looks like we can simultaneously obtain $x \\ge 4$ and $x \\le 2$."
   ]
  },
  {
   "cell_type": "code",
   "execution_count": 19,
   "metadata": {},
   "outputs": [
    {
     "data": {
      "text/html": [
       "<span style=\"font-size:20px;\"><a class=\"ProveItLink\" href=\"../__pv_it/demonstrations/1cbcdcefb343ed71967891442f1c96823e0813550/expr.ipynb\"><img src=\"data:image/png;base64,iVBORw0KGgoAAAANSUhEUgAAAG0AAAAVBAMAAAC+p33JAAAAMFBMVEX///9ERES6uroQEBAyMjLc\n",
       "3NyYmJgiIiJmZmaqqqp2dnbMzMxUVFSIiIju7u4AAAAd7oVFAAAAAXRSTlMAQObYZgAAAAlwSFlz\n",
       "AAAOxAAADsQBlSsOGwAAAXRJREFUOMtjYMAG+JQYcAPWqTilrujh0cewRw6HBOc/EMndgCkT0SIN\n",
       "JGVw6OMqAJHsBzCdKMCwXoGBYTlefdcx9fEEMDAbYOjjFS8vQejjTsHUx/yPgecruj4m3wfI9nGx\n",
       "YLGvgIHnN1Tf2zuvV00AMUIeoLjzKhZ9IF9/gOpr4D3LAfaPK1yOwwEYBAnY9e2/wMBwGUizBbD9\n",
       "40kAiTjA5YKBfC4G7PpqgDge6D5usOmgcDAvLy8vBLFinIBEKnZ9HAKg5HQE5DHmC5C0JQCT4258\n",
       "wMB6Abu+HLD/QQYz6AfwgUOkAC7JeICB6cyZ8zYLMFPSAoZQBob5QPUPFQ4D/QICd9HinRmLfbsY\n",
       "GO4xMCwGsubva2bQBIuxTEDVxw9x+Hug9/m+QNNZRUdHASQeXtzlbINo4Duoh6yPQ/4P2OPsoORd\n",
       "AY28////O2CkM6aFyOkMD8CfrknXx2uAX18LrpLgJ15tfGa4ZCJO4itf1gDDEQDsZV1lnLMLYwAA\n",
       "AABJRU5ErkJggg==\n",
       "\" style=\"display:inline;vertical-align:middle;\" /></a> <a class=\"ProveItLink\" href=\"../__pv_it/demonstrations/c039a505b4d3a9d890487d8ddc59bfbe468d2b830/proof.ipynb\" style=\"text-decoration: none\">&nbsp;&#x22A2;&nbsp;&nbsp;</a><a class=\"ProveItLink\" href=\"../__pv_it/demonstrations/130b8ff14dbc00d3cde6951e79b2456b1efaa5810/expr.ipynb\"><img src=\"data:image/png;base64,iVBORw0KGgoAAAANSUhEUgAAADEAAAARBAMAAACGHlkZAAAAMFBMVEX////u7u6qqqpEREQQEBC6\n",
       "urrc3Nx2dnYyMjKYmJiIiIhUVFQiIiJmZmbMzMwAAADCG2+HAAAAAXRSTlMAQObYZgAAAAlwSFlz\n",
       "AAAOxAAADsQBlSsOGwAAAKhJREFUGNNjYGBgeMuAC5xGMDUSkCW4EDJzLqJoedkNY60pRDWsACrD\n",
       "WLMAVYIrASLDeGcCTEhqtVy5AgNDJgNYhnGHAlzxBa5dvAeAhkFkGBAynAmcH7knACmoDBvcND4G\n",
       "3gYglcXAgOkCFhArevfuL9vRXR2fwCgAor3RfCocsIWBHcz/jBQ6D4CE/sMrDEEg3uX/u1B9KLuK\n",
       "6aYCA0WA8QwYPIALAAB/wDElCycZUAAAAABJRU5ErkJggg==\n",
       "\" style=\"display:inline;vertical-align:middle;\" /></a></span>"
      ],
      "text/plain": [
       "{x in {4 .. 2}} |- 4 <= x"
      ]
     },
     "metadata": {},
     "output_type": "display_data"
    }
   ],
   "source": [
    "LessEq(four, x).prove(assumptions = [InSet(x, Interval(four, two))])"
   ]
  },
  {
   "cell_type": "code",
   "execution_count": 20,
   "metadata": {},
   "outputs": [
    {
     "data": {
      "text/html": [
       "<span style=\"font-size:20px;\"><a class=\"ProveItLink\" href=\"../__pv_it/demonstrations/1cbcdcefb343ed71967891442f1c96823e0813550/expr.ipynb\"><img src=\"data:image/png;base64,iVBORw0KGgoAAAANSUhEUgAAAG0AAAAVBAMAAAC+p33JAAAAMFBMVEX///9ERES6uroQEBAyMjLc\n",
       "3NyYmJgiIiJmZmaqqqp2dnbMzMxUVFSIiIju7u4AAAAd7oVFAAAAAXRSTlMAQObYZgAAAAlwSFlz\n",
       "AAAOxAAADsQBlSsOGwAAAXRJREFUOMtjYMAG+JQYcAPWqTilrujh0cewRw6HBOc/EMndgCkT0SIN\n",
       "JGVw6OMqAJHsBzCdKMCwXoGBYTlefdcx9fEEMDAbYOjjFS8vQejjTsHUx/yPgecruj4m3wfI9nGx\n",
       "YLGvgIHnN1Tf2zuvV00AMUIeoLjzKhZ9IF9/gOpr4D3LAfaPK1yOwwEYBAnY9e2/wMBwGUizBbD9\n",
       "40kAiTjA5YKBfC4G7PpqgDge6D5usOmgcDAvLy8vBLFinIBEKnZ9HAKg5HQE5DHmC5C0JQCT4258\n",
       "wMB6Abu+HLD/QQYz6AfwgUOkAC7JeICB6cyZ8zYLMFPSAoZQBob5QPUPFQ4D/QICd9HinRmLfbsY\n",
       "GO4xMCwGsubva2bQBIuxTEDVxw9x+Hug9/m+QNNZRUdHASQeXtzlbINo4Duoh6yPQ/4P2OPsoORd\n",
       "AY28////O2CkM6aFyOkMD8CfrknXx2uAX18LrpLgJ15tfGa4ZCJO4itf1gDDEQDsZV1lnLMLYwAA\n",
       "AABJRU5ErkJggg==\n",
       "\" style=\"display:inline;vertical-align:middle;\" /></a> <a class=\"ProveItLink\" href=\"../__pv_it/demonstrations/0473a0a299bce23c84f0aef5448e062b50e6148b0/proof.ipynb\" style=\"text-decoration: none\">&nbsp;&#x22A2;&nbsp;&nbsp;</a><a class=\"ProveItLink\" href=\"../__pv_it/demonstrations/2b54dd78a10c43e371c3bc7c0e83a0048d91a6610/expr.ipynb\"><img src=\"data:image/png;base64,iVBORw0KGgoAAAANSUhEUgAAADEAAAARBAMAAACGHlkZAAAAMFBMVEX///9ERES6uroQEBAyMjLc\n",
       "3NyYmJgiIiJmZmaqqqp2dnbMzMxUVFSIiIju7u4AAAAd7oVFAAAAAXRSTlMAQObYZgAAAAlwSFlz\n",
       "AAAOxAAADsQBlSsOGwAAALtJREFUGNNjYMACWDscN6CLcbqCyEAGrk9oEmwVD0DUUQYGY1QJ3iqw\n",
       "BIP9A4bzAcgSr2qhjOMMDOeBFr2983rVBBD/RRmSqnogbuA9y1EApN94Iklw/wVaGsD2jycByOFB\n",
       "lmE/AJRl4HCA8CKQTGsEk8wX0F3AwHYATOkH8D1AdTXDLAbWAIaHCocZuNB8yr2AgfcBw/x9zQya\n",
       "iNDxBpHhHR3tQF/c5WybgBZI9f//f2GgDDwvB4FqOB8AHEM0/IHmZYIAAAAASUVORK5CYII=\n",
       "\" style=\"display:inline;vertical-align:middle;\" /></a></span>"
      ],
      "text/plain": [
       "{x in {4 .. 2}} |- x <= 2"
      ]
     },
     "metadata": {},
     "output_type": "display_data"
    }
   ],
   "source": [
    "LessEq(x, two).prove(assumptions = [InSet(x, Interval(four, two))])"
   ]
  },
  {
   "cell_type": "markdown",
   "metadata": {},
   "source": [
    "The following enters the interval_membership.side_effects() method as expected (although it will FAIL if we're still checking for lower_bound ≤ upper_bound in the side_effects() sub-methods)."
   ]
  },
  {
   "cell_type": "code",
   "execution_count": 21,
   "metadata": {},
   "outputs": [
    {
     "data": {
      "text/html": [
       "<span style=\"font-size:20px;\"><a class=\"ProveItLink\" href=\"../__pv_it/demonstrations/5de2b0e951d093cee2a298f981930bae441f352e0/expr.ipynb\"><img src=\"data:image/png;base64,iVBORw0KGgoAAAANSUhEUgAAAG0AAAAVBAMAAAC+p33JAAAAMFBMVEX///9ERES6uroQEBAyMjLc\n",
       "3NyYmJgiIiJmZmaqqqp2dnbMzMxUVFSIiIju7u4AAAAd7oVFAAAAAXRSTlMAQObYZgAAAAlwSFlz\n",
       "AAAOxAAADsQBlSsOGwAAAVhJREFUOMtjYMAG+JQYcAPWqTilrujh0cewRw6HBOc/IMFdh0UmokUa\n",
       "SMrg0MdVwMDwpuUfFicKMKxXYGBYjkcfAy8WfTwBDMwGGPp4xctL8Otj/sfA8xVdH5PvA4L2FTDw\n",
       "/Ibqe3vn9aoJIEbIA4LuBAL2D1B9DbxnOUDqGFzhchwOuPXtv8DAcBlIswWw/eNJAIk4wOWCE3Dr\n",
       "qwHieKD7uCGmAxnm5eXlhSBWjBMDTn0cAqDkdATkMeYLkLQlAJPjbnyAU18O2P9gg/UD+MAhUgCX\n",
       "ZDyASx/nAoZQBob5QPUPFQ4zcIHF7hKOd4ZdDAz3GBgWA1nz9zUzaILFWCag6OP6CuG8B3qf7ws0\n",
       "nVV0dBRA4uHFXc42iAa+g3pI+ngOfzkGibAGIFEBjbz///87YKQzpoXI6QwPwJuuydDHa4BfXwuu\n",
       "kuAnXm18ZrhkIk7iK1/WAMMRAAuQXQCZIWNcAAAAAElFTkSuQmCC\n",
       "\" style=\"display:inline;vertical-align:middle;\" /></a> <a class=\"ProveItLink\" href=\"../__pv_it/demonstrations/1543f2de347512522512563d676c2f56fa9dabc40/proof.ipynb\" style=\"text-decoration: none\">&nbsp;&#x22A2;&nbsp;&nbsp;</a><a class=\"ProveItLink\" href=\"../../natural_numbers/__pv_it/theorems/eeefdffd3aa81290285f57914cfcea6647727dd80/expr.ipynb\"><img src=\"data:image/png;base64,iVBORw0KGgoAAAANSUhEUgAAAEAAAAATBAMAAADSXRa0AAAAMFBMVEX///9ERES6uroQEBAyMjLc\n",
       "3NyYmJgiIiJmZmaqqqp2dnbMzMxUVFSIiIju7u4AAAAd7oVFAAAAAXRSTlMAQObYZgAAAAlwSFlz\n",
       "AAAOxAAADsQBlSsOGwAAAO5JREFUKM9jYMAHGhgIAAHyFPDVC/oxcNkb4TaBcYIOA8N7PFbwlHIl\n",
       "MDAzcAgKGgqKYVUwkcGVgR2LCRfLyx3ACsIuhGBToHIPZkLAad4FCAVv77xeNQFIs/rBrQhgZBBC\n",
       "KGjgPctRAKRZAhAKuBueP4eFJFsA2z+eBJAChCMDGDI5hWE8bgYOsMsYNpcDgQBUAc+DwwjHMV8A\n",
       "Uw+RTeA78ByhQD+A7wGQYkdWwLCXEcZ7qHCYgQvE4L0AD+oNQN5GGG/+vmYGTTDLEybEAvJ1C4z3\n",
       "4i5n2wQw643QA4iz/Q2B5BMscaAlDglqFAAASi0zkHb1wmgAAAAASUVORK5CYII=\n",
       "\" style=\"display:inline;vertical-align:middle;\" /></a></span>"
      ],
      "text/plain": [
       "{x in {1 .. 2}} |- x in NaturalPos"
      ]
     },
     "metadata": {},
     "output_type": "display_data"
    }
   ],
   "source": [
    "InSet(x, NaturalPos).prove(assumptions = [InSet(x, Interval(one, two))])"
   ]
  },
  {
   "cell_type": "markdown",
   "metadata": {},
   "source": [
    "Unfortunately, the following is also (vacuously) true, since the integer interval Interval(2, 1) is not valid:"
   ]
  },
  {
   "cell_type": "code",
   "execution_count": 22,
   "metadata": {},
   "outputs": [
    {
     "data": {
      "text/html": [
       "<span style=\"font-size:20px;\"><a class=\"ProveItLink\" href=\"../__pv_it/demonstrations/a0f6f3e3a21464dc9827de10e868e042f486c6ca0/expr.ipynb\"><img src=\"data:image/png;base64,iVBORw0KGgoAAAANSUhEUgAAAG0AAAAVBAMAAAC+p33JAAAAMFBMVEX///9ERES6uroQEBAyMjLc\n",
       "3NyYmJgiIiJmZmaqqqp2dnbMzMxUVFSIiIju7u4AAAAd7oVFAAAAAXRSTlMAQObYZgAAAAlwSFlz\n",
       "AAAOxAAADsQBlSsOGwAAAVFJREFUOMtjYMAG+JQYcAPWqTilrujh0cewRw6HBOc/oKkdjhuwSG1/\n",
       "ACRkcOjjKmBgCGTg+oTp/hP+IH3L8eg7ysBgjEXqPhZ9vOLlJXB99g8YzgcQpY/J9wGSfccZGM5v\n",
       "wKfv7Z3XqyaAGCEPkN0JBPV43dnAe5YDrM4VLsnhACK5/+LSdxmI2QLY/vEkgIQc4JLBYD77AVz6\n",
       "4oHu44aazsBtXl5eXghixTiBBRoZcOnjOwLyGPMFSNwIwOS4G0GSbAdw6uMCG6wfwAcOkQK4JCNI\n",
       "yywGVlzxMB9IPFQ4zMAFFrqLEu/cCxh4H+DQtxikd18zgyZYiGUCsr7wjo52MOc90Pt8X2BS6wOg\n",
       "8fDiLmcbRAPfQT0kffX//0MUszcAiQqozBl7nwSMdMa0ECmd4QP40jU5+ngN8OtrwVUS/MSrjc8M\n",
       "l0zESXzlyxpgOAIAtQVmUY0a4lgAAAAASUVORK5CYII=\n",
       "\" style=\"display:inline;vertical-align:middle;\" /></a> <a class=\"ProveItLink\" href=\"../__pv_it/demonstrations/4252769d876261ce0ae757895b14a4a770b60b630/proof.ipynb\" style=\"text-decoration: none\">&nbsp;&#x22A2;&nbsp;&nbsp;</a><a class=\"ProveItLink\" href=\"../__pv_it/theorems/9dfd51fc82a5dda1e85f06fc33528e3db8c0b6dc0/expr.ipynb\"><img src=\"data:image/png;base64,iVBORw0KGgoAAAANSUhEUgAAADMAAAAQBAMAAABJt1qBAAAAMFBMVEX///9ERES6uroQEBAyMjLc\n",
       "3NyYmJgiIiJmZmaqqqp2dnbMzMxUVFSIiIju7u4AAAAd7oVFAAAAAXRSTlMAQObYZgAAAAlwSFlz\n",
       "AAAOxAAADsQBlSsOGwAAAN1JREFUGNNjYMAEU+xNxAvNGLCBi6cZWBgcsEp1MDBc45qAVeooA5/A\n",
       "Q1QhXvHyEhD9gIFjw2kUGSbfBzDmHu4GEPX2zutVYIND4DIMcoxgdgPvWY4CEMMVLsO5IBdEsQWw\n",
       "/eNJALEQzoU6nZuBAyLGbV5eXl4IZt7kUmDgAzGYL4D5fAIwTXwCgQwMPAFAln4AH9jSApgUz4aj\n",
       "DAzvGRgeKhxm4AKL3IVJ7WACOv04A8P8fc0MmhDLYWEjx/KAIXAiA8OLu5xtEDG+g3oQrxs6Cwp/\n",
       "lkINjoWQgIICAM0UMqoFj6RNAAAAAElFTkSuQmCC\n",
       "\" style=\"display:inline;vertical-align:middle;\" /></a></span>"
      ],
      "text/plain": [
       "{x in {2 .. 1}} |- x in Integer"
      ]
     },
     "metadata": {},
     "output_type": "display_data"
    }
   ],
   "source": [
    "InSet(x, Integer).prove(assumptions = [InSet(x, Interval(two, one))])"
   ]
  },
  {
   "cell_type": "markdown",
   "metadata": {},
   "source": [
    "And to make things even more explicit, notice we can “appear” to prove that $8 \\le 3$, but this judgment is vacuously true:"
   ]
  },
  {
   "cell_type": "code",
   "execution_count": 23,
   "metadata": {},
   "outputs": [
    {
     "data": {
      "text/html": [
       "<span style=\"font-size:20px;\"><a class=\"ProveItLink\" href=\"../__pv_it/demonstrations/35ba05e5b60c303a71efc7f4aba56fbcfa87d3490/expr.ipynb\"><img src=\"data:image/png;base64,iVBORw0KGgoAAAANSUhEUgAAAG0AAAAVBAMAAAC+p33JAAAAMFBMVEX///9ERES6uroQEBAyMjLc\n",
       "3NyYmJgiIiJmZmaqqqp2dnbMzMxUVFSIiIju7u4AAAAd7oVFAAAAAXRSTlMAQObYZgAAAAlwSFlz\n",
       "AAAOxAAADsQBlSsOGwAAAYJJREFUOMtjYMAG+JQYcAPWqTilrujh0cewRw6HBOc/oJWrVihgykSt\n",
       "EAKSMjj0cRUwMHAwMJzEdH8Dw/wJDAzL8ehLY2B4giHB+5PhvQOGPl7x8hK4vjXY9DEZMfBj6GPy\n",
       "fYBk33w5hjZsbpmfANX39s7rVRNAjJAHyO7k+X9jAhZtTGUMUH0NvGc5CkAMV7gkB9AtDP3fAzC1\n",
       "cd85DSQvAzFbANs/ngSQmANcNhjI51wq/xOrO4GuiAdibojpQIZ5eXl5IYgV4wQkMhg4Pz/Aoo8Z\n",
       "FLdHQF5gvgCJGwG4YxqBGuwgxqI5cwMDI9AVXCCDGfQD+MAGF8ClGQ8w8H0ABk0Cuj7+f2B984Hq\n",
       "HyocZuACC95FiXdToHaMgGE+AHbnYpA/9zUzaIIFWSYg61N5wJAL5oASCN8XiARbAjz+XtzlbINo\n",
       "4Duoh6SP+0QHJF2zNwCJCqiMRocQA0Y6Y1qIlM7wAXzpmhx9vAb49bXgKgl+4tXGZ4ZLJuIkvvJl\n",
       "DTAcATFLYhpKQXv5AAAAAElFTkSuQmCC\n",
       "\" style=\"display:inline;vertical-align:middle;\" /></a> <a class=\"ProveItLink\" href=\"../__pv_it/demonstrations/8c4ee8cd8613b05f360cbc6ce490ab9a7ef8b0910/proof.ipynb\" style=\"text-decoration: none\">&nbsp;&#x22A2;&nbsp;&nbsp;</a><a class=\"ProveItLink\" href=\"../__pv_it/demonstrations/6a43a17681fac9e8d50ea70d0deced1a90413c880/expr.ipynb\"><img src=\"data:image/png;base64,iVBORw0KGgoAAAANSUhEUgAAADEAAAARBAMAAACGHlkZAAAAMFBMVEX////MzMwQEBDc3NwiIiKI\n",
       "iIhEREQyMjKYmJiqqqpUVFS6urpmZmZ2dnbu7u4AAAABvK+SAAAAAXRSTlMAQObYZgAAAAlwSFlz\n",
       "AAAOxAAADsQBlSsOGwAAAMdJREFUGNNjYHh79zQDGmC+e2wDkDrAwDUBLsZZDCLfMHD+ZGDgaGDg\n",
       "K4BJcPg8AFHxE/i+MzDwLkDIsPqCJRg2bWAAynB+e8DTAJF464ow9QeQWP/1JIT3xgPhhi0gxTz/\n",
       "ncGcV5UICdFVAkByrtl/sNu4kGQgbjvAMF8PzLNBMo1B/wED0wMG5p9oLhBkYMifwPAeyFqB5ur/\n",
       "D0AyTAYMDMloPtUCm8Zdx8ARgLC5EER2QPwjdQYjRLnPgEOUEvDEBQQc4XwA65M7uvp3ZjIAAAAA\n",
       "SUVORK5CYII=\n",
       "\" style=\"display:inline;vertical-align:middle;\" /></a></span>"
      ],
      "text/plain": [
       "{x in {8 .. 3}} |- 8 <= 3"
      ]
     },
     "metadata": {},
     "output_type": "display_data"
    }
   ],
   "source": [
    "LessEq(eight, three).prove(assumptions = [InSet(x, Interval(eight, three))])"
   ]
  },
  {
   "cell_type": "markdown",
   "metadata": {},
   "source": [
    "#### Testing `Interval.deduce_cardinality()` method"
   ]
  },
  {
   "cell_type": "code",
   "execution_count": 24,
   "metadata": {},
   "outputs": [
    {
     "data": {
      "text/html": [
       "<strong id=\"interval_3_to_8\">interval_3_to_8:</strong> <a class=\"ProveItLink\" href=\"../__pv_it/demonstrations/fdafb012a1e06d9ded6b63ea96678459ccfc31920/expr.ipynb\"><img src=\"data:image/png;base64,iVBORw0KGgoAAAANSUhEUgAAAEcAAAAVBAMAAADm2O7QAAAAMFBMVEX///9ERETMzMxUVFSYmJgQ\n",
       "EBDc3NxmZmYiIiJ2dnaqqqoyMjKIiIi6urru7u4AAAB85a56AAAAAXRSTlMAQObYZgAAAAlwSFlz\n",
       "AAAOxAAADsQBlSsOGwAAAQ9JREFUKM9jYGDgu8uAG7Atg9Cn7+FRxKAsByK5/gHVzyy8gCn/cmYt\n",
       "kBQGMTkbGBieM3D9wlRUwMC8gIFhBkzR+QV8vzHUsDgw8G1AUnT1AgOmIk4DVEVAl33BUMT18QG7\n",
       "A4qiGw6YbrL/U8UAVcQONJJBx1gBUxH7/zYgeRTETAWbgc13KxP/A32XD8TJeyEi8Q8wfFfAsD4O\n",
       "GCHWCxiYCoGySgwM8gvQFbE+YGADms8JMoXRgIHh/wMsit4DsQkDw/oHUN8FY7OONYGBQYyBYSos\n",
       "CFyg4QQOd1jg8+5jYDmAFE685dAIbocToARQXsuAEpi4AfGKeALwK6oGJ9BfeNXwhYCpdCt8aXwy\n",
       "MPwAPlxKvU93BG0AAAAASUVORK5CYII=\n",
       "\" style=\"display:inline;vertical-align:middle;\" /></a><br>"
      ],
      "text/plain": [
       "<IPython.core.display.HTML object>"
      ]
     },
     "metadata": {},
     "output_type": "display_data"
    },
    {
     "data": {
      "text/html": [
       "<strong id=\"interval_0_to_2_pow_t\">interval_0_to_2_pow_t:</strong> <a class=\"ProveItLink\" href=\"../__pv_it/demonstrations/412b000abbe60b0c1d832ca48d93ec9729950aee0/expr.ipynb\"><img src=\"data:image/png;base64,iVBORw0KGgoAAAANSUhEUgAAAE8AAAAYBAMAAABJkb36AAAAMFBMVEX///9ERETMzMxUVFSYmJgQ\n",
       "EBDc3NxmZmYiIiJ2dnaqqqoyMjKIiIi6urru7u4AAAB85a56AAAAAXRSTlMAQObYZgAAAAlwSFlz\n",
       "AAAOxAAADsQBlSsOGwAAAT9JREFUKM9jYCAAuBMYiAPviVTHsBrB5LuLR11m9yQGtmUQ9ul7+Ezc\n",
       "BcTKciAW1z8gMfM4FjenVwsxMIBkGYRBBGcD0GsL+Now1LEJMMy/wBsAYs6AKfRgYJiIoZA5gYE1\n",
       "gMfgEbJCoNHrH6ArZP3HwPyN/cA8ZIXfGRj0F2CY2MDA/ImpRAFJIR9IoQMWL3N8gNBghewbGNh+\n",
       "AhUewKIQJngURKQ6QBROwKKwGUrnA92VvBcYN0CF97GYyC4AizzrBQxMhQ/Anlm/AFOhM4zBCTSN\n",
       "gdGAgUGQgcEfI3gYuCYwpEFY4LADBY8rA0M1poGaDAznIKypsHDkWMAXBEl9G4AO+g2Nwvby8gak\n",
       "4AEp5Ks8rAAJuAIg0Q4NxP///29AU0gIkKaQJ4CwQrBP2X4RVMcXAknIVgTUsU0GRgYAKilQNyEV\n",
       "EmsAAAAASUVORK5CYII=\n",
       "\" style=\"display:inline;vertical-align:middle;\" /></a><br>"
      ],
      "text/plain": [
       "<IPython.core.display.HTML object>"
      ]
     },
     "metadata": {},
     "output_type": "display_data"
    }
   ],
   "source": [
    "from proveit import t\n",
    "from proveit.numbers import Exp\n",
    "interval_3_to_8, interval_0_to_2_pow_t = (\n",
    "    Interval(three, eight), Interval(zero, Exp(two, t)))"
   ]
  },
  {
   "cell_type": "code",
   "execution_count": 25,
   "metadata": {},
   "outputs": [
    {
     "data": {
      "text/html": [
       "<span style=\"font-size:20px;\"> <a class=\"ProveItLink\" href=\"../__pv_it/demonstrations/edc49328a021f152ee2c8cf81542babbd16360f80/proof.ipynb\" style=\"text-decoration: none\">&nbsp;&#x22A2;&nbsp;&nbsp;</a><a class=\"ProveItLink\" href=\"../__pv_it/demonstrations/46daa5ef07fbaf2db0de502c2ef62e99beec8d660/expr.ipynb\"><img src=\"data:image/png;base64,iVBORw0KGgoAAAANSUhEUgAAAHkAAAAVBAMAAACQ4lxbAAAAMFBMVEX///9ERERUVFSYmJgQEBBm\n",
       "ZmYiIiKqqqoyMjLu7u7MzMyIiIi6urp2dnbc3NwAAAA11vaUAAAAAXRSTlMAQObYZgAAAAlwSFlz\n",
       "AAAOxAAADsQBlSsOGwAAAYhJREFUOMtjeMAABHMOMOAGz0FK+LDL3QFi7p4JeHRzKQJleQ/g1F0P\n",
       "lH57VQZTkvPuVaAuRgVsunnv3oLovgZUF8BQX4Chm5WBQR2oLgGLbr4eBjW4bu7vDPMbMHQbMzDM\n",
       "wKGbYwODIFw3jw8DP6buS7h110+A+fsahG+AobtekiEYh24RBhTdPMmYocb0f2sBDt0ea7cegOiO\n",
       "AMXLJi0sMRL/DRjZ3A4w3WFpIJAEYv4wYHAH6+ZzhjgTM8zZ78l/B8p/x7Sb8z8DQ8gEoG4+DYgM\n",
       "y08M3aYM7F+AoTOpHVP3NwYG+wMgu5dKAh2+gIHxO4ZuTwaG90AX3TiA6e8fQN0GYH8LMTDw/8Si\n",
       "m/MDMOAMGNh/YvG3GMxuUJizKGBzuR8wmT5g4HXAFt9Af8NjjNkAGt/gFAdLdicmMFjjiDHGC5zu\n",
       "iPg+GgrJJWwBMAIUjaqhB3DoZrgatAA5reEE2HWjpjWydW/Br5u1Aa/u9wV4dU8xwKl7FyinB+HT\n",
       "/lYdVHgtwCYFAFOrgbER+SVpAAAAAElFTkSuQmCC\n",
       "\" style=\"display:inline;vertical-align:middle;\" /></a></span>"
      ],
      "text/plain": [
       "|- |{3 .. 8}| = 6"
      ]
     },
     "metadata": {},
     "output_type": "display_data"
    }
   ],
   "source": [
    "interval_3_to_8.deduce_cardinality()"
   ]
  },
  {
   "cell_type": "code",
   "execution_count": 26,
   "metadata": {},
   "outputs": [
    {
     "data": {
      "text/html": [
       "<span style=\"font-size:20px;\"><a class=\"ProveItLink\" href=\"../__pv_it/demonstrations/67d383d7072d8c15ce0bbfafed4c8854255d43740/expr.ipynb\"><img src=\"data:image/png;base64,iVBORw0KGgoAAAANSUhEUgAAAEUAAAAUBAMAAAApce1IAAAAMFBMVEX///+qqqqYmJiIiIgiIiLu\n",
       "7u4QEBBUVFS6urp2dnbMzMxEREQyMjJmZmbc3NwAAADzFso2AAAAAXRSTlMAQObYZgAAAAlwSFlz\n",
       "AAAOxAAADsQBlSsOGwAAASBJREFUKM9jYACDcwwEAesHXDK8cBbjAVxquGEMviknFxBSw8AjgCoT\n",
       "8ntPAMO0bw1QNXx3Ty9g4A9A076RowDiSLCa1wycPxja0K0oeTCJgSGB4fbubbt3KzDUMTCkMZiz\n",
       "ormncAPPAwYHmDn5AQz1Dy5zQixj3uLiA2bUKfMdQKgpYWCoX7BWCyzDcRjmrjr2BZYINUDgD7Ph\n",
       "DdzpdQwbuBuQ1HB9hskgYqSOYS2rqwMinFkKYDIHkNQwCUgnIPxwG8bgSnFxcfGGqmEoZUeoYYIb\n",
       "w7oByRyGcFYHOFeSge8BlOmArIbLAK6FawIDM8w7xnA1u4DYCq7myd27VzCj9iDIS3Av+P///wfu\n",
       "oOpWCGPNN6AZrNgTFcdsaFygAACJZEjHST5yjwAAAABJRU5ErkJggg==\n",
       "\" style=\"display:inline;vertical-align:middle;\" /></a>, <a class=\"ProveItLink\" href=\"../__pv_it/demonstrations/ee3e243319395b03753051b7c169da05c910e2cf0/expr.ipynb\"><img src=\"data:image/png;base64,iVBORw0KGgoAAAANSUhEUgAAADYAAAAWBAMAAAB5x3LYAAAAMFBMVEX///+qqqqYmJiIiIgiIiLu\n",
       "7u4QEBBUVFS6urp2dnbMzMxEREQyMjJmZmbc3NwAAADzFso2AAAAAXRSTlMAQObYZgAAAAlwSFlz\n",
       "AAAOxAAADsQBlSsOGwAAAPFJREFUKM9jYACDcww4AesH3HKMB3BK8U05uQCnJI8Adj13Ty9g4A9A\n",
       "F+acfI+B4TUD5w+GNoiLDiHkDjKEPGCoY2BIYzBnBdsX6QyTYnJg4NzAkB/AUP/gMifEUGZPqOHc\n",
       "BQyMXxlKGBjqF6zVgqmHSvJfYOD6CGL4I/v07AMQFQ+U+wSkuT4jO5DjOEjn+wkQYZYCFLnTMLmf\n",
       "QPo2Sugdh5g5gYEDqI8JWRuTL9wtjEC3SDLwPYBJIfywgYHpKwPXBAZmWIgh+T2BgfcAw5O7d6/A\n",
       "YhEpzBwZwhYw+P///wdLFMROrmKgBmB1AQN4EgAA9JtCK6CYD5EAAAAASUVORK5CYII=\n",
       "\" style=\"display:inline;vertical-align:middle;\" /></a> <a class=\"ProveItLink\" href=\"../__pv_it/demonstrations/16cab0f234c819472d61c7457b37f664daaa18b70/proof.ipynb\" style=\"text-decoration: none\">&nbsp;&#x22A2;&nbsp;&nbsp;</a><a class=\"ProveItLink\" href=\"../__pv_it/demonstrations/b480b5850cc9a947a42c48cbb57207c649c7cc8b0/expr.ipynb\"><img src=\"data:image/png;base64,iVBORw0KGgoAAAANSUhEUgAAALwAAAAaBAMAAAD/IitrAAAAMFBMVEX///9ERERUVFSYmJgQEBBm\n",
       "ZmYiIiKqqqoyMjLu7u7MzMyIiIi6urp2dnbc3NwAAAA11vaUAAAAAXRSTlMAQObYZgAAAAlwSFlz\n",
       "AAAOxAAADsQBlSsOGwAAAotJREFUSMellT1s00AUx//ky40dOwEmmFyBoGKgUUfUwRKIlQJKFYSE\n",
       "oooaWGhHFkRh6VKQhQpCCCleOiKsqkKCKQM7niqgSKQDMJUiMSQpJebOZ6ckd7ZR8yT7rHv3fvf8\n",
       "3rt3QLI8Sl4y0sR+Jf8zRjnJhrpIN/VfeGkhRhcg7oiUm+Tx/+pFI5qgrT+08Z0u03jlMzZs3fwk\n",
       "sEw7wGcyKktWXFznAXmUrFB5Jw4H46LQ8hbD36O2G9cEnlfu2yjSvQ/oIrxmAF+rR4HOoEYmaKwy\n",
       "/Lq//9OmIHrqLt7RL7UmwmddaCV8aRSMAcXjKt2wboX4dA1qicOfBs5hNW9H4YsNpJrIGIr+nE0U\n",
       "yoFGofiRcognPy9xf4gLFsabV1UrCv/KQqaDVDfrfAwqyfkXny2F+OIU5BaHPwGM2ytnIoPzGkjV\n",
       "kNqRL9sivGKE+DrB/xJlf44NYvyY/87tnbt+fKHj46vAtgv5t4AeThJHAvy0SWXGnz3IQuRE4OUd\n",
       "itfOMvwfAT6nByXYEnn/wH/PIAKv7RK8NkbM6i4KIu8v9kptUYCfBUtgUKamef28aeo9fJ7isXLE\n",
       "T63UEpxrPfz60IjyfgKR3vvBwSFSmCWk+cLEXWjssNGq5WNP8ZKLH1Gx7/aOlYEs3xllFwprR6oh\n",
       "iv0oeV4Cb+IrhzaFG1j2azffpqc52OlbpTIdV5hrJACzlUqNx6td+D6H+Ccbp/bSlQva+JzntePw\n",
       "7y3kPM9b4PCp4+1jJNd6D58gYnxmcEZy+lp5eTg86Zj90mtp7IpkHXMtGU/zzuNlI9ZogvX77flE\n",
       "/HJZeFudjDW6Dbyl5X8pib9FOYodddeKJe1gSJHcGOUmhpbJGN0V4C9bTM1X4fB9lwAAAABJRU5E\n",
       "rkJggg==\n",
       "\" style=\"display:inline;vertical-align:middle;\" /></a></span>"
      ],
      "text/plain": [
       "{2^{t} in NaturalPos, 2^{t} >= 0} |- |{0 .. 2^{t}}| = (2^{t} + 1)"
      ]
     },
     "metadata": {},
     "output_type": "display_data"
    }
   ],
   "source": [
    "interval_0_to_2_pow_t.deduce_cardinality(\n",
    "    assumptions=[InSet(Exp(two, t), NaturalPos), greater_eq(Exp(two, t), zero)])"
   ]
  },
  {
   "cell_type": "markdown",
   "metadata": {},
   "source": [
    "#### Derive membership in restricted number sets.\n",
    "***First, via automation***"
   ]
  },
  {
   "cell_type": "code",
   "execution_count": 27,
   "metadata": {},
   "outputs": [
    {
     "data": {
      "text/html": [
       "<span style=\"font-size:20px;\"><a class=\"ProveItLink\" href=\"../__pv_it/demonstrations/4b9361cacc232422bcbc11325a364dfbf97ba0610/expr.ipynb\"><img src=\"data:image/png;base64,iVBORw0KGgoAAAANSUhEUgAAAG0AAAAVBAMAAAC+p33JAAAAMFBMVEX///9ERES6uroQEBAyMjLc\n",
       "3NyYmJgiIiJmZmaqqqp2dnbMzMxUVFSIiIju7u4AAAAd7oVFAAAAAXRSTlMAQObYZgAAAAlwSFlz\n",
       "AAAOxAAADsQBlSsOGwAAAW1JREFUOMtjYMAG+JQYcAPWqTilrujh0cewRw6HBOc/oKkdjhuwye0A\n",
       "Yhkc+rgKGBgCGbg+YZOrAeLlePQdZWAwxiLFi0Ufr3h5CVyf/QOG8wGY+rb5YOhj8n2AZN9xBobz\n",
       "WDy4AK7v7Z3XqyaAGCEPkN0JBPVYnBkA19fAe5YDrM4VLsvhACK5/2LqC2MA6bsMxGwBbP94EkBi\n",
       "DnDZYDCf/QAWZ4L1xQPdxw01nYHbvLy8vBDEinECCzRiamMLAOvjOwLyGPMFSNoSgMlyN4J8yobF\n",
       "ulgGsD4usMH6AXzgECmASzOCtMxiYMWIB50zZz6fYmCYD1T/UOEwAxdY8C5KvHMvYOB9gCXibYB4\n",
       "MRDP39fMoAkWYZmArC+8o6MdzHkP9D7fF7i+j9B4eHGXsw2ige+gHpK++v//IYrZG4BEBUxb4/+z\n",
       "GOmMaSFSOsMH8KVrcvTxGuDX14KrJPiJVxufGS6ZiJP4ypc1wHAEANorXLEVnYr+AAAAAElFTkSu\n",
       "QmCC\n",
       "\" style=\"display:inline;vertical-align:middle;\" /></a> <a class=\"ProveItLink\" href=\"../__pv_it/demonstrations/efe8a1ecb8ac4bcb24a68c54f54ab7ad905cc5ea0/proof.ipynb\" style=\"text-decoration: none\">&nbsp;&#x22A2;&nbsp;&nbsp;</a><a class=\"ProveItLink\" href=\"../__pv_it/theorems/9dfd51fc82a5dda1e85f06fc33528e3db8c0b6dc0/expr.ipynb\"><img src=\"data:image/png;base64,iVBORw0KGgoAAAANSUhEUgAAADMAAAAQBAMAAABJt1qBAAAAMFBMVEX///9ERES6uroQEBAyMjLc\n",
       "3NyYmJgiIiJmZmaqqqp2dnbMzMxUVFSIiIju7u4AAAAd7oVFAAAAAXRSTlMAQObYZgAAAAlwSFlz\n",
       "AAAOxAAADsQBlSsOGwAAAN1JREFUGNNjYMAEU+xNxAvNGLCBi6cZWBgcsEp1MDBc45qAVeooA5/A\n",
       "Q1QhXvHyEhD9gIFjw2kUGSbfBzDmHu4GEPX2zutVYIND4DIMcoxgdgPvWY4CEMMVLsO5IBdEsQWw\n",
       "/eNJALEQzoU6nZuBAyLGbV5eXl4IZt7kUmDgAzGYL4D5fAIwTXwCgQwMPAFAln4AH9jSApgUz4aj\n",
       "DAzvGRgeKhxm4AKL3IVJ7WACOv04A8P8fc0MmhDLYWEjx/KAIXAiA8OLu5xtEDG+g3oQrxs6Cwp/\n",
       "lkINjoWQgIICAM0UMqoFj6RNAAAAAElFTkSuQmCC\n",
       "\" style=\"display:inline;vertical-align:middle;\" /></a></span>"
      ],
      "text/plain": [
       "{x in {2 .. 4}} |- x in Integer"
      ]
     },
     "metadata": {},
     "output_type": "display_data"
    }
   ],
   "source": [
    "InSet(x, Integer).prove(assumptions=[InSet(x, Interval(two, four))])"
   ]
  },
  {
   "cell_type": "code",
   "execution_count": 28,
   "metadata": {},
   "outputs": [
    {
     "data": {
      "text/html": [
       "<span style=\"font-size:20px;\"><a class=\"ProveItLink\" href=\"../__pv_it/demonstrations/4b9361cacc232422bcbc11325a364dfbf97ba0610/expr.ipynb\"><img src=\"data:image/png;base64,iVBORw0KGgoAAAANSUhEUgAAAG0AAAAVBAMAAAC+p33JAAAAMFBMVEX///9ERES6uroQEBAyMjLc\n",
       "3NyYmJgiIiJmZmaqqqp2dnbMzMxUVFSIiIju7u4AAAAd7oVFAAAAAXRSTlMAQObYZgAAAAlwSFlz\n",
       "AAAOxAAADsQBlSsOGwAAAW1JREFUOMtjYMAG+JQYcAPWqTilrujh0cewRw6HBOc/oKkdjhuwye0A\n",
       "Yhkc+rgKGBgCGbg+YZOrAeLlePQdZWAwxiLFi0Ufr3h5CVyf/QOG8wGY+rb5YOhj8n2AZN9xBobz\n",
       "WDy4AK7v7Z3XqyaAGCEPkN0JBPVYnBkA19fAe5YDrM4VLsvhACK5/2LqC2MA6bsMxGwBbP94EkBi\n",
       "DnDZYDCf/QAWZ4L1xQPdxw01nYHbvLy8vBDEinECCzRiamMLAOvjOwLyGPMFSNoSgMlyN4J8yobF\n",
       "ulgGsD4usMH6AXzgECmASzOCtMxiYMWIB50zZz6fYmCYD1T/UOEwAxdY8C5KvHMvYOB9gCXibYB4\n",
       "MRDP39fMoAkWYZmArC+8o6MdzHkP9D7fF7i+j9B4eHGXsw2ige+gHpK++v//IYrZG4BEBUxb4/+z\n",
       "GOmMaSFSOsMH8KVrcvTxGuDX14KrJPiJVxufGS6ZiJP4ypc1wHAEANorXLEVnYr+AAAAAElFTkSu\n",
       "QmCC\n",
       "\" style=\"display:inline;vertical-align:middle;\" /></a> <a class=\"ProveItLink\" href=\"../__pv_it/demonstrations/c42d76b4d9d7268823431c3210f8b7e91059e4ea0/proof.ipynb\" style=\"text-decoration: none\">&nbsp;&#x22A2;&nbsp;&nbsp;</a><a class=\"ProveItLink\" href=\"../../natural_numbers/__pv_it/theorems/8c13e7bcba0a4bd4dd1c903dda9179f0c1a274990/expr.ipynb\"><img src=\"data:image/png;base64,iVBORw0KGgoAAAANSUhEUgAAADQAAAAQBAMAAACra0H4AAAAMFBMVEX///9ERES6uroQEBAyMjLc\n",
       "3NyYmJgiIiJmZmaqqqp2dnbMzMxUVFSIiIju7u4AAAAd7oVFAAAAAXRSTlMAQObYZgAAAAlwSFlz\n",
       "AAAOxAAADsQBlSsOGwAAAN5JREFUGNNjYMAAfPWCfgxc9kYMWADjBB0GhvfYZBh4SrkSGJixS01k\n",
       "cGVgRxG6WF7uAJYKuxCCKqVyD6Yr4DTvApDU2zuvV00A0qx+cAMDGBmEQFINvGc5CoA0SwBCirvh\n",
       "+XMGBrYAtn88CSAphDMCGDI5hRkYuBk4wHYzbC4HAgGoFM+DwyAW8wWw1ENkXXwHnoNY+gF8D4AU\n",
       "O7IUw15GoGKFwwxcIAHeC/CA2gDkbWRgmL+vmUETLOIJk2IB+aWFgeHFXc62CWCRN0IPwDS3vyGQ\n",
       "fIISUFrikICCAgA/wDGOvGvv4AAAAABJRU5ErkJggg==\n",
       "\" style=\"display:inline;vertical-align:middle;\" /></a></span>"
      ],
      "text/plain": [
       "{x in {2 .. 4}} |- x in Natural"
      ]
     },
     "metadata": {},
     "output_type": "display_data"
    }
   ],
   "source": [
    "InSet(x, Natural).prove(assumptions=[InSet(x, Interval(two, four))])"
   ]
  },
  {
   "cell_type": "code",
   "execution_count": 29,
   "metadata": {},
   "outputs": [
    {
     "data": {
      "text/html": [
       "<span style=\"font-size:20px;\"><a class=\"ProveItLink\" href=\"../__pv_it/demonstrations/4b9361cacc232422bcbc11325a364dfbf97ba0610/expr.ipynb\"><img src=\"data:image/png;base64,iVBORw0KGgoAAAANSUhEUgAAAG0AAAAVBAMAAAC+p33JAAAAMFBMVEX///9ERES6uroQEBAyMjLc\n",
       "3NyYmJgiIiJmZmaqqqp2dnbMzMxUVFSIiIju7u4AAAAd7oVFAAAAAXRSTlMAQObYZgAAAAlwSFlz\n",
       "AAAOxAAADsQBlSsOGwAAAW1JREFUOMtjYMAG+JQYcAPWqTilrujh0cewRw6HBOc/oKkdjhuwye0A\n",
       "Yhkc+rgKGBgCGbg+YZOrAeLlePQdZWAwxiLFi0Ufr3h5CVyf/QOG8wGY+rb5YOhj8n2AZN9xBobz\n",
       "WDy4AK7v7Z3XqyaAGCEPkN0JBPVYnBkA19fAe5YDrM4VLsvhACK5/2LqC2MA6bsMxGwBbP94EkBi\n",
       "DnDZYDCf/QAWZ4L1xQPdxw01nYHbvLy8vBDEinECCzRiamMLAOvjOwLyGPMFSNoSgMlyN4J8yobF\n",
       "ulgGsD4usMH6AXzgECmASzOCtMxiYMWIB50zZz6fYmCYD1T/UOEwAxdY8C5KvHMvYOB9gCXibYB4\n",
       "MRDP39fMoAkWYZmArC+8o6MdzHkP9D7fF7i+j9B4eHGXsw2ige+gHpK++v//IYrZG4BEBUxb4/+z\n",
       "GOmMaSFSOsMH8KVrcvTxGuDX14KrJPiJVxufGS6ZiJP4ypc1wHAEANorXLEVnYr+AAAAAElFTkSu\n",
       "QmCC\n",
       "\" style=\"display:inline;vertical-align:middle;\" /></a> <a class=\"ProveItLink\" href=\"../__pv_it/demonstrations/307c3db83da2078ae4a5784ff3b7ecd278a00e5c0/proof.ipynb\" style=\"text-decoration: none\">&nbsp;&#x22A2;&nbsp;&nbsp;</a><a class=\"ProveItLink\" href=\"../../natural_numbers/__pv_it/theorems/eeefdffd3aa81290285f57914cfcea6647727dd80/expr.ipynb\"><img src=\"data:image/png;base64,iVBORw0KGgoAAAANSUhEUgAAAEAAAAATBAMAAADSXRa0AAAAMFBMVEX///9ERES6uroQEBAyMjLc\n",
       "3NyYmJgiIiJmZmaqqqp2dnbMzMxUVFSIiIju7u4AAAAd7oVFAAAAAXRSTlMAQObYZgAAAAlwSFlz\n",
       "AAAOxAAADsQBlSsOGwAAAO5JREFUKM9jYMAHGhgIAAHyFPDVC/oxcNkb4TaBcYIOA8N7PFbwlHIl\n",
       "MDAzcAgKGgqKYVUwkcGVgR2LCRfLyx3ACsIuhGBToHIPZkLAad4FCAVv77xeNQFIs/rBrQhgZBBC\n",
       "KGjgPctRAKRZAhAKuBueP4eFJFsA2z+eBJAChCMDGDI5hWE8bgYOsMsYNpcDgQBUAc+DwwjHMV8A\n",
       "Uw+RTeA78ByhQD+A7wGQYkdWwLCXEcZ7qHCYgQvE4L0AD+oNQN5GGG/+vmYGTTDLEybEAvJ1C4z3\n",
       "4i5n2wQw643QA4iz/Q2B5BMscaAlDglqFAAASi0zkHb1wmgAAAAASUVORK5CYII=\n",
       "\" style=\"display:inline;vertical-align:middle;\" /></a></span>"
      ],
      "text/plain": [
       "{x in {2 .. 4}} |- x in NaturalPos"
      ]
     },
     "metadata": {},
     "output_type": "display_data"
    }
   ],
   "source": [
    "InSet(x, NaturalPos).prove(assumptions=[InSet(x, Interval(two, four))])"
   ]
  },
  {
   "cell_type": "code",
   "execution_count": 30,
   "metadata": {},
   "outputs": [
    {
     "data": {
      "text/html": [
       "<span style=\"font-size:20px;\"><a class=\"ProveItLink\" href=\"../__pv_it/demonstrations/a2bc599bf0f0f65acede773ef671aee29194b8f50/expr.ipynb\"><img src=\"data:image/png;base64,iVBORw0KGgoAAAANSUhEUgAAADAAAAAQBAMAAACigOGCAAAAMFBMVEX///9UVFQyMjK6urru7u4Q\n",
       "EBBERERmZmaqqqoiIiLc3NzMzMyYmJiIiIh2dnYAAABC1PP/AAAAAXRSTlMAQObYZgAAAAlwSFlz\n",
       "AAAOxAAADsQBlSsOGwAAAMxJREFUGNNjYEAHHKpf1WamHsAQZ+BN3MCgwIQpzsBewMB74AUWCcYF\n",
       "DG4sCchGZM6cBKJZGBiqGTcgxJl1HWBMboHtYPrtHZD8Irg4A5tDCoha2cAOMlELobmP5wKImsfA\n",
       "CqIVEBIQx7J/gZgbOXPmzGkQVzQ8ZmBwYGCFuAzJgW5cQLYUg/8FCHcCXEIa6BOWDwz8wFAxAHLv\n",
       "wh1bYA705QQGoJP4QM5laoA7VoWBKwNo2rszV8CWiJlAJEyTwtLiwx4gef0ZJEigAAAe6izrPPGo\n",
       "iAAAAABJRU5ErkJggg==\n",
       "\" style=\"display:inline;vertical-align:middle;\" /></a>, <a class=\"ProveItLink\" href=\"../__pv_it/demonstrations/ce2036f1d2e534f263518445e270cc2a8e5c787c0/expr.ipynb\"><img src=\"data:image/png;base64,iVBORw0KGgoAAAANSUhEUgAAADIAAAAQBAMAAACmdTG/AAAAMFBMVEX///+YmJhERESIiIhUVFTc\n",
       "3NwiIiJ2dnbu7u66urqqqqpmZmYQEBAyMjLMzMwAAAA7oY0NAAAAAXRSTlMAQObYZgAAAAlwSFlz\n",
       "AAAOxAAADsQBlSsOGwAAAO5JREFUGNNjYMAAXHf+XErTEQAx+e5sQJZhVnnAcIEXwuZfgCzDvYGB\n",
       "WaAKwp7fgCzDEsDQxKEAYZdBTFFLywXRHAwM+1geQGRugwjOy3CdfA6vQRSru90vEB2LMJKpQQNE\n",
       "zQlg+gGiryJsWs5oADL1IAP3BRD3AkIG4mbuDwxsBSCzj6WlpSVBnLKgkoGhgYFHgaF/AkivAlxL\n",
       "EyuQ7crQb8AgD+YnwGX8gD7i+MDQv4DBlysAyDeGu3nDbKB3ExiYDLiyuUECvAvgbr7BwKqlwMDh\n",
       "XBdiB/a60wyIzBzdQ0rnDxUghRdnESR0oAAAxkg0FzvmB/wAAAAASUVORK5CYII=\n",
       "\" style=\"display:inline;vertical-align:middle;\" /></a>, <a class=\"ProveItLink\" href=\"../__pv_it/demonstrations/576f33253b8bac062b1752e47c2d4747a39338f50/expr.ipynb\"><img src=\"data:image/png;base64,iVBORw0KGgoAAAANSUhEUgAAAG0AAAAVBAMAAAC+p33JAAAAMFBMVEX///9ERES6uroQEBAyMjLc\n",
       "3NyYmJgiIiJmZmaqqqp2dnbMzMxUVFSIiIju7u4AAAAd7oVFAAAAAXRSTlMAQObYZgAAAAlwSFlz\n",
       "AAAOxAAADsQBlSsOGwAAAWVJREFUOMtjYMAG+JQYcAPWqTilrujh0cewRw6HBOc/3Jq2WDAwyOCQ\n",
       "4yrAY9tPBoblZOhj+oeh72J5uQNBfSA5VH0q94ixj6UBqu/tnderJoCC1w/VnVx3szF1xazdPwGq\n",
       "r4H3LAdIHUsAXJYD6FzWSoZGTM+ZMsg/YGC4DGSyBbD940kA6UNIBwP57AsYbDH0PU5gaAFS8UA7\n",
       "ucGmA8HmciAQADvGCUj0P8DiuX4GhipQcjoC8hjzBbDYQ7gsdyNQjyG2QDFk4PsE8jrIYAb9AD6Q\n",
       "2ewIacYDDHx/sSXbvwxsH4D0fKD6hwqHGbhAgrwXUMLzGzAUMPT9ZOBxAKbqxSC9+5oZNMGinij6\n",
       "gIG5GsR+D/Q93xeohCzD9AZo/L24y9k2ASz4RugBkj6uZblgLjtQHUMFVOLNra1nN2CkMy1xItIZ\n",
       "CJCTrvHp4zXAr68FV0nwE682PjNcMhEn8ZUva4DhCACzCVplcFqVGQAAAABJRU5ErkJggg==\n",
       "\" style=\"display:inline;vertical-align:middle;\" /></a>, <a class=\"ProveItLink\" href=\"../__pv_it/demonstrations/f0c4794755cdf3f21876901f5b8e2d31fcb0bf390/expr.ipynb\"><img src=\"data:image/png;base64,iVBORw0KGgoAAAANSUhEUgAAAC8AAAAQBAMAAAB0JTvnAAAAMFBMVEX///9UVFQyMjK6urru7u4Q\n",
       "EBBERERmZmaqqqoiIiLc3NzMzMyYmJiIiIh2dnYAAABC1PP/AAAAAXRSTlMAQObYZgAAAAlwSFlz\n",
       "AAAOxAAADsQBlSsOGwAAALFJREFUGNNjYMAC3l1fgE2YgamBZRZWiZMMDM8QPKcDcGYiA0O/A5zH\n",
       "8vICjPmdgWF/A5B+e2cDmH/zCVQJSAKof2UDewLU7BIwxfUPKAHUPo+BFWZIUxVc4gED+xck9xiJ\n",
       "gIwCSthfYGBNQJZIgVre38DgfwEh3iQFptIYGM47MPAD7TeAWl4FoY8yMBQxMACdxIfqXAbOBpZo\n",
       "UIiduQJ2/U24mSx1FzcgzPc8wEAcAADAmjSRZmeBcQAAAABJRU5ErkJggg==\n",
       "\" style=\"display:inline;vertical-align:middle;\" /></a> <a class=\"ProveItLink\" href=\"../__pv_it/demonstrations/38be3025aa6551ae4bd05e79b39e518d9836c8a30/proof.ipynb\" style=\"text-decoration: none\">&nbsp;&#x22A2;&nbsp;&nbsp;</a><a class=\"ProveItLink\" href=\"../../natural_numbers/__pv_it/theorems/eeefdffd3aa81290285f57914cfcea6647727dd80/expr.ipynb\"><img src=\"data:image/png;base64,iVBORw0KGgoAAAANSUhEUgAAAEAAAAATBAMAAADSXRa0AAAAMFBMVEX///9ERES6uroQEBAyMjLc\n",
       "3NyYmJgiIiJmZmaqqqp2dnbMzMxUVFSIiIju7u4AAAAd7oVFAAAAAXRSTlMAQObYZgAAAAlwSFlz\n",
       "AAAOxAAADsQBlSsOGwAAAO5JREFUKM9jYMAHGhgIAAHyFPDVC/oxcNkb4TaBcYIOA8N7PFbwlHIl\n",
       "MDAzcAgKGgqKYVUwkcGVgR2LCRfLyx3ACsIuhGBToHIPZkLAad4FCAVv77xeNQFIs/rBrQhgZBBC\n",
       "KGjgPctRAKRZAhAKuBueP4eFJFsA2z+eBJAChCMDGDI5hWE8bgYOsMsYNpcDgQBUAc+DwwjHMV8A\n",
       "Uw+RTeA78ByhQD+A7wGQYkdWwLCXEcZ7qHCYgQvE4L0AD+oNQN5GGG/+vmYGTTDLEybEAvJ1C4z3\n",
       "4i5n2wQw643QA4iz/Q2B5BMscaAlDglqFAAASi0zkHb1wmgAAAAASUVORK5CYII=\n",
       "\" style=\"display:inline;vertical-align:middle;\" /></a></span>"
      ],
      "text/plain": [
       "{c in Integer, d in Integer, x in {c .. d}, c > 0} |- x in NaturalPos"
      ]
     },
     "metadata": {},
     "output_type": "display_data"
    }
   ],
   "source": [
    "InSet(x, NaturalPos).prove(\n",
    "    assumptions = [x_in_c_d_interval, InSet(c, Integer),\n",
    "                   InSet(d, Integer), greater(c, zero), LessEq(c, d)])"
   ]
  },
  {
   "cell_type": "code",
   "execution_count": 31,
   "metadata": {},
   "outputs": [
    {
     "data": {
      "text/html": [
       "<span style=\"font-size:20px;\"> <a class=\"ProveItLink\" href=\"../__pv_it/demonstrations/37e92bff5dec71199dd510888ee8637e39a901ff0/proof.ipynb\" style=\"text-decoration: none\">&nbsp;&#x22A2;&nbsp;&nbsp;</a><a class=\"ProveItLink\" href=\"../__pv_it/demonstrations/3f1b4929031d802721411102878e2c3831aca3890/expr.ipynb\"><img src=\"data:image/png;base64,iVBORw0KGgoAAAANSUhEUgAAAGUAAAAYBAMAAAAR7i7jAAAAMFBMVEX////MzMxUVFRERES6uroi\n",
       "IiIQEBCYmJhmZmYyMjLu7u52dnaqqqqIiIjc3NwAAACW8nlqAAAAAXRSTlMAQObYZgAAAAlwSFlz\n",
       "AAAOxAAADsQBlSsOGwAAAcZJREFUOMtjYCAB8NgxcO/dwECSFlsGhloGZ1K0sJsDiUQG/gdA6gGK\n",
       "DB8uLbw2INlfDGwHgOwDKFIsF9BdNO3b5FCzAsYcEIfxFwNrAQPDaYT06x0mDAzX0c03EmCYwMnA\n",
       "cHgXRA/bBQauCXBZrgaG8wcYOBeg6uFoYOAt2ANkOO8Cu43/AANHAcLEPwzrJzCwN6DqYXrAsJjL\n",
       "AMQS6oOGARuSV1IY+IG2ZkFNMA2NBNvOwNDIJAAWeqTFcJfBiYHhJIqh54G2TocYMBfuRkYFCSjr\n",
       "ATBOuxgYulECLRxIbAIzXyK8xbzACtW505HYjJcUgWQlmD0PIXyaHS38Y1DdBoysY2AWIjjBIc3A\n",
       "aAwEdhCBFKAvp4aCAMifbL8YGOTBVqYCRYIhgXFgCwMDSgSkIDlNgIH5DwODGzi0DODCi/mAbD0c\n",
       "buP/BdZzFMwJgAsrAmOI6wOyHlsEk00B7LZiMOcu3PYGD2DEBiDr2YSU2AvA8QMJfc4D8JCexcBn\n",
       "Y4CsRxSJ7dEBTKMMIZDEp+wFEXSzTDbOT0bJnawCaOmYD+oMls2QtIMt96ElSeREixPYofEfE5HN\n",
       "FxMwAxvgQ01MvA8I6gAA+Jphx8LKa+YAAAAASUVORK5CYII=\n",
       "\" style=\"display:inline;vertical-align:middle;\" /></a></span>"
      ],
      "text/plain": [
       "|- (-3) in IntegerNonPos"
      ]
     },
     "metadata": {},
     "output_type": "display_data"
    }
   ],
   "source": [
    "Neg(three).deduce_in_number_set(IntegerNonPos, automation=False)"
   ]
  },
  {
   "cell_type": "code",
   "execution_count": 32,
   "metadata": {},
   "outputs": [
    {
     "data": {
      "text/html": [
       "<span style=\"font-size:20px;\"><a class=\"ProveItLink\" href=\"../__pv_it/demonstrations/d3ec175c9c6aa6d8275817494fe30f331eaf15940/expr.ipynb\"><img src=\"data:image/png;base64,iVBORw0KGgoAAAANSUhEUgAAAJcAAAAVBAMAAAC5yWGZAAAAMFBMVEX///9ERES6uroQEBAyMjLc\n",
       "3NyYmJgiIiJmZmaqqqp2dnbMzMxUVFSIiIju7u4AAAAd7oVFAAAAAXRSTlMAQObYZgAAAAlwSFlz\n",
       "AAAOxAAADsQBlSsOGwAAAXhJREFUOMtjYMAKHikwkAZYp+KU4nV6QKJhDHvkcMnMRzFrBwFzolYI\n",
       "AUkZXNLLUXg1+M3ia2CYPwFdDy7DeAkYxvuT4b0DhmG84uUlWAzb5oPfMCYjBn4Mw5h8H2B12QIf\n",
       "gqE/PwGq5+2d16smgBghD7B6kzeAoGFMZTA9DbxnOQpADFeEbAuSyjAGQoZx3zkNJC8DMVsA2z+e\n",
       "BJCYAyIFmiH7koEIbwK9Fg/E3AwcEFO4zcvLywvBZh0Bpn8+93IQ2MAWgN2wJ2DpagiH+R9QwxFQ\n",
       "YDFfgCQXAUQqRUrNsQyEXMa9gYHxJwMDlxOIox/ABw76AoQ8UmrWOXPm8ym8hvH/AxsGyjUPFQ4z\n",
       "cIEF7+LKATb4XcZ8AOzNxaCw29fMoAkWZJmAw7CPYBKUyiEEGmBLgKezF3c52yCm8B3Uw2pY4/+z\n",
       "IIq9AUagA40OIQwHMDAtxJqdiATLSZYgx7DLZBjWgksifgLJZvGZ4SzRe0g1jXUNUAcARE5lUgUz\n",
       "Pe0AAAAASUVORK5CYII=\n",
       "\" style=\"display:inline;vertical-align:middle;\" /></a> <a class=\"ProveItLink\" href=\"../__pv_it/demonstrations/6fda910bbd9a3be4ff3e5a61d6e57194adf02e320/proof.ipynb\" style=\"text-decoration: none\">&nbsp;&#x22A2;&nbsp;&nbsp;</a><a class=\"ProveItLink\" href=\"../__pv_it/demonstrations/f51fe37a5b1d9a1ca4dd2370134d2b4efe165f9d0/expr.ipynb\"><img src=\"data:image/png;base64,iVBORw0KGgoAAAANSUhEUgAAAEgAAAAUBAMAAADcj2b4AAAAMFBMVEX///9ERES6uroQEBAyMjLc\n",
       "3NyYmJgiIiJmZmaqqqp2dnbMzMxUVFSIiIju7u4AAAAd7oVFAAAAAXRSTlMAQObYZgAAAAlwSFlz\n",
       "AAAOxAAADsQBlSsOGwAAATxJREFUKM9jYMALJgYwrLrFQEDNBQa2C0wCeNUkJjAwMG9g+IpPzcUJ\n",
       "QCL+AYMlNskp9ibihWYMm0FqGPY/YCjDasJpBhYGBwZOqQcQRbbYFHUwMFzjAhrDBFIFtO4nNkVH\n",
       "GfgEHoIY3CcCMBzOK15eAqIfMHBsOA0WYT3zgPcC0wEkNUy+D2DMPdwNEAYrA8OqG0Dht3derwL7\n",
       "IwSuhkGO8QGqCxp4z3IUgBiucCHOBbmoatgC2P7xJIBYDnAxFjB7oyAQBIAFuBk4ILLc5uXl5YVg\n",
       "5k0uBQY+VLOYL4ApPng88gkEMjDwBKAo0g/gAzuzACbAs+EoA8N7ZCUPFQ4zcIFZd2FCO5iAAXAc\n",
       "WdH8fc0MmhDnToAFAMsDhsCJyIpe3OVsg8jyHdSDBKqhs6DwZykc6YdpISRaMAAAUgJPzLNJij4A\n",
       "AAAASUVORK5CYII=\n",
       "\" style=\"display:inline;vertical-align:middle;\" /></a></span>"
      ],
      "text/plain": [
       "{x in {-4 .. -3}} |- x in IntegerNonPos"
      ]
     },
     "metadata": {},
     "output_type": "display_data"
    }
   ],
   "source": [
    "InSet(x, IntegerNonPos).prove(assumptions=[InSet(x, Interval(Neg(four), Neg(three)))])"
   ]
  },
  {
   "cell_type": "code",
   "execution_count": 33,
   "metadata": {},
   "outputs": [
    {
     "data": {
      "text/html": [
       "<span style=\"font-size:20px;\"><a class=\"ProveItLink\" href=\"../__pv_it/demonstrations/d3ec175c9c6aa6d8275817494fe30f331eaf15940/expr.ipynb\"><img src=\"data:image/png;base64,iVBORw0KGgoAAAANSUhEUgAAAJcAAAAVBAMAAAC5yWGZAAAAMFBMVEX///9ERES6uroQEBAyMjLc\n",
       "3NyYmJgiIiJmZmaqqqp2dnbMzMxUVFSIiIju7u4AAAAd7oVFAAAAAXRSTlMAQObYZgAAAAlwSFlz\n",
       "AAAOxAAADsQBlSsOGwAAAXhJREFUOMtjYMAKHikwkAZYp+KU4nV6QKJhDHvkcMnMRzFrBwFzolYI\n",
       "AUkZXNLLUXg1+M3ia2CYPwFdDy7DeAkYxvuT4b0DhmG84uUlWAzb5oPfMCYjBn4Mw5h8H2B12QIf\n",
       "gqE/PwGq5+2d16smgBghD7B6kzeAoGFMZTA9DbxnOQpADFeEbAuSyjAGQoZx3zkNJC8DMVsA2z+e\n",
       "BJCYAyIFmiH7koEIbwK9Fg/E3AwcEFO4zcvLywvBZh0Bpn8+93IQ2MAWgN2wJ2DpagiH+R9QwxFQ\n",
       "YDFfgCQXAUQqRUrNsQyEXMa9gYHxJwMDlxOIox/ABw76AoQ8UmrWOXPm8ym8hvH/AxsGyjUPFQ4z\n",
       "cIEF7+LKATb4XcZ8AOzNxaCw29fMoAkWZJmAw7CPYBKUyiEEGmBLgKezF3c52yCm8B3Uw2pY4/+z\n",
       "IIq9AUagA40OIQwHMDAtxJqdiATLSZYgx7DLZBjWgksifgLJZvGZ4SzRe0g1jXUNUAcARE5lUgUz\n",
       "Pe0AAAAASUVORK5CYII=\n",
       "\" style=\"display:inline;vertical-align:middle;\" /></a> <a class=\"ProveItLink\" href=\"../__pv_it/demonstrations/4e8aeabe78781f620cae94ed9a8cbdd2513a96a20/proof.ipynb\" style=\"text-decoration: none\">&nbsp;&#x22A2;&nbsp;&nbsp;</a><a class=\"ProveItLink\" href=\"../__pv_it/demonstrations/72d5b8e725d24a9137d7086f16df0a6b6bf0a0d50/expr.ipynb\"><img src=\"data:image/png;base64,iVBORw0KGgoAAAANSUhEUgAAAD8AAAAQBAMAAABTi7oPAAAAMFBMVEX///9ERES6uroQEBAyMjLc\n",
       "3NyYmJgiIiJmZmaqqqp2dnbMzMxUVFSIiIju7u4AAAAd7oVFAAAAAXRSTlMAQObYZgAAAAlwSFlz\n",
       "AAAOxAAADsQBlSsOGwAAAOVJREFUKM9jYMAEU+xNxAvNGHCDi6cZWBgc8CjoYGC4xjWBYaMgEARg\n",
       "U3CUgU/gITYJXvHyEhD9gIFjw2ks8ky+D2DMPdwNCPG3d16vmgBihMDlGeQYEWyGBt6zHAUghitc\n",
       "iHNBLkKeLYDtH08CiIXwGIonuRk4IDxu8/Ly8kIw8yaXAgMfQgnzBTDFJwAT4BMIZGDgQYSAfgAf\n",
       "2EkFMAGeDUcZGN7DeA8VDjNwgVl3YUI7mICePA7jzd/XzKAJcdoEmCdZHjAEToQpeHGXsw0iw3dQ\n",
       "DxJghs6Cwp+lsAXlQkhQowAA+CAz79dtbnIAAAAASUVORK5CYII=\n",
       "\" style=\"display:inline;vertical-align:middle;\" /></a></span>"
      ],
      "text/plain": [
       "{x in {-4 .. -3}} |- x in IntegerNeg"
      ]
     },
     "metadata": {},
     "output_type": "display_data"
    }
   ],
   "source": [
    "InSet(x, IntegerNeg).prove(assumptions=[InSet(x, Interval(Neg(four), Neg(three)))])"
   ]
  },
  {
   "cell_type": "markdown",
   "metadata": {},
   "source": [
    "***Now done manually***"
   ]
  },
  {
   "cell_type": "code",
   "execution_count": 34,
   "metadata": {},
   "outputs": [
    {
     "data": {
      "text/html": [
       "<span style=\"font-size:20px;\"><a class=\"ProveItLink\" href=\"../__pv_it/demonstrations/4b9361cacc232422bcbc11325a364dfbf97ba0610/expr.ipynb\"><img src=\"data:image/png;base64,iVBORw0KGgoAAAANSUhEUgAAAG0AAAAVBAMAAAC+p33JAAAAMFBMVEX///9ERES6uroQEBAyMjLc\n",
       "3NyYmJgiIiJmZmaqqqp2dnbMzMxUVFSIiIju7u4AAAAd7oVFAAAAAXRSTlMAQObYZgAAAAlwSFlz\n",
       "AAAOxAAADsQBlSsOGwAAAW1JREFUOMtjYMAG+JQYcAPWqTilrujh0cewRw6HBOc/oKkdjhuwye0A\n",
       "Yhkc+rgKGBgCGbg+YZOrAeLlePQdZWAwxiLFi0Ufr3h5CVyf/QOG8wGY+rb5YOhj8n2AZN9xBobz\n",
       "WDy4AK7v7Z3XqyaAGCEPkN0JBPVYnBkA19fAe5YDrM4VLsvhACK5/2LqC2MA6bsMxGwBbP94EkBi\n",
       "DnDZYDCf/QAWZ4L1xQPdxw01nYHbvLy8vBDEinECCzRiamMLAOvjOwLyGPMFSNoSgMlyN4J8yobF\n",
       "ulgGsD4usMH6AXzgECmASzOCtMxiYMWIB50zZz6fYmCYD1T/UOEwAxdY8C5KvHMvYOB9gCXibYB4\n",
       "MRDP39fMoAkWYZmArC+8o6MdzHkP9D7fF7i+j9B4eHGXsw2ige+gHpK++v//IYrZG4BEBUxb4/+z\n",
       "GOmMaSFSOsMH8KVrcvTxGuDX14KrJPiJVxufGS6ZiJP4ypc1wHAEANorXLEVnYr+AAAAAElFTkSu\n",
       "QmCC\n",
       "\" style=\"display:inline;vertical-align:middle;\" /></a> <a class=\"ProveItLink\" href=\"../__pv_it/demonstrations/efe8a1ecb8ac4bcb24a68c54f54ab7ad905cc5ea0/proof.ipynb\" style=\"text-decoration: none\">&nbsp;&#x22A2;&nbsp;&nbsp;</a><a class=\"ProveItLink\" href=\"../__pv_it/theorems/9dfd51fc82a5dda1e85f06fc33528e3db8c0b6dc0/expr.ipynb\"><img src=\"data:image/png;base64,iVBORw0KGgoAAAANSUhEUgAAADMAAAAQBAMAAABJt1qBAAAAMFBMVEX///9ERES6uroQEBAyMjLc\n",
       "3NyYmJgiIiJmZmaqqqp2dnbMzMxUVFSIiIju7u4AAAAd7oVFAAAAAXRSTlMAQObYZgAAAAlwSFlz\n",
       "AAAOxAAADsQBlSsOGwAAAN1JREFUGNNjYMAEU+xNxAvNGLCBi6cZWBgcsEp1MDBc45qAVeooA5/A\n",
       "Q1QhXvHyEhD9gIFjw2kUGSbfBzDmHu4GEPX2zutVYIND4DIMcoxgdgPvWY4CEMMVLsO5IBdEsQWw\n",
       "/eNJALEQzoU6nZuBAyLGbV5eXl4IZt7kUmDgAzGYL4D5fAIwTXwCgQwMPAFAln4AH9jSApgUz4aj\n",
       "DAzvGRgeKhxm4AKL3IVJ7WACOv04A8P8fc0MmhDLYWEjx/KAIXAiA8OLu5xtEDG+g3oQrxs6Cwp/\n",
       "lkINjoWQgIICAM0UMqoFj6RNAAAAAElFTkSuQmCC\n",
       "\" style=\"display:inline;vertical-align:middle;\" /></a></span>"
      ],
      "text/plain": [
       "{x in {2 .. 4}} |- x in Integer"
      ]
     },
     "metadata": {},
     "output_type": "display_data"
    }
   ],
   "source": [
    "InSet(x, Interval(two, four)).derive_element_in_integer(\n",
    "    assumptions=[InSet(x, Interval(two, four))])"
   ]
  },
  {
   "cell_type": "code",
   "execution_count": 35,
   "metadata": {},
   "outputs": [
    {
     "data": {
      "text/html": [
       "<span style=\"font-size:20px;\"><a class=\"ProveItLink\" href=\"../__pv_it/demonstrations/53c854652979ea1b8d11e80c2819f99650bd631a0/expr.ipynb\"><img src=\"data:image/png;base64,iVBORw0KGgoAAAANSUhEUgAAAG0AAAAVBAMAAAC+p33JAAAAMFBMVEX///9ERES6uroQEBAyMjLc\n",
       "3NyYmJgiIiJmZmaqqqp2dnbMzMxUVFSIiIju7u4AAAAd7oVFAAAAAXRSTlMAQObYZgAAAAlwSFlz\n",
       "AAAOxAAADsQBlSsOGwAAAXxJREFUOMtjYMAG+JQYcAPWqTilrujh0cewRw6HBOc/oKkdjhswZaJW\n",
       "CAFJGRz6uAoYGAIZuD5hur+BYf4EBoblePQdZWAwxpDg/cnw3gFDH694eQlcn/0DhvMB6PqYjBj4\n",
       "MfQx+T5Asu84A8N5LB5kmJ8A1ff2zutVE0CMkAfI7gSCeizamMoYoPoaeM9ygNW5wiU5HEAk919M\n",
       "bdx3TgPJy0DMFsD2jycBJOYAlw0G89kPYAszUHjGAzE31HQGbvPy8vJCECvGCSzQiDWsmYFxy3cE\n",
       "5DHmC5C4EYA7phHkUzYs1nFvYGD8CfQ/2GD9AD5wiBTApRlBWmYxsGLEA/8/sL75QPUPFQ4zcIEF\n",
       "76LEO/cCBt4HGI48AHbnYpA/9zUzaIIFWSYg6wvv6GgHc0AJhO8LRIItAR5/L+5ytkE08B3UQ9JX\n",
       "//8/RDF7A5CogMpodAgxYKQzpoVI6QwfwJeuydHHa4BfXwuukuAnXm18ZrhkIk7iK1/WAMMRAOqj\n",
       "YRJw4PrYAAAAAElFTkSuQmCC\n",
       "\" style=\"display:inline;vertical-align:middle;\" /></a> <a class=\"ProveItLink\" href=\"../__pv_it/demonstrations/382596c95f22bafdbd77bfa2c0b313625b3f8ba40/proof.ipynb\" style=\"text-decoration: none\">&nbsp;&#x22A2;&nbsp;&nbsp;</a><a class=\"ProveItLink\" href=\"../../natural_numbers/__pv_it/theorems/eeefdffd3aa81290285f57914cfcea6647727dd80/expr.ipynb\"><img src=\"data:image/png;base64,iVBORw0KGgoAAAANSUhEUgAAAEAAAAATBAMAAADSXRa0AAAAMFBMVEX///9ERES6uroQEBAyMjLc\n",
       "3NyYmJgiIiJmZmaqqqp2dnbMzMxUVFSIiIju7u4AAAAd7oVFAAAAAXRSTlMAQObYZgAAAAlwSFlz\n",
       "AAAOxAAADsQBlSsOGwAAAO5JREFUKM9jYMAHGhgIAAHyFPDVC/oxcNkb4TaBcYIOA8N7PFbwlHIl\n",
       "MDAzcAgKGgqKYVUwkcGVgR2LCRfLyx3ACsIuhGBToHIPZkLAad4FCAVv77xeNQFIs/rBrQhgZBBC\n",
       "KGjgPctRAKRZAhAKuBueP4eFJFsA2z+eBJAChCMDGDI5hWE8bgYOsMsYNpcDgQBUAc+DwwjHMV8A\n",
       "Uw+RTeA78ByhQD+A7wGQYkdWwLCXEcZ7qHCYgQvE4L0AD+oNQN5GGG/+vmYGTTDLEybEAvJ1C4z3\n",
       "4i5n2wQw643QA4iz/Q2B5BMscaAlDglqFAAASi0zkHb1wmgAAAAASUVORK5CYII=\n",
       "\" style=\"display:inline;vertical-align:middle;\" /></a></span>"
      ],
      "text/plain": [
       "{x in {2 .. 3}} |- x in NaturalPos"
      ]
     },
     "metadata": {},
     "output_type": "display_data"
    }
   ],
   "source": [
    "InSet(x, Interval(two, three)).derive_element_in_natural(\n",
    "    assumptions=[InSet(x, Interval(two, three))])"
   ]
  },
  {
   "cell_type": "code",
   "execution_count": 36,
   "metadata": {},
   "outputs": [
    {
     "data": {
      "text/html": [
       "<span style=\"font-size:20px;\"><a class=\"ProveItLink\" href=\"../__pv_it/demonstrations/58d4e555584b7c049bc128fe8ad5e9c231a907890/expr.ipynb\"><img src=\"data:image/png;base64,iVBORw0KGgoAAAANSUhEUgAAAG0AAAAVBAMAAAC+p33JAAAAMFBMVEX///9ERES6uroQEBAyMjLc\n",
       "3NyYmJgiIiJmZmaqqqp2dnbMzMxUVFSIiIju7u4AAAAd7oVFAAAAAXRSTlMAQObYZgAAAAlwSFlz\n",
       "AAAOxAAADsQBlSsOGwAAAWdJREFUOMtjYMAG+JQYcAPWqTilrujh0cewRw6HBOc/oKmrGhWwye0A\n",
       "Yhkc+rgKGBheMHD+xCZXA8TL8ei7P4HvCxYpXiz6eMXLS+D6lBUYsOnb5oOhj8n3AZJ9QF9+w6Jv\n",
       "AVzf2zuvV00AMUIeMKDoU0/A4swAuL4G3rMcYHWucFkOByCx98wGTH1hDCB9l4GYLYDtHw/YZAe4\n",
       "bDCYjy08F4D1xQPdxw0xHcgwLy8vLwSxYpwgiuwfoGtjCwDr4zsC8hjzBUjaEoDJcjcCNexmYJCf\n",
       "gK4vlgGsjwtssH4AH9jgArg04wEGhv8PsOjTOXPm8ykGhvlA9Q8VDjNwgQXvosS7DTZ3MoDFGRYD\n",
       "8fx9zQyaYBGWCcj60mDx9x7ofaSk8xEaDy/ucrZBNPAd1EPSx9QBTdfsDUCiAqat8f9ZjHTGtBAp\n",
       "neED+NI1Ofp4DfDra8FVEvzEq43PDJdMxEl85csaYDgCABBMXZR2kUvIAAAAAElFTkSuQmCC\n",
       "\" style=\"display:inline;vertical-align:middle;\" /></a> <a class=\"ProveItLink\" href=\"../__pv_it/demonstrations/c5b84af8a7a50c8080bc3b5be03ab8fd6f6a62800/proof.ipynb\" style=\"text-decoration: none\">&nbsp;&#x22A2;&nbsp;&nbsp;</a><a class=\"ProveItLink\" href=\"../../natural_numbers/__pv_it/theorems/eeefdffd3aa81290285f57914cfcea6647727dd80/expr.ipynb\"><img src=\"data:image/png;base64,iVBORw0KGgoAAAANSUhEUgAAAEAAAAATBAMAAADSXRa0AAAAMFBMVEX///9ERES6uroQEBAyMjLc\n",
       "3NyYmJgiIiJmZmaqqqp2dnbMzMxUVFSIiIju7u4AAAAd7oVFAAAAAXRSTlMAQObYZgAAAAlwSFlz\n",
       "AAAOxAAADsQBlSsOGwAAAO5JREFUKM9jYMAHGhgIAAHyFPDVC/oxcNkb4TaBcYIOA8N7PFbwlHIl\n",
       "MDAzcAgKGgqKYVUwkcGVgR2LCRfLyx3ACsIuhGBToHIPZkLAad4FCAVv77xeNQFIs/rBrQhgZBBC\n",
       "KGjgPctRAKRZAhAKuBueP4eFJFsA2z+eBJAChCMDGDI5hWE8bgYOsMsYNpcDgQBUAc+DwwjHMV8A\n",
       "Uw+RTeA78ByhQD+A7wGQYkdWwLCXEcZ7qHCYgQvE4L0AD+oNQN5GGG/+vmYGTTDLEybEAvJ1C4z3\n",
       "4i5n2wQw643QA4iz/Q2B5BMscaAlDglqFAAASi0zkHb1wmgAAAAASUVORK5CYII=\n",
       "\" style=\"display:inline;vertical-align:middle;\" /></a></span>"
      ],
      "text/plain": [
       "{x in {3 .. 4}} |- x in NaturalPos"
      ]
     },
     "metadata": {},
     "output_type": "display_data"
    }
   ],
   "source": [
    "InSet(x, Interval(three, four)).derive_element_in_natural_pos(\n",
    "    assumptions=[InSet(x, Interval(three, four))])"
   ]
  },
  {
   "cell_type": "code",
   "execution_count": 37,
   "metadata": {},
   "outputs": [
    {
     "data": {
      "text/html": [
       "<span style=\"font-size:20px;\"><a class=\"ProveItLink\" href=\"../__pv_it/theorems/d82a9927958f2919b6e25fa4d8e512f4047160210/expr.ipynb\"><img src=\"data:image/png;base64,iVBORw0KGgoAAAANSUhEUgAAADIAAAAQBAMAAACmdTG/AAAAMFBMVEX////MzMwyMjKqqqoiIiJm\n",
       "ZmaYmJju7u5EREQQEBC6urqIiIh2dnZUVFTc3NwAAAAqL9KcAAAAAXRSTlMAQObYZgAAAAlwSFlz\n",
       "AAAOxAAADsQBlSsOGwAAAN5JREFUGNNjYMAAzJo/NVw6EzAlGLh7BRgUmLBIMLAGMHAnHMYmw/uA\n",
       "oYK9AcWUFhcnEM3OwBDIK4AkwaVdAGMyXhAFUXx39m0A0Y/gEgwcBe0gauUDju8gWg+h3YYNpJZ9\n",
       "GgOrA4irgJCBuJn1AwPLAZDZU1xcXDwgTjE4xcBQwMDZwFC/AKQX4c4KPiD7HkP9BoZ8MN8BLnMR\n",
       "6CP2Dwz1BgyXmB8A+bvhbg5YCvSuAwPHBmZXVpAAkwHczeoMfM0NDOy3D77dCPb6jeUQmZVNMzrm\n",
       "zziAHAgnIKEDBQC4NTJlmjuxlwAAAABJRU5ErkJggg==\n",
       "\" style=\"display:inline;vertical-align:middle;\" /></a>, <a class=\"ProveItLink\" href=\"../__pv_it/demonstrations/f7f8f0c7b17df91c5737500a28a9355fd753ce490/expr.ipynb\"><img src=\"data:image/png;base64,iVBORw0KGgoAAAANSUhEUgAAADAAAAAQBAMAAACigOGCAAAAMFBMVEX///+YmJjMzMzc3NyIiIhU\n",
       "VFR2dna6urqqqqpmZmYyMjIiIiIQEBBERETu7u4AAAD7tRWPAAAAAXRSTlMAQObYZgAAAAlwSFlz\n",
       "AAAOxAAADsQBlSsOGwAAAOpJREFUGNNjYEAHHGv+rN19R4CB784GVAmWqwoMC7iADK4JqBKcExhY\n",
       "BDKADP4GVAlWA4a3fBeAjPoHUCNu794FovkYGCaxKgAZ2RBx9iUPYHqYAjRB1FKXCBBlBRdn4H1w\n",
       "D6Tz14P3BkB6McKWNkYHkLP/MfCA6AUICbBjGTgXMPAnAM09vXv37r0QVzSkMzA8YOBOYKgHOhjs\n",
       "QAh4ywxkB4O8MR9kL8L/QUCf8H1g4FfgOwjiusAdO6ES6MsNDKwCvOAw4WqAO3YdA/ONCwx8YRPB\n",
       "fL7YOohEza2zd8+fTUA4kj0XEiRQAABokT0f5e0fIgAAAABJRU5ErkJggg==\n",
       "\" style=\"display:inline;vertical-align:middle;\" /></a>, <a class=\"ProveItLink\" href=\"../__pv_it/demonstrations/29c6c2fe2b7d2efdcbad59a387752e9d9e70de3b0/expr.ipynb\"><img src=\"data:image/png;base64,iVBORw0KGgoAAAANSUhEUgAAAGwAAAAVBAMAAABRZRb3AAAAMFBMVEX///9ERES6uroQEBAyMjLc\n",
       "3NyYmJgiIiJmZmaqqqp2dnbMzMxUVFSIiIju7u4AAAAd7oVFAAAAAXRSTlMAQObYZgAAAAlwSFlz\n",
       "AAAOxAAADsQBlSsOGwAAAWNJREFUOMtjYMAG+JQYcIPIAFwyV/TwaOM++AC7BOc/HDr4hAuAJOMB\n",
       "7LJcBbhsYmnAI41bG/8ETOmL5eUOBLTpP8CQVrlH2LblcOm3d16vAlnN6ofqyJi1sZjafO6ehEo3\n",
       "8J7lANEsiOjgALqVyZRBHiOg+b48eB/AwGvAwMAWwPaPJwGkDSEbDOQ/TmBoxxYzzBcYWH8CIw9s\n",
       "NhBsLgcCARArxglI9DMwVGFoAyrlX8DA8MYTyAbqB4GHiGTQCHSdIQPfJwxt7AsY9IHhsEQBFKgB\n",
       "fCBPsCNkgcmA7y8D2wds0db/AJyIHiocZuACCfFeQA5Jvp8MPA5TMbRt4DMDSgODZP6+ZgZNsJgn\n",
       "SgTIMkxvAKUkhvcOoBCESPAkMDZApF/c5WybABZ7I/QASdubW1vPbgD7B6S5AhoBp9owU4OWOMHE\n",
       "hVeaTG2gZIAHQCMaA4CSAR7wOAGHRMRJPLqigJIADqZdG0XjnuMAAAAASUVORK5CYII=\n",
       "\" style=\"display:inline;vertical-align:middle;\" /></a>, <a class=\"ProveItLink\" href=\"../__pv_it/demonstrations/937b5f9529b96e9512f5cd5d8bb64bf7384a4e610/expr.ipynb\"><img src=\"data:image/png;base64,iVBORw0KGgoAAAANSUhEUgAAAC8AAAAQBAMAAAB0JTvnAAAAMFBMVEX///+YmJjMzMzc3NyIiIhU\n",
       "VFR2dna6urqqqqpmZmYyMjIiIiIQEBBERETu7u4AAAD7tRWPAAAAAXRSTlMAQObYZgAAAAlwSFlz\n",
       "AAAOxAAADsQBlSsOGwAAAMhJREFUGNNj4LuzgQEdpHkaAEmuCejiXA18m4EUfwO6hDQDQy6Qqn+A\n",
       "EOJYDCKvMjD0AwWzEeKMO8GKfjIw6AONWeoSARVn2QYW5wNJCDDw/Xrw3gAs/mwLRJ75G1DCgYHj\n",
       "HwOPA4hvuZEBSSKBgXMBA38CkMu6AmYTH1Ci3oGBO4GhvgFFAmR5fwPIG/MfoBjFcJeBQf4BA78C\n",
       "30EGFMsZZBgYZgGNEOCFhcmTLRC/cjfwHQJaFTYR4UGoR6a5KqCFEuNiBoIAAOe0M+YRpvCEAAAA\n",
       "AElFTkSuQmCC\n",
       "\" style=\"display:inline;vertical-align:middle;\" /></a> <a class=\"ProveItLink\" href=\"../__pv_it/demonstrations/5349a0174ab3ced75ad022809689780faeb26e6d0/proof.ipynb\" style=\"text-decoration: none\">&nbsp;&#x22A2;&nbsp;&nbsp;</a><a class=\"ProveItLink\" href=\"../__pv_it/demonstrations/72d5b8e725d24a9137d7086f16df0a6b6bf0a0d50/expr.ipynb\"><img src=\"data:image/png;base64,iVBORw0KGgoAAAANSUhEUgAAAD8AAAAQBAMAAABTi7oPAAAAMFBMVEX///9ERES6uroQEBAyMjLc\n",
       "3NyYmJgiIiJmZmaqqqp2dnbMzMxUVFSIiIju7u4AAAAd7oVFAAAAAXRSTlMAQObYZgAAAAlwSFlz\n",
       "AAAOxAAADsQBlSsOGwAAAOVJREFUKM9jYMAEU+xNxAvNGHCDi6cZWBgc8CjoYGC4xjWBYaMgEARg\n",
       "U3CUgU/gITYJXvHyEhD9gIFjw2ks8ky+D2DMPdwNCPG3d16vmgBihMDlGeQYEWyGBt6zHAUghitc\n",
       "iHNBLkKeLYDtH08CiIXwGIonuRk4IDxu8/Ly8kIw8yaXAgMfQgnzBTDFJwAT4BMIZGDgQYSAfgAf\n",
       "2EkFMAGeDUcZGN7DeA8VDjNwgVl3YUI7mICePA7jzd/XzKAJcdoEmCdZHjAEToQpeHGXsw0iw3dQ\n",
       "DxJghs6Cwp+lsAXlQkhQowAA+CAz79dtbnIAAAAASUVORK5CYII=\n",
       "\" style=\"display:inline;vertical-align:middle;\" /></a></span>"
      ],
      "text/plain": [
       "{a in Integer, b in Integer, x in {a .. b}, b < 0} |- x in IntegerNeg"
      ]
     },
     "metadata": {},
     "output_type": "display_data"
    }
   ],
   "source": [
    "InSet(x, Interval(a, b)).derive_element_in_integer_neg(\n",
    "    assumptions=[InSet(a, Integer), InSet(b, Integer), Less(b, zero), InSet(x, Interval(a, b))])"
   ]
  },
  {
   "cell_type": "code",
   "execution_count": 38,
   "metadata": {},
   "outputs": [
    {
     "data": {
      "text/html": [
       "<span style=\"font-size:20px;\"><a class=\"ProveItLink\" href=\"../__pv_it/theorems/d82a9927958f2919b6e25fa4d8e512f4047160210/expr.ipynb\"><img src=\"data:image/png;base64,iVBORw0KGgoAAAANSUhEUgAAADIAAAAQBAMAAACmdTG/AAAAMFBMVEX////MzMwyMjKqqqoiIiJm\n",
       "ZmaYmJju7u5EREQQEBC6urqIiIh2dnZUVFTc3NwAAAAqL9KcAAAAAXRSTlMAQObYZgAAAAlwSFlz\n",
       "AAAOxAAADsQBlSsOGwAAAN5JREFUGNNjYMAAzJo/NVw6EzAlGLh7BRgUmLBIMLAGMHAnHMYmw/uA\n",
       "oYK9AcWUFhcnEM3OwBDIK4AkwaVdAGMyXhAFUXx39m0A0Y/gEgwcBe0gauUDju8gWg+h3YYNpJZ9\n",
       "GgOrA4irgJCBuJn1AwPLAZDZU1xcXDwgTjE4xcBQwMDZwFC/AKQX4c4KPiD7HkP9BoZ8MN8BLnMR\n",
       "6CP2Dwz1BgyXmB8A+bvhbg5YCvSuAwPHBmZXVpAAkwHczeoMfM0NDOy3D77dCPb6jeUQmZVNMzrm\n",
       "zziAHAgnIKEDBQC4NTJlmjuxlwAAAABJRU5ErkJggg==\n",
       "\" style=\"display:inline;vertical-align:middle;\" /></a>, <a class=\"ProveItLink\" href=\"../__pv_it/demonstrations/f7f8f0c7b17df91c5737500a28a9355fd753ce490/expr.ipynb\"><img src=\"data:image/png;base64,iVBORw0KGgoAAAANSUhEUgAAADAAAAAQBAMAAACigOGCAAAAMFBMVEX///+YmJjMzMzc3NyIiIhU\n",
       "VFR2dna6urqqqqpmZmYyMjIiIiIQEBBERETu7u4AAAD7tRWPAAAAAXRSTlMAQObYZgAAAAlwSFlz\n",
       "AAAOxAAADsQBlSsOGwAAAOpJREFUGNNjYEAHHGv+rN19R4CB784GVAmWqwoMC7iADK4JqBKcExhY\n",
       "BDKADP4GVAlWA4a3fBeAjPoHUCNu794FovkYGCaxKgAZ2RBx9iUPYHqYAjRB1FKXCBBlBRdn4H1w\n",
       "D6Tz14P3BkB6McKWNkYHkLP/MfCA6AUICbBjGTgXMPAnAM09vXv37r0QVzSkMzA8YOBOYKgHOhjs\n",
       "QAh4ywxkB4O8MR9kL8L/QUCf8H1g4FfgOwjiusAdO6ES6MsNDKwCvOAw4WqAO3YdA/ONCwx8YRPB\n",
       "fL7YOohEza2zd8+fTUA4kj0XEiRQAABokT0f5e0fIgAAAABJRU5ErkJggg==\n",
       "\" style=\"display:inline;vertical-align:middle;\" /></a>, <a class=\"ProveItLink\" href=\"../__pv_it/demonstrations/29c6c2fe2b7d2efdcbad59a387752e9d9e70de3b0/expr.ipynb\"><img src=\"data:image/png;base64,iVBORw0KGgoAAAANSUhEUgAAAGwAAAAVBAMAAABRZRb3AAAAMFBMVEX///9ERES6uroQEBAyMjLc\n",
       "3NyYmJgiIiJmZmaqqqp2dnbMzMxUVFSIiIju7u4AAAAd7oVFAAAAAXRSTlMAQObYZgAAAAlwSFlz\n",
       "AAAOxAAADsQBlSsOGwAAAWNJREFUOMtjYMAG+JQYcIPIAFwyV/TwaOM++AC7BOc/HDr4hAuAJOMB\n",
       "7LJcBbhsYmnAI41bG/8ETOmL5eUOBLTpP8CQVrlH2LblcOm3d16vAlnN6ofqyJi1sZjafO6ehEo3\n",
       "8J7lANEsiOjgALqVyZRBHiOg+b48eB/AwGvAwMAWwPaPJwGkDSEbDOQ/TmBoxxYzzBcYWH8CIw9s\n",
       "NhBsLgcCARArxglI9DMwVGFoAyrlX8DA8MYTyAbqB4GHiGTQCHSdIQPfJwxt7AsY9IHhsEQBFKgB\n",
       "fCBPsCNkgcmA7y8D2wds0db/AJyIHiocZuACCfFeQA5Jvp8MPA5TMbRt4DMDSgODZP6+ZgZNsJgn\n",
       "SgTIMkxvAKUkhvcOoBCESPAkMDZApF/c5WybABZ7I/QASdubW1vPbgD7B6S5AhoBp9owU4OWOMHE\n",
       "hVeaTG2gZIAHQCMaA4CSAR7wOAGHRMRJPLqigJIADqZdG0XjnuMAAAAASUVORK5CYII=\n",
       "\" style=\"display:inline;vertical-align:middle;\" /></a>, <a class=\"ProveItLink\" href=\"../__pv_it/demonstrations/937b5f9529b96e9512f5cd5d8bb64bf7384a4e610/expr.ipynb\"><img src=\"data:image/png;base64,iVBORw0KGgoAAAANSUhEUgAAAC8AAAAQBAMAAAB0JTvnAAAAMFBMVEX///+YmJjMzMzc3NyIiIhU\n",
       "VFR2dna6urqqqqpmZmYyMjIiIiIQEBBERETu7u4AAAD7tRWPAAAAAXRSTlMAQObYZgAAAAlwSFlz\n",
       "AAAOxAAADsQBlSsOGwAAAMhJREFUGNNj4LuzgQEdpHkaAEmuCejiXA18m4EUfwO6hDQDQy6Qqn+A\n",
       "EOJYDCKvMjD0AwWzEeKMO8GKfjIw6AONWeoSARVn2QYW5wNJCDDw/Xrw3gAs/mwLRJ75G1DCgYHj\n",
       "HwOPA4hvuZEBSSKBgXMBA38CkMu6AmYTH1Ci3oGBO4GhvgFFAmR5fwPIG/MfoBjFcJeBQf4BA78C\n",
       "30EGFMsZZBgYZgGNEOCFhcmTLRC/cjfwHQJaFTYR4UGoR6a5KqCFEuNiBoIAAOe0M+YRpvCEAAAA\n",
       "AElFTkSuQmCC\n",
       "\" style=\"display:inline;vertical-align:middle;\" /></a> <a class=\"ProveItLink\" href=\"../__pv_it/demonstrations/5349a0174ab3ced75ad022809689780faeb26e6d0/proof.ipynb\" style=\"text-decoration: none\">&nbsp;&#x22A2;&nbsp;&nbsp;</a><a class=\"ProveItLink\" href=\"../__pv_it/demonstrations/72d5b8e725d24a9137d7086f16df0a6b6bf0a0d50/expr.ipynb\"><img src=\"data:image/png;base64,iVBORw0KGgoAAAANSUhEUgAAAD8AAAAQBAMAAABTi7oPAAAAMFBMVEX///9ERES6uroQEBAyMjLc\n",
       "3NyYmJgiIiJmZmaqqqp2dnbMzMxUVFSIiIju7u4AAAAd7oVFAAAAAXRSTlMAQObYZgAAAAlwSFlz\n",
       "AAAOxAAADsQBlSsOGwAAAOVJREFUKM9jYMAEU+xNxAvNGHCDi6cZWBgc8CjoYGC4xjWBYaMgEARg\n",
       "U3CUgU/gITYJXvHyEhD9gIFjw2ks8ky+D2DMPdwNCPG3d16vmgBihMDlGeQYEWyGBt6zHAUghitc\n",
       "iHNBLkKeLYDtH08CiIXwGIonuRk4IDxu8/Ly8kIw8yaXAgMfQgnzBTDFJwAT4BMIZGDgQYSAfgAf\n",
       "2EkFMAGeDUcZGN7DeA8VDjNwgVl3YUI7mICePA7jzd/XzKAJcdoEmCdZHjAEToQpeHGXsw0iw3dQ\n",
       "DxJghs6Cwp+lsAXlQkhQowAA+CAz79dtbnIAAAAASUVORK5CYII=\n",
       "\" style=\"display:inline;vertical-align:middle;\" /></a></span>"
      ],
      "text/plain": [
       "{a in Integer, b in Integer, x in {a .. b}, b < 0} |- x in IntegerNeg"
      ]
     },
     "metadata": {},
     "output_type": "display_data"
    }
   ],
   "source": [
    "InSet(x, Interval(a, b)).derive_element_in_integer_nonpos(\n",
    "    assumptions=[InSet(a, Integer), InSet(b, Integer), Less(b, zero), InSet(x, Interval(a, b))])"
   ]
  },
  {
   "cell_type": "code",
   "execution_count": null,
   "metadata": {},
   "outputs": [],
   "source": []
  },
  {
   "cell_type": "code",
   "execution_count": 39,
   "metadata": {},
   "outputs": [],
   "source": [
    "# A case I worry about:\n",
    "# (1) If the deduce_element_in_restricted_number_set() method does a check for the\n",
    "# lower_bound <= upper_bound, this fails as it should and we eventual enter\n",
    "# the NumberMembership.conclude() method as expected.\n",
    "# (2) BUT, if we first run the cell above, then this cell never seems to enter\n",
    "# the IntervalMembership.side_effects() method, going only to the\n",
    "# NumberMembership.conclude() method. Shouldn't it “evaluate” the assumptions?\n",
    "# (3) If the deduce_element_in_restricted_number_set() method does NOT check for the\n",
    "# lower_bound <= upper_bound, this goes through as it should using that side_effect.\n",
    "# (4) BUT, if we first run the cell above, then this cell never enters\n",
    "# the IntervalMembership.side_effects() method, nor the NumberMembership.conclude() method,\n",
    "# because in performing the previous cell, the x \\in NaturalPos under these assumptions\n",
    "# was already established. Nothing mysterious!\n",
    "# InSet(x, NaturalPos).prove(assumptions = [InSet(x, Interval(eight, three))]).proof()"
   ]
  },
  {
   "cell_type": "markdown",
   "metadata": {},
   "source": [
    "Some brief testing of Interval non-membership."
   ]
  },
  {
   "cell_type": "code",
   "execution_count": 40,
   "metadata": {},
   "outputs": [
    {
     "data": {
      "text/html": [
       "<span style=\"font-size:20px;\"> <a class=\"ProveItLink\" href=\"../__pv_it/demonstrations/ea97c2faa692d1701f5ff2d7ccb5f0520511d4d40/proof.ipynb\" style=\"text-decoration: none\">&nbsp;&#x22A2;&nbsp;&nbsp;</a><a class=\"ProveItLink\" href=\"../__pv_it/demonstrations/c5a2fca1761607604819dc65d9246c3c755dedbd0/expr.ipynb\"><img src=\"data:image/png;base64,iVBORw0KGgoAAAANSUhEUgAAAGwAAAAVCAMAAACUlfv2AAAAP1BMVEX///9jY2MJCQkdHR0NDQ0W\n",
       "FhZUVFTMzMwiIiKYmJgQEBAyMjKIiIiqqqru7u66urpERERmZmZ2dnbc3NwAAABK8997AAAAAXRS\n",
       "TlMAQObYZgAAAAlwSFlzAAAOxAAADsQBlSsOGwAAAYRJREFUSMellNl2xCAIQO20xQV3/f9v7Rhn\n",
       "XOOpyfCQIwnkAgKELCUMujaG3JOgwn8mqDtVotHXELzYU7Cvc/De2TloCp2qYkVRtwNTMYtIis1/\n",
       "0+74oEZb1/M9q2cGOzBvXRKmGneZODriaMvICiY3YblurnU3IqXQw6Rlvz8Mz2GU4xYs1wrmwqjI\n",
       "q2JQagJ0lZkne7BsTCeYYQ0rpDbUY1mLtQwXYMGO7lRCmwemoeBy7Bd8NzS5AIN3l0nRlrF2I54M\n",
       "GQmC12vfhoWCCG27izJGVDDGvh/Ph61OgK8QebgC8/UyNOATR48K2kLWieGHsaMur4BwVHcb1sTr\n",
       "j3DjkVOFHQPGJr+8AgwkiQL8DktHGBaQgL6MREpi5n3UDorYzMzE8h+fb4/zcc5QjUM2wKJto8fp\n",
       "VNPxo7t5LrBuEWt4zAu+wpyNEepkMDefSjOqs1h74V/ePrsRV5ndkLU76ivWn8GCPXnZroAb4nAV\n",
       "hTqLIKoPWFrw1UI7z9fBXVzw2fUPhbkScpJwFtQAAAAASUVORK5CYII=\n",
       "\" style=\"display:inline;vertical-align:middle;\" /></a></span>"
      ],
      "text/plain": [
       "|- 3 not-in {4 .. 7}"
      ]
     },
     "metadata": {},
     "output_type": "display_data"
    }
   ],
   "source": [
    "NotInSet(three, Interval(four, seven)).prove()"
   ]
  },
  {
   "cell_type": "code",
   "execution_count": 41,
   "metadata": {},
   "outputs": [
    {
     "data": {
      "text/html": [
       "<span style=\"font-size:20px;\"> <a class=\"ProveItLink\" href=\"../__pv_it/demonstrations/c67c0d7fc22339e7a4c3d88c214ba577dac6f3fb0/proof.ipynb\" style=\"text-decoration: none\">&nbsp;&#x22A2;&nbsp;&nbsp;</a><a class=\"ProveItLink\" href=\"../__pv_it/demonstrations/1ab6542a02fb96c684df1c8246ecdf558a0a285d0/expr.ipynb\"><img src=\"data:image/png;base64,iVBORw0KGgoAAAANSUhEUgAAAGwAAAAVCAMAAACUlfv2AAAAP1BMVEX///9jY2MJCQkdHR0NDQ0W\n",
       "FhbMzMwQEBDc3NwiIiKIiIhEREQyMjKYmJiqqqpUVFS6urpmZmZ2dnbu7u4AAAAR1pusAAAAAXRS\n",
       "TlMAQObYZgAAAAlwSFlzAAAOxAAADsQBlSsOGwAAAYxJREFUSMellNtyxCAIQO229YoSkf//1sY1\n",
       "G40mU7PLQwYz4AEEhLgU3Z3Tsoj3RAf9nwmkw9HCku4h/G4v0W16IqI4Bi3xcAxcUTLOwAIXUfng\n",
       "ttuenhh6245PpuoGZ2DkYhYTGnfvn+lBb2vEFcxOwkoxY+tOOMKsM78/Bs5h0sMUrNQKD+6B8+NF\n",
       "X60WsEmgvMqMxBysGMujOzLb2DyZzm04lHWHWX0Dpl3vHplNMwiQdW/7foFXQ4sbMHx1mVVbbUk7\n",
       "5poanAyZ0MrXZ5+GabVrBeDj8+HU63apjDHfj/XjqhPCFqLXd2BUHyMhrLhC0XtqKTOoGzsZywrQ\n",
       "z+pOw5p4KYebeKuubwfMDH5lBSyYhRXSDCsxdgtIld5we4tYK5ZxH7UbRE1mtvB+D6ltqlLXfRD6\n",
       "Ietg7NroYdBqOtS7S1w3WLsIEz7GBV9hce1drLGZOGp7M4azWI/iv8it3QhXmb0h1+6Q7lh/BtPu\n",
       "5KdVH8EiXEURziLg8AErKX+10M7zjfguTlNx/QP8/hOPAQWiFwAAAABJRU5ErkJggg==\n",
       "\" style=\"display:inline;vertical-align:middle;\" /></a></span>"
      ],
      "text/plain": [
       "|- 8 not-in {4 .. 7}"
      ]
     },
     "metadata": {},
     "output_type": "display_data"
    }
   ],
   "source": [
    "NotInSet(eight, Interval(four, seven)).prove()"
   ]
  },
  {
   "cell_type": "code",
   "execution_count": 42,
   "metadata": {},
   "outputs": [
    {
     "data": {
      "text/html": [
       "<span style=\"font-size:20px;\"><a class=\"ProveItLink\" href=\"../__pv_it/theorems/9dfd51fc82a5dda1e85f06fc33528e3db8c0b6dc0/expr.ipynb\"><img src=\"data:image/png;base64,iVBORw0KGgoAAAANSUhEUgAAADMAAAAQBAMAAABJt1qBAAAAMFBMVEX///9ERES6uroQEBAyMjLc\n",
       "3NyYmJgiIiJmZmaqqqp2dnbMzMxUVFSIiIju7u4AAAAd7oVFAAAAAXRSTlMAQObYZgAAAAlwSFlz\n",
       "AAAOxAAADsQBlSsOGwAAAN1JREFUGNNjYMAEU+xNxAvNGLCBi6cZWBgcsEp1MDBc45qAVeooA5/A\n",
       "Q1QhXvHyEhD9gIFjw2kUGSbfBzDmHu4GEPX2zutVYIND4DIMcoxgdgPvWY4CEMMVLsO5IBdEsQWw\n",
       "/eNJALEQzoU6nZuBAyLGbV5eXl4IZt7kUmDgAzGYL4D5fAIwTXwCgQwMPAFAln4AH9jSApgUz4aj\n",
       "DAzvGRgeKhxm4AKL3IVJ7WACOv04A8P8fc0MmhDLYWEjx/KAIXAiA8OLu5xtEDG+g3oQrxs6Cwp/\n",
       "lkINjoWQgIICAM0UMqoFj6RNAAAAAElFTkSuQmCC\n",
       "\" style=\"display:inline;vertical-align:middle;\" /></a>, <a class=\"ProveItLink\" href=\"../__pv_it/demonstrations/a1e747bbf1682a9025c778014f2d0a7f8d653f560/expr.ipynb\"><img src=\"data:image/png;base64,iVBORw0KGgoAAAANSUhEUgAAAG0AAAAVCAMAAAB7V5DIAAAAP1BMVEX///9jY2MJCQkdHR0NDQ0W\n",
       "FhZERES6uroQEBAyMjLc3NyYmJgiIiJmZmaqqqp2dnbMzMxUVFSIiIju7u4AAAANhLF7AAAAAXRS\n",
       "TlMAQObYZgAAAAlwSFlzAAAOxAAADsQBlSsOGwAAAYZJREFUSMellNl2hCAMQNNpy76F8P/fWhQr\n",
       "izoyM3nwwDHhZgd4Iqq/Eufwniin7pUktbcoOb3G0Lt+QHZnG7C9uVT1g52huVRELBeGN9q2S5w3\n",
       "9WxwhuaZXcS40fxU+v+NepyklXxauKVFZn5/jDylBS2naGtMgHBH4zISYLiIzcMcrSiH3pxiRAre\n",
       "u9pMSzOShHNaVC/QFBvMc14jRrA1VLlMh45Dz8j/voYXaPjfaXHtTND5aZ27G3WlHYcNlNC19tM0\n",
       "JfZTWnMXGr+3LhDGmO9H/rBdF+Xm5OLcPM3XhwnlVivRZY0WSFPGMs9lGahVc5pW/c3gzV+essNE\n",
       "3aAdGrYsA46LJIF+BkYJ+1VEjAOKfRZLRSPww25qB0ZMxsbT/owXhRnI5hNvMyfdMGwDLbEuADkc\n",
       "mk3pe3OyORJndVcmwsdh31eaZSlhU2ljx0NtSXfm7Cj6y7Pck/Iitjfkmbmkl9Q/oyl2sqfFRzQr\n",
       "rx1xJx4k9wGMhL7ebqcBW3yXp3wx/QNyGRJl90lo1QAAAABJRU5ErkJggg==\n",
       "\" style=\"display:inline;vertical-align:middle;\" /></a> <a class=\"ProveItLink\" href=\"../__pv_it/demonstrations/4db60494938a16587f186df28d7b0efdf1e588910/proof.ipynb\" style=\"text-decoration: none\">&nbsp;&#x22A2;&nbsp;&nbsp;</a><a class=\"ProveItLink\" href=\"../__pv_it/demonstrations/bd7fb032439f54092f047593c5309a316c023e300/expr.ipynb\"><img src=\"data:image/png;base64,iVBORw0KGgoAAAANSUhEUgAAAJcAAAAVBAMAAAC5yWGZAAAAMFBMVEX////MzMxUVFRERES6uroi\n",
       "IiIQEBCYmJhmZmYyMjLu7u52dnaqqqqIiIjc3NwAAACW8nlqAAAAAXRSTlMAQObYZgAAAAlwSFlz\n",
       "AAAOxAAADsQBlSsOGwAAAmdJREFUOMuNVE1oE0EU/pIm2c0muwRFFEWMRRQrhQheleDBk9IogqIW\n",
       "FvEkCAEptGBrQGKrRSheBBGJFKEqxUXxoh56USweshRKQYwsFG0vBUXowYNx3szsJp1mggP79u28\n",
       "b7/3OwMggG45/7ETLU5jz2ntCV/d+YqVmgZ8isRnHdUOYEnZynqoN5tNtxPcLgPWlI7sDJDmYfSR\n",
       "2E3iGfB6YqLaOZeHgFnWcNmMzKiQNkriMIlxwANWO/8wDKQ2bc6Ljmy/z8RV0pJUeZ4Ay49FlW+l\n",
       "/bjtv1QN8yrX0F3x9ojsAWkZRmBSalnOmMmFUON8ezfSZUyy1+zCk3dhHRbfyiwDInsFGRVFB9Mj\n",
       "uRwV4qLgshp9u94zJ3nuu2L3myWx/yachhUQ2QjX9wIN6ZutfRLxYlAqJhb8KotzCpeYDIw/cY5z\n",
       "qlE7PE72ketbgAu8eBS+Iwdj9VwIHcPN2gFWBBdXgBhMOR8Ho6YbASfbI6oRZHlbU0UqmcDGH0XF\n",
       "yuEOvWI/iYyhfJVsDZzshJzVdBCRJQsqGXCNnxeX0gQGAqu2Mc3jvb3rh4AP4qu0FVGaL/Nqmkj8\n",
       "xXPmsoSjwHRxPzJQGgBcZs91oS6JoveQcaCiNMA6Endplo0CNb++8zZOSoS1+CUk+82eSaE+FXXK\n",
       "UFB1LwTMDvJ0sr9m3MQcH5xtwEwjO946bkNy0G41+4GzsvnCHKP5+dGCGnzQrHv+pxtUhCKSOfUI\n",
       "jLQuOKe00XRagRrtx+l7eJY1S70Fhrtg6RbAsS72ZeW7R38rw6GRme5CpjqyCnosd+T4Wru9KZA1\n",
       "Pdk34B9uGZM/Od6CQAAAAABJRU5ErkJggg==\n",
       "\" style=\"display:inline;vertical-align:middle;\" /></a></span>"
      ],
      "text/plain": [
       "{x in Integer, x not-in {4 .. 7}} |- (x < 4) or (7 < x)"
      ]
     },
     "metadata": {},
     "output_type": "display_data"
    }
   ],
   "source": [
    "Or(Less(x, four), Less(seven, x)).prove(assumptions=[InSet(x, Integer), NotInSet(x, Interval(four, seven))])"
   ]
  },
  {
   "cell_type": "markdown",
   "metadata": {},
   "source": [
    "### Number set membership demonstrations"
   ]
  },
  {
   "cell_type": "code",
   "execution_count": 43,
   "metadata": {},
   "outputs": [
    {
     "data": {
      "text/html": [
       "<span style=\"font-size:20px;\"> <a class=\"ProveItLink\" href=\"../__pv_it/demonstrations/87825de3e55cfd8da048cbded975029d82d908af0/proof.ipynb\" style=\"text-decoration: none\">&nbsp;&#x22A2;&nbsp;&nbsp;</a><a class=\"ProveItLink\" href=\"../__pv_it/theorems/73c825d90feb9bf3cce676e4aeec5a53afe74ebe0/expr.ipynb\"><img src=\"data:image/png;base64,iVBORw0KGgoAAAANSUhEUgAAAGgAAAAVBAMAAABYjraNAAAAMFBMVEX////MzMxUVFRERES6uroi\n",
       "IiIQEBCYmJhmZmYyMjLu7u52dnaqqqqIiIjc3NwAAACW8nlqAAAAAXRSTlMAQObYZgAAAAlwSFlz\n",
       "AAAOxAAADsQBlSsOGwAAAdFJREFUOMtjYGB4wIAT8OGS4D2ARZBn2rfJoWYFLBfQ1IZZ/kxVATJO\n",
       "YzXJSIBhAicDw3U0cWaWCy8XOTBwTcCmiaOBgbdgDwMD5wJ0TQXcDwwYOAqwaWJ6wLCYy4CBgb0B\n",
       "QxP7AQUGNlRnmYZGgmguBoZGJgEgIwsifjk0dAJc0wSGk8h6WObCncOoIAGipoM5nrcQNjE938DQ\n",
       "DTL3rpb0HpDYS4QXmBdYgahN4JCfhXDeravaEKM4GC5daAWJzUNYepodHNyVIILzAUJTZH7EAoYY\n",
       "ILOOoX6BOkgMKSRBAQ4Ex8CakAOCt2QWQwqQKcDQCfFHamhoaDA0yrcwMAAdKw/iiAGFQw2gmhgM\n",
       "vMGaGBhywSSXAdzIxXxAth4DgxuYg2wTgwEz2HkMLP8YVoHoALisIjCmuD4wMBwFcVhRNXEy2AIt\n",
       "MGFKYNgAErsLD/AGD2AMA80oBrv1Aoqms6Aw5fm4IoEFnGw5D8ADfBYDnw3Qhd1g7hyEpg3ctxsY\n",
       "RIE29V44UQPxlLIXRNLNMtk4PxloewiYu8gEEoG804zBqZxVACVJbIYkI3iGgvrS2zQUOWGjJ0m0\n",
       "1F6AXdwOn6bHOMQX49OEy0S+C7j18GIvPwAarmoCvKdnOwAAAABJRU5ErkJggg==\n",
       "\" style=\"display:inline;vertical-align:middle;\" /></a></span>"
      ],
      "text/plain": [
       "|- (x in Integer) in BOOLEAN"
      ]
     },
     "metadata": {},
     "output_type": "display_data"
    }
   ],
   "source": [
    "InSet(InSet(x, Integer), Boolean).prove()"
   ]
  },
  {
   "cell_type": "code",
   "execution_count": 44,
   "metadata": {},
   "outputs": [
    {
     "data": {
      "text/html": [
       "<span style=\"font-size:20px;\"> <a class=\"ProveItLink\" href=\"../__pv_it/demonstrations/9ed173d76a220e9fd1c6d109a2c51f64402847030/proof.ipynb\" style=\"text-decoration: none\">&nbsp;&#x22A2;&nbsp;&nbsp;</a><a class=\"ProveItLink\" href=\"../__pv_it/theorems/dfb1ef50d98224592f1ceed7e61831c3ca6ddc860/expr.ipynb\"><img src=\"data:image/png;base64,iVBORw0KGgoAAAANSUhEUgAAAIAAAAAbCAMAAACDQXd5AAAAOVBMVEX///82NjYbGxsSEhJUVFQi\n",
       "IiKIiIjMzMx2dnYQEBDc3NxEREQyMjLu7u5mZmaqqqq6urqYmJgAAAAnb7Z/AAAAAXRSTlMAQObY\n",
       "ZgAAAAlwSFlzAAAOxAAADsQBlSsOGwAAAjpJREFUSMfFV4my2yAMpC2HucTx/x9bCbCNE0zCS6Zl\n",
       "HMfOELFe7UqYsS8Mz/7v2GI5b3L7aYQUP1nf8BJDMhYtXsB6hAAfEcANnbXCU8ZLY5cz6D5aPxbi\n",
       "TSYh6NC4WBo2vc+V01k7K4TV+CewNP7gJzFVAIgSSrwQpRTauuy04CX1Rr+PVVpOTLtytJ8q/ApA\n",
       "l4eX/OUzsyiZcb4ggAXtArQ1t7Dnr2W8piCXn332rwEg7s0w+neOi3rDNeuylILfv2xJwSlCYii9\n",
       "BSAFxnfubikXONy14oBiJRGF+YNtSTZsd2DnYU4AjhRxr28nB+BwTXX41p4TsBBBu5P6RZgKgJuE\n",
       "6ec7MC8l92o7sksiGdLnz2XD2HGxZ3UUhkTopeAkP7vTBSRfyeBgxJmhE7fO6DcVRGV13ozCIACB\n",
       "jhZEmWt5SzgvIXKe5tF7C4Yb/Zpe2O5WhDJFZEe0fBJm6CcrLdroJSVD6z0zp/kOwDBMBUBf28EA\n",
       "O+rIg8Ovoe1e67mZtKcuBcMwBwA8OgCRbOyPRxvZA/1XV/Z5woDKHToxBeAYtw1oZJzcc9ZF+Sxx\n",
       "9F+sKeNi1p96FwzCnADQRs2zISsPeBlDJ58wsGAxlbFh1nTTpQ48h6nJZ7iDgQOtB0QaIPWTPbfx\n",
       "orWIXUxj5cWWaGcdBC7d6CmMpCBnN9Rx1uvttYa+Nx57wTwM/Hgnd+/CpV2q0t8GkPjafB6+DECY\n",
       "f7onfCZgdU9I/eWLY31X/Ol7waOo196T/gLHcBdW2eHyHgAAAABJRU5ErkJggg==\n",
       "\" style=\"display:inline;vertical-align:middle;\" /></a></span>"
      ],
      "text/plain": [
       "|- (x in IntegerNonZero) in BOOLEAN"
      ]
     },
     "metadata": {},
     "output_type": "display_data"
    }
   ],
   "source": [
    "InSet(InSet(x, IntegerNonZero), Boolean).prove()"
   ]
  },
  {
   "cell_type": "code",
   "execution_count": 45,
   "metadata": {},
   "outputs": [
    {
     "data": {
      "text/html": [
       "<span style=\"font-size:20px;\"> <a class=\"ProveItLink\" href=\"../__pv_it/demonstrations/8cce26c55feec378698a58bc5d38e5ae6eb3ddd20/proof.ipynb\" style=\"text-decoration: none\">&nbsp;&#x22A2;&nbsp;&nbsp;</a><a class=\"ProveItLink\" href=\"../__pv_it/theorems/776b4015c8a3026cee4229d594023e74f62341ff0/expr.ipynb\"><img src=\"data:image/png;base64,iVBORw0KGgoAAAANSUhEUgAAAHgAAAAZBAMAAAAI4vceAAAAMFBMVEX///9UVFQiIiKIiIjMzMx2\n",
       "dnYQEBDc3NxEREQyMjLu7u5mZmaqqqq6urqYmJgAAAB66f/FAAAAAXRSTlMAQObYZgAAAAlwSFlz\n",
       "AAAOxAAADsQBlSsOGwAAAfFJREFUOMtjYGB4y0AIcOOU4dlAUDN7Ay6ZlQyEwWNcEn1YnTPt2wyl\n",
       "tgcwLtMCVGlmtc6fSbJAJyVg08zc6MAwgRPBFUCT5+A1qFx4gYE7AGsQbWBgfhDDwNIBBO0MDFy/\n",
       "MDQ/YC1oYOC/gE0zYwHDCi6kYJqHqZnvgACDP4p3mJuUNEE0FwPDFkYHhPgOKG2hpDQBrnkCgxGy\n",
       "Xt7JcKNYBLyRJMwg1E0rhM2MdQEMkiB7jKVcY0BilQhncCzoQtJ8HyzBPgvhbCsjUQaGDnAKMjTY\n",
       "BBKbjlB+lM8ASbM/2AucBQjNmvnaCxgmApnPGd4vkAOJTUAoR4ooIKgHBysncoAxv53FoA1kOjDs\n",
       "hPgzSUlJSQMScgdiGRgQnlgP1uwGlFZqgGpmaLgKtpmBIRlMIkXOClB6FkfYDHb2CmSbGRo4IJp5\n",
       "vzOsAtEKcFkRYExzfUD4GexbJlTNnAwSQAt7GRMYwAnNGB5RG24DU4oCWmgzG6BoPgyKQZ4vqxN4\n",
       "D4BD5AA8omYxsPcgfPEMQs1BaA5gNd0AMpNrs8HpNxBPS9yCSF7rzOjIz0Ak+40QamEvJAyZp3WA\n",
       "cxUbStrmjYAkT3QAS9tXm5QmIOefACIKA4xcBQuaBCI08wngkJAhQjNTAS3KMJ4ACkpPYsrtBdjF\n",
       "AUDxeJmWDscGAAAAAElFTkSuQmCC\n",
       "\" style=\"display:inline;vertical-align:middle;\" /></a></span>"
      ],
      "text/plain": [
       "|- (x in IntegerNeg) in BOOLEAN"
      ]
     },
     "metadata": {},
     "output_type": "display_data"
    }
   ],
   "source": [
    "InSet(InSet(x, IntegerNeg), Boolean).prove()"
   ]
  },
  {
   "cell_type": "code",
   "execution_count": 46,
   "metadata": {},
   "outputs": [
    {
     "data": {
      "text/html": [
       "<span style=\"font-size:20px;\"> <a class=\"ProveItLink\" href=\"../__pv_it/demonstrations/f84bd20bb2fa59c8553dc9c11b51fc0e37dde90e0/proof.ipynb\" style=\"text-decoration: none\">&nbsp;&#x22A2;&nbsp;&nbsp;</a><a class=\"ProveItLink\" href=\"../__pv_it/theorems/434b503dda0d9aad59e5df5f11a05d746f8c0b8a0/expr.ipynb\"><img src=\"data:image/png;base64,iVBORw0KGgoAAAANSUhEUgAAAIAAAAAaBAMAAACN7UndAAAAMFBMVEX///9UVFQiIiKIiIjMzMx2\n",
       "dnYQEBDc3NxEREQyMjLu7u5mZmaqqqq6urqYmJgAAAB66f/FAAAAAXRSTlMAQObYZgAAAAlwSFlz\n",
       "AAAOxAAADsQBlSsOGwAAAkxJREFUOMtjYCAEeNoZWIMD8Kl4i19/MwPDY4YbDNy4VWzAp5+vD0ik\n",
       "MPAXsDfgUrISn37mHiDB/ouB7QDQGThAH1ZnTfs2Q6ntAUsOiMPyi4HpAQPTAjSz1Tp/JskCjU/A\n",
       "anOjA8METgaGE1EQA9gMGJgF0NRw8BpULrzAwI01gLk3MDA/iAEybkSBvcB/gIHrF4YBD1gLGhj4\n",
       "L2AzgLGAYQUXONgct0MCkYFhHqYBfAcEGPxRvMbcpKQJorkYGLYwOoCFCqUYjBkuAhk7oGoslJQm\n",
       "wA2YwGCErJ93Mtw4FgFvKKsAmJB2AWkzCPemFcIFjHUBDJJA5mLDJaEHQGKVCOdwLOhCc/J9sCT7\n",
       "LIQXrIxEGRg6gMwNzMLcCiCx6QjlR/kM0AzwB3uJswBhgGa+9gKGicDUVsD3i/EBSGwCQjkoEhlY\n",
       "OoCgHSpSDw5uTuRAZH47i0EbqIyBG6KTJUlJSUkDEpoHYhkYUJPOerABbkAlSg1QAxgaroJcwABK\n",
       "J+CwR6T3FaC0L45iQD3YCyuQXcDQwAEx4H4BF9g2BbisCDAlcH1ADQOw75lQDeBkkAAaekGMgRUs\n",
       "ZgyPxA23galJAUssMBugGHAYFLvnvbYx3AGLcR6AR+IsBvYe1Bz8DELNQRgQwGq6AWTuamOefRCd\n",
       "XBK3IJLXOjM68jNQs8lGCLWwFxK2zNM6wLmRDSUv8EZAkjI2AMsLV5uUJiDnuwAG4gBGboQFVwKR\n",
       "BvAJ4JCQIdIApgJyykQkgLNM5CEuEHCXygTqBXhgL8AuDgALZY1oZ8ReBAAAAABJRU5ErkJggg==\n",
       "\" style=\"display:inline;vertical-align:middle;\" /></a></span>"
      ],
      "text/plain": [
       "|- (x in IntegerNonPos) in BOOLEAN"
      ]
     },
     "metadata": {},
     "output_type": "display_data"
    }
   ],
   "source": [
    "InSet(InSet(x, IntegerNonPos), Boolean).prove()"
   ]
  },
  {
   "cell_type": "code",
   "execution_count": 47,
   "metadata": {},
   "outputs": [
    {
     "data": {
      "text/html": [
       "<span style=\"font-size:20px;\"><a class=\"ProveItLink\" href=\"../__pv_it/demonstrations/b200827e7171d8a599a957bfe6e7b4d33e9b49200/expr.ipynb\"><img src=\"data:image/png;base64,iVBORw0KGgoAAAANSUhEUgAAAEkAAAAVCAMAAAA94TNiAAAAOVBMVEX///82NjYbGxsSEhJmZmYQ\n",
       "EBCYmJgyMjKqqqrMzMwiIiJERER2dnbc3Nzu7u5UVFSIiIi6uroAAABnrRDmAAAAAXRSTlMAQObY\n",
       "ZgAAAAlwSFlzAAAOxAAADsQBlSsOGwAAATtJREFUOMutVItuwyAM9DYeBvP+/4+dcWhKKrKmyqwW\n",
       "Kch3yR1nAG5Vgn+qUGUNJdwkirmvpgBUuseUY1+146XFO0RVNMXWzdJ4FYVWN23Je9IGQFGvH/4b\n",
       "cMLkzVWmQrmLsPIbWxt4Y9LlKpNSAxweMtIweVPX8CNzGbzhu7rvLxJ17xwvbIn39hhB5UA0iqi8\n",
       "t/YU5LNTsWWRXgY79XigZwMnU/WnWnKKodBkWbTLKWDwjseFwwEo83aalNqlaAwS59GyEFLBkxyB\n",
       "gz/aXhKAdTXNqfVtbLsip/2oeZoKjoE9n39scszTOa3GkTcjTdO2jIpwNPN8mV91uUGR2uk36TDE\n",
       "hTkhrwlQULcEZH96yYjVxYKZLMdFAiQakfD0KqryjpTNhE6Z6sHYqslqHg6+ECh8evfQYVre1y+G\n",
       "iwzpoo+/1wAAAABJRU5ErkJggg==\n",
       "\" style=\"display:inline;vertical-align:middle;\" /></a> <a class=\"ProveItLink\" href=\"../__pv_it/demonstrations/c699dd77dc08aa76f13471dc815289ff7e86211a0/proof.ipynb\" style=\"text-decoration: none\">&nbsp;&#x22A2;&nbsp;&nbsp;</a><a class=\"ProveItLink\" href=\"../../natural_numbers/__pv_it/theorems/4f852a423d294b86a0634c9895ef45dafd210e710/expr.ipynb\"><img src=\"data:image/png;base64,iVBORw0KGgoAAAANSUhEUgAAADMAAAAUCAMAAAAX1vWWAAAAPFBMVEX///8NDQ0WFhYLCwsYGBhm\n",
       "ZmYQEBCYmJgyMjKqqqrMzMwiIiJERER2dnbc3Nzu7u5UVFSIiIi6uroAAADZyZWXAAAAAXRSTlMA\n",
       "QObYZgAAAAlwSFlzAAAOxAAADsQBlSsOGwAAANhJREFUOMudk9kWhCAIhpnFXEnR93/XUdp0avQ0\n",
       "XHTC+PmAEKBvwsNdM672EEnMQ40zlaM0gLcjkQmVIy2z3AhTJ3WcQKd+h7HGQBKMTrnCSMHPSI7O\n",
       "GlVj/KaRucAMpXJ0BAjL9n6V58aaEy4aghjBOj4yXcyhQfCZEC97i6Jx/aKJiTi6vAfVx2wz0GUG\n",
       "a3RuzTf9PB9LV/vsHP8ZyfVMuJaGLea7VjlxPrU3TwpkMwQtTqO3ZXemEhV5JXyQuo/JMQIpmN8r\n",
       "oPH2HbjCjEz+gbH3MWB6Hz/R2glt8u6z+gAAAABJRU5ErkJggg==\n",
       "\" style=\"display:inline;vertical-align:middle;\" /></a></span>"
      ],
      "text/plain": [
       "{n in IntegerNonZero} |- n != 0"
      ]
     },
     "metadata": {},
     "output_type": "display_data"
    }
   ],
   "source": [
    "NotEquals(n, zero).prove(assumptions=[InSet(n, IntegerNonZero)], \n",
    "                         conclude_automation=False) # should be side-effect"
   ]
  },
  {
   "cell_type": "code",
   "execution_count": 48,
   "metadata": {},
   "outputs": [
    {
     "data": {
      "text/html": [
       "<span style=\"font-size:20px;\"><a class=\"ProveItLink\" href=\"../__pv_it/demonstrations/72d5b8e725d24a9137d7086f16df0a6b6bf0a0d50/expr.ipynb\"><img src=\"data:image/png;base64,iVBORw0KGgoAAAANSUhEUgAAAD8AAAAQBAMAAABTi7oPAAAAMFBMVEX///9ERES6uroQEBAyMjLc\n",
       "3NyYmJgiIiJmZmaqqqp2dnbMzMxUVFSIiIju7u4AAAAd7oVFAAAAAXRSTlMAQObYZgAAAAlwSFlz\n",
       "AAAOxAAADsQBlSsOGwAAAOVJREFUKM9jYMAEU+xNxAvNGHCDi6cZWBgc8CjoYGC4xjWBYaMgEARg\n",
       "U3CUgU/gITYJXvHyEhD9gIFjw2ks8ky+D2DMPdwNCPG3d16vmgBihMDlGeQYEWyGBt6zHAUghitc\n",
       "iHNBLkKeLYDtH08CiIXwGIonuRk4IDxu8/Ly8kIw8yaXAgMfQgnzBTDFJwAT4BMIZGDgQYSAfgAf\n",
       "2EkFMAGeDUcZGN7DeA8VDjNwgVl3YUI7mICePA7jzd/XzKAJcdoEmCdZHjAEToQpeHGXsw0iw3dQ\n",
       "DxJghs6Cwp+lsAXlQkhQowAA+CAz79dtbnIAAAAASUVORK5CYII=\n",
       "\" style=\"display:inline;vertical-align:middle;\" /></a> <a class=\"ProveItLink\" href=\"../__pv_it/demonstrations/70803b306becd782f6210dbe4e9bc6bba4eca4a60/proof.ipynb\" style=\"text-decoration: none\">&nbsp;&#x22A2;&nbsp;&nbsp;</a><a class=\"ProveItLink\" href=\"../../real_numbers/__pv_it/theorems/068e2f545e08d21821de8eb3c3a29ef348d1823a0/expr.ipynb\"><img src=\"data:image/png;base64,iVBORw0KGgoAAAANSUhEUgAAADEAAAAQBAMAAABNQoq8AAAAMFBMVEX///9ERES6uroQEBAyMjLc\n",
       "3NyYmJgiIiJmZmaqqqp2dnbMzMxUVFSIiIju7u4AAAAd7oVFAAAAAXRSTlMAQObYZgAAAAlwSFlz\n",
       "AAAOxAAADsQBlSsOGwAAAMJJREFUGNNjYMAGVt0IwCrOwDKBrxS7TDoDw0J0MU5XECnDwDD/AaoE\n",
       "WwVY4AcDw/4JDAxv77xeNQEiwVsFluADySQwMDTwnuUoAEu8qoUoYP0FlLnAwBbA9o8nASQQUcaA\n",
       "JLOAgZuBwwHM5/GE2cYHlNG/AGQwX0CTAblgPshq/QC+ByimMQgyMOQ/YHiocJiBiwHFBQzJDAwt\n",
       "QG37mhk0oSJvayH+Y5/AZ83A8OIuZ9sEuE+hHuq6swE9dNhcGQgDAK5sNU4l3wi+AAAAAElFTkSu\n",
       "QmCC\n",
       "\" style=\"display:inline;vertical-align:middle;\" /></a></span>"
      ],
      "text/plain": [
       "{x in IntegerNeg} |- x < 0"
      ]
     },
     "metadata": {},
     "output_type": "display_data"
    }
   ],
   "source": [
    "Less(x, zero).prove(assumptions=[InSet(x, IntegerNeg)], \n",
    "                    conclude_automation=False) # should be side-effect"
   ]
  },
  {
   "cell_type": "code",
   "execution_count": 49,
   "metadata": {},
   "outputs": [
    {
     "data": {
      "text/html": [
       "<span style=\"font-size:20px;\"><a class=\"ProveItLink\" href=\"../__pv_it/demonstrations/f51fe37a5b1d9a1ca4dd2370134d2b4efe165f9d0/expr.ipynb\"><img src=\"data:image/png;base64,iVBORw0KGgoAAAANSUhEUgAAAEgAAAAUBAMAAADcj2b4AAAAMFBMVEX///9ERES6uroQEBAyMjLc\n",
       "3NyYmJgiIiJmZmaqqqp2dnbMzMxUVFSIiIju7u4AAAAd7oVFAAAAAXRSTlMAQObYZgAAAAlwSFlz\n",
       "AAAOxAAADsQBlSsOGwAAATxJREFUKM9jYMALJgYwrLrFQEDNBQa2C0wCeNUkJjAwMG9g+IpPzcUJ\n",
       "QCL+AYMlNskp9ibihWYMm0FqGPY/YCjDasJpBhYGBwZOqQcQRbbYFHUwMFzjAhrDBFIFtO4nNkVH\n",
       "GfgEHoIY3CcCMBzOK15eAqIfMHBsOA0WYT3zgPcC0wEkNUy+D2DMPdwNEAYrA8OqG0Dht3derwL7\n",
       "IwSuhkGO8QGqCxp4z3IUgBiucCHOBbmoatgC2P7xJIBYDnAxFjB7oyAQBIAFuBk4ILLc5uXl5YVg\n",
       "5k0uBQY+VLOYL4ApPng88gkEMjDwBKAo0g/gAzuzACbAs+EoA8N7ZCUPFQ4zcIFZd2FCO5iAAXAc\n",
       "WdH8fc0MmhDnToAFAMsDhsCJyIpe3OVsg8jyHdSDBKqhs6DwZykc6YdpISRaMAAAUgJPzLNJij4A\n",
       "AAAASUVORK5CYII=\n",
       "\" style=\"display:inline;vertical-align:middle;\" /></a> <a class=\"ProveItLink\" href=\"../__pv_it/demonstrations/98bdc00d13005b724fab9cefff70cb428b264c8d0/proof.ipynb\" style=\"text-decoration: none\">&nbsp;&#x22A2;&nbsp;&nbsp;</a><a class=\"ProveItLink\" href=\"../../real_numbers/__pv_it/theorems/c30a0bd668f16bebb68a7791021eba7f002ea2a10/expr.ipynb\"><img src=\"data:image/png;base64,iVBORw0KGgoAAAANSUhEUgAAADEAAAARBAMAAACGHlkZAAAAMFBMVEX///9ERES6uroQEBAyMjLc\n",
       "3NyYmJgiIiJmZmaqqqp2dnbMzMxUVFSIiIju7u4AAAAd7oVFAAAAAXRSTlMAQObYZgAAAAlwSFlz\n",
       "AAAOxAAADsQBlSsOGwAAAMFJREFUGNNjYMAGVt0IQBfidAWRLBP4StEk2CoegKh0BoaFqBK8VWAJ\n",
       "BhkGhvkPkCVe1UIZPxgY9k9gYHh75/WqCSD+izKoBB9IJoGBoYH3LEcBkP/GE6aX9RdQ5gIDWwDb\n",
       "Px6gAgYeVJkFDNwMHA4QgQi4aUAZ/QtABvMFLC6YD7JaP4DvAaqrBRkY8h8wPFQ4zMCF5tNkBoYW\n",
       "oLZ9zQyaiNDxBpHsE/isgb64y9k2AS2Q+LrubGCgDDwvB4FqOB8Ax+c5l95ky0sAAAAASUVORK5C\n",
       "YII=\n",
       "\" style=\"display:inline;vertical-align:middle;\" /></a></span>"
      ],
      "text/plain": [
       "{x in IntegerNonPos} |- x <= 0"
      ]
     },
     "metadata": {},
     "output_type": "display_data"
    }
   ],
   "source": [
    "LessEq(x, zero).prove(assumptions=[InSet(x, IntegerNonPos)], \n",
    "                      conclude_automation=False) # should be side-effect"
   ]
  },
  {
   "cell_type": "code",
   "execution_count": 50,
   "metadata": {},
   "outputs": [
    {
     "data": {
      "text/html": [
       "<span style=\"font-size:20px;\"><a class=\"ProveItLink\" href=\"../__pv_it/theorems/9dfd51fc82a5dda1e85f06fc33528e3db8c0b6dc0/expr.ipynb\"><img src=\"data:image/png;base64,iVBORw0KGgoAAAANSUhEUgAAADMAAAAQBAMAAABJt1qBAAAAMFBMVEX///9ERES6uroQEBAyMjLc\n",
       "3NyYmJgiIiJmZmaqqqp2dnbMzMxUVFSIiIju7u4AAAAd7oVFAAAAAXRSTlMAQObYZgAAAAlwSFlz\n",
       "AAAOxAAADsQBlSsOGwAAAN1JREFUGNNjYMAEU+xNxAvNGLCBi6cZWBgcsEp1MDBc45qAVeooA5/A\n",
       "Q1QhXvHyEhD9gIFjw2kUGSbfBzDmHu4GEPX2zutVYIND4DIMcoxgdgPvWY4CEMMVLsO5IBdEsQWw\n",
       "/eNJALEQzoU6nZuBAyLGbV5eXl4IZt7kUmDgAzGYL4D5fAIwTXwCgQwMPAFAln4AH9jSApgUz4aj\n",
       "DAzvGRgeKhxm4AKL3IVJ7WACOv04A8P8fc0MmhDLYWEjx/KAIXAiA8OLu5xtEDG+g3oQrxs6Cwp/\n",
       "lkINjoWQgIICAM0UMqoFj6RNAAAAAElFTkSuQmCC\n",
       "\" style=\"display:inline;vertical-align:middle;\" /></a>, <a class=\"ProveItLink\" href=\"../../real_numbers/__pv_it/theorems/ffcbd76494d8407c0ebebaa8c88703403e0e53b60/expr.ipynb\"><img src=\"data:image/png;base64,iVBORw0KGgoAAAANSUhEUgAAADEAAAARBAMAAACGHlkZAAAAMFBMVEX///9ERES6uroQEBAyMjLc\n",
       "3NyYmJgiIiJmZmaqqqp2dnbMzMxUVFSIiIju7u4AAAAd7oVFAAAAAXRSTlMAQObYZgAAAAlwSFlz\n",
       "AAAOxAAADsQBlSsOGwAAAL9JREFUGNNjYMAGVt0IQOI9SYAzWSbwlSLJ8C2/AGOmMzAsRDHj+joo\n",
       "Q4aBYf4DFKl0qNQPBob9ExgY3t55vWoCVGpKK9hckAzQ1gbesxwFMF0q54AE6y+gzAUGtgC2fzxw\n",
       "Z6nIwWQWMHAzcDjALZpyFGwaUEYf5FBmhGv74C6YD7JaP4DvAaqrBRkY8h8wPFQ4zMCF5tNkBoYW\n",
       "oLZ9zQyaaKHDPoHPmoHhxV3OtgloAcrXdWcDA2XgeTkIVMP5AFzBOzPS0ealAAAAAElFTkSuQmCC\n",
       "\" style=\"display:inline;vertical-align:middle;\" /></a> <a class=\"ProveItLink\" href=\"../__pv_it/demonstrations/2f01d78f28be2f707da6f57f03c24269de5f52bb0/proof.ipynb\" style=\"text-decoration: none\">&nbsp;&#x22A2;&nbsp;&nbsp;</a><a class=\"ProveItLink\" href=\"../../natural_numbers/__pv_it/theorems/8c13e7bcba0a4bd4dd1c903dda9179f0c1a274990/expr.ipynb\"><img src=\"data:image/png;base64,iVBORw0KGgoAAAANSUhEUgAAADQAAAAQBAMAAACra0H4AAAAMFBMVEX///9ERES6uroQEBAyMjLc\n",
       "3NyYmJgiIiJmZmaqqqp2dnbMzMxUVFSIiIju7u4AAAAd7oVFAAAAAXRSTlMAQObYZgAAAAlwSFlz\n",
       "AAAOxAAADsQBlSsOGwAAAN5JREFUGNNjYMAAfPWCfgxc9kYMWADjBB0GhvfYZBh4SrkSGJixS01k\n",
       "cGVgRxG6WF7uAJYKuxCCKqVyD6Yr4DTvApDU2zuvV00A0qx+cAMDGBmEQFINvGc5CoA0SwBCirvh\n",
       "+XMGBrYAtn88CSAphDMCGDI5hRkYuBk4wHYzbC4HAgGoFM+DwyAW8wWw1ENkXXwHnoNY+gF8D4AU\n",
       "O7IUw15GoGKFwwxcIAHeC/CA2gDkbWRgmL+vmUETLOIJk2IB+aWFgeHFXc62CWCRN0IPwDS3vyGQ\n",
       "fIISUFrikICCAgA/wDGOvGvv4AAAAABJRU5ErkJggg==\n",
       "\" style=\"display:inline;vertical-align:middle;\" /></a></span>"
      ],
      "text/plain": [
       "{x in Integer, x >= 0} |- x in Natural"
      ]
     },
     "metadata": {},
     "output_type": "display_data"
    }
   ],
   "source": [
    "InSet(x, Natural).prove(assumptions=[InSet(x, Integer), greater_eq(x, zero)])"
   ]
  },
  {
   "cell_type": "code",
   "execution_count": 51,
   "metadata": {},
   "outputs": [
    {
     "data": {
      "text/html": [
       "<span style=\"font-size:20px;\"><a class=\"ProveItLink\" href=\"../__pv_it/theorems/9dfd51fc82a5dda1e85f06fc33528e3db8c0b6dc0/expr.ipynb\"><img src=\"data:image/png;base64,iVBORw0KGgoAAAANSUhEUgAAADMAAAAQBAMAAABJt1qBAAAAMFBMVEX///9ERES6uroQEBAyMjLc\n",
       "3NyYmJgiIiJmZmaqqqp2dnbMzMxUVFSIiIju7u4AAAAd7oVFAAAAAXRSTlMAQObYZgAAAAlwSFlz\n",
       "AAAOxAAADsQBlSsOGwAAAN1JREFUGNNjYMAEU+xNxAvNGLCBi6cZWBgcsEp1MDBc45qAVeooA5/A\n",
       "Q1QhXvHyEhD9gIFjw2kUGSbfBzDmHu4GEPX2zutVYIND4DIMcoxgdgPvWY4CEMMVLsO5IBdEsQWw\n",
       "/eNJALEQzoU6nZuBAyLGbV5eXl4IZt7kUmDgAzGYL4D5fAIwTXwCgQwMPAFAln4AH9jSApgUz4aj\n",
       "DAzvGRgeKhxm4AKL3IVJ7WACOv04A8P8fc0MmhDLYWEjx/KAIXAiA8OLu5xtEDG+g3oQrxs6Cwp/\n",
       "lkINjoWQgIICAM0UMqoFj6RNAAAAAElFTkSuQmCC\n",
       "\" style=\"display:inline;vertical-align:middle;\" /></a>, <a class=\"ProveItLink\" href=\"../../real_numbers/__pv_it/theorems/0c04c146b0f7b92967ed28917fb83981f8ee0b1b0/expr.ipynb\"><img src=\"data:image/png;base64,iVBORw0KGgoAAAANSUhEUgAAADEAAAAQBAMAAABNQoq8AAAAMFBMVEX///9ERES6uroQEBAyMjLc\n",
       "3NyYmJgiIiJmZmaqqqp2dnbMzMxUVFSIiIju7u4AAAAd7oVFAAAAAXRSTlMAQObYZgAAAAlwSFlz\n",
       "AAAOxAAADsQBlSsOGwAAAMFJREFUGNNjYMAGVt0IwCrOwDKBrxS7TDoDw0Ik7pMEOFOGgWH+A4QM\n",
       "3/ILMOYPBob9ExgY3t55vWoCWOD6OqgakAzQhAbesxwFUPP7wBTrL6DMBQa2ALZ/PDArprTCZRYw\n",
       "cDNwOCAsUzkHMg0oow+ylPkCkowc1AXzQVbrB/DBnDjlKJgSZGDIf8DwUOEwAxfMh60QOpmBoQWo\n",
       "bV8zgyYDiqsZ2CfwWTMwvLjL2Qb2Dt91uH18XXc2IIXO8wQGIgEAisM3iEYrHlYAAAAASUVORK5C\n",
       "YII=\n",
       "\" style=\"display:inline;vertical-align:middle;\" /></a> <a class=\"ProveItLink\" href=\"../__pv_it/demonstrations/96be14b6784da6c41884ff2a681aed0adb63cfaf0/proof.ipynb\" style=\"text-decoration: none\">&nbsp;&#x22A2;&nbsp;&nbsp;</a><a class=\"ProveItLink\" href=\"../../natural_numbers/__pv_it/theorems/eeefdffd3aa81290285f57914cfcea6647727dd80/expr.ipynb\"><img src=\"data:image/png;base64,iVBORw0KGgoAAAANSUhEUgAAAEAAAAATBAMAAADSXRa0AAAAMFBMVEX///9ERES6uroQEBAyMjLc\n",
       "3NyYmJgiIiJmZmaqqqp2dnbMzMxUVFSIiIju7u4AAAAd7oVFAAAAAXRSTlMAQObYZgAAAAlwSFlz\n",
       "AAAOxAAADsQBlSsOGwAAAO5JREFUKM9jYMAHGhgIAAHyFPDVC/oxcNkb4TaBcYIOA8N7PFbwlHIl\n",
       "MDAzcAgKGgqKYVUwkcGVgR2LCRfLyx3ACsIuhGBToHIPZkLAad4FCAVv77xeNQFIs/rBrQhgZBBC\n",
       "KGjgPctRAKRZAhAKuBueP4eFJFsA2z+eBJAChCMDGDI5hWE8bgYOsMsYNpcDgQBUAc+DwwjHMV8A\n",
       "Uw+RTeA78ByhQD+A7wGQYkdWwLCXEcZ7qHCYgQvE4L0AD+oNQN5GGG/+vmYGTTDLEybEAvJ1C4z3\n",
       "4i5n2wQw643QA4iz/Q2B5BMscaAlDglqFAAASi0zkHb1wmgAAAAASUVORK5CYII=\n",
       "\" style=\"display:inline;vertical-align:middle;\" /></a></span>"
      ],
      "text/plain": [
       "{x in Integer, x > 0} |- x in NaturalPos"
      ]
     },
     "metadata": {},
     "output_type": "display_data"
    }
   ],
   "source": [
    "InSet(x, NaturalPos).prove(assumptions=[InSet(x, Integer), greater(x, zero)])"
   ]
  },
  {
   "cell_type": "code",
   "execution_count": 52,
   "metadata": {},
   "outputs": [
    {
     "data": {
      "text/html": [
       "<span style=\"font-size:20px;\"><a class=\"ProveItLink\" href=\"../__pv_it/theorems/9dfd51fc82a5dda1e85f06fc33528e3db8c0b6dc0/expr.ipynb\"><img src=\"data:image/png;base64,iVBORw0KGgoAAAANSUhEUgAAADMAAAAQBAMAAABJt1qBAAAAMFBMVEX///9ERES6uroQEBAyMjLc\n",
       "3NyYmJgiIiJmZmaqqqp2dnbMzMxUVFSIiIju7u4AAAAd7oVFAAAAAXRSTlMAQObYZgAAAAlwSFlz\n",
       "AAAOxAAADsQBlSsOGwAAAN1JREFUGNNjYMAEU+xNxAvNGLCBi6cZWBgcsEp1MDBc45qAVeooA5/A\n",
       "Q1QhXvHyEhD9gIFjw2kUGSbfBzDmHu4GEPX2zutVYIND4DIMcoxgdgPvWY4CEMMVLsO5IBdEsQWw\n",
       "/eNJALEQzoU6nZuBAyLGbV5eXl4IZt7kUmDgAzGYL4D5fAIwTXwCgQwMPAFAln4AH9jSApgUz4aj\n",
       "DAzvGRgeKhxm4AKL3IVJ7WACOv04A8P8fc0MmhDLYWEjx/KAIXAiA8OLu5xtEDG+g3oQrxs6Cwp/\n",
       "lkINjoWQgIICAM0UMqoFj6RNAAAAAElFTkSuQmCC\n",
       "\" style=\"display:inline;vertical-align:middle;\" /></a>, <a class=\"ProveItLink\" href=\"../../real_numbers/__pv_it/theorems/d2d428f1124ef55277523143f9436098e99f174d0/expr.ipynb\"><img src=\"data:image/png;base64,iVBORw0KGgoAAAANSUhEUgAAADEAAAAUCAMAAAATIyWrAAAAPFBMVEX///8NDQ0WFhYLCwsYGBhE\n",
       "RES6uroQEBAyMjLc3NyYmJgiIiJmZmaqqqp2dnbMzMxUVFSIiIju7u4AAAD+DEmOAAAAAXRSTlMA\n",
       "QObYZgAAAAlwSFlzAAAOxAAADsQBlSsOGwAAANxJREFUKM+VktsSwiAMROMFqBAuCf//ryZglbaK\n",
       "0zy0k4HlZBcAZoUM5yqbsUuJ8PFHYfLQLBGAw1ySy9D40DhmjhgPNE0e68yZHRFQsWGrzAZMVDin\n",
       "FHeKZUTwqvAaIQAVAgxrpKHV/abflfOoqStILMlRXsYrfoL4KOSnCeJydIGblrvCKkPL0UGx7JLv\n",
       "PmLtbm2VZebRx/XS3bzzMu0mdHw2ForTy9ki9rl7B6/xY82M0tlNuBEPYwZ9JU5cMxLJBh/nCN2Y\n",
       "qORf1x3TyVf+DTEvfxoRziIgzxaftzUJfR2MixoAAAAASUVORK5CYII=\n",
       "\" style=\"display:inline;vertical-align:middle;\" /></a> <a class=\"ProveItLink\" href=\"../__pv_it/demonstrations/c9af7dbe5f9df04e1bfafc108667f1932ba2e4a80/proof.ipynb\" style=\"text-decoration: none\">&nbsp;&#x22A2;&nbsp;&nbsp;</a><a class=\"ProveItLink\" href=\"../__pv_it/theorems/d4ff151c606fc682fa695e07d71754c7013cf0770/expr.ipynb\"><img src=\"data:image/png;base64,iVBORw0KGgoAAAANSUhEUgAAAEgAAAAVCAMAAADSI1hcAAAAOVBMVEX///82NjYbGxsSEhJERES6\n",
       "uroQEBAyMjLc3NyYmJgiIiJmZmaqqqp2dnbMzMxUVFSIiIju7u4AAABAaMz/AAAAAXRSTlMAQObY\n",
       "ZgAAAAlwSFlzAAAOxAAADsQBlSsOGwAAATxJREFUOMutVIuOhCAM7N2VZ3n//8deQVYxwq0br1ES\n",
       "sTNk2ikATyLD/4QXbfXJP+PRsa4mAQh8RBR1XWXgpegHPKIJ0qUWSrqbIKdkkQqtRWkACGv88Gsg\n",
       "NCJrbhIljFWBak/f2rAbkUw3iYg61r805F7fTVpxn9SVsRu8Svv+wibtXbET18NadXIeBWgCm6K4\n",
       "Z9b2x1VDVLqalrGBXh94/GdDUvvKKcUcvD9kajXzPmN3uJsVl09JMQHZfUfNFDvfTNwzJgmGUYZL\n",
       "Hw8rzNJOrXdiklDLRydokLbHMELJ9Rn9c+LPfsqTEeQ9jcOELZpUbZCPo+zESKEz5LK6m1BAlLWL\n",
       "g4xLT7jvYmt9tKtxLCETE4nR5MpdW98sodGtrp5MfL4jc4LmiGIsqpCoJE8EXwHoP71scByR9/EL\n",
       "b7EL3KnyzoUAAAAASUVORK5CYII=\n",
       "\" style=\"display:inline;vertical-align:middle;\" /></a></span>"
      ],
      "text/plain": [
       "{x in Integer, x != 0} |- x in IntegerNonZero"
      ]
     },
     "metadata": {},
     "output_type": "display_data"
    }
   ],
   "source": [
    "InSet(x, IntegerNonZero).prove(assumptions=[InSet(x, Integer), NotEquals(x, zero)])"
   ]
  },
  {
   "cell_type": "code",
   "execution_count": 53,
   "metadata": {},
   "outputs": [
    {
     "data": {
      "text/html": [
       "<span style=\"font-size:20px;\"><a class=\"ProveItLink\" href=\"../__pv_it/theorems/9dfd51fc82a5dda1e85f06fc33528e3db8c0b6dc0/expr.ipynb\"><img src=\"data:image/png;base64,iVBORw0KGgoAAAANSUhEUgAAADMAAAAQBAMAAABJt1qBAAAAMFBMVEX///9ERES6uroQEBAyMjLc\n",
       "3NyYmJgiIiJmZmaqqqp2dnbMzMxUVFSIiIju7u4AAAAd7oVFAAAAAXRSTlMAQObYZgAAAAlwSFlz\n",
       "AAAOxAAADsQBlSsOGwAAAN1JREFUGNNjYMAEU+xNxAvNGLCBi6cZWBgcsEp1MDBc45qAVeooA5/A\n",
       "Q1QhXvHyEhD9gIFjw2kUGSbfBzDmHu4GEPX2zutVYIND4DIMcoxgdgPvWY4CEMMVLsO5IBdEsQWw\n",
       "/eNJALEQzoU6nZuBAyLGbV5eXl4IZt7kUmDgAzGYL4D5fAIwTXwCgQwMPAFAln4AH9jSApgUz4aj\n",
       "DAzvGRgeKhxm4AKL3IVJ7WACOv04A8P8fc0MmhDLYWEjx/KAIXAiA8OLu5xtEDG+g3oQrxs6Cwp/\n",
       "lkINjoWQgIICAM0UMqoFj6RNAAAAAElFTkSuQmCC\n",
       "\" style=\"display:inline;vertical-align:middle;\" /></a>, <a class=\"ProveItLink\" href=\"../../real_numbers/__pv_it/theorems/068e2f545e08d21821de8eb3c3a29ef348d1823a0/expr.ipynb\"><img src=\"data:image/png;base64,iVBORw0KGgoAAAANSUhEUgAAADEAAAAQBAMAAABNQoq8AAAAMFBMVEX///9ERES6uroQEBAyMjLc\n",
       "3NyYmJgiIiJmZmaqqqp2dnbMzMxUVFSIiIju7u4AAAAd7oVFAAAAAXRSTlMAQObYZgAAAAlwSFlz\n",
       "AAAOxAAADsQBlSsOGwAAAMJJREFUGNNjYMAGVt0IwCrOwDKBrxS7TDoDw0J0MU5XECnDwDD/AaoE\n",
       "WwVY4AcDw/4JDAxv77xeNQEiwVsFluADySQwMDTwnuUoAEu8qoUoYP0FlLnAwBbA9o8nASQQUcaA\n",
       "JLOAgZuBwwHM5/GE2cYHlNG/AGQwX0CTAblgPshq/QC+ByimMQgyMOQ/YHiocJiBiwHFBQzJDAwt\n",
       "QG37mhk0oSJvayH+Y5/AZ83A8OIuZ9sEuE+hHuq6swE9dNhcGQgDAK5sNU4l3wi+AAAAAElFTkSu\n",
       "QmCC\n",
       "\" style=\"display:inline;vertical-align:middle;\" /></a> <a class=\"ProveItLink\" href=\"../__pv_it/demonstrations/e47b3b0b8d9870eb1dec8dcc45bae99ea463fd990/proof.ipynb\" style=\"text-decoration: none\">&nbsp;&#x22A2;&nbsp;&nbsp;</a><a class=\"ProveItLink\" href=\"../__pv_it/demonstrations/72d5b8e725d24a9137d7086f16df0a6b6bf0a0d50/expr.ipynb\"><img src=\"data:image/png;base64,iVBORw0KGgoAAAANSUhEUgAAAD8AAAAQBAMAAABTi7oPAAAAMFBMVEX///9ERES6uroQEBAyMjLc\n",
       "3NyYmJgiIiJmZmaqqqp2dnbMzMxUVFSIiIju7u4AAAAd7oVFAAAAAXRSTlMAQObYZgAAAAlwSFlz\n",
       "AAAOxAAADsQBlSsOGwAAAOVJREFUKM9jYMAEU+xNxAvNGHCDi6cZWBgc8CjoYGC4xjWBYaMgEARg\n",
       "U3CUgU/gITYJXvHyEhD9gIFjw2ks8ky+D2DMPdwNCPG3d16vmgBihMDlGeQYEWyGBt6zHAUghitc\n",
       "iHNBLkKeLYDtH08CiIXwGIonuRk4IDxu8/Ly8kIw8yaXAgMfQgnzBTDFJwAT4BMIZGDgQYSAfgAf\n",
       "2EkFMAGeDUcZGN7DeA8VDjNwgVl3YUI7mICePA7jzd/XzKAJcdoEmCdZHjAEToQpeHGXsw0iw3dQ\n",
       "DxJghs6Cwp+lsAXlQkhQowAA+CAz79dtbnIAAAAASUVORK5CYII=\n",
       "\" style=\"display:inline;vertical-align:middle;\" /></a></span>"
      ],
      "text/plain": [
       "{x in Integer, x < 0} |- x in IntegerNeg"
      ]
     },
     "metadata": {},
     "output_type": "display_data"
    }
   ],
   "source": [
    "InSet(x, IntegerNeg).prove(assumptions=[InSet(x, Integer), Less(x, zero)])"
   ]
  },
  {
   "cell_type": "code",
   "execution_count": 54,
   "metadata": {},
   "outputs": [
    {
     "data": {
      "text/html": [
       "<span style=\"font-size:20px;\"><a class=\"ProveItLink\" href=\"../__pv_it/theorems/9dfd51fc82a5dda1e85f06fc33528e3db8c0b6dc0/expr.ipynb\"><img src=\"data:image/png;base64,iVBORw0KGgoAAAANSUhEUgAAADMAAAAQBAMAAABJt1qBAAAAMFBMVEX///9ERES6uroQEBAyMjLc\n",
       "3NyYmJgiIiJmZmaqqqp2dnbMzMxUVFSIiIju7u4AAAAd7oVFAAAAAXRSTlMAQObYZgAAAAlwSFlz\n",
       "AAAOxAAADsQBlSsOGwAAAN1JREFUGNNjYMAEU+xNxAvNGLCBi6cZWBgcsEp1MDBc45qAVeooA5/A\n",
       "Q1QhXvHyEhD9gIFjw2kUGSbfBzDmHu4GEPX2zutVYIND4DIMcoxgdgPvWY4CEMMVLsO5IBdEsQWw\n",
       "/eNJALEQzoU6nZuBAyLGbV5eXl4IZt7kUmDgAzGYL4D5fAIwTXwCgQwMPAFAln4AH9jSApgUz4aj\n",
       "DAzvGRgeKhxm4AKL3IVJ7WACOv04A8P8fc0MmhDLYWEjx/KAIXAiA8OLu5xtEDG+g3oQrxs6Cwp/\n",
       "lkINjoWQgIICAM0UMqoFj6RNAAAAAElFTkSuQmCC\n",
       "\" style=\"display:inline;vertical-align:middle;\" /></a>, <a class=\"ProveItLink\" href=\"../../real_numbers/__pv_it/theorems/c30a0bd668f16bebb68a7791021eba7f002ea2a10/expr.ipynb\"><img src=\"data:image/png;base64,iVBORw0KGgoAAAANSUhEUgAAADEAAAARBAMAAACGHlkZAAAAMFBMVEX///9ERES6uroQEBAyMjLc\n",
       "3NyYmJgiIiJmZmaqqqp2dnbMzMxUVFSIiIju7u4AAAAd7oVFAAAAAXRSTlMAQObYZgAAAAlwSFlz\n",
       "AAAOxAAADsQBlSsOGwAAAMFJREFUGNNjYMAGVt0IQBfidAWRLBP4StEk2CoegKh0BoaFqBK8VWAJ\n",
       "BhkGhvkPkCVe1UIZPxgY9k9gYHh75/WqCSD+izKoBB9IJoGBoYH3LEcBkP/GE6aX9RdQ5gIDWwDb\n",
       "Px6gAgYeVJkFDNwMHA4QgQi4aUAZ/QtABvMFLC6YD7JaP4DvAaqrBRkY8h8wPFQ4zMCF5tNkBoYW\n",
       "oLZ9zQyaiNDxBpHsE/isgb64y9k2AS2Q+LrubGCgDDwvB4FqOB8Ax+c5l95ky0sAAAAASUVORK5C\n",
       "YII=\n",
       "\" style=\"display:inline;vertical-align:middle;\" /></a> <a class=\"ProveItLink\" href=\"../__pv_it/demonstrations/d73d8230e8c3240919adbed71e4c04257f20da250/proof.ipynb\" style=\"text-decoration: none\">&nbsp;&#x22A2;&nbsp;&nbsp;</a><a class=\"ProveItLink\" href=\"../__pv_it/demonstrations/f51fe37a5b1d9a1ca4dd2370134d2b4efe165f9d0/expr.ipynb\"><img src=\"data:image/png;base64,iVBORw0KGgoAAAANSUhEUgAAAEgAAAAUBAMAAADcj2b4AAAAMFBMVEX///9ERES6uroQEBAyMjLc\n",
       "3NyYmJgiIiJmZmaqqqp2dnbMzMxUVFSIiIju7u4AAAAd7oVFAAAAAXRSTlMAQObYZgAAAAlwSFlz\n",
       "AAAOxAAADsQBlSsOGwAAATxJREFUKM9jYMALJgYwrLrFQEDNBQa2C0wCeNUkJjAwMG9g+IpPzcUJ\n",
       "QCL+AYMlNskp9ibihWYMm0FqGPY/YCjDasJpBhYGBwZOqQcQRbbYFHUwMFzjAhrDBFIFtO4nNkVH\n",
       "GfgEHoIY3CcCMBzOK15eAqIfMHBsOA0WYT3zgPcC0wEkNUy+D2DMPdwNEAYrA8OqG0Dht3derwL7\n",
       "IwSuhkGO8QGqCxp4z3IUgBiucCHOBbmoatgC2P7xJIBYDnAxFjB7oyAQBIAFuBk4ILLc5uXl5YVg\n",
       "5k0uBQY+VLOYL4ApPng88gkEMjDwBKAo0g/gAzuzACbAs+EoA8N7ZCUPFQ4zcIFZd2FCO5iAAXAc\n",
       "WdH8fc0MmhDnToAFAMsDhsCJyIpe3OVsg8jyHdSDBKqhs6DwZykc6YdpISRaMAAAUgJPzLNJij4A\n",
       "AAAASUVORK5CYII=\n",
       "\" style=\"display:inline;vertical-align:middle;\" /></a></span>"
      ],
      "text/plain": [
       "{x in Integer, x <= 0} |- x in IntegerNonPos"
      ]
     },
     "metadata": {},
     "output_type": "display_data"
    }
   ],
   "source": [
    "InSet(x, IntegerNonPos).prove(assumptions=[InSet(x, Integer), LessEq(x, zero)])"
   ]
  },
  {
   "cell_type": "code",
   "execution_count": 55,
   "metadata": {},
   "outputs": [
    {
     "data": {
      "text/html": [
       "<span style=\"font-size:20px;\"><a class=\"ProveItLink\" href=\"../../natural_numbers/__pv_it/theorems/eeefdffd3aa81290285f57914cfcea6647727dd80/expr.ipynb\"><img src=\"data:image/png;base64,iVBORw0KGgoAAAANSUhEUgAAAEAAAAATBAMAAADSXRa0AAAAMFBMVEX///9ERES6uroQEBAyMjLc\n",
       "3NyYmJgiIiJmZmaqqqp2dnbMzMxUVFSIiIju7u4AAAAd7oVFAAAAAXRSTlMAQObYZgAAAAlwSFlz\n",
       "AAAOxAAADsQBlSsOGwAAAO5JREFUKM9jYMAHGhgIAAHyFPDVC/oxcNkb4TaBcYIOA8N7PFbwlHIl\n",
       "MDAzcAgKGgqKYVUwkcGVgR2LCRfLyx3ACsIuhGBToHIPZkLAad4FCAVv77xeNQFIs/rBrQhgZBBC\n",
       "KGjgPctRAKRZAhAKuBueP4eFJFsA2z+eBJAChCMDGDI5hWE8bgYOsMsYNpcDgQBUAc+DwwjHMV8A\n",
       "Uw+RTeA78ByhQD+A7wGQYkdWwLCXEcZ7qHCYgQvE4L0AD+oNQN5GGG/+vmYGTTDLEybEAvJ1C4z3\n",
       "4i5n2wQw643QA4iz/Q2B5BMscaAlDglqFAAASi0zkHb1wmgAAAAASUVORK5CYII=\n",
       "\" style=\"display:inline;vertical-align:middle;\" /></a> <a class=\"ProveItLink\" href=\"../__pv_it/demonstrations/66f26ca200d35b4816dee37a887b8ab013ee08a80/proof.ipynb\" style=\"text-decoration: none\">&nbsp;&#x22A2;&nbsp;&nbsp;</a><a class=\"ProveItLink\" href=\"../__pv_it/theorems/d4ff151c606fc682fa695e07d71754c7013cf0770/expr.ipynb\"><img src=\"data:image/png;base64,iVBORw0KGgoAAAANSUhEUgAAAEgAAAAVCAMAAADSI1hcAAAAOVBMVEX///82NjYbGxsSEhJERES6\n",
       "uroQEBAyMjLc3NyYmJgiIiJmZmaqqqp2dnbMzMxUVFSIiIju7u4AAABAaMz/AAAAAXRSTlMAQObY\n",
       "ZgAAAAlwSFlzAAAOxAAADsQBlSsOGwAAATxJREFUOMutVIuOhCAM7N2VZ3n//8deQVYxwq0br1ES\n",
       "sTNk2ikATyLD/4QXbfXJP+PRsa4mAQh8RBR1XWXgpegHPKIJ0qUWSrqbIKdkkQqtRWkACGv88Gsg\n",
       "NCJrbhIljFWBak/f2rAbkUw3iYg61r805F7fTVpxn9SVsRu8Svv+wibtXbET18NadXIeBWgCm6K4\n",
       "Z9b2x1VDVLqalrGBXh94/GdDUvvKKcUcvD9kajXzPmN3uJsVl09JMQHZfUfNFDvfTNwzJgmGUYZL\n",
       "Hw8rzNJOrXdiklDLRydokLbHMELJ9Rn9c+LPfsqTEeQ9jcOELZpUbZCPo+zESKEz5LK6m1BAlLWL\n",
       "g4xLT7jvYmt9tKtxLCETE4nR5MpdW98sodGtrp5MfL4jc4LmiGIsqpCoJE8EXwHoP71scByR9/EL\n",
       "b7EL3KnyzoUAAAAASUVORK5CYII=\n",
       "\" style=\"display:inline;vertical-align:middle;\" /></a></span>"
      ],
      "text/plain": [
       "{x in NaturalPos} |- x in IntegerNonZero"
      ]
     },
     "metadata": {},
     "output_type": "display_data"
    }
   ],
   "source": [
    "InSet(x, IntegerNonZero).prove(assumptions=[InSet(x, NaturalPos)])"
   ]
  },
  {
   "cell_type": "code",
   "execution_count": 56,
   "metadata": {},
   "outputs": [
    {
     "data": {
      "text/html": [
       "<span style=\"font-size:20px;\"><a class=\"ProveItLink\" href=\"../__pv_it/theorems/d4ff151c606fc682fa695e07d71754c7013cf0770/expr.ipynb\"><img src=\"data:image/png;base64,iVBORw0KGgoAAAANSUhEUgAAAEgAAAAVCAMAAADSI1hcAAAAOVBMVEX///82NjYbGxsSEhJERES6\n",
       "uroQEBAyMjLc3NyYmJgiIiJmZmaqqqp2dnbMzMxUVFSIiIju7u4AAABAaMz/AAAAAXRSTlMAQObY\n",
       "ZgAAAAlwSFlzAAAOxAAADsQBlSsOGwAAATxJREFUOMutVIuOhCAM7N2VZ3n//8deQVYxwq0br1ES\n",
       "sTNk2ikATyLD/4QXbfXJP+PRsa4mAQh8RBR1XWXgpegHPKIJ0qUWSrqbIKdkkQqtRWkACGv88Gsg\n",
       "NCJrbhIljFWBak/f2rAbkUw3iYg61r805F7fTVpxn9SVsRu8Svv+wibtXbET18NadXIeBWgCm6K4\n",
       "Z9b2x1VDVLqalrGBXh94/GdDUvvKKcUcvD9kajXzPmN3uJsVl09JMQHZfUfNFDvfTNwzJgmGUYZL\n",
       "Hw8rzNJOrXdiklDLRydokLbHMELJ9Rn9c+LPfsqTEeQ9jcOELZpUbZCPo+zESKEz5LK6m1BAlLWL\n",
       "g4xLT7jvYmt9tKtxLCETE4nR5MpdW98sodGtrp5MfL4jc4LmiGIsqpCoJE8EXwHoP71scByR9/EL\n",
       "b7EL3KnyzoUAAAAASUVORK5CYII=\n",
       "\" style=\"display:inline;vertical-align:middle;\" /></a> <a class=\"ProveItLink\" href=\"../__pv_it/demonstrations/ec319b1809e0090a54357712a4d7313be136cba80/proof.ipynb\" style=\"text-decoration: none\">&nbsp;&#x22A2;&nbsp;&nbsp;</a><a class=\"ProveItLink\" href=\"../__pv_it/theorems/9dfd51fc82a5dda1e85f06fc33528e3db8c0b6dc0/expr.ipynb\"><img src=\"data:image/png;base64,iVBORw0KGgoAAAANSUhEUgAAADMAAAAQBAMAAABJt1qBAAAAMFBMVEX///9ERES6uroQEBAyMjLc\n",
       "3NyYmJgiIiJmZmaqqqp2dnbMzMxUVFSIiIju7u4AAAAd7oVFAAAAAXRSTlMAQObYZgAAAAlwSFlz\n",
       "AAAOxAAADsQBlSsOGwAAAN1JREFUGNNjYMAEU+xNxAvNGLCBi6cZWBgcsEp1MDBc45qAVeooA5/A\n",
       "Q1QhXvHyEhD9gIFjw2kUGSbfBzDmHu4GEPX2zutVYIND4DIMcoxgdgPvWY4CEMMVLsO5IBdEsQWw\n",
       "/eNJALEQzoU6nZuBAyLGbV5eXl4IZt7kUmDgAzGYL4D5fAIwTXwCgQwMPAFAln4AH9jSApgUz4aj\n",
       "DAzvGRgeKhxm4AKL3IVJ7WACOv04A8P8fc0MmhDLYWEjx/KAIXAiA8OLu5xtEDG+g3oQrxs6Cwp/\n",
       "lkINjoWQgIICAM0UMqoFj6RNAAAAAElFTkSuQmCC\n",
       "\" style=\"display:inline;vertical-align:middle;\" /></a></span>"
      ],
      "text/plain": [
       "{x in IntegerNonZero} |- x in Integer"
      ]
     },
     "metadata": {},
     "output_type": "display_data"
    }
   ],
   "source": [
    "InSet(x, Integer).prove(assumptions=[InSet(x, IntegerNonZero)])"
   ]
  },
  {
   "cell_type": "code",
   "execution_count": 57,
   "metadata": {},
   "outputs": [
    {
     "data": {
      "text/html": [
       "<span style=\"font-size:20px;\"><a class=\"ProveItLink\" href=\"../__pv_it/demonstrations/72d5b8e725d24a9137d7086f16df0a6b6bf0a0d50/expr.ipynb\"><img src=\"data:image/png;base64,iVBORw0KGgoAAAANSUhEUgAAAD8AAAAQBAMAAABTi7oPAAAAMFBMVEX///9ERES6uroQEBAyMjLc\n",
       "3NyYmJgiIiJmZmaqqqp2dnbMzMxUVFSIiIju7u4AAAAd7oVFAAAAAXRSTlMAQObYZgAAAAlwSFlz\n",
       "AAAOxAAADsQBlSsOGwAAAOVJREFUKM9jYMAEU+xNxAvNGHCDi6cZWBgc8CjoYGC4xjWBYaMgEARg\n",
       "U3CUgU/gITYJXvHyEhD9gIFjw2ks8ky+D2DMPdwNCPG3d16vmgBihMDlGeQYEWyGBt6zHAUghitc\n",
       "iHNBLkKeLYDtH08CiIXwGIonuRk4IDxu8/Ly8kIw8yaXAgMfQgnzBTDFJwAT4BMIZGDgQYSAfgAf\n",
       "2EkFMAGeDUcZGN7DeA8VDjNwgVl3YUI7mICePA7jzd/XzKAJcdoEmCdZHjAEToQpeHGXsw0iw3dQ\n",
       "DxJghs6Cwp+lsAXlQkhQowAA+CAz79dtbnIAAAAASUVORK5CYII=\n",
       "\" style=\"display:inline;vertical-align:middle;\" /></a> <a class=\"ProveItLink\" href=\"../__pv_it/demonstrations/49d60da89b0b9ca2a115c486843ca62a6d4f6b9b0/proof.ipynb\" style=\"text-decoration: none\">&nbsp;&#x22A2;&nbsp;&nbsp;</a><a class=\"ProveItLink\" href=\"../__pv_it/theorems/9dfd51fc82a5dda1e85f06fc33528e3db8c0b6dc0/expr.ipynb\"><img src=\"data:image/png;base64,iVBORw0KGgoAAAANSUhEUgAAADMAAAAQBAMAAABJt1qBAAAAMFBMVEX///9ERES6uroQEBAyMjLc\n",
       "3NyYmJgiIiJmZmaqqqp2dnbMzMxUVFSIiIju7u4AAAAd7oVFAAAAAXRSTlMAQObYZgAAAAlwSFlz\n",
       "AAAOxAAADsQBlSsOGwAAAN1JREFUGNNjYMAEU+xNxAvNGLCBi6cZWBgcsEp1MDBc45qAVeooA5/A\n",
       "Q1QhXvHyEhD9gIFjw2kUGSbfBzDmHu4GEPX2zutVYIND4DIMcoxgdgPvWY4CEMMVLsO5IBdEsQWw\n",
       "/eNJALEQzoU6nZuBAyLGbV5eXl4IZt7kUmDgAzGYL4D5fAIwTXwCgQwMPAFAln4AH9jSApgUz4aj\n",
       "DAzvGRgeKhxm4AKL3IVJ7WACOv04A8P8fc0MmhDLYWEjx/KAIXAiA8OLu5xtEDG+g3oQrxs6Cwp/\n",
       "lkINjoWQgIICAM0UMqoFj6RNAAAAAElFTkSuQmCC\n",
       "\" style=\"display:inline;vertical-align:middle;\" /></a></span>"
      ],
      "text/plain": [
       "{x in IntegerNeg} |- x in Integer"
      ]
     },
     "metadata": {},
     "output_type": "display_data"
    }
   ],
   "source": [
    "InSet(x, Integer).prove(assumptions=[InSet(x, IntegerNeg)])"
   ]
  },
  {
   "cell_type": "code",
   "execution_count": 58,
   "metadata": {},
   "outputs": [
    {
     "data": {
      "text/html": [
       "<span style=\"font-size:20px;\"><a class=\"ProveItLink\" href=\"../__pv_it/demonstrations/72d5b8e725d24a9137d7086f16df0a6b6bf0a0d50/expr.ipynb\"><img src=\"data:image/png;base64,iVBORw0KGgoAAAANSUhEUgAAAD8AAAAQBAMAAABTi7oPAAAAMFBMVEX///9ERES6uroQEBAyMjLc\n",
       "3NyYmJgiIiJmZmaqqqp2dnbMzMxUVFSIiIju7u4AAAAd7oVFAAAAAXRSTlMAQObYZgAAAAlwSFlz\n",
       "AAAOxAAADsQBlSsOGwAAAOVJREFUKM9jYMAEU+xNxAvNGHCDi6cZWBgc8CjoYGC4xjWBYaMgEARg\n",
       "U3CUgU/gITYJXvHyEhD9gIFjw2ks8ky+D2DMPdwNCPG3d16vmgBihMDlGeQYEWyGBt6zHAUghitc\n",
       "iHNBLkKeLYDtH08CiIXwGIonuRk4IDxu8/Ly8kIw8yaXAgMfQgnzBTDFJwAT4BMIZGDgQYSAfgAf\n",
       "2EkFMAGeDUcZGN7DeA8VDjNwgVl3YUI7mICePA7jzd/XzKAJcdoEmCdZHjAEToQpeHGXsw0iw3dQ\n",
       "DxJghs6Cwp+lsAXlQkhQowAA+CAz79dtbnIAAAAASUVORK5CYII=\n",
       "\" style=\"display:inline;vertical-align:middle;\" /></a> <a class=\"ProveItLink\" href=\"../__pv_it/demonstrations/8056624a48734a5265face97a667cd0ed8b7573f0/proof.ipynb\" style=\"text-decoration: none\">&nbsp;&#x22A2;&nbsp;&nbsp;</a><a class=\"ProveItLink\" href=\"../__pv_it/theorems/d4ff151c606fc682fa695e07d71754c7013cf0770/expr.ipynb\"><img src=\"data:image/png;base64,iVBORw0KGgoAAAANSUhEUgAAAEgAAAAVCAMAAADSI1hcAAAAOVBMVEX///82NjYbGxsSEhJERES6\n",
       "uroQEBAyMjLc3NyYmJgiIiJmZmaqqqp2dnbMzMxUVFSIiIju7u4AAABAaMz/AAAAAXRSTlMAQObY\n",
       "ZgAAAAlwSFlzAAAOxAAADsQBlSsOGwAAATxJREFUOMutVIuOhCAM7N2VZ3n//8deQVYxwq0br1ES\n",
       "sTNk2ikATyLD/4QXbfXJP+PRsa4mAQh8RBR1XWXgpegHPKIJ0qUWSrqbIKdkkQqtRWkACGv88Gsg\n",
       "NCJrbhIljFWBak/f2rAbkUw3iYg61r805F7fTVpxn9SVsRu8Svv+wibtXbET18NadXIeBWgCm6K4\n",
       "Z9b2x1VDVLqalrGBXh94/GdDUvvKKcUcvD9kajXzPmN3uJsVl09JMQHZfUfNFDvfTNwzJgmGUYZL\n",
       "Hw8rzNJOrXdiklDLRydokLbHMELJ9Rn9c+LPfsqTEeQ9jcOELZpUbZCPo+zESKEz5LK6m1BAlLWL\n",
       "g4xLT7jvYmt9tKtxLCETE4nR5MpdW98sodGtrp5MfL4jc4LmiGIsqpCoJE8EXwHoP71scByR9/EL\n",
       "b7EL3KnyzoUAAAAASUVORK5CYII=\n",
       "\" style=\"display:inline;vertical-align:middle;\" /></a></span>"
      ],
      "text/plain": [
       "{x in IntegerNeg} |- x in IntegerNonZero"
      ]
     },
     "metadata": {},
     "output_type": "display_data"
    }
   ],
   "source": [
    "InSet(x, IntegerNonZero).prove(assumptions=[InSet(x, IntegerNeg)])"
   ]
  },
  {
   "cell_type": "code",
   "execution_count": 59,
   "metadata": {},
   "outputs": [
    {
     "data": {
      "text/html": [
       "<span style=\"font-size:20px;\"><a class=\"ProveItLink\" href=\"../__pv_it/demonstrations/72d5b8e725d24a9137d7086f16df0a6b6bf0a0d50/expr.ipynb\"><img src=\"data:image/png;base64,iVBORw0KGgoAAAANSUhEUgAAAD8AAAAQBAMAAABTi7oPAAAAMFBMVEX///9ERES6uroQEBAyMjLc\n",
       "3NyYmJgiIiJmZmaqqqp2dnbMzMxUVFSIiIju7u4AAAAd7oVFAAAAAXRSTlMAQObYZgAAAAlwSFlz\n",
       "AAAOxAAADsQBlSsOGwAAAOVJREFUKM9jYMAEU+xNxAvNGHCDi6cZWBgc8CjoYGC4xjWBYaMgEARg\n",
       "U3CUgU/gITYJXvHyEhD9gIFjw2ks8ky+D2DMPdwNCPG3d16vmgBihMDlGeQYEWyGBt6zHAUghitc\n",
       "iHNBLkKeLYDtH08CiIXwGIonuRk4IDxu8/Ly8kIw8yaXAgMfQgnzBTDFJwAT4BMIZGDgQYSAfgAf\n",
       "2EkFMAGeDUcZGN7DeA8VDjNwgVl3YUI7mICePA7jzd/XzKAJcdoEmCdZHjAEToQpeHGXsw0iw3dQ\n",
       "DxJghs6Cwp+lsAXlQkhQowAA+CAz79dtbnIAAAAASUVORK5CYII=\n",
       "\" style=\"display:inline;vertical-align:middle;\" /></a> <a class=\"ProveItLink\" href=\"../__pv_it/demonstrations/366d1ff26342467ed3fc8889fb5d786eab5ab4ca0/proof.ipynb\" style=\"text-decoration: none\">&nbsp;&#x22A2;&nbsp;&nbsp;</a><a class=\"ProveItLink\" href=\"../__pv_it/demonstrations/f51fe37a5b1d9a1ca4dd2370134d2b4efe165f9d0/expr.ipynb\"><img src=\"data:image/png;base64,iVBORw0KGgoAAAANSUhEUgAAAEgAAAAUBAMAAADcj2b4AAAAMFBMVEX///9ERES6uroQEBAyMjLc\n",
       "3NyYmJgiIiJmZmaqqqp2dnbMzMxUVFSIiIju7u4AAAAd7oVFAAAAAXRSTlMAQObYZgAAAAlwSFlz\n",
       "AAAOxAAADsQBlSsOGwAAATxJREFUKM9jYMALJgYwrLrFQEDNBQa2C0wCeNUkJjAwMG9g+IpPzcUJ\n",
       "QCL+AYMlNskp9ibihWYMm0FqGPY/YCjDasJpBhYGBwZOqQcQRbbYFHUwMFzjAhrDBFIFtO4nNkVH\n",
       "GfgEHoIY3CcCMBzOK15eAqIfMHBsOA0WYT3zgPcC0wEkNUy+D2DMPdwNEAYrA8OqG0Dht3derwL7\n",
       "IwSuhkGO8QGqCxp4z3IUgBiucCHOBbmoatgC2P7xJIBYDnAxFjB7oyAQBIAFuBk4ILLc5uXl5YVg\n",
       "5k0uBQY+VLOYL4ApPng88gkEMjDwBKAo0g/gAzuzACbAs+EoA8N7ZCUPFQ4zcIFZd2FCO5iAAXAc\n",
       "WdH8fc0MmhDnToAFAMsDhsCJyIpe3OVsg8jyHdSDBKqhs6DwZykc6YdpISRaMAAAUgJPzLNJij4A\n",
       "AAAASUVORK5CYII=\n",
       "\" style=\"display:inline;vertical-align:middle;\" /></a></span>"
      ],
      "text/plain": [
       "{x in IntegerNeg} |- x in IntegerNonPos"
      ]
     },
     "metadata": {},
     "output_type": "display_data"
    }
   ],
   "source": [
    "InSet(x, IntegerNonPos).prove(assumptions=[InSet(x, IntegerNeg)])"
   ]
  },
  {
   "cell_type": "code",
   "execution_count": 60,
   "metadata": {},
   "outputs": [
    {
     "data": {
      "text/html": [
       "<span style=\"font-size:20px;\"><a class=\"ProveItLink\" href=\"../__pv_it/demonstrations/f51fe37a5b1d9a1ca4dd2370134d2b4efe165f9d0/expr.ipynb\"><img src=\"data:image/png;base64,iVBORw0KGgoAAAANSUhEUgAAAEgAAAAUBAMAAADcj2b4AAAAMFBMVEX///9ERES6uroQEBAyMjLc\n",
       "3NyYmJgiIiJmZmaqqqp2dnbMzMxUVFSIiIju7u4AAAAd7oVFAAAAAXRSTlMAQObYZgAAAAlwSFlz\n",
       "AAAOxAAADsQBlSsOGwAAATxJREFUKM9jYMALJgYwrLrFQEDNBQa2C0wCeNUkJjAwMG9g+IpPzcUJ\n",
       "QCL+AYMlNskp9ibihWYMm0FqGPY/YCjDasJpBhYGBwZOqQcQRbbYFHUwMFzjAhrDBFIFtO4nNkVH\n",
       "GfgEHoIY3CcCMBzOK15eAqIfMHBsOA0WYT3zgPcC0wEkNUy+D2DMPdwNEAYrA8OqG0Dht3derwL7\n",
       "IwSuhkGO8QGqCxp4z3IUgBiucCHOBbmoatgC2P7xJIBYDnAxFjB7oyAQBIAFuBk4ILLc5uXl5YVg\n",
       "5k0uBQY+VLOYL4ApPng88gkEMjDwBKAo0g/gAzuzACbAs+EoA8N7ZCUPFQ4zcIFZd2FCO5iAAXAc\n",
       "WdH8fc0MmhDnToAFAMsDhsCJyIpe3OVsg8jyHdSDBKqhs6DwZykc6YdpISRaMAAAUgJPzLNJij4A\n",
       "AAAASUVORK5CYII=\n",
       "\" style=\"display:inline;vertical-align:middle;\" /></a> <a class=\"ProveItLink\" href=\"../__pv_it/demonstrations/4a181a1fd3fba26abe861b8c35a422dc453abe050/proof.ipynb\" style=\"text-decoration: none\">&nbsp;&#x22A2;&nbsp;&nbsp;</a><a class=\"ProveItLink\" href=\"../__pv_it/theorems/9dfd51fc82a5dda1e85f06fc33528e3db8c0b6dc0/expr.ipynb\"><img src=\"data:image/png;base64,iVBORw0KGgoAAAANSUhEUgAAADMAAAAQBAMAAABJt1qBAAAAMFBMVEX///9ERES6uroQEBAyMjLc\n",
       "3NyYmJgiIiJmZmaqqqp2dnbMzMxUVFSIiIju7u4AAAAd7oVFAAAAAXRSTlMAQObYZgAAAAlwSFlz\n",
       "AAAOxAAADsQBlSsOGwAAAN1JREFUGNNjYMAEU+xNxAvNGLCBi6cZWBgcsEp1MDBc45qAVeooA5/A\n",
       "Q1QhXvHyEhD9gIFjw2kUGSbfBzDmHu4GEPX2zutVYIND4DIMcoxgdgPvWY4CEMMVLsO5IBdEsQWw\n",
       "/eNJALEQzoU6nZuBAyLGbV5eXl4IZt7kUmDgAzGYL4D5fAIwTXwCgQwMPAFAln4AH9jSApgUz4aj\n",
       "DAzvGRgeKhxm4AKL3IVJ7WACOv04A8P8fc0MmhDLYWEjx/KAIXAiA8OLu5xtEDG+g3oQrxs6Cwp/\n",
       "lkINjoWQgIICAM0UMqoFj6RNAAAAAElFTkSuQmCC\n",
       "\" style=\"display:inline;vertical-align:middle;\" /></a></span>"
      ],
      "text/plain": [
       "{x in IntegerNonPos} |- x in Integer"
      ]
     },
     "metadata": {},
     "output_type": "display_data"
    }
   ],
   "source": [
    "InSet(x, Integer).prove(assumptions=[InSet(x, IntegerNonPos)])"
   ]
  },
  {
   "cell_type": "code",
   "execution_count": 61,
   "metadata": {},
   "outputs": [],
   "source": [
    "%end demonstrations"
   ]
  },
  {
   "cell_type": "code",
   "execution_count": null,
   "metadata": {},
   "outputs": [],
   "source": []
  }
 ],
 "metadata": {
  "kernelspec": {
   "display_name": "Python 3",
   "language": "python",
   "name": "python3"
  },
  "language_info": {
   "codemirror_mode": {
    "name": "ipython",
    "version": 3
   },
   "file_extension": ".py",
   "mimetype": "text/x-python",
   "name": "python",
   "nbconvert_exporter": "python",
   "pygments_lexer": "ipython3",
   "version": "3.7.3"
  }
 },
 "nbformat": 4,
 "nbformat_minor": 1
}
